{
 "cells": [
  {
   "cell_type": "code",
   "execution_count": 5,
   "id": "initial_id",
   "metadata": {
    "collapsed": true,
    "ExecuteTime": {
     "end_time": "2024-08-26T12:16:00.616819200Z",
     "start_time": "2024-08-26T12:15:51.397718500Z"
    }
   },
   "outputs": [],
   "source": [
    "import tkinter as tk\n",
    "from PIL import Image, ImageTk\n",
    "\n",
    "image = Image.open('output.png')\n",
    "#image =image.resize(300,300)\n",
    "\n",
    "root = tk.Tk()\n",
    "root.title(\"Label\")\n",
    "\n",
    "img = ImageTk.PhotoImage(image)\n",
    "label = tk.Label(root,text = 'first image', image = img)\n",
    "label.pack()\n",
    "\n",
    "root. mainloop()"
   ]
  },
  {
   "cell_type": "code",
   "execution_count": 6,
   "outputs": [],
   "source": [
    "import tkinter as tk\n",
    "\n",
    "root = tk.Tk()\n",
    "root.title(\"Label\")\n",
    "\n",
    "\n",
    "label = tk.Label(root,text = 'Name:')\n",
    "entry = tk.Entry(root)\n",
    "\n",
    "label.pack()\n",
    "entry.pack()\n",
    "\n",
    "root. mainloop()"
   ],
   "metadata": {
    "collapsed": false,
    "ExecuteTime": {
     "end_time": "2024-08-26T12:49:39.085699600Z",
     "start_time": "2024-08-26T12:49:29.642513600Z"
    }
   },
   "id": "ab3cc0cde6ff298f"
  }
 ],
 "metadata": {
  "kernelspec": {
   "display_name": "Python 3",
   "language": "python",
   "name": "python3"
  },
  "language_info": {
   "codemirror_mode": {
    "name": "ipython",
    "version": 2
   },
   "file_extension": ".py",
   "mimetype": "text/x-python",
   "name": "python",
   "nbconvert_exporter": "python",
   "pygments_lexer": "ipython2",
   "version": "2.7.6"
  }
 },
 "nbformat": 4,
 "nbformat_minor": 5
}
