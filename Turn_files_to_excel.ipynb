{
 "cells": [
  {
   "cell_type": "code",
   "execution_count": 1,
   "id": "702fa652-0594-4b87-9475-dd7e6a11d079",
   "metadata": {},
   "outputs": [
    {
     "name": "stdout",
     "output_type": "stream",
     "text": [
      "Python version\n",
      "3.9.7 (default, Sep 16 2021, 16:59:28) [MSC v.1916 64 bit (AMD64)]\n"
     ]
    }
   ],
   "source": [
    "import sys\n",
    "\n",
    "print(\"Python version\")\n",
    "print(sys.version)"
   ]
  },
  {
   "cell_type": "markdown",
   "id": "59ca4a62-6d77-4717-86cf-0f4477409636",
   "metadata": {},
   "source": [
    "## Import libraries"
   ]
  },
  {
   "cell_type": "code",
   "execution_count": 1,
   "id": "34feb292-f5a4-45b9-aa07-22571998d2e1",
   "metadata": {},
   "outputs": [],
   "source": [
    "from pathlib import Path\n",
    "import pandas as pd\n",
    "import xlwings as xw"
   ]
  },
  {
   "cell_type": "markdown",
   "id": "4704d2c0-afa5-43dd-9cf8-66a904d21c54",
   "metadata": {},
   "source": [
    "## Create paths"
   ]
  },
  {
   "cell_type": "code",
   "execution_count": 2,
   "id": "fb62be9c-0730-4496-bdc1-36e8b02b9758",
   "metadata": {},
   "outputs": [],
   "source": [
    "current_dir = Path.cwd()\n",
    "input_dir = current_dir/ \"L806\"\n",
    "output_dir = current_dir/ \"OUTPUT_L806_test\"\n",
    "output_dir.mkdir(exist_ok = True)\n",
    "files = list(input_dir.rglob(\"*\"))"
   ]
  },
  {
   "cell_type": "code",
   "execution_count": 3,
   "id": "7066a672-02bc-4df3-ac05-45f450785d8d",
   "metadata": {},
   "outputs": [],
   "source": [
    "keys = set (file.stem for file in files)"
   ]
  },
  {
   "cell_type": "code",
   "execution_count": 4,
   "id": "e511afc1-dce3-4ef6-8e29-70674fa7427a",
   "metadata": {},
   "outputs": [
    {
     "name": "stdout",
     "output_type": "stream",
     "text": [
      "{'T4', 'T22', 'T34', 'T28', 'T20', 'T24', 'T36', 'T2', 'T6', 'T8', 'T14', 'T32', 'T1', 'T40', 'T12', 'T26', 'T30', 'T38', 'T10', 'T16', 'T18'}\n"
     ]
    }
   ],
   "source": [
    "print (keys)"
   ]
  },
  {
   "cell_type": "code",
   "execution_count": 5,
   "id": "9ee4a2a3-2ac2-4b75-bd88-08959364eab6",
   "metadata": {},
   "outputs": [
    {
     "name": "stdout",
     "output_type": "stream",
     "text": [
      "file.stem =  T4\n",
      "key =  T4\n",
      "file.stem =  T22\n",
      "key =  T22\n",
      "file.stem =  T34\n",
      "key =  T34\n",
      "file.stem =  T28\n",
      "key =  T28\n",
      "file.stem =  T20\n",
      "key =  T20\n",
      "file.stem =  T24\n",
      "key =  T24\n",
      "file.stem =  T36\n",
      "key =  T36\n",
      "file.stem =  T2\n",
      "key =  T2\n",
      "file.stem =  T6\n",
      "key =  T6\n",
      "file.stem =  T8\n",
      "key =  T8\n",
      "file.stem =  T14\n",
      "key =  T14\n",
      "file.stem =  T32\n",
      "key =  T32\n",
      "file.stem =  T1\n",
      "key =  T1\n",
      "file.stem =  T40\n",
      "key =  T40\n",
      "file.stem =  T12\n",
      "key =  T12\n",
      "file.stem =  T26\n",
      "key =  T26\n",
      "file.stem =  T30\n",
      "key =  T30\n",
      "file.stem =  T38\n",
      "key =  T38\n",
      "file.stem =  T10\n",
      "key =  T10\n",
      "file.stem =  T16\n",
      "key =  T16\n",
      "file.stem =  T18\n",
      "key =  T18\n"
     ]
    }
   ],
   "source": [
    "excel_template = current_dir/ \"Template.xlsx\"\n",
    "\n",
    "with xw.App (visible = False) as app:\n",
    "    for key in keys:\n",
    "        wb = app.books.open(excel_template)\n",
    "        for file in files:\n",
    "            if file.stem == key:\n",
    "                print (\"file.stem = \", file.stem)\n",
    "                print (\"key = \", key)\n",
    "                df = pd.read_csv(file, delimiter=\"\\s+\", skiprows = 8, skipfooter = 1, engine = 'python', header = None, names = [\"time\", \"pressure\"])\n",
    "                wb.sheets[0].range(\"A1\").options(index=False).value = df\n",
    "        wb.save(output_dir/f\"{key}.xlsx\")"
   ]
  },
  {
   "cell_type": "code",
   "execution_count": null,
   "id": "30bd0122-67e0-4585-aeaf-fda237da23e2",
   "metadata": {},
   "outputs": [],
   "source": []
  }
 ],
 "metadata": {
  "kernelspec": {
   "display_name": "Python 3 (ipykernel)",
   "language": "python",
   "name": "python3"
  },
  "language_info": {
   "codemirror_mode": {
    "name": "ipython",
    "version": 3
   },
   "file_extension": ".py",
   "mimetype": "text/x-python",
   "name": "python",
   "nbconvert_exporter": "python",
   "pygments_lexer": "ipython3",
   "version": "3.9.7"
  }
 },
 "nbformat": 4,
 "nbformat_minor": 5
}
