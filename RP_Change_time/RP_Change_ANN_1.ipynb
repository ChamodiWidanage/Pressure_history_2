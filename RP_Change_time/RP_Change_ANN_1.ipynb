{
 "cells": [
  {
   "cell_type": "markdown",
   "source": [
    "# Part1 - Data preprocessing"
   ],
   "metadata": {
    "collapsed": false
   }
  },
  {
   "cell_type": "code",
   "execution_count": 1,
   "metadata": {
    "colab": {},
    "colab_type": "code",
    "id": "lxChR1Rk-umf",
    "ExecuteTime": {
     "end_time": "2024-09-01T23:48:59.203071600Z",
     "start_time": "2024-09-01T23:48:54.007035700Z"
    }
   },
   "outputs": [],
   "source": [
    "import numpy as np\n",
    "import pandas as pd\n",
    "import tensorflow as tf\n",
    "import matplotlib.pyplot as plt\n",
    "from keras.models import load_model"
   ]
  },
  {
   "cell_type": "code",
   "execution_count": 2,
   "metadata": {
    "colab": {},
    "colab_type": "code",
    "id": "B9CV13Co_HHM",
    "ExecuteTime": {
     "end_time": "2024-09-01T23:49:06.132196100Z",
     "start_time": "2024-09-01T23:49:05.108139600Z"
    }
   },
   "outputs": [
    {
     "name": "stdout",
     "output_type": "stream",
     "text": [
      "<class 'pandas.core.frame.DataFrame'>\n",
      "RangeIndex: 1748 entries, 0 to 1747\n",
      "Data columns (total 4 columns):\n",
      " #   Column             Non-Null Count  Dtype  \n",
      "---  ------             --------------  -----  \n",
      " 0   Mass               1748 non-null   float64\n",
      " 1   Standoff distance  1748 non-null   float64\n",
      " 2   Angle              1748 non-null   int64  \n",
      " 3   Change time        1748 non-null   float64\n",
      "dtypes: float64(3), int64(1)\n",
      "memory usage: 54.8 KB\n"
     ]
    }
   ],
   "source": [
    "dataset = pd.read_excel('RP_change_all.xlsx')\n",
    "dataset.info()"
   ]
  },
  {
   "cell_type": "code",
   "execution_count": 3,
   "metadata": {
    "ExecuteTime": {
     "end_time": "2024-09-01T23:49:15.096277800Z",
     "start_time": "2024-09-01T23:49:15.042242500Z"
    }
   },
   "outputs": [
    {
     "name": "stdout",
     "output_type": "stream",
     "text": [
      "(1748, 3) (1748,)\n"
     ]
    }
   ],
   "source": [
    "y = dataset['Change time']\n",
    "X = dataset.drop(['Change time'], axis=1)\n",
    "print(X.shape, y.shape)"
   ]
  },
  {
   "cell_type": "code",
   "execution_count": 4,
   "metadata": {
    "ExecuteTime": {
     "end_time": "2024-09-01T23:49:16.911133200Z",
     "start_time": "2024-09-01T23:49:16.875556800Z"
    }
   },
   "outputs": [],
   "source": [
    "# convert to numpy array\n",
    "X = np.array(X)\n",
    "y = np.array(y)"
   ]
  },
  {
   "cell_type": "code",
   "execution_count": 5,
   "metadata": {
    "colab": {},
    "colab_type": "code",
    "id": "L5edeb2r_agx",
    "ExecuteTime": {
     "end_time": "2024-09-01T23:49:19.613725Z",
     "start_time": "2024-09-01T23:49:18.849534500Z"
    }
   },
   "outputs": [],
   "source": [
    "from sklearn.model_selection import train_test_split\n",
    "X_train, X_test, y_train, y_test = train_test_split(X,\n",
    "                                                    y,\n",
    "                                                    test_size = 0.3,\n",
    "                                                    random_state = 0)"
   ]
  },
  {
   "cell_type": "code",
   "execution_count": 6,
   "metadata": {
    "colab": {},
    "colab_type": "code",
    "id": "L5edeb2r_agx",
    "ExecuteTime": {
     "end_time": "2024-09-01T23:49:21.079617Z",
     "start_time": "2024-09-01T23:49:21.046098Z"
    }
   },
   "outputs": [],
   "source": [
    "X_val, X_test, y_val, y_test = train_test_split(X_test,\n",
    "                                                y_test,\n",
    "                                                test_size = 0.5,\n",
    "                                                random_state = 0)"
   ]
  },
  {
   "cell_type": "markdown",
   "metadata": {
    "colab_type": "text",
    "id": "_mSLlAT9_eyI"
   },
   "source": [
    "# Part 2 - Building the ANN"
   ]
  },
  {
   "cell_type": "code",
   "execution_count": 7,
   "metadata": {
    "colab": {},
    "colab_type": "code",
    "id": "J6Hd97Ls__Nz",
    "ExecuteTime": {
     "end_time": "2024-08-02T04:21:45.822741200Z",
     "start_time": "2024-08-02T04:21:45.689657500Z"
    }
   },
   "outputs": [],
   "source": [
    "ann = tf.keras.models.Sequential()"
   ]
  },
  {
   "cell_type": "code",
   "execution_count": 8,
   "metadata": {
    "colab": {},
    "colab_type": "code",
    "id": "ksO_Vv40AHix",
    "ExecuteTime": {
     "end_time": "2024-08-02T04:21:47.627294Z",
     "start_time": "2024-08-02T04:21:47.470597900Z"
    }
   },
   "outputs": [],
   "source": [
    "ann.add(tf.keras.layers.Dense(units=20,\n",
    "                              input_shape=(X_train.shape[1],),\n",
    "                              activation='leaky_relu'))\n",
    "ann.add(tf.keras.layers.Dense(units=15,\n",
    "                              activation='leaky_relu'))\n",
    "ann.add(tf.keras.layers.Dense(units=10,\n",
    "                              activation='leaky_relu'))"
   ]
  },
  {
   "cell_type": "code",
   "execution_count": 9,
   "metadata": {
    "colab": {},
    "colab_type": "code",
    "id": "YFATpzsUAkLL",
    "ExecuteTime": {
     "end_time": "2024-08-02T04:21:49.071376700Z",
     "start_time": "2024-08-02T04:21:48.944807700Z"
    }
   },
   "outputs": [],
   "source": [
    "ann.add(tf.keras.layers.Dense(units=1,\n",
    "                              activation='linear'))"
   ]
  },
  {
   "cell_type": "code",
   "execution_count": 10,
   "metadata": {
    "ExecuteTime": {
     "end_time": "2024-08-02T04:21:50.533499500Z",
     "start_time": "2024-08-02T04:21:50.422431700Z"
    }
   },
   "outputs": [
    {
     "name": "stdout",
     "output_type": "stream",
     "text": [
      "Model: \"sequential\"\n",
      "_________________________________________________________________\n",
      " Layer (type)                Output Shape              Param #   \n",
      "=================================================================\n",
      " dense (Dense)               (None, 20)                80        \n",
      "                                                                 \n",
      " dense_1 (Dense)             (None, 15)                315       \n",
      "                                                                 \n",
      " dense_2 (Dense)             (None, 10)                160       \n",
      "                                                                 \n",
      " dense_3 (Dense)             (None, 1)                 11        \n",
      "                                                                 \n",
      "=================================================================\n",
      "Total params: 566\n",
      "Trainable params: 566\n",
      "Non-trainable params: 0\n",
      "_________________________________________________________________\n"
     ]
    }
   ],
   "source": [
    "ann.summary()"
   ]
  },
  {
   "cell_type": "markdown",
   "metadata": {
    "colab_type": "text",
    "id": "fq7e4fF6A1yy"
   },
   "source": [
    "# Part 3 - Training the ANN"
   ]
  },
  {
   "cell_type": "code",
   "execution_count": 11,
   "metadata": {
    "colab": {},
    "colab_type": "code",
    "id": "pesgbWlCAtB4",
    "ExecuteTime": {
     "end_time": "2024-08-02T04:21:53.689751600Z",
     "start_time": "2024-08-02T04:21:53.626965900Z"
    }
   },
   "outputs": [],
   "source": [
    "from tensorflow.keras.optimizers import Adam\n",
    "opt = Adam(learning_rate=0.01)\n",
    "ann.compile(optimizer = opt,\n",
    "            loss = 'mean_squared_error',\n",
    "            metrics = ['mae'])"
   ]
  },
  {
   "cell_type": "code",
   "execution_count": 12,
   "metadata": {
    "ExecuteTime": {
     "end_time": "2024-08-02T04:21:56.775135900Z",
     "start_time": "2024-08-02T04:21:56.711847600Z"
    }
   },
   "outputs": [],
   "source": [
    "# protects from unnecessary further training of the model if a particular metric does not continue to improve over a number of n epochs. In such a case, the model training would be automatically aborted.\n",
    "from keras.callbacks import EarlyStopping\n",
    "es = EarlyStopping(monitor='val_loss',\n",
    "                   mode='min',\n",
    "                   patience=50,\n",
    "                   restore_best_weights = True)"
   ]
  },
  {
   "cell_type": "code",
   "execution_count": 13,
   "metadata": {
    "colab": {
     "base_uri": "https://localhost:8080/",
     "height": 1000
    },
    "colab_type": "code",
    "id": "c_vV-tiiA5zn",
    "outputId": "4a2b6ee6-ed75-4698-9069-b250e613803f",
    "ExecuteTime": {
     "end_time": "2024-08-02T04:22:31.190177500Z",
     "start_time": "2024-08-02T04:21:59.134506700Z"
    }
   },
   "outputs": [
    {
     "name": "stdout",
     "output_type": "stream",
     "text": [
      "Epoch 1/500\n",
      "41/41 [==============================] - 2s 23ms/step - loss: 526.5142 - mae: 15.1881 - val_loss: 35.1750 - val_mae: 4.6706\n",
      "Epoch 2/500\n",
      "41/41 [==============================] - 0s 4ms/step - loss: 26.6016 - mae: 3.7945 - val_loss: 20.1393 - val_mae: 3.2336\n",
      "Epoch 3/500\n",
      "41/41 [==============================] - 0s 4ms/step - loss: 19.2465 - mae: 3.1193 - val_loss: 22.0468 - val_mae: 3.5377\n",
      "Epoch 4/500\n",
      "41/41 [==============================] - 0s 4ms/step - loss: 17.4421 - mae: 2.8918 - val_loss: 29.6634 - val_mae: 4.3252\n",
      "Epoch 5/500\n",
      "41/41 [==============================] - 0s 4ms/step - loss: 17.0195 - mae: 2.9310 - val_loss: 15.6987 - val_mae: 2.7831\n",
      "Epoch 6/500\n",
      "41/41 [==============================] - 0s 4ms/step - loss: 14.7478 - mae: 2.6419 - val_loss: 14.3294 - val_mae: 2.6864\n",
      "Epoch 7/500\n",
      "41/41 [==============================] - 0s 3ms/step - loss: 14.3961 - mae: 2.6656 - val_loss: 14.1279 - val_mae: 2.6544\n",
      "Epoch 8/500\n",
      "41/41 [==============================] - 0s 4ms/step - loss: 13.4154 - mae: 2.5576 - val_loss: 12.3381 - val_mae: 2.4315\n",
      "Epoch 9/500\n",
      "41/41 [==============================] - 0s 4ms/step - loss: 11.8520 - mae: 2.3708 - val_loss: 11.8217 - val_mae: 2.3630\n",
      "Epoch 10/500\n",
      "41/41 [==============================] - 0s 4ms/step - loss: 11.8888 - mae: 2.4325 - val_loss: 11.2712 - val_mae: 2.3662\n",
      "Epoch 11/500\n",
      "41/41 [==============================] - 0s 4ms/step - loss: 11.1256 - mae: 2.3348 - val_loss: 11.6922 - val_mae: 2.4927\n",
      "Epoch 12/500\n",
      "41/41 [==============================] - 0s 3ms/step - loss: 10.3354 - mae: 2.2610 - val_loss: 11.8597 - val_mae: 2.4914\n",
      "Epoch 13/500\n",
      "41/41 [==============================] - 0s 4ms/step - loss: 10.1612 - mae: 2.2427 - val_loss: 9.3978 - val_mae: 2.0877\n",
      "Epoch 14/500\n",
      "41/41 [==============================] - 0s 4ms/step - loss: 9.1039 - mae: 2.1238 - val_loss: 9.3974 - val_mae: 2.2577\n",
      "Epoch 15/500\n",
      "41/41 [==============================] - 0s 4ms/step - loss: 12.8906 - mae: 2.5892 - val_loss: 12.2944 - val_mae: 2.6210\n",
      "Epoch 16/500\n",
      "41/41 [==============================] - 0s 4ms/step - loss: 10.1319 - mae: 2.2526 - val_loss: 13.0353 - val_mae: 2.6832\n",
      "Epoch 17/500\n",
      "41/41 [==============================] - 0s 4ms/step - loss: 9.5698 - mae: 2.2132 - val_loss: 9.3389 - val_mae: 2.1125\n",
      "Epoch 18/500\n",
      "41/41 [==============================] - 0s 4ms/step - loss: 9.3397 - mae: 2.1775 - val_loss: 9.4586 - val_mae: 2.1496\n",
      "Epoch 19/500\n",
      "41/41 [==============================] - 0s 5ms/step - loss: 8.6561 - mae: 2.1302 - val_loss: 8.3217 - val_mae: 2.0025\n",
      "Epoch 20/500\n",
      "41/41 [==============================] - 0s 9ms/step - loss: 8.0513 - mae: 2.0035 - val_loss: 7.5154 - val_mae: 1.9363\n",
      "Epoch 21/500\n",
      "41/41 [==============================] - 0s 4ms/step - loss: 7.1791 - mae: 1.9374 - val_loss: 9.3845 - val_mae: 2.1260\n",
      "Epoch 22/500\n",
      "41/41 [==============================] - 0s 4ms/step - loss: 7.5736 - mae: 1.9698 - val_loss: 10.9236 - val_mae: 2.3993\n",
      "Epoch 23/500\n",
      "41/41 [==============================] - 0s 4ms/step - loss: 9.0768 - mae: 2.1599 - val_loss: 6.9453 - val_mae: 1.9779\n",
      "Epoch 24/500\n",
      "41/41 [==============================] - 1s 20ms/step - loss: 6.2851 - mae: 1.7538 - val_loss: 6.4876 - val_mae: 1.7048\n",
      "Epoch 25/500\n",
      "41/41 [==============================] - 0s 7ms/step - loss: 8.7086 - mae: 2.1300 - val_loss: 8.4671 - val_mae: 2.0571\n",
      "Epoch 26/500\n",
      "41/41 [==============================] - 0s 4ms/step - loss: 7.2221 - mae: 1.9019 - val_loss: 6.6394 - val_mae: 1.6717\n",
      "Epoch 27/500\n",
      "41/41 [==============================] - 0s 4ms/step - loss: 6.9082 - mae: 1.8067 - val_loss: 5.6535 - val_mae: 1.7258\n",
      "Epoch 28/500\n",
      "41/41 [==============================] - 0s 4ms/step - loss: 5.4863 - mae: 1.6376 - val_loss: 5.5469 - val_mae: 1.6478\n",
      "Epoch 29/500\n",
      "41/41 [==============================] - 0s 4ms/step - loss: 5.8759 - mae: 1.6857 - val_loss: 5.2044 - val_mae: 1.5528\n",
      "Epoch 30/500\n",
      "41/41 [==============================] - 0s 4ms/step - loss: 5.9140 - mae: 1.7146 - val_loss: 5.0107 - val_mae: 1.4618\n",
      "Epoch 31/500\n",
      "41/41 [==============================] - 0s 4ms/step - loss: 4.2369 - mae: 1.4195 - val_loss: 4.6832 - val_mae: 1.5692\n",
      "Epoch 32/500\n",
      "41/41 [==============================] - 0s 4ms/step - loss: 3.9694 - mae: 1.3879 - val_loss: 3.3238 - val_mae: 1.2679\n",
      "Epoch 33/500\n",
      "41/41 [==============================] - 0s 4ms/step - loss: 3.7611 - mae: 1.3265 - val_loss: 3.2574 - val_mae: 1.2915\n",
      "Epoch 34/500\n",
      "41/41 [==============================] - 0s 5ms/step - loss: 6.4965 - mae: 1.7591 - val_loss: 3.8043 - val_mae: 1.3431\n",
      "Epoch 35/500\n",
      "41/41 [==============================] - 0s 4ms/step - loss: 4.3912 - mae: 1.4745 - val_loss: 7.2513 - val_mae: 1.6192\n",
      "Epoch 36/500\n",
      "41/41 [==============================] - 0s 4ms/step - loss: 3.2061 - mae: 1.2766 - val_loss: 2.5818 - val_mae: 1.1729\n",
      "Epoch 37/500\n",
      "41/41 [==============================] - 0s 7ms/step - loss: 2.6447 - mae: 1.1662 - val_loss: 2.2634 - val_mae: 1.1763\n",
      "Epoch 38/500\n",
      "41/41 [==============================] - 0s 4ms/step - loss: 2.5400 - mae: 1.1327 - val_loss: 1.8978 - val_mae: 1.0378\n",
      "Epoch 39/500\n",
      "41/41 [==============================] - 0s 4ms/step - loss: 4.0492 - mae: 1.3782 - val_loss: 20.6176 - val_mae: 3.6389\n",
      "Epoch 40/500\n",
      "41/41 [==============================] - 0s 4ms/step - loss: 17.6307 - mae: 3.0269 - val_loss: 9.4175 - val_mae: 2.3756\n",
      "Epoch 41/500\n",
      "41/41 [==============================] - 0s 4ms/step - loss: 4.9110 - mae: 1.5608 - val_loss: 5.0092 - val_mae: 1.6034\n",
      "Epoch 42/500\n",
      "41/41 [==============================] - 0s 4ms/step - loss: 5.0047 - mae: 1.6062 - val_loss: 4.8918 - val_mae: 1.7185\n",
      "Epoch 43/500\n",
      "41/41 [==============================] - 0s 4ms/step - loss: 3.3868 - mae: 1.3198 - val_loss: 2.1208 - val_mae: 1.0048\n",
      "Epoch 44/500\n",
      "41/41 [==============================] - 0s 4ms/step - loss: 2.1001 - mae: 1.0356 - val_loss: 2.2291 - val_mae: 1.0683\n",
      "Epoch 45/500\n",
      "41/41 [==============================] - 0s 4ms/step - loss: 1.8738 - mae: 1.0111 - val_loss: 1.4627 - val_mae: 0.9447\n",
      "Epoch 46/500\n",
      "41/41 [==============================] - 0s 4ms/step - loss: 1.4035 - mae: 0.8633 - val_loss: 1.2570 - val_mae: 0.8382\n",
      "Epoch 47/500\n",
      "41/41 [==============================] - 0s 4ms/step - loss: 1.9512 - mae: 0.9965 - val_loss: 1.7234 - val_mae: 0.9335\n",
      "Epoch 48/500\n",
      "41/41 [==============================] - 0s 4ms/step - loss: 1.7328 - mae: 0.9715 - val_loss: 1.5619 - val_mae: 0.9785\n",
      "Epoch 49/500\n",
      "41/41 [==============================] - 0s 4ms/step - loss: 1.6766 - mae: 0.9495 - val_loss: 1.1430 - val_mae: 0.7915\n",
      "Epoch 50/500\n",
      "41/41 [==============================] - 0s 5ms/step - loss: 2.3635 - mae: 1.0965 - val_loss: 1.1731 - val_mae: 0.8527\n",
      "Epoch 51/500\n",
      "41/41 [==============================] - 0s 4ms/step - loss: 1.2194 - mae: 0.8250 - val_loss: 1.0737 - val_mae: 0.7573\n",
      "Epoch 52/500\n",
      "41/41 [==============================] - 5s 131ms/step - loss: 1.2574 - mae: 0.8219 - val_loss: 1.0909 - val_mae: 0.8442\n",
      "Epoch 53/500\n",
      "41/41 [==============================] - 3s 60ms/step - loss: 1.3890 - mae: 0.8664 - val_loss: 0.9360 - val_mae: 0.6497\n",
      "Epoch 54/500\n",
      "41/41 [==============================] - 0s 4ms/step - loss: 1.3467 - mae: 0.8466 - val_loss: 0.9851 - val_mae: 0.7286\n",
      "Epoch 55/500\n",
      "41/41 [==============================] - 0s 4ms/step - loss: 1.0806 - mae: 0.7608 - val_loss: 0.9548 - val_mae: 0.6619\n",
      "Epoch 56/500\n",
      "41/41 [==============================] - 0s 4ms/step - loss: 1.1418 - mae: 0.7645 - val_loss: 0.8847 - val_mae: 0.7248\n",
      "Epoch 57/500\n",
      "41/41 [==============================] - 0s 4ms/step - loss: 1.0133 - mae: 0.7297 - val_loss: 1.0395 - val_mae: 0.7830\n",
      "Epoch 58/500\n",
      "41/41 [==============================] - 0s 4ms/step - loss: 1.1673 - mae: 0.7751 - val_loss: 1.4077 - val_mae: 0.8420\n",
      "Epoch 59/500\n",
      "41/41 [==============================] - 0s 4ms/step - loss: 1.4143 - mae: 0.8648 - val_loss: 0.9696 - val_mae: 0.6960\n",
      "Epoch 60/500\n",
      "41/41 [==============================] - 0s 4ms/step - loss: 2.4107 - mae: 1.1068 - val_loss: 1.5088 - val_mae: 0.9224\n",
      "Epoch 61/500\n",
      "41/41 [==============================] - 0s 4ms/step - loss: 1.2005 - mae: 0.7935 - val_loss: 0.9634 - val_mae: 0.7299\n",
      "Epoch 62/500\n",
      "41/41 [==============================] - 0s 4ms/step - loss: 1.1547 - mae: 0.7857 - val_loss: 0.9747 - val_mae: 0.7312\n",
      "Epoch 63/500\n",
      "41/41 [==============================] - 0s 4ms/step - loss: 1.1643 - mae: 0.7850 - val_loss: 0.8447 - val_mae: 0.6689\n",
      "Epoch 64/500\n",
      "41/41 [==============================] - 0s 4ms/step - loss: 1.1345 - mae: 0.7655 - val_loss: 0.9346 - val_mae: 0.7349\n",
      "Epoch 65/500\n",
      "41/41 [==============================] - 0s 4ms/step - loss: 1.2987 - mae: 0.8158 - val_loss: 1.7348 - val_mae: 0.9848\n",
      "Epoch 66/500\n",
      "41/41 [==============================] - 0s 4ms/step - loss: 2.8270 - mae: 1.1857 - val_loss: 1.3524 - val_mae: 0.9466\n",
      "Epoch 67/500\n",
      "41/41 [==============================] - 0s 4ms/step - loss: 1.8844 - mae: 0.9491 - val_loss: 0.8161 - val_mae: 0.6331\n",
      "Epoch 68/500\n",
      "41/41 [==============================] - 0s 5ms/step - loss: 1.0328 - mae: 0.7231 - val_loss: 0.8456 - val_mae: 0.7025\n",
      "Epoch 69/500\n",
      "41/41 [==============================] - 0s 4ms/step - loss: 1.1314 - mae: 0.7635 - val_loss: 0.7374 - val_mae: 0.6506\n",
      "Epoch 70/500\n",
      "41/41 [==============================] - 0s 4ms/step - loss: 1.1476 - mae: 0.7606 - val_loss: 1.0002 - val_mae: 0.7766\n",
      "Epoch 71/500\n",
      "41/41 [==============================] - 0s 4ms/step - loss: 1.1325 - mae: 0.7822 - val_loss: 1.7914 - val_mae: 0.9792\n",
      "Epoch 72/500\n",
      "41/41 [==============================] - 0s 4ms/step - loss: 1.2340 - mae: 0.8078 - val_loss: 0.9802 - val_mae: 0.7945\n",
      "Epoch 73/500\n",
      "41/41 [==============================] - 0s 4ms/step - loss: 1.1945 - mae: 0.7808 - val_loss: 1.3418 - val_mae: 0.8523\n",
      "Epoch 74/500\n",
      "41/41 [==============================] - 0s 4ms/step - loss: 0.9991 - mae: 0.7100 - val_loss: 0.7511 - val_mae: 0.5832\n",
      "Epoch 75/500\n",
      "41/41 [==============================] - 0s 4ms/step - loss: 1.1257 - mae: 0.7454 - val_loss: 0.8903 - val_mae: 0.7259\n",
      "Epoch 76/500\n",
      "41/41 [==============================] - 0s 4ms/step - loss: 2.5559 - mae: 1.1485 - val_loss: 3.7136 - val_mae: 1.3436\n",
      "Epoch 77/500\n",
      "41/41 [==============================] - 0s 4ms/step - loss: 2.0152 - mae: 1.0281 - val_loss: 3.5333 - val_mae: 1.3466\n",
      "Epoch 78/500\n",
      "41/41 [==============================] - 0s 4ms/step - loss: 1.6604 - mae: 0.9182 - val_loss: 1.2850 - val_mae: 0.8364\n",
      "Epoch 79/500\n",
      "41/41 [==============================] - 0s 4ms/step - loss: 1.9767 - mae: 1.0098 - val_loss: 1.6159 - val_mae: 1.0611\n",
      "Epoch 80/500\n",
      "41/41 [==============================] - 0s 4ms/step - loss: 1.3988 - mae: 0.8597 - val_loss: 1.7300 - val_mae: 1.0352\n",
      "Epoch 81/500\n",
      "41/41 [==============================] - 0s 4ms/step - loss: 1.7761 - mae: 0.9636 - val_loss: 0.9315 - val_mae: 0.7923\n",
      "Epoch 82/500\n",
      "41/41 [==============================] - 0s 4ms/step - loss: 1.3311 - mae: 0.8431 - val_loss: 1.8280 - val_mae: 1.0873\n",
      "Epoch 83/500\n",
      "41/41 [==============================] - 0s 4ms/step - loss: 1.9746 - mae: 0.9994 - val_loss: 3.6277 - val_mae: 1.4243\n",
      "Epoch 84/500\n",
      "41/41 [==============================] - 0s 4ms/step - loss: 1.3065 - mae: 0.8117 - val_loss: 0.7654 - val_mae: 0.6346\n",
      "Epoch 85/500\n",
      "41/41 [==============================] - 0s 4ms/step - loss: 0.9186 - mae: 0.6845 - val_loss: 0.6299 - val_mae: 0.5626\n",
      "Epoch 86/500\n",
      "41/41 [==============================] - 0s 4ms/step - loss: 0.9579 - mae: 0.6965 - val_loss: 1.0862 - val_mae: 0.8419\n",
      "Epoch 87/500\n",
      "41/41 [==============================] - 0s 4ms/step - loss: 1.3071 - mae: 0.8030 - val_loss: 2.2829 - val_mae: 1.1553\n",
      "Epoch 88/500\n",
      "41/41 [==============================] - 0s 4ms/step - loss: 1.0841 - mae: 0.7253 - val_loss: 0.7748 - val_mae: 0.6583\n",
      "Epoch 89/500\n",
      "41/41 [==============================] - 0s 4ms/step - loss: 0.8640 - mae: 0.6514 - val_loss: 0.9164 - val_mae: 0.6959\n",
      "Epoch 90/500\n",
      "41/41 [==============================] - 0s 4ms/step - loss: 1.8155 - mae: 0.9742 - val_loss: 3.1825 - val_mae: 1.3823\n",
      "Epoch 91/500\n",
      "41/41 [==============================] - 0s 4ms/step - loss: 1.2224 - mae: 0.8051 - val_loss: 1.6223 - val_mae: 1.0082\n",
      "Epoch 92/500\n",
      "41/41 [==============================] - 0s 3ms/step - loss: 0.9469 - mae: 0.6872 - val_loss: 0.8409 - val_mae: 0.6856\n",
      "Epoch 93/500\n",
      "41/41 [==============================] - 0s 4ms/step - loss: 0.8457 - mae: 0.6436 - val_loss: 1.3766 - val_mae: 0.9287\n",
      "Epoch 94/500\n",
      "41/41 [==============================] - 0s 4ms/step - loss: 1.2015 - mae: 0.7762 - val_loss: 2.2457 - val_mae: 1.1079\n",
      "Epoch 95/500\n",
      "41/41 [==============================] - 0s 4ms/step - loss: 1.0804 - mae: 0.7356 - val_loss: 1.4713 - val_mae: 0.9427\n",
      "Epoch 96/500\n",
      "41/41 [==============================] - 0s 4ms/step - loss: 2.6290 - mae: 1.2012 - val_loss: 2.2070 - val_mae: 0.9635\n",
      "Epoch 97/500\n",
      "41/41 [==============================] - 0s 4ms/step - loss: 1.9704 - mae: 0.9869 - val_loss: 1.0023 - val_mae: 0.8044\n",
      "Epoch 98/500\n",
      "41/41 [==============================] - 0s 4ms/step - loss: 0.9101 - mae: 0.6740 - val_loss: 1.0055 - val_mae: 0.7222\n",
      "Epoch 99/500\n",
      "41/41 [==============================] - 0s 4ms/step - loss: 1.9097 - mae: 0.9945 - val_loss: 1.4216 - val_mae: 0.8618\n",
      "Epoch 100/500\n",
      "41/41 [==============================] - 0s 4ms/step - loss: 0.9111 - mae: 0.6664 - val_loss: 0.7285 - val_mae: 0.6087\n",
      "Epoch 101/500\n",
      "41/41 [==============================] - 0s 4ms/step - loss: 1.3204 - mae: 0.8232 - val_loss: 1.0826 - val_mae: 0.8269\n",
      "Epoch 102/500\n",
      "41/41 [==============================] - 0s 4ms/step - loss: 1.1103 - mae: 0.7607 - val_loss: 0.7824 - val_mae: 0.6212\n",
      "Epoch 103/500\n",
      "41/41 [==============================] - 0s 4ms/step - loss: 0.9476 - mae: 0.6794 - val_loss: 1.9503 - val_mae: 1.0223\n",
      "Epoch 104/500\n",
      "41/41 [==============================] - 0s 4ms/step - loss: 1.2618 - mae: 0.8120 - val_loss: 0.7935 - val_mae: 0.6320\n",
      "Epoch 105/500\n",
      "41/41 [==============================] - 0s 4ms/step - loss: 0.8747 - mae: 0.6769 - val_loss: 0.7738 - val_mae: 0.6433\n",
      "Epoch 106/500\n",
      "41/41 [==============================] - 0s 4ms/step - loss: 1.4267 - mae: 0.8550 - val_loss: 0.7398 - val_mae: 0.6344\n",
      "Epoch 107/500\n",
      "41/41 [==============================] - 0s 4ms/step - loss: 2.2419 - mae: 1.0465 - val_loss: 7.4932 - val_mae: 1.9741\n",
      "Epoch 108/500\n",
      "41/41 [==============================] - 0s 3ms/step - loss: 1.7062 - mae: 0.9436 - val_loss: 1.3454 - val_mae: 0.8263\n",
      "Epoch 109/500\n",
      "41/41 [==============================] - 0s 4ms/step - loss: 1.5079 - mae: 0.9118 - val_loss: 2.2696 - val_mae: 1.1091\n",
      "Epoch 110/500\n",
      "41/41 [==============================] - 0s 4ms/step - loss: 1.2716 - mae: 0.8142 - val_loss: 0.9436 - val_mae: 0.6918\n",
      "Epoch 111/500\n",
      "41/41 [==============================] - 0s 4ms/step - loss: 0.9432 - mae: 0.6960 - val_loss: 1.2083 - val_mae: 0.7969\n",
      "Epoch 112/500\n",
      "41/41 [==============================] - 0s 4ms/step - loss: 0.9126 - mae: 0.6741 - val_loss: 1.0883 - val_mae: 0.7843\n",
      "Epoch 113/500\n",
      "41/41 [==============================] - 0s 4ms/step - loss: 1.5909 - mae: 0.9211 - val_loss: 1.7561 - val_mae: 1.0730\n",
      "Epoch 114/500\n",
      "41/41 [==============================] - 0s 4ms/step - loss: 1.1170 - mae: 0.7618 - val_loss: 0.7788 - val_mae: 0.6356\n",
      "Epoch 115/500\n",
      "41/41 [==============================] - 0s 4ms/step - loss: 0.8518 - mae: 0.6504 - val_loss: 0.8542 - val_mae: 0.6858\n",
      "Epoch 116/500\n",
      "41/41 [==============================] - 0s 4ms/step - loss: 1.7039 - mae: 0.8967 - val_loss: 1.6020 - val_mae: 0.9069\n",
      "Epoch 117/500\n",
      "41/41 [==============================] - 0s 4ms/step - loss: 2.2247 - mae: 1.0794 - val_loss: 0.9009 - val_mae: 0.7499\n",
      "Epoch 118/500\n",
      "41/41 [==============================] - 0s 4ms/step - loss: 1.2772 - mae: 0.8011 - val_loss: 0.6623 - val_mae: 0.6250\n",
      "Epoch 119/500\n",
      "41/41 [==============================] - 0s 4ms/step - loss: 1.1030 - mae: 0.7478 - val_loss: 1.4357 - val_mae: 0.8625\n",
      "Epoch 120/500\n",
      "41/41 [==============================] - 0s 4ms/step - loss: 0.9832 - mae: 0.7044 - val_loss: 1.1425 - val_mae: 0.8712\n",
      "Epoch 121/500\n",
      "41/41 [==============================] - 0s 4ms/step - loss: 1.2877 - mae: 0.8313 - val_loss: 1.0431 - val_mae: 0.7339\n",
      "Epoch 122/500\n",
      "41/41 [==============================] - 0s 4ms/step - loss: 2.4271 - mae: 1.0823 - val_loss: 1.7319 - val_mae: 1.0520\n",
      "Epoch 123/500\n",
      "41/41 [==============================] - 0s 4ms/step - loss: 3.4168 - mae: 1.3221 - val_loss: 1.4356 - val_mae: 0.9347\n",
      "Epoch 124/500\n",
      "41/41 [==============================] - 0s 4ms/step - loss: 1.9978 - mae: 1.0233 - val_loss: 1.5771 - val_mae: 0.9474\n",
      "Epoch 125/500\n",
      "41/41 [==============================] - 0s 4ms/step - loss: 1.1339 - mae: 0.7506 - val_loss: 1.1494 - val_mae: 0.8279\n",
      "Epoch 126/500\n",
      "41/41 [==============================] - 0s 4ms/step - loss: 0.8328 - mae: 0.6326 - val_loss: 0.7070 - val_mae: 0.6247\n",
      "Epoch 127/500\n",
      "41/41 [==============================] - 0s 4ms/step - loss: 0.9953 - mae: 0.6940 - val_loss: 1.4781 - val_mae: 0.9141\n",
      "Epoch 128/500\n",
      "41/41 [==============================] - 0s 3ms/step - loss: 0.9160 - mae: 0.6604 - val_loss: 0.7635 - val_mae: 0.6650\n",
      "Epoch 129/500\n",
      "41/41 [==============================] - 0s 4ms/step - loss: 1.0054 - mae: 0.6999 - val_loss: 0.9952 - val_mae: 0.7955\n",
      "Epoch 130/500\n",
      "41/41 [==============================] - 0s 4ms/step - loss: 0.9059 - mae: 0.6817 - val_loss: 1.0639 - val_mae: 0.7829\n",
      "Epoch 131/500\n",
      "41/41 [==============================] - 0s 4ms/step - loss: 1.5665 - mae: 0.8956 - val_loss: 1.1357 - val_mae: 0.8117\n",
      "Epoch 132/500\n",
      "41/41 [==============================] - 0s 4ms/step - loss: 2.3072 - mae: 1.0814 - val_loss: 1.1776 - val_mae: 0.8214\n",
      "Epoch 133/500\n",
      "41/41 [==============================] - 0s 3ms/step - loss: 1.6007 - mae: 0.9300 - val_loss: 0.9293 - val_mae: 0.7352\n",
      "Epoch 134/500\n",
      "41/41 [==============================] - 0s 4ms/step - loss: 1.1016 - mae: 0.7525 - val_loss: 0.8003 - val_mae: 0.6342\n",
      "Epoch 135/500\n",
      "41/41 [==============================] - 0s 4ms/step - loss: 0.9633 - mae: 0.6942 - val_loss: 0.7500 - val_mae: 0.6192\n"
     ]
    }
   ],
   "source": [
    "history = ann.fit(X_train, y_train,\n",
    "                    validation_data = (X_val, y_val),\n",
    "                    callbacks=[es],\n",
    "                    epochs=500,\n",
    "                    batch_size=30,\n",
    "                    verbose=1)"
   ]
  },
  {
   "cell_type": "code",
   "execution_count": 14,
   "metadata": {
    "ExecuteTime": {
     "end_time": "2024-08-02T04:24:30.651430600Z",
     "start_time": "2024-08-02T04:24:29.909880100Z"
    }
   },
   "outputs": [
    {
     "data": {
      "text/plain": "<Figure size 640x480 with 1 Axes>",
      "image/png": "[encoded data removed]"
     },
     "metadata": {},
     "output_type": "display_data"
    }
   ],
   "source": [
    "# let's see the training and validation accuracy by epoch\n",
    "history_dict = history.history\n",
    "loss_values = history_dict['loss'] # you can change this\n",
    "val_loss_values = history_dict['val_loss'] # you can also change this\n",
    "epochs = range(1, len(loss_values) + 1) # range of X (no. of epochs)\n",
    "plt.plot(epochs, loss_values, 'blue', label='Train set loss')\n",
    "plt.plot(epochs, val_loss_values, 'orange', label='Validation set loss')\n",
    "#plt.title('Training and testing loss')\n",
    "plt.xlabel('Epochs')\n",
    "plt.ylabel('Loss (MSE)')\n",
    "plt.legend()\n",
    "plt.savefig('Change_ANN1_2.png', dpi = 300, bbox_inches = 'tight')\n",
    "plt.show()"
   ]
  },
  {
   "cell_type": "code",
   "execution_count": 15,
   "metadata": {
    "ExecuteTime": {
     "end_time": "2024-08-02T04:24:39.191295600Z",
     "start_time": "2024-08-02T04:24:38.441465600Z"
    }
   },
   "outputs": [
    {
     "data": {
      "text/plain": "<Figure size 640x480 with 1 Axes>",
      "image/png": "[encoded data removed]"
     },
     "metadata": {},
     "output_type": "display_data"
    }
   ],
   "source": [
    "loss_values1 = history_dict['mae'] # you can change this\n",
    "val_loss_values1 = history_dict['val_mae'] # you can also change this\n",
    "epochs = range(1, len(loss_values1) + 1) # range of X (no. of epochs)\n",
    "plt.plot(epochs, loss_values1, 'blue', label='Train set MAE')\n",
    "plt.plot(epochs, val_loss_values1, 'orange', label='Validation set MAE')\n",
    "#plt.title('Training and testing MAE')\n",
    "plt.xlabel('Epochs')\n",
    "plt.ylabel('MAE')\n",
    "plt.legend()\n",
    "plt.savefig('Change_ANN1_3.png', dpi = 300, bbox_inches = 'tight')\n",
    "plt.show()"
   ]
  },
  {
   "cell_type": "code",
   "execution_count": null,
   "metadata": {},
   "outputs": [],
   "source": [
    "print (epochs)"
   ]
  },
  {
   "cell_type": "code",
   "execution_count": 27,
   "metadata": {
    "ExecuteTime": {
     "end_time": "2024-08-02T04:34:13.134913800Z",
     "start_time": "2024-08-02T04:34:11.157382300Z"
    }
   },
   "outputs": [
    {
     "name": "stdout",
     "output_type": "stream",
     "text": [
      "INFO:tensorflow:Assets written to: Change_ANN1\\assets\n"
     ]
    }
   ],
   "source": [
    "ann.save('Change_ANN1')"
   ]
  },
  {
   "cell_type": "markdown",
   "metadata": {},
   "source": [
    "# Part 4 - Make predictions"
   ]
  },
  {
   "cell_type": "code",
   "execution_count": null,
   "metadata": {},
   "outputs": [],
   "source": [
    "ann = load_model('Change_ANN_model_3.h5')"
   ]
  },
  {
   "cell_type": "code",
   "execution_count": 16,
   "metadata": {
    "ExecuteTime": {
     "end_time": "2024-08-02T04:25:21.535663Z",
     "start_time": "2024-08-02T04:25:19.923544100Z"
    }
   },
   "outputs": [
    {
     "name": "stdout",
     "output_type": "stream",
     "text": [
      "39/39 [==============================] - 0s 2ms/step\n",
      "9/9 [==============================] - 0s 2ms/step\n"
     ]
    },
    {
     "data": {
      "text/plain": "<Figure size 640x480 with 2 Axes>",
      "image/png": "[encoded data removed]"
     },
     "metadata": {},
     "output_type": "display_data"
    }
   ],
   "source": [
    "# scatterplot of actual vs. pred\n",
    "# specify the dimensions \n",
    "fig, axes = plt.subplots(1,2) # 1 row, 2 columns\n",
    "\n",
    "# this makes the individual subplots\n",
    "# Training Results\n",
    "axes[0].scatter(x=y_train, y=ann.predict(X_train)) #first row, first entry (left top)\n",
    "axes[0].set_xlabel(\"Actual\", fontsize=10)\n",
    "axes[0].set_ylabel(\"Predicted\",  fontsize=10)\n",
    "axes[0].set_title(\"Training\")\n",
    "# add 45 deg line\n",
    "x = np.linspace(*axes[0].get_xlim())\n",
    "axes[0].plot(x, x, color='red')\n",
    "# Validation Results\n",
    "axes[1].scatter(x=y_val, y=ann.predict(X_val)) # first row, second entry (right top)\n",
    "axes[1].set_xlabel(\"Actual\", fontsize=10)\n",
    "axes[1].set_ylabel(\"Predicted\",  fontsize=10)\n",
    "axes[1].set_title(\"Validation\")\n",
    "# add 45 deg line\n",
    "x = np.linspace(*axes[1].get_xlim())\n",
    "axes[1].plot(x, x, color='red')\n",
    "\n",
    "# tight layout\n",
    "fig.tight_layout()\n",
    "\n",
    "plt.savefig('Change_ANN1_1.png', dpi = 300, bbox_inches = 'tight')\n",
    "# show the plot\n",
    "plt.show()"
   ]
  },
  {
   "cell_type": "code",
   "execution_count": 9,
   "metadata": {
    "colab": {
     "base_uri": "https://localhost:8080/",
     "height": 134
    },
    "colab_type": "code",
    "id": "IA0yApEmBG1X",
    "outputId": "cb981e1f-9204-4a2a-fece-9d66a6919189",
    "ExecuteTime": {
     "end_time": "2024-09-01T23:52:34.971793900Z",
     "start_time": "2024-09-01T23:52:34.450945500Z"
    }
   },
   "outputs": [
    {
     "name": "stdout",
     "output_type": "stream",
     "text": [
      "9/9 [==============================] - 0s 4ms/step\n",
      "[[ 39.23  38.97]\n",
      " [  3.81   4.4 ]\n",
      " [ 52.41  51.69]\n",
      " [ 73.25  73.57]\n",
      " [  3.91   2.85]\n",
      " [  2.89   2.51]\n",
      " [  3.78   3.5 ]\n",
      " [ 60.7   60.64]\n",
      " [ 59.58  59.83]\n",
      " [  5.16   5.31]\n",
      " [ 57.82  58.71]\n",
      " [ 86.45  87.06]\n",
      " [ 63.74  63.52]\n",
      " [ 34.8   35.56]\n",
      " [  2.85   2.35]\n",
      " [ 30.65  30.07]\n",
      " [ 86.07  86.38]\n",
      " [ 21.04  22.34]\n",
      " [  2.8    2.3 ]\n",
      " [  5.93   6.23]\n",
      " [ 90.93  92.32]\n",
      " [  4.39   4.12]\n",
      " [  3.22   3.6 ]\n",
      " [  3.7    4.59]\n",
      " [  2.92   2.42]\n",
      " [ 50.06  49.77]\n",
      " [ 21.24  22.54]\n",
      " [ 15.89  16.53]\n",
      " [  8.8    9.09]\n",
      " [ 61.56  60.64]\n",
      " [ 19.92  25.19]\n",
      " [ 32.94  32.96]\n",
      " [ 65.43  64.84]\n",
      " [  3.08   3.11]\n",
      " [ 96.8   97.6 ]\n",
      " [118.03 118.35]\n",
      " [  2.52   2.19]\n",
      " [ 77.08  77.92]\n",
      " [ 65.84  65.5 ]\n",
      " [ 35.36  35.17]\n",
      " [ 50.01  50.72]\n",
      " [ 35.96  36.72]\n",
      " [ 84.43  84.66]\n",
      " [ 81.5   81.74]\n",
      " [ 15.89  16.96]\n",
      " [ 37.3   37.44]\n",
      " [ 94.29  95.81]\n",
      " [  3.12   3.05]\n",
      " [  3.08   2.54]\n",
      " [ 62.23  62.28]\n",
      " [ 93.87  95.57]\n",
      " [ 85.7   84.72]\n",
      " [  2.9    3.09]\n",
      " [ 52.28  52.17]\n",
      " [ 26.14  27.27]\n",
      " [114.01 114.12]\n",
      " [  4.99   5.  ]\n",
      " [ 38.71  39.19]\n",
      " [ 98.21  98.48]\n",
      " [ 49.86  49.9 ]\n",
      " [ 81.15  81.47]\n",
      " [ 67.84  68.39]\n",
      " [ 59.63  59.96]\n",
      " [ 10.51  10.3 ]\n",
      " [ 80.51  80.96]\n",
      " [  3.45   3.96]\n",
      " [ 69.37  69.45]\n",
      " [ 31.14  32.13]\n",
      " [  4.01   4.08]\n",
      " [ 61.03  61.91]\n",
      " [ 83.36  86.06]\n",
      " [ 83.62  83.17]\n",
      " [  3.78   3.96]\n",
      " [ 62.41  61.94]\n",
      " [ 65.24  64.59]\n",
      " [  3.11   2.57]\n",
      " [ 14.05  12.57]\n",
      " [  4.17   4.16]\n",
      " [  8.87   9.21]\n",
      " [  2.85   2.34]\n",
      " [ 91.21  92.46]\n",
      " [ 98.93 100.16]\n",
      " [ 46.66  46.99]\n",
      " [  3.64   4.81]\n",
      " [ 78.24  78.61]\n",
      " [  2.29   1.58]\n",
      " [ 65.4   64.56]\n",
      " [ 17.27  18.17]\n",
      " [ 86.37  87.02]\n",
      " [ 31.07  30.58]\n",
      " [ 95.52  96.01]\n",
      " [  3.31   3.71]\n",
      " [  3.77   3.44]\n",
      " [  8.01   8.14]\n",
      " [ 34.38  33.86]\n",
      " [ 15.89  16.32]\n",
      " [ 32.56  32.58]\n",
      " [  4.01   3.68]\n",
      " [ 75.8   76.31]\n",
      " [ 46.22  45.11]\n",
      " [ 50.39  50.42]\n",
      " [  2.87   3.26]\n",
      " [ 63.67  63.32]\n",
      " [ 62.61  62.67]\n",
      " [  3.3    2.99]\n",
      " [  3.22   2.68]\n",
      " [  4.75   4.23]\n",
      " [118.25 117.67]\n",
      " [ 84.1   83.69]\n",
      " [ 13.99  12.3 ]\n",
      " [  2.37   2.  ]\n",
      " [  4.12   4.04]\n",
      " [ 82.    81.94]\n",
      " [ 12.83  10.94]\n",
      " [ 54.52  54.55]\n",
      " [  4.18   3.85]\n",
      " [ 43.59  43.74]\n",
      " [ 59.42  59.58]\n",
      " [  2.11   1.48]\n",
      " [  2.85   2.96]\n",
      " [ 81.86  80.64]\n",
      " [  5.03   5.16]\n",
      " [ 12.07  10.2 ]\n",
      " [ 50.5   50.98]\n",
      " [  4.29   3.97]\n",
      " [ 38.57  38.36]\n",
      " [123.28 124.45]\n",
      " [  3.07   3.45]\n",
      " [ 46.48  45.23]\n",
      " [ 60.91  59.07]\n",
      " [ 15.89  17.02]\n",
      " [ 55.15  55.96]\n",
      " [ 65.47  64.79]\n",
      " [ 96.22  99.35]\n",
      " [  3.96   3.8 ]\n",
      " [  3.12   2.66]\n",
      " [ 24.6   24.84]\n",
      " [ 88.29  86.89]\n",
      " [ 11.28  12.  ]\n",
      " [  3.63   3.73]\n",
      " [ 30.26  30.79]\n",
      " [ 56.84  57.32]\n",
      " [ 26.8   27.08]\n",
      " [ 53.06  52.96]\n",
      " [  4.72   4.8 ]\n",
      " [ 75.43  75.87]\n",
      " [ 10.46   9.28]\n",
      " [  4.89   4.37]\n",
      " [ 31.35  31.34]\n",
      " [ 32.12  32.02]\n",
      " [  3.4    3.09]\n",
      " [ 68.65  70.34]\n",
      " [ 43.86  44.66]\n",
      " [ 91.07  92.37]\n",
      " [  2.7    2.27]\n",
      " [106.14 106.11]\n",
      " [105.41 105.96]\n",
      " [ 14.17  13.55]\n",
      " [ 58.51  58.46]\n",
      " [ 44.38  43.44]\n",
      " [ 46.74  47.32]\n",
      " [118.27 118.39]\n",
      " [  4.11   4.3 ]\n",
      " [ 79.82  81.04]\n",
      " [  9.91   9.04]\n",
      " [ 31.13  31.64]\n",
      " [ 18.16  17.87]\n",
      " [  4.58   5.08]\n",
      " [ 22.81  22.75]\n",
      " [  3.06   4.79]\n",
      " [  3.37   4.75]\n",
      " [  5.04   4.83]\n",
      " [  3.22   4.69]\n",
      " [ 14.26  13.69]\n",
      " [ 20.29  21.41]\n",
      " [  2.39   2.09]\n",
      " [ 93.41  94.29]\n",
      " [  2.88   2.63]\n",
      " [ 81.15  80.68]\n",
      " [  5.32   6.08]\n",
      " [  3.27   2.72]\n",
      " [ 15.89  16.68]\n",
      " [ 76.38  76.14]\n",
      " [  3.08   2.55]\n",
      " [  2.72   2.32]\n",
      " [  2.67   2.5 ]\n",
      " [  2.28   2.04]\n",
      " [ 62.42  62.5 ]\n",
      " [  2.98   2.51]\n",
      " [  2.44   2.05]\n",
      " [  3.73   4.88]\n",
      " [  9.84   9.28]\n",
      " [ 30.29  30.81]\n",
      " [ 40.01  40.2 ]\n",
      " [ 65.54  64.18]\n",
      " [ 42.85  41.73]\n",
      " [  2.45   1.9 ]\n",
      " [ 11.57   9.92]\n",
      " [ 57.44  58.53]\n",
      " [ 80.39  80.03]\n",
      " [ 88.96  87.6 ]\n",
      " [  3.31   2.74]\n",
      " [ 92.13  92.31]\n",
      " [ 19.89  25.18]\n",
      " [  4.63   4.79]\n",
      " [ 43.37  43.56]\n",
      " [  3.86   3.19]\n",
      " [ 90.26  90.29]\n",
      " [  3.93   3.  ]\n",
      " [ 84.8   84.53]\n",
      " [ 51.23  50.28]\n",
      " [  5.05   5.62]\n",
      " [ 32.32  32.13]\n",
      " [ 68.03  68.16]\n",
      " [ 73.83  73.9 ]\n",
      " [  2.91   2.61]\n",
      " [ 84.4   85.23]\n",
      " [  8.21   7.99]\n",
      " [  3.41   2.84]\n",
      " [ 95.92  96.8 ]\n",
      " [  3.57   4.72]\n",
      " [  3.69   3.71]\n",
      " [ 81.3   81.61]\n",
      " [ 36.77  36.92]\n",
      " [  4.06   4.  ]\n",
      " [  3.29   3.17]\n",
      " [  4.06   4.34]\n",
      " [  3.18   4.27]\n",
      " [ 27.99  26.2 ]\n",
      " [  2.2    1.72]\n",
      " [  4.77   5.39]\n",
      " [ 81.87  82.58]\n",
      " [  4.82   4.47]\n",
      " [ 25.92  23.95]\n",
      " [  4.72   5.05]\n",
      " [  2.68   2.38]\n",
      " [ 20.32  19.8 ]\n",
      " [ 28.98  29.53]\n",
      " [ 71.15  71.23]\n",
      " [ 72.77  73.21]\n",
      " [  2.98   3.12]\n",
      " [  4.74   5.13]\n",
      " [  3.64   3.42]\n",
      " [  2.95   2.48]\n",
      " [  5.55   5.74]\n",
      " [  4.03   3.76]\n",
      " [ 31.05  31.25]\n",
      " [ 34.32  34.09]\n",
      " [  3.46   3.16]\n",
      " [  3.83   3.51]\n",
      " [  4.21   3.98]\n",
      " [ 83.35  82.92]\n",
      " [ 76.22  75.63]\n",
      " [ 90.11  90.06]\n",
      " [114.65 114.9 ]\n",
      " [ 51.7   51.44]\n",
      " [  3.11   5.28]\n",
      " [105.95 106.11]\n",
      " [  7.3    7.57]\n",
      " [  3.39   3.4 ]\n",
      " [ 73.19  73.47]\n",
      " [  2.13   1.56]\n",
      " [  3.77   4.06]]\n"
     ]
    }
   ],
   "source": [
    "y_pred = ann.predict(X_test)\n",
    "np.set_printoptions(precision=2)\n",
    "print(np.concatenate((y_pred.reshape(len(y_pred),1), y_test.reshape(len(y_test),1)),1))"
   ]
  },
  {
   "cell_type": "code",
   "execution_count": 10,
   "metadata": {
    "ExecuteTime": {
     "end_time": "2024-09-01T23:52:36.811573300Z",
     "start_time": "2024-09-01T23:52:36.593724600Z"
    }
   },
   "outputs": [
    {
     "data": {
      "text/plain": "Text(0, 0.5, 'Predicted data')"
     },
     "execution_count": 10,
     "metadata": {},
     "output_type": "execute_result"
    },
    {
     "data": {
      "text/plain": "<Figure size 640x480 with 1 Axes>",
      "image/png": "[encoded data removed]"
     },
     "metadata": {},
     "output_type": "display_data"
    }
   ],
   "source": [
    "import matplotlib.pyplot as plt\n",
    "plt.scatter(y_test, y_pred, color=\"blue\")\n",
    "#plt.plot ([0,0.09],[0,0.09], color = \"red\")\n",
    "#plt.axis ([0,0.09,0,0.09])\n",
    "plt.xlabel ('Actual data')\n",
    "plt.ylabel ('Predicted data')"
   ]
  },
  {
   "cell_type": "code",
   "execution_count": 11,
   "metadata": {
    "ExecuteTime": {
     "end_time": "2024-09-01T23:52:39.425395200Z",
     "start_time": "2024-09-01T23:52:38.766449700Z"
    }
   },
   "outputs": [
    {
     "data": {
      "text/plain": "<Figure size 600x600 with 1 Axes>",
      "image/png": "[encoded data removed]"
     },
     "metadata": {},
     "output_type": "display_data"
    }
   ],
   "source": [
    "from sklearn.metrics import r2_score\n",
    "# Initialize layout\n",
    "fig1, ax1 = plt.subplots(figsize = (6, 6))\n",
    "\n",
    "# Set global font to Times New Roman and font size\n",
    "plt.rcParams['font.family'] = 'serif'\n",
    "plt.rcParams['font.serif'] = ['Times New Roman']\n",
    "plt.rcParams['font.size'] = 20\n",
    "\n",
    "b_l = -5\n",
    "u_l = 130\n",
    "\n",
    "# Add scatterplot\n",
    "ax1.scatter(y_test, y_pred, s=70, alpha=1, edgecolors=\"k\",c='mediumblue',zorder=5, label = 'Points')\n",
    "\n",
    "\n",
    "plt.ylabel('Predicted Change Time (ms)')\n",
    "plt.xlabel('Target Change Time (ms)')\n",
    "plt.xticks(fontsize = 19)\n",
    "plt.yticks(fontsize = 19)\n",
    "\n",
    "\n",
    "x1 = np.linspace(b_l, u_l)\n",
    "\n",
    "plt.plot(x1, x1, 'Red', label='45\\N{DEGREE SIGN} line',lw=2.5,alpha=1)\n",
    "\n",
    "plt.ylim(b_l, u_l)\n",
    "plt.xlim(b_l, u_l)\n",
    "plt.legend(loc='upper center', bbox_to_anchor=(0.5, -0.15), ncol=4, frameon = False, fontsize = 20)\n",
    "\n",
    "#plt.grid()\n",
    "\n",
    "ax1.spines['left'].set_color('black')        # setting up Y-axis tick color to red\n",
    "ax1.spines['bottom'].set_color('black')\n",
    "\n",
    "plt.savefig('Change_ANN1.png', dpi = 300, bbox_inches = 'tight')"
   ]
  },
  {
   "cell_type": "code",
   "execution_count": 20,
   "metadata": {
    "ExecuteTime": {
     "end_time": "2024-08-02T04:26:08.895472400Z",
     "start_time": "2024-08-02T04:26:08.645035Z"
    }
   },
   "outputs": [
    {
     "name": "stdout",
     "output_type": "stream",
     "text": [
      "39/39 [==============================] - 0s 2ms/step\n",
      "0.5875362104145416\n",
      "0.5955812029112785\n"
     ]
    }
   ],
   "source": [
    "trainpreds = ann.predict(X_train)\n",
    "\n",
    "from sklearn.metrics import mean_absolute_error\n",
    "print(mean_absolute_error(y_train, trainpreds)) # train\n",
    "print(mean_absolute_error(y_test, y_pred)) # test"
   ]
  },
  {
   "cell_type": "code",
   "execution_count": 21,
   "metadata": {
    "ExecuteTime": {
     "end_time": "2024-08-02T04:26:10.891471Z",
     "start_time": "2024-08-02T04:26:10.701238400Z"
    }
   },
   "outputs": [
    {
     "name": "stdout",
     "output_type": "stream",
     "text": [
      "0.9993679740569889\n"
     ]
    }
   ],
   "source": [
    "from sklearn.metrics import r2_score\n",
    "r2 = r2_score(y_test, y_pred)\n",
    "print (r2)"
   ]
  },
  {
   "cell_type": "code",
   "execution_count": 22,
   "metadata": {
    "ExecuteTime": {
     "end_time": "2024-08-02T04:26:13.394915900Z",
     "start_time": "2024-08-02T04:26:13.379910900Z"
    }
   },
   "outputs": [
    {
     "name": "stdout",
     "output_type": "stream",
     "text": [
      "0.9993623997766011\n"
     ]
    }
   ],
   "source": [
    "r2_train = r2_score(y_train, trainpreds)\n",
    "print (r2_train)"
   ]
  },
  {
   "cell_type": "code",
   "execution_count": 23,
   "metadata": {
    "ExecuteTime": {
     "end_time": "2024-08-02T04:26:16.958092Z",
     "start_time": "2024-08-02T04:26:16.848546600Z"
    }
   },
   "outputs": [
    {
     "name": "stdout",
     "output_type": "stream",
     "text": [
      "Within 5% margin 65.02%\n",
      "Within 10% margin 76.81%\n",
      "Within 20% margin 89.35%\n",
      "Out of 20% margin 10.65%\n"
     ]
    }
   ],
   "source": [
    "count0 = 0\n",
    "for i in range(len(y_pred)):\n",
    "    line1 = y_pred[i] - 0.95*y_test[i]\n",
    "    line2 = y_pred[i] - 1.05*y_test[i]\n",
    "    mask0 = (line1 > 0) & (line2 < 0)\n",
    "    count0 = np.sum(mask0+count0)\n",
    "\n",
    "count1 = 0\n",
    "for i in range(len(y_pred)):\n",
    "    line1 = y_pred[i] - 0.9*y_test[i]\n",
    "    line2 = y_pred[i] - 1.1*y_test[i]\n",
    "    mask1 = (line1 > 0) & (line2 < 0)\n",
    "    count1 = np.sum(mask1+count1)\n",
    "\n",
    "count2 = 0\n",
    "for j in range(len(y_pred)):\n",
    "    line3 = y_pred[j] - 0.8*y_test[j]\n",
    "    line4 = y_pred[j] - 1.2*y_test[j]\n",
    "    mask2 = (line3 > 0) & (line4 < 0)\n",
    "    count2 = np.sum(mask2+count2)\n",
    "\n",
    "\n",
    "count3 = 0    \n",
    "for k in range(len(y_pred)):\n",
    "    line5 = y_pred[k] - 0.8*y_test[k]\n",
    "    line6 = y_pred[k] - 1.2*y_test[k]\n",
    "    mask3 = (line5 < 0) or (line6 > 0)\n",
    "    count3 = np.sum(mask3+count3)\n",
    "   \n",
    "\n",
    "print ('Within 5% margin', format((count0/len (y_pred)),'.2%'))\n",
    "print ('Within 10% margin', format((count1/len (y_pred)),'.2%'))\n",
    "print ('Within 20% margin', format((count2/len (y_pred)),'.2%'))\n",
    "print ('Out of 20% margin', format((count3/len (y_pred)),'.2%'))"
   ]
  },
  {
   "cell_type": "code",
   "execution_count": 24,
   "metadata": {
    "ExecuteTime": {
     "end_time": "2024-08-02T04:26:20.441698800Z",
     "start_time": "2024-08-02T04:26:20.317633400Z"
    }
   },
   "outputs": [
    {
     "name": "stdout",
     "output_type": "stream",
     "text": [
      "0.9993606532931701\n"
     ]
    }
   ],
   "source": [
    "adj_r2 = 1 - ((1 - r2) * (len(X_test) - 1) / (len(X_test) - len (X_test[0]) - 1))\n",
    "print (adj_r2)"
   ]
  },
  {
   "cell_type": "code",
   "execution_count": 25,
   "metadata": {
    "ExecuteTime": {
     "end_time": "2024-08-02T04:26:21.869355200Z",
     "start_time": "2024-08-02T04:26:21.790437900Z"
    }
   },
   "outputs": [
    {
     "data": {
      "text/plain": "0.8739245952551351"
     },
     "execution_count": 25,
     "metadata": {},
     "output_type": "execute_result"
    }
   ],
   "source": [
    "import math\n",
    "from sklearn.metrics import mean_squared_error\n",
    "\n",
    "math.sqrt(mean_squared_error(y_test, y_pred))"
   ]
  },
  {
   "cell_type": "code",
   "execution_count": 26,
   "metadata": {
    "ExecuteTime": {
     "end_time": "2024-08-02T04:26:23.457883900Z",
     "start_time": "2024-08-02T04:26:23.348956900Z"
    }
   },
   "outputs": [
    {
     "data": {
      "text/plain": "0.5955812029112785"
     },
     "execution_count": 26,
     "metadata": {},
     "output_type": "execute_result"
    }
   ],
   "source": [
    "from sklearn.metrics import mean_absolute_error\n",
    "\n",
    "mean_absolute_error(y_test, y_pred)"
   ]
  },
  {
   "cell_type": "code",
   "execution_count": 7,
   "outputs": [],
   "source": [
    "from keras.models import load_model\n",
    "ann = load_model('Change_ANN1')"
   ],
   "metadata": {
    "collapsed": false,
    "ExecuteTime": {
     "end_time": "2024-09-01T23:49:33.132937800Z",
     "start_time": "2024-09-01T23:49:32.109516900Z"
    }
   }
  }
 ],
 "metadata": {
  "colab": {
   "collapsed_sections": [],
   "name": "Artificial Neural Network",
   "provenance": [],
   "toc_visible": true
  },
  "kernelspec": {
   "display_name": "Python 3 (ipykernel)",
   "language": "python",
   "name": "python3"
  },
  "language_info": {
   "codemirror_mode": {
    "name": "ipython",
    "version": 3
   },
   "file_extension": ".py",
   "mimetype": "text/x-python",
   "name": "python",
   "nbconvert_exporter": "python",
   "pygments_lexer": "ipython3",
   "version": "3.9.7"
  }
 },
 "nbformat": 4,
 "nbformat_minor": 4
}
