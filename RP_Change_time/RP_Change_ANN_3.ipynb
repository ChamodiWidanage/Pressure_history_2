{
 "cells": [
  {
   "cell_type": "markdown",
   "source": [
    "### Importing the libraries"
   ],
   "metadata": {
    "collapsed": false
   }
  },
  {
   "cell_type": "code",
   "execution_count": 1,
   "metadata": {
    "colab": {},
    "colab_type": "code",
    "id": "lxChR1Rk-umf",
    "ExecuteTime": {
     "end_time": "2024-07-28T06:45:07.487464900Z",
     "start_time": "2024-07-28T06:44:58.567797400Z"
    }
   },
   "outputs": [],
   "source": [
    "import numpy as np\n",
    "import pandas as pd\n",
    "import tensorflow as tf\n",
    "import matplotlib.pyplot as plt\n",
    "from keras.models import load_model"
   ]
  },
  {
   "cell_type": "markdown",
   "metadata": {
    "colab_type": "text",
    "id": "-4zq8Mza_D9O"
   },
   "source": [
    "### Importing the dataset"
   ]
  },
  {
   "cell_type": "code",
   "execution_count": 2,
   "metadata": {
    "colab": {},
    "colab_type": "code",
    "id": "B9CV13Co_HHM",
    "ExecuteTime": {
     "end_time": "2024-07-28T06:45:11.877906900Z",
     "start_time": "2024-07-28T06:45:10.296457Z"
    }
   },
   "outputs": [
    {
     "name": "stdout",
     "output_type": "stream",
     "text": [
      "<class 'pandas.core.frame.DataFrame'>\n",
      "RangeIndex: 1064 entries, 0 to 1063\n",
      "Data columns (total 4 columns):\n",
      " #   Column             Non-Null Count  Dtype  \n",
      "---  ------             --------------  -----  \n",
      " 0   Mass               1064 non-null   float64\n",
      " 1   Standoff distance  1064 non-null   int64  \n",
      " 2   Angle              1064 non-null   int64  \n",
      " 3   Change time        1064 non-null   float64\n",
      "dtypes: float64(2), int64(2)\n",
      "memory usage: 33.4 KB\n"
     ]
    }
   ],
   "source": [
    "dataset = pd.read_excel('RP_change_all.xlsx')\n",
    "dataset.info()"
   ]
  },
  {
   "cell_type": "code",
   "execution_count": 3,
   "metadata": {
    "ExecuteTime": {
     "end_time": "2024-07-28T06:45:13.827995600Z",
     "start_time": "2024-07-28T06:45:13.541638200Z"
    }
   },
   "outputs": [
    {
     "name": "stdout",
     "output_type": "stream",
     "text": [
      "(1064, 3) (1064,)\n"
     ]
    }
   ],
   "source": [
    "y = dataset['Change time']\n",
    "X = dataset.drop(['Change time'], axis=1)\n",
    "print(X.shape, y.shape)"
   ]
  },
  {
   "cell_type": "code",
   "execution_count": 4,
   "metadata": {
    "ExecuteTime": {
     "end_time": "2024-07-28T06:45:15.460508500Z",
     "start_time": "2024-07-28T06:45:15.129023600Z"
    }
   },
   "outputs": [],
   "source": [
    "# convert to numpy array\n",
    "X = np.array(X)\n",
    "y = np.array(y)"
   ]
  },
  {
   "cell_type": "markdown",
   "metadata": {
    "colab_type": "text",
    "id": "VC6omXel_Up0"
   },
   "source": [
    "### Splitting the dataset into the Training set and Test set"
   ]
  },
  {
   "cell_type": "code",
   "execution_count": 5,
   "metadata": {
    "colab": {},
    "colab_type": "code",
    "id": "L5edeb2r_agx",
    "ExecuteTime": {
     "end_time": "2024-07-28T06:45:18.410999700Z",
     "start_time": "2024-07-28T06:45:17.018171600Z"
    }
   },
   "outputs": [],
   "source": [
    "from sklearn.model_selection import train_test_split\n",
    "X_train, X_test, y_train, y_test = train_test_split(X,\n",
    "                                                    y,\n",
    "                                                    test_size = 0.3,\n",
    "                                                    random_state = 0)"
   ]
  },
  {
   "cell_type": "code",
   "execution_count": 6,
   "metadata": {
    "colab": {},
    "colab_type": "code",
    "id": "L5edeb2r_agx",
    "ExecuteTime": {
     "end_time": "2024-07-28T06:45:20.165087200Z",
     "start_time": "2024-07-28T06:45:19.906271100Z"
    }
   },
   "outputs": [],
   "source": [
    "X_val, X_test, y_val, y_test = train_test_split(X_test,\n",
    "                                                y_test,\n",
    "                                                test_size = 0.5,\n",
    "                                                random_state = 0)"
   ]
  },
  {
   "cell_type": "markdown",
   "metadata": {
    "colab_type": "text",
    "id": "_mSLlAT9_eyI"
   },
   "source": [
    "# Part 2 - Building the ANN"
   ]
  },
  {
   "cell_type": "markdown",
   "metadata": {
    "colab_type": "text",
    "id": "CsBULd_f_wLY"
   },
   "source": [
    "### Initializing the ANN"
   ]
  },
  {
   "cell_type": "code",
   "execution_count": 7,
   "metadata": {
    "colab": {},
    "colab_type": "code",
    "id": "J6Hd97Ls__Nz",
    "ExecuteTime": {
     "end_time": "2024-07-28T06:45:22.567430900Z",
     "start_time": "2024-07-28T06:45:22.158075Z"
    }
   },
   "outputs": [],
   "source": [
    "ann = tf.keras.models.Sequential()"
   ]
  },
  {
   "cell_type": "markdown",
   "metadata": {
    "colab_type": "text",
    "id": "iitAFJS_ABUn"
   },
   "source": [
    "### Adding the input layer and the first hidden layer"
   ]
  },
  {
   "cell_type": "code",
   "execution_count": 8,
   "metadata": {
    "colab": {},
    "colab_type": "code",
    "id": "ksO_Vv40AHix",
    "ExecuteTime": {
     "end_time": "2024-07-28T06:45:24.423590Z",
     "start_time": "2024-07-28T06:45:24.095565500Z"
    }
   },
   "outputs": [],
   "source": [
    "ann.add(tf.keras.layers.Dense(units=20,\n",
    "                              input_shape=(X_train.shape[1],),\n",
    "                              activation='leaky_relu'))"
   ]
  },
  {
   "cell_type": "markdown",
   "metadata": {
    "colab_type": "text",
    "id": "-lb4kK_wAKbs"
   },
   "source": [
    "### Adding the second hidden layer"
   ]
  },
  {
   "cell_type": "code",
   "execution_count": 9,
   "metadata": {
    "colab": {},
    "colab_type": "code",
    "id": "c2357OqEAQOQ",
    "tags": [],
    "ExecuteTime": {
     "end_time": "2024-07-28T06:45:25.866194600Z",
     "start_time": "2024-07-28T06:45:25.783230900Z"
    }
   },
   "outputs": [],
   "source": [
    "ann.add(tf.keras.layers.Dense(units=15,\n",
    "                              activation='leaky_relu'))"
   ]
  },
  {
   "cell_type": "markdown",
   "metadata": {
    "colab_type": "text",
    "id": "-lb4kK_wAKbs"
   },
   "source": [
    "### Adding the third hidden layer"
   ]
  },
  {
   "cell_type": "code",
   "execution_count": 10,
   "metadata": {
    "colab": {},
    "colab_type": "code",
    "id": "c2357OqEAQOQ",
    "tags": [],
    "ExecuteTime": {
     "end_time": "2024-07-28T06:45:27.986207100Z",
     "start_time": "2024-07-28T06:45:27.891726Z"
    }
   },
   "outputs": [],
   "source": [
    "ann.add(tf.keras.layers.Dense(units=10,\n",
    "                              activation='leaky_relu'))"
   ]
  },
  {
   "cell_type": "markdown",
   "metadata": {
    "colab_type": "text",
    "id": "jwMOmKb3AdBY"
   },
   "source": [
    "### Adding the output layer"
   ]
  },
  {
   "cell_type": "code",
   "execution_count": 11,
   "metadata": {
    "colab": {},
    "colab_type": "code",
    "id": "YFATpzsUAkLL",
    "ExecuteTime": {
     "end_time": "2024-07-28T06:45:29.435074500Z",
     "start_time": "2024-07-28T06:45:29.345592Z"
    }
   },
   "outputs": [],
   "source": [
    "ann.add(tf.keras.layers.Dense(units=1,\n",
    "                              activation='linear'))"
   ]
  },
  {
   "cell_type": "markdown",
   "metadata": {},
   "source": [
    "### what model looks like"
   ]
  },
  {
   "cell_type": "code",
   "execution_count": 12,
   "metadata": {
    "ExecuteTime": {
     "end_time": "2024-07-28T06:45:31.126970500Z",
     "start_time": "2024-07-28T06:45:30.876831200Z"
    }
   },
   "outputs": [
    {
     "name": "stdout",
     "output_type": "stream",
     "text": [
      "Model: \"sequential\"\n",
      "_________________________________________________________________\n",
      " Layer (type)                Output Shape              Param #   \n",
      "=================================================================\n",
      " dense (Dense)               (None, 20)                80        \n",
      "                                                                 \n",
      " dense_1 (Dense)             (None, 15)                315       \n",
      "                                                                 \n",
      " dense_2 (Dense)             (None, 10)                160       \n",
      "                                                                 \n",
      " dense_3 (Dense)             (None, 1)                 11        \n",
      "                                                                 \n",
      "=================================================================\n",
      "Total params: 566\n",
      "Trainable params: 566\n",
      "Non-trainable params: 0\n",
      "_________________________________________________________________\n"
     ]
    }
   ],
   "source": [
    "ann.summary()"
   ]
  },
  {
   "cell_type": "markdown",
   "metadata": {
    "colab_type": "text",
    "id": "fq7e4fF6A1yy"
   },
   "source": [
    "# Part 3 - Training the ANN"
   ]
  },
  {
   "cell_type": "markdown",
   "metadata": {
    "colab_type": "text",
    "id": "qDeylAs2An25"
   },
   "source": [
    "### Compiling the ANN"
   ]
  },
  {
   "cell_type": "code",
   "execution_count": 13,
   "metadata": {
    "colab": {},
    "colab_type": "code",
    "id": "pesgbWlCAtB4",
    "ExecuteTime": {
     "end_time": "2024-07-28T06:45:33.033469600Z",
     "start_time": "2024-07-28T06:45:32.892831300Z"
    }
   },
   "outputs": [],
   "source": [
    "from tensorflow.keras.optimizers import Adam\n",
    "opt = Adam(learning_rate=0.01)\n",
    "ann.compile(optimizer = opt,\n",
    "            loss = 'mean_squared_error',\n",
    "            metrics = ['mae'])"
   ]
  },
  {
   "cell_type": "markdown",
   "metadata": {},
   "source": [
    "### early stopping callback"
   ]
  },
  {
   "cell_type": "code",
   "execution_count": 14,
   "metadata": {
    "ExecuteTime": {
     "end_time": "2024-07-28T06:45:34.970663200Z",
     "start_time": "2024-07-28T06:45:34.783231200Z"
    }
   },
   "outputs": [],
   "source": [
    "# protects from unnecessary further training of the model if a particular metric does not continue to improve over a number of n epochs. In such a case, the model training would be automatically aborted.\n",
    "from keras.callbacks import EarlyStopping\n",
    "es = EarlyStopping(monitor='val_loss',\n",
    "                   mode='min',\n",
    "                   patience=50,\n",
    "                   restore_best_weights = True)"
   ]
  },
  {
   "cell_type": "markdown",
   "metadata": {
    "colab_type": "text",
    "id": "YjVuiybYOo7r"
   },
   "source": [
    "### Training the ANN model on the Training set"
   ]
  },
  {
   "cell_type": "code",
   "execution_count": 15,
   "metadata": {
    "colab": {
     "base_uri": "https://localhost:8080/",
     "height": 1000
    },
    "colab_type": "code",
    "id": "c_vV-tiiA5zn",
    "outputId": "4a2b6ee6-ed75-4698-9069-b250e613803f",
    "ExecuteTime": {
     "end_time": "2024-07-28T06:46:27.917260400Z",
     "start_time": "2024-07-28T06:45:36.871037400Z"
    }
   },
   "outputs": [
    {
     "name": "stdout",
     "output_type": "stream",
     "text": [
      "Epoch 1/500\n",
      "25/25 [==============================] - 2s 22ms/step - loss: 937.1077 - mae: 23.3580 - val_loss: 282.8700 - val_mae: 13.9647\n",
      "Epoch 2/500\n",
      "25/25 [==============================] - 0s 5ms/step - loss: 136.5736 - mae: 8.8391 - val_loss: 60.4268 - val_mae: 6.4273\n",
      "Epoch 3/500\n",
      "25/25 [==============================] - 0s 5ms/step - loss: 49.1399 - mae: 5.2678 - val_loss: 34.6013 - val_mae: 4.7030\n",
      "Epoch 4/500\n",
      "25/25 [==============================] - 0s 5ms/step - loss: 32.4915 - mae: 4.4448 - val_loss: 25.6552 - val_mae: 3.8846\n",
      "Epoch 5/500\n",
      "25/25 [==============================] - 0s 5ms/step - loss: 27.4189 - mae: 4.0428 - val_loss: 20.1623 - val_mae: 3.4619\n",
      "Epoch 6/500\n",
      "25/25 [==============================] - 0s 5ms/step - loss: 24.1062 - mae: 3.7801 - val_loss: 26.3043 - val_mae: 4.0772\n",
      "Epoch 7/500\n",
      "25/25 [==============================] - 0s 5ms/step - loss: 24.7226 - mae: 3.7605 - val_loss: 17.9377 - val_mae: 3.3301\n",
      "Epoch 8/500\n",
      "25/25 [==============================] - 0s 5ms/step - loss: 24.4881 - mae: 3.7414 - val_loss: 15.7312 - val_mae: 2.9413\n",
      "Epoch 9/500\n",
      "25/25 [==============================] - 0s 5ms/step - loss: 20.9241 - mae: 3.3472 - val_loss: 15.7843 - val_mae: 2.8975\n",
      "Epoch 10/500\n",
      "25/25 [==============================] - 0s 5ms/step - loss: 18.8437 - mae: 3.1315 - val_loss: 14.0493 - val_mae: 2.8575\n",
      "Epoch 11/500\n",
      "25/25 [==============================] - 0s 5ms/step - loss: 18.3157 - mae: 3.1221 - val_loss: 12.9209 - val_mae: 2.6476\n",
      "Epoch 12/500\n",
      "25/25 [==============================] - 0s 5ms/step - loss: 17.3713 - mae: 3.0857 - val_loss: 17.2461 - val_mae: 3.0756\n",
      "Epoch 13/500\n",
      "25/25 [==============================] - 0s 5ms/step - loss: 17.2368 - mae: 3.0036 - val_loss: 12.4360 - val_mae: 2.4206\n",
      "Epoch 14/500\n",
      "25/25 [==============================] - 0s 5ms/step - loss: 15.2192 - mae: 2.8183 - val_loss: 10.9841 - val_mae: 2.5034\n",
      "Epoch 15/500\n",
      "25/25 [==============================] - 0s 5ms/step - loss: 16.9872 - mae: 3.0218 - val_loss: 11.0149 - val_mae: 2.3384\n",
      "Epoch 16/500\n",
      "25/25 [==============================] - 0s 5ms/step - loss: 14.2352 - mae: 2.7162 - val_loss: 10.9943 - val_mae: 2.2739\n",
      "Epoch 17/500\n",
      "25/25 [==============================] - 0s 5ms/step - loss: 13.7812 - mae: 2.6962 - val_loss: 9.5265 - val_mae: 2.2894\n",
      "Epoch 18/500\n",
      "25/25 [==============================] - 0s 5ms/step - loss: 16.9089 - mae: 3.1277 - val_loss: 10.5809 - val_mae: 2.1785\n",
      "Epoch 19/500\n",
      "25/25 [==============================] - 0s 5ms/step - loss: 16.5637 - mae: 3.0952 - val_loss: 14.7157 - val_mae: 2.9143\n",
      "Epoch 20/500\n",
      "25/25 [==============================] - 0s 5ms/step - loss: 12.3069 - mae: 2.5394 - val_loss: 8.9058 - val_mae: 2.1768\n",
      "Epoch 21/500\n",
      "25/25 [==============================] - 0s 5ms/step - loss: 12.1760 - mae: 2.6129 - val_loss: 8.1521 - val_mae: 2.0667\n",
      "Epoch 22/500\n",
      "25/25 [==============================] - 0s 7ms/step - loss: 11.3889 - mae: 2.4570 - val_loss: 8.1716 - val_mae: 1.9430\n",
      "Epoch 23/500\n",
      "25/25 [==============================] - 0s 5ms/step - loss: 12.2372 - mae: 2.5646 - val_loss: 10.5361 - val_mae: 2.5750\n",
      "Epoch 24/500\n",
      "25/25 [==============================] - 0s 5ms/step - loss: 12.2201 - mae: 2.6198 - val_loss: 9.1232 - val_mae: 2.0954\n",
      "Epoch 25/500\n",
      "25/25 [==============================] - 0s 6ms/step - loss: 11.1553 - mae: 2.4850 - val_loss: 7.8647 - val_mae: 1.9247\n",
      "Epoch 26/500\n",
      "25/25 [==============================] - 0s 6ms/step - loss: 11.5566 - mae: 2.5339 - val_loss: 7.8001 - val_mae: 1.8402\n",
      "Epoch 27/500\n",
      "25/25 [==============================] - 0s 6ms/step - loss: 9.6096 - mae: 2.2385 - val_loss: 7.0700 - val_mae: 1.9367\n",
      "Epoch 28/500\n",
      "25/25 [==============================] - 0s 5ms/step - loss: 9.4122 - mae: 2.2463 - val_loss: 6.3020 - val_mae: 1.7770\n",
      "Epoch 29/500\n",
      "25/25 [==============================] - 0s 6ms/step - loss: 10.6570 - mae: 2.4758 - val_loss: 6.5924 - val_mae: 1.9016\n",
      "Epoch 30/500\n",
      "25/25 [==============================] - 0s 5ms/step - loss: 9.8631 - mae: 2.3033 - val_loss: 5.9553 - val_mae: 1.7023\n",
      "Epoch 31/500\n",
      "25/25 [==============================] - 0s 5ms/step - loss: 8.6342 - mae: 2.1292 - val_loss: 6.5269 - val_mae: 1.8054\n",
      "Epoch 32/500\n",
      "25/25 [==============================] - 0s 5ms/step - loss: 8.5385 - mae: 2.0959 - val_loss: 7.7874 - val_mae: 2.1984\n",
      "Epoch 33/500\n",
      "25/25 [==============================] - 0s 5ms/step - loss: 9.7867 - mae: 2.2931 - val_loss: 6.0486 - val_mae: 1.6879\n",
      "Epoch 34/500\n",
      "25/25 [==============================] - 0s 5ms/step - loss: 8.4793 - mae: 2.1604 - val_loss: 5.8283 - val_mae: 1.6681\n",
      "Epoch 35/500\n",
      "25/25 [==============================] - 0s 5ms/step - loss: 9.1695 - mae: 2.2041 - val_loss: 7.6999 - val_mae: 2.2200\n",
      "Epoch 36/500\n",
      "25/25 [==============================] - 0s 5ms/step - loss: 8.7140 - mae: 2.2124 - val_loss: 5.7924 - val_mae: 1.7040\n",
      "Epoch 37/500\n",
      "25/25 [==============================] - 0s 5ms/step - loss: 7.8618 - mae: 2.0202 - val_loss: 7.3219 - val_mae: 2.1357\n",
      "Epoch 38/500\n",
      "25/25 [==============================] - 0s 5ms/step - loss: 9.1688 - mae: 2.2818 - val_loss: 6.9226 - val_mae: 2.1366\n",
      "Epoch 39/500\n",
      "25/25 [==============================] - 0s 5ms/step - loss: 7.7121 - mae: 2.0948 - val_loss: 6.2405 - val_mae: 1.8959\n",
      "Epoch 40/500\n",
      "25/25 [==============================] - 0s 5ms/step - loss: 10.0518 - mae: 2.3849 - val_loss: 14.9997 - val_mae: 3.1766\n",
      "Epoch 41/500\n",
      "25/25 [==============================] - 0s 5ms/step - loss: 8.0322 - mae: 2.0656 - val_loss: 5.9347 - val_mae: 1.6403\n",
      "Epoch 42/500\n",
      "25/25 [==============================] - 0s 5ms/step - loss: 7.5155 - mae: 1.9911 - val_loss: 5.9968 - val_mae: 1.6702\n",
      "Epoch 43/500\n",
      "25/25 [==============================] - 0s 5ms/step - loss: 7.4816 - mae: 2.0338 - val_loss: 5.6722 - val_mae: 1.5756\n",
      "Epoch 44/500\n",
      "25/25 [==============================] - 0s 5ms/step - loss: 7.1407 - mae: 1.9434 - val_loss: 5.6501 - val_mae: 1.6570\n",
      "Epoch 45/500\n",
      "25/25 [==============================] - 0s 5ms/step - loss: 6.8480 - mae: 1.9041 - val_loss: 6.1921 - val_mae: 1.6487\n",
      "Epoch 46/500\n",
      "25/25 [==============================] - 0s 5ms/step - loss: 7.1810 - mae: 2.0326 - val_loss: 6.0187 - val_mae: 1.8718\n",
      "Epoch 47/500\n",
      "25/25 [==============================] - 0s 6ms/step - loss: 7.0127 - mae: 1.9838 - val_loss: 5.5829 - val_mae: 1.5791\n",
      "Epoch 48/500\n",
      "25/25 [==============================] - 0s 5ms/step - loss: 7.5878 - mae: 2.0525 - val_loss: 11.5416 - val_mae: 2.6559\n",
      "Epoch 49/500\n",
      "25/25 [==============================] - 0s 5ms/step - loss: 8.7924 - mae: 2.2194 - val_loss: 5.2684 - val_mae: 1.5923\n",
      "Epoch 50/500\n",
      "25/25 [==============================] - 0s 5ms/step - loss: 6.3883 - mae: 1.8794 - val_loss: 6.4556 - val_mae: 2.0633\n",
      "Epoch 51/500\n",
      "25/25 [==============================] - 0s 5ms/step - loss: 6.5868 - mae: 1.8887 - val_loss: 5.7621 - val_mae: 1.8063\n",
      "Epoch 52/500\n",
      "25/25 [==============================] - 0s 5ms/step - loss: 6.4365 - mae: 1.8715 - val_loss: 6.7755 - val_mae: 1.9622\n",
      "Epoch 53/500\n",
      "25/25 [==============================] - 0s 5ms/step - loss: 7.6039 - mae: 2.0968 - val_loss: 6.0430 - val_mae: 1.7334\n",
      "Epoch 54/500\n",
      "25/25 [==============================] - 0s 5ms/step - loss: 6.6040 - mae: 1.9105 - val_loss: 7.5176 - val_mae: 2.2689\n",
      "Epoch 55/500\n",
      "25/25 [==============================] - 0s 5ms/step - loss: 6.7615 - mae: 1.9395 - val_loss: 8.8049 - val_mae: 2.3639\n",
      "Epoch 56/500\n",
      "25/25 [==============================] - 0s 5ms/step - loss: 7.0253 - mae: 1.9935 - val_loss: 6.0799 - val_mae: 1.7086\n",
      "Epoch 57/500\n",
      "25/25 [==============================] - 0s 5ms/step - loss: 6.0276 - mae: 1.7927 - val_loss: 5.3919 - val_mae: 1.5100\n",
      "Epoch 58/500\n",
      "25/25 [==============================] - 0s 5ms/step - loss: 6.5003 - mae: 1.8544 - val_loss: 4.7648 - val_mae: 1.4506\n",
      "Epoch 59/500\n",
      "25/25 [==============================] - 0s 5ms/step - loss: 6.8675 - mae: 1.9788 - val_loss: 5.2054 - val_mae: 1.6218\n",
      "Epoch 60/500\n",
      "25/25 [==============================] - 0s 4ms/step - loss: 6.0129 - mae: 1.8366 - val_loss: 5.3164 - val_mae: 1.5455\n",
      "Epoch 61/500\n",
      "25/25 [==============================] - 0s 5ms/step - loss: 5.7130 - mae: 1.7308 - val_loss: 4.9479 - val_mae: 1.4843\n",
      "Epoch 62/500\n",
      "25/25 [==============================] - 0s 5ms/step - loss: 9.6061 - mae: 2.4417 - val_loss: 6.2140 - val_mae: 1.8014\n",
      "Epoch 63/500\n",
      "25/25 [==============================] - 0s 5ms/step - loss: 6.8826 - mae: 1.9761 - val_loss: 5.3447 - val_mae: 1.5671\n",
      "Epoch 64/500\n",
      "25/25 [==============================] - 0s 5ms/step - loss: 5.4296 - mae: 1.7201 - val_loss: 8.7159 - val_mae: 2.4086\n",
      "Epoch 65/500\n",
      "25/25 [==============================] - 0s 5ms/step - loss: 6.0191 - mae: 1.8407 - val_loss: 4.7245 - val_mae: 1.6525\n",
      "Epoch 66/500\n",
      "25/25 [==============================] - 0s 5ms/step - loss: 5.5391 - mae: 1.7445 - val_loss: 4.6880 - val_mae: 1.6406\n",
      "Epoch 67/500\n",
      "25/25 [==============================] - 0s 5ms/step - loss: 6.2279 - mae: 1.9176 - val_loss: 5.2186 - val_mae: 1.6854\n",
      "Epoch 68/500\n",
      "25/25 [==============================] - 0s 5ms/step - loss: 5.4461 - mae: 1.7612 - val_loss: 4.3639 - val_mae: 1.4578\n",
      "Epoch 69/500\n",
      "25/25 [==============================] - 0s 5ms/step - loss: 5.9218 - mae: 1.8150 - val_loss: 14.4052 - val_mae: 3.2280\n",
      "Epoch 70/500\n",
      "25/25 [==============================] - 0s 5ms/step - loss: 7.6798 - mae: 2.1646 - val_loss: 4.1508 - val_mae: 1.5083\n",
      "Epoch 71/500\n",
      "25/25 [==============================] - 0s 5ms/step - loss: 6.3170 - mae: 1.9046 - val_loss: 13.4864 - val_mae: 3.1528\n",
      "Epoch 72/500\n",
      "25/25 [==============================] - 0s 5ms/step - loss: 8.2683 - mae: 2.1869 - val_loss: 5.8311 - val_mae: 1.9367\n",
      "Epoch 73/500\n",
      "25/25 [==============================] - 0s 5ms/step - loss: 5.5796 - mae: 1.8050 - val_loss: 8.6245 - val_mae: 2.2897\n",
      "Epoch 74/500\n",
      "25/25 [==============================] - 0s 5ms/step - loss: 6.4240 - mae: 1.9367 - val_loss: 4.0423 - val_mae: 1.4396\n",
      "Epoch 75/500\n",
      "25/25 [==============================] - 0s 5ms/step - loss: 4.8479 - mae: 1.6426 - val_loss: 5.6009 - val_mae: 1.7702\n",
      "Epoch 76/500\n",
      "25/25 [==============================] - 0s 5ms/step - loss: 6.2034 - mae: 1.8874 - val_loss: 3.8190 - val_mae: 1.3910\n",
      "Epoch 77/500\n",
      "25/25 [==============================] - 0s 5ms/step - loss: 4.2725 - mae: 1.5341 - val_loss: 3.8341 - val_mae: 1.3571\n",
      "Epoch 78/500\n",
      "25/25 [==============================] - 0s 5ms/step - loss: 4.8593 - mae: 1.6655 - val_loss: 4.1210 - val_mae: 1.5590\n",
      "Epoch 79/500\n",
      "25/25 [==============================] - 0s 5ms/step - loss: 5.1936 - mae: 1.7321 - val_loss: 3.2507 - val_mae: 1.2960\n",
      "Epoch 80/500\n",
      "25/25 [==============================] - 0s 5ms/step - loss: 4.3129 - mae: 1.5318 - val_loss: 3.2378 - val_mae: 1.3142\n",
      "Epoch 81/500\n",
      "25/25 [==============================] - 0s 5ms/step - loss: 4.1599 - mae: 1.5453 - val_loss: 4.0444 - val_mae: 1.5379\n",
      "Epoch 82/500\n",
      "25/25 [==============================] - 0s 5ms/step - loss: 3.9819 - mae: 1.5233 - val_loss: 2.9512 - val_mae: 1.1886\n",
      "Epoch 83/500\n",
      "25/25 [==============================] - 0s 5ms/step - loss: 4.6057 - mae: 1.6393 - val_loss: 3.7903 - val_mae: 1.4545\n",
      "Epoch 84/500\n",
      "25/25 [==============================] - 0s 5ms/step - loss: 3.5600 - mae: 1.3996 - val_loss: 2.9966 - val_mae: 1.1809\n",
      "Epoch 85/500\n",
      "25/25 [==============================] - 0s 5ms/step - loss: 4.4902 - mae: 1.6182 - val_loss: 3.1971 - val_mae: 1.3059\n",
      "Epoch 86/500\n",
      "25/25 [==============================] - 0s 5ms/step - loss: 4.7521 - mae: 1.6916 - val_loss: 3.2906 - val_mae: 1.3403\n",
      "Epoch 87/500\n",
      "25/25 [==============================] - 0s 5ms/step - loss: 3.7165 - mae: 1.4568 - val_loss: 2.7263 - val_mae: 1.1542\n",
      "Epoch 88/500\n",
      "25/25 [==============================] - 0s 5ms/step - loss: 3.9190 - mae: 1.5020 - val_loss: 3.5097 - val_mae: 1.5029\n",
      "Epoch 89/500\n",
      "25/25 [==============================] - 0s 5ms/step - loss: 3.7772 - mae: 1.4584 - val_loss: 2.5378 - val_mae: 1.1939\n",
      "Epoch 90/500\n",
      "25/25 [==============================] - 0s 5ms/step - loss: 2.8388 - mae: 1.2752 - val_loss: 3.5902 - val_mae: 1.4984\n",
      "Epoch 91/500\n",
      "25/25 [==============================] - 0s 5ms/step - loss: 2.8938 - mae: 1.2887 - val_loss: 2.6735 - val_mae: 1.2262\n",
      "Epoch 92/500\n",
      "25/25 [==============================] - 0s 5ms/step - loss: 4.5124 - mae: 1.6502 - val_loss: 5.5709 - val_mae: 1.9583\n",
      "Epoch 93/500\n",
      "25/25 [==============================] - 0s 5ms/step - loss: 3.4807 - mae: 1.4279 - val_loss: 2.9137 - val_mae: 1.3119\n",
      "Epoch 94/500\n",
      "25/25 [==============================] - 0s 5ms/step - loss: 2.7374 - mae: 1.2561 - val_loss: 2.1720 - val_mae: 1.1528\n",
      "Epoch 95/500\n",
      "25/25 [==============================] - 0s 5ms/step - loss: 2.2314 - mae: 1.0959 - val_loss: 3.0320 - val_mae: 1.4535\n",
      "Epoch 96/500\n",
      "25/25 [==============================] - 0s 5ms/step - loss: 3.3188 - mae: 1.4008 - val_loss: 2.8727 - val_mae: 1.4192\n",
      "Epoch 97/500\n",
      "25/25 [==============================] - 0s 5ms/step - loss: 5.1383 - mae: 1.7937 - val_loss: 8.2677 - val_mae: 2.3253\n",
      "Epoch 98/500\n",
      "25/25 [==============================] - 0s 5ms/step - loss: 4.5105 - mae: 1.6715 - val_loss: 2.7116 - val_mae: 1.2847\n",
      "Epoch 99/500\n",
      "25/25 [==============================] - 0s 5ms/step - loss: 2.4717 - mae: 1.1968 - val_loss: 1.7486 - val_mae: 0.9542\n",
      "Epoch 100/500\n",
      "25/25 [==============================] - 0s 5ms/step - loss: 3.2053 - mae: 1.3656 - val_loss: 2.7910 - val_mae: 1.2780\n",
      "Epoch 101/500\n",
      "25/25 [==============================] - 0s 5ms/step - loss: 2.2715 - mae: 1.1516 - val_loss: 2.5115 - val_mae: 1.2325\n",
      "Epoch 102/500\n",
      "25/25 [==============================] - 0s 5ms/step - loss: 2.3147 - mae: 1.1783 - val_loss: 1.6267 - val_mae: 0.9043\n",
      "Epoch 103/500\n",
      "25/25 [==============================] - 0s 5ms/step - loss: 1.9459 - mae: 1.0508 - val_loss: 2.4296 - val_mae: 1.2694\n",
      "Epoch 104/500\n",
      "25/25 [==============================] - 0s 5ms/step - loss: 2.0249 - mae: 1.0855 - val_loss: 2.9635 - val_mae: 1.3751\n",
      "Epoch 105/500\n",
      "25/25 [==============================] - 0s 5ms/step - loss: 2.5829 - mae: 1.2275 - val_loss: 1.6425 - val_mae: 0.9830\n",
      "Epoch 106/500\n",
      "25/25 [==============================] - 0s 6ms/step - loss: 2.3021 - mae: 1.1586 - val_loss: 1.5993 - val_mae: 0.9482\n",
      "Epoch 107/500\n",
      "25/25 [==============================] - 0s 5ms/step - loss: 1.9480 - mae: 1.0616 - val_loss: 1.4560 - val_mae: 0.9236\n",
      "Epoch 108/500\n",
      "25/25 [==============================] - 0s 5ms/step - loss: 1.6607 - mae: 0.9762 - val_loss: 1.3434 - val_mae: 0.8705\n",
      "Epoch 109/500\n",
      "25/25 [==============================] - 0s 5ms/step - loss: 1.5844 - mae: 0.9427 - val_loss: 1.5210 - val_mae: 0.9094\n",
      "Epoch 110/500\n",
      "25/25 [==============================] - 0s 5ms/step - loss: 2.2307 - mae: 1.1627 - val_loss: 1.5525 - val_mae: 0.9709\n",
      "Epoch 111/500\n",
      "25/25 [==============================] - 0s 5ms/step - loss: 3.2619 - mae: 1.4148 - val_loss: 2.9963 - val_mae: 1.3059\n",
      "Epoch 112/500\n",
      "25/25 [==============================] - 0s 5ms/step - loss: 3.9586 - mae: 1.5803 - val_loss: 2.1883 - val_mae: 1.2310\n",
      "Epoch 113/500\n",
      "25/25 [==============================] - 0s 5ms/step - loss: 2.3859 - mae: 1.2141 - val_loss: 1.5526 - val_mae: 0.9723\n",
      "Epoch 114/500\n",
      "25/25 [==============================] - 0s 5ms/step - loss: 1.8992 - mae: 1.0602 - val_loss: 2.1447 - val_mae: 1.1792\n",
      "Epoch 115/500\n",
      "25/25 [==============================] - 0s 5ms/step - loss: 1.7433 - mae: 0.9928 - val_loss: 1.3266 - val_mae: 0.8842\n",
      "Epoch 116/500\n",
      "25/25 [==============================] - 0s 5ms/step - loss: 1.4603 - mae: 0.8922 - val_loss: 1.5242 - val_mae: 0.8922\n",
      "Epoch 117/500\n",
      "25/25 [==============================] - 0s 5ms/step - loss: 1.6300 - mae: 0.9606 - val_loss: 2.3564 - val_mae: 1.2750\n",
      "Epoch 118/500\n",
      "25/25 [==============================] - 0s 5ms/step - loss: 1.9203 - mae: 1.0701 - val_loss: 1.4201 - val_mae: 0.8966\n",
      "Epoch 119/500\n",
      "25/25 [==============================] - 0s 5ms/step - loss: 2.0840 - mae: 1.0912 - val_loss: 1.9285 - val_mae: 1.1077\n",
      "Epoch 120/500\n",
      "25/25 [==============================] - 0s 5ms/step - loss: 2.8645 - mae: 1.3350 - val_loss: 1.2217 - val_mae: 0.7683\n",
      "Epoch 121/500\n",
      "25/25 [==============================] - 0s 5ms/step - loss: 1.6336 - mae: 0.9245 - val_loss: 1.4003 - val_mae: 0.9365\n",
      "Epoch 122/500\n",
      "25/25 [==============================] - 0s 5ms/step - loss: 1.6925 - mae: 0.9979 - val_loss: 2.0403 - val_mae: 1.1659\n",
      "Epoch 123/500\n",
      "25/25 [==============================] - 0s 5ms/step - loss: 2.6829 - mae: 1.2869 - val_loss: 5.5925 - val_mae: 2.1328\n",
      "Epoch 124/500\n",
      "25/25 [==============================] - 0s 5ms/step - loss: 2.7449 - mae: 1.2769 - val_loss: 1.7717 - val_mae: 1.0210\n",
      "Epoch 125/500\n",
      "25/25 [==============================] - 0s 5ms/step - loss: 1.8484 - mae: 1.0477 - val_loss: 1.1265 - val_mae: 0.7329\n",
      "Epoch 126/500\n",
      "25/25 [==============================] - 0s 5ms/step - loss: 1.6648 - mae: 0.9658 - val_loss: 1.2089 - val_mae: 0.8485\n",
      "Epoch 127/500\n",
      "25/25 [==============================] - 0s 5ms/step - loss: 2.1020 - mae: 1.1146 - val_loss: 1.3254 - val_mae: 0.8906\n",
      "Epoch 128/500\n",
      "25/25 [==============================] - 0s 5ms/step - loss: 1.3846 - mae: 0.8584 - val_loss: 1.0693 - val_mae: 0.7458\n",
      "Epoch 129/500\n",
      "25/25 [==============================] - 0s 5ms/step - loss: 1.4735 - mae: 0.8939 - val_loss: 1.1091 - val_mae: 0.7558\n",
      "Epoch 130/500\n",
      "25/25 [==============================] - 0s 5ms/step - loss: 2.6482 - mae: 1.2749 - val_loss: 3.1196 - val_mae: 1.4385\n",
      "Epoch 131/500\n",
      "25/25 [==============================] - 0s 5ms/step - loss: 1.4815 - mae: 0.8984 - val_loss: 0.9818 - val_mae: 0.6993\n",
      "Epoch 132/500\n",
      "25/25 [==============================] - 0s 5ms/step - loss: 1.2860 - mae: 0.8168 - val_loss: 1.6446 - val_mae: 1.0074\n",
      "Epoch 133/500\n",
      "25/25 [==============================] - 0s 5ms/step - loss: 1.7118 - mae: 0.9967 - val_loss: 1.6024 - val_mae: 1.0590\n",
      "Epoch 134/500\n",
      "25/25 [==============================] - 0s 5ms/step - loss: 1.2584 - mae: 0.8201 - val_loss: 1.1858 - val_mae: 0.8399\n",
      "Epoch 135/500\n",
      "25/25 [==============================] - 0s 5ms/step - loss: 1.9877 - mae: 1.0659 - val_loss: 1.8472 - val_mae: 1.1532\n",
      "Epoch 136/500\n",
      "25/25 [==============================] - 0s 5ms/step - loss: 1.8043 - mae: 1.0278 - val_loss: 1.7778 - val_mae: 1.0574\n",
      "Epoch 137/500\n",
      "25/25 [==============================] - 0s 5ms/step - loss: 1.2500 - mae: 0.8080 - val_loss: 1.2951 - val_mae: 0.8397\n",
      "Epoch 138/500\n",
      "25/25 [==============================] - 0s 5ms/step - loss: 2.4236 - mae: 1.2029 - val_loss: 5.0541 - val_mae: 1.9196\n",
      "Epoch 139/500\n",
      "25/25 [==============================] - 0s 5ms/step - loss: 4.8199 - mae: 1.7186 - val_loss: 4.6230 - val_mae: 1.8730\n",
      "Epoch 140/500\n",
      "25/25 [==============================] - 0s 5ms/step - loss: 3.3379 - mae: 1.4380 - val_loss: 1.3473 - val_mae: 0.8773\n",
      "Epoch 141/500\n",
      "25/25 [==============================] - 0s 5ms/step - loss: 1.5741 - mae: 0.9309 - val_loss: 1.1095 - val_mae: 0.7774\n",
      "Epoch 142/500\n",
      "25/25 [==============================] - 0s 5ms/step - loss: 1.2151 - mae: 0.8057 - val_loss: 0.9891 - val_mae: 0.6854\n",
      "Epoch 143/500\n",
      "25/25 [==============================] - 0s 5ms/step - loss: 1.4006 - mae: 0.8743 - val_loss: 1.1612 - val_mae: 0.8038\n",
      "Epoch 144/500\n",
      "25/25 [==============================] - 0s 5ms/step - loss: 1.1832 - mae: 0.7761 - val_loss: 1.0564 - val_mae: 0.7205\n",
      "Epoch 145/500\n",
      "25/25 [==============================] - 0s 5ms/step - loss: 1.4074 - mae: 0.8743 - val_loss: 1.6460 - val_mae: 1.0230\n",
      "Epoch 146/500\n",
      "25/25 [==============================] - 0s 5ms/step - loss: 1.8510 - mae: 1.0288 - val_loss: 2.2484 - val_mae: 1.2959\n",
      "Epoch 147/500\n",
      "25/25 [==============================] - 0s 5ms/step - loss: 1.5196 - mae: 0.9284 - val_loss: 2.9781 - val_mae: 1.4837\n",
      "Epoch 148/500\n",
      "25/25 [==============================] - 0s 5ms/step - loss: 2.8790 - mae: 1.3028 - val_loss: 3.2281 - val_mae: 1.4471\n",
      "Epoch 149/500\n",
      "25/25 [==============================] - 0s 5ms/step - loss: 1.7101 - mae: 0.9954 - val_loss: 1.8129 - val_mae: 1.1135\n",
      "Epoch 150/500\n",
      "25/25 [==============================] - 0s 5ms/step - loss: 1.2783 - mae: 0.8233 - val_loss: 1.0022 - val_mae: 0.7106\n",
      "Epoch 151/500\n",
      "25/25 [==============================] - 0s 5ms/step - loss: 1.2254 - mae: 0.8062 - val_loss: 1.1813 - val_mae: 0.7560\n",
      "Epoch 152/500\n",
      "25/25 [==============================] - 0s 5ms/step - loss: 1.7670 - mae: 1.0177 - val_loss: 1.1903 - val_mae: 0.7376\n",
      "Epoch 153/500\n",
      "25/25 [==============================] - 0s 5ms/step - loss: 2.1475 - mae: 1.1166 - val_loss: 1.3378 - val_mae: 0.9073\n",
      "Epoch 154/500\n",
      "25/25 [==============================] - 0s 5ms/step - loss: 1.4756 - mae: 0.9026 - val_loss: 2.6979 - val_mae: 1.3821\n",
      "Epoch 155/500\n",
      "25/25 [==============================] - 0s 6ms/step - loss: 1.5134 - mae: 0.9299 - val_loss: 1.1758 - val_mae: 0.8240\n",
      "Epoch 156/500\n",
      "25/25 [==============================] - 0s 5ms/step - loss: 2.5867 - mae: 1.2340 - val_loss: 6.9742 - val_mae: 2.3689\n",
      "Epoch 157/500\n",
      "25/25 [==============================] - 0s 5ms/step - loss: 10.3122 - mae: 2.3986 - val_loss: 16.3970 - val_mae: 3.1410\n",
      "Epoch 158/500\n",
      "25/25 [==============================] - 0s 5ms/step - loss: 5.9311 - mae: 1.8776 - val_loss: 2.2401 - val_mae: 1.1723\n",
      "Epoch 159/500\n",
      "25/25 [==============================] - 0s 5ms/step - loss: 1.5126 - mae: 0.8988 - val_loss: 0.9625 - val_mae: 0.7147\n",
      "Epoch 160/500\n",
      "25/25 [==============================] - 0s 5ms/step - loss: 1.1308 - mae: 0.7579 - val_loss: 1.5284 - val_mae: 0.9946\n",
      "Epoch 161/500\n",
      "25/25 [==============================] - 0s 5ms/step - loss: 1.2099 - mae: 0.8021 - val_loss: 1.9706 - val_mae: 1.1184\n",
      "Epoch 162/500\n",
      "25/25 [==============================] - 0s 5ms/step - loss: 2.1740 - mae: 1.1385 - val_loss: 4.8709 - val_mae: 1.8680\n",
      "Epoch 163/500\n",
      "25/25 [==============================] - 0s 5ms/step - loss: 2.9564 - mae: 1.3532 - val_loss: 1.4204 - val_mae: 0.8951\n",
      "Epoch 164/500\n",
      "25/25 [==============================] - 0s 5ms/step - loss: 1.4641 - mae: 0.8747 - val_loss: 1.0946 - val_mae: 0.7810\n",
      "Epoch 165/500\n",
      "25/25 [==============================] - 0s 5ms/step - loss: 1.1594 - mae: 0.7882 - val_loss: 0.9841 - val_mae: 0.6818\n",
      "Epoch 166/500\n",
      "25/25 [==============================] - 0s 5ms/step - loss: 1.1754 - mae: 0.7930 - val_loss: 0.9475 - val_mae: 0.6606\n",
      "Epoch 167/500\n",
      "25/25 [==============================] - 0s 5ms/step - loss: 1.0928 - mae: 0.7340 - val_loss: 0.9294 - val_mae: 0.6785\n",
      "Epoch 168/500\n",
      "25/25 [==============================] - 0s 6ms/step - loss: 1.4839 - mae: 0.9032 - val_loss: 1.1581 - val_mae: 0.8042\n",
      "Epoch 169/500\n",
      "25/25 [==============================] - 0s 6ms/step - loss: 1.9025 - mae: 1.0509 - val_loss: 1.2242 - val_mae: 0.8131\n",
      "Epoch 170/500\n",
      "25/25 [==============================] - 0s 5ms/step - loss: 1.1874 - mae: 0.7844 - val_loss: 1.0570 - val_mae: 0.7602\n",
      "Epoch 171/500\n",
      "25/25 [==============================] - 0s 5ms/step - loss: 1.2045 - mae: 0.8243 - val_loss: 1.2656 - val_mae: 0.8849\n",
      "Epoch 172/500\n",
      "25/25 [==============================] - 0s 5ms/step - loss: 1.7430 - mae: 1.0016 - val_loss: 1.2559 - val_mae: 0.8695\n",
      "Epoch 173/500\n",
      "25/25 [==============================] - 0s 6ms/step - loss: 1.4498 - mae: 0.8919 - val_loss: 1.7650 - val_mae: 1.0622\n",
      "Epoch 174/500\n",
      "25/25 [==============================] - 0s 5ms/step - loss: 1.7881 - mae: 1.0366 - val_loss: 2.1584 - val_mae: 1.2322\n",
      "Epoch 175/500\n",
      "25/25 [==============================] - 0s 5ms/step - loss: 1.5164 - mae: 0.9165 - val_loss: 1.4795 - val_mae: 0.9066\n",
      "Epoch 176/500\n",
      "25/25 [==============================] - 0s 5ms/step - loss: 1.3957 - mae: 0.8932 - val_loss: 1.7638 - val_mae: 1.0995\n",
      "Epoch 177/500\n",
      "25/25 [==============================] - 0s 5ms/step - loss: 1.5862 - mae: 0.9643 - val_loss: 1.7400 - val_mae: 1.0642\n",
      "Epoch 178/500\n",
      "25/25 [==============================] - 0s 6ms/step - loss: 1.7962 - mae: 1.0291 - val_loss: 1.8180 - val_mae: 1.1235\n",
      "Epoch 179/500\n",
      "25/25 [==============================] - 0s 5ms/step - loss: 1.5793 - mae: 0.9645 - val_loss: 1.0817 - val_mae: 0.7111\n",
      "Epoch 180/500\n",
      "25/25 [==============================] - 0s 6ms/step - loss: 1.7996 - mae: 1.0023 - val_loss: 1.1553 - val_mae: 0.8113\n",
      "Epoch 181/500\n",
      "25/25 [==============================] - 0s 5ms/step - loss: 2.2143 - mae: 1.1639 - val_loss: 3.1237 - val_mae: 1.5199\n",
      "Epoch 182/500\n",
      "25/25 [==============================] - 0s 5ms/step - loss: 1.9090 - mae: 1.0660 - val_loss: 1.3827 - val_mae: 0.9685\n",
      "Epoch 183/500\n",
      "25/25 [==============================] - 0s 5ms/step - loss: 1.1871 - mae: 0.8007 - val_loss: 0.9700 - val_mae: 0.6876\n",
      "Epoch 184/500\n",
      "25/25 [==============================] - 0s 5ms/step - loss: 1.1133 - mae: 0.7549 - val_loss: 1.8041 - val_mae: 1.0866\n",
      "Epoch 185/500\n",
      "25/25 [==============================] - 0s 5ms/step - loss: 1.4148 - mae: 0.8992 - val_loss: 1.0482 - val_mae: 0.6884\n",
      "Epoch 186/500\n",
      "25/25 [==============================] - 0s 5ms/step - loss: 1.5283 - mae: 0.9128 - val_loss: 1.5354 - val_mae: 1.0473\n",
      "Epoch 187/500\n",
      "25/25 [==============================] - 0s 5ms/step - loss: 1.9724 - mae: 1.0685 - val_loss: 1.3431 - val_mae: 0.8414\n",
      "Epoch 188/500\n",
      "25/25 [==============================] - 0s 5ms/step - loss: 1.3761 - mae: 0.8821 - val_loss: 1.3849 - val_mae: 0.8835\n",
      "Epoch 189/500\n",
      "25/25 [==============================] - 0s 6ms/step - loss: 1.3707 - mae: 0.8819 - val_loss: 1.2703 - val_mae: 0.8455\n",
      "Epoch 190/500\n",
      "25/25 [==============================] - 0s 5ms/step - loss: 1.5423 - mae: 0.9411 - val_loss: 1.1483 - val_mae: 0.8182\n",
      "Epoch 191/500\n",
      "25/25 [==============================] - 0s 5ms/step - loss: 1.3787 - mae: 0.8781 - val_loss: 1.0523 - val_mae: 0.7159\n",
      "Epoch 192/500\n",
      "25/25 [==============================] - 0s 5ms/step - loss: 1.0966 - mae: 0.7549 - val_loss: 0.9133 - val_mae: 0.6622\n",
      "Epoch 193/500\n",
      "25/25 [==============================] - 0s 5ms/step - loss: 1.2495 - mae: 0.8180 - val_loss: 1.3112 - val_mae: 0.8758\n",
      "Epoch 194/500\n",
      "25/25 [==============================] - 0s 6ms/step - loss: 1.0723 - mae: 0.7391 - val_loss: 0.9249 - val_mae: 0.7149\n",
      "Epoch 195/500\n",
      "25/25 [==============================] - 0s 5ms/step - loss: 1.4779 - mae: 0.8909 - val_loss: 2.2505 - val_mae: 1.2567\n",
      "Epoch 196/500\n",
      "25/25 [==============================] - 0s 5ms/step - loss: 1.2975 - mae: 0.8146 - val_loss: 0.9797 - val_mae: 0.7415\n",
      "Epoch 197/500\n",
      "25/25 [==============================] - 0s 5ms/step - loss: 1.0434 - mae: 0.7291 - val_loss: 0.9736 - val_mae: 0.6888\n",
      "Epoch 198/500\n",
      "25/25 [==============================] - 0s 6ms/step - loss: 0.9756 - mae: 0.7040 - val_loss: 1.1137 - val_mae: 0.7775\n",
      "Epoch 199/500\n",
      "25/25 [==============================] - 0s 6ms/step - loss: 0.9377 - mae: 0.6783 - val_loss: 0.9092 - val_mae: 0.7082\n",
      "Epoch 200/500\n",
      "25/25 [==============================] - 0s 6ms/step - loss: 1.2838 - mae: 0.8148 - val_loss: 1.5843 - val_mae: 1.0169\n",
      "Epoch 201/500\n",
      "25/25 [==============================] - 0s 6ms/step - loss: 1.4621 - mae: 0.9251 - val_loss: 0.9752 - val_mae: 0.6914\n",
      "Epoch 202/500\n",
      "25/25 [==============================] - 0s 6ms/step - loss: 2.8932 - mae: 1.3569 - val_loss: 2.0855 - val_mae: 1.1622\n",
      "Epoch 203/500\n",
      "25/25 [==============================] - 0s 5ms/step - loss: 2.1812 - mae: 1.1417 - val_loss: 1.2775 - val_mae: 0.8257\n",
      "Epoch 204/500\n",
      "25/25 [==============================] - 0s 6ms/step - loss: 2.1128 - mae: 1.1237 - val_loss: 1.3504 - val_mae: 0.9282\n",
      "Epoch 205/500\n",
      "25/25 [==============================] - 0s 5ms/step - loss: 2.2681 - mae: 1.1524 - val_loss: 2.4336 - val_mae: 1.3171\n",
      "Epoch 206/500\n",
      "25/25 [==============================] - 0s 6ms/step - loss: 1.3622 - mae: 0.8813 - val_loss: 1.0153 - val_mae: 0.7401\n",
      "Epoch 207/500\n",
      "25/25 [==============================] - 0s 5ms/step - loss: 1.2261 - mae: 0.8045 - val_loss: 1.8073 - val_mae: 1.1590\n",
      "Epoch 208/500\n",
      "25/25 [==============================] - 0s 5ms/step - loss: 1.6409 - mae: 0.9746 - val_loss: 1.2426 - val_mae: 0.9041\n",
      "Epoch 209/500\n",
      "25/25 [==============================] - 0s 6ms/step - loss: 1.2430 - mae: 0.8245 - val_loss: 1.7884 - val_mae: 1.0308\n",
      "Epoch 210/500\n",
      "25/25 [==============================] - 0s 6ms/step - loss: 1.2797 - mae: 0.8376 - val_loss: 1.2407 - val_mae: 0.8274\n",
      "Epoch 211/500\n",
      "25/25 [==============================] - 0s 6ms/step - loss: 1.1819 - mae: 0.7968 - val_loss: 0.9508 - val_mae: 0.6898\n",
      "Epoch 212/500\n",
      "25/25 [==============================] - 0s 5ms/step - loss: 1.9934 - mae: 1.0852 - val_loss: 2.4432 - val_mae: 1.2630\n",
      "Epoch 213/500\n",
      "25/25 [==============================] - 0s 6ms/step - loss: 3.5096 - mae: 1.4928 - val_loss: 2.4331 - val_mae: 1.2703\n",
      "Epoch 214/500\n",
      "25/25 [==============================] - 0s 6ms/step - loss: 1.6981 - mae: 0.9620 - val_loss: 0.9672 - val_mae: 0.7020\n",
      "Epoch 215/500\n",
      "25/25 [==============================] - 0s 5ms/step - loss: 1.1272 - mae: 0.7734 - val_loss: 1.7789 - val_mae: 1.1043\n",
      "Epoch 216/500\n",
      "25/25 [==============================] - 0s 6ms/step - loss: 1.5352 - mae: 0.9610 - val_loss: 1.6045 - val_mae: 0.9659\n",
      "Epoch 217/500\n",
      "25/25 [==============================] - 0s 5ms/step - loss: 1.3007 - mae: 0.8422 - val_loss: 1.1479 - val_mae: 0.7814\n",
      "Epoch 218/500\n",
      "25/25 [==============================] - 0s 6ms/step - loss: 1.6887 - mae: 0.9875 - val_loss: 1.0671 - val_mae: 0.7373\n",
      "Epoch 219/500\n",
      "25/25 [==============================] - 0s 6ms/step - loss: 1.3980 - mae: 0.9130 - val_loss: 1.1912 - val_mae: 0.8310\n",
      "Epoch 220/500\n",
      "25/25 [==============================] - 0s 5ms/step - loss: 1.3411 - mae: 0.8758 - val_loss: 0.9549 - val_mae: 0.6799\n",
      "Epoch 221/500\n",
      "25/25 [==============================] - 0s 6ms/step - loss: 1.1091 - mae: 0.7735 - val_loss: 1.1217 - val_mae: 0.8044\n",
      "Epoch 222/500\n",
      "25/25 [==============================] - 0s 6ms/step - loss: 1.3154 - mae: 0.8858 - val_loss: 1.1254 - val_mae: 0.8170\n",
      "Epoch 223/500\n",
      "25/25 [==============================] - 0s 6ms/step - loss: 2.0259 - mae: 1.0988 - val_loss: 2.0390 - val_mae: 1.1697\n",
      "Epoch 224/500\n",
      "25/25 [==============================] - 0s 5ms/step - loss: 1.2844 - mae: 0.8263 - val_loss: 1.4225 - val_mae: 0.9645\n",
      "Epoch 225/500\n",
      "25/25 [==============================] - 0s 6ms/step - loss: 1.4217 - mae: 0.9057 - val_loss: 1.8148 - val_mae: 1.0842\n",
      "Epoch 226/500\n",
      "25/25 [==============================] - 0s 6ms/step - loss: 1.2774 - mae: 0.8160 - val_loss: 1.4460 - val_mae: 0.9722\n",
      "Epoch 227/500\n",
      "25/25 [==============================] - 0s 6ms/step - loss: 1.5596 - mae: 0.9274 - val_loss: 1.4329 - val_mae: 0.9565\n",
      "Epoch 228/500\n",
      "25/25 [==============================] - 0s 6ms/step - loss: 1.3589 - mae: 0.8758 - val_loss: 1.2857 - val_mae: 0.8441\n",
      "Epoch 229/500\n",
      "25/25 [==============================] - 0s 5ms/step - loss: 1.2707 - mae: 0.8315 - val_loss: 0.9708 - val_mae: 0.7258\n",
      "Epoch 230/500\n",
      "25/25 [==============================] - 0s 5ms/step - loss: 0.9111 - mae: 0.6632 - val_loss: 1.2357 - val_mae: 0.9018\n",
      "Epoch 231/500\n",
      "25/25 [==============================] - 0s 5ms/step - loss: 0.9874 - mae: 0.7136 - val_loss: 1.3911 - val_mae: 0.9269\n",
      "Epoch 232/500\n",
      "25/25 [==============================] - 0s 5ms/step - loss: 3.4991 - mae: 1.4494 - val_loss: 3.3968 - val_mae: 1.4744\n",
      "Epoch 233/500\n",
      "25/25 [==============================] - 0s 5ms/step - loss: 1.4232 - mae: 0.8739 - val_loss: 1.2101 - val_mae: 0.8403\n",
      "Epoch 234/500\n",
      "25/25 [==============================] - 0s 5ms/step - loss: 1.2234 - mae: 0.8149 - val_loss: 1.1348 - val_mae: 0.7358\n",
      "Epoch 235/500\n",
      "25/25 [==============================] - 0s 6ms/step - loss: 1.1514 - mae: 0.7783 - val_loss: 1.0123 - val_mae: 0.6907\n",
      "Epoch 236/500\n",
      "25/25 [==============================] - 0s 6ms/step - loss: 1.4438 - mae: 0.8930 - val_loss: 1.4231 - val_mae: 0.9093\n",
      "Epoch 237/500\n",
      "25/25 [==============================] - 0s 6ms/step - loss: 1.2588 - mae: 0.8337 - val_loss: 0.9146 - val_mae: 0.6931\n",
      "Epoch 238/500\n",
      "25/25 [==============================] - 0s 6ms/step - loss: 0.9104 - mae: 0.6840 - val_loss: 2.2874 - val_mae: 1.2742\n",
      "Epoch 239/500\n",
      "25/25 [==============================] - 0s 6ms/step - loss: 1.8311 - mae: 1.0370 - val_loss: 1.0075 - val_mae: 0.7266\n",
      "Epoch 240/500\n",
      "25/25 [==============================] - 0s 5ms/step - loss: 1.3570 - mae: 0.8740 - val_loss: 2.3887 - val_mae: 1.3017\n",
      "Epoch 241/500\n",
      "25/25 [==============================] - 0s 5ms/step - loss: 1.5569 - mae: 0.9499 - val_loss: 0.8618 - val_mae: 0.6449\n",
      "Epoch 242/500\n",
      "25/25 [==============================] - 0s 5ms/step - loss: 1.2490 - mae: 0.8265 - val_loss: 0.9846 - val_mae: 0.7692\n",
      "Epoch 243/500\n",
      "25/25 [==============================] - 0s 5ms/step - loss: 1.1259 - mae: 0.7674 - val_loss: 1.1888 - val_mae: 0.7762\n",
      "Epoch 244/500\n",
      "25/25 [==============================] - 0s 6ms/step - loss: 1.4161 - mae: 0.8965 - val_loss: 0.8632 - val_mae: 0.6540\n",
      "Epoch 245/500\n",
      "25/25 [==============================] - 0s 5ms/step - loss: 1.1683 - mae: 0.7921 - val_loss: 1.0452 - val_mae: 0.7043\n",
      "Epoch 246/500\n",
      "25/25 [==============================] - 0s 6ms/step - loss: 1.0297 - mae: 0.7302 - val_loss: 0.9285 - val_mae: 0.7177\n",
      "Epoch 247/500\n",
      "25/25 [==============================] - 0s 5ms/step - loss: 1.6411 - mae: 0.9952 - val_loss: 2.4017 - val_mae: 1.2237\n",
      "Epoch 248/500\n",
      "25/25 [==============================] - 0s 5ms/step - loss: 1.1172 - mae: 0.7704 - val_loss: 1.2035 - val_mae: 0.8444\n",
      "Epoch 249/500\n",
      "25/25 [==============================] - 0s 6ms/step - loss: 1.4560 - mae: 0.9244 - val_loss: 2.0744 - val_mae: 1.1559\n",
      "Epoch 250/500\n",
      "25/25 [==============================] - 0s 6ms/step - loss: 1.3614 - mae: 0.8744 - val_loss: 0.8722 - val_mae: 0.6409\n",
      "Epoch 251/500\n",
      "25/25 [==============================] - 0s 5ms/step - loss: 1.3166 - mae: 0.8468 - val_loss: 1.1750 - val_mae: 0.8229\n",
      "Epoch 252/500\n",
      "25/25 [==============================] - 0s 6ms/step - loss: 1.0070 - mae: 0.7065 - val_loss: 1.2317 - val_mae: 0.8490\n",
      "Epoch 253/500\n",
      "25/25 [==============================] - 0s 5ms/step - loss: 1.1143 - mae: 0.7487 - val_loss: 1.0689 - val_mae: 0.7537\n",
      "Epoch 254/500\n",
      "25/25 [==============================] - 0s 5ms/step - loss: 1.3581 - mae: 0.8766 - val_loss: 2.2106 - val_mae: 1.2155\n",
      "Epoch 255/500\n",
      "25/25 [==============================] - 0s 5ms/step - loss: 1.4701 - mae: 0.9137 - val_loss: 1.6262 - val_mae: 0.9371\n",
      "Epoch 256/500\n",
      "25/25 [==============================] - 0s 5ms/step - loss: 2.2109 - mae: 1.1154 - val_loss: 2.3071 - val_mae: 1.2587\n",
      "Epoch 257/500\n",
      "25/25 [==============================] - 0s 5ms/step - loss: 1.5066 - mae: 0.9150 - val_loss: 1.0846 - val_mae: 0.7482\n",
      "Epoch 258/500\n",
      "25/25 [==============================] - 0s 5ms/step - loss: 1.7824 - mae: 1.0074 - val_loss: 2.0172 - val_mae: 1.1455\n",
      "Epoch 259/500\n",
      "25/25 [==============================] - 0s 5ms/step - loss: 2.8143 - mae: 1.2822 - val_loss: 5.3519 - val_mae: 1.8959\n",
      "Epoch 260/500\n",
      "25/25 [==============================] - 0s 6ms/step - loss: 2.5370 - mae: 1.1963 - val_loss: 1.0316 - val_mae: 0.7069\n",
      "Epoch 261/500\n",
      "25/25 [==============================] - 0s 6ms/step - loss: 1.0379 - mae: 0.7331 - val_loss: 1.1359 - val_mae: 0.7686\n",
      "Epoch 262/500\n",
      "25/25 [==============================] - 0s 5ms/step - loss: 1.9366 - mae: 1.0689 - val_loss: 1.0551 - val_mae: 0.7939\n",
      "Epoch 263/500\n",
      "25/25 [==============================] - 0s 5ms/step - loss: 1.5826 - mae: 0.9637 - val_loss: 3.0926 - val_mae: 1.5598\n",
      "Epoch 264/500\n",
      "25/25 [==============================] - 0s 5ms/step - loss: 1.7903 - mae: 1.0379 - val_loss: 0.8601 - val_mae: 0.6802\n",
      "Epoch 265/500\n",
      "25/25 [==============================] - 0s 5ms/step - loss: 1.2415 - mae: 0.8251 - val_loss: 0.9718 - val_mae: 0.6834\n",
      "Epoch 266/500\n",
      "25/25 [==============================] - 0s 5ms/step - loss: 1.3982 - mae: 0.8761 - val_loss: 1.2861 - val_mae: 0.8507\n",
      "Epoch 267/500\n",
      "25/25 [==============================] - 0s 7ms/step - loss: 1.1458 - mae: 0.7632 - val_loss: 1.1284 - val_mae: 0.8057\n",
      "Epoch 268/500\n",
      "25/25 [==============================] - 0s 5ms/step - loss: 0.9837 - mae: 0.7082 - val_loss: 0.7749 - val_mae: 0.5939\n",
      "Epoch 269/500\n",
      "25/25 [==============================] - 0s 5ms/step - loss: 0.9005 - mae: 0.6677 - val_loss: 0.8835 - val_mae: 0.6971\n",
      "Epoch 270/500\n",
      "25/25 [==============================] - 0s 5ms/step - loss: 1.1655 - mae: 0.7629 - val_loss: 1.0434 - val_mae: 0.7946\n",
      "Epoch 271/500\n",
      "25/25 [==============================] - 0s 5ms/step - loss: 2.0059 - mae: 1.1256 - val_loss: 5.2397 - val_mae: 1.9727\n",
      "Epoch 272/500\n",
      "25/25 [==============================] - 0s 5ms/step - loss: 5.7133 - mae: 1.8827 - val_loss: 3.8514 - val_mae: 1.6458\n",
      "Epoch 273/500\n",
      "25/25 [==============================] - 0s 5ms/step - loss: 1.9317 - mae: 1.0644 - val_loss: 0.8770 - val_mae: 0.6695\n",
      "Epoch 274/500\n",
      "25/25 [==============================] - 0s 6ms/step - loss: 1.0542 - mae: 0.7464 - val_loss: 0.9262 - val_mae: 0.6749\n",
      "Epoch 275/500\n",
      "25/25 [==============================] - 0s 6ms/step - loss: 0.9509 - mae: 0.6943 - val_loss: 0.8669 - val_mae: 0.6328\n",
      "Epoch 276/500\n",
      "25/25 [==============================] - 0s 5ms/step - loss: 0.8457 - mae: 0.6385 - val_loss: 0.8177 - val_mae: 0.6069\n",
      "Epoch 277/500\n",
      "25/25 [==============================] - 0s 5ms/step - loss: 0.9730 - mae: 0.6996 - val_loss: 0.9289 - val_mae: 0.6880\n",
      "Epoch 278/500\n",
      "25/25 [==============================] - 0s 5ms/step - loss: 0.9905 - mae: 0.7235 - val_loss: 1.1215 - val_mae: 0.7707\n",
      "Epoch 279/500\n",
      "25/25 [==============================] - 0s 5ms/step - loss: 1.0937 - mae: 0.7741 - val_loss: 1.2807 - val_mae: 0.8849\n",
      "Epoch 280/500\n",
      "25/25 [==============================] - 0s 5ms/step - loss: 0.8885 - mae: 0.6610 - val_loss: 0.9204 - val_mae: 0.6584\n",
      "Epoch 281/500\n",
      "25/25 [==============================] - 0s 6ms/step - loss: 0.9103 - mae: 0.6785 - val_loss: 0.8590 - val_mae: 0.6398\n",
      "Epoch 282/500\n",
      "25/25 [==============================] - 0s 6ms/step - loss: 1.0494 - mae: 0.7475 - val_loss: 1.2954 - val_mae: 0.8380\n",
      "Epoch 283/500\n",
      "25/25 [==============================] - 0s 6ms/step - loss: 1.0963 - mae: 0.7768 - val_loss: 1.2490 - val_mae: 0.8234\n",
      "Epoch 284/500\n",
      "25/25 [==============================] - 0s 6ms/step - loss: 1.4450 - mae: 0.9016 - val_loss: 1.1077 - val_mae: 0.7629\n",
      "Epoch 285/500\n",
      "25/25 [==============================] - 0s 5ms/step - loss: 1.0203 - mae: 0.7340 - val_loss: 0.9449 - val_mae: 0.7167\n",
      "Epoch 286/500\n",
      "25/25 [==============================] - 0s 5ms/step - loss: 1.0863 - mae: 0.7574 - val_loss: 1.0069 - val_mae: 0.7440\n",
      "Epoch 287/500\n",
      "25/25 [==============================] - 0s 5ms/step - loss: 1.1495 - mae: 0.7974 - val_loss: 0.8914 - val_mae: 0.6613\n",
      "Epoch 288/500\n",
      "25/25 [==============================] - 0s 5ms/step - loss: 1.3553 - mae: 0.8651 - val_loss: 2.0947 - val_mae: 1.1893\n",
      "Epoch 289/500\n",
      "25/25 [==============================] - 0s 5ms/step - loss: 1.2390 - mae: 0.8364 - val_loss: 0.8636 - val_mae: 0.6192\n",
      "Epoch 290/500\n",
      "25/25 [==============================] - 0s 6ms/step - loss: 0.9099 - mae: 0.6881 - val_loss: 0.9051 - val_mae: 0.7005\n",
      "Epoch 291/500\n",
      "25/25 [==============================] - 0s 5ms/step - loss: 1.8284 - mae: 1.0354 - val_loss: 2.5138 - val_mae: 1.2318\n",
      "Epoch 292/500\n",
      "25/25 [==============================] - 0s 5ms/step - loss: 1.8474 - mae: 1.0715 - val_loss: 1.0649 - val_mae: 0.7845\n",
      "Epoch 293/500\n",
      "25/25 [==============================] - 0s 5ms/step - loss: 1.1426 - mae: 0.7882 - val_loss: 3.5114 - val_mae: 1.6637\n",
      "Epoch 294/500\n",
      "25/25 [==============================] - 0s 5ms/step - loss: 2.2629 - mae: 1.1810 - val_loss: 1.0101 - val_mae: 0.7347\n",
      "Epoch 295/500\n",
      "25/25 [==============================] - 0s 6ms/step - loss: 1.7152 - mae: 1.0093 - val_loss: 2.5287 - val_mae: 1.3032\n",
      "Epoch 296/500\n",
      "25/25 [==============================] - 0s 7ms/step - loss: 4.1706 - mae: 1.5841 - val_loss: 2.2914 - val_mae: 1.2241\n",
      "Epoch 297/500\n",
      "25/25 [==============================] - 0s 6ms/step - loss: 1.6996 - mae: 0.9776 - val_loss: 2.4889 - val_mae: 1.2839\n",
      "Epoch 298/500\n",
      "25/25 [==============================] - 0s 5ms/step - loss: 1.7320 - mae: 0.9979 - val_loss: 1.5885 - val_mae: 0.9550\n",
      "Epoch 299/500\n",
      "25/25 [==============================] - 0s 6ms/step - loss: 1.4376 - mae: 0.8914 - val_loss: 0.9093 - val_mae: 0.6688\n",
      "Epoch 300/500\n",
      "25/25 [==============================] - 0s 5ms/step - loss: 1.1139 - mae: 0.7881 - val_loss: 0.9503 - val_mae: 0.6973\n",
      "Epoch 301/500\n",
      "25/25 [==============================] - 0s 6ms/step - loss: 1.1654 - mae: 0.8024 - val_loss: 2.2111 - val_mae: 1.2784\n",
      "Epoch 302/500\n",
      "25/25 [==============================] - 0s 5ms/step - loss: 2.0830 - mae: 1.1156 - val_loss: 0.9007 - val_mae: 0.6390\n",
      "Epoch 303/500\n",
      "25/25 [==============================] - 0s 6ms/step - loss: 1.1427 - mae: 0.7940 - val_loss: 1.0623 - val_mae: 0.7595\n",
      "Epoch 304/500\n",
      "25/25 [==============================] - 0s 5ms/step - loss: 0.8791 - mae: 0.6721 - val_loss: 1.0687 - val_mae: 0.7631\n",
      "Epoch 305/500\n",
      "25/25 [==============================] - 0s 6ms/step - loss: 1.1841 - mae: 0.8148 - val_loss: 0.8572 - val_mae: 0.6379\n",
      "Epoch 306/500\n",
      "25/25 [==============================] - 0s 5ms/step - loss: 1.0294 - mae: 0.7256 - val_loss: 1.2832 - val_mae: 0.8570\n",
      "Epoch 307/500\n",
      "25/25 [==============================] - 0s 5ms/step - loss: 1.1462 - mae: 0.7978 - val_loss: 1.4897 - val_mae: 0.9769\n",
      "Epoch 308/500\n",
      "25/25 [==============================] - 0s 6ms/step - loss: 1.5266 - mae: 0.9536 - val_loss: 1.3617 - val_mae: 0.9219\n",
      "Epoch 309/500\n",
      "25/25 [==============================] - 0s 6ms/step - loss: 1.5242 - mae: 0.9477 - val_loss: 1.1061 - val_mae: 0.8075\n",
      "Epoch 310/500\n",
      "25/25 [==============================] - 0s 6ms/step - loss: 1.1137 - mae: 0.7715 - val_loss: 0.8907 - val_mae: 0.7098\n",
      "Epoch 311/500\n",
      "25/25 [==============================] - 0s 5ms/step - loss: 1.1420 - mae: 0.7910 - val_loss: 1.0011 - val_mae: 0.7686\n",
      "Epoch 312/500\n",
      "25/25 [==============================] - 0s 6ms/step - loss: 1.2876 - mae: 0.8662 - val_loss: 2.2734 - val_mae: 1.1964\n",
      "Epoch 313/500\n",
      "25/25 [==============================] - 0s 6ms/step - loss: 1.2886 - mae: 0.8400 - val_loss: 1.3579 - val_mae: 0.9503\n",
      "Epoch 314/500\n",
      "25/25 [==============================] - 0s 5ms/step - loss: 1.2027 - mae: 0.8214 - val_loss: 2.4281 - val_mae: 1.2847\n",
      "Epoch 315/500\n",
      "25/25 [==============================] - 0s 5ms/step - loss: 1.0645 - mae: 0.7404 - val_loss: 1.1016 - val_mae: 0.7891\n",
      "Epoch 316/500\n",
      "25/25 [==============================] - 0s 5ms/step - loss: 1.1763 - mae: 0.8076 - val_loss: 1.0214 - val_mae: 0.7702\n",
      "Epoch 317/500\n",
      "25/25 [==============================] - 0s 6ms/step - loss: 1.3631 - mae: 0.8733 - val_loss: 1.8142 - val_mae: 1.1422\n",
      "Epoch 318/500\n",
      "25/25 [==============================] - 0s 6ms/step - loss: 1.6911 - mae: 0.9656 - val_loss: 2.2196 - val_mae: 1.1999\n"
     ]
    }
   ],
   "source": [
    "history = ann.fit(X_train, y_train,\n",
    "                    validation_data = (X_val, y_val),\n",
    "                    callbacks=[es],\n",
    "                    epochs=500,\n",
    "                    batch_size=30,\n",
    "                    verbose=1)"
   ]
  },
  {
   "cell_type": "markdown",
   "metadata": {
    "colab_type": "text",
    "id": "0H0zKKNEBLD5"
   },
   "source": [
    "### Analyse learn history"
   ]
  },
  {
   "cell_type": "code",
   "execution_count": 17,
   "metadata": {
    "ExecuteTime": {
     "end_time": "2024-07-28T06:46:52.268271Z",
     "start_time": "2024-07-28T06:46:47.356243300Z"
    }
   },
   "outputs": [
    {
     "data": {
      "text/plain": "<Figure size 640x480 with 1 Axes>",
      "image/png": "[encoded data removed]"
     },
     "metadata": {},
     "output_type": "display_data"
    }
   ],
   "source": [
    "# let's see the training and validation accuracy by epoch\n",
    "history_dict = history.history\n",
    "loss_values = history_dict['loss'] # you can change this\n",
    "val_loss_values = history_dict['val_loss'] # you can also change this\n",
    "epochs = range(1, len(loss_values) + 1) # range of X (no. of epochs)\n",
    "plt.plot(epochs, loss_values, 'blue', label='Train set loss')\n",
    "plt.plot(epochs, val_loss_values, 'orange', label='Validation set loss')\n",
    "#plt.title('Training and testing loss')\n",
    "plt.xlabel('Epochs')\n",
    "plt.ylabel('Loss (MSE)')\n",
    "plt.legend()\n",
    "plt.savefig('Change_ANN1_2.png', dpi = 300, bbox_inches = 'tight')\n",
    "plt.show()"
   ]
  },
  {
   "cell_type": "code",
   "execution_count": 18,
   "metadata": {
    "ExecuteTime": {
     "end_time": "2024-07-28T06:47:08.440432900Z",
     "start_time": "2024-07-28T06:47:06.691626800Z"
    }
   },
   "outputs": [
    {
     "data": {
      "text/plain": "<Figure size 640x480 with 1 Axes>",
      "image/png": "[encoded data removed]"
     },
     "metadata": {},
     "output_type": "display_data"
    }
   ],
   "source": [
    "loss_values1 = history_dict['mae'] # you can change this\n",
    "val_loss_values1 = history_dict['val_mae'] # you can also change this\n",
    "epochs = range(1, len(loss_values1) + 1) # range of X (no. of epochs)\n",
    "plt.plot(epochs, loss_values1, 'blue', label='Train set MAE')\n",
    "plt.plot(epochs, val_loss_values1, 'orange', label='Validation set MAE')\n",
    "#plt.title('Training and testing MAE')\n",
    "plt.xlabel('Epochs')\n",
    "plt.ylabel('MAE')\n",
    "plt.legend()\n",
    "plt.savefig('Change_ANN1_3.png', dpi = 300, bbox_inches = 'tight')\n",
    "plt.show()"
   ]
  },
  {
   "cell_type": "code",
   "execution_count": null,
   "metadata": {},
   "outputs": [],
   "source": [
    "print (epochs)"
   ]
  },
  {
   "cell_type": "markdown",
   "metadata": {},
   "source": [
    "### Save the model"
   ]
  },
  {
   "cell_type": "code",
   "execution_count": 19,
   "metadata": {
    "ExecuteTime": {
     "end_time": "2024-07-28T06:47:25.940605Z",
     "start_time": "2024-07-28T06:47:22.127901800Z"
    }
   },
   "outputs": [
    {
     "name": "stdout",
     "output_type": "stream",
     "text": [
      "INFO:tensorflow:Assets written to: Change_ANN1\\assets\n"
     ]
    }
   ],
   "source": [
    "ann.save('Change_ANN1')"
   ]
  },
  {
   "cell_type": "markdown",
   "metadata": {},
   "source": [
    "# Part 4 - Make predictions"
   ]
  },
  {
   "cell_type": "code",
   "execution_count": null,
   "metadata": {},
   "outputs": [],
   "source": [
    "ann = load_model('Change_ANN_model_3.h5')"
   ]
  },
  {
   "cell_type": "code",
   "execution_count": 20,
   "metadata": {
    "ExecuteTime": {
     "end_time": "2024-07-28T06:47:41.472088600Z",
     "start_time": "2024-07-28T06:47:38.909480800Z"
    }
   },
   "outputs": [
    {
     "name": "stdout",
     "output_type": "stream",
     "text": [
      "24/24 [==============================] - 0s 2ms/step\n",
      "5/5 [==============================] - 0s 0s/step\n"
     ]
    },
    {
     "data": {
      "text/plain": "<Figure size 640x480 with 2 Axes>",
      "image/png": "[encoded data removed]"
     },
     "metadata": {},
     "output_type": "display_data"
    }
   ],
   "source": [
    "# scatterplot of actual vs. pred\n",
    "# specify the dimensions \n",
    "fig, axes = plt.subplots(1,2) # 1 row, 2 columns\n",
    "\n",
    "# this makes the individual subplots\n",
    "# Training Results\n",
    "axes[0].scatter(x=y_train, y=ann.predict(X_train)) #first row, first entry (left top)\n",
    "axes[0].set_xlabel(\"Actual\", fontsize=10)\n",
    "axes[0].set_ylabel(\"Predicted\",  fontsize=10)\n",
    "axes[0].set_title(\"Training\")\n",
    "# add 45 deg line\n",
    "x = np.linspace(*axes[0].get_xlim())\n",
    "axes[0].plot(x, x, color='red')\n",
    "# Validation Results\n",
    "axes[1].scatter(x=y_val, y=ann.predict(X_val)) # first row, second entry (right top)\n",
    "axes[1].set_xlabel(\"Actual\", fontsize=10)\n",
    "axes[1].set_ylabel(\"Predicted\",  fontsize=10)\n",
    "axes[1].set_title(\"Validation\")\n",
    "# add 45 deg line\n",
    "x = np.linspace(*axes[1].get_xlim())\n",
    "axes[1].plot(x, x, color='red')\n",
    "\n",
    "# tight layout\n",
    "fig.tight_layout()\n",
    "\n",
    "plt.savefig('Change_ANN1_1.png', dpi = 300, bbox_inches = 'tight')\n",
    "# show the plot\n",
    "plt.show()"
   ]
  },
  {
   "cell_type": "code",
   "execution_count": 23,
   "metadata": {
    "colab": {
     "base_uri": "https://localhost:8080/",
     "height": 134
    },
    "colab_type": "code",
    "id": "IA0yApEmBG1X",
    "outputId": "cb981e1f-9204-4a2a-fece-9d66a6919189",
    "ExecuteTime": {
     "end_time": "2024-07-28T06:49:25.457361Z",
     "start_time": "2024-07-28T06:49:24.723157200Z"
    }
   },
   "outputs": [
    {
     "name": "stdout",
     "output_type": "stream",
     "text": [
      "5/5 [==============================] - 0s 4ms/step\n",
      "[[ 39.94  39.59]\n",
      " [ 63.65  62.97]\n",
      " [ 17.65  17.02]\n",
      " [ 83.65  83.16]\n",
      " [ 59.15  59.18]\n",
      " [ 63.79  63.32]\n",
      " [ 82.37  83.75]\n",
      " [ 81.25  79.69]\n",
      " [ 56.52  56.55]\n",
      " [ 40.51  39.48]\n",
      " [ 93.11  91.82]\n",
      " [109.3  108.55]\n",
      " [ 28.68  28.41]\n",
      " [ 10.96   9.53]\n",
      " [ 56.75  57.62]\n",
      " [ 37.87  35.87]\n",
      " [ 68.7   68.54]\n",
      " [ 92.56  92.46]\n",
      " [ 39.84  38.29]\n",
      " [ 33.22  32.06]\n",
      " [ 27.7   26.99]\n",
      " [ 64.1   64.48]\n",
      " [ 51.88  51.34]\n",
      " [ 76.47  76.98]\n",
      " [ 63.52  62.67]\n",
      " [ 71.19  71.55]\n",
      " [ 38.36  37.6 ]\n",
      " [120.81 121.01]\n",
      " [ 41.19  40.93]\n",
      " [115.11 115.14]\n",
      " [ 44.93  44.65]\n",
      " [ 93.24  92.31]\n",
      " [120.14 116.1 ]\n",
      " [ 80.45  80.03]\n",
      " [ 91.58  91.51]\n",
      " [ 49.92  49.39]\n",
      " [ 17.73  16.53]\n",
      " [ 58.13  58.46]\n",
      " [ 85.92  86.22]\n",
      " [ 41.36  41.17]\n",
      " [ 31.81  31.34]\n",
      " [ 85.78  85.92]\n",
      " [ 78.2   78.28]\n",
      " [ 84.57  82.42]\n",
      " [ 14.87  12.18]\n",
      " [ 57.02  57.11]\n",
      " [ 64.03  63.19]\n",
      " [  8.02   8.32]\n",
      " [ 92.12  92.15]\n",
      " [ 55.42  55.62]\n",
      " [ 57.78  57.84]\n",
      " [ 83.01  82.97]\n",
      " [ 79.18  79.6 ]\n",
      " [ 44.04  44.66]\n",
      " [ 50.77  50.28]\n",
      " [ 84.98  83.93]\n",
      " [ 64.96  65.09]\n",
      " [ 17.34  16.25]\n",
      " [ 33.05  33.09]\n",
      " [ 48.46  48.2 ]\n",
      " [ 91.76  91.95]\n",
      " [ 83.02  82.58]\n",
      " [ 81.61  80.29]\n",
      " [ 11.58  10.42]\n",
      " [ 89.11  89.3 ]\n",
      " [ 27.2   27.62]\n",
      " [ 47.68  46.8 ]\n",
      " [ 89.45  89.65]\n",
      " [ 66.42  64.5 ]\n",
      " [ 15.3   14.61]\n",
      " [ 39.64  40.55]\n",
      " [ 81.79  80.64]\n",
      " [ 48.93  49.32]\n",
      " [ 64.61  64.46]\n",
      " [ 32.8   32.58]\n",
      " [ 76.19  76.06]\n",
      " [ 82.91  83.17]\n",
      " [ 24.9   24.9 ]\n",
      " [ 54.99  55.07]\n",
      " [ 66.04  66.04]\n",
      " [ 39.16  39.2 ]\n",
      " [ 31.03  31.84]\n",
      " [ 30.9   32.03]\n",
      " [ 67.41  67.04]\n",
      " [ 86.98  87.02]\n",
      " [119.13 120.1 ]\n",
      " [ 38.24  37.43]\n",
      " [ 20.47  22.51]\n",
      " [ 37.67  37.44]\n",
      " [ 51.57  51.28]\n",
      " [ 82.63  83.27]\n",
      " [ 56.94  54.85]\n",
      " [ 18.46  18.16]\n",
      " [ 37.73  38.36]\n",
      " [ 26.45  26.83]\n",
      " [ 85.69  84.53]\n",
      " [ 85.64  85.6 ]\n",
      " [ 47.79  47.28]\n",
      " [ 65.9   64.18]\n",
      " [ 48.91  49.07]\n",
      " [ 78.23  78.61]\n",
      " [ 39.12  39.19]\n",
      " [ 36.27  37.04]\n",
      " [ 40.8   41.18]\n",
      " [  9.3   12.  ]\n",
      " [ 31.42  31.25]\n",
      " [ 55.74  55.59]\n",
      " [ 17.69  18.74]\n",
      " [ 80.57  80.94]\n",
      " [ 13.    13.69]\n",
      " [ 28.97  28.4 ]\n",
      " [ 72.63  71.86]\n",
      " [ 68.48  69.21]\n",
      " [105.95 106.11]\n",
      " [ 35.53  35.17]\n",
      " [ 31.41  28.92]\n",
      " [ 48.13  47.68]\n",
      " [ 38.43  37.98]\n",
      " [ 38.65  37.92]\n",
      " [ 37.49  37.54]\n",
      " [ 84.85  83.56]\n",
      " [ 56.81  56.22]\n",
      " [114.99 114.9 ]\n",
      " [  9.18   7.46]\n",
      " [ 90.67  90.59]\n",
      " [  8.58   8.87]\n",
      " [ 11.37  10.01]\n",
      " [ 86.2   84.86]\n",
      " [ 31.16  31.78]\n",
      " [  9.17  10.94]\n",
      " [ 85.33  85.47]\n",
      " [ 96.74  96.01]\n",
      " [ 83.5   84.03]\n",
      " [ 57.11  57.32]\n",
      " [ 81.8   81.94]\n",
      " [ 55.91  55.79]\n",
      " [ 54.03  53.  ]\n",
      " [ 52.32  52.31]\n",
      " [ 56.08  55.96]\n",
      " [ 27.53  27.79]\n",
      " [ 37.87  37.56]\n",
      " [ 61.92  61.91]\n",
      " [ 10.89  11.03]\n",
      " [ 70.91  71.51]\n",
      " [ 67.02  67.45]\n",
      " [ 78.02  77.92]\n",
      " [ 66.63  66.4 ]\n",
      " [ 32.    31.26]\n",
      " [ 50.28  50.64]\n",
      " [ 39.26  38.73]\n",
      " [ 48.51  48.62]\n",
      " [ 15.46  17.3 ]\n",
      " [ 41.69  41.54]\n",
      " [ 97.79  97.78]\n",
      " [ 85.78  85.69]\n",
      " [ 44.04  42.71]\n",
      " [ 74.68  74.42]\n",
      " [ 56.75  56.6 ]\n",
      " [ 95.81  95.81]\n",
      " [ 88.92  90.58]]\n"
     ]
    }
   ],
   "source": [
    "y_pred = ann.predict(X_test)\n",
    "np.set_printoptions(precision=2)\n",
    "print(np.concatenate((y_pred.reshape(len(y_pred),1), y_test.reshape(len(y_test),1)),1))"
   ]
  },
  {
   "cell_type": "code",
   "execution_count": 24,
   "metadata": {
    "ExecuteTime": {
     "end_time": "2024-07-28T06:49:31.004461300Z",
     "start_time": "2024-07-28T06:49:30.379633200Z"
    }
   },
   "outputs": [
    {
     "data": {
      "text/plain": "Text(0, 0.5, 'Predicted data')"
     },
     "execution_count": 24,
     "metadata": {},
     "output_type": "execute_result"
    },
    {
     "data": {
      "text/plain": "<Figure size 640x480 with 1 Axes>",
      "image/png": "[encoded data removed]"
     },
     "metadata": {},
     "output_type": "display_data"
    }
   ],
   "source": [
    "import matplotlib.pyplot as plt\n",
    "plt.scatter(y_test, y_pred, color=\"blue\")\n",
    "#plt.plot ([0,0.09],[0,0.09], color = \"red\")\n",
    "#plt.axis ([0,0.09,0,0.09])\n",
    "plt.xlabel ('Actual data')\n",
    "plt.ylabel ('Predicted data')"
   ]
  },
  {
   "cell_type": "code",
   "execution_count": 26,
   "metadata": {
    "ExecuteTime": {
     "end_time": "2024-07-28T06:50:08.296933500Z",
     "start_time": "2024-07-28T06:50:04.175281500Z"
    }
   },
   "outputs": [
    {
     "data": {
      "text/plain": "<Figure size 900x900 with 1 Axes>",
      "image/png": "[encoded data removed]"
     },
     "metadata": {},
     "output_type": "display_data"
    }
   ],
   "source": [
    "from sklearn.metrics import r2_score\n",
    "# Initialize layout\n",
    "fig1, ax1 = plt.subplots(figsize = (9, 9))\n",
    "b_l = 0\n",
    "u_l = 130\n",
    "\n",
    "# Add scatterplot\n",
    "ax1.scatter(y_test, y_pred, s=70, alpha=1, edgecolors=\"k\",c='mediumblue',zorder=5, label = 'Points')\n",
    "\n",
    "\n",
    "plt.ylabel('Predicted Change Time (ms)',fontsize = 25)\n",
    "plt.xlabel('Target Change Time (ms)',fontsize = 25)\n",
    "plt.xticks(fontsize = 19)\n",
    "plt.yticks(fontsize = 19)\n",
    "\n",
    "x1 = np.linspace(b_l, u_l)\n",
    "\n",
    "plt.plot(x1, x1, 'Red', label='45\\N{DEGREE SIGN} line',lw=2.5,alpha=1)\n",
    "#plt.plot(x1, 1.05*x1, '--m', label='\\u00B15% Error',lw=2.5,alpha=0.7)\n",
    "#plt.plot(x1, 0.95*x1,'m', linestyle='--',lw=2.5,alpha=0.7)\n",
    "plt.plot(x1, 1.1*x1, '-.g', label='\\u00B110% Error',lw=2.5,alpha=0.7)\n",
    "plt.plot(x1, 0.9*x1,'-.g',lw=2.5,alpha=0.7)\n",
    "plt.plot(x1, 1.2*x1, color = '#F97306', linestyle='dotted', label='\\u00B120% Error',lw=2.5,alpha=0.7)\n",
    "plt.plot(x1, 0.8*x1,color = '#F97306', linestyle='dotted', lw=2.5,alpha=0.7)\n",
    "\n",
    "plt.ylim(b_l, u_l)\n",
    "plt.xlim(b_l, u_l)\n",
    "plt.legend(loc='upper left',fontsize = 25)\n",
    "\n",
    "plt.grid()\n",
    "\n",
    "ax1.spines['left'].set_color('black')        # setting up Y-axis tick color to red\n",
    "ax1.spines['bottom'].set_color('black')         #setting up above X-axis tick color to red\n",
    "\n",
    "plt.savefig('Change_ANN1.png', dpi = 300, bbox_inches = 'tight')"
   ]
  },
  {
   "cell_type": "code",
   "execution_count": 28,
   "metadata": {
    "ExecuteTime": {
     "end_time": "2024-07-28T06:50:27.068537600Z",
     "start_time": "2024-07-28T06:50:21.045634600Z"
    }
   },
   "outputs": [
    {
     "name": "stdout",
     "output_type": "stream",
     "text": [
      "24/24 [==============================] - 0s 2ms/step\n",
      "0.617998575417147\n",
      "0.6268245437853597\n"
     ]
    }
   ],
   "source": [
    "# metrics\n",
    "\n",
    "trainpreds = ann.predict(X_train)\n",
    "\n",
    "from sklearn.metrics import mean_absolute_error\n",
    "print(mean_absolute_error(y_train, trainpreds)) # train\n",
    "print(mean_absolute_error(y_test, y_pred)) # test"
   ]
  },
  {
   "cell_type": "code",
   "execution_count": 29,
   "metadata": {
    "ExecuteTime": {
     "end_time": "2024-07-28T06:50:41.645795600Z",
     "start_time": "2024-07-28T06:50:38.554972700Z"
    }
   },
   "outputs": [
    {
     "name": "stdout",
     "output_type": "stream",
     "text": [
      "0.9989123388035477\n"
     ]
    }
   ],
   "source": [
    "from sklearn.metrics import r2_score\n",
    "r2 = r2_score(y_test, y_pred)\n",
    "print (r2)"
   ]
  },
  {
   "cell_type": "code",
   "execution_count": 30,
   "metadata": {
    "ExecuteTime": {
     "end_time": "2024-07-28T06:50:49.052225500Z",
     "start_time": "2024-07-28T06:50:43.349084700Z"
    }
   },
   "outputs": [
    {
     "name": "stdout",
     "output_type": "stream",
     "text": [
      "0.999060668980336\n"
     ]
    }
   ],
   "source": [
    "r2_train = r2_score(y_train, trainpreds)\n",
    "print (r2_train)"
   ]
  },
  {
   "cell_type": "code",
   "execution_count": 31,
   "metadata": {
    "ExecuteTime": {
     "end_time": "2024-07-28T06:50:53.955400800Z",
     "start_time": "2024-07-28T06:50:52.427264400Z"
    }
   },
   "outputs": [
    {
     "name": "stdout",
     "output_type": "stream",
     "text": [
      "Within 5% margin 90.62%\n",
      "Within 10% margin 95.00%\n",
      "Within 20% margin 98.12%\n",
      "Out of 20% margin 1.88%\n"
     ]
    }
   ],
   "source": [
    "count0 = 0\n",
    "for i in range(len(y_pred)):\n",
    "    line1 = y_pred[i] - 0.95*y_test[i]\n",
    "    line2 = y_pred[i] - 1.05*y_test[i]\n",
    "    mask0 = (line1 > 0) & (line2 < 0)\n",
    "    count0 = np.sum(mask0+count0)\n",
    "\n",
    "count1 = 0\n",
    "for i in range(len(y_pred)):\n",
    "    line1 = y_pred[i] - 0.9*y_test[i]\n",
    "    line2 = y_pred[i] - 1.1*y_test[i]\n",
    "    mask1 = (line1 > 0) & (line2 < 0)\n",
    "    count1 = np.sum(mask1+count1)\n",
    "\n",
    "count2 = 0\n",
    "for j in range(len(y_pred)):\n",
    "    line3 = y_pred[j] - 0.8*y_test[j]\n",
    "    line4 = y_pred[j] - 1.2*y_test[j]\n",
    "    mask2 = (line3 > 0) & (line4 < 0)\n",
    "    count2 = np.sum(mask2+count2)\n",
    "\n",
    "\n",
    "count3 = 0    \n",
    "for k in range(len(y_pred)):\n",
    "    line5 = y_pred[k] - 0.8*y_test[k]\n",
    "    line6 = y_pred[k] - 1.2*y_test[k]\n",
    "    mask3 = (line5 < 0) or (line6 > 0)\n",
    "    count3 = np.sum(mask3+count3)\n",
    "   \n",
    "\n",
    "print ('Within 5% margin', format((count0/len (y_pred)),'.2%'))\n",
    "print ('Within 10% margin', format((count1/len (y_pred)),'.2%'))\n",
    "print ('Within 20% margin', format((count2/len (y_pred)),'.2%'))\n",
    "print ('Out of 20% margin', format((count3/len (y_pred)),'.2%'))"
   ]
  },
  {
   "cell_type": "code",
   "execution_count": 32,
   "metadata": {
    "ExecuteTime": {
     "end_time": "2024-07-28T06:50:58.723909200Z",
     "start_time": "2024-07-28T06:50:57.958238200Z"
    }
   },
   "outputs": [
    {
     "name": "stdout",
     "output_type": "stream",
     "text": [
      "0.9988914222420775\n"
     ]
    }
   ],
   "source": [
    "adj_r2 = 1 - ((1 - r2) * (len(X_test) - 1) / (len(X_test) - len (X_test[0]) - 1))\n",
    "print (adj_r2)"
   ]
  },
  {
   "cell_type": "code",
   "execution_count": 33,
   "metadata": {
    "ExecuteTime": {
     "end_time": "2024-07-28T06:51:00.291405300Z",
     "start_time": "2024-07-28T06:51:00.130107400Z"
    }
   },
   "outputs": [
    {
     "data": {
      "text/plain": "0.8999197447296268"
     },
     "execution_count": 33,
     "metadata": {},
     "output_type": "execute_result"
    }
   ],
   "source": [
    "import math\n",
    "from sklearn.metrics import mean_squared_error\n",
    "\n",
    "math.sqrt(mean_squared_error(y_test, y_pred))"
   ]
  },
  {
   "cell_type": "code",
   "execution_count": 34,
   "metadata": {
    "ExecuteTime": {
     "end_time": "2024-07-28T06:51:01.614827900Z",
     "start_time": "2024-07-28T06:51:01.488705300Z"
    }
   },
   "outputs": [
    {
     "data": {
      "text/plain": "0.6268245437853597"
     },
     "execution_count": 34,
     "metadata": {},
     "output_type": "execute_result"
    }
   ],
   "source": [
    "from sklearn.metrics import mean_absolute_error\n",
    "\n",
    "mean_absolute_error(y_test, y_pred)"
   ]
  },
  {
   "cell_type": "markdown",
   "source": [
    "# Part 5 - Use model"
   ],
   "metadata": {
    "collapsed": false
   }
  },
  {
   "cell_type": "markdown",
   "source": [
    "## Import libraries"
   ],
   "metadata": {
    "collapsed": false
   }
  },
  {
   "cell_type": "code",
   "execution_count": null,
   "outputs": [],
   "source": [
    "from keras.models import load_model\n",
    "import numpy as np"
   ],
   "metadata": {
    "collapsed": false
   }
  },
  {
   "cell_type": "markdown",
   "source": [
    "## Load model"
   ],
   "metadata": {
    "collapsed": false
   }
  },
  {
   "cell_type": "code",
   "execution_count": null,
   "outputs": [],
   "source": [
    "ann = load_model('Change_ANN_model_3.h5')"
   ],
   "metadata": {
    "collapsed": false
   }
  },
  {
   "cell_type": "markdown",
   "source": [
    "## Prediction"
   ],
   "metadata": {
    "collapsed": false
   }
  },
  {
   "cell_type": "code",
   "execution_count": null,
   "outputs": [],
   "source": [
    "charge_mass = 20\n",
    "standoff_distance = 6.3\n",
    "arr = np.array ([[charge_mass,standoff_distance]])\n",
    "print (arr)\n",
    "np.set_printoptions(precision=9)\n",
    "change_time = ann.predict(arr)\n",
    "print (change_time)\n",
    "%store change_time"
   ],
   "metadata": {
    "collapsed": false
   }
  }
 ],
 "metadata": {
  "colab": {
   "collapsed_sections": [],
   "name": "Artificial Neural Network",
   "provenance": [],
   "toc_visible": true
  },
  "kernelspec": {
   "display_name": "Python 3 (ipykernel)",
   "language": "python",
   "name": "python3"
  },
  "language_info": {
   "codemirror_mode": {
    "name": "ipython",
    "version": 3
   },
   "file_extension": ".py",
   "mimetype": "text/x-python",
   "name": "python",
   "nbconvert_exporter": "python",
   "pygments_lexer": "ipython3",
   "version": "3.9.7"
  }
 },
 "nbformat": 4,
 "nbformat_minor": 4
}
