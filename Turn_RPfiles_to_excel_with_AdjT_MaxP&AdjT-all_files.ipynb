{
 "cells": [
  {
   "cell_type": "markdown",
   "id": "bce06074-b5c2-4913-890f-cb599b203ed2",
   "metadata": {},
   "source": [
    "## Import libraries"
   ]
  },
  {
   "cell_type": "code",
   "execution_count": 1,
   "id": "34feb292-f5a4-45b9-aa07-22571998d2e1",
   "metadata": {
    "ExecuteTime": {
     "end_time": "2024-07-01T00:38:51.645527300Z",
     "start_time": "2024-07-01T00:38:50.402225400Z"
    }
   },
   "outputs": [],
   "source": [
    "from pathlib import Path\n",
    "import pandas as pd\n",
    "import xlwings as xw"
   ]
  },
  {
   "cell_type": "markdown",
   "source": [
    "## Access input folders"
   ],
   "metadata": {
    "collapsed": false
   },
   "id": "446d2850-b45e-4d5f-86dd-fa14200e168b"
  },
  {
   "cell_type": "code",
   "execution_count": 14,
   "id": "444c2bb8-1d9e-4aca-baec-9d85bd985ece",
   "metadata": {
    "ExecuteTime": {
     "end_time": "2024-07-01T05:23:06.337828200Z",
     "start_time": "2024-07-01T05:23:06.321618900Z"
    }
   },
   "outputs": [
    {
     "name": "stdout",
     "output_type": "stream",
     "text": [
      "1 G:\\Chamodi\\LSDYNA3D\\RP_TH_models\\Results_Processed2\n",
      "2 [WindowsPath('G:/Chamodi/LSDYNA3D/RP_TH_models/Results_Processed2/30m35.0kg')]\n"
     ]
    }
   ],
   "source": [
    "#Access input folder\n",
    "input_dir1 = Path (\"G:/Chamodi/LSDYNA3D/RP_TH_models/Results_Processed2\")\n",
    "print (\"1\",input_dir1)\n",
    "\n",
    "#Access folders inside input folder\n",
    "input_dir2 =  [folder for folder in input_dir1.iterdir() if folder.is_dir()]\n",
    "print (\"2\",input_dir2)"
   ]
  },
  {
   "cell_type": "markdown",
   "id": "6be55513-d92d-4069-b7c3-1291dd6efadd",
   "metadata": {},
   "source": [
    "## Create output files"
   ]
  },
  {
   "cell_type": "code",
   "execution_count": 15,
   "id": "28ac30c9-9a38-4e3e-bafb-0e9e680d176c",
   "metadata": {
    "ExecuteTime": {
     "end_time": "2024-07-01T05:23:21.863600900Z",
     "start_time": "2024-07-01T05:23:14.306687100Z"
    }
   },
   "outputs": [
    {
     "name": "stdout",
     "output_type": "stream",
     "text": [
      "folder G:\\Chamodi\\LSDYNA3D\\RP_TH_models\\Results_Processed2\\30m35.0kg\n",
      "30 35.0\n",
      "output_dir1 G:\\Chamodi\\LSDYNA3D\\RP_TH_models\\RP_curves_excel2\\30m35.0kg\n",
      "file G:\\Chamodi\\LSDYNA3D\\RP_TH_models\\Results_Processed2\\30m35.0kg\\1\n",
      "file_name 1\n",
      "file G:\\Chamodi\\LSDYNA3D\\RP_TH_models\\Results_Processed2\\30m35.0kg\\2\n",
      "file_name 2\n",
      "file G:\\Chamodi\\LSDYNA3D\\RP_TH_models\\Results_Processed2\\30m35.0kg\\3\n",
      "file_name 3\n",
      "file G:\\Chamodi\\LSDYNA3D\\RP_TH_models\\Results_Processed2\\30m35.0kg\\4\n",
      "file_name 4\n",
      "file G:\\Chamodi\\LSDYNA3D\\RP_TH_models\\Results_Processed2\\30m35.0kg\\5\n",
      "file_name 5\n"
     ]
    }
   ],
   "source": [
    "# Define current work directory\n",
    "current_dir = Path.cwd()\n",
    "\n",
    "# Access the template to be used to generate files\n",
    "excel_template = current_dir/ \"Template.xlsx\"\n",
    "\n",
    "# Create output directory\n",
    "output_dir = Path(\"G:/Chamodi/LSDYNA3D/RP_TH_models/RP_curves_excel2\")\n",
    "output_dir.mkdir(exist_ok = True)\n",
    "\n",
    "# Access each folder inside input folder\n",
    "for folder in input_dir2:\n",
    "    print (\"folder\", folder)\n",
    "    SD = int(folder.name[0:2])\n",
    "    EM = float(folder.name[3:-2])\n",
    "    print (SD,EM)\n",
    "    \n",
    "    \n",
    "    # Make a list of data file names\n",
    "    files = [file for file in folder.rglob(\"*\") if file.name != \"binout0000\"]\n",
    "    \n",
    "    # Create output folders\n",
    "    output_dir1 = output_dir/ folder.name\n",
    "    print (\"output_dir1\", output_dir1)\n",
    "    output_dir1.mkdir(exist_ok = True)\n",
    "    \n",
    "    # Initiate xlwings library\n",
    "    with xw.App (visible = False) as app:\n",
    "        \n",
    "        # Access each file \n",
    "        for file in files:\n",
    "            print (\"file\", file)\n",
    "            \n",
    "            # Open excel template\n",
    "            wb = app.books.open(excel_template)\n",
    "            \n",
    "            # Create a dataframe out of data files and use delimiters\n",
    "            df1 = pd.read_csv(file,\n",
    "                              delimiter=\"\\s+\",\n",
    "                              skiprows = 8,\n",
    "                              skipfooter = 1,\n",
    "                              engine = 'python',\n",
    "                              header = None,\n",
    "                              names = [\"time\", \"pressure\"])\n",
    "            \n",
    "            df2 = pd.read_csv(file,\n",
    "                              delimiter=\"\\s+\",\n",
    "                              skiprows = 7,\n",
    "                              nrows= 1,\n",
    "                              engine = 'python',\n",
    "                              header = None)\n",
    "            \n",
    "            df1[\"pressure\"] = df1[\"pressure\"]/1000-101\n",
    "            df1[\"Max_pressure\"]=pd.Series([df2.iloc[0,2]/1000-101])\n",
    "            \n",
    "            if SD == 5:\n",
    "                if EM == 0.5:\n",
    "                    df1[\"time\"] = df1[\"time\"]*1000 + 6\n",
    "                    df1[\"Max_time\"]=pd.Series([df2.iloc[0,5]*1000+6])\n",
    "                    print (\"1\")\n",
    "                elif EM == 2.5:\n",
    "                    df1[\"time\"] = df1[\"time\"]*1000 + 4.5\n",
    "                    df1[\"Max_time\"]=pd.Series([df2.iloc[0,5]*1000+4.5])\n",
    "                    print (\"2\")\n",
    "                elif EM == 4.5:\n",
    "                    df1[\"time\"] = df1[\"time\"]*1000 + 4\n",
    "                    df1[\"Max_time\"]=pd.Series([df2.iloc[0,5]*1000+4])\n",
    "                    print (\"3\")\n",
    "                elif EM == 6.5:\n",
    "                    df1[\"time\"] = df1[\"time\"]*1000 + 3.7\n",
    "                    df1[\"Max_time\"]=pd.Series([df2.iloc[0,5]*1000+3.7])\n",
    "                    print (\"4\")\n",
    "                elif EM == 8.5:\n",
    "                    df1[\"time\"] = df1[\"time\"]*1000 + 3.3\n",
    "                    df1[\"Max_time\"]=pd.Series([df2.iloc[0,5]*1000+3.3])\n",
    "                    print (\"5\")\n",
    "                elif EM == 10.5:\n",
    "                    df1[\"time\"] = df1[\"time\"]*1000 + 3\n",
    "                    df1[\"Max_time\"]=pd.Series([df2.iloc[0,5]*1000+3])\n",
    "                    print (\"6\")\n",
    "                elif EM == 12.5:\n",
    "                    df1[\"time\"] = df1[\"time\"]*1000 + 2.7\n",
    "                    df1[\"Max_time\"]=pd.Series([df2.iloc[0,5]*1000+2.7])\n",
    "                    print (\"7\")\n",
    "                elif EM == 14.5 or EM == 16.5:\n",
    "                    df1[\"time\"] = df1[\"time\"]*1000 + 2.5\n",
    "                    df1[\"Max_time\"]=pd.Series([df2.iloc[0,5]*1000+2.5])\n",
    "                    print (\"8\")\n",
    "                elif EM == 18.5:\n",
    "                    df1[\"time\"] = df1[\"time\"]*1000 + 2.4\n",
    "                    df1[\"Max_time\"]=pd.Series([df2.iloc[0,5]*1000+2.4])\n",
    "                    print (\"9\")\n",
    "                elif EM == 20.5 or EM == 22.5:\n",
    "                    df1[\"time\"] = df1[\"time\"]*1000 + 2.2\n",
    "                    df1[\"Max_time\"]=pd.Series([df2.iloc[0,5]*1000+2.2])\n",
    "                    print (\"10\")\n",
    "                else:\n",
    "                    df1[\"time\"] = df1[\"time\"]*1000 + 2.1\n",
    "                    df1[\"Max_time\"]=pd.Series([df2.iloc[0,5]*1000+2.1])\n",
    "                    print (\"11\")\n",
    "            elif SD == 7:\n",
    "                df1[\"time\"] = df1[\"time\"] + 5\n",
    "                df1[\"Max_time\"]=pd.Series([df2.iloc[0,5]*1000+5])\n",
    "            elif SD == 9:\n",
    "                df1[\"time\"] = df1[\"time\"] + 8\n",
    "                df1[\"Max_time\"]=pd.Series([df2.iloc[0,5]*1000+8])\n",
    "            elif SD == 11:\n",
    "                df1[\"time\"] = df1[\"time\"] + 12\n",
    "                df1[\"Max_time\"]=pd.Series([df2.iloc[0,5]*1000+12])\n",
    "            elif SD == 13:\n",
    "                df1[\"time\"] = df1[\"time\"] + 17\n",
    "                df1[\"Max_time\"]=pd.Series([df2.iloc[0,5]*1000+17])\n",
    "            elif SD == 15:\n",
    "                df1[\"time\"] = df1[\"time\"] + 22\n",
    "                df1[\"Max_time\"]=pd.Series([df2.iloc[0,5]*1000+22])\n",
    "            elif SD == 17:\n",
    "                df1[\"time\"] = df1[\"time\"] + 27\n",
    "                df1[\"Max_time\"]=pd.Series([df2.iloc[0,5]*1000+27])\n",
    "            elif SD == 19:\n",
    "                df1[\"time\"] = df1[\"time\"] + 32\n",
    "                df1[\"Max_time\"]=pd.Series([df2.iloc[0,5]*1000+32])\n",
    "            elif SD == 21:\n",
    "                df1[\"time\"] = df1[\"time\"] + 39\n",
    "                df1[\"Max_time\"]=pd.Series([df2.iloc[0,5]*1000+39])\n",
    "            elif SD == 23:\n",
    "                df1[\"time\"] = df1[\"time\"] + 44\n",
    "                df1[\"Max_time\"]=pd.Series([df2.iloc[0,5]*1000+44])\n",
    "            elif SD == 25:\n",
    "                df1[\"time\"] = df1[\"time\"] + 48\n",
    "                df1[\"Max_time\"]=pd.Series([df2.iloc[0,5]*1000+48])\n",
    "            elif SD == 27:\n",
    "                df1[\"time\"] = df1[\"time\"] + 51\n",
    "                df1[\"Max_time\"]=pd.Series([df2.iloc[0,5]*1000+51])\n",
    "            elif SD == 29:\n",
    "                df1[\"time\"] = df1[\"time\"] + 56\n",
    "                df1[\"Max_time\"]=pd.Series([df2.iloc[0,5]*1000+56])\n",
    "            elif SD == 30:\n",
    "                df1[\"time\"] = df1[\"time\"] + 60\n",
    "                df1[\"Max_time\"]=pd.Series([df2.iloc[0,5]*1000+60])\n",
    "            \n",
    "            # Write dataframe in excel template\n",
    "            wb.sheets[0].range(\"A1\").options(index=False).value = df1\n",
    "            \n",
    "            file_name = file.stem\n",
    "            print (\"file_name\",file_name)\n",
    "            \n",
    "            # Create files in output directory\n",
    "            wb.save(output_dir1/f\"{file_name}.xlsx\")      "
   ]
  }
 ],
 "metadata": {
  "kernelspec": {
   "display_name": "Python 3 (ipykernel)",
   "language": "python",
   "name": "python3"
  },
  "language_info": {
   "codemirror_mode": {
    "name": "ipython",
    "version": 3
   },
   "file_extension": ".py",
   "mimetype": "text/x-python",
   "name": "python",
   "nbconvert_exporter": "python",
   "pygments_lexer": "ipython3",
   "version": "3.9.7"
  }
 },
 "nbformat": 4,
 "nbformat_minor": 5
}
