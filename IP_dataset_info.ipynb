{
 "cells": [
  {
   "cell_type": "code",
   "execution_count": null,
   "id": "78da2ab4-3f82-47e7-9d10-099751b818c1",
   "metadata": {
    "tags": []
   },
   "outputs": [],
   "source": [
    "from pathlib import Path\n",
    "import pandas as pd"
   ]
  },
  {
   "cell_type": "markdown",
   "source": [
    "## Near_field"
   ],
   "metadata": {
    "collapsed": false
   },
   "id": "c3ac03bbff4ef627"
  },
  {
   "cell_type": "code",
   "execution_count": null,
   "outputs": [],
   "source": [
    "current_dir = Path.cwd()\n",
    "parent_dir = current_dir.parent\n",
    "input_dir1 = Path (\"G:/Chamodi/LSDYNA_1D/Incident_pressure_time_history/Near_field_time_history_dataset\")\n",
    "\n",
    "#Access folders inside input folder\n",
    "input_dir2 =  [folder1 for folder1 in input_dir1.iterdir() if folder1.is_dir()]\n",
    "#print (\"INPUT 2\",input_dir2)"
   ],
   "metadata": {
    "collapsed": false
   },
   "id": "bc3a458a89c51728"
  },
  {
   "cell_type": "code",
   "execution_count": null,
   "outputs": [],
   "source": [
    "# Dictionary to store max pressure for each file across all folders\n",
    "max_pressure_per_SD = {}\n",
    "min_pressure_per_SD = {}\n",
    "datapoints_per_SD = {}\n",
    "\n",
    "# Iterate through each folder in input_dir2\n",
    "for folder in input_dir2:\n",
    "    print(f\"Processing folder: {folder}\")\n",
    "    \n",
    "    # Iterate through files in the folder (assuming files are named as file1, file2, etc.)\n",
    "    for i in range(1, 18,2):  # Assuming file names are like file1, file2, ... file99\n",
    "        file_name = f\"{i}.xlsx\"\n",
    "        file_path = folder / file_name\n",
    "        \n",
    "        if file_path.exists():\n",
    "            # Read the file (assuming it is in a format that can be read by pandas, e.g., CSV, Excel)\n",
    "            try:\n",
    "                df = pd.read_excel(file_path)  # Modify this if files are not CSV (e.g., use pd.read_excel for Excel files)\n",
    "                \n",
    "                # Assuming the pressure data is in a column named 'Pressure'\n",
    "                max_pressure = df[\"Pressure\"].max()\n",
    "                min_pressure = df[\"Pressure\"].min()\n",
    "                datapoints = len(df[\"Pressure\"])\n",
    "                \n",
    "                # Update max pressure for this file across all folders\n",
    "                if i not in max_pressure_per_SD:\n",
    "                    max_pressure_per_SD[i] = max_pressure\n",
    "                else:\n",
    "                    max_pressure_per_SD[i] = max(max_pressure_per_SD[i], max_pressure)\n",
    "                    \n",
    "                # Update max pressure for this file across all folders\n",
    "                if i not in min_pressure_per_SD:\n",
    "                    min_pressure_per_SD[i] = min_pressure\n",
    "                else:\n",
    "                    min_pressure_per_SD[i] = min(min_pressure_per_SD[i], min_pressure)\n",
    "                    \n",
    "                # Update max pressure for this file across all folders\n",
    "                if i not in datapoints_per_SD:\n",
    "                    datapoints_per_SD[i] = datapoints\n",
    "                else:\n",
    "                    datapoints_per_SD[i] = datapoints_per_SD[i] + datapoints\n",
    "                \n",
    "                print(f\"Max pressure for {i} in {folder}: {max_pressure}, {min_pressure}, {datapoints}\")\n",
    "            except Exception as e:\n",
    "                print(f\"Error processing {file_path}: {e}\")\n",
    "        else:\n",
    "            # If the file does not exist, stop looking for further files (assumes sequential naming)\n",
    "            break"
   ],
   "metadata": {
    "collapsed": false
   },
   "id": "1d1d64ffb86352a2"
  },
  {
   "cell_type": "code",
   "execution_count": null,
   "outputs": [],
   "source": [
    "# Given SD mapping\n",
    "SD_mapping = {\n",
    "    1: 1, 3: 1.25, 5: 1.5, 7: 1.75, 9: 2, 11: 2.25, 13: 2.5, 15: 2.75, 17: 3}\n",
    "\n",
    "# Extract standoff distances from the file names based on SD_mapping\n",
    "standoff_distances = [SD_mapping[file] for file in max_pressure_per_SD.keys()]\n",
    "\n",
    "# Create a DataFrame using the dictionaries\n",
    "results_df = pd.DataFrame({\n",
    "    'standoff distance': standoff_distances,\n",
    "    'max_pressure': [max_pressure_per_SD[file] for file in max_pressure_per_SD.keys()],\n",
    "    'min_pressure': [min_pressure_per_SD[file] for file in min_pressure_per_SD.keys()],\n",
    "    'datapoints': [datapoints_per_SD[file] for file in datapoints_per_SD.keys()]\n",
    "})\n",
    "\n",
    "# Display the DataFrame\n",
    "print(results_df)"
   ],
   "metadata": {
    "collapsed": false
   },
   "id": "6fe7406698c35e7c"
  },
  {
   "cell_type": "code",
   "execution_count": null,
   "outputs": [],
   "source": [
    "import matplotlib.pyplot as plt\n",
    "from matplotlib.ticker import MaxNLocator\n",
    "\n",
    "# Filter the DataFrame to include only rows with Standoff distance >= 1.5\n",
    "filtered_df = results_df[results_df['Standoff distance'] >= 1.5]\n",
    "\n",
    "# Set global font to Times New Roman\n",
    "plt.rcParams['font.family'] = 'serif'\n",
    "plt.rcParams['font.serif'] = ['Times New Roman']\n",
    "plt.rcParams['font.size'] = 16\n",
    "\n",
    "fig, ax1 = plt.subplots(figsize=(7, 5))\n",
    "\n",
    "# Plot max and min pressure values with standoff distance\n",
    "for _, row in results_df .iterrows():\n",
    "    ax1.plot([row['standoff distance'], row['standoff distance']],\n",
    "             [row['min_pressure'], row['max_pressure']],\n",
    "             color='blue', marker='o', label='Pressure Range' if _ == results_df .index[0] else \"\")\n",
    "\n",
    "# Label the primary y-axis (for pressure values)\n",
    "ax1.set_xlabel('Standoff distance (m)')\n",
    "ax1.set_ylabel('Incident overpressure (kPa)')\n",
    "ax1.tick_params(axis='both', labelsize=14)\n",
    "ax1.set_xticks([1.5, 1.75, 2, 2.25, 2.5, 2.75, 3])\n",
    "#ax1.set_xlim(2.8,31)\n",
    "\n",
    "# Create a secondary y-axis for the number of data points\n",
    "ax2 = ax1.twinx()\n",
    "ax2.plot(results_df ['standoff distance'], results_df ['datapoints'],\n",
    "         color='red', marker='x', label='Number of datapoints')\n",
    "ax2.set_ylabel('Number of datapoints')\n",
    "ax2.tick_params(axis='y', labelsize=14)\n",
    "ax2.set_xticks([1.5, 1.75, 2, 2.25, 2.5, 2.75, 3])\n",
    "#ax1.set_xlim(2.8,31)\n",
    "\n",
    "# Add grid lines\n",
    "ax1.grid(True, linestyle='--', alpha=0.7)\n",
    "\n",
    "# Combine legend handles and labels from both axes\n",
    "handles, labels = ax1.get_legend_handles_labels()\n",
    "handles2, labels2 = ax2.get_legend_handles_labels()\n",
    "handles += handles2\n",
    "labels += labels2\n",
    "\n",
    "# Add legend outside the plot with two columns\n",
    "fig.legend(handles, labels, loc='lower center', bbox_to_anchor=(0.5, 0), ncol=2, fontsize=16, frameon=False)\n",
    "\n",
    "# Title and layout adjustments\n",
    "# plt.title('Pressure Range and Number of Datapoints vs. Standoff Distance')\n",
    "fig.subplots_adjust(bottom=0.2, right = 0.8)\n",
    "\n",
    "# Save the plot as an image\n",
    "plt.savefig('IP_nearfield_info_plot2.png', dpi=200, facecolor='white')"
   ],
   "metadata": {
    "collapsed": false
   },
   "id": "2fd5edd78faf0211"
  },
  {
   "cell_type": "markdown",
   "source": [
    "## Far_field"
   ],
   "metadata": {
    "collapsed": false
   },
   "id": "963d23e23f1b4653"
  },
  {
   "cell_type": "code",
   "execution_count": null,
   "outputs": [],
   "source": [
    "input_dir1b = Path (\"G:/Chamodi/LSDYNA_1D/Incident_pressure_time_history/Far_field_time_history_dataset\")\n",
    "\n",
    "#Access folders inside input folder\n",
    "input_dir2b =  [folder1b for folder1b in input_dir1b.iterdir() if folder1b.is_dir()]\n",
    "#print (\"INPUT 2\",input_dir2)"
   ],
   "metadata": {
    "collapsed": false
   },
   "id": "72e41bef788c825f"
  },
  {
   "cell_type": "code",
   "execution_count": null,
   "outputs": [],
   "source": [
    "# Dictionary to store max pressure for each file across all folders\n",
    "max_pressure_per_SD_b = {}\n",
    "min_pressure_per_SD_b = {}\n",
    "datapoints_per_SD_b = {}\n",
    "\n",
    "# Iterate through each folder in input_dir2\n",
    "for folder in input_dir2b:\n",
    "    print(f\"Processing folder: {folder}\")\n",
    "    \n",
    "    values = list(range(1, 60, 4))\n",
    "    values.append(59)\n",
    "    \n",
    "    # Iterate through files in the folder (assuming files are named as file1, file2, etc.)\n",
    "    for i in values:  # Assuming file names are like file1, file2, ... file99\n",
    "        file_name = f\"P{i}.xlsx\"\n",
    "        file_path = folder / file_name\n",
    "        \n",
    "        if file_path.exists():\n",
    "            # Read the file (assuming it is in a format that can be read by pandas, e.g., CSV, Excel)\n",
    "            try:\n",
    "                df = pd.read_excel(file_path)  # Modify this if files are not CSV (e.g., use pd.read_excel for Excel files)\n",
    "                \n",
    "                # Assuming the pressure data is in a column named 'Pressure'\n",
    "                max_pressure = df[\"Pressure\"].max()\n",
    "                min_pressure = df[\"Pressure\"].min()\n",
    "                datapoints = len(df[\"Pressure\"])\n",
    "                \n",
    "                # Update max pressure for this file across all folders\n",
    "                if i not in max_pressure_per_SD_b:\n",
    "                    max_pressure_per_SD_b[i] = max_pressure\n",
    "                else:\n",
    "                    max_pressure_per_SD_b[i] = max(max_pressure_per_SD_b[i], max_pressure)\n",
    "                    \n",
    "                # Update max pressure for this file across all folders\n",
    "                if i not in min_pressure_per_SD_b:\n",
    "                    min_pressure_per_SD_b[i] = min_pressure\n",
    "                else:\n",
    "                    min_pressure_per_SD_b[i] = min(min_pressure_per_SD_b[i], min_pressure)\n",
    "                    \n",
    "                # Update max pressure for this file across all folders\n",
    "                if i not in datapoints_per_SD_b:\n",
    "                    datapoints_per_SD_b[i] = datapoints\n",
    "                else:\n",
    "                    datapoints_per_SD_b[i] = datapoints_per_SD_b[i] + datapoints\n",
    "                \n",
    "                print(f\"Max pressure for {i} in {folder}: {max_pressure}, {min_pressure}, {datapoints}\")\n",
    "            except Exception as e:\n",
    "                print(f\"Error processing {file_path}: {e}\")\n",
    "        else:\n",
    "            # If the file does not exist, stop looking for further files (assumes sequential naming)\n",
    "            break"
   ],
   "metadata": {
    "collapsed": false
   },
   "id": "e76c7e17e85770ea"
  },
  {
   "cell_type": "code",
   "execution_count": null,
   "outputs": [],
   "source": [
    "print (max_pressure_per_SD_b)"
   ],
   "metadata": {
    "collapsed": false
   },
   "id": "ab8ebfcc238010de"
  },
  {
   "cell_type": "code",
   "execution_count": null,
   "outputs": [],
   "source": [
    "# Given SD mapping\n",
    "SD_mapping_b = {\n",
    "    1: 1, 5: 3, 9: 5, 13: 7, 17: 9, 21: 11, 25: 13, 29: 15, 33: 17, 37: 19, 41:21, 45:23, 49:25, 53:27, 57:29, 59:30}\n",
    "\n",
    "# Extract standoff distances from the file names based on SD_mapping\n",
    "standoff_distances_b = [SD_mapping_b[file] for file in max_pressure_per_SD_b.keys()]\n",
    "\n",
    "# Create a DataFrame using the dictionaries\n",
    "results_df_b = pd.DataFrame({\n",
    "    'standoff distance': standoff_distances_b,\n",
    "    'max_pressure': [max_pressure_per_SD_b[file] for file in max_pressure_per_SD_b.keys()],\n",
    "    'min_pressure': [min_pressure_per_SD_b[file] for file in min_pressure_per_SD_b.keys()],\n",
    "    'datapoints': [datapoints_per_SD_b[file] for file in datapoints_per_SD_b.keys()]\n",
    "})\n",
    "\n",
    "# Display the DataFrame\n",
    "print(results_df_b)"
   ],
   "metadata": {
    "collapsed": false
   },
   "id": "dae754a3833aa1ee"
  },
  {
   "cell_type": "code",
   "execution_count": null,
   "outputs": [],
   "source": [
    "import matplotlib.pyplot as plt\n",
    "from matplotlib.ticker import MaxNLocator\n",
    "\n",
    "# Filter the DataFrame to include only rows with Standoff distance >= 3\n",
    "filtered_df = results_df_b[results_df_b['standoff distance'] >= 5]\n",
    "\n",
    "# Set global font to Times New Roman\n",
    "plt.rcParams['font.family'] = 'serif'\n",
    "plt.rcParams['font.serif'] = ['Times New Roman']\n",
    "plt.rcParams['font.size'] = 16\n",
    "\n",
    "fig, ax1 = plt.subplots(figsize=(7, 5))\n",
    "\n",
    "# Plot max and min pressure values with standoff distance\n",
    "for _, row in filtered_df .iterrows():\n",
    "    ax1.plot([row['standoff distance'], row['standoff distance']],\n",
    "             [row['min_pressure'], row['max_pressure']],\n",
    "             color='blue', marker='o', label='Pressure Range' if _ == filtered_df.index[0] else \"\")\n",
    "\n",
    "# Label the primary y-axis (for pressure values)\n",
    "ax1.set_xlabel('Standoff distance (m)')\n",
    "ax1.set_ylabel('Incident overpressure (kPa)')\n",
    "ax1.tick_params(axis='both', labelsize=14)\n",
    "#ax1.set_xticks([1, 1.25, 1.5, 1.75, 2, 2.25, 2.5, 2.75, 3])\n",
    "#ax1.set_xlim(2.8,31)\n",
    "\n",
    "# Create a secondary y-axis for the number of data points\n",
    "ax2 = ax1.twinx()\n",
    "ax2.plot(filtered_df['standoff distance'], filtered_df['datapoints'],\n",
    "         color='red', marker='x', label='Number of datapoints')\n",
    "ax2.set_ylabel('Number of datapoints')\n",
    "ax2.tick_params(axis='y', labelsize=14)\n",
    "#ax2.set_xticks([1, 1.25, 1.5, 1.75, 2, 2.25, 2.5, 2.75, 3])\n",
    "#ax1.set_xlim(2.8,31)\n",
    "\n",
    "# Add grid lines\n",
    "ax1.grid(True, linestyle='--', alpha=0.7)\n",
    "\n",
    "# Combine legend handles and labels from both axes\n",
    "handles, labels = ax1.get_legend_handles_labels()\n",
    "handles2, labels2 = ax2.get_legend_handles_labels()\n",
    "handles += handles2\n",
    "labels += labels2\n",
    "\n",
    "# Add legend outside the plot with two columns\n",
    "fig.legend(handles, labels, loc='lower center', bbox_to_anchor=(0.5, 0), ncol=2, fontsize=16, frameon=False)\n",
    "\n",
    "# Title and layout adjustments\n",
    "# plt.title('Pressure Range and Number of Datapoints vs. Standoff Distance')\n",
    "fig.subplots_adjust(bottom=0.2, right = 0.8)\n",
    "\n",
    "# Save the plot as an image\n",
    "plt.savefig('IP_farfield_info_plot.png', dpi=200, facecolor='white')"
   ],
   "metadata": {
    "collapsed": false
   },
   "id": "bafce395aad0d01e"
  }
 ],
 "metadata": {
  "kernelspec": {
   "display_name": "Python 3 (ipykernel)",
   "language": "python",
   "name": "python3"
  },
  "language_info": {
   "codemirror_mode": {
    "name": "ipython",
    "version": 3
   },
   "file_extension": ".py",
   "mimetype": "text/x-python",
   "name": "python",
   "nbconvert_exporter": "python",
   "pygments_lexer": "ipython3",
   "version": "3.9.7"
  }
 },
 "nbformat": 4,
 "nbformat_minor": 5
}
