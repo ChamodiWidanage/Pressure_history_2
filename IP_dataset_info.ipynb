{
 "cells": [
  {
   "cell_type": "code",
   "execution_count": 1,
   "id": "78da2ab4-3f82-47e7-9d10-099751b818c1",
   "metadata": {
    "tags": [],
    "ExecuteTime": {
     "end_time": "2024-08-11T13:44:47.212486500Z",
     "start_time": "2024-08-11T13:44:45.843297300Z"
    }
   },
   "outputs": [],
   "source": [
    "from pathlib import Path\n",
    "import pandas as pd"
   ]
  },
  {
   "cell_type": "code",
   "execution_count": 2,
   "outputs": [],
   "source": [
    "current_dir = Path.cwd()\n",
    "parent_dir = current_dir.parent\n",
    "input_dir1 = Path (\"G:/Chamodi/LSDYNA_1D/Incident_pressure_time_history/TNT_far_field\")\n",
    "\n",
    "#Access folders inside input folder\n",
    "input_dir2 =  [folder1 for folder1 in input_dir1.iterdir() if folder1.is_dir()]\n",
    "#print (\"INPUT 2\",input_dir2)"
   ],
   "metadata": {
    "collapsed": false,
    "ExecuteTime": {
     "end_time": "2024-08-11T13:44:47.212486500Z",
     "start_time": "2024-08-11T13:44:47.020333400Z"
    }
   },
   "id": "bc3a458a89c51728"
  },
  {
   "cell_type": "markdown",
   "source": [
    "## Open RP_all_all excel file"
   ],
   "metadata": {
    "collapsed": false
   },
   "id": "dd103f6cc0e9a5b9"
  },
  {
   "cell_type": "code",
   "execution_count": 3,
   "outputs": [],
   "source": [
    "# Initialize an empty DataFrame to store results\n",
    "results_df = pd.DataFrame(columns=[\"Standoff distance\", \"Max pressure\", \"Min pressure\", \"Number of datapoints\"])"
   ],
   "metadata": {
    "collapsed": false,
    "ExecuteTime": {
     "end_time": "2024-08-11T13:44:47.275535300Z",
     "start_time": "2024-08-11T13:44:47.032857100Z"
    }
   },
   "id": "adf437b83cb8c195"
  },
  {
   "cell_type": "code",
   "execution_count": 4,
   "outputs": [
    {
     "ename": "ValueError",
     "evalue": "invalid literal for int() with base 10: '3_'",
     "output_type": "error",
     "traceback": [
      "\u001B[1;31m---------------------------------------------------------------------------\u001B[0m",
      "\u001B[1;31mValueError\u001B[0m                                Traceback (most recent call last)",
      "Cell \u001B[1;32mIn[4], line 4\u001B[0m\n\u001B[0;32m      1\u001B[0m results \u001B[38;5;241m=\u001B[39m []\n\u001B[0;32m      2\u001B[0m \u001B[38;5;28;01mfor\u001B[39;00m folder1 \u001B[38;5;129;01min\u001B[39;00m input_dir2: \u001B[38;5;66;03m# folder1-RP_curves_fr5m\u001B[39;00m\n\u001B[1;32m----> 4\u001B[0m     SD \u001B[38;5;241m=\u001B[39m \u001B[38;5;28;43mint\u001B[39;49m\u001B[43m(\u001B[49m\u001B[43mfolder1\u001B[49m\u001B[38;5;241;43m.\u001B[39;49m\u001B[43mname\u001B[49m\u001B[43m[\u001B[49m\u001B[38;5;241;43m-\u001B[39;49m\u001B[38;5;241;43m3\u001B[39;49m\u001B[43m:\u001B[49m\u001B[38;5;241;43m-\u001B[39;49m\u001B[38;5;241;43m1\u001B[39;49m\u001B[43m]\u001B[49m\u001B[43m)\u001B[49m\n\u001B[0;32m      6\u001B[0m     input_dir3 \u001B[38;5;241m=\u001B[39m  [folder2 \u001B[38;5;28;01mfor\u001B[39;00m folder2 \u001B[38;5;129;01min\u001B[39;00m folder1\u001B[38;5;241m.\u001B[39miterdir() \u001B[38;5;28;01mif\u001B[39;00m folder2\u001B[38;5;241m.\u001B[39mis_dir()]\n\u001B[0;32m      8\u001B[0m     max_pressure \u001B[38;5;241m=\u001B[39m \u001B[38;5;28mfloat\u001B[39m(\u001B[38;5;124m'\u001B[39m\u001B[38;5;124m-inf\u001B[39m\u001B[38;5;124m'\u001B[39m)\n",
      "\u001B[1;31mValueError\u001B[0m: invalid literal for int() with base 10: '3_'"
     ]
    }
   ],
   "source": [
    "results = []\n",
    "for folder1 in input_dir2: # folder1-RP_curves_fr5m\n",
    "    \n",
    "    SD = int(folder1.name[-3:-1])\n",
    "\n",
    "    input_dir3 =  [folder2 for folder2 in folder1.iterdir() if folder2.is_dir()]\n",
    "    \n",
    "    max_pressure = float('-inf')\n",
    "    min_pressure = float('inf')\n",
    "    total_datapoints = 0\n",
    "    \n",
    "    for folder2 in input_dir3: # folder2-05m00.5kg\n",
    "        \n",
    "        # Make a list of data file names\n",
    "        files1 = [file1 for file1 in folder2.rglob(\"*\") if file1.suffix == '.xlsx' and file1.suffix != '.png']\n",
    "            \n",
    "        # Access each file \n",
    "        for file1 in files1: # file-1.xlsx\n",
    "                \n",
    "            # Read data from Excel file\n",
    "            df1 = pd.read_excel(file1)\n",
    "            \n",
    "            pressure_values = df1['Pressure'].dropna().values\n",
    "            \n",
    "            # Update the max and min pressure values\n",
    "            max_pressure = max(max_pressure, pressure_values.max())\n",
    "            min_pressure = min(min_pressure, pressure_values.min())\n",
    "            \n",
    "            # Update the total number of data points\n",
    "            total_datapoints += len(pressure_values)\n",
    "                    \n",
    "    # Collect the results for this folder1\n",
    "    results.append({\n",
    "        \"Standoff distance\": SD,\n",
    "        \"Max pressure\": max_pressure,\n",
    "        \"Min pressure\": min_pressure,\n",
    "        \"Number of datapoints\": total_datapoints\n",
    "    })\n",
    "    \n",
    "# Create a DataFrame with the collected results\n",
    "results_df = pd.DataFrame(results)"
   ],
   "metadata": {
    "collapsed": false,
    "ExecuteTime": {
     "end_time": "2024-08-11T13:44:49.287203500Z",
     "start_time": "2024-08-11T13:44:47.207477700Z"
    }
   },
   "id": "5b9ea91a6744687d"
  },
  {
   "cell_type": "code",
   "execution_count": null,
   "outputs": [],
   "source": [
    "print (results_df)"
   ],
   "metadata": {
    "collapsed": false,
    "ExecuteTime": {
     "start_time": "2024-08-11T13:44:49.199623100Z"
    }
   },
   "id": "c26e7ca8f3e004b7"
  },
  {
   "cell_type": "code",
   "execution_count": null,
   "outputs": [],
   "source": [
    "import matplotlib.pyplot as plt\n",
    "from matplotlib.ticker import MaxNLocator\n",
    "\n",
    "# Filter the DataFrame to include only rows with Standoff distance >= 3\n",
    "#filtered_df = results_df[results_df['Standoff distance'] >= 5]\n",
    "\n",
    "# Set global font to Times New Roman\n",
    "plt.rcParams['font.family'] = 'serif'\n",
    "plt.rcParams['font.serif'] = ['Times New Roman']\n",
    "plt.rcParams['font.size'] = 16\n",
    "\n",
    "fig, ax1 = plt.subplots(figsize=(7, 5))\n",
    "\n",
    "# Plot max and min pressure values with standoff distance\n",
    "for _, row in results_df .iterrows():\n",
    "    ax1.plot([row['Standoff distance'], row['Standoff distance']],\n",
    "             [row['Min pressure'], row['Max pressure']],\n",
    "             color='blue', marker='o', label='Pressure Range' if _ == results_df .index[0] else \"\")\n",
    "\n",
    "# Label the primary y-axis (for pressure values)\n",
    "ax1.set_xlabel('Standoff distance (m)')\n",
    "ax1.set_ylabel('Reflected overpressure (kPa)')\n",
    "ax1.tick_params(axis='both', labelsize=14)\n",
    "ax1.set_xticks([5, 7, 9, 11, 13, 15, 17, 19, 21, 23, 25, 27, 29, 31])\n",
    "#ax1.set_xlim(2.8,31)\n",
    "\n",
    "# Create a secondary y-axis for the number of data points\n",
    "ax2 = ax1.twinx()\n",
    "ax2.plot(results_df ['Standoff distance'], results_df ['Number of datapoints'],\n",
    "         color='red', marker='x', label='Number of datapoints')\n",
    "ax2.set_ylabel('Number of datapoints')\n",
    "ax2.tick_params(axis='y', labelsize=14)\n",
    "ax2.set_xticks([5, 7, 9, 11, 13, 15, 17, 19, 21, 23, 25, 27, 29, 31])\n",
    "#ax1.set_xlim(2.8,31)\n",
    "\n",
    "# Add grid lines\n",
    "ax1.grid(True, linestyle='--', alpha=0.7)\n",
    "\n",
    "# Combine legend handles and labels from both axes\n",
    "handles, labels = ax1.get_legend_handles_labels()\n",
    "handles2, labels2 = ax2.get_legend_handles_labels()\n",
    "handles += handles2\n",
    "labels += labels2\n",
    "\n",
    "# Add legend outside the plot with two columns\n",
    "fig.legend(handles, labels, loc='lower center', bbox_to_anchor=(0.5, 0), ncol=2, fontsize=16, frameon=False)\n",
    "\n",
    "# Title and layout adjustments\n",
    "# plt.title('Pressure Range and Number of Datapoints vs. Standoff Distance')\n",
    "fig.subplots_adjust(bottom=0.2, right = 0.8)\n",
    "\n",
    "# Save the plot as an image\n",
    "plt.savefig('IP_farfield_info_plot.png', dpi=200, facecolor='white')\n",
    "\n",
    "\n",
    "# Show the plot\n",
    "#plt.show()"
   ],
   "metadata": {
    "collapsed": false,
    "ExecuteTime": {
     "start_time": "2024-08-11T13:44:49.203630Z"
    }
   },
   "id": "2fd5edd78faf0211"
  }
 ],
 "metadata": {
  "kernelspec": {
   "display_name": "Python 3 (ipykernel)",
   "language": "python",
   "name": "python3"
  },
  "language_info": {
   "codemirror_mode": {
    "name": "ipython",
    "version": 3
   },
   "file_extension": ".py",
   "mimetype": "text/x-python",
   "name": "python",
   "nbconvert_exporter": "python",
   "pygments_lexer": "ipython3",
   "version": "3.9.7"
  }
 },
 "nbformat": 4,
 "nbformat_minor": 5
}
