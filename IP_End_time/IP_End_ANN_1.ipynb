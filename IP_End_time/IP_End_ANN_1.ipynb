{
 "cells": [
  {
   "cell_type": "markdown",
   "source": [
    "# Part 1 - Data Preprocessing"
   ],
   "metadata": {
    "collapsed": false
   }
  },
  {
   "cell_type": "code",
   "execution_count": 1,
   "metadata": {
    "colab": {},
    "colab_type": "code",
    "id": "lxChR1Rk-umf",
    "ExecuteTime": {
     "end_time": "2024-08-22T13:45:40.413782100Z",
     "start_time": "2024-08-22T13:45:35.058018100Z"
    }
   },
   "outputs": [],
   "source": [
    "import numpy as np\n",
    "import pandas as pd\n",
    "import tensorflow as tf\n",
    "import matplotlib.pyplot as plt\n",
    "from keras.models import load_model"
   ]
  },
  {
   "cell_type": "code",
   "execution_count": 2,
   "metadata": {
    "colab": {},
    "colab_type": "code",
    "id": "B9CV13Co_HHM",
    "ExecuteTime": {
     "end_time": "2024-08-22T13:45:41.120286200Z",
     "start_time": "2024-08-22T13:45:40.416783400Z"
    }
   },
   "outputs": [
    {
     "name": "stdout",
     "output_type": "stream",
     "text": [
      "<class 'pandas.core.frame.DataFrame'>\n",
      "RangeIndex: 576 entries, 0 to 575\n",
      "Data columns (total 4 columns):\n",
      " #   Column             Non-Null Count  Dtype  \n",
      "---  ------             --------------  -----  \n",
      " 0   Charge_mass        576 non-null    float64\n",
      " 1   Standoff_distance  576 non-null    int64  \n",
      " 2   End_time           576 non-null    float64\n",
      " 3   End_index          576 non-null    int64  \n",
      "dtypes: float64(2), int64(2)\n",
      "memory usage: 18.1 KB\n"
     ]
    }
   ],
   "source": [
    "dataset = pd.read_excel('End_time.xlsx')\n",
    "dataset.info()"
   ]
  },
  {
   "cell_type": "code",
   "execution_count": 3,
   "metadata": {
    "ExecuteTime": {
     "end_time": "2024-08-22T13:45:41.172324600Z",
     "start_time": "2024-08-22T13:45:41.116294900Z"
    }
   },
   "outputs": [
    {
     "name": "stdout",
     "output_type": "stream",
     "text": [
      "(576, 2) (576,)\n"
     ]
    }
   ],
   "source": [
    "y = dataset['End_time']*1000\n",
    "X = dataset.drop(['End_time','End_index'], axis=1)\n",
    "print(X.shape, y.shape)"
   ]
  },
  {
   "cell_type": "code",
   "execution_count": 4,
   "metadata": {
    "ExecuteTime": {
     "end_time": "2024-08-22T13:45:41.281415400Z",
     "start_time": "2024-08-22T13:45:41.131809400Z"
    }
   },
   "outputs": [],
   "source": [
    "# convert to numpy array\n",
    "X = np.array(X)\n",
    "y = np.array(y)"
   ]
  },
  {
   "cell_type": "code",
   "execution_count": 5,
   "metadata": {
    "colab": {},
    "colab_type": "code",
    "id": "L5edeb2r_agx",
    "ExecuteTime": {
     "end_time": "2024-08-22T13:45:42.197008800Z",
     "start_time": "2024-08-22T13:45:41.285424600Z"
    }
   },
   "outputs": [],
   "source": [
    "from sklearn.model_selection import train_test_split\n",
    "X_train, X_test, y_train, y_test = train_test_split(X,\n",
    "                                                    y,\n",
    "                                                    test_size = 0.3,\n",
    "                                                    random_state = 0)"
   ]
  },
  {
   "cell_type": "code",
   "execution_count": 6,
   "metadata": {
    "colab": {},
    "colab_type": "code",
    "id": "L5edeb2r_agx",
    "ExecuteTime": {
     "end_time": "2024-08-22T13:45:42.214024400Z",
     "start_time": "2024-08-22T13:45:42.201010200Z"
    }
   },
   "outputs": [],
   "source": [
    "X_val, X_test, y_val, y_test = train_test_split(X_test,\n",
    "                                                y_test,\n",
    "                                                test_size = 0.5,\n",
    "                                                random_state = 0)"
   ]
  },
  {
   "cell_type": "markdown",
   "metadata": {
    "colab_type": "text",
    "id": "_mSLlAT9_eyI"
   },
   "source": [
    "# Part 2 - Building the ANN"
   ]
  },
  {
   "cell_type": "code",
   "execution_count": 7,
   "metadata": {
    "colab": {},
    "colab_type": "code",
    "id": "J6Hd97Ls__Nz",
    "ExecuteTime": {
     "end_time": "2024-08-22T13:45:42.612873500Z",
     "start_time": "2024-08-22T13:45:42.215031700Z"
    }
   },
   "outputs": [],
   "source": [
    "ann = tf.keras.models.Sequential()"
   ]
  },
  {
   "cell_type": "code",
   "execution_count": 8,
   "metadata": {
    "colab": {},
    "colab_type": "code",
    "id": "ksO_Vv40AHix",
    "ExecuteTime": {
     "end_time": "2024-08-22T13:45:42.994032300Z",
     "start_time": "2024-08-22T13:45:42.612873500Z"
    }
   },
   "outputs": [],
   "source": [
    "ann.add(tf.keras.layers.Dense(units=75,\n",
    "                              input_shape=(X_train.shape[1],),\n",
    "                              activation='softplus'))\n",
    "ann.add(tf.keras.layers.Dense(units=55,\n",
    "                              activation='softplus'))\n",
    "ann.add(tf.keras.layers.Dense(units=35,\n",
    "                              activation='softplus'))"
   ]
  },
  {
   "cell_type": "code",
   "execution_count": 9,
   "metadata": {
    "colab": {},
    "colab_type": "code",
    "id": "YFATpzsUAkLL",
    "ExecuteTime": {
     "end_time": "2024-08-22T13:45:43.298311700Z",
     "start_time": "2024-08-22T13:45:42.994032300Z"
    }
   },
   "outputs": [],
   "source": [
    "ann.add(tf.keras.layers.Dense(units=1,\n",
    "                              activation='linear'))"
   ]
  },
  {
   "cell_type": "code",
   "execution_count": 10,
   "metadata": {
    "ExecuteTime": {
     "end_time": "2024-08-22T13:45:43.582061500Z",
     "start_time": "2024-08-22T13:45:43.300312100Z"
    }
   },
   "outputs": [
    {
     "name": "stdout",
     "output_type": "stream",
     "text": [
      "Model: \"sequential\"\n",
      "_________________________________________________________________\n",
      " Layer (type)                Output Shape              Param #   \n",
      "=================================================================\n",
      " dense (Dense)               (None, 75)                225       \n",
      "                                                                 \n",
      " dense_1 (Dense)             (None, 55)                4180      \n",
      "                                                                 \n",
      " dense_2 (Dense)             (None, 35)                1960      \n",
      "                                                                 \n",
      " dense_3 (Dense)             (None, 1)                 36        \n",
      "                                                                 \n",
      "=================================================================\n",
      "Total params: 6,401\n",
      "Trainable params: 6,401\n",
      "Non-trainable params: 0\n",
      "_________________________________________________________________\n"
     ]
    }
   ],
   "source": [
    "ann.summary()"
   ]
  },
  {
   "cell_type": "markdown",
   "metadata": {
    "colab_type": "text",
    "id": "fq7e4fF6A1yy"
   },
   "source": [
    "# Part 3 - Training the ANN"
   ]
  },
  {
   "cell_type": "code",
   "execution_count": 11,
   "metadata": {
    "colab": {},
    "colab_type": "code",
    "id": "pesgbWlCAtB4",
    "ExecuteTime": {
     "end_time": "2024-08-22T13:45:43.800444400Z",
     "start_time": "2024-08-22T13:45:43.543517800Z"
    }
   },
   "outputs": [],
   "source": [
    "from tensorflow.keras.optimizers import Adam\n",
    "opt = Adam(learning_rate=0.001)\n",
    "ann.compile(optimizer = opt,\n",
    "            loss = 'mean_squared_error',\n",
    "            metrics = ['mae'])"
   ]
  },
  {
   "cell_type": "code",
   "execution_count": 12,
   "metadata": {
    "ExecuteTime": {
     "end_time": "2024-08-22T13:45:43.967193500Z",
     "start_time": "2024-08-22T13:45:43.803446700Z"
    }
   },
   "outputs": [],
   "source": [
    "# protects from unnecessary further training of the model if a particular metric does not continue to improve over a number of n epochs. In such a case, the model training would be automatically aborted.\n",
    "from keras.callbacks import EarlyStopping\n",
    "es = EarlyStopping(monitor='val_loss',\n",
    "                   mode='min',\n",
    "                   patience=50,\n",
    "                   restore_best_weights = True)"
   ]
  },
  {
   "cell_type": "code",
   "execution_count": 13,
   "metadata": {
    "colab": {
     "base_uri": "https://localhost:8080/",
     "height": 1000
    },
    "colab_type": "code",
    "id": "c_vV-tiiA5zn",
    "outputId": "4a2b6ee6-ed75-4698-9069-b250e613803f",
    "ExecuteTime": {
     "end_time": "2024-08-22T13:54:53.631129Z",
     "start_time": "2024-08-22T13:45:43.969709600Z"
    }
   },
   "outputs": [
    {
     "name": "stdout",
     "output_type": "stream",
     "text": [
      "Epoch 1/500\n",
      "14/14 [==============================] - 1s 31ms/step - loss: 5236.6289 - mae: 67.4229 - val_loss: 5234.8633 - val_mae: 67.6899\n",
      "Epoch 2/500\n",
      "14/14 [==============================] - 0s 7ms/step - loss: 3638.9246 - mae: 55.4119 - val_loss: 2763.9529 - val_mae: 48.1360\n",
      "Epoch 3/500\n",
      "14/14 [==============================] - 0s 8ms/step - loss: 1271.7999 - mae: 30.1294 - val_loss: 333.8648 - val_mae: 14.8876\n",
      "Epoch 4/500\n",
      "14/14 [==============================] - 0s 9ms/step - loss: 355.7984 - mae: 14.8486 - val_loss: 229.0824 - val_mae: 11.7271\n",
      "Epoch 5/500\n",
      "14/14 [==============================] - 0s 7ms/step - loss: 180.5767 - mae: 10.9736 - val_loss: 120.6758 - val_mae: 9.2820\n",
      "Epoch 6/500\n",
      "14/14 [==============================] - 0s 7ms/step - loss: 76.0433 - mae: 7.0501 - val_loss: 36.9069 - val_mae: 4.4230\n",
      "Epoch 7/500\n",
      "14/14 [==============================] - 0s 10ms/step - loss: 29.8823 - mae: 4.0492 - val_loss: 17.4160 - val_mae: 3.4918\n",
      "Epoch 8/500\n",
      "14/14 [==============================] - 0s 7ms/step - loss: 15.5771 - mae: 3.1596 - val_loss: 14.6162 - val_mae: 2.8915\n",
      "Epoch 9/500\n",
      "14/14 [==============================] - 0s 13ms/step - loss: 12.5363 - mae: 2.7951 - val_loss: 12.5994 - val_mae: 2.8155\n",
      "Epoch 10/500\n",
      "14/14 [==============================] - 0s 7ms/step - loss: 11.1599 - mae: 2.6570 - val_loss: 11.3295 - val_mae: 2.6625\n",
      "Epoch 11/500\n",
      "14/14 [==============================] - 0s 14ms/step - loss: 10.2007 - mae: 2.5631 - val_loss: 10.6394 - val_mae: 2.5710\n",
      "Epoch 12/500\n",
      "14/14 [==============================] - 0s 8ms/step - loss: 9.5052 - mae: 2.4803 - val_loss: 9.7546 - val_mae: 2.4746\n",
      "Epoch 13/500\n",
      "14/14 [==============================] - 0s 7ms/step - loss: 8.8401 - mae: 2.3849 - val_loss: 9.0286 - val_mae: 2.3696\n",
      "Epoch 14/500\n",
      "14/14 [==============================] - 0s 8ms/step - loss: 8.1860 - mae: 2.2850 - val_loss: 8.0829 - val_mae: 2.2521\n",
      "Epoch 15/500\n",
      "14/14 [==============================] - 1s 101ms/step - loss: 7.5620 - mae: 2.1795 - val_loss: 7.3668 - val_mae: 2.1271\n",
      "Epoch 16/500\n",
      "14/14 [==============================] - 0s 7ms/step - loss: 6.9884 - mae: 2.0712 - val_loss: 6.6550 - val_mae: 1.9919\n",
      "Epoch 17/500\n",
      "14/14 [==============================] - 0s 7ms/step - loss: 6.4167 - mae: 1.9565 - val_loss: 6.0695 - val_mae: 1.8869\n",
      "Epoch 18/500\n",
      "14/14 [==============================] - 1s 95ms/step - loss: 5.9814 - mae: 1.8493 - val_loss: 5.2150 - val_mae: 1.7855\n",
      "Epoch 19/500\n",
      "14/14 [==============================] - 2s 146ms/step - loss: 5.5238 - mae: 1.7557 - val_loss: 5.0614 - val_mae: 1.7032\n",
      "Epoch 20/500\n",
      "14/14 [==============================] - 2s 154ms/step - loss: 5.2421 - mae: 1.6978 - val_loss: 4.4155 - val_mae: 1.6127\n",
      "Epoch 21/500\n",
      "14/14 [==============================] - 2s 125ms/step - loss: 4.9963 - mae: 1.6653 - val_loss: 4.3059 - val_mae: 1.5679\n",
      "Epoch 22/500\n",
      "14/14 [==============================] - 2s 132ms/step - loss: 4.6087 - mae: 1.5667 - val_loss: 3.7629 - val_mae: 1.4832\n",
      "Epoch 23/500\n",
      "14/14 [==============================] - 1s 94ms/step - loss: 4.2283 - mae: 1.5058 - val_loss: 3.3886 - val_mae: 1.4020\n",
      "Epoch 24/500\n",
      "14/14 [==============================] - 1s 93ms/step - loss: 3.9970 - mae: 1.5068 - val_loss: 3.1109 - val_mae: 1.2899\n",
      "Epoch 25/500\n",
      "14/14 [==============================] - 1s 97ms/step - loss: 3.5484 - mae: 1.3261 - val_loss: 2.8802 - val_mae: 1.2673\n",
      "Epoch 26/500\n",
      "14/14 [==============================] - 1s 97ms/step - loss: 3.2324 - mae: 1.3096 - val_loss: 2.5746 - val_mae: 1.1360\n",
      "Epoch 27/500\n",
      "14/14 [==============================] - 1s 101ms/step - loss: 3.0025 - mae: 1.2103 - val_loss: 2.9112 - val_mae: 1.2130\n",
      "Epoch 28/500\n",
      "14/14 [==============================] - 1s 96ms/step - loss: 2.8733 - mae: 1.1649 - val_loss: 2.2420 - val_mae: 1.0399\n",
      "Epoch 29/500\n",
      "14/14 [==============================] - 1s 101ms/step - loss: 2.6133 - mae: 1.1152 - val_loss: 2.1706 - val_mae: 1.0174\n",
      "Epoch 30/500\n",
      "14/14 [==============================] - 1s 101ms/step - loss: 2.4194 - mae: 1.0623 - val_loss: 2.1988 - val_mae: 1.0642\n",
      "Epoch 31/500\n",
      "14/14 [==============================] - 1s 100ms/step - loss: 2.3008 - mae: 1.0407 - val_loss: 1.9898 - val_mae: 0.9702\n",
      "Epoch 32/500\n",
      "14/14 [==============================] - 1s 96ms/step - loss: 2.1037 - mae: 0.9759 - val_loss: 1.9275 - val_mae: 0.9371\n",
      "Epoch 33/500\n",
      "14/14 [==============================] - 1s 105ms/step - loss: 2.0836 - mae: 0.9607 - val_loss: 1.8028 - val_mae: 0.9188\n",
      "Epoch 34/500\n",
      "14/14 [==============================] - 2s 114ms/step - loss: 1.9877 - mae: 0.9541 - val_loss: 1.8266 - val_mae: 0.9444\n",
      "Epoch 35/500\n",
      "14/14 [==============================] - 1s 105ms/step - loss: 1.8676 - mae: 0.8875 - val_loss: 1.6859 - val_mae: 0.8728\n",
      "Epoch 36/500\n",
      "14/14 [==============================] - 1s 105ms/step - loss: 1.8298 - mae: 0.8945 - val_loss: 1.7101 - val_mae: 0.9021\n",
      "Epoch 37/500\n",
      "14/14 [==============================] - 2s 133ms/step - loss: 1.7885 - mae: 0.8594 - val_loss: 1.6196 - val_mae: 0.8409\n",
      "Epoch 38/500\n",
      "14/14 [==============================] - 1s 93ms/step - loss: 1.7387 - mae: 0.8693 - val_loss: 1.8446 - val_mae: 0.9535\n",
      "Epoch 39/500\n",
      "14/14 [==============================] - 1s 100ms/step - loss: 1.7500 - mae: 0.8881 - val_loss: 1.5538 - val_mae: 0.8097\n",
      "Epoch 40/500\n",
      "14/14 [==============================] - 1s 96ms/step - loss: 1.6471 - mae: 0.8156 - val_loss: 1.5679 - val_mae: 0.8121\n",
      "Epoch 41/500\n",
      "14/14 [==============================] - 1s 93ms/step - loss: 1.7360 - mae: 0.8763 - val_loss: 1.7131 - val_mae: 0.9032\n",
      "Epoch 42/500\n",
      "14/14 [==============================] - 1s 91ms/step - loss: 1.6976 - mae: 0.8481 - val_loss: 1.7277 - val_mae: 0.9794\n",
      "Epoch 43/500\n",
      "14/14 [==============================] - 2s 112ms/step - loss: 1.7151 - mae: 0.9081 - val_loss: 1.5187 - val_mae: 0.7868\n",
      "Epoch 44/500\n",
      "14/14 [==============================] - 1s 93ms/step - loss: 1.6215 - mae: 0.8522 - val_loss: 1.5945 - val_mae: 0.8474\n",
      "Epoch 45/500\n",
      "14/14 [==============================] - 2s 155ms/step - loss: 1.5513 - mae: 0.7939 - val_loss: 1.4522 - val_mae: 0.8304\n",
      "Epoch 46/500\n",
      "14/14 [==============================] - 2s 161ms/step - loss: 1.6020 - mae: 0.8277 - val_loss: 1.4609 - val_mae: 0.8092\n",
      "Epoch 47/500\n",
      "14/14 [==============================] - 2s 120ms/step - loss: 1.5586 - mae: 0.8011 - val_loss: 1.4396 - val_mae: 0.8413\n",
      "Epoch 48/500\n",
      "14/14 [==============================] - 2s 152ms/step - loss: 1.5469 - mae: 0.8169 - val_loss: 1.4450 - val_mae: 0.7925\n",
      "Epoch 49/500\n",
      "14/14 [==============================] - 1s 55ms/step - loss: 1.5502 - mae: 0.8103 - val_loss: 1.4873 - val_mae: 0.9137\n",
      "Epoch 50/500\n",
      "14/14 [==============================] - 0s 9ms/step - loss: 1.5626 - mae: 0.8396 - val_loss: 1.4233 - val_mae: 0.7704\n",
      "Epoch 51/500\n",
      "14/14 [==============================] - 0s 7ms/step - loss: 1.4996 - mae: 0.7924 - val_loss: 1.3943 - val_mae: 0.8343\n",
      "Epoch 52/500\n",
      "14/14 [==============================] - 2s 121ms/step - loss: 1.5224 - mae: 0.8119 - val_loss: 1.5413 - val_mae: 0.8421\n",
      "Epoch 53/500\n",
      "14/14 [==============================] - 2s 177ms/step - loss: 1.5338 - mae: 0.7895 - val_loss: 1.5177 - val_mae: 0.9298\n",
      "Epoch 54/500\n",
      "14/14 [==============================] - 1s 108ms/step - loss: 1.5556 - mae: 0.8348 - val_loss: 1.6054 - val_mae: 0.8959\n",
      "Epoch 55/500\n",
      "14/14 [==============================] - 2s 177ms/step - loss: 1.5036 - mae: 0.8110 - val_loss: 1.4558 - val_mae: 0.8042\n",
      "Epoch 56/500\n",
      "14/14 [==============================] - 1s 104ms/step - loss: 1.4970 - mae: 0.7809 - val_loss: 1.3536 - val_mae: 0.7370\n",
      "Epoch 57/500\n",
      "14/14 [==============================] - 1s 100ms/step - loss: 1.4232 - mae: 0.7661 - val_loss: 1.2850 - val_mae: 0.7190\n",
      "Epoch 58/500\n",
      "14/14 [==============================] - 2s 143ms/step - loss: 1.4600 - mae: 0.7841 - val_loss: 1.3686 - val_mae: 0.8729\n",
      "Epoch 59/500\n",
      "14/14 [==============================] - 2s 114ms/step - loss: 1.5056 - mae: 0.8027 - val_loss: 1.3094 - val_mae: 0.7251\n",
      "Epoch 60/500\n",
      "14/14 [==============================] - 1s 103ms/step - loss: 1.4645 - mae: 0.8139 - val_loss: 1.2695 - val_mae: 0.7301\n",
      "Epoch 61/500\n",
      "14/14 [==============================] - 2s 158ms/step - loss: 1.4088 - mae: 0.7670 - val_loss: 1.2611 - val_mae: 0.7610\n",
      "Epoch 62/500\n",
      "14/14 [==============================] - 2s 175ms/step - loss: 1.3893 - mae: 0.7596 - val_loss: 1.2636 - val_mae: 0.7414\n",
      "Epoch 63/500\n",
      "14/14 [==============================] - 2s 121ms/step - loss: 1.3745 - mae: 0.7562 - val_loss: 1.2411 - val_mae: 0.7391\n",
      "Epoch 64/500\n",
      "14/14 [==============================] - 1s 108ms/step - loss: 1.3941 - mae: 0.7675 - val_loss: 1.3126 - val_mae: 0.7499\n",
      "Epoch 65/500\n",
      "14/14 [==============================] - 1s 35ms/step - loss: 1.3940 - mae: 0.7764 - val_loss: 1.3290 - val_mae: 0.8666\n",
      "Epoch 66/500\n",
      "14/14 [==============================] - 0s 6ms/step - loss: 1.4392 - mae: 0.7971 - val_loss: 1.2930 - val_mae: 0.7524\n",
      "Epoch 67/500\n",
      "14/14 [==============================] - 0s 13ms/step - loss: 1.3426 - mae: 0.7576 - val_loss: 1.2369 - val_mae: 0.7854\n",
      "Epoch 68/500\n",
      "14/14 [==============================] - 0s 12ms/step - loss: 1.3607 - mae: 0.7655 - val_loss: 1.1814 - val_mae: 0.7159\n",
      "Epoch 69/500\n",
      "14/14 [==============================] - 0s 13ms/step - loss: 1.3821 - mae: 0.7835 - val_loss: 1.2043 - val_mae: 0.7030\n",
      "Epoch 70/500\n",
      "14/14 [==============================] - 0s 10ms/step - loss: 1.3308 - mae: 0.7685 - val_loss: 1.3927 - val_mae: 0.7977\n",
      "Epoch 71/500\n",
      "14/14 [==============================] - 0s 27ms/step - loss: 1.3190 - mae: 0.7436 - val_loss: 1.2070 - val_mae: 0.7811\n",
      "Epoch 72/500\n",
      "14/14 [==============================] - 0s 10ms/step - loss: 1.3466 - mae: 0.7737 - val_loss: 1.3961 - val_mae: 0.8039\n",
      "Epoch 73/500\n",
      "14/14 [==============================] - 1s 75ms/step - loss: 1.2930 - mae: 0.7481 - val_loss: 1.1931 - val_mae: 0.7771\n",
      "Epoch 74/500\n",
      "14/14 [==============================] - 0s 7ms/step - loss: 1.2990 - mae: 0.7487 - val_loss: 1.1625 - val_mae: 0.7392\n",
      "Epoch 75/500\n",
      "14/14 [==============================] - 0s 32ms/step - loss: 1.2358 - mae: 0.7144 - val_loss: 1.2184 - val_mae: 0.7356\n",
      "Epoch 76/500\n",
      "14/14 [==============================] - 1s 93ms/step - loss: 1.2420 - mae: 0.7169 - val_loss: 1.1761 - val_mae: 0.8055\n",
      "Epoch 77/500\n",
      "14/14 [==============================] - 0s 9ms/step - loss: 1.2981 - mae: 0.7555 - val_loss: 1.3139 - val_mae: 0.7792\n",
      "Epoch 78/500\n",
      "14/14 [==============================] - 0s 24ms/step - loss: 1.2386 - mae: 0.7420 - val_loss: 1.1069 - val_mae: 0.7171\n",
      "Epoch 79/500\n",
      "14/14 [==============================] - 0s 8ms/step - loss: 1.1870 - mae: 0.7023 - val_loss: 1.1471 - val_mae: 0.6953\n",
      "Epoch 80/500\n",
      "14/14 [==============================] - 1s 95ms/step - loss: 1.1699 - mae: 0.6973 - val_loss: 1.0824 - val_mae: 0.7319\n",
      "Epoch 81/500\n",
      "14/14 [==============================] - 0s 9ms/step - loss: 1.1571 - mae: 0.6984 - val_loss: 1.1609 - val_mae: 0.6991\n",
      "Epoch 82/500\n",
      "14/14 [==============================] - 0s 7ms/step - loss: 1.1525 - mae: 0.6906 - val_loss: 1.0816 - val_mae: 0.6763\n",
      "Epoch 83/500\n",
      "14/14 [==============================] - 2s 116ms/step - loss: 1.1875 - mae: 0.7414 - val_loss: 1.1160 - val_mae: 0.7909\n",
      "Epoch 84/500\n",
      "14/14 [==============================] - 2s 148ms/step - loss: 1.2362 - mae: 0.7609 - val_loss: 1.0385 - val_mae: 0.6552\n",
      "Epoch 85/500\n",
      "14/14 [==============================] - 2s 124ms/step - loss: 1.1307 - mae: 0.7223 - val_loss: 1.1811 - val_mae: 0.7054\n",
      "Epoch 86/500\n",
      "14/14 [==============================] - 1s 104ms/step - loss: 1.1550 - mae: 0.7257 - val_loss: 1.0314 - val_mae: 0.7460\n",
      "Epoch 87/500\n",
      "14/14 [==============================] - 2s 108ms/step - loss: 1.1347 - mae: 0.7096 - val_loss: 0.9750 - val_mae: 0.6450\n",
      "Epoch 88/500\n",
      "14/14 [==============================] - 1s 97ms/step - loss: 1.1917 - mae: 0.7551 - val_loss: 1.3010 - val_mae: 0.8609\n",
      "Epoch 89/500\n",
      "14/14 [==============================] - 1s 110ms/step - loss: 1.1278 - mae: 0.7390 - val_loss: 1.0546 - val_mae: 0.7755\n",
      "Epoch 90/500\n",
      "14/14 [==============================] - 1s 96ms/step - loss: 1.0221 - mae: 0.6730 - val_loss: 1.1140 - val_mae: 0.7155\n",
      "Epoch 91/500\n",
      "14/14 [==============================] - 2s 121ms/step - loss: 1.0239 - mae: 0.6622 - val_loss: 0.9013 - val_mae: 0.6184\n",
      "Epoch 92/500\n",
      "14/14 [==============================] - 2s 167ms/step - loss: 0.9576 - mae: 0.6262 - val_loss: 0.9481 - val_mae: 0.6529\n",
      "Epoch 93/500\n",
      "14/14 [==============================] - 2s 166ms/step - loss: 0.9485 - mae: 0.6395 - val_loss: 0.8799 - val_mae: 0.6328\n",
      "Epoch 94/500\n",
      "14/14 [==============================] - 1s 86ms/step - loss: 0.9364 - mae: 0.6339 - val_loss: 1.2394 - val_mae: 0.8214\n",
      "Epoch 95/500\n",
      "14/14 [==============================] - 0s 36ms/step - loss: 0.9710 - mae: 0.6574 - val_loss: 0.8416 - val_mae: 0.6030\n",
      "Epoch 96/500\n",
      "14/14 [==============================] - 3s 237ms/step - loss: 0.9227 - mae: 0.6688 - val_loss: 1.1596 - val_mae: 0.7894\n",
      "Epoch 97/500\n",
      "14/14 [==============================] - 3s 202ms/step - loss: 0.9710 - mae: 0.7015 - val_loss: 0.8086 - val_mae: 0.5822\n",
      "Epoch 98/500\n",
      "14/14 [==============================] - 2s 129ms/step - loss: 0.8571 - mae: 0.6022 - val_loss: 0.8378 - val_mae: 0.5752\n",
      "Epoch 99/500\n",
      "14/14 [==============================] - 1s 83ms/step - loss: 0.8124 - mae: 0.5783 - val_loss: 0.7876 - val_mae: 0.5561\n",
      "Epoch 100/500\n",
      "14/14 [==============================] - 1s 109ms/step - loss: 0.7891 - mae: 0.5635 - val_loss: 0.8067 - val_mae: 0.6461\n",
      "Epoch 101/500\n",
      "14/14 [==============================] - 2s 121ms/step - loss: 0.7709 - mae: 0.5634 - val_loss: 0.7147 - val_mae: 0.5601\n",
      "Epoch 102/500\n",
      "14/14 [==============================] - 2s 146ms/step - loss: 0.7452 - mae: 0.5492 - val_loss: 0.7687 - val_mae: 0.5472\n",
      "Epoch 103/500\n",
      "14/14 [==============================] - 2s 123ms/step - loss: 0.7736 - mae: 0.5761 - val_loss: 0.9620 - val_mae: 0.7296\n",
      "Epoch 104/500\n",
      "14/14 [==============================] - 1s 105ms/step - loss: 0.7197 - mae: 0.5472 - val_loss: 0.7531 - val_mae: 0.5671\n",
      "Epoch 105/500\n",
      "14/14 [==============================] - 1s 75ms/step - loss: 0.7113 - mae: 0.5646 - val_loss: 0.6670 - val_mae: 0.5251\n",
      "Epoch 106/500\n",
      "14/14 [==============================] - 1s 94ms/step - loss: 0.6950 - mae: 0.5355 - val_loss: 0.6561 - val_mae: 0.5530\n",
      "Epoch 107/500\n",
      "14/14 [==============================] - 1s 74ms/step - loss: 0.6655 - mae: 0.5439 - val_loss: 0.7601 - val_mae: 0.5633\n",
      "Epoch 108/500\n",
      "14/14 [==============================] - 1s 83ms/step - loss: 0.6664 - mae: 0.5250 - val_loss: 0.6217 - val_mae: 0.5329\n",
      "Epoch 109/500\n",
      "14/14 [==============================] - 1s 74ms/step - loss: 0.6200 - mae: 0.5302 - val_loss: 0.6251 - val_mae: 0.5424\n",
      "Epoch 110/500\n",
      "14/14 [==============================] - 1s 90ms/step - loss: 0.6133 - mae: 0.5262 - val_loss: 0.8289 - val_mae: 0.6654\n",
      "Epoch 111/500\n",
      "14/14 [==============================] - 2s 122ms/step - loss: 0.6461 - mae: 0.5619 - val_loss: 0.7152 - val_mae: 0.6010\n",
      "Epoch 112/500\n",
      "14/14 [==============================] - 2s 137ms/step - loss: 0.5900 - mae: 0.5237 - val_loss: 0.5830 - val_mae: 0.5770\n",
      "Epoch 113/500\n",
      "14/14 [==============================] - 2s 129ms/step - loss: 0.6006 - mae: 0.5499 - val_loss: 0.5470 - val_mae: 0.5028\n",
      "Epoch 114/500\n",
      "14/14 [==============================] - 2s 139ms/step - loss: 0.5443 - mae: 0.5025 - val_loss: 0.4873 - val_mae: 0.4769\n",
      "Epoch 115/500\n",
      "14/14 [==============================] - 1s 100ms/step - loss: 0.5639 - mae: 0.5331 - val_loss: 0.7679 - val_mae: 0.5968\n",
      "Epoch 116/500\n",
      "14/14 [==============================] - 2s 121ms/step - loss: 0.6072 - mae: 0.5516 - val_loss: 0.5960 - val_mae: 0.5753\n",
      "Epoch 117/500\n",
      "14/14 [==============================] - 2s 112ms/step - loss: 0.4942 - mae: 0.4737 - val_loss: 0.4492 - val_mae: 0.5026\n",
      "Epoch 118/500\n",
      "14/14 [==============================] - 2s 130ms/step - loss: 0.4511 - mae: 0.4410 - val_loss: 0.4376 - val_mae: 0.4306\n",
      "Epoch 119/500\n",
      "14/14 [==============================] - 2s 132ms/step - loss: 0.4269 - mae: 0.4157 - val_loss: 0.4123 - val_mae: 0.4195\n",
      "Epoch 120/500\n",
      "14/14 [==============================] - 1s 101ms/step - loss: 0.4180 - mae: 0.4367 - val_loss: 0.4227 - val_mae: 0.4170\n",
      "Epoch 121/500\n",
      "14/14 [==============================] - 2s 147ms/step - loss: 0.4418 - mae: 0.4426 - val_loss: 0.4115 - val_mae: 0.4339\n",
      "Epoch 122/500\n",
      "14/14 [==============================] - 1s 97ms/step - loss: 0.4378 - mae: 0.4464 - val_loss: 0.5498 - val_mae: 0.5694\n",
      "Epoch 123/500\n",
      "14/14 [==============================] - 0s 7ms/step - loss: 0.4378 - mae: 0.4617 - val_loss: 0.3705 - val_mae: 0.4030\n",
      "Epoch 124/500\n",
      "14/14 [==============================] - 0s 7ms/step - loss: 0.3857 - mae: 0.4181 - val_loss: 0.4182 - val_mae: 0.4484\n",
      "Epoch 125/500\n",
      "14/14 [==============================] - 0s 10ms/step - loss: 0.3780 - mae: 0.4192 - val_loss: 0.3639 - val_mae: 0.3927\n",
      "Epoch 126/500\n",
      "14/14 [==============================] - 0s 7ms/step - loss: 0.3744 - mae: 0.4118 - val_loss: 0.3910 - val_mae: 0.4890\n",
      "Epoch 127/500\n",
      "14/14 [==============================] - 0s 7ms/step - loss: 0.3981 - mae: 0.4679 - val_loss: 0.2970 - val_mae: 0.3916\n",
      "Epoch 128/500\n",
      "14/14 [==============================] - 0s 7ms/step - loss: 0.3382 - mae: 0.3837 - val_loss: 0.3001 - val_mae: 0.3612\n",
      "Epoch 129/500\n",
      "14/14 [==============================] - 0s 6ms/step - loss: 0.2995 - mae: 0.3522 - val_loss: 0.3025 - val_mae: 0.3815\n",
      "Epoch 130/500\n",
      "14/14 [==============================] - 0s 34ms/step - loss: 0.2889 - mae: 0.3565 - val_loss: 0.2768 - val_mae: 0.3628\n",
      "Epoch 131/500\n",
      "14/14 [==============================] - 1s 82ms/step - loss: 0.2876 - mae: 0.3550 - val_loss: 0.2810 - val_mae: 0.3499\n",
      "Epoch 132/500\n",
      "14/14 [==============================] - 1s 82ms/step - loss: 0.2834 - mae: 0.3548 - val_loss: 0.2915 - val_mae: 0.3779\n",
      "Epoch 133/500\n",
      "14/14 [==============================] - 1s 76ms/step - loss: 0.2737 - mae: 0.3556 - val_loss: 0.2525 - val_mae: 0.3617\n",
      "Epoch 134/500\n",
      "14/14 [==============================] - 2s 152ms/step - loss: 0.2640 - mae: 0.3404 - val_loss: 0.2549 - val_mae: 0.3169\n",
      "Epoch 135/500\n",
      "14/14 [==============================] - 1s 102ms/step - loss: 0.2442 - mae: 0.3262 - val_loss: 0.2432 - val_mae: 0.3399\n",
      "Epoch 136/500\n",
      "14/14 [==============================] - 2s 136ms/step - loss: 0.2644 - mae: 0.3670 - val_loss: 0.2138 - val_mae: 0.3035\n",
      "Epoch 137/500\n",
      "14/14 [==============================] - 2s 116ms/step - loss: 0.2751 - mae: 0.3737 - val_loss: 0.2167 - val_mae: 0.3081\n",
      "Epoch 138/500\n",
      "14/14 [==============================] - 2s 115ms/step - loss: 0.2475 - mae: 0.3414 - val_loss: 0.2259 - val_mae: 0.3584\n",
      "Epoch 139/500\n",
      "14/14 [==============================] - 1s 92ms/step - loss: 0.2235 - mae: 0.3202 - val_loss: 0.2264 - val_mae: 0.2947\n",
      "Epoch 140/500\n",
      "14/14 [==============================] - 2s 153ms/step - loss: 0.2107 - mae: 0.3025 - val_loss: 0.1846 - val_mae: 0.2847\n",
      "Epoch 141/500\n",
      "14/14 [==============================] - 2s 132ms/step - loss: 0.2150 - mae: 0.3068 - val_loss: 0.2254 - val_mae: 0.3057\n",
      "Epoch 142/500\n",
      "14/14 [==============================] - 1s 85ms/step - loss: 0.2318 - mae: 0.3394 - val_loss: 0.2013 - val_mae: 0.3003\n",
      "Epoch 143/500\n",
      "14/14 [==============================] - 1s 110ms/step - loss: 0.2386 - mae: 0.3549 - val_loss: 0.1977 - val_mae: 0.3318\n",
      "Epoch 144/500\n",
      "14/14 [==============================] - 1s 75ms/step - loss: 0.2127 - mae: 0.3276 - val_loss: 0.1851 - val_mae: 0.3306\n",
      "Epoch 145/500\n",
      "14/14 [==============================] - 1s 89ms/step - loss: 0.1936 - mae: 0.3016 - val_loss: 0.1706 - val_mae: 0.2697\n",
      "Epoch 146/500\n",
      "14/14 [==============================] - 1s 74ms/step - loss: 0.1848 - mae: 0.2889 - val_loss: 0.1584 - val_mae: 0.2915\n",
      "Epoch 147/500\n",
      "14/14 [==============================] - 1s 75ms/step - loss: 0.1707 - mae: 0.2755 - val_loss: 0.1501 - val_mae: 0.2602\n",
      "Epoch 148/500\n",
      "14/14 [==============================] - 1s 79ms/step - loss: 0.1714 - mae: 0.2696 - val_loss: 0.1545 - val_mae: 0.2698\n",
      "Epoch 149/500\n",
      "14/14 [==============================] - 1s 83ms/step - loss: 0.1626 - mae: 0.2680 - val_loss: 0.1386 - val_mae: 0.2708\n",
      "Epoch 150/500\n",
      "14/14 [==============================] - 1s 74ms/step - loss: 0.1620 - mae: 0.2728 - val_loss: 0.1429 - val_mae: 0.2528\n",
      "Epoch 151/500\n",
      "14/14 [==============================] - 1s 77ms/step - loss: 0.1749 - mae: 0.2879 - val_loss: 0.1316 - val_mae: 0.2502\n",
      "Epoch 152/500\n",
      "14/14 [==============================] - 1s 81ms/step - loss: 0.1931 - mae: 0.3024 - val_loss: 0.1872 - val_mae: 0.3539\n",
      "Epoch 153/500\n",
      "14/14 [==============================] - 1s 83ms/step - loss: 0.1841 - mae: 0.3195 - val_loss: 0.1928 - val_mae: 0.3633\n",
      "Epoch 154/500\n",
      "14/14 [==============================] - 1s 75ms/step - loss: 0.1721 - mae: 0.3002 - val_loss: 0.1234 - val_mae: 0.2406\n",
      "Epoch 155/500\n",
      "14/14 [==============================] - 1s 86ms/step - loss: 0.1390 - mae: 0.2442 - val_loss: 0.1286 - val_mae: 0.2621\n",
      "Epoch 156/500\n",
      "14/14 [==============================] - 1s 78ms/step - loss: 0.1525 - mae: 0.2775 - val_loss: 0.1356 - val_mae: 0.2933\n",
      "Epoch 157/500\n",
      "14/14 [==============================] - 1s 82ms/step - loss: 0.1420 - mae: 0.2620 - val_loss: 0.1837 - val_mae: 0.3664\n",
      "Epoch 158/500\n",
      "14/14 [==============================] - 1s 88ms/step - loss: 0.1601 - mae: 0.2830 - val_loss: 0.1145 - val_mae: 0.2376\n",
      "Epoch 159/500\n",
      "14/14 [==============================] - 1s 95ms/step - loss: 0.1360 - mae: 0.2529 - val_loss: 0.1152 - val_mae: 0.2462\n",
      "Epoch 160/500\n",
      "14/14 [==============================] - 2s 162ms/step - loss: 0.1233 - mae: 0.2368 - val_loss: 0.1006 - val_mae: 0.2296\n",
      "Epoch 161/500\n",
      "14/14 [==============================] - 3s 184ms/step - loss: 0.1341 - mae: 0.2543 - val_loss: 0.1419 - val_mae: 0.3117\n",
      "Epoch 162/500\n",
      "14/14 [==============================] - 2s 137ms/step - loss: 0.1349 - mae: 0.2559 - val_loss: 0.1087 - val_mae: 0.2410\n",
      "Epoch 163/500\n",
      "14/14 [==============================] - 1s 100ms/step - loss: 0.1150 - mae: 0.2306 - val_loss: 0.1015 - val_mae: 0.2147\n",
      "Epoch 164/500\n",
      "14/14 [==============================] - 2s 121ms/step - loss: 0.1148 - mae: 0.2262 - val_loss: 0.1043 - val_mae: 0.2555\n",
      "Epoch 165/500\n",
      "14/14 [==============================] - 2s 135ms/step - loss: 0.1165 - mae: 0.2339 - val_loss: 0.0821 - val_mae: 0.1999\n",
      "Epoch 166/500\n",
      "14/14 [==============================] - 1s 100ms/step - loss: 0.1076 - mae: 0.2190 - val_loss: 0.0822 - val_mae: 0.2019\n",
      "Epoch 167/500\n",
      "14/14 [==============================] - 1s 71ms/step - loss: 0.1083 - mae: 0.2203 - val_loss: 0.1146 - val_mae: 0.2534\n",
      "Epoch 168/500\n",
      "14/14 [==============================] - 2s 135ms/step - loss: 0.1314 - mae: 0.2583 - val_loss: 0.1163 - val_mae: 0.2410\n",
      "Epoch 169/500\n",
      "14/14 [==============================] - 2s 132ms/step - loss: 0.0991 - mae: 0.2154 - val_loss: 0.0887 - val_mae: 0.2209\n",
      "Epoch 170/500\n",
      "14/14 [==============================] - 2s 142ms/step - loss: 0.1144 - mae: 0.2311 - val_loss: 0.0824 - val_mae: 0.2141\n",
      "Epoch 171/500\n",
      "14/14 [==============================] - 3s 185ms/step - loss: 0.1124 - mae: 0.2300 - val_loss: 0.0930 - val_mae: 0.2404\n",
      "Epoch 172/500\n",
      "14/14 [==============================] - 2s 140ms/step - loss: 0.0956 - mae: 0.2135 - val_loss: 0.0881 - val_mae: 0.2297\n",
      "Epoch 173/500\n",
      "14/14 [==============================] - 1s 97ms/step - loss: 0.1122 - mae: 0.2358 - val_loss: 0.0752 - val_mae: 0.2066\n",
      "Epoch 174/500\n",
      "14/14 [==============================] - 1s 82ms/step - loss: 0.0962 - mae: 0.2148 - val_loss: 0.1100 - val_mae: 0.2813\n",
      "Epoch 175/500\n",
      "14/14 [==============================] - 1s 74ms/step - loss: 0.0964 - mae: 0.2198 - val_loss: 0.0677 - val_mae: 0.1983\n",
      "Epoch 176/500\n",
      "14/14 [==============================] - 1s 83ms/step - loss: 0.0925 - mae: 0.2093 - val_loss: 0.0658 - val_mae: 0.1951\n",
      "Epoch 177/500\n",
      "14/14 [==============================] - 1s 68ms/step - loss: 0.0940 - mae: 0.2143 - val_loss: 0.0770 - val_mae: 0.1990\n",
      "Epoch 178/500\n",
      "14/14 [==============================] - 1s 85ms/step - loss: 0.1123 - mae: 0.2346 - val_loss: 0.1002 - val_mae: 0.2295\n",
      "Epoch 179/500\n",
      "14/14 [==============================] - 1s 82ms/step - loss: 0.1001 - mae: 0.2290 - val_loss: 0.0625 - val_mae: 0.1772\n",
      "Epoch 180/500\n",
      "14/14 [==============================] - 1s 83ms/step - loss: 0.1052 - mae: 0.2267 - val_loss: 0.0607 - val_mae: 0.1736\n",
      "Epoch 181/500\n",
      "14/14 [==============================] - 2s 112ms/step - loss: 0.0884 - mae: 0.2020 - val_loss: 0.0750 - val_mae: 0.2171\n",
      "Epoch 182/500\n",
      "14/14 [==============================] - 2s 135ms/step - loss: 0.0923 - mae: 0.2210 - val_loss: 0.0757 - val_mae: 0.2243\n",
      "Epoch 183/500\n",
      "14/14 [==============================] - 2s 136ms/step - loss: 0.0876 - mae: 0.2095 - val_loss: 0.0667 - val_mae: 0.1910\n",
      "Epoch 184/500\n",
      "14/14 [==============================] - 2s 163ms/step - loss: 0.0813 - mae: 0.1907 - val_loss: 0.0588 - val_mae: 0.1753\n",
      "Epoch 185/500\n",
      "14/14 [==============================] - 2s 134ms/step - loss: 0.0780 - mae: 0.1928 - val_loss: 0.0720 - val_mae: 0.1841\n",
      "Epoch 186/500\n",
      "14/14 [==============================] - 1s 77ms/step - loss: 0.0810 - mae: 0.2019 - val_loss: 0.0581 - val_mae: 0.1725\n",
      "Epoch 187/500\n",
      "14/14 [==============================] - 1s 75ms/step - loss: 0.0758 - mae: 0.1900 - val_loss: 0.0589 - val_mae: 0.1824\n",
      "Epoch 188/500\n",
      "14/14 [==============================] - 1s 80ms/step - loss: 0.0801 - mae: 0.1987 - val_loss: 0.0530 - val_mae: 0.1657\n",
      "Epoch 189/500\n",
      "14/14 [==============================] - 1s 70ms/step - loss: 0.0734 - mae: 0.1824 - val_loss: 0.0444 - val_mae: 0.1487\n",
      "Epoch 190/500\n",
      "14/14 [==============================] - 1s 83ms/step - loss: 0.0767 - mae: 0.1929 - val_loss: 0.0723 - val_mae: 0.1915\n",
      "Epoch 191/500\n",
      "14/14 [==============================] - 1s 86ms/step - loss: 0.0768 - mae: 0.1886 - val_loss: 0.0567 - val_mae: 0.1721\n",
      "Epoch 192/500\n",
      "14/14 [==============================] - 1s 66ms/step - loss: 0.0693 - mae: 0.1785 - val_loss: 0.0410 - val_mae: 0.1486\n",
      "Epoch 193/500\n",
      "14/14 [==============================] - 1s 108ms/step - loss: 0.0711 - mae: 0.1849 - val_loss: 0.0526 - val_mae: 0.1647\n",
      "Epoch 194/500\n",
      "14/14 [==============================] - 1s 81ms/step - loss: 0.0691 - mae: 0.1803 - val_loss: 0.0520 - val_mae: 0.1851\n",
      "Epoch 195/500\n",
      "14/14 [==============================] - 1s 79ms/step - loss: 0.0677 - mae: 0.1760 - val_loss: 0.0433 - val_mae: 0.1552\n",
      "Epoch 196/500\n",
      "14/14 [==============================] - 1s 73ms/step - loss: 0.0644 - mae: 0.1752 - val_loss: 0.0513 - val_mae: 0.1619\n",
      "Epoch 197/500\n",
      "14/14 [==============================] - 1s 76ms/step - loss: 0.0650 - mae: 0.1704 - val_loss: 0.0437 - val_mae: 0.1625\n",
      "Epoch 198/500\n",
      "14/14 [==============================] - 1s 77ms/step - loss: 0.0620 - mae: 0.1663 - val_loss: 0.0460 - val_mae: 0.1614\n",
      "Epoch 199/500\n",
      "14/14 [==============================] - 1s 89ms/step - loss: 0.0683 - mae: 0.1817 - val_loss: 0.0397 - val_mae: 0.1428\n",
      "Epoch 200/500\n",
      "14/14 [==============================] - 1s 90ms/step - loss: 0.0599 - mae: 0.1652 - val_loss: 0.0389 - val_mae: 0.1546\n",
      "Epoch 201/500\n",
      "14/14 [==============================] - 2s 117ms/step - loss: 0.0595 - mae: 0.1676 - val_loss: 0.0454 - val_mae: 0.1661\n",
      "Epoch 202/500\n",
      "14/14 [==============================] - 2s 119ms/step - loss: 0.0638 - mae: 0.1856 - val_loss: 0.0370 - val_mae: 0.1460\n",
      "Epoch 203/500\n",
      "14/14 [==============================] - 1s 79ms/step - loss: 0.0561 - mae: 0.1614 - val_loss: 0.0488 - val_mae: 0.1624\n",
      "Epoch 204/500\n",
      "14/14 [==============================] - 1s 75ms/step - loss: 0.0568 - mae: 0.1581 - val_loss: 0.0360 - val_mae: 0.1390\n",
      "Epoch 205/500\n",
      "14/14 [==============================] - 1s 76ms/step - loss: 0.0603 - mae: 0.1691 - val_loss: 0.0379 - val_mae: 0.1384\n",
      "Epoch 206/500\n",
      "14/14 [==============================] - 1s 82ms/step - loss: 0.0604 - mae: 0.1692 - val_loss: 0.0392 - val_mae: 0.1549\n",
      "Epoch 207/500\n",
      "14/14 [==============================] - 1s 71ms/step - loss: 0.0611 - mae: 0.1753 - val_loss: 0.0638 - val_mae: 0.1931\n",
      "Epoch 208/500\n",
      "14/14 [==============================] - 1s 73ms/step - loss: 0.0671 - mae: 0.1836 - val_loss: 0.0294 - val_mae: 0.1303\n",
      "Epoch 209/500\n",
      "14/14 [==============================] - 1s 71ms/step - loss: 0.0680 - mae: 0.1927 - val_loss: 0.0620 - val_mae: 0.2026\n",
      "Epoch 210/500\n",
      "14/14 [==============================] - 1s 90ms/step - loss: 0.0651 - mae: 0.1904 - val_loss: 0.0456 - val_mae: 0.1804\n",
      "Epoch 211/500\n",
      "14/14 [==============================] - 1s 102ms/step - loss: 0.0557 - mae: 0.1649 - val_loss: 0.0344 - val_mae: 0.1428\n",
      "Epoch 212/500\n",
      "14/14 [==============================] - 1s 75ms/step - loss: 0.0527 - mae: 0.1610 - val_loss: 0.0304 - val_mae: 0.1275\n",
      "Epoch 213/500\n",
      "14/14 [==============================] - 1s 88ms/step - loss: 0.0573 - mae: 0.1680 - val_loss: 0.0259 - val_mae: 0.1175\n",
      "Epoch 214/500\n",
      "14/14 [==============================] - 1s 103ms/step - loss: 0.0544 - mae: 0.1626 - val_loss: 0.0380 - val_mae: 0.1578\n",
      "Epoch 215/500\n",
      "14/14 [==============================] - 1s 85ms/step - loss: 0.0486 - mae: 0.1504 - val_loss: 0.0638 - val_mae: 0.2251\n",
      "Epoch 216/500\n",
      "14/14 [==============================] - 1s 75ms/step - loss: 0.0590 - mae: 0.1738 - val_loss: 0.0371 - val_mae: 0.1442\n",
      "Epoch 217/500\n",
      "14/14 [==============================] - 1s 78ms/step - loss: 0.0475 - mae: 0.1464 - val_loss: 0.0344 - val_mae: 0.1442\n",
      "Epoch 218/500\n",
      "14/14 [==============================] - 1s 81ms/step - loss: 0.0587 - mae: 0.1738 - val_loss: 0.0309 - val_mae: 0.1260\n",
      "Epoch 219/500\n",
      "14/14 [==============================] - 1s 97ms/step - loss: 0.0494 - mae: 0.1532 - val_loss: 0.0293 - val_mae: 0.1294\n",
      "Epoch 220/500\n",
      "14/14 [==============================] - 1s 73ms/step - loss: 0.0456 - mae: 0.1444 - val_loss: 0.0331 - val_mae: 0.1317\n",
      "Epoch 221/500\n",
      "14/14 [==============================] - 1s 81ms/step - loss: 0.0481 - mae: 0.1492 - val_loss: 0.0300 - val_mae: 0.1243\n",
      "Epoch 222/500\n",
      "14/14 [==============================] - 1s 78ms/step - loss: 0.0518 - mae: 0.1583 - val_loss: 0.0282 - val_mae: 0.1327\n",
      "Epoch 223/500\n",
      "14/14 [==============================] - 2s 123ms/step - loss: 0.0476 - mae: 0.1532 - val_loss: 0.0395 - val_mae: 0.1647\n",
      "Epoch 224/500\n",
      "14/14 [==============================] - 2s 124ms/step - loss: 0.0464 - mae: 0.1518 - val_loss: 0.0213 - val_mae: 0.1125\n",
      "Epoch 225/500\n",
      "14/14 [==============================] - 1s 77ms/step - loss: 0.0437 - mae: 0.1472 - val_loss: 0.0406 - val_mae: 0.1626\n",
      "Epoch 226/500\n",
      "14/14 [==============================] - 1s 84ms/step - loss: 0.0500 - mae: 0.1581 - val_loss: 0.0380 - val_mae: 0.1416\n",
      "Epoch 227/500\n",
      "14/14 [==============================] - 1s 80ms/step - loss: 0.0497 - mae: 0.1526 - val_loss: 0.0582 - val_mae: 0.2040\n",
      "Epoch 228/500\n",
      "14/14 [==============================] - 1s 83ms/step - loss: 0.0489 - mae: 0.1586 - val_loss: 0.0273 - val_mae: 0.1220\n",
      "Epoch 229/500\n",
      "14/14 [==============================] - 1s 80ms/step - loss: 0.0463 - mae: 0.1529 - val_loss: 0.0199 - val_mae: 0.1076\n",
      "Epoch 230/500\n",
      "14/14 [==============================] - 1s 88ms/step - loss: 0.0432 - mae: 0.1453 - val_loss: 0.0313 - val_mae: 0.1352\n",
      "Epoch 231/500\n",
      "14/14 [==============================] - 1s 75ms/step - loss: 0.0449 - mae: 0.1463 - val_loss: 0.0307 - val_mae: 0.1285\n",
      "Epoch 232/500\n",
      "14/14 [==============================] - 2s 124ms/step - loss: 0.0530 - mae: 0.1716 - val_loss: 0.0464 - val_mae: 0.1740\n",
      "Epoch 233/500\n",
      "14/14 [==============================] - 2s 127ms/step - loss: 0.0609 - mae: 0.1875 - val_loss: 0.1118 - val_mae: 0.2924\n",
      "Epoch 234/500\n",
      "14/14 [==============================] - 2s 111ms/step - loss: 0.0663 - mae: 0.1955 - val_loss: 0.0211 - val_mae: 0.1144\n",
      "Epoch 235/500\n",
      "14/14 [==============================] - 2s 155ms/step - loss: 0.0458 - mae: 0.1476 - val_loss: 0.0236 - val_mae: 0.1176\n",
      "Epoch 236/500\n",
      "14/14 [==============================] - 2s 175ms/step - loss: 0.0562 - mae: 0.1663 - val_loss: 0.0238 - val_mae: 0.1257\n",
      "Epoch 237/500\n",
      "14/14 [==============================] - 2s 129ms/step - loss: 0.0448 - mae: 0.1424 - val_loss: 0.0212 - val_mae: 0.1142\n",
      "Epoch 238/500\n",
      "14/14 [==============================] - 2s 114ms/step - loss: 0.0392 - mae: 0.1287 - val_loss: 0.0213 - val_mae: 0.1145\n",
      "Epoch 239/500\n",
      "14/14 [==============================] - 2s 143ms/step - loss: 0.0370 - mae: 0.1306 - val_loss: 0.0233 - val_mae: 0.1128\n",
      "Epoch 240/500\n",
      "14/14 [==============================] - 1s 78ms/step - loss: 0.0379 - mae: 0.1309 - val_loss: 0.0184 - val_mae: 0.1055\n",
      "Epoch 241/500\n",
      "14/14 [==============================] - 2s 120ms/step - loss: 0.0369 - mae: 0.1294 - val_loss: 0.0307 - val_mae: 0.1235\n",
      "Epoch 242/500\n",
      "14/14 [==============================] - 2s 120ms/step - loss: 0.0416 - mae: 0.1391 - val_loss: 0.0172 - val_mae: 0.1009\n",
      "Epoch 243/500\n",
      "14/14 [==============================] - 2s 121ms/step - loss: 0.0535 - mae: 0.1718 - val_loss: 0.0349 - val_mae: 0.1590\n",
      "Epoch 244/500\n",
      "14/14 [==============================] - 1s 73ms/step - loss: 0.0444 - mae: 0.1532 - val_loss: 0.0219 - val_mae: 0.1192\n",
      "Epoch 245/500\n",
      "14/14 [==============================] - 1s 83ms/step - loss: 0.0470 - mae: 0.1500 - val_loss: 0.0439 - val_mae: 0.1747\n",
      "Epoch 246/500\n",
      "14/14 [==============================] - 1s 91ms/step - loss: 0.0474 - mae: 0.1501 - val_loss: 0.0534 - val_mae: 0.1697\n",
      "Epoch 247/500\n",
      "14/14 [==============================] - 1s 87ms/step - loss: 0.0471 - mae: 0.1442 - val_loss: 0.0326 - val_mae: 0.1519\n",
      "Epoch 248/500\n",
      "14/14 [==============================] - 1s 82ms/step - loss: 0.0601 - mae: 0.1838 - val_loss: 0.0506 - val_mae: 0.2033\n",
      "Epoch 249/500\n",
      "14/14 [==============================] - 1s 83ms/step - loss: 0.0455 - mae: 0.1501 - val_loss: 0.0300 - val_mae: 0.1311\n",
      "Epoch 250/500\n",
      "14/14 [==============================] - 1s 76ms/step - loss: 0.0384 - mae: 0.1336 - val_loss: 0.0218 - val_mae: 0.1092\n",
      "Epoch 251/500\n",
      "14/14 [==============================] - 1s 71ms/step - loss: 0.0358 - mae: 0.1283 - val_loss: 0.0240 - val_mae: 0.1317\n",
      "Epoch 252/500\n",
      "14/14 [==============================] - 1s 79ms/step - loss: 0.0479 - mae: 0.1569 - val_loss: 0.0237 - val_mae: 0.1241\n",
      "Epoch 253/500\n",
      "14/14 [==============================] - 1s 87ms/step - loss: 0.0380 - mae: 0.1385 - val_loss: 0.0177 - val_mae: 0.0985\n",
      "Epoch 254/500\n",
      "14/14 [==============================] - 1s 86ms/step - loss: 0.0348 - mae: 0.1218 - val_loss: 0.0186 - val_mae: 0.1004\n",
      "Epoch 255/500\n",
      "14/14 [==============================] - 2s 120ms/step - loss: 0.0380 - mae: 0.1376 - val_loss: 0.0396 - val_mae: 0.1607\n",
      "Epoch 256/500\n",
      "14/14 [==============================] - 1s 88ms/step - loss: 0.0443 - mae: 0.1531 - val_loss: 0.0319 - val_mae: 0.1469\n",
      "Epoch 257/500\n",
      "14/14 [==============================] - 1s 106ms/step - loss: 0.0356 - mae: 0.1311 - val_loss: 0.0153 - val_mae: 0.0909\n",
      "Epoch 258/500\n",
      "14/14 [==============================] - 1s 72ms/step - loss: 0.0333 - mae: 0.1224 - val_loss: 0.0181 - val_mae: 0.1070\n",
      "Epoch 259/500\n",
      "14/14 [==============================] - 1s 78ms/step - loss: 0.0386 - mae: 0.1366 - val_loss: 0.0225 - val_mae: 0.1178\n",
      "Epoch 260/500\n",
      "14/14 [==============================] - 1s 86ms/step - loss: 0.0397 - mae: 0.1363 - val_loss: 0.0390 - val_mae: 0.1616\n",
      "Epoch 261/500\n",
      "14/14 [==============================] - 1s 87ms/step - loss: 0.0358 - mae: 0.1339 - val_loss: 0.0181 - val_mae: 0.0964\n",
      "Epoch 262/500\n",
      "14/14 [==============================] - 1s 109ms/step - loss: 0.0385 - mae: 0.1371 - val_loss: 0.0150 - val_mae: 0.0947\n",
      "Epoch 263/500\n",
      "14/14 [==============================] - 1s 87ms/step - loss: 0.0355 - mae: 0.1324 - val_loss: 0.0347 - val_mae: 0.1384\n",
      "Epoch 264/500\n",
      "14/14 [==============================] - 1s 79ms/step - loss: 0.0369 - mae: 0.1333 - val_loss: 0.0232 - val_mae: 0.1201\n",
      "Epoch 265/500\n",
      "14/14 [==============================] - 1s 88ms/step - loss: 0.0368 - mae: 0.1308 - val_loss: 0.0289 - val_mae: 0.1326\n",
      "Epoch 266/500\n",
      "14/14 [==============================] - 2s 120ms/step - loss: 0.0401 - mae: 0.1361 - val_loss: 0.0564 - val_mae: 0.2078\n",
      "Epoch 267/500\n",
      "14/14 [==============================] - 1s 96ms/step - loss: 0.0438 - mae: 0.1602 - val_loss: 0.0302 - val_mae: 0.1425\n",
      "Epoch 268/500\n",
      "14/14 [==============================] - 2s 116ms/step - loss: 0.0365 - mae: 0.1348 - val_loss: 0.0153 - val_mae: 0.1050\n",
      "Epoch 269/500\n",
      "14/14 [==============================] - 2s 109ms/step - loss: 0.0332 - mae: 0.1304 - val_loss: 0.0258 - val_mae: 0.1277\n",
      "Epoch 270/500\n",
      "14/14 [==============================] - 2s 129ms/step - loss: 0.0306 - mae: 0.1188 - val_loss: 0.0331 - val_mae: 0.1449\n",
      "Epoch 271/500\n",
      "14/14 [==============================] - 1s 98ms/step - loss: 0.0299 - mae: 0.1120 - val_loss: 0.0125 - val_mae: 0.0872\n",
      "Epoch 272/500\n",
      "14/14 [==============================] - 2s 127ms/step - loss: 0.0439 - mae: 0.1475 - val_loss: 0.0375 - val_mae: 0.1456\n",
      "Epoch 273/500\n",
      "14/14 [==============================] - 2s 120ms/step - loss: 0.0363 - mae: 0.1237 - val_loss: 0.0206 - val_mae: 0.1032\n",
      "Epoch 274/500\n",
      "14/14 [==============================] - 2s 128ms/step - loss: 0.0320 - mae: 0.1213 - val_loss: 0.0333 - val_mae: 0.1604\n",
      "Epoch 275/500\n",
      "14/14 [==============================] - 2s 151ms/step - loss: 0.0382 - mae: 0.1454 - val_loss: 0.0185 - val_mae: 0.1023\n",
      "Epoch 276/500\n",
      "14/14 [==============================] - 0s 8ms/step - loss: 0.0387 - mae: 0.1474 - val_loss: 0.0459 - val_mae: 0.1915\n",
      "Epoch 277/500\n",
      "14/14 [==============================] - 0s 17ms/step - loss: 0.0453 - mae: 0.1597 - val_loss: 0.0530 - val_mae: 0.2097\n",
      "Epoch 278/500\n",
      "14/14 [==============================] - 0s 7ms/step - loss: 0.0475 - mae: 0.1581 - val_loss: 0.0206 - val_mae: 0.1059\n",
      "Epoch 279/500\n",
      "14/14 [==============================] - 0s 7ms/step - loss: 0.0351 - mae: 0.1215 - val_loss: 0.0200 - val_mae: 0.1172\n",
      "Epoch 280/500\n",
      "14/14 [==============================] - 0s 8ms/step - loss: 0.0311 - mae: 0.1195 - val_loss: 0.0266 - val_mae: 0.1188\n",
      "Epoch 281/500\n",
      "14/14 [==============================] - 1s 44ms/step - loss: 0.0316 - mae: 0.1212 - val_loss: 0.0260 - val_mae: 0.1254\n",
      "Epoch 282/500\n",
      "14/14 [==============================] - 1s 55ms/step - loss: 0.0361 - mae: 0.1356 - val_loss: 0.0371 - val_mae: 0.1680\n",
      "Epoch 283/500\n",
      "14/14 [==============================] - 1s 51ms/step - loss: 0.0463 - mae: 0.1527 - val_loss: 0.0124 - val_mae: 0.0842\n",
      "Epoch 284/500\n",
      "14/14 [==============================] - 1s 82ms/step - loss: 0.0263 - mae: 0.1110 - val_loss: 0.0246 - val_mae: 0.1285\n",
      "Epoch 285/500\n",
      "14/14 [==============================] - 2s 175ms/step - loss: 0.0298 - mae: 0.1227 - val_loss: 0.0248 - val_mae: 0.1257\n",
      "Epoch 286/500\n",
      "14/14 [==============================] - 3s 204ms/step - loss: 0.0398 - mae: 0.1458 - val_loss: 0.0700 - val_mae: 0.2479\n",
      "Epoch 287/500\n",
      "14/14 [==============================] - 2s 174ms/step - loss: 0.0480 - mae: 0.1704 - val_loss: 0.0194 - val_mae: 0.1189\n",
      "Epoch 288/500\n",
      "14/14 [==============================] - 2s 149ms/step - loss: 0.0235 - mae: 0.1010 - val_loss: 0.0127 - val_mae: 0.0828\n",
      "Epoch 289/500\n",
      "14/14 [==============================] - 3s 188ms/step - loss: 0.0234 - mae: 0.0964 - val_loss: 0.0135 - val_mae: 0.0902\n",
      "Epoch 290/500\n",
      "14/14 [==============================] - 2s 179ms/step - loss: 0.0280 - mae: 0.1167 - val_loss: 0.0163 - val_mae: 0.1096\n",
      "Epoch 291/500\n",
      "14/14 [==============================] - 2s 148ms/step - loss: 0.0257 - mae: 0.1104 - val_loss: 0.0152 - val_mae: 0.0917\n",
      "Epoch 292/500\n",
      "14/14 [==============================] - 2s 157ms/step - loss: 0.0248 - mae: 0.1093 - val_loss: 0.0117 - val_mae: 0.0768\n",
      "Epoch 293/500\n",
      "14/14 [==============================] - 2s 169ms/step - loss: 0.0255 - mae: 0.1050 - val_loss: 0.0391 - val_mae: 0.1817\n",
      "Epoch 294/500\n",
      "14/14 [==============================] - 2s 116ms/step - loss: 0.0245 - mae: 0.1021 - val_loss: 0.0108 - val_mae: 0.0768\n",
      "Epoch 295/500\n",
      "14/14 [==============================] - 2s 116ms/step - loss: 0.0256 - mae: 0.1121 - val_loss: 0.0143 - val_mae: 0.1004\n",
      "Epoch 296/500\n",
      "14/14 [==============================] - 1s 93ms/step - loss: 0.0232 - mae: 0.0979 - val_loss: 0.0219 - val_mae: 0.1186\n",
      "Epoch 297/500\n",
      "14/14 [==============================] - 1s 79ms/step - loss: 0.0262 - mae: 0.1096 - val_loss: 0.0095 - val_mae: 0.0705\n",
      "Epoch 298/500\n",
      "14/14 [==============================] - 1s 75ms/step - loss: 0.0228 - mae: 0.0972 - val_loss: 0.0136 - val_mae: 0.0914\n",
      "Epoch 299/500\n",
      "14/14 [==============================] - 1s 88ms/step - loss: 0.0219 - mae: 0.0990 - val_loss: 0.0203 - val_mae: 0.1180\n",
      "Epoch 300/500\n",
      "14/14 [==============================] - 1s 80ms/step - loss: 0.0269 - mae: 0.1163 - val_loss: 0.0518 - val_mae: 0.2006\n",
      "Epoch 301/500\n",
      "14/14 [==============================] - 1s 82ms/step - loss: 0.0321 - mae: 0.1252 - val_loss: 0.0185 - val_mae: 0.1024\n",
      "Epoch 302/500\n",
      "14/14 [==============================] - 1s 91ms/step - loss: 0.0376 - mae: 0.1468 - val_loss: 0.0286 - val_mae: 0.1429\n",
      "Epoch 303/500\n",
      "14/14 [==============================] - 1s 80ms/step - loss: 0.0411 - mae: 0.1609 - val_loss: 0.0415 - val_mae: 0.1780\n",
      "Epoch 304/500\n",
      "14/14 [==============================] - 1s 90ms/step - loss: 0.0377 - mae: 0.1536 - val_loss: 0.0122 - val_mae: 0.0928\n",
      "Epoch 305/500\n",
      "14/14 [==============================] - 1s 79ms/step - loss: 0.0207 - mae: 0.0954 - val_loss: 0.0119 - val_mae: 0.0803\n",
      "Epoch 306/500\n",
      "14/14 [==============================] - 1s 82ms/step - loss: 0.0223 - mae: 0.1008 - val_loss: 0.0118 - val_mae: 0.0775\n",
      "Epoch 307/500\n",
      "14/14 [==============================] - 1s 83ms/step - loss: 0.0272 - mae: 0.1212 - val_loss: 0.0194 - val_mae: 0.1142\n",
      "Epoch 308/500\n",
      "14/14 [==============================] - 1s 110ms/step - loss: 0.0316 - mae: 0.1304 - val_loss: 0.0431 - val_mae: 0.1826\n",
      "Epoch 309/500\n",
      "14/14 [==============================] - 2s 112ms/step - loss: 0.0415 - mae: 0.1538 - val_loss: 0.0581 - val_mae: 0.2299\n",
      "Epoch 310/500\n",
      "14/14 [==============================] - 1s 103ms/step - loss: 0.0364 - mae: 0.1433 - val_loss: 0.0167 - val_mae: 0.0900\n",
      "Epoch 311/500\n",
      "14/14 [==============================] - 0s 21ms/step - loss: 0.0232 - mae: 0.0975 - val_loss: 0.0106 - val_mae: 0.0770\n",
      "Epoch 312/500\n",
      "14/14 [==============================] - 0s 9ms/step - loss: 0.0194 - mae: 0.0893 - val_loss: 0.0094 - val_mae: 0.0714\n",
      "Epoch 313/500\n",
      "14/14 [==============================] - 1s 70ms/step - loss: 0.0211 - mae: 0.0935 - val_loss: 0.0166 - val_mae: 0.0819\n",
      "Epoch 314/500\n",
      "14/14 [==============================] - 1s 87ms/step - loss: 0.0255 - mae: 0.1151 - val_loss: 0.0143 - val_mae: 0.0962\n",
      "Epoch 315/500\n",
      "14/14 [==============================] - 2s 120ms/step - loss: 0.0291 - mae: 0.1251 - val_loss: 0.0173 - val_mae: 0.0927\n",
      "Epoch 316/500\n",
      "14/14 [==============================] - 2s 115ms/step - loss: 0.0195 - mae: 0.0862 - val_loss: 0.0069 - val_mae: 0.0604\n",
      "Epoch 317/500\n",
      "14/14 [==============================] - 2s 112ms/step - loss: 0.0190 - mae: 0.0901 - val_loss: 0.0147 - val_mae: 0.0851\n",
      "Epoch 318/500\n",
      "14/14 [==============================] - 2s 133ms/step - loss: 0.0223 - mae: 0.0975 - val_loss: 0.0184 - val_mae: 0.0909\n",
      "Epoch 319/500\n",
      "14/14 [==============================] - 2s 132ms/step - loss: 0.0231 - mae: 0.1073 - val_loss: 0.0077 - val_mae: 0.0591\n",
      "Epoch 320/500\n",
      "14/14 [==============================] - 2s 118ms/step - loss: 0.0312 - mae: 0.1284 - val_loss: 0.0653 - val_mae: 0.2180\n",
      "Epoch 321/500\n",
      "14/14 [==============================] - 2s 121ms/step - loss: 0.0315 - mae: 0.1244 - val_loss: 0.0276 - val_mae: 0.1400\n",
      "Epoch 322/500\n",
      "14/14 [==============================] - 2s 141ms/step - loss: 0.0215 - mae: 0.0999 - val_loss: 0.0152 - val_mae: 0.0861\n",
      "Epoch 323/500\n",
      "14/14 [==============================] - 2s 128ms/step - loss: 0.0259 - mae: 0.1123 - val_loss: 0.0148 - val_mae: 0.1075\n",
      "Epoch 324/500\n",
      "14/14 [==============================] - 2s 119ms/step - loss: 0.0203 - mae: 0.0969 - val_loss: 0.0074 - val_mae: 0.0648\n",
      "Epoch 325/500\n",
      "14/14 [==============================] - 2s 140ms/step - loss: 0.0180 - mae: 0.0915 - val_loss: 0.0119 - val_mae: 0.0732\n",
      "Epoch 326/500\n",
      "14/14 [==============================] - 2s 128ms/step - loss: 0.0201 - mae: 0.0952 - val_loss: 0.0077 - val_mae: 0.0602\n",
      "Epoch 327/500\n",
      "14/14 [==============================] - 2s 109ms/step - loss: 0.0245 - mae: 0.1102 - val_loss: 0.0063 - val_mae: 0.0560\n",
      "Epoch 328/500\n",
      "14/14 [==============================] - 1s 82ms/step - loss: 0.0197 - mae: 0.0958 - val_loss: 0.0068 - val_mae: 0.0594\n",
      "Epoch 329/500\n",
      "14/14 [==============================] - 1s 77ms/step - loss: 0.0189 - mae: 0.0939 - val_loss: 0.0197 - val_mae: 0.1161\n",
      "Epoch 330/500\n",
      "14/14 [==============================] - 1s 76ms/step - loss: 0.0214 - mae: 0.0988 - val_loss: 0.0337 - val_mae: 0.1714\n",
      "Epoch 331/500\n",
      "14/14 [==============================] - 1s 73ms/step - loss: 0.0265 - mae: 0.1158 - val_loss: 0.0294 - val_mae: 0.1579\n",
      "Epoch 332/500\n",
      "14/14 [==============================] - 1s 88ms/step - loss: 0.0225 - mae: 0.1056 - val_loss: 0.0116 - val_mae: 0.0828\n",
      "Epoch 333/500\n",
      "14/14 [==============================] - 2s 112ms/step - loss: 0.0184 - mae: 0.0852 - val_loss: 0.0065 - val_mae: 0.0549\n",
      "Epoch 334/500\n",
      "14/14 [==============================] - 1s 92ms/step - loss: 0.0164 - mae: 0.0766 - val_loss: 0.0064 - val_mae: 0.0583\n",
      "Epoch 335/500\n",
      "14/14 [==============================] - 1s 78ms/step - loss: 0.0186 - mae: 0.0918 - val_loss: 0.0214 - val_mae: 0.1114\n",
      "Epoch 336/500\n",
      "14/14 [==============================] - 2s 120ms/step - loss: 0.0293 - mae: 0.1270 - val_loss: 0.0201 - val_mae: 0.1104\n",
      "Epoch 337/500\n",
      "14/14 [==============================] - 1s 96ms/step - loss: 0.0281 - mae: 0.1255 - val_loss: 0.0205 - val_mae: 0.1073\n",
      "Epoch 338/500\n",
      "14/14 [==============================] - 2s 141ms/step - loss: 0.0219 - mae: 0.0987 - val_loss: 0.0091 - val_mae: 0.0723\n",
      "Epoch 339/500\n",
      "14/14 [==============================] - 2s 112ms/step - loss: 0.0162 - mae: 0.0831 - val_loss: 0.0058 - val_mae: 0.0547\n",
      "Epoch 340/500\n",
      "14/14 [==============================] - 2s 111ms/step - loss: 0.0165 - mae: 0.0822 - val_loss: 0.0079 - val_mae: 0.0644\n",
      "Epoch 341/500\n",
      "14/14 [==============================] - 2s 125ms/step - loss: 0.0157 - mae: 0.0823 - val_loss: 0.0132 - val_mae: 0.0960\n",
      "Epoch 342/500\n",
      "14/14 [==============================] - 1s 93ms/step - loss: 0.0211 - mae: 0.1026 - val_loss: 0.0068 - val_mae: 0.0631\n",
      "Epoch 343/500\n",
      "14/14 [==============================] - 1s 76ms/step - loss: 0.0202 - mae: 0.0881 - val_loss: 0.0083 - val_mae: 0.0669\n",
      "Epoch 344/500\n",
      "14/14 [==============================] - 1s 85ms/step - loss: 0.0178 - mae: 0.0835 - val_loss: 0.0638 - val_mae: 0.2294\n",
      "Epoch 345/500\n",
      "14/14 [==============================] - 1s 82ms/step - loss: 0.0336 - mae: 0.1433 - val_loss: 0.0092 - val_mae: 0.0729\n",
      "Epoch 346/500\n",
      "14/14 [==============================] - 1s 81ms/step - loss: 0.0221 - mae: 0.1068 - val_loss: 0.0104 - val_mae: 0.0768\n",
      "Epoch 347/500\n",
      "14/14 [==============================] - 1s 78ms/step - loss: 0.0169 - mae: 0.0863 - val_loss: 0.0157 - val_mae: 0.1085\n",
      "Epoch 348/500\n",
      "14/14 [==============================] - 1s 85ms/step - loss: 0.0183 - mae: 0.0899 - val_loss: 0.0197 - val_mae: 0.1105\n",
      "Epoch 349/500\n",
      "14/14 [==============================] - 1s 98ms/step - loss: 0.0226 - mae: 0.1106 - val_loss: 0.0344 - val_mae: 0.1590\n",
      "Epoch 350/500\n",
      "14/14 [==============================] - 1s 98ms/step - loss: 0.0260 - mae: 0.1136 - val_loss: 0.0063 - val_mae: 0.0620\n",
      "Epoch 351/500\n",
      "14/14 [==============================] - 1s 73ms/step - loss: 0.0228 - mae: 0.1105 - val_loss: 0.0063 - val_mae: 0.0586\n",
      "Epoch 352/500\n",
      "14/14 [==============================] - 1s 69ms/step - loss: 0.0136 - mae: 0.0725 - val_loss: 0.0072 - val_mae: 0.0628\n",
      "Epoch 353/500\n",
      "14/14 [==============================] - 1s 79ms/step - loss: 0.0136 - mae: 0.0750 - val_loss: 0.0070 - val_mae: 0.0599\n",
      "Epoch 354/500\n",
      "14/14 [==============================] - 1s 80ms/step - loss: 0.0181 - mae: 0.0936 - val_loss: 0.0273 - val_mae: 0.1427\n",
      "Epoch 355/500\n",
      "14/14 [==============================] - 2s 119ms/step - loss: 0.0326 - mae: 0.1436 - val_loss: 0.0581 - val_mae: 0.2124\n",
      "Epoch 356/500\n",
      "14/14 [==============================] - 0s 7ms/step - loss: 0.0949 - mae: 0.2611 - val_loss: 0.0206 - val_mae: 0.1229\n",
      "Epoch 357/500\n",
      "14/14 [==============================] - 0s 7ms/step - loss: 0.0348 - mae: 0.1436 - val_loss: 0.0191 - val_mae: 0.1212\n",
      "Epoch 358/500\n",
      "14/14 [==============================] - 0s 7ms/step - loss: 0.0178 - mae: 0.0873 - val_loss: 0.0104 - val_mae: 0.0822\n",
      "Epoch 359/500\n",
      "14/14 [==============================] - 0s 11ms/step - loss: 0.0211 - mae: 0.1021 - val_loss: 0.0143 - val_mae: 0.0888\n",
      "Epoch 360/500\n",
      "14/14 [==============================] - 0s 7ms/step - loss: 0.0167 - mae: 0.0831 - val_loss: 0.0122 - val_mae: 0.0923\n",
      "Epoch 361/500\n",
      "14/14 [==============================] - 0s 7ms/step - loss: 0.0199 - mae: 0.1003 - val_loss: 0.0072 - val_mae: 0.0668\n",
      "Epoch 362/500\n",
      "14/14 [==============================] - 0s 7ms/step - loss: 0.0249 - mae: 0.1067 - val_loss: 0.0140 - val_mae: 0.0892\n",
      "Epoch 363/500\n",
      "14/14 [==============================] - 0s 7ms/step - loss: 0.0250 - mae: 0.1104 - val_loss: 0.0417 - val_mae: 0.1729\n",
      "Epoch 364/500\n",
      "14/14 [==============================] - 1s 45ms/step - loss: 0.0606 - mae: 0.2015 - val_loss: 0.0340 - val_mae: 0.1698\n",
      "Epoch 365/500\n",
      "14/14 [==============================] - 1s 47ms/step - loss: 0.0429 - mae: 0.1606 - val_loss: 0.0084 - val_mae: 0.0739\n",
      "Epoch 366/500\n",
      "14/14 [==============================] - 1s 53ms/step - loss: 0.0412 - mae: 0.1549 - val_loss: 0.0394 - val_mae: 0.1634\n",
      "Epoch 367/500\n",
      "14/14 [==============================] - 1s 49ms/step - loss: 0.0297 - mae: 0.1315 - val_loss: 0.0204 - val_mae: 0.1025\n",
      "Epoch 368/500\n",
      "14/14 [==============================] - 1s 64ms/step - loss: 0.0371 - mae: 0.1467 - val_loss: 0.0220 - val_mae: 0.1222\n",
      "Epoch 369/500\n",
      "14/14 [==============================] - 1s 61ms/step - loss: 0.0272 - mae: 0.1142 - val_loss: 0.0114 - val_mae: 0.0746\n",
      "Epoch 370/500\n",
      "14/14 [==============================] - 0s 33ms/step - loss: 0.0189 - mae: 0.0932 - val_loss: 0.0077 - val_mae: 0.0685\n",
      "Epoch 371/500\n",
      "14/14 [==============================] - 0s 7ms/step - loss: 0.0227 - mae: 0.1166 - val_loss: 0.0168 - val_mae: 0.0989\n",
      "Epoch 372/500\n",
      "14/14 [==============================] - 0s 6ms/step - loss: 0.0233 - mae: 0.1107 - val_loss: 0.0294 - val_mae: 0.1416\n",
      "Epoch 373/500\n",
      "14/14 [==============================] - 0s 6ms/step - loss: 0.0181 - mae: 0.0944 - val_loss: 0.0140 - val_mae: 0.1016\n",
      "Epoch 374/500\n",
      "14/14 [==============================] - 0s 8ms/step - loss: 0.0148 - mae: 0.0809 - val_loss: 0.0064 - val_mae: 0.0611\n",
      "Epoch 375/500\n",
      "14/14 [==============================] - 0s 11ms/step - loss: 0.0145 - mae: 0.0805 - val_loss: 0.0098 - val_mae: 0.0704\n",
      "Epoch 376/500\n",
      "14/14 [==============================] - 0s 10ms/step - loss: 0.0158 - mae: 0.0831 - val_loss: 0.0294 - val_mae: 0.1484\n",
      "Epoch 377/500\n",
      "14/14 [==============================] - 0s 7ms/step - loss: 0.0382 - mae: 0.1588 - val_loss: 0.0483 - val_mae: 0.1971\n",
      "Epoch 378/500\n",
      "14/14 [==============================] - 1s 60ms/step - loss: 0.0331 - mae: 0.1459 - val_loss: 0.1014 - val_mae: 0.2944\n",
      "Epoch 379/500\n",
      "14/14 [==============================] - 1s 82ms/step - loss: 0.0797 - mae: 0.2347 - val_loss: 0.1274 - val_mae: 0.3216\n",
      "Epoch 380/500\n",
      "14/14 [==============================] - 1s 82ms/step - loss: 0.0335 - mae: 0.1383 - val_loss: 0.0101 - val_mae: 0.0831\n",
      "Epoch 381/500\n",
      "14/14 [==============================] - 1s 98ms/step - loss: 0.0159 - mae: 0.0889 - val_loss: 0.0112 - val_mae: 0.0669\n",
      "Epoch 382/500\n",
      "14/14 [==============================] - 1s 81ms/step - loss: 0.0163 - mae: 0.0897 - val_loss: 0.0187 - val_mae: 0.1091\n",
      "Epoch 383/500\n",
      "14/14 [==============================] - 2s 128ms/step - loss: 0.0122 - mae: 0.0722 - val_loss: 0.0131 - val_mae: 0.0883\n",
      "Epoch 384/500\n",
      "14/14 [==============================] - 2s 144ms/step - loss: 0.0137 - mae: 0.0810 - val_loss: 0.0134 - val_mae: 0.0866\n",
      "Epoch 385/500\n",
      "14/14 [==============================] - 2s 136ms/step - loss: 0.0168 - mae: 0.0926 - val_loss: 0.0182 - val_mae: 0.1195\n",
      "Epoch 386/500\n",
      "14/14 [==============================] - 2s 118ms/step - loss: 0.0144 - mae: 0.0813 - val_loss: 0.0097 - val_mae: 0.0795\n",
      "Epoch 387/500\n",
      "14/14 [==============================] - 2s 131ms/step - loss: 0.0132 - mae: 0.0767 - val_loss: 0.0041 - val_mae: 0.0492\n",
      "Epoch 388/500\n",
      "14/14 [==============================] - 2s 116ms/step - loss: 0.0171 - mae: 0.0947 - val_loss: 0.0056 - val_mae: 0.0610\n",
      "Epoch 389/500\n",
      "14/14 [==============================] - 2s 112ms/step - loss: 0.0190 - mae: 0.1022 - val_loss: 0.0303 - val_mae: 0.1471\n",
      "Epoch 390/500\n",
      "14/14 [==============================] - 2s 125ms/step - loss: 0.0391 - mae: 0.1578 - val_loss: 0.2069 - val_mae: 0.4439\n",
      "Epoch 391/500\n",
      "14/14 [==============================] - 1s 104ms/step - loss: 0.0970 - mae: 0.2567 - val_loss: 0.2579 - val_mae: 0.4807\n",
      "Epoch 392/500\n",
      "14/14 [==============================] - 2s 125ms/step - loss: 0.1335 - mae: 0.3000 - val_loss: 0.0299 - val_mae: 0.1275\n",
      "Epoch 393/500\n",
      "14/14 [==============================] - 2s 134ms/step - loss: 0.1108 - mae: 0.2618 - val_loss: 0.0298 - val_mae: 0.1247\n",
      "Epoch 394/500\n",
      "14/14 [==============================] - 2s 143ms/step - loss: 0.0580 - mae: 0.2011 - val_loss: 0.0225 - val_mae: 0.1233\n",
      "Epoch 395/500\n",
      "14/14 [==============================] - 2s 108ms/step - loss: 0.0303 - mae: 0.1372 - val_loss: 0.0128 - val_mae: 0.0665\n",
      "Epoch 396/500\n",
      "14/14 [==============================] - 2s 113ms/step - loss: 0.0168 - mae: 0.0878 - val_loss: 0.0146 - val_mae: 0.0956\n",
      "Epoch 397/500\n",
      "14/14 [==============================] - 1s 104ms/step - loss: 0.0153 - mae: 0.0811 - val_loss: 0.0239 - val_mae: 0.1096\n",
      "Epoch 398/500\n",
      "14/14 [==============================] - 2s 115ms/step - loss: 0.0200 - mae: 0.0924 - val_loss: 0.0590 - val_mae: 0.2018\n",
      "Epoch 399/500\n",
      "14/14 [==============================] - 1s 93ms/step - loss: 0.0391 - mae: 0.1580 - val_loss: 0.0884 - val_mae: 0.2527\n",
      "Epoch 400/500\n",
      "14/14 [==============================] - 2s 120ms/step - loss: 0.0448 - mae: 0.1613 - val_loss: 0.0106 - val_mae: 0.0773\n",
      "Epoch 401/500\n",
      "14/14 [==============================] - 2s 112ms/step - loss: 0.0201 - mae: 0.1083 - val_loss: 0.0118 - val_mae: 0.0821\n",
      "Epoch 402/500\n",
      "14/14 [==============================] - 2s 140ms/step - loss: 0.0223 - mae: 0.1113 - val_loss: 0.0058 - val_mae: 0.0537\n",
      "Epoch 403/500\n",
      "14/14 [==============================] - 2s 143ms/step - loss: 0.0156 - mae: 0.0850 - val_loss: 0.0252 - val_mae: 0.1445\n",
      "Epoch 404/500\n",
      "14/14 [==============================] - 2s 140ms/step - loss: 0.0192 - mae: 0.1009 - val_loss: 0.0091 - val_mae: 0.0666\n",
      "Epoch 405/500\n",
      "14/14 [==============================] - 2s 129ms/step - loss: 0.0317 - mae: 0.1471 - val_loss: 0.0196 - val_mae: 0.1207\n",
      "Epoch 406/500\n",
      "14/14 [==============================] - 2s 120ms/step - loss: 0.0244 - mae: 0.1208 - val_loss: 0.0194 - val_mae: 0.1110\n",
      "Epoch 407/500\n",
      "14/14 [==============================] - 2s 142ms/step - loss: 0.0195 - mae: 0.0984 - val_loss: 0.0433 - val_mae: 0.1957\n",
      "Epoch 408/500\n",
      "14/14 [==============================] - 2s 134ms/step - loss: 0.0272 - mae: 0.1311 - val_loss: 0.0254 - val_mae: 0.1466\n",
      "Epoch 409/500\n",
      "14/14 [==============================] - 2s 137ms/step - loss: 0.0160 - mae: 0.0944 - val_loss: 0.0140 - val_mae: 0.0924\n",
      "Epoch 410/500\n",
      "14/14 [==============================] - 2s 117ms/step - loss: 0.0136 - mae: 0.0791 - val_loss: 0.0093 - val_mae: 0.0734\n",
      "Epoch 411/500\n",
      "14/14 [==============================] - 2s 130ms/step - loss: 0.0223 - mae: 0.1116 - val_loss: 0.0462 - val_mae: 0.1954\n",
      "Epoch 412/500\n",
      "14/14 [==============================] - 2s 135ms/step - loss: 0.0264 - mae: 0.1273 - val_loss: 0.0121 - val_mae: 0.0763\n",
      "Epoch 413/500\n",
      "14/14 [==============================] - 2s 131ms/step - loss: 0.0236 - mae: 0.1212 - val_loss: 0.0167 - val_mae: 0.1115\n",
      "Epoch 414/500\n",
      "14/14 [==============================] - 1s 110ms/step - loss: 0.0159 - mae: 0.0921 - val_loss: 0.0104 - val_mae: 0.0733\n",
      "Epoch 415/500\n",
      "14/14 [==============================] - 2s 124ms/step - loss: 0.0109 - mae: 0.0694 - val_loss: 0.0058 - val_mae: 0.0526\n",
      "Epoch 416/500\n",
      "14/14 [==============================] - 2s 123ms/step - loss: 0.0095 - mae: 0.0612 - val_loss: 0.0098 - val_mae: 0.0826\n",
      "Epoch 417/500\n",
      "14/14 [==============================] - 2s 110ms/step - loss: 0.0152 - mae: 0.0870 - val_loss: 0.0065 - val_mae: 0.0620\n",
      "Epoch 418/500\n",
      "14/14 [==============================] - 2s 108ms/step - loss: 0.0179 - mae: 0.0978 - val_loss: 0.0087 - val_mae: 0.0838\n",
      "Epoch 419/500\n",
      "14/14 [==============================] - 2s 109ms/step - loss: 0.0139 - mae: 0.0786 - val_loss: 0.0257 - val_mae: 0.1426\n",
      "Epoch 420/500\n",
      "14/14 [==============================] - 1s 68ms/step - loss: 0.0142 - mae: 0.0842 - val_loss: 0.0061 - val_mae: 0.0507\n",
      "Epoch 421/500\n",
      "14/14 [==============================] - 2s 143ms/step - loss: 0.0307 - mae: 0.1382 - val_loss: 0.0120 - val_mae: 0.0940\n",
      "Epoch 422/500\n",
      "14/14 [==============================] - 2s 162ms/step - loss: 0.0387 - mae: 0.1557 - val_loss: 0.0968 - val_mae: 0.2827\n",
      "Epoch 423/500\n",
      "14/14 [==============================] - 2s 152ms/step - loss: 0.0623 - mae: 0.2059 - val_loss: 0.1282 - val_mae: 0.3304\n",
      "Epoch 424/500\n",
      "14/14 [==============================] - 2s 150ms/step - loss: 0.1085 - mae: 0.2663 - val_loss: 0.0140 - val_mae: 0.0989\n",
      "Epoch 425/500\n",
      "14/14 [==============================] - 2s 149ms/step - loss: 0.0267 - mae: 0.1226 - val_loss: 0.0242 - val_mae: 0.1404\n",
      "Epoch 426/500\n",
      "14/14 [==============================] - 2s 116ms/step - loss: 0.0177 - mae: 0.0985 - val_loss: 0.0122 - val_mae: 0.0795\n",
      "Epoch 427/500\n",
      "14/14 [==============================] - 1s 41ms/step - loss: 0.0119 - mae: 0.0735 - val_loss: 0.0132 - val_mae: 0.0962\n",
      "Epoch 428/500\n",
      "14/14 [==============================] - 0s 8ms/step - loss: 0.0172 - mae: 0.0997 - val_loss: 0.0087 - val_mae: 0.0710\n",
      "Epoch 429/500\n",
      "14/14 [==============================] - 0s 8ms/step - loss: 0.0139 - mae: 0.0829 - val_loss: 0.0117 - val_mae: 0.0838\n",
      "Epoch 430/500\n",
      "14/14 [==============================] - 0s 11ms/step - loss: 0.0128 - mae: 0.0790 - val_loss: 0.0150 - val_mae: 0.1125\n",
      "Epoch 431/500\n",
      "14/14 [==============================] - 0s 8ms/step - loss: 0.0219 - mae: 0.1143 - val_loss: 0.0268 - val_mae: 0.1510\n",
      "Epoch 432/500\n",
      "14/14 [==============================] - 0s 8ms/step - loss: 0.0141 - mae: 0.0792 - val_loss: 0.0082 - val_mae: 0.0679\n",
      "Epoch 433/500\n",
      "14/14 [==============================] - 1s 79ms/step - loss: 0.0170 - mae: 0.0929 - val_loss: 0.0079 - val_mae: 0.0598\n",
      "Epoch 434/500\n",
      "14/14 [==============================] - 1s 82ms/step - loss: 0.0204 - mae: 0.0988 - val_loss: 0.0206 - val_mae: 0.1085\n",
      "Epoch 435/500\n",
      "14/14 [==============================] - 1s 78ms/step - loss: 0.0305 - mae: 0.1392 - val_loss: 0.0209 - val_mae: 0.1349\n",
      "Epoch 436/500\n",
      "14/14 [==============================] - 1s 88ms/step - loss: 0.0239 - mae: 0.1236 - val_loss: 0.0204 - val_mae: 0.1282\n",
      "Epoch 437/500\n",
      "14/14 [==============================] - 1s 102ms/step - loss: 0.0486 - mae: 0.1849 - val_loss: 0.0484 - val_mae: 0.1850\n"
     ]
    }
   ],
   "source": [
    "history = ann.fit(X_train, y_train,\n",
    "                    validation_data = (X_val, y_val),\n",
    "                    callbacks=[es],\n",
    "                    epochs=500,\n",
    "                    batch_size=30,\n",
    "                    verbose=1)"
   ]
  },
  {
   "cell_type": "markdown",
   "metadata": {
    "colab_type": "text",
    "id": "0H0zKKNEBLD5"
   },
   "source": [
    "### Analyse learn history"
   ]
  },
  {
   "cell_type": "code",
   "execution_count": 14,
   "metadata": {
    "ExecuteTime": {
     "end_time": "2024-08-22T13:54:54.140140900Z",
     "start_time": "2024-08-22T13:54:53.636130Z"
    }
   },
   "outputs": [
    {
     "data": {
      "text/plain": "<Figure size 600x600 with 1 Axes>",
      "image/png": "[encoded data removed]"
     },
     "metadata": {},
     "output_type": "display_data"
    }
   ],
   "source": [
    "# let's see the training and validation accuracy by epoch\n",
    "history_dict = history.history\n",
    "loss_values = history_dict['loss'] # you can change this\n",
    "val_loss_values = history_dict['val_loss'] # you can also change this\n",
    "epochs = range(1, len(loss_values) + 1) # range of X (no. of epochs)\n",
    "\n",
    "# Set global font to Times New Roman and font size\n",
    "plt.rcParams['font.family'] = 'serif'\n",
    "plt.rcParams['font.serif'] = ['Times New Roman']\n",
    "plt.rcParams['font.size'] = 20\n",
    "\n",
    "# Create a plot\n",
    "plt.figure(figsize=(6, 6))\n",
    "plt.plot(epochs, loss_values, 'blue', label='Train set')\n",
    "plt.plot(epochs, val_loss_values, 'orange', label='Validation set')\n",
    "#plt.title('Training and testing loss')\n",
    "\n",
    "\n",
    "plt.xlabel('Epochs')\n",
    "plt.ylabel('Loss (MSE)')\n",
    "plt.legend()\n",
    "plt.savefig('End_ANN1_2.png', dpi=200, bbox_inches='tight')\n",
    "plt.show()"
   ]
  },
  {
   "cell_type": "code",
   "execution_count": 15,
   "metadata": {
    "ExecuteTime": {
     "end_time": "2024-08-22T13:54:54.927148800Z",
     "start_time": "2024-08-22T13:54:54.138138800Z"
    }
   },
   "outputs": [
    {
     "data": {
      "text/plain": "<Figure size 600x600 with 1 Axes>",
      "image/png": "[encoded data removed]"
     },
     "metadata": {},
     "output_type": "display_data"
    }
   ],
   "source": [
    "loss_values1 = history_dict['mae'] # you can change this\n",
    "val_loss_values1 = history_dict['val_mae'] # you can also change this\n",
    "epochs = range(1, len(loss_values1) + 1) # range of X (no. of epochs)\n",
    "# Create a plot\n",
    "plt.figure(figsize=(6, 6))\n",
    "plt.plot(epochs, loss_values1, 'blue', label='Train set')\n",
    "plt.plot(epochs, val_loss_values1, 'orange', label='Validation set')\n",
    "#plt.title('Training and testing MAE')\n",
    "plt.xlabel('Epochs')\n",
    "plt.ylabel('MAE (kPa)')\n",
    "plt.legend()\n",
    "plt.savefig('End_ANN1_3.png', dpi=200, bbox_inches='tight')\n",
    "plt.show()"
   ]
  },
  {
   "cell_type": "code",
   "execution_count": 16,
   "metadata": {
    "ExecuteTime": {
     "end_time": "2024-08-22T13:54:56.330163600Z",
     "start_time": "2024-08-22T13:54:54.923145900Z"
    }
   },
   "outputs": [
    {
     "name": "stdout",
     "output_type": "stream",
     "text": [
      "INFO:tensorflow:Assets written to: End_ANN_1\\assets\n"
     ]
    }
   ],
   "source": [
    "ann.save('End_ANN_1')"
   ]
  },
  {
   "cell_type": "markdown",
   "metadata": {},
   "source": [
    "# Part 4 - Make predictions"
   ]
  },
  {
   "cell_type": "code",
   "execution_count": 17,
   "metadata": {
    "ExecuteTime": {
     "end_time": "2024-08-22T13:54:57.723188400Z",
     "start_time": "2024-08-22T13:54:56.335163300Z"
    }
   },
   "outputs": [
    {
     "name": "stdout",
     "output_type": "stream",
     "text": [
      "13/13 [==============================] - 0s 2ms/step\n",
      "3/3 [==============================] - 0s 5ms/step\n"
     ]
    },
    {
     "data": {
      "text/plain": "<Figure size 640x480 with 2 Axes>",
      "image/png": "[encoded data removed]"
     },
     "metadata": {},
     "output_type": "display_data"
    }
   ],
   "source": [
    "# scatterplot of actual vs. pred\n",
    "# specify the dimensions \n",
    "fig, axes = plt.subplots(1,2) # 1 row, 2 columns\n",
    "\n",
    "# this makes the individual subplots\n",
    "# Training Results\n",
    "axes[0].scatter(x=y_train, y=ann.predict(X_train)) #first row, first entry (left top)\n",
    "axes[0].set_xlabel(\"Actual\", fontsize=10)\n",
    "axes[0].set_ylabel(\"Predicted\",  fontsize=10)\n",
    "axes[0].set_title(\"Training\")\n",
    "# add 45 deg line\n",
    "x = np.linspace(*axes[0].get_xlim())\n",
    "axes[0].plot(x, x, color='red')\n",
    "# Validation Results\n",
    "axes[1].scatter(x=y_val, y=ann.predict(X_val)) # first row, second entry (right top)\n",
    "axes[1].set_xlabel(\"Actual\", fontsize=10)\n",
    "axes[1].set_ylabel(\"Predicted\",  fontsize=10)\n",
    "axes[1].set_title(\"Validation\")\n",
    "# add 45 deg line\n",
    "x = np.linspace(*axes[1].get_xlim())\n",
    "axes[1].plot(x, x, color='red')\n",
    "\n",
    "# tight layout\n",
    "fig.tight_layout()\n",
    "plt.savefig('End_ANN1_1.png', dpi=200, bbox_inches='tight')\n",
    "# show the plot\n",
    "plt.show()"
   ]
  },
  {
   "cell_type": "code",
   "execution_count": 18,
   "metadata": {
    "colab": {
     "base_uri": "https://localhost:8080/",
     "height": 134
    },
    "colab_type": "code",
    "id": "IA0yApEmBG1X",
    "outputId": "cb981e1f-9204-4a2a-fece-9d66a6919189",
    "ExecuteTime": {
     "end_time": "2024-08-22T13:54:57.882186200Z",
     "start_time": "2024-08-22T13:54:57.723188400Z"
    }
   },
   "outputs": [
    {
     "name": "stdout",
     "output_type": "stream",
     "text": [
      "3/3 [==============================] - 0s 4ms/step\n",
      "[[ 99.69  99.7 ]\n",
      " [ 67.67  67.63]\n",
      " [100.72 100.6 ]\n",
      " [ 31.15  30.98]\n",
      " [ 43.74  43.74]\n",
      " [ 59.19  59.22]\n",
      " [105.21 105.24]\n",
      " [ 89.43  89.5 ]\n",
      " [ 38.13  37.9 ]\n",
      " [105.31 105.34]\n",
      " [ 62.58  62.56]\n",
      " [ 57.71  57.68]\n",
      " [ 65.16  65.19]\n",
      " [110.19 110.25]\n",
      " [ 91.72  91.62]\n",
      " [ 36.85  36.9 ]\n",
      " [ 78.35  78.37]\n",
      " [ 46.01  45.98]\n",
      " [ 88.47  88.35]\n",
      " [ 60.95  60.89]\n",
      " [ 29.44  29.33]\n",
      " [ 28.65  28.5 ]\n",
      " [ 95.15  95.12]\n",
      " [117.45 117.43]\n",
      " [ 22.5   22.53]\n",
      " [ 76.17  76.11]\n",
      " [ 41.77  41.77]\n",
      " [ 39.56  39.43]\n",
      " [111.12 111.16]\n",
      " [102.69 102.58]\n",
      " [ 62.49  62.53]\n",
      " [ 69.32  69.29]\n",
      " [ 42.73  42.6 ]\n",
      " [ 84.38  84.38]\n",
      " [ 52.28  52.27]\n",
      " [ 97.8   97.76]\n",
      " [ 98.53  98.62]\n",
      " [ 56.58  56.63]\n",
      " [ 50.89  50.93]\n",
      " [ 40.03  39.78]\n",
      " [ 86.39  86.36]\n",
      " [ 99.71  99.73]\n",
      " [ 69.    68.98]\n",
      " [ 71.62  71.55]\n",
      " [ 64.04  64.06]\n",
      " [ 62.44  62.45]\n",
      " [ 66.95  66.9 ]\n",
      " [ 46.45  46.37]\n",
      " [ 80.49  80.48]\n",
      " [ 87.74  87.65]\n",
      " [ 42.81  42.73]\n",
      " [ 38.62  38.42]\n",
      " [ 37.33  37.21]\n",
      " [ 96.36  96.37]\n",
      " [ 52.81  52.77]\n",
      " [119.87 119.8 ]\n",
      " [108.13 108.16]\n",
      " [109.54 109.57]\n",
      " [ 58.23  58.27]\n",
      " [ 80.14  80.14]\n",
      " [ 37.62  37.37]\n",
      " [ 49.08  49.07]\n",
      " [103.74 103.73]\n",
      " [ 41.2   41.17]\n",
      " [ 91.93  92.02]\n",
      " [103.52 103.6 ]\n",
      " [108.97 108.99]\n",
      " [ 81.71  81.61]\n",
      " [ 46.11  45.93]\n",
      " [ 95.4   95.46]\n",
      " [ 81.82  81.83]\n",
      " [107.32 107.37]\n",
      " [102.14 102.19]\n",
      " [116.54 116.51]\n",
      " [102.33 102.35]\n",
      " [ 51.94  51.94]\n",
      " [110.98 111.03]\n",
      " [112.94 112.95]\n",
      " [ 76.32  76.32]\n",
      " [ 83.49  83.54]\n",
      " [ 50.28  50.21]\n",
      " [ 68.68  68.66]\n",
      " [ 82.44  82.36]\n",
      " [101.45 101.42]\n",
      " [ 42.37  42.28]\n",
      " [ 40.41  40.36]\n",
      " [ 72.26  72.19]]\n"
     ]
    }
   ],
   "source": [
    "y_pred = ann.predict(X_test)\n",
    "np.set_printoptions(precision=2)\n",
    "print(np.concatenate((y_pred.reshape(len(y_pred),1), y_test.reshape(len(y_test),1)),1))"
   ]
  },
  {
   "cell_type": "code",
   "execution_count": 19,
   "metadata": {
    "ExecuteTime": {
     "end_time": "2024-08-22T13:54:58.071187400Z",
     "start_time": "2024-08-22T13:54:57.828188500Z"
    }
   },
   "outputs": [
    {
     "data": {
      "text/plain": "Text(0, 0.5, 'Predicted data')"
     },
     "execution_count": 19,
     "metadata": {},
     "output_type": "execute_result"
    },
    {
     "data": {
      "text/plain": "<Figure size 640x480 with 1 Axes>",
      "image/png": "[encoded data removed]"
     },
     "metadata": {},
     "output_type": "display_data"
    }
   ],
   "source": [
    "import matplotlib.pyplot as plt\n",
    "plt.scatter(y_test, y_pred, color=\"blue\")\n",
    "plt.xlabel ('Actual data')\n",
    "plt.ylabel ('Predicted data')"
   ]
  },
  {
   "cell_type": "code",
   "execution_count": 30,
   "metadata": {
    "ExecuteTime": {
     "end_time": "2024-08-23T01:09:01.053995800Z",
     "start_time": "2024-08-23T01:09:00.456711200Z"
    }
   },
   "outputs": [
    {
     "data": {
      "text/plain": "<Figure size 600x600 with 1 Axes>",
      "image/png": "[encoded data removed]"
     },
     "metadata": {},
     "output_type": "display_data"
    }
   ],
   "source": [
    "from sklearn.metrics import r2_score\n",
    "# Initialize layout\n",
    "fig1, ax1 = plt.subplots(figsize = (6, 6))\n",
    "\n",
    "b_l = 15\n",
    "u_l = 130\n",
    "\n",
    "# Add scatterplot\n",
    "ax1.scatter(y_test, y_pred, s=70, alpha=1, edgecolors=\"k\",c='mediumblue',zorder=5, label = 'Points')\n",
    "\n",
    "\n",
    "plt.ylabel('Predicted End Time (ms)')\n",
    "plt.xlabel('Target End Time (ms)')\n",
    "plt.xticks(fontsize = 19)\n",
    "plt.yticks(fontsize = 19)\n",
    "\n",
    "\n",
    "x1 = np.linspace(b_l, u_l)\n",
    "\n",
    "plt.plot(x1, x1, 'Red', label='45\\N{DEGREE SIGN} line',lw=2.5,alpha=1)\n",
    "\n",
    "plt.ylim(b_l, u_l)\n",
    "plt.xlim(b_l, u_l)\n",
    "plt.legend(loc='upper center', bbox_to_anchor=(0.5, -0.15), ncol=4, frameon = False, fontsize = 20)\n",
    "\n",
    "#plt.grid()\n",
    "\n",
    "ax1.spines['left'].set_color('black')        # setting up Y-axis tick color to red\n",
    "ax1.spines['bottom'].set_color('black')         #setting up above X-axis tick color to red\n",
    "\n",
    "plt.savefig('End_ANN1.png', dpi=200, bbox_inches='tight')"
   ]
  },
  {
   "cell_type": "code",
   "execution_count": 21,
   "metadata": {
    "ExecuteTime": {
     "end_time": "2024-08-22T13:54:59.555211300Z",
     "start_time": "2024-08-22T13:54:58.535197800Z"
    }
   },
   "outputs": [
    {
     "name": "stdout",
     "output_type": "stream",
     "text": [
      "13/13 [==============================] - 1s 72ms/step\n",
      "0.06465521793570059\n",
      "0.059378785347835895\n"
     ]
    }
   ],
   "source": [
    "trainpreds = ann.predict(X_train)\n",
    "\n",
    "from sklearn.metrics import mean_absolute_error\n",
    "print(mean_absolute_error(y_train, trainpreds)) # train\n",
    "print(mean_absolute_error(y_test, y_pred)) # test"
   ]
  },
  {
   "cell_type": "code",
   "execution_count": 22,
   "metadata": {
    "ExecuteTime": {
     "end_time": "2024-08-22T13:54:59.574207500Z",
     "start_time": "2024-08-22T13:54:59.528210400Z"
    }
   },
   "outputs": [
    {
     "name": "stdout",
     "output_type": "stream",
     "text": [
      "0.9999907718288682\n"
     ]
    }
   ],
   "source": [
    "from sklearn.metrics import r2_score\n",
    "r2 = r2_score(y_test, y_pred)\n",
    "print (r2)"
   ]
  },
  {
   "cell_type": "code",
   "execution_count": 23,
   "metadata": {
    "ExecuteTime": {
     "end_time": "2024-08-22T13:54:59.700211800Z",
     "start_time": "2024-08-22T13:54:59.541210400Z"
    }
   },
   "outputs": [
    {
     "name": "stdout",
     "output_type": "stream",
     "text": [
      "0.9999850102306856\n"
     ]
    }
   ],
   "source": [
    "r2_train = r2_score(y_train, trainpreds)\n",
    "print (r2_train)"
   ]
  },
  {
   "cell_type": "code",
   "execution_count": 24,
   "metadata": {
    "ExecuteTime": {
     "end_time": "2024-08-22T13:54:59.859212500Z",
     "start_time": "2024-08-22T13:54:59.698210100Z"
    }
   },
   "outputs": [
    {
     "name": "stdout",
     "output_type": "stream",
     "text": [
      "Within 5% margin 100.00%\n",
      "Within 10% margin 100.00%\n",
      "Within 20% margin 100.00%\n",
      "Out of 20% margin 0.00%\n"
     ]
    }
   ],
   "source": [
    "count0 = 0\n",
    "for i in range(len(y_pred)):\n",
    "    line1 = y_pred[i] - 0.95*y_test[i]\n",
    "    line2 = y_pred[i] - 1.05*y_test[i]\n",
    "    mask0 = (line1 > 0) & (line2 < 0)\n",
    "    count0 = np.sum(mask0+count0)\n",
    "\n",
    "count1 = 0\n",
    "for i in range(len(y_pred)):\n",
    "    line1 = y_pred[i] - 0.9*y_test[i]\n",
    "    line2 = y_pred[i] - 1.1*y_test[i]\n",
    "    mask1 = (line1 > 0) & (line2 < 0)\n",
    "    count1 = np.sum(mask1+count1)\n",
    "\n",
    "count2 = 0\n",
    "for j in range(len(y_pred)):\n",
    "    line3 = y_pred[j] - 0.8*y_test[j]\n",
    "    line4 = y_pred[j] - 1.2*y_test[j]\n",
    "    mask2 = (line3 > 0) & (line4 < 0)\n",
    "    count2 = np.sum(mask2+count2)\n",
    "\n",
    "\n",
    "count3 = 0    \n",
    "for k in range(len(y_pred)):\n",
    "    line5 = y_pred[k] - 0.8*y_test[k]\n",
    "    line6 = y_pred[k] - 1.2*y_test[k]\n",
    "    mask3 = (line5 < 0) or (line6 > 0)\n",
    "    count3 = np.sum(mask3+count3)\n",
    "   \n",
    "\n",
    "print ('Within 5% margin', format((count0/len (y_pred)),'.2%'))\n",
    "print ('Within 10% margin', format((count1/len (y_pred)),'.2%'))\n",
    "print ('Within 20% margin', format((count2/len (y_pred)),'.2%'))\n",
    "print ('Out of 20% margin', format((count3/len (y_pred)),'.2%'))"
   ]
  },
  {
   "cell_type": "code",
   "execution_count": 25,
   "metadata": {
    "ExecuteTime": {
     "end_time": "2024-08-22T13:55:00.013214600Z",
     "start_time": "2024-08-22T13:54:59.857214600Z"
    }
   },
   "outputs": [
    {
     "name": "stdout",
     "output_type": "stream",
     "text": [
      "0.9999905521105079\n"
     ]
    }
   ],
   "source": [
    "adj_r2 = 1 - ((1 - r2) * (len(X_test) - 1) / (len(X_test) - len (X_test[0]) - 1))\n",
    "print (adj_r2)"
   ]
  },
  {
   "cell_type": "code",
   "execution_count": 26,
   "metadata": {
    "ExecuteTime": {
     "end_time": "2024-08-22T13:55:00.188217900Z",
     "start_time": "2024-08-22T13:55:00.010216100Z"
    }
   },
   "outputs": [
    {
     "data": {
      "text/plain": "0.08087277889207656"
     },
     "execution_count": 26,
     "metadata": {},
     "output_type": "execute_result"
    }
   ],
   "source": [
    "import math\n",
    "from sklearn.metrics import mean_squared_error\n",
    "\n",
    "math.sqrt(mean_squared_error(y_test, y_pred))"
   ]
  },
  {
   "cell_type": "code",
   "execution_count": 27,
   "metadata": {
    "ExecuteTime": {
     "end_time": "2024-08-22T13:55:00.340218100Z",
     "start_time": "2024-08-22T13:55:00.188217900Z"
    }
   },
   "outputs": [
    {
     "data": {
      "text/plain": "0.059378785347835895"
     },
     "execution_count": 27,
     "metadata": {},
     "output_type": "execute_result"
    }
   ],
   "source": [
    "from sklearn.metrics import mean_absolute_error\n",
    "\n",
    "mean_absolute_error(y_test, y_pred)"
   ]
  }
 ],
 "metadata": {
  "colab": {
   "collapsed_sections": [],
   "name": "Artificial Neural Network",
   "provenance": [],
   "toc_visible": true
  },
  "kernelspec": {
   "display_name": "Python 3 (ipykernel)",
   "language": "python",
   "name": "python3"
  },
  "language_info": {
   "codemirror_mode": {
    "name": "ipython",
    "version": 3
   },
   "file_extension": ".py",
   "mimetype": "text/x-python",
   "name": "python",
   "nbconvert_exporter": "python",
   "pygments_lexer": "ipython3",
   "version": "3.9.7"
  }
 },
 "nbformat": 4,
 "nbformat_minor": 4
}
