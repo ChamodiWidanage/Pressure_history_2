{
 "cells": [
  {
   "cell_type": "markdown",
   "metadata": {
    "colab_type": "text",
    "id": "3cbb7fRy-eyr"
   },
   "source": [
    "# Artificial Neural Network"
   ]
  },
  {
   "cell_type": "markdown",
   "metadata": {
    "colab_type": "text",
    "id": "8sNDnxE2-pwE"
   },
   "source": [
    "## Part 1 - Importing the libraries"
   ]
  },
  {
   "cell_type": "code",
   "execution_count": 1,
   "metadata": {
    "colab": {},
    "colab_type": "code",
    "id": "lxChR1Rk-umf",
    "ExecuteTime": {
     "end_time": "2023-08-06T04:53:55.524073900Z",
     "start_time": "2023-08-06T04:53:50.616131600Z"
    }
   },
   "outputs": [],
   "source": [
    "import numpy as np\n",
    "import pandas as pd\n",
    "import tensorflow as tf\n",
    "import matplotlib.pyplot as plt\n",
    "from keras.models import load_model\n",
    "from pathlib import Path"
   ]
  },
  {
   "cell_type": "markdown",
   "metadata": {
    "colab_type": "text",
    "id": "AG3FQEch-yuA"
   },
   "source": [
    "## Part 2 - Data Preprocessing"
   ]
  },
  {
   "cell_type": "markdown",
   "metadata": {
    "colab_type": "text",
    "id": "-4zq8Mza_D9O"
   },
   "source": [
    "### Importing the dataset"
   ]
  },
  {
   "cell_type": "code",
   "execution_count": 2,
   "metadata": {
    "ExecuteTime": {
     "end_time": "2023-08-06T04:53:58.874881100Z",
     "start_time": "2023-08-06T04:53:58.848310900Z"
    }
   },
   "outputs": [
    {
     "name": "stdout",
     "output_type": "stream",
     "text": [
      "input Pressure_profiles\n",
      "2 [WindowsPath('Pressure_profiles/L13_1'), WindowsPath('Pressure_profiles/L13_11'), WindowsPath('Pressure_profiles/L13_13'), WindowsPath('Pressure_profiles/L13_15'), WindowsPath('Pressure_profiles/L13_17'), WindowsPath('Pressure_profiles/L13_19'), WindowsPath('Pressure_profiles/L13_21'), WindowsPath('Pressure_profiles/L13_23'), WindowsPath('Pressure_profiles/L13_25'), WindowsPath('Pressure_profiles/L13_27'), WindowsPath('Pressure_profiles/L13_29'), WindowsPath('Pressure_profiles/L13_3'), WindowsPath('Pressure_profiles/L13_31'), WindowsPath('Pressure_profiles/L13_33'), WindowsPath('Pressure_profiles/L13_35'), WindowsPath('Pressure_profiles/L13_37'), WindowsPath('Pressure_profiles/L13_39'), WindowsPath('Pressure_profiles/L13_41'), WindowsPath('Pressure_profiles/L13_43'), WindowsPath('Pressure_profiles/L13_45'), WindowsPath('Pressure_profiles/L13_47'), WindowsPath('Pressure_profiles/L13_49'), WindowsPath('Pressure_profiles/L13_5'), WindowsPath('Pressure_profiles/L13_51'), WindowsPath('Pressure_profiles/L13_53'), WindowsPath('Pressure_profiles/L13_55'), WindowsPath('Pressure_profiles/L13_57'), WindowsPath('Pressure_profiles/L13_59'), WindowsPath('Pressure_profiles/L13_61'), WindowsPath('Pressure_profiles/L13_63'), WindowsPath('Pressure_profiles/L13_65'), WindowsPath('Pressure_profiles/L13_67'), WindowsPath('Pressure_profiles/L13_69'), WindowsPath('Pressure_profiles/L13_7'), WindowsPath('Pressure_profiles/L13_70'), WindowsPath('Pressure_profiles/L13_9')]\n"
     ]
    }
   ],
   "source": [
    "#Access input folder\n",
    "input_dir1 = Path (\"Pressure_profiles\")\n",
    "print (\"input\",input_dir1)\n",
    "\n",
    "#Access folders inside input folder\n",
    "input_dir2 =  [folder for folder in input_dir1.iterdir() if folder.is_dir()]\n",
    "print (\"2\",input_dir2)"
   ]
  },
  {
   "cell_type": "code",
   "execution_count": 3,
   "metadata": {
    "ExecuteTime": {
     "end_time": "2023-08-06T04:55:44.963976400Z",
     "start_time": "2023-08-06T04:54:00.419074500Z"
    }
   },
   "outputs": [],
   "source": [
    "# Access each folder inside input folder\n",
    "dataset = pd.DataFrame(columns = ['Charge_mass', 'Standoff_distance', 'Time', 'Pressure'])\n",
    "df_list = []\n",
    "for folder in input_dir2:\n",
    "    \n",
    "    # Make a list of data file names\n",
    "    files = list(folder.rglob(\"*.xlsx\"))\n",
    "    \n",
    "    for file in files:\n",
    "        df_list.append(pd.read_excel(file))\n",
    "\n",
    "dataset = pd.concat(df_list, ignore_index = True)"
   ]
  },
  {
   "cell_type": "code",
   "execution_count": 4,
   "metadata": {
    "colab": {},
    "colab_type": "code",
    "id": "B9CV13Co_HHM",
    "ExecuteTime": {
     "end_time": "2023-08-06T04:55:44.999731500Z",
     "start_time": "2023-08-06T04:55:44.970984700Z"
    }
   },
   "outputs": [
    {
     "name": "stdout",
     "output_type": "stream",
     "text": [
      "<class 'pandas.core.frame.DataFrame'>\n",
      "RangeIndex: 2158876 entries, 0 to 2158875\n",
      "Data columns (total 4 columns):\n",
      " #   Column             Dtype  \n",
      "---  ------             -----  \n",
      " 0   Charge_mass        float64\n",
      " 1   Standoff_distance  int64  \n",
      " 2   Time               float64\n",
      " 3   Pressure           float64\n",
      "dtypes: float64(3), int64(1)\n",
      "memory usage: 65.9 MB\n"
     ]
    }
   ],
   "source": [
    "dataset.info()"
   ]
  },
  {
   "cell_type": "code",
   "execution_count": 5,
   "metadata": {
    "ExecuteTime": {
     "end_time": "2023-08-06T04:56:26.968696200Z",
     "start_time": "2023-08-06T04:56:26.394336800Z"
    }
   },
   "outputs": [
    {
     "name": "stdout",
     "output_type": "stream",
     "text": [
      "(2158876, 3) (2158876,)\n"
     ]
    }
   ],
   "source": [
    "y = dataset['Pressure']\n",
    "X = dataset.drop(['Pressure'], axis=1)\n",
    "print(X.shape, y.shape)"
   ]
  },
  {
   "cell_type": "code",
   "execution_count": 6,
   "metadata": {
    "ExecuteTime": {
     "end_time": "2023-08-06T04:56:27.798969500Z",
     "start_time": "2023-08-06T04:56:27.714417900Z"
    }
   },
   "outputs": [],
   "source": [
    "# convert to numpy array\n",
    "X = np.array(X)\n",
    "y = np.array(y)"
   ]
  },
  {
   "cell_type": "markdown",
   "metadata": {
    "colab_type": "text",
    "id": "VC6omXel_Up0"
   },
   "source": [
    "### Splitting the dataset into the Training set and Test set"
   ]
  },
  {
   "cell_type": "code",
   "execution_count": 8,
   "metadata": {
    "colab": {},
    "colab_type": "code",
    "id": "L5edeb2r_agx",
    "ExecuteTime": {
     "end_time": "2023-08-06T04:56:51.213105600Z",
     "start_time": "2023-08-06T04:56:50.910416700Z"
    }
   },
   "outputs": [],
   "source": [
    "from sklearn.model_selection import train_test_split\n",
    "X_train, X_test, y_train, y_test = train_test_split(X,\n",
    "                                                    y,\n",
    "                                                    test_size = 0.9,\n",
    "                                                    random_state = 0)"
   ]
  },
  {
   "cell_type": "code",
   "execution_count": 10,
   "metadata": {
    "colab": {},
    "colab_type": "code",
    "id": "L5edeb2r_agx",
    "ExecuteTime": {
     "end_time": "2023-08-06T04:56:56.914458Z",
     "start_time": "2023-08-06T04:56:56.704652900Z"
    }
   },
   "outputs": [],
   "source": [
    "X_val, X_test, y_val, y_test = train_test_split(X_test,\n",
    "                                                y_test,\n",
    "                                                test_size = 0.9,\n",
    "                                                random_state = 0)"
   ]
  },
  {
   "cell_type": "markdown",
   "metadata": {
    "colab_type": "text",
    "id": "_mSLlAT9_eyI"
   },
   "source": [
    "## Part 3 - Building the ANN"
   ]
  },
  {
   "cell_type": "markdown",
   "metadata": {
    "colab_type": "text",
    "id": "CsBULd_f_wLY"
   },
   "source": [
    "### Initializing the ANN"
   ]
  },
  {
   "cell_type": "code",
   "execution_count": 11,
   "metadata": {
    "colab": {},
    "colab_type": "code",
    "id": "J6Hd97Ls__Nz",
    "ExecuteTime": {
     "end_time": "2023-08-06T04:56:59.011601500Z",
     "start_time": "2023-08-06T04:56:58.956741500Z"
    }
   },
   "outputs": [],
   "source": [
    "ann = tf.keras.models.Sequential()"
   ]
  },
  {
   "cell_type": "markdown",
   "metadata": {
    "colab_type": "text",
    "id": "iitAFJS_ABUn"
   },
   "source": [
    "### Adding the input layer and the first hidden layer"
   ]
  },
  {
   "cell_type": "code",
   "execution_count": 12,
   "metadata": {
    "colab": {},
    "colab_type": "code",
    "id": "ksO_Vv40AHix",
    "ExecuteTime": {
     "end_time": "2023-08-06T04:57:05.921332800Z",
     "start_time": "2023-08-06T04:57:05.873509300Z"
    }
   },
   "outputs": [],
   "source": [
    "ann.add(tf.keras.layers.Dense(units=10,\n",
    "                              input_shape=(X_train.shape[1],),\n",
    "                              activation='relu'))"
   ]
  },
  {
   "cell_type": "markdown",
   "metadata": {
    "colab_type": "text",
    "id": "-lb4kK_wAKbs"
   },
   "source": [
    "### Adding the second hidden layer"
   ]
  },
  {
   "cell_type": "code",
   "execution_count": 13,
   "metadata": {
    "colab": {},
    "colab_type": "code",
    "id": "c2357OqEAQOQ",
    "tags": [],
    "ExecuteTime": {
     "end_time": "2023-08-06T04:57:10.919342400Z",
     "start_time": "2023-08-06T04:57:10.888755500Z"
    }
   },
   "outputs": [],
   "source": [
    "ann.add(tf.keras.layers.Dense(units=8,\n",
    "                              activation='relu'))"
   ]
  },
  {
   "cell_type": "markdown",
   "metadata": {
    "colab_type": "text",
    "id": "-lb4kK_wAKbs"
   },
   "source": [
    "### Adding the third hidden layer"
   ]
  },
  {
   "cell_type": "code",
   "execution_count": 14,
   "metadata": {
    "colab": {},
    "colab_type": "code",
    "id": "c2357OqEAQOQ",
    "tags": [],
    "ExecuteTime": {
     "end_time": "2023-08-06T04:57:21.277873500Z",
     "start_time": "2023-08-06T04:57:21.222763900Z"
    }
   },
   "outputs": [],
   "source": [
    "ann.add(tf.keras.layers.Dense(units=5,\n",
    "                              activation='relu'))"
   ]
  },
  {
   "cell_type": "markdown",
   "metadata": {
    "colab_type": "text",
    "id": "jwMOmKb3AdBY"
   },
   "source": [
    "### Adding the output layer"
   ]
  },
  {
   "cell_type": "code",
   "execution_count": 15,
   "metadata": {
    "colab": {},
    "colab_type": "code",
    "id": "YFATpzsUAkLL",
    "ExecuteTime": {
     "end_time": "2023-08-06T04:57:23.297461400Z",
     "start_time": "2023-08-06T04:57:23.252925100Z"
    }
   },
   "outputs": [],
   "source": [
    "ann.add(tf.keras.layers.Dense(units=1,\n",
    "                              activation='linear'))"
   ]
  },
  {
   "cell_type": "markdown",
   "metadata": {},
   "source": [
    "### what model looks like"
   ]
  },
  {
   "cell_type": "code",
   "execution_count": 16,
   "metadata": {
    "ExecuteTime": {
     "end_time": "2023-08-06T04:57:26.320280200Z",
     "start_time": "2023-08-06T04:57:26.221581900Z"
    }
   },
   "outputs": [
    {
     "name": "stdout",
     "output_type": "stream",
     "text": [
      "Model: \"sequential\"\n",
      "_________________________________________________________________\n",
      " Layer (type)                Output Shape              Param #   \n",
      "=================================================================\n",
      " dense (Dense)               (None, 10)                40        \n",
      "                                                                 \n",
      " dense_1 (Dense)             (None, 8)                 88        \n",
      "                                                                 \n",
      " dense_2 (Dense)             (None, 5)                 45        \n",
      "                                                                 \n",
      " dense_3 (Dense)             (None, 1)                 6         \n",
      "                                                                 \n",
      "=================================================================\n",
      "Total params: 179\n",
      "Trainable params: 179\n",
      "Non-trainable params: 0\n",
      "_________________________________________________________________\n"
     ]
    }
   ],
   "source": [
    "ann.summary()"
   ]
  },
  {
   "cell_type": "markdown",
   "metadata": {
    "colab_type": "text",
    "id": "fq7e4fF6A1yy"
   },
   "source": [
    "## Part 4 - Training the ANN"
   ]
  },
  {
   "cell_type": "markdown",
   "metadata": {
    "colab_type": "text",
    "id": "qDeylAs2An25"
   },
   "source": [
    "### Compiling the ANN"
   ]
  },
  {
   "cell_type": "code",
   "execution_count": 21,
   "metadata": {
    "colab": {},
    "colab_type": "code",
    "id": "pesgbWlCAtB4",
    "ExecuteTime": {
     "end_time": "2023-08-06T05:16:07.927821900Z",
     "start_time": "2023-08-06T05:16:07.906298600Z"
    }
   },
   "outputs": [],
   "source": [
    "# from tensorflow.keras.optimizers import Adam\n",
    "from keras.optimizers import Adam\n",
    "\n",
    "\n",
    "opt = Adam(learning_rate=0.001)\n",
    "ann.compile(optimizer = opt,\n",
    "            loss = 'mean_squared_error',\n",
    "            metrics = ['mae'])"
   ]
  },
  {
   "cell_type": "markdown",
   "metadata": {},
   "source": [
    "### early stopping callback"
   ]
  },
  {
   "cell_type": "code",
   "execution_count": 18,
   "metadata": {
    "ExecuteTime": {
     "end_time": "2023-08-06T04:57:33.643156Z",
     "start_time": "2023-08-06T04:57:33.639155100Z"
    }
   },
   "outputs": [],
   "source": [
    "# protects from unnecessary further training of the model if a particular metric does not continue to improve over a number of n epochs. In such a case, the model training would be automatically aborted.\n",
    "from keras.callbacks import EarlyStopping\n",
    "es = EarlyStopping(monitor='val_loss',\n",
    "                   mode='min',\n",
    "                   patience=50,\n",
    "                   restore_best_weights = True)"
   ]
  },
  {
   "cell_type": "markdown",
   "metadata": {
    "colab_type": "text",
    "id": "YjVuiybYOo7r"
   },
   "source": [
    "### Training the ANN model on the Training set"
   ]
  },
  {
   "cell_type": "code",
   "execution_count": 22,
   "metadata": {
    "colab": {
     "base_uri": "https://localhost:8080/",
     "height": 1000
    },
    "colab_type": "code",
    "id": "c_vV-tiiA5zn",
    "outputId": "4a2b6ee6-ed75-4698-9069-b250e613803f",
    "ExecuteTime": {
     "end_time": "2023-08-06T06:30:40.899325500Z",
     "start_time": "2023-08-06T05:16:19.398836500Z"
    }
   },
   "outputs": [
    {
     "name": "stdout",
     "output_type": "stream",
     "text": [
      "Epoch 1/500\n",
      "4318/4318 [==============================] - 10s 2ms/step - loss: 2039924224.0000 - mae: 6645.0845 - val_loss: 1440053504.0000 - val_mae: 6443.9272\n",
      "Epoch 2/500\n",
      "4318/4318 [==============================] - 9s 2ms/step - loss: 2039833088.0000 - mae: 6663.2476 - val_loss: 1439799296.0000 - val_mae: 6462.6396\n",
      "Epoch 3/500\n",
      "4318/4318 [==============================] - 9s 2ms/step - loss: 2039868928.0000 - mae: 6658.5552 - val_loss: 1439972352.0000 - val_mae: 6440.5669\n",
      "Epoch 4/500\n",
      "4318/4318 [==============================] - 9s 2ms/step - loss: 2039874176.0000 - mae: 6640.8330 - val_loss: 1441108864.0000 - val_mae: 6613.6514\n",
      "Epoch 5/500\n",
      "4318/4318 [==============================] - 9s 2ms/step - loss: 2039871104.0000 - mae: 6670.2671 - val_loss: 1439764096.0000 - val_mae: 6446.6577\n",
      "Epoch 6/500\n",
      "4318/4318 [==============================] - 9s 2ms/step - loss: 2039938560.0000 - mae: 6649.2119 - val_loss: 1440827008.0000 - val_mae: 6585.9492\n",
      "Epoch 7/500\n",
      "4318/4318 [==============================] - 9s 2ms/step - loss: 2039952384.0000 - mae: 6662.1562 - val_loss: 1439675392.0000 - val_mae: 6464.8335\n",
      "Epoch 8/500\n",
      "4318/4318 [==============================] - 9s 2ms/step - loss: 2040016128.0000 - mae: 6658.0869 - val_loss: 1439696768.0000 - val_mae: 6456.9507\n",
      "Epoch 9/500\n",
      "4318/4318 [==============================] - 9s 2ms/step - loss: 2040005504.0000 - mae: 6657.5127 - val_loss: 1440696832.0000 - val_mae: 6574.9995\n",
      "Epoch 10/500\n",
      "4318/4318 [==============================] - 9s 2ms/step - loss: 2039988608.0000 - mae: 6659.4194 - val_loss: 1440209024.0000 - val_mae: 6542.7393\n",
      "Epoch 11/500\n",
      "4318/4318 [==============================] - 9s 2ms/step - loss: 2039914880.0000 - mae: 6662.2100 - val_loss: 1441236096.0000 - val_mae: 6620.7612\n",
      "Epoch 12/500\n",
      "4318/4318 [==============================] - 9s 2ms/step - loss: 2039829504.0000 - mae: 6666.6006 - val_loss: 1439924352.0000 - val_mae: 6461.7739\n",
      "Epoch 13/500\n",
      "4318/4318 [==============================] - 9s 2ms/step - loss: 2039908736.0000 - mae: 6662.7388 - val_loss: 1439827072.0000 - val_mae: 6452.6855\n",
      "Epoch 14/500\n",
      "4318/4318 [==============================] - 9s 2ms/step - loss: 2039994624.0000 - mae: 6672.8628 - val_loss: 1439641472.0000 - val_mae: 6469.3315\n",
      "Epoch 15/500\n",
      "4318/4318 [==============================] - 9s 2ms/step - loss: 2039902208.0000 - mae: 6661.4438 - val_loss: 1439887744.0000 - val_mae: 6508.3320\n",
      "Epoch 16/500\n",
      "4318/4318 [==============================] - 9s 2ms/step - loss: 2039843328.0000 - mae: 6663.1968 - val_loss: 1439777024.0000 - val_mae: 6452.4932\n",
      "Epoch 17/500\n",
      "4318/4318 [==============================] - 9s 2ms/step - loss: 2040068352.0000 - mae: 6657.7109 - val_loss: 1440483584.0000 - val_mae: 6554.4829\n",
      "Epoch 18/500\n",
      "4318/4318 [==============================] - 9s 2ms/step - loss: 2040047360.0000 - mae: 6658.7100 - val_loss: 1440823424.0000 - val_mae: 6614.7397\n",
      "Epoch 19/500\n",
      "4318/4318 [==============================] - 9s 2ms/step - loss: 2039944832.0000 - mae: 6666.3232 - val_loss: 1442230272.0000 - val_mae: 6729.7803\n",
      "Epoch 20/500\n",
      "4318/4318 [==============================] - 9s 2ms/step - loss: 2039944320.0000 - mae: 6667.2212 - val_loss: 1439976192.0000 - val_mae: 6456.9082\n",
      "Epoch 21/500\n",
      "4318/4318 [==============================] - 9s 2ms/step - loss: 2039947904.0000 - mae: 6661.5093 - val_loss: 1439837952.0000 - val_mae: 6463.2598\n",
      "Epoch 22/500\n",
      "4318/4318 [==============================] - 9s 2ms/step - loss: 2039906816.0000 - mae: 6663.7427 - val_loss: 1439882752.0000 - val_mae: 6466.7402\n",
      "Epoch 23/500\n",
      "4318/4318 [==============================] - 9s 2ms/step - loss: 2039686656.0000 - mae: 6677.1309 - val_loss: 1440299136.0000 - val_mae: 6460.8213\n",
      "Epoch 24/500\n",
      "4318/4318 [==============================] - 9s 2ms/step - loss: 2040160256.0000 - mae: 6662.2124 - val_loss: 1439723392.0000 - val_mae: 6459.6167\n",
      "Epoch 25/500\n",
      "4318/4318 [==============================] - 9s 2ms/step - loss: 2039755264.0000 - mae: 6675.2402 - val_loss: 1439666816.0000 - val_mae: 6456.8931\n",
      "Epoch 26/500\n",
      "4318/4318 [==============================] - 9s 2ms/step - loss: 2039937664.0000 - mae: 6662.4888 - val_loss: 1439824512.0000 - val_mae: 6495.1431\n",
      "Epoch 27/500\n",
      "4318/4318 [==============================] - 9s 2ms/step - loss: 2039910528.0000 - mae: 6666.5425 - val_loss: 1439815040.0000 - val_mae: 6503.9839\n",
      "Epoch 28/500\n",
      "4318/4318 [==============================] - 9s 2ms/step - loss: 2039622272.0000 - mae: 6682.8467 - val_loss: 1440307200.0000 - val_mae: 6470.7695\n",
      "Epoch 29/500\n",
      "4318/4318 [==============================] - 9s 2ms/step - loss: 2039944192.0000 - mae: 6668.4834 - val_loss: 1440127616.0000 - val_mae: 6536.1489\n",
      "Epoch 30/500\n",
      "4318/4318 [==============================] - 9s 2ms/step - loss: 2039799552.0000 - mae: 6668.2095 - val_loss: 1442112128.0000 - val_mae: 6746.4805\n",
      "Epoch 31/500\n",
      "4318/4318 [==============================] - 9s 2ms/step - loss: 2039865344.0000 - mae: 6679.3799 - val_loss: 1440039040.0000 - val_mae: 6458.2368\n",
      "Epoch 32/500\n",
      "4318/4318 [==============================] - 9s 2ms/step - loss: 2039908352.0000 - mae: 6666.6094 - val_loss: 1439785472.0000 - val_mae: 6458.8042\n",
      "Epoch 33/500\n",
      "4318/4318 [==============================] - 9s 2ms/step - loss: 2039884928.0000 - mae: 6672.0522 - val_loss: 1440033152.0000 - val_mae: 6465.5615\n",
      "Epoch 34/500\n",
      "4318/4318 [==============================] - 9s 2ms/step - loss: 2039934336.0000 - mae: 6661.4600 - val_loss: 1440223616.0000 - val_mae: 6491.6216\n",
      "Epoch 35/500\n",
      "4318/4318 [==============================] - 9s 2ms/step - loss: 2039869440.0000 - mae: 6674.9199 - val_loss: 1440035200.0000 - val_mae: 6460.5996\n",
      "Epoch 36/500\n",
      "4318/4318 [==============================] - 9s 2ms/step - loss: 2039909120.0000 - mae: 6658.2935 - val_loss: 1445152640.0000 - val_mae: 7011.1733\n",
      "Epoch 37/500\n",
      "4318/4318 [==============================] - 9s 2ms/step - loss: 2040065408.0000 - mae: 6671.1387 - val_loss: 1439747968.0000 - val_mae: 6473.0498\n",
      "Epoch 38/500\n",
      "4318/4318 [==============================] - 9s 2ms/step - loss: 2039820928.0000 - mae: 6670.4741 - val_loss: 1439854080.0000 - val_mae: 6457.2764\n",
      "Epoch 39/500\n",
      "4318/4318 [==============================] - 9s 2ms/step - loss: 2040015360.0000 - mae: 6668.8228 - val_loss: 1439652736.0000 - val_mae: 6464.6855\n",
      "Epoch 40/500\n",
      "4318/4318 [==============================] - 9s 2ms/step - loss: 2039923968.0000 - mae: 6665.8477 - val_loss: 1440125568.0000 - val_mae: 6486.7144\n",
      "Epoch 41/500\n",
      "4318/4318 [==============================] - 9s 2ms/step - loss: 2039801472.0000 - mae: 6661.9326 - val_loss: 1441043840.0000 - val_mae: 6621.0918\n",
      "Epoch 42/500\n",
      "4318/4318 [==============================] - 9s 2ms/step - loss: 2039855104.0000 - mae: 6672.1489 - val_loss: 1439857536.0000 - val_mae: 6495.5615\n",
      "Epoch 43/500\n",
      "4318/4318 [==============================] - 9s 2ms/step - loss: 2040113664.0000 - mae: 6656.8643 - val_loss: 1440013312.0000 - val_mae: 6528.9238\n",
      "Epoch 44/500\n",
      "4318/4318 [==============================] - 9s 2ms/step - loss: 2039947008.0000 - mae: 6666.6982 - val_loss: 1441595136.0000 - val_mae: 6656.6567\n",
      "Epoch 45/500\n",
      "4318/4318 [==============================] - 9s 2ms/step - loss: 2039595392.0000 - mae: 6696.8428 - val_loss: 1440134528.0000 - val_mae: 6471.1914\n",
      "Epoch 46/500\n",
      "4318/4318 [==============================] - 9s 2ms/step - loss: 2040041344.0000 - mae: 6657.9863 - val_loss: 1439889024.0000 - val_mae: 6514.8125\n",
      "Epoch 47/500\n",
      "4318/4318 [==============================] - 9s 2ms/step - loss: 2039946368.0000 - mae: 6662.5718 - val_loss: 1439898496.0000 - val_mae: 6514.3916\n",
      "Epoch 48/500\n",
      "4318/4318 [==============================] - 9s 2ms/step - loss: 2039967360.0000 - mae: 6659.6323 - val_loss: 1440020224.0000 - val_mae: 6499.1792\n",
      "Epoch 49/500\n",
      "4318/4318 [==============================] - 9s 2ms/step - loss: 2039864576.0000 - mae: 6669.7354 - val_loss: 1439717504.0000 - val_mae: 6482.8730\n",
      "Epoch 50/500\n",
      "4318/4318 [==============================] - 9s 2ms/step - loss: 2039669248.0000 - mae: 6682.2852 - val_loss: 1440965632.0000 - val_mae: 6635.0024\n",
      "Epoch 51/500\n",
      "4318/4318 [==============================] - 9s 2ms/step - loss: 2039810432.0000 - mae: 6674.2656 - val_loss: 1439948160.0000 - val_mae: 6465.3276\n",
      "Epoch 52/500\n",
      "4318/4318 [==============================] - 9s 2ms/step - loss: 2039916672.0000 - mae: 6664.8926 - val_loss: 1439887744.0000 - val_mae: 6464.7676\n",
      "Epoch 53/500\n",
      "4318/4318 [==============================] - 9s 2ms/step - loss: 2039783040.0000 - mae: 6674.8701 - val_loss: 1439680256.0000 - val_mae: 6468.8379\n",
      "Epoch 54/500\n",
      "4318/4318 [==============================] - 9s 2ms/step - loss: 2039923200.0000 - mae: 6665.7510 - val_loss: 1439650944.0000 - val_mae: 6472.0112\n",
      "Epoch 55/500\n",
      "4318/4318 [==============================] - 9s 2ms/step - loss: 2039759360.0000 - mae: 6674.6284 - val_loss: 1440116352.0000 - val_mae: 6461.6230\n",
      "Epoch 56/500\n",
      "4318/4318 [==============================] - 9s 2ms/step - loss: 2039752576.0000 - mae: 6678.5464 - val_loss: 1440100096.0000 - val_mae: 6533.1802\n",
      "Epoch 57/500\n",
      "4318/4318 [==============================] - 9s 2ms/step - loss: 2039884032.0000 - mae: 6676.9990 - val_loss: 1440295680.0000 - val_mae: 6468.1953\n",
      "Epoch 58/500\n",
      "4318/4318 [==============================] - 9s 2ms/step - loss: 2040109568.0000 - mae: 6659.5425 - val_loss: 1439928448.0000 - val_mae: 6518.7583\n",
      "Epoch 59/500\n",
      "4318/4318 [==============================] - 9s 2ms/step - loss: 2039984256.0000 - mae: 6672.6963 - val_loss: 1439653760.0000 - val_mae: 6477.4824\n",
      "Epoch 60/500\n",
      "4318/4318 [==============================] - 9s 2ms/step - loss: 2040018560.0000 - mae: 6661.6279 - val_loss: 1439688448.0000 - val_mae: 6482.2896\n",
      "Epoch 61/500\n",
      "4318/4318 [==============================] - 9s 2ms/step - loss: 2039935616.0000 - mae: 6668.3701 - val_loss: 1439760512.0000 - val_mae: 6496.8003\n",
      "Epoch 62/500\n",
      "4318/4318 [==============================] - 9s 2ms/step - loss: 2040010112.0000 - mae: 6662.2183 - val_loss: 1439767424.0000 - val_mae: 6479.3574\n",
      "Epoch 63/500\n",
      "4318/4318 [==============================] - 9s 2ms/step - loss: 2039985664.0000 - mae: 6661.6694 - val_loss: 1439805184.0000 - val_mae: 6482.0210\n",
      "Epoch 64/500\n",
      "4318/4318 [==============================] - 9s 2ms/step - loss: 2039762048.0000 - mae: 6681.7075 - val_loss: 1439659392.0000 - val_mae: 6471.6226\n",
      "Epoch 65/500\n",
      "4318/4318 [==============================] - 9s 2ms/step - loss: 2040072576.0000 - mae: 6664.3091 - val_loss: 1439638656.0000 - val_mae: 6461.1260\n",
      "Epoch 66/500\n",
      "4318/4318 [==============================] - 9s 2ms/step - loss: 2039888768.0000 - mae: 6668.5996 - val_loss: 1439825792.0000 - val_mae: 6470.4658\n",
      "Epoch 67/500\n",
      "4318/4318 [==============================] - 9s 2ms/step - loss: 2039970944.0000 - mae: 6658.7417 - val_loss: 1439987712.0000 - val_mae: 6525.8354\n",
      "Epoch 68/500\n",
      "4318/4318 [==============================] - 9s 2ms/step - loss: 2039604608.0000 - mae: 6685.5640 - val_loss: 1439746560.0000 - val_mae: 6456.2471\n",
      "Epoch 69/500\n",
      "4318/4318 [==============================] - 9s 2ms/step - loss: 2039947904.0000 - mae: 6663.6890 - val_loss: 1439740544.0000 - val_mae: 6472.8257\n",
      "Epoch 70/500\n",
      "4318/4318 [==============================] - 9s 2ms/step - loss: 2039886336.0000 - mae: 6665.5381 - val_loss: 1439772160.0000 - val_mae: 6499.5151\n",
      "Epoch 71/500\n",
      "4318/4318 [==============================] - 9s 2ms/step - loss: 2039708544.0000 - mae: 6682.2456 - val_loss: 1439711104.0000 - val_mae: 6473.3506\n",
      "Epoch 72/500\n",
      "4318/4318 [==============================] - 9s 2ms/step - loss: 2039995776.0000 - mae: 6667.9629 - val_loss: 1439924608.0000 - val_mae: 6462.8872\n",
      "Epoch 73/500\n",
      "4318/4318 [==============================] - 9s 2ms/step - loss: 2039953664.0000 - mae: 6673.0151 - val_loss: 1440135552.0000 - val_mae: 6467.8608\n",
      "Epoch 74/500\n",
      "4318/4318 [==============================] - 9s 2ms/step - loss: 2040060544.0000 - mae: 6657.7324 - val_loss: 1440966784.0000 - val_mae: 6612.2109\n",
      "Epoch 75/500\n",
      "4318/4318 [==============================] - 9s 2ms/step - loss: 2039728384.0000 - mae: 6681.5630 - val_loss: 1439647104.0000 - val_mae: 6464.6655\n",
      "Epoch 76/500\n",
      "4318/4318 [==============================] - 9s 2ms/step - loss: 2039933952.0000 - mae: 6666.9805 - val_loss: 1444377856.0000 - val_mae: 6913.8291\n",
      "Epoch 77/500\n",
      "4318/4318 [==============================] - 9s 2ms/step - loss: 2039955328.0000 - mae: 6668.5044 - val_loss: 1440207232.0000 - val_mae: 6551.2109\n",
      "Epoch 78/500\n",
      "4318/4318 [==============================] - 9s 2ms/step - loss: 2039900800.0000 - mae: 6676.5903 - val_loss: 1439729024.0000 - val_mae: 6462.2559\n",
      "Epoch 79/500\n",
      "4318/4318 [==============================] - 9s 2ms/step - loss: 2040154112.0000 - mae: 6661.3857 - val_loss: 1439756672.0000 - val_mae: 6478.9204\n",
      "Epoch 80/500\n",
      "4318/4318 [==============================] - 9s 2ms/step - loss: 2039885056.0000 - mae: 6664.2886 - val_loss: 1439838848.0000 - val_mae: 6454.5464\n",
      "Epoch 81/500\n",
      "4318/4318 [==============================] - 9s 2ms/step - loss: 2040007552.0000 - mae: 6665.9102 - val_loss: 1439851904.0000 - val_mae: 6509.1113\n",
      "Epoch 82/500\n",
      "4318/4318 [==============================] - 9s 2ms/step - loss: 2039809280.0000 - mae: 6674.9473 - val_loss: 1440535680.0000 - val_mae: 6589.3965\n",
      "Epoch 83/500\n",
      "4318/4318 [==============================] - 9s 2ms/step - loss: 2039987968.0000 - mae: 6657.5552 - val_loss: 1439694976.0000 - val_mae: 6480.5161\n",
      "Epoch 84/500\n",
      "4318/4318 [==============================] - 9s 2ms/step - loss: 2039864448.0000 - mae: 6680.2632 - val_loss: 1439804544.0000 - val_mae: 6458.2578\n",
      "Epoch 85/500\n",
      "4318/4318 [==============================] - 9s 2ms/step - loss: 2040043776.0000 - mae: 6667.3154 - val_loss: 1439646848.0000 - val_mae: 6460.3843\n",
      "Epoch 86/500\n",
      "4318/4318 [==============================] - 9s 2ms/step - loss: 2039856512.0000 - mae: 6664.5649 - val_loss: 1439920256.0000 - val_mae: 6464.3574\n",
      "Epoch 87/500\n",
      "4318/4318 [==============================] - 9s 2ms/step - loss: 2039972096.0000 - mae: 6663.7939 - val_loss: 1439780608.0000 - val_mae: 6461.1245\n",
      "Epoch 88/500\n",
      "4318/4318 [==============================] - 9s 2ms/step - loss: 2039933952.0000 - mae: 6659.8735 - val_loss: 1440384512.0000 - val_mae: 6561.6958\n",
      "Epoch 89/500\n",
      "4318/4318 [==============================] - 9s 2ms/step - loss: 2039762304.0000 - mae: 6681.3110 - val_loss: 1439628416.0000 - val_mae: 6460.2974\n",
      "Epoch 90/500\n",
      "4318/4318 [==============================] - 9s 2ms/step - loss: 2039877376.0000 - mae: 6672.4312 - val_loss: 1439856256.0000 - val_mae: 6466.8794\n",
      "Epoch 91/500\n",
      "4318/4318 [==============================] - 9s 2ms/step - loss: 2039618560.0000 - mae: 6683.7070 - val_loss: 1440230144.0000 - val_mae: 6463.3872\n",
      "Epoch 92/500\n",
      "4318/4318 [==============================] - 9s 2ms/step - loss: 2039911680.0000 - mae: 6669.1304 - val_loss: 1439902464.0000 - val_mae: 6474.3667\n",
      "Epoch 93/500\n",
      "4318/4318 [==============================] - 9s 2ms/step - loss: 2039924736.0000 - mae: 6663.7173 - val_loss: 1439873920.0000 - val_mae: 6458.9360\n",
      "Epoch 94/500\n",
      "4318/4318 [==============================] - 9s 2ms/step - loss: 2039916800.0000 - mae: 6666.7280 - val_loss: 1440035072.0000 - val_mae: 6462.2202\n",
      "Epoch 95/500\n",
      "4318/4318 [==============================] - 9s 2ms/step - loss: 2039652608.0000 - mae: 6683.8848 - val_loss: 1440254592.0000 - val_mae: 6458.6084\n",
      "Epoch 96/500\n",
      "4318/4318 [==============================] - 9s 2ms/step - loss: 2039570304.0000 - mae: 6694.3799 - val_loss: 1439788544.0000 - val_mae: 6463.1001\n",
      "Epoch 97/500\n",
      "4318/4318 [==============================] - 9s 2ms/step - loss: 2039912960.0000 - mae: 6663.5620 - val_loss: 1440952192.0000 - val_mae: 6606.1914\n",
      "Epoch 98/500\n",
      "4318/4318 [==============================] - 9s 2ms/step - loss: 2040000896.0000 - mae: 6662.9771 - val_loss: 1439715712.0000 - val_mae: 6480.1851\n",
      "Epoch 99/500\n",
      "4318/4318 [==============================] - 9s 2ms/step - loss: 2039889280.0000 - mae: 6668.1826 - val_loss: 1440986368.0000 - val_mae: 6623.6182\n",
      "Epoch 100/500\n",
      "4318/4318 [==============================] - 9s 2ms/step - loss: 2039901312.0000 - mae: 6668.5435 - val_loss: 1439792256.0000 - val_mae: 6484.7393\n",
      "Epoch 101/500\n",
      "4318/4318 [==============================] - 9s 2ms/step - loss: 2040037504.0000 - mae: 6661.6040 - val_loss: 1440526976.0000 - val_mae: 6587.2271\n",
      "Epoch 102/500\n",
      "4318/4318 [==============================] - 9s 2ms/step - loss: 2039868800.0000 - mae: 6671.5493 - val_loss: 1439697280.0000 - val_mae: 6465.6772\n",
      "Epoch 103/500\n",
      "4318/4318 [==============================] - 9s 2ms/step - loss: 2039893376.0000 - mae: 6673.7012 - val_loss: 1439774080.0000 - val_mae: 6493.6548\n",
      "Epoch 104/500\n",
      "4318/4318 [==============================] - 9s 2ms/step - loss: 2039759872.0000 - mae: 6688.5981 - val_loss: 1440106368.0000 - val_mae: 6534.1953\n",
      "Epoch 105/500\n",
      "4318/4318 [==============================] - 9s 2ms/step - loss: 2039802880.0000 - mae: 6682.1274 - val_loss: 1440759296.0000 - val_mae: 6612.7744\n",
      "Epoch 106/500\n",
      "4318/4318 [==============================] - 9s 2ms/step - loss: 2040046208.0000 - mae: 6665.2451 - val_loss: 1439961216.0000 - val_mae: 6504.7383\n",
      "Epoch 107/500\n",
      "4318/4318 [==============================] - 9s 2ms/step - loss: 2039588224.0000 - mae: 6652.3623 - val_loss: 1449479424.0000 - val_mae: 7238.0649\n",
      "Epoch 108/500\n",
      "4318/4318 [==============================] - 9s 2ms/step - loss: 2040138240.0000 - mae: 6676.9014 - val_loss: 1439673856.0000 - val_mae: 6475.2983\n",
      "Epoch 109/500\n",
      "4318/4318 [==============================] - 9s 2ms/step - loss: 2039925504.0000 - mae: 6662.6172 - val_loss: 1440121216.0000 - val_mae: 6532.1113\n",
      "Epoch 110/500\n",
      "4318/4318 [==============================] - 9s 2ms/step - loss: 2039908992.0000 - mae: 6675.0991 - val_loss: 1440186496.0000 - val_mae: 6458.3774\n",
      "Epoch 111/500\n",
      "4318/4318 [==============================] - 9s 2ms/step - loss: 2040084608.0000 - mae: 6653.3037 - val_loss: 1439669248.0000 - val_mae: 6483.1108\n",
      "Epoch 112/500\n",
      "4318/4318 [==============================] - 9s 2ms/step - loss: 2040055552.0000 - mae: 6664.7451 - val_loss: 1439796864.0000 - val_mae: 6478.3179\n",
      "Epoch 113/500\n",
      "4318/4318 [==============================] - 9s 2ms/step - loss: 2040032384.0000 - mae: 6665.7642 - val_loss: 1439763072.0000 - val_mae: 6474.9956\n",
      "Epoch 114/500\n",
      "4318/4318 [==============================] - 9s 2ms/step - loss: 2040015232.0000 - mae: 6665.7358 - val_loss: 1439775360.0000 - val_mae: 6467.4678\n",
      "Epoch 115/500\n",
      "4318/4318 [==============================] - 9s 2ms/step - loss: 2039965568.0000 - mae: 6666.2690 - val_loss: 1439873536.0000 - val_mae: 6464.1621\n",
      "Epoch 116/500\n",
      "4318/4318 [==============================] - 9s 2ms/step - loss: 2039885312.0000 - mae: 6667.4023 - val_loss: 1439982464.0000 - val_mae: 6525.2490\n",
      "Epoch 117/500\n",
      "4318/4318 [==============================] - 9s 2ms/step - loss: 2039779712.0000 - mae: 6678.6763 - val_loss: 1439781504.0000 - val_mae: 6487.2803\n",
      "Epoch 118/500\n",
      "4318/4318 [==============================] - 9s 2ms/step - loss: 2039629568.0000 - mae: 6698.8252 - val_loss: 1439884928.0000 - val_mae: 6468.2480\n",
      "Epoch 119/500\n",
      "4318/4318 [==============================] - 9s 2ms/step - loss: 2039823744.0000 - mae: 6672.3833 - val_loss: 1439820032.0000 - val_mae: 6463.1250\n",
      "Epoch 120/500\n",
      "4318/4318 [==============================] - 9s 2ms/step - loss: 2039931136.0000 - mae: 6663.3252 - val_loss: 1439760896.0000 - val_mae: 6496.0249\n",
      "Epoch 121/500\n",
      "4318/4318 [==============================] - 9s 2ms/step - loss: 2039714944.0000 - mae: 6681.0132 - val_loss: 1440215296.0000 - val_mae: 6466.6934\n",
      "Epoch 122/500\n",
      "4318/4318 [==============================] - 9s 2ms/step - loss: 2040072192.0000 - mae: 6653.9810 - val_loss: 1440071424.0000 - val_mae: 6471.8809\n",
      "Epoch 123/500\n",
      "4318/4318 [==============================] - 9s 2ms/step - loss: 2039981184.0000 - mae: 6664.7100 - val_loss: 1439816320.0000 - val_mae: 6501.4229\n",
      "Epoch 124/500\n",
      "4318/4318 [==============================] - 9s 2ms/step - loss: 2039688832.0000 - mae: 6683.2065 - val_loss: 1439829888.0000 - val_mae: 6468.7642\n",
      "Epoch 125/500\n",
      "4318/4318 [==============================] - 9s 2ms/step - loss: 2039903104.0000 - mae: 6662.9790 - val_loss: 1439769728.0000 - val_mae: 6474.1553\n",
      "Epoch 126/500\n",
      "4318/4318 [==============================] - 9s 2ms/step - loss: 2039865856.0000 - mae: 6670.5024 - val_loss: 1440252800.0000 - val_mae: 6466.9336\n",
      "Epoch 127/500\n",
      "4318/4318 [==============================] - 9s 2ms/step - loss: 2039975680.0000 - mae: 6660.1870 - val_loss: 1439619968.0000 - val_mae: 6464.9902\n",
      "Epoch 128/500\n",
      "4318/4318 [==============================] - 9s 2ms/step - loss: 2039964928.0000 - mae: 6656.9995 - val_loss: 1439810432.0000 - val_mae: 6471.3398\n",
      "Epoch 129/500\n",
      "4318/4318 [==============================] - 9s 2ms/step - loss: 2039908992.0000 - mae: 6663.6216 - val_loss: 1443362688.0000 - val_mae: 6823.5039\n",
      "Epoch 130/500\n",
      "4318/4318 [==============================] - 9s 2ms/step - loss: 2039814400.0000 - mae: 6675.2534 - val_loss: 1439778944.0000 - val_mae: 6466.0625\n",
      "Epoch 131/500\n",
      "4318/4318 [==============================] - 9s 2ms/step - loss: 2039849856.0000 - mae: 6662.4678 - val_loss: 1439897088.0000 - val_mae: 6498.5952\n",
      "Epoch 132/500\n",
      "4318/4318 [==============================] - 9s 2ms/step - loss: 2039823232.0000 - mae: 6675.0308 - val_loss: 1439839232.0000 - val_mae: 6507.3867\n",
      "Epoch 133/500\n",
      "4318/4318 [==============================] - 9s 2ms/step - loss: 2039886336.0000 - mae: 6666.4961 - val_loss: 1439851264.0000 - val_mae: 6510.7227\n",
      "Epoch 134/500\n",
      "4318/4318 [==============================] - 9s 2ms/step - loss: 2039860352.0000 - mae: 6669.5054 - val_loss: 1440230528.0000 - val_mae: 6464.7153\n",
      "Epoch 135/500\n",
      "4318/4318 [==============================] - 9s 2ms/step - loss: 2039953152.0000 - mae: 6676.6533 - val_loss: 1439868544.0000 - val_mae: 6453.8984\n",
      "Epoch 136/500\n",
      "4318/4318 [==============================] - 9s 2ms/step - loss: 2040008064.0000 - mae: 6666.3438 - val_loss: 1439915648.0000 - val_mae: 6470.1943\n",
      "Epoch 137/500\n",
      "4318/4318 [==============================] - 9s 2ms/step - loss: 2039862272.0000 - mae: 6676.9111 - val_loss: 1439945600.0000 - val_mae: 6490.6401\n",
      "Epoch 138/500\n",
      "4318/4318 [==============================] - 9s 2ms/step - loss: 2039995264.0000 - mae: 6659.2842 - val_loss: 1439904128.0000 - val_mae: 6518.7822\n",
      "Epoch 139/500\n",
      "4318/4318 [==============================] - 9s 2ms/step - loss: 2039754752.0000 - mae: 6671.7866 - val_loss: 1440020608.0000 - val_mae: 6462.9165\n",
      "Epoch 140/500\n",
      "4318/4318 [==============================] - 9s 2ms/step - loss: 2039818240.0000 - mae: 6675.9146 - val_loss: 1440045952.0000 - val_mae: 6462.0718\n",
      "Epoch 141/500\n",
      "4318/4318 [==============================] - 9s 2ms/step - loss: 2039763840.0000 - mae: 6677.1006 - val_loss: 1439729152.0000 - val_mae: 6474.8335\n",
      "Epoch 142/500\n",
      "4318/4318 [==============================] - 9s 2ms/step - loss: 2040024064.0000 - mae: 6661.4409 - val_loss: 1440039040.0000 - val_mae: 6534.4399\n",
      "Epoch 143/500\n",
      "4318/4318 [==============================] - 9s 2ms/step - loss: 2039993216.0000 - mae: 6657.0532 - val_loss: 1441247744.0000 - val_mae: 6643.8857\n",
      "Epoch 144/500\n",
      "4318/4318 [==============================] - 9s 2ms/step - loss: 2039927424.0000 - mae: 6670.7788 - val_loss: 1439599872.0000 - val_mae: 6475.0801\n",
      "Epoch 145/500\n",
      "4318/4318 [==============================] - 9s 2ms/step - loss: 2039758208.0000 - mae: 6674.6309 - val_loss: 1439658240.0000 - val_mae: 6491.1670\n",
      "Epoch 146/500\n",
      "4318/4318 [==============================] - 9s 2ms/step - loss: 2039831424.0000 - mae: 6655.3882 - val_loss: 1441944704.0000 - val_mae: 6705.6348\n",
      "Epoch 147/500\n",
      "4318/4318 [==============================] - 9s 2ms/step - loss: 2039955456.0000 - mae: 6674.0811 - val_loss: 1439725696.0000 - val_mae: 6466.5322\n",
      "Epoch 148/500\n",
      "4318/4318 [==============================] - 9s 2ms/step - loss: 2039927808.0000 - mae: 6669.8301 - val_loss: 1440013312.0000 - val_mae: 6531.6694\n",
      "Epoch 149/500\n",
      "4318/4318 [==============================] - 9s 2ms/step - loss: 2039712768.0000 - mae: 6674.7837 - val_loss: 1439661312.0000 - val_mae: 6494.0522\n",
      "Epoch 150/500\n",
      "4318/4318 [==============================] - 9s 2ms/step - loss: 2039919488.0000 - mae: 6667.1147 - val_loss: 1439819136.0000 - val_mae: 6485.4902\n",
      "Epoch 151/500\n",
      "4318/4318 [==============================] - 9s 2ms/step - loss: 2039900032.0000 - mae: 6657.3843 - val_loss: 1440977536.0000 - val_mae: 6630.5601\n",
      "Epoch 152/500\n",
      "4318/4318 [==============================] - 9s 2ms/step - loss: 2039679872.0000 - mae: 6681.1094 - val_loss: 1443553152.0000 - val_mae: 6880.8667\n",
      "Epoch 153/500\n",
      "4318/4318 [==============================] - 9s 2ms/step - loss: 2039958016.0000 - mae: 6673.8511 - val_loss: 1440248064.0000 - val_mae: 6559.5205\n",
      "Epoch 154/500\n",
      "4318/4318 [==============================] - 9s 2ms/step - loss: 2039766912.0000 - mae: 6673.3223 - val_loss: 1439680128.0000 - val_mae: 6467.4839\n",
      "Epoch 155/500\n",
      "4318/4318 [==============================] - 9s 2ms/step - loss: 2039667328.0000 - mae: 6678.4673 - val_loss: 1440014080.0000 - val_mae: 6481.4907\n",
      "Epoch 156/500\n",
      "4318/4318 [==============================] - 9s 2ms/step - loss: 2039690624.0000 - mae: 6677.7314 - val_loss: 1439699840.0000 - val_mae: 6502.7231\n",
      "Epoch 157/500\n",
      "4318/4318 [==============================] - 9s 2ms/step - loss: 2039953152.0000 - mae: 6664.6997 - val_loss: 1439641728.0000 - val_mae: 6493.8643\n",
      "Epoch 158/500\n",
      "4318/4318 [==============================] - 9s 2ms/step - loss: 2039870208.0000 - mae: 6674.5366 - val_loss: 1439755136.0000 - val_mae: 6506.7593\n",
      "Epoch 159/500\n",
      "4318/4318 [==============================] - 9s 2ms/step - loss: 2039785728.0000 - mae: 6663.1816 - val_loss: 1441203200.0000 - val_mae: 6655.3989\n",
      "Epoch 160/500\n",
      "4318/4318 [==============================] - 9s 2ms/step - loss: 2039957376.0000 - mae: 6662.4526 - val_loss: 1441261440.0000 - val_mae: 6666.1904\n",
      "Epoch 161/500\n",
      "4318/4318 [==============================] - 9s 2ms/step - loss: 2039819520.0000 - mae: 6678.5293 - val_loss: 1439879168.0000 - val_mae: 6464.8926\n",
      "Epoch 162/500\n",
      "4318/4318 [==============================] - 9s 2ms/step - loss: 2039684864.0000 - mae: 6682.1685 - val_loss: 1439870464.0000 - val_mae: 6523.8330\n",
      "Epoch 163/500\n",
      "4318/4318 [==============================] - 9s 2ms/step - loss: 2039708800.0000 - mae: 6678.2949 - val_loss: 1440011776.0000 - val_mae: 6522.5513\n",
      "Epoch 164/500\n",
      "4318/4318 [==============================] - 9s 2ms/step - loss: 2039785472.0000 - mae: 6672.6548 - val_loss: 1439700480.0000 - val_mae: 6483.5483\n",
      "Epoch 165/500\n",
      "4318/4318 [==============================] - 9s 2ms/step - loss: 2039517952.0000 - mae: 6695.1172 - val_loss: 1439514624.0000 - val_mae: 6470.2017\n",
      "Epoch 166/500\n",
      "4318/4318 [==============================] - 9s 2ms/step - loss: 2039859328.0000 - mae: 6669.4292 - val_loss: 1439694976.0000 - val_mae: 6478.5479\n",
      "Epoch 167/500\n",
      "4318/4318 [==============================] - 9s 2ms/step - loss: 2039828224.0000 - mae: 6673.2715 - val_loss: 1440478976.0000 - val_mae: 6479.1001\n",
      "Epoch 168/500\n",
      "4318/4318 [==============================] - 9s 2ms/step - loss: 2039815680.0000 - mae: 6662.0332 - val_loss: 1441132288.0000 - val_mae: 6646.8545\n",
      "Epoch 169/500\n",
      "4318/4318 [==============================] - 9s 2ms/step - loss: 2039957888.0000 - mae: 6672.4795 - val_loss: 1439529088.0000 - val_mae: 6474.7983\n",
      "Epoch 170/500\n",
      "4318/4318 [==============================] - 9s 2ms/step - loss: 2039918848.0000 - mae: 6671.4746 - val_loss: 1439656960.0000 - val_mae: 6500.3760\n",
      "Epoch 171/500\n",
      "4318/4318 [==============================] - 9s 2ms/step - loss: 2039764224.0000 - mae: 6675.4614 - val_loss: 1440266496.0000 - val_mae: 6479.4580\n",
      "Epoch 172/500\n",
      "4318/4318 [==============================] - 9s 2ms/step - loss: 2039229952.0000 - mae: 6668.7930 - val_loss: 1454228096.0000 - val_mae: 7602.1973\n",
      "Epoch 173/500\n",
      "4318/4318 [==============================] - 9s 2ms/step - loss: 2040220160.0000 - mae: 6700.4136 - val_loss: 1439616768.0000 - val_mae: 6497.1260\n",
      "Epoch 174/500\n",
      "4318/4318 [==============================] - 9s 2ms/step - loss: 2039784064.0000 - mae: 6672.3516 - val_loss: 1439693568.0000 - val_mae: 6497.2095\n",
      "Epoch 175/500\n",
      "4318/4318 [==============================] - 9s 2ms/step - loss: 2039871616.0000 - mae: 6669.5361 - val_loss: 1440535168.0000 - val_mae: 6485.8936\n",
      "Epoch 176/500\n",
      "4318/4318 [==============================] - 9s 2ms/step - loss: 2039683328.0000 - mae: 6687.1753 - val_loss: 1439794688.0000 - val_mae: 6509.8447\n",
      "Epoch 177/500\n",
      "4318/4318 [==============================] - 9s 2ms/step - loss: 2039915136.0000 - mae: 6666.2827 - val_loss: 1439943680.0000 - val_mae: 6494.5244\n",
      "Epoch 178/500\n",
      "4318/4318 [==============================] - 9s 2ms/step - loss: 2039836032.0000 - mae: 6679.6362 - val_loss: 1439561344.0000 - val_mae: 6481.6680\n",
      "Epoch 179/500\n",
      "4318/4318 [==============================] - 9s 2ms/step - loss: 2039417600.0000 - mae: 6697.5713 - val_loss: 1440870784.0000 - val_mae: 6626.4067\n",
      "Epoch 180/500\n",
      "4318/4318 [==============================] - 9s 2ms/step - loss: 2039650816.0000 - mae: 6687.0215 - val_loss: 1439534080.0000 - val_mae: 6482.2573\n",
      "Epoch 181/500\n",
      "4318/4318 [==============================] - 9s 2ms/step - loss: 2039928192.0000 - mae: 6673.8184 - val_loss: 1439624960.0000 - val_mae: 6468.2896\n",
      "Epoch 182/500\n",
      "4318/4318 [==============================] - 9s 2ms/step - loss: 2039807488.0000 - mae: 6673.3574 - val_loss: 1439604608.0000 - val_mae: 6477.4575\n",
      "Epoch 183/500\n",
      "4318/4318 [==============================] - 9s 2ms/step - loss: 2039887232.0000 - mae: 6665.0356 - val_loss: 1439617920.0000 - val_mae: 6495.5391\n",
      "Epoch 184/500\n",
      "4318/4318 [==============================] - 9s 2ms/step - loss: 2039833344.0000 - mae: 6670.1455 - val_loss: 1439838208.0000 - val_mae: 6526.0513\n",
      "Epoch 185/500\n",
      "4318/4318 [==============================] - 9s 2ms/step - loss: 2039695744.0000 - mae: 6682.7920 - val_loss: 1439657088.0000 - val_mae: 6464.0415\n",
      "Epoch 186/500\n",
      "4318/4318 [==============================] - 9s 2ms/step - loss: 2039688832.0000 - mae: 6677.0396 - val_loss: 1442578816.0000 - val_mae: 6756.0283\n",
      "Epoch 187/500\n",
      "4318/4318 [==============================] - 9s 2ms/step - loss: 2039965568.0000 - mae: 6675.4893 - val_loss: 1439616768.0000 - val_mae: 6474.9331\n",
      "Epoch 188/500\n",
      "4318/4318 [==============================] - 9s 2ms/step - loss: 2040058240.0000 - mae: 6667.0649 - val_loss: 1439674112.0000 - val_mae: 6487.4800\n",
      "Epoch 189/500\n",
      "4318/4318 [==============================] - 9s 2ms/step - loss: 2039851648.0000 - mae: 6680.2598 - val_loss: 1440036480.0000 - val_mae: 6511.9326\n",
      "Epoch 190/500\n",
      "4318/4318 [==============================] - 9s 2ms/step - loss: 2039786240.0000 - mae: 6674.5781 - val_loss: 1439747456.0000 - val_mae: 6470.9609\n",
      "Epoch 191/500\n",
      "4318/4318 [==============================] - 9s 2ms/step - loss: 2039986304.0000 - mae: 6670.3745 - val_loss: 1439795712.0000 - val_mae: 6480.8086\n",
      "Epoch 192/500\n",
      "4318/4318 [==============================] - 9s 2ms/step - loss: 2039920512.0000 - mae: 6664.9600 - val_loss: 1441881216.0000 - val_mae: 6724.0630\n",
      "Epoch 193/500\n",
      "4318/4318 [==============================] - 9s 2ms/step - loss: 2039666048.0000 - mae: 6689.0317 - val_loss: 1439702272.0000 - val_mae: 6513.4043\n",
      "Epoch 194/500\n",
      "4318/4318 [==============================] - 9s 2ms/step - loss: 2039805184.0000 - mae: 6668.9141 - val_loss: 1439516928.0000 - val_mae: 6477.1289\n",
      "Epoch 195/500\n",
      "4318/4318 [==============================] - 9s 2ms/step - loss: 2039798528.0000 - mae: 6669.6387 - val_loss: 1442313472.0000 - val_mae: 6726.4902\n",
      "Epoch 196/500\n",
      "4318/4318 [==============================] - 9s 2ms/step - loss: 2039926016.0000 - mae: 6678.9248 - val_loss: 1439521152.0000 - val_mae: 6480.5264\n",
      "Epoch 197/500\n",
      "4318/4318 [==============================] - 9s 2ms/step - loss: 2040022016.0000 - mae: 6675.6465 - val_loss: 1439576320.0000 - val_mae: 6492.2642\n",
      "Epoch 198/500\n",
      "4318/4318 [==============================] - 9s 2ms/step - loss: 2039762048.0000 - mae: 6678.5908 - val_loss: 1439562880.0000 - val_mae: 6477.2388\n",
      "Epoch 199/500\n",
      "4318/4318 [==============================] - 9s 2ms/step - loss: 2039798656.0000 - mae: 6669.1001 - val_loss: 1439651456.0000 - val_mae: 6487.2251\n",
      "Epoch 200/500\n",
      "4318/4318 [==============================] - 9s 2ms/step - loss: 2040030592.0000 - mae: 6665.3242 - val_loss: 1439890432.0000 - val_mae: 6528.0854\n",
      "Epoch 201/500\n",
      "4318/4318 [==============================] - 9s 2ms/step - loss: 2039852800.0000 - mae: 6680.4639 - val_loss: 1439542784.0000 - val_mae: 6478.8047\n",
      "Epoch 202/500\n",
      "4318/4318 [==============================] - 9s 2ms/step - loss: 2039681664.0000 - mae: 6688.6470 - val_loss: 1439946368.0000 - val_mae: 6472.0859\n",
      "Epoch 203/500\n",
      "4318/4318 [==============================] - 9s 2ms/step - loss: 2039874560.0000 - mae: 6678.3779 - val_loss: 1439626368.0000 - val_mae: 6484.4219\n",
      "Epoch 204/500\n",
      "4318/4318 [==============================] - 9s 2ms/step - loss: 2039813888.0000 - mae: 6670.2173 - val_loss: 1439839232.0000 - val_mae: 6499.4399\n",
      "Epoch 205/500\n",
      "4318/4318 [==============================] - 9s 2ms/step - loss: 2039840128.0000 - mae: 6672.9800 - val_loss: 1439921024.0000 - val_mae: 6526.4878\n",
      "Epoch 206/500\n",
      "4318/4318 [==============================] - 9s 2ms/step - loss: 2039879552.0000 - mae: 6672.3760 - val_loss: 1439986944.0000 - val_mae: 6539.8193\n",
      "Epoch 207/500\n",
      "4318/4318 [==============================] - 9s 2ms/step - loss: 2039835008.0000 - mae: 6671.3296 - val_loss: 1439715456.0000 - val_mae: 6513.4541\n",
      "Epoch 208/500\n",
      "4318/4318 [==============================] - 9s 2ms/step - loss: 2039760896.0000 - mae: 6680.5112 - val_loss: 1439565184.0000 - val_mae: 6493.1284\n",
      "Epoch 209/500\n",
      "4318/4318 [==============================] - 9s 2ms/step - loss: 2039723648.0000 - mae: 6677.5566 - val_loss: 1439599232.0000 - val_mae: 6484.4746\n",
      "Epoch 210/500\n",
      "4318/4318 [==============================] - 9s 2ms/step - loss: 2039838720.0000 - mae: 6677.3647 - val_loss: 1440767488.0000 - val_mae: 6619.0957\n",
      "Epoch 211/500\n",
      "4318/4318 [==============================] - 9s 2ms/step - loss: 2039548800.0000 - mae: 6686.4985 - val_loss: 1439669888.0000 - val_mae: 6508.5073\n",
      "Epoch 212/500\n",
      "4318/4318 [==============================] - 9s 2ms/step - loss: 2039872000.0000 - mae: 6673.3193 - val_loss: 1439565056.0000 - val_mae: 6464.6123\n",
      "Epoch 213/500\n",
      "4318/4318 [==============================] - 9s 2ms/step - loss: 2039962752.0000 - mae: 6669.8389 - val_loss: 1439695744.0000 - val_mae: 6512.9170\n",
      "Epoch 214/500\n",
      "4318/4318 [==============================] - 9s 2ms/step - loss: 2039805824.0000 - mae: 6680.4307 - val_loss: 1439541632.0000 - val_mae: 6493.0991\n",
      "Epoch 215/500\n",
      "4318/4318 [==============================] - 9s 2ms/step - loss: 2039870208.0000 - mae: 6668.6655 - val_loss: 1439662464.0000 - val_mae: 6479.0381\n",
      "Epoch 216/500\n",
      "4318/4318 [==============================] - 9s 2ms/step - loss: 2039807232.0000 - mae: 6681.4014 - val_loss: 1439753216.0000 - val_mae: 6472.6733\n",
      "Epoch 217/500\n",
      "4318/4318 [==============================] - 9s 2ms/step - loss: 2039841280.0000 - mae: 6668.4819 - val_loss: 1439874816.0000 - val_mae: 6476.3398\n",
      "Epoch 218/500\n",
      "4318/4318 [==============================] - 9s 2ms/step - loss: 2039806464.0000 - mae: 6679.2241 - val_loss: 1440828032.0000 - val_mae: 6624.3799\n",
      "Epoch 219/500\n",
      "4318/4318 [==============================] - 9s 2ms/step - loss: 2039693824.0000 - mae: 6686.1431 - val_loss: 1439728768.0000 - val_mae: 6473.6289\n",
      "Epoch 220/500\n",
      "4318/4318 [==============================] - 9s 2ms/step - loss: 2039878784.0000 - mae: 6673.7705 - val_loss: 1440042496.0000 - val_mae: 6478.8281\n",
      "Epoch 221/500\n",
      "4318/4318 [==============================] - 9s 2ms/step - loss: 2039768832.0000 - mae: 6678.8848 - val_loss: 1440050432.0000 - val_mae: 6534.9609\n",
      "Epoch 222/500\n",
      "4318/4318 [==============================] - 9s 2ms/step - loss: 2039654272.0000 - mae: 6671.0928 - val_loss: 1440633984.0000 - val_mae: 6602.7480\n",
      "Epoch 223/500\n",
      "4318/4318 [==============================] - 9s 2ms/step - loss: 2039520128.0000 - mae: 6675.4189 - val_loss: 1445165184.0000 - val_mae: 6931.9653\n",
      "Epoch 224/500\n",
      "4318/4318 [==============================] - 9s 2ms/step - loss: 2039750400.0000 - mae: 6698.4673 - val_loss: 1439679744.0000 - val_mae: 6469.1938\n",
      "Epoch 225/500\n",
      "4318/4318 [==============================] - 9s 2ms/step - loss: 2039843584.0000 - mae: 6675.8467 - val_loss: 1439640448.0000 - val_mae: 6476.5200\n",
      "Epoch 226/500\n",
      "4318/4318 [==============================] - 9s 2ms/step - loss: 2039721472.0000 - mae: 6678.7324 - val_loss: 1439651968.0000 - val_mae: 6481.8184\n",
      "Epoch 227/500\n",
      "4318/4318 [==============================] - 9s 2ms/step - loss: 2039805952.0000 - mae: 6674.2075 - val_loss: 1439691904.0000 - val_mae: 6469.6680\n",
      "Epoch 228/500\n",
      "4318/4318 [==============================] - 9s 2ms/step - loss: 2039718272.0000 - mae: 6675.1494 - val_loss: 1440985856.0000 - val_mae: 6635.2681\n",
      "Epoch 229/500\n",
      "4318/4318 [==============================] - 9s 2ms/step - loss: 2039826560.0000 - mae: 6677.8804 - val_loss: 1439507072.0000 - val_mae: 6483.9282\n",
      "Epoch 230/500\n",
      "4318/4318 [==============================] - 9s 2ms/step - loss: 2039776128.0000 - mae: 6670.6226 - val_loss: 1439482112.0000 - val_mae: 6473.1265\n",
      "Epoch 231/500\n",
      "4318/4318 [==============================] - 9s 2ms/step - loss: 2039789824.0000 - mae: 6677.0342 - val_loss: 1439508224.0000 - val_mae: 6482.9946\n",
      "Epoch 232/500\n",
      "4318/4318 [==============================] - 9s 2ms/step - loss: 2039741312.0000 - mae: 6679.1821 - val_loss: 1439805824.0000 - val_mae: 6473.8643\n",
      "Epoch 233/500\n",
      "4318/4318 [==============================] - 9s 2ms/step - loss: 2039504256.0000 - mae: 6691.3999 - val_loss: 1439732480.0000 - val_mae: 6477.9482\n",
      "Epoch 234/500\n",
      "4318/4318 [==============================] - 9s 2ms/step - loss: 2039859968.0000 - mae: 6669.4658 - val_loss: 1439945984.0000 - val_mae: 6537.8179\n",
      "Epoch 235/500\n",
      "4318/4318 [==============================] - 9s 2ms/step - loss: 2039776512.0000 - mae: 6677.3613 - val_loss: 1439670400.0000 - val_mae: 6491.2407\n",
      "Epoch 236/500\n",
      "4318/4318 [==============================] - 9s 2ms/step - loss: 2039831680.0000 - mae: 6678.0591 - val_loss: 1439742080.0000 - val_mae: 6512.9331\n",
      "Epoch 237/500\n",
      "4318/4318 [==============================] - 9s 2ms/step - loss: 2039915264.0000 - mae: 6666.6484 - val_loss: 1439714816.0000 - val_mae: 6475.4541\n",
      "Epoch 238/500\n",
      "4318/4318 [==============================] - 9s 2ms/step - loss: 2039844736.0000 - mae: 6667.8091 - val_loss: 1439671680.0000 - val_mae: 6481.9614\n",
      "Epoch 239/500\n",
      "4318/4318 [==============================] - 9s 2ms/step - loss: 2039780480.0000 - mae: 6677.7793 - val_loss: 1439872512.0000 - val_mae: 6472.8853\n",
      "Epoch 240/500\n",
      "4318/4318 [==============================] - 9s 2ms/step - loss: 2039769984.0000 - mae: 6675.0244 - val_loss: 1439716992.0000 - val_mae: 6462.8540\n",
      "Epoch 241/500\n",
      "4318/4318 [==============================] - 9s 2ms/step - loss: 2039786752.0000 - mae: 6672.8604 - val_loss: 1439846912.0000 - val_mae: 6493.1543\n",
      "Epoch 242/500\n",
      "4318/4318 [==============================] - 9s 2ms/step - loss: 2039761792.0000 - mae: 6679.0015 - val_loss: 1439590784.0000 - val_mae: 6475.0708\n",
      "Epoch 243/500\n",
      "4318/4318 [==============================] - 9s 2ms/step - loss: 2039708672.0000 - mae: 6673.2339 - val_loss: 1439764352.0000 - val_mae: 6477.2720\n",
      "Epoch 244/500\n",
      "4318/4318 [==============================] - 9s 2ms/step - loss: 2039842560.0000 - mae: 6671.8364 - val_loss: 1439717760.0000 - val_mae: 6480.2759\n",
      "Epoch 245/500\n",
      "4318/4318 [==============================] - 9s 2ms/step - loss: 2039411072.0000 - mae: 6689.7979 - val_loss: 1441137536.0000 - val_mae: 6654.9497\n",
      "Epoch 246/500\n",
      "4318/4318 [==============================] - 9s 2ms/step - loss: 2039808128.0000 - mae: 6672.6094 - val_loss: 1441809024.0000 - val_mae: 6690.6240\n",
      "Epoch 247/500\n",
      "4318/4318 [==============================] - 9s 2ms/step - loss: 2039702272.0000 - mae: 6689.2192 - val_loss: 1439542912.0000 - val_mae: 6490.5933\n",
      "Epoch 248/500\n",
      "4318/4318 [==============================] - 9s 2ms/step - loss: 2039810176.0000 - mae: 6676.3745 - val_loss: 1439887488.0000 - val_mae: 6531.4277\n",
      "Epoch 249/500\n",
      "4318/4318 [==============================] - 9s 2ms/step - loss: 2039895552.0000 - mae: 6676.4741 - val_loss: 1439794560.0000 - val_mae: 6514.4775\n",
      "Epoch 250/500\n",
      "4318/4318 [==============================] - 9s 2ms/step - loss: 2039739776.0000 - mae: 6675.6323 - val_loss: 1440091904.0000 - val_mae: 6479.6089\n",
      "Epoch 251/500\n",
      "4318/4318 [==============================] - 9s 2ms/step - loss: 2039780992.0000 - mae: 6671.3447 - val_loss: 1439749376.0000 - val_mae: 6485.3237\n",
      "Epoch 252/500\n",
      "4318/4318 [==============================] - 9s 2ms/step - loss: 2039724544.0000 - mae: 6673.5630 - val_loss: 1439601408.0000 - val_mae: 6481.0396\n",
      "Epoch 253/500\n",
      "4318/4318 [==============================] - 9s 2ms/step - loss: 2039661184.0000 - mae: 6682.5488 - val_loss: 1441712000.0000 - val_mae: 6683.3994\n",
      "Epoch 254/500\n",
      "4318/4318 [==============================] - 9s 2ms/step - loss: 2039727744.0000 - mae: 6680.5273 - val_loss: 1439753600.0000 - val_mae: 6473.1626\n",
      "Epoch 255/500\n",
      "4318/4318 [==============================] - 9s 2ms/step - loss: 2039681152.0000 - mae: 6670.4854 - val_loss: 1440987904.0000 - val_mae: 6635.6641\n",
      "Epoch 256/500\n",
      "4318/4318 [==============================] - 9s 2ms/step - loss: 2039716096.0000 - mae: 6679.5488 - val_loss: 1440070016.0000 - val_mae: 6480.3818\n",
      "Epoch 257/500\n",
      "4318/4318 [==============================] - 9s 2ms/step - loss: 2039748992.0000 - mae: 6675.5630 - val_loss: 1439731840.0000 - val_mae: 6514.4458\n",
      "Epoch 258/500\n",
      "4318/4318 [==============================] - 9s 2ms/step - loss: 2039744128.0000 - mae: 6675.4399 - val_loss: 1439660800.0000 - val_mae: 6480.5879\n",
      "Epoch 259/500\n",
      "4318/4318 [==============================] - 9s 2ms/step - loss: 2039729152.0000 - mae: 6671.0615 - val_loss: 1439748352.0000 - val_mae: 6478.0186\n",
      "Epoch 260/500\n",
      "4318/4318 [==============================] - 9s 2ms/step - loss: 2039845760.0000 - mae: 6659.3066 - val_loss: 1440088704.0000 - val_mae: 6555.6890\n",
      "Epoch 261/500\n",
      "4318/4318 [==============================] - 9s 2ms/step - loss: 2039765248.0000 - mae: 6676.3008 - val_loss: 1440118656.0000 - val_mae: 6486.6616\n",
      "Epoch 262/500\n",
      "4318/4318 [==============================] - 9s 2ms/step - loss: 2039730816.0000 - mae: 6673.1113 - val_loss: 1439965824.0000 - val_mae: 6540.8340\n",
      "Epoch 263/500\n",
      "4318/4318 [==============================] - 9s 2ms/step - loss: 2039766656.0000 - mae: 6668.1816 - val_loss: 1439488640.0000 - val_mae: 6473.6411\n",
      "Epoch 264/500\n",
      "4318/4318 [==============================] - 9s 2ms/step - loss: 2039782016.0000 - mae: 6675.2686 - val_loss: 1439716480.0000 - val_mae: 6469.8809\n",
      "Epoch 265/500\n",
      "4318/4318 [==============================] - 9s 2ms/step - loss: 2039802880.0000 - mae: 6670.2476 - val_loss: 1439940992.0000 - val_mae: 6469.1606\n",
      "Epoch 266/500\n",
      "4318/4318 [==============================] - 9s 2ms/step - loss: 2039828992.0000 - mae: 6680.6924 - val_loss: 1440602880.0000 - val_mae: 6606.3325\n",
      "Epoch 267/500\n",
      "4318/4318 [==============================] - 9s 2ms/step - loss: 2039702656.0000 - mae: 6682.9463 - val_loss: 1439583872.0000 - val_mae: 6482.5854\n",
      "Epoch 268/500\n",
      "4318/4318 [==============================] - 9s 2ms/step - loss: 2039685376.0000 - mae: 6682.6455 - val_loss: 1439695744.0000 - val_mae: 6469.6328\n",
      "Epoch 269/500\n",
      "4318/4318 [==============================] - 9s 2ms/step - loss: 2039634560.0000 - mae: 6681.6323 - val_loss: 1439496320.0000 - val_mae: 6466.6670\n",
      "Epoch 270/500\n",
      "4318/4318 [==============================] - 9s 2ms/step - loss: 2039867008.0000 - mae: 6666.4453 - val_loss: 1440016000.0000 - val_mae: 6479.2568\n",
      "Epoch 271/500\n",
      "4318/4318 [==============================] - 9s 2ms/step - loss: 2039647744.0000 - mae: 6681.4819 - val_loss: 1439631104.0000 - val_mae: 6474.2983\n",
      "Epoch 272/500\n",
      "4318/4318 [==============================] - 9s 2ms/step - loss: 2039705984.0000 - mae: 6679.1138 - val_loss: 1439701760.0000 - val_mae: 6473.9360\n",
      "Epoch 273/500\n",
      "4318/4318 [==============================] - 9s 2ms/step - loss: 2039771648.0000 - mae: 6669.1460 - val_loss: 1439607168.0000 - val_mae: 6504.2642\n",
      "Epoch 274/500\n",
      "4318/4318 [==============================] - 9s 2ms/step - loss: 2039796480.0000 - mae: 6677.9355 - val_loss: 1439895296.0000 - val_mae: 6517.5796\n",
      "Epoch 275/500\n",
      "4318/4318 [==============================] - 9s 2ms/step - loss: 2039895168.0000 - mae: 6667.7114 - val_loss: 1439647104.0000 - val_mae: 6492.7705\n",
      "Epoch 276/500\n",
      "4318/4318 [==============================] - 9s 2ms/step - loss: 2039777280.0000 - mae: 6675.0557 - val_loss: 1439671296.0000 - val_mae: 6501.8896\n",
      "Epoch 277/500\n",
      "4318/4318 [==============================] - 9s 2ms/step - loss: 2039911296.0000 - mae: 6683.2915 - val_loss: 1439493632.0000 - val_mae: 6468.3306\n",
      "Epoch 278/500\n",
      "4318/4318 [==============================] - 9s 2ms/step - loss: 2039700608.0000 - mae: 6671.3276 - val_loss: 1439707136.0000 - val_mae: 6500.8540\n",
      "Epoch 279/500\n",
      "4318/4318 [==============================] - 10s 2ms/step - loss: 2039829632.0000 - mae: 6667.9302 - val_loss: 1440043648.0000 - val_mae: 6544.0889\n",
      "Epoch 280/500\n",
      "4318/4318 [==============================] - 9s 2ms/step - loss: 2039900160.0000 - mae: 6666.7065 - val_loss: 1440264704.0000 - val_mae: 6572.8701\n",
      "Epoch 281/500\n",
      "4318/4318 [==============================] - 9s 2ms/step - loss: 2039833984.0000 - mae: 6663.8774 - val_loss: 1440221952.0000 - val_mae: 6567.8809\n",
      "Epoch 282/500\n",
      "4318/4318 [==============================] - 9s 2ms/step - loss: 2039453440.0000 - mae: 6703.6924 - val_loss: 1439915648.0000 - val_mae: 6472.3667\n",
      "Epoch 283/500\n",
      "4318/4318 [==============================] - 9s 2ms/step - loss: 2039878912.0000 - mae: 6665.0562 - val_loss: 1439798784.0000 - val_mae: 6516.9448\n",
      "Epoch 284/500\n",
      "4318/4318 [==============================] - 9s 2ms/step - loss: 2039700096.0000 - mae: 6679.4370 - val_loss: 1439877120.0000 - val_mae: 6472.7036\n",
      "Epoch 285/500\n",
      "4318/4318 [==============================] - 9s 2ms/step - loss: 2039625088.0000 - mae: 6681.2983 - val_loss: 1439740160.0000 - val_mae: 6519.9824\n",
      "Epoch 286/500\n",
      "4318/4318 [==============================] - 9s 2ms/step - loss: 2039657856.0000 - mae: 6686.0215 - val_loss: 1439913856.0000 - val_mae: 6517.3701\n",
      "Epoch 287/500\n",
      "4318/4318 [==============================] - 9s 2ms/step - loss: 2039797120.0000 - mae: 6663.6533 - val_loss: 1440487552.0000 - val_mae: 6597.8052\n",
      "Epoch 288/500\n",
      "4318/4318 [==============================] - 9s 2ms/step - loss: 2039784320.0000 - mae: 6676.1201 - val_loss: 1440016384.0000 - val_mae: 6547.4448\n",
      "Epoch 289/500\n",
      "4318/4318 [==============================] - 9s 2ms/step - loss: 2039809408.0000 - mae: 6673.7695 - val_loss: 1439847552.0000 - val_mae: 6476.8672\n",
      "Epoch 290/500\n",
      "4318/4318 [==============================] - 9s 2ms/step - loss: 2039649280.0000 - mae: 6686.0122 - val_loss: 1439482368.0000 - val_mae: 6481.8081\n",
      "Epoch 291/500\n",
      "4318/4318 [==============================] - 9s 2ms/step - loss: 2039777664.0000 - mae: 6670.1616 - val_loss: 1440404096.0000 - val_mae: 6585.2935\n",
      "Epoch 292/500\n",
      "4318/4318 [==============================] - 9s 2ms/step - loss: 2039699072.0000 - mae: 6677.3174 - val_loss: 1439545984.0000 - val_mae: 6492.4897\n",
      "Epoch 293/500\n",
      "4318/4318 [==============================] - 9s 2ms/step - loss: 2039870592.0000 - mae: 6669.0171 - val_loss: 1439517312.0000 - val_mae: 6487.9126\n",
      "Epoch 294/500\n",
      "4318/4318 [==============================] - 9s 2ms/step - loss: 2039670656.0000 - mae: 6681.8306 - val_loss: 1439658880.0000 - val_mae: 6500.8936\n",
      "Epoch 295/500\n",
      "4318/4318 [==============================] - 9s 2ms/step - loss: 2039706496.0000 - mae: 6667.0000 - val_loss: 1439978752.0000 - val_mae: 6546.7495\n",
      "Epoch 296/500\n",
      "4318/4318 [==============================] - 9s 2ms/step - loss: 2039611904.0000 - mae: 6679.1851 - val_loss: 1444460032.0000 - val_mae: 6887.0039\n",
      "Epoch 297/500\n",
      "4318/4318 [==============================] - 9s 2ms/step - loss: 2039804928.0000 - mae: 6687.8354 - val_loss: 1439787008.0000 - val_mae: 6491.3384\n",
      "Epoch 298/500\n",
      "4318/4318 [==============================] - 9s 2ms/step - loss: 2039650560.0000 - mae: 6669.2446 - val_loss: 1442032128.0000 - val_mae: 6708.6699\n",
      "Epoch 299/500\n",
      "4318/4318 [==============================] - 9s 2ms/step - loss: 2039699200.0000 - mae: 6684.8477 - val_loss: 1439589888.0000 - val_mae: 6504.7764\n",
      "Epoch 300/500\n",
      "4318/4318 [==============================] - 9s 2ms/step - loss: 2039547136.0000 - mae: 6687.5454 - val_loss: 1439625344.0000 - val_mae: 6470.0752\n",
      "Epoch 301/500\n",
      "4318/4318 [==============================] - 9s 2ms/step - loss: 2039521664.0000 - mae: 6691.3604 - val_loss: 1439539968.0000 - val_mae: 6497.1631\n",
      "Epoch 302/500\n",
      "4318/4318 [==============================] - 9s 2ms/step - loss: 2039796480.0000 - mae: 6665.2886 - val_loss: 1439442560.0000 - val_mae: 6481.4702\n",
      "Epoch 303/500\n",
      "4318/4318 [==============================] - 9s 2ms/step - loss: 2039638528.0000 - mae: 6674.8003 - val_loss: 1439778432.0000 - val_mae: 6497.6704\n",
      "Epoch 304/500\n",
      "4318/4318 [==============================] - 9s 2ms/step - loss: 2039818880.0000 - mae: 6673.9800 - val_loss: 1439590400.0000 - val_mae: 6506.6572\n",
      "Epoch 305/500\n",
      "4318/4318 [==============================] - 9s 2ms/step - loss: 2039632896.0000 - mae: 6683.0103 - val_loss: 1439455104.0000 - val_mae: 6471.9790\n",
      "Epoch 306/500\n",
      "4318/4318 [==============================] - 9s 2ms/step - loss: 2039518848.0000 - mae: 6673.8203 - val_loss: 1440544000.0000 - val_mae: 6492.0469\n",
      "Epoch 307/500\n",
      "4318/4318 [==============================] - 9s 2ms/step - loss: 2039625728.0000 - mae: 6678.6260 - val_loss: 1439574400.0000 - val_mae: 6497.4780\n",
      "Epoch 308/500\n",
      "4318/4318 [==============================] - 9s 2ms/step - loss: 2039867904.0000 - mae: 6662.6196 - val_loss: 1439907200.0000 - val_mae: 6537.7061\n",
      "Epoch 309/500\n",
      "4318/4318 [==============================] - 9s 2ms/step - loss: 2039797760.0000 - mae: 6672.0654 - val_loss: 1439994496.0000 - val_mae: 6544.0225\n",
      "Epoch 310/500\n",
      "4318/4318 [==============================] - 9s 2ms/step - loss: 2039804800.0000 - mae: 6659.8101 - val_loss: 1440240384.0000 - val_mae: 6571.5986\n",
      "Epoch 311/500\n",
      "4318/4318 [==============================] - 9s 2ms/step - loss: 2039567616.0000 - mae: 6679.1021 - val_loss: 1440120192.0000 - val_mae: 6554.8740\n",
      "Epoch 312/500\n",
      "4318/4318 [==============================] - 9s 2ms/step - loss: 2039710720.0000 - mae: 6669.3164 - val_loss: 1439881472.0000 - val_mae: 6535.7202\n",
      "Epoch 313/500\n",
      "4318/4318 [==============================] - 9s 2ms/step - loss: 2039692928.0000 - mae: 6680.8345 - val_loss: 1439860608.0000 - val_mae: 6536.2969\n",
      "Epoch 314/500\n",
      "4318/4318 [==============================] - 9s 2ms/step - loss: 2039815808.0000 - mae: 6664.9741 - val_loss: 1439577472.0000 - val_mae: 6479.3799\n",
      "Epoch 315/500\n",
      "4318/4318 [==============================] - 9s 2ms/step - loss: 2039741056.0000 - mae: 6676.1113 - val_loss: 1439459840.0000 - val_mae: 6481.4570\n",
      "Epoch 316/500\n",
      "4318/4318 [==============================] - 9s 2ms/step - loss: 2039866752.0000 - mae: 6672.3618 - val_loss: 1439655168.0000 - val_mae: 6516.8936\n",
      "Epoch 317/500\n",
      "4318/4318 [==============================] - 9s 2ms/step - loss: 2039759360.0000 - mae: 6667.6440 - val_loss: 1439644288.0000 - val_mae: 6508.7183\n",
      "Epoch 318/500\n",
      "4318/4318 [==============================] - 9s 2ms/step - loss: 2039888768.0000 - mae: 6663.6646 - val_loss: 1439610624.0000 - val_mae: 6484.8999\n",
      "Epoch 319/500\n",
      "4318/4318 [==============================] - 9s 2ms/step - loss: 2039646720.0000 - mae: 6676.0952 - val_loss: 1439634048.0000 - val_mae: 6472.2695\n",
      "Epoch 320/500\n",
      "4318/4318 [==============================] - 9s 2ms/step - loss: 2039827456.0000 - mae: 6685.8242 - val_loss: 1440830464.0000 - val_mae: 6619.2144\n",
      "Epoch 321/500\n",
      "4318/4318 [==============================] - 9s 2ms/step - loss: 2039603584.0000 - mae: 6675.9038 - val_loss: 1439583104.0000 - val_mae: 6478.4321\n",
      "Epoch 322/500\n",
      "4318/4318 [==============================] - 9s 2ms/step - loss: 2039633280.0000 - mae: 6664.1177 - val_loss: 1442968448.0000 - val_mae: 6827.8262\n",
      "Epoch 323/500\n",
      "4318/4318 [==============================] - 9s 2ms/step - loss: 2039816192.0000 - mae: 6679.8750 - val_loss: 1439425152.0000 - val_mae: 6474.0093\n",
      "Epoch 324/500\n",
      "4318/4318 [==============================] - 9s 2ms/step - loss: 2039712256.0000 - mae: 6674.5620 - val_loss: 1439537664.0000 - val_mae: 6476.7324\n",
      "Epoch 325/500\n",
      "4318/4318 [==============================] - 9s 2ms/step - loss: 2039653504.0000 - mae: 6679.4204 - val_loss: 1439600768.0000 - val_mae: 6501.8438\n",
      "Epoch 326/500\n",
      "4318/4318 [==============================] - 9s 2ms/step - loss: 2039622400.0000 - mae: 6676.5566 - val_loss: 1439717504.0000 - val_mae: 6477.1494\n",
      "Epoch 327/500\n",
      "4318/4318 [==============================] - 9s 2ms/step - loss: 2039471872.0000 - mae: 6690.9658 - val_loss: 1439623296.0000 - val_mae: 6473.8726\n",
      "Epoch 328/500\n",
      "4318/4318 [==============================] - 9s 2ms/step - loss: 2039629312.0000 - mae: 6673.2871 - val_loss: 1441935488.0000 - val_mae: 6706.4487\n",
      "Epoch 329/500\n",
      "4318/4318 [==============================] - 9s 2ms/step - loss: 2039584512.0000 - mae: 6683.4966 - val_loss: 1439837952.0000 - val_mae: 6480.7031\n",
      "Epoch 330/500\n",
      "4318/4318 [==============================] - 9s 2ms/step - loss: 2039950464.0000 - mae: 6668.0996 - val_loss: 1439552128.0000 - val_mae: 6471.5142\n",
      "Epoch 331/500\n",
      "4318/4318 [==============================] - 9s 2ms/step - loss: 2039381504.0000 - mae: 6683.5947 - val_loss: 1442607360.0000 - val_mae: 6775.8501\n",
      "Epoch 332/500\n",
      "4318/4318 [==============================] - 9s 2ms/step - loss: 2039651200.0000 - mae: 6686.6704 - val_loss: 1439715968.0000 - val_mae: 6477.3511\n",
      "Epoch 333/500\n",
      "4318/4318 [==============================] - 9s 2ms/step - loss: 2039481344.0000 - mae: 6682.2549 - val_loss: 1439998464.0000 - val_mae: 6484.2847\n",
      "Epoch 334/500\n",
      "4318/4318 [==============================] - 9s 2ms/step - loss: 2039877376.0000 - mae: 6663.1396 - val_loss: 1439410176.0000 - val_mae: 6479.1177\n",
      "Epoch 335/500\n",
      "4318/4318 [==============================] - 9s 2ms/step - loss: 2039491200.0000 - mae: 6687.2476 - val_loss: 1439490816.0000 - val_mae: 6481.8335\n",
      "Epoch 336/500\n",
      "4318/4318 [==============================] - 9s 2ms/step - loss: 2039783936.0000 - mae: 6670.6831 - val_loss: 1439492864.0000 - val_mae: 6476.1089\n",
      "Epoch 337/500\n",
      "4318/4318 [==============================] - 9s 2ms/step - loss: 2039548928.0000 - mae: 6689.6133 - val_loss: 1439506816.0000 - val_mae: 6486.3257\n",
      "Epoch 338/500\n",
      "4318/4318 [==============================] - 9s 2ms/step - loss: 2039632000.0000 - mae: 6672.4336 - val_loss: 1441357184.0000 - val_mae: 6677.9565\n",
      "Epoch 339/500\n",
      "4318/4318 [==============================] - 9s 2ms/step - loss: 2039633280.0000 - mae: 6674.4053 - val_loss: 1440713600.0000 - val_mae: 6625.1909\n",
      "Epoch 340/500\n",
      "4318/4318 [==============================] - 9s 2ms/step - loss: 2039709056.0000 - mae: 6675.9131 - val_loss: 1439680256.0000 - val_mae: 6474.1816\n",
      "Epoch 341/500\n",
      "4318/4318 [==============================] - 9s 2ms/step - loss: 2039676800.0000 - mae: 6669.8159 - val_loss: 1439706880.0000 - val_mae: 6475.2861\n",
      "Epoch 342/500\n",
      "4318/4318 [==============================] - 9s 2ms/step - loss: 2039647104.0000 - mae: 6678.5479 - val_loss: 1439559040.0000 - val_mae: 6511.6821\n",
      "Epoch 343/500\n",
      "4318/4318 [==============================] - 9s 2ms/step - loss: 2039717248.0000 - mae: 6669.8877 - val_loss: 1439513472.0000 - val_mae: 6498.3350\n",
      "Epoch 344/500\n",
      "4318/4318 [==============================] - 9s 2ms/step - loss: 2039843328.0000 - mae: 6655.7568 - val_loss: 1440527104.0000 - val_mae: 6598.1855\n",
      "Epoch 345/500\n",
      "4318/4318 [==============================] - 9s 2ms/step - loss: 2039606400.0000 - mae: 6677.0469 - val_loss: 1439493504.0000 - val_mae: 6500.5781\n",
      "Epoch 346/500\n",
      "4318/4318 [==============================] - 9s 2ms/step - loss: 2039589888.0000 - mae: 6671.8364 - val_loss: 1439925632.0000 - val_mae: 6549.8311\n",
      "Epoch 347/500\n",
      "4318/4318 [==============================] - 9s 2ms/step - loss: 2039797248.0000 - mae: 6668.0146 - val_loss: 1439608704.0000 - val_mae: 6484.2798\n",
      "Epoch 348/500\n",
      "4318/4318 [==============================] - 9s 2ms/step - loss: 2039292800.0000 - mae: 6696.6333 - val_loss: 1441609216.0000 - val_mae: 6681.3506\n",
      "Epoch 349/500\n",
      "4318/4318 [==============================] - 9s 2ms/step - loss: 2039674496.0000 - mae: 6678.9346 - val_loss: 1440355456.0000 - val_mae: 6588.0117\n",
      "Epoch 350/500\n",
      "4318/4318 [==============================] - 9s 2ms/step - loss: 2039693952.0000 - mae: 6679.5742 - val_loss: 1440110464.0000 - val_mae: 6482.4819\n",
      "Epoch 351/500\n",
      "4318/4318 [==============================] - 9s 2ms/step - loss: 2039671552.0000 - mae: 6674.8267 - val_loss: 1439450752.0000 - val_mae: 6479.6177\n",
      "Epoch 352/500\n",
      "4318/4318 [==============================] - 9s 2ms/step - loss: 2039786496.0000 - mae: 6669.3809 - val_loss: 1439538560.0000 - val_mae: 6472.4468\n",
      "Epoch 353/500\n",
      "4318/4318 [==============================] - 9s 2ms/step - loss: 2039129472.0000 - mae: 6708.1611 - val_loss: 1439604608.0000 - val_mae: 6498.9941\n",
      "Epoch 354/500\n",
      "4318/4318 [==============================] - 9s 2ms/step - loss: 2039796224.0000 - mae: 6668.8545 - val_loss: 1441545344.0000 - val_mae: 6666.3398\n",
      "Epoch 355/500\n",
      "4318/4318 [==============================] - 9s 2ms/step - loss: 2039973888.0000 - mae: 6672.1802 - val_loss: 1439802624.0000 - val_mae: 6479.1582\n",
      "Epoch 356/500\n",
      "4318/4318 [==============================] - 9s 2ms/step - loss: 2039454720.0000 - mae: 6689.9224 - val_loss: 1439779712.0000 - val_mae: 6463.3013\n",
      "Epoch 357/500\n",
      "4318/4318 [==============================] - 9s 2ms/step - loss: 2039811456.0000 - mae: 6674.0640 - val_loss: 1439610624.0000 - val_mae: 6492.8784\n",
      "Epoch 358/500\n",
      "4318/4318 [==============================] - 9s 2ms/step - loss: 2039916928.0000 - mae: 6668.6318 - val_loss: 1439522304.0000 - val_mae: 6484.9116\n",
      "Epoch 359/500\n",
      "4318/4318 [==============================] - 9s 2ms/step - loss: 2039495168.0000 - mae: 6693.7837 - val_loss: 1439487872.0000 - val_mae: 6478.6660\n",
      "Epoch 360/500\n",
      "4318/4318 [==============================] - 9s 2ms/step - loss: 2039812224.0000 - mae: 6675.0288 - val_loss: 1439715328.0000 - val_mae: 6482.0723\n",
      "Epoch 361/500\n",
      "4318/4318 [==============================] - 9s 2ms/step - loss: 2039675136.0000 - mae: 6675.9077 - val_loss: 1439591936.0000 - val_mae: 6488.3745\n",
      "Epoch 362/500\n",
      "4318/4318 [==============================] - 9s 2ms/step - loss: 2039591936.0000 - mae: 6691.3174 - val_loss: 1439488896.0000 - val_mae: 6481.6909\n",
      "Epoch 363/500\n",
      "4318/4318 [==============================] - 9s 2ms/step - loss: 2039580672.0000 - mae: 6682.4946 - val_loss: 1439662080.0000 - val_mae: 6512.4141\n",
      "Epoch 364/500\n",
      "4318/4318 [==============================] - 9s 2ms/step - loss: 2039231488.0000 - mae: 6699.0845 - val_loss: 1439518080.0000 - val_mae: 6494.7461\n",
      "Epoch 365/500\n",
      "4318/4318 [==============================] - 9s 2ms/step - loss: 2039657984.0000 - mae: 6678.3306 - val_loss: 1442096384.0000 - val_mae: 6756.8540\n",
      "Epoch 366/500\n",
      "4318/4318 [==============================] - 9s 2ms/step - loss: 2039889664.0000 - mae: 6670.7915 - val_loss: 1439537536.0000 - val_mae: 6481.8955\n",
      "Epoch 367/500\n",
      "4318/4318 [==============================] - 9s 2ms/step - loss: 2039641088.0000 - mae: 6674.7280 - val_loss: 1441385088.0000 - val_mae: 6667.8945\n",
      "Epoch 368/500\n",
      "4318/4318 [==============================] - 9s 2ms/step - loss: 2039771648.0000 - mae: 6670.3228 - val_loss: 1439828608.0000 - val_mae: 6536.4614\n",
      "Epoch 369/500\n",
      "4318/4318 [==============================] - 9s 2ms/step - loss: 2039699072.0000 - mae: 6684.1382 - val_loss: 1439554432.0000 - val_mae: 6485.9575\n",
      "Epoch 370/500\n",
      "4318/4318 [==============================] - 9s 2ms/step - loss: 2039613824.0000 - mae: 6688.4717 - val_loss: 1439596928.0000 - val_mae: 6503.8330\n",
      "Epoch 371/500\n",
      "4318/4318 [==============================] - 9s 2ms/step - loss: 2039608960.0000 - mae: 6667.9922 - val_loss: 1445279232.0000 - val_mae: 6943.8760\n",
      "Epoch 372/500\n",
      "4318/4318 [==============================] - 9s 2ms/step - loss: 2039688960.0000 - mae: 6688.2627 - val_loss: 1442996096.0000 - val_mae: 6832.5601\n",
      "Epoch 373/500\n",
      "4318/4318 [==============================] - 9s 2ms/step - loss: 2039519104.0000 - mae: 6692.3711 - val_loss: 1443716992.0000 - val_mae: 6844.6729\n",
      "Epoch 374/500\n",
      "4318/4318 [==============================] - 9s 2ms/step - loss: 2039635456.0000 - mae: 6692.2627 - val_loss: 1439426688.0000 - val_mae: 6485.9707\n",
      "Epoch 375/500\n",
      "4318/4318 [==============================] - 9s 2ms/step - loss: 2039591808.0000 - mae: 6684.5352 - val_loss: 1439606016.0000 - val_mae: 6502.8560\n",
      "Epoch 376/500\n",
      "4318/4318 [==============================] - 9s 2ms/step - loss: 2039438080.0000 - mae: 6700.4966 - val_loss: 1439517952.0000 - val_mae: 6494.0898\n",
      "Epoch 377/500\n",
      "4318/4318 [==============================] - 9s 2ms/step - loss: 2039527296.0000 - mae: 6691.0024 - val_loss: 1439660032.0000 - val_mae: 6524.5859\n",
      "Epoch 378/500\n",
      "4318/4318 [==============================] - 9s 2ms/step - loss: 2039639040.0000 - mae: 6697.4741 - val_loss: 1439547648.0000 - val_mae: 6481.1577\n",
      "Epoch 379/500\n",
      "4318/4318 [==============================] - 9s 2ms/step - loss: 2039563776.0000 - mae: 6685.4922 - val_loss: 1439865856.0000 - val_mae: 6540.9956\n",
      "Epoch 380/500\n",
      "4318/4318 [==============================] - 9s 2ms/step - loss: 2039812864.0000 - mae: 6695.1216 - val_loss: 1439509248.0000 - val_mae: 6505.9731\n",
      "Epoch 381/500\n",
      "4318/4318 [==============================] - 9s 2ms/step - loss: 2039394688.0000 - mae: 6699.2925 - val_loss: 1439893888.0000 - val_mae: 6552.9521\n",
      "Epoch 382/500\n",
      "4318/4318 [==============================] - 9s 2ms/step - loss: 2039625216.0000 - mae: 6688.9463 - val_loss: 1439452928.0000 - val_mae: 6503.8149\n",
      "Epoch 383/500\n",
      "4318/4318 [==============================] - 9s 2ms/step - loss: 2039661184.0000 - mae: 6695.0640 - val_loss: 1439577856.0000 - val_mae: 6511.7114\n",
      "Epoch 384/500\n",
      "4318/4318 [==============================] - 9s 2ms/step - loss: 2039562112.0000 - mae: 6700.5513 - val_loss: 1439454720.0000 - val_mae: 6492.0620\n",
      "Epoch 385/500\n",
      "4318/4318 [==============================] - 9s 2ms/step - loss: 2039267584.0000 - mae: 6693.2441 - val_loss: 1441873536.0000 - val_mae: 6732.4336\n",
      "Epoch 386/500\n",
      "4318/4318 [==============================] - 9s 2ms/step - loss: 2039752960.0000 - mae: 6699.9268 - val_loss: 1439553664.0000 - val_mae: 6508.5479\n",
      "Epoch 387/500\n",
      "4318/4318 [==============================] - 9s 2ms/step - loss: 2039676800.0000 - mae: 6700.4346 - val_loss: 1439745408.0000 - val_mae: 6541.5884\n",
      "Epoch 388/500\n",
      "4318/4318 [==============================] - 9s 2ms/step - loss: 2039502848.0000 - mae: 6698.5254 - val_loss: 1440366848.0000 - val_mae: 6619.6479\n",
      "Epoch 389/500\n",
      "4318/4318 [==============================] - 9s 2ms/step - loss: 2039614080.0000 - mae: 6697.5596 - val_loss: 1439737472.0000 - val_mae: 6492.7100\n",
      "Epoch 390/500\n",
      "4318/4318 [==============================] - 9s 2ms/step - loss: 2039576832.0000 - mae: 6699.1313 - val_loss: 1441267072.0000 - val_mae: 6675.5967\n",
      "Epoch 391/500\n",
      "4318/4318 [==============================] - 9s 2ms/step - loss: 2039692800.0000 - mae: 6696.4023 - val_loss: 1439835520.0000 - val_mae: 6511.2251\n",
      "Epoch 392/500\n",
      "4318/4318 [==============================] - 9s 2ms/step - loss: 2039721216.0000 - mae: 6688.2544 - val_loss: 1439907968.0000 - val_mae: 6491.6895\n",
      "Epoch 393/500\n",
      "4318/4318 [==============================] - 9s 2ms/step - loss: 2039261056.0000 - mae: 6712.8076 - val_loss: 1439423488.0000 - val_mae: 6504.3652\n",
      "Epoch 394/500\n",
      "4318/4318 [==============================] - 9s 2ms/step - loss: 2039266048.0000 - mae: 6691.6440 - val_loss: 1445068160.0000 - val_mae: 6956.6968\n",
      "Epoch 395/500\n",
      "4318/4318 [==============================] - 9s 2ms/step - loss: 2039732096.0000 - mae: 6705.3882 - val_loss: 1441025024.0000 - val_mae: 6683.2632\n",
      "Epoch 396/500\n",
      "4318/4318 [==============================] - 9s 2ms/step - loss: 2039633024.0000 - mae: 6699.6528 - val_loss: 1440018432.0000 - val_mae: 6575.7271\n",
      "Epoch 397/500\n",
      "4318/4318 [==============================] - 9s 2ms/step - loss: 2039462016.0000 - mae: 6711.9141 - val_loss: 1440014208.0000 - val_mae: 6586.4272\n",
      "Epoch 398/500\n",
      "4318/4318 [==============================] - 9s 2ms/step - loss: 2039644288.0000 - mae: 6691.2905 - val_loss: 1439600384.0000 - val_mae: 6503.1294\n",
      "Epoch 399/500\n",
      "4318/4318 [==============================] - 9s 2ms/step - loss: 2039647744.0000 - mae: 6695.8984 - val_loss: 1439430144.0000 - val_mae: 6494.4014\n",
      "Epoch 400/500\n",
      "4318/4318 [==============================] - 9s 2ms/step - loss: 2039563392.0000 - mae: 6699.1040 - val_loss: 1439423104.0000 - val_mae: 6505.0923\n",
      "Epoch 401/500\n",
      "4318/4318 [==============================] - 9s 2ms/step - loss: 2039522304.0000 - mae: 6709.4160 - val_loss: 1439506432.0000 - val_mae: 6487.7349\n",
      "Epoch 402/500\n",
      "4318/4318 [==============================] - 9s 2ms/step - loss: 2039624576.0000 - mae: 6689.4907 - val_loss: 1439889280.0000 - val_mae: 6492.5703\n",
      "Epoch 403/500\n",
      "4318/4318 [==============================] - 9s 2ms/step - loss: 2039497344.0000 - mae: 6700.7266 - val_loss: 1440165376.0000 - val_mae: 6493.0283\n",
      "Epoch 404/500\n",
      "4318/4318 [==============================] - 9s 2ms/step - loss: 2039660288.0000 - mae: 6687.9844 - val_loss: 1439583104.0000 - val_mae: 6504.5796\n",
      "Epoch 405/500\n",
      "4318/4318 [==============================] - 9s 2ms/step - loss: 2039447296.0000 - mae: 6708.5156 - val_loss: 1439378944.0000 - val_mae: 6499.2017\n",
      "Epoch 406/500\n",
      "4318/4318 [==============================] - 9s 2ms/step - loss: 2039607168.0000 - mae: 6696.9805 - val_loss: 1440214400.0000 - val_mae: 6605.6860\n",
      "Epoch 407/500\n",
      "4318/4318 [==============================] - 9s 2ms/step - loss: 2039706624.0000 - mae: 6690.0684 - val_loss: 1439494528.0000 - val_mae: 6524.4946\n",
      "Epoch 408/500\n",
      "4318/4318 [==============================] - 9s 2ms/step - loss: 2039480960.0000 - mae: 6701.8330 - val_loss: 1439468288.0000 - val_mae: 6506.6367\n",
      "Epoch 409/500\n",
      "4318/4318 [==============================] - 9s 2ms/step - loss: 2039662336.0000 - mae: 6694.1035 - val_loss: 1439623680.0000 - val_mae: 6488.9585\n",
      "Epoch 410/500\n",
      "4318/4318 [==============================] - 9s 2ms/step - loss: 2039378048.0000 - mae: 6711.7559 - val_loss: 1439570048.0000 - val_mae: 6496.9453\n",
      "Epoch 411/500\n",
      "4318/4318 [==============================] - 9s 2ms/step - loss: 2039498752.0000 - mae: 6698.7910 - val_loss: 1441429888.0000 - val_mae: 6737.9580\n",
      "Epoch 412/500\n",
      "4318/4318 [==============================] - 9s 2ms/step - loss: 2039630720.0000 - mae: 6701.6909 - val_loss: 1439824768.0000 - val_mae: 6564.4238\n",
      "Epoch 413/500\n",
      "4318/4318 [==============================] - 9s 2ms/step - loss: 2039609344.0000 - mae: 6696.2563 - val_loss: 1439750400.0000 - val_mae: 6548.5625\n",
      "Epoch 414/500\n",
      "4318/4318 [==============================] - 9s 2ms/step - loss: 2039576320.0000 - mae: 6696.4829 - val_loss: 1440189824.0000 - val_mae: 6616.2061\n",
      "Epoch 415/500\n",
      "4318/4318 [==============================] - 9s 2ms/step - loss: 2039526400.0000 - mae: 6705.0205 - val_loss: 1439758208.0000 - val_mae: 6539.9263\n",
      "Epoch 416/500\n",
      "4318/4318 [==============================] - 9s 2ms/step - loss: 2039522176.0000 - mae: 6693.0552 - val_loss: 1440308096.0000 - val_mae: 6611.3618\n",
      "Epoch 417/500\n",
      "4318/4318 [==============================] - 9s 2ms/step - loss: 2039464320.0000 - mae: 6707.3779 - val_loss: 1439854720.0000 - val_mae: 6563.1831\n",
      "Epoch 418/500\n",
      "4318/4318 [==============================] - 9s 2ms/step - loss: 2039446016.0000 - mae: 6704.4858 - val_loss: 1439415168.0000 - val_mae: 6500.0796\n",
      "Epoch 419/500\n",
      "4318/4318 [==============================] - 9s 2ms/step - loss: 2039628544.0000 - mae: 6693.2856 - val_loss: 1439719040.0000 - val_mae: 6563.2417\n",
      "Epoch 420/500\n",
      "4318/4318 [==============================] - 9s 2ms/step - loss: 2039616384.0000 - mae: 6693.0029 - val_loss: 1439565952.0000 - val_mae: 6502.9761\n",
      "Epoch 421/500\n",
      "4318/4318 [==============================] - 9s 2ms/step - loss: 2039610624.0000 - mae: 6694.7905 - val_loss: 1439336064.0000 - val_mae: 6498.2817\n",
      "Epoch 422/500\n",
      "4318/4318 [==============================] - 9s 2ms/step - loss: 2039666432.0000 - mae: 6699.2598 - val_loss: 1439309184.0000 - val_mae: 6499.3652\n",
      "Epoch 423/500\n",
      "4318/4318 [==============================] - 9s 2ms/step - loss: 2039266176.0000 - mae: 6719.7236 - val_loss: 1439942784.0000 - val_mae: 6497.5483\n",
      "Epoch 424/500\n",
      "4318/4318 [==============================] - 9s 2ms/step - loss: 2039462656.0000 - mae: 6702.0068 - val_loss: 1439646976.0000 - val_mae: 6498.8198\n",
      "Epoch 425/500\n",
      "4318/4318 [==============================] - 9s 2ms/step - loss: 2039469440.0000 - mae: 6697.8638 - val_loss: 1439555968.0000 - val_mae: 6539.9790\n",
      "Epoch 426/500\n",
      "4318/4318 [==============================] - 9s 2ms/step - loss: 2039520128.0000 - mae: 6699.1953 - val_loss: 1439318400.0000 - val_mae: 6511.7627\n",
      "Epoch 427/500\n",
      "4318/4318 [==============================] - 9s 2ms/step - loss: 2039405568.0000 - mae: 6705.2876 - val_loss: 1439388416.0000 - val_mae: 6511.5537\n",
      "Epoch 428/500\n",
      "4318/4318 [==============================] - 9s 2ms/step - loss: 2039418624.0000 - mae: 6701.4858 - val_loss: 1439647360.0000 - val_mae: 6496.8022\n",
      "Epoch 429/500\n",
      "4318/4318 [==============================] - 9s 2ms/step - loss: 2039517952.0000 - mae: 6699.2192 - val_loss: 1439987840.0000 - val_mae: 6588.1475\n",
      "Epoch 430/500\n",
      "4318/4318 [==============================] - 9s 2ms/step - loss: 2039491968.0000 - mae: 6700.9531 - val_loss: 1439566592.0000 - val_mae: 6495.6167\n",
      "Epoch 431/500\n",
      "4318/4318 [==============================] - 9s 2ms/step - loss: 2039568768.0000 - mae: 6698.1851 - val_loss: 1439605632.0000 - val_mae: 6508.5508\n",
      "Epoch 432/500\n",
      "4318/4318 [==============================] - 9s 2ms/step - loss: 2039481728.0000 - mae: 6699.9619 - val_loss: 1439661952.0000 - val_mae: 6500.0254\n",
      "Epoch 433/500\n",
      "4318/4318 [==============================] - 9s 2ms/step - loss: 2039536256.0000 - mae: 6695.8931 - val_loss: 1439360768.0000 - val_mae: 6498.1406\n",
      "Epoch 434/500\n",
      "4318/4318 [==============================] - 9s 2ms/step - loss: 2039291648.0000 - mae: 6706.7217 - val_loss: 1439736576.0000 - val_mae: 6506.3442\n",
      "Epoch 435/500\n",
      "4318/4318 [==============================] - 9s 2ms/step - loss: 2039424000.0000 - mae: 6702.8120 - val_loss: 1439382144.0000 - val_mae: 6495.3457\n",
      "Epoch 436/500\n",
      "4318/4318 [==============================] - 9s 2ms/step - loss: 2039228160.0000 - mae: 6712.6099 - val_loss: 1439557760.0000 - val_mae: 6524.4966\n",
      "Epoch 437/500\n",
      "4318/4318 [==============================] - 9s 2ms/step - loss: 2039507712.0000 - mae: 6707.8154 - val_loss: 1439994496.0000 - val_mae: 6574.0815\n",
      "Epoch 438/500\n",
      "4318/4318 [==============================] - 9s 2ms/step - loss: 2039392640.0000 - mae: 6708.1348 - val_loss: 1439529856.0000 - val_mae: 6548.4150\n",
      "Epoch 439/500\n",
      "4318/4318 [==============================] - 9s 2ms/step - loss: 2039347072.0000 - mae: 6710.7803 - val_loss: 1439481856.0000 - val_mae: 6500.7837\n",
      "Epoch 440/500\n",
      "4318/4318 [==============================] - 9s 2ms/step - loss: 2039300992.0000 - mae: 6714.8018 - val_loss: 1439393152.0000 - val_mae: 6522.3618\n",
      "Epoch 441/500\n",
      "4318/4318 [==============================] - 9s 2ms/step - loss: 2039554304.0000 - mae: 6704.3647 - val_loss: 1439680896.0000 - val_mae: 6504.1875\n",
      "Epoch 442/500\n",
      "4318/4318 [==============================] - 9s 2ms/step - loss: 2039401856.0000 - mae: 6698.0918 - val_loss: 1439631744.0000 - val_mae: 6505.5161\n",
      "Epoch 443/500\n",
      "4318/4318 [==============================] - 9s 2ms/step - loss: 2039456128.0000 - mae: 6700.0869 - val_loss: 1439299712.0000 - val_mae: 6511.2627\n",
      "Epoch 444/500\n",
      "4318/4318 [==============================] - 9s 2ms/step - loss: 2039400960.0000 - mae: 6700.0840 - val_loss: 1441634816.0000 - val_mae: 6719.6035\n",
      "Epoch 445/500\n",
      "4318/4318 [==============================] - 9s 2ms/step - loss: 2039450112.0000 - mae: 6700.8521 - val_loss: 1439490048.0000 - val_mae: 6545.6880\n",
      "Epoch 446/500\n",
      "4318/4318 [==============================] - 9s 2ms/step - loss: 2039369728.0000 - mae: 6703.9482 - val_loss: 1439266560.0000 - val_mae: 6514.0601\n",
      "Epoch 447/500\n",
      "4318/4318 [==============================] - 9s 2ms/step - loss: 2039199872.0000 - mae: 6712.2476 - val_loss: 1440842112.0000 - val_mae: 6661.3237\n",
      "Epoch 448/500\n",
      "4318/4318 [==============================] - 9s 2ms/step - loss: 2039361664.0000 - mae: 6701.8257 - val_loss: 1439256832.0000 - val_mae: 6499.9277\n",
      "Epoch 449/500\n",
      "4318/4318 [==============================] - 9s 2ms/step - loss: 2039393664.0000 - mae: 6698.9404 - val_loss: 1439447936.0000 - val_mae: 6549.8218\n",
      "Epoch 450/500\n",
      "4318/4318 [==============================] - 9s 2ms/step - loss: 2039428736.0000 - mae: 6699.2124 - val_loss: 1439576576.0000 - val_mae: 6493.5273\n",
      "Epoch 451/500\n",
      "4318/4318 [==============================] - 9s 2ms/step - loss: 2039459584.0000 - mae: 6693.9961 - val_loss: 1439420672.0000 - val_mae: 6523.9653\n",
      "Epoch 452/500\n",
      "4318/4318 [==============================] - 9s 2ms/step - loss: 2039300480.0000 - mae: 6707.6895 - val_loss: 1439588480.0000 - val_mae: 6525.5020\n",
      "Epoch 453/500\n",
      "4318/4318 [==============================] - 9s 2ms/step - loss: 2039269888.0000 - mae: 6715.2344 - val_loss: 1439324416.0000 - val_mae: 6496.6436\n",
      "Epoch 454/500\n",
      "4318/4318 [==============================] - 9s 2ms/step - loss: 2039391744.0000 - mae: 6697.9614 - val_loss: 1441821056.0000 - val_mae: 6763.5332\n",
      "Epoch 455/500\n",
      "4318/4318 [==============================] - 9s 2ms/step - loss: 2039090816.0000 - mae: 6718.0024 - val_loss: 1440687360.0000 - val_mae: 6690.8955\n",
      "Epoch 456/500\n",
      "4318/4318 [==============================] - 9s 2ms/step - loss: 2039452416.0000 - mae: 6702.4336 - val_loss: 1439323776.0000 - val_mae: 6502.1421\n",
      "Epoch 457/500\n",
      "4318/4318 [==============================] - 9s 2ms/step - loss: 2039366784.0000 - mae: 6706.6304 - val_loss: 1439288192.0000 - val_mae: 6514.2749\n",
      "Epoch 458/500\n",
      "4318/4318 [==============================] - 9s 2ms/step - loss: 2038841856.0000 - mae: 6749.6523 - val_loss: 1439314304.0000 - val_mae: 6532.7456\n",
      "Epoch 459/500\n",
      "4318/4318 [==============================] - 9s 2ms/step - loss: 2039220608.0000 - mae: 6703.4287 - val_loss: 1439625728.0000 - val_mae: 6525.2866\n",
      "Epoch 460/500\n",
      "4318/4318 [==============================] - 9s 2ms/step - loss: 2039307904.0000 - mae: 6706.0156 - val_loss: 1439273472.0000 - val_mae: 6529.1323\n",
      "Epoch 461/500\n",
      "4318/4318 [==============================] - 9s 2ms/step - loss: 2039045888.0000 - mae: 6721.5342 - val_loss: 1439245696.0000 - val_mae: 6525.6782\n",
      "Epoch 462/500\n",
      "4318/4318 [==============================] - 9s 2ms/step - loss: 2038981632.0000 - mae: 6717.2593 - val_loss: 1439383552.0000 - val_mae: 6516.1904\n",
      "Epoch 463/500\n",
      "4318/4318 [==============================] - 9s 2ms/step - loss: 2039203968.0000 - mae: 6711.6177 - val_loss: 1439263360.0000 - val_mae: 6502.4766\n",
      "Epoch 464/500\n",
      "4318/4318 [==============================] - 9s 2ms/step - loss: 2039220864.0000 - mae: 6704.0332 - val_loss: 1439445760.0000 - val_mae: 6515.4414\n",
      "Epoch 465/500\n",
      "4318/4318 [==============================] - 9s 2ms/step - loss: 2039205120.0000 - mae: 6708.1216 - val_loss: 1439396224.0000 - val_mae: 6521.0273\n",
      "Epoch 466/500\n",
      "4318/4318 [==============================] - 9s 2ms/step - loss: 2039264768.0000 - mae: 6710.4912 - val_loss: 1439410944.0000 - val_mae: 6558.2183\n",
      "Epoch 467/500\n",
      "4318/4318 [==============================] - 9s 2ms/step - loss: 2039292288.0000 - mae: 6710.3691 - val_loss: 1439189632.0000 - val_mae: 6525.0537\n",
      "Epoch 468/500\n",
      "4318/4318 [==============================] - 9s 2ms/step - loss: 2039315456.0000 - mae: 6703.1099 - val_loss: 1439162624.0000 - val_mae: 6512.3364\n",
      "Epoch 469/500\n",
      "4318/4318 [==============================] - 9s 2ms/step - loss: 2039323392.0000 - mae: 6699.8833 - val_loss: 1439133824.0000 - val_mae: 6512.4482\n",
      "Epoch 470/500\n",
      "4318/4318 [==============================] - 9s 2ms/step - loss: 2039262336.0000 - mae: 6705.3389 - val_loss: 1439459072.0000 - val_mae: 6562.6636\n",
      "Epoch 471/500\n",
      "4318/4318 [==============================] - 9s 2ms/step - loss: 2039246464.0000 - mae: 6703.1079 - val_loss: 1439697024.0000 - val_mae: 6501.3188\n",
      "Epoch 472/500\n",
      "4318/4318 [==============================] - 9s 2ms/step - loss: 2039244160.0000 - mae: 6700.9321 - val_loss: 1439354752.0000 - val_mae: 6536.2759\n",
      "Epoch 473/500\n",
      "4318/4318 [==============================] - 9s 2ms/step - loss: 2039332736.0000 - mae: 6700.0830 - val_loss: 1439236224.0000 - val_mae: 6523.4697\n",
      "Epoch 474/500\n",
      "4318/4318 [==============================] - 9s 2ms/step - loss: 2039087744.0000 - mae: 6717.8267 - val_loss: 1439294080.0000 - val_mae: 6523.5986\n",
      "Epoch 475/500\n",
      "4318/4318 [==============================] - 9s 2ms/step - loss: 2039120512.0000 - mae: 6712.5908 - val_loss: 1439153280.0000 - val_mae: 6523.0371\n",
      "Epoch 476/500\n",
      "4318/4318 [==============================] - 9s 2ms/step - loss: 2038921856.0000 - mae: 6727.7329 - val_loss: 1439458816.0000 - val_mae: 6508.1240\n",
      "Epoch 477/500\n",
      "4318/4318 [==============================] - 9s 2ms/step - loss: 2039106560.0000 - mae: 6705.7056 - val_loss: 1439220864.0000 - val_mae: 6534.9111\n",
      "Epoch 478/500\n",
      "4318/4318 [==============================] - 9s 2ms/step - loss: 2039121920.0000 - mae: 6707.9180 - val_loss: 1439255296.0000 - val_mae: 6526.4541\n",
      "Epoch 479/500\n",
      "4318/4318 [==============================] - 9s 2ms/step - loss: 2039049344.0000 - mae: 6718.5850 - val_loss: 1439473920.0000 - val_mae: 6507.0093\n",
      "Epoch 480/500\n",
      "4318/4318 [==============================] - 9s 2ms/step - loss: 2039200640.0000 - mae: 6701.8794 - val_loss: 1439137408.0000 - val_mae: 6529.1250\n",
      "Epoch 481/500\n",
      "4318/4318 [==============================] - 9s 2ms/step - loss: 2039141248.0000 - mae: 6709.8398 - val_loss: 1439751680.0000 - val_mae: 6499.4873\n",
      "Epoch 482/500\n",
      "4318/4318 [==============================] - 9s 2ms/step - loss: 2039191168.0000 - mae: 6702.1831 - val_loss: 1439275264.0000 - val_mae: 6559.3672\n",
      "Epoch 483/500\n",
      "4318/4318 [==============================] - 9s 2ms/step - loss: 2038896128.0000 - mae: 6718.9688 - val_loss: 1439143424.0000 - val_mae: 6504.7261\n",
      "Epoch 484/500\n",
      "4318/4318 [==============================] - 9s 2ms/step - loss: 2038938240.0000 - mae: 6707.5801 - val_loss: 1444146560.0000 - val_mae: 6986.4961\n",
      "Epoch 485/500\n",
      "4318/4318 [==============================] - 9s 2ms/step - loss: 2039004160.0000 - mae: 6732.6528 - val_loss: 1439718784.0000 - val_mae: 6506.3540\n",
      "Epoch 486/500\n",
      "4318/4318 [==============================] - 9s 2ms/step - loss: 2039240576.0000 - mae: 6701.6836 - val_loss: 1440082560.0000 - val_mae: 6622.9287\n",
      "Epoch 487/500\n",
      "4318/4318 [==============================] - 9s 2ms/step - loss: 2039029120.0000 - mae: 6710.5107 - val_loss: 1439108992.0000 - val_mae: 6538.7002\n",
      "Epoch 488/500\n",
      "4318/4318 [==============================] - 9s 2ms/step - loss: 2038743296.0000 - mae: 6725.9453 - val_loss: 1439434112.0000 - val_mae: 6506.1719\n",
      "Epoch 489/500\n",
      "4318/4318 [==============================] - 9s 2ms/step - loss: 2039060224.0000 - mae: 6710.5063 - val_loss: 1439063296.0000 - val_mae: 6512.7856\n",
      "Epoch 490/500\n",
      "4318/4318 [==============================] - 9s 2ms/step - loss: 2039044224.0000 - mae: 6714.7852 - val_loss: 1439031552.0000 - val_mae: 6515.9019\n",
      "Epoch 491/500\n",
      "4318/4318 [==============================] - 9s 2ms/step - loss: 2039115008.0000 - mae: 6699.4644 - val_loss: 1439232640.0000 - val_mae: 6555.4995\n",
      "Epoch 492/500\n",
      "4318/4318 [==============================] - 9s 2ms/step - loss: 2038922752.0000 - mae: 6708.9478 - val_loss: 1439443712.0000 - val_mae: 6502.1846\n",
      "Epoch 493/500\n",
      "4318/4318 [==============================] - 9s 2ms/step - loss: 2039029504.0000 - mae: 6711.4102 - val_loss: 1439114880.0000 - val_mae: 6501.8994\n",
      "Epoch 494/500\n",
      "4318/4318 [==============================] - 9s 2ms/step - loss: 2038824960.0000 - mae: 6715.4023 - val_loss: 1439128832.0000 - val_mae: 6506.4888\n",
      "Epoch 495/500\n",
      "4318/4318 [==============================] - 9s 2ms/step - loss: 2039008000.0000 - mae: 6699.1265 - val_loss: 1439223424.0000 - val_mae: 6534.7041\n",
      "Epoch 496/500\n",
      "4318/4318 [==============================] - 9s 2ms/step - loss: 2038952704.0000 - mae: 6705.5015 - val_loss: 1438958592.0000 - val_mae: 6524.5596\n",
      "Epoch 497/500\n",
      "4318/4318 [==============================] - 9s 2ms/step - loss: 2038735872.0000 - mae: 6714.3257 - val_loss: 1440054784.0000 - val_mae: 6512.8926\n",
      "Epoch 498/500\n",
      "4318/4318 [==============================] - 9s 2ms/step - loss: 2039097984.0000 - mae: 6710.9336 - val_loss: 1439059200.0000 - val_mae: 6498.6494\n",
      "Epoch 499/500\n",
      "4318/4318 [==============================] - 9s 2ms/step - loss: 2038884864.0000 - mae: 6705.6270 - val_loss: 1440253952.0000 - val_mae: 6673.8022\n",
      "Epoch 500/500\n",
      "4318/4318 [==============================] - 9s 2ms/step - loss: 2038991232.0000 - mae: 6701.4038 - val_loss: 1438946944.0000 - val_mae: 6530.2246\n"
     ]
    }
   ],
   "source": [
    "history = ann.fit(X_train, y_train,\n",
    "                    validation_data = (X_val, y_val),\n",
    "                    #callbacks=[es],\n",
    "                    epochs=500,\n",
    "                    batch_size=50,\n",
    "                    verbose=1)"
   ]
  },
  {
   "cell_type": "markdown",
   "metadata": {
    "colab_type": "text",
    "id": "0H0zKKNEBLD5"
   },
   "source": [
    "### Analyse learn history"
   ]
  },
  {
   "cell_type": "code",
   "execution_count": 23,
   "metadata": {
    "ExecuteTime": {
     "end_time": "2023-08-06T06:32:57.146229600Z",
     "start_time": "2023-08-06T06:32:56.956621600Z"
    }
   },
   "outputs": [
    {
     "data": {
      "text/plain": "<Figure size 640x480 with 1 Axes>",
      "image/png": "[encoded data removed]"
     },
     "metadata": {},
     "output_type": "display_data"
    }
   ],
   "source": [
    "# let's see the training and validation accuracy by epoch\n",
    "history_dict = history.history\n",
    "loss_values = history_dict['loss'] # you can change this\n",
    "val_loss_values = history_dict['val_loss'] # you can also change this\n",
    "epochs = range(1, len(loss_values) + 1) # range of X (no. of epochs)\n",
    "plt.plot(epochs, loss_values, 'blue', label='Train set loss')\n",
    "plt.plot(epochs, val_loss_values, 'orange', label='Validation set loss')\n",
    "#plt.title('Training and testing loss')\n",
    "plt.xlabel('Epochs')\n",
    "plt.ylabel('Loss (MSE)')\n",
    "plt.legend()\n",
    "plt.show()"
   ]
  },
  {
   "cell_type": "code",
   "execution_count": 24,
   "metadata": {
    "ExecuteTime": {
     "end_time": "2023-08-06T06:33:00.202002Z",
     "start_time": "2023-08-06T06:33:00.029493Z"
    }
   },
   "outputs": [
    {
     "data": {
      "text/plain": "<Figure size 640x480 with 1 Axes>",
      "image/png": "[encoded data removed]"
     },
     "metadata": {},
     "output_type": "display_data"
    }
   ],
   "source": [
    "loss_values1 = history_dict['mae'] # you can change this\n",
    "val_loss_values1 = history_dict['val_mae'] # you can also change this\n",
    "epochs = range(1, len(loss_values1) + 1) # range of X (no. of epochs)\n",
    "plt.plot(epochs, loss_values1, 'blue', label='Train set MAE')\n",
    "plt.plot(epochs, val_loss_values1, 'orange', label='Validation set MAE')\n",
    "#plt.title('Training and testing MAE')\n",
    "plt.xlabel('Epochs')\n",
    "plt.ylabel('MAE')\n",
    "plt.legend()\n",
    "plt.show()"
   ]
  },
  {
   "cell_type": "code",
   "execution_count": 18,
   "metadata": {},
   "outputs": [
    {
     "name": "stdout",
     "output_type": "stream",
     "text": [
      "range(1, 387)\n"
     ]
    }
   ],
   "source": [
    "print (epochs)"
   ]
  },
  {
   "cell_type": "markdown",
   "metadata": {},
   "source": [
    "### Save the model"
   ]
  },
  {
   "cell_type": "code",
   "execution_count": 23,
   "metadata": {},
   "outputs": [],
   "source": [
    "ann.save('Profile_ANN_model_1.h5')"
   ]
  },
  {
   "cell_type": "markdown",
   "metadata": {},
   "source": [
    "## Part 5 - Make predictions"
   ]
  },
  {
   "cell_type": "code",
   "execution_count": 9,
   "metadata": {},
   "outputs": [],
   "source": [
    "ann = load_model('Profile_ANN_model_1.h5')"
   ]
  },
  {
   "cell_type": "code",
   "execution_count": 22,
   "metadata": {},
   "outputs": [
    {
     "name": "stdout",
     "output_type": "stream",
     "text": [
      "47226/47226 [==============================] - 45s 925us/step\n",
      "10120/10120 [==============================] - 8s 816us/step\n"
     ]
    },
    {
     "data": {
      "image/png": "[encoded data removed]",
      "text/plain": [
       "<Figure size 432x288 with 2 Axes>"
      ]
     },
     "metadata": {
      "needs_background": "light"
     },
     "output_type": "display_data"
    }
   ],
   "source": [
    "# scatterplot of actual vs. pred\n",
    "# specify the dimensions \n",
    "fig, axes = plt.subplots(1,2) # 1 row, 2 columns\n",
    "\n",
    "# this makes the individual subplots\n",
    "# Training Results\n",
    "axes[0].scatter(x=y_train, y=ann.predict(X_train)) #first row, first entry (left top)\n",
    "axes[0].set_xlabel(\"Actual\", fontsize=10)\n",
    "axes[0].set_ylabel(\"Predicted\",  fontsize=10)\n",
    "axes[0].set_title(\"Training\")\n",
    "# add 45 deg line\n",
    "x = np.linspace(*axes[0].get_xlim())\n",
    "axes[0].plot(x, x, color='red')\n",
    "# Validation Results\n",
    "axes[1].scatter(x=y_val, y=ann.predict(X_val)) # first row, second entry (right top)\n",
    "axes[1].set_xlabel(\"Actual\", fontsize=10)\n",
    "axes[1].set_ylabel(\"Predicted\",  fontsize=10)\n",
    "axes[1].set_title(\"Validation\")\n",
    "# add 45 deg line\n",
    "x = np.linspace(*axes[1].get_xlim())\n",
    "axes[1].plot(x, x, color='red')\n",
    "\n",
    "# tight layout\n",
    "fig.tight_layout()\n",
    "\n",
    "# show the plot\n",
    "plt.show()"
   ]
  },
  {
   "cell_type": "code",
   "execution_count": 21,
   "metadata": {
    "colab": {
     "base_uri": "https://localhost:8080/",
     "height": 134
    },
    "colab_type": "code",
    "id": "IA0yApEmBG1X",
    "outputId": "cb981e1f-9204-4a2a-fece-9d66a6919189"
   },
   "outputs": [
    {
     "name": "stdout",
     "output_type": "stream",
     "text": [
      "3/3 [==============================] - 0s 2ms/step\n",
      "[[0.1  0.1 ]\n",
      " [0.07 0.07]\n",
      " [0.1  0.1 ]\n",
      " [0.04 0.03]\n",
      " [0.05 0.04]\n",
      " [0.06 0.06]\n",
      " [0.11 0.11]\n",
      " [0.09 0.09]\n",
      " [0.04 0.04]\n",
      " [0.11 0.11]\n",
      " [0.06 0.06]\n",
      " [0.06 0.06]\n",
      " [0.07 0.07]\n",
      " [0.11 0.11]\n",
      " [0.09 0.09]\n",
      " [0.04 0.04]\n",
      " [0.08 0.08]\n",
      " [0.05 0.05]\n",
      " [0.09 0.09]\n",
      " [0.06 0.06]\n",
      " [0.03 0.03]\n",
      " [0.03 0.03]\n",
      " [0.1  0.1 ]\n",
      " [0.12 0.12]\n",
      " [0.03 0.02]\n",
      " [0.08 0.08]\n",
      " [0.04 0.04]\n",
      " [0.04 0.04]\n",
      " [0.11 0.11]\n",
      " [0.1  0.1 ]\n",
      " [0.06 0.06]\n",
      " [0.07 0.07]\n",
      " [0.04 0.04]\n",
      " [0.09 0.08]\n",
      " [0.06 0.05]\n",
      " [0.1  0.1 ]\n",
      " [0.1  0.1 ]\n",
      " [0.06 0.06]\n",
      " [0.05 0.05]\n",
      " [0.04 0.04]\n",
      " [0.09 0.09]\n",
      " [0.1  0.1 ]\n",
      " [0.07 0.07]\n",
      " [0.07 0.07]\n",
      " [0.06 0.06]\n",
      " [0.06 0.06]\n",
      " [0.07 0.07]\n",
      " [0.05 0.05]\n",
      " [0.08 0.08]\n",
      " [0.09 0.09]\n",
      " [0.04 0.04]\n",
      " [0.04 0.04]\n",
      " [0.04 0.04]\n",
      " [0.1  0.1 ]\n",
      " [0.06 0.05]\n",
      " [0.12 0.12]\n",
      " [0.11 0.11]\n",
      " [0.11 0.11]\n",
      " [0.06 0.06]\n",
      " [0.08 0.08]\n",
      " [0.04 0.04]\n",
      " [0.05 0.05]\n",
      " [0.1  0.1 ]\n",
      " [0.04 0.04]\n",
      " [0.09 0.09]\n",
      " [0.1  0.1 ]\n",
      " [0.11 0.11]\n",
      " [0.08 0.08]\n",
      " [0.04 0.05]\n",
      " [0.1  0.1 ]\n",
      " [0.08 0.08]\n",
      " [0.11 0.11]\n",
      " [0.1  0.1 ]\n",
      " [0.11 0.12]\n",
      " [0.1  0.1 ]\n",
      " [0.05 0.05]\n",
      " [0.11 0.11]\n",
      " [0.11 0.11]\n",
      " [0.08 0.08]\n",
      " [0.08 0.08]\n",
      " [0.05 0.05]\n",
      " [0.07 0.07]\n",
      " [0.08 0.08]\n",
      " [0.1  0.1 ]\n",
      " [0.04 0.04]\n",
      " [0.04 0.04]\n",
      " [0.07 0.07]]\n"
     ]
    }
   ],
   "source": [
    "#X_test=np.asarray(X_test).astype(np.int)\n",
    "\n",
    "#y_test=np.asarray(y_test).astype(np.int)\n",
    "\n",
    "y_pred = ann.predict(X_test)\n",
    "np.set_printoptions(precision=2)\n",
    "print(np.concatenate((y_pred.reshape(len(y_pred),1), y_test.reshape(len(y_test),1)),1))"
   ]
  },
  {
   "cell_type": "code",
   "execution_count": 22,
   "metadata": {},
   "outputs": [
    {
     "data": {
      "text/plain": [
       "Text(0, 0.5, 'Predicted data')"
      ]
     },
     "execution_count": 22,
     "metadata": {},
     "output_type": "execute_result"
    },
    {
     "data": {
      "image/png": "[encoded data removed]",
      "text/plain": [
       "<Figure size 432x288 with 1 Axes>"
      ]
     },
     "metadata": {
      "needs_background": "light"
     },
     "output_type": "display_data"
    }
   ],
   "source": [
    "import matplotlib.pyplot as plt\n",
    "plt.scatter(y_test, y_pred, color=\"blue\")\n",
    "plt.plot ([0,0.13],[0,0.13], color = \"red\")\n",
    "plt.axis ([0,0.13,0,0.13])\n",
    "plt.xlabel ('Actual data')\n",
    "plt.ylabel ('Predicted data')"
   ]
  },
  {
   "cell_type": "code",
   "execution_count": 23,
   "metadata": {},
   "outputs": [
    {
     "data": {
      "image/png": "[encoded data removed]",
      "text/plain": [
       "<Figure size 648x648 with 1 Axes>"
      ]
     },
     "metadata": {
      "needs_background": "light"
     },
     "output_type": "display_data"
    }
   ],
   "source": [
    "from sklearn.metrics import r2_score\n",
    "# Initialize layout\n",
    "fig1, ax1 = plt.subplots(figsize = (9, 9))\n",
    "\n",
    "\n",
    "#y = y_pred         # Model on prvious line is called here\n",
    "#x = y_test\n",
    "\n",
    "\n",
    "\n",
    "# Add scatterplot\n",
    "ax1.scatter(y_test, y_pred, s=70, alpha=1, edgecolors=\"k\",c='mediumblue',zorder=5, label = 'Points')\n",
    "\n",
    "\n",
    "plt.ylabel('Predicted Peak Incident Pressure (kPa)',fontsize = 25)\n",
    "plt.xlabel('Actual Peak Incident Pressure (kPa)',fontsize = 25)\n",
    "plt.xticks(fontsize = 19)\n",
    "plt.yticks(fontsize = 19)\n",
    "\n",
    "\n",
    "x1 = np.linspace(0,0.13)\n",
    "\n",
    "plt.plot(x1, x1, 'Red', label='45\\N{DEGREE SIGN} line',lw=2.5,alpha=1)\n",
    "plt.plot(x1, 1.1*x1, '--m', label='\\u00B110% Error',lw=2.5,alpha=0.7)\n",
    "plt.plot(x1, 0.9*x1,'m', linestyle='--',lw=2.5,alpha=0.7)\n",
    "plt.plot(x1, 1.2*x1, '-.g', label='\\u00B120% Error',lw=2.5,alpha=0.7)\n",
    "plt.plot(x1, 0.8*x1,'-.g',lw=2.5,alpha=0.7)\n",
    "\n",
    "plt.ylim(0, 0.13)\n",
    "plt.xlim(0, 0.13)\n",
    "plt.legend(loc='upper left',fontsize = 25)\n",
    "\n",
    "plt.grid()\n",
    "\n",
    "ax1.spines['left'].set_color('black')        # setting up Y-axis tick color to red\n",
    "ax1.spines['bottom'].set_color('black')         #setting up above X-axis tick color to red\n",
    "\n",
    "\n",
    "\n",
    "#ax1.annotate(\"$R^2$ = {:.3f}\".format(r2), (2500, 1000),fontsize = 25)  #Model is called here\n",
    "#ax1.annotate(\"Adj.$R^2$ = {:.3f}\".format(adj_r2), (2500, 750),fontsize = 25)\n",
    "\n",
    "#plt.savefig('plot1.png', dpi = 600, bbox_inches = 'tight')"
   ]
  },
  {
   "cell_type": "code",
   "execution_count": 24,
   "metadata": {},
   "outputs": [
    {
     "name": "stdout",
     "output_type": "stream",
     "text": [
      "13/13 [==============================] - 0s 2ms/step\n",
      "0.0015360867585725738\n",
      "0.0017091962027872966\n"
     ]
    }
   ],
   "source": [
    "# metrics\n",
    "\n",
    "\n",
    "trainpreds = ann.predict(X_train)\n",
    "\n",
    "from sklearn.metrics import mean_absolute_error\n",
    "print(mean_absolute_error(y_train, trainpreds)) # train\n",
    "print(mean_absolute_error(y_test, y_pred)) # test"
   ]
  },
  {
   "cell_type": "code",
   "execution_count": 25,
   "metadata": {},
   "outputs": [
    {
     "name": "stdout",
     "output_type": "stream",
     "text": [
      "0.9935515869956414\n"
     ]
    }
   ],
   "source": [
    "from sklearn.metrics import r2_score\n",
    "r2 = r2_score(y_test, y_pred)\n",
    "print (r2)"
   ]
  },
  {
   "cell_type": "code",
   "execution_count": 26,
   "metadata": {},
   "outputs": [
    {
     "name": "stdout",
     "output_type": "stream",
     "text": [
      "0.9945304083939845\n"
     ]
    }
   ],
   "source": [
    "r2_train = r2_score(y_train, trainpreds)\n",
    "print (r2_train)"
   ]
  },
  {
   "cell_type": "code",
   "execution_count": 27,
   "metadata": {},
   "outputs": [
    {
     "name": "stdout",
     "output_type": "stream",
     "text": [
      "Within 10% margin 94.25%\n",
      "Within 20% margin 98.85%\n",
      "Out of 20% margin 1.15%\n"
     ]
    }
   ],
   "source": [
    "count1 = 0\n",
    "for i in range(len(y_pred)):\n",
    "    line1 = y_pred[i] - 0.9*y_test[i]\n",
    "    line2 = y_pred[i] - 1.1*y_test[i]\n",
    "    #print ('line 1 ', line1)\n",
    "    #print ('line 2 ', line2)\n",
    "    mask1 = (line1 > 0) & (line2 < 0)\n",
    "    #print (mask)\n",
    "    count1 = np.sum(mask1+count1)\n",
    "    #print (count)\n",
    "\n",
    "count2 = 0\n",
    "for j in range(len(y_pred)):\n",
    "    line3 = y_pred[j] - 0.8*y_test[j]\n",
    "    line4 = y_pred[j] - 1.2*y_test[j]\n",
    "    mask2 = (line3 > 0) & (line4 < 0)\n",
    "    count2 = np.sum(mask2+count2)\n",
    "\n",
    "\n",
    "count3 = 0    \n",
    "for k in range(len(y_pred)):\n",
    "    line5 = y_pred[k] - 0.8*y_test[k]\n",
    "    line6 = y_pred[k] - 1.2*y_test[k]\n",
    "    mask3 = (line5 < 0) or (line6 > 0)\n",
    "    count3 = np.sum(mask3+count3)\n",
    "   \n",
    "\n",
    "print ('Within 10% margin', format((count1/len (y_pred)),'.2%'))\n",
    "print ('Within 20% margin', format((count2/len (y_pred)),'.2%'))\n",
    "print ('Out of 20% margin', format((count3/len (y_pred)),'.2%'))"
   ]
  },
  {
   "cell_type": "code",
   "execution_count": 28,
   "metadata": {},
   "outputs": [
    {
     "name": "stdout",
     "output_type": "stream",
     "text": [
      "0.9933980533526805\n"
     ]
    }
   ],
   "source": [
    "adj_r2 = 1 - ((1 - r2) * (len(X_test) - 1) / (len(X_test) - len (X_test[0]) - 1))\n",
    "print (adj_r2)"
   ]
  },
  {
   "cell_type": "code",
   "execution_count": 29,
   "metadata": {},
   "outputs": [
    {
     "data": {
      "text/plain": [
       "0.0021378191793317578"
      ]
     },
     "execution_count": 29,
     "metadata": {},
     "output_type": "execute_result"
    }
   ],
   "source": [
    "import math\n",
    "from sklearn.metrics import mean_squared_error\n",
    "\n",
    "math.sqrt(mean_squared_error(y_test, y_pred))"
   ]
  },
  {
   "cell_type": "code",
   "execution_count": 30,
   "metadata": {},
   "outputs": [
    {
     "data": {
      "text/plain": [
       "0.0017091962027872966"
      ]
     },
     "execution_count": 30,
     "metadata": {},
     "output_type": "execute_result"
    }
   ],
   "source": [
    "from sklearn.metrics import mean_absolute_error\n",
    "\n",
    "mean_absolute_error(y_test, y_pred)"
   ]
  }
 ],
 "metadata": {
  "colab": {
   "collapsed_sections": [],
   "name": "Artificial Neural Network",
   "provenance": [],
   "toc_visible": true
  },
  "kernelspec": {
   "display_name": "Python 3 (ipykernel)",
   "language": "python",
   "name": "python3"
  },
  "language_info": {
   "codemirror_mode": {
    "name": "ipython",
    "version": 3
   },
   "file_extension": ".py",
   "mimetype": "text/x-python",
   "name": "python",
   "nbconvert_exporter": "python",
   "pygments_lexer": "ipython3",
   "version": "3.9.7"
  }
 },
 "nbformat": 4,
 "nbformat_minor": 4
}
