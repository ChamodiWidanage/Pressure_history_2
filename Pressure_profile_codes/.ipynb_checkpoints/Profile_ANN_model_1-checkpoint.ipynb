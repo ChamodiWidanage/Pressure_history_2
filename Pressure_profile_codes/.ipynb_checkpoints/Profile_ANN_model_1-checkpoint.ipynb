{
 "cells": [
  {
   "cell_type": "markdown",
   "metadata": {
    "colab_type": "text",
    "id": "3cbb7fRy-eyr"
   },
   "source": [
    "# Artificial Neural Network"
   ]
  },
  {
   "cell_type": "markdown",
   "metadata": {
    "colab_type": "text",
    "id": "8sNDnxE2-pwE"
   },
   "source": [
    "## Part 1 - Importing the libraries"
   ]
  },
  {
   "cell_type": "code",
   "execution_count": 1,
   "metadata": {
    "colab": {},
    "colab_type": "code",
    "id": "lxChR1Rk-umf"
   },
   "outputs": [],
   "source": [
    "import numpy as np\n",
    "import pandas as pd\n",
    "import tensorflow as tf\n",
    "import matplotlib.pyplot as plt\n",
    "from keras.models import load_model\n",
    "from pathlib import Path"
   ]
  },
  {
   "cell_type": "markdown",
   "metadata": {
    "colab_type": "text",
    "id": "AG3FQEch-yuA"
   },
   "source": [
    "## Part 2 - Data Preprocessing"
   ]
  },
  {
   "cell_type": "markdown",
   "metadata": {
    "colab_type": "text",
    "id": "-4zq8Mza_D9O"
   },
   "source": [
    "### Importing the dataset"
   ]
  },
  {
   "cell_type": "code",
   "execution_count": 2,
   "metadata": {},
   "outputs": [
    {
     "name": "stdout",
     "output_type": "stream",
     "text": [
      "input Pressure_profiles\n",
      "2 [WindowsPath('Pressure_profiles/.ipynb_checkpoints'), WindowsPath('Pressure_profiles/L13_1'), WindowsPath('Pressure_profiles/L13_11'), WindowsPath('Pressure_profiles/L13_13'), WindowsPath('Pressure_profiles/L13_15'), WindowsPath('Pressure_profiles/L13_17'), WindowsPath('Pressure_profiles/L13_19'), WindowsPath('Pressure_profiles/L13_21'), WindowsPath('Pressure_profiles/L13_23'), WindowsPath('Pressure_profiles/L13_25'), WindowsPath('Pressure_profiles/L13_27'), WindowsPath('Pressure_profiles/L13_29'), WindowsPath('Pressure_profiles/L13_3'), WindowsPath('Pressure_profiles/L13_31'), WindowsPath('Pressure_profiles/L13_33'), WindowsPath('Pressure_profiles/L13_35'), WindowsPath('Pressure_profiles/L13_37'), WindowsPath('Pressure_profiles/L13_39'), WindowsPath('Pressure_profiles/L13_41'), WindowsPath('Pressure_profiles/L13_43'), WindowsPath('Pressure_profiles/L13_45'), WindowsPath('Pressure_profiles/L13_47'), WindowsPath('Pressure_profiles/L13_49'), WindowsPath('Pressure_profiles/L13_5'), WindowsPath('Pressure_profiles/L13_51'), WindowsPath('Pressure_profiles/L13_53'), WindowsPath('Pressure_profiles/L13_55'), WindowsPath('Pressure_profiles/L13_57'), WindowsPath('Pressure_profiles/L13_59'), WindowsPath('Pressure_profiles/L13_61'), WindowsPath('Pressure_profiles/L13_63'), WindowsPath('Pressure_profiles/L13_65'), WindowsPath('Pressure_profiles/L13_67'), WindowsPath('Pressure_profiles/L13_69'), WindowsPath('Pressure_profiles/L13_7'), WindowsPath('Pressure_profiles/L13_70'), WindowsPath('Pressure_profiles/L13_9')]\n"
     ]
    }
   ],
   "source": [
    "#Access input folder\n",
    "input_dir1 = Path (\"Pressure_profiles\")\n",
    "print (\"input\",input_dir1)\n",
    "\n",
    "#Access folders inside input folder\n",
    "input_dir2 =  [folder for folder in input_dir1.iterdir() if folder.is_dir()]\n",
    "print (\"2\",input_dir2)"
   ]
  },
  {
   "cell_type": "code",
   "execution_count": 3,
   "metadata": {},
   "outputs": [],
   "source": [
    "# Access each folder inside input folder\n",
    "dataset = pd.DataFrame(columns = ['Charge_mass', 'Standoff_distance', 'Time', 'Pressure'])\n",
    "df_list = []\n",
    "for folder in input_dir2:\n",
    "    \n",
    "    # Make a list of data file names\n",
    "    files = list(folder.rglob(\"*.xlsx\"))\n",
    "    \n",
    "    for file in files:\n",
    "        df_list.append(pd.read_excel(file))\n",
    "\n",
    "dataset = pd.concat(df_list, ignore_index = True)"
   ]
  },
  {
   "cell_type": "code",
   "execution_count": 4,
   "metadata": {
    "colab": {},
    "colab_type": "code",
    "id": "B9CV13Co_HHM"
   },
   "outputs": [
    {
     "name": "stdout",
     "output_type": "stream",
     "text": [
      "<class 'pandas.core.frame.DataFrame'>\n",
      "RangeIndex: 2158876 entries, 0 to 2158875\n",
      "Data columns (total 4 columns):\n",
      " #   Column             Dtype  \n",
      "---  ------             -----  \n",
      " 0   Charge_mass        float64\n",
      " 1   Standoff_distance  int64  \n",
      " 2   Time               float64\n",
      " 3   Pressure           float64\n",
      "dtypes: float64(3), int64(1)\n",
      "memory usage: 65.9 MB\n"
     ]
    }
   ],
   "source": [
    "dataset.info()"
   ]
  },
  {
   "cell_type": "code",
   "execution_count": 5,
   "metadata": {},
   "outputs": [
    {
     "name": "stdout",
     "output_type": "stream",
     "text": [
      "(2158876, 3) (2158876,)\n"
     ]
    }
   ],
   "source": [
    "y = dataset['Pressure']\n",
    "X = dataset.drop(['Pressure'], axis=1)\n",
    "print(X.shape, y.shape)"
   ]
  },
  {
   "cell_type": "code",
   "execution_count": 6,
   "metadata": {},
   "outputs": [],
   "source": [
    "# convert to numpy array\n",
    "X = np.array(X)\n",
    "y = np.array(y)"
   ]
  },
  {
   "cell_type": "markdown",
   "metadata": {
    "colab_type": "text",
    "id": "VC6omXel_Up0"
   },
   "source": [
    "### Splitting the dataset into the Training set and Test set"
   ]
  },
  {
   "cell_type": "code",
   "execution_count": 7,
   "metadata": {
    "colab": {},
    "colab_type": "code",
    "id": "L5edeb2r_agx"
   },
   "outputs": [],
   "source": [
    "from sklearn.model_selection import train_test_split\n",
    "X_train, X_test, y_train, y_test = train_test_split(X,\n",
    "                                                    y,\n",
    "                                                    test_size = 0.3,\n",
    "                                                    random_state = 0)"
   ]
  },
  {
   "cell_type": "code",
   "execution_count": 8,
   "metadata": {
    "colab": {},
    "colab_type": "code",
    "id": "L5edeb2r_agx"
   },
   "outputs": [],
   "source": [
    "X_val, X_test, y_val, y_test = train_test_split(X_test,\n",
    "                                                y_test,\n",
    "                                                test_size = 0.5,\n",
    "                                                random_state = 0)"
   ]
  },
  {
   "cell_type": "markdown",
   "metadata": {
    "colab_type": "text",
    "id": "_mSLlAT9_eyI"
   },
   "source": [
    "## Part 3 - Building the ANN"
   ]
  },
  {
   "cell_type": "markdown",
   "metadata": {
    "colab_type": "text",
    "id": "CsBULd_f_wLY"
   },
   "source": [
    "### Initializing the ANN"
   ]
  },
  {
   "cell_type": "code",
   "execution_count": 10,
   "metadata": {
    "colab": {},
    "colab_type": "code",
    "id": "J6Hd97Ls__Nz"
   },
   "outputs": [],
   "source": [
    "ann = tf.keras.models.Sequential()"
   ]
  },
  {
   "cell_type": "markdown",
   "metadata": {
    "colab_type": "text",
    "id": "iitAFJS_ABUn"
   },
   "source": [
    "### Adding the input layer and the first hidden layer"
   ]
  },
  {
   "cell_type": "code",
   "execution_count": 11,
   "metadata": {
    "colab": {},
    "colab_type": "code",
    "id": "ksO_Vv40AHix"
   },
   "outputs": [],
   "source": [
    "ann.add(tf.keras.layers.Dense(units=10,\n",
    "                              input_shape=(X_train.shape[1],),\n",
    "                              activation='relu'))"
   ]
  },
  {
   "cell_type": "markdown",
   "metadata": {
    "colab_type": "text",
    "id": "-lb4kK_wAKbs"
   },
   "source": [
    "### Adding the second hidden layer"
   ]
  },
  {
   "cell_type": "code",
   "execution_count": 12,
   "metadata": {
    "colab": {},
    "colab_type": "code",
    "id": "c2357OqEAQOQ",
    "tags": []
   },
   "outputs": [],
   "source": [
    "ann.add(tf.keras.layers.Dense(units=8,\n",
    "                              activation='relu'))"
   ]
  },
  {
   "cell_type": "markdown",
   "metadata": {
    "colab_type": "text",
    "id": "-lb4kK_wAKbs"
   },
   "source": [
    "### Adding the third hidden layer"
   ]
  },
  {
   "cell_type": "code",
   "execution_count": 13,
   "metadata": {
    "colab": {},
    "colab_type": "code",
    "id": "c2357OqEAQOQ",
    "tags": []
   },
   "outputs": [],
   "source": [
    "ann.add(tf.keras.layers.Dense(units=5,\n",
    "                              activation='relu'))"
   ]
  },
  {
   "cell_type": "markdown",
   "metadata": {
    "colab_type": "text",
    "id": "jwMOmKb3AdBY"
   },
   "source": [
    "### Adding the output layer"
   ]
  },
  {
   "cell_type": "code",
   "execution_count": 14,
   "metadata": {
    "colab": {},
    "colab_type": "code",
    "id": "YFATpzsUAkLL"
   },
   "outputs": [],
   "source": [
    "ann.add(tf.keras.layers.Dense(units=1,\n",
    "                              activation='linear'))"
   ]
  },
  {
   "cell_type": "markdown",
   "metadata": {},
   "source": [
    "### what model looks like"
   ]
  },
  {
   "cell_type": "code",
   "execution_count": 15,
   "metadata": {},
   "outputs": [
    {
     "name": "stdout",
     "output_type": "stream",
     "text": [
      "Model: \"sequential_1\"\n",
      "_________________________________________________________________\n",
      " Layer (type)                Output Shape              Param #   \n",
      "=================================================================\n",
      " dense (Dense)               (None, 10)                40        \n",
      "                                                                 \n",
      " dense_1 (Dense)             (None, 8)                 88        \n",
      "                                                                 \n",
      " dense_2 (Dense)             (None, 5)                 45        \n",
      "                                                                 \n",
      " dense_3 (Dense)             (None, 1)                 6         \n",
      "                                                                 \n",
      "=================================================================\n",
      "Total params: 179\n",
      "Trainable params: 179\n",
      "Non-trainable params: 0\n",
      "_________________________________________________________________\n"
     ]
    }
   ],
   "source": [
    "ann.summary()"
   ]
  },
  {
   "cell_type": "markdown",
   "metadata": {
    "colab_type": "text",
    "id": "fq7e4fF6A1yy"
   },
   "source": [
    "## Part 4 - Training the ANN"
   ]
  },
  {
   "cell_type": "markdown",
   "metadata": {
    "colab_type": "text",
    "id": "qDeylAs2An25"
   },
   "source": [
    "### Compiling the ANN"
   ]
  },
  {
   "cell_type": "code",
   "execution_count": 16,
   "metadata": {
    "colab": {},
    "colab_type": "code",
    "id": "pesgbWlCAtB4"
   },
   "outputs": [],
   "source": [
    "from tensorflow.keras.optimizers import Adam\n",
    "opt = Adam(learning_rate=0.001)\n",
    "ann.compile(optimizer = opt,\n",
    "            loss = 'mean_squared_error',\n",
    "            metrics = ['mae'])"
   ]
  },
  {
   "cell_type": "markdown",
   "metadata": {},
   "source": [
    "### early stopping callback"
   ]
  },
  {
   "cell_type": "code",
   "execution_count": 17,
   "metadata": {},
   "outputs": [],
   "source": [
    "# protects from unnecessary further training of the model if a particular metric does not continue to improve over a number of n epochs. In such a case, the model training would be automatically aborted.\n",
    "from keras.callbacks import EarlyStopping\n",
    "es = EarlyStopping(monitor='val_loss',\n",
    "                   mode='min',\n",
    "                   patience=50,\n",
    "                   restore_best_weights = True)"
   ]
  },
  {
   "cell_type": "markdown",
   "metadata": {
    "colab_type": "text",
    "id": "YjVuiybYOo7r"
   },
   "source": [
    "### Training the ANN model on the Training set"
   ]
  },
  {
   "cell_type": "code",
   "execution_count": 18,
   "metadata": {
    "colab": {
     "base_uri": "https://localhost:8080/",
     "height": 1000
    },
    "colab_type": "code",
    "id": "c_vV-tiiA5zn",
    "outputId": "4a2b6ee6-ed75-4698-9069-b250e613803f"
   },
   "outputs": [
    {
     "name": "stdout",
     "output_type": "stream",
     "text": [
      "Epoch 1/500\n",
      "30225/30225 [==============================] - 40s 1ms/step - loss: 12344529920.0000 - mae: 100862.7109 - val_loss: 11734756352.0000 - val_mae: 100694.4766\n",
      "Epoch 2/500\n",
      "30225/30225 [==============================] - 40s 1ms/step - loss: 12338522112.0000 - mae: 100832.6562 - val_loss: 11728698368.0000 - val_mae: 100664.1250\n",
      "Epoch 3/500\n",
      "30225/30225 [==============================] - 40s 1ms/step - loss: 12332368896.0000 - mae: 100802.3438 - val_loss: 11722657792.0000 - val_mae: 100634.2734\n",
      "Epoch 4/500\n",
      "30225/30225 [==============================] - 40s 1ms/step - loss: 12326293504.0000 - mae: 100772.1797 - val_loss: 11716590592.0000 - val_mae: 100604.2344\n",
      "Epoch 5/500\n",
      "30225/30225 [==============================] - 40s 1ms/step - loss: 12320172032.0000 - mae: 100741.7891 - val_loss: 11710487552.0000 - val_mae: 100573.7500\n",
      "Epoch 6/500\n",
      "30225/30225 [==============================] - 40s 1ms/step - loss: 12314219520.0000 - mae: 100711.7578 - val_loss: 11704441856.0000 - val_mae: 100543.6328\n",
      "Epoch 7/500\n",
      "30225/30225 [==============================] - 41s 1ms/step - loss: 12308050944.0000 - mae: 100681.6094 - val_loss: 11698377728.0000 - val_mae: 100513.7031\n",
      "Epoch 8/500\n",
      "30225/30225 [==============================] - 39s 1ms/step - loss: 12301945856.0000 - mae: 100651.3281 - val_loss: 11692319744.0000 - val_mae: 100483.5234\n",
      "Epoch 9/500\n",
      "30225/30225 [==============================] - 40s 1ms/step - loss: 12295942144.0000 - mae: 100622.0234 - val_loss: 11686224896.0000 - val_mae: 100453.1250\n",
      "Epoch 10/500\n",
      "30225/30225 [==============================] - 40s 1ms/step - loss: 12289831936.0000 - mae: 100591.3906 - val_loss: 11680164864.0000 - val_mae: 100422.9688\n",
      "Epoch 11/500\n",
      "30225/30225 [==============================] - 40s 1ms/step - loss: 12283739136.0000 - mae: 100560.7031 - val_loss: 11674107904.0000 - val_mae: 100393.0156\n",
      "Epoch 12/500\n",
      "30225/30225 [==============================] - 40s 1ms/step - loss: 12277708800.0000 - mae: 100530.2734 - val_loss: 11668068352.0000 - val_mae: 100362.7734\n",
      "Epoch 13/500\n",
      "30225/30225 [==============================] - 40s 1ms/step - loss: 12271618048.0000 - mae: 100500.6719 - val_loss: 11662017536.0000 - val_mae: 100332.3594\n",
      "Epoch 14/500\n",
      "30225/30225 [==============================] - 41s 1ms/step - loss: 12265564160.0000 - mae: 100470.7969 - val_loss: 11655913472.0000 - val_mae: 100302.3750\n",
      "Epoch 15/500\n",
      "30225/30225 [==============================] - 40s 1ms/step - loss: 12259425280.0000 - mae: 100440.5156 - val_loss: 11649864704.0000 - val_mae: 100272.3203\n",
      "Epoch 16/500\n",
      "30225/30225 [==============================] - 40s 1ms/step - loss: 12253398016.0000 - mae: 100409.8203 - val_loss: 11643814912.0000 - val_mae: 100242.0625\n",
      "Epoch 17/500\n",
      "30225/30225 [==============================] - 40s 1ms/step - loss: 12247374848.0000 - mae: 100379.9766 - val_loss: 11637765120.0000 - val_mae: 100211.7344\n",
      "Epoch 18/500\n",
      "30225/30225 [==============================] - 42s 1ms/step - loss: 12241381376.0000 - mae: 100349.7344 - val_loss: 11631795200.0000 - val_mae: 100182.3281\n",
      "Epoch 19/500\n",
      "30225/30225 [==============================] - 40s 1ms/step - loss: 12235375616.0000 - mae: 100320.5312 - val_loss: 11625860096.0000 - val_mae: 100152.6172\n",
      "Epoch 20/500\n",
      "30225/30225 [==============================] - 41s 1ms/step - loss: 12229406720.0000 - mae: 100290.8594 - val_loss: 11619904512.0000 - val_mae: 100122.7109\n",
      "Epoch 21/500\n",
      "30225/30225 [==============================] - 43s 1ms/step - loss: 12223382528.0000 - mae: 100260.7031 - val_loss: 11613949952.0000 - val_mae: 100093.0078\n",
      "Epoch 22/500\n",
      "30225/30225 [==============================] - 40s 1ms/step - loss: 12217493504.0000 - mae: 100231.1562 - val_loss: 11607976960.0000 - val_mae: 100063.5781\n",
      "Epoch 23/500\n",
      "30225/30225 [==============================] - 38s 1ms/step - loss: 12211517440.0000 - mae: 100201.8047 - val_loss: 11602006016.0000 - val_mae: 100033.8750\n",
      "Epoch 24/500\n",
      "30225/30225 [==============================] - 40s 1ms/step - loss: 12205595648.0000 - mae: 100171.7500 - val_loss: 11596071936.0000 - val_mae: 100004.0156\n",
      "Epoch 25/500\n",
      "30225/30225 [==============================] - 40s 1ms/step - loss: 12199635968.0000 - mae: 100141.7812 - val_loss: 11590117376.0000 - val_mae: 99974.4453\n",
      "Epoch 26/500\n",
      "30225/30225 [==============================] - 40s 1ms/step - loss: 12193608704.0000 - mae: 100112.6016 - val_loss: 11584178176.0000 - val_mae: 99944.7500\n",
      "Epoch 27/500\n",
      "30225/30225 [==============================] - 39s 1ms/step - loss: 12187676672.0000 - mae: 100083.1406 - val_loss: 11578231808.0000 - val_mae: 99915.0625\n",
      "Epoch 28/500\n",
      "30225/30225 [==============================] - 39s 1ms/step - loss: 12181713920.0000 - mae: 100053.3203 - val_loss: 11572320256.0000 - val_mae: 99885.1016\n",
      "Epoch 29/500\n",
      "30225/30225 [==============================] - 39s 1ms/step - loss: 12175807488.0000 - mae: 100023.7344 - val_loss: 11566355456.0000 - val_mae: 99855.8359\n",
      "Epoch 30/500\n",
      "30225/30225 [==============================] - 40s 1ms/step - loss: 12169863168.0000 - mae: 99993.8203 - val_loss: 11560422400.0000 - val_mae: 99826.1719\n",
      "Epoch 31/500\n",
      "30225/30225 [==============================] - 39s 1ms/step - loss: 12163868672.0000 - mae: 99963.9297 - val_loss: 11554484224.0000 - val_mae: 99796.2500\n",
      "Epoch 32/500\n",
      "30225/30225 [==============================] - 39s 1ms/step - loss: 12157907968.0000 - mae: 99934.4062 - val_loss: 11548550144.0000 - val_mae: 99766.5781\n",
      "Epoch 33/500\n",
      "30225/30225 [==============================] - 39s 1ms/step - loss: 12151954432.0000 - mae: 99904.5156 - val_loss: 11542616064.0000 - val_mae: 99737.1406\n",
      "Epoch 34/500\n",
      "30225/30225 [==============================] - 40s 1ms/step - loss: 12146017280.0000 - mae: 99875.1797 - val_loss: 11536656384.0000 - val_mae: 99707.4219\n",
      "Epoch 35/500\n",
      "30225/30225 [==============================] - 41s 1ms/step - loss: 12140088320.0000 - mae: 99844.9766 - val_loss: 11530712064.0000 - val_mae: 99677.6953\n",
      "Epoch 36/500\n",
      "30225/30225 [==============================] - 38s 1ms/step - loss: 12134205440.0000 - mae: 99816.0156 - val_loss: 11524846592.0000 - val_mae: 99648.2188\n",
      "Epoch 37/500\n",
      "30225/30225 [==============================] - 38s 1ms/step - loss: 12128312320.0000 - mae: 99785.9766 - val_loss: 11518958592.0000 - val_mae: 99618.7734\n",
      "Epoch 38/500\n",
      "30225/30225 [==============================] - 38s 1ms/step - loss: 12122439680.0000 - mae: 99756.9062 - val_loss: 11513049088.0000 - val_mae: 99589.1641\n",
      "Epoch 39/500\n",
      "30225/30225 [==============================] - 38s 1ms/step - loss: 12116505600.0000 - mae: 99727.7344 - val_loss: 11507154944.0000 - val_mae: 99559.4062\n",
      "Epoch 40/500\n",
      "30225/30225 [==============================] - 38s 1ms/step - loss: 12110587904.0000 - mae: 99697.2344 - val_loss: 11501274112.0000 - val_mae: 99530.1875\n",
      "Epoch 41/500\n",
      "30225/30225 [==============================] - 39s 1ms/step - loss: 12104598528.0000 - mae: 99668.3672 - val_loss: 11495388160.0000 - val_mae: 99500.7422\n",
      "Epoch 42/500\n",
      "30225/30225 [==============================] - 39s 1ms/step - loss: 12098752512.0000 - mae: 99638.6016 - val_loss: 11489478656.0000 - val_mae: 99471.0000\n",
      "Epoch 43/500\n",
      "30225/30225 [==============================] - 38s 1ms/step - loss: 12092925952.0000 - mae: 99609.1719 - val_loss: 11483578368.0000 - val_mae: 99441.3750\n",
      "Epoch 44/500\n",
      "30225/30225 [==============================] - 39s 1ms/step - loss: 12086923264.0000 - mae: 99579.2891 - val_loss: 11477670912.0000 - val_mae: 99412.0859\n",
      "Epoch 45/500\n",
      "30225/30225 [==============================] - 40s 1ms/step - loss: 12081094656.0000 - mae: 99549.7422 - val_loss: 11471797248.0000 - val_mae: 99382.5547\n",
      "Epoch 46/500\n",
      "30225/30225 [==============================] - 38s 1ms/step - loss: 12075134976.0000 - mae: 99520.8125 - val_loss: 11465913344.0000 - val_mae: 99352.6641\n",
      "Epoch 47/500\n",
      "30225/30225 [==============================] - 38s 1ms/step - loss: 12069244928.0000 - mae: 99490.9844 - val_loss: 11460031488.0000 - val_mae: 99323.4297\n",
      "Epoch 48/500\n",
      "30225/30225 [==============================] - 38s 1ms/step - loss: 12063392768.0000 - mae: 99461.4531 - val_loss: 11454132224.0000 - val_mae: 99293.9062\n",
      "Epoch 49/500\n",
      "30225/30225 [==============================] - 38s 1ms/step - loss: 12057512960.0000 - mae: 99431.7656 - val_loss: 11448268800.0000 - val_mae: 99264.2188\n",
      "Epoch 50/500\n",
      "30225/30225 [==============================] - 38s 1ms/step - loss: 12051592192.0000 - mae: 99402.9141 - val_loss: 11442382848.0000 - val_mae: 99234.6719\n",
      "Epoch 51/500\n",
      "30225/30225 [==============================] - 38s 1ms/step - loss: 12045702144.0000 - mae: 99372.7656 - val_loss: 11436522496.0000 - val_mae: 99205.4531\n",
      "Epoch 52/500\n",
      "30225/30225 [==============================] - 37s 1ms/step - loss: 12039804928.0000 - mae: 99343.4297 - val_loss: 11430656000.0000 - val_mae: 99175.8438\n",
      "Epoch 53/500\n",
      "30225/30225 [==============================] - 37s 1ms/step - loss: 12033922048.0000 - mae: 99313.7422 - val_loss: 11424775168.0000 - val_mae: 99146.1484\n",
      "Epoch 54/500\n",
      "30225/30225 [==============================] - 36s 1ms/step - loss: 12028097536.0000 - mae: 99284.3828 - val_loss: 11418902528.0000 - val_mae: 99116.7031\n",
      "Epoch 55/500\n",
      "30225/30225 [==============================] - 37s 1ms/step - loss: 12022172672.0000 - mae: 99254.5312 - val_loss: 11413032960.0000 - val_mae: 99087.3047\n",
      "Epoch 56/500\n",
      "30225/30225 [==============================] - 37s 1ms/step - loss: 12016308224.0000 - mae: 99225.2266 - val_loss: 11407176704.0000 - val_mae: 99057.6172\n",
      "Epoch 57/500\n",
      "30225/30225 [==============================] - 37s 1ms/step - loss: 12010428416.0000 - mae: 99196.0625 - val_loss: 11401280512.0000 - val_mae: 99027.8984\n",
      "Epoch 58/500\n",
      "30225/30225 [==============================] - 37s 1ms/step - loss: 12004549632.0000 - mae: 99166.3750 - val_loss: 11395404800.0000 - val_mae: 98998.7734\n",
      "Epoch 59/500\n",
      "30225/30225 [==============================] - 36s 1ms/step - loss: 11998631936.0000 - mae: 99136.8438 - val_loss: 11389541376.0000 - val_mae: 98969.2500\n",
      "Epoch 60/500\n",
      "30225/30225 [==============================] - 43s 1ms/step - loss: 11992777728.0000 - mae: 99107.5625 - val_loss: 11383695360.0000 - val_mae: 98939.4688\n",
      "Epoch 61/500\n",
      "30225/30225 [==============================] - 41s 1ms/step - loss: 11986928640.0000 - mae: 99077.6875 - val_loss: 11377824768.0000 - val_mae: 98909.9609\n",
      "Epoch 62/500\n",
      "30225/30225 [==============================] - 49s 2ms/step - loss: 11981127680.0000 - mae: 99048.3672 - val_loss: 11371967488.0000 - val_mae: 98880.6016\n",
      "Epoch 63/500\n",
      "30225/30225 [==============================] - 41s 1ms/step - loss: 11975198720.0000 - mae: 99018.3984 - val_loss: 11366113280.0000 - val_mae: 98851.1016\n",
      "Epoch 64/500\n",
      "30225/30225 [==============================] - 41s 1ms/step - loss: 11969359872.0000 - mae: 98988.9219 - val_loss: 11360265216.0000 - val_mae: 98821.3125\n",
      "Epoch 65/500\n",
      "30225/30225 [==============================] - 42s 1ms/step - loss: 11963426816.0000 - mae: 98959.6719 - val_loss: 11354411008.0000 - val_mae: 98792.0234\n",
      "Epoch 66/500\n",
      "30225/30225 [==============================] - 41s 1ms/step - loss: 11957676032.0000 - mae: 98930.7422 - val_loss: 11348564992.0000 - val_mae: 98762.4688\n",
      "Epoch 67/500\n",
      "30225/30225 [==============================] - 42s 1ms/step - loss: 11951711232.0000 - mae: 98900.4375 - val_loss: 11342724096.0000 - val_mae: 98732.9375\n",
      "Epoch 68/500\n",
      "30225/30225 [==============================] - 43s 1ms/step - loss: 11945900032.0000 - mae: 98871.1172 - val_loss: 11336868864.0000 - val_mae: 98703.3047\n",
      "Epoch 69/500\n",
      "30225/30225 [==============================] - 42s 1ms/step - loss: 11940064256.0000 - mae: 98841.2344 - val_loss: 11331022848.0000 - val_mae: 98674.0312\n",
      "Epoch 70/500\n",
      "30225/30225 [==============================] - 42s 1ms/step - loss: 11934178304.0000 - mae: 98812.1875 - val_loss: 11325191168.0000 - val_mae: 98644.6953\n",
      "Epoch 71/500\n",
      "30225/30225 [==============================] - 43s 1ms/step - loss: 11928361984.0000 - mae: 98782.6562 - val_loss: 11319380992.0000 - val_mae: 98615.0391\n",
      "Epoch 72/500\n",
      "30225/30225 [==============================] - 42s 1ms/step - loss: 11922541568.0000 - mae: 98753.2344 - val_loss: 11313556480.0000 - val_mae: 98585.5625\n",
      "Epoch 73/500\n",
      "30225/30225 [==============================] - 42s 1ms/step - loss: 11916690432.0000 - mae: 98724.1094 - val_loss: 11307715584.0000 - val_mae: 98556.2891\n",
      "Epoch 74/500\n",
      "30225/30225 [==============================] - 43s 1ms/step - loss: 11910891520.0000 - mae: 98694.3281 - val_loss: 11301871616.0000 - val_mae: 98526.8516\n",
      "Epoch 75/500\n",
      "30225/30225 [==============================] - 43s 1ms/step - loss: 11905043456.0000 - mae: 98664.3438 - val_loss: 11296052224.0000 - val_mae: 98497.0781\n",
      "Epoch 76/500\n",
      "30225/30225 [==============================] - 41s 1ms/step - loss: 11899190272.0000 - mae: 98635.5703 - val_loss: 11290235904.0000 - val_mae: 98468.0234\n",
      "Epoch 77/500\n",
      "30225/30225 [==============================] - 37s 1ms/step - loss: 11893374976.0000 - mae: 98605.8750 - val_loss: 11284433920.0000 - val_mae: 98438.7344\n",
      "Epoch 78/500\n",
      "30225/30225 [==============================] - 37s 1ms/step - loss: 11887565824.0000 - mae: 98576.7734 - val_loss: 11278619648.0000 - val_mae: 98408.9844\n",
      "Epoch 79/500\n",
      "30225/30225 [==============================] - 46s 2ms/step - loss: 11881778176.0000 - mae: 98547.0156 - val_loss: 11272817664.0000 - val_mae: 98379.5000\n",
      "Epoch 80/500\n",
      "30225/30225 [==============================] - 42s 1ms/step - loss: 11875879936.0000 - mae: 98518.1953 - val_loss: 11267015680.0000 - val_mae: 98350.3750\n",
      "Epoch 81/500\n",
      "30225/30225 [==============================] - 42s 1ms/step - loss: 11870025728.0000 - mae: 98488.4688 - val_loss: 11261214720.0000 - val_mae: 98320.9141\n",
      "Epoch 82/500\n",
      "30225/30225 [==============================] - 43s 1ms/step - loss: 11864280064.0000 - mae: 98458.7656 - val_loss: 11255402496.0000 - val_mae: 98291.0703\n",
      "Epoch 83/500\n",
      "30225/30225 [==============================] - 43s 1ms/step - loss: 11858428928.0000 - mae: 98429.6328 - val_loss: 11249591296.0000 - val_mae: 98261.8984\n",
      "Epoch 84/500\n",
      "30225/30225 [==============================] - 46s 2ms/step - loss: 11852632064.0000 - mae: 98400.1875 - val_loss: 11243782144.0000 - val_mae: 98232.6172\n",
      "Epoch 85/500\n",
      "30225/30225 [==============================] - 45s 1ms/step - loss: 11846805504.0000 - mae: 98370.6406 - val_loss: 11237968896.0000 - val_mae: 98202.9844\n",
      "Epoch 86/500\n",
      "30225/30225 [==============================] - 44s 1ms/step - loss: 11841003520.0000 - mae: 98341.3672 - val_loss: 11232174080.0000 - val_mae: 98173.5000\n",
      "Epoch 87/500\n",
      "30225/30225 [==============================] - 46s 2ms/step - loss: 11835235328.0000 - mae: 98311.8047 - val_loss: 11226368000.0000 - val_mae: 98144.4375\n",
      "Epoch 88/500\n",
      "30225/30225 [==============================] - 45s 1ms/step - loss: 11829412864.0000 - mae: 98282.4453 - val_loss: 11220559872.0000 - val_mae: 98114.8750\n",
      "Epoch 89/500\n",
      "30225/30225 [==============================] - 45s 1ms/step - loss: 11823569920.0000 - mae: 98252.8906 - val_loss: 11214770176.0000 - val_mae: 98085.2656\n",
      "Epoch 90/500\n",
      "30225/30225 [==============================] - 44s 1ms/step - loss: 11817834496.0000 - mae: 98223.7188 - val_loss: 11208977408.0000 - val_mae: 98055.9141\n",
      "Epoch 91/500\n",
      "30225/30225 [==============================] - 44s 1ms/step - loss: 11812017152.0000 - mae: 98193.8516 - val_loss: 11203177472.0000 - val_mae: 98026.6328\n",
      "Epoch 92/500\n",
      "30225/30225 [==============================] - 49s 2ms/step - loss: 11806183424.0000 - mae: 98164.6719 - val_loss: 11197400064.0000 - val_mae: 97997.0625\n",
      "Epoch 93/500\n",
      "30225/30225 [==============================] - 44s 1ms/step - loss: 11800351744.0000 - mae: 98135.1094 - val_loss: 11191622656.0000 - val_mae: 97967.5234\n",
      "Epoch 94/500\n",
      "30225/30225 [==============================] - 45s 1ms/step - loss: 11794539520.0000 - mae: 98105.8594 - val_loss: 11185840128.0000 - val_mae: 97938.3125\n",
      "Epoch 95/500\n",
      "30225/30225 [==============================] - 45s 1ms/step - loss: 11788787712.0000 - mae: 98076.5078 - val_loss: 11180068864.0000 - val_mae: 97909.0391\n",
      "Epoch 96/500\n",
      "30225/30225 [==============================] - 44s 1ms/step - loss: 11782993920.0000 - mae: 98046.6016 - val_loss: 11174299648.0000 - val_mae: 97879.4141\n",
      "Epoch 97/500\n",
      "30225/30225 [==============================] - 44s 1ms/step - loss: 11777252352.0000 - mae: 98017.4453 - val_loss: 11168503808.0000 - val_mae: 97849.9453\n",
      "Epoch 98/500\n",
      "30225/30225 [==============================] - 45s 1ms/step - loss: 11771410432.0000 - mae: 97987.6406 - val_loss: 11162705920.0000 - val_mae: 97820.6406\n",
      "Epoch 99/500\n",
      "30225/30225 [==============================] - 44s 1ms/step - loss: 11765654528.0000 - mae: 97958.6641 - val_loss: 11156913152.0000 - val_mae: 97791.2188\n",
      "Epoch 100/500\n",
      "30225/30225 [==============================] - 44s 1ms/step - loss: 11759891456.0000 - mae: 97929.3047 - val_loss: 11151144960.0000 - val_mae: 97761.4922\n",
      "Epoch 101/500\n",
      "30225/30225 [==============================] - 44s 1ms/step - loss: 11754087424.0000 - mae: 97899.5781 - val_loss: 11145367552.0000 - val_mae: 97732.3047\n",
      "Epoch 102/500\n",
      "30225/30225 [==============================] - 46s 2ms/step - loss: 11748261888.0000 - mae: 97870.2188 - val_loss: 11139582976.0000 - val_mae: 97702.9766\n",
      "Epoch 103/500\n",
      "30225/30225 [==============================] - 44s 1ms/step - loss: 11742497792.0000 - mae: 97840.9297 - val_loss: 11133817856.0000 - val_mae: 97673.4297\n",
      "Epoch 104/500\n",
      "30225/30225 [==============================] - 52s 2ms/step - loss: 11736733696.0000 - mae: 97811.1172 - val_loss: 11128050688.0000 - val_mae: 97643.9766\n",
      "Epoch 105/500\n",
      "30225/30225 [==============================] - 49s 2ms/step - loss: 11730978816.0000 - mae: 97781.6953 - val_loss: 11122273280.0000 - val_mae: 97614.7734\n",
      "Epoch 106/500\n",
      "30225/30225 [==============================] - 43s 1ms/step - loss: 11725194240.0000 - mae: 97752.4219 - val_loss: 11116507136.0000 - val_mae: 97585.3359\n",
      "Epoch 107/500\n",
      "30225/30225 [==============================] - 44s 1ms/step - loss: 11719362560.0000 - mae: 97723.0938 - val_loss: 11110755328.0000 - val_mae: 97555.6406\n",
      "Epoch 108/500\n",
      "30225/30225 [==============================] - 44s 1ms/step - loss: 11713615872.0000 - mae: 97693.6719 - val_loss: 11105010688.0000 - val_mae: 97526.3516\n",
      "Epoch 109/500\n",
      "30225/30225 [==============================] - 46s 2ms/step - loss: 11707894784.0000 - mae: 97664.0703 - val_loss: 11099226112.0000 - val_mae: 97497.0078\n",
      "Epoch 110/500\n",
      "30225/30225 [==============================] - 45s 1ms/step - loss: 11702078464.0000 - mae: 97635.2344 - val_loss: 11093482496.0000 - val_mae: 97467.6016\n",
      "Epoch 111/500\n",
      "30225/30225 [==============================] - 46s 2ms/step - loss: 11696319488.0000 - mae: 97605.4922 - val_loss: 11087733760.0000 - val_mae: 97437.8828\n",
      "Epoch 112/500\n",
      "30225/30225 [==============================] - 37s 1ms/step - loss: 11690598400.0000 - mae: 97576.5625 - val_loss: 11081979904.0000 - val_mae: 97408.7891\n",
      "Epoch 113/500\n",
      "30225/30225 [==============================] - 38s 1ms/step - loss: 11684757504.0000 - mae: 97546.3516 - val_loss: 11076220928.0000 - val_mae: 97379.5312\n",
      "Epoch 114/500\n",
      "30225/30225 [==============================] - 37s 1ms/step - loss: 11679031296.0000 - mae: 97517.3672 - val_loss: 11070473216.0000 - val_mae: 97349.8047\n",
      "Epoch 115/500\n",
      "30225/30225 [==============================] - 37s 1ms/step - loss: 11673242624.0000 - mae: 97487.7578 - val_loss: 11064718336.0000 - val_mae: 97320.3516\n",
      "Epoch 116/500\n",
      "30225/30225 [==============================] - 37s 1ms/step - loss: 11667485696.0000 - mae: 97458.3516 - val_loss: 11058954240.0000 - val_mae: 97291.0938\n",
      "Epoch 117/500\n",
      "30225/30225 [==============================] - 36s 1ms/step - loss: 11661774848.0000 - mae: 97429.0391 - val_loss: 11053186048.0000 - val_mae: 97261.7656\n",
      "Epoch 118/500\n",
      "30225/30225 [==============================] - 37s 1ms/step - loss: 11656014848.0000 - mae: 97399.5703 - val_loss: 11047456768.0000 - val_mae: 97231.9141\n",
      "Epoch 119/500\n",
      "30225/30225 [==============================] - 37s 1ms/step - loss: 11650278400.0000 - mae: 97370.6250 - val_loss: 11041743872.0000 - val_mae: 97202.9766\n",
      "Epoch 120/500\n",
      "30225/30225 [==============================] - 37s 1ms/step - loss: 11644470272.0000 - mae: 97340.4219 - val_loss: 11036006400.0000 - val_mae: 97173.6250\n",
      "Epoch 121/500\n",
      "30225/30225 [==============================] - 37s 1ms/step - loss: 11638703104.0000 - mae: 97311.1797 - val_loss: 11030264832.0000 - val_mae: 97143.8516\n",
      "Epoch 122/500\n",
      "30225/30225 [==============================] - 37s 1ms/step - loss: 11632991232.0000 - mae: 97281.8438 - val_loss: 11024521216.0000 - val_mae: 97114.5391\n",
      "Epoch 123/500\n",
      "30225/30225 [==============================] - 37s 1ms/step - loss: 11627207680.0000 - mae: 97252.2344 - val_loss: 11018787840.0000 - val_mae: 97085.3672\n",
      "Epoch 124/500\n",
      "30225/30225 [==============================] - 37s 1ms/step - loss: 11621537792.0000 - mae: 97223.3594 - val_loss: 11013040128.0000 - val_mae: 97055.8359\n",
      "Epoch 125/500\n",
      "30225/30225 [==============================] - 37s 1ms/step - loss: 11615806464.0000 - mae: 97192.7969 - val_loss: 11007296512.0000 - val_mae: 97026.0781\n",
      "Epoch 126/500\n",
      "30225/30225 [==============================] - 37s 1ms/step - loss: 11609995264.0000 - mae: 97164.1094 - val_loss: 11001574400.0000 - val_mae: 96997.0234\n",
      "Epoch 127/500\n",
      "30225/30225 [==============================] - 37s 1ms/step - loss: 11604235264.0000 - mae: 97134.4688 - val_loss: 10995837952.0000 - val_mae: 96967.4609\n",
      "Epoch 128/500\n",
      "30225/30225 [==============================] - 37s 1ms/step - loss: 11598558208.0000 - mae: 97105.1641 - val_loss: 10990113792.0000 - val_mae: 96938.0234\n",
      "Epoch 129/500\n",
      "30225/30225 [==============================] - 37s 1ms/step - loss: 11592813568.0000 - mae: 97076.1719 - val_loss: 10984397824.0000 - val_mae: 96908.6250\n",
      "Epoch 130/500\n",
      "30225/30225 [==============================] - 37s 1ms/step - loss: 11587080192.0000 - mae: 97046.3359 - val_loss: 10978676736.0000 - val_mae: 96879.4141\n",
      "Epoch 131/500\n",
      "30225/30225 [==============================] - 37s 1ms/step - loss: 11581333504.0000 - mae: 97017.3047 - val_loss: 10972957696.0000 - val_mae: 96849.9375\n",
      "Epoch 132/500\n",
      "30225/30225 [==============================] - 37s 1ms/step - loss: 11575648256.0000 - mae: 96987.4688 - val_loss: 10967231488.0000 - val_mae: 96820.4375\n",
      "Epoch 133/500\n",
      "30225/30225 [==============================] - 37s 1ms/step - loss: 11569882112.0000 - mae: 96958.1016 - val_loss: 10961507328.0000 - val_mae: 96790.9688\n",
      "Epoch 134/500\n",
      "30225/30225 [==============================] - 37s 1ms/step - loss: 11564197888.0000 - mae: 96928.5312 - val_loss: 10955785216.0000 - val_mae: 96761.5859\n",
      "Epoch 135/500\n",
      "30225/30225 [==============================] - 37s 1ms/step - loss: 11558401024.0000 - mae: 96899.1094 - val_loss: 10950071296.0000 - val_mae: 96732.2656\n",
      "Epoch 136/500\n",
      "30225/30225 [==============================] - 37s 1ms/step - loss: 11552746496.0000 - mae: 96870.0547 - val_loss: 10944365568.0000 - val_mae: 96702.5938\n",
      "Epoch 137/500\n",
      "30225/30225 [==============================] - 37s 1ms/step - loss: 11546985472.0000 - mae: 96840.4453 - val_loss: 10938638336.0000 - val_mae: 96673.4062\n",
      "Epoch 138/500\n",
      "30225/30225 [==============================] - 37s 1ms/step - loss: 11541264384.0000 - mae: 96810.9531 - val_loss: 10932919296.0000 - val_mae: 96644.1250\n",
      "Epoch 139/500\n",
      "30225/30225 [==============================] - 37s 1ms/step - loss: 11535561728.0000 - mae: 96780.9688 - val_loss: 10927232000.0000 - val_mae: 96614.5859\n",
      "Epoch 140/500\n",
      "30225/30225 [==============================] - 37s 1ms/step - loss: 11529873408.0000 - mae: 96752.3281 - val_loss: 10921515008.0000 - val_mae: 96585.0703\n",
      "Epoch 141/500\n",
      "30225/30225 [==============================] - 37s 1ms/step - loss: 11524101120.0000 - mae: 96722.9531 - val_loss: 10915826688.0000 - val_mae: 96555.9141\n",
      "Epoch 142/500\n",
      "30225/30225 [==============================] - 38s 1ms/step - loss: 11518460928.0000 - mae: 96693.1641 - val_loss: 10910138368.0000 - val_mae: 96526.6016\n",
      "Epoch 143/500\n",
      "30225/30225 [==============================] - 37s 1ms/step - loss: 11512732672.0000 - mae: 96664.0078 - val_loss: 10904433664.0000 - val_mae: 96496.8125\n",
      "Epoch 144/500\n",
      "30225/30225 [==============================] - 37s 1ms/step - loss: 11507001344.0000 - mae: 96635.0078 - val_loss: 10898736128.0000 - val_mae: 96467.5312\n",
      "Epoch 145/500\n",
      "30225/30225 [==============================] - 37s 1ms/step - loss: 11501307904.0000 - mae: 96605.4609 - val_loss: 10893049856.0000 - val_mae: 96438.3828\n",
      "Epoch 146/500\n",
      "30225/30225 [==============================] - 37s 1ms/step - loss: 11495604224.0000 - mae: 96576.1094 - val_loss: 10887361536.0000 - val_mae: 96408.8125\n",
      "Epoch 147/500\n",
      "30225/30225 [==============================] - 37s 1ms/step - loss: 11489901568.0000 - mae: 96546.6406 - val_loss: 10881659904.0000 - val_mae: 96379.3203\n",
      "Epoch 148/500\n",
      "30225/30225 [==============================] - 40s 1ms/step - loss: 11484190720.0000 - mae: 96517.1094 - val_loss: 10875982848.0000 - val_mae: 96350.2891\n",
      "Epoch 149/500\n",
      "30225/30225 [==============================] - 37s 1ms/step - loss: 11478566912.0000 - mae: 96488.0469 - val_loss: 10870308864.0000 - val_mae: 96320.9141\n",
      "Epoch 150/500\n",
      "30225/30225 [==============================] - 37s 1ms/step - loss: 11472803840.0000 - mae: 96458.3203 - val_loss: 10864613376.0000 - val_mae: 96291.1953\n",
      "Epoch 151/500\n",
      "30225/30225 [==============================] - 38s 1ms/step - loss: 11467105280.0000 - mae: 96428.8672 - val_loss: 10858932224.0000 - val_mae: 96261.8906\n",
      "Epoch 152/500\n",
      "30225/30225 [==============================] - 38s 1ms/step - loss: 11461425152.0000 - mae: 96399.8203 - val_loss: 10853236736.0000 - val_mae: 96232.6719\n",
      "Epoch 153/500\n",
      "30225/30225 [==============================] - 38s 1ms/step - loss: 11455740928.0000 - mae: 96370.1562 - val_loss: 10847592448.0000 - val_mae: 96203.1641\n",
      "Epoch 154/500\n",
      "30225/30225 [==============================] - 37s 1ms/step - loss: 11450051584.0000 - mae: 96340.7969 - val_loss: 10841910272.0000 - val_mae: 96173.5000\n",
      "Epoch 155/500\n",
      "30225/30225 [==============================] - 38s 1ms/step - loss: 11444332544.0000 - mae: 96311.3438 - val_loss: 10836217856.0000 - val_mae: 96144.5312\n",
      "Epoch 156/500\n",
      "30225/30225 [==============================] - 38s 1ms/step - loss: 11438667776.0000 - mae: 96281.9062 - val_loss: 10830543872.0000 - val_mae: 96115.2969\n",
      "Epoch 157/500\n",
      "30225/30225 [==============================] - 38s 1ms/step - loss: 11433023488.0000 - mae: 96253.0469 - val_loss: 10824871936.0000 - val_mae: 96085.5000\n",
      "Epoch 158/500\n",
      "30225/30225 [==============================] - 38s 1ms/step - loss: 11427355648.0000 - mae: 96223.1250 - val_loss: 10819204096.0000 - val_mae: 96056.2578\n",
      "Epoch 159/500\n",
      "30225/30225 [==============================] - 38s 1ms/step - loss: 11421685760.0000 - mae: 96193.7578 - val_loss: 10813519872.0000 - val_mae: 96026.9375\n",
      "Epoch 160/500\n",
      "30225/30225 [==============================] - 39s 1ms/step - loss: 11415976960.0000 - mae: 96164.0391 - val_loss: 10807846912.0000 - val_mae: 95997.4766\n",
      "Epoch 161/500\n",
      "30225/30225 [==============================] - 38s 1ms/step - loss: 11410301952.0000 - mae: 96135.1797 - val_loss: 10802185216.0000 - val_mae: 95967.9375\n",
      "Epoch 162/500\n",
      "30225/30225 [==============================] - 38s 1ms/step - loss: 11404613632.0000 - mae: 96105.9453 - val_loss: 10796537856.0000 - val_mae: 95938.8594\n",
      "Epoch 163/500\n",
      "30225/30225 [==============================] - 38s 1ms/step - loss: 11398915072.0000 - mae: 96076.4609 - val_loss: 10790872064.0000 - val_mae: 95909.4922\n",
      "Epoch 164/500\n",
      "30225/30225 [==============================] - 38s 1ms/step - loss: 11393309696.0000 - mae: 96046.8906 - val_loss: 10785218560.0000 - val_mae: 95879.8359\n",
      "Epoch 165/500\n",
      "30225/30225 [==============================] - 38s 1ms/step - loss: 11387584512.0000 - mae: 96017.2500 - val_loss: 10779580416.0000 - val_mae: 95850.5625\n",
      "Epoch 166/500\n",
      "30225/30225 [==============================] - 38s 1ms/step - loss: 11381948416.0000 - mae: 95988.1016 - val_loss: 10773943296.0000 - val_mae: 95821.2422\n",
      "Epoch 167/500\n",
      "30225/30225 [==============================] - 37s 1ms/step - loss: 11376274432.0000 - mae: 95958.7266 - val_loss: 10768259072.0000 - val_mae: 95791.9453\n",
      "Epoch 168/500\n",
      "30225/30225 [==============================] - 38s 1ms/step - loss: 11370644480.0000 - mae: 95929.4375 - val_loss: 10762614784.0000 - val_mae: 95762.2344\n",
      "Epoch 169/500\n",
      "30225/30225 [==============================] - 38s 1ms/step - loss: 11364969472.0000 - mae: 95899.7500 - val_loss: 10756952064.0000 - val_mae: 95733.0391\n",
      "Epoch 170/500\n",
      "30225/30225 [==============================] - 38s 1ms/step - loss: 11359272960.0000 - mae: 95870.5234 - val_loss: 10751309824.0000 - val_mae: 95703.6719\n",
      "Epoch 171/500\n",
      "30225/30225 [==============================] - 38s 1ms/step - loss: 11353640960.0000 - mae: 95841.4219 - val_loss: 10745657344.0000 - val_mae: 95674.3516\n",
      "Epoch 172/500\n",
      "30225/30225 [==============================] - 38s 1ms/step - loss: 11348020224.0000 - mae: 95812.1484 - val_loss: 10740004864.0000 - val_mae: 95644.8047\n",
      "Epoch 173/500\n",
      "30225/30225 [==============================] - 38s 1ms/step - loss: 11342287872.0000 - mae: 95782.9766 - val_loss: 10734351360.0000 - val_mae: 95615.5703\n",
      "Epoch 174/500\n",
      "30225/30225 [==============================] - 38s 1ms/step - loss: 11336693760.0000 - mae: 95752.8438 - val_loss: 10728696832.0000 - val_mae: 95586.3750\n",
      "Epoch 175/500\n",
      "30225/30225 [==============================] - 40s 1ms/step - loss: 11331023872.0000 - mae: 95723.5000 - val_loss: 10723064832.0000 - val_mae: 95556.7266\n",
      "Epoch 176/500\n",
      "30225/30225 [==============================] - 39s 1ms/step - loss: 11325373440.0000 - mae: 95694.3750 - val_loss: 10717429760.0000 - val_mae: 95527.2734\n",
      "Epoch 177/500\n",
      "30225/30225 [==============================] - 38s 1ms/step - loss: 11319755776.0000 - mae: 95664.9844 - val_loss: 10711776256.0000 - val_mae: 95498.0625\n",
      "Epoch 178/500\n",
      "30225/30225 [==============================] - 39s 1ms/step - loss: 11314111488.0000 - mae: 95635.2891 - val_loss: 10706138112.0000 - val_mae: 95468.6953\n",
      "Epoch 179/500\n",
      "30225/30225 [==============================] - 38s 1ms/step - loss: 11308474368.0000 - mae: 95606.0000 - val_loss: 10700526592.0000 - val_mae: 95439.0234\n",
      "Epoch 180/500\n",
      "30225/30225 [==============================] - 39s 1ms/step - loss: 11302812672.0000 - mae: 95577.0703 - val_loss: 10694884352.0000 - val_mae: 95409.8359\n",
      "Epoch 181/500\n",
      "30225/30225 [==============================] - 38s 1ms/step - loss: 11297164288.0000 - mae: 95547.6484 - val_loss: 10689264640.0000 - val_mae: 95380.7812\n",
      "Epoch 182/500\n",
      "30225/30225 [==============================] - 39s 1ms/step - loss: 11291495424.0000 - mae: 95517.8750 - val_loss: 10683626496.0000 - val_mae: 95351.1250\n",
      "Epoch 183/500\n",
      "30225/30225 [==============================] - 39s 1ms/step - loss: 11285900288.0000 - mae: 95488.2891 - val_loss: 10678002688.0000 - val_mae: 95321.6094\n",
      "Epoch 184/500\n",
      "30225/30225 [==============================] - 39s 1ms/step - loss: 11280264192.0000 - mae: 95459.3516 - val_loss: 10672372736.0000 - val_mae: 95292.5703\n",
      "Epoch 185/500\n",
      "30225/30225 [==============================] - 38s 1ms/step - loss: 11274599424.0000 - mae: 95429.9531 - val_loss: 10666764288.0000 - val_mae: 95263.1094\n",
      "Epoch 186/500\n",
      "30225/30225 [==============================] - 38s 1ms/step - loss: 11269022720.0000 - mae: 95400.3125 - val_loss: 10661150720.0000 - val_mae: 95233.3125\n",
      "Epoch 187/500\n",
      "30225/30225 [==============================] - 38s 1ms/step - loss: 11263347712.0000 - mae: 95371.5547 - val_loss: 10655527936.0000 - val_mae: 95204.2812\n",
      "Epoch 188/500\n",
      "30225/30225 [==============================] - 38s 1ms/step - loss: 11257759744.0000 - mae: 95341.8203 - val_loss: 10649902080.0000 - val_mae: 95175.0000\n",
      "Epoch 189/500\n",
      "30225/30225 [==============================] - 39s 1ms/step - loss: 11252080640.0000 - mae: 95312.4375 - val_loss: 10644290560.0000 - val_mae: 95145.3516\n",
      "Epoch 190/500\n",
      "30225/30225 [==============================] - 39s 1ms/step - loss: 11246438400.0000 - mae: 95283.4375 - val_loss: 10638669824.0000 - val_mae: 95116.0078\n",
      "Epoch 191/500\n",
      "30225/30225 [==============================] - 39s 1ms/step - loss: 11240819712.0000 - mae: 95253.6797 - val_loss: 10633072640.0000 - val_mae: 95086.9375\n",
      "Epoch 192/500\n",
      "30225/30225 [==============================] - 39s 1ms/step - loss: 11235272704.0000 - mae: 95224.2188 - val_loss: 10627447808.0000 - val_mae: 95057.4688\n",
      "Epoch 193/500\n",
      "30225/30225 [==============================] - 39s 1ms/step - loss: 11229597696.0000 - mae: 95194.8281 - val_loss: 10621829120.0000 - val_mae: 95027.7422\n",
      "Epoch 194/500\n",
      "30225/30225 [==============================] - 38s 1ms/step - loss: 11224000512.0000 - mae: 95165.4922 - val_loss: 10616192000.0000 - val_mae: 94998.6016\n",
      "Epoch 195/500\n",
      "30225/30225 [==============================] - 39s 1ms/step - loss: 11218373632.0000 - mae: 95136.2656 - val_loss: 10610612224.0000 - val_mae: 94969.2891\n",
      "Epoch 196/500\n",
      "30225/30225 [==============================] - 39s 1ms/step - loss: 11212732416.0000 - mae: 95106.5234 - val_loss: 10604996608.0000 - val_mae: 94939.7422\n",
      "Epoch 197/500\n",
      "30225/30225 [==============================] - 39s 1ms/step - loss: 11207134208.0000 - mae: 95077.5859 - val_loss: 10599394304.0000 - val_mae: 94910.4297\n",
      "Epoch 198/500\n",
      "30225/30225 [==============================] - 38s 1ms/step - loss: 11201577984.0000 - mae: 95047.9375 - val_loss: 10593792000.0000 - val_mae: 94881.2031\n",
      "Epoch 199/500\n",
      "30225/30225 [==============================] - 39s 1ms/step - loss: 11195952128.0000 - mae: 95018.7812 - val_loss: 10588205056.0000 - val_mae: 94851.8281\n",
      "Epoch 200/500\n",
      "30225/30225 [==============================] - 39s 1ms/step - loss: 11190338560.0000 - mae: 94989.3125 - val_loss: 10582603776.0000 - val_mae: 94822.2891\n",
      "Epoch 201/500\n",
      "30225/30225 [==============================] - 39s 1ms/step - loss: 11184715776.0000 - mae: 94959.8672 - val_loss: 10577012736.0000 - val_mae: 94792.8984\n",
      "Epoch 202/500\n",
      "30225/30225 [==============================] - 39s 1ms/step - loss: 11179109376.0000 - mae: 94929.9453 - val_loss: 10571425792.0000 - val_mae: 94763.5391\n",
      "Epoch 203/500\n",
      "30225/30225 [==============================] - 39s 1ms/step - loss: 11173517312.0000 - mae: 94901.1328 - val_loss: 10565839872.0000 - val_mae: 94734.2812\n",
      "Epoch 204/500\n",
      "30225/30225 [==============================] - 38s 1ms/step - loss: 11167900672.0000 - mae: 94871.7344 - val_loss: 10560256000.0000 - val_mae: 94704.6172\n",
      "Epoch 205/500\n",
      "30225/30225 [==============================] - 39s 1ms/step - loss: 11162319872.0000 - mae: 94841.8047 - val_loss: 10554661888.0000 - val_mae: 94675.4297\n",
      "Epoch 206/500\n",
      "30225/30225 [==============================] - 39s 1ms/step - loss: 11156699136.0000 - mae: 94812.9688 - val_loss: 10549083136.0000 - val_mae: 94646.2656\n",
      "Epoch 207/500\n",
      "30225/30225 [==============================] - 40s 1ms/step - loss: 11151109120.0000 - mae: 94783.3125 - val_loss: 10543497216.0000 - val_mae: 94616.6797\n",
      "Epoch 208/500\n",
      "30225/30225 [==============================] - 39s 1ms/step - loss: 11145531392.0000 - mae: 94754.3438 - val_loss: 10537902080.0000 - val_mae: 94587.2266\n",
      "Epoch 209/500\n",
      "30225/30225 [==============================] - 39s 1ms/step - loss: 11139838976.0000 - mae: 94724.5391 - val_loss: 10532314112.0000 - val_mae: 94558.0625\n",
      "Epoch 210/500\n",
      "30225/30225 [==============================] - 39s 1ms/step - loss: 11134319616.0000 - mae: 94695.6406 - val_loss: 10526726144.0000 - val_mae: 94528.7891\n",
      "Epoch 211/500\n",
      "30225/30225 [==============================] - 39s 1ms/step - loss: 11128739840.0000 - mae: 94665.8125 - val_loss: 10521164800.0000 - val_mae: 94498.9844\n",
      "Epoch 212/500\n",
      "30225/30225 [==============================] - 39s 1ms/step - loss: 11123162112.0000 - mae: 94636.2344 - val_loss: 10515599360.0000 - val_mae: 94469.7266\n",
      "Epoch 213/500\n",
      "30225/30225 [==============================] - 39s 1ms/step - loss: 11117640704.0000 - mae: 94607.1797 - val_loss: 10510021632.0000 - val_mae: 94440.5625\n",
      "Epoch 214/500\n",
      "30225/30225 [==============================] - 40s 1ms/step - loss: 11111951360.0000 - mae: 94577.9609 - val_loss: 10504443904.0000 - val_mae: 94410.9922\n",
      "Epoch 215/500\n",
      "30225/30225 [==============================] - 39s 1ms/step - loss: 11106397184.0000 - mae: 94548.2969 - val_loss: 10498856960.0000 - val_mae: 94381.5000\n",
      "Epoch 216/500\n",
      "30225/30225 [==============================] - 40s 1ms/step - loss: 11100828672.0000 - mae: 94518.9062 - val_loss: 10493298688.0000 - val_mae: 94352.5000\n",
      "Epoch 217/500\n",
      "30225/30225 [==============================] - 39s 1ms/step - loss: 11095307264.0000 - mae: 94489.6016 - val_loss: 10487719936.0000 - val_mae: 94323.1875\n",
      "Epoch 218/500\n",
      "30225/30225 [==============================] - 39s 1ms/step - loss: 11089672192.0000 - mae: 94459.9531 - val_loss: 10482157568.0000 - val_mae: 94293.4688\n",
      "Epoch 219/500\n",
      "30225/30225 [==============================] - 39s 1ms/step - loss: 11084118016.0000 - mae: 94430.3750 - val_loss: 10476596224.0000 - val_mae: 94264.1016\n",
      "Epoch 220/500\n",
      "30225/30225 [==============================] - 39s 1ms/step - loss: 11078518784.0000 - mae: 94401.8750 - val_loss: 10471026688.0000 - val_mae: 94234.9531\n",
      "Epoch 221/500\n",
      "30225/30225 [==============================] - 40s 1ms/step - loss: 11073010688.0000 - mae: 94372.1328 - val_loss: 10465462272.0000 - val_mae: 94205.5078\n",
      "Epoch 222/500\n",
      "30225/30225 [==============================] - 40s 1ms/step - loss: 11067394048.0000 - mae: 94342.3125 - val_loss: 10459913216.0000 - val_mae: 94175.8125\n",
      "Epoch 223/500\n",
      "30225/30225 [==============================] - 39s 1ms/step - loss: 11061849088.0000 - mae: 94313.3438 - val_loss: 10454350848.0000 - val_mae: 94146.8359\n",
      "Epoch 224/500\n",
      "30225/30225 [==============================] - 40s 1ms/step - loss: 11056267264.0000 - mae: 94284.1016 - val_loss: 10448789504.0000 - val_mae: 94117.5703\n",
      "Epoch 225/500\n",
      "30225/30225 [==============================] - 39s 1ms/step - loss: 11050689536.0000 - mae: 94255.0234 - val_loss: 10443248640.0000 - val_mae: 94087.8203\n",
      "Epoch 226/500\n",
      "30225/30225 [==============================] - 40s 1ms/step - loss: 11045142528.0000 - mae: 94225.3516 - val_loss: 10437693440.0000 - val_mae: 94058.5156\n",
      "Epoch 227/500\n",
      "30225/30225 [==============================] - 40s 1ms/step - loss: 11039536128.0000 - mae: 94195.7266 - val_loss: 10432148480.0000 - val_mae: 94029.2734\n",
      "Epoch 228/500\n",
      "30225/30225 [==============================] - 40s 1ms/step - loss: 11034038272.0000 - mae: 94166.5625 - val_loss: 10426592256.0000 - val_mae: 93999.8516\n",
      "Epoch 229/500\n",
      "30225/30225 [==============================] - 40s 1ms/step - loss: 11028497408.0000 - mae: 94137.0312 - val_loss: 10421035008.0000 - val_mae: 93970.2656\n",
      "Epoch 230/500\n",
      "30225/30225 [==============================] - 40s 1ms/step - loss: 11022937088.0000 - mae: 94107.4141 - val_loss: 10415486976.0000 - val_mae: 93941.2188\n",
      "Epoch 231/500\n",
      "30225/30225 [==============================] - 40s 1ms/step - loss: 11017398272.0000 - mae: 94078.3906 - val_loss: 10409955328.0000 - val_mae: 93911.9219\n",
      "Epoch 232/500\n",
      "30225/30225 [==============================] - 40s 1ms/step - loss: 11011844096.0000 - mae: 94049.3438 - val_loss: 10404410368.0000 - val_mae: 93882.2812\n",
      "Epoch 233/500\n",
      "30225/30225 [==============================] - 40s 1ms/step - loss: 11006216192.0000 - mae: 94019.7734 - val_loss: 10398873600.0000 - val_mae: 93852.9453\n",
      "Epoch 234/500\n",
      "30225/30225 [==============================] - 40s 1ms/step - loss: 11000743936.0000 - mae: 93990.3750 - val_loss: 10393347072.0000 - val_mae: 93823.6953\n",
      "Epoch 235/500\n",
      "30225/30225 [==============================] - 40s 1ms/step - loss: 10995159040.0000 - mae: 93960.7734 - val_loss: 10387812352.0000 - val_mae: 93794.3516\n",
      "Epoch 236/500\n",
      "30225/30225 [==============================] - 40s 1ms/step - loss: 10989622272.0000 - mae: 93931.8594 - val_loss: 10382281728.0000 - val_mae: 93764.7344\n",
      "Epoch 237/500\n",
      "30225/30225 [==============================] - 41s 1ms/step - loss: 10984072192.0000 - mae: 93902.1719 - val_loss: 10376744960.0000 - val_mae: 93735.4609\n",
      "Epoch 238/500\n",
      "30225/30225 [==============================] - 40s 1ms/step - loss: 10978481152.0000 - mae: 93872.8594 - val_loss: 10371218432.0000 - val_mae: 93706.1328\n",
      "Epoch 239/500\n",
      "30225/30225 [==============================] - 40s 1ms/step - loss: 10973010944.0000 - mae: 93843.2891 - val_loss: 10365694976.0000 - val_mae: 93676.8125\n",
      "Epoch 240/500\n",
      "30225/30225 [==============================] - 40s 1ms/step - loss: 10967484416.0000 - mae: 93813.7109 - val_loss: 10360173568.0000 - val_mae: 93647.2578\n",
      "Epoch 241/500\n",
      "30225/30225 [==============================] - 41s 1ms/step - loss: 10961856512.0000 - mae: 93784.5938 - val_loss: 10354641920.0000 - val_mae: 93618.0234\n",
      "Epoch 242/500\n",
      "30225/30225 [==============================] - 41s 1ms/step - loss: 10956395520.0000 - mae: 93755.2422 - val_loss: 10349115392.0000 - val_mae: 93588.8359\n",
      "Epoch 243/500\n",
      "30225/30225 [==============================] - 40s 1ms/step - loss: 10950843392.0000 - mae: 93726.1875 - val_loss: 10343592960.0000 - val_mae: 93559.2266\n",
      "Epoch 244/500\n",
      "30225/30225 [==============================] - 41s 1ms/step - loss: 10945323008.0000 - mae: 93696.4844 - val_loss: 10338074624.0000 - val_mae: 93529.7578\n",
      "Epoch 245/500\n",
      "30225/30225 [==============================] - 40s 1ms/step - loss: 10939808768.0000 - mae: 93667.1719 - val_loss: 10332551168.0000 - val_mae: 93500.6641\n",
      "Epoch 246/500\n",
      "30225/30225 [==============================] - 40s 1ms/step - loss: 10934223872.0000 - mae: 93637.6562 - val_loss: 10327031808.0000 - val_mae: 93471.1797\n",
      "Epoch 247/500\n",
      "30225/30225 [==============================] - 40s 1ms/step - loss: 10928718848.0000 - mae: 93608.2422 - val_loss: 10321523712.0000 - val_mae: 93441.5312\n",
      "Epoch 248/500\n",
      "30225/30225 [==============================] - 41s 1ms/step - loss: 10923201536.0000 - mae: 93578.9844 - val_loss: 10316000256.0000 - val_mae: 93412.3594\n",
      "Epoch 249/500\n",
      "30225/30225 [==============================] - 40s 1ms/step - loss: 10917655552.0000 - mae: 93549.4375 - val_loss: 10310492160.0000 - val_mae: 93383.3359\n",
      "Epoch 250/500\n",
      "30225/30225 [==============================] - 40s 1ms/step - loss: 10912199680.0000 - mae: 93520.1562 - val_loss: 10304987136.0000 - val_mae: 93353.6641\n",
      "Epoch 251/500\n",
      "30225/30225 [==============================] - 41s 1ms/step - loss: 10906677248.0000 - mae: 93490.9922 - val_loss: 10299458560.0000 - val_mae: 93324.0938\n",
      "Epoch 252/500\n",
      "30225/30225 [==============================] - 41s 1ms/step - loss: 10901105664.0000 - mae: 93461.4375 - val_loss: 10293959680.0000 - val_mae: 93295.1406\n",
      "Epoch 253/500\n",
      "30225/30225 [==============================] - 40s 1ms/step - loss: 10895638528.0000 - mae: 93432.0859 - val_loss: 10288454656.0000 - val_mae: 93265.6562\n",
      "Epoch 254/500\n",
      "30225/30225 [==============================] - 41s 1ms/step - loss: 10890101760.0000 - mae: 93402.6094 - val_loss: 10282946560.0000 - val_mae: 93235.8672\n",
      "Epoch 255/500\n",
      "30225/30225 [==============================] - 41s 1ms/step - loss: 10884599808.0000 - mae: 93373.6641 - val_loss: 10277444608.0000 - val_mae: 93206.8438\n",
      "Epoch 256/500\n",
      "30225/30225 [==============================] - 40s 1ms/step - loss: 10879077376.0000 - mae: 93344.0156 - val_loss: 10271946752.0000 - val_mae: 93177.6016\n",
      "Epoch 257/500\n",
      "30225/30225 [==============================] - 41s 1ms/step - loss: 10873594880.0000 - mae: 93314.4375 - val_loss: 10266463232.0000 - val_mae: 93148.0000\n",
      "Epoch 258/500\n",
      "30225/30225 [==============================] - 41s 1ms/step - loss: 10868093952.0000 - mae: 93285.2266 - val_loss: 10260962304.0000 - val_mae: 93118.5859\n",
      "Epoch 259/500\n",
      "30225/30225 [==============================] - 41s 1ms/step - loss: 10862588928.0000 - mae: 93255.6328 - val_loss: 10255460352.0000 - val_mae: 93089.5859\n",
      "Epoch 260/500\n",
      "30225/30225 [==============================] - 41s 1ms/step - loss: 10857051136.0000 - mae: 93226.6641 - val_loss: 10249965568.0000 - val_mae: 93060.0703\n",
      "Epoch 261/500\n",
      "30225/30225 [==============================] - 41s 1ms/step - loss: 10851571712.0000 - mae: 93196.7734 - val_loss: 10244463616.0000 - val_mae: 93030.3828\n",
      "Epoch 262/500\n",
      "30225/30225 [==============================] - 40s 1ms/step - loss: 10846089216.0000 - mae: 93167.5781 - val_loss: 10238974976.0000 - val_mae: 93001.2656\n",
      "Epoch 263/500\n",
      "30225/30225 [==============================] - 41s 1ms/step - loss: 10840578048.0000 - mae: 93138.2578 - val_loss: 10233481216.0000 - val_mae: 92971.9609\n",
      "Epoch 264/500\n",
      "30225/30225 [==============================] - 41s 1ms/step - loss: 10835065856.0000 - mae: 93108.9688 - val_loss: 10228000768.0000 - val_mae: 92942.3672\n",
      "Epoch 265/500\n",
      "30225/30225 [==============================] - 48s 2ms/step - loss: 10829588480.0000 - mae: 93079.5078 - val_loss: 10222525440.0000 - val_mae: 92913.0703\n",
      "Epoch 266/500\n",
      "30225/30225 [==============================] - 43s 1ms/step - loss: 10824071168.0000 - mae: 93049.9766 - val_loss: 10217032704.0000 - val_mae: 92883.8203\n",
      "Epoch 267/500\n",
      "30225/30225 [==============================] - 41s 1ms/step - loss: 10818606080.0000 - mae: 93020.6953 - val_loss: 10211539968.0000 - val_mae: 92854.5312\n",
      "Epoch 268/500\n",
      "30225/30225 [==============================] - 42s 1ms/step - loss: 10813092864.0000 - mae: 92991.3203 - val_loss: 10206062592.0000 - val_mae: 92824.9922\n",
      "Epoch 269/500\n",
      "30225/30225 [==============================] - 41s 1ms/step - loss: 10807627776.0000 - mae: 92962.2266 - val_loss: 10200584192.0000 - val_mae: 92795.5859\n",
      "Epoch 270/500\n",
      "30225/30225 [==============================] - 42s 1ms/step - loss: 10802171904.0000 - mae: 92932.9609 - val_loss: 10195109888.0000 - val_mae: 92766.2812\n",
      "Epoch 271/500\n",
      "30225/30225 [==============================] - 41s 1ms/step - loss: 10796626944.0000 - mae: 92903.1016 - val_loss: 10189640704.0000 - val_mae: 92736.9141\n",
      "Epoch 272/500\n",
      "30225/30225 [==============================] - 41s 1ms/step - loss: 10791203840.0000 - mae: 92874.1328 - val_loss: 10184162304.0000 - val_mae: 92707.3750\n",
      "Epoch 273/500\n",
      "30225/30225 [==============================] - 44s 1ms/step - loss: 10785689600.0000 - mae: 92844.4297 - val_loss: 10178694144.0000 - val_mae: 92678.1641\n",
      "Epoch 274/500\n",
      "30225/30225 [==============================] - 42s 1ms/step - loss: 10780213248.0000 - mae: 92815.1016 - val_loss: 10173232128.0000 - val_mae: 92648.9688\n",
      "Epoch 275/500\n",
      "30225/30225 [==============================] - 41s 1ms/step - loss: 10774726656.0000 - mae: 92785.9219 - val_loss: 10167780352.0000 - val_mae: 92619.4219\n",
      "Epoch 276/500\n",
      "30225/30225 [==============================] - 41s 1ms/step - loss: 10769245184.0000 - mae: 92756.2734 - val_loss: 10162309120.0000 - val_mae: 92589.9219\n",
      "Epoch 277/500\n",
      "30225/30225 [==============================] - 42s 1ms/step - loss: 10763809792.0000 - mae: 92726.8516 - val_loss: 10156845056.0000 - val_mae: 92560.8125\n",
      "Epoch 278/500\n",
      "30225/30225 [==============================] - 42s 1ms/step - loss: 10758309888.0000 - mae: 92697.8047 - val_loss: 10151390208.0000 - val_mae: 92531.5625\n",
      "Epoch 279/500\n",
      "30225/30225 [==============================] - 42s 1ms/step - loss: 10752876544.0000 - mae: 92668.4688 - val_loss: 10145934336.0000 - val_mae: 92501.7188\n",
      "Epoch 280/500\n",
      "30225/30225 [==============================] - 42s 1ms/step - loss: 10747392000.0000 - mae: 92638.9297 - val_loss: 10140471296.0000 - val_mae: 92472.4297\n",
      "Epoch 281/500\n",
      "30225/30225 [==============================] - 42s 1ms/step - loss: 10741923840.0000 - mae: 92609.6094 - val_loss: 10135010304.0000 - val_mae: 92443.3750\n",
      "Epoch 282/500\n",
      "30225/30225 [==============================] - 42s 1ms/step - loss: 10736444416.0000 - mae: 92579.6562 - val_loss: 10129553408.0000 - val_mae: 92413.8594\n",
      "Epoch 283/500\n",
      "30225/30225 [==============================] - 42s 1ms/step - loss: 10730997760.0000 - mae: 92550.8281 - val_loss: 10124093440.0000 - val_mae: 92384.2812\n",
      "Epoch 284/500\n",
      "30225/30225 [==============================] - 42s 1ms/step - loss: 10725554176.0000 - mae: 92520.9922 - val_loss: 10118642688.0000 - val_mae: 92355.2812\n",
      "Epoch 285/500\n",
      "30225/30225 [==============================] - 42s 1ms/step - loss: 10720107520.0000 - mae: 92491.8516 - val_loss: 10113192960.0000 - val_mae: 92325.9766\n",
      "Epoch 286/500\n",
      "30225/30225 [==============================] - 42s 1ms/step - loss: 10714607616.0000 - mae: 92462.5781 - val_loss: 10107752448.0000 - val_mae: 92296.3047\n",
      "Epoch 287/500\n",
      "30225/30225 [==============================] - 42s 1ms/step - loss: 10709199872.0000 - mae: 92433.3047 - val_loss: 10102312960.0000 - val_mae: 92266.8438\n",
      "Epoch 288/500\n",
      "30225/30225 [==============================] - 42s 1ms/step - loss: 10703700992.0000 - mae: 92403.8281 - val_loss: 10096874496.0000 - val_mae: 92237.7734\n",
      "Epoch 289/500\n",
      "30225/30225 [==============================] - 42s 1ms/step - loss: 10698309632.0000 - mae: 92374.2188 - val_loss: 10091431936.0000 - val_mae: 92208.3828\n",
      "Epoch 290/500\n",
      "30225/30225 [==============================] - 42s 1ms/step - loss: 10692788224.0000 - mae: 92345.2578 - val_loss: 10085983232.0000 - val_mae: 92178.6250\n",
      "Epoch 291/500\n",
      "30225/30225 [==============================] - 42s 1ms/step - loss: 10687364096.0000 - mae: 92315.8047 - val_loss: 10080542720.0000 - val_mae: 92149.6797\n",
      "Epoch 292/500\n",
      "30225/30225 [==============================] - 42s 1ms/step - loss: 10681920512.0000 - mae: 92286.3594 - val_loss: 10075102208.0000 - val_mae: 92120.4062\n",
      "Epoch 293/500\n",
      "30225/30225 [==============================] - 42s 1ms/step - loss: 10676446208.0000 - mae: 92257.2812 - val_loss: 10069666816.0000 - val_mae: 92090.6953\n",
      "Epoch 294/500\n",
      "30225/30225 [==============================] - 43s 1ms/step - loss: 10671010816.0000 - mae: 92227.3438 - val_loss: 10064226304.0000 - val_mae: 92061.2969\n",
      "Epoch 295/500\n",
      "30225/30225 [==============================] - 56s 2ms/step - loss: 10665586688.0000 - mae: 92198.2266 - val_loss: 10058793984.0000 - val_mae: 92032.2500\n",
      "Epoch 296/500\n",
      "30225/30225 [==============================] - 51s 2ms/step - loss: 10660162560.0000 - mae: 92169.3125 - val_loss: 10053380096.0000 - val_mae: 92002.6719\n",
      "Epoch 297/500\n",
      "30225/30225 [==============================] - 51s 2ms/step - loss: 10654713856.0000 - mae: 92139.9062 - val_loss: 10047936512.0000 - val_mae: 91973.1094\n",
      "Epoch 298/500\n",
      "30225/30225 [==============================] - 51s 2ms/step - loss: 10649269248.0000 - mae: 92110.2031 - val_loss: 10042505216.0000 - val_mae: 91944.0469\n",
      "Epoch 299/500\n",
      "30225/30225 [==============================] - 50s 2ms/step - loss: 10643861504.0000 - mae: 92080.8672 - val_loss: 10037083136.0000 - val_mae: 91914.7578\n",
      "Epoch 300/500\n",
      "30225/30225 [==============================] - 50s 2ms/step - loss: 10638397440.0000 - mae: 92051.3438 - val_loss: 10031651840.0000 - val_mae: 91885.1250\n",
      "Epoch 301/500\n",
      "30225/30225 [==============================] - 51s 2ms/step - loss: 10632990720.0000 - mae: 92021.9453 - val_loss: 10026233856.0000 - val_mae: 91855.8750\n",
      "Epoch 302/500\n",
      "30225/30225 [==============================] - 52s 2ms/step - loss: 10627545088.0000 - mae: 91992.8516 - val_loss: 10020824064.0000 - val_mae: 91826.6719\n",
      "Epoch 303/500\n",
      "30225/30225 [==============================] - 51s 2ms/step - loss: 10622106624.0000 - mae: 91963.0078 - val_loss: 10015418368.0000 - val_mae: 91797.2266\n",
      "Epoch 304/500\n",
      "30225/30225 [==============================] - 51s 2ms/step - loss: 10616681472.0000 - mae: 91934.3125 - val_loss: 10009999360.0000 - val_mae: 91767.7578\n",
      "Epoch 305/500\n",
      "30225/30225 [==============================] - 51s 2ms/step - loss: 10611279872.0000 - mae: 91904.6562 - val_loss: 10004588544.0000 - val_mae: 91738.3203\n",
      "Epoch 306/500\n",
      "30225/30225 [==============================] - 51s 2ms/step - loss: 10605846528.0000 - mae: 91874.9219 - val_loss: 9999180800.0000 - val_mae: 91709.0859\n",
      "Epoch 307/500\n",
      "30225/30225 [==============================] - 50s 2ms/step - loss: 10600415232.0000 - mae: 91845.6328 - val_loss: 9993760768.0000 - val_mae: 91679.7109\n",
      "Epoch 308/500\n",
      "30225/30225 [==============================] - 50s 2ms/step - loss: 10595008512.0000 - mae: 91816.0625 - val_loss: 9988352000.0000 - val_mae: 91650.2266\n",
      "Epoch 309/500\n",
      "30225/30225 [==============================] - 50s 2ms/step - loss: 10589579264.0000 - mae: 91787.1641 - val_loss: 9982941184.0000 - val_mae: 91620.9609\n",
      "Epoch 310/500\n",
      "30225/30225 [==============================] - 47s 2ms/step - loss: 10584142848.0000 - mae: 91757.8359 - val_loss: 9977547776.0000 - val_mae: 91591.6953\n",
      "Epoch 311/500\n",
      "30225/30225 [==============================] - 44s 1ms/step - loss: 10578768896.0000 - mae: 91728.1250 - val_loss: 9972148224.0000 - val_mae: 91562.2266\n",
      "Epoch 312/500\n",
      "30225/30225 [==============================] - 45s 1ms/step - loss: 10573335552.0000 - mae: 91698.5391 - val_loss: 9966740480.0000 - val_mae: 91532.6406\n",
      "Epoch 313/500\n",
      "30225/30225 [==============================] - 45s 1ms/step - loss: 10567916544.0000 - mae: 91669.6250 - val_loss: 9961336832.0000 - val_mae: 91503.5625\n",
      "Epoch 314/500\n",
      "30225/30225 [==============================] - 44s 1ms/step - loss: 10562503680.0000 - mae: 91640.2109 - val_loss: 9955938304.0000 - val_mae: 91474.1484\n",
      "Epoch 315/500\n",
      "30225/30225 [==============================] - 44s 1ms/step - loss: 10557133824.0000 - mae: 91610.8828 - val_loss: 9950542848.0000 - val_mae: 91444.5312\n",
      "Epoch 316/500\n",
      "30225/30225 [==============================] - 44s 1ms/step - loss: 10551680000.0000 - mae: 91581.5625 - val_loss: 9945147392.0000 - val_mae: 91415.2891\n",
      "Epoch 317/500\n",
      "30225/30225 [==============================] - 44s 1ms/step - loss: 10546307072.0000 - mae: 91552.3125 - val_loss: 9939752960.0000 - val_mae: 91386.3281\n",
      "Epoch 318/500\n",
      "30225/30225 [==============================] - 48s 2ms/step - loss: 10540931072.0000 - mae: 91523.0938 - val_loss: 9934368768.0000 - val_mae: 91356.6875\n",
      "Epoch 319/500\n",
      "30225/30225 [==============================] - 50s 2ms/step - loss: 10535491584.0000 - mae: 91493.1484 - val_loss: 9928976384.0000 - val_mae: 91327.0547\n",
      "Epoch 320/500\n",
      "30225/30225 [==============================] - 50s 2ms/step - loss: 10530074624.0000 - mae: 91463.7031 - val_loss: 9923581952.0000 - val_mae: 91298.1484\n",
      "Epoch 321/500\n",
      "30225/30225 [==============================] - 50s 2ms/step - loss: 10524748800.0000 - mae: 91435.0000 - val_loss: 9918182400.0000 - val_mae: 91268.6797\n",
      "Epoch 322/500\n",
      "30225/30225 [==============================] - 50s 2ms/step - loss: 10519395328.0000 - mae: 91405.3984 - val_loss: 9912802304.0000 - val_mae: 91238.9141\n",
      "Epoch 323/500\n",
      "30225/30225 [==============================] - 50s 2ms/step - loss: 10513996800.0000 - mae: 91375.9766 - val_loss: 9907422208.0000 - val_mae: 91209.7344\n",
      "Epoch 324/500\n",
      "30225/30225 [==============================] - 57s 2ms/step - loss: 10508520448.0000 - mae: 91346.5547 - val_loss: 9902040064.0000 - val_mae: 91180.6172\n",
      "Epoch 325/500\n",
      "30225/30225 [==============================] - 82s 3ms/step - loss: 10503088128.0000 - mae: 91317.2031 - val_loss: 9896678400.0000 - val_mae: 91151.0312\n",
      "Epoch 326/500\n",
      "30225/30225 [==============================] - 65s 2ms/step - loss: 10497727488.0000 - mae: 91287.7891 - val_loss: 9891296256.0000 - val_mae: 91121.4922\n",
      "Epoch 327/500\n",
      "30225/30225 [==============================] - 61s 2ms/step - loss: 10492331008.0000 - mae: 91258.3516 - val_loss: 9885927424.0000 - val_mae: 91092.6016\n",
      "Epoch 328/500\n",
      "30225/30225 [==============================] - 51s 2ms/step - loss: 10486948864.0000 - mae: 91228.8984 - val_loss: 9880551424.0000 - val_mae: 91063.1641\n",
      "Epoch 329/500\n",
      "30225/30225 [==============================] - 49s 2ms/step - loss: 10481588224.0000 - mae: 91200.0703 - val_loss: 9875191808.0000 - val_mae: 91033.4922\n",
      "Epoch 330/500\n",
      "30225/30225 [==============================] - 70s 2ms/step - loss: 10476224512.0000 - mae: 91170.3516 - val_loss: 9869816832.0000 - val_mae: 91004.2422\n",
      "Epoch 331/500\n",
      "30225/30225 [==============================] - 66s 2ms/step - loss: 10470831104.0000 - mae: 91140.8281 - val_loss: 9864448000.0000 - val_mae: 90975.0156\n",
      "Epoch 332/500\n",
      "30225/30225 [==============================] - 61s 2ms/step - loss: 10465484800.0000 - mae: 91111.9297 - val_loss: 9859076096.0000 - val_mae: 90945.4062\n",
      "Epoch 333/500\n",
      "30225/30225 [==============================] - 51s 2ms/step - loss: 10460115968.0000 - mae: 91082.1016 - val_loss: 9853707264.0000 - val_mae: 90916.0547\n",
      "Epoch 334/500\n",
      "30225/30225 [==============================] - 56s 2ms/step - loss: 10454774784.0000 - mae: 91053.1562 - val_loss: 9848349696.0000 - val_mae: 90886.8828\n",
      "Epoch 335/500\n",
      "30225/30225 [==============================] - 55s 2ms/step - loss: 10449351680.0000 - mae: 91023.3594 - val_loss: 9842984960.0000 - val_mae: 90857.6016\n",
      "Epoch 336/500\n",
      "30225/30225 [==============================] - 63s 2ms/step - loss: 10444037120.0000 - mae: 90994.2344 - val_loss: 9837619200.0000 - val_mae: 90828.0547\n",
      "Epoch 337/500\n",
      "30225/30225 [==============================] - 63s 2ms/step - loss: 10438574080.0000 - mae: 90964.6016 - val_loss: 9832264704.0000 - val_mae: 90798.6016\n",
      "Epoch 338/500\n",
      "30225/30225 [==============================] - 54s 2ms/step - loss: 10433236992.0000 - mae: 90935.2969 - val_loss: 9826910208.0000 - val_mae: 90769.3906\n",
      "Epoch 339/500\n",
      "30225/30225 [==============================] - 49s 2ms/step - loss: 10427846656.0000 - mae: 90906.1797 - val_loss: 9821557760.0000 - val_mae: 90739.9531\n",
      "Epoch 340/500\n",
      "30225/30225 [==============================] - 78s 3ms/step - loss: 10422521856.0000 - mae: 90876.9453 - val_loss: 9816195072.0000 - val_mae: 90710.4844\n",
      "Epoch 341/500\n",
      "30225/30225 [==============================] - 71s 2ms/step - loss: 10417174528.0000 - mae: 90847.2344 - val_loss: 9810854912.0000 - val_mae: 90681.2969\n",
      "Epoch 342/500\n",
      "30225/30225 [==============================] - 49s 2ms/step - loss: 10411768832.0000 - mae: 90818.1328 - val_loss: 9805501440.0000 - val_mae: 90652.0391\n",
      "Epoch 343/500\n",
      "30225/30225 [==============================] - 51s 2ms/step - loss: 10406445056.0000 - mae: 90788.5781 - val_loss: 9800138752.0000 - val_mae: 90622.5703\n",
      "Epoch 344/500\n",
      "30225/30225 [==============================] - 50s 2ms/step - loss: 10401036288.0000 - mae: 90759.2422 - val_loss: 9794782208.0000 - val_mae: 90593.0156\n",
      "Epoch 345/500\n",
      "30225/30225 [==============================] - 52s 2ms/step - loss: 10395736064.0000 - mae: 90729.9219 - val_loss: 9789442048.0000 - val_mae: 90563.8906\n",
      "Epoch 346/500\n",
      "30225/30225 [==============================] - 54s 2ms/step - loss: 10390352896.0000 - mae: 90700.4688 - val_loss: 9784089600.0000 - val_mae: 90534.6562\n",
      "Epoch 347/500\n",
      "30225/30225 [==============================] - 50s 2ms/step - loss: 10385003520.0000 - mae: 90671.0469 - val_loss: 9778755584.0000 - val_mae: 90504.8984\n",
      "Epoch 348/500\n",
      "30225/30225 [==============================] - 51s 2ms/step - loss: 10379646976.0000 - mae: 90641.8047 - val_loss: 9773418496.0000 - val_mae: 90475.4453\n",
      "Epoch 349/500\n",
      "30225/30225 [==============================] - 50s 2ms/step - loss: 10374317056.0000 - mae: 90612.6250 - val_loss: 9768067072.0000 - val_mae: 90446.4688\n",
      "Epoch 350/500\n",
      "30225/30225 [==============================] - 49s 2ms/step - loss: 10369010688.0000 - mae: 90583.1641 - val_loss: 9762739200.0000 - val_mae: 90416.9609\n",
      "Epoch 351/500\n",
      "30225/30225 [==============================] - 49s 2ms/step - loss: 10363622400.0000 - mae: 90553.6797 - val_loss: 9757404160.0000 - val_mae: 90387.4375\n",
      "Epoch 352/500\n",
      "30225/30225 [==============================] - 49s 2ms/step - loss: 10358281216.0000 - mae: 90524.0859 - val_loss: 9752073216.0000 - val_mae: 90358.3906\n",
      "Epoch 353/500\n",
      "30225/30225 [==============================] - 49s 2ms/step - loss: 10352977920.0000 - mae: 90494.6953 - val_loss: 9746743296.0000 - val_mae: 90329.1484\n",
      "Epoch 354/500\n",
      "30225/30225 [==============================] - 49s 2ms/step - loss: 10347577344.0000 - mae: 90465.6797 - val_loss: 9741417472.0000 - val_mae: 90299.5859\n",
      "Epoch 355/500\n",
      "30225/30225 [==============================] - 48s 2ms/step - loss: 10342283264.0000 - mae: 90436.2031 - val_loss: 9736096768.0000 - val_mae: 90269.9219\n",
      "Epoch 356/500\n",
      "30225/30225 [==============================] - 49s 2ms/step - loss: 10336936960.0000 - mae: 90406.6562 - val_loss: 9730761728.0000 - val_mae: 90241.0312\n",
      "Epoch 357/500\n",
      "30225/30225 [==============================] - 50s 2ms/step - loss: 10331563008.0000 - mae: 90377.3672 - val_loss: 9725435904.0000 - val_mae: 90211.4844\n",
      "Epoch 358/500\n",
      "30225/30225 [==============================] - 50s 2ms/step - loss: 10326235136.0000 - mae: 90347.9688 - val_loss: 9720118272.0000 - val_mae: 90181.7656\n",
      "Epoch 359/500\n",
      "30225/30225 [==============================] - 53s 2ms/step - loss: 10320942080.0000 - mae: 90318.5469 - val_loss: 9714795520.0000 - val_mae: 90152.8203\n",
      "Epoch 360/500\n",
      "30225/30225 [==============================] - 48s 2ms/step - loss: 10315601920.0000 - mae: 90288.5703 - val_loss: 9709480960.0000 - val_mae: 90123.6328\n",
      "Epoch 361/500\n",
      "30225/30225 [==============================] - 47s 2ms/step - loss: 10310319104.0000 - mae: 90259.9062 - val_loss: 9704169472.0000 - val_mae: 90093.9062\n",
      "Epoch 362/500\n",
      "30225/30225 [==============================] - 47s 2ms/step - loss: 10304916480.0000 - mae: 90230.6953 - val_loss: 9698863104.0000 - val_mae: 90064.4766\n",
      "Epoch 363/500\n",
      "30225/30225 [==============================] - 48s 2ms/step - loss: 10299637760.0000 - mae: 90201.1641 - val_loss: 9693551616.0000 - val_mae: 90035.4922\n",
      "Epoch 364/500\n",
      "30225/30225 [==============================] - 49s 2ms/step - loss: 10294249472.0000 - mae: 90171.8125 - val_loss: 9688243200.0000 - val_mae: 90005.9141\n",
      "Epoch 365/500\n",
      "30225/30225 [==============================] - 48s 2ms/step - loss: 10289020928.0000 - mae: 90142.5625 - val_loss: 9682928640.0000 - val_mae: 89976.3672\n",
      "Epoch 366/500\n",
      "30225/30225 [==============================] - 47s 2ms/step - loss: 10283678720.0000 - mae: 90112.8516 - val_loss: 9677613056.0000 - val_mae: 89947.2734\n",
      "Epoch 367/500\n",
      "30225/30225 [==============================] - 48s 2ms/step - loss: 10278345728.0000 - mae: 90083.9609 - val_loss: 9672321024.0000 - val_mae: 89918.0859\n",
      "Epoch 368/500\n",
      "30225/30225 [==============================] - 47s 2ms/step - loss: 10273064960.0000 - mae: 90054.5156 - val_loss: 9667008512.0000 - val_mae: 89888.3750\n",
      "Epoch 369/500\n",
      "30225/30225 [==============================] - 47s 2ms/step - loss: 10267732992.0000 - mae: 90025.0234 - val_loss: 9661706240.0000 - val_mae: 89859.1250\n",
      "Epoch 370/500\n",
      "30225/30225 [==============================] - 48s 2ms/step - loss: 10262488064.0000 - mae: 89995.8438 - val_loss: 9656398848.0000 - val_mae: 89829.9453\n",
      "Epoch 371/500\n",
      "30225/30225 [==============================] - 47s 2ms/step - loss: 10257161216.0000 - mae: 89966.5703 - val_loss: 9651103744.0000 - val_mae: 89800.4609\n",
      "Epoch 372/500\n",
      "30225/30225 [==============================] - 49s 2ms/step - loss: 10251851776.0000 - mae: 89937.0625 - val_loss: 9645800448.0000 - val_mae: 89771.0312\n",
      "Epoch 373/500\n",
      "30225/30225 [==============================] - 51s 2ms/step - loss: 10246516736.0000 - mae: 89907.4219 - val_loss: 9640502272.0000 - val_mae: 89741.6406\n",
      "Epoch 374/500\n",
      "30225/30225 [==============================] - 53s 2ms/step - loss: 10241221632.0000 - mae: 89878.2031 - val_loss: 9635210240.0000 - val_mae: 89712.3516\n",
      "Epoch 375/500\n",
      "30225/30225 [==============================] - 48s 2ms/step - loss: 10235852800.0000 - mae: 89848.8828 - val_loss: 9629920256.0000 - val_mae: 89683.0078\n",
      "Epoch 376/500\n",
      "30225/30225 [==============================] - 49s 2ms/step - loss: 10230575104.0000 - mae: 89819.4922 - val_loss: 9624627200.0000 - val_mae: 89653.5234\n",
      "Epoch 377/500\n",
      "30225/30225 [==============================] - 47s 2ms/step - loss: 10225311744.0000 - mae: 89789.9531 - val_loss: 9619349504.0000 - val_mae: 89624.3125\n",
      "Epoch 378/500\n",
      "30225/30225 [==============================] - 48s 2ms/step - loss: 10220010496.0000 - mae: 89760.8047 - val_loss: 9614053376.0000 - val_mae: 89595.0859\n",
      "Epoch 379/500\n",
      "30225/30225 [==============================] - 48s 2ms/step - loss: 10214695936.0000 - mae: 89731.3359 - val_loss: 9608780800.0000 - val_mae: 89565.5625\n",
      "Epoch 380/500\n",
      "30225/30225 [==============================] - 49s 2ms/step - loss: 10209431552.0000 - mae: 89702.1406 - val_loss: 9603501056.0000 - val_mae: 89536.0391\n",
      "Epoch 381/500\n",
      "30225/30225 [==============================] - 49s 2ms/step - loss: 10204118016.0000 - mae: 89672.4297 - val_loss: 9598217216.0000 - val_mae: 89506.9375\n",
      "Epoch 382/500\n",
      "30225/30225 [==============================] - 48s 2ms/step - loss: 10198867968.0000 - mae: 89643.4297 - val_loss: 9592934400.0000 - val_mae: 89477.5000\n",
      "Epoch 383/500\n",
      "30225/30225 [==============================] - 47s 2ms/step - loss: 10193532928.0000 - mae: 89613.9922 - val_loss: 9587649536.0000 - val_mae: 89447.8672\n",
      "Epoch 384/500\n",
      "30225/30225 [==============================] - 47s 2ms/step - loss: 10188276736.0000 - mae: 89584.2266 - val_loss: 9582361600.0000 - val_mae: 89418.6406\n",
      "Epoch 385/500\n",
      "30225/30225 [==============================] - 47s 2ms/step - loss: 10182969344.0000 - mae: 89555.3047 - val_loss: 9577081856.0000 - val_mae: 89389.6562\n",
      "Epoch 386/500\n",
      "30225/30225 [==============================] - 47s 2ms/step - loss: 10177722368.0000 - mae: 89525.7188 - val_loss: 9571816448.0000 - val_mae: 89359.9922\n",
      "Epoch 387/500\n",
      "30225/30225 [==============================] - 47s 2ms/step - loss: 10172387328.0000 - mae: 89496.2031 - val_loss: 9566540800.0000 - val_mae: 89330.3906\n",
      "Epoch 388/500\n",
      "30225/30225 [==============================] - 47s 2ms/step - loss: 10167114752.0000 - mae: 89467.1797 - val_loss: 9561271296.0000 - val_mae: 89301.5781\n",
      "Epoch 389/500\n",
      "30225/30225 [==============================] - 48s 2ms/step - loss: 10161862656.0000 - mae: 89437.4531 - val_loss: 9556003840.0000 - val_mae: 89272.0391\n",
      "Epoch 390/500\n",
      "30225/30225 [==============================] - 48s 2ms/step - loss: 10156565504.0000 - mae: 89408.3984 - val_loss: 9550741504.0000 - val_mae: 89242.4062\n",
      "Epoch 391/500\n",
      "30225/30225 [==============================] - 48s 2ms/step - loss: 10151310336.0000 - mae: 89379.1406 - val_loss: 9545483264.0000 - val_mae: 89213.1328\n",
      "Epoch 392/500\n",
      "30225/30225 [==============================] - 49s 2ms/step - loss: 10146021376.0000 - mae: 89349.5625 - val_loss: 9540237312.0000 - val_mae: 89184.0312\n",
      "Epoch 393/500\n",
      "30225/30225 [==============================] - 48s 2ms/step - loss: 10140769280.0000 - mae: 89319.8594 - val_loss: 9534974976.0000 - val_mae: 89154.4766\n",
      "Epoch 394/500\n",
      "30225/30225 [==============================] - 48s 2ms/step - loss: 10135441408.0000 - mae: 89290.6250 - val_loss: 9529717760.0000 - val_mae: 89124.9844\n",
      "Epoch 395/500\n",
      "30225/30225 [==============================] - 47s 2ms/step - loss: 10130182144.0000 - mae: 89261.7578 - val_loss: 9524454400.0000 - val_mae: 89096.0469\n",
      "Epoch 396/500\n",
      "30225/30225 [==============================] - 55s 2ms/step - loss: 10124980224.0000 - mae: 89232.0938 - val_loss: 9519179776.0000 - val_mae: 89066.6094\n",
      "Epoch 397/500\n",
      "30225/30225 [==============================] - 50s 2ms/step - loss: 10119675904.0000 - mae: 89202.7969 - val_loss: 9513927680.0000 - val_mae: 89036.9375\n",
      "Epoch 398/500\n",
      "30225/30225 [==============================] - 52s 2ms/step - loss: 10114371584.0000 - mae: 89173.3203 - val_loss: 9508661248.0000 - val_mae: 89007.7031\n",
      "Epoch 399/500\n",
      "30225/30225 [==============================] - 49s 2ms/step - loss: 10109137920.0000 - mae: 89144.1484 - val_loss: 9503414272.0000 - val_mae: 88978.5078\n",
      "Epoch 400/500\n",
      "30225/30225 [==============================] - 47s 2ms/step - loss: 10103897088.0000 - mae: 89114.8281 - val_loss: 9498167296.0000 - val_mae: 88948.8516\n",
      "Epoch 401/500\n",
      "30225/30225 [==============================] - 47s 2ms/step - loss: 10098636800.0000 - mae: 89085.4453 - val_loss: 9492915200.0000 - val_mae: 88919.4922\n",
      "Epoch 402/500\n",
      "30225/30225 [==============================] - 46s 2ms/step - loss: 10093411328.0000 - mae: 89055.7891 - val_loss: 9487685632.0000 - val_mae: 88890.3750\n",
      "Epoch 403/500\n",
      "30225/30225 [==============================] - 46s 2ms/step - loss: 10088135680.0000 - mae: 89026.4844 - val_loss: 9482438656.0000 - val_mae: 88861.1484\n",
      "Epoch 404/500\n",
      "30225/30225 [==============================] - 47s 2ms/step - loss: 10082829312.0000 - mae: 88997.3438 - val_loss: 9477191680.0000 - val_mae: 88831.5391\n",
      "Epoch 405/500\n",
      "30225/30225 [==============================] - 47s 2ms/step - loss: 10077669376.0000 - mae: 88967.8828 - val_loss: 9471956992.0000 - val_mae: 88802.0938\n",
      "Epoch 406/500\n",
      "30225/30225 [==============================] - 46s 2ms/step - loss: 10072361984.0000 - mae: 88938.4219 - val_loss: 9466726400.0000 - val_mae: 88772.9688\n",
      "Epoch 407/500\n",
      "30225/30225 [==============================] - 46s 2ms/step - loss: 10067143680.0000 - mae: 88908.8203 - val_loss: 9461480448.0000 - val_mae: 88743.4375\n",
      "Epoch 408/500\n",
      "30225/30225 [==============================] - 51s 2ms/step - loss: 10061862912.0000 - mae: 88879.8906 - val_loss: 9456267264.0000 - val_mae: 88713.9922\n",
      "Epoch 409/500\n",
      "30225/30225 [==============================] - 47s 2ms/step - loss: 10056645632.0000 - mae: 88850.6875 - val_loss: 9451028480.0000 - val_mae: 88684.8281\n",
      "Epoch 410/500\n",
      "30225/30225 [==============================] - 47s 2ms/step - loss: 10051421184.0000 - mae: 88821.0312 - val_loss: 9445799936.0000 - val_mae: 88655.5781\n",
      "Epoch 411/500\n",
      "30225/30225 [==============================] - 48s 2ms/step - loss: 10046190592.0000 - mae: 88791.5391 - val_loss: 9440571392.0000 - val_mae: 88626.0469\n",
      "Epoch 412/500\n",
      "30225/30225 [==============================] - 47s 2ms/step - loss: 10040906752.0000 - mae: 88762.1250 - val_loss: 9435327488.0000 - val_mae: 88596.5391\n",
      "Epoch 413/500\n",
      "30225/30225 [==============================] - 49s 2ms/step - loss: 10035718144.0000 - mae: 88732.7188 - val_loss: 9430104064.0000 - val_mae: 88567.4922\n",
      "Epoch 414/500\n",
      "30225/30225 [==============================] - 55s 2ms/step - loss: 10030442496.0000 - mae: 88703.4766 - val_loss: 9424889856.0000 - val_mae: 88538.1406\n",
      "Epoch 415/500\n",
      "30225/30225 [==============================] - 50s 2ms/step - loss: 10025223168.0000 - mae: 88674.0391 - val_loss: 9419651072.0000 - val_mae: 88508.5156\n",
      "Epoch 416/500\n",
      "30225/30225 [==============================] - 55s 2ms/step - loss: 10020040704.0000 - mae: 88644.8984 - val_loss: 9414441984.0000 - val_mae: 88479.0859\n",
      "Epoch 417/500\n",
      "30225/30225 [==============================] - 49s 2ms/step - loss: 10014790656.0000 - mae: 88615.6328 - val_loss: 9409226752.0000 - val_mae: 88450.0703\n",
      "Epoch 418/500\n",
      "30225/30225 [==============================] - 50s 2ms/step - loss: 10009624576.0000 - mae: 88586.0781 - val_loss: 9403996160.0000 - val_mae: 88420.4688\n",
      "Epoch 419/500\n",
      "30225/30225 [==============================] - 51s 2ms/step - loss: 10004298752.0000 - mae: 88556.7891 - val_loss: 9398784000.0000 - val_mae: 88391.0391\n",
      "Epoch 420/500\n",
      "30225/30225 [==============================] - 48s 2ms/step - loss: 9999071232.0000 - mae: 88527.4062 - val_loss: 9393570816.0000 - val_mae: 88361.9844\n",
      "Epoch 421/500\n",
      "30225/30225 [==============================] - 50s 2ms/step - loss: 9993889792.0000 - mae: 88498.2344 - val_loss: 9388368896.0000 - val_mae: 88332.7031\n",
      "Epoch 422/500\n",
      "30225/30225 [==============================] - 48s 2ms/step - loss: 9988659200.0000 - mae: 88468.2734 - val_loss: 9383160832.0000 - val_mae: 88303.1797\n",
      "Epoch 423/500\n",
      "30225/30225 [==============================] - 49s 2ms/step - loss: 9983439872.0000 - mae: 88438.9219 - val_loss: 9377937408.0000 - val_mae: 88273.5312\n",
      "Epoch 424/500\n",
      "30225/30225 [==============================] - 49s 2ms/step - loss: 9978218496.0000 - mae: 88410.0469 - val_loss: 9372707840.0000 - val_mae: 88244.6406\n",
      "Epoch 425/500\n",
      "30225/30225 [==============================] - 49s 2ms/step - loss: 9973020672.0000 - mae: 88380.2812 - val_loss: 9367497728.0000 - val_mae: 88215.0391\n",
      "Epoch 426/500\n",
      "30225/30225 [==============================] - 49s 2ms/step - loss: 9967785984.0000 - mae: 88351.3984 - val_loss: 9362295808.0000 - val_mae: 88185.4375\n",
      "Epoch 427/500\n",
      "30225/30225 [==============================] - 49s 2ms/step - loss: 9962551296.0000 - mae: 88321.9609 - val_loss: 9357095936.0000 - val_mae: 88156.4141\n",
      "Epoch 428/500\n",
      "30225/30225 [==============================] - 50s 2ms/step - loss: 9957365760.0000 - mae: 88292.4453 - val_loss: 9351906304.0000 - val_mae: 88127.2656\n",
      "Epoch 429/500\n",
      "30225/30225 [==============================] - 51s 2ms/step - loss: 9952158720.0000 - mae: 88263.1797 - val_loss: 9346722816.0000 - val_mae: 88097.5781\n",
      "Epoch 430/500\n",
      "30225/30225 [==============================] - 58s 2ms/step - loss: 9946958848.0000 - mae: 88234.0234 - val_loss: 9341522944.0000 - val_mae: 88068.0312\n",
      "Epoch 431/500\n",
      "30225/30225 [==============================] - 49s 2ms/step - loss: 9941752832.0000 - mae: 88204.4375 - val_loss: 9336338432.0000 - val_mae: 88039.1250\n",
      "Epoch 432/500\n",
      "30225/30225 [==============================] - 50s 2ms/step - loss: 9936523264.0000 - mae: 88175.2891 - val_loss: 9331155968.0000 - val_mae: 88009.5391\n",
      "Epoch 433/500\n",
      "30225/30225 [==============================] - 47s 2ms/step - loss: 9931332608.0000 - mae: 88145.7812 - val_loss: 9325960192.0000 - val_mae: 87980.0312\n",
      "Epoch 434/500\n",
      "30225/30225 [==============================] - 66s 2ms/step - loss: 9915768832.0000 - mae: 88057.7656 - val_loss: 9310406656.0000 - val_mae: 87891.9766\n",
      "Epoch 437/500\n",
      "30225/30225 [==============================] - 51s 2ms/step - loss: 9910616064.0000 - mae: 88028.2422 - val_loss: 9305210880.0000 - val_mae: 87862.7266\n",
      "Epoch 438/500\n",
      "30225/30225 [==============================] - 45s 1ms/step - loss: 9905396736.0000 - mae: 87998.8125 - val_loss: 9300030464.0000 - val_mae: 87833.6250\n",
      "Epoch 439/500\n",
      "30225/30225 [==============================] - 50s 2ms/step - loss: 9900194816.0000 - mae: 87969.5312 - val_loss: 9294833664.0000 - val_mae: 87804.1016\n",
      "Epoch 440/500\n",
      "30225/30225 [==============================] - 48s 2ms/step - loss: 9894994944.0000 - mae: 87940.1406 - val_loss: 9289655296.0000 - val_mae: 87774.7109\n",
      "Epoch 441/500\n",
      "30225/30225 [==============================] - 47s 2ms/step - loss: 9889871872.0000 - mae: 87911.2891 - val_loss: 9284473856.0000 - val_mae: 87745.2969\n",
      "Epoch 442/500\n",
      "30225/30225 [==============================] - 50s 2ms/step - loss: 9884583936.0000 - mae: 87881.3750 - val_loss: 9279291392.0000 - val_mae: 87716.0625\n",
      "Epoch 443/500\n",
      "30225/30225 [==============================] - 49s 2ms/step - loss: 9879394304.0000 - mae: 87852.1875 - val_loss: 9274122240.0000 - val_mae: 87686.5625\n",
      "Epoch 444/500\n",
      "30225/30225 [==============================] - 55s 2ms/step - loss: 9874220032.0000 - mae: 87822.8203 - val_loss: 9268946944.0000 - val_mae: 87657.1484\n",
      "Epoch 445/500\n",
      "30225/30225 [==============================] - 48s 2ms/step - loss: 9869076480.0000 - mae: 87793.3594 - val_loss: 9263770624.0000 - val_mae: 87628.0156\n",
      "Epoch 446/500\n",
      "30225/30225 [==============================] - 48s 2ms/step - loss: 9863882752.0000 - mae: 87763.6406 - val_loss: 9258605568.0000 - val_mae: 87598.7031\n",
      "Epoch 447/500\n",
      "30225/30225 [==============================] - 48s 2ms/step - loss: 9858729984.0000 - mae: 87734.8516 - val_loss: 9253435392.0000 - val_mae: 87569.2266\n",
      "Epoch 448/500\n",
      "30225/30225 [==============================] - 50s 2ms/step - loss: 9853535232.0000 - mae: 87704.9844 - val_loss: 9248276480.0000 - val_mae: 87539.7109\n",
      "Epoch 449/500\n",
      "30225/30225 [==============================] - 51s 2ms/step - loss: 9848339456.0000 - mae: 87675.6641 - val_loss: 9243110400.0000 - val_mae: 87510.6094\n",
      "Epoch 450/500\n",
      "30225/30225 [==============================] - 53s 2ms/step - loss: 9843234816.0000 - mae: 87646.4062 - val_loss: 9237953536.0000 - val_mae: 87481.1953\n",
      "Epoch 451/500\n",
      "30225/30225 [==============================] - 44s 1ms/step - loss: 9837988864.0000 - mae: 87617.0859 - val_loss: 9232802816.0000 - val_mae: 87451.6094\n",
      "Epoch 452/500\n",
      "30225/30225 [==============================] - 44s 1ms/step - loss: 9832863744.0000 - mae: 87587.7031 - val_loss: 9227649024.0000 - val_mae: 87422.3594\n",
      "Epoch 453/500\n",
      "30225/30225 [==============================] - 45s 1ms/step - loss: 9827667968.0000 - mae: 87558.3281 - val_loss: 9222480896.0000 - val_mae: 87393.3594\n",
      "Epoch 454/500\n",
      "30225/30225 [==============================] - 46s 2ms/step - loss: 9822565376.0000 - mae: 87528.9531 - val_loss: 9217332224.0000 - val_mae: 87363.7344\n",
      "Epoch 455/500\n",
      "30225/30225 [==============================] - 46s 2ms/step - loss: 9817369600.0000 - mae: 87499.6797 - val_loss: 9212180480.0000 - val_mae: 87334.1250\n",
      "Epoch 456/500\n",
      "30225/30225 [==============================] - 50s 2ms/step - loss: 9812158464.0000 - mae: 87470.4453 - val_loss: 9207011328.0000 - val_mae: 87305.1953\n",
      "Epoch 457/500\n",
      "30225/30225 [==============================] - 47s 2ms/step - loss: 9807006720.0000 - mae: 87440.5156 - val_loss: 9201868800.0000 - val_mae: 87275.7422\n",
      "Epoch 458/500\n",
      "30225/30225 [==============================] - 46s 2ms/step - loss: 9801925632.0000 - mae: 87411.7500 - val_loss: 9196722176.0000 - val_mae: 87246.0938\n",
      "Epoch 459/500\n",
      "30225/30225 [==============================] - 47s 2ms/step - loss: 9796758528.0000 - mae: 87382.3047 - val_loss: 9191589888.0000 - val_mae: 87216.7578\n",
      "Epoch 460/500\n",
      "30225/30225 [==============================] - 46s 2ms/step - loss: 9791614976.0000 - mae: 87352.6719 - val_loss: 9186456576.0000 - val_mae: 87187.7344\n",
      "Epoch 461/500\n",
      "30225/30225 [==============================] - 47s 2ms/step - loss: 9786397696.0000 - mae: 87323.5312 - val_loss: 9181303808.0000 - val_mae: 87158.2422\n",
      "Epoch 462/500\n",
      "30225/30225 [==============================] - 46s 2ms/step - loss: 9781284864.0000 - mae: 87294.6094 - val_loss: 9176160256.0000 - val_mae: 87128.5938\n",
      "Epoch 463/500\n",
      "30225/30225 [==============================] - 47s 2ms/step - loss: 9776145408.0000 - mae: 87264.9688 - val_loss: 9171017728.0000 - val_mae: 87099.7500\n",
      "Epoch 464/500\n",
      "30225/30225 [==============================] - 47s 2ms/step - loss: 9770943488.0000 - mae: 87235.6953 - val_loss: 9165902848.0000 - val_mae: 87070.3906\n",
      "Epoch 465/500\n",
      "30225/30225 [==============================] - 49s 2ms/step - loss: 9765852160.0000 - mae: 87206.0312 - val_loss: 9160767488.0000 - val_mae: 87040.6875\n",
      "Epoch 466/500\n",
      "30225/30225 [==============================] - 48s 2ms/step - loss: 9760697344.0000 - mae: 87176.7031 - val_loss: 9155610624.0000 - val_mae: 87011.3516\n",
      "Epoch 467/500\n",
      "30225/30225 [==============================] - 47s 2ms/step - loss: 9755544576.0000 - mae: 87147.1094 - val_loss: 9150462976.0000 - val_mae: 86982.2812\n",
      "Epoch 468/500\n",
      "30225/30225 [==============================] - 47s 2ms/step - loss: 9750393856.0000 - mae: 87117.6016 - val_loss: 9145339904.0000 - val_mae: 86952.6328\n",
      "Epoch 469/500\n",
      "30225/30225 [==============================] - 47s 2ms/step - loss: 9745278976.0000 - mae: 87088.6641 - val_loss: 9140196352.0000 - val_mae: 86923.1094\n",
      "Epoch 470/500\n",
      "30225/30225 [==============================] - 48s 2ms/step - loss: 9740092416.0000 - mae: 87059.5000 - val_loss: 9135075328.0000 - val_mae: 86894.0859\n",
      "Epoch 471/500\n",
      "30225/30225 [==============================] - 52s 2ms/step - loss: 9735006208.0000 - mae: 87030.0000 - val_loss: 9129958400.0000 - val_mae: 86864.9219\n",
      "Epoch 472/500\n",
      "30225/30225 [==============================] - 47s 2ms/step - loss: 9729819648.0000 - mae: 87000.3281 - val_loss: 9124819968.0000 - val_mae: 86835.2344\n",
      "Epoch 473/500\n",
      "30225/30225 [==============================] - 47s 2ms/step - loss: 9724751872.0000 - mae: 86971.6562 - val_loss: 9119712256.0000 - val_mae: 86805.8438\n",
      "Epoch 474/500\n",
      "30225/30225 [==============================] - 52s 2ms/step - loss: 9719599104.0000 - mae: 86941.8672 - val_loss: 9114577920.0000 - val_mae: 86776.8516\n",
      "Epoch 475/500\n",
      "30225/30225 [==============================] - 45s 1ms/step - loss: 9714463744.0000 - mae: 86913.0078 - val_loss: 9109479424.0000 - val_mae: 86747.1406\n",
      "Epoch 476/500\n",
      "30225/30225 [==============================] - 45s 1ms/step - loss: 9709378560.0000 - mae: 86883.3672 - val_loss: 9104374784.0000 - val_mae: 86717.7734\n",
      "Epoch 477/500\n",
      "30225/30225 [==============================] - 45s 1ms/step - loss: 9704194048.0000 - mae: 86853.4844 - val_loss: 9099258880.0000 - val_mae: 86688.5781\n",
      "Epoch 478/500\n",
      "30225/30225 [==============================] - 46s 2ms/step - loss: 9699078144.0000 - mae: 86824.6875 - val_loss: 9094142976.0000 - val_mae: 86659.3281\n",
      "Epoch 479/500\n",
      "30225/30225 [==============================] - 45s 1ms/step - loss: 9693965312.0000 - mae: 86795.1641 - val_loss: 9089037312.0000 - val_mae: 86629.8281\n",
      "Epoch 480/500\n",
      "30225/30225 [==============================] - 47s 2ms/step - loss: 9688870912.0000 - mae: 86765.7422 - val_loss: 9083947008.0000 - val_mae: 86600.3359\n",
      "Epoch 481/500\n",
      "30225/30225 [==============================] - 46s 2ms/step - loss: 9683748864.0000 - mae: 86736.5156 - val_loss: 9078828032.0000 - val_mae: 86571.2188\n",
      "Epoch 482/500\n",
      "30225/30225 [==============================] - 46s 2ms/step - loss: 9678617600.0000 - mae: 86707.0547 - val_loss: 9073717248.0000 - val_mae: 86541.8984\n",
      "Epoch 483/500\n",
      "30225/30225 [==============================] - 47s 2ms/step - loss: 9673508864.0000 - mae: 86677.6641 - val_loss: 9068609536.0000 - val_mae: 86512.2422\n",
      "Epoch 484/500\n",
      "30225/30225 [==============================] - 48s 2ms/step - loss: 9668434944.0000 - mae: 86648.5156 - val_loss: 9063501824.0000 - val_mae: 86482.8594\n",
      "Epoch 485/500\n",
      "30225/30225 [==============================] - 48s 2ms/step - loss: 9663310848.0000 - mae: 86618.9297 - val_loss: 9058399232.0000 - val_mae: 86453.8516\n",
      "Epoch 486/500\n",
      "30225/30225 [==============================] - 47s 2ms/step - loss: 9658190848.0000 - mae: 86589.7656 - val_loss: 9053287424.0000 - val_mae: 86424.2734\n",
      "Epoch 487/500\n",
      "30225/30225 [==============================] - 47s 2ms/step - loss: 9653105664.0000 - mae: 86560.3359 - val_loss: 9048174592.0000 - val_mae: 86394.8828\n",
      "Epoch 488/500\n",
      "30225/30225 [==============================] - 47s 2ms/step - loss: 9647960064.0000 - mae: 86530.9453 - val_loss: 9043100672.0000 - val_mae: 86365.7656\n",
      "Epoch 489/500\n",
      "30225/30225 [==============================] - 47s 2ms/step - loss: 9642877952.0000 - mae: 86501.3750 - val_loss: 9038004224.0000 - val_mae: 86336.5391\n",
      "Epoch 490/500\n",
      "30225/30225 [==============================] - 47s 2ms/step - loss: 9637769216.0000 - mae: 86472.1562 - val_loss: 9032924160.0000 - val_mae: 86307.0078\n",
      "Epoch 491/500\n",
      "30225/30225 [==============================] - 48s 2ms/step - loss: 9632644096.0000 - mae: 86442.8125 - val_loss: 9027821568.0000 - val_mae: 86277.3516\n",
      "Epoch 492/500\n",
      "30225/30225 [==============================] - 47s 2ms/step - loss: 9627563008.0000 - mae: 86413.1641 - val_loss: 9022729216.0000 - val_mae: 86248.4453\n",
      "Epoch 493/500\n",
      "30225/30225 [==============================] - 47s 2ms/step - loss: 9622469632.0000 - mae: 86384.0234 - val_loss: 9017650176.0000 - val_mae: 86218.8672\n",
      "Epoch 494/500\n",
      "30225/30225 [==============================] - 45s 1ms/step - loss: 9617320960.0000 - mae: 86354.5000 - val_loss: 9012583424.0000 - val_mae: 86189.2344\n",
      "Epoch 495/500\n",
      "30225/30225 [==============================] - 45s 1ms/step - loss: 9612300288.0000 - mae: 86325.3203 - val_loss: 9007508480.0000 - val_mae: 86160.1641\n",
      "Epoch 496/500\n",
      "30225/30225 [==============================] - 46s 2ms/step - loss: 9607116800.0000 - mae: 86296.1797 - val_loss: 9002409984.0000 - val_mae: 86130.9922\n",
      "Epoch 497/500\n",
      "30225/30225 [==============================] - 45s 1ms/step - loss: 9602106368.0000 - mae: 86266.6641 - val_loss: 8997319680.0000 - val_mae: 86101.4453\n",
      "Epoch 498/500\n",
      "30225/30225 [==============================] - 46s 2ms/step - loss: 9597036544.0000 - mae: 86237.5156 - val_loss: 8992239616.0000 - val_mae: 86071.8047\n",
      "Epoch 499/500\n",
      "30225/30225 [==============================] - 45s 1ms/step - loss: 9591922688.0000 - mae: 86207.8906 - val_loss: 8987161600.0000 - val_mae: 86042.9609\n",
      "Epoch 500/500\n",
      "30225/30225 [==============================] - 45s 1ms/step - loss: 9586842624.0000 - mae: 86178.6562 - val_loss: 8982092800.0000 - val_mae: 86013.4688\n"
     ]
    }
   ],
   "source": [
    "history = ann.fit(X_train, y_train,\n",
    "                    validation_data = (X_val, y_val),\n",
    "                    callbacks=[es],\n",
    "                    epochs=500,\n",
    "                    batch_size=50,\n",
    "                    verbose=1)"
   ]
  },
  {
   "cell_type": "markdown",
   "metadata": {
    "colab_type": "text",
    "id": "0H0zKKNEBLD5"
   },
   "source": [
    "### Analyse learn history"
   ]
  },
  {
   "cell_type": "code",
   "execution_count": 19,
   "metadata": {},
   "outputs": [
    {
     "data": {
      "image/png": "[encoded data removed]",
      "text/plain": [
       "<Figure size 432x288 with 1 Axes>"
      ]
     },
     "metadata": {
      "needs_background": "light"
     },
     "output_type": "display_data"
    }
   ],
   "source": [
    "# let's see the training and validation accuracy by epoch\n",
    "history_dict = history.history\n",
    "loss_values = history_dict['loss'] # you can change this\n",
    "val_loss_values = history_dict['val_loss'] # you can also change this\n",
    "epochs = range(1, len(loss_values) + 1) # range of X (no. of epochs)\n",
    "plt.plot(epochs, loss_values, 'blue', label='Train set loss')\n",
    "plt.plot(epochs, val_loss_values, 'orange', label='Validation set loss')\n",
    "#plt.title('Training and testing loss')\n",
    "plt.xlabel('Epochs')\n",
    "plt.ylabel('Loss (MSE)')\n",
    "plt.legend()\n",
    "plt.show()"
   ]
  },
  {
   "cell_type": "code",
   "execution_count": 20,
   "metadata": {},
   "outputs": [
    {
     "data": {
      "image/png": "[encoded data removed]",
      "text/plain": [
       "<Figure size 432x288 with 1 Axes>"
      ]
     },
     "metadata": {
      "needs_background": "light"
     },
     "output_type": "display_data"
    }
   ],
   "source": [
    "loss_values1 = history_dict['mae'] # you can change this\n",
    "val_loss_values1 = history_dict['val_mae'] # you can also change this\n",
    "epochs = range(1, len(loss_values1) + 1) # range of X (no. of epochs)\n",
    "plt.plot(epochs, loss_values1, 'blue', label='Train set MAE')\n",
    "plt.plot(epochs, val_loss_values1, 'orange', label='Validation set MAE')\n",
    "#plt.title('Training and testing MAE')\n",
    "plt.xlabel('Epochs')\n",
    "plt.ylabel('MAE')\n",
    "plt.legend()\n",
    "plt.show()"
   ]
  },
  {
   "cell_type": "code",
   "execution_count": 18,
   "metadata": {},
   "outputs": [
    {
     "name": "stdout",
     "output_type": "stream",
     "text": [
      "range(1, 387)\n"
     ]
    }
   ],
   "source": [
    "print (epochs)"
   ]
  },
  {
   "cell_type": "markdown",
   "metadata": {},
   "source": [
    "### Save the model"
   ]
  },
  {
   "cell_type": "code",
   "execution_count": 23,
   "metadata": {},
   "outputs": [],
   "source": [
    "ann.save('Profile_ANN_model_1.h5')"
   ]
  },
  {
   "cell_type": "markdown",
   "metadata": {},
   "source": [
    "## Part 5 - Make predictions"
   ]
  },
  {
   "cell_type": "code",
   "execution_count": 9,
   "metadata": {},
   "outputs": [],
   "source": [
    "ann = load_model('Profile_ANN_model_1.h5')"
   ]
  },
  {
   "cell_type": "code",
   "execution_count": 22,
   "metadata": {},
   "outputs": [
    {
     "name": "stdout",
     "output_type": "stream",
     "text": [
      "47226/47226 [==============================] - 45s 925us/step\n",
      "10120/10120 [==============================] - 8s 816us/step\n"
     ]
    },
    {
     "data": {
      "image/png": "[encoded data removed]",
      "text/plain": [
       "<Figure size 432x288 with 2 Axes>"
      ]
     },
     "metadata": {
      "needs_background": "light"
     },
     "output_type": "display_data"
    }
   ],
   "source": [
    "# scatterplot of actual vs. pred\n",
    "# specify the dimensions \n",
    "fig, axes = plt.subplots(1,2) # 1 row, 2 columns\n",
    "\n",
    "# this makes the individual subplots\n",
    "# Training Results\n",
    "axes[0].scatter(x=y_train, y=ann.predict(X_train)) #first row, first entry (left top)\n",
    "axes[0].set_xlabel(\"Actual\", fontsize=10)\n",
    "axes[0].set_ylabel(\"Predicted\",  fontsize=10)\n",
    "axes[0].set_title(\"Training\")\n",
    "# add 45 deg line\n",
    "x = np.linspace(*axes[0].get_xlim())\n",
    "axes[0].plot(x, x, color='red')\n",
    "# Validation Results\n",
    "axes[1].scatter(x=y_val, y=ann.predict(X_val)) # first row, second entry (right top)\n",
    "axes[1].set_xlabel(\"Actual\", fontsize=10)\n",
    "axes[1].set_ylabel(\"Predicted\",  fontsize=10)\n",
    "axes[1].set_title(\"Validation\")\n",
    "# add 45 deg line\n",
    "x = np.linspace(*axes[1].get_xlim())\n",
    "axes[1].plot(x, x, color='red')\n",
    "\n",
    "# tight layout\n",
    "fig.tight_layout()\n",
    "\n",
    "# show the plot\n",
    "plt.show()"
   ]
  },
  {
   "cell_type": "code",
   "execution_count": 21,
   "metadata": {
    "colab": {
     "base_uri": "https://localhost:8080/",
     "height": 134
    },
    "colab_type": "code",
    "id": "IA0yApEmBG1X",
    "outputId": "cb981e1f-9204-4a2a-fece-9d66a6919189"
   },
   "outputs": [
    {
     "name": "stdout",
     "output_type": "stream",
     "text": [
      "3/3 [==============================] - 0s 2ms/step\n",
      "[[0.1  0.1 ]\n",
      " [0.07 0.07]\n",
      " [0.1  0.1 ]\n",
      " [0.04 0.03]\n",
      " [0.05 0.04]\n",
      " [0.06 0.06]\n",
      " [0.11 0.11]\n",
      " [0.09 0.09]\n",
      " [0.04 0.04]\n",
      " [0.11 0.11]\n",
      " [0.06 0.06]\n",
      " [0.06 0.06]\n",
      " [0.07 0.07]\n",
      " [0.11 0.11]\n",
      " [0.09 0.09]\n",
      " [0.04 0.04]\n",
      " [0.08 0.08]\n",
      " [0.05 0.05]\n",
      " [0.09 0.09]\n",
      " [0.06 0.06]\n",
      " [0.03 0.03]\n",
      " [0.03 0.03]\n",
      " [0.1  0.1 ]\n",
      " [0.12 0.12]\n",
      " [0.03 0.02]\n",
      " [0.08 0.08]\n",
      " [0.04 0.04]\n",
      " [0.04 0.04]\n",
      " [0.11 0.11]\n",
      " [0.1  0.1 ]\n",
      " [0.06 0.06]\n",
      " [0.07 0.07]\n",
      " [0.04 0.04]\n",
      " [0.09 0.08]\n",
      " [0.06 0.05]\n",
      " [0.1  0.1 ]\n",
      " [0.1  0.1 ]\n",
      " [0.06 0.06]\n",
      " [0.05 0.05]\n",
      " [0.04 0.04]\n",
      " [0.09 0.09]\n",
      " [0.1  0.1 ]\n",
      " [0.07 0.07]\n",
      " [0.07 0.07]\n",
      " [0.06 0.06]\n",
      " [0.06 0.06]\n",
      " [0.07 0.07]\n",
      " [0.05 0.05]\n",
      " [0.08 0.08]\n",
      " [0.09 0.09]\n",
      " [0.04 0.04]\n",
      " [0.04 0.04]\n",
      " [0.04 0.04]\n",
      " [0.1  0.1 ]\n",
      " [0.06 0.05]\n",
      " [0.12 0.12]\n",
      " [0.11 0.11]\n",
      " [0.11 0.11]\n",
      " [0.06 0.06]\n",
      " [0.08 0.08]\n",
      " [0.04 0.04]\n",
      " [0.05 0.05]\n",
      " [0.1  0.1 ]\n",
      " [0.04 0.04]\n",
      " [0.09 0.09]\n",
      " [0.1  0.1 ]\n",
      " [0.11 0.11]\n",
      " [0.08 0.08]\n",
      " [0.04 0.05]\n",
      " [0.1  0.1 ]\n",
      " [0.08 0.08]\n",
      " [0.11 0.11]\n",
      " [0.1  0.1 ]\n",
      " [0.11 0.12]\n",
      " [0.1  0.1 ]\n",
      " [0.05 0.05]\n",
      " [0.11 0.11]\n",
      " [0.11 0.11]\n",
      " [0.08 0.08]\n",
      " [0.08 0.08]\n",
      " [0.05 0.05]\n",
      " [0.07 0.07]\n",
      " [0.08 0.08]\n",
      " [0.1  0.1 ]\n",
      " [0.04 0.04]\n",
      " [0.04 0.04]\n",
      " [0.07 0.07]]\n"
     ]
    }
   ],
   "source": [
    "#X_test=np.asarray(X_test).astype(np.int)\n",
    "\n",
    "#y_test=np.asarray(y_test).astype(np.int)\n",
    "\n",
    "y_pred = ann.predict(X_test)\n",
    "np.set_printoptions(precision=2)\n",
    "print(np.concatenate((y_pred.reshape(len(y_pred),1), y_test.reshape(len(y_test),1)),1))"
   ]
  },
  {
   "cell_type": "code",
   "execution_count": 22,
   "metadata": {},
   "outputs": [
    {
     "data": {
      "text/plain": [
       "Text(0, 0.5, 'Predicted data')"
      ]
     },
     "execution_count": 22,
     "metadata": {},
     "output_type": "execute_result"
    },
    {
     "data": {
      "image/png": "[encoded data removed]",
      "text/plain": [
       "<Figure size 432x288 with 1 Axes>"
      ]
     },
     "metadata": {
      "needs_background": "light"
     },
     "output_type": "display_data"
    }
   ],
   "source": [
    "import matplotlib.pyplot as plt\n",
    "plt.scatter(y_test, y_pred, color=\"blue\")\n",
    "plt.plot ([0,0.13],[0,0.13], color = \"red\")\n",
    "plt.axis ([0,0.13,0,0.13])\n",
    "plt.xlabel ('Actual data')\n",
    "plt.ylabel ('Predicted data')"
   ]
  },
  {
   "cell_type": "code",
   "execution_count": 23,
   "metadata": {},
   "outputs": [
    {
     "data": {
      "image/png": "[encoded data removed]",
      "text/plain": [
       "<Figure size 648x648 with 1 Axes>"
      ]
     },
     "metadata": {
      "needs_background": "light"
     },
     "output_type": "display_data"
    }
   ],
   "source": [
    "from sklearn.metrics import r2_score\n",
    "# Initialize layout\n",
    "fig1, ax1 = plt.subplots(figsize = (9, 9))\n",
    "\n",
    "\n",
    "#y = y_pred         # Model on prvious line is called here\n",
    "#x = y_test\n",
    "\n",
    "\n",
    "\n",
    "# Add scatterplot\n",
    "ax1.scatter(y_test, y_pred, s=70, alpha=1, edgecolors=\"k\",c='mediumblue',zorder=5, label = 'Points')\n",
    "\n",
    "\n",
    "plt.ylabel('Predicted Peak Incident Pressure (kPa)',fontsize = 25)\n",
    "plt.xlabel('Actual Peak Incident Pressure (kPa)',fontsize = 25)\n",
    "plt.xticks(fontsize = 19)\n",
    "plt.yticks(fontsize = 19)\n",
    "\n",
    "\n",
    "x1 = np.linspace(0,0.13)\n",
    "\n",
    "plt.plot(x1, x1, 'Red', label='45\\N{DEGREE SIGN} line',lw=2.5,alpha=1)\n",
    "plt.plot(x1, 1.1*x1, '--m', label='\\u00B110% Error',lw=2.5,alpha=0.7)\n",
    "plt.plot(x1, 0.9*x1,'m', linestyle='--',lw=2.5,alpha=0.7)\n",
    "plt.plot(x1, 1.2*x1, '-.g', label='\\u00B120% Error',lw=2.5,alpha=0.7)\n",
    "plt.plot(x1, 0.8*x1,'-.g',lw=2.5,alpha=0.7)\n",
    "\n",
    "plt.ylim(0, 0.13)\n",
    "plt.xlim(0, 0.13)\n",
    "plt.legend(loc='upper left',fontsize = 25)\n",
    "\n",
    "plt.grid()\n",
    "\n",
    "ax1.spines['left'].set_color('black')        # setting up Y-axis tick color to red\n",
    "ax1.spines['bottom'].set_color('black')         #setting up above X-axis tick color to red\n",
    "\n",
    "\n",
    "\n",
    "#ax1.annotate(\"$R^2$ = {:.3f}\".format(r2), (2500, 1000),fontsize = 25)  #Model is called here\n",
    "#ax1.annotate(\"Adj.$R^2$ = {:.3f}\".format(adj_r2), (2500, 750),fontsize = 25)\n",
    "\n",
    "#plt.savefig('plot1.png', dpi = 600, bbox_inches = 'tight')"
   ]
  },
  {
   "cell_type": "code",
   "execution_count": 24,
   "metadata": {},
   "outputs": [
    {
     "name": "stdout",
     "output_type": "stream",
     "text": [
      "13/13 [==============================] - 0s 2ms/step\n",
      "0.0015360867585725738\n",
      "0.0017091962027872966\n"
     ]
    }
   ],
   "source": [
    "# metrics\n",
    "\n",
    "\n",
    "trainpreds = ann.predict(X_train)\n",
    "\n",
    "from sklearn.metrics import mean_absolute_error\n",
    "print(mean_absolute_error(y_train, trainpreds)) # train\n",
    "print(mean_absolute_error(y_test, y_pred)) # test"
   ]
  },
  {
   "cell_type": "code",
   "execution_count": 25,
   "metadata": {},
   "outputs": [
    {
     "name": "stdout",
     "output_type": "stream",
     "text": [
      "0.9935515869956414\n"
     ]
    }
   ],
   "source": [
    "from sklearn.metrics import r2_score\n",
    "r2 = r2_score(y_test, y_pred)\n",
    "print (r2)"
   ]
  },
  {
   "cell_type": "code",
   "execution_count": 26,
   "metadata": {},
   "outputs": [
    {
     "name": "stdout",
     "output_type": "stream",
     "text": [
      "0.9945304083939845\n"
     ]
    }
   ],
   "source": [
    "r2_train = r2_score(y_train, trainpreds)\n",
    "print (r2_train)"
   ]
  },
  {
   "cell_type": "code",
   "execution_count": 27,
   "metadata": {},
   "outputs": [
    {
     "name": "stdout",
     "output_type": "stream",
     "text": [
      "Within 10% margin 94.25%\n",
      "Within 20% margin 98.85%\n",
      "Out of 20% margin 1.15%\n"
     ]
    }
   ],
   "source": [
    "count1 = 0\n",
    "for i in range(len(y_pred)):\n",
    "    line1 = y_pred[i] - 0.9*y_test[i]\n",
    "    line2 = y_pred[i] - 1.1*y_test[i]\n",
    "    #print ('line 1 ', line1)\n",
    "    #print ('line 2 ', line2)\n",
    "    mask1 = (line1 > 0) & (line2 < 0)\n",
    "    #print (mask)\n",
    "    count1 = np.sum(mask1+count1)\n",
    "    #print (count)\n",
    "\n",
    "count2 = 0\n",
    "for j in range(len(y_pred)):\n",
    "    line3 = y_pred[j] - 0.8*y_test[j]\n",
    "    line4 = y_pred[j] - 1.2*y_test[j]\n",
    "    mask2 = (line3 > 0) & (line4 < 0)\n",
    "    count2 = np.sum(mask2+count2)\n",
    "\n",
    "\n",
    "count3 = 0    \n",
    "for k in range(len(y_pred)):\n",
    "    line5 = y_pred[k] - 0.8*y_test[k]\n",
    "    line6 = y_pred[k] - 1.2*y_test[k]\n",
    "    mask3 = (line5 < 0) or (line6 > 0)\n",
    "    count3 = np.sum(mask3+count3)\n",
    "   \n",
    "\n",
    "print ('Within 10% margin', format((count1/len (y_pred)),'.2%'))\n",
    "print ('Within 20% margin', format((count2/len (y_pred)),'.2%'))\n",
    "print ('Out of 20% margin', format((count3/len (y_pred)),'.2%'))"
   ]
  },
  {
   "cell_type": "code",
   "execution_count": 28,
   "metadata": {},
   "outputs": [
    {
     "name": "stdout",
     "output_type": "stream",
     "text": [
      "0.9933980533526805\n"
     ]
    }
   ],
   "source": [
    "adj_r2 = 1 - ((1 - r2) * (len(X_test) - 1) / (len(X_test) - len (X_test[0]) - 1))\n",
    "print (adj_r2)"
   ]
  },
  {
   "cell_type": "code",
   "execution_count": 29,
   "metadata": {},
   "outputs": [
    {
     "data": {
      "text/plain": [
       "0.0021378191793317578"
      ]
     },
     "execution_count": 29,
     "metadata": {},
     "output_type": "execute_result"
    }
   ],
   "source": [
    "import math\n",
    "from sklearn.metrics import mean_squared_error\n",
    "\n",
    "math.sqrt(mean_squared_error(y_test, y_pred))"
   ]
  },
  {
   "cell_type": "code",
   "execution_count": 30,
   "metadata": {},
   "outputs": [
    {
     "data": {
      "text/plain": [
       "0.0017091962027872966"
      ]
     },
     "execution_count": 30,
     "metadata": {},
     "output_type": "execute_result"
    }
   ],
   "source": [
    "from sklearn.metrics import mean_absolute_error\n",
    "\n",
    "mean_absolute_error(y_test, y_pred)"
   ]
  }
 ],
 "metadata": {
  "colab": {
   "collapsed_sections": [],
   "name": "Artificial Neural Network",
   "provenance": [],
   "toc_visible": true
  },
  "kernelspec": {
   "display_name": "Python 3 (ipykernel)",
   "language": "python",
   "name": "python3"
  },
  "language_info": {
   "codemirror_mode": {
    "name": "ipython",
    "version": 3
   },
   "file_extension": ".py",
   "mimetype": "text/x-python",
   "name": "python",
   "nbconvert_exporter": "python",
   "pygments_lexer": "ipython3",
   "version": "3.9.7"
  }
 },
 "nbformat": 4,
 "nbformat_minor": 4
}
