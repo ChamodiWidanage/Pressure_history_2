{
 "cells": [
  {
   "cell_type": "markdown",
   "metadata": {
    "colab_type": "text",
    "id": "8sNDnxE2-pwE"
   },
   "source": [
    "### Importing the libraries"
   ]
  },
  {
   "cell_type": "code",
   "execution_count": 1,
   "metadata": {
    "colab": {},
    "colab_type": "code",
    "id": "lxChR1Rk-umf",
    "ExecuteTime": {
     "end_time": "2024-07-24T23:58:30.071153600Z",
     "start_time": "2024-07-24T23:58:25.695987400Z"
    }
   },
   "outputs": [],
   "source": [
    "import numpy as np\n",
    "import pandas as pd\n",
    "import tensorflow as tf"
   ]
  },
  {
   "cell_type": "markdown",
   "metadata": {
    "colab_type": "text",
    "id": "-4zq8Mza_D9O"
   },
   "source": [
    "### Importing the dataset"
   ]
  },
  {
   "cell_type": "code",
   "execution_count": 2,
   "metadata": {
    "colab": {},
    "colab_type": "code",
    "id": "B9CV13Co_HHM",
    "ExecuteTime": {
     "end_time": "2024-07-24T23:58:35.821083600Z",
     "start_time": "2024-07-24T23:58:34.977118900Z"
    }
   },
   "outputs": [
    {
     "name": "stdout",
     "output_type": "stream",
     "text": [
      "<class 'pandas.core.frame.DataFrame'>\n",
      "RangeIndex: 1064 entries, 0 to 1063\n",
      "Data columns (total 4 columns):\n",
      " #   Column             Non-Null Count  Dtype  \n",
      "---  ------             --------------  -----  \n",
      " 0   Mass               1064 non-null   float64\n",
      " 1   Standoff distance  1064 non-null   int64  \n",
      " 2   Angle              1064 non-null   int64  \n",
      " 3   Trough time        1064 non-null   float64\n",
      "dtypes: float64(2), int64(2)\n",
      "memory usage: 33.4 KB\n"
     ]
    }
   ],
   "source": [
    "dataset = pd.read_excel('RP_trough_all.xlsx')\n",
    "dataset.info()"
   ]
  },
  {
   "cell_type": "code",
   "execution_count": 3,
   "metadata": {
    "ExecuteTime": {
     "end_time": "2024-07-24T23:58:38.039656300Z",
     "start_time": "2024-07-24T23:58:37.992877100Z"
    }
   },
   "outputs": [
    {
     "data": {
      "text/plain": "   Mass  Standoff distance  Angle  Trough time\n0   0.5                  5      0    11.083063\n1   0.5                  5     15    13.893293\n2   0.5                  5     30    15.724705\n3   0.5                  5     45    21.162968\n4   2.5                  5      0    11.836605",
      "text/html": "<div>\n<style scoped>\n    .dataframe tbody tr th:only-of-type {\n        vertical-align: middle;\n    }\n\n    .dataframe tbody tr th {\n        vertical-align: top;\n    }\n\n    .dataframe thead th {\n        text-align: right;\n    }\n</style>\n<table border=\"1\" class=\"dataframe\">\n  <thead>\n    <tr style=\"text-align: right;\">\n      <th></th>\n      <th>Mass</th>\n      <th>Standoff distance</th>\n      <th>Angle</th>\n      <th>Trough time</th>\n    </tr>\n  </thead>\n  <tbody>\n    <tr>\n      <th>0</th>\n      <td>0.5</td>\n      <td>5</td>\n      <td>0</td>\n      <td>11.083063</td>\n    </tr>\n    <tr>\n      <th>1</th>\n      <td>0.5</td>\n      <td>5</td>\n      <td>15</td>\n      <td>13.893293</td>\n    </tr>\n    <tr>\n      <th>2</th>\n      <td>0.5</td>\n      <td>5</td>\n      <td>30</td>\n      <td>15.724705</td>\n    </tr>\n    <tr>\n      <th>3</th>\n      <td>0.5</td>\n      <td>5</td>\n      <td>45</td>\n      <td>21.162968</td>\n    </tr>\n    <tr>\n      <th>4</th>\n      <td>2.5</td>\n      <td>5</td>\n      <td>0</td>\n      <td>11.836605</td>\n    </tr>\n  </tbody>\n</table>\n</div>"
     },
     "execution_count": 3,
     "metadata": {},
     "output_type": "execute_result"
    }
   ],
   "source": [
    "dataset.head()"
   ]
  },
  {
   "cell_type": "code",
   "execution_count": 4,
   "metadata": {
    "ExecuteTime": {
     "end_time": "2024-07-24T23:58:39.664968500Z",
     "start_time": "2024-07-24T23:58:39.649422500Z"
    }
   },
   "outputs": [
    {
     "name": "stdout",
     "output_type": "stream",
     "text": [
      "(1064, 3) (1064,)\n"
     ]
    }
   ],
   "source": [
    "y = dataset['Trough time']\n",
    "X = dataset.drop(['Trough time'], axis=1)\n",
    "print(X.shape, y.shape)"
   ]
  },
  {
   "cell_type": "code",
   "execution_count": 5,
   "metadata": {
    "ExecuteTime": {
     "end_time": "2024-07-24T23:58:40.702609700Z",
     "start_time": "2024-07-24T23:58:40.639377200Z"
    }
   },
   "outputs": [],
   "source": [
    "# convert to numpy array\n",
    "X = np.array(X)\n",
    "y = np.array(y)"
   ]
  },
  {
   "cell_type": "markdown",
   "metadata": {
    "colab_type": "text",
    "id": "VC6omXel_Up0"
   },
   "source": [
    "### Splitting the dataset into the Training set and Test set"
   ]
  },
  {
   "cell_type": "code",
   "execution_count": 6,
   "metadata": {
    "colab": {},
    "colab_type": "code",
    "id": "L5edeb2r_agx",
    "ExecuteTime": {
     "end_time": "2024-07-24T23:58:42.777632200Z",
     "start_time": "2024-07-24T23:58:41.867942500Z"
    }
   },
   "outputs": [],
   "source": [
    "from sklearn.model_selection import train_test_split\n",
    "X_train, X_test, y_train, y_test = train_test_split(X,\n",
    "                                                    y,\n",
    "                                                    test_size = 0.3,\n",
    "                                                    random_state = 0)"
   ]
  },
  {
   "cell_type": "code",
   "execution_count": 7,
   "metadata": {
    "colab": {},
    "colab_type": "code",
    "id": "L5edeb2r_agx",
    "ExecuteTime": {
     "end_time": "2024-07-24T23:59:03.774285600Z",
     "start_time": "2024-07-24T23:59:03.758638800Z"
    }
   },
   "outputs": [],
   "source": [
    "X_val, X_test, y_val, y_test = train_test_split(X_test,\n",
    "                                                y_test,\n",
    "                                                test_size = 0.5,\n",
    "                                                random_state = 0)"
   ]
  },
  {
   "cell_type": "markdown",
   "metadata": {
    "colab_type": "text",
    "id": "_mSLlAT9_eyI"
   },
   "source": [
    "# Part 2 - Building the ANN"
   ]
  },
  {
   "cell_type": "markdown",
   "source": [],
   "metadata": {
    "collapsed": false
   }
  },
  {
   "cell_type": "markdown",
   "metadata": {
    "colab_type": "text",
    "id": "CsBULd_f_wLY"
   },
   "source": [
    "### Initializing the ANN"
   ]
  },
  {
   "cell_type": "code",
   "execution_count": 8,
   "metadata": {
    "colab": {},
    "colab_type": "code",
    "id": "J6Hd97Ls__Nz",
    "ExecuteTime": {
     "end_time": "2024-07-24T23:59:06.133669700Z",
     "start_time": "2024-07-24T23:59:06.071254Z"
    }
   },
   "outputs": [],
   "source": [
    "ann = tf.keras.models.Sequential()"
   ]
  },
  {
   "cell_type": "markdown",
   "metadata": {
    "colab_type": "text",
    "id": "iitAFJS_ABUn"
   },
   "source": [
    "### Adding the input layer and the first hidden layer"
   ]
  },
  {
   "cell_type": "code",
   "execution_count": 9,
   "metadata": {
    "colab": {},
    "colab_type": "code",
    "id": "ksO_Vv40AHix",
    "ExecuteTime": {
     "end_time": "2024-07-24T23:59:07.865985700Z",
     "start_time": "2024-07-24T23:59:07.818266100Z"
    }
   },
   "outputs": [],
   "source": [
    "ann.add(tf.keras.layers.Dense(units=8,\n",
    "                              input_shape=(X_train.shape[1],),\n",
    "                              activation='leaky_relu'))"
   ]
  },
  {
   "cell_type": "markdown",
   "metadata": {
    "colab_type": "text",
    "id": "-lb4kK_wAKbs"
   },
   "source": [
    "### Adding the second hidden layer"
   ]
  },
  {
   "cell_type": "code",
   "execution_count": 10,
   "metadata": {
    "colab": {},
    "colab_type": "code",
    "id": "c2357OqEAQOQ",
    "tags": [],
    "ExecuteTime": {
     "end_time": "2024-07-24T23:59:09.277819300Z",
     "start_time": "2024-07-24T23:59:09.230367800Z"
    }
   },
   "outputs": [],
   "source": [
    "ann.add(tf.keras.layers.Dense(units=7,\n",
    "                              activation='leaky_relu'))"
   ]
  },
  {
   "cell_type": "markdown",
   "metadata": {
    "colab_type": "text",
    "id": "-lb4kK_wAKbs"
   },
   "source": [
    "### Adding the third hidden layer"
   ]
  },
  {
   "cell_type": "code",
   "execution_count": 11,
   "metadata": {
    "colab": {},
    "colab_type": "code",
    "id": "c2357OqEAQOQ",
    "tags": [],
    "ExecuteTime": {
     "end_time": "2024-07-24T23:59:10.484975200Z",
     "start_time": "2024-07-24T23:59:10.446285900Z"
    }
   },
   "outputs": [],
   "source": [
    "ann.add(tf.keras.layers.Dense(units=5,\n",
    "                              activation='leaky_relu'))"
   ]
  },
  {
   "cell_type": "markdown",
   "metadata": {
    "colab_type": "text",
    "id": "jwMOmKb3AdBY"
   },
   "source": [
    "### Adding the output layer"
   ]
  },
  {
   "cell_type": "code",
   "execution_count": 12,
   "metadata": {
    "colab": {},
    "colab_type": "code",
    "id": "YFATpzsUAkLL",
    "ExecuteTime": {
     "end_time": "2024-07-24T23:59:11.755223300Z",
     "start_time": "2024-07-24T23:59:11.707912900Z"
    }
   },
   "outputs": [],
   "source": [
    "ann.add(tf.keras.layers.Dense(units=1,\n",
    "                              activation='linear'))"
   ]
  },
  {
   "cell_type": "markdown",
   "metadata": {},
   "source": [
    "### what model looks like"
   ]
  },
  {
   "cell_type": "code",
   "execution_count": 13,
   "metadata": {
    "ExecuteTime": {
     "end_time": "2024-07-24T23:59:13.011364500Z",
     "start_time": "2024-07-24T23:59:12.900045900Z"
    }
   },
   "outputs": [
    {
     "name": "stdout",
     "output_type": "stream",
     "text": [
      "Model: \"sequential\"\n",
      "_________________________________________________________________\n",
      " Layer (type)                Output Shape              Param #   \n",
      "=================================================================\n",
      " dense (Dense)               (None, 8)                 32        \n",
      "                                                                 \n",
      " dense_1 (Dense)             (None, 7)                 63        \n",
      "                                                                 \n",
      " dense_2 (Dense)             (None, 5)                 40        \n",
      "                                                                 \n",
      " dense_3 (Dense)             (None, 1)                 6         \n",
      "                                                                 \n",
      "=================================================================\n",
      "Total params: 141\n",
      "Trainable params: 141\n",
      "Non-trainable params: 0\n",
      "_________________________________________________________________\n"
     ]
    }
   ],
   "source": [
    "ann.summary()"
   ]
  },
  {
   "cell_type": "markdown",
   "metadata": {
    "colab_type": "text",
    "id": "fq7e4fF6A1yy"
   },
   "source": [
    "# Part 3 - Training the ANN"
   ]
  },
  {
   "cell_type": "markdown",
   "metadata": {
    "colab_type": "text",
    "id": "qDeylAs2An25"
   },
   "source": [
    "### Compiling the ANN"
   ]
  },
  {
   "cell_type": "code",
   "execution_count": 14,
   "metadata": {
    "colab": {},
    "colab_type": "code",
    "id": "pesgbWlCAtB4",
    "ExecuteTime": {
     "end_time": "2024-07-24T23:59:14.713643Z",
     "start_time": "2024-07-24T23:59:14.697954Z"
    }
   },
   "outputs": [],
   "source": [
    "from tensorflow.keras.optimizers import Adam\n",
    "opt = Adam(learning_rate=0.1)\n",
    "ann.compile(optimizer = opt,\n",
    "            loss = 'mean_squared_error',\n",
    "            metrics = ['mae'])"
   ]
  },
  {
   "cell_type": "markdown",
   "metadata": {},
   "source": [
    "### early stopping callback"
   ]
  },
  {
   "cell_type": "code",
   "execution_count": 15,
   "metadata": {
    "ExecuteTime": {
     "end_time": "2024-07-24T23:59:16.572732900Z",
     "start_time": "2024-07-24T23:59:16.571222Z"
    }
   },
   "outputs": [],
   "source": [
    "# protects from unnecessary further training of the model\n",
    "#if a particular metric does not continue to improve over a number of n epochs.\n",
    "#In such a case, the model training would be automatically aborted.\n",
    "from keras.callbacks import EarlyStopping\n",
    "es = EarlyStopping(monitor='val_loss',\n",
    "                   mode='min',\n",
    "                   patience=50,\n",
    "                   restore_best_weights = True)"
   ]
  },
  {
   "cell_type": "markdown",
   "metadata": {
    "colab_type": "text",
    "id": "YjVuiybYOo7r"
   },
   "source": [
    "### Training the ANN model on the Training set"
   ]
  },
  {
   "cell_type": "code",
   "execution_count": 16,
   "metadata": {
    "colab": {
     "base_uri": "https://localhost:8080/",
     "height": 1000
    },
    "colab_type": "code",
    "id": "c_vV-tiiA5zn",
    "outputId": "4a2b6ee6-ed75-4698-9069-b250e613803f",
    "ExecuteTime": {
     "end_time": "2024-07-24T23:59:30.165154500Z",
     "start_time": "2024-07-24T23:59:17.771288700Z"
    }
   },
   "outputs": [
    {
     "name": "stdout",
     "output_type": "stream",
     "text": [
      "Epoch 1/500\n",
      "25/25 [==============================] - 1s 15ms/step - loss: 1977.2777 - mae: 34.1805 - val_loss: 501.5260 - val_mae: 18.1285\n",
      "Epoch 2/500\n",
      "25/25 [==============================] - 0s 4ms/step - loss: 210.1637 - mae: 11.6912 - val_loss: 146.5524 - val_mae: 10.3553\n",
      "Epoch 3/500\n",
      "25/25 [==============================] - 0s 3ms/step - loss: 129.6355 - mae: 9.4022 - val_loss: 112.9495 - val_mae: 9.0032\n",
      "Epoch 4/500\n",
      "25/25 [==============================] - 0s 3ms/step - loss: 108.9167 - mae: 8.4580 - val_loss: 97.7737 - val_mae: 8.2289\n",
      "Epoch 5/500\n",
      "25/25 [==============================] - 0s 3ms/step - loss: 108.5528 - mae: 8.3846 - val_loss: 137.5970 - val_mae: 9.8638\n",
      "Epoch 6/500\n",
      "25/25 [==============================] - 0s 3ms/step - loss: 118.9857 - mae: 8.7993 - val_loss: 102.5781 - val_mae: 8.3876\n",
      "Epoch 7/500\n",
      "25/25 [==============================] - 0s 4ms/step - loss: 96.6203 - mae: 8.0211 - val_loss: 70.7928 - val_mae: 7.0726\n",
      "Epoch 8/500\n",
      "25/25 [==============================] - 0s 4ms/step - loss: 79.0874 - mae: 7.1464 - val_loss: 63.6892 - val_mae: 6.4339\n",
      "Epoch 9/500\n",
      "25/25 [==============================] - 0s 4ms/step - loss: 66.3756 - mae: 6.4794 - val_loss: 75.4618 - val_mae: 6.9576\n",
      "Epoch 10/500\n",
      "25/25 [==============================] - 0s 3ms/step - loss: 59.1777 - mae: 6.1770 - val_loss: 77.2713 - val_mae: 7.0076\n",
      "Epoch 11/500\n",
      "25/25 [==============================] - 0s 4ms/step - loss: 61.0746 - mae: 6.2250 - val_loss: 47.7636 - val_mae: 5.4330\n",
      "Epoch 12/500\n",
      "25/25 [==============================] - 0s 3ms/step - loss: 55.8470 - mae: 5.8966 - val_loss: 48.2840 - val_mae: 5.4599\n",
      "Epoch 13/500\n",
      "25/25 [==============================] - 0s 3ms/step - loss: 55.1383 - mae: 5.9388 - val_loss: 49.8798 - val_mae: 5.6910\n",
      "Epoch 14/500\n",
      "25/25 [==============================] - 0s 4ms/step - loss: 70.1826 - mae: 6.6896 - val_loss: 47.9181 - val_mae: 5.5046\n",
      "Epoch 15/500\n",
      "25/25 [==============================] - 0s 3ms/step - loss: 52.8108 - mae: 5.8371 - val_loss: 45.8852 - val_mae: 5.3323\n",
      "Epoch 16/500\n",
      "25/25 [==============================] - 0s 4ms/step - loss: 56.9154 - mae: 5.9750 - val_loss: 46.1219 - val_mae: 5.2468\n",
      "Epoch 17/500\n",
      "25/25 [==============================] - 0s 3ms/step - loss: 55.4976 - mae: 5.9092 - val_loss: 63.6821 - val_mae: 6.4586\n",
      "Epoch 18/500\n",
      "25/25 [==============================] - 0s 3ms/step - loss: 59.5576 - mae: 6.0756 - val_loss: 46.4493 - val_mae: 5.5275\n",
      "Epoch 19/500\n",
      "25/25 [==============================] - 0s 3ms/step - loss: 49.5258 - mae: 5.5746 - val_loss: 42.6105 - val_mae: 5.1668\n",
      "Epoch 20/500\n",
      "25/25 [==============================] - 0s 3ms/step - loss: 51.0728 - mae: 5.6575 - val_loss: 55.0033 - val_mae: 6.0411\n",
      "Epoch 21/500\n",
      "25/25 [==============================] - 0s 4ms/step - loss: 68.7890 - mae: 6.5005 - val_loss: 79.1183 - val_mae: 7.3782\n",
      "Epoch 22/500\n",
      "25/25 [==============================] - 0s 3ms/step - loss: 54.7574 - mae: 5.9142 - val_loss: 41.9952 - val_mae: 4.9739\n",
      "Epoch 23/500\n",
      "25/25 [==============================] - 0s 3ms/step - loss: 51.6146 - mae: 5.6329 - val_loss: 78.0387 - val_mae: 7.3026\n",
      "Epoch 24/500\n",
      "25/25 [==============================] - 0s 3ms/step - loss: 57.0238 - mae: 6.0169 - val_loss: 63.4993 - val_mae: 6.5297\n",
      "Epoch 25/500\n",
      "25/25 [==============================] - 0s 3ms/step - loss: 48.8838 - mae: 5.6078 - val_loss: 89.7804 - val_mae: 8.0406\n",
      "Epoch 26/500\n",
      "25/25 [==============================] - 0s 3ms/step - loss: 52.0797 - mae: 5.7043 - val_loss: 36.6689 - val_mae: 4.7037\n",
      "Epoch 27/500\n",
      "25/25 [==============================] - 0s 4ms/step - loss: 39.3024 - mae: 4.9446 - val_loss: 33.6275 - val_mae: 4.5827\n",
      "Epoch 28/500\n",
      "25/25 [==============================] - 0s 3ms/step - loss: 41.4176 - mae: 5.0619 - val_loss: 42.3089 - val_mae: 5.4372\n",
      "Epoch 29/500\n",
      "25/25 [==============================] - 0s 3ms/step - loss: 50.2066 - mae: 5.6438 - val_loss: 38.1002 - val_mae: 4.6585\n",
      "Epoch 30/500\n",
      "25/25 [==============================] - 0s 4ms/step - loss: 46.8011 - mae: 5.4575 - val_loss: 32.0622 - val_mae: 4.2804\n",
      "Epoch 31/500\n",
      "25/25 [==============================] - 0s 4ms/step - loss: 37.5066 - mae: 4.8947 - val_loss: 30.6204 - val_mae: 4.3661\n",
      "Epoch 32/500\n",
      "25/25 [==============================] - 0s 4ms/step - loss: 38.3985 - mae: 4.8601 - val_loss: 33.3129 - val_mae: 4.2940\n",
      "Epoch 33/500\n",
      "25/25 [==============================] - 0s 3ms/step - loss: 40.9236 - mae: 4.9980 - val_loss: 38.2035 - val_mae: 4.8202\n",
      "Epoch 34/500\n",
      "25/25 [==============================] - 0s 4ms/step - loss: 69.8976 - mae: 6.7674 - val_loss: 82.9479 - val_mae: 7.2723\n",
      "Epoch 35/500\n",
      "25/25 [==============================] - 0s 3ms/step - loss: 45.5427 - mae: 5.2841 - val_loss: 34.8863 - val_mae: 4.5960\n",
      "Epoch 36/500\n",
      "25/25 [==============================] - 0s 3ms/step - loss: 44.1001 - mae: 5.2858 - val_loss: 48.1340 - val_mae: 5.8385\n",
      "Epoch 37/500\n",
      "25/25 [==============================] - 0s 3ms/step - loss: 36.0475 - mae: 4.6996 - val_loss: 28.2385 - val_mae: 4.0174\n",
      "Epoch 38/500\n",
      "25/25 [==============================] - 0s 3ms/step - loss: 35.5174 - mae: 4.7255 - val_loss: 34.2300 - val_mae: 4.4979\n",
      "Epoch 39/500\n",
      "25/25 [==============================] - 0s 4ms/step - loss: 31.9314 - mae: 4.4749 - val_loss: 38.8706 - val_mae: 5.3344\n",
      "Epoch 40/500\n",
      "25/25 [==============================] - 0s 3ms/step - loss: 33.7248 - mae: 4.5696 - val_loss: 27.6224 - val_mae: 3.9295\n",
      "Epoch 41/500\n",
      "25/25 [==============================] - 0s 3ms/step - loss: 32.8976 - mae: 4.5698 - val_loss: 38.7215 - val_mae: 4.6807\n",
      "Epoch 42/500\n",
      "25/25 [==============================] - 0s 4ms/step - loss: 44.7752 - mae: 5.2954 - val_loss: 41.7894 - val_mae: 4.8879\n",
      "Epoch 43/500\n",
      "25/25 [==============================] - 0s 3ms/step - loss: 61.5164 - mae: 6.2120 - val_loss: 28.0137 - val_mae: 3.9879\n",
      "Epoch 44/500\n",
      "25/25 [==============================] - 0s 3ms/step - loss: 35.9890 - mae: 4.7787 - val_loss: 27.6197 - val_mae: 4.2647\n",
      "Epoch 45/500\n",
      "25/25 [==============================] - 0s 4ms/step - loss: 29.4744 - mae: 4.1996 - val_loss: 26.6359 - val_mae: 3.9573\n",
      "Epoch 46/500\n",
      "25/25 [==============================] - 0s 4ms/step - loss: 30.4156 - mae: 4.3464 - val_loss: 33.9308 - val_mae: 4.7461\n",
      "Epoch 47/500\n",
      "25/25 [==============================] - 0s 4ms/step - loss: 33.6033 - mae: 4.5591 - val_loss: 41.6656 - val_mae: 5.2571\n",
      "Epoch 48/500\n",
      "25/25 [==============================] - 0s 3ms/step - loss: 29.6592 - mae: 4.3000 - val_loss: 24.7371 - val_mae: 3.6226\n",
      "Epoch 49/500\n",
      "25/25 [==============================] - 0s 4ms/step - loss: 31.6775 - mae: 4.4267 - val_loss: 23.6702 - val_mae: 3.6226\n",
      "Epoch 50/500\n",
      "25/25 [==============================] - 0s 3ms/step - loss: 37.6860 - mae: 4.8717 - val_loss: 33.0701 - val_mae: 4.8006\n",
      "Epoch 51/500\n",
      "25/25 [==============================] - 0s 4ms/step - loss: 26.7406 - mae: 4.0908 - val_loss: 21.7327 - val_mae: 3.4860\n",
      "Epoch 52/500\n",
      "25/25 [==============================] - 0s 3ms/step - loss: 21.2024 - mae: 3.6676 - val_loss: 18.1366 - val_mae: 3.1823\n",
      "Epoch 53/500\n",
      "25/25 [==============================] - 0s 3ms/step - loss: 22.7659 - mae: 3.7503 - val_loss: 21.2060 - val_mae: 3.4440\n",
      "Epoch 54/500\n",
      "25/25 [==============================] - 0s 4ms/step - loss: 44.1874 - mae: 5.1424 - val_loss: 33.4343 - val_mae: 4.7872\n",
      "Epoch 55/500\n",
      "25/25 [==============================] - 0s 3ms/step - loss: 25.1910 - mae: 3.9271 - val_loss: 20.3719 - val_mae: 3.5294\n",
      "Epoch 56/500\n",
      "25/25 [==============================] - 0s 3ms/step - loss: 40.9280 - mae: 5.0314 - val_loss: 18.0422 - val_mae: 3.2825\n",
      "Epoch 57/500\n",
      "25/25 [==============================] - 0s 4ms/step - loss: 23.2434 - mae: 3.8200 - val_loss: 65.1706 - val_mae: 7.1198\n",
      "Epoch 58/500\n",
      "25/25 [==============================] - 0s 4ms/step - loss: 37.8385 - mae: 4.8170 - val_loss: 57.3381 - val_mae: 6.3802\n",
      "Epoch 59/500\n",
      "25/25 [==============================] - 0s 3ms/step - loss: 26.0518 - mae: 4.0516 - val_loss: 17.2972 - val_mae: 3.2437\n",
      "Epoch 60/500\n",
      "25/25 [==============================] - 0s 3ms/step - loss: 16.2536 - mae: 3.1517 - val_loss: 20.6582 - val_mae: 3.6958\n",
      "Epoch 61/500\n",
      "25/25 [==============================] - 0s 3ms/step - loss: 20.1780 - mae: 3.4501 - val_loss: 19.0066 - val_mae: 3.6055\n",
      "Epoch 62/500\n",
      "25/25 [==============================] - 0s 3ms/step - loss: 26.4542 - mae: 3.8955 - val_loss: 20.8457 - val_mae: 3.6539\n",
      "Epoch 63/500\n",
      "25/25 [==============================] - 0s 4ms/step - loss: 23.7783 - mae: 3.8401 - val_loss: 19.2532 - val_mae: 3.4738\n",
      "Epoch 64/500\n",
      "25/25 [==============================] - 0s 3ms/step - loss: 24.8987 - mae: 3.8662 - val_loss: 15.3385 - val_mae: 2.9162\n",
      "Epoch 65/500\n",
      "25/25 [==============================] - 0s 3ms/step - loss: 22.3086 - mae: 3.7204 - val_loss: 23.5603 - val_mae: 3.7839\n",
      "Epoch 66/500\n",
      "25/25 [==============================] - 0s 4ms/step - loss: 38.1503 - mae: 4.8822 - val_loss: 50.0869 - val_mae: 6.1269\n",
      "Epoch 67/500\n",
      "25/25 [==============================] - 0s 3ms/step - loss: 37.9364 - mae: 4.7758 - val_loss: 67.5326 - val_mae: 6.7967\n",
      "Epoch 68/500\n",
      "25/25 [==============================] - 0s 3ms/step - loss: 22.4995 - mae: 3.7427 - val_loss: 22.9643 - val_mae: 3.8962\n",
      "Epoch 69/500\n",
      "25/25 [==============================] - 0s 4ms/step - loss: 22.8038 - mae: 3.6921 - val_loss: 26.4308 - val_mae: 4.1087\n",
      "Epoch 70/500\n",
      "25/25 [==============================] - 0s 3ms/step - loss: 26.0928 - mae: 4.0304 - val_loss: 19.8684 - val_mae: 3.5460\n",
      "Epoch 71/500\n",
      "25/25 [==============================] - 0s 4ms/step - loss: 22.1178 - mae: 3.6421 - val_loss: 17.9042 - val_mae: 3.3679\n",
      "Epoch 72/500\n",
      "25/25 [==============================] - 0s 3ms/step - loss: 27.2511 - mae: 3.9864 - val_loss: 82.5176 - val_mae: 7.3638\n",
      "Epoch 73/500\n",
      "25/25 [==============================] - 0s 4ms/step - loss: 40.7918 - mae: 4.9506 - val_loss: 18.4896 - val_mae: 3.3167\n",
      "Epoch 74/500\n",
      "25/25 [==============================] - 0s 3ms/step - loss: 19.9348 - mae: 3.4069 - val_loss: 18.0735 - val_mae: 3.3022\n",
      "Epoch 75/500\n",
      "25/25 [==============================] - 0s 3ms/step - loss: 23.0972 - mae: 3.6501 - val_loss: 19.3629 - val_mae: 3.3520\n",
      "Epoch 76/500\n",
      "25/25 [==============================] - 0s 4ms/step - loss: 18.2614 - mae: 3.2871 - val_loss: 18.0874 - val_mae: 3.3937\n",
      "Epoch 77/500\n",
      "25/25 [==============================] - 0s 4ms/step - loss: 21.9154 - mae: 3.5917 - val_loss: 13.1075 - val_mae: 2.6870\n",
      "Epoch 78/500\n",
      "25/25 [==============================] - 0s 4ms/step - loss: 14.6992 - mae: 2.9695 - val_loss: 19.5797 - val_mae: 3.5567\n",
      "Epoch 79/500\n",
      "25/25 [==============================] - 0s 3ms/step - loss: 18.8709 - mae: 3.3732 - val_loss: 16.7880 - val_mae: 3.1999\n",
      "Epoch 80/500\n",
      "25/25 [==============================] - 0s 3ms/step - loss: 17.7616 - mae: 3.3169 - val_loss: 16.2348 - val_mae: 3.1913\n",
      "Epoch 81/500\n",
      "25/25 [==============================] - 0s 4ms/step - loss: 16.8558 - mae: 3.2701 - val_loss: 14.5657 - val_mae: 2.9638\n",
      "Epoch 82/500\n",
      "25/25 [==============================] - 0s 3ms/step - loss: 17.1617 - mae: 3.2691 - val_loss: 18.4191 - val_mae: 3.2515\n",
      "Epoch 83/500\n",
      "25/25 [==============================] - 0s 3ms/step - loss: 21.8135 - mae: 3.6997 - val_loss: 13.1200 - val_mae: 2.7529\n",
      "Epoch 84/500\n",
      "25/25 [==============================] - 0s 3ms/step - loss: 20.3286 - mae: 3.5045 - val_loss: 19.4155 - val_mae: 3.1605\n",
      "Epoch 85/500\n",
      "25/25 [==============================] - 0s 3ms/step - loss: 16.1258 - mae: 3.1812 - val_loss: 17.2301 - val_mae: 3.1951\n",
      "Epoch 86/500\n",
      "25/25 [==============================] - 0s 3ms/step - loss: 18.7628 - mae: 3.3939 - val_loss: 24.7002 - val_mae: 3.6708\n",
      "Epoch 87/500\n",
      "25/25 [==============================] - 0s 4ms/step - loss: 20.2514 - mae: 3.5566 - val_loss: 16.0372 - val_mae: 3.1351\n",
      "Epoch 88/500\n",
      "25/25 [==============================] - 0s 3ms/step - loss: 15.5164 - mae: 3.0670 - val_loss: 26.0499 - val_mae: 4.2667\n",
      "Epoch 89/500\n",
      "25/25 [==============================] - 0s 3ms/step - loss: 19.9884 - mae: 3.5413 - val_loss: 18.2776 - val_mae: 3.4127\n",
      "Epoch 90/500\n",
      "25/25 [==============================] - 0s 4ms/step - loss: 15.4451 - mae: 2.9877 - val_loss: 22.6652 - val_mae: 3.5737\n",
      "Epoch 91/500\n",
      "25/25 [==============================] - 0s 3ms/step - loss: 17.0615 - mae: 3.2308 - val_loss: 15.4715 - val_mae: 3.0949\n",
      "Epoch 92/500\n",
      "25/25 [==============================] - 0s 3ms/step - loss: 24.0058 - mae: 3.8132 - val_loss: 17.9788 - val_mae: 3.2318\n",
      "Epoch 93/500\n",
      "25/25 [==============================] - 0s 4ms/step - loss: 16.0195 - mae: 3.0958 - val_loss: 28.3535 - val_mae: 4.3405\n",
      "Epoch 94/500\n",
      "25/25 [==============================] - 0s 4ms/step - loss: 17.7900 - mae: 3.3024 - val_loss: 26.3510 - val_mae: 4.3087\n",
      "Epoch 95/500\n",
      "25/25 [==============================] - 0s 3ms/step - loss: 29.7727 - mae: 4.3166 - val_loss: 35.5281 - val_mae: 4.9068\n",
      "Epoch 96/500\n",
      "25/25 [==============================] - 0s 3ms/step - loss: 27.7166 - mae: 4.2148 - val_loss: 19.6570 - val_mae: 3.3683\n",
      "Epoch 97/500\n",
      "25/25 [==============================] - 0s 4ms/step - loss: 19.4037 - mae: 3.4370 - val_loss: 15.9142 - val_mae: 3.2584\n",
      "Epoch 98/500\n",
      "25/25 [==============================] - 0s 3ms/step - loss: 14.4588 - mae: 2.9629 - val_loss: 21.2204 - val_mae: 3.7128\n",
      "Epoch 99/500\n",
      "25/25 [==============================] - 0s 3ms/step - loss: 17.8434 - mae: 3.3587 - val_loss: 20.2915 - val_mae: 3.6733\n",
      "Epoch 100/500\n",
      "25/25 [==============================] - 0s 4ms/step - loss: 20.0184 - mae: 3.5310 - val_loss: 22.7241 - val_mae: 3.7914\n",
      "Epoch 101/500\n",
      "25/25 [==============================] - 0s 3ms/step - loss: 18.4104 - mae: 3.4035 - val_loss: 24.0432 - val_mae: 3.9482\n",
      "Epoch 102/500\n",
      "25/25 [==============================] - 0s 3ms/step - loss: 19.2099 - mae: 3.3460 - val_loss: 22.4621 - val_mae: 3.7831\n",
      "Epoch 103/500\n",
      "25/25 [==============================] - 0s 3ms/step - loss: 32.9303 - mae: 4.5225 - val_loss: 17.3242 - val_mae: 3.2354\n",
      "Epoch 104/500\n",
      "25/25 [==============================] - 0s 3ms/step - loss: 19.8610 - mae: 3.4944 - val_loss: 32.5416 - val_mae: 4.7106\n",
      "Epoch 105/500\n",
      "25/25 [==============================] - 0s 3ms/step - loss: 24.6882 - mae: 3.7934 - val_loss: 19.1223 - val_mae: 3.4930\n",
      "Epoch 106/500\n",
      "25/25 [==============================] - 0s 3ms/step - loss: 14.4753 - mae: 3.0003 - val_loss: 21.4187 - val_mae: 3.4889\n",
      "Epoch 107/500\n",
      "25/25 [==============================] - 0s 3ms/step - loss: 20.4991 - mae: 3.5394 - val_loss: 15.2240 - val_mae: 2.9642\n",
      "Epoch 108/500\n",
      "25/25 [==============================] - 0s 3ms/step - loss: 26.7538 - mae: 4.0085 - val_loss: 20.5948 - val_mae: 3.6230\n",
      "Epoch 109/500\n",
      "25/25 [==============================] - 0s 3ms/step - loss: 20.4473 - mae: 3.5435 - val_loss: 21.0208 - val_mae: 3.8922\n",
      "Epoch 110/500\n",
      "25/25 [==============================] - 0s 3ms/step - loss: 25.0531 - mae: 3.8995 - val_loss: 45.8738 - val_mae: 5.8151\n",
      "Epoch 111/500\n",
      "25/25 [==============================] - 0s 4ms/step - loss: 22.3303 - mae: 3.6986 - val_loss: 13.8313 - val_mae: 2.8788\n",
      "Epoch 112/500\n",
      "25/25 [==============================] - 0s 4ms/step - loss: 17.8757 - mae: 3.3086 - val_loss: 14.8522 - val_mae: 2.9450\n",
      "Epoch 113/500\n",
      "25/25 [==============================] - 0s 3ms/step - loss: 18.6977 - mae: 3.3596 - val_loss: 14.2274 - val_mae: 2.8875\n",
      "Epoch 114/500\n",
      "25/25 [==============================] - 0s 4ms/step - loss: 28.9985 - mae: 4.2612 - val_loss: 20.4381 - val_mae: 3.6541\n",
      "Epoch 115/500\n",
      "25/25 [==============================] - 0s 3ms/step - loss: 18.3095 - mae: 3.3234 - val_loss: 32.0811 - val_mae: 4.3962\n",
      "Epoch 116/500\n",
      "25/25 [==============================] - 0s 4ms/step - loss: 15.7007 - mae: 3.1152 - val_loss: 17.0176 - val_mae: 3.1432\n",
      "Epoch 117/500\n",
      "25/25 [==============================] - 0s 3ms/step - loss: 27.4931 - mae: 4.0624 - val_loss: 73.2795 - val_mae: 7.1327\n",
      "Epoch 118/500\n",
      "25/25 [==============================] - 0s 3ms/step - loss: 92.3379 - mae: 7.6079 - val_loss: 28.5557 - val_mae: 4.2623\n",
      "Epoch 119/500\n",
      "25/25 [==============================] - 0s 4ms/step - loss: 88.1621 - mae: 7.2109 - val_loss: 80.3822 - val_mae: 7.3982\n",
      "Epoch 120/500\n",
      "25/25 [==============================] - 0s 3ms/step - loss: 120.2917 - mae: 8.9750 - val_loss: 48.5251 - val_mae: 5.2970\n",
      "Epoch 121/500\n",
      "25/25 [==============================] - 0s 4ms/step - loss: 26.4085 - mae: 4.1097 - val_loss: 22.2766 - val_mae: 3.8104\n",
      "Epoch 122/500\n",
      "25/25 [==============================] - 0s 4ms/step - loss: 20.8141 - mae: 3.5938 - val_loss: 15.6063 - val_mae: 3.0144\n",
      "Epoch 123/500\n",
      "25/25 [==============================] - 0s 3ms/step - loss: 31.4363 - mae: 4.3766 - val_loss: 30.2294 - val_mae: 4.4848\n",
      "Epoch 124/500\n",
      "25/25 [==============================] - 0s 4ms/step - loss: 23.1854 - mae: 3.7239 - val_loss: 27.9371 - val_mae: 4.2525\n",
      "Epoch 125/500\n",
      "25/25 [==============================] - 0s 3ms/step - loss: 25.2038 - mae: 3.9471 - val_loss: 32.8796 - val_mae: 4.6554\n",
      "Epoch 126/500\n",
      "25/25 [==============================] - 0s 3ms/step - loss: 21.7246 - mae: 3.6404 - val_loss: 22.2422 - val_mae: 3.8747\n",
      "Epoch 127/500\n",
      "25/25 [==============================] - 0s 4ms/step - loss: 21.8232 - mae: 3.6686 - val_loss: 23.4288 - val_mae: 3.7000\n"
     ]
    }
   ],
   "source": [
    "history = ann.fit(X_train, y_train,\n",
    "                    validation_data = (X_val, y_val),\n",
    "                    callbacks=[es],\n",
    "                    epochs=500,\n",
    "                    batch_size=30,\n",
    "                    verbose=1)"
   ]
  },
  {
   "cell_type": "code",
   "execution_count": 17,
   "metadata": {
    "ExecuteTime": {
     "end_time": "2024-07-24T23:59:41.352856600Z",
     "start_time": "2024-07-24T23:59:40.384043500Z"
    }
   },
   "outputs": [
    {
     "data": {
      "text/plain": "<Figure size 640x480 with 1 Axes>",
      "image/png": "[encoded data removed]"
     },
     "metadata": {},
     "output_type": "display_data"
    }
   ],
   "source": [
    "import matplotlib.pyplot as plt\n",
    "# let's see the training and validation accuracy by epoch\n",
    "history_dict = history.history\n",
    "loss_values = history_dict['loss'] # you can change this\n",
    "val_loss_values = history_dict['val_loss'] # you can also change this\n",
    "epochs = range(1, len(loss_values) + 1) # range of X (no. of epochs)\n",
    "plt.plot(epochs, loss_values, 'blue', label='Train set loss')\n",
    "plt.plot(epochs, val_loss_values, 'orange', label='Validation set loss')\n",
    "#plt.title('Training and testing loss')\n",
    "plt.xlabel('Epochs')\n",
    "plt.ylabel('Loss (MSE)')\n",
    "plt.legend()\n",
    "plt.show()"
   ]
  },
  {
   "cell_type": "code",
   "execution_count": 18,
   "metadata": {
    "ExecuteTime": {
     "end_time": "2024-07-24T23:59:45.368165100Z",
     "start_time": "2024-07-24T23:59:45.145726200Z"
    }
   },
   "outputs": [
    {
     "data": {
      "text/plain": "<Figure size 640x480 with 1 Axes>",
      "image/png": "[encoded data removed]"
     },
     "metadata": {},
     "output_type": "display_data"
    }
   ],
   "source": [
    "loss_values1 = history_dict['mae'] # you can change this\n",
    "val_loss_values1 = history_dict['val_mae'] # you can also change this\n",
    "epochs = range(1, len(loss_values1) + 1) # range of X (no. of epochs)\n",
    "plt.plot(epochs, loss_values1, 'blue', label='Train set MAE')\n",
    "plt.plot(epochs, val_loss_values1, 'orange', label='Validation set MAE')\n",
    "#plt.title('Training and testing MAE')\n",
    "plt.xlabel('Epochs')\n",
    "plt.ylabel('MAE')\n",
    "plt.legend()\n",
    "plt.show()"
   ]
  },
  {
   "cell_type": "code",
   "execution_count": null,
   "metadata": {},
   "outputs": [],
   "source": [
    "print (epochs)"
   ]
  },
  {
   "cell_type": "code",
   "execution_count": null,
   "outputs": [],
   "source": [
    "ann.save('Arrival_ANN_1.h5')"
   ],
   "metadata": {
    "collapsed": false
   }
  },
  {
   "cell_type": "markdown",
   "source": [
    "# Part 4 - Make predictions"
   ],
   "metadata": {
    "collapsed": false
   }
  },
  {
   "cell_type": "code",
   "execution_count": 19,
   "metadata": {
    "ExecuteTime": {
     "end_time": "2024-07-24T23:59:49.930852500Z",
     "start_time": "2024-07-24T23:59:48.915339600Z"
    }
   },
   "outputs": [
    {
     "name": "stdout",
     "output_type": "stream",
     "text": [
      "24/24 [==============================] - 0s 2ms/step\n",
      "5/5 [==============================] - 0s 3ms/step\n"
     ]
    },
    {
     "data": {
      "text/plain": "<Figure size 640x480 with 2 Axes>",
      "image/png": "[encoded data removed]"
     },
     "metadata": {},
     "output_type": "display_data"
    }
   ],
   "source": [
    "# scatterplot of actual vs. pred\n",
    "# specify the dimensions \n",
    "fig, axes = plt.subplots(1,2) # 1 row, 2 columns\n",
    "\n",
    "# this makes the individual subplots\n",
    "# Training Results\n",
    "axes[0].scatter(x=y_train, y=ann.predict(X_train)) #first row, first entry (left top)\n",
    "axes[0].set_xlabel(\"Actual\", fontsize=10)\n",
    "axes[0].set_ylabel(\"Predicted\",  fontsize=10)\n",
    "axes[0].set_title(\"Training\")\n",
    "# add 45 deg line\n",
    "x = np.linspace(*axes[0].get_xlim())\n",
    "axes[0].plot(x, x, color='red')\n",
    "# Validation Results\n",
    "axes[1].scatter(x=y_val, y=ann.predict(X_val)) # first row, second entry (right top)\n",
    "axes[1].set_xlabel(\"Actual\", fontsize=10)\n",
    "axes[1].set_ylabel(\"Predicted\",  fontsize=10)\n",
    "axes[1].set_title(\"Validation\")\n",
    "# add 45 deg line\n",
    "x = np.linspace(*axes[1].get_xlim())\n",
    "axes[1].plot(x, x, color='red')\n",
    "\n",
    "# tight layout\n",
    "fig.tight_layout()\n",
    "\n",
    "# show the plot\n",
    "plt.show()"
   ]
  },
  {
   "cell_type": "code",
   "execution_count": 20,
   "metadata": {
    "colab": {
     "base_uri": "https://localhost:8080/",
     "height": 134
    },
    "colab_type": "code",
    "id": "IA0yApEmBG1X",
    "outputId": "cb981e1f-9204-4a2a-fece-9d66a6919189",
    "ExecuteTime": {
     "end_time": "2024-07-24T23:59:53.837660100Z",
     "start_time": "2024-07-24T23:59:53.618938700Z"
    }
   },
   "outputs": [
    {
     "name": "stdout",
     "output_type": "stream",
     "text": [
      "5/5 [==============================] - 0s 4ms/step\n",
      "[[ 42.29819107  39.74446107]\n",
      " [ 78.92797089  86.7484028 ]\n",
      " [ 21.5107193   18.24218832]\n",
      " [ 95.08872223  85.07898025]\n",
      " [ 62.74394226  61.79887162]\n",
      " [ 67.29708862  70.08801052]\n",
      " [101.41239166 105.01444474]\n",
      " [107.81588745 103.14486682]\n",
      " [ 61.74375534  65.24665201]\n",
      " [ 48.82784653  50.43310848]\n",
      " [110.24453735 113.02751875]\n",
      " [121.15516663 123.76696712]\n",
      " [ 31.37241745  32.4544235 ]\n",
      " [ 16.07555008  15.2831523 ]\n",
      " [ 71.50773621  78.96927965]\n",
      " [ 39.21442413  40.19122396]\n",
      " [ 74.1010437   71.13439548]\n",
      " [111.52198792 112.82281032]\n",
      " [ 46.80725098  49.09951416]\n",
      " [ 36.62631607  33.46453103]\n",
      " [ 27.62846184  29.07777123]\n",
      " [ 72.90564728  64.73010802]\n",
      " [ 59.76307678  52.71635321]\n",
      " [ 86.51211548  77.24098025]\n",
      " [ 79.85485077  80.55072674]\n",
      " [ 89.19913483  88.81442273]\n",
      " [ 40.12504196  41.01577972]\n",
      " [133.83164978 136.79482549]\n",
      " [ 50.51959991  49.69321367]\n",
      " [131.30943298 137.58060163]\n",
      " [ 51.95434952  45.82370271]\n",
      " [109.92519379 108.6377596 ]\n",
      " [128.43518066 122.76777452]\n",
      " [ 91.85663605  97.28723592]\n",
      " [104.99836731 106.38708645]\n",
      " [ 61.98962402  61.20881555]\n",
      " [ 21.60059357  18.44352756]\n",
      " [ 69.79657745  73.95373878]\n",
      " [ 95.19384003  87.7777873 ]\n",
      " [ 50.3519783   49.74584085]\n",
      " [ 36.39014816  33.34592086]\n",
      " [ 96.21147919  87.05409192]\n",
      " [ 98.08532715  97.79579896]\n",
      " [ 92.03583527  88.11479755]\n",
      " [ 20.54584885  18.03197816]\n",
      " [ 69.99411011  70.55837581]\n",
      " [ 81.55633545  81.16285619]\n",
      " [ 10.74837208   8.97862239]\n",
      " [112.48005676 114.1026487 ]\n",
      " [ 58.64158249  56.81990308]\n",
      " [ 71.95037079  71.91040006]\n",
      " [ 98.21063232  83.19825813]\n",
      " [ 98.20349121  99.19820553]\n",
      " [ 52.18195724  50.74500781]\n",
      " [ 61.57587814  61.37093645]\n",
      " [104.94764709 103.11164841]\n",
      " [ 79.81600952  81.72577167]\n",
      " [ 20.97151756  22.88007907]\n",
      " [ 36.67699051  38.42926492]\n",
      " [ 61.58916092  60.60006005]\n",
      " [113.8259964  112.98620901]\n",
      " [ 96.76029205  98.53646079]\n",
      " [105.68138123 103.41674224]\n",
      " [ 14.97040081  12.90540449]\n",
      " [108.83069611 116.07171619]\n",
      " [ 30.04179955  31.70856264]\n",
      " [ 51.18302917  52.95701896]\n",
      " [108.1919632  116.47004658]\n",
      " [ 70.05403137  70.37585811]\n",
      " [ 19.99010849  15.17189957]\n",
      " [ 42.45104218  47.5061388 ]\n",
      " [104.61413574 104.80718076]\n",
      " [ 52.58886337  50.53347465]\n",
      " [ 69.98945618  65.73866332]\n",
      " [ 34.96090317  34.81545207]\n",
      " [ 89.49468231  92.915223  ]\n",
      " [ 90.94410706  84.85061316]\n",
      " [ 29.52327919  32.44150299]\n",
      " [ 62.19446945  61.6139687 ]\n",
      " [ 77.61695099  80.49448127]\n",
      " [ 47.04848099  48.93496808]\n",
      " [ 35.04536057  33.6847147 ]\n",
      " [ 36.71315384  38.99319191]\n",
      " [ 75.53554535  80.62024707]\n",
      " [100.72901917  88.11823374]\n",
      " [135.1091156  142.69106597]\n",
      " [ 39.66973114  40.58448051]\n",
      " [ 22.39473534  30.30375446]\n",
      " [ 43.44819641  43.66045539]\n",
      " [ 61.64831924  61.00886223]\n",
      " [ 93.35080719  83.56603621]\n",
      " [ 61.46583939  66.74772979]\n",
      " [ 22.50354195  27.25318551]\n",
      " [ 43.64449692  45.16528559]\n",
      " [ 28.67588615  30.41115579]\n",
      " [ 95.80220795  96.43137375]\n",
      " [103.6032486  103.00082064]\n",
      " [ 59.56858063  60.33730787]\n",
      " [ 80.7277298   84.09220096]\n",
      " [ 52.44086075  56.05723557]\n",
      " [103.94210815  99.81009936]\n",
      " [ 47.12210846  47.45024618]\n",
      " [ 41.99610138  38.25172049]\n",
      " [ 44.79072952  45.17019366]\n",
      " [ 20.97399902  13.89329316]\n",
      " [ 36.7285614   32.66250891]\n",
      " [ 71.64460754  74.21749842]\n",
      " [ 24.16202164  25.95859311]\n",
      " [100.99180603 105.22932106]\n",
      " [ 17.9046936   15.72470548]\n",
      " [ 31.78499222  33.05493098]\n",
      " [ 85.79605103  90.16045207]\n",
      " [ 74.85770416  76.40097249]\n",
      " [124.98751068 124.41910899]\n",
      " [ 39.15169525  40.28383923]\n",
      " [ 33.0345459   34.50801876]\n",
      " [ 60.57888794  60.57012361]\n",
      " [ 40.58035278  41.48948763]\n",
      " [ 42.98771286  39.90640585]\n",
      " [ 43.82148361  37.73551342]\n",
      " [106.45321655 104.35661063]\n",
      " [ 71.90343475  71.352034  ]\n",
      " [131.6288147  131.32744855]\n",
      " [ 11.05923843   8.14712497]\n",
      " [105.95645905 108.22377378]\n",
      " [ 11.63127136  10.13898461]\n",
      " [ 15.17611027  15.12027008]\n",
      " [102.32582855 102.36594921]\n",
      " [ 33.37758255  34.18673669]\n",
      " [ 19.08295631  11.71938629]\n",
      " [104.4784317  105.5075573 ]\n",
      " [108.05462646 106.16384274]\n",
      " [ 89.86699677  92.55079752]\n",
      " [ 69.14552307  70.35199845]\n",
      " [ 98.67646027 103.3106699 ]\n",
      " [ 71.9969101   74.43945494]\n",
      " [ 58.16444397  58.38762712]\n",
      " [ 55.58625412  54.75095135]\n",
      " [ 72.34922028  74.53562331]\n",
      " [ 31.88961411  33.66100098]\n",
      " [ 43.07491302  43.99243464]\n",
      " [ 64.66884613  70.18539974]\n",
      " [ 15.4972744   11.89541472]\n",
      " [ 89.83545685  95.07369274]\n",
      " [ 76.12126923  81.87233949]\n",
      " [ 87.24475861  85.1152226 ]\n",
      " [ 76.71955109  81.82337427]\n",
      " [ 36.22093964  33.73987776]\n",
      " [ 61.83054352  65.52608159]\n",
      " [ 43.2219696   41.49951693]\n",
      " [ 51.79398346  50.86265144]\n",
      " [ 17.68202972  18.27334158]\n",
      " [ 47.19913483  42.63936286]\n",
      " [116.43006897 115.29374081]\n",
      " [103.28388977 105.61236089]\n",
      " [ 46.06347656  45.50413345]\n",
      " [ 82.33953857  76.74045584]\n",
      " [ 73.74518585  72.83814263]\n",
      " [115.64102173 118.64269659]\n",
      " [ 94.53487396  97.69664094]]\n"
     ]
    }
   ],
   "source": [
    "#X_test=np.asarray(X_test).astype(np.int)\n",
    "\n",
    "#y_test=np.asarray(y_test).astype(np.int)\n",
    "\n",
    "y_pred = ann.predict(X_test)\n",
    "#np.set_printoptions(precision=2)\n",
    "print(np.concatenate((y_pred.reshape(len(y_pred),1), y_test.reshape(len(y_test),1)),1))"
   ]
  },
  {
   "cell_type": "code",
   "execution_count": 21,
   "metadata": {
    "ExecuteTime": {
     "end_time": "2024-07-24T23:59:56.530735Z",
     "start_time": "2024-07-24T23:59:56.308396900Z"
    }
   },
   "outputs": [
    {
     "data": {
      "text/plain": "Text(0, 0.5, 'Predicted data')"
     },
     "execution_count": 21,
     "metadata": {},
     "output_type": "execute_result"
    },
    {
     "data": {
      "text/plain": "<Figure size 640x480 with 1 Axes>",
      "image/png": "[encoded data removed]"
     },
     "metadata": {},
     "output_type": "display_data"
    }
   ],
   "source": [
    "import matplotlib.pyplot as plt\n",
    "plt.scatter(y_test, y_pred, color=\"blue\")\n",
    "#plt.plot ([0,0.085],[0,0.085], color = \"red\")\n",
    "#plt.axis ([0,0.085,0,0.085])\n",
    "plt.xlabel ('Actual data')\n",
    "plt.ylabel ('Predicted data')"
   ]
  },
  {
   "cell_type": "code",
   "execution_count": null,
   "metadata": {},
   "outputs": [],
   "source": [
    "from sklearn.metrics import r2_score\n",
    "# Initialize layout\n",
    "fig1, ax1 = plt.subplots(figsize = (9, 9))\n",
    "\n",
    "\n",
    "#y = y_pred         # Model on prvious line is called here\n",
    "#x = y_test\n",
    "\n",
    "\n",
    "\n",
    "# Add scatterplot\n",
    "ax1.scatter(y_test, y_pred, s=70, alpha=1, edgecolors=\"k\",c='mediumblue',zorder=5, label = 'Points')\n",
    "\n",
    "\n",
    "plt.ylabel('Predicted Peak Incident Pressure (kPa)',fontsize = 25)\n",
    "plt.xlabel('Actual Peak Incident Pressure (kPa)',fontsize = 25)\n",
    "plt.xticks(fontsize = 19)\n",
    "plt.yticks(fontsize = 19)\n",
    "\n",
    "\n",
    "x1 = np.linspace(0,0.085)\n",
    "\n",
    "plt.plot(x1, x1, 'Red', label='45\\N{DEGREE SIGN} line',lw=2.5,alpha=1)\n",
    "plt.plot(x1, 1.1*x1, '--m', label='\\u00B110% Error',lw=2.5,alpha=0.7)\n",
    "plt.plot(x1, 0.9*x1,'m', linestyle='--',lw=2.5,alpha=0.7)\n",
    "plt.plot(x1, 1.2*x1, '-.g', label='\\u00B120% Error',lw=2.5,alpha=0.7)\n",
    "plt.plot(x1, 0.8*x1,'-.g',lw=2.5,alpha=0.7)\n",
    "\n",
    "plt.ylim(0, 0.085)\n",
    "plt.xlim(0, 0.085)\n",
    "plt.legend(loc='upper left',fontsize = 25)\n",
    "\n",
    "plt.grid()\n",
    "\n",
    "ax1.spines['left'].set_color('black')        # setting up Y-axis tick color to red\n",
    "ax1.spines['bottom'].set_color('black')         #setting up above X-axis tick color to red\n",
    "\n",
    "\n",
    "\n",
    "#ax1.annotate(\"$R^2$ = {:.3f}\".format(r2), (2500, 1000),fontsize = 25)  #Model is called here\n",
    "#ax1.annotate(\"Adj.$R^2$ = {:.3f}\".format(adj_r2), (2500, 750),fontsize = 25)\n",
    "\n",
    "#plt.savefig('plot1.png', dpi = 600, bbox_inches = 'tight')"
   ]
  },
  {
   "cell_type": "code",
   "execution_count": null,
   "metadata": {},
   "outputs": [],
   "source": [
    "# metrics\n",
    "\n",
    "\n",
    "trainpreds = ann.predict(X_train)\n",
    "\n",
    "from sklearn.metrics import mean_absolute_error\n",
    "print(mean_absolute_error(y_train, trainpreds)) # train\n",
    "print(mean_absolute_error(y_test, y_pred)) # test"
   ]
  },
  {
   "cell_type": "code",
   "execution_count": null,
   "metadata": {},
   "outputs": [],
   "source": [
    "from sklearn.metrics import r2_score\n",
    "r2 = r2_score(y_test, y_pred)\n",
    "print (r2)"
   ]
  },
  {
   "cell_type": "code",
   "execution_count": null,
   "metadata": {},
   "outputs": [],
   "source": [
    "r2_train = r2_score(y_train, trainpreds)\n",
    "print (r2_train)"
   ]
  },
  {
   "cell_type": "code",
   "execution_count": null,
   "metadata": {},
   "outputs": [],
   "source": [
    "count1 = 0\n",
    "for i in range(len(y_pred)):\n",
    "    line1 = y_pred[i] - 0.9*y_test[i]\n",
    "    line2 = y_pred[i] - 1.1*y_test[i]\n",
    "    #print ('line 1 ', line1)\n",
    "    #print ('line 2 ', line2)\n",
    "    mask1 = (line1 > 0) & (line2 < 0)\n",
    "    #print (mask)\n",
    "    count1 = np.sum(mask1+count1)\n",
    "    #print (count)\n",
    "\n",
    "count2 = 0\n",
    "for j in range(len(y_pred)):\n",
    "    line3 = y_pred[j] - 0.8*y_test[j]\n",
    "    line4 = y_pred[j] - 1.2*y_test[j]\n",
    "    mask2 = (line3 > 0) & (line4 < 0)\n",
    "    count2 = np.sum(mask2+count2)\n",
    "\n",
    "\n",
    "count3 = 0    \n",
    "for k in range(len(y_pred)):\n",
    "    line5 = y_pred[k] - 0.8*y_test[k]\n",
    "    line6 = y_pred[k] - 1.2*y_test[k]\n",
    "    mask3 = (line5 < 0) or (line6 > 0)\n",
    "    count3 = np.sum(mask3+count3)\n",
    "   \n",
    "\n",
    "print ('Within 10% margin', format((count1/len (y_pred)),'.2%'))\n",
    "print ('Within 20% margin', format((count2/len (y_pred)),'.2%'))\n",
    "print ('Out of 20% margin', format((count3/len (y_pred)),'.2%'))"
   ]
  },
  {
   "cell_type": "code",
   "execution_count": null,
   "metadata": {},
   "outputs": [],
   "source": [
    "adj_r2 = 1 - ((1 - r2) * (len(X_test) - 1) / (len(X_test) - len (X_test[0]) - 1))\n",
    "print (adj_r2)"
   ]
  },
  {
   "cell_type": "code",
   "execution_count": null,
   "metadata": {},
   "outputs": [],
   "source": [
    "import math\n",
    "from sklearn.metrics import mean_squared_error\n",
    "\n",
    "math.sqrt(mean_squared_error(y_test, y_pred))"
   ]
  },
  {
   "cell_type": "code",
   "execution_count": null,
   "metadata": {},
   "outputs": [],
   "source": [
    "from sklearn.metrics import mean_absolute_error\n",
    "\n",
    "mean_absolute_error(y_test, y_pred)"
   ]
  },
  {
   "cell_type": "markdown",
   "source": [
    "# Part 5 - Use model"
   ],
   "metadata": {
    "collapsed": false
   }
  },
  {
   "cell_type": "markdown",
   "source": [
    "## Import libraries"
   ],
   "metadata": {
    "collapsed": false
   }
  },
  {
   "cell_type": "code",
   "execution_count": null,
   "outputs": [],
   "source": [
    "from keras.models import load_model\n",
    "import numpy as np"
   ],
   "metadata": {
    "collapsed": false
   }
  },
  {
   "cell_type": "markdown",
   "source": [
    "## Load model"
   ],
   "metadata": {
    "collapsed": false
   }
  },
  {
   "cell_type": "code",
   "execution_count": null,
   "outputs": [],
   "source": [
    "ann = load_model('Arrival_ANN_1.h5')"
   ],
   "metadata": {
    "collapsed": false
   }
  },
  {
   "cell_type": "markdown",
   "source": [
    "## Prediction"
   ],
   "metadata": {
    "collapsed": false
   }
  },
  {
   "cell_type": "code",
   "execution_count": null,
   "outputs": [],
   "source": [
    "charge_mass = 20\n",
    "standoff_distance = 6.3\n",
    "arr = np.array ([[charge_mass,standoff_distance]])\n",
    "print (arr)\n",
    "np.set_printoptions(precision=9)\n",
    "arrival_time = ann.predict(arr)\n",
    "print (arrival_time)\n",
    "%store arrival_time"
   ],
   "metadata": {
    "collapsed": false
   }
  }
 ],
 "metadata": {
  "colab": {
   "collapsed_sections": [],
   "name": "Artificial Neural Network",
   "provenance": [],
   "toc_visible": true
  },
  "kernelspec": {
   "display_name": "Python 3 (ipykernel)",
   "language": "python",
   "name": "python3"
  },
  "language_info": {
   "codemirror_mode": {
    "name": "ipython",
    "version": 3
   },
   "file_extension": ".py",
   "mimetype": "text/x-python",
   "name": "python",
   "nbconvert_exporter": "python",
   "pygments_lexer": "ipython3",
   "version": "3.9.7"
  }
 },
 "nbformat": 4,
 "nbformat_minor": 4
}
