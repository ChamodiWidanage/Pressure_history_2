{
 "cells": [
  {
   "cell_type": "markdown",
   "metadata": {
    "colab_type": "text",
    "id": "3cbb7fRy-eyr"
   },
   "source": [
    "# Artificial Neural Network"
   ]
  },
  {
   "cell_type": "markdown",
   "source": [
    "## Part 1 - Importing the libraries"
   ],
   "metadata": {
    "collapsed": false
   }
  },
  {
   "cell_type": "code",
   "execution_count": 1,
   "metadata": {
    "colab": {},
    "colab_type": "code",
    "id": "lxChR1Rk-umf",
    "ExecuteTime": {
     "end_time": "2024-08-21T01:50:05.499198100Z",
     "start_time": "2024-08-21T01:49:58.839591700Z"
    }
   },
   "outputs": [],
   "source": [
    "import numpy as np\n",
    "import pandas as pd\n",
    "import tensorflow as tf\n",
    "import matplotlib.pyplot as plt\n",
    "from keras.models import load_model\n",
    "from pathlib import Path\n",
    "import pickle"
   ]
  },
  {
   "cell_type": "markdown",
   "metadata": {
    "colab_type": "text",
    "id": "AG3FQEch-yuA"
   },
   "source": [
    "## Part 2 - Data Preprocessing"
   ]
  },
  {
   "cell_type": "code",
   "execution_count": 2,
   "metadata": {
    "ExecuteTime": {
     "end_time": "2024-08-21T01:50:05.569795200Z",
     "start_time": "2024-08-21T01:50:05.504223400Z"
    }
   },
   "outputs": [
    {
     "name": "stdout",
     "output_type": "stream",
     "text": [
      "input G:\\Chamodi\\LSDYNA3D\\RP_TH_models\\RP_Section_1_new3\n",
      "2 [WindowsPath('G:/Chamodi/LSDYNA3D/RP_TH_models/RP_Section_1_new3/1.50m'), WindowsPath('G:/Chamodi/LSDYNA3D/RP_TH_models/RP_Section_1_new3/1.75m'), WindowsPath('G:/Chamodi/LSDYNA3D/RP_TH_models/RP_Section_1_new3/2.00m'), WindowsPath('G:/Chamodi/LSDYNA3D/RP_TH_models/RP_Section_1_new3/2.25m'), WindowsPath('G:/Chamodi/LSDYNA3D/RP_TH_models/RP_Section_1_new3/2.50m'), WindowsPath('G:/Chamodi/LSDYNA3D/RP_TH_models/RP_Section_1_new3/2.75m'), WindowsPath('G:/Chamodi/LSDYNA3D/RP_TH_models/RP_Section_1_new3/3.00m')]\n"
     ]
    }
   ],
   "source": [
    "#Access input folder\n",
    "current_dir = Path.cwd()\n",
    "input_dir1 = Path (\"G:/Chamodi/LSDYNA3D/RP_TH_models/RP_Section_1_new3\")\n",
    "print (\"input\",input_dir1)\n",
    "\n",
    "#Access folders inside input folder\n",
    "input_dir2=  [folder1 for folder1 in input_dir1.iterdir() if folder1.is_dir()] # folder1 - RP_curves_fr7m\n",
    "print (\"2\",input_dir2)"
   ]
  },
  {
   "cell_type": "code",
   "execution_count": 3,
   "metadata": {
    "ExecuteTime": {
     "end_time": "2024-08-21T01:50:20.438613900Z",
     "start_time": "2024-08-21T01:50:05.529251300Z"
    }
   },
   "outputs": [
    {
     "name": "stdout",
     "output_type": "stream",
     "text": [
      "folder G:\\Chamodi\\LSDYNA3D\\RP_TH_models\\RP_Section_1_new3\\1.50m\\1.50m00.5kg\n",
      "1\n",
      "2\n",
      "3\n",
      "4\n",
      "folder G:\\Chamodi\\LSDYNA3D\\RP_TH_models\\RP_Section_1_new3\\1.50m\\1.50m02.5kg\n",
      "1\n",
      "2\n",
      "3\n",
      "4\n",
      "folder G:\\Chamodi\\LSDYNA3D\\RP_TH_models\\RP_Section_1_new3\\1.50m\\1.50m04.5kg\n",
      "1\n",
      "2\n",
      "3\n",
      "4\n",
      "folder G:\\Chamodi\\LSDYNA3D\\RP_TH_models\\RP_Section_1_new3\\1.50m\\1.50m06.5kg\n",
      "1\n",
      "2\n",
      "3\n",
      "4\n",
      "folder G:\\Chamodi\\LSDYNA3D\\RP_TH_models\\RP_Section_1_new3\\1.50m\\1.50m08.5kg\n",
      "1\n",
      "2\n",
      "3\n",
      "4\n",
      "folder G:\\Chamodi\\LSDYNA3D\\RP_TH_models\\RP_Section_1_new3\\1.50m\\1.50m10.5kg\n",
      "1\n",
      "2\n",
      "3\n",
      "4\n",
      "folder G:\\Chamodi\\LSDYNA3D\\RP_TH_models\\RP_Section_1_new3\\1.50m\\1.50m12.5kg\n",
      "1\n",
      "2\n",
      "3\n",
      "4\n",
      "folder G:\\Chamodi\\LSDYNA3D\\RP_TH_models\\RP_Section_1_new3\\1.50m\\1.50m14.5kg\n",
      "1\n",
      "2\n",
      "3\n",
      "4\n",
      "folder G:\\Chamodi\\LSDYNA3D\\RP_TH_models\\RP_Section_1_new3\\1.50m\\1.50m16.5kg\n",
      "1\n",
      "2\n",
      "3\n",
      "4\n",
      "folder G:\\Chamodi\\LSDYNA3D\\RP_TH_models\\RP_Section_1_new3\\1.50m\\1.50m18.5kg\n",
      "1\n",
      "2\n",
      "3\n",
      "4\n",
      "folder G:\\Chamodi\\LSDYNA3D\\RP_TH_models\\RP_Section_1_new3\\1.50m\\1.50m20.5kg\n",
      "1\n",
      "2\n",
      "3\n",
      "4\n",
      "folder G:\\Chamodi\\LSDYNA3D\\RP_TH_models\\RP_Section_1_new3\\1.50m\\1.50m22.5kg\n",
      "1\n",
      "2\n",
      "3\n",
      "4\n",
      "folder G:\\Chamodi\\LSDYNA3D\\RP_TH_models\\RP_Section_1_new3\\1.50m\\1.50m24.5kg\n",
      "1\n",
      "2\n",
      "3\n",
      "4\n",
      "folder G:\\Chamodi\\LSDYNA3D\\RP_TH_models\\RP_Section_1_new3\\1.50m\\1.50m26.5kg\n",
      "1\n",
      "2\n",
      "3\n",
      "4\n",
      "folder G:\\Chamodi\\LSDYNA3D\\RP_TH_models\\RP_Section_1_new3\\1.50m\\1.50m28.5kg\n",
      "1\n",
      "2\n",
      "3\n",
      "4\n",
      "folder G:\\Chamodi\\LSDYNA3D\\RP_TH_models\\RP_Section_1_new3\\1.50m\\1.50m30.5kg\n",
      "1\n",
      "2\n",
      "3\n",
      "4\n",
      "folder G:\\Chamodi\\LSDYNA3D\\RP_TH_models\\RP_Section_1_new3\\1.50m\\1.50m32.5kg\n",
      "1\n",
      "2\n",
      "3\n",
      "4\n",
      "folder G:\\Chamodi\\LSDYNA3D\\RP_TH_models\\RP_Section_1_new3\\1.50m\\1.50m34.5kg\n",
      "1\n",
      "2\n",
      "3\n",
      "4\n",
      "folder G:\\Chamodi\\LSDYNA3D\\RP_TH_models\\RP_Section_1_new3\\1.50m\\1.50m35.0kg\n",
      "1\n",
      "2\n",
      "3\n",
      "4\n",
      "folder G:\\Chamodi\\LSDYNA3D\\RP_TH_models\\RP_Section_1_new3\\1.75m\\1.75m00.5kg\n",
      "1\n",
      "2\n",
      "3\n",
      "4\n",
      "folder G:\\Chamodi\\LSDYNA3D\\RP_TH_models\\RP_Section_1_new3\\1.75m\\1.75m02.5kg\n",
      "1\n",
      "2\n",
      "3\n",
      "4\n",
      "folder G:\\Chamodi\\LSDYNA3D\\RP_TH_models\\RP_Section_1_new3\\1.75m\\1.75m04.5kg\n",
      "1\n",
      "2\n",
      "3\n",
      "4\n",
      "folder G:\\Chamodi\\LSDYNA3D\\RP_TH_models\\RP_Section_1_new3\\1.75m\\1.75m06.5kg\n",
      "1\n",
      "2\n",
      "3\n",
      "4\n",
      "folder G:\\Chamodi\\LSDYNA3D\\RP_TH_models\\RP_Section_1_new3\\1.75m\\1.75m08.5kg\n",
      "1\n",
      "2\n",
      "3\n",
      "4\n",
      "folder G:\\Chamodi\\LSDYNA3D\\RP_TH_models\\RP_Section_1_new3\\1.75m\\1.75m10.5kg\n",
      "1\n",
      "2\n",
      "3\n",
      "4\n",
      "folder G:\\Chamodi\\LSDYNA3D\\RP_TH_models\\RP_Section_1_new3\\1.75m\\1.75m12.5kg\n",
      "1\n",
      "2\n",
      "3\n",
      "4\n",
      "folder G:\\Chamodi\\LSDYNA3D\\RP_TH_models\\RP_Section_1_new3\\1.75m\\1.75m14.5kg\n",
      "1\n",
      "2\n",
      "3\n",
      "4\n",
      "folder G:\\Chamodi\\LSDYNA3D\\RP_TH_models\\RP_Section_1_new3\\1.75m\\1.75m16.5kg\n",
      "1\n",
      "2\n",
      "3\n",
      "4\n",
      "folder G:\\Chamodi\\LSDYNA3D\\RP_TH_models\\RP_Section_1_new3\\1.75m\\1.75m18.5kg\n",
      "1\n",
      "2\n",
      "3\n",
      "4\n",
      "folder G:\\Chamodi\\LSDYNA3D\\RP_TH_models\\RP_Section_1_new3\\1.75m\\1.75m20.5kg\n",
      "1\n",
      "2\n",
      "3\n",
      "4\n",
      "folder G:\\Chamodi\\LSDYNA3D\\RP_TH_models\\RP_Section_1_new3\\1.75m\\1.75m22.5kg\n",
      "1\n",
      "2\n",
      "3\n",
      "4\n",
      "folder G:\\Chamodi\\LSDYNA3D\\RP_TH_models\\RP_Section_1_new3\\1.75m\\1.75m24.5kg\n",
      "1\n",
      "2\n",
      "3\n",
      "4\n",
      "folder G:\\Chamodi\\LSDYNA3D\\RP_TH_models\\RP_Section_1_new3\\1.75m\\1.75m26.5kg\n",
      "1\n",
      "2\n",
      "3\n",
      "4\n",
      "folder G:\\Chamodi\\LSDYNA3D\\RP_TH_models\\RP_Section_1_new3\\1.75m\\1.75m28.5kg\n",
      "1\n",
      "2\n",
      "3\n",
      "4\n",
      "folder G:\\Chamodi\\LSDYNA3D\\RP_TH_models\\RP_Section_1_new3\\1.75m\\1.75m30.5kg\n",
      "1\n",
      "2\n",
      "3\n",
      "4\n",
      "folder G:\\Chamodi\\LSDYNA3D\\RP_TH_models\\RP_Section_1_new3\\1.75m\\1.75m32.5kg\n",
      "1\n",
      "2\n",
      "3\n",
      "4\n",
      "folder G:\\Chamodi\\LSDYNA3D\\RP_TH_models\\RP_Section_1_new3\\1.75m\\1.75m34.5kg\n",
      "1\n",
      "2\n",
      "3\n",
      "4\n",
      "folder G:\\Chamodi\\LSDYNA3D\\RP_TH_models\\RP_Section_1_new3\\1.75m\\1.75m35.0kg\n",
      "1\n",
      "2\n",
      "3\n",
      "4\n",
      "folder G:\\Chamodi\\LSDYNA3D\\RP_TH_models\\RP_Section_1_new3\\2.00m\\2.00m00.5kg\n",
      "1\n",
      "2\n",
      "3\n",
      "4\n",
      "folder G:\\Chamodi\\LSDYNA3D\\RP_TH_models\\RP_Section_1_new3\\2.00m\\2.00m02.5kg\n",
      "1\n",
      "2\n",
      "3\n",
      "4\n",
      "folder G:\\Chamodi\\LSDYNA3D\\RP_TH_models\\RP_Section_1_new3\\2.00m\\2.00m04.5kg\n",
      "1\n",
      "2\n",
      "3\n",
      "4\n",
      "folder G:\\Chamodi\\LSDYNA3D\\RP_TH_models\\RP_Section_1_new3\\2.00m\\2.00m06.5kg\n",
      "1\n",
      "2\n",
      "3\n",
      "4\n",
      "folder G:\\Chamodi\\LSDYNA3D\\RP_TH_models\\RP_Section_1_new3\\2.00m\\2.00m08.5kg\n",
      "1\n",
      "2\n",
      "3\n",
      "4\n",
      "folder G:\\Chamodi\\LSDYNA3D\\RP_TH_models\\RP_Section_1_new3\\2.00m\\2.00m10.5kg\n",
      "1\n",
      "2\n",
      "3\n",
      "4\n",
      "folder G:\\Chamodi\\LSDYNA3D\\RP_TH_models\\RP_Section_1_new3\\2.00m\\2.00m12.5kg\n",
      "1\n",
      "2\n",
      "3\n",
      "4\n",
      "folder G:\\Chamodi\\LSDYNA3D\\RP_TH_models\\RP_Section_1_new3\\2.00m\\2.00m14.5kg\n",
      "1\n",
      "2\n",
      "3\n",
      "4\n",
      "folder G:\\Chamodi\\LSDYNA3D\\RP_TH_models\\RP_Section_1_new3\\2.00m\\2.00m16.5kg\n",
      "1\n",
      "2\n",
      "3\n",
      "4\n",
      "folder G:\\Chamodi\\LSDYNA3D\\RP_TH_models\\RP_Section_1_new3\\2.00m\\2.00m18.5kg\n",
      "1\n",
      "2\n",
      "3\n",
      "4\n",
      "folder G:\\Chamodi\\LSDYNA3D\\RP_TH_models\\RP_Section_1_new3\\2.00m\\2.00m20.5kg\n",
      "1\n",
      "2\n",
      "3\n",
      "4\n",
      "folder G:\\Chamodi\\LSDYNA3D\\RP_TH_models\\RP_Section_1_new3\\2.00m\\2.00m22.5kg\n",
      "1\n",
      "2\n",
      "3\n",
      "4\n",
      "folder G:\\Chamodi\\LSDYNA3D\\RP_TH_models\\RP_Section_1_new3\\2.00m\\2.00m24.5kg\n",
      "1\n",
      "2\n",
      "3\n",
      "4\n",
      "folder G:\\Chamodi\\LSDYNA3D\\RP_TH_models\\RP_Section_1_new3\\2.00m\\2.00m26.5kg\n",
      "1\n",
      "2\n",
      "3\n",
      "4\n",
      "folder G:\\Chamodi\\LSDYNA3D\\RP_TH_models\\RP_Section_1_new3\\2.00m\\2.00m28.5kg\n",
      "1\n",
      "2\n",
      "3\n",
      "4\n",
      "folder G:\\Chamodi\\LSDYNA3D\\RP_TH_models\\RP_Section_1_new3\\2.00m\\2.00m30.5kg\n",
      "1\n",
      "2\n",
      "3\n",
      "4\n",
      "folder G:\\Chamodi\\LSDYNA3D\\RP_TH_models\\RP_Section_1_new3\\2.00m\\2.00m32.5kg\n",
      "1\n",
      "2\n",
      "3\n",
      "4\n",
      "folder G:\\Chamodi\\LSDYNA3D\\RP_TH_models\\RP_Section_1_new3\\2.00m\\2.00m34.5kg\n",
      "1\n",
      "2\n",
      "3\n",
      "4\n",
      "folder G:\\Chamodi\\LSDYNA3D\\RP_TH_models\\RP_Section_1_new3\\2.00m\\2.00m35.0kg\n",
      "1\n",
      "2\n",
      "3\n",
      "4\n",
      "folder G:\\Chamodi\\LSDYNA3D\\RP_TH_models\\RP_Section_1_new3\\2.25m\\2.25m00.5kg\n",
      "1\n",
      "2\n",
      "3\n",
      "4\n",
      "folder G:\\Chamodi\\LSDYNA3D\\RP_TH_models\\RP_Section_1_new3\\2.25m\\2.25m02.5kg\n",
      "1\n",
      "2\n",
      "3\n",
      "4\n",
      "folder G:\\Chamodi\\LSDYNA3D\\RP_TH_models\\RP_Section_1_new3\\2.25m\\2.25m04.5kg\n",
      "1\n",
      "2\n",
      "3\n",
      "4\n",
      "folder G:\\Chamodi\\LSDYNA3D\\RP_TH_models\\RP_Section_1_new3\\2.25m\\2.25m06.5kg\n",
      "1\n",
      "2\n",
      "3\n",
      "4\n",
      "folder G:\\Chamodi\\LSDYNA3D\\RP_TH_models\\RP_Section_1_new3\\2.25m\\2.25m08.5kg\n",
      "1\n",
      "2\n",
      "3\n",
      "4\n",
      "folder G:\\Chamodi\\LSDYNA3D\\RP_TH_models\\RP_Section_1_new3\\2.25m\\2.25m10.5kg\n",
      "1\n",
      "2\n",
      "3\n",
      "4\n",
      "folder G:\\Chamodi\\LSDYNA3D\\RP_TH_models\\RP_Section_1_new3\\2.25m\\2.25m12.5kg\n",
      "1\n",
      "2\n",
      "3\n",
      "4\n",
      "folder G:\\Chamodi\\LSDYNA3D\\RP_TH_models\\RP_Section_1_new3\\2.25m\\2.25m14.5kg\n",
      "1\n",
      "2\n",
      "3\n",
      "4\n",
      "folder G:\\Chamodi\\LSDYNA3D\\RP_TH_models\\RP_Section_1_new3\\2.25m\\2.25m16.5kg\n",
      "1\n",
      "2\n",
      "3\n",
      "4\n",
      "folder G:\\Chamodi\\LSDYNA3D\\RP_TH_models\\RP_Section_1_new3\\2.25m\\2.25m18.5kg\n",
      "1\n",
      "2\n",
      "3\n",
      "4\n",
      "folder G:\\Chamodi\\LSDYNA3D\\RP_TH_models\\RP_Section_1_new3\\2.25m\\2.25m20.5kg\n",
      "1\n",
      "2\n",
      "3\n",
      "4\n",
      "folder G:\\Chamodi\\LSDYNA3D\\RP_TH_models\\RP_Section_1_new3\\2.25m\\2.25m22.5kg\n",
      "1\n",
      "2\n",
      "3\n",
      "4\n",
      "folder G:\\Chamodi\\LSDYNA3D\\RP_TH_models\\RP_Section_1_new3\\2.25m\\2.25m24.5kg\n",
      "1\n",
      "2\n",
      "3\n",
      "4\n",
      "folder G:\\Chamodi\\LSDYNA3D\\RP_TH_models\\RP_Section_1_new3\\2.25m\\2.25m26.5kg\n",
      "1\n",
      "2\n",
      "3\n",
      "4\n",
      "folder G:\\Chamodi\\LSDYNA3D\\RP_TH_models\\RP_Section_1_new3\\2.25m\\2.25m28.5kg\n",
      "1\n",
      "2\n",
      "3\n",
      "4\n",
      "folder G:\\Chamodi\\LSDYNA3D\\RP_TH_models\\RP_Section_1_new3\\2.25m\\2.25m30.5kg\n",
      "1\n",
      "2\n",
      "3\n",
      "4\n",
      "folder G:\\Chamodi\\LSDYNA3D\\RP_TH_models\\RP_Section_1_new3\\2.25m\\2.25m32.5kg\n",
      "1\n",
      "2\n",
      "3\n",
      "4\n",
      "folder G:\\Chamodi\\LSDYNA3D\\RP_TH_models\\RP_Section_1_new3\\2.25m\\2.25m34.5kg\n",
      "1\n",
      "2\n",
      "3\n",
      "4\n",
      "folder G:\\Chamodi\\LSDYNA3D\\RP_TH_models\\RP_Section_1_new3\\2.25m\\2.25m35.0kg\n",
      "1\n",
      "2\n",
      "3\n",
      "4\n",
      "folder G:\\Chamodi\\LSDYNA3D\\RP_TH_models\\RP_Section_1_new3\\2.50m\\2.50m00.5kg\n",
      "1\n",
      "2\n",
      "3\n",
      "4\n",
      "folder G:\\Chamodi\\LSDYNA3D\\RP_TH_models\\RP_Section_1_new3\\2.50m\\2.50m02.5kg\n",
      "1\n",
      "2\n",
      "3\n",
      "4\n",
      "folder G:\\Chamodi\\LSDYNA3D\\RP_TH_models\\RP_Section_1_new3\\2.50m\\2.50m04.5kg\n",
      "1\n",
      "2\n",
      "3\n",
      "4\n",
      "folder G:\\Chamodi\\LSDYNA3D\\RP_TH_models\\RP_Section_1_new3\\2.50m\\2.50m06.5kg\n",
      "1\n",
      "2\n",
      "3\n",
      "4\n",
      "folder G:\\Chamodi\\LSDYNA3D\\RP_TH_models\\RP_Section_1_new3\\2.50m\\2.50m08.5kg\n",
      "1\n",
      "2\n",
      "3\n",
      "4\n",
      "folder G:\\Chamodi\\LSDYNA3D\\RP_TH_models\\RP_Section_1_new3\\2.50m\\2.50m10.5kg\n",
      "1\n",
      "2\n",
      "3\n",
      "4\n",
      "folder G:\\Chamodi\\LSDYNA3D\\RP_TH_models\\RP_Section_1_new3\\2.50m\\2.50m12.5kg\n",
      "1\n",
      "2\n",
      "3\n",
      "4\n",
      "folder G:\\Chamodi\\LSDYNA3D\\RP_TH_models\\RP_Section_1_new3\\2.50m\\2.50m14.5kg\n",
      "1\n",
      "2\n",
      "3\n",
      "4\n",
      "folder G:\\Chamodi\\LSDYNA3D\\RP_TH_models\\RP_Section_1_new3\\2.50m\\2.50m16.5kg\n",
      "1\n",
      "2\n",
      "3\n",
      "4\n",
      "folder G:\\Chamodi\\LSDYNA3D\\RP_TH_models\\RP_Section_1_new3\\2.50m\\2.50m18.5kg\n",
      "1\n",
      "2\n",
      "3\n",
      "4\n",
      "folder G:\\Chamodi\\LSDYNA3D\\RP_TH_models\\RP_Section_1_new3\\2.50m\\2.50m20.5kg\n",
      "1\n",
      "2\n",
      "3\n",
      "4\n",
      "folder G:\\Chamodi\\LSDYNA3D\\RP_TH_models\\RP_Section_1_new3\\2.50m\\2.50m22.5kg\n",
      "1\n",
      "2\n",
      "3\n",
      "4\n",
      "folder G:\\Chamodi\\LSDYNA3D\\RP_TH_models\\RP_Section_1_new3\\2.50m\\2.50m24.5kg\n",
      "1\n",
      "2\n",
      "3\n",
      "4\n",
      "folder G:\\Chamodi\\LSDYNA3D\\RP_TH_models\\RP_Section_1_new3\\2.50m\\2.50m26.5kg\n",
      "1\n",
      "2\n",
      "3\n",
      "4\n",
      "folder G:\\Chamodi\\LSDYNA3D\\RP_TH_models\\RP_Section_1_new3\\2.50m\\2.50m28.5kg\n",
      "1\n",
      "2\n",
      "3\n",
      "4\n",
      "folder G:\\Chamodi\\LSDYNA3D\\RP_TH_models\\RP_Section_1_new3\\2.50m\\2.50m30.5kg\n",
      "1\n",
      "2\n",
      "3\n",
      "4\n",
      "folder G:\\Chamodi\\LSDYNA3D\\RP_TH_models\\RP_Section_1_new3\\2.50m\\2.50m32.5kg\n",
      "1\n",
      "2\n",
      "3\n",
      "4\n",
      "folder G:\\Chamodi\\LSDYNA3D\\RP_TH_models\\RP_Section_1_new3\\2.50m\\2.50m34.5kg\n",
      "1\n",
      "2\n",
      "3\n",
      "4\n",
      "folder G:\\Chamodi\\LSDYNA3D\\RP_TH_models\\RP_Section_1_new3\\2.50m\\2.50m35.0kg\n",
      "1\n",
      "2\n",
      "3\n",
      "4\n",
      "folder G:\\Chamodi\\LSDYNA3D\\RP_TH_models\\RP_Section_1_new3\\2.75m\\2.75m00.5kg\n",
      "1\n",
      "2\n",
      "3\n",
      "4\n",
      "folder G:\\Chamodi\\LSDYNA3D\\RP_TH_models\\RP_Section_1_new3\\2.75m\\2.75m02.5kg\n",
      "1\n",
      "2\n",
      "3\n",
      "4\n",
      "folder G:\\Chamodi\\LSDYNA3D\\RP_TH_models\\RP_Section_1_new3\\2.75m\\2.75m04.5kg\n",
      "1\n",
      "2\n",
      "3\n",
      "4\n",
      "folder G:\\Chamodi\\LSDYNA3D\\RP_TH_models\\RP_Section_1_new3\\2.75m\\2.75m06.5kg\n",
      "1\n",
      "2\n",
      "3\n",
      "4\n",
      "folder G:\\Chamodi\\LSDYNA3D\\RP_TH_models\\RP_Section_1_new3\\2.75m\\2.75m08.5kg\n",
      "1\n",
      "2\n",
      "3\n",
      "4\n",
      "folder G:\\Chamodi\\LSDYNA3D\\RP_TH_models\\RP_Section_1_new3\\2.75m\\2.75m10.5kg\n",
      "1\n",
      "2\n",
      "3\n",
      "4\n",
      "folder G:\\Chamodi\\LSDYNA3D\\RP_TH_models\\RP_Section_1_new3\\2.75m\\2.75m12.5kg\n",
      "1\n",
      "2\n",
      "3\n",
      "4\n",
      "folder G:\\Chamodi\\LSDYNA3D\\RP_TH_models\\RP_Section_1_new3\\2.75m\\2.75m14.5kg\n",
      "1\n",
      "2\n",
      "3\n",
      "4\n",
      "folder G:\\Chamodi\\LSDYNA3D\\RP_TH_models\\RP_Section_1_new3\\2.75m\\2.75m16.5kg\n",
      "1\n",
      "2\n",
      "3\n",
      "4\n",
      "folder G:\\Chamodi\\LSDYNA3D\\RP_TH_models\\RP_Section_1_new3\\2.75m\\2.75m18.5kg\n",
      "1\n",
      "2\n",
      "3\n",
      "4\n",
      "folder G:\\Chamodi\\LSDYNA3D\\RP_TH_models\\RP_Section_1_new3\\2.75m\\2.75m20.5kg\n",
      "1\n",
      "2\n",
      "3\n",
      "4\n",
      "folder G:\\Chamodi\\LSDYNA3D\\RP_TH_models\\RP_Section_1_new3\\2.75m\\2.75m22.5kg\n",
      "1\n",
      "2\n",
      "3\n",
      "4\n",
      "folder G:\\Chamodi\\LSDYNA3D\\RP_TH_models\\RP_Section_1_new3\\2.75m\\2.75m24.5kg\n",
      "1\n",
      "2\n",
      "3\n",
      "4\n",
      "folder G:\\Chamodi\\LSDYNA3D\\RP_TH_models\\RP_Section_1_new3\\2.75m\\2.75m26.5kg\n",
      "1\n",
      "2\n",
      "3\n",
      "4\n",
      "folder G:\\Chamodi\\LSDYNA3D\\RP_TH_models\\RP_Section_1_new3\\2.75m\\2.75m28.5kg\n",
      "1\n",
      "2\n",
      "3\n",
      "4\n",
      "folder G:\\Chamodi\\LSDYNA3D\\RP_TH_models\\RP_Section_1_new3\\2.75m\\2.75m30.5kg\n",
      "1\n",
      "2\n",
      "3\n",
      "4\n",
      "folder G:\\Chamodi\\LSDYNA3D\\RP_TH_models\\RP_Section_1_new3\\2.75m\\2.75m32.5kg\n",
      "1\n",
      "2\n",
      "3\n",
      "4\n",
      "folder G:\\Chamodi\\LSDYNA3D\\RP_TH_models\\RP_Section_1_new3\\2.75m\\2.75m34.5kg\n",
      "1\n",
      "2\n",
      "3\n",
      "4\n",
      "folder G:\\Chamodi\\LSDYNA3D\\RP_TH_models\\RP_Section_1_new3\\2.75m\\2.75m35.0kg\n",
      "1\n",
      "2\n",
      "3\n",
      "4\n",
      "folder G:\\Chamodi\\LSDYNA3D\\RP_TH_models\\RP_Section_1_new3\\3.00m\\3.00m00.5kg\n",
      "1\n",
      "2\n",
      "3\n",
      "4\n",
      "folder G:\\Chamodi\\LSDYNA3D\\RP_TH_models\\RP_Section_1_new3\\3.00m\\3.00m02.5kg\n",
      "1\n",
      "2\n",
      "3\n",
      "4\n",
      "folder G:\\Chamodi\\LSDYNA3D\\RP_TH_models\\RP_Section_1_new3\\3.00m\\3.00m04.5kg\n",
      "1\n",
      "2\n",
      "3\n",
      "4\n",
      "folder G:\\Chamodi\\LSDYNA3D\\RP_TH_models\\RP_Section_1_new3\\3.00m\\3.00m06.5kg\n",
      "1\n",
      "2\n",
      "3\n",
      "4\n",
      "folder G:\\Chamodi\\LSDYNA3D\\RP_TH_models\\RP_Section_1_new3\\3.00m\\3.00m08.5kg\n",
      "1\n",
      "2\n",
      "3\n",
      "4\n",
      "folder G:\\Chamodi\\LSDYNA3D\\RP_TH_models\\RP_Section_1_new3\\3.00m\\3.00m10.5kg\n",
      "1\n",
      "2\n",
      "3\n",
      "4\n",
      "folder G:\\Chamodi\\LSDYNA3D\\RP_TH_models\\RP_Section_1_new3\\3.00m\\3.00m12.5kg\n",
      "1\n",
      "2\n",
      "3\n",
      "4\n",
      "folder G:\\Chamodi\\LSDYNA3D\\RP_TH_models\\RP_Section_1_new3\\3.00m\\3.00m14.5kg\n",
      "1\n",
      "2\n",
      "3\n",
      "4\n",
      "folder G:\\Chamodi\\LSDYNA3D\\RP_TH_models\\RP_Section_1_new3\\3.00m\\3.00m16.5kg\n",
      "1\n",
      "2\n",
      "3\n",
      "4\n",
      "folder G:\\Chamodi\\LSDYNA3D\\RP_TH_models\\RP_Section_1_new3\\3.00m\\3.00m18.5kg\n",
      "1\n",
      "2\n",
      "3\n",
      "4\n",
      "folder G:\\Chamodi\\LSDYNA3D\\RP_TH_models\\RP_Section_1_new3\\3.00m\\3.00m20.5kg\n",
      "1\n",
      "2\n",
      "3\n",
      "4\n",
      "folder G:\\Chamodi\\LSDYNA3D\\RP_TH_models\\RP_Section_1_new3\\3.00m\\3.00m22.5kg\n",
      "1\n",
      "2\n",
      "3\n",
      "4\n",
      "folder G:\\Chamodi\\LSDYNA3D\\RP_TH_models\\RP_Section_1_new3\\3.00m\\3.00m24.5kg\n",
      "1\n",
      "2\n",
      "3\n",
      "4\n",
      "folder G:\\Chamodi\\LSDYNA3D\\RP_TH_models\\RP_Section_1_new3\\3.00m\\3.00m26.5kg\n",
      "1\n",
      "2\n",
      "3\n",
      "4\n",
      "folder G:\\Chamodi\\LSDYNA3D\\RP_TH_models\\RP_Section_1_new3\\3.00m\\3.00m28.5kg\n",
      "1\n",
      "2\n",
      "3\n",
      "4\n",
      "folder G:\\Chamodi\\LSDYNA3D\\RP_TH_models\\RP_Section_1_new3\\3.00m\\3.00m30.5kg\n",
      "1\n",
      "2\n",
      "3\n",
      "4\n",
      "folder G:\\Chamodi\\LSDYNA3D\\RP_TH_models\\RP_Section_1_new3\\3.00m\\3.00m32.5kg\n",
      "1\n",
      "2\n",
      "3\n",
      "4\n",
      "folder G:\\Chamodi\\LSDYNA3D\\RP_TH_models\\RP_Section_1_new3\\3.00m\\3.00m34.5kg\n",
      "1\n",
      "2\n",
      "3\n",
      "4\n",
      "folder G:\\Chamodi\\LSDYNA3D\\RP_TH_models\\RP_Section_1_new3\\3.00m\\3.00m35.0kg\n",
      "1\n",
      "2\n",
      "3\n",
      "4\n"
     ]
    }
   ],
   "source": [
    "#dataset = pd.DataFrame(columns = ['Charge_mass', 'Standoff_distance', 'Time', 'Pressure', 'Phase'])\n",
    "df_list = []\n",
    "\n",
    "for folder1 in input_dir2:\n",
    "    \n",
    "    input_dir3 =  [folder2 for folder2 in folder1.iterdir() if folder2.is_dir()] # folder2 - 07m00.5kg\n",
    "    \n",
    "    for folder2 in input_dir3:\n",
    "        \n",
    "        print ('folder', folder2)\n",
    "        files1 = [file1 for file1 in folder2.rglob(\"*.xlsx\")]\n",
    "    \n",
    "        for file1 in files1:\n",
    "            df_list.append(pd.read_excel(file1))\n",
    "            print (file1.stem)\n",
    "    \n",
    "dataset = pd.concat(df_list, ignore_index = True)"
   ]
  },
  {
   "cell_type": "code",
   "execution_count": 4,
   "metadata": {
    "colab": {},
    "colab_type": "code",
    "id": "B9CV13Co_HHM",
    "ExecuteTime": {
     "end_time": "2024-08-21T01:50:20.506770900Z",
     "start_time": "2024-08-21T01:50:20.436620100Z"
    }
   },
   "outputs": [
    {
     "name": "stdout",
     "output_type": "stream",
     "text": [
      "<class 'pandas.core.frame.DataFrame'>\n",
      "RangeIndex: 55559 entries, 0 to 55558\n",
      "Data columns (total 6 columns):\n",
      " #   Column             Non-Null Count  Dtype  \n",
      "---  ------             --------------  -----  \n",
      " 0   Mass               55559 non-null  float64\n",
      " 1   Standoff distance  55559 non-null  float64\n",
      " 2   Angle              55559 non-null  int64  \n",
      " 3   Time               55559 non-null  float64\n",
      " 4   Phase              55559 non-null  object \n",
      " 5   Pressure           55559 non-null  float64\n",
      "dtypes: float64(4), int64(1), object(1)\n",
      "memory usage: 2.5+ MB\n"
     ]
    }
   ],
   "source": [
    "dataset.info()"
   ]
  },
  {
   "cell_type": "code",
   "execution_count": 5,
   "outputs": [
    {
     "name": "stdout",
     "output_type": "stream",
     "text": [
      "<class 'pandas.core.frame.DataFrame'>\n",
      "RangeIndex: 55559 entries, 0 to 55558\n",
      "Data columns (total 7 columns):\n",
      " #   Column             Non-Null Count  Dtype  \n",
      "---  ------             --------------  -----  \n",
      " 0   Mass               55559 non-null  float64\n",
      " 1   Standoff distance  55559 non-null  float64\n",
      " 2   Angle              55559 non-null  int64  \n",
      " 3   Time               55559 non-null  float64\n",
      " 4   Pressure           55559 non-null  float64\n",
      " 5   Phase_negative     55559 non-null  uint8  \n",
      " 6   Phase_positive     55559 non-null  uint8  \n",
      "dtypes: float64(4), int64(1), uint8(2)\n",
      "memory usage: 2.2 MB\n"
     ]
    }
   ],
   "source": [
    "dataset['Phase'] = dataset['Phase'].replace({'negative_increasing': 'negative', 'negative_decreasing': 'negative'})\n",
    "dataset = pd.get_dummies(dataset, columns =['Phase'], dtype = np.uint8)\n",
    "dataset.info()"
   ],
   "metadata": {
    "collapsed": false,
    "ExecuteTime": {
     "end_time": "2024-08-21T01:50:20.602098100Z",
     "start_time": "2024-08-21T01:50:20.469214400Z"
    }
   }
  },
  {
   "cell_type": "code",
   "execution_count": 6,
   "outputs": [
    {
     "data": {
      "text/plain": "    Mass  Standoff distance  Angle      Time   Pressure  Phase_negative  \\\n0    0.5                1.5      0  1.465171  564.29260               0   \n1    0.5                1.5      0  1.467252  564.05780               0   \n2    0.5                1.5      0  1.469334  563.32560               0   \n3    0.5                1.5      0  1.473498  560.48900               0   \n4    0.5                1.5      0  1.481826  549.75170               0   \n5    0.5                1.5      0  1.517147  472.15140               0   \n6    0.5                1.5      0  1.525413  457.14590               0   \n7    0.5                1.5      0  1.535697  442.17030               0   \n8    0.5                1.5      0  1.558011  415.68570               0   \n9    0.5                1.5      0  1.615291  353.68080               0   \n10   0.5                1.5      0  1.643169  325.25090               0   \n11   0.5                1.5      0  1.665162  305.04660               0   \n12   0.5                1.5      0  1.691183  283.41260               0   \n13   0.5                1.5      0  1.721250  260.57490               0   \n14   0.5                1.5      0  1.753411  238.05300               0   \n15   0.5                1.5      0  1.783647  218.56040               0   \n16   0.5                1.5      0  1.813952  200.67040               0   \n17   0.5                1.5      0  1.844339  184.32260               0   \n18   0.5                1.5      0  1.874821  169.41340               0   \n19   0.5                1.5      0  1.909467  154.01040               0   \n20   0.5                1.5      0  1.948282  138.29660               0   \n21   0.5                1.5      0  1.987262  123.92310               0   \n22   0.5                1.5      0  2.026533  110.79310               0   \n23   0.5                1.5      0  2.068011   98.23788               0   \n24   0.5                1.5      0  2.113112   85.87970               0   \n25   0.5                1.5      0  2.157048   74.99792               0   \n26   0.5                1.5      0  2.203624   64.62081               0   \n27   0.5                1.5      0  2.254955   54.33177               0   \n28   0.5                1.5      0  2.307782   44.76888               0   \n29   0.5                1.5      0  2.360574   36.21905               0   \n\n    Phase_positive  \n0                1  \n1                1  \n2                1  \n3                1  \n4                1  \n5                1  \n6                1  \n7                1  \n8                1  \n9                1  \n10               1  \n11               1  \n12               1  \n13               1  \n14               1  \n15               1  \n16               1  \n17               1  \n18               1  \n19               1  \n20               1  \n21               1  \n22               1  \n23               1  \n24               1  \n25               1  \n26               1  \n27               1  \n28               1  \n29               1  ",
      "text/html": "<div>\n<style scoped>\n    .dataframe tbody tr th:only-of-type {\n        vertical-align: middle;\n    }\n\n    .dataframe tbody tr th {\n        vertical-align: top;\n    }\n\n    .dataframe thead th {\n        text-align: right;\n    }\n</style>\n<table border=\"1\" class=\"dataframe\">\n  <thead>\n    <tr style=\"text-align: right;\">\n      <th></th>\n      <th>Mass</th>\n      <th>Standoff distance</th>\n      <th>Angle</th>\n      <th>Time</th>\n      <th>Pressure</th>\n      <th>Phase_negative</th>\n      <th>Phase_positive</th>\n    </tr>\n  </thead>\n  <tbody>\n    <tr>\n      <th>0</th>\n      <td>0.5</td>\n      <td>1.5</td>\n      <td>0</td>\n      <td>1.465171</td>\n      <td>564.29260</td>\n      <td>0</td>\n      <td>1</td>\n    </tr>\n    <tr>\n      <th>1</th>\n      <td>0.5</td>\n      <td>1.5</td>\n      <td>0</td>\n      <td>1.467252</td>\n      <td>564.05780</td>\n      <td>0</td>\n      <td>1</td>\n    </tr>\n    <tr>\n      <th>2</th>\n      <td>0.5</td>\n      <td>1.5</td>\n      <td>0</td>\n      <td>1.469334</td>\n      <td>563.32560</td>\n      <td>0</td>\n      <td>1</td>\n    </tr>\n    <tr>\n      <th>3</th>\n      <td>0.5</td>\n      <td>1.5</td>\n      <td>0</td>\n      <td>1.473498</td>\n      <td>560.48900</td>\n      <td>0</td>\n      <td>1</td>\n    </tr>\n    <tr>\n      <th>4</th>\n      <td>0.5</td>\n      <td>1.5</td>\n      <td>0</td>\n      <td>1.481826</td>\n      <td>549.75170</td>\n      <td>0</td>\n      <td>1</td>\n    </tr>\n    <tr>\n      <th>5</th>\n      <td>0.5</td>\n      <td>1.5</td>\n      <td>0</td>\n      <td>1.517147</td>\n      <td>472.15140</td>\n      <td>0</td>\n      <td>1</td>\n    </tr>\n    <tr>\n      <th>6</th>\n      <td>0.5</td>\n      <td>1.5</td>\n      <td>0</td>\n      <td>1.525413</td>\n      <td>457.14590</td>\n      <td>0</td>\n      <td>1</td>\n    </tr>\n    <tr>\n      <th>7</th>\n      <td>0.5</td>\n      <td>1.5</td>\n      <td>0</td>\n      <td>1.535697</td>\n      <td>442.17030</td>\n      <td>0</td>\n      <td>1</td>\n    </tr>\n    <tr>\n      <th>8</th>\n      <td>0.5</td>\n      <td>1.5</td>\n      <td>0</td>\n      <td>1.558011</td>\n      <td>415.68570</td>\n      <td>0</td>\n      <td>1</td>\n    </tr>\n    <tr>\n      <th>9</th>\n      <td>0.5</td>\n      <td>1.5</td>\n      <td>0</td>\n      <td>1.615291</td>\n      <td>353.68080</td>\n      <td>0</td>\n      <td>1</td>\n    </tr>\n    <tr>\n      <th>10</th>\n      <td>0.5</td>\n      <td>1.5</td>\n      <td>0</td>\n      <td>1.643169</td>\n      <td>325.25090</td>\n      <td>0</td>\n      <td>1</td>\n    </tr>\n    <tr>\n      <th>11</th>\n      <td>0.5</td>\n      <td>1.5</td>\n      <td>0</td>\n      <td>1.665162</td>\n      <td>305.04660</td>\n      <td>0</td>\n      <td>1</td>\n    </tr>\n    <tr>\n      <th>12</th>\n      <td>0.5</td>\n      <td>1.5</td>\n      <td>0</td>\n      <td>1.691183</td>\n      <td>283.41260</td>\n      <td>0</td>\n      <td>1</td>\n    </tr>\n    <tr>\n      <th>13</th>\n      <td>0.5</td>\n      <td>1.5</td>\n      <td>0</td>\n      <td>1.721250</td>\n      <td>260.57490</td>\n      <td>0</td>\n      <td>1</td>\n    </tr>\n    <tr>\n      <th>14</th>\n      <td>0.5</td>\n      <td>1.5</td>\n      <td>0</td>\n      <td>1.753411</td>\n      <td>238.05300</td>\n      <td>0</td>\n      <td>1</td>\n    </tr>\n    <tr>\n      <th>15</th>\n      <td>0.5</td>\n      <td>1.5</td>\n      <td>0</td>\n      <td>1.783647</td>\n      <td>218.56040</td>\n      <td>0</td>\n      <td>1</td>\n    </tr>\n    <tr>\n      <th>16</th>\n      <td>0.5</td>\n      <td>1.5</td>\n      <td>0</td>\n      <td>1.813952</td>\n      <td>200.67040</td>\n      <td>0</td>\n      <td>1</td>\n    </tr>\n    <tr>\n      <th>17</th>\n      <td>0.5</td>\n      <td>1.5</td>\n      <td>0</td>\n      <td>1.844339</td>\n      <td>184.32260</td>\n      <td>0</td>\n      <td>1</td>\n    </tr>\n    <tr>\n      <th>18</th>\n      <td>0.5</td>\n      <td>1.5</td>\n      <td>0</td>\n      <td>1.874821</td>\n      <td>169.41340</td>\n      <td>0</td>\n      <td>1</td>\n    </tr>\n    <tr>\n      <th>19</th>\n      <td>0.5</td>\n      <td>1.5</td>\n      <td>0</td>\n      <td>1.909467</td>\n      <td>154.01040</td>\n      <td>0</td>\n      <td>1</td>\n    </tr>\n    <tr>\n      <th>20</th>\n      <td>0.5</td>\n      <td>1.5</td>\n      <td>0</td>\n      <td>1.948282</td>\n      <td>138.29660</td>\n      <td>0</td>\n      <td>1</td>\n    </tr>\n    <tr>\n      <th>21</th>\n      <td>0.5</td>\n      <td>1.5</td>\n      <td>0</td>\n      <td>1.987262</td>\n      <td>123.92310</td>\n      <td>0</td>\n      <td>1</td>\n    </tr>\n    <tr>\n      <th>22</th>\n      <td>0.5</td>\n      <td>1.5</td>\n      <td>0</td>\n      <td>2.026533</td>\n      <td>110.79310</td>\n      <td>0</td>\n      <td>1</td>\n    </tr>\n    <tr>\n      <th>23</th>\n      <td>0.5</td>\n      <td>1.5</td>\n      <td>0</td>\n      <td>2.068011</td>\n      <td>98.23788</td>\n      <td>0</td>\n      <td>1</td>\n    </tr>\n    <tr>\n      <th>24</th>\n      <td>0.5</td>\n      <td>1.5</td>\n      <td>0</td>\n      <td>2.113112</td>\n      <td>85.87970</td>\n      <td>0</td>\n      <td>1</td>\n    </tr>\n    <tr>\n      <th>25</th>\n      <td>0.5</td>\n      <td>1.5</td>\n      <td>0</td>\n      <td>2.157048</td>\n      <td>74.99792</td>\n      <td>0</td>\n      <td>1</td>\n    </tr>\n    <tr>\n      <th>26</th>\n      <td>0.5</td>\n      <td>1.5</td>\n      <td>0</td>\n      <td>2.203624</td>\n      <td>64.62081</td>\n      <td>0</td>\n      <td>1</td>\n    </tr>\n    <tr>\n      <th>27</th>\n      <td>0.5</td>\n      <td>1.5</td>\n      <td>0</td>\n      <td>2.254955</td>\n      <td>54.33177</td>\n      <td>0</td>\n      <td>1</td>\n    </tr>\n    <tr>\n      <th>28</th>\n      <td>0.5</td>\n      <td>1.5</td>\n      <td>0</td>\n      <td>2.307782</td>\n      <td>44.76888</td>\n      <td>0</td>\n      <td>1</td>\n    </tr>\n    <tr>\n      <th>29</th>\n      <td>0.5</td>\n      <td>1.5</td>\n      <td>0</td>\n      <td>2.360574</td>\n      <td>36.21905</td>\n      <td>0</td>\n      <td>1</td>\n    </tr>\n  </tbody>\n</table>\n</div>"
     },
     "execution_count": 6,
     "metadata": {},
     "output_type": "execute_result"
    }
   ],
   "source": [
    "dataset.head(30)"
   ],
   "metadata": {
    "collapsed": false,
    "ExecuteTime": {
     "end_time": "2024-08-21T01:50:20.762832600Z",
     "start_time": "2024-08-21T01:50:20.608103500Z"
    }
   }
  },
  {
   "cell_type": "code",
   "execution_count": 7,
   "metadata": {
    "ExecuteTime": {
     "end_time": "2024-08-21T01:50:20.901458500Z",
     "start_time": "2024-08-21T01:50:20.758833200Z"
    }
   },
   "outputs": [
    {
     "name": "stdout",
     "output_type": "stream",
     "text": [
      "(55559, 6) (55559,)\n"
     ]
    }
   ],
   "source": [
    "y = dataset['Pressure']\n",
    "X = dataset.drop(['Pressure'], axis=1)\n",
    "print(X.shape, y.shape)"
   ]
  },
  {
   "cell_type": "code",
   "execution_count": 8,
   "metadata": {
    "ExecuteTime": {
     "end_time": "2024-08-21T01:50:21.010120Z",
     "start_time": "2024-08-21T01:50:20.862936700Z"
    }
   },
   "outputs": [],
   "source": [
    "# convert to numpy array\n",
    "X = np.array(X)\n",
    "y = np.array(y)"
   ]
  },
  {
   "cell_type": "code",
   "execution_count": 9,
   "metadata": {
    "colab": {},
    "colab_type": "code",
    "id": "L5edeb2r_agx",
    "ExecuteTime": {
     "end_time": "2024-08-21T01:50:22.220855700Z",
     "start_time": "2024-08-21T01:50:21.001086500Z"
    }
   },
   "outputs": [],
   "source": [
    "from sklearn.model_selection import train_test_split\n",
    "X_train, X_test, y_train, y_test = train_test_split(X,\n",
    "                                                    y,\n",
    "                                                    test_size = 0.4,\n",
    "                                                    random_state = 0)"
   ]
  },
  {
   "cell_type": "code",
   "execution_count": 10,
   "metadata": {
    "colab": {},
    "colab_type": "code",
    "id": "L5edeb2r_agx",
    "ExecuteTime": {
     "end_time": "2024-08-21T01:50:22.235893Z",
     "start_time": "2024-08-21T01:50:22.221865500Z"
    }
   },
   "outputs": [],
   "source": [
    "X_val, X_test, y_val, y_test = train_test_split(X_test,\n",
    "                                                y_test,\n",
    "                                                test_size = 0.5,\n",
    "                                                random_state = 0)"
   ]
  },
  {
   "cell_type": "code",
   "execution_count": 11,
   "outputs": [
    {
     "name": "stdout",
     "output_type": "stream",
     "text": [
      "[[-0.36269004 -0.52145157 -0.44441782 -0.67104328  0.          1.        ]\n",
      " [-1.53923008 -1.02418722  1.37366749 -0.26694703  1.          0.        ]\n",
      " [-0.16660003 -0.52145157 -1.35346048 -0.65969155  0.          1.        ]\n",
      " ...\n",
      " [-0.16660003  0.98675539 -0.44441782  1.77036442  1.          0.        ]\n",
      " [ 0.22557998  0.98675539  0.46462483 -0.58070736  0.          1.        ]\n",
      " [-0.55878005 -1.52692287  0.46462483 -0.70672769  0.          1.        ]]\n"
     ]
    }
   ],
   "source": [
    "from sklearn.preprocessing import StandardScaler\n",
    "sc = StandardScaler()\n",
    "X_train[:,0:4] = sc.fit_transform(X_train[:, 0:4])\n",
    "print (X_train)"
   ],
   "metadata": {
    "collapsed": false,
    "ExecuteTime": {
     "end_time": "2024-08-21T01:50:22.424573900Z",
     "start_time": "2024-08-21T01:50:22.237902800Z"
    }
   }
  },
  {
   "cell_type": "code",
   "execution_count": 12,
   "outputs": [
    {
     "name": "stdout",
     "output_type": "stream",
     "text": [
      "[[ 1.00994     0.48401974 -1.35346048 -0.89997439  0.          1.        ]\n",
      " [-1.93141009 -1.52692287 -1.35346048 -0.75851636  0.          1.        ]\n",
      " [ 0.22557998  1.48949105  1.37366749 -0.37821042  0.          1.        ]\n",
      " ...\n",
      " [ 0.02948997 -0.01871591 -0.44441782 -0.51644526  0.          1.        ]\n",
      " [ 1.20603001 -0.52145157 -0.44441782  0.94198323  1.          0.        ]\n",
      " [-0.16660003 -0.01871591  1.37366749 -0.39420937  0.          1.        ]]\n"
     ]
    }
   ],
   "source": [
    "X_test[:,0:4] = sc.transform(X_test[:,0:4])\n",
    "print (X_test)"
   ],
   "metadata": {
    "collapsed": false,
    "ExecuteTime": {
     "end_time": "2024-08-21T01:50:22.651307500Z",
     "start_time": "2024-08-21T01:50:22.419554900Z"
    }
   }
  },
  {
   "cell_type": "code",
   "execution_count": 13,
   "outputs": [
    {
     "name": "stdout",
     "output_type": "stream",
     "text": [
      "[[-0.55878005 -0.01871591 -0.44441782 -0.5825112   0.          1.        ]\n",
      " [-1.14705006 -0.52145157  0.46462483 -0.08074981  1.          0.        ]\n",
      " [-0.75487005  1.48949105  1.37366749 -0.22377807  0.          1.        ]\n",
      " ...\n",
      " [ 0.61775999  0.48401974 -0.44441782 -0.54628658  0.          1.        ]\n",
      " [-0.75487005 -1.52692287 -1.35346048  0.34884443  1.          0.        ]\n",
      " [ 0.42166998  0.98675539  0.46462483 -0.76600267  0.          1.        ]]\n"
     ]
    }
   ],
   "source": [
    "X_val[:,0:4] = sc.transform(X_val[:,0:4])\n",
    "print (X_val)"
   ],
   "metadata": {
    "collapsed": false,
    "ExecuteTime": {
     "end_time": "2024-08-21T01:50:23.052338700Z",
     "start_time": "2024-08-21T01:50:22.650309Z"
    }
   }
  },
  {
   "cell_type": "code",
   "execution_count": 14,
   "outputs": [
    {
     "name": "stdout",
     "output_type": "stream",
     "text": [
      "X_train 33335\n",
      "X_test 11112\n",
      "X_val 11112\n"
     ]
    }
   ],
   "source": [
    "print (\"X_train\", len(X_train))\n",
    "print (\"X_test\", len(X_test))\n",
    "print (\"X_val\", len(X_val))"
   ],
   "metadata": {
    "collapsed": false,
    "ExecuteTime": {
     "end_time": "2024-08-21T01:50:23.244154200Z",
     "start_time": "2024-08-21T01:50:23.055356500Z"
    }
   }
  },
  {
   "cell_type": "markdown",
   "metadata": {
    "colab_type": "text",
    "id": "_mSLlAT9_eyI"
   },
   "source": [
    "## Part 3 - Building the ANN"
   ]
  },
  {
   "cell_type": "code",
   "execution_count": 15,
   "metadata": {
    "colab": {},
    "colab_type": "code",
    "id": "J6Hd97Ls__Nz",
    "ExecuteTime": {
     "end_time": "2024-08-21T01:50:23.473402900Z",
     "start_time": "2024-08-21T01:50:23.243154700Z"
    }
   },
   "outputs": [],
   "source": [
    "ann = tf.keras.models.Sequential()"
   ]
  },
  {
   "cell_type": "code",
   "execution_count": 16,
   "metadata": {
    "colab": {},
    "colab_type": "code",
    "id": "ksO_Vv40AHix",
    "ExecuteTime": {
     "end_time": "2024-08-21T01:50:23.714664600Z",
     "start_time": "2024-08-21T01:50:23.476402700Z"
    }
   },
   "outputs": [],
   "source": [
    "ann.add(tf.keras.layers.Dense(units=250,\n",
    "                              input_shape=(X_train.shape[1],),\n",
    "                              activation='relu'))\n",
    "ann.add(tf.keras.layers.Dense(units=225,\n",
    "                              activation='relu'))\n",
    "ann.add(tf.keras.layers.Dense(units=200,\n",
    "                              activation='relu'))"
   ]
  },
  {
   "cell_type": "code",
   "execution_count": 17,
   "metadata": {
    "colab": {},
    "colab_type": "code",
    "id": "YFATpzsUAkLL",
    "ExecuteTime": {
     "end_time": "2024-08-21T01:50:23.764222Z",
     "start_time": "2024-08-21T01:50:23.716664Z"
    }
   },
   "outputs": [],
   "source": [
    "ann.add(tf.keras.layers.Dense(units=1,\n",
    "                              activation='linear'))"
   ]
  },
  {
   "cell_type": "code",
   "execution_count": 18,
   "metadata": {
    "ExecuteTime": {
     "end_time": "2024-08-21T01:50:23.870848400Z",
     "start_time": "2024-08-21T01:50:23.761213Z"
    }
   },
   "outputs": [
    {
     "name": "stdout",
     "output_type": "stream",
     "text": [
      "Model: \"sequential\"\n",
      "_________________________________________________________________\n",
      " Layer (type)                Output Shape              Param #   \n",
      "=================================================================\n",
      " dense (Dense)               (None, 250)               1750      \n",
      "                                                                 \n",
      " dense_1 (Dense)             (None, 225)               56475     \n",
      "                                                                 \n",
      " dense_2 (Dense)             (None, 200)               45200     \n",
      "                                                                 \n",
      " dense_3 (Dense)             (None, 1)                 201       \n",
      "                                                                 \n",
      "=================================================================\n",
      "Total params: 103,626\n",
      "Trainable params: 103,626\n",
      "Non-trainable params: 0\n",
      "_________________________________________________________________\n"
     ]
    }
   ],
   "source": [
    "ann.summary()"
   ]
  },
  {
   "cell_type": "markdown",
   "metadata": {
    "colab_type": "text",
    "id": "fq7e4fF6A1yy"
   },
   "source": [
    "## Part 4 - Training the ANN"
   ]
  },
  {
   "cell_type": "code",
   "execution_count": 19,
   "metadata": {
    "colab": {},
    "colab_type": "code",
    "id": "pesgbWlCAtB4",
    "ExecuteTime": {
     "end_time": "2024-08-21T01:50:23.988980300Z",
     "start_time": "2024-08-21T01:50:23.867848100Z"
    }
   },
   "outputs": [],
   "source": [
    "# from tensorflow.keras.optimizers import Adam\n",
    "from keras.optimizers import Adam\n",
    "opt = Adam(learning_rate=0.001)\n",
    "ann.compile(optimizer = opt,\n",
    "            loss = 'mean_squared_error',\n",
    "            metrics = ['mae'])"
   ]
  },
  {
   "cell_type": "code",
   "execution_count": 20,
   "metadata": {
    "ExecuteTime": {
     "end_time": "2024-08-21T01:50:24.186015400Z",
     "start_time": "2024-08-21T01:50:23.993994600Z"
    }
   },
   "outputs": [],
   "source": [
    "# protects from unnecessary further training of the model if a particular metric does not continue to improve over a number of n epochs. In such a case, the model training would be automatically aborted.\n",
    "from keras.callbacks import EarlyStopping\n",
    "es = EarlyStopping(monitor='val_loss',\n",
    "                   mode='min',\n",
    "                   patience=50,\n",
    "                   restore_best_weights = True)"
   ]
  },
  {
   "cell_type": "code",
   "execution_count": 21,
   "metadata": {
    "colab": {
     "base_uri": "https://localhost:8080/",
     "height": 1000
    },
    "colab_type": "code",
    "id": "c_vV-tiiA5zn",
    "outputId": "4a2b6ee6-ed75-4698-9069-b250e613803f",
    "ExecuteTime": {
     "end_time": "2024-08-21T01:58:56.408027800Z",
     "start_time": "2024-08-21T01:50:24.187014900Z"
    }
   },
   "outputs": [
    {
     "name": "stdout",
     "output_type": "stream",
     "text": [
      "Epoch 1/500\n",
      "1112/1112 [==============================] - 38s 33ms/step - loss: 2662446.5000 - mae: 707.6721 - val_loss: 1772389.3750 - val_mae: 494.5514\n",
      "Epoch 2/500\n",
      "1112/1112 [==============================] - 5s 4ms/step - loss: 1167907.1250 - mae: 432.8599 - val_loss: 982410.2500 - val_mae: 413.9168\n",
      "Epoch 3/500\n",
      "1112/1112 [==============================] - 6s 5ms/step - loss: 636161.0000 - mae: 283.6826 - val_loss: 475418.5312 - val_mae: 228.4111\n",
      "Epoch 4/500\n",
      "1112/1112 [==============================] - 5s 4ms/step - loss: 384153.8125 - mae: 212.7865 - val_loss: 239304.5625 - val_mae: 167.0401\n",
      "Epoch 5/500\n",
      "1112/1112 [==============================] - 5s 4ms/step - loss: 280788.8750 - mae: 175.6930 - val_loss: 171430.1094 - val_mae: 150.7934\n",
      "Epoch 6/500\n",
      "1112/1112 [==============================] - 5s 4ms/step - loss: 212919.5469 - mae: 154.2148 - val_loss: 190350.2031 - val_mae: 131.0608\n",
      "Epoch 7/500\n",
      "1112/1112 [==============================] - 6s 5ms/step - loss: 206182.8125 - mae: 149.8771 - val_loss: 102898.6172 - val_mae: 107.8291\n",
      "Epoch 8/500\n",
      "1112/1112 [==============================] - 4s 4ms/step - loss: 212043.7031 - mae: 149.4577 - val_loss: 117734.0938 - val_mae: 123.5922\n",
      "Epoch 9/500\n",
      "1112/1112 [==============================] - 5s 4ms/step - loss: 164501.7656 - mae: 133.4978 - val_loss: 131913.2812 - val_mae: 119.8272\n",
      "Epoch 10/500\n",
      "1112/1112 [==============================] - 5s 4ms/step - loss: 189100.0156 - mae: 142.3058 - val_loss: 135339.8125 - val_mae: 123.3025\n",
      "Epoch 11/500\n",
      "1112/1112 [==============================] - 5s 4ms/step - loss: 188296.0469 - mae: 136.2937 - val_loss: 388399.5000 - val_mae: 158.9840\n",
      "Epoch 12/500\n",
      "1112/1112 [==============================] - 5s 4ms/step - loss: 175205.8750 - mae: 133.8021 - val_loss: 164151.4375 - val_mae: 124.5461\n",
      "Epoch 13/500\n",
      "1112/1112 [==============================] - 5s 4ms/step - loss: 161515.0938 - mae: 131.3434 - val_loss: 86600.3594 - val_mae: 96.2761\n",
      "Epoch 14/500\n",
      "1112/1112 [==============================] - 5s 4ms/step - loss: 177715.7188 - mae: 133.3739 - val_loss: 103314.7891 - val_mae: 112.3077\n",
      "Epoch 15/500\n",
      "1112/1112 [==============================] - 5s 4ms/step - loss: 141364.3750 - mae: 119.9120 - val_loss: 299160.0625 - val_mae: 216.8295\n",
      "Epoch 16/500\n",
      "1112/1112 [==============================] - 6s 5ms/step - loss: 157251.0625 - mae: 126.2053 - val_loss: 111230.3438 - val_mae: 113.4952\n",
      "Epoch 17/500\n",
      "1112/1112 [==============================] - 5s 4ms/step - loss: 141934.2812 - mae: 120.3866 - val_loss: 345194.4688 - val_mae: 204.6545\n",
      "Epoch 18/500\n",
      "1112/1112 [==============================] - 5s 5ms/step - loss: 188431.1094 - mae: 135.2381 - val_loss: 101121.7500 - val_mae: 100.2362\n",
      "Epoch 19/500\n",
      "1112/1112 [==============================] - 5s 4ms/step - loss: 142675.2500 - mae: 118.8566 - val_loss: 157185.9062 - val_mae: 132.2917\n",
      "Epoch 20/500\n",
      "1112/1112 [==============================] - 5s 4ms/step - loss: 155671.0938 - mae: 124.5289 - val_loss: 451741.5938 - val_mae: 203.1660\n",
      "Epoch 21/500\n",
      "1112/1112 [==============================] - 5s 4ms/step - loss: 152249.3125 - mae: 121.5145 - val_loss: 309690.0312 - val_mae: 161.8795\n",
      "Epoch 22/500\n",
      "1112/1112 [==============================] - 5s 4ms/step - loss: 175843.2031 - mae: 129.5889 - val_loss: 154845.8750 - val_mae: 137.0231\n",
      "Epoch 23/500\n",
      "1112/1112 [==============================] - 5s 4ms/step - loss: 138203.6094 - mae: 118.2706 - val_loss: 143018.7969 - val_mae: 132.5323\n",
      "Epoch 24/500\n",
      "1112/1112 [==============================] - 5s 4ms/step - loss: 136656.9062 - mae: 117.7665 - val_loss: 64585.1055 - val_mae: 85.0615\n",
      "Epoch 25/500\n",
      "1112/1112 [==============================] - 6s 5ms/step - loss: 155434.0000 - mae: 119.9419 - val_loss: 105752.7891 - val_mae: 112.5336\n",
      "Epoch 26/500\n",
      "1112/1112 [==============================] - 5s 4ms/step - loss: 135666.7656 - mae: 112.4592 - val_loss: 67473.0156 - val_mae: 83.2992\n",
      "Epoch 27/500\n",
      "1112/1112 [==============================] - 5s 4ms/step - loss: 148335.7031 - mae: 114.5401 - val_loss: 220453.9219 - val_mae: 141.7649\n",
      "Epoch 28/500\n",
      "1112/1112 [==============================] - 5s 4ms/step - loss: 186878.7188 - mae: 128.3348 - val_loss: 122248.8438 - val_mae: 98.8698\n",
      "Epoch 29/500\n",
      "1112/1112 [==============================] - 5s 4ms/step - loss: 161355.9844 - mae: 121.8414 - val_loss: 755688.3750 - val_mae: 307.9510\n",
      "Epoch 30/500\n",
      "1112/1112 [==============================] - 5s 4ms/step - loss: 162493.3281 - mae: 123.5726 - val_loss: 187643.1406 - val_mae: 131.1254\n",
      "Epoch 31/500\n",
      "1112/1112 [==============================] - 5s 4ms/step - loss: 127160.6172 - mae: 111.1988 - val_loss: 84253.5547 - val_mae: 96.8213\n",
      "Epoch 32/500\n",
      "1112/1112 [==============================] - 5s 4ms/step - loss: 125177.7422 - mae: 110.0437 - val_loss: 91686.1875 - val_mae: 88.7315\n",
      "Epoch 33/500\n",
      "1112/1112 [==============================] - 5s 4ms/step - loss: 236251.3438 - mae: 140.3577 - val_loss: 80820.8984 - val_mae: 87.0948\n",
      "Epoch 34/500\n",
      "1112/1112 [==============================] - 5s 4ms/step - loss: 122279.0938 - mae: 108.6023 - val_loss: 68037.7109 - val_mae: 86.7945\n",
      "Epoch 35/500\n",
      "1112/1112 [==============================] - 6s 5ms/step - loss: 142743.2656 - mae: 115.7692 - val_loss: 57066.3906 - val_mae: 76.9623\n",
      "Epoch 36/500\n",
      "1112/1112 [==============================] - 5s 4ms/step - loss: 133269.8281 - mae: 111.1512 - val_loss: 620797.5000 - val_mae: 222.7451\n",
      "Epoch 37/500\n",
      "1112/1112 [==============================] - 5s 4ms/step - loss: 123128.0859 - mae: 111.8888 - val_loss: 80665.9375 - val_mae: 93.5505\n",
      "Epoch 38/500\n",
      "1112/1112 [==============================] - 5s 4ms/step - loss: 126970.7266 - mae: 110.3861 - val_loss: 93893.3125 - val_mae: 98.7488\n",
      "Epoch 39/500\n",
      "1112/1112 [==============================] - 5s 4ms/step - loss: 188012.8125 - mae: 127.7450 - val_loss: 76860.4844 - val_mae: 83.0841\n",
      "Epoch 40/500\n",
      "1112/1112 [==============================] - 5s 4ms/step - loss: 108368.8984 - mae: 102.1148 - val_loss: 1327917.8750 - val_mae: 362.5209\n",
      "Epoch 41/500\n",
      "1112/1112 [==============================] - 5s 4ms/step - loss: 129838.1797 - mae: 109.8251 - val_loss: 375789.0312 - val_mae: 178.8083\n",
      "Epoch 42/500\n",
      "1112/1112 [==============================] - 5s 4ms/step - loss: 158259.4219 - mae: 121.6823 - val_loss: 264175.4688 - val_mae: 155.7341\n",
      "Epoch 43/500\n",
      "1112/1112 [==============================] - 5s 4ms/step - loss: 116419.2812 - mae: 104.3971 - val_loss: 67743.4688 - val_mae: 84.5169\n",
      "Epoch 44/500\n",
      "1112/1112 [==============================] - 5s 4ms/step - loss: 143696.8594 - mae: 110.2828 - val_loss: 136177.2500 - val_mae: 118.2065\n",
      "Epoch 45/500\n",
      "1112/1112 [==============================] - 6s 5ms/step - loss: 103557.3516 - mae: 100.1651 - val_loss: 59992.3906 - val_mae: 77.9708\n",
      "Epoch 46/500\n",
      "1112/1112 [==============================] - 5s 4ms/step - loss: 105659.5078 - mae: 101.5491 - val_loss: 55068.5000 - val_mae: 72.8997\n",
      "Epoch 47/500\n",
      "1112/1112 [==============================] - 5s 4ms/step - loss: 143741.9688 - mae: 113.4482 - val_loss: 59589.7188 - val_mae: 79.8146\n",
      "Epoch 48/500\n",
      "1112/1112 [==============================] - 5s 4ms/step - loss: 141139.7969 - mae: 107.7579 - val_loss: 70974.6094 - val_mae: 79.5875\n",
      "Epoch 49/500\n",
      "1112/1112 [==============================] - 5s 4ms/step - loss: 132271.1094 - mae: 105.0266 - val_loss: 355740.8125 - val_mae: 193.2425\n",
      "Epoch 50/500\n",
      "1112/1112 [==============================] - 5s 4ms/step - loss: 116791.5391 - mae: 104.9200 - val_loss: 89243.1250 - val_mae: 89.7855\n",
      "Epoch 51/500\n",
      "1112/1112 [==============================] - 5s 4ms/step - loss: 117523.6406 - mae: 103.0378 - val_loss: 100277.9766 - val_mae: 94.5828\n",
      "Epoch 52/500\n",
      "1112/1112 [==============================] - 5s 4ms/step - loss: 118669.2109 - mae: 104.6373 - val_loss: 73583.2422 - val_mae: 82.8291\n",
      "Epoch 53/500\n",
      "1112/1112 [==============================] - 5s 4ms/step - loss: 137787.9531 - mae: 109.7531 - val_loss: 109754.6172 - val_mae: 89.4243\n",
      "Epoch 54/500\n",
      "1112/1112 [==============================] - 5s 4ms/step - loss: 116717.0938 - mae: 103.0084 - val_loss: 77256.9531 - val_mae: 101.8775\n",
      "Epoch 55/500\n",
      "1112/1112 [==============================] - 6s 6ms/step - loss: 100670.0859 - mae: 98.9523 - val_loss: 178903.9062 - val_mae: 129.6114\n",
      "Epoch 56/500\n",
      "1112/1112 [==============================] - 5s 4ms/step - loss: 132347.3281 - mae: 110.1503 - val_loss: 69137.1484 - val_mae: 72.6759\n",
      "Epoch 57/500\n",
      "1112/1112 [==============================] - 5s 4ms/step - loss: 126145.6172 - mae: 106.5561 - val_loss: 85660.6875 - val_mae: 95.5790\n",
      "Epoch 58/500\n",
      "1112/1112 [==============================] - 5s 4ms/step - loss: 100232.6328 - mae: 98.4368 - val_loss: 82704.5781 - val_mae: 90.5760\n",
      "Epoch 59/500\n",
      "1112/1112 [==============================] - 5s 4ms/step - loss: 102241.0625 - mae: 98.7785 - val_loss: 67659.8047 - val_mae: 83.7174\n",
      "Epoch 60/500\n",
      "1112/1112 [==============================] - 5s 4ms/step - loss: 123042.4453 - mae: 106.8544 - val_loss: 271821.2188 - val_mae: 148.9539\n",
      "Epoch 61/500\n",
      "1112/1112 [==============================] - 5s 4ms/step - loss: 126575.7969 - mae: 105.2708 - val_loss: 149478.5156 - val_mae: 114.7331\n",
      "Epoch 62/500\n",
      "1112/1112 [==============================] - 5s 4ms/step - loss: 157804.9531 - mae: 113.4453 - val_loss: 88908.5156 - val_mae: 85.9138\n",
      "Epoch 63/500\n",
      "1112/1112 [==============================] - 7s 6ms/step - loss: 120426.1094 - mae: 104.5958 - val_loss: 442065.8438 - val_mae: 196.6758\n",
      "Epoch 64/500\n",
      "1112/1112 [==============================] - 5s 4ms/step - loss: 99674.0859 - mae: 98.0074 - val_loss: 63779.7383 - val_mae: 84.0500\n",
      "Epoch 65/500\n",
      "1112/1112 [==============================] - 5s 4ms/step - loss: 121964.3672 - mae: 102.0062 - val_loss: 87812.7500 - val_mae: 85.8290\n",
      "Epoch 66/500\n",
      "1112/1112 [==============================] - 5s 4ms/step - loss: 112060.5859 - mae: 101.3455 - val_loss: 85500.0000 - val_mae: 108.0040\n",
      "Epoch 67/500\n",
      "1112/1112 [==============================] - 6s 6ms/step - loss: 103353.0469 - mae: 97.8920 - val_loss: 277653.4688 - val_mae: 128.9364\n",
      "Epoch 68/500\n",
      "1112/1112 [==============================] - 5s 5ms/step - loss: 128833.2344 - mae: 106.6000 - val_loss: 84304.2500 - val_mae: 96.7801\n",
      "Epoch 69/500\n",
      "1112/1112 [==============================] - 5s 4ms/step - loss: 117646.3828 - mae: 101.2792 - val_loss: 58511.4766 - val_mae: 75.4672\n",
      "Epoch 70/500\n",
      "1112/1112 [==============================] - 6s 5ms/step - loss: 106958.8672 - mae: 100.3020 - val_loss: 102092.1562 - val_mae: 84.9827\n",
      "Epoch 71/500\n",
      "1112/1112 [==============================] - 5s 5ms/step - loss: 113428.4141 - mae: 102.5037 - val_loss: 91096.2344 - val_mae: 84.1777\n",
      "Epoch 72/500\n",
      "1112/1112 [==============================] - 5s 5ms/step - loss: 139769.7188 - mae: 106.8507 - val_loss: 103413.0312 - val_mae: 109.4608\n",
      "Epoch 73/500\n",
      "1112/1112 [==============================] - 5s 4ms/step - loss: 93539.3281 - mae: 92.5176 - val_loss: 63525.7383 - val_mae: 88.7951\n",
      "Epoch 74/500\n",
      "1112/1112 [==============================] - 5s 4ms/step - loss: 112781.1406 - mae: 101.5030 - val_loss: 109214.8359 - val_mae: 103.6047\n",
      "Epoch 75/500\n",
      "1112/1112 [==============================] - 5s 4ms/step - loss: 110587.9844 - mae: 99.3831 - val_loss: 170081.1562 - val_mae: 132.9302\n",
      "Epoch 76/500\n",
      "1112/1112 [==============================] - 6s 5ms/step - loss: 98005.0625 - mae: 95.9988 - val_loss: 101034.5312 - val_mae: 105.2583\n",
      "Epoch 77/500\n",
      "1112/1112 [==============================] - 5s 5ms/step - loss: 101340.1094 - mae: 97.2871 - val_loss: 166060.6875 - val_mae: 134.3568\n",
      "Epoch 78/500\n",
      "1112/1112 [==============================] - 5s 4ms/step - loss: 116978.7578 - mae: 102.5581 - val_loss: 131638.6875 - val_mae: 99.8213\n",
      "Epoch 79/500\n",
      "1112/1112 [==============================] - 5s 4ms/step - loss: 146995.9062 - mae: 111.2680 - val_loss: 120177.6797 - val_mae: 93.6590\n",
      "Epoch 80/500\n",
      "1112/1112 [==============================] - 5s 5ms/step - loss: 103759.5625 - mae: 96.3899 - val_loss: 81801.3047 - val_mae: 91.9793\n",
      "Epoch 81/500\n",
      "1112/1112 [==============================] - 6s 5ms/step - loss: 110957.8672 - mae: 101.3961 - val_loss: 433147.4062 - val_mae: 231.2823\n",
      "Epoch 82/500\n",
      "1112/1112 [==============================] - 5s 4ms/step - loss: 103447.9844 - mae: 96.0293 - val_loss: 78391.8594 - val_mae: 76.1956\n",
      "Epoch 83/500\n",
      "1112/1112 [==============================] - 5s 4ms/step - loss: 99664.4297 - mae: 93.5754 - val_loss: 65530.5859 - val_mae: 81.5891\n",
      "Epoch 84/500\n",
      "1112/1112 [==============================] - 5s 4ms/step - loss: 127037.8047 - mae: 104.7160 - val_loss: 90378.7422 - val_mae: 91.5964\n",
      "Epoch 85/500\n",
      "1112/1112 [==============================] - 5s 4ms/step - loss: 119127.5312 - mae: 101.1638 - val_loss: 115042.5703 - val_mae: 119.6113\n",
      "Epoch 86/500\n",
      "1112/1112 [==============================] - 5s 4ms/step - loss: 95325.2812 - mae: 92.3468 - val_loss: 103711.6094 - val_mae: 116.8169\n",
      "Epoch 87/500\n",
      "1112/1112 [==============================] - 5s 4ms/step - loss: 102046.7188 - mae: 95.8724 - val_loss: 98679.8125 - val_mae: 86.7876\n",
      "Epoch 88/500\n",
      "1112/1112 [==============================] - 5s 4ms/step - loss: 94896.3125 - mae: 94.6599 - val_loss: 80752.6719 - val_mae: 88.8534\n",
      "Epoch 89/500\n",
      "1112/1112 [==============================] - 5s 5ms/step - loss: 128072.4766 - mae: 102.2721 - val_loss: 89316.9219 - val_mae: 92.3581\n",
      "Epoch 90/500\n",
      "1112/1112 [==============================] - 7s 6ms/step - loss: 109072.9844 - mae: 96.5918 - val_loss: 160240.5000 - val_mae: 140.0569\n",
      "Epoch 91/500\n",
      "1112/1112 [==============================] - 6s 6ms/step - loss: 82251.9141 - mae: 88.3463 - val_loss: 58035.9336 - val_mae: 72.2394\n",
      "Epoch 92/500\n",
      "1112/1112 [==============================] - 7s 6ms/step - loss: 104693.8125 - mae: 95.8996 - val_loss: 83551.1641 - val_mae: 86.1126\n",
      "Epoch 93/500\n",
      "1112/1112 [==============================] - 5s 4ms/step - loss: 92036.8047 - mae: 91.1075 - val_loss: 131779.4219 - val_mae: 114.9866\n",
      "Epoch 94/500\n",
      "1112/1112 [==============================] - 5s 4ms/step - loss: 92051.5391 - mae: 89.5319 - val_loss: 68497.4844 - val_mae: 75.5475\n",
      "Epoch 95/500\n",
      "1112/1112 [==============================] - 5s 5ms/step - loss: 111210.1641 - mae: 97.7170 - val_loss: 60919.9180 - val_mae: 79.6451\n",
      "Epoch 96/500\n",
      "1112/1112 [==============================] - 5s 5ms/step - loss: 105941.9141 - mae: 95.4241 - val_loss: 475998.0312 - val_mae: 178.1396\n"
     ]
    }
   ],
   "source": [
    "history = ann.fit(X_train, y_train,\n",
    "                    validation_data = (X_val, y_val),\n",
    "                    callbacks=[es],\n",
    "                    epochs=500,\n",
    "                    batch_size=30,\n",
    "                    verbose=1)"
   ]
  },
  {
   "cell_type": "code",
   "execution_count": 41,
   "metadata": {
    "ExecuteTime": {
     "end_time": "2024-08-21T02:04:26.687650500Z",
     "start_time": "2024-08-21T02:04:26.143536100Z"
    }
   },
   "outputs": [
    {
     "data": {
      "text/plain": "<Figure size 600x600 with 1 Axes>",
      "image/png": "[encoded data removed]"
     },
     "metadata": {},
     "output_type": "display_data"
    }
   ],
   "source": [
    "# let's see the training and validation accuracy by epoch\n",
    "history_dict = history.history\n",
    "loss_values = history_dict['loss'] # you can change this\n",
    "val_loss_values = history_dict['val_loss'] # you can also change this\n",
    "epochs = range(1, len(loss_values) + 1) # range of X (no. of epochs)\n",
    "\n",
    "# Set global font to Times New Roman and font size\n",
    "plt.rcParams['font.family'] = 'serif'\n",
    "plt.rcParams['font.serif'] = ['Times New Roman']\n",
    "plt.rcParams['font.size'] = 20\n",
    "\n",
    "# Create a plot\n",
    "plt.figure(figsize=(6, 6))\n",
    "plt.plot(epochs, loss_values, 'blue', label='Train set')\n",
    "plt.plot(epochs, val_loss_values, 'orange', label='Validation set')\n",
    "#plt.title('Training and testing loss')\n",
    "\n",
    "\n",
    "plt.xlabel('Epochs')\n",
    "plt.ylabel('Loss (MSE)')\n",
    "plt.legend()\n",
    "plt.savefig('Section1_ANN1_2.png', dpi=200, bbox_inches='tight')\n",
    "plt.show()"
   ]
  },
  {
   "cell_type": "code",
   "execution_count": 42,
   "metadata": {
    "ExecuteTime": {
     "end_time": "2024-08-21T02:04:30.724791800Z",
     "start_time": "2024-08-21T02:04:30.189604800Z"
    }
   },
   "outputs": [
    {
     "data": {
      "text/plain": "<Figure size 600x600 with 1 Axes>",
      "image/png": "[encoded data removed]"
     },
     "metadata": {},
     "output_type": "display_data"
    }
   ],
   "source": [
    "loss_values1 = history_dict['mae'] # you can change this\n",
    "val_loss_values1 = history_dict['val_mae'] # you can also change this\n",
    "epochs = range(1, len(loss_values1) + 1) # range of X (no. of epochs)\n",
    "# Create a plot\n",
    "plt.figure(figsize=(6, 6))\n",
    "plt.plot(epochs, loss_values1, 'blue', label='Train set')\n",
    "plt.plot(epochs, val_loss_values1, 'orange', label='Validation set')\n",
    "#plt.title('Training and testing MAE')\n",
    "plt.xlabel('Epochs')\n",
    "plt.ylabel('MAE (kPa)')\n",
    "plt.legend()\n",
    "plt.savefig('Section1_ANN1_3.png', dpi=200, bbox_inches='tight')\n",
    "plt.show()"
   ]
  },
  {
   "cell_type": "code",
   "execution_count": 24,
   "metadata": {
    "ExecuteTime": {
     "end_time": "2024-08-21T01:58:59.573875900Z",
     "start_time": "2024-08-21T01:58:57.805995700Z"
    }
   },
   "outputs": [
    {
     "name": "stdout",
     "output_type": "stream",
     "text": [
      "INFO:tensorflow:Assets written to: Section1_new3_ANN_1\\assets\n"
     ]
    }
   ],
   "source": [
    "ann.save('Section1_new3_ANN_1')\n",
    "import pickle\n",
    "pickle.dump(sc, open('Section1_new3_scaler_ANN_1.pkl', 'wb'))"
   ]
  },
  {
   "cell_type": "markdown",
   "metadata": {},
   "source": [
    "## Part 5 - Make predictions"
   ]
  },
  {
   "cell_type": "code",
   "execution_count": 25,
   "metadata": {
    "ExecuteTime": {
     "end_time": "2024-08-21T01:59:05.440514400Z",
     "start_time": "2024-08-21T01:58:59.578869500Z"
    }
   },
   "outputs": [
    {
     "name": "stdout",
     "output_type": "stream",
     "text": [
      "1042/1042 [==============================] - 3s 2ms/step\n",
      "348/348 [==============================] - 1s 2ms/step\n"
     ]
    },
    {
     "data": {
      "text/plain": "<Figure size 640x480 with 2 Axes>",
      "image/png": "[encoded data removed]"
     },
     "metadata": {},
     "output_type": "display_data"
    }
   ],
   "source": [
    "# scatterplot of actual vs. pred\n",
    "# specify the dimensions \n",
    "fig, axes = plt.subplots(1,2) # 1 row, 2 columns\n",
    "\n",
    "# this makes the individual subplots\n",
    "# Training Results\n",
    "axes[0].scatter(x=y_train, y=ann.predict(X_train)) #first row, first entry (left top)\n",
    "axes[0].set_xlabel(\"Actual\", fontsize=20)\n",
    "axes[0].set_ylabel(\"Predicted\",  fontsize=20)\n",
    "axes[0].set_title(\"Training\")\n",
    "# add 45 deg line\n",
    "x = np.linspace(*axes[0].get_xlim())\n",
    "axes[0].plot(x, x, color='red')\n",
    "# Validation Results\n",
    "axes[1].scatter(x=y_val, y=ann.predict(X_val)) # first row, second entry (right top)\n",
    "axes[1].set_xlabel(\"Actual\", fontsize=20)\n",
    "axes[1].set_ylabel(\"Predicted\",  fontsize=20)\n",
    "axes[1].set_title(\"Validation\")\n",
    "# add 45 deg line\n",
    "x = np.linspace(*axes[1].get_xlim())\n",
    "axes[1].plot(x, x, color='red')\n",
    "\n",
    "# tight layout\n",
    "fig.tight_layout()\n",
    "\n",
    "plt.savefig('Section1_ANN1_1.png', dpi=200, bbox_inches='tight')\n",
    "# show the plot\n",
    "plt.show()"
   ]
  },
  {
   "cell_type": "code",
   "execution_count": 26,
   "metadata": {
    "colab": {
     "base_uri": "https://localhost:8080/",
     "height": 134
    },
    "colab_type": "code",
    "id": "IA0yApEmBG1X",
    "outputId": "cb981e1f-9204-4a2a-fece-9d66a6919189",
    "ExecuteTime": {
     "end_time": "2024-08-21T01:59:07.241132Z",
     "start_time": "2024-08-21T01:59:05.439515300Z"
    }
   },
   "outputs": [
    {
     "name": "stdout",
     "output_type": "stream",
     "text": [
      "348/348 [==============================] - 2s 4ms/step\n",
      "[[ 8.11e+03  8.65e+03]\n",
      " [ 9.96e+01  1.84e+02]\n",
      " [ 4.94e+02  5.02e+02]\n",
      " ...\n",
      " [-1.27e+01  4.37e+00]\n",
      " [-5.18e+01 -6.46e+01]\n",
      " [ 9.31e+01  7.16e+01]]\n"
     ]
    }
   ],
   "source": [
    "y_pred = ann.predict(X_test)\n",
    "np.set_printoptions(precision=2)\n",
    "print(np.concatenate((y_pred.reshape(len(y_pred),1), y_test.reshape(len(y_test),1)),1))"
   ]
  },
  {
   "cell_type": "code",
   "execution_count": 27,
   "metadata": {
    "ExecuteTime": {
     "end_time": "2024-08-21T01:59:07.480385Z",
     "start_time": "2024-08-21T01:59:07.261662200Z"
    }
   },
   "outputs": [
    {
     "data": {
      "text/plain": "Text(0, 0.5, 'Predicted data')"
     },
     "execution_count": 27,
     "metadata": {},
     "output_type": "execute_result"
    },
    {
     "data": {
      "text/plain": "<Figure size 640x480 with 1 Axes>",
      "image/png": "[encoded data removed]"
     },
     "metadata": {},
     "output_type": "display_data"
    }
   ],
   "source": [
    "import matplotlib.pyplot as plt\n",
    "plt.scatter(y_test, y_pred, color=\"blue\")\n",
    "plt.xlabel ('Actual data')\n",
    "plt.ylabel ('Predicted data')"
   ]
  },
  {
   "cell_type": "code",
   "execution_count": 43,
   "metadata": {
    "ExecuteTime": {
     "end_time": "2024-08-21T02:14:28.320654200Z",
     "start_time": "2024-08-21T02:14:27.178560900Z"
    }
   },
   "outputs": [
    {
     "data": {
      "text/plain": "<Figure size 600x600 with 1 Axes>",
      "image/png": "[encoded data removed]"
     },
     "metadata": {},
     "output_type": "display_data"
    }
   ],
   "source": [
    "from sklearn.metrics import r2_score\n",
    "# Initialize layout\n",
    "fig1, ax1 = plt.subplots(figsize = (6, 6))\n",
    "\n",
    "# Set global font to Times New Roman and font size\n",
    "plt.rcParams['font.family'] = 'serif'\n",
    "plt.rcParams['font.serif'] = ['Times New Roman']\n",
    "plt.rcParams['font.size'] = 20\n",
    "\n",
    "b_l = -1000\n",
    "u_l = 25000\n",
    "\n",
    "# Add scatterplot\n",
    "ax1.scatter(y_test, y_pred, s=70, alpha=1, edgecolors=\"k\",c='mediumblue',zorder=5, label = 'Points')\n",
    "\n",
    "\n",
    "plt.ylabel('Predicted Reflected Overpressure (kPa)')\n",
    "plt.xlabel('Target Reflected Overpressure (kPa)')\n",
    "plt.xticks(fontsize = 19)\n",
    "plt.yticks(fontsize = 19)\n",
    "\n",
    "\n",
    "x1 = np.linspace(b_l, u_l)\n",
    "\n",
    "plt.plot(x1, x1, 'Red', label='45\\N{DEGREE SIGN} line',lw=2.5,alpha=1)\n",
    "#plt.plot(x1, 1.05*x1, '--m', label='\\u00B15% Error',lw=2.5,alpha=0.7)\n",
    "#plt.plot(x1, 0.95*x1,'m', linestyle='--',lw=2.5,alpha=0.7)\n",
    "#plt.plot(x1, 1.1*x1, '-.g', label='\\u00B110% Error',lw=2.5,alpha=0.7)\n",
    "#plt.plot(x1, 0.9*x1,'-.g',lw=2.5,alpha=0.7)\n",
    "#plt.plot(x1, 1.2*x1, color = '#F97306', linestyle='dotted', label='\\u00B120% Error',lw=2.5,alpha=0.7)\n",
    "#plt.plot(x1, 0.8*x1,color = '#F97306', linestyle='dotted', lw=2.5,alpha=0.7)\n",
    "\n",
    "plt.ylim(b_l, u_l)\n",
    "plt.xlim(b_l, u_l)\n",
    "plt.legend(loc='upper center', bbox_to_anchor=(0.5, -0.15), ncol=4, frameon = False, fontsize = 20)\n",
    "\n",
    "#plt.grid()\n",
    "\n",
    "ax1.spines['left'].set_color('black')        # setting up Y-axis tick color to red\n",
    "ax1.spines['bottom'].set_color('black')         #setting up above X-axis tick color to red\n",
    "\n",
    "plt.savefig('Section1_ANN1.png', dpi=200, bbox_inches='tight')"
   ]
  },
  {
   "cell_type": "code",
   "execution_count": 29,
   "metadata": {
    "ExecuteTime": {
     "end_time": "2024-08-21T01:59:11.520811800Z",
     "start_time": "2024-08-21T01:59:08.231189Z"
    }
   },
   "outputs": [
    {
     "name": "stdout",
     "output_type": "stream",
     "text": [
      "1042/1042 [==============================] - 3s 3ms/step\n",
      "72.70024911286556\n",
      "68.47989689597667\n"
     ]
    }
   ],
   "source": [
    "# metrics\n",
    "trainpreds = ann.predict(X_train)\n",
    "\n",
    "from sklearn.metrics import mean_absolute_error\n",
    "print(mean_absolute_error(y_train, trainpreds)) # train\n",
    "print(mean_absolute_error(y_test, y_pred)) # test"
   ]
  },
  {
   "cell_type": "code",
   "execution_count": 30,
   "metadata": {
    "ExecuteTime": {
     "end_time": "2024-08-21T01:59:11.542379Z",
     "start_time": "2024-08-21T01:59:11.523823400Z"
    }
   },
   "outputs": [
    {
     "name": "stdout",
     "output_type": "stream",
     "text": [
      "0.9873557383922167\n"
     ]
    }
   ],
   "source": [
    "from sklearn.metrics import r2_score\n",
    "r2 = r2_score(y_test, y_pred)\n",
    "print (r2)"
   ]
  },
  {
   "cell_type": "code",
   "execution_count": 31,
   "metadata": {
    "ExecuteTime": {
     "end_time": "2024-08-21T01:59:11.707089400Z",
     "start_time": "2024-08-21T01:59:11.537354700Z"
    }
   },
   "outputs": [
    {
     "name": "stdout",
     "output_type": "stream",
     "text": [
      "0.9875983249244772\n"
     ]
    }
   ],
   "source": [
    "r2_train = r2_score(y_train, trainpreds)\n",
    "print (r2_train)"
   ]
  },
  {
   "cell_type": "code",
   "execution_count": 32,
   "metadata": {
    "ExecuteTime": {
     "end_time": "2024-08-21T01:59:12.686336200Z",
     "start_time": "2024-08-21T01:59:11.708097700Z"
    }
   },
   "outputs": [
    {
     "name": "stdout",
     "output_type": "stream",
     "text": [
      "Within 5% margin 14.47%\n",
      "Within 10% margin 25.36%\n",
      "Within 20% margin 39.00%\n",
      "Out of 20% margin 61.00%\n"
     ]
    }
   ],
   "source": [
    "count0 = 0\n",
    "for i in range(len(y_pred)):\n",
    "    line1 = y_pred[i] - 0.95*y_test[i]\n",
    "    line2 = y_pred[i] - 1.05*y_test[i]\n",
    "    mask0 = (line1 > 0) & (line2 < 0)\n",
    "    count0 = np.sum(mask0+count0)\n",
    "\n",
    "count1 = 0\n",
    "for i in range(len(y_pred)):\n",
    "    line1 = y_pred[i] - 0.9*y_test[i]\n",
    "    line2 = y_pred[i] - 1.1*y_test[i]\n",
    "    mask1 = (line1 > 0) & (line2 < 0)\n",
    "    count1 = np.sum(mask1+count1)\n",
    "\n",
    "count2 = 0\n",
    "for j in range(len(y_pred)):\n",
    "    line3 = y_pred[j] - 0.8*y_test[j]\n",
    "    line4 = y_pred[j] - 1.2*y_test[j]\n",
    "    mask2 = (line3 > 0) & (line4 < 0)\n",
    "    count2 = np.sum(mask2+count2)\n",
    "\n",
    "\n",
    "count3 = 0    \n",
    "for k in range(len(y_pred)):\n",
    "    line5 = y_pred[k] - 0.8*y_test[k]\n",
    "    line6 = y_pred[k] - 1.2*y_test[k]\n",
    "    mask3 = (line5 < 0) or (line6 > 0)\n",
    "    count3 = np.sum(mask3+count3)\n",
    "   \n",
    "\n",
    "print ('Within 5% margin', format((count0/len (y_pred)),'.2%'))\n",
    "print ('Within 10% margin', format((count1/len (y_pred)),'.2%'))\n",
    "print ('Within 20% margin', format((count2/len (y_pred)),'.2%'))\n",
    "print ('Out of 20% margin', format((count3/len (y_pred)),'.2%'))"
   ]
  },
  {
   "cell_type": "code",
   "execution_count": 33,
   "metadata": {
    "ExecuteTime": {
     "end_time": "2024-08-21T01:59:12.700352Z",
     "start_time": "2024-08-21T01:59:12.680328400Z"
    }
   },
   "outputs": [
    {
     "name": "stdout",
     "output_type": "stream",
     "text": [
      "0.9873489067335363\n"
     ]
    }
   ],
   "source": [
    "adj_r2 = 1 - ((1 - r2) * (len(X_test) - 1) / (len(X_test) - len (X_test[0]) - 1))\n",
    "print (adj_r2)"
   ]
  },
  {
   "cell_type": "code",
   "execution_count": 34,
   "metadata": {
    "ExecuteTime": {
     "end_time": "2024-08-21T01:59:12.866010900Z",
     "start_time": "2024-08-21T01:59:12.696340500Z"
    }
   },
   "outputs": [
    {
     "data": {
      "text/plain": "214.64803250637235"
     },
     "execution_count": 34,
     "metadata": {},
     "output_type": "execute_result"
    }
   ],
   "source": [
    "import math\n",
    "from sklearn.metrics import mean_squared_error\n",
    "\n",
    "math.sqrt(mean_squared_error(y_test, y_pred))"
   ]
  },
  {
   "cell_type": "code",
   "execution_count": 35,
   "metadata": {
    "ExecuteTime": {
     "end_time": "2024-08-21T01:59:13.044221100Z",
     "start_time": "2024-08-21T01:59:12.861996200Z"
    }
   },
   "outputs": [
    {
     "data": {
      "text/plain": "68.47989689597667"
     },
     "execution_count": 35,
     "metadata": {},
     "output_type": "execute_result"
    }
   ],
   "source": [
    "from sklearn.metrics import mean_absolute_error\n",
    "\n",
    "mean_absolute_error(y_test, y_pred)"
   ]
  }
 ],
 "metadata": {
  "colab": {
   "collapsed_sections": [],
   "name": "Artificial Neural Network",
   "provenance": [],
   "toc_visible": true
  },
  "kernelspec": {
   "display_name": "Python 3 (ipykernel)",
   "language": "python",
   "name": "python3"
  },
  "language_info": {
   "codemirror_mode": {
    "name": "ipython",
    "version": 3
   },
   "file_extension": ".py",
   "mimetype": "text/x-python",
   "name": "python",
   "nbconvert_exporter": "python",
   "pygments_lexer": "ipython3",
   "version": "3.9.7"
  }
 },
 "nbformat": 4,
 "nbformat_minor": 4
}
