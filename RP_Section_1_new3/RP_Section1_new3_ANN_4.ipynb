{
 "cells": [
  {
   "cell_type": "markdown",
   "metadata": {
    "colab_type": "text",
    "id": "3cbb7fRy-eyr"
   },
   "source": [
    "# Artificial Neural Network"
   ]
  },
  {
   "cell_type": "markdown",
   "source": [
    "## Part 1 - Importing the libraries"
   ],
   "metadata": {
    "collapsed": false
   }
  },
  {
   "cell_type": "code",
   "execution_count": 1,
   "metadata": {
    "colab": {},
    "colab_type": "code",
    "id": "lxChR1Rk-umf",
    "ExecuteTime": {
     "end_time": "2024-08-21T03:42:54.484777800Z",
     "start_time": "2024-08-21T03:42:48.494786100Z"
    }
   },
   "outputs": [],
   "source": [
    "import numpy as np\n",
    "import pandas as pd\n",
    "import tensorflow as tf\n",
    "import matplotlib.pyplot as plt\n",
    "from keras.models import load_model\n",
    "from pathlib import Path\n",
    "import pickle"
   ]
  },
  {
   "cell_type": "markdown",
   "metadata": {
    "colab_type": "text",
    "id": "AG3FQEch-yuA"
   },
   "source": [
    "## Part 2 - Data Preprocessing"
   ]
  },
  {
   "cell_type": "code",
   "execution_count": 2,
   "metadata": {
    "ExecuteTime": {
     "end_time": "2024-08-21T03:42:54.505849900Z",
     "start_time": "2024-08-21T03:42:54.487779600Z"
    }
   },
   "outputs": [
    {
     "name": "stdout",
     "output_type": "stream",
     "text": [
      "input G:\\Chamodi\\LSDYNA3D\\RP_TH_models\\RP_Section_1_new3\n",
      "2 [WindowsPath('G:/Chamodi/LSDYNA3D/RP_TH_models/RP_Section_1_new3/1.50m'), WindowsPath('G:/Chamodi/LSDYNA3D/RP_TH_models/RP_Section_1_new3/1.75m'), WindowsPath('G:/Chamodi/LSDYNA3D/RP_TH_models/RP_Section_1_new3/2.00m'), WindowsPath('G:/Chamodi/LSDYNA3D/RP_TH_models/RP_Section_1_new3/2.25m'), WindowsPath('G:/Chamodi/LSDYNA3D/RP_TH_models/RP_Section_1_new3/2.50m'), WindowsPath('G:/Chamodi/LSDYNA3D/RP_TH_models/RP_Section_1_new3/2.75m'), WindowsPath('G:/Chamodi/LSDYNA3D/RP_TH_models/RP_Section_1_new3/3.00m')]\n"
     ]
    }
   ],
   "source": [
    "#Access input folder\n",
    "current_dir = Path.cwd()\n",
    "input_dir1 = Path (\"G:/Chamodi/LSDYNA3D/RP_TH_models/RP_Section_1_new3\")\n",
    "print (\"input\",input_dir1)\n",
    "\n",
    "#Access folders inside input folder\n",
    "input_dir2=  [folder1 for folder1 in input_dir1.iterdir() if folder1.is_dir()] # folder1 - RP_curves_fr7m\n",
    "print (\"2\",input_dir2)"
   ]
  },
  {
   "cell_type": "code",
   "execution_count": 3,
   "metadata": {
    "ExecuteTime": {
     "end_time": "2024-08-21T03:43:07.171456600Z",
     "start_time": "2024-08-21T03:42:54.502792800Z"
    }
   },
   "outputs": [
    {
     "name": "stdout",
     "output_type": "stream",
     "text": [
      "folder G:\\Chamodi\\LSDYNA3D\\RP_TH_models\\RP_Section_1_new3\\1.50m\\1.50m00.5kg\n",
      "1\n",
      "2\n",
      "3\n",
      "4\n",
      "folder G:\\Chamodi\\LSDYNA3D\\RP_TH_models\\RP_Section_1_new3\\1.50m\\1.50m02.5kg\n",
      "1\n",
      "2\n",
      "3\n",
      "4\n",
      "folder G:\\Chamodi\\LSDYNA3D\\RP_TH_models\\RP_Section_1_new3\\1.50m\\1.50m04.5kg\n",
      "1\n",
      "2\n",
      "3\n",
      "4\n",
      "folder G:\\Chamodi\\LSDYNA3D\\RP_TH_models\\RP_Section_1_new3\\1.50m\\1.50m06.5kg\n",
      "1\n",
      "2\n",
      "3\n",
      "4\n",
      "folder G:\\Chamodi\\LSDYNA3D\\RP_TH_models\\RP_Section_1_new3\\1.50m\\1.50m08.5kg\n",
      "1\n",
      "2\n",
      "3\n",
      "4\n",
      "folder G:\\Chamodi\\LSDYNA3D\\RP_TH_models\\RP_Section_1_new3\\1.50m\\1.50m10.5kg\n",
      "1\n",
      "2\n",
      "3\n",
      "4\n",
      "folder G:\\Chamodi\\LSDYNA3D\\RP_TH_models\\RP_Section_1_new3\\1.50m\\1.50m12.5kg\n",
      "1\n",
      "2\n",
      "3\n",
      "4\n",
      "folder G:\\Chamodi\\LSDYNA3D\\RP_TH_models\\RP_Section_1_new3\\1.50m\\1.50m14.5kg\n",
      "1\n",
      "2\n",
      "3\n",
      "4\n",
      "folder G:\\Chamodi\\LSDYNA3D\\RP_TH_models\\RP_Section_1_new3\\1.50m\\1.50m16.5kg\n",
      "1\n",
      "2\n",
      "3\n",
      "4\n",
      "folder G:\\Chamodi\\LSDYNA3D\\RP_TH_models\\RP_Section_1_new3\\1.50m\\1.50m18.5kg\n",
      "1\n",
      "2\n",
      "3\n",
      "4\n",
      "folder G:\\Chamodi\\LSDYNA3D\\RP_TH_models\\RP_Section_1_new3\\1.50m\\1.50m20.5kg\n",
      "1\n",
      "2\n",
      "3\n",
      "4\n",
      "folder G:\\Chamodi\\LSDYNA3D\\RP_TH_models\\RP_Section_1_new3\\1.50m\\1.50m22.5kg\n",
      "1\n",
      "2\n",
      "3\n",
      "4\n",
      "folder G:\\Chamodi\\LSDYNA3D\\RP_TH_models\\RP_Section_1_new3\\1.50m\\1.50m24.5kg\n",
      "1\n",
      "2\n",
      "3\n",
      "4\n",
      "folder G:\\Chamodi\\LSDYNA3D\\RP_TH_models\\RP_Section_1_new3\\1.50m\\1.50m26.5kg\n",
      "1\n",
      "2\n",
      "3\n",
      "4\n",
      "folder G:\\Chamodi\\LSDYNA3D\\RP_TH_models\\RP_Section_1_new3\\1.50m\\1.50m28.5kg\n",
      "1\n",
      "2\n",
      "3\n",
      "4\n",
      "folder G:\\Chamodi\\LSDYNA3D\\RP_TH_models\\RP_Section_1_new3\\1.50m\\1.50m30.5kg\n",
      "1\n",
      "2\n",
      "3\n",
      "4\n",
      "folder G:\\Chamodi\\LSDYNA3D\\RP_TH_models\\RP_Section_1_new3\\1.50m\\1.50m32.5kg\n",
      "1\n",
      "2\n",
      "3\n",
      "4\n",
      "folder G:\\Chamodi\\LSDYNA3D\\RP_TH_models\\RP_Section_1_new3\\1.50m\\1.50m34.5kg\n",
      "1\n",
      "2\n",
      "3\n",
      "4\n",
      "folder G:\\Chamodi\\LSDYNA3D\\RP_TH_models\\RP_Section_1_new3\\1.50m\\1.50m35.0kg\n",
      "1\n",
      "2\n",
      "3\n",
      "4\n",
      "folder G:\\Chamodi\\LSDYNA3D\\RP_TH_models\\RP_Section_1_new3\\1.75m\\1.75m00.5kg\n",
      "1\n",
      "2\n",
      "3\n",
      "4\n",
      "folder G:\\Chamodi\\LSDYNA3D\\RP_TH_models\\RP_Section_1_new3\\1.75m\\1.75m02.5kg\n",
      "1\n",
      "2\n",
      "3\n",
      "4\n",
      "folder G:\\Chamodi\\LSDYNA3D\\RP_TH_models\\RP_Section_1_new3\\1.75m\\1.75m04.5kg\n",
      "1\n",
      "2\n",
      "3\n",
      "4\n",
      "folder G:\\Chamodi\\LSDYNA3D\\RP_TH_models\\RP_Section_1_new3\\1.75m\\1.75m06.5kg\n",
      "1\n",
      "2\n",
      "3\n",
      "4\n",
      "folder G:\\Chamodi\\LSDYNA3D\\RP_TH_models\\RP_Section_1_new3\\1.75m\\1.75m08.5kg\n",
      "1\n",
      "2\n",
      "3\n",
      "4\n",
      "folder G:\\Chamodi\\LSDYNA3D\\RP_TH_models\\RP_Section_1_new3\\1.75m\\1.75m10.5kg\n",
      "1\n",
      "2\n",
      "3\n",
      "4\n",
      "folder G:\\Chamodi\\LSDYNA3D\\RP_TH_models\\RP_Section_1_new3\\1.75m\\1.75m12.5kg\n",
      "1\n",
      "2\n",
      "3\n",
      "4\n",
      "folder G:\\Chamodi\\LSDYNA3D\\RP_TH_models\\RP_Section_1_new3\\1.75m\\1.75m14.5kg\n",
      "1\n",
      "2\n",
      "3\n",
      "4\n",
      "folder G:\\Chamodi\\LSDYNA3D\\RP_TH_models\\RP_Section_1_new3\\1.75m\\1.75m16.5kg\n",
      "1\n",
      "2\n",
      "3\n",
      "4\n",
      "folder G:\\Chamodi\\LSDYNA3D\\RP_TH_models\\RP_Section_1_new3\\1.75m\\1.75m18.5kg\n",
      "1\n",
      "2\n",
      "3\n",
      "4\n",
      "folder G:\\Chamodi\\LSDYNA3D\\RP_TH_models\\RP_Section_1_new3\\1.75m\\1.75m20.5kg\n",
      "1\n",
      "2\n",
      "3\n",
      "4\n",
      "folder G:\\Chamodi\\LSDYNA3D\\RP_TH_models\\RP_Section_1_new3\\1.75m\\1.75m22.5kg\n",
      "1\n",
      "2\n",
      "3\n",
      "4\n",
      "folder G:\\Chamodi\\LSDYNA3D\\RP_TH_models\\RP_Section_1_new3\\1.75m\\1.75m24.5kg\n",
      "1\n",
      "2\n",
      "3\n",
      "4\n",
      "folder G:\\Chamodi\\LSDYNA3D\\RP_TH_models\\RP_Section_1_new3\\1.75m\\1.75m26.5kg\n",
      "1\n",
      "2\n",
      "3\n",
      "4\n",
      "folder G:\\Chamodi\\LSDYNA3D\\RP_TH_models\\RP_Section_1_new3\\1.75m\\1.75m28.5kg\n",
      "1\n",
      "2\n",
      "3\n",
      "4\n",
      "folder G:\\Chamodi\\LSDYNA3D\\RP_TH_models\\RP_Section_1_new3\\1.75m\\1.75m30.5kg\n",
      "1\n",
      "2\n",
      "3\n",
      "4\n",
      "folder G:\\Chamodi\\LSDYNA3D\\RP_TH_models\\RP_Section_1_new3\\1.75m\\1.75m32.5kg\n",
      "1\n",
      "2\n",
      "3\n",
      "4\n",
      "folder G:\\Chamodi\\LSDYNA3D\\RP_TH_models\\RP_Section_1_new3\\1.75m\\1.75m34.5kg\n",
      "1\n",
      "2\n",
      "3\n",
      "4\n",
      "folder G:\\Chamodi\\LSDYNA3D\\RP_TH_models\\RP_Section_1_new3\\1.75m\\1.75m35.0kg\n",
      "1\n",
      "2\n",
      "3\n",
      "4\n",
      "folder G:\\Chamodi\\LSDYNA3D\\RP_TH_models\\RP_Section_1_new3\\2.00m\\2.00m00.5kg\n",
      "1\n",
      "2\n",
      "3\n",
      "4\n",
      "folder G:\\Chamodi\\LSDYNA3D\\RP_TH_models\\RP_Section_1_new3\\2.00m\\2.00m02.5kg\n",
      "1\n",
      "2\n",
      "3\n",
      "4\n",
      "folder G:\\Chamodi\\LSDYNA3D\\RP_TH_models\\RP_Section_1_new3\\2.00m\\2.00m04.5kg\n",
      "1\n",
      "2\n",
      "3\n",
      "4\n",
      "folder G:\\Chamodi\\LSDYNA3D\\RP_TH_models\\RP_Section_1_new3\\2.00m\\2.00m06.5kg\n",
      "1\n",
      "2\n",
      "3\n",
      "4\n",
      "folder G:\\Chamodi\\LSDYNA3D\\RP_TH_models\\RP_Section_1_new3\\2.00m\\2.00m08.5kg\n",
      "1\n",
      "2\n",
      "3\n",
      "4\n",
      "folder G:\\Chamodi\\LSDYNA3D\\RP_TH_models\\RP_Section_1_new3\\2.00m\\2.00m10.5kg\n",
      "1\n",
      "2\n",
      "3\n",
      "4\n",
      "folder G:\\Chamodi\\LSDYNA3D\\RP_TH_models\\RP_Section_1_new3\\2.00m\\2.00m12.5kg\n",
      "1\n",
      "2\n",
      "3\n",
      "4\n",
      "folder G:\\Chamodi\\LSDYNA3D\\RP_TH_models\\RP_Section_1_new3\\2.00m\\2.00m14.5kg\n",
      "1\n",
      "2\n",
      "3\n",
      "4\n",
      "folder G:\\Chamodi\\LSDYNA3D\\RP_TH_models\\RP_Section_1_new3\\2.00m\\2.00m16.5kg\n",
      "1\n",
      "2\n",
      "3\n",
      "4\n",
      "folder G:\\Chamodi\\LSDYNA3D\\RP_TH_models\\RP_Section_1_new3\\2.00m\\2.00m18.5kg\n",
      "1\n",
      "2\n",
      "3\n",
      "4\n",
      "folder G:\\Chamodi\\LSDYNA3D\\RP_TH_models\\RP_Section_1_new3\\2.00m\\2.00m20.5kg\n",
      "1\n",
      "2\n",
      "3\n",
      "4\n",
      "folder G:\\Chamodi\\LSDYNA3D\\RP_TH_models\\RP_Section_1_new3\\2.00m\\2.00m22.5kg\n",
      "1\n",
      "2\n",
      "3\n",
      "4\n",
      "folder G:\\Chamodi\\LSDYNA3D\\RP_TH_models\\RP_Section_1_new3\\2.00m\\2.00m24.5kg\n",
      "1\n",
      "2\n",
      "3\n",
      "4\n",
      "folder G:\\Chamodi\\LSDYNA3D\\RP_TH_models\\RP_Section_1_new3\\2.00m\\2.00m26.5kg\n",
      "1\n",
      "2\n",
      "3\n",
      "4\n",
      "folder G:\\Chamodi\\LSDYNA3D\\RP_TH_models\\RP_Section_1_new3\\2.00m\\2.00m28.5kg\n",
      "1\n",
      "2\n",
      "3\n",
      "4\n",
      "folder G:\\Chamodi\\LSDYNA3D\\RP_TH_models\\RP_Section_1_new3\\2.00m\\2.00m30.5kg\n",
      "1\n",
      "2\n",
      "3\n",
      "4\n",
      "folder G:\\Chamodi\\LSDYNA3D\\RP_TH_models\\RP_Section_1_new3\\2.00m\\2.00m32.5kg\n",
      "1\n",
      "2\n",
      "3\n",
      "4\n",
      "folder G:\\Chamodi\\LSDYNA3D\\RP_TH_models\\RP_Section_1_new3\\2.00m\\2.00m34.5kg\n",
      "1\n",
      "2\n",
      "3\n",
      "4\n",
      "folder G:\\Chamodi\\LSDYNA3D\\RP_TH_models\\RP_Section_1_new3\\2.00m\\2.00m35.0kg\n",
      "1\n",
      "2\n",
      "3\n",
      "4\n",
      "folder G:\\Chamodi\\LSDYNA3D\\RP_TH_models\\RP_Section_1_new3\\2.25m\\2.25m00.5kg\n",
      "1\n",
      "2\n",
      "3\n",
      "4\n",
      "folder G:\\Chamodi\\LSDYNA3D\\RP_TH_models\\RP_Section_1_new3\\2.25m\\2.25m02.5kg\n",
      "1\n",
      "2\n",
      "3\n",
      "4\n",
      "folder G:\\Chamodi\\LSDYNA3D\\RP_TH_models\\RP_Section_1_new3\\2.25m\\2.25m04.5kg\n",
      "1\n",
      "2\n",
      "3\n",
      "4\n",
      "folder G:\\Chamodi\\LSDYNA3D\\RP_TH_models\\RP_Section_1_new3\\2.25m\\2.25m06.5kg\n",
      "1\n",
      "2\n",
      "3\n",
      "4\n",
      "folder G:\\Chamodi\\LSDYNA3D\\RP_TH_models\\RP_Section_1_new3\\2.25m\\2.25m08.5kg\n",
      "1\n",
      "2\n",
      "3\n",
      "4\n",
      "folder G:\\Chamodi\\LSDYNA3D\\RP_TH_models\\RP_Section_1_new3\\2.25m\\2.25m10.5kg\n",
      "1\n",
      "2\n",
      "3\n",
      "4\n",
      "folder G:\\Chamodi\\LSDYNA3D\\RP_TH_models\\RP_Section_1_new3\\2.25m\\2.25m12.5kg\n",
      "1\n",
      "2\n",
      "3\n",
      "4\n",
      "folder G:\\Chamodi\\LSDYNA3D\\RP_TH_models\\RP_Section_1_new3\\2.25m\\2.25m14.5kg\n",
      "1\n",
      "2\n",
      "3\n",
      "4\n",
      "folder G:\\Chamodi\\LSDYNA3D\\RP_TH_models\\RP_Section_1_new3\\2.25m\\2.25m16.5kg\n",
      "1\n",
      "2\n",
      "3\n",
      "4\n",
      "folder G:\\Chamodi\\LSDYNA3D\\RP_TH_models\\RP_Section_1_new3\\2.25m\\2.25m18.5kg\n",
      "1\n",
      "2\n",
      "3\n",
      "4\n",
      "folder G:\\Chamodi\\LSDYNA3D\\RP_TH_models\\RP_Section_1_new3\\2.25m\\2.25m20.5kg\n",
      "1\n",
      "2\n",
      "3\n",
      "4\n",
      "folder G:\\Chamodi\\LSDYNA3D\\RP_TH_models\\RP_Section_1_new3\\2.25m\\2.25m22.5kg\n",
      "1\n",
      "2\n",
      "3\n",
      "4\n",
      "folder G:\\Chamodi\\LSDYNA3D\\RP_TH_models\\RP_Section_1_new3\\2.25m\\2.25m24.5kg\n",
      "1\n",
      "2\n",
      "3\n",
      "4\n",
      "folder G:\\Chamodi\\LSDYNA3D\\RP_TH_models\\RP_Section_1_new3\\2.25m\\2.25m26.5kg\n",
      "1\n",
      "2\n",
      "3\n",
      "4\n",
      "folder G:\\Chamodi\\LSDYNA3D\\RP_TH_models\\RP_Section_1_new3\\2.25m\\2.25m28.5kg\n",
      "1\n",
      "2\n",
      "3\n",
      "4\n",
      "folder G:\\Chamodi\\LSDYNA3D\\RP_TH_models\\RP_Section_1_new3\\2.25m\\2.25m30.5kg\n",
      "1\n",
      "2\n",
      "3\n",
      "4\n",
      "folder G:\\Chamodi\\LSDYNA3D\\RP_TH_models\\RP_Section_1_new3\\2.25m\\2.25m32.5kg\n",
      "1\n",
      "2\n",
      "3\n",
      "4\n",
      "folder G:\\Chamodi\\LSDYNA3D\\RP_TH_models\\RP_Section_1_new3\\2.25m\\2.25m34.5kg\n",
      "1\n",
      "2\n",
      "3\n",
      "4\n",
      "folder G:\\Chamodi\\LSDYNA3D\\RP_TH_models\\RP_Section_1_new3\\2.25m\\2.25m35.0kg\n",
      "1\n",
      "2\n",
      "3\n",
      "4\n",
      "folder G:\\Chamodi\\LSDYNA3D\\RP_TH_models\\RP_Section_1_new3\\2.50m\\2.50m00.5kg\n",
      "1\n",
      "2\n",
      "3\n",
      "4\n",
      "folder G:\\Chamodi\\LSDYNA3D\\RP_TH_models\\RP_Section_1_new3\\2.50m\\2.50m02.5kg\n",
      "1\n",
      "2\n",
      "3\n",
      "4\n",
      "folder G:\\Chamodi\\LSDYNA3D\\RP_TH_models\\RP_Section_1_new3\\2.50m\\2.50m04.5kg\n",
      "1\n",
      "2\n",
      "3\n",
      "4\n",
      "folder G:\\Chamodi\\LSDYNA3D\\RP_TH_models\\RP_Section_1_new3\\2.50m\\2.50m06.5kg\n",
      "1\n",
      "2\n",
      "3\n",
      "4\n",
      "folder G:\\Chamodi\\LSDYNA3D\\RP_TH_models\\RP_Section_1_new3\\2.50m\\2.50m08.5kg\n",
      "1\n",
      "2\n",
      "3\n",
      "4\n",
      "folder G:\\Chamodi\\LSDYNA3D\\RP_TH_models\\RP_Section_1_new3\\2.50m\\2.50m10.5kg\n",
      "1\n",
      "2\n",
      "3\n",
      "4\n",
      "folder G:\\Chamodi\\LSDYNA3D\\RP_TH_models\\RP_Section_1_new3\\2.50m\\2.50m12.5kg\n",
      "1\n",
      "2\n",
      "3\n",
      "4\n",
      "folder G:\\Chamodi\\LSDYNA3D\\RP_TH_models\\RP_Section_1_new3\\2.50m\\2.50m14.5kg\n",
      "1\n",
      "2\n",
      "3\n",
      "4\n",
      "folder G:\\Chamodi\\LSDYNA3D\\RP_TH_models\\RP_Section_1_new3\\2.50m\\2.50m16.5kg\n",
      "1\n",
      "2\n",
      "3\n",
      "4\n",
      "folder G:\\Chamodi\\LSDYNA3D\\RP_TH_models\\RP_Section_1_new3\\2.50m\\2.50m18.5kg\n",
      "1\n",
      "2\n",
      "3\n",
      "4\n",
      "folder G:\\Chamodi\\LSDYNA3D\\RP_TH_models\\RP_Section_1_new3\\2.50m\\2.50m20.5kg\n",
      "1\n",
      "2\n",
      "3\n",
      "4\n",
      "folder G:\\Chamodi\\LSDYNA3D\\RP_TH_models\\RP_Section_1_new3\\2.50m\\2.50m22.5kg\n",
      "1\n",
      "2\n",
      "3\n",
      "4\n",
      "folder G:\\Chamodi\\LSDYNA3D\\RP_TH_models\\RP_Section_1_new3\\2.50m\\2.50m24.5kg\n",
      "1\n",
      "2\n",
      "3\n",
      "4\n",
      "folder G:\\Chamodi\\LSDYNA3D\\RP_TH_models\\RP_Section_1_new3\\2.50m\\2.50m26.5kg\n",
      "1\n",
      "2\n",
      "3\n",
      "4\n",
      "folder G:\\Chamodi\\LSDYNA3D\\RP_TH_models\\RP_Section_1_new3\\2.50m\\2.50m28.5kg\n",
      "1\n",
      "2\n",
      "3\n",
      "4\n",
      "folder G:\\Chamodi\\LSDYNA3D\\RP_TH_models\\RP_Section_1_new3\\2.50m\\2.50m30.5kg\n",
      "1\n",
      "2\n",
      "3\n",
      "4\n",
      "folder G:\\Chamodi\\LSDYNA3D\\RP_TH_models\\RP_Section_1_new3\\2.50m\\2.50m32.5kg\n",
      "1\n",
      "2\n",
      "3\n",
      "4\n",
      "folder G:\\Chamodi\\LSDYNA3D\\RP_TH_models\\RP_Section_1_new3\\2.50m\\2.50m34.5kg\n",
      "1\n",
      "2\n",
      "3\n",
      "4\n",
      "folder G:\\Chamodi\\LSDYNA3D\\RP_TH_models\\RP_Section_1_new3\\2.50m\\2.50m35.0kg\n",
      "1\n",
      "2\n",
      "3\n",
      "4\n",
      "folder G:\\Chamodi\\LSDYNA3D\\RP_TH_models\\RP_Section_1_new3\\2.75m\\2.75m00.5kg\n",
      "1\n",
      "2\n",
      "3\n",
      "4\n",
      "folder G:\\Chamodi\\LSDYNA3D\\RP_TH_models\\RP_Section_1_new3\\2.75m\\2.75m02.5kg\n",
      "1\n",
      "2\n",
      "3\n",
      "4\n",
      "folder G:\\Chamodi\\LSDYNA3D\\RP_TH_models\\RP_Section_1_new3\\2.75m\\2.75m04.5kg\n",
      "1\n",
      "2\n",
      "3\n",
      "4\n",
      "folder G:\\Chamodi\\LSDYNA3D\\RP_TH_models\\RP_Section_1_new3\\2.75m\\2.75m06.5kg\n",
      "1\n",
      "2\n",
      "3\n",
      "4\n",
      "folder G:\\Chamodi\\LSDYNA3D\\RP_TH_models\\RP_Section_1_new3\\2.75m\\2.75m08.5kg\n",
      "1\n",
      "2\n",
      "3\n",
      "4\n",
      "folder G:\\Chamodi\\LSDYNA3D\\RP_TH_models\\RP_Section_1_new3\\2.75m\\2.75m10.5kg\n",
      "1\n",
      "2\n",
      "3\n",
      "4\n",
      "folder G:\\Chamodi\\LSDYNA3D\\RP_TH_models\\RP_Section_1_new3\\2.75m\\2.75m12.5kg\n",
      "1\n",
      "2\n",
      "3\n",
      "4\n",
      "folder G:\\Chamodi\\LSDYNA3D\\RP_TH_models\\RP_Section_1_new3\\2.75m\\2.75m14.5kg\n",
      "1\n",
      "2\n",
      "3\n",
      "4\n",
      "folder G:\\Chamodi\\LSDYNA3D\\RP_TH_models\\RP_Section_1_new3\\2.75m\\2.75m16.5kg\n",
      "1\n",
      "2\n",
      "3\n",
      "4\n",
      "folder G:\\Chamodi\\LSDYNA3D\\RP_TH_models\\RP_Section_1_new3\\2.75m\\2.75m18.5kg\n",
      "1\n",
      "2\n",
      "3\n",
      "4\n",
      "folder G:\\Chamodi\\LSDYNA3D\\RP_TH_models\\RP_Section_1_new3\\2.75m\\2.75m20.5kg\n",
      "1\n",
      "2\n",
      "3\n",
      "4\n",
      "folder G:\\Chamodi\\LSDYNA3D\\RP_TH_models\\RP_Section_1_new3\\2.75m\\2.75m22.5kg\n",
      "1\n",
      "2\n",
      "3\n",
      "4\n",
      "folder G:\\Chamodi\\LSDYNA3D\\RP_TH_models\\RP_Section_1_new3\\2.75m\\2.75m24.5kg\n",
      "1\n",
      "2\n",
      "3\n",
      "4\n",
      "folder G:\\Chamodi\\LSDYNA3D\\RP_TH_models\\RP_Section_1_new3\\2.75m\\2.75m26.5kg\n",
      "1\n",
      "2\n",
      "3\n",
      "4\n",
      "folder G:\\Chamodi\\LSDYNA3D\\RP_TH_models\\RP_Section_1_new3\\2.75m\\2.75m28.5kg\n",
      "1\n",
      "2\n",
      "3\n",
      "4\n",
      "folder G:\\Chamodi\\LSDYNA3D\\RP_TH_models\\RP_Section_1_new3\\2.75m\\2.75m30.5kg\n",
      "1\n",
      "2\n",
      "3\n",
      "4\n",
      "folder G:\\Chamodi\\LSDYNA3D\\RP_TH_models\\RP_Section_1_new3\\2.75m\\2.75m32.5kg\n",
      "1\n",
      "2\n",
      "3\n",
      "4\n",
      "folder G:\\Chamodi\\LSDYNA3D\\RP_TH_models\\RP_Section_1_new3\\2.75m\\2.75m34.5kg\n",
      "1\n",
      "2\n",
      "3\n",
      "4\n",
      "folder G:\\Chamodi\\LSDYNA3D\\RP_TH_models\\RP_Section_1_new3\\2.75m\\2.75m35.0kg\n",
      "1\n",
      "2\n",
      "3\n",
      "4\n",
      "folder G:\\Chamodi\\LSDYNA3D\\RP_TH_models\\RP_Section_1_new3\\3.00m\\3.00m00.5kg\n",
      "1\n",
      "2\n",
      "3\n",
      "4\n",
      "folder G:\\Chamodi\\LSDYNA3D\\RP_TH_models\\RP_Section_1_new3\\3.00m\\3.00m02.5kg\n",
      "1\n",
      "2\n",
      "3\n",
      "4\n",
      "folder G:\\Chamodi\\LSDYNA3D\\RP_TH_models\\RP_Section_1_new3\\3.00m\\3.00m04.5kg\n",
      "1\n",
      "2\n",
      "3\n",
      "4\n",
      "folder G:\\Chamodi\\LSDYNA3D\\RP_TH_models\\RP_Section_1_new3\\3.00m\\3.00m06.5kg\n",
      "1\n",
      "2\n",
      "3\n",
      "4\n",
      "folder G:\\Chamodi\\LSDYNA3D\\RP_TH_models\\RP_Section_1_new3\\3.00m\\3.00m08.5kg\n",
      "1\n",
      "2\n",
      "3\n",
      "4\n",
      "folder G:\\Chamodi\\LSDYNA3D\\RP_TH_models\\RP_Section_1_new3\\3.00m\\3.00m10.5kg\n",
      "1\n",
      "2\n",
      "3\n",
      "4\n",
      "folder G:\\Chamodi\\LSDYNA3D\\RP_TH_models\\RP_Section_1_new3\\3.00m\\3.00m12.5kg\n",
      "1\n",
      "2\n",
      "3\n",
      "4\n",
      "folder G:\\Chamodi\\LSDYNA3D\\RP_TH_models\\RP_Section_1_new3\\3.00m\\3.00m14.5kg\n",
      "1\n",
      "2\n",
      "3\n",
      "4\n",
      "folder G:\\Chamodi\\LSDYNA3D\\RP_TH_models\\RP_Section_1_new3\\3.00m\\3.00m16.5kg\n",
      "1\n",
      "2\n",
      "3\n",
      "4\n",
      "folder G:\\Chamodi\\LSDYNA3D\\RP_TH_models\\RP_Section_1_new3\\3.00m\\3.00m18.5kg\n",
      "1\n",
      "2\n",
      "3\n",
      "4\n",
      "folder G:\\Chamodi\\LSDYNA3D\\RP_TH_models\\RP_Section_1_new3\\3.00m\\3.00m20.5kg\n",
      "1\n",
      "2\n",
      "3\n",
      "4\n",
      "folder G:\\Chamodi\\LSDYNA3D\\RP_TH_models\\RP_Section_1_new3\\3.00m\\3.00m22.5kg\n",
      "1\n",
      "2\n",
      "3\n",
      "4\n",
      "folder G:\\Chamodi\\LSDYNA3D\\RP_TH_models\\RP_Section_1_new3\\3.00m\\3.00m24.5kg\n",
      "1\n",
      "2\n",
      "3\n",
      "4\n",
      "folder G:\\Chamodi\\LSDYNA3D\\RP_TH_models\\RP_Section_1_new3\\3.00m\\3.00m26.5kg\n",
      "1\n",
      "2\n",
      "3\n",
      "4\n",
      "folder G:\\Chamodi\\LSDYNA3D\\RP_TH_models\\RP_Section_1_new3\\3.00m\\3.00m28.5kg\n",
      "1\n",
      "2\n",
      "3\n",
      "4\n",
      "folder G:\\Chamodi\\LSDYNA3D\\RP_TH_models\\RP_Section_1_new3\\3.00m\\3.00m30.5kg\n",
      "1\n",
      "2\n",
      "3\n",
      "4\n",
      "folder G:\\Chamodi\\LSDYNA3D\\RP_TH_models\\RP_Section_1_new3\\3.00m\\3.00m32.5kg\n",
      "1\n",
      "2\n",
      "3\n",
      "4\n",
      "folder G:\\Chamodi\\LSDYNA3D\\RP_TH_models\\RP_Section_1_new3\\3.00m\\3.00m34.5kg\n",
      "1\n",
      "2\n",
      "3\n",
      "4\n",
      "folder G:\\Chamodi\\LSDYNA3D\\RP_TH_models\\RP_Section_1_new3\\3.00m\\3.00m35.0kg\n",
      "1\n",
      "2\n",
      "3\n",
      "4\n"
     ]
    }
   ],
   "source": [
    "#dataset = pd.DataFrame(columns = ['Charge_mass', 'Standoff_distance', 'Time', 'Pressure', 'Phase'])\n",
    "df_list = []\n",
    "\n",
    "for folder1 in input_dir2:\n",
    "    \n",
    "    input_dir3 =  [folder2 for folder2 in folder1.iterdir() if folder2.is_dir()] # folder2 - 07m00.5kg\n",
    "    \n",
    "    for folder2 in input_dir3:\n",
    "        \n",
    "        print ('folder', folder2)\n",
    "        files1 = [file1 for file1 in folder2.rglob(\"*.xlsx\")]\n",
    "    \n",
    "        for file1 in files1:\n",
    "            df_list.append(pd.read_excel(file1))\n",
    "            print (file1.stem)\n",
    "    \n",
    "dataset = pd.concat(df_list, ignore_index = True)"
   ]
  },
  {
   "cell_type": "code",
   "execution_count": 4,
   "metadata": {
    "colab": {},
    "colab_type": "code",
    "id": "B9CV13Co_HHM",
    "ExecuteTime": {
     "end_time": "2024-08-21T03:43:07.178467700Z",
     "start_time": "2024-08-21T03:43:07.162457700Z"
    }
   },
   "outputs": [
    {
     "name": "stdout",
     "output_type": "stream",
     "text": [
      "<class 'pandas.core.frame.DataFrame'>\n",
      "RangeIndex: 55559 entries, 0 to 55558\n",
      "Data columns (total 6 columns):\n",
      " #   Column             Non-Null Count  Dtype  \n",
      "---  ------             --------------  -----  \n",
      " 0   Mass               55559 non-null  float64\n",
      " 1   Standoff distance  55559 non-null  float64\n",
      " 2   Angle              55559 non-null  int64  \n",
      " 3   Time               55559 non-null  float64\n",
      " 4   Phase              55559 non-null  object \n",
      " 5   Pressure           55559 non-null  float64\n",
      "dtypes: float64(4), int64(1), object(1)\n",
      "memory usage: 2.5+ MB\n"
     ]
    }
   ],
   "source": [
    "dataset.info()"
   ]
  },
  {
   "cell_type": "code",
   "execution_count": 5,
   "outputs": [
    {
     "name": "stdout",
     "output_type": "stream",
     "text": [
      "<class 'pandas.core.frame.DataFrame'>\n",
      "RangeIndex: 55559 entries, 0 to 55558\n",
      "Data columns (total 7 columns):\n",
      " #   Column             Non-Null Count  Dtype  \n",
      "---  ------             --------------  -----  \n",
      " 0   Mass               55559 non-null  float64\n",
      " 1   Standoff distance  55559 non-null  float64\n",
      " 2   Angle              55559 non-null  int64  \n",
      " 3   Time               55559 non-null  float64\n",
      " 4   Pressure           55559 non-null  float64\n",
      " 5   Phase_negative     55559 non-null  uint8  \n",
      " 6   Phase_positive     55559 non-null  uint8  \n",
      "dtypes: float64(4), int64(1), uint8(2)\n",
      "memory usage: 2.2 MB\n"
     ]
    }
   ],
   "source": [
    "dataset['Phase'] = dataset['Phase'].replace({'negative_increasing': 'negative', 'negative_decreasing': 'negative'})\n",
    "dataset = pd.get_dummies(dataset, columns =['Phase'], dtype = np.uint8)\n",
    "dataset.info()"
   ],
   "metadata": {
    "collapsed": false,
    "ExecuteTime": {
     "end_time": "2024-08-21T03:43:07.354657900Z",
     "start_time": "2024-08-21T03:43:07.179465400Z"
    }
   }
  },
  {
   "cell_type": "code",
   "execution_count": 6,
   "outputs": [
    {
     "data": {
      "text/plain": "    Mass  Standoff distance  Angle      Time   Pressure  Phase_negative  \\\n0    0.5                1.5      0  1.465171  564.29260               0   \n1    0.5                1.5      0  1.467252  564.05780               0   \n2    0.5                1.5      0  1.469334  563.32560               0   \n3    0.5                1.5      0  1.473498  560.48900               0   \n4    0.5                1.5      0  1.481826  549.75170               0   \n5    0.5                1.5      0  1.517147  472.15140               0   \n6    0.5                1.5      0  1.525413  457.14590               0   \n7    0.5                1.5      0  1.535697  442.17030               0   \n8    0.5                1.5      0  1.558011  415.68570               0   \n9    0.5                1.5      0  1.615291  353.68080               0   \n10   0.5                1.5      0  1.643169  325.25090               0   \n11   0.5                1.5      0  1.665162  305.04660               0   \n12   0.5                1.5      0  1.691183  283.41260               0   \n13   0.5                1.5      0  1.721250  260.57490               0   \n14   0.5                1.5      0  1.753411  238.05300               0   \n15   0.5                1.5      0  1.783647  218.56040               0   \n16   0.5                1.5      0  1.813952  200.67040               0   \n17   0.5                1.5      0  1.844339  184.32260               0   \n18   0.5                1.5      0  1.874821  169.41340               0   \n19   0.5                1.5      0  1.909467  154.01040               0   \n20   0.5                1.5      0  1.948282  138.29660               0   \n21   0.5                1.5      0  1.987262  123.92310               0   \n22   0.5                1.5      0  2.026533  110.79310               0   \n23   0.5                1.5      0  2.068011   98.23788               0   \n24   0.5                1.5      0  2.113112   85.87970               0   \n25   0.5                1.5      0  2.157048   74.99792               0   \n26   0.5                1.5      0  2.203624   64.62081               0   \n27   0.5                1.5      0  2.254955   54.33177               0   \n28   0.5                1.5      0  2.307782   44.76888               0   \n29   0.5                1.5      0  2.360574   36.21905               0   \n\n    Phase_positive  \n0                1  \n1                1  \n2                1  \n3                1  \n4                1  \n5                1  \n6                1  \n7                1  \n8                1  \n9                1  \n10               1  \n11               1  \n12               1  \n13               1  \n14               1  \n15               1  \n16               1  \n17               1  \n18               1  \n19               1  \n20               1  \n21               1  \n22               1  \n23               1  \n24               1  \n25               1  \n26               1  \n27               1  \n28               1  \n29               1  ",
      "text/html": "<div>\n<style scoped>\n    .dataframe tbody tr th:only-of-type {\n        vertical-align: middle;\n    }\n\n    .dataframe tbody tr th {\n        vertical-align: top;\n    }\n\n    .dataframe thead th {\n        text-align: right;\n    }\n</style>\n<table border=\"1\" class=\"dataframe\">\n  <thead>\n    <tr style=\"text-align: right;\">\n      <th></th>\n      <th>Mass</th>\n      <th>Standoff distance</th>\n      <th>Angle</th>\n      <th>Time</th>\n      <th>Pressure</th>\n      <th>Phase_negative</th>\n      <th>Phase_positive</th>\n    </tr>\n  </thead>\n  <tbody>\n    <tr>\n      <th>0</th>\n      <td>0.5</td>\n      <td>1.5</td>\n      <td>0</td>\n      <td>1.465171</td>\n      <td>564.29260</td>\n      <td>0</td>\n      <td>1</td>\n    </tr>\n    <tr>\n      <th>1</th>\n      <td>0.5</td>\n      <td>1.5</td>\n      <td>0</td>\n      <td>1.467252</td>\n      <td>564.05780</td>\n      <td>0</td>\n      <td>1</td>\n    </tr>\n    <tr>\n      <th>2</th>\n      <td>0.5</td>\n      <td>1.5</td>\n      <td>0</td>\n      <td>1.469334</td>\n      <td>563.32560</td>\n      <td>0</td>\n      <td>1</td>\n    </tr>\n    <tr>\n      <th>3</th>\n      <td>0.5</td>\n      <td>1.5</td>\n      <td>0</td>\n      <td>1.473498</td>\n      <td>560.48900</td>\n      <td>0</td>\n      <td>1</td>\n    </tr>\n    <tr>\n      <th>4</th>\n      <td>0.5</td>\n      <td>1.5</td>\n      <td>0</td>\n      <td>1.481826</td>\n      <td>549.75170</td>\n      <td>0</td>\n      <td>1</td>\n    </tr>\n    <tr>\n      <th>5</th>\n      <td>0.5</td>\n      <td>1.5</td>\n      <td>0</td>\n      <td>1.517147</td>\n      <td>472.15140</td>\n      <td>0</td>\n      <td>1</td>\n    </tr>\n    <tr>\n      <th>6</th>\n      <td>0.5</td>\n      <td>1.5</td>\n      <td>0</td>\n      <td>1.525413</td>\n      <td>457.14590</td>\n      <td>0</td>\n      <td>1</td>\n    </tr>\n    <tr>\n      <th>7</th>\n      <td>0.5</td>\n      <td>1.5</td>\n      <td>0</td>\n      <td>1.535697</td>\n      <td>442.17030</td>\n      <td>0</td>\n      <td>1</td>\n    </tr>\n    <tr>\n      <th>8</th>\n      <td>0.5</td>\n      <td>1.5</td>\n      <td>0</td>\n      <td>1.558011</td>\n      <td>415.68570</td>\n      <td>0</td>\n      <td>1</td>\n    </tr>\n    <tr>\n      <th>9</th>\n      <td>0.5</td>\n      <td>1.5</td>\n      <td>0</td>\n      <td>1.615291</td>\n      <td>353.68080</td>\n      <td>0</td>\n      <td>1</td>\n    </tr>\n    <tr>\n      <th>10</th>\n      <td>0.5</td>\n      <td>1.5</td>\n      <td>0</td>\n      <td>1.643169</td>\n      <td>325.25090</td>\n      <td>0</td>\n      <td>1</td>\n    </tr>\n    <tr>\n      <th>11</th>\n      <td>0.5</td>\n      <td>1.5</td>\n      <td>0</td>\n      <td>1.665162</td>\n      <td>305.04660</td>\n      <td>0</td>\n      <td>1</td>\n    </tr>\n    <tr>\n      <th>12</th>\n      <td>0.5</td>\n      <td>1.5</td>\n      <td>0</td>\n      <td>1.691183</td>\n      <td>283.41260</td>\n      <td>0</td>\n      <td>1</td>\n    </tr>\n    <tr>\n      <th>13</th>\n      <td>0.5</td>\n      <td>1.5</td>\n      <td>0</td>\n      <td>1.721250</td>\n      <td>260.57490</td>\n      <td>0</td>\n      <td>1</td>\n    </tr>\n    <tr>\n      <th>14</th>\n      <td>0.5</td>\n      <td>1.5</td>\n      <td>0</td>\n      <td>1.753411</td>\n      <td>238.05300</td>\n      <td>0</td>\n      <td>1</td>\n    </tr>\n    <tr>\n      <th>15</th>\n      <td>0.5</td>\n      <td>1.5</td>\n      <td>0</td>\n      <td>1.783647</td>\n      <td>218.56040</td>\n      <td>0</td>\n      <td>1</td>\n    </tr>\n    <tr>\n      <th>16</th>\n      <td>0.5</td>\n      <td>1.5</td>\n      <td>0</td>\n      <td>1.813952</td>\n      <td>200.67040</td>\n      <td>0</td>\n      <td>1</td>\n    </tr>\n    <tr>\n      <th>17</th>\n      <td>0.5</td>\n      <td>1.5</td>\n      <td>0</td>\n      <td>1.844339</td>\n      <td>184.32260</td>\n      <td>0</td>\n      <td>1</td>\n    </tr>\n    <tr>\n      <th>18</th>\n      <td>0.5</td>\n      <td>1.5</td>\n      <td>0</td>\n      <td>1.874821</td>\n      <td>169.41340</td>\n      <td>0</td>\n      <td>1</td>\n    </tr>\n    <tr>\n      <th>19</th>\n      <td>0.5</td>\n      <td>1.5</td>\n      <td>0</td>\n      <td>1.909467</td>\n      <td>154.01040</td>\n      <td>0</td>\n      <td>1</td>\n    </tr>\n    <tr>\n      <th>20</th>\n      <td>0.5</td>\n      <td>1.5</td>\n      <td>0</td>\n      <td>1.948282</td>\n      <td>138.29660</td>\n      <td>0</td>\n      <td>1</td>\n    </tr>\n    <tr>\n      <th>21</th>\n      <td>0.5</td>\n      <td>1.5</td>\n      <td>0</td>\n      <td>1.987262</td>\n      <td>123.92310</td>\n      <td>0</td>\n      <td>1</td>\n    </tr>\n    <tr>\n      <th>22</th>\n      <td>0.5</td>\n      <td>1.5</td>\n      <td>0</td>\n      <td>2.026533</td>\n      <td>110.79310</td>\n      <td>0</td>\n      <td>1</td>\n    </tr>\n    <tr>\n      <th>23</th>\n      <td>0.5</td>\n      <td>1.5</td>\n      <td>0</td>\n      <td>2.068011</td>\n      <td>98.23788</td>\n      <td>0</td>\n      <td>1</td>\n    </tr>\n    <tr>\n      <th>24</th>\n      <td>0.5</td>\n      <td>1.5</td>\n      <td>0</td>\n      <td>2.113112</td>\n      <td>85.87970</td>\n      <td>0</td>\n      <td>1</td>\n    </tr>\n    <tr>\n      <th>25</th>\n      <td>0.5</td>\n      <td>1.5</td>\n      <td>0</td>\n      <td>2.157048</td>\n      <td>74.99792</td>\n      <td>0</td>\n      <td>1</td>\n    </tr>\n    <tr>\n      <th>26</th>\n      <td>0.5</td>\n      <td>1.5</td>\n      <td>0</td>\n      <td>2.203624</td>\n      <td>64.62081</td>\n      <td>0</td>\n      <td>1</td>\n    </tr>\n    <tr>\n      <th>27</th>\n      <td>0.5</td>\n      <td>1.5</td>\n      <td>0</td>\n      <td>2.254955</td>\n      <td>54.33177</td>\n      <td>0</td>\n      <td>1</td>\n    </tr>\n    <tr>\n      <th>28</th>\n      <td>0.5</td>\n      <td>1.5</td>\n      <td>0</td>\n      <td>2.307782</td>\n      <td>44.76888</td>\n      <td>0</td>\n      <td>1</td>\n    </tr>\n    <tr>\n      <th>29</th>\n      <td>0.5</td>\n      <td>1.5</td>\n      <td>0</td>\n      <td>2.360574</td>\n      <td>36.21905</td>\n      <td>0</td>\n      <td>1</td>\n    </tr>\n  </tbody>\n</table>\n</div>"
     },
     "execution_count": 6,
     "metadata": {},
     "output_type": "execute_result"
    }
   ],
   "source": [
    "dataset.head(30)"
   ],
   "metadata": {
    "collapsed": false,
    "ExecuteTime": {
     "end_time": "2024-08-21T03:43:07.467264100Z",
     "start_time": "2024-08-21T03:43:07.345140100Z"
    }
   }
  },
  {
   "cell_type": "code",
   "execution_count": 7,
   "metadata": {
    "ExecuteTime": {
     "end_time": "2024-08-21T03:43:07.600919Z",
     "start_time": "2024-08-21T03:43:07.467264100Z"
    }
   },
   "outputs": [
    {
     "name": "stdout",
     "output_type": "stream",
     "text": [
      "(55559, 6) (55559,)\n"
     ]
    }
   ],
   "source": [
    "y = dataset['Pressure']\n",
    "X = dataset.drop(['Pressure'], axis=1)\n",
    "print(X.shape, y.shape)"
   ]
  },
  {
   "cell_type": "code",
   "execution_count": 8,
   "metadata": {
    "ExecuteTime": {
     "end_time": "2024-08-21T03:43:07.755553600Z",
     "start_time": "2024-08-21T03:43:07.558859Z"
    }
   },
   "outputs": [],
   "source": [
    "# convert to numpy array\n",
    "X = np.array(X)\n",
    "y = np.array(y)"
   ]
  },
  {
   "cell_type": "code",
   "execution_count": 9,
   "metadata": {
    "colab": {},
    "colab_type": "code",
    "id": "L5edeb2r_agx",
    "ExecuteTime": {
     "end_time": "2024-08-21T03:43:08.950860Z",
     "start_time": "2024-08-21T03:43:07.756552500Z"
    }
   },
   "outputs": [],
   "source": [
    "from sklearn.model_selection import train_test_split\n",
    "X_train, X_test, y_train, y_test = train_test_split(X,\n",
    "                                                    y,\n",
    "                                                    test_size = 0.4,\n",
    "                                                    random_state = 0)"
   ]
  },
  {
   "cell_type": "code",
   "execution_count": 10,
   "metadata": {
    "colab": {},
    "colab_type": "code",
    "id": "L5edeb2r_agx",
    "ExecuteTime": {
     "end_time": "2024-08-21T03:43:08.971875900Z",
     "start_time": "2024-08-21T03:43:08.951863100Z"
    }
   },
   "outputs": [],
   "source": [
    "X_val, X_test, y_val, y_test = train_test_split(X_test,\n",
    "                                                y_test,\n",
    "                                                test_size = 0.5,\n",
    "                                                random_state = 0)"
   ]
  },
  {
   "cell_type": "code",
   "execution_count": 11,
   "outputs": [
    {
     "name": "stdout",
     "output_type": "stream",
     "text": [
      "[[-0.36269004 -0.52145157 -0.44441782 -0.67104328  0.          1.        ]\n",
      " [-1.53923008 -1.02418722  1.37366749 -0.26694703  1.          0.        ]\n",
      " [-0.16660003 -0.52145157 -1.35346048 -0.65969155  0.          1.        ]\n",
      " ...\n",
      " [-0.16660003  0.98675539 -0.44441782  1.77036442  1.          0.        ]\n",
      " [ 0.22557998  0.98675539  0.46462483 -0.58070736  0.          1.        ]\n",
      " [-0.55878005 -1.52692287  0.46462483 -0.70672769  0.          1.        ]]\n"
     ]
    }
   ],
   "source": [
    "from sklearn.preprocessing import StandardScaler\n",
    "sc = StandardScaler()\n",
    "X_train[:,0:4] = sc.fit_transform(X_train[:, 0:4])\n",
    "print (X_train)"
   ],
   "metadata": {
    "collapsed": false,
    "ExecuteTime": {
     "end_time": "2024-08-21T03:43:09.143285400Z",
     "start_time": "2024-08-21T03:43:08.968876900Z"
    }
   }
  },
  {
   "cell_type": "code",
   "execution_count": 12,
   "outputs": [
    {
     "name": "stdout",
     "output_type": "stream",
     "text": [
      "[[ 1.00994     0.48401974 -1.35346048 -0.89997439  0.          1.        ]\n",
      " [-1.93141009 -1.52692287 -1.35346048 -0.75851636  0.          1.        ]\n",
      " [ 0.22557998  1.48949105  1.37366749 -0.37821042  0.          1.        ]\n",
      " ...\n",
      " [ 0.02948997 -0.01871591 -0.44441782 -0.51644526  0.          1.        ]\n",
      " [ 1.20603001 -0.52145157 -0.44441782  0.94198323  1.          0.        ]\n",
      " [-0.16660003 -0.01871591  1.37366749 -0.39420937  0.          1.        ]]\n"
     ]
    }
   ],
   "source": [
    "X_test[:,0:4] = sc.transform(X_test[:,0:4])\n",
    "print (X_test)"
   ],
   "metadata": {
    "collapsed": false,
    "ExecuteTime": {
     "end_time": "2024-08-21T03:43:09.461479100Z",
     "start_time": "2024-08-21T03:43:09.134285200Z"
    }
   }
  },
  {
   "cell_type": "code",
   "execution_count": 13,
   "outputs": [
    {
     "name": "stdout",
     "output_type": "stream",
     "text": [
      "[[-0.55878005 -0.01871591 -0.44441782 -0.5825112   0.          1.        ]\n",
      " [-1.14705006 -0.52145157  0.46462483 -0.08074981  1.          0.        ]\n",
      " [-0.75487005  1.48949105  1.37366749 -0.22377807  0.          1.        ]\n",
      " ...\n",
      " [ 0.61775999  0.48401974 -0.44441782 -0.54628658  0.          1.        ]\n",
      " [-0.75487005 -1.52692287 -1.35346048  0.34884443  1.          0.        ]\n",
      " [ 0.42166998  0.98675539  0.46462483 -0.76600267  0.          1.        ]]\n"
     ]
    }
   ],
   "source": [
    "X_val[:,0:4] = sc.transform(X_val[:,0:4])\n",
    "print (X_val)"
   ],
   "metadata": {
    "collapsed": false,
    "ExecuteTime": {
     "end_time": "2024-08-21T03:43:09.857375600Z",
     "start_time": "2024-08-21T03:43:09.453469400Z"
    }
   }
  },
  {
   "cell_type": "code",
   "execution_count": 14,
   "outputs": [
    {
     "name": "stdout",
     "output_type": "stream",
     "text": [
      "X_train 33335\n",
      "X_test 11112\n",
      "X_val 11112\n"
     ]
    }
   ],
   "source": [
    "print (\"X_train\", len(X_train))\n",
    "print (\"X_test\", len(X_test))\n",
    "print (\"X_val\", len(X_val))"
   ],
   "metadata": {
    "collapsed": false,
    "ExecuteTime": {
     "end_time": "2024-08-21T03:43:10.175570800Z",
     "start_time": "2024-08-21T03:43:09.854373900Z"
    }
   }
  },
  {
   "cell_type": "markdown",
   "metadata": {
    "colab_type": "text",
    "id": "_mSLlAT9_eyI"
   },
   "source": [
    "## Part 3 - Building the ANN"
   ]
  },
  {
   "cell_type": "code",
   "execution_count": 15,
   "metadata": {
    "colab": {},
    "colab_type": "code",
    "id": "J6Hd97Ls__Nz",
    "ExecuteTime": {
     "end_time": "2024-08-21T03:43:10.664817400Z",
     "start_time": "2024-08-21T03:43:10.176581500Z"
    }
   },
   "outputs": [],
   "source": [
    "ann = tf.keras.models.Sequential()"
   ]
  },
  {
   "cell_type": "code",
   "execution_count": 16,
   "metadata": {
    "colab": {},
    "colab_type": "code",
    "id": "ksO_Vv40AHix",
    "ExecuteTime": {
     "end_time": "2024-08-21T03:43:10.967554100Z",
     "start_time": "2024-08-21T03:43:10.666817Z"
    }
   },
   "outputs": [],
   "source": [
    "ann.add(tf.keras.layers.Dense(units=250,\n",
    "                              input_shape=(X_train.shape[1],),\n",
    "                              activation='relu'))\n",
    "ann.add(tf.keras.layers.Dense(units=225,\n",
    "                              activation='relu'))\n",
    "ann.add(tf.keras.layers.Dense(units=200,\n",
    "                              activation='relu'))\n",
    "ann.add(tf.keras.layers.Dense(units=175,\n",
    "                              activation='relu'))\n",
    "ann.add(tf.keras.layers.Dense(units=150,\n",
    "                              activation='relu'))\n",
    "ann.add(tf.keras.layers.Dense(units=125,\n",
    "                              activation='relu'))"
   ]
  },
  {
   "cell_type": "code",
   "execution_count": 17,
   "metadata": {
    "colab": {},
    "colab_type": "code",
    "id": "YFATpzsUAkLL",
    "ExecuteTime": {
     "end_time": "2024-08-21T03:43:11.030592Z",
     "start_time": "2024-08-21T03:43:10.968553900Z"
    }
   },
   "outputs": [],
   "source": [
    "ann.add(tf.keras.layers.Dense(units=1,\n",
    "                              activation='linear'))"
   ]
  },
  {
   "cell_type": "code",
   "execution_count": 18,
   "metadata": {
    "ExecuteTime": {
     "end_time": "2024-08-21T03:43:11.213767200Z",
     "start_time": "2024-08-21T03:43:11.030592Z"
    }
   },
   "outputs": [
    {
     "name": "stdout",
     "output_type": "stream",
     "text": [
      "Model: \"sequential\"\n",
      "_________________________________________________________________\n",
      " Layer (type)                Output Shape              Param #   \n",
      "=================================================================\n",
      " dense (Dense)               (None, 250)               1750      \n",
      "                                                                 \n",
      " dense_1 (Dense)             (None, 225)               56475     \n",
      "                                                                 \n",
      " dense_2 (Dense)             (None, 200)               45200     \n",
      "                                                                 \n",
      " dense_3 (Dense)             (None, 175)               35175     \n",
      "                                                                 \n",
      " dense_4 (Dense)             (None, 150)               26400     \n",
      "                                                                 \n",
      " dense_5 (Dense)             (None, 125)               18875     \n",
      "                                                                 \n",
      " dense_6 (Dense)             (None, 1)                 126       \n",
      "                                                                 \n",
      "=================================================================\n",
      "Total params: 184,001\n",
      "Trainable params: 184,001\n",
      "Non-trainable params: 0\n",
      "_________________________________________________________________\n"
     ]
    }
   ],
   "source": [
    "ann.summary()"
   ]
  },
  {
   "cell_type": "markdown",
   "metadata": {
    "colab_type": "text",
    "id": "fq7e4fF6A1yy"
   },
   "source": [
    "## Part 4 - Training the ANN"
   ]
  },
  {
   "cell_type": "code",
   "execution_count": 19,
   "metadata": {
    "colab": {},
    "colab_type": "code",
    "id": "pesgbWlCAtB4",
    "ExecuteTime": {
     "end_time": "2024-08-21T03:43:11.336882700Z",
     "start_time": "2024-08-21T03:43:11.189241500Z"
    }
   },
   "outputs": [],
   "source": [
    "# from tensorflow.keras.optimizers import Adam\n",
    "from keras.optimizers import Adam\n",
    "opt = Adam(learning_rate=0.001)\n",
    "ann.compile(optimizer = opt,\n",
    "            loss = 'mean_squared_error',\n",
    "            metrics = ['mae'])"
   ]
  },
  {
   "cell_type": "code",
   "execution_count": 20,
   "metadata": {
    "ExecuteTime": {
     "end_time": "2024-08-21T03:43:11.440479800Z",
     "start_time": "2024-08-21T03:43:11.290338600Z"
    }
   },
   "outputs": [],
   "source": [
    "# protects from unnecessary further training of the model if a particular metric does not continue to improve over a number of n epochs. In such a case, the model training would be automatically aborted.\n",
    "from keras.callbacks import EarlyStopping\n",
    "es = EarlyStopping(monitor='val_loss',\n",
    "                   mode='min',\n",
    "                   patience=50,\n",
    "                   restore_best_weights = True)"
   ]
  },
  {
   "cell_type": "code",
   "execution_count": 21,
   "metadata": {
    "colab": {
     "base_uri": "https://localhost:8080/",
     "height": 1000
    },
    "colab_type": "code",
    "id": "c_vV-tiiA5zn",
    "outputId": "4a2b6ee6-ed75-4698-9069-b250e613803f",
    "ExecuteTime": {
     "end_time": "2024-08-21T04:00:39.416407500Z",
     "start_time": "2024-08-21T03:43:11.443534300Z"
    }
   },
   "outputs": [
    {
     "name": "stdout",
     "output_type": "stream",
     "text": [
      "Epoch 1/500\n",
      "1112/1112 [==============================] - 33s 29ms/step - loss: 1984709.6250 - mae: 552.7387 - val_loss: 799309.1250 - val_mae: 291.1491\n",
      "Epoch 2/500\n",
      "1112/1112 [==============================] - 9s 8ms/step - loss: 644830.6250 - mae: 272.3444 - val_loss: 1540038.5000 - val_mae: 702.9852\n",
      "Epoch 3/500\n",
      "1112/1112 [==============================] - 8s 7ms/step - loss: 481829.3438 - mae: 229.8562 - val_loss: 321971.0000 - val_mae: 180.1964\n",
      "Epoch 4/500\n",
      "1112/1112 [==============================] - 8s 7ms/step - loss: 509746.9062 - mae: 232.0356 - val_loss: 435367.8125 - val_mae: 203.8202\n",
      "Epoch 5/500\n",
      "1112/1112 [==============================] - 8s 7ms/step - loss: 444833.7188 - mae: 214.0087 - val_loss: 155526.4219 - val_mae: 134.8839\n",
      "Epoch 6/500\n",
      "1112/1112 [==============================] - 8s 7ms/step - loss: 378982.0938 - mae: 193.8112 - val_loss: 184859.3906 - val_mae: 171.6241\n",
      "Epoch 7/500\n",
      "1112/1112 [==============================] - 7s 7ms/step - loss: 342257.9688 - mae: 185.9862 - val_loss: 306499.0938 - val_mae: 138.1664\n",
      "Epoch 8/500\n",
      "1112/1112 [==============================] - 7s 7ms/step - loss: 326740.3750 - mae: 179.3597 - val_loss: 101427.6875 - val_mae: 105.2655\n",
      "Epoch 9/500\n",
      "1112/1112 [==============================] - 10s 9ms/step - loss: 329516.1562 - mae: 174.0876 - val_loss: 430351.4375 - val_mae: 193.5820\n",
      "Epoch 10/500\n",
      "1112/1112 [==============================] - 8s 7ms/step - loss: 284240.7812 - mae: 160.5861 - val_loss: 192862.3125 - val_mae: 139.4113\n",
      "Epoch 11/500\n",
      "1112/1112 [==============================] - 9s 8ms/step - loss: 317387.8750 - mae: 165.8621 - val_loss: 212682.0000 - val_mae: 174.4065\n",
      "Epoch 12/500\n",
      "1112/1112 [==============================] - 8s 8ms/step - loss: 240965.3281 - mae: 147.6436 - val_loss: 106211.5391 - val_mae: 101.0653\n",
      "Epoch 13/500\n",
      "1112/1112 [==============================] - 8s 7ms/step - loss: 313508.3438 - mae: 168.4123 - val_loss: 141033.3125 - val_mae: 109.8347\n",
      "Epoch 14/500\n",
      "1112/1112 [==============================] - 8s 8ms/step - loss: 209691.5312 - mae: 138.1616 - val_loss: 89478.4844 - val_mae: 92.0182\n",
      "Epoch 15/500\n",
      "1112/1112 [==============================] - 8s 7ms/step - loss: 270165.9688 - mae: 156.8207 - val_loss: 83491.2891 - val_mae: 86.0143\n",
      "Epoch 16/500\n",
      "1112/1112 [==============================] - 8s 7ms/step - loss: 206880.6875 - mae: 136.7550 - val_loss: 479761.9688 - val_mae: 189.2209\n",
      "Epoch 17/500\n",
      "1112/1112 [==============================] - 8s 7ms/step - loss: 254311.5312 - mae: 146.2245 - val_loss: 93156.3047 - val_mae: 92.4674\n",
      "Epoch 18/500\n",
      "1112/1112 [==============================] - 8s 7ms/step - loss: 237538.5000 - mae: 142.1615 - val_loss: 146197.5000 - val_mae: 97.5535\n",
      "Epoch 19/500\n",
      "1112/1112 [==============================] - 8s 7ms/step - loss: 245378.8594 - mae: 144.1106 - val_loss: 330776.8438 - val_mae: 156.0916\n",
      "Epoch 20/500\n",
      "1112/1112 [==============================] - 9s 8ms/step - loss: 204524.5156 - mae: 133.1464 - val_loss: 124524.1875 - val_mae: 105.6226\n",
      "Epoch 21/500\n",
      "1112/1112 [==============================] - 8s 7ms/step - loss: 242761.7812 - mae: 146.0257 - val_loss: 117045.3203 - val_mae: 108.5687\n",
      "Epoch 22/500\n",
      "1112/1112 [==============================] - 7s 6ms/step - loss: 217270.6875 - mae: 133.3170 - val_loss: 189892.0625 - val_mae: 139.2695\n",
      "Epoch 23/500\n",
      "1112/1112 [==============================] - 7s 6ms/step - loss: 213057.7188 - mae: 131.8363 - val_loss: 132266.2656 - val_mae: 113.0563\n",
      "Epoch 24/500\n",
      "1112/1112 [==============================] - 7s 6ms/step - loss: 174123.8281 - mae: 121.5265 - val_loss: 194926.9219 - val_mae: 143.5687\n",
      "Epoch 25/500\n",
      "1112/1112 [==============================] - 8s 8ms/step - loss: 226340.2812 - mae: 135.2394 - val_loss: 275404.8125 - val_mae: 133.5080\n",
      "Epoch 26/500\n",
      "1112/1112 [==============================] - 9s 8ms/step - loss: 374888.8750 - mae: 191.1316 - val_loss: 90119.5547 - val_mae: 90.9092\n",
      "Epoch 27/500\n",
      "1112/1112 [==============================] - 8s 7ms/step - loss: 220165.9531 - mae: 143.4413 - val_loss: 126437.0000 - val_mae: 117.6552\n",
      "Epoch 28/500\n",
      "1112/1112 [==============================] - 8s 7ms/step - loss: 234061.8281 - mae: 144.6260 - val_loss: 74943.7422 - val_mae: 97.5506\n",
      "Epoch 29/500\n",
      "1112/1112 [==============================] - 8s 7ms/step - loss: 178845.2344 - mae: 122.9557 - val_loss: 287922.2500 - val_mae: 142.3642\n",
      "Epoch 30/500\n",
      "1112/1112 [==============================] - 8s 7ms/step - loss: 219084.2812 - mae: 141.1487 - val_loss: 174145.3906 - val_mae: 123.4505\n",
      "Epoch 31/500\n",
      "1112/1112 [==============================] - 8s 7ms/step - loss: 211592.4219 - mae: 138.9734 - val_loss: 86490.9922 - val_mae: 93.6863\n",
      "Epoch 32/500\n",
      "1112/1112 [==============================] - 8s 7ms/step - loss: 169622.1406 - mae: 122.8806 - val_loss: 197094.7500 - val_mae: 134.6899\n",
      "Epoch 33/500\n",
      "1112/1112 [==============================] - 8s 7ms/step - loss: 147616.0625 - mae: 114.1510 - val_loss: 116144.6094 - val_mae: 116.7794\n",
      "Epoch 34/500\n",
      "1112/1112 [==============================] - 8s 7ms/step - loss: 185379.7344 - mae: 128.4867 - val_loss: 68046.7188 - val_mae: 82.8406\n",
      "Epoch 35/500\n",
      "1112/1112 [==============================] - 8s 7ms/step - loss: 157151.8594 - mae: 115.3086 - val_loss: 529042.6875 - val_mae: 200.1854\n",
      "Epoch 36/500\n",
      "1112/1112 [==============================] - 7s 7ms/step - loss: 181415.1406 - mae: 120.9333 - val_loss: 74038.3906 - val_mae: 78.3618\n",
      "Epoch 37/500\n",
      "1112/1112 [==============================] - 8s 7ms/step - loss: 195910.8125 - mae: 126.0805 - val_loss: 117733.5078 - val_mae: 96.4704\n",
      "Epoch 38/500\n",
      "1112/1112 [==============================] - 8s 7ms/step - loss: 155215.8906 - mae: 112.3108 - val_loss: 485054.2812 - val_mae: 231.8547\n",
      "Epoch 39/500\n",
      "1112/1112 [==============================] - 8s 8ms/step - loss: 143046.5312 - mae: 110.8427 - val_loss: 208447.7188 - val_mae: 113.9268\n",
      "Epoch 40/500\n",
      "1112/1112 [==============================] - 8s 7ms/step - loss: 144813.8750 - mae: 113.3843 - val_loss: 76654.5625 - val_mae: 85.5445\n",
      "Epoch 41/500\n",
      "1112/1112 [==============================] - 8s 7ms/step - loss: 125337.3672 - mae: 102.5992 - val_loss: 90266.4062 - val_mae: 80.1382\n",
      "Epoch 42/500\n",
      "1112/1112 [==============================] - 7s 7ms/step - loss: 171504.8906 - mae: 116.7955 - val_loss: 115660.4062 - val_mae: 140.6633\n",
      "Epoch 43/500\n",
      "1112/1112 [==============================] - 8s 7ms/step - loss: 161372.7656 - mae: 124.1862 - val_loss: 134514.6719 - val_mae: 102.0938\n",
      "Epoch 44/500\n",
      "1112/1112 [==============================] - 8s 7ms/step - loss: 190268.1719 - mae: 124.7756 - val_loss: 172481.6562 - val_mae: 125.0745\n",
      "Epoch 45/500\n",
      "1112/1112 [==============================] - 9s 8ms/step - loss: 173261.4375 - mae: 115.5540 - val_loss: 195203.8750 - val_mae: 124.9573\n",
      "Epoch 46/500\n",
      "1112/1112 [==============================] - 8s 7ms/step - loss: 152934.3750 - mae: 112.5962 - val_loss: 228072.1250 - val_mae: 131.4359\n",
      "Epoch 47/500\n",
      "1112/1112 [==============================] - 8s 7ms/step - loss: 167274.6406 - mae: 115.3020 - val_loss: 269480.8125 - val_mae: 144.2097\n",
      "Epoch 48/500\n",
      "1112/1112 [==============================] - 8s 7ms/step - loss: 111930.2969 - mae: 96.2444 - val_loss: 77522.4844 - val_mae: 87.4472\n",
      "Epoch 49/500\n",
      "1112/1112 [==============================] - 8s 7ms/step - loss: 176898.8906 - mae: 114.3704 - val_loss: 89259.0703 - val_mae: 81.3547\n",
      "Epoch 50/500\n",
      "1112/1112 [==============================] - 8s 7ms/step - loss: 127522.2734 - mae: 101.5091 - val_loss: 97690.7734 - val_mae: 82.9565\n",
      "Epoch 51/500\n",
      "1112/1112 [==============================] - 8s 7ms/step - loss: 153019.4531 - mae: 110.9690 - val_loss: 219475.7656 - val_mae: 120.6690\n",
      "Epoch 52/500\n",
      "1112/1112 [==============================] - 8s 7ms/step - loss: 130545.2422 - mae: 104.0998 - val_loss: 153533.5781 - val_mae: 128.6807\n",
      "Epoch 53/500\n",
      "1112/1112 [==============================] - 8s 7ms/step - loss: 120355.2500 - mae: 96.1280 - val_loss: 69248.7109 - val_mae: 76.3685\n",
      "Epoch 54/500\n",
      "1112/1112 [==============================] - 8s 7ms/step - loss: 126694.3438 - mae: 103.1984 - val_loss: 153579.7656 - val_mae: 128.0250\n",
      "Epoch 55/500\n",
      "1112/1112 [==============================] - 8s 7ms/step - loss: 144678.3594 - mae: 110.9699 - val_loss: 161969.6719 - val_mae: 126.7405\n",
      "Epoch 56/500\n",
      "1112/1112 [==============================] - 8s 7ms/step - loss: 116839.0859 - mae: 96.7222 - val_loss: 228721.7344 - val_mae: 136.6110\n",
      "Epoch 57/500\n",
      "1112/1112 [==============================] - 8s 7ms/step - loss: 147620.9531 - mae: 108.8268 - val_loss: 607631.1250 - val_mae: 248.8248\n",
      "Epoch 58/500\n",
      "1112/1112 [==============================] - 8s 7ms/step - loss: 134821.9062 - mae: 100.2309 - val_loss: 400039.1562 - val_mae: 170.0836\n",
      "Epoch 59/500\n",
      "1112/1112 [==============================] - 8s 8ms/step - loss: 159875.0938 - mae: 108.7815 - val_loss: 588717.8750 - val_mae: 260.6940\n",
      "Epoch 60/500\n",
      "1112/1112 [==============================] - 8s 7ms/step - loss: 144122.0625 - mae: 103.8791 - val_loss: 154010.5156 - val_mae: 95.1857\n",
      "Epoch 61/500\n",
      "1112/1112 [==============================] - 7s 7ms/step - loss: 123157.7031 - mae: 97.1360 - val_loss: 74160.4766 - val_mae: 66.2676\n",
      "Epoch 62/500\n",
      "1112/1112 [==============================] - 7s 7ms/step - loss: 118621.3125 - mae: 97.8447 - val_loss: 464501.9062 - val_mae: 209.9463\n",
      "Epoch 63/500\n",
      "1112/1112 [==============================] - 8s 7ms/step - loss: 136025.2344 - mae: 106.1607 - val_loss: 77997.5938 - val_mae: 86.3982\n",
      "Epoch 64/500\n",
      "1112/1112 [==============================] - 8s 7ms/step - loss: 148975.9531 - mae: 106.2229 - val_loss: 48679.9961 - val_mae: 63.7466\n",
      "Epoch 65/500\n",
      "1112/1112 [==============================] - 8s 7ms/step - loss: 113479.4375 - mae: 97.1819 - val_loss: 132976.2500 - val_mae: 103.8266\n",
      "Epoch 66/500\n",
      "1112/1112 [==============================] - 8s 7ms/step - loss: 126649.6328 - mae: 100.5190 - val_loss: 86821.6406 - val_mae: 101.2662\n",
      "Epoch 67/500\n",
      "1112/1112 [==============================] - 8s 7ms/step - loss: 128922.3828 - mae: 98.5626 - val_loss: 110669.5938 - val_mae: 96.0153\n",
      "Epoch 68/500\n",
      "1112/1112 [==============================] - 8s 7ms/step - loss: 145904.0938 - mae: 102.1752 - val_loss: 54323.7617 - val_mae: 62.4014\n",
      "Epoch 69/500\n",
      "1112/1112 [==============================] - 8s 7ms/step - loss: 150278.3906 - mae: 106.8139 - val_loss: 160556.4844 - val_mae: 104.9010\n",
      "Epoch 70/500\n",
      "1112/1112 [==============================] - 8s 7ms/step - loss: 154144.3594 - mae: 108.1275 - val_loss: 81972.5469 - val_mae: 87.7071\n",
      "Epoch 71/500\n",
      "1112/1112 [==============================] - 8s 7ms/step - loss: 127668.7344 - mae: 98.7626 - val_loss: 99115.9688 - val_mae: 98.6262\n",
      "Epoch 72/500\n",
      "1112/1112 [==============================] - 8s 8ms/step - loss: 101440.2500 - mae: 90.1540 - val_loss: 215370.7188 - val_mae: 129.0741\n",
      "Epoch 73/500\n",
      "1112/1112 [==============================] - 8s 7ms/step - loss: 140418.2031 - mae: 104.1437 - val_loss: 309726.9375 - val_mae: 144.9034\n",
      "Epoch 74/500\n",
      "1112/1112 [==============================] - 8s 7ms/step - loss: 120868.6641 - mae: 96.4382 - val_loss: 83584.4531 - val_mae: 76.3996\n",
      "Epoch 75/500\n",
      "1112/1112 [==============================] - 8s 7ms/step - loss: 114664.0312 - mae: 92.7573 - val_loss: 59710.3086 - val_mae: 78.3962\n",
      "Epoch 76/500\n",
      "1112/1112 [==============================] - 8s 7ms/step - loss: 148376.8750 - mae: 103.9380 - val_loss: 199416.0312 - val_mae: 169.3283\n",
      "Epoch 77/500\n",
      "1112/1112 [==============================] - 8s 7ms/step - loss: 95321.3906 - mae: 85.0791 - val_loss: 94246.6484 - val_mae: 98.2673\n",
      "Epoch 78/500\n",
      "1112/1112 [==============================] - 8s 7ms/step - loss: 115936.0703 - mae: 92.4791 - val_loss: 154659.7031 - val_mae: 105.6602\n",
      "Epoch 79/500\n",
      "1112/1112 [==============================] - 8s 7ms/step - loss: 134050.4219 - mae: 102.3839 - val_loss: 36727.7656 - val_mae: 55.9509\n",
      "Epoch 80/500\n",
      "1112/1112 [==============================] - 8s 7ms/step - loss: 114452.5312 - mae: 94.2436 - val_loss: 111970.3750 - val_mae: 94.0868\n",
      "Epoch 81/500\n",
      "1112/1112 [==============================] - 8s 7ms/step - loss: 121034.9219 - mae: 96.7304 - val_loss: 102624.4922 - val_mae: 82.6711\n",
      "Epoch 82/500\n",
      "1112/1112 [==============================] - 8s 7ms/step - loss: 101126.0859 - mae: 89.4238 - val_loss: 46720.6914 - val_mae: 59.6071\n",
      "Epoch 83/500\n",
      "1112/1112 [==============================] - 8s 7ms/step - loss: 143367.4219 - mae: 100.4980 - val_loss: 52285.9727 - val_mae: 60.2961\n",
      "Epoch 84/500\n",
      "1112/1112 [==============================] - 8s 7ms/step - loss: 136429.3594 - mae: 99.1103 - val_loss: 177893.7188 - val_mae: 123.0796\n",
      "Epoch 85/500\n",
      "1112/1112 [==============================] - 8s 8ms/step - loss: 117463.5234 - mae: 94.8187 - val_loss: 83386.1719 - val_mae: 82.7340\n",
      "Epoch 86/500\n",
      "1112/1112 [==============================] - 8s 7ms/step - loss: 138102.0156 - mae: 98.0970 - val_loss: 199751.3750 - val_mae: 136.5542\n",
      "Epoch 87/500\n",
      "1112/1112 [==============================] - 8s 7ms/step - loss: 124644.6094 - mae: 90.4755 - val_loss: 536663.7500 - val_mae: 274.0131\n",
      "Epoch 88/500\n",
      "1112/1112 [==============================] - 8s 7ms/step - loss: 106921.8594 - mae: 91.0840 - val_loss: 60299.9219 - val_mae: 63.9316\n",
      "Epoch 89/500\n",
      "1112/1112 [==============================] - 8s 7ms/step - loss: 109597.7812 - mae: 89.8173 - val_loss: 50358.4844 - val_mae: 63.7218\n",
      "Epoch 90/500\n",
      "1112/1112 [==============================] - 8s 7ms/step - loss: 98349.2188 - mae: 85.9256 - val_loss: 162208.7188 - val_mae: 129.5898\n",
      "Epoch 91/500\n",
      "1112/1112 [==============================] - 8s 8ms/step - loss: 143200.3750 - mae: 99.5691 - val_loss: 116750.6953 - val_mae: 99.3432\n",
      "Epoch 92/500\n",
      "1112/1112 [==============================] - 8s 7ms/step - loss: 121739.6953 - mae: 95.7246 - val_loss: 74646.2812 - val_mae: 102.2262\n",
      "Epoch 93/500\n",
      "1112/1112 [==============================] - 8s 7ms/step - loss: 100646.3047 - mae: 88.9472 - val_loss: 42391.7188 - val_mae: 58.9510\n",
      "Epoch 94/500\n",
      "1112/1112 [==============================] - 8s 7ms/step - loss: 105312.1797 - mae: 89.3313 - val_loss: 43819.0586 - val_mae: 60.8763\n",
      "Epoch 95/500\n",
      "1112/1112 [==============================] - 8s 7ms/step - loss: 102088.0938 - mae: 86.7450 - val_loss: 57087.7344 - val_mae: 63.5786\n",
      "Epoch 96/500\n",
      "1112/1112 [==============================] - 8s 7ms/step - loss: 114978.0156 - mae: 91.5046 - val_loss: 155210.4219 - val_mae: 102.9932\n",
      "Epoch 97/500\n",
      "1112/1112 [==============================] - 8s 8ms/step - loss: 108008.2969 - mae: 86.7304 - val_loss: 113254.5078 - val_mae: 87.8544\n",
      "Epoch 98/500\n",
      "1112/1112 [==============================] - 8s 7ms/step - loss: 124423.6875 - mae: 91.7193 - val_loss: 113322.4688 - val_mae: 109.9947\n",
      "Epoch 99/500\n",
      "1112/1112 [==============================] - 8s 7ms/step - loss: 121503.1641 - mae: 93.6797 - val_loss: 63203.5898 - val_mae: 60.6356\n",
      "Epoch 100/500\n",
      "1112/1112 [==============================] - 8s 7ms/step - loss: 85365.3594 - mae: 80.1441 - val_loss: 52959.3164 - val_mae: 67.6185\n",
      "Epoch 101/500\n",
      "1112/1112 [==============================] - 8s 7ms/step - loss: 108357.0781 - mae: 90.4606 - val_loss: 61593.0234 - val_mae: 75.8240\n",
      "Epoch 102/500\n",
      "1112/1112 [==============================] - 8s 7ms/step - loss: 96690.1562 - mae: 85.0580 - val_loss: 127265.1719 - val_mae: 98.1370\n",
      "Epoch 103/500\n",
      "1112/1112 [==============================] - 9s 8ms/step - loss: 138559.0156 - mae: 99.3788 - val_loss: 43357.9492 - val_mae: 64.6936\n",
      "Epoch 104/500\n",
      "1112/1112 [==============================] - 8s 7ms/step - loss: 101075.4453 - mae: 85.5683 - val_loss: 72914.7500 - val_mae: 74.8251\n",
      "Epoch 105/500\n",
      "1112/1112 [==============================] - 8s 7ms/step - loss: 111718.5625 - mae: 93.5514 - val_loss: 205417.2812 - val_mae: 119.8913\n",
      "Epoch 106/500\n",
      "1112/1112 [==============================] - 8s 7ms/step - loss: 122842.5859 - mae: 95.9126 - val_loss: 78055.2109 - val_mae: 91.1176\n",
      "Epoch 107/500\n",
      "1112/1112 [==============================] - 8s 7ms/step - loss: 122357.1719 - mae: 92.2952 - val_loss: 254430.0938 - val_mae: 131.4676\n",
      "Epoch 108/500\n",
      "1112/1112 [==============================] - 8s 7ms/step - loss: 83133.2266 - mae: 78.2462 - val_loss: 129292.4766 - val_mae: 113.4021\n",
      "Epoch 109/500\n",
      "1112/1112 [==============================] - 9s 8ms/step - loss: 106824.4219 - mae: 87.6042 - val_loss: 84849.4375 - val_mae: 83.2250\n",
      "Epoch 110/500\n",
      "1112/1112 [==============================] - 8s 7ms/step - loss: 101964.0781 - mae: 87.0127 - val_loss: 48825.6836 - val_mae: 67.0240\n",
      "Epoch 111/500\n",
      "1112/1112 [==============================] - 8s 7ms/step - loss: 118279.2500 - mae: 91.7700 - val_loss: 400034.2812 - val_mae: 165.5275\n",
      "Epoch 112/500\n",
      "1112/1112 [==============================] - 8s 7ms/step - loss: 107071.6953 - mae: 88.2866 - val_loss: 71328.2109 - val_mae: 75.8144\n",
      "Epoch 113/500\n",
      "1112/1112 [==============================] - 8s 7ms/step - loss: 137779.7188 - mae: 97.9206 - val_loss: 60666.2344 - val_mae: 77.7268\n",
      "Epoch 114/500\n",
      "1112/1112 [==============================] - 8s 7ms/step - loss: 103225.4297 - mae: 86.2071 - val_loss: 78056.8438 - val_mae: 74.5210\n",
      "Epoch 115/500\n",
      "1112/1112 [==============================] - 9s 8ms/step - loss: 117493.9531 - mae: 88.3400 - val_loss: 158889.8281 - val_mae: 122.4769\n",
      "Epoch 116/500\n",
      "1112/1112 [==============================] - 8s 8ms/step - loss: 84092.8750 - mae: 77.4568 - val_loss: 192782.8438 - val_mae: 107.7465\n",
      "Epoch 117/500\n",
      "1112/1112 [==============================] - 9s 8ms/step - loss: 116608.0078 - mae: 90.3790 - val_loss: 70310.2344 - val_mae: 63.9018\n",
      "Epoch 118/500\n",
      "1112/1112 [==============================] - 8s 7ms/step - loss: 83758.0781 - mae: 77.1395 - val_loss: 136621.1250 - val_mae: 120.5379\n",
      "Epoch 119/500\n",
      "1112/1112 [==============================] - 8s 7ms/step - loss: 100157.9453 - mae: 82.1021 - val_loss: 63079.7422 - val_mae: 65.8356\n",
      "Epoch 120/500\n",
      "1112/1112 [==============================] - 8s 7ms/step - loss: 112983.8125 - mae: 90.5768 - val_loss: 110727.2422 - val_mae: 94.9657\n",
      "Epoch 121/500\n",
      "1112/1112 [==============================] - 9s 8ms/step - loss: 136086.8438 - mae: 94.4843 - val_loss: 79797.9062 - val_mae: 77.2134\n",
      "Epoch 122/500\n",
      "1112/1112 [==============================] - 8s 7ms/step - loss: 101145.2500 - mae: 83.1969 - val_loss: 36973.4180 - val_mae: 54.8177\n",
      "Epoch 123/500\n",
      "1112/1112 [==============================] - 8s 7ms/step - loss: 82177.7969 - mae: 77.1030 - val_loss: 71323.5938 - val_mae: 66.7709\n",
      "Epoch 124/500\n",
      "1112/1112 [==============================] - 9s 8ms/step - loss: 88700.5391 - mae: 80.8446 - val_loss: 116543.1562 - val_mae: 104.0255\n",
      "Epoch 125/500\n",
      "1112/1112 [==============================] - 8s 7ms/step - loss: 84790.1719 - mae: 77.7705 - val_loss: 73013.3594 - val_mae: 73.6998\n",
      "Epoch 126/500\n",
      "1112/1112 [==============================] - 8s 7ms/step - loss: 101852.9609 - mae: 85.5793 - val_loss: 40266.3711 - val_mae: 53.3686\n",
      "Epoch 127/500\n",
      "1112/1112 [==============================] - 8s 7ms/step - loss: 99454.1562 - mae: 83.2635 - val_loss: 51000.1367 - val_mae: 68.9178\n",
      "Epoch 128/500\n",
      "1112/1112 [==============================] - 9s 8ms/step - loss: 94544.1328 - mae: 80.8102 - val_loss: 66460.5703 - val_mae: 73.0850\n",
      "Epoch 129/500\n",
      "1112/1112 [==============================] - 8s 8ms/step - loss: 89805.2500 - mae: 79.7420 - val_loss: 49096.6523 - val_mae: 61.2386\n"
     ]
    }
   ],
   "source": [
    "history = ann.fit(X_train, y_train,\n",
    "                    validation_data = (X_val, y_val),\n",
    "                    callbacks=[es],\n",
    "                    epochs=500,\n",
    "                    batch_size=30,\n",
    "                    verbose=1)"
   ]
  },
  {
   "cell_type": "code",
   "execution_count": 22,
   "metadata": {
    "ExecuteTime": {
     "end_time": "2024-08-21T04:00:39.973694100Z",
     "start_time": "2024-08-21T04:00:39.406389900Z"
    }
   },
   "outputs": [
    {
     "data": {
      "text/plain": "<Figure size 600x600 with 1 Axes>",
      "image/png": "[encoded data removed]"
     },
     "metadata": {},
     "output_type": "display_data"
    }
   ],
   "source": [
    "# let's see the training and validation accuracy by epoch\n",
    "history_dict = history.history\n",
    "loss_values = history_dict['loss'] # you can change this\n",
    "val_loss_values = history_dict['val_loss'] # you can also change this\n",
    "epochs = range(1, len(loss_values) + 1) # range of X (no. of epochs)\n",
    "\n",
    "# Set global font to Times New Roman and font size\n",
    "plt.rcParams['font.family'] = 'serif'\n",
    "plt.rcParams['font.serif'] = ['Times New Roman']\n",
    "plt.rcParams['font.size'] = 20\n",
    "\n",
    "# Create a plot\n",
    "plt.figure(figsize=(6, 6))\n",
    "plt.plot(epochs, loss_values, 'blue', label='Train set')\n",
    "plt.plot(epochs, val_loss_values, 'orange', label='Validation set')\n",
    "#plt.title('Training and testing loss')\n",
    "\n",
    "\n",
    "plt.xlabel('Epochs')\n",
    "plt.ylabel('Loss (MSE)')\n",
    "plt.legend()\n",
    "plt.savefig('Section1_ANN4_2.png', dpi=200, bbox_inches='tight')\n",
    "plt.show()"
   ]
  },
  {
   "cell_type": "code",
   "execution_count": 23,
   "metadata": {
    "ExecuteTime": {
     "end_time": "2024-08-21T04:00:40.504205400Z",
     "start_time": "2024-08-21T04:00:39.971688Z"
    }
   },
   "outputs": [
    {
     "data": {
      "text/plain": "<Figure size 600x600 with 1 Axes>",
      "image/png": "[encoded data removed]"
     },
     "metadata": {},
     "output_type": "display_data"
    }
   ],
   "source": [
    "loss_values1 = history_dict['mae'] # you can change this\n",
    "val_loss_values1 = history_dict['val_mae'] # you can also change this\n",
    "epochs = range(1, len(loss_values1) + 1) # range of X (no. of epochs)\n",
    "# Create a plot\n",
    "plt.figure(figsize=(6, 6))\n",
    "plt.plot(epochs, loss_values1, 'blue', label='Train set')\n",
    "plt.plot(epochs, val_loss_values1, 'orange', label='Validation set')\n",
    "#plt.title('Training and testing MAE')\n",
    "plt.xlabel('Epochs')\n",
    "plt.ylabel('MAE (kPa)')\n",
    "plt.legend()\n",
    "plt.savefig('Section1_ANN4_3.png', dpi=200, bbox_inches='tight')\n",
    "plt.show()"
   ]
  },
  {
   "cell_type": "code",
   "execution_count": 24,
   "metadata": {
    "ExecuteTime": {
     "end_time": "2024-08-21T04:00:42.959583600Z",
     "start_time": "2024-08-21T04:00:40.504205400Z"
    }
   },
   "outputs": [
    {
     "name": "stdout",
     "output_type": "stream",
     "text": [
      "INFO:tensorflow:Assets written to: Section1_new3_ANN_4\\assets\n"
     ]
    }
   ],
   "source": [
    "ann.save('Section1_new3_ANN_4')\n",
    "import pickle\n",
    "pickle.dump(sc, open('Section1_new3_scaler_ANN_4.pkl', 'wb'))"
   ]
  },
  {
   "cell_type": "markdown",
   "metadata": {},
   "source": [
    "## Part 5 - Make predictions"
   ]
  },
  {
   "cell_type": "code",
   "execution_count": 25,
   "metadata": {
    "ExecuteTime": {
     "end_time": "2024-08-21T04:00:48.968741300Z",
     "start_time": "2024-08-21T04:00:42.964584100Z"
    }
   },
   "outputs": [
    {
     "name": "stdout",
     "output_type": "stream",
     "text": [
      "1042/1042 [==============================] - 3s 3ms/step\n",
      "348/348 [==============================] - 1s 3ms/step\n"
     ]
    },
    {
     "data": {
      "text/plain": "<Figure size 640x480 with 2 Axes>",
      "image/png": "[encoded data removed]"
     },
     "metadata": {},
     "output_type": "display_data"
    }
   ],
   "source": [
    "# scatterplot of actual vs. pred\n",
    "# specify the dimensions \n",
    "fig, axes = plt.subplots(1,2) # 1 row, 2 columns\n",
    "\n",
    "# this makes the individual subplots\n",
    "# Training Results\n",
    "axes[0].scatter(x=y_train, y=ann.predict(X_train)) #first row, first entry (left top)\n",
    "axes[0].set_xlabel(\"Actual\", fontsize=20)\n",
    "axes[0].set_ylabel(\"Predicted\",  fontsize=20)\n",
    "axes[0].set_title(\"Training\")\n",
    "# add 45 deg line\n",
    "x = np.linspace(*axes[0].get_xlim())\n",
    "axes[0].plot(x, x, color='red')\n",
    "# Validation Results\n",
    "axes[1].scatter(x=y_val, y=ann.predict(X_val)) # first row, second entry (right top)\n",
    "axes[1].set_xlabel(\"Actual\", fontsize=20)\n",
    "axes[1].set_ylabel(\"Predicted\",  fontsize=20)\n",
    "axes[1].set_title(\"Validation\")\n",
    "# add 45 deg line\n",
    "x = np.linspace(*axes[1].get_xlim())\n",
    "axes[1].plot(x, x, color='red')\n",
    "\n",
    "# tight layout\n",
    "fig.tight_layout()\n",
    "\n",
    "plt.savefig('Section1_ANN4_1.png', dpi=200, bbox_inches='tight')\n",
    "# show the plot\n",
    "plt.show()"
   ]
  },
  {
   "cell_type": "code",
   "execution_count": 26,
   "metadata": {
    "colab": {
     "base_uri": "https://localhost:8080/",
     "height": 134
    },
    "colab_type": "code",
    "id": "IA0yApEmBG1X",
    "outputId": "cb981e1f-9204-4a2a-fece-9d66a6919189",
    "ExecuteTime": {
     "end_time": "2024-08-21T04:00:50.176772600Z",
     "start_time": "2024-08-21T04:00:48.967727900Z"
    }
   },
   "outputs": [
    {
     "name": "stdout",
     "output_type": "stream",
     "text": [
      "348/348 [==============================] - 1s 3ms/step\n",
      "[[ 8.36e+03  8.65e+03]\n",
      " [ 1.02e+02  1.84e+02]\n",
      " [ 5.15e+02  5.02e+02]\n",
      " ...\n",
      " [ 2.08e+01  4.37e+00]\n",
      " [-6.53e+01 -6.46e+01]\n",
      " [ 5.69e+01  7.16e+01]]\n"
     ]
    }
   ],
   "source": [
    "y_pred = ann.predict(X_test)\n",
    "np.set_printoptions(precision=2)\n",
    "print(np.concatenate((y_pred.reshape(len(y_pred),1), y_test.reshape(len(y_test),1)),1))"
   ]
  },
  {
   "cell_type": "code",
   "execution_count": 27,
   "metadata": {
    "ExecuteTime": {
     "end_time": "2024-08-21T04:00:50.388463700Z",
     "start_time": "2024-08-21T04:00:50.160241300Z"
    }
   },
   "outputs": [
    {
     "data": {
      "text/plain": "Text(0, 0.5, 'Predicted data')"
     },
     "execution_count": 27,
     "metadata": {},
     "output_type": "execute_result"
    },
    {
     "data": {
      "text/plain": "<Figure size 640x480 with 1 Axes>",
      "image/png": "[encoded data removed]"
     },
     "metadata": {},
     "output_type": "display_data"
    }
   ],
   "source": [
    "import matplotlib.pyplot as plt\n",
    "plt.scatter(y_test, y_pred, color=\"blue\")\n",
    "plt.xlabel ('Actual data')\n",
    "plt.ylabel ('Predicted data')"
   ]
  },
  {
   "cell_type": "code",
   "execution_count": 28,
   "metadata": {
    "ExecuteTime": {
     "end_time": "2024-08-21T04:00:51.011726300Z",
     "start_time": "2024-08-21T04:00:50.392981900Z"
    }
   },
   "outputs": [
    {
     "data": {
      "text/plain": "<Figure size 600x600 with 1 Axes>",
      "image/png": "[encoded data removed]"
     },
     "metadata": {},
     "output_type": "display_data"
    }
   ],
   "source": [
    "from sklearn.metrics import r2_score\n",
    "# Initialize layout\n",
    "fig1, ax1 = plt.subplots(figsize = (6, 6))\n",
    "\n",
    "# Set global font to Times New Roman and font size\n",
    "plt.rcParams['font.family'] = 'serif'\n",
    "plt.rcParams['font.serif'] = ['Times New Roman']\n",
    "plt.rcParams['font.size'] = 20\n",
    "\n",
    "b_l = -1000\n",
    "u_l = 25000\n",
    "\n",
    "# Add scatterplot\n",
    "ax1.scatter(y_test, y_pred, s=70, alpha=1, edgecolors=\"k\",c='mediumblue',zorder=5, label = 'Points')\n",
    "\n",
    "\n",
    "plt.ylabel('Predicted Reflected Overpressure (kPa)')\n",
    "plt.xlabel('Target Reflected Overpressure (kPa)')\n",
    "plt.xticks(fontsize = 19)\n",
    "plt.yticks(fontsize = 19)\n",
    "\n",
    "\n",
    "x1 = np.linspace(b_l, u_l)\n",
    "\n",
    "plt.plot(x1, x1, 'Red', label='45\\N{DEGREE SIGN} line',lw=2.5,alpha=1)\n",
    "#plt.plot(x1, 1.05*x1, '--m', label='\\u00B15% Error',lw=2.5,alpha=0.7)\n",
    "#plt.plot(x1, 0.95*x1,'m', linestyle='--',lw=2.5,alpha=0.7)\n",
    "#plt.plot(x1, 1.1*x1, '-.g', label='\\u00B110% Error',lw=2.5,alpha=0.7)\n",
    "#plt.plot(x1, 0.9*x1,'-.g',lw=2.5,alpha=0.7)\n",
    "#plt.plot(x1, 1.2*x1, color = '#F97306', linestyle='dotted', label='\\u00B120% Error',lw=2.5,alpha=0.7)\n",
    "#plt.plot(x1, 0.8*x1,color = '#F97306', linestyle='dotted', lw=2.5,alpha=0.7)\n",
    "\n",
    "plt.ylim(b_l, u_l)\n",
    "plt.xlim(b_l, u_l)\n",
    "plt.legend(loc='upper center', bbox_to_anchor=(0.5, -0.15), ncol=4, frameon = False, fontsize = 20)\n",
    "\n",
    "#plt.grid()\n",
    "\n",
    "ax1.spines['left'].set_color('black')        # setting up Y-axis tick color to red\n",
    "ax1.spines['bottom'].set_color('black')         #setting up above X-axis tick color to red\n",
    "\n",
    "plt.savefig('Section1_ANN4.png', dpi=200, bbox_inches='tight')"
   ]
  },
  {
   "cell_type": "code",
   "execution_count": 29,
   "metadata": {
    "ExecuteTime": {
     "end_time": "2024-08-21T04:00:54.469985500Z",
     "start_time": "2024-08-21T04:00:51.016244300Z"
    }
   },
   "outputs": [
    {
     "name": "stdout",
     "output_type": "stream",
     "text": [
      "1042/1042 [==============================] - 3s 3ms/step\n",
      "55.785335359757795\n",
      "54.8676039213463\n"
     ]
    }
   ],
   "source": [
    "# metrics\n",
    "trainpreds = ann.predict(X_train)\n",
    "\n",
    "from sklearn.metrics import mean_absolute_error\n",
    "print(mean_absolute_error(y_train, trainpreds)) # train\n",
    "print(mean_absolute_error(y_test, y_pred)) # test"
   ]
  },
  {
   "cell_type": "code",
   "execution_count": 30,
   "metadata": {
    "ExecuteTime": {
     "end_time": "2024-08-21T04:00:54.487512400Z",
     "start_time": "2024-08-21T04:00:54.469985500Z"
    }
   },
   "outputs": [
    {
     "name": "stdout",
     "output_type": "stream",
     "text": [
      "0.990474037683669\n"
     ]
    }
   ],
   "source": [
    "from sklearn.metrics import r2_score\n",
    "r2 = r2_score(y_test, y_pred)\n",
    "print (r2)"
   ]
  },
  {
   "cell_type": "code",
   "execution_count": 31,
   "metadata": {
    "ExecuteTime": {
     "end_time": "2024-08-21T04:00:54.672687800Z",
     "start_time": "2024-08-21T04:00:54.485513400Z"
    }
   },
   "outputs": [
    {
     "name": "stdout",
     "output_type": "stream",
     "text": [
      "0.9916221042782883\n"
     ]
    }
   ],
   "source": [
    "r2_train = r2_score(y_train, trainpreds)\n",
    "print (r2_train)"
   ]
  },
  {
   "cell_type": "code",
   "execution_count": 32,
   "metadata": {
    "ExecuteTime": {
     "end_time": "2024-08-21T04:00:55.849958200Z",
     "start_time": "2024-08-21T04:00:54.673684900Z"
    }
   },
   "outputs": [
    {
     "name": "stdout",
     "output_type": "stream",
     "text": [
      "Within 5% margin 15.85%\n",
      "Within 10% margin 28.59%\n",
      "Within 20% margin 41.32%\n",
      "Out of 20% margin 58.68%\n"
     ]
    }
   ],
   "source": [
    "count0 = 0\n",
    "for i in range(len(y_pred)):\n",
    "    line1 = y_pred[i] - 0.95*y_test[i]\n",
    "    line2 = y_pred[i] - 1.05*y_test[i]\n",
    "    mask0 = (line1 > 0) & (line2 < 0)\n",
    "    count0 = np.sum(mask0+count0)\n",
    "\n",
    "count1 = 0\n",
    "for i in range(len(y_pred)):\n",
    "    line1 = y_pred[i] - 0.9*y_test[i]\n",
    "    line2 = y_pred[i] - 1.1*y_test[i]\n",
    "    mask1 = (line1 > 0) & (line2 < 0)\n",
    "    count1 = np.sum(mask1+count1)\n",
    "\n",
    "count2 = 0\n",
    "for j in range(len(y_pred)):\n",
    "    line3 = y_pred[j] - 0.8*y_test[j]\n",
    "    line4 = y_pred[j] - 1.2*y_test[j]\n",
    "    mask2 = (line3 > 0) & (line4 < 0)\n",
    "    count2 = np.sum(mask2+count2)\n",
    "\n",
    "\n",
    "count3 = 0    \n",
    "for k in range(len(y_pred)):\n",
    "    line5 = y_pred[k] - 0.8*y_test[k]\n",
    "    line6 = y_pred[k] - 1.2*y_test[k]\n",
    "    mask3 = (line5 < 0) or (line6 > 0)\n",
    "    count3 = np.sum(mask3+count3)\n",
    "   \n",
    "\n",
    "print ('Within 5% margin', format((count0/len (y_pred)),'.2%'))\n",
    "print ('Within 10% margin', format((count1/len (y_pred)),'.2%'))\n",
    "print ('Within 20% margin', format((count2/len (y_pred)),'.2%'))\n",
    "print ('Out of 20% margin', format((count3/len (y_pred)),'.2%'))"
   ]
  },
  {
   "cell_type": "code",
   "execution_count": 33,
   "metadata": {
    "ExecuteTime": {
     "end_time": "2024-08-21T04:00:55.849958200Z",
     "start_time": "2024-08-21T04:00:55.847956700Z"
    }
   },
   "outputs": [
    {
     "name": "stdout",
     "output_type": "stream",
     "text": [
      "0.9904688908332505\n"
     ]
    }
   ],
   "source": [
    "adj_r2 = 1 - ((1 - r2) * (len(X_test) - 1) / (len(X_test) - len (X_test[0]) - 1))\n",
    "print (adj_r2)"
   ]
  },
  {
   "cell_type": "code",
   "execution_count": 34,
   "metadata": {
    "ExecuteTime": {
     "end_time": "2024-08-21T04:00:56.001606900Z",
     "start_time": "2024-08-21T04:00:55.847956700Z"
    }
   },
   "outputs": [
    {
     "data": {
      "text/plain": "186.3093305119331"
     },
     "execution_count": 34,
     "metadata": {},
     "output_type": "execute_result"
    }
   ],
   "source": [
    "import math\n",
    "from sklearn.metrics import mean_squared_error\n",
    "\n",
    "math.sqrt(mean_squared_error(y_test, y_pred))"
   ]
  },
  {
   "cell_type": "code",
   "execution_count": 35,
   "metadata": {
    "ExecuteTime": {
     "end_time": "2024-08-21T04:00:56.199337400Z",
     "start_time": "2024-08-21T04:00:56.000607300Z"
    }
   },
   "outputs": [
    {
     "data": {
      "text/plain": "54.8676039213463"
     },
     "execution_count": 35,
     "metadata": {},
     "output_type": "execute_result"
    }
   ],
   "source": [
    "from sklearn.metrics import mean_absolute_error\n",
    "\n",
    "mean_absolute_error(y_test, y_pred)"
   ]
  }
 ],
 "metadata": {
  "colab": {
   "collapsed_sections": [],
   "name": "Artificial Neural Network",
   "provenance": [],
   "toc_visible": true
  },
  "kernelspec": {
   "display_name": "Python 3 (ipykernel)",
   "language": "python",
   "name": "python3"
  },
  "language_info": {
   "codemirror_mode": {
    "name": "ipython",
    "version": 3
   },
   "file_extension": ".py",
   "mimetype": "text/x-python",
   "name": "python",
   "nbconvert_exporter": "python",
   "pygments_lexer": "ipython3",
   "version": "3.9.7"
  }
 },
 "nbformat": 4,
 "nbformat_minor": 4
}
