{
 "cells": [
  {
   "cell_type": "markdown",
   "metadata": {
    "colab_type": "text",
    "id": "3cbb7fRy-eyr"
   },
   "source": [
    "# Artificial Neural Network"
   ]
  },
  {
   "cell_type": "markdown",
   "source": [
    "## Part 1 - Importing the libraries"
   ],
   "metadata": {
    "collapsed": false
   }
  },
  {
   "cell_type": "code",
   "execution_count": 1,
   "metadata": {
    "colab": {},
    "colab_type": "code",
    "id": "lxChR1Rk-umf",
    "ExecuteTime": {
     "end_time": "2024-08-21T02:39:00.153941100Z",
     "start_time": "2024-08-21T02:38:54.077588800Z"
    }
   },
   "outputs": [],
   "source": [
    "import numpy as np\n",
    "import pandas as pd\n",
    "import tensorflow as tf\n",
    "import matplotlib.pyplot as plt\n",
    "from keras.models import load_model\n",
    "from pathlib import Path\n",
    "import pickle"
   ]
  },
  {
   "cell_type": "markdown",
   "metadata": {
    "colab_type": "text",
    "id": "AG3FQEch-yuA"
   },
   "source": [
    "## Part 2 - Data Preprocessing"
   ]
  },
  {
   "cell_type": "code",
   "execution_count": 2,
   "metadata": {
    "ExecuteTime": {
     "end_time": "2024-08-21T02:39:00.169960800Z",
     "start_time": "2024-08-21T02:39:00.159945800Z"
    }
   },
   "outputs": [
    {
     "name": "stdout",
     "output_type": "stream",
     "text": [
      "input G:\\Chamodi\\LSDYNA3D\\RP_TH_models\\RP_Section_1_new3\n",
      "2 [WindowsPath('G:/Chamodi/LSDYNA3D/RP_TH_models/RP_Section_1_new3/1.50m'), WindowsPath('G:/Chamodi/LSDYNA3D/RP_TH_models/RP_Section_1_new3/1.75m'), WindowsPath('G:/Chamodi/LSDYNA3D/RP_TH_models/RP_Section_1_new3/2.00m'), WindowsPath('G:/Chamodi/LSDYNA3D/RP_TH_models/RP_Section_1_new3/2.25m'), WindowsPath('G:/Chamodi/LSDYNA3D/RP_TH_models/RP_Section_1_new3/2.50m'), WindowsPath('G:/Chamodi/LSDYNA3D/RP_TH_models/RP_Section_1_new3/2.75m'), WindowsPath('G:/Chamodi/LSDYNA3D/RP_TH_models/RP_Section_1_new3/3.00m')]\n"
     ]
    }
   ],
   "source": [
    "#Access input folder\n",
    "current_dir = Path.cwd()\n",
    "input_dir1 = Path (\"G:/Chamodi/LSDYNA3D/RP_TH_models/RP_Section_1_new3\")\n",
    "print (\"input\",input_dir1)\n",
    "\n",
    "#Access folders inside input folder\n",
    "input_dir2=  [folder1 for folder1 in input_dir1.iterdir() if folder1.is_dir()] # folder1 - RP_curves_fr7m\n",
    "print (\"2\",input_dir2)"
   ]
  },
  {
   "cell_type": "code",
   "execution_count": 3,
   "metadata": {
    "ExecuteTime": {
     "end_time": "2024-08-21T02:39:12.566426300Z",
     "start_time": "2024-08-21T02:39:00.171954800Z"
    }
   },
   "outputs": [
    {
     "name": "stdout",
     "output_type": "stream",
     "text": [
      "folder G:\\Chamodi\\LSDYNA3D\\RP_TH_models\\RP_Section_1_new3\\1.50m\\1.50m00.5kg\n",
      "1\n",
      "2\n",
      "3\n",
      "4\n",
      "folder G:\\Chamodi\\LSDYNA3D\\RP_TH_models\\RP_Section_1_new3\\1.50m\\1.50m02.5kg\n",
      "1\n",
      "2\n",
      "3\n",
      "4\n",
      "folder G:\\Chamodi\\LSDYNA3D\\RP_TH_models\\RP_Section_1_new3\\1.50m\\1.50m04.5kg\n",
      "1\n",
      "2\n",
      "3\n",
      "4\n",
      "folder G:\\Chamodi\\LSDYNA3D\\RP_TH_models\\RP_Section_1_new3\\1.50m\\1.50m06.5kg\n",
      "1\n",
      "2\n",
      "3\n",
      "4\n",
      "folder G:\\Chamodi\\LSDYNA3D\\RP_TH_models\\RP_Section_1_new3\\1.50m\\1.50m08.5kg\n",
      "1\n",
      "2\n",
      "3\n",
      "4\n",
      "folder G:\\Chamodi\\LSDYNA3D\\RP_TH_models\\RP_Section_1_new3\\1.50m\\1.50m10.5kg\n",
      "1\n",
      "2\n",
      "3\n",
      "4\n",
      "folder G:\\Chamodi\\LSDYNA3D\\RP_TH_models\\RP_Section_1_new3\\1.50m\\1.50m12.5kg\n",
      "1\n",
      "2\n",
      "3\n",
      "4\n",
      "folder G:\\Chamodi\\LSDYNA3D\\RP_TH_models\\RP_Section_1_new3\\1.50m\\1.50m14.5kg\n",
      "1\n",
      "2\n",
      "3\n",
      "4\n",
      "folder G:\\Chamodi\\LSDYNA3D\\RP_TH_models\\RP_Section_1_new3\\1.50m\\1.50m16.5kg\n",
      "1\n",
      "2\n",
      "3\n",
      "4\n",
      "folder G:\\Chamodi\\LSDYNA3D\\RP_TH_models\\RP_Section_1_new3\\1.50m\\1.50m18.5kg\n",
      "1\n",
      "2\n",
      "3\n",
      "4\n",
      "folder G:\\Chamodi\\LSDYNA3D\\RP_TH_models\\RP_Section_1_new3\\1.50m\\1.50m20.5kg\n",
      "1\n",
      "2\n",
      "3\n",
      "4\n",
      "folder G:\\Chamodi\\LSDYNA3D\\RP_TH_models\\RP_Section_1_new3\\1.50m\\1.50m22.5kg\n",
      "1\n",
      "2\n",
      "3\n",
      "4\n",
      "folder G:\\Chamodi\\LSDYNA3D\\RP_TH_models\\RP_Section_1_new3\\1.50m\\1.50m24.5kg\n",
      "1\n",
      "2\n",
      "3\n",
      "4\n",
      "folder G:\\Chamodi\\LSDYNA3D\\RP_TH_models\\RP_Section_1_new3\\1.50m\\1.50m26.5kg\n",
      "1\n",
      "2\n",
      "3\n",
      "4\n",
      "folder G:\\Chamodi\\LSDYNA3D\\RP_TH_models\\RP_Section_1_new3\\1.50m\\1.50m28.5kg\n",
      "1\n",
      "2\n",
      "3\n",
      "4\n",
      "folder G:\\Chamodi\\LSDYNA3D\\RP_TH_models\\RP_Section_1_new3\\1.50m\\1.50m30.5kg\n",
      "1\n",
      "2\n",
      "3\n",
      "4\n",
      "folder G:\\Chamodi\\LSDYNA3D\\RP_TH_models\\RP_Section_1_new3\\1.50m\\1.50m32.5kg\n",
      "1\n",
      "2\n",
      "3\n",
      "4\n",
      "folder G:\\Chamodi\\LSDYNA3D\\RP_TH_models\\RP_Section_1_new3\\1.50m\\1.50m34.5kg\n",
      "1\n",
      "2\n",
      "3\n",
      "4\n",
      "folder G:\\Chamodi\\LSDYNA3D\\RP_TH_models\\RP_Section_1_new3\\1.50m\\1.50m35.0kg\n",
      "1\n",
      "2\n",
      "3\n",
      "4\n",
      "folder G:\\Chamodi\\LSDYNA3D\\RP_TH_models\\RP_Section_1_new3\\1.75m\\1.75m00.5kg\n",
      "1\n",
      "2\n",
      "3\n",
      "4\n",
      "folder G:\\Chamodi\\LSDYNA3D\\RP_TH_models\\RP_Section_1_new3\\1.75m\\1.75m02.5kg\n",
      "1\n",
      "2\n",
      "3\n",
      "4\n",
      "folder G:\\Chamodi\\LSDYNA3D\\RP_TH_models\\RP_Section_1_new3\\1.75m\\1.75m04.5kg\n",
      "1\n",
      "2\n",
      "3\n",
      "4\n",
      "folder G:\\Chamodi\\LSDYNA3D\\RP_TH_models\\RP_Section_1_new3\\1.75m\\1.75m06.5kg\n",
      "1\n",
      "2\n",
      "3\n",
      "4\n",
      "folder G:\\Chamodi\\LSDYNA3D\\RP_TH_models\\RP_Section_1_new3\\1.75m\\1.75m08.5kg\n",
      "1\n",
      "2\n",
      "3\n",
      "4\n",
      "folder G:\\Chamodi\\LSDYNA3D\\RP_TH_models\\RP_Section_1_new3\\1.75m\\1.75m10.5kg\n",
      "1\n",
      "2\n",
      "3\n",
      "4\n",
      "folder G:\\Chamodi\\LSDYNA3D\\RP_TH_models\\RP_Section_1_new3\\1.75m\\1.75m12.5kg\n",
      "1\n",
      "2\n",
      "3\n",
      "4\n",
      "folder G:\\Chamodi\\LSDYNA3D\\RP_TH_models\\RP_Section_1_new3\\1.75m\\1.75m14.5kg\n",
      "1\n",
      "2\n",
      "3\n",
      "4\n",
      "folder G:\\Chamodi\\LSDYNA3D\\RP_TH_models\\RP_Section_1_new3\\1.75m\\1.75m16.5kg\n",
      "1\n",
      "2\n",
      "3\n",
      "4\n",
      "folder G:\\Chamodi\\LSDYNA3D\\RP_TH_models\\RP_Section_1_new3\\1.75m\\1.75m18.5kg\n",
      "1\n",
      "2\n",
      "3\n",
      "4\n",
      "folder G:\\Chamodi\\LSDYNA3D\\RP_TH_models\\RP_Section_1_new3\\1.75m\\1.75m20.5kg\n",
      "1\n",
      "2\n",
      "3\n",
      "4\n",
      "folder G:\\Chamodi\\LSDYNA3D\\RP_TH_models\\RP_Section_1_new3\\1.75m\\1.75m22.5kg\n",
      "1\n",
      "2\n",
      "3\n",
      "4\n",
      "folder G:\\Chamodi\\LSDYNA3D\\RP_TH_models\\RP_Section_1_new3\\1.75m\\1.75m24.5kg\n",
      "1\n",
      "2\n",
      "3\n",
      "4\n",
      "folder G:\\Chamodi\\LSDYNA3D\\RP_TH_models\\RP_Section_1_new3\\1.75m\\1.75m26.5kg\n",
      "1\n",
      "2\n",
      "3\n",
      "4\n",
      "folder G:\\Chamodi\\LSDYNA3D\\RP_TH_models\\RP_Section_1_new3\\1.75m\\1.75m28.5kg\n",
      "1\n",
      "2\n",
      "3\n",
      "4\n",
      "folder G:\\Chamodi\\LSDYNA3D\\RP_TH_models\\RP_Section_1_new3\\1.75m\\1.75m30.5kg\n",
      "1\n",
      "2\n",
      "3\n",
      "4\n",
      "folder G:\\Chamodi\\LSDYNA3D\\RP_TH_models\\RP_Section_1_new3\\1.75m\\1.75m32.5kg\n",
      "1\n",
      "2\n",
      "3\n",
      "4\n",
      "folder G:\\Chamodi\\LSDYNA3D\\RP_TH_models\\RP_Section_1_new3\\1.75m\\1.75m34.5kg\n",
      "1\n",
      "2\n",
      "3\n",
      "4\n",
      "folder G:\\Chamodi\\LSDYNA3D\\RP_TH_models\\RP_Section_1_new3\\1.75m\\1.75m35.0kg\n",
      "1\n",
      "2\n",
      "3\n",
      "4\n",
      "folder G:\\Chamodi\\LSDYNA3D\\RP_TH_models\\RP_Section_1_new3\\2.00m\\2.00m00.5kg\n",
      "1\n",
      "2\n",
      "3\n",
      "4\n",
      "folder G:\\Chamodi\\LSDYNA3D\\RP_TH_models\\RP_Section_1_new3\\2.00m\\2.00m02.5kg\n",
      "1\n",
      "2\n",
      "3\n",
      "4\n",
      "folder G:\\Chamodi\\LSDYNA3D\\RP_TH_models\\RP_Section_1_new3\\2.00m\\2.00m04.5kg\n",
      "1\n",
      "2\n",
      "3\n",
      "4\n",
      "folder G:\\Chamodi\\LSDYNA3D\\RP_TH_models\\RP_Section_1_new3\\2.00m\\2.00m06.5kg\n",
      "1\n",
      "2\n",
      "3\n",
      "4\n",
      "folder G:\\Chamodi\\LSDYNA3D\\RP_TH_models\\RP_Section_1_new3\\2.00m\\2.00m08.5kg\n",
      "1\n",
      "2\n",
      "3\n",
      "4\n",
      "folder G:\\Chamodi\\LSDYNA3D\\RP_TH_models\\RP_Section_1_new3\\2.00m\\2.00m10.5kg\n",
      "1\n",
      "2\n",
      "3\n",
      "4\n",
      "folder G:\\Chamodi\\LSDYNA3D\\RP_TH_models\\RP_Section_1_new3\\2.00m\\2.00m12.5kg\n",
      "1\n",
      "2\n",
      "3\n",
      "4\n",
      "folder G:\\Chamodi\\LSDYNA3D\\RP_TH_models\\RP_Section_1_new3\\2.00m\\2.00m14.5kg\n",
      "1\n",
      "2\n",
      "3\n",
      "4\n",
      "folder G:\\Chamodi\\LSDYNA3D\\RP_TH_models\\RP_Section_1_new3\\2.00m\\2.00m16.5kg\n",
      "1\n",
      "2\n",
      "3\n",
      "4\n",
      "folder G:\\Chamodi\\LSDYNA3D\\RP_TH_models\\RP_Section_1_new3\\2.00m\\2.00m18.5kg\n",
      "1\n",
      "2\n",
      "3\n",
      "4\n",
      "folder G:\\Chamodi\\LSDYNA3D\\RP_TH_models\\RP_Section_1_new3\\2.00m\\2.00m20.5kg\n",
      "1\n",
      "2\n",
      "3\n",
      "4\n",
      "folder G:\\Chamodi\\LSDYNA3D\\RP_TH_models\\RP_Section_1_new3\\2.00m\\2.00m22.5kg\n",
      "1\n",
      "2\n",
      "3\n",
      "4\n",
      "folder G:\\Chamodi\\LSDYNA3D\\RP_TH_models\\RP_Section_1_new3\\2.00m\\2.00m24.5kg\n",
      "1\n",
      "2\n",
      "3\n",
      "4\n",
      "folder G:\\Chamodi\\LSDYNA3D\\RP_TH_models\\RP_Section_1_new3\\2.00m\\2.00m26.5kg\n",
      "1\n",
      "2\n",
      "3\n",
      "4\n",
      "folder G:\\Chamodi\\LSDYNA3D\\RP_TH_models\\RP_Section_1_new3\\2.00m\\2.00m28.5kg\n",
      "1\n",
      "2\n",
      "3\n",
      "4\n",
      "folder G:\\Chamodi\\LSDYNA3D\\RP_TH_models\\RP_Section_1_new3\\2.00m\\2.00m30.5kg\n",
      "1\n",
      "2\n",
      "3\n",
      "4\n",
      "folder G:\\Chamodi\\LSDYNA3D\\RP_TH_models\\RP_Section_1_new3\\2.00m\\2.00m32.5kg\n",
      "1\n",
      "2\n",
      "3\n",
      "4\n",
      "folder G:\\Chamodi\\LSDYNA3D\\RP_TH_models\\RP_Section_1_new3\\2.00m\\2.00m34.5kg\n",
      "1\n",
      "2\n",
      "3\n",
      "4\n",
      "folder G:\\Chamodi\\LSDYNA3D\\RP_TH_models\\RP_Section_1_new3\\2.00m\\2.00m35.0kg\n",
      "1\n",
      "2\n",
      "3\n",
      "4\n",
      "folder G:\\Chamodi\\LSDYNA3D\\RP_TH_models\\RP_Section_1_new3\\2.25m\\2.25m00.5kg\n",
      "1\n",
      "2\n",
      "3\n",
      "4\n",
      "folder G:\\Chamodi\\LSDYNA3D\\RP_TH_models\\RP_Section_1_new3\\2.25m\\2.25m02.5kg\n",
      "1\n",
      "2\n",
      "3\n",
      "4\n",
      "folder G:\\Chamodi\\LSDYNA3D\\RP_TH_models\\RP_Section_1_new3\\2.25m\\2.25m04.5kg\n",
      "1\n",
      "2\n",
      "3\n",
      "4\n",
      "folder G:\\Chamodi\\LSDYNA3D\\RP_TH_models\\RP_Section_1_new3\\2.25m\\2.25m06.5kg\n",
      "1\n",
      "2\n",
      "3\n",
      "4\n",
      "folder G:\\Chamodi\\LSDYNA3D\\RP_TH_models\\RP_Section_1_new3\\2.25m\\2.25m08.5kg\n",
      "1\n",
      "2\n",
      "3\n",
      "4\n",
      "folder G:\\Chamodi\\LSDYNA3D\\RP_TH_models\\RP_Section_1_new3\\2.25m\\2.25m10.5kg\n",
      "1\n",
      "2\n",
      "3\n",
      "4\n",
      "folder G:\\Chamodi\\LSDYNA3D\\RP_TH_models\\RP_Section_1_new3\\2.25m\\2.25m12.5kg\n",
      "1\n",
      "2\n",
      "3\n",
      "4\n",
      "folder G:\\Chamodi\\LSDYNA3D\\RP_TH_models\\RP_Section_1_new3\\2.25m\\2.25m14.5kg\n",
      "1\n",
      "2\n",
      "3\n",
      "4\n",
      "folder G:\\Chamodi\\LSDYNA3D\\RP_TH_models\\RP_Section_1_new3\\2.25m\\2.25m16.5kg\n",
      "1\n",
      "2\n",
      "3\n",
      "4\n",
      "folder G:\\Chamodi\\LSDYNA3D\\RP_TH_models\\RP_Section_1_new3\\2.25m\\2.25m18.5kg\n",
      "1\n",
      "2\n",
      "3\n",
      "4\n",
      "folder G:\\Chamodi\\LSDYNA3D\\RP_TH_models\\RP_Section_1_new3\\2.25m\\2.25m20.5kg\n",
      "1\n",
      "2\n",
      "3\n",
      "4\n",
      "folder G:\\Chamodi\\LSDYNA3D\\RP_TH_models\\RP_Section_1_new3\\2.25m\\2.25m22.5kg\n",
      "1\n",
      "2\n",
      "3\n",
      "4\n",
      "folder G:\\Chamodi\\LSDYNA3D\\RP_TH_models\\RP_Section_1_new3\\2.25m\\2.25m24.5kg\n",
      "1\n",
      "2\n",
      "3\n",
      "4\n",
      "folder G:\\Chamodi\\LSDYNA3D\\RP_TH_models\\RP_Section_1_new3\\2.25m\\2.25m26.5kg\n",
      "1\n",
      "2\n",
      "3\n",
      "4\n",
      "folder G:\\Chamodi\\LSDYNA3D\\RP_TH_models\\RP_Section_1_new3\\2.25m\\2.25m28.5kg\n",
      "1\n",
      "2\n",
      "3\n",
      "4\n",
      "folder G:\\Chamodi\\LSDYNA3D\\RP_TH_models\\RP_Section_1_new3\\2.25m\\2.25m30.5kg\n",
      "1\n",
      "2\n",
      "3\n",
      "4\n",
      "folder G:\\Chamodi\\LSDYNA3D\\RP_TH_models\\RP_Section_1_new3\\2.25m\\2.25m32.5kg\n",
      "1\n",
      "2\n",
      "3\n",
      "4\n",
      "folder G:\\Chamodi\\LSDYNA3D\\RP_TH_models\\RP_Section_1_new3\\2.25m\\2.25m34.5kg\n",
      "1\n",
      "2\n",
      "3\n",
      "4\n",
      "folder G:\\Chamodi\\LSDYNA3D\\RP_TH_models\\RP_Section_1_new3\\2.25m\\2.25m35.0kg\n",
      "1\n",
      "2\n",
      "3\n",
      "4\n",
      "folder G:\\Chamodi\\LSDYNA3D\\RP_TH_models\\RP_Section_1_new3\\2.50m\\2.50m00.5kg\n",
      "1\n",
      "2\n",
      "3\n",
      "4\n",
      "folder G:\\Chamodi\\LSDYNA3D\\RP_TH_models\\RP_Section_1_new3\\2.50m\\2.50m02.5kg\n",
      "1\n",
      "2\n",
      "3\n",
      "4\n",
      "folder G:\\Chamodi\\LSDYNA3D\\RP_TH_models\\RP_Section_1_new3\\2.50m\\2.50m04.5kg\n",
      "1\n",
      "2\n",
      "3\n",
      "4\n",
      "folder G:\\Chamodi\\LSDYNA3D\\RP_TH_models\\RP_Section_1_new3\\2.50m\\2.50m06.5kg\n",
      "1\n",
      "2\n",
      "3\n",
      "4\n",
      "folder G:\\Chamodi\\LSDYNA3D\\RP_TH_models\\RP_Section_1_new3\\2.50m\\2.50m08.5kg\n",
      "1\n",
      "2\n",
      "3\n",
      "4\n",
      "folder G:\\Chamodi\\LSDYNA3D\\RP_TH_models\\RP_Section_1_new3\\2.50m\\2.50m10.5kg\n",
      "1\n",
      "2\n",
      "3\n",
      "4\n",
      "folder G:\\Chamodi\\LSDYNA3D\\RP_TH_models\\RP_Section_1_new3\\2.50m\\2.50m12.5kg\n",
      "1\n",
      "2\n",
      "3\n",
      "4\n",
      "folder G:\\Chamodi\\LSDYNA3D\\RP_TH_models\\RP_Section_1_new3\\2.50m\\2.50m14.5kg\n",
      "1\n",
      "2\n",
      "3\n",
      "4\n",
      "folder G:\\Chamodi\\LSDYNA3D\\RP_TH_models\\RP_Section_1_new3\\2.50m\\2.50m16.5kg\n",
      "1\n",
      "2\n",
      "3\n",
      "4\n",
      "folder G:\\Chamodi\\LSDYNA3D\\RP_TH_models\\RP_Section_1_new3\\2.50m\\2.50m18.5kg\n",
      "1\n",
      "2\n",
      "3\n",
      "4\n",
      "folder G:\\Chamodi\\LSDYNA3D\\RP_TH_models\\RP_Section_1_new3\\2.50m\\2.50m20.5kg\n",
      "1\n",
      "2\n",
      "3\n",
      "4\n",
      "folder G:\\Chamodi\\LSDYNA3D\\RP_TH_models\\RP_Section_1_new3\\2.50m\\2.50m22.5kg\n",
      "1\n",
      "2\n",
      "3\n",
      "4\n",
      "folder G:\\Chamodi\\LSDYNA3D\\RP_TH_models\\RP_Section_1_new3\\2.50m\\2.50m24.5kg\n",
      "1\n",
      "2\n",
      "3\n",
      "4\n",
      "folder G:\\Chamodi\\LSDYNA3D\\RP_TH_models\\RP_Section_1_new3\\2.50m\\2.50m26.5kg\n",
      "1\n",
      "2\n",
      "3\n",
      "4\n",
      "folder G:\\Chamodi\\LSDYNA3D\\RP_TH_models\\RP_Section_1_new3\\2.50m\\2.50m28.5kg\n",
      "1\n",
      "2\n",
      "3\n",
      "4\n",
      "folder G:\\Chamodi\\LSDYNA3D\\RP_TH_models\\RP_Section_1_new3\\2.50m\\2.50m30.5kg\n",
      "1\n",
      "2\n",
      "3\n",
      "4\n",
      "folder G:\\Chamodi\\LSDYNA3D\\RP_TH_models\\RP_Section_1_new3\\2.50m\\2.50m32.5kg\n",
      "1\n",
      "2\n",
      "3\n",
      "4\n",
      "folder G:\\Chamodi\\LSDYNA3D\\RP_TH_models\\RP_Section_1_new3\\2.50m\\2.50m34.5kg\n",
      "1\n",
      "2\n",
      "3\n",
      "4\n",
      "folder G:\\Chamodi\\LSDYNA3D\\RP_TH_models\\RP_Section_1_new3\\2.50m\\2.50m35.0kg\n",
      "1\n",
      "2\n",
      "3\n",
      "4\n",
      "folder G:\\Chamodi\\LSDYNA3D\\RP_TH_models\\RP_Section_1_new3\\2.75m\\2.75m00.5kg\n",
      "1\n",
      "2\n",
      "3\n",
      "4\n",
      "folder G:\\Chamodi\\LSDYNA3D\\RP_TH_models\\RP_Section_1_new3\\2.75m\\2.75m02.5kg\n",
      "1\n",
      "2\n",
      "3\n",
      "4\n",
      "folder G:\\Chamodi\\LSDYNA3D\\RP_TH_models\\RP_Section_1_new3\\2.75m\\2.75m04.5kg\n",
      "1\n",
      "2\n",
      "3\n",
      "4\n",
      "folder G:\\Chamodi\\LSDYNA3D\\RP_TH_models\\RP_Section_1_new3\\2.75m\\2.75m06.5kg\n",
      "1\n",
      "2\n",
      "3\n",
      "4\n",
      "folder G:\\Chamodi\\LSDYNA3D\\RP_TH_models\\RP_Section_1_new3\\2.75m\\2.75m08.5kg\n",
      "1\n",
      "2\n",
      "3\n",
      "4\n",
      "folder G:\\Chamodi\\LSDYNA3D\\RP_TH_models\\RP_Section_1_new3\\2.75m\\2.75m10.5kg\n",
      "1\n",
      "2\n",
      "3\n",
      "4\n",
      "folder G:\\Chamodi\\LSDYNA3D\\RP_TH_models\\RP_Section_1_new3\\2.75m\\2.75m12.5kg\n",
      "1\n",
      "2\n",
      "3\n",
      "4\n",
      "folder G:\\Chamodi\\LSDYNA3D\\RP_TH_models\\RP_Section_1_new3\\2.75m\\2.75m14.5kg\n",
      "1\n",
      "2\n",
      "3\n",
      "4\n",
      "folder G:\\Chamodi\\LSDYNA3D\\RP_TH_models\\RP_Section_1_new3\\2.75m\\2.75m16.5kg\n",
      "1\n",
      "2\n",
      "3\n",
      "4\n",
      "folder G:\\Chamodi\\LSDYNA3D\\RP_TH_models\\RP_Section_1_new3\\2.75m\\2.75m18.5kg\n",
      "1\n",
      "2\n",
      "3\n",
      "4\n",
      "folder G:\\Chamodi\\LSDYNA3D\\RP_TH_models\\RP_Section_1_new3\\2.75m\\2.75m20.5kg\n",
      "1\n",
      "2\n",
      "3\n",
      "4\n",
      "folder G:\\Chamodi\\LSDYNA3D\\RP_TH_models\\RP_Section_1_new3\\2.75m\\2.75m22.5kg\n",
      "1\n",
      "2\n",
      "3\n",
      "4\n",
      "folder G:\\Chamodi\\LSDYNA3D\\RP_TH_models\\RP_Section_1_new3\\2.75m\\2.75m24.5kg\n",
      "1\n",
      "2\n",
      "3\n",
      "4\n",
      "folder G:\\Chamodi\\LSDYNA3D\\RP_TH_models\\RP_Section_1_new3\\2.75m\\2.75m26.5kg\n",
      "1\n",
      "2\n",
      "3\n",
      "4\n",
      "folder G:\\Chamodi\\LSDYNA3D\\RP_TH_models\\RP_Section_1_new3\\2.75m\\2.75m28.5kg\n",
      "1\n",
      "2\n",
      "3\n",
      "4\n",
      "folder G:\\Chamodi\\LSDYNA3D\\RP_TH_models\\RP_Section_1_new3\\2.75m\\2.75m30.5kg\n",
      "1\n",
      "2\n",
      "3\n",
      "4\n",
      "folder G:\\Chamodi\\LSDYNA3D\\RP_TH_models\\RP_Section_1_new3\\2.75m\\2.75m32.5kg\n",
      "1\n",
      "2\n",
      "3\n",
      "4\n",
      "folder G:\\Chamodi\\LSDYNA3D\\RP_TH_models\\RP_Section_1_new3\\2.75m\\2.75m34.5kg\n",
      "1\n",
      "2\n",
      "3\n",
      "4\n",
      "folder G:\\Chamodi\\LSDYNA3D\\RP_TH_models\\RP_Section_1_new3\\2.75m\\2.75m35.0kg\n",
      "1\n",
      "2\n",
      "3\n",
      "4\n",
      "folder G:\\Chamodi\\LSDYNA3D\\RP_TH_models\\RP_Section_1_new3\\3.00m\\3.00m00.5kg\n",
      "1\n",
      "2\n",
      "3\n",
      "4\n",
      "folder G:\\Chamodi\\LSDYNA3D\\RP_TH_models\\RP_Section_1_new3\\3.00m\\3.00m02.5kg\n",
      "1\n",
      "2\n",
      "3\n",
      "4\n",
      "folder G:\\Chamodi\\LSDYNA3D\\RP_TH_models\\RP_Section_1_new3\\3.00m\\3.00m04.5kg\n",
      "1\n",
      "2\n",
      "3\n",
      "4\n",
      "folder G:\\Chamodi\\LSDYNA3D\\RP_TH_models\\RP_Section_1_new3\\3.00m\\3.00m06.5kg\n",
      "1\n",
      "2\n",
      "3\n",
      "4\n",
      "folder G:\\Chamodi\\LSDYNA3D\\RP_TH_models\\RP_Section_1_new3\\3.00m\\3.00m08.5kg\n",
      "1\n",
      "2\n",
      "3\n",
      "4\n",
      "folder G:\\Chamodi\\LSDYNA3D\\RP_TH_models\\RP_Section_1_new3\\3.00m\\3.00m10.5kg\n",
      "1\n",
      "2\n",
      "3\n",
      "4\n",
      "folder G:\\Chamodi\\LSDYNA3D\\RP_TH_models\\RP_Section_1_new3\\3.00m\\3.00m12.5kg\n",
      "1\n",
      "2\n",
      "3\n",
      "4\n",
      "folder G:\\Chamodi\\LSDYNA3D\\RP_TH_models\\RP_Section_1_new3\\3.00m\\3.00m14.5kg\n",
      "1\n",
      "2\n",
      "3\n",
      "4\n",
      "folder G:\\Chamodi\\LSDYNA3D\\RP_TH_models\\RP_Section_1_new3\\3.00m\\3.00m16.5kg\n",
      "1\n",
      "2\n",
      "3\n",
      "4\n",
      "folder G:\\Chamodi\\LSDYNA3D\\RP_TH_models\\RP_Section_1_new3\\3.00m\\3.00m18.5kg\n",
      "1\n",
      "2\n",
      "3\n",
      "4\n",
      "folder G:\\Chamodi\\LSDYNA3D\\RP_TH_models\\RP_Section_1_new3\\3.00m\\3.00m20.5kg\n",
      "1\n",
      "2\n",
      "3\n",
      "4\n",
      "folder G:\\Chamodi\\LSDYNA3D\\RP_TH_models\\RP_Section_1_new3\\3.00m\\3.00m22.5kg\n",
      "1\n",
      "2\n",
      "3\n",
      "4\n",
      "folder G:\\Chamodi\\LSDYNA3D\\RP_TH_models\\RP_Section_1_new3\\3.00m\\3.00m24.5kg\n",
      "1\n",
      "2\n",
      "3\n",
      "4\n",
      "folder G:\\Chamodi\\LSDYNA3D\\RP_TH_models\\RP_Section_1_new3\\3.00m\\3.00m26.5kg\n",
      "1\n",
      "2\n",
      "3\n",
      "4\n",
      "folder G:\\Chamodi\\LSDYNA3D\\RP_TH_models\\RP_Section_1_new3\\3.00m\\3.00m28.5kg\n",
      "1\n",
      "2\n",
      "3\n",
      "4\n",
      "folder G:\\Chamodi\\LSDYNA3D\\RP_TH_models\\RP_Section_1_new3\\3.00m\\3.00m30.5kg\n",
      "1\n",
      "2\n",
      "3\n",
      "4\n",
      "folder G:\\Chamodi\\LSDYNA3D\\RP_TH_models\\RP_Section_1_new3\\3.00m\\3.00m32.5kg\n",
      "1\n",
      "2\n",
      "3\n",
      "4\n",
      "folder G:\\Chamodi\\LSDYNA3D\\RP_TH_models\\RP_Section_1_new3\\3.00m\\3.00m34.5kg\n",
      "1\n",
      "2\n",
      "3\n",
      "4\n",
      "folder G:\\Chamodi\\LSDYNA3D\\RP_TH_models\\RP_Section_1_new3\\3.00m\\3.00m35.0kg\n",
      "1\n",
      "2\n",
      "3\n",
      "4\n"
     ]
    }
   ],
   "source": [
    "#dataset = pd.DataFrame(columns = ['Charge_mass', 'Standoff_distance', 'Time', 'Pressure', 'Phase'])\n",
    "df_list = []\n",
    "\n",
    "for folder1 in input_dir2:\n",
    "    \n",
    "    input_dir3 =  [folder2 for folder2 in folder1.iterdir() if folder2.is_dir()] # folder2 - 07m00.5kg\n",
    "    \n",
    "    for folder2 in input_dir3:\n",
    "        \n",
    "        print ('folder', folder2)\n",
    "        files1 = [file1 for file1 in folder2.rglob(\"*.xlsx\")]\n",
    "    \n",
    "        for file1 in files1:\n",
    "            df_list.append(pd.read_excel(file1))\n",
    "            print (file1.stem)\n",
    "    \n",
    "dataset = pd.concat(df_list, ignore_index = True)"
   ]
  },
  {
   "cell_type": "code",
   "execution_count": 4,
   "metadata": {
    "colab": {},
    "colab_type": "code",
    "id": "B9CV13Co_HHM",
    "ExecuteTime": {
     "end_time": "2024-08-21T02:39:12.603974300Z",
     "start_time": "2024-08-21T02:39:12.563430900Z"
    }
   },
   "outputs": [
    {
     "name": "stdout",
     "output_type": "stream",
     "text": [
      "<class 'pandas.core.frame.DataFrame'>\n",
      "RangeIndex: 55559 entries, 0 to 55558\n",
      "Data columns (total 6 columns):\n",
      " #   Column             Non-Null Count  Dtype  \n",
      "---  ------             --------------  -----  \n",
      " 0   Mass               55559 non-null  float64\n",
      " 1   Standoff distance  55559 non-null  float64\n",
      " 2   Angle              55559 non-null  int64  \n",
      " 3   Time               55559 non-null  float64\n",
      " 4   Phase              55559 non-null  object \n",
      " 5   Pressure           55559 non-null  float64\n",
      "dtypes: float64(4), int64(1), object(1)\n",
      "memory usage: 2.5+ MB\n"
     ]
    }
   ],
   "source": [
    "dataset.info()"
   ]
  },
  {
   "cell_type": "code",
   "execution_count": 5,
   "outputs": [
    {
     "name": "stdout",
     "output_type": "stream",
     "text": [
      "<class 'pandas.core.frame.DataFrame'>\n",
      "RangeIndex: 55559 entries, 0 to 55558\n",
      "Data columns (total 7 columns):\n",
      " #   Column             Non-Null Count  Dtype  \n",
      "---  ------             --------------  -----  \n",
      " 0   Mass               55559 non-null  float64\n",
      " 1   Standoff distance  55559 non-null  float64\n",
      " 2   Angle              55559 non-null  int64  \n",
      " 3   Time               55559 non-null  float64\n",
      " 4   Pressure           55559 non-null  float64\n",
      " 5   Phase_negative     55559 non-null  uint8  \n",
      " 6   Phase_positive     55559 non-null  uint8  \n",
      "dtypes: float64(4), int64(1), uint8(2)\n",
      "memory usage: 2.2 MB\n"
     ]
    }
   ],
   "source": [
    "dataset['Phase'] = dataset['Phase'].replace({'negative_increasing': 'negative', 'negative_decreasing': 'negative'})\n",
    "dataset = pd.get_dummies(dataset, columns =['Phase'], dtype = np.uint8)\n",
    "dataset.info()"
   ],
   "metadata": {
    "collapsed": false,
    "ExecuteTime": {
     "end_time": "2024-08-21T02:39:12.747645700Z",
     "start_time": "2024-08-21T02:39:12.595963600Z"
    }
   }
  },
  {
   "cell_type": "code",
   "execution_count": 6,
   "outputs": [
    {
     "data": {
      "text/plain": "    Mass  Standoff distance  Angle      Time   Pressure  Phase_negative  \\\n0    0.5                1.5      0  1.465171  564.29260               0   \n1    0.5                1.5      0  1.467252  564.05780               0   \n2    0.5                1.5      0  1.469334  563.32560               0   \n3    0.5                1.5      0  1.473498  560.48900               0   \n4    0.5                1.5      0  1.481826  549.75170               0   \n5    0.5                1.5      0  1.517147  472.15140               0   \n6    0.5                1.5      0  1.525413  457.14590               0   \n7    0.5                1.5      0  1.535697  442.17030               0   \n8    0.5                1.5      0  1.558011  415.68570               0   \n9    0.5                1.5      0  1.615291  353.68080               0   \n10   0.5                1.5      0  1.643169  325.25090               0   \n11   0.5                1.5      0  1.665162  305.04660               0   \n12   0.5                1.5      0  1.691183  283.41260               0   \n13   0.5                1.5      0  1.721250  260.57490               0   \n14   0.5                1.5      0  1.753411  238.05300               0   \n15   0.5                1.5      0  1.783647  218.56040               0   \n16   0.5                1.5      0  1.813952  200.67040               0   \n17   0.5                1.5      0  1.844339  184.32260               0   \n18   0.5                1.5      0  1.874821  169.41340               0   \n19   0.5                1.5      0  1.909467  154.01040               0   \n20   0.5                1.5      0  1.948282  138.29660               0   \n21   0.5                1.5      0  1.987262  123.92310               0   \n22   0.5                1.5      0  2.026533  110.79310               0   \n23   0.5                1.5      0  2.068011   98.23788               0   \n24   0.5                1.5      0  2.113112   85.87970               0   \n25   0.5                1.5      0  2.157048   74.99792               0   \n26   0.5                1.5      0  2.203624   64.62081               0   \n27   0.5                1.5      0  2.254955   54.33177               0   \n28   0.5                1.5      0  2.307782   44.76888               0   \n29   0.5                1.5      0  2.360574   36.21905               0   \n\n    Phase_positive  \n0                1  \n1                1  \n2                1  \n3                1  \n4                1  \n5                1  \n6                1  \n7                1  \n8                1  \n9                1  \n10               1  \n11               1  \n12               1  \n13               1  \n14               1  \n15               1  \n16               1  \n17               1  \n18               1  \n19               1  \n20               1  \n21               1  \n22               1  \n23               1  \n24               1  \n25               1  \n26               1  \n27               1  \n28               1  \n29               1  ",
      "text/html": "<div>\n<style scoped>\n    .dataframe tbody tr th:only-of-type {\n        vertical-align: middle;\n    }\n\n    .dataframe tbody tr th {\n        vertical-align: top;\n    }\n\n    .dataframe thead th {\n        text-align: right;\n    }\n</style>\n<table border=\"1\" class=\"dataframe\">\n  <thead>\n    <tr style=\"text-align: right;\">\n      <th></th>\n      <th>Mass</th>\n      <th>Standoff distance</th>\n      <th>Angle</th>\n      <th>Time</th>\n      <th>Pressure</th>\n      <th>Phase_negative</th>\n      <th>Phase_positive</th>\n    </tr>\n  </thead>\n  <tbody>\n    <tr>\n      <th>0</th>\n      <td>0.5</td>\n      <td>1.5</td>\n      <td>0</td>\n      <td>1.465171</td>\n      <td>564.29260</td>\n      <td>0</td>\n      <td>1</td>\n    </tr>\n    <tr>\n      <th>1</th>\n      <td>0.5</td>\n      <td>1.5</td>\n      <td>0</td>\n      <td>1.467252</td>\n      <td>564.05780</td>\n      <td>0</td>\n      <td>1</td>\n    </tr>\n    <tr>\n      <th>2</th>\n      <td>0.5</td>\n      <td>1.5</td>\n      <td>0</td>\n      <td>1.469334</td>\n      <td>563.32560</td>\n      <td>0</td>\n      <td>1</td>\n    </tr>\n    <tr>\n      <th>3</th>\n      <td>0.5</td>\n      <td>1.5</td>\n      <td>0</td>\n      <td>1.473498</td>\n      <td>560.48900</td>\n      <td>0</td>\n      <td>1</td>\n    </tr>\n    <tr>\n      <th>4</th>\n      <td>0.5</td>\n      <td>1.5</td>\n      <td>0</td>\n      <td>1.481826</td>\n      <td>549.75170</td>\n      <td>0</td>\n      <td>1</td>\n    </tr>\n    <tr>\n      <th>5</th>\n      <td>0.5</td>\n      <td>1.5</td>\n      <td>0</td>\n      <td>1.517147</td>\n      <td>472.15140</td>\n      <td>0</td>\n      <td>1</td>\n    </tr>\n    <tr>\n      <th>6</th>\n      <td>0.5</td>\n      <td>1.5</td>\n      <td>0</td>\n      <td>1.525413</td>\n      <td>457.14590</td>\n      <td>0</td>\n      <td>1</td>\n    </tr>\n    <tr>\n      <th>7</th>\n      <td>0.5</td>\n      <td>1.5</td>\n      <td>0</td>\n      <td>1.535697</td>\n      <td>442.17030</td>\n      <td>0</td>\n      <td>1</td>\n    </tr>\n    <tr>\n      <th>8</th>\n      <td>0.5</td>\n      <td>1.5</td>\n      <td>0</td>\n      <td>1.558011</td>\n      <td>415.68570</td>\n      <td>0</td>\n      <td>1</td>\n    </tr>\n    <tr>\n      <th>9</th>\n      <td>0.5</td>\n      <td>1.5</td>\n      <td>0</td>\n      <td>1.615291</td>\n      <td>353.68080</td>\n      <td>0</td>\n      <td>1</td>\n    </tr>\n    <tr>\n      <th>10</th>\n      <td>0.5</td>\n      <td>1.5</td>\n      <td>0</td>\n      <td>1.643169</td>\n      <td>325.25090</td>\n      <td>0</td>\n      <td>1</td>\n    </tr>\n    <tr>\n      <th>11</th>\n      <td>0.5</td>\n      <td>1.5</td>\n      <td>0</td>\n      <td>1.665162</td>\n      <td>305.04660</td>\n      <td>0</td>\n      <td>1</td>\n    </tr>\n    <tr>\n      <th>12</th>\n      <td>0.5</td>\n      <td>1.5</td>\n      <td>0</td>\n      <td>1.691183</td>\n      <td>283.41260</td>\n      <td>0</td>\n      <td>1</td>\n    </tr>\n    <tr>\n      <th>13</th>\n      <td>0.5</td>\n      <td>1.5</td>\n      <td>0</td>\n      <td>1.721250</td>\n      <td>260.57490</td>\n      <td>0</td>\n      <td>1</td>\n    </tr>\n    <tr>\n      <th>14</th>\n      <td>0.5</td>\n      <td>1.5</td>\n      <td>0</td>\n      <td>1.753411</td>\n      <td>238.05300</td>\n      <td>0</td>\n      <td>1</td>\n    </tr>\n    <tr>\n      <th>15</th>\n      <td>0.5</td>\n      <td>1.5</td>\n      <td>0</td>\n      <td>1.783647</td>\n      <td>218.56040</td>\n      <td>0</td>\n      <td>1</td>\n    </tr>\n    <tr>\n      <th>16</th>\n      <td>0.5</td>\n      <td>1.5</td>\n      <td>0</td>\n      <td>1.813952</td>\n      <td>200.67040</td>\n      <td>0</td>\n      <td>1</td>\n    </tr>\n    <tr>\n      <th>17</th>\n      <td>0.5</td>\n      <td>1.5</td>\n      <td>0</td>\n      <td>1.844339</td>\n      <td>184.32260</td>\n      <td>0</td>\n      <td>1</td>\n    </tr>\n    <tr>\n      <th>18</th>\n      <td>0.5</td>\n      <td>1.5</td>\n      <td>0</td>\n      <td>1.874821</td>\n      <td>169.41340</td>\n      <td>0</td>\n      <td>1</td>\n    </tr>\n    <tr>\n      <th>19</th>\n      <td>0.5</td>\n      <td>1.5</td>\n      <td>0</td>\n      <td>1.909467</td>\n      <td>154.01040</td>\n      <td>0</td>\n      <td>1</td>\n    </tr>\n    <tr>\n      <th>20</th>\n      <td>0.5</td>\n      <td>1.5</td>\n      <td>0</td>\n      <td>1.948282</td>\n      <td>138.29660</td>\n      <td>0</td>\n      <td>1</td>\n    </tr>\n    <tr>\n      <th>21</th>\n      <td>0.5</td>\n      <td>1.5</td>\n      <td>0</td>\n      <td>1.987262</td>\n      <td>123.92310</td>\n      <td>0</td>\n      <td>1</td>\n    </tr>\n    <tr>\n      <th>22</th>\n      <td>0.5</td>\n      <td>1.5</td>\n      <td>0</td>\n      <td>2.026533</td>\n      <td>110.79310</td>\n      <td>0</td>\n      <td>1</td>\n    </tr>\n    <tr>\n      <th>23</th>\n      <td>0.5</td>\n      <td>1.5</td>\n      <td>0</td>\n      <td>2.068011</td>\n      <td>98.23788</td>\n      <td>0</td>\n      <td>1</td>\n    </tr>\n    <tr>\n      <th>24</th>\n      <td>0.5</td>\n      <td>1.5</td>\n      <td>0</td>\n      <td>2.113112</td>\n      <td>85.87970</td>\n      <td>0</td>\n      <td>1</td>\n    </tr>\n    <tr>\n      <th>25</th>\n      <td>0.5</td>\n      <td>1.5</td>\n      <td>0</td>\n      <td>2.157048</td>\n      <td>74.99792</td>\n      <td>0</td>\n      <td>1</td>\n    </tr>\n    <tr>\n      <th>26</th>\n      <td>0.5</td>\n      <td>1.5</td>\n      <td>0</td>\n      <td>2.203624</td>\n      <td>64.62081</td>\n      <td>0</td>\n      <td>1</td>\n    </tr>\n    <tr>\n      <th>27</th>\n      <td>0.5</td>\n      <td>1.5</td>\n      <td>0</td>\n      <td>2.254955</td>\n      <td>54.33177</td>\n      <td>0</td>\n      <td>1</td>\n    </tr>\n    <tr>\n      <th>28</th>\n      <td>0.5</td>\n      <td>1.5</td>\n      <td>0</td>\n      <td>2.307782</td>\n      <td>44.76888</td>\n      <td>0</td>\n      <td>1</td>\n    </tr>\n    <tr>\n      <th>29</th>\n      <td>0.5</td>\n      <td>1.5</td>\n      <td>0</td>\n      <td>2.360574</td>\n      <td>36.21905</td>\n      <td>0</td>\n      <td>1</td>\n    </tr>\n  </tbody>\n</table>\n</div>"
     },
     "execution_count": 6,
     "metadata": {},
     "output_type": "execute_result"
    }
   ],
   "source": [
    "dataset.head(30)"
   ],
   "metadata": {
    "collapsed": false,
    "ExecuteTime": {
     "end_time": "2024-08-21T02:39:12.906278800Z",
     "start_time": "2024-08-21T02:39:12.746644900Z"
    }
   }
  },
  {
   "cell_type": "code",
   "execution_count": 7,
   "metadata": {
    "ExecuteTime": {
     "end_time": "2024-08-21T02:39:13.123026200Z",
     "start_time": "2024-08-21T02:39:12.898278900Z"
    }
   },
   "outputs": [
    {
     "name": "stdout",
     "output_type": "stream",
     "text": [
      "(55559, 6) (55559,)\n"
     ]
    }
   ],
   "source": [
    "y = dataset['Pressure']\n",
    "X = dataset.drop(['Pressure'], axis=1)\n",
    "print(X.shape, y.shape)"
   ]
  },
  {
   "cell_type": "code",
   "execution_count": 8,
   "metadata": {
    "ExecuteTime": {
     "end_time": "2024-08-21T02:39:13.372385500Z",
     "start_time": "2024-08-21T02:39:13.114515500Z"
    }
   },
   "outputs": [],
   "source": [
    "# convert to numpy array\n",
    "X = np.array(X)\n",
    "y = np.array(y)"
   ]
  },
  {
   "cell_type": "code",
   "execution_count": 9,
   "metadata": {
    "colab": {},
    "colab_type": "code",
    "id": "L5edeb2r_agx",
    "ExecuteTime": {
     "end_time": "2024-08-21T02:39:14.503255200Z",
     "start_time": "2024-08-21T02:39:13.374385600Z"
    }
   },
   "outputs": [],
   "source": [
    "from sklearn.model_selection import train_test_split\n",
    "X_train, X_test, y_train, y_test = train_test_split(X,\n",
    "                                                    y,\n",
    "                                                    test_size = 0.4,\n",
    "                                                    random_state = 0)"
   ]
  },
  {
   "cell_type": "code",
   "execution_count": 10,
   "metadata": {
    "colab": {},
    "colab_type": "code",
    "id": "L5edeb2r_agx",
    "ExecuteTime": {
     "end_time": "2024-08-21T02:39:14.529795100Z",
     "start_time": "2024-08-21T02:39:14.504254200Z"
    }
   },
   "outputs": [],
   "source": [
    "X_val, X_test, y_val, y_test = train_test_split(X_test,\n",
    "                                                y_test,\n",
    "                                                test_size = 0.5,\n",
    "                                                random_state = 0)"
   ]
  },
  {
   "cell_type": "code",
   "execution_count": 11,
   "outputs": [
    {
     "name": "stdout",
     "output_type": "stream",
     "text": [
      "[[-0.36269004 -0.52145157 -0.44441782 -0.67104328  0.          1.        ]\n",
      " [-1.53923008 -1.02418722  1.37366749 -0.26694703  1.          0.        ]\n",
      " [-0.16660003 -0.52145157 -1.35346048 -0.65969155  0.          1.        ]\n",
      " ...\n",
      " [-0.16660003  0.98675539 -0.44441782  1.77036442  1.          0.        ]\n",
      " [ 0.22557998  0.98675539  0.46462483 -0.58070736  0.          1.        ]\n",
      " [-0.55878005 -1.52692287  0.46462483 -0.70672769  0.          1.        ]]\n"
     ]
    }
   ],
   "source": [
    "from sklearn.preprocessing import StandardScaler\n",
    "sc = StandardScaler()\n",
    "X_train[:,0:4] = sc.fit_transform(X_train[:, 0:4])\n",
    "print (X_train)"
   ],
   "metadata": {
    "collapsed": false,
    "ExecuteTime": {
     "end_time": "2024-08-21T02:39:14.945417800Z",
     "start_time": "2024-08-21T02:39:14.519266200Z"
    }
   }
  },
  {
   "cell_type": "code",
   "execution_count": 12,
   "outputs": [
    {
     "name": "stdout",
     "output_type": "stream",
     "text": [
      "[[ 1.00994     0.48401974 -1.35346048 -0.89997439  0.          1.        ]\n",
      " [-1.93141009 -1.52692287 -1.35346048 -0.75851636  0.          1.        ]\n",
      " [ 0.22557998  1.48949105  1.37366749 -0.37821042  0.          1.        ]\n",
      " ...\n",
      " [ 0.02948997 -0.01871591 -0.44441782 -0.51644526  0.          1.        ]\n",
      " [ 1.20603001 -0.52145157 -0.44441782  0.94198323  1.          0.        ]\n",
      " [-0.16660003 -0.01871591  1.37366749 -0.39420937  0.          1.        ]]\n"
     ]
    }
   ],
   "source": [
    "X_test[:,0:4] = sc.transform(X_test[:,0:4])\n",
    "print (X_test)"
   ],
   "metadata": {
    "collapsed": false,
    "ExecuteTime": {
     "end_time": "2024-08-21T02:39:15.092078Z",
     "start_time": "2024-08-21T02:39:14.946417100Z"
    }
   }
  },
  {
   "cell_type": "code",
   "execution_count": 13,
   "outputs": [
    {
     "name": "stdout",
     "output_type": "stream",
     "text": [
      "[[-0.55878005 -0.01871591 -0.44441782 -0.5825112   0.          1.        ]\n",
      " [-1.14705006 -0.52145157  0.46462483 -0.08074981  1.          0.        ]\n",
      " [-0.75487005  1.48949105  1.37366749 -0.22377807  0.          1.        ]\n",
      " ...\n",
      " [ 0.61775999  0.48401974 -0.44441782 -0.54628658  0.          1.        ]\n",
      " [-0.75487005 -1.52692287 -1.35346048  0.34884443  1.          0.        ]\n",
      " [ 0.42166998  0.98675539  0.46462483 -0.76600267  0.          1.        ]]\n"
     ]
    }
   ],
   "source": [
    "X_val[:,0:4] = sc.transform(X_val[:,0:4])\n",
    "print (X_val)"
   ],
   "metadata": {
    "collapsed": false,
    "ExecuteTime": {
     "end_time": "2024-08-21T02:39:15.290130200Z",
     "start_time": "2024-08-21T02:39:15.082550600Z"
    }
   }
  },
  {
   "cell_type": "code",
   "execution_count": 14,
   "outputs": [
    {
     "name": "stdout",
     "output_type": "stream",
     "text": [
      "X_train 33335\n",
      "X_test 11112\n",
      "X_val 11112\n"
     ]
    }
   ],
   "source": [
    "print (\"X_train\", len(X_train))\n",
    "print (\"X_test\", len(X_test))\n",
    "print (\"X_val\", len(X_val))"
   ],
   "metadata": {
    "collapsed": false,
    "ExecuteTime": {
     "end_time": "2024-08-21T02:39:15.471294100Z",
     "start_time": "2024-08-21T02:39:15.284115500Z"
    }
   }
  },
  {
   "cell_type": "markdown",
   "metadata": {
    "colab_type": "text",
    "id": "_mSLlAT9_eyI"
   },
   "source": [
    "## Part 3 - Building the ANN"
   ]
  },
  {
   "cell_type": "code",
   "execution_count": 15,
   "metadata": {
    "colab": {},
    "colab_type": "code",
    "id": "J6Hd97Ls__Nz",
    "ExecuteTime": {
     "end_time": "2024-08-21T02:39:15.644949400Z",
     "start_time": "2024-08-21T02:39:15.464293700Z"
    }
   },
   "outputs": [],
   "source": [
    "ann = tf.keras.models.Sequential()"
   ]
  },
  {
   "cell_type": "code",
   "execution_count": 16,
   "metadata": {
    "colab": {},
    "colab_type": "code",
    "id": "ksO_Vv40AHix",
    "ExecuteTime": {
     "end_time": "2024-08-21T02:39:15.889246800Z",
     "start_time": "2024-08-21T02:39:15.648506Z"
    }
   },
   "outputs": [],
   "source": [
    "ann.add(tf.keras.layers.Dense(units=250,\n",
    "                              input_shape=(X_train.shape[1],),\n",
    "                              activation='relu'))\n",
    "ann.add(tf.keras.layers.Dense(units=225,\n",
    "                              activation='relu'))\n",
    "ann.add(tf.keras.layers.Dense(units=200,\n",
    "                              activation='relu'))\n",
    "ann.add(tf.keras.layers.Dense(units=175,\n",
    "                              activation='relu'))\n",
    "ann.add(tf.keras.layers.Dense(units=150,\n",
    "                              activation='relu'))"
   ]
  },
  {
   "cell_type": "code",
   "execution_count": 17,
   "metadata": {
    "colab": {},
    "colab_type": "code",
    "id": "YFATpzsUAkLL",
    "ExecuteTime": {
     "end_time": "2024-08-21T02:39:16.150177900Z",
     "start_time": "2024-08-21T02:39:15.890245600Z"
    }
   },
   "outputs": [],
   "source": [
    "ann.add(tf.keras.layers.Dense(units=1,\n",
    "                              activation='linear'))"
   ]
  },
  {
   "cell_type": "code",
   "execution_count": 18,
   "metadata": {
    "ExecuteTime": {
     "end_time": "2024-08-21T02:39:16.329852100Z",
     "start_time": "2024-08-21T02:39:16.155179900Z"
    }
   },
   "outputs": [
    {
     "name": "stdout",
     "output_type": "stream",
     "text": [
      "Model: \"sequential\"\n",
      "_________________________________________________________________\n",
      " Layer (type)                Output Shape              Param #   \n",
      "=================================================================\n",
      " dense (Dense)               (None, 250)               1750      \n",
      "                                                                 \n",
      " dense_1 (Dense)             (None, 225)               56475     \n",
      "                                                                 \n",
      " dense_2 (Dense)             (None, 200)               45200     \n",
      "                                                                 \n",
      " dense_3 (Dense)             (None, 175)               35175     \n",
      "                                                                 \n",
      " dense_4 (Dense)             (None, 150)               26400     \n",
      "                                                                 \n",
      " dense_5 (Dense)             (None, 1)                 151       \n",
      "                                                                 \n",
      "=================================================================\n",
      "Total params: 165,151\n",
      "Trainable params: 165,151\n",
      "Non-trainable params: 0\n",
      "_________________________________________________________________\n"
     ]
    }
   ],
   "source": [
    "ann.summary()"
   ]
  },
  {
   "cell_type": "markdown",
   "metadata": {
    "colab_type": "text",
    "id": "fq7e4fF6A1yy"
   },
   "source": [
    "## Part 4 - Training the ANN"
   ]
  },
  {
   "cell_type": "code",
   "execution_count": 19,
   "metadata": {
    "colab": {},
    "colab_type": "code",
    "id": "pesgbWlCAtB4",
    "ExecuteTime": {
     "end_time": "2024-08-21T02:39:16.497158900Z",
     "start_time": "2024-08-21T02:39:16.319840900Z"
    }
   },
   "outputs": [],
   "source": [
    "# from tensorflow.keras.optimizers import Adam\n",
    "from keras.optimizers import Adam\n",
    "opt = Adam(learning_rate=0.001)\n",
    "ann.compile(optimizer = opt,\n",
    "            loss = 'mean_squared_error',\n",
    "            metrics = ['mae'])"
   ]
  },
  {
   "cell_type": "code",
   "execution_count": 20,
   "metadata": {
    "ExecuteTime": {
     "end_time": "2024-08-21T02:39:16.622326600Z",
     "start_time": "2024-08-21T02:39:16.471558200Z"
    }
   },
   "outputs": [],
   "source": [
    "# protects from unnecessary further training of the model if a particular metric does not continue to improve over a number of n epochs. In such a case, the model training would be automatically aborted.\n",
    "from keras.callbacks import EarlyStopping\n",
    "es = EarlyStopping(monitor='val_loss',\n",
    "                   mode='min',\n",
    "                   patience=50,\n",
    "                   restore_best_weights = True)"
   ]
  },
  {
   "cell_type": "code",
   "execution_count": 21,
   "metadata": {
    "colab": {
     "base_uri": "https://localhost:8080/",
     "height": 1000
    },
    "colab_type": "code",
    "id": "c_vV-tiiA5zn",
    "outputId": "4a2b6ee6-ed75-4698-9069-b250e613803f",
    "ExecuteTime": {
     "end_time": "2024-08-21T03:02:38.047653700Z",
     "start_time": "2024-08-21T02:39:16.625334200Z"
    }
   },
   "outputs": [
    {
     "name": "stdout",
     "output_type": "stream",
     "text": [
      "Epoch 1/500\n",
      "1112/1112 [==============================] - 37s 33ms/step - loss: 1756607.2500 - mae: 501.6295 - val_loss: 2024387.7500 - val_mae: 454.0954\n",
      "Epoch 2/500\n",
      "1112/1112 [==============================] - 7s 6ms/step - loss: 633897.3125 - mae: 267.7129 - val_loss: 847222.6250 - val_mae: 403.9830\n",
      "Epoch 3/500\n",
      "1112/1112 [==============================] - 10s 9ms/step - loss: 581606.5000 - mae: 257.9864 - val_loss: 414613.9688 - val_mae: 249.6545\n",
      "Epoch 4/500\n",
      "1112/1112 [==============================] - 8s 7ms/step - loss: 372996.2188 - mae: 202.6974 - val_loss: 312046.6875 - val_mae: 172.8479\n",
      "Epoch 5/500\n",
      "1112/1112 [==============================] - 9s 8ms/step - loss: 406656.1250 - mae: 215.7207 - val_loss: 226991.7188 - val_mae: 164.1263\n",
      "Epoch 6/500\n",
      "1112/1112 [==============================] - 7s 7ms/step - loss: 362812.0000 - mae: 194.7982 - val_loss: 161764.7656 - val_mae: 127.0837\n",
      "Epoch 7/500\n",
      "1112/1112 [==============================] - 6s 6ms/step - loss: 433031.2188 - mae: 205.2159 - val_loss: 226466.2344 - val_mae: 155.8241\n",
      "Epoch 8/500\n",
      "1112/1112 [==============================] - 8s 7ms/step - loss: 435585.6250 - mae: 208.3271 - val_loss: 274666.3125 - val_mae: 161.3551\n",
      "Epoch 9/500\n",
      "1112/1112 [==============================] - 8s 7ms/step - loss: 277412.3125 - mae: 161.6796 - val_loss: 220239.9688 - val_mae: 152.2656\n",
      "Epoch 10/500\n",
      "1112/1112 [==============================] - 8s 7ms/step - loss: 282909.7500 - mae: 160.3500 - val_loss: 208135.3281 - val_mae: 139.4211\n",
      "Epoch 11/500\n",
      "1112/1112 [==============================] - 7s 6ms/step - loss: 300958.4062 - mae: 168.8046 - val_loss: 175720.6406 - val_mae: 148.0063\n",
      "Epoch 12/500\n",
      "1112/1112 [==============================] - 7s 6ms/step - loss: 255262.5625 - mae: 149.2066 - val_loss: 372979.4062 - val_mae: 204.6849\n",
      "Epoch 13/500\n",
      "1112/1112 [==============================] - 7s 6ms/step - loss: 230526.5469 - mae: 139.9898 - val_loss: 208073.4062 - val_mae: 148.7712\n",
      "Epoch 14/500\n",
      "1112/1112 [==============================] - 8s 7ms/step - loss: 249530.1250 - mae: 147.2218 - val_loss: 95820.2500 - val_mae: 94.5798\n",
      "Epoch 15/500\n",
      "1112/1112 [==============================] - 7s 6ms/step - loss: 279675.0312 - mae: 161.8045 - val_loss: 132137.5156 - val_mae: 113.1083\n",
      "Epoch 16/500\n",
      "1112/1112 [==============================] - 7s 6ms/step - loss: 214039.2188 - mae: 135.9070 - val_loss: 266026.6562 - val_mae: 129.9880\n",
      "Epoch 17/500\n",
      "1112/1112 [==============================] - 7s 6ms/step - loss: 214682.1719 - mae: 134.5716 - val_loss: 1557271.2500 - val_mae: 439.2616\n",
      "Epoch 18/500\n",
      "1112/1112 [==============================] - 7s 7ms/step - loss: 257705.1562 - mae: 145.1758 - val_loss: 79764.6719 - val_mae: 80.2057\n",
      "Epoch 19/500\n",
      "1112/1112 [==============================] - 9s 8ms/step - loss: 234089.0938 - mae: 143.2000 - val_loss: 316191.9375 - val_mae: 165.1496\n",
      "Epoch 20/500\n",
      "1112/1112 [==============================] - 8s 7ms/step - loss: 224962.9531 - mae: 142.7183 - val_loss: 144207.4844 - val_mae: 104.4807\n",
      "Epoch 21/500\n",
      "1112/1112 [==============================] - 9s 8ms/step - loss: 214039.9375 - mae: 136.6924 - val_loss: 125779.2969 - val_mae: 114.1274\n",
      "Epoch 22/500\n",
      "1112/1112 [==============================] - 7s 7ms/step - loss: 195070.6094 - mae: 127.6192 - val_loss: 124365.7188 - val_mae: 99.0498\n",
      "Epoch 23/500\n",
      "1112/1112 [==============================] - 7s 6ms/step - loss: 230906.2344 - mae: 142.3249 - val_loss: 167044.0312 - val_mae: 139.5240\n",
      "Epoch 24/500\n",
      "1112/1112 [==============================] - 9s 8ms/step - loss: 178729.6094 - mae: 126.8202 - val_loss: 133286.2500 - val_mae: 109.2403\n",
      "Epoch 25/500\n",
      "1112/1112 [==============================] - 10s 9ms/step - loss: 188893.0469 - mae: 122.6603 - val_loss: 86978.6641 - val_mae: 103.6513\n",
      "Epoch 26/500\n",
      "1112/1112 [==============================] - 8s 8ms/step - loss: 185490.5625 - mae: 126.0716 - val_loss: 94459.1719 - val_mae: 99.7351\n",
      "Epoch 27/500\n",
      "1112/1112 [==============================] - 9s 8ms/step - loss: 173999.9688 - mae: 123.5919 - val_loss: 171612.3281 - val_mae: 111.4457\n",
      "Epoch 28/500\n",
      "1112/1112 [==============================] - 9s 8ms/step - loss: 138737.8125 - mae: 111.2281 - val_loss: 303885.6875 - val_mae: 166.1202\n",
      "Epoch 29/500\n",
      "1112/1112 [==============================] - 8s 7ms/step - loss: 172114.0469 - mae: 121.4961 - val_loss: 240616.4375 - val_mae: 143.0913\n",
      "Epoch 30/500\n",
      "1112/1112 [==============================] - 10s 9ms/step - loss: 221454.1250 - mae: 141.3765 - val_loss: 132892.3750 - val_mae: 106.3517\n",
      "Epoch 31/500\n",
      "1112/1112 [==============================] - 8s 8ms/step - loss: 194754.5781 - mae: 128.0781 - val_loss: 174715.4062 - val_mae: 127.5109\n",
      "Epoch 32/500\n",
      "1112/1112 [==============================] - 8s 8ms/step - loss: 172137.7344 - mae: 121.1199 - val_loss: 141427.8906 - val_mae: 119.3384\n",
      "Epoch 33/500\n",
      "1112/1112 [==============================] - 9s 8ms/step - loss: 188579.4375 - mae: 123.3195 - val_loss: 77277.4062 - val_mae: 88.0468\n",
      "Epoch 34/500\n",
      "1112/1112 [==============================] - 10s 9ms/step - loss: 203911.0938 - mae: 125.1185 - val_loss: 132193.5156 - val_mae: 119.6524\n",
      "Epoch 35/500\n",
      "1112/1112 [==============================] - 9s 8ms/step - loss: 143714.0781 - mae: 109.0487 - val_loss: 64503.9648 - val_mae: 74.9706\n",
      "Epoch 36/500\n",
      "1112/1112 [==============================] - 8s 7ms/step - loss: 134400.1406 - mae: 107.2967 - val_loss: 62206.6484 - val_mae: 83.6756\n",
      "Epoch 37/500\n",
      "1112/1112 [==============================] - 8s 7ms/step - loss: 171953.8125 - mae: 120.8702 - val_loss: 194873.4062 - val_mae: 121.0772\n",
      "Epoch 38/500\n",
      "1112/1112 [==============================] - 8s 8ms/step - loss: 167099.4844 - mae: 114.2227 - val_loss: 69002.6641 - val_mae: 87.5649\n",
      "Epoch 39/500\n",
      "1112/1112 [==============================] - 10s 9ms/step - loss: 166194.2812 - mae: 111.8927 - val_loss: 82988.9062 - val_mae: 94.6206\n",
      "Epoch 40/500\n",
      "1112/1112 [==============================] - 9s 8ms/step - loss: 180032.7344 - mae: 117.3571 - val_loss: 135704.9062 - val_mae: 99.0866\n",
      "Epoch 41/500\n",
      "1112/1112 [==============================] - 8s 7ms/step - loss: 132451.5156 - mae: 103.0898 - val_loss: 87242.5391 - val_mae: 80.8001\n",
      "Epoch 42/500\n",
      "1112/1112 [==============================] - 9s 8ms/step - loss: 193463.5469 - mae: 122.0888 - val_loss: 154222.2656 - val_mae: 105.1341\n",
      "Epoch 43/500\n",
      "1112/1112 [==============================] - 8s 7ms/step - loss: 168913.5469 - mae: 115.7228 - val_loss: 109672.0625 - val_mae: 88.6945\n",
      "Epoch 44/500\n",
      "1112/1112 [==============================] - 8s 8ms/step - loss: 142075.2656 - mae: 105.4338 - val_loss: 95903.0391 - val_mae: 92.8537\n",
      "Epoch 45/500\n",
      "1112/1112 [==============================] - 8s 7ms/step - loss: 150761.0781 - mae: 105.7895 - val_loss: 175002.7656 - val_mae: 114.2434\n",
      "Epoch 46/500\n",
      "1112/1112 [==============================] - 9s 8ms/step - loss: 139068.2500 - mae: 106.9149 - val_loss: 87209.2266 - val_mae: 103.8739\n",
      "Epoch 47/500\n",
      "1112/1112 [==============================] - 9s 8ms/step - loss: 149483.2656 - mae: 109.1935 - val_loss: 725999.6875 - val_mae: 194.0024\n",
      "Epoch 48/500\n",
      "1112/1112 [==============================] - 10s 9ms/step - loss: 203902.3906 - mae: 121.8284 - val_loss: 108461.3594 - val_mae: 85.8586\n",
      "Epoch 49/500\n",
      "1112/1112 [==============================] - 8s 7ms/step - loss: 115960.8906 - mae: 98.1163 - val_loss: 82396.3906 - val_mae: 78.9774\n",
      "Epoch 50/500\n",
      "1112/1112 [==============================] - 9s 8ms/step - loss: 141607.2969 - mae: 107.6361 - val_loss: 116710.0859 - val_mae: 90.3953\n",
      "Epoch 51/500\n",
      "1112/1112 [==============================] - 9s 8ms/step - loss: 133043.3281 - mae: 101.7775 - val_loss: 137885.0000 - val_mae: 117.4192\n",
      "Epoch 52/500\n",
      "1112/1112 [==============================] - 8s 7ms/step - loss: 153183.4844 - mae: 106.8071 - val_loss: 91279.3672 - val_mae: 95.8657\n",
      "Epoch 53/500\n",
      "1112/1112 [==============================] - 8s 7ms/step - loss: 129699.7891 - mae: 101.8844 - val_loss: 213731.2500 - val_mae: 124.6029\n",
      "Epoch 54/500\n",
      "1112/1112 [==============================] - 8s 7ms/step - loss: 132871.7969 - mae: 100.6042 - val_loss: 65783.0938 - val_mae: 73.5615\n",
      "Epoch 55/500\n",
      "1112/1112 [==============================] - 9s 8ms/step - loss: 126632.3438 - mae: 100.1721 - val_loss: 65550.5703 - val_mae: 67.7267\n",
      "Epoch 56/500\n",
      "1112/1112 [==============================] - 9s 8ms/step - loss: 164921.9219 - mae: 111.9984 - val_loss: 120442.8359 - val_mae: 124.8795\n",
      "Epoch 57/500\n",
      "1112/1112 [==============================] - 10s 9ms/step - loss: 134795.1250 - mae: 102.7489 - val_loss: 213155.8750 - val_mae: 137.7105\n",
      "Epoch 58/500\n",
      "1112/1112 [==============================] - 9s 8ms/step - loss: 139426.6875 - mae: 102.2847 - val_loss: 286402.1562 - val_mae: 190.5614\n",
      "Epoch 59/500\n",
      "1112/1112 [==============================] - 9s 8ms/step - loss: 110429.5234 - mae: 92.6200 - val_loss: 127053.5781 - val_mae: 84.0769\n",
      "Epoch 60/500\n",
      "1112/1112 [==============================] - 9s 8ms/step - loss: 142222.0000 - mae: 105.4551 - val_loss: 698211.9375 - val_mae: 266.6563\n",
      "Epoch 61/500\n",
      "1112/1112 [==============================] - 9s 8ms/step - loss: 171098.0156 - mae: 106.5486 - val_loss: 145920.8125 - val_mae: 106.7630\n",
      "Epoch 62/500\n",
      "1112/1112 [==============================] - 9s 8ms/step - loss: 113477.6250 - mae: 93.3522 - val_loss: 68702.6328 - val_mae: 74.5001\n",
      "Epoch 63/500\n",
      "1112/1112 [==============================] - 9s 8ms/step - loss: 134108.5625 - mae: 103.9030 - val_loss: 70121.6562 - val_mae: 75.6835\n",
      "Epoch 64/500\n",
      "1112/1112 [==============================] - 9s 8ms/step - loss: 105356.0078 - mae: 91.3369 - val_loss: 343918.6562 - val_mae: 173.4367\n",
      "Epoch 65/500\n",
      "1112/1112 [==============================] - 10s 9ms/step - loss: 109070.3750 - mae: 92.1161 - val_loss: 52565.1133 - val_mae: 63.3898\n",
      "Epoch 66/500\n",
      "1112/1112 [==============================] - 8s 7ms/step - loss: 115810.6406 - mae: 93.9460 - val_loss: 54964.2344 - val_mae: 67.2351\n",
      "Epoch 67/500\n",
      "1112/1112 [==============================] - 9s 8ms/step - loss: 136394.1719 - mae: 100.6307 - val_loss: 45934.4883 - val_mae: 58.7764\n",
      "Epoch 68/500\n",
      "1112/1112 [==============================] - 9s 8ms/step - loss: 124602.3906 - mae: 96.3689 - val_loss: 56814.3008 - val_mae: 63.8270\n",
      "Epoch 69/500\n",
      "1112/1112 [==============================] - 10s 9ms/step - loss: 130111.8906 - mae: 100.7063 - val_loss: 133164.1719 - val_mae: 89.7528\n",
      "Epoch 70/500\n",
      "1112/1112 [==============================] - 9s 8ms/step - loss: 122140.7969 - mae: 93.2022 - val_loss: 43458.5078 - val_mae: 56.4351\n",
      "Epoch 71/500\n",
      "1112/1112 [==============================] - 9s 8ms/step - loss: 155984.5625 - mae: 105.0610 - val_loss: 136795.9375 - val_mae: 114.4538\n",
      "Epoch 72/500\n",
      "1112/1112 [==============================] - 8s 8ms/step - loss: 103002.8359 - mae: 90.3303 - val_loss: 38451.7930 - val_mae: 65.3949\n",
      "Epoch 73/500\n",
      "1112/1112 [==============================] - 10s 9ms/step - loss: 145973.5156 - mae: 103.6517 - val_loss: 149214.8281 - val_mae: 94.1252\n",
      "Epoch 74/500\n",
      "1112/1112 [==============================] - 8s 7ms/step - loss: 98071.3203 - mae: 85.3729 - val_loss: 83926.5625 - val_mae: 91.8672\n",
      "Epoch 75/500\n",
      "1112/1112 [==============================] - 9s 8ms/step - loss: 106794.3828 - mae: 89.4971 - val_loss: 163515.1562 - val_mae: 107.8514\n",
      "Epoch 76/500\n",
      "1112/1112 [==============================] - 8s 8ms/step - loss: 110110.1250 - mae: 88.5983 - val_loss: 57614.2773 - val_mae: 65.0703\n",
      "Epoch 77/500\n",
      "1112/1112 [==============================] - 9s 8ms/step - loss: 124640.5078 - mae: 99.2482 - val_loss: 102629.7969 - val_mae: 87.8299\n",
      "Epoch 78/500\n",
      "1112/1112 [==============================] - 8s 7ms/step - loss: 138908.5625 - mae: 101.6309 - val_loss: 63304.2148 - val_mae: 67.4616\n",
      "Epoch 79/500\n",
      "1112/1112 [==============================] - 10s 9ms/step - loss: 102868.9766 - mae: 86.9695 - val_loss: 46763.2070 - val_mae: 56.4129\n",
      "Epoch 80/500\n",
      "1112/1112 [==============================] - 9s 8ms/step - loss: 114226.7734 - mae: 93.9516 - val_loss: 103215.2734 - val_mae: 90.5182\n",
      "Epoch 81/500\n",
      "1112/1112 [==============================] - 9s 8ms/step - loss: 98716.3516 - mae: 88.0494 - val_loss: 92119.0312 - val_mae: 93.7530\n",
      "Epoch 82/500\n",
      "1112/1112 [==============================] - 10s 9ms/step - loss: 157664.4531 - mae: 103.7608 - val_loss: 141484.6094 - val_mae: 101.5133\n",
      "Epoch 83/500\n",
      "1112/1112 [==============================] - 9s 8ms/step - loss: 86611.1406 - mae: 79.7413 - val_loss: 71587.6875 - val_mae: 67.3398\n",
      "Epoch 84/500\n",
      "1112/1112 [==============================] - 8s 7ms/step - loss: 105130.4453 - mae: 87.4336 - val_loss: 131246.6094 - val_mae: 94.3845\n",
      "Epoch 85/500\n",
      "1112/1112 [==============================] - 8s 7ms/step - loss: 161471.0938 - mae: 110.3249 - val_loss: 282812.6875 - val_mae: 131.5108\n",
      "Epoch 86/500\n",
      "1112/1112 [==============================] - 9s 8ms/step - loss: 130686.1953 - mae: 97.4952 - val_loss: 51124.0664 - val_mae: 67.6353\n",
      "Epoch 87/500\n",
      "1112/1112 [==============================] - 10s 9ms/step - loss: 139061.5156 - mae: 96.3444 - val_loss: 58467.5820 - val_mae: 66.4348\n",
      "Epoch 88/500\n",
      "1112/1112 [==============================] - 9s 8ms/step - loss: 83734.7578 - mae: 76.2874 - val_loss: 201662.7031 - val_mae: 144.2155\n",
      "Epoch 89/500\n",
      "1112/1112 [==============================] - 8s 7ms/step - loss: 112918.1562 - mae: 90.9745 - val_loss: 142433.5156 - val_mae: 105.5989\n",
      "Epoch 90/500\n",
      "1112/1112 [==============================] - 9s 8ms/step - loss: 106418.1562 - mae: 91.0425 - val_loss: 366434.6875 - val_mae: 182.3737\n",
      "Epoch 91/500\n",
      "1112/1112 [==============================] - 10s 9ms/step - loss: 102419.6641 - mae: 88.5008 - val_loss: 129572.3281 - val_mae: 87.1069\n",
      "Epoch 92/500\n",
      "1112/1112 [==============================] - 9s 8ms/step - loss: 99856.6094 - mae: 87.2507 - val_loss: 47326.0469 - val_mae: 63.5390\n",
      "Epoch 93/500\n",
      "1112/1112 [==============================] - 8s 7ms/step - loss: 137232.0625 - mae: 102.4651 - val_loss: 82354.9844 - val_mae: 77.3202\n",
      "Epoch 94/500\n",
      "1112/1112 [==============================] - 9s 8ms/step - loss: 114174.8281 - mae: 90.3625 - val_loss: 59704.6836 - val_mae: 64.8521\n",
      "Epoch 95/500\n",
      "1112/1112 [==============================] - 9s 8ms/step - loss: 92040.0469 - mae: 82.9769 - val_loss: 220728.2344 - val_mae: 142.5759\n",
      "Epoch 96/500\n",
      "1112/1112 [==============================] - 7s 6ms/step - loss: 120840.8750 - mae: 96.5685 - val_loss: 123100.8438 - val_mae: 100.0152\n",
      "Epoch 97/500\n",
      "1112/1112 [==============================] - 7s 6ms/step - loss: 119820.0938 - mae: 92.9302 - val_loss: 202281.4531 - val_mae: 130.7807\n",
      "Epoch 98/500\n",
      "1112/1112 [==============================] - 6s 6ms/step - loss: 114822.9062 - mae: 91.7970 - val_loss: 88958.9453 - val_mae: 83.3766\n",
      "Epoch 99/500\n",
      "1112/1112 [==============================] - 6s 5ms/step - loss: 128765.9766 - mae: 90.6946 - val_loss: 49084.5273 - val_mae: 64.9528\n",
      "Epoch 100/500\n",
      "1112/1112 [==============================] - 6s 5ms/step - loss: 94379.5859 - mae: 83.8865 - val_loss: 36232.6953 - val_mae: 50.7627\n",
      "Epoch 101/500\n",
      "1112/1112 [==============================] - 6s 6ms/step - loss: 101195.9922 - mae: 84.5041 - val_loss: 86710.4766 - val_mae: 72.7233\n",
      "Epoch 102/500\n",
      "1112/1112 [==============================] - 7s 6ms/step - loss: 136604.7344 - mae: 96.6863 - val_loss: 73308.2734 - val_mae: 68.1791\n",
      "Epoch 103/500\n",
      "1112/1112 [==============================] - 7s 6ms/step - loss: 87761.0547 - mae: 81.6985 - val_loss: 33379.2148 - val_mae: 51.0536\n",
      "Epoch 104/500\n",
      "1112/1112 [==============================] - 6s 6ms/step - loss: 117954.4453 - mae: 91.4008 - val_loss: 170836.8125 - val_mae: 115.5542\n",
      "Epoch 105/500\n",
      "1112/1112 [==============================] - 6s 5ms/step - loss: 125375.2188 - mae: 92.2483 - val_loss: 62121.6914 - val_mae: 66.2438\n",
      "Epoch 106/500\n",
      "1112/1112 [==============================] - 6s 6ms/step - loss: 210372.9531 - mae: 136.8189 - val_loss: 460737.7188 - val_mae: 177.1931\n",
      "Epoch 107/500\n",
      "1112/1112 [==============================] - 6s 6ms/step - loss: 125065.3672 - mae: 106.3480 - val_loss: 51648.1250 - val_mae: 70.0613\n",
      "Epoch 108/500\n",
      "1112/1112 [==============================] - 6s 5ms/step - loss: 105600.0078 - mae: 96.0076 - val_loss: 75465.0781 - val_mae: 89.1717\n",
      "Epoch 109/500\n",
      "1112/1112 [==============================] - 6s 5ms/step - loss: 99905.1406 - mae: 94.5758 - val_loss: 80602.0781 - val_mae: 84.3105\n",
      "Epoch 110/500\n",
      "1112/1112 [==============================] - 7s 6ms/step - loss: 116051.1562 - mae: 101.0363 - val_loss: 292330.2188 - val_mae: 179.9595\n",
      "Epoch 111/500\n",
      "1112/1112 [==============================] - 6s 5ms/step - loss: 99544.4062 - mae: 89.5559 - val_loss: 144020.0625 - val_mae: 114.4759\n",
      "Epoch 112/500\n",
      "1112/1112 [==============================] - 6s 5ms/step - loss: 100157.0859 - mae: 92.3191 - val_loss: 63979.5195 - val_mae: 74.8375\n",
      "Epoch 113/500\n",
      "1112/1112 [==============================] - 6s 5ms/step - loss: 107464.5156 - mae: 96.4077 - val_loss: 58243.2148 - val_mae: 73.1503\n",
      "Epoch 114/500\n",
      "1112/1112 [==============================] - 6s 6ms/step - loss: 80587.0703 - mae: 82.3365 - val_loss: 115470.0391 - val_mae: 112.5703\n",
      "Epoch 115/500\n",
      "1112/1112 [==============================] - 6s 5ms/step - loss: 101959.7188 - mae: 92.7556 - val_loss: 55208.9609 - val_mae: 68.0558\n",
      "Epoch 116/500\n",
      "1112/1112 [==============================] - 6s 5ms/step - loss: 115795.5312 - mae: 94.5619 - val_loss: 75374.8281 - val_mae: 95.2008\n",
      "Epoch 117/500\n",
      "1112/1112 [==============================] - 6s 6ms/step - loss: 96959.8594 - mae: 89.6104 - val_loss: 75639.7031 - val_mae: 85.1105\n",
      "Epoch 118/500\n",
      "1112/1112 [==============================] - 6s 6ms/step - loss: 83535.1953 - mae: 81.7864 - val_loss: 42123.5977 - val_mae: 66.7666\n",
      "Epoch 119/500\n",
      "1112/1112 [==============================] - 6s 6ms/step - loss: 95772.4453 - mae: 89.3727 - val_loss: 63003.8828 - val_mae: 84.5962\n",
      "Epoch 120/500\n",
      "1112/1112 [==============================] - 6s 5ms/step - loss: 97963.0312 - mae: 90.9664 - val_loss: 67919.6172 - val_mae: 70.3114\n",
      "Epoch 121/500\n",
      "1112/1112 [==============================] - 6s 6ms/step - loss: 94264.1562 - mae: 87.8029 - val_loss: 66724.4062 - val_mae: 67.6632\n",
      "Epoch 122/500\n",
      "1112/1112 [==============================] - 6s 6ms/step - loss: 101028.9531 - mae: 88.9029 - val_loss: 127555.5859 - val_mae: 102.1380\n",
      "Epoch 123/500\n",
      "1112/1112 [==============================] - 6s 6ms/step - loss: 108065.6953 - mae: 90.9702 - val_loss: 78028.7344 - val_mae: 68.9677\n",
      "Epoch 124/500\n",
      "1112/1112 [==============================] - 7s 6ms/step - loss: 104004.2891 - mae: 89.6799 - val_loss: 35356.0312 - val_mae: 56.8318\n",
      "Epoch 125/500\n",
      "1112/1112 [==============================] - 6s 5ms/step - loss: 94153.0156 - mae: 85.0382 - val_loss: 130621.1875 - val_mae: 112.2696\n",
      "Epoch 126/500\n",
      "1112/1112 [==============================] - 6s 6ms/step - loss: 97464.7500 - mae: 86.3839 - val_loss: 47057.1992 - val_mae: 61.4361\n",
      "Epoch 127/500\n",
      "1112/1112 [==============================] - 6s 6ms/step - loss: 92416.6797 - mae: 86.1212 - val_loss: 82581.7734 - val_mae: 107.4477\n",
      "Epoch 128/500\n",
      "1112/1112 [==============================] - 6s 6ms/step - loss: 88585.5859 - mae: 84.5304 - val_loss: 88742.0625 - val_mae: 86.0320\n",
      "Epoch 129/500\n",
      "1112/1112 [==============================] - 6s 5ms/step - loss: 108252.9844 - mae: 92.3201 - val_loss: 45109.6914 - val_mae: 61.7996\n",
      "Epoch 130/500\n",
      "1112/1112 [==============================] - 6s 5ms/step - loss: 91427.2578 - mae: 83.0214 - val_loss: 220515.0625 - val_mae: 133.8267\n",
      "Epoch 131/500\n",
      "1112/1112 [==============================] - 6s 5ms/step - loss: 95562.8984 - mae: 81.3195 - val_loss: 153165.0156 - val_mae: 109.5169\n",
      "Epoch 132/500\n",
      "1112/1112 [==============================] - 6s 6ms/step - loss: 99344.6719 - mae: 88.1488 - val_loss: 179279.2969 - val_mae: 152.7757\n",
      "Epoch 133/500\n",
      "1112/1112 [==============================] - 6s 6ms/step - loss: 107784.5156 - mae: 89.7856 - val_loss: 72889.5391 - val_mae: 65.8051\n",
      "Epoch 134/500\n",
      "1112/1112 [==============================] - 6s 5ms/step - loss: 79400.7109 - mae: 78.7520 - val_loss: 27519.9473 - val_mae: 48.4544\n",
      "Epoch 135/500\n",
      "1112/1112 [==============================] - 6s 6ms/step - loss: 82711.8594 - mae: 82.2513 - val_loss: 80616.2109 - val_mae: 80.4895\n",
      "Epoch 136/500\n",
      "1112/1112 [==============================] - 6s 6ms/step - loss: 126742.0781 - mae: 96.7457 - val_loss: 51173.5508 - val_mae: 69.2996\n",
      "Epoch 137/500\n",
      "1112/1112 [==============================] - 6s 6ms/step - loss: 87585.8281 - mae: 83.4790 - val_loss: 63320.6758 - val_mae: 78.5487\n",
      "Epoch 138/500\n",
      "1112/1112 [==============================] - 6s 6ms/step - loss: 95110.4844 - mae: 84.9987 - val_loss: 42931.1211 - val_mae: 59.6495\n",
      "Epoch 139/500\n",
      "1112/1112 [==============================] - 6s 6ms/step - loss: 85764.2812 - mae: 82.8429 - val_loss: 285273.4375 - val_mae: 162.3308\n",
      "Epoch 140/500\n",
      "1112/1112 [==============================] - 8s 7ms/step - loss: 76752.8281 - mae: 75.0525 - val_loss: 163231.7500 - val_mae: 110.0073\n",
      "Epoch 141/500\n",
      "1112/1112 [==============================] - 6s 6ms/step - loss: 91604.4453 - mae: 83.6157 - val_loss: 44216.1797 - val_mae: 59.5592\n",
      "Epoch 142/500\n",
      "1112/1112 [==============================] - 6s 6ms/step - loss: 90954.4922 - mae: 83.3467 - val_loss: 41290.1914 - val_mae: 57.3259\n",
      "Epoch 143/500\n",
      "1112/1112 [==============================] - 7s 6ms/step - loss: 85930.1797 - mae: 79.3200 - val_loss: 127938.3359 - val_mae: 109.0324\n",
      "Epoch 144/500\n",
      "1112/1112 [==============================] - 6s 6ms/step - loss: 101619.5781 - mae: 85.1299 - val_loss: 40374.1406 - val_mae: 55.7194\n",
      "Epoch 145/500\n",
      "1112/1112 [==============================] - 6s 6ms/step - loss: 75450.5312 - mae: 78.1694 - val_loss: 118584.6953 - val_mae: 91.8300\n",
      "Epoch 146/500\n",
      "1112/1112 [==============================] - 6s 5ms/step - loss: 129147.5156 - mae: 97.4056 - val_loss: 71530.3750 - val_mae: 68.2361\n",
      "Epoch 147/500\n",
      "1112/1112 [==============================] - 6s 6ms/step - loss: 84954.2891 - mae: 82.1015 - val_loss: 111134.9609 - val_mae: 109.7330\n",
      "Epoch 148/500\n",
      "1112/1112 [==============================] - 6s 6ms/step - loss: 75342.3750 - mae: 77.4333 - val_loss: 46303.8086 - val_mae: 66.8739\n",
      "Epoch 149/500\n",
      "1112/1112 [==============================] - 6s 6ms/step - loss: 100644.0078 - mae: 83.2406 - val_loss: 47996.5430 - val_mae: 58.9619\n",
      "Epoch 150/500\n",
      "1112/1112 [==============================] - 7s 6ms/step - loss: 91289.2109 - mae: 79.7480 - val_loss: 59553.8828 - val_mae: 87.1956\n",
      "Epoch 151/500\n",
      "1112/1112 [==============================] - 7s 6ms/step - loss: 79034.9688 - mae: 79.8949 - val_loss: 56352.5469 - val_mae: 75.3932\n",
      "Epoch 152/500\n",
      "1112/1112 [==============================] - 8s 7ms/step - loss: 78215.8672 - mae: 79.9249 - val_loss: 51344.9258 - val_mae: 67.6566\n",
      "Epoch 153/500\n",
      "1112/1112 [==============================] - 6s 6ms/step - loss: 89438.5703 - mae: 81.2224 - val_loss: 30087.1035 - val_mae: 52.2237\n",
      "Epoch 154/500\n",
      "1112/1112 [==============================] - 6s 6ms/step - loss: 83642.4922 - mae: 78.5857 - val_loss: 135876.2812 - val_mae: 104.1237\n",
      "Epoch 155/500\n",
      "1112/1112 [==============================] - 6s 5ms/step - loss: 85817.6641 - mae: 79.7774 - val_loss: 59853.8594 - val_mae: 70.6129\n",
      "Epoch 156/500\n",
      "1112/1112 [==============================] - 6s 5ms/step - loss: 91773.0078 - mae: 81.0589 - val_loss: 151936.9062 - val_mae: 93.5653\n",
      "Epoch 157/500\n",
      "1112/1112 [==============================] - 6s 6ms/step - loss: 86321.3203 - mae: 77.5875 - val_loss: 73366.2578 - val_mae: 77.9100\n",
      "Epoch 158/500\n",
      "1112/1112 [==============================] - 6s 6ms/step - loss: 68381.2734 - mae: 72.5887 - val_loss: 41740.2148 - val_mae: 61.4982\n",
      "Epoch 159/500\n",
      "1112/1112 [==============================] - 7s 6ms/step - loss: 76059.6719 - mae: 74.5791 - val_loss: 156414.4219 - val_mae: 101.2400\n",
      "Epoch 160/500\n",
      "1112/1112 [==============================] - 6s 5ms/step - loss: 107489.6953 - mae: 85.1796 - val_loss: 38389.9258 - val_mae: 53.7620\n",
      "Epoch 161/500\n",
      "1112/1112 [==============================] - 6s 6ms/step - loss: 77571.7500 - mae: 77.3206 - val_loss: 55093.1719 - val_mae: 67.2543\n",
      "Epoch 162/500\n",
      "1112/1112 [==============================] - 6s 6ms/step - loss: 93082.7734 - mae: 84.0977 - val_loss: 43895.6172 - val_mae: 57.3110\n",
      "Epoch 163/500\n",
      "1112/1112 [==============================] - 7s 6ms/step - loss: 83471.3047 - mae: 78.0848 - val_loss: 157624.6094 - val_mae: 126.3263\n",
      "Epoch 164/500\n",
      "1112/1112 [==============================] - 6s 6ms/step - loss: 92053.8828 - mae: 81.6021 - val_loss: 46081.8711 - val_mae: 64.9965\n",
      "Epoch 165/500\n",
      "1112/1112 [==============================] - 6s 6ms/step - loss: 92803.5391 - mae: 81.8998 - val_loss: 223594.3906 - val_mae: 137.8589\n",
      "Epoch 166/500\n",
      "1112/1112 [==============================] - 6s 5ms/step - loss: 76595.8125 - mae: 76.5573 - val_loss: 38024.1250 - val_mae: 65.5008\n",
      "Epoch 167/500\n",
      "1112/1112 [==============================] - 6s 6ms/step - loss: 90042.2500 - mae: 80.9092 - val_loss: 113950.9766 - val_mae: 95.4885\n",
      "Epoch 168/500\n",
      "1112/1112 [==============================] - 6s 5ms/step - loss: 96032.0234 - mae: 86.7988 - val_loss: 223838.8281 - val_mae: 125.8499\n",
      "Epoch 169/500\n",
      "1112/1112 [==============================] - 6s 6ms/step - loss: 80281.7969 - mae: 77.3611 - val_loss: 75636.1328 - val_mae: 67.0147\n",
      "Epoch 170/500\n",
      "1112/1112 [==============================] - 6s 6ms/step - loss: 79464.5156 - mae: 73.9030 - val_loss: 44915.4180 - val_mae: 62.7140\n",
      "Epoch 171/500\n",
      "1112/1112 [==============================] - 6s 5ms/step - loss: 122427.6484 - mae: 87.6441 - val_loss: 58532.1289 - val_mae: 65.3809\n",
      "Epoch 172/500\n",
      "1112/1112 [==============================] - 7s 6ms/step - loss: 77439.3828 - mae: 75.5115 - val_loss: 115792.8750 - val_mae: 103.6043\n",
      "Epoch 173/500\n",
      "1112/1112 [==============================] - 6s 6ms/step - loss: 100596.0000 - mae: 80.2810 - val_loss: 53271.3320 - val_mae: 53.4963\n",
      "Epoch 174/500\n",
      "1112/1112 [==============================] - 6s 6ms/step - loss: 85006.3359 - mae: 77.1906 - val_loss: 45874.0391 - val_mae: 64.8194\n",
      "Epoch 175/500\n",
      "1112/1112 [==============================] - 6s 5ms/step - loss: 64336.4023 - mae: 69.5788 - val_loss: 36778.2305 - val_mae: 54.0154\n",
      "Epoch 176/500\n",
      "1112/1112 [==============================] - 6s 6ms/step - loss: 94842.7656 - mae: 80.4281 - val_loss: 43477.5391 - val_mae: 53.6091\n",
      "Epoch 177/500\n",
      "1112/1112 [==============================] - 6s 5ms/step - loss: 66732.3750 - mae: 70.6576 - val_loss: 44839.3164 - val_mae: 63.4442\n",
      "Epoch 178/500\n",
      "1112/1112 [==============================] - 6s 5ms/step - loss: 86269.7422 - mae: 80.4874 - val_loss: 51260.2969 - val_mae: 65.4094\n",
      "Epoch 179/500\n",
      "1112/1112 [==============================] - 6s 5ms/step - loss: 81385.5781 - mae: 77.8808 - val_loss: 39867.7109 - val_mae: 58.8401\n",
      "Epoch 180/500\n",
      "1112/1112 [==============================] - 6s 5ms/step - loss: 88186.5781 - mae: 78.2000 - val_loss: 66629.8047 - val_mae: 87.7024\n",
      "Epoch 181/500\n",
      "1112/1112 [==============================] - 6s 5ms/step - loss: 94590.5469 - mae: 81.2079 - val_loss: 68908.3984 - val_mae: 78.1703\n",
      "Epoch 182/500\n",
      "1112/1112 [==============================] - 6s 6ms/step - loss: 75198.6875 - mae: 74.4962 - val_loss: 65675.0312 - val_mae: 70.4697\n",
      "Epoch 183/500\n",
      "1112/1112 [==============================] - 6s 6ms/step - loss: 83995.7969 - mae: 78.0205 - val_loss: 85342.7969 - val_mae: 85.2792\n",
      "Epoch 184/500\n",
      "1112/1112 [==============================] - 7s 6ms/step - loss: 86933.6641 - mae: 78.6741 - val_loss: 80147.8438 - val_mae: 76.3740\n"
     ]
    }
   ],
   "source": [
    "history = ann.fit(X_train, y_train,\n",
    "                    validation_data = (X_val, y_val),\n",
    "                    callbacks=[es],\n",
    "                    epochs=500,\n",
    "                    batch_size=30,\n",
    "                    verbose=1)"
   ]
  },
  {
   "cell_type": "code",
   "execution_count": 22,
   "metadata": {
    "ExecuteTime": {
     "end_time": "2024-08-21T03:02:38.342668Z",
     "start_time": "2024-08-21T03:02:37.970649700Z"
    }
   },
   "outputs": [
    {
     "data": {
      "text/plain": "<Figure size 600x600 with 1 Axes>",
      "image/png": "[encoded data removed]"
     },
     "metadata": {},
     "output_type": "display_data"
    }
   ],
   "source": [
    "# let's see the training and validation accuracy by epoch\n",
    "history_dict = history.history\n",
    "loss_values = history_dict['loss'] # you can change this\n",
    "val_loss_values = history_dict['val_loss'] # you can also change this\n",
    "epochs = range(1, len(loss_values) + 1) # range of X (no. of epochs)\n",
    "\n",
    "# Set global font to Times New Roman and font size\n",
    "plt.rcParams['font.family'] = 'serif'\n",
    "plt.rcParams['font.serif'] = ['Times New Roman']\n",
    "plt.rcParams['font.size'] = 20\n",
    "\n",
    "# Create a plot\n",
    "plt.figure(figsize=(6, 6))\n",
    "plt.plot(epochs, loss_values, 'blue', label='Train set')\n",
    "plt.plot(epochs, val_loss_values, 'orange', label='Validation set')\n",
    "#plt.title('Training and testing loss')\n",
    "\n",
    "\n",
    "plt.xlabel('Epochs')\n",
    "plt.ylabel('Loss (MSE)')\n",
    "plt.legend()\n",
    "plt.savefig('Section1_ANN3_2.png', dpi=200, bbox_inches='tight')\n",
    "plt.show()"
   ]
  },
  {
   "cell_type": "code",
   "execution_count": 23,
   "metadata": {
    "ExecuteTime": {
     "end_time": "2024-08-21T03:02:39.083664500Z",
     "start_time": "2024-08-21T03:02:38.338664800Z"
    }
   },
   "outputs": [
    {
     "data": {
      "text/plain": "<Figure size 600x600 with 1 Axes>",
      "image/png": "[encoded data removed]"
     },
     "metadata": {},
     "output_type": "display_data"
    }
   ],
   "source": [
    "loss_values1 = history_dict['mae'] # you can change this\n",
    "val_loss_values1 = history_dict['val_mae'] # you can also change this\n",
    "epochs = range(1, len(loss_values1) + 1) # range of X (no. of epochs)\n",
    "# Create a plot\n",
    "plt.figure(figsize=(6, 6))\n",
    "plt.plot(epochs, loss_values1, 'blue', label='Train set')\n",
    "plt.plot(epochs, val_loss_values1, 'orange', label='Validation set')\n",
    "#plt.title('Training and testing MAE')\n",
    "plt.xlabel('Epochs')\n",
    "plt.ylabel('MAE (kPa)')\n",
    "plt.legend()\n",
    "plt.savefig('Section1_ANN3_3.png', dpi=200, bbox_inches='tight')\n",
    "plt.show()"
   ]
  },
  {
   "cell_type": "code",
   "execution_count": 24,
   "metadata": {
    "ExecuteTime": {
     "end_time": "2024-08-21T03:02:41.075687300Z",
     "start_time": "2024-08-21T03:02:39.083664500Z"
    }
   },
   "outputs": [
    {
     "name": "stdout",
     "output_type": "stream",
     "text": [
      "INFO:tensorflow:Assets written to: Section1_new3_ANN_3\\assets\n"
     ]
    }
   ],
   "source": [
    "ann.save('Section1_new3_ANN_3')\n",
    "import pickle\n",
    "pickle.dump(sc, open('Section1_new3_scaler_ANN_3.pkl', 'wb'))"
   ]
  },
  {
   "cell_type": "markdown",
   "metadata": {},
   "source": [
    "## Part 5 - Make predictions"
   ]
  },
  {
   "cell_type": "code",
   "execution_count": 25,
   "metadata": {
    "ExecuteTime": {
     "end_time": "2024-08-21T03:02:50.240464200Z",
     "start_time": "2024-08-21T03:02:41.081686800Z"
    }
   },
   "outputs": [
    {
     "name": "stdout",
     "output_type": "stream",
     "text": [
      "1042/1042 [==============================] - 6s 6ms/step\n",
      "348/348 [==============================] - 1s 2ms/step\n"
     ]
    },
    {
     "data": {
      "text/plain": "<Figure size 640x480 with 2 Axes>",
      "image/png": "[encoded data removed]"
     },
     "metadata": {},
     "output_type": "display_data"
    }
   ],
   "source": [
    "# scatterplot of actual vs. pred\n",
    "# specify the dimensions \n",
    "fig, axes = plt.subplots(1,2) # 1 row, 2 columns\n",
    "\n",
    "# this makes the individual subplots\n",
    "# Training Results\n",
    "axes[0].scatter(x=y_train, y=ann.predict(X_train)) #first row, first entry (left top)\n",
    "axes[0].set_xlabel(\"Actual\", fontsize=20)\n",
    "axes[0].set_ylabel(\"Predicted\",  fontsize=20)\n",
    "axes[0].set_title(\"Training\")\n",
    "# add 45 deg line\n",
    "x = np.linspace(*axes[0].get_xlim())\n",
    "axes[0].plot(x, x, color='red')\n",
    "# Validation Results\n",
    "axes[1].scatter(x=y_val, y=ann.predict(X_val)) # first row, second entry (right top)\n",
    "axes[1].set_xlabel(\"Actual\", fontsize=20)\n",
    "axes[1].set_ylabel(\"Predicted\",  fontsize=20)\n",
    "axes[1].set_title(\"Validation\")\n",
    "# add 45 deg line\n",
    "x = np.linspace(*axes[1].get_xlim())\n",
    "axes[1].plot(x, x, color='red')\n",
    "\n",
    "# tight layout\n",
    "fig.tight_layout()\n",
    "\n",
    "plt.savefig('Section1_ANN3_1.png', dpi=200, bbox_inches='tight')\n",
    "# show the plot\n",
    "plt.show()"
   ]
  },
  {
   "cell_type": "code",
   "execution_count": 26,
   "metadata": {
    "colab": {
     "base_uri": "https://localhost:8080/",
     "height": 134
    },
    "colab_type": "code",
    "id": "IA0yApEmBG1X",
    "outputId": "cb981e1f-9204-4a2a-fece-9d66a6919189",
    "ExecuteTime": {
     "end_time": "2024-08-21T03:02:51.391478500Z",
     "start_time": "2024-08-21T03:02:50.238464800Z"
    }
   },
   "outputs": [
    {
     "name": "stdout",
     "output_type": "stream",
     "text": [
      "348/348 [==============================] - 1s 3ms/step\n",
      "[[ 8.35e+03  8.65e+03]\n",
      " [ 1.75e+02  1.84e+02]\n",
      " [ 5.07e+02  5.02e+02]\n",
      " ...\n",
      " [ 1.26e+01  4.37e+00]\n",
      " [-6.85e+01 -6.46e+01]\n",
      " [ 5.58e+01  7.16e+01]]\n"
     ]
    }
   ],
   "source": [
    "y_pred = ann.predict(X_test)\n",
    "np.set_printoptions(precision=2)\n",
    "print(np.concatenate((y_pred.reshape(len(y_pred),1), y_test.reshape(len(y_test),1)),1))"
   ]
  },
  {
   "cell_type": "code",
   "execution_count": 27,
   "metadata": {
    "ExecuteTime": {
     "end_time": "2024-08-21T03:02:51.603479300Z",
     "start_time": "2024-08-21T03:02:51.379479Z"
    }
   },
   "outputs": [
    {
     "data": {
      "text/plain": "Text(0, 0.5, 'Predicted data')"
     },
     "execution_count": 27,
     "metadata": {},
     "output_type": "execute_result"
    },
    {
     "data": {
      "text/plain": "<Figure size 640x480 with 1 Axes>",
      "image/png": "[encoded data removed]"
     },
     "metadata": {},
     "output_type": "display_data"
    }
   ],
   "source": [
    "import matplotlib.pyplot as plt\n",
    "plt.scatter(y_test, y_pred, color=\"blue\")\n",
    "plt.xlabel ('Actual data')\n",
    "plt.ylabel ('Predicted data')"
   ]
  },
  {
   "cell_type": "code",
   "execution_count": 28,
   "metadata": {
    "ExecuteTime": {
     "end_time": "2024-08-21T03:02:52.237496700Z",
     "start_time": "2024-08-21T03:02:51.607478700Z"
    }
   },
   "outputs": [
    {
     "data": {
      "text/plain": "<Figure size 600x600 with 1 Axes>",
      "image/png": "[encoded data removed]"
     },
     "metadata": {},
     "output_type": "display_data"
    }
   ],
   "source": [
    "from sklearn.metrics import r2_score\n",
    "# Initialize layout\n",
    "fig1, ax1 = plt.subplots(figsize = (6, 6))\n",
    "\n",
    "# Set global font to Times New Roman and font size\n",
    "plt.rcParams['font.family'] = 'serif'\n",
    "plt.rcParams['font.serif'] = ['Times New Roman']\n",
    "plt.rcParams['font.size'] = 20\n",
    "\n",
    "b_l = -1000\n",
    "u_l = 25000\n",
    "\n",
    "# Add scatterplot\n",
    "ax1.scatter(y_test, y_pred, s=70, alpha=1, edgecolors=\"k\",c='mediumblue',zorder=5, label = 'Points')\n",
    "\n",
    "\n",
    "plt.ylabel('Predicted Reflected Overpressure (kPa)')\n",
    "plt.xlabel('Target Reflected Overpressure (kPa)')\n",
    "plt.xticks(fontsize = 19)\n",
    "plt.yticks(fontsize = 19)\n",
    "\n",
    "\n",
    "x1 = np.linspace(b_l, u_l)\n",
    "\n",
    "plt.plot(x1, x1, 'Red', label='45\\N{DEGREE SIGN} line',lw=2.5,alpha=1)\n",
    "#plt.plot(x1, 1.05*x1, '--m', label='\\u00B15% Error',lw=2.5,alpha=0.7)\n",
    "#plt.plot(x1, 0.95*x1,'m', linestyle='--',lw=2.5,alpha=0.7)\n",
    "#plt.plot(x1, 1.1*x1, '-.g', label='\\u00B110% Error',lw=2.5,alpha=0.7)\n",
    "#plt.plot(x1, 0.9*x1,'-.g',lw=2.5,alpha=0.7)\n",
    "#plt.plot(x1, 1.2*x1, color = '#F97306', linestyle='dotted', label='\\u00B120% Error',lw=2.5,alpha=0.7)\n",
    "#plt.plot(x1, 0.8*x1,color = '#F97306', linestyle='dotted', lw=2.5,alpha=0.7)\n",
    "\n",
    "plt.ylim(b_l, u_l)\n",
    "plt.xlim(b_l, u_l)\n",
    "plt.legend(loc='upper center', bbox_to_anchor=(0.5, -0.15), ncol=4, frameon = False, fontsize = 20)\n",
    "\n",
    "#plt.grid()\n",
    "\n",
    "ax1.spines['left'].set_color('black')        # setting up Y-axis tick color to red\n",
    "ax1.spines['bottom'].set_color('black')         #setting up above X-axis tick color to red\n",
    "\n",
    "plt.savefig('Section1_ANN3.png', dpi=200, bbox_inches='tight')"
   ]
  },
  {
   "cell_type": "code",
   "execution_count": 29,
   "metadata": {
    "ExecuteTime": {
     "end_time": "2024-08-21T03:02:55.088519700Z",
     "start_time": "2024-08-21T03:02:52.237496700Z"
    }
   },
   "outputs": [
    {
     "name": "stdout",
     "output_type": "stream",
     "text": [
      "1042/1042 [==============================] - 2s 2ms/step\n",
      "47.32065516574268\n",
      "45.442500068344486\n"
     ]
    }
   ],
   "source": [
    "# metrics\n",
    "trainpreds = ann.predict(X_train)\n",
    "\n",
    "from sklearn.metrics import mean_absolute_error\n",
    "print(mean_absolute_error(y_train, trainpreds)) # train\n",
    "print(mean_absolute_error(y_test, y_pred)) # test"
   ]
  },
  {
   "cell_type": "code",
   "execution_count": 30,
   "metadata": {
    "ExecuteTime": {
     "end_time": "2024-08-21T03:02:55.105518200Z",
     "start_time": "2024-08-21T03:02:55.084518200Z"
    }
   },
   "outputs": [
    {
     "name": "stdout",
     "output_type": "stream",
     "text": [
      "0.9928429121508215\n"
     ]
    }
   ],
   "source": [
    "from sklearn.metrics import r2_score\n",
    "r2 = r2_score(y_test, y_pred)\n",
    "print (r2)"
   ]
  },
  {
   "cell_type": "code",
   "execution_count": 31,
   "metadata": {
    "ExecuteTime": {
     "end_time": "2024-08-21T03:02:55.267528900Z",
     "start_time": "2024-08-21T03:02:55.099518100Z"
    }
   },
   "outputs": [
    {
     "name": "stdout",
     "output_type": "stream",
     "text": [
      "0.9938056002781794\n"
     ]
    }
   ],
   "source": [
    "r2_train = r2_score(y_train, trainpreds)\n",
    "print (r2_train)"
   ]
  },
  {
   "cell_type": "code",
   "execution_count": 32,
   "metadata": {
    "ExecuteTime": {
     "end_time": "2024-08-21T03:02:56.281532Z",
     "start_time": "2024-08-21T03:02:55.267528900Z"
    }
   },
   "outputs": [
    {
     "name": "stdout",
     "output_type": "stream",
     "text": [
      "Within 5% margin 21.48%\n",
      "Within 10% margin 34.76%\n",
      "Within 20% margin 44.42%\n",
      "Out of 20% margin 55.58%\n"
     ]
    }
   ],
   "source": [
    "count0 = 0\n",
    "for i in range(len(y_pred)):\n",
    "    line1 = y_pred[i] - 0.95*y_test[i]\n",
    "    line2 = y_pred[i] - 1.05*y_test[i]\n",
    "    mask0 = (line1 > 0) & (line2 < 0)\n",
    "    count0 = np.sum(mask0+count0)\n",
    "\n",
    "count1 = 0\n",
    "for i in range(len(y_pred)):\n",
    "    line1 = y_pred[i] - 0.9*y_test[i]\n",
    "    line2 = y_pred[i] - 1.1*y_test[i]\n",
    "    mask1 = (line1 > 0) & (line2 < 0)\n",
    "    count1 = np.sum(mask1+count1)\n",
    "\n",
    "count2 = 0\n",
    "for j in range(len(y_pred)):\n",
    "    line3 = y_pred[j] - 0.8*y_test[j]\n",
    "    line4 = y_pred[j] - 1.2*y_test[j]\n",
    "    mask2 = (line3 > 0) & (line4 < 0)\n",
    "    count2 = np.sum(mask2+count2)\n",
    "\n",
    "\n",
    "count3 = 0    \n",
    "for k in range(len(y_pred)):\n",
    "    line5 = y_pred[k] - 0.8*y_test[k]\n",
    "    line6 = y_pred[k] - 1.2*y_test[k]\n",
    "    mask3 = (line5 < 0) or (line6 > 0)\n",
    "    count3 = np.sum(mask3+count3)\n",
    "   \n",
    "\n",
    "print ('Within 5% margin', format((count0/len (y_pred)),'.2%'))\n",
    "print ('Within 10% margin', format((count1/len (y_pred)),'.2%'))\n",
    "print ('Within 20% margin', format((count2/len (y_pred)),'.2%'))\n",
    "print ('Out of 20% margin', format((count3/len (y_pred)),'.2%'))"
   ]
  },
  {
   "cell_type": "code",
   "execution_count": 33,
   "metadata": {
    "ExecuteTime": {
     "end_time": "2024-08-21T03:02:56.309532300Z",
     "start_time": "2024-08-21T03:02:56.281532Z"
    }
   },
   "outputs": [
    {
     "name": "stdout",
     "output_type": "stream",
     "text": [
      "0.9928390451965582\n"
     ]
    }
   ],
   "source": [
    "adj_r2 = 1 - ((1 - r2) * (len(X_test) - 1) / (len(X_test) - len (X_test[0]) - 1))\n",
    "print (adj_r2)"
   ]
  },
  {
   "cell_type": "code",
   "execution_count": 34,
   "metadata": {
    "ExecuteTime": {
     "end_time": "2024-08-21T03:02:56.435535300Z",
     "start_time": "2024-08-21T03:02:56.296532400Z"
    }
   },
   "outputs": [
    {
     "data": {
      "text/plain": "161.4910095997385"
     },
     "execution_count": 34,
     "metadata": {},
     "output_type": "execute_result"
    }
   ],
   "source": [
    "import math\n",
    "from sklearn.metrics import mean_squared_error\n",
    "\n",
    "math.sqrt(mean_squared_error(y_test, y_pred))"
   ]
  },
  {
   "cell_type": "code",
   "execution_count": 35,
   "metadata": {
    "ExecuteTime": {
     "end_time": "2024-08-21T03:02:56.590535300Z",
     "start_time": "2024-08-21T03:02:56.434535600Z"
    }
   },
   "outputs": [
    {
     "data": {
      "text/plain": "45.442500068344486"
     },
     "execution_count": 35,
     "metadata": {},
     "output_type": "execute_result"
    }
   ],
   "source": [
    "from sklearn.metrics import mean_absolute_error\n",
    "\n",
    "mean_absolute_error(y_test, y_pred)"
   ]
  }
 ],
 "metadata": {
  "colab": {
   "collapsed_sections": [],
   "name": "Artificial Neural Network",
   "provenance": [],
   "toc_visible": true
  },
  "kernelspec": {
   "display_name": "Python 3 (ipykernel)",
   "language": "python",
   "name": "python3"
  },
  "language_info": {
   "codemirror_mode": {
    "name": "ipython",
    "version": 3
   },
   "file_extension": ".py",
   "mimetype": "text/x-python",
   "name": "python",
   "nbconvert_exporter": "python",
   "pygments_lexer": "ipython3",
   "version": "3.9.7"
  }
 },
 "nbformat": 4,
 "nbformat_minor": 4
}
