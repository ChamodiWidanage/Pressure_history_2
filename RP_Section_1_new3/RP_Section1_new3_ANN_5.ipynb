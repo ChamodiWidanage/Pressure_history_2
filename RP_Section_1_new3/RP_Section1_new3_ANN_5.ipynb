{
 "cells": [
  {
   "cell_type": "markdown",
   "metadata": {
    "colab_type": "text",
    "id": "3cbb7fRy-eyr"
   },
   "source": [
    "# Artificial Neural Network"
   ]
  },
  {
   "cell_type": "markdown",
   "source": [
    "## Part 1 - Importing the libraries"
   ],
   "metadata": {
    "collapsed": false
   }
  },
  {
   "cell_type": "code",
   "execution_count": 1,
   "metadata": {
    "colab": {},
    "colab_type": "code",
    "id": "lxChR1Rk-umf",
    "ExecuteTime": {
     "end_time": "2024-08-29T22:48:59.340833900Z",
     "start_time": "2024-08-29T22:48:54.182732700Z"
    }
   },
   "outputs": [],
   "source": [
    "import numpy as np\n",
    "import pandas as pd\n",
    "import tensorflow as tf\n",
    "import matplotlib.pyplot as plt\n",
    "from keras.models import load_model\n",
    "from pathlib import Path\n",
    "import pickle"
   ]
  },
  {
   "cell_type": "markdown",
   "metadata": {
    "colab_type": "text",
    "id": "AG3FQEch-yuA"
   },
   "source": [
    "## Part 2 - Data Preprocessing"
   ]
  },
  {
   "cell_type": "code",
   "execution_count": 2,
   "metadata": {
    "ExecuteTime": {
     "end_time": "2024-08-29T22:48:59.427591900Z",
     "start_time": "2024-08-29T22:48:59.345792Z"
    }
   },
   "outputs": [
    {
     "name": "stdout",
     "output_type": "stream",
     "text": [
      "input G:\\Chamodi\\LSDYNA3D\\RP_TH_models\\RP_Section_1_new2\n",
      "2 [WindowsPath('G:/Chamodi/LSDYNA3D/RP_TH_models/RP_Section_1_new2/1.50m'), WindowsPath('G:/Chamodi/LSDYNA3D/RP_TH_models/RP_Section_1_new2/1.75m'), WindowsPath('G:/Chamodi/LSDYNA3D/RP_TH_models/RP_Section_1_new2/2.00m'), WindowsPath('G:/Chamodi/LSDYNA3D/RP_TH_models/RP_Section_1_new2/2.25m'), WindowsPath('G:/Chamodi/LSDYNA3D/RP_TH_models/RP_Section_1_new2/2.50m'), WindowsPath('G:/Chamodi/LSDYNA3D/RP_TH_models/RP_Section_1_new2/2.75m'), WindowsPath('G:/Chamodi/LSDYNA3D/RP_TH_models/RP_Section_1_new2/3.00m')]\n"
     ]
    }
   ],
   "source": [
    "#Access input folder\n",
    "current_dir = Path.cwd()\n",
    "input_dir1 = Path (\"G:/Chamodi/LSDYNA3D/RP_TH_models/RP_Section_1_new2\")\n",
    "print (\"input\",input_dir1)\n",
    "\n",
    "#Access folders inside input folder\n",
    "input_dir2=  [folder1 for folder1 in input_dir1.iterdir() if folder1.is_dir()] # folder1 - RP_curves_fr7m\n",
    "print (\"2\",input_dir2)"
   ]
  },
  {
   "cell_type": "code",
   "execution_count": 3,
   "metadata": {
    "ExecuteTime": {
     "end_time": "2024-08-29T22:49:13.042615Z",
     "start_time": "2024-08-29T22:48:59.378006900Z"
    }
   },
   "outputs": [
    {
     "name": "stdout",
     "output_type": "stream",
     "text": [
      "folder G:\\Chamodi\\LSDYNA3D\\RP_TH_models\\RP_Section_1_new2\\1.50m\\1.50m00.5kg\n",
      "1\n",
      "2\n",
      "3\n",
      "4\n",
      "folder G:\\Chamodi\\LSDYNA3D\\RP_TH_models\\RP_Section_1_new2\\1.50m\\1.50m02.5kg\n",
      "1\n",
      "2\n",
      "3\n",
      "4\n",
      "folder G:\\Chamodi\\LSDYNA3D\\RP_TH_models\\RP_Section_1_new2\\1.50m\\1.50m04.5kg\n",
      "1\n",
      "2\n",
      "3\n",
      "4\n",
      "folder G:\\Chamodi\\LSDYNA3D\\RP_TH_models\\RP_Section_1_new2\\1.50m\\1.50m06.5kg\n",
      "1\n",
      "2\n",
      "3\n",
      "4\n",
      "folder G:\\Chamodi\\LSDYNA3D\\RP_TH_models\\RP_Section_1_new2\\1.50m\\1.50m08.5kg\n",
      "1\n",
      "2\n",
      "3\n",
      "4\n",
      "folder G:\\Chamodi\\LSDYNA3D\\RP_TH_models\\RP_Section_1_new2\\1.50m\\1.50m10.5kg\n",
      "1\n",
      "2\n",
      "3\n",
      "4\n",
      "folder G:\\Chamodi\\LSDYNA3D\\RP_TH_models\\RP_Section_1_new2\\1.50m\\1.50m12.5kg\n",
      "1\n",
      "2\n",
      "3\n",
      "4\n",
      "folder G:\\Chamodi\\LSDYNA3D\\RP_TH_models\\RP_Section_1_new2\\1.50m\\1.50m14.5kg\n",
      "1\n",
      "2\n",
      "3\n",
      "4\n",
      "folder G:\\Chamodi\\LSDYNA3D\\RP_TH_models\\RP_Section_1_new2\\1.50m\\1.50m16.5kg\n",
      "1\n",
      "2\n",
      "3\n",
      "4\n",
      "folder G:\\Chamodi\\LSDYNA3D\\RP_TH_models\\RP_Section_1_new2\\1.50m\\1.50m18.5kg\n",
      "1\n",
      "2\n",
      "3\n",
      "4\n",
      "folder G:\\Chamodi\\LSDYNA3D\\RP_TH_models\\RP_Section_1_new2\\1.50m\\1.50m20.5kg\n",
      "1\n",
      "2\n",
      "3\n",
      "4\n",
      "folder G:\\Chamodi\\LSDYNA3D\\RP_TH_models\\RP_Section_1_new2\\1.50m\\1.50m22.5kg\n",
      "1\n",
      "2\n",
      "3\n",
      "4\n",
      "folder G:\\Chamodi\\LSDYNA3D\\RP_TH_models\\RP_Section_1_new2\\1.50m\\1.50m24.5kg\n",
      "1\n",
      "2\n",
      "3\n",
      "4\n",
      "folder G:\\Chamodi\\LSDYNA3D\\RP_TH_models\\RP_Section_1_new2\\1.50m\\1.50m26.5kg\n",
      "1\n",
      "2\n",
      "3\n",
      "4\n",
      "folder G:\\Chamodi\\LSDYNA3D\\RP_TH_models\\RP_Section_1_new2\\1.50m\\1.50m28.5kg\n",
      "1\n",
      "2\n",
      "3\n",
      "4\n",
      "folder G:\\Chamodi\\LSDYNA3D\\RP_TH_models\\RP_Section_1_new2\\1.50m\\1.50m30.5kg\n",
      "1\n",
      "2\n",
      "3\n",
      "4\n",
      "folder G:\\Chamodi\\LSDYNA3D\\RP_TH_models\\RP_Section_1_new2\\1.50m\\1.50m32.5kg\n",
      "1\n",
      "2\n",
      "3\n",
      "4\n",
      "folder G:\\Chamodi\\LSDYNA3D\\RP_TH_models\\RP_Section_1_new2\\1.50m\\1.50m34.5kg\n",
      "1\n",
      "2\n",
      "3\n",
      "4\n",
      "folder G:\\Chamodi\\LSDYNA3D\\RP_TH_models\\RP_Section_1_new2\\1.50m\\1.50m35.0kg\n",
      "1\n",
      "2\n",
      "3\n",
      "4\n",
      "folder G:\\Chamodi\\LSDYNA3D\\RP_TH_models\\RP_Section_1_new2\\1.75m\\1.75m00.5kg\n",
      "1\n",
      "2\n",
      "3\n",
      "4\n",
      "folder G:\\Chamodi\\LSDYNA3D\\RP_TH_models\\RP_Section_1_new2\\1.75m\\1.75m02.5kg\n",
      "1\n",
      "2\n",
      "3\n",
      "4\n",
      "folder G:\\Chamodi\\LSDYNA3D\\RP_TH_models\\RP_Section_1_new2\\1.75m\\1.75m04.5kg\n",
      "1\n",
      "2\n",
      "3\n",
      "4\n",
      "folder G:\\Chamodi\\LSDYNA3D\\RP_TH_models\\RP_Section_1_new2\\1.75m\\1.75m06.5kg\n",
      "1\n",
      "2\n",
      "3\n",
      "4\n",
      "folder G:\\Chamodi\\LSDYNA3D\\RP_TH_models\\RP_Section_1_new2\\1.75m\\1.75m08.5kg\n",
      "1\n",
      "2\n",
      "3\n",
      "4\n",
      "folder G:\\Chamodi\\LSDYNA3D\\RP_TH_models\\RP_Section_1_new2\\1.75m\\1.75m10.5kg\n",
      "1\n",
      "2\n",
      "3\n",
      "4\n",
      "folder G:\\Chamodi\\LSDYNA3D\\RP_TH_models\\RP_Section_1_new2\\1.75m\\1.75m12.5kg\n",
      "1\n",
      "2\n",
      "3\n",
      "4\n",
      "folder G:\\Chamodi\\LSDYNA3D\\RP_TH_models\\RP_Section_1_new2\\1.75m\\1.75m14.5kg\n",
      "1\n",
      "2\n",
      "3\n",
      "4\n",
      "folder G:\\Chamodi\\LSDYNA3D\\RP_TH_models\\RP_Section_1_new2\\1.75m\\1.75m16.5kg\n",
      "1\n",
      "2\n",
      "3\n",
      "4\n",
      "folder G:\\Chamodi\\LSDYNA3D\\RP_TH_models\\RP_Section_1_new2\\1.75m\\1.75m18.5kg\n",
      "1\n",
      "2\n",
      "3\n",
      "4\n",
      "folder G:\\Chamodi\\LSDYNA3D\\RP_TH_models\\RP_Section_1_new2\\1.75m\\1.75m20.5kg\n",
      "1\n",
      "2\n",
      "3\n",
      "4\n",
      "folder G:\\Chamodi\\LSDYNA3D\\RP_TH_models\\RP_Section_1_new2\\1.75m\\1.75m22.5kg\n",
      "1\n",
      "2\n",
      "3\n",
      "4\n",
      "folder G:\\Chamodi\\LSDYNA3D\\RP_TH_models\\RP_Section_1_new2\\1.75m\\1.75m24.5kg\n",
      "1\n",
      "2\n",
      "3\n",
      "4\n",
      "folder G:\\Chamodi\\LSDYNA3D\\RP_TH_models\\RP_Section_1_new2\\1.75m\\1.75m26.5kg\n",
      "1\n",
      "2\n",
      "3\n",
      "4\n",
      "folder G:\\Chamodi\\LSDYNA3D\\RP_TH_models\\RP_Section_1_new2\\1.75m\\1.75m28.5kg\n",
      "1\n",
      "2\n",
      "3\n",
      "4\n",
      "folder G:\\Chamodi\\LSDYNA3D\\RP_TH_models\\RP_Section_1_new2\\1.75m\\1.75m30.5kg\n",
      "1\n",
      "2\n",
      "3\n",
      "4\n",
      "folder G:\\Chamodi\\LSDYNA3D\\RP_TH_models\\RP_Section_1_new2\\1.75m\\1.75m32.5kg\n",
      "1\n",
      "2\n",
      "3\n",
      "4\n",
      "folder G:\\Chamodi\\LSDYNA3D\\RP_TH_models\\RP_Section_1_new2\\1.75m\\1.75m34.5kg\n",
      "1\n",
      "2\n",
      "3\n",
      "4\n",
      "folder G:\\Chamodi\\LSDYNA3D\\RP_TH_models\\RP_Section_1_new2\\1.75m\\1.75m35.0kg\n",
      "1\n",
      "2\n",
      "3\n",
      "4\n",
      "folder G:\\Chamodi\\LSDYNA3D\\RP_TH_models\\RP_Section_1_new2\\2.00m\\2.00m00.5kg\n",
      "1\n",
      "2\n",
      "3\n",
      "4\n",
      "folder G:\\Chamodi\\LSDYNA3D\\RP_TH_models\\RP_Section_1_new2\\2.00m\\2.00m02.5kg\n",
      "1\n",
      "2\n",
      "3\n",
      "4\n",
      "folder G:\\Chamodi\\LSDYNA3D\\RP_TH_models\\RP_Section_1_new2\\2.00m\\2.00m04.5kg\n",
      "1\n",
      "2\n",
      "3\n",
      "4\n",
      "folder G:\\Chamodi\\LSDYNA3D\\RP_TH_models\\RP_Section_1_new2\\2.00m\\2.00m06.5kg\n",
      "1\n",
      "2\n",
      "3\n",
      "4\n",
      "folder G:\\Chamodi\\LSDYNA3D\\RP_TH_models\\RP_Section_1_new2\\2.00m\\2.00m08.5kg\n",
      "1\n",
      "2\n",
      "3\n",
      "4\n",
      "folder G:\\Chamodi\\LSDYNA3D\\RP_TH_models\\RP_Section_1_new2\\2.00m\\2.00m10.5kg\n",
      "1\n",
      "2\n",
      "3\n",
      "4\n",
      "folder G:\\Chamodi\\LSDYNA3D\\RP_TH_models\\RP_Section_1_new2\\2.00m\\2.00m12.5kg\n",
      "1\n",
      "2\n",
      "3\n",
      "4\n",
      "folder G:\\Chamodi\\LSDYNA3D\\RP_TH_models\\RP_Section_1_new2\\2.00m\\2.00m14.5kg\n",
      "1\n",
      "2\n",
      "3\n",
      "4\n",
      "folder G:\\Chamodi\\LSDYNA3D\\RP_TH_models\\RP_Section_1_new2\\2.00m\\2.00m16.5kg\n",
      "1\n",
      "2\n",
      "3\n",
      "4\n",
      "folder G:\\Chamodi\\LSDYNA3D\\RP_TH_models\\RP_Section_1_new2\\2.00m\\2.00m18.5kg\n",
      "1\n",
      "2\n",
      "3\n",
      "4\n",
      "folder G:\\Chamodi\\LSDYNA3D\\RP_TH_models\\RP_Section_1_new2\\2.00m\\2.00m20.5kg\n",
      "1\n",
      "2\n",
      "3\n",
      "4\n",
      "folder G:\\Chamodi\\LSDYNA3D\\RP_TH_models\\RP_Section_1_new2\\2.00m\\2.00m22.5kg\n",
      "1\n",
      "2\n",
      "3\n",
      "4\n",
      "folder G:\\Chamodi\\LSDYNA3D\\RP_TH_models\\RP_Section_1_new2\\2.00m\\2.00m24.5kg\n",
      "1\n",
      "2\n",
      "3\n",
      "4\n",
      "folder G:\\Chamodi\\LSDYNA3D\\RP_TH_models\\RP_Section_1_new2\\2.00m\\2.00m26.5kg\n",
      "1\n",
      "2\n",
      "3\n",
      "4\n",
      "folder G:\\Chamodi\\LSDYNA3D\\RP_TH_models\\RP_Section_1_new2\\2.00m\\2.00m28.5kg\n",
      "1\n",
      "2\n",
      "3\n",
      "4\n",
      "folder G:\\Chamodi\\LSDYNA3D\\RP_TH_models\\RP_Section_1_new2\\2.00m\\2.00m30.5kg\n",
      "1\n",
      "2\n",
      "3\n",
      "4\n",
      "folder G:\\Chamodi\\LSDYNA3D\\RP_TH_models\\RP_Section_1_new2\\2.00m\\2.00m32.5kg\n",
      "1\n",
      "2\n",
      "3\n",
      "4\n",
      "folder G:\\Chamodi\\LSDYNA3D\\RP_TH_models\\RP_Section_1_new2\\2.00m\\2.00m34.5kg\n",
      "1\n",
      "2\n",
      "3\n",
      "4\n",
      "folder G:\\Chamodi\\LSDYNA3D\\RP_TH_models\\RP_Section_1_new2\\2.00m\\2.00m35.0kg\n",
      "1\n",
      "2\n",
      "3\n",
      "4\n",
      "folder G:\\Chamodi\\LSDYNA3D\\RP_TH_models\\RP_Section_1_new2\\2.25m\\2.25m00.5kg\n",
      "1\n",
      "2\n",
      "3\n",
      "4\n",
      "folder G:\\Chamodi\\LSDYNA3D\\RP_TH_models\\RP_Section_1_new2\\2.25m\\2.25m02.5kg\n",
      "1\n",
      "2\n",
      "3\n",
      "4\n",
      "folder G:\\Chamodi\\LSDYNA3D\\RP_TH_models\\RP_Section_1_new2\\2.25m\\2.25m04.5kg\n",
      "1\n",
      "2\n",
      "3\n",
      "4\n",
      "folder G:\\Chamodi\\LSDYNA3D\\RP_TH_models\\RP_Section_1_new2\\2.25m\\2.25m06.5kg\n",
      "1\n",
      "2\n",
      "3\n",
      "4\n",
      "folder G:\\Chamodi\\LSDYNA3D\\RP_TH_models\\RP_Section_1_new2\\2.25m\\2.25m08.5kg\n",
      "1\n",
      "2\n",
      "3\n",
      "4\n",
      "folder G:\\Chamodi\\LSDYNA3D\\RP_TH_models\\RP_Section_1_new2\\2.25m\\2.25m10.5kg\n",
      "1\n",
      "2\n",
      "3\n",
      "4\n",
      "folder G:\\Chamodi\\LSDYNA3D\\RP_TH_models\\RP_Section_1_new2\\2.25m\\2.25m12.5kg\n",
      "1\n",
      "2\n",
      "3\n",
      "4\n",
      "folder G:\\Chamodi\\LSDYNA3D\\RP_TH_models\\RP_Section_1_new2\\2.25m\\2.25m14.5kg\n",
      "1\n",
      "2\n",
      "3\n",
      "4\n",
      "folder G:\\Chamodi\\LSDYNA3D\\RP_TH_models\\RP_Section_1_new2\\2.25m\\2.25m16.5kg\n",
      "1\n",
      "2\n",
      "3\n",
      "4\n",
      "folder G:\\Chamodi\\LSDYNA3D\\RP_TH_models\\RP_Section_1_new2\\2.25m\\2.25m18.5kg\n",
      "1\n",
      "2\n",
      "3\n",
      "4\n",
      "folder G:\\Chamodi\\LSDYNA3D\\RP_TH_models\\RP_Section_1_new2\\2.25m\\2.25m20.5kg\n",
      "1\n",
      "2\n",
      "3\n",
      "4\n",
      "folder G:\\Chamodi\\LSDYNA3D\\RP_TH_models\\RP_Section_1_new2\\2.25m\\2.25m22.5kg\n",
      "1\n",
      "2\n",
      "3\n",
      "4\n",
      "folder G:\\Chamodi\\LSDYNA3D\\RP_TH_models\\RP_Section_1_new2\\2.25m\\2.25m24.5kg\n",
      "1\n",
      "2\n",
      "3\n",
      "4\n",
      "folder G:\\Chamodi\\LSDYNA3D\\RP_TH_models\\RP_Section_1_new2\\2.25m\\2.25m26.5kg\n",
      "1\n",
      "2\n",
      "3\n",
      "4\n",
      "folder G:\\Chamodi\\LSDYNA3D\\RP_TH_models\\RP_Section_1_new2\\2.25m\\2.25m28.5kg\n",
      "1\n",
      "2\n",
      "3\n",
      "4\n",
      "folder G:\\Chamodi\\LSDYNA3D\\RP_TH_models\\RP_Section_1_new2\\2.25m\\2.25m30.5kg\n",
      "1\n",
      "2\n",
      "3\n",
      "4\n",
      "folder G:\\Chamodi\\LSDYNA3D\\RP_TH_models\\RP_Section_1_new2\\2.25m\\2.25m32.5kg\n",
      "1\n",
      "2\n",
      "3\n",
      "4\n",
      "folder G:\\Chamodi\\LSDYNA3D\\RP_TH_models\\RP_Section_1_new2\\2.25m\\2.25m34.5kg\n",
      "1\n",
      "2\n",
      "3\n",
      "4\n",
      "folder G:\\Chamodi\\LSDYNA3D\\RP_TH_models\\RP_Section_1_new2\\2.25m\\2.25m35.0kg\n",
      "1\n",
      "2\n",
      "3\n",
      "4\n",
      "folder G:\\Chamodi\\LSDYNA3D\\RP_TH_models\\RP_Section_1_new2\\2.50m\\2.50m00.5kg\n",
      "1\n",
      "2\n",
      "3\n",
      "4\n",
      "folder G:\\Chamodi\\LSDYNA3D\\RP_TH_models\\RP_Section_1_new2\\2.50m\\2.50m02.5kg\n",
      "1\n",
      "2\n",
      "3\n",
      "4\n",
      "folder G:\\Chamodi\\LSDYNA3D\\RP_TH_models\\RP_Section_1_new2\\2.50m\\2.50m04.5kg\n",
      "1\n",
      "2\n",
      "3\n",
      "4\n",
      "folder G:\\Chamodi\\LSDYNA3D\\RP_TH_models\\RP_Section_1_new2\\2.50m\\2.50m06.5kg\n",
      "1\n",
      "2\n",
      "3\n",
      "4\n",
      "folder G:\\Chamodi\\LSDYNA3D\\RP_TH_models\\RP_Section_1_new2\\2.50m\\2.50m08.5kg\n",
      "1\n",
      "2\n",
      "3\n",
      "4\n",
      "folder G:\\Chamodi\\LSDYNA3D\\RP_TH_models\\RP_Section_1_new2\\2.50m\\2.50m10.5kg\n",
      "1\n",
      "2\n",
      "3\n",
      "4\n",
      "folder G:\\Chamodi\\LSDYNA3D\\RP_TH_models\\RP_Section_1_new2\\2.50m\\2.50m12.5kg\n",
      "1\n",
      "2\n",
      "3\n",
      "4\n",
      "folder G:\\Chamodi\\LSDYNA3D\\RP_TH_models\\RP_Section_1_new2\\2.50m\\2.50m14.5kg\n",
      "1\n",
      "2\n",
      "3\n",
      "4\n",
      "folder G:\\Chamodi\\LSDYNA3D\\RP_TH_models\\RP_Section_1_new2\\2.50m\\2.50m16.5kg\n",
      "1\n",
      "2\n",
      "3\n",
      "4\n",
      "folder G:\\Chamodi\\LSDYNA3D\\RP_TH_models\\RP_Section_1_new2\\2.50m\\2.50m18.5kg\n",
      "1\n",
      "2\n",
      "3\n",
      "4\n",
      "folder G:\\Chamodi\\LSDYNA3D\\RP_TH_models\\RP_Section_1_new2\\2.50m\\2.50m20.5kg\n",
      "1\n",
      "2\n",
      "3\n",
      "4\n",
      "folder G:\\Chamodi\\LSDYNA3D\\RP_TH_models\\RP_Section_1_new2\\2.50m\\2.50m22.5kg\n",
      "1\n",
      "2\n",
      "3\n",
      "4\n",
      "folder G:\\Chamodi\\LSDYNA3D\\RP_TH_models\\RP_Section_1_new2\\2.50m\\2.50m24.5kg\n",
      "1\n",
      "2\n",
      "3\n",
      "4\n",
      "folder G:\\Chamodi\\LSDYNA3D\\RP_TH_models\\RP_Section_1_new2\\2.50m\\2.50m26.5kg\n",
      "1\n",
      "2\n",
      "3\n",
      "4\n",
      "folder G:\\Chamodi\\LSDYNA3D\\RP_TH_models\\RP_Section_1_new2\\2.50m\\2.50m28.5kg\n",
      "1\n",
      "2\n",
      "3\n",
      "4\n",
      "folder G:\\Chamodi\\LSDYNA3D\\RP_TH_models\\RP_Section_1_new2\\2.50m\\2.50m30.5kg\n",
      "1\n",
      "2\n",
      "3\n",
      "4\n",
      "folder G:\\Chamodi\\LSDYNA3D\\RP_TH_models\\RP_Section_1_new2\\2.50m\\2.50m32.5kg\n",
      "1\n",
      "2\n",
      "3\n",
      "4\n",
      "folder G:\\Chamodi\\LSDYNA3D\\RP_TH_models\\RP_Section_1_new2\\2.50m\\2.50m34.5kg\n",
      "1\n",
      "2\n",
      "3\n",
      "4\n",
      "folder G:\\Chamodi\\LSDYNA3D\\RP_TH_models\\RP_Section_1_new2\\2.50m\\2.50m35.0kg\n",
      "1\n",
      "2\n",
      "3\n",
      "4\n",
      "folder G:\\Chamodi\\LSDYNA3D\\RP_TH_models\\RP_Section_1_new2\\2.75m\\2.75m00.5kg\n",
      "1\n",
      "2\n",
      "3\n",
      "4\n",
      "folder G:\\Chamodi\\LSDYNA3D\\RP_TH_models\\RP_Section_1_new2\\2.75m\\2.75m02.5kg\n",
      "1\n",
      "2\n",
      "3\n",
      "4\n",
      "folder G:\\Chamodi\\LSDYNA3D\\RP_TH_models\\RP_Section_1_new2\\2.75m\\2.75m04.5kg\n",
      "1\n",
      "2\n",
      "3\n",
      "4\n",
      "folder G:\\Chamodi\\LSDYNA3D\\RP_TH_models\\RP_Section_1_new2\\2.75m\\2.75m06.5kg\n",
      "1\n",
      "2\n",
      "3\n",
      "4\n",
      "folder G:\\Chamodi\\LSDYNA3D\\RP_TH_models\\RP_Section_1_new2\\2.75m\\2.75m08.5kg\n",
      "1\n",
      "2\n",
      "3\n",
      "4\n",
      "folder G:\\Chamodi\\LSDYNA3D\\RP_TH_models\\RP_Section_1_new2\\2.75m\\2.75m10.5kg\n",
      "1\n",
      "2\n",
      "3\n",
      "4\n",
      "folder G:\\Chamodi\\LSDYNA3D\\RP_TH_models\\RP_Section_1_new2\\2.75m\\2.75m12.5kg\n",
      "1\n",
      "2\n",
      "3\n",
      "4\n",
      "folder G:\\Chamodi\\LSDYNA3D\\RP_TH_models\\RP_Section_1_new2\\2.75m\\2.75m14.5kg\n",
      "1\n",
      "2\n",
      "3\n",
      "4\n",
      "folder G:\\Chamodi\\LSDYNA3D\\RP_TH_models\\RP_Section_1_new2\\2.75m\\2.75m16.5kg\n",
      "1\n",
      "2\n",
      "3\n",
      "4\n",
      "folder G:\\Chamodi\\LSDYNA3D\\RP_TH_models\\RP_Section_1_new2\\2.75m\\2.75m18.5kg\n",
      "1\n",
      "2\n",
      "3\n",
      "4\n",
      "folder G:\\Chamodi\\LSDYNA3D\\RP_TH_models\\RP_Section_1_new2\\2.75m\\2.75m20.5kg\n",
      "1\n",
      "2\n",
      "3\n",
      "4\n",
      "folder G:\\Chamodi\\LSDYNA3D\\RP_TH_models\\RP_Section_1_new2\\2.75m\\2.75m22.5kg\n",
      "1\n",
      "2\n",
      "3\n",
      "4\n",
      "folder G:\\Chamodi\\LSDYNA3D\\RP_TH_models\\RP_Section_1_new2\\2.75m\\2.75m24.5kg\n",
      "1\n",
      "2\n",
      "3\n",
      "4\n",
      "folder G:\\Chamodi\\LSDYNA3D\\RP_TH_models\\RP_Section_1_new2\\2.75m\\2.75m26.5kg\n",
      "1\n",
      "2\n",
      "3\n",
      "4\n",
      "folder G:\\Chamodi\\LSDYNA3D\\RP_TH_models\\RP_Section_1_new2\\2.75m\\2.75m28.5kg\n",
      "1\n",
      "2\n",
      "3\n",
      "4\n",
      "folder G:\\Chamodi\\LSDYNA3D\\RP_TH_models\\RP_Section_1_new2\\2.75m\\2.75m30.5kg\n",
      "1\n",
      "2\n",
      "3\n",
      "4\n",
      "folder G:\\Chamodi\\LSDYNA3D\\RP_TH_models\\RP_Section_1_new2\\2.75m\\2.75m32.5kg\n",
      "1\n",
      "2\n",
      "3\n",
      "4\n",
      "folder G:\\Chamodi\\LSDYNA3D\\RP_TH_models\\RP_Section_1_new2\\2.75m\\2.75m34.5kg\n",
      "1\n",
      "2\n",
      "3\n",
      "4\n",
      "folder G:\\Chamodi\\LSDYNA3D\\RP_TH_models\\RP_Section_1_new2\\2.75m\\2.75m35.0kg\n",
      "1\n",
      "2\n",
      "3\n",
      "4\n",
      "folder G:\\Chamodi\\LSDYNA3D\\RP_TH_models\\RP_Section_1_new2\\3.00m\\3.00m00.5kg\n",
      "1\n",
      "2\n",
      "3\n",
      "4\n",
      "folder G:\\Chamodi\\LSDYNA3D\\RP_TH_models\\RP_Section_1_new2\\3.00m\\3.00m02.5kg\n",
      "1\n",
      "2\n",
      "3\n",
      "4\n",
      "folder G:\\Chamodi\\LSDYNA3D\\RP_TH_models\\RP_Section_1_new2\\3.00m\\3.00m04.5kg\n",
      "1\n",
      "2\n",
      "3\n",
      "4\n",
      "folder G:\\Chamodi\\LSDYNA3D\\RP_TH_models\\RP_Section_1_new2\\3.00m\\3.00m06.5kg\n",
      "1\n",
      "2\n",
      "3\n",
      "4\n",
      "folder G:\\Chamodi\\LSDYNA3D\\RP_TH_models\\RP_Section_1_new2\\3.00m\\3.00m08.5kg\n",
      "1\n",
      "2\n",
      "3\n",
      "4\n",
      "folder G:\\Chamodi\\LSDYNA3D\\RP_TH_models\\RP_Section_1_new2\\3.00m\\3.00m10.5kg\n",
      "1\n",
      "2\n",
      "3\n",
      "4\n",
      "folder G:\\Chamodi\\LSDYNA3D\\RP_TH_models\\RP_Section_1_new2\\3.00m\\3.00m12.5kg\n",
      "1\n",
      "2\n",
      "3\n",
      "4\n",
      "folder G:\\Chamodi\\LSDYNA3D\\RP_TH_models\\RP_Section_1_new2\\3.00m\\3.00m14.5kg\n",
      "1\n",
      "2\n",
      "3\n",
      "4\n",
      "folder G:\\Chamodi\\LSDYNA3D\\RP_TH_models\\RP_Section_1_new2\\3.00m\\3.00m16.5kg\n",
      "1\n",
      "2\n",
      "3\n",
      "4\n",
      "folder G:\\Chamodi\\LSDYNA3D\\RP_TH_models\\RP_Section_1_new2\\3.00m\\3.00m18.5kg\n",
      "1\n",
      "2\n",
      "3\n",
      "4\n",
      "folder G:\\Chamodi\\LSDYNA3D\\RP_TH_models\\RP_Section_1_new2\\3.00m\\3.00m20.5kg\n",
      "1\n",
      "2\n",
      "3\n",
      "4\n",
      "folder G:\\Chamodi\\LSDYNA3D\\RP_TH_models\\RP_Section_1_new2\\3.00m\\3.00m22.5kg\n",
      "1\n",
      "2\n",
      "3\n",
      "4\n",
      "folder G:\\Chamodi\\LSDYNA3D\\RP_TH_models\\RP_Section_1_new2\\3.00m\\3.00m24.5kg\n",
      "1\n",
      "2\n",
      "3\n",
      "4\n",
      "folder G:\\Chamodi\\LSDYNA3D\\RP_TH_models\\RP_Section_1_new2\\3.00m\\3.00m26.5kg\n",
      "1\n",
      "2\n",
      "3\n",
      "4\n",
      "folder G:\\Chamodi\\LSDYNA3D\\RP_TH_models\\RP_Section_1_new2\\3.00m\\3.00m28.5kg\n",
      "1\n",
      "2\n",
      "3\n",
      "4\n",
      "folder G:\\Chamodi\\LSDYNA3D\\RP_TH_models\\RP_Section_1_new2\\3.00m\\3.00m30.5kg\n",
      "1\n",
      "2\n",
      "3\n",
      "4\n",
      "folder G:\\Chamodi\\LSDYNA3D\\RP_TH_models\\RP_Section_1_new2\\3.00m\\3.00m32.5kg\n",
      "1\n",
      "2\n",
      "3\n",
      "4\n",
      "folder G:\\Chamodi\\LSDYNA3D\\RP_TH_models\\RP_Section_1_new2\\3.00m\\3.00m34.5kg\n",
      "1\n",
      "2\n",
      "3\n",
      "4\n",
      "folder G:\\Chamodi\\LSDYNA3D\\RP_TH_models\\RP_Section_1_new2\\3.00m\\3.00m35.0kg\n",
      "1\n",
      "2\n",
      "3\n",
      "4\n"
     ]
    }
   ],
   "source": [
    "#dataset = pd.DataFrame(columns = ['Charge_mass', 'Standoff_distance', 'Time', 'Pressure', 'Phase'])\n",
    "df_list = []\n",
    "\n",
    "for folder1 in input_dir2:\n",
    "    \n",
    "    input_dir3 =  [folder2 for folder2 in folder1.iterdir() if folder2.is_dir()] # folder2 - 07m00.5kg\n",
    "    \n",
    "    for folder2 in input_dir3:\n",
    "        \n",
    "        print ('folder', folder2)\n",
    "        files1 = [file1 for file1 in folder2.rglob(\"*.xlsx\")]\n",
    "    \n",
    "        for file1 in files1:\n",
    "            df_list.append(pd.read_excel(file1))\n",
    "            print (file1.stem)\n",
    "    \n",
    "dataset = pd.concat(df_list, ignore_index = True)"
   ]
  },
  {
   "cell_type": "code",
   "execution_count": 4,
   "metadata": {
    "colab": {},
    "colab_type": "code",
    "id": "B9CV13Co_HHM",
    "ExecuteTime": {
     "end_time": "2024-08-29T22:49:13.085140500Z",
     "start_time": "2024-08-29T22:49:13.035605400Z"
    }
   },
   "outputs": [
    {
     "name": "stdout",
     "output_type": "stream",
     "text": [
      "<class 'pandas.core.frame.DataFrame'>\n",
      "RangeIndex: 55559 entries, 0 to 55558\n",
      "Data columns (total 6 columns):\n",
      " #   Column             Non-Null Count  Dtype  \n",
      "---  ------             --------------  -----  \n",
      " 0   Mass               55559 non-null  float64\n",
      " 1   Standoff distance  55559 non-null  float64\n",
      " 2   Angle              55559 non-null  int64  \n",
      " 3   Time               55559 non-null  float64\n",
      " 4   Phase              55559 non-null  object \n",
      " 5   Pressure           55559 non-null  float64\n",
      "dtypes: float64(4), int64(1), object(1)\n",
      "memory usage: 2.5+ MB\n"
     ]
    }
   ],
   "source": [
    "dataset.info()"
   ]
  },
  {
   "cell_type": "code",
   "execution_count": 5,
   "outputs": [
    {
     "name": "stdout",
     "output_type": "stream",
     "text": [
      "<class 'pandas.core.frame.DataFrame'>\n",
      "RangeIndex: 55559 entries, 0 to 55558\n",
      "Data columns (total 7 columns):\n",
      " #   Column             Non-Null Count  Dtype  \n",
      "---  ------             --------------  -----  \n",
      " 0   Mass               55559 non-null  float64\n",
      " 1   Standoff distance  55559 non-null  float64\n",
      " 2   Angle              55559 non-null  int64  \n",
      " 3   Time               55559 non-null  float64\n",
      " 4   Pressure           55559 non-null  float64\n",
      " 5   Phase_negative     55559 non-null  uint8  \n",
      " 6   Phase_positive     55559 non-null  uint8  \n",
      "dtypes: float64(4), int64(1), uint8(2)\n",
      "memory usage: 2.2 MB\n"
     ]
    }
   ],
   "source": [
    "dataset['Phase'] = dataset['Phase'].replace({'negative_increasing': 'negative', 'negative_decreasing': 'negative'})\n",
    "dataset = pd.get_dummies(dataset, columns =['Phase'], dtype = np.uint8)\n",
    "dataset.info()"
   ],
   "metadata": {
    "collapsed": false,
    "ExecuteTime": {
     "end_time": "2024-08-29T22:49:13.231375300Z",
     "start_time": "2024-08-29T22:49:13.072137200Z"
    }
   }
  },
  {
   "cell_type": "code",
   "execution_count": 6,
   "outputs": [
    {
     "data": {
      "text/plain": "    Mass  Standoff distance  Angle      Time   Pressure  Phase_negative  \\\n0    0.5                1.5      0  1.465171  564.29260               0   \n1    0.5                1.5      0  1.467252  564.05780               0   \n2    0.5                1.5      0  1.469334  563.32560               0   \n3    0.5                1.5      0  1.473498  560.48900               0   \n4    0.5                1.5      0  1.481826  549.75170               0   \n5    0.5                1.5      0  1.517147  472.15140               0   \n6    0.5                1.5      0  1.525413  457.14590               0   \n7    0.5                1.5      0  1.535697  442.17030               0   \n8    0.5                1.5      0  1.558011  415.68570               0   \n9    0.5                1.5      0  1.615291  353.68080               0   \n10   0.5                1.5      0  1.643169  325.25090               0   \n11   0.5                1.5      0  1.665162  305.04660               0   \n12   0.5                1.5      0  1.691183  283.41260               0   \n13   0.5                1.5      0  1.721250  260.57490               0   \n14   0.5                1.5      0  1.753411  238.05300               0   \n15   0.5                1.5      0  1.783647  218.56040               0   \n16   0.5                1.5      0  1.813952  200.67040               0   \n17   0.5                1.5      0  1.844339  184.32260               0   \n18   0.5                1.5      0  1.874821  169.41340               0   \n19   0.5                1.5      0  1.909467  154.01040               0   \n20   0.5                1.5      0  1.948282  138.29660               0   \n21   0.5                1.5      0  1.987262  123.92310               0   \n22   0.5                1.5      0  2.026533  110.79310               0   \n23   0.5                1.5      0  2.068011   98.23788               0   \n24   0.5                1.5      0  2.113112   85.87970               0   \n25   0.5                1.5      0  2.157048   74.99792               0   \n26   0.5                1.5      0  2.203624   64.62081               0   \n27   0.5                1.5      0  2.254955   54.33177               0   \n28   0.5                1.5      0  2.307782   44.76888               0   \n29   0.5                1.5      0  2.360574   36.21905               0   \n\n    Phase_positive  \n0                1  \n1                1  \n2                1  \n3                1  \n4                1  \n5                1  \n6                1  \n7                1  \n8                1  \n9                1  \n10               1  \n11               1  \n12               1  \n13               1  \n14               1  \n15               1  \n16               1  \n17               1  \n18               1  \n19               1  \n20               1  \n21               1  \n22               1  \n23               1  \n24               1  \n25               1  \n26               1  \n27               1  \n28               1  \n29               1  ",
      "text/html": "<div>\n<style scoped>\n    .dataframe tbody tr th:only-of-type {\n        vertical-align: middle;\n    }\n\n    .dataframe tbody tr th {\n        vertical-align: top;\n    }\n\n    .dataframe thead th {\n        text-align: right;\n    }\n</style>\n<table border=\"1\" class=\"dataframe\">\n  <thead>\n    <tr style=\"text-align: right;\">\n      <th></th>\n      <th>Mass</th>\n      <th>Standoff distance</th>\n      <th>Angle</th>\n      <th>Time</th>\n      <th>Pressure</th>\n      <th>Phase_negative</th>\n      <th>Phase_positive</th>\n    </tr>\n  </thead>\n  <tbody>\n    <tr>\n      <th>0</th>\n      <td>0.5</td>\n      <td>1.5</td>\n      <td>0</td>\n      <td>1.465171</td>\n      <td>564.29260</td>\n      <td>0</td>\n      <td>1</td>\n    </tr>\n    <tr>\n      <th>1</th>\n      <td>0.5</td>\n      <td>1.5</td>\n      <td>0</td>\n      <td>1.467252</td>\n      <td>564.05780</td>\n      <td>0</td>\n      <td>1</td>\n    </tr>\n    <tr>\n      <th>2</th>\n      <td>0.5</td>\n      <td>1.5</td>\n      <td>0</td>\n      <td>1.469334</td>\n      <td>563.32560</td>\n      <td>0</td>\n      <td>1</td>\n    </tr>\n    <tr>\n      <th>3</th>\n      <td>0.5</td>\n      <td>1.5</td>\n      <td>0</td>\n      <td>1.473498</td>\n      <td>560.48900</td>\n      <td>0</td>\n      <td>1</td>\n    </tr>\n    <tr>\n      <th>4</th>\n      <td>0.5</td>\n      <td>1.5</td>\n      <td>0</td>\n      <td>1.481826</td>\n      <td>549.75170</td>\n      <td>0</td>\n      <td>1</td>\n    </tr>\n    <tr>\n      <th>5</th>\n      <td>0.5</td>\n      <td>1.5</td>\n      <td>0</td>\n      <td>1.517147</td>\n      <td>472.15140</td>\n      <td>0</td>\n      <td>1</td>\n    </tr>\n    <tr>\n      <th>6</th>\n      <td>0.5</td>\n      <td>1.5</td>\n      <td>0</td>\n      <td>1.525413</td>\n      <td>457.14590</td>\n      <td>0</td>\n      <td>1</td>\n    </tr>\n    <tr>\n      <th>7</th>\n      <td>0.5</td>\n      <td>1.5</td>\n      <td>0</td>\n      <td>1.535697</td>\n      <td>442.17030</td>\n      <td>0</td>\n      <td>1</td>\n    </tr>\n    <tr>\n      <th>8</th>\n      <td>0.5</td>\n      <td>1.5</td>\n      <td>0</td>\n      <td>1.558011</td>\n      <td>415.68570</td>\n      <td>0</td>\n      <td>1</td>\n    </tr>\n    <tr>\n      <th>9</th>\n      <td>0.5</td>\n      <td>1.5</td>\n      <td>0</td>\n      <td>1.615291</td>\n      <td>353.68080</td>\n      <td>0</td>\n      <td>1</td>\n    </tr>\n    <tr>\n      <th>10</th>\n      <td>0.5</td>\n      <td>1.5</td>\n      <td>0</td>\n      <td>1.643169</td>\n      <td>325.25090</td>\n      <td>0</td>\n      <td>1</td>\n    </tr>\n    <tr>\n      <th>11</th>\n      <td>0.5</td>\n      <td>1.5</td>\n      <td>0</td>\n      <td>1.665162</td>\n      <td>305.04660</td>\n      <td>0</td>\n      <td>1</td>\n    </tr>\n    <tr>\n      <th>12</th>\n      <td>0.5</td>\n      <td>1.5</td>\n      <td>0</td>\n      <td>1.691183</td>\n      <td>283.41260</td>\n      <td>0</td>\n      <td>1</td>\n    </tr>\n    <tr>\n      <th>13</th>\n      <td>0.5</td>\n      <td>1.5</td>\n      <td>0</td>\n      <td>1.721250</td>\n      <td>260.57490</td>\n      <td>0</td>\n      <td>1</td>\n    </tr>\n    <tr>\n      <th>14</th>\n      <td>0.5</td>\n      <td>1.5</td>\n      <td>0</td>\n      <td>1.753411</td>\n      <td>238.05300</td>\n      <td>0</td>\n      <td>1</td>\n    </tr>\n    <tr>\n      <th>15</th>\n      <td>0.5</td>\n      <td>1.5</td>\n      <td>0</td>\n      <td>1.783647</td>\n      <td>218.56040</td>\n      <td>0</td>\n      <td>1</td>\n    </tr>\n    <tr>\n      <th>16</th>\n      <td>0.5</td>\n      <td>1.5</td>\n      <td>0</td>\n      <td>1.813952</td>\n      <td>200.67040</td>\n      <td>0</td>\n      <td>1</td>\n    </tr>\n    <tr>\n      <th>17</th>\n      <td>0.5</td>\n      <td>1.5</td>\n      <td>0</td>\n      <td>1.844339</td>\n      <td>184.32260</td>\n      <td>0</td>\n      <td>1</td>\n    </tr>\n    <tr>\n      <th>18</th>\n      <td>0.5</td>\n      <td>1.5</td>\n      <td>0</td>\n      <td>1.874821</td>\n      <td>169.41340</td>\n      <td>0</td>\n      <td>1</td>\n    </tr>\n    <tr>\n      <th>19</th>\n      <td>0.5</td>\n      <td>1.5</td>\n      <td>0</td>\n      <td>1.909467</td>\n      <td>154.01040</td>\n      <td>0</td>\n      <td>1</td>\n    </tr>\n    <tr>\n      <th>20</th>\n      <td>0.5</td>\n      <td>1.5</td>\n      <td>0</td>\n      <td>1.948282</td>\n      <td>138.29660</td>\n      <td>0</td>\n      <td>1</td>\n    </tr>\n    <tr>\n      <th>21</th>\n      <td>0.5</td>\n      <td>1.5</td>\n      <td>0</td>\n      <td>1.987262</td>\n      <td>123.92310</td>\n      <td>0</td>\n      <td>1</td>\n    </tr>\n    <tr>\n      <th>22</th>\n      <td>0.5</td>\n      <td>1.5</td>\n      <td>0</td>\n      <td>2.026533</td>\n      <td>110.79310</td>\n      <td>0</td>\n      <td>1</td>\n    </tr>\n    <tr>\n      <th>23</th>\n      <td>0.5</td>\n      <td>1.5</td>\n      <td>0</td>\n      <td>2.068011</td>\n      <td>98.23788</td>\n      <td>0</td>\n      <td>1</td>\n    </tr>\n    <tr>\n      <th>24</th>\n      <td>0.5</td>\n      <td>1.5</td>\n      <td>0</td>\n      <td>2.113112</td>\n      <td>85.87970</td>\n      <td>0</td>\n      <td>1</td>\n    </tr>\n    <tr>\n      <th>25</th>\n      <td>0.5</td>\n      <td>1.5</td>\n      <td>0</td>\n      <td>2.157048</td>\n      <td>74.99792</td>\n      <td>0</td>\n      <td>1</td>\n    </tr>\n    <tr>\n      <th>26</th>\n      <td>0.5</td>\n      <td>1.5</td>\n      <td>0</td>\n      <td>2.203624</td>\n      <td>64.62081</td>\n      <td>0</td>\n      <td>1</td>\n    </tr>\n    <tr>\n      <th>27</th>\n      <td>0.5</td>\n      <td>1.5</td>\n      <td>0</td>\n      <td>2.254955</td>\n      <td>54.33177</td>\n      <td>0</td>\n      <td>1</td>\n    </tr>\n    <tr>\n      <th>28</th>\n      <td>0.5</td>\n      <td>1.5</td>\n      <td>0</td>\n      <td>2.307782</td>\n      <td>44.76888</td>\n      <td>0</td>\n      <td>1</td>\n    </tr>\n    <tr>\n      <th>29</th>\n      <td>0.5</td>\n      <td>1.5</td>\n      <td>0</td>\n      <td>2.360574</td>\n      <td>36.21905</td>\n      <td>0</td>\n      <td>1</td>\n    </tr>\n  </tbody>\n</table>\n</div>"
     },
     "execution_count": 6,
     "metadata": {},
     "output_type": "execute_result"
    }
   ],
   "source": [
    "dataset.head(30)"
   ],
   "metadata": {
    "collapsed": false,
    "ExecuteTime": {
     "end_time": "2024-08-29T22:49:13.429125200Z",
     "start_time": "2024-08-29T22:49:13.175698500Z"
    }
   }
  },
  {
   "cell_type": "code",
   "execution_count": 7,
   "metadata": {
    "ExecuteTime": {
     "end_time": "2024-08-29T22:49:13.431129200Z",
     "start_time": "2024-08-29T22:49:13.351475200Z"
    }
   },
   "outputs": [
    {
     "name": "stdout",
     "output_type": "stream",
     "text": [
      "(55559, 6) (55559,)\n"
     ]
    }
   ],
   "source": [
    "y = dataset['Pressure']\n",
    "X = dataset.drop(['Pressure'], axis=1)\n",
    "print(X.shape, y.shape)"
   ]
  },
  {
   "cell_type": "code",
   "execution_count": 8,
   "metadata": {
    "ExecuteTime": {
     "end_time": "2024-08-29T22:49:13.519933400Z",
     "start_time": "2024-08-29T22:49:13.379483200Z"
    }
   },
   "outputs": [],
   "source": [
    "# convert to numpy array\n",
    "X = np.array(X)\n",
    "y = np.array(y)"
   ]
  },
  {
   "cell_type": "code",
   "execution_count": 9,
   "metadata": {
    "colab": {},
    "colab_type": "code",
    "id": "L5edeb2r_agx",
    "ExecuteTime": {
     "end_time": "2024-08-29T22:49:16.678699200Z",
     "start_time": "2024-08-29T22:49:13.474297400Z"
    }
   },
   "outputs": [],
   "source": [
    "from sklearn.model_selection import train_test_split\n",
    "X_train, X_test, y_train, y_test = train_test_split(X,\n",
    "                                                    y,\n",
    "                                                    test_size = 0.4,\n",
    "                                                    random_state = 0)"
   ]
  },
  {
   "cell_type": "code",
   "execution_count": 10,
   "metadata": {
    "colab": {},
    "colab_type": "code",
    "id": "L5edeb2r_agx",
    "ExecuteTime": {
     "end_time": "2024-08-29T22:49:16.723817500Z",
     "start_time": "2024-08-29T22:49:16.682700Z"
    }
   },
   "outputs": [],
   "source": [
    "X_val, X_test, y_val, y_test = train_test_split(X_test,\n",
    "                                                y_test,\n",
    "                                                test_size = 0.5,\n",
    "                                                random_state = 0)"
   ]
  },
  {
   "cell_type": "code",
   "execution_count": 11,
   "outputs": [
    {
     "name": "stdout",
     "output_type": "stream",
     "text": [
      "[[-0.36269004 -0.52145157 -0.44441782 -0.67104328  0.          1.        ]\n",
      " [-1.53923008 -1.02418722  1.37366749 -0.26694703  1.          0.        ]\n",
      " [-0.16660003 -0.52145157 -1.35346048 -0.65969155  0.          1.        ]\n",
      " ...\n",
      " [-0.16660003  0.98675539 -0.44441782  1.77036442  1.          0.        ]\n",
      " [ 0.22557998  0.98675539  0.46462483 -0.58070736  0.          1.        ]\n",
      " [-0.55878005 -1.52692287  0.46462483 -0.70672769  0.          1.        ]]\n"
     ]
    }
   ],
   "source": [
    "from sklearn.preprocessing import StandardScaler\n",
    "sc = StandardScaler()\n",
    "X_train[:,0:4] = sc.fit_transform(X_train[:, 0:4])\n",
    "print (X_train)"
   ],
   "metadata": {
    "collapsed": false,
    "ExecuteTime": {
     "end_time": "2024-08-29T22:49:16.864459400Z",
     "start_time": "2024-08-29T22:49:16.695227600Z"
    }
   }
  },
  {
   "cell_type": "code",
   "execution_count": 12,
   "outputs": [
    {
     "name": "stdout",
     "output_type": "stream",
     "text": [
      "[[ 1.00994     0.48401974 -1.35346048 -0.89997439  0.          1.        ]\n",
      " [-1.93141009 -1.52692287 -1.35346048 -0.75851636  0.          1.        ]\n",
      " [ 0.22557998  1.48949105  1.37366749 -0.37821042  0.          1.        ]\n",
      " ...\n",
      " [ 0.02948997 -0.01871591 -0.44441782 -0.51644526  0.          1.        ]\n",
      " [ 1.20603001 -0.52145157 -0.44441782  0.94198323  1.          0.        ]\n",
      " [-0.16660003 -0.01871591  1.37366749 -0.39420937  0.          1.        ]]\n"
     ]
    }
   ],
   "source": [
    "X_test[:,0:4] = sc.transform(X_test[:,0:4])\n",
    "print (X_test)"
   ],
   "metadata": {
    "collapsed": false,
    "ExecuteTime": {
     "end_time": "2024-08-29T22:49:16.995674700Z",
     "start_time": "2024-08-29T22:49:16.822774800Z"
    }
   }
  },
  {
   "cell_type": "code",
   "execution_count": 13,
   "outputs": [
    {
     "name": "stdout",
     "output_type": "stream",
     "text": [
      "[[-0.55878005 -0.01871591 -0.44441782 -0.5825112   0.          1.        ]\n",
      " [-1.14705006 -0.52145157  0.46462483 -0.08074981  1.          0.        ]\n",
      " [-0.75487005  1.48949105  1.37366749 -0.22377807  0.          1.        ]\n",
      " ...\n",
      " [ 0.61775999  0.48401974 -0.44441782 -0.54628658  0.          1.        ]\n",
      " [-0.75487005 -1.52692287 -1.35346048  0.34884443  1.          0.        ]\n",
      " [ 0.42166998  0.98675539  0.46462483 -0.76600267  0.          1.        ]]\n"
     ]
    }
   ],
   "source": [
    "X_val[:,0:4] = sc.transform(X_val[:,0:4])\n",
    "print (X_val)"
   ],
   "metadata": {
    "collapsed": false,
    "ExecuteTime": {
     "end_time": "2024-08-29T22:49:17.124843900Z",
     "start_time": "2024-08-29T22:49:16.963198600Z"
    }
   }
  },
  {
   "cell_type": "code",
   "execution_count": 14,
   "outputs": [
    {
     "name": "stdout",
     "output_type": "stream",
     "text": [
      "X_train 33335\n",
      "X_test 11112\n",
      "X_val 11112\n"
     ]
    }
   ],
   "source": [
    "print (\"X_train\", len(X_train))\n",
    "print (\"X_test\", len(X_test))\n",
    "print (\"X_val\", len(X_val))"
   ],
   "metadata": {
    "collapsed": false,
    "ExecuteTime": {
     "end_time": "2024-08-29T22:49:17.265302100Z",
     "start_time": "2024-08-29T22:49:17.095291600Z"
    }
   }
  },
  {
   "cell_type": "markdown",
   "metadata": {
    "colab_type": "text",
    "id": "_mSLlAT9_eyI"
   },
   "source": [
    "## Part 3 - Building the ANN"
   ]
  },
  {
   "cell_type": "code",
   "execution_count": 15,
   "metadata": {
    "colab": {},
    "colab_type": "code",
    "id": "J6Hd97Ls__Nz",
    "ExecuteTime": {
     "end_time": "2024-08-29T22:49:17.339879800Z",
     "start_time": "2024-08-29T22:49:17.197256300Z"
    }
   },
   "outputs": [],
   "source": [
    "ann = tf.keras.models.Sequential()"
   ]
  },
  {
   "cell_type": "code",
   "execution_count": 16,
   "metadata": {
    "colab": {},
    "colab_type": "code",
    "id": "ksO_Vv40AHix",
    "ExecuteTime": {
     "end_time": "2024-08-29T22:49:17.652515600Z",
     "start_time": "2024-08-29T22:49:17.322871200Z"
    }
   },
   "outputs": [],
   "source": [
    "ann.add(tf.keras.layers.Dense(units=225,\n",
    "                              input_shape=(X_train.shape[1],),\n",
    "                              activation='relu'))\n",
    "ann.add(tf.keras.layers.Dense(units=250,\n",
    "                              activation='relu'))\n",
    "ann.add(tf.keras.layers.Dense(units=225,\n",
    "                              activation='relu'))\n",
    "ann.add(tf.keras.layers.Dense(units=200,\n",
    "                              activation='relu'))"
   ]
  },
  {
   "cell_type": "code",
   "execution_count": 17,
   "metadata": {
    "colab": {},
    "colab_type": "code",
    "id": "YFATpzsUAkLL",
    "ExecuteTime": {
     "end_time": "2024-08-29T22:49:17.745082Z",
     "start_time": "2024-08-29T22:49:17.653517100Z"
    }
   },
   "outputs": [],
   "source": [
    "ann.add(tf.keras.layers.Dense(units=1,\n",
    "                              activation='linear'))"
   ]
  },
  {
   "cell_type": "code",
   "execution_count": 18,
   "metadata": {
    "ExecuteTime": {
     "end_time": "2024-08-29T22:49:18.007081200Z",
     "start_time": "2024-08-29T22:49:17.701551400Z"
    }
   },
   "outputs": [
    {
     "name": "stdout",
     "output_type": "stream",
     "text": [
      "Model: \"sequential\"\n",
      "_________________________________________________________________\n",
      " Layer (type)                Output Shape              Param #   \n",
      "=================================================================\n",
      " dense (Dense)               (None, 225)               1575      \n",
      "                                                                 \n",
      " dense_1 (Dense)             (None, 250)               56500     \n",
      "                                                                 \n",
      " dense_2 (Dense)             (None, 225)               56475     \n",
      "                                                                 \n",
      " dense_3 (Dense)             (None, 200)               45200     \n",
      "                                                                 \n",
      " dense_4 (Dense)             (None, 1)                 201       \n",
      "                                                                 \n",
      "=================================================================\n",
      "Total params: 159,951\n",
      "Trainable params: 159,951\n",
      "Non-trainable params: 0\n",
      "_________________________________________________________________\n"
     ]
    }
   ],
   "source": [
    "ann.summary()"
   ]
  },
  {
   "cell_type": "markdown",
   "metadata": {
    "colab_type": "text",
    "id": "fq7e4fF6A1yy"
   },
   "source": [
    "## Part 4 - Training the ANN"
   ]
  },
  {
   "cell_type": "code",
   "execution_count": 19,
   "metadata": {
    "colab": {},
    "colab_type": "code",
    "id": "pesgbWlCAtB4",
    "ExecuteTime": {
     "end_time": "2024-08-29T22:49:18.148320400Z",
     "start_time": "2024-08-29T22:49:17.839775600Z"
    }
   },
   "outputs": [],
   "source": [
    "# from tensorflow.keras.optimizers import Adam\n",
    "from keras.optimizers import Adam\n",
    "opt = Adam(learning_rate=0.001)\n",
    "ann.compile(optimizer = opt,\n",
    "            loss = 'mean_squared_error',\n",
    "            metrics = ['mae'])"
   ]
  },
  {
   "cell_type": "code",
   "execution_count": 20,
   "metadata": {
    "ExecuteTime": {
     "end_time": "2024-08-29T22:49:18.230907300Z",
     "start_time": "2024-08-29T22:49:17.952019300Z"
    }
   },
   "outputs": [],
   "source": [
    "# protects from unnecessary further training of the model if a particular metric does not continue to improve over a number of n epochs. In such a case, the model training would be automatically aborted.\n",
    "from keras.callbacks import EarlyStopping\n",
    "es = EarlyStopping(monitor='val_loss',\n",
    "                   mode='min',\n",
    "                   patience=50,\n",
    "                   restore_best_weights = True)"
   ]
  },
  {
   "cell_type": "code",
   "execution_count": 21,
   "metadata": {
    "colab": {
     "base_uri": "https://localhost:8080/",
     "height": 1000
    },
    "colab_type": "code",
    "id": "c_vV-tiiA5zn",
    "outputId": "4a2b6ee6-ed75-4698-9069-b250e613803f",
    "ExecuteTime": {
     "end_time": "2024-08-29T23:26:30.709700400Z",
     "start_time": "2024-08-29T22:49:18.046603200Z"
    }
   },
   "outputs": [
    {
     "name": "stdout",
     "output_type": "stream",
     "text": [
      "Epoch 1/500\n",
      "1112/1112 [==============================] - 7s 6ms/step - loss: 2011276.1250 - mae: 571.1223 - val_loss: 720872.3750 - val_mae: 326.7426\n",
      "Epoch 2/500\n",
      "1112/1112 [==============================] - 7s 7ms/step - loss: 718411.0625 - mae: 278.7180 - val_loss: 1235944.6250 - val_mae: 552.6656\n",
      "Epoch 3/500\n",
      "1112/1112 [==============================] - 7s 6ms/step - loss: 495785.3750 - mae: 242.5292 - val_loss: 322275.4375 - val_mae: 194.8257\n",
      "Epoch 4/500\n",
      "1112/1112 [==============================] - 7s 6ms/step - loss: 368755.6562 - mae: 199.7134 - val_loss: 457325.8438 - val_mae: 185.6431\n",
      "Epoch 5/500\n",
      "1112/1112 [==============================] - 7s 6ms/step - loss: 340074.6250 - mae: 184.3513 - val_loss: 416405.1562 - val_mae: 275.2386\n",
      "Epoch 6/500\n",
      "1112/1112 [==============================] - 7s 6ms/step - loss: 374338.0938 - mae: 202.6398 - val_loss: 190120.7656 - val_mae: 129.8699\n",
      "Epoch 7/500\n",
      "1112/1112 [==============================] - 7s 6ms/step - loss: 260406.2188 - mae: 164.8860 - val_loss: 105309.0547 - val_mae: 100.1928\n",
      "Epoch 8/500\n",
      "1112/1112 [==============================] - 7s 6ms/step - loss: 325517.6250 - mae: 182.7980 - val_loss: 339761.6250 - val_mae: 170.3662\n",
      "Epoch 9/500\n",
      "1112/1112 [==============================] - 7s 6ms/step - loss: 255252.2031 - mae: 159.0765 - val_loss: 421822.2812 - val_mae: 199.1933\n",
      "Epoch 10/500\n",
      "1112/1112 [==============================] - 7s 6ms/step - loss: 237877.9375 - mae: 154.0074 - val_loss: 468034.6875 - val_mae: 201.4245\n",
      "Epoch 11/500\n",
      "1112/1112 [==============================] - 7s 6ms/step - loss: 334512.2812 - mae: 183.4548 - val_loss: 130418.7969 - val_mae: 108.1670\n",
      "Epoch 12/500\n",
      "1112/1112 [==============================] - 7s 6ms/step - loss: 229449.3438 - mae: 148.8611 - val_loss: 476047.9062 - val_mae: 204.6737\n",
      "Epoch 13/500\n",
      "1112/1112 [==============================] - 7s 6ms/step - loss: 240961.4844 - mae: 154.3176 - val_loss: 101490.8438 - val_mae: 103.8880\n",
      "Epoch 14/500\n",
      "1112/1112 [==============================] - 6s 6ms/step - loss: 186146.9844 - mae: 138.8730 - val_loss: 291419.9688 - val_mae: 167.8290\n",
      "Epoch 15/500\n",
      "1112/1112 [==============================] - 7s 6ms/step - loss: 258794.8281 - mae: 152.3076 - val_loss: 131500.8750 - val_mae: 112.7848\n",
      "Epoch 16/500\n",
      "1112/1112 [==============================] - 7s 6ms/step - loss: 266083.2500 - mae: 149.2688 - val_loss: 1834434.7500 - val_mae: 366.1220\n",
      "Epoch 17/500\n",
      "1112/1112 [==============================] - 7s 6ms/step - loss: 258161.1719 - mae: 145.3046 - val_loss: 185435.2812 - val_mae: 131.9778\n",
      "Epoch 18/500\n",
      "1112/1112 [==============================] - 6s 6ms/step - loss: 196275.5781 - mae: 133.1313 - val_loss: 311315.3125 - val_mae: 170.3927\n",
      "Epoch 19/500\n",
      "1112/1112 [==============================] - 6s 6ms/step - loss: 198262.5156 - mae: 137.8792 - val_loss: 168750.3906 - val_mae: 132.0098\n",
      "Epoch 20/500\n",
      "1112/1112 [==============================] - 6s 6ms/step - loss: 190128.3906 - mae: 136.3736 - val_loss: 441504.9062 - val_mae: 213.3842\n",
      "Epoch 21/500\n",
      "1112/1112 [==============================] - 6s 6ms/step - loss: 288773.2812 - mae: 160.1240 - val_loss: 400601.0312 - val_mae: 196.4287\n",
      "Epoch 22/500\n",
      "1112/1112 [==============================] - 6s 6ms/step - loss: 207698.5469 - mae: 132.8887 - val_loss: 317459.1562 - val_mae: 150.3012\n",
      "Epoch 23/500\n",
      "1112/1112 [==============================] - 6s 6ms/step - loss: 172133.5000 - mae: 125.0863 - val_loss: 114446.7656 - val_mae: 98.3418\n",
      "Epoch 24/500\n",
      "1112/1112 [==============================] - 6s 6ms/step - loss: 202265.1562 - mae: 133.0829 - val_loss: 201471.4531 - val_mae: 118.9852\n",
      "Epoch 25/500\n",
      "1112/1112 [==============================] - 6s 6ms/step - loss: 169262.7031 - mae: 124.5215 - val_loss: 448759.7188 - val_mae: 206.6693\n",
      "Epoch 26/500\n",
      "1112/1112 [==============================] - 6s 6ms/step - loss: 272046.3125 - mae: 152.4043 - val_loss: 132559.0938 - val_mae: 117.5296\n",
      "Epoch 27/500\n",
      "1112/1112 [==============================] - 6s 6ms/step - loss: 154216.5000 - mae: 118.5377 - val_loss: 86055.5859 - val_mae: 89.5685\n",
      "Epoch 28/500\n",
      "1112/1112 [==============================] - 6s 6ms/step - loss: 187266.0000 - mae: 125.0810 - val_loss: 347425.7812 - val_mae: 150.0599\n",
      "Epoch 29/500\n",
      "1112/1112 [==============================] - 6s 6ms/step - loss: 198816.4375 - mae: 132.4030 - val_loss: 213327.2969 - val_mae: 153.9498\n",
      "Epoch 30/500\n",
      "1112/1112 [==============================] - 6s 6ms/step - loss: 151391.8906 - mae: 113.9905 - val_loss: 90950.2344 - val_mae: 99.1772\n",
      "Epoch 31/500\n",
      "1112/1112 [==============================] - 6s 6ms/step - loss: 162030.6406 - mae: 121.6117 - val_loss: 96087.5078 - val_mae: 87.1895\n",
      "Epoch 32/500\n",
      "1112/1112 [==============================] - 6s 6ms/step - loss: 197741.3750 - mae: 123.9118 - val_loss: 91982.7109 - val_mae: 94.1913\n",
      "Epoch 33/500\n",
      "1112/1112 [==============================] - 6s 6ms/step - loss: 145625.0938 - mae: 112.1002 - val_loss: 88014.0859 - val_mae: 96.3222\n",
      "Epoch 34/500\n",
      "1112/1112 [==============================] - 6s 6ms/step - loss: 146004.4844 - mae: 111.5205 - val_loss: 115657.0391 - val_mae: 104.3452\n",
      "Epoch 35/500\n",
      "1112/1112 [==============================] - 6s 6ms/step - loss: 199396.0312 - mae: 127.5205 - val_loss: 278289.5625 - val_mae: 176.9826\n",
      "Epoch 36/500\n",
      "1112/1112 [==============================] - 6s 6ms/step - loss: 144223.2500 - mae: 111.3962 - val_loss: 67639.4844 - val_mae: 80.4185\n",
      "Epoch 37/500\n",
      "1112/1112 [==============================] - 6s 6ms/step - loss: 152132.0469 - mae: 113.6019 - val_loss: 200682.7656 - val_mae: 140.9372\n",
      "Epoch 38/500\n",
      "1112/1112 [==============================] - 6s 6ms/step - loss: 167029.9219 - mae: 117.2346 - val_loss: 91024.1719 - val_mae: 85.4200\n",
      "Epoch 39/500\n",
      "1112/1112 [==============================] - 6s 6ms/step - loss: 145421.8906 - mae: 111.5648 - val_loss: 161445.6719 - val_mae: 115.3610\n",
      "Epoch 40/500\n",
      "1112/1112 [==============================] - 6s 6ms/step - loss: 140412.6094 - mae: 110.9747 - val_loss: 121879.3047 - val_mae: 91.4092\n",
      "Epoch 41/500\n",
      "1112/1112 [==============================] - 6s 6ms/step - loss: 170591.8125 - mae: 116.7605 - val_loss: 69710.6172 - val_mae: 74.9965\n",
      "Epoch 42/500\n",
      "1112/1112 [==============================] - 6s 6ms/step - loss: 154328.2188 - mae: 112.0055 - val_loss: 266571.3750 - val_mae: 137.0419\n",
      "Epoch 43/500\n",
      "1112/1112 [==============================] - 6s 6ms/step - loss: 107760.2812 - mae: 96.2705 - val_loss: 79102.1406 - val_mae: 85.7356\n",
      "Epoch 44/500\n",
      "1112/1112 [==============================] - 6s 6ms/step - loss: 141334.8750 - mae: 108.3845 - val_loss: 401223.2188 - val_mae: 187.7940\n",
      "Epoch 45/500\n",
      "1112/1112 [==============================] - 6s 6ms/step - loss: 169619.9219 - mae: 117.0123 - val_loss: 56930.3164 - val_mae: 70.3787\n",
      "Epoch 46/500\n",
      "1112/1112 [==============================] - 6s 6ms/step - loss: 154471.9688 - mae: 107.8562 - val_loss: 80605.6875 - val_mae: 93.4575\n",
      "Epoch 47/500\n",
      "1112/1112 [==============================] - 6s 6ms/step - loss: 129850.7266 - mae: 101.4575 - val_loss: 77299.8281 - val_mae: 83.1311\n",
      "Epoch 48/500\n",
      "1112/1112 [==============================] - 6s 6ms/step - loss: 160731.3594 - mae: 110.9780 - val_loss: 116234.5391 - val_mae: 94.4843\n",
      "Epoch 49/500\n",
      "1112/1112 [==============================] - 6s 6ms/step - loss: 132948.5312 - mae: 103.7529 - val_loss: 138511.5156 - val_mae: 101.9359\n",
      "Epoch 50/500\n",
      "1112/1112 [==============================] - 6s 6ms/step - loss: 130704.3125 - mae: 101.6635 - val_loss: 75584.1250 - val_mae: 85.2143\n",
      "Epoch 51/500\n",
      "1112/1112 [==============================] - 6s 6ms/step - loss: 146297.2812 - mae: 106.3321 - val_loss: 214484.4844 - val_mae: 125.6949\n",
      "Epoch 52/500\n",
      "1112/1112 [==============================] - 6s 6ms/step - loss: 156523.4531 - mae: 108.0766 - val_loss: 78064.9453 - val_mae: 82.5072\n",
      "Epoch 53/500\n",
      "1112/1112 [==============================] - 6s 6ms/step - loss: 154316.3125 - mae: 107.7158 - val_loss: 262913.8438 - val_mae: 150.7361\n",
      "Epoch 54/500\n",
      "1112/1112 [==============================] - 6s 6ms/step - loss: 116485.8438 - mae: 96.5537 - val_loss: 63572.6211 - val_mae: 71.6083\n",
      "Epoch 55/500\n",
      "1112/1112 [==============================] - 6s 6ms/step - loss: 135409.1250 - mae: 101.8583 - val_loss: 204032.3750 - val_mae: 137.0939\n",
      "Epoch 56/500\n",
      "1112/1112 [==============================] - 6s 6ms/step - loss: 106527.3516 - mae: 92.3080 - val_loss: 206278.2500 - val_mae: 120.3228\n",
      "Epoch 57/500\n",
      "1112/1112 [==============================] - 6s 6ms/step - loss: 148318.8750 - mae: 106.7716 - val_loss: 72691.3984 - val_mae: 75.1787\n",
      "Epoch 58/500\n",
      "1112/1112 [==============================] - 6s 6ms/step - loss: 102782.5781 - mae: 87.0886 - val_loss: 51108.9766 - val_mae: 65.7201\n",
      "Epoch 59/500\n",
      "1112/1112 [==============================] - 6s 6ms/step - loss: 126783.5938 - mae: 100.3798 - val_loss: 57834.2734 - val_mae: 73.3819\n",
      "Epoch 60/500\n",
      "1112/1112 [==============================] - 6s 6ms/step - loss: 110511.8281 - mae: 94.2891 - val_loss: 85849.2500 - val_mae: 77.8544\n",
      "Epoch 61/500\n",
      "1112/1112 [==============================] - 6s 6ms/step - loss: 98773.3750 - mae: 88.6391 - val_loss: 54747.5430 - val_mae: 66.3818\n",
      "Epoch 62/500\n",
      "1112/1112 [==============================] - 6s 6ms/step - loss: 117526.7031 - mae: 95.8288 - val_loss: 93146.7266 - val_mae: 88.1967\n",
      "Epoch 63/500\n",
      "1112/1112 [==============================] - 6s 6ms/step - loss: 117992.3750 - mae: 95.8073 - val_loss: 95837.9688 - val_mae: 82.2357\n",
      "Epoch 64/500\n",
      "1112/1112 [==============================] - 6s 6ms/step - loss: 154741.8906 - mae: 102.5629 - val_loss: 89530.0938 - val_mae: 88.6043\n",
      "Epoch 65/500\n",
      "1112/1112 [==============================] - 6s 6ms/step - loss: 107616.3984 - mae: 90.5825 - val_loss: 57595.2266 - val_mae: 67.3854\n",
      "Epoch 66/500\n",
      "1112/1112 [==============================] - 6s 6ms/step - loss: 108619.4297 - mae: 93.4958 - val_loss: 153689.0000 - val_mae: 105.5788\n",
      "Epoch 67/500\n",
      "1112/1112 [==============================] - 6s 6ms/step - loss: 96613.6094 - mae: 88.3663 - val_loss: 257270.9688 - val_mae: 132.9147\n",
      "Epoch 68/500\n",
      "1112/1112 [==============================] - 6s 6ms/step - loss: 162988.8594 - mae: 111.6201 - val_loss: 121571.4062 - val_mae: 99.3677\n",
      "Epoch 69/500\n",
      "1112/1112 [==============================] - 6s 6ms/step - loss: 116588.9766 - mae: 95.2681 - val_loss: 740312.5000 - val_mae: 238.7054\n",
      "Epoch 70/500\n",
      "1112/1112 [==============================] - 6s 6ms/step - loss: 119652.9375 - mae: 92.4910 - val_loss: 53703.0781 - val_mae: 64.4275\n",
      "Epoch 71/500\n",
      "1112/1112 [==============================] - 6s 6ms/step - loss: 107353.7812 - mae: 89.0352 - val_loss: 84831.0234 - val_mae: 79.1795\n",
      "Epoch 72/500\n",
      "1112/1112 [==============================] - 6s 6ms/step - loss: 137543.1875 - mae: 95.1277 - val_loss: 143063.2500 - val_mae: 99.7874\n",
      "Epoch 73/500\n",
      "1112/1112 [==============================] - 6s 6ms/step - loss: 99290.2266 - mae: 86.2454 - val_loss: 62465.1992 - val_mae: 74.3057\n",
      "Epoch 74/500\n",
      "1112/1112 [==============================] - 6s 6ms/step - loss: 116193.6641 - mae: 93.7516 - val_loss: 93800.8672 - val_mae: 85.7301\n",
      "Epoch 75/500\n",
      "1112/1112 [==============================] - 6s 6ms/step - loss: 105771.7734 - mae: 87.2558 - val_loss: 41807.0547 - val_mae: 60.4028\n",
      "Epoch 76/500\n",
      "1112/1112 [==============================] - 7s 6ms/step - loss: 118148.4453 - mae: 91.0837 - val_loss: 53915.8125 - val_mae: 64.1342\n",
      "Epoch 77/500\n",
      "1112/1112 [==============================] - 7s 6ms/step - loss: 105463.7812 - mae: 86.7271 - val_loss: 436803.9062 - val_mae: 186.5201\n",
      "Epoch 78/500\n",
      "1112/1112 [==============================] - 6s 6ms/step - loss: 102567.3359 - mae: 88.7550 - val_loss: 110452.6172 - val_mae: 78.3613\n",
      "Epoch 79/500\n",
      "1112/1112 [==============================] - 6s 6ms/step - loss: 102311.5625 - mae: 86.9216 - val_loss: 40407.4141 - val_mae: 53.1158\n",
      "Epoch 80/500\n",
      "1112/1112 [==============================] - 6s 6ms/step - loss: 147249.7344 - mae: 104.1390 - val_loss: 50743.4688 - val_mae: 55.0517\n",
      "Epoch 81/500\n",
      "1112/1112 [==============================] - 6s 6ms/step - loss: 83766.5156 - mae: 81.0833 - val_loss: 48093.0664 - val_mae: 61.7736\n",
      "Epoch 82/500\n",
      "1112/1112 [==============================] - 6s 6ms/step - loss: 108155.4844 - mae: 90.1445 - val_loss: 58274.0508 - val_mae: 82.3397\n",
      "Epoch 83/500\n",
      "1112/1112 [==============================] - 6s 6ms/step - loss: 98426.2891 - mae: 82.5466 - val_loss: 53610.9219 - val_mae: 66.9214\n",
      "Epoch 84/500\n",
      "1112/1112 [==============================] - 7s 6ms/step - loss: 93400.7812 - mae: 82.1311 - val_loss: 62862.1797 - val_mae: 74.1391\n",
      "Epoch 85/500\n",
      "1112/1112 [==============================] - 6s 6ms/step - loss: 97728.0781 - mae: 86.3343 - val_loss: 148411.8125 - val_mae: 118.2868\n",
      "Epoch 86/500\n",
      "1112/1112 [==============================] - 7s 6ms/step - loss: 120622.8594 - mae: 90.7368 - val_loss: 210130.5938 - val_mae: 112.1536\n",
      "Epoch 87/500\n",
      "1112/1112 [==============================] - 7s 6ms/step - loss: 110106.8594 - mae: 87.6634 - val_loss: 47771.2031 - val_mae: 63.0763\n",
      "Epoch 88/500\n",
      "1112/1112 [==============================] - 7s 6ms/step - loss: 80614.6484 - mae: 77.2455 - val_loss: 125673.1250 - val_mae: 84.3715\n",
      "Epoch 89/500\n",
      "1112/1112 [==============================] - 7s 6ms/step - loss: 101038.3516 - mae: 86.8179 - val_loss: 59043.1562 - val_mae: 65.3954\n",
      "Epoch 90/500\n",
      "1112/1112 [==============================] - 7s 6ms/step - loss: 95172.1562 - mae: 81.8075 - val_loss: 95894.4922 - val_mae: 94.6396\n",
      "Epoch 91/500\n",
      "1112/1112 [==============================] - 7s 6ms/step - loss: 102030.9922 - mae: 86.3243 - val_loss: 178513.1719 - val_mae: 108.5055\n",
      "Epoch 92/500\n",
      "1112/1112 [==============================] - 7s 6ms/step - loss: 106214.8281 - mae: 85.3865 - val_loss: 127530.2031 - val_mae: 102.0473\n",
      "Epoch 93/500\n",
      "1112/1112 [==============================] - 7s 6ms/step - loss: 103242.3672 - mae: 84.0937 - val_loss: 373651.2500 - val_mae: 191.8077\n",
      "Epoch 94/500\n",
      "1112/1112 [==============================] - 7s 6ms/step - loss: 110657.1719 - mae: 88.7145 - val_loss: 74779.9141 - val_mae: 78.1913\n",
      "Epoch 95/500\n",
      "1112/1112 [==============================] - 7s 6ms/step - loss: 114234.9219 - mae: 90.5302 - val_loss: 48980.2852 - val_mae: 58.9838\n",
      "Epoch 96/500\n",
      "1112/1112 [==============================] - 7s 6ms/step - loss: 97138.9219 - mae: 82.8542 - val_loss: 45370.5000 - val_mae: 55.0567\n",
      "Epoch 97/500\n",
      "1112/1112 [==============================] - 7s 6ms/step - loss: 100403.9844 - mae: 86.0182 - val_loss: 70521.0547 - val_mae: 81.2887\n",
      "Epoch 98/500\n",
      "1112/1112 [==============================] - 7s 6ms/step - loss: 83327.9141 - mae: 79.1126 - val_loss: 37983.8203 - val_mae: 54.7525\n",
      "Epoch 99/500\n",
      "1112/1112 [==============================] - 7s 6ms/step - loss: 104453.3516 - mae: 85.5935 - val_loss: 41105.7695 - val_mae: 55.3501\n",
      "Epoch 100/500\n",
      "1112/1112 [==============================] - 7s 6ms/step - loss: 87029.7031 - mae: 82.0752 - val_loss: 47404.1328 - val_mae: 64.2830\n",
      "Epoch 101/500\n",
      "1112/1112 [==============================] - 7s 6ms/step - loss: 102127.0859 - mae: 86.4273 - val_loss: 68214.1797 - val_mae: 72.4046\n",
      "Epoch 102/500\n",
      "1112/1112 [==============================] - 7s 6ms/step - loss: 84771.2969 - mae: 80.7427 - val_loss: 52432.2891 - val_mae: 77.1826\n",
      "Epoch 103/500\n",
      "1112/1112 [==============================] - 7s 6ms/step - loss: 94307.4688 - mae: 83.0809 - val_loss: 79471.7891 - val_mae: 67.2520\n",
      "Epoch 104/500\n",
      "1112/1112 [==============================] - 7s 6ms/step - loss: 86120.2188 - mae: 78.5774 - val_loss: 534969.7500 - val_mae: 233.8414\n",
      "Epoch 105/500\n",
      "1112/1112 [==============================] - 7s 6ms/step - loss: 96513.5391 - mae: 84.7273 - val_loss: 44070.5898 - val_mae: 55.1545\n",
      "Epoch 106/500\n",
      "1112/1112 [==============================] - 8s 7ms/step - loss: 90149.0625 - mae: 80.8144 - val_loss: 53920.3672 - val_mae: 64.9130\n",
      "Epoch 107/500\n",
      "1112/1112 [==============================] - 9s 8ms/step - loss: 96985.4297 - mae: 82.8979 - val_loss: 99792.5156 - val_mae: 90.3368\n",
      "Epoch 108/500\n",
      "1112/1112 [==============================] - 7s 7ms/step - loss: 103931.5703 - mae: 85.2214 - val_loss: 450621.0938 - val_mae: 209.3534\n",
      "Epoch 109/500\n",
      "1112/1112 [==============================] - 7s 6ms/step - loss: 78610.2344 - mae: 75.8461 - val_loss: 35629.9414 - val_mae: 50.6145\n",
      "Epoch 110/500\n",
      "1112/1112 [==============================] - 7s 6ms/step - loss: 109374.4219 - mae: 87.8515 - val_loss: 155011.0469 - val_mae: 99.6283\n",
      "Epoch 111/500\n",
      "1112/1112 [==============================] - 7s 6ms/step - loss: 87886.3203 - mae: 78.4693 - val_loss: 45801.2148 - val_mae: 56.8125\n",
      "Epoch 112/500\n",
      "1112/1112 [==============================] - 7s 6ms/step - loss: 76974.6797 - mae: 73.1554 - val_loss: 35804.6562 - val_mae: 55.8791\n",
      "Epoch 113/500\n",
      "1112/1112 [==============================] - 7s 6ms/step - loss: 76274.5469 - mae: 74.5253 - val_loss: 42316.5195 - val_mae: 49.9050\n",
      "Epoch 114/500\n",
      "1112/1112 [==============================] - 7s 6ms/step - loss: 87690.1172 - mae: 81.5665 - val_loss: 75093.5156 - val_mae: 76.5716\n",
      "Epoch 115/500\n",
      "1112/1112 [==============================] - 7s 6ms/step - loss: 102342.9531 - mae: 85.0077 - val_loss: 66994.1172 - val_mae: 77.5812\n",
      "Epoch 116/500\n",
      "1112/1112 [==============================] - 7s 6ms/step - loss: 77546.4219 - mae: 74.9388 - val_loss: 31818.7598 - val_mae: 51.6922\n",
      "Epoch 117/500\n",
      "1112/1112 [==============================] - 7s 6ms/step - loss: 79760.6953 - mae: 76.5624 - val_loss: 138516.7969 - val_mae: 98.6899\n",
      "Epoch 118/500\n",
      "1112/1112 [==============================] - 7s 6ms/step - loss: 89038.1328 - mae: 80.0104 - val_loss: 340256.1562 - val_mae: 147.7205\n",
      "Epoch 119/500\n",
      "1112/1112 [==============================] - 7s 6ms/step - loss: 109947.0234 - mae: 88.9503 - val_loss: 41633.2930 - val_mae: 60.4285\n",
      "Epoch 120/500\n",
      "1112/1112 [==============================] - 7s 6ms/step - loss: 76545.6328 - mae: 76.6487 - val_loss: 35534.8555 - val_mae: 51.7332\n",
      "Epoch 121/500\n",
      "1112/1112 [==============================] - 7s 6ms/step - loss: 86011.3984 - mae: 78.7319 - val_loss: 304557.9688 - val_mae: 154.2635\n",
      "Epoch 122/500\n",
      "1112/1112 [==============================] - 7s 6ms/step - loss: 122830.1953 - mae: 90.6273 - val_loss: 69639.2500 - val_mae: 75.8238\n",
      "Epoch 123/500\n",
      "1112/1112 [==============================] - 7s 6ms/step - loss: 64196.5703 - mae: 67.9169 - val_loss: 110543.7109 - val_mae: 88.2892\n",
      "Epoch 124/500\n",
      "1112/1112 [==============================] - 7s 6ms/step - loss: 80847.0156 - mae: 77.7949 - val_loss: 176819.8125 - val_mae: 115.2750\n",
      "Epoch 125/500\n",
      "1112/1112 [==============================] - 7s 6ms/step - loss: 96835.7109 - mae: 78.0855 - val_loss: 309785.2812 - val_mae: 128.6232\n",
      "Epoch 126/500\n",
      "1112/1112 [==============================] - 7s 6ms/step - loss: 87417.9609 - mae: 77.7608 - val_loss: 125749.6250 - val_mae: 112.1599\n",
      "Epoch 127/500\n",
      "1112/1112 [==============================] - 7s 6ms/step - loss: 85328.5625 - mae: 76.9094 - val_loss: 109927.2812 - val_mae: 98.3931\n",
      "Epoch 128/500\n",
      "1112/1112 [==============================] - 7s 6ms/step - loss: 80431.6250 - mae: 76.7308 - val_loss: 62616.2422 - val_mae: 69.2006\n",
      "Epoch 129/500\n",
      "1112/1112 [==============================] - 7s 6ms/step - loss: 87574.5469 - mae: 76.5020 - val_loss: 40620.5312 - val_mae: 57.3425\n",
      "Epoch 130/500\n",
      "1112/1112 [==============================] - 7s 6ms/step - loss: 76177.2422 - mae: 72.2182 - val_loss: 105410.9453 - val_mae: 94.8525\n",
      "Epoch 131/500\n",
      "1112/1112 [==============================] - 7s 6ms/step - loss: 93091.3594 - mae: 82.9036 - val_loss: 261321.1250 - val_mae: 119.1477\n",
      "Epoch 132/500\n",
      "1112/1112 [==============================] - 7s 6ms/step - loss: 66566.9453 - mae: 68.1038 - val_loss: 156168.5938 - val_mae: 97.7114\n",
      "Epoch 133/500\n",
      "1112/1112 [==============================] - 7s 6ms/step - loss: 93219.1953 - mae: 80.7531 - val_loss: 108948.3516 - val_mae: 100.0411\n",
      "Epoch 134/500\n",
      "1112/1112 [==============================] - 7s 6ms/step - loss: 81215.6719 - mae: 76.2951 - val_loss: 104090.9688 - val_mae: 79.1133\n",
      "Epoch 135/500\n",
      "1112/1112 [==============================] - 7s 6ms/step - loss: 74571.2891 - mae: 72.9999 - val_loss: 98064.2500 - val_mae: 80.1812\n",
      "Epoch 136/500\n",
      "1112/1112 [==============================] - 7s 6ms/step - loss: 109795.0703 - mae: 86.4475 - val_loss: 54259.7148 - val_mae: 64.6414\n",
      "Epoch 137/500\n",
      "1112/1112 [==============================] - 7s 6ms/step - loss: 69376.7578 - mae: 69.7239 - val_loss: 42300.2031 - val_mae: 59.2123\n",
      "Epoch 138/500\n",
      "1112/1112 [==============================] - 7s 6ms/step - loss: 68122.1484 - mae: 70.2221 - val_loss: 44064.4570 - val_mae: 63.7976\n",
      "Epoch 139/500\n",
      "1112/1112 [==============================] - 7s 6ms/step - loss: 74634.1406 - mae: 73.0627 - val_loss: 368730.8438 - val_mae: 184.1647\n",
      "Epoch 140/500\n",
      "1112/1112 [==============================] - 7s 6ms/step - loss: 69091.0781 - mae: 71.2978 - val_loss: 28574.5742 - val_mae: 46.4578\n",
      "Epoch 141/500\n",
      "1112/1112 [==============================] - 7s 6ms/step - loss: 82016.7812 - mae: 76.9135 - val_loss: 86873.7969 - val_mae: 79.4989\n",
      "Epoch 142/500\n",
      "1112/1112 [==============================] - 7s 6ms/step - loss: 85043.7344 - mae: 76.9978 - val_loss: 161428.2969 - val_mae: 103.2976\n",
      "Epoch 143/500\n",
      "1112/1112 [==============================] - 7s 6ms/step - loss: 104493.0156 - mae: 81.7751 - val_loss: 33312.3008 - val_mae: 55.9147\n",
      "Epoch 144/500\n",
      "1112/1112 [==============================] - 7s 6ms/step - loss: 96270.0156 - mae: 81.9616 - val_loss: 112994.9297 - val_mae: 95.7445\n",
      "Epoch 145/500\n",
      "1112/1112 [==============================] - 7s 6ms/step - loss: 64527.4297 - mae: 67.7876 - val_loss: 53521.3867 - val_mae: 71.7418\n",
      "Epoch 146/500\n",
      "1112/1112 [==============================] - 7s 6ms/step - loss: 72148.3359 - mae: 71.4673 - val_loss: 102710.3359 - val_mae: 93.1872\n",
      "Epoch 147/500\n",
      "1112/1112 [==============================] - 7s 6ms/step - loss: 75815.2578 - mae: 72.6611 - val_loss: 61173.0898 - val_mae: 70.5970\n",
      "Epoch 148/500\n",
      "1112/1112 [==============================] - 7s 6ms/step - loss: 69272.8125 - mae: 70.4592 - val_loss: 68126.5938 - val_mae: 60.8225\n",
      "Epoch 149/500\n",
      "1112/1112 [==============================] - 7s 6ms/step - loss: 87862.1562 - mae: 78.2602 - val_loss: 66464.9609 - val_mae: 66.6222\n",
      "Epoch 150/500\n",
      "1112/1112 [==============================] - 7s 6ms/step - loss: 66640.3984 - mae: 67.3230 - val_loss: 32114.3066 - val_mae: 50.5011\n",
      "Epoch 151/500\n",
      "1112/1112 [==============================] - 7s 6ms/step - loss: 73386.7578 - mae: 72.8694 - val_loss: 46276.7148 - val_mae: 61.7637\n",
      "Epoch 152/500\n",
      "1112/1112 [==============================] - 7s 6ms/step - loss: 76209.4609 - mae: 73.0278 - val_loss: 45066.0430 - val_mae: 51.6682\n",
      "Epoch 153/500\n",
      "1112/1112 [==============================] - 7s 6ms/step - loss: 73902.8750 - mae: 71.5317 - val_loss: 50209.5430 - val_mae: 61.5117\n",
      "Epoch 154/500\n",
      "1112/1112 [==============================] - 7s 6ms/step - loss: 76444.0625 - mae: 70.4418 - val_loss: 87761.9375 - val_mae: 82.1565\n",
      "Epoch 155/500\n",
      "1112/1112 [==============================] - 7s 6ms/step - loss: 69422.6953 - mae: 71.2732 - val_loss: 114179.5938 - val_mae: 85.2547\n",
      "Epoch 156/500\n",
      "1112/1112 [==============================] - 7s 6ms/step - loss: 64404.4492 - mae: 67.6597 - val_loss: 51144.0703 - val_mae: 52.9104\n",
      "Epoch 157/500\n",
      "1112/1112 [==============================] - 7s 6ms/step - loss: 97155.0469 - mae: 80.4055 - val_loss: 83666.6875 - val_mae: 72.2617\n",
      "Epoch 158/500\n",
      "1112/1112 [==============================] - 7s 6ms/step - loss: 80458.8750 - mae: 72.8365 - val_loss: 31841.0684 - val_mae: 48.9067\n",
      "Epoch 159/500\n",
      "1112/1112 [==============================] - 7s 6ms/step - loss: 68673.6562 - mae: 70.4705 - val_loss: 53834.2695 - val_mae: 73.9790\n",
      "Epoch 160/500\n",
      "1112/1112 [==============================] - 7s 6ms/step - loss: 60100.0898 - mae: 64.7918 - val_loss: 479164.6250 - val_mae: 176.7278\n",
      "Epoch 161/500\n",
      "1112/1112 [==============================] - 7s 6ms/step - loss: 104948.3672 - mae: 83.1905 - val_loss: 77300.6172 - val_mae: 67.7191\n",
      "Epoch 162/500\n",
      "1112/1112 [==============================] - 7s 6ms/step - loss: 65008.9492 - mae: 68.4020 - val_loss: 93175.3203 - val_mae: 92.3752\n",
      "Epoch 163/500\n",
      "1112/1112 [==============================] - 7s 6ms/step - loss: 78116.9062 - mae: 73.9416 - val_loss: 83435.0156 - val_mae: 68.2370\n",
      "Epoch 164/500\n",
      "1112/1112 [==============================] - 7s 6ms/step - loss: 74974.8125 - mae: 70.3957 - val_loss: 43614.7383 - val_mae: 50.5704\n",
      "Epoch 165/500\n",
      "1112/1112 [==============================] - 7s 6ms/step - loss: 76227.9141 - mae: 72.8493 - val_loss: 55449.5898 - val_mae: 66.1666\n",
      "Epoch 166/500\n",
      "1112/1112 [==============================] - 7s 6ms/step - loss: 58003.8750 - mae: 65.7109 - val_loss: 33206.9453 - val_mae: 50.5762\n",
      "Epoch 167/500\n",
      "1112/1112 [==============================] - 7s 6ms/step - loss: 80227.5312 - mae: 72.9709 - val_loss: 75003.6094 - val_mae: 78.0153\n",
      "Epoch 168/500\n",
      "1112/1112 [==============================] - 7s 6ms/step - loss: 66748.8203 - mae: 68.5955 - val_loss: 27701.3008 - val_mae: 44.1749\n",
      "Epoch 169/500\n",
      "1112/1112 [==============================] - 7s 6ms/step - loss: 74411.4141 - mae: 71.5055 - val_loss: 45153.3789 - val_mae: 60.6261\n",
      "Epoch 170/500\n",
      "1112/1112 [==============================] - 7s 6ms/step - loss: 69356.7500 - mae: 69.2826 - val_loss: 245300.3125 - val_mae: 124.4715\n",
      "Epoch 171/500\n",
      "1112/1112 [==============================] - 7s 6ms/step - loss: 98501.9609 - mae: 79.9663 - val_loss: 51238.3828 - val_mae: 60.8851\n",
      "Epoch 172/500\n",
      "1112/1112 [==============================] - 7s 6ms/step - loss: 67717.0625 - mae: 68.9007 - val_loss: 100344.1406 - val_mae: 84.6014\n",
      "Epoch 173/500\n",
      "1112/1112 [==============================] - 7s 6ms/step - loss: 73426.6172 - mae: 70.0711 - val_loss: 73560.0078 - val_mae: 64.7703\n",
      "Epoch 174/500\n",
      "1112/1112 [==============================] - 7s 6ms/step - loss: 92152.7656 - mae: 77.2206 - val_loss: 34951.1875 - val_mae: 49.5449\n",
      "Epoch 175/500\n",
      "1112/1112 [==============================] - 7s 6ms/step - loss: 64257.9062 - mae: 67.0939 - val_loss: 39413.1133 - val_mae: 47.0162\n",
      "Epoch 176/500\n",
      "1112/1112 [==============================] - 7s 6ms/step - loss: 70049.3516 - mae: 68.3754 - val_loss: 105887.0312 - val_mae: 91.0887\n",
      "Epoch 177/500\n",
      "1112/1112 [==============================] - 7s 6ms/step - loss: 83047.8203 - mae: 71.1802 - val_loss: 59703.6562 - val_mae: 68.9651\n",
      "Epoch 178/500\n",
      "1112/1112 [==============================] - 7s 6ms/step - loss: 71493.7500 - mae: 68.1782 - val_loss: 29932.0059 - val_mae: 53.7599\n",
      "Epoch 179/500\n",
      "1112/1112 [==============================] - 7s 6ms/step - loss: 52361.6992 - mae: 60.5032 - val_loss: 249718.2344 - val_mae: 130.8399\n",
      "Epoch 180/500\n",
      "1112/1112 [==============================] - 7s 6ms/step - loss: 67684.8516 - mae: 69.2434 - val_loss: 69920.4688 - val_mae: 73.7902\n",
      "Epoch 181/500\n",
      "1112/1112 [==============================] - 7s 6ms/step - loss: 72441.9844 - mae: 72.4445 - val_loss: 181859.4219 - val_mae: 109.1273\n",
      "Epoch 182/500\n",
      "1112/1112 [==============================] - 7s 6ms/step - loss: 66569.0781 - mae: 69.0527 - val_loss: 45974.3672 - val_mae: 64.2523\n",
      "Epoch 183/500\n",
      "1112/1112 [==============================] - 7s 6ms/step - loss: 84569.9297 - mae: 76.1880 - val_loss: 55030.8203 - val_mae: 68.6168\n",
      "Epoch 184/500\n",
      "1112/1112 [==============================] - 7s 6ms/step - loss: 57618.1406 - mae: 62.4656 - val_loss: 157479.8750 - val_mae: 109.5543\n",
      "Epoch 185/500\n",
      "1112/1112 [==============================] - 7s 6ms/step - loss: 74844.9141 - mae: 72.1461 - val_loss: 71957.0078 - val_mae: 67.2223\n",
      "Epoch 186/500\n",
      "1112/1112 [==============================] - 7s 7ms/step - loss: 58109.8711 - mae: 65.8428 - val_loss: 49656.4766 - val_mae: 53.7254\n",
      "Epoch 187/500\n",
      "1112/1112 [==============================] - 7s 6ms/step - loss: 73977.9688 - mae: 70.0480 - val_loss: 81379.2578 - val_mae: 62.3588\n",
      "Epoch 188/500\n",
      "1112/1112 [==============================] - 7s 6ms/step - loss: 55921.6992 - mae: 63.9470 - val_loss: 59635.8086 - val_mae: 67.8055\n",
      "Epoch 189/500\n",
      "1112/1112 [==============================] - 6s 6ms/step - loss: 66084.2031 - mae: 66.7455 - val_loss: 365403.0312 - val_mae: 188.6615\n",
      "Epoch 190/500\n",
      "1112/1112 [==============================] - 6s 6ms/step - loss: 74357.3125 - mae: 71.2125 - val_loss: 38770.5234 - val_mae: 59.1553\n",
      "Epoch 191/500\n",
      "1112/1112 [==============================] - 6s 6ms/step - loss: 67444.9219 - mae: 66.8502 - val_loss: 58382.3828 - val_mae: 68.1704\n",
      "Epoch 192/500\n",
      "1112/1112 [==============================] - 7s 6ms/step - loss: 69052.3750 - mae: 67.6376 - val_loss: 115720.0312 - val_mae: 93.3576\n",
      "Epoch 193/500\n",
      "1112/1112 [==============================] - 7s 6ms/step - loss: 76401.1328 - mae: 71.2643 - val_loss: 39329.1562 - val_mae: 49.7366\n",
      "Epoch 194/500\n",
      "1112/1112 [==============================] - 7s 6ms/step - loss: 65495.5742 - mae: 67.2196 - val_loss: 48162.0000 - val_mae: 61.7464\n",
      "Epoch 195/500\n",
      "1112/1112 [==============================] - 7s 6ms/step - loss: 80996.1406 - mae: 73.2054 - val_loss: 24711.4434 - val_mae: 44.0152\n",
      "Epoch 196/500\n",
      "1112/1112 [==============================] - 7s 6ms/step - loss: 66596.3438 - mae: 66.9054 - val_loss: 35837.4180 - val_mae: 54.2548\n",
      "Epoch 197/500\n",
      "1112/1112 [==============================] - 7s 6ms/step - loss: 74527.7422 - mae: 70.2882 - val_loss: 48067.5273 - val_mae: 58.9355\n",
      "Epoch 198/500\n",
      "1112/1112 [==============================] - 7s 6ms/step - loss: 80096.9688 - mae: 69.1986 - val_loss: 31912.4297 - val_mae: 52.7441\n",
      "Epoch 199/500\n",
      "1112/1112 [==============================] - 7s 6ms/step - loss: 68111.1953 - mae: 67.1452 - val_loss: 82316.7109 - val_mae: 67.7575\n",
      "Epoch 200/500\n",
      "1112/1112 [==============================] - 7s 6ms/step - loss: 61457.0703 - mae: 65.7047 - val_loss: 51361.7617 - val_mae: 65.8002\n",
      "Epoch 201/500\n",
      "1112/1112 [==============================] - 7s 6ms/step - loss: 69429.2031 - mae: 70.0897 - val_loss: 56599.7070 - val_mae: 59.3329\n",
      "Epoch 202/500\n",
      "1112/1112 [==============================] - 7s 6ms/step - loss: 66307.5859 - mae: 64.8708 - val_loss: 47493.3281 - val_mae: 61.3698\n",
      "Epoch 203/500\n",
      "1112/1112 [==============================] - 7s 6ms/step - loss: 85530.6406 - mae: 76.2736 - val_loss: 35176.3633 - val_mae: 50.5000\n",
      "Epoch 204/500\n",
      "1112/1112 [==============================] - 7s 6ms/step - loss: 69601.1484 - mae: 69.3291 - val_loss: 42329.9961 - val_mae: 54.3306\n",
      "Epoch 205/500\n",
      "1112/1112 [==============================] - 7s 6ms/step - loss: 62656.2188 - mae: 63.5697 - val_loss: 57454.9414 - val_mae: 69.3310\n",
      "Epoch 206/500\n",
      "1112/1112 [==============================] - 7s 6ms/step - loss: 75834.9297 - mae: 70.3030 - val_loss: 65848.7812 - val_mae: 71.4585\n",
      "Epoch 207/500\n",
      "1112/1112 [==============================] - 7s 6ms/step - loss: 62527.2109 - mae: 65.8526 - val_loss: 25727.2031 - val_mae: 46.4279\n",
      "Epoch 208/500\n",
      "1112/1112 [==============================] - 7s 6ms/step - loss: 59345.1484 - mae: 64.1757 - val_loss: 67733.5938 - val_mae: 68.7842\n",
      "Epoch 209/500\n",
      "1112/1112 [==============================] - 7s 6ms/step - loss: 71519.5469 - mae: 69.3202 - val_loss: 32516.3086 - val_mae: 49.3230\n",
      "Epoch 210/500\n",
      "1112/1112 [==============================] - 7s 6ms/step - loss: 63868.8828 - mae: 64.7306 - val_loss: 26912.5020 - val_mae: 44.2215\n",
      "Epoch 211/500\n",
      "1112/1112 [==============================] - 7s 6ms/step - loss: 92541.7266 - mae: 76.8033 - val_loss: 32882.9727 - val_mae: 53.7405\n",
      "Epoch 212/500\n",
      "1112/1112 [==============================] - 7s 6ms/step - loss: 58736.7383 - mae: 60.3019 - val_loss: 23609.4863 - val_mae: 44.5257\n",
      "Epoch 213/500\n",
      "1112/1112 [==============================] - 7s 6ms/step - loss: 58158.5391 - mae: 63.2614 - val_loss: 166007.1250 - val_mae: 121.6302\n",
      "Epoch 214/500\n",
      "1112/1112 [==============================] - 7s 6ms/step - loss: 51026.2461 - mae: 60.5431 - val_loss: 43013.2852 - val_mae: 61.5598\n",
      "Epoch 215/500\n",
      "1112/1112 [==============================] - 7s 6ms/step - loss: 56407.2188 - mae: 61.9303 - val_loss: 44004.6953 - val_mae: 59.1542\n",
      "Epoch 216/500\n",
      "1112/1112 [==============================] - 7s 6ms/step - loss: 65587.6641 - mae: 65.5252 - val_loss: 22396.3262 - val_mae: 41.8863\n",
      "Epoch 217/500\n",
      "1112/1112 [==============================] - 7s 6ms/step - loss: 61288.2344 - mae: 65.6760 - val_loss: 36359.1094 - val_mae: 56.0799\n",
      "Epoch 218/500\n",
      "1112/1112 [==============================] - 7s 6ms/step - loss: 65313.1992 - mae: 65.7955 - val_loss: 28925.4375 - val_mae: 55.2754\n",
      "Epoch 219/500\n",
      "1112/1112 [==============================] - 7s 6ms/step - loss: 59463.4492 - mae: 63.3839 - val_loss: 52724.2578 - val_mae: 58.2351\n",
      "Epoch 220/500\n",
      "1112/1112 [==============================] - 7s 6ms/step - loss: 56694.5859 - mae: 61.8892 - val_loss: 292305.5312 - val_mae: 141.3180\n",
      "Epoch 221/500\n",
      "1112/1112 [==============================] - 7s 6ms/step - loss: 82998.3203 - mae: 76.3914 - val_loss: 30680.3105 - val_mae: 42.3969\n",
      "Epoch 222/500\n",
      "1112/1112 [==============================] - 7s 6ms/step - loss: 54312.9727 - mae: 59.6978 - val_loss: 162297.7031 - val_mae: 98.2907\n",
      "Epoch 223/500\n",
      "1112/1112 [==============================] - 7s 6ms/step - loss: 67970.0625 - mae: 65.2796 - val_loss: 187756.8906 - val_mae: 143.7160\n",
      "Epoch 224/500\n",
      "1112/1112 [==============================] - 7s 6ms/step - loss: 70037.7656 - mae: 67.8573 - val_loss: 35614.9961 - val_mae: 55.7658\n",
      "Epoch 225/500\n",
      "1112/1112 [==============================] - 7s 6ms/step - loss: 69582.8984 - mae: 68.5378 - val_loss: 46851.2344 - val_mae: 56.0508\n",
      "Epoch 226/500\n",
      "1112/1112 [==============================] - 7s 6ms/step - loss: 70505.1641 - mae: 66.8391 - val_loss: 58635.6562 - val_mae: 64.5818\n",
      "Epoch 227/500\n",
      "1112/1112 [==============================] - 7s 6ms/step - loss: 67976.1719 - mae: 68.1592 - val_loss: 37928.3438 - val_mae: 70.6502\n",
      "Epoch 228/500\n",
      "1112/1112 [==============================] - 7s 6ms/step - loss: 68893.8828 - mae: 66.9855 - val_loss: 53359.1367 - val_mae: 61.9007\n",
      "Epoch 229/500\n",
      "1112/1112 [==============================] - 7s 6ms/step - loss: 68944.3750 - mae: 69.1788 - val_loss: 49317.3203 - val_mae: 64.6451\n",
      "Epoch 230/500\n",
      "1112/1112 [==============================] - 7s 6ms/step - loss: 72877.5078 - mae: 66.8007 - val_loss: 29354.7129 - val_mae: 49.2720\n",
      "Epoch 231/500\n",
      "1112/1112 [==============================] - 7s 6ms/step - loss: 63749.6875 - mae: 65.7304 - val_loss: 61230.5820 - val_mae: 65.7085\n",
      "Epoch 232/500\n",
      "1112/1112 [==============================] - 7s 6ms/step - loss: 68642.3594 - mae: 67.8684 - val_loss: 38626.5273 - val_mae: 53.0693\n",
      "Epoch 233/500\n",
      "1112/1112 [==============================] - 7s 6ms/step - loss: 49071.0781 - mae: 59.1242 - val_loss: 27996.5410 - val_mae: 46.8448\n",
      "Epoch 234/500\n",
      "1112/1112 [==============================] - 7s 6ms/step - loss: 58389.9766 - mae: 63.2276 - val_loss: 68495.7891 - val_mae: 61.7821\n",
      "Epoch 235/500\n",
      "1112/1112 [==============================] - 7s 6ms/step - loss: 66116.0391 - mae: 65.5207 - val_loss: 101221.4141 - val_mae: 107.9592\n",
      "Epoch 236/500\n",
      "1112/1112 [==============================] - 7s 6ms/step - loss: 65223.0000 - mae: 67.7957 - val_loss: 45371.4180 - val_mae: 57.8843\n",
      "Epoch 237/500\n",
      "1112/1112 [==============================] - 7s 6ms/step - loss: 53523.2578 - mae: 60.0028 - val_loss: 44764.5312 - val_mae: 52.3428\n",
      "Epoch 238/500\n",
      "1112/1112 [==============================] - 7s 6ms/step - loss: 55397.7812 - mae: 61.4767 - val_loss: 138866.1250 - val_mae: 82.8771\n",
      "Epoch 239/500\n",
      "1112/1112 [==============================] - 7s 6ms/step - loss: 52538.3438 - mae: 61.5116 - val_loss: 37818.8555 - val_mae: 57.0188\n",
      "Epoch 240/500\n",
      "1112/1112 [==============================] - 7s 6ms/step - loss: 69450.1797 - mae: 66.7546 - val_loss: 62153.1523 - val_mae: 60.6335\n",
      "Epoch 241/500\n",
      "1112/1112 [==============================] - 7s 6ms/step - loss: 61301.2344 - mae: 63.7537 - val_loss: 22093.7949 - val_mae: 43.0066\n",
      "Epoch 242/500\n",
      "1112/1112 [==============================] - 7s 6ms/step - loss: 66568.0859 - mae: 67.3964 - val_loss: 166338.6406 - val_mae: 110.0736\n",
      "Epoch 243/500\n",
      "1112/1112 [==============================] - 7s 6ms/step - loss: 74491.0781 - mae: 69.6195 - val_loss: 31893.0059 - val_mae: 51.2897\n",
      "Epoch 244/500\n",
      "1112/1112 [==============================] - 7s 6ms/step - loss: 57205.5273 - mae: 62.2787 - val_loss: 97075.9297 - val_mae: 88.2139\n",
      "Epoch 245/500\n",
      "1112/1112 [==============================] - 7s 6ms/step - loss: 67349.8047 - mae: 68.2607 - val_loss: 66613.6250 - val_mae: 60.1934\n",
      "Epoch 246/500\n",
      "1112/1112 [==============================] - 7s 6ms/step - loss: 59165.0508 - mae: 62.8239 - val_loss: 183177.7656 - val_mae: 117.4295\n",
      "Epoch 247/500\n",
      "1112/1112 [==============================] - 7s 6ms/step - loss: 80821.7422 - mae: 73.7696 - val_loss: 32721.3047 - val_mae: 49.8842\n",
      "Epoch 248/500\n",
      "1112/1112 [==============================] - 7s 6ms/step - loss: 60288.3047 - mae: 64.0558 - val_loss: 26838.6035 - val_mae: 42.2059\n",
      "Epoch 249/500\n",
      "1112/1112 [==============================] - 7s 6ms/step - loss: 60175.7148 - mae: 60.7622 - val_loss: 144643.5312 - val_mae: 101.3592\n",
      "Epoch 250/500\n",
      "1112/1112 [==============================] - 7s 6ms/step - loss: 62314.0508 - mae: 62.4599 - val_loss: 27397.8828 - val_mae: 43.9794\n",
      "Epoch 251/500\n",
      "1112/1112 [==============================] - 7s 6ms/step - loss: 57939.1875 - mae: 61.0549 - val_loss: 75131.9375 - val_mae: 67.9625\n",
      "Epoch 252/500\n",
      "1112/1112 [==============================] - 7s 6ms/step - loss: 62496.6562 - mae: 67.9447 - val_loss: 29277.9668 - val_mae: 47.5799\n",
      "Epoch 253/500\n",
      "1112/1112 [==============================] - 7s 6ms/step - loss: 74991.8047 - mae: 67.7437 - val_loss: 50571.7109 - val_mae: 56.4048\n",
      "Epoch 254/500\n",
      "1112/1112 [==============================] - 7s 6ms/step - loss: 59385.2461 - mae: 62.8871 - val_loss: 19725.6406 - val_mae: 39.7605\n",
      "Epoch 255/500\n",
      "1112/1112 [==============================] - 7s 6ms/step - loss: 58701.6133 - mae: 64.7094 - val_loss: 43726.1797 - val_mae: 56.8329\n",
      "Epoch 256/500\n",
      "1112/1112 [==============================] - 7s 6ms/step - loss: 59672.1758 - mae: 61.7166 - val_loss: 69073.3203 - val_mae: 62.0308\n",
      "Epoch 257/500\n",
      "1112/1112 [==============================] - 7s 6ms/step - loss: 60909.6172 - mae: 63.3436 - val_loss: 192356.8438 - val_mae: 108.2789\n",
      "Epoch 258/500\n",
      "1112/1112 [==============================] - 7s 6ms/step - loss: 61610.3125 - mae: 61.0973 - val_loss: 120699.0938 - val_mae: 90.1446\n",
      "Epoch 259/500\n",
      "1112/1112 [==============================] - 7s 6ms/step - loss: 62858.2305 - mae: 64.6788 - val_loss: 41207.3281 - val_mae: 61.5112\n",
      "Epoch 260/500\n",
      "1112/1112 [==============================] - 7s 6ms/step - loss: 67690.9922 - mae: 64.2637 - val_loss: 46237.8906 - val_mae: 59.1477\n",
      "Epoch 261/500\n",
      "1112/1112 [==============================] - 7s 6ms/step - loss: 69012.4375 - mae: 64.5311 - val_loss: 62697.3359 - val_mae: 60.6576\n",
      "Epoch 262/500\n",
      "1112/1112 [==============================] - 7s 6ms/step - loss: 41580.8203 - mae: 52.7016 - val_loss: 22058.3418 - val_mae: 41.1637\n",
      "Epoch 263/500\n",
      "1112/1112 [==============================] - 7s 6ms/step - loss: 64996.3828 - mae: 63.1595 - val_loss: 53761.6367 - val_mae: 59.0596\n",
      "Epoch 264/500\n",
      "1112/1112 [==============================] - 7s 6ms/step - loss: 76856.9766 - mae: 69.4791 - val_loss: 57811.3516 - val_mae: 59.4122\n",
      "Epoch 265/500\n",
      "1112/1112 [==============================] - 7s 6ms/step - loss: 48889.9805 - mae: 57.6876 - val_loss: 45377.0469 - val_mae: 58.8610\n",
      "Epoch 266/500\n",
      "1112/1112 [==============================] - 7s 6ms/step - loss: 65832.0391 - mae: 65.4332 - val_loss: 26064.6875 - val_mae: 43.4653\n",
      "Epoch 267/500\n",
      "1112/1112 [==============================] - 7s 6ms/step - loss: 56547.4922 - mae: 60.3973 - val_loss: 139851.4219 - val_mae: 88.5282\n",
      "Epoch 268/500\n",
      "1112/1112 [==============================] - 7s 6ms/step - loss: 54007.0273 - mae: 58.9398 - val_loss: 100458.6328 - val_mae: 82.3862\n",
      "Epoch 269/500\n",
      "1112/1112 [==============================] - 7s 6ms/step - loss: 65730.3203 - mae: 64.6468 - val_loss: 28982.0469 - val_mae: 50.0272\n",
      "Epoch 270/500\n",
      "1112/1112 [==============================] - 7s 6ms/step - loss: 60973.9961 - mae: 60.2693 - val_loss: 24263.7812 - val_mae: 41.2795\n",
      "Epoch 271/500\n",
      "1112/1112 [==============================] - 7s 6ms/step - loss: 44836.4180 - mae: 54.4064 - val_loss: 79957.1172 - val_mae: 67.8018\n",
      "Epoch 272/500\n",
      "1112/1112 [==============================] - 7s 6ms/step - loss: 80978.2969 - mae: 71.1777 - val_loss: 180375.5625 - val_mae: 142.4615\n",
      "Epoch 273/500\n",
      "1112/1112 [==============================] - 7s 6ms/step - loss: 51968.1172 - mae: 59.3351 - val_loss: 126795.2422 - val_mae: 87.0597\n",
      "Epoch 274/500\n",
      "1112/1112 [==============================] - 7s 6ms/step - loss: 60110.8555 - mae: 64.0303 - val_loss: 40037.1914 - val_mae: 49.5375\n",
      "Epoch 275/500\n",
      "1112/1112 [==============================] - 7s 6ms/step - loss: 69660.3125 - mae: 64.2189 - val_loss: 88677.5938 - val_mae: 69.2212\n",
      "Epoch 276/500\n",
      "1112/1112 [==============================] - 7s 6ms/step - loss: 48047.3320 - mae: 56.2836 - val_loss: 55488.1133 - val_mae: 55.5455\n",
      "Epoch 277/500\n",
      "1112/1112 [==============================] - 7s 6ms/step - loss: 59484.8477 - mae: 60.1085 - val_loss: 139062.0156 - val_mae: 114.3753\n",
      "Epoch 278/500\n",
      "1112/1112 [==============================] - 7s 6ms/step - loss: 56632.1406 - mae: 61.7484 - val_loss: 57258.1016 - val_mae: 54.7925\n",
      "Epoch 279/500\n",
      "1112/1112 [==============================] - 7s 6ms/step - loss: 61296.5352 - mae: 63.4423 - val_loss: 56193.1406 - val_mae: 55.5177\n",
      "Epoch 280/500\n",
      "1112/1112 [==============================] - 7s 6ms/step - loss: 56387.7578 - mae: 59.0758 - val_loss: 55987.3047 - val_mae: 82.1695\n",
      "Epoch 281/500\n",
      "1112/1112 [==============================] - 7s 6ms/step - loss: 56286.6016 - mae: 61.8703 - val_loss: 25157.3457 - val_mae: 48.1641\n",
      "Epoch 282/500\n",
      "1112/1112 [==============================] - 7s 6ms/step - loss: 60553.5820 - mae: 62.9455 - val_loss: 34141.3125 - val_mae: 51.9503\n",
      "Epoch 283/500\n",
      "1112/1112 [==============================] - 7s 6ms/step - loss: 50884.8047 - mae: 57.6134 - val_loss: 16450.6211 - val_mae: 34.4810\n",
      "Epoch 284/500\n",
      "1112/1112 [==============================] - 7s 6ms/step - loss: 62453.5352 - mae: 64.7595 - val_loss: 39520.2305 - val_mae: 57.4804\n",
      "Epoch 285/500\n",
      "1112/1112 [==============================] - 7s 6ms/step - loss: 54445.5195 - mae: 58.2345 - val_loss: 203652.1406 - val_mae: 110.3548\n",
      "Epoch 286/500\n",
      "1112/1112 [==============================] - 7s 6ms/step - loss: 59450.8555 - mae: 62.7078 - val_loss: 21830.5176 - val_mae: 40.6968\n",
      "Epoch 287/500\n",
      "1112/1112 [==============================] - 7s 6ms/step - loss: 59653.3594 - mae: 61.0733 - val_loss: 197440.6719 - val_mae: 109.4211\n",
      "Epoch 288/500\n",
      "1112/1112 [==============================] - 7s 6ms/step - loss: 54114.0742 - mae: 59.0905 - val_loss: 53208.6680 - val_mae: 54.2619\n",
      "Epoch 289/500\n",
      "1112/1112 [==============================] - 7s 6ms/step - loss: 54051.4297 - mae: 60.2366 - val_loss: 48967.7695 - val_mae: 54.0416\n",
      "Epoch 290/500\n",
      "1112/1112 [==============================] - 7s 6ms/step - loss: 64749.5781 - mae: 63.8259 - val_loss: 25166.3594 - val_mae: 41.1018\n",
      "Epoch 291/500\n",
      "1112/1112 [==============================] - 7s 6ms/step - loss: 51587.6484 - mae: 59.0196 - val_loss: 150903.5000 - val_mae: 121.6933\n",
      "Epoch 292/500\n",
      "1112/1112 [==============================] - 7s 6ms/step - loss: 61516.1914 - mae: 63.4234 - val_loss: 56152.4531 - val_mae: 58.6435\n",
      "Epoch 293/500\n",
      "1112/1112 [==============================] - 7s 6ms/step - loss: 39484.5156 - mae: 51.1639 - val_loss: 28472.6055 - val_mae: 44.3846\n",
      "Epoch 294/500\n",
      "1112/1112 [==============================] - 7s 6ms/step - loss: 49941.5000 - mae: 56.4724 - val_loss: 62262.9102 - val_mae: 66.0473\n",
      "Epoch 295/500\n",
      "1112/1112 [==============================] - 7s 6ms/step - loss: 65071.7578 - mae: 64.4991 - val_loss: 69978.2109 - val_mae: 64.9916\n",
      "Epoch 296/500\n",
      "1112/1112 [==============================] - 7s 6ms/step - loss: 44972.5938 - mae: 53.8371 - val_loss: 53467.1953 - val_mae: 62.5974\n",
      "Epoch 297/500\n",
      "1112/1112 [==============================] - 7s 6ms/step - loss: 58689.2656 - mae: 63.3077 - val_loss: 46863.6523 - val_mae: 59.1589\n",
      "Epoch 298/500\n",
      "1112/1112 [==============================] - 7s 6ms/step - loss: 62601.4414 - mae: 61.3218 - val_loss: 142780.6250 - val_mae: 90.9303\n",
      "Epoch 299/500\n",
      "1112/1112 [==============================] - 7s 6ms/step - loss: 57100.7305 - mae: 59.0343 - val_loss: 225366.4375 - val_mae: 117.2376\n",
      "Epoch 300/500\n",
      "1112/1112 [==============================] - 7s 6ms/step - loss: 64291.5195 - mae: 63.6601 - val_loss: 30871.9453 - val_mae: 43.7610\n",
      "Epoch 301/500\n",
      "1112/1112 [==============================] - 7s 6ms/step - loss: 64513.6055 - mae: 62.4865 - val_loss: 116669.5469 - val_mae: 88.6993\n",
      "Epoch 302/500\n",
      "1112/1112 [==============================] - 7s 6ms/step - loss: 50133.4414 - mae: 55.0849 - val_loss: 57527.3672 - val_mae: 66.7253\n",
      "Epoch 303/500\n",
      "1112/1112 [==============================] - 7s 6ms/step - loss: 62930.1172 - mae: 63.6192 - val_loss: 45208.4961 - val_mae: 56.8555\n",
      "Epoch 304/500\n",
      "1112/1112 [==============================] - 7s 6ms/step - loss: 63215.1055 - mae: 63.8313 - val_loss: 26235.4590 - val_mae: 45.4920\n",
      "Epoch 305/500\n",
      "1112/1112 [==============================] - 7s 6ms/step - loss: 58607.9297 - mae: 62.4084 - val_loss: 44428.0352 - val_mae: 55.6084\n",
      "Epoch 306/500\n",
      "1112/1112 [==============================] - 7s 6ms/step - loss: 49949.1172 - mae: 56.9570 - val_loss: 99976.7812 - val_mae: 70.9958\n",
      "Epoch 307/500\n",
      "1112/1112 [==============================] - 7s 6ms/step - loss: 61664.3086 - mae: 63.2017 - val_loss: 26810.8770 - val_mae: 47.4861\n",
      "Epoch 308/500\n",
      "1112/1112 [==============================] - 7s 6ms/step - loss: 63993.4492 - mae: 62.6377 - val_loss: 62163.6992 - val_mae: 74.5029\n",
      "Epoch 309/500\n",
      "1112/1112 [==============================] - 7s 6ms/step - loss: 31618.6074 - mae: 46.8290 - val_loss: 41047.0195 - val_mae: 55.3825\n",
      "Epoch 310/500\n",
      "1112/1112 [==============================] - 7s 6ms/step - loss: 65579.0547 - mae: 63.0180 - val_loss: 31364.1641 - val_mae: 55.1123\n",
      "Epoch 311/500\n",
      "1112/1112 [==============================] - 7s 6ms/step - loss: 61837.4219 - mae: 63.6229 - val_loss: 207646.2969 - val_mae: 140.3079\n",
      "Epoch 312/500\n",
      "1112/1112 [==============================] - 7s 6ms/step - loss: 42534.4648 - mae: 57.0826 - val_loss: 34110.7812 - val_mae: 45.4038\n",
      "Epoch 313/500\n",
      "1112/1112 [==============================] - 7s 6ms/step - loss: 69248.1172 - mae: 67.1757 - val_loss: 19690.4473 - val_mae: 37.0966\n",
      "Epoch 314/500\n",
      "1112/1112 [==============================] - 7s 6ms/step - loss: 55036.6172 - mae: 58.2084 - val_loss: 22507.3301 - val_mae: 51.3284\n",
      "Epoch 315/500\n",
      "1112/1112 [==============================] - 7s 6ms/step - loss: 58639.2969 - mae: 60.8997 - val_loss: 91899.1406 - val_mae: 81.9647\n",
      "Epoch 316/500\n",
      "1112/1112 [==============================] - 7s 6ms/step - loss: 51083.1602 - mae: 59.0309 - val_loss: 29309.9590 - val_mae: 44.3531\n",
      "Epoch 317/500\n",
      "1112/1112 [==============================] - 7s 6ms/step - loss: 47458.0273 - mae: 57.6511 - val_loss: 59545.7969 - val_mae: 75.5317\n",
      "Epoch 318/500\n",
      "1112/1112 [==============================] - 7s 6ms/step - loss: 49342.5625 - mae: 57.3186 - val_loss: 49264.3516 - val_mae: 53.2399\n",
      "Epoch 319/500\n",
      "1112/1112 [==============================] - 7s 6ms/step - loss: 50431.5547 - mae: 58.5502 - val_loss: 40799.1797 - val_mae: 57.0369\n",
      "Epoch 320/500\n",
      "1112/1112 [==============================] - 7s 6ms/step - loss: 53668.6602 - mae: 60.6066 - val_loss: 189646.0938 - val_mae: 122.9159\n",
      "Epoch 321/500\n",
      "1112/1112 [==============================] - 7s 6ms/step - loss: 56578.1133 - mae: 60.7261 - val_loss: 33259.1953 - val_mae: 45.0071\n",
      "Epoch 322/500\n",
      "1112/1112 [==============================] - 7s 6ms/step - loss: 45502.8711 - mae: 54.7648 - val_loss: 22089.0645 - val_mae: 45.7102\n",
      "Epoch 323/500\n",
      "1112/1112 [==============================] - 7s 6ms/step - loss: 49267.7773 - mae: 57.6911 - val_loss: 30075.4707 - val_mae: 46.2058\n",
      "Epoch 324/500\n",
      "1112/1112 [==============================] - 7s 6ms/step - loss: 51343.7070 - mae: 55.9025 - val_loss: 50466.3672 - val_mae: 57.1902\n",
      "Epoch 325/500\n",
      "1112/1112 [==============================] - 7s 6ms/step - loss: 57172.7422 - mae: 60.8086 - val_loss: 21776.5254 - val_mae: 43.1061\n",
      "Epoch 326/500\n",
      "1112/1112 [==============================] - 7s 6ms/step - loss: 52592.9531 - mae: 57.8723 - val_loss: 40756.8789 - val_mae: 52.8706\n",
      "Epoch 327/500\n",
      "1112/1112 [==============================] - 7s 6ms/step - loss: 52200.6133 - mae: 58.4315 - val_loss: 31838.9980 - val_mae: 44.1442\n",
      "Epoch 328/500\n",
      "1112/1112 [==============================] - 7s 6ms/step - loss: 39406.6836 - mae: 51.8834 - val_loss: 30313.8379 - val_mae: 48.0194\n",
      "Epoch 329/500\n",
      "1112/1112 [==============================] - 7s 6ms/step - loss: 60871.6836 - mae: 60.3680 - val_loss: 25085.9043 - val_mae: 49.8223\n",
      "Epoch 330/500\n",
      "1112/1112 [==============================] - 7s 6ms/step - loss: 54621.3906 - mae: 59.9685 - val_loss: 27291.2461 - val_mae: 43.7837\n",
      "Epoch 331/500\n",
      "1112/1112 [==============================] - 7s 6ms/step - loss: 60785.9219 - mae: 60.1203 - val_loss: 107579.9453 - val_mae: 97.2368\n",
      "Epoch 332/500\n",
      "1112/1112 [==============================] - 7s 6ms/step - loss: 54548.9922 - mae: 58.1214 - val_loss: 28042.6055 - val_mae: 41.8141\n",
      "Epoch 333/500\n",
      "1112/1112 [==============================] - 7s 6ms/step - loss: 46035.6367 - mae: 55.1581 - val_loss: 19837.0781 - val_mae: 37.3445\n"
     ]
    }
   ],
   "source": [
    "history = ann.fit(X_train, y_train,\n",
    "                    validation_data = (X_val, y_val),\n",
    "                    callbacks=[es],\n",
    "                    epochs=500,\n",
    "                    batch_size=30,\n",
    "                    verbose=1)"
   ]
  },
  {
   "cell_type": "code",
   "execution_count": 22,
   "metadata": {
    "ExecuteTime": {
     "end_time": "2024-08-29T23:26:31.344114900Z",
     "start_time": "2024-08-29T23:26:30.709700400Z"
    }
   },
   "outputs": [
    {
     "data": {
      "text/plain": "<Figure size 600x600 with 1 Axes>",
      "image/png": "[encoded data removed]"
     },
     "metadata": {},
     "output_type": "display_data"
    }
   ],
   "source": [
    "# let's see the training and validation accuracy by epoch\n",
    "history_dict = history.history\n",
    "loss_values = history_dict['loss'] # you can change this\n",
    "val_loss_values = history_dict['val_loss'] # you can also change this\n",
    "epochs = range(1, len(loss_values) + 1) # range of X (no. of epochs)\n",
    "\n",
    "# Set global font to Times New Roman and font size\n",
    "plt.rcParams['font.family'] = 'serif'\n",
    "plt.rcParams['font.serif'] = ['Times New Roman']\n",
    "plt.rcParams['font.size'] = 20\n",
    "\n",
    "# Create a plot\n",
    "plt.figure(figsize=(6, 6))\n",
    "plt.plot(epochs, loss_values, 'blue', label='Train set')\n",
    "plt.plot(epochs, val_loss_values, 'orange', label='Validation set')\n",
    "#plt.title('Training and testing loss')\n",
    "\n",
    "\n",
    "plt.xlabel('Epochs')\n",
    "plt.ylabel('Loss (MSE)')\n",
    "plt.legend()\n",
    "plt.savefig('Section1_ANN5_2.png', dpi=200, bbox_inches='tight')\n",
    "plt.show()"
   ]
  },
  {
   "cell_type": "code",
   "execution_count": 23,
   "metadata": {
    "ExecuteTime": {
     "end_time": "2024-08-29T23:26:31.809398500Z",
     "start_time": "2024-08-29T23:26:31.378687500Z"
    }
   },
   "outputs": [
    {
     "data": {
      "text/plain": "<Figure size 600x600 with 1 Axes>",
      "image/png": "[encoded data removed]"
     },
     "metadata": {},
     "output_type": "display_data"
    }
   ],
   "source": [
    "loss_values1 = history_dict['mae'] # you can change this\n",
    "val_loss_values1 = history_dict['val_mae'] # you can also change this\n",
    "epochs = range(1, len(loss_values1) + 1) # range of X (no. of epochs)\n",
    "# Create a plot\n",
    "plt.figure(figsize=(6, 6))\n",
    "plt.plot(epochs, loss_values1, 'blue', label='Train set')\n",
    "plt.plot(epochs, val_loss_values1, 'orange', label='Validation set')\n",
    "#plt.title('Training and testing MAE')\n",
    "plt.xlabel('Epochs')\n",
    "plt.ylabel('MAE (kPa)')\n",
    "plt.legend()\n",
    "plt.savefig('Section1_ANN5_3.png', dpi=200, bbox_inches='tight')\n",
    "plt.show()"
   ]
  },
  {
   "cell_type": "code",
   "execution_count": 24,
   "metadata": {
    "ExecuteTime": {
     "end_time": "2024-08-29T23:26:33.728711100Z",
     "start_time": "2024-08-29T23:26:31.799398200Z"
    }
   },
   "outputs": [
    {
     "name": "stdout",
     "output_type": "stream",
     "text": [
      "INFO:tensorflow:Assets written to: Section1_new3_ANN_5\\assets\n"
     ]
    }
   ],
   "source": [
    "ann.save('Section1_new3_ANN_5')\n",
    "import pickle\n",
    "pickle.dump(sc, open('Section1_new3_scaler_ANN_5.pkl', 'wb'))"
   ]
  },
  {
   "cell_type": "markdown",
   "metadata": {},
   "source": [
    "## Part 5 - Make predictions"
   ]
  },
  {
   "cell_type": "code",
   "execution_count": 25,
   "metadata": {
    "ExecuteTime": {
     "end_time": "2024-08-29T23:26:39.126153700Z",
     "start_time": "2024-08-29T23:26:33.764259500Z"
    }
   },
   "outputs": [
    {
     "name": "stdout",
     "output_type": "stream",
     "text": [
      "1042/1042 [==============================] - 3s 2ms/step\n",
      "348/348 [==============================] - 1s 2ms/step\n"
     ]
    },
    {
     "data": {
      "text/plain": "<Figure size 640x480 with 2 Axes>",
      "image/png": "[encoded data removed]"
     },
     "metadata": {},
     "output_type": "display_data"
    }
   ],
   "source": [
    "# scatterplot of actual vs. pred\n",
    "# specify the dimensions \n",
    "fig, axes = plt.subplots(1,2) # 1 row, 2 columns\n",
    "\n",
    "# this makes the individual subplots\n",
    "# Training Results\n",
    "axes[0].scatter(x=y_train, y=ann.predict(X_train)) #first row, first entry (left top)\n",
    "axes[0].set_xlabel(\"Actual\", fontsize=20)\n",
    "axes[0].set_ylabel(\"Predicted\",  fontsize=20)\n",
    "axes[0].set_title(\"Training\")\n",
    "# add 45 deg line\n",
    "x = np.linspace(*axes[0].get_xlim())\n",
    "axes[0].plot(x, x, color='red')\n",
    "# Validation Results\n",
    "axes[1].scatter(x=y_val, y=ann.predict(X_val)) # first row, second entry (right top)\n",
    "axes[1].set_xlabel(\"Actual\", fontsize=20)\n",
    "axes[1].set_ylabel(\"Predicted\",  fontsize=20)\n",
    "axes[1].set_title(\"Validation\")\n",
    "# add 45 deg line\n",
    "x = np.linspace(*axes[1].get_xlim())\n",
    "axes[1].plot(x, x, color='red')\n",
    "\n",
    "# tight layout\n",
    "fig.tight_layout()\n",
    "\n",
    "plt.savefig('Section1_ANN5_1.png', dpi=200, bbox_inches='tight')\n",
    "# show the plot\n",
    "plt.show()"
   ]
  },
  {
   "cell_type": "code",
   "execution_count": 26,
   "metadata": {
    "colab": {
     "base_uri": "https://localhost:8080/",
     "height": 134
    },
    "colab_type": "code",
    "id": "IA0yApEmBG1X",
    "outputId": "cb981e1f-9204-4a2a-fece-9d66a6919189",
    "ExecuteTime": {
     "end_time": "2024-08-29T23:26:40.254176500Z",
     "start_time": "2024-08-29T23:26:39.108604800Z"
    }
   },
   "outputs": [
    {
     "name": "stdout",
     "output_type": "stream",
     "text": [
      "348/348 [==============================] - 1s 2ms/step\n",
      "[[ 8.36e+03  8.65e+03]\n",
      " [ 2.39e+02  1.84e+02]\n",
      " [ 5.39e+02  5.02e+02]\n",
      " ...\n",
      " [ 1.36e+01  4.37e+00]\n",
      " [-6.44e+01 -6.46e+01]\n",
      " [ 6.57e+01  7.16e+01]]\n"
     ]
    }
   ],
   "source": [
    "y_pred = ann.predict(X_test)\n",
    "np.set_printoptions(precision=2)\n",
    "print(np.concatenate((y_pred.reshape(len(y_pred),1), y_test.reshape(len(y_test),1)),1))"
   ]
  },
  {
   "cell_type": "code",
   "execution_count": 27,
   "metadata": {
    "ExecuteTime": {
     "end_time": "2024-08-29T23:26:40.467326800Z",
     "start_time": "2024-08-29T23:26:40.202131300Z"
    }
   },
   "outputs": [
    {
     "data": {
      "text/plain": "Text(0, 0.5, 'Predicted data')"
     },
     "execution_count": 27,
     "metadata": {},
     "output_type": "execute_result"
    },
    {
     "data": {
      "text/plain": "<Figure size 640x480 with 1 Axes>",
      "image/png": "[encoded data removed]"
     },
     "metadata": {},
     "output_type": "display_data"
    }
   ],
   "source": [
    "import matplotlib.pyplot as plt\n",
    "plt.scatter(y_test, y_pred, color=\"blue\")\n",
    "plt.xlabel ('Actual data')\n",
    "plt.ylabel ('Predicted data')"
   ]
  },
  {
   "cell_type": "code",
   "execution_count": 28,
   "metadata": {
    "ExecuteTime": {
     "end_time": "2024-08-29T23:26:41.261635400Z",
     "start_time": "2024-08-29T23:26:40.462325200Z"
    }
   },
   "outputs": [
    {
     "data": {
      "text/plain": "<Figure size 600x600 with 1 Axes>",
      "image/png": "[encoded data removed]"
     },
     "metadata": {},
     "output_type": "display_data"
    }
   ],
   "source": [
    "from sklearn.metrics import r2_score\n",
    "# Initialize layout\n",
    "fig1, ax1 = plt.subplots(figsize = (6, 6))\n",
    "\n",
    "# Set global font to Times New Roman and font size\n",
    "plt.rcParams['font.family'] = 'serif'\n",
    "plt.rcParams['font.serif'] = ['Times New Roman']\n",
    "plt.rcParams['font.size'] = 20\n",
    "\n",
    "b_l = -1000\n",
    "u_l = 25000\n",
    "\n",
    "# Add scatterplot\n",
    "ax1.scatter(y_test, y_pred, s=70, alpha=1, edgecolors=\"k\",c='mediumblue',zorder=5, label = 'Points')\n",
    "\n",
    "\n",
    "plt.ylabel('Predicted Reflected Overpressure (kPa)')\n",
    "plt.xlabel('Target Reflected Overpressure (kPa)')\n",
    "plt.xticks(fontsize = 19)\n",
    "plt.yticks(fontsize = 19)\n",
    "\n",
    "\n",
    "x1 = np.linspace(b_l, u_l)\n",
    "\n",
    "plt.plot(x1, x1, 'Red', label='45\\N{DEGREE SIGN} line',lw=2.5,alpha=1)\n",
    "#plt.plot(x1, 1.05*x1, '--m', label='\\u00B15% Error',lw=2.5,alpha=0.7)\n",
    "#plt.plot(x1, 0.95*x1,'m', linestyle='--',lw=2.5,alpha=0.7)\n",
    "#plt.plot(x1, 1.1*x1, '-.g', label='\\u00B110% Error',lw=2.5,alpha=0.7)\n",
    "#plt.plot(x1, 0.9*x1,'-.g',lw=2.5,alpha=0.7)\n",
    "#plt.plot(x1, 1.2*x1, color = '#F97306', linestyle='dotted', label='\\u00B120% Error',lw=2.5,alpha=0.7)\n",
    "#plt.plot(x1, 0.8*x1,color = '#F97306', linestyle='dotted', lw=2.5,alpha=0.7)\n",
    "\n",
    "plt.ylim(b_l, u_l)\n",
    "plt.xlim(b_l, u_l)\n",
    "plt.legend(loc='upper center', bbox_to_anchor=(0.5, -0.15), ncol=4, frameon = False, fontsize = 20)\n",
    "\n",
    "#plt.grid()\n",
    "\n",
    "ax1.spines['left'].set_color('black')        # setting up Y-axis tick color to red\n",
    "ax1.spines['bottom'].set_color('black')         #setting up above X-axis tick color to red\n",
    "\n",
    "plt.savefig('Section1_ANN5.png', dpi=200, bbox_inches='tight')"
   ]
  },
  {
   "cell_type": "code",
   "execution_count": 29,
   "metadata": {
    "ExecuteTime": {
     "end_time": "2024-08-29T23:26:44.148238400Z",
     "start_time": "2024-08-29T23:26:41.226045900Z"
    }
   },
   "outputs": [
    {
     "name": "stdout",
     "output_type": "stream",
     "text": [
      "1042/1042 [==============================] - 2s 2ms/step\n",
      "32.829280137968425\n",
      "33.39205494861715\n"
     ]
    }
   ],
   "source": [
    "# metrics\n",
    "trainpreds = ann.predict(X_train)\n",
    "\n",
    "from sklearn.metrics import mean_absolute_error\n",
    "print(mean_absolute_error(y_train, trainpreds)) # train\n",
    "print(mean_absolute_error(y_test, y_pred)) # test"
   ]
  },
  {
   "cell_type": "code",
   "execution_count": 30,
   "metadata": {
    "ExecuteTime": {
     "end_time": "2024-08-29T23:26:44.228333100Z",
     "start_time": "2024-08-29T23:26:44.152237500Z"
    }
   },
   "outputs": [
    {
     "name": "stdout",
     "output_type": "stream",
     "text": [
      "0.9955714050631925\n"
     ]
    }
   ],
   "source": [
    "from sklearn.metrics import r2_score\n",
    "r2 = r2_score(y_test, y_pred)\n",
    "print (r2)"
   ]
  },
  {
   "cell_type": "code",
   "execution_count": 31,
   "metadata": {
    "ExecuteTime": {
     "end_time": "2024-08-29T23:26:44.342539800Z",
     "start_time": "2024-08-29T23:26:44.165286800Z"
    }
   },
   "outputs": [
    {
     "name": "stdout",
     "output_type": "stream",
     "text": [
      "0.9964694199616927\n"
     ]
    }
   ],
   "source": [
    "r2_train = r2_score(y_train, trainpreds)\n",
    "print (r2_train)"
   ]
  },
  {
   "cell_type": "code",
   "execution_count": 32,
   "metadata": {
    "ExecuteTime": {
     "end_time": "2024-08-29T23:26:45.273804Z",
     "start_time": "2024-08-29T23:26:44.334034600Z"
    }
   },
   "outputs": [
    {
     "name": "stdout",
     "output_type": "stream",
     "text": [
      "Within 5% margin 28.62%\n",
      "Within 10% margin 43.12%\n",
      "Within 20% margin 51.36%\n",
      "Out of 20% margin 48.64%\n"
     ]
    }
   ],
   "source": [
    "count0 = 0\n",
    "for i in range(len(y_pred)):\n",
    "    line1 = y_pred[i] - 0.95*y_test[i]\n",
    "    line2 = y_pred[i] - 1.05*y_test[i]\n",
    "    mask0 = (line1 > 0) & (line2 < 0)\n",
    "    count0 = np.sum(mask0+count0)\n",
    "\n",
    "count1 = 0\n",
    "for i in range(len(y_pred)):\n",
    "    line1 = y_pred[i] - 0.9*y_test[i]\n",
    "    line2 = y_pred[i] - 1.1*y_test[i]\n",
    "    mask1 = (line1 > 0) & (line2 < 0)\n",
    "    count1 = np.sum(mask1+count1)\n",
    "\n",
    "count2 = 0\n",
    "for j in range(len(y_pred)):\n",
    "    line3 = y_pred[j] - 0.8*y_test[j]\n",
    "    line4 = y_pred[j] - 1.2*y_test[j]\n",
    "    mask2 = (line3 > 0) & (line4 < 0)\n",
    "    count2 = np.sum(mask2+count2)\n",
    "\n",
    "\n",
    "count3 = 0    \n",
    "for k in range(len(y_pred)):\n",
    "    line5 = y_pred[k] - 0.8*y_test[k]\n",
    "    line6 = y_pred[k] - 1.2*y_test[k]\n",
    "    mask3 = (line5 < 0) or (line6 > 0)\n",
    "    count3 = np.sum(mask3+count3)\n",
    "   \n",
    "\n",
    "print ('Within 5% margin', format((count0/len (y_pred)),'.2%'))\n",
    "print ('Within 10% margin', format((count1/len (y_pred)),'.2%'))\n",
    "print ('Within 20% margin', format((count2/len (y_pred)),'.2%'))\n",
    "print ('Out of 20% margin', format((count3/len (y_pred)),'.2%'))"
   ]
  },
  {
   "cell_type": "code",
   "execution_count": 33,
   "metadata": {
    "ExecuteTime": {
     "end_time": "2024-08-29T23:26:45.274803800Z",
     "start_time": "2024-08-29T23:26:45.252809900Z"
    }
   },
   "outputs": [
    {
     "name": "stdout",
     "output_type": "stream",
     "text": [
      "0.9955690123059101\n"
     ]
    }
   ],
   "source": [
    "adj_r2 = 1 - ((1 - r2) * (len(X_test) - 1) / (len(X_test) - len (X_test[0]) - 1))\n",
    "print (adj_r2)"
   ]
  },
  {
   "cell_type": "code",
   "execution_count": 34,
   "metadata": {
    "ExecuteTime": {
     "end_time": "2024-08-29T23:26:45.436243100Z",
     "start_time": "2024-08-29T23:26:45.268806Z"
    }
   },
   "outputs": [
    {
     "data": {
      "text/plain": "127.03200571753915"
     },
     "execution_count": 34,
     "metadata": {},
     "output_type": "execute_result"
    }
   ],
   "source": [
    "import math\n",
    "from sklearn.metrics import mean_squared_error\n",
    "\n",
    "math.sqrt(mean_squared_error(y_test, y_pred))"
   ]
  },
  {
   "cell_type": "code",
   "execution_count": 35,
   "metadata": {
    "ExecuteTime": {
     "end_time": "2024-08-29T23:26:45.602050500Z",
     "start_time": "2024-08-29T23:26:45.409234800Z"
    }
   },
   "outputs": [
    {
     "data": {
      "text/plain": "33.39205494861715"
     },
     "execution_count": 35,
     "metadata": {},
     "output_type": "execute_result"
    }
   ],
   "source": [
    "from sklearn.metrics import mean_absolute_error\n",
    "\n",
    "mean_absolute_error(y_test, y_pred)"
   ]
  }
 ],
 "metadata": {
  "colab": {
   "collapsed_sections": [],
   "name": "Artificial Neural Network",
   "provenance": [],
   "toc_visible": true
  },
  "kernelspec": {
   "display_name": "Python 3 (ipykernel)",
   "language": "python",
   "name": "python3"
  },
  "language_info": {
   "codemirror_mode": {
    "name": "ipython",
    "version": 3
   },
   "file_extension": ".py",
   "mimetype": "text/x-python",
   "name": "python",
   "nbconvert_exporter": "python",
   "pygments_lexer": "ipython3",
   "version": "3.9.7"
  }
 },
 "nbformat": 4,
 "nbformat_minor": 4
}
