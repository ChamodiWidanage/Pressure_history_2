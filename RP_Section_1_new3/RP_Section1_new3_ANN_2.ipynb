{
 "cells": [
  {
   "cell_type": "markdown",
   "metadata": {
    "colab_type": "text",
    "id": "3cbb7fRy-eyr"
   },
   "source": [
    "# Artificial Neural Network"
   ]
  },
  {
   "cell_type": "markdown",
   "source": [
    "## Part 1 - Importing the libraries"
   ],
   "metadata": {
    "collapsed": false
   }
  },
  {
   "cell_type": "code",
   "execution_count": 1,
   "metadata": {
    "colab": {},
    "colab_type": "code",
    "id": "lxChR1Rk-umf",
    "ExecuteTime": {
     "end_time": "2024-08-21T02:06:25.379502600Z",
     "start_time": "2024-08-21T02:06:18.835949400Z"
    }
   },
   "outputs": [],
   "source": [
    "import numpy as np\n",
    "import pandas as pd\n",
    "import tensorflow as tf\n",
    "import matplotlib.pyplot as plt\n",
    "from keras.models import load_model\n",
    "from pathlib import Path\n",
    "import pickle"
   ]
  },
  {
   "cell_type": "markdown",
   "metadata": {
    "colab_type": "text",
    "id": "AG3FQEch-yuA"
   },
   "source": [
    "## Part 2 - Data Preprocessing"
   ]
  },
  {
   "cell_type": "code",
   "execution_count": 2,
   "metadata": {
    "ExecuteTime": {
     "end_time": "2024-08-21T02:06:25.398528200Z",
     "start_time": "2024-08-21T02:06:25.383506200Z"
    }
   },
   "outputs": [
    {
     "name": "stdout",
     "output_type": "stream",
     "text": [
      "input G:\\Chamodi\\LSDYNA3D\\RP_TH_models\\RP_Section_1_new3\n",
      "2 [WindowsPath('G:/Chamodi/LSDYNA3D/RP_TH_models/RP_Section_1_new3/1.50m'), WindowsPath('G:/Chamodi/LSDYNA3D/RP_TH_models/RP_Section_1_new3/1.75m'), WindowsPath('G:/Chamodi/LSDYNA3D/RP_TH_models/RP_Section_1_new3/2.00m'), WindowsPath('G:/Chamodi/LSDYNA3D/RP_TH_models/RP_Section_1_new3/2.25m'), WindowsPath('G:/Chamodi/LSDYNA3D/RP_TH_models/RP_Section_1_new3/2.50m'), WindowsPath('G:/Chamodi/LSDYNA3D/RP_TH_models/RP_Section_1_new3/2.75m'), WindowsPath('G:/Chamodi/LSDYNA3D/RP_TH_models/RP_Section_1_new3/3.00m')]\n"
     ]
    }
   ],
   "source": [
    "#Access input folder\n",
    "current_dir = Path.cwd()\n",
    "input_dir1 = Path (\"G:/Chamodi/LSDYNA3D/RP_TH_models/RP_Section_1_new3\")\n",
    "print (\"input\",input_dir1)\n",
    "\n",
    "#Access folders inside input folder\n",
    "input_dir2=  [folder1 for folder1 in input_dir1.iterdir() if folder1.is_dir()] # folder1 - RP_curves_fr7m\n",
    "print (\"2\",input_dir2)"
   ]
  },
  {
   "cell_type": "code",
   "execution_count": 3,
   "metadata": {
    "ExecuteTime": {
     "end_time": "2024-08-21T02:06:40.200752200Z",
     "start_time": "2024-08-21T02:06:25.396521300Z"
    }
   },
   "outputs": [
    {
     "name": "stdout",
     "output_type": "stream",
     "text": [
      "folder G:\\Chamodi\\LSDYNA3D\\RP_TH_models\\RP_Section_1_new3\\1.50m\\1.50m00.5kg\n",
      "1\n",
      "2\n",
      "3\n",
      "4\n",
      "folder G:\\Chamodi\\LSDYNA3D\\RP_TH_models\\RP_Section_1_new3\\1.50m\\1.50m02.5kg\n",
      "1\n",
      "2\n",
      "3\n",
      "4\n",
      "folder G:\\Chamodi\\LSDYNA3D\\RP_TH_models\\RP_Section_1_new3\\1.50m\\1.50m04.5kg\n",
      "1\n",
      "2\n",
      "3\n",
      "4\n",
      "folder G:\\Chamodi\\LSDYNA3D\\RP_TH_models\\RP_Section_1_new3\\1.50m\\1.50m06.5kg\n",
      "1\n",
      "2\n",
      "3\n",
      "4\n",
      "folder G:\\Chamodi\\LSDYNA3D\\RP_TH_models\\RP_Section_1_new3\\1.50m\\1.50m08.5kg\n",
      "1\n",
      "2\n",
      "3\n",
      "4\n",
      "folder G:\\Chamodi\\LSDYNA3D\\RP_TH_models\\RP_Section_1_new3\\1.50m\\1.50m10.5kg\n",
      "1\n",
      "2\n",
      "3\n",
      "4\n",
      "folder G:\\Chamodi\\LSDYNA3D\\RP_TH_models\\RP_Section_1_new3\\1.50m\\1.50m12.5kg\n",
      "1\n",
      "2\n",
      "3\n",
      "4\n",
      "folder G:\\Chamodi\\LSDYNA3D\\RP_TH_models\\RP_Section_1_new3\\1.50m\\1.50m14.5kg\n",
      "1\n",
      "2\n",
      "3\n",
      "4\n",
      "folder G:\\Chamodi\\LSDYNA3D\\RP_TH_models\\RP_Section_1_new3\\1.50m\\1.50m16.5kg\n",
      "1\n",
      "2\n",
      "3\n",
      "4\n",
      "folder G:\\Chamodi\\LSDYNA3D\\RP_TH_models\\RP_Section_1_new3\\1.50m\\1.50m18.5kg\n",
      "1\n",
      "2\n",
      "3\n",
      "4\n",
      "folder G:\\Chamodi\\LSDYNA3D\\RP_TH_models\\RP_Section_1_new3\\1.50m\\1.50m20.5kg\n",
      "1\n",
      "2\n",
      "3\n",
      "4\n",
      "folder G:\\Chamodi\\LSDYNA3D\\RP_TH_models\\RP_Section_1_new3\\1.50m\\1.50m22.5kg\n",
      "1\n",
      "2\n",
      "3\n",
      "4\n",
      "folder G:\\Chamodi\\LSDYNA3D\\RP_TH_models\\RP_Section_1_new3\\1.50m\\1.50m24.5kg\n",
      "1\n",
      "2\n",
      "3\n",
      "4\n",
      "folder G:\\Chamodi\\LSDYNA3D\\RP_TH_models\\RP_Section_1_new3\\1.50m\\1.50m26.5kg\n",
      "1\n",
      "2\n",
      "3\n",
      "4\n",
      "folder G:\\Chamodi\\LSDYNA3D\\RP_TH_models\\RP_Section_1_new3\\1.50m\\1.50m28.5kg\n",
      "1\n",
      "2\n",
      "3\n",
      "4\n",
      "folder G:\\Chamodi\\LSDYNA3D\\RP_TH_models\\RP_Section_1_new3\\1.50m\\1.50m30.5kg\n",
      "1\n",
      "2\n",
      "3\n",
      "4\n",
      "folder G:\\Chamodi\\LSDYNA3D\\RP_TH_models\\RP_Section_1_new3\\1.50m\\1.50m32.5kg\n",
      "1\n",
      "2\n",
      "3\n",
      "4\n",
      "folder G:\\Chamodi\\LSDYNA3D\\RP_TH_models\\RP_Section_1_new3\\1.50m\\1.50m34.5kg\n",
      "1\n",
      "2\n",
      "3\n",
      "4\n",
      "folder G:\\Chamodi\\LSDYNA3D\\RP_TH_models\\RP_Section_1_new3\\1.50m\\1.50m35.0kg\n",
      "1\n",
      "2\n",
      "3\n",
      "4\n",
      "folder G:\\Chamodi\\LSDYNA3D\\RP_TH_models\\RP_Section_1_new3\\1.75m\\1.75m00.5kg\n",
      "1\n",
      "2\n",
      "3\n",
      "4\n",
      "folder G:\\Chamodi\\LSDYNA3D\\RP_TH_models\\RP_Section_1_new3\\1.75m\\1.75m02.5kg\n",
      "1\n",
      "2\n",
      "3\n",
      "4\n",
      "folder G:\\Chamodi\\LSDYNA3D\\RP_TH_models\\RP_Section_1_new3\\1.75m\\1.75m04.5kg\n",
      "1\n",
      "2\n",
      "3\n",
      "4\n",
      "folder G:\\Chamodi\\LSDYNA3D\\RP_TH_models\\RP_Section_1_new3\\1.75m\\1.75m06.5kg\n",
      "1\n",
      "2\n",
      "3\n",
      "4\n",
      "folder G:\\Chamodi\\LSDYNA3D\\RP_TH_models\\RP_Section_1_new3\\1.75m\\1.75m08.5kg\n",
      "1\n",
      "2\n",
      "3\n",
      "4\n",
      "folder G:\\Chamodi\\LSDYNA3D\\RP_TH_models\\RP_Section_1_new3\\1.75m\\1.75m10.5kg\n",
      "1\n",
      "2\n",
      "3\n",
      "4\n",
      "folder G:\\Chamodi\\LSDYNA3D\\RP_TH_models\\RP_Section_1_new3\\1.75m\\1.75m12.5kg\n",
      "1\n",
      "2\n",
      "3\n",
      "4\n",
      "folder G:\\Chamodi\\LSDYNA3D\\RP_TH_models\\RP_Section_1_new3\\1.75m\\1.75m14.5kg\n",
      "1\n",
      "2\n",
      "3\n",
      "4\n",
      "folder G:\\Chamodi\\LSDYNA3D\\RP_TH_models\\RP_Section_1_new3\\1.75m\\1.75m16.5kg\n",
      "1\n",
      "2\n",
      "3\n",
      "4\n",
      "folder G:\\Chamodi\\LSDYNA3D\\RP_TH_models\\RP_Section_1_new3\\1.75m\\1.75m18.5kg\n",
      "1\n",
      "2\n",
      "3\n",
      "4\n",
      "folder G:\\Chamodi\\LSDYNA3D\\RP_TH_models\\RP_Section_1_new3\\1.75m\\1.75m20.5kg\n",
      "1\n",
      "2\n",
      "3\n",
      "4\n",
      "folder G:\\Chamodi\\LSDYNA3D\\RP_TH_models\\RP_Section_1_new3\\1.75m\\1.75m22.5kg\n",
      "1\n",
      "2\n",
      "3\n",
      "4\n",
      "folder G:\\Chamodi\\LSDYNA3D\\RP_TH_models\\RP_Section_1_new3\\1.75m\\1.75m24.5kg\n",
      "1\n",
      "2\n",
      "3\n",
      "4\n",
      "folder G:\\Chamodi\\LSDYNA3D\\RP_TH_models\\RP_Section_1_new3\\1.75m\\1.75m26.5kg\n",
      "1\n",
      "2\n",
      "3\n",
      "4\n",
      "folder G:\\Chamodi\\LSDYNA3D\\RP_TH_models\\RP_Section_1_new3\\1.75m\\1.75m28.5kg\n",
      "1\n",
      "2\n",
      "3\n",
      "4\n",
      "folder G:\\Chamodi\\LSDYNA3D\\RP_TH_models\\RP_Section_1_new3\\1.75m\\1.75m30.5kg\n",
      "1\n",
      "2\n",
      "3\n",
      "4\n",
      "folder G:\\Chamodi\\LSDYNA3D\\RP_TH_models\\RP_Section_1_new3\\1.75m\\1.75m32.5kg\n",
      "1\n",
      "2\n",
      "3\n",
      "4\n",
      "folder G:\\Chamodi\\LSDYNA3D\\RP_TH_models\\RP_Section_1_new3\\1.75m\\1.75m34.5kg\n",
      "1\n",
      "2\n",
      "3\n",
      "4\n",
      "folder G:\\Chamodi\\LSDYNA3D\\RP_TH_models\\RP_Section_1_new3\\1.75m\\1.75m35.0kg\n",
      "1\n",
      "2\n",
      "3\n",
      "4\n",
      "folder G:\\Chamodi\\LSDYNA3D\\RP_TH_models\\RP_Section_1_new3\\2.00m\\2.00m00.5kg\n",
      "1\n",
      "2\n",
      "3\n",
      "4\n",
      "folder G:\\Chamodi\\LSDYNA3D\\RP_TH_models\\RP_Section_1_new3\\2.00m\\2.00m02.5kg\n",
      "1\n",
      "2\n",
      "3\n",
      "4\n",
      "folder G:\\Chamodi\\LSDYNA3D\\RP_TH_models\\RP_Section_1_new3\\2.00m\\2.00m04.5kg\n",
      "1\n",
      "2\n",
      "3\n",
      "4\n",
      "folder G:\\Chamodi\\LSDYNA3D\\RP_TH_models\\RP_Section_1_new3\\2.00m\\2.00m06.5kg\n",
      "1\n",
      "2\n",
      "3\n",
      "4\n",
      "folder G:\\Chamodi\\LSDYNA3D\\RP_TH_models\\RP_Section_1_new3\\2.00m\\2.00m08.5kg\n",
      "1\n",
      "2\n",
      "3\n",
      "4\n",
      "folder G:\\Chamodi\\LSDYNA3D\\RP_TH_models\\RP_Section_1_new3\\2.00m\\2.00m10.5kg\n",
      "1\n",
      "2\n",
      "3\n",
      "4\n",
      "folder G:\\Chamodi\\LSDYNA3D\\RP_TH_models\\RP_Section_1_new3\\2.00m\\2.00m12.5kg\n",
      "1\n",
      "2\n",
      "3\n",
      "4\n",
      "folder G:\\Chamodi\\LSDYNA3D\\RP_TH_models\\RP_Section_1_new3\\2.00m\\2.00m14.5kg\n",
      "1\n",
      "2\n",
      "3\n",
      "4\n",
      "folder G:\\Chamodi\\LSDYNA3D\\RP_TH_models\\RP_Section_1_new3\\2.00m\\2.00m16.5kg\n",
      "1\n",
      "2\n",
      "3\n",
      "4\n",
      "folder G:\\Chamodi\\LSDYNA3D\\RP_TH_models\\RP_Section_1_new3\\2.00m\\2.00m18.5kg\n",
      "1\n",
      "2\n",
      "3\n",
      "4\n",
      "folder G:\\Chamodi\\LSDYNA3D\\RP_TH_models\\RP_Section_1_new3\\2.00m\\2.00m20.5kg\n",
      "1\n",
      "2\n",
      "3\n",
      "4\n",
      "folder G:\\Chamodi\\LSDYNA3D\\RP_TH_models\\RP_Section_1_new3\\2.00m\\2.00m22.5kg\n",
      "1\n",
      "2\n",
      "3\n",
      "4\n",
      "folder G:\\Chamodi\\LSDYNA3D\\RP_TH_models\\RP_Section_1_new3\\2.00m\\2.00m24.5kg\n",
      "1\n",
      "2\n",
      "3\n",
      "4\n",
      "folder G:\\Chamodi\\LSDYNA3D\\RP_TH_models\\RP_Section_1_new3\\2.00m\\2.00m26.5kg\n",
      "1\n",
      "2\n",
      "3\n",
      "4\n",
      "folder G:\\Chamodi\\LSDYNA3D\\RP_TH_models\\RP_Section_1_new3\\2.00m\\2.00m28.5kg\n",
      "1\n",
      "2\n",
      "3\n",
      "4\n",
      "folder G:\\Chamodi\\LSDYNA3D\\RP_TH_models\\RP_Section_1_new3\\2.00m\\2.00m30.5kg\n",
      "1\n",
      "2\n",
      "3\n",
      "4\n",
      "folder G:\\Chamodi\\LSDYNA3D\\RP_TH_models\\RP_Section_1_new3\\2.00m\\2.00m32.5kg\n",
      "1\n",
      "2\n",
      "3\n",
      "4\n",
      "folder G:\\Chamodi\\LSDYNA3D\\RP_TH_models\\RP_Section_1_new3\\2.00m\\2.00m34.5kg\n",
      "1\n",
      "2\n",
      "3\n",
      "4\n",
      "folder G:\\Chamodi\\LSDYNA3D\\RP_TH_models\\RP_Section_1_new3\\2.00m\\2.00m35.0kg\n",
      "1\n",
      "2\n",
      "3\n",
      "4\n",
      "folder G:\\Chamodi\\LSDYNA3D\\RP_TH_models\\RP_Section_1_new3\\2.25m\\2.25m00.5kg\n",
      "1\n",
      "2\n",
      "3\n",
      "4\n",
      "folder G:\\Chamodi\\LSDYNA3D\\RP_TH_models\\RP_Section_1_new3\\2.25m\\2.25m02.5kg\n",
      "1\n",
      "2\n",
      "3\n",
      "4\n",
      "folder G:\\Chamodi\\LSDYNA3D\\RP_TH_models\\RP_Section_1_new3\\2.25m\\2.25m04.5kg\n",
      "1\n",
      "2\n",
      "3\n",
      "4\n",
      "folder G:\\Chamodi\\LSDYNA3D\\RP_TH_models\\RP_Section_1_new3\\2.25m\\2.25m06.5kg\n",
      "1\n",
      "2\n",
      "3\n",
      "4\n",
      "folder G:\\Chamodi\\LSDYNA3D\\RP_TH_models\\RP_Section_1_new3\\2.25m\\2.25m08.5kg\n",
      "1\n",
      "2\n",
      "3\n",
      "4\n",
      "folder G:\\Chamodi\\LSDYNA3D\\RP_TH_models\\RP_Section_1_new3\\2.25m\\2.25m10.5kg\n",
      "1\n",
      "2\n",
      "3\n",
      "4\n",
      "folder G:\\Chamodi\\LSDYNA3D\\RP_TH_models\\RP_Section_1_new3\\2.25m\\2.25m12.5kg\n",
      "1\n",
      "2\n",
      "3\n",
      "4\n",
      "folder G:\\Chamodi\\LSDYNA3D\\RP_TH_models\\RP_Section_1_new3\\2.25m\\2.25m14.5kg\n",
      "1\n",
      "2\n",
      "3\n",
      "4\n",
      "folder G:\\Chamodi\\LSDYNA3D\\RP_TH_models\\RP_Section_1_new3\\2.25m\\2.25m16.5kg\n",
      "1\n",
      "2\n",
      "3\n",
      "4\n",
      "folder G:\\Chamodi\\LSDYNA3D\\RP_TH_models\\RP_Section_1_new3\\2.25m\\2.25m18.5kg\n",
      "1\n",
      "2\n",
      "3\n",
      "4\n",
      "folder G:\\Chamodi\\LSDYNA3D\\RP_TH_models\\RP_Section_1_new3\\2.25m\\2.25m20.5kg\n",
      "1\n",
      "2\n",
      "3\n",
      "4\n",
      "folder G:\\Chamodi\\LSDYNA3D\\RP_TH_models\\RP_Section_1_new3\\2.25m\\2.25m22.5kg\n",
      "1\n",
      "2\n",
      "3\n",
      "4\n",
      "folder G:\\Chamodi\\LSDYNA3D\\RP_TH_models\\RP_Section_1_new3\\2.25m\\2.25m24.5kg\n",
      "1\n",
      "2\n",
      "3\n",
      "4\n",
      "folder G:\\Chamodi\\LSDYNA3D\\RP_TH_models\\RP_Section_1_new3\\2.25m\\2.25m26.5kg\n",
      "1\n",
      "2\n",
      "3\n",
      "4\n",
      "folder G:\\Chamodi\\LSDYNA3D\\RP_TH_models\\RP_Section_1_new3\\2.25m\\2.25m28.5kg\n",
      "1\n",
      "2\n",
      "3\n",
      "4\n",
      "folder G:\\Chamodi\\LSDYNA3D\\RP_TH_models\\RP_Section_1_new3\\2.25m\\2.25m30.5kg\n",
      "1\n",
      "2\n",
      "3\n",
      "4\n",
      "folder G:\\Chamodi\\LSDYNA3D\\RP_TH_models\\RP_Section_1_new3\\2.25m\\2.25m32.5kg\n",
      "1\n",
      "2\n",
      "3\n",
      "4\n",
      "folder G:\\Chamodi\\LSDYNA3D\\RP_TH_models\\RP_Section_1_new3\\2.25m\\2.25m34.5kg\n",
      "1\n",
      "2\n",
      "3\n",
      "4\n",
      "folder G:\\Chamodi\\LSDYNA3D\\RP_TH_models\\RP_Section_1_new3\\2.25m\\2.25m35.0kg\n",
      "1\n",
      "2\n",
      "3\n",
      "4\n",
      "folder G:\\Chamodi\\LSDYNA3D\\RP_TH_models\\RP_Section_1_new3\\2.50m\\2.50m00.5kg\n",
      "1\n",
      "2\n",
      "3\n",
      "4\n",
      "folder G:\\Chamodi\\LSDYNA3D\\RP_TH_models\\RP_Section_1_new3\\2.50m\\2.50m02.5kg\n",
      "1\n",
      "2\n",
      "3\n",
      "4\n",
      "folder G:\\Chamodi\\LSDYNA3D\\RP_TH_models\\RP_Section_1_new3\\2.50m\\2.50m04.5kg\n",
      "1\n",
      "2\n",
      "3\n",
      "4\n",
      "folder G:\\Chamodi\\LSDYNA3D\\RP_TH_models\\RP_Section_1_new3\\2.50m\\2.50m06.5kg\n",
      "1\n",
      "2\n",
      "3\n",
      "4\n",
      "folder G:\\Chamodi\\LSDYNA3D\\RP_TH_models\\RP_Section_1_new3\\2.50m\\2.50m08.5kg\n",
      "1\n",
      "2\n",
      "3\n",
      "4\n",
      "folder G:\\Chamodi\\LSDYNA3D\\RP_TH_models\\RP_Section_1_new3\\2.50m\\2.50m10.5kg\n",
      "1\n",
      "2\n",
      "3\n",
      "4\n",
      "folder G:\\Chamodi\\LSDYNA3D\\RP_TH_models\\RP_Section_1_new3\\2.50m\\2.50m12.5kg\n",
      "1\n",
      "2\n",
      "3\n",
      "4\n",
      "folder G:\\Chamodi\\LSDYNA3D\\RP_TH_models\\RP_Section_1_new3\\2.50m\\2.50m14.5kg\n",
      "1\n",
      "2\n",
      "3\n",
      "4\n",
      "folder G:\\Chamodi\\LSDYNA3D\\RP_TH_models\\RP_Section_1_new3\\2.50m\\2.50m16.5kg\n",
      "1\n",
      "2\n",
      "3\n",
      "4\n",
      "folder G:\\Chamodi\\LSDYNA3D\\RP_TH_models\\RP_Section_1_new3\\2.50m\\2.50m18.5kg\n",
      "1\n",
      "2\n",
      "3\n",
      "4\n",
      "folder G:\\Chamodi\\LSDYNA3D\\RP_TH_models\\RP_Section_1_new3\\2.50m\\2.50m20.5kg\n",
      "1\n",
      "2\n",
      "3\n",
      "4\n",
      "folder G:\\Chamodi\\LSDYNA3D\\RP_TH_models\\RP_Section_1_new3\\2.50m\\2.50m22.5kg\n",
      "1\n",
      "2\n",
      "3\n",
      "4\n",
      "folder G:\\Chamodi\\LSDYNA3D\\RP_TH_models\\RP_Section_1_new3\\2.50m\\2.50m24.5kg\n",
      "1\n",
      "2\n",
      "3\n",
      "4\n",
      "folder G:\\Chamodi\\LSDYNA3D\\RP_TH_models\\RP_Section_1_new3\\2.50m\\2.50m26.5kg\n",
      "1\n",
      "2\n",
      "3\n",
      "4\n",
      "folder G:\\Chamodi\\LSDYNA3D\\RP_TH_models\\RP_Section_1_new3\\2.50m\\2.50m28.5kg\n",
      "1\n",
      "2\n",
      "3\n",
      "4\n",
      "folder G:\\Chamodi\\LSDYNA3D\\RP_TH_models\\RP_Section_1_new3\\2.50m\\2.50m30.5kg\n",
      "1\n",
      "2\n",
      "3\n",
      "4\n",
      "folder G:\\Chamodi\\LSDYNA3D\\RP_TH_models\\RP_Section_1_new3\\2.50m\\2.50m32.5kg\n",
      "1\n",
      "2\n",
      "3\n",
      "4\n",
      "folder G:\\Chamodi\\LSDYNA3D\\RP_TH_models\\RP_Section_1_new3\\2.50m\\2.50m34.5kg\n",
      "1\n",
      "2\n",
      "3\n",
      "4\n",
      "folder G:\\Chamodi\\LSDYNA3D\\RP_TH_models\\RP_Section_1_new3\\2.50m\\2.50m35.0kg\n",
      "1\n",
      "2\n",
      "3\n",
      "4\n",
      "folder G:\\Chamodi\\LSDYNA3D\\RP_TH_models\\RP_Section_1_new3\\2.75m\\2.75m00.5kg\n",
      "1\n",
      "2\n",
      "3\n",
      "4\n",
      "folder G:\\Chamodi\\LSDYNA3D\\RP_TH_models\\RP_Section_1_new3\\2.75m\\2.75m02.5kg\n",
      "1\n",
      "2\n",
      "3\n",
      "4\n",
      "folder G:\\Chamodi\\LSDYNA3D\\RP_TH_models\\RP_Section_1_new3\\2.75m\\2.75m04.5kg\n",
      "1\n",
      "2\n",
      "3\n",
      "4\n",
      "folder G:\\Chamodi\\LSDYNA3D\\RP_TH_models\\RP_Section_1_new3\\2.75m\\2.75m06.5kg\n",
      "1\n",
      "2\n",
      "3\n",
      "4\n",
      "folder G:\\Chamodi\\LSDYNA3D\\RP_TH_models\\RP_Section_1_new3\\2.75m\\2.75m08.5kg\n",
      "1\n",
      "2\n",
      "3\n",
      "4\n",
      "folder G:\\Chamodi\\LSDYNA3D\\RP_TH_models\\RP_Section_1_new3\\2.75m\\2.75m10.5kg\n",
      "1\n",
      "2\n",
      "3\n",
      "4\n",
      "folder G:\\Chamodi\\LSDYNA3D\\RP_TH_models\\RP_Section_1_new3\\2.75m\\2.75m12.5kg\n",
      "1\n",
      "2\n",
      "3\n",
      "4\n",
      "folder G:\\Chamodi\\LSDYNA3D\\RP_TH_models\\RP_Section_1_new3\\2.75m\\2.75m14.5kg\n",
      "1\n",
      "2\n",
      "3\n",
      "4\n",
      "folder G:\\Chamodi\\LSDYNA3D\\RP_TH_models\\RP_Section_1_new3\\2.75m\\2.75m16.5kg\n",
      "1\n",
      "2\n",
      "3\n",
      "4\n",
      "folder G:\\Chamodi\\LSDYNA3D\\RP_TH_models\\RP_Section_1_new3\\2.75m\\2.75m18.5kg\n",
      "1\n",
      "2\n",
      "3\n",
      "4\n",
      "folder G:\\Chamodi\\LSDYNA3D\\RP_TH_models\\RP_Section_1_new3\\2.75m\\2.75m20.5kg\n",
      "1\n",
      "2\n",
      "3\n",
      "4\n",
      "folder G:\\Chamodi\\LSDYNA3D\\RP_TH_models\\RP_Section_1_new3\\2.75m\\2.75m22.5kg\n",
      "1\n",
      "2\n",
      "3\n",
      "4\n",
      "folder G:\\Chamodi\\LSDYNA3D\\RP_TH_models\\RP_Section_1_new3\\2.75m\\2.75m24.5kg\n",
      "1\n",
      "2\n",
      "3\n",
      "4\n",
      "folder G:\\Chamodi\\LSDYNA3D\\RP_TH_models\\RP_Section_1_new3\\2.75m\\2.75m26.5kg\n",
      "1\n",
      "2\n",
      "3\n",
      "4\n",
      "folder G:\\Chamodi\\LSDYNA3D\\RP_TH_models\\RP_Section_1_new3\\2.75m\\2.75m28.5kg\n",
      "1\n",
      "2\n",
      "3\n",
      "4\n",
      "folder G:\\Chamodi\\LSDYNA3D\\RP_TH_models\\RP_Section_1_new3\\2.75m\\2.75m30.5kg\n",
      "1\n",
      "2\n",
      "3\n",
      "4\n",
      "folder G:\\Chamodi\\LSDYNA3D\\RP_TH_models\\RP_Section_1_new3\\2.75m\\2.75m32.5kg\n",
      "1\n",
      "2\n",
      "3\n",
      "4\n",
      "folder G:\\Chamodi\\LSDYNA3D\\RP_TH_models\\RP_Section_1_new3\\2.75m\\2.75m34.5kg\n",
      "1\n",
      "2\n",
      "3\n",
      "4\n",
      "folder G:\\Chamodi\\LSDYNA3D\\RP_TH_models\\RP_Section_1_new3\\2.75m\\2.75m35.0kg\n",
      "1\n",
      "2\n",
      "3\n",
      "4\n",
      "folder G:\\Chamodi\\LSDYNA3D\\RP_TH_models\\RP_Section_1_new3\\3.00m\\3.00m00.5kg\n",
      "1\n",
      "2\n",
      "3\n",
      "4\n",
      "folder G:\\Chamodi\\LSDYNA3D\\RP_TH_models\\RP_Section_1_new3\\3.00m\\3.00m02.5kg\n",
      "1\n",
      "2\n",
      "3\n",
      "4\n",
      "folder G:\\Chamodi\\LSDYNA3D\\RP_TH_models\\RP_Section_1_new3\\3.00m\\3.00m04.5kg\n",
      "1\n",
      "2\n",
      "3\n",
      "4\n",
      "folder G:\\Chamodi\\LSDYNA3D\\RP_TH_models\\RP_Section_1_new3\\3.00m\\3.00m06.5kg\n",
      "1\n",
      "2\n",
      "3\n",
      "4\n",
      "folder G:\\Chamodi\\LSDYNA3D\\RP_TH_models\\RP_Section_1_new3\\3.00m\\3.00m08.5kg\n",
      "1\n",
      "2\n",
      "3\n",
      "4\n",
      "folder G:\\Chamodi\\LSDYNA3D\\RP_TH_models\\RP_Section_1_new3\\3.00m\\3.00m10.5kg\n",
      "1\n",
      "2\n",
      "3\n",
      "4\n",
      "folder G:\\Chamodi\\LSDYNA3D\\RP_TH_models\\RP_Section_1_new3\\3.00m\\3.00m12.5kg\n",
      "1\n",
      "2\n",
      "3\n",
      "4\n",
      "folder G:\\Chamodi\\LSDYNA3D\\RP_TH_models\\RP_Section_1_new3\\3.00m\\3.00m14.5kg\n",
      "1\n",
      "2\n",
      "3\n",
      "4\n",
      "folder G:\\Chamodi\\LSDYNA3D\\RP_TH_models\\RP_Section_1_new3\\3.00m\\3.00m16.5kg\n",
      "1\n",
      "2\n",
      "3\n",
      "4\n",
      "folder G:\\Chamodi\\LSDYNA3D\\RP_TH_models\\RP_Section_1_new3\\3.00m\\3.00m18.5kg\n",
      "1\n",
      "2\n",
      "3\n",
      "4\n",
      "folder G:\\Chamodi\\LSDYNA3D\\RP_TH_models\\RP_Section_1_new3\\3.00m\\3.00m20.5kg\n",
      "1\n",
      "2\n",
      "3\n",
      "4\n",
      "folder G:\\Chamodi\\LSDYNA3D\\RP_TH_models\\RP_Section_1_new3\\3.00m\\3.00m22.5kg\n",
      "1\n",
      "2\n",
      "3\n",
      "4\n",
      "folder G:\\Chamodi\\LSDYNA3D\\RP_TH_models\\RP_Section_1_new3\\3.00m\\3.00m24.5kg\n",
      "1\n",
      "2\n",
      "3\n",
      "4\n",
      "folder G:\\Chamodi\\LSDYNA3D\\RP_TH_models\\RP_Section_1_new3\\3.00m\\3.00m26.5kg\n",
      "1\n",
      "2\n",
      "3\n",
      "4\n",
      "folder G:\\Chamodi\\LSDYNA3D\\RP_TH_models\\RP_Section_1_new3\\3.00m\\3.00m28.5kg\n",
      "1\n",
      "2\n",
      "3\n",
      "4\n",
      "folder G:\\Chamodi\\LSDYNA3D\\RP_TH_models\\RP_Section_1_new3\\3.00m\\3.00m30.5kg\n",
      "1\n",
      "2\n",
      "3\n",
      "4\n",
      "folder G:\\Chamodi\\LSDYNA3D\\RP_TH_models\\RP_Section_1_new3\\3.00m\\3.00m32.5kg\n",
      "1\n",
      "2\n",
      "3\n",
      "4\n",
      "folder G:\\Chamodi\\LSDYNA3D\\RP_TH_models\\RP_Section_1_new3\\3.00m\\3.00m34.5kg\n",
      "1\n",
      "2\n",
      "3\n",
      "4\n",
      "folder G:\\Chamodi\\LSDYNA3D\\RP_TH_models\\RP_Section_1_new3\\3.00m\\3.00m35.0kg\n",
      "1\n",
      "2\n",
      "3\n",
      "4\n"
     ]
    }
   ],
   "source": [
    "#dataset = pd.DataFrame(columns = ['Charge_mass', 'Standoff_distance', 'Time', 'Pressure', 'Phase'])\n",
    "df_list = []\n",
    "\n",
    "for folder1 in input_dir2:\n",
    "    \n",
    "    input_dir3 =  [folder2 for folder2 in folder1.iterdir() if folder2.is_dir()] # folder2 - 07m00.5kg\n",
    "    \n",
    "    for folder2 in input_dir3:\n",
    "        \n",
    "        print ('folder', folder2)\n",
    "        files1 = [file1 for file1 in folder2.rglob(\"*.xlsx\")]\n",
    "    \n",
    "        for file1 in files1:\n",
    "            df_list.append(pd.read_excel(file1))\n",
    "            print (file1.stem)\n",
    "    \n",
    "dataset = pd.concat(df_list, ignore_index = True)"
   ]
  },
  {
   "cell_type": "code",
   "execution_count": 4,
   "metadata": {
    "colab": {},
    "colab_type": "code",
    "id": "B9CV13Co_HHM",
    "ExecuteTime": {
     "end_time": "2024-08-21T02:06:40.236806600Z",
     "start_time": "2024-08-21T02:06:40.204773800Z"
    }
   },
   "outputs": [
    {
     "name": "stdout",
     "output_type": "stream",
     "text": [
      "<class 'pandas.core.frame.DataFrame'>\n",
      "RangeIndex: 55559 entries, 0 to 55558\n",
      "Data columns (total 6 columns):\n",
      " #   Column             Non-Null Count  Dtype  \n",
      "---  ------             --------------  -----  \n",
      " 0   Mass               55559 non-null  float64\n",
      " 1   Standoff distance  55559 non-null  float64\n",
      " 2   Angle              55559 non-null  int64  \n",
      " 3   Time               55559 non-null  float64\n",
      " 4   Phase              55559 non-null  object \n",
      " 5   Pressure           55559 non-null  float64\n",
      "dtypes: float64(4), int64(1), object(1)\n",
      "memory usage: 2.5+ MB\n"
     ]
    }
   ],
   "source": [
    "dataset.info()"
   ]
  },
  {
   "cell_type": "code",
   "execution_count": 5,
   "outputs": [
    {
     "name": "stdout",
     "output_type": "stream",
     "text": [
      "<class 'pandas.core.frame.DataFrame'>\n",
      "RangeIndex: 55559 entries, 0 to 55558\n",
      "Data columns (total 7 columns):\n",
      " #   Column             Non-Null Count  Dtype  \n",
      "---  ------             --------------  -----  \n",
      " 0   Mass               55559 non-null  float64\n",
      " 1   Standoff distance  55559 non-null  float64\n",
      " 2   Angle              55559 non-null  int64  \n",
      " 3   Time               55559 non-null  float64\n",
      " 4   Pressure           55559 non-null  float64\n",
      " 5   Phase_negative     55559 non-null  uint8  \n",
      " 6   Phase_positive     55559 non-null  uint8  \n",
      "dtypes: float64(4), int64(1), uint8(2)\n",
      "memory usage: 2.2 MB\n"
     ]
    }
   ],
   "source": [
    "dataset['Phase'] = dataset['Phase'].replace({'negative_increasing': 'negative', 'negative_decreasing': 'negative'})\n",
    "dataset = pd.get_dummies(dataset, columns =['Phase'], dtype = np.uint8)\n",
    "dataset.info()"
   ],
   "metadata": {
    "collapsed": false,
    "ExecuteTime": {
     "end_time": "2024-08-21T02:06:40.422005700Z",
     "start_time": "2024-08-21T02:06:40.235807100Z"
    }
   }
  },
  {
   "cell_type": "code",
   "execution_count": 6,
   "outputs": [
    {
     "data": {
      "text/plain": "    Mass  Standoff distance  Angle      Time   Pressure  Phase_negative  \\\n0    0.5                1.5      0  1.465171  564.29260               0   \n1    0.5                1.5      0  1.467252  564.05780               0   \n2    0.5                1.5      0  1.469334  563.32560               0   \n3    0.5                1.5      0  1.473498  560.48900               0   \n4    0.5                1.5      0  1.481826  549.75170               0   \n5    0.5                1.5      0  1.517147  472.15140               0   \n6    0.5                1.5      0  1.525413  457.14590               0   \n7    0.5                1.5      0  1.535697  442.17030               0   \n8    0.5                1.5      0  1.558011  415.68570               0   \n9    0.5                1.5      0  1.615291  353.68080               0   \n10   0.5                1.5      0  1.643169  325.25090               0   \n11   0.5                1.5      0  1.665162  305.04660               0   \n12   0.5                1.5      0  1.691183  283.41260               0   \n13   0.5                1.5      0  1.721250  260.57490               0   \n14   0.5                1.5      0  1.753411  238.05300               0   \n15   0.5                1.5      0  1.783647  218.56040               0   \n16   0.5                1.5      0  1.813952  200.67040               0   \n17   0.5                1.5      0  1.844339  184.32260               0   \n18   0.5                1.5      0  1.874821  169.41340               0   \n19   0.5                1.5      0  1.909467  154.01040               0   \n20   0.5                1.5      0  1.948282  138.29660               0   \n21   0.5                1.5      0  1.987262  123.92310               0   \n22   0.5                1.5      0  2.026533  110.79310               0   \n23   0.5                1.5      0  2.068011   98.23788               0   \n24   0.5                1.5      0  2.113112   85.87970               0   \n25   0.5                1.5      0  2.157048   74.99792               0   \n26   0.5                1.5      0  2.203624   64.62081               0   \n27   0.5                1.5      0  2.254955   54.33177               0   \n28   0.5                1.5      0  2.307782   44.76888               0   \n29   0.5                1.5      0  2.360574   36.21905               0   \n\n    Phase_positive  \n0                1  \n1                1  \n2                1  \n3                1  \n4                1  \n5                1  \n6                1  \n7                1  \n8                1  \n9                1  \n10               1  \n11               1  \n12               1  \n13               1  \n14               1  \n15               1  \n16               1  \n17               1  \n18               1  \n19               1  \n20               1  \n21               1  \n22               1  \n23               1  \n24               1  \n25               1  \n26               1  \n27               1  \n28               1  \n29               1  ",
      "text/html": "<div>\n<style scoped>\n    .dataframe tbody tr th:only-of-type {\n        vertical-align: middle;\n    }\n\n    .dataframe tbody tr th {\n        vertical-align: top;\n    }\n\n    .dataframe thead th {\n        text-align: right;\n    }\n</style>\n<table border=\"1\" class=\"dataframe\">\n  <thead>\n    <tr style=\"text-align: right;\">\n      <th></th>\n      <th>Mass</th>\n      <th>Standoff distance</th>\n      <th>Angle</th>\n      <th>Time</th>\n      <th>Pressure</th>\n      <th>Phase_negative</th>\n      <th>Phase_positive</th>\n    </tr>\n  </thead>\n  <tbody>\n    <tr>\n      <th>0</th>\n      <td>0.5</td>\n      <td>1.5</td>\n      <td>0</td>\n      <td>1.465171</td>\n      <td>564.29260</td>\n      <td>0</td>\n      <td>1</td>\n    </tr>\n    <tr>\n      <th>1</th>\n      <td>0.5</td>\n      <td>1.5</td>\n      <td>0</td>\n      <td>1.467252</td>\n      <td>564.05780</td>\n      <td>0</td>\n      <td>1</td>\n    </tr>\n    <tr>\n      <th>2</th>\n      <td>0.5</td>\n      <td>1.5</td>\n      <td>0</td>\n      <td>1.469334</td>\n      <td>563.32560</td>\n      <td>0</td>\n      <td>1</td>\n    </tr>\n    <tr>\n      <th>3</th>\n      <td>0.5</td>\n      <td>1.5</td>\n      <td>0</td>\n      <td>1.473498</td>\n      <td>560.48900</td>\n      <td>0</td>\n      <td>1</td>\n    </tr>\n    <tr>\n      <th>4</th>\n      <td>0.5</td>\n      <td>1.5</td>\n      <td>0</td>\n      <td>1.481826</td>\n      <td>549.75170</td>\n      <td>0</td>\n      <td>1</td>\n    </tr>\n    <tr>\n      <th>5</th>\n      <td>0.5</td>\n      <td>1.5</td>\n      <td>0</td>\n      <td>1.517147</td>\n      <td>472.15140</td>\n      <td>0</td>\n      <td>1</td>\n    </tr>\n    <tr>\n      <th>6</th>\n      <td>0.5</td>\n      <td>1.5</td>\n      <td>0</td>\n      <td>1.525413</td>\n      <td>457.14590</td>\n      <td>0</td>\n      <td>1</td>\n    </tr>\n    <tr>\n      <th>7</th>\n      <td>0.5</td>\n      <td>1.5</td>\n      <td>0</td>\n      <td>1.535697</td>\n      <td>442.17030</td>\n      <td>0</td>\n      <td>1</td>\n    </tr>\n    <tr>\n      <th>8</th>\n      <td>0.5</td>\n      <td>1.5</td>\n      <td>0</td>\n      <td>1.558011</td>\n      <td>415.68570</td>\n      <td>0</td>\n      <td>1</td>\n    </tr>\n    <tr>\n      <th>9</th>\n      <td>0.5</td>\n      <td>1.5</td>\n      <td>0</td>\n      <td>1.615291</td>\n      <td>353.68080</td>\n      <td>0</td>\n      <td>1</td>\n    </tr>\n    <tr>\n      <th>10</th>\n      <td>0.5</td>\n      <td>1.5</td>\n      <td>0</td>\n      <td>1.643169</td>\n      <td>325.25090</td>\n      <td>0</td>\n      <td>1</td>\n    </tr>\n    <tr>\n      <th>11</th>\n      <td>0.5</td>\n      <td>1.5</td>\n      <td>0</td>\n      <td>1.665162</td>\n      <td>305.04660</td>\n      <td>0</td>\n      <td>1</td>\n    </tr>\n    <tr>\n      <th>12</th>\n      <td>0.5</td>\n      <td>1.5</td>\n      <td>0</td>\n      <td>1.691183</td>\n      <td>283.41260</td>\n      <td>0</td>\n      <td>1</td>\n    </tr>\n    <tr>\n      <th>13</th>\n      <td>0.5</td>\n      <td>1.5</td>\n      <td>0</td>\n      <td>1.721250</td>\n      <td>260.57490</td>\n      <td>0</td>\n      <td>1</td>\n    </tr>\n    <tr>\n      <th>14</th>\n      <td>0.5</td>\n      <td>1.5</td>\n      <td>0</td>\n      <td>1.753411</td>\n      <td>238.05300</td>\n      <td>0</td>\n      <td>1</td>\n    </tr>\n    <tr>\n      <th>15</th>\n      <td>0.5</td>\n      <td>1.5</td>\n      <td>0</td>\n      <td>1.783647</td>\n      <td>218.56040</td>\n      <td>0</td>\n      <td>1</td>\n    </tr>\n    <tr>\n      <th>16</th>\n      <td>0.5</td>\n      <td>1.5</td>\n      <td>0</td>\n      <td>1.813952</td>\n      <td>200.67040</td>\n      <td>0</td>\n      <td>1</td>\n    </tr>\n    <tr>\n      <th>17</th>\n      <td>0.5</td>\n      <td>1.5</td>\n      <td>0</td>\n      <td>1.844339</td>\n      <td>184.32260</td>\n      <td>0</td>\n      <td>1</td>\n    </tr>\n    <tr>\n      <th>18</th>\n      <td>0.5</td>\n      <td>1.5</td>\n      <td>0</td>\n      <td>1.874821</td>\n      <td>169.41340</td>\n      <td>0</td>\n      <td>1</td>\n    </tr>\n    <tr>\n      <th>19</th>\n      <td>0.5</td>\n      <td>1.5</td>\n      <td>0</td>\n      <td>1.909467</td>\n      <td>154.01040</td>\n      <td>0</td>\n      <td>1</td>\n    </tr>\n    <tr>\n      <th>20</th>\n      <td>0.5</td>\n      <td>1.5</td>\n      <td>0</td>\n      <td>1.948282</td>\n      <td>138.29660</td>\n      <td>0</td>\n      <td>1</td>\n    </tr>\n    <tr>\n      <th>21</th>\n      <td>0.5</td>\n      <td>1.5</td>\n      <td>0</td>\n      <td>1.987262</td>\n      <td>123.92310</td>\n      <td>0</td>\n      <td>1</td>\n    </tr>\n    <tr>\n      <th>22</th>\n      <td>0.5</td>\n      <td>1.5</td>\n      <td>0</td>\n      <td>2.026533</td>\n      <td>110.79310</td>\n      <td>0</td>\n      <td>1</td>\n    </tr>\n    <tr>\n      <th>23</th>\n      <td>0.5</td>\n      <td>1.5</td>\n      <td>0</td>\n      <td>2.068011</td>\n      <td>98.23788</td>\n      <td>0</td>\n      <td>1</td>\n    </tr>\n    <tr>\n      <th>24</th>\n      <td>0.5</td>\n      <td>1.5</td>\n      <td>0</td>\n      <td>2.113112</td>\n      <td>85.87970</td>\n      <td>0</td>\n      <td>1</td>\n    </tr>\n    <tr>\n      <th>25</th>\n      <td>0.5</td>\n      <td>1.5</td>\n      <td>0</td>\n      <td>2.157048</td>\n      <td>74.99792</td>\n      <td>0</td>\n      <td>1</td>\n    </tr>\n    <tr>\n      <th>26</th>\n      <td>0.5</td>\n      <td>1.5</td>\n      <td>0</td>\n      <td>2.203624</td>\n      <td>64.62081</td>\n      <td>0</td>\n      <td>1</td>\n    </tr>\n    <tr>\n      <th>27</th>\n      <td>0.5</td>\n      <td>1.5</td>\n      <td>0</td>\n      <td>2.254955</td>\n      <td>54.33177</td>\n      <td>0</td>\n      <td>1</td>\n    </tr>\n    <tr>\n      <th>28</th>\n      <td>0.5</td>\n      <td>1.5</td>\n      <td>0</td>\n      <td>2.307782</td>\n      <td>44.76888</td>\n      <td>0</td>\n      <td>1</td>\n    </tr>\n    <tr>\n      <th>29</th>\n      <td>0.5</td>\n      <td>1.5</td>\n      <td>0</td>\n      <td>2.360574</td>\n      <td>36.21905</td>\n      <td>0</td>\n      <td>1</td>\n    </tr>\n  </tbody>\n</table>\n</div>"
     },
     "execution_count": 6,
     "metadata": {},
     "output_type": "execute_result"
    }
   ],
   "source": [
    "dataset.head(30)"
   ],
   "metadata": {
    "collapsed": false,
    "ExecuteTime": {
     "end_time": "2024-08-21T02:06:41.498229300Z",
     "start_time": "2024-08-21T02:06:40.420989400Z"
    }
   }
  },
  {
   "cell_type": "code",
   "execution_count": 7,
   "metadata": {
    "ExecuteTime": {
     "end_time": "2024-08-21T02:06:43.366683100Z",
     "start_time": "2024-08-21T02:06:41.489208Z"
    }
   },
   "outputs": [
    {
     "name": "stdout",
     "output_type": "stream",
     "text": [
      "(55559, 6) (55559,)\n"
     ]
    }
   ],
   "source": [
    "y = dataset['Pressure']\n",
    "X = dataset.drop(['Pressure'], axis=1)\n",
    "print(X.shape, y.shape)"
   ]
  },
  {
   "cell_type": "code",
   "execution_count": 8,
   "metadata": {
    "ExecuteTime": {
     "end_time": "2024-08-21T02:06:44.884891700Z",
     "start_time": "2024-08-21T02:06:43.358680600Z"
    }
   },
   "outputs": [],
   "source": [
    "# convert to numpy array\n",
    "X = np.array(X)\n",
    "y = np.array(y)"
   ]
  },
  {
   "cell_type": "code",
   "execution_count": 9,
   "metadata": {
    "colab": {},
    "colab_type": "code",
    "id": "L5edeb2r_agx",
    "ExecuteTime": {
     "end_time": "2024-08-21T02:06:47.249504100Z",
     "start_time": "2024-08-21T02:06:44.886891700Z"
    }
   },
   "outputs": [],
   "source": [
    "from sklearn.model_selection import train_test_split\n",
    "X_train, X_test, y_train, y_test = train_test_split(X,\n",
    "                                                    y,\n",
    "                                                    test_size = 0.4,\n",
    "                                                    random_state = 0)"
   ]
  },
  {
   "cell_type": "code",
   "execution_count": 10,
   "metadata": {
    "colab": {},
    "colab_type": "code",
    "id": "L5edeb2r_agx",
    "ExecuteTime": {
     "end_time": "2024-08-21T02:06:47.269514900Z",
     "start_time": "2024-08-21T02:06:47.251504800Z"
    }
   },
   "outputs": [],
   "source": [
    "X_val, X_test, y_val, y_test = train_test_split(X_test,\n",
    "                                                y_test,\n",
    "                                                test_size = 0.5,\n",
    "                                                random_state = 0)"
   ]
  },
  {
   "cell_type": "code",
   "execution_count": 11,
   "outputs": [
    {
     "name": "stdout",
     "output_type": "stream",
     "text": [
      "[[-0.36269004 -0.52145157 -0.44441782 -0.67104328  0.          1.        ]\n",
      " [-1.53923008 -1.02418722  1.37366749 -0.26694703  1.          0.        ]\n",
      " [-0.16660003 -0.52145157 -1.35346048 -0.65969155  0.          1.        ]\n",
      " ...\n",
      " [-0.16660003  0.98675539 -0.44441782  1.77036442  1.          0.        ]\n",
      " [ 0.22557998  0.98675539  0.46462483 -0.58070736  0.          1.        ]\n",
      " [-0.55878005 -1.52692287  0.46462483 -0.70672769  0.          1.        ]]\n"
     ]
    }
   ],
   "source": [
    "from sklearn.preprocessing import StandardScaler\n",
    "sc = StandardScaler()\n",
    "X_train[:,0:4] = sc.fit_transform(X_train[:, 0:4])\n",
    "print (X_train)"
   ],
   "metadata": {
    "collapsed": false,
    "ExecuteTime": {
     "end_time": "2024-08-21T02:06:47.555298200Z",
     "start_time": "2024-08-21T02:06:47.266516700Z"
    }
   }
  },
  {
   "cell_type": "code",
   "execution_count": 12,
   "outputs": [
    {
     "name": "stdout",
     "output_type": "stream",
     "text": [
      "[[ 1.00994     0.48401974 -1.35346048 -0.89997439  0.          1.        ]\n",
      " [-1.93141009 -1.52692287 -1.35346048 -0.75851636  0.          1.        ]\n",
      " [ 0.22557998  1.48949105  1.37366749 -0.37821042  0.          1.        ]\n",
      " ...\n",
      " [ 0.02948997 -0.01871591 -0.44441782 -0.51644526  0.          1.        ]\n",
      " [ 1.20603001 -0.52145157 -0.44441782  0.94198323  1.          0.        ]\n",
      " [-0.16660003 -0.01871591  1.37366749 -0.39420937  0.          1.        ]]\n"
     ]
    }
   ],
   "source": [
    "X_test[:,0:4] = sc.transform(X_test[:,0:4])\n",
    "print (X_test)"
   ],
   "metadata": {
    "collapsed": false,
    "ExecuteTime": {
     "end_time": "2024-08-21T02:06:47.775057900Z",
     "start_time": "2024-08-21T02:06:47.556297800Z"
    }
   }
  },
  {
   "cell_type": "code",
   "execution_count": 13,
   "outputs": [
    {
     "name": "stdout",
     "output_type": "stream",
     "text": [
      "[[-0.55878005 -0.01871591 -0.44441782 -0.5825112   0.          1.        ]\n",
      " [-1.14705006 -0.52145157  0.46462483 -0.08074981  1.          0.        ]\n",
      " [-0.75487005  1.48949105  1.37366749 -0.22377807  0.          1.        ]\n",
      " ...\n",
      " [ 0.61775999  0.48401974 -0.44441782 -0.54628658  0.          1.        ]\n",
      " [-0.75487005 -1.52692287 -1.35346048  0.34884443  1.          0.        ]\n",
      " [ 0.42166998  0.98675539  0.46462483 -0.76600267  0.          1.        ]]\n"
     ]
    }
   ],
   "source": [
    "X_val[:,0:4] = sc.transform(X_val[:,0:4])\n",
    "print (X_val)"
   ],
   "metadata": {
    "collapsed": false,
    "ExecuteTime": {
     "end_time": "2024-08-21T02:06:48.087468600Z",
     "start_time": "2024-08-21T02:06:47.771059600Z"
    }
   }
  },
  {
   "cell_type": "code",
   "execution_count": 14,
   "outputs": [
    {
     "name": "stdout",
     "output_type": "stream",
     "text": [
      "X_train 33335\n",
      "X_test 11112\n",
      "X_val 11112\n"
     ]
    }
   ],
   "source": [
    "print (\"X_train\", len(X_train))\n",
    "print (\"X_test\", len(X_test))\n",
    "print (\"X_val\", len(X_val))"
   ],
   "metadata": {
    "collapsed": false,
    "ExecuteTime": {
     "end_time": "2024-08-21T02:06:48.252644700Z",
     "start_time": "2024-08-21T02:06:48.080460300Z"
    }
   }
  },
  {
   "cell_type": "markdown",
   "metadata": {
    "colab_type": "text",
    "id": "_mSLlAT9_eyI"
   },
   "source": [
    "## Part 3 - Building the ANN"
   ]
  },
  {
   "cell_type": "code",
   "execution_count": 15,
   "metadata": {
    "colab": {},
    "colab_type": "code",
    "id": "J6Hd97Ls__Nz",
    "ExecuteTime": {
     "end_time": "2024-08-21T02:06:48.470186400Z",
     "start_time": "2024-08-21T02:06:48.244120400Z"
    }
   },
   "outputs": [],
   "source": [
    "ann = tf.keras.models.Sequential()"
   ]
  },
  {
   "cell_type": "code",
   "execution_count": 16,
   "metadata": {
    "colab": {},
    "colab_type": "code",
    "id": "ksO_Vv40AHix",
    "ExecuteTime": {
     "end_time": "2024-08-21T02:06:49.082159100Z",
     "start_time": "2024-08-21T02:06:48.474185Z"
    }
   },
   "outputs": [],
   "source": [
    "ann.add(tf.keras.layers.Dense(units=250,\n",
    "                              input_shape=(X_train.shape[1],),\n",
    "                              activation='relu'))\n",
    "ann.add(tf.keras.layers.Dense(units=225,\n",
    "                              activation='relu'))\n",
    "ann.add(tf.keras.layers.Dense(units=200,\n",
    "                              activation='relu'))\n",
    "ann.add(tf.keras.layers.Dense(units=175,\n",
    "                              activation='relu'))"
   ]
  },
  {
   "cell_type": "code",
   "execution_count": 17,
   "metadata": {
    "colab": {},
    "colab_type": "code",
    "id": "YFATpzsUAkLL",
    "ExecuteTime": {
     "end_time": "2024-08-21T02:06:49.340410200Z",
     "start_time": "2024-08-21T02:06:49.082159100Z"
    }
   },
   "outputs": [],
   "source": [
    "ann.add(tf.keras.layers.Dense(units=1,\n",
    "                              activation='linear'))"
   ]
  },
  {
   "cell_type": "code",
   "execution_count": 18,
   "metadata": {
    "ExecuteTime": {
     "end_time": "2024-08-21T02:06:49.653208Z",
     "start_time": "2024-08-21T02:06:49.340410200Z"
    }
   },
   "outputs": [
    {
     "name": "stdout",
     "output_type": "stream",
     "text": [
      "Model: \"sequential\"\n",
      "_________________________________________________________________\n",
      " Layer (type)                Output Shape              Param #   \n",
      "=================================================================\n",
      " dense (Dense)               (None, 250)               1750      \n",
      "                                                                 \n",
      " dense_1 (Dense)             (None, 225)               56475     \n",
      "                                                                 \n",
      " dense_2 (Dense)             (None, 200)               45200     \n",
      "                                                                 \n",
      " dense_3 (Dense)             (None, 175)               35175     \n",
      "                                                                 \n",
      " dense_4 (Dense)             (None, 1)                 176       \n",
      "                                                                 \n",
      "=================================================================\n",
      "Total params: 138,776\n",
      "Trainable params: 138,776\n",
      "Non-trainable params: 0\n",
      "_________________________________________________________________\n"
     ]
    }
   ],
   "source": [
    "ann.summary()"
   ]
  },
  {
   "cell_type": "markdown",
   "metadata": {
    "colab_type": "text",
    "id": "fq7e4fF6A1yy"
   },
   "source": [
    "## Part 4 - Training the ANN"
   ]
  },
  {
   "cell_type": "code",
   "execution_count": 19,
   "metadata": {
    "colab": {},
    "colab_type": "code",
    "id": "pesgbWlCAtB4",
    "ExecuteTime": {
     "end_time": "2024-08-21T02:06:49.951068700Z",
     "start_time": "2024-08-21T02:06:49.631174100Z"
    }
   },
   "outputs": [],
   "source": [
    "# from tensorflow.keras.optimizers import Adam\n",
    "from keras.optimizers import Adam\n",
    "opt = Adam(learning_rate=0.001)\n",
    "ann.compile(optimizer = opt,\n",
    "            loss = 'mean_squared_error',\n",
    "            metrics = ['mae'])"
   ]
  },
  {
   "cell_type": "code",
   "execution_count": 20,
   "metadata": {
    "ExecuteTime": {
     "end_time": "2024-08-21T02:06:50.392628Z",
     "start_time": "2024-08-21T02:06:49.952078900Z"
    }
   },
   "outputs": [],
   "source": [
    "# protects from unnecessary further training of the model if a particular metric does not continue to improve over a number of n epochs. In such a case, the model training would be automatically aborted.\n",
    "from keras.callbacks import EarlyStopping\n",
    "es = EarlyStopping(monitor='val_loss',\n",
    "                   mode='min',\n",
    "                   patience=50,\n",
    "                   restore_best_weights = True)"
   ]
  },
  {
   "cell_type": "code",
   "execution_count": 21,
   "metadata": {
    "colab": {
     "base_uri": "https://localhost:8080/",
     "height": 1000
    },
    "colab_type": "code",
    "id": "c_vV-tiiA5zn",
    "outputId": "4a2b6ee6-ed75-4698-9069-b250e613803f",
    "ExecuteTime": {
     "end_time": "2024-08-21T02:34:11.840913400Z",
     "start_time": "2024-08-21T02:06:50.393634500Z"
    }
   },
   "outputs": [
    {
     "name": "stdout",
     "output_type": "stream",
     "text": [
      "Epoch 1/500\n",
      "1112/1112 [==============================] - 34s 30ms/step - loss: 1993852.2500 - mae: 573.5709 - val_loss: 719826.4375 - val_mae: 321.7490\n",
      "Epoch 2/500\n",
      "1112/1112 [==============================] - 7s 6ms/step - loss: 699392.1250 - mae: 297.4911 - val_loss: 475263.2500 - val_mae: 295.9214\n",
      "Epoch 3/500\n",
      "1112/1112 [==============================] - 6s 6ms/step - loss: 392099.0000 - mae: 202.4901 - val_loss: 540789.5625 - val_mae: 242.6955\n",
      "Epoch 4/500\n",
      "1112/1112 [==============================] - 8s 7ms/step - loss: 385214.4688 - mae: 205.8810 - val_loss: 262831.1250 - val_mae: 247.1872\n",
      "Epoch 5/500\n",
      "1112/1112 [==============================] - 7s 6ms/step - loss: 306430.1875 - mae: 181.6105 - val_loss: 195635.7969 - val_mae: 134.0436\n",
      "Epoch 6/500\n",
      "1112/1112 [==============================] - 8s 7ms/step - loss: 298050.6875 - mae: 175.6694 - val_loss: 151937.0312 - val_mae: 133.9194\n",
      "Epoch 7/500\n",
      "1112/1112 [==============================] - 8s 7ms/step - loss: 323764.2500 - mae: 184.3773 - val_loss: 403421.7188 - val_mae: 189.3784\n",
      "Epoch 8/500\n",
      "1112/1112 [==============================] - 7s 7ms/step - loss: 307826.3125 - mae: 181.5389 - val_loss: 233240.3438 - val_mae: 144.2549\n",
      "Epoch 9/500\n",
      "1112/1112 [==============================] - 8s 7ms/step - loss: 313418.5312 - mae: 176.0539 - val_loss: 201768.0938 - val_mae: 158.6180\n",
      "Epoch 10/500\n",
      "1112/1112 [==============================] - 6s 6ms/step - loss: 204567.1875 - mae: 141.7372 - val_loss: 130307.2969 - val_mae: 117.0798\n",
      "Epoch 11/500\n",
      "1112/1112 [==============================] - 8s 7ms/step - loss: 297667.5000 - mae: 168.5216 - val_loss: 163760.4219 - val_mae: 118.8623\n",
      "Epoch 12/500\n",
      "1112/1112 [==============================] - 7s 6ms/step - loss: 254943.0938 - mae: 155.1154 - val_loss: 161106.1250 - val_mae: 125.9919\n",
      "Epoch 13/500\n",
      "1112/1112 [==============================] - 7s 6ms/step - loss: 268539.8750 - mae: 163.7149 - val_loss: 140106.6250 - val_mae: 110.7307\n",
      "Epoch 14/500\n",
      "1112/1112 [==============================] - 7s 7ms/step - loss: 179067.4531 - mae: 132.8296 - val_loss: 93566.0156 - val_mae: 97.6982\n",
      "Epoch 15/500\n",
      "1112/1112 [==============================] - 7s 6ms/step - loss: 201281.1250 - mae: 138.9794 - val_loss: 459948.9688 - val_mae: 247.9643\n",
      "Epoch 16/500\n",
      "1112/1112 [==============================] - 7s 6ms/step - loss: 240893.6094 - mae: 150.5780 - val_loss: 115811.0078 - val_mae: 105.3016\n",
      "Epoch 17/500\n",
      "1112/1112 [==============================] - 8s 7ms/step - loss: 163014.6562 - mae: 126.2391 - val_loss: 476645.2812 - val_mae: 200.0025\n",
      "Epoch 18/500\n",
      "1112/1112 [==============================] - 8s 7ms/step - loss: 238035.2500 - mae: 150.3705 - val_loss: 111255.0391 - val_mae: 98.6632\n",
      "Epoch 19/500\n",
      "1112/1112 [==============================] - 8s 7ms/step - loss: 194671.4062 - mae: 138.6583 - val_loss: 147208.3438 - val_mae: 139.3702\n",
      "Epoch 20/500\n",
      "1112/1112 [==============================] - 8s 7ms/step - loss: 175794.1562 - mae: 129.8288 - val_loss: 60469.7148 - val_mae: 81.2934\n",
      "Epoch 21/500\n",
      "1112/1112 [==============================] - 8s 7ms/step - loss: 177164.3750 - mae: 129.7840 - val_loss: 99579.5547 - val_mae: 98.4678\n",
      "Epoch 22/500\n",
      "1112/1112 [==============================] - 8s 7ms/step - loss: 207267.3906 - mae: 140.5276 - val_loss: 143991.0781 - val_mae: 122.5730\n",
      "Epoch 23/500\n",
      "1112/1112 [==============================] - 8s 7ms/step - loss: 206370.2188 - mae: 139.9593 - val_loss: 88470.3203 - val_mae: 88.6710\n",
      "Epoch 24/500\n",
      "1112/1112 [==============================] - 7s 6ms/step - loss: 217231.2031 - mae: 137.9256 - val_loss: 249610.1094 - val_mae: 127.6696\n",
      "Epoch 25/500\n",
      "1112/1112 [==============================] - 8s 7ms/step - loss: 198299.3906 - mae: 135.9649 - val_loss: 157550.4375 - val_mae: 134.8765\n",
      "Epoch 26/500\n",
      "1112/1112 [==============================] - 7s 6ms/step - loss: 198540.9688 - mae: 132.1594 - val_loss: 188895.0156 - val_mae: 125.6241\n",
      "Epoch 27/500\n",
      "1112/1112 [==============================] - 8s 7ms/step - loss: 169510.7188 - mae: 126.6702 - val_loss: 73166.2266 - val_mae: 91.2765\n",
      "Epoch 28/500\n",
      "1112/1112 [==============================] - 8s 7ms/step - loss: 183376.8438 - mae: 128.3096 - val_loss: 171420.1094 - val_mae: 148.0998\n",
      "Epoch 29/500\n",
      "1112/1112 [==============================] - 8s 7ms/step - loss: 157891.9688 - mae: 122.3883 - val_loss: 114773.6250 - val_mae: 127.6039\n",
      "Epoch 30/500\n",
      "1112/1112 [==============================] - 7s 7ms/step - loss: 154416.7031 - mae: 118.7640 - val_loss: 90481.4688 - val_mae: 83.6314\n",
      "Epoch 31/500\n",
      "1112/1112 [==============================] - 9s 8ms/step - loss: 198794.2500 - mae: 130.6962 - val_loss: 146883.6875 - val_mae: 113.7403\n",
      "Epoch 32/500\n",
      "1112/1112 [==============================] - 8s 7ms/step - loss: 143216.2344 - mae: 114.1705 - val_loss: 60899.9922 - val_mae: 80.1364\n",
      "Epoch 33/500\n",
      "1112/1112 [==============================] - 7s 6ms/step - loss: 177500.9375 - mae: 127.6369 - val_loss: 409210.8438 - val_mae: 223.0412\n",
      "Epoch 34/500\n",
      "1112/1112 [==============================] - 6s 6ms/step - loss: 153454.3125 - mae: 118.1043 - val_loss: 71112.3828 - val_mae: 88.1859\n",
      "Epoch 35/500\n",
      "1112/1112 [==============================] - 6s 6ms/step - loss: 154906.1250 - mae: 121.9589 - val_loss: 65860.7500 - val_mae: 84.7993\n",
      "Epoch 36/500\n",
      "1112/1112 [==============================] - 7s 6ms/step - loss: 177964.7031 - mae: 125.9006 - val_loss: 55133.0625 - val_mae: 79.9858\n",
      "Epoch 37/500\n",
      "1112/1112 [==============================] - 8s 7ms/step - loss: 165247.5781 - mae: 118.2924 - val_loss: 83905.9141 - val_mae: 91.7342\n",
      "Epoch 38/500\n",
      "1112/1112 [==============================] - 7s 7ms/step - loss: 163732.5781 - mae: 119.2605 - val_loss: 90508.5234 - val_mae: 79.9901\n",
      "Epoch 39/500\n",
      "1112/1112 [==============================] - 7s 6ms/step - loss: 131925.2344 - mae: 107.4101 - val_loss: 253239.8750 - val_mae: 145.0174\n",
      "Epoch 40/500\n",
      "1112/1112 [==============================] - 8s 7ms/step - loss: 140725.5781 - mae: 112.7639 - val_loss: 125320.9844 - val_mae: 107.6371\n",
      "Epoch 41/500\n",
      "1112/1112 [==============================] - 7s 6ms/step - loss: 153201.5938 - mae: 114.4441 - val_loss: 262728.2812 - val_mae: 141.4685\n",
      "Epoch 42/500\n",
      "1112/1112 [==============================] - 7s 6ms/step - loss: 141561.4219 - mae: 110.9829 - val_loss: 64153.7266 - val_mae: 74.2109\n",
      "Epoch 43/500\n",
      "1112/1112 [==============================] - 7s 6ms/step - loss: 142134.0312 - mae: 108.8847 - val_loss: 216982.3281 - val_mae: 135.8155\n",
      "Epoch 44/500\n",
      "1112/1112 [==============================] - 8s 7ms/step - loss: 174158.6094 - mae: 126.3861 - val_loss: 132415.1406 - val_mae: 110.6751\n",
      "Epoch 45/500\n",
      "1112/1112 [==============================] - 7s 6ms/step - loss: 145285.6406 - mae: 109.7841 - val_loss: 90513.1094 - val_mae: 95.2389\n",
      "Epoch 46/500\n",
      "1112/1112 [==============================] - 8s 7ms/step - loss: 155045.1875 - mae: 114.6936 - val_loss: 103456.3438 - val_mae: 92.8428\n",
      "Epoch 47/500\n",
      "1112/1112 [==============================] - 6s 6ms/step - loss: 129276.2891 - mae: 108.0906 - val_loss: 287265.6875 - val_mae: 143.7486\n",
      "Epoch 48/500\n",
      "1112/1112 [==============================] - 7s 6ms/step - loss: 148758.2969 - mae: 111.0765 - val_loss: 76835.2109 - val_mae: 80.2503\n",
      "Epoch 49/500\n",
      "1112/1112 [==============================] - 8s 7ms/step - loss: 147822.0000 - mae: 109.0136 - val_loss: 82945.7578 - val_mae: 86.6987\n",
      "Epoch 50/500\n",
      "1112/1112 [==============================] - 7s 6ms/step - loss: 149064.6250 - mae: 113.5990 - val_loss: 100479.1797 - val_mae: 87.4564\n",
      "Epoch 51/500\n",
      "1112/1112 [==============================] - 6s 5ms/step - loss: 117064.3750 - mae: 101.7602 - val_loss: 151866.7500 - val_mae: 108.1450\n",
      "Epoch 52/500\n",
      "1112/1112 [==============================] - 7s 7ms/step - loss: 247996.9062 - mae: 152.4274 - val_loss: 79270.5781 - val_mae: 83.5068\n",
      "Epoch 53/500\n",
      "1112/1112 [==============================] - 7s 7ms/step - loss: 156490.8281 - mae: 113.3840 - val_loss: 144304.0625 - val_mae: 132.4997\n",
      "Epoch 54/500\n",
      "1112/1112 [==============================] - 8s 7ms/step - loss: 126834.2734 - mae: 107.8810 - val_loss: 66753.4297 - val_mae: 81.7815\n",
      "Epoch 55/500\n",
      "1112/1112 [==============================] - 7s 6ms/step - loss: 115375.1328 - mae: 101.2510 - val_loss: 115894.1484 - val_mae: 104.4355\n",
      "Epoch 56/500\n",
      "1112/1112 [==============================] - 8s 7ms/step - loss: 188058.8281 - mae: 119.5907 - val_loss: 111130.3672 - val_mae: 95.9036\n",
      "Epoch 57/500\n",
      "1112/1112 [==============================] - 7s 6ms/step - loss: 114629.1406 - mae: 100.2897 - val_loss: 237684.0156 - val_mae: 129.7306\n",
      "Epoch 58/500\n",
      "1112/1112 [==============================] - 6s 5ms/step - loss: 115332.7578 - mae: 100.0602 - val_loss: 86578.8828 - val_mae: 82.2557\n",
      "Epoch 59/500\n",
      "1112/1112 [==============================] - 9s 8ms/step - loss: 126132.1875 - mae: 101.8773 - val_loss: 75316.5703 - val_mae: 87.1139\n",
      "Epoch 60/500\n",
      "1112/1112 [==============================] - 6s 6ms/step - loss: 165448.7969 - mae: 110.4165 - val_loss: 68320.5391 - val_mae: 77.3761\n",
      "Epoch 61/500\n",
      "1112/1112 [==============================] - 8s 7ms/step - loss: 112594.1797 - mae: 95.6064 - val_loss: 398495.0938 - val_mae: 222.4467\n",
      "Epoch 62/500\n",
      "1112/1112 [==============================] - 7s 6ms/step - loss: 158783.1250 - mae: 113.9776 - val_loss: 160286.2344 - val_mae: 106.9776\n",
      "Epoch 63/500\n",
      "1112/1112 [==============================] - 7s 6ms/step - loss: 112145.1328 - mae: 94.3236 - val_loss: 96062.9766 - val_mae: 80.8970\n",
      "Epoch 64/500\n",
      "1112/1112 [==============================] - 8s 7ms/step - loss: 99784.6172 - mae: 91.3007 - val_loss: 94617.6953 - val_mae: 82.2439\n",
      "Epoch 65/500\n",
      "1112/1112 [==============================] - 7s 6ms/step - loss: 119806.4375 - mae: 99.4235 - val_loss: 273129.3125 - val_mae: 144.1397\n",
      "Epoch 66/500\n",
      "1112/1112 [==============================] - 8s 7ms/step - loss: 137322.7500 - mae: 101.6052 - val_loss: 97033.9297 - val_mae: 97.7689\n",
      "Epoch 67/500\n",
      "1112/1112 [==============================] - 8s 7ms/step - loss: 128743.9531 - mae: 99.2935 - val_loss: 117376.2734 - val_mae: 117.8220\n",
      "Epoch 68/500\n",
      "1112/1112 [==============================] - 7s 6ms/step - loss: 96669.3281 - mae: 90.0438 - val_loss: 91676.3438 - val_mae: 90.7933\n",
      "Epoch 69/500\n",
      "1112/1112 [==============================] - 7s 6ms/step - loss: 142415.6719 - mae: 106.4911 - val_loss: 89845.8906 - val_mae: 84.5804\n",
      "Epoch 70/500\n",
      "1112/1112 [==============================] - 7s 7ms/step - loss: 117238.3047 - mae: 96.6143 - val_loss: 68149.2812 - val_mae: 66.0555\n",
      "Epoch 71/500\n",
      "1112/1112 [==============================] - 7s 6ms/step - loss: 117892.6641 - mae: 95.9369 - val_loss: 153059.8281 - val_mae: 134.4486\n",
      "Epoch 72/500\n",
      "1112/1112 [==============================] - 8s 7ms/step - loss: 120420.3594 - mae: 96.6513 - val_loss: 66822.9766 - val_mae: 76.1380\n",
      "Epoch 73/500\n",
      "1112/1112 [==============================] - 8s 7ms/step - loss: 105549.2969 - mae: 89.6193 - val_loss: 57957.8516 - val_mae: 77.4400\n",
      "Epoch 74/500\n",
      "1112/1112 [==============================] - 7s 7ms/step - loss: 156552.9531 - mae: 99.3692 - val_loss: 49976.5312 - val_mae: 68.0198\n",
      "Epoch 75/500\n",
      "1112/1112 [==============================] - 8s 7ms/step - loss: 106965.0547 - mae: 93.4577 - val_loss: 62032.0039 - val_mae: 72.8103\n",
      "Epoch 76/500\n",
      "1112/1112 [==============================] - 6s 6ms/step - loss: 109143.8203 - mae: 91.6943 - val_loss: 46123.9766 - val_mae: 71.6256\n",
      "Epoch 77/500\n",
      "1112/1112 [==============================] - 7s 7ms/step - loss: 133102.0469 - mae: 100.7701 - val_loss: 79565.8281 - val_mae: 71.9746\n",
      "Epoch 78/500\n",
      "1112/1112 [==============================] - 6s 6ms/step - loss: 113699.9297 - mae: 89.3238 - val_loss: 57843.9609 - val_mae: 65.9166\n",
      "Epoch 79/500\n",
      "1112/1112 [==============================] - 7s 6ms/step - loss: 103369.5625 - mae: 89.6340 - val_loss: 62466.0859 - val_mae: 72.2782\n",
      "Epoch 80/500\n",
      "1112/1112 [==============================] - 6s 5ms/step - loss: 123667.0391 - mae: 96.1614 - val_loss: 86665.4062 - val_mae: 86.7582\n",
      "Epoch 81/500\n",
      "1112/1112 [==============================] - 8s 7ms/step - loss: 167926.3906 - mae: 111.4258 - val_loss: 93809.7656 - val_mae: 85.1069\n",
      "Epoch 82/500\n",
      "1112/1112 [==============================] - 7s 6ms/step - loss: 116476.2344 - mae: 95.6954 - val_loss: 68563.8047 - val_mae: 67.9544\n",
      "Epoch 83/500\n",
      "1112/1112 [==============================] - 6s 5ms/step - loss: 120120.4688 - mae: 96.4430 - val_loss: 64344.0820 - val_mae: 64.7103\n",
      "Epoch 84/500\n",
      "1112/1112 [==============================] - 7s 6ms/step - loss: 94720.5547 - mae: 86.3958 - val_loss: 71738.5938 - val_mae: 82.7362\n",
      "Epoch 85/500\n",
      "1112/1112 [==============================] - 5s 5ms/step - loss: 146948.7344 - mae: 100.5196 - val_loss: 46920.5117 - val_mae: 78.3522\n",
      "Epoch 86/500\n",
      "1112/1112 [==============================] - 6s 5ms/step - loss: 103083.2188 - mae: 91.9734 - val_loss: 79747.4766 - val_mae: 79.1401\n",
      "Epoch 87/500\n",
      "1112/1112 [==============================] - 6s 5ms/step - loss: 109666.3750 - mae: 93.3092 - val_loss: 64045.8398 - val_mae: 78.2434\n",
      "Epoch 88/500\n",
      "1112/1112 [==============================] - 6s 5ms/step - loss: 133219.0469 - mae: 99.2978 - val_loss: 144718.2188 - val_mae: 91.8136\n",
      "Epoch 89/500\n",
      "1112/1112 [==============================] - 6s 5ms/step - loss: 88948.6562 - mae: 84.3743 - val_loss: 45338.7305 - val_mae: 68.8271\n",
      "Epoch 90/500\n",
      "1112/1112 [==============================] - 8s 7ms/step - loss: 101648.1094 - mae: 85.5998 - val_loss: 64053.1445 - val_mae: 73.2053\n",
      "Epoch 91/500\n",
      "1112/1112 [==============================] - 7s 6ms/step - loss: 106766.4062 - mae: 87.9311 - val_loss: 72708.0469 - val_mae: 68.7213\n",
      "Epoch 92/500\n",
      "1112/1112 [==============================] - 7s 6ms/step - loss: 118926.5469 - mae: 91.8956 - val_loss: 44162.1172 - val_mae: 60.9194\n",
      "Epoch 93/500\n",
      "1112/1112 [==============================] - 7s 7ms/step - loss: 111472.7891 - mae: 90.6637 - val_loss: 344369.2188 - val_mae: 175.4564\n",
      "Epoch 94/500\n",
      "1112/1112 [==============================] - 7s 6ms/step - loss: 103138.2891 - mae: 88.0792 - val_loss: 56299.7539 - val_mae: 70.9537\n",
      "Epoch 95/500\n",
      "1112/1112 [==============================] - 7s 6ms/step - loss: 125467.3516 - mae: 94.6975 - val_loss: 131056.6875 - val_mae: 100.7934\n",
      "Epoch 96/500\n",
      "1112/1112 [==============================] - 7s 6ms/step - loss: 96407.1016 - mae: 89.2867 - val_loss: 99215.3281 - val_mae: 99.8807\n",
      "Epoch 97/500\n",
      "1112/1112 [==============================] - 7s 6ms/step - loss: 95904.1953 - mae: 84.5991 - val_loss: 108697.1719 - val_mae: 91.9092\n",
      "Epoch 98/500\n",
      "1112/1112 [==============================] - 6s 5ms/step - loss: 116875.4219 - mae: 92.4152 - val_loss: 76506.0781 - val_mae: 78.6798\n",
      "Epoch 99/500\n",
      "1112/1112 [==============================] - 6s 5ms/step - loss: 101141.5625 - mae: 83.7004 - val_loss: 573957.4375 - val_mae: 237.7748\n",
      "Epoch 100/500\n",
      "1112/1112 [==============================] - 6s 5ms/step - loss: 134431.9375 - mae: 98.2190 - val_loss: 50557.3555 - val_mae: 69.8320\n",
      "Epoch 101/500\n",
      "1112/1112 [==============================] - 7s 6ms/step - loss: 90543.4453 - mae: 82.7204 - val_loss: 102550.1484 - val_mae: 126.5260\n",
      "Epoch 102/500\n",
      "1112/1112 [==============================] - 6s 5ms/step - loss: 78229.3203 - mae: 77.0332 - val_loss: 74551.2656 - val_mae: 73.5161\n",
      "Epoch 103/500\n",
      "1112/1112 [==============================] - 6s 5ms/step - loss: 131347.2656 - mae: 94.2530 - val_loss: 51256.2031 - val_mae: 68.1256\n",
      "Epoch 104/500\n",
      "1112/1112 [==============================] - 6s 5ms/step - loss: 87608.1016 - mae: 81.7376 - val_loss: 226251.8594 - val_mae: 149.1651\n",
      "Epoch 105/500\n",
      "1112/1112 [==============================] - 6s 6ms/step - loss: 88877.9297 - mae: 82.9833 - val_loss: 40141.9102 - val_mae: 59.2418\n",
      "Epoch 106/500\n",
      "1112/1112 [==============================] - 6s 5ms/step - loss: 107498.8125 - mae: 90.0126 - val_loss: 367039.6250 - val_mae: 164.4521\n",
      "Epoch 107/500\n",
      "1112/1112 [==============================] - 6s 6ms/step - loss: 106070.3359 - mae: 86.6124 - val_loss: 77661.1641 - val_mae: 82.3225\n",
      "Epoch 108/500\n",
      "1112/1112 [==============================] - 6s 5ms/step - loss: 78621.4375 - mae: 77.6939 - val_loss: 239496.9219 - val_mae: 127.1287\n",
      "Epoch 109/500\n",
      "1112/1112 [==============================] - 6s 6ms/step - loss: 101051.4766 - mae: 87.0474 - val_loss: 47049.2188 - val_mae: 53.3704\n",
      "Epoch 110/500\n",
      "1112/1112 [==============================] - 6s 5ms/step - loss: 90518.2266 - mae: 82.8131 - val_loss: 76971.1016 - val_mae: 70.6868\n",
      "Epoch 111/500\n",
      "1112/1112 [==============================] - 6s 5ms/step - loss: 95798.6250 - mae: 83.3905 - val_loss: 171219.4219 - val_mae: 133.6282\n",
      "Epoch 112/500\n",
      "1112/1112 [==============================] - 6s 5ms/step - loss: 99417.4766 - mae: 83.1756 - val_loss: 107169.4297 - val_mae: 81.7912\n",
      "Epoch 113/500\n",
      "1112/1112 [==============================] - 6s 5ms/step - loss: 110294.5156 - mae: 87.3913 - val_loss: 127946.3672 - val_mae: 107.2788\n",
      "Epoch 114/500\n",
      "1112/1112 [==============================] - 7s 6ms/step - loss: 83357.9531 - mae: 77.6949 - val_loss: 55673.1133 - val_mae: 64.0984\n",
      "Epoch 115/500\n",
      "1112/1112 [==============================] - 6s 5ms/step - loss: 124482.6641 - mae: 92.4828 - val_loss: 125899.2188 - val_mae: 116.8128\n",
      "Epoch 116/500\n",
      "1112/1112 [==============================] - 6s 5ms/step - loss: 100642.9141 - mae: 81.4154 - val_loss: 81864.9844 - val_mae: 76.8787\n",
      "Epoch 117/500\n",
      "1112/1112 [==============================] - 6s 5ms/step - loss: 121297.1016 - mae: 92.9711 - val_loss: 79527.7656 - val_mae: 75.0434\n",
      "Epoch 118/500\n",
      "1112/1112 [==============================] - 6s 5ms/step - loss: 109505.0234 - mae: 86.1579 - val_loss: 131373.0469 - val_mae: 97.5568\n",
      "Epoch 119/500\n",
      "1112/1112 [==============================] - 6s 5ms/step - loss: 84502.2109 - mae: 79.8359 - val_loss: 87271.6641 - val_mae: 94.2010\n",
      "Epoch 120/500\n",
      "1112/1112 [==============================] - 6s 5ms/step - loss: 86912.7344 - mae: 80.7248 - val_loss: 183247.7031 - val_mae: 151.0027\n",
      "Epoch 121/500\n",
      "1112/1112 [==============================] - 7s 6ms/step - loss: 139221.7188 - mae: 97.0922 - val_loss: 48225.0977 - val_mae: 66.3640\n",
      "Epoch 122/500\n",
      "1112/1112 [==============================] - 6s 5ms/step - loss: 98046.0000 - mae: 83.0239 - val_loss: 90172.0859 - val_mae: 88.8619\n",
      "Epoch 123/500\n",
      "1112/1112 [==============================] - 6s 6ms/step - loss: 100707.2500 - mae: 84.0727 - val_loss: 106567.8359 - val_mae: 94.6415\n",
      "Epoch 124/500\n",
      "1112/1112 [==============================] - 6s 5ms/step - loss: 112135.3672 - mae: 88.0370 - val_loss: 134152.4688 - val_mae: 92.1567\n",
      "Epoch 125/500\n",
      "1112/1112 [==============================] - 6s 5ms/step - loss: 79871.5156 - mae: 77.2321 - val_loss: 39818.9531 - val_mae: 68.6808\n",
      "Epoch 126/500\n",
      "1112/1112 [==============================] - 6s 5ms/step - loss: 107687.6172 - mae: 87.7746 - val_loss: 165189.9844 - val_mae: 109.3442\n",
      "Epoch 127/500\n",
      "1112/1112 [==============================] - 6s 5ms/step - loss: 99449.9922 - mae: 82.8993 - val_loss: 265383.5000 - val_mae: 142.1182\n",
      "Epoch 128/500\n",
      "1112/1112 [==============================] - 7s 6ms/step - loss: 76494.6562 - mae: 76.5210 - val_loss: 194197.4062 - val_mae: 124.2581\n",
      "Epoch 129/500\n",
      "1112/1112 [==============================] - 6s 5ms/step - loss: 93285.5469 - mae: 81.9568 - val_loss: 73516.3281 - val_mae: 73.2544\n",
      "Epoch 130/500\n",
      "1112/1112 [==============================] - 6s 5ms/step - loss: 94383.7969 - mae: 83.5263 - val_loss: 102223.5703 - val_mae: 93.8203\n",
      "Epoch 131/500\n",
      "1112/1112 [==============================] - 6s 5ms/step - loss: 88577.8438 - mae: 76.8407 - val_loss: 109224.3594 - val_mae: 84.6825\n",
      "Epoch 132/500\n",
      "1112/1112 [==============================] - 6s 5ms/step - loss: 76983.9844 - mae: 75.7841 - val_loss: 38603.7070 - val_mae: 51.3342\n",
      "Epoch 133/500\n",
      "1112/1112 [==============================] - 6s 5ms/step - loss: 111619.3203 - mae: 85.5749 - val_loss: 72152.8672 - val_mae: 68.3053\n",
      "Epoch 134/500\n",
      "1112/1112 [==============================] - 6s 5ms/step - loss: 92830.8828 - mae: 80.3620 - val_loss: 334608.0938 - val_mae: 199.2249\n",
      "Epoch 135/500\n",
      "1112/1112 [==============================] - 6s 5ms/step - loss: 97773.4141 - mae: 85.6750 - val_loss: 87878.7578 - val_mae: 91.6039\n",
      "Epoch 136/500\n",
      "1112/1112 [==============================] - 7s 6ms/step - loss: 89544.7734 - mae: 79.8390 - val_loss: 46429.2773 - val_mae: 55.6613\n",
      "Epoch 137/500\n",
      "1112/1112 [==============================] - 6s 5ms/step - loss: 98139.4531 - mae: 83.2565 - val_loss: 112825.8281 - val_mae: 98.6038\n",
      "Epoch 138/500\n",
      "1112/1112 [==============================] - 6s 5ms/step - loss: 92079.0469 - mae: 80.4729 - val_loss: 61378.8906 - val_mae: 65.1785\n",
      "Epoch 139/500\n",
      "1112/1112 [==============================] - 6s 5ms/step - loss: 101067.3672 - mae: 80.9537 - val_loss: 44442.6562 - val_mae: 51.4206\n",
      "Epoch 140/500\n",
      "1112/1112 [==============================] - 5s 5ms/step - loss: 82760.7891 - mae: 76.5736 - val_loss: 639926.0625 - val_mae: 208.7906\n",
      "Epoch 141/500\n",
      "1112/1112 [==============================] - 6s 5ms/step - loss: 102577.9297 - mae: 83.1908 - val_loss: 43367.4375 - val_mae: 60.9606\n",
      "Epoch 142/500\n",
      "1112/1112 [==============================] - 6s 5ms/step - loss: 80234.4297 - mae: 76.9458 - val_loss: 181806.1250 - val_mae: 127.7416\n",
      "Epoch 143/500\n",
      "1112/1112 [==============================] - 6s 5ms/step - loss: 97216.2422 - mae: 82.7923 - val_loss: 185133.9219 - val_mae: 110.5636\n",
      "Epoch 144/500\n",
      "1112/1112 [==============================] - 5s 5ms/step - loss: 98038.2969 - mae: 82.1021 - val_loss: 33426.2617 - val_mae: 58.0296\n",
      "Epoch 145/500\n",
      "1112/1112 [==============================] - 7s 6ms/step - loss: 102622.2109 - mae: 82.5098 - val_loss: 78310.5703 - val_mae: 87.2138\n",
      "Epoch 146/500\n",
      "1112/1112 [==============================] - 6s 5ms/step - loss: 72809.4922 - mae: 71.1102 - val_loss: 40288.8516 - val_mae: 56.2840\n",
      "Epoch 147/500\n",
      "1112/1112 [==============================] - 5s 5ms/step - loss: 78095.9297 - mae: 75.4680 - val_loss: 40386.5312 - val_mae: 63.3241\n",
      "Epoch 148/500\n",
      "1112/1112 [==============================] - 6s 5ms/step - loss: 96502.6016 - mae: 82.8618 - val_loss: 107839.8516 - val_mae: 92.0999\n",
      "Epoch 149/500\n",
      "1112/1112 [==============================] - 6s 5ms/step - loss: 64919.6406 - mae: 66.4159 - val_loss: 434153.6562 - val_mae: 183.3918\n",
      "Epoch 150/500\n",
      "1112/1112 [==============================] - 6s 5ms/step - loss: 105453.8984 - mae: 79.9350 - val_loss: 174096.8594 - val_mae: 122.4362\n",
      "Epoch 151/500\n",
      "1112/1112 [==============================] - 6s 5ms/step - loss: 65378.2305 - mae: 70.8492 - val_loss: 72817.5234 - val_mae: 77.3427\n",
      "Epoch 152/500\n",
      "1112/1112 [==============================] - 6s 5ms/step - loss: 72550.2266 - mae: 73.0181 - val_loss: 47937.7344 - val_mae: 62.8697\n",
      "Epoch 153/500\n",
      "1112/1112 [==============================] - 6s 6ms/step - loss: 71488.6094 - mae: 72.1968 - val_loss: 133989.3281 - val_mae: 104.8488\n",
      "Epoch 154/500\n",
      "1112/1112 [==============================] - 8s 7ms/step - loss: 85146.6328 - mae: 80.2916 - val_loss: 49487.1484 - val_mae: 56.7578\n",
      "Epoch 155/500\n",
      "1112/1112 [==============================] - 7s 6ms/step - loss: 90307.3828 - mae: 79.3133 - val_loss: 56823.1055 - val_mae: 69.2801\n",
      "Epoch 156/500\n",
      "1112/1112 [==============================] - 7s 6ms/step - loss: 69463.1250 - mae: 69.6753 - val_loss: 47611.2500 - val_mae: 54.8913\n",
      "Epoch 157/500\n",
      "1112/1112 [==============================] - 6s 5ms/step - loss: 73536.0391 - mae: 70.6943 - val_loss: 80806.2266 - val_mae: 82.3204\n",
      "Epoch 158/500\n",
      "1112/1112 [==============================] - 6s 5ms/step - loss: 76652.7109 - mae: 75.4399 - val_loss: 57041.2734 - val_mae: 67.1265\n",
      "Epoch 159/500\n",
      "1112/1112 [==============================] - 6s 5ms/step - loss: 85520.3828 - mae: 76.0206 - val_loss: 251801.3438 - val_mae: 165.6567\n",
      "Epoch 160/500\n",
      "1112/1112 [==============================] - 6s 5ms/step - loss: 116469.7344 - mae: 85.2607 - val_loss: 77807.8828 - val_mae: 62.9831\n",
      "Epoch 161/500\n",
      "1112/1112 [==============================] - 5s 5ms/step - loss: 79636.5156 - mae: 74.9240 - val_loss: 222526.0625 - val_mae: 127.9507\n",
      "Epoch 162/500\n",
      "1112/1112 [==============================] - 6s 6ms/step - loss: 78444.9219 - mae: 72.9716 - val_loss: 90397.4219 - val_mae: 78.8628\n",
      "Epoch 163/500\n",
      "1112/1112 [==============================] - 6s 5ms/step - loss: 76180.1406 - mae: 71.5659 - val_loss: 87014.9609 - val_mae: 86.6268\n",
      "Epoch 164/500\n",
      "1112/1112 [==============================] - 5s 5ms/step - loss: 89995.5547 - mae: 79.6223 - val_loss: 109225.8359 - val_mae: 102.2895\n",
      "Epoch 165/500\n",
      "1112/1112 [==============================] - 6s 5ms/step - loss: 78149.5312 - mae: 73.7571 - val_loss: 44351.0117 - val_mae: 62.7129\n",
      "Epoch 166/500\n",
      "1112/1112 [==============================] - 6s 5ms/step - loss: 84691.8281 - mae: 77.6547 - val_loss: 76766.3438 - val_mae: 75.0363\n",
      "Epoch 167/500\n",
      "1112/1112 [==============================] - 5s 5ms/step - loss: 90195.3984 - mae: 79.9279 - val_loss: 81943.3203 - val_mae: 84.4748\n",
      "Epoch 168/500\n",
      "1112/1112 [==============================] - 6s 5ms/step - loss: 70907.4375 - mae: 69.2310 - val_loss: 54208.1914 - val_mae: 66.3328\n",
      "Epoch 169/500\n",
      "1112/1112 [==============================] - 6s 5ms/step - loss: 68511.1562 - mae: 71.8659 - val_loss: 24547.5078 - val_mae: 42.4824\n",
      "Epoch 170/500\n",
      "1112/1112 [==============================] - 5s 5ms/step - loss: 102746.8281 - mae: 85.8356 - val_loss: 50428.5430 - val_mae: 65.4999\n",
      "Epoch 171/500\n",
      "1112/1112 [==============================] - 7s 6ms/step - loss: 111248.3516 - mae: 85.2348 - val_loss: 58119.0273 - val_mae: 60.6992\n",
      "Epoch 172/500\n",
      "1112/1112 [==============================] - 6s 5ms/step - loss: 80455.8203 - mae: 75.2913 - val_loss: 113196.6016 - val_mae: 91.2304\n",
      "Epoch 173/500\n",
      "1112/1112 [==============================] - 6s 5ms/step - loss: 71646.0625 - mae: 69.9857 - val_loss: 34136.1328 - val_mae: 53.8289\n",
      "Epoch 174/500\n",
      "1112/1112 [==============================] - 6s 5ms/step - loss: 79831.6875 - mae: 74.3862 - val_loss: 188425.4531 - val_mae: 120.5075\n",
      "Epoch 175/500\n",
      "1112/1112 [==============================] - 6s 5ms/step - loss: 75601.3203 - mae: 72.7198 - val_loss: 59118.9805 - val_mae: 69.9646\n",
      "Epoch 176/500\n",
      "1112/1112 [==============================] - 5s 5ms/step - loss: 69408.3359 - mae: 69.0290 - val_loss: 78784.1016 - val_mae: 69.9107\n",
      "Epoch 177/500\n",
      "1112/1112 [==============================] - 6s 5ms/step - loss: 81200.1719 - mae: 73.0489 - val_loss: 50903.2812 - val_mae: 57.0482\n",
      "Epoch 178/500\n",
      "1112/1112 [==============================] - 5s 5ms/step - loss: 82898.4766 - mae: 77.8072 - val_loss: 37105.0586 - val_mae: 55.2045\n",
      "Epoch 179/500\n",
      "1112/1112 [==============================] - 6s 5ms/step - loss: 82707.8594 - mae: 74.9090 - val_loss: 26427.1504 - val_mae: 46.9981\n",
      "Epoch 180/500\n",
      "1112/1112 [==============================] - 7s 7ms/step - loss: 88314.3828 - mae: 75.9892 - val_loss: 47285.4922 - val_mae: 64.9414\n",
      "Epoch 181/500\n",
      "1112/1112 [==============================] - 6s 5ms/step - loss: 100594.0938 - mae: 75.6032 - val_loss: 39137.9297 - val_mae: 52.4728\n",
      "Epoch 182/500\n",
      "1112/1112 [==============================] - 6s 5ms/step - loss: 84840.4531 - mae: 76.4670 - val_loss: 67892.0625 - val_mae: 70.3335\n",
      "Epoch 183/500\n",
      "1112/1112 [==============================] - 6s 5ms/step - loss: 82693.5312 - mae: 75.6663 - val_loss: 42646.2617 - val_mae: 61.3666\n",
      "Epoch 184/500\n",
      "1112/1112 [==============================] - 5s 5ms/step - loss: 71071.7500 - mae: 68.3929 - val_loss: 75944.8828 - val_mae: 81.2001\n",
      "Epoch 185/500\n",
      "1112/1112 [==============================] - 5s 5ms/step - loss: 84078.7578 - mae: 74.4491 - val_loss: 67641.8281 - val_mae: 71.5893\n",
      "Epoch 186/500\n",
      "1112/1112 [==============================] - 5s 5ms/step - loss: 71076.0781 - mae: 68.0954 - val_loss: 50272.4961 - val_mae: 61.7309\n",
      "Epoch 187/500\n",
      "1112/1112 [==============================] - 5s 5ms/step - loss: 75800.6094 - mae: 72.7401 - val_loss: 55537.3242 - val_mae: 56.2252\n",
      "Epoch 188/500\n",
      "1112/1112 [==============================] - 6s 5ms/step - loss: 84249.7656 - mae: 74.2515 - val_loss: 39412.2695 - val_mae: 54.7962\n",
      "Epoch 189/500\n",
      "1112/1112 [==============================] - 7s 6ms/step - loss: 65069.4258 - mae: 66.5024 - val_loss: 94929.2578 - val_mae: 81.2763\n",
      "Epoch 190/500\n",
      "1112/1112 [==============================] - 6s 5ms/step - loss: 74372.2266 - mae: 73.1406 - val_loss: 39139.8203 - val_mae: 56.3570\n",
      "Epoch 191/500\n",
      "1112/1112 [==============================] - 6s 5ms/step - loss: 70925.7266 - mae: 69.3502 - val_loss: 59601.3516 - val_mae: 62.8741\n",
      "Epoch 192/500\n",
      "1112/1112 [==============================] - 6s 5ms/step - loss: 64191.3398 - mae: 67.7587 - val_loss: 111020.5547 - val_mae: 84.7739\n",
      "Epoch 193/500\n",
      "1112/1112 [==============================] - 6s 6ms/step - loss: 69304.7656 - mae: 70.5148 - val_loss: 52192.1680 - val_mae: 61.0833\n",
      "Epoch 194/500\n",
      "1112/1112 [==============================] - 6s 5ms/step - loss: 77694.6562 - mae: 69.7203 - val_loss: 64023.9844 - val_mae: 86.5721\n",
      "Epoch 195/500\n",
      "1112/1112 [==============================] - 6s 5ms/step - loss: 66880.9453 - mae: 69.1841 - val_loss: 35225.0547 - val_mae: 60.5753\n",
      "Epoch 196/500\n",
      "1112/1112 [==============================] - 6s 6ms/step - loss: 102084.7578 - mae: 81.7928 - val_loss: 52236.7305 - val_mae: 62.4290\n",
      "Epoch 197/500\n",
      "1112/1112 [==============================] - 7s 6ms/step - loss: 72452.1094 - mae: 71.0724 - val_loss: 75476.4453 - val_mae: 63.7261\n",
      "Epoch 198/500\n",
      "1112/1112 [==============================] - 6s 5ms/step - loss: 89515.2969 - mae: 77.7973 - val_loss: 244756.9688 - val_mae: 127.5243\n",
      "Epoch 199/500\n",
      "1112/1112 [==============================] - 6s 5ms/step - loss: 74920.3906 - mae: 71.9160 - val_loss: 91400.1875 - val_mae: 90.6321\n",
      "Epoch 200/500\n",
      "1112/1112 [==============================] - 6s 5ms/step - loss: 55558.4492 - mae: 62.7580 - val_loss: 34935.9492 - val_mae: 50.6057\n",
      "Epoch 201/500\n",
      "1112/1112 [==============================] - 6s 5ms/step - loss: 78192.0000 - mae: 72.7325 - val_loss: 23648.0801 - val_mae: 43.7839\n",
      "Epoch 202/500\n",
      "1112/1112 [==============================] - 6s 5ms/step - loss: 70247.7422 - mae: 69.4709 - val_loss: 50141.9453 - val_mae: 67.7579\n",
      "Epoch 203/500\n",
      "1112/1112 [==============================] - 6s 5ms/step - loss: 73803.9609 - mae: 70.3906 - val_loss: 46348.3828 - val_mae: 59.4548\n",
      "Epoch 204/500\n",
      "1112/1112 [==============================] - 6s 5ms/step - loss: 70748.7500 - mae: 70.4477 - val_loss: 262863.1250 - val_mae: 119.7522\n",
      "Epoch 205/500\n",
      "1112/1112 [==============================] - 6s 5ms/step - loss: 74099.8906 - mae: 71.3454 - val_loss: 39131.8320 - val_mae: 52.6381\n",
      "Epoch 206/500\n",
      "1112/1112 [==============================] - 6s 6ms/step - loss: 67855.1797 - mae: 67.8503 - val_loss: 25515.6348 - val_mae: 46.0747\n",
      "Epoch 207/500\n",
      "1112/1112 [==============================] - 6s 5ms/step - loss: 80098.0859 - mae: 71.7463 - val_loss: 108605.2500 - val_mae: 83.5422\n",
      "Epoch 208/500\n",
      "1112/1112 [==============================] - 6s 5ms/step - loss: 75214.8125 - mae: 69.3137 - val_loss: 45739.0430 - val_mae: 61.1555\n",
      "Epoch 209/500\n",
      "1112/1112 [==============================] - 6s 5ms/step - loss: 65205.4062 - mae: 68.7376 - val_loss: 31387.9277 - val_mae: 49.8751\n",
      "Epoch 210/500\n",
      "1112/1112 [==============================] - 6s 5ms/step - loss: 79744.9531 - mae: 72.5420 - val_loss: 52105.2266 - val_mae: 59.7994\n",
      "Epoch 211/500\n",
      "1112/1112 [==============================] - 6s 5ms/step - loss: 81620.4297 - mae: 74.4860 - val_loss: 95301.1875 - val_mae: 67.4274\n",
      "Epoch 212/500\n",
      "1112/1112 [==============================] - 6s 5ms/step - loss: 89946.2812 - mae: 77.0162 - val_loss: 64772.6367 - val_mae: 63.7042\n",
      "Epoch 213/500\n",
      "1112/1112 [==============================] - 5s 5ms/step - loss: 70938.1875 - mae: 70.0635 - val_loss: 53925.5352 - val_mae: 70.6363\n",
      "Epoch 214/500\n",
      "1112/1112 [==============================] - 6s 5ms/step - loss: 70540.7109 - mae: 68.7564 - val_loss: 36975.2266 - val_mae: 48.4399\n",
      "Epoch 215/500\n",
      "1112/1112 [==============================] - 7s 6ms/step - loss: 74326.8125 - mae: 68.9745 - val_loss: 64315.5078 - val_mae: 60.8609\n",
      "Epoch 216/500\n",
      "1112/1112 [==============================] - 6s 5ms/step - loss: 58438.4375 - mae: 61.3433 - val_loss: 312790.4688 - val_mae: 135.1988\n",
      "Epoch 217/500\n",
      "1112/1112 [==============================] - 6s 5ms/step - loss: 72390.2656 - mae: 69.9922 - val_loss: 55382.3359 - val_mae: 58.3244\n",
      "Epoch 218/500\n",
      "1112/1112 [==============================] - 6s 5ms/step - loss: 86633.0938 - mae: 76.5278 - val_loss: 43333.6055 - val_mae: 53.6727\n",
      "Epoch 219/500\n",
      "1112/1112 [==============================] - 6s 5ms/step - loss: 82229.4141 - mae: 75.0343 - val_loss: 61291.8086 - val_mae: 60.6673\n",
      "Epoch 220/500\n",
      "1112/1112 [==============================] - 6s 5ms/step - loss: 59037.0664 - mae: 63.6307 - val_loss: 219838.5938 - val_mae: 128.3849\n",
      "Epoch 221/500\n",
      "1112/1112 [==============================] - 6s 5ms/step - loss: 80989.7500 - mae: 73.9714 - val_loss: 30091.5508 - val_mae: 49.5189\n",
      "Epoch 222/500\n",
      "1112/1112 [==============================] - 6s 5ms/step - loss: 79993.0391 - mae: 72.9324 - val_loss: 52354.5977 - val_mae: 59.2001\n",
      "Epoch 223/500\n",
      "1112/1112 [==============================] - 6s 5ms/step - loss: 77453.0781 - mae: 72.6843 - val_loss: 34662.3594 - val_mae: 52.7060\n",
      "Epoch 224/500\n",
      "1112/1112 [==============================] - 7s 7ms/step - loss: 64798.2812 - mae: 64.4649 - val_loss: 95548.3281 - val_mae: 74.7493\n",
      "Epoch 225/500\n",
      "1112/1112 [==============================] - 6s 5ms/step - loss: 76947.6172 - mae: 71.1990 - val_loss: 31587.6055 - val_mae: 46.6140\n",
      "Epoch 226/500\n",
      "1112/1112 [==============================] - 6s 5ms/step - loss: 65452.4688 - mae: 66.3383 - val_loss: 28973.0703 - val_mae: 46.7779\n",
      "Epoch 227/500\n",
      "1112/1112 [==============================] - 6s 5ms/step - loss: 66944.3438 - mae: 66.7479 - val_loss: 65722.8984 - val_mae: 75.2506\n",
      "Epoch 228/500\n",
      "1112/1112 [==============================] - 7s 6ms/step - loss: 71848.4609 - mae: 70.3533 - val_loss: 31524.5938 - val_mae: 43.8681\n",
      "Epoch 229/500\n",
      "1112/1112 [==============================] - 6s 5ms/step - loss: 67966.8516 - mae: 65.8862 - val_loss: 30948.2227 - val_mae: 44.3540\n",
      "Epoch 230/500\n",
      "1112/1112 [==============================] - 6s 5ms/step - loss: 68607.5234 - mae: 66.9340 - val_loss: 35185.1211 - val_mae: 49.5775\n",
      "Epoch 231/500\n",
      "1112/1112 [==============================] - 7s 6ms/step - loss: 69678.3438 - mae: 68.6978 - val_loss: 105282.7031 - val_mae: 91.8354\n",
      "Epoch 232/500\n",
      "1112/1112 [==============================] - 6s 5ms/step - loss: 56579.8359 - mae: 61.5854 - val_loss: 50395.6016 - val_mae: 58.6709\n",
      "Epoch 233/500\n",
      "1112/1112 [==============================] - 6s 5ms/step - loss: 68591.9219 - mae: 67.0257 - val_loss: 25965.0508 - val_mae: 51.4449\n",
      "Epoch 234/500\n",
      "1112/1112 [==============================] - 6s 5ms/step - loss: 71115.6953 - mae: 69.3390 - val_loss: 64858.5391 - val_mae: 78.3365\n",
      "Epoch 235/500\n",
      "1112/1112 [==============================] - 7s 6ms/step - loss: 65582.9297 - mae: 66.9729 - val_loss: 48386.5820 - val_mae: 61.4521\n",
      "Epoch 236/500\n",
      "1112/1112 [==============================] - 6s 5ms/step - loss: 61175.8789 - mae: 64.6325 - val_loss: 44865.9922 - val_mae: 67.6817\n",
      "Epoch 237/500\n",
      "1112/1112 [==============================] - 6s 5ms/step - loss: 69075.2188 - mae: 68.7874 - val_loss: 44410.4492 - val_mae: 56.1856\n",
      "Epoch 238/500\n",
      "1112/1112 [==============================] - 6s 6ms/step - loss: 82988.0234 - mae: 73.7983 - val_loss: 35586.9922 - val_mae: 51.3870\n",
      "Epoch 239/500\n",
      "1112/1112 [==============================] - 6s 5ms/step - loss: 64154.1836 - mae: 64.1338 - val_loss: 61811.7500 - val_mae: 80.1687\n",
      "Epoch 240/500\n",
      "1112/1112 [==============================] - 6s 6ms/step - loss: 67291.5938 - mae: 67.5536 - val_loss: 47460.3008 - val_mae: 67.0146\n",
      "Epoch 241/500\n",
      "1112/1112 [==============================] - 7s 6ms/step - loss: 72976.3359 - mae: 69.0747 - val_loss: 30117.3457 - val_mae: 55.2594\n",
      "Epoch 242/500\n",
      "1112/1112 [==============================] - 7s 6ms/step - loss: 60649.4648 - mae: 65.5225 - val_loss: 264127.4688 - val_mae: 126.7994\n",
      "Epoch 243/500\n",
      "1112/1112 [==============================] - 6s 5ms/step - loss: 69053.7891 - mae: 68.5332 - val_loss: 31179.9531 - val_mae: 53.0187\n",
      "Epoch 244/500\n",
      "1112/1112 [==============================] - 6s 5ms/step - loss: 60949.8203 - mae: 64.1903 - val_loss: 131973.5938 - val_mae: 108.9759\n",
      "Epoch 245/500\n",
      "1112/1112 [==============================] - 7s 6ms/step - loss: 79581.0469 - mae: 71.8092 - val_loss: 45337.2305 - val_mae: 51.1604\n",
      "Epoch 246/500\n",
      "1112/1112 [==============================] - 7s 7ms/step - loss: 72456.7344 - mae: 68.3615 - val_loss: 189418.9531 - val_mae: 107.8245\n",
      "Epoch 247/500\n",
      "1112/1112 [==============================] - 6s 5ms/step - loss: 65636.7734 - mae: 67.0750 - val_loss: 139959.1250 - val_mae: 96.5568\n",
      "Epoch 248/500\n",
      "1112/1112 [==============================] - 6s 5ms/step - loss: 80034.8750 - mae: 71.3174 - val_loss: 85113.3906 - val_mae: 64.3404\n",
      "Epoch 249/500\n",
      "1112/1112 [==============================] - 5s 5ms/step - loss: 59155.1055 - mae: 61.9347 - val_loss: 44623.5664 - val_mae: 61.6053\n",
      "Epoch 250/500\n",
      "1112/1112 [==============================] - 5s 5ms/step - loss: 84622.8672 - mae: 76.1435 - val_loss: 55834.6836 - val_mae: 55.1145\n",
      "Epoch 251/500\n",
      "1112/1112 [==============================] - 7s 7ms/step - loss: 69241.5156 - mae: 67.5486 - val_loss: 96236.5078 - val_mae: 74.2308\n"
     ]
    }
   ],
   "source": [
    "history = ann.fit(X_train, y_train,\n",
    "                    validation_data = (X_val, y_val),\n",
    "                    callbacks=[es],\n",
    "                    epochs=500,\n",
    "                    batch_size=30,\n",
    "                    verbose=1)"
   ]
  },
  {
   "cell_type": "code",
   "execution_count": 22,
   "metadata": {
    "ExecuteTime": {
     "end_time": "2024-08-21T02:34:12.414404200Z",
     "start_time": "2024-08-21T02:34:11.838913500Z"
    }
   },
   "outputs": [
    {
     "data": {
      "text/plain": "<Figure size 600x600 with 1 Axes>",
      "image/png": "[encoded data removed]"
     },
     "metadata": {},
     "output_type": "display_data"
    }
   ],
   "source": [
    "# let's see the training and validation accuracy by epoch\n",
    "history_dict = history.history\n",
    "loss_values = history_dict['loss'] # you can change this\n",
    "val_loss_values = history_dict['val_loss'] # you can also change this\n",
    "epochs = range(1, len(loss_values) + 1) # range of X (no. of epochs)\n",
    "\n",
    "# Set global font to Times New Roman and font size\n",
    "plt.rcParams['font.family'] = 'serif'\n",
    "plt.rcParams['font.serif'] = ['Times New Roman']\n",
    "plt.rcParams['font.size'] = 20\n",
    "\n",
    "# Create a plot\n",
    "plt.figure(figsize=(6, 6))\n",
    "plt.plot(epochs, loss_values, 'blue', label='Train set')\n",
    "plt.plot(epochs, val_loss_values, 'orange', label='Validation set')\n",
    "#plt.title('Training and testing loss')\n",
    "\n",
    "\n",
    "plt.xlabel('Epochs')\n",
    "plt.ylabel('Loss (MSE)')\n",
    "plt.legend()\n",
    "plt.savefig('Section1_ANN2_2.png', dpi=200, bbox_inches='tight')\n",
    "plt.show()"
   ]
  },
  {
   "cell_type": "code",
   "execution_count": 23,
   "metadata": {
    "ExecuteTime": {
     "end_time": "2024-08-21T02:34:12.854945900Z",
     "start_time": "2024-08-21T02:34:12.432934700Z"
    }
   },
   "outputs": [
    {
     "data": {
      "text/plain": "<Figure size 600x600 with 1 Axes>",
      "image/png": "[encoded data removed]"
     },
     "metadata": {},
     "output_type": "display_data"
    }
   ],
   "source": [
    "loss_values1 = history_dict['mae'] # you can change this\n",
    "val_loss_values1 = history_dict['val_mae'] # you can also change this\n",
    "epochs = range(1, len(loss_values1) + 1) # range of X (no. of epochs)\n",
    "# Create a plot\n",
    "plt.figure(figsize=(6, 6))\n",
    "plt.plot(epochs, loss_values1, 'blue', label='Train set')\n",
    "plt.plot(epochs, val_loss_values1, 'orange', label='Validation set')\n",
    "#plt.title('Training and testing MAE')\n",
    "plt.xlabel('Epochs')\n",
    "plt.ylabel('MAE (kPa)')\n",
    "plt.legend()\n",
    "plt.savefig('Section1_ANN2_3.png', dpi=200, bbox_inches='tight')\n",
    "plt.show()"
   ]
  },
  {
   "cell_type": "code",
   "execution_count": 24,
   "metadata": {
    "ExecuteTime": {
     "end_time": "2024-08-21T02:34:14.991856700Z",
     "start_time": "2024-08-21T02:34:12.856944600Z"
    }
   },
   "outputs": [
    {
     "name": "stdout",
     "output_type": "stream",
     "text": [
      "INFO:tensorflow:Assets written to: Section1_new3_ANN_2\\assets\n"
     ]
    }
   ],
   "source": [
    "ann.save('Section1_new3_ANN_2')\n",
    "import pickle\n",
    "pickle.dump(sc, open('Section1_new3_scaler_ANN_2.pkl', 'wb'))"
   ]
  },
  {
   "cell_type": "markdown",
   "metadata": {},
   "source": [
    "## Part 5 - Make predictions"
   ]
  },
  {
   "cell_type": "code",
   "execution_count": 25,
   "metadata": {
    "ExecuteTime": {
     "end_time": "2024-08-21T02:34:22.089886400Z",
     "start_time": "2024-08-21T02:34:15.000860800Z"
    }
   },
   "outputs": [
    {
     "name": "stdout",
     "output_type": "stream",
     "text": [
      "1042/1042 [==============================] - 3s 3ms/step\n",
      "348/348 [==============================] - 2s 4ms/step\n"
     ]
    },
    {
     "data": {
      "text/plain": "<Figure size 640x480 with 2 Axes>",
      "image/png": "[encoded data removed]"
     },
     "metadata": {},
     "output_type": "display_data"
    }
   ],
   "source": [
    "# scatterplot of actual vs. pred\n",
    "# specify the dimensions \n",
    "fig, axes = plt.subplots(1,2) # 1 row, 2 columns\n",
    "\n",
    "# this makes the individual subplots\n",
    "# Training Results\n",
    "axes[0].scatter(x=y_train, y=ann.predict(X_train)) #first row, first entry (left top)\n",
    "axes[0].set_xlabel(\"Actual\", fontsize=20)\n",
    "axes[0].set_ylabel(\"Predicted\",  fontsize=20)\n",
    "axes[0].set_title(\"Training\")\n",
    "# add 45 deg line\n",
    "x = np.linspace(*axes[0].get_xlim())\n",
    "axes[0].plot(x, x, color='red')\n",
    "# Validation Results\n",
    "axes[1].scatter(x=y_val, y=ann.predict(X_val)) # first row, second entry (right top)\n",
    "axes[1].set_xlabel(\"Actual\", fontsize=20)\n",
    "axes[1].set_ylabel(\"Predicted\",  fontsize=20)\n",
    "axes[1].set_title(\"Validation\")\n",
    "# add 45 deg line\n",
    "x = np.linspace(*axes[1].get_xlim())\n",
    "axes[1].plot(x, x, color='red')\n",
    "\n",
    "# tight layout\n",
    "fig.tight_layout()\n",
    "\n",
    "plt.savefig('Section1_ANN2_1.png', dpi=200, bbox_inches='tight')\n",
    "# show the plot\n",
    "plt.show()"
   ]
  },
  {
   "cell_type": "code",
   "execution_count": 26,
   "metadata": {
    "colab": {
     "base_uri": "https://localhost:8080/",
     "height": 134
    },
    "colab_type": "code",
    "id": "IA0yApEmBG1X",
    "outputId": "cb981e1f-9204-4a2a-fece-9d66a6919189",
    "ExecuteTime": {
     "end_time": "2024-08-21T02:34:23.317538300Z",
     "start_time": "2024-08-21T02:34:22.085890400Z"
    }
   },
   "outputs": [
    {
     "name": "stdout",
     "output_type": "stream",
     "text": [
      "348/348 [==============================] - 1s 3ms/step\n",
      "[[ 8.39e+03  8.65e+03]\n",
      " [ 1.41e+02  1.84e+02]\n",
      " [ 5.01e+02  5.02e+02]\n",
      " ...\n",
      " [ 1.16e+00  4.37e+00]\n",
      " [-6.28e+01 -6.46e+01]\n",
      " [ 6.25e+01  7.16e+01]]\n"
     ]
    }
   ],
   "source": [
    "y_pred = ann.predict(X_test)\n",
    "np.set_printoptions(precision=2)\n",
    "print(np.concatenate((y_pred.reshape(len(y_pred),1), y_test.reshape(len(y_test),1)),1))"
   ]
  },
  {
   "cell_type": "code",
   "execution_count": 27,
   "metadata": {
    "ExecuteTime": {
     "end_time": "2024-08-21T02:34:23.608677200Z",
     "start_time": "2024-08-21T02:34:23.315533700Z"
    }
   },
   "outputs": [
    {
     "data": {
      "text/plain": "Text(0, 0.5, 'Predicted data')"
     },
     "execution_count": 27,
     "metadata": {},
     "output_type": "execute_result"
    },
    {
     "data": {
      "text/plain": "<Figure size 640x480 with 1 Axes>",
      "image/png": "[encoded data removed]"
     },
     "metadata": {},
     "output_type": "display_data"
    }
   ],
   "source": [
    "import matplotlib.pyplot as plt\n",
    "plt.scatter(y_test, y_pred, color=\"blue\")\n",
    "plt.xlabel ('Actual data')\n",
    "plt.ylabel ('Predicted data')"
   ]
  },
  {
   "cell_type": "code",
   "execution_count": 36,
   "metadata": {
    "ExecuteTime": {
     "end_time": "2024-08-21T04:10:53.315989300Z",
     "start_time": "2024-08-21T04:10:52.304102600Z"
    }
   },
   "outputs": [
    {
     "data": {
      "text/plain": "<Figure size 600x600 with 1 Axes>",
      "image/png": "[encoded data removed]"
     },
     "metadata": {},
     "output_type": "display_data"
    }
   ],
   "source": [
    "from sklearn.metrics import r2_score\n",
    "# Initialize layout\n",
    "fig1, ax1 = plt.subplots(figsize = (6, 6))\n",
    "\n",
    "# Set global font to Times New Roman and font size\n",
    "plt.rcParams['font.family'] = 'serif'\n",
    "plt.rcParams['font.serif'] = ['Times New Roman']\n",
    "plt.rcParams['font.size'] = 20\n",
    "\n",
    "b_l = -1000\n",
    "u_l = 25000\n",
    "\n",
    "# Add scatterplot\n",
    "ax1.scatter(y_test, y_pred, s=70, alpha=1, edgecolors=\"k\",c='mediumblue',zorder=5, label = 'Points')\n",
    "\n",
    "\n",
    "plt.ylabel('Predicted Reflected Overpressure (kPa)')\n",
    "plt.xlabel('Target Reflected Overpressure (kPa)')\n",
    "plt.xticks(fontsize = 19)\n",
    "plt.yticks(fontsize = 19)\n",
    "\n",
    "\n",
    "x1 = np.linspace(b_l, u_l)\n",
    "\n",
    "plt.plot(x1, x1, 'Red', label='45\\N{DEGREE SIGN} line',lw=2.5,alpha=1)\n",
    "#plt.plot(x1, 1.05*x1, '--m', label='\\u00B15% Error',lw=2.5,alpha=0.7)\n",
    "#plt.plot(x1, 0.95*x1,'m', linestyle='--',lw=2.5,alpha=0.7)\n",
    "#plt.plot(x1, 1.1*x1, '-.g', label='\\u00B110% Error',lw=2.5,alpha=0.7)\n",
    "#plt.plot(x1, 0.9*x1,'-.g',lw=2.5,alpha=0.7)\n",
    "#plt.plot(x1, 1.2*x1, color = '#F97306', linestyle='dotted', label='\\u00B120% Error',lw=2.5,alpha=0.7)\n",
    "#plt.plot(x1, 0.8*x1,color = '#F97306', linestyle='dotted', lw=2.5,alpha=0.7)\n",
    "\n",
    "plt.ylim(b_l, u_l)\n",
    "plt.xlim(b_l, u_l)\n",
    "plt.legend(loc='upper center', bbox_to_anchor=(0.5, -0.15), ncol=4, frameon = False, fontsize = 20)\n",
    "\n",
    "#plt.grid()\n",
    "\n",
    "ax1.spines['left'].set_color('black')        # setting up Y-axis tick color to red\n",
    "ax1.spines['bottom'].set_color('black')         #setting up above X-axis tick color to red\n",
    "\n",
    "plt.savefig('Section1_ANN2.png', dpi=200, bbox_inches='tight')"
   ]
  },
  {
   "cell_type": "code",
   "execution_count": 29,
   "metadata": {
    "ExecuteTime": {
     "end_time": "2024-08-21T02:34:27.453362800Z",
     "start_time": "2024-08-21T02:34:24.369999300Z"
    }
   },
   "outputs": [
    {
     "name": "stdout",
     "output_type": "stream",
     "text": [
      "1042/1042 [==============================] - 3s 2ms/step\n",
      "42.99569055017959\n",
      "41.269159049978406\n"
     ]
    }
   ],
   "source": [
    "# metrics\n",
    "trainpreds = ann.predict(X_train)\n",
    "\n",
    "from sklearn.metrics import mean_absolute_error\n",
    "print(mean_absolute_error(y_train, trainpreds)) # train\n",
    "print(mean_absolute_error(y_test, y_pred)) # test"
   ]
  },
  {
   "cell_type": "code",
   "execution_count": 30,
   "metadata": {
    "ExecuteTime": {
     "end_time": "2024-08-21T02:34:27.472889800Z",
     "start_time": "2024-08-21T02:34:27.456881300Z"
    }
   },
   "outputs": [
    {
     "name": "stdout",
     "output_type": "stream",
     "text": [
      "0.9933954344075077\n"
     ]
    }
   ],
   "source": [
    "from sklearn.metrics import r2_score\n",
    "r2 = r2_score(y_test, y_pred)\n",
    "print (r2)"
   ]
  },
  {
   "cell_type": "code",
   "execution_count": 31,
   "metadata": {
    "ExecuteTime": {
     "end_time": "2024-08-21T02:34:27.612000800Z",
     "start_time": "2024-08-21T02:34:27.468878800Z"
    }
   },
   "outputs": [
    {
     "name": "stdout",
     "output_type": "stream",
     "text": [
      "0.9945374134403758\n"
     ]
    }
   ],
   "source": [
    "r2_train = r2_score(y_train, trainpreds)\n",
    "print (r2_train)"
   ]
  },
  {
   "cell_type": "code",
   "execution_count": 32,
   "metadata": {
    "ExecuteTime": {
     "end_time": "2024-08-21T02:34:28.519475200Z",
     "start_time": "2024-08-21T02:34:27.611001200Z"
    }
   },
   "outputs": [
    {
     "name": "stdout",
     "output_type": "stream",
     "text": [
      "Within 5% margin 22.27%\n",
      "Within 10% margin 36.37%\n",
      "Within 20% margin 46.70%\n",
      "Out of 20% margin 53.30%\n"
     ]
    }
   ],
   "source": [
    "count0 = 0\n",
    "for i in range(len(y_pred)):\n",
    "    line1 = y_pred[i] - 0.95*y_test[i]\n",
    "    line2 = y_pred[i] - 1.05*y_test[i]\n",
    "    mask0 = (line1 > 0) & (line2 < 0)\n",
    "    count0 = np.sum(mask0+count0)\n",
    "\n",
    "count1 = 0\n",
    "for i in range(len(y_pred)):\n",
    "    line1 = y_pred[i] - 0.9*y_test[i]\n",
    "    line2 = y_pred[i] - 1.1*y_test[i]\n",
    "    mask1 = (line1 > 0) & (line2 < 0)\n",
    "    count1 = np.sum(mask1+count1)\n",
    "\n",
    "count2 = 0\n",
    "for j in range(len(y_pred)):\n",
    "    line3 = y_pred[j] - 0.8*y_test[j]\n",
    "    line4 = y_pred[j] - 1.2*y_test[j]\n",
    "    mask2 = (line3 > 0) & (line4 < 0)\n",
    "    count2 = np.sum(mask2+count2)\n",
    "\n",
    "\n",
    "count3 = 0    \n",
    "for k in range(len(y_pred)):\n",
    "    line5 = y_pred[k] - 0.8*y_test[k]\n",
    "    line6 = y_pred[k] - 1.2*y_test[k]\n",
    "    mask3 = (line5 < 0) or (line6 > 0)\n",
    "    count3 = np.sum(mask3+count3)\n",
    "   \n",
    "\n",
    "print ('Within 5% margin', format((count0/len (y_pred)),'.2%'))\n",
    "print ('Within 10% margin', format((count1/len (y_pred)),'.2%'))\n",
    "print ('Within 20% margin', format((count2/len (y_pred)),'.2%'))\n",
    "print ('Out of 20% margin', format((count3/len (y_pred)),'.2%'))"
   ]
  },
  {
   "cell_type": "code",
   "execution_count": 33,
   "metadata": {
    "ExecuteTime": {
     "end_time": "2024-08-21T02:34:28.528474600Z",
     "start_time": "2024-08-21T02:34:28.508947500Z"
    }
   },
   "outputs": [
    {
     "name": "stdout",
     "output_type": "stream",
     "text": [
      "0.9933918659794523\n"
     ]
    }
   ],
   "source": [
    "adj_r2 = 1 - ((1 - r2) * (len(X_test) - 1) / (len(X_test) - len (X_test[0]) - 1))\n",
    "print (adj_r2)"
   ]
  },
  {
   "cell_type": "code",
   "execution_count": 34,
   "metadata": {
    "ExecuteTime": {
     "end_time": "2024-08-21T02:34:28.665613600Z",
     "start_time": "2024-08-21T02:34:28.524475300Z"
    }
   },
   "outputs": [
    {
     "data": {
      "text/plain": "155.132326106678"
     },
     "execution_count": 34,
     "metadata": {},
     "output_type": "execute_result"
    }
   ],
   "source": [
    "import math\n",
    "from sklearn.metrics import mean_squared_error\n",
    "\n",
    "math.sqrt(mean_squared_error(y_test, y_pred))"
   ]
  },
  {
   "cell_type": "code",
   "execution_count": 35,
   "metadata": {
    "ExecuteTime": {
     "end_time": "2024-08-21T02:34:28.812330900Z",
     "start_time": "2024-08-21T02:34:28.662605400Z"
    }
   },
   "outputs": [
    {
     "data": {
      "text/plain": "41.269159049978406"
     },
     "execution_count": 35,
     "metadata": {},
     "output_type": "execute_result"
    }
   ],
   "source": [
    "from sklearn.metrics import mean_absolute_error\n",
    "\n",
    "mean_absolute_error(y_test, y_pred)"
   ]
  }
 ],
 "metadata": {
  "colab": {
   "collapsed_sections": [],
   "name": "Artificial Neural Network",
   "provenance": [],
   "toc_visible": true
  },
  "kernelspec": {
   "display_name": "Python 3 (ipykernel)",
   "language": "python",
   "name": "python3"
  },
  "language_info": {
   "codemirror_mode": {
    "name": "ipython",
    "version": 3
   },
   "file_extension": ".py",
   "mimetype": "text/x-python",
   "name": "python",
   "nbconvert_exporter": "python",
   "pygments_lexer": "ipython3",
   "version": "3.9.7"
  }
 },
 "nbformat": 4,
 "nbformat_minor": 4
}
