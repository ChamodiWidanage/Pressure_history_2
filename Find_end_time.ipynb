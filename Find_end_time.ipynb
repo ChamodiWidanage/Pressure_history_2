{
 "cells": [
  {
   "cell_type": "markdown",
   "id": "0cede545-4538-436d-ba77-972de1fa7975",
   "metadata": {},
   "source": [
    "## Import libraries"
   ]
  },
  {
   "cell_type": "code",
   "execution_count": 1,
   "id": "78da2ab4-3f82-47e7-9d10-099751b818c1",
   "metadata": {
    "tags": []
   },
   "outputs": [],
   "source": [
    "from pathlib import Path\n",
    "import pandas as pd\n",
    "import openpyxl\n",
    "import math"
   ]
  },
  {
   "cell_type": "markdown",
   "id": "92befdc2-149d-4f98-b26f-65c30b125eb1",
   "metadata": {},
   "source": [
    "## Access input and output directories "
   ]
  },
  {
   "cell_type": "code",
   "execution_count": 10,
   "id": "61c443fd-8ad5-48b9-bd4f-f3fe8292403c",
   "metadata": {},
   "outputs": [
    {
     "name": "stdout",
     "output_type": "stream",
     "text": [
      "1 L13\n",
      "2 [WindowsPath('L13/L13_11')]\n"
     ]
    }
   ],
   "source": [
    "#Access input folder\n",
    "input_dir1 = Path (\"L13\")\n",
    "print (\"1\",input_dir1)\n",
    "\n",
    "#Access folders inside input folder\n",
    "input_dir2 =  [folder for folder in input_dir1.iterdir() if folder.is_dir()]\n",
    "print (\"2\",input_dir2)"
   ]
  },
  {
   "cell_type": "markdown",
   "id": "77800102-e0f9-400a-96d5-c50b8e77a274",
   "metadata": {},
   "source": [
    "## Filtering end time"
   ]
  },
  {
   "cell_type": "code",
   "execution_count": 15,
   "id": "f2f1a6a0-a6bf-43c1-a72f-27abacfe8fb7",
   "metadata": {},
   "outputs": [
    {
     "name": "stdout",
     "output_type": "stream",
     "text": [
      "folder L13\\L13_11\n",
      "P41\n",
      "Min_time 0.0638197288 <class 'float'>\n",
      "<class 'float'>\n",
      "Min_time_row initial 2\n",
      "Time > Min_time 0.06382983923\n",
      "Min_time_row after loop 6385\n",
      "End_pressure 101200.03906\n",
      "End_time1 0.079479932785\n",
      "P45\n",
      "Min_time 0.0698999017 <class 'float'>\n",
      "<class 'float'>\n",
      "Min_time_row initial 2\n",
      "Time > Min_time 0.069899901748\n",
      "Min_time_row after loop 6992\n",
      "End_pressure 101200.28906\n",
      "End_time1 0.085469774902\n",
      "P49\n",
      "Min_time 0.0759799108 <class 'float'>\n",
      "<class 'float'>\n",
      "Min_time_row initial 2\n",
      "Time > Min_time 0.075989700854\n",
      "Min_time_row after loop 7601\n",
      "End_pressure 101200.19531\n",
      "End_time1 0.091449938715\n",
      "P53\n",
      "Min_time 0.1156698763 <class 'float'>\n",
      "<class 'float'>\n",
      "Min_time into the loop 0.1156698763\n",
      "Min_index resulted from the loop 8205\n",
      "Min_time resulted from the loop 0.082049928606\n",
      "Min_time_row initial 2\n",
      "Time > Min_time 0.082059718668\n",
      "Min_time_row after loop 8208\n",
      "End_pressure 101200.08594\n",
      "End_time1 0.09742987901\n",
      "P57\n",
      "Min_time 0.109539859 <class 'float'>\n",
      "<class 'float'>\n",
      "Min_time into the loop 0.109539859\n",
      "Min_index resulted from the loop 8811\n",
      "Min_time resulted from the loop 0.088109955192\n",
      "Min_time_row initial 2\n",
      "Time > Min_time 0.088119745255\n",
      "Min_time_row after loop 8814\n",
      "End_pressure 101200.19531\n",
      "End_time1 0.10341972858\n",
      "P59\n",
      "Min_time 0.1064698249 <class 'float'>\n",
      "<class 'float'>\n",
      "Min_time into the loop 0.1064698249\n",
      "Min_index resulted from the loop 9114\n",
      "Min_time resulted from the loop 0.091139689088\n",
      "Min_time_row initial 2\n",
      "Time > Min_time 0.091149799526\n",
      "Min_time_row after loop 9117\n",
      "End_time2 0.10401969403\n",
      "~$P1\n"
     ]
    },
    {
     "ename": "BadZipFile",
     "evalue": "File is not a zip file",
     "output_type": "error",
     "traceback": [
      "\u001b[1;31m---------------------------------------------------------------------------\u001b[0m",
      "\u001b[1;31mBadZipFile\u001b[0m                                Traceback (most recent call last)",
      "\u001b[1;32m~\\AppData\\Local\\Temp\\ipykernel_20632\\1555408926.py\u001b[0m in \u001b[0;36m<module>\u001b[1;34m\u001b[0m\n\u001b[0;32m     11\u001b[0m         \u001b[0mprint\u001b[0m \u001b[1;33m(\u001b[0m\u001b[0mfile\u001b[0m\u001b[1;33m.\u001b[0m\u001b[0mstem\u001b[0m\u001b[1;33m)\u001b[0m\u001b[1;33m\u001b[0m\u001b[1;33m\u001b[0m\u001b[0m\n\u001b[0;32m     12\u001b[0m \u001b[1;33m\u001b[0m\u001b[0m\n\u001b[1;32m---> 13\u001b[1;33m         \u001b[0mwrkbk\u001b[0m \u001b[1;33m=\u001b[0m \u001b[0mopenpyxl\u001b[0m\u001b[1;33m.\u001b[0m\u001b[0mload_workbook\u001b[0m\u001b[1;33m(\u001b[0m\u001b[0mfile\u001b[0m\u001b[1;33m)\u001b[0m\u001b[1;33m\u001b[0m\u001b[1;33m\u001b[0m\u001b[0m\n\u001b[0m\u001b[0;32m     14\u001b[0m         \u001b[0msh\u001b[0m \u001b[1;33m=\u001b[0m \u001b[0mwrkbk\u001b[0m\u001b[1;33m.\u001b[0m\u001b[0mactive\u001b[0m\u001b[1;33m\u001b[0m\u001b[1;33m\u001b[0m\u001b[0m\n\u001b[0;32m     15\u001b[0m \u001b[1;33m\u001b[0m\u001b[0m\n",
      "\u001b[1;32m~\\anaconda3\\lib\\site-packages\\openpyxl\\reader\\excel.py\u001b[0m in \u001b[0;36mload_workbook\u001b[1;34m(filename, read_only, keep_vba, data_only, keep_links)\u001b[0m\n\u001b[0;32m    313\u001b[0m \u001b[1;33m\u001b[0m\u001b[0m\n\u001b[0;32m    314\u001b[0m     \"\"\"\n\u001b[1;32m--> 315\u001b[1;33m     reader = ExcelReader(filename, read_only, keep_vba,\n\u001b[0m\u001b[0;32m    316\u001b[0m                         data_only, keep_links)\n\u001b[0;32m    317\u001b[0m     \u001b[0mreader\u001b[0m\u001b[1;33m.\u001b[0m\u001b[0mread\u001b[0m\u001b[1;33m(\u001b[0m\u001b[1;33m)\u001b[0m\u001b[1;33m\u001b[0m\u001b[1;33m\u001b[0m\u001b[0m\n",
      "\u001b[1;32m~\\anaconda3\\lib\\site-packages\\openpyxl\\reader\\excel.py\u001b[0m in \u001b[0;36m__init__\u001b[1;34m(self, fn, read_only, keep_vba, data_only, keep_links)\u001b[0m\n\u001b[0;32m    122\u001b[0m     def __init__(self,  fn, read_only=False, keep_vba=KEEP_VBA,\n\u001b[0;32m    123\u001b[0m                   data_only=False, keep_links=True):\n\u001b[1;32m--> 124\u001b[1;33m         \u001b[0mself\u001b[0m\u001b[1;33m.\u001b[0m\u001b[0marchive\u001b[0m \u001b[1;33m=\u001b[0m \u001b[0m_validate_archive\u001b[0m\u001b[1;33m(\u001b[0m\u001b[0mfn\u001b[0m\u001b[1;33m)\u001b[0m\u001b[1;33m\u001b[0m\u001b[1;33m\u001b[0m\u001b[0m\n\u001b[0m\u001b[0;32m    125\u001b[0m         \u001b[0mself\u001b[0m\u001b[1;33m.\u001b[0m\u001b[0mvalid_files\u001b[0m \u001b[1;33m=\u001b[0m \u001b[0mself\u001b[0m\u001b[1;33m.\u001b[0m\u001b[0marchive\u001b[0m\u001b[1;33m.\u001b[0m\u001b[0mnamelist\u001b[0m\u001b[1;33m(\u001b[0m\u001b[1;33m)\u001b[0m\u001b[1;33m\u001b[0m\u001b[1;33m\u001b[0m\u001b[0m\n\u001b[0;32m    126\u001b[0m         \u001b[0mself\u001b[0m\u001b[1;33m.\u001b[0m\u001b[0mread_only\u001b[0m \u001b[1;33m=\u001b[0m \u001b[0mread_only\u001b[0m\u001b[1;33m\u001b[0m\u001b[1;33m\u001b[0m\u001b[0m\n",
      "\u001b[1;32m~\\anaconda3\\lib\\site-packages\\openpyxl\\reader\\excel.py\u001b[0m in \u001b[0;36m_validate_archive\u001b[1;34m(filename)\u001b[0m\n\u001b[0;32m     94\u001b[0m             \u001b[1;32mraise\u001b[0m \u001b[0mInvalidFileException\u001b[0m\u001b[1;33m(\u001b[0m\u001b[0mmsg\u001b[0m\u001b[1;33m)\u001b[0m\u001b[1;33m\u001b[0m\u001b[1;33m\u001b[0m\u001b[0m\n\u001b[0;32m     95\u001b[0m \u001b[1;33m\u001b[0m\u001b[0m\n\u001b[1;32m---> 96\u001b[1;33m     \u001b[0marchive\u001b[0m \u001b[1;33m=\u001b[0m \u001b[0mZipFile\u001b[0m\u001b[1;33m(\u001b[0m\u001b[0mfilename\u001b[0m\u001b[1;33m,\u001b[0m \u001b[1;34m'r'\u001b[0m\u001b[1;33m)\u001b[0m\u001b[1;33m\u001b[0m\u001b[1;33m\u001b[0m\u001b[0m\n\u001b[0m\u001b[0;32m     97\u001b[0m     \u001b[1;32mreturn\u001b[0m \u001b[0marchive\u001b[0m\u001b[1;33m\u001b[0m\u001b[1;33m\u001b[0m\u001b[0m\n\u001b[0;32m     98\u001b[0m \u001b[1;33m\u001b[0m\u001b[0m\n",
      "\u001b[1;32m~\\anaconda3\\lib\\zipfile.py\u001b[0m in \u001b[0;36m__init__\u001b[1;34m(self, file, mode, compression, allowZip64, compresslevel, strict_timestamps)\u001b[0m\n\u001b[0;32m   1255\u001b[0m         \u001b[1;32mtry\u001b[0m\u001b[1;33m:\u001b[0m\u001b[1;33m\u001b[0m\u001b[1;33m\u001b[0m\u001b[0m\n\u001b[0;32m   1256\u001b[0m             \u001b[1;32mif\u001b[0m \u001b[0mmode\u001b[0m \u001b[1;33m==\u001b[0m \u001b[1;34m'r'\u001b[0m\u001b[1;33m:\u001b[0m\u001b[1;33m\u001b[0m\u001b[1;33m\u001b[0m\u001b[0m\n\u001b[1;32m-> 1257\u001b[1;33m                 \u001b[0mself\u001b[0m\u001b[1;33m.\u001b[0m\u001b[0m_RealGetContents\u001b[0m\u001b[1;33m(\u001b[0m\u001b[1;33m)\u001b[0m\u001b[1;33m\u001b[0m\u001b[1;33m\u001b[0m\u001b[0m\n\u001b[0m\u001b[0;32m   1258\u001b[0m             \u001b[1;32melif\u001b[0m \u001b[0mmode\u001b[0m \u001b[1;32min\u001b[0m \u001b[1;33m(\u001b[0m\u001b[1;34m'w'\u001b[0m\u001b[1;33m,\u001b[0m \u001b[1;34m'x'\u001b[0m\u001b[1;33m)\u001b[0m\u001b[1;33m:\u001b[0m\u001b[1;33m\u001b[0m\u001b[1;33m\u001b[0m\u001b[0m\n\u001b[0;32m   1259\u001b[0m                 \u001b[1;31m# set the modified flag so central directory gets written\u001b[0m\u001b[1;33m\u001b[0m\u001b[1;33m\u001b[0m\u001b[0m\n",
      "\u001b[1;32m~\\anaconda3\\lib\\zipfile.py\u001b[0m in \u001b[0;36m_RealGetContents\u001b[1;34m(self)\u001b[0m\n\u001b[0;32m   1322\u001b[0m             \u001b[1;32mraise\u001b[0m \u001b[0mBadZipFile\u001b[0m\u001b[1;33m(\u001b[0m\u001b[1;34m\"File is not a zip file\"\u001b[0m\u001b[1;33m)\u001b[0m\u001b[1;33m\u001b[0m\u001b[1;33m\u001b[0m\u001b[0m\n\u001b[0;32m   1323\u001b[0m         \u001b[1;32mif\u001b[0m \u001b[1;32mnot\u001b[0m \u001b[0mendrec\u001b[0m\u001b[1;33m:\u001b[0m\u001b[1;33m\u001b[0m\u001b[1;33m\u001b[0m\u001b[0m\n\u001b[1;32m-> 1324\u001b[1;33m             \u001b[1;32mraise\u001b[0m \u001b[0mBadZipFile\u001b[0m\u001b[1;33m(\u001b[0m\u001b[1;34m\"File is not a zip file\"\u001b[0m\u001b[1;33m)\u001b[0m\u001b[1;33m\u001b[0m\u001b[1;33m\u001b[0m\u001b[0m\n\u001b[0m\u001b[0;32m   1325\u001b[0m         \u001b[1;32mif\u001b[0m \u001b[0mself\u001b[0m\u001b[1;33m.\u001b[0m\u001b[0mdebug\u001b[0m \u001b[1;33m>\u001b[0m \u001b[1;36m1\u001b[0m\u001b[1;33m:\u001b[0m\u001b[1;33m\u001b[0m\u001b[1;33m\u001b[0m\u001b[0m\n\u001b[0;32m   1326\u001b[0m             \u001b[0mprint\u001b[0m\u001b[1;33m(\u001b[0m\u001b[0mendrec\u001b[0m\u001b[1;33m)\u001b[0m\u001b[1;33m\u001b[0m\u001b[1;33m\u001b[0m\u001b[0m\n",
      "\u001b[1;31mBadZipFile\u001b[0m: File is not a zip file"
     ]
    }
   ],
   "source": [
    "# Access each folder inside input folder\n",
    "df = pd.DataFrame(columns = ['Charge_mass', 'Standoff_distance', 'End_time'])\n",
    "for folder in input_dir2:\n",
    "    print (\"folder\", folder)\n",
    "    charge_mass = int(folder.stem[4:])/2\n",
    "    \n",
    "    # Make a list of data file names\n",
    "    files = list(folder.rglob(\"*.xlsx\"))\n",
    "    \n",
    "    for file in files:\n",
    "        print (file.stem)\n",
    "        \n",
    "        wrkbk = openpyxl.load_workbook(file)\n",
    "        sh = wrkbk.active\n",
    "        \n",
    "        Min_time = sh.cell(row = 2, column = 3).value\n",
    "        print (\"Min_time\", Min_time, type(Min_time))\n",
    "        print (type(0.104))\n",
    "        \n",
    "        if Min_time > 0.104:\n",
    "            print (\"Min_time into the loop\", Min_time)\n",
    "            pressure_values = [cell.value for cell in sh[\"B\"]][1:]\n",
    "            Min_pressure = min(pressure_values)\n",
    "            Min_index = pressure_values.index(Min_pressure)\n",
    "            \n",
    "            print (\"Min_index resulted from the loop\", Min_index)\n",
    "            Min_time = sh.cell(row = Min_index+2, column = 1).value\n",
    "            print (\"Min_time resulted from the loop\", Min_time)\n",
    "            \n",
    "        Min_time_row = 2\n",
    "        print (\"Min_time_row initial\", Min_time_row)\n",
    "        \n",
    "        stand_dis = math.ceil(int(file.stem[1:])/2)\n",
    "        \n",
    "        # iterate through excel and display data\n",
    "        for i in range(2, sh.max_row+1):\n",
    "            Time = sh.cell (row = i, column = 1)\n",
    "            #print (\"Time.value\", Time.value)\n",
    "            #print (\"Min_time\", Min_time.value)\n",
    "            if Time.value > Min_time:\n",
    "                print (\"Time > Min_time\", Time.value)\n",
    "                Min_time_row = i\n",
    "                #print (\"Min_time_row\", i)\n",
    "                break\n",
    "        print (\"Min_time_row after loop\", i)       \n",
    "        for j in range(Min_time_row, sh.max_row+1):\n",
    "            #print (j)\n",
    "            cell_pressure = sh.cell (row = j, column = 2)\n",
    "            #print (type(cell_pressure.value))\n",
    "            #print (cell_pressure.value)\n",
    "            if float(cell_pressure.value) > 101200:\n",
    "                print (\"End_pressure\", cell_pressure.value)\n",
    "                cell_time = sh.cell (row = j, column = 1)\n",
    "                print (\"End_time1\", cell_time.value)\n",
    "                \n",
    "                # append rows to an empty DataFrame\n",
    "                new_row = {'Charge_mass' : [charge_mass], 'Standoff_distance' : [stand_dis], 'End_time' : [cell_time.value]}\n",
    "                new_row_data = pd.DataFrame(new_row)\n",
    "                df = pd.concat([df, new_row_data], ignore_index = True)\n",
    "                break\n",
    "            if j == sh.max_row:\n",
    "                cell_time = sh.cell (row = j, column = 1)\n",
    "                print (\"End_time2\", cell_time.value)\n",
    "                \n",
    "                # append rows to an empty DataFrame\n",
    "                new_row = {'Charge_mass' : [charge_mass], 'Standoff_distance' : [stand_dis], 'End_time' : [cell_time.value]}\n",
    "                new_row_data = pd.DataFrame(new_row)\n",
    "                df = pd.concat([df, new_row_data], ignore_index = True)\n"
   ]
  },
  {
   "cell_type": "code",
   "execution_count": 16,
   "id": "d5b52bdf-ccdd-4387-b989-0c265e057eba",
   "metadata": {},
   "outputs": [
    {
     "name": "stdout",
     "output_type": "stream",
     "text": [
      "   Charge_mass Standoff_distance  End_time\n",
      "0          5.5                21   0.07948\n",
      "1          5.5                23   0.08547\n",
      "2          5.5                25   0.09145\n",
      "3          5.5                27   0.09743\n",
      "4          5.5                29   0.10342\n",
      "5          5.5                30   0.10402\n"
     ]
    }
   ],
   "source": [
    "print (df.head(20))"
   ]
  },
  {
   "cell_type": "code",
   "execution_count": 8,
   "id": "47ae476c-9c31-4625-8b43-199f8eaf3bc5",
   "metadata": {},
   "outputs": [],
   "source": [
    "df1 = df.drop(labels = 0, axis = \"index\")"
   ]
  },
  {
   "cell_type": "code",
   "execution_count": 9,
   "id": "609ed6ef-b1a3-4f68-81c5-b3a9b822cf5d",
   "metadata": {},
   "outputs": [
    {
     "name": "stdout",
     "output_type": "stream",
     "text": [
      "   Charge_type Charge_mass  Standoff_distance  Time_of_arrival\n",
      "1        CompB           3                1.0         0.000375\n",
      "2        CompB           3                2.0         0.001405\n",
      "3        CompB           3                3.0         0.003120\n",
      "4        CompB           3                4.0         0.005276\n",
      "5        CompB           3                6.0         0.010240\n",
      "6        CompB           3                7.0         0.012896\n",
      "7        CompB           3                8.0         0.015620\n",
      "8        CompB           3                9.0         0.018391\n",
      "9        CompB           3               10.0         0.021200\n",
      "10       CompB           3               13.0         0.029774\n",
      "11       CompB           3               14.0         0.032667\n",
      "12       CompB           3               15.0         0.035572\n"
     ]
    }
   ],
   "source": [
    "print (df1)"
   ]
  },
  {
   "cell_type": "code",
   "execution_count": 7,
   "id": "7d3b8383-2c16-4800-8f98-1a6e273920a4",
   "metadata": {},
   "outputs": [],
   "source": [
    "with pd.ExcelWriter('End_time.xlsx', engine = \"openpyxl\", mode='a', if_sheet_exists='replace') as writer:  \n",
    "    df.to_excel(writer, sheet_name = \"Sheet1\", index = False, header = True)"
   ]
  },
  {
   "cell_type": "code",
   "execution_count": 7,
   "id": "007816f4-cce2-4866-90ea-e09a31003593",
   "metadata": {},
   "outputs": [
    {
     "name": "stdout",
     "output_type": "stream",
     "text": [
      "4.0\n"
     ]
    }
   ],
   "source": [
    "print (int(file.stem[1:])/2)"
   ]
  }
 ],
 "metadata": {
  "kernelspec": {
   "display_name": "Python 3 (ipykernel)",
   "language": "python",
   "name": "python3"
  },
  "language_info": {
   "codemirror_mode": {
    "name": "ipython",
    "version": 3
   },
   "file_extension": ".py",
   "mimetype": "text/x-python",
   "name": "python",
   "nbconvert_exporter": "python",
   "pygments_lexer": "ipython3",
   "version": "3.9.7"
  }
 },
 "nbformat": 4,
 "nbformat_minor": 5
}
