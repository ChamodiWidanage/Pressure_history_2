{
 "cells": [
  {
   "cell_type": "markdown",
   "metadata": {
    "colab_type": "text",
    "id": "3cbb7fRy-eyr"
   },
   "source": [
    "# Artificial Neural Network"
   ]
  },
  {
   "cell_type": "markdown",
   "metadata": {
    "colab_type": "text",
    "id": "8sNDnxE2-pwE"
   },
   "source": [
    "## Part 1 - Importing the libraries"
   ]
  },
  {
   "cell_type": "code",
   "execution_count": 1,
   "metadata": {
    "colab": {},
    "colab_type": "code",
    "id": "lxChR1Rk-umf",
    "ExecuteTime": {
     "end_time": "2024-08-11T06:15:08.940711600Z",
     "start_time": "2024-08-11T06:15:03.530514900Z"
    }
   },
   "outputs": [],
   "source": [
    "import numpy as np\n",
    "import pandas as pd\n",
    "import tensorflow as tf\n",
    "import matplotlib.pyplot as plt\n",
    "from keras.models import load_model\n",
    "from pathlib import Path\n",
    "import pickle"
   ]
  },
  {
   "cell_type": "markdown",
   "metadata": {
    "colab_type": "text",
    "id": "AG3FQEch-yuA"
   },
   "source": [
    "## Part 2 - Data Preprocessing"
   ]
  },
  {
   "cell_type": "code",
   "execution_count": 2,
   "metadata": {
    "ExecuteTime": {
     "end_time": "2024-08-11T06:15:08.974268100Z",
     "start_time": "2024-08-11T06:15:08.944719200Z"
    }
   },
   "outputs": [
    {
     "name": "stdout",
     "output_type": "stream",
     "text": [
      "input G:\\Chamodi\\LSDYNA3D\\RP_TH_models\\RP_Section_5_new\n",
      "2 [WindowsPath('G:/Chamodi/LSDYNA3D/RP_TH_models/RP_Section_5_new/RP_curves_fr19m'), WindowsPath('G:/Chamodi/LSDYNA3D/RP_TH_models/RP_Section_5_new/RP_curves_fr21m'), WindowsPath('G:/Chamodi/LSDYNA3D/RP_TH_models/RP_Section_5_new/RP_curves_fr23m'), WindowsPath('G:/Chamodi/LSDYNA3D/RP_TH_models/RP_Section_5_new/RP_curves_fr25m')]\n"
     ]
    }
   ],
   "source": [
    "#Access input folder\n",
    "current_dir = Path.cwd()\n",
    "input_dir1 = Path (\"G:/Chamodi/LSDYNA3D/RP_TH_models/RP_Section_5_new\")\n",
    "print (\"input\",input_dir1)\n",
    "\n",
    "#Access folders inside input folder\n",
    "input_dir2=  [folder1 for folder1 in input_dir1.iterdir() if folder1.is_dir()] # folder1 - RP_curves_fr7m\n",
    "print (\"2\",input_dir2)"
   ]
  },
  {
   "cell_type": "code",
   "execution_count": 3,
   "metadata": {
    "ExecuteTime": {
     "end_time": "2024-08-11T06:15:17.240362200Z",
     "start_time": "2024-08-11T06:15:08.960222Z"
    }
   },
   "outputs": [
    {
     "name": "stdout",
     "output_type": "stream",
     "text": [
      "folder G:\\Chamodi\\LSDYNA3D\\RP_TH_models\\RP_Section_5_new\\RP_curves_fr19m\\19m00.5kg\n",
      "1.xlsx\n",
      "2.xlsx\n",
      "3.xlsx\n",
      "4.xlsx\n",
      "folder G:\\Chamodi\\LSDYNA3D\\RP_TH_models\\RP_Section_5_new\\RP_curves_fr19m\\19m02.5kg\n",
      "1.xlsx\n",
      "2.xlsx\n",
      "3.xlsx\n",
      "4.xlsx\n",
      "folder G:\\Chamodi\\LSDYNA3D\\RP_TH_models\\RP_Section_5_new\\RP_curves_fr19m\\19m04.5kg\n",
      "1.xlsx\n",
      "2.xlsx\n",
      "3.xlsx\n",
      "4.xlsx\n",
      "folder G:\\Chamodi\\LSDYNA3D\\RP_TH_models\\RP_Section_5_new\\RP_curves_fr19m\\19m06.5kg\n",
      "1.xlsx\n",
      "2.xlsx\n",
      "3.xlsx\n",
      "4.xlsx\n",
      "folder G:\\Chamodi\\LSDYNA3D\\RP_TH_models\\RP_Section_5_new\\RP_curves_fr19m\\19m08.5kg\n",
      "1.xlsx\n",
      "2.xlsx\n",
      "3.xlsx\n",
      "4.xlsx\n",
      "folder G:\\Chamodi\\LSDYNA3D\\RP_TH_models\\RP_Section_5_new\\RP_curves_fr19m\\19m10.5kg\n",
      "1.xlsx\n",
      "2.xlsx\n",
      "3.xlsx\n",
      "4.xlsx\n",
      "folder G:\\Chamodi\\LSDYNA3D\\RP_TH_models\\RP_Section_5_new\\RP_curves_fr19m\\19m12.5kg\n",
      "1.xlsx\n",
      "2.xlsx\n",
      "3.xlsx\n",
      "4.xlsx\n",
      "folder G:\\Chamodi\\LSDYNA3D\\RP_TH_models\\RP_Section_5_new\\RP_curves_fr19m\\19m14.5kg\n",
      "1.xlsx\n",
      "2.xlsx\n",
      "3.xlsx\n",
      "4.xlsx\n",
      "folder G:\\Chamodi\\LSDYNA3D\\RP_TH_models\\RP_Section_5_new\\RP_curves_fr19m\\19m16.5kg\n",
      "1.xlsx\n",
      "2.xlsx\n",
      "3.xlsx\n",
      "4.xlsx\n",
      "folder G:\\Chamodi\\LSDYNA3D\\RP_TH_models\\RP_Section_5_new\\RP_curves_fr19m\\19m18.5kg\n",
      "1.xlsx\n",
      "2.xlsx\n",
      "3.xlsx\n",
      "4.xlsx\n",
      "folder G:\\Chamodi\\LSDYNA3D\\RP_TH_models\\RP_Section_5_new\\RP_curves_fr19m\\19m20.5kg\n",
      "1.xlsx\n",
      "2.xlsx\n",
      "3.xlsx\n",
      "4.xlsx\n",
      "folder G:\\Chamodi\\LSDYNA3D\\RP_TH_models\\RP_Section_5_new\\RP_curves_fr19m\\19m22.5kg\n",
      "1.xlsx\n",
      "2.xlsx\n",
      "3.xlsx\n",
      "4.xlsx\n",
      "folder G:\\Chamodi\\LSDYNA3D\\RP_TH_models\\RP_Section_5_new\\RP_curves_fr19m\\19m24.5kg\n",
      "1.xlsx\n",
      "2.xlsx\n",
      "3.xlsx\n",
      "4.xlsx\n",
      "folder G:\\Chamodi\\LSDYNA3D\\RP_TH_models\\RP_Section_5_new\\RP_curves_fr19m\\19m26.5kg\n",
      "1.xlsx\n",
      "2.xlsx\n",
      "3.xlsx\n",
      "4.xlsx\n",
      "folder G:\\Chamodi\\LSDYNA3D\\RP_TH_models\\RP_Section_5_new\\RP_curves_fr19m\\19m28.5kg\n",
      "1.xlsx\n",
      "2.xlsx\n",
      "3.xlsx\n",
      "4.xlsx\n",
      "folder G:\\Chamodi\\LSDYNA3D\\RP_TH_models\\RP_Section_5_new\\RP_curves_fr19m\\19m30.5kg\n",
      "1.xlsx\n",
      "2.xlsx\n",
      "3.xlsx\n",
      "4.xlsx\n",
      "folder G:\\Chamodi\\LSDYNA3D\\RP_TH_models\\RP_Section_5_new\\RP_curves_fr19m\\19m32.5kg\n",
      "1.xlsx\n",
      "2.xlsx\n",
      "3.xlsx\n",
      "4.xlsx\n",
      "folder G:\\Chamodi\\LSDYNA3D\\RP_TH_models\\RP_Section_5_new\\RP_curves_fr19m\\19m34.5kg\n",
      "1.xlsx\n",
      "2.xlsx\n",
      "3.xlsx\n",
      "4.xlsx\n",
      "folder G:\\Chamodi\\LSDYNA3D\\RP_TH_models\\RP_Section_5_new\\RP_curves_fr19m\\19m35.0kg\n",
      "1.xlsx\n",
      "2.xlsx\n",
      "3.xlsx\n",
      "4.xlsx\n",
      "folder G:\\Chamodi\\LSDYNA3D\\RP_TH_models\\RP_Section_5_new\\RP_curves_fr21m\\21m00.5kg\n",
      "1.xlsx\n",
      "2.xlsx\n",
      "3.xlsx\n",
      "folder G:\\Chamodi\\LSDYNA3D\\RP_TH_models\\RP_Section_5_new\\RP_curves_fr21m\\21m02.5kg\n",
      "1.xlsx\n",
      "2.xlsx\n",
      "3.xlsx\n",
      "4.xlsx\n",
      "folder G:\\Chamodi\\LSDYNA3D\\RP_TH_models\\RP_Section_5_new\\RP_curves_fr21m\\21m04.5kg\n",
      "1.xlsx\n",
      "2.xlsx\n",
      "3.xlsx\n",
      "4.xlsx\n",
      "folder G:\\Chamodi\\LSDYNA3D\\RP_TH_models\\RP_Section_5_new\\RP_curves_fr21m\\21m06.5kg\n",
      "1.xlsx\n",
      "2.xlsx\n",
      "3.xlsx\n",
      "4.xlsx\n",
      "folder G:\\Chamodi\\LSDYNA3D\\RP_TH_models\\RP_Section_5_new\\RP_curves_fr21m\\21m08.5kg\n",
      "1.xlsx\n",
      "2.xlsx\n",
      "3.xlsx\n",
      "4.xlsx\n",
      "folder G:\\Chamodi\\LSDYNA3D\\RP_TH_models\\RP_Section_5_new\\RP_curves_fr21m\\21m10.5kg\n",
      "1.xlsx\n",
      "2.xlsx\n",
      "3.xlsx\n",
      "4.xlsx\n",
      "folder G:\\Chamodi\\LSDYNA3D\\RP_TH_models\\RP_Section_5_new\\RP_curves_fr21m\\21m12.5kg\n",
      "1.xlsx\n",
      "2.xlsx\n",
      "3.xlsx\n",
      "4.xlsx\n",
      "folder G:\\Chamodi\\LSDYNA3D\\RP_TH_models\\RP_Section_5_new\\RP_curves_fr21m\\21m14.5kg\n",
      "1.xlsx\n",
      "2.xlsx\n",
      "3.xlsx\n",
      "4.xlsx\n",
      "folder G:\\Chamodi\\LSDYNA3D\\RP_TH_models\\RP_Section_5_new\\RP_curves_fr21m\\21m16.5kg\n",
      "1.xlsx\n",
      "2.xlsx\n",
      "3.xlsx\n",
      "4.xlsx\n",
      "folder G:\\Chamodi\\LSDYNA3D\\RP_TH_models\\RP_Section_5_new\\RP_curves_fr21m\\21m18.5kg\n",
      "1.xlsx\n",
      "2.xlsx\n",
      "3.xlsx\n",
      "4.xlsx\n",
      "folder G:\\Chamodi\\LSDYNA3D\\RP_TH_models\\RP_Section_5_new\\RP_curves_fr21m\\21m20.5kg\n",
      "1.xlsx\n",
      "2.xlsx\n",
      "3.xlsx\n",
      "4.xlsx\n",
      "folder G:\\Chamodi\\LSDYNA3D\\RP_TH_models\\RP_Section_5_new\\RP_curves_fr21m\\21m22.5kg\n",
      "1.xlsx\n",
      "2.xlsx\n",
      "3.xlsx\n",
      "4.xlsx\n",
      "folder G:\\Chamodi\\LSDYNA3D\\RP_TH_models\\RP_Section_5_new\\RP_curves_fr21m\\21m24.5kg\n",
      "1.xlsx\n",
      "2.xlsx\n",
      "3.xlsx\n",
      "4.xlsx\n",
      "folder G:\\Chamodi\\LSDYNA3D\\RP_TH_models\\RP_Section_5_new\\RP_curves_fr21m\\21m26.5kg\n",
      "1.xlsx\n",
      "2.xlsx\n",
      "3.xlsx\n",
      "4.xlsx\n",
      "folder G:\\Chamodi\\LSDYNA3D\\RP_TH_models\\RP_Section_5_new\\RP_curves_fr21m\\21m28.5kg\n",
      "1.xlsx\n",
      "2.xlsx\n",
      "3.xlsx\n",
      "4.xlsx\n",
      "folder G:\\Chamodi\\LSDYNA3D\\RP_TH_models\\RP_Section_5_new\\RP_curves_fr21m\\21m30.5kg\n",
      "1.xlsx\n",
      "2.xlsx\n",
      "3.xlsx\n",
      "4.xlsx\n",
      "folder G:\\Chamodi\\LSDYNA3D\\RP_TH_models\\RP_Section_5_new\\RP_curves_fr21m\\21m32.5kg\n",
      "1.xlsx\n",
      "2.xlsx\n",
      "3.xlsx\n",
      "4.xlsx\n",
      "folder G:\\Chamodi\\LSDYNA3D\\RP_TH_models\\RP_Section_5_new\\RP_curves_fr21m\\21m34.5kg\n",
      "1.xlsx\n",
      "2.xlsx\n",
      "3.xlsx\n",
      "4.xlsx\n",
      "folder G:\\Chamodi\\LSDYNA3D\\RP_TH_models\\RP_Section_5_new\\RP_curves_fr21m\\21m35.0kg\n",
      "1.xlsx\n",
      "2.xlsx\n",
      "3.xlsx\n",
      "4.xlsx\n",
      "folder G:\\Chamodi\\LSDYNA3D\\RP_TH_models\\RP_Section_5_new\\RP_curves_fr23m\\23m00.5kg\n",
      "1.xlsx\n",
      "2.xlsx\n",
      "3.xlsx\n",
      "folder G:\\Chamodi\\LSDYNA3D\\RP_TH_models\\RP_Section_5_new\\RP_curves_fr23m\\23m02.5kg\n",
      "1.xlsx\n",
      "2.xlsx\n",
      "3.xlsx\n",
      "4.xlsx\n",
      "folder G:\\Chamodi\\LSDYNA3D\\RP_TH_models\\RP_Section_5_new\\RP_curves_fr23m\\23m04.5kg\n",
      "1.xlsx\n",
      "2.xlsx\n",
      "3.xlsx\n",
      "4.xlsx\n",
      "folder G:\\Chamodi\\LSDYNA3D\\RP_TH_models\\RP_Section_5_new\\RP_curves_fr23m\\23m06.5kg\n",
      "1.xlsx\n",
      "2.xlsx\n",
      "3.xlsx\n",
      "4.xlsx\n",
      "folder G:\\Chamodi\\LSDYNA3D\\RP_TH_models\\RP_Section_5_new\\RP_curves_fr23m\\23m08.5kg\n",
      "1.xlsx\n",
      "2.xlsx\n",
      "3.xlsx\n",
      "4.xlsx\n",
      "folder G:\\Chamodi\\LSDYNA3D\\RP_TH_models\\RP_Section_5_new\\RP_curves_fr23m\\23m10.5kg\n",
      "1.xlsx\n",
      "2.xlsx\n",
      "3.xlsx\n",
      "4.xlsx\n",
      "folder G:\\Chamodi\\LSDYNA3D\\RP_TH_models\\RP_Section_5_new\\RP_curves_fr23m\\23m12.5kg\n",
      "1.xlsx\n",
      "2.xlsx\n",
      "3.xlsx\n",
      "4.xlsx\n",
      "folder G:\\Chamodi\\LSDYNA3D\\RP_TH_models\\RP_Section_5_new\\RP_curves_fr23m\\23m14.5kg\n",
      "1.xlsx\n",
      "2.xlsx\n",
      "3.xlsx\n",
      "4.xlsx\n",
      "folder G:\\Chamodi\\LSDYNA3D\\RP_TH_models\\RP_Section_5_new\\RP_curves_fr23m\\23m16.5kg\n",
      "1.xlsx\n",
      "2.xlsx\n",
      "3.xlsx\n",
      "4.xlsx\n",
      "folder G:\\Chamodi\\LSDYNA3D\\RP_TH_models\\RP_Section_5_new\\RP_curves_fr23m\\23m18.5kg\n",
      "1.xlsx\n",
      "2.xlsx\n",
      "3.xlsx\n",
      "4.xlsx\n",
      "folder G:\\Chamodi\\LSDYNA3D\\RP_TH_models\\RP_Section_5_new\\RP_curves_fr23m\\23m20.5kg\n",
      "1.xlsx\n",
      "2.xlsx\n",
      "3.xlsx\n",
      "4.xlsx\n",
      "folder G:\\Chamodi\\LSDYNA3D\\RP_TH_models\\RP_Section_5_new\\RP_curves_fr23m\\23m22.5kg\n",
      "1.xlsx\n",
      "2.xlsx\n",
      "3.xlsx\n",
      "4.xlsx\n",
      "folder G:\\Chamodi\\LSDYNA3D\\RP_TH_models\\RP_Section_5_new\\RP_curves_fr23m\\23m24.5kg\n",
      "1.xlsx\n",
      "2.xlsx\n",
      "3.xlsx\n",
      "4.xlsx\n",
      "folder G:\\Chamodi\\LSDYNA3D\\RP_TH_models\\RP_Section_5_new\\RP_curves_fr23m\\23m26.5kg\n",
      "1.xlsx\n",
      "2.xlsx\n",
      "3.xlsx\n",
      "4.xlsx\n",
      "folder G:\\Chamodi\\LSDYNA3D\\RP_TH_models\\RP_Section_5_new\\RP_curves_fr23m\\23m28.5kg\n",
      "1.xlsx\n",
      "2.xlsx\n",
      "3.xlsx\n",
      "4.xlsx\n",
      "folder G:\\Chamodi\\LSDYNA3D\\RP_TH_models\\RP_Section_5_new\\RP_curves_fr23m\\23m30.5kg\n",
      "1.xlsx\n",
      "2.xlsx\n",
      "3.xlsx\n",
      "4.xlsx\n",
      "folder G:\\Chamodi\\LSDYNA3D\\RP_TH_models\\RP_Section_5_new\\RP_curves_fr23m\\23m32.5kg\n",
      "1.xlsx\n",
      "2.xlsx\n",
      "3.xlsx\n",
      "4.xlsx\n",
      "folder G:\\Chamodi\\LSDYNA3D\\RP_TH_models\\RP_Section_5_new\\RP_curves_fr23m\\23m34.5kg\n",
      "1.xlsx\n",
      "2.xlsx\n",
      "3.xlsx\n",
      "4.xlsx\n",
      "folder G:\\Chamodi\\LSDYNA3D\\RP_TH_models\\RP_Section_5_new\\RP_curves_fr23m\\23m35.0kg\n",
      "1.xlsx\n",
      "2.xlsx\n",
      "3.xlsx\n",
      "4.xlsx\n",
      "folder G:\\Chamodi\\LSDYNA3D\\RP_TH_models\\RP_Section_5_new\\RP_curves_fr25m\\25m00.5kg\n",
      "1.xlsx\n",
      "2.xlsx\n",
      "3.xlsx\n",
      "4.xlsx\n",
      "folder G:\\Chamodi\\LSDYNA3D\\RP_TH_models\\RP_Section_5_new\\RP_curves_fr25m\\25m02.5kg\n",
      "1.xlsx\n",
      "2.xlsx\n",
      "3.xlsx\n",
      "4.xlsx\n",
      "folder G:\\Chamodi\\LSDYNA3D\\RP_TH_models\\RP_Section_5_new\\RP_curves_fr25m\\25m04.5kg\n",
      "1.xlsx\n",
      "2.xlsx\n",
      "3.xlsx\n",
      "4.xlsx\n",
      "folder G:\\Chamodi\\LSDYNA3D\\RP_TH_models\\RP_Section_5_new\\RP_curves_fr25m\\25m06.5kg\n",
      "1.xlsx\n",
      "2.xlsx\n",
      "3.xlsx\n",
      "4.xlsx\n",
      "folder G:\\Chamodi\\LSDYNA3D\\RP_TH_models\\RP_Section_5_new\\RP_curves_fr25m\\25m08.5kg\n",
      "1.xlsx\n",
      "2.xlsx\n",
      "3.xlsx\n",
      "4.xlsx\n",
      "folder G:\\Chamodi\\LSDYNA3D\\RP_TH_models\\RP_Section_5_new\\RP_curves_fr25m\\25m10.5kg\n",
      "1.xlsx\n",
      "2.xlsx\n",
      "3.xlsx\n",
      "4.xlsx\n",
      "folder G:\\Chamodi\\LSDYNA3D\\RP_TH_models\\RP_Section_5_new\\RP_curves_fr25m\\25m12.5kg\n",
      "1.xlsx\n",
      "2.xlsx\n",
      "3.xlsx\n",
      "4.xlsx\n",
      "folder G:\\Chamodi\\LSDYNA3D\\RP_TH_models\\RP_Section_5_new\\RP_curves_fr25m\\25m14.5kg\n",
      "1.xlsx\n",
      "2.xlsx\n",
      "3.xlsx\n",
      "4.xlsx\n",
      "folder G:\\Chamodi\\LSDYNA3D\\RP_TH_models\\RP_Section_5_new\\RP_curves_fr25m\\25m16.5kg\n",
      "2.xlsx\n",
      "3.xlsx\n",
      "4.xlsx\n",
      "folder G:\\Chamodi\\LSDYNA3D\\RP_TH_models\\RP_Section_5_new\\RP_curves_fr25m\\25m18.5kg\n",
      "1.xlsx\n",
      "2.xlsx\n",
      "3.xlsx\n",
      "4.xlsx\n",
      "folder G:\\Chamodi\\LSDYNA3D\\RP_TH_models\\RP_Section_5_new\\RP_curves_fr25m\\25m20.5kg\n",
      "1.xlsx\n",
      "2.xlsx\n",
      "3.xlsx\n",
      "4.xlsx\n",
      "folder G:\\Chamodi\\LSDYNA3D\\RP_TH_models\\RP_Section_5_new\\RP_curves_fr25m\\25m22.5kg\n",
      "1.xlsx\n",
      "2.xlsx\n",
      "3.xlsx\n",
      "4.xlsx\n",
      "folder G:\\Chamodi\\LSDYNA3D\\RP_TH_models\\RP_Section_5_new\\RP_curves_fr25m\\25m24.5kg\n",
      "1.xlsx\n",
      "2.xlsx\n",
      "3.xlsx\n",
      "4.xlsx\n",
      "folder G:\\Chamodi\\LSDYNA3D\\RP_TH_models\\RP_Section_5_new\\RP_curves_fr25m\\25m26.5kg\n",
      "1.xlsx\n",
      "2.xlsx\n",
      "3.xlsx\n",
      "4.xlsx\n",
      "folder G:\\Chamodi\\LSDYNA3D\\RP_TH_models\\RP_Section_5_new\\RP_curves_fr25m\\25m28.5kg\n",
      "1.xlsx\n",
      "2.xlsx\n",
      "3.xlsx\n",
      "4.xlsx\n",
      "folder G:\\Chamodi\\LSDYNA3D\\RP_TH_models\\RP_Section_5_new\\RP_curves_fr25m\\25m30.5kg\n",
      "1.xlsx\n",
      "2.xlsx\n",
      "3.xlsx\n",
      "4.xlsx\n",
      "folder G:\\Chamodi\\LSDYNA3D\\RP_TH_models\\RP_Section_5_new\\RP_curves_fr25m\\25m32.5kg\n",
      "1.xlsx\n",
      "2.xlsx\n",
      "3.xlsx\n",
      "4.xlsx\n",
      "folder G:\\Chamodi\\LSDYNA3D\\RP_TH_models\\RP_Section_5_new\\RP_curves_fr25m\\25m34.5kg\n",
      "1.xlsx\n",
      "2.xlsx\n",
      "3.xlsx\n",
      "4.xlsx\n",
      "folder G:\\Chamodi\\LSDYNA3D\\RP_TH_models\\RP_Section_5_new\\RP_curves_fr25m\\25m35.0kg\n",
      "1.xlsx\n",
      "2.xlsx\n",
      "3.xlsx\n",
      "4.xlsx\n"
     ]
    }
   ],
   "source": [
    "#dataset = pd.DataFrame(columns = ['Charge_mass', 'Standoff_distance', 'Time', 'Pressure', 'Phase'])\n",
    "df_list = []\n",
    "\n",
    "for folder1 in input_dir2:\n",
    "    \n",
    "    input_dir3 =  [folder2 for folder2 in folder1.iterdir() if folder2.is_dir()] # folder2 - 07m00.5kg\n",
    "    \n",
    "    for folder2 in input_dir3:\n",
    "        \n",
    "        print ('folder', folder2)\n",
    "        files1 = [file1 for file1 in folder2.rglob(\"*.xlsx\")]\n",
    "    \n",
    "        for file1 in files1:\n",
    "            df_list.append(pd.read_excel(file1))\n",
    "            print (file1.stem)\n",
    "    \n",
    "dataset = pd.concat(df_list, ignore_index = True)"
   ]
  },
  {
   "cell_type": "code",
   "execution_count": 4,
   "metadata": {
    "colab": {},
    "colab_type": "code",
    "id": "B9CV13Co_HHM",
    "ExecuteTime": {
     "end_time": "2024-08-11T06:15:17.297063200Z",
     "start_time": "2024-08-11T06:15:17.226129300Z"
    }
   },
   "outputs": [
    {
     "name": "stdout",
     "output_type": "stream",
     "text": [
      "<class 'pandas.core.frame.DataFrame'>\n",
      "RangeIndex: 39531 entries, 0 to 39530\n",
      "Data columns (total 6 columns):\n",
      " #   Column             Non-Null Count  Dtype  \n",
      "---  ------             --------------  -----  \n",
      " 0   Mass               39531 non-null  float64\n",
      " 1   Standoff distance  39531 non-null  int64  \n",
      " 2   Angle              39531 non-null  int64  \n",
      " 3   Time               39531 non-null  float64\n",
      " 4   Phase              39531 non-null  object \n",
      " 5   Pressure           39531 non-null  float64\n",
      "dtypes: float64(3), int64(2), object(1)\n",
      "memory usage: 1.8+ MB\n"
     ]
    }
   ],
   "source": [
    "dataset.info()"
   ]
  },
  {
   "cell_type": "code",
   "execution_count": 5,
   "outputs": [
    {
     "name": "stdout",
     "output_type": "stream",
     "text": [
      "<class 'pandas.core.frame.DataFrame'>\n",
      "RangeIndex: 39531 entries, 0 to 39530\n",
      "Data columns (total 7 columns):\n",
      " #   Column             Non-Null Count  Dtype  \n",
      "---  ------             --------------  -----  \n",
      " 0   Mass               39531 non-null  float64\n",
      " 1   Standoff distance  39531 non-null  int64  \n",
      " 2   Angle              39531 non-null  int64  \n",
      " 3   Time               39531 non-null  float64\n",
      " 4   Pressure           39531 non-null  float64\n",
      " 5   Phase_negative     39531 non-null  uint8  \n",
      " 6   Phase_positive     39531 non-null  uint8  \n",
      "dtypes: float64(3), int64(2), uint8(2)\n",
      "memory usage: 1.6 MB\n"
     ]
    }
   ],
   "source": [
    "# Assuming your original column is named 'Category'\n",
    "dataset['Phase'] = dataset['Phase'].replace({'negative_increasing': 'negative', 'negative_decreasing': 'negative'})\n",
    "dataset = pd.get_dummies(dataset, columns =['Phase'], dtype = np.uint8)\n",
    "dataset.info()"
   ],
   "metadata": {
    "collapsed": false,
    "ExecuteTime": {
     "end_time": "2024-08-11T06:15:17.497903700Z",
     "start_time": "2024-08-11T06:15:17.266536100Z"
    }
   }
  },
  {
   "cell_type": "code",
   "execution_count": 6,
   "outputs": [
    {
     "data": {
      "text/plain": "    Mass  Standoff distance  Angle       Time  Pressure  Phase_negative  \\\n0    0.5                 19      0  49.855396  6.390461               0   \n1    0.5                 19      0  49.891703  6.357195               0   \n2    0.5                 19      0  49.928006  6.095211               0   \n3    0.5                 19      0  49.964305  5.671938               0   \n4    0.5                 19      0  50.036952  4.682539               0   \n5    0.5                 19      0  50.073268  4.263273               0   \n6    0.5                 19      0  50.109584  3.927648               0   \n7    0.5                 19      0  50.145893  3.658039               0   \n8    0.5                 19      0  50.182205  3.403523               0   \n9    0.5                 19      0  50.218540  3.115602               0   \n10   0.5                 19      0  50.291188  2.455523               0   \n11   0.5                 19      0  50.327514  2.182898               0   \n12   0.5                 19      0  50.363867  2.011883               0   \n13   0.5                 19      0  50.400196  1.915555               0   \n14   0.5                 19      0  50.436529  1.851156               0   \n15   0.5                 19      0  50.472865  1.769711               0   \n16   0.5                 19      0  50.509222  1.627008               0   \n17   0.5                 19      0  50.581906  1.242523               0   \n18   0.5                 19      0  50.618247  1.096813               0   \n19   0.5                 19      0  50.654594  1.021570               0   \n20   0.5                 19      0  50.727290  0.969500               0   \n21   0.5                 19      0  50.763645  0.912992               0   \n22   0.5                 19      0  50.800000  0.840875               0   \n23   0.5                 19      0  50.836359  0.780398               0   \n24   0.5                 19      0  50.872717  0.783500               0   \n25   0.5                 19      0  50.909084  0.804117               0   \n26   0.5                 19      0  50.945444  0.818750               0   \n27   0.5                 19      0  50.981811  0.793375               0   \n28   0.5                 19      0  51.018177  0.722062               0   \n29   0.5                 19      0  51.090943  0.548406               0   \n\n    Phase_positive  \n0                1  \n1                1  \n2                1  \n3                1  \n4                1  \n5                1  \n6                1  \n7                1  \n8                1  \n9                1  \n10               1  \n11               1  \n12               1  \n13               1  \n14               1  \n15               1  \n16               1  \n17               1  \n18               1  \n19               1  \n20               1  \n21               1  \n22               1  \n23               1  \n24               1  \n25               1  \n26               1  \n27               1  \n28               1  \n29               1  ",
      "text/html": "<div>\n<style scoped>\n    .dataframe tbody tr th:only-of-type {\n        vertical-align: middle;\n    }\n\n    .dataframe tbody tr th {\n        vertical-align: top;\n    }\n\n    .dataframe thead th {\n        text-align: right;\n    }\n</style>\n<table border=\"1\" class=\"dataframe\">\n  <thead>\n    <tr style=\"text-align: right;\">\n      <th></th>\n      <th>Mass</th>\n      <th>Standoff distance</th>\n      <th>Angle</th>\n      <th>Time</th>\n      <th>Pressure</th>\n      <th>Phase_negative</th>\n      <th>Phase_positive</th>\n    </tr>\n  </thead>\n  <tbody>\n    <tr>\n      <th>0</th>\n      <td>0.5</td>\n      <td>19</td>\n      <td>0</td>\n      <td>49.855396</td>\n      <td>6.390461</td>\n      <td>0</td>\n      <td>1</td>\n    </tr>\n    <tr>\n      <th>1</th>\n      <td>0.5</td>\n      <td>19</td>\n      <td>0</td>\n      <td>49.891703</td>\n      <td>6.357195</td>\n      <td>0</td>\n      <td>1</td>\n    </tr>\n    <tr>\n      <th>2</th>\n      <td>0.5</td>\n      <td>19</td>\n      <td>0</td>\n      <td>49.928006</td>\n      <td>6.095211</td>\n      <td>0</td>\n      <td>1</td>\n    </tr>\n    <tr>\n      <th>3</th>\n      <td>0.5</td>\n      <td>19</td>\n      <td>0</td>\n      <td>49.964305</td>\n      <td>5.671938</td>\n      <td>0</td>\n      <td>1</td>\n    </tr>\n    <tr>\n      <th>4</th>\n      <td>0.5</td>\n      <td>19</td>\n      <td>0</td>\n      <td>50.036952</td>\n      <td>4.682539</td>\n      <td>0</td>\n      <td>1</td>\n    </tr>\n    <tr>\n      <th>5</th>\n      <td>0.5</td>\n      <td>19</td>\n      <td>0</td>\n      <td>50.073268</td>\n      <td>4.263273</td>\n      <td>0</td>\n      <td>1</td>\n    </tr>\n    <tr>\n      <th>6</th>\n      <td>0.5</td>\n      <td>19</td>\n      <td>0</td>\n      <td>50.109584</td>\n      <td>3.927648</td>\n      <td>0</td>\n      <td>1</td>\n    </tr>\n    <tr>\n      <th>7</th>\n      <td>0.5</td>\n      <td>19</td>\n      <td>0</td>\n      <td>50.145893</td>\n      <td>3.658039</td>\n      <td>0</td>\n      <td>1</td>\n    </tr>\n    <tr>\n      <th>8</th>\n      <td>0.5</td>\n      <td>19</td>\n      <td>0</td>\n      <td>50.182205</td>\n      <td>3.403523</td>\n      <td>0</td>\n      <td>1</td>\n    </tr>\n    <tr>\n      <th>9</th>\n      <td>0.5</td>\n      <td>19</td>\n      <td>0</td>\n      <td>50.218540</td>\n      <td>3.115602</td>\n      <td>0</td>\n      <td>1</td>\n    </tr>\n    <tr>\n      <th>10</th>\n      <td>0.5</td>\n      <td>19</td>\n      <td>0</td>\n      <td>50.291188</td>\n      <td>2.455523</td>\n      <td>0</td>\n      <td>1</td>\n    </tr>\n    <tr>\n      <th>11</th>\n      <td>0.5</td>\n      <td>19</td>\n      <td>0</td>\n      <td>50.327514</td>\n      <td>2.182898</td>\n      <td>0</td>\n      <td>1</td>\n    </tr>\n    <tr>\n      <th>12</th>\n      <td>0.5</td>\n      <td>19</td>\n      <td>0</td>\n      <td>50.363867</td>\n      <td>2.011883</td>\n      <td>0</td>\n      <td>1</td>\n    </tr>\n    <tr>\n      <th>13</th>\n      <td>0.5</td>\n      <td>19</td>\n      <td>0</td>\n      <td>50.400196</td>\n      <td>1.915555</td>\n      <td>0</td>\n      <td>1</td>\n    </tr>\n    <tr>\n      <th>14</th>\n      <td>0.5</td>\n      <td>19</td>\n      <td>0</td>\n      <td>50.436529</td>\n      <td>1.851156</td>\n      <td>0</td>\n      <td>1</td>\n    </tr>\n    <tr>\n      <th>15</th>\n      <td>0.5</td>\n      <td>19</td>\n      <td>0</td>\n      <td>50.472865</td>\n      <td>1.769711</td>\n      <td>0</td>\n      <td>1</td>\n    </tr>\n    <tr>\n      <th>16</th>\n      <td>0.5</td>\n      <td>19</td>\n      <td>0</td>\n      <td>50.509222</td>\n      <td>1.627008</td>\n      <td>0</td>\n      <td>1</td>\n    </tr>\n    <tr>\n      <th>17</th>\n      <td>0.5</td>\n      <td>19</td>\n      <td>0</td>\n      <td>50.581906</td>\n      <td>1.242523</td>\n      <td>0</td>\n      <td>1</td>\n    </tr>\n    <tr>\n      <th>18</th>\n      <td>0.5</td>\n      <td>19</td>\n      <td>0</td>\n      <td>50.618247</td>\n      <td>1.096813</td>\n      <td>0</td>\n      <td>1</td>\n    </tr>\n    <tr>\n      <th>19</th>\n      <td>0.5</td>\n      <td>19</td>\n      <td>0</td>\n      <td>50.654594</td>\n      <td>1.021570</td>\n      <td>0</td>\n      <td>1</td>\n    </tr>\n    <tr>\n      <th>20</th>\n      <td>0.5</td>\n      <td>19</td>\n      <td>0</td>\n      <td>50.727290</td>\n      <td>0.969500</td>\n      <td>0</td>\n      <td>1</td>\n    </tr>\n    <tr>\n      <th>21</th>\n      <td>0.5</td>\n      <td>19</td>\n      <td>0</td>\n      <td>50.763645</td>\n      <td>0.912992</td>\n      <td>0</td>\n      <td>1</td>\n    </tr>\n    <tr>\n      <th>22</th>\n      <td>0.5</td>\n      <td>19</td>\n      <td>0</td>\n      <td>50.800000</td>\n      <td>0.840875</td>\n      <td>0</td>\n      <td>1</td>\n    </tr>\n    <tr>\n      <th>23</th>\n      <td>0.5</td>\n      <td>19</td>\n      <td>0</td>\n      <td>50.836359</td>\n      <td>0.780398</td>\n      <td>0</td>\n      <td>1</td>\n    </tr>\n    <tr>\n      <th>24</th>\n      <td>0.5</td>\n      <td>19</td>\n      <td>0</td>\n      <td>50.872717</td>\n      <td>0.783500</td>\n      <td>0</td>\n      <td>1</td>\n    </tr>\n    <tr>\n      <th>25</th>\n      <td>0.5</td>\n      <td>19</td>\n      <td>0</td>\n      <td>50.909084</td>\n      <td>0.804117</td>\n      <td>0</td>\n      <td>1</td>\n    </tr>\n    <tr>\n      <th>26</th>\n      <td>0.5</td>\n      <td>19</td>\n      <td>0</td>\n      <td>50.945444</td>\n      <td>0.818750</td>\n      <td>0</td>\n      <td>1</td>\n    </tr>\n    <tr>\n      <th>27</th>\n      <td>0.5</td>\n      <td>19</td>\n      <td>0</td>\n      <td>50.981811</td>\n      <td>0.793375</td>\n      <td>0</td>\n      <td>1</td>\n    </tr>\n    <tr>\n      <th>28</th>\n      <td>0.5</td>\n      <td>19</td>\n      <td>0</td>\n      <td>51.018177</td>\n      <td>0.722062</td>\n      <td>0</td>\n      <td>1</td>\n    </tr>\n    <tr>\n      <th>29</th>\n      <td>0.5</td>\n      <td>19</td>\n      <td>0</td>\n      <td>51.090943</td>\n      <td>0.548406</td>\n      <td>0</td>\n      <td>1</td>\n    </tr>\n  </tbody>\n</table>\n</div>"
     },
     "execution_count": 6,
     "metadata": {},
     "output_type": "execute_result"
    }
   ],
   "source": [
    "dataset.head(30)"
   ],
   "metadata": {
    "collapsed": false,
    "ExecuteTime": {
     "end_time": "2024-08-11T06:15:17.540419600Z",
     "start_time": "2024-08-11T06:15:17.392457900Z"
    }
   }
  },
  {
   "cell_type": "code",
   "execution_count": 7,
   "metadata": {
    "ExecuteTime": {
     "end_time": "2024-08-11T06:15:17.694780700Z",
     "start_time": "2024-08-11T06:15:17.482891200Z"
    }
   },
   "outputs": [
    {
     "name": "stdout",
     "output_type": "stream",
     "text": [
      "(39531, 6) (39531,)\n"
     ]
    }
   ],
   "source": [
    "y = dataset['Pressure']\n",
    "X = dataset.drop(['Pressure'], axis=1)\n",
    "print(X.shape, y.shape)"
   ]
  },
  {
   "cell_type": "code",
   "execution_count": 8,
   "metadata": {
    "ExecuteTime": {
     "end_time": "2024-08-11T06:15:17.828971700Z",
     "start_time": "2024-08-11T06:15:17.590131500Z"
    }
   },
   "outputs": [],
   "source": [
    "# convert to numpy array\n",
    "X = np.array(X)\n",
    "y = np.array(y)"
   ]
  },
  {
   "cell_type": "code",
   "execution_count": 9,
   "metadata": {
    "colab": {},
    "colab_type": "code",
    "id": "L5edeb2r_agx",
    "ExecuteTime": {
     "end_time": "2024-08-11T06:15:18.765969900Z",
     "start_time": "2024-08-11T06:15:17.697769Z"
    }
   },
   "outputs": [],
   "source": [
    "from sklearn.model_selection import train_test_split\n",
    "X_train, X_test, y_train, y_test = train_test_split(X,\n",
    "                                                    y,\n",
    "                                                    test_size = 0.4,\n",
    "                                                    random_state = 0)"
   ]
  },
  {
   "cell_type": "code",
   "execution_count": 10,
   "metadata": {
    "colab": {},
    "colab_type": "code",
    "id": "L5edeb2r_agx",
    "ExecuteTime": {
     "end_time": "2024-08-11T06:15:18.812554Z",
     "start_time": "2024-08-11T06:15:18.767974900Z"
    }
   },
   "outputs": [],
   "source": [
    "X_val, X_test, y_val, y_test = train_test_split(X_test,\n",
    "                                                y_test,\n",
    "                                                test_size = 0.5,\n",
    "                                                random_state = 0)"
   ]
  },
  {
   "cell_type": "code",
   "execution_count": 11,
   "outputs": [
    {
     "name": "stdout",
     "output_type": "stream",
     "text": [
      "[[-0.91241964 -0.38953408  0.44095665  0.21640614  1.          0.        ]\n",
      " [ 0.68969168  1.43454673  0.44095665  0.23056501  0.          1.        ]\n",
      " [ 0.8899556  -1.30157449 -0.46494285 -1.35228213  0.          1.        ]\n",
      " ...\n",
      " [ 1.29048343  0.52250633  1.34685615  1.94020896  1.          0.        ]\n",
      " [-1.7134753   0.52250633 -1.37084236 -0.41452062  0.          1.        ]\n",
      " [-0.71215573 -1.30157449  0.44095665 -0.41993979  0.          1.        ]]\n"
     ]
    }
   ],
   "source": [
    "from sklearn.preprocessing import StandardScaler\n",
    "sc = StandardScaler()\n",
    "X_train[:,0:4] = sc.fit_transform(X_train[:, 0:4])\n",
    "print (X_train)"
   ],
   "metadata": {
    "collapsed": false,
    "ExecuteTime": {
     "end_time": "2024-08-11T06:15:18.921792400Z",
     "start_time": "2024-08-11T06:15:18.779977600Z"
    }
   }
  },
  {
   "cell_type": "code",
   "execution_count": 12,
   "outputs": [
    {
     "name": "stdout",
     "output_type": "stream",
     "text": [
      "[[ 0.8899556   0.52250633 -1.37084236 -0.40978345  0.          1.        ]\n",
      " [ 0.08889994 -1.30157449 -1.37084236 -1.36503152  0.          1.        ]\n",
      " [ 1.09021952 -0.38953408  1.34685615  0.34741426  0.          1.        ]\n",
      " ...\n",
      " [ 0.28916385 -1.30157449  0.44095665 -0.53753247  0.          1.        ]\n",
      " [-0.91241964  0.52250633  1.34685615  1.64873638  0.          1.        ]\n",
      " [-1.91373922  0.52250633 -0.46494285  0.01774215  0.          1.        ]]\n"
     ]
    }
   ],
   "source": [
    "X_test[:,0:4] = sc.transform(X_test[:,0:4])\n",
    "print (X_test)"
   ],
   "metadata": {
    "collapsed": false,
    "ExecuteTime": {
     "end_time": "2024-08-11T06:15:19.098885900Z",
     "start_time": "2024-08-11T06:15:18.920788400Z"
    }
   }
  },
  {
   "cell_type": "code",
   "execution_count": 13,
   "outputs": [
    {
     "name": "stdout",
     "output_type": "stream",
     "text": [
      "[[ 0.48942777  0.52250633 -0.46494285 -0.21725645  0.          1.        ]\n",
      " [-0.71215573  0.52250633 -0.46494285 -0.53825458  0.          1.        ]\n",
      " [ 0.68969168 -0.38953408  1.34685615  1.01156779  0.          1.        ]\n",
      " ...\n",
      " [ 1.29048343  0.52250633  0.44095665  0.41413656  0.          1.        ]\n",
      " [ 0.08889994 -0.38953408  1.34685615  1.08912157  0.          1.        ]\n",
      " [ 0.08889994  1.43454673 -0.46494285 -0.15937923  0.          1.        ]]\n"
     ]
    }
   ],
   "source": [
    "X_val[:,0:4] = sc.transform(X_val[:,0:4])\n",
    "print (X_val)"
   ],
   "metadata": {
    "collapsed": false,
    "ExecuteTime": {
     "end_time": "2024-08-11T06:15:19.223041700Z",
     "start_time": "2024-08-11T06:15:19.084873500Z"
    }
   }
  },
  {
   "cell_type": "code",
   "execution_count": 14,
   "outputs": [
    {
     "name": "stdout",
     "output_type": "stream",
     "text": [
      "X_train 23718\n",
      "X_test 7907\n",
      "X_val 7906\n"
     ]
    }
   ],
   "source": [
    "print (\"X_train\", len(X_train))\n",
    "print (\"X_test\", len(X_test))\n",
    "print (\"X_val\", len(X_val))"
   ],
   "metadata": {
    "collapsed": false,
    "ExecuteTime": {
     "end_time": "2024-08-11T06:15:19.346857400Z",
     "start_time": "2024-08-11T06:15:19.225037100Z"
    }
   }
  },
  {
   "cell_type": "markdown",
   "metadata": {
    "colab_type": "text",
    "id": "_mSLlAT9_eyI"
   },
   "source": [
    "## Part 3 - Building the ANN"
   ]
  },
  {
   "cell_type": "code",
   "execution_count": 15,
   "metadata": {
    "colab": {},
    "colab_type": "code",
    "id": "J6Hd97Ls__Nz",
    "ExecuteTime": {
     "end_time": "2024-08-11T06:15:19.511540100Z",
     "start_time": "2024-08-11T06:15:19.328828Z"
    }
   },
   "outputs": [],
   "source": [
    "ann = tf.keras.models.Sequential()"
   ]
  },
  {
   "cell_type": "code",
   "execution_count": 16,
   "metadata": {
    "colab": {},
    "colab_type": "code",
    "id": "ksO_Vv40AHix",
    "ExecuteTime": {
     "end_time": "2024-08-11T06:15:19.768415800Z",
     "start_time": "2024-08-11T06:15:19.511540100Z"
    }
   },
   "outputs": [],
   "source": [
    "ann.add(tf.keras.layers.Dense(units=550,\n",
    "                              input_shape=(X_train.shape[1],),\n",
    "                              activation='relu'))\n",
    "ann.add(tf.keras.layers.Dense(units=525,\n",
    "                              activation='relu'))\n",
    "ann.add(tf.keras.layers.Dense(units=500,\n",
    "                              activation='relu'))"
   ]
  },
  {
   "cell_type": "code",
   "execution_count": 17,
   "metadata": {
    "colab": {},
    "colab_type": "code",
    "id": "YFATpzsUAkLL",
    "ExecuteTime": {
     "end_time": "2024-08-11T06:15:20.027508900Z",
     "start_time": "2024-08-11T06:15:19.770415300Z"
    }
   },
   "outputs": [],
   "source": [
    "ann.add(tf.keras.layers.Dense(units=1,\n",
    "                              activation='linear'))"
   ]
  },
  {
   "cell_type": "code",
   "execution_count": 18,
   "metadata": {
    "ExecuteTime": {
     "end_time": "2024-08-11T06:15:20.459981300Z",
     "start_time": "2024-08-11T06:15:20.027508900Z"
    }
   },
   "outputs": [
    {
     "name": "stdout",
     "output_type": "stream",
     "text": [
      "Model: \"sequential\"\n",
      "_________________________________________________________________\n",
      " Layer (type)                Output Shape              Param #   \n",
      "=================================================================\n",
      " dense (Dense)               (None, 550)               3850      \n",
      "                                                                 \n",
      " dense_1 (Dense)             (None, 525)               289275    \n",
      "                                                                 \n",
      " dense_2 (Dense)             (None, 500)               263000    \n",
      "                                                                 \n",
      " dense_3 (Dense)             (None, 1)                 501       \n",
      "                                                                 \n",
      "=================================================================\n",
      "Total params: 556,626\n",
      "Trainable params: 556,626\n",
      "Non-trainable params: 0\n",
      "_________________________________________________________________\n"
     ]
    }
   ],
   "source": [
    "ann.summary()"
   ]
  },
  {
   "cell_type": "markdown",
   "metadata": {
    "colab_type": "text",
    "id": "fq7e4fF6A1yy"
   },
   "source": [
    "## Part 4 - Training the ANN"
   ]
  },
  {
   "cell_type": "code",
   "execution_count": 19,
   "metadata": {
    "colab": {},
    "colab_type": "code",
    "id": "pesgbWlCAtB4",
    "ExecuteTime": {
     "end_time": "2024-08-11T06:15:20.744355600Z",
     "start_time": "2024-08-11T06:15:20.364385600Z"
    }
   },
   "outputs": [],
   "source": [
    "# from tensorflow.keras.optimizers import Adam\n",
    "from keras.optimizers import Adam\n",
    "opt = Adam(learning_rate=0.001)\n",
    "ann.compile(optimizer = opt,\n",
    "            loss = 'mean_squared_error',\n",
    "            metrics = ['mae'])"
   ]
  },
  {
   "cell_type": "code",
   "execution_count": 20,
   "metadata": {
    "ExecuteTime": {
     "end_time": "2024-08-11T06:15:21.460419600Z",
     "start_time": "2024-08-11T06:15:20.744355600Z"
    }
   },
   "outputs": [],
   "source": [
    "# protects from unnecessary further training of the model if a particular metric does not continue to improve over a number of n epochs. In such a case, the model training would be automatically aborted.\n",
    "from keras.callbacks import EarlyStopping\n",
    "es = EarlyStopping(monitor='val_loss',\n",
    "                   mode='min',\n",
    "                   patience=50,\n",
    "                   restore_best_weights = True)"
   ]
  },
  {
   "cell_type": "code",
   "execution_count": 21,
   "metadata": {
    "colab": {
     "base_uri": "https://localhost:8080/",
     "height": 1000
    },
    "colab_type": "code",
    "id": "c_vV-tiiA5zn",
    "outputId": "4a2b6ee6-ed75-4698-9069-b250e613803f",
    "ExecuteTime": {
     "end_time": "2024-08-11T06:44:52.486546700Z",
     "start_time": "2024-08-11T06:15:21.462413200Z"
    }
   },
   "outputs": [
    {
     "name": "stdout",
     "output_type": "stream",
     "text": [
      "Epoch 1/500\n",
      "475/475 [==============================] - 53s 110ms/step - loss: 10.9299 - mae: 1.6105 - val_loss: 5.8969 - val_mae: 1.1818\n",
      "Epoch 2/500\n",
      "475/475 [==============================] - 15s 31ms/step - loss: 7.5434 - mae: 1.2619 - val_loss: 11.6735 - val_mae: 1.4123\n",
      "Epoch 3/500\n",
      "475/475 [==============================] - 17s 36ms/step - loss: 6.0310 - mae: 1.1226 - val_loss: 8.3551 - val_mae: 1.0781\n",
      "Epoch 4/500\n",
      "475/475 [==============================] - 15s 33ms/step - loss: 4.2353 - mae: 0.8977 - val_loss: 2.7612 - val_mae: 0.6210\n",
      "Epoch 5/500\n",
      "475/475 [==============================] - 17s 36ms/step - loss: 4.4821 - mae: 0.9662 - val_loss: 4.6520 - val_mae: 0.9608\n",
      "Epoch 6/500\n",
      "475/475 [==============================] - 13s 28ms/step - loss: 3.2648 - mae: 0.7900 - val_loss: 3.0424 - val_mae: 0.7001\n",
      "Epoch 7/500\n",
      "475/475 [==============================] - 15s 31ms/step - loss: 4.1879 - mae: 0.8907 - val_loss: 6.1587 - val_mae: 0.9271\n",
      "Epoch 8/500\n",
      "475/475 [==============================] - 15s 31ms/step - loss: 3.7237 - mae: 0.7967 - val_loss: 14.0272 - val_mae: 1.5032\n",
      "Epoch 9/500\n",
      "475/475 [==============================] - 15s 31ms/step - loss: 4.5164 - mae: 0.9961 - val_loss: 3.2940 - val_mae: 0.7351\n",
      "Epoch 10/500\n",
      "475/475 [==============================] - 14s 29ms/step - loss: 2.9832 - mae: 0.7653 - val_loss: 2.4590 - val_mae: 0.6782\n",
      "Epoch 11/500\n",
      "475/475 [==============================] - 14s 30ms/step - loss: 3.2931 - mae: 0.7801 - val_loss: 4.0711 - val_mae: 0.8363\n",
      "Epoch 12/500\n",
      "475/475 [==============================] - 15s 31ms/step - loss: 2.6791 - mae: 0.7011 - val_loss: 1.7756 - val_mae: 0.5709\n",
      "Epoch 13/500\n",
      "475/475 [==============================] - 16s 34ms/step - loss: 2.7276 - mae: 0.7120 - val_loss: 2.2226 - val_mae: 0.5591\n",
      "Epoch 14/500\n",
      "475/475 [==============================] - 15s 32ms/step - loss: 3.0772 - mae: 0.7581 - val_loss: 3.3690 - val_mae: 0.7601\n",
      "Epoch 15/500\n",
      "475/475 [==============================] - 14s 30ms/step - loss: 2.3368 - mae: 0.6573 - val_loss: 1.3491 - val_mae: 0.5214\n",
      "Epoch 16/500\n",
      "475/475 [==============================] - 15s 32ms/step - loss: 2.4152 - mae: 0.6611 - val_loss: 1.5585 - val_mae: 0.5751\n",
      "Epoch 17/500\n",
      "475/475 [==============================] - 13s 28ms/step - loss: 2.3059 - mae: 0.6351 - val_loss: 1.0473 - val_mae: 0.4358\n",
      "Epoch 18/500\n",
      "475/475 [==============================] - 17s 35ms/step - loss: 2.0498 - mae: 0.6076 - val_loss: 2.5927 - val_mae: 0.7048\n",
      "Epoch 19/500\n",
      "475/475 [==============================] - 15s 32ms/step - loss: 2.0689 - mae: 0.6110 - val_loss: 1.7569 - val_mae: 0.5665\n",
      "Epoch 20/500\n",
      "475/475 [==============================] - 15s 31ms/step - loss: 1.8984 - mae: 0.5733 - val_loss: 1.1032 - val_mae: 0.4380\n",
      "Epoch 21/500\n",
      "475/475 [==============================] - 16s 35ms/step - loss: 2.2552 - mae: 0.6249 - val_loss: 1.3584 - val_mae: 0.5268\n",
      "Epoch 22/500\n",
      "475/475 [==============================] - 14s 30ms/step - loss: 2.5255 - mae: 0.6670 - val_loss: 1.7998 - val_mae: 0.7011\n",
      "Epoch 23/500\n",
      "475/475 [==============================] - 16s 34ms/step - loss: 1.5097 - mae: 0.5107 - val_loss: 1.3676 - val_mae: 0.4637\n",
      "Epoch 24/500\n",
      "475/475 [==============================] - 17s 35ms/step - loss: 2.6991 - mae: 0.7007 - val_loss: 1.3949 - val_mae: 0.5368\n",
      "Epoch 25/500\n",
      "475/475 [==============================] - 14s 30ms/step - loss: 1.8434 - mae: 0.5549 - val_loss: 0.9300 - val_mae: 0.4230\n",
      "Epoch 26/500\n",
      "475/475 [==============================] - 15s 31ms/step - loss: 1.4272 - mae: 0.5009 - val_loss: 1.0799 - val_mae: 0.4614\n",
      "Epoch 27/500\n",
      "475/475 [==============================] - 17s 35ms/step - loss: 2.1657 - mae: 0.6084 - val_loss: 1.2421 - val_mae: 0.4617\n",
      "Epoch 28/500\n",
      "475/475 [==============================] - 31s 64ms/step - loss: 2.2986 - mae: 0.6171 - val_loss: 2.1440 - val_mae: 0.7660\n",
      "Epoch 29/500\n",
      "475/475 [==============================] - 18s 37ms/step - loss: 1.3796 - mae: 0.4995 - val_loss: 2.4230 - val_mae: 0.5705\n",
      "Epoch 30/500\n",
      "475/475 [==============================] - 14s 29ms/step - loss: 2.3616 - mae: 0.6534 - val_loss: 1.2418 - val_mae: 0.4802\n",
      "Epoch 31/500\n",
      "475/475 [==============================] - 15s 32ms/step - loss: 2.0235 - mae: 0.5681 - val_loss: 1.7707 - val_mae: 0.7047\n",
      "Epoch 32/500\n",
      "475/475 [==============================] - 19s 41ms/step - loss: 1.9625 - mae: 0.5705 - val_loss: 1.5059 - val_mae: 0.4759\n",
      "Epoch 33/500\n",
      "475/475 [==============================] - 17s 35ms/step - loss: 1.6908 - mae: 0.5233 - val_loss: 1.4928 - val_mae: 0.5329\n",
      "Epoch 34/500\n",
      "475/475 [==============================] - 18s 37ms/step - loss: 1.8730 - mae: 0.5651 - val_loss: 1.7441 - val_mae: 0.6513\n",
      "Epoch 35/500\n",
      "475/475 [==============================] - 18s 38ms/step - loss: 1.8289 - mae: 0.5442 - val_loss: 1.5032 - val_mae: 0.4839\n",
      "Epoch 36/500\n",
      "475/475 [==============================] - 16s 34ms/step - loss: 1.9926 - mae: 0.5637 - val_loss: 0.8390 - val_mae: 0.3889\n",
      "Epoch 37/500\n",
      "475/475 [==============================] - 19s 41ms/step - loss: 2.1206 - mae: 0.5965 - val_loss: 1.6298 - val_mae: 0.5434\n",
      "Epoch 38/500\n",
      "475/475 [==============================] - 16s 33ms/step - loss: 1.5753 - mae: 0.5110 - val_loss: 2.6982 - val_mae: 0.6920\n",
      "Epoch 39/500\n",
      "475/475 [==============================] - 16s 34ms/step - loss: 1.6131 - mae: 0.5012 - val_loss: 5.4286 - val_mae: 0.7909\n",
      "Epoch 40/500\n",
      "475/475 [==============================] - 16s 33ms/step - loss: 1.8527 - mae: 0.5542 - val_loss: 4.2574 - val_mae: 0.7181\n",
      "Epoch 41/500\n",
      "475/475 [==============================] - 16s 34ms/step - loss: 1.6334 - mae: 0.5163 - val_loss: 0.9519 - val_mae: 0.3933\n",
      "Epoch 42/500\n",
      "475/475 [==============================] - 16s 33ms/step - loss: 1.5395 - mae: 0.4958 - val_loss: 5.1369 - val_mae: 0.8249\n",
      "Epoch 43/500\n",
      "475/475 [==============================] - 16s 34ms/step - loss: 1.7455 - mae: 0.5139 - val_loss: 1.1753 - val_mae: 0.4396\n",
      "Epoch 44/500\n",
      "475/475 [==============================] - 16s 33ms/step - loss: 1.6349 - mae: 0.5149 - val_loss: 1.6908 - val_mae: 0.5471\n",
      "Epoch 45/500\n",
      "475/475 [==============================] - 18s 38ms/step - loss: 1.6997 - mae: 0.5193 - val_loss: 0.8589 - val_mae: 0.4506\n",
      "Epoch 46/500\n",
      "475/475 [==============================] - 11s 22ms/step - loss: 1.6750 - mae: 0.5228 - val_loss: 1.4811 - val_mae: 0.4614\n",
      "Epoch 47/500\n",
      "475/475 [==============================] - 16s 33ms/step - loss: 1.3367 - mae: 0.4713 - val_loss: 0.7827 - val_mae: 0.3817\n",
      "Epoch 48/500\n",
      "475/475 [==============================] - 10s 20ms/step - loss: 1.9261 - mae: 0.5551 - val_loss: 0.9650 - val_mae: 0.3979\n",
      "Epoch 49/500\n",
      "475/475 [==============================] - 11s 24ms/step - loss: 1.8499 - mae: 0.5451 - val_loss: 0.8759 - val_mae: 0.3889\n",
      "Epoch 50/500\n",
      "475/475 [==============================] - 7s 14ms/step - loss: 1.2736 - mae: 0.4502 - val_loss: 1.5956 - val_mae: 0.4837\n",
      "Epoch 51/500\n",
      "475/475 [==============================] - 8s 17ms/step - loss: 1.3663 - mae: 0.4719 - val_loss: 0.7405 - val_mae: 0.3490\n",
      "Epoch 52/500\n",
      "475/475 [==============================] - 17s 36ms/step - loss: 1.4884 - mae: 0.4929 - val_loss: 0.8417 - val_mae: 0.4001\n",
      "Epoch 53/500\n",
      "475/475 [==============================] - 8s 16ms/step - loss: 1.5258 - mae: 0.4856 - val_loss: 1.1238 - val_mae: 0.4395\n",
      "Epoch 54/500\n",
      "475/475 [==============================] - 17s 35ms/step - loss: 1.0114 - mae: 0.4135 - val_loss: 0.7663 - val_mae: 0.3462\n",
      "Epoch 55/500\n",
      "475/475 [==============================] - 10s 20ms/step - loss: 1.0292 - mae: 0.4095 - val_loss: 2.5198 - val_mae: 0.6093\n",
      "Epoch 56/500\n",
      "475/475 [==============================] - 14s 29ms/step - loss: 1.4038 - mae: 0.4726 - val_loss: 2.1960 - val_mae: 0.6361\n",
      "Epoch 57/500\n",
      "475/475 [==============================] - 10s 22ms/step - loss: 1.3640 - mae: 0.4705 - val_loss: 1.5364 - val_mae: 0.4655\n",
      "Epoch 58/500\n",
      "475/475 [==============================] - 16s 34ms/step - loss: 1.3350 - mae: 0.4597 - val_loss: 0.7319 - val_mae: 0.4542\n",
      "Epoch 59/500\n",
      "475/475 [==============================] - 16s 35ms/step - loss: 1.2358 - mae: 0.4454 - val_loss: 3.4349 - val_mae: 0.7273\n",
      "Epoch 60/500\n",
      "475/475 [==============================] - 16s 34ms/step - loss: 1.6437 - mae: 0.5134 - val_loss: 1.0758 - val_mae: 0.3975\n",
      "Epoch 61/500\n",
      "475/475 [==============================] - 16s 33ms/step - loss: 1.2066 - mae: 0.4402 - val_loss: 1.4666 - val_mae: 0.4844\n",
      "Epoch 62/500\n",
      "475/475 [==============================] - 15s 33ms/step - loss: 1.4654 - mae: 0.4780 - val_loss: 0.5242 - val_mae: 0.3110\n",
      "Epoch 63/500\n",
      "475/475 [==============================] - 17s 36ms/step - loss: 1.5760 - mae: 0.4707 - val_loss: 0.8737 - val_mae: 0.3841\n",
      "Epoch 64/500\n",
      "475/475 [==============================] - 18s 37ms/step - loss: 1.0779 - mae: 0.4060 - val_loss: 2.8680 - val_mae: 0.6193\n",
      "Epoch 65/500\n",
      "475/475 [==============================] - 18s 38ms/step - loss: 1.1463 - mae: 0.4095 - val_loss: 1.0298 - val_mae: 0.4399\n",
      "Epoch 66/500\n",
      "475/475 [==============================] - 17s 35ms/step - loss: 1.0130 - mae: 0.4008 - val_loss: 0.9881 - val_mae: 0.3800\n",
      "Epoch 67/500\n",
      "475/475 [==============================] - 17s 37ms/step - loss: 1.0221 - mae: 0.4003 - val_loss: 1.0941 - val_mae: 0.4253\n",
      "Epoch 68/500\n",
      "475/475 [==============================] - 17s 36ms/step - loss: 1.5244 - mae: 0.4811 - val_loss: 0.7146 - val_mae: 0.3292\n",
      "Epoch 69/500\n",
      "475/475 [==============================] - 17s 35ms/step - loss: 1.0207 - mae: 0.4024 - val_loss: 0.8839 - val_mae: 0.3831\n",
      "Epoch 70/500\n",
      "475/475 [==============================] - 17s 36ms/step - loss: 0.8774 - mae: 0.3814 - val_loss: 0.7204 - val_mae: 0.3299\n",
      "Epoch 71/500\n",
      "475/475 [==============================] - 17s 35ms/step - loss: 1.3454 - mae: 0.4543 - val_loss: 1.0074 - val_mae: 0.3632\n",
      "Epoch 72/500\n",
      "475/475 [==============================] - 18s 38ms/step - loss: 1.4218 - mae: 0.4868 - val_loss: 1.0951 - val_mae: 0.4614\n",
      "Epoch 73/500\n",
      "475/475 [==============================] - 17s 36ms/step - loss: 0.9709 - mae: 0.3948 - val_loss: 3.6799 - val_mae: 0.7135\n",
      "Epoch 74/500\n",
      "475/475 [==============================] - 18s 37ms/step - loss: 1.2436 - mae: 0.4371 - val_loss: 0.4789 - val_mae: 0.3000\n",
      "Epoch 75/500\n",
      "475/475 [==============================] - 16s 34ms/step - loss: 0.8045 - mae: 0.3518 - val_loss: 0.5741 - val_mae: 0.3145\n",
      "Epoch 76/500\n",
      "475/475 [==============================] - 18s 37ms/step - loss: 1.7141 - mae: 0.5096 - val_loss: 0.9551 - val_mae: 0.3260\n",
      "Epoch 77/500\n",
      "475/475 [==============================] - 18s 38ms/step - loss: 1.0719 - mae: 0.3983 - val_loss: 2.3549 - val_mae: 0.5473\n",
      "Epoch 78/500\n",
      "475/475 [==============================] - 18s 38ms/step - loss: 0.8893 - mae: 0.3764 - val_loss: 0.5119 - val_mae: 0.3123\n",
      "Epoch 79/500\n",
      "475/475 [==============================] - 16s 35ms/step - loss: 0.8582 - mae: 0.3718 - val_loss: 1.0476 - val_mae: 0.4038\n",
      "Epoch 80/500\n",
      "475/475 [==============================] - 18s 37ms/step - loss: 1.1538 - mae: 0.4172 - val_loss: 0.6240 - val_mae: 0.3505\n",
      "Epoch 81/500\n",
      "475/475 [==============================] - 16s 33ms/step - loss: 0.9580 - mae: 0.3850 - val_loss: 0.5781 - val_mae: 0.3115\n",
      "Epoch 82/500\n",
      "475/475 [==============================] - 18s 39ms/step - loss: 0.8467 - mae: 0.3671 - val_loss: 0.7258 - val_mae: 0.3222\n",
      "Epoch 83/500\n",
      "475/475 [==============================] - 17s 36ms/step - loss: 1.3463 - mae: 0.4432 - val_loss: 0.3523 - val_mae: 0.2459\n",
      "Epoch 84/500\n",
      "475/475 [==============================] - 17s 36ms/step - loss: 0.9206 - mae: 0.3677 - val_loss: 0.4821 - val_mae: 0.2698\n",
      "Epoch 85/500\n",
      "475/475 [==============================] - 16s 34ms/step - loss: 0.9886 - mae: 0.3991 - val_loss: 1.1154 - val_mae: 0.4116\n",
      "Epoch 86/500\n",
      "475/475 [==============================] - 17s 36ms/step - loss: 0.8971 - mae: 0.3832 - val_loss: 0.6956 - val_mae: 0.3393\n",
      "Epoch 87/500\n",
      "475/475 [==============================] - 18s 38ms/step - loss: 0.9324 - mae: 0.3763 - val_loss: 1.4349 - val_mae: 0.4835\n",
      "Epoch 88/500\n",
      "475/475 [==============================] - 15s 31ms/step - loss: 1.3655 - mae: 0.4445 - val_loss: 1.4705 - val_mae: 0.5670\n",
      "Epoch 89/500\n",
      "475/475 [==============================] - 18s 37ms/step - loss: 0.8032 - mae: 0.3491 - val_loss: 0.6175 - val_mae: 0.3341\n",
      "Epoch 90/500\n",
      "475/475 [==============================] - 15s 32ms/step - loss: 0.7976 - mae: 0.3452 - val_loss: 0.3892 - val_mae: 0.2692\n",
      "Epoch 91/500\n",
      "475/475 [==============================] - 18s 37ms/step - loss: 0.6742 - mae: 0.3330 - val_loss: 0.9564 - val_mae: 0.3946\n",
      "Epoch 92/500\n",
      "475/475 [==============================] - 15s 32ms/step - loss: 1.4944 - mae: 0.4820 - val_loss: 0.4893 - val_mae: 0.2761\n",
      "Epoch 93/500\n",
      "475/475 [==============================] - 17s 35ms/step - loss: 0.5817 - mae: 0.3051 - val_loss: 0.5031 - val_mae: 0.2863\n",
      "Epoch 94/500\n",
      "475/475 [==============================] - 19s 39ms/step - loss: 1.0535 - mae: 0.3950 - val_loss: 0.6422 - val_mae: 0.3177\n",
      "Epoch 95/500\n",
      "475/475 [==============================] - 16s 34ms/step - loss: 0.8158 - mae: 0.3545 - val_loss: 0.4446 - val_mae: 0.2590\n",
      "Epoch 96/500\n",
      "475/475 [==============================] - 21s 44ms/step - loss: 1.1520 - mae: 0.4038 - val_loss: 1.9675 - val_mae: 0.6177\n",
      "Epoch 97/500\n",
      "475/475 [==============================] - 21s 44ms/step - loss: 0.8717 - mae: 0.3644 - val_loss: 0.6871 - val_mae: 0.3519\n",
      "Epoch 98/500\n",
      "475/475 [==============================] - 21s 45ms/step - loss: 0.7356 - mae: 0.3419 - val_loss: 5.0059 - val_mae: 0.8618\n",
      "Epoch 99/500\n",
      "475/475 [==============================] - 18s 37ms/step - loss: 0.7966 - mae: 0.3613 - val_loss: 0.5353 - val_mae: 0.2981\n",
      "Epoch 100/500\n",
      "475/475 [==============================] - 18s 37ms/step - loss: 0.8777 - mae: 0.3522 - val_loss: 1.1321 - val_mae: 0.4051\n",
      "Epoch 101/500\n",
      "475/475 [==============================] - 19s 39ms/step - loss: 0.7993 - mae: 0.3471 - val_loss: 0.9778 - val_mae: 0.3687\n",
      "Epoch 102/500\n",
      "475/475 [==============================] - 19s 39ms/step - loss: 0.9891 - mae: 0.3959 - val_loss: 0.9362 - val_mae: 0.3989\n",
      "Epoch 103/500\n",
      "475/475 [==============================] - 15s 32ms/step - loss: 0.9608 - mae: 0.3795 - val_loss: 0.4237 - val_mae: 0.3090\n",
      "Epoch 104/500\n",
      "475/475 [==============================] - 16s 34ms/step - loss: 1.2415 - mae: 0.4220 - val_loss: 0.5041 - val_mae: 0.2975\n",
      "Epoch 105/500\n",
      "475/475 [==============================] - 16s 33ms/step - loss: 0.9588 - mae: 0.3745 - val_loss: 0.3118 - val_mae: 0.2492\n",
      "Epoch 106/500\n",
      "475/475 [==============================] - 12s 24ms/step - loss: 0.8579 - mae: 0.3599 - val_loss: 0.5820 - val_mae: 0.2909\n",
      "Epoch 107/500\n",
      "475/475 [==============================] - 9s 20ms/step - loss: 0.8879 - mae: 0.3669 - val_loss: 0.8171 - val_mae: 0.3224\n",
      "Epoch 108/500\n",
      "475/475 [==============================] - 9s 18ms/step - loss: 0.9280 - mae: 0.3759 - val_loss: 0.4496 - val_mae: 0.2588\n",
      "Epoch 109/500\n",
      "475/475 [==============================] - ETA: 0s - loss: 1.0116 - mae: 0.3808"
     ]
    },
    {
     "ename": "KeyboardInterrupt",
     "evalue": "",
     "output_type": "error",
     "traceback": [
      "\u001B[1;31m---------------------------------------------------------------------------\u001B[0m",
      "\u001B[1;31mKeyboardInterrupt\u001B[0m                         Traceback (most recent call last)",
      "Cell \u001B[1;32mIn[21], line 1\u001B[0m\n\u001B[1;32m----> 1\u001B[0m history \u001B[38;5;241m=\u001B[39m \u001B[43mann\u001B[49m\u001B[38;5;241;43m.\u001B[39;49m\u001B[43mfit\u001B[49m\u001B[43m(\u001B[49m\u001B[43mX_train\u001B[49m\u001B[43m,\u001B[49m\u001B[43m \u001B[49m\u001B[43my_train\u001B[49m\u001B[43m,\u001B[49m\n\u001B[0;32m      2\u001B[0m \u001B[43m                    \u001B[49m\u001B[43mvalidation_data\u001B[49m\u001B[43m \u001B[49m\u001B[38;5;241;43m=\u001B[39;49m\u001B[43m \u001B[49m\u001B[43m(\u001B[49m\u001B[43mX_val\u001B[49m\u001B[43m,\u001B[49m\u001B[43m \u001B[49m\u001B[43my_val\u001B[49m\u001B[43m)\u001B[49m\u001B[43m,\u001B[49m\n\u001B[0;32m      3\u001B[0m \u001B[43m                    \u001B[49m\u001B[43mcallbacks\u001B[49m\u001B[38;5;241;43m=\u001B[39;49m\u001B[43m[\u001B[49m\u001B[43mes\u001B[49m\u001B[43m]\u001B[49m\u001B[43m,\u001B[49m\n\u001B[0;32m      4\u001B[0m \u001B[43m                    \u001B[49m\u001B[43mepochs\u001B[49m\u001B[38;5;241;43m=\u001B[39;49m\u001B[38;5;241;43m500\u001B[39;49m\u001B[43m,\u001B[49m\n\u001B[0;32m      5\u001B[0m \u001B[43m                    \u001B[49m\u001B[43mbatch_size\u001B[49m\u001B[38;5;241;43m=\u001B[39;49m\u001B[38;5;241;43m50\u001B[39;49m\u001B[43m,\u001B[49m\n\u001B[0;32m      6\u001B[0m \u001B[43m                    \u001B[49m\u001B[43mverbose\u001B[49m\u001B[38;5;241;43m=\u001B[39;49m\u001B[38;5;241;43m1\u001B[39;49m\u001B[43m)\u001B[49m\n",
      "File \u001B[1;32mD:\\Anaconda3\\envs\\python3.9\\lib\\site-packages\\keras\\utils\\traceback_utils.py:65\u001B[0m, in \u001B[0;36mfilter_traceback.<locals>.error_handler\u001B[1;34m(*args, **kwargs)\u001B[0m\n\u001B[0;32m     63\u001B[0m filtered_tb \u001B[38;5;241m=\u001B[39m \u001B[38;5;28;01mNone\u001B[39;00m\n\u001B[0;32m     64\u001B[0m \u001B[38;5;28;01mtry\u001B[39;00m:\n\u001B[1;32m---> 65\u001B[0m     \u001B[38;5;28;01mreturn\u001B[39;00m fn(\u001B[38;5;241m*\u001B[39margs, \u001B[38;5;241m*\u001B[39m\u001B[38;5;241m*\u001B[39mkwargs)\n\u001B[0;32m     66\u001B[0m \u001B[38;5;28;01mexcept\u001B[39;00m \u001B[38;5;167;01mException\u001B[39;00m \u001B[38;5;28;01mas\u001B[39;00m e:\n\u001B[0;32m     67\u001B[0m     filtered_tb \u001B[38;5;241m=\u001B[39m _process_traceback_frames(e\u001B[38;5;241m.\u001B[39m__traceback__)\n",
      "File \u001B[1;32mD:\\Anaconda3\\envs\\python3.9\\lib\\site-packages\\keras\\engine\\training.py:1606\u001B[0m, in \u001B[0;36mModel.fit\u001B[1;34m(self, x, y, batch_size, epochs, verbose, callbacks, validation_split, validation_data, shuffle, class_weight, sample_weight, initial_epoch, steps_per_epoch, validation_steps, validation_batch_size, validation_freq, max_queue_size, workers, use_multiprocessing)\u001B[0m\n\u001B[0;32m   1591\u001B[0m \u001B[38;5;28;01mif\u001B[39;00m \u001B[38;5;28mgetattr\u001B[39m(\u001B[38;5;28mself\u001B[39m, \u001B[38;5;124m\"\u001B[39m\u001B[38;5;124m_eval_data_handler\u001B[39m\u001B[38;5;124m\"\u001B[39m, \u001B[38;5;28;01mNone\u001B[39;00m) \u001B[38;5;129;01mis\u001B[39;00m \u001B[38;5;28;01mNone\u001B[39;00m:\n\u001B[0;32m   1592\u001B[0m     \u001B[38;5;28mself\u001B[39m\u001B[38;5;241m.\u001B[39m_eval_data_handler \u001B[38;5;241m=\u001B[39m data_adapter\u001B[38;5;241m.\u001B[39mget_data_handler(\n\u001B[0;32m   1593\u001B[0m         x\u001B[38;5;241m=\u001B[39mval_x,\n\u001B[0;32m   1594\u001B[0m         y\u001B[38;5;241m=\u001B[39mval_y,\n\u001B[1;32m   (...)\u001B[0m\n\u001B[0;32m   1604\u001B[0m         steps_per_execution\u001B[38;5;241m=\u001B[39m\u001B[38;5;28mself\u001B[39m\u001B[38;5;241m.\u001B[39m_steps_per_execution,\n\u001B[0;32m   1605\u001B[0m     )\n\u001B[1;32m-> 1606\u001B[0m val_logs \u001B[38;5;241m=\u001B[39m \u001B[38;5;28;43mself\u001B[39;49m\u001B[38;5;241;43m.\u001B[39;49m\u001B[43mevaluate\u001B[49m\u001B[43m(\u001B[49m\n\u001B[0;32m   1607\u001B[0m \u001B[43m    \u001B[49m\u001B[43mx\u001B[49m\u001B[38;5;241;43m=\u001B[39;49m\u001B[43mval_x\u001B[49m\u001B[43m,\u001B[49m\n\u001B[0;32m   1608\u001B[0m \u001B[43m    \u001B[49m\u001B[43my\u001B[49m\u001B[38;5;241;43m=\u001B[39;49m\u001B[43mval_y\u001B[49m\u001B[43m,\u001B[49m\n\u001B[0;32m   1609\u001B[0m \u001B[43m    \u001B[49m\u001B[43msample_weight\u001B[49m\u001B[38;5;241;43m=\u001B[39;49m\u001B[43mval_sample_weight\u001B[49m\u001B[43m,\u001B[49m\n\u001B[0;32m   1610\u001B[0m \u001B[43m    \u001B[49m\u001B[43mbatch_size\u001B[49m\u001B[38;5;241;43m=\u001B[39;49m\u001B[43mvalidation_batch_size\u001B[49m\u001B[43m \u001B[49m\u001B[38;5;129;43;01mor\u001B[39;49;00m\u001B[43m \u001B[49m\u001B[43mbatch_size\u001B[49m\u001B[43m,\u001B[49m\n\u001B[0;32m   1611\u001B[0m \u001B[43m    \u001B[49m\u001B[43msteps\u001B[49m\u001B[38;5;241;43m=\u001B[39;49m\u001B[43mvalidation_steps\u001B[49m\u001B[43m,\u001B[49m\n\u001B[0;32m   1612\u001B[0m \u001B[43m    \u001B[49m\u001B[43mcallbacks\u001B[49m\u001B[38;5;241;43m=\u001B[39;49m\u001B[43mcallbacks\u001B[49m\u001B[43m,\u001B[49m\n\u001B[0;32m   1613\u001B[0m \u001B[43m    \u001B[49m\u001B[43mmax_queue_size\u001B[49m\u001B[38;5;241;43m=\u001B[39;49m\u001B[43mmax_queue_size\u001B[49m\u001B[43m,\u001B[49m\n\u001B[0;32m   1614\u001B[0m \u001B[43m    \u001B[49m\u001B[43mworkers\u001B[49m\u001B[38;5;241;43m=\u001B[39;49m\u001B[43mworkers\u001B[49m\u001B[43m,\u001B[49m\n\u001B[0;32m   1615\u001B[0m \u001B[43m    \u001B[49m\u001B[43muse_multiprocessing\u001B[49m\u001B[38;5;241;43m=\u001B[39;49m\u001B[43muse_multiprocessing\u001B[49m\u001B[43m,\u001B[49m\n\u001B[0;32m   1616\u001B[0m \u001B[43m    \u001B[49m\u001B[43mreturn_dict\u001B[49m\u001B[38;5;241;43m=\u001B[39;49m\u001B[38;5;28;43;01mTrue\u001B[39;49;00m\u001B[43m,\u001B[49m\n\u001B[0;32m   1617\u001B[0m \u001B[43m    \u001B[49m\u001B[43m_use_cached_eval_dataset\u001B[49m\u001B[38;5;241;43m=\u001B[39;49m\u001B[38;5;28;43;01mTrue\u001B[39;49;00m\u001B[43m,\u001B[49m\n\u001B[0;32m   1618\u001B[0m \u001B[43m\u001B[49m\u001B[43m)\u001B[49m\n\u001B[0;32m   1619\u001B[0m val_logs \u001B[38;5;241m=\u001B[39m {\n\u001B[0;32m   1620\u001B[0m     \u001B[38;5;124m\"\u001B[39m\u001B[38;5;124mval_\u001B[39m\u001B[38;5;124m\"\u001B[39m \u001B[38;5;241m+\u001B[39m name: val \u001B[38;5;28;01mfor\u001B[39;00m name, val \u001B[38;5;129;01min\u001B[39;00m val_logs\u001B[38;5;241m.\u001B[39mitems()\n\u001B[0;32m   1621\u001B[0m }\n\u001B[0;32m   1622\u001B[0m epoch_logs\u001B[38;5;241m.\u001B[39mupdate(val_logs)\n",
      "File \u001B[1;32mD:\\Anaconda3\\envs\\python3.9\\lib\\site-packages\\keras\\utils\\traceback_utils.py:65\u001B[0m, in \u001B[0;36mfilter_traceback.<locals>.error_handler\u001B[1;34m(*args, **kwargs)\u001B[0m\n\u001B[0;32m     63\u001B[0m filtered_tb \u001B[38;5;241m=\u001B[39m \u001B[38;5;28;01mNone\u001B[39;00m\n\u001B[0;32m     64\u001B[0m \u001B[38;5;28;01mtry\u001B[39;00m:\n\u001B[1;32m---> 65\u001B[0m     \u001B[38;5;28;01mreturn\u001B[39;00m fn(\u001B[38;5;241m*\u001B[39margs, \u001B[38;5;241m*\u001B[39m\u001B[38;5;241m*\u001B[39mkwargs)\n\u001B[0;32m     66\u001B[0m \u001B[38;5;28;01mexcept\u001B[39;00m \u001B[38;5;167;01mException\u001B[39;00m \u001B[38;5;28;01mas\u001B[39;00m e:\n\u001B[0;32m     67\u001B[0m     filtered_tb \u001B[38;5;241m=\u001B[39m _process_traceback_frames(e\u001B[38;5;241m.\u001B[39m__traceback__)\n",
      "File \u001B[1;32mD:\\Anaconda3\\envs\\python3.9\\lib\\site-packages\\keras\\engine\\training.py:1939\u001B[0m, in \u001B[0;36mModel.evaluate\u001B[1;34m(self, x, y, batch_size, verbose, sample_weight, steps, callbacks, max_queue_size, workers, use_multiprocessing, return_dict, **kwargs)\u001B[0m\n\u001B[0;32m   1937\u001B[0m \u001B[38;5;28mself\u001B[39m\u001B[38;5;241m.\u001B[39m_test_counter\u001B[38;5;241m.\u001B[39massign(\u001B[38;5;241m0\u001B[39m)\n\u001B[0;32m   1938\u001B[0m callbacks\u001B[38;5;241m.\u001B[39mon_test_begin()\n\u001B[1;32m-> 1939\u001B[0m \u001B[38;5;28;01mfor\u001B[39;00m _, iterator \u001B[38;5;129;01min\u001B[39;00m data_handler\u001B[38;5;241m.\u001B[39menumerate_epochs():  \u001B[38;5;66;03m# Single epoch.\u001B[39;00m\n\u001B[0;32m   1940\u001B[0m     \u001B[38;5;28mself\u001B[39m\u001B[38;5;241m.\u001B[39mreset_metrics()\n\u001B[0;32m   1941\u001B[0m     \u001B[38;5;28;01mwith\u001B[39;00m data_handler\u001B[38;5;241m.\u001B[39mcatch_stop_iteration():\n",
      "File \u001B[1;32mD:\\Anaconda3\\envs\\python3.9\\lib\\site-packages\\keras\\engine\\data_adapter.py:1307\u001B[0m, in \u001B[0;36mDataHandler.enumerate_epochs\u001B[1;34m(self)\u001B[0m\n\u001B[0;32m   1305\u001B[0m \u001B[38;5;250m\u001B[39m\u001B[38;5;124;03m\"\"\"Yields `(epoch, tf.data.Iterator)`.\"\"\"\u001B[39;00m\n\u001B[0;32m   1306\u001B[0m \u001B[38;5;28;01mwith\u001B[39;00m \u001B[38;5;28mself\u001B[39m\u001B[38;5;241m.\u001B[39m_truncate_execution_to_epoch():\n\u001B[1;32m-> 1307\u001B[0m     data_iterator \u001B[38;5;241m=\u001B[39m \u001B[38;5;28;43miter\u001B[39;49m\u001B[43m(\u001B[49m\u001B[38;5;28;43mself\u001B[39;49m\u001B[38;5;241;43m.\u001B[39;49m\u001B[43m_dataset\u001B[49m\u001B[43m)\u001B[49m\n\u001B[0;32m   1308\u001B[0m     \u001B[38;5;28;01mfor\u001B[39;00m epoch \u001B[38;5;129;01min\u001B[39;00m \u001B[38;5;28mrange\u001B[39m(\u001B[38;5;28mself\u001B[39m\u001B[38;5;241m.\u001B[39m_initial_epoch, \u001B[38;5;28mself\u001B[39m\u001B[38;5;241m.\u001B[39m_epochs):\n\u001B[0;32m   1309\u001B[0m         \u001B[38;5;28;01mif\u001B[39;00m \u001B[38;5;28mself\u001B[39m\u001B[38;5;241m.\u001B[39m_insufficient_data:  \u001B[38;5;66;03m# Set by `catch_stop_iteration`.\u001B[39;00m\n",
      "File \u001B[1;32mD:\\Anaconda3\\envs\\python3.9\\lib\\site-packages\\tensorflow\\python\\data\\ops\\dataset_ops.py:499\u001B[0m, in \u001B[0;36mDatasetV2.__iter__\u001B[1;34m(self)\u001B[0m\n\u001B[0;32m    497\u001B[0m \u001B[38;5;28;01mif\u001B[39;00m context\u001B[38;5;241m.\u001B[39mexecuting_eagerly() \u001B[38;5;129;01mor\u001B[39;00m ops\u001B[38;5;241m.\u001B[39minside_function():\n\u001B[0;32m    498\u001B[0m   \u001B[38;5;28;01mwith\u001B[39;00m ops\u001B[38;5;241m.\u001B[39mcolocate_with(\u001B[38;5;28mself\u001B[39m\u001B[38;5;241m.\u001B[39m_variant_tensor):\n\u001B[1;32m--> 499\u001B[0m     \u001B[38;5;28;01mreturn\u001B[39;00m \u001B[43miterator_ops\u001B[49m\u001B[38;5;241;43m.\u001B[39;49m\u001B[43mOwnedIterator\u001B[49m\u001B[43m(\u001B[49m\u001B[38;5;28;43mself\u001B[39;49m\u001B[43m)\u001B[49m\n\u001B[0;32m    500\u001B[0m \u001B[38;5;28;01melse\u001B[39;00m:\n\u001B[0;32m    501\u001B[0m   \u001B[38;5;28;01mraise\u001B[39;00m \u001B[38;5;167;01mRuntimeError\u001B[39;00m(\u001B[38;5;124m\"\u001B[39m\u001B[38;5;124m`tf.data.Dataset` only supports Python-style \u001B[39m\u001B[38;5;124m\"\u001B[39m\n\u001B[0;32m    502\u001B[0m                      \u001B[38;5;124m\"\u001B[39m\u001B[38;5;124miteration in eager mode or within tf.function.\u001B[39m\u001B[38;5;124m\"\u001B[39m)\n",
      "File \u001B[1;32mD:\\Anaconda3\\envs\\python3.9\\lib\\site-packages\\tensorflow\\python\\data\\ops\\iterator_ops.py:696\u001B[0m, in \u001B[0;36mOwnedIterator.__init__\u001B[1;34m(self, dataset, components, element_spec)\u001B[0m\n\u001B[0;32m    692\u001B[0m   \u001B[38;5;28;01mif\u001B[39;00m (components \u001B[38;5;129;01mis\u001B[39;00m \u001B[38;5;129;01mnot\u001B[39;00m \u001B[38;5;28;01mNone\u001B[39;00m \u001B[38;5;129;01mor\u001B[39;00m element_spec \u001B[38;5;129;01mis\u001B[39;00m \u001B[38;5;129;01mnot\u001B[39;00m \u001B[38;5;28;01mNone\u001B[39;00m):\n\u001B[0;32m    693\u001B[0m     \u001B[38;5;28;01mraise\u001B[39;00m \u001B[38;5;167;01mValueError\u001B[39;00m(\n\u001B[0;32m    694\u001B[0m         \u001B[38;5;124m\"\u001B[39m\u001B[38;5;124mWhen `dataset` is provided, `element_spec` and `components` must \u001B[39m\u001B[38;5;124m\"\u001B[39m\n\u001B[0;32m    695\u001B[0m         \u001B[38;5;124m\"\u001B[39m\u001B[38;5;124mnot be specified.\u001B[39m\u001B[38;5;124m\"\u001B[39m)\n\u001B[1;32m--> 696\u001B[0m   \u001B[38;5;28;43mself\u001B[39;49m\u001B[38;5;241;43m.\u001B[39;49m\u001B[43m_create_iterator\u001B[49m\u001B[43m(\u001B[49m\u001B[43mdataset\u001B[49m\u001B[43m)\u001B[49m\n\u001B[0;32m    698\u001B[0m \u001B[38;5;28mself\u001B[39m\u001B[38;5;241m.\u001B[39m_get_next_call_count \u001B[38;5;241m=\u001B[39m \u001B[38;5;241m0\u001B[39m\n",
      "File \u001B[1;32mD:\\Anaconda3\\envs\\python3.9\\lib\\site-packages\\tensorflow\\python\\data\\ops\\iterator_ops.py:721\u001B[0m, in \u001B[0;36mOwnedIterator._create_iterator\u001B[1;34m(self, dataset)\u001B[0m\n\u001B[0;32m    716\u001B[0m \u001B[38;5;28;01mwith\u001B[39;00m ops\u001B[38;5;241m.\u001B[39mcolocate_with(ds_variant):\n\u001B[0;32m    717\u001B[0m   \u001B[38;5;28mself\u001B[39m\u001B[38;5;241m.\u001B[39m_iterator_resource \u001B[38;5;241m=\u001B[39m (\n\u001B[0;32m    718\u001B[0m       gen_dataset_ops\u001B[38;5;241m.\u001B[39manonymous_iterator_v3(\n\u001B[0;32m    719\u001B[0m           output_types\u001B[38;5;241m=\u001B[39m\u001B[38;5;28mself\u001B[39m\u001B[38;5;241m.\u001B[39m_flat_output_types,\n\u001B[0;32m    720\u001B[0m           output_shapes\u001B[38;5;241m=\u001B[39m\u001B[38;5;28mself\u001B[39m\u001B[38;5;241m.\u001B[39m_flat_output_shapes))\n\u001B[1;32m--> 721\u001B[0m   \u001B[43mgen_dataset_ops\u001B[49m\u001B[38;5;241;43m.\u001B[39;49m\u001B[43mmake_iterator\u001B[49m\u001B[43m(\u001B[49m\u001B[43mds_variant\u001B[49m\u001B[43m,\u001B[49m\u001B[43m \u001B[49m\u001B[38;5;28;43mself\u001B[39;49m\u001B[38;5;241;43m.\u001B[39;49m\u001B[43m_iterator_resource\u001B[49m\u001B[43m)\u001B[49m\n",
      "File \u001B[1;32mD:\\Anaconda3\\envs\\python3.9\\lib\\site-packages\\tensorflow\\python\\ops\\gen_dataset_ops.py:3408\u001B[0m, in \u001B[0;36mmake_iterator\u001B[1;34m(dataset, iterator, name)\u001B[0m\n\u001B[0;32m   3406\u001B[0m \u001B[38;5;28;01mif\u001B[39;00m tld\u001B[38;5;241m.\u001B[39mis_eager:\n\u001B[0;32m   3407\u001B[0m   \u001B[38;5;28;01mtry\u001B[39;00m:\n\u001B[1;32m-> 3408\u001B[0m     _result \u001B[38;5;241m=\u001B[39m \u001B[43mpywrap_tfe\u001B[49m\u001B[38;5;241;43m.\u001B[39;49m\u001B[43mTFE_Py_FastPathExecute\u001B[49m\u001B[43m(\u001B[49m\n\u001B[0;32m   3409\u001B[0m \u001B[43m      \u001B[49m\u001B[43m_ctx\u001B[49m\u001B[43m,\u001B[49m\u001B[43m \u001B[49m\u001B[38;5;124;43m\"\u001B[39;49m\u001B[38;5;124;43mMakeIterator\u001B[39;49m\u001B[38;5;124;43m\"\u001B[39;49m\u001B[43m,\u001B[49m\u001B[43m \u001B[49m\u001B[43mname\u001B[49m\u001B[43m,\u001B[49m\u001B[43m \u001B[49m\u001B[43mdataset\u001B[49m\u001B[43m,\u001B[49m\u001B[43m \u001B[49m\u001B[43miterator\u001B[49m\u001B[43m)\u001B[49m\n\u001B[0;32m   3410\u001B[0m     \u001B[38;5;28;01mreturn\u001B[39;00m _result\n\u001B[0;32m   3411\u001B[0m   \u001B[38;5;28;01mexcept\u001B[39;00m _core\u001B[38;5;241m.\u001B[39m_NotOkStatusException \u001B[38;5;28;01mas\u001B[39;00m e:\n",
      "\u001B[1;31mKeyboardInterrupt\u001B[0m: "
     ]
    }
   ],
   "source": [
    "history = ann.fit(X_train, y_train,\n",
    "                    validation_data = (X_val, y_val),\n",
    "                    callbacks=[es],\n",
    "                    epochs=500,\n",
    "                    batch_size=50,\n",
    "                    verbose=1)"
   ]
  },
  {
   "cell_type": "code",
   "execution_count": null,
   "metadata": {
    "ExecuteTime": {
     "start_time": "2024-08-11T06:44:52.484550500Z"
    }
   },
   "outputs": [],
   "source": [
    "# let's see the training and validation accuracy by epoch\n",
    "history_dict = history.history\n",
    "loss_values = history_dict['loss'] # you can change this\n",
    "val_loss_values = history_dict['val_loss'] # you can also change this\n",
    "epochs = range(1, len(loss_values) + 1) # range of X (no. of epochs)\n",
    "plt.plot(epochs, loss_values, 'blue', label='Train set loss')\n",
    "plt.plot(epochs, val_loss_values, 'orange', label='Validation set loss')\n",
    "#plt.title('Training and testing loss')\n",
    "plt.xlabel('Epochs')\n",
    "plt.ylabel('Loss (MSE)')\n",
    "plt.legend()\n",
    "plt.savefig('Section5_ANN5_2.png', dpi=300, bbox_inches='tight')\n",
    "plt.show()"
   ]
  },
  {
   "cell_type": "code",
   "execution_count": null,
   "metadata": {
    "ExecuteTime": {
     "end_time": "2024-08-11T06:44:52.519091700Z",
     "start_time": "2024-08-11T06:44:52.490548100Z"
    }
   },
   "outputs": [],
   "source": [
    "loss_values1 = history_dict['mae'] # you can change this\n",
    "val_loss_values1 = history_dict['val_mae'] # you can also change this\n",
    "epochs = range(1, len(loss_values1) + 1) # range of X (no. of epochs)\n",
    "plt.plot(epochs, loss_values1, 'blue', label='Train set MAE')\n",
    "plt.plot(epochs, val_loss_values1, 'orange', label='Validation set MAE')\n",
    "#plt.title('Training and testing MAE')\n",
    "plt.xlabel('Epochs')\n",
    "plt.ylabel('MAE')\n",
    "plt.legend()\n",
    "plt.savefig('Section5_ANN5_3.png', dpi=300, bbox_inches='tight')\n",
    "plt.show()"
   ]
  },
  {
   "cell_type": "code",
   "execution_count": null,
   "outputs": [],
   "source": [
    "ann.save('Section5_new_ANN_5')\n",
    "import pickle\n",
    "pickle.dump(sc, open('Section5_new_scaler_ANN_5.pkl', 'wb'))"
   ],
   "metadata": {
    "collapsed": false,
    "ExecuteTime": {
     "start_time": "2024-08-11T06:44:52.492547300Z"
    }
   }
  },
  {
   "cell_type": "markdown",
   "metadata": {},
   "source": [
    "## Part 5 - Make predictions"
   ]
  },
  {
   "cell_type": "code",
   "execution_count": null,
   "metadata": {
    "ExecuteTime": {
     "start_time": "2024-08-11T06:44:52.495559700Z"
    }
   },
   "outputs": [],
   "source": [
    "# scatterplot of actual vs. pred\n",
    "# specify the dimensions \n",
    "fig, axes = plt.subplots(1,2) # 1 row, 2 columns\n",
    "\n",
    "# this makes the individual subplots\n",
    "# Training Results\n",
    "axes[0].scatter(x=y_train, y=ann.predict(X_train)) #first row, first entry (left top)\n",
    "axes[0].set_xlabel(\"Actual\", fontsize=10)\n",
    "axes[0].set_ylabel(\"Predicted\",  fontsize=10)\n",
    "axes[0].set_title(\"Training\")\n",
    "# add 45 deg line\n",
    "x = np.linspace(*axes[0].get_xlim())\n",
    "axes[0].plot(x, x, color='red')\n",
    "# Validation Results\n",
    "axes[1].scatter(x=y_val, y=ann.predict(X_val)) # first row, second entry (right top)\n",
    "axes[1].set_xlabel(\"Actual\", fontsize=10)\n",
    "axes[1].set_ylabel(\"Predicted\",  fontsize=10)\n",
    "axes[1].set_title(\"Validation\")\n",
    "# add 45 deg line\n",
    "x = np.linspace(*axes[1].get_xlim())\n",
    "axes[1].plot(x, x, color='red')\n",
    "\n",
    "# tight layout\n",
    "fig.tight_layout()\n",
    "plt.savefig('Section5_ANN5_1.png', dpi=300, bbox_inches='tight')\n",
    "\n",
    "# show the plot\n",
    "plt.show()"
   ]
  },
  {
   "cell_type": "code",
   "execution_count": null,
   "metadata": {
    "colab": {
     "base_uri": "https://localhost:8080/",
     "height": 134
    },
    "colab_type": "code",
    "id": "IA0yApEmBG1X",
    "outputId": "cb981e1f-9204-4a2a-fece-9d66a6919189",
    "ExecuteTime": {
     "start_time": "2024-08-11T06:44:52.499070200Z"
    }
   },
   "outputs": [],
   "source": [
    "y_pred = ann.predict(X_test)\n",
    "np.set_printoptions(precision=2)\n",
    "print(np.concatenate((y_pred.reshape(len(y_pred),1), y_test.reshape(len(y_test),1)),1))"
   ]
  },
  {
   "cell_type": "code",
   "execution_count": null,
   "metadata": {
    "ExecuteTime": {
     "start_time": "2024-08-11T06:44:52.501083600Z"
    }
   },
   "outputs": [],
   "source": [
    "import matplotlib.pyplot as plt\n",
    "plt.scatter(y_test, y_pred, color=\"blue\")\n",
    "plt.xlabel ('Actual data')\n",
    "plt.ylabel ('Predicted data')"
   ]
  },
  {
   "cell_type": "code",
   "execution_count": null,
   "metadata": {
    "ExecuteTime": {
     "start_time": "2024-08-11T06:44:52.503080800Z"
    }
   },
   "outputs": [],
   "source": [
    "from sklearn.metrics import r2_score\n",
    "# Initialize layout\n",
    "fig1, ax1 = plt.subplots(figsize = (9, 9))\n",
    "b_l = -5\n",
    "u_l = 50\n",
    "\n",
    "# Add scatterplot\n",
    "ax1.scatter(y_test, y_pred, s=70, alpha=1, edgecolors=\"k\",c='mediumblue',zorder=5, label = 'Points')\n",
    "\n",
    "\n",
    "plt.ylabel('Predicted Reflected Overpressure (kPa)',fontsize = 25)\n",
    "plt.xlabel('Actual Reflected Overpressure (kPa)',fontsize = 25)\n",
    "plt.xticks(fontsize = 19)\n",
    "plt.yticks(fontsize = 19)\n",
    "\n",
    "\n",
    "x1 = np.linspace(b_l, u_l)\n",
    "\n",
    "plt.plot(x1, x1, 'Red', label='45\\N{DEGREE SIGN} line',lw=2.5,alpha=1)\n",
    "plt.plot(x1, 1.05*x1, '--m', label='\\u00B15% Error',lw=2.5,alpha=0.7)\n",
    "plt.plot(x1, 0.95*x1,'m', linestyle='--',lw=2.5,alpha=0.7)\n",
    "plt.plot(x1, 1.1*x1, '-.g', label='\\u00B110% Error',lw=2.5,alpha=0.7)\n",
    "plt.plot(x1, 0.9*x1,'-.g',lw=2.5,alpha=0.7)\n",
    "plt.plot(x1, 1.2*x1, color = '#F97306', linestyle='dotted', label='\\u00B120% Error',lw=2.5,alpha=0.7)\n",
    "plt.plot(x1, 0.8*x1,color = '#F97306', linestyle='dotted', lw=2.5,alpha=0.7)\n",
    "\n",
    "plt.ylim(b_l, u_l)\n",
    "plt.xlim(b_l, u_l)\n",
    "plt.legend(loc='upper left',fontsize = 21)\n",
    "\n",
    "plt.grid()\n",
    "\n",
    "ax1.spines['left'].set_color('black')        # setting up Y-axis tick color to red\n",
    "ax1.spines['bottom'].set_color('black')         #setting up above X-axis tick color to red\n",
    "\n",
    "# Save the plot\n",
    "plt.savefig('Section5_ANN5.png', dpi=300, bbox_inches='tight')"
   ]
  },
  {
   "cell_type": "code",
   "execution_count": null,
   "metadata": {
    "ExecuteTime": {
     "start_time": "2024-08-11T06:44:52.506082500Z"
    }
   },
   "outputs": [],
   "source": [
    "# metrics\n",
    "trainpreds = ann.predict(X_train)\n",
    "\n",
    "from sklearn.metrics import mean_absolute_error\n",
    "print(mean_absolute_error(y_train, trainpreds)) # train\n",
    "print(mean_absolute_error(y_test, y_pred)) # test"
   ]
  },
  {
   "cell_type": "code",
   "execution_count": null,
   "metadata": {
    "ExecuteTime": {
     "start_time": "2024-08-11T06:44:52.509084500Z"
    }
   },
   "outputs": [],
   "source": [
    "from sklearn.metrics import r2_score\n",
    "r2 = r2_score(y_test, y_pred)\n",
    "print (r2)"
   ]
  },
  {
   "cell_type": "code",
   "execution_count": null,
   "metadata": {
    "ExecuteTime": {
     "start_time": "2024-08-11T06:44:52.511085200Z"
    }
   },
   "outputs": [],
   "source": [
    "r2_train = r2_score(y_train, trainpreds)\n",
    "print (r2_train)"
   ]
  },
  {
   "cell_type": "code",
   "execution_count": null,
   "metadata": {
    "ExecuteTime": {
     "start_time": "2024-08-11T06:44:52.513079400Z"
    }
   },
   "outputs": [],
   "source": [
    "count0 = 0\n",
    "for i in range(len(y_pred)):\n",
    "    line1 = y_pred[i] - 0.95*y_test[i]\n",
    "    line2 = y_pred[i] - 1.05*y_test[i]\n",
    "    mask0 = (line1 > 0) & (line2 < 0)\n",
    "    count0 = np.sum(mask0+count0)\n",
    "\n",
    "count1 = 0\n",
    "for i in range(len(y_pred)):\n",
    "    line1 = y_pred[i] - 0.9*y_test[i]\n",
    "    line2 = y_pred[i] - 1.1*y_test[i]\n",
    "    mask1 = (line1 > 0) & (line2 < 0)\n",
    "    count1 = np.sum(mask1+count1)\n",
    "\n",
    "count2 = 0\n",
    "for j in range(len(y_pred)):\n",
    "    line3 = y_pred[j] - 0.8*y_test[j]\n",
    "    line4 = y_pred[j] - 1.2*y_test[j]\n",
    "    mask2 = (line3 > 0) & (line4 < 0)\n",
    "    count2 = np.sum(mask2+count2)\n",
    "\n",
    "\n",
    "count3 = 0    \n",
    "for k in range(len(y_pred)):\n",
    "    line5 = y_pred[k] - 0.8*y_test[k]\n",
    "    line6 = y_pred[k] - 1.2*y_test[k]\n",
    "    mask3 = (line5 < 0) or (line6 > 0)\n",
    "    count3 = np.sum(mask3+count3)\n",
    "   \n",
    "\n",
    "print ('Within 5% margin', format((count0/len (y_pred)),'.2%'))\n",
    "print ('Within 10% margin', format((count1/len (y_pred)),'.2%'))\n",
    "print ('Within 20% margin', format((count2/len (y_pred)),'.2%'))\n",
    "print ('Out of 20% margin', format((count3/len (y_pred)),'.2%'))"
   ]
  },
  {
   "cell_type": "code",
   "execution_count": null,
   "metadata": {
    "ExecuteTime": {
     "start_time": "2024-08-11T06:44:52.515082200Z"
    }
   },
   "outputs": [],
   "source": [
    "adj_r2 = 1 - ((1 - r2) * (len(X_test) - 1) / (len(X_test) - len (X_test[0]) - 1))\n",
    "print (adj_r2)"
   ]
  },
  {
   "cell_type": "code",
   "execution_count": null,
   "metadata": {
    "ExecuteTime": {
     "start_time": "2024-08-11T06:44:52.516092700Z"
    }
   },
   "outputs": [],
   "source": [
    "import math\n",
    "from sklearn.metrics import mean_squared_error\n",
    "\n",
    "math.sqrt(mean_squared_error(y_test, y_pred))"
   ]
  },
  {
   "cell_type": "code",
   "execution_count": null,
   "metadata": {
    "ExecuteTime": {
     "start_time": "2024-08-11T06:44:52.518091500Z"
    }
   },
   "outputs": [],
   "source": [
    "from sklearn.metrics import mean_absolute_error\n",
    "\n",
    "mean_absolute_error(y_test, y_pred)"
   ]
  }
 ],
 "metadata": {
  "colab": {
   "collapsed_sections": [],
   "name": "Artificial Neural Network",
   "provenance": [],
   "toc_visible": true
  },
  "kernelspec": {
   "display_name": "Python 3 (ipykernel)",
   "language": "python",
   "name": "python3"
  },
  "language_info": {
   "codemirror_mode": {
    "name": "ipython",
    "version": 3
   },
   "file_extension": ".py",
   "mimetype": "text/x-python",
   "name": "python",
   "nbconvert_exporter": "python",
   "pygments_lexer": "ipython3",
   "version": "3.9.7"
  }
 },
 "nbformat": 4,
 "nbformat_minor": 4
}
