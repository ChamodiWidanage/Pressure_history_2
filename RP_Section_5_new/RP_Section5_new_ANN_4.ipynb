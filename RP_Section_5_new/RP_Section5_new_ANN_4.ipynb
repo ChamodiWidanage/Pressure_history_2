{
 "cells": [
  {
   "cell_type": "markdown",
   "metadata": {
    "colab_type": "text",
    "id": "3cbb7fRy-eyr"
   },
   "source": [
    "# Artificial Neural Network"
   ]
  },
  {
   "cell_type": "markdown",
   "metadata": {
    "colab_type": "text",
    "id": "8sNDnxE2-pwE"
   },
   "source": [
    "## Part 1 - Importing the libraries"
   ]
  },
  {
   "cell_type": "code",
   "execution_count": 1,
   "metadata": {
    "colab": {},
    "colab_type": "code",
    "id": "lxChR1Rk-umf",
    "ExecuteTime": {
     "end_time": "2024-08-26T00:43:19.106709500Z",
     "start_time": "2024-08-26T00:43:14.154267700Z"
    }
   },
   "outputs": [],
   "source": [
    "import numpy as np\n",
    "import pandas as pd\n",
    "import tensorflow as tf\n",
    "import matplotlib.pyplot as plt\n",
    "from keras.models import load_model\n",
    "from pathlib import Path\n",
    "import pickle"
   ]
  },
  {
   "cell_type": "markdown",
   "metadata": {
    "colab_type": "text",
    "id": "AG3FQEch-yuA"
   },
   "source": [
    "## Part 2 - Data Preprocessing"
   ]
  },
  {
   "cell_type": "code",
   "execution_count": 2,
   "metadata": {
    "ExecuteTime": {
     "end_time": "2024-08-26T00:43:21.531148400Z",
     "start_time": "2024-08-26T00:43:21.495121700Z"
    }
   },
   "outputs": [
    {
     "name": "stdout",
     "output_type": "stream",
     "text": [
      "input H:\\Chamodi\\LSDYNA\\Reflected_pressure\\RP_Section_5_new\n",
      "2 [WindowsPath('H:/Chamodi/LSDYNA/Reflected_pressure/RP_Section_5_new/RP_curves_fr19m'), WindowsPath('H:/Chamodi/LSDYNA/Reflected_pressure/RP_Section_5_new/RP_curves_fr21m'), WindowsPath('H:/Chamodi/LSDYNA/Reflected_pressure/RP_Section_5_new/RP_curves_fr23m'), WindowsPath('H:/Chamodi/LSDYNA/Reflected_pressure/RP_Section_5_new/RP_curves_fr25m')]\n"
     ]
    }
   ],
   "source": [
    "#Access input folder\n",
    "current_dir = Path.cwd()\n",
    "input_dir1 = Path (\"H:/Chamodi/LSDYNA/Reflected_pressure/RP_Section_5_new\")\n",
    "print (\"input\",input_dir1)\n",
    "\n",
    "#Access folders inside input folder\n",
    "input_dir2=  [folder1 for folder1 in input_dir1.iterdir() if folder1.is_dir()] # folder1 - RP_curves_fr7m\n",
    "print (\"2\",input_dir2)"
   ]
  },
  {
   "cell_type": "code",
   "execution_count": 3,
   "metadata": {
    "ExecuteTime": {
     "end_time": "2024-08-26T00:43:29.045307300Z",
     "start_time": "2024-08-26T00:43:22.974411700Z"
    }
   },
   "outputs": [
    {
     "name": "stdout",
     "output_type": "stream",
     "text": [
      "folder H:\\Chamodi\\LSDYNA\\Reflected_pressure\\RP_Section_5_new\\RP_curves_fr19m\\19m00.5kg\n",
      "1.xlsx\n",
      "2.xlsx\n",
      "3.xlsx\n",
      "4.xlsx\n",
      "folder H:\\Chamodi\\LSDYNA\\Reflected_pressure\\RP_Section_5_new\\RP_curves_fr19m\\19m02.5kg\n",
      "1.xlsx\n",
      "2.xlsx\n",
      "3.xlsx\n",
      "4.xlsx\n",
      "folder H:\\Chamodi\\LSDYNA\\Reflected_pressure\\RP_Section_5_new\\RP_curves_fr19m\\19m04.5kg\n",
      "1.xlsx\n",
      "2.xlsx\n",
      "3.xlsx\n",
      "4.xlsx\n",
      "folder H:\\Chamodi\\LSDYNA\\Reflected_pressure\\RP_Section_5_new\\RP_curves_fr19m\\19m06.5kg\n",
      "1.xlsx\n",
      "2.xlsx\n",
      "3.xlsx\n",
      "4.xlsx\n",
      "folder H:\\Chamodi\\LSDYNA\\Reflected_pressure\\RP_Section_5_new\\RP_curves_fr19m\\19m08.5kg\n",
      "1.xlsx\n",
      "2.xlsx\n",
      "3.xlsx\n",
      "4.xlsx\n",
      "folder H:\\Chamodi\\LSDYNA\\Reflected_pressure\\RP_Section_5_new\\RP_curves_fr19m\\19m10.5kg\n",
      "1.xlsx\n",
      "2.xlsx\n",
      "3.xlsx\n",
      "4.xlsx\n",
      "folder H:\\Chamodi\\LSDYNA\\Reflected_pressure\\RP_Section_5_new\\RP_curves_fr19m\\19m12.5kg\n",
      "1.xlsx\n",
      "2.xlsx\n",
      "3.xlsx\n",
      "4.xlsx\n",
      "folder H:\\Chamodi\\LSDYNA\\Reflected_pressure\\RP_Section_5_new\\RP_curves_fr19m\\19m14.5kg\n",
      "1.xlsx\n",
      "2.xlsx\n",
      "3.xlsx\n",
      "4.xlsx\n",
      "folder H:\\Chamodi\\LSDYNA\\Reflected_pressure\\RP_Section_5_new\\RP_curves_fr19m\\19m16.5kg\n",
      "1.xlsx\n",
      "2.xlsx\n",
      "3.xlsx\n",
      "4.xlsx\n",
      "folder H:\\Chamodi\\LSDYNA\\Reflected_pressure\\RP_Section_5_new\\RP_curves_fr19m\\19m18.5kg\n",
      "1.xlsx\n",
      "2.xlsx\n",
      "3.xlsx\n",
      "4.xlsx\n",
      "folder H:\\Chamodi\\LSDYNA\\Reflected_pressure\\RP_Section_5_new\\RP_curves_fr19m\\19m20.5kg\n",
      "1.xlsx\n",
      "2.xlsx\n",
      "3.xlsx\n",
      "4.xlsx\n",
      "folder H:\\Chamodi\\LSDYNA\\Reflected_pressure\\RP_Section_5_new\\RP_curves_fr19m\\19m22.5kg\n",
      "1.xlsx\n",
      "2.xlsx\n",
      "3.xlsx\n",
      "4.xlsx\n",
      "folder H:\\Chamodi\\LSDYNA\\Reflected_pressure\\RP_Section_5_new\\RP_curves_fr19m\\19m24.5kg\n",
      "1.xlsx\n",
      "2.xlsx\n",
      "3.xlsx\n",
      "4.xlsx\n",
      "folder H:\\Chamodi\\LSDYNA\\Reflected_pressure\\RP_Section_5_new\\RP_curves_fr19m\\19m26.5kg\n",
      "1.xlsx\n",
      "2.xlsx\n",
      "3.xlsx\n",
      "4.xlsx\n",
      "folder H:\\Chamodi\\LSDYNA\\Reflected_pressure\\RP_Section_5_new\\RP_curves_fr19m\\19m28.5kg\n",
      "1.xlsx\n",
      "2.xlsx\n",
      "3.xlsx\n",
      "4.xlsx\n",
      "folder H:\\Chamodi\\LSDYNA\\Reflected_pressure\\RP_Section_5_new\\RP_curves_fr19m\\19m30.5kg\n",
      "1.xlsx\n",
      "2.xlsx\n",
      "3.xlsx\n",
      "4.xlsx\n",
      "folder H:\\Chamodi\\LSDYNA\\Reflected_pressure\\RP_Section_5_new\\RP_curves_fr19m\\19m32.5kg\n",
      "1.xlsx\n",
      "2.xlsx\n",
      "3.xlsx\n",
      "4.xlsx\n",
      "folder H:\\Chamodi\\LSDYNA\\Reflected_pressure\\RP_Section_5_new\\RP_curves_fr19m\\19m34.5kg\n",
      "1.xlsx\n",
      "2.xlsx\n",
      "3.xlsx\n",
      "4.xlsx\n",
      "folder H:\\Chamodi\\LSDYNA\\Reflected_pressure\\RP_Section_5_new\\RP_curves_fr19m\\19m35.0kg\n",
      "1.xlsx\n",
      "2.xlsx\n",
      "3.xlsx\n",
      "4.xlsx\n",
      "folder H:\\Chamodi\\LSDYNA\\Reflected_pressure\\RP_Section_5_new\\RP_curves_fr21m\\21m00.5kg\n",
      "1.xlsx\n",
      "2.xlsx\n",
      "3.xlsx\n",
      "folder H:\\Chamodi\\LSDYNA\\Reflected_pressure\\RP_Section_5_new\\RP_curves_fr21m\\21m02.5kg\n",
      "1.xlsx\n",
      "2.xlsx\n",
      "3.xlsx\n",
      "4.xlsx\n",
      "folder H:\\Chamodi\\LSDYNA\\Reflected_pressure\\RP_Section_5_new\\RP_curves_fr21m\\21m04.5kg\n",
      "1.xlsx\n",
      "2.xlsx\n",
      "3.xlsx\n",
      "4.xlsx\n",
      "folder H:\\Chamodi\\LSDYNA\\Reflected_pressure\\RP_Section_5_new\\RP_curves_fr21m\\21m06.5kg\n",
      "1.xlsx\n",
      "2.xlsx\n",
      "3.xlsx\n",
      "4.xlsx\n",
      "folder H:\\Chamodi\\LSDYNA\\Reflected_pressure\\RP_Section_5_new\\RP_curves_fr21m\\21m08.5kg\n",
      "1.xlsx\n",
      "2.xlsx\n",
      "3.xlsx\n",
      "4.xlsx\n",
      "folder H:\\Chamodi\\LSDYNA\\Reflected_pressure\\RP_Section_5_new\\RP_curves_fr21m\\21m10.5kg\n",
      "1.xlsx\n",
      "2.xlsx\n",
      "3.xlsx\n",
      "4.xlsx\n",
      "folder H:\\Chamodi\\LSDYNA\\Reflected_pressure\\RP_Section_5_new\\RP_curves_fr21m\\21m12.5kg\n",
      "1.xlsx\n",
      "2.xlsx\n",
      "3.xlsx\n",
      "4.xlsx\n",
      "folder H:\\Chamodi\\LSDYNA\\Reflected_pressure\\RP_Section_5_new\\RP_curves_fr21m\\21m14.5kg\n",
      "1.xlsx\n",
      "2.xlsx\n",
      "3.xlsx\n",
      "4.xlsx\n",
      "folder H:\\Chamodi\\LSDYNA\\Reflected_pressure\\RP_Section_5_new\\RP_curves_fr21m\\21m16.5kg\n",
      "1.xlsx\n",
      "2.xlsx\n",
      "3.xlsx\n",
      "4.xlsx\n",
      "folder H:\\Chamodi\\LSDYNA\\Reflected_pressure\\RP_Section_5_new\\RP_curves_fr21m\\21m18.5kg\n",
      "1.xlsx\n",
      "2.xlsx\n",
      "3.xlsx\n",
      "4.xlsx\n",
      "folder H:\\Chamodi\\LSDYNA\\Reflected_pressure\\RP_Section_5_new\\RP_curves_fr21m\\21m20.5kg\n",
      "1.xlsx\n",
      "2.xlsx\n",
      "3.xlsx\n",
      "4.xlsx\n",
      "folder H:\\Chamodi\\LSDYNA\\Reflected_pressure\\RP_Section_5_new\\RP_curves_fr21m\\21m22.5kg\n",
      "1.xlsx\n",
      "2.xlsx\n",
      "3.xlsx\n",
      "4.xlsx\n",
      "folder H:\\Chamodi\\LSDYNA\\Reflected_pressure\\RP_Section_5_new\\RP_curves_fr21m\\21m24.5kg\n",
      "1.xlsx\n",
      "2.xlsx\n",
      "3.xlsx\n",
      "4.xlsx\n",
      "folder H:\\Chamodi\\LSDYNA\\Reflected_pressure\\RP_Section_5_new\\RP_curves_fr21m\\21m26.5kg\n",
      "1.xlsx\n",
      "2.xlsx\n",
      "3.xlsx\n",
      "4.xlsx\n",
      "folder H:\\Chamodi\\LSDYNA\\Reflected_pressure\\RP_Section_5_new\\RP_curves_fr21m\\21m28.5kg\n",
      "1.xlsx\n",
      "2.xlsx\n",
      "3.xlsx\n",
      "4.xlsx\n",
      "folder H:\\Chamodi\\LSDYNA\\Reflected_pressure\\RP_Section_5_new\\RP_curves_fr21m\\21m30.5kg\n",
      "1.xlsx\n",
      "2.xlsx\n",
      "3.xlsx\n",
      "4.xlsx\n",
      "folder H:\\Chamodi\\LSDYNA\\Reflected_pressure\\RP_Section_5_new\\RP_curves_fr21m\\21m32.5kg\n",
      "1.xlsx\n",
      "2.xlsx\n",
      "3.xlsx\n",
      "4.xlsx\n",
      "folder H:\\Chamodi\\LSDYNA\\Reflected_pressure\\RP_Section_5_new\\RP_curves_fr21m\\21m34.5kg\n",
      "1.xlsx\n",
      "2.xlsx\n",
      "3.xlsx\n",
      "4.xlsx\n",
      "folder H:\\Chamodi\\LSDYNA\\Reflected_pressure\\RP_Section_5_new\\RP_curves_fr21m\\21m35.0kg\n",
      "1.xlsx\n",
      "2.xlsx\n",
      "3.xlsx\n",
      "4.xlsx\n",
      "folder H:\\Chamodi\\LSDYNA\\Reflected_pressure\\RP_Section_5_new\\RP_curves_fr23m\\23m00.5kg\n",
      "1.xlsx\n",
      "2.xlsx\n",
      "3.xlsx\n",
      "folder H:\\Chamodi\\LSDYNA\\Reflected_pressure\\RP_Section_5_new\\RP_curves_fr23m\\23m02.5kg\n",
      "1.xlsx\n",
      "2.xlsx\n",
      "3.xlsx\n",
      "4.xlsx\n",
      "folder H:\\Chamodi\\LSDYNA\\Reflected_pressure\\RP_Section_5_new\\RP_curves_fr23m\\23m04.5kg\n",
      "1.xlsx\n",
      "2.xlsx\n",
      "3.xlsx\n",
      "4.xlsx\n",
      "folder H:\\Chamodi\\LSDYNA\\Reflected_pressure\\RP_Section_5_new\\RP_curves_fr23m\\23m06.5kg\n",
      "1.xlsx\n",
      "2.xlsx\n",
      "3.xlsx\n",
      "4.xlsx\n",
      "folder H:\\Chamodi\\LSDYNA\\Reflected_pressure\\RP_Section_5_new\\RP_curves_fr23m\\23m08.5kg\n",
      "1.xlsx\n",
      "2.xlsx\n",
      "3.xlsx\n",
      "4.xlsx\n",
      "folder H:\\Chamodi\\LSDYNA\\Reflected_pressure\\RP_Section_5_new\\RP_curves_fr23m\\23m10.5kg\n",
      "1.xlsx\n",
      "2.xlsx\n",
      "3.xlsx\n",
      "4.xlsx\n",
      "folder H:\\Chamodi\\LSDYNA\\Reflected_pressure\\RP_Section_5_new\\RP_curves_fr23m\\23m12.5kg\n",
      "1.xlsx\n",
      "2.xlsx\n",
      "3.xlsx\n",
      "4.xlsx\n",
      "folder H:\\Chamodi\\LSDYNA\\Reflected_pressure\\RP_Section_5_new\\RP_curves_fr23m\\23m14.5kg\n",
      "1.xlsx\n",
      "2.xlsx\n",
      "3.xlsx\n",
      "4.xlsx\n",
      "folder H:\\Chamodi\\LSDYNA\\Reflected_pressure\\RP_Section_5_new\\RP_curves_fr23m\\23m16.5kg\n",
      "1.xlsx\n",
      "2.xlsx\n",
      "3.xlsx\n",
      "4.xlsx\n",
      "folder H:\\Chamodi\\LSDYNA\\Reflected_pressure\\RP_Section_5_new\\RP_curves_fr23m\\23m18.5kg\n",
      "1.xlsx\n",
      "2.xlsx\n",
      "3.xlsx\n",
      "4.xlsx\n",
      "folder H:\\Chamodi\\LSDYNA\\Reflected_pressure\\RP_Section_5_new\\RP_curves_fr23m\\23m20.5kg\n",
      "1.xlsx\n",
      "2.xlsx\n",
      "3.xlsx\n",
      "4.xlsx\n",
      "folder H:\\Chamodi\\LSDYNA\\Reflected_pressure\\RP_Section_5_new\\RP_curves_fr23m\\23m22.5kg\n",
      "1.xlsx\n",
      "2.xlsx\n",
      "3.xlsx\n",
      "4.xlsx\n",
      "folder H:\\Chamodi\\LSDYNA\\Reflected_pressure\\RP_Section_5_new\\RP_curves_fr23m\\23m24.5kg\n",
      "1.xlsx\n",
      "2.xlsx\n",
      "3.xlsx\n",
      "4.xlsx\n",
      "folder H:\\Chamodi\\LSDYNA\\Reflected_pressure\\RP_Section_5_new\\RP_curves_fr23m\\23m26.5kg\n",
      "1.xlsx\n",
      "2.xlsx\n",
      "3.xlsx\n",
      "4.xlsx\n",
      "folder H:\\Chamodi\\LSDYNA\\Reflected_pressure\\RP_Section_5_new\\RP_curves_fr23m\\23m28.5kg\n",
      "1.xlsx\n",
      "2.xlsx\n",
      "3.xlsx\n",
      "4.xlsx\n",
      "folder H:\\Chamodi\\LSDYNA\\Reflected_pressure\\RP_Section_5_new\\RP_curves_fr23m\\23m30.5kg\n",
      "1.xlsx\n",
      "2.xlsx\n",
      "3.xlsx\n",
      "4.xlsx\n",
      "folder H:\\Chamodi\\LSDYNA\\Reflected_pressure\\RP_Section_5_new\\RP_curves_fr23m\\23m32.5kg\n",
      "1.xlsx\n",
      "2.xlsx\n",
      "3.xlsx\n",
      "4.xlsx\n",
      "folder H:\\Chamodi\\LSDYNA\\Reflected_pressure\\RP_Section_5_new\\RP_curves_fr23m\\23m34.5kg\n",
      "1.xlsx\n",
      "2.xlsx\n",
      "3.xlsx\n",
      "4.xlsx\n",
      "folder H:\\Chamodi\\LSDYNA\\Reflected_pressure\\RP_Section_5_new\\RP_curves_fr23m\\23m35.0kg\n",
      "1.xlsx\n",
      "2.xlsx\n",
      "3.xlsx\n",
      "4.xlsx\n",
      "folder H:\\Chamodi\\LSDYNA\\Reflected_pressure\\RP_Section_5_new\\RP_curves_fr25m\\25m00.5kg\n",
      "1.xlsx\n",
      "2.xlsx\n",
      "3.xlsx\n",
      "4.xlsx\n",
      "folder H:\\Chamodi\\LSDYNA\\Reflected_pressure\\RP_Section_5_new\\RP_curves_fr25m\\25m02.5kg\n",
      "1.xlsx\n",
      "2.xlsx\n",
      "3.xlsx\n",
      "4.xlsx\n",
      "folder H:\\Chamodi\\LSDYNA\\Reflected_pressure\\RP_Section_5_new\\RP_curves_fr25m\\25m04.5kg\n",
      "1.xlsx\n",
      "2.xlsx\n",
      "3.xlsx\n",
      "4.xlsx\n",
      "folder H:\\Chamodi\\LSDYNA\\Reflected_pressure\\RP_Section_5_new\\RP_curves_fr25m\\25m06.5kg\n",
      "1.xlsx\n",
      "2.xlsx\n",
      "3.xlsx\n",
      "4.xlsx\n",
      "folder H:\\Chamodi\\LSDYNA\\Reflected_pressure\\RP_Section_5_new\\RP_curves_fr25m\\25m08.5kg\n",
      "1.xlsx\n",
      "2.xlsx\n",
      "3.xlsx\n",
      "4.xlsx\n",
      "folder H:\\Chamodi\\LSDYNA\\Reflected_pressure\\RP_Section_5_new\\RP_curves_fr25m\\25m10.5kg\n",
      "1.xlsx\n",
      "2.xlsx\n",
      "3.xlsx\n",
      "4.xlsx\n",
      "folder H:\\Chamodi\\LSDYNA\\Reflected_pressure\\RP_Section_5_new\\RP_curves_fr25m\\25m12.5kg\n",
      "1.xlsx\n",
      "2.xlsx\n",
      "3.xlsx\n",
      "4.xlsx\n",
      "folder H:\\Chamodi\\LSDYNA\\Reflected_pressure\\RP_Section_5_new\\RP_curves_fr25m\\25m14.5kg\n",
      "1.xlsx\n",
      "2.xlsx\n",
      "3.xlsx\n",
      "4.xlsx\n",
      "folder H:\\Chamodi\\LSDYNA\\Reflected_pressure\\RP_Section_5_new\\RP_curves_fr25m\\25m16.5kg\n",
      "2.xlsx\n",
      "3.xlsx\n",
      "4.xlsx\n",
      "folder H:\\Chamodi\\LSDYNA\\Reflected_pressure\\RP_Section_5_new\\RP_curves_fr25m\\25m18.5kg\n",
      "1.xlsx\n",
      "2.xlsx\n",
      "3.xlsx\n",
      "4.xlsx\n",
      "folder H:\\Chamodi\\LSDYNA\\Reflected_pressure\\RP_Section_5_new\\RP_curves_fr25m\\25m20.5kg\n",
      "1.xlsx\n",
      "2.xlsx\n",
      "3.xlsx\n",
      "4.xlsx\n",
      "folder H:\\Chamodi\\LSDYNA\\Reflected_pressure\\RP_Section_5_new\\RP_curves_fr25m\\25m22.5kg\n",
      "1.xlsx\n",
      "2.xlsx\n",
      "3.xlsx\n",
      "4.xlsx\n",
      "folder H:\\Chamodi\\LSDYNA\\Reflected_pressure\\RP_Section_5_new\\RP_curves_fr25m\\25m24.5kg\n",
      "1.xlsx\n",
      "2.xlsx\n",
      "3.xlsx\n",
      "4.xlsx\n",
      "folder H:\\Chamodi\\LSDYNA\\Reflected_pressure\\RP_Section_5_new\\RP_curves_fr25m\\25m26.5kg\n",
      "1.xlsx\n",
      "2.xlsx\n",
      "3.xlsx\n",
      "4.xlsx\n",
      "folder H:\\Chamodi\\LSDYNA\\Reflected_pressure\\RP_Section_5_new\\RP_curves_fr25m\\25m28.5kg\n",
      "1.xlsx\n",
      "2.xlsx\n",
      "3.xlsx\n",
      "4.xlsx\n",
      "folder H:\\Chamodi\\LSDYNA\\Reflected_pressure\\RP_Section_5_new\\RP_curves_fr25m\\25m30.5kg\n",
      "1.xlsx\n",
      "2.xlsx\n",
      "3.xlsx\n",
      "4.xlsx\n",
      "folder H:\\Chamodi\\LSDYNA\\Reflected_pressure\\RP_Section_5_new\\RP_curves_fr25m\\25m32.5kg\n",
      "1.xlsx\n",
      "2.xlsx\n",
      "3.xlsx\n",
      "4.xlsx\n",
      "folder H:\\Chamodi\\LSDYNA\\Reflected_pressure\\RP_Section_5_new\\RP_curves_fr25m\\25m34.5kg\n",
      "1.xlsx\n",
      "2.xlsx\n",
      "3.xlsx\n",
      "4.xlsx\n",
      "folder H:\\Chamodi\\LSDYNA\\Reflected_pressure\\RP_Section_5_new\\RP_curves_fr25m\\25m35.0kg\n",
      "1.xlsx\n",
      "2.xlsx\n",
      "3.xlsx\n",
      "4.xlsx\n"
     ]
    }
   ],
   "source": [
    "#dataset = pd.DataFrame(columns = ['Charge_mass', 'Standoff_distance', 'Time', 'Pressure', 'Phase'])\n",
    "df_list = []\n",
    "\n",
    "for folder1 in input_dir2:\n",
    "    \n",
    "    input_dir3 =  [folder2 for folder2 in folder1.iterdir() if folder2.is_dir()] # folder2 - 07m00.5kg\n",
    "    \n",
    "    for folder2 in input_dir3:\n",
    "        \n",
    "        print ('folder', folder2)\n",
    "        files1 = [file1 for file1 in folder2.rglob(\"*.xlsx\")]\n",
    "    \n",
    "        for file1 in files1:\n",
    "            df_list.append(pd.read_excel(file1))\n",
    "            print (file1.stem)\n",
    "    \n",
    "dataset = pd.concat(df_list, ignore_index = True)"
   ]
  },
  {
   "cell_type": "code",
   "execution_count": 4,
   "metadata": {
    "colab": {},
    "colab_type": "code",
    "id": "B9CV13Co_HHM",
    "ExecuteTime": {
     "end_time": "2024-08-26T00:43:30.805576800Z",
     "start_time": "2024-08-26T00:43:30.746017400Z"
    }
   },
   "outputs": [
    {
     "name": "stdout",
     "output_type": "stream",
     "text": [
      "<class 'pandas.core.frame.DataFrame'>\n",
      "RangeIndex: 39531 entries, 0 to 39530\n",
      "Data columns (total 6 columns):\n",
      " #   Column             Non-Null Count  Dtype  \n",
      "---  ------             --------------  -----  \n",
      " 0   Mass               39531 non-null  float64\n",
      " 1   Standoff distance  39531 non-null  int64  \n",
      " 2   Angle              39531 non-null  int64  \n",
      " 3   Time               39531 non-null  float64\n",
      " 4   Phase              39531 non-null  object \n",
      " 5   Pressure           39531 non-null  float64\n",
      "dtypes: float64(3), int64(2), object(1)\n",
      "memory usage: 1.8+ MB\n"
     ]
    }
   ],
   "source": [
    "dataset.info()"
   ]
  },
  {
   "cell_type": "code",
   "execution_count": 5,
   "outputs": [
    {
     "name": "stdout",
     "output_type": "stream",
     "text": [
      "<class 'pandas.core.frame.DataFrame'>\n",
      "RangeIndex: 39531 entries, 0 to 39530\n",
      "Data columns (total 7 columns):\n",
      " #   Column             Non-Null Count  Dtype  \n",
      "---  ------             --------------  -----  \n",
      " 0   Mass               39531 non-null  float64\n",
      " 1   Standoff distance  39531 non-null  int64  \n",
      " 2   Angle              39531 non-null  int64  \n",
      " 3   Time               39531 non-null  float64\n",
      " 4   Pressure           39531 non-null  float64\n",
      " 5   Phase_negative     39531 non-null  uint8  \n",
      " 6   Phase_positive     39531 non-null  uint8  \n",
      "dtypes: float64(3), int64(2), uint8(2)\n",
      "memory usage: 1.6 MB\n"
     ]
    }
   ],
   "source": [
    "# Assuming your original column is named 'Category'\n",
    "dataset['Phase'] = dataset['Phase'].replace({'negative_increasing': 'negative', 'negative_decreasing': 'negative'})\n",
    "dataset = pd.get_dummies(dataset, columns =['Phase'], dtype = np.uint8)\n",
    "dataset.info()"
   ],
   "metadata": {
    "collapsed": false,
    "ExecuteTime": {
     "end_time": "2024-08-26T00:43:32.158009200Z",
     "start_time": "2024-08-26T00:43:32.110322700Z"
    }
   }
  },
  {
   "cell_type": "code",
   "execution_count": 6,
   "outputs": [
    {
     "data": {
      "text/plain": "    Mass  Standoff distance  Angle       Time  Pressure  Phase_negative  \\\n0    0.5                 19      0  49.855396  6.390461               0   \n1    0.5                 19      0  49.891703  6.357195               0   \n2    0.5                 19      0  49.928006  6.095211               0   \n3    0.5                 19      0  49.964305  5.671938               0   \n4    0.5                 19      0  50.036952  4.682539               0   \n5    0.5                 19      0  50.073268  4.263273               0   \n6    0.5                 19      0  50.109584  3.927648               0   \n7    0.5                 19      0  50.145893  3.658039               0   \n8    0.5                 19      0  50.182205  3.403523               0   \n9    0.5                 19      0  50.218540  3.115602               0   \n10   0.5                 19      0  50.291188  2.455523               0   \n11   0.5                 19      0  50.327514  2.182898               0   \n12   0.5                 19      0  50.363867  2.011883               0   \n13   0.5                 19      0  50.400196  1.915555               0   \n14   0.5                 19      0  50.436529  1.851156               0   \n15   0.5                 19      0  50.472865  1.769711               0   \n16   0.5                 19      0  50.509222  1.627008               0   \n17   0.5                 19      0  50.581906  1.242523               0   \n18   0.5                 19      0  50.618247  1.096813               0   \n19   0.5                 19      0  50.654594  1.021570               0   \n20   0.5                 19      0  50.727290  0.969500               0   \n21   0.5                 19      0  50.763645  0.912992               0   \n22   0.5                 19      0  50.800000  0.840875               0   \n23   0.5                 19      0  50.836359  0.780398               0   \n24   0.5                 19      0  50.872717  0.783500               0   \n25   0.5                 19      0  50.909084  0.804117               0   \n26   0.5                 19      0  50.945444  0.818750               0   \n27   0.5                 19      0  50.981811  0.793375               0   \n28   0.5                 19      0  51.018177  0.722062               0   \n29   0.5                 19      0  51.090943  0.548406               0   \n\n    Phase_positive  \n0                1  \n1                1  \n2                1  \n3                1  \n4                1  \n5                1  \n6                1  \n7                1  \n8                1  \n9                1  \n10               1  \n11               1  \n12               1  \n13               1  \n14               1  \n15               1  \n16               1  \n17               1  \n18               1  \n19               1  \n20               1  \n21               1  \n22               1  \n23               1  \n24               1  \n25               1  \n26               1  \n27               1  \n28               1  \n29               1  ",
      "text/html": "<div>\n<style scoped>\n    .dataframe tbody tr th:only-of-type {\n        vertical-align: middle;\n    }\n\n    .dataframe tbody tr th {\n        vertical-align: top;\n    }\n\n    .dataframe thead th {\n        text-align: right;\n    }\n</style>\n<table border=\"1\" class=\"dataframe\">\n  <thead>\n    <tr style=\"text-align: right;\">\n      <th></th>\n      <th>Mass</th>\n      <th>Standoff distance</th>\n      <th>Angle</th>\n      <th>Time</th>\n      <th>Pressure</th>\n      <th>Phase_negative</th>\n      <th>Phase_positive</th>\n    </tr>\n  </thead>\n  <tbody>\n    <tr>\n      <th>0</th>\n      <td>0.5</td>\n      <td>19</td>\n      <td>0</td>\n      <td>49.855396</td>\n      <td>6.390461</td>\n      <td>0</td>\n      <td>1</td>\n    </tr>\n    <tr>\n      <th>1</th>\n      <td>0.5</td>\n      <td>19</td>\n      <td>0</td>\n      <td>49.891703</td>\n      <td>6.357195</td>\n      <td>0</td>\n      <td>1</td>\n    </tr>\n    <tr>\n      <th>2</th>\n      <td>0.5</td>\n      <td>19</td>\n      <td>0</td>\n      <td>49.928006</td>\n      <td>6.095211</td>\n      <td>0</td>\n      <td>1</td>\n    </tr>\n    <tr>\n      <th>3</th>\n      <td>0.5</td>\n      <td>19</td>\n      <td>0</td>\n      <td>49.964305</td>\n      <td>5.671938</td>\n      <td>0</td>\n      <td>1</td>\n    </tr>\n    <tr>\n      <th>4</th>\n      <td>0.5</td>\n      <td>19</td>\n      <td>0</td>\n      <td>50.036952</td>\n      <td>4.682539</td>\n      <td>0</td>\n      <td>1</td>\n    </tr>\n    <tr>\n      <th>5</th>\n      <td>0.5</td>\n      <td>19</td>\n      <td>0</td>\n      <td>50.073268</td>\n      <td>4.263273</td>\n      <td>0</td>\n      <td>1</td>\n    </tr>\n    <tr>\n      <th>6</th>\n      <td>0.5</td>\n      <td>19</td>\n      <td>0</td>\n      <td>50.109584</td>\n      <td>3.927648</td>\n      <td>0</td>\n      <td>1</td>\n    </tr>\n    <tr>\n      <th>7</th>\n      <td>0.5</td>\n      <td>19</td>\n      <td>0</td>\n      <td>50.145893</td>\n      <td>3.658039</td>\n      <td>0</td>\n      <td>1</td>\n    </tr>\n    <tr>\n      <th>8</th>\n      <td>0.5</td>\n      <td>19</td>\n      <td>0</td>\n      <td>50.182205</td>\n      <td>3.403523</td>\n      <td>0</td>\n      <td>1</td>\n    </tr>\n    <tr>\n      <th>9</th>\n      <td>0.5</td>\n      <td>19</td>\n      <td>0</td>\n      <td>50.218540</td>\n      <td>3.115602</td>\n      <td>0</td>\n      <td>1</td>\n    </tr>\n    <tr>\n      <th>10</th>\n      <td>0.5</td>\n      <td>19</td>\n      <td>0</td>\n      <td>50.291188</td>\n      <td>2.455523</td>\n      <td>0</td>\n      <td>1</td>\n    </tr>\n    <tr>\n      <th>11</th>\n      <td>0.5</td>\n      <td>19</td>\n      <td>0</td>\n      <td>50.327514</td>\n      <td>2.182898</td>\n      <td>0</td>\n      <td>1</td>\n    </tr>\n    <tr>\n      <th>12</th>\n      <td>0.5</td>\n      <td>19</td>\n      <td>0</td>\n      <td>50.363867</td>\n      <td>2.011883</td>\n      <td>0</td>\n      <td>1</td>\n    </tr>\n    <tr>\n      <th>13</th>\n      <td>0.5</td>\n      <td>19</td>\n      <td>0</td>\n      <td>50.400196</td>\n      <td>1.915555</td>\n      <td>0</td>\n      <td>1</td>\n    </tr>\n    <tr>\n      <th>14</th>\n      <td>0.5</td>\n      <td>19</td>\n      <td>0</td>\n      <td>50.436529</td>\n      <td>1.851156</td>\n      <td>0</td>\n      <td>1</td>\n    </tr>\n    <tr>\n      <th>15</th>\n      <td>0.5</td>\n      <td>19</td>\n      <td>0</td>\n      <td>50.472865</td>\n      <td>1.769711</td>\n      <td>0</td>\n      <td>1</td>\n    </tr>\n    <tr>\n      <th>16</th>\n      <td>0.5</td>\n      <td>19</td>\n      <td>0</td>\n      <td>50.509222</td>\n      <td>1.627008</td>\n      <td>0</td>\n      <td>1</td>\n    </tr>\n    <tr>\n      <th>17</th>\n      <td>0.5</td>\n      <td>19</td>\n      <td>0</td>\n      <td>50.581906</td>\n      <td>1.242523</td>\n      <td>0</td>\n      <td>1</td>\n    </tr>\n    <tr>\n      <th>18</th>\n      <td>0.5</td>\n      <td>19</td>\n      <td>0</td>\n      <td>50.618247</td>\n      <td>1.096813</td>\n      <td>0</td>\n      <td>1</td>\n    </tr>\n    <tr>\n      <th>19</th>\n      <td>0.5</td>\n      <td>19</td>\n      <td>0</td>\n      <td>50.654594</td>\n      <td>1.021570</td>\n      <td>0</td>\n      <td>1</td>\n    </tr>\n    <tr>\n      <th>20</th>\n      <td>0.5</td>\n      <td>19</td>\n      <td>0</td>\n      <td>50.727290</td>\n      <td>0.969500</td>\n      <td>0</td>\n      <td>1</td>\n    </tr>\n    <tr>\n      <th>21</th>\n      <td>0.5</td>\n      <td>19</td>\n      <td>0</td>\n      <td>50.763645</td>\n      <td>0.912992</td>\n      <td>0</td>\n      <td>1</td>\n    </tr>\n    <tr>\n      <th>22</th>\n      <td>0.5</td>\n      <td>19</td>\n      <td>0</td>\n      <td>50.800000</td>\n      <td>0.840875</td>\n      <td>0</td>\n      <td>1</td>\n    </tr>\n    <tr>\n      <th>23</th>\n      <td>0.5</td>\n      <td>19</td>\n      <td>0</td>\n      <td>50.836359</td>\n      <td>0.780398</td>\n      <td>0</td>\n      <td>1</td>\n    </tr>\n    <tr>\n      <th>24</th>\n      <td>0.5</td>\n      <td>19</td>\n      <td>0</td>\n      <td>50.872717</td>\n      <td>0.783500</td>\n      <td>0</td>\n      <td>1</td>\n    </tr>\n    <tr>\n      <th>25</th>\n      <td>0.5</td>\n      <td>19</td>\n      <td>0</td>\n      <td>50.909084</td>\n      <td>0.804117</td>\n      <td>0</td>\n      <td>1</td>\n    </tr>\n    <tr>\n      <th>26</th>\n      <td>0.5</td>\n      <td>19</td>\n      <td>0</td>\n      <td>50.945444</td>\n      <td>0.818750</td>\n      <td>0</td>\n      <td>1</td>\n    </tr>\n    <tr>\n      <th>27</th>\n      <td>0.5</td>\n      <td>19</td>\n      <td>0</td>\n      <td>50.981811</td>\n      <td>0.793375</td>\n      <td>0</td>\n      <td>1</td>\n    </tr>\n    <tr>\n      <th>28</th>\n      <td>0.5</td>\n      <td>19</td>\n      <td>0</td>\n      <td>51.018177</td>\n      <td>0.722062</td>\n      <td>0</td>\n      <td>1</td>\n    </tr>\n    <tr>\n      <th>29</th>\n      <td>0.5</td>\n      <td>19</td>\n      <td>0</td>\n      <td>51.090943</td>\n      <td>0.548406</td>\n      <td>0</td>\n      <td>1</td>\n    </tr>\n  </tbody>\n</table>\n</div>"
     },
     "execution_count": 6,
     "metadata": {},
     "output_type": "execute_result"
    }
   ],
   "source": [
    "dataset.head(30)"
   ],
   "metadata": {
    "collapsed": false,
    "ExecuteTime": {
     "end_time": "2024-08-26T00:43:33.585908900Z",
     "start_time": "2024-08-26T00:43:33.526341200Z"
    }
   }
  },
  {
   "cell_type": "code",
   "execution_count": 7,
   "metadata": {
    "ExecuteTime": {
     "end_time": "2024-08-26T00:43:34.729573700Z",
     "start_time": "2024-08-26T00:43:34.706535300Z"
    }
   },
   "outputs": [
    {
     "name": "stdout",
     "output_type": "stream",
     "text": [
      "(39531, 6) (39531,)\n"
     ]
    }
   ],
   "source": [
    "y = dataset['Pressure']\n",
    "X = dataset.drop(['Pressure'], axis=1)\n",
    "print(X.shape, y.shape)"
   ]
  },
  {
   "cell_type": "code",
   "execution_count": 8,
   "metadata": {
    "ExecuteTime": {
     "end_time": "2024-08-26T00:43:35.817121400Z",
     "start_time": "2024-08-26T00:43:35.784164300Z"
    }
   },
   "outputs": [],
   "source": [
    "# convert to numpy array\n",
    "X = np.array(X)\n",
    "y = np.array(y)"
   ]
  },
  {
   "cell_type": "code",
   "execution_count": 9,
   "metadata": {
    "colab": {},
    "colab_type": "code",
    "id": "L5edeb2r_agx",
    "ExecuteTime": {
     "end_time": "2024-08-26T00:43:37.330096900Z",
     "start_time": "2024-08-26T00:43:36.738827900Z"
    }
   },
   "outputs": [],
   "source": [
    "from sklearn.model_selection import train_test_split\n",
    "X_train, X_test, y_train, y_test = train_test_split(X,\n",
    "                                                    y,\n",
    "                                                    test_size = 0.4,\n",
    "                                                    random_state = 0)"
   ]
  },
  {
   "cell_type": "code",
   "execution_count": 10,
   "metadata": {
    "colab": {},
    "colab_type": "code",
    "id": "L5edeb2r_agx",
    "ExecuteTime": {
     "end_time": "2024-08-26T00:43:38.099558700Z",
     "start_time": "2024-08-26T00:43:38.055976900Z"
    }
   },
   "outputs": [],
   "source": [
    "X_val, X_test, y_val, y_test = train_test_split(X_test,\n",
    "                                                y_test,\n",
    "                                                test_size = 0.5,\n",
    "                                                random_state = 0)"
   ]
  },
  {
   "cell_type": "code",
   "execution_count": 12,
   "outputs": [
    {
     "name": "stdout",
     "output_type": "stream",
     "text": [
      "[[-0.91241964 -0.38953408  0.44095665  0.21640614  1.          0.        ]\n",
      " [ 0.68969168  1.43454673  0.44095665  0.23056501  0.          1.        ]\n",
      " [ 0.8899556  -1.30157449 -0.46494285 -1.35228213  0.          1.        ]\n",
      " ...\n",
      " [ 1.29048343  0.52250633  1.34685615  1.94020896  1.          0.        ]\n",
      " [-1.7134753   0.52250633 -1.37084236 -0.41452062  0.          1.        ]\n",
      " [-0.71215573 -1.30157449  0.44095665 -0.41993979  0.          1.        ]]\n"
     ]
    }
   ],
   "source": [
    "from sklearn.preprocessing import StandardScaler\n",
    "#sc = StandardScaler()\n",
    "X_train[:,0:4] = sc.transform(X_train[:, 0:4])\n",
    "print (X_train)"
   ],
   "metadata": {
    "collapsed": false,
    "ExecuteTime": {
     "end_time": "2024-08-26T00:43:50.336980900Z",
     "start_time": "2024-08-26T00:43:50.306978300Z"
    }
   }
  },
  {
   "cell_type": "code",
   "execution_count": 13,
   "outputs": [
    {
     "name": "stdout",
     "output_type": "stream",
     "text": [
      "[[ 0.8899556   0.52250633 -1.37084236 -0.40978345  0.          1.        ]\n",
      " [ 0.08889994 -1.30157449 -1.37084236 -1.36503152  0.          1.        ]\n",
      " [ 1.09021952 -0.38953408  1.34685615  0.34741426  0.          1.        ]\n",
      " ...\n",
      " [ 0.28916385 -1.30157449  0.44095665 -0.53753247  0.          1.        ]\n",
      " [-0.91241964  0.52250633  1.34685615  1.64873638  0.          1.        ]\n",
      " [-1.91373922  0.52250633 -0.46494285  0.01774215  0.          1.        ]]\n"
     ]
    }
   ],
   "source": [
    "X_test[:,0:4] = sc.transform(X_test[:,0:4])\n",
    "print (X_test)"
   ],
   "metadata": {
    "collapsed": false,
    "ExecuteTime": {
     "end_time": "2024-08-26T00:43:51.627495600Z",
     "start_time": "2024-08-26T00:43:51.591876600Z"
    }
   }
  },
  {
   "cell_type": "code",
   "execution_count": 14,
   "outputs": [
    {
     "name": "stdout",
     "output_type": "stream",
     "text": [
      "[[ 0.48942777  0.52250633 -0.46494285 -0.21725645  0.          1.        ]\n",
      " [-0.71215573  0.52250633 -0.46494285 -0.53825458  0.          1.        ]\n",
      " [ 0.68969168 -0.38953408  1.34685615  1.01156779  0.          1.        ]\n",
      " ...\n",
      " [ 1.29048343  0.52250633  0.44095665  0.41413656  0.          1.        ]\n",
      " [ 0.08889994 -0.38953408  1.34685615  1.08912157  0.          1.        ]\n",
      " [ 0.08889994  1.43454673 -0.46494285 -0.15937923  0.          1.        ]]\n"
     ]
    }
   ],
   "source": [
    "X_val[:,0:4] = sc.transform(X_val[:,0:4])\n",
    "print (X_val)"
   ],
   "metadata": {
    "collapsed": false,
    "ExecuteTime": {
     "end_time": "2024-08-26T00:43:52.646821100Z",
     "start_time": "2024-08-26T00:43:52.618659500Z"
    }
   }
  },
  {
   "cell_type": "code",
   "execution_count": 15,
   "outputs": [
    {
     "name": "stdout",
     "output_type": "stream",
     "text": [
      "X_train 23718\n",
      "X_test 7907\n",
      "X_val 7906\n"
     ]
    }
   ],
   "source": [
    "print (\"X_train\", len(X_train))\n",
    "print (\"X_test\", len(X_test))\n",
    "print (\"X_val\", len(X_val))"
   ],
   "metadata": {
    "collapsed": false,
    "ExecuteTime": {
     "end_time": "2024-08-26T00:43:53.860921100Z",
     "start_time": "2024-08-26T00:43:53.847325600Z"
    }
   }
  },
  {
   "cell_type": "markdown",
   "metadata": {
    "colab_type": "text",
    "id": "_mSLlAT9_eyI"
   },
   "source": [
    "## Part 3 - Building the ANN"
   ]
  },
  {
   "cell_type": "code",
   "execution_count": 15,
   "metadata": {
    "colab": {},
    "colab_type": "code",
    "id": "J6Hd97Ls__Nz",
    "ExecuteTime": {
     "end_time": "2024-08-11T05:34:10.777325300Z",
     "start_time": "2024-08-11T05:34:10.627079700Z"
    }
   },
   "outputs": [],
   "source": [
    "ann = tf.keras.models.Sequential()"
   ]
  },
  {
   "cell_type": "code",
   "execution_count": 16,
   "metadata": {
    "colab": {},
    "colab_type": "code",
    "id": "ksO_Vv40AHix",
    "ExecuteTime": {
     "end_time": "2024-08-11T05:34:11.234413800Z",
     "start_time": "2024-08-11T05:34:10.780325400Z"
    }
   },
   "outputs": [],
   "source": [
    "ann.add(tf.keras.layers.Dense(units=250,\n",
    "                              input_shape=(X_train.shape[1],),\n",
    "                              activation='relu'))\n",
    "ann.add(tf.keras.layers.Dense(units=225,\n",
    "                              activation='relu'))\n",
    "ann.add(tf.keras.layers.Dense(units=200,\n",
    "                              activation='relu'))"
   ]
  },
  {
   "cell_type": "code",
   "execution_count": 17,
   "metadata": {
    "colab": {},
    "colab_type": "code",
    "id": "YFATpzsUAkLL",
    "ExecuteTime": {
     "end_time": "2024-08-11T05:34:11.493854300Z",
     "start_time": "2024-08-11T05:34:11.236929200Z"
    }
   },
   "outputs": [],
   "source": [
    "ann.add(tf.keras.layers.Dense(units=1,\n",
    "                              activation='linear'))"
   ]
  },
  {
   "cell_type": "code",
   "execution_count": 18,
   "metadata": {
    "ExecuteTime": {
     "end_time": "2024-08-11T05:34:11.979285Z",
     "start_time": "2024-08-11T05:34:11.495855700Z"
    }
   },
   "outputs": [
    {
     "name": "stdout",
     "output_type": "stream",
     "text": [
      "Model: \"sequential\"\n",
      "_________________________________________________________________\n",
      " Layer (type)                Output Shape              Param #   \n",
      "=================================================================\n",
      " dense (Dense)               (None, 250)               1750      \n",
      "                                                                 \n",
      " dense_1 (Dense)             (None, 225)               56475     \n",
      "                                                                 \n",
      " dense_2 (Dense)             (None, 200)               45200     \n",
      "                                                                 \n",
      " dense_3 (Dense)             (None, 1)                 201       \n",
      "                                                                 \n",
      "=================================================================\n",
      "Total params: 103,626\n",
      "Trainable params: 103,626\n",
      "Non-trainable params: 0\n",
      "_________________________________________________________________\n"
     ]
    }
   ],
   "source": [
    "ann.summary()"
   ]
  },
  {
   "cell_type": "markdown",
   "metadata": {
    "colab_type": "text",
    "id": "fq7e4fF6A1yy"
   },
   "source": [
    "## Part 4 - Training the ANN"
   ]
  },
  {
   "cell_type": "code",
   "execution_count": 19,
   "metadata": {
    "colab": {},
    "colab_type": "code",
    "id": "pesgbWlCAtB4",
    "ExecuteTime": {
     "end_time": "2024-08-11T05:34:12.575995Z",
     "start_time": "2024-08-11T05:34:11.969277700Z"
    }
   },
   "outputs": [],
   "source": [
    "# from tensorflow.keras.optimizers import Adam\n",
    "from keras.optimizers import Adam\n",
    "opt = Adam(learning_rate=0.001)\n",
    "ann.compile(optimizer = opt,\n",
    "            loss = 'mean_squared_error',\n",
    "            metrics = ['mae'])"
   ]
  },
  {
   "cell_type": "code",
   "execution_count": 20,
   "metadata": {
    "ExecuteTime": {
     "end_time": "2024-08-11T05:34:12.834398500Z",
     "start_time": "2024-08-11T05:34:12.576996400Z"
    }
   },
   "outputs": [],
   "source": [
    "# protects from unnecessary further training of the model if a particular metric does not continue to improve over a number of n epochs. In such a case, the model training would be automatically aborted.\n",
    "from keras.callbacks import EarlyStopping\n",
    "es = EarlyStopping(monitor='val_loss',\n",
    "                   mode='min',\n",
    "                   patience=50,\n",
    "                   restore_best_weights = True)"
   ]
  },
  {
   "cell_type": "code",
   "execution_count": 21,
   "metadata": {
    "colab": {
     "base_uri": "https://localhost:8080/",
     "height": 1000
    },
    "colab_type": "code",
    "id": "c_vV-tiiA5zn",
    "outputId": "4a2b6ee6-ed75-4698-9069-b250e613803f",
    "ExecuteTime": {
     "end_time": "2024-08-11T05:55:08.838520200Z",
     "start_time": "2024-08-11T05:34:12.837394800Z"
    }
   },
   "outputs": [
    {
     "name": "stdout",
     "output_type": "stream",
     "text": [
      "Epoch 1/500\n",
      "791/791 [==============================] - 36s 44ms/step - loss: 11.7200 - mae: 1.6817 - val_loss: 6.8460 - val_mae: 1.1413\n",
      "Epoch 2/500\n",
      "791/791 [==============================] - 4s 5ms/step - loss: 7.3868 - mae: 1.2611 - val_loss: 4.7792 - val_mae: 0.9764\n",
      "Epoch 3/500\n",
      "791/791 [==============================] - 4s 5ms/step - loss: 5.1933 - mae: 0.9977 - val_loss: 4.7277 - val_mae: 1.0261\n",
      "Epoch 4/500\n",
      "791/791 [==============================] - 4s 5ms/step - loss: 3.9101 - mae: 0.8422 - val_loss: 2.4558 - val_mae: 0.7395\n",
      "Epoch 5/500\n",
      "791/791 [==============================] - 4s 5ms/step - loss: 3.9630 - mae: 0.8269 - val_loss: 2.9684 - val_mae: 0.9401\n",
      "Epoch 6/500\n",
      "791/791 [==============================] - 4s 6ms/step - loss: 3.6312 - mae: 0.8247 - val_loss: 9.0670 - val_mae: 1.7638\n",
      "Epoch 7/500\n",
      "791/791 [==============================] - 4s 5ms/step - loss: 3.9585 - mae: 0.8611 - val_loss: 3.7321 - val_mae: 0.7400\n",
      "Epoch 8/500\n",
      "791/791 [==============================] - 4s 6ms/step - loss: 2.7798 - mae: 0.6870 - val_loss: 1.5945 - val_mae: 0.5336\n",
      "Epoch 9/500\n",
      "791/791 [==============================] - 4s 4ms/step - loss: 2.9020 - mae: 0.7244 - val_loss: 3.3896 - val_mae: 0.7096\n",
      "Epoch 10/500\n",
      "791/791 [==============================] - 4s 5ms/step - loss: 3.2342 - mae: 0.7834 - val_loss: 1.2595 - val_mae: 0.5161\n",
      "Epoch 11/500\n",
      "791/791 [==============================] - 4s 5ms/step - loss: 2.9189 - mae: 0.7331 - val_loss: 1.4520 - val_mae: 0.5097\n",
      "Epoch 12/500\n",
      "791/791 [==============================] - 4s 5ms/step - loss: 2.4707 - mae: 0.6521 - val_loss: 2.1921 - val_mae: 0.6411\n",
      "Epoch 13/500\n",
      "791/791 [==============================] - 4s 5ms/step - loss: 2.7809 - mae: 0.6858 - val_loss: 1.0492 - val_mae: 0.4309\n",
      "Epoch 14/500\n",
      "791/791 [==============================] - 5s 6ms/step - loss: 3.5771 - mae: 0.8443 - val_loss: 2.0421 - val_mae: 0.6691\n",
      "Epoch 15/500\n",
      "791/791 [==============================] - 4s 5ms/step - loss: 2.9136 - mae: 0.7503 - val_loss: 2.3929 - val_mae: 0.6300\n",
      "Epoch 16/500\n",
      "791/791 [==============================] - 4s 5ms/step - loss: 2.5395 - mae: 0.6664 - val_loss: 1.6154 - val_mae: 0.5553\n",
      "Epoch 17/500\n",
      "791/791 [==============================] - 3s 4ms/step - loss: 2.7219 - mae: 0.7041 - val_loss: 1.3210 - val_mae: 0.5187\n",
      "Epoch 18/500\n",
      "791/791 [==============================] - 4s 5ms/step - loss: 2.3726 - mae: 0.6487 - val_loss: 2.9800 - val_mae: 0.7021\n",
      "Epoch 19/500\n",
      "791/791 [==============================] - 4s 5ms/step - loss: 2.7862 - mae: 0.6728 - val_loss: 6.7995 - val_mae: 1.3622\n",
      "Epoch 20/500\n",
      "791/791 [==============================] - 4s 5ms/step - loss: 2.5080 - mae: 0.6890 - val_loss: 1.1292 - val_mae: 0.4824\n",
      "Epoch 21/500\n",
      "791/791 [==============================] - 5s 6ms/step - loss: 1.9660 - mae: 0.5767 - val_loss: 3.9428 - val_mae: 0.8216\n",
      "Epoch 22/500\n",
      "791/791 [==============================] - 4s 5ms/step - loss: 2.1014 - mae: 0.5975 - val_loss: 1.0539 - val_mae: 0.4253\n",
      "Epoch 23/500\n",
      "791/791 [==============================] - 4s 5ms/step - loss: 1.7997 - mae: 0.5510 - val_loss: 1.0178 - val_mae: 0.4102\n",
      "Epoch 24/500\n",
      "791/791 [==============================] - 4s 5ms/step - loss: 2.7843 - mae: 0.6973 - val_loss: 2.1456 - val_mae: 0.7089\n",
      "Epoch 25/500\n",
      "791/791 [==============================] - 4s 4ms/step - loss: 1.8125 - mae: 0.5577 - val_loss: 0.9731 - val_mae: 0.4169\n",
      "Epoch 26/500\n",
      "791/791 [==============================] - 4s 5ms/step - loss: 2.5225 - mae: 0.6639 - val_loss: 3.5231 - val_mae: 0.9552\n",
      "Epoch 27/500\n",
      "791/791 [==============================] - 4s 6ms/step - loss: 2.0367 - mae: 0.6221 - val_loss: 1.1471 - val_mae: 0.4453\n",
      "Epoch 28/500\n",
      "791/791 [==============================] - 4s 4ms/step - loss: 1.5106 - mae: 0.5254 - val_loss: 0.7532 - val_mae: 0.3621\n",
      "Epoch 29/500\n",
      "791/791 [==============================] - 4s 5ms/step - loss: 2.0567 - mae: 0.5941 - val_loss: 1.5728 - val_mae: 0.5596\n",
      "Epoch 30/500\n",
      "791/791 [==============================] - 4s 5ms/step - loss: 1.9002 - mae: 0.5678 - val_loss: 3.6156 - val_mae: 0.6845\n",
      "Epoch 31/500\n",
      "791/791 [==============================] - 5s 6ms/step - loss: 1.4722 - mae: 0.5000 - val_loss: 1.4628 - val_mae: 0.4611\n",
      "Epoch 32/500\n",
      "791/791 [==============================] - 4s 5ms/step - loss: 2.2737 - mae: 0.6060 - val_loss: 1.2802 - val_mae: 0.4762\n",
      "Epoch 33/500\n",
      "791/791 [==============================] - 4s 5ms/step - loss: 1.7976 - mae: 0.5440 - val_loss: 0.7711 - val_mae: 0.3614\n",
      "Epoch 34/500\n",
      "791/791 [==============================] - 4s 5ms/step - loss: 1.3219 - mae: 0.4698 - val_loss: 0.8063 - val_mae: 0.3670\n",
      "Epoch 35/500\n",
      "791/791 [==============================] - 3s 4ms/step - loss: 1.8030 - mae: 0.5437 - val_loss: 0.7797 - val_mae: 0.3686\n",
      "Epoch 36/500\n",
      "791/791 [==============================] - 4s 5ms/step - loss: 1.2861 - mae: 0.4561 - val_loss: 2.4204 - val_mae: 0.6028\n",
      "Epoch 37/500\n",
      "791/791 [==============================] - 4s 5ms/step - loss: 1.6318 - mae: 0.5086 - val_loss: 1.3460 - val_mae: 0.4194\n",
      "Epoch 38/500\n",
      "791/791 [==============================] - 4s 5ms/step - loss: 1.6764 - mae: 0.5200 - val_loss: 2.7127 - val_mae: 0.7217\n",
      "Epoch 39/500\n",
      "791/791 [==============================] - 4s 6ms/step - loss: 2.1958 - mae: 0.5972 - val_loss: 1.4189 - val_mae: 0.5464\n",
      "Epoch 40/500\n",
      "791/791 [==============================] - 4s 5ms/step - loss: 1.4415 - mae: 0.4847 - val_loss: 2.1780 - val_mae: 0.5308\n",
      "Epoch 41/500\n",
      "791/791 [==============================] - 4s 5ms/step - loss: 1.6882 - mae: 0.5197 - val_loss: 1.2227 - val_mae: 0.4633\n",
      "Epoch 42/500\n",
      "791/791 [==============================] - 4s 5ms/step - loss: 1.3148 - mae: 0.4636 - val_loss: 0.6925 - val_mae: 0.3504\n",
      "Epoch 43/500\n",
      "791/791 [==============================] - 4s 6ms/step - loss: 1.3887 - mae: 0.4664 - val_loss: 0.8511 - val_mae: 0.3778\n",
      "Epoch 44/500\n",
      "791/791 [==============================] - 4s 5ms/step - loss: 1.7549 - mae: 0.5284 - val_loss: 0.9462 - val_mae: 0.3972\n",
      "Epoch 45/500\n",
      "791/791 [==============================] - 4s 5ms/step - loss: 1.2649 - mae: 0.4571 - val_loss: 0.8006 - val_mae: 0.3765\n",
      "Epoch 46/500\n",
      "791/791 [==============================] - 4s 5ms/step - loss: 2.2019 - mae: 0.5799 - val_loss: 1.1071 - val_mae: 0.4530\n",
      "Epoch 47/500\n",
      "791/791 [==============================] - 4s 5ms/step - loss: 1.3707 - mae: 0.4578 - val_loss: 1.1094 - val_mae: 0.3970\n",
      "Epoch 48/500\n",
      "791/791 [==============================] - 4s 5ms/step - loss: 1.5562 - mae: 0.4963 - val_loss: 1.2763 - val_mae: 0.4511\n",
      "Epoch 49/500\n",
      "791/791 [==============================] - 4s 4ms/step - loss: 1.4879 - mae: 0.4835 - val_loss: 0.6529 - val_mae: 0.3291\n",
      "Epoch 50/500\n",
      "791/791 [==============================] - 4s 4ms/step - loss: 1.4102 - mae: 0.4620 - val_loss: 0.6268 - val_mae: 0.3175\n",
      "Epoch 51/500\n",
      "791/791 [==============================] - 5s 6ms/step - loss: 1.6152 - mae: 0.5039 - val_loss: 1.0228 - val_mae: 0.4035\n",
      "Epoch 52/500\n",
      "791/791 [==============================] - 4s 5ms/step - loss: 1.1664 - mae: 0.4272 - val_loss: 1.5162 - val_mae: 0.4661\n",
      "Epoch 53/500\n",
      "791/791 [==============================] - 3s 4ms/step - loss: 1.4252 - mae: 0.4699 - val_loss: 1.4829 - val_mae: 0.4950\n",
      "Epoch 54/500\n",
      "791/791 [==============================] - 3s 4ms/step - loss: 1.4267 - mae: 0.4743 - val_loss: 1.4612 - val_mae: 0.4481\n",
      "Epoch 55/500\n",
      "791/791 [==============================] - 4s 5ms/step - loss: 1.2458 - mae: 0.4349 - val_loss: 1.2181 - val_mae: 0.4101\n",
      "Epoch 56/500\n",
      "791/791 [==============================] - 4s 5ms/step - loss: 1.2178 - mae: 0.4302 - val_loss: 1.5168 - val_mae: 0.6151\n",
      "Epoch 57/500\n",
      "791/791 [==============================] - 4s 5ms/step - loss: 1.9848 - mae: 0.5562 - val_loss: 1.0067 - val_mae: 0.4521\n",
      "Epoch 58/500\n",
      "791/791 [==============================] - 3s 4ms/step - loss: 1.3105 - mae: 0.4438 - val_loss: 2.4549 - val_mae: 0.6210\n",
      "Epoch 59/500\n",
      "791/791 [==============================] - 3s 4ms/step - loss: 1.1548 - mae: 0.4224 - val_loss: 1.3392 - val_mae: 0.4642\n",
      "Epoch 60/500\n",
      "791/791 [==============================] - 4s 5ms/step - loss: 1.5009 - mae: 0.4892 - val_loss: 1.1347 - val_mae: 0.4354\n",
      "Epoch 61/500\n",
      "791/791 [==============================] - 3s 4ms/step - loss: 1.1363 - mae: 0.4209 - val_loss: 0.6592 - val_mae: 0.3439\n",
      "Epoch 62/500\n",
      "791/791 [==============================] - 4s 5ms/step - loss: 1.8744 - mae: 0.5296 - val_loss: 0.7590 - val_mae: 0.3386\n",
      "Epoch 63/500\n",
      "791/791 [==============================] - 4s 5ms/step - loss: 0.9238 - mae: 0.3760 - val_loss: 3.1966 - val_mae: 0.6814\n",
      "Epoch 64/500\n",
      "791/791 [==============================] - 4s 5ms/step - loss: 1.2238 - mae: 0.4407 - val_loss: 0.8010 - val_mae: 0.3959\n",
      "Epoch 65/500\n",
      "791/791 [==============================] - 3s 4ms/step - loss: 1.3592 - mae: 0.4623 - val_loss: 0.7006 - val_mae: 0.3406\n",
      "Epoch 66/500\n",
      "791/791 [==============================] - 4s 5ms/step - loss: 1.0510 - mae: 0.3977 - val_loss: 1.1775 - val_mae: 0.4087\n",
      "Epoch 67/500\n",
      "791/791 [==============================] - 4s 5ms/step - loss: 1.2159 - mae: 0.4282 - val_loss: 1.3837 - val_mae: 0.4712\n",
      "Epoch 68/500\n",
      "791/791 [==============================] - 3s 4ms/step - loss: 0.9506 - mae: 0.3822 - val_loss: 0.5878 - val_mae: 0.2934\n",
      "Epoch 69/500\n",
      "791/791 [==============================] - 4s 5ms/step - loss: 0.9801 - mae: 0.3915 - val_loss: 0.8908 - val_mae: 0.4325\n",
      "Epoch 70/500\n",
      "791/791 [==============================] - 5s 6ms/step - loss: 1.4445 - mae: 0.4562 - val_loss: 1.0539 - val_mae: 0.4096\n",
      "Epoch 71/500\n",
      "791/791 [==============================] - 4s 5ms/step - loss: 1.3749 - mae: 0.4644 - val_loss: 1.1717 - val_mae: 0.4182\n",
      "Epoch 72/500\n",
      "791/791 [==============================] - 4s 5ms/step - loss: 1.2319 - mae: 0.4112 - val_loss: 2.8542 - val_mae: 0.7501\n",
      "Epoch 73/500\n",
      "791/791 [==============================] - 4s 5ms/step - loss: 1.6185 - mae: 0.4728 - val_loss: 1.8267 - val_mae: 0.5834\n",
      "Epoch 74/500\n",
      "791/791 [==============================] - 4s 5ms/step - loss: 0.9061 - mae: 0.3702 - val_loss: 2.1459 - val_mae: 0.5722\n",
      "Epoch 75/500\n",
      "791/791 [==============================] - 4s 5ms/step - loss: 1.1013 - mae: 0.4084 - val_loss: 0.7993 - val_mae: 0.3825\n",
      "Epoch 76/500\n",
      "791/791 [==============================] - 4s 5ms/step - loss: 1.2255 - mae: 0.4256 - val_loss: 4.7458 - val_mae: 0.9143\n",
      "Epoch 77/500\n",
      "791/791 [==============================] - 5s 6ms/step - loss: 1.1654 - mae: 0.4220 - val_loss: 0.6396 - val_mae: 0.3409\n",
      "Epoch 78/500\n",
      "791/791 [==============================] - 4s 5ms/step - loss: 1.2266 - mae: 0.4230 - val_loss: 1.4273 - val_mae: 0.5577\n",
      "Epoch 79/500\n",
      "791/791 [==============================] - 4s 5ms/step - loss: 1.0277 - mae: 0.3855 - val_loss: 0.9384 - val_mae: 0.3628\n",
      "Epoch 80/500\n",
      "791/791 [==============================] - 4s 5ms/step - loss: 1.2945 - mae: 0.4330 - val_loss: 0.6288 - val_mae: 0.3195\n",
      "Epoch 81/500\n",
      "791/791 [==============================] - 5s 7ms/step - loss: 1.5684 - mae: 0.4774 - val_loss: 0.9235 - val_mae: 0.4329\n",
      "Epoch 82/500\n",
      "791/791 [==============================] - 4s 5ms/step - loss: 0.9734 - mae: 0.3789 - val_loss: 1.3634 - val_mae: 0.4643\n",
      "Epoch 83/500\n",
      "791/791 [==============================] - 4s 4ms/step - loss: 1.0386 - mae: 0.3868 - val_loss: 0.5540 - val_mae: 0.2996\n",
      "Epoch 84/500\n",
      "791/791 [==============================] - 4s 5ms/step - loss: 1.0506 - mae: 0.3961 - val_loss: 1.0004 - val_mae: 0.3534\n",
      "Epoch 85/500\n",
      "791/791 [==============================] - 4s 5ms/step - loss: 1.2900 - mae: 0.4239 - val_loss: 1.8583 - val_mae: 0.4976\n",
      "Epoch 86/500\n",
      "791/791 [==============================] - 4s 5ms/step - loss: 0.7677 - mae: 0.3449 - val_loss: 0.9355 - val_mae: 0.3714\n",
      "Epoch 87/500\n",
      "791/791 [==============================] - 5s 6ms/step - loss: 1.4181 - mae: 0.4708 - val_loss: 0.8022 - val_mae: 0.3822\n",
      "Epoch 88/500\n",
      "791/791 [==============================] - 5s 6ms/step - loss: 0.8973 - mae: 0.3678 - val_loss: 0.8312 - val_mae: 0.3354\n",
      "Epoch 89/500\n",
      "791/791 [==============================] - 3s 4ms/step - loss: 1.0592 - mae: 0.3912 - val_loss: 1.0981 - val_mae: 0.3724\n",
      "Epoch 90/500\n",
      "791/791 [==============================] - 4s 5ms/step - loss: 1.2516 - mae: 0.4365 - val_loss: 0.4504 - val_mae: 0.2645\n",
      "Epoch 91/500\n",
      "791/791 [==============================] - 4s 5ms/step - loss: 0.7469 - mae: 0.3414 - val_loss: 1.2478 - val_mae: 0.4211\n",
      "Epoch 92/500\n",
      "791/791 [==============================] - 3s 4ms/step - loss: 1.0358 - mae: 0.3860 - val_loss: 1.6713 - val_mae: 0.5023\n",
      "Epoch 93/500\n",
      "791/791 [==============================] - 4s 5ms/step - loss: 0.9450 - mae: 0.3755 - val_loss: 0.6993 - val_mae: 0.3468\n",
      "Epoch 94/500\n",
      "791/791 [==============================] - 4s 4ms/step - loss: 0.6678 - mae: 0.3194 - val_loss: 0.8785 - val_mae: 0.3724\n",
      "Epoch 95/500\n",
      "791/791 [==============================] - 4s 4ms/step - loss: 0.9503 - mae: 0.3769 - val_loss: 1.4162 - val_mae: 0.4953\n",
      "Epoch 96/500\n",
      "791/791 [==============================] - 4s 5ms/step - loss: 1.0730 - mae: 0.3859 - val_loss: 2.7317 - val_mae: 0.8164\n",
      "Epoch 97/500\n",
      "791/791 [==============================] - 4s 4ms/step - loss: 1.2349 - mae: 0.4148 - val_loss: 0.4850 - val_mae: 0.2863\n",
      "Epoch 98/500\n",
      "791/791 [==============================] - 4s 5ms/step - loss: 0.9317 - mae: 0.3688 - val_loss: 0.4555 - val_mae: 0.2600\n",
      "Epoch 99/500\n",
      "791/791 [==============================] - 4s 5ms/step - loss: 0.7216 - mae: 0.3265 - val_loss: 0.6759 - val_mae: 0.3214\n",
      "Epoch 100/500\n",
      "791/791 [==============================] - 3s 4ms/step - loss: 1.2009 - mae: 0.4147 - val_loss: 1.3012 - val_mae: 0.4503\n",
      "Epoch 101/500\n",
      "791/791 [==============================] - 3s 4ms/step - loss: 0.9507 - mae: 0.3742 - val_loss: 0.5919 - val_mae: 0.2916\n",
      "Epoch 102/500\n",
      "791/791 [==============================] - 4s 5ms/step - loss: 1.0719 - mae: 0.3880 - val_loss: 0.9534 - val_mae: 0.3793\n",
      "Epoch 103/500\n",
      "791/791 [==============================] - 3s 4ms/step - loss: 1.1931 - mae: 0.4179 - val_loss: 0.6553 - val_mae: 0.2984\n",
      "Epoch 104/500\n",
      "791/791 [==============================] - 3s 4ms/step - loss: 1.1434 - mae: 0.3896 - val_loss: 0.7577 - val_mae: 0.4104\n",
      "Epoch 105/500\n",
      "791/791 [==============================] - 4s 5ms/step - loss: 0.8151 - mae: 0.3546 - val_loss: 0.3388 - val_mae: 0.2320\n",
      "Epoch 106/500\n",
      "791/791 [==============================] - 4s 5ms/step - loss: 0.6448 - mae: 0.3112 - val_loss: 0.5212 - val_mae: 0.3620\n",
      "Epoch 107/500\n",
      "791/791 [==============================] - 4s 5ms/step - loss: 0.8945 - mae: 0.3648 - val_loss: 0.7396 - val_mae: 0.3348\n",
      "Epoch 108/500\n",
      "791/791 [==============================] - 4s 5ms/step - loss: 0.7160 - mae: 0.3274 - val_loss: 1.7978 - val_mae: 0.5214\n",
      "Epoch 109/500\n",
      "791/791 [==============================] - 4s 5ms/step - loss: 0.8301 - mae: 0.3528 - val_loss: 0.3243 - val_mae: 0.2437\n",
      "Epoch 110/500\n",
      "791/791 [==============================] - 3s 4ms/step - loss: 1.2087 - mae: 0.4174 - val_loss: 0.5957 - val_mae: 0.2875\n",
      "Epoch 111/500\n",
      "791/791 [==============================] - 4s 5ms/step - loss: 0.7818 - mae: 0.3422 - val_loss: 1.0164 - val_mae: 0.3676\n",
      "Epoch 112/500\n",
      "791/791 [==============================] - 3s 4ms/step - loss: 1.0987 - mae: 0.3708 - val_loss: 3.9956 - val_mae: 0.9377\n",
      "Epoch 113/500\n",
      "791/791 [==============================] - 4s 5ms/step - loss: 0.8976 - mae: 0.3548 - val_loss: 0.4424 - val_mae: 0.2741\n",
      "Epoch 114/500\n",
      "791/791 [==============================] - 4s 5ms/step - loss: 0.7590 - mae: 0.3241 - val_loss: 0.3721 - val_mae: 0.2430\n",
      "Epoch 115/500\n",
      "791/791 [==============================] - 4s 4ms/step - loss: 0.9873 - mae: 0.3614 - val_loss: 0.5123 - val_mae: 0.3001\n",
      "Epoch 116/500\n",
      "791/791 [==============================] - 4s 5ms/step - loss: 0.8165 - mae: 0.3432 - val_loss: 0.4279 - val_mae: 0.2945\n",
      "Epoch 117/500\n",
      "791/791 [==============================] - 3s 4ms/step - loss: 0.7572 - mae: 0.3336 - val_loss: 0.4425 - val_mae: 0.2855\n",
      "Epoch 118/500\n",
      "791/791 [==============================] - 5s 6ms/step - loss: 0.7966 - mae: 0.3352 - val_loss: 1.0147 - val_mae: 0.4157\n",
      "Epoch 119/500\n",
      "791/791 [==============================] - 3s 4ms/step - loss: 1.0594 - mae: 0.3738 - val_loss: 0.3526 - val_mae: 0.2291\n",
      "Epoch 120/500\n",
      "791/791 [==============================] - 4s 5ms/step - loss: 0.6680 - mae: 0.3095 - val_loss: 0.4547 - val_mae: 0.3007\n",
      "Epoch 121/500\n",
      "791/791 [==============================] - 4s 5ms/step - loss: 0.7598 - mae: 0.3358 - val_loss: 1.1538 - val_mae: 0.4104\n",
      "Epoch 122/500\n",
      "791/791 [==============================] - 3s 4ms/step - loss: 0.8388 - mae: 0.3453 - val_loss: 1.4232 - val_mae: 0.4466\n",
      "Epoch 123/500\n",
      "791/791 [==============================] - 3s 4ms/step - loss: 0.8023 - mae: 0.3418 - val_loss: 0.2858 - val_mae: 0.2261\n",
      "Epoch 124/500\n",
      "791/791 [==============================] - 4s 5ms/step - loss: 0.9162 - mae: 0.3721 - val_loss: 0.5805 - val_mae: 0.2660\n",
      "Epoch 125/500\n",
      "791/791 [==============================] - 4s 4ms/step - loss: 0.7803 - mae: 0.3398 - val_loss: 0.4286 - val_mae: 0.3089\n",
      "Epoch 126/500\n",
      "791/791 [==============================] - 3s 4ms/step - loss: 0.6204 - mae: 0.3113 - val_loss: 1.4293 - val_mae: 0.4234\n",
      "Epoch 127/500\n",
      "791/791 [==============================] - 5s 6ms/step - loss: 0.7908 - mae: 0.3323 - val_loss: 0.2396 - val_mae: 0.1906\n",
      "Epoch 128/500\n",
      "791/791 [==============================] - 4s 5ms/step - loss: 0.7915 - mae: 0.3379 - val_loss: 1.1578 - val_mae: 0.3688\n",
      "Epoch 129/500\n",
      "791/791 [==============================] - 4s 5ms/step - loss: 0.7436 - mae: 0.3263 - val_loss: 0.4131 - val_mae: 0.2723\n",
      "Epoch 130/500\n",
      "791/791 [==============================] - 3s 4ms/step - loss: 0.6166 - mae: 0.3077 - val_loss: 0.5662 - val_mae: 0.3000\n",
      "Epoch 131/500\n",
      "791/791 [==============================] - 4s 5ms/step - loss: 0.7642 - mae: 0.3378 - val_loss: 0.6144 - val_mae: 0.3086\n",
      "Epoch 132/500\n",
      "791/791 [==============================] - 4s 5ms/step - loss: 0.8543 - mae: 0.3452 - val_loss: 0.3898 - val_mae: 0.2454\n",
      "Epoch 133/500\n",
      "791/791 [==============================] - 4s 4ms/step - loss: 0.9681 - mae: 0.3571 - val_loss: 0.9633 - val_mae: 0.3593\n",
      "Epoch 134/500\n",
      "791/791 [==============================] - 4s 5ms/step - loss: 0.6204 - mae: 0.3111 - val_loss: 0.3556 - val_mae: 0.2372\n",
      "Epoch 135/500\n",
      "791/791 [==============================] - 5s 6ms/step - loss: 0.7408 - mae: 0.3190 - val_loss: 1.4186 - val_mae: 0.4872\n",
      "Epoch 136/500\n",
      "791/791 [==============================] - 4s 5ms/step - loss: 0.6619 - mae: 0.3140 - val_loss: 0.2113 - val_mae: 0.2046\n",
      "Epoch 137/500\n",
      "791/791 [==============================] - 3s 4ms/step - loss: 0.7734 - mae: 0.3347 - val_loss: 0.6827 - val_mae: 0.4516\n",
      "Epoch 138/500\n",
      "791/791 [==============================] - 4s 4ms/step - loss: 1.1838 - mae: 0.4120 - val_loss: 1.2440 - val_mae: 0.3759\n",
      "Epoch 139/500\n",
      "791/791 [==============================] - 4s 5ms/step - loss: 0.8615 - mae: 0.3387 - val_loss: 0.2881 - val_mae: 0.2510\n",
      "Epoch 140/500\n",
      "791/791 [==============================] - 3s 4ms/step - loss: 0.6616 - mae: 0.3086 - val_loss: 0.2827 - val_mae: 0.2219\n",
      "Epoch 141/500\n",
      "791/791 [==============================] - 4s 5ms/step - loss: 0.5492 - mae: 0.2796 - val_loss: 0.2232 - val_mae: 0.2045\n",
      "Epoch 142/500\n",
      "791/791 [==============================] - 4s 5ms/step - loss: 0.6222 - mae: 0.3094 - val_loss: 0.2282 - val_mae: 0.2243\n",
      "Epoch 143/500\n",
      "791/791 [==============================] - 3s 4ms/step - loss: 0.7934 - mae: 0.3366 - val_loss: 0.8213 - val_mae: 0.3404\n",
      "Epoch 144/500\n",
      "791/791 [==============================] - 4s 5ms/step - loss: 0.8185 - mae: 0.3440 - val_loss: 1.4309 - val_mae: 0.5908\n",
      "Epoch 145/500\n",
      "791/791 [==============================] - 5s 6ms/step - loss: 0.8213 - mae: 0.3421 - val_loss: 0.6460 - val_mae: 0.2819\n",
      "Epoch 146/500\n",
      "791/791 [==============================] - 4s 4ms/step - loss: 0.7409 - mae: 0.3156 - val_loss: 0.9222 - val_mae: 0.4149\n",
      "Epoch 147/500\n",
      "791/791 [==============================] - 4s 4ms/step - loss: 0.6953 - mae: 0.3306 - val_loss: 0.4746 - val_mae: 0.2991\n",
      "Epoch 148/500\n",
      "791/791 [==============================] - 4s 4ms/step - loss: 0.7349 - mae: 0.3237 - val_loss: 1.8590 - val_mae: 0.7075\n",
      "Epoch 149/500\n",
      "791/791 [==============================] - 4s 5ms/step - loss: 0.9213 - mae: 0.3495 - val_loss: 0.3127 - val_mae: 0.2400\n",
      "Epoch 150/500\n",
      "791/791 [==============================] - 4s 5ms/step - loss: 0.8132 - mae: 0.3142 - val_loss: 0.2054 - val_mae: 0.2013\n",
      "Epoch 151/500\n",
      "791/791 [==============================] - 3s 4ms/step - loss: 0.5126 - mae: 0.2780 - val_loss: 0.5627 - val_mae: 0.2778\n",
      "Epoch 152/500\n",
      "791/791 [==============================] - 4s 5ms/step - loss: 0.7167 - mae: 0.3193 - val_loss: 0.6983 - val_mae: 0.3284\n",
      "Epoch 153/500\n",
      "791/791 [==============================] - 4s 5ms/step - loss: 0.6343 - mae: 0.3088 - val_loss: 0.4379 - val_mae: 0.2689\n",
      "Epoch 154/500\n",
      "791/791 [==============================] - 3s 4ms/step - loss: 0.8166 - mae: 0.3419 - val_loss: 0.3521 - val_mae: 0.2383\n",
      "Epoch 155/500\n",
      "791/791 [==============================] - 3s 4ms/step - loss: 0.9239 - mae: 0.3473 - val_loss: 0.3834 - val_mae: 0.2404\n",
      "Epoch 156/500\n",
      "791/791 [==============================] - 3s 4ms/step - loss: 0.4962 - mae: 0.2670 - val_loss: 0.6311 - val_mae: 0.2561\n",
      "Epoch 157/500\n",
      "791/791 [==============================] - 4s 5ms/step - loss: 0.6199 - mae: 0.3002 - val_loss: 0.5833 - val_mae: 0.3340\n",
      "Epoch 158/500\n",
      "791/791 [==============================] - 3s 4ms/step - loss: 0.5551 - mae: 0.2910 - val_loss: 1.4063 - val_mae: 0.4327\n",
      "Epoch 159/500\n",
      "791/791 [==============================] - 3s 4ms/step - loss: 0.5871 - mae: 0.2990 - val_loss: 0.2940 - val_mae: 0.2229\n",
      "Epoch 160/500\n",
      "791/791 [==============================] - 3s 4ms/step - loss: 1.0979 - mae: 0.3848 - val_loss: 0.4554 - val_mae: 0.2825\n",
      "Epoch 161/500\n",
      "791/791 [==============================] - 3s 4ms/step - loss: 1.0834 - mae: 0.3844 - val_loss: 0.6741 - val_mae: 0.3284\n",
      "Epoch 162/500\n",
      "791/791 [==============================] - 3s 4ms/step - loss: 0.4356 - mae: 0.2596 - val_loss: 0.2931 - val_mae: 0.2210\n",
      "Epoch 163/500\n",
      "791/791 [==============================] - 4s 5ms/step - loss: 0.6247 - mae: 0.2982 - val_loss: 0.8425 - val_mae: 0.3471\n",
      "Epoch 164/500\n",
      "791/791 [==============================] - 4s 5ms/step - loss: 0.6366 - mae: 0.3011 - val_loss: 0.3578 - val_mae: 0.2542\n",
      "Epoch 165/500\n",
      "791/791 [==============================] - 3s 4ms/step - loss: 0.5568 - mae: 0.2895 - val_loss: 0.4255 - val_mae: 0.2880\n",
      "Epoch 166/500\n",
      "791/791 [==============================] - 4s 5ms/step - loss: 0.5011 - mae: 0.2793 - val_loss: 0.4238 - val_mae: 0.3003\n",
      "Epoch 167/500\n",
      "791/791 [==============================] - 4s 5ms/step - loss: 0.7595 - mae: 0.3307 - val_loss: 0.4672 - val_mae: 0.2854\n",
      "Epoch 168/500\n",
      "791/791 [==============================] - 3s 4ms/step - loss: 0.4916 - mae: 0.2702 - val_loss: 0.4875 - val_mae: 0.2670\n",
      "Epoch 169/500\n",
      "791/791 [==============================] - 4s 4ms/step - loss: 0.8073 - mae: 0.3424 - val_loss: 0.3559 - val_mae: 0.2919\n",
      "Epoch 170/500\n",
      "791/791 [==============================] - 4s 4ms/step - loss: 0.6047 - mae: 0.3002 - val_loss: 0.7197 - val_mae: 0.3755\n",
      "Epoch 171/500\n",
      "791/791 [==============================] - 3s 4ms/step - loss: 0.8047 - mae: 0.3395 - val_loss: 0.3853 - val_mae: 0.2579\n",
      "Epoch 172/500\n",
      "791/791 [==============================] - 3s 4ms/step - loss: 0.4903 - mae: 0.2682 - val_loss: 0.5341 - val_mae: 0.2821\n",
      "Epoch 173/500\n",
      "791/791 [==============================] - 5s 6ms/step - loss: 0.5201 - mae: 0.2775 - val_loss: 0.2938 - val_mae: 0.2279\n",
      "Epoch 174/500\n",
      "791/791 [==============================] - 3s 4ms/step - loss: 0.8176 - mae: 0.3422 - val_loss: 1.4853 - val_mae: 0.4275\n",
      "Epoch 175/500\n",
      "791/791 [==============================] - 4s 5ms/step - loss: 0.4572 - mae: 0.2625 - val_loss: 0.7951 - val_mae: 0.3220\n",
      "Epoch 176/500\n",
      "791/791 [==============================] - 4s 5ms/step - loss: 0.6747 - mae: 0.3066 - val_loss: 0.4141 - val_mae: 0.2643\n",
      "Epoch 177/500\n",
      "791/791 [==============================] - 3s 4ms/step - loss: 0.7365 - mae: 0.3171 - val_loss: 0.1901 - val_mae: 0.2009\n",
      "Epoch 178/500\n",
      "791/791 [==============================] - 4s 5ms/step - loss: 0.5469 - mae: 0.2921 - val_loss: 0.8261 - val_mae: 0.3739\n",
      "Epoch 179/500\n",
      "791/791 [==============================] - 4s 5ms/step - loss: 1.0214 - mae: 0.3752 - val_loss: 2.0860 - val_mae: 0.5345\n",
      "Epoch 180/500\n",
      "791/791 [==============================] - 4s 5ms/step - loss: 0.6165 - mae: 0.3041 - val_loss: 0.5478 - val_mae: 0.2998\n",
      "Epoch 181/500\n",
      "791/791 [==============================] - 4s 5ms/step - loss: 0.8252 - mae: 0.3447 - val_loss: 0.2291 - val_mae: 0.1938\n",
      "Epoch 182/500\n",
      "791/791 [==============================] - 4s 5ms/step - loss: 0.6810 - mae: 0.3113 - val_loss: 0.7235 - val_mae: 0.2676\n",
      "Epoch 183/500\n",
      "791/791 [==============================] - 4s 5ms/step - loss: 0.6911 - mae: 0.3126 - val_loss: 0.2863 - val_mae: 0.2224\n",
      "Epoch 184/500\n",
      "791/791 [==============================] - 4s 5ms/step - loss: 0.4581 - mae: 0.2604 - val_loss: 0.2904 - val_mae: 0.2190\n",
      "Epoch 185/500\n",
      "791/791 [==============================] - 4s 5ms/step - loss: 0.5532 - mae: 0.2911 - val_loss: 0.4023 - val_mae: 0.2698\n",
      "Epoch 186/500\n",
      "791/791 [==============================] - 3s 4ms/step - loss: 0.5631 - mae: 0.2871 - val_loss: 1.9969 - val_mae: 0.5608\n",
      "Epoch 187/500\n",
      "791/791 [==============================] - 3s 4ms/step - loss: 0.5592 - mae: 0.2839 - val_loss: 1.1131 - val_mae: 0.3799\n",
      "Epoch 188/500\n",
      "791/791 [==============================] - 3s 4ms/step - loss: 0.7235 - mae: 0.3013 - val_loss: 2.3887 - val_mae: 0.6280\n",
      "Epoch 189/500\n",
      "791/791 [==============================] - 4s 5ms/step - loss: 0.4111 - mae: 0.2538 - val_loss: 0.1862 - val_mae: 0.1900\n",
      "Epoch 190/500\n",
      "791/791 [==============================] - 3s 4ms/step - loss: 0.7860 - mae: 0.3185 - val_loss: 1.1579 - val_mae: 0.4393\n",
      "Epoch 191/500\n",
      "791/791 [==============================] - 4s 5ms/step - loss: 0.6085 - mae: 0.2901 - val_loss: 0.3441 - val_mae: 0.2642\n",
      "Epoch 192/500\n",
      "791/791 [==============================] - 4s 5ms/step - loss: 0.4377 - mae: 0.2654 - val_loss: 0.2297 - val_mae: 0.2005\n",
      "Epoch 193/500\n",
      "791/791 [==============================] - 4s 4ms/step - loss: 0.8692 - mae: 0.3336 - val_loss: 0.6224 - val_mae: 0.3299\n",
      "Epoch 194/500\n",
      "791/791 [==============================] - 3s 4ms/step - loss: 0.6517 - mae: 0.2981 - val_loss: 0.4429 - val_mae: 0.2779\n",
      "Epoch 195/500\n",
      "791/791 [==============================] - 3s 4ms/step - loss: 0.5764 - mae: 0.2934 - val_loss: 0.3110 - val_mae: 0.2490\n",
      "Epoch 196/500\n",
      "791/791 [==============================] - 4s 4ms/step - loss: 0.5991 - mae: 0.2918 - val_loss: 0.2857 - val_mae: 0.2317\n",
      "Epoch 197/500\n",
      "791/791 [==============================] - 4s 5ms/step - loss: 0.4635 - mae: 0.2616 - val_loss: 0.4558 - val_mae: 0.2849\n",
      "Epoch 198/500\n",
      "791/791 [==============================] - 4s 5ms/step - loss: 0.4515 - mae: 0.2643 - val_loss: 0.3514 - val_mae: 0.2146\n",
      "Epoch 199/500\n",
      "791/791 [==============================] - 3s 4ms/step - loss: 0.6290 - mae: 0.3049 - val_loss: 0.5031 - val_mae: 0.2705\n",
      "Epoch 200/500\n",
      "791/791 [==============================] - 3s 4ms/step - loss: 0.8536 - mae: 0.3539 - val_loss: 1.1740 - val_mae: 0.4185\n",
      "Epoch 201/500\n",
      "791/791 [==============================] - 4s 4ms/step - loss: 0.6434 - mae: 0.3094 - val_loss: 0.3832 - val_mae: 0.3072\n",
      "Epoch 202/500\n",
      "791/791 [==============================] - 3s 4ms/step - loss: 0.4774 - mae: 0.2679 - val_loss: 0.5302 - val_mae: 0.2713\n",
      "Epoch 203/500\n",
      "791/791 [==============================] - 4s 5ms/step - loss: 0.4608 - mae: 0.2661 - val_loss: 0.1403 - val_mae: 0.1659\n",
      "Epoch 204/500\n",
      "791/791 [==============================] - 4s 5ms/step - loss: 0.7257 - mae: 0.2939 - val_loss: 1.1695 - val_mae: 0.4521\n",
      "Epoch 205/500\n",
      "791/791 [==============================] - 4s 4ms/step - loss: 0.6175 - mae: 0.2888 - val_loss: 5.7851 - val_mae: 0.8006\n",
      "Epoch 206/500\n",
      "791/791 [==============================] - 4s 4ms/step - loss: 0.4612 - mae: 0.2627 - val_loss: 0.3662 - val_mae: 0.2554\n",
      "Epoch 207/500\n",
      "791/791 [==============================] - 4s 5ms/step - loss: 0.7280 - mae: 0.3289 - val_loss: 0.6570 - val_mae: 0.3350\n",
      "Epoch 208/500\n",
      "791/791 [==============================] - 5s 6ms/step - loss: 0.5742 - mae: 0.2744 - val_loss: 0.2088 - val_mae: 0.2022\n",
      "Epoch 209/500\n",
      "791/791 [==============================] - 3s 4ms/step - loss: 0.4790 - mae: 0.2660 - val_loss: 0.2147 - val_mae: 0.2142\n",
      "Epoch 210/500\n",
      "791/791 [==============================] - 3s 4ms/step - loss: 0.6393 - mae: 0.2991 - val_loss: 0.3067 - val_mae: 0.2343\n",
      "Epoch 211/500\n",
      "791/791 [==============================] - 3s 4ms/step - loss: 0.4681 - mae: 0.2563 - val_loss: 1.2350 - val_mae: 0.3863\n",
      "Epoch 212/500\n",
      "791/791 [==============================] - 4s 5ms/step - loss: 0.4238 - mae: 0.2535 - val_loss: 0.3437 - val_mae: 0.2610\n",
      "Epoch 213/500\n",
      "791/791 [==============================] - 3s 4ms/step - loss: 0.7687 - mae: 0.3156 - val_loss: 0.4446 - val_mae: 0.2527\n",
      "Epoch 214/500\n",
      "791/791 [==============================] - 3s 4ms/step - loss: 0.6493 - mae: 0.2941 - val_loss: 0.1457 - val_mae: 0.1741\n",
      "Epoch 215/500\n",
      "791/791 [==============================] - 3s 4ms/step - loss: 0.3900 - mae: 0.2420 - val_loss: 0.3329 - val_mae: 0.2091\n",
      "Epoch 216/500\n",
      "791/791 [==============================] - 3s 4ms/step - loss: 0.7997 - mae: 0.3285 - val_loss: 0.3034 - val_mae: 0.2171\n",
      "Epoch 217/500\n",
      "791/791 [==============================] - 3s 4ms/step - loss: 0.5460 - mae: 0.2819 - val_loss: 0.4278 - val_mae: 0.2566\n",
      "Epoch 218/500\n",
      "791/791 [==============================] - 4s 5ms/step - loss: 0.5214 - mae: 0.2754 - val_loss: 0.2837 - val_mae: 0.2183\n",
      "Epoch 219/500\n",
      "791/791 [==============================] - 4s 5ms/step - loss: 0.5067 - mae: 0.2708 - val_loss: 0.4249 - val_mae: 0.2604\n",
      "Epoch 220/500\n",
      "791/791 [==============================] - 4s 5ms/step - loss: 0.5864 - mae: 0.2925 - val_loss: 1.0607 - val_mae: 0.3766\n",
      "Epoch 221/500\n",
      "791/791 [==============================] - 3s 4ms/step - loss: 0.5555 - mae: 0.2790 - val_loss: 0.7983 - val_mae: 0.2647\n",
      "Epoch 222/500\n",
      "791/791 [==============================] - 3s 4ms/step - loss: 0.5393 - mae: 0.2755 - val_loss: 0.6168 - val_mae: 0.3296\n",
      "Epoch 223/500\n",
      "791/791 [==============================] - 3s 4ms/step - loss: 0.5445 - mae: 0.2816 - val_loss: 0.5508 - val_mae: 0.2868\n",
      "Epoch 224/500\n",
      "791/791 [==============================] - 3s 4ms/step - loss: 0.3581 - mae: 0.2321 - val_loss: 1.3986 - val_mae: 0.4026\n",
      "Epoch 225/500\n",
      "791/791 [==============================] - 3s 4ms/step - loss: 0.8430 - mae: 0.3335 - val_loss: 0.2026 - val_mae: 0.2074\n",
      "Epoch 226/500\n",
      "791/791 [==============================] - 4s 5ms/step - loss: 0.4299 - mae: 0.2474 - val_loss: 3.6334 - val_mae: 0.6767\n",
      "Epoch 227/500\n",
      "791/791 [==============================] - 4s 5ms/step - loss: 0.7945 - mae: 0.3178 - val_loss: 0.3021 - val_mae: 0.2306\n",
      "Epoch 228/500\n",
      "791/791 [==============================] - 4s 5ms/step - loss: 0.4117 - mae: 0.2504 - val_loss: 0.5321 - val_mae: 0.2876\n",
      "Epoch 229/500\n",
      "791/791 [==============================] - 3s 4ms/step - loss: 0.4022 - mae: 0.2480 - val_loss: 3.5753 - val_mae: 0.7443\n",
      "Epoch 230/500\n",
      "791/791 [==============================] - 4s 4ms/step - loss: 0.4730 - mae: 0.2603 - val_loss: 0.7471 - val_mae: 0.3076\n",
      "Epoch 231/500\n",
      "791/791 [==============================] - 4s 4ms/step - loss: 0.5419 - mae: 0.2745 - val_loss: 0.5260 - val_mae: 0.3417\n",
      "Epoch 232/500\n",
      "791/791 [==============================] - 3s 4ms/step - loss: 0.5645 - mae: 0.2842 - val_loss: 0.3937 - val_mae: 0.2643\n",
      "Epoch 233/500\n",
      "791/791 [==============================] - 3s 4ms/step - loss: 0.6827 - mae: 0.2917 - val_loss: 0.1459 - val_mae: 0.1704\n",
      "Epoch 234/500\n",
      "791/791 [==============================] - 4s 4ms/step - loss: 0.3878 - mae: 0.2364 - val_loss: 4.1773 - val_mae: 0.7234\n",
      "Epoch 235/500\n",
      "791/791 [==============================] - 4s 5ms/step - loss: 0.4493 - mae: 0.2580 - val_loss: 1.0571 - val_mae: 0.3421\n",
      "Epoch 236/500\n",
      "791/791 [==============================] - 4s 5ms/step - loss: 0.5975 - mae: 0.2875 - val_loss: 0.2063 - val_mae: 0.1875\n",
      "Epoch 237/500\n",
      "791/791 [==============================] - 3s 4ms/step - loss: 0.4003 - mae: 0.2443 - val_loss: 0.3642 - val_mae: 0.1996\n",
      "Epoch 238/500\n",
      "791/791 [==============================] - 3s 4ms/step - loss: 0.4258 - mae: 0.2520 - val_loss: 0.4937 - val_mae: 0.2625\n",
      "Epoch 239/500\n",
      "791/791 [==============================] - 4s 5ms/step - loss: 0.4973 - mae: 0.2682 - val_loss: 0.7359 - val_mae: 0.3034\n",
      "Epoch 240/500\n",
      "791/791 [==============================] - 3s 4ms/step - loss: 0.4190 - mae: 0.2488 - val_loss: 0.4438 - val_mae: 0.2518\n",
      "Epoch 241/500\n",
      "791/791 [==============================] - 3s 4ms/step - loss: 0.4907 - mae: 0.2643 - val_loss: 0.4630 - val_mae: 0.2837\n",
      "Epoch 242/500\n",
      "791/791 [==============================] - 3s 4ms/step - loss: 0.4101 - mae: 0.2457 - val_loss: 0.5202 - val_mae: 0.2666\n",
      "Epoch 243/500\n",
      "791/791 [==============================] - 3s 4ms/step - loss: 0.4266 - mae: 0.2442 - val_loss: 0.3041 - val_mae: 0.2237\n",
      "Epoch 244/500\n",
      "791/791 [==============================] - 4s 5ms/step - loss: 0.4531 - mae: 0.2552 - val_loss: 0.2522 - val_mae: 0.1974\n",
      "Epoch 245/500\n",
      "791/791 [==============================] - 4s 5ms/step - loss: 0.3691 - mae: 0.2360 - val_loss: 0.2810 - val_mae: 0.2136\n",
      "Epoch 246/500\n",
      "791/791 [==============================] - 3s 4ms/step - loss: 0.4423 - mae: 0.2492 - val_loss: 0.3131 - val_mae: 0.2142\n",
      "Epoch 247/500\n",
      "791/791 [==============================] - 4s 5ms/step - loss: 0.6104 - mae: 0.2846 - val_loss: 0.1906 - val_mae: 0.1851\n",
      "Epoch 248/500\n",
      "791/791 [==============================] - 3s 4ms/step - loss: 0.3459 - mae: 0.2226 - val_loss: 0.1758 - val_mae: 0.1750\n",
      "Epoch 249/500\n",
      "791/791 [==============================] - 4s 4ms/step - loss: 0.6000 - mae: 0.2900 - val_loss: 0.4007 - val_mae: 0.2409\n",
      "Epoch 250/500\n",
      "791/791 [==============================] - 3s 4ms/step - loss: 0.5364 - mae: 0.2787 - val_loss: 0.6448 - val_mae: 0.3258\n",
      "Epoch 251/500\n",
      "791/791 [==============================] - 4s 5ms/step - loss: 0.8502 - mae: 0.3256 - val_loss: 2.0744 - val_mae: 0.4459\n",
      "Epoch 252/500\n",
      "791/791 [==============================] - 4s 5ms/step - loss: 0.3291 - mae: 0.2288 - val_loss: 0.1571 - val_mae: 0.1855\n",
      "Epoch 253/500\n",
      "791/791 [==============================] - 4s 5ms/step - loss: 0.4589 - mae: 0.2591 - val_loss: 0.1349 - val_mae: 0.1733\n",
      "Epoch 254/500\n",
      "791/791 [==============================] - 3s 4ms/step - loss: 0.5558 - mae: 0.2751 - val_loss: 0.2961 - val_mae: 0.2140\n",
      "Epoch 255/500\n",
      "791/791 [==============================] - 3s 4ms/step - loss: 0.4833 - mae: 0.2611 - val_loss: 0.1405 - val_mae: 0.1712\n",
      "Epoch 256/500\n",
      "791/791 [==============================] - 4s 5ms/step - loss: 0.3670 - mae: 0.2367 - val_loss: 0.3756 - val_mae: 0.2527\n",
      "Epoch 257/500\n",
      "791/791 [==============================] - 4s 6ms/step - loss: 0.5905 - mae: 0.2770 - val_loss: 0.9830 - val_mae: 0.3458\n",
      "Epoch 258/500\n",
      "791/791 [==============================] - 4s 5ms/step - loss: 0.4896 - mae: 0.2628 - val_loss: 0.3547 - val_mae: 0.2360\n",
      "Epoch 259/500\n",
      "791/791 [==============================] - 4s 4ms/step - loss: 0.2813 - mae: 0.2152 - val_loss: 0.3992 - val_mae: 0.2633\n",
      "Epoch 260/500\n",
      "791/791 [==============================] - 4s 5ms/step - loss: 0.4371 - mae: 0.2522 - val_loss: 0.1311 - val_mae: 0.1592\n",
      "Epoch 261/500\n",
      "791/791 [==============================] - 4s 5ms/step - loss: 0.4615 - mae: 0.2631 - val_loss: 0.4956 - val_mae: 0.3121\n",
      "Epoch 262/500\n",
      "791/791 [==============================] - 4s 5ms/step - loss: 0.6160 - mae: 0.2963 - val_loss: 0.3282 - val_mae: 0.2096\n",
      "Epoch 263/500\n",
      "791/791 [==============================] - 4s 5ms/step - loss: 0.3757 - mae: 0.2351 - val_loss: 1.0004 - val_mae: 0.3943\n",
      "Epoch 264/500\n",
      "791/791 [==============================] - 3s 4ms/step - loss: 0.3245 - mae: 0.2242 - val_loss: 0.1334 - val_mae: 0.1665\n",
      "Epoch 265/500\n",
      "791/791 [==============================] - 4s 4ms/step - loss: 0.5728 - mae: 0.2876 - val_loss: 0.6417 - val_mae: 0.3204\n",
      "Epoch 266/500\n",
      "791/791 [==============================] - 3s 4ms/step - loss: 0.4141 - mae: 0.2486 - val_loss: 0.2005 - val_mae: 0.2316\n",
      "Epoch 267/500\n",
      "791/791 [==============================] - 3s 4ms/step - loss: 0.3856 - mae: 0.2413 - val_loss: 0.1666 - val_mae: 0.1770\n",
      "Epoch 268/500\n",
      "791/791 [==============================] - 4s 4ms/step - loss: 0.6385 - mae: 0.2893 - val_loss: 0.2756 - val_mae: 0.2082\n",
      "Epoch 269/500\n",
      "791/791 [==============================] - 4s 6ms/step - loss: 0.4834 - mae: 0.2557 - val_loss: 0.5223 - val_mae: 0.2963\n",
      "Epoch 270/500\n",
      "791/791 [==============================] - 3s 4ms/step - loss: 0.5234 - mae: 0.2645 - val_loss: 0.4253 - val_mae: 0.2311\n",
      "Epoch 271/500\n",
      "791/791 [==============================] - 4s 5ms/step - loss: 0.3833 - mae: 0.2396 - val_loss: 0.2927 - val_mae: 0.2296\n",
      "Epoch 272/500\n",
      "791/791 [==============================] - 3s 4ms/step - loss: 0.5375 - mae: 0.2690 - val_loss: 0.2536 - val_mae: 0.2101\n",
      "Epoch 273/500\n",
      "791/791 [==============================] - 4s 5ms/step - loss: 0.3729 - mae: 0.2424 - val_loss: 0.2752 - val_mae: 0.2042\n",
      "Epoch 274/500\n",
      "791/791 [==============================] - 4s 4ms/step - loss: 0.4065 - mae: 0.2408 - val_loss: 0.5528 - val_mae: 0.2707\n",
      "Epoch 275/500\n",
      "791/791 [==============================] - 4s 5ms/step - loss: 0.6777 - mae: 0.2931 - val_loss: 2.1641 - val_mae: 0.5965\n",
      "Epoch 276/500\n",
      "791/791 [==============================] - 3s 4ms/step - loss: 0.3540 - mae: 0.2286 - val_loss: 0.1991 - val_mae: 0.1756\n",
      "Epoch 277/500\n",
      "791/791 [==============================] - 3s 4ms/step - loss: 0.5049 - mae: 0.2511 - val_loss: 0.0956 - val_mae: 0.1464\n",
      "Epoch 278/500\n",
      "791/791 [==============================] - 3s 4ms/step - loss: 0.6912 - mae: 0.3037 - val_loss: 0.6009 - val_mae: 0.3445\n",
      "Epoch 279/500\n",
      "791/791 [==============================] - 4s 6ms/step - loss: 0.3193 - mae: 0.2194 - val_loss: 0.2144 - val_mae: 0.1881\n",
      "Epoch 280/500\n",
      "791/791 [==============================] - 4s 4ms/step - loss: 0.4781 - mae: 0.2479 - val_loss: 0.2417 - val_mae: 0.2069\n",
      "Epoch 281/500\n",
      "791/791 [==============================] - 4s 5ms/step - loss: 0.4640 - mae: 0.2564 - val_loss: 0.3518 - val_mae: 0.2421\n",
      "Epoch 282/500\n",
      "791/791 [==============================] - 4s 5ms/step - loss: 0.5117 - mae: 0.2657 - val_loss: 0.2058 - val_mae: 0.1899\n",
      "Epoch 283/500\n",
      "791/791 [==============================] - 4s 5ms/step - loss: 0.2634 - mae: 0.2068 - val_loss: 1.5490 - val_mae: 0.4460\n",
      "Epoch 284/500\n",
      "791/791 [==============================] - 4s 4ms/step - loss: 0.6465 - mae: 0.2739 - val_loss: 0.3177 - val_mae: 0.2109\n",
      "Epoch 285/500\n",
      "791/791 [==============================] - 5s 6ms/step - loss: 0.2735 - mae: 0.2095 - val_loss: 0.1412 - val_mae: 0.1704\n",
      "Epoch 286/500\n",
      "791/791 [==============================] - 4s 5ms/step - loss: 0.2734 - mae: 0.2103 - val_loss: 0.2348 - val_mae: 0.1852\n",
      "Epoch 287/500\n",
      "791/791 [==============================] - 3s 4ms/step - loss: 0.5033 - mae: 0.2615 - val_loss: 0.2266 - val_mae: 0.2017\n",
      "Epoch 288/500\n",
      "791/791 [==============================] - 3s 4ms/step - loss: 0.5514 - mae: 0.2732 - val_loss: 0.1894 - val_mae: 0.1702\n",
      "Epoch 289/500\n",
      "791/791 [==============================] - 4s 5ms/step - loss: 0.4754 - mae: 0.2596 - val_loss: 0.2644 - val_mae: 0.2048\n",
      "Epoch 290/500\n",
      "791/791 [==============================] - 5s 6ms/step - loss: 0.4957 - mae: 0.2522 - val_loss: 0.2552 - val_mae: 0.2041\n",
      "Epoch 291/500\n",
      "791/791 [==============================] - 4s 5ms/step - loss: 0.3174 - mae: 0.2230 - val_loss: 0.2377 - val_mae: 0.1949\n",
      "Epoch 292/500\n",
      "791/791 [==============================] - 4s 4ms/step - loss: 0.3399 - mae: 0.2296 - val_loss: 0.7251 - val_mae: 0.2672\n",
      "Epoch 293/500\n",
      "791/791 [==============================] - 3s 4ms/step - loss: 0.4121 - mae: 0.2373 - val_loss: 4.2388 - val_mae: 0.8246\n",
      "Epoch 294/500\n",
      "791/791 [==============================] - 3s 4ms/step - loss: 0.5734 - mae: 0.2635 - val_loss: 0.4149 - val_mae: 0.2462\n",
      "Epoch 295/500\n",
      "791/791 [==============================] - 4s 5ms/step - loss: 0.4784 - mae: 0.2530 - val_loss: 0.2703 - val_mae: 0.2091\n",
      "Epoch 296/500\n",
      "791/791 [==============================] - 4s 4ms/step - loss: 0.4641 - mae: 0.2606 - val_loss: 0.2128 - val_mae: 0.1937\n",
      "Epoch 297/500\n",
      "791/791 [==============================] - 4s 4ms/step - loss: 0.3718 - mae: 0.2350 - val_loss: 0.2276 - val_mae: 0.1861\n",
      "Epoch 298/500\n",
      "791/791 [==============================] - 4s 4ms/step - loss: 0.5172 - mae: 0.2614 - val_loss: 0.6197 - val_mae: 0.2702\n",
      "Epoch 299/500\n",
      "791/791 [==============================] - 3s 4ms/step - loss: 0.3538 - mae: 0.2260 - val_loss: 0.4211 - val_mae: 0.2672\n",
      "Epoch 300/500\n",
      "791/791 [==============================] - 4s 5ms/step - loss: 0.3816 - mae: 0.2315 - val_loss: 0.2026 - val_mae: 0.1830\n",
      "Epoch 301/500\n",
      "791/791 [==============================] - 4s 5ms/step - loss: 0.4460 - mae: 0.2314 - val_loss: 0.3105 - val_mae: 0.2082\n",
      "Epoch 302/500\n",
      "791/791 [==============================] - 4s 5ms/step - loss: 0.3508 - mae: 0.2285 - val_loss: 0.5258 - val_mae: 0.3258\n",
      "Epoch 303/500\n",
      "791/791 [==============================] - 4s 4ms/step - loss: 0.4439 - mae: 0.2518 - val_loss: 1.7725 - val_mae: 0.4296\n",
      "Epoch 304/500\n",
      "791/791 [==============================] - 4s 4ms/step - loss: 0.3847 - mae: 0.2366 - val_loss: 1.1238 - val_mae: 0.3611\n",
      "Epoch 305/500\n",
      "791/791 [==============================] - 4s 5ms/step - loss: 0.2847 - mae: 0.2086 - val_loss: 0.1275 - val_mae: 0.1642\n",
      "Epoch 306/500\n",
      "791/791 [==============================] - 4s 5ms/step - loss: 0.3065 - mae: 0.2090 - val_loss: 0.2445 - val_mae: 0.2120\n",
      "Epoch 307/500\n",
      "791/791 [==============================] - 4s 5ms/step - loss: 0.7723 - mae: 0.3093 - val_loss: 0.3849 - val_mae: 0.2458\n",
      "Epoch 308/500\n",
      "791/791 [==============================] - 3s 4ms/step - loss: 0.3611 - mae: 0.2251 - val_loss: 0.4402 - val_mae: 0.2673\n",
      "Epoch 309/500\n",
      "791/791 [==============================] - 4s 5ms/step - loss: 0.4149 - mae: 0.2442 - val_loss: 0.4674 - val_mae: 0.2159\n",
      "Epoch 310/500\n",
      "791/791 [==============================] - 4s 5ms/step - loss: 0.3052 - mae: 0.2126 - val_loss: 0.7356 - val_mae: 0.3632\n",
      "Epoch 311/500\n",
      "791/791 [==============================] - 4s 5ms/step - loss: 0.4776 - mae: 0.2456 - val_loss: 0.1024 - val_mae: 0.1462\n",
      "Epoch 312/500\n",
      "791/791 [==============================] - 4s 5ms/step - loss: 0.3578 - mae: 0.2273 - val_loss: 0.4602 - val_mae: 0.2847\n",
      "Epoch 313/500\n",
      "791/791 [==============================] - 3s 4ms/step - loss: 0.3695 - mae: 0.2251 - val_loss: 4.7805 - val_mae: 0.7120\n",
      "Epoch 314/500\n",
      "791/791 [==============================] - 4s 5ms/step - loss: 0.6345 - mae: 0.2818 - val_loss: 0.1989 - val_mae: 0.1938\n",
      "Epoch 315/500\n",
      "791/791 [==============================] - 4s 5ms/step - loss: 0.2610 - mae: 0.2015 - val_loss: 0.1321 - val_mae: 0.1635\n",
      "Epoch 316/500\n",
      "791/791 [==============================] - 3s 4ms/step - loss: 0.6572 - mae: 0.2776 - val_loss: 1.9966 - val_mae: 0.5865\n",
      "Epoch 317/500\n",
      "791/791 [==============================] - 4s 5ms/step - loss: 0.3768 - mae: 0.2355 - val_loss: 0.4624 - val_mae: 0.2397\n",
      "Epoch 318/500\n",
      "791/791 [==============================] - 4s 4ms/step - loss: 0.7525 - mae: 0.3133 - val_loss: 0.2120 - val_mae: 0.1846\n",
      "Epoch 319/500\n",
      "791/791 [==============================] - 3s 4ms/step - loss: 0.3877 - mae: 0.2326 - val_loss: 0.1518 - val_mae: 0.1752\n",
      "Epoch 320/500\n",
      "791/791 [==============================] - 4s 5ms/step - loss: 0.3036 - mae: 0.2155 - val_loss: 0.1431 - val_mae: 0.1663\n",
      "Epoch 321/500\n",
      "791/791 [==============================] - 4s 5ms/step - loss: 0.3618 - mae: 0.2300 - val_loss: 0.3836 - val_mae: 0.2666\n",
      "Epoch 322/500\n",
      "791/791 [==============================] - 3s 4ms/step - loss: 0.2754 - mae: 0.2030 - val_loss: 0.2274 - val_mae: 0.1977\n",
      "Epoch 323/500\n",
      "791/791 [==============================] - 4s 5ms/step - loss: 0.4476 - mae: 0.2505 - val_loss: 0.3037 - val_mae: 0.2146\n",
      "Epoch 324/500\n",
      "791/791 [==============================] - 4s 5ms/step - loss: 0.4455 - mae: 0.2524 - val_loss: 0.4499 - val_mae: 0.2966\n",
      "Epoch 325/500\n",
      "791/791 [==============================] - 4s 5ms/step - loss: 0.3732 - mae: 0.2312 - val_loss: 0.3922 - val_mae: 0.2419\n",
      "Epoch 326/500\n",
      "791/791 [==============================] - 3s 4ms/step - loss: 0.2791 - mae: 0.2106 - val_loss: 0.8907 - val_mae: 0.3568\n",
      "Epoch 327/500\n",
      "791/791 [==============================] - 5s 6ms/step - loss: 0.4091 - mae: 0.2415 - val_loss: 0.5516 - val_mae: 0.2650\n"
     ]
    }
   ],
   "source": [
    "history = ann.fit(X_train, y_train,\n",
    "                    validation_data = (X_val, y_val),\n",
    "                    callbacks=[es],\n",
    "                    epochs=500,\n",
    "                    batch_size=30,\n",
    "                    verbose=1)"
   ]
  },
  {
   "cell_type": "code",
   "execution_count": 38,
   "metadata": {
    "ExecuteTime": {
     "end_time": "2024-08-11T06:04:41.412072400Z",
     "start_time": "2024-08-11T06:04:40.802233800Z"
    }
   },
   "outputs": [
    {
     "data": {
      "text/plain": "<Figure size 640x480 with 1 Axes>",
      "image/png": "[encoded data removed]"
     },
     "metadata": {},
     "output_type": "display_data"
    }
   ],
   "source": [
    "# let's see the training and validation accuracy by epoch\n",
    "history_dict = history.history\n",
    "loss_values = history_dict['loss'] # you can change this\n",
    "val_loss_values = history_dict['val_loss'] # you can also change this\n",
    "epochs = range(1, len(loss_values) + 1) # range of X (no. of epochs)\n",
    "plt.plot(epochs, loss_values, 'blue', label='Train set loss')\n",
    "plt.plot(epochs, val_loss_values, 'orange', label='Validation set loss')\n",
    "#plt.title('Training and testing loss')\n",
    "plt.xlabel('Epochs')\n",
    "plt.ylabel('Loss (MSE)')\n",
    "plt.legend()\n",
    "plt.savefig('Section5_ANN1_2.png', dpi=300, bbox_inches='tight')\n",
    "plt.show()"
   ]
  },
  {
   "cell_type": "code",
   "execution_count": 39,
   "metadata": {
    "ExecuteTime": {
     "end_time": "2024-08-11T06:04:42.765138200Z",
     "start_time": "2024-08-11T06:04:42.100993100Z"
    }
   },
   "outputs": [
    {
     "data": {
      "text/plain": "<Figure size 640x480 with 1 Axes>",
      "image/png": "[encoded data removed]"
     },
     "metadata": {},
     "output_type": "display_data"
    }
   ],
   "source": [
    "loss_values1 = history_dict['mae'] # you can change this\n",
    "val_loss_values1 = history_dict['val_mae'] # you can also change this\n",
    "epochs = range(1, len(loss_values1) + 1) # range of X (no. of epochs)\n",
    "plt.plot(epochs, loss_values1, 'blue', label='Train set MAE')\n",
    "plt.plot(epochs, val_loss_values1, 'orange', label='Validation set MAE')\n",
    "#plt.title('Training and testing MAE')\n",
    "plt.xlabel('Epochs')\n",
    "plt.ylabel('MAE')\n",
    "plt.legend()\n",
    "plt.savefig('Section5_ANN1_3.png', dpi=300, bbox_inches='tight')\n",
    "plt.show()"
   ]
  },
  {
   "cell_type": "code",
   "execution_count": 40,
   "outputs": [
    {
     "name": "stdout",
     "output_type": "stream",
     "text": [
      "INFO:tensorflow:Assets written to: Section5_new_ANN_4\\assets\n"
     ]
    }
   ],
   "source": [
    "ann.save('Section5_new_ANN_4')\n",
    "import pickle\n",
    "pickle.dump(sc, open('Section5_new_scaler_ANN_4.pkl', 'wb'))"
   ],
   "metadata": {
    "collapsed": false,
    "ExecuteTime": {
     "end_time": "2024-08-11T06:04:49.623265300Z",
     "start_time": "2024-08-11T06:04:47.916145Z"
    }
   }
  },
  {
   "cell_type": "markdown",
   "metadata": {},
   "source": [
    "## Part 5 - Make predictions"
   ]
  },
  {
   "cell_type": "code",
   "execution_count": 37,
   "metadata": {
    "ExecuteTime": {
     "end_time": "2024-08-11T06:04:38.244760300Z",
     "start_time": "2024-08-11T06:04:32.903402900Z"
    }
   },
   "outputs": [
    {
     "name": "stdout",
     "output_type": "stream",
     "text": [
      "742/742 [==============================] - 2s 3ms/step\n",
      "248/248 [==============================] - 1s 2ms/step\n"
     ]
    },
    {
     "data": {
      "text/plain": "<Figure size 640x480 with 2 Axes>",
      "image/png": "[encoded data removed]"
     },
     "metadata": {},
     "output_type": "display_data"
    }
   ],
   "source": [
    "# scatterplot of actual vs. pred\n",
    "# specify the dimensions \n",
    "fig, axes = plt.subplots(1,2) # 1 row, 2 columns\n",
    "\n",
    "# this makes the individual subplots\n",
    "# Training Results\n",
    "axes[0].scatter(x=y_train, y=ann.predict(X_train)) #first row, first entry (left top)\n",
    "axes[0].set_xlabel(\"Actual\", fontsize=10)\n",
    "axes[0].set_ylabel(\"Predicted\",  fontsize=10)\n",
    "axes[0].set_title(\"Training\")\n",
    "# add 45 deg line\n",
    "x = np.linspace(*axes[0].get_xlim())\n",
    "axes[0].plot(x, x, color='red')\n",
    "# Validation Results\n",
    "axes[1].scatter(x=y_val, y=ann.predict(X_val)) # first row, second entry (right top)\n",
    "axes[1].set_xlabel(\"Actual\", fontsize=10)\n",
    "axes[1].set_ylabel(\"Predicted\",  fontsize=10)\n",
    "axes[1].set_title(\"Validation\")\n",
    "# add 45 deg line\n",
    "x = np.linspace(*axes[1].get_xlim())\n",
    "axes[1].plot(x, x, color='red')\n",
    "\n",
    "# tight layout\n",
    "fig.tight_layout()\n",
    "plt.savefig('Section5_ANN4_1.png', dpi=300, bbox_inches='tight')\n",
    "\n",
    "# show the plot\n",
    "plt.show()"
   ]
  },
  {
   "cell_type": "code",
   "execution_count": 16,
   "metadata": {
    "colab": {
     "base_uri": "https://localhost:8080/",
     "height": 134
    },
    "colab_type": "code",
    "id": "IA0yApEmBG1X",
    "outputId": "cb981e1f-9204-4a2a-fece-9d66a6919189",
    "ExecuteTime": {
     "end_time": "2024-08-26T00:44:03.988595400Z",
     "start_time": "2024-08-26T00:44:03.125547600Z"
    }
   },
   "outputs": [
    {
     "name": "stdout",
     "output_type": "stream",
     "text": [
      "248/248 [==============================] - 1s 2ms/step\n",
      "[[1.25 1.2 ]\n",
      " [4.71 4.52]\n",
      " [4.12 3.88]\n",
      " ...\n",
      " [1.16 1.1 ]\n",
      " [0.06 0.05]\n",
      " [0.44 0.39]]\n"
     ]
    }
   ],
   "source": [
    "y_pred = ann.predict(X_test)\n",
    "np.set_printoptions(precision=2)\n",
    "print(np.concatenate((y_pred.reshape(len(y_pred),1), y_test.reshape(len(y_test),1)),1))"
   ]
  },
  {
   "cell_type": "code",
   "execution_count": 27,
   "metadata": {
    "ExecuteTime": {
     "end_time": "2024-08-11T05:55:18.668895500Z",
     "start_time": "2024-08-11T05:55:18.384075500Z"
    }
   },
   "outputs": [
    {
     "data": {
      "text/plain": "Text(0, 0.5, 'Predicted data')"
     },
     "execution_count": 27,
     "metadata": {},
     "output_type": "execute_result"
    },
    {
     "data": {
      "text/plain": "<Figure size 640x480 with 1 Axes>",
      "image/png": "[encoded data removed]"
     },
     "metadata": {},
     "output_type": "display_data"
    }
   ],
   "source": [
    "import matplotlib.pyplot as plt\n",
    "plt.scatter(y_test, y_pred, color=\"blue\")\n",
    "#plt.plot ([0,1200000],[0,1200000], color = \"red\")\n",
    "#plt.axis ([0,1200000,0,1200000])\n",
    "plt.xlabel ('Actual data')\n",
    "plt.ylabel ('Predicted data')"
   ]
  },
  {
   "cell_type": "code",
   "execution_count": 18,
   "metadata": {
    "ExecuteTime": {
     "end_time": "2024-08-26T00:44:47.422646500Z",
     "start_time": "2024-08-26T00:44:46.808703400Z"
    }
   },
   "outputs": [
    {
     "data": {
      "text/plain": "<Figure size 600x600 with 1 Axes>",
      "image/png": "[encoded data removed]"
     },
     "metadata": {},
     "output_type": "display_data"
    }
   ],
   "source": [
    "from sklearn.metrics import r2_score\n",
    "# Initialize layout\n",
    "fig1, ax1 = plt.subplots(figsize = (6, 6))\n",
    "\n",
    "# Set global font to Times New Roman and font size\n",
    "plt.rcParams['font.family'] = 'serif'\n",
    "plt.rcParams['font.serif'] = ['Times New Roman']\n",
    "plt.rcParams['font.size'] = 20\n",
    "\n",
    "b_l = -5\n",
    "u_l = 50\n",
    "\n",
    "# Add scatterplot\n",
    "ax1.scatter(y_test, y_pred, s=70, alpha=1, edgecolors=\"k\",c='mediumblue',zorder=5, label = 'Points')\n",
    "\n",
    "\n",
    "plt.ylabel('Predicted Reflected Overpressure (kPa)')\n",
    "plt.xlabel('Target Reflected Overpressure (kPa)')\n",
    "plt.xticks(fontsize = 19)\n",
    "plt.yticks(fontsize = 19)\n",
    "\n",
    "\n",
    "x1 = np.linspace(b_l, u_l)\n",
    "\n",
    "plt.plot(x1, x1, 'Red', label='45\\N{DEGREE SIGN} line',lw=2.5,alpha=1)\n",
    "#plt.plot(x1, 1.05*x1, '--m', label='\\u00B15% Error',lw=2.5,alpha=0.7)\n",
    "#plt.plot(x1, 0.95*x1,'m', linestyle='--',lw=2.5,alpha=0.7)\n",
    "#plt.plot(x1, 1.1*x1, '-.g', label='\\u00B110% Error',lw=2.5,alpha=0.7)\n",
    "#plt.plot(x1, 0.9*x1,'-.g',lw=2.5,alpha=0.7)\n",
    "#plt.plot(x1, 1.2*x1, color = '#F97306', linestyle='dotted', label='\\u00B120% Error',lw=2.5,alpha=0.7)\n",
    "#plt.plot(x1, 0.8*x1,color = '#F97306', linestyle='dotted', lw=2.5,alpha=0.7)\n",
    "\n",
    "plt.ylim(b_l, u_l)\n",
    "plt.xlim(b_l, u_l)\n",
    "plt.legend(loc='upper center', bbox_to_anchor=(0.5, -0.15), ncol=4, frameon = False, fontsize = 20)\n",
    "\n",
    "#plt.grid()\n",
    "\n",
    "ax1.spines['left'].set_color('black')        # setting up Y-axis tick color to red\n",
    "ax1.spines['bottom'].set_color('black')       #setting up above X-axis tick color to red\n",
    "\n",
    "# Save the plot\n",
    "plt.savefig('Section5_ANN4.png', dpi=300, bbox_inches='tight')"
   ]
  },
  {
   "cell_type": "code",
   "execution_count": 29,
   "metadata": {
    "ExecuteTime": {
     "end_time": "2024-08-11T05:55:22.201243100Z",
     "start_time": "2024-08-11T05:55:19.881879300Z"
    }
   },
   "outputs": [
    {
     "name": "stdout",
     "output_type": "stream",
     "text": [
      "742/742 [==============================] - 2s 3ms/step\n",
      "0.14268630896053117\n",
      "0.15426933302540036\n"
     ]
    }
   ],
   "source": [
    "# metrics\n",
    "trainpreds = ann.predict(X_train)\n",
    "\n",
    "from sklearn.metrics import mean_absolute_error\n",
    "print(mean_absolute_error(y_train, trainpreds)) # train\n",
    "print(mean_absolute_error(y_test, y_pred)) # test"
   ]
  },
  {
   "cell_type": "code",
   "execution_count": 30,
   "metadata": {
    "ExecuteTime": {
     "end_time": "2024-08-11T05:55:22.228796500Z",
     "start_time": "2024-08-11T05:55:22.202237900Z"
    }
   },
   "outputs": [
    {
     "name": "stdout",
     "output_type": "stream",
     "text": [
      "0.99681464623908\n"
     ]
    }
   ],
   "source": [
    "from sklearn.metrics import r2_score\n",
    "r2 = r2_score(y_test, y_pred)\n",
    "print (r2)"
   ]
  },
  {
   "cell_type": "code",
   "execution_count": 31,
   "metadata": {
    "ExecuteTime": {
     "end_time": "2024-08-11T05:55:22.336210700Z",
     "start_time": "2024-08-11T05:55:22.216251900Z"
    }
   },
   "outputs": [
    {
     "name": "stdout",
     "output_type": "stream",
     "text": [
      "0.997258201706926\n"
     ]
    }
   ],
   "source": [
    "r2_train = r2_score(y_train, trainpreds)\n",
    "print (r2_train)"
   ]
  },
  {
   "cell_type": "code",
   "execution_count": 32,
   "metadata": {
    "ExecuteTime": {
     "end_time": "2024-08-11T05:55:23.068917200Z",
     "start_time": "2024-08-11T05:55:22.322205Z"
    }
   },
   "outputs": [
    {
     "name": "stdout",
     "output_type": "stream",
     "text": [
      "Within 5% margin 50.06%\n",
      "Within 10% margin 69.13%\n",
      "Within 20% margin 78.85%\n",
      "Out of 20% margin 21.15%\n"
     ]
    }
   ],
   "source": [
    "count0 = 0\n",
    "for i in range(len(y_pred)):\n",
    "    line1 = y_pred[i] - 0.95*y_test[i]\n",
    "    line2 = y_pred[i] - 1.05*y_test[i]\n",
    "    mask0 = (line1 > 0) & (line2 < 0)\n",
    "    count0 = np.sum(mask0+count0)\n",
    "\n",
    "count1 = 0\n",
    "for i in range(len(y_pred)):\n",
    "    line1 = y_pred[i] - 0.9*y_test[i]\n",
    "    line2 = y_pred[i] - 1.1*y_test[i]\n",
    "    mask1 = (line1 > 0) & (line2 < 0)\n",
    "    count1 = np.sum(mask1+count1)\n",
    "\n",
    "count2 = 0\n",
    "for j in range(len(y_pred)):\n",
    "    line3 = y_pred[j] - 0.8*y_test[j]\n",
    "    line4 = y_pred[j] - 1.2*y_test[j]\n",
    "    mask2 = (line3 > 0) & (line4 < 0)\n",
    "    count2 = np.sum(mask2+count2)\n",
    "\n",
    "\n",
    "count3 = 0    \n",
    "for k in range(len(y_pred)):\n",
    "    line5 = y_pred[k] - 0.8*y_test[k]\n",
    "    line6 = y_pred[k] - 1.2*y_test[k]\n",
    "    mask3 = (line5 < 0) or (line6 > 0)\n",
    "    count3 = np.sum(mask3+count3)\n",
    "   \n",
    "\n",
    "print ('Within 5% margin', format((count0/len (y_pred)),'.2%'))\n",
    "print ('Within 10% margin', format((count1/len (y_pred)),'.2%'))\n",
    "print ('Within 20% margin', format((count2/len (y_pred)),'.2%'))\n",
    "print ('Out of 20% margin', format((count3/len (y_pred)),'.2%'))"
   ]
  },
  {
   "cell_type": "code",
   "execution_count": 33,
   "metadata": {
    "ExecuteTime": {
     "end_time": "2024-08-11T05:55:23.095454600Z",
     "start_time": "2024-08-11T05:55:23.072915100Z"
    }
   },
   "outputs": [
    {
     "name": "stdout",
     "output_type": "stream",
     "text": [
      "0.996812226983059\n"
     ]
    }
   ],
   "source": [
    "adj_r2 = 1 - ((1 - r2) * (len(X_test) - 1) / (len(X_test) - len (X_test[0]) - 1))\n",
    "print (adj_r2)"
   ]
  },
  {
   "cell_type": "code",
   "execution_count": 34,
   "metadata": {
    "ExecuteTime": {
     "end_time": "2024-08-11T05:55:23.272993100Z",
     "start_time": "2024-08-11T05:55:23.086931100Z"
    }
   },
   "outputs": [
    {
     "data": {
      "text/plain": "0.3239900138863383"
     },
     "execution_count": 34,
     "metadata": {},
     "output_type": "execute_result"
    }
   ],
   "source": [
    "import math\n",
    "from sklearn.metrics import mean_squared_error\n",
    "\n",
    "math.sqrt(mean_squared_error(y_test, y_pred))"
   ]
  },
  {
   "cell_type": "code",
   "execution_count": 35,
   "metadata": {
    "ExecuteTime": {
     "end_time": "2024-08-11T05:55:23.404138Z",
     "start_time": "2024-08-11T05:55:23.268968Z"
    }
   },
   "outputs": [
    {
     "data": {
      "text/plain": "0.15426933302540036"
     },
     "execution_count": 35,
     "metadata": {},
     "output_type": "execute_result"
    }
   ],
   "source": [
    "from sklearn.metrics import mean_absolute_error\n",
    "\n",
    "mean_absolute_error(y_test, y_pred)"
   ]
  },
  {
   "cell_type": "code",
   "execution_count": 11,
   "outputs": [
    {
     "name": "stderr",
     "output_type": "stream",
     "text": [
      "D:\\Anaconda3\\lib\\site-packages\\sklearn\\base.py:318: UserWarning: Trying to unpickle estimator StandardScaler from version 1.4.2 when using version 1.2.2. This might lead to breaking code or invalid results. Use at your own risk. For more info please refer to:\n",
      "https://scikit-learn.org/stable/model_persistence.html#security-maintainability-limitations\n",
      "  warnings.warn(\n"
     ]
    }
   ],
   "source": [
    "ann = load_model('Section5_new_ANN_4')\n",
    "sc = pickle.load(open('Section5_new_scaler_ANN_4.pkl', 'rb'))"
   ],
   "metadata": {
    "collapsed": false,
    "ExecuteTime": {
     "end_time": "2024-08-26T00:43:44.879727200Z",
     "start_time": "2024-08-26T00:43:44.036660300Z"
    }
   }
  }
 ],
 "metadata": {
  "colab": {
   "collapsed_sections": [],
   "name": "Artificial Neural Network",
   "provenance": [],
   "toc_visible": true
  },
  "kernelspec": {
   "display_name": "Python 3 (ipykernel)",
   "language": "python",
   "name": "python3"
  },
  "language_info": {
   "codemirror_mode": {
    "name": "ipython",
    "version": 3
   },
   "file_extension": ".py",
   "mimetype": "text/x-python",
   "name": "python",
   "nbconvert_exporter": "python",
   "pygments_lexer": "ipython3",
   "version": "3.9.7"
  }
 },
 "nbformat": 4,
 "nbformat_minor": 4
}
