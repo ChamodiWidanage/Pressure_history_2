{
 "cells": [
  {
   "cell_type": "markdown",
   "metadata": {
    "colab_type": "text",
    "id": "3cbb7fRy-eyr"
   },
   "source": [
    "# Artificial Neural Network"
   ]
  },
  {
   "cell_type": "markdown",
   "metadata": {
    "colab_type": "text",
    "id": "8sNDnxE2-pwE"
   },
   "source": [
    "## Part 1 - Importing the libraries"
   ]
  },
  {
   "cell_type": "code",
   "execution_count": 1,
   "metadata": {
    "colab": {},
    "colab_type": "code",
    "id": "lxChR1Rk-umf",
    "ExecuteTime": {
     "end_time": "2024-08-02T00:56:50.282903Z",
     "start_time": "2024-08-02T00:56:34.524696500Z"
    }
   },
   "outputs": [],
   "source": [
    "import numpy as np\n",
    "import pandas as pd\n",
    "import tensorflow as tf\n",
    "import matplotlib.pyplot as plt\n",
    "from keras.models import load_model\n",
    "from pathlib import Path\n",
    "import pickle"
   ]
  },
  {
   "cell_type": "markdown",
   "metadata": {
    "colab_type": "text",
    "id": "AG3FQEch-yuA"
   },
   "source": [
    "## Part 2 - Data Preprocessing"
   ]
  },
  {
   "cell_type": "markdown",
   "metadata": {
    "colab_type": "text",
    "id": "-4zq8Mza_D9O"
   },
   "source": [
    "### Importing the dataset"
   ]
  },
  {
   "cell_type": "code",
   "execution_count": 2,
   "metadata": {
    "ExecuteTime": {
     "end_time": "2024-08-02T00:56:53.602865Z",
     "start_time": "2024-08-02T00:56:53.540067Z"
    }
   },
   "outputs": [
    {
     "name": "stdout",
     "output_type": "stream",
     "text": [
      "input G:\\Chamodi\\LSDYNA3D\\RP_TH_models\\RP_Section_3_new\n",
      "2 [WindowsPath('G:/Chamodi/LSDYNA3D/RP_TH_models/RP_Section_3_new/RP_curves_fr07m'), WindowsPath('G:/Chamodi/LSDYNA3D/RP_TH_models/RP_Section_3_new/RP_curves_fr09m'), WindowsPath('G:/Chamodi/LSDYNA3D/RP_TH_models/RP_Section_3_new/RP_curves_fr11m'), WindowsPath('G:/Chamodi/LSDYNA3D/RP_TH_models/RP_Section_3_new/RP_curves_fr13m')]\n"
     ]
    }
   ],
   "source": [
    "#Access input folder\n",
    "current_dir = Path.cwd()\n",
    "input_dir1 = Path (\"G:/Chamodi/LSDYNA3D/RP_TH_models/RP_Section_3_new\")\n",
    "print (\"input\",input_dir1)\n",
    "\n",
    "#Access folders inside input folder\n",
    "input_dir2=  [folder1 for folder1 in input_dir1.iterdir() if folder1.is_dir()] # folder1 - RP_curves_fr7m\n",
    "print (\"2\",input_dir2)"
   ]
  },
  {
   "cell_type": "code",
   "execution_count": 3,
   "metadata": {
    "ExecuteTime": {
     "end_time": "2024-08-02T00:57:08.243574300Z",
     "start_time": "2024-08-02T00:56:56.138912900Z"
    }
   },
   "outputs": [
    {
     "name": "stdout",
     "output_type": "stream",
     "text": [
      "folder G:\\Chamodi\\LSDYNA3D\\RP_TH_models\\RP_Section_3_new\\RP_curves_fr07m\\07m00.5kg\n",
      "1.xlsx\n",
      "2.xlsx\n",
      "3.xlsx\n",
      "4.xlsx\n",
      "folder G:\\Chamodi\\LSDYNA3D\\RP_TH_models\\RP_Section_3_new\\RP_curves_fr07m\\07m02.5kg\n",
      "1.xlsx\n",
      "2.xlsx\n",
      "3.xlsx\n",
      "4.xlsx\n",
      "folder G:\\Chamodi\\LSDYNA3D\\RP_TH_models\\RP_Section_3_new\\RP_curves_fr07m\\07m04.5kg\n",
      "1.xlsx\n",
      "2.xlsx\n",
      "3.xlsx\n",
      "4.xlsx\n",
      "folder G:\\Chamodi\\LSDYNA3D\\RP_TH_models\\RP_Section_3_new\\RP_curves_fr07m\\07m06.5kg\n",
      "1.xlsx\n",
      "2.xlsx\n",
      "3.xlsx\n",
      "4.xlsx\n",
      "folder G:\\Chamodi\\LSDYNA3D\\RP_TH_models\\RP_Section_3_new\\RP_curves_fr07m\\07m08.5kg\n",
      "1.xlsx\n",
      "2.xlsx\n",
      "3.xlsx\n",
      "4.xlsx\n",
      "folder G:\\Chamodi\\LSDYNA3D\\RP_TH_models\\RP_Section_3_new\\RP_curves_fr07m\\07m10.5kg\n",
      "1.xlsx\n",
      "2.xlsx\n",
      "3.xlsx\n",
      "4.xlsx\n",
      "folder G:\\Chamodi\\LSDYNA3D\\RP_TH_models\\RP_Section_3_new\\RP_curves_fr07m\\07m12.5kg\n",
      "1.xlsx\n",
      "2.xlsx\n",
      "3.xlsx\n",
      "4.xlsx\n",
      "folder G:\\Chamodi\\LSDYNA3D\\RP_TH_models\\RP_Section_3_new\\RP_curves_fr07m\\07m14.5kg\n",
      "1.xlsx\n",
      "2.xlsx\n",
      "3.xlsx\n",
      "4.xlsx\n",
      "folder G:\\Chamodi\\LSDYNA3D\\RP_TH_models\\RP_Section_3_new\\RP_curves_fr07m\\07m16.5kg\n",
      "1.xlsx\n",
      "2.xlsx\n",
      "3.xlsx\n",
      "4.xlsx\n",
      "folder G:\\Chamodi\\LSDYNA3D\\RP_TH_models\\RP_Section_3_new\\RP_curves_fr07m\\07m18.5kg\n",
      "1.xlsx\n",
      "2.xlsx\n",
      "3.xlsx\n",
      "4.xlsx\n",
      "folder G:\\Chamodi\\LSDYNA3D\\RP_TH_models\\RP_Section_3_new\\RP_curves_fr07m\\07m20.5kg\n",
      "1.xlsx\n",
      "2.xlsx\n",
      "3.xlsx\n",
      "4.xlsx\n",
      "folder G:\\Chamodi\\LSDYNA3D\\RP_TH_models\\RP_Section_3_new\\RP_curves_fr07m\\07m22.5kg\n",
      "1.xlsx\n",
      "2.xlsx\n",
      "3.xlsx\n",
      "4.xlsx\n",
      "folder G:\\Chamodi\\LSDYNA3D\\RP_TH_models\\RP_Section_3_new\\RP_curves_fr07m\\07m24.5kg\n",
      "1.xlsx\n",
      "2.xlsx\n",
      "3.xlsx\n",
      "4.xlsx\n",
      "folder G:\\Chamodi\\LSDYNA3D\\RP_TH_models\\RP_Section_3_new\\RP_curves_fr07m\\07m26.5kg\n",
      "1.xlsx\n",
      "2.xlsx\n",
      "3.xlsx\n",
      "4.xlsx\n",
      "folder G:\\Chamodi\\LSDYNA3D\\RP_TH_models\\RP_Section_3_new\\RP_curves_fr07m\\07m28.5kg\n",
      "1.xlsx\n",
      "2.xlsx\n",
      "3.xlsx\n",
      "4.xlsx\n",
      "folder G:\\Chamodi\\LSDYNA3D\\RP_TH_models\\RP_Section_3_new\\RP_curves_fr07m\\07m30.5kg\n",
      "1.xlsx\n",
      "2.xlsx\n",
      "3.xlsx\n",
      "4.xlsx\n",
      "folder G:\\Chamodi\\LSDYNA3D\\RP_TH_models\\RP_Section_3_new\\RP_curves_fr07m\\07m32.5kg\n",
      "1.xlsx\n",
      "2.xlsx\n",
      "3.xlsx\n",
      "4.xlsx\n",
      "folder G:\\Chamodi\\LSDYNA3D\\RP_TH_models\\RP_Section_3_new\\RP_curves_fr07m\\07m34.5kg\n",
      "1.xlsx\n",
      "2.xlsx\n",
      "3.xlsx\n",
      "4.xlsx\n",
      "folder G:\\Chamodi\\LSDYNA3D\\RP_TH_models\\RP_Section_3_new\\RP_curves_fr07m\\07m35.0kg\n",
      "1.xlsx\n",
      "2.xlsx\n",
      "3.xlsx\n",
      "4.xlsx\n",
      "folder G:\\Chamodi\\LSDYNA3D\\RP_TH_models\\RP_Section_3_new\\RP_curves_fr09m\\09m00.5kg\n",
      "1.xlsx\n",
      "2.xlsx\n",
      "3.xlsx\n",
      "4.xlsx\n",
      "folder G:\\Chamodi\\LSDYNA3D\\RP_TH_models\\RP_Section_3_new\\RP_curves_fr09m\\09m02.5kg\n",
      "1.xlsx\n",
      "2.xlsx\n",
      "3.xlsx\n",
      "4.xlsx\n",
      "folder G:\\Chamodi\\LSDYNA3D\\RP_TH_models\\RP_Section_3_new\\RP_curves_fr09m\\09m04.5kg\n",
      "1.xlsx\n",
      "2.xlsx\n",
      "3.xlsx\n",
      "4.xlsx\n",
      "folder G:\\Chamodi\\LSDYNA3D\\RP_TH_models\\RP_Section_3_new\\RP_curves_fr09m\\09m06.5kg\n",
      "1.xlsx\n",
      "2.xlsx\n",
      "3.xlsx\n",
      "4.xlsx\n",
      "folder G:\\Chamodi\\LSDYNA3D\\RP_TH_models\\RP_Section_3_new\\RP_curves_fr09m\\09m08.5kg\n",
      "1.xlsx\n",
      "2.xlsx\n",
      "3.xlsx\n",
      "4.xlsx\n",
      "folder G:\\Chamodi\\LSDYNA3D\\RP_TH_models\\RP_Section_3_new\\RP_curves_fr09m\\09m10.5kg\n",
      "1.xlsx\n",
      "2.xlsx\n",
      "3.xlsx\n",
      "4.xlsx\n",
      "folder G:\\Chamodi\\LSDYNA3D\\RP_TH_models\\RP_Section_3_new\\RP_curves_fr09m\\09m12.5kg\n",
      "1.xlsx\n",
      "2.xlsx\n",
      "3.xlsx\n",
      "4.xlsx\n",
      "folder G:\\Chamodi\\LSDYNA3D\\RP_TH_models\\RP_Section_3_new\\RP_curves_fr09m\\09m14.5kg\n",
      "1.xlsx\n",
      "2.xlsx\n",
      "3.xlsx\n",
      "4.xlsx\n",
      "folder G:\\Chamodi\\LSDYNA3D\\RP_TH_models\\RP_Section_3_new\\RP_curves_fr09m\\09m16.5kg\n",
      "1.xlsx\n",
      "2.xlsx\n",
      "3.xlsx\n",
      "4.xlsx\n",
      "folder G:\\Chamodi\\LSDYNA3D\\RP_TH_models\\RP_Section_3_new\\RP_curves_fr09m\\09m18.5kg\n",
      "1.xlsx\n",
      "2.xlsx\n",
      "3.xlsx\n",
      "4.xlsx\n",
      "folder G:\\Chamodi\\LSDYNA3D\\RP_TH_models\\RP_Section_3_new\\RP_curves_fr09m\\09m20.5kg\n",
      "1.xlsx\n",
      "2.xlsx\n",
      "3.xlsx\n",
      "4.xlsx\n",
      "folder G:\\Chamodi\\LSDYNA3D\\RP_TH_models\\RP_Section_3_new\\RP_curves_fr09m\\09m22.5kg\n",
      "1.xlsx\n",
      "2.xlsx\n",
      "3.xlsx\n",
      "4.xlsx\n",
      "folder G:\\Chamodi\\LSDYNA3D\\RP_TH_models\\RP_Section_3_new\\RP_curves_fr09m\\09m24.5kg\n",
      "1.xlsx\n",
      "2.xlsx\n",
      "3.xlsx\n",
      "4.xlsx\n",
      "folder G:\\Chamodi\\LSDYNA3D\\RP_TH_models\\RP_Section_3_new\\RP_curves_fr09m\\09m26.5kg\n",
      "1.xlsx\n",
      "2.xlsx\n",
      "3.xlsx\n",
      "4.xlsx\n",
      "folder G:\\Chamodi\\LSDYNA3D\\RP_TH_models\\RP_Section_3_new\\RP_curves_fr09m\\09m28.5kg\n",
      "1.xlsx\n",
      "2.xlsx\n",
      "3.xlsx\n",
      "4.xlsx\n",
      "folder G:\\Chamodi\\LSDYNA3D\\RP_TH_models\\RP_Section_3_new\\RP_curves_fr09m\\09m30.5kg\n",
      "1.xlsx\n",
      "2.xlsx\n",
      "3.xlsx\n",
      "4.xlsx\n",
      "folder G:\\Chamodi\\LSDYNA3D\\RP_TH_models\\RP_Section_3_new\\RP_curves_fr09m\\09m32.5kg\n",
      "1.xlsx\n",
      "2.xlsx\n",
      "3.xlsx\n",
      "4.xlsx\n",
      "folder G:\\Chamodi\\LSDYNA3D\\RP_TH_models\\RP_Section_3_new\\RP_curves_fr09m\\09m34.5kg\n",
      "1.xlsx\n",
      "2.xlsx\n",
      "3.xlsx\n",
      "4.xlsx\n",
      "folder G:\\Chamodi\\LSDYNA3D\\RP_TH_models\\RP_Section_3_new\\RP_curves_fr09m\\09m35.0kg\n",
      "1.xlsx\n",
      "2.xlsx\n",
      "3.xlsx\n",
      "4.xlsx\n",
      "folder G:\\Chamodi\\LSDYNA3D\\RP_TH_models\\RP_Section_3_new\\RP_curves_fr11m\\11m00.5kg\n",
      "1.xlsx\n",
      "2.xlsx\n",
      "3.xlsx\n",
      "4.xlsx\n",
      "folder G:\\Chamodi\\LSDYNA3D\\RP_TH_models\\RP_Section_3_new\\RP_curves_fr11m\\11m02.5kg\n",
      "1.xlsx\n",
      "2.xlsx\n",
      "3.xlsx\n",
      "4.xlsx\n",
      "folder G:\\Chamodi\\LSDYNA3D\\RP_TH_models\\RP_Section_3_new\\RP_curves_fr11m\\11m04.5kg\n",
      "1.xlsx\n",
      "2.xlsx\n",
      "3.xlsx\n",
      "4.xlsx\n",
      "folder G:\\Chamodi\\LSDYNA3D\\RP_TH_models\\RP_Section_3_new\\RP_curves_fr11m\\11m06.5kg\n",
      "1.xlsx\n",
      "2.xlsx\n",
      "3.xlsx\n",
      "4.xlsx\n",
      "folder G:\\Chamodi\\LSDYNA3D\\RP_TH_models\\RP_Section_3_new\\RP_curves_fr11m\\11m08.5kg\n",
      "1.xlsx\n",
      "2.xlsx\n",
      "3.xlsx\n",
      "4.xlsx\n",
      "folder G:\\Chamodi\\LSDYNA3D\\RP_TH_models\\RP_Section_3_new\\RP_curves_fr11m\\11m10.5kg\n",
      "1.xlsx\n",
      "2.xlsx\n",
      "3.xlsx\n",
      "4.xlsx\n",
      "folder G:\\Chamodi\\LSDYNA3D\\RP_TH_models\\RP_Section_3_new\\RP_curves_fr11m\\11m12.5kg\n",
      "1.xlsx\n",
      "2.xlsx\n",
      "3.xlsx\n",
      "4.xlsx\n",
      "folder G:\\Chamodi\\LSDYNA3D\\RP_TH_models\\RP_Section_3_new\\RP_curves_fr11m\\11m14.5kg\n",
      "1.xlsx\n",
      "2.xlsx\n",
      "3.xlsx\n",
      "4.xlsx\n",
      "folder G:\\Chamodi\\LSDYNA3D\\RP_TH_models\\RP_Section_3_new\\RP_curves_fr11m\\11m16.5kg\n",
      "1.xlsx\n",
      "2.xlsx\n",
      "3.xlsx\n",
      "4.xlsx\n",
      "folder G:\\Chamodi\\LSDYNA3D\\RP_TH_models\\RP_Section_3_new\\RP_curves_fr11m\\11m18.5kg\n",
      "1.xlsx\n",
      "2.xlsx\n",
      "3.xlsx\n",
      "4.xlsx\n",
      "folder G:\\Chamodi\\LSDYNA3D\\RP_TH_models\\RP_Section_3_new\\RP_curves_fr11m\\11m20.5kg\n",
      "1.xlsx\n",
      "2.xlsx\n",
      "3.xlsx\n",
      "4.xlsx\n",
      "folder G:\\Chamodi\\LSDYNA3D\\RP_TH_models\\RP_Section_3_new\\RP_curves_fr11m\\11m22.5kg\n",
      "1.xlsx\n",
      "2.xlsx\n",
      "3.xlsx\n",
      "4.xlsx\n",
      "folder G:\\Chamodi\\LSDYNA3D\\RP_TH_models\\RP_Section_3_new\\RP_curves_fr11m\\11m24.5kg\n",
      "1.xlsx\n",
      "2.xlsx\n",
      "3.xlsx\n",
      "4.xlsx\n",
      "folder G:\\Chamodi\\LSDYNA3D\\RP_TH_models\\RP_Section_3_new\\RP_curves_fr11m\\11m26.5kg\n",
      "1.xlsx\n",
      "2.xlsx\n",
      "3.xlsx\n",
      "4.xlsx\n",
      "folder G:\\Chamodi\\LSDYNA3D\\RP_TH_models\\RP_Section_3_new\\RP_curves_fr11m\\11m28.5kg\n",
      "1.xlsx\n",
      "2.xlsx\n",
      "3.xlsx\n",
      "4.xlsx\n",
      "folder G:\\Chamodi\\LSDYNA3D\\RP_TH_models\\RP_Section_3_new\\RP_curves_fr11m\\11m30.5kg\n",
      "1.xlsx\n",
      "2.xlsx\n",
      "3.xlsx\n",
      "4.xlsx\n",
      "folder G:\\Chamodi\\LSDYNA3D\\RP_TH_models\\RP_Section_3_new\\RP_curves_fr11m\\11m32.5kg\n",
      "1.xlsx\n",
      "2.xlsx\n",
      "3.xlsx\n",
      "4.xlsx\n",
      "folder G:\\Chamodi\\LSDYNA3D\\RP_TH_models\\RP_Section_3_new\\RP_curves_fr11m\\11m34.5kg\n",
      "1.xlsx\n",
      "2.xlsx\n",
      "3.xlsx\n",
      "4.xlsx\n",
      "folder G:\\Chamodi\\LSDYNA3D\\RP_TH_models\\RP_Section_3_new\\RP_curves_fr11m\\11m35.0kg\n",
      "1.xlsx\n",
      "2.xlsx\n",
      "3.xlsx\n",
      "4.xlsx\n",
      "folder G:\\Chamodi\\LSDYNA3D\\RP_TH_models\\RP_Section_3_new\\RP_curves_fr13m\\13m00.5kg\n",
      "1.xlsx\n",
      "2.xlsx\n",
      "3.xlsx\n",
      "4.xlsx\n",
      "folder G:\\Chamodi\\LSDYNA3D\\RP_TH_models\\RP_Section_3_new\\RP_curves_fr13m\\13m02.5kg\n",
      "1.xlsx\n",
      "2.xlsx\n",
      "3.xlsx\n",
      "4.xlsx\n",
      "folder G:\\Chamodi\\LSDYNA3D\\RP_TH_models\\RP_Section_3_new\\RP_curves_fr13m\\13m04.5kg\n",
      "1.xlsx\n",
      "2.xlsx\n",
      "3.xlsx\n",
      "4.xlsx\n",
      "folder G:\\Chamodi\\LSDYNA3D\\RP_TH_models\\RP_Section_3_new\\RP_curves_fr13m\\13m06.5kg\n",
      "1.xlsx\n",
      "2.xlsx\n",
      "3.xlsx\n",
      "4.xlsx\n",
      "folder G:\\Chamodi\\LSDYNA3D\\RP_TH_models\\RP_Section_3_new\\RP_curves_fr13m\\13m08.5kg\n",
      "1.xlsx\n",
      "2.xlsx\n",
      "3.xlsx\n",
      "4.xlsx\n",
      "folder G:\\Chamodi\\LSDYNA3D\\RP_TH_models\\RP_Section_3_new\\RP_curves_fr13m\\13m10.5kg\n",
      "1.xlsx\n",
      "2.xlsx\n",
      "3.xlsx\n",
      "4.xlsx\n",
      "folder G:\\Chamodi\\LSDYNA3D\\RP_TH_models\\RP_Section_3_new\\RP_curves_fr13m\\13m12.5kg\n",
      "1.xlsx\n",
      "2.xlsx\n",
      "3.xlsx\n",
      "4.xlsx\n",
      "folder G:\\Chamodi\\LSDYNA3D\\RP_TH_models\\RP_Section_3_new\\RP_curves_fr13m\\13m14.5kg\n",
      "1.xlsx\n",
      "2.xlsx\n",
      "3.xlsx\n",
      "4.xlsx\n",
      "folder G:\\Chamodi\\LSDYNA3D\\RP_TH_models\\RP_Section_3_new\\RP_curves_fr13m\\13m16.5kg\n",
      "1.xlsx\n",
      "2.xlsx\n",
      "3.xlsx\n",
      "4.xlsx\n",
      "folder G:\\Chamodi\\LSDYNA3D\\RP_TH_models\\RP_Section_3_new\\RP_curves_fr13m\\13m18.5kg\n",
      "1.xlsx\n",
      "2.xlsx\n",
      "3.xlsx\n",
      "4.xlsx\n",
      "folder G:\\Chamodi\\LSDYNA3D\\RP_TH_models\\RP_Section_3_new\\RP_curves_fr13m\\13m20.5kg\n",
      "1.xlsx\n",
      "2.xlsx\n",
      "3.xlsx\n",
      "4.xlsx\n",
      "folder G:\\Chamodi\\LSDYNA3D\\RP_TH_models\\RP_Section_3_new\\RP_curves_fr13m\\13m22.5kg\n",
      "1.xlsx\n",
      "2.xlsx\n",
      "3.xlsx\n",
      "4.xlsx\n",
      "folder G:\\Chamodi\\LSDYNA3D\\RP_TH_models\\RP_Section_3_new\\RP_curves_fr13m\\13m24.5kg\n",
      "1.xlsx\n",
      "2.xlsx\n",
      "3.xlsx\n",
      "4.xlsx\n",
      "folder G:\\Chamodi\\LSDYNA3D\\RP_TH_models\\RP_Section_3_new\\RP_curves_fr13m\\13m26.5kg\n",
      "1.xlsx\n",
      "2.xlsx\n",
      "3.xlsx\n",
      "4.xlsx\n",
      "folder G:\\Chamodi\\LSDYNA3D\\RP_TH_models\\RP_Section_3_new\\RP_curves_fr13m\\13m28.5kg\n",
      "1.xlsx\n",
      "2.xlsx\n",
      "3.xlsx\n",
      "4.xlsx\n",
      "folder G:\\Chamodi\\LSDYNA3D\\RP_TH_models\\RP_Section_3_new\\RP_curves_fr13m\\13m30.5kg\n",
      "1.xlsx\n",
      "2.xlsx\n",
      "3.xlsx\n",
      "4.xlsx\n",
      "folder G:\\Chamodi\\LSDYNA3D\\RP_TH_models\\RP_Section_3_new\\RP_curves_fr13m\\13m32.5kg\n",
      "1.xlsx\n",
      "2.xlsx\n",
      "3.xlsx\n",
      "4.xlsx\n",
      "folder G:\\Chamodi\\LSDYNA3D\\RP_TH_models\\RP_Section_3_new\\RP_curves_fr13m\\13m34.5kg\n",
      "1.xlsx\n",
      "2.xlsx\n",
      "3.xlsx\n",
      "4.xlsx\n",
      "folder G:\\Chamodi\\LSDYNA3D\\RP_TH_models\\RP_Section_3_new\\RP_curves_fr13m\\13m35.0kg\n",
      "1.xlsx\n",
      "2.xlsx\n",
      "3.xlsx\n",
      "4.xlsx\n"
     ]
    }
   ],
   "source": [
    "#dataset = pd.DataFrame(columns = ['Charge_mass', 'Standoff_distance', 'Time', 'Pressure', 'Phase'])\n",
    "df_list = []\n",
    "\n",
    "for folder1 in input_dir2:\n",
    "    \n",
    "    input_dir3 =  [folder2 for folder2 in folder1.iterdir() if folder2.is_dir()] # folder2 - 07m00.5kg\n",
    "    \n",
    "    for folder2 in input_dir3:\n",
    "        \n",
    "        print ('folder', folder2)\n",
    "        files1 = [file1 for file1 in folder2.rglob(\"*.xlsx\")]\n",
    "    \n",
    "        for file1 in files1:\n",
    "            df_list.append(pd.read_excel(file1))\n",
    "            print (file1.stem)\n",
    "    \n",
    "dataset = pd.concat(df_list, ignore_index = True)"
   ]
  },
  {
   "cell_type": "code",
   "execution_count": 4,
   "metadata": {
    "colab": {},
    "colab_type": "code",
    "id": "B9CV13Co_HHM",
    "ExecuteTime": {
     "end_time": "2024-08-02T00:57:08.290350600Z",
     "start_time": "2024-08-02T00:57:08.212502200Z"
    }
   },
   "outputs": [
    {
     "name": "stdout",
     "output_type": "stream",
     "text": [
      "<class 'pandas.core.frame.DataFrame'>\n",
      "RangeIndex: 43288 entries, 0 to 43287\n",
      "Data columns (total 6 columns):\n",
      " #   Column             Non-Null Count  Dtype  \n",
      "---  ------             --------------  -----  \n",
      " 0   Mass               43288 non-null  float64\n",
      " 1   Standoff distance  43288 non-null  int64  \n",
      " 2   Angle              43288 non-null  int64  \n",
      " 3   Time               43288 non-null  float64\n",
      " 4   Phase              43288 non-null  object \n",
      " 5   Pressure           43288 non-null  float64\n",
      "dtypes: float64(3), int64(2), object(1)\n",
      "memory usage: 2.0+ MB\n"
     ]
    }
   ],
   "source": [
    "dataset.info()"
   ]
  },
  {
   "cell_type": "code",
   "execution_count": 5,
   "outputs": [
    {
     "name": "stdout",
     "output_type": "stream",
     "text": [
      "<class 'pandas.core.frame.DataFrame'>\n",
      "RangeIndex: 43288 entries, 0 to 43287\n",
      "Data columns (total 8 columns):\n",
      " #   Column                     Non-Null Count  Dtype  \n",
      "---  ------                     --------------  -----  \n",
      " 0   Mass                       43288 non-null  float64\n",
      " 1   Standoff distance          43288 non-null  int64  \n",
      " 2   Angle                      43288 non-null  int64  \n",
      " 3   Time                       43288 non-null  float64\n",
      " 4   Pressure                   43288 non-null  float64\n",
      " 5   Phase_negative_decreasing  43288 non-null  uint8  \n",
      " 6   Phase_negative_increasing  43288 non-null  uint8  \n",
      " 7   Phase_positive             43288 non-null  uint8  \n",
      "dtypes: float64(3), int64(2), uint8(3)\n",
      "memory usage: 1.8 MB\n"
     ]
    }
   ],
   "source": [
    "dataset = pd.get_dummies(dataset, columns =['Phase'], dtype = np.uint8)\n",
    "dataset.info()"
   ],
   "metadata": {
    "collapsed": false,
    "ExecuteTime": {
     "end_time": "2024-08-02T00:57:12.150060700Z",
     "start_time": "2024-08-02T00:57:12.040633Z"
    }
   }
  },
  {
   "cell_type": "code",
   "execution_count": 6,
   "outputs": [
    {
     "data": {
      "text/plain": "    Mass  Standoff distance  Angle       Time   Pressure  \\\n0    0.5                  7      0  15.668162  26.333164   \n1    0.5                  7      0  15.691678  26.252398   \n2    0.5                  7      0  15.715176  25.534211   \n3    0.5                  7      0  15.762182  23.376023   \n4    0.5                  7      0  15.785727  22.375656   \n5    0.5                  7      0  15.809281  21.536867   \n6    0.5                  7      0  15.879851  19.511992   \n7    0.5                  7      0  15.903403  18.672969   \n8    0.5                  7      0  15.926977  17.629406   \n9    0.5                  7      0  15.950563  16.382414   \n10   0.5                  7      0  16.044891  10.647789   \n11   0.5                  7      0  16.092088   8.055102   \n12   0.5                  7      0  16.139335   5.810031   \n13   0.5                  7      0  16.162973   4.831961   \n14   0.5                  7      0  16.186616   3.953727   \n15   0.5                  7      0  16.210242   3.187508   \n16   0.5                  7      0  16.233862   2.531867   \n17   0.5                  7      0  16.257500   1.981180   \n18   0.5                  7      0  16.281152   1.520602   \n19   0.5                  7      0  16.304811   1.131445   \n20   0.5                  7      0  16.328474   0.795836   \n21   0.5                  7      0  16.352141   0.493000   \n22   0.5                  7      0  16.375818   0.218344   \n23   0.5                  7      0  16.399508  -0.031602   \n24   0.5                  7      0  16.494317  -0.695039   \n25   0.5                  7      0  16.589193  -0.821437   \n26   0.5                  7      0  16.874395   0.067773   \n27   0.5                  7      0  17.041217   0.052289   \n28   0.5                  7      0  17.184435   0.158773   \n29   0.5                  7      0  17.471491  -0.020711   \n\n    Phase_negative_decreasing  Phase_negative_increasing  Phase_positive  \n0                           0                          0               1  \n1                           0                          0               1  \n2                           0                          0               1  \n3                           0                          0               1  \n4                           0                          0               1  \n5                           0                          0               1  \n6                           0                          0               1  \n7                           0                          0               1  \n8                           0                          0               1  \n9                           0                          0               1  \n10                          0                          0               1  \n11                          0                          0               1  \n12                          0                          0               1  \n13                          0                          0               1  \n14                          0                          0               1  \n15                          0                          0               1  \n16                          0                          0               1  \n17                          0                          0               1  \n18                          0                          0               1  \n19                          0                          0               1  \n20                          0                          0               1  \n21                          0                          0               1  \n22                          0                          0               1  \n23                          0                          1               0  \n24                          0                          1               0  \n25                          0                          1               0  \n26                          0                          1               0  \n27                          0                          1               0  \n28                          0                          1               0  \n29                          0                          1               0  ",
      "text/html": "<div>\n<style scoped>\n    .dataframe tbody tr th:only-of-type {\n        vertical-align: middle;\n    }\n\n    .dataframe tbody tr th {\n        vertical-align: top;\n    }\n\n    .dataframe thead th {\n        text-align: right;\n    }\n</style>\n<table border=\"1\" class=\"dataframe\">\n  <thead>\n    <tr style=\"text-align: right;\">\n      <th></th>\n      <th>Mass</th>\n      <th>Standoff distance</th>\n      <th>Angle</th>\n      <th>Time</th>\n      <th>Pressure</th>\n      <th>Phase_negative_decreasing</th>\n      <th>Phase_negative_increasing</th>\n      <th>Phase_positive</th>\n    </tr>\n  </thead>\n  <tbody>\n    <tr>\n      <th>0</th>\n      <td>0.5</td>\n      <td>7</td>\n      <td>0</td>\n      <td>15.668162</td>\n      <td>26.333164</td>\n      <td>0</td>\n      <td>0</td>\n      <td>1</td>\n    </tr>\n    <tr>\n      <th>1</th>\n      <td>0.5</td>\n      <td>7</td>\n      <td>0</td>\n      <td>15.691678</td>\n      <td>26.252398</td>\n      <td>0</td>\n      <td>0</td>\n      <td>1</td>\n    </tr>\n    <tr>\n      <th>2</th>\n      <td>0.5</td>\n      <td>7</td>\n      <td>0</td>\n      <td>15.715176</td>\n      <td>25.534211</td>\n      <td>0</td>\n      <td>0</td>\n      <td>1</td>\n    </tr>\n    <tr>\n      <th>3</th>\n      <td>0.5</td>\n      <td>7</td>\n      <td>0</td>\n      <td>15.762182</td>\n      <td>23.376023</td>\n      <td>0</td>\n      <td>0</td>\n      <td>1</td>\n    </tr>\n    <tr>\n      <th>4</th>\n      <td>0.5</td>\n      <td>7</td>\n      <td>0</td>\n      <td>15.785727</td>\n      <td>22.375656</td>\n      <td>0</td>\n      <td>0</td>\n      <td>1</td>\n    </tr>\n    <tr>\n      <th>5</th>\n      <td>0.5</td>\n      <td>7</td>\n      <td>0</td>\n      <td>15.809281</td>\n      <td>21.536867</td>\n      <td>0</td>\n      <td>0</td>\n      <td>1</td>\n    </tr>\n    <tr>\n      <th>6</th>\n      <td>0.5</td>\n      <td>7</td>\n      <td>0</td>\n      <td>15.879851</td>\n      <td>19.511992</td>\n      <td>0</td>\n      <td>0</td>\n      <td>1</td>\n    </tr>\n    <tr>\n      <th>7</th>\n      <td>0.5</td>\n      <td>7</td>\n      <td>0</td>\n      <td>15.903403</td>\n      <td>18.672969</td>\n      <td>0</td>\n      <td>0</td>\n      <td>1</td>\n    </tr>\n    <tr>\n      <th>8</th>\n      <td>0.5</td>\n      <td>7</td>\n      <td>0</td>\n      <td>15.926977</td>\n      <td>17.629406</td>\n      <td>0</td>\n      <td>0</td>\n      <td>1</td>\n    </tr>\n    <tr>\n      <th>9</th>\n      <td>0.5</td>\n      <td>7</td>\n      <td>0</td>\n      <td>15.950563</td>\n      <td>16.382414</td>\n      <td>0</td>\n      <td>0</td>\n      <td>1</td>\n    </tr>\n    <tr>\n      <th>10</th>\n      <td>0.5</td>\n      <td>7</td>\n      <td>0</td>\n      <td>16.044891</td>\n      <td>10.647789</td>\n      <td>0</td>\n      <td>0</td>\n      <td>1</td>\n    </tr>\n    <tr>\n      <th>11</th>\n      <td>0.5</td>\n      <td>7</td>\n      <td>0</td>\n      <td>16.092088</td>\n      <td>8.055102</td>\n      <td>0</td>\n      <td>0</td>\n      <td>1</td>\n    </tr>\n    <tr>\n      <th>12</th>\n      <td>0.5</td>\n      <td>7</td>\n      <td>0</td>\n      <td>16.139335</td>\n      <td>5.810031</td>\n      <td>0</td>\n      <td>0</td>\n      <td>1</td>\n    </tr>\n    <tr>\n      <th>13</th>\n      <td>0.5</td>\n      <td>7</td>\n      <td>0</td>\n      <td>16.162973</td>\n      <td>4.831961</td>\n      <td>0</td>\n      <td>0</td>\n      <td>1</td>\n    </tr>\n    <tr>\n      <th>14</th>\n      <td>0.5</td>\n      <td>7</td>\n      <td>0</td>\n      <td>16.186616</td>\n      <td>3.953727</td>\n      <td>0</td>\n      <td>0</td>\n      <td>1</td>\n    </tr>\n    <tr>\n      <th>15</th>\n      <td>0.5</td>\n      <td>7</td>\n      <td>0</td>\n      <td>16.210242</td>\n      <td>3.187508</td>\n      <td>0</td>\n      <td>0</td>\n      <td>1</td>\n    </tr>\n    <tr>\n      <th>16</th>\n      <td>0.5</td>\n      <td>7</td>\n      <td>0</td>\n      <td>16.233862</td>\n      <td>2.531867</td>\n      <td>0</td>\n      <td>0</td>\n      <td>1</td>\n    </tr>\n    <tr>\n      <th>17</th>\n      <td>0.5</td>\n      <td>7</td>\n      <td>0</td>\n      <td>16.257500</td>\n      <td>1.981180</td>\n      <td>0</td>\n      <td>0</td>\n      <td>1</td>\n    </tr>\n    <tr>\n      <th>18</th>\n      <td>0.5</td>\n      <td>7</td>\n      <td>0</td>\n      <td>16.281152</td>\n      <td>1.520602</td>\n      <td>0</td>\n      <td>0</td>\n      <td>1</td>\n    </tr>\n    <tr>\n      <th>19</th>\n      <td>0.5</td>\n      <td>7</td>\n      <td>0</td>\n      <td>16.304811</td>\n      <td>1.131445</td>\n      <td>0</td>\n      <td>0</td>\n      <td>1</td>\n    </tr>\n    <tr>\n      <th>20</th>\n      <td>0.5</td>\n      <td>7</td>\n      <td>0</td>\n      <td>16.328474</td>\n      <td>0.795836</td>\n      <td>0</td>\n      <td>0</td>\n      <td>1</td>\n    </tr>\n    <tr>\n      <th>21</th>\n      <td>0.5</td>\n      <td>7</td>\n      <td>0</td>\n      <td>16.352141</td>\n      <td>0.493000</td>\n      <td>0</td>\n      <td>0</td>\n      <td>1</td>\n    </tr>\n    <tr>\n      <th>22</th>\n      <td>0.5</td>\n      <td>7</td>\n      <td>0</td>\n      <td>16.375818</td>\n      <td>0.218344</td>\n      <td>0</td>\n      <td>0</td>\n      <td>1</td>\n    </tr>\n    <tr>\n      <th>23</th>\n      <td>0.5</td>\n      <td>7</td>\n      <td>0</td>\n      <td>16.399508</td>\n      <td>-0.031602</td>\n      <td>0</td>\n      <td>1</td>\n      <td>0</td>\n    </tr>\n    <tr>\n      <th>24</th>\n      <td>0.5</td>\n      <td>7</td>\n      <td>0</td>\n      <td>16.494317</td>\n      <td>-0.695039</td>\n      <td>0</td>\n      <td>1</td>\n      <td>0</td>\n    </tr>\n    <tr>\n      <th>25</th>\n      <td>0.5</td>\n      <td>7</td>\n      <td>0</td>\n      <td>16.589193</td>\n      <td>-0.821437</td>\n      <td>0</td>\n      <td>1</td>\n      <td>0</td>\n    </tr>\n    <tr>\n      <th>26</th>\n      <td>0.5</td>\n      <td>7</td>\n      <td>0</td>\n      <td>16.874395</td>\n      <td>0.067773</td>\n      <td>0</td>\n      <td>1</td>\n      <td>0</td>\n    </tr>\n    <tr>\n      <th>27</th>\n      <td>0.5</td>\n      <td>7</td>\n      <td>0</td>\n      <td>17.041217</td>\n      <td>0.052289</td>\n      <td>0</td>\n      <td>1</td>\n      <td>0</td>\n    </tr>\n    <tr>\n      <th>28</th>\n      <td>0.5</td>\n      <td>7</td>\n      <td>0</td>\n      <td>17.184435</td>\n      <td>0.158773</td>\n      <td>0</td>\n      <td>1</td>\n      <td>0</td>\n    </tr>\n    <tr>\n      <th>29</th>\n      <td>0.5</td>\n      <td>7</td>\n      <td>0</td>\n      <td>17.471491</td>\n      <td>-0.020711</td>\n      <td>0</td>\n      <td>1</td>\n      <td>0</td>\n    </tr>\n  </tbody>\n</table>\n</div>"
     },
     "execution_count": 6,
     "metadata": {},
     "output_type": "execute_result"
    }
   ],
   "source": [
    "dataset.head(30)"
   ],
   "metadata": {
    "collapsed": false,
    "ExecuteTime": {
     "end_time": "2024-08-02T00:57:13.712552500Z",
     "start_time": "2024-08-02T00:57:13.409090500Z"
    }
   }
  },
  {
   "cell_type": "code",
   "execution_count": 7,
   "metadata": {
    "ExecuteTime": {
     "end_time": "2024-08-02T00:57:16.208357300Z",
     "start_time": "2024-08-02T00:57:16.034508300Z"
    }
   },
   "outputs": [
    {
     "name": "stdout",
     "output_type": "stream",
     "text": [
      "(43288, 7) (43288,)\n"
     ]
    }
   ],
   "source": [
    "y = dataset['Pressure']\n",
    "X = dataset.drop(['Pressure'], axis=1)\n",
    "print(X.shape, y.shape)"
   ]
  },
  {
   "cell_type": "code",
   "execution_count": 8,
   "metadata": {
    "ExecuteTime": {
     "end_time": "2024-08-02T00:57:17.431171800Z",
     "start_time": "2024-08-02T00:57:17.352879400Z"
    }
   },
   "outputs": [],
   "source": [
    "# convert to numpy array\n",
    "X = np.array(X)\n",
    "y = np.array(y)"
   ]
  },
  {
   "cell_type": "markdown",
   "metadata": {
    "colab_type": "text",
    "id": "VC6omXel_Up0"
   },
   "source": [
    "### Splitting the dataset into the Training set and Test set"
   ]
  },
  {
   "cell_type": "code",
   "execution_count": 9,
   "metadata": {
    "colab": {},
    "colab_type": "code",
    "id": "L5edeb2r_agx",
    "ExecuteTime": {
     "end_time": "2024-08-02T00:57:23.650260900Z",
     "start_time": "2024-08-02T00:57:20.128077900Z"
    }
   },
   "outputs": [],
   "source": [
    "from sklearn.model_selection import train_test_split\n",
    "X_train, X_test, y_train, y_test = train_test_split(X,\n",
    "                                                    y,\n",
    "                                                    test_size = 0.4,\n",
    "                                                    random_state = 0)"
   ]
  },
  {
   "cell_type": "code",
   "execution_count": 10,
   "metadata": {
    "colab": {},
    "colab_type": "code",
    "id": "L5edeb2r_agx",
    "ExecuteTime": {
     "end_time": "2024-08-02T00:57:25.337720400Z",
     "start_time": "2024-08-02T00:57:25.191969900Z"
    }
   },
   "outputs": [],
   "source": [
    "X_val, X_test, y_val, y_test = train_test_split(X_test,\n",
    "                                                y_test,\n",
    "                                                test_size = 0.5,\n",
    "                                                random_state = 0)"
   ]
  },
  {
   "cell_type": "code",
   "execution_count": 11,
   "outputs": [
    {
     "name": "stdout",
     "output_type": "stream",
     "text": [
      "[45. 45. 15. ... 30. 45. 30.]\n"
     ]
    }
   ],
   "source": [
    "print (X_train[:,2])"
   ],
   "metadata": {
    "collapsed": false,
    "ExecuteTime": {
     "end_time": "2024-08-02T00:57:26.783682Z",
     "start_time": "2024-08-02T00:57:26.681231100Z"
    }
   }
  },
  {
   "cell_type": "markdown",
   "source": [
    "## Feature scaling"
   ],
   "metadata": {
    "collapsed": false
   }
  },
  {
   "cell_type": "code",
   "execution_count": 12,
   "outputs": [
    {
     "name": "stdout",
     "output_type": "stream",
     "text": [
      "[[ 0.23877855 -1.42165282  1.29671652 ...  0.          0.\n",
      "   1.        ]\n",
      " [-0.53751982  0.39543217  1.29671652 ...  1.          0.\n",
      "   0.        ]\n",
      " [ 0.23877855  0.39543217 -0.53791449 ...  0.          0.\n",
      "   1.        ]\n",
      " ...\n",
      " [-1.70196738  0.39543217  0.37940102 ...  0.          0.\n",
      "   1.        ]\n",
      " [ 1.40322611  1.30397467  1.29671652 ...  0.          0.\n",
      "   1.        ]\n",
      " [-0.73159441 -1.42165282  0.37940102 ...  0.          0.\n",
      "   1.        ]]\n"
     ]
    }
   ],
   "source": [
    "from sklearn.preprocessing import StandardScaler\n",
    "sc = StandardScaler()\n",
    "X_train[:,0:4] = sc.fit_transform(X_train[:, 0:4])\n",
    "print (X_train)"
   ],
   "metadata": {
    "collapsed": false,
    "ExecuteTime": {
     "end_time": "2024-08-02T00:57:30.618676500Z",
     "start_time": "2024-08-02T00:57:30.525234500Z"
    }
   }
  },
  {
   "cell_type": "code",
   "execution_count": 13,
   "outputs": [
    {
     "name": "stdout",
     "output_type": "stream",
     "text": [
      "[[-0.73159441 -1.42165282  0.37940102 ...  1.          0.\n",
      "   0.        ]\n",
      " [-0.14937063  1.30397467 -0.53791449 ...  0.          0.\n",
      "   1.        ]\n",
      " [ 0.23877855 -1.42165282 -1.45523    ...  0.          0.\n",
      "   1.        ]\n",
      " ...\n",
      " [-0.73159441 -0.51311032  1.29671652 ...  1.          0.\n",
      "   0.        ]\n",
      " [ 0.23877855  1.30397467 -0.53791449 ...  0.          0.\n",
      "   1.        ]\n",
      " [-1.89604197 -1.42165282 -1.45523    ...  0.          1.\n",
      "   0.        ]]\n"
     ]
    }
   ],
   "source": [
    "X_test[:,0:4] = sc.transform(X_test[:,0:4])\n",
    "print (X_test)"
   ],
   "metadata": {
    "collapsed": false,
    "ExecuteTime": {
     "end_time": "2024-08-02T00:57:33.023620600Z",
     "start_time": "2024-08-02T00:57:32.944696900Z"
    }
   }
  },
  {
   "cell_type": "code",
   "execution_count": 14,
   "outputs": [
    {
     "name": "stdout",
     "output_type": "stream",
     "text": [
      "[[ 0.04470396  0.39543217 -1.45523    ...  0.          0.\n",
      "   1.        ]\n",
      " [ 0.62692774  0.39543217  1.29671652 ...  0.          0.\n",
      "   1.        ]\n",
      " [ 0.82100233 -1.42165282  0.37940102 ...  0.          0.\n",
      "   1.        ]\n",
      " ...\n",
      " [-0.92566901 -0.51311032 -1.45523    ...  0.          0.\n",
      "   1.        ]\n",
      " [ 0.62692774 -1.42165282  0.37940102 ...  0.          0.\n",
      "   1.        ]\n",
      " [ 1.20915152  1.30397467 -0.53791449 ...  0.          0.\n",
      "   1.        ]]\n"
     ]
    }
   ],
   "source": [
    "X_val[:,0:4] = sc.transform(X_val[:,0:4])\n",
    "print (X_val)"
   ],
   "metadata": {
    "collapsed": false,
    "ExecuteTime": {
     "end_time": "2024-08-02T00:57:34.676365100Z",
     "start_time": "2024-08-02T00:57:34.613074600Z"
    }
   }
  },
  {
   "cell_type": "code",
   "execution_count": 15,
   "outputs": [
    {
     "name": "stdout",
     "output_type": "stream",
     "text": [
      "[ 1.29671652  1.29671652 -0.53791449 ...  0.37940102  1.29671652\n",
      "  0.37940102]\n"
     ]
    }
   ],
   "source": [
    "print (X_train[:,2])"
   ],
   "metadata": {
    "collapsed": false,
    "ExecuteTime": {
     "end_time": "2024-08-02T00:57:46.501228900Z",
     "start_time": "2024-08-02T00:57:46.342996900Z"
    }
   }
  },
  {
   "cell_type": "code",
   "execution_count": 16,
   "outputs": [
    {
     "name": "stdout",
     "output_type": "stream",
     "text": [
      "X_train 25972\n",
      "X_test 8658\n",
      "X_val 8658\n"
     ]
    }
   ],
   "source": [
    "print (\"X_train\", len(X_train))\n",
    "print (\"X_test\", len(X_test))\n",
    "print (\"X_val\", len(X_val))"
   ],
   "metadata": {
    "collapsed": false,
    "ExecuteTime": {
     "end_time": "2024-08-02T00:57:48.883869600Z",
     "start_time": "2024-08-02T00:57:48.744249Z"
    }
   }
  },
  {
   "cell_type": "markdown",
   "metadata": {
    "colab_type": "text",
    "id": "_mSLlAT9_eyI"
   },
   "source": [
    "## Part 3 - Building the ANN"
   ]
  },
  {
   "cell_type": "markdown",
   "metadata": {
    "colab_type": "text",
    "id": "CsBULd_f_wLY"
   },
   "source": [
    "### Initializing the ANN"
   ]
  },
  {
   "cell_type": "code",
   "execution_count": 17,
   "metadata": {
    "colab": {},
    "colab_type": "code",
    "id": "J6Hd97Ls__Nz",
    "ExecuteTime": {
     "end_time": "2024-08-02T00:57:52.416164Z",
     "start_time": "2024-08-02T00:57:52.259892200Z"
    }
   },
   "outputs": [],
   "source": [
    "ann = tf.keras.models.Sequential()"
   ]
  },
  {
   "cell_type": "markdown",
   "metadata": {
    "colab_type": "text",
    "id": "iitAFJS_ABUn"
   },
   "source": [
    "### Adding the input layer and the first hidden layer"
   ]
  },
  {
   "cell_type": "code",
   "execution_count": 18,
   "metadata": {
    "colab": {},
    "colab_type": "code",
    "id": "ksO_Vv40AHix",
    "ExecuteTime": {
     "end_time": "2024-08-02T00:57:54.351943900Z",
     "start_time": "2024-08-02T00:57:54.256996500Z"
    }
   },
   "outputs": [],
   "source": [
    "ann.add(tf.keras.layers.Dense(units=150,\n",
    "                              input_shape=(X_train.shape[1],),\n",
    "                              activation='relu'))"
   ]
  },
  {
   "cell_type": "markdown",
   "metadata": {
    "colab_type": "text",
    "id": "-lb4kK_wAKbs"
   },
   "source": [
    "### Adding the second hidden layer"
   ]
  },
  {
   "cell_type": "code",
   "execution_count": 19,
   "metadata": {
    "colab": {},
    "colab_type": "code",
    "id": "c2357OqEAQOQ",
    "tags": [],
    "ExecuteTime": {
     "end_time": "2024-08-02T00:57:56.181482100Z",
     "start_time": "2024-08-02T00:57:56.025382200Z"
    }
   },
   "outputs": [],
   "source": [
    "ann.add(tf.keras.layers.Dense(units=125,\n",
    "                              activation='relu'))"
   ]
  },
  {
   "cell_type": "markdown",
   "metadata": {
    "colab_type": "text",
    "id": "-lb4kK_wAKbs"
   },
   "source": [
    "### Adding the third hidden layer"
   ]
  },
  {
   "cell_type": "code",
   "execution_count": 20,
   "metadata": {
    "colab": {},
    "colab_type": "code",
    "id": "c2357OqEAQOQ",
    "tags": [],
    "ExecuteTime": {
     "end_time": "2024-08-02T00:57:57.848293400Z",
     "start_time": "2024-08-02T00:57:57.681548600Z"
    }
   },
   "outputs": [],
   "source": [
    "ann.add(tf.keras.layers.Dense(units=100,\n",
    "                              activation='relu'))"
   ]
  },
  {
   "cell_type": "markdown",
   "metadata": {
    "colab_type": "text",
    "id": "jwMOmKb3AdBY"
   },
   "source": [
    "### Adding the output layer"
   ]
  },
  {
   "cell_type": "code",
   "execution_count": 21,
   "metadata": {
    "colab": {},
    "colab_type": "code",
    "id": "YFATpzsUAkLL",
    "ExecuteTime": {
     "end_time": "2024-08-02T00:57:59.478467200Z",
     "start_time": "2024-08-02T00:57:59.353390200Z"
    }
   },
   "outputs": [],
   "source": [
    "ann.add(tf.keras.layers.Dense(units=1,\n",
    "                              activation='linear'))"
   ]
  },
  {
   "cell_type": "markdown",
   "metadata": {},
   "source": [
    "### what model looks like"
   ]
  },
  {
   "cell_type": "code",
   "execution_count": 22,
   "metadata": {
    "ExecuteTime": {
     "end_time": "2024-08-02T00:58:01.494298700Z",
     "start_time": "2024-08-02T00:58:01.275273500Z"
    }
   },
   "outputs": [
    {
     "name": "stdout",
     "output_type": "stream",
     "text": [
      "Model: \"sequential\"\n",
      "_________________________________________________________________\n",
      " Layer (type)                Output Shape              Param #   \n",
      "=================================================================\n",
      " dense (Dense)               (None, 150)               1200      \n",
      "                                                                 \n",
      " dense_1 (Dense)             (None, 125)               18875     \n",
      "                                                                 \n",
      " dense_2 (Dense)             (None, 100)               12600     \n",
      "                                                                 \n",
      " dense_3 (Dense)             (None, 1)                 101       \n",
      "                                                                 \n",
      "=================================================================\n",
      "Total params: 32,776\n",
      "Trainable params: 32,776\n",
      "Non-trainable params: 0\n",
      "_________________________________________________________________\n"
     ]
    }
   ],
   "source": [
    "ann.summary()"
   ]
  },
  {
   "cell_type": "markdown",
   "metadata": {
    "colab_type": "text",
    "id": "fq7e4fF6A1yy"
   },
   "source": [
    "## Part 4 - Training the ANN"
   ]
  },
  {
   "cell_type": "markdown",
   "metadata": {
    "colab_type": "text",
    "id": "qDeylAs2An25"
   },
   "source": [
    "### Compiling the ANN"
   ]
  },
  {
   "cell_type": "code",
   "execution_count": 23,
   "metadata": {
    "colab": {},
    "colab_type": "code",
    "id": "pesgbWlCAtB4",
    "ExecuteTime": {
     "end_time": "2024-08-02T00:58:03.962870900Z",
     "start_time": "2024-08-02T00:58:03.864386300Z"
    }
   },
   "outputs": [],
   "source": [
    "# from tensorflow.keras.optimizers import Adam\n",
    "from keras.optimizers import Adam\n",
    "opt = Adam(learning_rate=0.001)\n",
    "ann.compile(optimizer = opt,\n",
    "            loss = 'mean_squared_error',\n",
    "            metrics = ['mae'])"
   ]
  },
  {
   "cell_type": "markdown",
   "metadata": {},
   "source": [
    "### early stopping callback"
   ]
  },
  {
   "cell_type": "code",
   "execution_count": 24,
   "metadata": {
    "ExecuteTime": {
     "end_time": "2024-08-02T00:58:05.664370300Z",
     "start_time": "2024-08-02T00:58:05.601032300Z"
    }
   },
   "outputs": [],
   "source": [
    "# protects from unnecessary further training of the model if a particular metric does not continue to improve over a number of n epochs. In such a case, the model training would be automatically aborted.\n",
    "from keras.callbacks import EarlyStopping\n",
    "es = EarlyStopping(monitor='val_loss',\n",
    "                   mode='min',\n",
    "                   patience=50,\n",
    "                   restore_best_weights = True)"
   ]
  },
  {
   "cell_type": "markdown",
   "metadata": {
    "colab_type": "text",
    "id": "YjVuiybYOo7r"
   },
   "source": [
    "### Training the ANN model on the Training set"
   ]
  },
  {
   "cell_type": "code",
   "execution_count": 25,
   "metadata": {
    "colab": {
     "base_uri": "https://localhost:8080/",
     "height": 1000
    },
    "colab_type": "code",
    "id": "c_vV-tiiA5zn",
    "outputId": "4a2b6ee6-ed75-4698-9069-b250e613803f",
    "ExecuteTime": {
     "end_time": "2024-08-02T01:18:16.257074200Z",
     "start_time": "2024-08-02T00:58:15.619515500Z"
    }
   },
   "outputs": [
    {
     "name": "stdout",
     "output_type": "stream",
     "text": [
      "Epoch 1/500\n",
      "650/650 [==============================] - 4s 5ms/step - loss: 569.4946 - mae: 10.5878 - val_loss: 478.2792 - val_mae: 10.2518\n",
      "Epoch 2/500\n",
      "650/650 [==============================] - 3s 4ms/step - loss: 204.9836 - mae: 5.6458 - val_loss: 229.9644 - val_mae: 5.7898\n",
      "Epoch 3/500\n",
      "650/650 [==============================] - 3s 4ms/step - loss: 131.4555 - mae: 4.3998 - val_loss: 75.2100 - val_mae: 3.7924\n",
      "Epoch 4/500\n",
      "650/650 [==============================] - 3s 4ms/step - loss: 91.2609 - mae: 3.8184 - val_loss: 130.2883 - val_mae: 4.3469\n",
      "Epoch 5/500\n",
      "650/650 [==============================] - 3s 4ms/step - loss: 65.9204 - mae: 3.2473 - val_loss: 34.9664 - val_mae: 2.9169\n",
      "Epoch 6/500\n",
      "650/650 [==============================] - 3s 4ms/step - loss: 94.2613 - mae: 3.8955 - val_loss: 26.3602 - val_mae: 2.4408\n",
      "Epoch 7/500\n",
      "650/650 [==============================] - 3s 5ms/step - loss: 82.8303 - mae: 3.4797 - val_loss: 39.3781 - val_mae: 2.8909\n",
      "Epoch 8/500\n",
      "650/650 [==============================] - 3s 5ms/step - loss: 49.6055 - mae: 2.7731 - val_loss: 61.7766 - val_mae: 3.2617\n",
      "Epoch 9/500\n",
      "650/650 [==============================] - 4s 6ms/step - loss: 49.2502 - mae: 2.8608 - val_loss: 24.9095 - val_mae: 2.2674\n",
      "Epoch 10/500\n",
      "650/650 [==============================] - 8s 12ms/step - loss: 36.8682 - mae: 2.4872 - val_loss: 75.0374 - val_mae: 3.2715\n",
      "Epoch 11/500\n",
      "650/650 [==============================] - 8s 12ms/step - loss: 49.8794 - mae: 2.7395 - val_loss: 35.2569 - val_mae: 2.7236\n",
      "Epoch 12/500\n",
      "650/650 [==============================] - 3s 5ms/step - loss: 58.1671 - mae: 2.8865 - val_loss: 21.1863 - val_mae: 2.1073\n",
      "Epoch 13/500\n",
      "650/650 [==============================] - 3s 4ms/step - loss: 66.4055 - mae: 3.0982 - val_loss: 21.0488 - val_mae: 1.9364\n",
      "Epoch 14/500\n",
      "650/650 [==============================] - 3s 4ms/step - loss: 39.6915 - mae: 2.4273 - val_loss: 12.8326 - val_mae: 1.6701\n",
      "Epoch 15/500\n",
      "650/650 [==============================] - 4s 7ms/step - loss: 46.5697 - mae: 2.4306 - val_loss: 483.9346 - val_mae: 9.2724\n",
      "Epoch 16/500\n",
      "650/650 [==============================] - 3s 5ms/step - loss: 67.7622 - mae: 3.1818 - val_loss: 15.4201 - val_mae: 1.8066\n",
      "Epoch 17/500\n",
      "650/650 [==============================] - 4s 7ms/step - loss: 29.1447 - mae: 2.0709 - val_loss: 16.6786 - val_mae: 1.9237\n",
      "Epoch 18/500\n",
      "650/650 [==============================] - 4s 6ms/step - loss: 61.8881 - mae: 2.8530 - val_loss: 143.7115 - val_mae: 7.7741\n",
      "Epoch 19/500\n",
      "650/650 [==============================] - 3s 5ms/step - loss: 76.2953 - mae: 3.2544 - val_loss: 54.5165 - val_mae: 2.8350\n",
      "Epoch 20/500\n",
      "650/650 [==============================] - 11s 17ms/step - loss: 24.4065 - mae: 1.9660 - val_loss: 9.9793 - val_mae: 1.6943\n",
      "Epoch 21/500\n",
      "650/650 [==============================] - 11s 16ms/step - loss: 35.9855 - mae: 2.2442 - val_loss: 12.1854 - val_mae: 1.6872\n",
      "Epoch 22/500\n",
      "650/650 [==============================] - 11s 17ms/step - loss: 29.7574 - mae: 1.9552 - val_loss: 6.0575 - val_mae: 1.1057\n",
      "Epoch 23/500\n",
      "650/650 [==============================] - 3s 4ms/step - loss: 35.2506 - mae: 2.2687 - val_loss: 17.3280 - val_mae: 1.6423\n",
      "Epoch 24/500\n",
      "650/650 [==============================] - 3s 4ms/step - loss: 26.7227 - mae: 2.0208 - val_loss: 7.0179 - val_mae: 1.3144\n",
      "Epoch 25/500\n",
      "650/650 [==============================] - 3s 4ms/step - loss: 36.2517 - mae: 2.1925 - val_loss: 6.5516 - val_mae: 1.2253\n",
      "Epoch 26/500\n",
      "650/650 [==============================] - 3s 5ms/step - loss: 32.3394 - mae: 2.0683 - val_loss: 6.7667 - val_mae: 1.2535\n",
      "Epoch 27/500\n",
      "650/650 [==============================] - 3s 5ms/step - loss: 42.1699 - mae: 2.1968 - val_loss: 8.7175 - val_mae: 1.2952\n",
      "Epoch 28/500\n",
      "650/650 [==============================] - 3s 5ms/step - loss: 68.2049 - mae: 2.7494 - val_loss: 13.4603 - val_mae: 1.5429\n",
      "Epoch 29/500\n",
      "650/650 [==============================] - 3s 5ms/step - loss: 25.0557 - mae: 1.8524 - val_loss: 16.9287 - val_mae: 1.7609\n",
      "Epoch 30/500\n",
      "650/650 [==============================] - 10s 15ms/step - loss: 24.1452 - mae: 1.7692 - val_loss: 16.5529 - val_mae: 1.6042\n",
      "Epoch 31/500\n",
      "650/650 [==============================] - 6s 10ms/step - loss: 26.8195 - mae: 1.9578 - val_loss: 42.5943 - val_mae: 2.9053\n",
      "Epoch 32/500\n",
      "650/650 [==============================] - 3s 5ms/step - loss: 67.9731 - mae: 2.8498 - val_loss: 7.9497 - val_mae: 1.3075\n",
      "Epoch 33/500\n",
      "650/650 [==============================] - 7s 11ms/step - loss: 23.3166 - mae: 1.7206 - val_loss: 23.0675 - val_mae: 1.7274\n",
      "Epoch 34/500\n",
      "650/650 [==============================] - 4s 6ms/step - loss: 26.8749 - mae: 1.8256 - val_loss: 21.3531 - val_mae: 1.9345\n",
      "Epoch 35/500\n",
      "650/650 [==============================] - 3s 5ms/step - loss: 41.0786 - mae: 2.2352 - val_loss: 14.0123 - val_mae: 1.9643\n",
      "Epoch 36/500\n",
      "650/650 [==============================] - 3s 5ms/step - loss: 43.7110 - mae: 2.1133 - val_loss: 121.8702 - val_mae: 3.8761\n",
      "Epoch 37/500\n",
      "650/650 [==============================] - 3s 5ms/step - loss: 30.9436 - mae: 1.9960 - val_loss: 5.9878 - val_mae: 1.1650\n",
      "Epoch 38/500\n",
      "650/650 [==============================] - 3s 5ms/step - loss: 19.4693 - mae: 1.5976 - val_loss: 34.3043 - val_mae: 3.0861\n",
      "Epoch 39/500\n",
      "650/650 [==============================] - 3s 5ms/step - loss: 28.8305 - mae: 1.9352 - val_loss: 15.8878 - val_mae: 1.7632\n",
      "Epoch 40/500\n",
      "650/650 [==============================] - 3s 5ms/step - loss: 29.6224 - mae: 2.0006 - val_loss: 322.2381 - val_mae: 5.5478\n",
      "Epoch 41/500\n",
      "650/650 [==============================] - 4s 5ms/step - loss: 47.9655 - mae: 2.4380 - val_loss: 15.3928 - val_mae: 1.6330\n",
      "Epoch 42/500\n",
      "650/650 [==============================] - 4s 5ms/step - loss: 24.3357 - mae: 1.7843 - val_loss: 3.2120 - val_mae: 0.9258\n",
      "Epoch 43/500\n",
      "650/650 [==============================] - 4s 6ms/step - loss: 17.0628 - mae: 1.5040 - val_loss: 3.1177 - val_mae: 0.9302\n",
      "Epoch 44/500\n",
      "650/650 [==============================] - 11s 17ms/step - loss: 23.8638 - mae: 1.7564 - val_loss: 59.4499 - val_mae: 3.0849\n",
      "Epoch 45/500\n",
      "650/650 [==============================] - 4s 6ms/step - loss: 79.2844 - mae: 2.8539 - val_loss: 33.1840 - val_mae: 2.9650\n",
      "Epoch 46/500\n",
      "650/650 [==============================] - 3s 5ms/step - loss: 25.8218 - mae: 2.1434 - val_loss: 11.8224 - val_mae: 1.7528\n",
      "Epoch 47/500\n",
      "650/650 [==============================] - 3s 5ms/step - loss: 29.0731 - mae: 2.0389 - val_loss: 6.1870 - val_mae: 1.3320\n",
      "Epoch 48/500\n",
      "650/650 [==============================] - 3s 5ms/step - loss: 28.9236 - mae: 1.8882 - val_loss: 6.0761 - val_mae: 1.2576\n",
      "Epoch 49/500\n",
      "650/650 [==============================] - 3s 5ms/step - loss: 35.3747 - mae: 1.9124 - val_loss: 90.5300 - val_mae: 3.9325\n",
      "Epoch 50/500\n",
      "650/650 [==============================] - 3s 5ms/step - loss: 22.9367 - mae: 1.7459 - val_loss: 20.6062 - val_mae: 1.6377\n",
      "Epoch 51/500\n",
      "650/650 [==============================] - 3s 5ms/step - loss: 29.8264 - mae: 1.8674 - val_loss: 2.7141 - val_mae: 0.9174\n",
      "Epoch 52/500\n",
      "650/650 [==============================] - 3s 5ms/step - loss: 19.2577 - mae: 1.5743 - val_loss: 30.1171 - val_mae: 2.4478\n",
      "Epoch 53/500\n",
      "650/650 [==============================] - 3s 5ms/step - loss: 33.9948 - mae: 1.9599 - val_loss: 24.1236 - val_mae: 2.0499\n",
      "Epoch 54/500\n",
      "650/650 [==============================] - 10s 16ms/step - loss: 9.0697 - mae: 1.2013 - val_loss: 12.8417 - val_mae: 1.3569\n",
      "Epoch 55/500\n",
      "650/650 [==============================] - 12s 19ms/step - loss: 17.2966 - mae: 1.5390 - val_loss: 4.9526 - val_mae: 1.0870\n",
      "Epoch 56/500\n",
      "650/650 [==============================] - 4s 6ms/step - loss: 43.5250 - mae: 2.1694 - val_loss: 18.8688 - val_mae: 2.0894\n",
      "Epoch 57/500\n",
      "650/650 [==============================] - 3s 4ms/step - loss: 23.6522 - mae: 1.7842 - val_loss: 134.1936 - val_mae: 3.2519\n",
      "Epoch 58/500\n",
      "650/650 [==============================] - 3s 5ms/step - loss: 34.2299 - mae: 2.0291 - val_loss: 18.7528 - val_mae: 1.8693\n",
      "Epoch 59/500\n",
      "650/650 [==============================] - 3s 4ms/step - loss: 35.6562 - mae: 2.0084 - val_loss: 2.6965 - val_mae: 0.8688\n",
      "Epoch 60/500\n",
      "650/650 [==============================] - 3s 5ms/step - loss: 13.1066 - mae: 1.3742 - val_loss: 3.6993 - val_mae: 1.0507\n",
      "Epoch 61/500\n",
      "650/650 [==============================] - 3s 5ms/step - loss: 56.4893 - mae: 2.3748 - val_loss: 13.1025 - val_mae: 1.5555\n",
      "Epoch 62/500\n",
      "650/650 [==============================] - 3s 4ms/step - loss: 33.0140 - mae: 1.8193 - val_loss: 27.0070 - val_mae: 2.4055\n",
      "Epoch 63/500\n",
      "650/650 [==============================] - 3s 4ms/step - loss: 10.7031 - mae: 1.3051 - val_loss: 22.8041 - val_mae: 1.4881\n",
      "Epoch 64/500\n",
      "650/650 [==============================] - 4s 6ms/step - loss: 30.2280 - mae: 1.8658 - val_loss: 5.7812 - val_mae: 1.2423\n",
      "Epoch 65/500\n",
      "650/650 [==============================] - 4s 5ms/step - loss: 21.9633 - mae: 1.6620 - val_loss: 4.4118 - val_mae: 0.9553\n",
      "Epoch 66/500\n",
      "650/650 [==============================] - 4s 6ms/step - loss: 37.5205 - mae: 1.9578 - val_loss: 3.6732 - val_mae: 0.9046\n",
      "Epoch 67/500\n",
      "650/650 [==============================] - 3s 5ms/step - loss: 19.0010 - mae: 1.4926 - val_loss: 10.8636 - val_mae: 1.4416\n",
      "Epoch 68/500\n",
      "650/650 [==============================] - 3s 5ms/step - loss: 36.4079 - mae: 2.0617 - val_loss: 7.4959 - val_mae: 1.0482\n",
      "Epoch 69/500\n",
      "650/650 [==============================] - 8s 13ms/step - loss: 21.4471 - mae: 1.5563 - val_loss: 55.9111 - val_mae: 3.5533\n",
      "Epoch 70/500\n",
      "650/650 [==============================] - 6s 9ms/step - loss: 18.3730 - mae: 1.6031 - val_loss: 2.9599 - val_mae: 0.8724\n",
      "Epoch 71/500\n",
      "650/650 [==============================] - 4s 6ms/step - loss: 27.8550 - mae: 1.8118 - val_loss: 7.7689 - val_mae: 1.1675\n",
      "Epoch 72/500\n",
      "650/650 [==============================] - 3s 5ms/step - loss: 21.9644 - mae: 1.6035 - val_loss: 3.0228 - val_mae: 0.8780\n",
      "Epoch 73/500\n",
      "650/650 [==============================] - 3s 5ms/step - loss: 16.4743 - mae: 1.4978 - val_loss: 3.0753 - val_mae: 0.8454\n",
      "Epoch 74/500\n",
      "650/650 [==============================] - 3s 5ms/step - loss: 14.9222 - mae: 1.3910 - val_loss: 4.6518 - val_mae: 0.9182\n",
      "Epoch 75/500\n",
      "650/650 [==============================] - 3s 5ms/step - loss: 27.1882 - mae: 1.7263 - val_loss: 68.0718 - val_mae: 2.6188\n",
      "Epoch 76/500\n",
      "650/650 [==============================] - 6s 9ms/step - loss: 30.8494 - mae: 1.8951 - val_loss: 14.5152 - val_mae: 1.8474\n",
      "Epoch 77/500\n",
      "650/650 [==============================] - 5s 8ms/step - loss: 17.5448 - mae: 1.4337 - val_loss: 3.9848 - val_mae: 0.9993\n",
      "Epoch 78/500\n",
      "650/650 [==============================] - 4s 6ms/step - loss: 51.0045 - mae: 2.2013 - val_loss: 12.7889 - val_mae: 1.8788\n",
      "Epoch 79/500\n",
      "650/650 [==============================] - 3s 4ms/step - loss: 9.6139 - mae: 1.2125 - val_loss: 9.5291 - val_mae: 1.5446\n",
      "Epoch 80/500\n",
      "650/650 [==============================] - 3s 4ms/step - loss: 22.6664 - mae: 1.6052 - val_loss: 6.7762 - val_mae: 1.2173\n",
      "Epoch 81/500\n",
      "650/650 [==============================] - 3s 5ms/step - loss: 11.6711 - mae: 1.2167 - val_loss: 6.5965 - val_mae: 1.4904\n",
      "Epoch 82/500\n",
      "650/650 [==============================] - 3s 5ms/step - loss: 46.0356 - mae: 2.2006 - val_loss: 17.4588 - val_mae: 1.4936\n",
      "Epoch 83/500\n",
      "650/650 [==============================] - 3s 5ms/step - loss: 16.4964 - mae: 1.5756 - val_loss: 32.2101 - val_mae: 1.9656\n",
      "Epoch 84/500\n",
      "650/650 [==============================] - 5s 8ms/step - loss: 30.0978 - mae: 1.8090 - val_loss: 86.5186 - val_mae: 4.6678\n",
      "Epoch 85/500\n",
      "650/650 [==============================] - 5s 8ms/step - loss: 25.6170 - mae: 1.7829 - val_loss: 8.1539 - val_mae: 1.3396\n",
      "Epoch 86/500\n",
      "650/650 [==============================] - 5s 7ms/step - loss: 25.5963 - mae: 1.6450 - val_loss: 5.1884 - val_mae: 1.0931\n",
      "Epoch 87/500\n",
      "650/650 [==============================] - 3s 4ms/step - loss: 16.2464 - mae: 1.4547 - val_loss: 6.0888 - val_mae: 1.0437\n",
      "Epoch 88/500\n",
      "650/650 [==============================] - 3s 4ms/step - loss: 41.7543 - mae: 2.1016 - val_loss: 8.4581 - val_mae: 1.4289\n",
      "Epoch 89/500\n",
      "650/650 [==============================] - 5s 8ms/step - loss: 19.3066 - mae: 1.5502 - val_loss: 5.2517 - val_mae: 1.0995\n",
      "Epoch 90/500\n",
      "650/650 [==============================] - 6s 9ms/step - loss: 9.6452 - mae: 1.1649 - val_loss: 3.8791 - val_mae: 0.9644\n",
      "Epoch 91/500\n",
      "650/650 [==============================] - 3s 5ms/step - loss: 34.1572 - mae: 1.9293 - val_loss: 117.0305 - val_mae: 3.4270\n",
      "Epoch 92/500\n",
      "650/650 [==============================] - 3s 4ms/step - loss: 47.5033 - mae: 2.1115 - val_loss: 6.3349 - val_mae: 1.0605\n",
      "Epoch 93/500\n",
      "650/650 [==============================] - 3s 4ms/step - loss: 22.5384 - mae: 1.4649 - val_loss: 48.6233 - val_mae: 2.2588\n",
      "Epoch 94/500\n",
      "650/650 [==============================] - 3s 4ms/step - loss: 18.9539 - mae: 1.4346 - val_loss: 6.3854 - val_mae: 1.1286\n",
      "Epoch 95/500\n",
      "650/650 [==============================] - 3s 5ms/step - loss: 12.4558 - mae: 1.3214 - val_loss: 24.3564 - val_mae: 2.1422\n",
      "Epoch 96/500\n",
      "650/650 [==============================] - 3s 5ms/step - loss: 22.5490 - mae: 1.6156 - val_loss: 3.7349 - val_mae: 0.8536\n",
      "Epoch 97/500\n",
      "650/650 [==============================] - 4s 5ms/step - loss: 26.9363 - mae: 1.7174 - val_loss: 7.4574 - val_mae: 1.1067\n",
      "Epoch 98/500\n",
      "650/650 [==============================] - 3s 5ms/step - loss: 17.4261 - mae: 1.4813 - val_loss: 15.8901 - val_mae: 2.0937\n",
      "Epoch 99/500\n",
      "650/650 [==============================] - 3s 5ms/step - loss: 18.7940 - mae: 1.4173 - val_loss: 13.7498 - val_mae: 1.4019\n",
      "Epoch 100/500\n",
      "650/650 [==============================] - 3s 5ms/step - loss: 36.2069 - mae: 2.0021 - val_loss: 21.8608 - val_mae: 1.7484\n",
      "Epoch 101/500\n",
      "650/650 [==============================] - 3s 5ms/step - loss: 15.8501 - mae: 1.2747 - val_loss: 57.5371 - val_mae: 3.0076\n",
      "Epoch 102/500\n",
      "650/650 [==============================] - 3s 5ms/step - loss: 20.9909 - mae: 1.4223 - val_loss: 3.8948 - val_mae: 0.9356\n",
      "Epoch 103/500\n",
      "650/650 [==============================] - 5s 7ms/step - loss: 6.5937 - mae: 1.0125 - val_loss: 2.3181 - val_mae: 0.7636\n",
      "Epoch 104/500\n",
      "650/650 [==============================] - 5s 8ms/step - loss: 22.6222 - mae: 1.6511 - val_loss: 4.7441 - val_mae: 1.0039\n",
      "Epoch 105/500\n",
      "650/650 [==============================] - 5s 8ms/step - loss: 17.6671 - mae: 1.2854 - val_loss: 13.1204 - val_mae: 1.4228\n",
      "Epoch 106/500\n",
      "650/650 [==============================] - 4s 6ms/step - loss: 7.8024 - mae: 1.1075 - val_loss: 2.0275 - val_mae: 0.7455\n",
      "Epoch 107/500\n",
      "650/650 [==============================] - 5s 7ms/step - loss: 26.0286 - mae: 1.5931 - val_loss: 14.8320 - val_mae: 1.8434\n",
      "Epoch 108/500\n",
      "650/650 [==============================] - 5s 7ms/step - loss: 15.0113 - mae: 1.2867 - val_loss: 2.3598 - val_mae: 0.7035\n",
      "Epoch 109/500\n",
      "650/650 [==============================] - 3s 4ms/step - loss: 14.5043 - mae: 1.3455 - val_loss: 3.1836 - val_mae: 0.8337\n",
      "Epoch 110/500\n",
      "650/650 [==============================] - 3s 4ms/step - loss: 10.7504 - mae: 1.2985 - val_loss: 3.2122 - val_mae: 0.8018\n",
      "Epoch 111/500\n",
      "650/650 [==============================] - 3s 4ms/step - loss: 18.5531 - mae: 1.3253 - val_loss: 1.9224 - val_mae: 0.7674\n",
      "Epoch 112/500\n",
      "650/650 [==============================] - 3s 5ms/step - loss: 11.0346 - mae: 1.1337 - val_loss: 14.1250 - val_mae: 2.1999\n",
      "Epoch 113/500\n",
      "650/650 [==============================] - 3s 5ms/step - loss: 17.8598 - mae: 1.4269 - val_loss: 19.4204 - val_mae: 1.4647\n",
      "Epoch 114/500\n",
      "650/650 [==============================] - 4s 6ms/step - loss: 30.3387 - mae: 1.7364 - val_loss: 2.4702 - val_mae: 0.8127\n",
      "Epoch 115/500\n",
      "650/650 [==============================] - 5s 7ms/step - loss: 8.7825 - mae: 1.0679 - val_loss: 2.1947 - val_mae: 0.7115\n",
      "Epoch 116/500\n",
      "650/650 [==============================] - 5s 8ms/step - loss: 18.0681 - mae: 1.4255 - val_loss: 50.5272 - val_mae: 2.1581\n",
      "Epoch 117/500\n",
      "650/650 [==============================] - 6s 9ms/step - loss: 19.7530 - mae: 1.3691 - val_loss: 11.4844 - val_mae: 1.3713\n",
      "Epoch 118/500\n",
      "650/650 [==============================] - 5s 7ms/step - loss: 11.8548 - mae: 1.2565 - val_loss: 8.3563 - val_mae: 1.1267\n",
      "Epoch 119/500\n",
      "650/650 [==============================] - 3s 4ms/step - loss: 14.6372 - mae: 1.3742 - val_loss: 2.1276 - val_mae: 0.7175\n",
      "Epoch 120/500\n",
      "650/650 [==============================] - 3s 4ms/step - loss: 29.3421 - mae: 1.5624 - val_loss: 2.6389 - val_mae: 0.8116\n",
      "Epoch 121/500\n",
      "650/650 [==============================] - 3s 5ms/step - loss: 16.1660 - mae: 1.2977 - val_loss: 2.8492 - val_mae: 0.7754\n",
      "Epoch 122/500\n",
      "650/650 [==============================] - 3s 5ms/step - loss: 20.7780 - mae: 1.4728 - val_loss: 62.8581 - val_mae: 3.4049\n",
      "Epoch 123/500\n",
      "650/650 [==============================] - 4s 6ms/step - loss: 18.0101 - mae: 1.3629 - val_loss: 267.5974 - val_mae: 4.7881\n",
      "Epoch 124/500\n",
      "650/650 [==============================] - 3s 5ms/step - loss: 12.2522 - mae: 1.2372 - val_loss: 2.6723 - val_mae: 0.7203\n",
      "Epoch 125/500\n",
      "650/650 [==============================] - 3s 5ms/step - loss: 21.5458 - mae: 1.4442 - val_loss: 2.8466 - val_mae: 0.7766\n",
      "Epoch 126/500\n",
      "650/650 [==============================] - 6s 9ms/step - loss: 25.1306 - mae: 1.4960 - val_loss: 4.7112 - val_mae: 0.8988\n",
      "Epoch 127/500\n",
      "650/650 [==============================] - 5s 8ms/step - loss: 12.6195 - mae: 1.2092 - val_loss: 5.5267 - val_mae: 0.9796\n",
      "Epoch 128/500\n",
      "650/650 [==============================] - 5s 8ms/step - loss: 27.6095 - mae: 1.6639 - val_loss: 7.2635 - val_mae: 1.1757\n",
      "Epoch 129/500\n",
      "650/650 [==============================] - 3s 5ms/step - loss: 11.4141 - mae: 1.1250 - val_loss: 2.0849 - val_mae: 0.7549\n",
      "Epoch 130/500\n",
      "650/650 [==============================] - 3s 4ms/step - loss: 14.8012 - mae: 1.2202 - val_loss: 2.8333 - val_mae: 0.7974\n",
      "Epoch 131/500\n",
      "650/650 [==============================] - 3s 4ms/step - loss: 17.0489 - mae: 1.4010 - val_loss: 21.1298 - val_mae: 1.5391\n",
      "Epoch 132/500\n",
      "650/650 [==============================] - 3s 5ms/step - loss: 28.2459 - mae: 1.6355 - val_loss: 4.1682 - val_mae: 0.9512\n",
      "Epoch 133/500\n",
      "650/650 [==============================] - 3s 5ms/step - loss: 10.9106 - mae: 1.1790 - val_loss: 2.5661 - val_mae: 0.7487\n",
      "Epoch 134/500\n",
      "650/650 [==============================] - 3s 5ms/step - loss: 51.8731 - mae: 2.2059 - val_loss: 21.4450 - val_mae: 2.0126\n",
      "Epoch 135/500\n",
      "650/650 [==============================] - 3s 5ms/step - loss: 16.6265 - mae: 1.5661 - val_loss: 21.1573 - val_mae: 2.0085\n",
      "Epoch 136/500\n",
      "650/650 [==============================] - 3s 5ms/step - loss: 17.3215 - mae: 1.4959 - val_loss: 2.9946 - val_mae: 0.9308\n",
      "Epoch 137/500\n",
      "650/650 [==============================] - 3s 5ms/step - loss: 9.7484 - mae: 1.1222 - val_loss: 135.2271 - val_mae: 4.0186\n",
      "Epoch 138/500\n",
      "650/650 [==============================] - 5s 8ms/step - loss: 16.9186 - mae: 1.4085 - val_loss: 3.1389 - val_mae: 0.8243\n",
      "Epoch 139/500\n",
      "650/650 [==============================] - 6s 9ms/step - loss: 10.9965 - mae: 1.2055 - val_loss: 61.9438 - val_mae: 2.2844\n",
      "Epoch 140/500\n",
      "650/650 [==============================] - 5s 8ms/step - loss: 16.7125 - mae: 1.4246 - val_loss: 4.3171 - val_mae: 1.0629\n",
      "Epoch 141/500\n",
      "650/650 [==============================] - 3s 5ms/step - loss: 22.5967 - mae: 1.4458 - val_loss: 3.2899 - val_mae: 0.9484\n",
      "Epoch 142/500\n",
      "650/650 [==============================] - 3s 5ms/step - loss: 12.1704 - mae: 1.2628 - val_loss: 7.9564 - val_mae: 1.2477\n",
      "Epoch 143/500\n",
      "650/650 [==============================] - 3s 5ms/step - loss: 9.1871 - mae: 1.1050 - val_loss: 2.9649 - val_mae: 0.8421\n",
      "Epoch 144/500\n",
      "650/650 [==============================] - 4s 5ms/step - loss: 14.8733 - mae: 1.2344 - val_loss: 12.3867 - val_mae: 1.5922\n",
      "Epoch 145/500\n",
      "650/650 [==============================] - 3s 5ms/step - loss: 14.8974 - mae: 1.3644 - val_loss: 4.8946 - val_mae: 1.0019\n",
      "Epoch 146/500\n",
      "650/650 [==============================] - 3s 5ms/step - loss: 13.8398 - mae: 1.2557 - val_loss: 1.5607 - val_mae: 0.6393\n",
      "Epoch 147/500\n",
      "650/650 [==============================] - 3s 5ms/step - loss: 22.6413 - mae: 1.4287 - val_loss: 6.7134 - val_mae: 0.9522\n",
      "Epoch 148/500\n",
      "650/650 [==============================] - 4s 5ms/step - loss: 9.6245 - mae: 1.1458 - val_loss: 18.4038 - val_mae: 1.6464\n",
      "Epoch 149/500\n",
      "650/650 [==============================] - 4s 5ms/step - loss: 9.3792 - mae: 1.1224 - val_loss: 4.8409 - val_mae: 0.9110\n",
      "Epoch 150/500\n",
      "650/650 [==============================] - 4s 7ms/step - loss: 22.9498 - mae: 1.5546 - val_loss: 2.9097 - val_mae: 0.8626\n",
      "Epoch 151/500\n",
      "650/650 [==============================] - 5s 8ms/step - loss: 16.4482 - mae: 1.4323 - val_loss: 3.5244 - val_mae: 0.8828\n",
      "Epoch 152/500\n",
      "650/650 [==============================] - 5s 8ms/step - loss: 6.0623 - mae: 0.8736 - val_loss: 1.4370 - val_mae: 0.6176\n",
      "Epoch 153/500\n",
      "650/650 [==============================] - 4s 7ms/step - loss: 75.5032 - mae: 2.5068 - val_loss: 11.7642 - val_mae: 2.0931\n",
      "Epoch 154/500\n",
      "650/650 [==============================] - 4s 6ms/step - loss: 11.1284 - mae: 1.3779 - val_loss: 3.4606 - val_mae: 1.0159\n",
      "Epoch 155/500\n",
      "650/650 [==============================] - 3s 4ms/step - loss: 4.3584 - mae: 0.9642 - val_loss: 1.8631 - val_mae: 0.7759\n",
      "Epoch 156/500\n",
      "650/650 [==============================] - 3s 4ms/step - loss: 18.0003 - mae: 1.4344 - val_loss: 7.5840 - val_mae: 1.1233\n",
      "Epoch 157/500\n",
      "650/650 [==============================] - 3s 4ms/step - loss: 20.0399 - mae: 1.4878 - val_loss: 11.7306 - val_mae: 1.4605\n",
      "Epoch 158/500\n",
      "650/650 [==============================] - 3s 4ms/step - loss: 11.9603 - mae: 1.2330 - val_loss: 5.9662 - val_mae: 0.8708\n",
      "Epoch 159/500\n",
      "650/650 [==============================] - 3s 5ms/step - loss: 23.9920 - mae: 1.5128 - val_loss: 1.6674 - val_mae: 0.6610\n",
      "Epoch 160/500\n",
      "650/650 [==============================] - 3s 4ms/step - loss: 22.7435 - mae: 1.4986 - val_loss: 21.1024 - val_mae: 1.4746\n",
      "Epoch 161/500\n",
      "650/650 [==============================] - 3s 4ms/step - loss: 13.7081 - mae: 1.3235 - val_loss: 5.9438 - val_mae: 1.0262\n",
      "Epoch 162/500\n",
      "650/650 [==============================] - 3s 5ms/step - loss: 9.9643 - mae: 1.1171 - val_loss: 5.6369 - val_mae: 1.0645\n",
      "Epoch 163/500\n",
      "650/650 [==============================] - 3s 5ms/step - loss: 23.4588 - mae: 1.6132 - val_loss: 5.0314 - val_mae: 0.9783\n",
      "Epoch 164/500\n",
      "650/650 [==============================] - 4s 7ms/step - loss: 7.5100 - mae: 1.0429 - val_loss: 19.3994 - val_mae: 1.5069\n",
      "Epoch 165/500\n",
      "650/650 [==============================] - 5s 7ms/step - loss: 9.2333 - mae: 1.1298 - val_loss: 14.9195 - val_mae: 1.3857\n",
      "Epoch 166/500\n",
      "650/650 [==============================] - 4s 7ms/step - loss: 20.3060 - mae: 1.4938 - val_loss: 38.4935 - val_mae: 2.9401\n",
      "Epoch 167/500\n",
      "650/650 [==============================] - 4s 7ms/step - loss: 18.0000 - mae: 1.3337 - val_loss: 1.6610 - val_mae: 0.6910\n",
      "Epoch 168/500\n",
      "650/650 [==============================] - 3s 4ms/step - loss: 12.6484 - mae: 1.1202 - val_loss: 22.9847 - val_mae: 1.6270\n",
      "Epoch 169/500\n",
      "650/650 [==============================] - 3s 4ms/step - loss: 17.5420 - mae: 1.3574 - val_loss: 1.7807 - val_mae: 0.6976\n",
      "Epoch 170/500\n",
      "650/650 [==============================] - 3s 4ms/step - loss: 24.3742 - mae: 1.4988 - val_loss: 19.2647 - val_mae: 1.8142\n",
      "Epoch 171/500\n",
      "650/650 [==============================] - 3s 5ms/step - loss: 4.4120 - mae: 0.8452 - val_loss: 1.4676 - val_mae: 0.6091\n",
      "Epoch 172/500\n",
      "650/650 [==============================] - 3s 5ms/step - loss: 9.9549 - mae: 1.0987 - val_loss: 7.2221 - val_mae: 1.0217\n",
      "Epoch 173/500\n",
      "650/650 [==============================] - 3s 5ms/step - loss: 16.5359 - mae: 1.4097 - val_loss: 3.3509 - val_mae: 0.8294\n",
      "Epoch 174/500\n",
      "650/650 [==============================] - 3s 5ms/step - loss: 17.4389 - mae: 1.2836 - val_loss: 6.0447 - val_mae: 0.9606\n",
      "Epoch 175/500\n",
      "650/650 [==============================] - 3s 5ms/step - loss: 7.4641 - mae: 0.9686 - val_loss: 2.2291 - val_mae: 0.7349\n",
      "Epoch 176/500\n",
      "650/650 [==============================] - 3s 5ms/step - loss: 9.1605 - mae: 1.1628 - val_loss: 8.8714 - val_mae: 1.2730\n",
      "Epoch 177/500\n",
      "650/650 [==============================] - 3s 5ms/step - loss: 14.6780 - mae: 1.2673 - val_loss: 2.1795 - val_mae: 0.7198\n",
      "Epoch 178/500\n",
      "650/650 [==============================] - 4s 6ms/step - loss: 19.5039 - mae: 1.3088 - val_loss: 9.4123 - val_mae: 1.4143\n",
      "Epoch 179/500\n",
      "650/650 [==============================] - 3s 5ms/step - loss: 8.7759 - mae: 1.0960 - val_loss: 11.7017 - val_mae: 1.3849\n",
      "Epoch 180/500\n",
      "650/650 [==============================] - 3s 5ms/step - loss: 6.4229 - mae: 0.9979 - val_loss: 15.7786 - val_mae: 1.4004\n",
      "Epoch 181/500\n",
      "650/650 [==============================] - 3s 5ms/step - loss: 13.3030 - mae: 1.2081 - val_loss: 4.1852 - val_mae: 0.8143\n",
      "Epoch 182/500\n",
      "650/650 [==============================] - 3s 5ms/step - loss: 21.0862 - mae: 1.4602 - val_loss: 2.1970 - val_mae: 0.7154\n",
      "Epoch 183/500\n",
      "650/650 [==============================] - 3s 5ms/step - loss: 6.9732 - mae: 0.9055 - val_loss: 1.2893 - val_mae: 0.5704\n",
      "Epoch 184/500\n",
      "650/650 [==============================] - 3s 5ms/step - loss: 20.5130 - mae: 1.3599 - val_loss: 5.8459 - val_mae: 1.1001\n",
      "Epoch 185/500\n",
      "650/650 [==============================] - 3s 5ms/step - loss: 11.2535 - mae: 1.0992 - val_loss: 7.5238 - val_mae: 1.2524\n",
      "Epoch 186/500\n",
      "650/650 [==============================] - 3s 5ms/step - loss: 22.9591 - mae: 1.5559 - val_loss: 1.7304 - val_mae: 0.6532\n",
      "Epoch 187/500\n",
      "650/650 [==============================] - 5s 8ms/step - loss: 8.9260 - mae: 1.0016 - val_loss: 6.1530 - val_mae: 1.0914\n",
      "Epoch 188/500\n",
      "650/650 [==============================] - 6s 9ms/step - loss: 5.6339 - mae: 0.8599 - val_loss: 5.0115 - val_mae: 1.0325\n",
      "Epoch 189/500\n",
      "650/650 [==============================] - 5s 8ms/step - loss: 12.4240 - mae: 1.2740 - val_loss: 3.2601 - val_mae: 0.8459\n",
      "Epoch 190/500\n",
      "650/650 [==============================] - 3s 5ms/step - loss: 9.2351 - mae: 1.1057 - val_loss: 1.2031 - val_mae: 0.6204\n",
      "Epoch 191/500\n",
      "650/650 [==============================] - 3s 4ms/step - loss: 20.2848 - mae: 1.4427 - val_loss: 8.0452 - val_mae: 1.2370\n",
      "Epoch 192/500\n",
      "650/650 [==============================] - 3s 5ms/step - loss: 6.7028 - mae: 0.9840 - val_loss: 1.3407 - val_mae: 0.6160\n",
      "Epoch 193/500\n",
      "650/650 [==============================] - 4s 5ms/step - loss: 11.9701 - mae: 1.1798 - val_loss: 3.1569 - val_mae: 0.8056\n",
      "Epoch 194/500\n",
      "650/650 [==============================] - 4s 6ms/step - loss: 13.6296 - mae: 1.1120 - val_loss: 58.5069 - val_mae: 2.6598\n",
      "Epoch 195/500\n",
      "650/650 [==============================] - 4s 6ms/step - loss: 15.3464 - mae: 1.2610 - val_loss: 1.5006 - val_mae: 0.6036\n",
      "Epoch 196/500\n",
      "650/650 [==============================] - 4s 5ms/step - loss: 8.1499 - mae: 0.9730 - val_loss: 26.0525 - val_mae: 2.0906\n",
      "Epoch 197/500\n",
      "650/650 [==============================] - 4s 5ms/step - loss: 11.4981 - mae: 1.1450 - val_loss: 3.6565 - val_mae: 0.7803\n",
      "Epoch 198/500\n",
      "650/650 [==============================] - 4s 5ms/step - loss: 8.3620 - mae: 1.1122 - val_loss: 6.4415 - val_mae: 1.0959\n",
      "Epoch 199/500\n",
      "650/650 [==============================] - 4s 7ms/step - loss: 22.4767 - mae: 1.3533 - val_loss: 8.1043 - val_mae: 1.0546\n",
      "Epoch 200/500\n",
      "650/650 [==============================] - 4s 6ms/step - loss: 4.7651 - mae: 0.8415 - val_loss: 25.0354 - val_mae: 1.6933\n",
      "Epoch 201/500\n",
      "650/650 [==============================] - 4s 6ms/step - loss: 14.9842 - mae: 1.2235 - val_loss: 73.7596 - val_mae: 3.6402\n",
      "Epoch 202/500\n",
      "650/650 [==============================] - 4s 7ms/step - loss: 12.4990 - mae: 1.2607 - val_loss: 18.1709 - val_mae: 2.3129\n",
      "Epoch 203/500\n",
      "650/650 [==============================] - 4s 6ms/step - loss: 18.8575 - mae: 1.4407 - val_loss: 16.0988 - val_mae: 1.4705\n",
      "Epoch 204/500\n",
      "650/650 [==============================] - 8s 13ms/step - loss: 11.6361 - mae: 1.1838 - val_loss: 5.7768 - val_mae: 1.0924\n",
      "Epoch 205/500\n",
      "650/650 [==============================] - 6s 9ms/step - loss: 4.5158 - mae: 0.8467 - val_loss: 3.0625 - val_mae: 0.8833\n",
      "Epoch 206/500\n",
      "650/650 [==============================] - 3s 5ms/step - loss: 16.7129 - mae: 1.2432 - val_loss: 4.6380 - val_mae: 0.9404\n",
      "Epoch 207/500\n",
      "650/650 [==============================] - 3s 4ms/step - loss: 7.6497 - mae: 0.9684 - val_loss: 57.0225 - val_mae: 3.4950\n",
      "Epoch 208/500\n",
      "650/650 [==============================] - 4s 6ms/step - loss: 19.3244 - mae: 1.2457 - val_loss: 30.6087 - val_mae: 2.4108\n",
      "Epoch 209/500\n",
      "650/650 [==============================] - 3s 5ms/step - loss: 9.4544 - mae: 1.1124 - val_loss: 2.2117 - val_mae: 0.7273\n",
      "Epoch 210/500\n",
      "650/650 [==============================] - 3s 5ms/step - loss: 5.8060 - mae: 0.9153 - val_loss: 1.5859 - val_mae: 0.6290\n",
      "Epoch 211/500\n",
      "650/650 [==============================] - 4s 5ms/step - loss: 12.2512 - mae: 1.1444 - val_loss: 2.3351 - val_mae: 0.7256\n",
      "Epoch 212/500\n",
      "650/650 [==============================] - 4s 7ms/step - loss: 21.1140 - mae: 1.4334 - val_loss: 3.5686 - val_mae: 0.8703\n",
      "Epoch 213/500\n",
      "650/650 [==============================] - 4s 6ms/step - loss: 17.9408 - mae: 1.3655 - val_loss: 18.8127 - val_mae: 1.6188\n",
      "Epoch 214/500\n",
      "650/650 [==============================] - 4s 6ms/step - loss: 5.1919 - mae: 0.8526 - val_loss: 1.1748 - val_mae: 0.5742\n",
      "Epoch 215/500\n",
      "650/650 [==============================] - 4s 6ms/step - loss: 7.3964 - mae: 0.9830 - val_loss: 5.6247 - val_mae: 1.2002\n",
      "Epoch 216/500\n",
      "650/650 [==============================] - 3s 5ms/step - loss: 6.2837 - mae: 0.9139 - val_loss: 2.3745 - val_mae: 0.7919\n",
      "Epoch 217/500\n",
      "650/650 [==============================] - 4s 5ms/step - loss: 14.4888 - mae: 1.2751 - val_loss: 11.0842 - val_mae: 1.2366\n",
      "Epoch 218/500\n",
      "650/650 [==============================] - 3s 5ms/step - loss: 13.5822 - mae: 1.0392 - val_loss: 5.3238 - val_mae: 1.0231\n",
      "Epoch 219/500\n",
      "650/650 [==============================] - 4s 5ms/step - loss: 14.7693 - mae: 1.2780 - val_loss: 4.3022 - val_mae: 0.8664\n",
      "Epoch 220/500\n",
      "650/650 [==============================] - 4s 6ms/step - loss: 10.2611 - mae: 1.0273 - val_loss: 3.9920 - val_mae: 0.8525\n",
      "Epoch 221/500\n",
      "650/650 [==============================] - 4s 5ms/step - loss: 4.6314 - mae: 0.8122 - val_loss: 4.6278 - val_mae: 0.9193\n",
      "Epoch 222/500\n",
      "650/650 [==============================] - 4s 6ms/step - loss: 12.6118 - mae: 1.2526 - val_loss: 2.2558 - val_mae: 0.7443\n",
      "Epoch 223/500\n",
      "650/650 [==============================] - 4s 6ms/step - loss: 18.5345 - mae: 1.3149 - val_loss: 2.1658 - val_mae: 0.6969\n",
      "Epoch 224/500\n",
      "650/650 [==============================] - 4s 5ms/step - loss: 6.0667 - mae: 0.9297 - val_loss: 9.8226 - val_mae: 1.1654\n",
      "Epoch 225/500\n",
      "650/650 [==============================] - 4s 6ms/step - loss: 23.5058 - mae: 1.4763 - val_loss: 5.3143 - val_mae: 0.9661\n",
      "Epoch 226/500\n",
      "650/650 [==============================] - 3s 5ms/step - loss: 6.3818 - mae: 0.9025 - val_loss: 2.2096 - val_mae: 0.7851\n",
      "Epoch 227/500\n",
      "650/650 [==============================] - 4s 5ms/step - loss: 10.4009 - mae: 1.0556 - val_loss: 2.2842 - val_mae: 0.6565\n",
      "Epoch 228/500\n",
      "650/650 [==============================] - 3s 5ms/step - loss: 18.3541 - mae: 1.2207 - val_loss: 1.1873 - val_mae: 0.5364\n",
      "Epoch 229/500\n",
      "650/650 [==============================] - 3s 5ms/step - loss: 13.9502 - mae: 1.1954 - val_loss: 6.2282 - val_mae: 1.0048\n",
      "Epoch 230/500\n",
      "650/650 [==============================] - 3s 5ms/step - loss: 20.8505 - mae: 1.4070 - val_loss: 11.5509 - val_mae: 1.1667\n",
      "Epoch 231/500\n",
      "650/650 [==============================] - 3s 5ms/step - loss: 7.3013 - mae: 0.9581 - val_loss: 3.0678 - val_mae: 0.8336\n",
      "Epoch 232/500\n",
      "650/650 [==============================] - 3s 5ms/step - loss: 5.0548 - mae: 0.8470 - val_loss: 1.4520 - val_mae: 0.6228\n",
      "Epoch 233/500\n",
      "650/650 [==============================] - 4s 5ms/step - loss: 7.2417 - mae: 0.8861 - val_loss: 31.3596 - val_mae: 2.5004\n",
      "Epoch 234/500\n",
      "650/650 [==============================] - 3s 5ms/step - loss: 9.8982 - mae: 1.1212 - val_loss: 1.3801 - val_mae: 0.5752\n",
      "Epoch 235/500\n",
      "650/650 [==============================] - 3s 5ms/step - loss: 17.9855 - mae: 1.3307 - val_loss: 7.4724 - val_mae: 1.1628\n",
      "Epoch 236/500\n",
      "650/650 [==============================] - 4s 6ms/step - loss: 11.2076 - mae: 1.0703 - val_loss: 6.5814 - val_mae: 1.0824\n",
      "Epoch 237/500\n",
      "650/650 [==============================] - 3s 5ms/step - loss: 18.0090 - mae: 1.3078 - val_loss: 1.5950 - val_mae: 0.6194\n",
      "Epoch 238/500\n",
      "650/650 [==============================] - 3s 5ms/step - loss: 3.3908 - mae: 0.7397 - val_loss: 2.4565 - val_mae: 0.7130\n",
      "Epoch 239/500\n",
      "650/650 [==============================] - 3s 5ms/step - loss: 14.4585 - mae: 1.1996 - val_loss: 2.1065 - val_mae: 0.7525\n",
      "Epoch 240/500\n",
      "650/650 [==============================] - 3s 5ms/step - loss: 4.1639 - mae: 0.8120 - val_loss: 6.2361 - val_mae: 1.1881\n",
      "Epoch 241/500\n",
      "650/650 [==============================] - 3s 5ms/step - loss: 9.6186 - mae: 1.0876 - val_loss: 2.2607 - val_mae: 0.7738\n",
      "Epoch 242/500\n",
      "650/650 [==============================] - 3s 5ms/step - loss: 12.6186 - mae: 1.1710 - val_loss: 46.5364 - val_mae: 2.2535\n",
      "Epoch 243/500\n",
      "650/650 [==============================] - 4s 6ms/step - loss: 10.3640 - mae: 1.0279 - val_loss: 3.0819 - val_mae: 0.8353\n",
      "Epoch 244/500\n",
      "650/650 [==============================] - 3s 5ms/step - loss: 5.1337 - mae: 0.8642 - val_loss: 2.1182 - val_mae: 0.7368\n",
      "Epoch 245/500\n",
      "650/650 [==============================] - 3s 5ms/step - loss: 19.8846 - mae: 1.3028 - val_loss: 1.3411 - val_mae: 0.5633\n",
      "Epoch 246/500\n",
      "650/650 [==============================] - 3s 5ms/step - loss: 14.3671 - mae: 1.2616 - val_loss: 3.6189 - val_mae: 0.8670\n",
      "Epoch 247/500\n",
      "650/650 [==============================] - 4s 6ms/step - loss: 7.4542 - mae: 0.9167 - val_loss: 3.7817 - val_mae: 1.0173\n",
      "Epoch 248/500\n",
      "650/650 [==============================] - 3s 5ms/step - loss: 6.9319 - mae: 0.9241 - val_loss: 4.1449 - val_mae: 0.8095\n",
      "Epoch 249/500\n",
      "650/650 [==============================] - 3s 5ms/step - loss: 13.1489 - mae: 1.0314 - val_loss: 1.6053 - val_mae: 0.5910\n",
      "Epoch 250/500\n",
      "650/650 [==============================] - 3s 5ms/step - loss: 10.1965 - mae: 1.0401 - val_loss: 2.3439 - val_mae: 0.5982\n",
      "Epoch 251/500\n",
      "650/650 [==============================] - 3s 5ms/step - loss: 3.7624 - mae: 0.7264 - val_loss: 4.2929 - val_mae: 0.9998\n",
      "Epoch 252/500\n",
      "650/650 [==============================] - 3s 5ms/step - loss: 9.8310 - mae: 1.1716 - val_loss: 1.5932 - val_mae: 0.6495\n",
      "Epoch 253/500\n",
      "650/650 [==============================] - 7s 11ms/step - loss: 12.5575 - mae: 1.1861 - val_loss: 7.0563 - val_mae: 1.3247\n",
      "Epoch 254/500\n",
      "650/650 [==============================] - 8s 13ms/step - loss: 6.0320 - mae: 0.9391 - val_loss: 3.7796 - val_mae: 0.9310\n",
      "Epoch 255/500\n",
      "650/650 [==============================] - 3s 4ms/step - loss: 11.7366 - mae: 1.0144 - val_loss: 3.2559 - val_mae: 0.8273\n",
      "Epoch 256/500\n",
      "650/650 [==============================] - 3s 4ms/step - loss: 7.1722 - mae: 1.0116 - val_loss: 2.7374 - val_mae: 0.7317\n",
      "Epoch 257/500\n",
      "650/650 [==============================] - 3s 5ms/step - loss: 5.8934 - mae: 0.9226 - val_loss: 7.6548 - val_mae: 0.9296\n",
      "Epoch 258/500\n",
      "650/650 [==============================] - 3s 4ms/step - loss: 20.0007 - mae: 1.4470 - val_loss: 4.4916 - val_mae: 0.8891\n",
      "Epoch 259/500\n",
      "650/650 [==============================] - 3s 4ms/step - loss: 4.8851 - mae: 0.8434 - val_loss: 37.9356 - val_mae: 1.9157\n",
      "Epoch 260/500\n",
      "650/650 [==============================] - 3s 5ms/step - loss: 7.3290 - mae: 0.9680 - val_loss: 3.2124 - val_mae: 0.7749\n",
      "Epoch 261/500\n",
      "650/650 [==============================] - 4s 7ms/step - loss: 12.5038 - mae: 1.1004 - val_loss: 6.2336 - val_mae: 1.2163\n",
      "Epoch 262/500\n",
      "650/650 [==============================] - 4s 7ms/step - loss: 6.7771 - mae: 0.9400 - val_loss: 1.0793 - val_mae: 0.5552\n",
      "Epoch 263/500\n",
      "650/650 [==============================] - 5s 8ms/step - loss: 9.5009 - mae: 1.1023 - val_loss: 2.6898 - val_mae: 0.7889\n",
      "Epoch 264/500\n",
      "650/650 [==============================] - 4s 7ms/step - loss: 9.1002 - mae: 1.0264 - val_loss: 6.6055 - val_mae: 0.9616\n",
      "Epoch 265/500\n",
      "650/650 [==============================] - 3s 5ms/step - loss: 23.0849 - mae: 1.3629 - val_loss: 54.8983 - val_mae: 3.3044\n",
      "Epoch 266/500\n",
      "650/650 [==============================] - 3s 5ms/step - loss: 7.0120 - mae: 1.0989 - val_loss: 2.2711 - val_mae: 0.7328\n",
      "Epoch 267/500\n",
      "650/650 [==============================] - 3s 5ms/step - loss: 11.3569 - mae: 1.1436 - val_loss: 17.4694 - val_mae: 1.7122\n",
      "Epoch 268/500\n",
      "650/650 [==============================] - 4s 6ms/step - loss: 5.6444 - mae: 0.8994 - val_loss: 26.1133 - val_mae: 1.5243\n",
      "Epoch 269/500\n",
      "650/650 [==============================] - 3s 4ms/step - loss: 13.8239 - mae: 1.1050 - val_loss: 81.3685 - val_mae: 3.4790\n",
      "Epoch 270/500\n",
      "650/650 [==============================] - 3s 5ms/step - loss: 7.9844 - mae: 1.0854 - val_loss: 10.0276 - val_mae: 1.1550\n",
      "Epoch 271/500\n",
      "650/650 [==============================] - 3s 5ms/step - loss: 4.0775 - mae: 0.8290 - val_loss: 1.5537 - val_mae: 0.6044\n",
      "Epoch 272/500\n",
      "650/650 [==============================] - 3s 5ms/step - loss: 9.2446 - mae: 0.9829 - val_loss: 2.8861 - val_mae: 0.6883\n",
      "Epoch 273/500\n",
      "650/650 [==============================] - 4s 6ms/step - loss: 8.9420 - mae: 1.0431 - val_loss: 4.0608 - val_mae: 0.9847\n",
      "Epoch 274/500\n",
      "650/650 [==============================] - 3s 5ms/step - loss: 18.2058 - mae: 1.2834 - val_loss: 2.8259 - val_mae: 0.8036\n",
      "Epoch 275/500\n",
      "650/650 [==============================] - 3s 5ms/step - loss: 28.1529 - mae: 1.6275 - val_loss: 4.1440 - val_mae: 0.9698\n",
      "Epoch 276/500\n",
      "650/650 [==============================] - 9s 13ms/step - loss: 3.5970 - mae: 0.7534 - val_loss: 1.7630 - val_mae: 0.7045\n",
      "Epoch 277/500\n",
      "650/650 [==============================] - 6s 9ms/step - loss: 3.8992 - mae: 0.7719 - val_loss: 1.0885 - val_mae: 0.5639\n",
      "Epoch 278/500\n",
      "650/650 [==============================] - 3s 5ms/step - loss: 9.0342 - mae: 1.0285 - val_loss: 1.1776 - val_mae: 0.5943\n",
      "Epoch 279/500\n",
      "650/650 [==============================] - 3s 4ms/step - loss: 6.2094 - mae: 0.9036 - val_loss: 1.5948 - val_mae: 0.6289\n",
      "Epoch 280/500\n",
      "650/650 [==============================] - 3s 5ms/step - loss: 5.0530 - mae: 0.8519 - val_loss: 30.9624 - val_mae: 1.9041\n",
      "Epoch 281/500\n",
      "650/650 [==============================] - 3s 4ms/step - loss: 13.8053 - mae: 1.0970 - val_loss: 87.1575 - val_mae: 4.1030\n",
      "Epoch 282/500\n",
      "650/650 [==============================] - 3s 4ms/step - loss: 20.4520 - mae: 1.4194 - val_loss: 23.6860 - val_mae: 1.4937\n",
      "Epoch 283/500\n",
      "650/650 [==============================] - 3s 5ms/step - loss: 8.9080 - mae: 1.0279 - val_loss: 1.8589 - val_mae: 0.6796\n",
      "Epoch 284/500\n",
      "650/650 [==============================] - 6s 9ms/step - loss: 9.0274 - mae: 0.9679 - val_loss: 18.4984 - val_mae: 2.4363\n",
      "Epoch 285/500\n",
      "650/650 [==============================] - 6s 9ms/step - loss: 7.3317 - mae: 0.9962 - val_loss: 4.2009 - val_mae: 0.9799\n",
      "Epoch 286/500\n",
      "650/650 [==============================] - 3s 5ms/step - loss: 24.9160 - mae: 1.3683 - val_loss: 1.5879 - val_mae: 0.6618\n",
      "Epoch 287/500\n",
      "650/650 [==============================] - 3s 4ms/step - loss: 2.3463 - mae: 0.6650 - val_loss: 1.8371 - val_mae: 0.6674\n",
      "Epoch 288/500\n",
      "650/650 [==============================] - 3s 4ms/step - loss: 8.4833 - mae: 1.0226 - val_loss: 1.2919 - val_mae: 0.5859\n",
      "Epoch 289/500\n",
      "650/650 [==============================] - 3s 5ms/step - loss: 5.3564 - mae: 0.8454 - val_loss: 19.5973 - val_mae: 1.3063\n",
      "Epoch 290/500\n",
      "650/650 [==============================] - 3s 4ms/step - loss: 11.8742 - mae: 1.0724 - val_loss: 1.4856 - val_mae: 0.5849\n",
      "Epoch 291/500\n",
      "650/650 [==============================] - 3s 5ms/step - loss: 8.3557 - mae: 0.9884 - val_loss: 2.0668 - val_mae: 0.6412\n",
      "Epoch 292/500\n",
      "650/650 [==============================] - 4s 6ms/step - loss: 11.0992 - mae: 1.1012 - val_loss: 2.1614 - val_mae: 0.6518\n",
      "Epoch 293/500\n",
      "650/650 [==============================] - 5s 8ms/step - loss: 4.1776 - mae: 0.8028 - val_loss: 1.1060 - val_mae: 0.5567\n",
      "Epoch 294/500\n",
      "650/650 [==============================] - 5s 8ms/step - loss: 19.5499 - mae: 1.2849 - val_loss: 1.6985 - val_mae: 0.6443\n",
      "Epoch 295/500\n",
      "650/650 [==============================] - 3s 4ms/step - loss: 7.0340 - mae: 0.7663 - val_loss: 213.4456 - val_mae: 4.4462\n",
      "Epoch 296/500\n",
      "650/650 [==============================] - 3s 4ms/step - loss: 31.5723 - mae: 1.5724 - val_loss: 3.4965 - val_mae: 0.7693\n",
      "Epoch 297/500\n",
      "650/650 [==============================] - 3s 5ms/step - loss: 6.9623 - mae: 0.9249 - val_loss: 7.8373 - val_mae: 1.0895\n",
      "Epoch 298/500\n",
      "650/650 [==============================] - 3s 5ms/step - loss: 8.0408 - mae: 0.9668 - val_loss: 2.5585 - val_mae: 0.7814\n",
      "Epoch 299/500\n",
      "650/650 [==============================] - 4s 6ms/step - loss: 6.1535 - mae: 0.9143 - val_loss: 1.4848 - val_mae: 0.6323\n",
      "Epoch 300/500\n",
      "650/650 [==============================] - 7s 11ms/step - loss: 15.0235 - mae: 1.1616 - val_loss: 2.6391 - val_mae: 0.7936\n",
      "Epoch 301/500\n",
      "650/650 [==============================] - 4s 6ms/step - loss: 10.6873 - mae: 1.0779 - val_loss: 3.2623 - val_mae: 0.8184\n",
      "Epoch 302/500\n",
      "650/650 [==============================] - 3s 4ms/step - loss: 7.8158 - mae: 0.9969 - val_loss: 2.3742 - val_mae: 0.7658\n",
      "Epoch 303/500\n",
      "650/650 [==============================] - 3s 4ms/step - loss: 9.1543 - mae: 0.9359 - val_loss: 5.1235 - val_mae: 0.9801\n",
      "Epoch 304/500\n",
      "650/650 [==============================] - 3s 4ms/step - loss: 7.7374 - mae: 1.0088 - val_loss: 30.5584 - val_mae: 1.6924\n",
      "Epoch 305/500\n",
      "650/650 [==============================] - 3s 4ms/step - loss: 6.6468 - mae: 0.9457 - val_loss: 1.3349 - val_mae: 0.6082\n",
      "Epoch 306/500\n",
      "650/650 [==============================] - 3s 5ms/step - loss: 4.8308 - mae: 0.7776 - val_loss: 8.0761 - val_mae: 1.0147\n",
      "Epoch 307/500\n",
      "650/650 [==============================] - 3s 5ms/step - loss: 18.5375 - mae: 1.2279 - val_loss: 5.9220 - val_mae: 1.0845\n",
      "Epoch 308/500\n",
      "650/650 [==============================] - 4s 6ms/step - loss: 5.5047 - mae: 0.8627 - val_loss: 5.2039 - val_mae: 0.7758\n",
      "Epoch 309/500\n",
      "650/650 [==============================] - 4s 6ms/step - loss: 3.5452 - mae: 0.7290 - val_loss: 1.3767 - val_mae: 0.5890\n",
      "Epoch 310/500\n",
      "650/650 [==============================] - 3s 5ms/step - loss: 9.6724 - mae: 0.9687 - val_loss: 4.5922 - val_mae: 0.9068\n",
      "Epoch 311/500\n",
      "650/650 [==============================] - 3s 5ms/step - loss: 7.6478 - mae: 0.9704 - val_loss: 2.2564 - val_mae: 0.6943\n",
      "Epoch 312/500\n",
      "650/650 [==============================] - 4s 5ms/step - loss: 16.3413 - mae: 1.2170 - val_loss: 9.0028 - val_mae: 1.1491\n"
     ]
    }
   ],
   "source": [
    "history = ann.fit(X_train, y_train,\n",
    "                    validation_data = (X_val, y_val),\n",
    "                    callbacks=[es],\n",
    "                    epochs=500,\n",
    "                    batch_size=40,\n",
    "                    verbose=1)"
   ]
  },
  {
   "cell_type": "markdown",
   "metadata": {
    "colab_type": "text",
    "id": "0H0zKKNEBLD5"
   },
   "source": [
    "### Analyse learn history"
   ]
  },
  {
   "cell_type": "code",
   "execution_count": 26,
   "metadata": {
    "ExecuteTime": {
     "end_time": "2024-08-02T01:37:39.674301500Z",
     "start_time": "2024-08-02T01:37:39.006015900Z"
    }
   },
   "outputs": [
    {
     "data": {
      "text/plain": "<Figure size 640x480 with 1 Axes>",
      "image/png": "[encoded data removed]"
     },
     "metadata": {},
     "output_type": "display_data"
    }
   ],
   "source": [
    "# let's see the training and validation accuracy by epoch\n",
    "history_dict = history.history\n",
    "loss_values = history_dict['loss'] # you can change this\n",
    "val_loss_values = history_dict['val_loss'] # you can also change this\n",
    "epochs = range(1, len(loss_values) + 1) # range of X (no. of epochs)\n",
    "plt.plot(epochs, loss_values, 'blue', label='Train set loss')\n",
    "plt.plot(epochs, val_loss_values, 'orange', label='Validation set loss')\n",
    "#plt.title('Training and testing loss')\n",
    "plt.xlabel('Epochs')\n",
    "plt.ylabel('Loss (MSE)')\n",
    "plt.legend()\n",
    "plt.savefig('Section3_ANN1_2.png', dpi=300, bbox_inches='tight')\n",
    "plt.show()"
   ]
  },
  {
   "cell_type": "code",
   "execution_count": 27,
   "metadata": {
    "ExecuteTime": {
     "end_time": "2024-08-02T01:37:44.454584100Z",
     "start_time": "2024-08-02T01:37:43.898228800Z"
    }
   },
   "outputs": [
    {
     "data": {
      "text/plain": "<Figure size 640x480 with 1 Axes>",
      "image/png": "[encoded data removed]"
     },
     "metadata": {},
     "output_type": "display_data"
    }
   ],
   "source": [
    "loss_values1 = history_dict['mae'] # you can change this\n",
    "val_loss_values1 = history_dict['val_mae'] # you can also change this\n",
    "epochs = range(1, len(loss_values1) + 1) # range of X (no. of epochs)\n",
    "plt.plot(epochs, loss_values1, 'blue', label='Train set MAE')\n",
    "plt.plot(epochs, val_loss_values1, 'orange', label='Validation set MAE')\n",
    "#plt.title('Training and testing MAE')\n",
    "plt.xlabel('Epochs')\n",
    "plt.ylabel('MAE')\n",
    "plt.legend()\n",
    "plt.savefig('Section3_ANN1_3.png', dpi=300, bbox_inches='tight')\n",
    "plt.show()"
   ]
  },
  {
   "cell_type": "code",
   "execution_count": null,
   "metadata": {},
   "outputs": [],
   "source": [
    "print (epochs)"
   ]
  },
  {
   "cell_type": "markdown",
   "metadata": {},
   "source": [
    "### Save the model"
   ]
  },
  {
   "cell_type": "code",
   "execution_count": 40,
   "metadata": {
    "ExecuteTime": {
     "end_time": "2024-08-02T01:39:48.429043900Z",
     "start_time": "2024-08-02T01:39:47.119406400Z"
    }
   },
   "outputs": [
    {
     "name": "stdout",
     "output_type": "stream",
     "text": [
      "INFO:tensorflow:Assets written to: Section3_new_ANN_1\\assets\n"
     ]
    }
   ],
   "source": [
    "ann.save('Section3_new_ANN_1')\n",
    "import pickle\n",
    "pickle.dump(sc, open('Section3_new_scaler_ANN_1.pkl', 'wb'))"
   ]
  },
  {
   "cell_type": "markdown",
   "metadata": {},
   "source": [
    "## Part 5 - Make predictions"
   ]
  },
  {
   "cell_type": "code",
   "execution_count": null,
   "metadata": {},
   "outputs": [],
   "source": [
    "ann = load_model('ANN_13.h5')\n",
    "sc = pickle.load(open('scaler_ANN.pkl', 'rb'))"
   ]
  },
  {
   "cell_type": "code",
   "execution_count": 28,
   "metadata": {
    "ExecuteTime": {
     "end_time": "2024-08-02T01:37:54.465353700Z",
     "start_time": "2024-08-02T01:37:49.525375500Z"
    }
   },
   "outputs": [
    {
     "name": "stdout",
     "output_type": "stream",
     "text": [
      "812/812 [==============================] - 2s 2ms/step\n",
      "271/271 [==============================] - 1s 2ms/step\n"
     ]
    },
    {
     "data": {
      "text/plain": "<Figure size 640x480 with 2 Axes>",
      "image/png": "[encoded data removed]"
     },
     "metadata": {},
     "output_type": "display_data"
    }
   ],
   "source": [
    "# scatterplot of actual vs. pred\n",
    "# specify the dimensions \n",
    "fig, axes = plt.subplots(1,2) # 1 row, 2 columns\n",
    "\n",
    "# this makes the individual subplots\n",
    "# Training Results\n",
    "axes[0].scatter(x=y_train, y=ann.predict(X_train)) #first row, first entry (left top)\n",
    "axes[0].set_xlabel(\"Actual\", fontsize=10)\n",
    "axes[0].set_ylabel(\"Predicted\",  fontsize=10)\n",
    "axes[0].set_title(\"Training\")\n",
    "# add 45 deg line\n",
    "x = np.linspace(*axes[0].get_xlim())\n",
    "axes[0].plot(x, x, color='red')\n",
    "# Validation Results\n",
    "axes[1].scatter(x=y_val, y=ann.predict(X_val)) # first row, second entry (right top)\n",
    "axes[1].set_xlabel(\"Actual\", fontsize=10)\n",
    "axes[1].set_ylabel(\"Predicted\",  fontsize=10)\n",
    "axes[1].set_title(\"Validation\")\n",
    "# add 45 deg line\n",
    "x = np.linspace(*axes[1].get_xlim())\n",
    "axes[1].plot(x, x, color='red')\n",
    "\n",
    "# tight layout\n",
    "fig.tight_layout()\n",
    "\n",
    "plt.savefig('Section3_ANN1_1.png', dpi=300, bbox_inches='tight')\n",
    "# show the plot\n",
    "plt.show()"
   ]
  },
  {
   "cell_type": "code",
   "execution_count": 29,
   "metadata": {
    "colab": {
     "base_uri": "https://localhost:8080/",
     "height": 134
    },
    "colab_type": "code",
    "id": "IA0yApEmBG1X",
    "outputId": "cb981e1f-9204-4a2a-fece-9d66a6919189",
    "ExecuteTime": {
     "end_time": "2024-08-02T01:38:05.870663700Z",
     "start_time": "2024-08-02T01:38:04.924835200Z"
    }
   },
   "outputs": [
    {
     "name": "stdout",
     "output_type": "stream",
     "text": [
      "271/271 [==============================] - 1s 2ms/step\n",
      "[[-0.67 -0.54]\n",
      " [ 0.71  1.05]\n",
      " [ 4.4   4.31]\n",
      " ...\n",
      " [-0.84 -0.88]\n",
      " [22.26 22.34]\n",
      " [-0.09 -0.7 ]]\n"
     ]
    }
   ],
   "source": [
    "y_pred = ann.predict(X_test)\n",
    "np.set_printoptions(precision=2)\n",
    "print(np.concatenate((y_pred.reshape(len(y_pred),1), y_test.reshape(len(y_test),1)),1))"
   ]
  },
  {
   "cell_type": "code",
   "execution_count": 30,
   "metadata": {
    "ExecuteTime": {
     "end_time": "2024-08-02T01:38:08.490395800Z",
     "start_time": "2024-08-02T01:38:08.158976100Z"
    }
   },
   "outputs": [
    {
     "data": {
      "text/plain": "Text(0, 0.5, 'Predicted data')"
     },
     "execution_count": 30,
     "metadata": {},
     "output_type": "execute_result"
    },
    {
     "data": {
      "text/plain": "<Figure size 640x480 with 1 Axes>",
      "image/png": "[encoded data removed]"
     },
     "metadata": {},
     "output_type": "display_data"
    }
   ],
   "source": [
    "import matplotlib.pyplot as plt\n",
    "plt.scatter(y_test, y_pred, color=\"blue\")\n",
    "#plt.plot ([0,1200000],[0,1200000], color = \"red\")\n",
    "#plt.axis ([0,1200000,0,1200000])\n",
    "plt.xlabel ('Actual data')\n",
    "plt.ylabel ('Predicted data')"
   ]
  },
  {
   "cell_type": "code",
   "execution_count": 42,
   "metadata": {
    "ExecuteTime": {
     "end_time": "2024-08-02T02:15:16.933144300Z",
     "start_time": "2024-08-02T02:15:15.358806500Z"
    }
   },
   "outputs": [
    {
     "data": {
      "text/plain": "<Figure size 900x900 with 1 Axes>",
      "image/png": "[encoded data removed]"
     },
     "metadata": {},
     "output_type": "display_data"
    }
   ],
   "source": [
    "from sklearn.metrics import r2_score\n",
    "# Initialize layout\n",
    "fig1, ax1 = plt.subplots(figsize = (9, 9))\n",
    "b_l = -15\n",
    "u_l = 500\n",
    "\n",
    "# Add scatterplot\n",
    "ax1.scatter(y_test, y_pred, s=70, alpha=1, edgecolors=\"k\",c='mediumblue',zorder=5, label = 'Points')\n",
    "\n",
    "\n",
    "plt.ylabel('Predicted Reflected Overpressure (kPa)',fontsize = 25)\n",
    "plt.xlabel('Target Reflected Overpressure (kPa)',fontsize = 25)\n",
    "plt.xticks(fontsize = 19)\n",
    "plt.yticks(fontsize = 19)\n",
    "\n",
    "\n",
    "x1 = np.linspace(b_l, u_l)\n",
    "\n",
    "plt.plot(x1, x1, 'Red', label='45\\N{DEGREE SIGN} line',lw=2.5,alpha=1)\n",
    "plt.plot(x1, 1.05*x1, '--m', label='\\u00B15% Error',lw=2.5,alpha=0.7)\n",
    "plt.plot(x1, 0.95*x1,'m', linestyle='--',lw=2.5,alpha=0.7)\n",
    "plt.plot(x1, 1.1*x1, '-.g', label='\\u00B110% Error',lw=2.5,alpha=0.7)\n",
    "plt.plot(x1, 0.9*x1,'-.g',lw=2.5,alpha=0.7)\n",
    "plt.plot(x1, 1.2*x1, color = '#F97306', linestyle='dotted', label='\\u00B120% Error',lw=2.5,alpha=0.7)\n",
    "plt.plot(x1, 0.8*x1,color = '#F97306', linestyle='dotted', lw=2.5,alpha=0.7)\n",
    "\n",
    "plt.ylim(b_l, u_l)\n",
    "plt.xlim(b_l, u_l)\n",
    "plt.legend(loc='upper left',fontsize = 21)\n",
    "\n",
    "plt.grid()\n",
    "\n",
    "ax1.spines['left'].set_color('black')        # setting up Y-axis tick color to red\n",
    "ax1.spines['bottom'].set_color('black')         #setting up above X-axis tick color to red\n",
    "\n",
    "plt.savefig('Section3_ANN1.png', dpi=300, bbox_inches='tight')"
   ]
  },
  {
   "cell_type": "code",
   "execution_count": 32,
   "metadata": {
    "ExecuteTime": {
     "end_time": "2024-08-02T01:38:23.083311400Z",
     "start_time": "2024-08-02T01:38:21.084576Z"
    }
   },
   "outputs": [
    {
     "name": "stdout",
     "output_type": "stream",
     "text": [
      "812/812 [==============================] - 2s 2ms/step\n",
      "0.5318672363446372\n",
      "0.563879380978735\n"
     ]
    }
   ],
   "source": [
    "# metrics\n",
    "trainpreds = ann.predict(X_train)\n",
    "\n",
    "from sklearn.metrics import mean_absolute_error\n",
    "print(mean_absolute_error(y_train, trainpreds)) # train\n",
    "print(mean_absolute_error(y_test, y_pred)) # test"
   ]
  },
  {
   "cell_type": "code",
   "execution_count": 33,
   "metadata": {
    "ExecuteTime": {
     "end_time": "2024-08-02T01:38:25.375122Z",
     "start_time": "2024-08-02T01:38:25.311460Z"
    }
   },
   "outputs": [
    {
     "name": "stdout",
     "output_type": "stream",
     "text": [
      "0.9990120574448298\n"
     ]
    }
   ],
   "source": [
    "from sklearn.metrics import r2_score\n",
    "r2 = r2_score(y_test, y_pred)\n",
    "print (r2)"
   ]
  },
  {
   "cell_type": "code",
   "execution_count": 34,
   "metadata": {
    "ExecuteTime": {
     "end_time": "2024-08-02T01:38:27.096664900Z",
     "start_time": "2024-08-02T01:38:27.033384200Z"
    }
   },
   "outputs": [
    {
     "name": "stdout",
     "output_type": "stream",
     "text": [
      "0.9990718283586798\n"
     ]
    }
   ],
   "source": [
    "r2_train = r2_score(y_train, trainpreds)\n",
    "print (r2_train)"
   ]
  },
  {
   "cell_type": "code",
   "execution_count": 35,
   "metadata": {
    "ExecuteTime": {
     "end_time": "2024-08-02T01:38:30.657373200Z",
     "start_time": "2024-08-02T01:38:29.921968700Z"
    }
   },
   "outputs": [
    {
     "name": "stdout",
     "output_type": "stream",
     "text": [
      "Within 5% margin 46.75%\n",
      "Within 10% margin 60.70%\n",
      "Within 20% margin 70.06%\n",
      "Out of 20% margin 29.94%\n"
     ]
    }
   ],
   "source": [
    "count0 = 0\n",
    "for i in range(len(y_pred)):\n",
    "    line1 = y_pred[i] - 0.95*y_test[i]\n",
    "    line2 = y_pred[i] - 1.05*y_test[i]\n",
    "    mask0 = (line1 > 0) & (line2 < 0)\n",
    "    count0 = np.sum(mask0+count0)\n",
    "\n",
    "count1 = 0\n",
    "for i in range(len(y_pred)):\n",
    "    line1 = y_pred[i] - 0.9*y_test[i]\n",
    "    line2 = y_pred[i] - 1.1*y_test[i]\n",
    "    mask1 = (line1 > 0) & (line2 < 0)\n",
    "    count1 = np.sum(mask1+count1)\n",
    "\n",
    "count2 = 0\n",
    "for j in range(len(y_pred)):\n",
    "    line3 = y_pred[j] - 0.8*y_test[j]\n",
    "    line4 = y_pred[j] - 1.2*y_test[j]\n",
    "    mask2 = (line3 > 0) & (line4 < 0)\n",
    "    count2 = np.sum(mask2+count2)\n",
    "\n",
    "\n",
    "count3 = 0    \n",
    "for k in range(len(y_pred)):\n",
    "    line5 = y_pred[k] - 0.8*y_test[k]\n",
    "    line6 = y_pred[k] - 1.2*y_test[k]\n",
    "    mask3 = (line5 < 0) or (line6 > 0)\n",
    "    count3 = np.sum(mask3+count3)\n",
    "   \n",
    "\n",
    "print ('Within 5% margin', format((count0/len (y_pred)),'.2%'))\n",
    "print ('Within 10% margin', format((count1/len (y_pred)),'.2%'))\n",
    "print ('Within 20% margin', format((count2/len (y_pred)),'.2%'))\n",
    "print ('Out of 20% margin', format((count3/len (y_pred)),'.2%'))"
   ]
  },
  {
   "cell_type": "code",
   "execution_count": 36,
   "metadata": {
    "ExecuteTime": {
     "end_time": "2024-08-02T01:38:33.021866100Z",
     "start_time": "2024-08-02T01:38:32.928439900Z"
    }
   },
   "outputs": [
    {
     "name": "stdout",
     "output_type": "stream",
     "text": [
      "0.9990112579537447\n"
     ]
    }
   ],
   "source": [
    "adj_r2 = 1 - ((1 - r2) * (len(X_test) - 1) / (len(X_test) - len (X_test[0]) - 1))\n",
    "print (adj_r2)"
   ]
  },
  {
   "cell_type": "code",
   "execution_count": 37,
   "metadata": {
    "ExecuteTime": {
     "end_time": "2024-08-02T01:38:34.337465500Z",
     "start_time": "2024-08-02T01:38:34.289812300Z"
    }
   },
   "outputs": [
    {
     "data": {
      "text/plain": "1.0428619631915272"
     },
     "execution_count": 37,
     "metadata": {},
     "output_type": "execute_result"
    }
   ],
   "source": [
    "import math\n",
    "from sklearn.metrics import mean_squared_error\n",
    "\n",
    "math.sqrt(mean_squared_error(y_test, y_pred))"
   ]
  },
  {
   "cell_type": "code",
   "execution_count": 38,
   "metadata": {
    "ExecuteTime": {
     "end_time": "2024-08-02T01:38:35.369386600Z",
     "start_time": "2024-08-02T01:38:35.353376100Z"
    }
   },
   "outputs": [
    {
     "data": {
      "text/plain": "0.563879380978735"
     },
     "execution_count": 38,
     "metadata": {},
     "output_type": "execute_result"
    }
   ],
   "source": [
    "from sklearn.metrics import mean_absolute_error\n",
    "\n",
    "mean_absolute_error(y_test, y_pred)"
   ]
  }
 ],
 "metadata": {
  "colab": {
   "collapsed_sections": [],
   "name": "Artificial Neural Network",
   "provenance": [],
   "toc_visible": true
  },
  "kernelspec": {
   "display_name": "Python 3 (ipykernel)",
   "language": "python",
   "name": "python3"
  },
  "language_info": {
   "codemirror_mode": {
    "name": "ipython",
    "version": 3
   },
   "file_extension": ".py",
   "mimetype": "text/x-python",
   "name": "python",
   "nbconvert_exporter": "python",
   "pygments_lexer": "ipython3",
   "version": "3.9.7"
  }
 },
 "nbformat": 4,
 "nbformat_minor": 4
}
