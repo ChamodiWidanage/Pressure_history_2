{
 "cells": [
  {
   "cell_type": "markdown",
   "metadata": {
    "colab_type": "text",
    "id": "3cbb7fRy-eyr"
   },
   "source": [
    "# Artificial Neural Network"
   ]
  },
  {
   "cell_type": "markdown",
   "metadata": {
    "colab_type": "text",
    "id": "8sNDnxE2-pwE"
   },
   "source": [
    "## Part 1 - Importing the libraries"
   ]
  },
  {
   "cell_type": "code",
   "execution_count": 1,
   "metadata": {
    "colab": {},
    "colab_type": "code",
    "id": "lxChR1Rk-umf",
    "ExecuteTime": {
     "end_time": "2024-09-02T13:39:25.116242100Z",
     "start_time": "2024-09-02T13:39:19.317532100Z"
    }
   },
   "outputs": [],
   "source": [
    "import numpy as np\n",
    "import pandas as pd\n",
    "import tensorflow as tf\n",
    "import matplotlib.pyplot as plt\n",
    "from keras.models import load_model\n",
    "from pathlib import Path\n",
    "import pickle"
   ]
  },
  {
   "cell_type": "markdown",
   "metadata": {
    "colab_type": "text",
    "id": "AG3FQEch-yuA"
   },
   "source": [
    "## Part 2 - Data Preprocessing"
   ]
  },
  {
   "cell_type": "code",
   "execution_count": 3,
   "metadata": {
    "ExecuteTime": {
     "end_time": "2024-09-02T13:40:07.921552200Z",
     "start_time": "2024-09-02T13:40:07.776448800Z"
    }
   },
   "outputs": [
    {
     "name": "stdout",
     "output_type": "stream",
     "text": [
      "input G:\\Chamodi\\LSDYNA3D\\RP_TH_models\\RP_Section_3_new\n",
      "2 [WindowsPath('G:/Chamodi/LSDYNA3D/RP_TH_models/RP_Section_3_new/RP_curves_fr07m'), WindowsPath('G:/Chamodi/LSDYNA3D/RP_TH_models/RP_Section_3_new/RP_curves_fr09m'), WindowsPath('G:/Chamodi/LSDYNA3D/RP_TH_models/RP_Section_3_new/RP_curves_fr11m'), WindowsPath('G:/Chamodi/LSDYNA3D/RP_TH_models/RP_Section_3_new/RP_curves_fr13m')]\n"
     ]
    }
   ],
   "source": [
    "#Access input folder\n",
    "current_dir = Path.cwd()\n",
    "input_dir1 = Path (\"G:/Chamodi/LSDYNA3D/RP_TH_models/RP_Section_3_new\")\n",
    "print (\"input\",input_dir1)\n",
    "\n",
    "#Access folders inside input folder\n",
    "input_dir2=  [folder1 for folder1 in input_dir1.iterdir() if folder1.is_dir()] # folder1 - RP_curves_fr7m\n",
    "print (\"2\",input_dir2)"
   ]
  },
  {
   "cell_type": "code",
   "execution_count": 4,
   "metadata": {
    "ExecuteTime": {
     "end_time": "2024-09-02T13:40:23.916902500Z",
     "start_time": "2024-09-02T13:40:10.728671200Z"
    }
   },
   "outputs": [
    {
     "name": "stdout",
     "output_type": "stream",
     "text": [
      "folder G:\\Chamodi\\LSDYNA3D\\RP_TH_models\\RP_Section_3_new\\RP_curves_fr07m\\07m00.5kg\n",
      "1.xlsx\n",
      "2.xlsx\n",
      "3.xlsx\n",
      "4.xlsx\n",
      "folder G:\\Chamodi\\LSDYNA3D\\RP_TH_models\\RP_Section_3_new\\RP_curves_fr07m\\07m02.5kg\n",
      "1.xlsx\n",
      "2.xlsx\n",
      "3.xlsx\n",
      "4.xlsx\n",
      "folder G:\\Chamodi\\LSDYNA3D\\RP_TH_models\\RP_Section_3_new\\RP_curves_fr07m\\07m04.5kg\n",
      "1.xlsx\n",
      "2.xlsx\n",
      "3.xlsx\n",
      "4.xlsx\n",
      "folder G:\\Chamodi\\LSDYNA3D\\RP_TH_models\\RP_Section_3_new\\RP_curves_fr07m\\07m06.5kg\n",
      "1.xlsx\n",
      "2.xlsx\n",
      "3.xlsx\n",
      "4.xlsx\n",
      "folder G:\\Chamodi\\LSDYNA3D\\RP_TH_models\\RP_Section_3_new\\RP_curves_fr07m\\07m08.5kg\n",
      "1.xlsx\n",
      "2.xlsx\n",
      "3.xlsx\n",
      "4.xlsx\n",
      "folder G:\\Chamodi\\LSDYNA3D\\RP_TH_models\\RP_Section_3_new\\RP_curves_fr07m\\07m10.5kg\n",
      "1.xlsx\n",
      "2.xlsx\n",
      "3.xlsx\n",
      "4.xlsx\n",
      "folder G:\\Chamodi\\LSDYNA3D\\RP_TH_models\\RP_Section_3_new\\RP_curves_fr07m\\07m12.5kg\n",
      "1.xlsx\n",
      "2.xlsx\n",
      "3.xlsx\n",
      "4.xlsx\n",
      "folder G:\\Chamodi\\LSDYNA3D\\RP_TH_models\\RP_Section_3_new\\RP_curves_fr07m\\07m14.5kg\n",
      "1.xlsx\n",
      "2.xlsx\n",
      "3.xlsx\n",
      "4.xlsx\n",
      "folder G:\\Chamodi\\LSDYNA3D\\RP_TH_models\\RP_Section_3_new\\RP_curves_fr07m\\07m16.5kg\n",
      "1.xlsx\n",
      "2.xlsx\n",
      "3.xlsx\n",
      "4.xlsx\n",
      "folder G:\\Chamodi\\LSDYNA3D\\RP_TH_models\\RP_Section_3_new\\RP_curves_fr07m\\07m18.5kg\n",
      "1.xlsx\n",
      "2.xlsx\n",
      "3.xlsx\n",
      "4.xlsx\n",
      "folder G:\\Chamodi\\LSDYNA3D\\RP_TH_models\\RP_Section_3_new\\RP_curves_fr07m\\07m20.5kg\n",
      "1.xlsx\n",
      "2.xlsx\n",
      "3.xlsx\n",
      "4.xlsx\n",
      "folder G:\\Chamodi\\LSDYNA3D\\RP_TH_models\\RP_Section_3_new\\RP_curves_fr07m\\07m22.5kg\n",
      "1.xlsx\n",
      "2.xlsx\n",
      "3.xlsx\n",
      "4.xlsx\n",
      "folder G:\\Chamodi\\LSDYNA3D\\RP_TH_models\\RP_Section_3_new\\RP_curves_fr07m\\07m24.5kg\n",
      "1.xlsx\n",
      "2.xlsx\n",
      "3.xlsx\n",
      "4.xlsx\n",
      "folder G:\\Chamodi\\LSDYNA3D\\RP_TH_models\\RP_Section_3_new\\RP_curves_fr07m\\07m26.5kg\n",
      "1.xlsx\n",
      "2.xlsx\n",
      "3.xlsx\n",
      "4.xlsx\n",
      "folder G:\\Chamodi\\LSDYNA3D\\RP_TH_models\\RP_Section_3_new\\RP_curves_fr07m\\07m28.5kg\n",
      "1.xlsx\n",
      "2.xlsx\n",
      "3.xlsx\n",
      "4.xlsx\n",
      "folder G:\\Chamodi\\LSDYNA3D\\RP_TH_models\\RP_Section_3_new\\RP_curves_fr07m\\07m30.5kg\n",
      "1.xlsx\n",
      "2.xlsx\n",
      "3.xlsx\n",
      "4.xlsx\n",
      "folder G:\\Chamodi\\LSDYNA3D\\RP_TH_models\\RP_Section_3_new\\RP_curves_fr07m\\07m32.5kg\n",
      "1.xlsx\n",
      "2.xlsx\n",
      "3.xlsx\n",
      "4.xlsx\n",
      "folder G:\\Chamodi\\LSDYNA3D\\RP_TH_models\\RP_Section_3_new\\RP_curves_fr07m\\07m34.5kg\n",
      "1.xlsx\n",
      "2.xlsx\n",
      "3.xlsx\n",
      "4.xlsx\n",
      "folder G:\\Chamodi\\LSDYNA3D\\RP_TH_models\\RP_Section_3_new\\RP_curves_fr07m\\07m35.0kg\n",
      "1.xlsx\n",
      "2.xlsx\n",
      "3.xlsx\n",
      "4.xlsx\n",
      "folder G:\\Chamodi\\LSDYNA3D\\RP_TH_models\\RP_Section_3_new\\RP_curves_fr09m\\09m00.5kg\n",
      "1.xlsx\n",
      "2.xlsx\n",
      "3.xlsx\n",
      "4.xlsx\n",
      "folder G:\\Chamodi\\LSDYNA3D\\RP_TH_models\\RP_Section_3_new\\RP_curves_fr09m\\09m02.5kg\n",
      "1.xlsx\n",
      "2.xlsx\n",
      "3.xlsx\n",
      "4.xlsx\n",
      "folder G:\\Chamodi\\LSDYNA3D\\RP_TH_models\\RP_Section_3_new\\RP_curves_fr09m\\09m04.5kg\n",
      "1.xlsx\n",
      "2.xlsx\n",
      "3.xlsx\n",
      "4.xlsx\n",
      "folder G:\\Chamodi\\LSDYNA3D\\RP_TH_models\\RP_Section_3_new\\RP_curves_fr09m\\09m06.5kg\n",
      "1.xlsx\n",
      "2.xlsx\n",
      "3.xlsx\n",
      "4.xlsx\n",
      "folder G:\\Chamodi\\LSDYNA3D\\RP_TH_models\\RP_Section_3_new\\RP_curves_fr09m\\09m08.5kg\n",
      "1.xlsx\n",
      "2.xlsx\n",
      "3.xlsx\n",
      "4.xlsx\n",
      "folder G:\\Chamodi\\LSDYNA3D\\RP_TH_models\\RP_Section_3_new\\RP_curves_fr09m\\09m10.5kg\n",
      "1.xlsx\n",
      "2.xlsx\n",
      "3.xlsx\n",
      "4.xlsx\n",
      "folder G:\\Chamodi\\LSDYNA3D\\RP_TH_models\\RP_Section_3_new\\RP_curves_fr09m\\09m12.5kg\n",
      "1.xlsx\n",
      "2.xlsx\n",
      "3.xlsx\n",
      "4.xlsx\n",
      "folder G:\\Chamodi\\LSDYNA3D\\RP_TH_models\\RP_Section_3_new\\RP_curves_fr09m\\09m14.5kg\n",
      "1.xlsx\n",
      "2.xlsx\n",
      "3.xlsx\n",
      "4.xlsx\n",
      "folder G:\\Chamodi\\LSDYNA3D\\RP_TH_models\\RP_Section_3_new\\RP_curves_fr09m\\09m16.5kg\n",
      "1.xlsx\n",
      "2.xlsx\n",
      "3.xlsx\n",
      "4.xlsx\n",
      "folder G:\\Chamodi\\LSDYNA3D\\RP_TH_models\\RP_Section_3_new\\RP_curves_fr09m\\09m18.5kg\n",
      "1.xlsx\n",
      "2.xlsx\n",
      "3.xlsx\n",
      "4.xlsx\n",
      "folder G:\\Chamodi\\LSDYNA3D\\RP_TH_models\\RP_Section_3_new\\RP_curves_fr09m\\09m20.5kg\n",
      "1.xlsx\n",
      "2.xlsx\n",
      "3.xlsx\n",
      "4.xlsx\n",
      "folder G:\\Chamodi\\LSDYNA3D\\RP_TH_models\\RP_Section_3_new\\RP_curves_fr09m\\09m22.5kg\n",
      "1.xlsx\n",
      "2.xlsx\n",
      "3.xlsx\n",
      "4.xlsx\n",
      "folder G:\\Chamodi\\LSDYNA3D\\RP_TH_models\\RP_Section_3_new\\RP_curves_fr09m\\09m24.5kg\n",
      "1.xlsx\n",
      "2.xlsx\n",
      "3.xlsx\n",
      "4.xlsx\n",
      "folder G:\\Chamodi\\LSDYNA3D\\RP_TH_models\\RP_Section_3_new\\RP_curves_fr09m\\09m26.5kg\n",
      "1.xlsx\n",
      "2.xlsx\n",
      "3.xlsx\n",
      "4.xlsx\n",
      "folder G:\\Chamodi\\LSDYNA3D\\RP_TH_models\\RP_Section_3_new\\RP_curves_fr09m\\09m28.5kg\n",
      "1.xlsx\n",
      "2.xlsx\n",
      "3.xlsx\n",
      "4.xlsx\n",
      "folder G:\\Chamodi\\LSDYNA3D\\RP_TH_models\\RP_Section_3_new\\RP_curves_fr09m\\09m30.5kg\n",
      "1.xlsx\n",
      "2.xlsx\n",
      "3.xlsx\n",
      "4.xlsx\n",
      "folder G:\\Chamodi\\LSDYNA3D\\RP_TH_models\\RP_Section_3_new\\RP_curves_fr09m\\09m32.5kg\n",
      "1.xlsx\n",
      "2.xlsx\n",
      "3.xlsx\n",
      "4.xlsx\n",
      "folder G:\\Chamodi\\LSDYNA3D\\RP_TH_models\\RP_Section_3_new\\RP_curves_fr09m\\09m34.5kg\n",
      "1.xlsx\n",
      "2.xlsx\n",
      "3.xlsx\n",
      "4.xlsx\n",
      "folder G:\\Chamodi\\LSDYNA3D\\RP_TH_models\\RP_Section_3_new\\RP_curves_fr09m\\09m35.0kg\n",
      "1.xlsx\n",
      "2.xlsx\n",
      "3.xlsx\n",
      "4.xlsx\n",
      "folder G:\\Chamodi\\LSDYNA3D\\RP_TH_models\\RP_Section_3_new\\RP_curves_fr11m\\11m00.5kg\n",
      "1.xlsx\n",
      "2.xlsx\n",
      "3.xlsx\n",
      "4.xlsx\n",
      "folder G:\\Chamodi\\LSDYNA3D\\RP_TH_models\\RP_Section_3_new\\RP_curves_fr11m\\11m02.5kg\n",
      "1.xlsx\n",
      "2.xlsx\n",
      "3.xlsx\n",
      "4.xlsx\n",
      "folder G:\\Chamodi\\LSDYNA3D\\RP_TH_models\\RP_Section_3_new\\RP_curves_fr11m\\11m04.5kg\n",
      "1.xlsx\n",
      "2.xlsx\n",
      "3.xlsx\n",
      "4.xlsx\n",
      "folder G:\\Chamodi\\LSDYNA3D\\RP_TH_models\\RP_Section_3_new\\RP_curves_fr11m\\11m06.5kg\n",
      "1.xlsx\n",
      "2.xlsx\n",
      "3.xlsx\n",
      "4.xlsx\n",
      "folder G:\\Chamodi\\LSDYNA3D\\RP_TH_models\\RP_Section_3_new\\RP_curves_fr11m\\11m08.5kg\n",
      "1.xlsx\n",
      "2.xlsx\n",
      "3.xlsx\n",
      "4.xlsx\n",
      "folder G:\\Chamodi\\LSDYNA3D\\RP_TH_models\\RP_Section_3_new\\RP_curves_fr11m\\11m10.5kg\n",
      "1.xlsx\n",
      "2.xlsx\n",
      "3.xlsx\n",
      "4.xlsx\n",
      "folder G:\\Chamodi\\LSDYNA3D\\RP_TH_models\\RP_Section_3_new\\RP_curves_fr11m\\11m12.5kg\n",
      "1.xlsx\n",
      "2.xlsx\n",
      "3.xlsx\n",
      "4.xlsx\n",
      "folder G:\\Chamodi\\LSDYNA3D\\RP_TH_models\\RP_Section_3_new\\RP_curves_fr11m\\11m14.5kg\n",
      "1.xlsx\n",
      "2.xlsx\n",
      "3.xlsx\n",
      "4.xlsx\n",
      "folder G:\\Chamodi\\LSDYNA3D\\RP_TH_models\\RP_Section_3_new\\RP_curves_fr11m\\11m16.5kg\n",
      "1.xlsx\n",
      "2.xlsx\n",
      "3.xlsx\n",
      "4.xlsx\n",
      "folder G:\\Chamodi\\LSDYNA3D\\RP_TH_models\\RP_Section_3_new\\RP_curves_fr11m\\11m18.5kg\n",
      "1.xlsx\n",
      "2.xlsx\n",
      "3.xlsx\n",
      "4.xlsx\n",
      "folder G:\\Chamodi\\LSDYNA3D\\RP_TH_models\\RP_Section_3_new\\RP_curves_fr11m\\11m20.5kg\n",
      "1.xlsx\n",
      "2.xlsx\n",
      "3.xlsx\n",
      "4.xlsx\n",
      "folder G:\\Chamodi\\LSDYNA3D\\RP_TH_models\\RP_Section_3_new\\RP_curves_fr11m\\11m22.5kg\n",
      "1.xlsx\n",
      "2.xlsx\n",
      "3.xlsx\n",
      "4.xlsx\n",
      "folder G:\\Chamodi\\LSDYNA3D\\RP_TH_models\\RP_Section_3_new\\RP_curves_fr11m\\11m24.5kg\n",
      "1.xlsx\n",
      "2.xlsx\n",
      "3.xlsx\n",
      "4.xlsx\n",
      "folder G:\\Chamodi\\LSDYNA3D\\RP_TH_models\\RP_Section_3_new\\RP_curves_fr11m\\11m26.5kg\n",
      "1.xlsx\n",
      "2.xlsx\n",
      "3.xlsx\n",
      "4.xlsx\n",
      "folder G:\\Chamodi\\LSDYNA3D\\RP_TH_models\\RP_Section_3_new\\RP_curves_fr11m\\11m28.5kg\n",
      "1.xlsx\n",
      "2.xlsx\n",
      "3.xlsx\n",
      "4.xlsx\n",
      "folder G:\\Chamodi\\LSDYNA3D\\RP_TH_models\\RP_Section_3_new\\RP_curves_fr11m\\11m30.5kg\n",
      "1.xlsx\n",
      "2.xlsx\n",
      "3.xlsx\n",
      "4.xlsx\n",
      "folder G:\\Chamodi\\LSDYNA3D\\RP_TH_models\\RP_Section_3_new\\RP_curves_fr11m\\11m32.5kg\n",
      "1.xlsx\n",
      "2.xlsx\n",
      "3.xlsx\n",
      "4.xlsx\n",
      "folder G:\\Chamodi\\LSDYNA3D\\RP_TH_models\\RP_Section_3_new\\RP_curves_fr11m\\11m34.5kg\n",
      "1.xlsx\n",
      "2.xlsx\n",
      "3.xlsx\n",
      "4.xlsx\n",
      "folder G:\\Chamodi\\LSDYNA3D\\RP_TH_models\\RP_Section_3_new\\RP_curves_fr11m\\11m35.0kg\n",
      "1.xlsx\n",
      "2.xlsx\n",
      "3.xlsx\n",
      "4.xlsx\n",
      "folder G:\\Chamodi\\LSDYNA3D\\RP_TH_models\\RP_Section_3_new\\RP_curves_fr13m\\13m00.5kg\n",
      "1.xlsx\n",
      "2.xlsx\n",
      "3.xlsx\n",
      "4.xlsx\n",
      "folder G:\\Chamodi\\LSDYNA3D\\RP_TH_models\\RP_Section_3_new\\RP_curves_fr13m\\13m02.5kg\n",
      "1.xlsx\n",
      "2.xlsx\n",
      "3.xlsx\n",
      "4.xlsx\n",
      "folder G:\\Chamodi\\LSDYNA3D\\RP_TH_models\\RP_Section_3_new\\RP_curves_fr13m\\13m04.5kg\n",
      "1.xlsx\n",
      "2.xlsx\n",
      "3.xlsx\n",
      "4.xlsx\n",
      "folder G:\\Chamodi\\LSDYNA3D\\RP_TH_models\\RP_Section_3_new\\RP_curves_fr13m\\13m06.5kg\n",
      "1.xlsx\n",
      "2.xlsx\n",
      "3.xlsx\n",
      "4.xlsx\n",
      "folder G:\\Chamodi\\LSDYNA3D\\RP_TH_models\\RP_Section_3_new\\RP_curves_fr13m\\13m08.5kg\n",
      "1.xlsx\n",
      "2.xlsx\n",
      "3.xlsx\n",
      "4.xlsx\n",
      "folder G:\\Chamodi\\LSDYNA3D\\RP_TH_models\\RP_Section_3_new\\RP_curves_fr13m\\13m10.5kg\n",
      "1.xlsx\n",
      "2.xlsx\n",
      "3.xlsx\n",
      "4.xlsx\n",
      "folder G:\\Chamodi\\LSDYNA3D\\RP_TH_models\\RP_Section_3_new\\RP_curves_fr13m\\13m12.5kg\n",
      "1.xlsx\n",
      "2.xlsx\n",
      "3.xlsx\n",
      "4.xlsx\n",
      "folder G:\\Chamodi\\LSDYNA3D\\RP_TH_models\\RP_Section_3_new\\RP_curves_fr13m\\13m14.5kg\n",
      "1.xlsx\n",
      "2.xlsx\n",
      "3.xlsx\n",
      "4.xlsx\n",
      "folder G:\\Chamodi\\LSDYNA3D\\RP_TH_models\\RP_Section_3_new\\RP_curves_fr13m\\13m16.5kg\n",
      "1.xlsx\n",
      "2.xlsx\n",
      "3.xlsx\n",
      "4.xlsx\n",
      "folder G:\\Chamodi\\LSDYNA3D\\RP_TH_models\\RP_Section_3_new\\RP_curves_fr13m\\13m18.5kg\n",
      "1.xlsx\n",
      "2.xlsx\n",
      "3.xlsx\n",
      "4.xlsx\n",
      "folder G:\\Chamodi\\LSDYNA3D\\RP_TH_models\\RP_Section_3_new\\RP_curves_fr13m\\13m20.5kg\n",
      "1.xlsx\n",
      "2.xlsx\n",
      "3.xlsx\n",
      "4.xlsx\n",
      "folder G:\\Chamodi\\LSDYNA3D\\RP_TH_models\\RP_Section_3_new\\RP_curves_fr13m\\13m22.5kg\n",
      "1.xlsx\n",
      "2.xlsx\n",
      "3.xlsx\n",
      "4.xlsx\n",
      "folder G:\\Chamodi\\LSDYNA3D\\RP_TH_models\\RP_Section_3_new\\RP_curves_fr13m\\13m24.5kg\n",
      "1.xlsx\n",
      "2.xlsx\n",
      "3.xlsx\n",
      "4.xlsx\n",
      "folder G:\\Chamodi\\LSDYNA3D\\RP_TH_models\\RP_Section_3_new\\RP_curves_fr13m\\13m26.5kg\n",
      "1.xlsx\n",
      "2.xlsx\n",
      "3.xlsx\n",
      "4.xlsx\n",
      "folder G:\\Chamodi\\LSDYNA3D\\RP_TH_models\\RP_Section_3_new\\RP_curves_fr13m\\13m28.5kg\n",
      "1.xlsx\n",
      "2.xlsx\n",
      "3.xlsx\n",
      "4.xlsx\n",
      "folder G:\\Chamodi\\LSDYNA3D\\RP_TH_models\\RP_Section_3_new\\RP_curves_fr13m\\13m30.5kg\n",
      "1.xlsx\n",
      "2.xlsx\n",
      "3.xlsx\n",
      "4.xlsx\n",
      "folder G:\\Chamodi\\LSDYNA3D\\RP_TH_models\\RP_Section_3_new\\RP_curves_fr13m\\13m32.5kg\n",
      "1.xlsx\n",
      "2.xlsx\n",
      "3.xlsx\n",
      "4.xlsx\n",
      "folder G:\\Chamodi\\LSDYNA3D\\RP_TH_models\\RP_Section_3_new\\RP_curves_fr13m\\13m34.5kg\n",
      "1.xlsx\n",
      "2.xlsx\n",
      "3.xlsx\n",
      "4.xlsx\n",
      "folder G:\\Chamodi\\LSDYNA3D\\RP_TH_models\\RP_Section_3_new\\RP_curves_fr13m\\13m35.0kg\n",
      "1.xlsx\n",
      "2.xlsx\n",
      "3.xlsx\n",
      "4.xlsx\n"
     ]
    }
   ],
   "source": [
    "#dataset = pd.DataFrame(columns = ['Charge_mass', 'Standoff_distance', 'Time', 'Pressure', 'Phase'])\n",
    "df_list = []\n",
    "\n",
    "for folder1 in input_dir2:\n",
    "    \n",
    "    input_dir3 =  [folder2 for folder2 in folder1.iterdir() if folder2.is_dir()] # folder2 - 07m00.5kg\n",
    "    \n",
    "    for folder2 in input_dir3:\n",
    "        \n",
    "        print ('folder', folder2)\n",
    "        files1 = [file1 for file1 in folder2.rglob(\"*.xlsx\")]\n",
    "    \n",
    "        for file1 in files1:\n",
    "            df_list.append(pd.read_excel(file1))\n",
    "            print (file1.stem)\n",
    "    \n",
    "dataset = pd.concat(df_list, ignore_index = True)"
   ]
  },
  {
   "cell_type": "code",
   "execution_count": 5,
   "metadata": {
    "colab": {},
    "colab_type": "code",
    "id": "B9CV13Co_HHM",
    "ExecuteTime": {
     "end_time": "2024-09-02T13:40:26.334687800Z",
     "start_time": "2024-09-02T13:40:26.235113800Z"
    }
   },
   "outputs": [
    {
     "name": "stdout",
     "output_type": "stream",
     "text": [
      "<class 'pandas.core.frame.DataFrame'>\n",
      "RangeIndex: 43288 entries, 0 to 43287\n",
      "Data columns (total 6 columns):\n",
      " #   Column             Non-Null Count  Dtype  \n",
      "---  ------             --------------  -----  \n",
      " 0   Mass               43288 non-null  float64\n",
      " 1   Standoff distance  43288 non-null  int64  \n",
      " 2   Angle              43288 non-null  int64  \n",
      " 3   Time               43288 non-null  float64\n",
      " 4   Phase              43288 non-null  object \n",
      " 5   Pressure           43288 non-null  float64\n",
      "dtypes: float64(3), int64(2), object(1)\n",
      "memory usage: 2.0+ MB\n"
     ]
    }
   ],
   "source": [
    "dataset.info()"
   ]
  },
  {
   "cell_type": "code",
   "execution_count": 6,
   "outputs": [
    {
     "name": "stdout",
     "output_type": "stream",
     "text": [
      "<class 'pandas.core.frame.DataFrame'>\n",
      "RangeIndex: 43288 entries, 0 to 43287\n",
      "Data columns (total 7 columns):\n",
      " #   Column             Non-Null Count  Dtype  \n",
      "---  ------             --------------  -----  \n",
      " 0   Mass               43288 non-null  float64\n",
      " 1   Standoff distance  43288 non-null  int64  \n",
      " 2   Angle              43288 non-null  int64  \n",
      " 3   Time               43288 non-null  float64\n",
      " 4   Pressure           43288 non-null  float64\n",
      " 5   Phase_negative     43288 non-null  uint8  \n",
      " 6   Phase_positive     43288 non-null  uint8  \n",
      "dtypes: float64(3), int64(2), uint8(2)\n",
      "memory usage: 1.7 MB\n"
     ]
    }
   ],
   "source": [
    "# Assuming your original column is named 'Category'\n",
    "dataset['Phase'] = dataset['Phase'].replace({'negative_increasing': 'negative', 'negative_decreasing': 'negative'})\n",
    "dataset = pd.get_dummies(dataset, columns =['Phase'], dtype = np.uint8)\n",
    "dataset.info()"
   ],
   "metadata": {
    "collapsed": false,
    "ExecuteTime": {
     "end_time": "2024-09-02T13:40:30.681665200Z",
     "start_time": "2024-09-02T13:40:30.488210600Z"
    }
   }
  },
  {
   "cell_type": "code",
   "execution_count": 7,
   "outputs": [
    {
     "data": {
      "text/plain": "    Mass  Standoff distance  Angle       Time   Pressure  Phase_negative  \\\n0    0.5                  7      0  15.668162  26.333164               0   \n1    0.5                  7      0  15.691678  26.252398               0   \n2    0.5                  7      0  15.715176  25.534211               0   \n3    0.5                  7      0  15.762182  23.376023               0   \n4    0.5                  7      0  15.785727  22.375656               0   \n5    0.5                  7      0  15.809281  21.536867               0   \n6    0.5                  7      0  15.879851  19.511992               0   \n7    0.5                  7      0  15.903403  18.672969               0   \n8    0.5                  7      0  15.926977  17.629406               0   \n9    0.5                  7      0  15.950563  16.382414               0   \n10   0.5                  7      0  16.044891  10.647789               0   \n11   0.5                  7      0  16.092088   8.055102               0   \n12   0.5                  7      0  16.139335   5.810031               0   \n13   0.5                  7      0  16.162973   4.831961               0   \n14   0.5                  7      0  16.186616   3.953727               0   \n15   0.5                  7      0  16.210242   3.187508               0   \n16   0.5                  7      0  16.233862   2.531867               0   \n17   0.5                  7      0  16.257500   1.981180               0   \n18   0.5                  7      0  16.281152   1.520602               0   \n19   0.5                  7      0  16.304811   1.131445               0   \n20   0.5                  7      0  16.328474   0.795836               0   \n21   0.5                  7      0  16.352141   0.493000               0   \n22   0.5                  7      0  16.375818   0.218344               0   \n23   0.5                  7      0  16.399508  -0.031602               1   \n24   0.5                  7      0  16.494317  -0.695039               1   \n25   0.5                  7      0  16.589193  -0.821437               1   \n26   0.5                  7      0  16.874395   0.067773               1   \n27   0.5                  7      0  17.041217   0.052289               1   \n28   0.5                  7      0  17.184435   0.158773               1   \n29   0.5                  7      0  17.471491  -0.020711               1   \n\n    Phase_positive  \n0                1  \n1                1  \n2                1  \n3                1  \n4                1  \n5                1  \n6                1  \n7                1  \n8                1  \n9                1  \n10               1  \n11               1  \n12               1  \n13               1  \n14               1  \n15               1  \n16               1  \n17               1  \n18               1  \n19               1  \n20               1  \n21               1  \n22               1  \n23               0  \n24               0  \n25               0  \n26               0  \n27               0  \n28               0  \n29               0  ",
      "text/html": "<div>\n<style scoped>\n    .dataframe tbody tr th:only-of-type {\n        vertical-align: middle;\n    }\n\n    .dataframe tbody tr th {\n        vertical-align: top;\n    }\n\n    .dataframe thead th {\n        text-align: right;\n    }\n</style>\n<table border=\"1\" class=\"dataframe\">\n  <thead>\n    <tr style=\"text-align: right;\">\n      <th></th>\n      <th>Mass</th>\n      <th>Standoff distance</th>\n      <th>Angle</th>\n      <th>Time</th>\n      <th>Pressure</th>\n      <th>Phase_negative</th>\n      <th>Phase_positive</th>\n    </tr>\n  </thead>\n  <tbody>\n    <tr>\n      <th>0</th>\n      <td>0.5</td>\n      <td>7</td>\n      <td>0</td>\n      <td>15.668162</td>\n      <td>26.333164</td>\n      <td>0</td>\n      <td>1</td>\n    </tr>\n    <tr>\n      <th>1</th>\n      <td>0.5</td>\n      <td>7</td>\n      <td>0</td>\n      <td>15.691678</td>\n      <td>26.252398</td>\n      <td>0</td>\n      <td>1</td>\n    </tr>\n    <tr>\n      <th>2</th>\n      <td>0.5</td>\n      <td>7</td>\n      <td>0</td>\n      <td>15.715176</td>\n      <td>25.534211</td>\n      <td>0</td>\n      <td>1</td>\n    </tr>\n    <tr>\n      <th>3</th>\n      <td>0.5</td>\n      <td>7</td>\n      <td>0</td>\n      <td>15.762182</td>\n      <td>23.376023</td>\n      <td>0</td>\n      <td>1</td>\n    </tr>\n    <tr>\n      <th>4</th>\n      <td>0.5</td>\n      <td>7</td>\n      <td>0</td>\n      <td>15.785727</td>\n      <td>22.375656</td>\n      <td>0</td>\n      <td>1</td>\n    </tr>\n    <tr>\n      <th>5</th>\n      <td>0.5</td>\n      <td>7</td>\n      <td>0</td>\n      <td>15.809281</td>\n      <td>21.536867</td>\n      <td>0</td>\n      <td>1</td>\n    </tr>\n    <tr>\n      <th>6</th>\n      <td>0.5</td>\n      <td>7</td>\n      <td>0</td>\n      <td>15.879851</td>\n      <td>19.511992</td>\n      <td>0</td>\n      <td>1</td>\n    </tr>\n    <tr>\n      <th>7</th>\n      <td>0.5</td>\n      <td>7</td>\n      <td>0</td>\n      <td>15.903403</td>\n      <td>18.672969</td>\n      <td>0</td>\n      <td>1</td>\n    </tr>\n    <tr>\n      <th>8</th>\n      <td>0.5</td>\n      <td>7</td>\n      <td>0</td>\n      <td>15.926977</td>\n      <td>17.629406</td>\n      <td>0</td>\n      <td>1</td>\n    </tr>\n    <tr>\n      <th>9</th>\n      <td>0.5</td>\n      <td>7</td>\n      <td>0</td>\n      <td>15.950563</td>\n      <td>16.382414</td>\n      <td>0</td>\n      <td>1</td>\n    </tr>\n    <tr>\n      <th>10</th>\n      <td>0.5</td>\n      <td>7</td>\n      <td>0</td>\n      <td>16.044891</td>\n      <td>10.647789</td>\n      <td>0</td>\n      <td>1</td>\n    </tr>\n    <tr>\n      <th>11</th>\n      <td>0.5</td>\n      <td>7</td>\n      <td>0</td>\n      <td>16.092088</td>\n      <td>8.055102</td>\n      <td>0</td>\n      <td>1</td>\n    </tr>\n    <tr>\n      <th>12</th>\n      <td>0.5</td>\n      <td>7</td>\n      <td>0</td>\n      <td>16.139335</td>\n      <td>5.810031</td>\n      <td>0</td>\n      <td>1</td>\n    </tr>\n    <tr>\n      <th>13</th>\n      <td>0.5</td>\n      <td>7</td>\n      <td>0</td>\n      <td>16.162973</td>\n      <td>4.831961</td>\n      <td>0</td>\n      <td>1</td>\n    </tr>\n    <tr>\n      <th>14</th>\n      <td>0.5</td>\n      <td>7</td>\n      <td>0</td>\n      <td>16.186616</td>\n      <td>3.953727</td>\n      <td>0</td>\n      <td>1</td>\n    </tr>\n    <tr>\n      <th>15</th>\n      <td>0.5</td>\n      <td>7</td>\n      <td>0</td>\n      <td>16.210242</td>\n      <td>3.187508</td>\n      <td>0</td>\n      <td>1</td>\n    </tr>\n    <tr>\n      <th>16</th>\n      <td>0.5</td>\n      <td>7</td>\n      <td>0</td>\n      <td>16.233862</td>\n      <td>2.531867</td>\n      <td>0</td>\n      <td>1</td>\n    </tr>\n    <tr>\n      <th>17</th>\n      <td>0.5</td>\n      <td>7</td>\n      <td>0</td>\n      <td>16.257500</td>\n      <td>1.981180</td>\n      <td>0</td>\n      <td>1</td>\n    </tr>\n    <tr>\n      <th>18</th>\n      <td>0.5</td>\n      <td>7</td>\n      <td>0</td>\n      <td>16.281152</td>\n      <td>1.520602</td>\n      <td>0</td>\n      <td>1</td>\n    </tr>\n    <tr>\n      <th>19</th>\n      <td>0.5</td>\n      <td>7</td>\n      <td>0</td>\n      <td>16.304811</td>\n      <td>1.131445</td>\n      <td>0</td>\n      <td>1</td>\n    </tr>\n    <tr>\n      <th>20</th>\n      <td>0.5</td>\n      <td>7</td>\n      <td>0</td>\n      <td>16.328474</td>\n      <td>0.795836</td>\n      <td>0</td>\n      <td>1</td>\n    </tr>\n    <tr>\n      <th>21</th>\n      <td>0.5</td>\n      <td>7</td>\n      <td>0</td>\n      <td>16.352141</td>\n      <td>0.493000</td>\n      <td>0</td>\n      <td>1</td>\n    </tr>\n    <tr>\n      <th>22</th>\n      <td>0.5</td>\n      <td>7</td>\n      <td>0</td>\n      <td>16.375818</td>\n      <td>0.218344</td>\n      <td>0</td>\n      <td>1</td>\n    </tr>\n    <tr>\n      <th>23</th>\n      <td>0.5</td>\n      <td>7</td>\n      <td>0</td>\n      <td>16.399508</td>\n      <td>-0.031602</td>\n      <td>1</td>\n      <td>0</td>\n    </tr>\n    <tr>\n      <th>24</th>\n      <td>0.5</td>\n      <td>7</td>\n      <td>0</td>\n      <td>16.494317</td>\n      <td>-0.695039</td>\n      <td>1</td>\n      <td>0</td>\n    </tr>\n    <tr>\n      <th>25</th>\n      <td>0.5</td>\n      <td>7</td>\n      <td>0</td>\n      <td>16.589193</td>\n      <td>-0.821437</td>\n      <td>1</td>\n      <td>0</td>\n    </tr>\n    <tr>\n      <th>26</th>\n      <td>0.5</td>\n      <td>7</td>\n      <td>0</td>\n      <td>16.874395</td>\n      <td>0.067773</td>\n      <td>1</td>\n      <td>0</td>\n    </tr>\n    <tr>\n      <th>27</th>\n      <td>0.5</td>\n      <td>7</td>\n      <td>0</td>\n      <td>17.041217</td>\n      <td>0.052289</td>\n      <td>1</td>\n      <td>0</td>\n    </tr>\n    <tr>\n      <th>28</th>\n      <td>0.5</td>\n      <td>7</td>\n      <td>0</td>\n      <td>17.184435</td>\n      <td>0.158773</td>\n      <td>1</td>\n      <td>0</td>\n    </tr>\n    <tr>\n      <th>29</th>\n      <td>0.5</td>\n      <td>7</td>\n      <td>0</td>\n      <td>17.471491</td>\n      <td>-0.020711</td>\n      <td>1</td>\n      <td>0</td>\n    </tr>\n  </tbody>\n</table>\n</div>"
     },
     "execution_count": 7,
     "metadata": {},
     "output_type": "execute_result"
    }
   ],
   "source": [
    "dataset.head(30)"
   ],
   "metadata": {
    "collapsed": false,
    "ExecuteTime": {
     "end_time": "2024-09-02T13:40:33.533346600Z",
     "start_time": "2024-09-02T13:40:33.280189900Z"
    }
   }
  },
  {
   "cell_type": "code",
   "execution_count": 8,
   "metadata": {
    "ExecuteTime": {
     "end_time": "2024-09-02T13:40:35.181732300Z",
     "start_time": "2024-09-02T13:40:34.815466300Z"
    }
   },
   "outputs": [
    {
     "name": "stdout",
     "output_type": "stream",
     "text": [
      "(43288, 6) (43288,)\n"
     ]
    }
   ],
   "source": [
    "y = dataset['Pressure']\n",
    "X = dataset.drop(['Pressure'], axis=1)\n",
    "print(X.shape, y.shape)"
   ]
  },
  {
   "cell_type": "code",
   "execution_count": 9,
   "metadata": {
    "ExecuteTime": {
     "end_time": "2024-09-02T13:40:37.096419200Z",
     "start_time": "2024-09-02T13:40:36.978327700Z"
    }
   },
   "outputs": [],
   "source": [
    "# convert to numpy array\n",
    "X = np.array(X)\n",
    "y = np.array(y)"
   ]
  },
  {
   "cell_type": "code",
   "execution_count": 10,
   "metadata": {
    "colab": {},
    "colab_type": "code",
    "id": "L5edeb2r_agx",
    "ExecuteTime": {
     "end_time": "2024-09-02T13:40:38.775985800Z",
     "start_time": "2024-09-02T13:40:38.365115400Z"
    }
   },
   "outputs": [],
   "source": [
    "from sklearn.model_selection import train_test_split\n",
    "X_train, X_test, y_train, y_test = train_test_split(X,\n",
    "                                                    y,\n",
    "                                                    test_size = 0.4,\n",
    "                                                    random_state = 0)"
   ]
  },
  {
   "cell_type": "code",
   "execution_count": 11,
   "metadata": {
    "colab": {},
    "colab_type": "code",
    "id": "L5edeb2r_agx",
    "ExecuteTime": {
     "end_time": "2024-09-02T13:40:39.986600500Z",
     "start_time": "2024-09-02T13:40:39.851852800Z"
    }
   },
   "outputs": [],
   "source": [
    "X_val, X_test, y_val, y_test = train_test_split(X_test,\n",
    "                                                y_test,\n",
    "                                                test_size = 0.5,\n",
    "                                                random_state = 0)"
   ]
  },
  {
   "cell_type": "code",
   "execution_count": 13,
   "outputs": [
    {
     "name": "stdout",
     "output_type": "stream",
     "text": [
      "[[ 0.23877855 -1.42165282  1.29671652 -0.88120061  0.          1.        ]\n",
      " [-0.53751982  0.39543217  1.29671652  4.60092613  1.          0.        ]\n",
      " [ 0.23877855  0.39543217 -0.53791449 -0.34632664  0.          1.        ]\n",
      " ...\n",
      " [-1.70196738  0.39543217  0.37940102  0.24496622  0.          1.        ]\n",
      " [ 1.40322611  1.30397467  1.29671652  0.9280313   0.          1.        ]\n",
      " [-0.73159441 -1.42165282  0.37940102 -1.24167338  0.          1.        ]]\n"
     ]
    }
   ],
   "source": [
    "from sklearn.preprocessing import StandardScaler\n",
    "#sc = StandardScaler()\n",
    "X_train[:,0:4] = sc.transform(X_train[:, 0:4])\n",
    "print (X_train)"
   ],
   "metadata": {
    "collapsed": false,
    "ExecuteTime": {
     "end_time": "2024-09-02T13:40:59.414315100Z",
     "start_time": "2024-09-02T13:40:59.235187100Z"
    }
   }
  },
  {
   "cell_type": "code",
   "execution_count": 14,
   "outputs": [
    {
     "name": "stdout",
     "output_type": "stream",
     "text": [
      "[[-0.73159441 -1.42165282  0.37940102  0.06079329  1.          0.        ]\n",
      " [-0.14937063  1.30397467 -0.53791449  0.58166448  0.          1.        ]\n",
      " [ 0.23877855 -1.42165282 -1.45523    -1.26731561  0.          1.        ]\n",
      " ...\n",
      " [-0.73159441 -0.51311032  1.29671652  1.63623608  1.          0.        ]\n",
      " [ 0.23877855  1.30397467 -0.53791449 -0.13783423  0.          1.        ]\n",
      " [-1.89604197 -1.42165282 -1.45523    -0.89823987  1.          0.        ]]\n"
     ]
    }
   ],
   "source": [
    "X_test[:,0:4] = sc.transform(X_test[:,0:4])\n",
    "print (X_test)"
   ],
   "metadata": {
    "collapsed": false,
    "ExecuteTime": {
     "end_time": "2024-09-02T13:41:01.205322500Z",
     "start_time": "2024-09-02T13:41:01.005682200Z"
    }
   }
  },
  {
   "cell_type": "code",
   "execution_count": 15,
   "outputs": [
    {
     "name": "stdout",
     "output_type": "stream",
     "text": [
      "[[ 0.04470396  0.39543217 -1.45523    -0.70290327  0.          1.        ]\n",
      " [ 0.62692774  0.39543217  1.29671652  0.3393988   0.          1.        ]\n",
      " [ 0.82100233 -1.42165282  0.37940102 -1.48486668  0.          1.        ]\n",
      " ...\n",
      " [-0.92566901 -0.51311032 -1.45523    -0.30274393  0.          1.        ]\n",
      " [ 0.62692774 -1.42165282  0.37940102 -1.4478925   0.          1.        ]\n",
      " [ 1.20915152  1.30397467 -0.53791449 -0.30902471  0.          1.        ]]\n"
     ]
    }
   ],
   "source": [
    "X_val[:,0:4] = sc.transform(X_val[:,0:4])\n",
    "print (X_val)"
   ],
   "metadata": {
    "collapsed": false,
    "ExecuteTime": {
     "end_time": "2024-09-02T13:41:02.578511500Z",
     "start_time": "2024-09-02T13:41:02.450430200Z"
    }
   }
  },
  {
   "cell_type": "code",
   "execution_count": 16,
   "outputs": [
    {
     "name": "stdout",
     "output_type": "stream",
     "text": [
      "X_train 25972\n",
      "X_test 8658\n",
      "X_val 8658\n"
     ]
    }
   ],
   "source": [
    "print (\"X_train\", len(X_train))\n",
    "print (\"X_test\", len(X_test))\n",
    "print (\"X_val\", len(X_val))"
   ],
   "metadata": {
    "collapsed": false,
    "ExecuteTime": {
     "end_time": "2024-09-02T13:41:03.831091Z",
     "start_time": "2024-09-02T13:41:03.765011700Z"
    }
   }
  },
  {
   "cell_type": "markdown",
   "metadata": {
    "colab_type": "text",
    "id": "_mSLlAT9_eyI"
   },
   "source": [
    "## Part 3 - Building the ANN"
   ]
  },
  {
   "cell_type": "code",
   "execution_count": 15,
   "metadata": {
    "colab": {},
    "colab_type": "code",
    "id": "J6Hd97Ls__Nz",
    "ExecuteTime": {
     "end_time": "2024-08-11T02:24:27.245473700Z",
     "start_time": "2024-08-11T02:24:27.047248400Z"
    }
   },
   "outputs": [],
   "source": [
    "ann = tf.keras.models.Sequential()"
   ]
  },
  {
   "cell_type": "code",
   "execution_count": 16,
   "metadata": {
    "colab": {},
    "colab_type": "code",
    "id": "ksO_Vv40AHix",
    "ExecuteTime": {
     "end_time": "2024-08-11T02:24:27.947523800Z",
     "start_time": "2024-08-11T02:24:27.248478400Z"
    }
   },
   "outputs": [],
   "source": [
    "ann.add(tf.keras.layers.Dense(units=150,\n",
    "                              input_shape=(X_train.shape[1],),\n",
    "                              activation='relu'))\n",
    "ann.add(tf.keras.layers.Dense(units=125,\n",
    "                              activation='relu'))\n",
    "ann.add(tf.keras.layers.Dense(units=100,\n",
    "                              activation='relu'))"
   ]
  },
  {
   "cell_type": "code",
   "execution_count": 17,
   "metadata": {
    "colab": {},
    "colab_type": "code",
    "id": "YFATpzsUAkLL",
    "ExecuteTime": {
     "end_time": "2024-08-11T02:24:28.267884800Z",
     "start_time": "2024-08-11T02:24:27.947523800Z"
    }
   },
   "outputs": [],
   "source": [
    "ann.add(tf.keras.layers.Dense(units=1,\n",
    "                              activation='linear'))"
   ]
  },
  {
   "cell_type": "code",
   "execution_count": 18,
   "metadata": {
    "ExecuteTime": {
     "end_time": "2024-08-11T02:24:28.809195700Z",
     "start_time": "2024-08-11T02:24:28.268893600Z"
    }
   },
   "outputs": [
    {
     "name": "stdout",
     "output_type": "stream",
     "text": [
      "Model: \"sequential\"\n",
      "_________________________________________________________________\n",
      " Layer (type)                Output Shape              Param #   \n",
      "=================================================================\n",
      " dense (Dense)               (None, 150)               1050      \n",
      "                                                                 \n",
      " dense_1 (Dense)             (None, 125)               18875     \n",
      "                                                                 \n",
      " dense_2 (Dense)             (None, 100)               12600     \n",
      "                                                                 \n",
      " dense_3 (Dense)             (None, 1)                 101       \n",
      "                                                                 \n",
      "=================================================================\n",
      "Total params: 32,626\n",
      "Trainable params: 32,626\n",
      "Non-trainable params: 0\n",
      "_________________________________________________________________\n"
     ]
    }
   ],
   "source": [
    "ann.summary()"
   ]
  },
  {
   "cell_type": "markdown",
   "metadata": {
    "colab_type": "text",
    "id": "fq7e4fF6A1yy"
   },
   "source": [
    "## Part 4 - Training the ANN"
   ]
  },
  {
   "cell_type": "code",
   "execution_count": 19,
   "metadata": {
    "colab": {},
    "colab_type": "code",
    "id": "pesgbWlCAtB4",
    "ExecuteTime": {
     "end_time": "2024-08-11T02:24:29.181542600Z",
     "start_time": "2024-08-11T02:24:28.770664600Z"
    }
   },
   "outputs": [],
   "source": [
    "# from tensorflow.keras.optimizers import Adam\n",
    "from keras.optimizers import Adam\n",
    "opt = Adam(learning_rate=0.001)\n",
    "ann.compile(optimizer = opt,\n",
    "            loss = 'mean_squared_error',\n",
    "            metrics = ['mae'])"
   ]
  },
  {
   "cell_type": "code",
   "execution_count": 20,
   "metadata": {
    "ExecuteTime": {
     "end_time": "2024-08-11T02:24:29.547292200Z",
     "start_time": "2024-08-11T02:24:29.183541Z"
    }
   },
   "outputs": [],
   "source": [
    "# protects from unnecessary further training of the model if a particular metric does not continue to improve over a number of n epochs. In such a case, the model training would be automatically aborted.\n",
    "from keras.callbacks import EarlyStopping\n",
    "es = EarlyStopping(monitor='val_loss',\n",
    "                   mode='min',\n",
    "                   patience=50,\n",
    "                   restore_best_weights = True)"
   ]
  },
  {
   "cell_type": "code",
   "execution_count": 21,
   "metadata": {
    "colab": {
     "base_uri": "https://localhost:8080/",
     "height": 1000
    },
    "colab_type": "code",
    "id": "c_vV-tiiA5zn",
    "outputId": "4a2b6ee6-ed75-4698-9069-b250e613803f",
    "ExecuteTime": {
     "end_time": "2024-08-11T02:37:16.067492800Z",
     "start_time": "2024-08-11T02:24:29.547292200Z"
    }
   },
   "outputs": [
    {
     "name": "stdout",
     "output_type": "stream",
     "text": [
      "Epoch 1/500\n",
      "650/650 [==============================] - 31s 46ms/step - loss: 556.2618 - mae: 10.3169 - val_loss: 233.9740 - val_mae: 5.8401\n",
      "Epoch 2/500\n",
      "650/650 [==============================] - 4s 6ms/step - loss: 217.2049 - mae: 5.7350 - val_loss: 134.9558 - val_mae: 5.1747\n",
      "Epoch 3/500\n",
      "650/650 [==============================] - 4s 6ms/step - loss: 128.7878 - mae: 4.4377 - val_loss: 82.9583 - val_mae: 3.7007\n",
      "Epoch 4/500\n",
      "650/650 [==============================] - 3s 5ms/step - loss: 120.5808 - mae: 4.2151 - val_loss: 99.3195 - val_mae: 3.6733\n",
      "Epoch 5/500\n",
      "650/650 [==============================] - 3s 5ms/step - loss: 78.9406 - mae: 3.4516 - val_loss: 48.0026 - val_mae: 3.0337\n",
      "Epoch 6/500\n",
      "650/650 [==============================] - 4s 6ms/step - loss: 79.0396 - mae: 3.4437 - val_loss: 60.1217 - val_mae: 3.0158\n",
      "Epoch 7/500\n",
      "650/650 [==============================] - 4s 6ms/step - loss: 91.9574 - mae: 3.8069 - val_loss: 53.7354 - val_mae: 2.8587\n",
      "Epoch 8/500\n",
      "650/650 [==============================] - 4s 6ms/step - loss: 68.1367 - mae: 3.0474 - val_loss: 30.5877 - val_mae: 2.1876\n",
      "Epoch 9/500\n",
      "650/650 [==============================] - 4s 6ms/step - loss: 58.1781 - mae: 2.8833 - val_loss: 27.9909 - val_mae: 2.2011\n",
      "Epoch 10/500\n",
      "650/650 [==============================] - 4s 6ms/step - loss: 68.8825 - mae: 3.1074 - val_loss: 17.7270 - val_mae: 1.9737\n",
      "Epoch 11/500\n",
      "650/650 [==============================] - 4s 6ms/step - loss: 45.7271 - mae: 2.5329 - val_loss: 34.5170 - val_mae: 2.2215\n",
      "Epoch 12/500\n",
      "650/650 [==============================] - 3s 5ms/step - loss: 66.4350 - mae: 2.9883 - val_loss: 18.7116 - val_mae: 1.7690\n",
      "Epoch 13/500\n",
      "650/650 [==============================] - 3s 5ms/step - loss: 38.8208 - mae: 2.4366 - val_loss: 12.8737 - val_mae: 1.6823\n",
      "Epoch 14/500\n",
      "650/650 [==============================] - 3s 5ms/step - loss: 59.9883 - mae: 2.8021 - val_loss: 27.8045 - val_mae: 2.7688\n",
      "Epoch 15/500\n",
      "650/650 [==============================] - 3s 5ms/step - loss: 38.8053 - mae: 2.3953 - val_loss: 29.0193 - val_mae: 2.2432\n",
      "Epoch 16/500\n",
      "650/650 [==============================] - 4s 5ms/step - loss: 43.5717 - mae: 2.3679 - val_loss: 9.8670 - val_mae: 1.5593\n",
      "Epoch 17/500\n",
      "650/650 [==============================] - 3s 4ms/step - loss: 49.3838 - mae: 2.6715 - val_loss: 30.9533 - val_mae: 2.8865\n",
      "Epoch 18/500\n",
      "650/650 [==============================] - 3s 5ms/step - loss: 50.0440 - mae: 2.3334 - val_loss: 434.0662 - val_mae: 9.6139\n",
      "Epoch 19/500\n",
      "650/650 [==============================] - 3s 5ms/step - loss: 88.1867 - mae: 3.5074 - val_loss: 9.2634 - val_mae: 1.5884\n",
      "Epoch 20/500\n",
      "650/650 [==============================] - 3s 5ms/step - loss: 46.6190 - mae: 2.4656 - val_loss: 9.9585 - val_mae: 1.4594\n",
      "Epoch 21/500\n",
      "650/650 [==============================] - 3s 4ms/step - loss: 27.5318 - mae: 2.0360 - val_loss: 7.1153 - val_mae: 1.3155\n",
      "Epoch 22/500\n",
      "650/650 [==============================] - 3s 4ms/step - loss: 43.1097 - mae: 2.4380 - val_loss: 11.8776 - val_mae: 1.5692\n",
      "Epoch 23/500\n",
      "650/650 [==============================] - 3s 4ms/step - loss: 51.5992 - mae: 2.6067 - val_loss: 33.2129 - val_mae: 3.1877\n",
      "Epoch 24/500\n",
      "650/650 [==============================] - 3s 5ms/step - loss: 28.3175 - mae: 1.9181 - val_loss: 7.1152 - val_mae: 1.2729\n",
      "Epoch 25/500\n",
      "650/650 [==============================] - 3s 4ms/step - loss: 36.0427 - mae: 2.1082 - val_loss: 35.4888 - val_mae: 2.2452\n",
      "Epoch 26/500\n",
      "650/650 [==============================] - 3s 5ms/step - loss: 24.7050 - mae: 1.8570 - val_loss: 7.4043 - val_mae: 1.2430\n",
      "Epoch 27/500\n",
      "650/650 [==============================] - 3s 5ms/step - loss: 47.0471 - mae: 2.4106 - val_loss: 14.2221 - val_mae: 1.8642\n",
      "Epoch 28/500\n",
      "650/650 [==============================] - 3s 4ms/step - loss: 39.4917 - mae: 2.3122 - val_loss: 9.2509 - val_mae: 1.3429\n",
      "Epoch 29/500\n",
      "650/650 [==============================] - 3s 4ms/step - loss: 37.1289 - mae: 2.1199 - val_loss: 26.3363 - val_mae: 1.9666\n",
      "Epoch 30/500\n",
      "650/650 [==============================] - 3s 5ms/step - loss: 24.5933 - mae: 1.7474 - val_loss: 11.6498 - val_mae: 1.6084\n",
      "Epoch 31/500\n",
      "650/650 [==============================] - 4s 6ms/step - loss: 48.1017 - mae: 2.2651 - val_loss: 168.7157 - val_mae: 7.3678\n",
      "Epoch 32/500\n",
      "650/650 [==============================] - 3s 5ms/step - loss: 37.5640 - mae: 2.3201 - val_loss: 53.0651 - val_mae: 3.1394\n",
      "Epoch 33/500\n",
      "650/650 [==============================] - 3s 5ms/step - loss: 37.7317 - mae: 2.2763 - val_loss: 15.9348 - val_mae: 1.6733\n",
      "Epoch 34/500\n",
      "650/650 [==============================] - 3s 5ms/step - loss: 14.6602 - mae: 1.5363 - val_loss: 17.3706 - val_mae: 1.4917\n",
      "Epoch 35/500\n",
      "650/650 [==============================] - 3s 5ms/step - loss: 59.7838 - mae: 2.6709 - val_loss: 75.5795 - val_mae: 4.8204\n",
      "Epoch 36/500\n",
      "650/650 [==============================] - 3s 5ms/step - loss: 47.0857 - mae: 2.3773 - val_loss: 18.1485 - val_mae: 1.8246\n",
      "Epoch 37/500\n",
      "650/650 [==============================] - 3s 4ms/step - loss: 32.1857 - mae: 1.9008 - val_loss: 11.2764 - val_mae: 1.5617\n",
      "Epoch 38/500\n",
      "650/650 [==============================] - 3s 5ms/step - loss: 44.3410 - mae: 2.0979 - val_loss: 23.6412 - val_mae: 1.7337\n",
      "Epoch 39/500\n",
      "650/650 [==============================] - 3s 4ms/step - loss: 35.2994 - mae: 1.9621 - val_loss: 146.0007 - val_mae: 3.6376\n",
      "Epoch 40/500\n",
      "650/650 [==============================] - 3s 5ms/step - loss: 44.9258 - mae: 2.0305 - val_loss: 6.0957 - val_mae: 1.2447\n",
      "Epoch 41/500\n",
      "650/650 [==============================] - 3s 5ms/step - loss: 54.3410 - mae: 2.4249 - val_loss: 7.0531 - val_mae: 1.3678\n",
      "Epoch 42/500\n",
      "650/650 [==============================] - 3s 5ms/step - loss: 35.7713 - mae: 2.1625 - val_loss: 9.3622 - val_mae: 1.2887\n",
      "Epoch 43/500\n",
      "650/650 [==============================] - 4s 5ms/step - loss: 28.3214 - mae: 1.9532 - val_loss: 6.3121 - val_mae: 1.2863\n",
      "Epoch 44/500\n",
      "650/650 [==============================] - 3s 5ms/step - loss: 41.5867 - mae: 2.2998 - val_loss: 13.8129 - val_mae: 1.8657\n",
      "Epoch 45/500\n",
      "650/650 [==============================] - 3s 5ms/step - loss: 39.4316 - mae: 2.0689 - val_loss: 7.3756 - val_mae: 1.2728\n",
      "Epoch 46/500\n",
      "650/650 [==============================] - 3s 4ms/step - loss: 38.4931 - mae: 2.0120 - val_loss: 4.5269 - val_mae: 1.1132\n",
      "Epoch 47/500\n",
      "650/650 [==============================] - 3s 5ms/step - loss: 14.7483 - mae: 1.5118 - val_loss: 141.0503 - val_mae: 4.7545\n",
      "Epoch 48/500\n",
      "650/650 [==============================] - 3s 4ms/step - loss: 18.1797 - mae: 1.7089 - val_loss: 5.9223 - val_mae: 1.1111\n",
      "Epoch 49/500\n",
      "650/650 [==============================] - 3s 4ms/step - loss: 34.9591 - mae: 2.1343 - val_loss: 19.8896 - val_mae: 2.3165\n",
      "Epoch 50/500\n",
      "650/650 [==============================] - 3s 5ms/step - loss: 28.5349 - mae: 1.8941 - val_loss: 11.1268 - val_mae: 1.4337\n",
      "Epoch 51/500\n",
      "650/650 [==============================] - 3s 5ms/step - loss: 24.8600 - mae: 1.7101 - val_loss: 7.7307 - val_mae: 1.2997\n",
      "Epoch 52/500\n",
      "650/650 [==============================] - 3s 5ms/step - loss: 30.6430 - mae: 1.8354 - val_loss: 23.8791 - val_mae: 1.9150\n",
      "Epoch 53/500\n",
      "650/650 [==============================] - 3s 4ms/step - loss: 18.5729 - mae: 1.6696 - val_loss: 5.9093 - val_mae: 1.1935\n",
      "Epoch 54/500\n",
      "650/650 [==============================] - 3s 5ms/step - loss: 13.2212 - mae: 1.4155 - val_loss: 5.7504 - val_mae: 1.4134\n",
      "Epoch 55/500\n",
      "650/650 [==============================] - 3s 4ms/step - loss: 36.7882 - mae: 2.0855 - val_loss: 15.8661 - val_mae: 1.3843\n",
      "Epoch 56/500\n",
      "650/650 [==============================] - 3s 4ms/step - loss: 26.7101 - mae: 1.8353 - val_loss: 3.2835 - val_mae: 0.9294\n",
      "Epoch 57/500\n",
      "650/650 [==============================] - 3s 5ms/step - loss: 27.9453 - mae: 1.8673 - val_loss: 17.9879 - val_mae: 1.8546\n",
      "Epoch 58/500\n",
      "650/650 [==============================] - 3s 5ms/step - loss: 19.0137 - mae: 1.5585 - val_loss: 5.8256 - val_mae: 1.1172\n",
      "Epoch 59/500\n",
      "650/650 [==============================] - 3s 5ms/step - loss: 18.7512 - mae: 1.5754 - val_loss: 18.6641 - val_mae: 1.7873\n",
      "Epoch 60/500\n",
      "650/650 [==============================] - 3s 5ms/step - loss: 39.5088 - mae: 2.1419 - val_loss: 10.2498 - val_mae: 1.6254\n",
      "Epoch 61/500\n",
      "650/650 [==============================] - 3s 5ms/step - loss: 27.1147 - mae: 1.8900 - val_loss: 6.4668 - val_mae: 1.2234\n",
      "Epoch 62/500\n",
      "650/650 [==============================] - 3s 5ms/step - loss: 21.8544 - mae: 1.6339 - val_loss: 3.7189 - val_mae: 1.0472\n",
      "Epoch 63/500\n",
      "650/650 [==============================] - 3s 5ms/step - loss: 83.0618 - mae: 2.9638 - val_loss: 9.0916 - val_mae: 1.5325\n",
      "Epoch 64/500\n",
      "650/650 [==============================] - 3s 5ms/step - loss: 29.1680 - mae: 1.8362 - val_loss: 3.4841 - val_mae: 0.9746\n",
      "Epoch 65/500\n",
      "650/650 [==============================] - 3s 5ms/step - loss: 11.2091 - mae: 1.3981 - val_loss: 45.5404 - val_mae: 2.7527\n",
      "Epoch 66/500\n",
      "650/650 [==============================] - 3s 5ms/step - loss: 29.1143 - mae: 1.9978 - val_loss: 7.0834 - val_mae: 1.1977\n",
      "Epoch 67/500\n",
      "650/650 [==============================] - 3s 5ms/step - loss: 51.8102 - mae: 2.2757 - val_loss: 15.6639 - val_mae: 2.0409\n",
      "Epoch 68/500\n",
      "650/650 [==============================] - 3s 5ms/step - loss: 28.8694 - mae: 1.7858 - val_loss: 3.0691 - val_mae: 0.8673\n",
      "Epoch 69/500\n",
      "650/650 [==============================] - 3s 5ms/step - loss: 11.6810 - mae: 1.3619 - val_loss: 5.1316 - val_mae: 1.0430\n",
      "Epoch 70/500\n",
      "650/650 [==============================] - 3s 5ms/step - loss: 10.7487 - mae: 1.3061 - val_loss: 4.4867 - val_mae: 1.0601\n",
      "Epoch 71/500\n",
      "650/650 [==============================] - 3s 5ms/step - loss: 21.0308 - mae: 1.7493 - val_loss: 8.5354 - val_mae: 1.3117\n",
      "Epoch 72/500\n",
      "650/650 [==============================] - 3s 5ms/step - loss: 34.4093 - mae: 1.9736 - val_loss: 3.6761 - val_mae: 0.8798\n",
      "Epoch 73/500\n",
      "650/650 [==============================] - 3s 5ms/step - loss: 32.3260 - mae: 1.9549 - val_loss: 6.1874 - val_mae: 1.2812\n",
      "Epoch 74/500\n",
      "650/650 [==============================] - 3s 4ms/step - loss: 15.8587 - mae: 1.3911 - val_loss: 2.6451 - val_mae: 0.8842\n",
      "Epoch 75/500\n",
      "650/650 [==============================] - 3s 4ms/step - loss: 16.0449 - mae: 1.4465 - val_loss: 7.4555 - val_mae: 1.2578\n",
      "Epoch 76/500\n",
      "650/650 [==============================] - 3s 4ms/step - loss: 15.1446 - mae: 1.4267 - val_loss: 7.0057 - val_mae: 1.2812\n",
      "Epoch 77/500\n",
      "650/650 [==============================] - 3s 4ms/step - loss: 12.8487 - mae: 1.3577 - val_loss: 161.7369 - val_mae: 4.7428\n",
      "Epoch 78/500\n",
      "650/650 [==============================] - 3s 5ms/step - loss: 28.1174 - mae: 2.0179 - val_loss: 8.1901 - val_mae: 1.2506\n",
      "Epoch 79/500\n",
      "650/650 [==============================] - 3s 4ms/step - loss: 23.6214 - mae: 1.6880 - val_loss: 7.8347 - val_mae: 1.2697\n",
      "Epoch 80/500\n",
      "650/650 [==============================] - 3s 5ms/step - loss: 9.6450 - mae: 1.2249 - val_loss: 12.0992 - val_mae: 1.2621\n",
      "Epoch 81/500\n",
      "650/650 [==============================] - 3s 5ms/step - loss: 23.8287 - mae: 1.6398 - val_loss: 5.6154 - val_mae: 1.2186\n",
      "Epoch 82/500\n",
      "650/650 [==============================] - 3s 4ms/step - loss: 44.4180 - mae: 2.1885 - val_loss: 5.7868 - val_mae: 1.1215\n",
      "Epoch 83/500\n",
      "650/650 [==============================] - 3s 5ms/step - loss: 18.4225 - mae: 1.6051 - val_loss: 48.0056 - val_mae: 2.4638\n",
      "Epoch 84/500\n",
      "650/650 [==============================] - 3s 4ms/step - loss: 40.6714 - mae: 2.1249 - val_loss: 3.7727 - val_mae: 0.9123\n",
      "Epoch 85/500\n",
      "650/650 [==============================] - 3s 4ms/step - loss: 13.7921 - mae: 1.4063 - val_loss: 7.6620 - val_mae: 1.0558\n",
      "Epoch 86/500\n",
      "650/650 [==============================] - 3s 4ms/step - loss: 38.1057 - mae: 2.0325 - val_loss: 3.5528 - val_mae: 0.9337\n",
      "Epoch 87/500\n",
      "650/650 [==============================] - 3s 5ms/step - loss: 26.9657 - mae: 1.6943 - val_loss: 59.4866 - val_mae: 3.8957\n",
      "Epoch 88/500\n",
      "650/650 [==============================] - 3s 5ms/step - loss: 26.6002 - mae: 1.7986 - val_loss: 5.7339 - val_mae: 1.1350\n",
      "Epoch 89/500\n",
      "650/650 [==============================] - 3s 4ms/step - loss: 23.8641 - mae: 1.6183 - val_loss: 2.3216 - val_mae: 0.7968\n",
      "Epoch 90/500\n",
      "650/650 [==============================] - 3s 5ms/step - loss: 18.2742 - mae: 1.4232 - val_loss: 18.5217 - val_mae: 1.4385\n",
      "Epoch 91/500\n",
      "650/650 [==============================] - 3s 5ms/step - loss: 21.4107 - mae: 1.5642 - val_loss: 155.9186 - val_mae: 3.8067\n",
      "Epoch 92/500\n",
      "650/650 [==============================] - 3s 4ms/step - loss: 10.7417 - mae: 1.1786 - val_loss: 5.2949 - val_mae: 1.0239\n",
      "Epoch 93/500\n",
      "650/650 [==============================] - 3s 4ms/step - loss: 20.0834 - mae: 1.5990 - val_loss: 3.7267 - val_mae: 0.9895\n",
      "Epoch 94/500\n",
      "650/650 [==============================] - 3s 4ms/step - loss: 16.8715 - mae: 1.4461 - val_loss: 13.0696 - val_mae: 1.3682\n",
      "Epoch 95/500\n",
      "650/650 [==============================] - 3s 4ms/step - loss: 21.8644 - mae: 1.3925 - val_loss: 20.2334 - val_mae: 2.5569\n",
      "Epoch 96/500\n",
      "650/650 [==============================] - 3s 5ms/step - loss: 17.4659 - mae: 1.4845 - val_loss: 19.4679 - val_mae: 1.5127\n",
      "Epoch 97/500\n",
      "650/650 [==============================] - 3s 5ms/step - loss: 36.3623 - mae: 2.0820 - val_loss: 11.2159 - val_mae: 1.4996\n",
      "Epoch 98/500\n",
      "650/650 [==============================] - 3s 5ms/step - loss: 23.1379 - mae: 1.5952 - val_loss: 41.9223 - val_mae: 2.8752\n",
      "Epoch 99/500\n",
      "650/650 [==============================] - 3s 4ms/step - loss: 18.6254 - mae: 1.4576 - val_loss: 2.6163 - val_mae: 0.7865\n",
      "Epoch 100/500\n",
      "650/650 [==============================] - 3s 5ms/step - loss: 26.4096 - mae: 1.7977 - val_loss: 2.7155 - val_mae: 0.8439\n",
      "Epoch 101/500\n",
      "650/650 [==============================] - 3s 5ms/step - loss: 7.7832 - mae: 1.0954 - val_loss: 14.0566 - val_mae: 1.6878\n",
      "Epoch 102/500\n",
      "650/650 [==============================] - 3s 4ms/step - loss: 21.2163 - mae: 1.6662 - val_loss: 4.1881 - val_mae: 0.9951\n",
      "Epoch 103/500\n",
      "650/650 [==============================] - 3s 5ms/step - loss: 19.9918 - mae: 1.5151 - val_loss: 16.9153 - val_mae: 1.7586\n",
      "Epoch 104/500\n",
      "650/650 [==============================] - 3s 4ms/step - loss: 29.8233 - mae: 1.8397 - val_loss: 5.4503 - val_mae: 1.0088\n",
      "Epoch 105/500\n",
      "650/650 [==============================] - 3s 5ms/step - loss: 7.6235 - mae: 1.1447 - val_loss: 5.6961 - val_mae: 0.9889\n",
      "Epoch 106/500\n",
      "650/650 [==============================] - 3s 4ms/step - loss: 19.1166 - mae: 1.5535 - val_loss: 17.2030 - val_mae: 1.8127\n",
      "Epoch 107/500\n",
      "650/650 [==============================] - 3s 4ms/step - loss: 9.0827 - mae: 1.1386 - val_loss: 228.7259 - val_mae: 4.7171\n",
      "Epoch 108/500\n",
      "650/650 [==============================] - 3s 4ms/step - loss: 25.3156 - mae: 1.7297 - val_loss: 2.1692 - val_mae: 0.7370\n",
      "Epoch 109/500\n",
      "650/650 [==============================] - 3s 5ms/step - loss: 14.5616 - mae: 1.3247 - val_loss: 3.1242 - val_mae: 0.8994\n",
      "Epoch 110/500\n",
      "650/650 [==============================] - 3s 4ms/step - loss: 32.8095 - mae: 1.8398 - val_loss: 5.9606 - val_mae: 1.0531\n",
      "Epoch 111/500\n",
      "650/650 [==============================] - 3s 4ms/step - loss: 9.1708 - mae: 1.0608 - val_loss: 62.3772 - val_mae: 3.1952\n",
      "Epoch 112/500\n",
      "650/650 [==============================] - 3s 4ms/step - loss: 33.9258 - mae: 1.9727 - val_loss: 13.6517 - val_mae: 1.8387\n",
      "Epoch 113/500\n",
      "650/650 [==============================] - 3s 4ms/step - loss: 14.7365 - mae: 1.3188 - val_loss: 15.2991 - val_mae: 1.4263\n",
      "Epoch 114/500\n",
      "650/650 [==============================] - 3s 5ms/step - loss: 17.6104 - mae: 1.3299 - val_loss: 6.4235 - val_mae: 1.0351\n",
      "Epoch 115/500\n",
      "650/650 [==============================] - 3s 5ms/step - loss: 11.9297 - mae: 1.2341 - val_loss: 30.5588 - val_mae: 2.0149\n",
      "Epoch 116/500\n",
      "650/650 [==============================] - 3s 5ms/step - loss: 21.0712 - mae: 1.6126 - val_loss: 6.5633 - val_mae: 1.0378\n",
      "Epoch 117/500\n",
      "650/650 [==============================] - 3s 5ms/step - loss: 12.4867 - mae: 1.2611 - val_loss: 6.6760 - val_mae: 1.2633\n",
      "Epoch 118/500\n",
      "650/650 [==============================] - 3s 5ms/step - loss: 15.6758 - mae: 1.2795 - val_loss: 2.1014 - val_mae: 0.7491\n",
      "Epoch 119/500\n",
      "650/650 [==============================] - 3s 4ms/step - loss: 51.7485 - mae: 2.4294 - val_loss: 12.5170 - val_mae: 1.9195\n",
      "Epoch 120/500\n",
      "650/650 [==============================] - 3s 4ms/step - loss: 7.4685 - mae: 1.1172 - val_loss: 6.5700 - val_mae: 1.1120\n",
      "Epoch 121/500\n",
      "650/650 [==============================] - 3s 5ms/step - loss: 21.3597 - mae: 1.5278 - val_loss: 5.3072 - val_mae: 1.1101\n",
      "Epoch 122/500\n",
      "650/650 [==============================] - 3s 4ms/step - loss: 16.4814 - mae: 1.3987 - val_loss: 6.0466 - val_mae: 1.1335\n",
      "Epoch 123/500\n",
      "650/650 [==============================] - 3s 4ms/step - loss: 15.6372 - mae: 1.3084 - val_loss: 3.6518 - val_mae: 1.0067\n",
      "Epoch 124/500\n",
      "650/650 [==============================] - 3s 4ms/step - loss: 28.9556 - mae: 1.5002 - val_loss: 23.9553 - val_mae: 1.9160\n",
      "Epoch 125/500\n",
      "650/650 [==============================] - 3s 4ms/step - loss: 11.6133 - mae: 1.2306 - val_loss: 17.9923 - val_mae: 1.6449\n",
      "Epoch 126/500\n",
      "650/650 [==============================] - 3s 4ms/step - loss: 31.1747 - mae: 1.8183 - val_loss: 12.4169 - val_mae: 1.5259\n",
      "Epoch 127/500\n",
      "650/650 [==============================] - 3s 4ms/step - loss: 12.4272 - mae: 1.2089 - val_loss: 8.5422 - val_mae: 1.0241\n",
      "Epoch 128/500\n",
      "650/650 [==============================] - 3s 4ms/step - loss: 26.6545 - mae: 1.6267 - val_loss: 12.8058 - val_mae: 1.6436\n",
      "Epoch 129/500\n",
      "650/650 [==============================] - 3s 4ms/step - loss: 12.7912 - mae: 1.3082 - val_loss: 7.7876 - val_mae: 1.3799\n",
      "Epoch 130/500\n",
      "650/650 [==============================] - 3s 4ms/step - loss: 13.4360 - mae: 1.2454 - val_loss: 164.6807 - val_mae: 4.6414\n",
      "Epoch 131/500\n",
      "650/650 [==============================] - 3s 5ms/step - loss: 21.0138 - mae: 1.4023 - val_loss: 7.9716 - val_mae: 0.9707\n",
      "Epoch 132/500\n",
      "650/650 [==============================] - 3s 5ms/step - loss: 32.3525 - mae: 1.7333 - val_loss: 13.1646 - val_mae: 1.5299\n",
      "Epoch 133/500\n",
      "650/650 [==============================] - 3s 5ms/step - loss: 14.2027 - mae: 1.2603 - val_loss: 11.3526 - val_mae: 1.1537\n",
      "Epoch 134/500\n",
      "650/650 [==============================] - 3s 5ms/step - loss: 17.4840 - mae: 1.4726 - val_loss: 16.7253 - val_mae: 1.4212\n",
      "Epoch 135/500\n",
      "650/650 [==============================] - 3s 5ms/step - loss: 32.5330 - mae: 1.6311 - val_loss: 5.7303 - val_mae: 1.1118\n",
      "Epoch 136/500\n",
      "650/650 [==============================] - 3s 4ms/step - loss: 9.2182 - mae: 1.1597 - val_loss: 21.6187 - val_mae: 1.5946\n",
      "Epoch 137/500\n",
      "650/650 [==============================] - 3s 5ms/step - loss: 19.3079 - mae: 1.4543 - val_loss: 3.4129 - val_mae: 0.9119\n",
      "Epoch 138/500\n",
      "650/650 [==============================] - 3s 5ms/step - loss: 25.5477 - mae: 1.5767 - val_loss: 10.3703 - val_mae: 1.4517\n",
      "Epoch 139/500\n",
      "650/650 [==============================] - 3s 4ms/step - loss: 10.6324 - mae: 1.1427 - val_loss: 30.9619 - val_mae: 2.0220\n",
      "Epoch 140/500\n",
      "650/650 [==============================] - 3s 4ms/step - loss: 8.8796 - mae: 1.0905 - val_loss: 4.0510 - val_mae: 1.1295\n",
      "Epoch 141/500\n",
      "650/650 [==============================] - 3s 4ms/step - loss: 10.0958 - mae: 1.1546 - val_loss: 21.0788 - val_mae: 1.5141\n",
      "Epoch 142/500\n",
      "650/650 [==============================] - 3s 5ms/step - loss: 13.2255 - mae: 1.3426 - val_loss: 3.4115 - val_mae: 0.8468\n",
      "Epoch 143/500\n",
      "650/650 [==============================] - 3s 5ms/step - loss: 12.1202 - mae: 1.2864 - val_loss: 6.4695 - val_mae: 1.3066\n",
      "Epoch 144/500\n",
      "650/650 [==============================] - 3s 5ms/step - loss: 18.3771 - mae: 1.2608 - val_loss: 2.4388 - val_mae: 0.6929\n",
      "Epoch 145/500\n",
      "650/650 [==============================] - 3s 5ms/step - loss: 28.5912 - mae: 1.4713 - val_loss: 4.2160 - val_mae: 0.9457\n",
      "Epoch 146/500\n",
      "650/650 [==============================] - 3s 4ms/step - loss: 10.0252 - mae: 1.1596 - val_loss: 3.1696 - val_mae: 0.9481\n",
      "Epoch 147/500\n",
      "650/650 [==============================] - 3s 4ms/step - loss: 8.2239 - mae: 1.0428 - val_loss: 4.3175 - val_mae: 0.9438\n",
      "Epoch 148/500\n",
      "650/650 [==============================] - 3s 4ms/step - loss: 22.6150 - mae: 1.5171 - val_loss: 8.0408 - val_mae: 1.4536\n",
      "Epoch 149/500\n",
      "650/650 [==============================] - 3s 5ms/step - loss: 14.8557 - mae: 1.3311 - val_loss: 21.1626 - val_mae: 2.0628\n",
      "Epoch 150/500\n",
      "650/650 [==============================] - 3s 5ms/step - loss: 13.0170 - mae: 1.2889 - val_loss: 16.1263 - val_mae: 1.6037\n",
      "Epoch 151/500\n",
      "650/650 [==============================] - 3s 5ms/step - loss: 7.4122 - mae: 1.0095 - val_loss: 2.2323 - val_mae: 0.6626\n",
      "Epoch 152/500\n",
      "650/650 [==============================] - 3s 4ms/step - loss: 10.8367 - mae: 1.2291 - val_loss: 1.7428 - val_mae: 0.6557\n",
      "Epoch 153/500\n",
      "650/650 [==============================] - 3s 5ms/step - loss: 14.2981 - mae: 1.2002 - val_loss: 1.6263 - val_mae: 0.6366\n",
      "Epoch 154/500\n",
      "650/650 [==============================] - 3s 4ms/step - loss: 9.0190 - mae: 1.0561 - val_loss: 38.1752 - val_mae: 2.0789\n",
      "Epoch 155/500\n",
      "650/650 [==============================] - 3s 5ms/step - loss: 15.5261 - mae: 1.2845 - val_loss: 15.3240 - val_mae: 1.8240\n",
      "Epoch 156/500\n",
      "650/650 [==============================] - 3s 5ms/step - loss: 18.1747 - mae: 1.4578 - val_loss: 4.0534 - val_mae: 0.8495\n",
      "Epoch 157/500\n",
      "650/650 [==============================] - 3s 4ms/step - loss: 15.4250 - mae: 1.2425 - val_loss: 9.1472 - val_mae: 1.4354\n",
      "Epoch 158/500\n",
      "650/650 [==============================] - 3s 5ms/step - loss: 25.1637 - mae: 1.7010 - val_loss: 6.9639 - val_mae: 1.2045\n",
      "Epoch 159/500\n",
      "650/650 [==============================] - 3s 5ms/step - loss: 14.7619 - mae: 1.2097 - val_loss: 1.8324 - val_mae: 0.6478\n",
      "Epoch 160/500\n",
      "650/650 [==============================] - 3s 5ms/step - loss: 15.3663 - mae: 1.3002 - val_loss: 2.1686 - val_mae: 0.7232\n",
      "Epoch 161/500\n",
      "650/650 [==============================] - 3s 5ms/step - loss: 14.3843 - mae: 1.3567 - val_loss: 3.2614 - val_mae: 0.8574\n",
      "Epoch 162/500\n",
      "650/650 [==============================] - 3s 5ms/step - loss: 13.1346 - mae: 1.2005 - val_loss: 12.9553 - val_mae: 1.4700\n",
      "Epoch 163/500\n",
      "650/650 [==============================] - 3s 5ms/step - loss: 20.9612 - mae: 1.5621 - val_loss: 2.3103 - val_mae: 0.7584\n",
      "Epoch 164/500\n",
      "650/650 [==============================] - 3s 5ms/step - loss: 17.0854 - mae: 1.2944 - val_loss: 207.1984 - val_mae: 3.9430\n",
      "Epoch 165/500\n",
      "650/650 [==============================] - 3s 4ms/step - loss: 11.9889 - mae: 1.1646 - val_loss: 1.4507 - val_mae: 0.6250\n",
      "Epoch 166/500\n",
      "650/650 [==============================] - 3s 5ms/step - loss: 8.4843 - mae: 1.0643 - val_loss: 1.7187 - val_mae: 0.6243\n",
      "Epoch 167/500\n",
      "650/650 [==============================] - 3s 4ms/step - loss: 10.3565 - mae: 1.1355 - val_loss: 2.3016 - val_mae: 0.7315\n",
      "Epoch 168/500\n",
      "650/650 [==============================] - 3s 5ms/step - loss: 17.2296 - mae: 1.1886 - val_loss: 55.4844 - val_mae: 3.7994\n",
      "Epoch 169/500\n",
      "650/650 [==============================] - 3s 5ms/step - loss: 13.2772 - mae: 1.2397 - val_loss: 65.7533 - val_mae: 3.5902\n",
      "Epoch 170/500\n",
      "650/650 [==============================] - 3s 4ms/step - loss: 22.2294 - mae: 1.5290 - val_loss: 3.2970 - val_mae: 0.9593\n",
      "Epoch 171/500\n",
      "650/650 [==============================] - 3s 5ms/step - loss: 9.6256 - mae: 1.0523 - val_loss: 3.3052 - val_mae: 0.8159\n",
      "Epoch 172/500\n",
      "650/650 [==============================] - 3s 5ms/step - loss: 13.8726 - mae: 1.2243 - val_loss: 19.0416 - val_mae: 1.5278\n",
      "Epoch 173/500\n",
      "650/650 [==============================] - 3s 5ms/step - loss: 25.3662 - mae: 1.6559 - val_loss: 4.4283 - val_mae: 0.9101\n",
      "Epoch 174/500\n",
      "650/650 [==============================] - 3s 4ms/step - loss: 5.3834 - mae: 0.8643 - val_loss: 2.2284 - val_mae: 0.7088\n",
      "Epoch 175/500\n",
      "650/650 [==============================] - 3s 5ms/step - loss: 18.0243 - mae: 1.4774 - val_loss: 34.7043 - val_mae: 2.4065\n",
      "Epoch 176/500\n",
      "650/650 [==============================] - 3s 5ms/step - loss: 7.5512 - mae: 1.0220 - val_loss: 7.4039 - val_mae: 1.3125\n",
      "Epoch 177/500\n",
      "650/650 [==============================] - 3s 4ms/step - loss: 12.4102 - mae: 1.2456 - val_loss: 6.5555 - val_mae: 0.8884\n",
      "Epoch 178/500\n",
      "650/650 [==============================] - 3s 4ms/step - loss: 24.4946 - mae: 1.4871 - val_loss: 11.6053 - val_mae: 1.2804\n",
      "Epoch 179/500\n",
      "650/650 [==============================] - 3s 5ms/step - loss: 13.4333 - mae: 1.2754 - val_loss: 1.7433 - val_mae: 0.6764\n",
      "Epoch 180/500\n",
      "650/650 [==============================] - 3s 4ms/step - loss: 5.6894 - mae: 0.9013 - val_loss: 12.1814 - val_mae: 1.6670\n",
      "Epoch 181/500\n",
      "650/650 [==============================] - 3s 4ms/step - loss: 11.4650 - mae: 1.2285 - val_loss: 9.6230 - val_mae: 1.3236\n",
      "Epoch 182/500\n",
      "650/650 [==============================] - 3s 5ms/step - loss: 10.7057 - mae: 1.1823 - val_loss: 1.5556 - val_mae: 0.6360\n",
      "Epoch 183/500\n",
      "650/650 [==============================] - 3s 4ms/step - loss: 23.5327 - mae: 1.4480 - val_loss: 6.7626 - val_mae: 1.0363\n",
      "Epoch 184/500\n",
      "650/650 [==============================] - 3s 5ms/step - loss: 9.7579 - mae: 1.0507 - val_loss: 67.1205 - val_mae: 2.6098\n",
      "Epoch 185/500\n",
      "650/650 [==============================] - 3s 5ms/step - loss: 3.7880 - mae: 0.7888 - val_loss: 2.1658 - val_mae: 0.7498\n",
      "Epoch 186/500\n",
      "650/650 [==============================] - 3s 4ms/step - loss: 15.9933 - mae: 1.3228 - val_loss: 36.1899 - val_mae: 1.9209\n",
      "Epoch 187/500\n",
      "650/650 [==============================] - 3s 4ms/step - loss: 11.9034 - mae: 1.1382 - val_loss: 5.8740 - val_mae: 0.8351\n",
      "Epoch 188/500\n",
      "650/650 [==============================] - 3s 5ms/step - loss: 5.4257 - mae: 0.8815 - val_loss: 8.1148 - val_mae: 0.9820\n",
      "Epoch 189/500\n",
      "650/650 [==============================] - 3s 5ms/step - loss: 34.5229 - mae: 1.6699 - val_loss: 14.4977 - val_mae: 1.8341\n",
      "Epoch 190/500\n",
      "650/650 [==============================] - 3s 5ms/step - loss: 12.0719 - mae: 1.0861 - val_loss: 5.4776 - val_mae: 0.9942\n",
      "Epoch 191/500\n",
      "650/650 [==============================] - 3s 5ms/step - loss: 18.7061 - mae: 1.2819 - val_loss: 11.3566 - val_mae: 1.2336\n",
      "Epoch 192/500\n",
      "650/650 [==============================] - 3s 5ms/step - loss: 7.6506 - mae: 0.9850 - val_loss: 2.4394 - val_mae: 0.7399\n",
      "Epoch 193/500\n",
      "650/650 [==============================] - 3s 5ms/step - loss: 12.0147 - mae: 1.1555 - val_loss: 1.5037 - val_mae: 0.6299\n",
      "Epoch 194/500\n",
      "650/650 [==============================] - 3s 5ms/step - loss: 5.4514 - mae: 0.8693 - val_loss: 0.9748 - val_mae: 0.5552\n",
      "Epoch 195/500\n",
      "650/650 [==============================] - 3s 5ms/step - loss: 17.1149 - mae: 1.4373 - val_loss: 4.5655 - val_mae: 1.0523\n",
      "Epoch 196/500\n",
      "650/650 [==============================] - 3s 4ms/step - loss: 19.5868 - mae: 1.3692 - val_loss: 2.6752 - val_mae: 0.7295\n",
      "Epoch 197/500\n",
      "650/650 [==============================] - 3s 4ms/step - loss: 10.5515 - mae: 1.1416 - val_loss: 1.8560 - val_mae: 0.7261\n",
      "Epoch 198/500\n",
      "650/650 [==============================] - 3s 4ms/step - loss: 7.3654 - mae: 0.9669 - val_loss: 3.9513 - val_mae: 1.0633\n",
      "Epoch 199/500\n",
      "650/650 [==============================] - 3s 5ms/step - loss: 15.5914 - mae: 1.3628 - val_loss: 5.3284 - val_mae: 1.2308\n",
      "Epoch 200/500\n",
      "650/650 [==============================] - 3s 5ms/step - loss: 5.1107 - mae: 0.9070 - val_loss: 11.4571 - val_mae: 1.7830\n",
      "Epoch 201/500\n",
      "650/650 [==============================] - 3s 4ms/step - loss: 26.2814 - mae: 1.6686 - val_loss: 6.3963 - val_mae: 1.0796\n",
      "Epoch 202/500\n",
      "650/650 [==============================] - 3s 5ms/step - loss: 4.3389 - mae: 0.8163 - val_loss: 2.8122 - val_mae: 0.8240\n",
      "Epoch 203/500\n",
      "650/650 [==============================] - 3s 5ms/step - loss: 14.5795 - mae: 1.2599 - val_loss: 17.9237 - val_mae: 1.7101\n",
      "Epoch 204/500\n",
      "650/650 [==============================] - 3s 5ms/step - loss: 11.3133 - mae: 1.1800 - val_loss: 29.3948 - val_mae: 1.6701\n",
      "Epoch 205/500\n",
      "650/650 [==============================] - 3s 5ms/step - loss: 12.9332 - mae: 1.1794 - val_loss: 7.5308 - val_mae: 1.1015\n",
      "Epoch 206/500\n",
      "650/650 [==============================] - 3s 5ms/step - loss: 34.8191 - mae: 1.7642 - val_loss: 25.7966 - val_mae: 2.0802\n",
      "Epoch 207/500\n",
      "650/650 [==============================] - 3s 5ms/step - loss: 12.5712 - mae: 1.2937 - val_loss: 15.6092 - val_mae: 1.6386\n",
      "Epoch 208/500\n",
      "650/650 [==============================] - 3s 4ms/step - loss: 6.9811 - mae: 1.0358 - val_loss: 5.4200 - val_mae: 0.8509\n",
      "Epoch 209/500\n",
      "650/650 [==============================] - 3s 4ms/step - loss: 29.1673 - mae: 1.5600 - val_loss: 2.9945 - val_mae: 0.8439\n",
      "Epoch 210/500\n",
      "650/650 [==============================] - 3s 4ms/step - loss: 18.5483 - mae: 1.2441 - val_loss: 3.2204 - val_mae: 0.8318\n",
      "Epoch 211/500\n",
      "650/650 [==============================] - 3s 4ms/step - loss: 6.5205 - mae: 0.9276 - val_loss: 77.2185 - val_mae: 3.5024\n",
      "Epoch 212/500\n",
      "650/650 [==============================] - 3s 4ms/step - loss: 5.6978 - mae: 0.8681 - val_loss: 1.4543 - val_mae: 0.6234\n",
      "Epoch 213/500\n",
      "650/650 [==============================] - 3s 5ms/step - loss: 21.7798 - mae: 1.5980 - val_loss: 4.0913 - val_mae: 0.9255\n",
      "Epoch 214/500\n",
      "650/650 [==============================] - 3s 5ms/step - loss: 7.7934 - mae: 1.0185 - val_loss: 10.2514 - val_mae: 1.4878\n",
      "Epoch 215/500\n",
      "650/650 [==============================] - 3s 5ms/step - loss: 8.1760 - mae: 1.0196 - val_loss: 1.8689 - val_mae: 0.6822\n",
      "Epoch 216/500\n",
      "650/650 [==============================] - 3s 5ms/step - loss: 8.8320 - mae: 1.1025 - val_loss: 13.9088 - val_mae: 1.4506\n",
      "Epoch 217/500\n",
      "650/650 [==============================] - 3s 4ms/step - loss: 18.5122 - mae: 1.4871 - val_loss: 87.7510 - val_mae: 3.0234\n",
      "Epoch 218/500\n",
      "650/650 [==============================] - 3s 4ms/step - loss: 11.6750 - mae: 1.1286 - val_loss: 4.0859 - val_mae: 1.0919\n",
      "Epoch 219/500\n",
      "650/650 [==============================] - 3s 5ms/step - loss: 9.2281 - mae: 1.1091 - val_loss: 1.0185 - val_mae: 0.5599\n",
      "Epoch 220/500\n",
      "650/650 [==============================] - 3s 4ms/step - loss: 8.2342 - mae: 1.0018 - val_loss: 4.9679 - val_mae: 1.0641\n",
      "Epoch 221/500\n",
      "650/650 [==============================] - 3s 4ms/step - loss: 11.3199 - mae: 1.2485 - val_loss: 4.0913 - val_mae: 1.1764\n",
      "Epoch 222/500\n",
      "650/650 [==============================] - 3s 4ms/step - loss: 12.1812 - mae: 1.2494 - val_loss: 2.5561 - val_mae: 0.7740\n",
      "Epoch 223/500\n",
      "650/650 [==============================] - 3s 4ms/step - loss: 16.9751 - mae: 1.4354 - val_loss: 6.3551 - val_mae: 1.0733\n",
      "Epoch 224/500\n",
      "650/650 [==============================] - 3s 5ms/step - loss: 15.9419 - mae: 1.3607 - val_loss: 17.9281 - val_mae: 2.0840\n",
      "Epoch 225/500\n",
      "650/650 [==============================] - 3s 4ms/step - loss: 4.3046 - mae: 0.8584 - val_loss: 2.3776 - val_mae: 0.7183\n",
      "Epoch 226/500\n",
      "650/650 [==============================] - 3s 5ms/step - loss: 16.3158 - mae: 1.2309 - val_loss: 20.4071 - val_mae: 1.8684\n",
      "Epoch 227/500\n",
      "650/650 [==============================] - 3s 5ms/step - loss: 11.8223 - mae: 1.1610 - val_loss: 15.5823 - val_mae: 1.8942\n",
      "Epoch 228/500\n",
      "650/650 [==============================] - 3s 5ms/step - loss: 8.1357 - mae: 1.0370 - val_loss: 2.7879 - val_mae: 0.7808\n",
      "Epoch 229/500\n",
      "650/650 [==============================] - 3s 5ms/step - loss: 10.7519 - mae: 1.1271 - val_loss: 5.0806 - val_mae: 0.9136\n",
      "Epoch 230/500\n",
      "650/650 [==============================] - 3s 4ms/step - loss: 7.5004 - mae: 0.9821 - val_loss: 5.2069 - val_mae: 1.2799\n",
      "Epoch 231/500\n",
      "650/650 [==============================] - 3s 5ms/step - loss: 17.5884 - mae: 1.3973 - val_loss: 4.8436 - val_mae: 0.8534\n",
      "Epoch 232/500\n",
      "650/650 [==============================] - 3s 4ms/step - loss: 15.0541 - mae: 1.1777 - val_loss: 5.7865 - val_mae: 1.2535\n",
      "Epoch 233/500\n",
      "650/650 [==============================] - 3s 5ms/step - loss: 11.9721 - mae: 1.0659 - val_loss: 3.3706 - val_mae: 0.8442\n",
      "Epoch 234/500\n",
      "650/650 [==============================] - 3s 5ms/step - loss: 23.1534 - mae: 1.3600 - val_loss: 24.9687 - val_mae: 2.1627\n",
      "Epoch 235/500\n",
      "650/650 [==============================] - 3s 5ms/step - loss: 6.6710 - mae: 0.9259 - val_loss: 78.2772 - val_mae: 3.0269\n",
      "Epoch 236/500\n",
      "650/650 [==============================] - 3s 5ms/step - loss: 17.5192 - mae: 1.4033 - val_loss: 33.3150 - val_mae: 2.6119\n",
      "Epoch 237/500\n",
      "650/650 [==============================] - 3s 5ms/step - loss: 24.4386 - mae: 1.4770 - val_loss: 14.5081 - val_mae: 1.6641\n",
      "Epoch 238/500\n",
      "650/650 [==============================] - 3s 4ms/step - loss: 5.6250 - mae: 0.8674 - val_loss: 1.1974 - val_mae: 0.6262\n",
      "Epoch 239/500\n",
      "650/650 [==============================] - 3s 5ms/step - loss: 8.4013 - mae: 1.0494 - val_loss: 5.1068 - val_mae: 1.1172\n",
      "Epoch 240/500\n",
      "650/650 [==============================] - 3s 4ms/step - loss: 10.1124 - mae: 1.0704 - val_loss: 126.6166 - val_mae: 3.9826\n",
      "Epoch 241/500\n",
      "650/650 [==============================] - 3s 5ms/step - loss: 19.0868 - mae: 1.2466 - val_loss: 20.1890 - val_mae: 1.3941\n",
      "Epoch 242/500\n",
      "650/650 [==============================] - 3s 5ms/step - loss: 11.9814 - mae: 1.2385 - val_loss: 3.7974 - val_mae: 0.9158\n",
      "Epoch 243/500\n",
      "650/650 [==============================] - 3s 4ms/step - loss: 5.3538 - mae: 0.8899 - val_loss: 6.2480 - val_mae: 1.2642\n",
      "Epoch 244/500\n",
      "650/650 [==============================] - 3s 5ms/step - loss: 15.7182 - mae: 1.2361 - val_loss: 1.3213 - val_mae: 0.5702\n"
     ]
    }
   ],
   "source": [
    "history = ann.fit(X_train, y_train,\n",
    "                    validation_data = (X_val, y_val),\n",
    "                    callbacks=[es],\n",
    "                    epochs=500,\n",
    "                    batch_size=40,\n",
    "                    verbose=1)"
   ]
  },
  {
   "cell_type": "code",
   "execution_count": 22,
   "metadata": {
    "ExecuteTime": {
     "end_time": "2024-08-11T02:37:16.681657800Z",
     "start_time": "2024-08-11T02:37:16.056484700Z"
    }
   },
   "outputs": [
    {
     "data": {
      "text/plain": "<Figure size 640x480 with 1 Axes>",
      "image/png": "[encoded data removed]"
     },
     "metadata": {},
     "output_type": "display_data"
    }
   ],
   "source": [
    "# let's see the training and validation accuracy by epoch\n",
    "history_dict = history.history\n",
    "loss_values = history_dict['loss'] # you can change this\n",
    "val_loss_values = history_dict['val_loss'] # you can also change this\n",
    "epochs = range(1, len(loss_values) + 1) # range of X (no. of epochs)\n",
    "plt.plot(epochs, loss_values, 'blue', label='Train set loss')\n",
    "plt.plot(epochs, val_loss_values, 'orange', label='Validation set loss')\n",
    "#plt.title('Training and testing loss')\n",
    "plt.xlabel('Epochs')\n",
    "plt.ylabel('Loss (MSE)')\n",
    "plt.legend()\n",
    "plt.savefig('Section3_ANN2_2.png', dpi=300, bbox_inches='tight')\n",
    "plt.show()"
   ]
  },
  {
   "cell_type": "code",
   "execution_count": 23,
   "metadata": {
    "ExecuteTime": {
     "end_time": "2024-08-11T02:37:17.208780800Z",
     "start_time": "2024-08-11T02:37:16.680656500Z"
    }
   },
   "outputs": [
    {
     "data": {
      "text/plain": "<Figure size 640x480 with 1 Axes>",
      "image/png": "[encoded data removed]"
     },
     "metadata": {},
     "output_type": "display_data"
    }
   ],
   "source": [
    "loss_values1 = history_dict['mae'] # you can change this\n",
    "val_loss_values1 = history_dict['val_mae'] # you can also change this\n",
    "epochs = range(1, len(loss_values1) + 1) # range of X (no. of epochs)\n",
    "plt.plot(epochs, loss_values1, 'blue', label='Train set MAE')\n",
    "plt.plot(epochs, val_loss_values1, 'orange', label='Validation set MAE')\n",
    "#plt.title('Training and testing MAE')\n",
    "plt.xlabel('Epochs')\n",
    "plt.ylabel('MAE')\n",
    "plt.legend()\n",
    "plt.savefig('Section3_ANN2_3.png', dpi=300, bbox_inches='tight')\n",
    "plt.show()"
   ]
  },
  {
   "cell_type": "code",
   "execution_count": 24,
   "metadata": {
    "ExecuteTime": {
     "end_time": "2024-08-11T02:37:18.886173800Z",
     "start_time": "2024-08-11T02:37:17.196741900Z"
    }
   },
   "outputs": [
    {
     "name": "stdout",
     "output_type": "stream",
     "text": [
      "INFO:tensorflow:Assets written to: Section3_new_ANN_2\\assets\n"
     ]
    }
   ],
   "source": [
    "ann.save('Section3_new_ANN_2')\n",
    "import pickle\n",
    "pickle.dump(sc, open('Section3_new_scaler_ANN_2.pkl', 'wb'))"
   ]
  },
  {
   "cell_type": "markdown",
   "metadata": {},
   "source": [
    "## Part 5 - Make predictions"
   ]
  },
  {
   "cell_type": "code",
   "execution_count": 25,
   "metadata": {
    "ExecuteTime": {
     "end_time": "2024-08-11T02:37:23.421300700Z",
     "start_time": "2024-08-11T02:37:18.890172700Z"
    }
   },
   "outputs": [
    {
     "name": "stdout",
     "output_type": "stream",
     "text": [
      "812/812 [==============================] - 2s 2ms/step\n",
      "271/271 [==============================] - 1s 2ms/step\n"
     ]
    },
    {
     "data": {
      "text/plain": "<Figure size 640x480 with 2 Axes>",
      "image/png": "[encoded data removed]"
     },
     "metadata": {},
     "output_type": "display_data"
    }
   ],
   "source": [
    "# scatterplot of actual vs. pred\n",
    "# specify the dimensions \n",
    "fig, axes = plt.subplots(1,2) # 1 row, 2 columns\n",
    "\n",
    "# this makes the individual subplots\n",
    "# Training Results\n",
    "axes[0].scatter(x=y_train, y=ann.predict(X_train)) #first row, first entry (left top)\n",
    "axes[0].set_xlabel(\"Actual\", fontsize=10)\n",
    "axes[0].set_ylabel(\"Predicted\",  fontsize=10)\n",
    "axes[0].set_title(\"Training\")\n",
    "# add 45 deg line\n",
    "x = np.linspace(*axes[0].get_xlim())\n",
    "axes[0].plot(x, x, color='red')\n",
    "# Validation Results\n",
    "axes[1].scatter(x=y_val, y=ann.predict(X_val)) # first row, second entry (right top)\n",
    "axes[1].set_xlabel(\"Actual\", fontsize=10)\n",
    "axes[1].set_ylabel(\"Predicted\",  fontsize=10)\n",
    "axes[1].set_title(\"Validation\")\n",
    "# add 45 deg line\n",
    "x = np.linspace(*axes[1].get_xlim())\n",
    "axes[1].plot(x, x, color='red')\n",
    "\n",
    "# tight layout\n",
    "fig.tight_layout()\n",
    "\n",
    "plt.savefig('Section3_ANN2_1.png', dpi=300, bbox_inches='tight')\n",
    "# show the plot\n",
    "plt.show()"
   ]
  },
  {
   "cell_type": "code",
   "execution_count": 17,
   "metadata": {
    "colab": {
     "base_uri": "https://localhost:8080/",
     "height": 134
    },
    "colab_type": "code",
    "id": "IA0yApEmBG1X",
    "outputId": "cb981e1f-9204-4a2a-fece-9d66a6919189",
    "ExecuteTime": {
     "end_time": "2024-09-02T13:41:14.865295700Z",
     "start_time": "2024-09-02T13:41:12.719488700Z"
    }
   },
   "outputs": [
    {
     "name": "stdout",
     "output_type": "stream",
     "text": [
      "271/271 [==============================] - 1s 2ms/step\n",
      "[[-0.56 -0.54]\n",
      " [ 0.88  1.05]\n",
      " [ 4.58  4.31]\n",
      " ...\n",
      " [-0.73 -0.88]\n",
      " [22.69 22.34]\n",
      " [-0.61 -0.7 ]]\n"
     ]
    }
   ],
   "source": [
    "y_pred = ann.predict(X_test)\n",
    "np.set_printoptions(precision=2)\n",
    "print(np.concatenate((y_pred.reshape(len(y_pred),1), y_test.reshape(len(y_test),1)),1))"
   ]
  },
  {
   "cell_type": "code",
   "execution_count": 27,
   "metadata": {
    "ExecuteTime": {
     "end_time": "2024-08-11T02:37:24.691321100Z",
     "start_time": "2024-08-11T02:37:24.420774Z"
    }
   },
   "outputs": [
    {
     "data": {
      "text/plain": "Text(0, 0.5, 'Predicted data')"
     },
     "execution_count": 27,
     "metadata": {},
     "output_type": "execute_result"
    },
    {
     "data": {
      "text/plain": "<Figure size 640x480 with 1 Axes>",
      "image/png": "[encoded data removed]"
     },
     "metadata": {},
     "output_type": "display_data"
    }
   ],
   "source": [
    "import matplotlib.pyplot as plt\n",
    "plt.scatter(y_test, y_pred, color=\"blue\")\n",
    "#plt.plot ([0,1200000],[0,1200000], color = \"red\")\n",
    "#plt.axis ([0,1200000,0,1200000])\n",
    "plt.xlabel ('Actual data')\n",
    "plt.ylabel ('Predicted data')"
   ]
  },
  {
   "cell_type": "code",
   "execution_count": 20,
   "metadata": {
    "ExecuteTime": {
     "end_time": "2024-09-02T13:42:34.176040Z",
     "start_time": "2024-09-02T13:42:33.160215700Z"
    }
   },
   "outputs": [
    {
     "data": {
      "text/plain": "<Figure size 600x600 with 1 Axes>",
      "image/png": "[encoded data removed]"
     },
     "metadata": {},
     "output_type": "display_data"
    }
   ],
   "source": [
    "from sklearn.metrics import r2_score\n",
    "# Initialize layout\n",
    "#plt.rcdefaults()\n",
    "fig1, ax1 = plt.subplots(figsize = (6, 6))\n",
    "\n",
    "# Set global font to Times New Roman and font size\n",
    "plt.rcParams['font.family'] = 'serif'\n",
    "plt.rcParams['font.serif'] = ['Times New Roman']\n",
    "plt.rcParams['font.size'] = 25\n",
    "\n",
    "b_l = -20\n",
    "u_l = 500\n",
    "\n",
    "# Add scatterplot\n",
    "ax1.scatter(y_test, y_pred, s=70, alpha=1, edgecolors=\"k\",c='mediumblue',zorder=5, label = 'Points')\n",
    "\n",
    "\n",
    "plt.ylabel('Predicted Reflected Overpressure (kPa)',fontsize = 22)\n",
    "plt.xlabel('Target Reflected Overpressure (kPa)', fontsize = 22)\n",
    "plt.xticks([0,100,200,300,400,500],fontsize = 22)\n",
    "plt.yticks(fontsize = 22)\n",
    "\n",
    "\n",
    "x1 = np.linspace(b_l, u_l)\n",
    "\n",
    "plt.plot(x1, x1, 'Red', label='45\\N{DEGREE SIGN} line',lw=2.5,alpha=1)\n",
    "#plt.plot(x1, 1.05*x1, '--m', label='\\u00B15% Error',lw=2.5,alpha=0.7)\n",
    "#plt.plot(x1, 0.95*x1,'m', linestyle='--',lw=2.5,alpha=0.7)\n",
    "#plt.plot(x1, 1.1*x1, '-.g', label='\\u00B110% Error',lw=2.5,alpha=0.7)\n",
    "#plt.plot(x1, 0.9*x1,'-.g',lw=2.5,alpha=0.7)\n",
    "#plt.plot(x1, 1.2*x1, color = '#F97306', linestyle='dotted', label='\\u00B120% Error',lw=2.5,alpha=0.7)\n",
    "#plt.plot(x1, 0.8*x1,color = '#F97306', linestyle='dotted', lw=2.5,alpha=0.7)\n",
    "\n",
    "plt.ylim(b_l, u_l)\n",
    "plt.xlim(b_l, u_l)\n",
    "#plt.legend(loc='upper center', bbox_to_anchor=(0.5, -0.15), ncol=4, frameon = False, fontsize = 20)\n",
    "\n",
    "#plt.grid()\n",
    "\n",
    "ax1.spines['left'].set_color('black')        # setting up Y-axis tick color to red\n",
    "ax1.spines['bottom'].set_color('black') \n",
    "\n",
    "plt.savefig('Section3_ANN2.png', dpi=300, bbox_inches='tight')"
   ]
  },
  {
   "cell_type": "code",
   "execution_count": 29,
   "metadata": {
    "ExecuteTime": {
     "end_time": "2024-08-11T02:37:28.610802800Z",
     "start_time": "2024-08-11T02:37:25.807576500Z"
    }
   },
   "outputs": [
    {
     "name": "stdout",
     "output_type": "stream",
     "text": [
      "812/812 [==============================] - 2s 3ms/step\n",
      "0.5486254035455409\n",
      "0.5619253878639132\n"
     ]
    }
   ],
   "source": [
    "# metrics\n",
    "trainpreds = ann.predict(X_train)\n",
    "\n",
    "from sklearn.metrics import mean_absolute_error\n",
    "print(mean_absolute_error(y_train, trainpreds)) # train\n",
    "print(mean_absolute_error(y_test, y_pred)) # test"
   ]
  },
  {
   "cell_type": "code",
   "execution_count": 30,
   "metadata": {
    "ExecuteTime": {
     "end_time": "2024-08-11T02:37:28.717884Z",
     "start_time": "2024-08-11T02:37:28.600793Z"
    }
   },
   "outputs": [
    {
     "name": "stdout",
     "output_type": "stream",
     "text": [
      "0.9990884661378174\n"
     ]
    }
   ],
   "source": [
    "from sklearn.metrics import r2_score\n",
    "r2 = r2_score(y_test, y_pred)\n",
    "print (r2)"
   ]
  },
  {
   "cell_type": "code",
   "execution_count": 31,
   "metadata": {
    "ExecuteTime": {
     "end_time": "2024-08-11T02:37:28.790968400Z",
     "start_time": "2024-08-11T02:37:28.614799500Z"
    }
   },
   "outputs": [
    {
     "name": "stdout",
     "output_type": "stream",
     "text": [
      "0.9990558711551495\n"
     ]
    }
   ],
   "source": [
    "r2_train = r2_score(y_train, trainpreds)\n",
    "print (r2_train)"
   ]
  },
  {
   "cell_type": "code",
   "execution_count": 32,
   "metadata": {
    "ExecuteTime": {
     "end_time": "2024-08-11T02:37:29.683216700Z",
     "start_time": "2024-08-11T02:37:28.773439900Z"
    }
   },
   "outputs": [
    {
     "name": "stdout",
     "output_type": "stream",
     "text": [
      "Within 5% margin 44.87%\n",
      "Within 10% margin 58.88%\n",
      "Within 20% margin 68.65%\n",
      "Out of 20% margin 31.35%\n"
     ]
    }
   ],
   "source": [
    "count0 = 0\n",
    "for i in range(len(y_pred)):\n",
    "    line1 = y_pred[i] - 0.95*y_test[i]\n",
    "    line2 = y_pred[i] - 1.05*y_test[i]\n",
    "    mask0 = (line1 > 0) & (line2 < 0)\n",
    "    count0 = np.sum(mask0+count0)\n",
    "\n",
    "count1 = 0\n",
    "for i in range(len(y_pred)):\n",
    "    line1 = y_pred[i] - 0.9*y_test[i]\n",
    "    line2 = y_pred[i] - 1.1*y_test[i]\n",
    "    mask1 = (line1 > 0) & (line2 < 0)\n",
    "    count1 = np.sum(mask1+count1)\n",
    "\n",
    "count2 = 0\n",
    "for j in range(len(y_pred)):\n",
    "    line3 = y_pred[j] - 0.8*y_test[j]\n",
    "    line4 = y_pred[j] - 1.2*y_test[j]\n",
    "    mask2 = (line3 > 0) & (line4 < 0)\n",
    "    count2 = np.sum(mask2+count2)\n",
    "\n",
    "\n",
    "count3 = 0    \n",
    "for k in range(len(y_pred)):\n",
    "    line5 = y_pred[k] - 0.8*y_test[k]\n",
    "    line6 = y_pred[k] - 1.2*y_test[k]\n",
    "    mask3 = (line5 < 0) or (line6 > 0)\n",
    "    count3 = np.sum(mask3+count3)\n",
    "   \n",
    "\n",
    "print ('Within 5% margin', format((count0/len (y_pred)),'.2%'))\n",
    "print ('Within 10% margin', format((count1/len (y_pred)),'.2%'))\n",
    "print ('Within 20% margin', format((count2/len (y_pred)),'.2%'))\n",
    "print ('Out of 20% margin', format((count3/len (y_pred)),'.2%'))"
   ]
  },
  {
   "cell_type": "code",
   "execution_count": 33,
   "metadata": {
    "ExecuteTime": {
     "end_time": "2024-08-11T02:37:29.711219800Z",
     "start_time": "2024-08-11T02:37:29.667697600Z"
    }
   },
   "outputs": [
    {
     "name": "stdout",
     "output_type": "stream",
     "text": [
      "0.9990878339330812\n"
     ]
    }
   ],
   "source": [
    "adj_r2 = 1 - ((1 - r2) * (len(X_test) - 1) / (len(X_test) - len (X_test[0]) - 1))\n",
    "print (adj_r2)"
   ]
  },
  {
   "cell_type": "code",
   "execution_count": 34,
   "metadata": {
    "ExecuteTime": {
     "end_time": "2024-08-11T02:37:29.860845800Z",
     "start_time": "2024-08-11T02:37:29.682207400Z"
    }
   },
   "outputs": [
    {
     "data": {
      "text/plain": "1.00172239788541"
     },
     "execution_count": 34,
     "metadata": {},
     "output_type": "execute_result"
    }
   ],
   "source": [
    "import math\n",
    "from sklearn.metrics import mean_squared_error\n",
    "\n",
    "math.sqrt(mean_squared_error(y_test, y_pred))"
   ]
  },
  {
   "cell_type": "code",
   "execution_count": 35,
   "metadata": {
    "ExecuteTime": {
     "end_time": "2024-08-11T02:37:29.973465800Z",
     "start_time": "2024-08-11T02:37:29.803796Z"
    }
   },
   "outputs": [
    {
     "data": {
      "text/plain": "0.5619253878639132"
     },
     "execution_count": 35,
     "metadata": {},
     "output_type": "execute_result"
    }
   ],
   "source": [
    "from sklearn.metrics import mean_absolute_error\n",
    "\n",
    "mean_absolute_error(y_test, y_pred)"
   ]
  },
  {
   "cell_type": "code",
   "execution_count": 12,
   "outputs": [],
   "source": [
    "ann = load_model('Section3_new_ANN_2')\n",
    "sc = pickle.load(open('Section3_new_scaler_ANN_2.pkl', 'rb'))"
   ],
   "metadata": {
    "collapsed": false,
    "ExecuteTime": {
     "end_time": "2024-09-02T13:40:50.694573900Z",
     "start_time": "2024-09-02T13:40:49.260170300Z"
    }
   }
  }
 ],
 "metadata": {
  "colab": {
   "collapsed_sections": [],
   "name": "Artificial Neural Network",
   "provenance": [],
   "toc_visible": true
  },
  "kernelspec": {
   "display_name": "Python 3 (ipykernel)",
   "language": "python",
   "name": "python3"
  },
  "language_info": {
   "codemirror_mode": {
    "name": "ipython",
    "version": 3
   },
   "file_extension": ".py",
   "mimetype": "text/x-python",
   "name": "python",
   "nbconvert_exporter": "python",
   "pygments_lexer": "ipython3",
   "version": "3.9.7"
  }
 },
 "nbformat": 4,
 "nbformat_minor": 4
}
