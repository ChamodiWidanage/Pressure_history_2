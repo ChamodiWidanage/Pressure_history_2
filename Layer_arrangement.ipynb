{
 "cells": [
  {
   "cell_type": "code",
   "execution_count": 1,
   "id": "f0a1ef29-6b5c-4478-8788-8b5351b781f4",
   "metadata": {
    "ExecuteTime": {
     "end_time": "2024-05-15T23:51:19.081852500Z",
     "start_time": "2024-05-15T23:51:19.071851800Z"
    }
   },
   "outputs": [],
   "source": [
    "import math\n",
    "def FindLayerNodesLinear(n_layers, first_layer_nodes, last_layer_nodes):\n",
    "    layers = []\n",
    "    \n",
    "    nodes_increment = (last_layer_nodes - first_layer_nodes)/ (n_layers-1)\n",
    "    nodes = first_layer_nodes\n",
    "    for i in range(1, n_layers+1):\n",
    "        layers.append(math.ceil(nodes))\n",
    "        nodes = nodes + nodes_increment\n",
    "    \n",
    "    return layers"
   ]
  },
  {
   "cell_type": "code",
   "execution_count": 2,
   "id": "885438b2-9d24-40eb-948a-05ef9fff3fec",
   "metadata": {
    "ExecuteTime": {
     "end_time": "2024-05-15T23:52:20.244264800Z",
     "start_time": "2024-05-15T23:52:20.219198100Z"
    }
   },
   "outputs": [
    {
     "data": {
      "text/plain": "[175, 138, 100]"
     },
     "execution_count": 2,
     "metadata": {},
     "output_type": "execute_result"
    }
   ],
   "source": [
    "FindLayerNodesLinear(3, 175, 100)"
   ]
  },
  {
   "cell_type": "code",
   "execution_count": 4,
   "outputs": [],
   "source": [
    "from scikeras.wrappers import KerasRegressor"
   ],
   "metadata": {
    "collapsed": false,
    "ExecuteTime": {
     "end_time": "2024-05-16T00:03:09.209203700Z",
     "start_time": "2024-05-16T00:03:01.077166100Z"
    }
   },
   "id": "eea7d8cad6aa9bfd"
  }
 ],
 "metadata": {
  "kernelspec": {
   "display_name": "Python 3 (ipykernel)",
   "language": "python",
   "name": "python3"
  },
  "language_info": {
   "codemirror_mode": {
    "name": "ipython",
    "version": 3
   },
   "file_extension": ".py",
   "mimetype": "text/x-python",
   "name": "python",
   "nbconvert_exporter": "python",
   "pygments_lexer": "ipython3",
   "version": "3.9.7"
  }
 },
 "nbformat": 4,
 "nbformat_minor": 5
}
