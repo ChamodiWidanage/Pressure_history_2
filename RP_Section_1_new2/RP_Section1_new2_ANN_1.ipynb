{
 "cells": [
  {
   "cell_type": "markdown",
   "metadata": {
    "colab_type": "text",
    "id": "3cbb7fRy-eyr"
   },
   "source": [
    "# Artificial Neural Network"
   ]
  },
  {
   "cell_type": "markdown",
   "source": [
    "## Part 1 - Importing the libraries"
   ],
   "metadata": {
    "collapsed": false
   }
  },
  {
   "cell_type": "code",
   "execution_count": 1,
   "metadata": {
    "colab": {},
    "colab_type": "code",
    "id": "lxChR1Rk-umf",
    "ExecuteTime": {
     "end_time": "2024-08-16T02:44:08.993993100Z",
     "start_time": "2024-08-16T02:44:02.056166Z"
    }
   },
   "outputs": [],
   "source": [
    "import numpy as np\n",
    "import pandas as pd\n",
    "import tensorflow as tf\n",
    "import matplotlib.pyplot as plt\n",
    "from keras.models import load_model\n",
    "from pathlib import Path\n",
    "import pickle"
   ]
  },
  {
   "cell_type": "markdown",
   "metadata": {
    "colab_type": "text",
    "id": "AG3FQEch-yuA"
   },
   "source": [
    "## Part 2 - Data Preprocessing"
   ]
  },
  {
   "cell_type": "code",
   "execution_count": 2,
   "metadata": {
    "ExecuteTime": {
     "end_time": "2024-08-16T02:44:09.010001800Z",
     "start_time": "2024-08-16T02:44:08.996993100Z"
    }
   },
   "outputs": [
    {
     "name": "stdout",
     "output_type": "stream",
     "text": [
      "input G:\\Chamodi\\LSDYNA3D\\RP_TH_models\\RP_Section_1_new\n",
      "2 [WindowsPath('G:/Chamodi/LSDYNA3D/RP_TH_models/RP_Section_1_new/1.00m'), WindowsPath('G:/Chamodi/LSDYNA3D/RP_TH_models/RP_Section_1_new/1.25m'), WindowsPath('G:/Chamodi/LSDYNA3D/RP_TH_models/RP_Section_1_new/1.50m'), WindowsPath('G:/Chamodi/LSDYNA3D/RP_TH_models/RP_Section_1_new/1.75m'), WindowsPath('G:/Chamodi/LSDYNA3D/RP_TH_models/RP_Section_1_new/2.00m'), WindowsPath('G:/Chamodi/LSDYNA3D/RP_TH_models/RP_Section_1_new/2.25m'), WindowsPath('G:/Chamodi/LSDYNA3D/RP_TH_models/RP_Section_1_new/2.50m'), WindowsPath('G:/Chamodi/LSDYNA3D/RP_TH_models/RP_Section_1_new/2.75m'), WindowsPath('G:/Chamodi/LSDYNA3D/RP_TH_models/RP_Section_1_new/3.00m')]\n"
     ]
    }
   ],
   "source": [
    "#Access input folder\n",
    "current_dir = Path.cwd()\n",
    "input_dir1 = Path (\"G:/Chamodi/LSDYNA3D/RP_TH_models/RP_Section_1_new\")\n",
    "print (\"input\",input_dir1)\n",
    "\n",
    "#Access folders inside input folder\n",
    "input_dir2=  [folder1 for folder1 in input_dir1.iterdir() if folder1.is_dir()] # folder1 - RP_curves_fr7m\n",
    "print (\"2\",input_dir2)"
   ]
  },
  {
   "cell_type": "code",
   "execution_count": 3,
   "metadata": {
    "ExecuteTime": {
     "end_time": "2024-08-16T02:44:28.408973400Z",
     "start_time": "2024-08-16T02:44:09.010001800Z"
    }
   },
   "outputs": [
    {
     "name": "stdout",
     "output_type": "stream",
     "text": [
      "folder G:\\Chamodi\\LSDYNA3D\\RP_TH_models\\RP_Section_1_new\\1.00m\\1.00m00.5kg\n",
      "1\n",
      "2\n",
      "3\n",
      "4\n",
      "folder G:\\Chamodi\\LSDYNA3D\\RP_TH_models\\RP_Section_1_new\\1.00m\\1.00m02.5kg\n",
      "1\n",
      "2\n",
      "3\n",
      "4\n",
      "folder G:\\Chamodi\\LSDYNA3D\\RP_TH_models\\RP_Section_1_new\\1.00m\\1.00m04.5kg\n",
      "1\n",
      "2\n",
      "3\n",
      "4\n",
      "folder G:\\Chamodi\\LSDYNA3D\\RP_TH_models\\RP_Section_1_new\\1.00m\\1.00m06.5kg\n",
      "1\n",
      "2\n",
      "3\n",
      "4\n",
      "folder G:\\Chamodi\\LSDYNA3D\\RP_TH_models\\RP_Section_1_new\\1.00m\\1.00m08.5kg\n",
      "1\n",
      "2\n",
      "3\n",
      "4\n",
      "folder G:\\Chamodi\\LSDYNA3D\\RP_TH_models\\RP_Section_1_new\\1.00m\\1.00m10.5kg\n",
      "1\n",
      "2\n",
      "3\n",
      "4\n",
      "folder G:\\Chamodi\\LSDYNA3D\\RP_TH_models\\RP_Section_1_new\\1.00m\\1.00m12.5kg\n",
      "1\n",
      "2\n",
      "3\n",
      "4\n",
      "folder G:\\Chamodi\\LSDYNA3D\\RP_TH_models\\RP_Section_1_new\\1.00m\\1.00m14.5kg\n",
      "1\n",
      "2\n",
      "3\n",
      "4\n",
      "folder G:\\Chamodi\\LSDYNA3D\\RP_TH_models\\RP_Section_1_new\\1.00m\\1.00m16.5kg\n",
      "1\n",
      "2\n",
      "3\n",
      "4\n",
      "folder G:\\Chamodi\\LSDYNA3D\\RP_TH_models\\RP_Section_1_new\\1.00m\\1.00m18.5kg\n",
      "1\n",
      "2\n",
      "3\n",
      "4\n",
      "folder G:\\Chamodi\\LSDYNA3D\\RP_TH_models\\RP_Section_1_new\\1.00m\\1.00m20.5kg\n",
      "1\n",
      "2\n",
      "3\n",
      "4\n",
      "folder G:\\Chamodi\\LSDYNA3D\\RP_TH_models\\RP_Section_1_new\\1.00m\\1.00m22.5kg\n",
      "1\n",
      "2\n",
      "3\n",
      "4\n",
      "folder G:\\Chamodi\\LSDYNA3D\\RP_TH_models\\RP_Section_1_new\\1.00m\\1.00m24.5kg\n",
      "1\n",
      "2\n",
      "3\n",
      "4\n",
      "folder G:\\Chamodi\\LSDYNA3D\\RP_TH_models\\RP_Section_1_new\\1.00m\\1.00m26.5kg\n",
      "1\n",
      "2\n",
      "3\n",
      "4\n",
      "folder G:\\Chamodi\\LSDYNA3D\\RP_TH_models\\RP_Section_1_new\\1.00m\\1.00m28.5kg\n",
      "1\n",
      "2\n",
      "3\n",
      "4\n",
      "folder G:\\Chamodi\\LSDYNA3D\\RP_TH_models\\RP_Section_1_new\\1.00m\\1.00m30.5kg\n",
      "1\n",
      "2\n",
      "3\n",
      "4\n",
      "folder G:\\Chamodi\\LSDYNA3D\\RP_TH_models\\RP_Section_1_new\\1.00m\\1.00m32.5kg\n",
      "1\n",
      "2\n",
      "3\n",
      "4\n",
      "folder G:\\Chamodi\\LSDYNA3D\\RP_TH_models\\RP_Section_1_new\\1.00m\\1.00m34.5kg\n",
      "1\n",
      "2\n",
      "3\n",
      "4\n",
      "folder G:\\Chamodi\\LSDYNA3D\\RP_TH_models\\RP_Section_1_new\\1.00m\\1.00m35.0kg\n",
      "1\n",
      "2\n",
      "3\n",
      "4\n",
      "folder G:\\Chamodi\\LSDYNA3D\\RP_TH_models\\RP_Section_1_new\\1.25m\\1.25m00.5kg\n",
      "1\n",
      "2\n",
      "3\n",
      "4\n",
      "folder G:\\Chamodi\\LSDYNA3D\\RP_TH_models\\RP_Section_1_new\\1.25m\\1.25m02.5kg\n",
      "1\n",
      "2\n",
      "3\n",
      "4\n",
      "folder G:\\Chamodi\\LSDYNA3D\\RP_TH_models\\RP_Section_1_new\\1.25m\\1.25m04.5kg\n",
      "1\n",
      "2\n",
      "3\n",
      "4\n",
      "folder G:\\Chamodi\\LSDYNA3D\\RP_TH_models\\RP_Section_1_new\\1.25m\\1.25m06.5kg\n",
      "1\n",
      "2\n",
      "3\n",
      "4\n",
      "folder G:\\Chamodi\\LSDYNA3D\\RP_TH_models\\RP_Section_1_new\\1.25m\\1.25m08.5kg\n",
      "1\n",
      "2\n",
      "3\n",
      "4\n",
      "folder G:\\Chamodi\\LSDYNA3D\\RP_TH_models\\RP_Section_1_new\\1.25m\\1.25m10.5kg\n",
      "1\n",
      "2\n",
      "3\n",
      "4\n",
      "folder G:\\Chamodi\\LSDYNA3D\\RP_TH_models\\RP_Section_1_new\\1.25m\\1.25m12.5kg\n",
      "1\n",
      "2\n",
      "3\n",
      "4\n",
      "folder G:\\Chamodi\\LSDYNA3D\\RP_TH_models\\RP_Section_1_new\\1.25m\\1.25m14.5kg\n",
      "1\n",
      "2\n",
      "3\n",
      "4\n",
      "folder G:\\Chamodi\\LSDYNA3D\\RP_TH_models\\RP_Section_1_new\\1.25m\\1.25m16.5kg\n",
      "1\n",
      "2\n",
      "3\n",
      "4\n",
      "folder G:\\Chamodi\\LSDYNA3D\\RP_TH_models\\RP_Section_1_new\\1.25m\\1.25m18.5kg\n",
      "1\n",
      "2\n",
      "3\n",
      "4\n",
      "folder G:\\Chamodi\\LSDYNA3D\\RP_TH_models\\RP_Section_1_new\\1.25m\\1.25m20.5kg\n",
      "1\n",
      "2\n",
      "3\n",
      "4\n",
      "folder G:\\Chamodi\\LSDYNA3D\\RP_TH_models\\RP_Section_1_new\\1.25m\\1.25m22.5kg\n",
      "1\n",
      "2\n",
      "3\n",
      "4\n",
      "folder G:\\Chamodi\\LSDYNA3D\\RP_TH_models\\RP_Section_1_new\\1.25m\\1.25m24.5kg\n",
      "1\n",
      "2\n",
      "3\n",
      "4\n",
      "folder G:\\Chamodi\\LSDYNA3D\\RP_TH_models\\RP_Section_1_new\\1.25m\\1.25m26.5kg\n",
      "1\n",
      "2\n",
      "3\n",
      "4\n",
      "folder G:\\Chamodi\\LSDYNA3D\\RP_TH_models\\RP_Section_1_new\\1.25m\\1.25m28.5kg\n",
      "1\n",
      "2\n",
      "3\n",
      "4\n",
      "folder G:\\Chamodi\\LSDYNA3D\\RP_TH_models\\RP_Section_1_new\\1.25m\\1.25m30.5kg\n",
      "1\n",
      "2\n",
      "3\n",
      "4\n",
      "folder G:\\Chamodi\\LSDYNA3D\\RP_TH_models\\RP_Section_1_new\\1.25m\\1.25m32.5kg\n",
      "1\n",
      "2\n",
      "3\n",
      "4\n",
      "folder G:\\Chamodi\\LSDYNA3D\\RP_TH_models\\RP_Section_1_new\\1.25m\\1.25m34.5kg\n",
      "1\n",
      "2\n",
      "3\n",
      "4\n",
      "folder G:\\Chamodi\\LSDYNA3D\\RP_TH_models\\RP_Section_1_new\\1.25m\\1.25m35.0kg\n",
      "1\n",
      "2\n",
      "3\n",
      "4\n",
      "folder G:\\Chamodi\\LSDYNA3D\\RP_TH_models\\RP_Section_1_new\\1.50m\\1.50m00.5kg\n",
      "1\n",
      "2\n",
      "3\n",
      "4\n",
      "folder G:\\Chamodi\\LSDYNA3D\\RP_TH_models\\RP_Section_1_new\\1.50m\\1.50m02.5kg\n",
      "1\n",
      "2\n",
      "3\n",
      "4\n",
      "folder G:\\Chamodi\\LSDYNA3D\\RP_TH_models\\RP_Section_1_new\\1.50m\\1.50m04.5kg\n",
      "1\n",
      "2\n",
      "3\n",
      "4\n",
      "folder G:\\Chamodi\\LSDYNA3D\\RP_TH_models\\RP_Section_1_new\\1.50m\\1.50m06.5kg\n",
      "1\n",
      "2\n",
      "3\n",
      "4\n",
      "folder G:\\Chamodi\\LSDYNA3D\\RP_TH_models\\RP_Section_1_new\\1.50m\\1.50m08.5kg\n",
      "1\n",
      "2\n",
      "3\n",
      "4\n",
      "folder G:\\Chamodi\\LSDYNA3D\\RP_TH_models\\RP_Section_1_new\\1.50m\\1.50m10.5kg\n",
      "1\n",
      "2\n",
      "3\n",
      "4\n",
      "folder G:\\Chamodi\\LSDYNA3D\\RP_TH_models\\RP_Section_1_new\\1.50m\\1.50m12.5kg\n",
      "1\n",
      "2\n",
      "3\n",
      "4\n",
      "folder G:\\Chamodi\\LSDYNA3D\\RP_TH_models\\RP_Section_1_new\\1.50m\\1.50m14.5kg\n",
      "1\n",
      "2\n",
      "3\n",
      "4\n",
      "folder G:\\Chamodi\\LSDYNA3D\\RP_TH_models\\RP_Section_1_new\\1.50m\\1.50m16.5kg\n",
      "1\n",
      "2\n",
      "3\n",
      "4\n",
      "folder G:\\Chamodi\\LSDYNA3D\\RP_TH_models\\RP_Section_1_new\\1.50m\\1.50m18.5kg\n",
      "1\n",
      "2\n",
      "3\n",
      "4\n",
      "folder G:\\Chamodi\\LSDYNA3D\\RP_TH_models\\RP_Section_1_new\\1.50m\\1.50m20.5kg\n",
      "1\n",
      "2\n",
      "3\n",
      "4\n",
      "folder G:\\Chamodi\\LSDYNA3D\\RP_TH_models\\RP_Section_1_new\\1.50m\\1.50m22.5kg\n",
      "1\n",
      "2\n",
      "3\n",
      "4\n",
      "folder G:\\Chamodi\\LSDYNA3D\\RP_TH_models\\RP_Section_1_new\\1.50m\\1.50m24.5kg\n",
      "1\n",
      "2\n",
      "3\n",
      "4\n",
      "folder G:\\Chamodi\\LSDYNA3D\\RP_TH_models\\RP_Section_1_new\\1.50m\\1.50m26.5kg\n",
      "1\n",
      "2\n",
      "3\n",
      "4\n",
      "folder G:\\Chamodi\\LSDYNA3D\\RP_TH_models\\RP_Section_1_new\\1.50m\\1.50m28.5kg\n",
      "1\n",
      "2\n",
      "3\n",
      "4\n",
      "folder G:\\Chamodi\\LSDYNA3D\\RP_TH_models\\RP_Section_1_new\\1.50m\\1.50m30.5kg\n",
      "1\n",
      "2\n",
      "3\n",
      "4\n",
      "folder G:\\Chamodi\\LSDYNA3D\\RP_TH_models\\RP_Section_1_new\\1.50m\\1.50m32.5kg\n",
      "1\n",
      "2\n",
      "3\n",
      "4\n",
      "folder G:\\Chamodi\\LSDYNA3D\\RP_TH_models\\RP_Section_1_new\\1.50m\\1.50m34.5kg\n",
      "1\n",
      "2\n",
      "3\n",
      "4\n",
      "folder G:\\Chamodi\\LSDYNA3D\\RP_TH_models\\RP_Section_1_new\\1.50m\\1.50m35.0kg\n",
      "1\n",
      "2\n",
      "3\n",
      "4\n",
      "folder G:\\Chamodi\\LSDYNA3D\\RP_TH_models\\RP_Section_1_new\\1.75m\\1.75m00.5kg\n",
      "1\n",
      "2\n",
      "3\n",
      "4\n",
      "folder G:\\Chamodi\\LSDYNA3D\\RP_TH_models\\RP_Section_1_new\\1.75m\\1.75m02.5kg\n",
      "1\n",
      "2\n",
      "3\n",
      "4\n",
      "folder G:\\Chamodi\\LSDYNA3D\\RP_TH_models\\RP_Section_1_new\\1.75m\\1.75m04.5kg\n",
      "1\n",
      "2\n",
      "3\n",
      "4\n",
      "folder G:\\Chamodi\\LSDYNA3D\\RP_TH_models\\RP_Section_1_new\\1.75m\\1.75m06.5kg\n",
      "1\n",
      "2\n",
      "3\n",
      "4\n",
      "folder G:\\Chamodi\\LSDYNA3D\\RP_TH_models\\RP_Section_1_new\\1.75m\\1.75m08.5kg\n",
      "1\n",
      "2\n",
      "3\n",
      "4\n",
      "folder G:\\Chamodi\\LSDYNA3D\\RP_TH_models\\RP_Section_1_new\\1.75m\\1.75m10.5kg\n",
      "1\n",
      "2\n",
      "3\n",
      "4\n",
      "folder G:\\Chamodi\\LSDYNA3D\\RP_TH_models\\RP_Section_1_new\\1.75m\\1.75m12.5kg\n",
      "1\n",
      "2\n",
      "3\n",
      "4\n",
      "folder G:\\Chamodi\\LSDYNA3D\\RP_TH_models\\RP_Section_1_new\\1.75m\\1.75m14.5kg\n",
      "1\n",
      "2\n",
      "3\n",
      "4\n",
      "folder G:\\Chamodi\\LSDYNA3D\\RP_TH_models\\RP_Section_1_new\\1.75m\\1.75m16.5kg\n",
      "1\n",
      "2\n",
      "3\n",
      "4\n",
      "folder G:\\Chamodi\\LSDYNA3D\\RP_TH_models\\RP_Section_1_new\\1.75m\\1.75m18.5kg\n",
      "1\n",
      "2\n",
      "3\n",
      "4\n",
      "folder G:\\Chamodi\\LSDYNA3D\\RP_TH_models\\RP_Section_1_new\\1.75m\\1.75m20.5kg\n",
      "1\n",
      "2\n",
      "3\n",
      "4\n",
      "folder G:\\Chamodi\\LSDYNA3D\\RP_TH_models\\RP_Section_1_new\\1.75m\\1.75m22.5kg\n",
      "1\n",
      "2\n",
      "3\n",
      "4\n",
      "folder G:\\Chamodi\\LSDYNA3D\\RP_TH_models\\RP_Section_1_new\\1.75m\\1.75m24.5kg\n",
      "1\n",
      "2\n",
      "3\n",
      "4\n",
      "folder G:\\Chamodi\\LSDYNA3D\\RP_TH_models\\RP_Section_1_new\\1.75m\\1.75m26.5kg\n",
      "1\n",
      "2\n",
      "3\n",
      "4\n",
      "folder G:\\Chamodi\\LSDYNA3D\\RP_TH_models\\RP_Section_1_new\\1.75m\\1.75m28.5kg\n",
      "1\n",
      "2\n",
      "3\n",
      "4\n",
      "folder G:\\Chamodi\\LSDYNA3D\\RP_TH_models\\RP_Section_1_new\\1.75m\\1.75m30.5kg\n",
      "1\n",
      "2\n",
      "3\n",
      "4\n",
      "folder G:\\Chamodi\\LSDYNA3D\\RP_TH_models\\RP_Section_1_new\\1.75m\\1.75m32.5kg\n",
      "1\n",
      "2\n",
      "3\n",
      "4\n",
      "folder G:\\Chamodi\\LSDYNA3D\\RP_TH_models\\RP_Section_1_new\\1.75m\\1.75m34.5kg\n",
      "1\n",
      "2\n",
      "3\n",
      "4\n",
      "folder G:\\Chamodi\\LSDYNA3D\\RP_TH_models\\RP_Section_1_new\\1.75m\\1.75m35.0kg\n",
      "1\n",
      "2\n",
      "3\n",
      "4\n",
      "folder G:\\Chamodi\\LSDYNA3D\\RP_TH_models\\RP_Section_1_new\\2.00m\\2.00m00.5kg\n",
      "1\n",
      "2\n",
      "3\n",
      "4\n",
      "folder G:\\Chamodi\\LSDYNA3D\\RP_TH_models\\RP_Section_1_new\\2.00m\\2.00m02.5kg\n",
      "1\n",
      "2\n",
      "3\n",
      "4\n",
      "folder G:\\Chamodi\\LSDYNA3D\\RP_TH_models\\RP_Section_1_new\\2.00m\\2.00m04.5kg\n",
      "1\n",
      "2\n",
      "3\n",
      "4\n",
      "folder G:\\Chamodi\\LSDYNA3D\\RP_TH_models\\RP_Section_1_new\\2.00m\\2.00m06.5kg\n",
      "1\n",
      "2\n",
      "3\n",
      "4\n",
      "folder G:\\Chamodi\\LSDYNA3D\\RP_TH_models\\RP_Section_1_new\\2.00m\\2.00m08.5kg\n",
      "1\n",
      "2\n",
      "3\n",
      "4\n",
      "folder G:\\Chamodi\\LSDYNA3D\\RP_TH_models\\RP_Section_1_new\\2.00m\\2.00m10.5kg\n",
      "1\n",
      "2\n",
      "3\n",
      "4\n",
      "folder G:\\Chamodi\\LSDYNA3D\\RP_TH_models\\RP_Section_1_new\\2.00m\\2.00m12.5kg\n",
      "1\n",
      "2\n",
      "3\n",
      "4\n",
      "folder G:\\Chamodi\\LSDYNA3D\\RP_TH_models\\RP_Section_1_new\\2.00m\\2.00m14.5kg\n",
      "1\n",
      "2\n",
      "3\n",
      "4\n",
      "folder G:\\Chamodi\\LSDYNA3D\\RP_TH_models\\RP_Section_1_new\\2.00m\\2.00m16.5kg\n",
      "1\n",
      "2\n",
      "3\n",
      "4\n",
      "folder G:\\Chamodi\\LSDYNA3D\\RP_TH_models\\RP_Section_1_new\\2.00m\\2.00m18.5kg\n",
      "1\n",
      "2\n",
      "3\n",
      "4\n",
      "folder G:\\Chamodi\\LSDYNA3D\\RP_TH_models\\RP_Section_1_new\\2.00m\\2.00m20.5kg\n",
      "1\n",
      "2\n",
      "3\n",
      "4\n",
      "folder G:\\Chamodi\\LSDYNA3D\\RP_TH_models\\RP_Section_1_new\\2.00m\\2.00m22.5kg\n",
      "1\n",
      "2\n",
      "3\n",
      "4\n",
      "folder G:\\Chamodi\\LSDYNA3D\\RP_TH_models\\RP_Section_1_new\\2.00m\\2.00m24.5kg\n",
      "1\n",
      "2\n",
      "3\n",
      "4\n",
      "folder G:\\Chamodi\\LSDYNA3D\\RP_TH_models\\RP_Section_1_new\\2.00m\\2.00m26.5kg\n",
      "1\n",
      "2\n",
      "3\n",
      "4\n",
      "folder G:\\Chamodi\\LSDYNA3D\\RP_TH_models\\RP_Section_1_new\\2.00m\\2.00m28.5kg\n",
      "1\n",
      "2\n",
      "3\n",
      "4\n",
      "folder G:\\Chamodi\\LSDYNA3D\\RP_TH_models\\RP_Section_1_new\\2.00m\\2.00m30.5kg\n",
      "1\n",
      "2\n",
      "3\n",
      "4\n",
      "folder G:\\Chamodi\\LSDYNA3D\\RP_TH_models\\RP_Section_1_new\\2.00m\\2.00m32.5kg\n",
      "1\n",
      "2\n",
      "3\n",
      "4\n",
      "folder G:\\Chamodi\\LSDYNA3D\\RP_TH_models\\RP_Section_1_new\\2.00m\\2.00m34.5kg\n",
      "1\n",
      "2\n",
      "3\n",
      "4\n",
      "folder G:\\Chamodi\\LSDYNA3D\\RP_TH_models\\RP_Section_1_new\\2.00m\\2.00m35.0kg\n",
      "1\n",
      "2\n",
      "3\n",
      "4\n",
      "folder G:\\Chamodi\\LSDYNA3D\\RP_TH_models\\RP_Section_1_new\\2.25m\\2.25m00.5kg\n",
      "1\n",
      "2\n",
      "3\n",
      "4\n",
      "folder G:\\Chamodi\\LSDYNA3D\\RP_TH_models\\RP_Section_1_new\\2.25m\\2.25m02.5kg\n",
      "1\n",
      "2\n",
      "3\n",
      "4\n",
      "folder G:\\Chamodi\\LSDYNA3D\\RP_TH_models\\RP_Section_1_new\\2.25m\\2.25m04.5kg\n",
      "1\n",
      "2\n",
      "3\n",
      "4\n",
      "folder G:\\Chamodi\\LSDYNA3D\\RP_TH_models\\RP_Section_1_new\\2.25m\\2.25m06.5kg\n",
      "1\n",
      "2\n",
      "3\n",
      "4\n",
      "folder G:\\Chamodi\\LSDYNA3D\\RP_TH_models\\RP_Section_1_new\\2.25m\\2.25m08.5kg\n",
      "1\n",
      "2\n",
      "3\n",
      "4\n",
      "folder G:\\Chamodi\\LSDYNA3D\\RP_TH_models\\RP_Section_1_new\\2.25m\\2.25m10.5kg\n",
      "1\n",
      "2\n",
      "3\n",
      "4\n",
      "folder G:\\Chamodi\\LSDYNA3D\\RP_TH_models\\RP_Section_1_new\\2.25m\\2.25m12.5kg\n",
      "1\n",
      "2\n",
      "3\n",
      "4\n",
      "folder G:\\Chamodi\\LSDYNA3D\\RP_TH_models\\RP_Section_1_new\\2.25m\\2.25m14.5kg\n",
      "1\n",
      "2\n",
      "3\n",
      "4\n",
      "folder G:\\Chamodi\\LSDYNA3D\\RP_TH_models\\RP_Section_1_new\\2.25m\\2.25m16.5kg\n",
      "1\n",
      "2\n",
      "3\n",
      "4\n",
      "folder G:\\Chamodi\\LSDYNA3D\\RP_TH_models\\RP_Section_1_new\\2.25m\\2.25m18.5kg\n",
      "1\n",
      "2\n",
      "3\n",
      "4\n",
      "folder G:\\Chamodi\\LSDYNA3D\\RP_TH_models\\RP_Section_1_new\\2.25m\\2.25m20.5kg\n",
      "1\n",
      "2\n",
      "3\n",
      "4\n",
      "folder G:\\Chamodi\\LSDYNA3D\\RP_TH_models\\RP_Section_1_new\\2.25m\\2.25m22.5kg\n",
      "1\n",
      "2\n",
      "3\n",
      "4\n",
      "folder G:\\Chamodi\\LSDYNA3D\\RP_TH_models\\RP_Section_1_new\\2.25m\\2.25m24.5kg\n",
      "1\n",
      "2\n",
      "3\n",
      "4\n",
      "folder G:\\Chamodi\\LSDYNA3D\\RP_TH_models\\RP_Section_1_new\\2.25m\\2.25m26.5kg\n",
      "1\n",
      "2\n",
      "3\n",
      "4\n",
      "folder G:\\Chamodi\\LSDYNA3D\\RP_TH_models\\RP_Section_1_new\\2.25m\\2.25m28.5kg\n",
      "1\n",
      "2\n",
      "3\n",
      "4\n",
      "folder G:\\Chamodi\\LSDYNA3D\\RP_TH_models\\RP_Section_1_new\\2.25m\\2.25m30.5kg\n",
      "1\n",
      "2\n",
      "3\n",
      "4\n",
      "folder G:\\Chamodi\\LSDYNA3D\\RP_TH_models\\RP_Section_1_new\\2.25m\\2.25m32.5kg\n",
      "1\n",
      "2\n",
      "3\n",
      "4\n",
      "folder G:\\Chamodi\\LSDYNA3D\\RP_TH_models\\RP_Section_1_new\\2.25m\\2.25m34.5kg\n",
      "1\n",
      "2\n",
      "3\n",
      "4\n",
      "folder G:\\Chamodi\\LSDYNA3D\\RP_TH_models\\RP_Section_1_new\\2.25m\\2.25m35.0kg\n",
      "1\n",
      "2\n",
      "3\n",
      "4\n",
      "folder G:\\Chamodi\\LSDYNA3D\\RP_TH_models\\RP_Section_1_new\\2.50m\\2.50m00.5kg\n",
      "1\n",
      "2\n",
      "3\n",
      "4\n",
      "folder G:\\Chamodi\\LSDYNA3D\\RP_TH_models\\RP_Section_1_new\\2.50m\\2.50m02.5kg\n",
      "1\n",
      "2\n",
      "3\n",
      "4\n",
      "folder G:\\Chamodi\\LSDYNA3D\\RP_TH_models\\RP_Section_1_new\\2.50m\\2.50m04.5kg\n",
      "1\n",
      "2\n",
      "3\n",
      "4\n",
      "folder G:\\Chamodi\\LSDYNA3D\\RP_TH_models\\RP_Section_1_new\\2.50m\\2.50m06.5kg\n",
      "1\n",
      "2\n",
      "3\n",
      "4\n",
      "folder G:\\Chamodi\\LSDYNA3D\\RP_TH_models\\RP_Section_1_new\\2.50m\\2.50m08.5kg\n",
      "1\n",
      "2\n",
      "3\n",
      "4\n",
      "folder G:\\Chamodi\\LSDYNA3D\\RP_TH_models\\RP_Section_1_new\\2.50m\\2.50m10.5kg\n",
      "1\n",
      "2\n",
      "3\n",
      "4\n",
      "folder G:\\Chamodi\\LSDYNA3D\\RP_TH_models\\RP_Section_1_new\\2.50m\\2.50m12.5kg\n",
      "1\n",
      "2\n",
      "3\n",
      "4\n",
      "folder G:\\Chamodi\\LSDYNA3D\\RP_TH_models\\RP_Section_1_new\\2.50m\\2.50m14.5kg\n",
      "1\n",
      "2\n",
      "3\n",
      "4\n",
      "folder G:\\Chamodi\\LSDYNA3D\\RP_TH_models\\RP_Section_1_new\\2.50m\\2.50m16.5kg\n",
      "1\n",
      "2\n",
      "3\n",
      "4\n",
      "folder G:\\Chamodi\\LSDYNA3D\\RP_TH_models\\RP_Section_1_new\\2.50m\\2.50m18.5kg\n",
      "1\n",
      "2\n",
      "3\n",
      "4\n",
      "folder G:\\Chamodi\\LSDYNA3D\\RP_TH_models\\RP_Section_1_new\\2.50m\\2.50m20.5kg\n",
      "1\n",
      "2\n",
      "3\n",
      "4\n",
      "folder G:\\Chamodi\\LSDYNA3D\\RP_TH_models\\RP_Section_1_new\\2.50m\\2.50m22.5kg\n",
      "1\n",
      "2\n",
      "3\n",
      "4\n",
      "folder G:\\Chamodi\\LSDYNA3D\\RP_TH_models\\RP_Section_1_new\\2.50m\\2.50m24.5kg\n",
      "1\n",
      "2\n",
      "3\n",
      "4\n",
      "folder G:\\Chamodi\\LSDYNA3D\\RP_TH_models\\RP_Section_1_new\\2.50m\\2.50m26.5kg\n",
      "1\n",
      "2\n",
      "3\n",
      "4\n",
      "folder G:\\Chamodi\\LSDYNA3D\\RP_TH_models\\RP_Section_1_new\\2.50m\\2.50m28.5kg\n",
      "1\n",
      "2\n",
      "3\n",
      "4\n",
      "folder G:\\Chamodi\\LSDYNA3D\\RP_TH_models\\RP_Section_1_new\\2.50m\\2.50m30.5kg\n",
      "1\n",
      "2\n",
      "3\n",
      "4\n",
      "folder G:\\Chamodi\\LSDYNA3D\\RP_TH_models\\RP_Section_1_new\\2.50m\\2.50m32.5kg\n",
      "1\n",
      "2\n",
      "3\n",
      "4\n",
      "folder G:\\Chamodi\\LSDYNA3D\\RP_TH_models\\RP_Section_1_new\\2.50m\\2.50m34.5kg\n",
      "1\n",
      "2\n",
      "3\n",
      "4\n",
      "folder G:\\Chamodi\\LSDYNA3D\\RP_TH_models\\RP_Section_1_new\\2.50m\\2.50m35.0kg\n",
      "1\n",
      "2\n",
      "3\n",
      "4\n",
      "folder G:\\Chamodi\\LSDYNA3D\\RP_TH_models\\RP_Section_1_new\\2.75m\\2.75m00.5kg\n",
      "1\n",
      "2\n",
      "3\n",
      "4\n",
      "folder G:\\Chamodi\\LSDYNA3D\\RP_TH_models\\RP_Section_1_new\\2.75m\\2.75m02.5kg\n",
      "1\n",
      "2\n",
      "3\n",
      "4\n",
      "folder G:\\Chamodi\\LSDYNA3D\\RP_TH_models\\RP_Section_1_new\\2.75m\\2.75m04.5kg\n",
      "1\n",
      "2\n",
      "3\n",
      "4\n",
      "folder G:\\Chamodi\\LSDYNA3D\\RP_TH_models\\RP_Section_1_new\\2.75m\\2.75m06.5kg\n",
      "1\n",
      "2\n",
      "3\n",
      "4\n",
      "folder G:\\Chamodi\\LSDYNA3D\\RP_TH_models\\RP_Section_1_new\\2.75m\\2.75m08.5kg\n",
      "1\n",
      "2\n",
      "3\n",
      "4\n",
      "folder G:\\Chamodi\\LSDYNA3D\\RP_TH_models\\RP_Section_1_new\\2.75m\\2.75m10.5kg\n",
      "1\n",
      "2\n",
      "3\n",
      "4\n",
      "folder G:\\Chamodi\\LSDYNA3D\\RP_TH_models\\RP_Section_1_new\\2.75m\\2.75m12.5kg\n",
      "1\n",
      "2\n",
      "3\n",
      "4\n",
      "folder G:\\Chamodi\\LSDYNA3D\\RP_TH_models\\RP_Section_1_new\\2.75m\\2.75m14.5kg\n",
      "1\n",
      "2\n",
      "3\n",
      "4\n",
      "folder G:\\Chamodi\\LSDYNA3D\\RP_TH_models\\RP_Section_1_new\\2.75m\\2.75m16.5kg\n",
      "1\n",
      "2\n",
      "3\n",
      "4\n",
      "folder G:\\Chamodi\\LSDYNA3D\\RP_TH_models\\RP_Section_1_new\\2.75m\\2.75m18.5kg\n",
      "1\n",
      "2\n",
      "3\n",
      "4\n",
      "folder G:\\Chamodi\\LSDYNA3D\\RP_TH_models\\RP_Section_1_new\\2.75m\\2.75m20.5kg\n",
      "1\n",
      "2\n",
      "3\n",
      "4\n",
      "folder G:\\Chamodi\\LSDYNA3D\\RP_TH_models\\RP_Section_1_new\\2.75m\\2.75m22.5kg\n",
      "1\n",
      "2\n",
      "3\n",
      "4\n",
      "folder G:\\Chamodi\\LSDYNA3D\\RP_TH_models\\RP_Section_1_new\\2.75m\\2.75m24.5kg\n",
      "1\n",
      "2\n",
      "3\n",
      "4\n",
      "folder G:\\Chamodi\\LSDYNA3D\\RP_TH_models\\RP_Section_1_new\\2.75m\\2.75m26.5kg\n",
      "1\n",
      "2\n",
      "3\n",
      "4\n",
      "folder G:\\Chamodi\\LSDYNA3D\\RP_TH_models\\RP_Section_1_new\\2.75m\\2.75m28.5kg\n",
      "1\n",
      "2\n",
      "3\n",
      "4\n",
      "folder G:\\Chamodi\\LSDYNA3D\\RP_TH_models\\RP_Section_1_new\\2.75m\\2.75m30.5kg\n",
      "1\n",
      "2\n",
      "3\n",
      "4\n",
      "folder G:\\Chamodi\\LSDYNA3D\\RP_TH_models\\RP_Section_1_new\\2.75m\\2.75m32.5kg\n",
      "1\n",
      "2\n",
      "3\n",
      "4\n",
      "folder G:\\Chamodi\\LSDYNA3D\\RP_TH_models\\RP_Section_1_new\\2.75m\\2.75m34.5kg\n",
      "1\n",
      "2\n",
      "3\n",
      "4\n",
      "folder G:\\Chamodi\\LSDYNA3D\\RP_TH_models\\RP_Section_1_new\\2.75m\\2.75m35.0kg\n",
      "1\n",
      "2\n",
      "3\n",
      "4\n",
      "folder G:\\Chamodi\\LSDYNA3D\\RP_TH_models\\RP_Section_1_new\\3.00m\\3.00m00.5kg\n",
      "1\n",
      "2\n",
      "3\n",
      "4\n",
      "folder G:\\Chamodi\\LSDYNA3D\\RP_TH_models\\RP_Section_1_new\\3.00m\\3.00m02.5kg\n",
      "1\n",
      "2\n",
      "3\n",
      "4\n",
      "folder G:\\Chamodi\\LSDYNA3D\\RP_TH_models\\RP_Section_1_new\\3.00m\\3.00m04.5kg\n",
      "1\n",
      "2\n",
      "3\n",
      "4\n",
      "folder G:\\Chamodi\\LSDYNA3D\\RP_TH_models\\RP_Section_1_new\\3.00m\\3.00m06.5kg\n",
      "1\n",
      "2\n",
      "3\n",
      "4\n",
      "folder G:\\Chamodi\\LSDYNA3D\\RP_TH_models\\RP_Section_1_new\\3.00m\\3.00m08.5kg\n",
      "1\n",
      "2\n",
      "3\n",
      "4\n",
      "folder G:\\Chamodi\\LSDYNA3D\\RP_TH_models\\RP_Section_1_new\\3.00m\\3.00m10.5kg\n",
      "1\n",
      "2\n",
      "3\n",
      "4\n",
      "folder G:\\Chamodi\\LSDYNA3D\\RP_TH_models\\RP_Section_1_new\\3.00m\\3.00m12.5kg\n",
      "1\n",
      "2\n",
      "3\n",
      "4\n",
      "folder G:\\Chamodi\\LSDYNA3D\\RP_TH_models\\RP_Section_1_new\\3.00m\\3.00m14.5kg\n",
      "1\n",
      "2\n",
      "3\n",
      "4\n",
      "folder G:\\Chamodi\\LSDYNA3D\\RP_TH_models\\RP_Section_1_new\\3.00m\\3.00m16.5kg\n",
      "1\n",
      "2\n",
      "3\n",
      "4\n",
      "folder G:\\Chamodi\\LSDYNA3D\\RP_TH_models\\RP_Section_1_new\\3.00m\\3.00m18.5kg\n",
      "1\n",
      "2\n",
      "3\n",
      "4\n",
      "folder G:\\Chamodi\\LSDYNA3D\\RP_TH_models\\RP_Section_1_new\\3.00m\\3.00m20.5kg\n",
      "1\n",
      "2\n",
      "3\n",
      "4\n",
      "folder G:\\Chamodi\\LSDYNA3D\\RP_TH_models\\RP_Section_1_new\\3.00m\\3.00m22.5kg\n",
      "1\n",
      "2\n",
      "3\n",
      "4\n",
      "folder G:\\Chamodi\\LSDYNA3D\\RP_TH_models\\RP_Section_1_new\\3.00m\\3.00m24.5kg\n",
      "1\n",
      "2\n",
      "3\n",
      "4\n",
      "folder G:\\Chamodi\\LSDYNA3D\\RP_TH_models\\RP_Section_1_new\\3.00m\\3.00m26.5kg\n",
      "1\n",
      "2\n",
      "3\n",
      "4\n",
      "folder G:\\Chamodi\\LSDYNA3D\\RP_TH_models\\RP_Section_1_new\\3.00m\\3.00m28.5kg\n",
      "1\n",
      "2\n",
      "3\n",
      "4\n",
      "folder G:\\Chamodi\\LSDYNA3D\\RP_TH_models\\RP_Section_1_new\\3.00m\\3.00m30.5kg\n",
      "1\n",
      "2\n",
      "3\n",
      "4\n",
      "folder G:\\Chamodi\\LSDYNA3D\\RP_TH_models\\RP_Section_1_new\\3.00m\\3.00m32.5kg\n",
      "1\n",
      "2\n",
      "3\n",
      "4\n",
      "folder G:\\Chamodi\\LSDYNA3D\\RP_TH_models\\RP_Section_1_new\\3.00m\\3.00m34.5kg\n",
      "1\n",
      "2\n",
      "3\n",
      "4\n",
      "folder G:\\Chamodi\\LSDYNA3D\\RP_TH_models\\RP_Section_1_new\\3.00m\\3.00m35.0kg\n",
      "1\n",
      "2\n",
      "3\n",
      "4\n"
     ]
    }
   ],
   "source": [
    "#dataset = pd.DataFrame(columns = ['Charge_mass', 'Standoff_distance', 'Time', 'Pressure', 'Phase'])\n",
    "df_list = []\n",
    "\n",
    "for folder1 in input_dir2:\n",
    "    \n",
    "    input_dir3 =  [folder2 for folder2 in folder1.iterdir() if folder2.is_dir()] # folder2 - 07m00.5kg\n",
    "    \n",
    "    for folder2 in input_dir3:\n",
    "        \n",
    "        print ('folder', folder2)\n",
    "        files1 = [file1 for file1 in folder2.rglob(\"*.xlsx\")]\n",
    "    \n",
    "        for file1 in files1:\n",
    "            df_list.append(pd.read_excel(file1))\n",
    "            print (file1.stem)\n",
    "    \n",
    "dataset = pd.concat(df_list, ignore_index = True)"
   ]
  },
  {
   "cell_type": "code",
   "execution_count": 4,
   "metadata": {
    "colab": {},
    "colab_type": "code",
    "id": "B9CV13Co_HHM",
    "ExecuteTime": {
     "end_time": "2024-08-16T02:44:28.451514700Z",
     "start_time": "2024-08-16T02:44:28.417981200Z"
    }
   },
   "outputs": [
    {
     "name": "stdout",
     "output_type": "stream",
     "text": [
      "<class 'pandas.core.frame.DataFrame'>\n",
      "RangeIndex: 71701 entries, 0 to 71700\n",
      "Data columns (total 6 columns):\n",
      " #   Column             Non-Null Count  Dtype  \n",
      "---  ------             --------------  -----  \n",
      " 0   Mass               71701 non-null  float64\n",
      " 1   Standoff distance  71701 non-null  float64\n",
      " 2   Angle              71701 non-null  int64  \n",
      " 3   Time               71701 non-null  float64\n",
      " 4   Phase              71701 non-null  object \n",
      " 5   Pressure           71701 non-null  float64\n",
      "dtypes: float64(4), int64(1), object(1)\n",
      "memory usage: 3.3+ MB\n"
     ]
    }
   ],
   "source": [
    "dataset.info()"
   ]
  },
  {
   "cell_type": "code",
   "execution_count": 5,
   "outputs": [
    {
     "name": "stdout",
     "output_type": "stream",
     "text": [
      "<class 'pandas.core.frame.DataFrame'>\n",
      "RangeIndex: 71701 entries, 0 to 71700\n",
      "Data columns (total 7 columns):\n",
      " #   Column             Non-Null Count  Dtype  \n",
      "---  ------             --------------  -----  \n",
      " 0   Mass               71701 non-null  float64\n",
      " 1   Standoff distance  71701 non-null  float64\n",
      " 2   Angle              71701 non-null  int64  \n",
      " 3   Time               71701 non-null  float64\n",
      " 4   Pressure           71701 non-null  float64\n",
      " 5   Phase_negative     71701 non-null  uint8  \n",
      " 6   Phase_positive     71701 non-null  uint8  \n",
      "dtypes: float64(4), int64(1), uint8(2)\n",
      "memory usage: 2.9 MB\n"
     ]
    }
   ],
   "source": [
    "dataset['Phase'] = dataset['Phase'].replace({'negative_increasing': 'negative', 'negative_decreasing': 'negative'})\n",
    "dataset = pd.get_dummies(dataset, columns =['Phase'], dtype = np.uint8)\n",
    "dataset.info()"
   ],
   "metadata": {
    "collapsed": false,
    "ExecuteTime": {
     "end_time": "2024-08-16T02:44:28.597176Z",
     "start_time": "2024-08-16T02:44:28.455514200Z"
    }
   }
  },
  {
   "cell_type": "code",
   "execution_count": 6,
   "outputs": [
    {
     "data": {
      "text/plain": "    Mass  Standoff distance  Angle      Time    Pressure  Phase_negative  \\\n0    0.5                1.0      0  0.675620  1835.74400               0   \n1    0.5                1.0      0  0.678642  1834.42100               0   \n2    0.5                1.0      0  0.681641  1825.07100               0   \n3    0.5                1.0      0  0.690485  1762.36500               0   \n4    0.5                1.0      0  0.729239  1252.16300               0   \n5    0.5                1.0      0  0.749695  1068.86900               0   \n6    0.5                1.0      0  0.769045   935.35660               0   \n7    0.5                1.0      0  0.800520   758.47430               0   \n8    0.5                1.0      0  0.831368   620.15920               0   \n9    0.5                1.0      0  0.846691   564.04980               0   \n10   0.5                1.0      0  0.864671   506.87930               0   \n11   0.5                1.0      0  0.884545   451.83270               0   \n12   0.5                1.0      0  0.906902   397.41580               0   \n13   0.5                1.0      0  0.927155   353.53220               0   \n14   0.5                1.0      0  0.947124   314.68150               0   \n15   0.5                1.0      0  0.966568   281.10310               0   \n16   0.5                1.0      0  0.986417   251.33860               0   \n17   0.5                1.0      0  1.006225   226.02760               0   \n18   0.5                1.0      0  1.025679   205.07110               0   \n19   0.5                1.0      0  1.048664   184.52760               0   \n20   0.5                1.0      0  1.073196   166.17430               0   \n21   0.5                1.0      0  1.108821   143.37730               0   \n22   0.5                1.0      0  1.156518   116.69450               0   \n23   0.5                1.0      0  1.227624    79.94161               0   \n24   0.5                1.0      0  1.252754    68.08047               0   \n25   0.5                1.0      0  1.278528    56.94484               0   \n26   0.5                1.0      0  1.321861    40.67422               0   \n27   0.5                1.0      0  1.345147    33.06606               0   \n28   0.5                1.0      0  1.368550    26.09805               0   \n29   0.5                1.0      0  1.395020    18.93172               0   \n\n    Phase_positive  \n0                1  \n1                1  \n2                1  \n3                1  \n4                1  \n5                1  \n6                1  \n7                1  \n8                1  \n9                1  \n10               1  \n11               1  \n12               1  \n13               1  \n14               1  \n15               1  \n16               1  \n17               1  \n18               1  \n19               1  \n20               1  \n21               1  \n22               1  \n23               1  \n24               1  \n25               1  \n26               1  \n27               1  \n28               1  \n29               1  ",
      "text/html": "<div>\n<style scoped>\n    .dataframe tbody tr th:only-of-type {\n        vertical-align: middle;\n    }\n\n    .dataframe tbody tr th {\n        vertical-align: top;\n    }\n\n    .dataframe thead th {\n        text-align: right;\n    }\n</style>\n<table border=\"1\" class=\"dataframe\">\n  <thead>\n    <tr style=\"text-align: right;\">\n      <th></th>\n      <th>Mass</th>\n      <th>Standoff distance</th>\n      <th>Angle</th>\n      <th>Time</th>\n      <th>Pressure</th>\n      <th>Phase_negative</th>\n      <th>Phase_positive</th>\n    </tr>\n  </thead>\n  <tbody>\n    <tr>\n      <th>0</th>\n      <td>0.5</td>\n      <td>1.0</td>\n      <td>0</td>\n      <td>0.675620</td>\n      <td>1835.74400</td>\n      <td>0</td>\n      <td>1</td>\n    </tr>\n    <tr>\n      <th>1</th>\n      <td>0.5</td>\n      <td>1.0</td>\n      <td>0</td>\n      <td>0.678642</td>\n      <td>1834.42100</td>\n      <td>0</td>\n      <td>1</td>\n    </tr>\n    <tr>\n      <th>2</th>\n      <td>0.5</td>\n      <td>1.0</td>\n      <td>0</td>\n      <td>0.681641</td>\n      <td>1825.07100</td>\n      <td>0</td>\n      <td>1</td>\n    </tr>\n    <tr>\n      <th>3</th>\n      <td>0.5</td>\n      <td>1.0</td>\n      <td>0</td>\n      <td>0.690485</td>\n      <td>1762.36500</td>\n      <td>0</td>\n      <td>1</td>\n    </tr>\n    <tr>\n      <th>4</th>\n      <td>0.5</td>\n      <td>1.0</td>\n      <td>0</td>\n      <td>0.729239</td>\n      <td>1252.16300</td>\n      <td>0</td>\n      <td>1</td>\n    </tr>\n    <tr>\n      <th>5</th>\n      <td>0.5</td>\n      <td>1.0</td>\n      <td>0</td>\n      <td>0.749695</td>\n      <td>1068.86900</td>\n      <td>0</td>\n      <td>1</td>\n    </tr>\n    <tr>\n      <th>6</th>\n      <td>0.5</td>\n      <td>1.0</td>\n      <td>0</td>\n      <td>0.769045</td>\n      <td>935.35660</td>\n      <td>0</td>\n      <td>1</td>\n    </tr>\n    <tr>\n      <th>7</th>\n      <td>0.5</td>\n      <td>1.0</td>\n      <td>0</td>\n      <td>0.800520</td>\n      <td>758.47430</td>\n      <td>0</td>\n      <td>1</td>\n    </tr>\n    <tr>\n      <th>8</th>\n      <td>0.5</td>\n      <td>1.0</td>\n      <td>0</td>\n      <td>0.831368</td>\n      <td>620.15920</td>\n      <td>0</td>\n      <td>1</td>\n    </tr>\n    <tr>\n      <th>9</th>\n      <td>0.5</td>\n      <td>1.0</td>\n      <td>0</td>\n      <td>0.846691</td>\n      <td>564.04980</td>\n      <td>0</td>\n      <td>1</td>\n    </tr>\n    <tr>\n      <th>10</th>\n      <td>0.5</td>\n      <td>1.0</td>\n      <td>0</td>\n      <td>0.864671</td>\n      <td>506.87930</td>\n      <td>0</td>\n      <td>1</td>\n    </tr>\n    <tr>\n      <th>11</th>\n      <td>0.5</td>\n      <td>1.0</td>\n      <td>0</td>\n      <td>0.884545</td>\n      <td>451.83270</td>\n      <td>0</td>\n      <td>1</td>\n    </tr>\n    <tr>\n      <th>12</th>\n      <td>0.5</td>\n      <td>1.0</td>\n      <td>0</td>\n      <td>0.906902</td>\n      <td>397.41580</td>\n      <td>0</td>\n      <td>1</td>\n    </tr>\n    <tr>\n      <th>13</th>\n      <td>0.5</td>\n      <td>1.0</td>\n      <td>0</td>\n      <td>0.927155</td>\n      <td>353.53220</td>\n      <td>0</td>\n      <td>1</td>\n    </tr>\n    <tr>\n      <th>14</th>\n      <td>0.5</td>\n      <td>1.0</td>\n      <td>0</td>\n      <td>0.947124</td>\n      <td>314.68150</td>\n      <td>0</td>\n      <td>1</td>\n    </tr>\n    <tr>\n      <th>15</th>\n      <td>0.5</td>\n      <td>1.0</td>\n      <td>0</td>\n      <td>0.966568</td>\n      <td>281.10310</td>\n      <td>0</td>\n      <td>1</td>\n    </tr>\n    <tr>\n      <th>16</th>\n      <td>0.5</td>\n      <td>1.0</td>\n      <td>0</td>\n      <td>0.986417</td>\n      <td>251.33860</td>\n      <td>0</td>\n      <td>1</td>\n    </tr>\n    <tr>\n      <th>17</th>\n      <td>0.5</td>\n      <td>1.0</td>\n      <td>0</td>\n      <td>1.006225</td>\n      <td>226.02760</td>\n      <td>0</td>\n      <td>1</td>\n    </tr>\n    <tr>\n      <th>18</th>\n      <td>0.5</td>\n      <td>1.0</td>\n      <td>0</td>\n      <td>1.025679</td>\n      <td>205.07110</td>\n      <td>0</td>\n      <td>1</td>\n    </tr>\n    <tr>\n      <th>19</th>\n      <td>0.5</td>\n      <td>1.0</td>\n      <td>0</td>\n      <td>1.048664</td>\n      <td>184.52760</td>\n      <td>0</td>\n      <td>1</td>\n    </tr>\n    <tr>\n      <th>20</th>\n      <td>0.5</td>\n      <td>1.0</td>\n      <td>0</td>\n      <td>1.073196</td>\n      <td>166.17430</td>\n      <td>0</td>\n      <td>1</td>\n    </tr>\n    <tr>\n      <th>21</th>\n      <td>0.5</td>\n      <td>1.0</td>\n      <td>0</td>\n      <td>1.108821</td>\n      <td>143.37730</td>\n      <td>0</td>\n      <td>1</td>\n    </tr>\n    <tr>\n      <th>22</th>\n      <td>0.5</td>\n      <td>1.0</td>\n      <td>0</td>\n      <td>1.156518</td>\n      <td>116.69450</td>\n      <td>0</td>\n      <td>1</td>\n    </tr>\n    <tr>\n      <th>23</th>\n      <td>0.5</td>\n      <td>1.0</td>\n      <td>0</td>\n      <td>1.227624</td>\n      <td>79.94161</td>\n      <td>0</td>\n      <td>1</td>\n    </tr>\n    <tr>\n      <th>24</th>\n      <td>0.5</td>\n      <td>1.0</td>\n      <td>0</td>\n      <td>1.252754</td>\n      <td>68.08047</td>\n      <td>0</td>\n      <td>1</td>\n    </tr>\n    <tr>\n      <th>25</th>\n      <td>0.5</td>\n      <td>1.0</td>\n      <td>0</td>\n      <td>1.278528</td>\n      <td>56.94484</td>\n      <td>0</td>\n      <td>1</td>\n    </tr>\n    <tr>\n      <th>26</th>\n      <td>0.5</td>\n      <td>1.0</td>\n      <td>0</td>\n      <td>1.321861</td>\n      <td>40.67422</td>\n      <td>0</td>\n      <td>1</td>\n    </tr>\n    <tr>\n      <th>27</th>\n      <td>0.5</td>\n      <td>1.0</td>\n      <td>0</td>\n      <td>1.345147</td>\n      <td>33.06606</td>\n      <td>0</td>\n      <td>1</td>\n    </tr>\n    <tr>\n      <th>28</th>\n      <td>0.5</td>\n      <td>1.0</td>\n      <td>0</td>\n      <td>1.368550</td>\n      <td>26.09805</td>\n      <td>0</td>\n      <td>1</td>\n    </tr>\n    <tr>\n      <th>29</th>\n      <td>0.5</td>\n      <td>1.0</td>\n      <td>0</td>\n      <td>1.395020</td>\n      <td>18.93172</td>\n      <td>0</td>\n      <td>1</td>\n    </tr>\n  </tbody>\n</table>\n</div>"
     },
     "execution_count": 6,
     "metadata": {},
     "output_type": "execute_result"
    }
   ],
   "source": [
    "dataset.head(30)"
   ],
   "metadata": {
    "collapsed": false,
    "ExecuteTime": {
     "end_time": "2024-08-16T02:44:28.770827200Z",
     "start_time": "2024-08-16T02:44:28.589175900Z"
    }
   }
  },
  {
   "cell_type": "code",
   "execution_count": 7,
   "metadata": {
    "ExecuteTime": {
     "end_time": "2024-08-16T02:44:28.971045Z",
     "start_time": "2024-08-16T02:44:28.771827100Z"
    }
   },
   "outputs": [
    {
     "name": "stdout",
     "output_type": "stream",
     "text": [
      "(71701, 6) (71701,)\n"
     ]
    }
   ],
   "source": [
    "y = dataset['Pressure']\n",
    "X = dataset.drop(['Pressure'], axis=1)\n",
    "print(X.shape, y.shape)"
   ]
  },
  {
   "cell_type": "code",
   "execution_count": 8,
   "metadata": {
    "ExecuteTime": {
     "end_time": "2024-08-16T02:44:29.121192200Z",
     "start_time": "2024-08-16T02:44:28.977060Z"
    }
   },
   "outputs": [],
   "source": [
    "# convert to numpy array\n",
    "X = np.array(X)\n",
    "y = np.array(y)"
   ]
  },
  {
   "cell_type": "code",
   "execution_count": 9,
   "metadata": {
    "colab": {},
    "colab_type": "code",
    "id": "L5edeb2r_agx",
    "ExecuteTime": {
     "end_time": "2024-08-16T02:44:30.359104600Z",
     "start_time": "2024-08-16T02:44:29.123191900Z"
    }
   },
   "outputs": [],
   "source": [
    "from sklearn.model_selection import train_test_split\n",
    "X_train, X_test, y_train, y_test = train_test_split(X,\n",
    "                                                    y,\n",
    "                                                    test_size = 0.4,\n",
    "                                                    random_state = 0)"
   ]
  },
  {
   "cell_type": "code",
   "execution_count": 10,
   "metadata": {
    "colab": {},
    "colab_type": "code",
    "id": "L5edeb2r_agx",
    "ExecuteTime": {
     "end_time": "2024-08-16T02:44:30.388463900Z",
     "start_time": "2024-08-16T02:44:30.362105400Z"
    }
   },
   "outputs": [],
   "source": [
    "X_val, X_test, y_val, y_test = train_test_split(X_test,\n",
    "                                                y_test,\n",
    "                                                test_size = 0.5,\n",
    "                                                random_state = 0)"
   ]
  },
  {
   "cell_type": "code",
   "execution_count": 11,
   "outputs": [
    {
     "name": "stdout",
     "output_type": "stream",
     "text": [
      "[[ 1.39645554e+00 -3.13218895e-03  4.43663308e-01 -7.91917823e-01\n",
      "   0.00000000e+00  1.00000000e+00]\n",
      " [-1.14818828e+00  1.15514949e+00 -4.57616171e-01 -4.34229509e-01\n",
      "   0.00000000e+00  1.00000000e+00]\n",
      " [ 4.17746376e-01 -7.75319975e-01 -4.57616171e-01 -9.60540081e-01\n",
      "   0.00000000e+00  1.00000000e+00]\n",
      " ...\n",
      " [-3.65220953e-01  3.82961704e-01 -4.57616171e-01 -8.29831907e-01\n",
      "   0.00000000e+00  1.00000000e+00]\n",
      " [ 2.62627117e-02  3.82961704e-01 -1.35889565e+00  7.26167937e-01\n",
      "   1.00000000e+00  0.00000000e+00]\n",
      " [ 4.17746376e-01  1.54124338e+00  4.43663308e-01  3.98188894e+00\n",
      "   1.00000000e+00  0.00000000e+00]]\n"
     ]
    }
   ],
   "source": [
    "from sklearn.preprocessing import StandardScaler\n",
    "sc = StandardScaler()\n",
    "X_train[:,0:4] = sc.fit_transform(X_train[:, 0:4])\n",
    "print (X_train)"
   ],
   "metadata": {
    "collapsed": false,
    "ExecuteTime": {
     "end_time": "2024-08-16T02:44:30.600174400Z",
     "start_time": "2024-08-16T02:44:30.390475400Z"
    }
   }
  },
  {
   "cell_type": "code",
   "execution_count": 12,
   "outputs": [
    {
     "name": "stdout",
     "output_type": "stream",
     "text": [
      "[[ 0.02626271  1.54124338  1.34494279 -0.36275182  0.          1.        ]\n",
      " [ 0.22200454 -0.38922608 -0.45761617 -0.55629654  0.          1.        ]\n",
      " [-0.56096278  0.7690556  -1.35889565 -0.39725537  1.          0.        ]\n",
      " ...\n",
      " [ 0.80923004 -1.54750776 -0.45761617 -0.68807892  0.          1.        ]\n",
      " [ 1.00497187  0.3829617  -0.45761617 -0.83995595  0.          1.        ]\n",
      " [ 1.2007137  -1.54750776  1.34494279 -0.91363287  0.          1.        ]]\n"
     ]
    }
   ],
   "source": [
    "X_test[:,0:4] = sc.transform(X_test[:,0:4])\n",
    "print (X_test)"
   ],
   "metadata": {
    "collapsed": false,
    "ExecuteTime": {
     "end_time": "2024-08-16T02:44:30.811903300Z",
     "start_time": "2024-08-16T02:44:30.604173500Z"
    }
   }
  },
  {
   "cell_type": "code",
   "execution_count": 13,
   "outputs": [
    {
     "name": "stdout",
     "output_type": "stream",
     "text": [
      "[[-1.14818828 -0.77531997  0.44366331 -0.9023219   0.          1.        ]\n",
      " [ 0.61348821 -0.38922608 -1.35889565  0.38034883  1.          0.        ]\n",
      " [ 1.39645554  0.7690556  -1.35889565 -0.72316618  0.          1.        ]\n",
      " ...\n",
      " [ 0.02626271  1.54124338  1.34494279 -0.17293315  0.          1.        ]\n",
      " [ 0.41774638 -0.00313219 -1.35889565 -0.62864609  0.          1.        ]\n",
      " [ 0.41774638  1.15514949 -1.35889565 -0.61377708  0.          1.        ]]\n"
     ]
    }
   ],
   "source": [
    "X_val[:,0:4] = sc.transform(X_val[:,0:4])\n",
    "print (X_val)"
   ],
   "metadata": {
    "collapsed": false,
    "ExecuteTime": {
     "end_time": "2024-08-16T02:44:31.067123400Z",
     "start_time": "2024-08-16T02:44:30.802897200Z"
    }
   }
  },
  {
   "cell_type": "code",
   "execution_count": 14,
   "outputs": [
    {
     "name": "stdout",
     "output_type": "stream",
     "text": [
      "X_train 43020\n",
      "X_test 14341\n",
      "X_val 14340\n"
     ]
    }
   ],
   "source": [
    "print (\"X_train\", len(X_train))\n",
    "print (\"X_test\", len(X_test))\n",
    "print (\"X_val\", len(X_val))"
   ],
   "metadata": {
    "collapsed": false,
    "ExecuteTime": {
     "end_time": "2024-08-16T02:44:31.298763Z",
     "start_time": "2024-08-16T02:44:31.063103500Z"
    }
   }
  },
  {
   "cell_type": "markdown",
   "metadata": {
    "colab_type": "text",
    "id": "_mSLlAT9_eyI"
   },
   "source": [
    "## Part 3 - Building the ANN"
   ]
  },
  {
   "cell_type": "code",
   "execution_count": 15,
   "metadata": {
    "colab": {},
    "colab_type": "code",
    "id": "J6Hd97Ls__Nz",
    "ExecuteTime": {
     "end_time": "2024-08-16T02:44:31.530916Z",
     "start_time": "2024-08-16T02:44:31.292757100Z"
    }
   },
   "outputs": [],
   "source": [
    "ann = tf.keras.models.Sequential()"
   ]
  },
  {
   "cell_type": "code",
   "execution_count": 16,
   "metadata": {
    "colab": {},
    "colab_type": "code",
    "id": "ksO_Vv40AHix",
    "ExecuteTime": {
     "end_time": "2024-08-16T02:44:31.777710900Z",
     "start_time": "2024-08-16T02:44:31.533915800Z"
    }
   },
   "outputs": [],
   "source": [
    "ann.add(tf.keras.layers.Dense(units=250,\n",
    "                              input_shape=(X_train.shape[1],),\n",
    "                              activation='relu'))\n",
    "ann.add(tf.keras.layers.Dense(units=225,\n",
    "                              activation='relu'))\n",
    "ann.add(tf.keras.layers.Dense(units=200,\n",
    "                              activation='relu'))"
   ]
  },
  {
   "cell_type": "code",
   "execution_count": 17,
   "metadata": {
    "colab": {},
    "colab_type": "code",
    "id": "YFATpzsUAkLL",
    "ExecuteTime": {
     "end_time": "2024-08-16T02:44:31.838806900Z",
     "start_time": "2024-08-16T02:44:31.778711500Z"
    }
   },
   "outputs": [],
   "source": [
    "ann.add(tf.keras.layers.Dense(units=1,\n",
    "                              activation='linear'))"
   ]
  },
  {
   "cell_type": "code",
   "execution_count": 18,
   "metadata": {
    "ExecuteTime": {
     "end_time": "2024-08-16T02:44:32.018126300Z",
     "start_time": "2024-08-16T02:44:31.840814Z"
    }
   },
   "outputs": [
    {
     "name": "stdout",
     "output_type": "stream",
     "text": [
      "Model: \"sequential\"\n",
      "_________________________________________________________________\n",
      " Layer (type)                Output Shape              Param #   \n",
      "=================================================================\n",
      " dense (Dense)               (None, 250)               1750      \n",
      "                                                                 \n",
      " dense_1 (Dense)             (None, 225)               56475     \n",
      "                                                                 \n",
      " dense_2 (Dense)             (None, 200)               45200     \n",
      "                                                                 \n",
      " dense_3 (Dense)             (None, 1)                 201       \n",
      "                                                                 \n",
      "=================================================================\n",
      "Total params: 103,626\n",
      "Trainable params: 103,626\n",
      "Non-trainable params: 0\n",
      "_________________________________________________________________\n"
     ]
    }
   ],
   "source": [
    "ann.summary()"
   ]
  },
  {
   "cell_type": "markdown",
   "metadata": {
    "colab_type": "text",
    "id": "fq7e4fF6A1yy"
   },
   "source": [
    "## Part 4 - Training the ANN"
   ]
  },
  {
   "cell_type": "code",
   "execution_count": 19,
   "metadata": {
    "colab": {},
    "colab_type": "code",
    "id": "pesgbWlCAtB4",
    "ExecuteTime": {
     "end_time": "2024-08-16T02:44:32.113203900Z",
     "start_time": "2024-08-16T02:44:31.995115200Z"
    }
   },
   "outputs": [],
   "source": [
    "# from tensorflow.keras.optimizers import Adam\n",
    "from keras.optimizers import Adam\n",
    "opt = Adam(learning_rate=0.001)\n",
    "ann.compile(optimizer = opt,\n",
    "            loss = 'mean_squared_error',\n",
    "            metrics = ['mae'])"
   ]
  },
  {
   "cell_type": "code",
   "execution_count": 20,
   "metadata": {
    "ExecuteTime": {
     "end_time": "2024-08-16T02:44:32.265324900Z",
     "start_time": "2024-08-16T02:44:32.116210800Z"
    }
   },
   "outputs": [],
   "source": [
    "# protects from unnecessary further training of the model if a particular metric does not continue to improve over a number of n epochs. In such a case, the model training would be automatically aborted.\n",
    "from keras.callbacks import EarlyStopping\n",
    "es = EarlyStopping(monitor='val_loss',\n",
    "                   mode='min',\n",
    "                   patience=50,\n",
    "                   restore_best_weights = True)"
   ]
  },
  {
   "cell_type": "code",
   "execution_count": 21,
   "metadata": {
    "colab": {
     "base_uri": "https://localhost:8080/",
     "height": 1000
    },
    "colab_type": "code",
    "id": "c_vV-tiiA5zn",
    "outputId": "4a2b6ee6-ed75-4698-9069-b250e613803f",
    "ExecuteTime": {
     "end_time": "2024-08-16T03:08:21.947599700Z",
     "start_time": "2024-08-16T02:44:32.268325200Z"
    }
   },
   "outputs": [
    {
     "name": "stdout",
     "output_type": "stream",
     "text": [
      "Epoch 1/500\n",
      "1434/1434 [==============================] - 42s 29ms/step - loss: 6730726.0000 - mae: 1010.5914 - val_loss: 4203383.0000 - val_mae: 651.3429\n",
      "Epoch 2/500\n",
      "1434/1434 [==============================] - 6s 4ms/step - loss: 2523289.0000 - mae: 545.8746 - val_loss: 1915078.7500 - val_mae: 471.0501\n",
      "Epoch 3/500\n",
      "1434/1434 [==============================] - 6s 4ms/step - loss: 1439421.3750 - mae: 360.5810 - val_loss: 1070398.3750 - val_mae: 301.8782\n",
      "Epoch 4/500\n",
      "1434/1434 [==============================] - 6s 4ms/step - loss: 1101998.6250 - mae: 295.4668 - val_loss: 1358692.7500 - val_mae: 320.2086\n",
      "Epoch 5/500\n",
      "1434/1434 [==============================] - 6s 4ms/step - loss: 952659.6875 - mae: 263.0008 - val_loss: 787549.5000 - val_mae: 202.3807\n",
      "Epoch 6/500\n",
      "1434/1434 [==============================] - 7s 5ms/step - loss: 966798.7500 - mae: 266.4778 - val_loss: 748184.3125 - val_mae: 250.5685\n",
      "Epoch 7/500\n",
      "1434/1434 [==============================] - 6s 4ms/step - loss: 897927.9375 - mae: 260.2179 - val_loss: 712390.6875 - val_mae: 200.0723\n",
      "Epoch 8/500\n",
      "1434/1434 [==============================] - 7s 5ms/step - loss: 1032537.8125 - mae: 275.6046 - val_loss: 703344.3750 - val_mae: 218.8529\n",
      "Epoch 9/500\n",
      "1434/1434 [==============================] - 6s 4ms/step - loss: 998568.2500 - mae: 264.0228 - val_loss: 837892.6250 - val_mae: 256.3328\n",
      "Epoch 10/500\n",
      "1434/1434 [==============================] - 6s 4ms/step - loss: 897716.9375 - mae: 244.2573 - val_loss: 625546.6875 - val_mae: 196.9629\n",
      "Epoch 11/500\n",
      "1434/1434 [==============================] - 6s 4ms/step - loss: 988726.8750 - mae: 259.9915 - val_loss: 1959194.5000 - val_mae: 459.6505\n",
      "Epoch 12/500\n",
      "1434/1434 [==============================] - 6s 4ms/step - loss: 822869.3750 - mae: 235.1880 - val_loss: 688985.3750 - val_mae: 221.0241\n",
      "Epoch 13/500\n",
      "1434/1434 [==============================] - 7s 5ms/step - loss: 847732.5000 - mae: 245.4583 - val_loss: 1013036.6250 - val_mae: 231.3457\n",
      "Epoch 14/500\n",
      "1434/1434 [==============================] - 6s 4ms/step - loss: 922270.5625 - mae: 249.2604 - val_loss: 810740.3125 - val_mae: 225.4417\n",
      "Epoch 15/500\n",
      "1434/1434 [==============================] - 7s 5ms/step - loss: 843960.1250 - mae: 240.2799 - val_loss: 728318.6875 - val_mae: 225.8790\n",
      "Epoch 16/500\n",
      "1434/1434 [==============================] - 6s 4ms/step - loss: 898776.9375 - mae: 241.3315 - val_loss: 1033852.9375 - val_mae: 246.4187\n",
      "Epoch 17/500\n",
      "1434/1434 [==============================] - 6s 4ms/step - loss: 924939.1875 - mae: 245.4603 - val_loss: 735662.1250 - val_mae: 217.4125\n",
      "Epoch 18/500\n",
      "1434/1434 [==============================] - 6s 4ms/step - loss: 843332.0000 - mae: 229.8799 - val_loss: 627908.8750 - val_mae: 202.7048\n",
      "Epoch 19/500\n",
      "1434/1434 [==============================] - 6s 4ms/step - loss: 803115.9375 - mae: 224.4915 - val_loss: 1262536.6250 - val_mae: 295.0699\n",
      "Epoch 20/500\n",
      "1434/1434 [==============================] - 6s 5ms/step - loss: 815629.8750 - mae: 224.6405 - val_loss: 599998.6875 - val_mae: 186.1189\n",
      "Epoch 21/500\n",
      "1434/1434 [==============================] - 6s 4ms/step - loss: 925576.8125 - mae: 242.6145 - val_loss: 627179.8750 - val_mae: 191.1112\n",
      "Epoch 22/500\n",
      "1434/1434 [==============================] - 6s 4ms/step - loss: 804292.5625 - mae: 221.5508 - val_loss: 638813.1250 - val_mae: 172.6044\n",
      "Epoch 23/500\n",
      "1434/1434 [==============================] - 7s 5ms/step - loss: 806625.5000 - mae: 221.6480 - val_loss: 659497.1875 - val_mae: 188.7061\n",
      "Epoch 24/500\n",
      "1434/1434 [==============================] - 6s 4ms/step - loss: 833323.8750 - mae: 226.9334 - val_loss: 741925.9375 - val_mae: 217.7637\n",
      "Epoch 25/500\n",
      "1434/1434 [==============================] - 6s 4ms/step - loss: 818293.0000 - mae: 216.9468 - val_loss: 577103.7500 - val_mae: 194.2055\n",
      "Epoch 26/500\n",
      "1434/1434 [==============================] - 6s 4ms/step - loss: 759493.4375 - mae: 211.7327 - val_loss: 764244.6250 - val_mae: 204.7038\n",
      "Epoch 27/500\n",
      "1434/1434 [==============================] - 6s 4ms/step - loss: 765677.0000 - mae: 206.4509 - val_loss: 687039.7500 - val_mae: 167.2734\n",
      "Epoch 28/500\n",
      "1434/1434 [==============================] - 6s 4ms/step - loss: 946623.3750 - mae: 242.7657 - val_loss: 853115.5625 - val_mae: 220.6235\n",
      "Epoch 29/500\n",
      "1434/1434 [==============================] - 6s 4ms/step - loss: 757193.3125 - mae: 210.5153 - val_loss: 587848.2500 - val_mae: 159.9801\n",
      "Epoch 30/500\n",
      "1434/1434 [==============================] - 6s 4ms/step - loss: 822931.4375 - mae: 213.1129 - val_loss: 1208085.8750 - val_mae: 259.2133\n",
      "Epoch 31/500\n",
      "1434/1434 [==============================] - 6s 4ms/step - loss: 845782.1250 - mae: 229.3895 - val_loss: 654676.5625 - val_mae: 204.2910\n",
      "Epoch 32/500\n",
      "1434/1434 [==============================] - 7s 5ms/step - loss: 774393.5000 - mae: 211.7158 - val_loss: 1256621.3750 - val_mae: 282.0440\n",
      "Epoch 33/500\n",
      "1434/1434 [==============================] - 6s 4ms/step - loss: 766666.8750 - mae: 208.5311 - val_loss: 988961.5000 - val_mae: 237.1784\n",
      "Epoch 34/500\n",
      "1434/1434 [==============================] - 6s 4ms/step - loss: 839518.8750 - mae: 222.9813 - val_loss: 646321.0000 - val_mae: 248.2034\n",
      "Epoch 35/500\n",
      "1434/1434 [==============================] - 6s 4ms/step - loss: 741853.3125 - mae: 205.4746 - val_loss: 1143204.2500 - val_mae: 237.9048\n",
      "Epoch 36/500\n",
      "1434/1434 [==============================] - 7s 5ms/step - loss: 819571.1250 - mae: 215.2972 - val_loss: 543023.0000 - val_mae: 164.3223\n",
      "Epoch 37/500\n",
      "1434/1434 [==============================] - 6s 4ms/step - loss: 811802.4375 - mae: 216.3432 - val_loss: 795478.6875 - val_mae: 205.4792\n",
      "Epoch 38/500\n",
      "1434/1434 [==============================] - 6s 4ms/step - loss: 739107.1875 - mae: 204.5110 - val_loss: 681069.1250 - val_mae: 214.7227\n",
      "Epoch 39/500\n",
      "1434/1434 [==============================] - 6s 5ms/step - loss: 751809.3125 - mae: 201.9678 - val_loss: 923694.1250 - val_mae: 287.6950\n",
      "Epoch 40/500\n",
      "1434/1434 [==============================] - 6s 4ms/step - loss: 740808.2500 - mae: 206.4800 - val_loss: 884817.5625 - val_mae: 216.6427\n",
      "Epoch 41/500\n",
      "1434/1434 [==============================] - 6s 4ms/step - loss: 763672.1875 - mae: 214.1649 - val_loss: 717244.8125 - val_mae: 227.6633\n",
      "Epoch 42/500\n",
      "1434/1434 [==============================] - 6s 4ms/step - loss: 774244.0000 - mae: 208.6582 - val_loss: 653994.1875 - val_mae: 200.4413\n",
      "Epoch 43/500\n",
      "1434/1434 [==============================] - 7s 5ms/step - loss: 753643.3125 - mae: 201.1324 - val_loss: 944866.3125 - val_mae: 280.4751\n",
      "Epoch 44/500\n",
      "1434/1434 [==============================] - 7s 5ms/step - loss: 757676.1875 - mae: 210.9041 - val_loss: 1337341.1250 - val_mae: 290.2612\n",
      "Epoch 45/500\n",
      "1434/1434 [==============================] - 6s 4ms/step - loss: 706310.4375 - mae: 203.2582 - val_loss: 793212.3750 - val_mae: 184.5256\n",
      "Epoch 46/500\n",
      "1434/1434 [==============================] - 6s 4ms/step - loss: 720134.8125 - mae: 201.7176 - val_loss: 614274.6875 - val_mae: 184.0569\n",
      "Epoch 47/500\n",
      "1434/1434 [==============================] - 6s 4ms/step - loss: 715280.5000 - mae: 202.5011 - val_loss: 1018222.7500 - val_mae: 233.6161\n",
      "Epoch 48/500\n",
      "1434/1434 [==============================] - 7s 5ms/step - loss: 748620.0000 - mae: 200.7659 - val_loss: 790500.4375 - val_mae: 192.1887\n",
      "Epoch 49/500\n",
      "1434/1434 [==============================] - 6s 4ms/step - loss: 765942.2500 - mae: 216.9407 - val_loss: 569826.1250 - val_mae: 168.9230\n",
      "Epoch 50/500\n",
      "1434/1434 [==============================] - 7s 5ms/step - loss: 754180.0625 - mae: 206.3187 - val_loss: 710553.1875 - val_mae: 193.2181\n",
      "Epoch 51/500\n",
      "1434/1434 [==============================] - 7s 5ms/step - loss: 760355.0000 - mae: 201.3957 - val_loss: 584250.1875 - val_mae: 177.1968\n",
      "Epoch 52/500\n",
      "1434/1434 [==============================] - 6s 4ms/step - loss: 744861.1875 - mae: 204.3319 - val_loss: 610877.3125 - val_mae: 169.2692\n",
      "Epoch 53/500\n",
      "1434/1434 [==============================] - 6s 4ms/step - loss: 767940.3750 - mae: 211.5319 - val_loss: 587165.8125 - val_mae: 184.4585\n",
      "Epoch 54/500\n",
      "1434/1434 [==============================] - 6s 4ms/step - loss: 753847.5625 - mae: 204.2433 - val_loss: 781138.0625 - val_mae: 259.0085\n",
      "Epoch 55/500\n",
      "1434/1434 [==============================] - 7s 5ms/step - loss: 782484.1875 - mae: 205.2970 - val_loss: 624365.2500 - val_mae: 172.3579\n",
      "Epoch 56/500\n",
      "1434/1434 [==============================] - 6s 4ms/step - loss: 702957.3125 - mae: 204.3124 - val_loss: 645652.9375 - val_mae: 192.5359\n",
      "Epoch 57/500\n",
      "1434/1434 [==============================] - 6s 4ms/step - loss: 748733.8125 - mae: 206.1998 - val_loss: 541721.1875 - val_mae: 164.3365\n",
      "Epoch 58/500\n",
      "1434/1434 [==============================] - 6s 4ms/step - loss: 696610.3750 - mae: 198.8887 - val_loss: 1660189.7500 - val_mae: 350.2762\n",
      "Epoch 59/500\n",
      "1434/1434 [==============================] - 6s 4ms/step - loss: 713790.1875 - mae: 207.4346 - val_loss: 618013.6250 - val_mae: 178.7879\n",
      "Epoch 60/500\n",
      "1434/1434 [==============================] - 7s 5ms/step - loss: 723032.6250 - mae: 194.6738 - val_loss: 653607.9375 - val_mae: 180.3853\n",
      "Epoch 61/500\n",
      "1434/1434 [==============================] - 6s 4ms/step - loss: 732693.8125 - mae: 203.7851 - val_loss: 758329.0000 - val_mae: 208.1896\n",
      "Epoch 62/500\n",
      "1434/1434 [==============================] - 7s 5ms/step - loss: 731254.3750 - mae: 202.4425 - val_loss: 602815.0625 - val_mae: 176.7450\n",
      "Epoch 63/500\n",
      "1434/1434 [==============================] - 7s 5ms/step - loss: 717233.8125 - mae: 199.3636 - val_loss: 831837.0625 - val_mae: 212.7622\n",
      "Epoch 64/500\n",
      "1434/1434 [==============================] - 6s 4ms/step - loss: 728454.3125 - mae: 196.5256 - val_loss: 2037568.0000 - val_mae: 414.1545\n",
      "Epoch 65/500\n",
      "1434/1434 [==============================] - 7s 5ms/step - loss: 792686.3125 - mae: 209.7534 - val_loss: 547082.3750 - val_mae: 159.6217\n",
      "Epoch 66/500\n",
      "1434/1434 [==============================] - 7s 5ms/step - loss: 711304.1250 - mae: 197.4461 - val_loss: 616812.0625 - val_mae: 149.3978\n",
      "Epoch 67/500\n",
      "1434/1434 [==============================] - 6s 4ms/step - loss: 687749.4375 - mae: 191.9492 - val_loss: 626578.5000 - val_mae: 171.8474\n",
      "Epoch 68/500\n",
      "1434/1434 [==============================] - 7s 5ms/step - loss: 690797.5625 - mae: 197.9583 - val_loss: 577516.0625 - val_mae: 193.2481\n",
      "Epoch 69/500\n",
      "1434/1434 [==============================] - 6s 4ms/step - loss: 752658.6875 - mae: 209.3052 - val_loss: 999033.1875 - val_mae: 272.4992\n",
      "Epoch 70/500\n",
      "1434/1434 [==============================] - 6s 4ms/step - loss: 785319.7500 - mae: 206.7244 - val_loss: 571663.6250 - val_mae: 203.7264\n",
      "Epoch 71/500\n",
      "1434/1434 [==============================] - 7s 5ms/step - loss: 765819.6250 - mae: 198.3093 - val_loss: 851482.6875 - val_mae: 233.0208\n",
      "Epoch 72/500\n",
      "1434/1434 [==============================] - 6s 5ms/step - loss: 726889.0000 - mae: 202.9612 - val_loss: 1006609.5625 - val_mae: 222.3014\n",
      "Epoch 73/500\n",
      "1434/1434 [==============================] - 7s 5ms/step - loss: 749354.8750 - mae: 196.6160 - val_loss: 936659.4375 - val_mae: 257.7677\n",
      "Epoch 74/500\n",
      "1434/1434 [==============================] - 7s 5ms/step - loss: 678951.3125 - mae: 196.2072 - val_loss: 804264.1250 - val_mae: 182.0514\n",
      "Epoch 75/500\n",
      "1434/1434 [==============================] - 7s 5ms/step - loss: 646298.5000 - mae: 187.5519 - val_loss: 717507.4375 - val_mae: 224.4637\n",
      "Epoch 76/500\n",
      "1434/1434 [==============================] - 6s 4ms/step - loss: 710814.9375 - mae: 202.7292 - val_loss: 1089182.0000 - val_mae: 324.1165\n",
      "Epoch 77/500\n",
      "1434/1434 [==============================] - 7s 5ms/step - loss: 688166.7500 - mae: 194.5071 - val_loss: 518999.4375 - val_mae: 163.4197\n",
      "Epoch 78/500\n",
      "1434/1434 [==============================] - 6s 4ms/step - loss: 708149.0000 - mae: 197.9371 - val_loss: 648007.5000 - val_mae: 225.5865\n",
      "Epoch 79/500\n",
      "1434/1434 [==============================] - 6s 5ms/step - loss: 678976.2500 - mae: 187.7149 - val_loss: 614086.5000 - val_mae: 192.3848\n",
      "Epoch 80/500\n",
      "1434/1434 [==============================] - 7s 5ms/step - loss: 676862.9375 - mae: 193.1597 - val_loss: 599947.3750 - val_mae: 203.2879\n",
      "Epoch 81/500\n",
      "1434/1434 [==============================] - 6s 4ms/step - loss: 640103.5625 - mae: 185.7316 - val_loss: 570532.6250 - val_mae: 225.6110\n",
      "Epoch 82/500\n",
      "1434/1434 [==============================] - 6s 4ms/step - loss: 726015.7500 - mae: 198.5909 - val_loss: 546745.2500 - val_mae: 162.9723\n",
      "Epoch 83/500\n",
      "1434/1434 [==============================] - 6s 4ms/step - loss: 675054.0000 - mae: 188.6134 - val_loss: 552504.5000 - val_mae: 157.7864\n",
      "Epoch 84/500\n",
      "1434/1434 [==============================] - 6s 4ms/step - loss: 655695.8125 - mae: 189.8781 - val_loss: 592394.6250 - val_mae: 179.3614\n",
      "Epoch 85/500\n",
      "1434/1434 [==============================] - 6s 4ms/step - loss: 651206.6250 - mae: 187.4899 - val_loss: 709632.1875 - val_mae: 197.2189\n",
      "Epoch 86/500\n",
      "1434/1434 [==============================] - 6s 4ms/step - loss: 663151.5625 - mae: 188.2314 - val_loss: 563210.8750 - val_mae: 160.0405\n",
      "Epoch 87/500\n",
      "1434/1434 [==============================] - 6s 4ms/step - loss: 603231.9375 - mae: 179.6540 - val_loss: 526122.7500 - val_mae: 172.4095\n",
      "Epoch 88/500\n",
      "1434/1434 [==============================] - 6s 4ms/step - loss: 720099.8125 - mae: 191.2865 - val_loss: 539673.1250 - val_mae: 171.7875\n",
      "Epoch 89/500\n",
      "1434/1434 [==============================] - 6s 4ms/step - loss: 663783.6250 - mae: 183.6481 - val_loss: 533862.5000 - val_mae: 145.4448\n",
      "Epoch 90/500\n",
      "1434/1434 [==============================] - 6s 4ms/step - loss: 635546.9375 - mae: 182.1815 - val_loss: 584953.8750 - val_mae: 155.0613\n",
      "Epoch 91/500\n",
      "1434/1434 [==============================] - 6s 4ms/step - loss: 648162.4375 - mae: 186.3559 - val_loss: 606853.6250 - val_mae: 178.6351\n",
      "Epoch 92/500\n",
      "1434/1434 [==============================] - 6s 4ms/step - loss: 621462.5000 - mae: 183.7613 - val_loss: 607848.2500 - val_mae: 202.2147\n",
      "Epoch 93/500\n",
      "1434/1434 [==============================] - 7s 5ms/step - loss: 637014.0625 - mae: 177.3685 - val_loss: 568535.5625 - val_mae: 181.3011\n",
      "Epoch 94/500\n",
      "1434/1434 [==============================] - 7s 5ms/step - loss: 605421.1250 - mae: 179.8499 - val_loss: 514784.2188 - val_mae: 154.7023\n",
      "Epoch 95/500\n",
      "1434/1434 [==============================] - 7s 5ms/step - loss: 634575.3750 - mae: 186.5868 - val_loss: 515984.8438 - val_mae: 172.1197\n",
      "Epoch 96/500\n",
      "1434/1434 [==============================] - 6s 4ms/step - loss: 695533.6875 - mae: 184.8816 - val_loss: 531990.9375 - val_mae: 187.3734\n",
      "Epoch 97/500\n",
      "1434/1434 [==============================] - 7s 5ms/step - loss: 623537.5625 - mae: 176.7329 - val_loss: 511340.2812 - val_mae: 170.6142\n",
      "Epoch 98/500\n",
      "1434/1434 [==============================] - 6s 4ms/step - loss: 716063.0625 - mae: 188.9429 - val_loss: 764949.9375 - val_mae: 223.7358\n",
      "Epoch 99/500\n",
      "1434/1434 [==============================] - 7s 5ms/step - loss: 673555.0625 - mae: 188.0842 - val_loss: 574794.5625 - val_mae: 152.8432\n",
      "Epoch 100/500\n",
      "1434/1434 [==============================] - 6s 4ms/step - loss: 673962.3125 - mae: 185.1880 - val_loss: 493113.9062 - val_mae: 149.4394\n",
      "Epoch 101/500\n",
      "1434/1434 [==============================] - 6s 4ms/step - loss: 620700.2500 - mae: 181.6373 - val_loss: 528492.6250 - val_mae: 168.9547\n",
      "Epoch 102/500\n",
      "1434/1434 [==============================] - 6s 5ms/step - loss: 696915.6875 - mae: 191.2677 - val_loss: 1096976.7500 - val_mae: 289.4569\n",
      "Epoch 103/500\n",
      "1434/1434 [==============================] - 6s 4ms/step - loss: 619463.3750 - mae: 177.7007 - val_loss: 547101.8750 - val_mae: 174.5524\n",
      "Epoch 104/500\n",
      "1434/1434 [==============================] - 6s 4ms/step - loss: 699363.1875 - mae: 191.0405 - val_loss: 597701.0625 - val_mae: 171.8060\n",
      "Epoch 105/500\n",
      "1434/1434 [==============================] - 7s 5ms/step - loss: 625551.1250 - mae: 176.3218 - val_loss: 652967.8125 - val_mae: 161.8869\n",
      "Epoch 106/500\n",
      "1434/1434 [==============================] - 6s 4ms/step - loss: 624823.1875 - mae: 172.9400 - val_loss: 449748.0625 - val_mae: 133.1754\n",
      "Epoch 107/500\n",
      "1434/1434 [==============================] - 6s 4ms/step - loss: 608984.4375 - mae: 175.1106 - val_loss: 690927.1250 - val_mae: 206.1228\n",
      "Epoch 108/500\n",
      "1434/1434 [==============================] - 6s 4ms/step - loss: 644064.6250 - mae: 180.2292 - val_loss: 436832.4375 - val_mae: 138.9095\n",
      "Epoch 109/500\n",
      "1434/1434 [==============================] - 6s 4ms/step - loss: 628223.6875 - mae: 179.3246 - val_loss: 730367.4375 - val_mae: 177.9271\n",
      "Epoch 110/500\n",
      "1434/1434 [==============================] - 6s 4ms/step - loss: 631798.5000 - mae: 180.4979 - val_loss: 813980.3125 - val_mae: 169.5271\n",
      "Epoch 111/500\n",
      "1434/1434 [==============================] - 7s 5ms/step - loss: 633379.6875 - mae: 175.0445 - val_loss: 489441.4375 - val_mae: 134.2303\n",
      "Epoch 112/500\n",
      "1434/1434 [==============================] - 6s 4ms/step - loss: 536157.8125 - mae: 169.6969 - val_loss: 483434.8750 - val_mae: 143.0554\n",
      "Epoch 113/500\n",
      "1434/1434 [==============================] - 7s 5ms/step - loss: 596492.7500 - mae: 173.7601 - val_loss: 524145.4688 - val_mae: 147.2064\n",
      "Epoch 114/500\n",
      "1434/1434 [==============================] - 6s 4ms/step - loss: 636053.5625 - mae: 175.3850 - val_loss: 515046.4375 - val_mae: 133.1420\n",
      "Epoch 115/500\n",
      "1434/1434 [==============================] - 7s 5ms/step - loss: 678581.3125 - mae: 181.4694 - val_loss: 509708.1875 - val_mae: 160.8024\n",
      "Epoch 116/500\n",
      "1434/1434 [==============================] - 6s 4ms/step - loss: 681452.4375 - mae: 182.3561 - val_loss: 513956.1250 - val_mae: 153.8331\n",
      "Epoch 117/500\n",
      "1434/1434 [==============================] - 6s 4ms/step - loss: 586164.7500 - mae: 170.9594 - val_loss: 1995339.5000 - val_mae: 370.9223\n",
      "Epoch 118/500\n",
      "1434/1434 [==============================] - 6s 4ms/step - loss: 601045.1250 - mae: 174.6371 - val_loss: 442989.9062 - val_mae: 136.8210\n",
      "Epoch 119/500\n",
      "1434/1434 [==============================] - 6s 4ms/step - loss: 642268.0000 - mae: 178.8769 - val_loss: 586372.1250 - val_mae: 180.1333\n",
      "Epoch 120/500\n",
      "1434/1434 [==============================] - 5s 4ms/step - loss: 646426.1875 - mae: 178.8282 - val_loss: 805243.8125 - val_mae: 221.8154\n",
      "Epoch 121/500\n",
      "1434/1434 [==============================] - 6s 5ms/step - loss: 650641.6250 - mae: 183.3569 - val_loss: 538243.3125 - val_mae: 168.7652\n",
      "Epoch 122/500\n",
      "1434/1434 [==============================] - 5s 4ms/step - loss: 632058.5000 - mae: 173.5854 - val_loss: 493657.9062 - val_mae: 146.1069\n",
      "Epoch 123/500\n",
      "1434/1434 [==============================] - 6s 4ms/step - loss: 637258.9375 - mae: 180.8040 - val_loss: 517603.3750 - val_mae: 139.7292\n",
      "Epoch 124/500\n",
      "1434/1434 [==============================] - 6s 4ms/step - loss: 638483.3750 - mae: 172.8117 - val_loss: 512129.4062 - val_mae: 135.1932\n",
      "Epoch 125/500\n",
      "1434/1434 [==============================] - 6s 4ms/step - loss: 593546.9375 - mae: 164.6986 - val_loss: 828960.7500 - val_mae: 250.5460\n",
      "Epoch 126/500\n",
      "1434/1434 [==============================] - 6s 4ms/step - loss: 594999.5625 - mae: 173.6473 - val_loss: 555288.1250 - val_mae: 208.9755\n",
      "Epoch 127/500\n",
      "1434/1434 [==============================] - 6s 4ms/step - loss: 571700.0625 - mae: 164.9625 - val_loss: 467696.7500 - val_mae: 128.5336\n",
      "Epoch 128/500\n",
      "1434/1434 [==============================] - 6s 4ms/step - loss: 596616.5625 - mae: 173.7546 - val_loss: 2413976.0000 - val_mae: 365.5830\n",
      "Epoch 129/500\n",
      "1434/1434 [==============================] - 7s 5ms/step - loss: 563613.4375 - mae: 169.3583 - val_loss: 889134.8750 - val_mae: 206.1357\n",
      "Epoch 130/500\n",
      "1434/1434 [==============================] - 6s 4ms/step - loss: 669615.5625 - mae: 187.7720 - val_loss: 618362.7500 - val_mae: 195.7094\n",
      "Epoch 131/500\n",
      "1434/1434 [==============================] - 6s 4ms/step - loss: 659598.0000 - mae: 178.8860 - val_loss: 794689.0625 - val_mae: 173.2981\n",
      "Epoch 132/500\n",
      "1434/1434 [==============================] - 6s 4ms/step - loss: 597005.5625 - mae: 172.9226 - val_loss: 517138.8750 - val_mae: 155.7924\n",
      "Epoch 133/500\n",
      "1434/1434 [==============================] - 6s 4ms/step - loss: 669201.3750 - mae: 178.6772 - val_loss: 3709024.7500 - val_mae: 536.4998\n",
      "Epoch 134/500\n",
      "1434/1434 [==============================] - 6s 4ms/step - loss: 599991.8125 - mae: 176.3518 - val_loss: 492180.2812 - val_mae: 153.8311\n",
      "Epoch 135/500\n",
      "1434/1434 [==============================] - 6s 4ms/step - loss: 617270.5000 - mae: 174.2362 - val_loss: 524989.4375 - val_mae: 155.0852\n",
      "Epoch 136/500\n",
      "1434/1434 [==============================] - 6s 4ms/step - loss: 583957.1875 - mae: 168.1057 - val_loss: 733116.1875 - val_mae: 215.4682\n",
      "Epoch 137/500\n",
      "1434/1434 [==============================] - 6s 4ms/step - loss: 621060.1250 - mae: 173.7880 - val_loss: 1366321.5000 - val_mae: 276.8321\n",
      "Epoch 138/500\n",
      "1434/1434 [==============================] - 7s 5ms/step - loss: 637425.0000 - mae: 175.0894 - val_loss: 460283.5312 - val_mae: 155.4300\n",
      "Epoch 139/500\n",
      "1434/1434 [==============================] - 6s 4ms/step - loss: 564767.7500 - mae: 166.4117 - val_loss: 412697.7188 - val_mae: 132.4170\n",
      "Epoch 140/500\n",
      "1434/1434 [==============================] - 6s 4ms/step - loss: 604060.5000 - mae: 177.1559 - val_loss: 450998.8750 - val_mae: 158.4163\n",
      "Epoch 141/500\n",
      "1434/1434 [==============================] - 6s 4ms/step - loss: 653435.1250 - mae: 180.3613 - val_loss: 2369058.2500 - val_mae: 427.5277\n",
      "Epoch 142/500\n",
      "1434/1434 [==============================] - 6s 4ms/step - loss: 643885.8750 - mae: 176.3037 - val_loss: 723348.7500 - val_mae: 206.9613\n",
      "Epoch 143/500\n",
      "1434/1434 [==============================] - 6s 4ms/step - loss: 674810.3125 - mae: 184.5613 - val_loss: 512499.7812 - val_mae: 162.8413\n",
      "Epoch 144/500\n",
      "1434/1434 [==============================] - 6s 4ms/step - loss: 616402.9375 - mae: 171.2649 - val_loss: 539003.9375 - val_mae: 175.4469\n",
      "Epoch 145/500\n",
      "1434/1434 [==============================] - 6s 4ms/step - loss: 635825.1875 - mae: 174.7478 - val_loss: 448501.0000 - val_mae: 150.8111\n",
      "Epoch 146/500\n",
      "1434/1434 [==============================] - 6s 4ms/step - loss: 601766.5000 - mae: 166.2642 - val_loss: 475065.8438 - val_mae: 135.5660\n",
      "Epoch 147/500\n",
      "1434/1434 [==============================] - 6s 5ms/step - loss: 581123.0625 - mae: 170.5174 - val_loss: 730494.6875 - val_mae: 238.4239\n",
      "Epoch 148/500\n",
      "1434/1434 [==============================] - 6s 4ms/step - loss: 637179.9375 - mae: 172.9446 - val_loss: 485296.8750 - val_mae: 153.8132\n",
      "Epoch 149/500\n",
      "1434/1434 [==============================] - 6s 5ms/step - loss: 602360.7500 - mae: 165.5520 - val_loss: 585559.1875 - val_mae: 183.0458\n",
      "Epoch 150/500\n",
      "1434/1434 [==============================] - 6s 4ms/step - loss: 650745.8750 - mae: 171.3605 - val_loss: 651429.9375 - val_mae: 173.4244\n",
      "Epoch 151/500\n",
      "1434/1434 [==============================] - 7s 5ms/step - loss: 536421.5000 - mae: 157.0797 - val_loss: 387718.9688 - val_mae: 115.0597\n",
      "Epoch 152/500\n",
      "1434/1434 [==============================] - 7s 5ms/step - loss: 571908.3750 - mae: 169.3450 - val_loss: 1351572.7500 - val_mae: 267.2554\n",
      "Epoch 153/500\n",
      "1434/1434 [==============================] - 6s 4ms/step - loss: 565280.6250 - mae: 163.2202 - val_loss: 443394.7500 - val_mae: 153.3935\n",
      "Epoch 154/500\n",
      "1434/1434 [==============================] - 6s 4ms/step - loss: 557349.8125 - mae: 164.2434 - val_loss: 521002.4375 - val_mae: 149.6595\n",
      "Epoch 155/500\n",
      "1434/1434 [==============================] - 6s 4ms/step - loss: 591499.5625 - mae: 169.1613 - val_loss: 1528638.2500 - val_mae: 337.4335\n",
      "Epoch 156/500\n",
      "1434/1434 [==============================] - 6s 4ms/step - loss: 552499.5000 - mae: 167.3998 - val_loss: 493161.4688 - val_mae: 147.6926\n",
      "Epoch 157/500\n",
      "1434/1434 [==============================] - 6s 4ms/step - loss: 598935.0000 - mae: 167.1278 - val_loss: 612762.1875 - val_mae: 206.7422\n",
      "Epoch 158/500\n",
      "1434/1434 [==============================] - 6s 4ms/step - loss: 631570.9375 - mae: 170.5350 - val_loss: 610163.5625 - val_mae: 176.0068\n",
      "Epoch 159/500\n",
      "1434/1434 [==============================] - 6s 4ms/step - loss: 532149.8750 - mae: 160.5746 - val_loss: 1140673.1250 - val_mae: 280.1853\n",
      "Epoch 160/500\n",
      "1434/1434 [==============================] - 6s 4ms/step - loss: 608147.0625 - mae: 178.0098 - val_loss: 413247.6875 - val_mae: 142.3154\n",
      "Epoch 161/500\n",
      "1434/1434 [==============================] - 6s 4ms/step - loss: 570074.5000 - mae: 161.8162 - val_loss: 389102.0000 - val_mae: 131.8613\n",
      "Epoch 162/500\n",
      "1434/1434 [==============================] - 6s 4ms/step - loss: 568525.8125 - mae: 165.9063 - val_loss: 444513.1562 - val_mae: 147.4665\n",
      "Epoch 163/500\n",
      "1434/1434 [==============================] - 7s 5ms/step - loss: 609351.1250 - mae: 165.5635 - val_loss: 703647.8125 - val_mae: 180.7784\n",
      "Epoch 164/500\n",
      "1434/1434 [==============================] - 6s 4ms/step - loss: 593177.0000 - mae: 165.4408 - val_loss: 969905.9375 - val_mae: 279.8622\n",
      "Epoch 165/500\n",
      "1434/1434 [==============================] - 6s 4ms/step - loss: 587173.0625 - mae: 168.6633 - val_loss: 406479.5625 - val_mae: 132.0374\n",
      "Epoch 166/500\n",
      "1434/1434 [==============================] - 6s 4ms/step - loss: 599515.8750 - mae: 165.0288 - val_loss: 559538.3125 - val_mae: 146.9195\n",
      "Epoch 167/500\n",
      "1434/1434 [==============================] - 6s 4ms/step - loss: 591767.8125 - mae: 168.0729 - val_loss: 418498.4375 - val_mae: 145.7683\n",
      "Epoch 168/500\n",
      "1434/1434 [==============================] - 5s 4ms/step - loss: 578286.6875 - mae: 167.7435 - val_loss: 548714.8750 - val_mae: 161.2663\n",
      "Epoch 169/500\n",
      "1434/1434 [==============================] - 6s 4ms/step - loss: 571930.1250 - mae: 168.2800 - val_loss: 410783.0938 - val_mae: 136.9117\n",
      "Epoch 170/500\n",
      "1434/1434 [==============================] - 6s 4ms/step - loss: 568096.5000 - mae: 171.0540 - val_loss: 492246.2500 - val_mae: 131.8876\n",
      "Epoch 171/500\n",
      "1434/1434 [==============================] - 6s 4ms/step - loss: 602793.7500 - mae: 173.6608 - val_loss: 516670.6875 - val_mae: 183.7165\n",
      "Epoch 172/500\n",
      "1434/1434 [==============================] - 6s 4ms/step - loss: 597922.6875 - mae: 168.4914 - val_loss: 427864.7188 - val_mae: 154.8991\n",
      "Epoch 173/500\n",
      "1434/1434 [==============================] - 6s 4ms/step - loss: 581237.9375 - mae: 158.4787 - val_loss: 591301.5000 - val_mae: 130.3880\n",
      "Epoch 174/500\n",
      "1434/1434 [==============================] - 6s 4ms/step - loss: 534081.2500 - mae: 162.2655 - val_loss: 368389.7500 - val_mae: 122.1700\n",
      "Epoch 175/500\n",
      "1434/1434 [==============================] - 6s 4ms/step - loss: 534751.8125 - mae: 157.8699 - val_loss: 989408.9375 - val_mae: 253.3273\n",
      "Epoch 176/500\n",
      "1434/1434 [==============================] - 6s 4ms/step - loss: 591968.6250 - mae: 163.2592 - val_loss: 425591.1250 - val_mae: 141.8785\n",
      "Epoch 177/500\n",
      "1434/1434 [==============================] - 6s 4ms/step - loss: 571225.3125 - mae: 162.4844 - val_loss: 552378.8125 - val_mae: 196.7685\n",
      "Epoch 178/500\n",
      "1434/1434 [==============================] - 6s 4ms/step - loss: 571126.6250 - mae: 161.7256 - val_loss: 733456.5625 - val_mae: 182.5781\n",
      "Epoch 179/500\n",
      "1434/1434 [==============================] - 7s 5ms/step - loss: 555773.1875 - mae: 161.0137 - val_loss: 469475.4688 - val_mae: 137.1342\n",
      "Epoch 180/500\n",
      "1434/1434 [==============================] - 6s 4ms/step - loss: 587271.1250 - mae: 168.3542 - val_loss: 470822.3750 - val_mae: 127.6023\n",
      "Epoch 181/500\n",
      "1434/1434 [==============================] - 6s 4ms/step - loss: 521458.4688 - mae: 163.7039 - val_loss: 402209.1250 - val_mae: 125.6778\n",
      "Epoch 182/500\n",
      "1434/1434 [==============================] - 6s 4ms/step - loss: 595096.6875 - mae: 165.1987 - val_loss: 446143.0625 - val_mae: 138.1271\n",
      "Epoch 183/500\n",
      "1434/1434 [==============================] - 6s 4ms/step - loss: 615234.0000 - mae: 168.7226 - val_loss: 526067.8125 - val_mae: 158.9815\n",
      "Epoch 184/500\n",
      "1434/1434 [==============================] - 6s 4ms/step - loss: 537849.8125 - mae: 166.2881 - val_loss: 459474.0938 - val_mae: 141.1268\n",
      "Epoch 185/500\n",
      "1434/1434 [==============================] - 6s 4ms/step - loss: 549703.3125 - mae: 163.2273 - val_loss: 502045.0625 - val_mae: 131.6341\n",
      "Epoch 186/500\n",
      "1434/1434 [==============================] - 7s 5ms/step - loss: 594312.5625 - mae: 166.9004 - val_loss: 481272.0938 - val_mae: 161.6342\n",
      "Epoch 187/500\n",
      "1434/1434 [==============================] - 6s 4ms/step - loss: 621956.4375 - mae: 172.0332 - val_loss: 747505.3125 - val_mae: 215.7933\n",
      "Epoch 188/500\n",
      "1434/1434 [==============================] - 5s 4ms/step - loss: 597784.0000 - mae: 174.1991 - val_loss: 2467882.0000 - val_mae: 421.1517\n",
      "Epoch 189/500\n",
      "1434/1434 [==============================] - 6s 4ms/step - loss: 585770.1875 - mae: 167.0754 - val_loss: 603739.6250 - val_mae: 180.5345\n",
      "Epoch 190/500\n",
      "1434/1434 [==============================] - 6s 4ms/step - loss: 599766.1250 - mae: 167.2434 - val_loss: 594913.8125 - val_mae: 179.7763\n",
      "Epoch 191/500\n",
      "1434/1434 [==============================] - 6s 4ms/step - loss: 568550.6875 - mae: 165.6272 - val_loss: 495380.5625 - val_mae: 170.8863\n",
      "Epoch 192/500\n",
      "1434/1434 [==============================] - 6s 4ms/step - loss: 553550.9375 - mae: 157.8103 - val_loss: 643981.9375 - val_mae: 233.6914\n",
      "Epoch 193/500\n",
      "1434/1434 [==============================] - 6s 4ms/step - loss: 566904.5625 - mae: 163.2312 - val_loss: 418071.4688 - val_mae: 143.1737\n",
      "Epoch 194/500\n",
      "1434/1434 [==============================] - 6s 4ms/step - loss: 561134.7500 - mae: 167.4471 - val_loss: 637158.3125 - val_mae: 208.9134\n",
      "Epoch 195/500\n",
      "1434/1434 [==============================] - 6s 4ms/step - loss: 520359.0938 - mae: 155.8493 - val_loss: 713567.0625 - val_mae: 160.5364\n",
      "Epoch 196/500\n",
      "1434/1434 [==============================] - 6s 4ms/step - loss: 586686.3750 - mae: 171.0559 - val_loss: 559303.1875 - val_mae: 130.9968\n",
      "Epoch 197/500\n",
      "1434/1434 [==============================] - 7s 5ms/step - loss: 580339.1875 - mae: 164.6494 - val_loss: 1287766.0000 - val_mae: 300.7746\n",
      "Epoch 198/500\n",
      "1434/1434 [==============================] - 6s 4ms/step - loss: 531753.5625 - mae: 153.5252 - val_loss: 592602.2500 - val_mae: 131.6110\n",
      "Epoch 199/500\n",
      "1434/1434 [==============================] - 6s 4ms/step - loss: 574275.7500 - mae: 169.5206 - val_loss: 578518.6250 - val_mae: 180.7265\n",
      "Epoch 200/500\n",
      "1434/1434 [==============================] - 6s 4ms/step - loss: 585612.3750 - mae: 161.2136 - val_loss: 723729.4375 - val_mae: 200.5370\n",
      "Epoch 201/500\n",
      "1434/1434 [==============================] - 6s 4ms/step - loss: 574257.0625 - mae: 165.4160 - val_loss: 846107.0000 - val_mae: 178.9718\n",
      "Epoch 202/500\n",
      "1434/1434 [==============================] - 6s 4ms/step - loss: 571420.3125 - mae: 165.1962 - val_loss: 418433.8438 - val_mae: 143.2174\n",
      "Epoch 203/500\n",
      "1434/1434 [==============================] - 6s 4ms/step - loss: 531817.9375 - mae: 152.7986 - val_loss: 483751.8438 - val_mae: 128.3209\n",
      "Epoch 204/500\n",
      "1434/1434 [==============================] - 6s 4ms/step - loss: 508028.2188 - mae: 161.9867 - val_loss: 944911.6250 - val_mae: 254.5241\n",
      "Epoch 205/500\n",
      "1434/1434 [==============================] - 6s 4ms/step - loss: 617506.7500 - mae: 170.8455 - val_loss: 763146.5000 - val_mae: 164.6095\n",
      "Epoch 206/500\n",
      "1434/1434 [==============================] - 6s 4ms/step - loss: 538241.0000 - mae: 156.7515 - val_loss: 800419.2500 - val_mae: 181.0209\n",
      "Epoch 207/500\n",
      "1434/1434 [==============================] - 6s 4ms/step - loss: 544654.4375 - mae: 159.5916 - val_loss: 395391.3438 - val_mae: 151.4990\n",
      "Epoch 208/500\n",
      "1434/1434 [==============================] - 6s 4ms/step - loss: 566605.5000 - mae: 157.3395 - val_loss: 757720.0625 - val_mae: 191.1627\n",
      "Epoch 209/500\n",
      "1434/1434 [==============================] - 6s 4ms/step - loss: 516338.2188 - mae: 158.9634 - val_loss: 409745.6250 - val_mae: 145.4111\n",
      "Epoch 210/500\n",
      "1434/1434 [==============================] - 6s 4ms/step - loss: 505497.3750 - mae: 159.1349 - val_loss: 493399.4688 - val_mae: 138.8582\n",
      "Epoch 211/500\n",
      "1434/1434 [==============================] - 6s 4ms/step - loss: 554561.0000 - mae: 166.4618 - val_loss: 513704.5312 - val_mae: 174.4692\n",
      "Epoch 212/500\n",
      "1434/1434 [==============================] - 6s 4ms/step - loss: 603260.8125 - mae: 161.6881 - val_loss: 597673.0000 - val_mae: 139.5516\n",
      "Epoch 213/500\n",
      "1434/1434 [==============================] - 5s 4ms/step - loss: 578750.1250 - mae: 158.7535 - val_loss: 439697.3125 - val_mae: 139.9019\n",
      "Epoch 214/500\n",
      "1434/1434 [==============================] - 6s 4ms/step - loss: 520728.5625 - mae: 155.8955 - val_loss: 551531.8750 - val_mae: 180.0332\n",
      "Epoch 215/500\n",
      "1434/1434 [==============================] - 6s 4ms/step - loss: 518381.2812 - mae: 158.6432 - val_loss: 509348.8750 - val_mae: 159.1157\n",
      "Epoch 216/500\n",
      "1434/1434 [==============================] - 6s 4ms/step - loss: 507463.1250 - mae: 162.8113 - val_loss: 535161.1250 - val_mae: 150.4622\n",
      "Epoch 217/500\n",
      "1434/1434 [==============================] - 6s 4ms/step - loss: 585501.8750 - mae: 167.2554 - val_loss: 529387.7500 - val_mae: 139.9629\n",
      "Epoch 218/500\n",
      "1434/1434 [==============================] - 6s 4ms/step - loss: 580796.3125 - mae: 160.1078 - val_loss: 629205.6250 - val_mae: 179.4620\n",
      "Epoch 219/500\n",
      "1434/1434 [==============================] - 6s 4ms/step - loss: 511912.7812 - mae: 157.1750 - val_loss: 405447.1562 - val_mae: 136.1943\n",
      "Epoch 220/500\n",
      "1434/1434 [==============================] - 6s 4ms/step - loss: 605939.3125 - mae: 170.4301 - val_loss: 480898.6562 - val_mae: 173.5395\n",
      "Epoch 221/500\n",
      "1434/1434 [==============================] - 6s 4ms/step - loss: 546136.5000 - mae: 158.2159 - val_loss: 452433.3438 - val_mae: 120.3735\n",
      "Epoch 222/500\n",
      "1434/1434 [==============================] - 6s 4ms/step - loss: 549932.0000 - mae: 166.0594 - val_loss: 581978.6875 - val_mae: 164.6166\n",
      "Epoch 223/500\n",
      "1434/1434 [==============================] - 6s 4ms/step - loss: 585819.6250 - mae: 162.5297 - val_loss: 612646.0000 - val_mae: 220.5592\n",
      "Epoch 224/500\n",
      "1434/1434 [==============================] - 5s 4ms/step - loss: 552147.3125 - mae: 160.0826 - val_loss: 481257.9688 - val_mae: 157.0235\n"
     ]
    }
   ],
   "source": [
    "history = ann.fit(X_train, y_train,\n",
    "                    validation_data = (X_val, y_val),\n",
    "                    callbacks=[es],\n",
    "                    epochs=500,\n",
    "                    batch_size=30,\n",
    "                    verbose=1)"
   ]
  },
  {
   "cell_type": "code",
   "execution_count": 22,
   "metadata": {
    "ExecuteTime": {
     "end_time": "2024-08-16T03:08:22.611603900Z",
     "start_time": "2024-08-16T03:08:21.941609500Z"
    }
   },
   "outputs": [
    {
     "data": {
      "text/plain": "<Figure size 600x600 with 1 Axes>",
      "image/png": "[encoded data removed]"
     },
     "metadata": {},
     "output_type": "display_data"
    }
   ],
   "source": [
    "# let's see the training and validation accuracy by epoch\n",
    "history_dict = history.history\n",
    "loss_values = history_dict['loss'] # you can change this\n",
    "val_loss_values = history_dict['val_loss'] # you can also change this\n",
    "epochs = range(1, len(loss_values) + 1) # range of X (no. of epochs)\n",
    "\n",
    "# Set global font to Times New Roman and font size\n",
    "plt.rcParams['font.family'] = 'serif'\n",
    "plt.rcParams['font.serif'] = ['Times New Roman']\n",
    "plt.rcParams['font.size'] = 20\n",
    "\n",
    "# Create a plot\n",
    "plt.figure(figsize=(6, 6))\n",
    "plt.plot(epochs, loss_values, 'blue', label='Train set')\n",
    "plt.plot(epochs, val_loss_values, 'orange', label='Validation set')\n",
    "#plt.title('Training and testing loss')\n",
    "\n",
    "\n",
    "plt.xlabel('Epochs')\n",
    "plt.ylabel('Loss (MSE)')\n",
    "plt.legend()\n",
    "plt.savefig('Section2_ANN1_2.png', dpi=200, bbox_inches='tight')\n",
    "plt.show()"
   ]
  },
  {
   "cell_type": "code",
   "execution_count": 23,
   "metadata": {
    "ExecuteTime": {
     "end_time": "2024-08-16T03:08:23.229614600Z",
     "start_time": "2024-08-16T03:08:22.659608400Z"
    }
   },
   "outputs": [
    {
     "data": {
      "text/plain": "<Figure size 600x600 with 1 Axes>",
      "image/png": "[encoded data removed]"
     },
     "metadata": {},
     "output_type": "display_data"
    }
   ],
   "source": [
    "loss_values1 = history_dict['mae'] # you can change this\n",
    "val_loss_values1 = history_dict['val_mae'] # you can also change this\n",
    "epochs = range(1, len(loss_values1) + 1) # range of X (no. of epochs)\n",
    "# Create a plot\n",
    "plt.figure(figsize=(6, 6))\n",
    "plt.plot(epochs, loss_values1, 'blue', label='Train set')\n",
    "plt.plot(epochs, val_loss_values1, 'orange', label='Validation set')\n",
    "#plt.title('Training and testing MAE')\n",
    "plt.xlabel('Epochs')\n",
    "plt.ylabel('MAE (kPa)')\n",
    "plt.legend()\n",
    "plt.savefig('Section2_ANN1_3.png', dpi=200, bbox_inches='tight')\n",
    "plt.show()"
   ]
  },
  {
   "cell_type": "code",
   "execution_count": 24,
   "metadata": {
    "ExecuteTime": {
     "end_time": "2024-08-16T03:08:25.271641600Z",
     "start_time": "2024-08-16T03:08:23.232615100Z"
    }
   },
   "outputs": [
    {
     "name": "stdout",
     "output_type": "stream",
     "text": [
      "INFO:tensorflow:Assets written to: Section2_new_ANN_1\\assets\n"
     ]
    }
   ],
   "source": [
    "ann.save('Section2_new_ANN_1')\n",
    "import pickle\n",
    "pickle.dump(sc, open('Section2_new_scaler_ANN_1.pkl', 'wb'))"
   ]
  },
  {
   "cell_type": "markdown",
   "metadata": {},
   "source": [
    "## Part 5 - Make predictions"
   ]
  },
  {
   "cell_type": "code",
   "execution_count": 25,
   "metadata": {
    "ExecuteTime": {
     "end_time": "2024-08-16T03:08:32.781738700Z",
     "start_time": "2024-08-16T03:08:25.278639Z"
    }
   },
   "outputs": [
    {
     "name": "stdout",
     "output_type": "stream",
     "text": [
      "1345/1345 [==============================] - 4s 3ms/step\n",
      "449/449 [==============================] - 1s 3ms/step\n"
     ]
    },
    {
     "data": {
      "text/plain": "<Figure size 640x480 with 2 Axes>",
      "image/png": "[encoded data removed]"
     },
     "metadata": {},
     "output_type": "display_data"
    }
   ],
   "source": [
    "# scatterplot of actual vs. pred\n",
    "# specify the dimensions \n",
    "fig, axes = plt.subplots(1,2) # 1 row, 2 columns\n",
    "\n",
    "# this makes the individual subplots\n",
    "# Training Results\n",
    "axes[0].scatter(x=y_train, y=ann.predict(X_train)) #first row, first entry (left top)\n",
    "axes[0].set_xlabel(\"Actual\", fontsize=20)\n",
    "axes[0].set_ylabel(\"Predicted\",  fontsize=20)\n",
    "axes[0].set_title(\"Training\")\n",
    "# add 45 deg line\n",
    "x = np.linspace(*axes[0].get_xlim())\n",
    "axes[0].plot(x, x, color='red')\n",
    "# Validation Results\n",
    "axes[1].scatter(x=y_val, y=ann.predict(X_val)) # first row, second entry (right top)\n",
    "axes[1].set_xlabel(\"Actual\", fontsize=20)\n",
    "axes[1].set_ylabel(\"Predicted\",  fontsize=20)\n",
    "axes[1].set_title(\"Validation\")\n",
    "# add 45 deg line\n",
    "x = np.linspace(*axes[1].get_xlim())\n",
    "axes[1].plot(x, x, color='red')\n",
    "\n",
    "# tight layout\n",
    "fig.tight_layout()\n",
    "\n",
    "plt.savefig('Section2_ANN1_1.png', dpi=200, bbox_inches='tight')\n",
    "# show the plot\n",
    "plt.show()"
   ]
  },
  {
   "cell_type": "code",
   "execution_count": 26,
   "metadata": {
    "colab": {
     "base_uri": "https://localhost:8080/",
     "height": 134
    },
    "colab_type": "code",
    "id": "IA0yApEmBG1X",
    "outputId": "cb981e1f-9204-4a2a-fece-9d66a6919189",
    "ExecuteTime": {
     "end_time": "2024-08-16T03:08:34.401766900Z",
     "start_time": "2024-08-16T03:08:32.783737200Z"
    }
   },
   "outputs": [
    {
     "name": "stdout",
     "output_type": "stream",
     "text": [
      "449/449 [==============================] - 1s 3ms/step\n",
      "[[ 1.01e+03  9.34e+02]\n",
      " [-1.23e+01  6.17e+00]\n",
      " [-4.44e+00  4.27e+00]\n",
      " ...\n",
      " [ 3.05e+02  2.99e+02]\n",
      " [ 5.18e+03  4.94e+03]\n",
      " [ 5.84e+03  6.31e+03]]\n"
     ]
    }
   ],
   "source": [
    "y_pred = ann.predict(X_test)\n",
    "np.set_printoptions(precision=2)\n",
    "print(np.concatenate((y_pred.reshape(len(y_pred),1), y_test.reshape(len(y_test),1)),1))"
   ]
  },
  {
   "cell_type": "code",
   "execution_count": 27,
   "metadata": {
    "ExecuteTime": {
     "end_time": "2024-08-16T03:08:34.677762100Z",
     "start_time": "2024-08-16T03:08:34.403770Z"
    }
   },
   "outputs": [
    {
     "data": {
      "text/plain": "Text(0, 0.5, 'Predicted data')"
     },
     "execution_count": 27,
     "metadata": {},
     "output_type": "execute_result"
    },
    {
     "data": {
      "text/plain": "<Figure size 640x480 with 1 Axes>",
      "image/png": "[encoded data removed]"
     },
     "metadata": {},
     "output_type": "display_data"
    }
   ],
   "source": [
    "import matplotlib.pyplot as plt\n",
    "plt.scatter(y_test, y_pred, color=\"blue\")\n",
    "plt.xlabel ('Actual data')\n",
    "plt.ylabel ('Predicted data')"
   ]
  },
  {
   "cell_type": "code",
   "execution_count": 28,
   "metadata": {
    "ExecuteTime": {
     "end_time": "2024-08-16T03:08:35.495774400Z",
     "start_time": "2024-08-16T03:08:34.678762800Z"
    }
   },
   "outputs": [
    {
     "data": {
      "text/plain": "<Figure size 600x600 with 1 Axes>",
      "image/png": "[encoded data removed]"
     },
     "metadata": {},
     "output_type": "display_data"
    }
   ],
   "source": [
    "from sklearn.metrics import r2_score\n",
    "# Initialize layout\n",
    "fig1, ax1 = plt.subplots(figsize = (6, 6))\n",
    "\n",
    "# Set global font to Times New Roman and font size\n",
    "plt.rcParams['font.family'] = 'serif'\n",
    "plt.rcParams['font.serif'] = ['Times New Roman']\n",
    "plt.rcParams['font.size'] = 20\n",
    "\n",
    "b_l = -2000\n",
    "u_l = 65000\n",
    "\n",
    "# Add scatterplot\n",
    "ax1.scatter(y_test, y_pred, s=70, alpha=1, edgecolors=\"k\",c='mediumblue',zorder=5, label = 'Points')\n",
    "\n",
    "\n",
    "plt.ylabel('Predicted Reflected Overpressure (kPa)')\n",
    "plt.xlabel('Target Reflected Overpressure (kPa)')\n",
    "plt.xticks(fontsize = 19)\n",
    "plt.yticks(fontsize = 19)\n",
    "\n",
    "\n",
    "x1 = np.linspace(b_l, u_l)\n",
    "\n",
    "plt.plot(x1, x1, 'Red', label='45\\N{DEGREE SIGN} line',lw=2.5,alpha=1)\n",
    "#plt.plot(x1, 1.05*x1, '--m', label='\\u00B15% Error',lw=2.5,alpha=0.7)\n",
    "#plt.plot(x1, 0.95*x1,'m', linestyle='--',lw=2.5,alpha=0.7)\n",
    "plt.plot(x1, 1.1*x1, '-.g', label='\\u00B110% Error',lw=2.5,alpha=0.7)\n",
    "plt.plot(x1, 0.9*x1,'-.g',lw=2.5,alpha=0.7)\n",
    "plt.plot(x1, 1.2*x1, color = '#F97306', linestyle='dotted', label='\\u00B120% Error',lw=2.5,alpha=0.7)\n",
    "plt.plot(x1, 0.8*x1,color = '#F97306', linestyle='dotted', lw=2.5,alpha=0.7)\n",
    "\n",
    "plt.ylim(b_l, u_l)\n",
    "plt.xlim(b_l, u_l)\n",
    "plt.legend(loc='upper center', bbox_to_anchor=(0.5, -0.15), ncol=4, frameon = False, fontsize = 20)\n",
    "\n",
    "#plt.grid()\n",
    "\n",
    "ax1.spines['left'].set_color('black')        # setting up Y-axis tick color to red\n",
    "ax1.spines['bottom'].set_color('black')         #setting up above X-axis tick color to red\n",
    "\n",
    "plt.savefig('Section2_ANN1.png', dpi=200, bbox_inches='tight')"
   ]
  },
  {
   "cell_type": "code",
   "execution_count": 29,
   "metadata": {
    "ExecuteTime": {
     "end_time": "2024-08-16T03:08:39.433823700Z",
     "start_time": "2024-08-16T03:08:35.499772700Z"
    }
   },
   "outputs": [
    {
     "name": "stdout",
     "output_type": "stream",
     "text": [
      "1345/1345 [==============================] - 3s 3ms/step\n",
      "116.26934293694548\n",
      "114.83740640684357\n"
     ]
    }
   ],
   "source": [
    "# metrics\n",
    "trainpreds = ann.predict(X_train)\n",
    "\n",
    "from sklearn.metrics import mean_absolute_error\n",
    "print(mean_absolute_error(y_train, trainpreds)) # train\n",
    "print(mean_absolute_error(y_test, y_pred)) # test"
   ]
  },
  {
   "cell_type": "code",
   "execution_count": 30,
   "metadata": {
    "ExecuteTime": {
     "end_time": "2024-08-16T03:08:39.448829800Z",
     "start_time": "2024-08-16T03:08:39.428824400Z"
    }
   },
   "outputs": [
    {
     "name": "stdout",
     "output_type": "stream",
     "text": [
      "0.9731003699995602\n"
     ]
    }
   ],
   "source": [
    "from sklearn.metrics import r2_score\n",
    "r2 = r2_score(y_test, y_pred)\n",
    "print (r2)"
   ]
  },
  {
   "cell_type": "code",
   "execution_count": 31,
   "metadata": {
    "ExecuteTime": {
     "end_time": "2024-08-16T03:08:39.593823700Z",
     "start_time": "2024-08-16T03:08:39.448829800Z"
    }
   },
   "outputs": [
    {
     "name": "stdout",
     "output_type": "stream",
     "text": [
      "0.9697703069902911\n"
     ]
    }
   ],
   "source": [
    "r2_train = r2_score(y_train, trainpreds)\n",
    "print (r2_train)"
   ]
  },
  {
   "cell_type": "code",
   "execution_count": 32,
   "metadata": {
    "ExecuteTime": {
     "end_time": "2024-08-16T03:08:40.820840500Z",
     "start_time": "2024-08-16T03:08:39.599823800Z"
    }
   },
   "outputs": [
    {
     "name": "stdout",
     "output_type": "stream",
     "text": [
      "Within 5% margin 11.92%\n",
      "Within 10% margin 23.23%\n",
      "Within 20% margin 37.91%\n",
      "Out of 20% margin 62.09%\n"
     ]
    }
   ],
   "source": [
    "count0 = 0\n",
    "for i in range(len(y_pred)):\n",
    "    line1 = y_pred[i] - 0.95*y_test[i]\n",
    "    line2 = y_pred[i] - 1.05*y_test[i]\n",
    "    mask0 = (line1 > 0) & (line2 < 0)\n",
    "    count0 = np.sum(mask0+count0)\n",
    "\n",
    "count1 = 0\n",
    "for i in range(len(y_pred)):\n",
    "    line1 = y_pred[i] - 0.9*y_test[i]\n",
    "    line2 = y_pred[i] - 1.1*y_test[i]\n",
    "    mask1 = (line1 > 0) & (line2 < 0)\n",
    "    count1 = np.sum(mask1+count1)\n",
    "\n",
    "count2 = 0\n",
    "for j in range(len(y_pred)):\n",
    "    line3 = y_pred[j] - 0.8*y_test[j]\n",
    "    line4 = y_pred[j] - 1.2*y_test[j]\n",
    "    mask2 = (line3 > 0) & (line4 < 0)\n",
    "    count2 = np.sum(mask2+count2)\n",
    "\n",
    "\n",
    "count3 = 0    \n",
    "for k in range(len(y_pred)):\n",
    "    line5 = y_pred[k] - 0.8*y_test[k]\n",
    "    line6 = y_pred[k] - 1.2*y_test[k]\n",
    "    mask3 = (line5 < 0) or (line6 > 0)\n",
    "    count3 = np.sum(mask3+count3)\n",
    "   \n",
    "\n",
    "print ('Within 5% margin', format((count0/len (y_pred)),'.2%'))\n",
    "print ('Within 10% margin', format((count1/len (y_pred)),'.2%'))\n",
    "print ('Within 20% margin', format((count2/len (y_pred)),'.2%'))\n",
    "print ('Out of 20% margin', format((count3/len (y_pred)),'.2%'))"
   ]
  },
  {
   "cell_type": "code",
   "execution_count": 33,
   "metadata": {
    "ExecuteTime": {
     "end_time": "2024-08-16T03:08:40.824840700Z",
     "start_time": "2024-08-16T03:08:40.812847800Z"
    }
   },
   "outputs": [
    {
     "name": "stdout",
     "output_type": "stream",
     "text": [
      "0.9730891102130385\n"
     ]
    }
   ],
   "source": [
    "adj_r2 = 1 - ((1 - r2) * (len(X_test) - 1) / (len(X_test) - len (X_test[0]) - 1))\n",
    "print (adj_r2)"
   ]
  },
  {
   "cell_type": "code",
   "execution_count": 34,
   "metadata": {
    "ExecuteTime": {
     "end_time": "2024-08-16T03:08:40.996848700Z",
     "start_time": "2024-08-16T03:08:40.826841800Z"
    }
   },
   "outputs": [
    {
     "data": {
      "text/plain": "525.5893064000618"
     },
     "execution_count": 34,
     "metadata": {},
     "output_type": "execute_result"
    }
   ],
   "source": [
    "import math\n",
    "from sklearn.metrics import mean_squared_error\n",
    "\n",
    "math.sqrt(mean_squared_error(y_test, y_pred))"
   ]
  },
  {
   "cell_type": "code",
   "execution_count": 35,
   "metadata": {
    "ExecuteTime": {
     "end_time": "2024-08-16T03:08:41.155846900Z",
     "start_time": "2024-08-16T03:08:40.995850700Z"
    }
   },
   "outputs": [
    {
     "data": {
      "text/plain": "114.83740640684357"
     },
     "execution_count": 35,
     "metadata": {},
     "output_type": "execute_result"
    }
   ],
   "source": [
    "from sklearn.metrics import mean_absolute_error\n",
    "\n",
    "mean_absolute_error(y_test, y_pred)"
   ]
  }
 ],
 "metadata": {
  "colab": {
   "collapsed_sections": [],
   "name": "Artificial Neural Network",
   "provenance": [],
   "toc_visible": true
  },
  "kernelspec": {
   "display_name": "Python 3 (ipykernel)",
   "language": "python",
   "name": "python3"
  },
  "language_info": {
   "codemirror_mode": {
    "name": "ipython",
    "version": 3
   },
   "file_extension": ".py",
   "mimetype": "text/x-python",
   "name": "python",
   "nbconvert_exporter": "python",
   "pygments_lexer": "ipython3",
   "version": "3.9.7"
  }
 },
 "nbformat": 4,
 "nbformat_minor": 4
}
