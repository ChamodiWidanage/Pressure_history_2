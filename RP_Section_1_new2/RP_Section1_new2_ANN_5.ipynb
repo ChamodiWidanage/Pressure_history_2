{
 "cells": [
  {
   "cell_type": "markdown",
   "metadata": {
    "colab_type": "text",
    "id": "3cbb7fRy-eyr"
   },
   "source": [
    "# Artificial Neural Network"
   ]
  },
  {
   "cell_type": "markdown",
   "source": [
    "## Part 1 - Importing the libraries"
   ],
   "metadata": {
    "collapsed": false
   }
  },
  {
   "cell_type": "code",
   "execution_count": 1,
   "metadata": {
    "colab": {},
    "colab_type": "code",
    "id": "lxChR1Rk-umf",
    "ExecuteTime": {
     "end_time": "2024-08-16T05:59:14.840128300Z",
     "start_time": "2024-08-16T05:59:03.443337400Z"
    }
   },
   "outputs": [],
   "source": [
    "import numpy as np\n",
    "import pandas as pd\n",
    "import tensorflow as tf\n",
    "import matplotlib.pyplot as plt\n",
    "from keras.models import load_model\n",
    "from pathlib import Path\n",
    "import pickle"
   ]
  },
  {
   "cell_type": "markdown",
   "metadata": {
    "colab_type": "text",
    "id": "AG3FQEch-yuA"
   },
   "source": [
    "## Part 2 - Data Preprocessing"
   ]
  },
  {
   "cell_type": "code",
   "execution_count": 2,
   "metadata": {
    "ExecuteTime": {
     "end_time": "2024-08-16T05:59:14.857578100Z",
     "start_time": "2024-08-16T05:59:14.844576600Z"
    }
   },
   "outputs": [
    {
     "name": "stdout",
     "output_type": "stream",
     "text": [
      "input G:\\Chamodi\\LSDYNA3D\\RP_TH_models\\RP_Section_1_new\n",
      "2 [WindowsPath('G:/Chamodi/LSDYNA3D/RP_TH_models/RP_Section_1_new/1.00m'), WindowsPath('G:/Chamodi/LSDYNA3D/RP_TH_models/RP_Section_1_new/1.25m'), WindowsPath('G:/Chamodi/LSDYNA3D/RP_TH_models/RP_Section_1_new/1.50m'), WindowsPath('G:/Chamodi/LSDYNA3D/RP_TH_models/RP_Section_1_new/1.75m'), WindowsPath('G:/Chamodi/LSDYNA3D/RP_TH_models/RP_Section_1_new/2.00m'), WindowsPath('G:/Chamodi/LSDYNA3D/RP_TH_models/RP_Section_1_new/2.25m'), WindowsPath('G:/Chamodi/LSDYNA3D/RP_TH_models/RP_Section_1_new/2.50m'), WindowsPath('G:/Chamodi/LSDYNA3D/RP_TH_models/RP_Section_1_new/2.75m'), WindowsPath('G:/Chamodi/LSDYNA3D/RP_TH_models/RP_Section_1_new/3.00m')]\n"
     ]
    }
   ],
   "source": [
    "#Access input folder\n",
    "current_dir = Path.cwd()\n",
    "input_dir1 = Path (\"G:/Chamodi/LSDYNA3D/RP_TH_models/RP_Section_1_new\")\n",
    "print (\"input\",input_dir1)\n",
    "\n",
    "#Access folders inside input folder\n",
    "input_dir2=  [folder1 for folder1 in input_dir1.iterdir() if folder1.is_dir()] # folder1 - RP_curves_fr7m\n",
    "print (\"2\",input_dir2)"
   ]
  },
  {
   "cell_type": "code",
   "execution_count": 3,
   "metadata": {
    "ExecuteTime": {
     "end_time": "2024-08-16T05:59:28.656877900Z",
     "start_time": "2024-08-16T05:59:14.858580300Z"
    }
   },
   "outputs": [
    {
     "name": "stdout",
     "output_type": "stream",
     "text": [
      "folder G:\\Chamodi\\LSDYNA3D\\RP_TH_models\\RP_Section_1_new\\1.00m\\1.00m00.5kg\n",
      "1\n",
      "2\n",
      "3\n",
      "4\n",
      "folder G:\\Chamodi\\LSDYNA3D\\RP_TH_models\\RP_Section_1_new\\1.00m\\1.00m02.5kg\n",
      "1\n",
      "2\n",
      "3\n",
      "4\n",
      "folder G:\\Chamodi\\LSDYNA3D\\RP_TH_models\\RP_Section_1_new\\1.00m\\1.00m04.5kg\n",
      "1\n",
      "2\n",
      "3\n",
      "4\n",
      "folder G:\\Chamodi\\LSDYNA3D\\RP_TH_models\\RP_Section_1_new\\1.00m\\1.00m06.5kg\n",
      "1\n",
      "2\n",
      "3\n",
      "4\n",
      "folder G:\\Chamodi\\LSDYNA3D\\RP_TH_models\\RP_Section_1_new\\1.00m\\1.00m08.5kg\n",
      "1\n",
      "2\n",
      "3\n",
      "4\n",
      "folder G:\\Chamodi\\LSDYNA3D\\RP_TH_models\\RP_Section_1_new\\1.00m\\1.00m10.5kg\n",
      "1\n",
      "2\n",
      "3\n",
      "4\n",
      "folder G:\\Chamodi\\LSDYNA3D\\RP_TH_models\\RP_Section_1_new\\1.00m\\1.00m12.5kg\n",
      "1\n",
      "2\n",
      "3\n",
      "4\n",
      "folder G:\\Chamodi\\LSDYNA3D\\RP_TH_models\\RP_Section_1_new\\1.00m\\1.00m14.5kg\n",
      "1\n",
      "2\n",
      "3\n",
      "4\n",
      "folder G:\\Chamodi\\LSDYNA3D\\RP_TH_models\\RP_Section_1_new\\1.00m\\1.00m16.5kg\n",
      "1\n",
      "2\n",
      "3\n",
      "4\n",
      "folder G:\\Chamodi\\LSDYNA3D\\RP_TH_models\\RP_Section_1_new\\1.00m\\1.00m18.5kg\n",
      "1\n",
      "2\n",
      "3\n",
      "4\n",
      "folder G:\\Chamodi\\LSDYNA3D\\RP_TH_models\\RP_Section_1_new\\1.00m\\1.00m20.5kg\n",
      "1\n",
      "2\n",
      "3\n",
      "4\n",
      "folder G:\\Chamodi\\LSDYNA3D\\RP_TH_models\\RP_Section_1_new\\1.00m\\1.00m22.5kg\n",
      "1\n",
      "2\n",
      "3\n",
      "4\n",
      "folder G:\\Chamodi\\LSDYNA3D\\RP_TH_models\\RP_Section_1_new\\1.00m\\1.00m24.5kg\n",
      "1\n",
      "2\n",
      "3\n",
      "4\n",
      "folder G:\\Chamodi\\LSDYNA3D\\RP_TH_models\\RP_Section_1_new\\1.00m\\1.00m26.5kg\n",
      "1\n",
      "2\n",
      "3\n",
      "4\n",
      "folder G:\\Chamodi\\LSDYNA3D\\RP_TH_models\\RP_Section_1_new\\1.00m\\1.00m28.5kg\n",
      "1\n",
      "2\n",
      "3\n",
      "4\n",
      "folder G:\\Chamodi\\LSDYNA3D\\RP_TH_models\\RP_Section_1_new\\1.00m\\1.00m30.5kg\n",
      "1\n",
      "2\n",
      "3\n",
      "4\n",
      "folder G:\\Chamodi\\LSDYNA3D\\RP_TH_models\\RP_Section_1_new\\1.00m\\1.00m32.5kg\n",
      "1\n",
      "2\n",
      "3\n",
      "4\n",
      "folder G:\\Chamodi\\LSDYNA3D\\RP_TH_models\\RP_Section_1_new\\1.00m\\1.00m34.5kg\n",
      "1\n",
      "2\n",
      "3\n",
      "4\n",
      "folder G:\\Chamodi\\LSDYNA3D\\RP_TH_models\\RP_Section_1_new\\1.00m\\1.00m35.0kg\n",
      "1\n",
      "2\n",
      "3\n",
      "4\n",
      "folder G:\\Chamodi\\LSDYNA3D\\RP_TH_models\\RP_Section_1_new\\1.25m\\1.25m00.5kg\n",
      "1\n",
      "2\n",
      "3\n",
      "4\n",
      "folder G:\\Chamodi\\LSDYNA3D\\RP_TH_models\\RP_Section_1_new\\1.25m\\1.25m02.5kg\n",
      "1\n",
      "2\n",
      "3\n",
      "4\n",
      "folder G:\\Chamodi\\LSDYNA3D\\RP_TH_models\\RP_Section_1_new\\1.25m\\1.25m04.5kg\n",
      "1\n",
      "2\n",
      "3\n",
      "4\n",
      "folder G:\\Chamodi\\LSDYNA3D\\RP_TH_models\\RP_Section_1_new\\1.25m\\1.25m06.5kg\n",
      "1\n",
      "2\n",
      "3\n",
      "4\n",
      "folder G:\\Chamodi\\LSDYNA3D\\RP_TH_models\\RP_Section_1_new\\1.25m\\1.25m08.5kg\n",
      "1\n",
      "2\n",
      "3\n",
      "4\n",
      "folder G:\\Chamodi\\LSDYNA3D\\RP_TH_models\\RP_Section_1_new\\1.25m\\1.25m10.5kg\n",
      "1\n",
      "2\n",
      "3\n",
      "4\n",
      "folder G:\\Chamodi\\LSDYNA3D\\RP_TH_models\\RP_Section_1_new\\1.25m\\1.25m12.5kg\n",
      "1\n",
      "2\n",
      "3\n",
      "4\n",
      "folder G:\\Chamodi\\LSDYNA3D\\RP_TH_models\\RP_Section_1_new\\1.25m\\1.25m14.5kg\n",
      "1\n",
      "2\n",
      "3\n",
      "4\n",
      "folder G:\\Chamodi\\LSDYNA3D\\RP_TH_models\\RP_Section_1_new\\1.25m\\1.25m16.5kg\n",
      "1\n",
      "2\n",
      "3\n",
      "4\n",
      "folder G:\\Chamodi\\LSDYNA3D\\RP_TH_models\\RP_Section_1_new\\1.25m\\1.25m18.5kg\n",
      "1\n",
      "2\n",
      "3\n",
      "4\n",
      "folder G:\\Chamodi\\LSDYNA3D\\RP_TH_models\\RP_Section_1_new\\1.25m\\1.25m20.5kg\n",
      "1\n",
      "2\n",
      "3\n",
      "4\n",
      "folder G:\\Chamodi\\LSDYNA3D\\RP_TH_models\\RP_Section_1_new\\1.25m\\1.25m22.5kg\n",
      "1\n",
      "2\n",
      "3\n",
      "4\n",
      "folder G:\\Chamodi\\LSDYNA3D\\RP_TH_models\\RP_Section_1_new\\1.25m\\1.25m24.5kg\n",
      "1\n",
      "2\n",
      "3\n",
      "4\n",
      "folder G:\\Chamodi\\LSDYNA3D\\RP_TH_models\\RP_Section_1_new\\1.25m\\1.25m26.5kg\n",
      "1\n",
      "2\n",
      "3\n",
      "4\n",
      "folder G:\\Chamodi\\LSDYNA3D\\RP_TH_models\\RP_Section_1_new\\1.25m\\1.25m28.5kg\n",
      "1\n",
      "2\n",
      "3\n",
      "4\n",
      "folder G:\\Chamodi\\LSDYNA3D\\RP_TH_models\\RP_Section_1_new\\1.25m\\1.25m30.5kg\n",
      "1\n",
      "2\n",
      "3\n",
      "4\n",
      "folder G:\\Chamodi\\LSDYNA3D\\RP_TH_models\\RP_Section_1_new\\1.25m\\1.25m32.5kg\n",
      "1\n",
      "2\n",
      "3\n",
      "4\n",
      "folder G:\\Chamodi\\LSDYNA3D\\RP_TH_models\\RP_Section_1_new\\1.25m\\1.25m34.5kg\n",
      "1\n",
      "2\n",
      "3\n",
      "4\n",
      "folder G:\\Chamodi\\LSDYNA3D\\RP_TH_models\\RP_Section_1_new\\1.25m\\1.25m35.0kg\n",
      "1\n",
      "2\n",
      "3\n",
      "4\n",
      "folder G:\\Chamodi\\LSDYNA3D\\RP_TH_models\\RP_Section_1_new\\1.50m\\1.50m00.5kg\n",
      "1\n",
      "2\n",
      "3\n",
      "4\n",
      "folder G:\\Chamodi\\LSDYNA3D\\RP_TH_models\\RP_Section_1_new\\1.50m\\1.50m02.5kg\n",
      "1\n",
      "2\n",
      "3\n",
      "4\n",
      "folder G:\\Chamodi\\LSDYNA3D\\RP_TH_models\\RP_Section_1_new\\1.50m\\1.50m04.5kg\n",
      "1\n",
      "2\n",
      "3\n",
      "4\n",
      "folder G:\\Chamodi\\LSDYNA3D\\RP_TH_models\\RP_Section_1_new\\1.50m\\1.50m06.5kg\n",
      "1\n",
      "2\n",
      "3\n",
      "4\n",
      "folder G:\\Chamodi\\LSDYNA3D\\RP_TH_models\\RP_Section_1_new\\1.50m\\1.50m08.5kg\n",
      "1\n",
      "2\n",
      "3\n",
      "4\n",
      "folder G:\\Chamodi\\LSDYNA3D\\RP_TH_models\\RP_Section_1_new\\1.50m\\1.50m10.5kg\n",
      "1\n",
      "2\n",
      "3\n",
      "4\n",
      "folder G:\\Chamodi\\LSDYNA3D\\RP_TH_models\\RP_Section_1_new\\1.50m\\1.50m12.5kg\n",
      "1\n",
      "2\n",
      "3\n",
      "4\n",
      "folder G:\\Chamodi\\LSDYNA3D\\RP_TH_models\\RP_Section_1_new\\1.50m\\1.50m14.5kg\n",
      "1\n",
      "2\n",
      "3\n",
      "4\n",
      "folder G:\\Chamodi\\LSDYNA3D\\RP_TH_models\\RP_Section_1_new\\1.50m\\1.50m16.5kg\n",
      "1\n",
      "2\n",
      "3\n",
      "4\n",
      "folder G:\\Chamodi\\LSDYNA3D\\RP_TH_models\\RP_Section_1_new\\1.50m\\1.50m18.5kg\n",
      "1\n",
      "2\n",
      "3\n",
      "4\n",
      "folder G:\\Chamodi\\LSDYNA3D\\RP_TH_models\\RP_Section_1_new\\1.50m\\1.50m20.5kg\n",
      "1\n",
      "2\n",
      "3\n",
      "4\n",
      "folder G:\\Chamodi\\LSDYNA3D\\RP_TH_models\\RP_Section_1_new\\1.50m\\1.50m22.5kg\n",
      "1\n",
      "2\n",
      "3\n",
      "4\n",
      "folder G:\\Chamodi\\LSDYNA3D\\RP_TH_models\\RP_Section_1_new\\1.50m\\1.50m24.5kg\n",
      "1\n",
      "2\n",
      "3\n",
      "4\n",
      "folder G:\\Chamodi\\LSDYNA3D\\RP_TH_models\\RP_Section_1_new\\1.50m\\1.50m26.5kg\n",
      "1\n",
      "2\n",
      "3\n",
      "4\n",
      "folder G:\\Chamodi\\LSDYNA3D\\RP_TH_models\\RP_Section_1_new\\1.50m\\1.50m28.5kg\n",
      "1\n",
      "2\n",
      "3\n",
      "4\n",
      "folder G:\\Chamodi\\LSDYNA3D\\RP_TH_models\\RP_Section_1_new\\1.50m\\1.50m30.5kg\n",
      "1\n",
      "2\n",
      "3\n",
      "4\n",
      "folder G:\\Chamodi\\LSDYNA3D\\RP_TH_models\\RP_Section_1_new\\1.50m\\1.50m32.5kg\n",
      "1\n",
      "2\n",
      "3\n",
      "4\n",
      "folder G:\\Chamodi\\LSDYNA3D\\RP_TH_models\\RP_Section_1_new\\1.50m\\1.50m34.5kg\n",
      "1\n",
      "2\n",
      "3\n",
      "4\n",
      "folder G:\\Chamodi\\LSDYNA3D\\RP_TH_models\\RP_Section_1_new\\1.50m\\1.50m35.0kg\n",
      "1\n",
      "2\n",
      "3\n",
      "4\n",
      "folder G:\\Chamodi\\LSDYNA3D\\RP_TH_models\\RP_Section_1_new\\1.75m\\1.75m00.5kg\n",
      "1\n",
      "2\n",
      "3\n",
      "4\n",
      "folder G:\\Chamodi\\LSDYNA3D\\RP_TH_models\\RP_Section_1_new\\1.75m\\1.75m02.5kg\n",
      "1\n",
      "2\n",
      "3\n",
      "4\n",
      "folder G:\\Chamodi\\LSDYNA3D\\RP_TH_models\\RP_Section_1_new\\1.75m\\1.75m04.5kg\n",
      "1\n",
      "2\n",
      "3\n",
      "4\n",
      "folder G:\\Chamodi\\LSDYNA3D\\RP_TH_models\\RP_Section_1_new\\1.75m\\1.75m06.5kg\n",
      "1\n",
      "2\n",
      "3\n",
      "4\n",
      "folder G:\\Chamodi\\LSDYNA3D\\RP_TH_models\\RP_Section_1_new\\1.75m\\1.75m08.5kg\n",
      "1\n",
      "2\n",
      "3\n",
      "4\n",
      "folder G:\\Chamodi\\LSDYNA3D\\RP_TH_models\\RP_Section_1_new\\1.75m\\1.75m10.5kg\n",
      "1\n",
      "2\n",
      "3\n",
      "4\n",
      "folder G:\\Chamodi\\LSDYNA3D\\RP_TH_models\\RP_Section_1_new\\1.75m\\1.75m12.5kg\n",
      "1\n",
      "2\n",
      "3\n",
      "4\n",
      "folder G:\\Chamodi\\LSDYNA3D\\RP_TH_models\\RP_Section_1_new\\1.75m\\1.75m14.5kg\n",
      "1\n",
      "2\n",
      "3\n",
      "4\n",
      "folder G:\\Chamodi\\LSDYNA3D\\RP_TH_models\\RP_Section_1_new\\1.75m\\1.75m16.5kg\n",
      "1\n",
      "2\n",
      "3\n",
      "4\n",
      "folder G:\\Chamodi\\LSDYNA3D\\RP_TH_models\\RP_Section_1_new\\1.75m\\1.75m18.5kg\n",
      "1\n",
      "2\n",
      "3\n",
      "4\n",
      "folder G:\\Chamodi\\LSDYNA3D\\RP_TH_models\\RP_Section_1_new\\1.75m\\1.75m20.5kg\n",
      "1\n",
      "2\n",
      "3\n",
      "4\n",
      "folder G:\\Chamodi\\LSDYNA3D\\RP_TH_models\\RP_Section_1_new\\1.75m\\1.75m22.5kg\n",
      "1\n",
      "2\n",
      "3\n",
      "4\n",
      "folder G:\\Chamodi\\LSDYNA3D\\RP_TH_models\\RP_Section_1_new\\1.75m\\1.75m24.5kg\n",
      "1\n",
      "2\n",
      "3\n",
      "4\n",
      "folder G:\\Chamodi\\LSDYNA3D\\RP_TH_models\\RP_Section_1_new\\1.75m\\1.75m26.5kg\n",
      "1\n",
      "2\n",
      "3\n",
      "4\n",
      "folder G:\\Chamodi\\LSDYNA3D\\RP_TH_models\\RP_Section_1_new\\1.75m\\1.75m28.5kg\n",
      "1\n",
      "2\n",
      "3\n",
      "4\n",
      "folder G:\\Chamodi\\LSDYNA3D\\RP_TH_models\\RP_Section_1_new\\1.75m\\1.75m30.5kg\n",
      "1\n",
      "2\n",
      "3\n",
      "4\n",
      "folder G:\\Chamodi\\LSDYNA3D\\RP_TH_models\\RP_Section_1_new\\1.75m\\1.75m32.5kg\n",
      "1\n",
      "2\n",
      "3\n",
      "4\n",
      "folder G:\\Chamodi\\LSDYNA3D\\RP_TH_models\\RP_Section_1_new\\1.75m\\1.75m34.5kg\n",
      "1\n",
      "2\n",
      "3\n",
      "4\n",
      "folder G:\\Chamodi\\LSDYNA3D\\RP_TH_models\\RP_Section_1_new\\1.75m\\1.75m35.0kg\n",
      "1\n",
      "2\n",
      "3\n",
      "4\n",
      "folder G:\\Chamodi\\LSDYNA3D\\RP_TH_models\\RP_Section_1_new\\2.00m\\2.00m00.5kg\n",
      "1\n",
      "2\n",
      "3\n",
      "4\n",
      "folder G:\\Chamodi\\LSDYNA3D\\RP_TH_models\\RP_Section_1_new\\2.00m\\2.00m02.5kg\n",
      "1\n",
      "2\n",
      "3\n",
      "4\n",
      "folder G:\\Chamodi\\LSDYNA3D\\RP_TH_models\\RP_Section_1_new\\2.00m\\2.00m04.5kg\n",
      "1\n",
      "2\n",
      "3\n",
      "4\n",
      "folder G:\\Chamodi\\LSDYNA3D\\RP_TH_models\\RP_Section_1_new\\2.00m\\2.00m06.5kg\n",
      "1\n",
      "2\n",
      "3\n",
      "4\n",
      "folder G:\\Chamodi\\LSDYNA3D\\RP_TH_models\\RP_Section_1_new\\2.00m\\2.00m08.5kg\n",
      "1\n",
      "2\n",
      "3\n",
      "4\n",
      "folder G:\\Chamodi\\LSDYNA3D\\RP_TH_models\\RP_Section_1_new\\2.00m\\2.00m10.5kg\n",
      "1\n",
      "2\n",
      "3\n",
      "4\n",
      "folder G:\\Chamodi\\LSDYNA3D\\RP_TH_models\\RP_Section_1_new\\2.00m\\2.00m12.5kg\n",
      "1\n",
      "2\n",
      "3\n",
      "4\n",
      "folder G:\\Chamodi\\LSDYNA3D\\RP_TH_models\\RP_Section_1_new\\2.00m\\2.00m14.5kg\n",
      "1\n",
      "2\n",
      "3\n",
      "4\n",
      "folder G:\\Chamodi\\LSDYNA3D\\RP_TH_models\\RP_Section_1_new\\2.00m\\2.00m16.5kg\n",
      "1\n",
      "2\n",
      "3\n",
      "4\n",
      "folder G:\\Chamodi\\LSDYNA3D\\RP_TH_models\\RP_Section_1_new\\2.00m\\2.00m18.5kg\n",
      "1\n",
      "2\n",
      "3\n",
      "4\n",
      "folder G:\\Chamodi\\LSDYNA3D\\RP_TH_models\\RP_Section_1_new\\2.00m\\2.00m20.5kg\n",
      "1\n",
      "2\n",
      "3\n",
      "4\n",
      "folder G:\\Chamodi\\LSDYNA3D\\RP_TH_models\\RP_Section_1_new\\2.00m\\2.00m22.5kg\n",
      "1\n",
      "2\n",
      "3\n",
      "4\n",
      "folder G:\\Chamodi\\LSDYNA3D\\RP_TH_models\\RP_Section_1_new\\2.00m\\2.00m24.5kg\n",
      "1\n",
      "2\n",
      "3\n",
      "4\n",
      "folder G:\\Chamodi\\LSDYNA3D\\RP_TH_models\\RP_Section_1_new\\2.00m\\2.00m26.5kg\n",
      "1\n",
      "2\n",
      "3\n",
      "4\n",
      "folder G:\\Chamodi\\LSDYNA3D\\RP_TH_models\\RP_Section_1_new\\2.00m\\2.00m28.5kg\n",
      "1\n",
      "2\n",
      "3\n",
      "4\n",
      "folder G:\\Chamodi\\LSDYNA3D\\RP_TH_models\\RP_Section_1_new\\2.00m\\2.00m30.5kg\n",
      "1\n",
      "2\n",
      "3\n",
      "4\n",
      "folder G:\\Chamodi\\LSDYNA3D\\RP_TH_models\\RP_Section_1_new\\2.00m\\2.00m32.5kg\n",
      "1\n",
      "2\n",
      "3\n",
      "4\n",
      "folder G:\\Chamodi\\LSDYNA3D\\RP_TH_models\\RP_Section_1_new\\2.00m\\2.00m34.5kg\n",
      "1\n",
      "2\n",
      "3\n",
      "4\n",
      "folder G:\\Chamodi\\LSDYNA3D\\RP_TH_models\\RP_Section_1_new\\2.00m\\2.00m35.0kg\n",
      "1\n",
      "2\n",
      "3\n",
      "4\n",
      "folder G:\\Chamodi\\LSDYNA3D\\RP_TH_models\\RP_Section_1_new\\2.25m\\2.25m00.5kg\n",
      "1\n",
      "2\n",
      "3\n",
      "4\n",
      "folder G:\\Chamodi\\LSDYNA3D\\RP_TH_models\\RP_Section_1_new\\2.25m\\2.25m02.5kg\n",
      "1\n",
      "2\n",
      "3\n",
      "4\n",
      "folder G:\\Chamodi\\LSDYNA3D\\RP_TH_models\\RP_Section_1_new\\2.25m\\2.25m04.5kg\n",
      "1\n",
      "2\n",
      "3\n",
      "4\n",
      "folder G:\\Chamodi\\LSDYNA3D\\RP_TH_models\\RP_Section_1_new\\2.25m\\2.25m06.5kg\n",
      "1\n",
      "2\n",
      "3\n",
      "4\n",
      "folder G:\\Chamodi\\LSDYNA3D\\RP_TH_models\\RP_Section_1_new\\2.25m\\2.25m08.5kg\n",
      "1\n",
      "2\n",
      "3\n",
      "4\n",
      "folder G:\\Chamodi\\LSDYNA3D\\RP_TH_models\\RP_Section_1_new\\2.25m\\2.25m10.5kg\n",
      "1\n",
      "2\n",
      "3\n",
      "4\n",
      "folder G:\\Chamodi\\LSDYNA3D\\RP_TH_models\\RP_Section_1_new\\2.25m\\2.25m12.5kg\n",
      "1\n",
      "2\n",
      "3\n",
      "4\n",
      "folder G:\\Chamodi\\LSDYNA3D\\RP_TH_models\\RP_Section_1_new\\2.25m\\2.25m14.5kg\n",
      "1\n",
      "2\n",
      "3\n",
      "4\n",
      "folder G:\\Chamodi\\LSDYNA3D\\RP_TH_models\\RP_Section_1_new\\2.25m\\2.25m16.5kg\n",
      "1\n",
      "2\n",
      "3\n",
      "4\n",
      "folder G:\\Chamodi\\LSDYNA3D\\RP_TH_models\\RP_Section_1_new\\2.25m\\2.25m18.5kg\n",
      "1\n",
      "2\n",
      "3\n",
      "4\n",
      "folder G:\\Chamodi\\LSDYNA3D\\RP_TH_models\\RP_Section_1_new\\2.25m\\2.25m20.5kg\n",
      "1\n",
      "2\n",
      "3\n",
      "4\n",
      "folder G:\\Chamodi\\LSDYNA3D\\RP_TH_models\\RP_Section_1_new\\2.25m\\2.25m22.5kg\n",
      "1\n",
      "2\n",
      "3\n",
      "4\n",
      "folder G:\\Chamodi\\LSDYNA3D\\RP_TH_models\\RP_Section_1_new\\2.25m\\2.25m24.5kg\n",
      "1\n",
      "2\n",
      "3\n",
      "4\n",
      "folder G:\\Chamodi\\LSDYNA3D\\RP_TH_models\\RP_Section_1_new\\2.25m\\2.25m26.5kg\n",
      "1\n",
      "2\n",
      "3\n",
      "4\n",
      "folder G:\\Chamodi\\LSDYNA3D\\RP_TH_models\\RP_Section_1_new\\2.25m\\2.25m28.5kg\n",
      "1\n",
      "2\n",
      "3\n",
      "4\n",
      "folder G:\\Chamodi\\LSDYNA3D\\RP_TH_models\\RP_Section_1_new\\2.25m\\2.25m30.5kg\n",
      "1\n",
      "2\n",
      "3\n",
      "4\n",
      "folder G:\\Chamodi\\LSDYNA3D\\RP_TH_models\\RP_Section_1_new\\2.25m\\2.25m32.5kg\n",
      "1\n",
      "2\n",
      "3\n",
      "4\n",
      "folder G:\\Chamodi\\LSDYNA3D\\RP_TH_models\\RP_Section_1_new\\2.25m\\2.25m34.5kg\n",
      "1\n",
      "2\n",
      "3\n",
      "4\n",
      "folder G:\\Chamodi\\LSDYNA3D\\RP_TH_models\\RP_Section_1_new\\2.25m\\2.25m35.0kg\n",
      "1\n",
      "2\n",
      "3\n",
      "4\n",
      "folder G:\\Chamodi\\LSDYNA3D\\RP_TH_models\\RP_Section_1_new\\2.50m\\2.50m00.5kg\n",
      "1\n",
      "2\n",
      "3\n",
      "4\n",
      "folder G:\\Chamodi\\LSDYNA3D\\RP_TH_models\\RP_Section_1_new\\2.50m\\2.50m02.5kg\n",
      "1\n",
      "2\n",
      "3\n",
      "4\n",
      "folder G:\\Chamodi\\LSDYNA3D\\RP_TH_models\\RP_Section_1_new\\2.50m\\2.50m04.5kg\n",
      "1\n",
      "2\n",
      "3\n",
      "4\n",
      "folder G:\\Chamodi\\LSDYNA3D\\RP_TH_models\\RP_Section_1_new\\2.50m\\2.50m06.5kg\n",
      "1\n",
      "2\n",
      "3\n",
      "4\n",
      "folder G:\\Chamodi\\LSDYNA3D\\RP_TH_models\\RP_Section_1_new\\2.50m\\2.50m08.5kg\n",
      "1\n",
      "2\n",
      "3\n",
      "4\n",
      "folder G:\\Chamodi\\LSDYNA3D\\RP_TH_models\\RP_Section_1_new\\2.50m\\2.50m10.5kg\n",
      "1\n",
      "2\n",
      "3\n",
      "4\n",
      "folder G:\\Chamodi\\LSDYNA3D\\RP_TH_models\\RP_Section_1_new\\2.50m\\2.50m12.5kg\n",
      "1\n",
      "2\n",
      "3\n",
      "4\n",
      "folder G:\\Chamodi\\LSDYNA3D\\RP_TH_models\\RP_Section_1_new\\2.50m\\2.50m14.5kg\n",
      "1\n",
      "2\n",
      "3\n",
      "4\n",
      "folder G:\\Chamodi\\LSDYNA3D\\RP_TH_models\\RP_Section_1_new\\2.50m\\2.50m16.5kg\n",
      "1\n",
      "2\n",
      "3\n",
      "4\n",
      "folder G:\\Chamodi\\LSDYNA3D\\RP_TH_models\\RP_Section_1_new\\2.50m\\2.50m18.5kg\n",
      "1\n",
      "2\n",
      "3\n",
      "4\n",
      "folder G:\\Chamodi\\LSDYNA3D\\RP_TH_models\\RP_Section_1_new\\2.50m\\2.50m20.5kg\n",
      "1\n",
      "2\n",
      "3\n",
      "4\n",
      "folder G:\\Chamodi\\LSDYNA3D\\RP_TH_models\\RP_Section_1_new\\2.50m\\2.50m22.5kg\n",
      "1\n",
      "2\n",
      "3\n",
      "4\n",
      "folder G:\\Chamodi\\LSDYNA3D\\RP_TH_models\\RP_Section_1_new\\2.50m\\2.50m24.5kg\n",
      "1\n",
      "2\n",
      "3\n",
      "4\n",
      "folder G:\\Chamodi\\LSDYNA3D\\RP_TH_models\\RP_Section_1_new\\2.50m\\2.50m26.5kg\n",
      "1\n",
      "2\n",
      "3\n",
      "4\n",
      "folder G:\\Chamodi\\LSDYNA3D\\RP_TH_models\\RP_Section_1_new\\2.50m\\2.50m28.5kg\n",
      "1\n",
      "2\n",
      "3\n",
      "4\n",
      "folder G:\\Chamodi\\LSDYNA3D\\RP_TH_models\\RP_Section_1_new\\2.50m\\2.50m30.5kg\n",
      "1\n",
      "2\n",
      "3\n",
      "4\n",
      "folder G:\\Chamodi\\LSDYNA3D\\RP_TH_models\\RP_Section_1_new\\2.50m\\2.50m32.5kg\n",
      "1\n",
      "2\n",
      "3\n",
      "4\n",
      "folder G:\\Chamodi\\LSDYNA3D\\RP_TH_models\\RP_Section_1_new\\2.50m\\2.50m34.5kg\n",
      "1\n",
      "2\n",
      "3\n",
      "4\n",
      "folder G:\\Chamodi\\LSDYNA3D\\RP_TH_models\\RP_Section_1_new\\2.50m\\2.50m35.0kg\n",
      "1\n",
      "2\n",
      "3\n",
      "4\n",
      "folder G:\\Chamodi\\LSDYNA3D\\RP_TH_models\\RP_Section_1_new\\2.75m\\2.75m00.5kg\n",
      "1\n",
      "2\n",
      "3\n",
      "4\n",
      "folder G:\\Chamodi\\LSDYNA3D\\RP_TH_models\\RP_Section_1_new\\2.75m\\2.75m02.5kg\n",
      "1\n",
      "2\n",
      "3\n",
      "4\n",
      "folder G:\\Chamodi\\LSDYNA3D\\RP_TH_models\\RP_Section_1_new\\2.75m\\2.75m04.5kg\n",
      "1\n",
      "2\n",
      "3\n",
      "4\n",
      "folder G:\\Chamodi\\LSDYNA3D\\RP_TH_models\\RP_Section_1_new\\2.75m\\2.75m06.5kg\n",
      "1\n",
      "2\n",
      "3\n",
      "4\n",
      "folder G:\\Chamodi\\LSDYNA3D\\RP_TH_models\\RP_Section_1_new\\2.75m\\2.75m08.5kg\n",
      "1\n",
      "2\n",
      "3\n",
      "4\n",
      "folder G:\\Chamodi\\LSDYNA3D\\RP_TH_models\\RP_Section_1_new\\2.75m\\2.75m10.5kg\n",
      "1\n",
      "2\n",
      "3\n",
      "4\n",
      "folder G:\\Chamodi\\LSDYNA3D\\RP_TH_models\\RP_Section_1_new\\2.75m\\2.75m12.5kg\n",
      "1\n",
      "2\n",
      "3\n",
      "4\n",
      "folder G:\\Chamodi\\LSDYNA3D\\RP_TH_models\\RP_Section_1_new\\2.75m\\2.75m14.5kg\n",
      "1\n",
      "2\n",
      "3\n",
      "4\n",
      "folder G:\\Chamodi\\LSDYNA3D\\RP_TH_models\\RP_Section_1_new\\2.75m\\2.75m16.5kg\n",
      "1\n",
      "2\n",
      "3\n",
      "4\n",
      "folder G:\\Chamodi\\LSDYNA3D\\RP_TH_models\\RP_Section_1_new\\2.75m\\2.75m18.5kg\n",
      "1\n",
      "2\n",
      "3\n",
      "4\n",
      "folder G:\\Chamodi\\LSDYNA3D\\RP_TH_models\\RP_Section_1_new\\2.75m\\2.75m20.5kg\n",
      "1\n",
      "2\n",
      "3\n",
      "4\n",
      "folder G:\\Chamodi\\LSDYNA3D\\RP_TH_models\\RP_Section_1_new\\2.75m\\2.75m22.5kg\n",
      "1\n",
      "2\n",
      "3\n",
      "4\n",
      "folder G:\\Chamodi\\LSDYNA3D\\RP_TH_models\\RP_Section_1_new\\2.75m\\2.75m24.5kg\n",
      "1\n",
      "2\n",
      "3\n",
      "4\n",
      "folder G:\\Chamodi\\LSDYNA3D\\RP_TH_models\\RP_Section_1_new\\2.75m\\2.75m26.5kg\n",
      "1\n",
      "2\n",
      "3\n",
      "4\n",
      "folder G:\\Chamodi\\LSDYNA3D\\RP_TH_models\\RP_Section_1_new\\2.75m\\2.75m28.5kg\n",
      "1\n",
      "2\n",
      "3\n",
      "4\n",
      "folder G:\\Chamodi\\LSDYNA3D\\RP_TH_models\\RP_Section_1_new\\2.75m\\2.75m30.5kg\n",
      "1\n",
      "2\n",
      "3\n",
      "4\n",
      "folder G:\\Chamodi\\LSDYNA3D\\RP_TH_models\\RP_Section_1_new\\2.75m\\2.75m32.5kg\n",
      "1\n",
      "2\n",
      "3\n",
      "4\n",
      "folder G:\\Chamodi\\LSDYNA3D\\RP_TH_models\\RP_Section_1_new\\2.75m\\2.75m34.5kg\n",
      "1\n",
      "2\n",
      "3\n",
      "4\n",
      "folder G:\\Chamodi\\LSDYNA3D\\RP_TH_models\\RP_Section_1_new\\2.75m\\2.75m35.0kg\n",
      "1\n",
      "2\n",
      "3\n",
      "4\n",
      "folder G:\\Chamodi\\LSDYNA3D\\RP_TH_models\\RP_Section_1_new\\3.00m\\3.00m00.5kg\n",
      "1\n",
      "2\n",
      "3\n",
      "4\n",
      "folder G:\\Chamodi\\LSDYNA3D\\RP_TH_models\\RP_Section_1_new\\3.00m\\3.00m02.5kg\n",
      "1\n",
      "2\n",
      "3\n",
      "4\n",
      "folder G:\\Chamodi\\LSDYNA3D\\RP_TH_models\\RP_Section_1_new\\3.00m\\3.00m04.5kg\n",
      "1\n",
      "2\n",
      "3\n",
      "4\n",
      "folder G:\\Chamodi\\LSDYNA3D\\RP_TH_models\\RP_Section_1_new\\3.00m\\3.00m06.5kg\n",
      "1\n",
      "2\n",
      "3\n",
      "4\n",
      "folder G:\\Chamodi\\LSDYNA3D\\RP_TH_models\\RP_Section_1_new\\3.00m\\3.00m08.5kg\n",
      "1\n",
      "2\n",
      "3\n",
      "4\n",
      "folder G:\\Chamodi\\LSDYNA3D\\RP_TH_models\\RP_Section_1_new\\3.00m\\3.00m10.5kg\n",
      "1\n",
      "2\n",
      "3\n",
      "4\n",
      "folder G:\\Chamodi\\LSDYNA3D\\RP_TH_models\\RP_Section_1_new\\3.00m\\3.00m12.5kg\n",
      "1\n",
      "2\n",
      "3\n",
      "4\n",
      "folder G:\\Chamodi\\LSDYNA3D\\RP_TH_models\\RP_Section_1_new\\3.00m\\3.00m14.5kg\n",
      "1\n",
      "2\n",
      "3\n",
      "4\n",
      "folder G:\\Chamodi\\LSDYNA3D\\RP_TH_models\\RP_Section_1_new\\3.00m\\3.00m16.5kg\n",
      "1\n",
      "2\n",
      "3\n",
      "4\n",
      "folder G:\\Chamodi\\LSDYNA3D\\RP_TH_models\\RP_Section_1_new\\3.00m\\3.00m18.5kg\n",
      "1\n",
      "2\n",
      "3\n",
      "4\n",
      "folder G:\\Chamodi\\LSDYNA3D\\RP_TH_models\\RP_Section_1_new\\3.00m\\3.00m20.5kg\n",
      "1\n",
      "2\n",
      "3\n",
      "4\n",
      "folder G:\\Chamodi\\LSDYNA3D\\RP_TH_models\\RP_Section_1_new\\3.00m\\3.00m22.5kg\n",
      "1\n",
      "2\n",
      "3\n",
      "4\n",
      "folder G:\\Chamodi\\LSDYNA3D\\RP_TH_models\\RP_Section_1_new\\3.00m\\3.00m24.5kg\n",
      "1\n",
      "2\n",
      "3\n",
      "4\n",
      "folder G:\\Chamodi\\LSDYNA3D\\RP_TH_models\\RP_Section_1_new\\3.00m\\3.00m26.5kg\n",
      "1\n",
      "2\n",
      "3\n",
      "4\n",
      "folder G:\\Chamodi\\LSDYNA3D\\RP_TH_models\\RP_Section_1_new\\3.00m\\3.00m28.5kg\n",
      "1\n",
      "2\n",
      "3\n",
      "4\n",
      "folder G:\\Chamodi\\LSDYNA3D\\RP_TH_models\\RP_Section_1_new\\3.00m\\3.00m30.5kg\n",
      "1\n",
      "2\n",
      "3\n",
      "4\n",
      "folder G:\\Chamodi\\LSDYNA3D\\RP_TH_models\\RP_Section_1_new\\3.00m\\3.00m32.5kg\n",
      "1\n",
      "2\n",
      "3\n",
      "4\n",
      "folder G:\\Chamodi\\LSDYNA3D\\RP_TH_models\\RP_Section_1_new\\3.00m\\3.00m34.5kg\n",
      "1\n",
      "2\n",
      "3\n",
      "4\n",
      "folder G:\\Chamodi\\LSDYNA3D\\RP_TH_models\\RP_Section_1_new\\3.00m\\3.00m35.0kg\n",
      "1\n",
      "2\n",
      "3\n",
      "4\n"
     ]
    }
   ],
   "source": [
    "#dataset = pd.DataFrame(columns = ['Charge_mass', 'Standoff_distance', 'Time', 'Pressure', 'Phase'])\n",
    "df_list = []\n",
    "\n",
    "for folder1 in input_dir2:\n",
    "    \n",
    "    input_dir3 =  [folder2 for folder2 in folder1.iterdir() if folder2.is_dir()] # folder2 - 07m00.5kg\n",
    "    \n",
    "    for folder2 in input_dir3:\n",
    "        \n",
    "        print ('folder', folder2)\n",
    "        files1 = [file1 for file1 in folder2.rglob(\"*.xlsx\")]\n",
    "    \n",
    "        for file1 in files1:\n",
    "            df_list.append(pd.read_excel(file1))\n",
    "            print (file1.stem)\n",
    "    \n",
    "dataset = pd.concat(df_list, ignore_index = True)"
   ]
  },
  {
   "cell_type": "code",
   "execution_count": 4,
   "metadata": {
    "colab": {},
    "colab_type": "code",
    "id": "B9CV13Co_HHM",
    "ExecuteTime": {
     "end_time": "2024-08-16T05:59:28.674906500Z",
     "start_time": "2024-08-16T05:59:28.657876100Z"
    }
   },
   "outputs": [
    {
     "name": "stdout",
     "output_type": "stream",
     "text": [
      "<class 'pandas.core.frame.DataFrame'>\n",
      "RangeIndex: 71701 entries, 0 to 71700\n",
      "Data columns (total 6 columns):\n",
      " #   Column             Non-Null Count  Dtype  \n",
      "---  ------             --------------  -----  \n",
      " 0   Mass               71701 non-null  float64\n",
      " 1   Standoff distance  71701 non-null  float64\n",
      " 2   Angle              71701 non-null  int64  \n",
      " 3   Time               71701 non-null  float64\n",
      " 4   Phase              71701 non-null  object \n",
      " 5   Pressure           71701 non-null  float64\n",
      "dtypes: float64(4), int64(1), object(1)\n",
      "memory usage: 3.3+ MB\n"
     ]
    }
   ],
   "source": [
    "dataset.info()"
   ]
  },
  {
   "cell_type": "code",
   "execution_count": 5,
   "outputs": [
    {
     "name": "stdout",
     "output_type": "stream",
     "text": [
      "<class 'pandas.core.frame.DataFrame'>\n",
      "RangeIndex: 71701 entries, 0 to 71700\n",
      "Data columns (total 7 columns):\n",
      " #   Column             Non-Null Count  Dtype  \n",
      "---  ------             --------------  -----  \n",
      " 0   Mass               71701 non-null  float64\n",
      " 1   Standoff distance  71701 non-null  float64\n",
      " 2   Angle              71701 non-null  int64  \n",
      " 3   Time               71701 non-null  float64\n",
      " 4   Pressure           71701 non-null  float64\n",
      " 5   Phase_negative     71701 non-null  uint8  \n",
      " 6   Phase_positive     71701 non-null  uint8  \n",
      "dtypes: float64(4), int64(1), uint8(2)\n",
      "memory usage: 2.9 MB\n"
     ]
    }
   ],
   "source": [
    "dataset['Phase'] = dataset['Phase'].replace({'negative_increasing': 'negative', 'negative_decreasing': 'negative'})\n",
    "dataset = pd.get_dummies(dataset, columns =['Phase'], dtype = np.uint8)\n",
    "dataset.info()"
   ],
   "metadata": {
    "collapsed": false,
    "ExecuteTime": {
     "end_time": "2024-08-16T05:59:28.796552200Z",
     "start_time": "2024-08-16T05:59:28.674906500Z"
    }
   }
  },
  {
   "cell_type": "code",
   "execution_count": 6,
   "outputs": [
    {
     "data": {
      "text/plain": "    Mass  Standoff distance  Angle      Time    Pressure  Phase_negative  \\\n0    0.5                1.0      0  0.675620  1835.74400               0   \n1    0.5                1.0      0  0.678642  1834.42100               0   \n2    0.5                1.0      0  0.681641  1825.07100               0   \n3    0.5                1.0      0  0.690485  1762.36500               0   \n4    0.5                1.0      0  0.729239  1252.16300               0   \n5    0.5                1.0      0  0.749695  1068.86900               0   \n6    0.5                1.0      0  0.769045   935.35660               0   \n7    0.5                1.0      0  0.800520   758.47430               0   \n8    0.5                1.0      0  0.831368   620.15920               0   \n9    0.5                1.0      0  0.846691   564.04980               0   \n10   0.5                1.0      0  0.864671   506.87930               0   \n11   0.5                1.0      0  0.884545   451.83270               0   \n12   0.5                1.0      0  0.906902   397.41580               0   \n13   0.5                1.0      0  0.927155   353.53220               0   \n14   0.5                1.0      0  0.947124   314.68150               0   \n15   0.5                1.0      0  0.966568   281.10310               0   \n16   0.5                1.0      0  0.986417   251.33860               0   \n17   0.5                1.0      0  1.006225   226.02760               0   \n18   0.5                1.0      0  1.025679   205.07110               0   \n19   0.5                1.0      0  1.048664   184.52760               0   \n20   0.5                1.0      0  1.073196   166.17430               0   \n21   0.5                1.0      0  1.108821   143.37730               0   \n22   0.5                1.0      0  1.156518   116.69450               0   \n23   0.5                1.0      0  1.227624    79.94161               0   \n24   0.5                1.0      0  1.252754    68.08047               0   \n25   0.5                1.0      0  1.278528    56.94484               0   \n26   0.5                1.0      0  1.321861    40.67422               0   \n27   0.5                1.0      0  1.345147    33.06606               0   \n28   0.5                1.0      0  1.368550    26.09805               0   \n29   0.5                1.0      0  1.395020    18.93172               0   \n\n    Phase_positive  \n0                1  \n1                1  \n2                1  \n3                1  \n4                1  \n5                1  \n6                1  \n7                1  \n8                1  \n9                1  \n10               1  \n11               1  \n12               1  \n13               1  \n14               1  \n15               1  \n16               1  \n17               1  \n18               1  \n19               1  \n20               1  \n21               1  \n22               1  \n23               1  \n24               1  \n25               1  \n26               1  \n27               1  \n28               1  \n29               1  ",
      "text/html": "<div>\n<style scoped>\n    .dataframe tbody tr th:only-of-type {\n        vertical-align: middle;\n    }\n\n    .dataframe tbody tr th {\n        vertical-align: top;\n    }\n\n    .dataframe thead th {\n        text-align: right;\n    }\n</style>\n<table border=\"1\" class=\"dataframe\">\n  <thead>\n    <tr style=\"text-align: right;\">\n      <th></th>\n      <th>Mass</th>\n      <th>Standoff distance</th>\n      <th>Angle</th>\n      <th>Time</th>\n      <th>Pressure</th>\n      <th>Phase_negative</th>\n      <th>Phase_positive</th>\n    </tr>\n  </thead>\n  <tbody>\n    <tr>\n      <th>0</th>\n      <td>0.5</td>\n      <td>1.0</td>\n      <td>0</td>\n      <td>0.675620</td>\n      <td>1835.74400</td>\n      <td>0</td>\n      <td>1</td>\n    </tr>\n    <tr>\n      <th>1</th>\n      <td>0.5</td>\n      <td>1.0</td>\n      <td>0</td>\n      <td>0.678642</td>\n      <td>1834.42100</td>\n      <td>0</td>\n      <td>1</td>\n    </tr>\n    <tr>\n      <th>2</th>\n      <td>0.5</td>\n      <td>1.0</td>\n      <td>0</td>\n      <td>0.681641</td>\n      <td>1825.07100</td>\n      <td>0</td>\n      <td>1</td>\n    </tr>\n    <tr>\n      <th>3</th>\n      <td>0.5</td>\n      <td>1.0</td>\n      <td>0</td>\n      <td>0.690485</td>\n      <td>1762.36500</td>\n      <td>0</td>\n      <td>1</td>\n    </tr>\n    <tr>\n      <th>4</th>\n      <td>0.5</td>\n      <td>1.0</td>\n      <td>0</td>\n      <td>0.729239</td>\n      <td>1252.16300</td>\n      <td>0</td>\n      <td>1</td>\n    </tr>\n    <tr>\n      <th>5</th>\n      <td>0.5</td>\n      <td>1.0</td>\n      <td>0</td>\n      <td>0.749695</td>\n      <td>1068.86900</td>\n      <td>0</td>\n      <td>1</td>\n    </tr>\n    <tr>\n      <th>6</th>\n      <td>0.5</td>\n      <td>1.0</td>\n      <td>0</td>\n      <td>0.769045</td>\n      <td>935.35660</td>\n      <td>0</td>\n      <td>1</td>\n    </tr>\n    <tr>\n      <th>7</th>\n      <td>0.5</td>\n      <td>1.0</td>\n      <td>0</td>\n      <td>0.800520</td>\n      <td>758.47430</td>\n      <td>0</td>\n      <td>1</td>\n    </tr>\n    <tr>\n      <th>8</th>\n      <td>0.5</td>\n      <td>1.0</td>\n      <td>0</td>\n      <td>0.831368</td>\n      <td>620.15920</td>\n      <td>0</td>\n      <td>1</td>\n    </tr>\n    <tr>\n      <th>9</th>\n      <td>0.5</td>\n      <td>1.0</td>\n      <td>0</td>\n      <td>0.846691</td>\n      <td>564.04980</td>\n      <td>0</td>\n      <td>1</td>\n    </tr>\n    <tr>\n      <th>10</th>\n      <td>0.5</td>\n      <td>1.0</td>\n      <td>0</td>\n      <td>0.864671</td>\n      <td>506.87930</td>\n      <td>0</td>\n      <td>1</td>\n    </tr>\n    <tr>\n      <th>11</th>\n      <td>0.5</td>\n      <td>1.0</td>\n      <td>0</td>\n      <td>0.884545</td>\n      <td>451.83270</td>\n      <td>0</td>\n      <td>1</td>\n    </tr>\n    <tr>\n      <th>12</th>\n      <td>0.5</td>\n      <td>1.0</td>\n      <td>0</td>\n      <td>0.906902</td>\n      <td>397.41580</td>\n      <td>0</td>\n      <td>1</td>\n    </tr>\n    <tr>\n      <th>13</th>\n      <td>0.5</td>\n      <td>1.0</td>\n      <td>0</td>\n      <td>0.927155</td>\n      <td>353.53220</td>\n      <td>0</td>\n      <td>1</td>\n    </tr>\n    <tr>\n      <th>14</th>\n      <td>0.5</td>\n      <td>1.0</td>\n      <td>0</td>\n      <td>0.947124</td>\n      <td>314.68150</td>\n      <td>0</td>\n      <td>1</td>\n    </tr>\n    <tr>\n      <th>15</th>\n      <td>0.5</td>\n      <td>1.0</td>\n      <td>0</td>\n      <td>0.966568</td>\n      <td>281.10310</td>\n      <td>0</td>\n      <td>1</td>\n    </tr>\n    <tr>\n      <th>16</th>\n      <td>0.5</td>\n      <td>1.0</td>\n      <td>0</td>\n      <td>0.986417</td>\n      <td>251.33860</td>\n      <td>0</td>\n      <td>1</td>\n    </tr>\n    <tr>\n      <th>17</th>\n      <td>0.5</td>\n      <td>1.0</td>\n      <td>0</td>\n      <td>1.006225</td>\n      <td>226.02760</td>\n      <td>0</td>\n      <td>1</td>\n    </tr>\n    <tr>\n      <th>18</th>\n      <td>0.5</td>\n      <td>1.0</td>\n      <td>0</td>\n      <td>1.025679</td>\n      <td>205.07110</td>\n      <td>0</td>\n      <td>1</td>\n    </tr>\n    <tr>\n      <th>19</th>\n      <td>0.5</td>\n      <td>1.0</td>\n      <td>0</td>\n      <td>1.048664</td>\n      <td>184.52760</td>\n      <td>0</td>\n      <td>1</td>\n    </tr>\n    <tr>\n      <th>20</th>\n      <td>0.5</td>\n      <td>1.0</td>\n      <td>0</td>\n      <td>1.073196</td>\n      <td>166.17430</td>\n      <td>0</td>\n      <td>1</td>\n    </tr>\n    <tr>\n      <th>21</th>\n      <td>0.5</td>\n      <td>1.0</td>\n      <td>0</td>\n      <td>1.108821</td>\n      <td>143.37730</td>\n      <td>0</td>\n      <td>1</td>\n    </tr>\n    <tr>\n      <th>22</th>\n      <td>0.5</td>\n      <td>1.0</td>\n      <td>0</td>\n      <td>1.156518</td>\n      <td>116.69450</td>\n      <td>0</td>\n      <td>1</td>\n    </tr>\n    <tr>\n      <th>23</th>\n      <td>0.5</td>\n      <td>1.0</td>\n      <td>0</td>\n      <td>1.227624</td>\n      <td>79.94161</td>\n      <td>0</td>\n      <td>1</td>\n    </tr>\n    <tr>\n      <th>24</th>\n      <td>0.5</td>\n      <td>1.0</td>\n      <td>0</td>\n      <td>1.252754</td>\n      <td>68.08047</td>\n      <td>0</td>\n      <td>1</td>\n    </tr>\n    <tr>\n      <th>25</th>\n      <td>0.5</td>\n      <td>1.0</td>\n      <td>0</td>\n      <td>1.278528</td>\n      <td>56.94484</td>\n      <td>0</td>\n      <td>1</td>\n    </tr>\n    <tr>\n      <th>26</th>\n      <td>0.5</td>\n      <td>1.0</td>\n      <td>0</td>\n      <td>1.321861</td>\n      <td>40.67422</td>\n      <td>0</td>\n      <td>1</td>\n    </tr>\n    <tr>\n      <th>27</th>\n      <td>0.5</td>\n      <td>1.0</td>\n      <td>0</td>\n      <td>1.345147</td>\n      <td>33.06606</td>\n      <td>0</td>\n      <td>1</td>\n    </tr>\n    <tr>\n      <th>28</th>\n      <td>0.5</td>\n      <td>1.0</td>\n      <td>0</td>\n      <td>1.368550</td>\n      <td>26.09805</td>\n      <td>0</td>\n      <td>1</td>\n    </tr>\n    <tr>\n      <th>29</th>\n      <td>0.5</td>\n      <td>1.0</td>\n      <td>0</td>\n      <td>1.395020</td>\n      <td>18.93172</td>\n      <td>0</td>\n      <td>1</td>\n    </tr>\n  </tbody>\n</table>\n</div>"
     },
     "execution_count": 6,
     "metadata": {},
     "output_type": "execute_result"
    }
   ],
   "source": [
    "dataset.head(30)"
   ],
   "metadata": {
    "collapsed": false,
    "ExecuteTime": {
     "end_time": "2024-08-16T05:59:28.908744900Z",
     "start_time": "2024-08-16T05:59:28.797558200Z"
    }
   }
  },
  {
   "cell_type": "code",
   "execution_count": 7,
   "metadata": {
    "ExecuteTime": {
     "end_time": "2024-08-16T05:59:29.027613Z",
     "start_time": "2024-08-16T05:59:28.907745600Z"
    }
   },
   "outputs": [
    {
     "name": "stdout",
     "output_type": "stream",
     "text": [
      "(71701, 6) (71701,)\n"
     ]
    }
   ],
   "source": [
    "y = dataset['Pressure']\n",
    "X = dataset.drop(['Pressure'], axis=1)\n",
    "print(X.shape, y.shape)"
   ]
  },
  {
   "cell_type": "code",
   "execution_count": 8,
   "metadata": {
    "ExecuteTime": {
     "end_time": "2024-08-16T05:59:29.073999100Z",
     "start_time": "2024-08-16T05:59:28.954126500Z"
    }
   },
   "outputs": [],
   "source": [
    "# convert to numpy array\n",
    "X = np.array(X)\n",
    "y = np.array(y)"
   ]
  },
  {
   "cell_type": "code",
   "execution_count": 9,
   "metadata": {
    "colab": {},
    "colab_type": "code",
    "id": "L5edeb2r_agx",
    "ExecuteTime": {
     "end_time": "2024-08-16T05:59:31.142318800Z",
     "start_time": "2024-08-16T05:59:29.047141200Z"
    }
   },
   "outputs": [],
   "source": [
    "from sklearn.model_selection import train_test_split\n",
    "X_train, X_test, y_train, y_test = train_test_split(X,\n",
    "                                                    y,\n",
    "                                                    test_size = 0.4,\n",
    "                                                    random_state = 0)"
   ]
  },
  {
   "cell_type": "code",
   "execution_count": 10,
   "metadata": {
    "colab": {},
    "colab_type": "code",
    "id": "L5edeb2r_agx",
    "ExecuteTime": {
     "end_time": "2024-08-16T05:59:31.157932100Z",
     "start_time": "2024-08-16T05:59:31.145319700Z"
    }
   },
   "outputs": [],
   "source": [
    "X_val, X_test, y_val, y_test = train_test_split(X_test,\n",
    "                                                y_test,\n",
    "                                                test_size = 0.5,\n",
    "                                                random_state = 0)"
   ]
  },
  {
   "cell_type": "code",
   "execution_count": 11,
   "outputs": [
    {
     "name": "stdout",
     "output_type": "stream",
     "text": [
      "[[ 1.39645554e+00 -3.13218895e-03  4.43663308e-01 -7.91917823e-01\n",
      "   0.00000000e+00  1.00000000e+00]\n",
      " [-1.14818828e+00  1.15514949e+00 -4.57616171e-01 -4.34229509e-01\n",
      "   0.00000000e+00  1.00000000e+00]\n",
      " [ 4.17746376e-01 -7.75319975e-01 -4.57616171e-01 -9.60540081e-01\n",
      "   0.00000000e+00  1.00000000e+00]\n",
      " ...\n",
      " [-3.65220953e-01  3.82961704e-01 -4.57616171e-01 -8.29831907e-01\n",
      "   0.00000000e+00  1.00000000e+00]\n",
      " [ 2.62627117e-02  3.82961704e-01 -1.35889565e+00  7.26167937e-01\n",
      "   1.00000000e+00  0.00000000e+00]\n",
      " [ 4.17746376e-01  1.54124338e+00  4.43663308e-01  3.98188894e+00\n",
      "   1.00000000e+00  0.00000000e+00]]\n"
     ]
    }
   ],
   "source": [
    "from sklearn.preprocessing import StandardScaler\n",
    "sc = StandardScaler()\n",
    "X_train[:,0:4] = sc.fit_transform(X_train[:, 0:4])\n",
    "print (X_train)"
   ],
   "metadata": {
    "collapsed": false,
    "ExecuteTime": {
     "end_time": "2024-08-16T05:59:31.266639600Z",
     "start_time": "2024-08-16T05:59:31.159931600Z"
    }
   }
  },
  {
   "cell_type": "code",
   "execution_count": 12,
   "outputs": [
    {
     "name": "stdout",
     "output_type": "stream",
     "text": [
      "[[ 0.02626271  1.54124338  1.34494279 -0.36275182  0.          1.        ]\n",
      " [ 0.22200454 -0.38922608 -0.45761617 -0.55629654  0.          1.        ]\n",
      " [-0.56096278  0.7690556  -1.35889565 -0.39725537  1.          0.        ]\n",
      " ...\n",
      " [ 0.80923004 -1.54750776 -0.45761617 -0.68807892  0.          1.        ]\n",
      " [ 1.00497187  0.3829617  -0.45761617 -0.83995595  0.          1.        ]\n",
      " [ 1.2007137  -1.54750776  1.34494279 -0.91363287  0.          1.        ]]\n"
     ]
    }
   ],
   "source": [
    "X_test[:,0:4] = sc.transform(X_test[:,0:4])\n",
    "print (X_test)"
   ],
   "metadata": {
    "collapsed": false,
    "ExecuteTime": {
     "end_time": "2024-08-16T05:59:31.376522100Z",
     "start_time": "2024-08-16T05:59:31.268638700Z"
    }
   }
  },
  {
   "cell_type": "code",
   "execution_count": 13,
   "outputs": [
    {
     "name": "stdout",
     "output_type": "stream",
     "text": [
      "[[-1.14818828 -0.77531997  0.44366331 -0.9023219   0.          1.        ]\n",
      " [ 0.61348821 -0.38922608 -1.35889565  0.38034883  1.          0.        ]\n",
      " [ 1.39645554  0.7690556  -1.35889565 -0.72316618  0.          1.        ]\n",
      " ...\n",
      " [ 0.02626271  1.54124338  1.34494279 -0.17293315  0.          1.        ]\n",
      " [ 0.41774638 -0.00313219 -1.35889565 -0.62864609  0.          1.        ]\n",
      " [ 0.41774638  1.15514949 -1.35889565 -0.61377708  0.          1.        ]]\n"
     ]
    }
   ],
   "source": [
    "X_val[:,0:4] = sc.transform(X_val[:,0:4])\n",
    "print (X_val)"
   ],
   "metadata": {
    "collapsed": false,
    "ExecuteTime": {
     "end_time": "2024-08-16T05:59:31.534706100Z",
     "start_time": "2024-08-16T05:59:31.377522300Z"
    }
   }
  },
  {
   "cell_type": "code",
   "execution_count": 14,
   "outputs": [
    {
     "name": "stdout",
     "output_type": "stream",
     "text": [
      "X_train 43020\n",
      "X_test 14341\n",
      "X_val 14340\n"
     ]
    }
   ],
   "source": [
    "print (\"X_train\", len(X_train))\n",
    "print (\"X_test\", len(X_test))\n",
    "print (\"X_val\", len(X_val))"
   ],
   "metadata": {
    "collapsed": false,
    "ExecuteTime": {
     "end_time": "2024-08-16T05:59:31.641997300Z",
     "start_time": "2024-08-16T05:59:31.535707700Z"
    }
   }
  },
  {
   "cell_type": "markdown",
   "metadata": {
    "colab_type": "text",
    "id": "_mSLlAT9_eyI"
   },
   "source": [
    "## Part 3 - Building the ANN"
   ]
  },
  {
   "cell_type": "code",
   "execution_count": 15,
   "metadata": {
    "colab": {},
    "colab_type": "code",
    "id": "J6Hd97Ls__Nz",
    "ExecuteTime": {
     "end_time": "2024-08-16T05:59:31.806239400Z",
     "start_time": "2024-08-16T05:59:31.641997300Z"
    }
   },
   "outputs": [],
   "source": [
    "ann = tf.keras.models.Sequential()"
   ]
  },
  {
   "cell_type": "code",
   "execution_count": 16,
   "metadata": {
    "colab": {},
    "colab_type": "code",
    "id": "ksO_Vv40AHix",
    "ExecuteTime": {
     "end_time": "2024-08-16T05:59:31.989511Z",
     "start_time": "2024-08-16T05:59:31.804235200Z"
    }
   },
   "outputs": [],
   "source": [
    "ann.add(tf.keras.layers.Dense(units=250,\n",
    "                              input_shape=(X_train.shape[1],),\n",
    "                              activation='relu'))\n",
    "ann.add(tf.keras.layers.Dense(units=225,\n",
    "                              activation='relu'))\n",
    "ann.add(tf.keras.layers.Dense(units=200,\n",
    "                              activation='relu'))\n",
    "ann.add(tf.keras.layers.Dense(units=175,\n",
    "                              activation='relu'))\n",
    "ann.add(tf.keras.layers.Dense(units=150,\n",
    "                              activation='relu'))\n",
    "ann.add(tf.keras.layers.Dense(units=125,\n",
    "                              activation='relu'))\n",
    "ann.add(tf.keras.layers.Dense(units=100,\n",
    "                              activation='relu'))"
   ]
  },
  {
   "cell_type": "code",
   "execution_count": 17,
   "metadata": {
    "colab": {},
    "colab_type": "code",
    "id": "YFATpzsUAkLL",
    "ExecuteTime": {
     "end_time": "2024-08-16T05:59:32.036593700Z",
     "start_time": "2024-08-16T05:59:31.989511Z"
    }
   },
   "outputs": [],
   "source": [
    "ann.add(tf.keras.layers.Dense(units=1,\n",
    "                              activation='linear'))"
   ]
  },
  {
   "cell_type": "code",
   "execution_count": 18,
   "metadata": {
    "ExecuteTime": {
     "end_time": "2024-08-16T05:59:32.175771300Z",
     "start_time": "2024-08-16T05:59:32.022032Z"
    }
   },
   "outputs": [
    {
     "name": "stdout",
     "output_type": "stream",
     "text": [
      "Model: \"sequential\"\n",
      "_________________________________________________________________\n",
      " Layer (type)                Output Shape              Param #   \n",
      "=================================================================\n",
      " dense (Dense)               (None, 250)               1750      \n",
      "                                                                 \n",
      " dense_1 (Dense)             (None, 225)               56475     \n",
      "                                                                 \n",
      " dense_2 (Dense)             (None, 200)               45200     \n",
      "                                                                 \n",
      " dense_3 (Dense)             (None, 175)               35175     \n",
      "                                                                 \n",
      " dense_4 (Dense)             (None, 150)               26400     \n",
      "                                                                 \n",
      " dense_5 (Dense)             (None, 125)               18875     \n",
      "                                                                 \n",
      " dense_6 (Dense)             (None, 100)               12600     \n",
      "                                                                 \n",
      " dense_7 (Dense)             (None, 1)                 101       \n",
      "                                                                 \n",
      "=================================================================\n",
      "Total params: 196,576\n",
      "Trainable params: 196,576\n",
      "Non-trainable params: 0\n",
      "_________________________________________________________________\n"
     ]
    }
   ],
   "source": [
    "ann.summary()"
   ]
  },
  {
   "cell_type": "markdown",
   "metadata": {
    "colab_type": "text",
    "id": "fq7e4fF6A1yy"
   },
   "source": [
    "## Part 4 - Training the ANN"
   ]
  },
  {
   "cell_type": "code",
   "execution_count": 19,
   "metadata": {
    "colab": {},
    "colab_type": "code",
    "id": "pesgbWlCAtB4",
    "ExecuteTime": {
     "end_time": "2024-08-16T05:59:32.264810Z",
     "start_time": "2024-08-16T05:59:32.117699200Z"
    }
   },
   "outputs": [],
   "source": [
    "# from tensorflow.keras.optimizers import Adam\n",
    "from keras.optimizers import Adam\n",
    "opt = Adam(learning_rate=0.001)\n",
    "ann.compile(optimizer = opt,\n",
    "            loss = 'mean_squared_error',\n",
    "            metrics = ['mae'])"
   ]
  },
  {
   "cell_type": "code",
   "execution_count": 20,
   "metadata": {
    "ExecuteTime": {
     "end_time": "2024-08-16T05:59:32.306960700Z",
     "start_time": "2024-08-16T05:59:32.226293100Z"
    }
   },
   "outputs": [],
   "source": [
    "# protects from unnecessary further training of the model if a particular metric does not continue to improve over a number of n epochs. In such a case, the model training would be automatically aborted.\n",
    "from keras.callbacks import EarlyStopping\n",
    "es = EarlyStopping(monitor='val_loss',\n",
    "                   mode='min',\n",
    "                   patience=50,\n",
    "                   restore_best_weights = True)"
   ]
  },
  {
   "cell_type": "code",
   "execution_count": 21,
   "metadata": {
    "colab": {
     "base_uri": "https://localhost:8080/",
     "height": 1000
    },
    "colab_type": "code",
    "id": "c_vV-tiiA5zn",
    "outputId": "4a2b6ee6-ed75-4698-9069-b250e613803f",
    "ExecuteTime": {
     "end_time": "2024-08-16T06:21:37.952422200Z",
     "start_time": "2024-08-16T05:59:32.305960Z"
    }
   },
   "outputs": [
    {
     "name": "stdout",
     "output_type": "stream",
     "text": [
      "Epoch 1/500\n",
      "1434/1434 [==============================] - 12s 8ms/step - loss: 4957628.0000 - mae: 755.0517 - val_loss: 2398403.2500 - val_mae: 415.6246\n",
      "Epoch 2/500\n",
      "1434/1434 [==============================] - 12s 9ms/step - loss: 2191609.2500 - mae: 446.5573 - val_loss: 2403832.7500 - val_mae: 468.8607\n",
      "Epoch 3/500\n",
      "1434/1434 [==============================] - 11s 8ms/step - loss: 1913949.2500 - mae: 401.8634 - val_loss: 1194807.5000 - val_mae: 280.8901\n",
      "Epoch 4/500\n",
      "1434/1434 [==============================] - 10s 7ms/step - loss: 1650616.2500 - mae: 348.1705 - val_loss: 1046779.5000 - val_mae: 258.4010\n",
      "Epoch 5/500\n",
      "1434/1434 [==============================] - 10s 7ms/step - loss: 2142103.0000 - mae: 418.6005 - val_loss: 1388009.7500 - val_mae: 353.0877\n",
      "Epoch 6/500\n",
      "1434/1434 [==============================] - 10s 7ms/step - loss: 1526986.0000 - mae: 360.9298 - val_loss: 1082025.6250 - val_mae: 271.7193\n",
      "Epoch 7/500\n",
      "1434/1434 [==============================] - 9s 7ms/step - loss: 1410818.1250 - mae: 336.7309 - val_loss: 1819025.7500 - val_mae: 434.6665\n",
      "Epoch 8/500\n",
      "1434/1434 [==============================] - 9s 7ms/step - loss: 1616844.1250 - mae: 355.8855 - val_loss: 762911.5000 - val_mae: 228.1693\n",
      "Epoch 9/500\n",
      "1434/1434 [==============================] - 10s 7ms/step - loss: 1228729.0000 - mae: 297.6185 - val_loss: 1840585.8750 - val_mae: 425.2118\n",
      "Epoch 10/500\n",
      "1434/1434 [==============================] - 9s 7ms/step - loss: 1407132.0000 - mae: 317.9832 - val_loss: 2247710.0000 - val_mae: 425.2303\n",
      "Epoch 11/500\n",
      "1434/1434 [==============================] - 9s 6ms/step - loss: 1290209.2500 - mae: 308.9998 - val_loss: 1985311.6250 - val_mae: 438.4586\n",
      "Epoch 12/500\n",
      "1434/1434 [==============================] - 9s 6ms/step - loss: 1265821.6250 - mae: 301.1151 - val_loss: 787542.1250 - val_mae: 202.5740\n",
      "Epoch 13/500\n",
      "1434/1434 [==============================] - 9s 7ms/step - loss: 1277309.5000 - mae: 285.6015 - val_loss: 779844.4375 - val_mae: 230.7702\n",
      "Epoch 14/500\n",
      "1434/1434 [==============================] - 9s 6ms/step - loss: 1225485.0000 - mae: 288.9359 - val_loss: 1332004.2500 - val_mae: 302.2679\n",
      "Epoch 15/500\n",
      "1434/1434 [==============================] - 9s 6ms/step - loss: 1214344.7500 - mae: 289.1377 - val_loss: 835485.1875 - val_mae: 219.5231\n",
      "Epoch 16/500\n",
      "1434/1434 [==============================] - 9s 7ms/step - loss: 1091527.1250 - mae: 264.9589 - val_loss: 1121680.1250 - val_mae: 239.3072\n",
      "Epoch 17/500\n",
      "1434/1434 [==============================] - 9s 6ms/step - loss: 1200468.2500 - mae: 284.8238 - val_loss: 876641.1250 - val_mae: 215.6348\n",
      "Epoch 18/500\n",
      "1434/1434 [==============================] - 9s 6ms/step - loss: 1001589.0000 - mae: 245.7261 - val_loss: 928995.3750 - val_mae: 329.1607\n",
      "Epoch 19/500\n",
      "1434/1434 [==============================] - 9s 6ms/step - loss: 1079324.7500 - mae: 254.8528 - val_loss: 754372.8125 - val_mae: 167.1459\n",
      "Epoch 20/500\n",
      "1434/1434 [==============================] - 9s 7ms/step - loss: 1064923.5000 - mae: 257.3421 - val_loss: 934746.3125 - val_mae: 247.6702\n",
      "Epoch 21/500\n",
      "1434/1434 [==============================] - 9s 7ms/step - loss: 1094463.3750 - mae: 254.7614 - val_loss: 1096058.8750 - val_mae: 293.4980\n",
      "Epoch 22/500\n",
      "1434/1434 [==============================] - 9s 7ms/step - loss: 1066077.8750 - mae: 251.2319 - val_loss: 777420.3125 - val_mae: 207.6601\n",
      "Epoch 23/500\n",
      "1434/1434 [==============================] - 9s 6ms/step - loss: 1075200.6250 - mae: 248.1518 - val_loss: 666256.3125 - val_mae: 205.0234\n",
      "Epoch 24/500\n",
      "1434/1434 [==============================] - 9s 7ms/step - loss: 984167.3750 - mae: 242.2388 - val_loss: 712753.0000 - val_mae: 187.7677\n",
      "Epoch 25/500\n",
      "1434/1434 [==============================] - 10s 7ms/step - loss: 1002443.7500 - mae: 231.7362 - val_loss: 735783.6250 - val_mae: 179.4648\n",
      "Epoch 26/500\n",
      "1434/1434 [==============================] - 9s 7ms/step - loss: 966633.2500 - mae: 230.5800 - val_loss: 4018508.7500 - val_mae: 581.3875\n",
      "Epoch 27/500\n",
      "1434/1434 [==============================] - 9s 7ms/step - loss: 1047752.8125 - mae: 233.5670 - val_loss: 918901.4375 - val_mae: 191.1934\n",
      "Epoch 28/500\n",
      "1434/1434 [==============================] - 9s 7ms/step - loss: 1053583.8750 - mae: 251.8048 - val_loss: 1047673.0625 - val_mae: 273.2058\n",
      "Epoch 29/500\n",
      "1434/1434 [==============================] - 10s 7ms/step - loss: 1014590.8125 - mae: 235.4227 - val_loss: 691755.8750 - val_mae: 192.9068\n",
      "Epoch 30/500\n",
      "1434/1434 [==============================] - 9s 7ms/step - loss: 1010826.2500 - mae: 236.0871 - val_loss: 1040793.9375 - val_mae: 226.3830\n",
      "Epoch 31/500\n",
      "1434/1434 [==============================] - 9s 7ms/step - loss: 948233.2500 - mae: 227.7651 - val_loss: 1459988.8750 - val_mae: 285.3204\n",
      "Epoch 32/500\n",
      "1434/1434 [==============================] - 9s 7ms/step - loss: 934814.8750 - mae: 226.4420 - val_loss: 736101.5625 - val_mae: 175.8103\n",
      "Epoch 33/500\n",
      "1434/1434 [==============================] - 9s 7ms/step - loss: 924160.6875 - mae: 224.3622 - val_loss: 627491.6250 - val_mae: 174.4942\n",
      "Epoch 34/500\n",
      "1434/1434 [==============================] - 10s 7ms/step - loss: 1029217.1875 - mae: 236.2132 - val_loss: 971939.0000 - val_mae: 265.9870\n",
      "Epoch 35/500\n",
      "1434/1434 [==============================] - 10s 7ms/step - loss: 1003312.3125 - mae: 239.0974 - val_loss: 645097.3750 - val_mae: 167.5694\n",
      "Epoch 36/500\n",
      "1434/1434 [==============================] - 10s 7ms/step - loss: 943541.5000 - mae: 231.8376 - val_loss: 2385659.2500 - val_mae: 362.5822\n",
      "Epoch 37/500\n",
      "1434/1434 [==============================] - 10s 7ms/step - loss: 989944.6250 - mae: 234.0981 - val_loss: 630515.5625 - val_mae: 167.3665\n",
      "Epoch 38/500\n",
      "1434/1434 [==============================] - 10s 7ms/step - loss: 867298.1250 - mae: 214.4456 - val_loss: 472887.6562 - val_mae: 150.9159\n",
      "Epoch 39/500\n",
      "1434/1434 [==============================] - 10s 7ms/step - loss: 908124.1250 - mae: 228.9362 - val_loss: 779671.6250 - val_mae: 243.2926\n",
      "Epoch 40/500\n",
      "1434/1434 [==============================] - 10s 7ms/step - loss: 926014.5625 - mae: 231.1362 - val_loss: 565612.2500 - val_mae: 179.0645\n",
      "Epoch 41/500\n",
      "1434/1434 [==============================] - 10s 7ms/step - loss: 955140.1875 - mae: 223.8475 - val_loss: 647780.5000 - val_mae: 192.4404\n",
      "Epoch 42/500\n",
      "1434/1434 [==============================] - 10s 7ms/step - loss: 922807.7500 - mae: 228.6838 - val_loss: 958650.8750 - val_mae: 246.2429\n",
      "Epoch 43/500\n",
      "1434/1434 [==============================] - 10s 7ms/step - loss: 920022.6250 - mae: 218.1931 - val_loss: 655769.7500 - val_mae: 153.7147\n",
      "Epoch 44/500\n",
      "1434/1434 [==============================] - 10s 7ms/step - loss: 949740.6250 - mae: 222.2276 - val_loss: 1420908.2500 - val_mae: 247.2332\n",
      "Epoch 45/500\n",
      "1434/1434 [==============================] - 10s 7ms/step - loss: 869033.3125 - mae: 214.9834 - val_loss: 1710574.7500 - val_mae: 346.3981\n",
      "Epoch 46/500\n",
      "1434/1434 [==============================] - 10s 7ms/step - loss: 852815.6875 - mae: 206.4026 - val_loss: 821634.7500 - val_mae: 182.2539\n",
      "Epoch 47/500\n",
      "1434/1434 [==============================] - 10s 7ms/step - loss: 953111.8750 - mae: 221.9388 - val_loss: 742399.8750 - val_mae: 161.6879\n",
      "Epoch 48/500\n",
      "1434/1434 [==============================] - 10s 7ms/step - loss: 834905.8750 - mae: 206.1857 - val_loss: 2922650.2500 - val_mae: 434.1057\n",
      "Epoch 49/500\n",
      "1434/1434 [==============================] - 10s 7ms/step - loss: 887125.6875 - mae: 217.9483 - val_loss: 991759.5000 - val_mae: 171.5305\n",
      "Epoch 50/500\n",
      "1434/1434 [==============================] - 10s 7ms/step - loss: 811964.8750 - mae: 199.7675 - val_loss: 902586.0625 - val_mae: 352.9762\n",
      "Epoch 51/500\n",
      "1434/1434 [==============================] - 10s 7ms/step - loss: 843360.3750 - mae: 218.2335 - val_loss: 1571157.7500 - val_mae: 276.1837\n",
      "Epoch 52/500\n",
      "1434/1434 [==============================] - 10s 7ms/step - loss: 813801.5000 - mae: 207.8927 - val_loss: 747708.2500 - val_mae: 218.9133\n",
      "Epoch 53/500\n",
      "1434/1434 [==============================] - 10s 7ms/step - loss: 777529.3125 - mae: 204.4234 - val_loss: 456018.7500 - val_mae: 150.7967\n",
      "Epoch 54/500\n",
      "1434/1434 [==============================] - 10s 7ms/step - loss: 887397.4375 - mae: 217.1514 - val_loss: 938435.2500 - val_mae: 229.2863\n",
      "Epoch 55/500\n",
      "1434/1434 [==============================] - 10s 7ms/step - loss: 798108.6250 - mae: 198.7675 - val_loss: 657420.9375 - val_mae: 169.1785\n",
      "Epoch 56/500\n",
      "1434/1434 [==============================] - 10s 7ms/step - loss: 853535.4375 - mae: 206.9039 - val_loss: 486937.8750 - val_mae: 152.3920\n",
      "Epoch 57/500\n",
      "1434/1434 [==============================] - 10s 7ms/step - loss: 909871.8750 - mae: 214.0677 - val_loss: 1094340.5000 - val_mae: 192.2739\n",
      "Epoch 58/500\n",
      "1434/1434 [==============================] - 10s 7ms/step - loss: 797503.7500 - mae: 197.0028 - val_loss: 668090.8750 - val_mae: 189.0361\n",
      "Epoch 59/500\n",
      "1434/1434 [==============================] - 10s 7ms/step - loss: 820117.0000 - mae: 206.8274 - val_loss: 750831.0625 - val_mae: 258.1382\n",
      "Epoch 60/500\n",
      "1434/1434 [==============================] - 10s 7ms/step - loss: 817716.1250 - mae: 206.1729 - val_loss: 569916.6875 - val_mae: 149.2881\n",
      "Epoch 61/500\n",
      "1434/1434 [==============================] - 10s 7ms/step - loss: 850148.8125 - mae: 208.0753 - val_loss: 501591.2188 - val_mae: 149.6525\n",
      "Epoch 62/500\n",
      "1434/1434 [==============================] - 10s 7ms/step - loss: 812897.3125 - mae: 203.2086 - val_loss: 906205.8125 - val_mae: 276.4822\n",
      "Epoch 63/500\n",
      "1434/1434 [==============================] - 10s 7ms/step - loss: 836289.2500 - mae: 204.4265 - val_loss: 699050.4375 - val_mae: 171.1334\n",
      "Epoch 64/500\n",
      "1434/1434 [==============================] - 10s 7ms/step - loss: 759992.7500 - mae: 191.1628 - val_loss: 549171.1875 - val_mae: 149.5702\n",
      "Epoch 65/500\n",
      "1434/1434 [==============================] - 10s 7ms/step - loss: 840378.1875 - mae: 202.1030 - val_loss: 1358875.7500 - val_mae: 378.8560\n",
      "Epoch 66/500\n",
      "1434/1434 [==============================] - 10s 7ms/step - loss: 792233.6250 - mae: 199.1972 - val_loss: 540030.0625 - val_mae: 139.8752\n",
      "Epoch 67/500\n",
      "1434/1434 [==============================] - 10s 7ms/step - loss: 891755.1875 - mae: 208.0601 - val_loss: 6032378.0000 - val_mae: 600.3301\n",
      "Epoch 68/500\n",
      "1434/1434 [==============================] - 10s 7ms/step - loss: 885554.8125 - mae: 210.6280 - val_loss: 480580.8125 - val_mae: 141.9351\n",
      "Epoch 69/500\n",
      "1434/1434 [==============================] - 10s 7ms/step - loss: 834581.3125 - mae: 199.8302 - val_loss: 522378.8750 - val_mae: 165.9145\n",
      "Epoch 70/500\n",
      "1434/1434 [==============================] - 10s 7ms/step - loss: 784357.7500 - mae: 198.1473 - val_loss: 759277.8125 - val_mae: 183.3486\n",
      "Epoch 71/500\n",
      "1434/1434 [==============================] - 10s 7ms/step - loss: 760989.5000 - mae: 191.7930 - val_loss: 1015545.3750 - val_mae: 280.0107\n",
      "Epoch 72/500\n",
      "1434/1434 [==============================] - 10s 7ms/step - loss: 807897.6250 - mae: 201.3370 - val_loss: 570053.1875 - val_mae: 133.4573\n",
      "Epoch 73/500\n",
      "1434/1434 [==============================] - 10s 7ms/step - loss: 817424.0000 - mae: 202.7111 - val_loss: 804150.1875 - val_mae: 216.0302\n",
      "Epoch 74/500\n",
      "1434/1434 [==============================] - 10s 7ms/step - loss: 782140.6250 - mae: 192.0613 - val_loss: 1307096.5000 - val_mae: 280.2118\n",
      "Epoch 75/500\n",
      "1434/1434 [==============================] - 10s 7ms/step - loss: 849818.2500 - mae: 222.4318 - val_loss: 723218.2500 - val_mae: 193.2440\n",
      "Epoch 76/500\n",
      "1434/1434 [==============================] - 10s 7ms/step - loss: 747058.1250 - mae: 187.6752 - val_loss: 1129790.3750 - val_mae: 240.0848\n",
      "Epoch 77/500\n",
      "1434/1434 [==============================] - 10s 7ms/step - loss: 860490.5000 - mae: 211.3433 - val_loss: 532816.7500 - val_mae: 223.4424\n",
      "Epoch 78/500\n",
      "1434/1434 [==============================] - 10s 7ms/step - loss: 749043.6875 - mae: 187.0968 - val_loss: 416926.6562 - val_mae: 141.0432\n",
      "Epoch 79/500\n",
      "1434/1434 [==============================] - 10s 7ms/step - loss: 731250.3750 - mae: 180.6288 - val_loss: 484308.1562 - val_mae: 137.4637\n",
      "Epoch 80/500\n",
      "1434/1434 [==============================] - 10s 7ms/step - loss: 731303.1250 - mae: 185.7541 - val_loss: 610351.3750 - val_mae: 201.4049\n",
      "Epoch 81/500\n",
      "1434/1434 [==============================] - 10s 7ms/step - loss: 805940.0000 - mae: 204.6010 - val_loss: 1516083.2500 - val_mae: 297.8843\n",
      "Epoch 82/500\n",
      "1434/1434 [==============================] - 10s 7ms/step - loss: 812207.9375 - mae: 205.6453 - val_loss: 1375272.5000 - val_mae: 279.5429\n",
      "Epoch 83/500\n",
      "1434/1434 [==============================] - 11s 7ms/step - loss: 736230.7500 - mae: 185.4369 - val_loss: 410615.2188 - val_mae: 128.6046\n",
      "Epoch 84/500\n",
      "1434/1434 [==============================] - 10s 7ms/step - loss: 709453.0625 - mae: 184.8283 - val_loss: 590178.5000 - val_mae: 131.5286\n",
      "Epoch 85/500\n",
      "1434/1434 [==============================] - 10s 7ms/step - loss: 807385.5000 - mae: 190.8192 - val_loss: 766430.4375 - val_mae: 184.6476\n",
      "Epoch 86/500\n",
      "1434/1434 [==============================] - 10s 7ms/step - loss: 815857.8750 - mae: 187.2441 - val_loss: 656485.3750 - val_mae: 186.4296\n",
      "Epoch 87/500\n",
      "1434/1434 [==============================] - 10s 7ms/step - loss: 732147.1250 - mae: 183.7694 - val_loss: 749920.8125 - val_mae: 208.5809\n",
      "Epoch 88/500\n",
      "1434/1434 [==============================] - 10s 7ms/step - loss: 763741.3125 - mae: 193.3352 - val_loss: 511165.6250 - val_mae: 132.1464\n",
      "Epoch 89/500\n",
      "1434/1434 [==============================] - 10s 7ms/step - loss: 661964.3750 - mae: 179.1526 - val_loss: 429902.4375 - val_mae: 128.9556\n",
      "Epoch 90/500\n",
      "1434/1434 [==============================] - 10s 7ms/step - loss: 862589.6875 - mae: 206.6074 - val_loss: 697207.1875 - val_mae: 212.2840\n",
      "Epoch 91/500\n",
      "1434/1434 [==============================] - 10s 7ms/step - loss: 746247.8125 - mae: 193.4285 - val_loss: 529071.9375 - val_mae: 151.1260\n",
      "Epoch 92/500\n",
      "1434/1434 [==============================] - 10s 7ms/step - loss: 731491.3125 - mae: 190.1887 - val_loss: 470545.2500 - val_mae: 136.8635\n",
      "Epoch 93/500\n",
      "1434/1434 [==============================] - 10s 7ms/step - loss: 848146.5000 - mae: 211.4541 - val_loss: 584110.1250 - val_mae: 173.3672\n",
      "Epoch 94/500\n",
      "1434/1434 [==============================] - 10s 7ms/step - loss: 797691.8750 - mae: 196.6645 - val_loss: 547378.4375 - val_mae: 153.7988\n",
      "Epoch 95/500\n",
      "1434/1434 [==============================] - 10s 7ms/step - loss: 924830.9375 - mae: 202.1994 - val_loss: 668885.6250 - val_mae: 171.6736\n",
      "Epoch 96/500\n",
      "1434/1434 [==============================] - 10s 7ms/step - loss: 733439.3750 - mae: 183.3753 - val_loss: 520832.4062 - val_mae: 158.2402\n",
      "Epoch 97/500\n",
      "1434/1434 [==============================] - 10s 7ms/step - loss: 701541.0000 - mae: 194.9096 - val_loss: 571327.9375 - val_mae: 138.9637\n",
      "Epoch 98/500\n",
      "1434/1434 [==============================] - 10s 7ms/step - loss: 787862.3750 - mae: 191.1965 - val_loss: 576540.9375 - val_mae: 171.5877\n",
      "Epoch 99/500\n",
      "1434/1434 [==============================] - 10s 7ms/step - loss: 750714.8750 - mae: 189.2526 - val_loss: 482327.2188 - val_mae: 160.1156\n",
      "Epoch 100/500\n",
      "1434/1434 [==============================] - 10s 7ms/step - loss: 712534.7500 - mae: 180.2566 - val_loss: 546648.8125 - val_mae: 163.9475\n",
      "Epoch 101/500\n",
      "1434/1434 [==============================] - 10s 7ms/step - loss: 709856.3750 - mae: 192.6676 - val_loss: 546041.3125 - val_mae: 139.2210\n",
      "Epoch 102/500\n",
      "1434/1434 [==============================] - 10s 7ms/step - loss: 742872.1875 - mae: 190.4170 - val_loss: 503757.3438 - val_mae: 144.3194\n",
      "Epoch 103/500\n",
      "1434/1434 [==============================] - 10s 7ms/step - loss: 714796.6250 - mae: 193.2404 - val_loss: 627894.5625 - val_mae: 177.7380\n",
      "Epoch 104/500\n",
      "1434/1434 [==============================] - 10s 7ms/step - loss: 723823.8750 - mae: 181.0367 - val_loss: 803336.4375 - val_mae: 235.5668\n",
      "Epoch 105/500\n",
      "1434/1434 [==============================] - 10s 7ms/step - loss: 692036.6250 - mae: 180.0830 - val_loss: 980551.6875 - val_mae: 264.8144\n",
      "Epoch 106/500\n",
      "1434/1434 [==============================] - 10s 7ms/step - loss: 746916.3750 - mae: 193.5990 - val_loss: 494010.8125 - val_mae: 159.5206\n",
      "Epoch 107/500\n",
      "1434/1434 [==============================] - 10s 7ms/step - loss: 743554.6875 - mae: 187.8430 - val_loss: 645929.9375 - val_mae: 172.8343\n",
      "Epoch 108/500\n",
      "1434/1434 [==============================] - 10s 7ms/step - loss: 720247.5625 - mae: 188.6600 - val_loss: 1490417.2500 - val_mae: 313.3238\n",
      "Epoch 109/500\n",
      "1434/1434 [==============================] - 10s 7ms/step - loss: 763127.1875 - mae: 197.3235 - val_loss: 822792.5000 - val_mae: 211.1165\n",
      "Epoch 110/500\n",
      "1434/1434 [==============================] - 10s 7ms/step - loss: 701814.2500 - mae: 192.1594 - val_loss: 2718769.5000 - val_mae: 357.2503\n",
      "Epoch 111/500\n",
      "1434/1434 [==============================] - 10s 7ms/step - loss: 728329.9375 - mae: 188.6655 - val_loss: 568971.5000 - val_mae: 167.4939\n",
      "Epoch 112/500\n",
      "1434/1434 [==============================] - 10s 7ms/step - loss: 710881.0625 - mae: 183.0691 - val_loss: 526927.2500 - val_mae: 149.1758\n",
      "Epoch 113/500\n",
      "1434/1434 [==============================] - 10s 7ms/step - loss: 701243.6875 - mae: 179.6031 - val_loss: 445838.7188 - val_mae: 138.3765\n",
      "Epoch 114/500\n",
      "1434/1434 [==============================] - 10s 7ms/step - loss: 748903.6875 - mae: 192.9547 - val_loss: 2252053.5000 - val_mae: 382.3798\n",
      "Epoch 115/500\n",
      "1434/1434 [==============================] - 10s 7ms/step - loss: 814447.4375 - mae: 200.8898 - val_loss: 1109684.6250 - val_mae: 221.1246\n",
      "Epoch 116/500\n",
      "1434/1434 [==============================] - 10s 7ms/step - loss: 754464.7500 - mae: 195.8051 - val_loss: 464587.3750 - val_mae: 136.2128\n",
      "Epoch 117/500\n",
      "1434/1434 [==============================] - 10s 7ms/step - loss: 703582.5625 - mae: 181.0831 - val_loss: 415677.8438 - val_mae: 140.5376\n",
      "Epoch 118/500\n",
      "1434/1434 [==============================] - 10s 7ms/step - loss: 772594.6875 - mae: 196.1388 - val_loss: 818035.4375 - val_mae: 223.1240\n",
      "Epoch 119/500\n",
      "1434/1434 [==============================] - 10s 7ms/step - loss: 718635.9375 - mae: 185.8086 - val_loss: 550824.1250 - val_mae: 182.2396\n",
      "Epoch 120/500\n",
      "1434/1434 [==============================] - 10s 7ms/step - loss: 695503.9375 - mae: 181.2784 - val_loss: 667626.0625 - val_mae: 162.1752\n",
      "Epoch 121/500\n",
      "1434/1434 [==============================] - 10s 7ms/step - loss: 684689.6875 - mae: 179.3348 - val_loss: 508945.6250 - val_mae: 195.3708\n",
      "Epoch 122/500\n",
      "1434/1434 [==============================] - 10s 7ms/step - loss: 642722.3750 - mae: 175.3251 - val_loss: 542382.5000 - val_mae: 194.0213\n",
      "Epoch 123/500\n",
      "1434/1434 [==============================] - 10s 7ms/step - loss: 732249.1875 - mae: 192.3512 - val_loss: 456042.7500 - val_mae: 142.3890\n",
      "Epoch 124/500\n",
      "1434/1434 [==============================] - 10s 7ms/step - loss: 673829.2500 - mae: 169.7226 - val_loss: 608426.7500 - val_mae: 141.5957\n",
      "Epoch 125/500\n",
      "1434/1434 [==============================] - 10s 7ms/step - loss: 693023.9375 - mae: 188.5704 - val_loss: 1372379.6250 - val_mae: 313.2096\n",
      "Epoch 126/500\n",
      "1434/1434 [==============================] - 10s 7ms/step - loss: 826271.8125 - mae: 212.3666 - val_loss: 1283224.0000 - val_mae: 252.9400\n",
      "Epoch 127/500\n",
      "1434/1434 [==============================] - 10s 7ms/step - loss: 711087.0625 - mae: 184.7676 - val_loss: 578399.6250 - val_mae: 184.7894\n",
      "Epoch 128/500\n",
      "1434/1434 [==============================] - 10s 7ms/step - loss: 756669.0625 - mae: 190.1682 - val_loss: 567650.2500 - val_mae: 149.1961\n",
      "Epoch 129/500\n",
      "1434/1434 [==============================] - 10s 7ms/step - loss: 652606.9375 - mae: 184.5583 - val_loss: 552652.4375 - val_mae: 176.0813\n",
      "Epoch 130/500\n",
      "1434/1434 [==============================] - 10s 7ms/step - loss: 740523.9375 - mae: 186.3496 - val_loss: 502109.5312 - val_mae: 134.0282\n",
      "Epoch 131/500\n",
      "1434/1434 [==============================] - 10s 7ms/step - loss: 788376.6250 - mae: 190.8240 - val_loss: 736029.5000 - val_mae: 168.2678\n",
      "Epoch 132/500\n",
      "1434/1434 [==============================] - 10s 7ms/step - loss: 653848.6875 - mae: 177.0959 - val_loss: 489772.0312 - val_mae: 145.7247\n",
      "Epoch 133/500\n",
      "1434/1434 [==============================] - 10s 7ms/step - loss: 735836.6875 - mae: 191.8903 - val_loss: 460053.4688 - val_mae: 140.7830\n"
     ]
    }
   ],
   "source": [
    "history = ann.fit(X_train, y_train,\n",
    "                    validation_data = (X_val, y_val),\n",
    "                    callbacks=[es],\n",
    "                    epochs=500,\n",
    "                    batch_size=30,\n",
    "                    verbose=1)"
   ]
  },
  {
   "cell_type": "code",
   "execution_count": 22,
   "metadata": {
    "ExecuteTime": {
     "end_time": "2024-08-16T06:21:38.472433Z",
     "start_time": "2024-08-16T06:21:37.947419900Z"
    }
   },
   "outputs": [
    {
     "data": {
      "text/plain": "<Figure size 600x600 with 1 Axes>",
      "image/png": "[encoded data removed]"
     },
     "metadata": {},
     "output_type": "display_data"
    }
   ],
   "source": [
    "# let's see the training and validation accuracy by epoch\n",
    "history_dict = history.history\n",
    "loss_values = history_dict['loss'] # you can change this\n",
    "val_loss_values = history_dict['val_loss'] # you can also change this\n",
    "epochs = range(1, len(loss_values) + 1) # range of X (no. of epochs)\n",
    "\n",
    "# Set global font to Times New Roman and font size\n",
    "plt.rcParams['font.family'] = 'serif'\n",
    "plt.rcParams['font.serif'] = ['Times New Roman']\n",
    "plt.rcParams['font.size'] = 20\n",
    "\n",
    "# Create a plot\n",
    "plt.figure(figsize=(6, 6))\n",
    "plt.plot(epochs, loss_values, 'blue', label='Train set')\n",
    "plt.plot(epochs, val_loss_values, 'orange', label='Validation set')\n",
    "#plt.title('Training and testing loss')\n",
    "\n",
    "\n",
    "plt.xlabel('Epochs')\n",
    "plt.ylabel('Loss (MSE)')\n",
    "plt.legend()\n",
    "plt.savefig('Section2_ANN5_2.png', dpi=200, bbox_inches='tight')\n",
    "plt.show()"
   ]
  },
  {
   "cell_type": "code",
   "execution_count": 23,
   "metadata": {
    "ExecuteTime": {
     "end_time": "2024-08-16T06:21:39.032434600Z",
     "start_time": "2024-08-16T06:21:38.476433600Z"
    }
   },
   "outputs": [
    {
     "data": {
      "text/plain": "<Figure size 600x600 with 1 Axes>",
      "image/png": "[encoded data removed]"
     },
     "metadata": {},
     "output_type": "display_data"
    }
   ],
   "source": [
    "loss_values1 = history_dict['mae'] # you can change this\n",
    "val_loss_values1 = history_dict['val_mae'] # you can also change this\n",
    "epochs = range(1, len(loss_values1) + 1) # range of X (no. of epochs)\n",
    "# Create a plot\n",
    "plt.figure(figsize=(6, 6))\n",
    "plt.plot(epochs, loss_values1, 'blue', label='Train set')\n",
    "plt.plot(epochs, val_loss_values1, 'orange', label='Validation set')\n",
    "#plt.title('Training and testing MAE')\n",
    "plt.xlabel('Epochs')\n",
    "plt.ylabel('MAE (kPa)')\n",
    "plt.legend()\n",
    "plt.savefig('Section2_ANN5_3.png', dpi=200, bbox_inches='tight')\n",
    "plt.show()"
   ]
  },
  {
   "cell_type": "code",
   "execution_count": 24,
   "metadata": {
    "ExecuteTime": {
     "end_time": "2024-08-16T06:21:41.696463200Z",
     "start_time": "2024-08-16T06:21:39.026432800Z"
    }
   },
   "outputs": [
    {
     "name": "stdout",
     "output_type": "stream",
     "text": [
      "INFO:tensorflow:Assets written to: Section2_new_ANN_5\\assets\n"
     ]
    }
   ],
   "source": [
    "ann.save('Section2_new_ANN_5')\n",
    "import pickle\n",
    "pickle.dump(sc, open('Section2_new_scaler_ANN_5.pkl', 'wb'))"
   ]
  },
  {
   "cell_type": "markdown",
   "metadata": {},
   "source": [
    "## Part 5 - Make predictions"
   ]
  },
  {
   "cell_type": "code",
   "execution_count": 25,
   "metadata": {
    "ExecuteTime": {
     "end_time": "2024-08-16T06:21:49.018545300Z",
     "start_time": "2024-08-16T06:21:41.704463700Z"
    }
   },
   "outputs": [
    {
     "name": "stdout",
     "output_type": "stream",
     "text": [
      "1345/1345 [==============================] - 4s 3ms/step\n",
      "449/449 [==============================] - 1s 3ms/step\n"
     ]
    },
    {
     "data": {
      "text/plain": "<Figure size 640x480 with 2 Axes>",
      "image/png": "[encoded data removed]"
     },
     "metadata": {},
     "output_type": "display_data"
    }
   ],
   "source": [
    "# scatterplot of actual vs. pred\n",
    "# specify the dimensions \n",
    "fig, axes = plt.subplots(1,2) # 1 row, 2 columns\n",
    "\n",
    "# this makes the individual subplots\n",
    "# Training Results\n",
    "axes[0].scatter(x=y_train, y=ann.predict(X_train)) #first row, first entry (left top)\n",
    "axes[0].set_xlabel(\"Actual\", fontsize=20)\n",
    "axes[0].set_ylabel(\"Predicted\",  fontsize=20)\n",
    "axes[0].set_title(\"Training\")\n",
    "# add 45 deg line\n",
    "x = np.linspace(*axes[0].get_xlim())\n",
    "axes[0].plot(x, x, color='red')\n",
    "# Validation Results\n",
    "axes[1].scatter(x=y_val, y=ann.predict(X_val)) # first row, second entry (right top)\n",
    "axes[1].set_xlabel(\"Actual\", fontsize=20)\n",
    "axes[1].set_ylabel(\"Predicted\",  fontsize=20)\n",
    "axes[1].set_title(\"Validation\")\n",
    "# add 45 deg line\n",
    "x = np.linspace(*axes[1].get_xlim())\n",
    "axes[1].plot(x, x, color='red')\n",
    "\n",
    "# tight layout\n",
    "fig.tight_layout()\n",
    "\n",
    "plt.savefig('Section2_ANN5_1.png', dpi=200, bbox_inches='tight')\n",
    "# show the plot\n",
    "plt.show()"
   ]
  },
  {
   "cell_type": "code",
   "execution_count": 26,
   "metadata": {
    "colab": {
     "base_uri": "https://localhost:8080/",
     "height": 134
    },
    "colab_type": "code",
    "id": "IA0yApEmBG1X",
    "outputId": "cb981e1f-9204-4a2a-fece-9d66a6919189",
    "ExecuteTime": {
     "end_time": "2024-08-16T06:21:50.503555600Z",
     "start_time": "2024-08-16T06:21:49.021541600Z"
    }
   },
   "outputs": [
    {
     "name": "stdout",
     "output_type": "stream",
     "text": [
      "449/449 [==============================] - 1s 3ms/step\n",
      "[[ 9.41e+02  9.34e+02]\n",
      " [ 4.17e+01  6.17e+00]\n",
      " [-4.04e+00  4.27e+00]\n",
      " ...\n",
      " [ 3.01e+02  2.99e+02]\n",
      " [ 4.85e+03  4.94e+03]\n",
      " [ 6.69e+03  6.31e+03]]\n"
     ]
    }
   ],
   "source": [
    "y_pred = ann.predict(X_test)\n",
    "np.set_printoptions(precision=2)\n",
    "print(np.concatenate((y_pred.reshape(len(y_pred),1), y_test.reshape(len(y_test),1)),1))"
   ]
  },
  {
   "cell_type": "code",
   "execution_count": 27,
   "metadata": {
    "ExecuteTime": {
     "end_time": "2024-08-16T06:21:50.735559500Z",
     "start_time": "2024-08-16T06:21:50.504555100Z"
    }
   },
   "outputs": [
    {
     "data": {
      "text/plain": "Text(0, 0.5, 'Predicted data')"
     },
     "execution_count": 27,
     "metadata": {},
     "output_type": "execute_result"
    },
    {
     "data": {
      "text/plain": "<Figure size 640x480 with 1 Axes>",
      "image/png": "[encoded data removed]"
     },
     "metadata": {},
     "output_type": "display_data"
    }
   ],
   "source": [
    "import matplotlib.pyplot as plt\n",
    "plt.scatter(y_test, y_pred, color=\"blue\")\n",
    "plt.xlabel ('Actual data')\n",
    "plt.ylabel ('Predicted data')"
   ]
  },
  {
   "cell_type": "code",
   "execution_count": 28,
   "metadata": {
    "ExecuteTime": {
     "end_time": "2024-08-16T06:21:51.476567800Z",
     "start_time": "2024-08-16T06:21:50.733559300Z"
    }
   },
   "outputs": [
    {
     "data": {
      "text/plain": "<Figure size 600x600 with 1 Axes>",
      "image/png": "[encoded data removed]"
     },
     "metadata": {},
     "output_type": "display_data"
    }
   ],
   "source": [
    "from sklearn.metrics import r2_score\n",
    "# Initialize layout\n",
    "fig1, ax1 = plt.subplots(figsize = (6, 6))\n",
    "\n",
    "# Set global font to Times New Roman and font size\n",
    "plt.rcParams['font.family'] = 'serif'\n",
    "plt.rcParams['font.serif'] = ['Times New Roman']\n",
    "plt.rcParams['font.size'] = 20\n",
    "\n",
    "b_l = -2000\n",
    "u_l = 65000\n",
    "\n",
    "# Add scatterplot\n",
    "ax1.scatter(y_test, y_pred, s=70, alpha=1, edgecolors=\"k\",c='mediumblue',zorder=5, label = 'Points')\n",
    "\n",
    "\n",
    "plt.ylabel('Predicted Reflected Overpressure (kPa)')\n",
    "plt.xlabel('Target Reflected Overpressure (kPa)')\n",
    "plt.xticks(fontsize = 19)\n",
    "plt.yticks(fontsize = 19)\n",
    "\n",
    "\n",
    "x1 = np.linspace(b_l, u_l)\n",
    "\n",
    "plt.plot(x1, x1, 'Red', label='45\\N{DEGREE SIGN} line',lw=2.5,alpha=1)\n",
    "#plt.plot(x1, 1.05*x1, '--m', label='\\u00B15% Error',lw=2.5,alpha=0.7)\n",
    "#plt.plot(x1, 0.95*x1,'m', linestyle='--',lw=2.5,alpha=0.7)\n",
    "plt.plot(x1, 1.1*x1, '-.g', label='\\u00B110% Error',lw=2.5,alpha=0.7)\n",
    "plt.plot(x1, 0.9*x1,'-.g',lw=2.5,alpha=0.7)\n",
    "plt.plot(x1, 1.2*x1, color = '#F97306', linestyle='dotted', label='\\u00B120% Error',lw=2.5,alpha=0.7)\n",
    "plt.plot(x1, 0.8*x1,color = '#F97306', linestyle='dotted', lw=2.5,alpha=0.7)\n",
    "\n",
    "plt.ylim(b_l, u_l)\n",
    "plt.xlim(b_l, u_l)\n",
    "plt.legend(loc='upper center', bbox_to_anchor=(0.5, -0.15), ncol=4, frameon = False, fontsize = 20)\n",
    "\n",
    "#plt.grid()\n",
    "\n",
    "ax1.spines['left'].set_color('black')        # setting up Y-axis tick color to red\n",
    "ax1.spines['bottom'].set_color('black')         #setting up above X-axis tick color to red\n",
    "\n",
    "plt.savefig('Section2_ANN5.png', dpi=200, bbox_inches='tight')"
   ]
  },
  {
   "cell_type": "code",
   "execution_count": 29,
   "metadata": {
    "ExecuteTime": {
     "end_time": "2024-08-16T06:21:55.505611500Z",
     "start_time": "2024-08-16T06:21:51.475568Z"
    }
   },
   "outputs": [
    {
     "name": "stdout",
     "output_type": "stream",
     "text": [
      "1345/1345 [==============================] - 4s 3ms/step\n",
      "122.75369299895694\n",
      "119.27739467123818\n"
     ]
    }
   ],
   "source": [
    "# metrics\n",
    "trainpreds = ann.predict(X_train)\n",
    "\n",
    "from sklearn.metrics import mean_absolute_error\n",
    "print(mean_absolute_error(y_train, trainpreds)) # train\n",
    "print(mean_absolute_error(y_test, y_pred)) # test"
   ]
  },
  {
   "cell_type": "code",
   "execution_count": 30,
   "metadata": {
    "ExecuteTime": {
     "end_time": "2024-08-16T06:21:55.549611400Z",
     "start_time": "2024-08-16T06:21:55.508610800Z"
    }
   },
   "outputs": [
    {
     "name": "stdout",
     "output_type": "stream",
     "text": [
      "0.9692027825634967\n"
     ]
    }
   ],
   "source": [
    "from sklearn.metrics import r2_score\n",
    "r2 = r2_score(y_test, y_pred)\n",
    "print (r2)"
   ]
  },
  {
   "cell_type": "code",
   "execution_count": 31,
   "metadata": {
    "ExecuteTime": {
     "end_time": "2024-08-16T06:21:55.709613Z",
     "start_time": "2024-08-16T06:21:55.522612900Z"
    }
   },
   "outputs": [
    {
     "name": "stdout",
     "output_type": "stream",
     "text": [
      "0.9646175108942103\n"
     ]
    }
   ],
   "source": [
    "r2_train = r2_score(y_train, trainpreds)\n",
    "print (r2_train)"
   ]
  },
  {
   "cell_type": "code",
   "execution_count": 32,
   "metadata": {
    "ExecuteTime": {
     "end_time": "2024-08-16T06:21:56.728623800Z",
     "start_time": "2024-08-16T06:21:55.715614500Z"
    }
   },
   "outputs": [
    {
     "name": "stdout",
     "output_type": "stream",
     "text": [
      "Within 5% margin 13.76%\n",
      "Within 10% margin 24.80%\n",
      "Within 20% margin 39.53%\n",
      "Out of 20% margin 60.47%\n"
     ]
    }
   ],
   "source": [
    "count0 = 0\n",
    "for i in range(len(y_pred)):\n",
    "    line1 = y_pred[i] - 0.95*y_test[i]\n",
    "    line2 = y_pred[i] - 1.05*y_test[i]\n",
    "    mask0 = (line1 > 0) & (line2 < 0)\n",
    "    count0 = np.sum(mask0+count0)\n",
    "\n",
    "count1 = 0\n",
    "for i in range(len(y_pred)):\n",
    "    line1 = y_pred[i] - 0.9*y_test[i]\n",
    "    line2 = y_pred[i] - 1.1*y_test[i]\n",
    "    mask1 = (line1 > 0) & (line2 < 0)\n",
    "    count1 = np.sum(mask1+count1)\n",
    "\n",
    "count2 = 0\n",
    "for j in range(len(y_pred)):\n",
    "    line3 = y_pred[j] - 0.8*y_test[j]\n",
    "    line4 = y_pred[j] - 1.2*y_test[j]\n",
    "    mask2 = (line3 > 0) & (line4 < 0)\n",
    "    count2 = np.sum(mask2+count2)\n",
    "\n",
    "\n",
    "count3 = 0    \n",
    "for k in range(len(y_pred)):\n",
    "    line5 = y_pred[k] - 0.8*y_test[k]\n",
    "    line6 = y_pred[k] - 1.2*y_test[k]\n",
    "    mask3 = (line5 < 0) or (line6 > 0)\n",
    "    count3 = np.sum(mask3+count3)\n",
    "   \n",
    "\n",
    "print ('Within 5% margin', format((count0/len (y_pred)),'.2%'))\n",
    "print ('Within 10% margin', format((count1/len (y_pred)),'.2%'))\n",
    "print ('Within 20% margin', format((count2/len (y_pred)),'.2%'))\n",
    "print ('Out of 20% margin', format((count3/len (y_pred)),'.2%'))"
   ]
  },
  {
   "cell_type": "code",
   "execution_count": 33,
   "metadata": {
    "ExecuteTime": {
     "end_time": "2024-08-16T06:21:56.773623300Z",
     "start_time": "2024-08-16T06:21:56.731623900Z"
    }
   },
   "outputs": [
    {
     "name": "stdout",
     "output_type": "stream",
     "text": [
      "0.9691898913046283\n"
     ]
    }
   ],
   "source": [
    "adj_r2 = 1 - ((1 - r2) * (len(X_test) - 1) / (len(X_test) - len (X_test[0]) - 1))\n",
    "print (adj_r2)"
   ]
  },
  {
   "cell_type": "code",
   "execution_count": 34,
   "metadata": {
    "ExecuteTime": {
     "end_time": "2024-08-16T06:21:56.918626300Z",
     "start_time": "2024-08-16T06:21:56.746623900Z"
    }
   },
   "outputs": [
    {
     "data": {
      "text/plain": "562.3790152676842"
     },
     "execution_count": 34,
     "metadata": {},
     "output_type": "execute_result"
    }
   ],
   "source": [
    "import math\n",
    "from sklearn.metrics import mean_squared_error\n",
    "\n",
    "math.sqrt(mean_squared_error(y_test, y_pred))"
   ]
  },
  {
   "cell_type": "code",
   "execution_count": 35,
   "metadata": {
    "ExecuteTime": {
     "end_time": "2024-08-16T06:21:57.060627600Z",
     "start_time": "2024-08-16T06:21:56.920628100Z"
    }
   },
   "outputs": [
    {
     "data": {
      "text/plain": "119.27739467123818"
     },
     "execution_count": 35,
     "metadata": {},
     "output_type": "execute_result"
    }
   ],
   "source": [
    "from sklearn.metrics import mean_absolute_error\n",
    "\n",
    "mean_absolute_error(y_test, y_pred)"
   ]
  }
 ],
 "metadata": {
  "colab": {
   "collapsed_sections": [],
   "name": "Artificial Neural Network",
   "provenance": [],
   "toc_visible": true
  },
  "kernelspec": {
   "display_name": "Python 3 (ipykernel)",
   "language": "python",
   "name": "python3"
  },
  "language_info": {
   "codemirror_mode": {
    "name": "ipython",
    "version": 3
   },
   "file_extension": ".py",
   "mimetype": "text/x-python",
   "name": "python",
   "nbconvert_exporter": "python",
   "pygments_lexer": "ipython3",
   "version": "3.9.7"
  }
 },
 "nbformat": 4,
 "nbformat_minor": 4
}
