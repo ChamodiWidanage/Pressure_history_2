{
 "cells": [
  {
   "cell_type": "markdown",
   "metadata": {
    "colab_type": "text",
    "id": "3cbb7fRy-eyr"
   },
   "source": [
    "# Artificial Neural Network"
   ]
  },
  {
   "cell_type": "markdown",
   "source": [
    "## Part 1 - Importing the libraries"
   ],
   "metadata": {
    "collapsed": false
   }
  },
  {
   "cell_type": "code",
   "execution_count": 1,
   "metadata": {
    "colab": {},
    "colab_type": "code",
    "id": "lxChR1Rk-umf",
    "ExecuteTime": {
     "end_time": "2024-08-15T04:10:28.911170300Z",
     "start_time": "2024-08-15T04:10:22.103558800Z"
    }
   },
   "outputs": [],
   "source": [
    "import numpy as np\n",
    "import pandas as pd\n",
    "import tensorflow as tf\n",
    "import matplotlib.pyplot as plt\n",
    "from keras.models import load_model\n",
    "from pathlib import Path\n",
    "import pickle"
   ]
  },
  {
   "cell_type": "markdown",
   "metadata": {
    "colab_type": "text",
    "id": "AG3FQEch-yuA"
   },
   "source": [
    "## Part 2 - Data Preprocessing"
   ]
  },
  {
   "cell_type": "code",
   "execution_count": 2,
   "metadata": {
    "ExecuteTime": {
     "end_time": "2024-08-15T04:10:28.982152200Z",
     "start_time": "2024-08-15T04:10:28.918176Z"
    }
   },
   "outputs": [
    {
     "name": "stdout",
     "output_type": "stream",
     "text": [
      "input G:\\Chamodi\\LSDYNA3D\\RP_TH_models\\RP_Section_1_new\n",
      "2 [WindowsPath('G:/Chamodi/LSDYNA3D/RP_TH_models/RP_Section_1_new/1.00m'), WindowsPath('G:/Chamodi/LSDYNA3D/RP_TH_models/RP_Section_1_new/1.25m'), WindowsPath('G:/Chamodi/LSDYNA3D/RP_TH_models/RP_Section_1_new/1.50m'), WindowsPath('G:/Chamodi/LSDYNA3D/RP_TH_models/RP_Section_1_new/1.75m'), WindowsPath('G:/Chamodi/LSDYNA3D/RP_TH_models/RP_Section_1_new/2.00m'), WindowsPath('G:/Chamodi/LSDYNA3D/RP_TH_models/RP_Section_1_new/2.25m'), WindowsPath('G:/Chamodi/LSDYNA3D/RP_TH_models/RP_Section_1_new/2.50m'), WindowsPath('G:/Chamodi/LSDYNA3D/RP_TH_models/RP_Section_1_new/2.75m'), WindowsPath('G:/Chamodi/LSDYNA3D/RP_TH_models/RP_Section_1_new/3.00m')]\n"
     ]
    }
   ],
   "source": [
    "#Access input folder\n",
    "current_dir = Path.cwd()\n",
    "input_dir1 = Path (\"G:/Chamodi/LSDYNA3D/RP_TH_models/RP_Section_1_new\")\n",
    "print (\"input\",input_dir1)\n",
    "\n",
    "#Access folders inside input folder\n",
    "input_dir2=  [folder1 for folder1 in input_dir1.iterdir() if folder1.is_dir()] # folder1 - RP_curves_fr7m\n",
    "print (\"2\",input_dir2)"
   ]
  },
  {
   "cell_type": "code",
   "execution_count": 3,
   "metadata": {
    "ExecuteTime": {
     "end_time": "2024-08-15T04:10:48.232907600Z",
     "start_time": "2024-08-15T04:10:28.945617400Z"
    }
   },
   "outputs": [
    {
     "name": "stdout",
     "output_type": "stream",
     "text": [
      "folder G:\\Chamodi\\LSDYNA3D\\RP_TH_models\\RP_Section_1_new\\1.00m\\1.00m00.5kg\n",
      "1\n",
      "2\n",
      "3\n",
      "4\n",
      "folder G:\\Chamodi\\LSDYNA3D\\RP_TH_models\\RP_Section_1_new\\1.00m\\1.00m02.5kg\n",
      "1\n",
      "2\n",
      "3\n",
      "4\n",
      "folder G:\\Chamodi\\LSDYNA3D\\RP_TH_models\\RP_Section_1_new\\1.00m\\1.00m04.5kg\n",
      "1\n",
      "2\n",
      "3\n",
      "4\n",
      "folder G:\\Chamodi\\LSDYNA3D\\RP_TH_models\\RP_Section_1_new\\1.00m\\1.00m06.5kg\n",
      "1\n",
      "2\n",
      "3\n",
      "4\n",
      "folder G:\\Chamodi\\LSDYNA3D\\RP_TH_models\\RP_Section_1_new\\1.00m\\1.00m08.5kg\n",
      "1\n",
      "2\n",
      "3\n",
      "4\n",
      "folder G:\\Chamodi\\LSDYNA3D\\RP_TH_models\\RP_Section_1_new\\1.00m\\1.00m10.5kg\n",
      "1\n",
      "2\n",
      "3\n",
      "4\n",
      "folder G:\\Chamodi\\LSDYNA3D\\RP_TH_models\\RP_Section_1_new\\1.00m\\1.00m12.5kg\n",
      "1\n",
      "2\n",
      "3\n",
      "4\n",
      "folder G:\\Chamodi\\LSDYNA3D\\RP_TH_models\\RP_Section_1_new\\1.00m\\1.00m14.5kg\n",
      "1\n",
      "2\n",
      "3\n",
      "4\n",
      "folder G:\\Chamodi\\LSDYNA3D\\RP_TH_models\\RP_Section_1_new\\1.00m\\1.00m16.5kg\n",
      "1\n",
      "2\n",
      "3\n",
      "4\n",
      "folder G:\\Chamodi\\LSDYNA3D\\RP_TH_models\\RP_Section_1_new\\1.00m\\1.00m18.5kg\n",
      "1\n",
      "2\n",
      "3\n",
      "4\n",
      "folder G:\\Chamodi\\LSDYNA3D\\RP_TH_models\\RP_Section_1_new\\1.00m\\1.00m20.5kg\n",
      "1\n",
      "2\n",
      "3\n",
      "4\n",
      "folder G:\\Chamodi\\LSDYNA3D\\RP_TH_models\\RP_Section_1_new\\1.00m\\1.00m22.5kg\n",
      "1\n",
      "2\n",
      "3\n",
      "4\n",
      "folder G:\\Chamodi\\LSDYNA3D\\RP_TH_models\\RP_Section_1_new\\1.00m\\1.00m24.5kg\n",
      "1\n",
      "2\n",
      "3\n",
      "4\n",
      "folder G:\\Chamodi\\LSDYNA3D\\RP_TH_models\\RP_Section_1_new\\1.00m\\1.00m26.5kg\n",
      "1\n",
      "2\n",
      "3\n",
      "4\n",
      "folder G:\\Chamodi\\LSDYNA3D\\RP_TH_models\\RP_Section_1_new\\1.00m\\1.00m28.5kg\n",
      "1\n",
      "2\n",
      "3\n",
      "4\n",
      "folder G:\\Chamodi\\LSDYNA3D\\RP_TH_models\\RP_Section_1_new\\1.00m\\1.00m30.5kg\n",
      "1\n",
      "2\n",
      "3\n",
      "4\n",
      "folder G:\\Chamodi\\LSDYNA3D\\RP_TH_models\\RP_Section_1_new\\1.00m\\1.00m32.5kg\n",
      "1\n",
      "2\n",
      "3\n",
      "4\n",
      "folder G:\\Chamodi\\LSDYNA3D\\RP_TH_models\\RP_Section_1_new\\1.00m\\1.00m34.5kg\n",
      "1\n",
      "2\n",
      "3\n",
      "4\n",
      "folder G:\\Chamodi\\LSDYNA3D\\RP_TH_models\\RP_Section_1_new\\1.00m\\1.00m35.0kg\n",
      "1\n",
      "2\n",
      "3\n",
      "4\n",
      "folder G:\\Chamodi\\LSDYNA3D\\RP_TH_models\\RP_Section_1_new\\1.25m\\1.25m00.5kg\n",
      "1\n",
      "2\n",
      "3\n",
      "4\n",
      "folder G:\\Chamodi\\LSDYNA3D\\RP_TH_models\\RP_Section_1_new\\1.25m\\1.25m02.5kg\n",
      "1\n",
      "2\n",
      "3\n",
      "4\n",
      "folder G:\\Chamodi\\LSDYNA3D\\RP_TH_models\\RP_Section_1_new\\1.25m\\1.25m04.5kg\n",
      "1\n",
      "2\n",
      "3\n",
      "4\n",
      "folder G:\\Chamodi\\LSDYNA3D\\RP_TH_models\\RP_Section_1_new\\1.25m\\1.25m06.5kg\n",
      "1\n",
      "2\n",
      "3\n",
      "4\n",
      "folder G:\\Chamodi\\LSDYNA3D\\RP_TH_models\\RP_Section_1_new\\1.25m\\1.25m08.5kg\n",
      "1\n",
      "2\n",
      "3\n",
      "4\n",
      "folder G:\\Chamodi\\LSDYNA3D\\RP_TH_models\\RP_Section_1_new\\1.25m\\1.25m10.5kg\n",
      "1\n",
      "2\n",
      "3\n",
      "4\n",
      "folder G:\\Chamodi\\LSDYNA3D\\RP_TH_models\\RP_Section_1_new\\1.25m\\1.25m12.5kg\n",
      "1\n",
      "2\n",
      "3\n",
      "4\n",
      "folder G:\\Chamodi\\LSDYNA3D\\RP_TH_models\\RP_Section_1_new\\1.25m\\1.25m14.5kg\n",
      "1\n",
      "2\n",
      "3\n",
      "4\n",
      "folder G:\\Chamodi\\LSDYNA3D\\RP_TH_models\\RP_Section_1_new\\1.25m\\1.25m16.5kg\n",
      "1\n",
      "2\n",
      "3\n",
      "4\n",
      "folder G:\\Chamodi\\LSDYNA3D\\RP_TH_models\\RP_Section_1_new\\1.25m\\1.25m18.5kg\n",
      "1\n",
      "2\n",
      "3\n",
      "4\n",
      "folder G:\\Chamodi\\LSDYNA3D\\RP_TH_models\\RP_Section_1_new\\1.25m\\1.25m20.5kg\n",
      "1\n",
      "2\n",
      "3\n",
      "4\n",
      "folder G:\\Chamodi\\LSDYNA3D\\RP_TH_models\\RP_Section_1_new\\1.25m\\1.25m22.5kg\n",
      "1\n",
      "2\n",
      "3\n",
      "4\n",
      "folder G:\\Chamodi\\LSDYNA3D\\RP_TH_models\\RP_Section_1_new\\1.25m\\1.25m24.5kg\n",
      "1\n",
      "2\n",
      "3\n",
      "4\n",
      "folder G:\\Chamodi\\LSDYNA3D\\RP_TH_models\\RP_Section_1_new\\1.25m\\1.25m26.5kg\n",
      "1\n",
      "2\n",
      "3\n",
      "4\n",
      "folder G:\\Chamodi\\LSDYNA3D\\RP_TH_models\\RP_Section_1_new\\1.25m\\1.25m28.5kg\n",
      "1\n",
      "2\n",
      "3\n",
      "4\n",
      "folder G:\\Chamodi\\LSDYNA3D\\RP_TH_models\\RP_Section_1_new\\1.25m\\1.25m30.5kg\n",
      "1\n",
      "2\n",
      "3\n",
      "4\n",
      "folder G:\\Chamodi\\LSDYNA3D\\RP_TH_models\\RP_Section_1_new\\1.25m\\1.25m32.5kg\n",
      "1\n",
      "2\n",
      "3\n",
      "4\n",
      "folder G:\\Chamodi\\LSDYNA3D\\RP_TH_models\\RP_Section_1_new\\1.25m\\1.25m34.5kg\n",
      "1\n",
      "2\n",
      "3\n",
      "4\n",
      "folder G:\\Chamodi\\LSDYNA3D\\RP_TH_models\\RP_Section_1_new\\1.25m\\1.25m35.0kg\n",
      "1\n",
      "2\n",
      "3\n",
      "4\n",
      "folder G:\\Chamodi\\LSDYNA3D\\RP_TH_models\\RP_Section_1_new\\1.50m\\1.50m00.5kg\n",
      "1\n",
      "2\n",
      "3\n",
      "4\n",
      "folder G:\\Chamodi\\LSDYNA3D\\RP_TH_models\\RP_Section_1_new\\1.50m\\1.50m02.5kg\n",
      "1\n",
      "2\n",
      "3\n",
      "4\n",
      "folder G:\\Chamodi\\LSDYNA3D\\RP_TH_models\\RP_Section_1_new\\1.50m\\1.50m04.5kg\n",
      "1\n",
      "2\n",
      "3\n",
      "4\n",
      "folder G:\\Chamodi\\LSDYNA3D\\RP_TH_models\\RP_Section_1_new\\1.50m\\1.50m06.5kg\n",
      "1\n",
      "2\n",
      "3\n",
      "4\n",
      "folder G:\\Chamodi\\LSDYNA3D\\RP_TH_models\\RP_Section_1_new\\1.50m\\1.50m08.5kg\n",
      "1\n",
      "2\n",
      "3\n",
      "4\n",
      "folder G:\\Chamodi\\LSDYNA3D\\RP_TH_models\\RP_Section_1_new\\1.50m\\1.50m10.5kg\n",
      "1\n",
      "2\n",
      "3\n",
      "4\n",
      "folder G:\\Chamodi\\LSDYNA3D\\RP_TH_models\\RP_Section_1_new\\1.50m\\1.50m12.5kg\n",
      "1\n",
      "2\n",
      "3\n",
      "4\n",
      "folder G:\\Chamodi\\LSDYNA3D\\RP_TH_models\\RP_Section_1_new\\1.50m\\1.50m14.5kg\n",
      "1\n",
      "2\n",
      "3\n",
      "4\n",
      "folder G:\\Chamodi\\LSDYNA3D\\RP_TH_models\\RP_Section_1_new\\1.50m\\1.50m16.5kg\n",
      "1\n",
      "2\n",
      "3\n",
      "4\n",
      "folder G:\\Chamodi\\LSDYNA3D\\RP_TH_models\\RP_Section_1_new\\1.50m\\1.50m18.5kg\n",
      "1\n",
      "2\n",
      "3\n",
      "4\n",
      "folder G:\\Chamodi\\LSDYNA3D\\RP_TH_models\\RP_Section_1_new\\1.50m\\1.50m20.5kg\n",
      "1\n",
      "2\n",
      "3\n",
      "4\n",
      "folder G:\\Chamodi\\LSDYNA3D\\RP_TH_models\\RP_Section_1_new\\1.50m\\1.50m22.5kg\n",
      "1\n",
      "2\n",
      "3\n",
      "4\n",
      "folder G:\\Chamodi\\LSDYNA3D\\RP_TH_models\\RP_Section_1_new\\1.50m\\1.50m24.5kg\n",
      "1\n",
      "2\n",
      "3\n",
      "4\n",
      "folder G:\\Chamodi\\LSDYNA3D\\RP_TH_models\\RP_Section_1_new\\1.50m\\1.50m26.5kg\n",
      "1\n",
      "2\n",
      "3\n",
      "4\n",
      "folder G:\\Chamodi\\LSDYNA3D\\RP_TH_models\\RP_Section_1_new\\1.50m\\1.50m28.5kg\n",
      "1\n",
      "2\n",
      "3\n",
      "4\n",
      "folder G:\\Chamodi\\LSDYNA3D\\RP_TH_models\\RP_Section_1_new\\1.50m\\1.50m30.5kg\n",
      "1\n",
      "2\n",
      "3\n",
      "4\n",
      "folder G:\\Chamodi\\LSDYNA3D\\RP_TH_models\\RP_Section_1_new\\1.50m\\1.50m32.5kg\n",
      "1\n",
      "2\n",
      "3\n",
      "4\n",
      "folder G:\\Chamodi\\LSDYNA3D\\RP_TH_models\\RP_Section_1_new\\1.50m\\1.50m34.5kg\n",
      "1\n",
      "2\n",
      "3\n",
      "4\n",
      "folder G:\\Chamodi\\LSDYNA3D\\RP_TH_models\\RP_Section_1_new\\1.50m\\1.50m35.0kg\n",
      "1\n",
      "2\n",
      "3\n",
      "4\n",
      "folder G:\\Chamodi\\LSDYNA3D\\RP_TH_models\\RP_Section_1_new\\1.75m\\1.75m00.5kg\n",
      "1\n",
      "2\n",
      "3\n",
      "4\n",
      "folder G:\\Chamodi\\LSDYNA3D\\RP_TH_models\\RP_Section_1_new\\1.75m\\1.75m02.5kg\n",
      "1\n",
      "2\n",
      "3\n",
      "4\n",
      "folder G:\\Chamodi\\LSDYNA3D\\RP_TH_models\\RP_Section_1_new\\1.75m\\1.75m04.5kg\n",
      "1\n",
      "2\n",
      "3\n",
      "4\n",
      "folder G:\\Chamodi\\LSDYNA3D\\RP_TH_models\\RP_Section_1_new\\1.75m\\1.75m06.5kg\n",
      "1\n",
      "2\n",
      "3\n",
      "4\n",
      "folder G:\\Chamodi\\LSDYNA3D\\RP_TH_models\\RP_Section_1_new\\1.75m\\1.75m08.5kg\n",
      "1\n",
      "2\n",
      "3\n",
      "4\n",
      "folder G:\\Chamodi\\LSDYNA3D\\RP_TH_models\\RP_Section_1_new\\1.75m\\1.75m10.5kg\n",
      "1\n",
      "2\n",
      "3\n",
      "4\n",
      "folder G:\\Chamodi\\LSDYNA3D\\RP_TH_models\\RP_Section_1_new\\1.75m\\1.75m12.5kg\n",
      "1\n",
      "2\n",
      "3\n",
      "4\n",
      "folder G:\\Chamodi\\LSDYNA3D\\RP_TH_models\\RP_Section_1_new\\1.75m\\1.75m14.5kg\n",
      "1\n",
      "2\n",
      "3\n",
      "4\n",
      "folder G:\\Chamodi\\LSDYNA3D\\RP_TH_models\\RP_Section_1_new\\1.75m\\1.75m16.5kg\n",
      "1\n",
      "2\n",
      "3\n",
      "4\n",
      "folder G:\\Chamodi\\LSDYNA3D\\RP_TH_models\\RP_Section_1_new\\1.75m\\1.75m18.5kg\n",
      "1\n",
      "2\n",
      "3\n",
      "4\n",
      "folder G:\\Chamodi\\LSDYNA3D\\RP_TH_models\\RP_Section_1_new\\1.75m\\1.75m20.5kg\n",
      "1\n",
      "2\n",
      "3\n",
      "4\n",
      "folder G:\\Chamodi\\LSDYNA3D\\RP_TH_models\\RP_Section_1_new\\1.75m\\1.75m22.5kg\n",
      "1\n",
      "2\n",
      "3\n",
      "4\n",
      "folder G:\\Chamodi\\LSDYNA3D\\RP_TH_models\\RP_Section_1_new\\1.75m\\1.75m24.5kg\n",
      "1\n",
      "2\n",
      "3\n",
      "4\n",
      "folder G:\\Chamodi\\LSDYNA3D\\RP_TH_models\\RP_Section_1_new\\1.75m\\1.75m26.5kg\n",
      "1\n",
      "2\n",
      "3\n",
      "4\n",
      "folder G:\\Chamodi\\LSDYNA3D\\RP_TH_models\\RP_Section_1_new\\1.75m\\1.75m28.5kg\n",
      "1\n",
      "2\n",
      "3\n",
      "4\n",
      "folder G:\\Chamodi\\LSDYNA3D\\RP_TH_models\\RP_Section_1_new\\1.75m\\1.75m30.5kg\n",
      "1\n",
      "2\n",
      "3\n",
      "4\n",
      "folder G:\\Chamodi\\LSDYNA3D\\RP_TH_models\\RP_Section_1_new\\1.75m\\1.75m32.5kg\n",
      "1\n",
      "2\n",
      "3\n",
      "4\n",
      "folder G:\\Chamodi\\LSDYNA3D\\RP_TH_models\\RP_Section_1_new\\1.75m\\1.75m34.5kg\n",
      "1\n",
      "2\n",
      "3\n",
      "4\n",
      "folder G:\\Chamodi\\LSDYNA3D\\RP_TH_models\\RP_Section_1_new\\1.75m\\1.75m35.0kg\n",
      "1\n",
      "2\n",
      "3\n",
      "4\n",
      "folder G:\\Chamodi\\LSDYNA3D\\RP_TH_models\\RP_Section_1_new\\2.00m\\2.00m00.5kg\n",
      "1\n",
      "2\n",
      "3\n",
      "4\n",
      "folder G:\\Chamodi\\LSDYNA3D\\RP_TH_models\\RP_Section_1_new\\2.00m\\2.00m02.5kg\n",
      "1\n",
      "2\n",
      "3\n",
      "4\n",
      "folder G:\\Chamodi\\LSDYNA3D\\RP_TH_models\\RP_Section_1_new\\2.00m\\2.00m04.5kg\n",
      "1\n",
      "2\n",
      "3\n",
      "4\n",
      "folder G:\\Chamodi\\LSDYNA3D\\RP_TH_models\\RP_Section_1_new\\2.00m\\2.00m06.5kg\n",
      "1\n",
      "2\n",
      "3\n",
      "4\n",
      "folder G:\\Chamodi\\LSDYNA3D\\RP_TH_models\\RP_Section_1_new\\2.00m\\2.00m08.5kg\n",
      "1\n",
      "2\n",
      "3\n",
      "4\n",
      "folder G:\\Chamodi\\LSDYNA3D\\RP_TH_models\\RP_Section_1_new\\2.00m\\2.00m10.5kg\n",
      "1\n",
      "2\n",
      "3\n",
      "4\n",
      "folder G:\\Chamodi\\LSDYNA3D\\RP_TH_models\\RP_Section_1_new\\2.00m\\2.00m12.5kg\n",
      "1\n",
      "2\n",
      "3\n",
      "4\n",
      "folder G:\\Chamodi\\LSDYNA3D\\RP_TH_models\\RP_Section_1_new\\2.00m\\2.00m14.5kg\n",
      "1\n",
      "2\n",
      "3\n",
      "4\n",
      "folder G:\\Chamodi\\LSDYNA3D\\RP_TH_models\\RP_Section_1_new\\2.00m\\2.00m16.5kg\n",
      "1\n",
      "2\n",
      "3\n",
      "4\n",
      "folder G:\\Chamodi\\LSDYNA3D\\RP_TH_models\\RP_Section_1_new\\2.00m\\2.00m18.5kg\n",
      "1\n",
      "2\n",
      "3\n",
      "4\n",
      "folder G:\\Chamodi\\LSDYNA3D\\RP_TH_models\\RP_Section_1_new\\2.00m\\2.00m20.5kg\n",
      "1\n",
      "2\n",
      "3\n",
      "4\n",
      "folder G:\\Chamodi\\LSDYNA3D\\RP_TH_models\\RP_Section_1_new\\2.00m\\2.00m22.5kg\n",
      "1\n",
      "2\n",
      "3\n",
      "4\n",
      "folder G:\\Chamodi\\LSDYNA3D\\RP_TH_models\\RP_Section_1_new\\2.00m\\2.00m24.5kg\n",
      "1\n",
      "2\n",
      "3\n",
      "4\n",
      "folder G:\\Chamodi\\LSDYNA3D\\RP_TH_models\\RP_Section_1_new\\2.00m\\2.00m26.5kg\n",
      "1\n",
      "2\n",
      "3\n",
      "4\n",
      "folder G:\\Chamodi\\LSDYNA3D\\RP_TH_models\\RP_Section_1_new\\2.00m\\2.00m28.5kg\n",
      "1\n",
      "2\n",
      "3\n",
      "4\n",
      "folder G:\\Chamodi\\LSDYNA3D\\RP_TH_models\\RP_Section_1_new\\2.00m\\2.00m30.5kg\n",
      "1\n",
      "2\n",
      "3\n",
      "4\n",
      "folder G:\\Chamodi\\LSDYNA3D\\RP_TH_models\\RP_Section_1_new\\2.00m\\2.00m32.5kg\n",
      "1\n",
      "2\n",
      "3\n",
      "4\n",
      "folder G:\\Chamodi\\LSDYNA3D\\RP_TH_models\\RP_Section_1_new\\2.00m\\2.00m34.5kg\n",
      "1\n",
      "2\n",
      "3\n",
      "4\n",
      "folder G:\\Chamodi\\LSDYNA3D\\RP_TH_models\\RP_Section_1_new\\2.00m\\2.00m35.0kg\n",
      "1\n",
      "2\n",
      "3\n",
      "4\n",
      "folder G:\\Chamodi\\LSDYNA3D\\RP_TH_models\\RP_Section_1_new\\2.25m\\2.25m00.5kg\n",
      "1\n",
      "2\n",
      "3\n",
      "4\n",
      "folder G:\\Chamodi\\LSDYNA3D\\RP_TH_models\\RP_Section_1_new\\2.25m\\2.25m02.5kg\n",
      "1\n",
      "2\n",
      "3\n",
      "4\n",
      "folder G:\\Chamodi\\LSDYNA3D\\RP_TH_models\\RP_Section_1_new\\2.25m\\2.25m04.5kg\n",
      "1\n",
      "2\n",
      "3\n",
      "4\n",
      "folder G:\\Chamodi\\LSDYNA3D\\RP_TH_models\\RP_Section_1_new\\2.25m\\2.25m06.5kg\n",
      "1\n",
      "2\n",
      "3\n",
      "4\n",
      "folder G:\\Chamodi\\LSDYNA3D\\RP_TH_models\\RP_Section_1_new\\2.25m\\2.25m08.5kg\n",
      "1\n",
      "2\n",
      "3\n",
      "4\n",
      "folder G:\\Chamodi\\LSDYNA3D\\RP_TH_models\\RP_Section_1_new\\2.25m\\2.25m10.5kg\n",
      "1\n",
      "2\n",
      "3\n",
      "4\n",
      "folder G:\\Chamodi\\LSDYNA3D\\RP_TH_models\\RP_Section_1_new\\2.25m\\2.25m12.5kg\n",
      "1\n",
      "2\n",
      "3\n",
      "4\n",
      "folder G:\\Chamodi\\LSDYNA3D\\RP_TH_models\\RP_Section_1_new\\2.25m\\2.25m14.5kg\n",
      "1\n",
      "2\n",
      "3\n",
      "4\n",
      "folder G:\\Chamodi\\LSDYNA3D\\RP_TH_models\\RP_Section_1_new\\2.25m\\2.25m16.5kg\n",
      "1\n",
      "2\n",
      "3\n",
      "4\n",
      "folder G:\\Chamodi\\LSDYNA3D\\RP_TH_models\\RP_Section_1_new\\2.25m\\2.25m18.5kg\n",
      "1\n",
      "2\n",
      "3\n",
      "4\n",
      "folder G:\\Chamodi\\LSDYNA3D\\RP_TH_models\\RP_Section_1_new\\2.25m\\2.25m20.5kg\n",
      "1\n",
      "2\n",
      "3\n",
      "4\n",
      "folder G:\\Chamodi\\LSDYNA3D\\RP_TH_models\\RP_Section_1_new\\2.25m\\2.25m22.5kg\n",
      "1\n",
      "2\n",
      "3\n",
      "4\n",
      "folder G:\\Chamodi\\LSDYNA3D\\RP_TH_models\\RP_Section_1_new\\2.25m\\2.25m24.5kg\n",
      "1\n",
      "2\n",
      "3\n",
      "4\n",
      "folder G:\\Chamodi\\LSDYNA3D\\RP_TH_models\\RP_Section_1_new\\2.25m\\2.25m26.5kg\n",
      "1\n",
      "2\n",
      "3\n",
      "4\n",
      "folder G:\\Chamodi\\LSDYNA3D\\RP_TH_models\\RP_Section_1_new\\2.25m\\2.25m28.5kg\n",
      "1\n",
      "2\n",
      "3\n",
      "4\n",
      "folder G:\\Chamodi\\LSDYNA3D\\RP_TH_models\\RP_Section_1_new\\2.25m\\2.25m30.5kg\n",
      "1\n",
      "2\n",
      "3\n",
      "4\n",
      "folder G:\\Chamodi\\LSDYNA3D\\RP_TH_models\\RP_Section_1_new\\2.25m\\2.25m32.5kg\n",
      "1\n",
      "2\n",
      "3\n",
      "4\n",
      "folder G:\\Chamodi\\LSDYNA3D\\RP_TH_models\\RP_Section_1_new\\2.25m\\2.25m34.5kg\n",
      "1\n",
      "2\n",
      "3\n",
      "4\n",
      "folder G:\\Chamodi\\LSDYNA3D\\RP_TH_models\\RP_Section_1_new\\2.25m\\2.25m35.0kg\n",
      "1\n",
      "2\n",
      "3\n",
      "4\n",
      "folder G:\\Chamodi\\LSDYNA3D\\RP_TH_models\\RP_Section_1_new\\2.50m\\2.50m00.5kg\n",
      "1\n",
      "2\n",
      "3\n",
      "4\n",
      "folder G:\\Chamodi\\LSDYNA3D\\RP_TH_models\\RP_Section_1_new\\2.50m\\2.50m02.5kg\n",
      "1\n",
      "2\n",
      "3\n",
      "4\n",
      "folder G:\\Chamodi\\LSDYNA3D\\RP_TH_models\\RP_Section_1_new\\2.50m\\2.50m04.5kg\n",
      "1\n",
      "2\n",
      "3\n",
      "4\n",
      "folder G:\\Chamodi\\LSDYNA3D\\RP_TH_models\\RP_Section_1_new\\2.50m\\2.50m06.5kg\n",
      "1\n",
      "2\n",
      "3\n",
      "4\n",
      "folder G:\\Chamodi\\LSDYNA3D\\RP_TH_models\\RP_Section_1_new\\2.50m\\2.50m08.5kg\n",
      "1\n",
      "2\n",
      "3\n",
      "4\n",
      "folder G:\\Chamodi\\LSDYNA3D\\RP_TH_models\\RP_Section_1_new\\2.50m\\2.50m10.5kg\n",
      "1\n",
      "2\n",
      "3\n",
      "4\n",
      "folder G:\\Chamodi\\LSDYNA3D\\RP_TH_models\\RP_Section_1_new\\2.50m\\2.50m12.5kg\n",
      "1\n",
      "2\n",
      "3\n",
      "4\n",
      "folder G:\\Chamodi\\LSDYNA3D\\RP_TH_models\\RP_Section_1_new\\2.50m\\2.50m14.5kg\n",
      "1\n",
      "2\n",
      "3\n",
      "4\n",
      "folder G:\\Chamodi\\LSDYNA3D\\RP_TH_models\\RP_Section_1_new\\2.50m\\2.50m16.5kg\n",
      "1\n",
      "2\n",
      "3\n",
      "4\n",
      "folder G:\\Chamodi\\LSDYNA3D\\RP_TH_models\\RP_Section_1_new\\2.50m\\2.50m18.5kg\n",
      "1\n",
      "2\n",
      "3\n",
      "4\n",
      "folder G:\\Chamodi\\LSDYNA3D\\RP_TH_models\\RP_Section_1_new\\2.50m\\2.50m20.5kg\n",
      "1\n",
      "2\n",
      "3\n",
      "4\n",
      "folder G:\\Chamodi\\LSDYNA3D\\RP_TH_models\\RP_Section_1_new\\2.50m\\2.50m22.5kg\n",
      "1\n",
      "2\n",
      "3\n",
      "4\n",
      "folder G:\\Chamodi\\LSDYNA3D\\RP_TH_models\\RP_Section_1_new\\2.50m\\2.50m24.5kg\n",
      "1\n",
      "2\n",
      "3\n",
      "4\n",
      "folder G:\\Chamodi\\LSDYNA3D\\RP_TH_models\\RP_Section_1_new\\2.50m\\2.50m26.5kg\n",
      "1\n",
      "2\n",
      "3\n",
      "4\n",
      "folder G:\\Chamodi\\LSDYNA3D\\RP_TH_models\\RP_Section_1_new\\2.50m\\2.50m28.5kg\n",
      "1\n",
      "2\n",
      "3\n",
      "4\n",
      "folder G:\\Chamodi\\LSDYNA3D\\RP_TH_models\\RP_Section_1_new\\2.50m\\2.50m30.5kg\n",
      "1\n",
      "2\n",
      "3\n",
      "4\n",
      "folder G:\\Chamodi\\LSDYNA3D\\RP_TH_models\\RP_Section_1_new\\2.50m\\2.50m32.5kg\n",
      "1\n",
      "2\n",
      "3\n",
      "4\n",
      "folder G:\\Chamodi\\LSDYNA3D\\RP_TH_models\\RP_Section_1_new\\2.50m\\2.50m34.5kg\n",
      "1\n",
      "2\n",
      "3\n",
      "4\n",
      "folder G:\\Chamodi\\LSDYNA3D\\RP_TH_models\\RP_Section_1_new\\2.50m\\2.50m35.0kg\n",
      "1\n",
      "2\n",
      "3\n",
      "4\n",
      "folder G:\\Chamodi\\LSDYNA3D\\RP_TH_models\\RP_Section_1_new\\2.75m\\2.75m00.5kg\n",
      "1\n",
      "2\n",
      "3\n",
      "4\n",
      "folder G:\\Chamodi\\LSDYNA3D\\RP_TH_models\\RP_Section_1_new\\2.75m\\2.75m02.5kg\n",
      "1\n",
      "2\n",
      "3\n",
      "4\n",
      "folder G:\\Chamodi\\LSDYNA3D\\RP_TH_models\\RP_Section_1_new\\2.75m\\2.75m04.5kg\n",
      "1\n",
      "2\n",
      "3\n",
      "4\n",
      "folder G:\\Chamodi\\LSDYNA3D\\RP_TH_models\\RP_Section_1_new\\2.75m\\2.75m06.5kg\n",
      "1\n",
      "2\n",
      "3\n",
      "4\n",
      "folder G:\\Chamodi\\LSDYNA3D\\RP_TH_models\\RP_Section_1_new\\2.75m\\2.75m08.5kg\n",
      "1\n",
      "2\n",
      "3\n",
      "4\n",
      "folder G:\\Chamodi\\LSDYNA3D\\RP_TH_models\\RP_Section_1_new\\2.75m\\2.75m10.5kg\n",
      "1\n",
      "2\n",
      "3\n",
      "4\n",
      "folder G:\\Chamodi\\LSDYNA3D\\RP_TH_models\\RP_Section_1_new\\2.75m\\2.75m12.5kg\n",
      "1\n",
      "2\n",
      "3\n",
      "4\n",
      "folder G:\\Chamodi\\LSDYNA3D\\RP_TH_models\\RP_Section_1_new\\2.75m\\2.75m14.5kg\n",
      "1\n",
      "2\n",
      "3\n",
      "4\n",
      "folder G:\\Chamodi\\LSDYNA3D\\RP_TH_models\\RP_Section_1_new\\2.75m\\2.75m16.5kg\n",
      "1\n",
      "2\n",
      "3\n",
      "4\n",
      "folder G:\\Chamodi\\LSDYNA3D\\RP_TH_models\\RP_Section_1_new\\2.75m\\2.75m18.5kg\n",
      "1\n",
      "2\n",
      "3\n",
      "4\n",
      "folder G:\\Chamodi\\LSDYNA3D\\RP_TH_models\\RP_Section_1_new\\2.75m\\2.75m20.5kg\n",
      "1\n",
      "2\n",
      "3\n",
      "4\n",
      "folder G:\\Chamodi\\LSDYNA3D\\RP_TH_models\\RP_Section_1_new\\2.75m\\2.75m22.5kg\n",
      "1\n",
      "2\n",
      "3\n",
      "4\n",
      "folder G:\\Chamodi\\LSDYNA3D\\RP_TH_models\\RP_Section_1_new\\2.75m\\2.75m24.5kg\n",
      "1\n",
      "2\n",
      "3\n",
      "4\n",
      "folder G:\\Chamodi\\LSDYNA3D\\RP_TH_models\\RP_Section_1_new\\2.75m\\2.75m26.5kg\n",
      "1\n",
      "2\n",
      "3\n",
      "4\n",
      "folder G:\\Chamodi\\LSDYNA3D\\RP_TH_models\\RP_Section_1_new\\2.75m\\2.75m28.5kg\n",
      "1\n",
      "2\n",
      "3\n",
      "4\n",
      "folder G:\\Chamodi\\LSDYNA3D\\RP_TH_models\\RP_Section_1_new\\2.75m\\2.75m30.5kg\n",
      "1\n",
      "2\n",
      "3\n",
      "4\n",
      "folder G:\\Chamodi\\LSDYNA3D\\RP_TH_models\\RP_Section_1_new\\2.75m\\2.75m32.5kg\n",
      "1\n",
      "2\n",
      "3\n",
      "4\n",
      "folder G:\\Chamodi\\LSDYNA3D\\RP_TH_models\\RP_Section_1_new\\2.75m\\2.75m34.5kg\n",
      "1\n",
      "2\n",
      "3\n",
      "4\n",
      "folder G:\\Chamodi\\LSDYNA3D\\RP_TH_models\\RP_Section_1_new\\2.75m\\2.75m35.0kg\n",
      "1\n",
      "2\n",
      "3\n",
      "4\n",
      "folder G:\\Chamodi\\LSDYNA3D\\RP_TH_models\\RP_Section_1_new\\3.00m\\3.00m00.5kg\n",
      "1\n",
      "2\n",
      "3\n",
      "4\n",
      "folder G:\\Chamodi\\LSDYNA3D\\RP_TH_models\\RP_Section_1_new\\3.00m\\3.00m02.5kg\n",
      "1\n",
      "2\n",
      "3\n",
      "4\n",
      "folder G:\\Chamodi\\LSDYNA3D\\RP_TH_models\\RP_Section_1_new\\3.00m\\3.00m04.5kg\n",
      "1\n",
      "2\n",
      "3\n",
      "4\n",
      "folder G:\\Chamodi\\LSDYNA3D\\RP_TH_models\\RP_Section_1_new\\3.00m\\3.00m06.5kg\n",
      "1\n",
      "2\n",
      "3\n",
      "4\n",
      "folder G:\\Chamodi\\LSDYNA3D\\RP_TH_models\\RP_Section_1_new\\3.00m\\3.00m08.5kg\n",
      "1\n",
      "2\n",
      "3\n",
      "4\n",
      "folder G:\\Chamodi\\LSDYNA3D\\RP_TH_models\\RP_Section_1_new\\3.00m\\3.00m10.5kg\n",
      "1\n",
      "2\n",
      "3\n",
      "4\n",
      "folder G:\\Chamodi\\LSDYNA3D\\RP_TH_models\\RP_Section_1_new\\3.00m\\3.00m12.5kg\n",
      "1\n",
      "2\n",
      "3\n",
      "4\n",
      "folder G:\\Chamodi\\LSDYNA3D\\RP_TH_models\\RP_Section_1_new\\3.00m\\3.00m14.5kg\n",
      "1\n",
      "2\n",
      "3\n",
      "4\n",
      "folder G:\\Chamodi\\LSDYNA3D\\RP_TH_models\\RP_Section_1_new\\3.00m\\3.00m16.5kg\n",
      "1\n",
      "2\n",
      "3\n",
      "4\n",
      "folder G:\\Chamodi\\LSDYNA3D\\RP_TH_models\\RP_Section_1_new\\3.00m\\3.00m18.5kg\n",
      "1\n",
      "2\n",
      "3\n",
      "4\n",
      "folder G:\\Chamodi\\LSDYNA3D\\RP_TH_models\\RP_Section_1_new\\3.00m\\3.00m20.5kg\n",
      "1\n",
      "2\n",
      "3\n",
      "4\n",
      "folder G:\\Chamodi\\LSDYNA3D\\RP_TH_models\\RP_Section_1_new\\3.00m\\3.00m22.5kg\n",
      "1\n",
      "2\n",
      "3\n",
      "4\n",
      "folder G:\\Chamodi\\LSDYNA3D\\RP_TH_models\\RP_Section_1_new\\3.00m\\3.00m24.5kg\n",
      "1\n",
      "2\n",
      "3\n",
      "4\n",
      "folder G:\\Chamodi\\LSDYNA3D\\RP_TH_models\\RP_Section_1_new\\3.00m\\3.00m26.5kg\n",
      "1\n",
      "2\n",
      "3\n",
      "4\n",
      "folder G:\\Chamodi\\LSDYNA3D\\RP_TH_models\\RP_Section_1_new\\3.00m\\3.00m28.5kg\n",
      "1\n",
      "2\n",
      "3\n",
      "4\n",
      "folder G:\\Chamodi\\LSDYNA3D\\RP_TH_models\\RP_Section_1_new\\3.00m\\3.00m30.5kg\n",
      "1\n",
      "2\n",
      "3\n",
      "4\n",
      "folder G:\\Chamodi\\LSDYNA3D\\RP_TH_models\\RP_Section_1_new\\3.00m\\3.00m32.5kg\n",
      "1\n",
      "2\n",
      "3\n",
      "4\n",
      "folder G:\\Chamodi\\LSDYNA3D\\RP_TH_models\\RP_Section_1_new\\3.00m\\3.00m34.5kg\n",
      "1\n",
      "2\n",
      "3\n",
      "4\n",
      "folder G:\\Chamodi\\LSDYNA3D\\RP_TH_models\\RP_Section_1_new\\3.00m\\3.00m35.0kg\n",
      "1\n",
      "2\n",
      "3\n",
      "4\n"
     ]
    }
   ],
   "source": [
    "#dataset = pd.DataFrame(columns = ['Charge_mass', 'Standoff_distance', 'Time', 'Pressure', 'Phase'])\n",
    "df_list = []\n",
    "\n",
    "for folder1 in input_dir2:\n",
    "    \n",
    "    input_dir3 =  [folder2 for folder2 in folder1.iterdir() if folder2.is_dir()] # folder2 - 07m00.5kg\n",
    "    \n",
    "    for folder2 in input_dir3:\n",
    "        \n",
    "        print ('folder', folder2)\n",
    "        files1 = [file1 for file1 in folder2.rglob(\"*.xlsx\")]\n",
    "    \n",
    "        for file1 in files1:\n",
    "            df_list.append(pd.read_excel(file1))\n",
    "            print (file1.stem)\n",
    "    \n",
    "dataset = pd.concat(df_list, ignore_index = True)"
   ]
  },
  {
   "cell_type": "code",
   "execution_count": 4,
   "metadata": {
    "colab": {},
    "colab_type": "code",
    "id": "B9CV13Co_HHM",
    "ExecuteTime": {
     "end_time": "2024-08-15T04:10:48.290452900Z",
     "start_time": "2024-08-15T04:10:48.235915800Z"
    }
   },
   "outputs": [
    {
     "name": "stdout",
     "output_type": "stream",
     "text": [
      "<class 'pandas.core.frame.DataFrame'>\n",
      "RangeIndex: 71701 entries, 0 to 71700\n",
      "Data columns (total 6 columns):\n",
      " #   Column             Non-Null Count  Dtype  \n",
      "---  ------             --------------  -----  \n",
      " 0   Mass               71701 non-null  float64\n",
      " 1   Standoff distance  71701 non-null  float64\n",
      " 2   Angle              71701 non-null  int64  \n",
      " 3   Time               71701 non-null  float64\n",
      " 4   Phase              71701 non-null  object \n",
      " 5   Pressure           71701 non-null  float64\n",
      "dtypes: float64(4), int64(1), object(1)\n",
      "memory usage: 3.3+ MB\n"
     ]
    }
   ],
   "source": [
    "dataset.info()"
   ]
  },
  {
   "cell_type": "code",
   "execution_count": 5,
   "outputs": [
    {
     "name": "stdout",
     "output_type": "stream",
     "text": [
      "<class 'pandas.core.frame.DataFrame'>\n",
      "RangeIndex: 71701 entries, 0 to 71700\n",
      "Data columns (total 8 columns):\n",
      " #   Column                     Non-Null Count  Dtype  \n",
      "---  ------                     --------------  -----  \n",
      " 0   Mass                       71701 non-null  float64\n",
      " 1   Standoff distance          71701 non-null  float64\n",
      " 2   Angle                      71701 non-null  int64  \n",
      " 3   Time                       71701 non-null  float64\n",
      " 4   Pressure                   71701 non-null  float64\n",
      " 5   Phase_negative_decreasing  71701 non-null  uint8  \n",
      " 6   Phase_negative_increasing  71701 non-null  uint8  \n",
      " 7   Phase_positive             71701 non-null  uint8  \n",
      "dtypes: float64(4), int64(1), uint8(3)\n",
      "memory usage: 2.9 MB\n"
     ]
    }
   ],
   "source": [
    "dataset = pd.get_dummies(dataset, columns =['Phase'], dtype = np.uint8)\n",
    "dataset.info()"
   ],
   "metadata": {
    "collapsed": false,
    "ExecuteTime": {
     "end_time": "2024-08-15T04:10:48.440977400Z",
     "start_time": "2024-08-15T04:10:48.266938700Z"
    }
   }
  },
  {
   "cell_type": "code",
   "execution_count": 6,
   "outputs": [
    {
     "data": {
      "text/plain": "    Mass  Standoff distance  Angle      Time    Pressure  \\\n0    0.5                1.0      0  0.675620  1835.74400   \n1    0.5                1.0      0  0.678642  1834.42100   \n2    0.5                1.0      0  0.681641  1825.07100   \n3    0.5                1.0      0  0.690485  1762.36500   \n4    0.5                1.0      0  0.729239  1252.16300   \n5    0.5                1.0      0  0.749695  1068.86900   \n6    0.5                1.0      0  0.769045   935.35660   \n7    0.5                1.0      0  0.800520   758.47430   \n8    0.5                1.0      0  0.831368   620.15920   \n9    0.5                1.0      0  0.846691   564.04980   \n10   0.5                1.0      0  0.864671   506.87930   \n11   0.5                1.0      0  0.884545   451.83270   \n12   0.5                1.0      0  0.906902   397.41580   \n13   0.5                1.0      0  0.927155   353.53220   \n14   0.5                1.0      0  0.947124   314.68150   \n15   0.5                1.0      0  0.966568   281.10310   \n16   0.5                1.0      0  0.986417   251.33860   \n17   0.5                1.0      0  1.006225   226.02760   \n18   0.5                1.0      0  1.025679   205.07110   \n19   0.5                1.0      0  1.048664   184.52760   \n20   0.5                1.0      0  1.073196   166.17430   \n21   0.5                1.0      0  1.108821   143.37730   \n22   0.5                1.0      0  1.156518   116.69450   \n23   0.5                1.0      0  1.227624    79.94161   \n24   0.5                1.0      0  1.252754    68.08047   \n25   0.5                1.0      0  1.278528    56.94484   \n26   0.5                1.0      0  1.321861    40.67422   \n27   0.5                1.0      0  1.345147    33.06606   \n28   0.5                1.0      0  1.368550    26.09805   \n29   0.5                1.0      0  1.395020    18.93172   \n\n    Phase_negative_decreasing  Phase_negative_increasing  Phase_positive  \n0                           0                          0               1  \n1                           0                          0               1  \n2                           0                          0               1  \n3                           0                          0               1  \n4                           0                          0               1  \n5                           0                          0               1  \n6                           0                          0               1  \n7                           0                          0               1  \n8                           0                          0               1  \n9                           0                          0               1  \n10                          0                          0               1  \n11                          0                          0               1  \n12                          0                          0               1  \n13                          0                          0               1  \n14                          0                          0               1  \n15                          0                          0               1  \n16                          0                          0               1  \n17                          0                          0               1  \n18                          0                          0               1  \n19                          0                          0               1  \n20                          0                          0               1  \n21                          0                          0               1  \n22                          0                          0               1  \n23                          0                          0               1  \n24                          0                          0               1  \n25                          0                          0               1  \n26                          0                          0               1  \n27                          0                          0               1  \n28                          0                          0               1  \n29                          0                          0               1  ",
      "text/html": "<div>\n<style scoped>\n    .dataframe tbody tr th:only-of-type {\n        vertical-align: middle;\n    }\n\n    .dataframe tbody tr th {\n        vertical-align: top;\n    }\n\n    .dataframe thead th {\n        text-align: right;\n    }\n</style>\n<table border=\"1\" class=\"dataframe\">\n  <thead>\n    <tr style=\"text-align: right;\">\n      <th></th>\n      <th>Mass</th>\n      <th>Standoff distance</th>\n      <th>Angle</th>\n      <th>Time</th>\n      <th>Pressure</th>\n      <th>Phase_negative_decreasing</th>\n      <th>Phase_negative_increasing</th>\n      <th>Phase_positive</th>\n    </tr>\n  </thead>\n  <tbody>\n    <tr>\n      <th>0</th>\n      <td>0.5</td>\n      <td>1.0</td>\n      <td>0</td>\n      <td>0.675620</td>\n      <td>1835.74400</td>\n      <td>0</td>\n      <td>0</td>\n      <td>1</td>\n    </tr>\n    <tr>\n      <th>1</th>\n      <td>0.5</td>\n      <td>1.0</td>\n      <td>0</td>\n      <td>0.678642</td>\n      <td>1834.42100</td>\n      <td>0</td>\n      <td>0</td>\n      <td>1</td>\n    </tr>\n    <tr>\n      <th>2</th>\n      <td>0.5</td>\n      <td>1.0</td>\n      <td>0</td>\n      <td>0.681641</td>\n      <td>1825.07100</td>\n      <td>0</td>\n      <td>0</td>\n      <td>1</td>\n    </tr>\n    <tr>\n      <th>3</th>\n      <td>0.5</td>\n      <td>1.0</td>\n      <td>0</td>\n      <td>0.690485</td>\n      <td>1762.36500</td>\n      <td>0</td>\n      <td>0</td>\n      <td>1</td>\n    </tr>\n    <tr>\n      <th>4</th>\n      <td>0.5</td>\n      <td>1.0</td>\n      <td>0</td>\n      <td>0.729239</td>\n      <td>1252.16300</td>\n      <td>0</td>\n      <td>0</td>\n      <td>1</td>\n    </tr>\n    <tr>\n      <th>5</th>\n      <td>0.5</td>\n      <td>1.0</td>\n      <td>0</td>\n      <td>0.749695</td>\n      <td>1068.86900</td>\n      <td>0</td>\n      <td>0</td>\n      <td>1</td>\n    </tr>\n    <tr>\n      <th>6</th>\n      <td>0.5</td>\n      <td>1.0</td>\n      <td>0</td>\n      <td>0.769045</td>\n      <td>935.35660</td>\n      <td>0</td>\n      <td>0</td>\n      <td>1</td>\n    </tr>\n    <tr>\n      <th>7</th>\n      <td>0.5</td>\n      <td>1.0</td>\n      <td>0</td>\n      <td>0.800520</td>\n      <td>758.47430</td>\n      <td>0</td>\n      <td>0</td>\n      <td>1</td>\n    </tr>\n    <tr>\n      <th>8</th>\n      <td>0.5</td>\n      <td>1.0</td>\n      <td>0</td>\n      <td>0.831368</td>\n      <td>620.15920</td>\n      <td>0</td>\n      <td>0</td>\n      <td>1</td>\n    </tr>\n    <tr>\n      <th>9</th>\n      <td>0.5</td>\n      <td>1.0</td>\n      <td>0</td>\n      <td>0.846691</td>\n      <td>564.04980</td>\n      <td>0</td>\n      <td>0</td>\n      <td>1</td>\n    </tr>\n    <tr>\n      <th>10</th>\n      <td>0.5</td>\n      <td>1.0</td>\n      <td>0</td>\n      <td>0.864671</td>\n      <td>506.87930</td>\n      <td>0</td>\n      <td>0</td>\n      <td>1</td>\n    </tr>\n    <tr>\n      <th>11</th>\n      <td>0.5</td>\n      <td>1.0</td>\n      <td>0</td>\n      <td>0.884545</td>\n      <td>451.83270</td>\n      <td>0</td>\n      <td>0</td>\n      <td>1</td>\n    </tr>\n    <tr>\n      <th>12</th>\n      <td>0.5</td>\n      <td>1.0</td>\n      <td>0</td>\n      <td>0.906902</td>\n      <td>397.41580</td>\n      <td>0</td>\n      <td>0</td>\n      <td>1</td>\n    </tr>\n    <tr>\n      <th>13</th>\n      <td>0.5</td>\n      <td>1.0</td>\n      <td>0</td>\n      <td>0.927155</td>\n      <td>353.53220</td>\n      <td>0</td>\n      <td>0</td>\n      <td>1</td>\n    </tr>\n    <tr>\n      <th>14</th>\n      <td>0.5</td>\n      <td>1.0</td>\n      <td>0</td>\n      <td>0.947124</td>\n      <td>314.68150</td>\n      <td>0</td>\n      <td>0</td>\n      <td>1</td>\n    </tr>\n    <tr>\n      <th>15</th>\n      <td>0.5</td>\n      <td>1.0</td>\n      <td>0</td>\n      <td>0.966568</td>\n      <td>281.10310</td>\n      <td>0</td>\n      <td>0</td>\n      <td>1</td>\n    </tr>\n    <tr>\n      <th>16</th>\n      <td>0.5</td>\n      <td>1.0</td>\n      <td>0</td>\n      <td>0.986417</td>\n      <td>251.33860</td>\n      <td>0</td>\n      <td>0</td>\n      <td>1</td>\n    </tr>\n    <tr>\n      <th>17</th>\n      <td>0.5</td>\n      <td>1.0</td>\n      <td>0</td>\n      <td>1.006225</td>\n      <td>226.02760</td>\n      <td>0</td>\n      <td>0</td>\n      <td>1</td>\n    </tr>\n    <tr>\n      <th>18</th>\n      <td>0.5</td>\n      <td>1.0</td>\n      <td>0</td>\n      <td>1.025679</td>\n      <td>205.07110</td>\n      <td>0</td>\n      <td>0</td>\n      <td>1</td>\n    </tr>\n    <tr>\n      <th>19</th>\n      <td>0.5</td>\n      <td>1.0</td>\n      <td>0</td>\n      <td>1.048664</td>\n      <td>184.52760</td>\n      <td>0</td>\n      <td>0</td>\n      <td>1</td>\n    </tr>\n    <tr>\n      <th>20</th>\n      <td>0.5</td>\n      <td>1.0</td>\n      <td>0</td>\n      <td>1.073196</td>\n      <td>166.17430</td>\n      <td>0</td>\n      <td>0</td>\n      <td>1</td>\n    </tr>\n    <tr>\n      <th>21</th>\n      <td>0.5</td>\n      <td>1.0</td>\n      <td>0</td>\n      <td>1.108821</td>\n      <td>143.37730</td>\n      <td>0</td>\n      <td>0</td>\n      <td>1</td>\n    </tr>\n    <tr>\n      <th>22</th>\n      <td>0.5</td>\n      <td>1.0</td>\n      <td>0</td>\n      <td>1.156518</td>\n      <td>116.69450</td>\n      <td>0</td>\n      <td>0</td>\n      <td>1</td>\n    </tr>\n    <tr>\n      <th>23</th>\n      <td>0.5</td>\n      <td>1.0</td>\n      <td>0</td>\n      <td>1.227624</td>\n      <td>79.94161</td>\n      <td>0</td>\n      <td>0</td>\n      <td>1</td>\n    </tr>\n    <tr>\n      <th>24</th>\n      <td>0.5</td>\n      <td>1.0</td>\n      <td>0</td>\n      <td>1.252754</td>\n      <td>68.08047</td>\n      <td>0</td>\n      <td>0</td>\n      <td>1</td>\n    </tr>\n    <tr>\n      <th>25</th>\n      <td>0.5</td>\n      <td>1.0</td>\n      <td>0</td>\n      <td>1.278528</td>\n      <td>56.94484</td>\n      <td>0</td>\n      <td>0</td>\n      <td>1</td>\n    </tr>\n    <tr>\n      <th>26</th>\n      <td>0.5</td>\n      <td>1.0</td>\n      <td>0</td>\n      <td>1.321861</td>\n      <td>40.67422</td>\n      <td>0</td>\n      <td>0</td>\n      <td>1</td>\n    </tr>\n    <tr>\n      <th>27</th>\n      <td>0.5</td>\n      <td>1.0</td>\n      <td>0</td>\n      <td>1.345147</td>\n      <td>33.06606</td>\n      <td>0</td>\n      <td>0</td>\n      <td>1</td>\n    </tr>\n    <tr>\n      <th>28</th>\n      <td>0.5</td>\n      <td>1.0</td>\n      <td>0</td>\n      <td>1.368550</td>\n      <td>26.09805</td>\n      <td>0</td>\n      <td>0</td>\n      <td>1</td>\n    </tr>\n    <tr>\n      <th>29</th>\n      <td>0.5</td>\n      <td>1.0</td>\n      <td>0</td>\n      <td>1.395020</td>\n      <td>18.93172</td>\n      <td>0</td>\n      <td>0</td>\n      <td>1</td>\n    </tr>\n  </tbody>\n</table>\n</div>"
     },
     "execution_count": 6,
     "metadata": {},
     "output_type": "execute_result"
    }
   ],
   "source": [
    "dataset.head(30)"
   ],
   "metadata": {
    "collapsed": false,
    "ExecuteTime": {
     "end_time": "2024-08-15T04:10:48.540577900Z",
     "start_time": "2024-08-15T04:10:48.434449300Z"
    }
   }
  },
  {
   "cell_type": "code",
   "execution_count": 7,
   "metadata": {
    "ExecuteTime": {
     "end_time": "2024-08-15T04:10:48.670708500Z",
     "start_time": "2024-08-15T04:10:48.541577800Z"
    }
   },
   "outputs": [
    {
     "name": "stdout",
     "output_type": "stream",
     "text": [
      "(71701, 7) (71701,)\n"
     ]
    }
   ],
   "source": [
    "y = dataset['Pressure']\n",
    "X = dataset.drop(['Pressure'], axis=1)\n",
    "print(X.shape, y.shape)"
   ]
  },
  {
   "cell_type": "code",
   "execution_count": 8,
   "metadata": {
    "ExecuteTime": {
     "end_time": "2024-08-15T04:10:48.800842400Z",
     "start_time": "2024-08-15T04:10:48.615661200Z"
    }
   },
   "outputs": [],
   "source": [
    "# convert to numpy array\n",
    "X = np.array(X)\n",
    "y = np.array(y)"
   ]
  },
  {
   "cell_type": "code",
   "execution_count": 9,
   "metadata": {
    "colab": {},
    "colab_type": "code",
    "id": "L5edeb2r_agx",
    "ExecuteTime": {
     "end_time": "2024-08-15T04:10:50.048631500Z",
     "start_time": "2024-08-15T04:10:48.800842400Z"
    }
   },
   "outputs": [],
   "source": [
    "from sklearn.model_selection import train_test_split\n",
    "X_train, X_test, y_train, y_test = train_test_split(X,\n",
    "                                                    y,\n",
    "                                                    test_size = 0.4,\n",
    "                                                    random_state = 0)"
   ]
  },
  {
   "cell_type": "code",
   "execution_count": 10,
   "metadata": {
    "colab": {},
    "colab_type": "code",
    "id": "L5edeb2r_agx",
    "ExecuteTime": {
     "end_time": "2024-08-15T04:10:50.062665900Z",
     "start_time": "2024-08-15T04:10:50.051632400Z"
    }
   },
   "outputs": [],
   "source": [
    "X_val, X_test, y_val, y_test = train_test_split(X_test,\n",
    "                                                y_test,\n",
    "                                                test_size = 0.5,\n",
    "                                                random_state = 0)"
   ]
  },
  {
   "cell_type": "code",
   "execution_count": 11,
   "outputs": [
    {
     "name": "stdout",
     "output_type": "stream",
     "text": [
      "[[ 1.39645554 -0.00313219  0.44366331 ...  0.          0.\n",
      "   1.        ]\n",
      " [-1.14818828  1.15514949 -0.45761617 ...  0.          0.\n",
      "   1.        ]\n",
      " [ 0.41774638 -0.77531997 -0.45761617 ...  0.          0.\n",
      "   1.        ]\n",
      " ...\n",
      " [-0.36522095  0.3829617  -0.45761617 ...  0.          0.\n",
      "   1.        ]\n",
      " [ 0.02626271  0.3829617  -1.35889565 ...  1.          0.\n",
      "   0.        ]\n",
      " [ 0.41774638  1.54124338  0.44366331 ...  1.          0.\n",
      "   0.        ]]\n"
     ]
    }
   ],
   "source": [
    "from sklearn.preprocessing import StandardScaler\n",
    "sc = StandardScaler()\n",
    "X_train[:,0:4] = sc.fit_transform(X_train[:, 0:4])\n",
    "print (X_train)"
   ],
   "metadata": {
    "collapsed": false,
    "ExecuteTime": {
     "end_time": "2024-08-15T04:10:50.230274700Z",
     "start_time": "2024-08-15T04:10:50.066664300Z"
    }
   }
  },
  {
   "cell_type": "code",
   "execution_count": 12,
   "outputs": [
    {
     "name": "stdout",
     "output_type": "stream",
     "text": [
      "[[ 0.02626271  1.54124338  1.34494279 ...  0.          0.\n",
      "   1.        ]\n",
      " [ 0.22200454 -0.38922608 -0.45761617 ...  0.          0.\n",
      "   1.        ]\n",
      " [-0.56096278  0.7690556  -1.35889565 ...  0.          1.\n",
      "   0.        ]\n",
      " ...\n",
      " [ 0.80923004 -1.54750776 -0.45761617 ...  0.          0.\n",
      "   1.        ]\n",
      " [ 1.00497187  0.3829617  -0.45761617 ...  0.          0.\n",
      "   1.        ]\n",
      " [ 1.2007137  -1.54750776  1.34494279 ...  0.          0.\n",
      "   1.        ]]\n"
     ]
    }
   ],
   "source": [
    "X_test[:,0:4] = sc.transform(X_test[:,0:4])\n",
    "print (X_test)"
   ],
   "metadata": {
    "collapsed": false,
    "ExecuteTime": {
     "end_time": "2024-08-15T04:10:50.338883600Z",
     "start_time": "2024-08-15T04:10:50.232270Z"
    }
   }
  },
  {
   "cell_type": "code",
   "execution_count": 13,
   "outputs": [
    {
     "name": "stdout",
     "output_type": "stream",
     "text": [
      "[[-1.14818828 -0.77531997  0.44366331 ...  0.          0.\n",
      "   1.        ]\n",
      " [ 0.61348821 -0.38922608 -1.35889565 ...  1.          0.\n",
      "   0.        ]\n",
      " [ 1.39645554  0.7690556  -1.35889565 ...  0.          0.\n",
      "   1.        ]\n",
      " ...\n",
      " [ 0.02626271  1.54124338  1.34494279 ...  0.          0.\n",
      "   1.        ]\n",
      " [ 0.41774638 -0.00313219 -1.35889565 ...  0.          0.\n",
      "   1.        ]\n",
      " [ 0.41774638  1.15514949 -1.35889565 ...  0.          0.\n",
      "   1.        ]]\n"
     ]
    }
   ],
   "source": [
    "X_val[:,0:4] = sc.transform(X_val[:,0:4])\n",
    "print (X_val)"
   ],
   "metadata": {
    "collapsed": false,
    "ExecuteTime": {
     "end_time": "2024-08-15T04:10:50.446033500Z",
     "start_time": "2024-08-15T04:10:50.342889300Z"
    }
   }
  },
  {
   "cell_type": "code",
   "execution_count": 14,
   "outputs": [
    {
     "name": "stdout",
     "output_type": "stream",
     "text": [
      "X_train 43020\n",
      "X_test 14341\n",
      "X_val 14340\n"
     ]
    }
   ],
   "source": [
    "print (\"X_train\", len(X_train))\n",
    "print (\"X_test\", len(X_test))\n",
    "print (\"X_val\", len(X_val))"
   ],
   "metadata": {
    "collapsed": false,
    "ExecuteTime": {
     "end_time": "2024-08-15T04:10:50.568163200Z",
     "start_time": "2024-08-15T04:10:50.454046Z"
    }
   }
  },
  {
   "cell_type": "markdown",
   "metadata": {
    "colab_type": "text",
    "id": "_mSLlAT9_eyI"
   },
   "source": [
    "## Part 3 - Building the ANN"
   ]
  },
  {
   "cell_type": "code",
   "execution_count": 15,
   "metadata": {
    "colab": {},
    "colab_type": "code",
    "id": "J6Hd97Ls__Nz",
    "ExecuteTime": {
     "end_time": "2024-08-15T04:10:50.750360200Z",
     "start_time": "2024-08-15T04:10:50.569164300Z"
    }
   },
   "outputs": [],
   "source": [
    "ann = tf.keras.models.Sequential()"
   ]
  },
  {
   "cell_type": "code",
   "execution_count": 16,
   "metadata": {
    "colab": {},
    "colab_type": "code",
    "id": "ksO_Vv40AHix",
    "ExecuteTime": {
     "end_time": "2024-08-15T04:10:51.027628900Z",
     "start_time": "2024-08-15T04:10:50.756364900Z"
    }
   },
   "outputs": [],
   "source": [
    "ann.add(tf.keras.layers.Dense(units=250,\n",
    "                              input_shape=(X_train.shape[1],),\n",
    "                              activation='relu'))\n",
    "ann.add(tf.keras.layers.Dense(units=225,\n",
    "                              activation='relu'))\n",
    "ann.add(tf.keras.layers.Dense(units=200,\n",
    "                              activation='relu'))\n",
    "ann.add(tf.keras.layers.Dense(units=175,\n",
    "                              activation='relu'))\n",
    "ann.add(tf.keras.layers.Dense(units=150,\n",
    "                              activation='relu'))\n",
    "ann.add(tf.keras.layers.Dense(units=125,\n",
    "                              activation='relu'))\n",
    "ann.add(tf.keras.layers.Dense(units=100,\n",
    "                              activation='relu'))"
   ]
  },
  {
   "cell_type": "code",
   "execution_count": 17,
   "metadata": {
    "colab": {},
    "colab_type": "code",
    "id": "YFATpzsUAkLL",
    "ExecuteTime": {
     "end_time": "2024-08-15T04:10:51.116198300Z",
     "start_time": "2024-08-15T04:10:51.028630800Z"
    }
   },
   "outputs": [],
   "source": [
    "ann.add(tf.keras.layers.Dense(units=1,\n",
    "                              activation='linear'))"
   ]
  },
  {
   "cell_type": "code",
   "execution_count": 18,
   "metadata": {
    "ExecuteTime": {
     "end_time": "2024-08-15T04:10:51.662506100Z",
     "start_time": "2024-08-15T04:10:51.117199900Z"
    }
   },
   "outputs": [
    {
     "name": "stdout",
     "output_type": "stream",
     "text": [
      "Model: \"sequential\"\n",
      "_________________________________________________________________\n",
      " Layer (type)                Output Shape              Param #   \n",
      "=================================================================\n",
      " dense (Dense)               (None, 250)               2000      \n",
      "                                                                 \n",
      " dense_1 (Dense)             (None, 225)               56475     \n",
      "                                                                 \n",
      " dense_2 (Dense)             (None, 200)               45200     \n",
      "                                                                 \n",
      " dense_3 (Dense)             (None, 175)               35175     \n",
      "                                                                 \n",
      " dense_4 (Dense)             (None, 150)               26400     \n",
      "                                                                 \n",
      " dense_5 (Dense)             (None, 125)               18875     \n",
      "                                                                 \n",
      " dense_6 (Dense)             (None, 100)               12600     \n",
      "                                                                 \n",
      " dense_7 (Dense)             (None, 1)                 101       \n",
      "                                                                 \n",
      "=================================================================\n",
      "Total params: 196,826\n",
      "Trainable params: 196,826\n",
      "Non-trainable params: 0\n",
      "_________________________________________________________________\n"
     ]
    }
   ],
   "source": [
    "ann.summary()"
   ]
  },
  {
   "cell_type": "markdown",
   "metadata": {
    "colab_type": "text",
    "id": "fq7e4fF6A1yy"
   },
   "source": [
    "## Part 4 - Training the ANN"
   ]
  },
  {
   "cell_type": "code",
   "execution_count": 19,
   "metadata": {
    "colab": {},
    "colab_type": "code",
    "id": "pesgbWlCAtB4",
    "ExecuteTime": {
     "end_time": "2024-08-15T04:10:51.971800100Z",
     "start_time": "2024-08-15T04:10:51.599429900Z"
    }
   },
   "outputs": [],
   "source": [
    "# from tensorflow.keras.optimizers import Adam\n",
    "from keras.optimizers import Adam\n",
    "opt = Adam(learning_rate=0.001)\n",
    "ann.compile(optimizer = opt,\n",
    "            loss = 'mean_squared_error',\n",
    "            metrics = ['mae'])"
   ]
  },
  {
   "cell_type": "code",
   "execution_count": 20,
   "metadata": {
    "ExecuteTime": {
     "end_time": "2024-08-15T04:10:52.566817600Z",
     "start_time": "2024-08-15T04:10:51.975798800Z"
    }
   },
   "outputs": [],
   "source": [
    "# protects from unnecessary further training of the model if a particular metric does not continue to improve over a number of n epochs. In such a case, the model training would be automatically aborted.\n",
    "from keras.callbacks import EarlyStopping\n",
    "es = EarlyStopping(monitor='val_loss',\n",
    "                   mode='min',\n",
    "                   patience=50,\n",
    "                   restore_best_weights = True)"
   ]
  },
  {
   "cell_type": "code",
   "execution_count": 21,
   "metadata": {
    "colab": {
     "base_uri": "https://localhost:8080/",
     "height": 1000
    },
    "colab_type": "code",
    "id": "c_vV-tiiA5zn",
    "outputId": "4a2b6ee6-ed75-4698-9069-b250e613803f",
    "ExecuteTime": {
     "end_time": "2024-08-15T04:35:33.180180400Z",
     "start_time": "2024-08-15T04:10:52.567817500Z"
    }
   },
   "outputs": [
    {
     "name": "stdout",
     "output_type": "stream",
     "text": [
      "Epoch 1/500\n",
      "1434/1434 [==============================] - 44s 30ms/step - loss: 4211828.5000 - mae: 681.7892 - val_loss: 1525103.6250 - val_mae: 485.2346\n",
      "Epoch 2/500\n",
      "1434/1434 [==============================] - 12s 9ms/step - loss: 2298336.2500 - mae: 454.4379 - val_loss: 1736044.6250 - val_mae: 502.7853\n",
      "Epoch 3/500\n",
      "1434/1434 [==============================] - 12s 9ms/step - loss: 2067824.0000 - mae: 408.4648 - val_loss: 1270500.1250 - val_mae: 339.0792\n",
      "Epoch 4/500\n",
      "1434/1434 [==============================] - 14s 10ms/step - loss: 1897962.0000 - mae: 397.8472 - val_loss: 1313381.1250 - val_mae: 292.4429\n",
      "Epoch 5/500\n",
      "1434/1434 [==============================] - 13s 9ms/step - loss: 1500905.5000 - mae: 363.7774 - val_loss: 1162131.0000 - val_mae: 303.9152\n",
      "Epoch 6/500\n",
      "1434/1434 [==============================] - 13s 9ms/step - loss: 1704893.6250 - mae: 376.1055 - val_loss: 1280227.7500 - val_mae: 342.7943\n",
      "Epoch 7/500\n",
      "1434/1434 [==============================] - 12s 9ms/step - loss: 1523185.6250 - mae: 354.6224 - val_loss: 2818401.0000 - val_mae: 465.2622\n",
      "Epoch 8/500\n",
      "1434/1434 [==============================] - 13s 9ms/step - loss: 1456358.6250 - mae: 354.4799 - val_loss: 2056433.6250 - val_mae: 389.7013\n",
      "Epoch 9/500\n",
      "1434/1434 [==============================] - 12s 8ms/step - loss: 1400522.1250 - mae: 306.2941 - val_loss: 803541.2500 - val_mae: 234.2254\n",
      "Epoch 10/500\n",
      "1434/1434 [==============================] - 13s 9ms/step - loss: 1208847.1250 - mae: 293.6199 - val_loss: 824865.3750 - val_mae: 238.8570\n",
      "Epoch 11/500\n",
      "1434/1434 [==============================] - 12s 8ms/step - loss: 1094777.8750 - mae: 266.6549 - val_loss: 1295437.7500 - val_mae: 313.2821\n",
      "Epoch 12/500\n",
      "1434/1434 [==============================] - 12s 8ms/step - loss: 1217481.8750 - mae: 286.6306 - val_loss: 1059768.1250 - val_mae: 244.1930\n",
      "Epoch 13/500\n",
      "1434/1434 [==============================] - 14s 10ms/step - loss: 1130706.6250 - mae: 287.4538 - val_loss: 740543.1875 - val_mae: 232.0134\n",
      "Epoch 14/500\n",
      "1434/1434 [==============================] - 13s 9ms/step - loss: 1201671.7500 - mae: 278.4230 - val_loss: 751392.0625 - val_mae: 228.8617\n",
      "Epoch 15/500\n",
      "1434/1434 [==============================] - 14s 9ms/step - loss: 1281792.8750 - mae: 292.4278 - val_loss: 816361.0625 - val_mae: 241.7456\n",
      "Epoch 16/500\n",
      "1434/1434 [==============================] - 12s 8ms/step - loss: 1058603.8750 - mae: 246.6793 - val_loss: 950701.1250 - val_mae: 206.4350\n",
      "Epoch 17/500\n",
      "1434/1434 [==============================] - 13s 9ms/step - loss: 1221435.2500 - mae: 273.1189 - val_loss: 930901.8750 - val_mae: 252.0720\n",
      "Epoch 18/500\n",
      "1434/1434 [==============================] - 13s 9ms/step - loss: 1066315.0000 - mae: 252.5399 - val_loss: 857160.9375 - val_mae: 207.1224\n",
      "Epoch 19/500\n",
      "1434/1434 [==============================] - 13s 9ms/step - loss: 1017634.1875 - mae: 245.7215 - val_loss: 688116.5000 - val_mae: 193.1714\n",
      "Epoch 20/500\n",
      "1434/1434 [==============================] - 14s 10ms/step - loss: 1022197.9375 - mae: 253.8407 - val_loss: 983113.2500 - val_mae: 190.3279\n",
      "Epoch 21/500\n",
      "1434/1434 [==============================] - 13s 9ms/step - loss: 1319163.8750 - mae: 310.1992 - val_loss: 729705.8125 - val_mae: 243.4355\n",
      "Epoch 22/500\n",
      "1434/1434 [==============================] - 13s 9ms/step - loss: 1091848.7500 - mae: 269.1988 - val_loss: 749744.5625 - val_mae: 216.2045\n",
      "Epoch 23/500\n",
      "1434/1434 [==============================] - 12s 9ms/step - loss: 1051482.6250 - mae: 255.3843 - val_loss: 926105.1875 - val_mae: 199.0101\n",
      "Epoch 24/500\n",
      "1434/1434 [==============================] - 13s 9ms/step - loss: 1017197.5000 - mae: 249.9046 - val_loss: 773470.5625 - val_mae: 237.2606\n",
      "Epoch 25/500\n",
      "1434/1434 [==============================] - 11s 7ms/step - loss: 1028284.6250 - mae: 246.2932 - val_loss: 756788.0625 - val_mae: 187.7272\n",
      "Epoch 26/500\n",
      "1434/1434 [==============================] - 13s 9ms/step - loss: 958514.7500 - mae: 243.0000 - val_loss: 758181.3750 - val_mae: 220.4784\n",
      "Epoch 27/500\n",
      "1434/1434 [==============================] - 12s 9ms/step - loss: 1076460.0000 - mae: 258.6486 - val_loss: 897086.9375 - val_mae: 256.7186\n",
      "Epoch 28/500\n",
      "1434/1434 [==============================] - 12s 9ms/step - loss: 1047833.0625 - mae: 257.0525 - val_loss: 862221.5000 - val_mae: 281.6641\n",
      "Epoch 29/500\n",
      "1434/1434 [==============================] - 13s 9ms/step - loss: 952062.4375 - mae: 251.7062 - val_loss: 786911.1250 - val_mae: 178.2962\n",
      "Epoch 30/500\n",
      "1434/1434 [==============================] - 12s 8ms/step - loss: 893880.8750 - mae: 221.6531 - val_loss: 661206.0000 - val_mae: 175.3145\n",
      "Epoch 31/500\n",
      "1434/1434 [==============================] - 11s 8ms/step - loss: 886141.0625 - mae: 228.0568 - val_loss: 723619.9375 - val_mae: 179.3453\n",
      "Epoch 32/500\n",
      "1434/1434 [==============================] - 13s 9ms/step - loss: 1058341.1250 - mae: 249.9401 - val_loss: 864344.0000 - val_mae: 226.5812\n",
      "Epoch 33/500\n",
      "1434/1434 [==============================] - 10s 7ms/step - loss: 827090.8750 - mae: 211.6622 - val_loss: 1434729.8750 - val_mae: 307.4386\n",
      "Epoch 34/500\n",
      "1434/1434 [==============================] - 10s 7ms/step - loss: 1003041.6875 - mae: 238.2843 - val_loss: 1069952.2500 - val_mae: 210.3988\n",
      "Epoch 35/500\n",
      "1434/1434 [==============================] - 10s 7ms/step - loss: 945427.0625 - mae: 237.2357 - val_loss: 797121.4375 - val_mae: 205.8672\n",
      "Epoch 36/500\n",
      "1434/1434 [==============================] - 12s 8ms/step - loss: 908349.3125 - mae: 228.7512 - val_loss: 621588.6875 - val_mae: 201.4746\n",
      "Epoch 37/500\n",
      "1434/1434 [==============================] - 12s 9ms/step - loss: 971475.6250 - mae: 228.5389 - val_loss: 722843.4375 - val_mae: 188.5522\n",
      "Epoch 38/500\n",
      "1434/1434 [==============================] - 12s 8ms/step - loss: 902317.5000 - mae: 223.8256 - val_loss: 516429.9688 - val_mae: 144.4224\n",
      "Epoch 39/500\n",
      "1434/1434 [==============================] - 13s 9ms/step - loss: 978833.3750 - mae: 229.9480 - val_loss: 643829.9375 - val_mae: 180.7976\n",
      "Epoch 40/500\n",
      "1434/1434 [==============================] - 13s 9ms/step - loss: 893792.3125 - mae: 219.7402 - val_loss: 691454.0000 - val_mae: 184.2495\n",
      "Epoch 41/500\n",
      "1434/1434 [==============================] - 13s 9ms/step - loss: 906929.4375 - mae: 223.2439 - val_loss: 1053304.1250 - val_mae: 258.4132\n",
      "Epoch 42/500\n",
      "1434/1434 [==============================] - 11s 8ms/step - loss: 850894.1250 - mae: 198.8998 - val_loss: 1109151.0000 - val_mae: 256.3951\n",
      "Epoch 43/500\n",
      "1434/1434 [==============================] - 10s 7ms/step - loss: 887454.6875 - mae: 223.8488 - val_loss: 616926.9375 - val_mae: 166.7128\n",
      "Epoch 44/500\n",
      "1434/1434 [==============================] - 9s 6ms/step - loss: 811780.0000 - mae: 206.2227 - val_loss: 452944.5625 - val_mae: 143.7714\n",
      "Epoch 45/500\n",
      "1434/1434 [==============================] - 10s 7ms/step - loss: 876383.3125 - mae: 206.4180 - val_loss: 598737.8125 - val_mae: 175.2985\n",
      "Epoch 46/500\n",
      "1434/1434 [==============================] - 9s 6ms/step - loss: 815847.6875 - mae: 211.1617 - val_loss: 1878676.5000 - val_mae: 319.1745\n",
      "Epoch 47/500\n",
      "1434/1434 [==============================] - 8s 6ms/step - loss: 873770.7500 - mae: 214.0051 - val_loss: 682911.1250 - val_mae: 197.3661\n",
      "Epoch 48/500\n",
      "1434/1434 [==============================] - 9s 6ms/step - loss: 907227.3125 - mae: 216.1698 - val_loss: 758288.6875 - val_mae: 201.6264\n",
      "Epoch 49/500\n",
      "1434/1434 [==============================] - 9s 6ms/step - loss: 829040.3125 - mae: 208.5891 - val_loss: 570150.6250 - val_mae: 174.3230\n",
      "Epoch 50/500\n",
      "1434/1434 [==============================] - 9s 6ms/step - loss: 829392.0000 - mae: 208.4766 - val_loss: 1316170.0000 - val_mae: 325.6909\n",
      "Epoch 51/500\n",
      "1434/1434 [==============================] - 11s 7ms/step - loss: 810940.5625 - mae: 202.6893 - val_loss: 488255.8750 - val_mae: 161.2595\n",
      "Epoch 52/500\n",
      "1434/1434 [==============================] - 10s 7ms/step - loss: 932931.3125 - mae: 224.0688 - val_loss: 742057.6875 - val_mae: 185.9608\n",
      "Epoch 53/500\n",
      "1434/1434 [==============================] - 9s 6ms/step - loss: 914534.1875 - mae: 218.0732 - val_loss: 597778.2500 - val_mae: 189.9348\n",
      "Epoch 54/500\n",
      "1434/1434 [==============================] - 10s 7ms/step - loss: 774977.5000 - mae: 204.5698 - val_loss: 535283.8750 - val_mae: 158.3344\n",
      "Epoch 55/500\n",
      "1434/1434 [==============================] - 10s 7ms/step - loss: 810365.2500 - mae: 206.4163 - val_loss: 865632.2500 - val_mae: 190.0113\n",
      "Epoch 56/500\n",
      "1434/1434 [==============================] - 10s 7ms/step - loss: 962995.3125 - mae: 228.0754 - val_loss: 1184335.1250 - val_mae: 293.8550\n",
      "Epoch 57/500\n",
      "1434/1434 [==============================] - 10s 7ms/step - loss: 782854.6875 - mae: 194.8422 - val_loss: 563555.6250 - val_mae: 186.4025\n",
      "Epoch 58/500\n",
      "1434/1434 [==============================] - 9s 6ms/step - loss: 796643.6875 - mae: 201.7689 - val_loss: 962444.6250 - val_mae: 235.5211\n",
      "Epoch 59/500\n",
      "1434/1434 [==============================] - 11s 8ms/step - loss: 713073.0000 - mae: 191.2839 - val_loss: 1384105.0000 - val_mae: 305.6749\n",
      "Epoch 60/500\n",
      "1434/1434 [==============================] - 10s 7ms/step - loss: 831694.4375 - mae: 211.4177 - val_loss: 874997.0625 - val_mae: 217.4422\n",
      "Epoch 61/500\n",
      "1434/1434 [==============================] - 9s 7ms/step - loss: 855735.8750 - mae: 207.2996 - val_loss: 594805.0625 - val_mae: 184.3271\n",
      "Epoch 62/500\n",
      "1434/1434 [==============================] - 10s 7ms/step - loss: 855633.5625 - mae: 205.5988 - val_loss: 968964.8750 - val_mae: 213.9302\n",
      "Epoch 63/500\n",
      "1434/1434 [==============================] - 10s 7ms/step - loss: 800023.5625 - mae: 203.7150 - val_loss: 737277.6250 - val_mae: 216.4758\n",
      "Epoch 64/500\n",
      "1434/1434 [==============================] - 10s 7ms/step - loss: 813271.7500 - mae: 202.1137 - val_loss: 756419.2500 - val_mae: 173.0658\n",
      "Epoch 65/500\n",
      "1434/1434 [==============================] - 9s 6ms/step - loss: 715017.4375 - mae: 191.4646 - val_loss: 999907.0000 - val_mae: 238.0889\n",
      "Epoch 66/500\n",
      "1434/1434 [==============================] - 10s 7ms/step - loss: 842387.0625 - mae: 211.0034 - val_loss: 587001.3750 - val_mae: 144.7996\n",
      "Epoch 67/500\n",
      "1434/1434 [==============================] - 9s 6ms/step - loss: 833523.0625 - mae: 204.6924 - val_loss: 767030.8125 - val_mae: 174.4131\n",
      "Epoch 68/500\n",
      "1434/1434 [==============================] - 9s 6ms/step - loss: 872146.1875 - mae: 215.6609 - val_loss: 675126.0000 - val_mae: 209.6809\n",
      "Epoch 69/500\n",
      "1434/1434 [==============================] - 9s 6ms/step - loss: 834828.3125 - mae: 206.6950 - val_loss: 1010450.4375 - val_mae: 365.8787\n",
      "Epoch 70/500\n",
      "1434/1434 [==============================] - 10s 7ms/step - loss: 827443.6250 - mae: 200.3222 - val_loss: 676541.3750 - val_mae: 198.5982\n",
      "Epoch 71/500\n",
      "1434/1434 [==============================] - 10s 7ms/step - loss: 853141.0000 - mae: 201.0879 - val_loss: 711957.2500 - val_mae: 185.3132\n",
      "Epoch 72/500\n",
      "1434/1434 [==============================] - 10s 7ms/step - loss: 788419.5000 - mae: 196.7049 - val_loss: 732428.6250 - val_mae: 173.9221\n",
      "Epoch 73/500\n",
      "1434/1434 [==============================] - 9s 6ms/step - loss: 757605.9375 - mae: 188.3188 - val_loss: 982063.6250 - val_mae: 261.9049\n",
      "Epoch 74/500\n",
      "1434/1434 [==============================] - 9s 6ms/step - loss: 815793.4375 - mae: 201.3250 - val_loss: 1782570.3750 - val_mae: 329.7409\n",
      "Epoch 75/500\n",
      "1434/1434 [==============================] - 9s 6ms/step - loss: 716539.6250 - mae: 184.8075 - val_loss: 549246.6250 - val_mae: 168.9555\n",
      "Epoch 76/500\n",
      "1434/1434 [==============================] - 10s 7ms/step - loss: 770353.7500 - mae: 198.4197 - val_loss: 980899.8125 - val_mae: 246.3371\n",
      "Epoch 77/500\n",
      "1434/1434 [==============================] - 9s 6ms/step - loss: 882608.3750 - mae: 207.9937 - val_loss: 1265961.6250 - val_mae: 280.1371\n",
      "Epoch 78/500\n",
      "1434/1434 [==============================] - 9s 6ms/step - loss: 810961.7500 - mae: 201.7117 - val_loss: 474574.9062 - val_mae: 142.7614\n",
      "Epoch 79/500\n",
      "1434/1434 [==============================] - 9s 7ms/step - loss: 930819.3125 - mae: 222.9574 - val_loss: 424606.3438 - val_mae: 135.0370\n",
      "Epoch 80/500\n",
      "1434/1434 [==============================] - 9s 6ms/step - loss: 822590.1250 - mae: 204.3290 - val_loss: 724942.6875 - val_mae: 161.0616\n",
      "Epoch 81/500\n",
      "1434/1434 [==============================] - 9s 6ms/step - loss: 688817.1875 - mae: 177.9430 - val_loss: 728643.7500 - val_mae: 196.9665\n",
      "Epoch 82/500\n",
      "1434/1434 [==============================] - 9s 6ms/step - loss: 802073.4375 - mae: 206.2557 - val_loss: 1175551.0000 - val_mae: 321.3673\n",
      "Epoch 83/500\n",
      "1434/1434 [==============================] - 9s 6ms/step - loss: 762121.6250 - mae: 194.0196 - val_loss: 608333.3125 - val_mae: 181.2574\n",
      "Epoch 84/500\n",
      "1434/1434 [==============================] - 10s 7ms/step - loss: 749491.3750 - mae: 184.5199 - val_loss: 1125104.1250 - val_mae: 288.9229\n",
      "Epoch 85/500\n",
      "1434/1434 [==============================] - 9s 6ms/step - loss: 744311.1875 - mae: 186.9806 - val_loss: 547410.7500 - val_mae: 129.0536\n",
      "Epoch 86/500\n",
      "1434/1434 [==============================] - 10s 7ms/step - loss: 739323.8750 - mae: 187.6711 - val_loss: 483136.4375 - val_mae: 131.2424\n",
      "Epoch 87/500\n",
      "1434/1434 [==============================] - 10s 7ms/step - loss: 783115.1250 - mae: 191.0992 - val_loss: 570406.6250 - val_mae: 140.8903\n",
      "Epoch 88/500\n",
      "1434/1434 [==============================] - 9s 6ms/step - loss: 737562.9375 - mae: 189.7988 - val_loss: 623611.4375 - val_mae: 188.4317\n",
      "Epoch 89/500\n",
      "1434/1434 [==============================] - 9s 6ms/step - loss: 739714.2500 - mae: 181.4993 - val_loss: 989445.1250 - val_mae: 251.9272\n",
      "Epoch 90/500\n",
      "1434/1434 [==============================] - 10s 7ms/step - loss: 768534.5625 - mae: 191.0306 - val_loss: 421458.8438 - val_mae: 136.7236\n",
      "Epoch 91/500\n",
      "1434/1434 [==============================] - 10s 7ms/step - loss: 777098.1250 - mae: 190.9862 - val_loss: 851249.6250 - val_mae: 207.3024\n",
      "Epoch 92/500\n",
      "1434/1434 [==============================] - 9s 6ms/step - loss: 738669.6875 - mae: 184.8543 - val_loss: 1042146.3125 - val_mae: 251.1113\n",
      "Epoch 93/500\n",
      "1434/1434 [==============================] - 10s 7ms/step - loss: 823129.5625 - mae: 202.3380 - val_loss: 608455.0000 - val_mae: 151.9117\n",
      "Epoch 94/500\n",
      "1434/1434 [==============================] - 10s 7ms/step - loss: 759825.5625 - mae: 181.5664 - val_loss: 492215.9062 - val_mae: 161.4494\n",
      "Epoch 95/500\n",
      "1434/1434 [==============================] - 9s 6ms/step - loss: 722275.8750 - mae: 191.1953 - val_loss: 519671.7500 - val_mae: 136.9774\n",
      "Epoch 96/500\n",
      "1434/1434 [==============================] - 10s 7ms/step - loss: 782458.8125 - mae: 184.0888 - val_loss: 721606.5625 - val_mae: 236.0406\n",
      "Epoch 97/500\n",
      "1434/1434 [==============================] - 10s 7ms/step - loss: 798391.5625 - mae: 198.8689 - val_loss: 608655.0625 - val_mae: 143.0304\n",
      "Epoch 98/500\n",
      "1434/1434 [==============================] - 10s 7ms/step - loss: 665157.6250 - mae: 175.2721 - val_loss: 425572.1250 - val_mae: 125.7894\n",
      "Epoch 99/500\n",
      "1434/1434 [==============================] - 9s 6ms/step - loss: 789216.4375 - mae: 188.1201 - val_loss: 1662543.3750 - val_mae: 243.8347\n",
      "Epoch 100/500\n",
      "1434/1434 [==============================] - 10s 7ms/step - loss: 732413.1875 - mae: 189.1664 - val_loss: 425527.3125 - val_mae: 138.0890\n",
      "Epoch 101/500\n",
      "1434/1434 [==============================] - 10s 7ms/step - loss: 786053.5625 - mae: 192.6617 - val_loss: 682680.3125 - val_mae: 170.6834\n",
      "Epoch 102/500\n",
      "1434/1434 [==============================] - 10s 7ms/step - loss: 728883.5625 - mae: 188.9371 - val_loss: 518399.5938 - val_mae: 151.8068\n",
      "Epoch 103/500\n",
      "1434/1434 [==============================] - 10s 7ms/step - loss: 782754.0625 - mae: 191.5975 - val_loss: 517313.8438 - val_mae: 140.8410\n",
      "Epoch 104/500\n",
      "1434/1434 [==============================] - 9s 6ms/step - loss: 769989.3125 - mae: 195.2686 - val_loss: 2177660.7500 - val_mae: 404.9689\n",
      "Epoch 105/500\n",
      "1434/1434 [==============================] - 9s 6ms/step - loss: 785704.5000 - mae: 207.7855 - val_loss: 580899.3750 - val_mae: 218.5087\n",
      "Epoch 106/500\n",
      "1434/1434 [==============================] - 10s 7ms/step - loss: 763382.9375 - mae: 193.6494 - val_loss: 459183.2812 - val_mae: 140.7759\n",
      "Epoch 107/500\n",
      "1434/1434 [==============================] - 10s 7ms/step - loss: 765246.7500 - mae: 187.9386 - val_loss: 491642.6875 - val_mae: 152.4498\n",
      "Epoch 108/500\n",
      "1434/1434 [==============================] - 10s 7ms/step - loss: 671783.9375 - mae: 171.1315 - val_loss: 681086.8125 - val_mae: 148.2017\n",
      "Epoch 109/500\n",
      "1434/1434 [==============================] - 9s 6ms/step - loss: 753961.5000 - mae: 190.5167 - val_loss: 1011352.2500 - val_mae: 210.3191\n",
      "Epoch 110/500\n",
      "1434/1434 [==============================] - 10s 7ms/step - loss: 741923.6250 - mae: 195.7263 - val_loss: 660202.2500 - val_mae: 192.0470\n",
      "Epoch 111/500\n",
      "1434/1434 [==============================] - 9s 6ms/step - loss: 755015.7500 - mae: 190.6328 - val_loss: 855015.4375 - val_mae: 167.0798\n",
      "Epoch 112/500\n",
      "1434/1434 [==============================] - 9s 6ms/step - loss: 725078.5625 - mae: 184.8582 - val_loss: 811319.5625 - val_mae: 204.7389\n",
      "Epoch 113/500\n",
      "1434/1434 [==============================] - 9s 6ms/step - loss: 686810.6250 - mae: 178.3832 - val_loss: 495735.2500 - val_mae: 142.2247\n",
      "Epoch 114/500\n",
      "1434/1434 [==============================] - 10s 7ms/step - loss: 793801.6875 - mae: 189.2558 - val_loss: 848418.0625 - val_mae: 207.8460\n",
      "Epoch 115/500\n",
      "1434/1434 [==============================] - 9s 7ms/step - loss: 658451.6875 - mae: 177.3422 - val_loss: 432549.6250 - val_mae: 132.6652\n",
      "Epoch 116/500\n",
      "1434/1434 [==============================] - 10s 7ms/step - loss: 785713.1250 - mae: 192.0398 - val_loss: 663957.3125 - val_mae: 158.6348\n",
      "Epoch 117/500\n",
      "1434/1434 [==============================] - 10s 7ms/step - loss: 659656.2500 - mae: 166.3375 - val_loss: 875392.2500 - val_mae: 229.8169\n",
      "Epoch 118/500\n",
      "1434/1434 [==============================] - 9s 6ms/step - loss: 718900.6250 - mae: 184.6753 - val_loss: 530830.1250 - val_mae: 127.7911\n",
      "Epoch 119/500\n",
      "1434/1434 [==============================] - 10s 7ms/step - loss: 682221.4375 - mae: 176.1326 - val_loss: 488263.8125 - val_mae: 181.2599\n",
      "Epoch 120/500\n",
      "1434/1434 [==============================] - 10s 7ms/step - loss: 672506.6250 - mae: 172.2890 - val_loss: 543692.2500 - val_mae: 135.4383\n",
      "Epoch 121/500\n",
      "1434/1434 [==============================] - 10s 7ms/step - loss: 763815.1875 - mae: 194.1583 - val_loss: 483379.5625 - val_mae: 129.4130\n",
      "Epoch 122/500\n",
      "1434/1434 [==============================] - 9s 7ms/step - loss: 798510.6875 - mae: 186.3942 - val_loss: 500689.7500 - val_mae: 139.4520\n",
      "Epoch 123/500\n",
      "1434/1434 [==============================] - 9s 6ms/step - loss: 712451.4375 - mae: 184.5723 - val_loss: 989660.1250 - val_mae: 223.6350\n",
      "Epoch 124/500\n",
      "1434/1434 [==============================] - 9s 6ms/step - loss: 750814.8125 - mae: 191.9452 - val_loss: 518761.9062 - val_mae: 167.2128\n",
      "Epoch 125/500\n",
      "1434/1434 [==============================] - 9s 6ms/step - loss: 717771.0625 - mae: 182.4759 - val_loss: 511767.5312 - val_mae: 154.3396\n",
      "Epoch 126/500\n",
      "1434/1434 [==============================] - 9s 6ms/step - loss: 729155.3125 - mae: 184.3548 - val_loss: 939528.3125 - val_mae: 252.1562\n",
      "Epoch 127/500\n",
      "1434/1434 [==============================] - 9s 6ms/step - loss: 690891.6875 - mae: 172.9922 - val_loss: 1048069.5625 - val_mae: 252.1201\n",
      "Epoch 128/500\n",
      "1434/1434 [==============================] - 10s 7ms/step - loss: 694857.6250 - mae: 169.0568 - val_loss: 536210.6250 - val_mae: 123.4103\n",
      "Epoch 129/500\n",
      "1434/1434 [==============================] - 10s 7ms/step - loss: 734091.8750 - mae: 191.0870 - val_loss: 612820.5000 - val_mae: 197.1482\n",
      "Epoch 130/500\n",
      "1434/1434 [==============================] - 10s 7ms/step - loss: 743366.8125 - mae: 197.8467 - val_loss: 505819.7812 - val_mae: 176.4287\n",
      "Epoch 131/500\n",
      "1434/1434 [==============================] - 10s 7ms/step - loss: 762406.0625 - mae: 194.8376 - val_loss: 598807.8750 - val_mae: 201.2018\n",
      "Epoch 132/500\n",
      "1434/1434 [==============================] - 9s 6ms/step - loss: 723403.6875 - mae: 188.0188 - val_loss: 661531.5000 - val_mae: 155.6643\n",
      "Epoch 133/500\n",
      "1434/1434 [==============================] - 9s 7ms/step - loss: 711021.5000 - mae: 177.3597 - val_loss: 1038357.5000 - val_mae: 216.0009\n",
      "Epoch 134/500\n",
      "1434/1434 [==============================] - 9s 7ms/step - loss: 743834.3125 - mae: 177.7935 - val_loss: 2368224.2500 - val_mae: 365.7908\n",
      "Epoch 135/500\n",
      "1434/1434 [==============================] - 10s 7ms/step - loss: 702511.8750 - mae: 183.5316 - val_loss: 595553.0000 - val_mae: 131.7977\n",
      "Epoch 136/500\n",
      "1434/1434 [==============================] - 10s 7ms/step - loss: 678058.1875 - mae: 181.7876 - val_loss: 2692498.0000 - val_mae: 432.6233\n",
      "Epoch 137/500\n",
      "1434/1434 [==============================] - 10s 7ms/step - loss: 753309.1250 - mae: 189.2550 - val_loss: 582260.1875 - val_mae: 174.1383\n",
      "Epoch 138/500\n",
      "1434/1434 [==============================] - 9s 7ms/step - loss: 709653.0000 - mae: 172.1129 - val_loss: 590492.2500 - val_mae: 153.4153\n",
      "Epoch 139/500\n",
      "1434/1434 [==============================] - 9s 6ms/step - loss: 704680.6875 - mae: 182.1912 - val_loss: 1047700.6250 - val_mae: 243.3940\n",
      "Epoch 140/500\n",
      "1434/1434 [==============================] - 9s 6ms/step - loss: 833874.6875 - mae: 202.5222 - val_loss: 505246.5625 - val_mae: 143.4382\n"
     ]
    }
   ],
   "source": [
    "history = ann.fit(X_train, y_train,\n",
    "                    validation_data = (X_val, y_val),\n",
    "                    callbacks=[es],\n",
    "                    epochs=500,\n",
    "                    batch_size=30,\n",
    "                    verbose=1)"
   ]
  },
  {
   "cell_type": "code",
   "execution_count": 22,
   "metadata": {
    "ExecuteTime": {
     "end_time": "2024-08-15T04:35:33.774185600Z",
     "start_time": "2024-08-15T04:35:33.179183500Z"
    }
   },
   "outputs": [
    {
     "data": {
      "text/plain": "<Figure size 600x600 with 1 Axes>",
      "image/png": "[encoded data removed]"
     },
     "metadata": {},
     "output_type": "display_data"
    }
   ],
   "source": [
    "# let's see the training and validation accuracy by epoch\n",
    "history_dict = history.history\n",
    "loss_values = history_dict['loss'] # you can change this\n",
    "val_loss_values = history_dict['val_loss'] # you can also change this\n",
    "epochs = range(1, len(loss_values) + 1) # range of X (no. of epochs)\n",
    "\n",
    "# Set global font to Times New Roman and font size\n",
    "plt.rcParams['font.family'] = 'serif'\n",
    "plt.rcParams['font.serif'] = ['Times New Roman']\n",
    "plt.rcParams['font.size'] = 20\n",
    "\n",
    "# Create a plot\n",
    "plt.figure(figsize=(6, 6))\n",
    "plt.plot(epochs, loss_values, 'blue', label='Train set')\n",
    "plt.plot(epochs, val_loss_values, 'orange', label='Validation set')\n",
    "#plt.title('Training and testing loss')\n",
    "\n",
    "\n",
    "plt.xlabel('Epochs')\n",
    "plt.ylabel('Loss (MSE)')\n",
    "plt.legend()\n",
    "plt.savefig('Section2_ANN5_2.png', dpi=200, bbox_inches='tight')\n",
    "plt.show()"
   ]
  },
  {
   "cell_type": "code",
   "execution_count": 23,
   "metadata": {
    "ExecuteTime": {
     "end_time": "2024-08-15T04:35:34.303194700Z",
     "start_time": "2024-08-15T04:35:33.796187200Z"
    }
   },
   "outputs": [
    {
     "data": {
      "text/plain": "<Figure size 600x600 with 1 Axes>",
      "image/png": "[encoded data removed]"
     },
     "metadata": {},
     "output_type": "display_data"
    }
   ],
   "source": [
    "loss_values1 = history_dict['mae'] # you can change this\n",
    "val_loss_values1 = history_dict['val_mae'] # you can also change this\n",
    "epochs = range(1, len(loss_values1) + 1) # range of X (no. of epochs)\n",
    "# Create a plot\n",
    "plt.figure(figsize=(6, 6))\n",
    "plt.plot(epochs, loss_values1, 'blue', label='Train set')\n",
    "plt.plot(epochs, val_loss_values1, 'orange', label='Validation set')\n",
    "#plt.title('Training and testing MAE')\n",
    "plt.xlabel('Epochs')\n",
    "plt.ylabel('MAE (kPa)')\n",
    "plt.legend()\n",
    "plt.savefig('Section2_ANN5_3.png', dpi=200, bbox_inches='tight')\n",
    "plt.show()"
   ]
  },
  {
   "cell_type": "code",
   "execution_count": 24,
   "metadata": {
    "ExecuteTime": {
     "end_time": "2024-08-15T04:35:37.497224600Z",
     "start_time": "2024-08-15T04:35:34.306194100Z"
    }
   },
   "outputs": [
    {
     "name": "stdout",
     "output_type": "stream",
     "text": [
      "INFO:tensorflow:Assets written to: Section2_new_ANN_5\\assets\n"
     ]
    }
   ],
   "source": [
    "ann.save('Section2_new_ANN_5')\n",
    "import pickle\n",
    "pickle.dump(sc, open('Section2_new_scaler_ANN_5.pkl', 'wb'))"
   ]
  },
  {
   "cell_type": "markdown",
   "metadata": {},
   "source": [
    "## Part 5 - Make predictions"
   ]
  },
  {
   "cell_type": "code",
   "execution_count": 25,
   "metadata": {
    "ExecuteTime": {
     "end_time": "2024-08-15T04:35:48.165338Z",
     "start_time": "2024-08-15T04:35:37.504228300Z"
    }
   },
   "outputs": [
    {
     "name": "stdout",
     "output_type": "stream",
     "text": [
      "1345/1345 [==============================] - 6s 4ms/step\n",
      "449/449 [==============================] - 3s 6ms/step\n"
     ]
    },
    {
     "data": {
      "text/plain": "<Figure size 640x480 with 2 Axes>",
      "image/png": "[encoded data removed]"
     },
     "metadata": {},
     "output_type": "display_data"
    }
   ],
   "source": [
    "# scatterplot of actual vs. pred\n",
    "# specify the dimensions \n",
    "fig, axes = plt.subplots(1,2) # 1 row, 2 columns\n",
    "\n",
    "# this makes the individual subplots\n",
    "# Training Results\n",
    "axes[0].scatter(x=y_train, y=ann.predict(X_train)) #first row, first entry (left top)\n",
    "axes[0].set_xlabel(\"Actual\", fontsize=20)\n",
    "axes[0].set_ylabel(\"Predicted\",  fontsize=20)\n",
    "axes[0].set_title(\"Training\")\n",
    "# add 45 deg line\n",
    "x = np.linspace(*axes[0].get_xlim())\n",
    "axes[0].plot(x, x, color='red')\n",
    "# Validation Results\n",
    "axes[1].scatter(x=y_val, y=ann.predict(X_val)) # first row, second entry (right top)\n",
    "axes[1].set_xlabel(\"Actual\", fontsize=20)\n",
    "axes[1].set_ylabel(\"Predicted\",  fontsize=20)\n",
    "axes[1].set_title(\"Validation\")\n",
    "# add 45 deg line\n",
    "x = np.linspace(*axes[1].get_xlim())\n",
    "axes[1].plot(x, x, color='red')\n",
    "\n",
    "# tight layout\n",
    "fig.tight_layout()\n",
    "\n",
    "plt.savefig('Section2_ANN5_1.png', dpi=200, bbox_inches='tight')\n",
    "# show the plot\n",
    "plt.show()"
   ]
  },
  {
   "cell_type": "code",
   "execution_count": 26,
   "metadata": {
    "colab": {
     "base_uri": "https://localhost:8080/",
     "height": 134
    },
    "colab_type": "code",
    "id": "IA0yApEmBG1X",
    "outputId": "cb981e1f-9204-4a2a-fece-9d66a6919189",
    "ExecuteTime": {
     "end_time": "2024-08-15T04:35:50.230364200Z",
     "start_time": "2024-08-15T04:35:48.168338600Z"
    }
   },
   "outputs": [
    {
     "name": "stdout",
     "output_type": "stream",
     "text": [
      "449/449 [==============================] - 2s 4ms/step\n",
      "[[ 9.73e+02  9.34e+02]\n",
      " [ 3.48e+01  6.17e+00]\n",
      " [-4.63e+00  4.27e+00]\n",
      " ...\n",
      " [ 2.39e+02  2.99e+02]\n",
      " [ 4.98e+03  4.94e+03]\n",
      " [ 6.40e+03  6.31e+03]]\n"
     ]
    }
   ],
   "source": [
    "y_pred = ann.predict(X_test)\n",
    "np.set_printoptions(precision=2)\n",
    "print(np.concatenate((y_pred.reshape(len(y_pred),1), y_test.reshape(len(y_test),1)),1))"
   ]
  },
  {
   "cell_type": "code",
   "execution_count": 27,
   "metadata": {
    "ExecuteTime": {
     "end_time": "2024-08-15T04:35:50.505364300Z",
     "start_time": "2024-08-15T04:35:50.222363200Z"
    }
   },
   "outputs": [
    {
     "data": {
      "text/plain": "Text(0, 0.5, 'Predicted data')"
     },
     "execution_count": 27,
     "metadata": {},
     "output_type": "execute_result"
    },
    {
     "data": {
      "text/plain": "<Figure size 640x480 with 1 Axes>",
      "image/png": "[encoded data removed]"
     },
     "metadata": {},
     "output_type": "display_data"
    }
   ],
   "source": [
    "import matplotlib.pyplot as plt\n",
    "plt.scatter(y_test, y_pred, color=\"blue\")\n",
    "plt.xlabel ('Actual data')\n",
    "plt.ylabel ('Predicted data')"
   ]
  },
  {
   "cell_type": "code",
   "execution_count": 28,
   "metadata": {
    "ExecuteTime": {
     "end_time": "2024-08-15T04:35:51.333372900Z",
     "start_time": "2024-08-15T04:35:50.515366700Z"
    }
   },
   "outputs": [
    {
     "data": {
      "text/plain": "<Figure size 600x600 with 1 Axes>",
      "image/png": "[encoded data removed]"
     },
     "metadata": {},
     "output_type": "display_data"
    }
   ],
   "source": [
    "from sklearn.metrics import r2_score\n",
    "# Initialize layout\n",
    "fig1, ax1 = plt.subplots(figsize = (6, 6))\n",
    "\n",
    "# Set global font to Times New Roman and font size\n",
    "plt.rcParams['font.family'] = 'serif'\n",
    "plt.rcParams['font.serif'] = ['Times New Roman']\n",
    "plt.rcParams['font.size'] = 20\n",
    "\n",
    "b_l = -2000\n",
    "u_l = 65000\n",
    "\n",
    "# Add scatterplot\n",
    "ax1.scatter(y_test, y_pred, s=70, alpha=1, edgecolors=\"k\",c='mediumblue',zorder=5, label = 'Points')\n",
    "\n",
    "\n",
    "plt.ylabel('Predicted Reflected Overpressure (kPa)')\n",
    "plt.xlabel('Target Reflected Overpressure (kPa)')\n",
    "plt.xticks(fontsize = 19)\n",
    "plt.yticks(fontsize = 19)\n",
    "\n",
    "\n",
    "x1 = np.linspace(b_l, u_l)\n",
    "\n",
    "plt.plot(x1, x1, 'Red', label='45\\N{DEGREE SIGN} line',lw=2.5,alpha=1)\n",
    "#plt.plot(x1, 1.05*x1, '--m', label='\\u00B15% Error',lw=2.5,alpha=0.7)\n",
    "#plt.plot(x1, 0.95*x1,'m', linestyle='--',lw=2.5,alpha=0.7)\n",
    "plt.plot(x1, 1.1*x1, '-.g', label='\\u00B110% Error',lw=2.5,alpha=0.7)\n",
    "plt.plot(x1, 0.9*x1,'-.g',lw=2.5,alpha=0.7)\n",
    "plt.plot(x1, 1.2*x1, color = '#F97306', linestyle='dotted', label='\\u00B120% Error',lw=2.5,alpha=0.7)\n",
    "plt.plot(x1, 0.8*x1,color = '#F97306', linestyle='dotted', lw=2.5,alpha=0.7)\n",
    "\n",
    "plt.ylim(b_l, u_l)\n",
    "plt.xlim(b_l, u_l)\n",
    "plt.legend(loc='upper center', bbox_to_anchor=(0.5, -0.15), ncol=4, frameon = False, fontsize = 20)\n",
    "\n",
    "#plt.grid()\n",
    "\n",
    "ax1.spines['left'].set_color('black')        # setting up Y-axis tick color to red\n",
    "ax1.spines['bottom'].set_color('black')         #setting up above X-axis tick color to red\n",
    "\n",
    "plt.savefig('Section2_ANN5.png', dpi=200, bbox_inches='tight')"
   ]
  },
  {
   "cell_type": "code",
   "execution_count": 29,
   "metadata": {
    "ExecuteTime": {
     "end_time": "2024-08-15T04:35:56.974433900Z",
     "start_time": "2024-08-15T04:35:51.338374600Z"
    }
   },
   "outputs": [
    {
     "name": "stdout",
     "output_type": "stream",
     "text": [
      "1345/1345 [==============================] - 5s 4ms/step\n",
      "129.78228098559813\n",
      "128.78069637486\n"
     ]
    }
   ],
   "source": [
    "# metrics\n",
    "trainpreds = ann.predict(X_train)\n",
    "\n",
    "from sklearn.metrics import mean_absolute_error\n",
    "print(mean_absolute_error(y_train, trainpreds)) # train\n",
    "print(mean_absolute_error(y_test, y_pred)) # test"
   ]
  },
  {
   "cell_type": "code",
   "execution_count": 30,
   "metadata": {
    "ExecuteTime": {
     "end_time": "2024-08-15T04:35:56.988432500Z",
     "start_time": "2024-08-15T04:35:56.977433600Z"
    }
   },
   "outputs": [
    {
     "name": "stdout",
     "output_type": "stream",
     "text": [
      "0.9676048400482002\n"
     ]
    }
   ],
   "source": [
    "from sklearn.metrics import r2_score\n",
    "r2 = r2_score(y_test, y_pred)\n",
    "print (r2)"
   ]
  },
  {
   "cell_type": "code",
   "execution_count": 31,
   "metadata": {
    "ExecuteTime": {
     "end_time": "2024-08-15T04:35:57.153435900Z",
     "start_time": "2024-08-15T04:35:56.991433100Z"
    }
   },
   "outputs": [
    {
     "name": "stdout",
     "output_type": "stream",
     "text": [
      "0.9644110127604327\n"
     ]
    }
   ],
   "source": [
    "r2_train = r2_score(y_train, trainpreds)\n",
    "print (r2_train)"
   ]
  },
  {
   "cell_type": "code",
   "execution_count": 32,
   "metadata": {
    "ExecuteTime": {
     "end_time": "2024-08-15T04:35:58.346455200Z",
     "start_time": "2024-08-15T04:35:57.164435300Z"
    }
   },
   "outputs": [
    {
     "name": "stdout",
     "output_type": "stream",
     "text": [
      "Within 5% margin 12.23%\n",
      "Within 10% margin 22.75%\n",
      "Within 20% margin 37.59%\n",
      "Out of 20% margin 62.41%\n"
     ]
    }
   ],
   "source": [
    "count0 = 0\n",
    "for i in range(len(y_pred)):\n",
    "    line1 = y_pred[i] - 0.95*y_test[i]\n",
    "    line2 = y_pred[i] - 1.05*y_test[i]\n",
    "    mask0 = (line1 > 0) & (line2 < 0)\n",
    "    count0 = np.sum(mask0+count0)\n",
    "\n",
    "count1 = 0\n",
    "for i in range(len(y_pred)):\n",
    "    line1 = y_pred[i] - 0.9*y_test[i]\n",
    "    line2 = y_pred[i] - 1.1*y_test[i]\n",
    "    mask1 = (line1 > 0) & (line2 < 0)\n",
    "    count1 = np.sum(mask1+count1)\n",
    "\n",
    "count2 = 0\n",
    "for j in range(len(y_pred)):\n",
    "    line3 = y_pred[j] - 0.8*y_test[j]\n",
    "    line4 = y_pred[j] - 1.2*y_test[j]\n",
    "    mask2 = (line3 > 0) & (line4 < 0)\n",
    "    count2 = np.sum(mask2+count2)\n",
    "\n",
    "\n",
    "count3 = 0    \n",
    "for k in range(len(y_pred)):\n",
    "    line5 = y_pred[k] - 0.8*y_test[k]\n",
    "    line6 = y_pred[k] - 1.2*y_test[k]\n",
    "    mask3 = (line5 < 0) or (line6 > 0)\n",
    "    count3 = np.sum(mask3+count3)\n",
    "   \n",
    "\n",
    "print ('Within 5% margin', format((count0/len (y_pred)),'.2%'))\n",
    "print ('Within 10% margin', format((count1/len (y_pred)),'.2%'))\n",
    "print ('Within 20% margin', format((count2/len (y_pred)),'.2%'))\n",
    "print ('Out of 20% margin', format((count3/len (y_pred)),'.2%'))"
   ]
  },
  {
   "cell_type": "code",
   "execution_count": 33,
   "metadata": {
    "ExecuteTime": {
     "end_time": "2024-08-15T04:35:58.353449900Z",
     "start_time": "2024-08-15T04:35:58.341452300Z"
    }
   },
   "outputs": [
    {
     "name": "stdout",
     "output_type": "stream",
     "text": [
      "0.9675890187881945\n"
     ]
    }
   ],
   "source": [
    "adj_r2 = 1 - ((1 - r2) * (len(X_test) - 1) / (len(X_test) - len (X_test[0]) - 1))\n",
    "print (adj_r2)"
   ]
  },
  {
   "cell_type": "code",
   "execution_count": 34,
   "metadata": {
    "ExecuteTime": {
     "end_time": "2024-08-15T04:35:58.445447700Z",
     "start_time": "2024-08-15T04:35:58.356448600Z"
    }
   },
   "outputs": [
    {
     "data": {
      "text/plain": "576.7843015976398"
     },
     "execution_count": 34,
     "metadata": {},
     "output_type": "execute_result"
    }
   ],
   "source": [
    "import math\n",
    "from sklearn.metrics import mean_squared_error\n",
    "\n",
    "math.sqrt(mean_squared_error(y_test, y_pred))"
   ]
  },
  {
   "cell_type": "code",
   "execution_count": 35,
   "metadata": {
    "ExecuteTime": {
     "end_time": "2024-08-15T04:35:58.627452400Z",
     "start_time": "2024-08-15T04:35:58.446446500Z"
    }
   },
   "outputs": [
    {
     "data": {
      "text/plain": "128.78069637486"
     },
     "execution_count": 35,
     "metadata": {},
     "output_type": "execute_result"
    }
   ],
   "source": [
    "from sklearn.metrics import mean_absolute_error\n",
    "\n",
    "mean_absolute_error(y_test, y_pred)"
   ]
  }
 ],
 "metadata": {
  "colab": {
   "collapsed_sections": [],
   "name": "Artificial Neural Network",
   "provenance": [],
   "toc_visible": true
  },
  "kernelspec": {
   "display_name": "Python 3 (ipykernel)",
   "language": "python",
   "name": "python3"
  },
  "language_info": {
   "codemirror_mode": {
    "name": "ipython",
    "version": 3
   },
   "file_extension": ".py",
   "mimetype": "text/x-python",
   "name": "python",
   "nbconvert_exporter": "python",
   "pygments_lexer": "ipython3",
   "version": "3.9.7"
  }
 },
 "nbformat": 4,
 "nbformat_minor": 4
}
