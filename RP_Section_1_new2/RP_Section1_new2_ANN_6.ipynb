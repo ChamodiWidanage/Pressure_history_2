{
 "cells": [
  {
   "cell_type": "markdown",
   "metadata": {
    "colab_type": "text",
    "id": "3cbb7fRy-eyr"
   },
   "source": [
    "# Artificial Neural Network"
   ]
  },
  {
   "cell_type": "markdown",
   "source": [
    "## Part 1 - Importing the libraries"
   ],
   "metadata": {
    "collapsed": false
   }
  },
  {
   "cell_type": "code",
   "execution_count": 1,
   "metadata": {
    "colab": {},
    "colab_type": "code",
    "id": "lxChR1Rk-umf",
    "ExecuteTime": {
     "end_time": "2024-08-15T04:52:52.818708400Z",
     "start_time": "2024-08-15T04:52:47.265401900Z"
    }
   },
   "outputs": [],
   "source": [
    "import numpy as np\n",
    "import pandas as pd\n",
    "import tensorflow as tf\n",
    "import matplotlib.pyplot as plt\n",
    "from keras.models import load_model\n",
    "from pathlib import Path\n",
    "import pickle"
   ]
  },
  {
   "cell_type": "markdown",
   "metadata": {
    "colab_type": "text",
    "id": "AG3FQEch-yuA"
   },
   "source": [
    "## Part 2 - Data Preprocessing"
   ]
  },
  {
   "cell_type": "code",
   "execution_count": 2,
   "metadata": {
    "ExecuteTime": {
     "end_time": "2024-08-15T04:52:52.873745100Z",
     "start_time": "2024-08-15T04:52:52.822709400Z"
    }
   },
   "outputs": [
    {
     "name": "stdout",
     "output_type": "stream",
     "text": [
      "input G:\\Chamodi\\LSDYNA3D\\RP_TH_models\\RP_Section_1_new\n",
      "2 [WindowsPath('G:/Chamodi/LSDYNA3D/RP_TH_models/RP_Section_1_new/1.00m'), WindowsPath('G:/Chamodi/LSDYNA3D/RP_TH_models/RP_Section_1_new/1.25m'), WindowsPath('G:/Chamodi/LSDYNA3D/RP_TH_models/RP_Section_1_new/1.50m'), WindowsPath('G:/Chamodi/LSDYNA3D/RP_TH_models/RP_Section_1_new/1.75m'), WindowsPath('G:/Chamodi/LSDYNA3D/RP_TH_models/RP_Section_1_new/2.00m'), WindowsPath('G:/Chamodi/LSDYNA3D/RP_TH_models/RP_Section_1_new/2.25m'), WindowsPath('G:/Chamodi/LSDYNA3D/RP_TH_models/RP_Section_1_new/2.50m'), WindowsPath('G:/Chamodi/LSDYNA3D/RP_TH_models/RP_Section_1_new/2.75m'), WindowsPath('G:/Chamodi/LSDYNA3D/RP_TH_models/RP_Section_1_new/3.00m')]\n"
     ]
    }
   ],
   "source": [
    "#Access input folder\n",
    "current_dir = Path.cwd()\n",
    "input_dir1 = Path (\"G:/Chamodi/LSDYNA3D/RP_TH_models/RP_Section_1_new\")\n",
    "print (\"input\",input_dir1)\n",
    "\n",
    "#Access folders inside input folder\n",
    "input_dir2=  [folder1 for folder1 in input_dir1.iterdir() if folder1.is_dir()] # folder1 - RP_curves_fr7m\n",
    "print (\"2\",input_dir2)"
   ]
  },
  {
   "cell_type": "code",
   "execution_count": 3,
   "metadata": {
    "ExecuteTime": {
     "end_time": "2024-08-15T04:53:09.383317200Z",
     "start_time": "2024-08-15T04:52:52.852224200Z"
    }
   },
   "outputs": [
    {
     "name": "stdout",
     "output_type": "stream",
     "text": [
      "folder G:\\Chamodi\\LSDYNA3D\\RP_TH_models\\RP_Section_1_new\\1.00m\\1.00m00.5kg\n",
      "1\n",
      "2\n",
      "3\n",
      "4\n",
      "folder G:\\Chamodi\\LSDYNA3D\\RP_TH_models\\RP_Section_1_new\\1.00m\\1.00m02.5kg\n",
      "1\n",
      "2\n",
      "3\n",
      "4\n",
      "folder G:\\Chamodi\\LSDYNA3D\\RP_TH_models\\RP_Section_1_new\\1.00m\\1.00m04.5kg\n",
      "1\n",
      "2\n",
      "3\n",
      "4\n",
      "folder G:\\Chamodi\\LSDYNA3D\\RP_TH_models\\RP_Section_1_new\\1.00m\\1.00m06.5kg\n",
      "1\n",
      "2\n",
      "3\n",
      "4\n",
      "folder G:\\Chamodi\\LSDYNA3D\\RP_TH_models\\RP_Section_1_new\\1.00m\\1.00m08.5kg\n",
      "1\n",
      "2\n",
      "3\n",
      "4\n",
      "folder G:\\Chamodi\\LSDYNA3D\\RP_TH_models\\RP_Section_1_new\\1.00m\\1.00m10.5kg\n",
      "1\n",
      "2\n",
      "3\n",
      "4\n",
      "folder G:\\Chamodi\\LSDYNA3D\\RP_TH_models\\RP_Section_1_new\\1.00m\\1.00m12.5kg\n",
      "1\n",
      "2\n",
      "3\n",
      "4\n",
      "folder G:\\Chamodi\\LSDYNA3D\\RP_TH_models\\RP_Section_1_new\\1.00m\\1.00m14.5kg\n",
      "1\n",
      "2\n",
      "3\n",
      "4\n",
      "folder G:\\Chamodi\\LSDYNA3D\\RP_TH_models\\RP_Section_1_new\\1.00m\\1.00m16.5kg\n",
      "1\n",
      "2\n",
      "3\n",
      "4\n",
      "folder G:\\Chamodi\\LSDYNA3D\\RP_TH_models\\RP_Section_1_new\\1.00m\\1.00m18.5kg\n",
      "1\n",
      "2\n",
      "3\n",
      "4\n",
      "folder G:\\Chamodi\\LSDYNA3D\\RP_TH_models\\RP_Section_1_new\\1.00m\\1.00m20.5kg\n",
      "1\n",
      "2\n",
      "3\n",
      "4\n",
      "folder G:\\Chamodi\\LSDYNA3D\\RP_TH_models\\RP_Section_1_new\\1.00m\\1.00m22.5kg\n",
      "1\n",
      "2\n",
      "3\n",
      "4\n",
      "folder G:\\Chamodi\\LSDYNA3D\\RP_TH_models\\RP_Section_1_new\\1.00m\\1.00m24.5kg\n",
      "1\n",
      "2\n",
      "3\n",
      "4\n",
      "folder G:\\Chamodi\\LSDYNA3D\\RP_TH_models\\RP_Section_1_new\\1.00m\\1.00m26.5kg\n",
      "1\n",
      "2\n",
      "3\n",
      "4\n",
      "folder G:\\Chamodi\\LSDYNA3D\\RP_TH_models\\RP_Section_1_new\\1.00m\\1.00m28.5kg\n",
      "1\n",
      "2\n",
      "3\n",
      "4\n",
      "folder G:\\Chamodi\\LSDYNA3D\\RP_TH_models\\RP_Section_1_new\\1.00m\\1.00m30.5kg\n",
      "1\n",
      "2\n",
      "3\n",
      "4\n",
      "folder G:\\Chamodi\\LSDYNA3D\\RP_TH_models\\RP_Section_1_new\\1.00m\\1.00m32.5kg\n",
      "1\n",
      "2\n",
      "3\n",
      "4\n",
      "folder G:\\Chamodi\\LSDYNA3D\\RP_TH_models\\RP_Section_1_new\\1.00m\\1.00m34.5kg\n",
      "1\n",
      "2\n",
      "3\n",
      "4\n",
      "folder G:\\Chamodi\\LSDYNA3D\\RP_TH_models\\RP_Section_1_new\\1.00m\\1.00m35.0kg\n",
      "1\n",
      "2\n",
      "3\n",
      "4\n",
      "folder G:\\Chamodi\\LSDYNA3D\\RP_TH_models\\RP_Section_1_new\\1.25m\\1.25m00.5kg\n",
      "1\n",
      "2\n",
      "3\n",
      "4\n",
      "folder G:\\Chamodi\\LSDYNA3D\\RP_TH_models\\RP_Section_1_new\\1.25m\\1.25m02.5kg\n",
      "1\n",
      "2\n",
      "3\n",
      "4\n",
      "folder G:\\Chamodi\\LSDYNA3D\\RP_TH_models\\RP_Section_1_new\\1.25m\\1.25m04.5kg\n",
      "1\n",
      "2\n",
      "3\n",
      "4\n",
      "folder G:\\Chamodi\\LSDYNA3D\\RP_TH_models\\RP_Section_1_new\\1.25m\\1.25m06.5kg\n",
      "1\n",
      "2\n",
      "3\n",
      "4\n",
      "folder G:\\Chamodi\\LSDYNA3D\\RP_TH_models\\RP_Section_1_new\\1.25m\\1.25m08.5kg\n",
      "1\n",
      "2\n",
      "3\n",
      "4\n",
      "folder G:\\Chamodi\\LSDYNA3D\\RP_TH_models\\RP_Section_1_new\\1.25m\\1.25m10.5kg\n",
      "1\n",
      "2\n",
      "3\n",
      "4\n",
      "folder G:\\Chamodi\\LSDYNA3D\\RP_TH_models\\RP_Section_1_new\\1.25m\\1.25m12.5kg\n",
      "1\n",
      "2\n",
      "3\n",
      "4\n",
      "folder G:\\Chamodi\\LSDYNA3D\\RP_TH_models\\RP_Section_1_new\\1.25m\\1.25m14.5kg\n",
      "1\n",
      "2\n",
      "3\n",
      "4\n",
      "folder G:\\Chamodi\\LSDYNA3D\\RP_TH_models\\RP_Section_1_new\\1.25m\\1.25m16.5kg\n",
      "1\n",
      "2\n",
      "3\n",
      "4\n",
      "folder G:\\Chamodi\\LSDYNA3D\\RP_TH_models\\RP_Section_1_new\\1.25m\\1.25m18.5kg\n",
      "1\n",
      "2\n",
      "3\n",
      "4\n",
      "folder G:\\Chamodi\\LSDYNA3D\\RP_TH_models\\RP_Section_1_new\\1.25m\\1.25m20.5kg\n",
      "1\n",
      "2\n",
      "3\n",
      "4\n",
      "folder G:\\Chamodi\\LSDYNA3D\\RP_TH_models\\RP_Section_1_new\\1.25m\\1.25m22.5kg\n",
      "1\n",
      "2\n",
      "3\n",
      "4\n",
      "folder G:\\Chamodi\\LSDYNA3D\\RP_TH_models\\RP_Section_1_new\\1.25m\\1.25m24.5kg\n",
      "1\n",
      "2\n",
      "3\n",
      "4\n",
      "folder G:\\Chamodi\\LSDYNA3D\\RP_TH_models\\RP_Section_1_new\\1.25m\\1.25m26.5kg\n",
      "1\n",
      "2\n",
      "3\n",
      "4\n",
      "folder G:\\Chamodi\\LSDYNA3D\\RP_TH_models\\RP_Section_1_new\\1.25m\\1.25m28.5kg\n",
      "1\n",
      "2\n",
      "3\n",
      "4\n",
      "folder G:\\Chamodi\\LSDYNA3D\\RP_TH_models\\RP_Section_1_new\\1.25m\\1.25m30.5kg\n",
      "1\n",
      "2\n",
      "3\n",
      "4\n",
      "folder G:\\Chamodi\\LSDYNA3D\\RP_TH_models\\RP_Section_1_new\\1.25m\\1.25m32.5kg\n",
      "1\n",
      "2\n",
      "3\n",
      "4\n",
      "folder G:\\Chamodi\\LSDYNA3D\\RP_TH_models\\RP_Section_1_new\\1.25m\\1.25m34.5kg\n",
      "1\n",
      "2\n",
      "3\n",
      "4\n",
      "folder G:\\Chamodi\\LSDYNA3D\\RP_TH_models\\RP_Section_1_new\\1.25m\\1.25m35.0kg\n",
      "1\n",
      "2\n",
      "3\n",
      "4\n",
      "folder G:\\Chamodi\\LSDYNA3D\\RP_TH_models\\RP_Section_1_new\\1.50m\\1.50m00.5kg\n",
      "1\n",
      "2\n",
      "3\n",
      "4\n",
      "folder G:\\Chamodi\\LSDYNA3D\\RP_TH_models\\RP_Section_1_new\\1.50m\\1.50m02.5kg\n",
      "1\n",
      "2\n",
      "3\n",
      "4\n",
      "folder G:\\Chamodi\\LSDYNA3D\\RP_TH_models\\RP_Section_1_new\\1.50m\\1.50m04.5kg\n",
      "1\n",
      "2\n",
      "3\n",
      "4\n",
      "folder G:\\Chamodi\\LSDYNA3D\\RP_TH_models\\RP_Section_1_new\\1.50m\\1.50m06.5kg\n",
      "1\n",
      "2\n",
      "3\n",
      "4\n",
      "folder G:\\Chamodi\\LSDYNA3D\\RP_TH_models\\RP_Section_1_new\\1.50m\\1.50m08.5kg\n",
      "1\n",
      "2\n",
      "3\n",
      "4\n",
      "folder G:\\Chamodi\\LSDYNA3D\\RP_TH_models\\RP_Section_1_new\\1.50m\\1.50m10.5kg\n",
      "1\n",
      "2\n",
      "3\n",
      "4\n",
      "folder G:\\Chamodi\\LSDYNA3D\\RP_TH_models\\RP_Section_1_new\\1.50m\\1.50m12.5kg\n",
      "1\n",
      "2\n",
      "3\n",
      "4\n",
      "folder G:\\Chamodi\\LSDYNA3D\\RP_TH_models\\RP_Section_1_new\\1.50m\\1.50m14.5kg\n",
      "1\n",
      "2\n",
      "3\n",
      "4\n",
      "folder G:\\Chamodi\\LSDYNA3D\\RP_TH_models\\RP_Section_1_new\\1.50m\\1.50m16.5kg\n",
      "1\n",
      "2\n",
      "3\n",
      "4\n",
      "folder G:\\Chamodi\\LSDYNA3D\\RP_TH_models\\RP_Section_1_new\\1.50m\\1.50m18.5kg\n",
      "1\n",
      "2\n",
      "3\n",
      "4\n",
      "folder G:\\Chamodi\\LSDYNA3D\\RP_TH_models\\RP_Section_1_new\\1.50m\\1.50m20.5kg\n",
      "1\n",
      "2\n",
      "3\n",
      "4\n",
      "folder G:\\Chamodi\\LSDYNA3D\\RP_TH_models\\RP_Section_1_new\\1.50m\\1.50m22.5kg\n",
      "1\n",
      "2\n",
      "3\n",
      "4\n",
      "folder G:\\Chamodi\\LSDYNA3D\\RP_TH_models\\RP_Section_1_new\\1.50m\\1.50m24.5kg\n",
      "1\n",
      "2\n",
      "3\n",
      "4\n",
      "folder G:\\Chamodi\\LSDYNA3D\\RP_TH_models\\RP_Section_1_new\\1.50m\\1.50m26.5kg\n",
      "1\n",
      "2\n",
      "3\n",
      "4\n",
      "folder G:\\Chamodi\\LSDYNA3D\\RP_TH_models\\RP_Section_1_new\\1.50m\\1.50m28.5kg\n",
      "1\n",
      "2\n",
      "3\n",
      "4\n",
      "folder G:\\Chamodi\\LSDYNA3D\\RP_TH_models\\RP_Section_1_new\\1.50m\\1.50m30.5kg\n",
      "1\n",
      "2\n",
      "3\n",
      "4\n",
      "folder G:\\Chamodi\\LSDYNA3D\\RP_TH_models\\RP_Section_1_new\\1.50m\\1.50m32.5kg\n",
      "1\n",
      "2\n",
      "3\n",
      "4\n",
      "folder G:\\Chamodi\\LSDYNA3D\\RP_TH_models\\RP_Section_1_new\\1.50m\\1.50m34.5kg\n",
      "1\n",
      "2\n",
      "3\n",
      "4\n",
      "folder G:\\Chamodi\\LSDYNA3D\\RP_TH_models\\RP_Section_1_new\\1.50m\\1.50m35.0kg\n",
      "1\n",
      "2\n",
      "3\n",
      "4\n",
      "folder G:\\Chamodi\\LSDYNA3D\\RP_TH_models\\RP_Section_1_new\\1.75m\\1.75m00.5kg\n",
      "1\n",
      "2\n",
      "3\n",
      "4\n",
      "folder G:\\Chamodi\\LSDYNA3D\\RP_TH_models\\RP_Section_1_new\\1.75m\\1.75m02.5kg\n",
      "1\n",
      "2\n",
      "3\n",
      "4\n",
      "folder G:\\Chamodi\\LSDYNA3D\\RP_TH_models\\RP_Section_1_new\\1.75m\\1.75m04.5kg\n",
      "1\n",
      "2\n",
      "3\n",
      "4\n",
      "folder G:\\Chamodi\\LSDYNA3D\\RP_TH_models\\RP_Section_1_new\\1.75m\\1.75m06.5kg\n",
      "1\n",
      "2\n",
      "3\n",
      "4\n",
      "folder G:\\Chamodi\\LSDYNA3D\\RP_TH_models\\RP_Section_1_new\\1.75m\\1.75m08.5kg\n",
      "1\n",
      "2\n",
      "3\n",
      "4\n",
      "folder G:\\Chamodi\\LSDYNA3D\\RP_TH_models\\RP_Section_1_new\\1.75m\\1.75m10.5kg\n",
      "1\n",
      "2\n",
      "3\n",
      "4\n",
      "folder G:\\Chamodi\\LSDYNA3D\\RP_TH_models\\RP_Section_1_new\\1.75m\\1.75m12.5kg\n",
      "1\n",
      "2\n",
      "3\n",
      "4\n",
      "folder G:\\Chamodi\\LSDYNA3D\\RP_TH_models\\RP_Section_1_new\\1.75m\\1.75m14.5kg\n",
      "1\n",
      "2\n",
      "3\n",
      "4\n",
      "folder G:\\Chamodi\\LSDYNA3D\\RP_TH_models\\RP_Section_1_new\\1.75m\\1.75m16.5kg\n",
      "1\n",
      "2\n",
      "3\n",
      "4\n",
      "folder G:\\Chamodi\\LSDYNA3D\\RP_TH_models\\RP_Section_1_new\\1.75m\\1.75m18.5kg\n",
      "1\n",
      "2\n",
      "3\n",
      "4\n",
      "folder G:\\Chamodi\\LSDYNA3D\\RP_TH_models\\RP_Section_1_new\\1.75m\\1.75m20.5kg\n",
      "1\n",
      "2\n",
      "3\n",
      "4\n",
      "folder G:\\Chamodi\\LSDYNA3D\\RP_TH_models\\RP_Section_1_new\\1.75m\\1.75m22.5kg\n",
      "1\n",
      "2\n",
      "3\n",
      "4\n",
      "folder G:\\Chamodi\\LSDYNA3D\\RP_TH_models\\RP_Section_1_new\\1.75m\\1.75m24.5kg\n",
      "1\n",
      "2\n",
      "3\n",
      "4\n",
      "folder G:\\Chamodi\\LSDYNA3D\\RP_TH_models\\RP_Section_1_new\\1.75m\\1.75m26.5kg\n",
      "1\n",
      "2\n",
      "3\n",
      "4\n",
      "folder G:\\Chamodi\\LSDYNA3D\\RP_TH_models\\RP_Section_1_new\\1.75m\\1.75m28.5kg\n",
      "1\n",
      "2\n",
      "3\n",
      "4\n",
      "folder G:\\Chamodi\\LSDYNA3D\\RP_TH_models\\RP_Section_1_new\\1.75m\\1.75m30.5kg\n",
      "1\n",
      "2\n",
      "3\n",
      "4\n",
      "folder G:\\Chamodi\\LSDYNA3D\\RP_TH_models\\RP_Section_1_new\\1.75m\\1.75m32.5kg\n",
      "1\n",
      "2\n",
      "3\n",
      "4\n",
      "folder G:\\Chamodi\\LSDYNA3D\\RP_TH_models\\RP_Section_1_new\\1.75m\\1.75m34.5kg\n",
      "1\n",
      "2\n",
      "3\n",
      "4\n",
      "folder G:\\Chamodi\\LSDYNA3D\\RP_TH_models\\RP_Section_1_new\\1.75m\\1.75m35.0kg\n",
      "1\n",
      "2\n",
      "3\n",
      "4\n",
      "folder G:\\Chamodi\\LSDYNA3D\\RP_TH_models\\RP_Section_1_new\\2.00m\\2.00m00.5kg\n",
      "1\n",
      "2\n",
      "3\n",
      "4\n",
      "folder G:\\Chamodi\\LSDYNA3D\\RP_TH_models\\RP_Section_1_new\\2.00m\\2.00m02.5kg\n",
      "1\n",
      "2\n",
      "3\n",
      "4\n",
      "folder G:\\Chamodi\\LSDYNA3D\\RP_TH_models\\RP_Section_1_new\\2.00m\\2.00m04.5kg\n",
      "1\n",
      "2\n",
      "3\n",
      "4\n",
      "folder G:\\Chamodi\\LSDYNA3D\\RP_TH_models\\RP_Section_1_new\\2.00m\\2.00m06.5kg\n",
      "1\n",
      "2\n",
      "3\n",
      "4\n",
      "folder G:\\Chamodi\\LSDYNA3D\\RP_TH_models\\RP_Section_1_new\\2.00m\\2.00m08.5kg\n",
      "1\n",
      "2\n",
      "3\n",
      "4\n",
      "folder G:\\Chamodi\\LSDYNA3D\\RP_TH_models\\RP_Section_1_new\\2.00m\\2.00m10.5kg\n",
      "1\n",
      "2\n",
      "3\n",
      "4\n",
      "folder G:\\Chamodi\\LSDYNA3D\\RP_TH_models\\RP_Section_1_new\\2.00m\\2.00m12.5kg\n",
      "1\n",
      "2\n",
      "3\n",
      "4\n",
      "folder G:\\Chamodi\\LSDYNA3D\\RP_TH_models\\RP_Section_1_new\\2.00m\\2.00m14.5kg\n",
      "1\n",
      "2\n",
      "3\n",
      "4\n",
      "folder G:\\Chamodi\\LSDYNA3D\\RP_TH_models\\RP_Section_1_new\\2.00m\\2.00m16.5kg\n",
      "1\n",
      "2\n",
      "3\n",
      "4\n",
      "folder G:\\Chamodi\\LSDYNA3D\\RP_TH_models\\RP_Section_1_new\\2.00m\\2.00m18.5kg\n",
      "1\n",
      "2\n",
      "3\n",
      "4\n",
      "folder G:\\Chamodi\\LSDYNA3D\\RP_TH_models\\RP_Section_1_new\\2.00m\\2.00m20.5kg\n",
      "1\n",
      "2\n",
      "3\n",
      "4\n",
      "folder G:\\Chamodi\\LSDYNA3D\\RP_TH_models\\RP_Section_1_new\\2.00m\\2.00m22.5kg\n",
      "1\n",
      "2\n",
      "3\n",
      "4\n",
      "folder G:\\Chamodi\\LSDYNA3D\\RP_TH_models\\RP_Section_1_new\\2.00m\\2.00m24.5kg\n",
      "1\n",
      "2\n",
      "3\n",
      "4\n",
      "folder G:\\Chamodi\\LSDYNA3D\\RP_TH_models\\RP_Section_1_new\\2.00m\\2.00m26.5kg\n",
      "1\n",
      "2\n",
      "3\n",
      "4\n",
      "folder G:\\Chamodi\\LSDYNA3D\\RP_TH_models\\RP_Section_1_new\\2.00m\\2.00m28.5kg\n",
      "1\n",
      "2\n",
      "3\n",
      "4\n",
      "folder G:\\Chamodi\\LSDYNA3D\\RP_TH_models\\RP_Section_1_new\\2.00m\\2.00m30.5kg\n",
      "1\n",
      "2\n",
      "3\n",
      "4\n",
      "folder G:\\Chamodi\\LSDYNA3D\\RP_TH_models\\RP_Section_1_new\\2.00m\\2.00m32.5kg\n",
      "1\n",
      "2\n",
      "3\n",
      "4\n",
      "folder G:\\Chamodi\\LSDYNA3D\\RP_TH_models\\RP_Section_1_new\\2.00m\\2.00m34.5kg\n",
      "1\n",
      "2\n",
      "3\n",
      "4\n",
      "folder G:\\Chamodi\\LSDYNA3D\\RP_TH_models\\RP_Section_1_new\\2.00m\\2.00m35.0kg\n",
      "1\n",
      "2\n",
      "3\n",
      "4\n",
      "folder G:\\Chamodi\\LSDYNA3D\\RP_TH_models\\RP_Section_1_new\\2.25m\\2.25m00.5kg\n",
      "1\n",
      "2\n",
      "3\n",
      "4\n",
      "folder G:\\Chamodi\\LSDYNA3D\\RP_TH_models\\RP_Section_1_new\\2.25m\\2.25m02.5kg\n",
      "1\n",
      "2\n",
      "3\n",
      "4\n",
      "folder G:\\Chamodi\\LSDYNA3D\\RP_TH_models\\RP_Section_1_new\\2.25m\\2.25m04.5kg\n",
      "1\n",
      "2\n",
      "3\n",
      "4\n",
      "folder G:\\Chamodi\\LSDYNA3D\\RP_TH_models\\RP_Section_1_new\\2.25m\\2.25m06.5kg\n",
      "1\n",
      "2\n",
      "3\n",
      "4\n",
      "folder G:\\Chamodi\\LSDYNA3D\\RP_TH_models\\RP_Section_1_new\\2.25m\\2.25m08.5kg\n",
      "1\n",
      "2\n",
      "3\n",
      "4\n",
      "folder G:\\Chamodi\\LSDYNA3D\\RP_TH_models\\RP_Section_1_new\\2.25m\\2.25m10.5kg\n",
      "1\n",
      "2\n",
      "3\n",
      "4\n",
      "folder G:\\Chamodi\\LSDYNA3D\\RP_TH_models\\RP_Section_1_new\\2.25m\\2.25m12.5kg\n",
      "1\n",
      "2\n",
      "3\n",
      "4\n",
      "folder G:\\Chamodi\\LSDYNA3D\\RP_TH_models\\RP_Section_1_new\\2.25m\\2.25m14.5kg\n",
      "1\n",
      "2\n",
      "3\n",
      "4\n",
      "folder G:\\Chamodi\\LSDYNA3D\\RP_TH_models\\RP_Section_1_new\\2.25m\\2.25m16.5kg\n",
      "1\n",
      "2\n",
      "3\n",
      "4\n",
      "folder G:\\Chamodi\\LSDYNA3D\\RP_TH_models\\RP_Section_1_new\\2.25m\\2.25m18.5kg\n",
      "1\n",
      "2\n",
      "3\n",
      "4\n",
      "folder G:\\Chamodi\\LSDYNA3D\\RP_TH_models\\RP_Section_1_new\\2.25m\\2.25m20.5kg\n",
      "1\n",
      "2\n",
      "3\n",
      "4\n",
      "folder G:\\Chamodi\\LSDYNA3D\\RP_TH_models\\RP_Section_1_new\\2.25m\\2.25m22.5kg\n",
      "1\n",
      "2\n",
      "3\n",
      "4\n",
      "folder G:\\Chamodi\\LSDYNA3D\\RP_TH_models\\RP_Section_1_new\\2.25m\\2.25m24.5kg\n",
      "1\n",
      "2\n",
      "3\n",
      "4\n",
      "folder G:\\Chamodi\\LSDYNA3D\\RP_TH_models\\RP_Section_1_new\\2.25m\\2.25m26.5kg\n",
      "1\n",
      "2\n",
      "3\n",
      "4\n",
      "folder G:\\Chamodi\\LSDYNA3D\\RP_TH_models\\RP_Section_1_new\\2.25m\\2.25m28.5kg\n",
      "1\n",
      "2\n",
      "3\n",
      "4\n",
      "folder G:\\Chamodi\\LSDYNA3D\\RP_TH_models\\RP_Section_1_new\\2.25m\\2.25m30.5kg\n",
      "1\n",
      "2\n",
      "3\n",
      "4\n",
      "folder G:\\Chamodi\\LSDYNA3D\\RP_TH_models\\RP_Section_1_new\\2.25m\\2.25m32.5kg\n",
      "1\n",
      "2\n",
      "3\n",
      "4\n",
      "folder G:\\Chamodi\\LSDYNA3D\\RP_TH_models\\RP_Section_1_new\\2.25m\\2.25m34.5kg\n",
      "1\n",
      "2\n",
      "3\n",
      "4\n",
      "folder G:\\Chamodi\\LSDYNA3D\\RP_TH_models\\RP_Section_1_new\\2.25m\\2.25m35.0kg\n",
      "1\n",
      "2\n",
      "3\n",
      "4\n",
      "folder G:\\Chamodi\\LSDYNA3D\\RP_TH_models\\RP_Section_1_new\\2.50m\\2.50m00.5kg\n",
      "1\n",
      "2\n",
      "3\n",
      "4\n",
      "folder G:\\Chamodi\\LSDYNA3D\\RP_TH_models\\RP_Section_1_new\\2.50m\\2.50m02.5kg\n",
      "1\n",
      "2\n",
      "3\n",
      "4\n",
      "folder G:\\Chamodi\\LSDYNA3D\\RP_TH_models\\RP_Section_1_new\\2.50m\\2.50m04.5kg\n",
      "1\n",
      "2\n",
      "3\n",
      "4\n",
      "folder G:\\Chamodi\\LSDYNA3D\\RP_TH_models\\RP_Section_1_new\\2.50m\\2.50m06.5kg\n",
      "1\n",
      "2\n",
      "3\n",
      "4\n",
      "folder G:\\Chamodi\\LSDYNA3D\\RP_TH_models\\RP_Section_1_new\\2.50m\\2.50m08.5kg\n",
      "1\n",
      "2\n",
      "3\n",
      "4\n",
      "folder G:\\Chamodi\\LSDYNA3D\\RP_TH_models\\RP_Section_1_new\\2.50m\\2.50m10.5kg\n",
      "1\n",
      "2\n",
      "3\n",
      "4\n",
      "folder G:\\Chamodi\\LSDYNA3D\\RP_TH_models\\RP_Section_1_new\\2.50m\\2.50m12.5kg\n",
      "1\n",
      "2\n",
      "3\n",
      "4\n",
      "folder G:\\Chamodi\\LSDYNA3D\\RP_TH_models\\RP_Section_1_new\\2.50m\\2.50m14.5kg\n",
      "1\n",
      "2\n",
      "3\n",
      "4\n",
      "folder G:\\Chamodi\\LSDYNA3D\\RP_TH_models\\RP_Section_1_new\\2.50m\\2.50m16.5kg\n",
      "1\n",
      "2\n",
      "3\n",
      "4\n",
      "folder G:\\Chamodi\\LSDYNA3D\\RP_TH_models\\RP_Section_1_new\\2.50m\\2.50m18.5kg\n",
      "1\n",
      "2\n",
      "3\n",
      "4\n",
      "folder G:\\Chamodi\\LSDYNA3D\\RP_TH_models\\RP_Section_1_new\\2.50m\\2.50m20.5kg\n",
      "1\n",
      "2\n",
      "3\n",
      "4\n",
      "folder G:\\Chamodi\\LSDYNA3D\\RP_TH_models\\RP_Section_1_new\\2.50m\\2.50m22.5kg\n",
      "1\n",
      "2\n",
      "3\n",
      "4\n",
      "folder G:\\Chamodi\\LSDYNA3D\\RP_TH_models\\RP_Section_1_new\\2.50m\\2.50m24.5kg\n",
      "1\n",
      "2\n",
      "3\n",
      "4\n",
      "folder G:\\Chamodi\\LSDYNA3D\\RP_TH_models\\RP_Section_1_new\\2.50m\\2.50m26.5kg\n",
      "1\n",
      "2\n",
      "3\n",
      "4\n",
      "folder G:\\Chamodi\\LSDYNA3D\\RP_TH_models\\RP_Section_1_new\\2.50m\\2.50m28.5kg\n",
      "1\n",
      "2\n",
      "3\n",
      "4\n",
      "folder G:\\Chamodi\\LSDYNA3D\\RP_TH_models\\RP_Section_1_new\\2.50m\\2.50m30.5kg\n",
      "1\n",
      "2\n",
      "3\n",
      "4\n",
      "folder G:\\Chamodi\\LSDYNA3D\\RP_TH_models\\RP_Section_1_new\\2.50m\\2.50m32.5kg\n",
      "1\n",
      "2\n",
      "3\n",
      "4\n",
      "folder G:\\Chamodi\\LSDYNA3D\\RP_TH_models\\RP_Section_1_new\\2.50m\\2.50m34.5kg\n",
      "1\n",
      "2\n",
      "3\n",
      "4\n",
      "folder G:\\Chamodi\\LSDYNA3D\\RP_TH_models\\RP_Section_1_new\\2.50m\\2.50m35.0kg\n",
      "1\n",
      "2\n",
      "3\n",
      "4\n",
      "folder G:\\Chamodi\\LSDYNA3D\\RP_TH_models\\RP_Section_1_new\\2.75m\\2.75m00.5kg\n",
      "1\n",
      "2\n",
      "3\n",
      "4\n",
      "folder G:\\Chamodi\\LSDYNA3D\\RP_TH_models\\RP_Section_1_new\\2.75m\\2.75m02.5kg\n",
      "1\n",
      "2\n",
      "3\n",
      "4\n",
      "folder G:\\Chamodi\\LSDYNA3D\\RP_TH_models\\RP_Section_1_new\\2.75m\\2.75m04.5kg\n",
      "1\n",
      "2\n",
      "3\n",
      "4\n",
      "folder G:\\Chamodi\\LSDYNA3D\\RP_TH_models\\RP_Section_1_new\\2.75m\\2.75m06.5kg\n",
      "1\n",
      "2\n",
      "3\n",
      "4\n",
      "folder G:\\Chamodi\\LSDYNA3D\\RP_TH_models\\RP_Section_1_new\\2.75m\\2.75m08.5kg\n",
      "1\n",
      "2\n",
      "3\n",
      "4\n",
      "folder G:\\Chamodi\\LSDYNA3D\\RP_TH_models\\RP_Section_1_new\\2.75m\\2.75m10.5kg\n",
      "1\n",
      "2\n",
      "3\n",
      "4\n",
      "folder G:\\Chamodi\\LSDYNA3D\\RP_TH_models\\RP_Section_1_new\\2.75m\\2.75m12.5kg\n",
      "1\n",
      "2\n",
      "3\n",
      "4\n",
      "folder G:\\Chamodi\\LSDYNA3D\\RP_TH_models\\RP_Section_1_new\\2.75m\\2.75m14.5kg\n",
      "1\n",
      "2\n",
      "3\n",
      "4\n",
      "folder G:\\Chamodi\\LSDYNA3D\\RP_TH_models\\RP_Section_1_new\\2.75m\\2.75m16.5kg\n",
      "1\n",
      "2\n",
      "3\n",
      "4\n",
      "folder G:\\Chamodi\\LSDYNA3D\\RP_TH_models\\RP_Section_1_new\\2.75m\\2.75m18.5kg\n",
      "1\n",
      "2\n",
      "3\n",
      "4\n",
      "folder G:\\Chamodi\\LSDYNA3D\\RP_TH_models\\RP_Section_1_new\\2.75m\\2.75m20.5kg\n",
      "1\n",
      "2\n",
      "3\n",
      "4\n",
      "folder G:\\Chamodi\\LSDYNA3D\\RP_TH_models\\RP_Section_1_new\\2.75m\\2.75m22.5kg\n",
      "1\n",
      "2\n",
      "3\n",
      "4\n",
      "folder G:\\Chamodi\\LSDYNA3D\\RP_TH_models\\RP_Section_1_new\\2.75m\\2.75m24.5kg\n",
      "1\n",
      "2\n",
      "3\n",
      "4\n",
      "folder G:\\Chamodi\\LSDYNA3D\\RP_TH_models\\RP_Section_1_new\\2.75m\\2.75m26.5kg\n",
      "1\n",
      "2\n",
      "3\n",
      "4\n",
      "folder G:\\Chamodi\\LSDYNA3D\\RP_TH_models\\RP_Section_1_new\\2.75m\\2.75m28.5kg\n",
      "1\n",
      "2\n",
      "3\n",
      "4\n",
      "folder G:\\Chamodi\\LSDYNA3D\\RP_TH_models\\RP_Section_1_new\\2.75m\\2.75m30.5kg\n",
      "1\n",
      "2\n",
      "3\n",
      "4\n",
      "folder G:\\Chamodi\\LSDYNA3D\\RP_TH_models\\RP_Section_1_new\\2.75m\\2.75m32.5kg\n",
      "1\n",
      "2\n",
      "3\n",
      "4\n",
      "folder G:\\Chamodi\\LSDYNA3D\\RP_TH_models\\RP_Section_1_new\\2.75m\\2.75m34.5kg\n",
      "1\n",
      "2\n",
      "3\n",
      "4\n",
      "folder G:\\Chamodi\\LSDYNA3D\\RP_TH_models\\RP_Section_1_new\\2.75m\\2.75m35.0kg\n",
      "1\n",
      "2\n",
      "3\n",
      "4\n",
      "folder G:\\Chamodi\\LSDYNA3D\\RP_TH_models\\RP_Section_1_new\\3.00m\\3.00m00.5kg\n",
      "1\n",
      "2\n",
      "3\n",
      "4\n",
      "folder G:\\Chamodi\\LSDYNA3D\\RP_TH_models\\RP_Section_1_new\\3.00m\\3.00m02.5kg\n",
      "1\n",
      "2\n",
      "3\n",
      "4\n",
      "folder G:\\Chamodi\\LSDYNA3D\\RP_TH_models\\RP_Section_1_new\\3.00m\\3.00m04.5kg\n",
      "1\n",
      "2\n",
      "3\n",
      "4\n",
      "folder G:\\Chamodi\\LSDYNA3D\\RP_TH_models\\RP_Section_1_new\\3.00m\\3.00m06.5kg\n",
      "1\n",
      "2\n",
      "3\n",
      "4\n",
      "folder G:\\Chamodi\\LSDYNA3D\\RP_TH_models\\RP_Section_1_new\\3.00m\\3.00m08.5kg\n",
      "1\n",
      "2\n",
      "3\n",
      "4\n",
      "folder G:\\Chamodi\\LSDYNA3D\\RP_TH_models\\RP_Section_1_new\\3.00m\\3.00m10.5kg\n",
      "1\n",
      "2\n",
      "3\n",
      "4\n",
      "folder G:\\Chamodi\\LSDYNA3D\\RP_TH_models\\RP_Section_1_new\\3.00m\\3.00m12.5kg\n",
      "1\n",
      "2\n",
      "3\n",
      "4\n",
      "folder G:\\Chamodi\\LSDYNA3D\\RP_TH_models\\RP_Section_1_new\\3.00m\\3.00m14.5kg\n",
      "1\n",
      "2\n",
      "3\n",
      "4\n",
      "folder G:\\Chamodi\\LSDYNA3D\\RP_TH_models\\RP_Section_1_new\\3.00m\\3.00m16.5kg\n",
      "1\n",
      "2\n",
      "3\n",
      "4\n",
      "folder G:\\Chamodi\\LSDYNA3D\\RP_TH_models\\RP_Section_1_new\\3.00m\\3.00m18.5kg\n",
      "1\n",
      "2\n",
      "3\n",
      "4\n",
      "folder G:\\Chamodi\\LSDYNA3D\\RP_TH_models\\RP_Section_1_new\\3.00m\\3.00m20.5kg\n",
      "1\n",
      "2\n",
      "3\n",
      "4\n",
      "folder G:\\Chamodi\\LSDYNA3D\\RP_TH_models\\RP_Section_1_new\\3.00m\\3.00m22.5kg\n",
      "1\n",
      "2\n",
      "3\n",
      "4\n",
      "folder G:\\Chamodi\\LSDYNA3D\\RP_TH_models\\RP_Section_1_new\\3.00m\\3.00m24.5kg\n",
      "1\n",
      "2\n",
      "3\n",
      "4\n",
      "folder G:\\Chamodi\\LSDYNA3D\\RP_TH_models\\RP_Section_1_new\\3.00m\\3.00m26.5kg\n",
      "1\n",
      "2\n",
      "3\n",
      "4\n",
      "folder G:\\Chamodi\\LSDYNA3D\\RP_TH_models\\RP_Section_1_new\\3.00m\\3.00m28.5kg\n",
      "1\n",
      "2\n",
      "3\n",
      "4\n",
      "folder G:\\Chamodi\\LSDYNA3D\\RP_TH_models\\RP_Section_1_new\\3.00m\\3.00m30.5kg\n",
      "1\n",
      "2\n",
      "3\n",
      "4\n",
      "folder G:\\Chamodi\\LSDYNA3D\\RP_TH_models\\RP_Section_1_new\\3.00m\\3.00m32.5kg\n",
      "1\n",
      "2\n",
      "3\n",
      "4\n",
      "folder G:\\Chamodi\\LSDYNA3D\\RP_TH_models\\RP_Section_1_new\\3.00m\\3.00m34.5kg\n",
      "1\n",
      "2\n",
      "3\n",
      "4\n",
      "folder G:\\Chamodi\\LSDYNA3D\\RP_TH_models\\RP_Section_1_new\\3.00m\\3.00m35.0kg\n",
      "1\n",
      "2\n",
      "3\n",
      "4\n"
     ]
    }
   ],
   "source": [
    "#dataset = pd.DataFrame(columns = ['Charge_mass', 'Standoff_distance', 'Time', 'Pressure', 'Phase'])\n",
    "df_list = []\n",
    "\n",
    "for folder1 in input_dir2:\n",
    "    \n",
    "    input_dir3 =  [folder2 for folder2 in folder1.iterdir() if folder2.is_dir()] # folder2 - 07m00.5kg\n",
    "    \n",
    "    for folder2 in input_dir3:\n",
    "        \n",
    "        print ('folder', folder2)\n",
    "        files1 = [file1 for file1 in folder2.rglob(\"*.xlsx\")]\n",
    "    \n",
    "        for file1 in files1:\n",
    "            df_list.append(pd.read_excel(file1))\n",
    "            print (file1.stem)\n",
    "    \n",
    "dataset = pd.concat(df_list, ignore_index = True)"
   ]
  },
  {
   "cell_type": "code",
   "execution_count": 4,
   "metadata": {
    "colab": {},
    "colab_type": "code",
    "id": "B9CV13Co_HHM",
    "ExecuteTime": {
     "end_time": "2024-08-15T04:53:09.457395900Z",
     "start_time": "2024-08-15T04:53:09.386318900Z"
    }
   },
   "outputs": [
    {
     "name": "stdout",
     "output_type": "stream",
     "text": [
      "<class 'pandas.core.frame.DataFrame'>\n",
      "RangeIndex: 71701 entries, 0 to 71700\n",
      "Data columns (total 6 columns):\n",
      " #   Column             Non-Null Count  Dtype  \n",
      "---  ------             --------------  -----  \n",
      " 0   Mass               71701 non-null  float64\n",
      " 1   Standoff distance  71701 non-null  float64\n",
      " 2   Angle              71701 non-null  int64  \n",
      " 3   Time               71701 non-null  float64\n",
      " 4   Phase              71701 non-null  object \n",
      " 5   Pressure           71701 non-null  float64\n",
      "dtypes: float64(4), int64(1), object(1)\n",
      "memory usage: 3.3+ MB\n"
     ]
    }
   ],
   "source": [
    "dataset.info()"
   ]
  },
  {
   "cell_type": "code",
   "execution_count": 5,
   "outputs": [
    {
     "name": "stdout",
     "output_type": "stream",
     "text": [
      "<class 'pandas.core.frame.DataFrame'>\n",
      "RangeIndex: 71701 entries, 0 to 71700\n",
      "Data columns (total 8 columns):\n",
      " #   Column                     Non-Null Count  Dtype  \n",
      "---  ------                     --------------  -----  \n",
      " 0   Mass                       71701 non-null  float64\n",
      " 1   Standoff distance          71701 non-null  float64\n",
      " 2   Angle                      71701 non-null  int64  \n",
      " 3   Time                       71701 non-null  float64\n",
      " 4   Pressure                   71701 non-null  float64\n",
      " 5   Phase_negative_decreasing  71701 non-null  uint8  \n",
      " 6   Phase_negative_increasing  71701 non-null  uint8  \n",
      " 7   Phase_positive             71701 non-null  uint8  \n",
      "dtypes: float64(4), int64(1), uint8(3)\n",
      "memory usage: 2.9 MB\n"
     ]
    }
   ],
   "source": [
    "dataset = pd.get_dummies(dataset, columns =['Phase'], dtype = np.uint8)\n",
    "dataset.info()"
   ],
   "metadata": {
    "collapsed": false,
    "ExecuteTime": {
     "end_time": "2024-08-15T04:53:09.513436800Z",
     "start_time": "2024-08-15T04:53:09.416855800Z"
    }
   }
  },
  {
   "cell_type": "code",
   "execution_count": 6,
   "outputs": [
    {
     "data": {
      "text/plain": "    Mass  Standoff distance  Angle      Time    Pressure  \\\n0    0.5                1.0      0  0.675620  1835.74400   \n1    0.5                1.0      0  0.678642  1834.42100   \n2    0.5                1.0      0  0.681641  1825.07100   \n3    0.5                1.0      0  0.690485  1762.36500   \n4    0.5                1.0      0  0.729239  1252.16300   \n5    0.5                1.0      0  0.749695  1068.86900   \n6    0.5                1.0      0  0.769045   935.35660   \n7    0.5                1.0      0  0.800520   758.47430   \n8    0.5                1.0      0  0.831368   620.15920   \n9    0.5                1.0      0  0.846691   564.04980   \n10   0.5                1.0      0  0.864671   506.87930   \n11   0.5                1.0      0  0.884545   451.83270   \n12   0.5                1.0      0  0.906902   397.41580   \n13   0.5                1.0      0  0.927155   353.53220   \n14   0.5                1.0      0  0.947124   314.68150   \n15   0.5                1.0      0  0.966568   281.10310   \n16   0.5                1.0      0  0.986417   251.33860   \n17   0.5                1.0      0  1.006225   226.02760   \n18   0.5                1.0      0  1.025679   205.07110   \n19   0.5                1.0      0  1.048664   184.52760   \n20   0.5                1.0      0  1.073196   166.17430   \n21   0.5                1.0      0  1.108821   143.37730   \n22   0.5                1.0      0  1.156518   116.69450   \n23   0.5                1.0      0  1.227624    79.94161   \n24   0.5                1.0      0  1.252754    68.08047   \n25   0.5                1.0      0  1.278528    56.94484   \n26   0.5                1.0      0  1.321861    40.67422   \n27   0.5                1.0      0  1.345147    33.06606   \n28   0.5                1.0      0  1.368550    26.09805   \n29   0.5                1.0      0  1.395020    18.93172   \n\n    Phase_negative_decreasing  Phase_negative_increasing  Phase_positive  \n0                           0                          0               1  \n1                           0                          0               1  \n2                           0                          0               1  \n3                           0                          0               1  \n4                           0                          0               1  \n5                           0                          0               1  \n6                           0                          0               1  \n7                           0                          0               1  \n8                           0                          0               1  \n9                           0                          0               1  \n10                          0                          0               1  \n11                          0                          0               1  \n12                          0                          0               1  \n13                          0                          0               1  \n14                          0                          0               1  \n15                          0                          0               1  \n16                          0                          0               1  \n17                          0                          0               1  \n18                          0                          0               1  \n19                          0                          0               1  \n20                          0                          0               1  \n21                          0                          0               1  \n22                          0                          0               1  \n23                          0                          0               1  \n24                          0                          0               1  \n25                          0                          0               1  \n26                          0                          0               1  \n27                          0                          0               1  \n28                          0                          0               1  \n29                          0                          0               1  ",
      "text/html": "<div>\n<style scoped>\n    .dataframe tbody tr th:only-of-type {\n        vertical-align: middle;\n    }\n\n    .dataframe tbody tr th {\n        vertical-align: top;\n    }\n\n    .dataframe thead th {\n        text-align: right;\n    }\n</style>\n<table border=\"1\" class=\"dataframe\">\n  <thead>\n    <tr style=\"text-align: right;\">\n      <th></th>\n      <th>Mass</th>\n      <th>Standoff distance</th>\n      <th>Angle</th>\n      <th>Time</th>\n      <th>Pressure</th>\n      <th>Phase_negative_decreasing</th>\n      <th>Phase_negative_increasing</th>\n      <th>Phase_positive</th>\n    </tr>\n  </thead>\n  <tbody>\n    <tr>\n      <th>0</th>\n      <td>0.5</td>\n      <td>1.0</td>\n      <td>0</td>\n      <td>0.675620</td>\n      <td>1835.74400</td>\n      <td>0</td>\n      <td>0</td>\n      <td>1</td>\n    </tr>\n    <tr>\n      <th>1</th>\n      <td>0.5</td>\n      <td>1.0</td>\n      <td>0</td>\n      <td>0.678642</td>\n      <td>1834.42100</td>\n      <td>0</td>\n      <td>0</td>\n      <td>1</td>\n    </tr>\n    <tr>\n      <th>2</th>\n      <td>0.5</td>\n      <td>1.0</td>\n      <td>0</td>\n      <td>0.681641</td>\n      <td>1825.07100</td>\n      <td>0</td>\n      <td>0</td>\n      <td>1</td>\n    </tr>\n    <tr>\n      <th>3</th>\n      <td>0.5</td>\n      <td>1.0</td>\n      <td>0</td>\n      <td>0.690485</td>\n      <td>1762.36500</td>\n      <td>0</td>\n      <td>0</td>\n      <td>1</td>\n    </tr>\n    <tr>\n      <th>4</th>\n      <td>0.5</td>\n      <td>1.0</td>\n      <td>0</td>\n      <td>0.729239</td>\n      <td>1252.16300</td>\n      <td>0</td>\n      <td>0</td>\n      <td>1</td>\n    </tr>\n    <tr>\n      <th>5</th>\n      <td>0.5</td>\n      <td>1.0</td>\n      <td>0</td>\n      <td>0.749695</td>\n      <td>1068.86900</td>\n      <td>0</td>\n      <td>0</td>\n      <td>1</td>\n    </tr>\n    <tr>\n      <th>6</th>\n      <td>0.5</td>\n      <td>1.0</td>\n      <td>0</td>\n      <td>0.769045</td>\n      <td>935.35660</td>\n      <td>0</td>\n      <td>0</td>\n      <td>1</td>\n    </tr>\n    <tr>\n      <th>7</th>\n      <td>0.5</td>\n      <td>1.0</td>\n      <td>0</td>\n      <td>0.800520</td>\n      <td>758.47430</td>\n      <td>0</td>\n      <td>0</td>\n      <td>1</td>\n    </tr>\n    <tr>\n      <th>8</th>\n      <td>0.5</td>\n      <td>1.0</td>\n      <td>0</td>\n      <td>0.831368</td>\n      <td>620.15920</td>\n      <td>0</td>\n      <td>0</td>\n      <td>1</td>\n    </tr>\n    <tr>\n      <th>9</th>\n      <td>0.5</td>\n      <td>1.0</td>\n      <td>0</td>\n      <td>0.846691</td>\n      <td>564.04980</td>\n      <td>0</td>\n      <td>0</td>\n      <td>1</td>\n    </tr>\n    <tr>\n      <th>10</th>\n      <td>0.5</td>\n      <td>1.0</td>\n      <td>0</td>\n      <td>0.864671</td>\n      <td>506.87930</td>\n      <td>0</td>\n      <td>0</td>\n      <td>1</td>\n    </tr>\n    <tr>\n      <th>11</th>\n      <td>0.5</td>\n      <td>1.0</td>\n      <td>0</td>\n      <td>0.884545</td>\n      <td>451.83270</td>\n      <td>0</td>\n      <td>0</td>\n      <td>1</td>\n    </tr>\n    <tr>\n      <th>12</th>\n      <td>0.5</td>\n      <td>1.0</td>\n      <td>0</td>\n      <td>0.906902</td>\n      <td>397.41580</td>\n      <td>0</td>\n      <td>0</td>\n      <td>1</td>\n    </tr>\n    <tr>\n      <th>13</th>\n      <td>0.5</td>\n      <td>1.0</td>\n      <td>0</td>\n      <td>0.927155</td>\n      <td>353.53220</td>\n      <td>0</td>\n      <td>0</td>\n      <td>1</td>\n    </tr>\n    <tr>\n      <th>14</th>\n      <td>0.5</td>\n      <td>1.0</td>\n      <td>0</td>\n      <td>0.947124</td>\n      <td>314.68150</td>\n      <td>0</td>\n      <td>0</td>\n      <td>1</td>\n    </tr>\n    <tr>\n      <th>15</th>\n      <td>0.5</td>\n      <td>1.0</td>\n      <td>0</td>\n      <td>0.966568</td>\n      <td>281.10310</td>\n      <td>0</td>\n      <td>0</td>\n      <td>1</td>\n    </tr>\n    <tr>\n      <th>16</th>\n      <td>0.5</td>\n      <td>1.0</td>\n      <td>0</td>\n      <td>0.986417</td>\n      <td>251.33860</td>\n      <td>0</td>\n      <td>0</td>\n      <td>1</td>\n    </tr>\n    <tr>\n      <th>17</th>\n      <td>0.5</td>\n      <td>1.0</td>\n      <td>0</td>\n      <td>1.006225</td>\n      <td>226.02760</td>\n      <td>0</td>\n      <td>0</td>\n      <td>1</td>\n    </tr>\n    <tr>\n      <th>18</th>\n      <td>0.5</td>\n      <td>1.0</td>\n      <td>0</td>\n      <td>1.025679</td>\n      <td>205.07110</td>\n      <td>0</td>\n      <td>0</td>\n      <td>1</td>\n    </tr>\n    <tr>\n      <th>19</th>\n      <td>0.5</td>\n      <td>1.0</td>\n      <td>0</td>\n      <td>1.048664</td>\n      <td>184.52760</td>\n      <td>0</td>\n      <td>0</td>\n      <td>1</td>\n    </tr>\n    <tr>\n      <th>20</th>\n      <td>0.5</td>\n      <td>1.0</td>\n      <td>0</td>\n      <td>1.073196</td>\n      <td>166.17430</td>\n      <td>0</td>\n      <td>0</td>\n      <td>1</td>\n    </tr>\n    <tr>\n      <th>21</th>\n      <td>0.5</td>\n      <td>1.0</td>\n      <td>0</td>\n      <td>1.108821</td>\n      <td>143.37730</td>\n      <td>0</td>\n      <td>0</td>\n      <td>1</td>\n    </tr>\n    <tr>\n      <th>22</th>\n      <td>0.5</td>\n      <td>1.0</td>\n      <td>0</td>\n      <td>1.156518</td>\n      <td>116.69450</td>\n      <td>0</td>\n      <td>0</td>\n      <td>1</td>\n    </tr>\n    <tr>\n      <th>23</th>\n      <td>0.5</td>\n      <td>1.0</td>\n      <td>0</td>\n      <td>1.227624</td>\n      <td>79.94161</td>\n      <td>0</td>\n      <td>0</td>\n      <td>1</td>\n    </tr>\n    <tr>\n      <th>24</th>\n      <td>0.5</td>\n      <td>1.0</td>\n      <td>0</td>\n      <td>1.252754</td>\n      <td>68.08047</td>\n      <td>0</td>\n      <td>0</td>\n      <td>1</td>\n    </tr>\n    <tr>\n      <th>25</th>\n      <td>0.5</td>\n      <td>1.0</td>\n      <td>0</td>\n      <td>1.278528</td>\n      <td>56.94484</td>\n      <td>0</td>\n      <td>0</td>\n      <td>1</td>\n    </tr>\n    <tr>\n      <th>26</th>\n      <td>0.5</td>\n      <td>1.0</td>\n      <td>0</td>\n      <td>1.321861</td>\n      <td>40.67422</td>\n      <td>0</td>\n      <td>0</td>\n      <td>1</td>\n    </tr>\n    <tr>\n      <th>27</th>\n      <td>0.5</td>\n      <td>1.0</td>\n      <td>0</td>\n      <td>1.345147</td>\n      <td>33.06606</td>\n      <td>0</td>\n      <td>0</td>\n      <td>1</td>\n    </tr>\n    <tr>\n      <th>28</th>\n      <td>0.5</td>\n      <td>1.0</td>\n      <td>0</td>\n      <td>1.368550</td>\n      <td>26.09805</td>\n      <td>0</td>\n      <td>0</td>\n      <td>1</td>\n    </tr>\n    <tr>\n      <th>29</th>\n      <td>0.5</td>\n      <td>1.0</td>\n      <td>0</td>\n      <td>1.395020</td>\n      <td>18.93172</td>\n      <td>0</td>\n      <td>0</td>\n      <td>1</td>\n    </tr>\n  </tbody>\n</table>\n</div>"
     },
     "execution_count": 6,
     "metadata": {},
     "output_type": "execute_result"
    }
   ],
   "source": [
    "dataset.head(30)"
   ],
   "metadata": {
    "collapsed": false,
    "ExecuteTime": {
     "end_time": "2024-08-15T04:53:09.614033500Z",
     "start_time": "2024-08-15T04:53:09.508422300Z"
    }
   }
  },
  {
   "cell_type": "code",
   "execution_count": 7,
   "metadata": {
    "ExecuteTime": {
     "end_time": "2024-08-15T04:53:09.774676300Z",
     "start_time": "2024-08-15T04:53:09.600010400Z"
    }
   },
   "outputs": [
    {
     "name": "stdout",
     "output_type": "stream",
     "text": [
      "(71701, 7) (71701,)\n"
     ]
    }
   ],
   "source": [
    "y = dataset['Pressure']\n",
    "X = dataset.drop(['Pressure'], axis=1)\n",
    "print(X.shape, y.shape)"
   ]
  },
  {
   "cell_type": "code",
   "execution_count": 8,
   "metadata": {
    "ExecuteTime": {
     "end_time": "2024-08-15T04:53:09.823726500Z",
     "start_time": "2024-08-15T04:53:09.691589600Z"
    }
   },
   "outputs": [],
   "source": [
    "# convert to numpy array\n",
    "X = np.array(X)\n",
    "y = np.array(y)"
   ]
  },
  {
   "cell_type": "code",
   "execution_count": 9,
   "metadata": {
    "colab": {},
    "colab_type": "code",
    "id": "L5edeb2r_agx",
    "ExecuteTime": {
     "end_time": "2024-08-15T04:53:11.021356100Z",
     "start_time": "2024-08-15T04:53:09.797199600Z"
    }
   },
   "outputs": [],
   "source": [
    "from sklearn.model_selection import train_test_split\n",
    "X_train, X_test, y_train, y_test = train_test_split(X,\n",
    "                                                    y,\n",
    "                                                    test_size = 0.4,\n",
    "                                                    random_state = 0)"
   ]
  },
  {
   "cell_type": "code",
   "execution_count": 10,
   "metadata": {
    "colab": {},
    "colab_type": "code",
    "id": "L5edeb2r_agx",
    "ExecuteTime": {
     "end_time": "2024-08-15T04:53:11.036883300Z",
     "start_time": "2024-08-15T04:53:11.024358400Z"
    }
   },
   "outputs": [],
   "source": [
    "X_val, X_test, y_val, y_test = train_test_split(X_test,\n",
    "                                                y_test,\n",
    "                                                test_size = 0.5,\n",
    "                                                random_state = 0)"
   ]
  },
  {
   "cell_type": "code",
   "execution_count": 11,
   "outputs": [
    {
     "name": "stdout",
     "output_type": "stream",
     "text": [
      "[[ 1.39645554 -0.00313219  0.44366331 ...  0.          0.\n",
      "   1.        ]\n",
      " [-1.14818828  1.15514949 -0.45761617 ...  0.          0.\n",
      "   1.        ]\n",
      " [ 0.41774638 -0.77531997 -0.45761617 ...  0.          0.\n",
      "   1.        ]\n",
      " ...\n",
      " [-0.36522095  0.3829617  -0.45761617 ...  0.          0.\n",
      "   1.        ]\n",
      " [ 0.02626271  0.3829617  -1.35889565 ...  1.          0.\n",
      "   0.        ]\n",
      " [ 0.41774638  1.54124338  0.44366331 ...  1.          0.\n",
      "   0.        ]]\n"
     ]
    }
   ],
   "source": [
    "from sklearn.preprocessing import StandardScaler\n",
    "sc = StandardScaler()\n",
    "X_train[:,0:4] = sc.fit_transform(X_train[:, 0:4])\n",
    "print (X_train)"
   ],
   "metadata": {
    "collapsed": false,
    "ExecuteTime": {
     "end_time": "2024-08-15T04:53:11.229062300Z",
     "start_time": "2024-08-15T04:53:11.033883400Z"
    }
   }
  },
  {
   "cell_type": "code",
   "execution_count": 12,
   "outputs": [
    {
     "name": "stdout",
     "output_type": "stream",
     "text": [
      "[[ 0.02626271  1.54124338  1.34494279 ...  0.          0.\n",
      "   1.        ]\n",
      " [ 0.22200454 -0.38922608 -0.45761617 ...  0.          0.\n",
      "   1.        ]\n",
      " [-0.56096278  0.7690556  -1.35889565 ...  0.          1.\n",
      "   0.        ]\n",
      " ...\n",
      " [ 0.80923004 -1.54750776 -0.45761617 ...  0.          0.\n",
      "   1.        ]\n",
      " [ 1.00497187  0.3829617  -0.45761617 ...  0.          0.\n",
      "   1.        ]\n",
      " [ 1.2007137  -1.54750776  1.34494279 ...  0.          0.\n",
      "   1.        ]]\n"
     ]
    }
   ],
   "source": [
    "X_test[:,0:4] = sc.transform(X_test[:,0:4])\n",
    "print (X_test)"
   ],
   "metadata": {
    "collapsed": false,
    "ExecuteTime": {
     "end_time": "2024-08-15T04:53:11.296123800Z",
     "start_time": "2024-08-15T04:53:11.217058900Z"
    }
   }
  },
  {
   "cell_type": "code",
   "execution_count": 13,
   "outputs": [
    {
     "name": "stdout",
     "output_type": "stream",
     "text": [
      "[[-1.14818828 -0.77531997  0.44366331 ...  0.          0.\n",
      "   1.        ]\n",
      " [ 0.61348821 -0.38922608 -1.35889565 ...  1.          0.\n",
      "   0.        ]\n",
      " [ 1.39645554  0.7690556  -1.35889565 ...  0.          0.\n",
      "   1.        ]\n",
      " ...\n",
      " [ 0.02626271  1.54124338  1.34494279 ...  0.          0.\n",
      "   1.        ]\n",
      " [ 0.41774638 -0.00313219 -1.35889565 ...  0.          0.\n",
      "   1.        ]\n",
      " [ 0.41774638  1.15514949 -1.35889565 ...  0.          0.\n",
      "   1.        ]]\n"
     ]
    }
   ],
   "source": [
    "X_val[:,0:4] = sc.transform(X_val[:,0:4])\n",
    "print (X_val)"
   ],
   "metadata": {
    "collapsed": false,
    "ExecuteTime": {
     "end_time": "2024-08-15T04:53:11.478263700Z",
     "start_time": "2024-08-15T04:53:11.293123700Z"
    }
   }
  },
  {
   "cell_type": "code",
   "execution_count": 14,
   "outputs": [
    {
     "name": "stdout",
     "output_type": "stream",
     "text": [
      "X_train 43020\n",
      "X_test 14341\n",
      "X_val 14340\n"
     ]
    }
   ],
   "source": [
    "print (\"X_train\", len(X_train))\n",
    "print (\"X_test\", len(X_test))\n",
    "print (\"X_val\", len(X_val))"
   ],
   "metadata": {
    "collapsed": false,
    "ExecuteTime": {
     "end_time": "2024-08-15T04:53:11.889115300Z",
     "start_time": "2024-08-15T04:53:11.480269Z"
    }
   }
  },
  {
   "cell_type": "markdown",
   "metadata": {
    "colab_type": "text",
    "id": "_mSLlAT9_eyI"
   },
   "source": [
    "## Part 3 - Building the ANN"
   ]
  },
  {
   "cell_type": "code",
   "execution_count": 15,
   "metadata": {
    "colab": {},
    "colab_type": "code",
    "id": "J6Hd97Ls__Nz",
    "ExecuteTime": {
     "end_time": "2024-08-15T04:53:12.315408700Z",
     "start_time": "2024-08-15T04:53:11.888114900Z"
    }
   },
   "outputs": [],
   "source": [
    "ann = tf.keras.models.Sequential()"
   ]
  },
  {
   "cell_type": "code",
   "execution_count": 16,
   "metadata": {
    "colab": {},
    "colab_type": "code",
    "id": "ksO_Vv40AHix",
    "ExecuteTime": {
     "end_time": "2024-08-15T04:53:12.939988700Z",
     "start_time": "2024-08-15T04:53:12.318410200Z"
    }
   },
   "outputs": [],
   "source": [
    "ann.add(tf.keras.layers.Dense(units=250,\n",
    "                              input_shape=(X_train.shape[1],),\n",
    "                              activation='relu'))\n",
    "ann.add(tf.keras.layers.Dense(units=225,\n",
    "                              activation='relu'))\n",
    "ann.add(tf.keras.layers.Dense(units=200,\n",
    "                              activation='relu'))\n",
    "ann.add(tf.keras.layers.Dense(units=175,\n",
    "                              activation='relu'))\n",
    "ann.add(tf.keras.layers.Dense(units=150,\n",
    "                              activation='relu'))\n",
    "ann.add(tf.keras.layers.Dense(units=125,\n",
    "                              activation='relu'))\n",
    "ann.add(tf.keras.layers.Dense(units=100,\n",
    "                              activation='relu'))\n",
    "ann.add(tf.keras.layers.Dense(units=75,\n",
    "                              activation='relu'))"
   ]
  },
  {
   "cell_type": "code",
   "execution_count": 17,
   "metadata": {
    "colab": {},
    "colab_type": "code",
    "id": "YFATpzsUAkLL",
    "ExecuteTime": {
     "end_time": "2024-08-15T04:53:13.259971400Z",
     "start_time": "2024-08-15T04:53:12.941989Z"
    }
   },
   "outputs": [],
   "source": [
    "ann.add(tf.keras.layers.Dense(units=1,\n",
    "                              activation='linear'))"
   ]
  },
  {
   "cell_type": "code",
   "execution_count": 18,
   "metadata": {
    "ExecuteTime": {
     "end_time": "2024-08-15T04:53:13.457349700Z",
     "start_time": "2024-08-15T04:53:13.260970900Z"
    }
   },
   "outputs": [
    {
     "name": "stdout",
     "output_type": "stream",
     "text": [
      "Model: \"sequential\"\n",
      "_________________________________________________________________\n",
      " Layer (type)                Output Shape              Param #   \n",
      "=================================================================\n",
      " dense (Dense)               (None, 250)               2000      \n",
      "                                                                 \n",
      " dense_1 (Dense)             (None, 225)               56475     \n",
      "                                                                 \n",
      " dense_2 (Dense)             (None, 200)               45200     \n",
      "                                                                 \n",
      " dense_3 (Dense)             (None, 175)               35175     \n",
      "                                                                 \n",
      " dense_4 (Dense)             (None, 150)               26400     \n",
      "                                                                 \n",
      " dense_5 (Dense)             (None, 125)               18875     \n",
      "                                                                 \n",
      " dense_6 (Dense)             (None, 100)               12600     \n",
      "                                                                 \n",
      " dense_7 (Dense)             (None, 75)                7575      \n",
      "                                                                 \n",
      " dense_8 (Dense)             (None, 1)                 76        \n",
      "                                                                 \n",
      "=================================================================\n",
      "Total params: 204,376\n",
      "Trainable params: 204,376\n",
      "Non-trainable params: 0\n",
      "_________________________________________________________________\n"
     ]
    }
   ],
   "source": [
    "ann.summary()"
   ]
  },
  {
   "cell_type": "markdown",
   "metadata": {
    "colab_type": "text",
    "id": "fq7e4fF6A1yy"
   },
   "source": [
    "## Part 4 - Training the ANN"
   ]
  },
  {
   "cell_type": "code",
   "execution_count": 19,
   "metadata": {
    "colab": {},
    "colab_type": "code",
    "id": "pesgbWlCAtB4",
    "ExecuteTime": {
     "end_time": "2024-08-15T04:53:13.705621Z",
     "start_time": "2024-08-15T04:53:13.462347800Z"
    }
   },
   "outputs": [],
   "source": [
    "# from tensorflow.keras.optimizers import Adam\n",
    "from keras.optimizers import Adam\n",
    "opt = Adam(learning_rate=0.001)\n",
    "ann.compile(optimizer = opt,\n",
    "            loss = 'mean_squared_error',\n",
    "            metrics = ['mae'])"
   ]
  },
  {
   "cell_type": "code",
   "execution_count": 20,
   "metadata": {
    "ExecuteTime": {
     "end_time": "2024-08-15T04:53:13.764654500Z",
     "start_time": "2024-08-15T04:53:13.629559Z"
    }
   },
   "outputs": [],
   "source": [
    "# protects from unnecessary further training of the model if a particular metric does not continue to improve over a number of n epochs. In such a case, the model training would be automatically aborted.\n",
    "from keras.callbacks import EarlyStopping\n",
    "es = EarlyStopping(monitor='val_loss',\n",
    "                   mode='min',\n",
    "                   patience=50,\n",
    "                   restore_best_weights = True)"
   ]
  },
  {
   "cell_type": "code",
   "execution_count": 21,
   "metadata": {
    "colab": {
     "base_uri": "https://localhost:8080/",
     "height": 1000
    },
    "colab_type": "code",
    "id": "c_vV-tiiA5zn",
    "outputId": "4a2b6ee6-ed75-4698-9069-b250e613803f",
    "ExecuteTime": {
     "end_time": "2024-08-15T05:19:53.595548Z",
     "start_time": "2024-08-15T04:53:13.766655100Z"
    }
   },
   "outputs": [
    {
     "name": "stdout",
     "output_type": "stream",
     "text": [
      "Epoch 1/500\n",
      "1434/1434 [==============================] - 43s 29ms/step - loss: 5498953.5000 - mae: 837.9176 - val_loss: 1883345.2500 - val_mae: 475.7820\n",
      "Epoch 2/500\n",
      "1434/1434 [==============================] - 13s 9ms/step - loss: 2203044.5000 - mae: 458.7565 - val_loss: 1445973.3750 - val_mae: 386.4572\n",
      "Epoch 3/500\n",
      "1434/1434 [==============================] - 13s 9ms/step - loss: 1864618.7500 - mae: 396.6528 - val_loss: 1025831.5625 - val_mae: 218.6909\n",
      "Epoch 4/500\n",
      "1434/1434 [==============================] - 12s 9ms/step - loss: 1569372.1250 - mae: 355.0251 - val_loss: 886318.5625 - val_mae: 239.6866\n",
      "Epoch 5/500\n",
      "1434/1434 [==============================] - 13s 9ms/step - loss: 1810816.1250 - mae: 380.3719 - val_loss: 1729687.1250 - val_mae: 519.6442\n",
      "Epoch 6/500\n",
      "1434/1434 [==============================] - 12s 9ms/step - loss: 1452413.7500 - mae: 337.5434 - val_loss: 896036.6250 - val_mae: 237.9284\n",
      "Epoch 7/500\n",
      "1434/1434 [==============================] - 12s 9ms/step - loss: 1968888.7500 - mae: 400.2016 - val_loss: 817609.3750 - val_mae: 257.0219\n",
      "Epoch 8/500\n",
      "1434/1434 [==============================] - 13s 9ms/step - loss: 1253239.7500 - mae: 291.8373 - val_loss: 905011.1250 - val_mae: 281.5331\n",
      "Epoch 9/500\n",
      "1434/1434 [==============================] - 12s 9ms/step - loss: 1402580.8750 - mae: 318.1384 - val_loss: 1735563.8750 - val_mae: 438.7502\n",
      "Epoch 10/500\n",
      "1434/1434 [==============================] - 12s 9ms/step - loss: 1247620.6250 - mae: 288.3582 - val_loss: 1027961.8125 - val_mae: 234.5653\n",
      "Epoch 11/500\n",
      "1434/1434 [==============================] - 12s 9ms/step - loss: 1232846.1250 - mae: 295.6573 - val_loss: 911696.5000 - val_mae: 301.1861\n",
      "Epoch 12/500\n",
      "1434/1434 [==============================] - 13s 9ms/step - loss: 1238039.3750 - mae: 289.3795 - val_loss: 814180.0625 - val_mae: 188.5459\n",
      "Epoch 13/500\n",
      "1434/1434 [==============================] - 13s 9ms/step - loss: 1123663.2500 - mae: 269.9478 - val_loss: 912332.3750 - val_mae: 233.7676\n",
      "Epoch 14/500\n",
      "1434/1434 [==============================] - 13s 9ms/step - loss: 1176753.6250 - mae: 270.7436 - val_loss: 1538493.0000 - val_mae: 349.7982\n",
      "Epoch 15/500\n",
      "1434/1434 [==============================] - 12s 9ms/step - loss: 1147784.1250 - mae: 269.1371 - val_loss: 1154544.1250 - val_mae: 259.5807\n",
      "Epoch 16/500\n",
      "1434/1434 [==============================] - 13s 9ms/step - loss: 1228391.5000 - mae: 283.1688 - val_loss: 1316743.1250 - val_mae: 241.0464\n",
      "Epoch 17/500\n",
      "1434/1434 [==============================] - 13s 9ms/step - loss: 1047791.5625 - mae: 249.7758 - val_loss: 699223.2500 - val_mae: 188.4893\n",
      "Epoch 18/500\n",
      "1434/1434 [==============================] - 13s 9ms/step - loss: 1131669.7500 - mae: 265.5361 - val_loss: 740653.1250 - val_mae: 190.4454\n",
      "Epoch 19/500\n",
      "1434/1434 [==============================] - 12s 8ms/step - loss: 1050162.1250 - mae: 253.4841 - val_loss: 1113917.7500 - val_mae: 283.1676\n",
      "Epoch 20/500\n",
      "1434/1434 [==============================] - 12s 9ms/step - loss: 1055821.7500 - mae: 240.1778 - val_loss: 2331051.5000 - val_mae: 359.3716\n",
      "Epoch 21/500\n",
      "1434/1434 [==============================] - 13s 9ms/step - loss: 1074672.2500 - mae: 254.3456 - val_loss: 727138.6250 - val_mae: 173.4048\n",
      "Epoch 22/500\n",
      "1434/1434 [==============================] - 15s 10ms/step - loss: 1024294.3750 - mae: 252.5488 - val_loss: 838514.3750 - val_mae: 190.7184\n",
      "Epoch 23/500\n",
      "1434/1434 [==============================] - 12s 9ms/step - loss: 1034899.5000 - mae: 245.7240 - val_loss: 663860.1875 - val_mae: 172.7298\n",
      "Epoch 24/500\n",
      "1434/1434 [==============================] - 13s 9ms/step - loss: 1029888.1875 - mae: 243.2424 - val_loss: 928477.0625 - val_mae: 254.5330\n",
      "Epoch 25/500\n",
      "1434/1434 [==============================] - 12s 9ms/step - loss: 1077740.0000 - mae: 246.3862 - val_loss: 1296961.5000 - val_mae: 345.0370\n",
      "Epoch 26/500\n",
      "1434/1434 [==============================] - 13s 9ms/step - loss: 952010.3750 - mae: 233.4872 - val_loss: 582334.0625 - val_mae: 164.0232\n",
      "Epoch 27/500\n",
      "1434/1434 [==============================] - 13s 9ms/step - loss: 976161.2500 - mae: 237.7326 - val_loss: 1226410.1250 - val_mae: 320.3855\n",
      "Epoch 28/500\n",
      "1434/1434 [==============================] - 12s 8ms/step - loss: 1016160.6875 - mae: 245.0810 - val_loss: 538156.5000 - val_mae: 166.6706\n",
      "Epoch 29/500\n",
      "1434/1434 [==============================] - 12s 9ms/step - loss: 976998.6250 - mae: 230.5139 - val_loss: 770363.0000 - val_mae: 202.3185\n",
      "Epoch 30/500\n",
      "1434/1434 [==============================] - 13s 9ms/step - loss: 937049.6875 - mae: 217.6125 - val_loss: 645396.8750 - val_mae: 167.2426\n",
      "Epoch 31/500\n",
      "1434/1434 [==============================] - 12s 8ms/step - loss: 1048329.5625 - mae: 237.4184 - val_loss: 1414119.2500 - val_mae: 353.6712\n",
      "Epoch 32/500\n",
      "1434/1434 [==============================] - 13s 9ms/step - loss: 930912.0625 - mae: 217.7124 - val_loss: 2983300.0000 - val_mae: 527.1333\n",
      "Epoch 33/500\n",
      "1434/1434 [==============================] - 12s 8ms/step - loss: 1020353.1875 - mae: 240.5792 - val_loss: 2156998.5000 - val_mae: 424.9044\n",
      "Epoch 34/500\n",
      "1434/1434 [==============================] - 12s 8ms/step - loss: 974813.2500 - mae: 236.9571 - val_loss: 718263.5625 - val_mae: 164.5028\n",
      "Epoch 35/500\n",
      "1434/1434 [==============================] - 12s 9ms/step - loss: 1109941.7500 - mae: 264.2334 - val_loss: 1695214.7500 - val_mae: 384.4814\n",
      "Epoch 36/500\n",
      "1434/1434 [==============================] - 12s 8ms/step - loss: 1124038.7500 - mae: 260.8145 - val_loss: 682392.7500 - val_mae: 213.7076\n",
      "Epoch 37/500\n",
      "1434/1434 [==============================] - 13s 9ms/step - loss: 1014171.8750 - mae: 244.3147 - val_loss: 753735.4375 - val_mae: 191.6490\n",
      "Epoch 38/500\n",
      "1434/1434 [==============================] - 12s 8ms/step - loss: 1017148.6875 - mae: 254.7413 - val_loss: 2049880.3750 - val_mae: 379.4113\n",
      "Epoch 39/500\n",
      "1434/1434 [==============================] - 12s 8ms/step - loss: 935794.2500 - mae: 237.9591 - val_loss: 2515693.7500 - val_mae: 480.2908\n",
      "Epoch 40/500\n",
      "1434/1434 [==============================] - 12s 8ms/step - loss: 976713.3750 - mae: 244.3484 - val_loss: 766473.1875 - val_mae: 222.4134\n",
      "Epoch 41/500\n",
      "1434/1434 [==============================] - 12s 8ms/step - loss: 983206.8125 - mae: 245.4312 - val_loss: 1251869.7500 - val_mae: 309.5023\n",
      "Epoch 42/500\n",
      "1434/1434 [==============================] - 12s 9ms/step - loss: 983289.5625 - mae: 232.3703 - val_loss: 1555126.6250 - val_mae: 302.7944\n",
      "Epoch 43/500\n",
      "1434/1434 [==============================] - 12s 8ms/step - loss: 887854.6250 - mae: 214.0016 - val_loss: 782103.6250 - val_mae: 257.3685\n",
      "Epoch 44/500\n",
      "1434/1434 [==============================] - 12s 9ms/step - loss: 925935.6250 - mae: 245.1427 - val_loss: 914062.1875 - val_mae: 181.0811\n",
      "Epoch 45/500\n",
      "1434/1434 [==============================] - 12s 9ms/step - loss: 920730.6875 - mae: 236.4054 - val_loss: 632260.2500 - val_mae: 151.0222\n",
      "Epoch 46/500\n",
      "1434/1434 [==============================] - 12s 9ms/step - loss: 895971.9375 - mae: 221.9039 - val_loss: 2042396.6250 - val_mae: 361.6913\n",
      "Epoch 47/500\n",
      "1434/1434 [==============================] - 12s 8ms/step - loss: 873897.5000 - mae: 229.3704 - val_loss: 1464026.1250 - val_mae: 323.1448\n",
      "Epoch 48/500\n",
      "1434/1434 [==============================] - 12s 9ms/step - loss: 933738.5000 - mae: 237.2494 - val_loss: 879379.3750 - val_mae: 290.1679\n",
      "Epoch 49/500\n",
      "1434/1434 [==============================] - 12s 8ms/step - loss: 949883.9375 - mae: 258.7487 - val_loss: 2725131.7500 - val_mae: 455.1947\n",
      "Epoch 50/500\n",
      "1434/1434 [==============================] - 12s 8ms/step - loss: 1017108.0000 - mae: 262.3618 - val_loss: 693161.0000 - val_mae: 237.9238\n",
      "Epoch 51/500\n",
      "1434/1434 [==============================] - 11s 8ms/step - loss: 852229.0625 - mae: 230.8459 - val_loss: 526543.8125 - val_mae: 175.8898\n",
      "Epoch 52/500\n",
      "1434/1434 [==============================] - 12s 8ms/step - loss: 884046.6875 - mae: 229.5548 - val_loss: 770875.6875 - val_mae: 217.1912\n",
      "Epoch 53/500\n",
      "1434/1434 [==============================] - 13s 9ms/step - loss: 1134623.5000 - mae: 258.5189 - val_loss: 2802049.2500 - val_mae: 572.6766\n",
      "Epoch 54/500\n",
      "1434/1434 [==============================] - 12s 8ms/step - loss: 1239931.0000 - mae: 292.0918 - val_loss: 677805.3750 - val_mae: 200.4286\n",
      "Epoch 55/500\n",
      "1434/1434 [==============================] - 12s 8ms/step - loss: 956906.1250 - mae: 245.0960 - val_loss: 795527.4375 - val_mae: 310.2623\n",
      "Epoch 56/500\n",
      "1434/1434 [==============================] - 13s 9ms/step - loss: 935072.6875 - mae: 240.2940 - val_loss: 781682.0625 - val_mae: 223.6257\n",
      "Epoch 57/500\n",
      "1434/1434 [==============================] - 13s 9ms/step - loss: 896011.1250 - mae: 241.5152 - val_loss: 750662.8125 - val_mae: 242.7614\n",
      "Epoch 58/500\n",
      "1434/1434 [==============================] - 12s 8ms/step - loss: 977478.8750 - mae: 248.9603 - val_loss: 648568.7500 - val_mae: 201.5021\n",
      "Epoch 59/500\n",
      "1434/1434 [==============================] - 13s 9ms/step - loss: 877986.1875 - mae: 236.0292 - val_loss: 992276.7500 - val_mae: 219.2913\n",
      "Epoch 60/500\n",
      "1434/1434 [==============================] - 12s 9ms/step - loss: 914438.9375 - mae: 245.3016 - val_loss: 1246491.3750 - val_mae: 235.5438\n",
      "Epoch 61/500\n",
      "1434/1434 [==============================] - 12s 9ms/step - loss: 898383.2500 - mae: 242.1401 - val_loss: 620495.8750 - val_mae: 206.3756\n",
      "Epoch 62/500\n",
      "1434/1434 [==============================] - 13s 9ms/step - loss: 795882.3125 - mae: 210.6760 - val_loss: 761091.0000 - val_mae: 224.2031\n",
      "Epoch 63/500\n",
      "1434/1434 [==============================] - 12s 9ms/step - loss: 894580.5625 - mae: 236.9550 - val_loss: 643346.1250 - val_mae: 158.2161\n",
      "Epoch 64/500\n",
      "1434/1434 [==============================] - 13s 9ms/step - loss: 960644.4375 - mae: 251.6758 - val_loss: 605070.3750 - val_mae: 196.3655\n",
      "Epoch 65/500\n",
      "1434/1434 [==============================] - 12s 9ms/step - loss: 978463.8750 - mae: 262.2648 - val_loss: 3108905.5000 - val_mae: 465.7047\n",
      "Epoch 66/500\n",
      "1434/1434 [==============================] - 13s 9ms/step - loss: 937207.5625 - mae: 245.8072 - val_loss: 670050.8125 - val_mae: 164.1073\n",
      "Epoch 67/500\n",
      "1434/1434 [==============================] - 12s 9ms/step - loss: 776658.0625 - mae: 206.0484 - val_loss: 636078.6250 - val_mae: 201.4120\n",
      "Epoch 68/500\n",
      "1434/1434 [==============================] - 13s 9ms/step - loss: 875318.1250 - mae: 229.3213 - val_loss: 625784.2500 - val_mae: 183.0204\n",
      "Epoch 69/500\n",
      "1434/1434 [==============================] - 13s 9ms/step - loss: 886282.4375 - mae: 236.6610 - val_loss: 594919.3125 - val_mae: 170.4955\n",
      "Epoch 70/500\n",
      "1434/1434 [==============================] - 14s 10ms/step - loss: 836480.5000 - mae: 224.6334 - val_loss: 991584.6875 - val_mae: 214.0677\n",
      "Epoch 71/500\n",
      "1434/1434 [==============================] - 12s 9ms/step - loss: 902623.8750 - mae: 238.9713 - val_loss: 969920.9375 - val_mae: 205.7666\n",
      "Epoch 72/500\n",
      "1434/1434 [==============================] - 12s 9ms/step - loss: 875212.8750 - mae: 242.0719 - val_loss: 954480.1250 - val_mae: 220.4023\n",
      "Epoch 73/500\n",
      "1434/1434 [==============================] - 13s 9ms/step - loss: 928609.6875 - mae: 242.1087 - val_loss: 530821.6875 - val_mae: 189.8176\n",
      "Epoch 74/500\n",
      "1434/1434 [==============================] - 13s 9ms/step - loss: 881822.9375 - mae: 231.0203 - val_loss: 1092445.0000 - val_mae: 354.8133\n",
      "Epoch 75/500\n",
      "1434/1434 [==============================] - 12s 9ms/step - loss: 816124.0000 - mae: 217.5077 - val_loss: 468755.0938 - val_mae: 155.9633\n",
      "Epoch 76/500\n",
      "1434/1434 [==============================] - 12s 8ms/step - loss: 799000.5625 - mae: 204.3156 - val_loss: 650858.0625 - val_mae: 166.8132\n",
      "Epoch 77/500\n",
      "1434/1434 [==============================] - 13s 9ms/step - loss: 808739.1250 - mae: 208.1090 - val_loss: 547507.0000 - val_mae: 172.8830\n",
      "Epoch 78/500\n",
      "1434/1434 [==============================] - 13s 9ms/step - loss: 883646.8750 - mae: 231.5025 - val_loss: 538242.1875 - val_mae: 212.3630\n",
      "Epoch 79/500\n",
      "1434/1434 [==============================] - 13s 9ms/step - loss: 978905.9375 - mae: 244.1318 - val_loss: 1229025.2500 - val_mae: 293.0767\n",
      "Epoch 80/500\n",
      "1434/1434 [==============================] - 13s 9ms/step - loss: 898786.1875 - mae: 233.7504 - val_loss: 1139807.2500 - val_mae: 298.1401\n",
      "Epoch 81/500\n",
      "1434/1434 [==============================] - 13s 9ms/step - loss: 804766.0000 - mae: 220.0675 - val_loss: 643495.6250 - val_mae: 170.0532\n",
      "Epoch 82/500\n",
      "1434/1434 [==============================] - 12s 9ms/step - loss: 856055.6250 - mae: 233.4994 - val_loss: 853709.0000 - val_mae: 201.3445\n",
      "Epoch 83/500\n",
      "1434/1434 [==============================] - 13s 9ms/step - loss: 894876.6250 - mae: 235.0014 - val_loss: 665317.2500 - val_mae: 181.4487\n",
      "Epoch 84/500\n",
      "1434/1434 [==============================] - 13s 9ms/step - loss: 832282.0625 - mae: 226.8270 - val_loss: 668390.3750 - val_mae: 162.8271\n",
      "Epoch 85/500\n",
      "1434/1434 [==============================] - 13s 9ms/step - loss: 800740.9375 - mae: 221.1690 - val_loss: 558842.1250 - val_mae: 185.9140\n",
      "Epoch 86/500\n",
      "1434/1434 [==============================] - 13s 9ms/step - loss: 875070.0000 - mae: 226.9847 - val_loss: 774243.0000 - val_mae: 182.6905\n",
      "Epoch 87/500\n",
      "1434/1434 [==============================] - 13s 9ms/step - loss: 858026.5000 - mae: 237.3633 - val_loss: 3433864.0000 - val_mae: 720.8651\n",
      "Epoch 88/500\n",
      "1434/1434 [==============================] - 13s 9ms/step - loss: 994067.1250 - mae: 248.4674 - val_loss: 579886.6250 - val_mae: 168.3363\n",
      "Epoch 89/500\n",
      "1434/1434 [==============================] - 12s 9ms/step - loss: 805892.5625 - mae: 218.3484 - val_loss: 613426.2500 - val_mae: 162.8822\n",
      "Epoch 90/500\n",
      "1434/1434 [==============================] - 13s 9ms/step - loss: 797186.6875 - mae: 218.8078 - val_loss: 822022.4375 - val_mae: 228.5767\n",
      "Epoch 91/500\n",
      "1434/1434 [==============================] - 12s 9ms/step - loss: 865465.0625 - mae: 245.7688 - val_loss: 1010944.8750 - val_mae: 181.7161\n",
      "Epoch 92/500\n",
      "1434/1434 [==============================] - 12s 9ms/step - loss: 866858.5000 - mae: 236.0114 - val_loss: 634890.0625 - val_mae: 181.3708\n",
      "Epoch 93/500\n",
      "1434/1434 [==============================] - 14s 10ms/step - loss: 756788.8125 - mae: 212.6896 - val_loss: 1237804.2500 - val_mae: 263.9257\n",
      "Epoch 94/500\n",
      "1434/1434 [==============================] - 13s 9ms/step - loss: 893932.3750 - mae: 242.2334 - val_loss: 838246.8750 - val_mae: 245.3692\n",
      "Epoch 95/500\n",
      "1434/1434 [==============================] - 13s 9ms/step - loss: 824166.6250 - mae: 236.4685 - val_loss: 584224.8750 - val_mae: 166.6050\n",
      "Epoch 96/500\n",
      "1434/1434 [==============================] - 14s 10ms/step - loss: 793583.8125 - mae: 222.8540 - val_loss: 612848.9375 - val_mae: 174.3556\n",
      "Epoch 97/500\n",
      "1434/1434 [==============================] - 13s 9ms/step - loss: 837844.3125 - mae: 239.8000 - val_loss: 709649.0000 - val_mae: 190.9026\n",
      "Epoch 98/500\n",
      "1434/1434 [==============================] - 13s 9ms/step - loss: 881035.3125 - mae: 250.5438 - val_loss: 586332.0625 - val_mae: 203.8365\n",
      "Epoch 99/500\n",
      "1434/1434 [==============================] - 13s 9ms/step - loss: 774195.1875 - mae: 214.4820 - val_loss: 667789.8125 - val_mae: 323.8660\n",
      "Epoch 100/500\n",
      "1434/1434 [==============================] - 13s 9ms/step - loss: 1011172.4375 - mae: 271.3736 - val_loss: 553663.0000 - val_mae: 214.7656\n",
      "Epoch 101/500\n",
      "1434/1434 [==============================] - 12s 9ms/step - loss: 803839.2500 - mae: 223.6249 - val_loss: 621777.0000 - val_mae: 180.1498\n",
      "Epoch 102/500\n",
      "1434/1434 [==============================] - 13s 9ms/step - loss: 832324.7500 - mae: 223.8230 - val_loss: 906531.1250 - val_mae: 245.4019\n",
      "Epoch 103/500\n",
      "1434/1434 [==============================] - 12s 9ms/step - loss: 747438.8125 - mae: 212.4704 - val_loss: 1139959.7500 - val_mae: 297.8103\n",
      "Epoch 104/500\n",
      "1434/1434 [==============================] - 13s 9ms/step - loss: 896679.0625 - mae: 238.8880 - val_loss: 1071187.1250 - val_mae: 254.8434\n",
      "Epoch 105/500\n",
      "1434/1434 [==============================] - 12s 9ms/step - loss: 815499.3125 - mae: 218.8461 - val_loss: 604367.3125 - val_mae: 156.6568\n",
      "Epoch 106/500\n",
      "1434/1434 [==============================] - 13s 9ms/step - loss: 840918.4375 - mae: 236.9984 - val_loss: 855281.0625 - val_mae: 175.4967\n",
      "Epoch 107/500\n",
      "1434/1434 [==============================] - 13s 9ms/step - loss: 777990.6250 - mae: 216.7670 - val_loss: 695344.7500 - val_mae: 181.1535\n",
      "Epoch 108/500\n",
      "1434/1434 [==============================] - 12s 9ms/step - loss: 769728.3750 - mae: 217.9408 - val_loss: 544418.1875 - val_mae: 162.5234\n",
      "Epoch 109/500\n",
      "1434/1434 [==============================] - 13s 9ms/step - loss: 787638.8125 - mae: 209.4868 - val_loss: 715475.3125 - val_mae: 157.7562\n",
      "Epoch 110/500\n",
      "1434/1434 [==============================] - 13s 9ms/step - loss: 752372.7500 - mae: 203.2022 - val_loss: 618621.4375 - val_mae: 175.8863\n",
      "Epoch 111/500\n",
      "1434/1434 [==============================] - 12s 8ms/step - loss: 773739.6250 - mae: 219.3190 - val_loss: 566088.1875 - val_mae: 192.0182\n",
      "Epoch 112/500\n",
      "1434/1434 [==============================] - 13s 9ms/step - loss: 784556.7500 - mae: 223.0585 - val_loss: 741593.9375 - val_mae: 205.5609\n",
      "Epoch 113/500\n",
      "1434/1434 [==============================] - 12s 9ms/step - loss: 772115.6875 - mae: 213.8508 - val_loss: 593928.5000 - val_mae: 174.0274\n",
      "Epoch 114/500\n",
      "1434/1434 [==============================] - 12s 9ms/step - loss: 731433.9375 - mae: 199.8285 - val_loss: 593615.4375 - val_mae: 149.3021\n",
      "Epoch 115/500\n",
      "1434/1434 [==============================] - 13s 9ms/step - loss: 733266.1250 - mae: 205.2121 - val_loss: 2906736.0000 - val_mae: 534.3428\n",
      "Epoch 116/500\n",
      "1434/1434 [==============================] - 12s 8ms/step - loss: 801943.0000 - mae: 228.0322 - val_loss: 743165.0000 - val_mae: 227.4410\n",
      "Epoch 117/500\n",
      "1434/1434 [==============================] - 12s 8ms/step - loss: 675448.5625 - mae: 194.6457 - val_loss: 947883.5000 - val_mae: 237.4300\n",
      "Epoch 118/500\n",
      "1434/1434 [==============================] - 12s 8ms/step - loss: 755721.3750 - mae: 211.4874 - val_loss: 529659.0625 - val_mae: 163.7603\n",
      "Epoch 119/500\n",
      "1434/1434 [==============================] - 12s 9ms/step - loss: 838528.5000 - mae: 228.2801 - val_loss: 1453582.8750 - val_mae: 312.5502\n",
      "Epoch 120/500\n",
      "1434/1434 [==============================] - 13s 9ms/step - loss: 792512.9375 - mae: 211.0062 - val_loss: 633879.3750 - val_mae: 163.4630\n",
      "Epoch 121/500\n",
      "1434/1434 [==============================] - 13s 9ms/step - loss: 803092.5000 - mae: 214.9951 - val_loss: 600946.4375 - val_mae: 205.5654\n",
      "Epoch 122/500\n",
      "1434/1434 [==============================] - 13s 9ms/step - loss: 683298.2500 - mae: 193.7705 - val_loss: 736371.9375 - val_mae: 189.8170\n",
      "Epoch 123/500\n",
      "1434/1434 [==============================] - 13s 9ms/step - loss: 767069.5625 - mae: 215.6140 - val_loss: 685360.5625 - val_mae: 201.4205\n",
      "Epoch 124/500\n",
      "1434/1434 [==============================] - 13s 9ms/step - loss: 748442.0625 - mae: 210.3189 - val_loss: 1195703.5000 - val_mae: 377.1913\n",
      "Epoch 125/500\n",
      "1434/1434 [==============================] - 13s 9ms/step - loss: 800854.0000 - mae: 219.0766 - val_loss: 558805.4375 - val_mae: 217.0661\n"
     ]
    }
   ],
   "source": [
    "history = ann.fit(X_train, y_train,\n",
    "                    validation_data = (X_val, y_val),\n",
    "                    callbacks=[es],\n",
    "                    epochs=500,\n",
    "                    batch_size=30,\n",
    "                    verbose=1)"
   ]
  },
  {
   "cell_type": "code",
   "execution_count": 22,
   "metadata": {
    "ExecuteTime": {
     "end_time": "2024-08-15T05:19:54.202139100Z",
     "start_time": "2024-08-15T05:19:53.590536600Z"
    }
   },
   "outputs": [
    {
     "data": {
      "text/plain": "<Figure size 600x600 with 1 Axes>",
      "image/png": "[encoded data removed]"
     },
     "metadata": {},
     "output_type": "display_data"
    }
   ],
   "source": [
    "# let's see the training and validation accuracy by epoch\n",
    "history_dict = history.history\n",
    "loss_values = history_dict['loss'] # you can change this\n",
    "val_loss_values = history_dict['val_loss'] # you can also change this\n",
    "epochs = range(1, len(loss_values) + 1) # range of X (no. of epochs)\n",
    "\n",
    "# Set global font to Times New Roman and font size\n",
    "plt.rcParams['font.family'] = 'serif'\n",
    "plt.rcParams['font.serif'] = ['Times New Roman']\n",
    "plt.rcParams['font.size'] = 20\n",
    "\n",
    "# Create a plot\n",
    "plt.figure(figsize=(6, 6))\n",
    "plt.plot(epochs, loss_values, 'blue', label='Train set')\n",
    "plt.plot(epochs, val_loss_values, 'orange', label='Validation set')\n",
    "#plt.title('Training and testing loss')\n",
    "\n",
    "\n",
    "plt.xlabel('Epochs')\n",
    "plt.ylabel('Loss (MSE)')\n",
    "plt.legend()\n",
    "plt.savefig('Section2_ANN6_2.png', dpi=200, bbox_inches='tight')\n",
    "plt.show()"
   ]
  },
  {
   "cell_type": "code",
   "execution_count": 23,
   "metadata": {
    "ExecuteTime": {
     "end_time": "2024-08-15T05:19:54.760635Z",
     "start_time": "2024-08-15T05:19:54.197616600Z"
    }
   },
   "outputs": [
    {
     "data": {
      "text/plain": "<Figure size 600x600 with 1 Axes>",
      "image/png": "[encoded data removed]"
     },
     "metadata": {},
     "output_type": "display_data"
    }
   ],
   "source": [
    "loss_values1 = history_dict['mae'] # you can change this\n",
    "val_loss_values1 = history_dict['val_mae'] # you can also change this\n",
    "epochs = range(1, len(loss_values1) + 1) # range of X (no. of epochs)\n",
    "# Create a plot\n",
    "plt.figure(figsize=(6, 6))\n",
    "plt.plot(epochs, loss_values1, 'blue', label='Train set')\n",
    "plt.plot(epochs, val_loss_values1, 'orange', label='Validation set')\n",
    "#plt.title('Training and testing MAE')\n",
    "plt.xlabel('Epochs')\n",
    "plt.ylabel('MAE (kPa)')\n",
    "plt.legend()\n",
    "plt.savefig('Section2_ANN6_3.png', dpi=200, bbox_inches='tight')\n",
    "plt.show()"
   ]
  },
  {
   "cell_type": "code",
   "execution_count": 24,
   "metadata": {
    "ExecuteTime": {
     "end_time": "2024-08-15T05:19:57.733166700Z",
     "start_time": "2024-08-15T05:19:54.760635Z"
    }
   },
   "outputs": [
    {
     "name": "stdout",
     "output_type": "stream",
     "text": [
      "INFO:tensorflow:Assets written to: Section2_new_ANN_6\\assets\n"
     ]
    }
   ],
   "source": [
    "ann.save('Section2_new_ANN_6')\n",
    "import pickle\n",
    "pickle.dump(sc, open('Section2_new_scaler_ANN_6.pkl', 'wb'))"
   ]
  },
  {
   "cell_type": "markdown",
   "metadata": {},
   "source": [
    "## Part 5 - Make predictions"
   ]
  },
  {
   "cell_type": "code",
   "execution_count": 25,
   "metadata": {
    "ExecuteTime": {
     "end_time": "2024-08-15T05:20:05.990834700Z",
     "start_time": "2024-08-15T05:19:57.738164500Z"
    }
   },
   "outputs": [
    {
     "name": "stdout",
     "output_type": "stream",
     "text": [
      "1345/1345 [==============================] - 5s 3ms/step\n",
      "449/449 [==============================] - 2s 3ms/step\n"
     ]
    },
    {
     "data": {
      "text/plain": "<Figure size 640x480 with 2 Axes>",
      "image/png": "[encoded data removed]"
     },
     "metadata": {},
     "output_type": "display_data"
    }
   ],
   "source": [
    "# scatterplot of actual vs. pred\n",
    "# specify the dimensions \n",
    "fig, axes = plt.subplots(1,2) # 1 row, 2 columns\n",
    "\n",
    "# this makes the individual subplots\n",
    "# Training Results\n",
    "axes[0].scatter(x=y_train, y=ann.predict(X_train)) #first row, first entry (left top)\n",
    "axes[0].set_xlabel(\"Actual\", fontsize=20)\n",
    "axes[0].set_ylabel(\"Predicted\",  fontsize=20)\n",
    "axes[0].set_title(\"Training\")\n",
    "# add 45 deg line\n",
    "x = np.linspace(*axes[0].get_xlim())\n",
    "axes[0].plot(x, x, color='red')\n",
    "# Validation Results\n",
    "axes[1].scatter(x=y_val, y=ann.predict(X_val)) # first row, second entry (right top)\n",
    "axes[1].set_xlabel(\"Actual\", fontsize=20)\n",
    "axes[1].set_ylabel(\"Predicted\",  fontsize=20)\n",
    "axes[1].set_title(\"Validation\")\n",
    "# add 45 deg line\n",
    "x = np.linspace(*axes[1].get_xlim())\n",
    "axes[1].plot(x, x, color='red')\n",
    "\n",
    "# tight layout\n",
    "fig.tight_layout()\n",
    "\n",
    "plt.savefig('Section2_ANN6_1.png', dpi=200, bbox_inches='tight')\n",
    "# show the plot\n",
    "plt.show()"
   ]
  },
  {
   "cell_type": "code",
   "execution_count": 26,
   "metadata": {
    "colab": {
     "base_uri": "https://localhost:8080/",
     "height": 134
    },
    "colab_type": "code",
    "id": "IA0yApEmBG1X",
    "outputId": "cb981e1f-9204-4a2a-fece-9d66a6919189",
    "ExecuteTime": {
     "end_time": "2024-08-15T05:20:07.749981500Z",
     "start_time": "2024-08-15T05:20:05.990834700Z"
    }
   },
   "outputs": [
    {
     "name": "stdout",
     "output_type": "stream",
     "text": [
      "449/449 [==============================] - 1s 3ms/step\n",
      "[[ 7.06e+02  9.34e+02]\n",
      " [ 7.32e+01  6.17e+00]\n",
      " [-1.57e+01  4.27e+00]\n",
      " ...\n",
      " [ 9.88e+01  2.99e+02]\n",
      " [ 4.59e+03  4.94e+03]\n",
      " [ 5.37e+03  6.31e+03]]\n"
     ]
    }
   ],
   "source": [
    "y_pred = ann.predict(X_test)\n",
    "np.set_printoptions(precision=2)\n",
    "print(np.concatenate((y_pred.reshape(len(y_pred),1), y_test.reshape(len(y_test),1)),1))"
   ]
  },
  {
   "cell_type": "code",
   "execution_count": 27,
   "metadata": {
    "ExecuteTime": {
     "end_time": "2024-08-15T05:20:07.970616500Z",
     "start_time": "2024-08-15T05:20:07.741974700Z"
    }
   },
   "outputs": [
    {
     "data": {
      "text/plain": "Text(0, 0.5, 'Predicted data')"
     },
     "execution_count": 27,
     "metadata": {},
     "output_type": "execute_result"
    },
    {
     "data": {
      "text/plain": "<Figure size 640x480 with 1 Axes>",
      "image/png": "[encoded data removed]"
     },
     "metadata": {},
     "output_type": "display_data"
    }
   ],
   "source": [
    "import matplotlib.pyplot as plt\n",
    "plt.scatter(y_test, y_pred, color=\"blue\")\n",
    "plt.xlabel ('Actual data')\n",
    "plt.ylabel ('Predicted data')"
   ]
  },
  {
   "cell_type": "code",
   "execution_count": 28,
   "metadata": {
    "ExecuteTime": {
     "end_time": "2024-08-15T05:20:08.812927700Z",
     "start_time": "2024-08-15T05:20:07.968616800Z"
    }
   },
   "outputs": [
    {
     "data": {
      "text/plain": "<Figure size 600x600 with 1 Axes>",
      "image/png": "[encoded data removed]"
     },
     "metadata": {},
     "output_type": "display_data"
    }
   ],
   "source": [
    "from sklearn.metrics import r2_score\n",
    "# Initialize layout\n",
    "fig1, ax1 = plt.subplots(figsize = (6, 6))\n",
    "\n",
    "# Set global font to Times New Roman and font size\n",
    "plt.rcParams['font.family'] = 'serif'\n",
    "plt.rcParams['font.serif'] = ['Times New Roman']\n",
    "plt.rcParams['font.size'] = 20\n",
    "\n",
    "b_l = -2000\n",
    "u_l = 65000\n",
    "\n",
    "# Add scatterplot\n",
    "ax1.scatter(y_test, y_pred, s=70, alpha=1, edgecolors=\"k\",c='mediumblue',zorder=5, label = 'Points')\n",
    "\n",
    "\n",
    "plt.ylabel('Predicted Reflected Overpressure (kPa)')\n",
    "plt.xlabel('Target Reflected Overpressure (kPa)')\n",
    "plt.xticks(fontsize = 19)\n",
    "plt.yticks(fontsize = 19)\n",
    "\n",
    "\n",
    "x1 = np.linspace(b_l, u_l)\n",
    "\n",
    "plt.plot(x1, x1, 'Red', label='45\\N{DEGREE SIGN} line',lw=2.5,alpha=1)\n",
    "#plt.plot(x1, 1.05*x1, '--m', label='\\u00B15% Error',lw=2.5,alpha=0.7)\n",
    "#plt.plot(x1, 0.95*x1,'m', linestyle='--',lw=2.5,alpha=0.7)\n",
    "plt.plot(x1, 1.1*x1, '-.g', label='\\u00B110% Error',lw=2.5,alpha=0.7)\n",
    "plt.plot(x1, 0.9*x1,'-.g',lw=2.5,alpha=0.7)\n",
    "plt.plot(x1, 1.2*x1, color = '#F97306', linestyle='dotted', label='\\u00B120% Error',lw=2.5,alpha=0.7)\n",
    "plt.plot(x1, 0.8*x1,color = '#F97306', linestyle='dotted', lw=2.5,alpha=0.7)\n",
    "\n",
    "plt.ylim(b_l, u_l)\n",
    "plt.xlim(b_l, u_l)\n",
    "plt.legend(loc='upper center', bbox_to_anchor=(0.5, -0.15), ncol=4, frameon = False, fontsize = 20)\n",
    "\n",
    "#plt.grid()\n",
    "\n",
    "ax1.spines['left'].set_color('black')        # setting up Y-axis tick color to red\n",
    "ax1.spines['bottom'].set_color('black')         #setting up above X-axis tick color to red\n",
    "\n",
    "plt.savefig('Section2_ANN6.png', dpi=200, bbox_inches='tight')"
   ]
  },
  {
   "cell_type": "code",
   "execution_count": 29,
   "metadata": {
    "ExecuteTime": {
     "end_time": "2024-08-15T05:20:14.034408700Z",
     "start_time": "2024-08-15T05:20:08.812927700Z"
    }
   },
   "outputs": [
    {
     "name": "stdout",
     "output_type": "stream",
     "text": [
      "1345/1345 [==============================] - 5s 3ms/step\n",
      "148.63187563150396\n",
      "146.22756042838992\n"
     ]
    }
   ],
   "source": [
    "# metrics\n",
    "trainpreds = ann.predict(X_train)\n",
    "\n",
    "from sklearn.metrics import mean_absolute_error\n",
    "print(mean_absolute_error(y_train, trainpreds)) # train\n",
    "print(mean_absolute_error(y_test, y_pred)) # test"
   ]
  },
  {
   "cell_type": "code",
   "execution_count": 30,
   "metadata": {
    "ExecuteTime": {
     "end_time": "2024-08-15T05:20:14.087131800Z",
     "start_time": "2024-08-15T05:20:14.033408800Z"
    }
   },
   "outputs": [
    {
     "name": "stdout",
     "output_type": "stream",
     "text": [
      "0.9627963300720139\n"
     ]
    }
   ],
   "source": [
    "from sklearn.metrics import r2_score\n",
    "r2 = r2_score(y_test, y_pred)\n",
    "print (r2)"
   ]
  },
  {
   "cell_type": "code",
   "execution_count": 31,
   "metadata": {
    "ExecuteTime": {
     "end_time": "2024-08-15T05:20:14.143171700Z",
     "start_time": "2024-08-15T05:20:14.046611100Z"
    }
   },
   "outputs": [
    {
     "name": "stdout",
     "output_type": "stream",
     "text": [
      "0.9613925738184506\n"
     ]
    }
   ],
   "source": [
    "r2_train = r2_score(y_train, trainpreds)\n",
    "print (r2_train)"
   ]
  },
  {
   "cell_type": "code",
   "execution_count": 32,
   "metadata": {
    "ExecuteTime": {
     "end_time": "2024-08-15T05:20:15.347592600Z",
     "start_time": "2024-08-15T05:20:14.142170Z"
    }
   },
   "outputs": [
    {
     "name": "stdout",
     "output_type": "stream",
     "text": [
      "Within 5% margin 7.47%\n",
      "Within 10% margin 14.77%\n",
      "Within 20% margin 28.01%\n",
      "Out of 20% margin 71.99%\n"
     ]
    }
   ],
   "source": [
    "count0 = 0\n",
    "for i in range(len(y_pred)):\n",
    "    line1 = y_pred[i] - 0.95*y_test[i]\n",
    "    line2 = y_pred[i] - 1.05*y_test[i]\n",
    "    mask0 = (line1 > 0) & (line2 < 0)\n",
    "    count0 = np.sum(mask0+count0)\n",
    "\n",
    "count1 = 0\n",
    "for i in range(len(y_pred)):\n",
    "    line1 = y_pred[i] - 0.9*y_test[i]\n",
    "    line2 = y_pred[i] - 1.1*y_test[i]\n",
    "    mask1 = (line1 > 0) & (line2 < 0)\n",
    "    count1 = np.sum(mask1+count1)\n",
    "\n",
    "count2 = 0\n",
    "for j in range(len(y_pred)):\n",
    "    line3 = y_pred[j] - 0.8*y_test[j]\n",
    "    line4 = y_pred[j] - 1.2*y_test[j]\n",
    "    mask2 = (line3 > 0) & (line4 < 0)\n",
    "    count2 = np.sum(mask2+count2)\n",
    "\n",
    "\n",
    "count3 = 0    \n",
    "for k in range(len(y_pred)):\n",
    "    line5 = y_pred[k] - 0.8*y_test[k]\n",
    "    line6 = y_pred[k] - 1.2*y_test[k]\n",
    "    mask3 = (line5 < 0) or (line6 > 0)\n",
    "    count3 = np.sum(mask3+count3)\n",
    "   \n",
    "\n",
    "print ('Within 5% margin', format((count0/len (y_pred)),'.2%'))\n",
    "print ('Within 10% margin', format((count1/len (y_pred)),'.2%'))\n",
    "print ('Within 20% margin', format((count2/len (y_pred)),'.2%'))\n",
    "print ('Out of 20% margin', format((count3/len (y_pred)),'.2%'))"
   ]
  },
  {
   "cell_type": "code",
   "execution_count": 33,
   "metadata": {
    "ExecuteTime": {
     "end_time": "2024-08-15T05:20:15.398659500Z",
     "start_time": "2024-08-15T05:20:15.343583300Z"
    }
   },
   "outputs": [
    {
     "name": "stdout",
     "output_type": "stream",
     "text": [
      "0.962778160415313\n"
     ]
    }
   ],
   "source": [
    "adj_r2 = 1 - ((1 - r2) * (len(X_test) - 1) / (len(X_test) - len (X_test[0]) - 1))\n",
    "print (adj_r2)"
   ]
  },
  {
   "cell_type": "code",
   "execution_count": 34,
   "metadata": {
    "ExecuteTime": {
     "end_time": "2024-08-15T05:20:15.509233300Z",
     "start_time": "2024-08-15T05:20:15.357130200Z"
    }
   },
   "outputs": [
    {
     "data": {
      "text/plain": "618.1106957213251"
     },
     "execution_count": 34,
     "metadata": {},
     "output_type": "execute_result"
    }
   ],
   "source": [
    "import math\n",
    "from sklearn.metrics import mean_squared_error\n",
    "\n",
    "math.sqrt(mean_squared_error(y_test, y_pred))"
   ]
  },
  {
   "cell_type": "code",
   "execution_count": 35,
   "metadata": {
    "ExecuteTime": {
     "end_time": "2024-08-15T05:20:15.660882500Z",
     "start_time": "2024-08-15T05:20:15.510231900Z"
    }
   },
   "outputs": [
    {
     "data": {
      "text/plain": "146.22756042838992"
     },
     "execution_count": 35,
     "metadata": {},
     "output_type": "execute_result"
    }
   ],
   "source": [
    "from sklearn.metrics import mean_absolute_error\n",
    "\n",
    "mean_absolute_error(y_test, y_pred)"
   ]
  }
 ],
 "metadata": {
  "colab": {
   "collapsed_sections": [],
   "name": "Artificial Neural Network",
   "provenance": [],
   "toc_visible": true
  },
  "kernelspec": {
   "display_name": "Python 3 (ipykernel)",
   "language": "python",
   "name": "python3"
  },
  "language_info": {
   "codemirror_mode": {
    "name": "ipython",
    "version": 3
   },
   "file_extension": ".py",
   "mimetype": "text/x-python",
   "name": "python",
   "nbconvert_exporter": "python",
   "pygments_lexer": "ipython3",
   "version": "3.9.7"
  }
 },
 "nbformat": 4,
 "nbformat_minor": 4
}
