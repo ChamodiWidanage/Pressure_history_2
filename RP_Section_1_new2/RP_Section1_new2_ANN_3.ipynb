{
 "cells": [
  {
   "cell_type": "markdown",
   "metadata": {
    "colab_type": "text",
    "id": "3cbb7fRy-eyr"
   },
   "source": [
    "# Artificial Neural Network"
   ]
  },
  {
   "cell_type": "markdown",
   "source": [
    "## Part 1 - Importing the libraries"
   ],
   "metadata": {
    "collapsed": false
   }
  },
  {
   "cell_type": "code",
   "execution_count": 1,
   "metadata": {
    "colab": {},
    "colab_type": "code",
    "id": "lxChR1Rk-umf",
    "ExecuteTime": {
     "end_time": "2024-08-14T05:57:20.573892800Z",
     "start_time": "2024-08-14T05:57:13.378562100Z"
    }
   },
   "outputs": [],
   "source": [
    "import numpy as np\n",
    "import pandas as pd\n",
    "import tensorflow as tf\n",
    "import matplotlib.pyplot as plt\n",
    "from keras.models import load_model\n",
    "from pathlib import Path\n",
    "import pickle"
   ]
  },
  {
   "cell_type": "markdown",
   "metadata": {
    "colab_type": "text",
    "id": "AG3FQEch-yuA"
   },
   "source": [
    "## Part 2 - Data Preprocessing"
   ]
  },
  {
   "cell_type": "code",
   "execution_count": 2,
   "metadata": {
    "ExecuteTime": {
     "end_time": "2024-08-14T05:57:20.644542200Z",
     "start_time": "2024-08-14T05:57:20.577406200Z"
    }
   },
   "outputs": [
    {
     "name": "stdout",
     "output_type": "stream",
     "text": [
      "input G:\\Chamodi\\LSDYNA3D\\RP_TH_models\\RP_Section_1_new\n",
      "2 [WindowsPath('G:/Chamodi/LSDYNA3D/RP_TH_models/RP_Section_1_new/1.00m'), WindowsPath('G:/Chamodi/LSDYNA3D/RP_TH_models/RP_Section_1_new/1.25m'), WindowsPath('G:/Chamodi/LSDYNA3D/RP_TH_models/RP_Section_1_new/1.50m'), WindowsPath('G:/Chamodi/LSDYNA3D/RP_TH_models/RP_Section_1_new/1.75m'), WindowsPath('G:/Chamodi/LSDYNA3D/RP_TH_models/RP_Section_1_new/2.00m'), WindowsPath('G:/Chamodi/LSDYNA3D/RP_TH_models/RP_Section_1_new/2.25m'), WindowsPath('G:/Chamodi/LSDYNA3D/RP_TH_models/RP_Section_1_new/2.50m'), WindowsPath('G:/Chamodi/LSDYNA3D/RP_TH_models/RP_Section_1_new/2.75m'), WindowsPath('G:/Chamodi/LSDYNA3D/RP_TH_models/RP_Section_1_new/3.00m')]\n"
     ]
    }
   ],
   "source": [
    "#Access input folder\n",
    "current_dir = Path.cwd()\n",
    "input_dir1 = Path (\"G:/Chamodi/LSDYNA3D/RP_TH_models/RP_Section_1_new\")\n",
    "print (\"input\",input_dir1)\n",
    "\n",
    "#Access folders inside input folder\n",
    "input_dir2=  [folder1 for folder1 in input_dir1.iterdir() if folder1.is_dir()] # folder1 - RP_curves_fr7m\n",
    "print (\"2\",input_dir2)"
   ]
  },
  {
   "cell_type": "code",
   "execution_count": 3,
   "metadata": {
    "ExecuteTime": {
     "end_time": "2024-08-14T05:57:40.629423600Z",
     "start_time": "2024-08-14T05:57:20.613024200Z"
    }
   },
   "outputs": [
    {
     "name": "stdout",
     "output_type": "stream",
     "text": [
      "folder G:\\Chamodi\\LSDYNA3D\\RP_TH_models\\RP_Section_1_new\\1.00m\\1.00m00.5kg\n",
      "1\n",
      "2\n",
      "3\n",
      "4\n",
      "folder G:\\Chamodi\\LSDYNA3D\\RP_TH_models\\RP_Section_1_new\\1.00m\\1.00m02.5kg\n",
      "1\n",
      "2\n",
      "3\n",
      "4\n",
      "folder G:\\Chamodi\\LSDYNA3D\\RP_TH_models\\RP_Section_1_new\\1.00m\\1.00m04.5kg\n",
      "1\n",
      "2\n",
      "3\n",
      "4\n",
      "folder G:\\Chamodi\\LSDYNA3D\\RP_TH_models\\RP_Section_1_new\\1.00m\\1.00m06.5kg\n",
      "1\n",
      "2\n",
      "3\n",
      "4\n",
      "folder G:\\Chamodi\\LSDYNA3D\\RP_TH_models\\RP_Section_1_new\\1.00m\\1.00m08.5kg\n",
      "1\n",
      "2\n",
      "3\n",
      "4\n",
      "folder G:\\Chamodi\\LSDYNA3D\\RP_TH_models\\RP_Section_1_new\\1.00m\\1.00m10.5kg\n",
      "1\n",
      "2\n",
      "3\n",
      "4\n",
      "folder G:\\Chamodi\\LSDYNA3D\\RP_TH_models\\RP_Section_1_new\\1.00m\\1.00m12.5kg\n",
      "1\n",
      "2\n",
      "3\n",
      "4\n",
      "folder G:\\Chamodi\\LSDYNA3D\\RP_TH_models\\RP_Section_1_new\\1.00m\\1.00m14.5kg\n",
      "1\n",
      "2\n",
      "3\n",
      "4\n",
      "folder G:\\Chamodi\\LSDYNA3D\\RP_TH_models\\RP_Section_1_new\\1.00m\\1.00m16.5kg\n",
      "1\n",
      "2\n",
      "3\n",
      "4\n",
      "folder G:\\Chamodi\\LSDYNA3D\\RP_TH_models\\RP_Section_1_new\\1.00m\\1.00m18.5kg\n",
      "1\n",
      "2\n",
      "3\n",
      "4\n",
      "folder G:\\Chamodi\\LSDYNA3D\\RP_TH_models\\RP_Section_1_new\\1.00m\\1.00m20.5kg\n",
      "1\n",
      "2\n",
      "3\n",
      "4\n",
      "folder G:\\Chamodi\\LSDYNA3D\\RP_TH_models\\RP_Section_1_new\\1.00m\\1.00m22.5kg\n",
      "1\n",
      "2\n",
      "3\n",
      "4\n",
      "folder G:\\Chamodi\\LSDYNA3D\\RP_TH_models\\RP_Section_1_new\\1.00m\\1.00m24.5kg\n",
      "1\n",
      "2\n",
      "3\n",
      "4\n",
      "folder G:\\Chamodi\\LSDYNA3D\\RP_TH_models\\RP_Section_1_new\\1.00m\\1.00m26.5kg\n",
      "1\n",
      "2\n",
      "3\n",
      "4\n",
      "folder G:\\Chamodi\\LSDYNA3D\\RP_TH_models\\RP_Section_1_new\\1.00m\\1.00m28.5kg\n",
      "1\n",
      "2\n",
      "3\n",
      "4\n",
      "folder G:\\Chamodi\\LSDYNA3D\\RP_TH_models\\RP_Section_1_new\\1.00m\\1.00m30.5kg\n",
      "1\n",
      "2\n",
      "3\n",
      "4\n",
      "folder G:\\Chamodi\\LSDYNA3D\\RP_TH_models\\RP_Section_1_new\\1.00m\\1.00m32.5kg\n",
      "1\n",
      "2\n",
      "3\n",
      "4\n",
      "folder G:\\Chamodi\\LSDYNA3D\\RP_TH_models\\RP_Section_1_new\\1.00m\\1.00m34.5kg\n",
      "1\n",
      "2\n",
      "3\n",
      "4\n",
      "folder G:\\Chamodi\\LSDYNA3D\\RP_TH_models\\RP_Section_1_new\\1.00m\\1.00m35.0kg\n",
      "1\n",
      "2\n",
      "3\n",
      "4\n",
      "folder G:\\Chamodi\\LSDYNA3D\\RP_TH_models\\RP_Section_1_new\\1.25m\\1.25m00.5kg\n",
      "1\n",
      "2\n",
      "3\n",
      "4\n",
      "folder G:\\Chamodi\\LSDYNA3D\\RP_TH_models\\RP_Section_1_new\\1.25m\\1.25m02.5kg\n",
      "1\n",
      "2\n",
      "3\n",
      "4\n",
      "folder G:\\Chamodi\\LSDYNA3D\\RP_TH_models\\RP_Section_1_new\\1.25m\\1.25m04.5kg\n",
      "1\n",
      "2\n",
      "3\n",
      "4\n",
      "folder G:\\Chamodi\\LSDYNA3D\\RP_TH_models\\RP_Section_1_new\\1.25m\\1.25m06.5kg\n",
      "1\n",
      "2\n",
      "3\n",
      "4\n",
      "folder G:\\Chamodi\\LSDYNA3D\\RP_TH_models\\RP_Section_1_new\\1.25m\\1.25m08.5kg\n",
      "1\n",
      "2\n",
      "3\n",
      "4\n",
      "folder G:\\Chamodi\\LSDYNA3D\\RP_TH_models\\RP_Section_1_new\\1.25m\\1.25m10.5kg\n",
      "1\n",
      "2\n",
      "3\n",
      "4\n",
      "folder G:\\Chamodi\\LSDYNA3D\\RP_TH_models\\RP_Section_1_new\\1.25m\\1.25m12.5kg\n",
      "1\n",
      "2\n",
      "3\n",
      "4\n",
      "folder G:\\Chamodi\\LSDYNA3D\\RP_TH_models\\RP_Section_1_new\\1.25m\\1.25m14.5kg\n",
      "1\n",
      "2\n",
      "3\n",
      "4\n",
      "folder G:\\Chamodi\\LSDYNA3D\\RP_TH_models\\RP_Section_1_new\\1.25m\\1.25m16.5kg\n",
      "1\n",
      "2\n",
      "3\n",
      "4\n",
      "folder G:\\Chamodi\\LSDYNA3D\\RP_TH_models\\RP_Section_1_new\\1.25m\\1.25m18.5kg\n",
      "1\n",
      "2\n",
      "3\n",
      "4\n",
      "folder G:\\Chamodi\\LSDYNA3D\\RP_TH_models\\RP_Section_1_new\\1.25m\\1.25m20.5kg\n",
      "1\n",
      "2\n",
      "3\n",
      "4\n",
      "folder G:\\Chamodi\\LSDYNA3D\\RP_TH_models\\RP_Section_1_new\\1.25m\\1.25m22.5kg\n",
      "1\n",
      "2\n",
      "3\n",
      "4\n",
      "folder G:\\Chamodi\\LSDYNA3D\\RP_TH_models\\RP_Section_1_new\\1.25m\\1.25m24.5kg\n",
      "1\n",
      "2\n",
      "3\n",
      "4\n",
      "folder G:\\Chamodi\\LSDYNA3D\\RP_TH_models\\RP_Section_1_new\\1.25m\\1.25m26.5kg\n",
      "1\n",
      "2\n",
      "3\n",
      "4\n",
      "folder G:\\Chamodi\\LSDYNA3D\\RP_TH_models\\RP_Section_1_new\\1.25m\\1.25m28.5kg\n",
      "1\n",
      "2\n",
      "3\n",
      "4\n",
      "folder G:\\Chamodi\\LSDYNA3D\\RP_TH_models\\RP_Section_1_new\\1.25m\\1.25m30.5kg\n",
      "1\n",
      "2\n",
      "3\n",
      "4\n",
      "folder G:\\Chamodi\\LSDYNA3D\\RP_TH_models\\RP_Section_1_new\\1.25m\\1.25m32.5kg\n",
      "1\n",
      "2\n",
      "3\n",
      "4\n",
      "folder G:\\Chamodi\\LSDYNA3D\\RP_TH_models\\RP_Section_1_new\\1.25m\\1.25m34.5kg\n",
      "1\n",
      "2\n",
      "3\n",
      "4\n",
      "folder G:\\Chamodi\\LSDYNA3D\\RP_TH_models\\RP_Section_1_new\\1.25m\\1.25m35.0kg\n",
      "1\n",
      "2\n",
      "3\n",
      "4\n",
      "folder G:\\Chamodi\\LSDYNA3D\\RP_TH_models\\RP_Section_1_new\\1.50m\\1.50m00.5kg\n",
      "1\n",
      "2\n",
      "3\n",
      "4\n",
      "folder G:\\Chamodi\\LSDYNA3D\\RP_TH_models\\RP_Section_1_new\\1.50m\\1.50m02.5kg\n",
      "1\n",
      "2\n",
      "3\n",
      "4\n",
      "folder G:\\Chamodi\\LSDYNA3D\\RP_TH_models\\RP_Section_1_new\\1.50m\\1.50m04.5kg\n",
      "1\n",
      "2\n",
      "3\n",
      "4\n",
      "folder G:\\Chamodi\\LSDYNA3D\\RP_TH_models\\RP_Section_1_new\\1.50m\\1.50m06.5kg\n",
      "1\n",
      "2\n",
      "3\n",
      "4\n",
      "folder G:\\Chamodi\\LSDYNA3D\\RP_TH_models\\RP_Section_1_new\\1.50m\\1.50m08.5kg\n",
      "1\n",
      "2\n",
      "3\n",
      "4\n",
      "folder G:\\Chamodi\\LSDYNA3D\\RP_TH_models\\RP_Section_1_new\\1.50m\\1.50m10.5kg\n",
      "1\n",
      "2\n",
      "3\n",
      "4\n",
      "folder G:\\Chamodi\\LSDYNA3D\\RP_TH_models\\RP_Section_1_new\\1.50m\\1.50m12.5kg\n",
      "1\n",
      "2\n",
      "3\n",
      "4\n",
      "folder G:\\Chamodi\\LSDYNA3D\\RP_TH_models\\RP_Section_1_new\\1.50m\\1.50m14.5kg\n",
      "1\n",
      "2\n",
      "3\n",
      "4\n",
      "folder G:\\Chamodi\\LSDYNA3D\\RP_TH_models\\RP_Section_1_new\\1.50m\\1.50m16.5kg\n",
      "1\n",
      "2\n",
      "3\n",
      "4\n",
      "folder G:\\Chamodi\\LSDYNA3D\\RP_TH_models\\RP_Section_1_new\\1.50m\\1.50m18.5kg\n",
      "1\n",
      "2\n",
      "3\n",
      "4\n",
      "folder G:\\Chamodi\\LSDYNA3D\\RP_TH_models\\RP_Section_1_new\\1.50m\\1.50m20.5kg\n",
      "1\n",
      "2\n",
      "3\n",
      "4\n",
      "folder G:\\Chamodi\\LSDYNA3D\\RP_TH_models\\RP_Section_1_new\\1.50m\\1.50m22.5kg\n",
      "1\n",
      "2\n",
      "3\n",
      "4\n",
      "folder G:\\Chamodi\\LSDYNA3D\\RP_TH_models\\RP_Section_1_new\\1.50m\\1.50m24.5kg\n",
      "1\n",
      "2\n",
      "3\n",
      "4\n",
      "folder G:\\Chamodi\\LSDYNA3D\\RP_TH_models\\RP_Section_1_new\\1.50m\\1.50m26.5kg\n",
      "1\n",
      "2\n",
      "3\n",
      "4\n",
      "folder G:\\Chamodi\\LSDYNA3D\\RP_TH_models\\RP_Section_1_new\\1.50m\\1.50m28.5kg\n",
      "1\n",
      "2\n",
      "3\n",
      "4\n",
      "folder G:\\Chamodi\\LSDYNA3D\\RP_TH_models\\RP_Section_1_new\\1.50m\\1.50m30.5kg\n",
      "1\n",
      "2\n",
      "3\n",
      "4\n",
      "folder G:\\Chamodi\\LSDYNA3D\\RP_TH_models\\RP_Section_1_new\\1.50m\\1.50m32.5kg\n",
      "1\n",
      "2\n",
      "3\n",
      "4\n",
      "folder G:\\Chamodi\\LSDYNA3D\\RP_TH_models\\RP_Section_1_new\\1.50m\\1.50m34.5kg\n",
      "1\n",
      "2\n",
      "3\n",
      "4\n",
      "folder G:\\Chamodi\\LSDYNA3D\\RP_TH_models\\RP_Section_1_new\\1.50m\\1.50m35.0kg\n",
      "1\n",
      "2\n",
      "3\n",
      "4\n",
      "folder G:\\Chamodi\\LSDYNA3D\\RP_TH_models\\RP_Section_1_new\\1.75m\\1.75m00.5kg\n",
      "1\n",
      "2\n",
      "3\n",
      "4\n",
      "folder G:\\Chamodi\\LSDYNA3D\\RP_TH_models\\RP_Section_1_new\\1.75m\\1.75m02.5kg\n",
      "1\n",
      "2\n",
      "3\n",
      "4\n",
      "folder G:\\Chamodi\\LSDYNA3D\\RP_TH_models\\RP_Section_1_new\\1.75m\\1.75m04.5kg\n",
      "1\n",
      "2\n",
      "3\n",
      "4\n",
      "folder G:\\Chamodi\\LSDYNA3D\\RP_TH_models\\RP_Section_1_new\\1.75m\\1.75m06.5kg\n",
      "1\n",
      "2\n",
      "3\n",
      "4\n",
      "folder G:\\Chamodi\\LSDYNA3D\\RP_TH_models\\RP_Section_1_new\\1.75m\\1.75m08.5kg\n",
      "1\n",
      "2\n",
      "3\n",
      "4\n",
      "folder G:\\Chamodi\\LSDYNA3D\\RP_TH_models\\RP_Section_1_new\\1.75m\\1.75m10.5kg\n",
      "1\n",
      "2\n",
      "3\n",
      "4\n",
      "folder G:\\Chamodi\\LSDYNA3D\\RP_TH_models\\RP_Section_1_new\\1.75m\\1.75m12.5kg\n",
      "1\n",
      "2\n",
      "3\n",
      "4\n",
      "folder G:\\Chamodi\\LSDYNA3D\\RP_TH_models\\RP_Section_1_new\\1.75m\\1.75m14.5kg\n",
      "1\n",
      "2\n",
      "3\n",
      "4\n",
      "folder G:\\Chamodi\\LSDYNA3D\\RP_TH_models\\RP_Section_1_new\\1.75m\\1.75m16.5kg\n",
      "1\n",
      "2\n",
      "3\n",
      "4\n",
      "folder G:\\Chamodi\\LSDYNA3D\\RP_TH_models\\RP_Section_1_new\\1.75m\\1.75m18.5kg\n",
      "1\n",
      "2\n",
      "3\n",
      "4\n",
      "folder G:\\Chamodi\\LSDYNA3D\\RP_TH_models\\RP_Section_1_new\\1.75m\\1.75m20.5kg\n",
      "1\n",
      "2\n",
      "3\n",
      "4\n",
      "folder G:\\Chamodi\\LSDYNA3D\\RP_TH_models\\RP_Section_1_new\\1.75m\\1.75m22.5kg\n",
      "1\n",
      "2\n",
      "3\n",
      "4\n",
      "folder G:\\Chamodi\\LSDYNA3D\\RP_TH_models\\RP_Section_1_new\\1.75m\\1.75m24.5kg\n",
      "1\n",
      "2\n",
      "3\n",
      "4\n",
      "folder G:\\Chamodi\\LSDYNA3D\\RP_TH_models\\RP_Section_1_new\\1.75m\\1.75m26.5kg\n",
      "1\n",
      "2\n",
      "3\n",
      "4\n",
      "folder G:\\Chamodi\\LSDYNA3D\\RP_TH_models\\RP_Section_1_new\\1.75m\\1.75m28.5kg\n",
      "1\n",
      "2\n",
      "3\n",
      "4\n",
      "folder G:\\Chamodi\\LSDYNA3D\\RP_TH_models\\RP_Section_1_new\\1.75m\\1.75m30.5kg\n",
      "1\n",
      "2\n",
      "3\n",
      "4\n",
      "folder G:\\Chamodi\\LSDYNA3D\\RP_TH_models\\RP_Section_1_new\\1.75m\\1.75m32.5kg\n",
      "1\n",
      "2\n",
      "3\n",
      "4\n",
      "folder G:\\Chamodi\\LSDYNA3D\\RP_TH_models\\RP_Section_1_new\\1.75m\\1.75m34.5kg\n",
      "1\n",
      "2\n",
      "3\n",
      "4\n",
      "folder G:\\Chamodi\\LSDYNA3D\\RP_TH_models\\RP_Section_1_new\\1.75m\\1.75m35.0kg\n",
      "1\n",
      "2\n",
      "3\n",
      "4\n",
      "folder G:\\Chamodi\\LSDYNA3D\\RP_TH_models\\RP_Section_1_new\\2.00m\\2.00m00.5kg\n",
      "1\n",
      "2\n",
      "3\n",
      "4\n",
      "folder G:\\Chamodi\\LSDYNA3D\\RP_TH_models\\RP_Section_1_new\\2.00m\\2.00m02.5kg\n",
      "1\n",
      "2\n",
      "3\n",
      "4\n",
      "folder G:\\Chamodi\\LSDYNA3D\\RP_TH_models\\RP_Section_1_new\\2.00m\\2.00m04.5kg\n",
      "1\n",
      "2\n",
      "3\n",
      "4\n",
      "folder G:\\Chamodi\\LSDYNA3D\\RP_TH_models\\RP_Section_1_new\\2.00m\\2.00m06.5kg\n",
      "1\n",
      "2\n",
      "3\n",
      "4\n",
      "folder G:\\Chamodi\\LSDYNA3D\\RP_TH_models\\RP_Section_1_new\\2.00m\\2.00m08.5kg\n",
      "1\n",
      "2\n",
      "3\n",
      "4\n",
      "folder G:\\Chamodi\\LSDYNA3D\\RP_TH_models\\RP_Section_1_new\\2.00m\\2.00m10.5kg\n",
      "1\n",
      "2\n",
      "3\n",
      "4\n",
      "folder G:\\Chamodi\\LSDYNA3D\\RP_TH_models\\RP_Section_1_new\\2.00m\\2.00m12.5kg\n",
      "1\n",
      "2\n",
      "3\n",
      "4\n",
      "folder G:\\Chamodi\\LSDYNA3D\\RP_TH_models\\RP_Section_1_new\\2.00m\\2.00m14.5kg\n",
      "1\n",
      "2\n",
      "3\n",
      "4\n",
      "folder G:\\Chamodi\\LSDYNA3D\\RP_TH_models\\RP_Section_1_new\\2.00m\\2.00m16.5kg\n",
      "1\n",
      "2\n",
      "3\n",
      "4\n",
      "folder G:\\Chamodi\\LSDYNA3D\\RP_TH_models\\RP_Section_1_new\\2.00m\\2.00m18.5kg\n",
      "1\n",
      "2\n",
      "3\n",
      "4\n",
      "folder G:\\Chamodi\\LSDYNA3D\\RP_TH_models\\RP_Section_1_new\\2.00m\\2.00m20.5kg\n",
      "1\n",
      "2\n",
      "3\n",
      "4\n",
      "folder G:\\Chamodi\\LSDYNA3D\\RP_TH_models\\RP_Section_1_new\\2.00m\\2.00m22.5kg\n",
      "1\n",
      "2\n",
      "3\n",
      "4\n",
      "folder G:\\Chamodi\\LSDYNA3D\\RP_TH_models\\RP_Section_1_new\\2.00m\\2.00m24.5kg\n",
      "1\n",
      "2\n",
      "3\n",
      "4\n",
      "folder G:\\Chamodi\\LSDYNA3D\\RP_TH_models\\RP_Section_1_new\\2.00m\\2.00m26.5kg\n",
      "1\n",
      "2\n",
      "3\n",
      "4\n",
      "folder G:\\Chamodi\\LSDYNA3D\\RP_TH_models\\RP_Section_1_new\\2.00m\\2.00m28.5kg\n",
      "1\n",
      "2\n",
      "3\n",
      "4\n",
      "folder G:\\Chamodi\\LSDYNA3D\\RP_TH_models\\RP_Section_1_new\\2.00m\\2.00m30.5kg\n",
      "1\n",
      "2\n",
      "3\n",
      "4\n",
      "folder G:\\Chamodi\\LSDYNA3D\\RP_TH_models\\RP_Section_1_new\\2.00m\\2.00m32.5kg\n",
      "1\n",
      "2\n",
      "3\n",
      "4\n",
      "folder G:\\Chamodi\\LSDYNA3D\\RP_TH_models\\RP_Section_1_new\\2.00m\\2.00m34.5kg\n",
      "1\n",
      "2\n",
      "3\n",
      "4\n",
      "folder G:\\Chamodi\\LSDYNA3D\\RP_TH_models\\RP_Section_1_new\\2.00m\\2.00m35.0kg\n",
      "1\n",
      "2\n",
      "3\n",
      "4\n",
      "folder G:\\Chamodi\\LSDYNA3D\\RP_TH_models\\RP_Section_1_new\\2.25m\\2.25m00.5kg\n",
      "1\n",
      "2\n",
      "3\n",
      "4\n",
      "folder G:\\Chamodi\\LSDYNA3D\\RP_TH_models\\RP_Section_1_new\\2.25m\\2.25m02.5kg\n",
      "1\n",
      "2\n",
      "3\n",
      "4\n",
      "folder G:\\Chamodi\\LSDYNA3D\\RP_TH_models\\RP_Section_1_new\\2.25m\\2.25m04.5kg\n",
      "1\n",
      "2\n",
      "3\n",
      "4\n",
      "folder G:\\Chamodi\\LSDYNA3D\\RP_TH_models\\RP_Section_1_new\\2.25m\\2.25m06.5kg\n",
      "1\n",
      "2\n",
      "3\n",
      "4\n",
      "folder G:\\Chamodi\\LSDYNA3D\\RP_TH_models\\RP_Section_1_new\\2.25m\\2.25m08.5kg\n",
      "1\n",
      "2\n",
      "3\n",
      "4\n",
      "folder G:\\Chamodi\\LSDYNA3D\\RP_TH_models\\RP_Section_1_new\\2.25m\\2.25m10.5kg\n",
      "1\n",
      "2\n",
      "3\n",
      "4\n",
      "folder G:\\Chamodi\\LSDYNA3D\\RP_TH_models\\RP_Section_1_new\\2.25m\\2.25m12.5kg\n",
      "1\n",
      "2\n",
      "3\n",
      "4\n",
      "folder G:\\Chamodi\\LSDYNA3D\\RP_TH_models\\RP_Section_1_new\\2.25m\\2.25m14.5kg\n",
      "1\n",
      "2\n",
      "3\n",
      "4\n",
      "folder G:\\Chamodi\\LSDYNA3D\\RP_TH_models\\RP_Section_1_new\\2.25m\\2.25m16.5kg\n",
      "1\n",
      "2\n",
      "3\n",
      "4\n",
      "folder G:\\Chamodi\\LSDYNA3D\\RP_TH_models\\RP_Section_1_new\\2.25m\\2.25m18.5kg\n",
      "1\n",
      "2\n",
      "3\n",
      "4\n",
      "folder G:\\Chamodi\\LSDYNA3D\\RP_TH_models\\RP_Section_1_new\\2.25m\\2.25m20.5kg\n",
      "1\n",
      "2\n",
      "3\n",
      "4\n",
      "folder G:\\Chamodi\\LSDYNA3D\\RP_TH_models\\RP_Section_1_new\\2.25m\\2.25m22.5kg\n",
      "1\n",
      "2\n",
      "3\n",
      "4\n",
      "folder G:\\Chamodi\\LSDYNA3D\\RP_TH_models\\RP_Section_1_new\\2.25m\\2.25m24.5kg\n",
      "1\n",
      "2\n",
      "3\n",
      "4\n",
      "folder G:\\Chamodi\\LSDYNA3D\\RP_TH_models\\RP_Section_1_new\\2.25m\\2.25m26.5kg\n",
      "1\n",
      "2\n",
      "3\n",
      "4\n",
      "folder G:\\Chamodi\\LSDYNA3D\\RP_TH_models\\RP_Section_1_new\\2.25m\\2.25m28.5kg\n",
      "1\n",
      "2\n",
      "3\n",
      "4\n",
      "folder G:\\Chamodi\\LSDYNA3D\\RP_TH_models\\RP_Section_1_new\\2.25m\\2.25m30.5kg\n",
      "1\n",
      "2\n",
      "3\n",
      "4\n",
      "folder G:\\Chamodi\\LSDYNA3D\\RP_TH_models\\RP_Section_1_new\\2.25m\\2.25m32.5kg\n",
      "1\n",
      "2\n",
      "3\n",
      "4\n",
      "folder G:\\Chamodi\\LSDYNA3D\\RP_TH_models\\RP_Section_1_new\\2.25m\\2.25m34.5kg\n",
      "1\n",
      "2\n",
      "3\n",
      "4\n",
      "folder G:\\Chamodi\\LSDYNA3D\\RP_TH_models\\RP_Section_1_new\\2.25m\\2.25m35.0kg\n",
      "1\n",
      "2\n",
      "3\n",
      "4\n",
      "folder G:\\Chamodi\\LSDYNA3D\\RP_TH_models\\RP_Section_1_new\\2.50m\\2.50m00.5kg\n",
      "1\n",
      "2\n",
      "3\n",
      "4\n",
      "folder G:\\Chamodi\\LSDYNA3D\\RP_TH_models\\RP_Section_1_new\\2.50m\\2.50m02.5kg\n",
      "1\n",
      "2\n",
      "3\n",
      "4\n",
      "folder G:\\Chamodi\\LSDYNA3D\\RP_TH_models\\RP_Section_1_new\\2.50m\\2.50m04.5kg\n",
      "1\n",
      "2\n",
      "3\n",
      "4\n",
      "folder G:\\Chamodi\\LSDYNA3D\\RP_TH_models\\RP_Section_1_new\\2.50m\\2.50m06.5kg\n",
      "1\n",
      "2\n",
      "3\n",
      "4\n",
      "folder G:\\Chamodi\\LSDYNA3D\\RP_TH_models\\RP_Section_1_new\\2.50m\\2.50m08.5kg\n",
      "1\n",
      "2\n",
      "3\n",
      "4\n",
      "folder G:\\Chamodi\\LSDYNA3D\\RP_TH_models\\RP_Section_1_new\\2.50m\\2.50m10.5kg\n",
      "1\n",
      "2\n",
      "3\n",
      "4\n",
      "folder G:\\Chamodi\\LSDYNA3D\\RP_TH_models\\RP_Section_1_new\\2.50m\\2.50m12.5kg\n",
      "1\n",
      "2\n",
      "3\n",
      "4\n",
      "folder G:\\Chamodi\\LSDYNA3D\\RP_TH_models\\RP_Section_1_new\\2.50m\\2.50m14.5kg\n",
      "1\n",
      "2\n",
      "3\n",
      "4\n",
      "folder G:\\Chamodi\\LSDYNA3D\\RP_TH_models\\RP_Section_1_new\\2.50m\\2.50m16.5kg\n",
      "1\n",
      "2\n",
      "3\n",
      "4\n",
      "folder G:\\Chamodi\\LSDYNA3D\\RP_TH_models\\RP_Section_1_new\\2.50m\\2.50m18.5kg\n",
      "1\n",
      "2\n",
      "3\n",
      "4\n",
      "folder G:\\Chamodi\\LSDYNA3D\\RP_TH_models\\RP_Section_1_new\\2.50m\\2.50m20.5kg\n",
      "1\n",
      "2\n",
      "3\n",
      "4\n",
      "folder G:\\Chamodi\\LSDYNA3D\\RP_TH_models\\RP_Section_1_new\\2.50m\\2.50m22.5kg\n",
      "1\n",
      "2\n",
      "3\n",
      "4\n",
      "folder G:\\Chamodi\\LSDYNA3D\\RP_TH_models\\RP_Section_1_new\\2.50m\\2.50m24.5kg\n",
      "1\n",
      "2\n",
      "3\n",
      "4\n",
      "folder G:\\Chamodi\\LSDYNA3D\\RP_TH_models\\RP_Section_1_new\\2.50m\\2.50m26.5kg\n",
      "1\n",
      "2\n",
      "3\n",
      "4\n",
      "folder G:\\Chamodi\\LSDYNA3D\\RP_TH_models\\RP_Section_1_new\\2.50m\\2.50m28.5kg\n",
      "1\n",
      "2\n",
      "3\n",
      "4\n",
      "folder G:\\Chamodi\\LSDYNA3D\\RP_TH_models\\RP_Section_1_new\\2.50m\\2.50m30.5kg\n",
      "1\n",
      "2\n",
      "3\n",
      "4\n",
      "folder G:\\Chamodi\\LSDYNA3D\\RP_TH_models\\RP_Section_1_new\\2.50m\\2.50m32.5kg\n",
      "1\n",
      "2\n",
      "3\n",
      "4\n",
      "folder G:\\Chamodi\\LSDYNA3D\\RP_TH_models\\RP_Section_1_new\\2.50m\\2.50m34.5kg\n",
      "1\n",
      "2\n",
      "3\n",
      "4\n",
      "folder G:\\Chamodi\\LSDYNA3D\\RP_TH_models\\RP_Section_1_new\\2.50m\\2.50m35.0kg\n",
      "1\n",
      "2\n",
      "3\n",
      "4\n",
      "folder G:\\Chamodi\\LSDYNA3D\\RP_TH_models\\RP_Section_1_new\\2.75m\\2.75m00.5kg\n",
      "1\n",
      "2\n",
      "3\n",
      "4\n",
      "folder G:\\Chamodi\\LSDYNA3D\\RP_TH_models\\RP_Section_1_new\\2.75m\\2.75m02.5kg\n",
      "1\n",
      "2\n",
      "3\n",
      "4\n",
      "folder G:\\Chamodi\\LSDYNA3D\\RP_TH_models\\RP_Section_1_new\\2.75m\\2.75m04.5kg\n",
      "1\n",
      "2\n",
      "3\n",
      "4\n",
      "folder G:\\Chamodi\\LSDYNA3D\\RP_TH_models\\RP_Section_1_new\\2.75m\\2.75m06.5kg\n",
      "1\n",
      "2\n",
      "3\n",
      "4\n",
      "folder G:\\Chamodi\\LSDYNA3D\\RP_TH_models\\RP_Section_1_new\\2.75m\\2.75m08.5kg\n",
      "1\n",
      "2\n",
      "3\n",
      "4\n",
      "folder G:\\Chamodi\\LSDYNA3D\\RP_TH_models\\RP_Section_1_new\\2.75m\\2.75m10.5kg\n",
      "1\n",
      "2\n",
      "3\n",
      "4\n",
      "folder G:\\Chamodi\\LSDYNA3D\\RP_TH_models\\RP_Section_1_new\\2.75m\\2.75m12.5kg\n",
      "1\n",
      "2\n",
      "3\n",
      "4\n",
      "folder G:\\Chamodi\\LSDYNA3D\\RP_TH_models\\RP_Section_1_new\\2.75m\\2.75m14.5kg\n",
      "1\n",
      "2\n",
      "3\n",
      "4\n",
      "folder G:\\Chamodi\\LSDYNA3D\\RP_TH_models\\RP_Section_1_new\\2.75m\\2.75m16.5kg\n",
      "1\n",
      "2\n",
      "3\n",
      "4\n",
      "folder G:\\Chamodi\\LSDYNA3D\\RP_TH_models\\RP_Section_1_new\\2.75m\\2.75m18.5kg\n",
      "1\n",
      "2\n",
      "3\n",
      "4\n",
      "folder G:\\Chamodi\\LSDYNA3D\\RP_TH_models\\RP_Section_1_new\\2.75m\\2.75m20.5kg\n",
      "1\n",
      "2\n",
      "3\n",
      "4\n",
      "folder G:\\Chamodi\\LSDYNA3D\\RP_TH_models\\RP_Section_1_new\\2.75m\\2.75m22.5kg\n",
      "1\n",
      "2\n",
      "3\n",
      "4\n",
      "folder G:\\Chamodi\\LSDYNA3D\\RP_TH_models\\RP_Section_1_new\\2.75m\\2.75m24.5kg\n",
      "1\n",
      "2\n",
      "3\n",
      "4\n",
      "folder G:\\Chamodi\\LSDYNA3D\\RP_TH_models\\RP_Section_1_new\\2.75m\\2.75m26.5kg\n",
      "1\n",
      "2\n",
      "3\n",
      "4\n",
      "folder G:\\Chamodi\\LSDYNA3D\\RP_TH_models\\RP_Section_1_new\\2.75m\\2.75m28.5kg\n",
      "1\n",
      "2\n",
      "3\n",
      "4\n",
      "folder G:\\Chamodi\\LSDYNA3D\\RP_TH_models\\RP_Section_1_new\\2.75m\\2.75m30.5kg\n",
      "1\n",
      "2\n",
      "3\n",
      "4\n",
      "folder G:\\Chamodi\\LSDYNA3D\\RP_TH_models\\RP_Section_1_new\\2.75m\\2.75m32.5kg\n",
      "1\n",
      "2\n",
      "3\n",
      "4\n",
      "folder G:\\Chamodi\\LSDYNA3D\\RP_TH_models\\RP_Section_1_new\\2.75m\\2.75m34.5kg\n",
      "1\n",
      "2\n",
      "3\n",
      "4\n",
      "folder G:\\Chamodi\\LSDYNA3D\\RP_TH_models\\RP_Section_1_new\\2.75m\\2.75m35.0kg\n",
      "1\n",
      "2\n",
      "3\n",
      "4\n",
      "folder G:\\Chamodi\\LSDYNA3D\\RP_TH_models\\RP_Section_1_new\\3.00m\\3.00m00.5kg\n",
      "1\n",
      "2\n",
      "3\n",
      "4\n",
      "folder G:\\Chamodi\\LSDYNA3D\\RP_TH_models\\RP_Section_1_new\\3.00m\\3.00m02.5kg\n",
      "1\n",
      "2\n",
      "3\n",
      "4\n",
      "folder G:\\Chamodi\\LSDYNA3D\\RP_TH_models\\RP_Section_1_new\\3.00m\\3.00m04.5kg\n",
      "1\n",
      "2\n",
      "3\n",
      "4\n",
      "folder G:\\Chamodi\\LSDYNA3D\\RP_TH_models\\RP_Section_1_new\\3.00m\\3.00m06.5kg\n",
      "1\n",
      "2\n",
      "3\n",
      "4\n",
      "folder G:\\Chamodi\\LSDYNA3D\\RP_TH_models\\RP_Section_1_new\\3.00m\\3.00m08.5kg\n",
      "1\n",
      "2\n",
      "3\n",
      "4\n",
      "folder G:\\Chamodi\\LSDYNA3D\\RP_TH_models\\RP_Section_1_new\\3.00m\\3.00m10.5kg\n",
      "1\n",
      "2\n",
      "3\n",
      "4\n",
      "folder G:\\Chamodi\\LSDYNA3D\\RP_TH_models\\RP_Section_1_new\\3.00m\\3.00m12.5kg\n",
      "1\n",
      "2\n",
      "3\n",
      "4\n",
      "folder G:\\Chamodi\\LSDYNA3D\\RP_TH_models\\RP_Section_1_new\\3.00m\\3.00m14.5kg\n",
      "1\n",
      "2\n",
      "3\n",
      "4\n",
      "folder G:\\Chamodi\\LSDYNA3D\\RP_TH_models\\RP_Section_1_new\\3.00m\\3.00m16.5kg\n",
      "1\n",
      "2\n",
      "3\n",
      "4\n",
      "folder G:\\Chamodi\\LSDYNA3D\\RP_TH_models\\RP_Section_1_new\\3.00m\\3.00m18.5kg\n",
      "1\n",
      "2\n",
      "3\n",
      "4\n",
      "folder G:\\Chamodi\\LSDYNA3D\\RP_TH_models\\RP_Section_1_new\\3.00m\\3.00m20.5kg\n",
      "1\n",
      "2\n",
      "3\n",
      "4\n",
      "folder G:\\Chamodi\\LSDYNA3D\\RP_TH_models\\RP_Section_1_new\\3.00m\\3.00m22.5kg\n",
      "1\n",
      "2\n",
      "3\n",
      "4\n",
      "folder G:\\Chamodi\\LSDYNA3D\\RP_TH_models\\RP_Section_1_new\\3.00m\\3.00m24.5kg\n",
      "1\n",
      "2\n",
      "3\n",
      "4\n",
      "folder G:\\Chamodi\\LSDYNA3D\\RP_TH_models\\RP_Section_1_new\\3.00m\\3.00m26.5kg\n",
      "1\n",
      "2\n",
      "3\n",
      "4\n",
      "folder G:\\Chamodi\\LSDYNA3D\\RP_TH_models\\RP_Section_1_new\\3.00m\\3.00m28.5kg\n",
      "1\n",
      "2\n",
      "3\n",
      "4\n",
      "folder G:\\Chamodi\\LSDYNA3D\\RP_TH_models\\RP_Section_1_new\\3.00m\\3.00m30.5kg\n",
      "1\n",
      "2\n",
      "3\n",
      "4\n",
      "folder G:\\Chamodi\\LSDYNA3D\\RP_TH_models\\RP_Section_1_new\\3.00m\\3.00m32.5kg\n",
      "1\n",
      "2\n",
      "3\n",
      "4\n",
      "folder G:\\Chamodi\\LSDYNA3D\\RP_TH_models\\RP_Section_1_new\\3.00m\\3.00m34.5kg\n",
      "1\n",
      "2\n",
      "3\n",
      "4\n",
      "folder G:\\Chamodi\\LSDYNA3D\\RP_TH_models\\RP_Section_1_new\\3.00m\\3.00m35.0kg\n",
      "1\n",
      "2\n",
      "3\n",
      "4\n"
     ]
    }
   ],
   "source": [
    "#dataset = pd.DataFrame(columns = ['Charge_mass', 'Standoff_distance', 'Time', 'Pressure', 'Phase'])\n",
    "df_list = []\n",
    "\n",
    "for folder1 in input_dir2:\n",
    "    \n",
    "    input_dir3 =  [folder2 for folder2 in folder1.iterdir() if folder2.is_dir()] # folder2 - 07m00.5kg\n",
    "    \n",
    "    for folder2 in input_dir3:\n",
    "        \n",
    "        print ('folder', folder2)\n",
    "        files1 = [file1 for file1 in folder2.rglob(\"*.xlsx\")]\n",
    "    \n",
    "        for file1 in files1:\n",
    "            df_list.append(pd.read_excel(file1))\n",
    "            print (file1.stem)\n",
    "    \n",
    "dataset = pd.concat(df_list, ignore_index = True)"
   ]
  },
  {
   "cell_type": "code",
   "execution_count": 4,
   "metadata": {
    "colab": {},
    "colab_type": "code",
    "id": "B9CV13Co_HHM",
    "ExecuteTime": {
     "end_time": "2024-08-14T05:57:40.708067800Z",
     "start_time": "2024-08-14T05:57:40.624413700Z"
    }
   },
   "outputs": [
    {
     "name": "stdout",
     "output_type": "stream",
     "text": [
      "<class 'pandas.core.frame.DataFrame'>\n",
      "RangeIndex: 71701 entries, 0 to 71700\n",
      "Data columns (total 6 columns):\n",
      " #   Column             Non-Null Count  Dtype  \n",
      "---  ------             --------------  -----  \n",
      " 0   Mass               71701 non-null  float64\n",
      " 1   Standoff distance  71701 non-null  float64\n",
      " 2   Angle              71701 non-null  int64  \n",
      " 3   Time               71701 non-null  float64\n",
      " 4   Phase              71701 non-null  object \n",
      " 5   Pressure           71701 non-null  float64\n",
      "dtypes: float64(4), int64(1), object(1)\n",
      "memory usage: 3.3+ MB\n"
     ]
    }
   ],
   "source": [
    "dataset.info()"
   ]
  },
  {
   "cell_type": "code",
   "execution_count": 5,
   "outputs": [
    {
     "name": "stdout",
     "output_type": "stream",
     "text": [
      "<class 'pandas.core.frame.DataFrame'>\n",
      "RangeIndex: 71701 entries, 0 to 71700\n",
      "Data columns (total 8 columns):\n",
      " #   Column                     Non-Null Count  Dtype  \n",
      "---  ------                     --------------  -----  \n",
      " 0   Mass                       71701 non-null  float64\n",
      " 1   Standoff distance          71701 non-null  float64\n",
      " 2   Angle                      71701 non-null  int64  \n",
      " 3   Time                       71701 non-null  float64\n",
      " 4   Pressure                   71701 non-null  float64\n",
      " 5   Phase_negative_decreasing  71701 non-null  uint8  \n",
      " 6   Phase_negative_increasing  71701 non-null  uint8  \n",
      " 7   Phase_positive             71701 non-null  uint8  \n",
      "dtypes: float64(4), int64(1), uint8(3)\n",
      "memory usage: 2.9 MB\n"
     ]
    }
   ],
   "source": [
    "dataset = pd.get_dummies(dataset, columns =['Phase'], dtype = np.uint8)\n",
    "dataset.info()"
   ],
   "metadata": {
    "collapsed": false,
    "ExecuteTime": {
     "end_time": "2024-08-14T05:57:40.820375700Z",
     "start_time": "2024-08-14T05:57:40.656974300Z"
    }
   }
  },
  {
   "cell_type": "code",
   "execution_count": 6,
   "outputs": [
    {
     "data": {
      "text/plain": "    Mass  Standoff distance  Angle      Time    Pressure  \\\n0    0.5                1.0      0  0.675620  1835.74400   \n1    0.5                1.0      0  0.678642  1834.42100   \n2    0.5                1.0      0  0.681641  1825.07100   \n3    0.5                1.0      0  0.690485  1762.36500   \n4    0.5                1.0      0  0.729239  1252.16300   \n5    0.5                1.0      0  0.749695  1068.86900   \n6    0.5                1.0      0  0.769045   935.35660   \n7    0.5                1.0      0  0.800520   758.47430   \n8    0.5                1.0      0  0.831368   620.15920   \n9    0.5                1.0      0  0.846691   564.04980   \n10   0.5                1.0      0  0.864671   506.87930   \n11   0.5                1.0      0  0.884545   451.83270   \n12   0.5                1.0      0  0.906902   397.41580   \n13   0.5                1.0      0  0.927155   353.53220   \n14   0.5                1.0      0  0.947124   314.68150   \n15   0.5                1.0      0  0.966568   281.10310   \n16   0.5                1.0      0  0.986417   251.33860   \n17   0.5                1.0      0  1.006225   226.02760   \n18   0.5                1.0      0  1.025679   205.07110   \n19   0.5                1.0      0  1.048664   184.52760   \n20   0.5                1.0      0  1.073196   166.17430   \n21   0.5                1.0      0  1.108821   143.37730   \n22   0.5                1.0      0  1.156518   116.69450   \n23   0.5                1.0      0  1.227624    79.94161   \n24   0.5                1.0      0  1.252754    68.08047   \n25   0.5                1.0      0  1.278528    56.94484   \n26   0.5                1.0      0  1.321861    40.67422   \n27   0.5                1.0      0  1.345147    33.06606   \n28   0.5                1.0      0  1.368550    26.09805   \n29   0.5                1.0      0  1.395020    18.93172   \n\n    Phase_negative_decreasing  Phase_negative_increasing  Phase_positive  \n0                           0                          0               1  \n1                           0                          0               1  \n2                           0                          0               1  \n3                           0                          0               1  \n4                           0                          0               1  \n5                           0                          0               1  \n6                           0                          0               1  \n7                           0                          0               1  \n8                           0                          0               1  \n9                           0                          0               1  \n10                          0                          0               1  \n11                          0                          0               1  \n12                          0                          0               1  \n13                          0                          0               1  \n14                          0                          0               1  \n15                          0                          0               1  \n16                          0                          0               1  \n17                          0                          0               1  \n18                          0                          0               1  \n19                          0                          0               1  \n20                          0                          0               1  \n21                          0                          0               1  \n22                          0                          0               1  \n23                          0                          0               1  \n24                          0                          0               1  \n25                          0                          0               1  \n26                          0                          0               1  \n27                          0                          0               1  \n28                          0                          0               1  \n29                          0                          0               1  ",
      "text/html": "<div>\n<style scoped>\n    .dataframe tbody tr th:only-of-type {\n        vertical-align: middle;\n    }\n\n    .dataframe tbody tr th {\n        vertical-align: top;\n    }\n\n    .dataframe thead th {\n        text-align: right;\n    }\n</style>\n<table border=\"1\" class=\"dataframe\">\n  <thead>\n    <tr style=\"text-align: right;\">\n      <th></th>\n      <th>Mass</th>\n      <th>Standoff distance</th>\n      <th>Angle</th>\n      <th>Time</th>\n      <th>Pressure</th>\n      <th>Phase_negative_decreasing</th>\n      <th>Phase_negative_increasing</th>\n      <th>Phase_positive</th>\n    </tr>\n  </thead>\n  <tbody>\n    <tr>\n      <th>0</th>\n      <td>0.5</td>\n      <td>1.0</td>\n      <td>0</td>\n      <td>0.675620</td>\n      <td>1835.74400</td>\n      <td>0</td>\n      <td>0</td>\n      <td>1</td>\n    </tr>\n    <tr>\n      <th>1</th>\n      <td>0.5</td>\n      <td>1.0</td>\n      <td>0</td>\n      <td>0.678642</td>\n      <td>1834.42100</td>\n      <td>0</td>\n      <td>0</td>\n      <td>1</td>\n    </tr>\n    <tr>\n      <th>2</th>\n      <td>0.5</td>\n      <td>1.0</td>\n      <td>0</td>\n      <td>0.681641</td>\n      <td>1825.07100</td>\n      <td>0</td>\n      <td>0</td>\n      <td>1</td>\n    </tr>\n    <tr>\n      <th>3</th>\n      <td>0.5</td>\n      <td>1.0</td>\n      <td>0</td>\n      <td>0.690485</td>\n      <td>1762.36500</td>\n      <td>0</td>\n      <td>0</td>\n      <td>1</td>\n    </tr>\n    <tr>\n      <th>4</th>\n      <td>0.5</td>\n      <td>1.0</td>\n      <td>0</td>\n      <td>0.729239</td>\n      <td>1252.16300</td>\n      <td>0</td>\n      <td>0</td>\n      <td>1</td>\n    </tr>\n    <tr>\n      <th>5</th>\n      <td>0.5</td>\n      <td>1.0</td>\n      <td>0</td>\n      <td>0.749695</td>\n      <td>1068.86900</td>\n      <td>0</td>\n      <td>0</td>\n      <td>1</td>\n    </tr>\n    <tr>\n      <th>6</th>\n      <td>0.5</td>\n      <td>1.0</td>\n      <td>0</td>\n      <td>0.769045</td>\n      <td>935.35660</td>\n      <td>0</td>\n      <td>0</td>\n      <td>1</td>\n    </tr>\n    <tr>\n      <th>7</th>\n      <td>0.5</td>\n      <td>1.0</td>\n      <td>0</td>\n      <td>0.800520</td>\n      <td>758.47430</td>\n      <td>0</td>\n      <td>0</td>\n      <td>1</td>\n    </tr>\n    <tr>\n      <th>8</th>\n      <td>0.5</td>\n      <td>1.0</td>\n      <td>0</td>\n      <td>0.831368</td>\n      <td>620.15920</td>\n      <td>0</td>\n      <td>0</td>\n      <td>1</td>\n    </tr>\n    <tr>\n      <th>9</th>\n      <td>0.5</td>\n      <td>1.0</td>\n      <td>0</td>\n      <td>0.846691</td>\n      <td>564.04980</td>\n      <td>0</td>\n      <td>0</td>\n      <td>1</td>\n    </tr>\n    <tr>\n      <th>10</th>\n      <td>0.5</td>\n      <td>1.0</td>\n      <td>0</td>\n      <td>0.864671</td>\n      <td>506.87930</td>\n      <td>0</td>\n      <td>0</td>\n      <td>1</td>\n    </tr>\n    <tr>\n      <th>11</th>\n      <td>0.5</td>\n      <td>1.0</td>\n      <td>0</td>\n      <td>0.884545</td>\n      <td>451.83270</td>\n      <td>0</td>\n      <td>0</td>\n      <td>1</td>\n    </tr>\n    <tr>\n      <th>12</th>\n      <td>0.5</td>\n      <td>1.0</td>\n      <td>0</td>\n      <td>0.906902</td>\n      <td>397.41580</td>\n      <td>0</td>\n      <td>0</td>\n      <td>1</td>\n    </tr>\n    <tr>\n      <th>13</th>\n      <td>0.5</td>\n      <td>1.0</td>\n      <td>0</td>\n      <td>0.927155</td>\n      <td>353.53220</td>\n      <td>0</td>\n      <td>0</td>\n      <td>1</td>\n    </tr>\n    <tr>\n      <th>14</th>\n      <td>0.5</td>\n      <td>1.0</td>\n      <td>0</td>\n      <td>0.947124</td>\n      <td>314.68150</td>\n      <td>0</td>\n      <td>0</td>\n      <td>1</td>\n    </tr>\n    <tr>\n      <th>15</th>\n      <td>0.5</td>\n      <td>1.0</td>\n      <td>0</td>\n      <td>0.966568</td>\n      <td>281.10310</td>\n      <td>0</td>\n      <td>0</td>\n      <td>1</td>\n    </tr>\n    <tr>\n      <th>16</th>\n      <td>0.5</td>\n      <td>1.0</td>\n      <td>0</td>\n      <td>0.986417</td>\n      <td>251.33860</td>\n      <td>0</td>\n      <td>0</td>\n      <td>1</td>\n    </tr>\n    <tr>\n      <th>17</th>\n      <td>0.5</td>\n      <td>1.0</td>\n      <td>0</td>\n      <td>1.006225</td>\n      <td>226.02760</td>\n      <td>0</td>\n      <td>0</td>\n      <td>1</td>\n    </tr>\n    <tr>\n      <th>18</th>\n      <td>0.5</td>\n      <td>1.0</td>\n      <td>0</td>\n      <td>1.025679</td>\n      <td>205.07110</td>\n      <td>0</td>\n      <td>0</td>\n      <td>1</td>\n    </tr>\n    <tr>\n      <th>19</th>\n      <td>0.5</td>\n      <td>1.0</td>\n      <td>0</td>\n      <td>1.048664</td>\n      <td>184.52760</td>\n      <td>0</td>\n      <td>0</td>\n      <td>1</td>\n    </tr>\n    <tr>\n      <th>20</th>\n      <td>0.5</td>\n      <td>1.0</td>\n      <td>0</td>\n      <td>1.073196</td>\n      <td>166.17430</td>\n      <td>0</td>\n      <td>0</td>\n      <td>1</td>\n    </tr>\n    <tr>\n      <th>21</th>\n      <td>0.5</td>\n      <td>1.0</td>\n      <td>0</td>\n      <td>1.108821</td>\n      <td>143.37730</td>\n      <td>0</td>\n      <td>0</td>\n      <td>1</td>\n    </tr>\n    <tr>\n      <th>22</th>\n      <td>0.5</td>\n      <td>1.0</td>\n      <td>0</td>\n      <td>1.156518</td>\n      <td>116.69450</td>\n      <td>0</td>\n      <td>0</td>\n      <td>1</td>\n    </tr>\n    <tr>\n      <th>23</th>\n      <td>0.5</td>\n      <td>1.0</td>\n      <td>0</td>\n      <td>1.227624</td>\n      <td>79.94161</td>\n      <td>0</td>\n      <td>0</td>\n      <td>1</td>\n    </tr>\n    <tr>\n      <th>24</th>\n      <td>0.5</td>\n      <td>1.0</td>\n      <td>0</td>\n      <td>1.252754</td>\n      <td>68.08047</td>\n      <td>0</td>\n      <td>0</td>\n      <td>1</td>\n    </tr>\n    <tr>\n      <th>25</th>\n      <td>0.5</td>\n      <td>1.0</td>\n      <td>0</td>\n      <td>1.278528</td>\n      <td>56.94484</td>\n      <td>0</td>\n      <td>0</td>\n      <td>1</td>\n    </tr>\n    <tr>\n      <th>26</th>\n      <td>0.5</td>\n      <td>1.0</td>\n      <td>0</td>\n      <td>1.321861</td>\n      <td>40.67422</td>\n      <td>0</td>\n      <td>0</td>\n      <td>1</td>\n    </tr>\n    <tr>\n      <th>27</th>\n      <td>0.5</td>\n      <td>1.0</td>\n      <td>0</td>\n      <td>1.345147</td>\n      <td>33.06606</td>\n      <td>0</td>\n      <td>0</td>\n      <td>1</td>\n    </tr>\n    <tr>\n      <th>28</th>\n      <td>0.5</td>\n      <td>1.0</td>\n      <td>0</td>\n      <td>1.368550</td>\n      <td>26.09805</td>\n      <td>0</td>\n      <td>0</td>\n      <td>1</td>\n    </tr>\n    <tr>\n      <th>29</th>\n      <td>0.5</td>\n      <td>1.0</td>\n      <td>0</td>\n      <td>1.395020</td>\n      <td>18.93172</td>\n      <td>0</td>\n      <td>0</td>\n      <td>1</td>\n    </tr>\n  </tbody>\n</table>\n</div>"
     },
     "execution_count": 6,
     "metadata": {},
     "output_type": "execute_result"
    }
   ],
   "source": [
    "dataset.head(30)"
   ],
   "metadata": {
    "collapsed": false,
    "ExecuteTime": {
     "end_time": "2024-08-14T05:57:40.970019800Z",
     "start_time": "2024-08-14T05:57:40.819377100Z"
    }
   }
  },
  {
   "cell_type": "code",
   "execution_count": 7,
   "metadata": {
    "ExecuteTime": {
     "end_time": "2024-08-14T05:57:41.153964100Z",
     "start_time": "2024-08-14T05:57:40.972018300Z"
    }
   },
   "outputs": [
    {
     "name": "stdout",
     "output_type": "stream",
     "text": [
      "(71701, 7) (71701,)\n"
     ]
    }
   ],
   "source": [
    "y = dataset['Pressure']\n",
    "X = dataset.drop(['Pressure'], axis=1)\n",
    "print(X.shape, y.shape)"
   ]
  },
  {
   "cell_type": "code",
   "execution_count": 8,
   "metadata": {
    "ExecuteTime": {
     "end_time": "2024-08-14T05:57:41.276363Z",
     "start_time": "2024-08-14T05:57:41.127415100Z"
    }
   },
   "outputs": [],
   "source": [
    "# convert to numpy array\n",
    "X = np.array(X)\n",
    "y = np.array(y)"
   ]
  },
  {
   "cell_type": "code",
   "execution_count": 9,
   "metadata": {
    "colab": {},
    "colab_type": "code",
    "id": "L5edeb2r_agx",
    "ExecuteTime": {
     "end_time": "2024-08-14T05:57:42.527361200Z",
     "start_time": "2024-08-14T05:57:41.276363Z"
    }
   },
   "outputs": [],
   "source": [
    "from sklearn.model_selection import train_test_split\n",
    "X_train, X_test, y_train, y_test = train_test_split(X,\n",
    "                                                    y,\n",
    "                                                    test_size = 0.4,\n",
    "                                                    random_state = 0)"
   ]
  },
  {
   "cell_type": "code",
   "execution_count": 10,
   "metadata": {
    "colab": {},
    "colab_type": "code",
    "id": "L5edeb2r_agx",
    "ExecuteTime": {
     "end_time": "2024-08-14T05:57:42.541376600Z",
     "start_time": "2024-08-14T05:57:42.529362300Z"
    }
   },
   "outputs": [],
   "source": [
    "X_val, X_test, y_val, y_test = train_test_split(X_test,\n",
    "                                                y_test,\n",
    "                                                test_size = 0.5,\n",
    "                                                random_state = 0)"
   ]
  },
  {
   "cell_type": "code",
   "execution_count": 11,
   "outputs": [
    {
     "name": "stdout",
     "output_type": "stream",
     "text": [
      "[[ 1.39645554 -0.00313219  0.44366331 ...  0.          0.\n",
      "   1.        ]\n",
      " [-1.14818828  1.15514949 -0.45761617 ...  0.          0.\n",
      "   1.        ]\n",
      " [ 0.41774638 -0.77531997 -0.45761617 ...  0.          0.\n",
      "   1.        ]\n",
      " ...\n",
      " [-0.36522095  0.3829617  -0.45761617 ...  0.          0.\n",
      "   1.        ]\n",
      " [ 0.02626271  0.3829617  -1.35889565 ...  1.          0.\n",
      "   0.        ]\n",
      " [ 0.41774638  1.54124338  0.44366331 ...  1.          0.\n",
      "   0.        ]]\n"
     ]
    }
   ],
   "source": [
    "from sklearn.preprocessing import StandardScaler\n",
    "sc = StandardScaler()\n",
    "X_train[:,0:4] = sc.fit_transform(X_train[:, 0:4])\n",
    "print (X_train)"
   ],
   "metadata": {
    "collapsed": false,
    "ExecuteTime": {
     "end_time": "2024-08-14T05:57:42.765796700Z",
     "start_time": "2024-08-14T05:57:42.544374Z"
    }
   }
  },
  {
   "cell_type": "code",
   "execution_count": 12,
   "outputs": [
    {
     "name": "stdout",
     "output_type": "stream",
     "text": [
      "[[ 0.02626271  1.54124338  1.34494279 ...  0.          0.\n",
      "   1.        ]\n",
      " [ 0.22200454 -0.38922608 -0.45761617 ...  0.          0.\n",
      "   1.        ]\n",
      " [-0.56096278  0.7690556  -1.35889565 ...  0.          1.\n",
      "   0.        ]\n",
      " ...\n",
      " [ 0.80923004 -1.54750776 -0.45761617 ...  0.          0.\n",
      "   1.        ]\n",
      " [ 1.00497187  0.3829617  -0.45761617 ...  0.          0.\n",
      "   1.        ]\n",
      " [ 1.2007137  -1.54750776  1.34494279 ...  0.          0.\n",
      "   1.        ]]\n"
     ]
    }
   ],
   "source": [
    "X_test[:,0:4] = sc.transform(X_test[:,0:4])\n",
    "print (X_test)"
   ],
   "metadata": {
    "collapsed": false,
    "ExecuteTime": {
     "end_time": "2024-08-14T05:57:42.917139600Z",
     "start_time": "2024-08-14T05:57:42.766818400Z"
    }
   }
  },
  {
   "cell_type": "code",
   "execution_count": 13,
   "outputs": [
    {
     "name": "stdout",
     "output_type": "stream",
     "text": [
      "[[-1.14818828 -0.77531997  0.44366331 ...  0.          0.\n",
      "   1.        ]\n",
      " [ 0.61348821 -0.38922608 -1.35889565 ...  1.          0.\n",
      "   0.        ]\n",
      " [ 1.39645554  0.7690556  -1.35889565 ...  0.          0.\n",
      "   1.        ]\n",
      " ...\n",
      " [ 0.02626271  1.54124338  1.34494279 ...  0.          0.\n",
      "   1.        ]\n",
      " [ 0.41774638 -0.00313219 -1.35889565 ...  0.          0.\n",
      "   1.        ]\n",
      " [ 0.41774638  1.15514949 -1.35889565 ...  0.          0.\n",
      "   1.        ]]\n"
     ]
    }
   ],
   "source": [
    "X_val[:,0:4] = sc.transform(X_val[:,0:4])\n",
    "print (X_val)"
   ],
   "metadata": {
    "collapsed": false,
    "ExecuteTime": {
     "end_time": "2024-08-14T05:57:43.161674200Z",
     "start_time": "2024-08-14T05:57:42.916139600Z"
    }
   }
  },
  {
   "cell_type": "code",
   "execution_count": 14,
   "outputs": [
    {
     "name": "stdout",
     "output_type": "stream",
     "text": [
      "X_train 43020\n",
      "X_test 14341\n",
      "X_val 14340\n"
     ]
    }
   ],
   "source": [
    "print (\"X_train\", len(X_train))\n",
    "print (\"X_test\", len(X_test))\n",
    "print (\"X_val\", len(X_val))"
   ],
   "metadata": {
    "collapsed": false,
    "ExecuteTime": {
     "end_time": "2024-08-14T05:57:43.497995Z",
     "start_time": "2024-08-14T05:57:43.162673700Z"
    }
   }
  },
  {
   "cell_type": "markdown",
   "metadata": {
    "colab_type": "text",
    "id": "_mSLlAT9_eyI"
   },
   "source": [
    "## Part 3 - Building the ANN"
   ]
  },
  {
   "cell_type": "code",
   "execution_count": 15,
   "metadata": {
    "colab": {},
    "colab_type": "code",
    "id": "J6Hd97Ls__Nz",
    "ExecuteTime": {
     "end_time": "2024-08-14T05:57:43.751418600Z",
     "start_time": "2024-08-14T05:57:43.491995500Z"
    }
   },
   "outputs": [],
   "source": [
    "ann = tf.keras.models.Sequential()"
   ]
  },
  {
   "cell_type": "code",
   "execution_count": 16,
   "metadata": {
    "colab": {},
    "colab_type": "code",
    "id": "ksO_Vv40AHix",
    "ExecuteTime": {
     "end_time": "2024-08-14T05:57:44.040899500Z",
     "start_time": "2024-08-14T05:57:43.756410Z"
    }
   },
   "outputs": [],
   "source": [
    "ann.add(tf.keras.layers.Dense(units=250,\n",
    "                              input_shape=(X_train.shape[1],),\n",
    "                              activation='relu'))\n",
    "ann.add(tf.keras.layers.Dense(units=225,\n",
    "                              activation='relu'))\n",
    "ann.add(tf.keras.layers.Dense(units=200,\n",
    "                              activation='relu'))\n",
    "ann.add(tf.keras.layers.Dense(units=175,\n",
    "                              activation='relu'))\n",
    "ann.add(tf.keras.layers.Dense(units=150,\n",
    "                              activation='relu'))"
   ]
  },
  {
   "cell_type": "code",
   "execution_count": 17,
   "metadata": {
    "colab": {},
    "colab_type": "code",
    "id": "YFATpzsUAkLL",
    "ExecuteTime": {
     "end_time": "2024-08-14T05:57:44.099003800Z",
     "start_time": "2024-08-14T05:57:44.038905900Z"
    }
   },
   "outputs": [],
   "source": [
    "ann.add(tf.keras.layers.Dense(units=1,\n",
    "                              activation='linear'))"
   ]
  },
  {
   "cell_type": "code",
   "execution_count": 18,
   "metadata": {
    "ExecuteTime": {
     "end_time": "2024-08-14T05:57:44.294418500Z",
     "start_time": "2024-08-14T05:57:44.101003600Z"
    }
   },
   "outputs": [
    {
     "name": "stdout",
     "output_type": "stream",
     "text": [
      "Model: \"sequential\"\n",
      "_________________________________________________________________\n",
      " Layer (type)                Output Shape              Param #   \n",
      "=================================================================\n",
      " dense (Dense)               (None, 250)               2000      \n",
      "                                                                 \n",
      " dense_1 (Dense)             (None, 225)               56475     \n",
      "                                                                 \n",
      " dense_2 (Dense)             (None, 200)               45200     \n",
      "                                                                 \n",
      " dense_3 (Dense)             (None, 175)               35175     \n",
      "                                                                 \n",
      " dense_4 (Dense)             (None, 150)               26400     \n",
      "                                                                 \n",
      " dense_5 (Dense)             (None, 1)                 151       \n",
      "                                                                 \n",
      "=================================================================\n",
      "Total params: 165,401\n",
      "Trainable params: 165,401\n",
      "Non-trainable params: 0\n",
      "_________________________________________________________________\n"
     ]
    }
   ],
   "source": [
    "ann.summary()"
   ]
  },
  {
   "cell_type": "markdown",
   "metadata": {
    "colab_type": "text",
    "id": "fq7e4fF6A1yy"
   },
   "source": [
    "## Part 4 - Training the ANN"
   ]
  },
  {
   "cell_type": "code",
   "execution_count": 19,
   "metadata": {
    "colab": {},
    "colab_type": "code",
    "id": "pesgbWlCAtB4",
    "ExecuteTime": {
     "end_time": "2024-08-14T05:57:44.407616400Z",
     "start_time": "2024-08-14T05:57:44.253894900Z"
    }
   },
   "outputs": [],
   "source": [
    "# from tensorflow.keras.optimizers import Adam\n",
    "from keras.optimizers import Adam\n",
    "opt = Adam(learning_rate=0.001)\n",
    "ann.compile(optimizer = opt,\n",
    "            loss = 'mean_squared_error',\n",
    "            metrics = ['mae'])"
   ]
  },
  {
   "cell_type": "code",
   "execution_count": 20,
   "metadata": {
    "ExecuteTime": {
     "end_time": "2024-08-14T05:57:44.648610700Z",
     "start_time": "2024-08-14T05:57:44.405604300Z"
    }
   },
   "outputs": [],
   "source": [
    "# protects from unnecessary further training of the model if a particular metric does not continue to improve over a number of n epochs. In such a case, the model training would be automatically aborted.\n",
    "from keras.callbacks import EarlyStopping\n",
    "es = EarlyStopping(monitor='val_loss',\n",
    "                   mode='min',\n",
    "                   patience=50,\n",
    "                   restore_best_weights = True)"
   ]
  },
  {
   "cell_type": "code",
   "execution_count": 21,
   "metadata": {
    "colab": {
     "base_uri": "https://localhost:8080/",
     "height": 1000
    },
    "colab_type": "code",
    "id": "c_vV-tiiA5zn",
    "outputId": "4a2b6ee6-ed75-4698-9069-b250e613803f",
    "ExecuteTime": {
     "end_time": "2024-08-14T06:30:04.947419100Z",
     "start_time": "2024-08-14T05:57:44.650610800Z"
    }
   },
   "outputs": [
    {
     "name": "stdout",
     "output_type": "stream",
     "text": [
      "Epoch 1/500\n",
      "1434/1434 [==============================] - 39s 26ms/step - loss: 4235144.0000 - mae: 693.4318 - val_loss: 1852630.6250 - val_mae: 451.2035\n",
      "Epoch 2/500\n",
      "1434/1434 [==============================] - 9s 6ms/step - loss: 1954384.2500 - mae: 432.1239 - val_loss: 2265416.2500 - val_mae: 365.8609\n",
      "Epoch 3/500\n",
      "1434/1434 [==============================] - 9s 7ms/step - loss: 1527854.1250 - mae: 361.5080 - val_loss: 812094.1250 - val_mae: 257.8481\n",
      "Epoch 4/500\n",
      "1434/1434 [==============================] - 9s 6ms/step - loss: 1566031.3750 - mae: 366.0888 - val_loss: 3012315.5000 - val_mae: 590.8297\n",
      "Epoch 5/500\n",
      "1434/1434 [==============================] - 10s 7ms/step - loss: 1519533.2500 - mae: 358.5451 - val_loss: 3302426.0000 - val_mae: 593.7197\n",
      "Epoch 6/500\n",
      "1434/1434 [==============================] - 9s 6ms/step - loss: 1363489.0000 - mae: 331.7639 - val_loss: 968897.5000 - val_mae: 291.4871\n",
      "Epoch 7/500\n",
      "1434/1434 [==============================] - 9s 6ms/step - loss: 1294713.6250 - mae: 319.8382 - val_loss: 1473732.0000 - val_mae: 396.6500\n",
      "Epoch 8/500\n",
      "1434/1434 [==============================] - 9s 7ms/step - loss: 1261077.6250 - mae: 294.7845 - val_loss: 716826.0000 - val_mae: 200.0875\n",
      "Epoch 9/500\n",
      "1434/1434 [==============================] - 10s 7ms/step - loss: 1208750.8750 - mae: 302.7451 - val_loss: 2331487.0000 - val_mae: 473.6076\n",
      "Epoch 10/500\n",
      "1434/1434 [==============================] - 11s 8ms/step - loss: 1123790.6250 - mae: 276.4598 - val_loss: 2179596.5000 - val_mae: 496.1804\n",
      "Epoch 11/500\n",
      "1434/1434 [==============================] - 8s 6ms/step - loss: 1297337.5000 - mae: 322.4447 - val_loss: 1341304.0000 - val_mae: 292.7199\n",
      "Epoch 12/500\n",
      "1434/1434 [==============================] - 9s 6ms/step - loss: 1198583.6250 - mae: 287.6142 - val_loss: 1226798.1250 - val_mae: 258.7657\n",
      "Epoch 13/500\n",
      "1434/1434 [==============================] - 9s 7ms/step - loss: 1179095.8750 - mae: 285.0526 - val_loss: 988356.1875 - val_mae: 227.5278\n",
      "Epoch 14/500\n",
      "1434/1434 [==============================] - 9s 6ms/step - loss: 1055271.5000 - mae: 264.8430 - val_loss: 721584.7500 - val_mae: 211.7575\n",
      "Epoch 15/500\n",
      "1434/1434 [==============================] - 9s 6ms/step - loss: 1018228.1875 - mae: 259.4201 - val_loss: 1187831.2500 - val_mae: 318.5166\n",
      "Epoch 16/500\n",
      "1434/1434 [==============================] - 12s 8ms/step - loss: 1065912.6250 - mae: 271.1616 - val_loss: 827200.5000 - val_mae: 226.1554\n",
      "Epoch 17/500\n",
      "1434/1434 [==============================] - 10s 7ms/step - loss: 1095956.6250 - mae: 279.1489 - val_loss: 799028.5000 - val_mae: 239.9240\n",
      "Epoch 18/500\n",
      "1434/1434 [==============================] - 10s 7ms/step - loss: 999879.5000 - mae: 256.6234 - val_loss: 778164.1875 - val_mae: 181.4839\n",
      "Epoch 19/500\n",
      "1434/1434 [==============================] - 10s 7ms/step - loss: 987926.1875 - mae: 248.1964 - val_loss: 839871.3750 - val_mae: 219.4580\n",
      "Epoch 20/500\n",
      "1434/1434 [==============================] - 9s 7ms/step - loss: 942666.1250 - mae: 238.1761 - val_loss: 791091.2500 - val_mae: 195.4771\n",
      "Epoch 21/500\n",
      "1434/1434 [==============================] - 9s 7ms/step - loss: 1057185.2500 - mae: 265.5889 - val_loss: 858702.1875 - val_mae: 229.4561\n",
      "Epoch 22/500\n",
      "1434/1434 [==============================] - 10s 7ms/step - loss: 972464.5625 - mae: 251.9191 - val_loss: 1089503.0000 - val_mae: 289.6415\n",
      "Epoch 23/500\n",
      "1434/1434 [==============================] - 11s 8ms/step - loss: 916320.0625 - mae: 243.8588 - val_loss: 621407.1875 - val_mae: 165.6883\n",
      "Epoch 24/500\n",
      "1434/1434 [==============================] - 9s 6ms/step - loss: 995322.1875 - mae: 248.6049 - val_loss: 956934.8125 - val_mae: 317.2165\n",
      "Epoch 25/500\n",
      "1434/1434 [==============================] - 11s 8ms/step - loss: 927983.3750 - mae: 235.4885 - val_loss: 1063703.8750 - val_mae: 358.7854\n",
      "Epoch 26/500\n",
      "1434/1434 [==============================] - 9s 6ms/step - loss: 1035698.2500 - mae: 254.4747 - val_loss: 1068464.7500 - val_mae: 272.3459\n",
      "Epoch 27/500\n",
      "1434/1434 [==============================] - 10s 7ms/step - loss: 969207.9375 - mae: 243.0076 - val_loss: 706379.1250 - val_mae: 198.9580\n",
      "Epoch 28/500\n",
      "1434/1434 [==============================] - 10s 7ms/step - loss: 979840.6875 - mae: 235.7714 - val_loss: 946030.1250 - val_mae: 264.9640\n",
      "Epoch 29/500\n",
      "1434/1434 [==============================] - 10s 7ms/step - loss: 882375.0625 - mae: 225.3816 - val_loss: 690964.1875 - val_mae: 179.3237\n",
      "Epoch 30/500\n",
      "1434/1434 [==============================] - 9s 7ms/step - loss: 932739.6250 - mae: 229.6408 - val_loss: 778860.0000 - val_mae: 219.4139\n",
      "Epoch 31/500\n",
      "1434/1434 [==============================] - 9s 7ms/step - loss: 864965.2500 - mae: 217.9741 - val_loss: 612149.3125 - val_mae: 173.5909\n",
      "Epoch 32/500\n",
      "1434/1434 [==============================] - 9s 6ms/step - loss: 926300.3750 - mae: 227.4098 - val_loss: 1106188.2500 - val_mae: 371.2789\n",
      "Epoch 33/500\n",
      "1434/1434 [==============================] - 9s 7ms/step - loss: 869015.0625 - mae: 224.6512 - val_loss: 666685.5000 - val_mae: 188.0366\n",
      "Epoch 34/500\n",
      "1434/1434 [==============================] - 9s 6ms/step - loss: 857648.8750 - mae: 221.7966 - val_loss: 817811.8125 - val_mae: 215.9576\n",
      "Epoch 35/500\n",
      "1434/1434 [==============================] - 9s 6ms/step - loss: 835304.4375 - mae: 220.4736 - val_loss: 739302.8750 - val_mae: 272.2577\n",
      "Epoch 36/500\n",
      "1434/1434 [==============================] - 9s 6ms/step - loss: 850205.9375 - mae: 212.3751 - val_loss: 1857583.8750 - val_mae: 329.3870\n",
      "Epoch 37/500\n",
      "1434/1434 [==============================] - 9s 6ms/step - loss: 881101.1250 - mae: 222.2376 - val_loss: 585564.6250 - val_mae: 194.0628\n",
      "Epoch 38/500\n",
      "1434/1434 [==============================] - 9s 6ms/step - loss: 887118.6875 - mae: 221.5177 - val_loss: 790695.7500 - val_mae: 217.8203\n",
      "Epoch 39/500\n",
      "1434/1434 [==============================] - 9s 6ms/step - loss: 800272.8750 - mae: 211.3134 - val_loss: 898987.8750 - val_mae: 223.6140\n",
      "Epoch 40/500\n",
      "1434/1434 [==============================] - 9s 6ms/step - loss: 890138.1250 - mae: 228.7008 - val_loss: 644851.5625 - val_mae: 244.3989\n",
      "Epoch 41/500\n",
      "1434/1434 [==============================] - 10s 7ms/step - loss: 841560.8125 - mae: 215.6651 - val_loss: 659360.2500 - val_mae: 198.4752\n",
      "Epoch 42/500\n",
      "1434/1434 [==============================] - 9s 6ms/step - loss: 806002.4375 - mae: 207.6364 - val_loss: 636810.2500 - val_mae: 189.3982\n",
      "Epoch 43/500\n",
      "1434/1434 [==============================] - 9s 6ms/step - loss: 889485.6250 - mae: 221.8191 - val_loss: 731688.7500 - val_mae: 173.6857\n",
      "Epoch 44/500\n",
      "1434/1434 [==============================] - 10s 7ms/step - loss: 797860.5000 - mae: 209.5171 - val_loss: 586264.2500 - val_mae: 143.5248\n",
      "Epoch 45/500\n",
      "1434/1434 [==============================] - 10s 7ms/step - loss: 862150.1250 - mae: 208.2524 - val_loss: 1455931.3750 - val_mae: 310.9262\n",
      "Epoch 46/500\n",
      "1434/1434 [==============================] - 11s 7ms/step - loss: 852223.0625 - mae: 224.2856 - val_loss: 587085.8750 - val_mae: 189.6415\n",
      "Epoch 47/500\n",
      "1434/1434 [==============================] - 9s 7ms/step - loss: 812750.5625 - mae: 208.7023 - val_loss: 645473.0625 - val_mae: 180.1388\n",
      "Epoch 48/500\n",
      "1434/1434 [==============================] - 10s 7ms/step - loss: 881576.5000 - mae: 221.7772 - val_loss: 827738.6875 - val_mae: 235.5003\n",
      "Epoch 49/500\n",
      "1434/1434 [==============================] - 8s 6ms/step - loss: 776258.6250 - mae: 206.0049 - val_loss: 572023.1875 - val_mae: 170.1244\n",
      "Epoch 50/500\n",
      "1434/1434 [==============================] - 9s 6ms/step - loss: 878175.2500 - mae: 220.3499 - val_loss: 3332142.5000 - val_mae: 447.2319\n",
      "Epoch 51/500\n",
      "1434/1434 [==============================] - 8s 6ms/step - loss: 859198.0625 - mae: 221.1303 - val_loss: 1004001.9375 - val_mae: 352.5456\n",
      "Epoch 52/500\n",
      "1434/1434 [==============================] - 10s 7ms/step - loss: 797007.5000 - mae: 206.9866 - val_loss: 582030.1250 - val_mae: 180.9846\n",
      "Epoch 53/500\n",
      "1434/1434 [==============================] - 9s 6ms/step - loss: 897810.0000 - mae: 215.4352 - val_loss: 741544.7500 - val_mae: 170.5146\n",
      "Epoch 54/500\n",
      "1434/1434 [==============================] - 9s 6ms/step - loss: 812764.2500 - mae: 210.4042 - val_loss: 560054.3125 - val_mae: 154.3660\n",
      "Epoch 55/500\n",
      "1434/1434 [==============================] - 10s 7ms/step - loss: 799900.0625 - mae: 212.5007 - val_loss: 748832.6875 - val_mae: 192.4996\n",
      "Epoch 56/500\n",
      "1434/1434 [==============================] - 10s 7ms/step - loss: 809245.2500 - mae: 208.8365 - val_loss: 766008.3125 - val_mae: 161.7596\n",
      "Epoch 57/500\n",
      "1434/1434 [==============================] - 9s 6ms/step - loss: 838781.6875 - mae: 209.1785 - val_loss: 5052601.0000 - val_mae: 611.4100\n",
      "Epoch 58/500\n",
      "1434/1434 [==============================] - 9s 6ms/step - loss: 836149.6250 - mae: 213.0040 - val_loss: 619753.8750 - val_mae: 156.1739\n",
      "Epoch 59/500\n",
      "1434/1434 [==============================] - 10s 7ms/step - loss: 745742.8125 - mae: 193.0094 - val_loss: 700622.2500 - val_mae: 152.0786\n",
      "Epoch 60/500\n",
      "1434/1434 [==============================] - 9s 6ms/step - loss: 792336.9375 - mae: 205.6979 - val_loss: 792324.5625 - val_mae: 194.8716\n",
      "Epoch 61/500\n",
      "1434/1434 [==============================] - 9s 6ms/step - loss: 820227.6875 - mae: 203.2189 - val_loss: 459391.9688 - val_mae: 137.6573\n",
      "Epoch 62/500\n",
      "1434/1434 [==============================] - 9s 6ms/step - loss: 665159.0000 - mae: 184.6616 - val_loss: 492449.5000 - val_mae: 152.5896\n",
      "Epoch 63/500\n",
      "1434/1434 [==============================] - 10s 7ms/step - loss: 727495.9375 - mae: 204.7949 - val_loss: 650528.5625 - val_mae: 202.8344\n",
      "Epoch 64/500\n",
      "1434/1434 [==============================] - 9s 6ms/step - loss: 795819.6875 - mae: 201.7280 - val_loss: 489457.4688 - val_mae: 152.2132\n",
      "Epoch 65/500\n",
      "1434/1434 [==============================] - 9s 6ms/step - loss: 743817.0625 - mae: 194.7725 - val_loss: 1452635.3750 - val_mae: 308.3658\n",
      "Epoch 66/500\n",
      "1434/1434 [==============================] - 8s 6ms/step - loss: 790405.7500 - mae: 194.6497 - val_loss: 591077.6250 - val_mae: 167.4078\n",
      "Epoch 67/500\n",
      "1434/1434 [==============================] - 10s 7ms/step - loss: 749597.6250 - mae: 195.8905 - val_loss: 2045547.2500 - val_mae: 329.4173\n",
      "Epoch 68/500\n",
      "1434/1434 [==============================] - 9s 6ms/step - loss: 728509.5625 - mae: 199.3242 - val_loss: 808363.8125 - val_mae: 175.3395\n",
      "Epoch 69/500\n",
      "1434/1434 [==============================] - 10s 7ms/step - loss: 702029.0000 - mae: 180.2921 - val_loss: 1087250.5000 - val_mae: 245.0413\n",
      "Epoch 70/500\n",
      "1434/1434 [==============================] - 9s 6ms/step - loss: 791657.8750 - mae: 206.4153 - val_loss: 727257.0625 - val_mae: 226.7186\n",
      "Epoch 71/500\n",
      "1434/1434 [==============================] - 9s 6ms/step - loss: 755217.8125 - mae: 196.3404 - val_loss: 641454.2500 - val_mae: 153.4640\n",
      "Epoch 72/500\n",
      "1434/1434 [==============================] - 9s 6ms/step - loss: 734747.6250 - mae: 191.8184 - val_loss: 587978.1875 - val_mae: 165.7313\n",
      "Epoch 73/500\n",
      "1434/1434 [==============================] - 9s 6ms/step - loss: 754788.8750 - mae: 196.1920 - val_loss: 770893.6250 - val_mae: 205.4943\n",
      "Epoch 74/500\n",
      "1434/1434 [==============================] - 9s 6ms/step - loss: 690022.3750 - mae: 189.1615 - val_loss: 1698533.7500 - val_mae: 329.9830\n",
      "Epoch 75/500\n",
      "1434/1434 [==============================] - 9s 6ms/step - loss: 709512.8750 - mae: 187.8952 - val_loss: 599870.9375 - val_mae: 181.7972\n",
      "Epoch 76/500\n",
      "1434/1434 [==============================] - 9s 6ms/step - loss: 798410.1875 - mae: 208.2898 - val_loss: 1085726.3750 - val_mae: 225.9967\n",
      "Epoch 77/500\n",
      "1434/1434 [==============================] - 10s 7ms/step - loss: 758940.7500 - mae: 188.9022 - val_loss: 886781.5000 - val_mae: 233.8174\n",
      "Epoch 78/500\n",
      "1434/1434 [==============================] - 9s 6ms/step - loss: 709997.1250 - mae: 185.9843 - val_loss: 922347.4375 - val_mae: 266.1925\n",
      "Epoch 79/500\n",
      "1434/1434 [==============================] - 9s 6ms/step - loss: 749884.6875 - mae: 198.0718 - val_loss: 517337.4062 - val_mae: 145.4580\n",
      "Epoch 80/500\n",
      "1434/1434 [==============================] - 9s 6ms/step - loss: 731633.3750 - mae: 195.4298 - val_loss: 571302.2500 - val_mae: 172.0635\n",
      "Epoch 81/500\n",
      "1434/1434 [==============================] - 10s 7ms/step - loss: 704146.5000 - mae: 185.9058 - val_loss: 685838.6250 - val_mae: 143.3856\n",
      "Epoch 82/500\n",
      "1434/1434 [==============================] - 9s 7ms/step - loss: 717972.6875 - mae: 186.8536 - val_loss: 544827.9375 - val_mae: 149.1255\n",
      "Epoch 83/500\n",
      "1434/1434 [==============================] - 7s 5ms/step - loss: 779837.6250 - mae: 199.4151 - val_loss: 856912.0625 - val_mae: 338.2865\n",
      "Epoch 84/500\n",
      "1434/1434 [==============================] - 8s 6ms/step - loss: 655313.1250 - mae: 178.5550 - val_loss: 623771.7500 - val_mae: 175.5677\n",
      "Epoch 85/500\n",
      "1434/1434 [==============================] - 8s 6ms/step - loss: 684286.3125 - mae: 184.0660 - val_loss: 695511.5000 - val_mae: 217.3068\n",
      "Epoch 86/500\n",
      "1434/1434 [==============================] - 9s 6ms/step - loss: 754707.9375 - mae: 200.4598 - val_loss: 762087.0000 - val_mae: 207.0310\n",
      "Epoch 87/500\n",
      "1434/1434 [==============================] - 9s 6ms/step - loss: 705116.7500 - mae: 189.3194 - val_loss: 1521758.3750 - val_mae: 349.3065\n",
      "Epoch 88/500\n",
      "1434/1434 [==============================] - 9s 6ms/step - loss: 686984.8750 - mae: 179.5457 - val_loss: 520912.3125 - val_mae: 147.9407\n",
      "Epoch 89/500\n",
      "1434/1434 [==============================] - 9s 6ms/step - loss: 699492.1875 - mae: 183.7633 - val_loss: 1337467.0000 - val_mae: 290.6340\n",
      "Epoch 90/500\n",
      "1434/1434 [==============================] - 9s 6ms/step - loss: 737180.5000 - mae: 185.1755 - val_loss: 1014320.4375 - val_mae: 296.9963\n",
      "Epoch 91/500\n",
      "1434/1434 [==============================] - 9s 6ms/step - loss: 753992.1250 - mae: 189.3023 - val_loss: 539458.8125 - val_mae: 149.6559\n",
      "Epoch 92/500\n",
      "1434/1434 [==============================] - 8s 6ms/step - loss: 706637.9375 - mae: 183.3105 - val_loss: 597095.0625 - val_mae: 176.1148\n",
      "Epoch 93/500\n",
      "1434/1434 [==============================] - 9s 6ms/step - loss: 728375.0000 - mae: 189.8079 - val_loss: 449811.0938 - val_mae: 138.2628\n",
      "Epoch 94/500\n",
      "1434/1434 [==============================] - 9s 6ms/step - loss: 778411.6875 - mae: 199.0846 - val_loss: 1437364.1250 - val_mae: 342.1275\n",
      "Epoch 95/500\n",
      "1434/1434 [==============================] - 10s 7ms/step - loss: 796529.1875 - mae: 197.7253 - val_loss: 803090.5000 - val_mae: 221.1083\n",
      "Epoch 96/500\n",
      "1434/1434 [==============================] - 9s 6ms/step - loss: 758912.1250 - mae: 203.5963 - val_loss: 772738.2500 - val_mae: 231.6810\n",
      "Epoch 97/500\n",
      "1434/1434 [==============================] - 10s 7ms/step - loss: 678663.3125 - mae: 193.8962 - val_loss: 1023271.8750 - val_mae: 269.6896\n",
      "Epoch 98/500\n",
      "1434/1434 [==============================] - 9s 6ms/step - loss: 699883.2500 - mae: 187.7357 - val_loss: 702287.3125 - val_mae: 165.7169\n",
      "Epoch 99/500\n",
      "1434/1434 [==============================] - 9s 6ms/step - loss: 706235.9375 - mae: 192.1033 - val_loss: 1221293.0000 - val_mae: 342.8851\n",
      "Epoch 100/500\n",
      "1434/1434 [==============================] - 10s 7ms/step - loss: 747769.6250 - mae: 197.1985 - val_loss: 466916.1250 - val_mae: 134.5291\n",
      "Epoch 101/500\n",
      "1434/1434 [==============================] - 9s 6ms/step - loss: 734017.1875 - mae: 193.8126 - val_loss: 491807.0625 - val_mae: 153.2784\n",
      "Epoch 102/500\n",
      "1434/1434 [==============================] - 9s 6ms/step - loss: 745051.4375 - mae: 194.8785 - val_loss: 765298.1250 - val_mae: 335.4145\n",
      "Epoch 103/500\n",
      "1434/1434 [==============================] - 9s 7ms/step - loss: 752248.2500 - mae: 194.1670 - val_loss: 419898.2188 - val_mae: 116.7249\n",
      "Epoch 104/500\n",
      "1434/1434 [==============================] - 9s 6ms/step - loss: 734523.1250 - mae: 188.6475 - val_loss: 457260.6875 - val_mae: 134.6786\n",
      "Epoch 105/500\n",
      "1434/1434 [==============================] - 9s 6ms/step - loss: 696132.1250 - mae: 183.9367 - val_loss: 461675.9062 - val_mae: 172.5174\n",
      "Epoch 106/500\n",
      "1434/1434 [==============================] - 9s 6ms/step - loss: 691575.6250 - mae: 185.3510 - val_loss: 624861.7500 - val_mae: 135.0835\n",
      "Epoch 107/500\n",
      "1434/1434 [==============================] - 9s 6ms/step - loss: 651694.1875 - mae: 181.5855 - val_loss: 689152.0000 - val_mae: 146.8194\n",
      "Epoch 108/500\n",
      "1434/1434 [==============================] - 8s 6ms/step - loss: 672184.5625 - mae: 177.0456 - val_loss: 533459.8125 - val_mae: 164.7579\n",
      "Epoch 109/500\n",
      "1434/1434 [==============================] - 9s 6ms/step - loss: 660704.5000 - mae: 184.7341 - val_loss: 650324.5000 - val_mae: 175.5527\n",
      "Epoch 110/500\n",
      "1434/1434 [==============================] - 8s 6ms/step - loss: 659810.0625 - mae: 174.1014 - val_loss: 718306.6250 - val_mae: 258.2585\n",
      "Epoch 111/500\n",
      "1434/1434 [==============================] - 8s 6ms/step - loss: 675079.5625 - mae: 178.7637 - val_loss: 546987.1250 - val_mae: 124.1428\n",
      "Epoch 112/500\n",
      "1434/1434 [==============================] - 8s 6ms/step - loss: 662851.6250 - mae: 179.7177 - val_loss: 559718.8750 - val_mae: 137.3911\n",
      "Epoch 113/500\n",
      "1434/1434 [==============================] - 8s 6ms/step - loss: 681519.3125 - mae: 182.8634 - val_loss: 540498.5625 - val_mae: 141.4743\n",
      "Epoch 114/500\n",
      "1434/1434 [==============================] - 8s 6ms/step - loss: 623838.2500 - mae: 178.9769 - val_loss: 1004988.5625 - val_mae: 195.1663\n",
      "Epoch 115/500\n",
      "1434/1434 [==============================] - 8s 6ms/step - loss: 711430.1250 - mae: 178.3736 - val_loss: 806385.1875 - val_mae: 191.2847\n",
      "Epoch 116/500\n",
      "1434/1434 [==============================] - 8s 6ms/step - loss: 638313.3125 - mae: 177.2012 - val_loss: 394418.3125 - val_mae: 130.5179\n",
      "Epoch 117/500\n",
      "1434/1434 [==============================] - 8s 6ms/step - loss: 705049.6875 - mae: 190.8031 - val_loss: 1354154.1250 - val_mae: 313.9899\n",
      "Epoch 118/500\n",
      "1434/1434 [==============================] - 8s 6ms/step - loss: 686798.6875 - mae: 169.5313 - val_loss: 502231.1562 - val_mae: 146.3387\n",
      "Epoch 119/500\n",
      "1434/1434 [==============================] - 8s 6ms/step - loss: 662171.6250 - mae: 180.3314 - val_loss: 636363.6875 - val_mae: 171.8902\n",
      "Epoch 120/500\n",
      "1434/1434 [==============================] - 8s 6ms/step - loss: 656032.2500 - mae: 173.5662 - val_loss: 421825.1875 - val_mae: 135.1249\n",
      "Epoch 121/500\n",
      "1434/1434 [==============================] - 8s 6ms/step - loss: 666668.4375 - mae: 180.1610 - val_loss: 1263170.7500 - val_mae: 251.4680\n",
      "Epoch 122/500\n",
      "1434/1434 [==============================] - 8s 6ms/step - loss: 607476.6250 - mae: 172.1998 - val_loss: 565184.6875 - val_mae: 173.3804\n",
      "Epoch 123/500\n",
      "1434/1434 [==============================] - 8s 6ms/step - loss: 756779.3750 - mae: 194.0431 - val_loss: 1020200.7500 - val_mae: 219.3469\n",
      "Epoch 124/500\n",
      "1434/1434 [==============================] - 8s 6ms/step - loss: 677767.6250 - mae: 181.6914 - val_loss: 420943.2500 - val_mae: 128.0650\n",
      "Epoch 125/500\n",
      "1434/1434 [==============================] - 8s 6ms/step - loss: 643081.8125 - mae: 171.9809 - val_loss: 496653.7500 - val_mae: 147.6004\n",
      "Epoch 126/500\n",
      "1434/1434 [==============================] - 8s 6ms/step - loss: 732842.8750 - mae: 191.5401 - val_loss: 416331.3125 - val_mae: 136.2329\n",
      "Epoch 127/500\n",
      "1434/1434 [==============================] - 8s 6ms/step - loss: 714077.5000 - mae: 192.1630 - val_loss: 541909.7500 - val_mae: 158.3122\n",
      "Epoch 128/500\n",
      "1434/1434 [==============================] - 8s 6ms/step - loss: 761653.5625 - mae: 195.3666 - val_loss: 2040812.7500 - val_mae: 355.1484\n",
      "Epoch 129/500\n",
      "1434/1434 [==============================] - 8s 6ms/step - loss: 649490.0000 - mae: 173.9467 - val_loss: 391824.9688 - val_mae: 143.7173\n",
      "Epoch 130/500\n",
      "1434/1434 [==============================] - 8s 6ms/step - loss: 652186.6875 - mae: 181.4323 - val_loss: 599082.6250 - val_mae: 164.3768\n",
      "Epoch 131/500\n",
      "1434/1434 [==============================] - 9s 6ms/step - loss: 673879.6250 - mae: 177.5492 - val_loss: 626831.1875 - val_mae: 183.7820\n",
      "Epoch 132/500\n",
      "1434/1434 [==============================] - 9s 6ms/step - loss: 692085.6875 - mae: 178.8059 - val_loss: 849885.8125 - val_mae: 228.8635\n",
      "Epoch 133/500\n",
      "1434/1434 [==============================] - 8s 6ms/step - loss: 609385.0000 - mae: 168.4754 - val_loss: 473911.5938 - val_mae: 130.4917\n",
      "Epoch 134/500\n",
      "1434/1434 [==============================] - 8s 6ms/step - loss: 680787.3125 - mae: 184.0029 - val_loss: 831682.8125 - val_mae: 212.9328\n",
      "Epoch 135/500\n",
      "1434/1434 [==============================] - 8s 6ms/step - loss: 651685.8125 - mae: 175.5392 - val_loss: 542708.1875 - val_mae: 162.5446\n",
      "Epoch 136/500\n",
      "1434/1434 [==============================] - 8s 6ms/step - loss: 631349.2500 - mae: 165.3292 - val_loss: 600563.3125 - val_mae: 181.3164\n",
      "Epoch 137/500\n",
      "1434/1434 [==============================] - 8s 6ms/step - loss: 671950.1875 - mae: 176.4899 - val_loss: 439147.4688 - val_mae: 133.1851\n",
      "Epoch 138/500\n",
      "1434/1434 [==============================] - 8s 6ms/step - loss: 659649.2500 - mae: 169.9892 - val_loss: 394137.3438 - val_mae: 135.4691\n",
      "Epoch 139/500\n",
      "1434/1434 [==============================] - 8s 6ms/step - loss: 558243.1250 - mae: 154.9300 - val_loss: 490558.8125 - val_mae: 134.0051\n",
      "Epoch 140/500\n",
      "1434/1434 [==============================] - 8s 6ms/step - loss: 740309.8750 - mae: 182.1398 - val_loss: 726258.5625 - val_mae: 154.4120\n",
      "Epoch 141/500\n",
      "1434/1434 [==============================] - 8s 6ms/step - loss: 677296.1875 - mae: 173.0826 - val_loss: 498922.3750 - val_mae: 127.3955\n",
      "Epoch 142/500\n",
      "1434/1434 [==============================] - 8s 6ms/step - loss: 629230.7500 - mae: 162.9969 - val_loss: 430810.0000 - val_mae: 133.5041\n",
      "Epoch 143/500\n",
      "1434/1434 [==============================] - 8s 6ms/step - loss: 643756.9375 - mae: 166.1094 - val_loss: 561009.1250 - val_mae: 156.0629\n",
      "Epoch 144/500\n",
      "1434/1434 [==============================] - 8s 6ms/step - loss: 660099.6250 - mae: 171.2589 - val_loss: 610954.6875 - val_mae: 216.6530\n",
      "Epoch 145/500\n",
      "1434/1434 [==============================] - 8s 6ms/step - loss: 598999.2500 - mae: 166.9941 - val_loss: 431197.5938 - val_mae: 133.5073\n",
      "Epoch 146/500\n",
      "1434/1434 [==============================] - 8s 6ms/step - loss: 660200.7500 - mae: 161.0598 - val_loss: 444092.9688 - val_mae: 130.9918\n",
      "Epoch 147/500\n",
      "1434/1434 [==============================] - 8s 6ms/step - loss: 627454.7500 - mae: 168.3578 - val_loss: 928316.2500 - val_mae: 220.1391\n",
      "Epoch 148/500\n",
      "1434/1434 [==============================] - 8s 6ms/step - loss: 637015.7500 - mae: 169.3550 - val_loss: 698246.4375 - val_mae: 197.3088\n",
      "Epoch 149/500\n",
      "1434/1434 [==============================] - 8s 6ms/step - loss: 610579.6875 - mae: 175.4311 - val_loss: 477087.5000 - val_mae: 144.2619\n",
      "Epoch 150/500\n",
      "1434/1434 [==============================] - 8s 6ms/step - loss: 665425.1875 - mae: 168.8632 - val_loss: 511128.6250 - val_mae: 123.5237\n",
      "Epoch 151/500\n",
      "1434/1434 [==============================] - 8s 6ms/step - loss: 630130.6875 - mae: 158.9890 - val_loss: 515170.0000 - val_mae: 143.6839\n",
      "Epoch 152/500\n",
      "1434/1434 [==============================] - 8s 6ms/step - loss: 581116.0000 - mae: 154.7076 - val_loss: 1365437.6250 - val_mae: 302.6205\n",
      "Epoch 153/500\n",
      "1434/1434 [==============================] - 8s 6ms/step - loss: 646736.5625 - mae: 165.5841 - val_loss: 433240.5312 - val_mae: 166.0317\n",
      "Epoch 154/500\n",
      "1434/1434 [==============================] - 8s 6ms/step - loss: 687487.0625 - mae: 178.3592 - val_loss: 458266.5938 - val_mae: 162.5045\n",
      "Epoch 155/500\n",
      "1434/1434 [==============================] - 8s 6ms/step - loss: 663575.3750 - mae: 163.9042 - val_loss: 433440.1250 - val_mae: 127.7496\n",
      "Epoch 156/500\n",
      "1434/1434 [==============================] - 8s 6ms/step - loss: 589878.4375 - mae: 154.4860 - val_loss: 1792990.6250 - val_mae: 331.8927\n",
      "Epoch 157/500\n",
      "1434/1434 [==============================] - 8s 6ms/step - loss: 701009.3125 - mae: 171.4484 - val_loss: 683920.9375 - val_mae: 175.4267\n",
      "Epoch 158/500\n",
      "1434/1434 [==============================] - 8s 6ms/step - loss: 672230.1875 - mae: 176.7628 - val_loss: 895092.2500 - val_mae: 212.6442\n",
      "Epoch 159/500\n",
      "1434/1434 [==============================] - 8s 6ms/step - loss: 611245.0625 - mae: 164.1695 - val_loss: 486931.0312 - val_mae: 130.2851\n",
      "Epoch 160/500\n",
      "1434/1434 [==============================] - 8s 6ms/step - loss: 654100.5625 - mae: 170.4563 - val_loss: 491593.6562 - val_mae: 128.2677\n",
      "Epoch 161/500\n",
      "1434/1434 [==============================] - 8s 6ms/step - loss: 670746.5000 - mae: 169.5362 - val_loss: 472638.5625 - val_mae: 134.7761\n",
      "Epoch 162/500\n",
      "1434/1434 [==============================] - 8s 6ms/step - loss: 618558.1875 - mae: 165.3003 - val_loss: 426652.5625 - val_mae: 125.4609\n",
      "Epoch 163/500\n",
      "1434/1434 [==============================] - 8s 6ms/step - loss: 598164.5000 - mae: 162.4550 - val_loss: 652100.0000 - val_mae: 180.4702\n",
      "Epoch 164/500\n",
      "1434/1434 [==============================] - 8s 6ms/step - loss: 634353.1250 - mae: 165.7168 - val_loss: 819466.9375 - val_mae: 158.9176\n",
      "Epoch 165/500\n",
      "1434/1434 [==============================] - 8s 6ms/step - loss: 616597.8750 - mae: 166.0578 - val_loss: 943143.2500 - val_mae: 244.5024\n",
      "Epoch 166/500\n",
      "1434/1434 [==============================] - 8s 6ms/step - loss: 590602.8750 - mae: 157.5850 - val_loss: 475797.0625 - val_mae: 142.6123\n",
      "Epoch 167/500\n",
      "1434/1434 [==============================] - 9s 6ms/step - loss: 609436.6875 - mae: 165.9063 - val_loss: 435000.8750 - val_mae: 126.7591\n",
      "Epoch 168/500\n",
      "1434/1434 [==============================] - 8s 6ms/step - loss: 573396.2500 - mae: 159.3131 - val_loss: 347114.6250 - val_mae: 135.5445\n",
      "Epoch 169/500\n",
      "1434/1434 [==============================] - 8s 6ms/step - loss: 639833.3750 - mae: 175.6497 - val_loss: 504090.1562 - val_mae: 138.2096\n",
      "Epoch 170/500\n",
      "1434/1434 [==============================] - 8s 6ms/step - loss: 584564.3750 - mae: 158.4436 - val_loss: 440867.2812 - val_mae: 122.7875\n",
      "Epoch 171/500\n",
      "1434/1434 [==============================] - 8s 6ms/step - loss: 632642.4375 - mae: 161.9082 - val_loss: 709712.3125 - val_mae: 224.3713\n",
      "Epoch 172/500\n",
      "1434/1434 [==============================] - 8s 6ms/step - loss: 655505.9375 - mae: 167.0081 - val_loss: 702136.5625 - val_mae: 156.8925\n",
      "Epoch 173/500\n",
      "1434/1434 [==============================] - 8s 6ms/step - loss: 612810.6250 - mae: 164.3040 - val_loss: 602926.3750 - val_mae: 168.0789\n",
      "Epoch 174/500\n",
      "1434/1434 [==============================] - 8s 6ms/step - loss: 584814.1875 - mae: 158.9126 - val_loss: 505971.9688 - val_mae: 139.1510\n",
      "Epoch 175/500\n",
      "1434/1434 [==============================] - 8s 6ms/step - loss: 670776.8125 - mae: 180.1561 - val_loss: 480150.5000 - val_mae: 157.1151\n",
      "Epoch 176/500\n",
      "1434/1434 [==============================] - 8s 6ms/step - loss: 651552.4375 - mae: 159.4620 - val_loss: 422559.7500 - val_mae: 132.5224\n",
      "Epoch 177/500\n",
      "1434/1434 [==============================] - 8s 6ms/step - loss: 658424.2500 - mae: 177.0733 - val_loss: 440167.7188 - val_mae: 157.6718\n",
      "Epoch 178/500\n",
      "1434/1434 [==============================] - 8s 6ms/step - loss: 582319.5000 - mae: 157.9665 - val_loss: 610357.6875 - val_mae: 176.9994\n",
      "Epoch 179/500\n",
      "1434/1434 [==============================] - 8s 6ms/step - loss: 539304.3125 - mae: 159.6511 - val_loss: 597566.4375 - val_mae: 208.4509\n",
      "Epoch 180/500\n",
      "1434/1434 [==============================] - 8s 6ms/step - loss: 670697.8750 - mae: 170.5024 - val_loss: 582261.6250 - val_mae: 131.7030\n",
      "Epoch 181/500\n",
      "1434/1434 [==============================] - 8s 6ms/step - loss: 630533.3750 - mae: 170.6770 - val_loss: 574006.7500 - val_mae: 147.3204\n",
      "Epoch 182/500\n",
      "1434/1434 [==============================] - 8s 6ms/step - loss: 607783.2500 - mae: 163.6725 - val_loss: 442790.8438 - val_mae: 121.5990\n",
      "Epoch 183/500\n",
      "1434/1434 [==============================] - 8s 6ms/step - loss: 575742.9375 - mae: 155.8643 - val_loss: 1101385.2500 - val_mae: 250.0863\n",
      "Epoch 184/500\n",
      "1434/1434 [==============================] - 8s 6ms/step - loss: 646135.5625 - mae: 171.2187 - val_loss: 562757.6875 - val_mae: 132.8192\n",
      "Epoch 185/500\n",
      "1434/1434 [==============================] - 8s 6ms/step - loss: 637246.1250 - mae: 172.5606 - val_loss: 747155.1875 - val_mae: 229.2390\n",
      "Epoch 186/500\n",
      "1434/1434 [==============================] - 8s 6ms/step - loss: 611682.5625 - mae: 167.8187 - val_loss: 868619.1250 - val_mae: 197.8066\n",
      "Epoch 187/500\n",
      "1434/1434 [==============================] - 8s 6ms/step - loss: 622198.1250 - mae: 164.0152 - val_loss: 632411.1250 - val_mae: 157.4622\n",
      "Epoch 188/500\n",
      "1434/1434 [==============================] - 8s 6ms/step - loss: 619063.9375 - mae: 159.0673 - val_loss: 445858.2812 - val_mae: 127.9361\n",
      "Epoch 189/500\n",
      "1434/1434 [==============================] - 8s 6ms/step - loss: 619268.3125 - mae: 163.1514 - val_loss: 543720.8125 - val_mae: 197.1450\n",
      "Epoch 190/500\n",
      "1434/1434 [==============================] - 8s 6ms/step - loss: 597823.3125 - mae: 158.2300 - val_loss: 596395.2500 - val_mae: 151.9825\n",
      "Epoch 191/500\n",
      "1434/1434 [==============================] - 8s 6ms/step - loss: 715929.7500 - mae: 180.3850 - val_loss: 822880.8750 - val_mae: 262.6543\n",
      "Epoch 192/500\n",
      "1434/1434 [==============================] - 8s 6ms/step - loss: 562181.2500 - mae: 152.5641 - val_loss: 585396.5000 - val_mae: 153.7609\n",
      "Epoch 193/500\n",
      "1434/1434 [==============================] - 8s 6ms/step - loss: 628062.2500 - mae: 164.2633 - val_loss: 453728.6875 - val_mae: 128.2299\n",
      "Epoch 194/500\n",
      "1434/1434 [==============================] - 8s 6ms/step - loss: 634498.1875 - mae: 164.6328 - val_loss: 989507.3125 - val_mae: 349.9110\n",
      "Epoch 195/500\n",
      "1434/1434 [==============================] - 8s 6ms/step - loss: 581185.5625 - mae: 160.9052 - val_loss: 400908.5000 - val_mae: 125.4965\n",
      "Epoch 196/500\n",
      "1434/1434 [==============================] - 8s 6ms/step - loss: 614048.0625 - mae: 168.2976 - val_loss: 589847.9375 - val_mae: 156.9883\n",
      "Epoch 197/500\n",
      "1434/1434 [==============================] - 8s 6ms/step - loss: 594879.0625 - mae: 160.7406 - val_loss: 760082.8750 - val_mae: 158.7556\n",
      "Epoch 198/500\n",
      "1434/1434 [==============================] - 8s 6ms/step - loss: 590335.3125 - mae: 157.1537 - val_loss: 493199.0938 - val_mae: 120.8416\n",
      "Epoch 199/500\n",
      "1434/1434 [==============================] - 8s 6ms/step - loss: 592458.8125 - mae: 163.7405 - val_loss: 553511.5000 - val_mae: 156.7210\n",
      "Epoch 200/500\n",
      "1434/1434 [==============================] - 8s 6ms/step - loss: 713184.3125 - mae: 189.6487 - val_loss: 931568.0000 - val_mae: 231.5493\n",
      "Epoch 201/500\n",
      "1434/1434 [==============================] - 8s 6ms/step - loss: 643732.6250 - mae: 168.8972 - val_loss: 708874.9375 - val_mae: 195.2803\n",
      "Epoch 202/500\n",
      "1434/1434 [==============================] - 8s 6ms/step - loss: 664576.6875 - mae: 173.7629 - val_loss: 522815.9688 - val_mae: 154.6697\n",
      "Epoch 203/500\n",
      "1434/1434 [==============================] - 8s 6ms/step - loss: 595261.8125 - mae: 161.5038 - val_loss: 426874.7500 - val_mae: 152.2213\n",
      "Epoch 204/500\n",
      "1434/1434 [==============================] - 9s 6ms/step - loss: 634918.9375 - mae: 168.0199 - val_loss: 469203.1250 - val_mae: 140.4464\n",
      "Epoch 205/500\n",
      "1434/1434 [==============================] - 8s 6ms/step - loss: 646942.1875 - mae: 165.0884 - val_loss: 1272032.7500 - val_mae: 274.8370\n",
      "Epoch 206/500\n",
      "1434/1434 [==============================] - 8s 6ms/step - loss: 575422.0000 - mae: 169.6369 - val_loss: 600256.4375 - val_mae: 189.8328\n",
      "Epoch 207/500\n",
      "1434/1434 [==============================] - 8s 6ms/step - loss: 604364.6875 - mae: 166.5671 - val_loss: 459691.0938 - val_mae: 148.4065\n",
      "Epoch 208/500\n",
      "1434/1434 [==============================] - 8s 6ms/step - loss: 616055.8125 - mae: 161.6815 - val_loss: 1048521.7500 - val_mae: 244.8755\n",
      "Epoch 209/500\n",
      "1434/1434 [==============================] - 8s 6ms/step - loss: 657039.8750 - mae: 171.3347 - val_loss: 722407.5625 - val_mae: 173.1243\n",
      "Epoch 210/500\n",
      "1434/1434 [==============================] - 8s 6ms/step - loss: 582799.3125 - mae: 159.6705 - val_loss: 554321.5000 - val_mae: 192.0777\n",
      "Epoch 211/500\n",
      "1434/1434 [==============================] - 8s 6ms/step - loss: 626812.3750 - mae: 168.4779 - val_loss: 705803.5000 - val_mae: 182.6590\n",
      "Epoch 212/500\n",
      "1434/1434 [==============================] - 8s 6ms/step - loss: 584417.9375 - mae: 167.2603 - val_loss: 414509.6875 - val_mae: 117.8451\n",
      "Epoch 213/500\n",
      "1434/1434 [==============================] - 8s 6ms/step - loss: 568036.2500 - mae: 153.8105 - val_loss: 362996.7812 - val_mae: 116.4018\n",
      "Epoch 214/500\n",
      "1434/1434 [==============================] - 8s 6ms/step - loss: 588476.8750 - mae: 161.5249 - val_loss: 465714.0625 - val_mae: 149.8040\n",
      "Epoch 215/500\n",
      "1434/1434 [==============================] - 8s 6ms/step - loss: 555664.2500 - mae: 154.6251 - val_loss: 766023.6250 - val_mae: 270.9507\n",
      "Epoch 216/500\n",
      "1434/1434 [==============================] - 8s 6ms/step - loss: 597006.3125 - mae: 160.0824 - val_loss: 566863.4375 - val_mae: 179.1051\n",
      "Epoch 217/500\n",
      "1434/1434 [==============================] - 8s 6ms/step - loss: 583075.0625 - mae: 154.5179 - val_loss: 383496.0000 - val_mae: 128.3810\n",
      "Epoch 218/500\n",
      "1434/1434 [==============================] - 8s 6ms/step - loss: 594100.5000 - mae: 163.7349 - val_loss: 734083.7500 - val_mae: 205.7403\n"
     ]
    }
   ],
   "source": [
    "history = ann.fit(X_train, y_train,\n",
    "                    validation_data = (X_val, y_val),\n",
    "                    callbacks=[es],\n",
    "                    epochs=500,\n",
    "                    batch_size=30,\n",
    "                    verbose=1)"
   ]
  },
  {
   "cell_type": "code",
   "execution_count": 22,
   "metadata": {
    "ExecuteTime": {
     "end_time": "2024-08-14T06:30:05.448468100Z",
     "start_time": "2024-08-14T06:30:04.944909300Z"
    }
   },
   "outputs": [
    {
     "data": {
      "text/plain": "<Figure size 600x600 with 1 Axes>",
      "image/png": "[encoded data removed]"
     },
     "metadata": {},
     "output_type": "display_data"
    }
   ],
   "source": [
    "# let's see the training and validation accuracy by epoch\n",
    "history_dict = history.history\n",
    "loss_values = history_dict['loss'] # you can change this\n",
    "val_loss_values = history_dict['val_loss'] # you can also change this\n",
    "epochs = range(1, len(loss_values) + 1) # range of X (no. of epochs)\n",
    "\n",
    "# Set global font to Times New Roman and font size\n",
    "plt.rcParams['font.family'] = 'serif'\n",
    "plt.rcParams['font.serif'] = ['Times New Roman']\n",
    "plt.rcParams['font.size'] = 20\n",
    "\n",
    "# Create a plot\n",
    "plt.figure(figsize=(6, 6))\n",
    "plt.plot(epochs, loss_values, 'blue', label='Train set')\n",
    "plt.plot(epochs, val_loss_values, 'orange', label='Validation set')\n",
    "#plt.title('Training and testing loss')\n",
    "\n",
    "\n",
    "plt.xlabel('Epochs')\n",
    "plt.ylabel('Loss (MSE)')\n",
    "plt.legend()\n",
    "plt.savefig('Section2_ANN3_2.png', dpi=200, bbox_inches='tight')\n",
    "plt.show()"
   ]
  },
  {
   "cell_type": "code",
   "execution_count": 23,
   "metadata": {
    "ExecuteTime": {
     "end_time": "2024-08-14T06:30:05.846585200Z",
     "start_time": "2024-08-14T06:30:05.469484900Z"
    }
   },
   "outputs": [
    {
     "data": {
      "text/plain": "<Figure size 600x600 with 1 Axes>",
      "image/png": "[encoded data removed]"
     },
     "metadata": {},
     "output_type": "display_data"
    }
   ],
   "source": [
    "loss_values1 = history_dict['mae'] # you can change this\n",
    "val_loss_values1 = history_dict['val_mae'] # you can also change this\n",
    "epochs = range(1, len(loss_values1) + 1) # range of X (no. of epochs)\n",
    "# Create a plot\n",
    "plt.figure(figsize=(6, 6))\n",
    "plt.plot(epochs, loss_values1, 'blue', label='Train set')\n",
    "plt.plot(epochs, val_loss_values1, 'orange', label='Validation set')\n",
    "#plt.title('Training and testing MAE')\n",
    "plt.xlabel('Epochs')\n",
    "plt.ylabel('MAE (kPa)')\n",
    "plt.legend()\n",
    "plt.savefig('Section2_ANN3_3.png', dpi=200, bbox_inches='tight')\n",
    "plt.show()"
   ]
  },
  {
   "cell_type": "code",
   "execution_count": 24,
   "metadata": {
    "ExecuteTime": {
     "end_time": "2024-08-14T06:30:08.028900400Z",
     "start_time": "2024-08-14T06:30:05.849579200Z"
    }
   },
   "outputs": [
    {
     "name": "stdout",
     "output_type": "stream",
     "text": [
      "INFO:tensorflow:Assets written to: Section2_new_ANN_3\\assets\n"
     ]
    }
   ],
   "source": [
    "ann.save('Section2_new_ANN_3')\n",
    "import pickle\n",
    "pickle.dump(sc, open('Section2_new_scaler_ANN_3.pkl', 'wb'))"
   ]
  },
  {
   "cell_type": "markdown",
   "metadata": {},
   "source": [
    "## Part 5 - Make predictions"
   ]
  },
  {
   "cell_type": "code",
   "execution_count": 25,
   "metadata": {
    "ExecuteTime": {
     "end_time": "2024-08-14T06:30:14.517910400Z",
     "start_time": "2024-08-14T06:30:08.034898800Z"
    }
   },
   "outputs": [
    {
     "name": "stdout",
     "output_type": "stream",
     "text": [
      "1345/1345 [==============================] - 3s 2ms/step\n",
      "449/449 [==============================] - 1s 2ms/step\n"
     ]
    },
    {
     "data": {
      "text/plain": "<Figure size 640x480 with 2 Axes>",
      "image/png": "[encoded data removed]"
     },
     "metadata": {},
     "output_type": "display_data"
    }
   ],
   "source": [
    "# scatterplot of actual vs. pred\n",
    "# specify the dimensions \n",
    "fig, axes = plt.subplots(1,2) # 1 row, 2 columns\n",
    "\n",
    "# this makes the individual subplots\n",
    "# Training Results\n",
    "axes[0].scatter(x=y_train, y=ann.predict(X_train)) #first row, first entry (left top)\n",
    "axes[0].set_xlabel(\"Actual\", fontsize=20)\n",
    "axes[0].set_ylabel(\"Predicted\",  fontsize=20)\n",
    "axes[0].set_title(\"Training\")\n",
    "# add 45 deg line\n",
    "x = np.linspace(*axes[0].get_xlim())\n",
    "axes[0].plot(x, x, color='red')\n",
    "# Validation Results\n",
    "axes[1].scatter(x=y_val, y=ann.predict(X_val)) # first row, second entry (right top)\n",
    "axes[1].set_xlabel(\"Actual\", fontsize=20)\n",
    "axes[1].set_ylabel(\"Predicted\",  fontsize=20)\n",
    "axes[1].set_title(\"Validation\")\n",
    "# add 45 deg line\n",
    "x = np.linspace(*axes[1].get_xlim())\n",
    "axes[1].plot(x, x, color='red')\n",
    "\n",
    "# tight layout\n",
    "fig.tight_layout()\n",
    "\n",
    "plt.savefig('Section2_ANN3_1.png', dpi=200, bbox_inches='tight')\n",
    "# show the plot\n",
    "plt.show()"
   ]
  },
  {
   "cell_type": "code",
   "execution_count": 26,
   "metadata": {
    "colab": {
     "base_uri": "https://localhost:8080/",
     "height": 134
    },
    "colab_type": "code",
    "id": "IA0yApEmBG1X",
    "outputId": "cb981e1f-9204-4a2a-fece-9d66a6919189",
    "ExecuteTime": {
     "end_time": "2024-08-14T06:30:15.895709300Z",
     "start_time": "2024-08-14T06:30:14.515907700Z"
    }
   },
   "outputs": [
    {
     "name": "stdout",
     "output_type": "stream",
     "text": [
      "449/449 [==============================] - 1s 2ms/step\n",
      "[[ 7.84e+02  9.34e+02]\n",
      " [ 4.92e+00  6.17e+00]\n",
      " [-2.69e+00  4.27e+00]\n",
      " ...\n",
      " [ 1.37e+02  2.99e+02]\n",
      " [ 4.63e+03  4.94e+03]\n",
      " [ 5.57e+03  6.31e+03]]\n"
     ]
    }
   ],
   "source": [
    "y_pred = ann.predict(X_test)\n",
    "np.set_printoptions(precision=2)\n",
    "print(np.concatenate((y_pred.reshape(len(y_pred),1), y_test.reshape(len(y_test),1)),1))"
   ]
  },
  {
   "cell_type": "code",
   "execution_count": 27,
   "metadata": {
    "ExecuteTime": {
     "end_time": "2024-08-14T06:30:16.128420Z",
     "start_time": "2024-08-14T06:30:15.897710200Z"
    }
   },
   "outputs": [
    {
     "data": {
      "text/plain": "Text(0, 0.5, 'Predicted data')"
     },
     "execution_count": 27,
     "metadata": {},
     "output_type": "execute_result"
    },
    {
     "data": {
      "text/plain": "<Figure size 640x480 with 1 Axes>",
      "image/png": "[encoded data removed]"
     },
     "metadata": {},
     "output_type": "display_data"
    }
   ],
   "source": [
    "import matplotlib.pyplot as plt\n",
    "plt.scatter(y_test, y_pred, color=\"blue\")\n",
    "plt.xlabel ('Actual data')\n",
    "plt.ylabel ('Predicted data')"
   ]
  },
  {
   "cell_type": "code",
   "execution_count": 28,
   "metadata": {
    "ExecuteTime": {
     "end_time": "2024-08-14T06:30:16.896791900Z",
     "start_time": "2024-08-14T06:30:16.138001Z"
    }
   },
   "outputs": [
    {
     "data": {
      "text/plain": "<Figure size 600x600 with 1 Axes>",
      "image/png": "[encoded data removed]"
     },
     "metadata": {},
     "output_type": "display_data"
    }
   ],
   "source": [
    "from sklearn.metrics import r2_score\n",
    "# Initialize layout\n",
    "fig1, ax1 = plt.subplots(figsize = (6, 6))\n",
    "\n",
    "# Set global font to Times New Roman and font size\n",
    "plt.rcParams['font.family'] = 'serif'\n",
    "plt.rcParams['font.serif'] = ['Times New Roman']\n",
    "plt.rcParams['font.size'] = 20\n",
    "\n",
    "b_l = -2000\n",
    "u_l = 65000\n",
    "\n",
    "# Add scatterplot\n",
    "ax1.scatter(y_test, y_pred, s=70, alpha=1, edgecolors=\"k\",c='mediumblue',zorder=5, label = 'Points')\n",
    "\n",
    "\n",
    "plt.ylabel('Predicted Reflected Overpressure (kPa)')\n",
    "plt.xlabel('Target Reflected Overpressure (kPa)')\n",
    "plt.xticks(fontsize = 19)\n",
    "plt.yticks(fontsize = 19)\n",
    "\n",
    "\n",
    "x1 = np.linspace(b_l, u_l)\n",
    "\n",
    "plt.plot(x1, x1, 'Red', label='45\\N{DEGREE SIGN} line',lw=2.5,alpha=1)\n",
    "#plt.plot(x1, 1.05*x1, '--m', label='\\u00B15% Error',lw=2.5,alpha=0.7)\n",
    "#plt.plot(x1, 0.95*x1,'m', linestyle='--',lw=2.5,alpha=0.7)\n",
    "plt.plot(x1, 1.1*x1, '-.g', label='\\u00B110% Error',lw=2.5,alpha=0.7)\n",
    "plt.plot(x1, 0.9*x1,'-.g',lw=2.5,alpha=0.7)\n",
    "plt.plot(x1, 1.2*x1, color = '#F97306', linestyle='dotted', label='\\u00B120% Error',lw=2.5,alpha=0.7)\n",
    "plt.plot(x1, 0.8*x1,color = '#F97306', linestyle='dotted', lw=2.5,alpha=0.7)\n",
    "\n",
    "plt.ylim(b_l, u_l)\n",
    "plt.xlim(b_l, u_l)\n",
    "plt.legend(loc='upper center', bbox_to_anchor=(0.5, -0.15), ncol=4, frameon = False, fontsize = 20)\n",
    "\n",
    "#plt.grid()\n",
    "\n",
    "ax1.spines['left'].set_color('black')        # setting up Y-axis tick color to red\n",
    "ax1.spines['bottom'].set_color('black')         #setting up above X-axis tick color to red\n",
    "\n",
    "plt.savefig('Section2_ANN3.png', dpi=200, bbox_inches='tight')"
   ]
  },
  {
   "cell_type": "code",
   "execution_count": 29,
   "metadata": {
    "ExecuteTime": {
     "end_time": "2024-08-14T06:30:20.437312700Z",
     "start_time": "2024-08-14T06:30:16.895791800Z"
    }
   },
   "outputs": [
    {
     "name": "stdout",
     "output_type": "stream",
     "text": [
      "1345/1345 [==============================] - 3s 2ms/step\n",
      "132.40791150396484\n",
      "128.60320655117488\n"
     ]
    }
   ],
   "source": [
    "# metrics\n",
    "trainpreds = ann.predict(X_train)\n",
    "\n",
    "from sklearn.metrics import mean_absolute_error\n",
    "print(mean_absolute_error(y_train, trainpreds)) # train\n",
    "print(mean_absolute_error(y_test, y_pred)) # test"
   ]
  },
  {
   "cell_type": "code",
   "execution_count": 30,
   "metadata": {
    "ExecuteTime": {
     "end_time": "2024-08-14T06:30:20.476555400Z",
     "start_time": "2024-08-14T06:30:20.434305800Z"
    }
   },
   "outputs": [
    {
     "name": "stdout",
     "output_type": "stream",
     "text": [
      "0.9723894837967009\n"
     ]
    }
   ],
   "source": [
    "from sklearn.metrics import r2_score\n",
    "r2 = r2_score(y_test, y_pred)\n",
    "print (r2)"
   ]
  },
  {
   "cell_type": "code",
   "execution_count": 31,
   "metadata": {
    "ExecuteTime": {
     "end_time": "2024-08-14T06:30:20.618547300Z",
     "start_time": "2024-08-14T06:30:20.449548100Z"
    }
   },
   "outputs": [
    {
     "name": "stdout",
     "output_type": "stream",
     "text": [
      "0.9701939870625357\n"
     ]
    }
   ],
   "source": [
    "r2_train = r2_score(y_train, trainpreds)\n",
    "print (r2_train)"
   ]
  },
  {
   "cell_type": "code",
   "execution_count": 32,
   "metadata": {
    "ExecuteTime": {
     "end_time": "2024-08-14T06:30:21.637525400Z",
     "start_time": "2024-08-14T06:30:20.624541600Z"
    }
   },
   "outputs": [
    {
     "name": "stdout",
     "output_type": "stream",
     "text": [
      "Within 5% margin 8.89%\n",
      "Within 10% margin 18.03%\n",
      "Within 20% margin 31.91%\n",
      "Out of 20% margin 68.09%\n"
     ]
    }
   ],
   "source": [
    "count0 = 0\n",
    "for i in range(len(y_pred)):\n",
    "    line1 = y_pred[i] - 0.95*y_test[i]\n",
    "    line2 = y_pred[i] - 1.05*y_test[i]\n",
    "    mask0 = (line1 > 0) & (line2 < 0)\n",
    "    count0 = np.sum(mask0+count0)\n",
    "\n",
    "count1 = 0\n",
    "for i in range(len(y_pred)):\n",
    "    line1 = y_pred[i] - 0.9*y_test[i]\n",
    "    line2 = y_pred[i] - 1.1*y_test[i]\n",
    "    mask1 = (line1 > 0) & (line2 < 0)\n",
    "    count1 = np.sum(mask1+count1)\n",
    "\n",
    "count2 = 0\n",
    "for j in range(len(y_pred)):\n",
    "    line3 = y_pred[j] - 0.8*y_test[j]\n",
    "    line4 = y_pred[j] - 1.2*y_test[j]\n",
    "    mask2 = (line3 > 0) & (line4 < 0)\n",
    "    count2 = np.sum(mask2+count2)\n",
    "\n",
    "\n",
    "count3 = 0    \n",
    "for k in range(len(y_pred)):\n",
    "    line5 = y_pred[k] - 0.8*y_test[k]\n",
    "    line6 = y_pred[k] - 1.2*y_test[k]\n",
    "    mask3 = (line5 < 0) or (line6 > 0)\n",
    "    count3 = np.sum(mask3+count3)\n",
    "   \n",
    "\n",
    "print ('Within 5% margin', format((count0/len (y_pred)),'.2%'))\n",
    "print ('Within 10% margin', format((count1/len (y_pred)),'.2%'))\n",
    "print ('Within 20% margin', format((count2/len (y_pred)),'.2%'))\n",
    "print ('Out of 20% margin', format((count3/len (y_pred)),'.2%'))"
   ]
  },
  {
   "cell_type": "code",
   "execution_count": 33,
   "metadata": {
    "ExecuteTime": {
     "end_time": "2024-08-14T06:30:21.651548200Z",
     "start_time": "2024-08-14T06:30:21.633009600Z"
    }
   },
   "outputs": [
    {
     "name": "stdout",
     "output_type": "stream",
     "text": [
      "0.9723759992775197\n"
     ]
    }
   ],
   "source": [
    "adj_r2 = 1 - ((1 - r2) * (len(X_test) - 1) / (len(X_test) - len (X_test[0]) - 1))\n",
    "print (adj_r2)"
   ]
  },
  {
   "cell_type": "code",
   "execution_count": 34,
   "metadata": {
    "ExecuteTime": {
     "end_time": "2024-08-14T06:30:21.806981100Z",
     "start_time": "2024-08-14T06:30:21.647527500Z"
    }
   },
   "outputs": [
    {
     "data": {
      "text/plain": "532.4889874464463"
     },
     "execution_count": 34,
     "metadata": {},
     "output_type": "execute_result"
    }
   ],
   "source": [
    "import math\n",
    "from sklearn.metrics import mean_squared_error\n",
    "\n",
    "math.sqrt(mean_squared_error(y_test, y_pred))"
   ]
  },
  {
   "cell_type": "code",
   "execution_count": 35,
   "metadata": {
    "ExecuteTime": {
     "end_time": "2024-08-14T06:30:21.942914200Z",
     "start_time": "2024-08-14T06:30:21.802970700Z"
    }
   },
   "outputs": [
    {
     "data": {
      "text/plain": "128.60320655117488"
     },
     "execution_count": 35,
     "metadata": {},
     "output_type": "execute_result"
    }
   ],
   "source": [
    "from sklearn.metrics import mean_absolute_error\n",
    "\n",
    "mean_absolute_error(y_test, y_pred)"
   ]
  }
 ],
 "metadata": {
  "colab": {
   "collapsed_sections": [],
   "name": "Artificial Neural Network",
   "provenance": [],
   "toc_visible": true
  },
  "kernelspec": {
   "display_name": "Python 3 (ipykernel)",
   "language": "python",
   "name": "python3"
  },
  "language_info": {
   "codemirror_mode": {
    "name": "ipython",
    "version": 3
   },
   "file_extension": ".py",
   "mimetype": "text/x-python",
   "name": "python",
   "nbconvert_exporter": "python",
   "pygments_lexer": "ipython3",
   "version": "3.9.7"
  }
 },
 "nbformat": 4,
 "nbformat_minor": 4
}
