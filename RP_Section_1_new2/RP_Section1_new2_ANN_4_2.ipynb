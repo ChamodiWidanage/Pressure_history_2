{
 "cells": [
  {
   "cell_type": "markdown",
   "metadata": {
    "colab_type": "text",
    "id": "3cbb7fRy-eyr"
   },
   "source": [
    "# Artificial Neural Network"
   ]
  },
  {
   "cell_type": "markdown",
   "source": [
    "## Part 1 - Importing the libraries"
   ],
   "metadata": {
    "collapsed": false
   }
  },
  {
   "cell_type": "code",
   "execution_count": 1,
   "metadata": {
    "colab": {},
    "colab_type": "code",
    "id": "lxChR1Rk-umf",
    "ExecuteTime": {
     "end_time": "2024-08-18T08:01:43.816730Z",
     "start_time": "2024-08-18T08:01:38.827811600Z"
    }
   },
   "outputs": [],
   "source": [
    "import numpy as np\n",
    "import pandas as pd\n",
    "import tensorflow as tf\n",
    "import matplotlib.pyplot as plt\n",
    "from keras.models import load_model\n",
    "from pathlib import Path\n",
    "import pickle"
   ]
  },
  {
   "cell_type": "markdown",
   "metadata": {
    "colab_type": "text",
    "id": "AG3FQEch-yuA"
   },
   "source": [
    "## Part 2 - Data Preprocessing"
   ]
  },
  {
   "cell_type": "code",
   "execution_count": 2,
   "metadata": {
    "ExecuteTime": {
     "end_time": "2024-08-18T08:01:43.857830100Z",
     "start_time": "2024-08-18T08:01:43.819742900Z"
    }
   },
   "outputs": [
    {
     "name": "stdout",
     "output_type": "stream",
     "text": [
      "input G:\\Chamodi\\LSDYNA3D\\RP_TH_models\\RP_Section_1_new\n",
      "2 [WindowsPath('G:/Chamodi/LSDYNA3D/RP_TH_models/RP_Section_1_new/1.00m'), WindowsPath('G:/Chamodi/LSDYNA3D/RP_TH_models/RP_Section_1_new/1.25m'), WindowsPath('G:/Chamodi/LSDYNA3D/RP_TH_models/RP_Section_1_new/1.50m'), WindowsPath('G:/Chamodi/LSDYNA3D/RP_TH_models/RP_Section_1_new/1.75m'), WindowsPath('G:/Chamodi/LSDYNA3D/RP_TH_models/RP_Section_1_new/2.00m'), WindowsPath('G:/Chamodi/LSDYNA3D/RP_TH_models/RP_Section_1_new/2.25m'), WindowsPath('G:/Chamodi/LSDYNA3D/RP_TH_models/RP_Section_1_new/2.50m'), WindowsPath('G:/Chamodi/LSDYNA3D/RP_TH_models/RP_Section_1_new/2.75m'), WindowsPath('G:/Chamodi/LSDYNA3D/RP_TH_models/RP_Section_1_new/3.00m')]\n"
     ]
    }
   ],
   "source": [
    "#Access input folder\n",
    "current_dir = Path.cwd()\n",
    "input_dir1 = Path (\"G:/Chamodi/LSDYNA3D/RP_TH_models/RP_Section_1_new\")\n",
    "print (\"input\",input_dir1)\n",
    "\n",
    "#Access folders inside input folder\n",
    "input_dir2=  [folder1 for folder1 in input_dir1.iterdir() if folder1.is_dir()] # folder1 - RP_curves_fr7m\n",
    "print (\"2\",input_dir2)"
   ]
  },
  {
   "cell_type": "code",
   "execution_count": 3,
   "metadata": {
    "ExecuteTime": {
     "end_time": "2024-08-18T08:01:57.633489300Z",
     "start_time": "2024-08-18T08:01:43.834244900Z"
    }
   },
   "outputs": [
    {
     "name": "stdout",
     "output_type": "stream",
     "text": [
      "folder G:\\Chamodi\\LSDYNA3D\\RP_TH_models\\RP_Section_1_new\\1.00m\\1.00m00.5kg\n",
      "1\n",
      "2\n",
      "3\n",
      "4\n",
      "folder G:\\Chamodi\\LSDYNA3D\\RP_TH_models\\RP_Section_1_new\\1.00m\\1.00m02.5kg\n",
      "1\n",
      "2\n",
      "3\n",
      "4\n",
      "folder G:\\Chamodi\\LSDYNA3D\\RP_TH_models\\RP_Section_1_new\\1.00m\\1.00m04.5kg\n",
      "1\n",
      "2\n",
      "3\n",
      "4\n",
      "folder G:\\Chamodi\\LSDYNA3D\\RP_TH_models\\RP_Section_1_new\\1.00m\\1.00m06.5kg\n",
      "1\n",
      "2\n",
      "3\n",
      "4\n",
      "folder G:\\Chamodi\\LSDYNA3D\\RP_TH_models\\RP_Section_1_new\\1.00m\\1.00m08.5kg\n",
      "1\n",
      "2\n",
      "3\n",
      "4\n",
      "folder G:\\Chamodi\\LSDYNA3D\\RP_TH_models\\RP_Section_1_new\\1.00m\\1.00m10.5kg\n",
      "1\n",
      "2\n",
      "3\n",
      "4\n",
      "folder G:\\Chamodi\\LSDYNA3D\\RP_TH_models\\RP_Section_1_new\\1.00m\\1.00m12.5kg\n",
      "1\n",
      "2\n",
      "3\n",
      "4\n",
      "folder G:\\Chamodi\\LSDYNA3D\\RP_TH_models\\RP_Section_1_new\\1.00m\\1.00m14.5kg\n",
      "1\n",
      "2\n",
      "3\n",
      "4\n",
      "folder G:\\Chamodi\\LSDYNA3D\\RP_TH_models\\RP_Section_1_new\\1.00m\\1.00m16.5kg\n",
      "1\n",
      "2\n",
      "3\n",
      "4\n",
      "folder G:\\Chamodi\\LSDYNA3D\\RP_TH_models\\RP_Section_1_new\\1.00m\\1.00m18.5kg\n",
      "1\n",
      "2\n",
      "3\n",
      "4\n",
      "folder G:\\Chamodi\\LSDYNA3D\\RP_TH_models\\RP_Section_1_new\\1.00m\\1.00m20.5kg\n",
      "1\n",
      "2\n",
      "3\n",
      "4\n",
      "folder G:\\Chamodi\\LSDYNA3D\\RP_TH_models\\RP_Section_1_new\\1.00m\\1.00m22.5kg\n",
      "1\n",
      "2\n",
      "3\n",
      "4\n",
      "folder G:\\Chamodi\\LSDYNA3D\\RP_TH_models\\RP_Section_1_new\\1.00m\\1.00m24.5kg\n",
      "1\n",
      "2\n",
      "3\n",
      "4\n",
      "folder G:\\Chamodi\\LSDYNA3D\\RP_TH_models\\RP_Section_1_new\\1.00m\\1.00m26.5kg\n",
      "1\n",
      "2\n",
      "3\n",
      "4\n",
      "folder G:\\Chamodi\\LSDYNA3D\\RP_TH_models\\RP_Section_1_new\\1.00m\\1.00m28.5kg\n",
      "1\n",
      "2\n",
      "3\n",
      "4\n",
      "folder G:\\Chamodi\\LSDYNA3D\\RP_TH_models\\RP_Section_1_new\\1.00m\\1.00m30.5kg\n",
      "1\n",
      "2\n",
      "3\n",
      "4\n",
      "folder G:\\Chamodi\\LSDYNA3D\\RP_TH_models\\RP_Section_1_new\\1.00m\\1.00m32.5kg\n",
      "1\n",
      "2\n",
      "3\n",
      "4\n",
      "folder G:\\Chamodi\\LSDYNA3D\\RP_TH_models\\RP_Section_1_new\\1.00m\\1.00m34.5kg\n",
      "1\n",
      "2\n",
      "3\n",
      "4\n",
      "folder G:\\Chamodi\\LSDYNA3D\\RP_TH_models\\RP_Section_1_new\\1.00m\\1.00m35.0kg\n",
      "1\n",
      "2\n",
      "3\n",
      "4\n",
      "folder G:\\Chamodi\\LSDYNA3D\\RP_TH_models\\RP_Section_1_new\\1.25m\\1.25m00.5kg\n",
      "1\n",
      "2\n",
      "3\n",
      "4\n",
      "folder G:\\Chamodi\\LSDYNA3D\\RP_TH_models\\RP_Section_1_new\\1.25m\\1.25m02.5kg\n",
      "1\n",
      "2\n",
      "3\n",
      "4\n",
      "folder G:\\Chamodi\\LSDYNA3D\\RP_TH_models\\RP_Section_1_new\\1.25m\\1.25m04.5kg\n",
      "1\n",
      "2\n",
      "3\n",
      "4\n",
      "folder G:\\Chamodi\\LSDYNA3D\\RP_TH_models\\RP_Section_1_new\\1.25m\\1.25m06.5kg\n",
      "1\n",
      "2\n",
      "3\n",
      "4\n",
      "folder G:\\Chamodi\\LSDYNA3D\\RP_TH_models\\RP_Section_1_new\\1.25m\\1.25m08.5kg\n",
      "1\n",
      "2\n",
      "3\n",
      "4\n",
      "folder G:\\Chamodi\\LSDYNA3D\\RP_TH_models\\RP_Section_1_new\\1.25m\\1.25m10.5kg\n",
      "1\n",
      "2\n",
      "3\n",
      "4\n",
      "folder G:\\Chamodi\\LSDYNA3D\\RP_TH_models\\RP_Section_1_new\\1.25m\\1.25m12.5kg\n",
      "1\n",
      "2\n",
      "3\n",
      "4\n",
      "folder G:\\Chamodi\\LSDYNA3D\\RP_TH_models\\RP_Section_1_new\\1.25m\\1.25m14.5kg\n",
      "1\n",
      "2\n",
      "3\n",
      "4\n",
      "folder G:\\Chamodi\\LSDYNA3D\\RP_TH_models\\RP_Section_1_new\\1.25m\\1.25m16.5kg\n",
      "1\n",
      "2\n",
      "3\n",
      "4\n",
      "folder G:\\Chamodi\\LSDYNA3D\\RP_TH_models\\RP_Section_1_new\\1.25m\\1.25m18.5kg\n",
      "1\n",
      "2\n",
      "3\n",
      "4\n",
      "folder G:\\Chamodi\\LSDYNA3D\\RP_TH_models\\RP_Section_1_new\\1.25m\\1.25m20.5kg\n",
      "1\n",
      "2\n",
      "3\n",
      "4\n",
      "folder G:\\Chamodi\\LSDYNA3D\\RP_TH_models\\RP_Section_1_new\\1.25m\\1.25m22.5kg\n",
      "1\n",
      "2\n",
      "3\n",
      "4\n",
      "folder G:\\Chamodi\\LSDYNA3D\\RP_TH_models\\RP_Section_1_new\\1.25m\\1.25m24.5kg\n",
      "1\n",
      "2\n",
      "3\n",
      "4\n",
      "folder G:\\Chamodi\\LSDYNA3D\\RP_TH_models\\RP_Section_1_new\\1.25m\\1.25m26.5kg\n",
      "1\n",
      "2\n",
      "3\n",
      "4\n",
      "folder G:\\Chamodi\\LSDYNA3D\\RP_TH_models\\RP_Section_1_new\\1.25m\\1.25m28.5kg\n",
      "1\n",
      "2\n",
      "3\n",
      "4\n",
      "folder G:\\Chamodi\\LSDYNA3D\\RP_TH_models\\RP_Section_1_new\\1.25m\\1.25m30.5kg\n",
      "1\n",
      "2\n",
      "3\n",
      "4\n",
      "folder G:\\Chamodi\\LSDYNA3D\\RP_TH_models\\RP_Section_1_new\\1.25m\\1.25m32.5kg\n",
      "1\n",
      "2\n",
      "3\n",
      "4\n",
      "folder G:\\Chamodi\\LSDYNA3D\\RP_TH_models\\RP_Section_1_new\\1.25m\\1.25m34.5kg\n",
      "1\n",
      "2\n",
      "3\n",
      "4\n",
      "folder G:\\Chamodi\\LSDYNA3D\\RP_TH_models\\RP_Section_1_new\\1.25m\\1.25m35.0kg\n",
      "1\n",
      "2\n",
      "3\n",
      "4\n",
      "folder G:\\Chamodi\\LSDYNA3D\\RP_TH_models\\RP_Section_1_new\\1.50m\\1.50m00.5kg\n",
      "1\n",
      "2\n",
      "3\n",
      "4\n",
      "folder G:\\Chamodi\\LSDYNA3D\\RP_TH_models\\RP_Section_1_new\\1.50m\\1.50m02.5kg\n",
      "1\n",
      "2\n",
      "3\n",
      "4\n",
      "folder G:\\Chamodi\\LSDYNA3D\\RP_TH_models\\RP_Section_1_new\\1.50m\\1.50m04.5kg\n",
      "1\n",
      "2\n",
      "3\n",
      "4\n",
      "folder G:\\Chamodi\\LSDYNA3D\\RP_TH_models\\RP_Section_1_new\\1.50m\\1.50m06.5kg\n",
      "1\n",
      "2\n",
      "3\n",
      "4\n",
      "folder G:\\Chamodi\\LSDYNA3D\\RP_TH_models\\RP_Section_1_new\\1.50m\\1.50m08.5kg\n",
      "1\n",
      "2\n",
      "3\n",
      "4\n",
      "folder G:\\Chamodi\\LSDYNA3D\\RP_TH_models\\RP_Section_1_new\\1.50m\\1.50m10.5kg\n",
      "1\n",
      "2\n",
      "3\n",
      "4\n",
      "folder G:\\Chamodi\\LSDYNA3D\\RP_TH_models\\RP_Section_1_new\\1.50m\\1.50m12.5kg\n",
      "1\n",
      "2\n",
      "3\n",
      "4\n",
      "folder G:\\Chamodi\\LSDYNA3D\\RP_TH_models\\RP_Section_1_new\\1.50m\\1.50m14.5kg\n",
      "1\n",
      "2\n",
      "3\n",
      "4\n",
      "folder G:\\Chamodi\\LSDYNA3D\\RP_TH_models\\RP_Section_1_new\\1.50m\\1.50m16.5kg\n",
      "1\n",
      "2\n",
      "3\n",
      "4\n",
      "folder G:\\Chamodi\\LSDYNA3D\\RP_TH_models\\RP_Section_1_new\\1.50m\\1.50m18.5kg\n",
      "1\n",
      "2\n",
      "3\n",
      "4\n",
      "folder G:\\Chamodi\\LSDYNA3D\\RP_TH_models\\RP_Section_1_new\\1.50m\\1.50m20.5kg\n",
      "1\n",
      "2\n",
      "3\n",
      "4\n",
      "folder G:\\Chamodi\\LSDYNA3D\\RP_TH_models\\RP_Section_1_new\\1.50m\\1.50m22.5kg\n",
      "1\n",
      "2\n",
      "3\n",
      "4\n",
      "folder G:\\Chamodi\\LSDYNA3D\\RP_TH_models\\RP_Section_1_new\\1.50m\\1.50m24.5kg\n",
      "1\n",
      "2\n",
      "3\n",
      "4\n",
      "folder G:\\Chamodi\\LSDYNA3D\\RP_TH_models\\RP_Section_1_new\\1.50m\\1.50m26.5kg\n",
      "1\n",
      "2\n",
      "3\n",
      "4\n",
      "folder G:\\Chamodi\\LSDYNA3D\\RP_TH_models\\RP_Section_1_new\\1.50m\\1.50m28.5kg\n",
      "1\n",
      "2\n",
      "3\n",
      "4\n",
      "folder G:\\Chamodi\\LSDYNA3D\\RP_TH_models\\RP_Section_1_new\\1.50m\\1.50m30.5kg\n",
      "1\n",
      "2\n",
      "3\n",
      "4\n",
      "folder G:\\Chamodi\\LSDYNA3D\\RP_TH_models\\RP_Section_1_new\\1.50m\\1.50m32.5kg\n",
      "1\n",
      "2\n",
      "3\n",
      "4\n",
      "folder G:\\Chamodi\\LSDYNA3D\\RP_TH_models\\RP_Section_1_new\\1.50m\\1.50m34.5kg\n",
      "1\n",
      "2\n",
      "3\n",
      "4\n",
      "folder G:\\Chamodi\\LSDYNA3D\\RP_TH_models\\RP_Section_1_new\\1.50m\\1.50m35.0kg\n",
      "1\n",
      "2\n",
      "3\n",
      "4\n",
      "folder G:\\Chamodi\\LSDYNA3D\\RP_TH_models\\RP_Section_1_new\\1.75m\\1.75m00.5kg\n",
      "1\n",
      "2\n",
      "3\n",
      "4\n",
      "folder G:\\Chamodi\\LSDYNA3D\\RP_TH_models\\RP_Section_1_new\\1.75m\\1.75m02.5kg\n",
      "1\n",
      "2\n",
      "3\n",
      "4\n",
      "folder G:\\Chamodi\\LSDYNA3D\\RP_TH_models\\RP_Section_1_new\\1.75m\\1.75m04.5kg\n",
      "1\n",
      "2\n",
      "3\n",
      "4\n",
      "folder G:\\Chamodi\\LSDYNA3D\\RP_TH_models\\RP_Section_1_new\\1.75m\\1.75m06.5kg\n",
      "1\n",
      "2\n",
      "3\n",
      "4\n",
      "folder G:\\Chamodi\\LSDYNA3D\\RP_TH_models\\RP_Section_1_new\\1.75m\\1.75m08.5kg\n",
      "1\n",
      "2\n",
      "3\n",
      "4\n",
      "folder G:\\Chamodi\\LSDYNA3D\\RP_TH_models\\RP_Section_1_new\\1.75m\\1.75m10.5kg\n",
      "1\n",
      "2\n",
      "3\n",
      "4\n",
      "folder G:\\Chamodi\\LSDYNA3D\\RP_TH_models\\RP_Section_1_new\\1.75m\\1.75m12.5kg\n",
      "1\n",
      "2\n",
      "3\n",
      "4\n",
      "folder G:\\Chamodi\\LSDYNA3D\\RP_TH_models\\RP_Section_1_new\\1.75m\\1.75m14.5kg\n",
      "1\n",
      "2\n",
      "3\n",
      "4\n",
      "folder G:\\Chamodi\\LSDYNA3D\\RP_TH_models\\RP_Section_1_new\\1.75m\\1.75m16.5kg\n",
      "1\n",
      "2\n",
      "3\n",
      "4\n",
      "folder G:\\Chamodi\\LSDYNA3D\\RP_TH_models\\RP_Section_1_new\\1.75m\\1.75m18.5kg\n",
      "1\n",
      "2\n",
      "3\n",
      "4\n",
      "folder G:\\Chamodi\\LSDYNA3D\\RP_TH_models\\RP_Section_1_new\\1.75m\\1.75m20.5kg\n",
      "1\n",
      "2\n",
      "3\n",
      "4\n",
      "folder G:\\Chamodi\\LSDYNA3D\\RP_TH_models\\RP_Section_1_new\\1.75m\\1.75m22.5kg\n",
      "1\n",
      "2\n",
      "3\n",
      "4\n",
      "folder G:\\Chamodi\\LSDYNA3D\\RP_TH_models\\RP_Section_1_new\\1.75m\\1.75m24.5kg\n",
      "1\n",
      "2\n",
      "3\n",
      "4\n",
      "folder G:\\Chamodi\\LSDYNA3D\\RP_TH_models\\RP_Section_1_new\\1.75m\\1.75m26.5kg\n",
      "1\n",
      "2\n",
      "3\n",
      "4\n",
      "folder G:\\Chamodi\\LSDYNA3D\\RP_TH_models\\RP_Section_1_new\\1.75m\\1.75m28.5kg\n",
      "1\n",
      "2\n",
      "3\n",
      "4\n",
      "folder G:\\Chamodi\\LSDYNA3D\\RP_TH_models\\RP_Section_1_new\\1.75m\\1.75m30.5kg\n",
      "1\n",
      "2\n",
      "3\n",
      "4\n",
      "folder G:\\Chamodi\\LSDYNA3D\\RP_TH_models\\RP_Section_1_new\\1.75m\\1.75m32.5kg\n",
      "1\n",
      "2\n",
      "3\n",
      "4\n",
      "folder G:\\Chamodi\\LSDYNA3D\\RP_TH_models\\RP_Section_1_new\\1.75m\\1.75m34.5kg\n",
      "1\n",
      "2\n",
      "3\n",
      "4\n",
      "folder G:\\Chamodi\\LSDYNA3D\\RP_TH_models\\RP_Section_1_new\\1.75m\\1.75m35.0kg\n",
      "1\n",
      "2\n",
      "3\n",
      "4\n",
      "folder G:\\Chamodi\\LSDYNA3D\\RP_TH_models\\RP_Section_1_new\\2.00m\\2.00m00.5kg\n",
      "1\n",
      "2\n",
      "3\n",
      "4\n",
      "folder G:\\Chamodi\\LSDYNA3D\\RP_TH_models\\RP_Section_1_new\\2.00m\\2.00m02.5kg\n",
      "1\n",
      "2\n",
      "3\n",
      "4\n",
      "folder G:\\Chamodi\\LSDYNA3D\\RP_TH_models\\RP_Section_1_new\\2.00m\\2.00m04.5kg\n",
      "1\n",
      "2\n",
      "3\n",
      "4\n",
      "folder G:\\Chamodi\\LSDYNA3D\\RP_TH_models\\RP_Section_1_new\\2.00m\\2.00m06.5kg\n",
      "1\n",
      "2\n",
      "3\n",
      "4\n",
      "folder G:\\Chamodi\\LSDYNA3D\\RP_TH_models\\RP_Section_1_new\\2.00m\\2.00m08.5kg\n",
      "1\n",
      "2\n",
      "3\n",
      "4\n",
      "folder G:\\Chamodi\\LSDYNA3D\\RP_TH_models\\RP_Section_1_new\\2.00m\\2.00m10.5kg\n",
      "1\n",
      "2\n",
      "3\n",
      "4\n",
      "folder G:\\Chamodi\\LSDYNA3D\\RP_TH_models\\RP_Section_1_new\\2.00m\\2.00m12.5kg\n",
      "1\n",
      "2\n",
      "3\n",
      "4\n",
      "folder G:\\Chamodi\\LSDYNA3D\\RP_TH_models\\RP_Section_1_new\\2.00m\\2.00m14.5kg\n",
      "1\n",
      "2\n",
      "3\n",
      "4\n",
      "folder G:\\Chamodi\\LSDYNA3D\\RP_TH_models\\RP_Section_1_new\\2.00m\\2.00m16.5kg\n",
      "1\n",
      "2\n",
      "3\n",
      "4\n",
      "folder G:\\Chamodi\\LSDYNA3D\\RP_TH_models\\RP_Section_1_new\\2.00m\\2.00m18.5kg\n",
      "1\n",
      "2\n",
      "3\n",
      "4\n",
      "folder G:\\Chamodi\\LSDYNA3D\\RP_TH_models\\RP_Section_1_new\\2.00m\\2.00m20.5kg\n",
      "1\n",
      "2\n",
      "3\n",
      "4\n",
      "folder G:\\Chamodi\\LSDYNA3D\\RP_TH_models\\RP_Section_1_new\\2.00m\\2.00m22.5kg\n",
      "1\n",
      "2\n",
      "3\n",
      "4\n",
      "folder G:\\Chamodi\\LSDYNA3D\\RP_TH_models\\RP_Section_1_new\\2.00m\\2.00m24.5kg\n",
      "1\n",
      "2\n",
      "3\n",
      "4\n",
      "folder G:\\Chamodi\\LSDYNA3D\\RP_TH_models\\RP_Section_1_new\\2.00m\\2.00m26.5kg\n",
      "1\n",
      "2\n",
      "3\n",
      "4\n",
      "folder G:\\Chamodi\\LSDYNA3D\\RP_TH_models\\RP_Section_1_new\\2.00m\\2.00m28.5kg\n",
      "1\n",
      "2\n",
      "3\n",
      "4\n",
      "folder G:\\Chamodi\\LSDYNA3D\\RP_TH_models\\RP_Section_1_new\\2.00m\\2.00m30.5kg\n",
      "1\n",
      "2\n",
      "3\n",
      "4\n",
      "folder G:\\Chamodi\\LSDYNA3D\\RP_TH_models\\RP_Section_1_new\\2.00m\\2.00m32.5kg\n",
      "1\n",
      "2\n",
      "3\n",
      "4\n",
      "folder G:\\Chamodi\\LSDYNA3D\\RP_TH_models\\RP_Section_1_new\\2.00m\\2.00m34.5kg\n",
      "1\n",
      "2\n",
      "3\n",
      "4\n",
      "folder G:\\Chamodi\\LSDYNA3D\\RP_TH_models\\RP_Section_1_new\\2.00m\\2.00m35.0kg\n",
      "1\n",
      "2\n",
      "3\n",
      "4\n",
      "folder G:\\Chamodi\\LSDYNA3D\\RP_TH_models\\RP_Section_1_new\\2.25m\\2.25m00.5kg\n",
      "1\n",
      "2\n",
      "3\n",
      "4\n",
      "folder G:\\Chamodi\\LSDYNA3D\\RP_TH_models\\RP_Section_1_new\\2.25m\\2.25m02.5kg\n",
      "1\n",
      "2\n",
      "3\n",
      "4\n",
      "folder G:\\Chamodi\\LSDYNA3D\\RP_TH_models\\RP_Section_1_new\\2.25m\\2.25m04.5kg\n",
      "1\n",
      "2\n",
      "3\n",
      "4\n",
      "folder G:\\Chamodi\\LSDYNA3D\\RP_TH_models\\RP_Section_1_new\\2.25m\\2.25m06.5kg\n",
      "1\n",
      "2\n",
      "3\n",
      "4\n",
      "folder G:\\Chamodi\\LSDYNA3D\\RP_TH_models\\RP_Section_1_new\\2.25m\\2.25m08.5kg\n",
      "1\n",
      "2\n",
      "3\n",
      "4\n",
      "folder G:\\Chamodi\\LSDYNA3D\\RP_TH_models\\RP_Section_1_new\\2.25m\\2.25m10.5kg\n",
      "1\n",
      "2\n",
      "3\n",
      "4\n",
      "folder G:\\Chamodi\\LSDYNA3D\\RP_TH_models\\RP_Section_1_new\\2.25m\\2.25m12.5kg\n",
      "1\n",
      "2\n",
      "3\n",
      "4\n",
      "folder G:\\Chamodi\\LSDYNA3D\\RP_TH_models\\RP_Section_1_new\\2.25m\\2.25m14.5kg\n",
      "1\n",
      "2\n",
      "3\n",
      "4\n",
      "folder G:\\Chamodi\\LSDYNA3D\\RP_TH_models\\RP_Section_1_new\\2.25m\\2.25m16.5kg\n",
      "1\n",
      "2\n",
      "3\n",
      "4\n",
      "folder G:\\Chamodi\\LSDYNA3D\\RP_TH_models\\RP_Section_1_new\\2.25m\\2.25m18.5kg\n",
      "1\n",
      "2\n",
      "3\n",
      "4\n",
      "folder G:\\Chamodi\\LSDYNA3D\\RP_TH_models\\RP_Section_1_new\\2.25m\\2.25m20.5kg\n",
      "1\n",
      "2\n",
      "3\n",
      "4\n",
      "folder G:\\Chamodi\\LSDYNA3D\\RP_TH_models\\RP_Section_1_new\\2.25m\\2.25m22.5kg\n",
      "1\n",
      "2\n",
      "3\n",
      "4\n",
      "folder G:\\Chamodi\\LSDYNA3D\\RP_TH_models\\RP_Section_1_new\\2.25m\\2.25m24.5kg\n",
      "1\n",
      "2\n",
      "3\n",
      "4\n",
      "folder G:\\Chamodi\\LSDYNA3D\\RP_TH_models\\RP_Section_1_new\\2.25m\\2.25m26.5kg\n",
      "1\n",
      "2\n",
      "3\n",
      "4\n",
      "folder G:\\Chamodi\\LSDYNA3D\\RP_TH_models\\RP_Section_1_new\\2.25m\\2.25m28.5kg\n",
      "1\n",
      "2\n",
      "3\n",
      "4\n",
      "folder G:\\Chamodi\\LSDYNA3D\\RP_TH_models\\RP_Section_1_new\\2.25m\\2.25m30.5kg\n",
      "1\n",
      "2\n",
      "3\n",
      "4\n",
      "folder G:\\Chamodi\\LSDYNA3D\\RP_TH_models\\RP_Section_1_new\\2.25m\\2.25m32.5kg\n",
      "1\n",
      "2\n",
      "3\n",
      "4\n",
      "folder G:\\Chamodi\\LSDYNA3D\\RP_TH_models\\RP_Section_1_new\\2.25m\\2.25m34.5kg\n",
      "1\n",
      "2\n",
      "3\n",
      "4\n",
      "folder G:\\Chamodi\\LSDYNA3D\\RP_TH_models\\RP_Section_1_new\\2.25m\\2.25m35.0kg\n",
      "1\n",
      "2\n",
      "3\n",
      "4\n",
      "folder G:\\Chamodi\\LSDYNA3D\\RP_TH_models\\RP_Section_1_new\\2.50m\\2.50m00.5kg\n",
      "1\n",
      "2\n",
      "3\n",
      "4\n",
      "folder G:\\Chamodi\\LSDYNA3D\\RP_TH_models\\RP_Section_1_new\\2.50m\\2.50m02.5kg\n",
      "1\n",
      "2\n",
      "3\n",
      "4\n",
      "folder G:\\Chamodi\\LSDYNA3D\\RP_TH_models\\RP_Section_1_new\\2.50m\\2.50m04.5kg\n",
      "1\n",
      "2\n",
      "3\n",
      "4\n",
      "folder G:\\Chamodi\\LSDYNA3D\\RP_TH_models\\RP_Section_1_new\\2.50m\\2.50m06.5kg\n",
      "1\n",
      "2\n",
      "3\n",
      "4\n",
      "folder G:\\Chamodi\\LSDYNA3D\\RP_TH_models\\RP_Section_1_new\\2.50m\\2.50m08.5kg\n",
      "1\n",
      "2\n",
      "3\n",
      "4\n",
      "folder G:\\Chamodi\\LSDYNA3D\\RP_TH_models\\RP_Section_1_new\\2.50m\\2.50m10.5kg\n",
      "1\n",
      "2\n",
      "3\n",
      "4\n",
      "folder G:\\Chamodi\\LSDYNA3D\\RP_TH_models\\RP_Section_1_new\\2.50m\\2.50m12.5kg\n",
      "1\n",
      "2\n",
      "3\n",
      "4\n",
      "folder G:\\Chamodi\\LSDYNA3D\\RP_TH_models\\RP_Section_1_new\\2.50m\\2.50m14.5kg\n",
      "1\n",
      "2\n",
      "3\n",
      "4\n",
      "folder G:\\Chamodi\\LSDYNA3D\\RP_TH_models\\RP_Section_1_new\\2.50m\\2.50m16.5kg\n",
      "1\n",
      "2\n",
      "3\n",
      "4\n",
      "folder G:\\Chamodi\\LSDYNA3D\\RP_TH_models\\RP_Section_1_new\\2.50m\\2.50m18.5kg\n",
      "1\n",
      "2\n",
      "3\n",
      "4\n",
      "folder G:\\Chamodi\\LSDYNA3D\\RP_TH_models\\RP_Section_1_new\\2.50m\\2.50m20.5kg\n",
      "1\n",
      "2\n",
      "3\n",
      "4\n",
      "folder G:\\Chamodi\\LSDYNA3D\\RP_TH_models\\RP_Section_1_new\\2.50m\\2.50m22.5kg\n",
      "1\n",
      "2\n",
      "3\n",
      "4\n",
      "folder G:\\Chamodi\\LSDYNA3D\\RP_TH_models\\RP_Section_1_new\\2.50m\\2.50m24.5kg\n",
      "1\n",
      "2\n",
      "3\n",
      "4\n",
      "folder G:\\Chamodi\\LSDYNA3D\\RP_TH_models\\RP_Section_1_new\\2.50m\\2.50m26.5kg\n",
      "1\n",
      "2\n",
      "3\n",
      "4\n",
      "folder G:\\Chamodi\\LSDYNA3D\\RP_TH_models\\RP_Section_1_new\\2.50m\\2.50m28.5kg\n",
      "1\n",
      "2\n",
      "3\n",
      "4\n",
      "folder G:\\Chamodi\\LSDYNA3D\\RP_TH_models\\RP_Section_1_new\\2.50m\\2.50m30.5kg\n",
      "1\n",
      "2\n",
      "3\n",
      "4\n",
      "folder G:\\Chamodi\\LSDYNA3D\\RP_TH_models\\RP_Section_1_new\\2.50m\\2.50m32.5kg\n",
      "1\n",
      "2\n",
      "3\n",
      "4\n",
      "folder G:\\Chamodi\\LSDYNA3D\\RP_TH_models\\RP_Section_1_new\\2.50m\\2.50m34.5kg\n",
      "1\n",
      "2\n",
      "3\n",
      "4\n",
      "folder G:\\Chamodi\\LSDYNA3D\\RP_TH_models\\RP_Section_1_new\\2.50m\\2.50m35.0kg\n",
      "1\n",
      "2\n",
      "3\n",
      "4\n",
      "folder G:\\Chamodi\\LSDYNA3D\\RP_TH_models\\RP_Section_1_new\\2.75m\\2.75m00.5kg\n",
      "1\n",
      "2\n",
      "3\n",
      "4\n",
      "folder G:\\Chamodi\\LSDYNA3D\\RP_TH_models\\RP_Section_1_new\\2.75m\\2.75m02.5kg\n",
      "1\n",
      "2\n",
      "3\n",
      "4\n",
      "folder G:\\Chamodi\\LSDYNA3D\\RP_TH_models\\RP_Section_1_new\\2.75m\\2.75m04.5kg\n",
      "1\n",
      "2\n",
      "3\n",
      "4\n",
      "folder G:\\Chamodi\\LSDYNA3D\\RP_TH_models\\RP_Section_1_new\\2.75m\\2.75m06.5kg\n",
      "1\n",
      "2\n",
      "3\n",
      "4\n",
      "folder G:\\Chamodi\\LSDYNA3D\\RP_TH_models\\RP_Section_1_new\\2.75m\\2.75m08.5kg\n",
      "1\n",
      "2\n",
      "3\n",
      "4\n",
      "folder G:\\Chamodi\\LSDYNA3D\\RP_TH_models\\RP_Section_1_new\\2.75m\\2.75m10.5kg\n",
      "1\n",
      "2\n",
      "3\n",
      "4\n",
      "folder G:\\Chamodi\\LSDYNA3D\\RP_TH_models\\RP_Section_1_new\\2.75m\\2.75m12.5kg\n",
      "1\n",
      "2\n",
      "3\n",
      "4\n",
      "folder G:\\Chamodi\\LSDYNA3D\\RP_TH_models\\RP_Section_1_new\\2.75m\\2.75m14.5kg\n",
      "1\n",
      "2\n",
      "3\n",
      "4\n",
      "folder G:\\Chamodi\\LSDYNA3D\\RP_TH_models\\RP_Section_1_new\\2.75m\\2.75m16.5kg\n",
      "1\n",
      "2\n",
      "3\n",
      "4\n",
      "folder G:\\Chamodi\\LSDYNA3D\\RP_TH_models\\RP_Section_1_new\\2.75m\\2.75m18.5kg\n",
      "1\n",
      "2\n",
      "3\n",
      "4\n",
      "folder G:\\Chamodi\\LSDYNA3D\\RP_TH_models\\RP_Section_1_new\\2.75m\\2.75m20.5kg\n",
      "1\n",
      "2\n",
      "3\n",
      "4\n",
      "folder G:\\Chamodi\\LSDYNA3D\\RP_TH_models\\RP_Section_1_new\\2.75m\\2.75m22.5kg\n",
      "1\n",
      "2\n",
      "3\n",
      "4\n",
      "folder G:\\Chamodi\\LSDYNA3D\\RP_TH_models\\RP_Section_1_new\\2.75m\\2.75m24.5kg\n",
      "1\n",
      "2\n",
      "3\n",
      "4\n",
      "folder G:\\Chamodi\\LSDYNA3D\\RP_TH_models\\RP_Section_1_new\\2.75m\\2.75m26.5kg\n",
      "1\n",
      "2\n",
      "3\n",
      "4\n",
      "folder G:\\Chamodi\\LSDYNA3D\\RP_TH_models\\RP_Section_1_new\\2.75m\\2.75m28.5kg\n",
      "1\n",
      "2\n",
      "3\n",
      "4\n",
      "folder G:\\Chamodi\\LSDYNA3D\\RP_TH_models\\RP_Section_1_new\\2.75m\\2.75m30.5kg\n",
      "1\n",
      "2\n",
      "3\n",
      "4\n",
      "folder G:\\Chamodi\\LSDYNA3D\\RP_TH_models\\RP_Section_1_new\\2.75m\\2.75m32.5kg\n",
      "1\n",
      "2\n",
      "3\n",
      "4\n",
      "folder G:\\Chamodi\\LSDYNA3D\\RP_TH_models\\RP_Section_1_new\\2.75m\\2.75m34.5kg\n",
      "1\n",
      "2\n",
      "3\n",
      "4\n",
      "folder G:\\Chamodi\\LSDYNA3D\\RP_TH_models\\RP_Section_1_new\\2.75m\\2.75m35.0kg\n",
      "1\n",
      "2\n",
      "3\n",
      "4\n",
      "folder G:\\Chamodi\\LSDYNA3D\\RP_TH_models\\RP_Section_1_new\\3.00m\\3.00m00.5kg\n",
      "1\n",
      "2\n",
      "3\n",
      "4\n",
      "folder G:\\Chamodi\\LSDYNA3D\\RP_TH_models\\RP_Section_1_new\\3.00m\\3.00m02.5kg\n",
      "1\n",
      "2\n",
      "3\n",
      "4\n",
      "folder G:\\Chamodi\\LSDYNA3D\\RP_TH_models\\RP_Section_1_new\\3.00m\\3.00m04.5kg\n",
      "1\n",
      "2\n",
      "3\n",
      "4\n",
      "folder G:\\Chamodi\\LSDYNA3D\\RP_TH_models\\RP_Section_1_new\\3.00m\\3.00m06.5kg\n",
      "1\n",
      "2\n",
      "3\n",
      "4\n",
      "folder G:\\Chamodi\\LSDYNA3D\\RP_TH_models\\RP_Section_1_new\\3.00m\\3.00m08.5kg\n",
      "1\n",
      "2\n",
      "3\n",
      "4\n",
      "folder G:\\Chamodi\\LSDYNA3D\\RP_TH_models\\RP_Section_1_new\\3.00m\\3.00m10.5kg\n",
      "1\n",
      "2\n",
      "3\n",
      "4\n",
      "folder G:\\Chamodi\\LSDYNA3D\\RP_TH_models\\RP_Section_1_new\\3.00m\\3.00m12.5kg\n",
      "1\n",
      "2\n",
      "3\n",
      "4\n",
      "folder G:\\Chamodi\\LSDYNA3D\\RP_TH_models\\RP_Section_1_new\\3.00m\\3.00m14.5kg\n",
      "1\n",
      "2\n",
      "3\n",
      "4\n",
      "folder G:\\Chamodi\\LSDYNA3D\\RP_TH_models\\RP_Section_1_new\\3.00m\\3.00m16.5kg\n",
      "1\n",
      "2\n",
      "3\n",
      "4\n",
      "folder G:\\Chamodi\\LSDYNA3D\\RP_TH_models\\RP_Section_1_new\\3.00m\\3.00m18.5kg\n",
      "1\n",
      "2\n",
      "3\n",
      "4\n",
      "folder G:\\Chamodi\\LSDYNA3D\\RP_TH_models\\RP_Section_1_new\\3.00m\\3.00m20.5kg\n",
      "1\n",
      "2\n",
      "3\n",
      "4\n",
      "folder G:\\Chamodi\\LSDYNA3D\\RP_TH_models\\RP_Section_1_new\\3.00m\\3.00m22.5kg\n",
      "1\n",
      "2\n",
      "3\n",
      "4\n",
      "folder G:\\Chamodi\\LSDYNA3D\\RP_TH_models\\RP_Section_1_new\\3.00m\\3.00m24.5kg\n",
      "1\n",
      "2\n",
      "3\n",
      "4\n",
      "folder G:\\Chamodi\\LSDYNA3D\\RP_TH_models\\RP_Section_1_new\\3.00m\\3.00m26.5kg\n",
      "1\n",
      "2\n",
      "3\n",
      "4\n",
      "folder G:\\Chamodi\\LSDYNA3D\\RP_TH_models\\RP_Section_1_new\\3.00m\\3.00m28.5kg\n",
      "1\n",
      "2\n",
      "3\n",
      "4\n",
      "folder G:\\Chamodi\\LSDYNA3D\\RP_TH_models\\RP_Section_1_new\\3.00m\\3.00m30.5kg\n",
      "1\n",
      "2\n",
      "3\n",
      "4\n",
      "folder G:\\Chamodi\\LSDYNA3D\\RP_TH_models\\RP_Section_1_new\\3.00m\\3.00m32.5kg\n",
      "1\n",
      "2\n",
      "3\n",
      "4\n",
      "folder G:\\Chamodi\\LSDYNA3D\\RP_TH_models\\RP_Section_1_new\\3.00m\\3.00m34.5kg\n",
      "1\n",
      "2\n",
      "3\n",
      "4\n",
      "folder G:\\Chamodi\\LSDYNA3D\\RP_TH_models\\RP_Section_1_new\\3.00m\\3.00m35.0kg\n",
      "1\n",
      "2\n",
      "3\n",
      "4\n"
     ]
    }
   ],
   "source": [
    "#dataset = pd.DataFrame(columns = ['Charge_mass', 'Standoff_distance', 'Time', 'Pressure', 'Phase'])\n",
    "df_list = []\n",
    "\n",
    "for folder1 in input_dir2:\n",
    "    \n",
    "    input_dir3 =  [folder2 for folder2 in folder1.iterdir() if folder2.is_dir()] # folder2 - 07m00.5kg\n",
    "    \n",
    "    for folder2 in input_dir3:\n",
    "        \n",
    "        print ('folder', folder2)\n",
    "        files1 = [file1 for file1 in folder2.rglob(\"*.xlsx\")]\n",
    "    \n",
    "        for file1 in files1:\n",
    "            df_list.append(pd.read_excel(file1))\n",
    "            print (file1.stem)\n",
    "    \n",
    "dataset = pd.concat(df_list, ignore_index = True)"
   ]
  },
  {
   "cell_type": "code",
   "execution_count": 4,
   "metadata": {
    "colab": {},
    "colab_type": "code",
    "id": "B9CV13Co_HHM",
    "ExecuteTime": {
     "end_time": "2024-08-18T08:01:57.704301800Z",
     "start_time": "2024-08-18T08:01:57.631488300Z"
    }
   },
   "outputs": [
    {
     "name": "stdout",
     "output_type": "stream",
     "text": [
      "<class 'pandas.core.frame.DataFrame'>\n",
      "RangeIndex: 71701 entries, 0 to 71700\n",
      "Data columns (total 6 columns):\n",
      " #   Column             Non-Null Count  Dtype  \n",
      "---  ------             --------------  -----  \n",
      " 0   Mass               71701 non-null  float64\n",
      " 1   Standoff distance  71701 non-null  float64\n",
      " 2   Angle              71701 non-null  int64  \n",
      " 3   Time               71701 non-null  float64\n",
      " 4   Phase              71701 non-null  object \n",
      " 5   Pressure           71701 non-null  float64\n",
      "dtypes: float64(4), int64(1), object(1)\n",
      "memory usage: 3.3+ MB\n"
     ]
    }
   ],
   "source": [
    "dataset.info()"
   ]
  },
  {
   "cell_type": "code",
   "execution_count": 5,
   "outputs": [
    {
     "name": "stdout",
     "output_type": "stream",
     "text": [
      "<class 'pandas.core.frame.DataFrame'>\n",
      "RangeIndex: 71701 entries, 0 to 71700\n",
      "Data columns (total 7 columns):\n",
      " #   Column             Non-Null Count  Dtype  \n",
      "---  ------             --------------  -----  \n",
      " 0   Mass               71701 non-null  float64\n",
      " 1   Standoff distance  71701 non-null  float64\n",
      " 2   Angle              71701 non-null  int64  \n",
      " 3   Time               71701 non-null  float64\n",
      " 4   Pressure           71701 non-null  float64\n",
      " 5   Phase_negative     71701 non-null  uint8  \n",
      " 6   Phase_positive     71701 non-null  uint8  \n",
      "dtypes: float64(4), int64(1), uint8(2)\n",
      "memory usage: 2.9 MB\n"
     ]
    }
   ],
   "source": [
    "dataset['Phase'] = dataset['Phase'].replace({'negative_increasing': 'negative', 'negative_decreasing': 'negative'})\n",
    "dataset = pd.get_dummies(dataset, columns =['Phase'], dtype = np.uint8)\n",
    "dataset.info()"
   ],
   "metadata": {
    "collapsed": false,
    "ExecuteTime": {
     "end_time": "2024-08-18T08:01:57.823216300Z",
     "start_time": "2024-08-18T08:01:57.662536700Z"
    }
   }
  },
  {
   "cell_type": "code",
   "execution_count": 6,
   "outputs": [
    {
     "data": {
      "text/plain": "    Mass  Standoff distance  Angle      Time    Pressure  Phase_negative  \\\n0    0.5                1.0      0  0.675620  1835.74400               0   \n1    0.5                1.0      0  0.678642  1834.42100               0   \n2    0.5                1.0      0  0.681641  1825.07100               0   \n3    0.5                1.0      0  0.690485  1762.36500               0   \n4    0.5                1.0      0  0.729239  1252.16300               0   \n5    0.5                1.0      0  0.749695  1068.86900               0   \n6    0.5                1.0      0  0.769045   935.35660               0   \n7    0.5                1.0      0  0.800520   758.47430               0   \n8    0.5                1.0      0  0.831368   620.15920               0   \n9    0.5                1.0      0  0.846691   564.04980               0   \n10   0.5                1.0      0  0.864671   506.87930               0   \n11   0.5                1.0      0  0.884545   451.83270               0   \n12   0.5                1.0      0  0.906902   397.41580               0   \n13   0.5                1.0      0  0.927155   353.53220               0   \n14   0.5                1.0      0  0.947124   314.68150               0   \n15   0.5                1.0      0  0.966568   281.10310               0   \n16   0.5                1.0      0  0.986417   251.33860               0   \n17   0.5                1.0      0  1.006225   226.02760               0   \n18   0.5                1.0      0  1.025679   205.07110               0   \n19   0.5                1.0      0  1.048664   184.52760               0   \n20   0.5                1.0      0  1.073196   166.17430               0   \n21   0.5                1.0      0  1.108821   143.37730               0   \n22   0.5                1.0      0  1.156518   116.69450               0   \n23   0.5                1.0      0  1.227624    79.94161               0   \n24   0.5                1.0      0  1.252754    68.08047               0   \n25   0.5                1.0      0  1.278528    56.94484               0   \n26   0.5                1.0      0  1.321861    40.67422               0   \n27   0.5                1.0      0  1.345147    33.06606               0   \n28   0.5                1.0      0  1.368550    26.09805               0   \n29   0.5                1.0      0  1.395020    18.93172               0   \n\n    Phase_positive  \n0                1  \n1                1  \n2                1  \n3                1  \n4                1  \n5                1  \n6                1  \n7                1  \n8                1  \n9                1  \n10               1  \n11               1  \n12               1  \n13               1  \n14               1  \n15               1  \n16               1  \n17               1  \n18               1  \n19               1  \n20               1  \n21               1  \n22               1  \n23               1  \n24               1  \n25               1  \n26               1  \n27               1  \n28               1  \n29               1  ",
      "text/html": "<div>\n<style scoped>\n    .dataframe tbody tr th:only-of-type {\n        vertical-align: middle;\n    }\n\n    .dataframe tbody tr th {\n        vertical-align: top;\n    }\n\n    .dataframe thead th {\n        text-align: right;\n    }\n</style>\n<table border=\"1\" class=\"dataframe\">\n  <thead>\n    <tr style=\"text-align: right;\">\n      <th></th>\n      <th>Mass</th>\n      <th>Standoff distance</th>\n      <th>Angle</th>\n      <th>Time</th>\n      <th>Pressure</th>\n      <th>Phase_negative</th>\n      <th>Phase_positive</th>\n    </tr>\n  </thead>\n  <tbody>\n    <tr>\n      <th>0</th>\n      <td>0.5</td>\n      <td>1.0</td>\n      <td>0</td>\n      <td>0.675620</td>\n      <td>1835.74400</td>\n      <td>0</td>\n      <td>1</td>\n    </tr>\n    <tr>\n      <th>1</th>\n      <td>0.5</td>\n      <td>1.0</td>\n      <td>0</td>\n      <td>0.678642</td>\n      <td>1834.42100</td>\n      <td>0</td>\n      <td>1</td>\n    </tr>\n    <tr>\n      <th>2</th>\n      <td>0.5</td>\n      <td>1.0</td>\n      <td>0</td>\n      <td>0.681641</td>\n      <td>1825.07100</td>\n      <td>0</td>\n      <td>1</td>\n    </tr>\n    <tr>\n      <th>3</th>\n      <td>0.5</td>\n      <td>1.0</td>\n      <td>0</td>\n      <td>0.690485</td>\n      <td>1762.36500</td>\n      <td>0</td>\n      <td>1</td>\n    </tr>\n    <tr>\n      <th>4</th>\n      <td>0.5</td>\n      <td>1.0</td>\n      <td>0</td>\n      <td>0.729239</td>\n      <td>1252.16300</td>\n      <td>0</td>\n      <td>1</td>\n    </tr>\n    <tr>\n      <th>5</th>\n      <td>0.5</td>\n      <td>1.0</td>\n      <td>0</td>\n      <td>0.749695</td>\n      <td>1068.86900</td>\n      <td>0</td>\n      <td>1</td>\n    </tr>\n    <tr>\n      <th>6</th>\n      <td>0.5</td>\n      <td>1.0</td>\n      <td>0</td>\n      <td>0.769045</td>\n      <td>935.35660</td>\n      <td>0</td>\n      <td>1</td>\n    </tr>\n    <tr>\n      <th>7</th>\n      <td>0.5</td>\n      <td>1.0</td>\n      <td>0</td>\n      <td>0.800520</td>\n      <td>758.47430</td>\n      <td>0</td>\n      <td>1</td>\n    </tr>\n    <tr>\n      <th>8</th>\n      <td>0.5</td>\n      <td>1.0</td>\n      <td>0</td>\n      <td>0.831368</td>\n      <td>620.15920</td>\n      <td>0</td>\n      <td>1</td>\n    </tr>\n    <tr>\n      <th>9</th>\n      <td>0.5</td>\n      <td>1.0</td>\n      <td>0</td>\n      <td>0.846691</td>\n      <td>564.04980</td>\n      <td>0</td>\n      <td>1</td>\n    </tr>\n    <tr>\n      <th>10</th>\n      <td>0.5</td>\n      <td>1.0</td>\n      <td>0</td>\n      <td>0.864671</td>\n      <td>506.87930</td>\n      <td>0</td>\n      <td>1</td>\n    </tr>\n    <tr>\n      <th>11</th>\n      <td>0.5</td>\n      <td>1.0</td>\n      <td>0</td>\n      <td>0.884545</td>\n      <td>451.83270</td>\n      <td>0</td>\n      <td>1</td>\n    </tr>\n    <tr>\n      <th>12</th>\n      <td>0.5</td>\n      <td>1.0</td>\n      <td>0</td>\n      <td>0.906902</td>\n      <td>397.41580</td>\n      <td>0</td>\n      <td>1</td>\n    </tr>\n    <tr>\n      <th>13</th>\n      <td>0.5</td>\n      <td>1.0</td>\n      <td>0</td>\n      <td>0.927155</td>\n      <td>353.53220</td>\n      <td>0</td>\n      <td>1</td>\n    </tr>\n    <tr>\n      <th>14</th>\n      <td>0.5</td>\n      <td>1.0</td>\n      <td>0</td>\n      <td>0.947124</td>\n      <td>314.68150</td>\n      <td>0</td>\n      <td>1</td>\n    </tr>\n    <tr>\n      <th>15</th>\n      <td>0.5</td>\n      <td>1.0</td>\n      <td>0</td>\n      <td>0.966568</td>\n      <td>281.10310</td>\n      <td>0</td>\n      <td>1</td>\n    </tr>\n    <tr>\n      <th>16</th>\n      <td>0.5</td>\n      <td>1.0</td>\n      <td>0</td>\n      <td>0.986417</td>\n      <td>251.33860</td>\n      <td>0</td>\n      <td>1</td>\n    </tr>\n    <tr>\n      <th>17</th>\n      <td>0.5</td>\n      <td>1.0</td>\n      <td>0</td>\n      <td>1.006225</td>\n      <td>226.02760</td>\n      <td>0</td>\n      <td>1</td>\n    </tr>\n    <tr>\n      <th>18</th>\n      <td>0.5</td>\n      <td>1.0</td>\n      <td>0</td>\n      <td>1.025679</td>\n      <td>205.07110</td>\n      <td>0</td>\n      <td>1</td>\n    </tr>\n    <tr>\n      <th>19</th>\n      <td>0.5</td>\n      <td>1.0</td>\n      <td>0</td>\n      <td>1.048664</td>\n      <td>184.52760</td>\n      <td>0</td>\n      <td>1</td>\n    </tr>\n    <tr>\n      <th>20</th>\n      <td>0.5</td>\n      <td>1.0</td>\n      <td>0</td>\n      <td>1.073196</td>\n      <td>166.17430</td>\n      <td>0</td>\n      <td>1</td>\n    </tr>\n    <tr>\n      <th>21</th>\n      <td>0.5</td>\n      <td>1.0</td>\n      <td>0</td>\n      <td>1.108821</td>\n      <td>143.37730</td>\n      <td>0</td>\n      <td>1</td>\n    </tr>\n    <tr>\n      <th>22</th>\n      <td>0.5</td>\n      <td>1.0</td>\n      <td>0</td>\n      <td>1.156518</td>\n      <td>116.69450</td>\n      <td>0</td>\n      <td>1</td>\n    </tr>\n    <tr>\n      <th>23</th>\n      <td>0.5</td>\n      <td>1.0</td>\n      <td>0</td>\n      <td>1.227624</td>\n      <td>79.94161</td>\n      <td>0</td>\n      <td>1</td>\n    </tr>\n    <tr>\n      <th>24</th>\n      <td>0.5</td>\n      <td>1.0</td>\n      <td>0</td>\n      <td>1.252754</td>\n      <td>68.08047</td>\n      <td>0</td>\n      <td>1</td>\n    </tr>\n    <tr>\n      <th>25</th>\n      <td>0.5</td>\n      <td>1.0</td>\n      <td>0</td>\n      <td>1.278528</td>\n      <td>56.94484</td>\n      <td>0</td>\n      <td>1</td>\n    </tr>\n    <tr>\n      <th>26</th>\n      <td>0.5</td>\n      <td>1.0</td>\n      <td>0</td>\n      <td>1.321861</td>\n      <td>40.67422</td>\n      <td>0</td>\n      <td>1</td>\n    </tr>\n    <tr>\n      <th>27</th>\n      <td>0.5</td>\n      <td>1.0</td>\n      <td>0</td>\n      <td>1.345147</td>\n      <td>33.06606</td>\n      <td>0</td>\n      <td>1</td>\n    </tr>\n    <tr>\n      <th>28</th>\n      <td>0.5</td>\n      <td>1.0</td>\n      <td>0</td>\n      <td>1.368550</td>\n      <td>26.09805</td>\n      <td>0</td>\n      <td>1</td>\n    </tr>\n    <tr>\n      <th>29</th>\n      <td>0.5</td>\n      <td>1.0</td>\n      <td>0</td>\n      <td>1.395020</td>\n      <td>18.93172</td>\n      <td>0</td>\n      <td>1</td>\n    </tr>\n  </tbody>\n</table>\n</div>"
     },
     "execution_count": 6,
     "metadata": {},
     "output_type": "execute_result"
    }
   ],
   "source": [
    "dataset.head(30)"
   ],
   "metadata": {
    "collapsed": false,
    "ExecuteTime": {
     "end_time": "2024-08-18T08:01:57.961853100Z",
     "start_time": "2024-08-18T08:01:57.816656200Z"
    }
   }
  },
  {
   "cell_type": "code",
   "execution_count": 7,
   "metadata": {
    "ExecuteTime": {
     "end_time": "2024-08-18T08:01:58.164706200Z",
     "start_time": "2024-08-18T08:01:57.957856900Z"
    }
   },
   "outputs": [
    {
     "name": "stdout",
     "output_type": "stream",
     "text": [
      "(71701, 6) (71701,)\n"
     ]
    }
   ],
   "source": [
    "y = dataset['Pressure']\n",
    "X = dataset.drop(['Pressure'], axis=1)\n",
    "print(X.shape, y.shape)"
   ]
  },
  {
   "cell_type": "code",
   "execution_count": 8,
   "metadata": {
    "ExecuteTime": {
     "end_time": "2024-08-18T08:01:58.294819100Z",
     "start_time": "2024-08-18T08:01:58.116381700Z"
    }
   },
   "outputs": [],
   "source": [
    "# convert to numpy array\n",
    "X = np.array(X)\n",
    "y = np.array(y)"
   ]
  },
  {
   "cell_type": "code",
   "execution_count": 9,
   "metadata": {
    "colab": {},
    "colab_type": "code",
    "id": "L5edeb2r_agx",
    "ExecuteTime": {
     "end_time": "2024-08-18T08:01:59.383526200Z",
     "start_time": "2024-08-18T08:01:58.284181900Z"
    }
   },
   "outputs": [],
   "source": [
    "from sklearn.model_selection import train_test_split\n",
    "X_train, X_test, y_train, y_test = train_test_split(X,\n",
    "                                                    y,\n",
    "                                                    test_size = 0.4,\n",
    "                                                    random_state = 0)"
   ]
  },
  {
   "cell_type": "code",
   "execution_count": 10,
   "metadata": {
    "colab": {},
    "colab_type": "code",
    "id": "L5edeb2r_agx",
    "ExecuteTime": {
     "end_time": "2024-08-18T08:01:59.414549600Z",
     "start_time": "2024-08-18T08:01:59.384544400Z"
    }
   },
   "outputs": [],
   "source": [
    "X_val, X_test, y_val, y_test = train_test_split(X_test,\n",
    "                                                y_test,\n",
    "                                                test_size = 0.5,\n",
    "                                                random_state = 0)"
   ]
  },
  {
   "cell_type": "code",
   "execution_count": 11,
   "outputs": [
    {
     "name": "stdout",
     "output_type": "stream",
     "text": [
      "[[ 1.39645554e+00 -3.13218895e-03  4.43663308e-01 -7.91917823e-01\n",
      "   0.00000000e+00  1.00000000e+00]\n",
      " [-1.14818828e+00  1.15514949e+00 -4.57616171e-01 -4.34229509e-01\n",
      "   0.00000000e+00  1.00000000e+00]\n",
      " [ 4.17746376e-01 -7.75319975e-01 -4.57616171e-01 -9.60540081e-01\n",
      "   0.00000000e+00  1.00000000e+00]\n",
      " ...\n",
      " [-3.65220953e-01  3.82961704e-01 -4.57616171e-01 -8.29831907e-01\n",
      "   0.00000000e+00  1.00000000e+00]\n",
      " [ 2.62627117e-02  3.82961704e-01 -1.35889565e+00  7.26167937e-01\n",
      "   1.00000000e+00  0.00000000e+00]\n",
      " [ 4.17746376e-01  1.54124338e+00  4.43663308e-01  3.98188894e+00\n",
      "   1.00000000e+00  0.00000000e+00]]\n"
     ]
    }
   ],
   "source": [
    "from sklearn.preprocessing import StandardScaler\n",
    "sc = StandardScaler()\n",
    "X_train[:,0:4] = sc.fit_transform(X_train[:, 0:4])\n",
    "print (X_train)"
   ],
   "metadata": {
    "collapsed": false,
    "ExecuteTime": {
     "end_time": "2024-08-18T08:01:59.649443400Z",
     "start_time": "2024-08-18T08:01:59.399543400Z"
    }
   }
  },
  {
   "cell_type": "code",
   "execution_count": 12,
   "outputs": [
    {
     "name": "stdout",
     "output_type": "stream",
     "text": [
      "[[ 0.02626271  1.54124338  1.34494279 -0.36275182  0.          1.        ]\n",
      " [ 0.22200454 -0.38922608 -0.45761617 -0.55629654  0.          1.        ]\n",
      " [-0.56096278  0.7690556  -1.35889565 -0.39725537  1.          0.        ]\n",
      " ...\n",
      " [ 0.80923004 -1.54750776 -0.45761617 -0.68807892  0.          1.        ]\n",
      " [ 1.00497187  0.3829617  -0.45761617 -0.83995595  0.          1.        ]\n",
      " [ 1.2007137  -1.54750776  1.34494279 -0.91363287  0.          1.        ]]\n"
     ]
    }
   ],
   "source": [
    "X_test[:,0:4] = sc.transform(X_test[:,0:4])\n",
    "print (X_test)"
   ],
   "metadata": {
    "collapsed": false,
    "ExecuteTime": {
     "end_time": "2024-08-18T08:01:59.957378Z",
     "start_time": "2024-08-18T08:01:59.649443400Z"
    }
   }
  },
  {
   "cell_type": "code",
   "execution_count": 13,
   "outputs": [
    {
     "name": "stdout",
     "output_type": "stream",
     "text": [
      "[[-1.14818828 -0.77531997  0.44366331 -0.9023219   0.          1.        ]\n",
      " [ 0.61348821 -0.38922608 -1.35889565  0.38034883  1.          0.        ]\n",
      " [ 1.39645554  0.7690556  -1.35889565 -0.72316618  0.          1.        ]\n",
      " ...\n",
      " [ 0.02626271  1.54124338  1.34494279 -0.17293315  0.          1.        ]\n",
      " [ 0.41774638 -0.00313219 -1.35889565 -0.62864609  0.          1.        ]\n",
      " [ 0.41774638  1.15514949 -1.35889565 -0.61377708  0.          1.        ]]\n"
     ]
    }
   ],
   "source": [
    "X_val[:,0:4] = sc.transform(X_val[:,0:4])\n",
    "print (X_val)"
   ],
   "metadata": {
    "collapsed": false,
    "ExecuteTime": {
     "end_time": "2024-08-18T08:02:00.108830500Z",
     "start_time": "2024-08-18T08:01:59.946316600Z"
    }
   }
  },
  {
   "cell_type": "code",
   "execution_count": 14,
   "outputs": [
    {
     "name": "stdout",
     "output_type": "stream",
     "text": [
      "X_train 43020\n",
      "X_test 14341\n",
      "X_val 14340\n"
     ]
    }
   ],
   "source": [
    "print (\"X_train\", len(X_train))\n",
    "print (\"X_test\", len(X_test))\n",
    "print (\"X_val\", len(X_val))"
   ],
   "metadata": {
    "collapsed": false,
    "ExecuteTime": {
     "end_time": "2024-08-18T08:02:00.290382300Z",
     "start_time": "2024-08-18T08:02:00.090321800Z"
    }
   }
  },
  {
   "cell_type": "markdown",
   "metadata": {
    "colab_type": "text",
    "id": "_mSLlAT9_eyI"
   },
   "source": [
    "## Part 3 - Building the ANN"
   ]
  },
  {
   "cell_type": "code",
   "execution_count": 15,
   "metadata": {
    "colab": {},
    "colab_type": "code",
    "id": "J6Hd97Ls__Nz",
    "ExecuteTime": {
     "end_time": "2024-08-18T08:02:00.444415800Z",
     "start_time": "2024-08-18T08:02:00.273862900Z"
    }
   },
   "outputs": [],
   "source": [
    "ann = tf.keras.models.Sequential()"
   ]
  },
  {
   "cell_type": "code",
   "execution_count": 16,
   "metadata": {
    "colab": {},
    "colab_type": "code",
    "id": "ksO_Vv40AHix",
    "ExecuteTime": {
     "end_time": "2024-08-18T08:02:00.683595700Z",
     "start_time": "2024-08-18T08:02:00.447930800Z"
    }
   },
   "outputs": [],
   "source": [
    "ann.add(tf.keras.layers.Dense(units=250,\n",
    "                              input_shape=(X_train.shape[1],),\n",
    "                              activation='softplus'))\n",
    "ann.add(tf.keras.layers.Dense(units=225,\n",
    "                              activation='softplus'))\n",
    "ann.add(tf.keras.layers.Dense(units=200,\n",
    "                              activation='softplus'))\n",
    "ann.add(tf.keras.layers.Dense(units=175,\n",
    "                              activation='softplus'))\n",
    "ann.add(tf.keras.layers.Dense(units=150,\n",
    "                              activation='softplus'))\n",
    "ann.add(tf.keras.layers.Dense(units=125,\n",
    "                              activation='softplus'))"
   ]
  },
  {
   "cell_type": "code",
   "execution_count": 17,
   "metadata": {
    "colab": {},
    "colab_type": "code",
    "id": "YFATpzsUAkLL",
    "ExecuteTime": {
     "end_time": "2024-08-18T08:02:00.753261200Z",
     "start_time": "2024-08-18T08:02:00.684595800Z"
    }
   },
   "outputs": [],
   "source": [
    "ann.add(tf.keras.layers.Dense(units=1,\n",
    "                              activation='linear'))"
   ]
  },
  {
   "cell_type": "code",
   "execution_count": 18,
   "metadata": {
    "ExecuteTime": {
     "end_time": "2024-08-18T08:02:01.108574200Z",
     "start_time": "2024-08-18T08:02:00.747258100Z"
    }
   },
   "outputs": [
    {
     "name": "stdout",
     "output_type": "stream",
     "text": [
      "Model: \"sequential\"\n",
      "_________________________________________________________________\n",
      " Layer (type)                Output Shape              Param #   \n",
      "=================================================================\n",
      " dense (Dense)               (None, 250)               1750      \n",
      "                                                                 \n",
      " dense_1 (Dense)             (None, 225)               56475     \n",
      "                                                                 \n",
      " dense_2 (Dense)             (None, 200)               45200     \n",
      "                                                                 \n",
      " dense_3 (Dense)             (None, 175)               35175     \n",
      "                                                                 \n",
      " dense_4 (Dense)             (None, 150)               26400     \n",
      "                                                                 \n",
      " dense_5 (Dense)             (None, 125)               18875     \n",
      "                                                                 \n",
      " dense_6 (Dense)             (None, 1)                 126       \n",
      "                                                                 \n",
      "=================================================================\n",
      "Total params: 184,001\n",
      "Trainable params: 184,001\n",
      "Non-trainable params: 0\n",
      "_________________________________________________________________\n"
     ]
    }
   ],
   "source": [
    "ann.summary()"
   ]
  },
  {
   "cell_type": "markdown",
   "metadata": {
    "colab_type": "text",
    "id": "fq7e4fF6A1yy"
   },
   "source": [
    "## Part 4 - Training the ANN"
   ]
  },
  {
   "cell_type": "code",
   "execution_count": 19,
   "metadata": {
    "colab": {},
    "colab_type": "code",
    "id": "pesgbWlCAtB4",
    "ExecuteTime": {
     "end_time": "2024-08-18T08:02:01.417413800Z",
     "start_time": "2024-08-18T08:02:01.011898500Z"
    }
   },
   "outputs": [],
   "source": [
    "# from tensorflow.keras.optimizers import Adam\n",
    "from keras.optimizers import Adam\n",
    "opt = Adam(learning_rate=0.001)\n",
    "ann.compile(optimizer = opt,\n",
    "            loss = 'mean_squared_error',\n",
    "            metrics = ['mae'])"
   ]
  },
  {
   "cell_type": "code",
   "execution_count": 20,
   "metadata": {
    "ExecuteTime": {
     "end_time": "2024-08-18T08:02:01.421362400Z",
     "start_time": "2024-08-18T08:02:01.185751700Z"
    }
   },
   "outputs": [],
   "source": [
    "# protects from unnecessary further training of the model if a particular metric does not continue to improve over a number of n epochs. In such a case, the model training would be automatically aborted.\n",
    "from keras.callbacks import EarlyStopping\n",
    "es = EarlyStopping(monitor='val_loss',\n",
    "                   mode='min',\n",
    "                   patience=50,\n",
    "                   restore_best_weights = True)"
   ]
  },
  {
   "cell_type": "code",
   "execution_count": 21,
   "metadata": {
    "colab": {
     "base_uri": "https://localhost:8080/",
     "height": 1000
    },
    "colab_type": "code",
    "id": "c_vV-tiiA5zn",
    "outputId": "4a2b6ee6-ed75-4698-9069-b250e613803f",
    "ExecuteTime": {
     "end_time": "2024-08-18T08:33:28.137750Z",
     "start_time": "2024-08-18T08:02:01.342606900Z"
    }
   },
   "outputs": [
    {
     "name": "stdout",
     "output_type": "stream",
     "text": [
      "Epoch 1/500\n",
      "1434/1434 [==============================] - 12s 8ms/step - loss: 7401417.5000 - mae: 1084.4941 - val_loss: 3896929.7500 - val_mae: 706.9361\n",
      "Epoch 2/500\n",
      "1434/1434 [==============================] - 13s 9ms/step - loss: 4280162.0000 - mae: 772.6050 - val_loss: 3201302.7500 - val_mae: 819.5364\n",
      "Epoch 3/500\n",
      "1434/1434 [==============================] - 13s 9ms/step - loss: 3110182.0000 - mae: 646.1251 - val_loss: 1525325.1250 - val_mae: 433.1993\n",
      "Epoch 4/500\n",
      "1434/1434 [==============================] - 13s 9ms/step - loss: 2993514.0000 - mae: 614.3577 - val_loss: 2376948.0000 - val_mae: 557.8459\n",
      "Epoch 5/500\n",
      "1434/1434 [==============================] - 11s 7ms/step - loss: 2660180.0000 - mae: 543.6010 - val_loss: 1350162.1250 - val_mae: 365.2345\n",
      "Epoch 6/500\n",
      "1434/1434 [==============================] - 11s 8ms/step - loss: 2056152.2500 - mae: 450.2312 - val_loss: 1436568.6250 - val_mae: 385.6990\n",
      "Epoch 7/500\n",
      "1434/1434 [==============================] - 12s 8ms/step - loss: 2563554.5000 - mae: 519.4232 - val_loss: 3416003.2500 - val_mae: 684.3527\n",
      "Epoch 8/500\n",
      "1434/1434 [==============================] - 12s 8ms/step - loss: 1657942.7500 - mae: 400.3511 - val_loss: 1016979.6875 - val_mae: 317.4514\n",
      "Epoch 9/500\n",
      "1434/1434 [==============================] - 12s 8ms/step - loss: 1845563.5000 - mae: 418.6510 - val_loss: 1213981.7500 - val_mae: 368.8468\n",
      "Epoch 10/500\n",
      "1434/1434 [==============================] - 12s 8ms/step - loss: 1726368.2500 - mae: 393.9561 - val_loss: 920992.4375 - val_mae: 293.9162\n",
      "Epoch 11/500\n",
      "1434/1434 [==============================] - 12s 8ms/step - loss: 1524840.7500 - mae: 374.6925 - val_loss: 1824593.6250 - val_mae: 444.7912\n",
      "Epoch 12/500\n",
      "1434/1434 [==============================] - 12s 8ms/step - loss: 1610014.0000 - mae: 381.4248 - val_loss: 3080553.5000 - val_mae: 527.8915\n",
      "Epoch 13/500\n",
      "1434/1434 [==============================] - 12s 8ms/step - loss: 1601246.1250 - mae: 373.0438 - val_loss: 915192.1250 - val_mae: 284.9603\n",
      "Epoch 14/500\n",
      "1434/1434 [==============================] - 11s 8ms/step - loss: 1587328.8750 - mae: 381.4467 - val_loss: 4035935.0000 - val_mae: 664.7751\n",
      "Epoch 15/500\n",
      "1434/1434 [==============================] - 12s 8ms/step - loss: 1638956.0000 - mae: 384.3917 - val_loss: 1026652.0625 - val_mae: 298.5536\n",
      "Epoch 16/500\n",
      "1434/1434 [==============================] - 12s 8ms/step - loss: 1323334.6250 - mae: 337.1786 - val_loss: 1151435.2500 - val_mae: 390.0651\n",
      "Epoch 17/500\n",
      "1434/1434 [==============================] - 11s 8ms/step - loss: 1332797.3750 - mae: 326.3491 - val_loss: 967204.6250 - val_mae: 241.4504\n",
      "Epoch 18/500\n",
      "1434/1434 [==============================] - 12s 8ms/step - loss: 1426193.6250 - mae: 344.8344 - val_loss: 3553993.2500 - val_mae: 578.4995\n",
      "Epoch 19/500\n",
      "1434/1434 [==============================] - 12s 8ms/step - loss: 1131580.7500 - mae: 292.9578 - val_loss: 1283078.2500 - val_mae: 270.3555\n",
      "Epoch 20/500\n",
      "1434/1434 [==============================] - 12s 8ms/step - loss: 1298034.2500 - mae: 317.3826 - val_loss: 922742.5625 - val_mae: 321.2381\n",
      "Epoch 21/500\n",
      "1434/1434 [==============================] - 12s 8ms/step - loss: 1121828.5000 - mae: 301.6431 - val_loss: 1065111.8750 - val_mae: 303.2143\n",
      "Epoch 22/500\n",
      "1434/1434 [==============================] - 12s 8ms/step - loss: 1275775.1250 - mae: 301.4339 - val_loss: 1321449.1250 - val_mae: 343.4716\n",
      "Epoch 23/500\n",
      "1434/1434 [==============================] - 12s 8ms/step - loss: 1160557.6250 - mae: 294.8799 - val_loss: 821032.5625 - val_mae: 233.7191\n",
      "Epoch 24/500\n",
      "1434/1434 [==============================] - 12s 8ms/step - loss: 1123491.1250 - mae: 283.4727 - val_loss: 933727.3750 - val_mae: 244.6081\n",
      "Epoch 25/500\n",
      "1434/1434 [==============================] - 11s 8ms/step - loss: 1073933.2500 - mae: 280.6256 - val_loss: 1368615.1250 - val_mae: 361.2719\n",
      "Epoch 26/500\n",
      "1434/1434 [==============================] - 11s 8ms/step - loss: 1295741.6250 - mae: 291.7950 - val_loss: 1255211.5000 - val_mae: 341.9164\n",
      "Epoch 27/500\n",
      "1434/1434 [==============================] - 11s 8ms/step - loss: 1106759.2500 - mae: 276.9328 - val_loss: 825258.2500 - val_mae: 206.1960\n",
      "Epoch 28/500\n",
      "1434/1434 [==============================] - 12s 8ms/step - loss: 1172777.3750 - mae: 275.8267 - val_loss: 694553.2500 - val_mae: 199.0109\n",
      "Epoch 29/500\n",
      "1434/1434 [==============================] - 11s 8ms/step - loss: 1080902.7500 - mae: 266.9281 - val_loss: 670217.6875 - val_mae: 200.2182\n",
      "Epoch 30/500\n",
      "1434/1434 [==============================] - 11s 8ms/step - loss: 1490841.8750 - mae: 335.9349 - val_loss: 775034.2500 - val_mae: 220.0189\n",
      "Epoch 31/500\n",
      "1434/1434 [==============================] - 11s 8ms/step - loss: 1036394.9375 - mae: 264.5493 - val_loss: 1821128.7500 - val_mae: 371.1379\n",
      "Epoch 32/500\n",
      "1434/1434 [==============================] - 11s 8ms/step - loss: 1069466.5000 - mae: 281.9423 - val_loss: 624523.1875 - val_mae: 188.6110\n",
      "Epoch 33/500\n",
      "1434/1434 [==============================] - 11s 8ms/step - loss: 1019292.9375 - mae: 262.6756 - val_loss: 3975657.0000 - val_mae: 647.4407\n",
      "Epoch 34/500\n",
      "1434/1434 [==============================] - 12s 8ms/step - loss: 1045918.0000 - mae: 263.4579 - val_loss: 811632.2500 - val_mae: 256.9837\n",
      "Epoch 35/500\n",
      "1434/1434 [==============================] - 11s 8ms/step - loss: 1108607.5000 - mae: 269.6856 - val_loss: 2378686.0000 - val_mae: 466.6512\n",
      "Epoch 36/500\n",
      "1434/1434 [==============================] - 11s 8ms/step - loss: 1094101.3750 - mae: 263.8826 - val_loss: 640142.3750 - val_mae: 189.7440\n",
      "Epoch 37/500\n",
      "1434/1434 [==============================] - 12s 9ms/step - loss: 1097799.7500 - mae: 282.0976 - val_loss: 1392455.2500 - val_mae: 319.1138\n",
      "Epoch 38/500\n",
      "1434/1434 [==============================] - 12s 8ms/step - loss: 1004404.8750 - mae: 261.0121 - val_loss: 752192.1250 - val_mae: 201.2168\n",
      "Epoch 39/500\n",
      "1434/1434 [==============================] - 13s 9ms/step - loss: 1000886.3750 - mae: 266.0971 - val_loss: 1168790.8750 - val_mae: 268.0511\n",
      "Epoch 40/500\n",
      "1434/1434 [==============================] - 12s 9ms/step - loss: 955653.1875 - mae: 262.8926 - val_loss: 914830.6875 - val_mae: 218.4330\n",
      "Epoch 41/500\n",
      "1434/1434 [==============================] - 12s 8ms/step - loss: 897778.5625 - mae: 241.0298 - val_loss: 710641.0625 - val_mae: 209.9675\n",
      "Epoch 42/500\n",
      "1434/1434 [==============================] - 12s 8ms/step - loss: 1021987.8750 - mae: 266.5872 - val_loss: 670834.1875 - val_mae: 201.7981\n",
      "Epoch 43/500\n",
      "1434/1434 [==============================] - 11s 8ms/step - loss: 924969.0625 - mae: 238.4507 - val_loss: 620057.6250 - val_mae: 198.8195\n",
      "Epoch 44/500\n",
      "1434/1434 [==============================] - 11s 8ms/step - loss: 1014971.9375 - mae: 260.7957 - val_loss: 1072991.2500 - val_mae: 256.1665\n",
      "Epoch 45/500\n",
      "1434/1434 [==============================] - 11s 8ms/step - loss: 1137866.7500 - mae: 282.7946 - val_loss: 748433.8750 - val_mae: 201.2067\n",
      "Epoch 46/500\n",
      "1434/1434 [==============================] - 11s 8ms/step - loss: 880453.7500 - mae: 235.6096 - val_loss: 606173.7500 - val_mae: 183.0120\n",
      "Epoch 47/500\n",
      "1434/1434 [==============================] - 12s 8ms/step - loss: 837942.3750 - mae: 234.2761 - val_loss: 714999.3125 - val_mae: 225.6499\n",
      "Epoch 48/500\n",
      "1434/1434 [==============================] - 12s 8ms/step - loss: 926625.3750 - mae: 246.6245 - val_loss: 650367.7500 - val_mae: 198.6299\n",
      "Epoch 49/500\n",
      "1434/1434 [==============================] - 13s 9ms/step - loss: 850937.2500 - mae: 233.7751 - val_loss: 1425683.2500 - val_mae: 294.7608\n",
      "Epoch 50/500\n",
      "1434/1434 [==============================] - 12s 8ms/step - loss: 960854.9375 - mae: 253.3287 - val_loss: 626615.5000 - val_mae: 211.8950\n",
      "Epoch 51/500\n",
      "1434/1434 [==============================] - 12s 8ms/step - loss: 900772.5000 - mae: 235.2419 - val_loss: 846644.3125 - val_mae: 289.8055\n",
      "Epoch 52/500\n",
      "1434/1434 [==============================] - 12s 8ms/step - loss: 927692.5000 - mae: 237.7027 - val_loss: 566711.3125 - val_mae: 161.3651\n",
      "Epoch 53/500\n",
      "1434/1434 [==============================] - 12s 8ms/step - loss: 892152.3125 - mae: 227.6968 - val_loss: 597914.6250 - val_mae: 189.2684\n",
      "Epoch 54/500\n",
      "1434/1434 [==============================] - 13s 9ms/step - loss: 862101.1875 - mae: 221.0916 - val_loss: 674648.5000 - val_mae: 186.2755\n",
      "Epoch 55/500\n",
      "1434/1434 [==============================] - 13s 9ms/step - loss: 837087.1875 - mae: 218.1472 - val_loss: 1308112.0000 - val_mae: 253.5770\n",
      "Epoch 56/500\n",
      "1434/1434 [==============================] - 13s 9ms/step - loss: 925441.1875 - mae: 233.2414 - val_loss: 672419.6250 - val_mae: 169.3695\n",
      "Epoch 57/500\n",
      "1434/1434 [==============================] - 12s 8ms/step - loss: 903176.5625 - mae: 227.9456 - val_loss: 911555.0625 - val_mae: 190.2847\n",
      "Epoch 58/500\n",
      "1434/1434 [==============================] - 12s 8ms/step - loss: 867531.4375 - mae: 231.0148 - val_loss: 716321.0625 - val_mae: 200.8747\n",
      "Epoch 59/500\n",
      "1434/1434 [==============================] - 12s 8ms/step - loss: 833852.7500 - mae: 222.7617 - val_loss: 1014910.3125 - val_mae: 383.1175\n",
      "Epoch 60/500\n",
      "1434/1434 [==============================] - 12s 8ms/step - loss: 900764.8750 - mae: 218.7942 - val_loss: 955738.6875 - val_mae: 274.1612\n",
      "Epoch 61/500\n",
      "1434/1434 [==============================] - 12s 8ms/step - loss: 892599.3125 - mae: 226.9774 - val_loss: 735852.1250 - val_mae: 213.7878\n",
      "Epoch 62/500\n",
      "1434/1434 [==============================] - 12s 9ms/step - loss: 850015.8125 - mae: 221.9930 - val_loss: 551533.5000 - val_mae: 174.5319\n",
      "Epoch 63/500\n",
      "1434/1434 [==============================] - 12s 8ms/step - loss: 854742.3750 - mae: 218.3643 - val_loss: 792105.6875 - val_mae: 216.6975\n",
      "Epoch 64/500\n",
      "1434/1434 [==============================] - 12s 8ms/step - loss: 870020.5000 - mae: 209.1534 - val_loss: 917756.0625 - val_mae: 216.0121\n",
      "Epoch 65/500\n",
      "1434/1434 [==============================] - 12s 8ms/step - loss: 856455.3125 - mae: 215.2957 - val_loss: 979701.6875 - val_mae: 215.8237\n",
      "Epoch 66/500\n",
      "1434/1434 [==============================] - 12s 8ms/step - loss: 752804.6250 - mae: 195.9987 - val_loss: 623003.1250 - val_mae: 198.1184\n",
      "Epoch 67/500\n",
      "1434/1434 [==============================] - 12s 8ms/step - loss: 849871.4375 - mae: 222.0190 - val_loss: 545480.0000 - val_mae: 164.7822\n",
      "Epoch 68/500\n",
      "1434/1434 [==============================] - 12s 8ms/step - loss: 801984.6250 - mae: 221.8418 - val_loss: 550636.3125 - val_mae: 178.0005\n",
      "Epoch 69/500\n",
      "1434/1434 [==============================] - 12s 8ms/step - loss: 816142.5000 - mae: 212.8430 - val_loss: 860504.8125 - val_mae: 252.6269\n",
      "Epoch 70/500\n",
      "1434/1434 [==============================] - 12s 8ms/step - loss: 832108.8750 - mae: 210.7070 - val_loss: 2226675.7500 - val_mae: 368.2174\n",
      "Epoch 71/500\n",
      "1434/1434 [==============================] - 12s 8ms/step - loss: 840678.1875 - mae: 227.5106 - val_loss: 504316.5000 - val_mae: 144.5740\n",
      "Epoch 72/500\n",
      "1434/1434 [==============================] - 12s 8ms/step - loss: 838575.1875 - mae: 220.3662 - val_loss: 609128.1250 - val_mae: 199.8681\n",
      "Epoch 73/500\n",
      "1434/1434 [==============================] - 11s 8ms/step - loss: 893499.1875 - mae: 227.0021 - val_loss: 563192.1875 - val_mae: 198.7730\n",
      "Epoch 74/500\n",
      "1434/1434 [==============================] - 11s 8ms/step - loss: 811126.2500 - mae: 214.8971 - val_loss: 590216.7500 - val_mae: 166.8485\n",
      "Epoch 75/500\n",
      "1434/1434 [==============================] - 12s 8ms/step - loss: 862276.4375 - mae: 231.9290 - val_loss: 1642931.8750 - val_mae: 373.9702\n",
      "Epoch 76/500\n",
      "1434/1434 [==============================] - 12s 8ms/step - loss: 876074.5000 - mae: 229.4009 - val_loss: 529417.9375 - val_mae: 157.7089\n",
      "Epoch 77/500\n",
      "1434/1434 [==============================] - 12s 8ms/step - loss: 777652.1250 - mae: 210.3080 - val_loss: 591527.7500 - val_mae: 190.7187\n",
      "Epoch 78/500\n",
      "1434/1434 [==============================] - 12s 8ms/step - loss: 818764.3125 - mae: 217.7197 - val_loss: 818139.5625 - val_mae: 260.3117\n",
      "Epoch 79/500\n",
      "1434/1434 [==============================] - 12s 8ms/step - loss: 823162.6875 - mae: 224.0558 - val_loss: 541580.3125 - val_mae: 182.7168\n",
      "Epoch 80/500\n",
      "1434/1434 [==============================] - 12s 8ms/step - loss: 799013.5625 - mae: 206.9198 - val_loss: 479684.6875 - val_mae: 168.9231\n",
      "Epoch 81/500\n",
      "1434/1434 [==============================] - 12s 8ms/step - loss: 808410.9375 - mae: 209.6479 - val_loss: 587635.7500 - val_mae: 183.9090\n",
      "Epoch 82/500\n",
      "1434/1434 [==============================] - 12s 8ms/step - loss: 826869.3125 - mae: 220.5778 - val_loss: 984794.0625 - val_mae: 260.5588\n",
      "Epoch 83/500\n",
      "1434/1434 [==============================] - 12s 8ms/step - loss: 771014.0625 - mae: 211.3754 - val_loss: 1252339.1250 - val_mae: 239.0411\n",
      "Epoch 84/500\n",
      "1434/1434 [==============================] - 12s 8ms/step - loss: 837665.3125 - mae: 216.9333 - val_loss: 1279763.1250 - val_mae: 283.6145\n",
      "Epoch 85/500\n",
      "1434/1434 [==============================] - 12s 8ms/step - loss: 716827.7500 - mae: 206.2515 - val_loss: 595755.4375 - val_mae: 168.6981\n",
      "Epoch 86/500\n",
      "1434/1434 [==============================] - 12s 8ms/step - loss: 799750.8750 - mae: 207.8514 - val_loss: 628440.8125 - val_mae: 174.4668\n",
      "Epoch 87/500\n",
      "1434/1434 [==============================] - 12s 8ms/step - loss: 765619.2500 - mae: 207.6132 - val_loss: 1111408.8750 - val_mae: 327.0831\n",
      "Epoch 88/500\n",
      "1434/1434 [==============================] - 12s 8ms/step - loss: 789203.3125 - mae: 209.7150 - val_loss: 803464.8750 - val_mae: 240.5551\n",
      "Epoch 89/500\n",
      "1434/1434 [==============================] - 12s 8ms/step - loss: 743843.7500 - mae: 203.5896 - val_loss: 2101340.7500 - val_mae: 400.8916\n",
      "Epoch 90/500\n",
      "1434/1434 [==============================] - 12s 8ms/step - loss: 798005.7500 - mae: 207.5337 - val_loss: 599343.8750 - val_mae: 152.6984\n",
      "Epoch 91/500\n",
      "1434/1434 [==============================] - 12s 8ms/step - loss: 732226.9375 - mae: 198.5341 - val_loss: 5526210.0000 - val_mae: 819.8332\n",
      "Epoch 92/500\n",
      "1434/1434 [==============================] - 12s 8ms/step - loss: 802143.6875 - mae: 208.5328 - val_loss: 823720.6250 - val_mae: 191.6349\n",
      "Epoch 93/500\n",
      "1434/1434 [==============================] - 12s 8ms/step - loss: 854557.1875 - mae: 216.9156 - val_loss: 533659.7500 - val_mae: 176.1330\n",
      "Epoch 94/500\n",
      "1434/1434 [==============================] - 12s 8ms/step - loss: 872864.4375 - mae: 225.6319 - val_loss: 533285.5000 - val_mae: 185.6435\n",
      "Epoch 95/500\n",
      "1434/1434 [==============================] - 12s 8ms/step - loss: 682598.7500 - mae: 189.7529 - val_loss: 602434.6875 - val_mae: 207.1984\n",
      "Epoch 96/500\n",
      "1434/1434 [==============================] - 12s 8ms/step - loss: 849254.5000 - mae: 220.7179 - val_loss: 701188.3750 - val_mae: 201.7671\n",
      "Epoch 97/500\n",
      "1434/1434 [==============================] - 12s 8ms/step - loss: 749999.6875 - mae: 202.7943 - val_loss: 669403.0000 - val_mae: 212.6110\n",
      "Epoch 98/500\n",
      "1434/1434 [==============================] - 12s 8ms/step - loss: 786826.3750 - mae: 197.2394 - val_loss: 1251100.7500 - val_mae: 311.4663\n",
      "Epoch 99/500\n",
      "1434/1434 [==============================] - 12s 8ms/step - loss: 762858.8750 - mae: 197.9464 - val_loss: 893899.0625 - val_mae: 216.3890\n",
      "Epoch 100/500\n",
      "1434/1434 [==============================] - 12s 8ms/step - loss: 819753.7500 - mae: 218.7411 - val_loss: 1046275.6875 - val_mae: 325.4870\n",
      "Epoch 101/500\n",
      "1434/1434 [==============================] - 12s 8ms/step - loss: 808585.0625 - mae: 224.3979 - val_loss: 670478.0000 - val_mae: 190.3711\n",
      "Epoch 102/500\n",
      "1434/1434 [==============================] - 12s 8ms/step - loss: 704952.8125 - mae: 193.3186 - val_loss: 995733.6250 - val_mae: 211.4333\n",
      "Epoch 103/500\n",
      "1434/1434 [==============================] - 12s 8ms/step - loss: 795467.7500 - mae: 203.7270 - val_loss: 874743.1250 - val_mae: 234.0401\n",
      "Epoch 104/500\n",
      "1434/1434 [==============================] - 12s 8ms/step - loss: 687631.4375 - mae: 196.7675 - val_loss: 511694.6875 - val_mae: 174.1207\n",
      "Epoch 105/500\n",
      "1434/1434 [==============================] - 12s 8ms/step - loss: 758141.3750 - mae: 200.9518 - val_loss: 727067.4375 - val_mae: 160.9304\n",
      "Epoch 106/500\n",
      "1434/1434 [==============================] - 12s 8ms/step - loss: 799186.1250 - mae: 200.9451 - val_loss: 643605.1250 - val_mae: 188.1094\n",
      "Epoch 107/500\n",
      "1434/1434 [==============================] - 12s 8ms/step - loss: 676133.3750 - mae: 190.4192 - val_loss: 580655.5000 - val_mae: 219.8166\n",
      "Epoch 108/500\n",
      "1434/1434 [==============================] - 12s 8ms/step - loss: 766977.3750 - mae: 211.9607 - val_loss: 920747.8750 - val_mae: 198.2739\n",
      "Epoch 109/500\n",
      "1434/1434 [==============================] - 12s 8ms/step - loss: 686424.5000 - mae: 191.6055 - val_loss: 928985.3750 - val_mae: 202.4381\n",
      "Epoch 110/500\n",
      "1434/1434 [==============================] - 12s 8ms/step - loss: 758347.3125 - mae: 200.9461 - val_loss: 414174.5000 - val_mae: 133.3998\n",
      "Epoch 111/500\n",
      "1434/1434 [==============================] - 12s 8ms/step - loss: 763074.8125 - mae: 201.9753 - val_loss: 759336.6875 - val_mae: 196.0373\n",
      "Epoch 112/500\n",
      "1434/1434 [==============================] - 12s 8ms/step - loss: 717609.1250 - mae: 190.9864 - val_loss: 1282825.3750 - val_mae: 291.9825\n",
      "Epoch 113/500\n",
      "1434/1434 [==============================] - 12s 8ms/step - loss: 722879.5625 - mae: 202.7482 - val_loss: 2885349.7500 - val_mae: 486.0155\n",
      "Epoch 114/500\n",
      "1434/1434 [==============================] - 12s 8ms/step - loss: 785329.3750 - mae: 214.6806 - val_loss: 558548.0625 - val_mae: 162.8507\n",
      "Epoch 115/500\n",
      "1434/1434 [==============================] - 12s 8ms/step - loss: 776239.0625 - mae: 203.5034 - val_loss: 645500.6875 - val_mae: 187.8971\n",
      "Epoch 116/500\n",
      "1434/1434 [==============================] - 12s 8ms/step - loss: 737407.0625 - mae: 196.8368 - val_loss: 576408.0000 - val_mae: 157.6887\n",
      "Epoch 117/500\n",
      "1434/1434 [==============================] - 12s 8ms/step - loss: 769382.8750 - mae: 206.8682 - val_loss: 471907.3438 - val_mae: 140.6482\n",
      "Epoch 118/500\n",
      "1434/1434 [==============================] - 12s 8ms/step - loss: 740768.4375 - mae: 194.2505 - val_loss: 579522.1250 - val_mae: 154.8456\n",
      "Epoch 119/500\n",
      "1434/1434 [==============================] - 12s 8ms/step - loss: 701309.5000 - mae: 189.3860 - val_loss: 1026805.0000 - val_mae: 235.9499\n",
      "Epoch 120/500\n",
      "1434/1434 [==============================] - 12s 8ms/step - loss: 723741.2500 - mae: 192.4618 - val_loss: 446728.3438 - val_mae: 128.1058\n",
      "Epoch 121/500\n",
      "1434/1434 [==============================] - 12s 8ms/step - loss: 668418.1875 - mae: 184.9032 - val_loss: 795087.4375 - val_mae: 252.2764\n",
      "Epoch 122/500\n",
      "1434/1434 [==============================] - 12s 8ms/step - loss: 780848.4375 - mae: 208.0476 - val_loss: 809760.5625 - val_mae: 239.8947\n",
      "Epoch 123/500\n",
      "1434/1434 [==============================] - 12s 8ms/step - loss: 787821.5000 - mae: 196.8180 - val_loss: 604793.6875 - val_mae: 161.2113\n",
      "Epoch 124/500\n",
      "1434/1434 [==============================] - 12s 8ms/step - loss: 725527.8750 - mae: 181.6818 - val_loss: 1040235.1250 - val_mae: 215.3475\n",
      "Epoch 125/500\n",
      "1434/1434 [==============================] - 12s 8ms/step - loss: 688432.5000 - mae: 181.2925 - val_loss: 487183.3750 - val_mae: 147.5074\n",
      "Epoch 126/500\n",
      "1434/1434 [==============================] - 12s 8ms/step - loss: 667832.6250 - mae: 185.0829 - val_loss: 479051.7188 - val_mae: 158.9583\n",
      "Epoch 127/500\n",
      "1434/1434 [==============================] - 12s 8ms/step - loss: 714774.6875 - mae: 194.9570 - val_loss: 541597.8750 - val_mae: 173.4977\n",
      "Epoch 128/500\n",
      "1434/1434 [==============================] - 12s 8ms/step - loss: 733231.4375 - mae: 191.4736 - val_loss: 2434657.7500 - val_mae: 434.6089\n",
      "Epoch 129/500\n",
      "1434/1434 [==============================] - 12s 8ms/step - loss: 735015.3750 - mae: 200.5038 - val_loss: 440260.0938 - val_mae: 124.7799\n",
      "Epoch 130/500\n",
      "1434/1434 [==============================] - 12s 8ms/step - loss: 682987.7500 - mae: 187.0533 - val_loss: 1403708.5000 - val_mae: 280.7081\n",
      "Epoch 131/500\n",
      "1434/1434 [==============================] - 12s 8ms/step - loss: 748078.1875 - mae: 203.3855 - val_loss: 765841.5000 - val_mae: 182.5910\n",
      "Epoch 132/500\n",
      "1434/1434 [==============================] - 12s 8ms/step - loss: 702291.2500 - mae: 187.5777 - val_loss: 497849.0938 - val_mae: 167.0610\n",
      "Epoch 133/500\n",
      "1434/1434 [==============================] - 12s 8ms/step - loss: 674207.1875 - mae: 181.5482 - val_loss: 1132086.5000 - val_mae: 296.9515\n",
      "Epoch 134/500\n",
      "1434/1434 [==============================] - 12s 8ms/step - loss: 738676.8750 - mae: 192.0254 - val_loss: 630168.1250 - val_mae: 202.0564\n",
      "Epoch 135/500\n",
      "1434/1434 [==============================] - 12s 8ms/step - loss: 784937.6250 - mae: 200.6672 - val_loss: 679695.1875 - val_mae: 245.0137\n",
      "Epoch 136/500\n",
      "1434/1434 [==============================] - 12s 8ms/step - loss: 745060.5000 - mae: 195.6476 - val_loss: 511915.7812 - val_mae: 156.4145\n",
      "Epoch 137/500\n",
      "1434/1434 [==============================] - 12s 9ms/step - loss: 712658.5625 - mae: 180.2456 - val_loss: 482055.7812 - val_mae: 131.5229\n",
      "Epoch 138/500\n",
      "1434/1434 [==============================] - 12s 8ms/step - loss: 720676.9375 - mae: 193.0948 - val_loss: 783460.8750 - val_mae: 234.0472\n",
      "Epoch 139/500\n",
      "1434/1434 [==============================] - 12s 8ms/step - loss: 647503.3750 - mae: 179.4492 - val_loss: 440946.5625 - val_mae: 123.7005\n",
      "Epoch 140/500\n",
      "1434/1434 [==============================] - 12s 8ms/step - loss: 680860.2500 - mae: 184.1933 - val_loss: 726297.3750 - val_mae: 210.1437\n",
      "Epoch 141/500\n",
      "1434/1434 [==============================] - 12s 8ms/step - loss: 724017.5000 - mae: 196.7061 - val_loss: 467982.0938 - val_mae: 150.7204\n",
      "Epoch 142/500\n",
      "1434/1434 [==============================] - 12s 8ms/step - loss: 719598.6250 - mae: 206.4934 - val_loss: 532897.6250 - val_mae: 155.9824\n",
      "Epoch 143/500\n",
      "1434/1434 [==============================] - 12s 8ms/step - loss: 791396.3750 - mae: 222.7445 - val_loss: 668911.2500 - val_mae: 188.4496\n",
      "Epoch 144/500\n",
      "1434/1434 [==============================] - 12s 8ms/step - loss: 720170.6875 - mae: 210.2102 - val_loss: 511090.0312 - val_mae: 157.0918\n",
      "Epoch 145/500\n",
      "1434/1434 [==============================] - 12s 8ms/step - loss: 718663.5000 - mae: 206.3981 - val_loss: 523813.1562 - val_mae: 156.9673\n",
      "Epoch 146/500\n",
      "1434/1434 [==============================] - 12s 8ms/step - loss: 716948.5000 - mae: 205.4733 - val_loss: 949109.1250 - val_mae: 211.9581\n",
      "Epoch 147/500\n",
      "1434/1434 [==============================] - 12s 8ms/step - loss: 728030.0625 - mae: 202.5269 - val_loss: 493540.2500 - val_mae: 136.8508\n",
      "Epoch 148/500\n",
      "1434/1434 [==============================] - 12s 8ms/step - loss: 717385.5000 - mae: 194.8469 - val_loss: 520950.4375 - val_mae: 156.9148\n",
      "Epoch 149/500\n",
      "1434/1434 [==============================] - 12s 8ms/step - loss: 626170.8125 - mae: 193.7121 - val_loss: 461601.9688 - val_mae: 155.2898\n",
      "Epoch 150/500\n",
      "1434/1434 [==============================] - 12s 8ms/step - loss: 729208.9375 - mae: 206.2686 - val_loss: 478474.8125 - val_mae: 157.2119\n",
      "Epoch 151/500\n",
      "1434/1434 [==============================] - 12s 8ms/step - loss: 654512.1250 - mae: 191.3358 - val_loss: 1351491.3750 - val_mae: 444.3068\n",
      "Epoch 152/500\n",
      "1434/1434 [==============================] - 12s 8ms/step - loss: 766580.1875 - mae: 206.7403 - val_loss: 958701.0000 - val_mae: 228.8350\n",
      "Epoch 153/500\n",
      "1434/1434 [==============================] - 12s 8ms/step - loss: 692673.1875 - mae: 193.1525 - val_loss: 829571.2500 - val_mae: 194.9706\n",
      "Epoch 154/500\n",
      "1434/1434 [==============================] - 12s 8ms/step - loss: 693908.1250 - mae: 188.6980 - val_loss: 661320.1250 - val_mae: 203.2686\n",
      "Epoch 155/500\n",
      "1434/1434 [==============================] - 12s 8ms/step - loss: 684295.3750 - mae: 195.9081 - val_loss: 604855.0625 - val_mae: 222.6968\n",
      "Epoch 156/500\n",
      "1434/1434 [==============================] - 12s 8ms/step - loss: 620085.5625 - mae: 170.8526 - val_loss: 452748.1875 - val_mae: 147.7561\n",
      "Epoch 157/500\n",
      "1434/1434 [==============================] - 12s 8ms/step - loss: 740587.9375 - mae: 198.6800 - val_loss: 522708.7188 - val_mae: 156.7988\n",
      "Epoch 158/500\n",
      "1434/1434 [==============================] - 12s 8ms/step - loss: 696282.6250 - mae: 187.8978 - val_loss: 557804.3125 - val_mae: 165.9010\n",
      "Epoch 159/500\n",
      "1434/1434 [==============================] - 12s 8ms/step - loss: 761814.3125 - mae: 205.1976 - val_loss: 472793.9375 - val_mae: 166.6874\n",
      "Epoch 160/500\n",
      "1434/1434 [==============================] - 12s 8ms/step - loss: 770927.6875 - mae: 204.2285 - val_loss: 723780.7500 - val_mae: 160.7627\n"
     ]
    }
   ],
   "source": [
    "history = ann.fit(X_train, y_train,\n",
    "                    validation_data = (X_val, y_val),\n",
    "                    callbacks=[es],\n",
    "                    epochs=500,\n",
    "                    batch_size=30,\n",
    "                    verbose=1)"
   ]
  },
  {
   "cell_type": "code",
   "execution_count": 22,
   "metadata": {
    "ExecuteTime": {
     "end_time": "2024-08-18T08:33:28.648303100Z",
     "start_time": "2024-08-18T08:33:28.121741300Z"
    }
   },
   "outputs": [
    {
     "data": {
      "text/plain": "<Figure size 600x600 with 1 Axes>",
      "image/png": "[encoded data removed]"
     },
     "metadata": {},
     "output_type": "display_data"
    }
   ],
   "source": [
    "# let's see the training and validation accuracy by epoch\n",
    "history_dict = history.history\n",
    "loss_values = history_dict['loss'] # you can change this\n",
    "val_loss_values = history_dict['val_loss'] # you can also change this\n",
    "epochs = range(1, len(loss_values) + 1) # range of X (no. of epochs)\n",
    "\n",
    "# Set global font to Times New Roman and font size\n",
    "plt.rcParams['font.family'] = 'serif'\n",
    "plt.rcParams['font.serif'] = ['Times New Roman']\n",
    "plt.rcParams['font.size'] = 20\n",
    "\n",
    "# Create a plot\n",
    "plt.figure(figsize=(6, 6))\n",
    "plt.plot(epochs, loss_values, 'blue', label='Train set')\n",
    "plt.plot(epochs, val_loss_values, 'orange', label='Validation set')\n",
    "#plt.title('Training and testing loss')\n",
    "\n",
    "\n",
    "plt.xlabel('Epochs')\n",
    "plt.ylabel('Loss (MSE)')\n",
    "plt.legend()\n",
    "plt.savefig('Section2_ANN4_2.png', dpi=200, bbox_inches='tight')\n",
    "plt.show()"
   ]
  },
  {
   "cell_type": "code",
   "execution_count": 23,
   "metadata": {
    "ExecuteTime": {
     "end_time": "2024-08-18T08:33:29.059044700Z",
     "start_time": "2024-08-18T08:33:28.635271300Z"
    }
   },
   "outputs": [
    {
     "data": {
      "text/plain": "<Figure size 600x600 with 1 Axes>",
      "image/png": "[encoded data removed]"
     },
     "metadata": {},
     "output_type": "display_data"
    }
   ],
   "source": [
    "loss_values1 = history_dict['mae'] # you can change this\n",
    "val_loss_values1 = history_dict['val_mae'] # you can also change this\n",
    "epochs = range(1, len(loss_values1) + 1) # range of X (no. of epochs)\n",
    "# Create a plot\n",
    "plt.figure(figsize=(6, 6))\n",
    "plt.plot(epochs, loss_values1, 'blue', label='Train set')\n",
    "plt.plot(epochs, val_loss_values1, 'orange', label='Validation set')\n",
    "#plt.title('Training and testing MAE')\n",
    "plt.xlabel('Epochs')\n",
    "plt.ylabel('MAE (kPa)')\n",
    "plt.legend()\n",
    "plt.savefig('Section2_ANN4_3.png', dpi=200, bbox_inches='tight')\n",
    "plt.show()"
   ]
  },
  {
   "cell_type": "code",
   "execution_count": 24,
   "metadata": {
    "ExecuteTime": {
     "end_time": "2024-08-18T08:33:31.160239700Z",
     "start_time": "2024-08-18T08:33:29.058044700Z"
    }
   },
   "outputs": [
    {
     "name": "stdout",
     "output_type": "stream",
     "text": [
      "INFO:tensorflow:Assets written to: Section2_new_ANN_4\\assets\n"
     ]
    }
   ],
   "source": [
    "ann.save('Section2_new_ANN_4')\n",
    "import pickle\n",
    "pickle.dump(sc, open('Section2_new_scaler_ANN_4.pkl', 'wb'))"
   ]
  },
  {
   "cell_type": "markdown",
   "metadata": {},
   "source": [
    "## Part 5 - Make predictions"
   ]
  },
  {
   "cell_type": "code",
   "execution_count": 25,
   "metadata": {
    "ExecuteTime": {
     "end_time": "2024-08-18T08:33:39.780978700Z",
     "start_time": "2024-08-18T08:33:31.164202200Z"
    }
   },
   "outputs": [
    {
     "name": "stdout",
     "output_type": "stream",
     "text": [
      "1345/1345 [==============================] - 5s 4ms/step\n",
      "449/449 [==============================] - 2s 4ms/step\n"
     ]
    },
    {
     "data": {
      "text/plain": "<Figure size 640x480 with 2 Axes>",
      "image/png": "[encoded data removed]"
     },
     "metadata": {},
     "output_type": "display_data"
    }
   ],
   "source": [
    "# scatterplot of actual vs. pred\n",
    "# specify the dimensions \n",
    "fig, axes = plt.subplots(1,2) # 1 row, 2 columns\n",
    "\n",
    "# this makes the individual subplots\n",
    "# Training Results\n",
    "axes[0].scatter(x=y_train, y=ann.predict(X_train)) #first row, first entry (left top)\n",
    "axes[0].set_xlabel(\"Actual\", fontsize=20)\n",
    "axes[0].set_ylabel(\"Predicted\",  fontsize=20)\n",
    "axes[0].set_title(\"Training\")\n",
    "# add 45 deg line\n",
    "x = np.linspace(*axes[0].get_xlim())\n",
    "axes[0].plot(x, x, color='red')\n",
    "# Validation Results\n",
    "axes[1].scatter(x=y_val, y=ann.predict(X_val)) # first row, second entry (right top)\n",
    "axes[1].set_xlabel(\"Actual\", fontsize=20)\n",
    "axes[1].set_ylabel(\"Predicted\",  fontsize=20)\n",
    "axes[1].set_title(\"Validation\")\n",
    "# add 45 deg line\n",
    "x = np.linspace(*axes[1].get_xlim())\n",
    "axes[1].plot(x, x, color='red')\n",
    "\n",
    "# tight layout\n",
    "fig.tight_layout()\n",
    "\n",
    "plt.savefig('Section2_ANN4_1.png', dpi=200, bbox_inches='tight')\n",
    "# show the plot\n",
    "plt.show()"
   ]
  },
  {
   "cell_type": "code",
   "execution_count": 26,
   "metadata": {
    "colab": {
     "base_uri": "https://localhost:8080/",
     "height": 134
    },
    "colab_type": "code",
    "id": "IA0yApEmBG1X",
    "outputId": "cb981e1f-9204-4a2a-fece-9d66a6919189",
    "ExecuteTime": {
     "end_time": "2024-08-18T08:33:41.611901500Z",
     "start_time": "2024-08-18T08:33:39.768448600Z"
    }
   },
   "outputs": [
    {
     "name": "stdout",
     "output_type": "stream",
     "text": [
      "449/449 [==============================] - 2s 3ms/step\n",
      "[[ 6.97e+02  9.34e+02]\n",
      " [ 3.51e+01  6.17e+00]\n",
      " [-7.79e+00  4.27e+00]\n",
      " ...\n",
      " [ 2.77e+02  2.99e+02]\n",
      " [ 4.58e+03  4.94e+03]\n",
      " [ 5.58e+03  6.31e+03]]\n"
     ]
    }
   ],
   "source": [
    "y_pred = ann.predict(X_test)\n",
    "np.set_printoptions(precision=2)\n",
    "print(np.concatenate((y_pred.reshape(len(y_pred),1), y_test.reshape(len(y_test),1)),1))"
   ]
  },
  {
   "cell_type": "code",
   "execution_count": 27,
   "metadata": {
    "ExecuteTime": {
     "end_time": "2024-08-18T08:33:41.842334300Z",
     "start_time": "2024-08-18T08:33:41.594892200Z"
    }
   },
   "outputs": [
    {
     "data": {
      "text/plain": "Text(0, 0.5, 'Predicted data')"
     },
     "execution_count": 27,
     "metadata": {},
     "output_type": "execute_result"
    },
    {
     "data": {
      "text/plain": "<Figure size 640x480 with 1 Axes>",
      "image/png": "[encoded data removed]"
     },
     "metadata": {},
     "output_type": "display_data"
    }
   ],
   "source": [
    "import matplotlib.pyplot as plt\n",
    "plt.scatter(y_test, y_pred, color=\"blue\")\n",
    "plt.xlabel ('Actual data')\n",
    "plt.ylabel ('Predicted data')"
   ]
  },
  {
   "cell_type": "code",
   "execution_count": 28,
   "metadata": {
    "ExecuteTime": {
     "end_time": "2024-08-18T08:33:42.548651500Z",
     "start_time": "2024-08-18T08:33:41.835333100Z"
    }
   },
   "outputs": [
    {
     "data": {
      "text/plain": "<Figure size 600x600 with 1 Axes>",
      "image/png": "[encoded data removed]"
     },
     "metadata": {},
     "output_type": "display_data"
    }
   ],
   "source": [
    "from sklearn.metrics import r2_score\n",
    "# Initialize layout\n",
    "fig1, ax1 = plt.subplots(figsize = (6, 6))\n",
    "\n",
    "# Set global font to Times New Roman and font size\n",
    "plt.rcParams['font.family'] = 'serif'\n",
    "plt.rcParams['font.serif'] = ['Times New Roman']\n",
    "plt.rcParams['font.size'] = 20\n",
    "\n",
    "b_l = -2000\n",
    "u_l = 65000\n",
    "\n",
    "# Add scatterplot\n",
    "ax1.scatter(y_test, y_pred, s=70, alpha=1, edgecolors=\"k\",c='mediumblue',zorder=5, label = 'Points')\n",
    "\n",
    "\n",
    "plt.ylabel('Predicted Reflected Overpressure (kPa)')\n",
    "plt.xlabel('Target Reflected Overpressure (kPa)')\n",
    "plt.xticks(fontsize = 19)\n",
    "plt.yticks(fontsize = 19)\n",
    "\n",
    "\n",
    "x1 = np.linspace(b_l, u_l)\n",
    "\n",
    "plt.plot(x1, x1, 'Red', label='45\\N{DEGREE SIGN} line',lw=2.5,alpha=1)\n",
    "#plt.plot(x1, 1.05*x1, '--m', label='\\u00B15% Error',lw=2.5,alpha=0.7)\n",
    "#plt.plot(x1, 0.95*x1,'m', linestyle='--',lw=2.5,alpha=0.7)\n",
    "plt.plot(x1, 1.1*x1, '-.g', label='\\u00B110% Error',lw=2.5,alpha=0.7)\n",
    "plt.plot(x1, 0.9*x1,'-.g',lw=2.5,alpha=0.7)\n",
    "plt.plot(x1, 1.2*x1, color = '#F97306', linestyle='dotted', label='\\u00B120% Error',lw=2.5,alpha=0.7)\n",
    "plt.plot(x1, 0.8*x1,color = '#F97306', linestyle='dotted', lw=2.5,alpha=0.7)\n",
    "\n",
    "plt.ylim(b_l, u_l)\n",
    "plt.xlim(b_l, u_l)\n",
    "plt.legend(loc='upper center', bbox_to_anchor=(0.5, -0.15), ncol=4, frameon = False, fontsize = 20)\n",
    "\n",
    "#plt.grid()\n",
    "\n",
    "ax1.spines['left'].set_color('black')        # setting up Y-axis tick color to red\n",
    "ax1.spines['bottom'].set_color('black')         #setting up above X-axis tick color to red\n",
    "\n",
    "plt.savefig('Section2_ANN4.png', dpi=200, bbox_inches='tight')"
   ]
  },
  {
   "cell_type": "code",
   "execution_count": 29,
   "metadata": {
    "ExecuteTime": {
     "end_time": "2024-08-18T08:33:47.703765900Z",
     "start_time": "2024-08-18T08:33:42.538644100Z"
    }
   },
   "outputs": [
    {
     "name": "stdout",
     "output_type": "stream",
     "text": [
      "1345/1345 [==============================] - 5s 3ms/step\n",
      "128.93740395300338\n",
      "124.21699696569694\n"
     ]
    }
   ],
   "source": [
    "# metrics\n",
    "trainpreds = ann.predict(X_train)\n",
    "\n",
    "from sklearn.metrics import mean_absolute_error\n",
    "print(mean_absolute_error(y_train, trainpreds)) # train\n",
    "print(mean_absolute_error(y_test, y_pred)) # test"
   ]
  },
  {
   "cell_type": "code",
   "execution_count": 30,
   "metadata": {
    "ExecuteTime": {
     "end_time": "2024-08-18T08:33:47.730289300Z",
     "start_time": "2024-08-18T08:33:47.687754Z"
    }
   },
   "outputs": [
    {
     "name": "stdout",
     "output_type": "stream",
     "text": [
      "0.9693977593762775\n"
     ]
    }
   ],
   "source": [
    "from sklearn.metrics import r2_score\n",
    "r2 = r2_score(y_test, y_pred)\n",
    "print (r2)"
   ]
  },
  {
   "cell_type": "code",
   "execution_count": 31,
   "metadata": {
    "ExecuteTime": {
     "end_time": "2024-08-18T08:33:47.917322700Z",
     "start_time": "2024-08-18T08:33:47.701765300Z"
    }
   },
   "outputs": [
    {
     "name": "stdout",
     "output_type": "stream",
     "text": [
      "0.9643496286722824\n"
     ]
    }
   ],
   "source": [
    "r2_train = r2_score(y_train, trainpreds)\n",
    "print (r2_train)"
   ]
  },
  {
   "cell_type": "code",
   "execution_count": 32,
   "metadata": {
    "ExecuteTime": {
     "end_time": "2024-08-18T08:33:49.056600100Z",
     "start_time": "2024-08-18T08:33:47.893767700Z"
    }
   },
   "outputs": [
    {
     "name": "stdout",
     "output_type": "stream",
     "text": [
      "Within 5% margin 10.37%\n",
      "Within 10% margin 20.54%\n",
      "Within 20% margin 35.40%\n",
      "Out of 20% margin 64.60%\n"
     ]
    }
   ],
   "source": [
    "count0 = 0\n",
    "for i in range(len(y_pred)):\n",
    "    line1 = y_pred[i] - 0.95*y_test[i]\n",
    "    line2 = y_pred[i] - 1.05*y_test[i]\n",
    "    mask0 = (line1 > 0) & (line2 < 0)\n",
    "    count0 = np.sum(mask0+count0)\n",
    "\n",
    "count1 = 0\n",
    "for i in range(len(y_pred)):\n",
    "    line1 = y_pred[i] - 0.9*y_test[i]\n",
    "    line2 = y_pred[i] - 1.1*y_test[i]\n",
    "    mask1 = (line1 > 0) & (line2 < 0)\n",
    "    count1 = np.sum(mask1+count1)\n",
    "\n",
    "count2 = 0\n",
    "for j in range(len(y_pred)):\n",
    "    line3 = y_pred[j] - 0.8*y_test[j]\n",
    "    line4 = y_pred[j] - 1.2*y_test[j]\n",
    "    mask2 = (line3 > 0) & (line4 < 0)\n",
    "    count2 = np.sum(mask2+count2)\n",
    "\n",
    "\n",
    "count3 = 0    \n",
    "for k in range(len(y_pred)):\n",
    "    line5 = y_pred[k] - 0.8*y_test[k]\n",
    "    line6 = y_pred[k] - 1.2*y_test[k]\n",
    "    mask3 = (line5 < 0) or (line6 > 0)\n",
    "    count3 = np.sum(mask3+count3)\n",
    "   \n",
    "\n",
    "print ('Within 5% margin', format((count0/len (y_pred)),'.2%'))\n",
    "print ('Within 10% margin', format((count1/len (y_pred)),'.2%'))\n",
    "print ('Within 20% margin', format((count2/len (y_pred)),'.2%'))\n",
    "print ('Out of 20% margin', format((count3/len (y_pred)),'.2%'))"
   ]
  },
  {
   "cell_type": "code",
   "execution_count": 33,
   "metadata": {
    "ExecuteTime": {
     "end_time": "2024-08-18T08:33:49.200791500Z",
     "start_time": "2024-08-18T08:33:49.058635700Z"
    }
   },
   "outputs": [
    {
     "name": "stdout",
     "output_type": "stream",
     "text": [
      "0.9693849497318138\n"
     ]
    }
   ],
   "source": [
    "adj_r2 = 1 - ((1 - r2) * (len(X_test) - 1) / (len(X_test) - len (X_test[0]) - 1))\n",
    "print (adj_r2)"
   ]
  },
  {
   "cell_type": "code",
   "execution_count": 34,
   "metadata": {
    "ExecuteTime": {
     "end_time": "2024-08-18T08:33:49.354060600Z",
     "start_time": "2024-08-18T08:33:49.182558500Z"
    }
   },
   "outputs": [
    {
     "data": {
      "text/plain": "560.5959813079941"
     },
     "execution_count": 34,
     "metadata": {},
     "output_type": "execute_result"
    }
   ],
   "source": [
    "import math\n",
    "from sklearn.metrics import mean_squared_error\n",
    "\n",
    "math.sqrt(mean_squared_error(y_test, y_pred))"
   ]
  },
  {
   "cell_type": "code",
   "execution_count": 35,
   "metadata": {
    "ExecuteTime": {
     "end_time": "2024-08-18T08:33:49.498421800Z",
     "start_time": "2024-08-18T08:33:49.339424Z"
    }
   },
   "outputs": [
    {
     "data": {
      "text/plain": "124.21699696569694"
     },
     "execution_count": 35,
     "metadata": {},
     "output_type": "execute_result"
    }
   ],
   "source": [
    "from sklearn.metrics import mean_absolute_error\n",
    "\n",
    "mean_absolute_error(y_test, y_pred)"
   ]
  }
 ],
 "metadata": {
  "colab": {
   "collapsed_sections": [],
   "name": "Artificial Neural Network",
   "provenance": [],
   "toc_visible": true
  },
  "kernelspec": {
   "display_name": "Python 3 (ipykernel)",
   "language": "python",
   "name": "python3"
  },
  "language_info": {
   "codemirror_mode": {
    "name": "ipython",
    "version": 3
   },
   "file_extension": ".py",
   "mimetype": "text/x-python",
   "name": "python",
   "nbconvert_exporter": "python",
   "pygments_lexer": "ipython3",
   "version": "3.9.7"
  }
 },
 "nbformat": 4,
 "nbformat_minor": 4
}
