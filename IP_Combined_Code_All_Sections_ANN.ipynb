{
 "cells": [
  {
   "cell_type": "markdown",
   "source": [
    "## Importing libraries and files"
   ],
   "metadata": {
    "collapsed": false
   },
   "id": "498e1bf0a688a38b"
  },
  {
   "cell_type": "code",
   "execution_count": 6,
   "outputs": [
    {
     "name": "stdout",
     "output_type": "stream",
     "text": [
      "WARNING:tensorflow:From D:\\Anaconda3\\Lib\\site-packages\\keras\\src\\saving\\legacy\\saved_model\\load.py:107: The name tf.gfile.Exists is deprecated. Please use tf.io.gfile.exists instead.\n",
      "WARNING:tensorflow:From D:\\Anaconda3\\Lib\\site-packages\\keras\\src\\utils\\tf_utils.py:585: The name tf.executing_eagerly_outside_functions is deprecated. Please use tf.compat.v1.executing_eagerly_outside_functions instead.\n"
     ]
    },
    {
     "name": "stderr",
     "output_type": "stream",
     "text": [
      "D:\\Anaconda3\\Lib\\site-packages\\sklearn\\base.py:347: InconsistentVersionWarning: Trying to unpickle estimator StandardScaler from version 1.4.2 when using version 1.3.0. This might lead to breaking code or invalid results. Use at your own risk. For more info please refer to:\n",
      "https://scikit-learn.org/stable/model_persistence.html#security-maintainability-limitations\n",
      "  warnings.warn(\n",
      "D:\\Anaconda3\\Lib\\site-packages\\sklearn\\base.py:347: InconsistentVersionWarning: Trying to unpickle estimator StandardScaler from version 1.4.2 when using version 1.3.0. This might lead to breaking code or invalid results. Use at your own risk. For more info please refer to:\n",
      "https://scikit-learn.org/stable/model_persistence.html#security-maintainability-limitations\n",
      "  warnings.warn(\n",
      "D:\\Anaconda3\\Lib\\site-packages\\sklearn\\base.py:347: InconsistentVersionWarning: Trying to unpickle estimator StandardScaler from version 1.4.2 when using version 1.3.0. This might lead to breaking code or invalid results. Use at your own risk. For more info please refer to:\n",
      "https://scikit-learn.org/stable/model_persistence.html#security-maintainability-limitations\n",
      "  warnings.warn(\n",
      "D:\\Anaconda3\\Lib\\site-packages\\sklearn\\base.py:347: InconsistentVersionWarning: Trying to unpickle estimator StandardScaler from version 1.4.2 when using version 1.3.0. This might lead to breaking code or invalid results. Use at your own risk. For more info please refer to:\n",
      "https://scikit-learn.org/stable/model_persistence.html#security-maintainability-limitations\n",
      "  warnings.warn(\n",
      "D:\\Anaconda3\\Lib\\site-packages\\sklearn\\base.py:347: InconsistentVersionWarning: Trying to unpickle estimator StandardScaler from version 1.4.2 when using version 1.3.0. This might lead to breaking code or invalid results. Use at your own risk. For more info please refer to:\n",
      "https://scikit-learn.org/stable/model_persistence.html#security-maintainability-limitations\n",
      "  warnings.warn(\n",
      "D:\\Anaconda3\\Lib\\site-packages\\sklearn\\base.py:347: InconsistentVersionWarning: Trying to unpickle estimator StandardScaler from version 1.4.2 when using version 1.3.0. This might lead to breaking code or invalid results. Use at your own risk. For more info please refer to:\n",
      "https://scikit-learn.org/stable/model_persistence.html#security-maintainability-limitations\n",
      "  warnings.warn(\n"
     ]
    }
   ],
   "source": [
    "import pandas as pd\n",
    "from keras.models import load_model\n",
    "import pickle\n",
    "import numpy as np\n",
    "import matplotlib.pyplot as plt\n",
    "\n",
    "ann_arr = load_model('IP_Arrival_time/Arrival_ANN_1')\n",
    "ann_end = load_model('IP_End_time/End_ANN_2')\n",
    "ann_chg = load_model('IP_Change_time/Change_ANN_3')\n",
    "\n",
    "#Section1\n",
    "ann1 = load_model('IP_Section_1_new/Section1_ANN_3')\n",
    "sc1 = pickle.load(open('IP_Section_1_new/Section1_scaler_ANN_3.pkl', 'rb'))\n",
    "#Section2\n",
    "ann2 = load_model('IP_Section_2_new/Section2_new_ANN_5')\n",
    "sc2 = pickle.load(open('IP_Section_2_new/Section2_new_scaler_ANN_5.pkl', 'rb'))\n",
    "#Section3\n",
    "ann3 = load_model('IP_Section_3_new/Section3_new_ANN_1')\n",
    "sc3 = pickle.load(open('IP_Section_3_new/Section3_new_scaler_ANN_1.pkl', 'rb'))\n",
    "#Section4\n",
    "ann4 = load_model('IP_Section_4_new/Section4_new_ANN_1')\n",
    "sc4 = pickle.load(open('IP_Section_4_new/Section4_new_scaler_ANN_1.pkl', 'rb'))\n",
    "#Section5\n",
    "ann5 = load_model('IP_Section_5_new/Section5_new_ANN_1')\n",
    "sc5 = pickle.load(open('IP_Section_5_new/Section5_new_scaler_ANN_1.pkl', 'rb'))\n",
    "#Section6\n",
    "ann6 = load_model('IP_Section_6_new/Section6_new_ANN_1')\n",
    "sc6 = pickle.load(open('IP_Section_6_new/Section6_new_scaler_ANN_1.pkl', 'rb'))"
   ],
   "metadata": {
    "collapsed": false,
    "ExecuteTime": {
     "end_time": "2024-12-02T11:45:53.559781600Z",
     "start_time": "2024-12-02T11:45:49.041514200Z"
    }
   },
   "id": "3122126ae010792f"
  },
  {
   "cell_type": "markdown",
   "source": [
    "## Input details"
   ],
   "metadata": {
    "collapsed": false
   },
   "id": "5f559d0fa330bc79"
  },
  {
   "cell_type": "code",
   "execution_count": 41,
   "outputs": [],
   "source": [
    "charge_mass = 16.2\n",
    "standoff_distance = 11.49\n",
    "start_time = 0\n",
    "termination_time = 60\n",
    "interval = 0.01"
   ],
   "metadata": {
    "collapsed": false,
    "ExecuteTime": {
     "end_time": "2024-12-02T21:48:17.075203400Z",
     "start_time": "2024-12-02T21:48:17.005072900Z"
    }
   },
   "id": "8e348013c4d88e94"
  },
  {
   "cell_type": "markdown",
   "source": [
    "## Pressure Profile"
   ],
   "metadata": {
    "collapsed": false
   },
   "id": "2e305e1d8d841ad0"
  },
  {
   "cell_type": "code",
   "execution_count": 42,
   "id": "7b0a878a-1117-4580-9cdf-0657137da5e9",
   "metadata": {
    "ExecuteTime": {
     "end_time": "2024-12-02T21:48:20.443997100Z",
     "start_time": "2024-12-02T21:48:19.736551100Z"
    }
   },
   "outputs": [
    {
     "name": "stdout",
     "output_type": "stream",
     "text": [
      "1/1 [==============================] - 0s 32ms/step\n",
      "1/1 [==============================] - 0s 30ms/step\n",
      "1/1 [==============================] - 0s 35ms/step\n",
      "end [[58.46649]] change [[27.127625]]\n",
      "119/119 [==============================] - 0s 2ms/step\n",
      "3\n"
     ]
    }
   ],
   "source": [
    "arr = np.array ([[charge_mass,standoff_distance]])\n",
    "\n",
    "arrival_time = ann_arr.predict(arr)\n",
    "end_time = ann_end.predict(arr)\n",
    "change_time = ann_chg.predict(arr)\n",
    "print (\"end\", end_time, \"change\", change_time)\n",
    "\n",
    "def stable_state(start, end, interval):    \n",
    "    t = np.arange(start, end + interval, interval)\n",
    "    t = t.reshape(len(t),1)\n",
    "\n",
    "    p = np.repeat(0, len(t)).reshape(len(t),1)\n",
    "    \n",
    "    values = np.concatenate ((t, p), axis = 1)\n",
    "    return values\n",
    "\n",
    "def p_fluctuation(standoff_distance, d_set):\n",
    "    if 1.5 <= standoff_distance <= 3:\n",
    "        d_set[:,0:3] = sc1.transform(d_set[:,0:3])\n",
    "        p_f = ann1.predict(d_set)\n",
    "        section = 1\n",
    "        \n",
    "    elif 3 < standoff_distance <= 7:\n",
    "        d_set[:,0:3] = sc2.transform(d_set[:,0:3])\n",
    "        p_f = ann2.predict(d_set)\n",
    "        section = 2\n",
    "        \n",
    "    elif 7 < standoff_distance <= 13:\n",
    "        d_set[:,0:3] = sc3.transform(d_set[:,0:3])\n",
    "        p_f = ann3.predict(d_set)\n",
    "        section = 3\n",
    "        \n",
    "    elif 13 < standoff_distance <= 19:\n",
    "        d_set[:,0:3] = sc4.transform(d_set[:,0:3])\n",
    "        p_f = ann4.predict(d_set)\n",
    "        section = 4\n",
    "        \n",
    "    elif 19 < standoff_distance <= 25:\n",
    "        d_set[:,0:3] = sc5.transform(d_set[:,0:3])\n",
    "        p_f = ann5.predict(d_set)\n",
    "        section = 5\n",
    "        \n",
    "    elif 25 < standoff_distance <= 30:\n",
    "        d_set[:,0:3] = sc6.transform(d_set[:,0:3])\n",
    "        p_f = ann6.predict(d_set)\n",
    "        section = 6\n",
    "        \n",
    "    else:\n",
    "        print (\"Out of trained range\")\n",
    "    return p_f, section\n",
    "\n",
    "if termination_time < arrival_time:\n",
    "    start = start_time\n",
    "    end = termination_time\n",
    "    values1 = stable_state(start, end, interval)\n",
    "    arrival_time = 0\n",
    "    end_time = 0\n",
    "\n",
    "else:\n",
    "    start = start_time\n",
    "    end = arrival_time\n",
    "    values1 = stable_state(start, end, interval)\n",
    "    \n",
    "    if termination_time < end_time:\n",
    "        end_time = termination_time\n",
    "        \n",
    "    else:\n",
    "        start = end_time\n",
    "        end = termination_time\n",
    "        values3 = stable_state(start, end, interval)\n",
    "\n",
    "t2= np.arange(arrival_time, end_time + interval, interval)\n",
    "t2 = t2.reshape(len(t2),1)\n",
    "\n",
    "if t2[0] < change_time:\n",
    "    ph2 = np.array([[0, 1]])\n",
    "else:\n",
    "    ph2 = np.array([[1, 0]])\n",
    "    \n",
    "positive = np.array([0, 1])\n",
    "negative = np.array([1, 0])\n",
    "\n",
    "for time in t2[1:]:\n",
    "    if time < change_time:\n",
    "        ph2=np.vstack((ph2,positive))\n",
    "    else:\n",
    "        ph2=np.vstack((ph2,negative))\n",
    "        \n",
    "m2 = np.repeat(charge_mass, len(t2)).reshape(len(t2),1)\n",
    "d2 = np.repeat(standoff_distance, len(t2)).reshape(len(t2),1)\n",
    "d_set = np.concatenate ((m2, d2, t2, ph2), axis = 1)\n",
    "\n",
    "p2, section = p_fluctuation(standoff_distance, d_set)\n",
    "p2 = p2.reshape((-1, 1))\n",
    "values2 = np.concatenate ((t2, p2), axis = 1)\n",
    "\n",
    "\n",
    "if 'values2' in globals():\n",
    "    ml_model = np.concatenate((values1, values2), axis=0)\n",
    "    if 'values3' in globals():\n",
    "        ml_model = np.concatenate((ml_model, values3), axis=0)\n",
    "else:\n",
    "    ml_model = values1\n",
    "print (section)\n",
    "\n",
    "X1 = ml_model[:,0]\n",
    "y1 = ml_model[:,1]"
   ]
  },
  {
   "cell_type": "code",
   "execution_count": 43,
   "outputs": [
    {
     "name": "stdout",
     "output_type": "stream",
     "text": [
      "Numerical length 6001 ANN-based length 6005\n"
     ]
    },
    {
     "name": "stderr",
     "output_type": "stream",
     "text": [
      "C:\\Users\\z5379606\\AppData\\Local\\Temp\\ipykernel_22764\\4154423938.py:3: ParserWarning: Falling back to the 'python' engine because the 'c' engine does not support skipfooter; you can avoid this warning by specifying engine='python'.\n",
      "  lsdyna = pd.read_csv(file_path, delimiter=\"\\s+\", skiprows = 8, skipfooter = 1, header = None, names = [\"Time\", \"Pressure\"])\n"
     ]
    }
   ],
   "source": [
    "file_path = 'G:/Chamodi/Machine_Learning/Pressure_history_2/Heat_maps/Distance_model/NumResults_11.4m16.2kg/10_new'\n",
    "#lsdyna = pd.read_excel(file_path)\n",
    "lsdyna = pd.read_csv(file_path, delimiter=\"\\s+\", skiprows = 8, skipfooter = 1, header = None, names = [\"Time\", \"Pressure\"])\n",
    "X2_original = lsdyna['Time']\n",
    "y2_original = lsdyna['Pressure']\n",
    "X2_original=X2_original*1000\n",
    "y2_original=(y2_original/1000)-101.25\n",
    "\n",
    "# Find the indices for the two values closest to value1 and value2\n",
    "index1 = (np.abs(X2_original - start_time)).argmin()\n",
    "index2 = (np.abs(X2_original - termination_time)).argmin()\n",
    "\n",
    "# Extract the ranges from X2 and y2 based on the indices\n",
    "X2 = X2_original[index1:index2+1]\n",
    "y2 = y2_original[index1:index2+1]\n",
    "\n",
    "X2 = X2.to_numpy()\n",
    "y2 = y2.to_numpy()\n",
    "\n",
    "print(\"Numerical length\",len(y2), \"ANN-based length\", len(y1))"
   ],
   "metadata": {
    "collapsed": false,
    "ExecuteTime": {
     "end_time": "2024-12-02T21:48:28.002352Z",
     "start_time": "2024-12-02T21:48:27.912109400Z"
    }
   },
   "id": "9eeaf23f650662ca"
  },
  {
   "cell_type": "code",
   "execution_count": null,
   "outputs": [],
   "source": [
    "X1=X1[:-2]\n",
    "y1=y1[:-2]\n",
    "print(\"ANN:\",len(X1),\"Num:\",len(X2))\n",
    "print(\"ANN:\",len(y1),\"Num:\",len(y2))"
   ],
   "metadata": {
    "collapsed": false
   },
   "id": "409d447d8c9ea771"
  },
  {
   "cell_type": "code",
   "execution_count": null,
   "outputs": [],
   "source": [
    "# Numerical\n",
    "max_index_num = np.argmax(y2)\n",
    "min_index_num = np.argmin(y2)\n",
    "\n",
    "zero_crossing_index = next((i for i, val in enumerate(y2[max_index_num:min_index_num], start=0) if val <= 0), None)+max_index_num\n",
    "\n",
    "change_time_num = X2[zero_crossing_index]\n",
    "\n",
    "#end_index_num = min(range(min_index_num, len(y2)), key=lambda j: abs(y2[j]))\n",
    "#end_index_num = next((i for i, val in enumerate(y2[min_index_num:], start=0) if val > 0), None)+min_index_num\n",
    "for k in range(len(y2) - 1, -1, -1):\n",
    "    if y2[k] < -1:\n",
    "        end_index_num = k\n",
    "        break\n",
    "print(end_time_num)\n",
    "\n",
    "end_time_num = X2[end_index_num]\n",
    "\n",
    "positive_duration_num = change_time_num - X2[max_index_num]\n",
    "negative_duration_num = end_time_num - change_time_num\n",
    "\n",
    "\n",
    "positive_peak_pressure_num = y2[max_index_num]\n",
    "negative_peak_pressure_num = y2[min_index_num]\n",
    "\n",
    "positive_peak_time_num = X2[max_index_num]\n",
    "negative_peak_time_num = X2[min_index_num]\n",
    "\n",
    "# ANN-based\n",
    "positive_duration_ann = float(change_time - arrival_time)\n",
    "negative_duration_ann = float(end_time - change_time)\n",
    "\n",
    "max_index_ann = np.argmax(p2)\n",
    "min_index_ann = np.argmin(p2)\n",
    "\n",
    "positive_peak_pressure_ann = float(p2[max_index_ann])\n",
    "negative_peak_pressure_ann = float(p2[min_index_ann])\n",
    "\n",
    "positive_peak_time_ann = float(t2[max_index_ann])\n",
    "negative_peak_time_ann = float(t2[min_index_ann])"
   ],
   "metadata": {
    "collapsed": false
   },
   "id": "215786f3d01768c8"
  },
  {
   "cell_type": "code",
   "execution_count": 46,
   "outputs": [
    {
     "data": {
      "text/plain": "<Figure size 600x600 with 1 Axes>",
      "image/png": "[encoded data removed]"
     },
     "metadata": {},
     "output_type": "display_data"
    }
   ],
   "source": [
    "plt.figure(figsize=(6,6))\n",
    "plt.rcParams[\"font.family\"] = \"Times New Roman\"\n",
    "plt.plot(X2, y2, color = 'blue',label = 'Numerical', linewidth=4)\n",
    "plt.plot(X1, y1, linestyle = 'dashed', color = 'red', label = 'ANN framework', linewidth=3)\n",
    "plt.ylabel('Incident overpressure (kPa)',fontsize = 30)\n",
    "plt.xlabel('Time (ms)',fontsize = 30)\n",
    "plt.xticks(fontsize = 25)\n",
    "plt.yticks(fontsize = 25)\n",
    "plt.legend(loc='upper right', ncol=1, frameon = False, fontsize = 22)\n",
    "plt.axvline(x=25, color='black', linestyle='--', linewidth=2, label='28 ms')\n",
    "plt.text(25.5, 15, '25 ms', rotation=90, verticalalignment='center', horizontalalignment='left', fontsize=25, color='black')\n",
    "\n",
    "# Create the annotation text\n",
    "#annotation_text = (f'Peak incident overpressure\\n\\nANN framework - {round(max(y1), 2)} kPa\\n'\n",
    "#                   f'Numerical - {round(max(y2), 2)} kPa')\n",
    "\n",
    "#plt.annotate(annotation_text,xy=(0.4,0.5), xycoords='figure fraction', fontsize=18)\n",
    "\n",
    "plt.xlim (10,termination_time)\n",
    "plt.savefig(f'Heat_maps/Distance_model/{standoff_distance}m{charge_mass}kg_new.png', dpi=150, bbox_inches='tight')\n",
    "plt.show()"
   ],
   "metadata": {
    "collapsed": false,
    "ExecuteTime": {
     "end_time": "2024-12-02T21:50:13.704582600Z",
     "start_time": "2024-12-02T21:50:13.327057800Z"
    }
   },
   "id": "180dcba9d2d4f5bd"
  },
  {
   "cell_type": "code",
   "execution_count": null,
   "outputs": [],
   "source": [
    "# Define the lag range\n",
    "lag_range = 50\n",
    "\n",
    "# Compute full cross-correlation\n",
    "cross_corr_full = np.correlate(y2, y1, mode='full')\n",
    "\n",
    "# Find the middle index (corresponds to zero lag)\n",
    "mid_idx = len(y2) - 1\n",
    "\n",
    "# Extract the cross-correlation only within the desired lag range (-50 to 50)\n",
    "cross_corr_limited = cross_corr_full[mid_idx - lag_range: mid_idx + lag_range + 1]\n",
    "\n",
    "# Normalize the cross-correlation coefficient\n",
    "norm_cross_corr = cross_corr_limited / (np.std(y2) * np.std(y1) * len(y2))\n",
    "\n",
    "# Define the lags between -50 and 50\n",
    "lags = np.arange(-lag_range, lag_range + 1)\n",
    "\n",
    "# Find the lag that gives the maximum correlation within the restricted range\n",
    "max_corr_lag = lags[np.argmax(np.abs(norm_cross_corr))]\n",
    "\n",
    "#Plot the cross-correlation for the limited range\n",
    "'''plt.plot(lags, norm_cross_corr)\n",
    "plt.axvline(0, color='black', linestyle='--', label=\"Zero lag\")\n",
    "plt.axvline(max_corr_lag, color='red', linestyle='--', label=f\"Max Corr Lag = {max_corr_lag}\")\n",
    "plt.xlabel('Lag')\n",
    "plt.ylabel('Cross-correlation coefficient')\n",
    "plt.title('Cross-Correlation between Numerical Model and ANN Prediction')\n",
    "plt.legend()\n",
    "plt.show()'''\n",
    "\n",
    "# Check the correlation at zero lag\n",
    "zero_lag_corr = norm_cross_corr[lag_range]\n",
    "print(f\"Cross-correlation coefficient at zero lag: {zero_lag_corr}\")\n",
    "print(f\"Max cross-correlation coefficient lag: {max_corr_lag}\")"
   ],
   "metadata": {
    "collapsed": false
   },
   "id": "825199b249c781ed"
  },
  {
   "cell_type": "code",
   "execution_count": null,
   "outputs": [],
   "source": [
    "# Initialize PrettyTable\n",
    "table = PrettyTable()\n",
    "\n",
    "# Define columns\n",
    "table.field_names = [\"Parameter\", \"Numerical model prediction\", \"ANN-based framework prediction\", \"% error\"]\n",
    "\n",
    "# Calculate percentage errors\n",
    "def per_error(true_value, predicted_value):\n",
    "    return abs(predicted_value - true_value) / abs(true_value) * 100\n",
    "\n",
    "# Add rows\n",
    "table.add_row([\"Peak positive overpressure\", f\"{positive_peak_pressure_num:.2f}\", f\"{positive_peak_pressure_ann:.2f}\", f\"{per_error(positive_peak_pressure_num, positive_peak_pressure_ann):.2f}%\"])\n",
    "table.add_row([\"Peak negative overpressure\", f\"{negative_peak_pressure_num:.2f}\", f\"{negative_peak_pressure_ann:.2f}\", f\"{per_error(negative_peak_pressure_num, negative_peak_pressure_ann):.2f}%\"])\n",
    "table.add_row([\"Peak positive time\", f\"{positive_peak_time_num:.2f}\", f\"{positive_peak_time_ann:.2f}\", f\"{per_error(positive_peak_time_num, positive_peak_time_ann):.2f}%\"])\n",
    "table.add_row([\"Peak negative time\", f\"{negative_peak_time_num:.2f}\", f\"{negative_peak_time_ann:.2f}\", f\"{per_error(negative_peak_time_num, negative_peak_time_ann):.2f}%\"])\n",
    "table.add_row([\"Positive duration\", f\"{positive_duration_num:.2f}\", f\"{positive_duration_ann:.2f}\", f\"{per_error(positive_duration_num, positive_duration_ann):.2f}%\"])\n",
    "#table.add_row([\"Negative duration\", f\"{negative_duration_num:.2f}\", f\"{negative_duration_ann:.2f}\", f\"{per_error(negative_duration_num, negative_duration_ann):.2f}%\"])\n",
    "table.add_row([\"Cross correlation coefficient\", \"-\", f\"{zero_lag_corr:.3f}\", \"-\"])\n",
    "\n",
    "# Convert PrettyTable to string\n",
    "table_str = table.get_string()\n",
    "\n",
    "# Set up Matplotlib figure and axes\n",
    "fig, ax = plt.subplots()\n",
    "\n",
    "# Hide axes\n",
    "ax.xaxis.set_visible(False)\n",
    "ax.yaxis.set_visible(False)\n",
    "ax.set_frame_on(False)\n",
    "\n",
    "# Use the table_str as the plot text\n",
    "ax.text(0.5, 0.5, table_str, fontsize=12, ha=\"center\", va=\"center\", family=\"monospace\")\n",
    "\n",
    "# Save the table as an image\n",
    "plt.savefig(f'IP_Num&ANN_Comparison/Images2/Section{section}/table_{standoff_distance}m{charge_mass}kg.png', bbox_inches='tight', dpi=150)\n",
    "\n",
    "# Show the plot (optional)\n",
    "plt.show()"
   ],
   "metadata": {
    "collapsed": false
   },
   "id": "455291dd1b76295c"
  }
 ],
 "metadata": {
  "kernelspec": {
   "display_name": "Python 3 (ipykernel)",
   "language": "python",
   "name": "python3"
  },
  "language_info": {
   "codemirror_mode": {
    "name": "ipython",
    "version": 3
   },
   "file_extension": ".py",
   "mimetype": "text/x-python",
   "name": "python",
   "nbconvert_exporter": "python",
   "pygments_lexer": "ipython3",
   "version": "3.9.7"
  }
 },
 "nbformat": 4,
 "nbformat_minor": 5
}
