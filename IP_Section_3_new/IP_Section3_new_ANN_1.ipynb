{
 "cells": [
  {
   "cell_type": "markdown",
   "metadata": {
    "colab_type": "text",
    "id": "3cbb7fRy-eyr"
   },
   "source": [
    "# Artificial Neural Network"
   ]
  },
  {
   "cell_type": "markdown",
   "metadata": {
    "colab_type": "text",
    "id": "8sNDnxE2-pwE"
   },
   "source": [
    "## Part 1 - Importing the libraries"
   ]
  },
  {
   "cell_type": "code",
   "execution_count": 1,
   "metadata": {
    "colab": {},
    "colab_type": "code",
    "id": "lxChR1Rk-umf",
    "ExecuteTime": {
     "end_time": "2024-09-02T02:01:39.311086700Z",
     "start_time": "2024-09-02T02:01:34.227712600Z"
    }
   },
   "outputs": [],
   "source": [
    "import numpy as np\n",
    "import pandas as pd\n",
    "import tensorflow as tf\n",
    "import matplotlib.pyplot as plt\n",
    "from keras.models import load_model\n",
    "from pathlib import Path\n",
    "import pickle"
   ]
  },
  {
   "cell_type": "markdown",
   "metadata": {
    "colab_type": "text",
    "id": "AG3FQEch-yuA"
   },
   "source": [
    "## Part 2 - Data Preprocessing"
   ]
  },
  {
   "cell_type": "code",
   "execution_count": 2,
   "metadata": {
    "ExecuteTime": {
     "end_time": "2024-09-02T02:01:41.908833600Z",
     "start_time": "2024-09-02T02:01:41.839214400Z"
    }
   },
   "outputs": [
    {
     "name": "stdout",
     "output_type": "stream",
     "text": [
      "input G:\\Chamodi\\LSDYNA_1D\\Incident_pressure_time_history\\Far_field_time_history_dataset\n",
      "2 [WindowsPath('G:/Chamodi/LSDYNA_1D/Incident_pressure_time_history/Far_field_time_history_dataset/L13_1'), WindowsPath('G:/Chamodi/LSDYNA_1D/Incident_pressure_time_history/Far_field_time_history_dataset/L13_11'), WindowsPath('G:/Chamodi/LSDYNA_1D/Incident_pressure_time_history/Far_field_time_history_dataset/L13_13'), WindowsPath('G:/Chamodi/LSDYNA_1D/Incident_pressure_time_history/Far_field_time_history_dataset/L13_15'), WindowsPath('G:/Chamodi/LSDYNA_1D/Incident_pressure_time_history/Far_field_time_history_dataset/L13_17'), WindowsPath('G:/Chamodi/LSDYNA_1D/Incident_pressure_time_history/Far_field_time_history_dataset/L13_19'), WindowsPath('G:/Chamodi/LSDYNA_1D/Incident_pressure_time_history/Far_field_time_history_dataset/L13_21'), WindowsPath('G:/Chamodi/LSDYNA_1D/Incident_pressure_time_history/Far_field_time_history_dataset/L13_23'), WindowsPath('G:/Chamodi/LSDYNA_1D/Incident_pressure_time_history/Far_field_time_history_dataset/L13_25'), WindowsPath('G:/Chamodi/LSDYNA_1D/Incident_pressure_time_history/Far_field_time_history_dataset/L13_27'), WindowsPath('G:/Chamodi/LSDYNA_1D/Incident_pressure_time_history/Far_field_time_history_dataset/L13_29'), WindowsPath('G:/Chamodi/LSDYNA_1D/Incident_pressure_time_history/Far_field_time_history_dataset/L13_3'), WindowsPath('G:/Chamodi/LSDYNA_1D/Incident_pressure_time_history/Far_field_time_history_dataset/L13_31'), WindowsPath('G:/Chamodi/LSDYNA_1D/Incident_pressure_time_history/Far_field_time_history_dataset/L13_33'), WindowsPath('G:/Chamodi/LSDYNA_1D/Incident_pressure_time_history/Far_field_time_history_dataset/L13_35'), WindowsPath('G:/Chamodi/LSDYNA_1D/Incident_pressure_time_history/Far_field_time_history_dataset/L13_37'), WindowsPath('G:/Chamodi/LSDYNA_1D/Incident_pressure_time_history/Far_field_time_history_dataset/L13_39'), WindowsPath('G:/Chamodi/LSDYNA_1D/Incident_pressure_time_history/Far_field_time_history_dataset/L13_41'), WindowsPath('G:/Chamodi/LSDYNA_1D/Incident_pressure_time_history/Far_field_time_history_dataset/L13_43'), WindowsPath('G:/Chamodi/LSDYNA_1D/Incident_pressure_time_history/Far_field_time_history_dataset/L13_45'), WindowsPath('G:/Chamodi/LSDYNA_1D/Incident_pressure_time_history/Far_field_time_history_dataset/L13_47'), WindowsPath('G:/Chamodi/LSDYNA_1D/Incident_pressure_time_history/Far_field_time_history_dataset/L13_49'), WindowsPath('G:/Chamodi/LSDYNA_1D/Incident_pressure_time_history/Far_field_time_history_dataset/L13_5'), WindowsPath('G:/Chamodi/LSDYNA_1D/Incident_pressure_time_history/Far_field_time_history_dataset/L13_51'), WindowsPath('G:/Chamodi/LSDYNA_1D/Incident_pressure_time_history/Far_field_time_history_dataset/L13_53'), WindowsPath('G:/Chamodi/LSDYNA_1D/Incident_pressure_time_history/Far_field_time_history_dataset/L13_55'), WindowsPath('G:/Chamodi/LSDYNA_1D/Incident_pressure_time_history/Far_field_time_history_dataset/L13_57'), WindowsPath('G:/Chamodi/LSDYNA_1D/Incident_pressure_time_history/Far_field_time_history_dataset/L13_59'), WindowsPath('G:/Chamodi/LSDYNA_1D/Incident_pressure_time_history/Far_field_time_history_dataset/L13_61'), WindowsPath('G:/Chamodi/LSDYNA_1D/Incident_pressure_time_history/Far_field_time_history_dataset/L13_63'), WindowsPath('G:/Chamodi/LSDYNA_1D/Incident_pressure_time_history/Far_field_time_history_dataset/L13_65'), WindowsPath('G:/Chamodi/LSDYNA_1D/Incident_pressure_time_history/Far_field_time_history_dataset/L13_67'), WindowsPath('G:/Chamodi/LSDYNA_1D/Incident_pressure_time_history/Far_field_time_history_dataset/L13_69'), WindowsPath('G:/Chamodi/LSDYNA_1D/Incident_pressure_time_history/Far_field_time_history_dataset/L13_7'), WindowsPath('G:/Chamodi/LSDYNA_1D/Incident_pressure_time_history/Far_field_time_history_dataset/L13_70'), WindowsPath('G:/Chamodi/LSDYNA_1D/Incident_pressure_time_history/Far_field_time_history_dataset/L13_9')]\n"
     ]
    }
   ],
   "source": [
    "#Access input folder\n",
    "current_dir = Path.cwd()\n",
    "input_dir1 = Path (\"G:/Chamodi/LSDYNA_1D/Incident_pressure_time_history/Far_field_time_history_dataset\")\n",
    "print (\"input\",input_dir1)\n",
    "\n",
    "#Access folders inside input folder\n",
    "input_dir2_train =  [folder_input for folder_input in input_dir1.iterdir() if folder_input.is_dir()]\n",
    "print (\"2\",input_dir2_train)"
   ]
  },
  {
   "cell_type": "code",
   "execution_count": 3,
   "metadata": {
    "ExecuteTime": {
     "end_time": "2024-09-02T02:01:49.132561500Z",
     "start_time": "2024-09-02T02:01:43.477939Z"
    }
   },
   "outputs": [
    {
     "name": "stdout",
     "output_type": "stream",
     "text": [
      "folder G:\\Chamodi\\LSDYNA_1D\\Incident_pressure_time_history\\Far_field_time_history_dataset\\L13_1\n",
      "P13\n",
      "P17\n",
      "P21\n",
      "P25\n",
      "folder G:\\Chamodi\\LSDYNA_1D\\Incident_pressure_time_history\\Far_field_time_history_dataset\\L13_11\n",
      "P13\n",
      "P17\n",
      "P21\n",
      "P25\n",
      "folder G:\\Chamodi\\LSDYNA_1D\\Incident_pressure_time_history\\Far_field_time_history_dataset\\L13_13\n",
      "P13\n",
      "P17\n",
      "P21\n",
      "P25\n",
      "folder G:\\Chamodi\\LSDYNA_1D\\Incident_pressure_time_history\\Far_field_time_history_dataset\\L13_15\n",
      "P13\n",
      "P17\n",
      "P21\n",
      "P25\n",
      "folder G:\\Chamodi\\LSDYNA_1D\\Incident_pressure_time_history\\Far_field_time_history_dataset\\L13_17\n",
      "P13\n",
      "P17\n",
      "P21\n",
      "P25\n",
      "folder G:\\Chamodi\\LSDYNA_1D\\Incident_pressure_time_history\\Far_field_time_history_dataset\\L13_19\n",
      "P13\n",
      "P17\n",
      "P21\n",
      "P25\n",
      "folder G:\\Chamodi\\LSDYNA_1D\\Incident_pressure_time_history\\Far_field_time_history_dataset\\L13_21\n",
      "P13\n",
      "P17\n",
      "P21\n",
      "P25\n",
      "folder G:\\Chamodi\\LSDYNA_1D\\Incident_pressure_time_history\\Far_field_time_history_dataset\\L13_23\n",
      "P13\n",
      "P17\n",
      "P21\n",
      "P25\n",
      "folder G:\\Chamodi\\LSDYNA_1D\\Incident_pressure_time_history\\Far_field_time_history_dataset\\L13_25\n",
      "P13\n",
      "P17\n",
      "P21\n",
      "P25\n",
      "folder G:\\Chamodi\\LSDYNA_1D\\Incident_pressure_time_history\\Far_field_time_history_dataset\\L13_27\n",
      "P13\n",
      "P17\n",
      "P21\n",
      "P25\n",
      "folder G:\\Chamodi\\LSDYNA_1D\\Incident_pressure_time_history\\Far_field_time_history_dataset\\L13_29\n",
      "P13\n",
      "P17\n",
      "P21\n",
      "P25\n",
      "folder G:\\Chamodi\\LSDYNA_1D\\Incident_pressure_time_history\\Far_field_time_history_dataset\\L13_3\n",
      "P13\n",
      "P17\n",
      "P21\n",
      "P25\n",
      "folder G:\\Chamodi\\LSDYNA_1D\\Incident_pressure_time_history\\Far_field_time_history_dataset\\L13_31\n",
      "P13\n",
      "P17\n",
      "P21\n",
      "P25\n",
      "folder G:\\Chamodi\\LSDYNA_1D\\Incident_pressure_time_history\\Far_field_time_history_dataset\\L13_33\n",
      "P13\n",
      "P17\n",
      "P21\n",
      "P25\n",
      "folder G:\\Chamodi\\LSDYNA_1D\\Incident_pressure_time_history\\Far_field_time_history_dataset\\L13_35\n",
      "P13\n",
      "P17\n",
      "P21\n",
      "P25\n",
      "folder G:\\Chamodi\\LSDYNA_1D\\Incident_pressure_time_history\\Far_field_time_history_dataset\\L13_37\n",
      "P13\n",
      "P17\n",
      "P21\n",
      "P25\n",
      "folder G:\\Chamodi\\LSDYNA_1D\\Incident_pressure_time_history\\Far_field_time_history_dataset\\L13_39\n",
      "P13\n",
      "P17\n",
      "P21\n",
      "P25\n",
      "folder G:\\Chamodi\\LSDYNA_1D\\Incident_pressure_time_history\\Far_field_time_history_dataset\\L13_41\n",
      "P13\n",
      "P17\n",
      "P21\n",
      "P25\n",
      "folder G:\\Chamodi\\LSDYNA_1D\\Incident_pressure_time_history\\Far_field_time_history_dataset\\L13_43\n",
      "P13\n",
      "P17\n",
      "P21\n",
      "P25\n",
      "folder G:\\Chamodi\\LSDYNA_1D\\Incident_pressure_time_history\\Far_field_time_history_dataset\\L13_45\n",
      "P13\n",
      "P17\n",
      "P21\n",
      "P25\n",
      "folder G:\\Chamodi\\LSDYNA_1D\\Incident_pressure_time_history\\Far_field_time_history_dataset\\L13_47\n",
      "P13\n",
      "P17\n",
      "P21\n",
      "P25\n",
      "folder G:\\Chamodi\\LSDYNA_1D\\Incident_pressure_time_history\\Far_field_time_history_dataset\\L13_49\n",
      "P13\n",
      "P17\n",
      "P21\n",
      "P25\n",
      "folder G:\\Chamodi\\LSDYNA_1D\\Incident_pressure_time_history\\Far_field_time_history_dataset\\L13_5\n",
      "P13\n",
      "P17\n",
      "P21\n",
      "P25\n",
      "folder G:\\Chamodi\\LSDYNA_1D\\Incident_pressure_time_history\\Far_field_time_history_dataset\\L13_51\n",
      "P13\n",
      "P17\n",
      "P21\n",
      "P25\n",
      "folder G:\\Chamodi\\LSDYNA_1D\\Incident_pressure_time_history\\Far_field_time_history_dataset\\L13_53\n",
      "P13\n",
      "P17\n",
      "P21\n",
      "P25\n",
      "folder G:\\Chamodi\\LSDYNA_1D\\Incident_pressure_time_history\\Far_field_time_history_dataset\\L13_55\n",
      "P13\n",
      "P17\n",
      "P21\n",
      "P25\n",
      "folder G:\\Chamodi\\LSDYNA_1D\\Incident_pressure_time_history\\Far_field_time_history_dataset\\L13_57\n",
      "P13\n",
      "P17\n",
      "P21\n",
      "P25\n",
      "folder G:\\Chamodi\\LSDYNA_1D\\Incident_pressure_time_history\\Far_field_time_history_dataset\\L13_59\n",
      "P13\n",
      "P17\n",
      "P21\n",
      "P25\n",
      "folder G:\\Chamodi\\LSDYNA_1D\\Incident_pressure_time_history\\Far_field_time_history_dataset\\L13_61\n",
      "P13\n",
      "P17\n",
      "P21\n",
      "P25\n",
      "folder G:\\Chamodi\\LSDYNA_1D\\Incident_pressure_time_history\\Far_field_time_history_dataset\\L13_63\n",
      "P13\n",
      "P17\n",
      "P21\n",
      "P25\n",
      "folder G:\\Chamodi\\LSDYNA_1D\\Incident_pressure_time_history\\Far_field_time_history_dataset\\L13_65\n",
      "P13\n",
      "P17\n",
      "P21\n",
      "P25\n",
      "folder G:\\Chamodi\\LSDYNA_1D\\Incident_pressure_time_history\\Far_field_time_history_dataset\\L13_67\n",
      "P13\n",
      "P17\n",
      "P21\n",
      "P25\n",
      "folder G:\\Chamodi\\LSDYNA_1D\\Incident_pressure_time_history\\Far_field_time_history_dataset\\L13_69\n",
      "P13\n",
      "P17\n",
      "P21\n",
      "P25\n",
      "folder G:\\Chamodi\\LSDYNA_1D\\Incident_pressure_time_history\\Far_field_time_history_dataset\\L13_7\n",
      "P13\n",
      "P17\n",
      "P21\n",
      "P25\n",
      "folder G:\\Chamodi\\LSDYNA_1D\\Incident_pressure_time_history\\Far_field_time_history_dataset\\L13_70\n",
      "P13\n",
      "P17\n",
      "P21\n",
      "P25\n",
      "folder G:\\Chamodi\\LSDYNA_1D\\Incident_pressure_time_history\\Far_field_time_history_dataset\\L13_9\n",
      "P13\n",
      "P17\n",
      "P21\n",
      "P25\n"
     ]
    }
   ],
   "source": [
    "# Access each folder inside input folder\n",
    "dataset_train = pd.DataFrame(columns = ['Mass', 'Standoff distance', 'Time', 'Phase', 'Pressure'])\n",
    "df_list_train = []\n",
    "for folder_train in input_dir2_train:\n",
    "    \n",
    "    # Make a list of data file names\n",
    "    files_train = list(file_train for file_train in folder_train.rglob(\"*.xlsx\") if 12 < int(file_train.stem[1:]) < 26)\n",
    "    print (\"folder\", folder_train)\n",
    "    \n",
    "    for file_train in files_train:\n",
    "        df_list_train.append(pd.read_excel(file_train))\n",
    "        print (file_train.stem)\n",
    "\n",
    "dataset_train = pd.concat(df_list_train, ignore_index = True)"
   ]
  },
  {
   "cell_type": "code",
   "execution_count": 4,
   "metadata": {
    "colab": {},
    "colab_type": "code",
    "id": "B9CV13Co_HHM",
    "ExecuteTime": {
     "end_time": "2024-09-02T02:01:51.355717600Z",
     "start_time": "2024-09-02T02:01:51.260084600Z"
    }
   },
   "outputs": [
    {
     "name": "stdout",
     "output_type": "stream",
     "text": [
      "<class 'pandas.core.frame.DataFrame'>\n",
      "RangeIndex: 22812 entries, 0 to 22811\n",
      "Data columns (total 5 columns):\n",
      " #   Column             Non-Null Count  Dtype  \n",
      "---  ------             --------------  -----  \n",
      " 0   Mass               22812 non-null  float64\n",
      " 1   Standoff distance  22812 non-null  int64  \n",
      " 2   Time               22812 non-null  float64\n",
      " 3   Phase              22812 non-null  object \n",
      " 4   Pressure           22812 non-null  float64\n",
      "dtypes: float64(3), int64(1), object(1)\n",
      "memory usage: 891.2+ KB\n"
     ]
    }
   ],
   "source": [
    "dataset_train.info()"
   ]
  },
  {
   "cell_type": "code",
   "execution_count": 5,
   "outputs": [
    {
     "name": "stdout",
     "output_type": "stream",
     "text": [
      "<class 'pandas.core.frame.DataFrame'>\n",
      "RangeIndex: 22812 entries, 0 to 22811\n",
      "Data columns (total 6 columns):\n",
      " #   Column             Non-Null Count  Dtype  \n",
      "---  ------             --------------  -----  \n",
      " 0   Mass               22812 non-null  float64\n",
      " 1   Standoff distance  22812 non-null  int64  \n",
      " 2   Time               22812 non-null  float64\n",
      " 3   Pressure           22812 non-null  float64\n",
      " 4   Phase_negative     22812 non-null  uint8  \n",
      " 5   Phase_positive     22812 non-null  uint8  \n",
      "dtypes: float64(3), int64(1), uint8(2)\n",
      "memory usage: 757.6 KB\n"
     ]
    }
   ],
   "source": [
    "dataset_train = pd.get_dummies(dataset_train, columns =['Phase'], dtype = np.uint8)\n",
    "dataset_train.info()"
   ],
   "metadata": {
    "collapsed": false,
    "ExecuteTime": {
     "end_time": "2024-09-02T02:01:52.697077200Z",
     "start_time": "2024-09-02T02:01:52.598395Z"
    }
   }
  },
  {
   "cell_type": "code",
   "execution_count": 6,
   "outputs": [
    {
     "data": {
      "text/plain": "    Mass  Standoff distance       Time   Pressure  Phase_negative  \\\n0    0.5                  7  15.879823  12.668398               0   \n1    0.5                  7  15.889702  12.057688               0   \n2    0.5                  7  15.899993  12.399805               0   \n3    0.5                  7  15.909873  12.217992               0   \n4    0.5                  7  15.919754  12.204156               0   \n5    0.5                  7  15.939925  12.051352               0   \n6    0.5                  7  15.949804  12.006086               0   \n7    0.5                  7  15.959684  11.929445               0   \n8    0.5                  7  16.039958  11.425992               0   \n9    0.5                  7  16.169632  10.629063               0   \n10   0.5                  7  16.309597   9.800633               0   \n11   0.5                  7  16.449973   9.001875               0   \n12   0.5                  7  16.609699   8.130656               0   \n13   0.5                  7  16.779715   7.245492               0   \n14   0.5                  7  16.939852   6.449914               0   \n15   0.5                  7  17.109869   5.644352               0   \n16   0.5                  7  17.189732   5.278852               0   \n17   0.5                  7  17.279888   4.876148               0   \n18   0.5                  7  17.359750   4.528781               0   \n19   0.5                  7  17.449904   4.147102               0   \n20   0.5                  7  17.549938   3.734070               0   \n21   0.5                  7  17.649973   3.330852               0   \n22   0.5                  7  17.739715   2.979539               0   \n23   0.5                  7  17.829869   2.637883               0   \n24   0.5                  7  17.919611   2.307914               0   \n25   0.5                  7  18.029938   1.912852               0   \n26   0.5                  7  18.119682   1.600250               0   \n27   0.5                  7  18.219717   1.262211               0   \n28   0.5                  7  18.319752   0.934320               0   \n29   0.5                  7  18.419789   0.616352               0   \n\n    Phase_positive  \n0                1  \n1                1  \n2                1  \n3                1  \n4                1  \n5                1  \n6                1  \n7                1  \n8                1  \n9                1  \n10               1  \n11               1  \n12               1  \n13               1  \n14               1  \n15               1  \n16               1  \n17               1  \n18               1  \n19               1  \n20               1  \n21               1  \n22               1  \n23               1  \n24               1  \n25               1  \n26               1  \n27               1  \n28               1  \n29               1  ",
      "text/html": "<div>\n<style scoped>\n    .dataframe tbody tr th:only-of-type {\n        vertical-align: middle;\n    }\n\n    .dataframe tbody tr th {\n        vertical-align: top;\n    }\n\n    .dataframe thead th {\n        text-align: right;\n    }\n</style>\n<table border=\"1\" class=\"dataframe\">\n  <thead>\n    <tr style=\"text-align: right;\">\n      <th></th>\n      <th>Mass</th>\n      <th>Standoff distance</th>\n      <th>Time</th>\n      <th>Pressure</th>\n      <th>Phase_negative</th>\n      <th>Phase_positive</th>\n    </tr>\n  </thead>\n  <tbody>\n    <tr>\n      <th>0</th>\n      <td>0.5</td>\n      <td>7</td>\n      <td>15.879823</td>\n      <td>12.668398</td>\n      <td>0</td>\n      <td>1</td>\n    </tr>\n    <tr>\n      <th>1</th>\n      <td>0.5</td>\n      <td>7</td>\n      <td>15.889702</td>\n      <td>12.057688</td>\n      <td>0</td>\n      <td>1</td>\n    </tr>\n    <tr>\n      <th>2</th>\n      <td>0.5</td>\n      <td>7</td>\n      <td>15.899993</td>\n      <td>12.399805</td>\n      <td>0</td>\n      <td>1</td>\n    </tr>\n    <tr>\n      <th>3</th>\n      <td>0.5</td>\n      <td>7</td>\n      <td>15.909873</td>\n      <td>12.217992</td>\n      <td>0</td>\n      <td>1</td>\n    </tr>\n    <tr>\n      <th>4</th>\n      <td>0.5</td>\n      <td>7</td>\n      <td>15.919754</td>\n      <td>12.204156</td>\n      <td>0</td>\n      <td>1</td>\n    </tr>\n    <tr>\n      <th>5</th>\n      <td>0.5</td>\n      <td>7</td>\n      <td>15.939925</td>\n      <td>12.051352</td>\n      <td>0</td>\n      <td>1</td>\n    </tr>\n    <tr>\n      <th>6</th>\n      <td>0.5</td>\n      <td>7</td>\n      <td>15.949804</td>\n      <td>12.006086</td>\n      <td>0</td>\n      <td>1</td>\n    </tr>\n    <tr>\n      <th>7</th>\n      <td>0.5</td>\n      <td>7</td>\n      <td>15.959684</td>\n      <td>11.929445</td>\n      <td>0</td>\n      <td>1</td>\n    </tr>\n    <tr>\n      <th>8</th>\n      <td>0.5</td>\n      <td>7</td>\n      <td>16.039958</td>\n      <td>11.425992</td>\n      <td>0</td>\n      <td>1</td>\n    </tr>\n    <tr>\n      <th>9</th>\n      <td>0.5</td>\n      <td>7</td>\n      <td>16.169632</td>\n      <td>10.629063</td>\n      <td>0</td>\n      <td>1</td>\n    </tr>\n    <tr>\n      <th>10</th>\n      <td>0.5</td>\n      <td>7</td>\n      <td>16.309597</td>\n      <td>9.800633</td>\n      <td>0</td>\n      <td>1</td>\n    </tr>\n    <tr>\n      <th>11</th>\n      <td>0.5</td>\n      <td>7</td>\n      <td>16.449973</td>\n      <td>9.001875</td>\n      <td>0</td>\n      <td>1</td>\n    </tr>\n    <tr>\n      <th>12</th>\n      <td>0.5</td>\n      <td>7</td>\n      <td>16.609699</td>\n      <td>8.130656</td>\n      <td>0</td>\n      <td>1</td>\n    </tr>\n    <tr>\n      <th>13</th>\n      <td>0.5</td>\n      <td>7</td>\n      <td>16.779715</td>\n      <td>7.245492</td>\n      <td>0</td>\n      <td>1</td>\n    </tr>\n    <tr>\n      <th>14</th>\n      <td>0.5</td>\n      <td>7</td>\n      <td>16.939852</td>\n      <td>6.449914</td>\n      <td>0</td>\n      <td>1</td>\n    </tr>\n    <tr>\n      <th>15</th>\n      <td>0.5</td>\n      <td>7</td>\n      <td>17.109869</td>\n      <td>5.644352</td>\n      <td>0</td>\n      <td>1</td>\n    </tr>\n    <tr>\n      <th>16</th>\n      <td>0.5</td>\n      <td>7</td>\n      <td>17.189732</td>\n      <td>5.278852</td>\n      <td>0</td>\n      <td>1</td>\n    </tr>\n    <tr>\n      <th>17</th>\n      <td>0.5</td>\n      <td>7</td>\n      <td>17.279888</td>\n      <td>4.876148</td>\n      <td>0</td>\n      <td>1</td>\n    </tr>\n    <tr>\n      <th>18</th>\n      <td>0.5</td>\n      <td>7</td>\n      <td>17.359750</td>\n      <td>4.528781</td>\n      <td>0</td>\n      <td>1</td>\n    </tr>\n    <tr>\n      <th>19</th>\n      <td>0.5</td>\n      <td>7</td>\n      <td>17.449904</td>\n      <td>4.147102</td>\n      <td>0</td>\n      <td>1</td>\n    </tr>\n    <tr>\n      <th>20</th>\n      <td>0.5</td>\n      <td>7</td>\n      <td>17.549938</td>\n      <td>3.734070</td>\n      <td>0</td>\n      <td>1</td>\n    </tr>\n    <tr>\n      <th>21</th>\n      <td>0.5</td>\n      <td>7</td>\n      <td>17.649973</td>\n      <td>3.330852</td>\n      <td>0</td>\n      <td>1</td>\n    </tr>\n    <tr>\n      <th>22</th>\n      <td>0.5</td>\n      <td>7</td>\n      <td>17.739715</td>\n      <td>2.979539</td>\n      <td>0</td>\n      <td>1</td>\n    </tr>\n    <tr>\n      <th>23</th>\n      <td>0.5</td>\n      <td>7</td>\n      <td>17.829869</td>\n      <td>2.637883</td>\n      <td>0</td>\n      <td>1</td>\n    </tr>\n    <tr>\n      <th>24</th>\n      <td>0.5</td>\n      <td>7</td>\n      <td>17.919611</td>\n      <td>2.307914</td>\n      <td>0</td>\n      <td>1</td>\n    </tr>\n    <tr>\n      <th>25</th>\n      <td>0.5</td>\n      <td>7</td>\n      <td>18.029938</td>\n      <td>1.912852</td>\n      <td>0</td>\n      <td>1</td>\n    </tr>\n    <tr>\n      <th>26</th>\n      <td>0.5</td>\n      <td>7</td>\n      <td>18.119682</td>\n      <td>1.600250</td>\n      <td>0</td>\n      <td>1</td>\n    </tr>\n    <tr>\n      <th>27</th>\n      <td>0.5</td>\n      <td>7</td>\n      <td>18.219717</td>\n      <td>1.262211</td>\n      <td>0</td>\n      <td>1</td>\n    </tr>\n    <tr>\n      <th>28</th>\n      <td>0.5</td>\n      <td>7</td>\n      <td>18.319752</td>\n      <td>0.934320</td>\n      <td>0</td>\n      <td>1</td>\n    </tr>\n    <tr>\n      <th>29</th>\n      <td>0.5</td>\n      <td>7</td>\n      <td>18.419789</td>\n      <td>0.616352</td>\n      <td>0</td>\n      <td>1</td>\n    </tr>\n  </tbody>\n</table>\n</div>"
     },
     "execution_count": 6,
     "metadata": {},
     "output_type": "execute_result"
    }
   ],
   "source": [
    "dataset_train.head(30)"
   ],
   "metadata": {
    "collapsed": false,
    "ExecuteTime": {
     "end_time": "2024-09-02T02:01:54.093579400Z",
     "start_time": "2024-09-02T02:01:54.038497400Z"
    }
   }
  },
  {
   "cell_type": "code",
   "execution_count": 7,
   "metadata": {
    "ExecuteTime": {
     "end_time": "2024-09-02T02:01:55.692898800Z",
     "start_time": "2024-09-02T02:01:55.653855400Z"
    }
   },
   "outputs": [
    {
     "name": "stdout",
     "output_type": "stream",
     "text": [
      "(22812, 5) (22812,)\n"
     ]
    }
   ],
   "source": [
    "y = dataset_train['Pressure']\n",
    "X = dataset_train.drop(['Pressure'], axis=1)\n",
    "print(X.shape, y.shape)"
   ]
  },
  {
   "cell_type": "code",
   "execution_count": 8,
   "metadata": {
    "ExecuteTime": {
     "end_time": "2024-09-02T02:01:57.027950Z",
     "start_time": "2024-09-02T02:01:56.982415600Z"
    }
   },
   "outputs": [],
   "source": [
    "# convert to numpy array\n",
    "X = np.array(X)\n",
    "y = np.array(y)"
   ]
  },
  {
   "cell_type": "code",
   "execution_count": 9,
   "metadata": {
    "colab": {},
    "colab_type": "code",
    "id": "L5edeb2r_agx",
    "ExecuteTime": {
     "end_time": "2024-09-02T02:01:59.127024400Z",
     "start_time": "2024-09-02T02:01:58.208054100Z"
    }
   },
   "outputs": [],
   "source": [
    "from sklearn.model_selection import train_test_split\n",
    "X_train, X_test, y_train, y_test = train_test_split(X,\n",
    "                                                    y,\n",
    "                                                    test_size = 0.4,\n",
    "                                                    random_state = 0)"
   ]
  },
  {
   "cell_type": "code",
   "execution_count": 10,
   "metadata": {
    "colab": {},
    "colab_type": "code",
    "id": "L5edeb2r_agx",
    "ExecuteTime": {
     "end_time": "2024-09-02T02:02:00.362283600Z",
     "start_time": "2024-09-02T02:02:00.310258200Z"
    }
   },
   "outputs": [],
   "source": [
    "X_val, X_test, y_val, y_test = train_test_split(X_test,\n",
    "                                                y_test,\n",
    "                                                test_size = 0.5,\n",
    "                                                random_state = 0)"
   ]
  },
  {
   "cell_type": "code",
   "execution_count": 12,
   "outputs": [
    {
     "name": "stdout",
     "output_type": "stream",
     "text": [
      "[[ 1.00307321  0.61579357  0.20530401  1.          0.        ]\n",
      " [-0.55568784  1.227165    0.00202856  0.          1.        ]\n",
      " [-0.18892053 -0.60694929 -1.40189724  0.          1.        ]\n",
      " ...\n",
      " [ 0.08615494  1.227165    0.72337     1.          0.        ]\n",
      " [ 0.2695386   0.00442214 -0.27481232  1.          0.        ]\n",
      " [-0.83076332  0.00442214  0.64188528  1.          0.        ]]\n"
     ]
    }
   ],
   "source": [
    "from sklearn.preprocessing import StandardScaler\n",
    "#sc = StandardScaler()\n",
    "X_train[:,0:3] = sc.transform(X_train[:, 0:3])\n",
    "print (X_train)"
   ],
   "metadata": {
    "collapsed": false,
    "ExecuteTime": {
     "end_time": "2024-09-02T02:02:55.072025500Z",
     "start_time": "2024-09-02T02:02:54.991465500Z"
    }
   }
  },
  {
   "cell_type": "code",
   "execution_count": 13,
   "outputs": [
    {
     "name": "stdout",
     "output_type": "stream",
     "text": [
      "[[-0.00553688 -0.60694929  0.21399793  1.          0.        ]\n",
      " [ 0.45292225  0.61579357  1.83463468  1.          0.        ]\n",
      " [-0.92245514  0.00442214  0.6237001   1.          0.        ]\n",
      " ...\n",
      " [-0.46399601  1.227165    0.0819104   0.          1.        ]\n",
      " [-0.00553688  0.61579357 -0.63547936  0.          1.        ]\n",
      " [-1.38091427 -2.44106358 -0.97715461  1.          0.        ]]\n"
     ]
    }
   ],
   "source": [
    "X_test[:,0:3] = sc.transform(X_test[:,0:3])\n",
    "print (X_test)"
   ],
   "metadata": {
    "collapsed": false,
    "ExecuteTime": {
     "end_time": "2024-09-02T02:02:57.855257900Z",
     "start_time": "2024-09-02T02:02:57.804119600Z"
    }
   }
  },
  {
   "cell_type": "code",
   "execution_count": 14,
   "outputs": [
    {
     "name": "stdout",
     "output_type": "stream",
     "text": [
      "[[ 0.6363059   1.227165    1.42967666  1.          0.        ]\n",
      " [ 0.6363059   1.227165    0.84279969  1.          0.        ]\n",
      " [-1.28922245  1.227165   -0.03197679  0.          1.        ]\n",
      " ...\n",
      " [-0.09722871 -0.60694929 -1.05230526  1.          0.        ]\n",
      " [-1.38091427 -2.44106358 -0.83082991  1.          0.        ]\n",
      " [-1.19753062 -0.60694929 -0.90517867  1.          0.        ]]\n"
     ]
    }
   ],
   "source": [
    "X_val[:,0:3] = sc.transform(X_val[:,0:3])\n",
    "print (X_val)"
   ],
   "metadata": {
    "collapsed": false,
    "ExecuteTime": {
     "end_time": "2024-09-02T02:02:59.347204300Z",
     "start_time": "2024-09-02T02:02:59.295142500Z"
    }
   }
  },
  {
   "cell_type": "code",
   "execution_count": 15,
   "outputs": [
    {
     "name": "stdout",
     "output_type": "stream",
     "text": [
      "X_train 13687\n",
      "X_test 4563\n",
      "X_val 4562\n"
     ]
    }
   ],
   "source": [
    "print (\"X_train\", len(X_train))\n",
    "print (\"X_test\", len(X_test))\n",
    "print (\"X_val\", len(X_val))"
   ],
   "metadata": {
    "collapsed": false,
    "ExecuteTime": {
     "end_time": "2024-09-02T02:03:01.333203900Z",
     "start_time": "2024-09-02T02:03:01.281664800Z"
    }
   }
  },
  {
   "cell_type": "markdown",
   "metadata": {
    "colab_type": "text",
    "id": "_mSLlAT9_eyI"
   },
   "source": [
    "## Part 3 - Building the ANN"
   ]
  },
  {
   "cell_type": "code",
   "execution_count": 15,
   "metadata": {
    "colab": {},
    "colab_type": "code",
    "id": "J6Hd97Ls__Nz",
    "ExecuteTime": {
     "end_time": "2024-08-22T02:51:09.685008500Z",
     "start_time": "2024-08-22T02:51:09.458708900Z"
    }
   },
   "outputs": [],
   "source": [
    "ann = tf.keras.models.Sequential()"
   ]
  },
  {
   "cell_type": "code",
   "execution_count": 16,
   "metadata": {
    "colab": {},
    "colab_type": "code",
    "id": "ksO_Vv40AHix",
    "ExecuteTime": {
     "end_time": "2024-08-22T02:51:09.932757900Z",
     "start_time": "2024-08-22T02:51:09.687009300Z"
    }
   },
   "outputs": [],
   "source": [
    "ann.add(tf.keras.layers.Dense(units=150,\n",
    "                              input_shape=(X_train.shape[1],),\n",
    "                              activation='relu'))\n",
    "ann.add(tf.keras.layers.Dense(units=125,\n",
    "                              activation='relu'))\n",
    "ann.add(tf.keras.layers.Dense(units=100,\n",
    "                              activation='relu'))"
   ]
  },
  {
   "cell_type": "code",
   "execution_count": 17,
   "metadata": {
    "colab": {},
    "colab_type": "code",
    "id": "YFATpzsUAkLL",
    "ExecuteTime": {
     "end_time": "2024-08-22T02:51:10.023441700Z",
     "start_time": "2024-08-22T02:51:09.934766800Z"
    }
   },
   "outputs": [],
   "source": [
    "ann.add(tf.keras.layers.Dense(units=1,\n",
    "                              activation='linear'))"
   ]
  },
  {
   "cell_type": "code",
   "execution_count": 18,
   "metadata": {
    "ExecuteTime": {
     "end_time": "2024-08-22T02:51:10.149555200Z",
     "start_time": "2024-08-22T02:51:10.027441100Z"
    }
   },
   "outputs": [
    {
     "name": "stdout",
     "output_type": "stream",
     "text": [
      "Model: \"sequential\"\n",
      "_________________________________________________________________\n",
      " Layer (type)                Output Shape              Param #   \n",
      "=================================================================\n",
      " dense (Dense)               (None, 150)               900       \n",
      "                                                                 \n",
      " dense_1 (Dense)             (None, 125)               18875     \n",
      "                                                                 \n",
      " dense_2 (Dense)             (None, 100)               12600     \n",
      "                                                                 \n",
      " dense_3 (Dense)             (None, 1)                 101       \n",
      "                                                                 \n",
      "=================================================================\n",
      "Total params: 32,476\n",
      "Trainable params: 32,476\n",
      "Non-trainable params: 0\n",
      "_________________________________________________________________\n"
     ]
    }
   ],
   "source": [
    "ann.summary()"
   ]
  },
  {
   "cell_type": "markdown",
   "metadata": {
    "colab_type": "text",
    "id": "fq7e4fF6A1yy"
   },
   "source": [
    "## Part 4 - Training the ANN"
   ]
  },
  {
   "cell_type": "code",
   "execution_count": 19,
   "metadata": {
    "colab": {},
    "colab_type": "code",
    "id": "pesgbWlCAtB4",
    "ExecuteTime": {
     "end_time": "2024-08-22T02:51:10.248632800Z",
     "start_time": "2024-08-22T02:51:10.119016800Z"
    }
   },
   "outputs": [],
   "source": [
    "# from tensorflow.keras.optimizers import Adam\n",
    "from keras.optimizers import Adam\n",
    "opt = Adam(learning_rate=0.001)\n",
    "ann.compile(optimizer = opt,\n",
    "            loss = 'mean_squared_error',\n",
    "            metrics = ['mae'])"
   ]
  },
  {
   "cell_type": "code",
   "execution_count": 20,
   "metadata": {
    "ExecuteTime": {
     "end_time": "2024-08-22T02:51:10.313440200Z",
     "start_time": "2024-08-22T02:51:10.222612900Z"
    }
   },
   "outputs": [],
   "source": [
    "# protects from unnecessary further training of the model if a particular metric does not continue to improve over a number of n epochs. In such a case, the model training would be automatically aborted.\n",
    "from keras.callbacks import EarlyStopping\n",
    "es = EarlyStopping(monitor='val_loss',\n",
    "                   mode='min',\n",
    "                   patience=50,\n",
    "                   restore_best_weights = True)"
   ]
  },
  {
   "cell_type": "code",
   "execution_count": 21,
   "metadata": {
    "colab": {
     "base_uri": "https://localhost:8080/",
     "height": 1000
    },
    "colab_type": "code",
    "id": "c_vV-tiiA5zn",
    "outputId": "4a2b6ee6-ed75-4698-9069-b250e613803f",
    "ExecuteTime": {
     "end_time": "2024-08-22T03:01:19.942870400Z",
     "start_time": "2024-08-22T02:51:10.314442700Z"
    }
   },
   "outputs": [
    {
     "name": "stdout",
     "output_type": "stream",
     "text": [
      "Epoch 1/500\n",
      "457/457 [==============================] - 38s 82ms/step - loss: 89.8495 - mae: 4.9069 - val_loss: 46.8001 - val_mae: 3.7283\n",
      "Epoch 2/500\n",
      "457/457 [==============================] - 2s 4ms/step - loss: 26.9338 - mae: 2.7676 - val_loss: 11.9778 - val_mae: 2.1722\n",
      "Epoch 3/500\n",
      "457/457 [==============================] - 2s 4ms/step - loss: 11.6973 - mae: 2.0380 - val_loss: 7.3523 - val_mae: 1.6597\n",
      "Epoch 4/500\n",
      "457/457 [==============================] - 2s 4ms/step - loss: 7.7338 - mae: 1.7202 - val_loss: 8.4144 - val_mae: 1.8618\n",
      "Epoch 5/500\n",
      "457/457 [==============================] - 2s 4ms/step - loss: 7.1479 - mae: 1.6257 - val_loss: 5.3466 - val_mae: 1.4390\n",
      "Epoch 6/500\n",
      "457/457 [==============================] - 2s 4ms/step - loss: 6.4892 - mae: 1.5738 - val_loss: 5.0082 - val_mae: 1.3757\n",
      "Epoch 7/500\n",
      "457/457 [==============================] - 2s 4ms/step - loss: 6.8782 - mae: 1.5523 - val_loss: 4.5228 - val_mae: 1.2625\n",
      "Epoch 8/500\n",
      "457/457 [==============================] - 2s 4ms/step - loss: 4.8573 - mae: 1.3466 - val_loss: 7.2245 - val_mae: 1.6893\n",
      "Epoch 9/500\n",
      "457/457 [==============================] - 2s 4ms/step - loss: 6.7517 - mae: 1.5715 - val_loss: 11.3285 - val_mae: 2.0370\n",
      "Epoch 10/500\n",
      "457/457 [==============================] - 2s 4ms/step - loss: 4.8266 - mae: 1.3443 - val_loss: 3.8958 - val_mae: 1.2166\n",
      "Epoch 11/500\n",
      "457/457 [==============================] - 3s 6ms/step - loss: 4.8423 - mae: 1.3506 - val_loss: 3.7608 - val_mae: 1.1575\n",
      "Epoch 12/500\n",
      "457/457 [==============================] - 2s 4ms/step - loss: 6.1318 - mae: 1.4761 - val_loss: 4.1016 - val_mae: 1.3639\n",
      "Epoch 13/500\n",
      "457/457 [==============================] - 2s 4ms/step - loss: 4.2387 - mae: 1.2858 - val_loss: 3.1963 - val_mae: 1.0085\n",
      "Epoch 14/500\n",
      "457/457 [==============================] - 2s 4ms/step - loss: 3.9419 - mae: 1.2011 - val_loss: 3.4626 - val_mae: 1.0945\n",
      "Epoch 15/500\n",
      "457/457 [==============================] - 2s 4ms/step - loss: 4.0815 - mae: 1.2156 - val_loss: 12.1269 - val_mae: 2.1847\n",
      "Epoch 16/500\n",
      "457/457 [==============================] - 2s 4ms/step - loss: 4.3943 - mae: 1.2683 - val_loss: 4.1889 - val_mae: 1.2994\n",
      "Epoch 17/500\n",
      "457/457 [==============================] - 2s 4ms/step - loss: 3.6822 - mae: 1.1688 - val_loss: 3.2825 - val_mae: 1.0182\n",
      "Epoch 18/500\n",
      "457/457 [==============================] - 2s 4ms/step - loss: 3.8090 - mae: 1.1650 - val_loss: 3.1647 - val_mae: 1.0536\n",
      "Epoch 19/500\n",
      "457/457 [==============================] - 2s 4ms/step - loss: 4.7648 - mae: 1.2747 - val_loss: 4.4966 - val_mae: 1.2705\n",
      "Epoch 20/500\n",
      "457/457 [==============================] - 2s 4ms/step - loss: 3.2901 - mae: 1.0411 - val_loss: 2.9431 - val_mae: 0.8726\n",
      "Epoch 21/500\n",
      "457/457 [==============================] - 2s 4ms/step - loss: 3.4568 - mae: 1.0531 - val_loss: 3.8998 - val_mae: 1.1060\n",
      "Epoch 22/500\n",
      "457/457 [==============================] - 2s 5ms/step - loss: 3.9822 - mae: 1.1512 - val_loss: 3.3533 - val_mae: 1.1329\n",
      "Epoch 23/500\n",
      "457/457 [==============================] - 2s 4ms/step - loss: 3.3790 - mae: 1.0245 - val_loss: 3.5546 - val_mae: 1.0472\n",
      "Epoch 24/500\n",
      "457/457 [==============================] - 2s 4ms/step - loss: 4.3243 - mae: 1.1676 - val_loss: 2.7115 - val_mae: 0.8415\n",
      "Epoch 25/500\n",
      "457/457 [==============================] - 3s 5ms/step - loss: 3.0529 - mae: 0.9644 - val_loss: 2.8870 - val_mae: 0.9894\n",
      "Epoch 26/500\n",
      "457/457 [==============================] - 2s 4ms/step - loss: 3.7707 - mae: 1.0663 - val_loss: 2.3641 - val_mae: 0.7715\n",
      "Epoch 27/500\n",
      "457/457 [==============================] - 2s 4ms/step - loss: 3.7668 - mae: 1.0680 - val_loss: 8.0028 - val_mae: 1.9764\n",
      "Epoch 28/500\n",
      "457/457 [==============================] - 2s 4ms/step - loss: 4.0887 - mae: 1.0595 - val_loss: 3.4519 - val_mae: 1.0806\n",
      "Epoch 29/500\n",
      "457/457 [==============================] - 2s 4ms/step - loss: 3.1602 - mae: 0.9508 - val_loss: 6.0972 - val_mae: 1.2878\n",
      "Epoch 30/500\n",
      "457/457 [==============================] - 2s 4ms/step - loss: 3.1145 - mae: 0.9540 - val_loss: 2.3546 - val_mae: 0.7453\n",
      "Epoch 31/500\n",
      "457/457 [==============================] - 2s 4ms/step - loss: 2.9475 - mae: 0.9215 - val_loss: 2.3780 - val_mae: 0.7459\n",
      "Epoch 32/500\n",
      "457/457 [==============================] - 2s 5ms/step - loss: 3.3529 - mae: 0.9428 - val_loss: 2.5215 - val_mae: 0.7410\n",
      "Epoch 33/500\n",
      "457/457 [==============================] - 2s 4ms/step - loss: 2.6079 - mae: 0.8437 - val_loss: 2.2734 - val_mae: 0.7967\n",
      "Epoch 34/500\n",
      "457/457 [==============================] - 2s 4ms/step - loss: 3.3026 - mae: 0.9477 - val_loss: 2.8154 - val_mae: 0.8756\n",
      "Epoch 35/500\n",
      "457/457 [==============================] - 2s 4ms/step - loss: 3.9861 - mae: 1.0115 - val_loss: 2.8372 - val_mae: 0.8146\n",
      "Epoch 36/500\n",
      "457/457 [==============================] - 2s 4ms/step - loss: 2.5621 - mae: 0.8255 - val_loss: 2.2744 - val_mae: 0.7417\n",
      "Epoch 37/500\n",
      "457/457 [==============================] - 2s 4ms/step - loss: 2.8611 - mae: 0.8799 - val_loss: 2.2592 - val_mae: 0.7513\n",
      "Epoch 38/500\n",
      "457/457 [==============================] - 2s 4ms/step - loss: 3.3201 - mae: 0.9404 - val_loss: 2.1300 - val_mae: 0.7459\n",
      "Epoch 39/500\n",
      "457/457 [==============================] - 3s 6ms/step - loss: 4.0945 - mae: 1.0193 - val_loss: 3.3248 - val_mae: 0.8911\n",
      "Epoch 40/500\n",
      "457/457 [==============================] - 2s 4ms/step - loss: 2.5379 - mae: 0.8025 - val_loss: 2.2762 - val_mae: 0.6862\n",
      "Epoch 41/500\n",
      "457/457 [==============================] - 2s 4ms/step - loss: 3.4316 - mae: 0.9491 - val_loss: 3.1469 - val_mae: 0.9316\n",
      "Epoch 42/500\n",
      "457/457 [==============================] - 2s 4ms/step - loss: 3.8418 - mae: 0.9979 - val_loss: 2.6910 - val_mae: 0.8775\n",
      "Epoch 43/500\n",
      "457/457 [==============================] - 2s 4ms/step - loss: 2.5938 - mae: 0.8169 - val_loss: 2.4007 - val_mae: 0.9067\n",
      "Epoch 44/500\n",
      "457/457 [==============================] - 2s 4ms/step - loss: 2.7565 - mae: 0.8626 - val_loss: 2.4167 - val_mae: 0.7680\n",
      "Epoch 45/500\n",
      "457/457 [==============================] - 2s 4ms/step - loss: 2.5746 - mae: 0.7968 - val_loss: 2.7176 - val_mae: 0.8929\n",
      "Epoch 46/500\n",
      "457/457 [==============================] - 2s 4ms/step - loss: 3.0227 - mae: 0.8665 - val_loss: 2.9784 - val_mae: 0.8538\n",
      "Epoch 47/500\n",
      "457/457 [==============================] - 2s 4ms/step - loss: 2.7759 - mae: 0.8400 - val_loss: 2.3984 - val_mae: 0.8709\n",
      "Epoch 48/500\n",
      "457/457 [==============================] - 2s 4ms/step - loss: 2.9505 - mae: 0.8754 - val_loss: 2.1457 - val_mae: 0.7122\n",
      "Epoch 49/500\n",
      "457/457 [==============================] - 2s 4ms/step - loss: 3.1167 - mae: 0.8991 - val_loss: 5.1290 - val_mae: 1.1209\n",
      "Epoch 50/500\n",
      "457/457 [==============================] - 2s 4ms/step - loss: 2.5919 - mae: 0.7904 - val_loss: 2.4014 - val_mae: 0.8985\n",
      "Epoch 51/500\n",
      "457/457 [==============================] - 2s 4ms/step - loss: 2.5609 - mae: 0.7612 - val_loss: 2.0065 - val_mae: 0.5907\n",
      "Epoch 52/500\n",
      "457/457 [==============================] - 2s 4ms/step - loss: 3.2736 - mae: 0.8777 - val_loss: 1.8433 - val_mae: 0.5961\n",
      "Epoch 53/500\n",
      "457/457 [==============================] - 2s 4ms/step - loss: 2.6324 - mae: 0.7987 - val_loss: 1.9690 - val_mae: 0.6815\n",
      "Epoch 54/500\n",
      "457/457 [==============================] - 3s 7ms/step - loss: 3.6371 - mae: 0.9505 - val_loss: 5.7230 - val_mae: 1.1336\n",
      "Epoch 55/500\n",
      "457/457 [==============================] - 2s 4ms/step - loss: 2.6581 - mae: 0.7984 - val_loss: 1.7218 - val_mae: 0.5714\n",
      "Epoch 56/500\n",
      "457/457 [==============================] - 2s 4ms/step - loss: 2.3403 - mae: 0.7161 - val_loss: 2.5735 - val_mae: 0.7104\n",
      "Epoch 57/500\n",
      "457/457 [==============================] - 2s 4ms/step - loss: 3.3202 - mae: 0.8991 - val_loss: 2.2659 - val_mae: 0.6741\n",
      "Epoch 58/500\n",
      "457/457 [==============================] - 2s 4ms/step - loss: 2.3087 - mae: 0.7171 - val_loss: 1.8981 - val_mae: 0.6669\n",
      "Epoch 59/500\n",
      "457/457 [==============================] - 2s 4ms/step - loss: 3.0833 - mae: 0.8591 - val_loss: 2.2137 - val_mae: 0.7800\n",
      "Epoch 60/500\n",
      "457/457 [==============================] - 2s 4ms/step - loss: 2.2850 - mae: 0.7146 - val_loss: 1.8579 - val_mae: 0.5991\n",
      "Epoch 61/500\n",
      "457/457 [==============================] - 2s 4ms/step - loss: 2.6719 - mae: 0.7863 - val_loss: 2.1641 - val_mae: 0.7690\n",
      "Epoch 62/500\n",
      "457/457 [==============================] - 2s 4ms/step - loss: 2.4588 - mae: 0.7533 - val_loss: 2.8476 - val_mae: 0.9154\n",
      "Epoch 63/500\n",
      "457/457 [==============================] - 2s 4ms/step - loss: 2.6670 - mae: 0.8094 - val_loss: 3.0118 - val_mae: 0.7949\n",
      "Epoch 64/500\n",
      "457/457 [==============================] - 2s 4ms/step - loss: 2.6248 - mae: 0.7840 - val_loss: 2.8526 - val_mae: 0.6665\n",
      "Epoch 65/500\n",
      "457/457 [==============================] - 2s 5ms/step - loss: 2.5491 - mae: 0.7548 - val_loss: 1.9413 - val_mae: 0.6123\n",
      "Epoch 66/500\n",
      "457/457 [==============================] - 2s 4ms/step - loss: 2.7993 - mae: 0.7950 - val_loss: 1.7521 - val_mae: 0.5908\n",
      "Epoch 67/500\n",
      "457/457 [==============================] - 2s 4ms/step - loss: 2.9376 - mae: 0.8210 - val_loss: 3.2449 - val_mae: 0.9900\n",
      "Epoch 68/500\n",
      "457/457 [==============================] - 2s 4ms/step - loss: 2.3307 - mae: 0.7056 - val_loss: 2.5406 - val_mae: 0.7585\n",
      "Epoch 69/500\n",
      "457/457 [==============================] - 3s 6ms/step - loss: 2.4190 - mae: 0.7154 - val_loss: 2.6510 - val_mae: 0.8396\n",
      "Epoch 70/500\n",
      "457/457 [==============================] - 2s 4ms/step - loss: 3.1083 - mae: 0.8342 - val_loss: 1.8511 - val_mae: 0.5975\n",
      "Epoch 71/500\n",
      "457/457 [==============================] - 2s 4ms/step - loss: 3.5055 - mae: 0.8907 - val_loss: 1.8677 - val_mae: 0.5871\n",
      "Epoch 72/500\n",
      "457/457 [==============================] - 2s 4ms/step - loss: 2.2341 - mae: 0.6719 - val_loss: 1.7622 - val_mae: 0.5690\n",
      "Epoch 73/500\n",
      "457/457 [==============================] - 2s 4ms/step - loss: 2.6223 - mae: 0.7426 - val_loss: 2.0422 - val_mae: 0.5970\n",
      "Epoch 74/500\n",
      "457/457 [==============================] - 2s 4ms/step - loss: 2.1177 - mae: 0.6494 - val_loss: 1.6724 - val_mae: 0.5748\n",
      "Epoch 75/500\n",
      "457/457 [==============================] - 2s 4ms/step - loss: 2.3605 - mae: 0.7120 - val_loss: 2.8255 - val_mae: 0.7307\n",
      "Epoch 76/500\n",
      "457/457 [==============================] - 2s 4ms/step - loss: 3.0110 - mae: 0.8157 - val_loss: 2.3153 - val_mae: 0.6848\n",
      "Epoch 77/500\n",
      "457/457 [==============================] - 2s 5ms/step - loss: 2.0917 - mae: 0.6335 - val_loss: 1.9854 - val_mae: 0.6347\n",
      "Epoch 78/500\n",
      "457/457 [==============================] - 2s 5ms/step - loss: 2.8793 - mae: 0.7859 - val_loss: 2.4592 - val_mae: 0.7451\n",
      "Epoch 79/500\n",
      "457/457 [==============================] - 2s 4ms/step - loss: 2.3622 - mae: 0.7075 - val_loss: 2.2251 - val_mae: 0.7116\n",
      "Epoch 80/500\n",
      "457/457 [==============================] - 2s 4ms/step - loss: 2.1895 - mae: 0.6684 - val_loss: 1.6563 - val_mae: 0.5752\n",
      "Epoch 81/500\n",
      "457/457 [==============================] - 2s 4ms/step - loss: 2.1667 - mae: 0.6626 - val_loss: 1.8753 - val_mae: 0.6629\n",
      "Epoch 82/500\n",
      "457/457 [==============================] - 2s 4ms/step - loss: 2.4895 - mae: 0.7136 - val_loss: 2.1785 - val_mae: 0.7207\n",
      "Epoch 83/500\n",
      "457/457 [==============================] - 3s 6ms/step - loss: 2.6178 - mae: 0.7562 - val_loss: 1.6333 - val_mae: 0.5667\n",
      "Epoch 84/500\n",
      "457/457 [==============================] - 2s 4ms/step - loss: 2.8875 - mae: 0.7749 - val_loss: 2.6538 - val_mae: 0.8126\n",
      "Epoch 85/500\n",
      "457/457 [==============================] - 2s 4ms/step - loss: 2.5916 - mae: 0.7270 - val_loss: 1.9700 - val_mae: 0.6098\n",
      "Epoch 86/500\n",
      "457/457 [==============================] - 2s 4ms/step - loss: 1.9959 - mae: 0.6123 - val_loss: 1.6159 - val_mae: 0.5777\n",
      "Epoch 87/500\n",
      "457/457 [==============================] - 2s 4ms/step - loss: 2.6377 - mae: 0.7587 - val_loss: 1.9599 - val_mae: 0.5856\n",
      "Epoch 88/500\n",
      "457/457 [==============================] - 2s 4ms/step - loss: 2.1172 - mae: 0.6398 - val_loss: 2.0288 - val_mae: 0.6838\n",
      "Epoch 89/500\n",
      "457/457 [==============================] - 2s 4ms/step - loss: 2.5573 - mae: 0.7371 - val_loss: 1.7306 - val_mae: 0.5114\n",
      "Epoch 90/500\n",
      "457/457 [==============================] - 2s 4ms/step - loss: 2.2176 - mae: 0.6817 - val_loss: 2.6133 - val_mae: 0.7098\n",
      "Epoch 91/500\n",
      "457/457 [==============================] - 2s 4ms/step - loss: 2.0771 - mae: 0.6403 - val_loss: 1.7832 - val_mae: 0.6025\n",
      "Epoch 92/500\n",
      "457/457 [==============================] - 2s 4ms/step - loss: 3.2454 - mae: 0.8103 - val_loss: 1.7979 - val_mae: 0.5925\n",
      "Epoch 93/500\n",
      "457/457 [==============================] - 2s 4ms/step - loss: 2.1558 - mae: 0.6436 - val_loss: 2.1052 - val_mae: 0.5860\n",
      "Epoch 94/500\n",
      "457/457 [==============================] - 2s 4ms/step - loss: 1.9780 - mae: 0.6105 - val_loss: 3.1047 - val_mae: 0.9292\n",
      "Epoch 95/500\n",
      "457/457 [==============================] - 2s 4ms/step - loss: 2.3457 - mae: 0.6859 - val_loss: 2.7981 - val_mae: 0.9270\n",
      "Epoch 96/500\n",
      "457/457 [==============================] - 2s 4ms/step - loss: 2.9074 - mae: 0.7435 - val_loss: 2.3711 - val_mae: 0.7809\n",
      "Epoch 97/500\n",
      "457/457 [==============================] - 2s 4ms/step - loss: 2.3999 - mae: 0.6786 - val_loss: 1.5151 - val_mae: 0.4911\n",
      "Epoch 98/500\n",
      "457/457 [==============================] - 3s 7ms/step - loss: 1.9381 - mae: 0.5918 - val_loss: 6.0211 - val_mae: 1.1763\n",
      "Epoch 99/500\n",
      "457/457 [==============================] - 2s 4ms/step - loss: 2.3954 - mae: 0.6981 - val_loss: 2.6785 - val_mae: 0.8053\n",
      "Epoch 100/500\n",
      "457/457 [==============================] - 2s 4ms/step - loss: 2.1750 - mae: 0.6357 - val_loss: 1.9648 - val_mae: 0.7025\n",
      "Epoch 101/500\n",
      "457/457 [==============================] - 2s 4ms/step - loss: 2.3639 - mae: 0.6946 - val_loss: 2.2187 - val_mae: 0.7016\n",
      "Epoch 102/500\n",
      "457/457 [==============================] - 2s 4ms/step - loss: 2.4537 - mae: 0.7406 - val_loss: 2.9996 - val_mae: 0.9427\n",
      "Epoch 103/500\n",
      "457/457 [==============================] - 2s 4ms/step - loss: 2.2751 - mae: 0.6714 - val_loss: 1.5835 - val_mae: 0.4842\n",
      "Epoch 104/500\n",
      "457/457 [==============================] - 2s 4ms/step - loss: 3.2001 - mae: 0.8029 - val_loss: 1.8145 - val_mae: 0.5826\n",
      "Epoch 105/500\n",
      "457/457 [==============================] - 2s 4ms/step - loss: 2.1374 - mae: 0.6393 - val_loss: 1.6242 - val_mae: 0.5547\n",
      "Epoch 106/500\n",
      "457/457 [==============================] - 2s 4ms/step - loss: 2.1213 - mae: 0.6474 - val_loss: 1.8378 - val_mae: 0.6083\n",
      "Epoch 107/500\n",
      "457/457 [==============================] - 2s 4ms/step - loss: 2.0785 - mae: 0.6365 - val_loss: 3.7142 - val_mae: 0.9831\n",
      "Epoch 108/500\n",
      "457/457 [==============================] - 2s 4ms/step - loss: 3.0771 - mae: 0.7164 - val_loss: 9.7308 - val_mae: 1.5822\n",
      "Epoch 109/500\n",
      "457/457 [==============================] - 2s 4ms/step - loss: 3.0372 - mae: 0.7912 - val_loss: 1.8647 - val_mae: 0.6421\n",
      "Epoch 110/500\n",
      "457/457 [==============================] - 2s 4ms/step - loss: 1.9921 - mae: 0.6031 - val_loss: 1.9680 - val_mae: 0.5292\n",
      "Epoch 111/500\n",
      "457/457 [==============================] - 2s 4ms/step - loss: 2.0721 - mae: 0.6396 - val_loss: 2.0963 - val_mae: 0.6351\n",
      "Epoch 112/500\n",
      "457/457 [==============================] - 2s 4ms/step - loss: 2.0765 - mae: 0.6189 - val_loss: 3.4032 - val_mae: 0.6731\n",
      "Epoch 113/500\n",
      "457/457 [==============================] - 3s 6ms/step - loss: 2.1124 - mae: 0.6320 - val_loss: 2.0093 - val_mae: 0.6671\n",
      "Epoch 114/500\n",
      "457/457 [==============================] - 2s 4ms/step - loss: 2.1908 - mae: 0.6361 - val_loss: 1.7471 - val_mae: 0.6071\n",
      "Epoch 115/500\n",
      "457/457 [==============================] - 2s 4ms/step - loss: 2.3074 - mae: 0.6679 - val_loss: 2.1359 - val_mae: 0.5604\n",
      "Epoch 116/500\n",
      "457/457 [==============================] - 2s 4ms/step - loss: 3.7117 - mae: 0.7576 - val_loss: 1.6404 - val_mae: 0.5265\n",
      "Epoch 117/500\n",
      "457/457 [==============================] - 2s 4ms/step - loss: 1.9089 - mae: 0.5750 - val_loss: 1.6054 - val_mae: 0.5137\n",
      "Epoch 118/500\n",
      "457/457 [==============================] - 2s 4ms/step - loss: 1.8963 - mae: 0.5526 - val_loss: 1.5752 - val_mae: 0.5279\n",
      "Epoch 119/500\n",
      "457/457 [==============================] - 2s 4ms/step - loss: 2.4518 - mae: 0.7087 - val_loss: 1.6575 - val_mae: 0.5782\n",
      "Epoch 120/500\n",
      "457/457 [==============================] - 2s 4ms/step - loss: 2.1367 - mae: 0.6379 - val_loss: 2.3831 - val_mae: 0.7481\n",
      "Epoch 121/500\n",
      "457/457 [==============================] - 2s 4ms/step - loss: 1.9193 - mae: 0.5879 - val_loss: 1.9868 - val_mae: 0.5037\n",
      "Epoch 122/500\n",
      "457/457 [==============================] - 2s 4ms/step - loss: 2.0095 - mae: 0.6009 - val_loss: 1.6455 - val_mae: 0.5489\n",
      "Epoch 123/500\n",
      "457/457 [==============================] - 2s 4ms/step - loss: 2.1999 - mae: 0.6345 - val_loss: 2.5913 - val_mae: 0.7490\n",
      "Epoch 124/500\n",
      "457/457 [==============================] - 2s 4ms/step - loss: 2.4100 - mae: 0.7075 - val_loss: 2.1210 - val_mae: 0.5387\n",
      "Epoch 125/500\n",
      "457/457 [==============================] - 2s 4ms/step - loss: 2.8248 - mae: 0.7379 - val_loss: 3.5971 - val_mae: 0.8653\n",
      "Epoch 126/500\n",
      "457/457 [==============================] - 2s 4ms/step - loss: 2.0127 - mae: 0.6076 - val_loss: 1.5958 - val_mae: 0.5204\n",
      "Epoch 127/500\n",
      "457/457 [==============================] - 2s 4ms/step - loss: 2.3927 - mae: 0.6909 - val_loss: 2.4287 - val_mae: 0.7940\n",
      "Epoch 128/500\n",
      "457/457 [==============================] - 2s 4ms/step - loss: 2.6252 - mae: 0.7156 - val_loss: 1.8614 - val_mae: 0.7084\n",
      "Epoch 129/500\n",
      "457/457 [==============================] - 3s 6ms/step - loss: 1.8532 - mae: 0.5717 - val_loss: 1.4256 - val_mae: 0.5112\n",
      "Epoch 130/500\n",
      "457/457 [==============================] - 2s 5ms/step - loss: 1.9332 - mae: 0.6014 - val_loss: 1.4601 - val_mae: 0.4767\n",
      "Epoch 131/500\n",
      "457/457 [==============================] - 2s 4ms/step - loss: 1.9538 - mae: 0.6003 - val_loss: 1.9261 - val_mae: 0.6585\n",
      "Epoch 132/500\n",
      "457/457 [==============================] - 2s 4ms/step - loss: 2.2796 - mae: 0.6791 - val_loss: 2.7550 - val_mae: 0.7720\n",
      "Epoch 133/500\n",
      "457/457 [==============================] - 2s 4ms/step - loss: 2.1332 - mae: 0.6637 - val_loss: 2.2585 - val_mae: 0.7123\n",
      "Epoch 134/500\n",
      "457/457 [==============================] - 2s 4ms/step - loss: 2.2166 - mae: 0.6587 - val_loss: 1.9529 - val_mae: 0.6424\n",
      "Epoch 135/500\n",
      "457/457 [==============================] - 2s 5ms/step - loss: 2.2691 - mae: 0.6715 - val_loss: 1.7689 - val_mae: 0.5721\n",
      "Epoch 136/500\n",
      "457/457 [==============================] - 2s 4ms/step - loss: 2.0407 - mae: 0.5955 - val_loss: 1.6225 - val_mae: 0.5463\n",
      "Epoch 137/500\n",
      "457/457 [==============================] - 2s 4ms/step - loss: 2.0900 - mae: 0.6147 - val_loss: 1.9503 - val_mae: 0.6774\n",
      "Epoch 138/500\n",
      "457/457 [==============================] - 2s 4ms/step - loss: 2.1997 - mae: 0.6641 - val_loss: 2.1888 - val_mae: 0.5798\n",
      "Epoch 139/500\n",
      "457/457 [==============================] - 2s 4ms/step - loss: 2.1299 - mae: 0.6306 - val_loss: 1.6487 - val_mae: 0.5298\n",
      "Epoch 140/500\n",
      "457/457 [==============================] - 2s 4ms/step - loss: 2.3227 - mae: 0.6698 - val_loss: 1.9070 - val_mae: 0.6018\n",
      "Epoch 141/500\n",
      "457/457 [==============================] - 2s 4ms/step - loss: 2.3429 - mae: 0.6866 - val_loss: 1.7859 - val_mae: 0.6081\n",
      "Epoch 142/500\n",
      "457/457 [==============================] - 2s 4ms/step - loss: 2.0544 - mae: 0.6102 - val_loss: 1.4900 - val_mae: 0.5171\n",
      "Epoch 143/500\n",
      "457/457 [==============================] - 2s 4ms/step - loss: 1.9351 - mae: 0.5848 - val_loss: 1.7306 - val_mae: 0.5212\n",
      "Epoch 144/500\n",
      "457/457 [==============================] - 3s 6ms/step - loss: 2.5008 - mae: 0.6881 - val_loss: 3.1197 - val_mae: 0.8449\n",
      "Epoch 145/500\n",
      "457/457 [==============================] - 2s 4ms/step - loss: 1.9175 - mae: 0.5878 - val_loss: 1.5201 - val_mae: 0.5143\n",
      "Epoch 146/500\n",
      "457/457 [==============================] - 2s 4ms/step - loss: 1.8880 - mae: 0.5879 - val_loss: 1.8187 - val_mae: 0.4937\n",
      "Epoch 147/500\n",
      "457/457 [==============================] - 2s 4ms/step - loss: 2.7325 - mae: 0.7252 - val_loss: 2.1663 - val_mae: 0.6857\n",
      "Epoch 148/500\n",
      "457/457 [==============================] - 2s 4ms/step - loss: 2.2108 - mae: 0.6456 - val_loss: 1.3865 - val_mae: 0.4568\n",
      "Epoch 149/500\n",
      "457/457 [==============================] - 2s 4ms/step - loss: 2.0477 - mae: 0.6195 - val_loss: 2.3226 - val_mae: 0.7443\n",
      "Epoch 150/500\n",
      "457/457 [==============================] - 2s 4ms/step - loss: 2.0669 - mae: 0.6081 - val_loss: 1.5855 - val_mae: 0.5094\n",
      "Epoch 151/500\n",
      "457/457 [==============================] - 2s 4ms/step - loss: 2.0352 - mae: 0.5939 - val_loss: 1.7253 - val_mae: 0.6176\n",
      "Epoch 152/500\n",
      "457/457 [==============================] - 2s 4ms/step - loss: 3.1372 - mae: 0.7160 - val_loss: 1.7318 - val_mae: 0.5794\n",
      "Epoch 153/500\n",
      "457/457 [==============================] - 2s 4ms/step - loss: 1.9798 - mae: 0.5973 - val_loss: 1.7293 - val_mae: 0.5380\n",
      "Epoch 154/500\n",
      "457/457 [==============================] - 2s 4ms/step - loss: 2.3829 - mae: 0.6471 - val_loss: 1.4332 - val_mae: 0.4475\n",
      "Epoch 155/500\n",
      "457/457 [==============================] - 2s 4ms/step - loss: 1.9328 - mae: 0.5920 - val_loss: 1.5662 - val_mae: 0.5235\n",
      "Epoch 156/500\n",
      "457/457 [==============================] - 2s 4ms/step - loss: 2.4992 - mae: 0.6818 - val_loss: 1.7939 - val_mae: 0.6240\n",
      "Epoch 157/500\n",
      "457/457 [==============================] - 2s 4ms/step - loss: 1.8177 - mae: 0.5559 - val_loss: 1.7910 - val_mae: 0.6320\n",
      "Epoch 158/500\n",
      "457/457 [==============================] - 2s 4ms/step - loss: 2.0143 - mae: 0.5843 - val_loss: 1.5826 - val_mae: 0.4917\n",
      "Epoch 159/500\n",
      "457/457 [==============================] - 3s 6ms/step - loss: 1.8422 - mae: 0.5659 - val_loss: 1.9595 - val_mae: 0.6259\n",
      "Epoch 160/500\n",
      "457/457 [==============================] - 2s 4ms/step - loss: 1.9578 - mae: 0.5817 - val_loss: 1.9725 - val_mae: 0.6428\n",
      "Epoch 161/500\n",
      "457/457 [==============================] - 2s 4ms/step - loss: 2.0749 - mae: 0.6123 - val_loss: 2.9991 - val_mae: 0.8633\n",
      "Epoch 162/500\n",
      "457/457 [==============================] - 2s 4ms/step - loss: 1.9502 - mae: 0.5992 - val_loss: 1.6191 - val_mae: 0.5139\n",
      "Epoch 163/500\n",
      "457/457 [==============================] - 2s 4ms/step - loss: 2.0402 - mae: 0.6270 - val_loss: 2.1505 - val_mae: 0.5716\n",
      "Epoch 164/500\n",
      "457/457 [==============================] - 2s 4ms/step - loss: 2.2738 - mae: 0.6505 - val_loss: 1.7824 - val_mae: 0.6003\n",
      "Epoch 165/500\n",
      "457/457 [==============================] - 2s 4ms/step - loss: 1.8823 - mae: 0.5806 - val_loss: 1.6984 - val_mae: 0.5734\n",
      "Epoch 166/500\n",
      "457/457 [==============================] - 2s 4ms/step - loss: 1.9629 - mae: 0.5761 - val_loss: 2.2335 - val_mae: 0.6415\n",
      "Epoch 167/500\n",
      "457/457 [==============================] - 2s 4ms/step - loss: 2.2350 - mae: 0.6832 - val_loss: 1.8292 - val_mae: 0.5544\n",
      "Epoch 168/500\n",
      "457/457 [==============================] - 2s 4ms/step - loss: 1.8543 - mae: 0.5723 - val_loss: 1.6831 - val_mae: 0.6146\n",
      "Epoch 169/500\n",
      "457/457 [==============================] - 2s 5ms/step - loss: 2.1668 - mae: 0.6324 - val_loss: 1.7095 - val_mae: 0.5444\n",
      "Epoch 170/500\n",
      "457/457 [==============================] - 2s 4ms/step - loss: 1.7527 - mae: 0.5367 - val_loss: 1.4366 - val_mae: 0.5061\n",
      "Epoch 171/500\n",
      "457/457 [==============================] - 2s 4ms/step - loss: 2.2087 - mae: 0.6436 - val_loss: 2.0111 - val_mae: 0.5163\n",
      "Epoch 172/500\n",
      "457/457 [==============================] - 2s 4ms/step - loss: 3.3139 - mae: 0.7419 - val_loss: 1.7691 - val_mae: 0.4799\n",
      "Epoch 173/500\n",
      "457/457 [==============================] - 2s 4ms/step - loss: 1.8815 - mae: 0.5531 - val_loss: 2.7979 - val_mae: 0.7378\n",
      "Epoch 174/500\n",
      "457/457 [==============================] - 3s 7ms/step - loss: 1.8280 - mae: 0.5544 - val_loss: 1.8162 - val_mae: 0.5825\n",
      "Epoch 175/500\n",
      "457/457 [==============================] - 2s 4ms/step - loss: 2.0917 - mae: 0.6073 - val_loss: 1.7623 - val_mae: 0.6673\n",
      "Epoch 176/500\n",
      "457/457 [==============================] - 2s 5ms/step - loss: 1.8644 - mae: 0.5690 - val_loss: 1.4519 - val_mae: 0.4486\n",
      "Epoch 177/500\n",
      "457/457 [==============================] - 2s 4ms/step - loss: 1.9623 - mae: 0.5913 - val_loss: 1.3749 - val_mae: 0.4838\n",
      "Epoch 178/500\n",
      "457/457 [==============================] - 2s 4ms/step - loss: 1.8933 - mae: 0.5608 - val_loss: 2.0966 - val_mae: 0.7146\n",
      "Epoch 179/500\n",
      "457/457 [==============================] - 2s 4ms/step - loss: 2.2697 - mae: 0.6440 - val_loss: 2.3956 - val_mae: 0.7951\n",
      "Epoch 180/500\n",
      "457/457 [==============================] - 2s 4ms/step - loss: 2.3352 - mae: 0.6848 - val_loss: 1.3971 - val_mae: 0.4956\n",
      "Epoch 181/500\n",
      "457/457 [==============================] - 2s 4ms/step - loss: 2.1185 - mae: 0.5834 - val_loss: 2.1788 - val_mae: 0.5742\n",
      "Epoch 182/500\n",
      "457/457 [==============================] - 2s 4ms/step - loss: 1.8161 - mae: 0.5541 - val_loss: 2.3499 - val_mae: 0.6982\n",
      "Epoch 183/500\n",
      "457/457 [==============================] - 2s 5ms/step - loss: 1.8598 - mae: 0.5620 - val_loss: 2.2429 - val_mae: 0.5254\n",
      "Epoch 184/500\n",
      "457/457 [==============================] - 2s 5ms/step - loss: 1.8286 - mae: 0.5479 - val_loss: 1.4282 - val_mae: 0.4710\n",
      "Epoch 185/500\n",
      "457/457 [==============================] - 2s 4ms/step - loss: 2.3001 - mae: 0.6616 - val_loss: 1.5692 - val_mae: 0.4398\n",
      "Epoch 186/500\n",
      "457/457 [==============================] - 2s 5ms/step - loss: 2.1640 - mae: 0.6266 - val_loss: 1.3889 - val_mae: 0.4637\n",
      "Epoch 187/500\n",
      "457/457 [==============================] - 3s 6ms/step - loss: 1.9035 - mae: 0.5849 - val_loss: 1.5091 - val_mae: 0.4397\n",
      "Epoch 188/500\n",
      "457/457 [==============================] - 2s 5ms/step - loss: 1.7612 - mae: 0.5654 - val_loss: 1.3776 - val_mae: 0.4776\n",
      "Epoch 189/500\n",
      "457/457 [==============================] - 2s 5ms/step - loss: 1.9712 - mae: 0.5883 - val_loss: 1.6838 - val_mae: 0.4480\n",
      "Epoch 190/500\n",
      "457/457 [==============================] - 2s 5ms/step - loss: 1.8820 - mae: 0.5730 - val_loss: 2.7979 - val_mae: 0.6720\n",
      "Epoch 191/500\n",
      "457/457 [==============================] - 2s 4ms/step - loss: 1.8403 - mae: 0.5746 - val_loss: 1.4900 - val_mae: 0.4713\n",
      "Epoch 192/500\n",
      "457/457 [==============================] - 2s 5ms/step - loss: 2.1047 - mae: 0.6197 - val_loss: 1.7753 - val_mae: 0.5111\n",
      "Epoch 193/500\n",
      "457/457 [==============================] - 2s 4ms/step - loss: 1.8538 - mae: 0.5731 - val_loss: 2.1277 - val_mae: 0.5819\n",
      "Epoch 194/500\n",
      "457/457 [==============================] - 2s 5ms/step - loss: 2.2619 - mae: 0.6375 - val_loss: 1.8246 - val_mae: 0.5237\n",
      "Epoch 195/500\n",
      "457/457 [==============================] - 3s 6ms/step - loss: 2.1671 - mae: 0.6325 - val_loss: 2.5261 - val_mae: 0.6677\n",
      "Epoch 196/500\n",
      "457/457 [==============================] - 2s 5ms/step - loss: 1.7977 - mae: 0.5566 - val_loss: 1.5586 - val_mae: 0.4966\n",
      "Epoch 197/500\n",
      "457/457 [==============================] - 2s 5ms/step - loss: 1.8725 - mae: 0.5930 - val_loss: 1.8830 - val_mae: 0.5376\n",
      "Epoch 198/500\n",
      "457/457 [==============================] - 3s 6ms/step - loss: 1.9016 - mae: 0.5762 - val_loss: 1.7175 - val_mae: 0.6169\n",
      "Epoch 199/500\n",
      "457/457 [==============================] - 2s 5ms/step - loss: 2.4748 - mae: 0.6840 - val_loss: 2.6142 - val_mae: 0.5758\n",
      "Epoch 200/500\n",
      "457/457 [==============================] - 2s 5ms/step - loss: 2.3032 - mae: 0.6273 - val_loss: 1.7335 - val_mae: 0.6370\n",
      "Epoch 201/500\n",
      "457/457 [==============================] - 3s 7ms/step - loss: 1.7850 - mae: 0.5545 - val_loss: 2.0439 - val_mae: 0.7329\n",
      "Epoch 202/500\n",
      "457/457 [==============================] - 2s 5ms/step - loss: 1.8197 - mae: 0.5682 - val_loss: 1.5487 - val_mae: 0.5365\n",
      "Epoch 203/500\n",
      "457/457 [==============================] - 3s 6ms/step - loss: 2.3499 - mae: 0.6712 - val_loss: 1.8360 - val_mae: 0.5654\n",
      "Epoch 204/500\n",
      "457/457 [==============================] - 2s 5ms/step - loss: 1.8267 - mae: 0.5644 - val_loss: 1.3211 - val_mae: 0.4738\n",
      "Epoch 205/500\n",
      "457/457 [==============================] - 2s 5ms/step - loss: 1.8802 - mae: 0.5788 - val_loss: 1.6410 - val_mae: 0.4602\n",
      "Epoch 206/500\n",
      "457/457 [==============================] - 2s 5ms/step - loss: 1.8314 - mae: 0.5390 - val_loss: 1.4310 - val_mae: 0.4444\n",
      "Epoch 207/500\n",
      "457/457 [==============================] - 3s 6ms/step - loss: 1.8667 - mae: 0.5606 - val_loss: 3.4277 - val_mae: 0.8619\n",
      "Epoch 208/500\n",
      "457/457 [==============================] - 2s 5ms/step - loss: 1.9849 - mae: 0.6089 - val_loss: 1.6141 - val_mae: 0.5255\n",
      "Epoch 209/500\n",
      "457/457 [==============================] - 2s 5ms/step - loss: 1.8863 - mae: 0.5825 - val_loss: 1.7374 - val_mae: 0.4606\n",
      "Epoch 210/500\n",
      "457/457 [==============================] - 2s 5ms/step - loss: 2.0398 - mae: 0.5966 - val_loss: 2.3799 - val_mae: 0.5255\n",
      "Epoch 211/500\n",
      "457/457 [==============================] - 3s 6ms/step - loss: 1.8332 - mae: 0.5429 - val_loss: 1.7396 - val_mae: 0.6164\n",
      "Epoch 212/500\n",
      "457/457 [==============================] - 4s 8ms/step - loss: 1.7811 - mae: 0.5411 - val_loss: 2.5139 - val_mae: 0.5970\n",
      "Epoch 213/500\n",
      "457/457 [==============================] - 2s 5ms/step - loss: 2.2153 - mae: 0.6282 - val_loss: 1.9304 - val_mae: 0.6421\n",
      "Epoch 214/500\n",
      "457/457 [==============================] - 2s 5ms/step - loss: 3.1269 - mae: 0.6984 - val_loss: 1.6347 - val_mae: 0.5090\n",
      "Epoch 215/500\n",
      "457/457 [==============================] - 3s 6ms/step - loss: 1.8214 - mae: 0.5457 - val_loss: 1.7361 - val_mae: 0.5695\n",
      "Epoch 216/500\n",
      "457/457 [==============================] - 2s 4ms/step - loss: 1.8837 - mae: 0.5921 - val_loss: 2.0650 - val_mae: 0.5913\n",
      "Epoch 217/500\n",
      "457/457 [==============================] - 2s 4ms/step - loss: 1.8793 - mae: 0.5615 - val_loss: 1.5502 - val_mae: 0.5638\n",
      "Epoch 218/500\n",
      "457/457 [==============================] - 2s 4ms/step - loss: 2.4327 - mae: 0.6383 - val_loss: 1.3160 - val_mae: 0.4345\n",
      "Epoch 219/500\n",
      "457/457 [==============================] - 2s 4ms/step - loss: 1.6864 - mae: 0.5113 - val_loss: 2.0440 - val_mae: 0.6339\n",
      "Epoch 220/500\n",
      "457/457 [==============================] - 2s 5ms/step - loss: 1.7601 - mae: 0.5554 - val_loss: 5.2800 - val_mae: 1.1770\n",
      "Epoch 221/500\n",
      "457/457 [==============================] - 2s 4ms/step - loss: 2.2678 - mae: 0.6164 - val_loss: 2.0985 - val_mae: 0.6464\n",
      "Epoch 222/500\n",
      "457/457 [==============================] - 2s 4ms/step - loss: 1.7684 - mae: 0.5547 - val_loss: 1.3267 - val_mae: 0.4502\n",
      "Epoch 223/500\n",
      "457/457 [==============================] - 2s 4ms/step - loss: 1.6402 - mae: 0.5193 - val_loss: 2.0413 - val_mae: 0.7046\n",
      "Epoch 224/500\n",
      "457/457 [==============================] - 2s 4ms/step - loss: 1.7561 - mae: 0.5468 - val_loss: 3.1502 - val_mae: 0.6907\n",
      "Epoch 225/500\n",
      "457/457 [==============================] - 2s 4ms/step - loss: 2.0683 - mae: 0.6035 - val_loss: 1.7352 - val_mae: 0.4897\n",
      "Epoch 226/500\n",
      "457/457 [==============================] - 3s 7ms/step - loss: 1.7978 - mae: 0.5424 - val_loss: 2.0327 - val_mae: 0.6729\n",
      "Epoch 227/500\n",
      "457/457 [==============================] - 2s 5ms/step - loss: 1.8260 - mae: 0.5630 - val_loss: 1.4349 - val_mae: 0.4581\n",
      "Epoch 228/500\n",
      "457/457 [==============================] - 2s 4ms/step - loss: 1.8948 - mae: 0.5672 - val_loss: 1.8007 - val_mae: 0.6378\n",
      "Epoch 229/500\n",
      "457/457 [==============================] - 2s 5ms/step - loss: 2.0030 - mae: 0.5955 - val_loss: 1.7947 - val_mae: 0.6014\n",
      "Epoch 230/500\n",
      "457/457 [==============================] - 2s 5ms/step - loss: 1.8670 - mae: 0.5909 - val_loss: 1.2035 - val_mae: 0.4221\n",
      "Epoch 231/500\n",
      "457/457 [==============================] - 2s 5ms/step - loss: 1.8804 - mae: 0.5472 - val_loss: 1.7069 - val_mae: 0.5298\n",
      "Epoch 232/500\n",
      "457/457 [==============================] - 2s 5ms/step - loss: 1.9058 - mae: 0.5835 - val_loss: 1.8465 - val_mae: 0.4805\n",
      "Epoch 233/500\n",
      "457/457 [==============================] - 2s 4ms/step - loss: 1.7029 - mae: 0.5296 - val_loss: 1.3622 - val_mae: 0.4569\n",
      "Epoch 234/500\n",
      "457/457 [==============================] - 2s 4ms/step - loss: 1.9405 - mae: 0.5707 - val_loss: 2.2077 - val_mae: 0.7463\n",
      "Epoch 235/500\n",
      "457/457 [==============================] - 2s 4ms/step - loss: 1.9188 - mae: 0.5824 - val_loss: 1.5584 - val_mae: 0.5505\n",
      "Epoch 236/500\n",
      "457/457 [==============================] - 2s 4ms/step - loss: 1.7462 - mae: 0.5252 - val_loss: 2.8870 - val_mae: 0.7193\n",
      "Epoch 237/500\n",
      "457/457 [==============================] - 2s 5ms/step - loss: 1.9700 - mae: 0.5826 - val_loss: 1.9759 - val_mae: 0.4973\n",
      "Epoch 238/500\n",
      "457/457 [==============================] - 2s 4ms/step - loss: 1.8883 - mae: 0.5624 - val_loss: 2.2643 - val_mae: 0.6950\n",
      "Epoch 239/500\n",
      "457/457 [==============================] - 2s 5ms/step - loss: 1.8735 - mae: 0.5566 - val_loss: 1.5763 - val_mae: 0.4737\n",
      "Epoch 240/500\n",
      "457/457 [==============================] - 2s 5ms/step - loss: 2.1741 - mae: 0.6002 - val_loss: 1.7435 - val_mae: 0.5338\n",
      "Epoch 241/500\n",
      "457/457 [==============================] - 2s 4ms/step - loss: 2.0899 - mae: 0.6223 - val_loss: 1.7243 - val_mae: 0.4755\n",
      "Epoch 242/500\n",
      "457/457 [==============================] - 2s 4ms/step - loss: 1.6403 - mae: 0.5046 - val_loss: 1.8621 - val_mae: 0.4964\n",
      "Epoch 243/500\n",
      "457/457 [==============================] - 2s 4ms/step - loss: 1.7860 - mae: 0.5362 - val_loss: 1.7128 - val_mae: 0.4809\n",
      "Epoch 244/500\n",
      "457/457 [==============================] - 2s 4ms/step - loss: 1.9759 - mae: 0.5932 - val_loss: 2.1309 - val_mae: 0.5538\n",
      "Epoch 245/500\n",
      "457/457 [==============================] - 2s 4ms/step - loss: 1.8830 - mae: 0.5817 - val_loss: 1.6355 - val_mae: 0.4759\n",
      "Epoch 246/500\n",
      "457/457 [==============================] - 2s 4ms/step - loss: 1.7709 - mae: 0.5389 - val_loss: 1.5480 - val_mae: 0.4482\n",
      "Epoch 247/500\n",
      "457/457 [==============================] - 2s 4ms/step - loss: 1.7972 - mae: 0.5765 - val_loss: 2.8082 - val_mae: 0.6682\n",
      "Epoch 248/500\n",
      "457/457 [==============================] - 2s 4ms/step - loss: 1.9672 - mae: 0.5864 - val_loss: 1.4318 - val_mae: 0.4805\n",
      "Epoch 249/500\n",
      "457/457 [==============================] - 2s 4ms/step - loss: 1.8986 - mae: 0.5739 - val_loss: 2.4990 - val_mae: 0.6696\n",
      "Epoch 250/500\n",
      "457/457 [==============================] - 2s 4ms/step - loss: 2.1219 - mae: 0.5979 - val_loss: 1.3299 - val_mae: 0.4694\n",
      "Epoch 251/500\n",
      "457/457 [==============================] - 2s 4ms/step - loss: 1.5989 - mae: 0.5012 - val_loss: 1.3579 - val_mae: 0.4482\n",
      "Epoch 252/500\n",
      "457/457 [==============================] - 2s 4ms/step - loss: 2.4319 - mae: 0.6501 - val_loss: 1.4612 - val_mae: 0.4693\n",
      "Epoch 253/500\n",
      "457/457 [==============================] - 2s 4ms/step - loss: 1.7445 - mae: 0.5205 - val_loss: 1.4598 - val_mae: 0.4627\n",
      "Epoch 254/500\n",
      "457/457 [==============================] - 3s 6ms/step - loss: 1.5553 - mae: 0.4872 - val_loss: 2.1676 - val_mae: 0.5571\n",
      "Epoch 255/500\n",
      "457/457 [==============================] - 2s 4ms/step - loss: 1.9286 - mae: 0.5700 - val_loss: 1.6564 - val_mae: 0.5999\n",
      "Epoch 256/500\n",
      "457/457 [==============================] - 2s 4ms/step - loss: 1.7977 - mae: 0.5572 - val_loss: 2.9357 - val_mae: 0.7056\n",
      "Epoch 257/500\n",
      "457/457 [==============================] - 2s 4ms/step - loss: 1.9843 - mae: 0.5655 - val_loss: 2.9301 - val_mae: 0.7822\n",
      "Epoch 258/500\n",
      "457/457 [==============================] - 2s 4ms/step - loss: 1.9630 - mae: 0.6158 - val_loss: 1.5162 - val_mae: 0.4962\n",
      "Epoch 259/500\n",
      "457/457 [==============================] - 2s 5ms/step - loss: 2.3204 - mae: 0.6488 - val_loss: 1.6141 - val_mae: 0.6401\n",
      "Epoch 260/500\n",
      "457/457 [==============================] - 2s 4ms/step - loss: 1.6478 - mae: 0.5171 - val_loss: 1.8295 - val_mae: 0.4650\n",
      "Epoch 261/500\n",
      "457/457 [==============================] - 2s 4ms/step - loss: 1.6967 - mae: 0.5246 - val_loss: 1.2869 - val_mae: 0.4659\n",
      "Epoch 262/500\n",
      "457/457 [==============================] - 2s 4ms/step - loss: 1.8716 - mae: 0.5442 - val_loss: 1.2722 - val_mae: 0.4571\n",
      "Epoch 263/500\n",
      "457/457 [==============================] - 2s 5ms/step - loss: 1.5599 - mae: 0.4951 - val_loss: 2.0007 - val_mae: 0.5786\n",
      "Epoch 264/500\n",
      "457/457 [==============================] - 2s 4ms/step - loss: 1.8983 - mae: 0.5621 - val_loss: 1.4336 - val_mae: 0.4386\n",
      "Epoch 265/500\n",
      "457/457 [==============================] - 2s 4ms/step - loss: 1.8502 - mae: 0.5581 - val_loss: 1.4605 - val_mae: 0.5526\n",
      "Epoch 266/500\n",
      "457/457 [==============================] - 2s 4ms/step - loss: 1.8310 - mae: 0.5403 - val_loss: 1.4951 - val_mae: 0.4455\n",
      "Epoch 267/500\n",
      "457/457 [==============================] - 2s 4ms/step - loss: 1.6540 - mae: 0.5155 - val_loss: 1.6481 - val_mae: 0.5753\n",
      "Epoch 268/500\n",
      "457/457 [==============================] - 2s 4ms/step - loss: 2.1303 - mae: 0.6323 - val_loss: 1.8402 - val_mae: 0.5907\n",
      "Epoch 269/500\n",
      "457/457 [==============================] - 2s 4ms/step - loss: 1.8516 - mae: 0.5671 - val_loss: 2.2745 - val_mae: 0.6935\n",
      "Epoch 270/500\n",
      "457/457 [==============================] - 2s 4ms/step - loss: 1.8073 - mae: 0.5342 - val_loss: 1.2798 - val_mae: 0.4238\n",
      "Epoch 271/500\n",
      "457/457 [==============================] - 2s 4ms/step - loss: 1.6799 - mae: 0.5257 - val_loss: 2.5881 - val_mae: 0.6660\n",
      "Epoch 272/500\n",
      "457/457 [==============================] - 2s 4ms/step - loss: 1.8166 - mae: 0.5492 - val_loss: 1.4644 - val_mae: 0.5629\n",
      "Epoch 273/500\n",
      "457/457 [==============================] - 2s 4ms/step - loss: 1.8121 - mae: 0.5586 - val_loss: 1.4085 - val_mae: 0.5117\n",
      "Epoch 274/500\n",
      "457/457 [==============================] - 2s 4ms/step - loss: 1.7758 - mae: 0.5286 - val_loss: 1.2355 - val_mae: 0.4800\n",
      "Epoch 275/500\n",
      "457/457 [==============================] - 2s 4ms/step - loss: 1.7762 - mae: 0.5277 - val_loss: 1.4605 - val_mae: 0.5107\n",
      "Epoch 276/500\n",
      "457/457 [==============================] - 2s 4ms/step - loss: 1.9881 - mae: 0.6021 - val_loss: 1.5667 - val_mae: 0.5061\n",
      "Epoch 277/500\n",
      "457/457 [==============================] - 2s 4ms/step - loss: 1.7737 - mae: 0.5515 - val_loss: 2.6715 - val_mae: 0.5851\n",
      "Epoch 278/500\n",
      "457/457 [==============================] - 2s 4ms/step - loss: 2.7370 - mae: 0.6587 - val_loss: 2.5922 - val_mae: 0.5119\n",
      "Epoch 279/500\n",
      "457/457 [==============================] - 2s 4ms/step - loss: 2.0083 - mae: 0.5966 - val_loss: 1.6997 - val_mae: 0.5132\n",
      "Epoch 280/500\n",
      "457/457 [==============================] - 2s 5ms/step - loss: 1.6689 - mae: 0.5164 - val_loss: 1.4031 - val_mae: 0.4144\n"
     ]
    }
   ],
   "source": [
    "history = ann.fit(X_train, y_train,\n",
    "                    validation_data = (X_val, y_val),\n",
    "                    callbacks=[es],\n",
    "                    epochs=500,\n",
    "                    batch_size=30,\n",
    "                    verbose=1)"
   ]
  },
  {
   "cell_type": "code",
   "execution_count": 22,
   "metadata": {
    "ExecuteTime": {
     "end_time": "2024-08-22T03:01:20.480347Z",
     "start_time": "2024-08-22T03:01:19.945870300Z"
    }
   },
   "outputs": [
    {
     "data": {
      "text/plain": "<Figure size 600x600 with 1 Axes>",
      "image/png": "[encoded data removed]"
     },
     "metadata": {},
     "output_type": "display_data"
    }
   ],
   "source": [
    "# let's see the training and validation accuracy by epoch\n",
    "history_dict = history.history\n",
    "loss_values = history_dict['loss'] # you can change this\n",
    "val_loss_values = history_dict['val_loss'] # you can also change this\n",
    "epochs = range(1, len(loss_values) + 1) # range of X (no. of epochs)\n",
    "\n",
    "# Set global font to Times New Roman and font size\n",
    "plt.rcParams['font.family'] = 'serif'\n",
    "plt.rcParams['font.serif'] = ['Times New Roman']\n",
    "plt.rcParams['font.size'] = 20\n",
    "\n",
    "# Create a plot\n",
    "plt.figure(figsize=(6, 6))\n",
    "plt.plot(epochs, loss_values, 'blue', label='Train set')\n",
    "plt.plot(epochs, val_loss_values, 'orange', label='Validation set')\n",
    "#plt.title('Training and testing loss')\n",
    "\n",
    "\n",
    "plt.xlabel('Epochs')\n",
    "plt.ylabel('Loss (MSE)')\n",
    "plt.legend()\n",
    "plt.savefig('Section3_ANN1_2.png', dpi=200, bbox_inches='tight')\n",
    "plt.show()"
   ]
  },
  {
   "cell_type": "code",
   "execution_count": 23,
   "metadata": {
    "ExecuteTime": {
     "end_time": "2024-08-22T03:01:20.984855700Z",
     "start_time": "2024-08-22T03:01:20.479348800Z"
    }
   },
   "outputs": [
    {
     "data": {
      "text/plain": "<Figure size 600x600 with 1 Axes>",
      "image/png": "[encoded data removed]"
     },
     "metadata": {},
     "output_type": "display_data"
    }
   ],
   "source": [
    "loss_values1 = history_dict['mae'] # you can change this\n",
    "val_loss_values1 = history_dict['val_mae'] # you can also change this\n",
    "epochs = range(1, len(loss_values1) + 1) # range of X (no. of epochs)\n",
    "# Create a plot\n",
    "plt.figure(figsize=(6, 6))\n",
    "plt.plot(epochs, loss_values1, 'blue', label='Train set')\n",
    "plt.plot(epochs, val_loss_values1, 'orange', label='Validation set')\n",
    "#plt.title('Training and testing MAE')\n",
    "plt.xlabel('Epochs')\n",
    "plt.ylabel('MAE (kPa)')\n",
    "plt.legend()\n",
    "plt.savefig('Section3_ANN1_3.png', dpi=200, bbox_inches='tight')\n",
    "plt.show()"
   ]
  },
  {
   "cell_type": "code",
   "execution_count": 24,
   "metadata": {
    "ExecuteTime": {
     "end_time": "2024-08-22T03:01:21.081453500Z",
     "start_time": "2024-08-22T03:01:20.978340700Z"
    }
   },
   "outputs": [
    {
     "name": "stdout",
     "output_type": "stream",
     "text": [
      "range(1, 281)\n"
     ]
    }
   ],
   "source": [
    "print (epochs)"
   ]
  },
  {
   "cell_type": "code",
   "execution_count": 25,
   "metadata": {
    "ExecuteTime": {
     "end_time": "2024-08-22T03:01:22.819807900Z",
     "start_time": "2024-08-22T03:01:20.992864600Z"
    }
   },
   "outputs": [
    {
     "name": "stdout",
     "output_type": "stream",
     "text": [
      "INFO:tensorflow:Assets written to: Section3_new_ANN_1\\assets\n"
     ]
    }
   ],
   "source": [
    "ann.save('Section3_new_ANN_1')\n",
    "import pickle\n",
    "pickle.dump(sc, open('Section3_new_scaler_ANN_1.pkl', 'wb'))"
   ]
  },
  {
   "cell_type": "markdown",
   "metadata": {},
   "source": [
    "## Part 5 - Make predictions"
   ]
  },
  {
   "cell_type": "code",
   "execution_count": 26,
   "metadata": {
    "ExecuteTime": {
     "end_time": "2024-08-22T03:01:25.463956900Z",
     "start_time": "2024-08-22T03:01:22.825807800Z"
    }
   },
   "outputs": [
    {
     "name": "stdout",
     "output_type": "stream",
     "text": [
      "428/428 [==============================] - 1s 2ms/step\n",
      "143/143 [==============================] - 0s 2ms/step\n"
     ]
    },
    {
     "data": {
      "text/plain": "<Figure size 640x480 with 2 Axes>",
      "image/png": "[encoded data removed]"
     },
     "metadata": {},
     "output_type": "display_data"
    }
   ],
   "source": [
    "# scatterplot of actual vs. pred\n",
    "# specify the dimensions \n",
    "fig, axes = plt.subplots(1,2) # 1 row, 2 columns\n",
    "\n",
    "# this makes the individual subplots\n",
    "# Training Results\n",
    "axes[0].scatter(x=y_train, y=ann.predict(X_train)) #first row, first entry (left top)\n",
    "axes[0].set_xlabel(\"Actual\", fontsize=10)\n",
    "axes[0].set_ylabel(\"Predicted\",  fontsize=10)\n",
    "axes[0].set_title(\"Training\")\n",
    "# add 45 deg line\n",
    "x = np.linspace(*axes[0].get_xlim())\n",
    "axes[0].plot(x, x, color='red')\n",
    "# Validation Results\n",
    "axes[1].scatter(x=y_val, y=ann.predict(X_val)) # first row, second entry (right top)\n",
    "axes[1].set_xlabel(\"Actual\", fontsize=10)\n",
    "axes[1].set_ylabel(\"Predicted\",  fontsize=10)\n",
    "axes[1].set_title(\"Validation\")\n",
    "# add 45 deg line\n",
    "x = np.linspace(*axes[1].get_xlim())\n",
    "axes[1].plot(x, x, color='red')\n",
    "\n",
    "# tight layout\n",
    "fig.tight_layout()\n",
    "plt.savefig('Section3_ANN1_1.png', dpi=200, bbox_inches='tight')\n",
    "# show the plot\n",
    "plt.show()"
   ]
  },
  {
   "cell_type": "code",
   "execution_count": 16,
   "metadata": {
    "colab": {
     "base_uri": "https://localhost:8080/",
     "height": 134
    },
    "colab_type": "code",
    "id": "IA0yApEmBG1X",
    "outputId": "cb981e1f-9204-4a2a-fece-9d66a6919189",
    "ExecuteTime": {
     "end_time": "2024-09-02T02:03:11.754458200Z",
     "start_time": "2024-09-02T02:03:10.910947400Z"
    }
   },
   "outputs": [
    {
     "name": "stdout",
     "output_type": "stream",
     "text": [
      "143/143 [==============================] - 1s 2ms/step\n",
      "[[-2.17 -2.35]\n",
      " [-0.03 -0.12]\n",
      " [-1.24 -1.51]\n",
      " ...\n",
      " [ 2.79  2.7 ]\n",
      " [15.37 15.31]\n",
      " [ 1.16  1.08]]\n"
     ]
    }
   ],
   "source": [
    "y_pred = ann.predict(X_test)\n",
    "np.set_printoptions(precision=2)\n",
    "print(np.concatenate((y_pred.reshape(len(y_pred),1), y_test.reshape(len(y_test),1)),1))"
   ]
  },
  {
   "cell_type": "code",
   "execution_count": 28,
   "metadata": {
    "ExecuteTime": {
     "end_time": "2024-08-22T03:01:26.154215800Z",
     "start_time": "2024-08-22T03:01:25.920462700Z"
    }
   },
   "outputs": [
    {
     "data": {
      "text/plain": "Text(0, 0.5, 'Predicted data')"
     },
     "execution_count": 28,
     "metadata": {},
     "output_type": "execute_result"
    },
    {
     "data": {
      "text/plain": "<Figure size 640x480 with 1 Axes>",
      "image/png": "[encoded data removed]"
     },
     "metadata": {},
     "output_type": "display_data"
    }
   ],
   "source": [
    "import matplotlib.pyplot as plt\n",
    "plt.scatter(y_test, y_pred, color=\"blue\")\n",
    "plt.xlabel ('Actual data')\n",
    "plt.ylabel ('Predicted data')"
   ]
  },
  {
   "cell_type": "code",
   "execution_count": 18,
   "metadata": {
    "ExecuteTime": {
     "end_time": "2024-09-02T02:06:28.280204Z",
     "start_time": "2024-09-02T02:06:27.598478600Z"
    }
   },
   "outputs": [
    {
     "data": {
      "text/plain": "<Figure size 600x600 with 1 Axes>",
      "image/png": "[encoded data removed]"
     },
     "metadata": {},
     "output_type": "display_data"
    }
   ],
   "source": [
    "from sklearn.metrics import r2_score\n",
    "# Initialize layout\n",
    "fig1, ax1 = plt.subplots(figsize = (6, 6))\n",
    "\n",
    "# Set global font to Times New Roman and font size\n",
    "plt.rcParams['font.family'] = 'serif'\n",
    "plt.rcParams['font.serif'] = ['Times New Roman']\n",
    "plt.rcParams['font.size'] = 25\n",
    "\n",
    "b_l = -30\n",
    "u_l = 150\n",
    "\n",
    "# Add scatterplot\n",
    "ax1.scatter(y_test, y_pred, s=70, alpha=1, edgecolors=\"k\",c='mediumblue',zorder=5, label = 'Points')\n",
    "\n",
    "\n",
    "plt.ylabel('Predicted Incident Overpressure (kPa)',fontsize = 22)\n",
    "plt.xlabel('Target Incident Overpressure (kPa)',fontsize = 22)\n",
    "plt.xticks([-25,0,25,50,75,100,125,150],fontsize = 22)\n",
    "plt.yticks([-25,0,25,50,75,100,125,150],fontsize = 22)\n",
    "\n",
    "\n",
    "x1 = np.linspace(b_l, u_l)\n",
    "\n",
    "plt.plot(x1, x1, 'Red', label='45\\N{DEGREE SIGN} line',lw=2.5,alpha=1)\n",
    "\n",
    "plt.ylim(b_l, u_l)\n",
    "plt.xlim(b_l, u_l)\n",
    "plt.legend(loc='upper center', bbox_to_anchor=(0.5, -0.15), ncol=4, frameon = False, fontsize = 25)\n",
    "\n",
    "#plt.grid()\n",
    "\n",
    "ax1.spines['left'].set_color('black')        # setting up Y-axis tick color to red\n",
    "ax1.spines['bottom'].set_color('black')         #setting up above X-axis tick color to red\n",
    "\n",
    "plt.savefig('Section3_ANN1.png', dpi=200, bbox_inches='tight')"
   ]
  },
  {
   "cell_type": "code",
   "execution_count": 30,
   "metadata": {
    "ExecuteTime": {
     "end_time": "2024-08-22T03:01:28.794647700Z",
     "start_time": "2024-08-22T03:01:26.687247500Z"
    }
   },
   "outputs": [
    {
     "name": "stdout",
     "output_type": "stream",
     "text": [
      "428/428 [==============================] - 2s 4ms/step\n",
      "0.43859488000683666\n",
      "0.4677115104113991\n"
     ]
    }
   ],
   "source": [
    "# metrics\n",
    "trainpreds = ann.predict(X_train)\n",
    "\n",
    "from sklearn.metrics import mean_absolute_error\n",
    "print(mean_absolute_error(y_train, trainpreds)) # train\n",
    "print(mean_absolute_error(y_test, y_pred)) # test"
   ]
  },
  {
   "cell_type": "code",
   "execution_count": 31,
   "metadata": {
    "ExecuteTime": {
     "end_time": "2024-08-22T03:01:28.796649800Z",
     "start_time": "2024-08-22T03:01:28.778642Z"
    }
   },
   "outputs": [
    {
     "name": "stdout",
     "output_type": "stream",
     "text": [
      "0.9942911034617335\n"
     ]
    }
   ],
   "source": [
    "from sklearn.metrics import r2_score\n",
    "r2 = r2_score(y_test, y_pred)\n",
    "print (r2)"
   ]
  },
  {
   "cell_type": "code",
   "execution_count": 32,
   "metadata": {
    "ExecuteTime": {
     "end_time": "2024-08-22T03:01:28.956804200Z",
     "start_time": "2024-08-22T03:01:28.792644900Z"
    }
   },
   "outputs": [
    {
     "name": "stdout",
     "output_type": "stream",
     "text": [
      "0.9952509016898873\n"
     ]
    }
   ],
   "source": [
    "r2_train = r2_score(y_train, trainpreds)\n",
    "print (r2_train)"
   ]
  },
  {
   "cell_type": "code",
   "execution_count": 33,
   "metadata": {
    "ExecuteTime": {
     "end_time": "2024-08-22T03:01:29.471962400Z",
     "start_time": "2024-08-22T03:01:28.950788Z"
    }
   },
   "outputs": [
    {
     "name": "stdout",
     "output_type": "stream",
     "text": [
      "Within 5% margin 29.34%\n",
      "Within 10% margin 33.31%\n",
      "Within 20% margin 35.83%\n",
      "Out of 20% margin 64.17%\n"
     ]
    }
   ],
   "source": [
    "count0 = 0\n",
    "for i in range(len(y_pred)):\n",
    "    line1 = y_pred[i] - 0.95*y_test[i]\n",
    "    line2 = y_pred[i] - 1.05*y_test[i]\n",
    "    mask0 = (line1 > 0) & (line2 < 0)\n",
    "    count0 = np.sum(mask0+count0)\n",
    "\n",
    "count1 = 0\n",
    "for i in range(len(y_pred)):\n",
    "    line1 = y_pred[i] - 0.9*y_test[i]\n",
    "    line2 = y_pred[i] - 1.1*y_test[i]\n",
    "    mask1 = (line1 > 0) & (line2 < 0)\n",
    "    count1 = np.sum(mask1+count1)\n",
    "\n",
    "count2 = 0\n",
    "for j in range(len(y_pred)):\n",
    "    line3 = y_pred[j] - 0.8*y_test[j]\n",
    "    line4 = y_pred[j] - 1.2*y_test[j]\n",
    "    mask2 = (line3 > 0) & (line4 < 0)\n",
    "    count2 = np.sum(mask2+count2)\n",
    "\n",
    "\n",
    "count3 = 0    \n",
    "for k in range(len(y_pred)):\n",
    "    line5 = y_pred[k] - 0.8*y_test[k]\n",
    "    line6 = y_pred[k] - 1.2*y_test[k]\n",
    "    mask3 = (line5 < 0) or (line6 > 0)\n",
    "    count3 = np.sum(mask3+count3)\n",
    "   \n",
    "\n",
    "print ('Within 5% margin', format((count0/len (y_pred)),'.2%'))\n",
    "print ('Within 10% margin', format((count1/len (y_pred)),'.2%'))\n",
    "print ('Within 20% margin', format((count2/len (y_pred)),'.2%'))\n",
    "print ('Out of 20% margin', format((count3/len (y_pred)),'.2%'))"
   ]
  },
  {
   "cell_type": "code",
   "execution_count": 34,
   "metadata": {
    "ExecuteTime": {
     "end_time": "2024-08-22T03:01:29.540039100Z",
     "start_time": "2024-08-22T03:01:29.475971400Z"
    }
   },
   "outputs": [
    {
     "name": "stdout",
     "output_type": "stream",
     "text": [
      "0.9942848395857864\n"
     ]
    }
   ],
   "source": [
    "adj_r2 = 1 - ((1 - r2) * (len(X_test) - 1) / (len(X_test) - len (X_test[0]) - 1))\n",
    "print (adj_r2)"
   ]
  },
  {
   "cell_type": "code",
   "execution_count": 35,
   "metadata": {
    "ExecuteTime": {
     "end_time": "2024-08-22T03:01:29.627608800Z",
     "start_time": "2024-08-22T03:01:29.481987500Z"
    }
   },
   "outputs": [
    {
     "data": {
      "text/plain": "1.1953525146225756"
     },
     "execution_count": 35,
     "metadata": {},
     "output_type": "execute_result"
    }
   ],
   "source": [
    "import math\n",
    "from sklearn.metrics import mean_squared_error\n",
    "\n",
    "math.sqrt(mean_squared_error(y_test, y_pred))"
   ]
  },
  {
   "cell_type": "code",
   "execution_count": 36,
   "metadata": {
    "ExecuteTime": {
     "end_time": "2024-08-22T03:01:29.745692900Z",
     "start_time": "2024-08-22T03:01:29.619600300Z"
    }
   },
   "outputs": [
    {
     "data": {
      "text/plain": "0.4677115104113991"
     },
     "execution_count": 36,
     "metadata": {},
     "output_type": "execute_result"
    }
   ],
   "source": [
    "from sklearn.metrics import mean_absolute_error\n",
    "\n",
    "mean_absolute_error(y_test, y_pred)"
   ]
  },
  {
   "cell_type": "code",
   "execution_count": 11,
   "outputs": [],
   "source": [
    "ann = load_model('Section3_new_ANN_1')\n",
    "sc = pickle.load(open('Section3_new_scaler_ANN_1.pkl', 'rb'))"
   ],
   "metadata": {
    "collapsed": false,
    "ExecuteTime": {
     "end_time": "2024-09-02T02:02:36.198575400Z",
     "start_time": "2024-09-02T02:02:35.059299800Z"
    }
   }
  }
 ],
 "metadata": {
  "colab": {
   "collapsed_sections": [],
   "name": "Artificial Neural Network",
   "provenance": [],
   "toc_visible": true
  },
  "kernelspec": {
   "display_name": "Python 3 (ipykernel)",
   "language": "python",
   "name": "python3"
  },
  "language_info": {
   "codemirror_mode": {
    "name": "ipython",
    "version": 3
   },
   "file_extension": ".py",
   "mimetype": "text/x-python",
   "name": "python",
   "nbconvert_exporter": "python",
   "pygments_lexer": "ipython3",
   "version": "3.9.7"
  }
 },
 "nbformat": 4,
 "nbformat_minor": 4
}
