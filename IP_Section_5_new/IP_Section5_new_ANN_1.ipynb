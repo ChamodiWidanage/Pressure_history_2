{
 "cells": [
  {
   "cell_type": "markdown",
   "metadata": {
    "colab_type": "text",
    "id": "3cbb7fRy-eyr"
   },
   "source": [
    "# Artificial Neural Network"
   ]
  },
  {
   "cell_type": "markdown",
   "metadata": {
    "colab_type": "text",
    "id": "8sNDnxE2-pwE"
   },
   "source": [
    "## Part 1 - Importing the libraries"
   ]
  },
  {
   "cell_type": "code",
   "execution_count": 1,
   "metadata": {
    "colab": {},
    "colab_type": "code",
    "id": "lxChR1Rk-umf",
    "ExecuteTime": {
     "end_time": "2024-12-06T03:21:59.669053400Z",
     "start_time": "2024-12-06T03:21:51.204490600Z"
    }
   },
   "outputs": [],
   "source": [
    "import numpy as np\n",
    "import pandas as pd\n",
    "import tensorflow as tf\n",
    "import matplotlib.pyplot as plt\n",
    "from keras.models import load_model\n",
    "from pathlib import Path\n",
    "import pickle"
   ]
  },
  {
   "cell_type": "markdown",
   "metadata": {
    "colab_type": "text",
    "id": "AG3FQEch-yuA"
   },
   "source": [
    "## Part 2 - Data Preprocessing"
   ]
  },
  {
   "cell_type": "code",
   "execution_count": 2,
   "metadata": {
    "ExecuteTime": {
     "end_time": "2024-12-06T03:22:23.144127800Z",
     "start_time": "2024-12-06T03:22:23.065174600Z"
    }
   },
   "outputs": [
    {
     "name": "stdout",
     "output_type": "stream",
     "text": [
      "input G:\\Chamodi\\LSDYNA_1D\\Incident_pressure_time_history\\Far_field_time_history_dataset\n",
      "2 [WindowsPath('G:/Chamodi/LSDYNA_1D/Incident_pressure_time_history/Far_field_time_history_dataset/L13_1'), WindowsPath('G:/Chamodi/LSDYNA_1D/Incident_pressure_time_history/Far_field_time_history_dataset/L13_13'), WindowsPath('G:/Chamodi/LSDYNA_1D/Incident_pressure_time_history/Far_field_time_history_dataset/L13_17'), WindowsPath('G:/Chamodi/LSDYNA_1D/Incident_pressure_time_history/Far_field_time_history_dataset/L13_21'), WindowsPath('G:/Chamodi/LSDYNA_1D/Incident_pressure_time_history/Far_field_time_history_dataset/L13_25'), WindowsPath('G:/Chamodi/LSDYNA_1D/Incident_pressure_time_history/Far_field_time_history_dataset/L13_29'), WindowsPath('G:/Chamodi/LSDYNA_1D/Incident_pressure_time_history/Far_field_time_history_dataset/L13_33'), WindowsPath('G:/Chamodi/LSDYNA_1D/Incident_pressure_time_history/Far_field_time_history_dataset/L13_37'), WindowsPath('G:/Chamodi/LSDYNA_1D/Incident_pressure_time_history/Far_field_time_history_dataset/L13_41'), WindowsPath('G:/Chamodi/LSDYNA_1D/Incident_pressure_time_history/Far_field_time_history_dataset/L13_45'), WindowsPath('G:/Chamodi/LSDYNA_1D/Incident_pressure_time_history/Far_field_time_history_dataset/L13_49'), WindowsPath('G:/Chamodi/LSDYNA_1D/Incident_pressure_time_history/Far_field_time_history_dataset/L13_5'), WindowsPath('G:/Chamodi/LSDYNA_1D/Incident_pressure_time_history/Far_field_time_history_dataset/L13_53'), WindowsPath('G:/Chamodi/LSDYNA_1D/Incident_pressure_time_history/Far_field_time_history_dataset/L13_57'), WindowsPath('G:/Chamodi/LSDYNA_1D/Incident_pressure_time_history/Far_field_time_history_dataset/L13_61'), WindowsPath('G:/Chamodi/LSDYNA_1D/Incident_pressure_time_history/Far_field_time_history_dataset/L13_65'), WindowsPath('G:/Chamodi/LSDYNA_1D/Incident_pressure_time_history/Far_field_time_history_dataset/L13_69'), WindowsPath('G:/Chamodi/LSDYNA_1D/Incident_pressure_time_history/Far_field_time_history_dataset/L13_70'), WindowsPath('G:/Chamodi/LSDYNA_1D/Incident_pressure_time_history/Far_field_time_history_dataset/L13_9')]\n"
     ]
    }
   ],
   "source": [
    "#Access input folder\n",
    "current_dir = Path.cwd()\n",
    "input_dir1 = Path (\"G:/Chamodi/LSDYNA_1D/Incident_pressure_time_history/Far_field_time_history_dataset\")\n",
    "print (\"input\",input_dir1)\n",
    "\n",
    "#Access folders inside input folder\n",
    "input_dir2_train =  [folder_input for folder_input in input_dir1.iterdir() if folder_input.is_dir()]\n",
    "print (\"2\",input_dir2_train)"
   ]
  },
  {
   "cell_type": "code",
   "execution_count": 3,
   "metadata": {
    "ExecuteTime": {
     "end_time": "2024-12-06T03:22:41.389200300Z",
     "start_time": "2024-12-06T03:22:36.591367400Z"
    }
   },
   "outputs": [
    {
     "name": "stdout",
     "output_type": "stream",
     "text": [
      "folder G:\\Chamodi\\LSDYNA_1D\\Incident_pressure_time_history\\Far_field_time_history_dataset\\L13_1\n",
      "P37\n",
      "P41\n",
      "P45\n",
      "P49\n",
      "folder G:\\Chamodi\\LSDYNA_1D\\Incident_pressure_time_history\\Far_field_time_history_dataset\\L13_13\n",
      "P37\n",
      "P41\n",
      "P45\n",
      "P49\n",
      "folder G:\\Chamodi\\LSDYNA_1D\\Incident_pressure_time_history\\Far_field_time_history_dataset\\L13_17\n",
      "P37\n",
      "P41\n",
      "P45\n",
      "P49\n",
      "folder G:\\Chamodi\\LSDYNA_1D\\Incident_pressure_time_history\\Far_field_time_history_dataset\\L13_21\n",
      "P37\n",
      "P41\n",
      "P45\n",
      "P49\n",
      "folder G:\\Chamodi\\LSDYNA_1D\\Incident_pressure_time_history\\Far_field_time_history_dataset\\L13_25\n",
      "P37\n",
      "P41\n",
      "P45\n",
      "P49\n",
      "folder G:\\Chamodi\\LSDYNA_1D\\Incident_pressure_time_history\\Far_field_time_history_dataset\\L13_29\n",
      "P37\n",
      "P41\n",
      "P45\n",
      "P49\n",
      "folder G:\\Chamodi\\LSDYNA_1D\\Incident_pressure_time_history\\Far_field_time_history_dataset\\L13_33\n",
      "P37\n",
      "P41\n",
      "P45\n",
      "P49\n",
      "folder G:\\Chamodi\\LSDYNA_1D\\Incident_pressure_time_history\\Far_field_time_history_dataset\\L13_37\n",
      "P37\n",
      "P41\n",
      "P45\n",
      "P49\n",
      "folder G:\\Chamodi\\LSDYNA_1D\\Incident_pressure_time_history\\Far_field_time_history_dataset\\L13_41\n",
      "P37\n",
      "P41\n",
      "P45\n",
      "P49\n",
      "folder G:\\Chamodi\\LSDYNA_1D\\Incident_pressure_time_history\\Far_field_time_history_dataset\\L13_45\n",
      "P37\n",
      "P41\n",
      "P45\n",
      "P49\n",
      "folder G:\\Chamodi\\LSDYNA_1D\\Incident_pressure_time_history\\Far_field_time_history_dataset\\L13_49\n",
      "P37\n",
      "P41\n",
      "P45\n",
      "P49\n",
      "folder G:\\Chamodi\\LSDYNA_1D\\Incident_pressure_time_history\\Far_field_time_history_dataset\\L13_5\n",
      "P37\n",
      "P41\n",
      "P45\n",
      "P49\n",
      "folder G:\\Chamodi\\LSDYNA_1D\\Incident_pressure_time_history\\Far_field_time_history_dataset\\L13_53\n",
      "P37\n",
      "P41\n",
      "P45\n",
      "P49\n",
      "folder G:\\Chamodi\\LSDYNA_1D\\Incident_pressure_time_history\\Far_field_time_history_dataset\\L13_57\n",
      "P37\n",
      "P41\n",
      "P45\n",
      "P49\n",
      "folder G:\\Chamodi\\LSDYNA_1D\\Incident_pressure_time_history\\Far_field_time_history_dataset\\L13_61\n",
      "P37\n",
      "P41\n",
      "P45\n",
      "P49\n",
      "folder G:\\Chamodi\\LSDYNA_1D\\Incident_pressure_time_history\\Far_field_time_history_dataset\\L13_65\n",
      "P37\n",
      "P41\n",
      "P45\n",
      "P49\n",
      "folder G:\\Chamodi\\LSDYNA_1D\\Incident_pressure_time_history\\Far_field_time_history_dataset\\L13_69\n",
      "P37\n",
      "P41\n",
      "P45\n",
      "P49\n",
      "folder G:\\Chamodi\\LSDYNA_1D\\Incident_pressure_time_history\\Far_field_time_history_dataset\\L13_70\n",
      "P37\n",
      "P41\n",
      "P45\n",
      "P49\n",
      "folder G:\\Chamodi\\LSDYNA_1D\\Incident_pressure_time_history\\Far_field_time_history_dataset\\L13_9\n",
      "P37\n",
      "P41\n",
      "P45\n",
      "P49\n"
     ]
    }
   ],
   "source": [
    "# Access each folder inside input folder\n",
    "dataset_train = pd.DataFrame(columns = ['Mass', 'Standoff distance', 'Time', 'Phase', 'Pressure'])\n",
    "df_list_train = []\n",
    "for folder_train in input_dir2_train:\n",
    "    \n",
    "    # Make a list of data file names\n",
    "    files_train = list(file_train for file_train in folder_train.rglob(\"*.xlsx\") if 36 < int(file_train.stem[1:]) < 50)\n",
    "    print (\"folder\", folder_train)\n",
    "    \n",
    "    for file_train in files_train:\n",
    "        df_list_train.append(pd.read_excel(file_train))\n",
    "        print (file_train.stem)\n",
    "\n",
    "dataset_train = pd.concat(df_list_train, ignore_index = True)"
   ]
  },
  {
   "cell_type": "code",
   "execution_count": 4,
   "metadata": {
    "colab": {},
    "colab_type": "code",
    "id": "B9CV13Co_HHM",
    "ExecuteTime": {
     "end_time": "2024-12-06T03:43:49.476045Z",
     "start_time": "2024-12-06T03:43:49.349384500Z"
    }
   },
   "outputs": [
    {
     "name": "stdout",
     "output_type": "stream",
     "text": [
      "<class 'pandas.core.frame.DataFrame'>\n",
      "RangeIndex: 11800 entries, 0 to 11799\n",
      "Data columns (total 5 columns):\n",
      " #   Column             Non-Null Count  Dtype  \n",
      "---  ------             --------------  -----  \n",
      " 0   Mass               11800 non-null  float64\n",
      " 1   Standoff distance  11800 non-null  int64  \n",
      " 2   Time               11800 non-null  float64\n",
      " 3   Phase              11800 non-null  object \n",
      " 4   Pressure           11800 non-null  float64\n",
      "dtypes: float64(3), int64(1), object(1)\n",
      "memory usage: 461.1+ KB\n"
     ]
    }
   ],
   "source": [
    "dataset_train.info()"
   ]
  },
  {
   "cell_type": "code",
   "execution_count": 5,
   "outputs": [
    {
     "name": "stdout",
     "output_type": "stream",
     "text": [
      "<class 'pandas.core.frame.DataFrame'>\n",
      "RangeIndex: 11800 entries, 0 to 11799\n",
      "Data columns (total 6 columns):\n",
      " #   Column             Non-Null Count  Dtype  \n",
      "---  ------             --------------  -----  \n",
      " 0   Mass               11800 non-null  float64\n",
      " 1   Standoff distance  11800 non-null  int64  \n",
      " 2   Time               11800 non-null  float64\n",
      " 3   Pressure           11800 non-null  float64\n",
      " 4   Phase_negative     11800 non-null  uint8  \n",
      " 5   Phase_positive     11800 non-null  uint8  \n",
      "dtypes: float64(3), int64(1), uint8(2)\n",
      "memory usage: 391.9 KB\n"
     ]
    }
   ],
   "source": [
    "dataset_train = pd.get_dummies(dataset_train, columns =['Phase'], dtype = np.uint8)\n",
    "dataset_train.info()"
   ],
   "metadata": {
    "collapsed": false,
    "ExecuteTime": {
     "end_time": "2024-12-06T03:43:51.450749700Z",
     "start_time": "2024-12-06T03:43:51.388433700Z"
    }
   }
  },
  {
   "cell_type": "code",
   "execution_count": 6,
   "outputs": [
    {
     "data": {
      "text/plain": "    Mass  Standoff distance       Time  Pressure  Phase_negative  \\\n0    0.5                 19  50.939649  3.495164               0   \n1    0.5                 19  50.949942  3.468648               0   \n2    0.5                 19  50.959826  3.391961               0   \n3    0.5                 19  50.969709  3.425727               0   \n4    0.5                 19  50.979588  3.429492               0   \n5    0.5                 19  50.989885  3.400727               0   \n6    0.5                 19  50.999768  3.392477               0   \n7    0.5                 19  51.009648  3.391555               0   \n8    0.5                 19  51.019944  3.370094               0   \n9    0.5                 19  51.029824  3.357664               0   \n10   0.5                 19  51.039707  3.355969               0   \n11   0.5                 19  51.059883  3.322695               0   \n12   0.5                 19  51.069766  3.320664               0   \n13   0.5                 19  51.089942  3.287992               0   \n14   0.5                 19  51.099826  3.285352               0   \n15   0.5                 19  51.119592  3.254086               0   \n16   0.5                 19  51.129885  3.250000               0   \n17   0.5                 19  51.139768  3.237555               0   \n18   0.5                 19  51.149651  3.220367               0   \n19   0.5                 19  51.159944  3.214867               0   \n20   0.5                 19  51.169828  3.203875               0   \n21   0.5                 19  51.179711  3.186875               0   \n22   0.5                 19  51.189590  3.180211               0   \n23   0.5                 19  51.199887  3.170094               0   \n24   0.5                 19  51.209766  3.153539               0   \n25   0.5                 19  51.229946  3.136273               0   \n26   0.5                 19  51.239826  3.120336               0   \n27   0.5                 19  51.259592  3.102977               0   \n28   0.5                 19  51.269885  3.087187               0   \n29   0.5                 19  51.289652  3.069148               0   \n\n    Phase_positive  \n0                1  \n1                1  \n2                1  \n3                1  \n4                1  \n5                1  \n6                1  \n7                1  \n8                1  \n9                1  \n10               1  \n11               1  \n12               1  \n13               1  \n14               1  \n15               1  \n16               1  \n17               1  \n18               1  \n19               1  \n20               1  \n21               1  \n22               1  \n23               1  \n24               1  \n25               1  \n26               1  \n27               1  \n28               1  \n29               1  ",
      "text/html": "<div>\n<style scoped>\n    .dataframe tbody tr th:only-of-type {\n        vertical-align: middle;\n    }\n\n    .dataframe tbody tr th {\n        vertical-align: top;\n    }\n\n    .dataframe thead th {\n        text-align: right;\n    }\n</style>\n<table border=\"1\" class=\"dataframe\">\n  <thead>\n    <tr style=\"text-align: right;\">\n      <th></th>\n      <th>Mass</th>\n      <th>Standoff distance</th>\n      <th>Time</th>\n      <th>Pressure</th>\n      <th>Phase_negative</th>\n      <th>Phase_positive</th>\n    </tr>\n  </thead>\n  <tbody>\n    <tr>\n      <th>0</th>\n      <td>0.5</td>\n      <td>19</td>\n      <td>50.939649</td>\n      <td>3.495164</td>\n      <td>0</td>\n      <td>1</td>\n    </tr>\n    <tr>\n      <th>1</th>\n      <td>0.5</td>\n      <td>19</td>\n      <td>50.949942</td>\n      <td>3.468648</td>\n      <td>0</td>\n      <td>1</td>\n    </tr>\n    <tr>\n      <th>2</th>\n      <td>0.5</td>\n      <td>19</td>\n      <td>50.959826</td>\n      <td>3.391961</td>\n      <td>0</td>\n      <td>1</td>\n    </tr>\n    <tr>\n      <th>3</th>\n      <td>0.5</td>\n      <td>19</td>\n      <td>50.969709</td>\n      <td>3.425727</td>\n      <td>0</td>\n      <td>1</td>\n    </tr>\n    <tr>\n      <th>4</th>\n      <td>0.5</td>\n      <td>19</td>\n      <td>50.979588</td>\n      <td>3.429492</td>\n      <td>0</td>\n      <td>1</td>\n    </tr>\n    <tr>\n      <th>5</th>\n      <td>0.5</td>\n      <td>19</td>\n      <td>50.989885</td>\n      <td>3.400727</td>\n      <td>0</td>\n      <td>1</td>\n    </tr>\n    <tr>\n      <th>6</th>\n      <td>0.5</td>\n      <td>19</td>\n      <td>50.999768</td>\n      <td>3.392477</td>\n      <td>0</td>\n      <td>1</td>\n    </tr>\n    <tr>\n      <th>7</th>\n      <td>0.5</td>\n      <td>19</td>\n      <td>51.009648</td>\n      <td>3.391555</td>\n      <td>0</td>\n      <td>1</td>\n    </tr>\n    <tr>\n      <th>8</th>\n      <td>0.5</td>\n      <td>19</td>\n      <td>51.019944</td>\n      <td>3.370094</td>\n      <td>0</td>\n      <td>1</td>\n    </tr>\n    <tr>\n      <th>9</th>\n      <td>0.5</td>\n      <td>19</td>\n      <td>51.029824</td>\n      <td>3.357664</td>\n      <td>0</td>\n      <td>1</td>\n    </tr>\n    <tr>\n      <th>10</th>\n      <td>0.5</td>\n      <td>19</td>\n      <td>51.039707</td>\n      <td>3.355969</td>\n      <td>0</td>\n      <td>1</td>\n    </tr>\n    <tr>\n      <th>11</th>\n      <td>0.5</td>\n      <td>19</td>\n      <td>51.059883</td>\n      <td>3.322695</td>\n      <td>0</td>\n      <td>1</td>\n    </tr>\n    <tr>\n      <th>12</th>\n      <td>0.5</td>\n      <td>19</td>\n      <td>51.069766</td>\n      <td>3.320664</td>\n      <td>0</td>\n      <td>1</td>\n    </tr>\n    <tr>\n      <th>13</th>\n      <td>0.5</td>\n      <td>19</td>\n      <td>51.089942</td>\n      <td>3.287992</td>\n      <td>0</td>\n      <td>1</td>\n    </tr>\n    <tr>\n      <th>14</th>\n      <td>0.5</td>\n      <td>19</td>\n      <td>51.099826</td>\n      <td>3.285352</td>\n      <td>0</td>\n      <td>1</td>\n    </tr>\n    <tr>\n      <th>15</th>\n      <td>0.5</td>\n      <td>19</td>\n      <td>51.119592</td>\n      <td>3.254086</td>\n      <td>0</td>\n      <td>1</td>\n    </tr>\n    <tr>\n      <th>16</th>\n      <td>0.5</td>\n      <td>19</td>\n      <td>51.129885</td>\n      <td>3.250000</td>\n      <td>0</td>\n      <td>1</td>\n    </tr>\n    <tr>\n      <th>17</th>\n      <td>0.5</td>\n      <td>19</td>\n      <td>51.139768</td>\n      <td>3.237555</td>\n      <td>0</td>\n      <td>1</td>\n    </tr>\n    <tr>\n      <th>18</th>\n      <td>0.5</td>\n      <td>19</td>\n      <td>51.149651</td>\n      <td>3.220367</td>\n      <td>0</td>\n      <td>1</td>\n    </tr>\n    <tr>\n      <th>19</th>\n      <td>0.5</td>\n      <td>19</td>\n      <td>51.159944</td>\n      <td>3.214867</td>\n      <td>0</td>\n      <td>1</td>\n    </tr>\n    <tr>\n      <th>20</th>\n      <td>0.5</td>\n      <td>19</td>\n      <td>51.169828</td>\n      <td>3.203875</td>\n      <td>0</td>\n      <td>1</td>\n    </tr>\n    <tr>\n      <th>21</th>\n      <td>0.5</td>\n      <td>19</td>\n      <td>51.179711</td>\n      <td>3.186875</td>\n      <td>0</td>\n      <td>1</td>\n    </tr>\n    <tr>\n      <th>22</th>\n      <td>0.5</td>\n      <td>19</td>\n      <td>51.189590</td>\n      <td>3.180211</td>\n      <td>0</td>\n      <td>1</td>\n    </tr>\n    <tr>\n      <th>23</th>\n      <td>0.5</td>\n      <td>19</td>\n      <td>51.199887</td>\n      <td>3.170094</td>\n      <td>0</td>\n      <td>1</td>\n    </tr>\n    <tr>\n      <th>24</th>\n      <td>0.5</td>\n      <td>19</td>\n      <td>51.209766</td>\n      <td>3.153539</td>\n      <td>0</td>\n      <td>1</td>\n    </tr>\n    <tr>\n      <th>25</th>\n      <td>0.5</td>\n      <td>19</td>\n      <td>51.229946</td>\n      <td>3.136273</td>\n      <td>0</td>\n      <td>1</td>\n    </tr>\n    <tr>\n      <th>26</th>\n      <td>0.5</td>\n      <td>19</td>\n      <td>51.239826</td>\n      <td>3.120336</td>\n      <td>0</td>\n      <td>1</td>\n    </tr>\n    <tr>\n      <th>27</th>\n      <td>0.5</td>\n      <td>19</td>\n      <td>51.259592</td>\n      <td>3.102977</td>\n      <td>0</td>\n      <td>1</td>\n    </tr>\n    <tr>\n      <th>28</th>\n      <td>0.5</td>\n      <td>19</td>\n      <td>51.269885</td>\n      <td>3.087187</td>\n      <td>0</td>\n      <td>1</td>\n    </tr>\n    <tr>\n      <th>29</th>\n      <td>0.5</td>\n      <td>19</td>\n      <td>51.289652</td>\n      <td>3.069148</td>\n      <td>0</td>\n      <td>1</td>\n    </tr>\n  </tbody>\n</table>\n</div>"
     },
     "execution_count": 6,
     "metadata": {},
     "output_type": "execute_result"
    }
   ],
   "source": [
    "dataset_train.head(30)"
   ],
   "metadata": {
    "collapsed": false,
    "ExecuteTime": {
     "end_time": "2024-12-06T03:43:53.128591500Z",
     "start_time": "2024-12-06T03:43:52.970323300Z"
    }
   }
  },
  {
   "cell_type": "code",
   "execution_count": 7,
   "metadata": {
    "ExecuteTime": {
     "end_time": "2024-12-06T03:43:55.349293200Z",
     "start_time": "2024-12-06T03:43:55.333654500Z"
    }
   },
   "outputs": [
    {
     "name": "stdout",
     "output_type": "stream",
     "text": [
      "(11800, 5) (11800,)\n"
     ]
    }
   ],
   "source": [
    "y = dataset_train['Pressure']\n",
    "X = dataset_train.drop(['Pressure'], axis=1)\n",
    "print(X.shape, y.shape)"
   ]
  },
  {
   "cell_type": "code",
   "execution_count": 8,
   "metadata": {
    "ExecuteTime": {
     "end_time": "2024-12-06T03:43:57.244522600Z",
     "start_time": "2024-12-06T03:43:57.169643300Z"
    }
   },
   "outputs": [],
   "source": [
    "# convert to numpy array\n",
    "X = np.array(X)\n",
    "y = np.array(y)"
   ]
  },
  {
   "cell_type": "code",
   "execution_count": 9,
   "metadata": {
    "colab": {},
    "colab_type": "code",
    "id": "L5edeb2r_agx",
    "ExecuteTime": {
     "end_time": "2024-12-06T03:44:00.349250300Z",
     "start_time": "2024-12-06T03:43:59.013241600Z"
    }
   },
   "outputs": [],
   "source": [
    "from sklearn.model_selection import train_test_split\n",
    "X_train, X_test, y_train, y_test = train_test_split(X,\n",
    "                                                    y,\n",
    "                                                    test_size = 0.4,\n",
    "                                                    random_state = 0)"
   ]
  },
  {
   "cell_type": "code",
   "execution_count": 10,
   "metadata": {
    "colab": {},
    "colab_type": "code",
    "id": "L5edeb2r_agx",
    "ExecuteTime": {
     "end_time": "2024-12-06T03:44:01.591412Z",
     "start_time": "2024-12-06T03:44:01.529086400Z"
    }
   },
   "outputs": [],
   "source": [
    "X_val, X_test, y_val, y_test = train_test_split(X_test,\n",
    "                                                y_test,\n",
    "                                                test_size = 0.5,\n",
    "                                                random_state = 0)"
   ]
  },
  {
   "cell_type": "code",
   "execution_count": 12,
   "outputs": [
    {
     "name": "stdout",
     "output_type": "stream",
     "text": [
      "[[ 0.80347564  0.89644156  1.34547895  1.          0.        ]\n",
      " [-1.12873181 -1.68678292 -1.39657409  1.          0.        ]\n",
      " [-1.12873181 -1.45194433 -1.1653372   1.          0.        ]\n",
      " ...\n",
      " [ 1.50609653  0.89644156  1.37242398  1.          0.        ]\n",
      " [ 1.72566556  0.42676438  0.91444483  1.          0.        ]\n",
      " [-0.25045569  0.42676438  0.8174501   1.          0.        ]]\n"
     ]
    }
   ],
   "source": [
    "from sklearn.preprocessing import StandardScaler\n",
    "#sc = StandardScaler()\n",
    "X_train[:,0:3] = sc.transform(X_train[:, 0:3])\n",
    "print (X_train)"
   ],
   "metadata": {
    "collapsed": false,
    "ExecuteTime": {
     "end_time": "2024-12-06T03:44:31.545123900Z",
     "start_time": "2024-12-06T03:44:31.466766200Z"
    }
   }
  },
  {
   "cell_type": "code",
   "execution_count": 13,
   "outputs": [
    {
     "name": "stdout",
     "output_type": "stream",
     "text": [
      "[[ 1.72566556  0.42676438 -0.17619246  0.          1.        ]\n",
      " [ 0.80347564  0.19192579 -0.6189105   0.          1.        ]\n",
      " [ 0.97913087  0.42676438  0.02272135  0.          1.        ]\n",
      " ...\n",
      " [ 1.68175176  0.66160297  1.04868924  1.          0.        ]\n",
      " [ 1.72566556  0.42676438 -0.01230166  0.          1.        ]\n",
      " [ 1.68175176  0.89644156  0.38730451  0.          1.        ]]\n"
     ]
    }
   ],
   "source": [
    "X_test[:,0:3] = sc.transform(X_test[:,0:3])\n",
    "print (X_test)"
   ],
   "metadata": {
    "collapsed": false,
    "ExecuteTime": {
     "end_time": "2024-12-06T03:44:33.294888Z",
     "start_time": "2024-12-06T03:44:33.273743Z"
    }
   }
  },
  {
   "cell_type": "code",
   "execution_count": 14,
   "outputs": [
    {
     "name": "stdout",
     "output_type": "stream",
     "text": [
      "[[ 1.50609653  0.89644156  0.09411622  0.          1.        ]\n",
      " [-1.12873181  0.19192579  0.52875377  1.          0.        ]\n",
      " [ 1.15478609  0.19192579 -0.26554343  0.          1.        ]\n",
      " ...\n",
      " [ 1.33044131  0.19192579 -0.22153734  1.          0.        ]\n",
      " [ 0.97913087  0.42676438  1.01052194  1.          0.        ]\n",
      " [ 1.68175176  0.66160297  1.56370573  1.          0.        ]]\n"
     ]
    }
   ],
   "source": [
    "X_val[:,0:3] = sc.transform(X_val[:,0:3])\n",
    "print (X_val)"
   ],
   "metadata": {
    "collapsed": false,
    "ExecuteTime": {
     "end_time": "2024-12-06T03:44:34.701415Z",
     "start_time": "2024-12-06T03:44:34.570737800Z"
    }
   }
  },
  {
   "cell_type": "code",
   "execution_count": 15,
   "outputs": [
    {
     "name": "stdout",
     "output_type": "stream",
     "text": [
      "X_train 7080\n",
      "X_test 2360\n",
      "X_val 2360\n"
     ]
    }
   ],
   "source": [
    "print (\"X_train\", len(X_train))\n",
    "print (\"X_test\", len(X_test))\n",
    "print (\"X_val\", len(X_val))"
   ],
   "metadata": {
    "collapsed": false,
    "ExecuteTime": {
     "end_time": "2024-12-06T03:44:36.107581400Z",
     "start_time": "2024-12-06T03:44:36.035220Z"
    }
   }
  },
  {
   "cell_type": "markdown",
   "metadata": {
    "colab_type": "text",
    "id": "_mSLlAT9_eyI"
   },
   "source": [
    "## Part 3 - Building the ANN"
   ]
  },
  {
   "cell_type": "code",
   "execution_count": 15,
   "metadata": {
    "colab": {},
    "colab_type": "code",
    "id": "J6Hd97Ls__Nz",
    "ExecuteTime": {
     "end_time": "2024-08-22T04:06:58.422479800Z",
     "start_time": "2024-08-22T04:06:58.057759500Z"
    }
   },
   "outputs": [],
   "source": [
    "ann = tf.keras.models.Sequential()"
   ]
  },
  {
   "cell_type": "code",
   "execution_count": 16,
   "metadata": {
    "colab": {},
    "colab_type": "code",
    "id": "ksO_Vv40AHix",
    "ExecuteTime": {
     "end_time": "2024-08-22T04:06:58.911464300Z",
     "start_time": "2024-08-22T04:06:58.424489700Z"
    }
   },
   "outputs": [],
   "source": [
    "ann.add(tf.keras.layers.Dense(units=150,\n",
    "                              input_shape=(X_train.shape[1],),\n",
    "                              activation='relu'))\n",
    "ann.add(tf.keras.layers.Dense(units=125,\n",
    "                              activation='relu'))\n",
    "ann.add(tf.keras.layers.Dense(units=100,\n",
    "                              activation='relu'))"
   ]
  },
  {
   "cell_type": "code",
   "execution_count": 17,
   "metadata": {
    "colab": {},
    "colab_type": "code",
    "id": "YFATpzsUAkLL",
    "ExecuteTime": {
     "end_time": "2024-08-22T04:06:59.147237600Z",
     "start_time": "2024-08-22T04:06:58.913465100Z"
    }
   },
   "outputs": [],
   "source": [
    "ann.add(tf.keras.layers.Dense(units=1,\n",
    "                              activation='linear'))"
   ]
  },
  {
   "cell_type": "code",
   "execution_count": 18,
   "metadata": {
    "ExecuteTime": {
     "end_time": "2024-08-22T04:06:59.222345500Z",
     "start_time": "2024-08-22T04:06:59.125709600Z"
    }
   },
   "outputs": [
    {
     "name": "stdout",
     "output_type": "stream",
     "text": [
      "Model: \"sequential\"\n",
      "_________________________________________________________________\n",
      " Layer (type)                Output Shape              Param #   \n",
      "=================================================================\n",
      " dense (Dense)               (None, 150)               900       \n",
      "                                                                 \n",
      " dense_1 (Dense)             (None, 125)               18875     \n",
      "                                                                 \n",
      " dense_2 (Dense)             (None, 100)               12600     \n",
      "                                                                 \n",
      " dense_3 (Dense)             (None, 1)                 101       \n",
      "                                                                 \n",
      "=================================================================\n",
      "Total params: 32,476\n",
      "Trainable params: 32,476\n",
      "Non-trainable params: 0\n",
      "_________________________________________________________________\n"
     ]
    }
   ],
   "source": [
    "ann.summary()"
   ]
  },
  {
   "cell_type": "markdown",
   "metadata": {
    "colab_type": "text",
    "id": "fq7e4fF6A1yy"
   },
   "source": [
    "## Part 4 - Training the ANN"
   ]
  },
  {
   "cell_type": "code",
   "execution_count": 19,
   "metadata": {
    "colab": {},
    "colab_type": "code",
    "id": "pesgbWlCAtB4",
    "ExecuteTime": {
     "end_time": "2024-08-22T04:06:59.425590600Z",
     "start_time": "2024-08-22T04:06:59.217335700Z"
    }
   },
   "outputs": [],
   "source": [
    "# from tensorflow.keras.optimizers import Adam\n",
    "from keras.optimizers import Adam\n",
    "opt = Adam(learning_rate=0.001)\n",
    "ann.compile(optimizer = opt,\n",
    "            loss = 'mean_squared_error',\n",
    "            metrics = ['mae'])"
   ]
  },
  {
   "cell_type": "code",
   "execution_count": 20,
   "metadata": {
    "ExecuteTime": {
     "end_time": "2024-08-22T04:06:59.441596200Z",
     "start_time": "2024-08-22T04:06:59.324479800Z"
    }
   },
   "outputs": [],
   "source": [
    "# protects from unnecessary further training of the model if a particular metric does not continue to improve over a number of n epochs. In such a case, the model training would be automatically aborted.\n",
    "from keras.callbacks import EarlyStopping\n",
    "es = EarlyStopping(monitor='val_loss',\n",
    "                   mode='min',\n",
    "                   patience=50,\n",
    "                   restore_best_weights = True)"
   ]
  },
  {
   "cell_type": "code",
   "execution_count": 21,
   "metadata": {
    "colab": {
     "base_uri": "https://localhost:8080/",
     "height": 1000
    },
    "colab_type": "code",
    "id": "c_vV-tiiA5zn",
    "outputId": "4a2b6ee6-ed75-4698-9069-b250e613803f",
    "ExecuteTime": {
     "end_time": "2024-08-22T04:18:03.594011900Z",
     "start_time": "2024-08-22T04:06:59.430591100Z"
    }
   },
   "outputs": [
    {
     "name": "stdout",
     "output_type": "stream",
     "text": [
      "Epoch 1/500\n",
      "448/448 [==============================] - 33s 71ms/step - loss: 4.7021 - mae: 1.3497 - val_loss: 0.7162 - val_mae: 0.6346\n",
      "Epoch 2/500\n",
      "448/448 [==============================] - 2s 4ms/step - loss: 0.5667 - mae: 0.4992 - val_loss: 0.5415 - val_mae: 0.4515\n",
      "Epoch 3/500\n",
      "448/448 [==============================] - 2s 4ms/step - loss: 0.4816 - mae: 0.4143 - val_loss: 0.4699 - val_mae: 0.4113\n",
      "Epoch 4/500\n",
      "448/448 [==============================] - 2s 4ms/step - loss: 0.4661 - mae: 0.3990 - val_loss: 0.5173 - val_mae: 0.4647\n",
      "Epoch 5/500\n",
      "448/448 [==============================] - 2s 4ms/step - loss: 0.4626 - mae: 0.3909 - val_loss: 0.4622 - val_mae: 0.3987\n",
      "Epoch 6/500\n",
      "448/448 [==============================] - 2s 5ms/step - loss: 0.4409 - mae: 0.3748 - val_loss: 0.4858 - val_mae: 0.4196\n",
      "Epoch 7/500\n",
      "448/448 [==============================] - 5s 12ms/step - loss: 0.4390 - mae: 0.3772 - val_loss: 0.4020 - val_mae: 0.3361\n",
      "Epoch 8/500\n",
      "448/448 [==============================] - 3s 7ms/step - loss: 0.4400 - mae: 0.3738 - val_loss: 0.4472 - val_mae: 0.3963\n",
      "Epoch 9/500\n",
      "448/448 [==============================] - 3s 7ms/step - loss: 0.4219 - mae: 0.3598 - val_loss: 0.4445 - val_mae: 0.4116\n",
      "Epoch 10/500\n",
      "448/448 [==============================] - 6s 13ms/step - loss: 0.4193 - mae: 0.3692 - val_loss: 0.4438 - val_mae: 0.4343\n",
      "Epoch 11/500\n",
      "448/448 [==============================] - 3s 6ms/step - loss: 0.4001 - mae: 0.3462 - val_loss: 0.3814 - val_mae: 0.3370\n",
      "Epoch 12/500\n",
      "448/448 [==============================] - 2s 5ms/step - loss: 0.3974 - mae: 0.3442 - val_loss: 0.4840 - val_mae: 0.4049\n",
      "Epoch 13/500\n",
      "448/448 [==============================] - 2s 4ms/step - loss: 0.3936 - mae: 0.3445 - val_loss: 0.4008 - val_mae: 0.3812\n",
      "Epoch 14/500\n",
      "448/448 [==============================] - 2s 4ms/step - loss: 0.3910 - mae: 0.3382 - val_loss: 0.3819 - val_mae: 0.3261\n",
      "Epoch 15/500\n",
      "448/448 [==============================] - 2s 5ms/step - loss: 0.3842 - mae: 0.3350 - val_loss: 0.3908 - val_mae: 0.3776\n",
      "Epoch 16/500\n",
      "448/448 [==============================] - 3s 7ms/step - loss: 0.3668 - mae: 0.3197 - val_loss: 0.3540 - val_mae: 0.3344\n",
      "Epoch 17/500\n",
      "448/448 [==============================] - 5s 10ms/step - loss: 0.3867 - mae: 0.3271 - val_loss: 0.3964 - val_mae: 0.2886\n",
      "Epoch 18/500\n",
      "448/448 [==============================] - 3s 6ms/step - loss: 0.3644 - mae: 0.3089 - val_loss: 0.3690 - val_mae: 0.3160\n",
      "Epoch 19/500\n",
      "448/448 [==============================] - 4s 8ms/step - loss: 0.3695 - mae: 0.3164 - val_loss: 0.4553 - val_mae: 0.3349\n",
      "Epoch 20/500\n",
      "448/448 [==============================] - 4s 10ms/step - loss: 0.3713 - mae: 0.3152 - val_loss: 0.4379 - val_mae: 0.3187\n",
      "Epoch 21/500\n",
      "448/448 [==============================] - 2s 5ms/step - loss: 0.3623 - mae: 0.3059 - val_loss: 0.4049 - val_mae: 0.3084\n",
      "Epoch 22/500\n",
      "448/448 [==============================] - 4s 8ms/step - loss: 0.3551 - mae: 0.2966 - val_loss: 0.3510 - val_mae: 0.3203\n",
      "Epoch 23/500\n",
      "448/448 [==============================] - 2s 5ms/step - loss: 0.3562 - mae: 0.2981 - val_loss: 0.3465 - val_mae: 0.3225\n",
      "Epoch 24/500\n",
      "448/448 [==============================] - 4s 8ms/step - loss: 0.3478 - mae: 0.3003 - val_loss: 0.3887 - val_mae: 0.2930\n",
      "Epoch 25/500\n",
      "448/448 [==============================] - 5s 10ms/step - loss: 0.3436 - mae: 0.2894 - val_loss: 0.3242 - val_mae: 0.2620\n",
      "Epoch 26/500\n",
      "448/448 [==============================] - 3s 6ms/step - loss: 0.3469 - mae: 0.2911 - val_loss: 0.3182 - val_mae: 0.2679\n",
      "Epoch 27/500\n",
      "448/448 [==============================] - 3s 7ms/step - loss: 0.3437 - mae: 0.2943 - val_loss: 0.3324 - val_mae: 0.2970\n",
      "Epoch 28/500\n",
      "448/448 [==============================] - 3s 6ms/step - loss: 0.3541 - mae: 0.3029 - val_loss: 0.3388 - val_mae: 0.2824\n",
      "Epoch 29/500\n",
      "448/448 [==============================] - 4s 10ms/step - loss: 0.3398 - mae: 0.2868 - val_loss: 0.4023 - val_mae: 0.3341\n",
      "Epoch 30/500\n",
      "448/448 [==============================] - 2s 5ms/step - loss: 0.3408 - mae: 0.2921 - val_loss: 0.3570 - val_mae: 0.2773\n",
      "Epoch 31/500\n",
      "448/448 [==============================] - 2s 6ms/step - loss: 0.3609 - mae: 0.3084 - val_loss: 0.3839 - val_mae: 0.3656\n",
      "Epoch 32/500\n",
      "448/448 [==============================] - 3s 7ms/step - loss: 0.3368 - mae: 0.2820 - val_loss: 0.3507 - val_mae: 0.2825\n",
      "Epoch 33/500\n",
      "448/448 [==============================] - 2s 5ms/step - loss: 0.3387 - mae: 0.2853 - val_loss: 0.3326 - val_mae: 0.2823\n",
      "Epoch 34/500\n",
      "448/448 [==============================] - 6s 13ms/step - loss: 0.3390 - mae: 0.2850 - val_loss: 0.4919 - val_mae: 0.2938\n",
      "Epoch 35/500\n",
      "448/448 [==============================] - 4s 9ms/step - loss: 0.3462 - mae: 0.2908 - val_loss: 0.3225 - val_mae: 0.2934\n",
      "Epoch 36/500\n",
      "448/448 [==============================] - 4s 8ms/step - loss: 0.3347 - mae: 0.2841 - val_loss: 0.3528 - val_mae: 0.2805\n",
      "Epoch 37/500\n",
      "448/448 [==============================] - 2s 6ms/step - loss: 0.3415 - mae: 0.2896 - val_loss: 0.3159 - val_mae: 0.2622\n",
      "Epoch 38/500\n",
      "448/448 [==============================] - 4s 8ms/step - loss: 0.3457 - mae: 0.2915 - val_loss: 0.3107 - val_mae: 0.2709\n",
      "Epoch 39/500\n",
      "448/448 [==============================] - 2s 4ms/step - loss: 0.3307 - mae: 0.2800 - val_loss: 0.3108 - val_mae: 0.2596\n",
      "Epoch 40/500\n",
      "448/448 [==============================] - 3s 8ms/step - loss: 0.3315 - mae: 0.2796 - val_loss: 0.3710 - val_mae: 0.3176\n",
      "Epoch 41/500\n",
      "448/448 [==============================] - 2s 5ms/step - loss: 0.3581 - mae: 0.3075 - val_loss: 0.3629 - val_mae: 0.2769\n",
      "Epoch 42/500\n",
      "448/448 [==============================] - 2s 5ms/step - loss: 0.3262 - mae: 0.2737 - val_loss: 0.3083 - val_mae: 0.2536\n",
      "Epoch 43/500\n",
      "448/448 [==============================] - 5s 11ms/step - loss: 0.3269 - mae: 0.2690 - val_loss: 0.3266 - val_mae: 0.2588\n",
      "Epoch 44/500\n",
      "448/448 [==============================] - 4s 8ms/step - loss: 0.3339 - mae: 0.2803 - val_loss: 0.3265 - val_mae: 0.2764\n",
      "Epoch 45/500\n",
      "448/448 [==============================] - 4s 8ms/step - loss: 0.3349 - mae: 0.2838 - val_loss: 0.3445 - val_mae: 0.3081\n",
      "Epoch 46/500\n",
      "448/448 [==============================] - 4s 8ms/step - loss: 0.3323 - mae: 0.2743 - val_loss: 0.3300 - val_mae: 0.2705\n",
      "Epoch 47/500\n",
      "448/448 [==============================] - 2s 4ms/step - loss: 0.3287 - mae: 0.2764 - val_loss: 0.3280 - val_mae: 0.2703\n",
      "Epoch 48/500\n",
      "448/448 [==============================] - 2s 5ms/step - loss: 0.3346 - mae: 0.2736 - val_loss: 0.3200 - val_mae: 0.2559\n",
      "Epoch 49/500\n",
      "448/448 [==============================] - 3s 6ms/step - loss: 0.3191 - mae: 0.2693 - val_loss: 0.3080 - val_mae: 0.2629\n",
      "Epoch 50/500\n",
      "448/448 [==============================] - 3s 7ms/step - loss: 0.3194 - mae: 0.2608 - val_loss: 0.4838 - val_mae: 0.3866\n",
      "Epoch 51/500\n",
      "448/448 [==============================] - 2s 4ms/step - loss: 0.3173 - mae: 0.2644 - val_loss: 0.3175 - val_mae: 0.2662\n",
      "Epoch 52/500\n",
      "448/448 [==============================] - 2s 5ms/step - loss: 0.3167 - mae: 0.2644 - val_loss: 0.2919 - val_mae: 0.2556\n",
      "Epoch 53/500\n",
      "448/448 [==============================] - 2s 4ms/step - loss: 0.3151 - mae: 0.2680 - val_loss: 0.3138 - val_mae: 0.2927\n",
      "Epoch 54/500\n",
      "448/448 [==============================] - 2s 4ms/step - loss: 0.3081 - mae: 0.2645 - val_loss: 0.4178 - val_mae: 0.2617\n",
      "Epoch 55/500\n",
      "448/448 [==============================] - 2s 4ms/step - loss: 0.3212 - mae: 0.2665 - val_loss: 0.3446 - val_mae: 0.2435\n",
      "Epoch 56/500\n",
      "448/448 [==============================] - 3s 7ms/step - loss: 0.3197 - mae: 0.2691 - val_loss: 0.2988 - val_mae: 0.2338\n",
      "Epoch 57/500\n",
      "448/448 [==============================] - 3s 7ms/step - loss: 0.3100 - mae: 0.2586 - val_loss: 0.2795 - val_mae: 0.2254\n",
      "Epoch 58/500\n",
      "448/448 [==============================] - 3s 6ms/step - loss: 0.3328 - mae: 0.2741 - val_loss: 0.3655 - val_mae: 0.3112\n",
      "Epoch 59/500\n",
      "448/448 [==============================] - 2s 4ms/step - loss: 0.3121 - mae: 0.2582 - val_loss: 0.3202 - val_mae: 0.2557\n",
      "Epoch 60/500\n",
      "448/448 [==============================] - 3s 6ms/step - loss: 0.3116 - mae: 0.2626 - val_loss: 0.4110 - val_mae: 0.2580\n",
      "Epoch 61/500\n",
      "448/448 [==============================] - 3s 6ms/step - loss: 0.3266 - mae: 0.2649 - val_loss: 0.2975 - val_mae: 0.2632\n",
      "Epoch 62/500\n",
      "448/448 [==============================] - 2s 5ms/step - loss: 0.3106 - mae: 0.2584 - val_loss: 0.3427 - val_mae: 0.2923\n",
      "Epoch 63/500\n",
      "448/448 [==============================] - 3s 7ms/step - loss: 0.3192 - mae: 0.2688 - val_loss: 0.3032 - val_mae: 0.2648\n",
      "Epoch 64/500\n",
      "448/448 [==============================] - 2s 5ms/step - loss: 0.3179 - mae: 0.2672 - val_loss: 0.3094 - val_mae: 0.2677\n",
      "Epoch 65/500\n",
      "448/448 [==============================] - 5s 10ms/step - loss: 0.3226 - mae: 0.2678 - val_loss: 0.3877 - val_mae: 0.2810\n",
      "Epoch 66/500\n",
      "448/448 [==============================] - 3s 7ms/step - loss: 0.3119 - mae: 0.2634 - val_loss: 0.3195 - val_mae: 0.2748\n",
      "Epoch 67/500\n",
      "448/448 [==============================] - 2s 5ms/step - loss: 0.3167 - mae: 0.2594 - val_loss: 0.3143 - val_mae: 0.2665\n",
      "Epoch 68/500\n",
      "448/448 [==============================] - 2s 5ms/step - loss: 0.3088 - mae: 0.2522 - val_loss: 0.3267 - val_mae: 0.2458\n",
      "Epoch 69/500\n",
      "448/448 [==============================] - 6s 14ms/step - loss: 0.3141 - mae: 0.2639 - val_loss: 0.3402 - val_mae: 0.2572\n",
      "Epoch 70/500\n",
      "448/448 [==============================] - 3s 7ms/step - loss: 0.3097 - mae: 0.2550 - val_loss: 0.2930 - val_mae: 0.2368\n",
      "Epoch 71/500\n",
      "448/448 [==============================] - 2s 5ms/step - loss: 0.3193 - mae: 0.2692 - val_loss: 0.3396 - val_mae: 0.2476\n",
      "Epoch 72/500\n",
      "448/448 [==============================] - 2s 4ms/step - loss: 0.3009 - mae: 0.2512 - val_loss: 0.2829 - val_mae: 0.2394\n",
      "Epoch 73/500\n",
      "448/448 [==============================] - 2s 4ms/step - loss: 0.3186 - mae: 0.2672 - val_loss: 0.2990 - val_mae: 0.2480\n",
      "Epoch 74/500\n",
      "448/448 [==============================] - 2s 5ms/step - loss: 0.3039 - mae: 0.2490 - val_loss: 0.3207 - val_mae: 0.2710\n",
      "Epoch 75/500\n",
      "448/448 [==============================] - 2s 5ms/step - loss: 0.3073 - mae: 0.2611 - val_loss: 0.3344 - val_mae: 0.2520\n",
      "Epoch 76/500\n",
      "448/448 [==============================] - 3s 6ms/step - loss: 0.3223 - mae: 0.2656 - val_loss: 0.3047 - val_mae: 0.2294\n",
      "Epoch 77/500\n",
      "448/448 [==============================] - 2s 5ms/step - loss: 0.3047 - mae: 0.2536 - val_loss: 0.4250 - val_mae: 0.3780\n",
      "Epoch 78/500\n",
      "448/448 [==============================] - 3s 7ms/step - loss: 0.3089 - mae: 0.2663 - val_loss: 0.3100 - val_mae: 0.2693\n",
      "Epoch 79/500\n",
      "448/448 [==============================] - 3s 7ms/step - loss: 0.3121 - mae: 0.2573 - val_loss: 0.3797 - val_mae: 0.3032\n",
      "Epoch 80/500\n",
      "448/448 [==============================] - 3s 6ms/step - loss: 0.2967 - mae: 0.2486 - val_loss: 0.3621 - val_mae: 0.2391\n",
      "Epoch 81/500\n",
      "448/448 [==============================] - 2s 5ms/step - loss: 0.2992 - mae: 0.2500 - val_loss: 0.3270 - val_mae: 0.3044\n",
      "Epoch 82/500\n",
      "448/448 [==============================] - 2s 5ms/step - loss: 0.3451 - mae: 0.2848 - val_loss: 0.3186 - val_mae: 0.3118\n",
      "Epoch 83/500\n",
      "448/448 [==============================] - 2s 5ms/step - loss: 0.2968 - mae: 0.2460 - val_loss: 0.3181 - val_mae: 0.2445\n",
      "Epoch 84/500\n",
      "448/448 [==============================] - 2s 4ms/step - loss: 0.2978 - mae: 0.2509 - val_loss: 0.2937 - val_mae: 0.2553\n",
      "Epoch 85/500\n",
      "448/448 [==============================] - 2s 4ms/step - loss: 0.3031 - mae: 0.2519 - val_loss: 0.3231 - val_mae: 0.2587\n",
      "Epoch 86/500\n",
      "448/448 [==============================] - 3s 6ms/step - loss: 0.3085 - mae: 0.2619 - val_loss: 0.2951 - val_mae: 0.2469\n",
      "Epoch 87/500\n",
      "448/448 [==============================] - 5s 12ms/step - loss: 0.3036 - mae: 0.2537 - val_loss: 0.2800 - val_mae: 0.2183\n",
      "Epoch 88/500\n",
      "448/448 [==============================] - 4s 10ms/step - loss: 0.3075 - mae: 0.2517 - val_loss: 0.3361 - val_mae: 0.3073\n",
      "Epoch 89/500\n",
      "448/448 [==============================] - 3s 6ms/step - loss: 0.3075 - mae: 0.2493 - val_loss: 0.3544 - val_mae: 0.2581\n",
      "Epoch 90/500\n",
      "448/448 [==============================] - 3s 6ms/step - loss: 0.3010 - mae: 0.2465 - val_loss: 0.3091 - val_mae: 0.2371\n",
      "Epoch 91/500\n",
      "448/448 [==============================] - 11s 24ms/step - loss: 0.2893 - mae: 0.2417 - val_loss: 0.3383 - val_mae: 0.2409\n",
      "Epoch 92/500\n",
      "448/448 [==============================] - 3s 6ms/step - loss: 0.2991 - mae: 0.2479 - val_loss: 0.2827 - val_mae: 0.2333\n",
      "Epoch 93/500\n",
      "448/448 [==============================] - 2s 4ms/step - loss: 0.3081 - mae: 0.2530 - val_loss: 0.3432 - val_mae: 0.2884\n",
      "Epoch 94/500\n",
      "448/448 [==============================] - 2s 5ms/step - loss: 0.2959 - mae: 0.2504 - val_loss: 0.3370 - val_mae: 0.2459\n",
      "Epoch 95/500\n",
      "448/448 [==============================] - 2s 4ms/step - loss: 0.2954 - mae: 0.2492 - val_loss: 0.3143 - val_mae: 0.2486\n",
      "Epoch 96/500\n",
      "448/448 [==============================] - 2s 5ms/step - loss: 0.3018 - mae: 0.2496 - val_loss: 0.2916 - val_mae: 0.2361\n",
      "Epoch 97/500\n",
      "448/448 [==============================] - 4s 9ms/step - loss: 0.3057 - mae: 0.2517 - val_loss: 0.3154 - val_mae: 0.2815\n",
      "Epoch 98/500\n",
      "448/448 [==============================] - 2s 5ms/step - loss: 0.2992 - mae: 0.2452 - val_loss: 0.3262 - val_mae: 0.3041\n",
      "Epoch 99/500\n",
      "448/448 [==============================] - 4s 9ms/step - loss: 0.3004 - mae: 0.2453 - val_loss: 0.3093 - val_mae: 0.2300\n",
      "Epoch 100/500\n",
      "448/448 [==============================] - 2s 4ms/step - loss: 0.2983 - mae: 0.2451 - val_loss: 0.2845 - val_mae: 0.2217\n",
      "Epoch 101/500\n",
      "448/448 [==============================] - 2s 5ms/step - loss: 0.2940 - mae: 0.2427 - val_loss: 0.3362 - val_mae: 0.3088\n",
      "Epoch 102/500\n",
      "448/448 [==============================] - 2s 5ms/step - loss: 0.2968 - mae: 0.2446 - val_loss: 0.2806 - val_mae: 0.2206\n",
      "Epoch 103/500\n",
      "448/448 [==============================] - 2s 4ms/step - loss: 0.2997 - mae: 0.2483 - val_loss: 0.2817 - val_mae: 0.2214\n",
      "Epoch 104/500\n",
      "448/448 [==============================] - 2s 4ms/step - loss: 0.2803 - mae: 0.2335 - val_loss: 0.2704 - val_mae: 0.2377\n",
      "Epoch 105/500\n",
      "448/448 [==============================] - 3s 6ms/step - loss: 0.3005 - mae: 0.2431 - val_loss: 0.2964 - val_mae: 0.2666\n",
      "Epoch 106/500\n",
      "448/448 [==============================] - 3s 7ms/step - loss: 0.3080 - mae: 0.2491 - val_loss: 0.3073 - val_mae: 0.2583\n",
      "Epoch 107/500\n",
      "448/448 [==============================] - 3s 7ms/step - loss: 0.2886 - mae: 0.2384 - val_loss: 0.3126 - val_mae: 0.2609\n",
      "Epoch 108/500\n",
      "448/448 [==============================] - 2s 5ms/step - loss: 0.2972 - mae: 0.2465 - val_loss: 0.3054 - val_mae: 0.2617\n",
      "Epoch 109/500\n",
      "448/448 [==============================] - 3s 7ms/step - loss: 0.2991 - mae: 0.2455 - val_loss: 0.3545 - val_mae: 0.3171\n",
      "Epoch 110/500\n",
      "448/448 [==============================] - 2s 5ms/step - loss: 0.3136 - mae: 0.2553 - val_loss: 0.2904 - val_mae: 0.2524\n",
      "Epoch 111/500\n",
      "448/448 [==============================] - 2s 5ms/step - loss: 0.2913 - mae: 0.2404 - val_loss: 0.2947 - val_mae: 0.2412\n",
      "Epoch 112/500\n",
      "448/448 [==============================] - 2s 5ms/step - loss: 0.3015 - mae: 0.2458 - val_loss: 0.2929 - val_mae: 0.2604\n",
      "Epoch 113/500\n",
      "448/448 [==============================] - 2s 4ms/step - loss: 0.2932 - mae: 0.2466 - val_loss: 0.3097 - val_mae: 0.2256\n",
      "Epoch 114/500\n",
      "448/448 [==============================] - 3s 6ms/step - loss: 0.2908 - mae: 0.2406 - val_loss: 0.3773 - val_mae: 0.2616\n",
      "Epoch 115/500\n",
      "448/448 [==============================] - 2s 4ms/step - loss: 0.2896 - mae: 0.2374 - val_loss: 0.2920 - val_mae: 0.2363\n",
      "Epoch 116/500\n",
      "448/448 [==============================] - 3s 7ms/step - loss: 0.2932 - mae: 0.2409 - val_loss: 0.2872 - val_mae: 0.2365\n",
      "Epoch 117/500\n",
      "448/448 [==============================] - 2s 4ms/step - loss: 0.2902 - mae: 0.2387 - val_loss: 0.2956 - val_mae: 0.2572\n",
      "Epoch 118/500\n",
      "448/448 [==============================] - 3s 6ms/step - loss: 0.2948 - mae: 0.2368 - val_loss: 0.3290 - val_mae: 0.2436\n",
      "Epoch 119/500\n",
      "448/448 [==============================] - 4s 9ms/step - loss: 0.2885 - mae: 0.2352 - val_loss: 0.2927 - val_mae: 0.2561\n",
      "Epoch 120/500\n",
      "448/448 [==============================] - 4s 8ms/step - loss: 0.2939 - mae: 0.2390 - val_loss: 0.2884 - val_mae: 0.2360\n",
      "Epoch 121/500\n",
      "448/448 [==============================] - 3s 6ms/step - loss: 0.2969 - mae: 0.2440 - val_loss: 0.3376 - val_mae: 0.2746\n",
      "Epoch 122/500\n",
      "448/448 [==============================] - 2s 5ms/step - loss: 0.2973 - mae: 0.2408 - val_loss: 0.2944 - val_mae: 0.2588\n",
      "Epoch 123/500\n",
      "448/448 [==============================] - 2s 4ms/step - loss: 0.2849 - mae: 0.2366 - val_loss: 0.2959 - val_mae: 0.2232\n",
      "Epoch 124/500\n",
      "448/448 [==============================] - 2s 5ms/step - loss: 0.2919 - mae: 0.2364 - val_loss: 0.2864 - val_mae: 0.2184\n",
      "Epoch 125/500\n",
      "448/448 [==============================] - 5s 11ms/step - loss: 0.2930 - mae: 0.2371 - val_loss: 0.2955 - val_mae: 0.2643\n",
      "Epoch 126/500\n",
      "448/448 [==============================] - 2s 5ms/step - loss: 0.2825 - mae: 0.2358 - val_loss: 0.2913 - val_mae: 0.2218\n",
      "Epoch 127/500\n",
      "448/448 [==============================] - 2s 5ms/step - loss: 0.2879 - mae: 0.2390 - val_loss: 0.2993 - val_mae: 0.2906\n",
      "Epoch 128/500\n",
      "448/448 [==============================] - 2s 5ms/step - loss: 0.2924 - mae: 0.2362 - val_loss: 0.2876 - val_mae: 0.2279\n",
      "Epoch 129/500\n",
      "448/448 [==============================] - 2s 5ms/step - loss: 0.2889 - mae: 0.2353 - val_loss: 0.2917 - val_mae: 0.2362\n",
      "Epoch 130/500\n",
      "448/448 [==============================] - 3s 6ms/step - loss: 0.2889 - mae: 0.2362 - val_loss: 0.3087 - val_mae: 0.2166\n",
      "Epoch 131/500\n",
      "448/448 [==============================] - 2s 5ms/step - loss: 0.2946 - mae: 0.2348 - val_loss: 0.2778 - val_mae: 0.2117\n",
      "Epoch 132/500\n",
      "448/448 [==============================] - 3s 7ms/step - loss: 0.2904 - mae: 0.2344 - val_loss: 0.2770 - val_mae: 0.2334\n",
      "Epoch 133/500\n",
      "448/448 [==============================] - 2s 5ms/step - loss: 0.3040 - mae: 0.2483 - val_loss: 0.2800 - val_mae: 0.2254\n",
      "Epoch 134/500\n",
      "448/448 [==============================] - 2s 5ms/step - loss: 0.2988 - mae: 0.2416 - val_loss: 0.2885 - val_mae: 0.2306\n",
      "Epoch 135/500\n",
      "448/448 [==============================] - 3s 8ms/step - loss: 0.2895 - mae: 0.2361 - val_loss: 0.2748 - val_mae: 0.2339\n",
      "Epoch 136/500\n",
      "448/448 [==============================] - 2s 5ms/step - loss: 0.2811 - mae: 0.2322 - val_loss: 0.2733 - val_mae: 0.2144\n",
      "Epoch 137/500\n",
      "448/448 [==============================] - 3s 6ms/step - loss: 0.2908 - mae: 0.2376 - val_loss: 0.2760 - val_mae: 0.2172\n",
      "Epoch 138/500\n",
      "448/448 [==============================] - 3s 6ms/step - loss: 0.2876 - mae: 0.2343 - val_loss: 0.2896 - val_mae: 0.2545\n",
      "Epoch 139/500\n",
      "448/448 [==============================] - 3s 7ms/step - loss: 0.2890 - mae: 0.2388 - val_loss: 0.3889 - val_mae: 0.2753\n",
      "Epoch 140/500\n",
      "448/448 [==============================] - 2s 5ms/step - loss: 0.2820 - mae: 0.2303 - val_loss: 0.3147 - val_mae: 0.2614\n",
      "Epoch 141/500\n",
      "448/448 [==============================] - 4s 9ms/step - loss: 0.2846 - mae: 0.2290 - val_loss: 0.2828 - val_mae: 0.2298\n",
      "Epoch 142/500\n",
      "448/448 [==============================] - 3s 7ms/step - loss: 0.2819 - mae: 0.2302 - val_loss: 0.2997 - val_mae: 0.2406\n",
      "Epoch 143/500\n",
      "448/448 [==============================] - 2s 5ms/step - loss: 0.2868 - mae: 0.2348 - val_loss: 0.3008 - val_mae: 0.2434\n",
      "Epoch 144/500\n",
      "448/448 [==============================] - 2s 5ms/step - loss: 0.3153 - mae: 0.2542 - val_loss: 0.3268 - val_mae: 0.2516\n",
      "Epoch 145/500\n",
      "448/448 [==============================] - 3s 6ms/step - loss: 0.2760 - mae: 0.2278 - val_loss: 0.2658 - val_mae: 0.1962\n",
      "Epoch 146/500\n",
      "448/448 [==============================] - 2s 5ms/step - loss: 0.2838 - mae: 0.2333 - val_loss: 0.2929 - val_mae: 0.2161\n",
      "Epoch 147/500\n",
      "448/448 [==============================] - 3s 7ms/step - loss: 0.2897 - mae: 0.2377 - val_loss: 0.3470 - val_mae: 0.3257\n",
      "Epoch 148/500\n",
      "448/448 [==============================] - 2s 5ms/step - loss: 0.2906 - mae: 0.2386 - val_loss: 0.3116 - val_mae: 0.2608\n",
      "Epoch 149/500\n",
      "448/448 [==============================] - 2s 5ms/step - loss: 0.2749 - mae: 0.2208 - val_loss: 0.2688 - val_mae: 0.2130\n",
      "Epoch 150/500\n",
      "448/448 [==============================] - 3s 6ms/step - loss: 0.2822 - mae: 0.2351 - val_loss: 0.2944 - val_mae: 0.2707\n",
      "Epoch 151/500\n",
      "448/448 [==============================] - 2s 5ms/step - loss: 0.2878 - mae: 0.2327 - val_loss: 0.2972 - val_mae: 0.2292\n",
      "Epoch 152/500\n",
      "448/448 [==============================] - 3s 7ms/step - loss: 0.2903 - mae: 0.2356 - val_loss: 0.2779 - val_mae: 0.2164\n",
      "Epoch 153/500\n",
      "448/448 [==============================] - 3s 7ms/step - loss: 0.2925 - mae: 0.2318 - val_loss: 0.3934 - val_mae: 0.2943\n",
      "Epoch 154/500\n",
      "448/448 [==============================] - 3s 6ms/step - loss: 0.2889 - mae: 0.2358 - val_loss: 0.2752 - val_mae: 0.2445\n",
      "Epoch 155/500\n",
      "448/448 [==============================] - 3s 6ms/step - loss: 0.2890 - mae: 0.2377 - val_loss: 0.2679 - val_mae: 0.2087\n",
      "Epoch 156/500\n",
      "448/448 [==============================] - 2s 5ms/step - loss: 0.2815 - mae: 0.2292 - val_loss: 0.2929 - val_mae: 0.2373\n",
      "Epoch 157/500\n",
      "448/448 [==============================] - 3s 7ms/step - loss: 0.2757 - mae: 0.2269 - val_loss: 0.3157 - val_mae: 0.2732\n",
      "Epoch 158/500\n",
      "448/448 [==============================] - 2s 5ms/step - loss: 0.2836 - mae: 0.2231 - val_loss: 0.2902 - val_mae: 0.2702\n",
      "Epoch 159/500\n",
      "448/448 [==============================] - 2s 5ms/step - loss: 0.2912 - mae: 0.2382 - val_loss: 0.2820 - val_mae: 0.2316\n",
      "Epoch 160/500\n",
      "448/448 [==============================] - 3s 7ms/step - loss: 0.2824 - mae: 0.2306 - val_loss: 0.3513 - val_mae: 0.2223\n",
      "Epoch 161/500\n",
      "448/448 [==============================] - 2s 5ms/step - loss: 0.2878 - mae: 0.2333 - val_loss: 0.2939 - val_mae: 0.2092\n",
      "Epoch 162/500\n",
      "448/448 [==============================] - 4s 9ms/step - loss: 0.2770 - mae: 0.2251 - val_loss: 0.2679 - val_mae: 0.2113\n",
      "Epoch 163/500\n",
      "448/448 [==============================] - 2s 4ms/step - loss: 0.2858 - mae: 0.2375 - val_loss: 0.3296 - val_mae: 0.2243\n",
      "Epoch 164/500\n",
      "448/448 [==============================] - 4s 8ms/step - loss: 0.2741 - mae: 0.2235 - val_loss: 0.2957 - val_mae: 0.2413\n",
      "Epoch 165/500\n",
      "448/448 [==============================] - 3s 6ms/step - loss: 0.2775 - mae: 0.2275 - val_loss: 0.4218 - val_mae: 0.2859\n",
      "Epoch 166/500\n",
      "448/448 [==============================] - 3s 6ms/step - loss: 0.2879 - mae: 0.2365 - val_loss: 0.2881 - val_mae: 0.2288\n",
      "Epoch 167/500\n",
      "448/448 [==============================] - 2s 4ms/step - loss: 0.2704 - mae: 0.2179 - val_loss: 0.2716 - val_mae: 0.2294\n",
      "Epoch 168/500\n",
      "448/448 [==============================] - 3s 7ms/step - loss: 0.2867 - mae: 0.2366 - val_loss: 0.3382 - val_mae: 0.2751\n",
      "Epoch 169/500\n",
      "448/448 [==============================] - 2s 5ms/step - loss: 0.2802 - mae: 0.2317 - val_loss: 0.2712 - val_mae: 0.2275\n",
      "Epoch 170/500\n",
      "448/448 [==============================] - 2s 4ms/step - loss: 0.2770 - mae: 0.2277 - val_loss: 0.3615 - val_mae: 0.2412\n",
      "Epoch 171/500\n",
      "448/448 [==============================] - 3s 8ms/step - loss: 0.2829 - mae: 0.2318 - val_loss: 0.2849 - val_mae: 0.2572\n",
      "Epoch 172/500\n",
      "448/448 [==============================] - 2s 4ms/step - loss: 0.2836 - mae: 0.2297 - val_loss: 0.3207 - val_mae: 0.2616\n",
      "Epoch 173/500\n",
      "448/448 [==============================] - 3s 6ms/step - loss: 0.2836 - mae: 0.2269 - val_loss: 0.3163 - val_mae: 0.2505\n",
      "Epoch 174/500\n",
      "448/448 [==============================] - 3s 6ms/step - loss: 0.2707 - mae: 0.2190 - val_loss: 0.3116 - val_mae: 0.2243\n",
      "Epoch 175/500\n",
      "448/448 [==============================] - 3s 6ms/step - loss: 0.2828 - mae: 0.2337 - val_loss: 0.2782 - val_mae: 0.2294\n",
      "Epoch 176/500\n",
      "448/448 [==============================] - 2s 5ms/step - loss: 0.2717 - mae: 0.2208 - val_loss: 0.2922 - val_mae: 0.2102\n",
      "Epoch 177/500\n",
      "448/448 [==============================] - 3s 6ms/step - loss: 0.2636 - mae: 0.2167 - val_loss: 0.2750 - val_mae: 0.1946\n",
      "Epoch 178/500\n",
      "448/448 [==============================] - 2s 6ms/step - loss: 0.2743 - mae: 0.2210 - val_loss: 0.2768 - val_mae: 0.2014\n",
      "Epoch 179/500\n",
      "448/448 [==============================] - 2s 4ms/step - loss: 0.2815 - mae: 0.2239 - val_loss: 0.2825 - val_mae: 0.2118\n",
      "Epoch 180/500\n",
      "448/448 [==============================] - 3s 6ms/step - loss: 0.2717 - mae: 0.2190 - val_loss: 0.2547 - val_mae: 0.2050\n",
      "Epoch 181/500\n",
      "448/448 [==============================] - 4s 9ms/step - loss: 0.2747 - mae: 0.2235 - val_loss: 0.2653 - val_mae: 0.2150\n",
      "Epoch 182/500\n",
      "448/448 [==============================] - 2s 5ms/step - loss: 0.2824 - mae: 0.2287 - val_loss: 0.2672 - val_mae: 0.2122\n",
      "Epoch 183/500\n",
      "448/448 [==============================] - 3s 6ms/step - loss: 0.2870 - mae: 0.2313 - val_loss: 0.2773 - val_mae: 0.2099\n",
      "Epoch 184/500\n",
      "448/448 [==============================] - 3s 7ms/step - loss: 0.2770 - mae: 0.2215 - val_loss: 0.2884 - val_mae: 0.2337\n",
      "Epoch 185/500\n",
      "448/448 [==============================] - 3s 6ms/step - loss: 0.2769 - mae: 0.2221 - val_loss: 0.2781 - val_mae: 0.2258\n",
      "Epoch 186/500\n",
      "448/448 [==============================] - 3s 7ms/step - loss: 0.2845 - mae: 0.2313 - val_loss: 0.3024 - val_mae: 0.2479\n",
      "Epoch 187/500\n",
      "448/448 [==============================] - 2s 5ms/step - loss: 0.2871 - mae: 0.2288 - val_loss: 0.2756 - val_mae: 0.2196\n",
      "Epoch 188/500\n",
      "448/448 [==============================] - 2s 4ms/step - loss: 0.2909 - mae: 0.2324 - val_loss: 0.2941 - val_mae: 0.2654\n",
      "Epoch 189/500\n",
      "448/448 [==============================] - 2s 4ms/step - loss: 0.2863 - mae: 0.2354 - val_loss: 0.2894 - val_mae: 0.2338\n",
      "Epoch 190/500\n",
      "448/448 [==============================] - 3s 7ms/step - loss: 0.2760 - mae: 0.2221 - val_loss: 0.2944 - val_mae: 0.2119\n",
      "Epoch 191/500\n",
      "448/448 [==============================] - 2s 5ms/step - loss: 0.2790 - mae: 0.2267 - val_loss: 0.3240 - val_mae: 0.2350\n",
      "Epoch 192/500\n",
      "448/448 [==============================] - 3s 7ms/step - loss: 0.2745 - mae: 0.2222 - val_loss: 0.2627 - val_mae: 0.2270\n",
      "Epoch 193/500\n",
      "448/448 [==============================] - 2s 4ms/step - loss: 0.2801 - mae: 0.2247 - val_loss: 0.3114 - val_mae: 0.2161\n",
      "Epoch 194/500\n",
      "448/448 [==============================] - 2s 5ms/step - loss: 0.2817 - mae: 0.2276 - val_loss: 0.2805 - val_mae: 0.2213\n",
      "Epoch 195/500\n",
      "448/448 [==============================] - 7s 16ms/step - loss: 0.2708 - mae: 0.2172 - val_loss: 0.2940 - val_mae: 0.2172\n",
      "Epoch 196/500\n",
      "448/448 [==============================] - 2s 5ms/step - loss: 0.2740 - mae: 0.2221 - val_loss: 0.3053 - val_mae: 0.2770\n",
      "Epoch 197/500\n",
      "448/448 [==============================] - 2s 4ms/step - loss: 0.2724 - mae: 0.2198 - val_loss: 0.3311 - val_mae: 0.2411\n",
      "Epoch 198/500\n",
      "448/448 [==============================] - 3s 8ms/step - loss: 0.2724 - mae: 0.2156 - val_loss: 0.2889 - val_mae: 0.2110\n",
      "Epoch 199/500\n",
      "448/448 [==============================] - 7s 16ms/step - loss: 0.2709 - mae: 0.2224 - val_loss: 0.2725 - val_mae: 0.2118\n",
      "Epoch 200/500\n",
      "448/448 [==============================] - 2s 4ms/step - loss: 0.2769 - mae: 0.2225 - val_loss: 0.3024 - val_mae: 0.2907\n",
      "Epoch 201/500\n",
      "448/448 [==============================] - 2s 4ms/step - loss: 0.2725 - mae: 0.2220 - val_loss: 0.2572 - val_mae: 0.2067\n",
      "Epoch 202/500\n",
      "448/448 [==============================] - 3s 6ms/step - loss: 0.2794 - mae: 0.2267 - val_loss: 0.2896 - val_mae: 0.2209\n",
      "Epoch 203/500\n",
      "448/448 [==============================] - 2s 5ms/step - loss: 0.2683 - mae: 0.2172 - val_loss: 0.2845 - val_mae: 0.2216\n",
      "Epoch 204/500\n",
      "448/448 [==============================] - 2s 5ms/step - loss: 0.2811 - mae: 0.2285 - val_loss: 0.2865 - val_mae: 0.2372\n",
      "Epoch 205/500\n",
      "448/448 [==============================] - 5s 11ms/step - loss: 0.2670 - mae: 0.2181 - val_loss: 0.2690 - val_mae: 0.2453\n",
      "Epoch 206/500\n",
      "448/448 [==============================] - 3s 7ms/step - loss: 0.2788 - mae: 0.2234 - val_loss: 0.2772 - val_mae: 0.1955\n",
      "Epoch 207/500\n",
      "448/448 [==============================] - 2s 4ms/step - loss: 0.2729 - mae: 0.2171 - val_loss: 0.3194 - val_mae: 0.2448\n",
      "Epoch 208/500\n",
      "448/448 [==============================] - 2s 4ms/step - loss: 0.2759 - mae: 0.2246 - val_loss: 0.3356 - val_mae: 0.2114\n",
      "Epoch 209/500\n",
      "448/448 [==============================] - 2s 4ms/step - loss: 0.2792 - mae: 0.2259 - val_loss: 0.2775 - val_mae: 0.2452\n",
      "Epoch 210/500\n",
      "448/448 [==============================] - 2s 4ms/step - loss: 0.2789 - mae: 0.2237 - val_loss: 0.2656 - val_mae: 0.2084\n",
      "Epoch 211/500\n",
      "448/448 [==============================] - 2s 4ms/step - loss: 0.2845 - mae: 0.2346 - val_loss: 0.2982 - val_mae: 0.2437\n",
      "Epoch 212/500\n",
      "448/448 [==============================] - 3s 7ms/step - loss: 0.2781 - mae: 0.2227 - val_loss: 0.2811 - val_mae: 0.2121\n",
      "Epoch 213/500\n",
      "448/448 [==============================] - 2s 4ms/step - loss: 0.2661 - mae: 0.2174 - val_loss: 0.2627 - val_mae: 0.1966\n",
      "Epoch 214/500\n",
      "448/448 [==============================] - 2s 4ms/step - loss: 0.2752 - mae: 0.2161 - val_loss: 0.2868 - val_mae: 0.2158\n",
      "Epoch 215/500\n",
      "448/448 [==============================] - 2s 4ms/step - loss: 0.2774 - mae: 0.2252 - val_loss: 0.2823 - val_mae: 0.2106\n",
      "Epoch 216/500\n",
      "448/448 [==============================] - 2s 4ms/step - loss: 0.2753 - mae: 0.2171 - val_loss: 0.2652 - val_mae: 0.2065\n",
      "Epoch 217/500\n",
      "448/448 [==============================] - 2s 4ms/step - loss: 0.2810 - mae: 0.2231 - val_loss: 0.2929 - val_mae: 0.2309\n",
      "Epoch 218/500\n",
      "448/448 [==============================] - 2s 4ms/step - loss: 0.2694 - mae: 0.2192 - val_loss: 0.2738 - val_mae: 0.2581\n",
      "Epoch 219/500\n",
      "448/448 [==============================] - 3s 7ms/step - loss: 0.2626 - mae: 0.2189 - val_loss: 0.2920 - val_mae: 0.1982\n",
      "Epoch 220/500\n",
      "448/448 [==============================] - 2s 4ms/step - loss: 0.2765 - mae: 0.2217 - val_loss: 0.2593 - val_mae: 0.2106\n",
      "Epoch 221/500\n",
      "448/448 [==============================] - 6s 14ms/step - loss: 0.2709 - mae: 0.2209 - val_loss: 0.3989 - val_mae: 0.2571\n",
      "Epoch 222/500\n",
      "448/448 [==============================] - 2s 6ms/step - loss: 0.2673 - mae: 0.2143 - val_loss: 0.3127 - val_mae: 0.2210\n",
      "Epoch 223/500\n",
      "448/448 [==============================] - 2s 5ms/step - loss: 0.2672 - mae: 0.2194 - val_loss: 0.2766 - val_mae: 0.2256\n",
      "Epoch 224/500\n",
      "448/448 [==============================] - 2s 5ms/step - loss: 0.2685 - mae: 0.2220 - val_loss: 0.2839 - val_mae: 0.2043\n",
      "Epoch 225/500\n",
      "448/448 [==============================] - 2s 5ms/step - loss: 0.2822 - mae: 0.2245 - val_loss: 0.2990 - val_mae: 0.2185\n",
      "Epoch 226/500\n",
      "448/448 [==============================] - 3s 6ms/step - loss: 0.2724 - mae: 0.2213 - val_loss: 0.2730 - val_mae: 0.2187\n",
      "Epoch 227/500\n",
      "448/448 [==============================] - 3s 7ms/step - loss: 0.2625 - mae: 0.2133 - val_loss: 0.2620 - val_mae: 0.2040\n",
      "Epoch 228/500\n",
      "448/448 [==============================] - 2s 5ms/step - loss: 0.2734 - mae: 0.2219 - val_loss: 0.3036 - val_mae: 0.2272\n",
      "Epoch 229/500\n",
      "448/448 [==============================] - 2s 4ms/step - loss: 0.2747 - mae: 0.2182 - val_loss: 0.2679 - val_mae: 0.2243\n",
      "Epoch 230/500\n",
      "448/448 [==============================] - 3s 6ms/step - loss: 0.2786 - mae: 0.2225 - val_loss: 0.2996 - val_mae: 0.2025\n"
     ]
    }
   ],
   "source": [
    "history = ann.fit(X_train, y_train,\n",
    "                    validation_data = (X_val, y_val),\n",
    "                    callbacks=[es],\n",
    "                    epochs=500,\n",
    "                    batch_size=30,\n",
    "                    verbose=1)"
   ]
  },
  {
   "cell_type": "code",
   "execution_count": 22,
   "metadata": {
    "ExecuteTime": {
     "end_time": "2024-08-22T04:18:04.143073500Z",
     "start_time": "2024-08-22T04:18:03.577481700Z"
    }
   },
   "outputs": [
    {
     "data": {
      "text/plain": "<Figure size 600x600 with 1 Axes>",
      "image/png": "[encoded data removed]"
     },
     "metadata": {},
     "output_type": "display_data"
    }
   ],
   "source": [
    "# let's see the training and validation accuracy by epoch\n",
    "history_dict = history.history\n",
    "loss_values = history_dict['loss'] # you can change this\n",
    "val_loss_values = history_dict['val_loss'] # you can also change this\n",
    "epochs = range(1, len(loss_values) + 1) # range of X (no. of epochs)\n",
    "\n",
    "# Set global font to Times New Roman and font size\n",
    "plt.rcParams['font.family'] = 'serif'\n",
    "plt.rcParams['font.serif'] = ['Times New Roman']\n",
    "plt.rcParams['font.size'] = 20\n",
    "\n",
    "# Create a plot\n",
    "plt.figure(figsize=(6, 6))\n",
    "plt.plot(epochs, loss_values, 'blue', label='Train set')\n",
    "plt.plot(epochs, val_loss_values, 'orange', label='Validation set')\n",
    "#plt.title('Training and testing loss')\n",
    "\n",
    "\n",
    "plt.xlabel('Epochs')\n",
    "plt.ylabel('Loss (MSE)')\n",
    "plt.legend()\n",
    "plt.savefig('Section5_ANN1_2.png', dpi=200, bbox_inches='tight')\n",
    "plt.show()"
   ]
  },
  {
   "cell_type": "code",
   "execution_count": 23,
   "metadata": {
    "ExecuteTime": {
     "end_time": "2024-08-22T04:18:04.601611900Z",
     "start_time": "2024-08-22T04:18:04.170617600Z"
    }
   },
   "outputs": [
    {
     "data": {
      "text/plain": "<Figure size 600x600 with 1 Axes>",
      "image/png": "[encoded data removed]"
     },
     "metadata": {},
     "output_type": "display_data"
    }
   ],
   "source": [
    "loss_values1 = history_dict['mae'] # you can change this\n",
    "val_loss_values1 = history_dict['val_mae'] # you can also change this\n",
    "epochs = range(1, len(loss_values1) + 1) # range of X (no. of epochs)\n",
    "# Create a plot\n",
    "plt.figure(figsize=(6, 6))\n",
    "plt.plot(epochs, loss_values1, 'blue', label='Train set')\n",
    "plt.plot(epochs, val_loss_values1, 'orange', label='Validation set')\n",
    "#plt.title('Training and testing MAE')\n",
    "plt.xlabel('Epochs')\n",
    "plt.ylabel('MAE (kPa)')\n",
    "plt.legend()\n",
    "plt.savefig('Section5_ANN1_3.png', dpi=200, bbox_inches='tight')\n",
    "plt.show()"
   ]
  },
  {
   "cell_type": "code",
   "execution_count": 24,
   "metadata": {
    "ExecuteTime": {
     "end_time": "2024-08-22T04:18:04.616619Z",
     "start_time": "2024-08-22T04:18:04.601611900Z"
    }
   },
   "outputs": [
    {
     "name": "stdout",
     "output_type": "stream",
     "text": [
      "range(1, 231)\n"
     ]
    }
   ],
   "source": [
    "print (epochs)"
   ]
  },
  {
   "cell_type": "code",
   "execution_count": 25,
   "metadata": {
    "ExecuteTime": {
     "end_time": "2024-08-22T04:18:06.614190600Z",
     "start_time": "2024-08-22T04:18:04.614616800Z"
    }
   },
   "outputs": [
    {
     "name": "stdout",
     "output_type": "stream",
     "text": [
      "INFO:tensorflow:Assets written to: Section5_new_ANN_1\\assets\n"
     ]
    }
   ],
   "source": [
    "ann.save('Section5_new_ANN_1')\n",
    "import pickle\n",
    "pickle.dump(sc, open('Section5_new_scaler_ANN_1.pkl', 'wb'))"
   ]
  },
  {
   "cell_type": "markdown",
   "metadata": {},
   "source": [
    "## Part 5 - Make predictions"
   ]
  },
  {
   "cell_type": "code",
   "execution_count": 26,
   "metadata": {
    "ExecuteTime": {
     "end_time": "2024-08-22T04:18:09.507539Z",
     "start_time": "2024-08-22T04:18:06.625711900Z"
    }
   },
   "outputs": [
    {
     "name": "stdout",
     "output_type": "stream",
     "text": [
      "420/420 [==============================] - 1s 2ms/step\n",
      "140/140 [==============================] - 0s 2ms/step\n"
     ]
    },
    {
     "data": {
      "text/plain": "<Figure size 640x480 with 2 Axes>",
      "image/png": "[encoded data removed]"
     },
     "metadata": {},
     "output_type": "display_data"
    }
   ],
   "source": [
    "# scatterplot of actual vs. pred\n",
    "# specify the dimensions \n",
    "fig, axes = plt.subplots(1,2) # 1 row, 2 columns\n",
    "\n",
    "# this makes the individual subplots\n",
    "# Training Results\n",
    "axes[0].scatter(x=y_train, y=ann.predict(X_train)) #first row, first entry (left top)\n",
    "axes[0].set_xlabel(\"Actual\", fontsize=10)\n",
    "axes[0].set_ylabel(\"Predicted\",  fontsize=10)\n",
    "axes[0].set_title(\"Training\")\n",
    "# add 45 deg line\n",
    "x = np.linspace(*axes[0].get_xlim())\n",
    "axes[0].plot(x, x, color='red')\n",
    "# Validation Results\n",
    "axes[1].scatter(x=y_val, y=ann.predict(X_val)) # first row, second entry (right top)\n",
    "axes[1].set_xlabel(\"Actual\", fontsize=10)\n",
    "axes[1].set_ylabel(\"Predicted\",  fontsize=10)\n",
    "axes[1].set_title(\"Validation\")\n",
    "# add 45 deg line\n",
    "x = np.linspace(*axes[1].get_xlim())\n",
    "axes[1].plot(x, x, color='red')\n",
    "\n",
    "# tight layout\n",
    "fig.tight_layout()\n",
    "plt.savefig('Section5_ANN1_1.png', dpi=200, bbox_inches='tight')\n",
    "# show the plot\n",
    "plt.show()"
   ]
  },
  {
   "cell_type": "code",
   "execution_count": 16,
   "metadata": {
    "colab": {
     "base_uri": "https://localhost:8080/",
     "height": 134
    },
    "colab_type": "code",
    "id": "IA0yApEmBG1X",
    "outputId": "cb981e1f-9204-4a2a-fece-9d66a6919189",
    "ExecuteTime": {
     "end_time": "2024-12-06T03:46:01.806490900Z",
     "start_time": "2024-12-06T03:44:52.425088600Z"
    }
   },
   "outputs": [
    {
     "name": "stdout",
     "output_type": "stream",
     "text": [
      "74/74 [==============================] - 69s 924ms/step\n",
      "[[ 5.71  5.7 ]\n",
      " [19.28 19.07]\n",
      " [ 0.37  0.42]\n",
      " ...\n",
      " [-3.11 -3.17]\n",
      " [ 0.38  0.38]\n",
      " [ 3.46  3.5 ]]\n"
     ]
    }
   ],
   "source": [
    "y_pred = ann.predict(X_test)\n",
    "np.set_printoptions(precision=2)\n",
    "print(np.concatenate((y_pred.reshape(len(y_pred),1), y_test.reshape(len(y_test),1)),1))"
   ]
  },
  {
   "cell_type": "code",
   "execution_count": 17,
   "metadata": {
    "ExecuteTime": {
     "end_time": "2024-12-06T03:46:13.244023100Z",
     "start_time": "2024-12-06T03:46:12.409753Z"
    }
   },
   "outputs": [
    {
     "data": {
      "text/plain": "Text(0, 0.5, 'Predicted data')"
     },
     "execution_count": 17,
     "metadata": {},
     "output_type": "execute_result"
    },
    {
     "data": {
      "text/plain": "<Figure size 640x480 with 1 Axes>",
      "image/png": "[encoded data removed]"
     },
     "metadata": {},
     "output_type": "display_data"
    }
   ],
   "source": [
    "import matplotlib.pyplot as plt\n",
    "plt.scatter(y_test+101.25, y_pred+101.25, color=\"blue\")\n",
    "plt.xlabel ('Actual data')\n",
    "plt.ylabel ('Predicted data')"
   ]
  },
  {
   "cell_type": "code",
   "execution_count": 26,
   "metadata": {
    "ExecuteTime": {
     "end_time": "2024-12-06T03:50:45.508244200Z",
     "start_time": "2024-12-06T03:50:44.080728900Z"
    }
   },
   "outputs": [
    {
     "data": {
      "text/plain": "<Figure size 600x600 with 1 Axes>",
      "image/png": "[encoded data removed]"
     },
     "metadata": {},
     "output_type": "display_data"
    }
   ],
   "source": [
    "from sklearn.metrics import r2_score\n",
    "#plt.rcdefaults()\n",
    "# Initialize layout\n",
    "fig1, ax1 = plt.subplots(figsize = (6, 6))\n",
    "\n",
    "# Set global font to Times New Roman and font size\n",
    "plt.rcParams['font.family'] = 'serif'\n",
    "plt.rcParams['font.serif'] = ['Times New Roman']\n",
    "plt.rcParams['font.size'] = 25\n",
    "\n",
    "b_l = 90\n",
    "u_l = 130\n",
    "\n",
    "# Add scatterplot\n",
    "ax1.scatter(y_test+101.25, y_pred+101.25, s=70, alpha=1, edgecolors=\"k\",c='mediumblue',zorder=5, label = 'Points')\n",
    "\n",
    "\n",
    "plt.ylabel('Predicted Incident Pressure (kPa)', fontsize = 22)\n",
    "plt.xlabel('Target Incident Pressure (kPa)', fontsize = 22)\n",
    "plt.xticks([90,95,100,105,110,115,120,125,130],fontsize = 22)\n",
    "plt.yticks([90,95,100,105,110,115,120,125,130],fontsize = 22)\n",
    "\n",
    "\n",
    "x1 = np.linspace(b_l, u_l)\n",
    "\n",
    "plt.plot(x1, x1, 'Red', label='45\\N{DEGREE SIGN} line',lw=2.5,alpha=1)\n",
    "\n",
    "plt.ylim(b_l, u_l)\n",
    "plt.xlim(b_l, u_l)\n",
    "#plt.legend(loc='upper center', bbox_to_anchor=(0.5, -0.15), ncol=4, frameon = False, fontsize = 20)\n",
    "\n",
    "#plt.grid()\n",
    "\n",
    "ax1.spines['left'].set_color('black')        # setting up Y-axis tick color to red\n",
    "ax1.spines['bottom'].set_color('black')         #setting up above X-axis tick color to red\n",
    "\n",
    "plt.savefig('Section5_ANN1_new.png', dpi=200, bbox_inches='tight')"
   ]
  },
  {
   "cell_type": "code",
   "execution_count": 30,
   "metadata": {
    "ExecuteTime": {
     "end_time": "2024-08-22T04:18:11.952774100Z",
     "start_time": "2024-08-22T04:18:10.816316300Z"
    }
   },
   "outputs": [
    {
     "name": "stdout",
     "output_type": "stream",
     "text": [
      "420/420 [==============================] - 1s 2ms/step\n",
      "0.20128797820584193\n",
      "0.2037499103223893\n"
     ]
    }
   ],
   "source": [
    "# metrics\n",
    "trainpreds = ann.predict(X_train)\n",
    "\n",
    "from sklearn.metrics import mean_absolute_error\n",
    "print(mean_absolute_error(y_train, trainpreds)) # train\n",
    "print(mean_absolute_error(y_test, y_pred)) # test"
   ]
  },
  {
   "cell_type": "code",
   "execution_count": 22,
   "metadata": {
    "ExecuteTime": {
     "end_time": "2024-12-06T03:48:21.381283400Z",
     "start_time": "2024-12-06T03:48:21.270583300Z"
    }
   },
   "outputs": [
    {
     "name": "stdout",
     "output_type": "stream",
     "text": [
      "0.991933086739536\n"
     ]
    }
   ],
   "source": [
    "from sklearn.metrics import r2_score\n",
    "r2 = r2_score(y_test+101.25, y_pred+101.25)\n",
    "print (r2)"
   ]
  },
  {
   "cell_type": "code",
   "execution_count": 32,
   "metadata": {
    "ExecuteTime": {
     "end_time": "2024-08-22T04:18:12.124935400Z",
     "start_time": "2024-08-22T04:18:11.968290700Z"
    }
   },
   "outputs": [
    {
     "name": "stdout",
     "output_type": "stream",
     "text": [
      "0.9917801916032833\n"
     ]
    }
   ],
   "source": [
    "r2_train = r2_score(y_train, trainpreds)\n",
    "print (r2_train)"
   ]
  },
  {
   "cell_type": "code",
   "execution_count": 33,
   "metadata": {
    "ExecuteTime": {
     "end_time": "2024-08-22T04:18:12.641227700Z",
     "start_time": "2024-08-22T04:18:12.125938800Z"
    }
   },
   "outputs": [
    {
     "name": "stdout",
     "output_type": "stream",
     "text": [
      "Within 5% margin 41.78%\n",
      "Within 10% margin 48.11%\n",
      "Within 20% margin 51.80%\n",
      "Out of 20% margin 48.20%\n"
     ]
    }
   ],
   "source": [
    "count0 = 0\n",
    "for i in range(len(y_pred)):\n",
    "    line1 = y_pred[i] - 0.95*y_test[i]\n",
    "    line2 = y_pred[i] - 1.05*y_test[i]\n",
    "    mask0 = (line1 > 0) & (line2 < 0)\n",
    "    count0 = np.sum(mask0+count0)\n",
    "\n",
    "count1 = 0\n",
    "for i in range(len(y_pred)):\n",
    "    line1 = y_pred[i] - 0.9*y_test[i]\n",
    "    line2 = y_pred[i] - 1.1*y_test[i]\n",
    "    mask1 = (line1 > 0) & (line2 < 0)\n",
    "    count1 = np.sum(mask1+count1)\n",
    "\n",
    "count2 = 0\n",
    "for j in range(len(y_pred)):\n",
    "    line3 = y_pred[j] - 0.8*y_test[j]\n",
    "    line4 = y_pred[j] - 1.2*y_test[j]\n",
    "    mask2 = (line3 > 0) & (line4 < 0)\n",
    "    count2 = np.sum(mask2+count2)\n",
    "\n",
    "\n",
    "count3 = 0    \n",
    "for k in range(len(y_pred)):\n",
    "    line5 = y_pred[k] - 0.8*y_test[k]\n",
    "    line6 = y_pred[k] - 1.2*y_test[k]\n",
    "    mask3 = (line5 < 0) or (line6 > 0)\n",
    "    count3 = np.sum(mask3+count3)\n",
    "   \n",
    "\n",
    "print ('Within 5% margin', format((count0/len (y_pred)),'.2%'))\n",
    "print ('Within 10% margin', format((count1/len (y_pred)),'.2%'))\n",
    "print ('Within 20% margin', format((count2/len (y_pred)),'.2%'))\n",
    "print ('Out of 20% margin', format((count3/len (y_pred)),'.2%'))"
   ]
  },
  {
   "cell_type": "code",
   "execution_count": 23,
   "metadata": {
    "ExecuteTime": {
     "end_time": "2024-12-06T03:48:26.454266Z",
     "start_time": "2024-12-06T03:48:26.375827100Z"
    }
   },
   "outputs": [
    {
     "name": "stdout",
     "output_type": "stream",
     "text": [
      "0.9919159522593736\n"
     ]
    }
   ],
   "source": [
    "adj_r2 = 1 - ((1 - r2) * (len(X_test) - 1) / (len(X_test) - len (X_test[0]) - 1))\n",
    "print (adj_r2)"
   ]
  },
  {
   "cell_type": "code",
   "execution_count": 24,
   "metadata": {
    "ExecuteTime": {
     "end_time": "2024-12-06T03:48:45.360625Z",
     "start_time": "2024-12-06T03:48:45.282380700Z"
    }
   },
   "outputs": [
    {
     "data": {
      "text/plain": "0.49137343239032344"
     },
     "execution_count": 24,
     "metadata": {},
     "output_type": "execute_result"
    }
   ],
   "source": [
    "import math\n",
    "from sklearn.metrics import mean_squared_error\n",
    "\n",
    "math.sqrt(mean_squared_error(y_test+101.25, y_pred+101.25))"
   ]
  },
  {
   "cell_type": "code",
   "execution_count": 25,
   "metadata": {
    "ExecuteTime": {
     "end_time": "2024-12-06T03:48:47.610622400Z",
     "start_time": "2024-12-06T03:48:47.532233200Z"
    }
   },
   "outputs": [
    {
     "data": {
      "text/plain": "0.2007182288091381"
     },
     "execution_count": 25,
     "metadata": {},
     "output_type": "execute_result"
    }
   ],
   "source": [
    "from sklearn.metrics import mean_absolute_error\n",
    "\n",
    "mean_absolute_error(y_test+101.25, y_pred+101.25)"
   ]
  },
  {
   "cell_type": "code",
   "execution_count": 11,
   "outputs": [],
   "source": [
    "ann = load_model('Section5_new_ANN_1')\n",
    "sc = pickle.load(open('Section5_new_scaler_ANN_1.pkl', 'rb'))"
   ],
   "metadata": {
    "collapsed": false,
    "ExecuteTime": {
     "end_time": "2024-12-06T03:44:18.295765100Z",
     "start_time": "2024-12-06T03:44:16.185386400Z"
    }
   }
  }
 ],
 "metadata": {
  "colab": {
   "collapsed_sections": [],
   "name": "Artificial Neural Network",
   "provenance": [],
   "toc_visible": true
  },
  "kernelspec": {
   "display_name": "Python 3 (ipykernel)",
   "language": "python",
   "name": "python3"
  },
  "language_info": {
   "codemirror_mode": {
    "name": "ipython",
    "version": 3
   },
   "file_extension": ".py",
   "mimetype": "text/x-python",
   "name": "python",
   "nbconvert_exporter": "python",
   "pygments_lexer": "ipython3",
   "version": "3.9.7"
  }
 },
 "nbformat": 4,
 "nbformat_minor": 4
}
