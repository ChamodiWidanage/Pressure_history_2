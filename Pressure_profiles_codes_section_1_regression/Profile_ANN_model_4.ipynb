{
 "cells": [
  {
   "cell_type": "markdown",
   "metadata": {
    "colab_type": "text",
    "id": "3cbb7fRy-eyr"
   },
   "source": [
    "# Artificial Neural Network"
   ]
  },
  {
   "cell_type": "markdown",
   "metadata": {
    "colab_type": "text",
    "id": "8sNDnxE2-pwE"
   },
   "source": [
    "## Part 1 - Importing the libraries"
   ]
  },
  {
   "cell_type": "code",
   "execution_count": 1,
   "metadata": {
    "colab": {},
    "colab_type": "code",
    "id": "lxChR1Rk-umf",
    "ExecuteTime": {
     "end_time": "2023-09-29T00:37:10.323899800Z",
     "start_time": "2023-09-29T00:37:05.258371600Z"
    }
   },
   "outputs": [],
   "source": [
    "import numpy as np\n",
    "import pandas as pd\n",
    "import tensorflow as tf\n",
    "import matplotlib.pyplot as plt\n",
    "from keras.models import load_model\n",
    "from pathlib import Path"
   ]
  },
  {
   "cell_type": "markdown",
   "metadata": {
    "colab_type": "text",
    "id": "AG3FQEch-yuA"
   },
   "source": [
    "## Part 2 - Data Preprocessing"
   ]
  },
  {
   "cell_type": "markdown",
   "metadata": {
    "colab_type": "text",
    "id": "-4zq8Mza_D9O"
   },
   "source": [
    "### Importing the dataset"
   ]
  },
  {
   "cell_type": "code",
   "execution_count": 2,
   "metadata": {
    "ExecuteTime": {
     "end_time": "2023-09-29T00:37:14.117641900Z",
     "start_time": "2023-09-29T00:37:14.039677500Z"
    }
   },
   "outputs": [
    {
     "name": "stdout",
     "output_type": "stream",
     "text": [
      "input G:\\Chamodi\\Machine_Learning\\Pressure_history_2\\Pressure_profiles_arrival_omitted\n",
      "2 [WindowsPath('G:/Chamodi/Machine_Learning/Pressure_history_2/Pressure_profiles_arrival_omitted/L13_1'), WindowsPath('G:/Chamodi/Machine_Learning/Pressure_history_2/Pressure_profiles_arrival_omitted/L13_11'), WindowsPath('G:/Chamodi/Machine_Learning/Pressure_history_2/Pressure_profiles_arrival_omitted/L13_13'), WindowsPath('G:/Chamodi/Machine_Learning/Pressure_history_2/Pressure_profiles_arrival_omitted/L13_15'), WindowsPath('G:/Chamodi/Machine_Learning/Pressure_history_2/Pressure_profiles_arrival_omitted/L13_17'), WindowsPath('G:/Chamodi/Machine_Learning/Pressure_history_2/Pressure_profiles_arrival_omitted/L13_19'), WindowsPath('G:/Chamodi/Machine_Learning/Pressure_history_2/Pressure_profiles_arrival_omitted/L13_21'), WindowsPath('G:/Chamodi/Machine_Learning/Pressure_history_2/Pressure_profiles_arrival_omitted/L13_23'), WindowsPath('G:/Chamodi/Machine_Learning/Pressure_history_2/Pressure_profiles_arrival_omitted/L13_25'), WindowsPath('G:/Chamodi/Machine_Learning/Pressure_history_2/Pressure_profiles_arrival_omitted/L13_27'), WindowsPath('G:/Chamodi/Machine_Learning/Pressure_history_2/Pressure_profiles_arrival_omitted/L13_29'), WindowsPath('G:/Chamodi/Machine_Learning/Pressure_history_2/Pressure_profiles_arrival_omitted/L13_3'), WindowsPath('G:/Chamodi/Machine_Learning/Pressure_history_2/Pressure_profiles_arrival_omitted/L13_31'), WindowsPath('G:/Chamodi/Machine_Learning/Pressure_history_2/Pressure_profiles_arrival_omitted/L13_33'), WindowsPath('G:/Chamodi/Machine_Learning/Pressure_history_2/Pressure_profiles_arrival_omitted/L13_35'), WindowsPath('G:/Chamodi/Machine_Learning/Pressure_history_2/Pressure_profiles_arrival_omitted/L13_37'), WindowsPath('G:/Chamodi/Machine_Learning/Pressure_history_2/Pressure_profiles_arrival_omitted/L13_39'), WindowsPath('G:/Chamodi/Machine_Learning/Pressure_history_2/Pressure_profiles_arrival_omitted/L13_41'), WindowsPath('G:/Chamodi/Machine_Learning/Pressure_history_2/Pressure_profiles_arrival_omitted/L13_43'), WindowsPath('G:/Chamodi/Machine_Learning/Pressure_history_2/Pressure_profiles_arrival_omitted/L13_45'), WindowsPath('G:/Chamodi/Machine_Learning/Pressure_history_2/Pressure_profiles_arrival_omitted/L13_47'), WindowsPath('G:/Chamodi/Machine_Learning/Pressure_history_2/Pressure_profiles_arrival_omitted/L13_49'), WindowsPath('G:/Chamodi/Machine_Learning/Pressure_history_2/Pressure_profiles_arrival_omitted/L13_5'), WindowsPath('G:/Chamodi/Machine_Learning/Pressure_history_2/Pressure_profiles_arrival_omitted/L13_51'), WindowsPath('G:/Chamodi/Machine_Learning/Pressure_history_2/Pressure_profiles_arrival_omitted/L13_53'), WindowsPath('G:/Chamodi/Machine_Learning/Pressure_history_2/Pressure_profiles_arrival_omitted/L13_55'), WindowsPath('G:/Chamodi/Machine_Learning/Pressure_history_2/Pressure_profiles_arrival_omitted/L13_57'), WindowsPath('G:/Chamodi/Machine_Learning/Pressure_history_2/Pressure_profiles_arrival_omitted/L13_59'), WindowsPath('G:/Chamodi/Machine_Learning/Pressure_history_2/Pressure_profiles_arrival_omitted/L13_61'), WindowsPath('G:/Chamodi/Machine_Learning/Pressure_history_2/Pressure_profiles_arrival_omitted/L13_63'), WindowsPath('G:/Chamodi/Machine_Learning/Pressure_history_2/Pressure_profiles_arrival_omitted/L13_65'), WindowsPath('G:/Chamodi/Machine_Learning/Pressure_history_2/Pressure_profiles_arrival_omitted/L13_67'), WindowsPath('G:/Chamodi/Machine_Learning/Pressure_history_2/Pressure_profiles_arrival_omitted/L13_69'), WindowsPath('G:/Chamodi/Machine_Learning/Pressure_history_2/Pressure_profiles_arrival_omitted/L13_7'), WindowsPath('G:/Chamodi/Machine_Learning/Pressure_history_2/Pressure_profiles_arrival_omitted/L13_70'), WindowsPath('G:/Chamodi/Machine_Learning/Pressure_history_2/Pressure_profiles_arrival_omitted/L13_9')]\n"
     ]
    }
   ],
   "source": [
    "#Access input folder\n",
    "current_dir = Path.cwd()\n",
    "parent_dir = current_dir.parent\n",
    "input_dir1 = Path (parent_dir/\"Pressure_profiles_arrival_omitted\")\n",
    "print (\"input\",input_dir1)\n",
    "\n",
    "#Access folders inside input folder\n",
    "input_dir2_train =  [folder_input for folder_input in input_dir1.iterdir() if folder_input.is_dir()]\n",
    "print (\"2\",input_dir2_train)"
   ]
  },
  {
   "cell_type": "code",
   "execution_count": 3,
   "metadata": {
    "ExecuteTime": {
     "end_time": "2023-09-29T00:38:03.384141700Z",
     "start_time": "2023-09-29T00:37:17.463327500Z"
    }
   },
   "outputs": [
    {
     "name": "stdout",
     "output_type": "stream",
     "text": [
      "folder G:\\Chamodi\\Machine_Learning\\Pressure_history_2\\Pressure_profiles_arrival_omitted\\L13_1\n",
      "P1\n",
      "P13\n",
      "P5\n",
      "P9\n",
      "folder G:\\Chamodi\\Machine_Learning\\Pressure_history_2\\Pressure_profiles_arrival_omitted\\L13_11\n",
      "P1\n",
      "P13\n",
      "P5\n",
      "P9\n",
      "folder G:\\Chamodi\\Machine_Learning\\Pressure_history_2\\Pressure_profiles_arrival_omitted\\L13_13\n",
      "P1\n",
      "P13\n",
      "P5\n",
      "P9\n",
      "folder G:\\Chamodi\\Machine_Learning\\Pressure_history_2\\Pressure_profiles_arrival_omitted\\L13_15\n",
      "P1\n",
      "P13\n",
      "P5\n",
      "P9\n",
      "folder G:\\Chamodi\\Machine_Learning\\Pressure_history_2\\Pressure_profiles_arrival_omitted\\L13_17\n",
      "P1\n",
      "P13\n",
      "P5\n",
      "P9\n",
      "folder G:\\Chamodi\\Machine_Learning\\Pressure_history_2\\Pressure_profiles_arrival_omitted\\L13_19\n",
      "P1\n",
      "P13\n",
      "P5\n",
      "P9\n",
      "folder G:\\Chamodi\\Machine_Learning\\Pressure_history_2\\Pressure_profiles_arrival_omitted\\L13_21\n",
      "P1\n",
      "P13\n",
      "P5\n",
      "P9\n",
      "folder G:\\Chamodi\\Machine_Learning\\Pressure_history_2\\Pressure_profiles_arrival_omitted\\L13_23\n",
      "P1\n",
      "P13\n",
      "P5\n",
      "P9\n",
      "folder G:\\Chamodi\\Machine_Learning\\Pressure_history_2\\Pressure_profiles_arrival_omitted\\L13_25\n",
      "P1\n",
      "P13\n",
      "P5\n",
      "P9\n",
      "folder G:\\Chamodi\\Machine_Learning\\Pressure_history_2\\Pressure_profiles_arrival_omitted\\L13_27\n",
      "P1\n",
      "P13\n",
      "P5\n",
      "P9\n",
      "folder G:\\Chamodi\\Machine_Learning\\Pressure_history_2\\Pressure_profiles_arrival_omitted\\L13_29\n",
      "P1\n",
      "P13\n",
      "P5\n",
      "P9\n",
      "folder G:\\Chamodi\\Machine_Learning\\Pressure_history_2\\Pressure_profiles_arrival_omitted\\L13_3\n",
      "P1\n",
      "P13\n",
      "P5\n",
      "P9\n",
      "folder G:\\Chamodi\\Machine_Learning\\Pressure_history_2\\Pressure_profiles_arrival_omitted\\L13_31\n",
      "P1\n",
      "P13\n",
      "P5\n",
      "P9\n",
      "folder G:\\Chamodi\\Machine_Learning\\Pressure_history_2\\Pressure_profiles_arrival_omitted\\L13_33\n",
      "P1\n",
      "P13\n",
      "P5\n",
      "P9\n",
      "folder G:\\Chamodi\\Machine_Learning\\Pressure_history_2\\Pressure_profiles_arrival_omitted\\L13_35\n",
      "P1\n",
      "P13\n",
      "P5\n",
      "P9\n",
      "folder G:\\Chamodi\\Machine_Learning\\Pressure_history_2\\Pressure_profiles_arrival_omitted\\L13_37\n",
      "P1\n",
      "P13\n",
      "P5\n",
      "P9\n",
      "folder G:\\Chamodi\\Machine_Learning\\Pressure_history_2\\Pressure_profiles_arrival_omitted\\L13_39\n",
      "P1\n",
      "P13\n",
      "P5\n",
      "P9\n",
      "folder G:\\Chamodi\\Machine_Learning\\Pressure_history_2\\Pressure_profiles_arrival_omitted\\L13_41\n",
      "P1\n",
      "P13\n",
      "P5\n",
      "P9\n",
      "folder G:\\Chamodi\\Machine_Learning\\Pressure_history_2\\Pressure_profiles_arrival_omitted\\L13_43\n",
      "P1\n",
      "P13\n",
      "P5\n",
      "P9\n",
      "folder G:\\Chamodi\\Machine_Learning\\Pressure_history_2\\Pressure_profiles_arrival_omitted\\L13_45\n",
      "P1\n",
      "P13\n",
      "P5\n",
      "P9\n",
      "folder G:\\Chamodi\\Machine_Learning\\Pressure_history_2\\Pressure_profiles_arrival_omitted\\L13_47\n",
      "P1\n",
      "P13\n",
      "P5\n",
      "P9\n",
      "folder G:\\Chamodi\\Machine_Learning\\Pressure_history_2\\Pressure_profiles_arrival_omitted\\L13_49\n",
      "P1\n",
      "P13\n",
      "P5\n",
      "P9\n",
      "folder G:\\Chamodi\\Machine_Learning\\Pressure_history_2\\Pressure_profiles_arrival_omitted\\L13_5\n",
      "P1\n",
      "P13\n",
      "P5\n",
      "P9\n",
      "folder G:\\Chamodi\\Machine_Learning\\Pressure_history_2\\Pressure_profiles_arrival_omitted\\L13_51\n",
      "P1\n",
      "P13\n",
      "P5\n",
      "P9\n",
      "folder G:\\Chamodi\\Machine_Learning\\Pressure_history_2\\Pressure_profiles_arrival_omitted\\L13_53\n",
      "P1\n",
      "P13\n",
      "P5\n",
      "P9\n",
      "folder G:\\Chamodi\\Machine_Learning\\Pressure_history_2\\Pressure_profiles_arrival_omitted\\L13_55\n",
      "P1\n",
      "P13\n",
      "P5\n",
      "P9\n",
      "folder G:\\Chamodi\\Machine_Learning\\Pressure_history_2\\Pressure_profiles_arrival_omitted\\L13_57\n",
      "P1\n",
      "P13\n",
      "P5\n",
      "P9\n",
      "folder G:\\Chamodi\\Machine_Learning\\Pressure_history_2\\Pressure_profiles_arrival_omitted\\L13_59\n",
      "P1\n",
      "P13\n",
      "P5\n",
      "P9\n",
      "folder G:\\Chamodi\\Machine_Learning\\Pressure_history_2\\Pressure_profiles_arrival_omitted\\L13_61\n",
      "P1\n",
      "P13\n",
      "P5\n",
      "P9\n",
      "folder G:\\Chamodi\\Machine_Learning\\Pressure_history_2\\Pressure_profiles_arrival_omitted\\L13_63\n",
      "P1\n",
      "P13\n",
      "P5\n",
      "P9\n",
      "folder G:\\Chamodi\\Machine_Learning\\Pressure_history_2\\Pressure_profiles_arrival_omitted\\L13_65\n",
      "P1\n",
      "P13\n",
      "P5\n",
      "P9\n",
      "folder G:\\Chamodi\\Machine_Learning\\Pressure_history_2\\Pressure_profiles_arrival_omitted\\L13_67\n",
      "P1\n",
      "P13\n",
      "P5\n",
      "P9\n",
      "folder G:\\Chamodi\\Machine_Learning\\Pressure_history_2\\Pressure_profiles_arrival_omitted\\L13_69\n",
      "P1\n",
      "P13\n",
      "P5\n",
      "P9\n",
      "folder G:\\Chamodi\\Machine_Learning\\Pressure_history_2\\Pressure_profiles_arrival_omitted\\L13_7\n",
      "P1\n",
      "P13\n",
      "P5\n",
      "P9\n",
      "folder G:\\Chamodi\\Machine_Learning\\Pressure_history_2\\Pressure_profiles_arrival_omitted\\L13_70\n",
      "P1\n",
      "P13\n",
      "P5\n",
      "P9\n",
      "folder G:\\Chamodi\\Machine_Learning\\Pressure_history_2\\Pressure_profiles_arrival_omitted\\L13_9\n",
      "P1\n",
      "P13\n",
      "P5\n",
      "P9\n"
     ]
    }
   ],
   "source": [
    "# Access each folder inside input folder\n",
    "dataset_train = pd.DataFrame(columns = ['Charge_mass', 'Standoff_distance', 'Time', 'Pressure', 'Phase'])\n",
    "df_list_train = []\n",
    "for folder_train in input_dir2_train:\n",
    "    \n",
    "    # Make a list of data file names\n",
    "    files_train = list(file_train for file_train in folder_train.rglob(\"*.xlsx\") if int(file_train.stem[1:]) < 14)\n",
    "    print (\"folder\", folder_train)\n",
    "    \n",
    "    for file_train in files_train:\n",
    "        df_list_train.append(pd.read_excel(file_train))\n",
    "        print (file_train.stem)\n",
    "\n",
    "dataset_train = pd.concat(df_list_train, ignore_index = True)"
   ]
  },
  {
   "cell_type": "code",
   "execution_count": 4,
   "metadata": {
    "colab": {},
    "colab_type": "code",
    "id": "B9CV13Co_HHM",
    "ExecuteTime": {
     "end_time": "2023-09-29T00:38:39.321706700Z",
     "start_time": "2023-09-29T00:38:39.266641200Z"
    }
   },
   "outputs": [
    {
     "name": "stdout",
     "output_type": "stream",
     "text": [
      "<class 'pandas.core.frame.DataFrame'>\n",
      "RangeIndex: 492019 entries, 0 to 492018\n",
      "Data columns (total 5 columns):\n",
      " #   Column             Non-Null Count   Dtype  \n",
      "---  ------             --------------   -----  \n",
      " 0   Charge_mass        492019 non-null  float64\n",
      " 1   Standoff_distance  492019 non-null  int64  \n",
      " 2   Time               492019 non-null  float64\n",
      " 3   Pressure           492019 non-null  float64\n",
      " 4   Phase              492019 non-null  object \n",
      "dtypes: float64(3), int64(1), object(1)\n",
      "memory usage: 18.8+ MB\n"
     ]
    }
   ],
   "source": [
    "dataset_train.info()"
   ]
  },
  {
   "cell_type": "code",
   "execution_count": 5,
   "outputs": [
    {
     "name": "stdout",
     "output_type": "stream",
     "text": [
      "<class 'pandas.core.frame.DataFrame'>\n",
      "RangeIndex: 492019 entries, 0 to 492018\n",
      "Data columns (total 6 columns):\n",
      " #   Column             Non-Null Count   Dtype  \n",
      "---  ------             --------------   -----  \n",
      " 0   Charge_mass        492019 non-null  float64\n",
      " 1   Standoff_distance  492019 non-null  int64  \n",
      " 2   Time               492019 non-null  float64\n",
      " 3   Pressure           492019 non-null  float64\n",
      " 4   Phase_negative     492019 non-null  uint8  \n",
      " 5   Phase_positive     492019 non-null  uint8  \n",
      "dtypes: float64(3), int64(1), uint8(2)\n",
      "memory usage: 16.0 MB\n"
     ]
    }
   ],
   "source": [
    "dataset_train = pd.get_dummies(dataset_train, columns =['Phase'], dtype = np.uint8)\n",
    "dataset_train.info()"
   ],
   "metadata": {
    "collapsed": false,
    "ExecuteTime": {
     "end_time": "2023-09-29T00:38:41.817900600Z",
     "start_time": "2023-09-29T00:38:41.728179300Z"
    }
   }
  },
  {
   "cell_type": "code",
   "execution_count": 6,
   "outputs": [
    {
     "data": {
      "text/plain": "    Charge_mass  Standoff_distance     Time      Pressure  Phase_negative  \\\n0           0.5                  1  0.00067  591827.62500               0   \n1           0.5                  1  0.00068  556217.18750               0   \n2           0.5                  1  0.00069  525135.00000               0   \n3           0.5                  1  0.00070  496668.90625               0   \n4           0.5                  1  0.00071  469418.40625               0   \n5           0.5                  1  0.00072  445550.09375               0   \n6           0.5                  1  0.00073  423420.03125               0   \n7           0.5                  1  0.00074  402121.96875               0   \n8           0.5                  1  0.00075  383202.34375               0   \n9           0.5                  1  0.00076  365626.65625               0   \n10          0.5                  1  0.00077  349977.50000               0   \n11          0.5                  1  0.00078  334716.18750               0   \n12          0.5                  1  0.00079  320582.50000               0   \n13          0.5                  1  0.00080  307536.68750               0   \n14          0.5                  1  0.00081  295047.87500               0   \n15          0.5                  1  0.00082  283671.71875               0   \n16          0.5                  1  0.00083  273287.31250               0   \n17          0.5                  1  0.00084  263380.59375               0   \n18          0.5                  1  0.00085  253957.70312               0   \n19          0.5                  1  0.00086  245341.54688               0   \n20          0.5                  1  0.00087  237136.67188               0   \n21          0.5                  1  0.00088  229610.26562               0   \n22          0.5                  1  0.00089  222423.93750               0   \n23          0.5                  1  0.00090  215571.06250               0   \n24          0.5                  1  0.00091  209261.32812               0   \n25          0.5                  1  0.00092  203243.39062               0   \n26          0.5                  1  0.00093  197520.82812               0   \n27          0.5                  1  0.00094  192094.54688               0   \n28          0.5                  1  0.00095  186960.62500               0   \n29          0.5                  1  0.00096  182106.14062               0   \n\n    Phase_positive  \n0                1  \n1                1  \n2                1  \n3                1  \n4                1  \n5                1  \n6                1  \n7                1  \n8                1  \n9                1  \n10               1  \n11               1  \n12               1  \n13               1  \n14               1  \n15               1  \n16               1  \n17               1  \n18               1  \n19               1  \n20               1  \n21               1  \n22               1  \n23               1  \n24               1  \n25               1  \n26               1  \n27               1  \n28               1  \n29               1  ",
      "text/html": "<div>\n<style scoped>\n    .dataframe tbody tr th:only-of-type {\n        vertical-align: middle;\n    }\n\n    .dataframe tbody tr th {\n        vertical-align: top;\n    }\n\n    .dataframe thead th {\n        text-align: right;\n    }\n</style>\n<table border=\"1\" class=\"dataframe\">\n  <thead>\n    <tr style=\"text-align: right;\">\n      <th></th>\n      <th>Charge_mass</th>\n      <th>Standoff_distance</th>\n      <th>Time</th>\n      <th>Pressure</th>\n      <th>Phase_negative</th>\n      <th>Phase_positive</th>\n    </tr>\n  </thead>\n  <tbody>\n    <tr>\n      <th>0</th>\n      <td>0.5</td>\n      <td>1</td>\n      <td>0.00067</td>\n      <td>591827.62500</td>\n      <td>0</td>\n      <td>1</td>\n    </tr>\n    <tr>\n      <th>1</th>\n      <td>0.5</td>\n      <td>1</td>\n      <td>0.00068</td>\n      <td>556217.18750</td>\n      <td>0</td>\n      <td>1</td>\n    </tr>\n    <tr>\n      <th>2</th>\n      <td>0.5</td>\n      <td>1</td>\n      <td>0.00069</td>\n      <td>525135.00000</td>\n      <td>0</td>\n      <td>1</td>\n    </tr>\n    <tr>\n      <th>3</th>\n      <td>0.5</td>\n      <td>1</td>\n      <td>0.00070</td>\n      <td>496668.90625</td>\n      <td>0</td>\n      <td>1</td>\n    </tr>\n    <tr>\n      <th>4</th>\n      <td>0.5</td>\n      <td>1</td>\n      <td>0.00071</td>\n      <td>469418.40625</td>\n      <td>0</td>\n      <td>1</td>\n    </tr>\n    <tr>\n      <th>5</th>\n      <td>0.5</td>\n      <td>1</td>\n      <td>0.00072</td>\n      <td>445550.09375</td>\n      <td>0</td>\n      <td>1</td>\n    </tr>\n    <tr>\n      <th>6</th>\n      <td>0.5</td>\n      <td>1</td>\n      <td>0.00073</td>\n      <td>423420.03125</td>\n      <td>0</td>\n      <td>1</td>\n    </tr>\n    <tr>\n      <th>7</th>\n      <td>0.5</td>\n      <td>1</td>\n      <td>0.00074</td>\n      <td>402121.96875</td>\n      <td>0</td>\n      <td>1</td>\n    </tr>\n    <tr>\n      <th>8</th>\n      <td>0.5</td>\n      <td>1</td>\n      <td>0.00075</td>\n      <td>383202.34375</td>\n      <td>0</td>\n      <td>1</td>\n    </tr>\n    <tr>\n      <th>9</th>\n      <td>0.5</td>\n      <td>1</td>\n      <td>0.00076</td>\n      <td>365626.65625</td>\n      <td>0</td>\n      <td>1</td>\n    </tr>\n    <tr>\n      <th>10</th>\n      <td>0.5</td>\n      <td>1</td>\n      <td>0.00077</td>\n      <td>349977.50000</td>\n      <td>0</td>\n      <td>1</td>\n    </tr>\n    <tr>\n      <th>11</th>\n      <td>0.5</td>\n      <td>1</td>\n      <td>0.00078</td>\n      <td>334716.18750</td>\n      <td>0</td>\n      <td>1</td>\n    </tr>\n    <tr>\n      <th>12</th>\n      <td>0.5</td>\n      <td>1</td>\n      <td>0.00079</td>\n      <td>320582.50000</td>\n      <td>0</td>\n      <td>1</td>\n    </tr>\n    <tr>\n      <th>13</th>\n      <td>0.5</td>\n      <td>1</td>\n      <td>0.00080</td>\n      <td>307536.68750</td>\n      <td>0</td>\n      <td>1</td>\n    </tr>\n    <tr>\n      <th>14</th>\n      <td>0.5</td>\n      <td>1</td>\n      <td>0.00081</td>\n      <td>295047.87500</td>\n      <td>0</td>\n      <td>1</td>\n    </tr>\n    <tr>\n      <th>15</th>\n      <td>0.5</td>\n      <td>1</td>\n      <td>0.00082</td>\n      <td>283671.71875</td>\n      <td>0</td>\n      <td>1</td>\n    </tr>\n    <tr>\n      <th>16</th>\n      <td>0.5</td>\n      <td>1</td>\n      <td>0.00083</td>\n      <td>273287.31250</td>\n      <td>0</td>\n      <td>1</td>\n    </tr>\n    <tr>\n      <th>17</th>\n      <td>0.5</td>\n      <td>1</td>\n      <td>0.00084</td>\n      <td>263380.59375</td>\n      <td>0</td>\n      <td>1</td>\n    </tr>\n    <tr>\n      <th>18</th>\n      <td>0.5</td>\n      <td>1</td>\n      <td>0.00085</td>\n      <td>253957.70312</td>\n      <td>0</td>\n      <td>1</td>\n    </tr>\n    <tr>\n      <th>19</th>\n      <td>0.5</td>\n      <td>1</td>\n      <td>0.00086</td>\n      <td>245341.54688</td>\n      <td>0</td>\n      <td>1</td>\n    </tr>\n    <tr>\n      <th>20</th>\n      <td>0.5</td>\n      <td>1</td>\n      <td>0.00087</td>\n      <td>237136.67188</td>\n      <td>0</td>\n      <td>1</td>\n    </tr>\n    <tr>\n      <th>21</th>\n      <td>0.5</td>\n      <td>1</td>\n      <td>0.00088</td>\n      <td>229610.26562</td>\n      <td>0</td>\n      <td>1</td>\n    </tr>\n    <tr>\n      <th>22</th>\n      <td>0.5</td>\n      <td>1</td>\n      <td>0.00089</td>\n      <td>222423.93750</td>\n      <td>0</td>\n      <td>1</td>\n    </tr>\n    <tr>\n      <th>23</th>\n      <td>0.5</td>\n      <td>1</td>\n      <td>0.00090</td>\n      <td>215571.06250</td>\n      <td>0</td>\n      <td>1</td>\n    </tr>\n    <tr>\n      <th>24</th>\n      <td>0.5</td>\n      <td>1</td>\n      <td>0.00091</td>\n      <td>209261.32812</td>\n      <td>0</td>\n      <td>1</td>\n    </tr>\n    <tr>\n      <th>25</th>\n      <td>0.5</td>\n      <td>1</td>\n      <td>0.00092</td>\n      <td>203243.39062</td>\n      <td>0</td>\n      <td>1</td>\n    </tr>\n    <tr>\n      <th>26</th>\n      <td>0.5</td>\n      <td>1</td>\n      <td>0.00093</td>\n      <td>197520.82812</td>\n      <td>0</td>\n      <td>1</td>\n    </tr>\n    <tr>\n      <th>27</th>\n      <td>0.5</td>\n      <td>1</td>\n      <td>0.00094</td>\n      <td>192094.54688</td>\n      <td>0</td>\n      <td>1</td>\n    </tr>\n    <tr>\n      <th>28</th>\n      <td>0.5</td>\n      <td>1</td>\n      <td>0.00095</td>\n      <td>186960.62500</td>\n      <td>0</td>\n      <td>1</td>\n    </tr>\n    <tr>\n      <th>29</th>\n      <td>0.5</td>\n      <td>1</td>\n      <td>0.00096</td>\n      <td>182106.14062</td>\n      <td>0</td>\n      <td>1</td>\n    </tr>\n  </tbody>\n</table>\n</div>"
     },
     "execution_count": 6,
     "metadata": {},
     "output_type": "execute_result"
    }
   ],
   "source": [
    "dataset_train.head(30)"
   ],
   "metadata": {
    "collapsed": false,
    "ExecuteTime": {
     "end_time": "2023-09-29T00:38:47.515773700Z",
     "start_time": "2023-09-29T00:38:47.447083900Z"
    }
   }
  },
  {
   "cell_type": "code",
   "execution_count": 7,
   "metadata": {
    "ExecuteTime": {
     "end_time": "2023-09-29T00:38:52.793215100Z",
     "start_time": "2023-09-29T00:38:52.777079100Z"
    }
   },
   "outputs": [
    {
     "name": "stdout",
     "output_type": "stream",
     "text": [
      "(492019, 5) (492019,)\n"
     ]
    }
   ],
   "source": [
    "y = dataset_train['Pressure']\n",
    "X = dataset_train.drop(['Pressure'], axis=1)\n",
    "print(X.shape, y.shape)"
   ]
  },
  {
   "cell_type": "code",
   "execution_count": 8,
   "metadata": {
    "ExecuteTime": {
     "end_time": "2023-09-29T00:38:54.525018800Z",
     "start_time": "2023-09-29T00:38:54.462550600Z"
    }
   },
   "outputs": [],
   "source": [
    "# convert to numpy array\n",
    "X = np.array(X)\n",
    "y = np.array(y)"
   ]
  },
  {
   "cell_type": "markdown",
   "metadata": {
    "colab_type": "text",
    "id": "VC6omXel_Up0"
   },
   "source": [
    "### Splitting the dataset into the Training set and Test set"
   ]
  },
  {
   "cell_type": "code",
   "execution_count": 9,
   "metadata": {
    "colab": {},
    "colab_type": "code",
    "id": "L5edeb2r_agx",
    "ExecuteTime": {
     "end_time": "2023-09-29T00:38:59.209886500Z",
     "start_time": "2023-09-29T00:38:58.321829800Z"
    }
   },
   "outputs": [],
   "source": [
    "from sklearn.model_selection import train_test_split\n",
    "X_train, X_test, y_train, y_test = train_test_split(X,\n",
    "                                                    y,\n",
    "                                                    test_size = 0.4,\n",
    "                                                    random_state = 0)"
   ]
  },
  {
   "cell_type": "code",
   "execution_count": 10,
   "metadata": {
    "colab": {},
    "colab_type": "code",
    "id": "L5edeb2r_agx",
    "ExecuteTime": {
     "end_time": "2023-09-29T00:39:00.427709Z",
     "start_time": "2023-09-29T00:39:00.364062400Z"
    }
   },
   "outputs": [],
   "source": [
    "X_val, X_test, y_val, y_test = train_test_split(X_test,\n",
    "                                                y_test,\n",
    "                                                test_size = 0.5,\n",
    "                                                random_state = 0)"
   ]
  },
  {
   "cell_type": "markdown",
   "source": [
    "## Feature scaling"
   ],
   "metadata": {
    "collapsed": false
   }
  },
  {
   "cell_type": "code",
   "execution_count": 11,
   "outputs": [
    {
     "name": "stdout",
     "output_type": "stream",
     "text": [
      "[[-1.11558794  0.43902902  0.40860138  1.          0.        ]\n",
      " [-1.83149237 -1.32802297 -1.10299844  1.          0.        ]\n",
      " [ 1.03212534 -0.44449698 -0.9816199   1.          0.        ]\n",
      " ...\n",
      " [ 1.33894152  0.43902902 -0.15265695  1.          0.        ]\n",
      " [ 0.6230371  -1.32802297  0.5075946   1.          0.        ]\n",
      " [-1.72922031 -0.44449698 -0.88346605  1.          0.        ]]\n"
     ]
    }
   ],
   "source": [
    "from sklearn.preprocessing import StandardScaler\n",
    "sc = StandardScaler()\n",
    "X_train[:,0:3] = sc.fit_transform(X_train[:, 0:3])\n",
    "print (X_train)"
   ],
   "metadata": {
    "collapsed": false,
    "ExecuteTime": {
     "end_time": "2023-09-29T00:39:04.103102900Z",
     "start_time": "2023-09-29T00:39:04.024448200Z"
    }
   }
  },
  {
   "cell_type": "code",
   "execution_count": 12,
   "outputs": [
    {
     "name": "stdout",
     "output_type": "stream",
     "text": [
      "[[ 0.92985328 -0.44449698 -1.49808719  1.          0.        ]\n",
      " [-0.39968351  0.43902902 -1.30699156  0.          1.        ]\n",
      " [-1.01331588  0.43902902  0.31822281  1.          0.        ]\n",
      " ...\n",
      " [-0.39968351  1.32255501  0.65650805  1.          0.        ]\n",
      " [ 0.31622091  0.43902902  1.37959509  1.          0.        ]\n",
      " [-0.29741145 -1.32802297 -1.46796614  1.          0.        ]]\n"
     ]
    }
   ],
   "source": [
    "X_test[:,0:3] = sc.transform(X_test[:,0:3])\n",
    "print (X_test)"
   ],
   "metadata": {
    "collapsed": false,
    "ExecuteTime": {
     "end_time": "2023-09-29T00:39:07.962809700Z",
     "start_time": "2023-09-29T00:39:07.853372200Z"
    }
   }
  },
  {
   "cell_type": "code",
   "execution_count": 13,
   "outputs": [
    {
     "name": "stdout",
     "output_type": "stream",
     "text": [
      "[[-0.29741145 -1.32802297 -0.07001311  1.          0.        ]\n",
      " [-0.7064997   0.43902902 -0.26110084  1.          0.        ]\n",
      " [-1.11558794  0.43902902 -0.72422921  1.          0.        ]\n",
      " ...\n",
      " [-0.91104382 -0.44449698 -0.03128483  1.          0.        ]\n",
      " [-1.52467619 -0.44449698  0.09009324  1.          0.        ]\n",
      " [ 1.44121358  1.32255501  1.56811516  1.          0.        ]]\n"
     ]
    }
   ],
   "source": [
    "X_val[:,0:3] = sc.transform(X_val[:,0:3])\n",
    "print (X_val)"
   ],
   "metadata": {
    "collapsed": false,
    "ExecuteTime": {
     "end_time": "2023-09-29T00:39:10.990395100Z",
     "start_time": "2023-09-29T00:39:10.894616900Z"
    }
   }
  },
  {
   "cell_type": "code",
   "execution_count": 14,
   "outputs": [
    {
     "name": "stdout",
     "output_type": "stream",
     "text": [
      "X_train 295211\n",
      "X_test 98404\n",
      "X_val 98404\n"
     ]
    }
   ],
   "source": [
    "print (\"X_train\", len(X_train))\n",
    "print (\"X_test\", len(X_test))\n",
    "print (\"X_val\", len(X_val))"
   ],
   "metadata": {
    "collapsed": false,
    "ExecuteTime": {
     "end_time": "2023-09-29T00:39:14.294637200Z",
     "start_time": "2023-09-29T00:39:14.246313900Z"
    }
   }
  },
  {
   "cell_type": "markdown",
   "metadata": {
    "colab_type": "text",
    "id": "_mSLlAT9_eyI"
   },
   "source": [
    "## Part 3 - Building the ANN"
   ]
  },
  {
   "cell_type": "markdown",
   "metadata": {
    "colab_type": "text",
    "id": "CsBULd_f_wLY"
   },
   "source": [
    "### Initializing the ANN"
   ]
  },
  {
   "cell_type": "code",
   "execution_count": 15,
   "metadata": {
    "colab": {},
    "colab_type": "code",
    "id": "J6Hd97Ls__Nz",
    "ExecuteTime": {
     "end_time": "2023-09-29T00:39:19.478327600Z",
     "start_time": "2023-09-29T00:39:19.415817700Z"
    }
   },
   "outputs": [],
   "source": [
    "ann = tf.keras.models.Sequential()"
   ]
  },
  {
   "cell_type": "markdown",
   "metadata": {
    "colab_type": "text",
    "id": "iitAFJS_ABUn"
   },
   "source": [
    "### Adding the input layer and the first hidden layer"
   ]
  },
  {
   "cell_type": "code",
   "execution_count": 16,
   "metadata": {
    "colab": {},
    "colab_type": "code",
    "id": "ksO_Vv40AHix",
    "ExecuteTime": {
     "end_time": "2023-09-29T00:40:27.151446500Z",
     "start_time": "2023-09-29T00:40:27.056554500Z"
    }
   },
   "outputs": [],
   "source": [
    "ann.add(tf.keras.layers.Dense(units=150,\n",
    "                              input_shape=(X_train.shape[1],),\n",
    "                              activation='softplus'))"
   ]
  },
  {
   "cell_type": "markdown",
   "metadata": {
    "colab_type": "text",
    "id": "-lb4kK_wAKbs"
   },
   "source": [
    "### Adding the second hidden layer"
   ]
  },
  {
   "cell_type": "code",
   "execution_count": 17,
   "metadata": {
    "colab": {},
    "colab_type": "code",
    "id": "c2357OqEAQOQ",
    "tags": [],
    "ExecuteTime": {
     "end_time": "2023-09-29T00:40:29.419068300Z",
     "start_time": "2023-09-29T00:40:29.371575600Z"
    }
   },
   "outputs": [],
   "source": [
    "ann.add(tf.keras.layers.Dense(units=100,\n",
    "                              activation='softplus'))"
   ]
  },
  {
   "cell_type": "markdown",
   "metadata": {
    "colab_type": "text",
    "id": "-lb4kK_wAKbs"
   },
   "source": [
    "### Adding the third hidden layer"
   ]
  },
  {
   "cell_type": "code",
   "execution_count": 18,
   "metadata": {
    "colab": {},
    "colab_type": "code",
    "id": "c2357OqEAQOQ",
    "tags": [],
    "ExecuteTime": {
     "end_time": "2023-09-29T00:40:31.561225700Z",
     "start_time": "2023-09-29T00:40:31.510622700Z"
    }
   },
   "outputs": [],
   "source": [
    "ann.add(tf.keras.layers.Dense(units=50,\n",
    "                              activation='softplus'))"
   ]
  },
  {
   "cell_type": "markdown",
   "metadata": {
    "colab_type": "text",
    "id": "jwMOmKb3AdBY"
   },
   "source": [
    "### Adding the output layer"
   ]
  },
  {
   "cell_type": "code",
   "execution_count": 19,
   "metadata": {
    "colab": {},
    "colab_type": "code",
    "id": "YFATpzsUAkLL",
    "ExecuteTime": {
     "end_time": "2023-09-29T00:40:33.375240800Z",
     "start_time": "2023-09-29T00:40:33.311593900Z"
    }
   },
   "outputs": [],
   "source": [
    "ann.add(tf.keras.layers.Dense(units=1,\n",
    "                              activation='linear'))"
   ]
  },
  {
   "cell_type": "markdown",
   "metadata": {},
   "source": [
    "### what model looks like"
   ]
  },
  {
   "cell_type": "code",
   "execution_count": 20,
   "metadata": {
    "ExecuteTime": {
     "end_time": "2023-09-29T00:40:35.798428700Z",
     "start_time": "2023-09-29T00:40:35.654413100Z"
    }
   },
   "outputs": [
    {
     "name": "stdout",
     "output_type": "stream",
     "text": [
      "Model: \"sequential\"\n",
      "_________________________________________________________________\n",
      " Layer (type)                Output Shape              Param #   \n",
      "=================================================================\n",
      " dense (Dense)               (None, 150)               900       \n",
      "                                                                 \n",
      " dense_1 (Dense)             (None, 100)               15100     \n",
      "                                                                 \n",
      " dense_2 (Dense)             (None, 50)                5050      \n",
      "                                                                 \n",
      " dense_3 (Dense)             (None, 1)                 51        \n",
      "                                                                 \n",
      "=================================================================\n",
      "Total params: 21,101\n",
      "Trainable params: 21,101\n",
      "Non-trainable params: 0\n",
      "_________________________________________________________________\n"
     ]
    }
   ],
   "source": [
    "ann.summary()"
   ]
  },
  {
   "cell_type": "markdown",
   "metadata": {
    "colab_type": "text",
    "id": "fq7e4fF6A1yy"
   },
   "source": [
    "## Part 4 - Training the ANN"
   ]
  },
  {
   "cell_type": "markdown",
   "metadata": {
    "colab_type": "text",
    "id": "qDeylAs2An25"
   },
   "source": [
    "### Compiling the ANN"
   ]
  },
  {
   "cell_type": "code",
   "execution_count": 21,
   "metadata": {
    "colab": {},
    "colab_type": "code",
    "id": "pesgbWlCAtB4",
    "ExecuteTime": {
     "end_time": "2023-09-29T00:40:38.947946700Z",
     "start_time": "2023-09-29T00:40:38.895866600Z"
    }
   },
   "outputs": [],
   "source": [
    "# from tensorflow.keras.optimizers import Adam\n",
    "from keras.optimizers import Adam\n",
    "opt = Adam(learning_rate=0.001)\n",
    "ann.compile(optimizer = opt,\n",
    "            loss = 'mean_squared_error',\n",
    "            metrics = ['mae'])"
   ]
  },
  {
   "cell_type": "markdown",
   "metadata": {},
   "source": [
    "### early stopping callback"
   ]
  },
  {
   "cell_type": "code",
   "execution_count": 22,
   "metadata": {
    "ExecuteTime": {
     "end_time": "2023-09-29T00:40:40.801728700Z",
     "start_time": "2023-09-29T00:40:40.753835200Z"
    }
   },
   "outputs": [],
   "source": [
    "# protects from unnecessary further training of the model if a particular metric does not continue to improve over a number of n epochs. In such a case, the model training would be automatically aborted.\n",
    "from keras.callbacks import EarlyStopping\n",
    "es = EarlyStopping(monitor='val_loss',\n",
    "                   mode='min',\n",
    "                   patience=50,\n",
    "                   restore_best_weights = True)"
   ]
  },
  {
   "cell_type": "markdown",
   "metadata": {
    "colab_type": "text",
    "id": "YjVuiybYOo7r"
   },
   "source": [
    "### Training the ANN model on the Training set"
   ]
  },
  {
   "cell_type": "code",
   "execution_count": 23,
   "metadata": {
    "colab": {
     "base_uri": "https://localhost:8080/",
     "height": 1000
    },
    "colab_type": "code",
    "id": "c_vV-tiiA5zn",
    "outputId": "4a2b6ee6-ed75-4698-9069-b250e613803f",
    "ExecuteTime": {
     "end_time": "2023-09-29T04:17:41.337006900Z",
     "start_time": "2023-09-29T00:40:42.635950700Z"
    }
   },
   "outputs": [
    {
     "name": "stdout",
     "output_type": "stream",
     "text": [
      "Epoch 1/500\n",
      "5905/5905 [==============================] - 23s 4ms/step - loss: 9067408384.0000 - mae: 19654.4902 - val_loss: 9469337600.0000 - val_mae: 14746.7725\n",
      "Epoch 2/500\n",
      "5905/5905 [==============================] - 22s 4ms/step - loss: 7985434624.0000 - mae: 15116.1621 - val_loss: 8951122944.0000 - val_mae: 15285.5586\n",
      "Epoch 3/500\n",
      "5905/5905 [==============================] - 24s 4ms/step - loss: 7704732672.0000 - mae: 15114.4395 - val_loss: 8788534272.0000 - val_mae: 14092.3135\n",
      "Epoch 4/500\n",
      "5905/5905 [==============================] - 22s 4ms/step - loss: 7496611328.0000 - mae: 14425.4609 - val_loss: 8433500160.0000 - val_mae: 14272.1885\n",
      "Epoch 5/500\n",
      "5905/5905 [==============================] - 22s 4ms/step - loss: 7266897408.0000 - mae: 14036.4297 - val_loss: 8138474496.0000 - val_mae: 13949.6367\n",
      "Epoch 6/500\n",
      "5905/5905 [==============================] - 22s 4ms/step - loss: 7077850112.0000 - mae: 13621.7373 - val_loss: 7941825024.0000 - val_mae: 13438.7764\n",
      "Epoch 7/500\n",
      "5905/5905 [==============================] - 22s 4ms/step - loss: 6933605888.0000 - mae: 13239.8330 - val_loss: 7770405888.0000 - val_mae: 13588.1426\n",
      "Epoch 8/500\n",
      "5905/5905 [==============================] - 23s 4ms/step - loss: 6849848832.0000 - mae: 13016.0312 - val_loss: 7700131328.0000 - val_mae: 13396.3037\n",
      "Epoch 9/500\n",
      "5905/5905 [==============================] - 23s 4ms/step - loss: 6827463168.0000 - mae: 12820.0068 - val_loss: 7655440896.0000 - val_mae: 13128.5811\n",
      "Epoch 10/500\n",
      "5905/5905 [==============================] - 22s 4ms/step - loss: 6829889536.0000 - mae: 12738.1748 - val_loss: 7691607040.0000 - val_mae: 12519.0488\n",
      "Epoch 11/500\n",
      "5905/5905 [==============================] - 22s 4ms/step - loss: 6829111808.0000 - mae: 12566.6719 - val_loss: 7630365184.0000 - val_mae: 12676.5107\n",
      "Epoch 12/500\n",
      "5905/5905 [==============================] - 22s 4ms/step - loss: 6801447424.0000 - mae: 12516.1230 - val_loss: 7662170624.0000 - val_mae: 12539.4131\n",
      "Epoch 13/500\n",
      "5905/5905 [==============================] - 22s 4ms/step - loss: 6775610880.0000 - mae: 12438.7881 - val_loss: 7712627712.0000 - val_mae: 12317.7793\n",
      "Epoch 14/500\n",
      "5905/5905 [==============================] - 22s 4ms/step - loss: 6794936320.0000 - mae: 12289.0918 - val_loss: 7610483712.0000 - val_mae: 12303.3516\n",
      "Epoch 15/500\n",
      "5905/5905 [==============================] - 22s 4ms/step - loss: 6767991296.0000 - mae: 12203.0557 - val_loss: 7636327936.0000 - val_mae: 12359.3047\n",
      "Epoch 16/500\n",
      "5905/5905 [==============================] - 22s 4ms/step - loss: 6751928320.0000 - mae: 12148.1465 - val_loss: 7648910336.0000 - val_mae: 12192.3086\n",
      "Epoch 17/500\n",
      "5905/5905 [==============================] - 22s 4ms/step - loss: 6729126912.0000 - mae: 12063.7002 - val_loss: 7546969600.0000 - val_mae: 12091.2549\n",
      "Epoch 18/500\n",
      "5905/5905 [==============================] - 22s 4ms/step - loss: 6716148736.0000 - mae: 11877.8496 - val_loss: 7513925120.0000 - val_mae: 12013.6318\n",
      "Epoch 19/500\n",
      "5905/5905 [==============================] - 22s 4ms/step - loss: 6679623168.0000 - mae: 11632.5400 - val_loss: 7489906688.0000 - val_mae: 11807.6758\n",
      "Epoch 20/500\n",
      "5905/5905 [==============================] - 22s 4ms/step - loss: 6666045952.0000 - mae: 11294.8389 - val_loss: 7506067456.0000 - val_mae: 11127.7139\n",
      "Epoch 21/500\n",
      "5905/5905 [==============================] - 22s 4ms/step - loss: 6627481088.0000 - mae: 11017.2441 - val_loss: 7530068992.0000 - val_mae: 10917.9434\n",
      "Epoch 22/500\n",
      "5905/5905 [==============================] - 22s 4ms/step - loss: 6605310464.0000 - mae: 10776.2139 - val_loss: 7417349632.0000 - val_mae: 10739.7256\n",
      "Epoch 23/500\n",
      "5905/5905 [==============================] - 22s 4ms/step - loss: 6604864512.0000 - mae: 10559.8145 - val_loss: 7410492416.0000 - val_mae: 10540.5684\n",
      "Epoch 24/500\n",
      "5905/5905 [==============================] - 23s 4ms/step - loss: 6575566336.0000 - mae: 10303.1777 - val_loss: 7390488576.0000 - val_mae: 10390.9482\n",
      "Epoch 25/500\n",
      "5905/5905 [==============================] - 23s 4ms/step - loss: 6560818176.0000 - mae: 10184.2471 - val_loss: 7375835136.0000 - val_mae: 10356.6523\n",
      "Epoch 26/500\n",
      "5905/5905 [==============================] - 22s 4ms/step - loss: 6542864384.0000 - mae: 9999.7051 - val_loss: 7352843264.0000 - val_mae: 10145.3564\n",
      "Epoch 27/500\n",
      "5905/5905 [==============================] - 22s 4ms/step - loss: 6543490560.0000 - mae: 9963.8652 - val_loss: 7336010752.0000 - val_mae: 10693.3311\n",
      "Epoch 28/500\n",
      "5905/5905 [==============================] - 22s 4ms/step - loss: 6521500160.0000 - mae: 9795.0957 - val_loss: 7320328704.0000 - val_mae: 9824.1670\n",
      "Epoch 29/500\n",
      "5905/5905 [==============================] - 22s 4ms/step - loss: 6469092864.0000 - mae: 9698.4336 - val_loss: 7471604224.0000 - val_mae: 9765.3330\n",
      "Epoch 30/500\n",
      "5905/5905 [==============================] - 22s 4ms/step - loss: 6485808128.0000 - mae: 9600.0186 - val_loss: 7292809216.0000 - val_mae: 9418.1182\n",
      "Epoch 31/500\n",
      "5905/5905 [==============================] - 22s 4ms/step - loss: 6449839104.0000 - mae: 9498.1963 - val_loss: 7386057216.0000 - val_mae: 9192.4375\n",
      "Epoch 32/500\n",
      "5905/5905 [==============================] - 22s 4ms/step - loss: 6439582208.0000 - mae: 9390.3506 - val_loss: 7238976000.0000 - val_mae: 9494.2305\n",
      "Epoch 33/500\n",
      "5905/5905 [==============================] - 22s 4ms/step - loss: 6425782784.0000 - mae: 9350.5430 - val_loss: 7225317888.0000 - val_mae: 9517.0215\n",
      "Epoch 34/500\n",
      "5905/5905 [==============================] - 22s 4ms/step - loss: 6385237504.0000 - mae: 9236.1172 - val_loss: 7246195712.0000 - val_mae: 9807.3193\n",
      "Epoch 35/500\n",
      "5905/5905 [==============================] - 22s 4ms/step - loss: 6339049472.0000 - mae: 9195.1035 - val_loss: 7440937984.0000 - val_mae: 9088.8662\n",
      "Epoch 36/500\n",
      "5905/5905 [==============================] - 22s 4ms/step - loss: 6380843520.0000 - mae: 9032.6055 - val_loss: 7162138112.0000 - val_mae: 10059.5352\n",
      "Epoch 37/500\n",
      "5905/5905 [==============================] - 22s 4ms/step - loss: 6333204992.0000 - mae: 8988.8281 - val_loss: 7123465728.0000 - val_mae: 8814.2803\n",
      "Epoch 38/500\n",
      "5905/5905 [==============================] - 22s 4ms/step - loss: 6323900416.0000 - mae: 8841.8477 - val_loss: 7126676480.0000 - val_mae: 10164.4229\n",
      "Epoch 39/500\n",
      "5905/5905 [==============================] - 22s 4ms/step - loss: 6275710464.0000 - mae: 8689.3184 - val_loss: 7096636416.0000 - val_mae: 8354.0400\n",
      "Epoch 40/500\n",
      "5905/5905 [==============================] - 22s 4ms/step - loss: 6193306624.0000 - mae: 8530.7246 - val_loss: 7330711040.0000 - val_mae: 8264.9473\n",
      "Epoch 41/500\n",
      "5905/5905 [==============================] - 22s 4ms/step - loss: 6250139136.0000 - mae: 8377.6924 - val_loss: 7027896832.0000 - val_mae: 9055.7676\n",
      "Epoch 42/500\n",
      "5905/5905 [==============================] - 22s 4ms/step - loss: 6190767616.0000 - mae: 8332.5635 - val_loss: 7042999808.0000 - val_mae: 8268.7178\n",
      "Epoch 43/500\n",
      "5905/5905 [==============================] - 22s 4ms/step - loss: 6166252032.0000 - mae: 8261.5635 - val_loss: 7128348672.0000 - val_mae: 8033.0308\n",
      "Epoch 44/500\n",
      "5905/5905 [==============================] - 22s 4ms/step - loss: 6141182976.0000 - mae: 8198.6299 - val_loss: 6933530624.0000 - val_mae: 7812.2510\n",
      "Epoch 45/500\n",
      "5905/5905 [==============================] - 23s 4ms/step - loss: 6108452864.0000 - mae: 8115.2246 - val_loss: 6901688320.0000 - val_mae: 7725.9971\n",
      "Epoch 46/500\n",
      "5905/5905 [==============================] - 24s 4ms/step - loss: 6074645504.0000 - mae: 8069.8667 - val_loss: 6824871424.0000 - val_mae: 7951.6899\n",
      "Epoch 47/500\n",
      "5905/5905 [==============================] - 24s 4ms/step - loss: 6007932928.0000 - mae: 8042.7710 - val_loss: 6791880192.0000 - val_mae: 7592.3286\n",
      "Epoch 48/500\n",
      "5905/5905 [==============================] - 23s 4ms/step - loss: 6012053504.0000 - mae: 7991.0674 - val_loss: 6806690816.0000 - val_mae: 8395.0967\n",
      "Epoch 49/500\n",
      "5905/5905 [==============================] - 24s 4ms/step - loss: 5958190080.0000 - mae: 7934.8188 - val_loss: 6743231488.0000 - val_mae: 9391.2422\n",
      "Epoch 50/500\n",
      "5905/5905 [==============================] - 23s 4ms/step - loss: 5923850240.0000 - mae: 7856.4321 - val_loss: 6706324480.0000 - val_mae: 8169.1118\n",
      "Epoch 51/500\n",
      "5905/5905 [==============================] - 23s 4ms/step - loss: 5920222720.0000 - mae: 7789.6172 - val_loss: 6650708480.0000 - val_mae: 7999.0298\n",
      "Epoch 52/500\n",
      "5905/5905 [==============================] - 23s 4ms/step - loss: 5876329472.0000 - mae: 7792.7397 - val_loss: 6640927744.0000 - val_mae: 7787.0225\n",
      "Epoch 53/500\n",
      "5905/5905 [==============================] - 23s 4ms/step - loss: 5855700480.0000 - mae: 7696.3921 - val_loss: 6566764544.0000 - val_mae: 7594.4717\n",
      "Epoch 54/500\n",
      "5905/5905 [==============================] - 22s 4ms/step - loss: 5843439104.0000 - mae: 7713.3115 - val_loss: 6564567040.0000 - val_mae: 7839.9868\n",
      "Epoch 55/500\n",
      "5905/5905 [==============================] - 22s 4ms/step - loss: 5789513216.0000 - mae: 7666.8867 - val_loss: 6582617088.0000 - val_mae: 8221.1426\n",
      "Epoch 56/500\n",
      "5905/5905 [==============================] - 23s 4ms/step - loss: 5782546432.0000 - mae: 7641.4863 - val_loss: 6550809088.0000 - val_mae: 7966.5000\n",
      "Epoch 57/500\n",
      "5905/5905 [==============================] - 22s 4ms/step - loss: 5711986176.0000 - mae: 7657.0405 - val_loss: 6515906048.0000 - val_mae: 9061.6123\n",
      "Epoch 58/500\n",
      "5905/5905 [==============================] - 22s 4ms/step - loss: 5740557824.0000 - mae: 7574.6069 - val_loss: 6428210688.0000 - val_mae: 7650.8218\n",
      "Epoch 59/500\n",
      "5905/5905 [==============================] - 24s 4ms/step - loss: 5694175232.0000 - mae: 7536.0479 - val_loss: 6664075776.0000 - val_mae: 7248.8223\n",
      "Epoch 60/500\n",
      "5905/5905 [==============================] - 22s 4ms/step - loss: 5671643648.0000 - mae: 7501.8223 - val_loss: 6401119744.0000 - val_mae: 7334.2866\n",
      "Epoch 61/500\n",
      "5905/5905 [==============================] - 22s 4ms/step - loss: 5626247680.0000 - mae: 7456.8320 - val_loss: 6577870848.0000 - val_mae: 7249.6592\n",
      "Epoch 62/500\n",
      "5905/5905 [==============================] - 23s 4ms/step - loss: 5578146816.0000 - mae: 7423.5137 - val_loss: 6507631616.0000 - val_mae: 6857.7349\n",
      "Epoch 63/500\n",
      "5905/5905 [==============================] - 23s 4ms/step - loss: 5572810752.0000 - mae: 7431.1733 - val_loss: 6456877568.0000 - val_mae: 7364.1782\n",
      "Epoch 64/500\n",
      "5905/5905 [==============================] - 23s 4ms/step - loss: 5598016000.0000 - mae: 7316.3452 - val_loss: 6302450176.0000 - val_mae: 8491.2695\n",
      "Epoch 65/500\n",
      "5905/5905 [==============================] - 23s 4ms/step - loss: 5576692224.0000 - mae: 7358.5898 - val_loss: 6262626304.0000 - val_mae: 7205.6997\n",
      "Epoch 66/500\n",
      "5905/5905 [==============================] - 22s 4ms/step - loss: 5560873472.0000 - mae: 7251.0186 - val_loss: 6262972928.0000 - val_mae: 6932.5195\n",
      "Epoch 67/500\n",
      "5905/5905 [==============================] - 23s 4ms/step - loss: 5469240832.0000 - mae: 7234.9390 - val_loss: 6288833024.0000 - val_mae: 6816.1079\n",
      "Epoch 68/500\n",
      "5905/5905 [==============================] - 23s 4ms/step - loss: 5504812544.0000 - mae: 7195.0176 - val_loss: 6245250048.0000 - val_mae: 6739.5249\n",
      "Epoch 69/500\n",
      "5905/5905 [==============================] - 23s 4ms/step - loss: 5505518080.0000 - mae: 7126.4307 - val_loss: 6216018432.0000 - val_mae: 6668.5684\n",
      "Epoch 70/500\n",
      "5905/5905 [==============================] - 23s 4ms/step - loss: 5503841280.0000 - mae: 7009.1665 - val_loss: 6162470400.0000 - val_mae: 6852.6895\n",
      "Epoch 71/500\n",
      "5905/5905 [==============================] - 23s 4ms/step - loss: 5451719168.0000 - mae: 7065.5381 - val_loss: 6289075200.0000 - val_mae: 6719.6392\n",
      "Epoch 72/500\n",
      "5905/5905 [==============================] - 23s 4ms/step - loss: 5438160896.0000 - mae: 7056.4805 - val_loss: 6116697600.0000 - val_mae: 6618.1738\n",
      "Epoch 73/500\n",
      "5905/5905 [==============================] - 23s 4ms/step - loss: 5446491648.0000 - mae: 6963.7095 - val_loss: 6208207360.0000 - val_mae: 6508.1265\n",
      "Epoch 74/500\n",
      "5905/5905 [==============================] - 23s 4ms/step - loss: 5445585408.0000 - mae: 6925.2793 - val_loss: 6152012288.0000 - val_mae: 6408.0083\n",
      "Epoch 75/500\n",
      "5905/5905 [==============================] - 23s 4ms/step - loss: 5435511296.0000 - mae: 6840.9390 - val_loss: 6082196480.0000 - val_mae: 6663.7114\n",
      "Epoch 76/500\n",
      "5905/5905 [==============================] - 23s 4ms/step - loss: 5409831424.0000 - mae: 6866.6270 - val_loss: 6253958656.0000 - val_mae: 6380.5879\n",
      "Epoch 77/500\n",
      "5905/5905 [==============================] - 22s 4ms/step - loss: 5434673152.0000 - mae: 6775.8774 - val_loss: 6070252032.0000 - val_mae: 6301.7798\n",
      "Epoch 78/500\n",
      "5905/5905 [==============================] - 22s 4ms/step - loss: 5424354304.0000 - mae: 6697.9067 - val_loss: 6084369408.0000 - val_mae: 6478.3721\n",
      "Epoch 79/500\n",
      "5905/5905 [==============================] - 22s 4ms/step - loss: 5388230144.0000 - mae: 6700.6787 - val_loss: 6020749824.0000 - val_mae: 6234.9097\n",
      "Epoch 80/500\n",
      "5905/5905 [==============================] - 22s 4ms/step - loss: 5341679616.0000 - mae: 6704.8613 - val_loss: 6093689856.0000 - val_mae: 6490.6426\n",
      "Epoch 81/500\n",
      "5905/5905 [==============================] - 22s 4ms/step - loss: 5378699776.0000 - mae: 6585.6440 - val_loss: 6045074432.0000 - val_mae: 6151.7324\n",
      "Epoch 82/500\n",
      "5905/5905 [==============================] - 23s 4ms/step - loss: 5392466432.0000 - mae: 6537.2451 - val_loss: 5985057280.0000 - val_mae: 6645.8618\n",
      "Epoch 83/500\n",
      "5905/5905 [==============================] - 24s 4ms/step - loss: 5342245376.0000 - mae: 6627.7246 - val_loss: 5966912000.0000 - val_mae: 6612.9004\n",
      "Epoch 84/500\n",
      "5905/5905 [==============================] - 24s 4ms/step - loss: 5322166272.0000 - mae: 6537.7900 - val_loss: 6076612096.0000 - val_mae: 6058.3306\n",
      "Epoch 85/500\n",
      "5905/5905 [==============================] - 26s 4ms/step - loss: 5371241472.0000 - mae: 6474.2393 - val_loss: 6041280512.0000 - val_mae: 6152.3472\n",
      "Epoch 86/500\n",
      "5905/5905 [==============================] - 26s 4ms/step - loss: 5336415232.0000 - mae: 6445.7852 - val_loss: 5958053888.0000 - val_mae: 6842.4229\n",
      "Epoch 87/500\n",
      "5905/5905 [==============================] - 27s 4ms/step - loss: 5345027072.0000 - mae: 6442.5986 - val_loss: 5969728512.0000 - val_mae: 6221.5234\n",
      "Epoch 88/500\n",
      "5905/5905 [==============================] - 26s 4ms/step - loss: 5328710144.0000 - mae: 6370.3159 - val_loss: 6011610624.0000 - val_mae: 6693.7075\n",
      "Epoch 89/500\n",
      "5905/5905 [==============================] - 26s 4ms/step - loss: 5319033344.0000 - mae: 6387.0063 - val_loss: 6073645568.0000 - val_mae: 6443.9775\n",
      "Epoch 90/500\n",
      "5905/5905 [==============================] - 25s 4ms/step - loss: 5332661248.0000 - mae: 6288.7451 - val_loss: 6017044992.0000 - val_mae: 5810.3545\n",
      "Epoch 91/500\n",
      "5905/5905 [==============================] - 25s 4ms/step - loss: 5335476736.0000 - mae: 6243.6245 - val_loss: 5949676544.0000 - val_mae: 5765.7065\n",
      "Epoch 92/500\n",
      "5905/5905 [==============================] - 25s 4ms/step - loss: 5284774400.0000 - mae: 6314.1255 - val_loss: 6037843968.0000 - val_mae: 6100.3916\n",
      "Epoch 93/500\n",
      "5905/5905 [==============================] - 25s 4ms/step - loss: 5320608256.0000 - mae: 6279.4922 - val_loss: 5904461824.0000 - val_mae: 7006.0625\n",
      "Epoch 94/500\n",
      "5905/5905 [==============================] - 25s 4ms/step - loss: 5310785536.0000 - mae: 6131.3711 - val_loss: 6008707072.0000 - val_mae: 5988.4272\n",
      "Epoch 95/500\n",
      "5905/5905 [==============================] - 25s 4ms/step - loss: 5292238336.0000 - mae: 6181.8770 - val_loss: 6028052992.0000 - val_mae: 5776.3774\n",
      "Epoch 96/500\n",
      "5905/5905 [==============================] - 25s 4ms/step - loss: 5290868224.0000 - mae: 6091.0161 - val_loss: 5880907776.0000 - val_mae: 6038.6841\n",
      "Epoch 97/500\n",
      "5905/5905 [==============================] - 25s 4ms/step - loss: 5305085952.0000 - mae: 6149.4229 - val_loss: 5971571200.0000 - val_mae: 5852.2339\n",
      "Epoch 98/500\n",
      "5905/5905 [==============================] - 25s 4ms/step - loss: 5297556480.0000 - mae: 6098.0864 - val_loss: 5909020672.0000 - val_mae: 7365.2354\n",
      "Epoch 99/500\n",
      "5905/5905 [==============================] - 26s 4ms/step - loss: 5290033152.0000 - mae: 6192.4268 - val_loss: 6111348224.0000 - val_mae: 5693.7412\n",
      "Epoch 100/500\n",
      "5905/5905 [==============================] - 25s 4ms/step - loss: 5247983104.0000 - mae: 6095.9741 - val_loss: 6434599936.0000 - val_mae: 8097.8457\n",
      "Epoch 101/500\n",
      "5905/5905 [==============================] - 25s 4ms/step - loss: 5262197248.0000 - mae: 6047.9673 - val_loss: 5951965184.0000 - val_mae: 8566.2842\n",
      "Epoch 102/500\n",
      "5905/5905 [==============================] - 27s 5ms/step - loss: 5279183360.0000 - mae: 6047.8125 - val_loss: 5943897600.0000 - val_mae: 6226.3979\n",
      "Epoch 103/500\n",
      "5905/5905 [==============================] - 26s 4ms/step - loss: 5274656256.0000 - mae: 6028.0645 - val_loss: 5914504192.0000 - val_mae: 5745.6689\n",
      "Epoch 104/500\n",
      "5905/5905 [==============================] - 25s 4ms/step - loss: 5263001600.0000 - mae: 6088.0908 - val_loss: 5911856128.0000 - val_mae: 5405.0635\n",
      "Epoch 105/500\n",
      "5905/5905 [==============================] - 25s 4ms/step - loss: 5283646464.0000 - mae: 5963.7056 - val_loss: 5868985856.0000 - val_mae: 6295.2363\n",
      "Epoch 106/500\n",
      "5905/5905 [==============================] - 25s 4ms/step - loss: 5241521664.0000 - mae: 6001.6328 - val_loss: 5842781184.0000 - val_mae: 5644.6406\n",
      "Epoch 107/500\n",
      "5905/5905 [==============================] - 25s 4ms/step - loss: 5239207936.0000 - mae: 5918.1157 - val_loss: 5860767744.0000 - val_mae: 5948.0156\n",
      "Epoch 108/500\n",
      "5905/5905 [==============================] - 25s 4ms/step - loss: 5224491520.0000 - mae: 6003.6958 - val_loss: 6011727872.0000 - val_mae: 6101.0205\n",
      "Epoch 109/500\n",
      "5905/5905 [==============================] - 25s 4ms/step - loss: 5246431232.0000 - mae: 5932.8389 - val_loss: 5855916544.0000 - val_mae: 5633.1675\n",
      "Epoch 110/500\n",
      "5905/5905 [==============================] - 25s 4ms/step - loss: 5218048512.0000 - mae: 5983.7510 - val_loss: 6012543488.0000 - val_mae: 5819.0244\n",
      "Epoch 111/500\n",
      "5905/5905 [==============================] - 25s 4ms/step - loss: 5263171584.0000 - mae: 5877.9922 - val_loss: 5840812544.0000 - val_mae: 5339.8848\n",
      "Epoch 112/500\n",
      "5905/5905 [==============================] - 25s 4ms/step - loss: 5240430592.0000 - mae: 5941.2036 - val_loss: 5964027904.0000 - val_mae: 5611.2788\n",
      "Epoch 113/500\n",
      "5905/5905 [==============================] - 25s 4ms/step - loss: 5238111232.0000 - mae: 5880.7705 - val_loss: 5878611968.0000 - val_mae: 6674.9268\n",
      "Epoch 114/500\n",
      "5905/5905 [==============================] - 26s 4ms/step - loss: 5191679488.0000 - mae: 6000.3604 - val_loss: 5976291840.0000 - val_mae: 5487.5508\n",
      "Epoch 115/500\n",
      "5905/5905 [==============================] - 25s 4ms/step - loss: 5220738560.0000 - mae: 5911.1958 - val_loss: 5834918912.0000 - val_mae: 5735.4951\n",
      "Epoch 116/500\n",
      "5905/5905 [==============================] - 25s 4ms/step - loss: 5243552768.0000 - mae: 5860.8804 - val_loss: 5821128704.0000 - val_mae: 5475.1714\n",
      "Epoch 117/500\n",
      "5905/5905 [==============================] - 26s 4ms/step - loss: 5218551296.0000 - mae: 5925.7549 - val_loss: 5819752960.0000 - val_mae: 5486.4878\n",
      "Epoch 118/500\n",
      "5905/5905 [==============================] - 26s 4ms/step - loss: 5217311744.0000 - mae: 5873.4692 - val_loss: 5842029056.0000 - val_mae: 5828.7920\n",
      "Epoch 119/500\n",
      "5905/5905 [==============================] - 25s 4ms/step - loss: 5197864960.0000 - mae: 5921.0225 - val_loss: 5961773056.0000 - val_mae: 6172.6343\n",
      "Epoch 120/500\n",
      "5905/5905 [==============================] - 25s 4ms/step - loss: 5214513664.0000 - mae: 5830.3579 - val_loss: 6037108224.0000 - val_mae: 5646.4448\n",
      "Epoch 121/500\n",
      "5905/5905 [==============================] - 25s 4ms/step - loss: 5205785088.0000 - mae: 5849.3979 - val_loss: 5839296512.0000 - val_mae: 6150.2021\n",
      "Epoch 122/500\n",
      "5905/5905 [==============================] - 25s 4ms/step - loss: 5204098048.0000 - mae: 5866.8110 - val_loss: 5801520640.0000 - val_mae: 5792.4141\n",
      "Epoch 123/500\n",
      "5905/5905 [==============================] - 25s 4ms/step - loss: 5188014080.0000 - mae: 5818.4619 - val_loss: 5808253440.0000 - val_mae: 5856.6792\n",
      "Epoch 124/500\n",
      "5905/5905 [==============================] - 25s 4ms/step - loss: 5191215104.0000 - mae: 5756.6758 - val_loss: 5927089664.0000 - val_mae: 5485.6802\n",
      "Epoch 125/500\n",
      "5905/5905 [==============================] - 25s 4ms/step - loss: 5212859904.0000 - mae: 5719.1436 - val_loss: 5816498688.0000 - val_mae: 5392.5874\n",
      "Epoch 126/500\n",
      "5905/5905 [==============================] - 25s 4ms/step - loss: 5207842304.0000 - mae: 5726.6294 - val_loss: 5828811264.0000 - val_mae: 5377.0210\n",
      "Epoch 127/500\n",
      "5905/5905 [==============================] - 25s 4ms/step - loss: 5179854336.0000 - mae: 5773.6509 - val_loss: 5805259264.0000 - val_mae: 6382.0942\n",
      "Epoch 128/500\n",
      "5905/5905 [==============================] - 24s 4ms/step - loss: 5218315776.0000 - mae: 5841.4756 - val_loss: 5805775360.0000 - val_mae: 5702.1851\n",
      "Epoch 129/500\n",
      "5905/5905 [==============================] - 24s 4ms/step - loss: 5190162944.0000 - mae: 5779.7520 - val_loss: 5847392256.0000 - val_mae: 5344.5000\n",
      "Epoch 130/500\n",
      "5905/5905 [==============================] - 25s 4ms/step - loss: 5187388416.0000 - mae: 5678.5732 - val_loss: 5992336384.0000 - val_mae: 5469.4258\n",
      "Epoch 131/500\n",
      "5905/5905 [==============================] - 24s 4ms/step - loss: 5209987072.0000 - mae: 5655.0527 - val_loss: 5797007872.0000 - val_mae: 5084.0762\n",
      "Epoch 132/500\n",
      "5905/5905 [==============================] - 24s 4ms/step - loss: 5202712064.0000 - mae: 5693.9111 - val_loss: 5832620032.0000 - val_mae: 5419.7246\n",
      "Epoch 133/500\n",
      "5905/5905 [==============================] - 24s 4ms/step - loss: 5176367616.0000 - mae: 5630.8154 - val_loss: 5817010688.0000 - val_mae: 5263.6245\n",
      "Epoch 134/500\n",
      "5905/5905 [==============================] - 25s 4ms/step - loss: 5185614336.0000 - mae: 5733.2344 - val_loss: 5825315840.0000 - val_mae: 5499.1323\n",
      "Epoch 135/500\n",
      "5905/5905 [==============================] - 24s 4ms/step - loss: 5182157312.0000 - mae: 5679.3462 - val_loss: 5778737664.0000 - val_mae: 5839.2964\n",
      "Epoch 136/500\n",
      "5905/5905 [==============================] - 25s 4ms/step - loss: 5185565184.0000 - mae: 5726.3169 - val_loss: 5784387072.0000 - val_mae: 6308.5137\n",
      "Epoch 137/500\n",
      "5905/5905 [==============================] - 25s 4ms/step - loss: 5192916480.0000 - mae: 5638.1787 - val_loss: 5779659776.0000 - val_mae: 5418.4497\n",
      "Epoch 138/500\n",
      "5905/5905 [==============================] - 27s 4ms/step - loss: 5159029248.0000 - mae: 5718.2090 - val_loss: 5790803968.0000 - val_mae: 5730.7236\n",
      "Epoch 139/500\n",
      "5905/5905 [==============================] - 24s 4ms/step - loss: 5150783488.0000 - mae: 5655.1997 - val_loss: 6018816000.0000 - val_mae: 5298.6392\n",
      "Epoch 140/500\n",
      "5905/5905 [==============================] - 25s 4ms/step - loss: 5174905344.0000 - mae: 5605.2568 - val_loss: 5788250112.0000 - val_mae: 5756.9028\n",
      "Epoch 141/500\n",
      "5905/5905 [==============================] - 25s 4ms/step - loss: 5130060288.0000 - mae: 5641.6133 - val_loss: 5911685120.0000 - val_mae: 5781.4644\n",
      "Epoch 142/500\n",
      "5905/5905 [==============================] - 24s 4ms/step - loss: 5153799168.0000 - mae: 5628.6768 - val_loss: 5769605632.0000 - val_mae: 5352.2515\n",
      "Epoch 143/500\n",
      "5905/5905 [==============================] - 25s 4ms/step - loss: 5164626432.0000 - mae: 5569.8784 - val_loss: 5780495360.0000 - val_mae: 5494.1592\n",
      "Epoch 144/500\n",
      "5905/5905 [==============================] - 25s 4ms/step - loss: 5158548480.0000 - mae: 5609.3232 - val_loss: 5783199744.0000 - val_mae: 5067.3188\n",
      "Epoch 145/500\n",
      "5905/5905 [==============================] - 26s 4ms/step - loss: 5131083264.0000 - mae: 5575.1909 - val_loss: 5930580992.0000 - val_mae: 5025.6846\n",
      "Epoch 146/500\n",
      "5905/5905 [==============================] - 25s 4ms/step - loss: 5168562688.0000 - mae: 5548.6943 - val_loss: 5944779264.0000 - val_mae: 5195.0928\n",
      "Epoch 147/500\n",
      "5905/5905 [==============================] - 25s 4ms/step - loss: 5149178368.0000 - mae: 5525.6338 - val_loss: 5818315264.0000 - val_mae: 4957.6504\n",
      "Epoch 148/500\n",
      "5905/5905 [==============================] - 25s 4ms/step - loss: 5138994176.0000 - mae: 5525.5767 - val_loss: 5802622464.0000 - val_mae: 5451.8950\n",
      "Epoch 149/500\n",
      "5905/5905 [==============================] - 25s 4ms/step - loss: 5142910976.0000 - mae: 5525.4189 - val_loss: 5911250432.0000 - val_mae: 5289.5640\n",
      "Epoch 150/500\n",
      "5905/5905 [==============================] - 26s 4ms/step - loss: 5155093504.0000 - mae: 5453.6914 - val_loss: 5772911616.0000 - val_mae: 5903.6416\n",
      "Epoch 151/500\n",
      "5905/5905 [==============================] - 26s 4ms/step - loss: 5151501312.0000 - mae: 5506.8677 - val_loss: 5767933440.0000 - val_mae: 4961.1611\n",
      "Epoch 152/500\n",
      "5905/5905 [==============================] - 26s 4ms/step - loss: 5156843520.0000 - mae: 5443.5566 - val_loss: 5862596608.0000 - val_mae: 5536.7314\n",
      "Epoch 153/500\n",
      "5905/5905 [==============================] - 26s 4ms/step - loss: 5151534080.0000 - mae: 5423.1250 - val_loss: 5920685568.0000 - val_mae: 5274.5444\n",
      "Epoch 154/500\n",
      "5905/5905 [==============================] - 26s 4ms/step - loss: 5146055168.0000 - mae: 5402.7065 - val_loss: 5793326080.0000 - val_mae: 4996.9414\n",
      "Epoch 155/500\n",
      "5905/5905 [==============================] - 26s 4ms/step - loss: 5136145920.0000 - mae: 5402.7627 - val_loss: 5767646720.0000 - val_mae: 5803.7407\n",
      "Epoch 156/500\n",
      "5905/5905 [==============================] - 26s 4ms/step - loss: 5138645504.0000 - mae: 5604.4746 - val_loss: 5818177024.0000 - val_mae: 5633.3335\n",
      "Epoch 157/500\n",
      "5905/5905 [==============================] - 26s 4ms/step - loss: 5129387008.0000 - mae: 5481.1313 - val_loss: 5759680000.0000 - val_mae: 5017.9097\n",
      "Epoch 158/500\n",
      "5905/5905 [==============================] - 26s 4ms/step - loss: 5131107328.0000 - mae: 5506.4766 - val_loss: 5761195008.0000 - val_mae: 5526.6113\n",
      "Epoch 159/500\n",
      "5905/5905 [==============================] - 26s 4ms/step - loss: 5136574976.0000 - mae: 5469.4731 - val_loss: 5767169536.0000 - val_mae: 4942.8364\n",
      "Epoch 160/500\n",
      "5905/5905 [==============================] - 26s 4ms/step - loss: 5130161664.0000 - mae: 5491.6904 - val_loss: 5854615552.0000 - val_mae: 6505.5513\n",
      "Epoch 161/500\n",
      "5905/5905 [==============================] - 27s 5ms/step - loss: 5144936448.0000 - mae: 5393.3657 - val_loss: 5736302080.0000 - val_mae: 4977.7539\n",
      "Epoch 162/500\n",
      "5905/5905 [==============================] - 27s 5ms/step - loss: 5117082112.0000 - mae: 5385.6387 - val_loss: 5758675456.0000 - val_mae: 5497.7056\n",
      "Epoch 163/500\n",
      "5905/5905 [==============================] - 26s 4ms/step - loss: 5144157696.0000 - mae: 5366.2505 - val_loss: 5789433856.0000 - val_mae: 5222.8320\n",
      "Epoch 164/500\n",
      "5905/5905 [==============================] - 25s 4ms/step - loss: 5110259712.0000 - mae: 5402.5166 - val_loss: 5928362496.0000 - val_mae: 6349.8472\n",
      "Epoch 165/500\n",
      "5905/5905 [==============================] - 27s 5ms/step - loss: 5154653184.0000 - mae: 5545.4043 - val_loss: 5749902848.0000 - val_mae: 5484.1772\n",
      "Epoch 166/500\n",
      "5905/5905 [==============================] - 26s 4ms/step - loss: 5137892864.0000 - mae: 5521.7954 - val_loss: 5784680448.0000 - val_mae: 5178.6929\n",
      "Epoch 167/500\n",
      "5905/5905 [==============================] - 27s 5ms/step - loss: 5105348096.0000 - mae: 5456.1436 - val_loss: 6019048960.0000 - val_mae: 5179.8823\n",
      "Epoch 168/500\n",
      "5905/5905 [==============================] - 26s 4ms/step - loss: 5107404800.0000 - mae: 5513.0044 - val_loss: 5766078976.0000 - val_mae: 5262.2822\n",
      "Epoch 169/500\n",
      "5905/5905 [==============================] - 27s 5ms/step - loss: 5138616832.0000 - mae: 5312.9248 - val_loss: 5744620544.0000 - val_mae: 5390.6196\n",
      "Epoch 170/500\n",
      "5905/5905 [==============================] - 27s 4ms/step - loss: 5111580672.0000 - mae: 5328.9453 - val_loss: 5784613888.0000 - val_mae: 5237.3511\n",
      "Epoch 171/500\n",
      "5905/5905 [==============================] - 27s 5ms/step - loss: 5122123264.0000 - mae: 5412.0078 - val_loss: 5966995968.0000 - val_mae: 5224.9199\n",
      "Epoch 172/500\n",
      "5905/5905 [==============================] - 27s 5ms/step - loss: 5149480448.0000 - mae: 5306.5532 - val_loss: 5782282752.0000 - val_mae: 5155.9443\n",
      "Epoch 173/500\n",
      "5905/5905 [==============================] - 28s 5ms/step - loss: 5115275264.0000 - mae: 5295.6118 - val_loss: 5795136000.0000 - val_mae: 5018.1401\n",
      "Epoch 174/500\n",
      "5905/5905 [==============================] - 27s 5ms/step - loss: 5113007616.0000 - mae: 5329.7148 - val_loss: 5782501888.0000 - val_mae: 5175.7310\n",
      "Epoch 175/500\n",
      "5905/5905 [==============================] - 28s 5ms/step - loss: 5112357376.0000 - mae: 5334.8872 - val_loss: 5903497216.0000 - val_mae: 5013.6831\n",
      "Epoch 176/500\n",
      "5905/5905 [==============================] - 27s 5ms/step - loss: 5135465984.0000 - mae: 5274.5908 - val_loss: 5753225216.0000 - val_mae: 5104.9214\n",
      "Epoch 177/500\n",
      "5905/5905 [==============================] - 26s 4ms/step - loss: 5101602304.0000 - mae: 5349.5303 - val_loss: 5796173312.0000 - val_mae: 4970.5815\n",
      "Epoch 178/500\n",
      "5905/5905 [==============================] - 27s 4ms/step - loss: 5127549440.0000 - mae: 5240.3550 - val_loss: 5736706048.0000 - val_mae: 4858.5342\n",
      "Epoch 179/500\n",
      "5905/5905 [==============================] - 27s 5ms/step - loss: 5073749504.0000 - mae: 5375.0698 - val_loss: 5763278336.0000 - val_mae: 6151.8311\n",
      "Epoch 180/500\n",
      "5905/5905 [==============================] - 27s 5ms/step - loss: 5083345408.0000 - mae: 5355.1538 - val_loss: 5777898496.0000 - val_mae: 6833.9106\n",
      "Epoch 181/500\n",
      "5905/5905 [==============================] - 27s 5ms/step - loss: 5100721664.0000 - mae: 5323.6582 - val_loss: 6059767296.0000 - val_mae: 5326.2793\n",
      "Epoch 182/500\n",
      "5905/5905 [==============================] - 27s 5ms/step - loss: 5108856832.0000 - mae: 5453.8184 - val_loss: 5905411584.0000 - val_mae: 4919.5332\n",
      "Epoch 183/500\n",
      "5905/5905 [==============================] - 27s 5ms/step - loss: 5043527680.0000 - mae: 5419.2441 - val_loss: 5833499648.0000 - val_mae: 5404.2007\n",
      "Epoch 184/500\n",
      "5905/5905 [==============================] - 27s 5ms/step - loss: 5121816064.0000 - mae: 5330.3306 - val_loss: 5738969088.0000 - val_mae: 4831.9224\n",
      "Epoch 185/500\n",
      "5905/5905 [==============================] - 27s 5ms/step - loss: 5099328512.0000 - mae: 5370.7769 - val_loss: 5781620736.0000 - val_mae: 4931.8203\n",
      "Epoch 186/500\n",
      "5905/5905 [==============================] - 27s 5ms/step - loss: 5083277312.0000 - mae: 5331.2300 - val_loss: 5850076160.0000 - val_mae: 4756.5444\n",
      "Epoch 187/500\n",
      "5905/5905 [==============================] - 27s 5ms/step - loss: 5113996800.0000 - mae: 5236.7524 - val_loss: 5782243840.0000 - val_mae: 5728.7666\n",
      "Epoch 188/500\n",
      "5905/5905 [==============================] - 27s 5ms/step - loss: 5070725120.0000 - mae: 5294.7983 - val_loss: 5820420096.0000 - val_mae: 6059.7251\n",
      "Epoch 189/500\n",
      "5905/5905 [==============================] - 27s 5ms/step - loss: 5089952256.0000 - mae: 5341.9878 - val_loss: 6003912192.0000 - val_mae: 5571.3496\n",
      "Epoch 190/500\n",
      "5905/5905 [==============================] - 27s 5ms/step - loss: 5108324864.0000 - mae: 5256.7676 - val_loss: 5810724352.0000 - val_mae: 6827.5981\n",
      "Epoch 191/500\n",
      "5905/5905 [==============================] - 27s 5ms/step - loss: 5102402048.0000 - mae: 5232.3521 - val_loss: 5735486976.0000 - val_mae: 5215.5991\n",
      "Epoch 192/500\n",
      "5905/5905 [==============================] - 28s 5ms/step - loss: 5058819584.0000 - mae: 5374.5337 - val_loss: 5737044992.0000 - val_mae: 4719.7803\n",
      "Epoch 193/500\n",
      "5905/5905 [==============================] - 27s 5ms/step - loss: 5086747136.0000 - mae: 5313.9375 - val_loss: 5766757376.0000 - val_mae: 5969.7725\n",
      "Epoch 194/500\n",
      "5905/5905 [==============================] - 27s 5ms/step - loss: 5105421312.0000 - mae: 5244.7954 - val_loss: 5741169152.0000 - val_mae: 4660.7964\n",
      "Epoch 195/500\n",
      "5905/5905 [==============================] - 27s 5ms/step - loss: 5094488576.0000 - mae: 5294.1392 - val_loss: 5821155328.0000 - val_mae: 4690.7139\n",
      "Epoch 196/500\n",
      "5905/5905 [==============================] - 27s 5ms/step - loss: 5054210560.0000 - mae: 5303.6079 - val_loss: 5774067712.0000 - val_mae: 5481.3613\n",
      "Epoch 197/500\n",
      "5905/5905 [==============================] - 28s 5ms/step - loss: 5085469696.0000 - mae: 5224.2910 - val_loss: 5763206144.0000 - val_mae: 4854.5693\n",
      "Epoch 198/500\n",
      "5905/5905 [==============================] - 28s 5ms/step - loss: 5088521728.0000 - mae: 5227.5186 - val_loss: 5782533632.0000 - val_mae: 5719.7725\n",
      "Epoch 199/500\n",
      "5905/5905 [==============================] - 27s 5ms/step - loss: 5092203008.0000 - mae: 5167.5215 - val_loss: 5829463040.0000 - val_mae: 5427.3037\n",
      "Epoch 200/500\n",
      "5905/5905 [==============================] - 27s 5ms/step - loss: 5073330176.0000 - mae: 5258.8115 - val_loss: 5776241664.0000 - val_mae: 4661.0254\n",
      "Epoch 201/500\n",
      "5905/5905 [==============================] - 27s 5ms/step - loss: 5091733504.0000 - mae: 5230.0312 - val_loss: 5705668096.0000 - val_mae: 4911.6221\n",
      "Epoch 202/500\n",
      "5905/5905 [==============================] - 27s 5ms/step - loss: 5081801728.0000 - mae: 5248.8545 - val_loss: 5792983552.0000 - val_mae: 4733.3984\n",
      "Epoch 203/500\n",
      "5905/5905 [==============================] - 26s 4ms/step - loss: 5087589888.0000 - mae: 5170.1035 - val_loss: 5748890624.0000 - val_mae: 4581.0049\n",
      "Epoch 204/500\n",
      "5905/5905 [==============================] - 27s 5ms/step - loss: 5056733696.0000 - mae: 5194.9780 - val_loss: 5714983424.0000 - val_mae: 5003.4780\n",
      "Epoch 205/500\n",
      "5905/5905 [==============================] - 27s 5ms/step - loss: 5059100160.0000 - mae: 5188.9297 - val_loss: 5747583488.0000 - val_mae: 4566.1460\n",
      "Epoch 206/500\n",
      "5905/5905 [==============================] - 28s 5ms/step - loss: 5078809088.0000 - mae: 5253.1606 - val_loss: 5829745152.0000 - val_mae: 4620.5195\n",
      "Epoch 207/500\n",
      "5905/5905 [==============================] - 28s 5ms/step - loss: 5047090176.0000 - mae: 5250.6201 - val_loss: 5729820672.0000 - val_mae: 4803.9111\n",
      "Epoch 208/500\n",
      "5905/5905 [==============================] - 27s 5ms/step - loss: 5088966144.0000 - mae: 5156.8955 - val_loss: 5710740992.0000 - val_mae: 4960.7295\n",
      "Epoch 209/500\n",
      "5905/5905 [==============================] - 27s 5ms/step - loss: 5091957760.0000 - mae: 5126.7559 - val_loss: 5710534656.0000 - val_mae: 5794.5161\n",
      "Epoch 210/500\n",
      "5905/5905 [==============================] - 27s 5ms/step - loss: 5066952704.0000 - mae: 5247.3726 - val_loss: 5713495552.0000 - val_mae: 4960.1992\n",
      "Epoch 211/500\n",
      "5905/5905 [==============================] - 27s 5ms/step - loss: 5056738816.0000 - mae: 5143.3154 - val_loss: 5753774080.0000 - val_mae: 5856.6641\n",
      "Epoch 212/500\n",
      "5905/5905 [==============================] - 27s 5ms/step - loss: 5072441856.0000 - mae: 5155.9707 - val_loss: 5717868544.0000 - val_mae: 6570.6816\n",
      "Epoch 213/500\n",
      "5905/5905 [==============================] - 27s 5ms/step - loss: 5073337344.0000 - mae: 5168.0337 - val_loss: 5738376704.0000 - val_mae: 4684.1558\n",
      "Epoch 214/500\n",
      "5905/5905 [==============================] - 27s 5ms/step - loss: 5105508352.0000 - mae: 5054.2393 - val_loss: 5698426368.0000 - val_mae: 4827.4316\n",
      "Epoch 215/500\n",
      "5905/5905 [==============================] - 26s 4ms/step - loss: 5062753280.0000 - mae: 5127.8989 - val_loss: 5814546944.0000 - val_mae: 4857.5029\n",
      "Epoch 216/500\n",
      "5905/5905 [==============================] - 28s 5ms/step - loss: 5063875584.0000 - mae: 5342.5107 - val_loss: 5709545984.0000 - val_mae: 5704.1929\n",
      "Epoch 217/500\n",
      "5905/5905 [==============================] - 26s 4ms/step - loss: 5076561920.0000 - mae: 5321.2627 - val_loss: 5858830848.0000 - val_mae: 4808.6147\n",
      "Epoch 218/500\n",
      "5905/5905 [==============================] - 27s 5ms/step - loss: 5070086656.0000 - mae: 5236.9292 - val_loss: 5870901760.0000 - val_mae: 8518.1934\n",
      "Epoch 219/500\n",
      "5905/5905 [==============================] - 26s 4ms/step - loss: 5055836672.0000 - mae: 5277.9673 - val_loss: 5787672576.0000 - val_mae: 4561.2100\n",
      "Epoch 220/500\n",
      "5905/5905 [==============================] - 27s 5ms/step - loss: 5003420672.0000 - mae: 5273.8032 - val_loss: 5751602688.0000 - val_mae: 5344.7686\n",
      "Epoch 221/500\n",
      "5905/5905 [==============================] - 26s 4ms/step - loss: 5011399168.0000 - mae: 5292.1772 - val_loss: 6051928064.0000 - val_mae: 7973.1934\n",
      "Epoch 222/500\n",
      "5905/5905 [==============================] - 27s 5ms/step - loss: 5084121600.0000 - mae: 5206.2158 - val_loss: 5754040320.0000 - val_mae: 5158.6025\n",
      "Epoch 223/500\n",
      "5905/5905 [==============================] - 27s 5ms/step - loss: 5074136064.0000 - mae: 5202.7129 - val_loss: 5733627904.0000 - val_mae: 5534.8169\n",
      "Epoch 224/500\n",
      "5905/5905 [==============================] - 26s 4ms/step - loss: 5051826688.0000 - mae: 5253.2373 - val_loss: 5717696000.0000 - val_mae: 5367.1553\n",
      "Epoch 225/500\n",
      "5905/5905 [==============================] - 27s 5ms/step - loss: 5040595968.0000 - mae: 5285.0806 - val_loss: 5805794304.0000 - val_mae: 4925.6655\n",
      "Epoch 226/500\n",
      "5905/5905 [==============================] - 27s 5ms/step - loss: 5063436800.0000 - mae: 5164.3745 - val_loss: 5727928320.0000 - val_mae: 5596.0625\n",
      "Epoch 227/500\n",
      "5905/5905 [==============================] - 27s 5ms/step - loss: 5004822016.0000 - mae: 5202.4722 - val_loss: 5801339904.0000 - val_mae: 4796.4683\n",
      "Epoch 228/500\n",
      "5905/5905 [==============================] - 27s 5ms/step - loss: 5093982208.0000 - mae: 5185.4653 - val_loss: 5798440960.0000 - val_mae: 4781.7485\n",
      "Epoch 229/500\n",
      "5905/5905 [==============================] - 27s 5ms/step - loss: 5039277568.0000 - mae: 5260.8457 - val_loss: 6091719168.0000 - val_mae: 6707.7261\n",
      "Epoch 230/500\n",
      "5905/5905 [==============================] - 27s 5ms/step - loss: 5065392640.0000 - mae: 5154.1270 - val_loss: 5725838336.0000 - val_mae: 5534.4644\n",
      "Epoch 231/500\n",
      "5905/5905 [==============================] - 27s 5ms/step - loss: 5028102656.0000 - mae: 5278.4121 - val_loss: 5811909632.0000 - val_mae: 5274.9497\n",
      "Epoch 232/500\n",
      "5905/5905 [==============================] - 27s 5ms/step - loss: 5042431488.0000 - mae: 5246.0703 - val_loss: 5861295616.0000 - val_mae: 4607.2847\n",
      "Epoch 233/500\n",
      "5905/5905 [==============================] - 27s 5ms/step - loss: 5075425792.0000 - mae: 5152.1274 - val_loss: 5719136256.0000 - val_mae: 4462.5088\n",
      "Epoch 234/500\n",
      "5905/5905 [==============================] - 27s 5ms/step - loss: 5039436800.0000 - mae: 5235.0498 - val_loss: 5753932288.0000 - val_mae: 4882.4424\n",
      "Epoch 235/500\n",
      "5905/5905 [==============================] - 27s 5ms/step - loss: 5032790016.0000 - mae: 5107.5708 - val_loss: 5931936256.0000 - val_mae: 5127.5127\n",
      "Epoch 236/500\n",
      "5905/5905 [==============================] - 28s 5ms/step - loss: 5056245760.0000 - mae: 5202.0840 - val_loss: 5862369792.0000 - val_mae: 5090.6274\n",
      "Epoch 237/500\n",
      "5905/5905 [==============================] - 28s 5ms/step - loss: 5047235584.0000 - mae: 5252.7153 - val_loss: 5842867712.0000 - val_mae: 4643.8843\n",
      "Epoch 238/500\n",
      "5905/5905 [==============================] - 27s 5ms/step - loss: 5041207808.0000 - mae: 5259.9399 - val_loss: 5721954816.0000 - val_mae: 4620.2598\n",
      "Epoch 239/500\n",
      "5905/5905 [==============================] - 29s 5ms/step - loss: 5022144000.0000 - mae: 5218.5776 - val_loss: 5759343104.0000 - val_mae: 5912.0859\n",
      "Epoch 240/500\n",
      "5905/5905 [==============================] - 29s 5ms/step - loss: 5028701184.0000 - mae: 5250.3726 - val_loss: 5755086848.0000 - val_mae: 7691.1553\n",
      "Epoch 241/500\n",
      "5905/5905 [==============================] - 28s 5ms/step - loss: 5018295296.0000 - mae: 5196.7119 - val_loss: 5885416960.0000 - val_mae: 5020.5928\n",
      "Epoch 242/500\n",
      "5905/5905 [==============================] - 28s 5ms/step - loss: 5021667840.0000 - mae: 5210.7104 - val_loss: 5791863296.0000 - val_mae: 4904.0884\n",
      "Epoch 243/500\n",
      "5905/5905 [==============================] - 28s 5ms/step - loss: 4981365760.0000 - mae: 5216.3145 - val_loss: 5731783168.0000 - val_mae: 5249.6045\n",
      "Epoch 244/500\n",
      "5905/5905 [==============================] - 28s 5ms/step - loss: 5059200000.0000 - mae: 5174.8657 - val_loss: 5730396160.0000 - val_mae: 4976.9204\n",
      "Epoch 245/500\n",
      "5905/5905 [==============================] - 28s 5ms/step - loss: 4976280576.0000 - mae: 5251.8433 - val_loss: 5779836928.0000 - val_mae: 5586.6807\n",
      "Epoch 246/500\n",
      "5905/5905 [==============================] - 28s 5ms/step - loss: 4978970624.0000 - mae: 5285.1006 - val_loss: 5687334912.0000 - val_mae: 5013.2383\n",
      "Epoch 247/500\n",
      "5905/5905 [==============================] - 28s 5ms/step - loss: 5052763648.0000 - mae: 5186.6362 - val_loss: 5672286720.0000 - val_mae: 4702.2588\n",
      "Epoch 248/500\n",
      "5905/5905 [==============================] - 29s 5ms/step - loss: 5030703616.0000 - mae: 5126.3491 - val_loss: 5766026752.0000 - val_mae: 5560.9419\n",
      "Epoch 249/500\n",
      "5905/5905 [==============================] - 30s 5ms/step - loss: 5046114816.0000 - mae: 5163.0220 - val_loss: 5689289728.0000 - val_mae: 4907.9102\n",
      "Epoch 250/500\n",
      "5905/5905 [==============================] - 29s 5ms/step - loss: 5027249664.0000 - mae: 5173.6260 - val_loss: 5744633856.0000 - val_mae: 4678.1333\n",
      "Epoch 251/500\n",
      "5905/5905 [==============================] - 30s 5ms/step - loss: 4998367744.0000 - mae: 5134.4639 - val_loss: 5954356736.0000 - val_mae: 6945.1162\n",
      "Epoch 252/500\n",
      "5905/5905 [==============================] - 30s 5ms/step - loss: 5031062016.0000 - mae: 5200.9292 - val_loss: 5723809792.0000 - val_mae: 6099.2300\n",
      "Epoch 253/500\n",
      "5905/5905 [==============================] - 30s 5ms/step - loss: 5028896256.0000 - mae: 5123.4819 - val_loss: 5825057280.0000 - val_mae: 4955.2227\n",
      "Epoch 254/500\n",
      "5905/5905 [==============================] - 30s 5ms/step - loss: 4998630912.0000 - mae: 5170.7383 - val_loss: 6212136960.0000 - val_mae: 5084.7065\n",
      "Epoch 255/500\n",
      "5905/5905 [==============================] - 30s 5ms/step - loss: 5040706560.0000 - mae: 5164.7939 - val_loss: 5669981696.0000 - val_mae: 5466.8379\n",
      "Epoch 256/500\n",
      "5905/5905 [==============================] - 30s 5ms/step - loss: 5000434688.0000 - mae: 5141.3403 - val_loss: 5747337728.0000 - val_mae: 6337.2778\n",
      "Epoch 257/500\n",
      "5905/5905 [==============================] - 30s 5ms/step - loss: 5006129152.0000 - mae: 5159.6509 - val_loss: 5833336832.0000 - val_mae: 4687.9985\n",
      "Epoch 258/500\n",
      "5905/5905 [==============================] - 30s 5ms/step - loss: 5034208256.0000 - mae: 5168.0010 - val_loss: 5720883200.0000 - val_mae: 5196.8721\n",
      "Epoch 259/500\n",
      "5905/5905 [==============================] - 30s 5ms/step - loss: 5034302464.0000 - mae: 5123.7954 - val_loss: 5723066368.0000 - val_mae: 4499.4326\n",
      "Epoch 260/500\n",
      "5905/5905 [==============================] - 30s 5ms/step - loss: 5031385088.0000 - mae: 5102.6177 - val_loss: 5716064256.0000 - val_mae: 4950.2515\n",
      "Epoch 261/500\n",
      "5905/5905 [==============================] - 30s 5ms/step - loss: 4973856768.0000 - mae: 5192.4897 - val_loss: 5769069056.0000 - val_mae: 5519.5205\n",
      "Epoch 262/500\n",
      "5905/5905 [==============================] - 30s 5ms/step - loss: 5003894272.0000 - mae: 5191.7256 - val_loss: 5712675328.0000 - val_mae: 4555.9580\n",
      "Epoch 263/500\n",
      "5905/5905 [==============================] - 30s 5ms/step - loss: 4980934144.0000 - mae: 5098.2153 - val_loss: 6055151616.0000 - val_mae: 4625.2280\n",
      "Epoch 264/500\n",
      "5905/5905 [==============================] - 30s 5ms/step - loss: 5054198272.0000 - mae: 5153.7754 - val_loss: 5691260416.0000 - val_mae: 4712.7510\n",
      "Epoch 265/500\n",
      "5905/5905 [==============================] - 30s 5ms/step - loss: 5017189888.0000 - mae: 5133.9131 - val_loss: 5776924672.0000 - val_mae: 4409.3994\n",
      "Epoch 266/500\n",
      "5905/5905 [==============================] - 30s 5ms/step - loss: 5007063040.0000 - mae: 5116.5894 - val_loss: 5656046592.0000 - val_mae: 4738.5552\n",
      "Epoch 267/500\n",
      "5905/5905 [==============================] - 30s 5ms/step - loss: 5027682816.0000 - mae: 5082.2573 - val_loss: 5687766528.0000 - val_mae: 5267.3828\n",
      "Epoch 268/500\n",
      "5905/5905 [==============================] - 30s 5ms/step - loss: 5020307456.0000 - mae: 5083.8008 - val_loss: 5692773376.0000 - val_mae: 6331.1846\n",
      "Epoch 269/500\n",
      "5905/5905 [==============================] - 31s 5ms/step - loss: 5030362624.0000 - mae: 5104.1284 - val_loss: 5646930944.0000 - val_mae: 4636.2451\n",
      "Epoch 270/500\n",
      "5905/5905 [==============================] - 31s 5ms/step - loss: 4976653312.0000 - mae: 5143.9829 - val_loss: 5962476544.0000 - val_mae: 5446.1719\n",
      "Epoch 271/500\n",
      "5905/5905 [==============================] - 30s 5ms/step - loss: 5011401216.0000 - mae: 5116.5479 - val_loss: 5706019840.0000 - val_mae: 6214.6001\n",
      "Epoch 272/500\n",
      "5905/5905 [==============================] - 30s 5ms/step - loss: 5003772928.0000 - mae: 5149.9976 - val_loss: 5664617472.0000 - val_mae: 5427.8726\n",
      "Epoch 273/500\n",
      "5905/5905 [==============================] - 30s 5ms/step - loss: 5027530752.0000 - mae: 5052.5737 - val_loss: 5669117952.0000 - val_mae: 4747.5903\n",
      "Epoch 274/500\n",
      "5905/5905 [==============================] - 30s 5ms/step - loss: 4978206720.0000 - mae: 5143.2402 - val_loss: 5737646080.0000 - val_mae: 4661.8032\n",
      "Epoch 275/500\n",
      "5905/5905 [==============================] - 30s 5ms/step - loss: 5017332224.0000 - mae: 5044.9058 - val_loss: 5643715072.0000 - val_mae: 4622.3462\n",
      "Epoch 276/500\n",
      "5905/5905 [==============================] - 30s 5ms/step - loss: 5024206336.0000 - mae: 5007.4858 - val_loss: 5654927872.0000 - val_mae: 4927.4106\n",
      "Epoch 277/500\n",
      "5905/5905 [==============================] - 30s 5ms/step - loss: 5003137024.0000 - mae: 5034.5044 - val_loss: 5742103552.0000 - val_mae: 4311.9648\n",
      "Epoch 278/500\n",
      "5905/5905 [==============================] - 30s 5ms/step - loss: 4972674560.0000 - mae: 5204.2500 - val_loss: 5922394624.0000 - val_mae: 4799.1763\n",
      "Epoch 279/500\n",
      "5905/5905 [==============================] - 31s 5ms/step - loss: 5014306816.0000 - mae: 5033.4478 - val_loss: 5630222336.0000 - val_mae: 4609.7783\n",
      "Epoch 280/500\n",
      "5905/5905 [==============================] - 29s 5ms/step - loss: 4993358336.0000 - mae: 4979.7939 - val_loss: 5642698240.0000 - val_mae: 5260.2524\n",
      "Epoch 281/500\n",
      "5905/5905 [==============================] - 28s 5ms/step - loss: 5011887616.0000 - mae: 5027.5298 - val_loss: 5635305472.0000 - val_mae: 4753.7617\n",
      "Epoch 282/500\n",
      "5905/5905 [==============================] - 28s 5ms/step - loss: 4981985792.0000 - mae: 5042.7349 - val_loss: 5639260160.0000 - val_mae: 4395.2300\n",
      "Epoch 283/500\n",
      "5905/5905 [==============================] - 29s 5ms/step - loss: 4973834240.0000 - mae: 5086.1230 - val_loss: 5678615040.0000 - val_mae: 4548.3955\n",
      "Epoch 284/500\n",
      "5905/5905 [==============================] - 29s 5ms/step - loss: 4984873984.0000 - mae: 5032.2080 - val_loss: 5806293504.0000 - val_mae: 4712.9873\n",
      "Epoch 285/500\n",
      "5905/5905 [==============================] - 29s 5ms/step - loss: 4975751680.0000 - mae: 5097.9141 - val_loss: 5714294784.0000 - val_mae: 4642.7070\n",
      "Epoch 286/500\n",
      "5905/5905 [==============================] - 29s 5ms/step - loss: 4976303104.0000 - mae: 5067.9263 - val_loss: 5628841984.0000 - val_mae: 5540.4390\n",
      "Epoch 287/500\n",
      "5905/5905 [==============================] - 29s 5ms/step - loss: 4989601280.0000 - mae: 5057.6470 - val_loss: 5772097536.0000 - val_mae: 4821.1929\n",
      "Epoch 288/500\n",
      "5905/5905 [==============================] - 28s 5ms/step - loss: 4990117888.0000 - mae: 5002.9951 - val_loss: 5627954176.0000 - val_mae: 4593.8037\n",
      "Epoch 289/500\n",
      "5905/5905 [==============================] - 29s 5ms/step - loss: 4959313408.0000 - mae: 5038.4692 - val_loss: 5732263936.0000 - val_mae: 8525.5283\n",
      "Epoch 290/500\n",
      "5905/5905 [==============================] - 29s 5ms/step - loss: 4992290304.0000 - mae: 5104.1245 - val_loss: 5649531392.0000 - val_mae: 4491.7280\n",
      "Epoch 291/500\n",
      "5905/5905 [==============================] - 29s 5ms/step - loss: 4953765888.0000 - mae: 5088.1143 - val_loss: 5694199808.0000 - val_mae: 4808.3511\n",
      "Epoch 292/500\n",
      "5905/5905 [==============================] - 29s 5ms/step - loss: 4968893440.0000 - mae: 5087.9893 - val_loss: 5817595392.0000 - val_mae: 4664.7783\n",
      "Epoch 293/500\n",
      "5905/5905 [==============================] - 29s 5ms/step - loss: 5005058048.0000 - mae: 5032.8042 - val_loss: 5688568832.0000 - val_mae: 4397.0288\n",
      "Epoch 294/500\n",
      "5905/5905 [==============================] - 29s 5ms/step - loss: 4947215360.0000 - mae: 5069.3882 - val_loss: 5658744320.0000 - val_mae: 5787.6348\n",
      "Epoch 295/500\n",
      "5905/5905 [==============================] - 29s 5ms/step - loss: 4982400000.0000 - mae: 5009.8159 - val_loss: 5646898176.0000 - val_mae: 5090.4819\n",
      "Epoch 296/500\n",
      "5905/5905 [==============================] - 29s 5ms/step - loss: 4991080448.0000 - mae: 5067.9390 - val_loss: 5653150720.0000 - val_mae: 4594.7900\n",
      "Epoch 297/500\n",
      "5905/5905 [==============================] - 29s 5ms/step - loss: 4959593984.0000 - mae: 5098.9009 - val_loss: 5596574208.0000 - val_mae: 4478.3208\n",
      "Epoch 298/500\n",
      "5905/5905 [==============================] - 30s 5ms/step - loss: 4958182912.0000 - mae: 5053.1655 - val_loss: 5672562688.0000 - val_mae: 4430.6143\n",
      "Epoch 299/500\n",
      "5905/5905 [==============================] - 30s 5ms/step - loss: 4996406784.0000 - mae: 5100.3174 - val_loss: 5645692416.0000 - val_mae: 4988.1587\n",
      "Epoch 300/500\n",
      "5905/5905 [==============================] - 31s 5ms/step - loss: 4938941952.0000 - mae: 5049.4526 - val_loss: 5798240768.0000 - val_mae: 9384.1787\n",
      "Epoch 301/500\n",
      "5905/5905 [==============================] - 30s 5ms/step - loss: 5005547520.0000 - mae: 5040.9111 - val_loss: 5681142272.0000 - val_mae: 4675.4536\n",
      "Epoch 302/500\n",
      "5905/5905 [==============================] - 30s 5ms/step - loss: 4985005568.0000 - mae: 5040.5928 - val_loss: 5603100672.0000 - val_mae: 4799.1846\n",
      "Epoch 303/500\n",
      "5905/5905 [==============================] - 30s 5ms/step - loss: 4967857152.0000 - mae: 5042.5620 - val_loss: 5653515776.0000 - val_mae: 5932.5415\n",
      "Epoch 304/500\n",
      "5905/5905 [==============================] - 29s 5ms/step - loss: 4982644224.0000 - mae: 5011.5703 - val_loss: 5757614592.0000 - val_mae: 4651.2241\n",
      "Epoch 305/500\n",
      "5905/5905 [==============================] - 29s 5ms/step - loss: 4995079168.0000 - mae: 4996.1611 - val_loss: 5626702336.0000 - val_mae: 4484.3408\n",
      "Epoch 306/500\n",
      "5905/5905 [==============================] - 30s 5ms/step - loss: 4986826240.0000 - mae: 5008.5693 - val_loss: 5627763712.0000 - val_mae: 5591.8867\n",
      "Epoch 307/500\n",
      "5905/5905 [==============================] - 29s 5ms/step - loss: 4945860096.0000 - mae: 5023.6743 - val_loss: 5594802688.0000 - val_mae: 5205.5327\n",
      "Epoch 308/500\n",
      "5905/5905 [==============================] - 30s 5ms/step - loss: 4958991360.0000 - mae: 5112.6865 - val_loss: 5600849408.0000 - val_mae: 4972.9692\n",
      "Epoch 309/500\n",
      "5905/5905 [==============================] - 29s 5ms/step - loss: 4904702464.0000 - mae: 5133.4844 - val_loss: 5980492800.0000 - val_mae: 4638.6768\n",
      "Epoch 310/500\n",
      "5905/5905 [==============================] - 29s 5ms/step - loss: 4991106560.0000 - mae: 4986.4956 - val_loss: 5588706816.0000 - val_mae: 4770.2354\n",
      "Epoch 311/500\n",
      "5905/5905 [==============================] - 30s 5ms/step - loss: 4916537344.0000 - mae: 5036.4204 - val_loss: 5742343680.0000 - val_mae: 5682.1904\n",
      "Epoch 312/500\n",
      "5905/5905 [==============================] - 30s 5ms/step - loss: 4977857536.0000 - mae: 4949.4209 - val_loss: 5605640192.0000 - val_mae: 6469.4839\n",
      "Epoch 313/500\n",
      "5905/5905 [==============================] - 29s 5ms/step - loss: 4951642112.0000 - mae: 5056.0117 - val_loss: 5592779264.0000 - val_mae: 4971.9189\n",
      "Epoch 314/500\n",
      "5905/5905 [==============================] - 29s 5ms/step - loss: 4963592192.0000 - mae: 5094.9526 - val_loss: 5632667648.0000 - val_mae: 5396.3442\n",
      "Epoch 315/500\n",
      "5905/5905 [==============================] - 30s 5ms/step - loss: 4927493632.0000 - mae: 5031.7603 - val_loss: 5654535680.0000 - val_mae: 7140.9326\n",
      "Epoch 316/500\n",
      "5905/5905 [==============================] - 30s 5ms/step - loss: 4966134784.0000 - mae: 4981.5879 - val_loss: 5590608896.0000 - val_mae: 4554.0830\n",
      "Epoch 317/500\n",
      "5905/5905 [==============================] - 30s 5ms/step - loss: 4924422656.0000 - mae: 5149.9233 - val_loss: 5578307072.0000 - val_mae: 4447.2178\n",
      "Epoch 318/500\n",
      "5905/5905 [==============================] - 29s 5ms/step - loss: 4951729152.0000 - mae: 5071.5107 - val_loss: 5609271808.0000 - val_mae: 4750.5205\n",
      "Epoch 319/500\n",
      "5905/5905 [==============================] - 30s 5ms/step - loss: 4986852864.0000 - mae: 4980.8955 - val_loss: 5662348288.0000 - val_mae: 5031.6240\n",
      "Epoch 320/500\n",
      "5905/5905 [==============================] - 30s 5ms/step - loss: 4931558400.0000 - mae: 5009.7583 - val_loss: 5820120576.0000 - val_mae: 4489.4282\n",
      "Epoch 321/500\n",
      "5905/5905 [==============================] - 29s 5ms/step - loss: 4924598272.0000 - mae: 5087.5195 - val_loss: 5675157504.0000 - val_mae: 4787.8462\n",
      "Epoch 322/500\n",
      "5905/5905 [==============================] - 29s 5ms/step - loss: 4950354944.0000 - mae: 5037.3013 - val_loss: 5602275328.0000 - val_mae: 4808.1182\n",
      "Epoch 323/500\n",
      "5905/5905 [==============================] - 30s 5ms/step - loss: 4947219968.0000 - mae: 5074.1860 - val_loss: 5702569984.0000 - val_mae: 4644.9771\n",
      "Epoch 324/500\n",
      "5905/5905 [==============================] - 30s 5ms/step - loss: 4973130240.0000 - mae: 5114.6616 - val_loss: 5602466304.0000 - val_mae: 5398.8428\n",
      "Epoch 325/500\n",
      "5905/5905 [==============================] - 29s 5ms/step - loss: 4899929600.0000 - mae: 4893.1733 - val_loss: 5946889728.0000 - val_mae: 6030.7847\n",
      "Epoch 326/500\n",
      "5905/5905 [==============================] - 29s 5ms/step - loss: 4881060352.0000 - mae: 5157.1611 - val_loss: 5872344064.0000 - val_mae: 4250.7539\n",
      "Epoch 327/500\n",
      "5905/5905 [==============================] - 29s 5ms/step - loss: 4963727360.0000 - mae: 5064.4907 - val_loss: 5780312064.0000 - val_mae: 4662.4297\n",
      "Epoch 328/500\n",
      "5905/5905 [==============================] - 30s 5ms/step - loss: 4927637504.0000 - mae: 5145.5151 - val_loss: 5592351232.0000 - val_mae: 4447.2817\n",
      "Epoch 329/500\n",
      "5905/5905 [==============================] - 27s 5ms/step - loss: 4914187264.0000 - mae: 5019.3848 - val_loss: 5588383232.0000 - val_mae: 5107.4014\n",
      "Epoch 330/500\n",
      "5905/5905 [==============================] - 25s 4ms/step - loss: 4906722816.0000 - mae: 5047.5151 - val_loss: 5573529600.0000 - val_mae: 4750.5371\n",
      "Epoch 331/500\n",
      "5905/5905 [==============================] - 26s 4ms/step - loss: 4917042176.0000 - mae: 5167.1323 - val_loss: 5788176896.0000 - val_mae: 4612.1187\n",
      "Epoch 332/500\n",
      "5905/5905 [==============================] - 26s 4ms/step - loss: 4943414272.0000 - mae: 5051.8945 - val_loss: 5959757824.0000 - val_mae: 4695.8169\n",
      "Epoch 333/500\n",
      "5905/5905 [==============================] - 25s 4ms/step - loss: 4954101760.0000 - mae: 5101.4331 - val_loss: 5566563328.0000 - val_mae: 5259.3955\n",
      "Epoch 334/500\n",
      "5905/5905 [==============================] - 25s 4ms/step - loss: 4966707200.0000 - mae: 4982.8823 - val_loss: 5624044544.0000 - val_mae: 6530.1118\n",
      "Epoch 335/500\n",
      "5905/5905 [==============================] - 25s 4ms/step - loss: 4941026304.0000 - mae: 5007.2754 - val_loss: 5588993024.0000 - val_mae: 4359.1494\n",
      "Epoch 336/500\n",
      "5905/5905 [==============================] - 25s 4ms/step - loss: 4938224640.0000 - mae: 4907.3823 - val_loss: 5611257344.0000 - val_mae: 5276.3965\n",
      "Epoch 337/500\n",
      "5905/5905 [==============================] - 25s 4ms/step - loss: 4920170496.0000 - mae: 4997.1772 - val_loss: 5761439744.0000 - val_mae: 4656.9194\n",
      "Epoch 338/500\n",
      "5905/5905 [==============================] - 25s 4ms/step - loss: 4942752768.0000 - mae: 5094.5337 - val_loss: 5554894848.0000 - val_mae: 4585.8115\n",
      "Epoch 339/500\n",
      "5905/5905 [==============================] - 25s 4ms/step - loss: 4946884096.0000 - mae: 5006.8232 - val_loss: 5765955072.0000 - val_mae: 9835.8896\n",
      "Epoch 340/500\n",
      "5905/5905 [==============================] - 25s 4ms/step - loss: 4940491776.0000 - mae: 5114.2983 - val_loss: 5596657152.0000 - val_mae: 4465.6060\n",
      "Epoch 341/500\n",
      "5905/5905 [==============================] - 25s 4ms/step - loss: 4929718272.0000 - mae: 5016.8730 - val_loss: 5541610496.0000 - val_mae: 4683.0981\n",
      "Epoch 342/500\n",
      "5905/5905 [==============================] - 25s 4ms/step - loss: 4936692736.0000 - mae: 5084.8638 - val_loss: 5555942912.0000 - val_mae: 5597.0464\n",
      "Epoch 343/500\n",
      "5905/5905 [==============================] - 25s 4ms/step - loss: 4940035072.0000 - mae: 5066.5791 - val_loss: 5616996352.0000 - val_mae: 6833.5386\n",
      "Epoch 344/500\n",
      "5905/5905 [==============================] - 25s 4ms/step - loss: 4924767232.0000 - mae: 5055.1768 - val_loss: 5691686912.0000 - val_mae: 6020.9092\n",
      "Epoch 345/500\n",
      "5905/5905 [==============================] - 25s 4ms/step - loss: 4917756416.0000 - mae: 5082.1367 - val_loss: 5701459456.0000 - val_mae: 9302.6348\n",
      "Epoch 346/500\n",
      "5905/5905 [==============================] - 25s 4ms/step - loss: 4902387712.0000 - mae: 5107.3149 - val_loss: 5621261824.0000 - val_mae: 4679.4180\n",
      "Epoch 347/500\n",
      "5905/5905 [==============================] - 25s 4ms/step - loss: 4818629632.0000 - mae: 5067.2725 - val_loss: 6262012928.0000 - val_mae: 4673.2344\n",
      "Epoch 348/500\n",
      "5905/5905 [==============================] - 26s 4ms/step - loss: 4916869632.0000 - mae: 5088.7285 - val_loss: 5559396352.0000 - val_mae: 5146.6792\n",
      "Epoch 349/500\n",
      "5905/5905 [==============================] - 26s 4ms/step - loss: 4917167616.0000 - mae: 5085.2139 - val_loss: 5620251648.0000 - val_mae: 5298.9912\n",
      "Epoch 350/500\n",
      "5905/5905 [==============================] - 26s 4ms/step - loss: 4924073984.0000 - mae: 5319.0420 - val_loss: 5647074304.0000 - val_mae: 5636.9194\n",
      "Epoch 351/500\n",
      "5905/5905 [==============================] - 25s 4ms/step - loss: 4885961728.0000 - mae: 5241.7812 - val_loss: 5798882816.0000 - val_mae: 5834.9062\n",
      "Epoch 352/500\n",
      "5905/5905 [==============================] - 26s 4ms/step - loss: 4903192576.0000 - mae: 5261.0781 - val_loss: 5675409920.0000 - val_mae: 5318.4907\n",
      "Epoch 353/500\n",
      "5905/5905 [==============================] - 26s 4ms/step - loss: 4953708032.0000 - mae: 5149.8579 - val_loss: 5527048704.0000 - val_mae: 4404.9038\n",
      "Epoch 354/500\n",
      "5905/5905 [==============================] - 26s 4ms/step - loss: 4918293504.0000 - mae: 5072.8003 - val_loss: 5604063232.0000 - val_mae: 6103.9814\n",
      "Epoch 355/500\n",
      "5905/5905 [==============================] - 25s 4ms/step - loss: 4910571008.0000 - mae: 5076.3032 - val_loss: 5542269440.0000 - val_mae: 5511.3472\n",
      "Epoch 356/500\n",
      "5905/5905 [==============================] - 26s 4ms/step - loss: 4910996992.0000 - mae: 5066.6294 - val_loss: 5581688320.0000 - val_mae: 4709.1978\n",
      "Epoch 357/500\n",
      "5905/5905 [==============================] - 27s 5ms/step - loss: 4944826368.0000 - mae: 5066.2554 - val_loss: 5529020416.0000 - val_mae: 4556.8286\n",
      "Epoch 358/500\n",
      "5905/5905 [==============================] - 25s 4ms/step - loss: 4923406336.0000 - mae: 5019.0542 - val_loss: 5583216640.0000 - val_mae: 4471.5522\n",
      "Epoch 359/500\n",
      "5905/5905 [==============================] - 25s 4ms/step - loss: 4898996736.0000 - mae: 5043.3535 - val_loss: 5501163520.0000 - val_mae: 4372.0991\n",
      "Epoch 360/500\n",
      "5905/5905 [==============================] - 25s 4ms/step - loss: 4900311040.0000 - mae: 5155.6890 - val_loss: 5788760064.0000 - val_mae: 4673.4590\n",
      "Epoch 361/500\n",
      "5905/5905 [==============================] - 25s 4ms/step - loss: 4899874816.0000 - mae: 5064.5117 - val_loss: 5688758784.0000 - val_mae: 4459.3384\n",
      "Epoch 362/500\n",
      "5905/5905 [==============================] - 25s 4ms/step - loss: 4890149888.0000 - mae: 5061.8428 - val_loss: 5622920192.0000 - val_mae: 4368.2622\n",
      "Epoch 363/500\n",
      "5905/5905 [==============================] - 25s 4ms/step - loss: 4869332992.0000 - mae: 4994.8623 - val_loss: 5802156032.0000 - val_mae: 8216.1846\n",
      "Epoch 364/500\n",
      "5905/5905 [==============================] - 25s 4ms/step - loss: 4874692096.0000 - mae: 5151.4629 - val_loss: 5586454016.0000 - val_mae: 4342.9800\n",
      "Epoch 365/500\n",
      "5905/5905 [==============================] - 26s 4ms/step - loss: 4881375744.0000 - mae: 5076.0820 - val_loss: 5747020800.0000 - val_mae: 7613.0400\n",
      "Epoch 366/500\n",
      "5905/5905 [==============================] - 26s 4ms/step - loss: 4802489856.0000 - mae: 5399.2383 - val_loss: 5505377280.0000 - val_mae: 6970.8706\n",
      "Epoch 367/500\n",
      "5905/5905 [==============================] - 27s 5ms/step - loss: 4912506368.0000 - mae: 5116.9297 - val_loss: 5457149952.0000 - val_mae: 4436.2007\n",
      "Epoch 368/500\n",
      "5905/5905 [==============================] - 26s 4ms/step - loss: 4875591680.0000 - mae: 5114.3296 - val_loss: 5499743232.0000 - val_mae: 4625.7568\n",
      "Epoch 369/500\n",
      "5905/5905 [==============================] - 25s 4ms/step - loss: 4897288704.0000 - mae: 5078.6626 - val_loss: 5493204480.0000 - val_mae: 4885.7944\n",
      "Epoch 370/500\n",
      "5905/5905 [==============================] - 25s 4ms/step - loss: 4735051264.0000 - mae: 5217.9067 - val_loss: 5910253568.0000 - val_mae: 4635.6343\n",
      "Epoch 371/500\n",
      "5905/5905 [==============================] - 25s 4ms/step - loss: 4887854080.0000 - mae: 5164.2910 - val_loss: 5565476864.0000 - val_mae: 5444.6973\n",
      "Epoch 372/500\n",
      "5905/5905 [==============================] - 26s 4ms/step - loss: 4876675072.0000 - mae: 5182.3188 - val_loss: 5533480448.0000 - val_mae: 5443.8794\n",
      "Epoch 373/500\n",
      "5905/5905 [==============================] - 25s 4ms/step - loss: 4878274560.0000 - mae: 5202.3481 - val_loss: 5539968000.0000 - val_mae: 4190.2432\n",
      "Epoch 374/500\n",
      "5905/5905 [==============================] - 25s 4ms/step - loss: 4883425280.0000 - mae: 5149.3628 - val_loss: 5496971264.0000 - val_mae: 4610.3608\n",
      "Epoch 375/500\n",
      "5905/5905 [==============================] - 25s 4ms/step - loss: 4878879744.0000 - mae: 5047.0508 - val_loss: 5742982656.0000 - val_mae: 4261.9336\n",
      "Epoch 376/500\n",
      "5905/5905 [==============================] - 25s 4ms/step - loss: 4873653248.0000 - mae: 5153.2788 - val_loss: 5594991616.0000 - val_mae: 4654.8330\n",
      "Epoch 377/500\n",
      "5905/5905 [==============================] - 25s 4ms/step - loss: 4916120576.0000 - mae: 5182.5825 - val_loss: 5527919616.0000 - val_mae: 4702.3267\n",
      "Epoch 378/500\n",
      "5905/5905 [==============================] - 26s 4ms/step - loss: 4836469248.0000 - mae: 5135.8350 - val_loss: 5523708928.0000 - val_mae: 4864.4668\n",
      "Epoch 379/500\n",
      "5905/5905 [==============================] - 25s 4ms/step - loss: 4872574976.0000 - mae: 5154.8672 - val_loss: 5651275264.0000 - val_mae: 4408.7056\n",
      "Epoch 380/500\n",
      "5905/5905 [==============================] - 25s 4ms/step - loss: 4871892480.0000 - mae: 5258.0322 - val_loss: 5560797184.0000 - val_mae: 6725.0425\n",
      "Epoch 381/500\n",
      "5905/5905 [==============================] - 25s 4ms/step - loss: 4840056832.0000 - mae: 5200.8306 - val_loss: 5806588416.0000 - val_mae: 4756.5566\n",
      "Epoch 382/500\n",
      "5905/5905 [==============================] - 25s 4ms/step - loss: 4826652160.0000 - mae: 5126.5044 - val_loss: 5696476672.0000 - val_mae: 4527.2607\n",
      "Epoch 383/500\n",
      "5905/5905 [==============================] - 25s 4ms/step - loss: 4859893248.0000 - mae: 5032.2065 - val_loss: 5544168960.0000 - val_mae: 4842.1138\n",
      "Epoch 384/500\n",
      "5905/5905 [==============================] - 25s 4ms/step - loss: 4856057344.0000 - mae: 5169.5249 - val_loss: 5420334592.0000 - val_mae: 4565.4854\n",
      "Epoch 385/500\n",
      "5905/5905 [==============================] - 25s 4ms/step - loss: 4893265408.0000 - mae: 5141.9849 - val_loss: 5416734720.0000 - val_mae: 5158.4712\n",
      "Epoch 386/500\n",
      "5905/5905 [==============================] - 25s 4ms/step - loss: 4852232704.0000 - mae: 5097.2593 - val_loss: 5471755776.0000 - val_mae: 4696.6167\n",
      "Epoch 387/500\n",
      "5905/5905 [==============================] - 25s 4ms/step - loss: 4849525760.0000 - mae: 5211.7290 - val_loss: 5507768832.0000 - val_mae: 4788.4116\n",
      "Epoch 388/500\n",
      "5905/5905 [==============================] - 25s 4ms/step - loss: 4856317952.0000 - mae: 5145.3286 - val_loss: 5604226560.0000 - val_mae: 8741.3242\n",
      "Epoch 389/500\n",
      "5905/5905 [==============================] - 25s 4ms/step - loss: 4867806720.0000 - mae: 5211.9834 - val_loss: 5479803904.0000 - val_mae: 5102.8584\n",
      "Epoch 390/500\n",
      "5905/5905 [==============================] - 26s 4ms/step - loss: 4795709952.0000 - mae: 5154.3682 - val_loss: 5476314112.0000 - val_mae: 5203.7979\n",
      "Epoch 391/500\n",
      "5905/5905 [==============================] - 26s 4ms/step - loss: 4836156416.0000 - mae: 5172.9292 - val_loss: 5644971008.0000 - val_mae: 4938.9580\n",
      "Epoch 392/500\n",
      "5905/5905 [==============================] - 26s 4ms/step - loss: 4796229632.0000 - mae: 5155.3994 - val_loss: 5443600896.0000 - val_mae: 4813.8638\n",
      "Epoch 393/500\n",
      "5905/5905 [==============================] - 25s 4ms/step - loss: 4782020096.0000 - mae: 5148.1616 - val_loss: 5478606848.0000 - val_mae: 4234.8550\n",
      "Epoch 394/500\n",
      "5905/5905 [==============================] - 25s 4ms/step - loss: 4744416768.0000 - mae: 5231.4409 - val_loss: 5631083008.0000 - val_mae: 4278.2236\n",
      "Epoch 395/500\n",
      "5905/5905 [==============================] - 25s 4ms/step - loss: 4796222464.0000 - mae: 5201.3354 - val_loss: 5488779776.0000 - val_mae: 4848.5234\n",
      "Epoch 396/500\n",
      "5905/5905 [==============================] - 26s 4ms/step - loss: 4794958336.0000 - mae: 5165.0483 - val_loss: 5682523136.0000 - val_mae: 4335.1631\n",
      "Epoch 397/500\n",
      "5905/5905 [==============================] - 25s 4ms/step - loss: 4849481216.0000 - mae: 5176.9478 - val_loss: 5588043776.0000 - val_mae: 5723.5806\n",
      "Epoch 398/500\n",
      "5905/5905 [==============================] - 25s 4ms/step - loss: 4830644224.0000 - mae: 5196.0684 - val_loss: 5413337600.0000 - val_mae: 5630.4502\n",
      "Epoch 399/500\n",
      "5905/5905 [==============================] - 25s 4ms/step - loss: 4790296064.0000 - mae: 5200.0361 - val_loss: 5374560256.0000 - val_mae: 4494.0518\n",
      "Epoch 400/500\n",
      "5905/5905 [==============================] - 25s 4ms/step - loss: 4874993152.0000 - mae: 5178.7285 - val_loss: 5430229504.0000 - val_mae: 5439.0591\n",
      "Epoch 401/500\n",
      "5905/5905 [==============================] - 25s 4ms/step - loss: 4768379904.0000 - mae: 5191.0171 - val_loss: 5430076416.0000 - val_mae: 6052.8135\n",
      "Epoch 402/500\n",
      "5905/5905 [==============================] - 26s 4ms/step - loss: 4862818304.0000 - mae: 5343.4692 - val_loss: 5441925632.0000 - val_mae: 4887.0806\n",
      "Epoch 403/500\n",
      "5905/5905 [==============================] - 26s 4ms/step - loss: 4783642112.0000 - mae: 5258.8452 - val_loss: 5431046656.0000 - val_mae: 4840.9683\n",
      "Epoch 404/500\n",
      "5905/5905 [==============================] - 25s 4ms/step - loss: 4822451712.0000 - mae: 5143.0444 - val_loss: 5342257664.0000 - val_mae: 4836.3086\n",
      "Epoch 405/500\n",
      "5905/5905 [==============================] - 25s 4ms/step - loss: 4833851904.0000 - mae: 5167.2349 - val_loss: 5374295040.0000 - val_mae: 4236.0635\n",
      "Epoch 406/500\n",
      "5905/5905 [==============================] - 25s 4ms/step - loss: 4807311360.0000 - mae: 5207.4678 - val_loss: 5400379392.0000 - val_mae: 4879.7588\n",
      "Epoch 407/500\n",
      "5905/5905 [==============================] - 25s 4ms/step - loss: 4796112896.0000 - mae: 5200.3833 - val_loss: 5319362048.0000 - val_mae: 5017.0435\n",
      "Epoch 408/500\n",
      "5905/5905 [==============================] - 25s 4ms/step - loss: 4832369152.0000 - mae: 5141.6548 - val_loss: 5315842048.0000 - val_mae: 5045.9683\n",
      "Epoch 409/500\n",
      "5905/5905 [==============================] - 25s 4ms/step - loss: 4812416000.0000 - mae: 5392.3784 - val_loss: 5775370752.0000 - val_mae: 4782.5571\n",
      "Epoch 410/500\n",
      "5905/5905 [==============================] - 25s 4ms/step - loss: 4815119360.0000 - mae: 5312.0620 - val_loss: 5815606784.0000 - val_mae: 6221.1626\n",
      "Epoch 411/500\n",
      "5905/5905 [==============================] - 25s 4ms/step - loss: 4748440576.0000 - mae: 5396.1631 - val_loss: 5466392064.0000 - val_mae: 6423.8384\n",
      "Epoch 412/500\n",
      "5905/5905 [==============================] - 25s 4ms/step - loss: 4807467008.0000 - mae: 5426.9272 - val_loss: 5661483008.0000 - val_mae: 4782.1670\n",
      "Epoch 413/500\n",
      "5905/5905 [==============================] - 25s 4ms/step - loss: 4823915520.0000 - mae: 5223.6914 - val_loss: 5540620288.0000 - val_mae: 4492.8115\n",
      "Epoch 414/500\n",
      "5905/5905 [==============================] - 25s 4ms/step - loss: 4817465856.0000 - mae: 5213.6411 - val_loss: 5422236672.0000 - val_mae: 5530.5630\n",
      "Epoch 415/500\n",
      "5905/5905 [==============================] - 26s 4ms/step - loss: 4836570624.0000 - mae: 5240.5693 - val_loss: 5389424640.0000 - val_mae: 4499.4077\n",
      "Epoch 416/500\n",
      "5905/5905 [==============================] - 26s 4ms/step - loss: 4733457920.0000 - mae: 5263.0317 - val_loss: 5755353088.0000 - val_mae: 4180.1987\n",
      "Epoch 417/500\n",
      "5905/5905 [==============================] - 26s 4ms/step - loss: 4748049408.0000 - mae: 5210.3472 - val_loss: 5361711616.0000 - val_mae: 4659.7681\n",
      "Epoch 418/500\n",
      "5905/5905 [==============================] - 26s 4ms/step - loss: 4800569344.0000 - mae: 5399.0503 - val_loss: 5615346176.0000 - val_mae: 5301.3057\n",
      "Epoch 419/500\n",
      "5905/5905 [==============================] - 26s 4ms/step - loss: 4834870784.0000 - mae: 5248.0234 - val_loss: 5322140672.0000 - val_mae: 4517.9663\n",
      "Epoch 420/500\n",
      "5905/5905 [==============================] - 26s 4ms/step - loss: 4735197696.0000 - mae: 5262.0303 - val_loss: 5628936704.0000 - val_mae: 4987.0459\n",
      "Epoch 421/500\n",
      "5905/5905 [==============================] - 26s 4ms/step - loss: 4741300224.0000 - mae: 5278.5571 - val_loss: 5314613760.0000 - val_mae: 4522.4556\n",
      "Epoch 422/500\n",
      "5905/5905 [==============================] - 26s 4ms/step - loss: 4666843648.0000 - mae: 5294.4160 - val_loss: 5341812224.0000 - val_mae: 7746.0498\n",
      "Epoch 423/500\n",
      "5905/5905 [==============================] - 26s 4ms/step - loss: 4706651136.0000 - mae: 5125.3862 - val_loss: 6637291520.0000 - val_mae: 7740.9785\n",
      "Epoch 424/500\n",
      "5905/5905 [==============================] - 26s 4ms/step - loss: 4749093888.0000 - mae: 5347.1240 - val_loss: 5263536128.0000 - val_mae: 5168.1240\n",
      "Epoch 425/500\n",
      "5905/5905 [==============================] - 26s 4ms/step - loss: 4736708096.0000 - mae: 5266.1914 - val_loss: 5379552768.0000 - val_mae: 10098.7461\n",
      "Epoch 426/500\n",
      "5905/5905 [==============================] - 26s 4ms/step - loss: 4792408576.0000 - mae: 5359.1821 - val_loss: 5347007488.0000 - val_mae: 5198.4126\n",
      "Epoch 427/500\n",
      "5905/5905 [==============================] - 26s 4ms/step - loss: 4790954496.0000 - mae: 5220.5098 - val_loss: 5790189568.0000 - val_mae: 4571.6343\n",
      "Epoch 428/500\n",
      "5905/5905 [==============================] - 26s 4ms/step - loss: 4651636224.0000 - mae: 5237.1182 - val_loss: 5297867264.0000 - val_mae: 4810.0098\n",
      "Epoch 429/500\n",
      "5905/5905 [==============================] - 26s 4ms/step - loss: 4736972800.0000 - mae: 5172.1431 - val_loss: 5550544384.0000 - val_mae: 4815.5518\n",
      "Epoch 430/500\n",
      "5905/5905 [==============================] - 26s 4ms/step - loss: 4730408960.0000 - mae: 5212.9004 - val_loss: 5580018176.0000 - val_mae: 4631.3140\n",
      "Epoch 431/500\n",
      "5905/5905 [==============================] - 26s 4ms/step - loss: 4687483392.0000 - mae: 5261.4678 - val_loss: 5268663296.0000 - val_mae: 5193.2832\n",
      "Epoch 432/500\n",
      "5905/5905 [==============================] - 26s 4ms/step - loss: 4775646720.0000 - mae: 5331.0605 - val_loss: 5410487808.0000 - val_mae: 4300.9429\n",
      "Epoch 433/500\n",
      "5905/5905 [==============================] - 26s 4ms/step - loss: 4656566784.0000 - mae: 5254.0767 - val_loss: 5238642688.0000 - val_mae: 4902.0312\n",
      "Epoch 434/500\n",
      "5905/5905 [==============================] - 26s 4ms/step - loss: 4751667712.0000 - mae: 5233.2437 - val_loss: 5326716416.0000 - val_mae: 4734.4854\n",
      "Epoch 435/500\n",
      "5905/5905 [==============================] - 26s 4ms/step - loss: 4673184768.0000 - mae: 5293.9980 - val_loss: 5400344576.0000 - val_mae: 5072.1406\n",
      "Epoch 436/500\n",
      "5905/5905 [==============================] - 26s 4ms/step - loss: 4733629440.0000 - mae: 5292.6997 - val_loss: 5221009920.0000 - val_mae: 5002.2212\n",
      "Epoch 437/500\n",
      "5905/5905 [==============================] - 27s 4ms/step - loss: 4729945600.0000 - mae: 5142.9253 - val_loss: 5686860288.0000 - val_mae: 4149.4253\n",
      "Epoch 438/500\n",
      "5905/5905 [==============================] - 26s 4ms/step - loss: 4758790144.0000 - mae: 5197.8247 - val_loss: 5288925696.0000 - val_mae: 4776.1333\n",
      "Epoch 439/500\n",
      "5905/5905 [==============================] - 26s 4ms/step - loss: 4733450752.0000 - mae: 5160.2896 - val_loss: 5287744512.0000 - val_mae: 6284.2666\n",
      "Epoch 440/500\n",
      "5905/5905 [==============================] - 26s 4ms/step - loss: 4701739520.0000 - mae: 5286.2002 - val_loss: 5264066048.0000 - val_mae: 6814.4370\n",
      "Epoch 441/500\n",
      "5905/5905 [==============================] - 26s 4ms/step - loss: 4631811072.0000 - mae: 5110.3599 - val_loss: 5445017600.0000 - val_mae: 4400.9404\n",
      "Epoch 442/500\n",
      "5905/5905 [==============================] - 26s 4ms/step - loss: 4649585664.0000 - mae: 5289.3472 - val_loss: 5264978944.0000 - val_mae: 4800.6250\n",
      "Epoch 443/500\n",
      "5905/5905 [==============================] - 26s 4ms/step - loss: 4711815168.0000 - mae: 5319.1558 - val_loss: 5181684736.0000 - val_mae: 4856.6597\n",
      "Epoch 444/500\n",
      "5905/5905 [==============================] - 26s 4ms/step - loss: 4646917632.0000 - mae: 5185.3037 - val_loss: 5643086336.0000 - val_mae: 4106.7275\n",
      "Epoch 445/500\n",
      "5905/5905 [==============================] - 26s 4ms/step - loss: 4700380672.0000 - mae: 5168.1064 - val_loss: 5160184832.0000 - val_mae: 4338.8101\n",
      "Epoch 446/500\n",
      "5905/5905 [==============================] - 26s 4ms/step - loss: 4686419968.0000 - mae: 5204.2969 - val_loss: 5217442816.0000 - val_mae: 5158.1636\n",
      "Epoch 447/500\n",
      "5905/5905 [==============================] - 26s 4ms/step - loss: 4711880192.0000 - mae: 5165.5039 - val_loss: 5498279936.0000 - val_mae: 4675.1572\n",
      "Epoch 448/500\n",
      "5905/5905 [==============================] - 26s 4ms/step - loss: 4703574528.0000 - mae: 5206.9751 - val_loss: 5345995776.0000 - val_mae: 5953.2129\n",
      "Epoch 449/500\n",
      "5905/5905 [==============================] - 26s 4ms/step - loss: 4647976448.0000 - mae: 5341.9111 - val_loss: 5181345792.0000 - val_mae: 4324.5493\n",
      "Epoch 450/500\n",
      "5905/5905 [==============================] - 26s 4ms/step - loss: 4598299648.0000 - mae: 5203.1074 - val_loss: 5311733248.0000 - val_mae: 6719.4810\n",
      "Epoch 451/500\n",
      "5905/5905 [==============================] - 26s 4ms/step - loss: 4626250240.0000 - mae: 5225.2495 - val_loss: 5732006912.0000 - val_mae: 4398.2842\n",
      "Epoch 452/500\n",
      "5905/5905 [==============================] - 26s 4ms/step - loss: 4709491200.0000 - mae: 5183.2754 - val_loss: 5142784512.0000 - val_mae: 5104.7021\n",
      "Epoch 453/500\n",
      "5905/5905 [==============================] - 26s 4ms/step - loss: 4699306496.0000 - mae: 5260.1074 - val_loss: 5568949760.0000 - val_mae: 4341.1470\n",
      "Epoch 454/500\n",
      "5905/5905 [==============================] - 26s 4ms/step - loss: 4662528000.0000 - mae: 5199.9854 - val_loss: 5613854720.0000 - val_mae: 4285.9980\n",
      "Epoch 455/500\n",
      "5905/5905 [==============================] - 26s 4ms/step - loss: 4640569344.0000 - mae: 5259.0332 - val_loss: 5299746304.0000 - val_mae: 4479.2017\n",
      "Epoch 456/500\n",
      "5905/5905 [==============================] - 26s 4ms/step - loss: 4658172928.0000 - mae: 5187.2104 - val_loss: 5181103616.0000 - val_mae: 4295.2920\n",
      "Epoch 457/500\n",
      "5905/5905 [==============================] - 26s 4ms/step - loss: 4626174464.0000 - mae: 5214.7690 - val_loss: 5705422848.0000 - val_mae: 6602.4839\n",
      "Epoch 458/500\n",
      "5905/5905 [==============================] - 26s 4ms/step - loss: 4552746496.0000 - mae: 5303.2676 - val_loss: 5347323392.0000 - val_mae: 4465.6372\n",
      "Epoch 459/500\n",
      "5905/5905 [==============================] - 26s 4ms/step - loss: 4636970496.0000 - mae: 5221.0264 - val_loss: 5224281088.0000 - val_mae: 4303.9941\n",
      "Epoch 460/500\n",
      "5905/5905 [==============================] - 26s 4ms/step - loss: 4528234496.0000 - mae: 5315.0044 - val_loss: 5327387136.0000 - val_mae: 12718.1758\n",
      "Epoch 461/500\n",
      "5905/5905 [==============================] - 26s 4ms/step - loss: 4531073024.0000 - mae: 5346.8711 - val_loss: 6045816832.0000 - val_mae: 5746.4609\n",
      "Epoch 462/500\n",
      "5905/5905 [==============================] - 26s 4ms/step - loss: 4606627840.0000 - mae: 5273.9458 - val_loss: 5248513536.0000 - val_mae: 5323.5532\n",
      "Epoch 463/500\n",
      "5905/5905 [==============================] - 26s 4ms/step - loss: 4588344320.0000 - mae: 5331.9429 - val_loss: 5260319232.0000 - val_mae: 9078.8955\n",
      "Epoch 464/500\n",
      "5905/5905 [==============================] - 26s 4ms/step - loss: 4673707008.0000 - mae: 5326.8062 - val_loss: 5425151488.0000 - val_mae: 4395.3813\n",
      "Epoch 465/500\n",
      "5905/5905 [==============================] - 26s 4ms/step - loss: 4588652544.0000 - mae: 5204.6118 - val_loss: 5027682816.0000 - val_mae: 4885.6113\n",
      "Epoch 466/500\n",
      "5905/5905 [==============================] - 26s 4ms/step - loss: 4596840448.0000 - mae: 5334.0703 - val_loss: 5188032000.0000 - val_mae: 5845.2891\n",
      "Epoch 467/500\n",
      "5905/5905 [==============================] - 27s 5ms/step - loss: 4584125440.0000 - mae: 5324.6992 - val_loss: 5105342976.0000 - val_mae: 5820.0596\n",
      "Epoch 468/500\n",
      "5905/5905 [==============================] - 26s 4ms/step - loss: 4526151680.0000 - mae: 5247.0127 - val_loss: 5340661760.0000 - val_mae: 4362.6318\n",
      "Epoch 469/500\n",
      "5905/5905 [==============================] - 26s 4ms/step - loss: 4547627008.0000 - mae: 5293.2676 - val_loss: 5321380864.0000 - val_mae: 4030.6782\n",
      "Epoch 470/500\n",
      "5905/5905 [==============================] - 26s 4ms/step - loss: 4549029888.0000 - mae: 5174.8271 - val_loss: 5246471168.0000 - val_mae: 3956.9111\n",
      "Epoch 471/500\n",
      "5905/5905 [==============================] - 26s 4ms/step - loss: 4496728064.0000 - mae: 5384.7534 - val_loss: 5236772864.0000 - val_mae: 5342.0513\n",
      "Epoch 472/500\n",
      "5905/5905 [==============================] - 27s 5ms/step - loss: 4623442432.0000 - mae: 5279.7280 - val_loss: 5046348800.0000 - val_mae: 4443.0605\n",
      "Epoch 473/500\n",
      "5905/5905 [==============================] - 26s 4ms/step - loss: 4614263296.0000 - mae: 5230.6421 - val_loss: 5400076288.0000 - val_mae: 5483.1538\n",
      "Epoch 474/500\n",
      "5905/5905 [==============================] - 32s 5ms/step - loss: 4569382400.0000 - mae: 5350.8843 - val_loss: 5340463104.0000 - val_mae: 6020.4058\n",
      "Epoch 475/500\n",
      "5905/5905 [==============================] - 33s 6ms/step - loss: 4591809536.0000 - mae: 5327.1958 - val_loss: 4975612416.0000 - val_mae: 4621.5537\n",
      "Epoch 476/500\n",
      "5905/5905 [==============================] - 29s 5ms/step - loss: 4551870464.0000 - mae: 5267.4971 - val_loss: 4948588032.0000 - val_mae: 4748.3652\n",
      "Epoch 477/500\n",
      "5905/5905 [==============================] - 29s 5ms/step - loss: 4498830848.0000 - mae: 5301.7144 - val_loss: 5380684288.0000 - val_mae: 8420.2920\n",
      "Epoch 478/500\n",
      "5905/5905 [==============================] - 27s 5ms/step - loss: 4546542592.0000 - mae: 5402.7183 - val_loss: 5169921024.0000 - val_mae: 8035.5757\n",
      "Epoch 479/500\n",
      "5905/5905 [==============================] - 27s 5ms/step - loss: 4487961088.0000 - mae: 5321.9365 - val_loss: 5024278016.0000 - val_mae: 4945.0977\n",
      "Epoch 480/500\n",
      "5905/5905 [==============================] - 27s 5ms/step - loss: 4561704960.0000 - mae: 5300.8364 - val_loss: 5351049216.0000 - val_mae: 3927.1582\n",
      "Epoch 481/500\n",
      "5905/5905 [==============================] - 27s 5ms/step - loss: 4579917824.0000 - mae: 5263.5234 - val_loss: 5092472832.0000 - val_mae: 4566.6865\n",
      "Epoch 482/500\n",
      "5905/5905 [==============================] - 26s 4ms/step - loss: 4581666816.0000 - mae: 5293.8223 - val_loss: 5166808064.0000 - val_mae: 4028.1162\n",
      "Epoch 483/500\n",
      "5905/5905 [==============================] - 26s 4ms/step - loss: 4569097728.0000 - mae: 5308.9575 - val_loss: 5062880768.0000 - val_mae: 4043.0300\n",
      "Epoch 484/500\n",
      "5905/5905 [==============================] - 27s 4ms/step - loss: 4482088960.0000 - mae: 5271.9771 - val_loss: 5131737600.0000 - val_mae: 4290.5889\n",
      "Epoch 485/500\n",
      "5905/5905 [==============================] - 26s 4ms/step - loss: 4520580096.0000 - mae: 5273.6318 - val_loss: 4993171456.0000 - val_mae: 5153.1406\n",
      "Epoch 486/500\n",
      "5905/5905 [==============================] - 26s 4ms/step - loss: 4558521856.0000 - mae: 5376.7246 - val_loss: 4923248128.0000 - val_mae: 4982.8984\n",
      "Epoch 487/500\n",
      "5905/5905 [==============================] - 27s 5ms/step - loss: 4484719104.0000 - mae: 5316.3428 - val_loss: 4901249024.0000 - val_mae: 4807.5962\n",
      "Epoch 488/500\n",
      "5905/5905 [==============================] - 27s 4ms/step - loss: 4442599424.0000 - mae: 5241.3765 - val_loss: 4960389632.0000 - val_mae: 5164.0488\n",
      "Epoch 489/500\n",
      "5905/5905 [==============================] - 27s 4ms/step - loss: 4487450624.0000 - mae: 5327.7197 - val_loss: 4903527424.0000 - val_mae: 4564.5811\n",
      "Epoch 490/500\n",
      "5905/5905 [==============================] - 27s 5ms/step - loss: 4532742656.0000 - mae: 5279.5146 - val_loss: 5766684160.0000 - val_mae: 6919.2373\n",
      "Epoch 491/500\n",
      "5905/5905 [==============================] - 27s 5ms/step - loss: 4454888448.0000 - mae: 5411.4312 - val_loss: 5449705472.0000 - val_mae: 4263.2393\n",
      "Epoch 492/500\n",
      "5905/5905 [==============================] - 27s 5ms/step - loss: 4453632000.0000 - mae: 5313.5386 - val_loss: 5236552192.0000 - val_mae: 4334.7427\n",
      "Epoch 493/500\n",
      "5905/5905 [==============================] - 27s 5ms/step - loss: 4423514624.0000 - mae: 5313.2349 - val_loss: 4889763840.0000 - val_mae: 6369.1104\n",
      "Epoch 494/500\n",
      "5905/5905 [==============================] - 27s 5ms/step - loss: 4567236608.0000 - mae: 5304.4897 - val_loss: 4974114304.0000 - val_mae: 4361.6270\n",
      "Epoch 495/500\n",
      "5905/5905 [==============================] - 27s 5ms/step - loss: 4573435904.0000 - mae: 5440.9985 - val_loss: 4895272448.0000 - val_mae: 5778.7285\n",
      "Epoch 496/500\n",
      "5905/5905 [==============================] - 27s 5ms/step - loss: 4540615168.0000 - mae: 5427.5283 - val_loss: 5246543360.0000 - val_mae: 5322.7559\n",
      "Epoch 497/500\n",
      "5905/5905 [==============================] - 27s 5ms/step - loss: 4475549696.0000 - mae: 5295.1870 - val_loss: 4909102080.0000 - val_mae: 5607.7754\n",
      "Epoch 498/500\n",
      "5905/5905 [==============================] - 27s 5ms/step - loss: 4349753344.0000 - mae: 5354.2397 - val_loss: 4877387776.0000 - val_mae: 4236.1616\n",
      "Epoch 499/500\n",
      "5905/5905 [==============================] - 27s 5ms/step - loss: 4538561024.0000 - mae: 5314.7471 - val_loss: 5169768960.0000 - val_mae: 4456.0435\n",
      "Epoch 500/500\n",
      "5905/5905 [==============================] - 27s 5ms/step - loss: 4396193792.0000 - mae: 5282.9741 - val_loss: 4902920704.0000 - val_mae: 5808.4648\n"
     ]
    }
   ],
   "source": [
    "history = ann.fit(X_train, y_train,\n",
    "                    validation_data = (X_val, y_val),\n",
    "                    callbacks=[es],\n",
    "                    epochs=500,\n",
    "                    batch_size=50,\n",
    "                    verbose=1)"
   ]
  },
  {
   "cell_type": "markdown",
   "metadata": {
    "colab_type": "text",
    "id": "0H0zKKNEBLD5"
   },
   "source": [
    "### Analyse learn history"
   ]
  },
  {
   "cell_type": "code",
   "execution_count": 24,
   "metadata": {
    "ExecuteTime": {
     "end_time": "2023-09-29T04:19:40.865020300Z",
     "start_time": "2023-09-29T04:19:40.615228600Z"
    }
   },
   "outputs": [
    {
     "data": {
      "text/plain": "<Figure size 640x480 with 1 Axes>",
      "image/png": "[encoded data removed]"
     },
     "metadata": {},
     "output_type": "display_data"
    }
   ],
   "source": [
    "# let's see the training and validation accuracy by epoch\n",
    "history_dict = history.history\n",
    "loss_values = history_dict['loss'] # you can change this\n",
    "val_loss_values = history_dict['val_loss'] # you can also change this\n",
    "epochs = range(1, len(loss_values) + 1) # range of X (no. of epochs)\n",
    "plt.plot(epochs, loss_values, 'blue', label='Train set loss')\n",
    "plt.plot(epochs, val_loss_values, 'orange', label='Validation set loss')\n",
    "#plt.title('Training and testing loss')\n",
    "plt.xlabel('Epochs')\n",
    "plt.ylabel('Loss (MSE)')\n",
    "plt.legend()\n",
    "plt.show()"
   ]
  },
  {
   "cell_type": "code",
   "execution_count": 25,
   "metadata": {
    "ExecuteTime": {
     "end_time": "2023-09-29T04:19:45.796825100Z",
     "start_time": "2023-09-29T04:19:45.557430800Z"
    }
   },
   "outputs": [
    {
     "data": {
      "text/plain": "<Figure size 640x480 with 1 Axes>",
      "image/png": "[encoded data removed]"
     },
     "metadata": {},
     "output_type": "display_data"
    }
   ],
   "source": [
    "loss_values1 = history_dict['mae'] # you can change this\n",
    "val_loss_values1 = history_dict['val_mae'] # you can also change this\n",
    "epochs = range(1, len(loss_values1) + 1) # range of X (no. of epochs)\n",
    "plt.plot(epochs, loss_values1, 'blue', label='Train set MAE')\n",
    "plt.plot(epochs, val_loss_values1, 'orange', label='Validation set MAE')\n",
    "#plt.title('Training and testing MAE')\n",
    "plt.xlabel('Epochs')\n",
    "plt.ylabel('MAE')\n",
    "plt.legend()\n",
    "plt.show()"
   ]
  },
  {
   "cell_type": "code",
   "execution_count": null,
   "metadata": {},
   "outputs": [],
   "source": [
    "print (epochs)"
   ]
  },
  {
   "cell_type": "markdown",
   "metadata": {},
   "source": [
    "### Save the model"
   ]
  },
  {
   "cell_type": "code",
   "execution_count": null,
   "metadata": {},
   "outputs": [],
   "source": [
    "ann.save('ANN_1.h5')"
   ]
  },
  {
   "cell_type": "markdown",
   "metadata": {},
   "source": [
    "## Part 5 - Make predictions"
   ]
  },
  {
   "cell_type": "code",
   "execution_count": null,
   "metadata": {},
   "outputs": [],
   "source": [
    "ann = load_model('ANN_1.h5')"
   ]
  },
  {
   "cell_type": "code",
   "execution_count": 26,
   "metadata": {
    "ExecuteTime": {
     "end_time": "2023-09-29T04:20:25.639391Z",
     "start_time": "2023-09-29T04:19:51.461156Z"
    }
   },
   "outputs": [
    {
     "name": "stdout",
     "output_type": "stream",
     "text": [
      "9226/9226 [==============================] - 19s 2ms/step\n",
      "3076/3076 [==============================] - 8s 3ms/step\n"
     ]
    },
    {
     "data": {
      "text/plain": "<Figure size 640x480 with 2 Axes>",
      "image/png": "[encoded data removed]"
     },
     "metadata": {},
     "output_type": "display_data"
    }
   ],
   "source": [
    "# scatterplot of actual vs. pred\n",
    "# specify the dimensions \n",
    "fig, axes = plt.subplots(1,2) # 1 row, 2 columns\n",
    "\n",
    "# this makes the individual subplots\n",
    "# Training Results\n",
    "axes[0].scatter(x=y_train, y=ann.predict(X_train)) #first row, first entry (left top)\n",
    "axes[0].set_xlabel(\"Actual\", fontsize=10)\n",
    "axes[0].set_ylabel(\"Predicted\",  fontsize=10)\n",
    "axes[0].set_title(\"Training\")\n",
    "# add 45 deg line\n",
    "x = np.linspace(*axes[0].get_xlim())\n",
    "axes[0].plot(x, x, color='red')\n",
    "# Validation Results\n",
    "axes[1].scatter(x=y_val, y=ann.predict(X_val)) # first row, second entry (right top)\n",
    "axes[1].set_xlabel(\"Actual\", fontsize=10)\n",
    "axes[1].set_ylabel(\"Predicted\",  fontsize=10)\n",
    "axes[1].set_title(\"Validation\")\n",
    "# add 45 deg line\n",
    "x = np.linspace(*axes[1].get_xlim())\n",
    "axes[1].plot(x, x, color='red')\n",
    "\n",
    "# tight layout\n",
    "fig.tight_layout()\n",
    "\n",
    "# show the plot\n",
    "plt.show()"
   ]
  },
  {
   "cell_type": "code",
   "execution_count": 27,
   "metadata": {
    "colab": {
     "base_uri": "https://localhost:8080/",
     "height": 134
    },
    "colab_type": "code",
    "id": "IA0yApEmBG1X",
    "outputId": "cb981e1f-9204-4a2a-fece-9d66a6919189",
    "ExecuteTime": {
     "end_time": "2023-09-29T04:20:48.527207300Z",
     "start_time": "2023-09-29T04:20:39.162166700Z"
    }
   },
   "outputs": [
    {
     "name": "stdout",
     "output_type": "stream",
     "text": [
      "3076/3076 [==============================] - 8s 3ms/step\n",
      "[[ 71927.43  73126.14]\n",
      " [132148.44 128423.22]\n",
      " [ 98455.41  97779.79]\n",
      " ...\n",
      " [ 94932.99  98427.59]\n",
      " [ 98428.84 100222.85]\n",
      " [222814.27 216468.36]]\n"
     ]
    }
   ],
   "source": [
    "#X_test=np.asarray(X_test).astype(np.int)\n",
    "\n",
    "#y_test=np.asarray(y_test).astype(np.int)\n",
    "\n",
    "y_pred = ann.predict(X_test)\n",
    "np.set_printoptions(precision=2)\n",
    "print(np.concatenate((y_pred.reshape(len(y_pred),1), y_test.reshape(len(y_test),1)),1))"
   ]
  },
  {
   "cell_type": "code",
   "execution_count": 28,
   "metadata": {
    "ExecuteTime": {
     "end_time": "2023-09-29T04:21:03.696419200Z",
     "start_time": "2023-09-29T04:21:00.162309200Z"
    }
   },
   "outputs": [
    {
     "data": {
      "text/plain": "Text(0, 0.5, 'Predicted data')"
     },
     "execution_count": 28,
     "metadata": {},
     "output_type": "execute_result"
    },
    {
     "data": {
      "text/plain": "<Figure size 640x480 with 1 Axes>",
      "image/png": "[encoded data removed]"
     },
     "metadata": {},
     "output_type": "display_data"
    }
   ],
   "source": [
    "import matplotlib.pyplot as plt\n",
    "plt.scatter(y_test, y_pred, color=\"blue\")\n",
    "#plt.plot ([0,8500000],[0,8500000], color = \"red\")\n",
    "#plt.axis ([0,8500000,0,8500000])\n",
    "plt.xlabel ('Actual data')\n",
    "plt.ylabel ('Predicted data')"
   ]
  },
  {
   "cell_type": "code",
   "execution_count": null,
   "metadata": {},
   "outputs": [],
   "source": [
    "from sklearn.metrics import r2_score\n",
    "# Initialize layout\n",
    "fig1, ax1 = plt.subplots(figsize = (9, 9))\n",
    "\n",
    "\n",
    "#y = y_pred         # Model on prvious line is called here\n",
    "#x = y_test\n",
    "\n",
    "\n",
    "\n",
    "# Add scatterplot\n",
    "ax1.scatter(y_test, y_pred, s=70, alpha=1, edgecolors=\"k\",c='mediumblue',zorder=5, label = 'Points')\n",
    "\n",
    "\n",
    "plt.ylabel('Predicted Peak Incident Pressure (kPa)',fontsize = 25)\n",
    "plt.xlabel('Actual Peak Incident Pressure (kPa)',fontsize = 25)\n",
    "plt.xticks(fontsize = 19)\n",
    "plt.yticks(fontsize = 19)\n",
    "\n",
    "\n",
    "x1 = np.linspace(0,8000000)\n",
    "\n",
    "plt.plot(x1, x1, 'Red', label='45\\N{DEGREE SIGN} line',lw=2.5,alpha=1)\n",
    "plt.plot(x1, 1.1*x1, '--m', label='\\u00B110% Error',lw=2.5,alpha=0.7)\n",
    "plt.plot(x1, 0.9*x1,'m', linestyle='--',lw=2.5,alpha=0.7)\n",
    "plt.plot(x1, 1.2*x1, '-.g', label='\\u00B120% Error',lw=2.5,alpha=0.7)\n",
    "plt.plot(x1, 0.8*x1,'-.g',lw=2.5,alpha=0.7)\n",
    "\n",
    "plt.ylim(0,8000000)\n",
    "plt.xlim(0,8000000)\n",
    "plt.legend(loc='upper left',fontsize = 25)\n",
    "\n",
    "plt.grid()\n",
    "\n",
    "ax1.spines['left'].set_color('black')        # setting up Y-axis tick color to red\n",
    "ax1.spines['bottom'].set_color('black')         #setting up above X-axis tick color to red\n",
    "\n",
    "\n",
    "\n",
    "#ax1.annotate(\"$R^2$ = {:.3f}\".format(r2), (2500, 1000),fontsize = 25)  #Model is called here\n",
    "#ax1.annotate(\"Adj.$R^2$ = {:.3f}\".format(adj_r2), (2500, 750),fontsize = 25)\n",
    "\n",
    "#plt.savefig('plot1.png', dpi = 600, bbox_inches = 'tight')"
   ]
  },
  {
   "cell_type": "code",
   "execution_count": null,
   "metadata": {},
   "outputs": [],
   "source": [
    "# metrics\n",
    "trainpreds = ann.predict(X_train)\n",
    "\n",
    "from sklearn.metrics import mean_absolute_error\n",
    "print(mean_absolute_error(y_train, trainpreds)) # train\n",
    "print(mean_absolute_error(y_test, y_pred)) # test"
   ]
  },
  {
   "cell_type": "code",
   "execution_count": null,
   "metadata": {},
   "outputs": [],
   "source": [
    "from sklearn.metrics import r2_score\n",
    "r2 = r2_score(y_test, y_pred)\n",
    "print (r2)"
   ]
  },
  {
   "cell_type": "code",
   "execution_count": null,
   "metadata": {},
   "outputs": [],
   "source": [
    "r2_train = r2_score(y_train, trainpreds)\n",
    "print (r2_train)"
   ]
  },
  {
   "cell_type": "code",
   "execution_count": null,
   "metadata": {},
   "outputs": [],
   "source": [
    "count1 = 0\n",
    "for i in range(len(y_pred)):\n",
    "    line1 = y_pred[i] - 0.9*y_test[i]\n",
    "    line2 = y_pred[i] - 1.1*y_test[i]\n",
    "    #print ('line 1 ', line1)\n",
    "    #print ('line 2 ', line2)\n",
    "    mask1 = (line1 > 0) & (line2 < 0)\n",
    "    #print (mask)\n",
    "    count1 = np.sum(mask1+count1)\n",
    "    #print (count)\n",
    "\n",
    "count2 = 0\n",
    "for j in range(len(y_pred)):\n",
    "    line3 = y_pred[j] - 0.8*y_test[j]\n",
    "    line4 = y_pred[j] - 1.2*y_test[j]\n",
    "    mask2 = (line3 > 0) & (line4 < 0)\n",
    "    count2 = np.sum(mask2+count2)\n",
    "\n",
    "\n",
    "count3 = 0    \n",
    "for k in range(len(y_pred)):\n",
    "    line5 = y_pred[k] - 0.8*y_test[k]\n",
    "    line6 = y_pred[k] - 1.2*y_test[k]\n",
    "    mask3 = (line5 < 0) or (line6 > 0)\n",
    "    count3 = np.sum(mask3+count3)\n",
    "   \n",
    "\n",
    "print ('Within 10% margin', format((count1/len (y_pred)),'.2%'))\n",
    "print ('Within 20% margin', format((count2/len (y_pred)),'.2%'))\n",
    "print ('Out of 20% margin', format((count3/len (y_pred)),'.2%'))"
   ]
  },
  {
   "cell_type": "code",
   "execution_count": null,
   "metadata": {},
   "outputs": [],
   "source": [
    "adj_r2 = 1 - ((1 - r2) * (len(X_test) - 1) / (len(X_test) - len (X_test[0]) - 1))\n",
    "print (adj_r2)"
   ]
  },
  {
   "cell_type": "code",
   "execution_count": null,
   "metadata": {},
   "outputs": [],
   "source": [
    "import math\n",
    "from sklearn.metrics import mean_squared_error\n",
    "\n",
    "math.sqrt(mean_squared_error(y_test, y_pred))"
   ]
  },
  {
   "cell_type": "code",
   "execution_count": null,
   "metadata": {},
   "outputs": [],
   "source": [
    "from sklearn.metrics import mean_absolute_error\n",
    "\n",
    "mean_absolute_error(y_test, y_pred)"
   ]
  }
 ],
 "metadata": {
  "colab": {
   "collapsed_sections": [],
   "name": "Artificial Neural Network",
   "provenance": [],
   "toc_visible": true
  },
  "kernelspec": {
   "display_name": "Python 3 (ipykernel)",
   "language": "python",
   "name": "python3"
  },
  "language_info": {
   "codemirror_mode": {
    "name": "ipython",
    "version": 3
   },
   "file_extension": ".py",
   "mimetype": "text/x-python",
   "name": "python",
   "nbconvert_exporter": "python",
   "pygments_lexer": "ipython3",
   "version": "3.9.7"
  }
 },
 "nbformat": 4,
 "nbformat_minor": 4
}
