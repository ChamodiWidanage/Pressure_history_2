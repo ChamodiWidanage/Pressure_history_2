{
 "cells": [
  {
   "cell_type": "markdown",
   "metadata": {
    "colab_type": "text",
    "id": "3cbb7fRy-eyr"
   },
   "source": [
    "# Artificial Neural Network"
   ]
  },
  {
   "cell_type": "markdown",
   "metadata": {
    "colab_type": "text",
    "id": "8sNDnxE2-pwE"
   },
   "source": [
    "## Part 1 - Importing the libraries"
   ]
  },
  {
   "cell_type": "code",
   "execution_count": 2,
   "metadata": {
    "colab": {},
    "colab_type": "code",
    "id": "lxChR1Rk-umf",
    "ExecuteTime": {
     "end_time": "2023-10-05T02:21:40.788235300Z",
     "start_time": "2023-10-05T02:21:40.772538800Z"
    }
   },
   "outputs": [],
   "source": [
    "import numpy as np\n",
    "import pandas as pd\n",
    "import tensorflow as tf\n",
    "import matplotlib.pyplot as plt\n",
    "from keras.models import load_model\n",
    "from pathlib import Path"
   ]
  },
  {
   "cell_type": "markdown",
   "metadata": {
    "colab_type": "text",
    "id": "AG3FQEch-yuA"
   },
   "source": [
    "## Part 2 - Data Preprocessing"
   ]
  },
  {
   "cell_type": "markdown",
   "metadata": {
    "colab_type": "text",
    "id": "-4zq8Mza_D9O"
   },
   "source": [
    "### Importing the dataset"
   ]
  },
  {
   "cell_type": "code",
   "execution_count": 3,
   "metadata": {
    "ExecuteTime": {
     "end_time": "2023-10-05T02:21:44.372466Z",
     "start_time": "2023-10-05T02:21:44.326170100Z"
    }
   },
   "outputs": [
    {
     "name": "stdout",
     "output_type": "stream",
     "text": [
      "input G:\\Chamodi\\Machine_Learning\\Pressure_history_2\\Pressure_profiles_arrival_omitted\n",
      "2 [WindowsPath('G:/Chamodi/Machine_Learning/Pressure_history_2/Pressure_profiles_arrival_omitted/L13_1'), WindowsPath('G:/Chamodi/Machine_Learning/Pressure_history_2/Pressure_profiles_arrival_omitted/L13_11'), WindowsPath('G:/Chamodi/Machine_Learning/Pressure_history_2/Pressure_profiles_arrival_omitted/L13_13'), WindowsPath('G:/Chamodi/Machine_Learning/Pressure_history_2/Pressure_profiles_arrival_omitted/L13_15'), WindowsPath('G:/Chamodi/Machine_Learning/Pressure_history_2/Pressure_profiles_arrival_omitted/L13_17'), WindowsPath('G:/Chamodi/Machine_Learning/Pressure_history_2/Pressure_profiles_arrival_omitted/L13_19'), WindowsPath('G:/Chamodi/Machine_Learning/Pressure_history_2/Pressure_profiles_arrival_omitted/L13_21'), WindowsPath('G:/Chamodi/Machine_Learning/Pressure_history_2/Pressure_profiles_arrival_omitted/L13_23'), WindowsPath('G:/Chamodi/Machine_Learning/Pressure_history_2/Pressure_profiles_arrival_omitted/L13_25'), WindowsPath('G:/Chamodi/Machine_Learning/Pressure_history_2/Pressure_profiles_arrival_omitted/L13_27'), WindowsPath('G:/Chamodi/Machine_Learning/Pressure_history_2/Pressure_profiles_arrival_omitted/L13_29'), WindowsPath('G:/Chamodi/Machine_Learning/Pressure_history_2/Pressure_profiles_arrival_omitted/L13_3'), WindowsPath('G:/Chamodi/Machine_Learning/Pressure_history_2/Pressure_profiles_arrival_omitted/L13_31'), WindowsPath('G:/Chamodi/Machine_Learning/Pressure_history_2/Pressure_profiles_arrival_omitted/L13_33'), WindowsPath('G:/Chamodi/Machine_Learning/Pressure_history_2/Pressure_profiles_arrival_omitted/L13_35'), WindowsPath('G:/Chamodi/Machine_Learning/Pressure_history_2/Pressure_profiles_arrival_omitted/L13_37'), WindowsPath('G:/Chamodi/Machine_Learning/Pressure_history_2/Pressure_profiles_arrival_omitted/L13_39'), WindowsPath('G:/Chamodi/Machine_Learning/Pressure_history_2/Pressure_profiles_arrival_omitted/L13_41'), WindowsPath('G:/Chamodi/Machine_Learning/Pressure_history_2/Pressure_profiles_arrival_omitted/L13_43'), WindowsPath('G:/Chamodi/Machine_Learning/Pressure_history_2/Pressure_profiles_arrival_omitted/L13_45'), WindowsPath('G:/Chamodi/Machine_Learning/Pressure_history_2/Pressure_profiles_arrival_omitted/L13_47'), WindowsPath('G:/Chamodi/Machine_Learning/Pressure_history_2/Pressure_profiles_arrival_omitted/L13_49'), WindowsPath('G:/Chamodi/Machine_Learning/Pressure_history_2/Pressure_profiles_arrival_omitted/L13_5'), WindowsPath('G:/Chamodi/Machine_Learning/Pressure_history_2/Pressure_profiles_arrival_omitted/L13_51'), WindowsPath('G:/Chamodi/Machine_Learning/Pressure_history_2/Pressure_profiles_arrival_omitted/L13_53'), WindowsPath('G:/Chamodi/Machine_Learning/Pressure_history_2/Pressure_profiles_arrival_omitted/L13_55'), WindowsPath('G:/Chamodi/Machine_Learning/Pressure_history_2/Pressure_profiles_arrival_omitted/L13_57'), WindowsPath('G:/Chamodi/Machine_Learning/Pressure_history_2/Pressure_profiles_arrival_omitted/L13_59'), WindowsPath('G:/Chamodi/Machine_Learning/Pressure_history_2/Pressure_profiles_arrival_omitted/L13_61'), WindowsPath('G:/Chamodi/Machine_Learning/Pressure_history_2/Pressure_profiles_arrival_omitted/L13_63'), WindowsPath('G:/Chamodi/Machine_Learning/Pressure_history_2/Pressure_profiles_arrival_omitted/L13_65'), WindowsPath('G:/Chamodi/Machine_Learning/Pressure_history_2/Pressure_profiles_arrival_omitted/L13_67'), WindowsPath('G:/Chamodi/Machine_Learning/Pressure_history_2/Pressure_profiles_arrival_omitted/L13_69'), WindowsPath('G:/Chamodi/Machine_Learning/Pressure_history_2/Pressure_profiles_arrival_omitted/L13_7'), WindowsPath('G:/Chamodi/Machine_Learning/Pressure_history_2/Pressure_profiles_arrival_omitted/L13_70'), WindowsPath('G:/Chamodi/Machine_Learning/Pressure_history_2/Pressure_profiles_arrival_omitted/L13_9')]\n"
     ]
    }
   ],
   "source": [
    "#Access input folder\n",
    "current_dir = Path.cwd()\n",
    "parent_dir = current_dir.parent\n",
    "input_dir1 = Path (parent_dir/\"Pressure_profiles_arrival_omitted\")\n",
    "print (\"input\",input_dir1)\n",
    "\n",
    "#Access folders inside input folder\n",
    "input_dir2_train =  [folder_input for folder_input in input_dir1.iterdir() if folder_input.is_dir()]\n",
    "print (\"2\",input_dir2_train)"
   ]
  },
  {
   "cell_type": "code",
   "execution_count": 4,
   "metadata": {
    "ExecuteTime": {
     "end_time": "2023-10-05T02:22:32.377127800Z",
     "start_time": "2023-10-05T02:21:46.629651700Z"
    }
   },
   "outputs": [
    {
     "name": "stdout",
     "output_type": "stream",
     "text": [
      "folder G:\\Chamodi\\Machine_Learning\\Pressure_history_2\\Pressure_profiles_arrival_omitted\\L13_1\n",
      "P1\n",
      "P13\n",
      "P5\n",
      "P9\n",
      "folder G:\\Chamodi\\Machine_Learning\\Pressure_history_2\\Pressure_profiles_arrival_omitted\\L13_11\n",
      "P1\n",
      "P13\n",
      "P5\n",
      "P9\n",
      "folder G:\\Chamodi\\Machine_Learning\\Pressure_history_2\\Pressure_profiles_arrival_omitted\\L13_13\n",
      "P1\n",
      "P13\n",
      "P5\n",
      "P9\n",
      "folder G:\\Chamodi\\Machine_Learning\\Pressure_history_2\\Pressure_profiles_arrival_omitted\\L13_15\n",
      "P1\n",
      "P13\n",
      "P5\n",
      "P9\n",
      "folder G:\\Chamodi\\Machine_Learning\\Pressure_history_2\\Pressure_profiles_arrival_omitted\\L13_17\n",
      "P1\n",
      "P13\n",
      "P5\n",
      "P9\n",
      "folder G:\\Chamodi\\Machine_Learning\\Pressure_history_2\\Pressure_profiles_arrival_omitted\\L13_19\n",
      "P1\n",
      "P13\n",
      "P5\n",
      "P9\n",
      "folder G:\\Chamodi\\Machine_Learning\\Pressure_history_2\\Pressure_profiles_arrival_omitted\\L13_21\n",
      "P1\n",
      "P13\n",
      "P5\n",
      "P9\n",
      "folder G:\\Chamodi\\Machine_Learning\\Pressure_history_2\\Pressure_profiles_arrival_omitted\\L13_23\n",
      "P1\n",
      "P13\n",
      "P5\n",
      "P9\n",
      "folder G:\\Chamodi\\Machine_Learning\\Pressure_history_2\\Pressure_profiles_arrival_omitted\\L13_25\n",
      "P1\n",
      "P13\n",
      "P5\n",
      "P9\n",
      "folder G:\\Chamodi\\Machine_Learning\\Pressure_history_2\\Pressure_profiles_arrival_omitted\\L13_27\n",
      "P1\n",
      "P13\n",
      "P5\n",
      "P9\n",
      "folder G:\\Chamodi\\Machine_Learning\\Pressure_history_2\\Pressure_profiles_arrival_omitted\\L13_29\n",
      "P1\n",
      "P13\n",
      "P5\n",
      "P9\n",
      "folder G:\\Chamodi\\Machine_Learning\\Pressure_history_2\\Pressure_profiles_arrival_omitted\\L13_3\n",
      "P1\n",
      "P13\n",
      "P5\n",
      "P9\n",
      "folder G:\\Chamodi\\Machine_Learning\\Pressure_history_2\\Pressure_profiles_arrival_omitted\\L13_31\n",
      "P1\n",
      "P13\n",
      "P5\n",
      "P9\n",
      "folder G:\\Chamodi\\Machine_Learning\\Pressure_history_2\\Pressure_profiles_arrival_omitted\\L13_33\n",
      "P1\n",
      "P13\n",
      "P5\n",
      "P9\n",
      "folder G:\\Chamodi\\Machine_Learning\\Pressure_history_2\\Pressure_profiles_arrival_omitted\\L13_35\n",
      "P1\n",
      "P13\n",
      "P5\n",
      "P9\n",
      "folder G:\\Chamodi\\Machine_Learning\\Pressure_history_2\\Pressure_profiles_arrival_omitted\\L13_37\n",
      "P1\n",
      "P13\n",
      "P5\n",
      "P9\n",
      "folder G:\\Chamodi\\Machine_Learning\\Pressure_history_2\\Pressure_profiles_arrival_omitted\\L13_39\n",
      "P1\n",
      "P13\n",
      "P5\n",
      "P9\n",
      "folder G:\\Chamodi\\Machine_Learning\\Pressure_history_2\\Pressure_profiles_arrival_omitted\\L13_41\n",
      "P1\n",
      "P13\n",
      "P5\n",
      "P9\n",
      "folder G:\\Chamodi\\Machine_Learning\\Pressure_history_2\\Pressure_profiles_arrival_omitted\\L13_43\n",
      "P1\n",
      "P13\n",
      "P5\n",
      "P9\n",
      "folder G:\\Chamodi\\Machine_Learning\\Pressure_history_2\\Pressure_profiles_arrival_omitted\\L13_45\n",
      "P1\n",
      "P13\n",
      "P5\n",
      "P9\n",
      "folder G:\\Chamodi\\Machine_Learning\\Pressure_history_2\\Pressure_profiles_arrival_omitted\\L13_47\n",
      "P1\n",
      "P13\n",
      "P5\n",
      "P9\n",
      "folder G:\\Chamodi\\Machine_Learning\\Pressure_history_2\\Pressure_profiles_arrival_omitted\\L13_49\n",
      "P1\n",
      "P13\n",
      "P5\n",
      "P9\n",
      "folder G:\\Chamodi\\Machine_Learning\\Pressure_history_2\\Pressure_profiles_arrival_omitted\\L13_5\n",
      "P1\n",
      "P13\n",
      "P5\n",
      "P9\n",
      "folder G:\\Chamodi\\Machine_Learning\\Pressure_history_2\\Pressure_profiles_arrival_omitted\\L13_51\n",
      "P1\n",
      "P13\n",
      "P5\n",
      "P9\n",
      "folder G:\\Chamodi\\Machine_Learning\\Pressure_history_2\\Pressure_profiles_arrival_omitted\\L13_53\n",
      "P1\n",
      "P13\n",
      "P5\n",
      "P9\n",
      "folder G:\\Chamodi\\Machine_Learning\\Pressure_history_2\\Pressure_profiles_arrival_omitted\\L13_55\n",
      "P1\n",
      "P13\n",
      "P5\n",
      "P9\n",
      "folder G:\\Chamodi\\Machine_Learning\\Pressure_history_2\\Pressure_profiles_arrival_omitted\\L13_57\n",
      "P1\n",
      "P13\n",
      "P5\n",
      "P9\n",
      "folder G:\\Chamodi\\Machine_Learning\\Pressure_history_2\\Pressure_profiles_arrival_omitted\\L13_59\n",
      "P1\n",
      "P13\n",
      "P5\n",
      "P9\n",
      "folder G:\\Chamodi\\Machine_Learning\\Pressure_history_2\\Pressure_profiles_arrival_omitted\\L13_61\n",
      "P1\n",
      "P13\n",
      "P5\n",
      "P9\n",
      "folder G:\\Chamodi\\Machine_Learning\\Pressure_history_2\\Pressure_profiles_arrival_omitted\\L13_63\n",
      "P1\n",
      "P13\n",
      "P5\n",
      "P9\n",
      "folder G:\\Chamodi\\Machine_Learning\\Pressure_history_2\\Pressure_profiles_arrival_omitted\\L13_65\n",
      "P1\n",
      "P13\n",
      "P5\n",
      "P9\n",
      "folder G:\\Chamodi\\Machine_Learning\\Pressure_history_2\\Pressure_profiles_arrival_omitted\\L13_67\n",
      "P1\n",
      "P13\n",
      "P5\n",
      "P9\n",
      "folder G:\\Chamodi\\Machine_Learning\\Pressure_history_2\\Pressure_profiles_arrival_omitted\\L13_69\n",
      "P1\n",
      "P13\n",
      "P5\n",
      "P9\n",
      "folder G:\\Chamodi\\Machine_Learning\\Pressure_history_2\\Pressure_profiles_arrival_omitted\\L13_7\n",
      "P1\n",
      "P13\n",
      "P5\n",
      "P9\n",
      "folder G:\\Chamodi\\Machine_Learning\\Pressure_history_2\\Pressure_profiles_arrival_omitted\\L13_70\n",
      "P1\n",
      "P13\n",
      "P5\n",
      "P9\n",
      "folder G:\\Chamodi\\Machine_Learning\\Pressure_history_2\\Pressure_profiles_arrival_omitted\\L13_9\n",
      "P1\n",
      "P13\n",
      "P5\n",
      "P9\n"
     ]
    }
   ],
   "source": [
    "# Access each folder inside input folder\n",
    "dataset_train = pd.DataFrame(columns = ['Charge_mass', 'Standoff_distance', 'Time', 'Pressure', 'Phase'])\n",
    "df_list_train = []\n",
    "for folder_train in input_dir2_train:\n",
    "    \n",
    "    # Make a list of data file names\n",
    "    files_train = list(file_train for file_train in folder_train.rglob(\"*.xlsx\") if int(file_train.stem[1:]) < 14)\n",
    "    print (\"folder\", folder_train)\n",
    "    \n",
    "    for file_train in files_train:\n",
    "        df_list_train.append(pd.read_excel(file_train))\n",
    "        print (file_train.stem)\n",
    "\n",
    "dataset_train = pd.concat(df_list_train, ignore_index = True)"
   ]
  },
  {
   "cell_type": "code",
   "execution_count": 5,
   "metadata": {
    "colab": {},
    "colab_type": "code",
    "id": "B9CV13Co_HHM",
    "ExecuteTime": {
     "end_time": "2023-10-05T02:22:39.365456100Z",
     "start_time": "2023-10-05T02:22:39.303231700Z"
    }
   },
   "outputs": [
    {
     "name": "stdout",
     "output_type": "stream",
     "text": [
      "<class 'pandas.core.frame.DataFrame'>\n",
      "RangeIndex: 492019 entries, 0 to 492018\n",
      "Data columns (total 5 columns):\n",
      " #   Column             Non-Null Count   Dtype  \n",
      "---  ------             --------------   -----  \n",
      " 0   Charge_mass        492019 non-null  float64\n",
      " 1   Standoff_distance  492019 non-null  int64  \n",
      " 2   Time               492019 non-null  float64\n",
      " 3   Pressure           492019 non-null  float64\n",
      " 4   Phase              492019 non-null  object \n",
      "dtypes: float64(3), int64(1), object(1)\n",
      "memory usage: 18.8+ MB\n"
     ]
    }
   ],
   "source": [
    "dataset_train.info()"
   ]
  },
  {
   "cell_type": "code",
   "execution_count": 6,
   "outputs": [
    {
     "name": "stdout",
     "output_type": "stream",
     "text": [
      "<class 'pandas.core.frame.DataFrame'>\n",
      "RangeIndex: 492019 entries, 0 to 492018\n",
      "Data columns (total 6 columns):\n",
      " #   Column             Non-Null Count   Dtype  \n",
      "---  ------             --------------   -----  \n",
      " 0   Charge_mass        492019 non-null  float64\n",
      " 1   Standoff_distance  492019 non-null  int64  \n",
      " 2   Time               492019 non-null  float64\n",
      " 3   Pressure           492019 non-null  float64\n",
      " 4   Phase_negative     492019 non-null  uint8  \n",
      " 5   Phase_positive     492019 non-null  uint8  \n",
      "dtypes: float64(3), int64(1), uint8(2)\n",
      "memory usage: 16.0 MB\n"
     ]
    }
   ],
   "source": [
    "dataset_train = pd.get_dummies(dataset_train, columns =['Phase'], dtype = np.uint8)\n",
    "dataset_train.info()"
   ],
   "metadata": {
    "collapsed": false,
    "ExecuteTime": {
     "end_time": "2023-10-05T02:22:41.690197800Z",
     "start_time": "2023-10-05T02:22:41.615651400Z"
    }
   }
  },
  {
   "cell_type": "code",
   "execution_count": 7,
   "outputs": [
    {
     "data": {
      "text/plain": "    Charge_mass  Standoff_distance     Time      Pressure  Phase_negative  \\\n0           0.5                  1  0.00067  591827.62500               0   \n1           0.5                  1  0.00068  556217.18750               0   \n2           0.5                  1  0.00069  525135.00000               0   \n3           0.5                  1  0.00070  496668.90625               0   \n4           0.5                  1  0.00071  469418.40625               0   \n5           0.5                  1  0.00072  445550.09375               0   \n6           0.5                  1  0.00073  423420.03125               0   \n7           0.5                  1  0.00074  402121.96875               0   \n8           0.5                  1  0.00075  383202.34375               0   \n9           0.5                  1  0.00076  365626.65625               0   \n10          0.5                  1  0.00077  349977.50000               0   \n11          0.5                  1  0.00078  334716.18750               0   \n12          0.5                  1  0.00079  320582.50000               0   \n13          0.5                  1  0.00080  307536.68750               0   \n14          0.5                  1  0.00081  295047.87500               0   \n15          0.5                  1  0.00082  283671.71875               0   \n16          0.5                  1  0.00083  273287.31250               0   \n17          0.5                  1  0.00084  263380.59375               0   \n18          0.5                  1  0.00085  253957.70312               0   \n19          0.5                  1  0.00086  245341.54688               0   \n20          0.5                  1  0.00087  237136.67188               0   \n21          0.5                  1  0.00088  229610.26562               0   \n22          0.5                  1  0.00089  222423.93750               0   \n23          0.5                  1  0.00090  215571.06250               0   \n24          0.5                  1  0.00091  209261.32812               0   \n25          0.5                  1  0.00092  203243.39062               0   \n26          0.5                  1  0.00093  197520.82812               0   \n27          0.5                  1  0.00094  192094.54688               0   \n28          0.5                  1  0.00095  186960.62500               0   \n29          0.5                  1  0.00096  182106.14062               0   \n\n    Phase_positive  \n0                1  \n1                1  \n2                1  \n3                1  \n4                1  \n5                1  \n6                1  \n7                1  \n8                1  \n9                1  \n10               1  \n11               1  \n12               1  \n13               1  \n14               1  \n15               1  \n16               1  \n17               1  \n18               1  \n19               1  \n20               1  \n21               1  \n22               1  \n23               1  \n24               1  \n25               1  \n26               1  \n27               1  \n28               1  \n29               1  ",
      "text/html": "<div>\n<style scoped>\n    .dataframe tbody tr th:only-of-type {\n        vertical-align: middle;\n    }\n\n    .dataframe tbody tr th {\n        vertical-align: top;\n    }\n\n    .dataframe thead th {\n        text-align: right;\n    }\n</style>\n<table border=\"1\" class=\"dataframe\">\n  <thead>\n    <tr style=\"text-align: right;\">\n      <th></th>\n      <th>Charge_mass</th>\n      <th>Standoff_distance</th>\n      <th>Time</th>\n      <th>Pressure</th>\n      <th>Phase_negative</th>\n      <th>Phase_positive</th>\n    </tr>\n  </thead>\n  <tbody>\n    <tr>\n      <th>0</th>\n      <td>0.5</td>\n      <td>1</td>\n      <td>0.00067</td>\n      <td>591827.62500</td>\n      <td>0</td>\n      <td>1</td>\n    </tr>\n    <tr>\n      <th>1</th>\n      <td>0.5</td>\n      <td>1</td>\n      <td>0.00068</td>\n      <td>556217.18750</td>\n      <td>0</td>\n      <td>1</td>\n    </tr>\n    <tr>\n      <th>2</th>\n      <td>0.5</td>\n      <td>1</td>\n      <td>0.00069</td>\n      <td>525135.00000</td>\n      <td>0</td>\n      <td>1</td>\n    </tr>\n    <tr>\n      <th>3</th>\n      <td>0.5</td>\n      <td>1</td>\n      <td>0.00070</td>\n      <td>496668.90625</td>\n      <td>0</td>\n      <td>1</td>\n    </tr>\n    <tr>\n      <th>4</th>\n      <td>0.5</td>\n      <td>1</td>\n      <td>0.00071</td>\n      <td>469418.40625</td>\n      <td>0</td>\n      <td>1</td>\n    </tr>\n    <tr>\n      <th>5</th>\n      <td>0.5</td>\n      <td>1</td>\n      <td>0.00072</td>\n      <td>445550.09375</td>\n      <td>0</td>\n      <td>1</td>\n    </tr>\n    <tr>\n      <th>6</th>\n      <td>0.5</td>\n      <td>1</td>\n      <td>0.00073</td>\n      <td>423420.03125</td>\n      <td>0</td>\n      <td>1</td>\n    </tr>\n    <tr>\n      <th>7</th>\n      <td>0.5</td>\n      <td>1</td>\n      <td>0.00074</td>\n      <td>402121.96875</td>\n      <td>0</td>\n      <td>1</td>\n    </tr>\n    <tr>\n      <th>8</th>\n      <td>0.5</td>\n      <td>1</td>\n      <td>0.00075</td>\n      <td>383202.34375</td>\n      <td>0</td>\n      <td>1</td>\n    </tr>\n    <tr>\n      <th>9</th>\n      <td>0.5</td>\n      <td>1</td>\n      <td>0.00076</td>\n      <td>365626.65625</td>\n      <td>0</td>\n      <td>1</td>\n    </tr>\n    <tr>\n      <th>10</th>\n      <td>0.5</td>\n      <td>1</td>\n      <td>0.00077</td>\n      <td>349977.50000</td>\n      <td>0</td>\n      <td>1</td>\n    </tr>\n    <tr>\n      <th>11</th>\n      <td>0.5</td>\n      <td>1</td>\n      <td>0.00078</td>\n      <td>334716.18750</td>\n      <td>0</td>\n      <td>1</td>\n    </tr>\n    <tr>\n      <th>12</th>\n      <td>0.5</td>\n      <td>1</td>\n      <td>0.00079</td>\n      <td>320582.50000</td>\n      <td>0</td>\n      <td>1</td>\n    </tr>\n    <tr>\n      <th>13</th>\n      <td>0.5</td>\n      <td>1</td>\n      <td>0.00080</td>\n      <td>307536.68750</td>\n      <td>0</td>\n      <td>1</td>\n    </tr>\n    <tr>\n      <th>14</th>\n      <td>0.5</td>\n      <td>1</td>\n      <td>0.00081</td>\n      <td>295047.87500</td>\n      <td>0</td>\n      <td>1</td>\n    </tr>\n    <tr>\n      <th>15</th>\n      <td>0.5</td>\n      <td>1</td>\n      <td>0.00082</td>\n      <td>283671.71875</td>\n      <td>0</td>\n      <td>1</td>\n    </tr>\n    <tr>\n      <th>16</th>\n      <td>0.5</td>\n      <td>1</td>\n      <td>0.00083</td>\n      <td>273287.31250</td>\n      <td>0</td>\n      <td>1</td>\n    </tr>\n    <tr>\n      <th>17</th>\n      <td>0.5</td>\n      <td>1</td>\n      <td>0.00084</td>\n      <td>263380.59375</td>\n      <td>0</td>\n      <td>1</td>\n    </tr>\n    <tr>\n      <th>18</th>\n      <td>0.5</td>\n      <td>1</td>\n      <td>0.00085</td>\n      <td>253957.70312</td>\n      <td>0</td>\n      <td>1</td>\n    </tr>\n    <tr>\n      <th>19</th>\n      <td>0.5</td>\n      <td>1</td>\n      <td>0.00086</td>\n      <td>245341.54688</td>\n      <td>0</td>\n      <td>1</td>\n    </tr>\n    <tr>\n      <th>20</th>\n      <td>0.5</td>\n      <td>1</td>\n      <td>0.00087</td>\n      <td>237136.67188</td>\n      <td>0</td>\n      <td>1</td>\n    </tr>\n    <tr>\n      <th>21</th>\n      <td>0.5</td>\n      <td>1</td>\n      <td>0.00088</td>\n      <td>229610.26562</td>\n      <td>0</td>\n      <td>1</td>\n    </tr>\n    <tr>\n      <th>22</th>\n      <td>0.5</td>\n      <td>1</td>\n      <td>0.00089</td>\n      <td>222423.93750</td>\n      <td>0</td>\n      <td>1</td>\n    </tr>\n    <tr>\n      <th>23</th>\n      <td>0.5</td>\n      <td>1</td>\n      <td>0.00090</td>\n      <td>215571.06250</td>\n      <td>0</td>\n      <td>1</td>\n    </tr>\n    <tr>\n      <th>24</th>\n      <td>0.5</td>\n      <td>1</td>\n      <td>0.00091</td>\n      <td>209261.32812</td>\n      <td>0</td>\n      <td>1</td>\n    </tr>\n    <tr>\n      <th>25</th>\n      <td>0.5</td>\n      <td>1</td>\n      <td>0.00092</td>\n      <td>203243.39062</td>\n      <td>0</td>\n      <td>1</td>\n    </tr>\n    <tr>\n      <th>26</th>\n      <td>0.5</td>\n      <td>1</td>\n      <td>0.00093</td>\n      <td>197520.82812</td>\n      <td>0</td>\n      <td>1</td>\n    </tr>\n    <tr>\n      <th>27</th>\n      <td>0.5</td>\n      <td>1</td>\n      <td>0.00094</td>\n      <td>192094.54688</td>\n      <td>0</td>\n      <td>1</td>\n    </tr>\n    <tr>\n      <th>28</th>\n      <td>0.5</td>\n      <td>1</td>\n      <td>0.00095</td>\n      <td>186960.62500</td>\n      <td>0</td>\n      <td>1</td>\n    </tr>\n    <tr>\n      <th>29</th>\n      <td>0.5</td>\n      <td>1</td>\n      <td>0.00096</td>\n      <td>182106.14062</td>\n      <td>0</td>\n      <td>1</td>\n    </tr>\n  </tbody>\n</table>\n</div>"
     },
     "execution_count": 7,
     "metadata": {},
     "output_type": "execute_result"
    }
   ],
   "source": [
    "dataset_train.head(30)"
   ],
   "metadata": {
    "collapsed": false,
    "ExecuteTime": {
     "end_time": "2023-10-05T02:22:43.692704600Z",
     "start_time": "2023-10-05T02:22:43.615735900Z"
    }
   }
  },
  {
   "cell_type": "code",
   "execution_count": 8,
   "metadata": {
    "ExecuteTime": {
     "end_time": "2023-10-05T02:22:46.459753300Z",
     "start_time": "2023-10-05T02:22:46.381655900Z"
    }
   },
   "outputs": [
    {
     "name": "stdout",
     "output_type": "stream",
     "text": [
      "(492019, 5) (492019,)\n"
     ]
    }
   ],
   "source": [
    "y = dataset_train['Pressure']\n",
    "X = dataset_train.drop(['Pressure'], axis=1)\n",
    "print(X.shape, y.shape)"
   ]
  },
  {
   "cell_type": "code",
   "execution_count": 9,
   "metadata": {
    "ExecuteTime": {
     "end_time": "2023-10-05T02:22:48.412585700Z",
     "start_time": "2023-10-05T02:22:48.342551600Z"
    }
   },
   "outputs": [],
   "source": [
    "# convert to numpy array\n",
    "X = np.array(X)\n",
    "y = np.array(y)"
   ]
  },
  {
   "cell_type": "markdown",
   "metadata": {
    "colab_type": "text",
    "id": "VC6omXel_Up0"
   },
   "source": [
    "### Splitting the dataset into the Training set and Test set"
   ]
  },
  {
   "cell_type": "code",
   "execution_count": 10,
   "metadata": {
    "colab": {},
    "colab_type": "code",
    "id": "L5edeb2r_agx",
    "ExecuteTime": {
     "end_time": "2023-10-05T02:22:53.319212100Z",
     "start_time": "2023-10-05T02:22:52.428182700Z"
    }
   },
   "outputs": [],
   "source": [
    "from sklearn.model_selection import train_test_split\n",
    "X_train, X_test, y_train, y_test = train_test_split(X,\n",
    "                                                    y,\n",
    "                                                    test_size = 0.4,\n",
    "                                                    random_state = 0)"
   ]
  },
  {
   "cell_type": "code",
   "execution_count": 11,
   "metadata": {
    "colab": {},
    "colab_type": "code",
    "id": "L5edeb2r_agx",
    "ExecuteTime": {
     "end_time": "2023-10-05T02:22:55.557891900Z",
     "start_time": "2023-10-05T02:22:55.462558300Z"
    }
   },
   "outputs": [],
   "source": [
    "X_val, X_test, y_val, y_test = train_test_split(X_test,\n",
    "                                                y_test,\n",
    "                                                test_size = 0.5,\n",
    "                                                random_state = 0)"
   ]
  },
  {
   "cell_type": "markdown",
   "source": [
    "## Feature scaling"
   ],
   "metadata": {
    "collapsed": false
   }
  },
  {
   "cell_type": "code",
   "execution_count": 12,
   "outputs": [
    {
     "name": "stdout",
     "output_type": "stream",
     "text": [
      "[[-1.11558794  0.43902902  0.40860138  1.          0.        ]\n",
      " [-1.83149237 -1.32802297 -1.10299844  1.          0.        ]\n",
      " [ 1.03212534 -0.44449698 -0.9816199   1.          0.        ]\n",
      " ...\n",
      " [ 1.33894152  0.43902902 -0.15265695  1.          0.        ]\n",
      " [ 0.6230371  -1.32802297  0.5075946   1.          0.        ]\n",
      " [-1.72922031 -0.44449698 -0.88346605  1.          0.        ]]\n"
     ]
    }
   ],
   "source": [
    "from sklearn.preprocessing import StandardScaler\n",
    "sc = StandardScaler()\n",
    "X_train[:,0:3] = sc.fit_transform(X_train[:, 0:3])\n",
    "print (X_train)"
   ],
   "metadata": {
    "collapsed": false,
    "ExecuteTime": {
     "end_time": "2023-10-05T02:22:58.647553Z",
     "start_time": "2023-10-05T02:22:58.584866500Z"
    }
   }
  },
  {
   "cell_type": "code",
   "execution_count": 13,
   "outputs": [
    {
     "name": "stdout",
     "output_type": "stream",
     "text": [
      "[[ 0.92985328 -0.44449698 -1.49808719  1.          0.        ]\n",
      " [-0.39968351  0.43902902 -1.30699156  0.          1.        ]\n",
      " [-1.01331588  0.43902902  0.31822281  1.          0.        ]\n",
      " ...\n",
      " [-0.39968351  1.32255501  0.65650805  1.          0.        ]\n",
      " [ 0.31622091  0.43902902  1.37959509  1.          0.        ]\n",
      " [-0.29741145 -1.32802297 -1.46796614  1.          0.        ]]\n"
     ]
    }
   ],
   "source": [
    "X_test[:,0:3] = sc.transform(X_test[:,0:3])\n",
    "print (X_test)"
   ],
   "metadata": {
    "collapsed": false,
    "ExecuteTime": {
     "end_time": "2023-10-05T02:23:00.563273900Z",
     "start_time": "2023-10-05T02:23:00.510414400Z"
    }
   }
  },
  {
   "cell_type": "code",
   "execution_count": 14,
   "outputs": [
    {
     "name": "stdout",
     "output_type": "stream",
     "text": [
      "[[-0.29741145 -1.32802297 -0.07001311  1.          0.        ]\n",
      " [-0.7064997   0.43902902 -0.26110084  1.          0.        ]\n",
      " [-1.11558794  0.43902902 -0.72422921  1.          0.        ]\n",
      " ...\n",
      " [-0.91104382 -0.44449698 -0.03128483  1.          0.        ]\n",
      " [-1.52467619 -0.44449698  0.09009324  1.          0.        ]\n",
      " [ 1.44121358  1.32255501  1.56811516  1.          0.        ]]\n"
     ]
    }
   ],
   "source": [
    "X_val[:,0:3] = sc.transform(X_val[:,0:3])\n",
    "print (X_val)"
   ],
   "metadata": {
    "collapsed": false,
    "ExecuteTime": {
     "end_time": "2023-10-05T02:23:02.612920800Z",
     "start_time": "2023-10-05T02:23:02.553449700Z"
    }
   }
  },
  {
   "cell_type": "code",
   "execution_count": 15,
   "outputs": [
    {
     "name": "stdout",
     "output_type": "stream",
     "text": [
      "X_train 295211\n",
      "X_test 98404\n",
      "X_val 98404\n"
     ]
    }
   ],
   "source": [
    "print (\"X_train\", len(X_train))\n",
    "print (\"X_test\", len(X_test))\n",
    "print (\"X_val\", len(X_val))"
   ],
   "metadata": {
    "collapsed": false,
    "ExecuteTime": {
     "end_time": "2023-10-05T02:23:04.434902100Z",
     "start_time": "2023-10-05T02:23:04.371415800Z"
    }
   }
  },
  {
   "cell_type": "markdown",
   "metadata": {
    "colab_type": "text",
    "id": "_mSLlAT9_eyI"
   },
   "source": [
    "## Part 3 - Building the ANN"
   ]
  },
  {
   "cell_type": "markdown",
   "metadata": {
    "colab_type": "text",
    "id": "CsBULd_f_wLY"
   },
   "source": [
    "### Initializing the ANN"
   ]
  },
  {
   "cell_type": "code",
   "execution_count": 16,
   "metadata": {
    "colab": {},
    "colab_type": "code",
    "id": "J6Hd97Ls__Nz",
    "ExecuteTime": {
     "end_time": "2023-10-05T02:23:19.580424500Z",
     "start_time": "2023-10-05T02:23:19.522395100Z"
    }
   },
   "outputs": [],
   "source": [
    "ann = tf.keras.models.Sequential()"
   ]
  },
  {
   "cell_type": "markdown",
   "metadata": {
    "colab_type": "text",
    "id": "iitAFJS_ABUn"
   },
   "source": [
    "### Adding the input layer and the first hidden layer"
   ]
  },
  {
   "cell_type": "code",
   "execution_count": 17,
   "metadata": {
    "colab": {},
    "colab_type": "code",
    "id": "ksO_Vv40AHix",
    "ExecuteTime": {
     "end_time": "2023-10-05T02:23:22.991506100Z",
     "start_time": "2023-10-05T02:23:22.944599300Z"
    }
   },
   "outputs": [],
   "source": [
    "ann.add(tf.keras.layers.Dense(units=150,\n",
    "                              input_shape=(X_train.shape[1],),\n",
    "                              activation='softplus'))"
   ]
  },
  {
   "cell_type": "markdown",
   "metadata": {
    "colab_type": "text",
    "id": "-lb4kK_wAKbs"
   },
   "source": [
    "### Adding the second hidden layer"
   ]
  },
  {
   "cell_type": "code",
   "execution_count": 18,
   "metadata": {
    "colab": {},
    "colab_type": "code",
    "id": "c2357OqEAQOQ",
    "tags": [],
    "ExecuteTime": {
     "end_time": "2023-10-05T02:23:25.163104700Z",
     "start_time": "2023-10-05T02:23:25.116273200Z"
    }
   },
   "outputs": [],
   "source": [
    "ann.add(tf.keras.layers.Dense(units=125,\n",
    "                              activation='softplus'))"
   ]
  },
  {
   "cell_type": "markdown",
   "metadata": {
    "colab_type": "text",
    "id": "-lb4kK_wAKbs"
   },
   "source": [
    "### Adding the third hidden layer"
   ]
  },
  {
   "cell_type": "code",
   "execution_count": 19,
   "metadata": {
    "colab": {},
    "colab_type": "code",
    "id": "c2357OqEAQOQ",
    "tags": [],
    "ExecuteTime": {
     "end_time": "2023-10-05T02:23:27.125906800Z",
     "start_time": "2023-10-05T02:23:27.061985500Z"
    }
   },
   "outputs": [],
   "source": [
    "ann.add(tf.keras.layers.Dense(units=100,\n",
    "                              activation='softplus'))"
   ]
  },
  {
   "cell_type": "markdown",
   "source": [
    "### Adding the fourth hidden layer"
   ],
   "metadata": {
    "collapsed": false
   }
  },
  {
   "cell_type": "code",
   "execution_count": 20,
   "outputs": [],
   "source": [
    "ann.add(tf.keras.layers.Dense(units=75,\n",
    "                              activation='softplus'))"
   ],
   "metadata": {
    "collapsed": false,
    "ExecuteTime": {
     "end_time": "2023-10-05T02:23:29.288358400Z",
     "start_time": "2023-10-05T02:23:29.241394900Z"
    }
   }
  },
  {
   "cell_type": "markdown",
   "metadata": {
    "colab_type": "text",
    "id": "jwMOmKb3AdBY"
   },
   "source": [
    "### Adding the output layer"
   ]
  },
  {
   "cell_type": "code",
   "execution_count": 21,
   "metadata": {
    "colab": {},
    "colab_type": "code",
    "id": "YFATpzsUAkLL",
    "ExecuteTime": {
     "end_time": "2023-10-05T02:23:31.827062200Z",
     "start_time": "2023-10-05T02:23:31.772785700Z"
    }
   },
   "outputs": [],
   "source": [
    "ann.add(tf.keras.layers.Dense(units=1,\n",
    "                              activation='linear'))"
   ]
  },
  {
   "cell_type": "markdown",
   "metadata": {},
   "source": [
    "### what model looks like"
   ]
  },
  {
   "cell_type": "code",
   "execution_count": 22,
   "metadata": {
    "ExecuteTime": {
     "end_time": "2023-10-05T02:23:33.507366800Z",
     "start_time": "2023-10-05T02:23:33.414703200Z"
    }
   },
   "outputs": [
    {
     "name": "stdout",
     "output_type": "stream",
     "text": [
      "Model: \"sequential\"\n",
      "_________________________________________________________________\n",
      " Layer (type)                Output Shape              Param #   \n",
      "=================================================================\n",
      " dense (Dense)               (None, 150)               900       \n",
      "                                                                 \n",
      " dense_1 (Dense)             (None, 125)               18875     \n",
      "                                                                 \n",
      " dense_2 (Dense)             (None, 100)               12600     \n",
      "                                                                 \n",
      " dense_3 (Dense)             (None, 75)                7575      \n",
      "                                                                 \n",
      " dense_4 (Dense)             (None, 1)                 76        \n",
      "                                                                 \n",
      "=================================================================\n",
      "Total params: 40,026\n",
      "Trainable params: 40,026\n",
      "Non-trainable params: 0\n",
      "_________________________________________________________________\n"
     ]
    }
   ],
   "source": [
    "ann.summary()"
   ]
  },
  {
   "cell_type": "markdown",
   "metadata": {
    "colab_type": "text",
    "id": "fq7e4fF6A1yy"
   },
   "source": [
    "## Part 4 - Training the ANN"
   ]
  },
  {
   "cell_type": "markdown",
   "metadata": {
    "colab_type": "text",
    "id": "qDeylAs2An25"
   },
   "source": [
    "### Compiling the ANN"
   ]
  },
  {
   "cell_type": "code",
   "execution_count": 23,
   "metadata": {
    "colab": {},
    "colab_type": "code",
    "id": "pesgbWlCAtB4",
    "ExecuteTime": {
     "end_time": "2023-10-05T02:23:42.856993800Z",
     "start_time": "2023-10-05T02:23:42.762102100Z"
    }
   },
   "outputs": [],
   "source": [
    "# from tensorflow.keras.optimizers import Adam\n",
    "from keras.optimizers import Adam\n",
    "opt = Adam(learning_rate=0.001)\n",
    "ann.compile(optimizer = opt,\n",
    "            loss = 'mean_squared_error',\n",
    "            metrics = ['mae'])"
   ]
  },
  {
   "cell_type": "markdown",
   "metadata": {},
   "source": [
    "### early stopping callback"
   ]
  },
  {
   "cell_type": "code",
   "execution_count": 24,
   "metadata": {
    "ExecuteTime": {
     "end_time": "2023-10-05T02:23:47.179208800Z",
     "start_time": "2023-10-05T02:23:47.127806800Z"
    }
   },
   "outputs": [],
   "source": [
    "# protects from unnecessary further training of the model if a particular metric does not continue to improve over a number of n epochs. In such a case, the model training would be automatically aborted.\n",
    "from keras.callbacks import EarlyStopping\n",
    "es = EarlyStopping(monitor='val_loss',\n",
    "                   mode='min',\n",
    "                   patience=50,\n",
    "                   restore_best_weights = True)"
   ]
  },
  {
   "cell_type": "markdown",
   "metadata": {
    "colab_type": "text",
    "id": "YjVuiybYOo7r"
   },
   "source": [
    "### Training the ANN model on the Training set"
   ]
  },
  {
   "cell_type": "code",
   "execution_count": 25,
   "metadata": {
    "colab": {
     "base_uri": "https://localhost:8080/",
     "height": 1000
    },
    "colab_type": "code",
    "id": "c_vV-tiiA5zn",
    "outputId": "4a2b6ee6-ed75-4698-9069-b250e613803f",
    "ExecuteTime": {
     "end_time": "2023-10-05T06:39:11.747492200Z",
     "start_time": "2023-10-05T02:23:49.170742200Z"
    }
   },
   "outputs": [
    {
     "name": "stdout",
     "output_type": "stream",
     "text": [
      "Epoch 1/500\n",
      "29522/29522 [==============================] - 93s 3ms/step - loss: 8181065728.0000 - mae: 17284.1074 - val_loss: 8852629504.0000 - val_mae: 17815.0801\n",
      "Epoch 2/500\n",
      "29522/29522 [==============================] - 90s 3ms/step - loss: 7598713856.0000 - mae: 16203.9170 - val_loss: 8411804160.0000 - val_mae: 14586.4355\n",
      "Epoch 3/500\n",
      "29522/29522 [==============================] - 89s 3ms/step - loss: 7134627840.0000 - mae: 14812.5547 - val_loss: 7843801600.0000 - val_mae: 13752.7979\n",
      "Epoch 4/500\n",
      "29522/29522 [==============================] - 90s 3ms/step - loss: 6977830912.0000 - mae: 14041.2715 - val_loss: 7688870400.0000 - val_mae: 13142.3975\n",
      "Epoch 5/500\n",
      "29522/29522 [==============================] - 90s 3ms/step - loss: 6924649472.0000 - mae: 13909.6602 - val_loss: 7717754880.0000 - val_mae: 12960.6943\n",
      "Epoch 6/500\n",
      "29522/29522 [==============================] - 89s 3ms/step - loss: 6773689856.0000 - mae: 13561.4199 - val_loss: 7305126400.0000 - val_mae: 12718.3018\n",
      "Epoch 7/500\n",
      "29522/29522 [==============================] - 90s 3ms/step - loss: 6615596032.0000 - mae: 13134.9580 - val_loss: 7035452928.0000 - val_mae: 12737.7939\n",
      "Epoch 8/500\n",
      "29522/29522 [==============================] - 91s 3ms/step - loss: 6345738240.0000 - mae: 12642.6699 - val_loss: 7122548224.0000 - val_mae: 11511.0439\n",
      "Epoch 9/500\n",
      "29522/29522 [==============================] - 91s 3ms/step - loss: 6153695232.0000 - mae: 12358.9355 - val_loss: 6823538176.0000 - val_mae: 12971.6875\n",
      "Epoch 10/500\n",
      "29522/29522 [==============================] - 90s 3ms/step - loss: 6180751360.0000 - mae: 12025.9746 - val_loss: 6938265600.0000 - val_mae: 11128.5469\n",
      "Epoch 11/500\n",
      "29522/29522 [==============================] - 90s 3ms/step - loss: 6092350976.0000 - mae: 11826.7842 - val_loss: 6780834816.0000 - val_mae: 11790.6035\n",
      "Epoch 12/500\n",
      "29522/29522 [==============================] - 90s 3ms/step - loss: 6057124352.0000 - mae: 11645.9482 - val_loss: 6929788928.0000 - val_mae: 11394.0859\n",
      "Epoch 13/500\n",
      "29522/29522 [==============================] - 91s 3ms/step - loss: 6042763776.0000 - mae: 11225.6221 - val_loss: 6441830400.0000 - val_mae: 10853.3398\n",
      "Epoch 14/500\n",
      "29522/29522 [==============================] - 89s 3ms/step - loss: 5918821888.0000 - mae: 9904.1992 - val_loss: 6564096512.0000 - val_mae: 8899.0332\n",
      "Epoch 15/500\n",
      "29522/29522 [==============================] - 90s 3ms/step - loss: 5841123328.0000 - mae: 9448.8330 - val_loss: 6471757312.0000 - val_mae: 8663.2441\n",
      "Epoch 16/500\n",
      "29522/29522 [==============================] - 91s 3ms/step - loss: 5865137664.0000 - mae: 8963.1006 - val_loss: 6179350016.0000 - val_mae: 8389.0322\n",
      "Epoch 17/500\n",
      "29522/29522 [==============================] - 91s 3ms/step - loss: 5746291712.0000 - mae: 8693.4521 - val_loss: 7028648448.0000 - val_mae: 9630.8564\n",
      "Epoch 18/500\n",
      "29522/29522 [==============================] - 92s 3ms/step - loss: 5734382080.0000 - mae: 8394.8750 - val_loss: 6248921600.0000 - val_mae: 7995.9429\n",
      "Epoch 19/500\n",
      "29522/29522 [==============================] - 91s 3ms/step - loss: 5762637312.0000 - mae: 8234.1504 - val_loss: 6319307776.0000 - val_mae: 7348.9937\n",
      "Epoch 20/500\n",
      "29522/29522 [==============================] - 90s 3ms/step - loss: 5735230976.0000 - mae: 7959.4868 - val_loss: 6260589056.0000 - val_mae: 7193.7544\n",
      "Epoch 21/500\n",
      "29522/29522 [==============================] - 90s 3ms/step - loss: 5742694400.0000 - mae: 7871.5679 - val_loss: 6565946880.0000 - val_mae: 7377.2734\n",
      "Epoch 22/500\n",
      "29522/29522 [==============================] - 90s 3ms/step - loss: 5732344320.0000 - mae: 7831.3940 - val_loss: 6143552512.0000 - val_mae: 8170.4209\n",
      "Epoch 23/500\n",
      "29522/29522 [==============================] - 91s 3ms/step - loss: 5692112896.0000 - mae: 7701.4688 - val_loss: 6339723776.0000 - val_mae: 8303.3506\n",
      "Epoch 24/500\n",
      "29522/29522 [==============================] - 91s 3ms/step - loss: 5683376640.0000 - mae: 7583.4736 - val_loss: 6010721280.0000 - val_mae: 7157.8770\n",
      "Epoch 25/500\n",
      "29522/29522 [==============================] - 90s 3ms/step - loss: 5576996864.0000 - mae: 7542.8057 - val_loss: 6123722752.0000 - val_mae: 6702.3174\n",
      "Epoch 26/500\n",
      "29522/29522 [==============================] - 90s 3ms/step - loss: 5632391680.0000 - mae: 7453.1440 - val_loss: 6456048640.0000 - val_mae: 6599.2686\n",
      "Epoch 27/500\n",
      "29522/29522 [==============================] - 91s 3ms/step - loss: 5634618368.0000 - mae: 7382.1978 - val_loss: 6241957888.0000 - val_mae: 7321.2612\n",
      "Epoch 28/500\n",
      "29522/29522 [==============================] - 92s 3ms/step - loss: 5628871680.0000 - mae: 7176.5942 - val_loss: 6411187200.0000 - val_mae: 6607.5850\n",
      "Epoch 29/500\n",
      "29522/29522 [==============================] - 91s 3ms/step - loss: 5601228288.0000 - mae: 7021.1821 - val_loss: 6674487296.0000 - val_mae: 6336.6270\n",
      "Epoch 30/500\n",
      "29522/29522 [==============================] - 91s 3ms/step - loss: 5521558528.0000 - mae: 6927.6797 - val_loss: 5939220480.0000 - val_mae: 6779.0156\n",
      "Epoch 31/500\n",
      "29522/29522 [==============================] - 91s 3ms/step - loss: 5508355584.0000 - mae: 6815.6240 - val_loss: 6111665664.0000 - val_mae: 6783.2915\n",
      "Epoch 32/500\n",
      "29522/29522 [==============================] - 91s 3ms/step - loss: 5522841088.0000 - mae: 6781.9839 - val_loss: 6273710592.0000 - val_mae: 7043.1743\n",
      "Epoch 33/500\n",
      "29522/29522 [==============================] - 92s 3ms/step - loss: 5563456512.0000 - mae: 6565.0532 - val_loss: 6269107200.0000 - val_mae: 6908.2173\n",
      "Epoch 34/500\n",
      "29522/29522 [==============================] - 91s 3ms/step - loss: 5518786048.0000 - mae: 6640.9453 - val_loss: 6135836672.0000 - val_mae: 5922.5527\n",
      "Epoch 35/500\n",
      "29522/29522 [==============================] - 97s 3ms/step - loss: 5424484352.0000 - mae: 6428.7300 - val_loss: 5933029376.0000 - val_mae: 6570.1265\n",
      "Epoch 36/500\n",
      "29522/29522 [==============================] - 92s 3ms/step - loss: 5418373632.0000 - mae: 6527.6304 - val_loss: 5997427712.0000 - val_mae: 6219.0527\n",
      "Epoch 37/500\n",
      "29522/29522 [==============================] - 92s 3ms/step - loss: 5517804032.0000 - mae: 6673.3149 - val_loss: 5884565504.0000 - val_mae: 6019.8276\n",
      "Epoch 38/500\n",
      "29522/29522 [==============================] - 95s 3ms/step - loss: 5489630208.0000 - mae: 6664.1182 - val_loss: 6042547712.0000 - val_mae: 6020.1187\n",
      "Epoch 39/500\n",
      "29522/29522 [==============================] - 93s 3ms/step - loss: 5368402432.0000 - mae: 6511.5479 - val_loss: 6492051968.0000 - val_mae: 6067.6123\n",
      "Epoch 40/500\n",
      "29522/29522 [==============================] - 94s 3ms/step - loss: 5392614912.0000 - mae: 6459.8901 - val_loss: 6050930176.0000 - val_mae: 6154.1396\n",
      "Epoch 41/500\n",
      "29522/29522 [==============================] - 93s 3ms/step - loss: 5364308992.0000 - mae: 6530.4761 - val_loss: 6643220480.0000 - val_mae: 6348.8481\n",
      "Epoch 42/500\n",
      "29522/29522 [==============================] - 93s 3ms/step - loss: 5402624000.0000 - mae: 6330.5576 - val_loss: 5863107584.0000 - val_mae: 5512.9185\n",
      "Epoch 43/500\n",
      "29522/29522 [==============================] - 93s 3ms/step - loss: 5380897280.0000 - mae: 6315.4189 - val_loss: 6260075520.0000 - val_mae: 8686.3672\n",
      "Epoch 44/500\n",
      "29522/29522 [==============================] - 92s 3ms/step - loss: 5325724160.0000 - mae: 6182.2969 - val_loss: 5943814656.0000 - val_mae: 6038.5566\n",
      "Epoch 45/500\n",
      "29522/29522 [==============================] - 93s 3ms/step - loss: 5451378688.0000 - mae: 6074.4727 - val_loss: 6532411904.0000 - val_mae: 5790.2832\n",
      "Epoch 46/500\n",
      "29522/29522 [==============================] - 93s 3ms/step - loss: 5413966848.0000 - mae: 6244.1694 - val_loss: 6352056832.0000 - val_mae: 6156.5112\n",
      "Epoch 47/500\n",
      "29522/29522 [==============================] - 95s 3ms/step - loss: 5334400512.0000 - mae: 6302.3062 - val_loss: 6101248512.0000 - val_mae: 5130.6323\n",
      "Epoch 48/500\n",
      "29522/29522 [==============================] - 92s 3ms/step - loss: 5482550272.0000 - mae: 6226.6562 - val_loss: 5735240704.0000 - val_mae: 6003.4702\n",
      "Epoch 49/500\n",
      "29522/29522 [==============================] - 93s 3ms/step - loss: 5391706624.0000 - mae: 6076.2021 - val_loss: 6319205376.0000 - val_mae: 6249.7480\n",
      "Epoch 50/500\n",
      "29522/29522 [==============================] - 93s 3ms/step - loss: 5399482880.0000 - mae: 5984.8916 - val_loss: 5879518208.0000 - val_mae: 5256.4136\n",
      "Epoch 51/500\n",
      "29522/29522 [==============================] - 92s 3ms/step - loss: 5432689152.0000 - mae: 6039.8926 - val_loss: 5755470848.0000 - val_mae: 5645.4038\n",
      "Epoch 52/500\n",
      "29522/29522 [==============================] - 91s 3ms/step - loss: 5400361984.0000 - mae: 5798.7300 - val_loss: 6050081792.0000 - val_mae: 7255.4468\n",
      "Epoch 53/500\n",
      "29522/29522 [==============================] - 91s 3ms/step - loss: 5404714496.0000 - mae: 6014.3633 - val_loss: 6205232128.0000 - val_mae: 4851.9839\n",
      "Epoch 54/500\n",
      "29522/29522 [==============================] - 92s 3ms/step - loss: 5323026944.0000 - mae: 5965.7969 - val_loss: 5980220416.0000 - val_mae: 5821.8350\n",
      "Epoch 55/500\n",
      "29522/29522 [==============================] - 92s 3ms/step - loss: 5372064768.0000 - mae: 5818.3540 - val_loss: 5692710400.0000 - val_mae: 5139.0361\n",
      "Epoch 56/500\n",
      "29522/29522 [==============================] - 92s 3ms/step - loss: 5330387456.0000 - mae: 5812.6543 - val_loss: 5950874624.0000 - val_mae: 5348.9580\n",
      "Epoch 57/500\n",
      "29522/29522 [==============================] - 93s 3ms/step - loss: 5263681536.0000 - mae: 5724.3081 - val_loss: 6567128064.0000 - val_mae: 4713.0913\n",
      "Epoch 58/500\n",
      "29522/29522 [==============================] - 92s 3ms/step - loss: 5380806656.0000 - mae: 5642.3149 - val_loss: 5898534400.0000 - val_mae: 6117.3188\n",
      "Epoch 59/500\n",
      "29522/29522 [==============================] - 91s 3ms/step - loss: 5343781888.0000 - mae: 5635.3896 - val_loss: 5866799616.0000 - val_mae: 5835.6157\n",
      "Epoch 60/500\n",
      "29522/29522 [==============================] - 92s 3ms/step - loss: 5366434816.0000 - mae: 5681.0542 - val_loss: 5799455744.0000 - val_mae: 5097.7007\n",
      "Epoch 61/500\n",
      "29522/29522 [==============================] - 96s 3ms/step - loss: 5373107712.0000 - mae: 5590.7539 - val_loss: 5962818560.0000 - val_mae: 6407.2637\n",
      "Epoch 62/500\n",
      "29522/29522 [==============================] - 92s 3ms/step - loss: 5324377088.0000 - mae: 5576.2427 - val_loss: 6553201152.0000 - val_mae: 8102.2769\n",
      "Epoch 63/500\n",
      "29522/29522 [==============================] - 92s 3ms/step - loss: 5321579520.0000 - mae: 5559.0205 - val_loss: 5693359104.0000 - val_mae: 5559.2778\n",
      "Epoch 64/500\n",
      "29522/29522 [==============================] - 91s 3ms/step - loss: 5324418048.0000 - mae: 5487.9297 - val_loss: 5807322112.0000 - val_mae: 4626.3750\n",
      "Epoch 65/500\n",
      "29522/29522 [==============================] - 91s 3ms/step - loss: 5304522752.0000 - mae: 5530.2832 - val_loss: 5721774592.0000 - val_mae: 4644.1313\n",
      "Epoch 66/500\n",
      "29522/29522 [==============================] - 91s 3ms/step - loss: 5353921536.0000 - mae: 5425.9873 - val_loss: 5736701952.0000 - val_mae: 4926.0610\n",
      "Epoch 67/500\n",
      "29522/29522 [==============================] - 93s 3ms/step - loss: 5310335488.0000 - mae: 5307.7871 - val_loss: 5711468544.0000 - val_mae: 5274.3955\n",
      "Epoch 68/500\n",
      "29522/29522 [==============================] - 92s 3ms/step - loss: 5357685760.0000 - mae: 5284.1318 - val_loss: 5845576192.0000 - val_mae: 5633.3218\n",
      "Epoch 69/500\n",
      "29522/29522 [==============================] - 91s 3ms/step - loss: 5287520768.0000 - mae: 5369.5332 - val_loss: 5970193408.0000 - val_mae: 5498.7393\n",
      "Epoch 70/500\n",
      "29522/29522 [==============================] - 92s 3ms/step - loss: 5284682752.0000 - mae: 5198.4824 - val_loss: 5756770816.0000 - val_mae: 4947.8882\n",
      "Epoch 71/500\n",
      "29522/29522 [==============================] - 92s 3ms/step - loss: 5255512576.0000 - mae: 5172.3291 - val_loss: 6020785664.0000 - val_mae: 5121.2295\n",
      "Epoch 72/500\n",
      "29522/29522 [==============================] - 90s 3ms/step - loss: 5326876160.0000 - mae: 5192.7026 - val_loss: 6095419392.0000 - val_mae: 7794.9736\n",
      "Epoch 73/500\n",
      "29522/29522 [==============================] - 92s 3ms/step - loss: 5248110080.0000 - mae: 5288.1235 - val_loss: 5831838208.0000 - val_mae: 4301.3613\n",
      "Epoch 74/500\n",
      "29522/29522 [==============================] - 91s 3ms/step - loss: 5254001664.0000 - mae: 5275.9312 - val_loss: 6415887360.0000 - val_mae: 4570.0322\n",
      "Epoch 75/500\n",
      "29522/29522 [==============================] - 92s 3ms/step - loss: 5178359808.0000 - mae: 5186.4189 - val_loss: 5827540992.0000 - val_mae: 5931.5234\n",
      "Epoch 76/500\n",
      "29522/29522 [==============================] - 92s 3ms/step - loss: 5291272704.0000 - mae: 5290.5786 - val_loss: 6165196288.0000 - val_mae: 4692.3076\n",
      "Epoch 77/500\n",
      "29522/29522 [==============================] - 92s 3ms/step - loss: 5248837120.0000 - mae: 5159.9116 - val_loss: 5642508800.0000 - val_mae: 4733.5820\n",
      "Epoch 78/500\n",
      "29522/29522 [==============================] - 91s 3ms/step - loss: 5219964416.0000 - mae: 5302.1416 - val_loss: 6104250368.0000 - val_mae: 4366.7666\n",
      "Epoch 79/500\n",
      "29522/29522 [==============================] - 91s 3ms/step - loss: 5257880064.0000 - mae: 5168.9775 - val_loss: 5703160320.0000 - val_mae: 6022.3555\n",
      "Epoch 80/500\n",
      "29522/29522 [==============================] - 91s 3ms/step - loss: 5254296576.0000 - mae: 5208.1514 - val_loss: 5679356416.0000 - val_mae: 5363.1821\n",
      "Epoch 81/500\n",
      "29522/29522 [==============================] - 92s 3ms/step - loss: 5222392320.0000 - mae: 5155.0146 - val_loss: 5697268224.0000 - val_mae: 4805.5063\n",
      "Epoch 82/500\n",
      "29522/29522 [==============================] - 91s 3ms/step - loss: 5294114304.0000 - mae: 5036.5190 - val_loss: 6335275008.0000 - val_mae: 7967.9995\n",
      "Epoch 83/500\n",
      "29522/29522 [==============================] - 91s 3ms/step - loss: 5245725696.0000 - mae: 5226.0610 - val_loss: 6168734208.0000 - val_mae: 4969.8579\n",
      "Epoch 84/500\n",
      "29522/29522 [==============================] - 90s 3ms/step - loss: 5272367616.0000 - mae: 5181.9478 - val_loss: 5782134784.0000 - val_mae: 4469.0186\n",
      "Epoch 85/500\n",
      "29522/29522 [==============================] - 92s 3ms/step - loss: 5212107264.0000 - mae: 5154.8164 - val_loss: 5693019136.0000 - val_mae: 5040.0210\n",
      "Epoch 86/500\n",
      "29522/29522 [==============================] - 91s 3ms/step - loss: 5249892864.0000 - mae: 5125.8325 - val_loss: 5901642240.0000 - val_mae: 4900.4575\n",
      "Epoch 87/500\n",
      "29522/29522 [==============================] - 91s 3ms/step - loss: 5182159360.0000 - mae: 5142.7119 - val_loss: 5625650688.0000 - val_mae: 4901.6016\n",
      "Epoch 88/500\n",
      "29522/29522 [==============================] - 92s 3ms/step - loss: 5263217152.0000 - mae: 5047.0718 - val_loss: 5922630144.0000 - val_mae: 4305.8027\n",
      "Epoch 89/500\n",
      "29522/29522 [==============================] - 91s 3ms/step - loss: 5193765888.0000 - mae: 5055.4321 - val_loss: 5645971968.0000 - val_mae: 4535.5464\n",
      "Epoch 90/500\n",
      "29522/29522 [==============================] - 91s 3ms/step - loss: 5199658496.0000 - mae: 5052.4233 - val_loss: 5723636224.0000 - val_mae: 4734.2861\n",
      "Epoch 91/500\n",
      "29522/29522 [==============================] - 91s 3ms/step - loss: 5215578624.0000 - mae: 5123.4741 - val_loss: 5735535616.0000 - val_mae: 4591.7617\n",
      "Epoch 92/500\n",
      "29522/29522 [==============================] - 91s 3ms/step - loss: 5313818624.0000 - mae: 4985.0693 - val_loss: 5693001728.0000 - val_mae: 4486.3608\n",
      "Epoch 93/500\n",
      "29522/29522 [==============================] - 92s 3ms/step - loss: 5223687168.0000 - mae: 5121.1050 - val_loss: 6360524800.0000 - val_mae: 7946.0229\n",
      "Epoch 94/500\n",
      "29522/29522 [==============================] - 93s 3ms/step - loss: 5227870720.0000 - mae: 5067.3071 - val_loss: 5750110208.0000 - val_mae: 4399.8315\n",
      "Epoch 95/500\n",
      "29522/29522 [==============================] - 91s 3ms/step - loss: 5271380992.0000 - mae: 5041.8281 - val_loss: 5736802816.0000 - val_mae: 4861.9141\n",
      "Epoch 96/500\n",
      "29522/29522 [==============================] - 93s 3ms/step - loss: 5236138496.0000 - mae: 5064.3477 - val_loss: 5770016768.0000 - val_mae: 4999.2090\n",
      "Epoch 97/500\n",
      "29522/29522 [==============================] - 91s 3ms/step - loss: 5248107008.0000 - mae: 5092.5986 - val_loss: 5731429376.0000 - val_mae: 5486.4028\n",
      "Epoch 98/500\n",
      "29522/29522 [==============================] - 91s 3ms/step - loss: 5187186176.0000 - mae: 5154.8521 - val_loss: 6746319872.0000 - val_mae: 4428.0762\n",
      "Epoch 99/500\n",
      "29522/29522 [==============================] - 91s 3ms/step - loss: 5310280192.0000 - mae: 5078.2852 - val_loss: 5863971328.0000 - val_mae: 5330.6592\n",
      "Epoch 100/500\n",
      "29522/29522 [==============================] - 92s 3ms/step - loss: 5295854080.0000 - mae: 5058.1299 - val_loss: 5994434048.0000 - val_mae: 5086.8008\n",
      "Epoch 101/500\n",
      "29522/29522 [==============================] - 92s 3ms/step - loss: 5204384256.0000 - mae: 5204.5405 - val_loss: 5962050560.0000 - val_mae: 4107.4478\n",
      "Epoch 102/500\n",
      "29522/29522 [==============================] - 91s 3ms/step - loss: 5333414400.0000 - mae: 5132.3198 - val_loss: 5667077120.0000 - val_mae: 5209.3970\n",
      "Epoch 103/500\n",
      "29522/29522 [==============================] - 91s 3ms/step - loss: 5229453312.0000 - mae: 5170.6841 - val_loss: 5687401984.0000 - val_mae: 4641.0557\n",
      "Epoch 104/500\n",
      "29522/29522 [==============================] - 92s 3ms/step - loss: 5258660864.0000 - mae: 5276.1089 - val_loss: 5726791168.0000 - val_mae: 6026.1377\n",
      "Epoch 105/500\n",
      "29522/29522 [==============================] - 92s 3ms/step - loss: 5219280384.0000 - mae: 5116.8643 - val_loss: 5967939584.0000 - val_mae: 6853.5894\n",
      "Epoch 106/500\n",
      "29522/29522 [==============================] - 93s 3ms/step - loss: 5282691072.0000 - mae: 4952.3311 - val_loss: 5726743040.0000 - val_mae: 4356.6821\n",
      "Epoch 107/500\n",
      "29522/29522 [==============================] - 92s 3ms/step - loss: 5241138176.0000 - mae: 5068.8198 - val_loss: 5856870912.0000 - val_mae: 4629.8789\n",
      "Epoch 108/500\n",
      "29522/29522 [==============================] - 92s 3ms/step - loss: 5192040448.0000 - mae: 5072.6650 - val_loss: 6444122624.0000 - val_mae: 4119.1128\n",
      "Epoch 109/500\n",
      "29522/29522 [==============================] - 92s 3ms/step - loss: 5305923584.0000 - mae: 4967.7646 - val_loss: 6062971904.0000 - val_mae: 4648.3149\n",
      "Epoch 110/500\n",
      "29522/29522 [==============================] - 91s 3ms/step - loss: 5201632256.0000 - mae: 5075.4355 - val_loss: 5655777792.0000 - val_mae: 4740.3057\n",
      "Epoch 111/500\n",
      "29522/29522 [==============================] - 91s 3ms/step - loss: 5177090048.0000 - mae: 5098.3555 - val_loss: 5998716416.0000 - val_mae: 5585.7109\n",
      "Epoch 112/500\n",
      "29522/29522 [==============================] - 92s 3ms/step - loss: 5209096192.0000 - mae: 5180.8252 - val_loss: 5637265920.0000 - val_mae: 4681.5713\n",
      "Epoch 113/500\n",
      "29522/29522 [==============================] - 92s 3ms/step - loss: 5251612160.0000 - mae: 5069.1226 - val_loss: 5730579456.0000 - val_mae: 5434.2393\n",
      "Epoch 114/500\n",
      "29522/29522 [==============================] - 92s 3ms/step - loss: 5228128768.0000 - mae: 4999.3042 - val_loss: 5819531264.0000 - val_mae: 5425.4268\n",
      "Epoch 115/500\n",
      "29522/29522 [==============================] - 91s 3ms/step - loss: 5204695552.0000 - mae: 4907.1460 - val_loss: 5927611392.0000 - val_mae: 4213.2246\n",
      "Epoch 116/500\n",
      "29522/29522 [==============================] - 93s 3ms/step - loss: 5272738304.0000 - mae: 4889.7856 - val_loss: 5667577856.0000 - val_mae: 4718.2378\n",
      "Epoch 117/500\n",
      "29522/29522 [==============================] - 92s 3ms/step - loss: 5247145472.0000 - mae: 4884.1216 - val_loss: 5593536000.0000 - val_mae: 4189.3931\n",
      "Epoch 118/500\n",
      "29522/29522 [==============================] - 91s 3ms/step - loss: 5271775232.0000 - mae: 4880.2324 - val_loss: 5963987456.0000 - val_mae: 4468.1167\n",
      "Epoch 119/500\n",
      "29522/29522 [==============================] - 92s 3ms/step - loss: 5240287232.0000 - mae: 4901.8296 - val_loss: 5757096960.0000 - val_mae: 4752.0474\n",
      "Epoch 120/500\n",
      "29522/29522 [==============================] - 91s 3ms/step - loss: 5177022976.0000 - mae: 4951.1470 - val_loss: 5805397504.0000 - val_mae: 4273.3003\n",
      "Epoch 121/500\n",
      "29522/29522 [==============================] - 90s 3ms/step - loss: 5205719040.0000 - mae: 4930.3496 - val_loss: 5763435008.0000 - val_mae: 4510.3989\n",
      "Epoch 122/500\n",
      "29522/29522 [==============================] - 93s 3ms/step - loss: 5318191104.0000 - mae: 4874.0430 - val_loss: 5742205440.0000 - val_mae: 4176.1104\n",
      "Epoch 123/500\n",
      "29522/29522 [==============================] - 91s 3ms/step - loss: 5193738752.0000 - mae: 4886.1089 - val_loss: 6932362752.0000 - val_mae: 5460.6797\n",
      "Epoch 124/500\n",
      "29522/29522 [==============================] - 90s 3ms/step - loss: 5285534208.0000 - mae: 4913.6123 - val_loss: 5708629504.0000 - val_mae: 4331.3223\n",
      "Epoch 125/500\n",
      "29522/29522 [==============================] - 92s 3ms/step - loss: 5208908800.0000 - mae: 4913.5474 - val_loss: 6016869376.0000 - val_mae: 4364.1323\n",
      "Epoch 126/500\n",
      "29522/29522 [==============================] - 92s 3ms/step - loss: 5215051264.0000 - mae: 4878.0229 - val_loss: 5664777216.0000 - val_mae: 4462.6743\n",
      "Epoch 127/500\n",
      "29522/29522 [==============================] - 91s 3ms/step - loss: 5187352576.0000 - mae: 4862.5020 - val_loss: 5823731200.0000 - val_mae: 5638.7549\n",
      "Epoch 128/500\n",
      "29522/29522 [==============================] - 91s 3ms/step - loss: 5221300736.0000 - mae: 4800.2407 - val_loss: 6363907584.0000 - val_mae: 7523.9751\n",
      "Epoch 129/500\n",
      "29522/29522 [==============================] - 92s 3ms/step - loss: 5217838080.0000 - mae: 4896.5010 - val_loss: 5662922752.0000 - val_mae: 4600.9727\n",
      "Epoch 130/500\n",
      "29522/29522 [==============================] - 91s 3ms/step - loss: 5248296448.0000 - mae: 5007.5620 - val_loss: 7598160896.0000 - val_mae: 7886.8638\n",
      "Epoch 131/500\n",
      "29522/29522 [==============================] - 92s 3ms/step - loss: 5241446912.0000 - mae: 5031.8882 - val_loss: 5910582272.0000 - val_mae: 4047.3445\n",
      "Epoch 132/500\n",
      "29522/29522 [==============================] - 91s 3ms/step - loss: 5244633600.0000 - mae: 4910.2759 - val_loss: 5850964480.0000 - val_mae: 4590.5854\n",
      "Epoch 133/500\n",
      "29522/29522 [==============================] - 92s 3ms/step - loss: 5246519808.0000 - mae: 4938.4775 - val_loss: 6184304640.0000 - val_mae: 4091.5032\n",
      "Epoch 134/500\n",
      "29522/29522 [==============================] - 92s 3ms/step - loss: 5207855616.0000 - mae: 4994.7822 - val_loss: 5824235520.0000 - val_mae: 4804.2134\n",
      "Epoch 135/500\n",
      "29522/29522 [==============================] - 91s 3ms/step - loss: 5193399296.0000 - mae: 5002.8872 - val_loss: 5713917440.0000 - val_mae: 5467.6431\n",
      "Epoch 136/500\n",
      "29522/29522 [==============================] - 92s 3ms/step - loss: 5221212672.0000 - mae: 4961.0703 - val_loss: 5972197888.0000 - val_mae: 5162.6255\n",
      "Epoch 137/500\n",
      "29522/29522 [==============================] - 91s 3ms/step - loss: 5201348608.0000 - mae: 4946.9854 - val_loss: 6669186560.0000 - val_mae: 12384.9609\n",
      "Epoch 138/500\n",
      "29522/29522 [==============================] - 91s 3ms/step - loss: 5243788288.0000 - mae: 4846.0459 - val_loss: 6054699008.0000 - val_mae: 4607.2827\n",
      "Epoch 139/500\n",
      "29522/29522 [==============================] - 92s 3ms/step - loss: 5262647296.0000 - mae: 4921.5947 - val_loss: 5821463552.0000 - val_mae: 4967.6104\n",
      "Epoch 140/500\n",
      "29522/29522 [==============================] - 91s 3ms/step - loss: 5156366848.0000 - mae: 4840.9590 - val_loss: 6331366912.0000 - val_mae: 5984.0386\n",
      "Epoch 141/500\n",
      "29522/29522 [==============================] - 91s 3ms/step - loss: 5254017024.0000 - mae: 4862.8848 - val_loss: 5811011584.0000 - val_mae: 5225.8994\n",
      "Epoch 142/500\n",
      "29522/29522 [==============================] - 91s 3ms/step - loss: 5148859392.0000 - mae: 4802.5142 - val_loss: 5747627008.0000 - val_mae: 4070.7214\n",
      "Epoch 143/500\n",
      "29522/29522 [==============================] - 91s 3ms/step - loss: 5205759488.0000 - mae: 4677.4897 - val_loss: 5663351808.0000 - val_mae: 4922.6465\n",
      "Epoch 144/500\n",
      "29522/29522 [==============================] - 92s 3ms/step - loss: 5221902336.0000 - mae: 4790.8765 - val_loss: 5919931392.0000 - val_mae: 6499.6948\n",
      "Epoch 145/500\n",
      "29522/29522 [==============================] - 92s 3ms/step - loss: 5266732544.0000 - mae: 4771.7544 - val_loss: 6054960128.0000 - val_mae: 4756.9458\n",
      "Epoch 146/500\n",
      "29522/29522 [==============================] - 92s 3ms/step - loss: 5213493248.0000 - mae: 4772.0645 - val_loss: 5838306304.0000 - val_mae: 4473.8262\n",
      "Epoch 147/500\n",
      "29522/29522 [==============================] - 100s 3ms/step - loss: 5241436160.0000 - mae: 4698.7769 - val_loss: 5660261888.0000 - val_mae: 5004.1040\n",
      "Epoch 148/500\n",
      "29522/29522 [==============================] - 91s 3ms/step - loss: 5233242624.0000 - mae: 4719.1562 - val_loss: 5675556864.0000 - val_mae: 4530.8315\n",
      "Epoch 149/500\n",
      "29522/29522 [==============================] - 91s 3ms/step - loss: 5167742464.0000 - mae: 4815.3867 - val_loss: 5872829440.0000 - val_mae: 7062.4644\n",
      "Epoch 150/500\n",
      "29522/29522 [==============================] - 92s 3ms/step - loss: 5266649600.0000 - mae: 4686.7666 - val_loss: 6203971584.0000 - val_mae: 7437.5615\n",
      "Epoch 151/500\n",
      "29522/29522 [==============================] - 93s 3ms/step - loss: 5118392832.0000 - mae: 4813.7129 - val_loss: 6376069120.0000 - val_mae: 4101.4868\n",
      "Epoch 152/500\n",
      "29522/29522 [==============================] - 91s 3ms/step - loss: 5200280576.0000 - mae: 4738.9243 - val_loss: 5930868224.0000 - val_mae: 5750.2905\n",
      "Epoch 153/500\n",
      "29522/29522 [==============================] - 91s 3ms/step - loss: 5209995264.0000 - mae: 4749.3848 - val_loss: 5849189888.0000 - val_mae: 4200.3311\n",
      "Epoch 154/500\n",
      "29522/29522 [==============================] - 91s 3ms/step - loss: 5233484800.0000 - mae: 4647.8799 - val_loss: 5744092160.0000 - val_mae: 4390.0728\n",
      "Epoch 155/500\n",
      "29522/29522 [==============================] - 92s 3ms/step - loss: 5078556672.0000 - mae: 4713.4170 - val_loss: 5993202176.0000 - val_mae: 5661.4355\n",
      "Epoch 156/500\n",
      "29522/29522 [==============================] - 91s 3ms/step - loss: 5254987776.0000 - mae: 4729.7651 - val_loss: 5941691904.0000 - val_mae: 6068.0811\n",
      "Epoch 157/500\n",
      "29522/29522 [==============================] - 92s 3ms/step - loss: 5185830400.0000 - mae: 4625.6533 - val_loss: 5739621888.0000 - val_mae: 3991.6228\n",
      "Epoch 158/500\n",
      "29522/29522 [==============================] - 91s 3ms/step - loss: 5215521792.0000 - mae: 4533.4414 - val_loss: 5769337344.0000 - val_mae: 4282.7271\n",
      "Epoch 159/500\n",
      "29522/29522 [==============================] - 90s 3ms/step - loss: 5175776256.0000 - mae: 4623.9077 - val_loss: 5939078656.0000 - val_mae: 6082.8765\n",
      "Epoch 160/500\n",
      "29522/29522 [==============================] - 92s 3ms/step - loss: 5188771328.0000 - mae: 4596.1592 - val_loss: 5862218240.0000 - val_mae: 4695.4941\n",
      "Epoch 161/500\n",
      "29522/29522 [==============================] - 91s 3ms/step - loss: 5190022656.0000 - mae: 4711.4570 - val_loss: 5908083712.0000 - val_mae: 4209.2788\n",
      "Epoch 162/500\n",
      "29522/29522 [==============================] - 90s 3ms/step - loss: 5218429440.0000 - mae: 4571.2510 - val_loss: 5690330624.0000 - val_mae: 4180.6797\n",
      "Epoch 163/500\n",
      "29522/29522 [==============================] - 99s 3ms/step - loss: 5151538688.0000 - mae: 4424.3447 - val_loss: 6849839616.0000 - val_mae: 4406.4009\n",
      "Epoch 164/500\n",
      "29522/29522 [==============================] - 94s 3ms/step - loss: 5172199936.0000 - mae: 4438.0239 - val_loss: 5674411520.0000 - val_mae: 5065.7720\n",
      "Epoch 165/500\n",
      "29522/29522 [==============================] - 102s 3ms/step - loss: 5217910272.0000 - mae: 4492.3672 - val_loss: 5646327296.0000 - val_mae: 4136.4175\n",
      "Epoch 166/500\n",
      "29522/29522 [==============================] - 94s 3ms/step - loss: 5064881664.0000 - mae: 4663.2690 - val_loss: 5734629376.0000 - val_mae: 4121.1191\n",
      "Epoch 167/500\n",
      "29522/29522 [==============================] - 96s 3ms/step - loss: 5170491392.0000 - mae: 4489.8032 - val_loss: 5746889728.0000 - val_mae: 3897.3118\n"
     ]
    }
   ],
   "source": [
    "history = ann.fit(X_train, y_train,\n",
    "                    validation_data = (X_val, y_val),\n",
    "                    callbacks=[es],\n",
    "                    epochs=500,\n",
    "                    batch_size=10,\n",
    "                    verbose=1)"
   ]
  },
  {
   "cell_type": "markdown",
   "metadata": {
    "colab_type": "text",
    "id": "0H0zKKNEBLD5"
   },
   "source": [
    "### Analyse learn history"
   ]
  },
  {
   "cell_type": "code",
   "execution_count": 26,
   "metadata": {
    "ExecuteTime": {
     "end_time": "2023-10-05T23:20:31.864628400Z",
     "start_time": "2023-10-05T23:20:31.569454600Z"
    }
   },
   "outputs": [
    {
     "data": {
      "text/plain": "<Figure size 640x480 with 1 Axes>",
      "image/png": "[encoded data removed]"
     },
     "metadata": {},
     "output_type": "display_data"
    }
   ],
   "source": [
    "# let's see the training and validation accuracy by epoch\n",
    "history_dict = history.history\n",
    "loss_values = history_dict['loss'] # you can change this\n",
    "val_loss_values = history_dict['val_loss'] # you can also change this\n",
    "epochs = range(1, len(loss_values) + 1) # range of X (no. of epochs)\n",
    "plt.plot(epochs, loss_values, 'blue', label='Train set loss')\n",
    "plt.plot(epochs, val_loss_values, 'orange', label='Validation set loss')\n",
    "#plt.title('Training and testing loss')\n",
    "plt.xlabel('Epochs')\n",
    "plt.ylabel('Loss (MSE)')\n",
    "plt.legend()\n",
    "plt.show()"
   ]
  },
  {
   "cell_type": "code",
   "execution_count": 27,
   "metadata": {
    "ExecuteTime": {
     "end_time": "2023-10-05T23:20:37.494710800Z",
     "start_time": "2023-10-05T23:20:37.251797200Z"
    }
   },
   "outputs": [
    {
     "data": {
      "text/plain": "<Figure size 640x480 with 1 Axes>",
      "image/png": "[encoded data removed]"
     },
     "metadata": {},
     "output_type": "display_data"
    }
   ],
   "source": [
    "loss_values1 = history_dict['mae'] # you can change this\n",
    "val_loss_values1 = history_dict['val_mae'] # you can also change this\n",
    "epochs = range(1, len(loss_values1) + 1) # range of X (no. of epochs)\n",
    "plt.plot(epochs, loss_values1, 'blue', label='Train set MAE')\n",
    "plt.plot(epochs, val_loss_values1, 'orange', label='Validation set MAE')\n",
    "#plt.title('Training and testing MAE')\n",
    "plt.xlabel('Epochs')\n",
    "plt.ylabel('MAE')\n",
    "plt.legend()\n",
    "plt.show()"
   ]
  },
  {
   "cell_type": "code",
   "execution_count": null,
   "metadata": {},
   "outputs": [],
   "source": [
    "print (epochs)"
   ]
  },
  {
   "cell_type": "markdown",
   "metadata": {},
   "source": [
    "### Save the model"
   ]
  },
  {
   "cell_type": "code",
   "execution_count": null,
   "metadata": {},
   "outputs": [],
   "source": [
    "ann.save('ANN_1.h5')"
   ]
  },
  {
   "cell_type": "markdown",
   "metadata": {},
   "source": [
    "## Part 5 - Make predictions"
   ]
  },
  {
   "cell_type": "code",
   "execution_count": null,
   "metadata": {},
   "outputs": [],
   "source": [
    "ann = load_model('ANN_1.h5')"
   ]
  },
  {
   "cell_type": "code",
   "execution_count": 28,
   "metadata": {
    "ExecuteTime": {
     "end_time": "2023-10-05T23:22:02.322650400Z",
     "start_time": "2023-10-05T23:21:28.013521900Z"
    }
   },
   "outputs": [
    {
     "name": "stdout",
     "output_type": "stream",
     "text": [
      "9226/9226 [==============================] - 18s 2ms/step\n",
      "3076/3076 [==============================] - 9s 3ms/step\n"
     ]
    },
    {
     "data": {
      "text/plain": "<Figure size 640x480 with 2 Axes>",
      "image/png": "[encoded data removed]"
     },
     "metadata": {},
     "output_type": "display_data"
    }
   ],
   "source": [
    "# scatterplot of actual vs. pred\n",
    "# specify the dimensions \n",
    "fig, axes = plt.subplots(1,2) # 1 row, 2 columns\n",
    "\n",
    "# this makes the individual subplots\n",
    "# Training Results\n",
    "axes[0].scatter(x=y_train, y=ann.predict(X_train)) #first row, first entry (left top)\n",
    "axes[0].set_xlabel(\"Actual\", fontsize=10)\n",
    "axes[0].set_ylabel(\"Predicted\",  fontsize=10)\n",
    "axes[0].set_title(\"Training\")\n",
    "# add 45 deg line\n",
    "x = np.linspace(*axes[0].get_xlim())\n",
    "axes[0].plot(x, x, color='red')\n",
    "# Validation Results\n",
    "axes[1].scatter(x=y_val, y=ann.predict(X_val)) # first row, second entry (right top)\n",
    "axes[1].set_xlabel(\"Actual\", fontsize=10)\n",
    "axes[1].set_ylabel(\"Predicted\",  fontsize=10)\n",
    "axes[1].set_title(\"Validation\")\n",
    "# add 45 deg line\n",
    "x = np.linspace(*axes[1].get_xlim())\n",
    "axes[1].plot(x, x, color='red')\n",
    "\n",
    "# tight layout\n",
    "fig.tight_layout()\n",
    "\n",
    "# show the plot\n",
    "plt.show()"
   ]
  },
  {
   "cell_type": "code",
   "execution_count": null,
   "metadata": {
    "colab": {
     "base_uri": "https://localhost:8080/",
     "height": 134
    },
    "colab_type": "code",
    "id": "IA0yApEmBG1X",
    "outputId": "cb981e1f-9204-4a2a-fece-9d66a6919189"
   },
   "outputs": [],
   "source": [
    "y_pred = ann.predict(X_test)\n",
    "np.set_printoptions(precision=2)\n",
    "print(np.concatenate((y_pred.reshape(len(y_pred),1), y_test.reshape(len(y_test),1)),1))"
   ]
  },
  {
   "cell_type": "code",
   "execution_count": null,
   "metadata": {},
   "outputs": [],
   "source": [
    "import matplotlib.pyplot as plt\n",
    "plt.scatter(y_test, y_pred, color=\"blue\")\n",
    "#plt.plot ([0,8500000],[0,8500000], color = \"red\")\n",
    "#plt.axis ([0,8500000,0,8500000])\n",
    "plt.xlabel ('Actual data')\n",
    "plt.ylabel ('Predicted data')"
   ]
  },
  {
   "cell_type": "code",
   "execution_count": null,
   "metadata": {},
   "outputs": [],
   "source": [
    "from sklearn.metrics import r2_score\n",
    "# Initialize layout\n",
    "fig1, ax1 = plt.subplots(figsize = (9, 9))\n",
    "\n",
    "\n",
    "#y = y_pred         # Model on prvious line is called here\n",
    "#x = y_test\n",
    "\n",
    "\n",
    "\n",
    "# Add scatterplot\n",
    "ax1.scatter(y_test, y_pred, s=70, alpha=1, edgecolors=\"k\",c='mediumblue',zorder=5, label = 'Points')\n",
    "\n",
    "\n",
    "plt.ylabel('Predicted Peak Incident Pressure (kPa)',fontsize = 25)\n",
    "plt.xlabel('Actual Peak Incident Pressure (kPa)',fontsize = 25)\n",
    "plt.xticks(fontsize = 19)\n",
    "plt.yticks(fontsize = 19)\n",
    "\n",
    "\n",
    "x1 = np.linspace(0,8000000)\n",
    "\n",
    "plt.plot(x1, x1, 'Red', label='45\\N{DEGREE SIGN} line',lw=2.5,alpha=1)\n",
    "plt.plot(x1, 1.1*x1, '--m', label='\\u00B110% Error',lw=2.5,alpha=0.7)\n",
    "plt.plot(x1, 0.9*x1,'m', linestyle='--',lw=2.5,alpha=0.7)\n",
    "plt.plot(x1, 1.2*x1, '-.g', label='\\u00B120% Error',lw=2.5,alpha=0.7)\n",
    "plt.plot(x1, 0.8*x1,'-.g',lw=2.5,alpha=0.7)\n",
    "\n",
    "plt.ylim(0,8000000)\n",
    "plt.xlim(0,8000000)\n",
    "plt.legend(loc='upper left',fontsize = 25)\n",
    "\n",
    "plt.grid()\n",
    "\n",
    "ax1.spines['left'].set_color('black')        # setting up Y-axis tick color to red\n",
    "ax1.spines['bottom'].set_color('black')         #setting up above X-axis tick color to red\n",
    "\n",
    "\n",
    "\n",
    "#ax1.annotate(\"$R^2$ = {:.3f}\".format(r2), (2500, 1000),fontsize = 25)  #Model is called here\n",
    "#ax1.annotate(\"Adj.$R^2$ = {:.3f}\".format(adj_r2), (2500, 750),fontsize = 25)\n",
    "\n",
    "#plt.savefig('plot1.png', dpi = 600, bbox_inches = 'tight')"
   ]
  },
  {
   "cell_type": "code",
   "execution_count": null,
   "metadata": {},
   "outputs": [],
   "source": [
    "# metrics\n",
    "trainpreds = ann.predict(X_train)\n",
    "\n",
    "from sklearn.metrics import mean_absolute_error\n",
    "print(mean_absolute_error(y_train, trainpreds)) # train\n",
    "print(mean_absolute_error(y_test, y_pred)) # test"
   ]
  },
  {
   "cell_type": "code",
   "execution_count": null,
   "metadata": {},
   "outputs": [],
   "source": [
    "from sklearn.metrics import r2_score\n",
    "r2 = r2_score(y_test, y_pred)\n",
    "print (r2)"
   ]
  },
  {
   "cell_type": "code",
   "execution_count": null,
   "metadata": {},
   "outputs": [],
   "source": [
    "r2_train = r2_score(y_train, trainpreds)\n",
    "print (r2_train)"
   ]
  },
  {
   "cell_type": "code",
   "execution_count": null,
   "metadata": {},
   "outputs": [],
   "source": [
    "count1 = 0\n",
    "for i in range(len(y_pred)):\n",
    "    line1 = y_pred[i] - 0.9*y_test[i]\n",
    "    line2 = y_pred[i] - 1.1*y_test[i]\n",
    "    #print ('line 1 ', line1)\n",
    "    #print ('line 2 ', line2)\n",
    "    mask1 = (line1 > 0) & (line2 < 0)\n",
    "    #print (mask)\n",
    "    count1 = np.sum(mask1+count1)\n",
    "    #print (count)\n",
    "\n",
    "count2 = 0\n",
    "for j in range(len(y_pred)):\n",
    "    line3 = y_pred[j] - 0.8*y_test[j]\n",
    "    line4 = y_pred[j] - 1.2*y_test[j]\n",
    "    mask2 = (line3 > 0) & (line4 < 0)\n",
    "    count2 = np.sum(mask2+count2)\n",
    "\n",
    "\n",
    "count3 = 0    \n",
    "for k in range(len(y_pred)):\n",
    "    line5 = y_pred[k] - 0.8*y_test[k]\n",
    "    line6 = y_pred[k] - 1.2*y_test[k]\n",
    "    mask3 = (line5 < 0) or (line6 > 0)\n",
    "    count3 = np.sum(mask3+count3)\n",
    "   \n",
    "\n",
    "print ('Within 10% margin', format((count1/len (y_pred)),'.2%'))\n",
    "print ('Within 20% margin', format((count2/len (y_pred)),'.2%'))\n",
    "print ('Out of 20% margin', format((count3/len (y_pred)),'.2%'))"
   ]
  },
  {
   "cell_type": "code",
   "execution_count": null,
   "metadata": {},
   "outputs": [],
   "source": [
    "adj_r2 = 1 - ((1 - r2) * (len(X_test) - 1) / (len(X_test) - len (X_test[0]) - 1))\n",
    "print (adj_r2)"
   ]
  },
  {
   "cell_type": "code",
   "execution_count": null,
   "metadata": {},
   "outputs": [],
   "source": [
    "import math\n",
    "from sklearn.metrics import mean_squared_error\n",
    "\n",
    "math.sqrt(mean_squared_error(y_test, y_pred))"
   ]
  },
  {
   "cell_type": "code",
   "execution_count": null,
   "metadata": {},
   "outputs": [],
   "source": [
    "from sklearn.metrics import mean_absolute_error\n",
    "\n",
    "mean_absolute_error(y_test, y_pred)"
   ]
  }
 ],
 "metadata": {
  "colab": {
   "collapsed_sections": [],
   "name": "Artificial Neural Network",
   "provenance": [],
   "toc_visible": true
  },
  "kernelspec": {
   "display_name": "Python 3 (ipykernel)",
   "language": "python",
   "name": "python3"
  },
  "language_info": {
   "codemirror_mode": {
    "name": "ipython",
    "version": 3
   },
   "file_extension": ".py",
   "mimetype": "text/x-python",
   "name": "python",
   "nbconvert_exporter": "python",
   "pygments_lexer": "ipython3",
   "version": "3.9.7"
  }
 },
 "nbformat": 4,
 "nbformat_minor": 4
}
