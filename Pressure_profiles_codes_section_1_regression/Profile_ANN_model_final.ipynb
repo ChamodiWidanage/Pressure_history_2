{
 "cells": [
  {
   "cell_type": "markdown",
   "metadata": {
    "colab_type": "text",
    "id": "3cbb7fRy-eyr"
   },
   "source": [
    "# Artificial Neural Network"
   ]
  },
  {
   "cell_type": "markdown",
   "metadata": {
    "colab_type": "text",
    "id": "8sNDnxE2-pwE"
   },
   "source": [
    "## Part 1 - Importing the libraries"
   ]
  },
  {
   "cell_type": "code",
   "execution_count": 1,
   "metadata": {
    "colab": {},
    "colab_type": "code",
    "id": "lxChR1Rk-umf",
    "ExecuteTime": {
     "end_time": "2024-07-01T01:47:42.945470700Z",
     "start_time": "2024-07-01T01:47:37.251983Z"
    }
   },
   "outputs": [],
   "source": [
    "import numpy as np\n",
    "import pandas as pd\n",
    "import tensorflow as tf\n",
    "import matplotlib.pyplot as plt\n",
    "#from keras.models import load_model\n",
    "#from tensorflow.keras.models import Sequential\n",
    "#from tensorflow.keras.layers import Dense\n",
    "from pathlib import Path"
   ]
  },
  {
   "cell_type": "markdown",
   "metadata": {
    "colab_type": "text",
    "id": "AG3FQEch-yuA"
   },
   "source": [
    "## Part 2 - Data Preprocessing"
   ]
  },
  {
   "cell_type": "markdown",
   "metadata": {
    "colab_type": "text",
    "id": "-4zq8Mza_D9O"
   },
   "source": [
    "### Importing the dataset"
   ]
  },
  {
   "cell_type": "code",
   "execution_count": 28,
   "metadata": {
    "ExecuteTime": {
     "end_time": "2024-07-01T04:46:36.971397500Z",
     "start_time": "2024-07-01T04:46:36.889644800Z"
    }
   },
   "outputs": [
    {
     "name": "stdout",
     "output_type": "stream",
     "text": [
      "input G:\\Chamodi\\Machine_Learning\\Pressure_history_2\\Pressure_profiles_arrival_omitted\n",
      "2 [WindowsPath('G:/Chamodi/Machine_Learning/Pressure_history_2/Pressure_profiles_arrival_omitted/L13_1'), WindowsPath('G:/Chamodi/Machine_Learning/Pressure_history_2/Pressure_profiles_arrival_omitted/L13_11'), WindowsPath('G:/Chamodi/Machine_Learning/Pressure_history_2/Pressure_profiles_arrival_omitted/L13_13'), WindowsPath('G:/Chamodi/Machine_Learning/Pressure_history_2/Pressure_profiles_arrival_omitted/L13_15'), WindowsPath('G:/Chamodi/Machine_Learning/Pressure_history_2/Pressure_profiles_arrival_omitted/L13_17'), WindowsPath('G:/Chamodi/Machine_Learning/Pressure_history_2/Pressure_profiles_arrival_omitted/L13_19'), WindowsPath('G:/Chamodi/Machine_Learning/Pressure_history_2/Pressure_profiles_arrival_omitted/L13_21'), WindowsPath('G:/Chamodi/Machine_Learning/Pressure_history_2/Pressure_profiles_arrival_omitted/L13_23'), WindowsPath('G:/Chamodi/Machine_Learning/Pressure_history_2/Pressure_profiles_arrival_omitted/L13_25'), WindowsPath('G:/Chamodi/Machine_Learning/Pressure_history_2/Pressure_profiles_arrival_omitted/L13_27'), WindowsPath('G:/Chamodi/Machine_Learning/Pressure_history_2/Pressure_profiles_arrival_omitted/L13_29'), WindowsPath('G:/Chamodi/Machine_Learning/Pressure_history_2/Pressure_profiles_arrival_omitted/L13_3'), WindowsPath('G:/Chamodi/Machine_Learning/Pressure_history_2/Pressure_profiles_arrival_omitted/L13_31'), WindowsPath('G:/Chamodi/Machine_Learning/Pressure_history_2/Pressure_profiles_arrival_omitted/L13_33'), WindowsPath('G:/Chamodi/Machine_Learning/Pressure_history_2/Pressure_profiles_arrival_omitted/L13_35'), WindowsPath('G:/Chamodi/Machine_Learning/Pressure_history_2/Pressure_profiles_arrival_omitted/L13_37'), WindowsPath('G:/Chamodi/Machine_Learning/Pressure_history_2/Pressure_profiles_arrival_omitted/L13_39'), WindowsPath('G:/Chamodi/Machine_Learning/Pressure_history_2/Pressure_profiles_arrival_omitted/L13_41'), WindowsPath('G:/Chamodi/Machine_Learning/Pressure_history_2/Pressure_profiles_arrival_omitted/L13_43'), WindowsPath('G:/Chamodi/Machine_Learning/Pressure_history_2/Pressure_profiles_arrival_omitted/L13_45'), WindowsPath('G:/Chamodi/Machine_Learning/Pressure_history_2/Pressure_profiles_arrival_omitted/L13_47'), WindowsPath('G:/Chamodi/Machine_Learning/Pressure_history_2/Pressure_profiles_arrival_omitted/L13_49'), WindowsPath('G:/Chamodi/Machine_Learning/Pressure_history_2/Pressure_profiles_arrival_omitted/L13_5'), WindowsPath('G:/Chamodi/Machine_Learning/Pressure_history_2/Pressure_profiles_arrival_omitted/L13_51'), WindowsPath('G:/Chamodi/Machine_Learning/Pressure_history_2/Pressure_profiles_arrival_omitted/L13_53'), WindowsPath('G:/Chamodi/Machine_Learning/Pressure_history_2/Pressure_profiles_arrival_omitted/L13_55'), WindowsPath('G:/Chamodi/Machine_Learning/Pressure_history_2/Pressure_profiles_arrival_omitted/L13_57'), WindowsPath('G:/Chamodi/Machine_Learning/Pressure_history_2/Pressure_profiles_arrival_omitted/L13_59'), WindowsPath('G:/Chamodi/Machine_Learning/Pressure_history_2/Pressure_profiles_arrival_omitted/L13_61'), WindowsPath('G:/Chamodi/Machine_Learning/Pressure_history_2/Pressure_profiles_arrival_omitted/L13_63'), WindowsPath('G:/Chamodi/Machine_Learning/Pressure_history_2/Pressure_profiles_arrival_omitted/L13_65'), WindowsPath('G:/Chamodi/Machine_Learning/Pressure_history_2/Pressure_profiles_arrival_omitted/L13_67'), WindowsPath('G:/Chamodi/Machine_Learning/Pressure_history_2/Pressure_profiles_arrival_omitted/L13_69'), WindowsPath('G:/Chamodi/Machine_Learning/Pressure_history_2/Pressure_profiles_arrival_omitted/L13_7'), WindowsPath('G:/Chamodi/Machine_Learning/Pressure_history_2/Pressure_profiles_arrival_omitted/L13_70'), WindowsPath('G:/Chamodi/Machine_Learning/Pressure_history_2/Pressure_profiles_arrival_omitted/L13_9')]\n"
     ]
    }
   ],
   "source": [
    "#Access input folder\n",
    "current_dir = Path.cwd()\n",
    "parent_dir = current_dir.parent\n",
    "input_dir1 = Path (parent_dir/\"Pressure_profiles_arrival_omitted\")\n",
    "print (\"input\",input_dir1)\n",
    "\n",
    "#Access folders inside input folder\n",
    "input_dir2_train =  [folder_input for folder_input in input_dir1.iterdir() if folder_input.is_dir()]\n",
    "print (\"2\",input_dir2_train)"
   ]
  },
  {
   "cell_type": "code",
   "execution_count": 29,
   "metadata": {
    "ExecuteTime": {
     "end_time": "2024-07-01T04:47:15.018751200Z",
     "start_time": "2024-07-01T04:46:41.221507500Z"
    }
   },
   "outputs": [
    {
     "name": "stdout",
     "output_type": "stream",
     "text": [
      "folder G:\\Chamodi\\Machine_Learning\\Pressure_history_2\\Pressure_profiles_arrival_omitted\\L13_1\n",
      "P13\n",
      "P5\n",
      "P9\n",
      "folder G:\\Chamodi\\Machine_Learning\\Pressure_history_2\\Pressure_profiles_arrival_omitted\\L13_11\n",
      "P13\n",
      "P5\n",
      "P9\n",
      "folder G:\\Chamodi\\Machine_Learning\\Pressure_history_2\\Pressure_profiles_arrival_omitted\\L13_13\n",
      "P13\n",
      "P5\n",
      "P9\n",
      "folder G:\\Chamodi\\Machine_Learning\\Pressure_history_2\\Pressure_profiles_arrival_omitted\\L13_15\n",
      "P13\n",
      "P5\n",
      "P9\n",
      "folder G:\\Chamodi\\Machine_Learning\\Pressure_history_2\\Pressure_profiles_arrival_omitted\\L13_17\n",
      "P13\n",
      "P5\n",
      "P9\n",
      "folder G:\\Chamodi\\Machine_Learning\\Pressure_history_2\\Pressure_profiles_arrival_omitted\\L13_19\n",
      "P13\n",
      "P5\n",
      "P9\n",
      "folder G:\\Chamodi\\Machine_Learning\\Pressure_history_2\\Pressure_profiles_arrival_omitted\\L13_21\n",
      "P13\n",
      "P5\n",
      "P9\n",
      "folder G:\\Chamodi\\Machine_Learning\\Pressure_history_2\\Pressure_profiles_arrival_omitted\\L13_23\n",
      "P13\n",
      "P5\n",
      "P9\n",
      "folder G:\\Chamodi\\Machine_Learning\\Pressure_history_2\\Pressure_profiles_arrival_omitted\\L13_25\n",
      "P13\n",
      "P5\n",
      "P9\n",
      "folder G:\\Chamodi\\Machine_Learning\\Pressure_history_2\\Pressure_profiles_arrival_omitted\\L13_27\n",
      "P13\n",
      "P5\n",
      "P9\n",
      "folder G:\\Chamodi\\Machine_Learning\\Pressure_history_2\\Pressure_profiles_arrival_omitted\\L13_29\n",
      "P13\n",
      "P5\n",
      "P9\n",
      "folder G:\\Chamodi\\Machine_Learning\\Pressure_history_2\\Pressure_profiles_arrival_omitted\\L13_3\n",
      "P13\n",
      "P5\n",
      "P9\n",
      "folder G:\\Chamodi\\Machine_Learning\\Pressure_history_2\\Pressure_profiles_arrival_omitted\\L13_31\n",
      "P13\n",
      "P5\n",
      "P9\n",
      "folder G:\\Chamodi\\Machine_Learning\\Pressure_history_2\\Pressure_profiles_arrival_omitted\\L13_33\n",
      "P13\n",
      "P5\n",
      "P9\n",
      "folder G:\\Chamodi\\Machine_Learning\\Pressure_history_2\\Pressure_profiles_arrival_omitted\\L13_35\n",
      "P13\n",
      "P5\n",
      "P9\n",
      "folder G:\\Chamodi\\Machine_Learning\\Pressure_history_2\\Pressure_profiles_arrival_omitted\\L13_37\n",
      "P13\n",
      "P5\n",
      "P9\n",
      "folder G:\\Chamodi\\Machine_Learning\\Pressure_history_2\\Pressure_profiles_arrival_omitted\\L13_39\n",
      "P13\n",
      "P5\n",
      "P9\n",
      "folder G:\\Chamodi\\Machine_Learning\\Pressure_history_2\\Pressure_profiles_arrival_omitted\\L13_41\n",
      "P13\n",
      "P5\n",
      "P9\n",
      "folder G:\\Chamodi\\Machine_Learning\\Pressure_history_2\\Pressure_profiles_arrival_omitted\\L13_43\n",
      "P13\n",
      "P5\n",
      "P9\n",
      "folder G:\\Chamodi\\Machine_Learning\\Pressure_history_2\\Pressure_profiles_arrival_omitted\\L13_45\n",
      "P13\n",
      "P5\n",
      "P9\n",
      "folder G:\\Chamodi\\Machine_Learning\\Pressure_history_2\\Pressure_profiles_arrival_omitted\\L13_47\n",
      "P13\n",
      "P5\n",
      "P9\n",
      "folder G:\\Chamodi\\Machine_Learning\\Pressure_history_2\\Pressure_profiles_arrival_omitted\\L13_49\n",
      "P13\n",
      "P5\n",
      "P9\n",
      "folder G:\\Chamodi\\Machine_Learning\\Pressure_history_2\\Pressure_profiles_arrival_omitted\\L13_5\n",
      "P13\n",
      "P5\n",
      "P9\n",
      "folder G:\\Chamodi\\Machine_Learning\\Pressure_history_2\\Pressure_profiles_arrival_omitted\\L13_51\n",
      "P13\n",
      "P5\n",
      "P9\n",
      "folder G:\\Chamodi\\Machine_Learning\\Pressure_history_2\\Pressure_profiles_arrival_omitted\\L13_53\n",
      "P13\n",
      "P5\n",
      "P9\n",
      "folder G:\\Chamodi\\Machine_Learning\\Pressure_history_2\\Pressure_profiles_arrival_omitted\\L13_55\n",
      "P13\n",
      "P5\n",
      "P9\n",
      "folder G:\\Chamodi\\Machine_Learning\\Pressure_history_2\\Pressure_profiles_arrival_omitted\\L13_57\n",
      "P13\n",
      "P5\n",
      "P9\n",
      "folder G:\\Chamodi\\Machine_Learning\\Pressure_history_2\\Pressure_profiles_arrival_omitted\\L13_59\n",
      "P13\n",
      "P5\n",
      "P9\n",
      "folder G:\\Chamodi\\Machine_Learning\\Pressure_history_2\\Pressure_profiles_arrival_omitted\\L13_61\n",
      "P13\n",
      "P5\n",
      "P9\n",
      "folder G:\\Chamodi\\Machine_Learning\\Pressure_history_2\\Pressure_profiles_arrival_omitted\\L13_63\n",
      "P13\n",
      "P5\n",
      "P9\n",
      "folder G:\\Chamodi\\Machine_Learning\\Pressure_history_2\\Pressure_profiles_arrival_omitted\\L13_65\n",
      "P13\n",
      "P5\n",
      "P9\n",
      "folder G:\\Chamodi\\Machine_Learning\\Pressure_history_2\\Pressure_profiles_arrival_omitted\\L13_67\n",
      "P13\n",
      "P5\n",
      "P9\n",
      "folder G:\\Chamodi\\Machine_Learning\\Pressure_history_2\\Pressure_profiles_arrival_omitted\\L13_69\n",
      "P13\n",
      "P5\n",
      "P9\n",
      "folder G:\\Chamodi\\Machine_Learning\\Pressure_history_2\\Pressure_profiles_arrival_omitted\\L13_7\n",
      "P13\n",
      "P5\n",
      "P9\n",
      "folder G:\\Chamodi\\Machine_Learning\\Pressure_history_2\\Pressure_profiles_arrival_omitted\\L13_70\n",
      "P13\n",
      "P5\n",
      "P9\n",
      "folder G:\\Chamodi\\Machine_Learning\\Pressure_history_2\\Pressure_profiles_arrival_omitted\\L13_9\n",
      "P13\n",
      "P5\n",
      "P9\n"
     ]
    }
   ],
   "source": [
    "# Access each folder inside input folder\n",
    "dataset_train = pd.DataFrame(columns = ['Charge_mass', 'Standoff_distance', 'Time', 'Pressure', 'Phase'])\n",
    "df_list_train = []\n",
    "for folder_train in input_dir2_train:\n",
    "    \n",
    "    # Make a list of data file names\n",
    "    files_train = list(file_train for file_train in folder_train.rglob(\"*.xlsx\") if 2 < int(file_train.stem[1:]) < 14)\n",
    "    print (\"folder\", folder_train)\n",
    "    \n",
    "    for file_train in files_train:\n",
    "        df_list_train.append(pd.read_excel(file_train))\n",
    "        print (file_train.stem)\n",
    "\n",
    "dataset_train = pd.concat(df_list_train, ignore_index = True)"
   ]
  },
  {
   "cell_type": "code",
   "execution_count": 4,
   "metadata": {
    "colab": {},
    "colab_type": "code",
    "id": "B9CV13Co_HHM",
    "ExecuteTime": {
     "end_time": "2024-07-01T01:51:07.722675300Z",
     "start_time": "2024-07-01T01:51:07.659180400Z"
    }
   },
   "outputs": [
    {
     "name": "stdout",
     "output_type": "stream",
     "text": [
      "<class 'pandas.core.frame.DataFrame'>\n",
      "RangeIndex: 365320 entries, 0 to 365319\n",
      "Data columns (total 5 columns):\n",
      " #   Column             Non-Null Count   Dtype  \n",
      "---  ------             --------------   -----  \n",
      " 0   Charge_mass        365320 non-null  float64\n",
      " 1   Standoff_distance  365320 non-null  int64  \n",
      " 2   Time               365320 non-null  float64\n",
      " 3   Pressure           365320 non-null  float64\n",
      " 4   Phase              365320 non-null  object \n",
      "dtypes: float64(3), int64(1), object(1)\n",
      "memory usage: 13.9+ MB\n"
     ]
    }
   ],
   "source": [
    "dataset_train.info()"
   ]
  },
  {
   "cell_type": "code",
   "execution_count": 5,
   "outputs": [
    {
     "name": "stdout",
     "output_type": "stream",
     "text": [
      "<class 'pandas.core.frame.DataFrame'>\n",
      "RangeIndex: 365320 entries, 0 to 365319\n",
      "Data columns (total 6 columns):\n",
      " #   Column             Non-Null Count   Dtype  \n",
      "---  ------             --------------   -----  \n",
      " 0   Charge_mass        365320 non-null  float64\n",
      " 1   Standoff_distance  365320 non-null  int64  \n",
      " 2   Time               365320 non-null  float64\n",
      " 3   Pressure           365320 non-null  float64\n",
      " 4   Phase_negative     365320 non-null  uint8  \n",
      " 5   Phase_positive     365320 non-null  uint8  \n",
      "dtypes: float64(3), int64(1), uint8(2)\n",
      "memory usage: 11.8 MB\n"
     ]
    }
   ],
   "source": [
    "dataset_train = pd.get_dummies(dataset_train, columns =['Phase'], dtype = np.uint8)\n",
    "dataset_train.info()"
   ],
   "metadata": {
    "collapsed": false,
    "ExecuteTime": {
     "end_time": "2024-07-01T01:51:09.191305300Z",
     "start_time": "2024-07-01T01:51:09.127835Z"
    }
   }
  },
  {
   "cell_type": "code",
   "execution_count": 6,
   "outputs": [
    {
     "data": {
      "text/plain": "    Charge_mass  Standoff_distance     Time      Pressure  Phase_negative  \\\n0           0.5                  7  0.01588  113668.39844               0   \n1           0.5                  7  0.01589  113057.68750               0   \n2           0.5                  7  0.01590  113399.80469               0   \n3           0.5                  7  0.01591  113217.99219               0   \n4           0.5                  7  0.01592  113204.15625               0   \n5           0.5                  7  0.01593  113132.22656               0   \n6           0.5                  7  0.01594  113051.35156               0   \n7           0.5                  7  0.01595  113006.08594               0   \n8           0.5                  7  0.01596  112929.44531               0   \n9           0.5                  7  0.01597  112869.72656               0   \n10          0.5                  7  0.01598  112806.28125               0   \n11          0.5                  7  0.01599  112741.43750               0   \n12          0.5                  7  0.01600  112681.39844               0   \n13          0.5                  7  0.01601  112614.34375               0   \n14          0.5                  7  0.01602  112553.10156               0   \n15          0.5                  7  0.01603  112490.71094               0   \n16          0.5                  7  0.01604  112425.99219               0   \n17          0.5                  7  0.01605  112364.58594               0   \n18          0.5                  7  0.01606  112302.69531               0   \n19          0.5                  7  0.01607  112241.47656               0   \n20          0.5                  7  0.01608  112177.60156               0   \n21          0.5                  7  0.01609  112116.53125               0   \n22          0.5                  7  0.01610  112055.66406               0   \n23          0.5                  7  0.01611  111992.36719               0   \n24          0.5                  7  0.01612  111931.83594               0   \n25          0.5                  7  0.01613  111871.41406               0   \n26          0.5                  7  0.01614  111808.69531               0   \n27          0.5                  7  0.01615  111748.65625               0   \n28          0.5                  7  0.01616  111688.78125               0   \n29          0.5                  7  0.01617  111629.06250               0   \n\n    Phase_positive  \n0                1  \n1                1  \n2                1  \n3                1  \n4                1  \n5                1  \n6                1  \n7                1  \n8                1  \n9                1  \n10               1  \n11               1  \n12               1  \n13               1  \n14               1  \n15               1  \n16               1  \n17               1  \n18               1  \n19               1  \n20               1  \n21               1  \n22               1  \n23               1  \n24               1  \n25               1  \n26               1  \n27               1  \n28               1  \n29               1  ",
      "text/html": "<div>\n<style scoped>\n    .dataframe tbody tr th:only-of-type {\n        vertical-align: middle;\n    }\n\n    .dataframe tbody tr th {\n        vertical-align: top;\n    }\n\n    .dataframe thead th {\n        text-align: right;\n    }\n</style>\n<table border=\"1\" class=\"dataframe\">\n  <thead>\n    <tr style=\"text-align: right;\">\n      <th></th>\n      <th>Charge_mass</th>\n      <th>Standoff_distance</th>\n      <th>Time</th>\n      <th>Pressure</th>\n      <th>Phase_negative</th>\n      <th>Phase_positive</th>\n    </tr>\n  </thead>\n  <tbody>\n    <tr>\n      <th>0</th>\n      <td>0.5</td>\n      <td>7</td>\n      <td>0.01588</td>\n      <td>113668.39844</td>\n      <td>0</td>\n      <td>1</td>\n    </tr>\n    <tr>\n      <th>1</th>\n      <td>0.5</td>\n      <td>7</td>\n      <td>0.01589</td>\n      <td>113057.68750</td>\n      <td>0</td>\n      <td>1</td>\n    </tr>\n    <tr>\n      <th>2</th>\n      <td>0.5</td>\n      <td>7</td>\n      <td>0.01590</td>\n      <td>113399.80469</td>\n      <td>0</td>\n      <td>1</td>\n    </tr>\n    <tr>\n      <th>3</th>\n      <td>0.5</td>\n      <td>7</td>\n      <td>0.01591</td>\n      <td>113217.99219</td>\n      <td>0</td>\n      <td>1</td>\n    </tr>\n    <tr>\n      <th>4</th>\n      <td>0.5</td>\n      <td>7</td>\n      <td>0.01592</td>\n      <td>113204.15625</td>\n      <td>0</td>\n      <td>1</td>\n    </tr>\n    <tr>\n      <th>5</th>\n      <td>0.5</td>\n      <td>7</td>\n      <td>0.01593</td>\n      <td>113132.22656</td>\n      <td>0</td>\n      <td>1</td>\n    </tr>\n    <tr>\n      <th>6</th>\n      <td>0.5</td>\n      <td>7</td>\n      <td>0.01594</td>\n      <td>113051.35156</td>\n      <td>0</td>\n      <td>1</td>\n    </tr>\n    <tr>\n      <th>7</th>\n      <td>0.5</td>\n      <td>7</td>\n      <td>0.01595</td>\n      <td>113006.08594</td>\n      <td>0</td>\n      <td>1</td>\n    </tr>\n    <tr>\n      <th>8</th>\n      <td>0.5</td>\n      <td>7</td>\n      <td>0.01596</td>\n      <td>112929.44531</td>\n      <td>0</td>\n      <td>1</td>\n    </tr>\n    <tr>\n      <th>9</th>\n      <td>0.5</td>\n      <td>7</td>\n      <td>0.01597</td>\n      <td>112869.72656</td>\n      <td>0</td>\n      <td>1</td>\n    </tr>\n    <tr>\n      <th>10</th>\n      <td>0.5</td>\n      <td>7</td>\n      <td>0.01598</td>\n      <td>112806.28125</td>\n      <td>0</td>\n      <td>1</td>\n    </tr>\n    <tr>\n      <th>11</th>\n      <td>0.5</td>\n      <td>7</td>\n      <td>0.01599</td>\n      <td>112741.43750</td>\n      <td>0</td>\n      <td>1</td>\n    </tr>\n    <tr>\n      <th>12</th>\n      <td>0.5</td>\n      <td>7</td>\n      <td>0.01600</td>\n      <td>112681.39844</td>\n      <td>0</td>\n      <td>1</td>\n    </tr>\n    <tr>\n      <th>13</th>\n      <td>0.5</td>\n      <td>7</td>\n      <td>0.01601</td>\n      <td>112614.34375</td>\n      <td>0</td>\n      <td>1</td>\n    </tr>\n    <tr>\n      <th>14</th>\n      <td>0.5</td>\n      <td>7</td>\n      <td>0.01602</td>\n      <td>112553.10156</td>\n      <td>0</td>\n      <td>1</td>\n    </tr>\n    <tr>\n      <th>15</th>\n      <td>0.5</td>\n      <td>7</td>\n      <td>0.01603</td>\n      <td>112490.71094</td>\n      <td>0</td>\n      <td>1</td>\n    </tr>\n    <tr>\n      <th>16</th>\n      <td>0.5</td>\n      <td>7</td>\n      <td>0.01604</td>\n      <td>112425.99219</td>\n      <td>0</td>\n      <td>1</td>\n    </tr>\n    <tr>\n      <th>17</th>\n      <td>0.5</td>\n      <td>7</td>\n      <td>0.01605</td>\n      <td>112364.58594</td>\n      <td>0</td>\n      <td>1</td>\n    </tr>\n    <tr>\n      <th>18</th>\n      <td>0.5</td>\n      <td>7</td>\n      <td>0.01606</td>\n      <td>112302.69531</td>\n      <td>0</td>\n      <td>1</td>\n    </tr>\n    <tr>\n      <th>19</th>\n      <td>0.5</td>\n      <td>7</td>\n      <td>0.01607</td>\n      <td>112241.47656</td>\n      <td>0</td>\n      <td>1</td>\n    </tr>\n    <tr>\n      <th>20</th>\n      <td>0.5</td>\n      <td>7</td>\n      <td>0.01608</td>\n      <td>112177.60156</td>\n      <td>0</td>\n      <td>1</td>\n    </tr>\n    <tr>\n      <th>21</th>\n      <td>0.5</td>\n      <td>7</td>\n      <td>0.01609</td>\n      <td>112116.53125</td>\n      <td>0</td>\n      <td>1</td>\n    </tr>\n    <tr>\n      <th>22</th>\n      <td>0.5</td>\n      <td>7</td>\n      <td>0.01610</td>\n      <td>112055.66406</td>\n      <td>0</td>\n      <td>1</td>\n    </tr>\n    <tr>\n      <th>23</th>\n      <td>0.5</td>\n      <td>7</td>\n      <td>0.01611</td>\n      <td>111992.36719</td>\n      <td>0</td>\n      <td>1</td>\n    </tr>\n    <tr>\n      <th>24</th>\n      <td>0.5</td>\n      <td>7</td>\n      <td>0.01612</td>\n      <td>111931.83594</td>\n      <td>0</td>\n      <td>1</td>\n    </tr>\n    <tr>\n      <th>25</th>\n      <td>0.5</td>\n      <td>7</td>\n      <td>0.01613</td>\n      <td>111871.41406</td>\n      <td>0</td>\n      <td>1</td>\n    </tr>\n    <tr>\n      <th>26</th>\n      <td>0.5</td>\n      <td>7</td>\n      <td>0.01614</td>\n      <td>111808.69531</td>\n      <td>0</td>\n      <td>1</td>\n    </tr>\n    <tr>\n      <th>27</th>\n      <td>0.5</td>\n      <td>7</td>\n      <td>0.01615</td>\n      <td>111748.65625</td>\n      <td>0</td>\n      <td>1</td>\n    </tr>\n    <tr>\n      <th>28</th>\n      <td>0.5</td>\n      <td>7</td>\n      <td>0.01616</td>\n      <td>111688.78125</td>\n      <td>0</td>\n      <td>1</td>\n    </tr>\n    <tr>\n      <th>29</th>\n      <td>0.5</td>\n      <td>7</td>\n      <td>0.01617</td>\n      <td>111629.06250</td>\n      <td>0</td>\n      <td>1</td>\n    </tr>\n  </tbody>\n</table>\n</div>"
     },
     "execution_count": 6,
     "metadata": {},
     "output_type": "execute_result"
    }
   ],
   "source": [
    "dataset_train.head(30)"
   ],
   "metadata": {
    "collapsed": false,
    "ExecuteTime": {
     "end_time": "2024-07-01T01:51:10.266124Z",
     "start_time": "2024-07-01T01:51:10.202740600Z"
    }
   }
  },
  {
   "cell_type": "code",
   "execution_count": 7,
   "metadata": {
    "ExecuteTime": {
     "end_time": "2024-07-01T01:51:11.514157300Z",
     "start_time": "2024-07-01T01:51:11.498521Z"
    }
   },
   "outputs": [
    {
     "name": "stdout",
     "output_type": "stream",
     "text": [
      "(365320, 5) (365320,)\n"
     ]
    }
   ],
   "source": [
    "y = dataset_train['Pressure']\n",
    "X = dataset_train.drop(['Pressure'], axis=1)\n",
    "print(X.shape, y.shape)"
   ]
  },
  {
   "cell_type": "code",
   "execution_count": 8,
   "metadata": {
    "ExecuteTime": {
     "end_time": "2024-07-01T01:51:12.466600900Z",
     "start_time": "2024-07-01T01:51:12.418774800Z"
    }
   },
   "outputs": [],
   "source": [
    "# convert to numpy array\n",
    "X = np.array(X)\n",
    "y = np.array(y)"
   ]
  },
  {
   "cell_type": "markdown",
   "metadata": {
    "colab_type": "text",
    "id": "VC6omXel_Up0"
   },
   "source": [
    "### Splitting the dataset into the Training set and Test set"
   ]
  },
  {
   "cell_type": "code",
   "execution_count": 9,
   "metadata": {
    "colab": {},
    "colab_type": "code",
    "id": "L5edeb2r_agx",
    "ExecuteTime": {
     "end_time": "2024-07-01T01:51:14.478688200Z",
     "start_time": "2024-07-01T01:51:13.632404500Z"
    }
   },
   "outputs": [],
   "source": [
    "from sklearn.model_selection import train_test_split\n",
    "X_train, X_test, y_train, y_test = train_test_split(X,\n",
    "                                                    y,\n",
    "                                                    test_size = 0.4,\n",
    "                                                    random_state = 0)"
   ]
  },
  {
   "cell_type": "code",
   "execution_count": 10,
   "metadata": {
    "colab": {},
    "colab_type": "code",
    "id": "L5edeb2r_agx",
    "ExecuteTime": {
     "end_time": "2024-07-01T01:51:15.294915600Z",
     "start_time": "2024-07-01T01:51:15.263258500Z"
    }
   },
   "outputs": [],
   "source": [
    "X_val, X_test, y_val, y_test = train_test_split(X_test,\n",
    "                                                y_test,\n",
    "                                                test_size = 0.5,\n",
    "                                                random_state = 0)"
   ]
  },
  {
   "cell_type": "markdown",
   "source": [
    "## Feature scaling"
   ],
   "metadata": {
    "collapsed": false
   }
  },
  {
   "cell_type": "code",
   "execution_count": 11,
   "outputs": [
    {
     "name": "stdout",
     "output_type": "stream",
     "text": [
      "[[-1.9215324  -1.25843172 -0.75775388  1.          0.        ]\n",
      " [ 1.34003331 -0.03361115 -0.1396086   1.          0.        ]\n",
      " [-1.41191276 -0.03361115  0.51024511  1.          0.        ]\n",
      " ...\n",
      " [ 0.01502224  1.19120942  0.32091329  1.          0.        ]\n",
      " [-0.39267348 -0.03361115  1.27366789  1.          0.        ]\n",
      " [ 1.23810938 -1.25843172 -0.58252938  1.          0.        ]]\n"
     ]
    }
   ],
   "source": [
    "from sklearn.preprocessing import StandardScaler\n",
    "sc = StandardScaler()\n",
    "X_train[:,0:3] = sc.fit_transform(X_train[:, 0:3])\n",
    "print (X_train)"
   ],
   "metadata": {
    "collapsed": false,
    "ExecuteTime": {
     "end_time": "2024-07-01T01:51:17.010006500Z",
     "start_time": "2024-07-01T01:51:16.931429Z"
    }
   }
  },
  {
   "cell_type": "code",
   "execution_count": 12,
   "outputs": [
    {
     "name": "stdout",
     "output_type": "stream",
     "text": [
      "[[-1.51383669 -1.25843172 -1.4384369   1.          0.        ]\n",
      " [ 0.93233759 -0.03361115 -0.28137247  1.          0.        ]\n",
      " [ 1.4929192  -1.25843172 -1.74927581  0.          1.        ]\n",
      " ...\n",
      " [-0.39267348 -1.25843172 -1.07916175  1.          0.        ]\n",
      " [ 1.44195724 -1.25843172  0.27953943  1.          0.        ]\n",
      " [-1.51383669 -0.03361115  0.22406506  1.          0.        ]]\n"
     ]
    }
   ],
   "source": [
    "X_test[:,0:3] = sc.transform(X_test[:,0:3])\n",
    "print (X_test)"
   ],
   "metadata": {
    "collapsed": false,
    "ExecuteTime": {
     "end_time": "2024-07-01T01:51:18.248117900Z",
     "start_time": "2024-07-01T01:51:18.184624300Z"
    }
   }
  },
  {
   "cell_type": "code",
   "execution_count": 13,
   "outputs": [
    {
     "name": "stdout",
     "output_type": "stream",
     "text": [
      "[[-0.90229312 -0.03361115 -0.04186632  1.          0.        ]\n",
      " [-0.08690169 -0.03361115 -1.13552477  1.          0.        ]\n",
      " [ 0.42271795 -0.03361115 -0.11408368  1.          0.        ]\n",
      " ...\n",
      " [-1.10614097 -0.03361115 -1.07036259  1.          0.        ]\n",
      " [-1.10614097 -0.03361115 -0.79651552  1.          0.        ]\n",
      " [ 0.72848974 -1.25843172 -0.2400055   1.          0.        ]]\n"
     ]
    }
   ],
   "source": [
    "X_val[:,0:3] = sc.transform(X_val[:,0:3])\n",
    "print (X_val)"
   ],
   "metadata": {
    "collapsed": false,
    "ExecuteTime": {
     "end_time": "2024-07-01T01:51:19.708872800Z",
     "start_time": "2024-07-01T01:51:19.629694700Z"
    }
   }
  },
  {
   "cell_type": "code",
   "execution_count": 14,
   "outputs": [
    {
     "name": "stdout",
     "output_type": "stream",
     "text": [
      "X_train 219192\n",
      "X_test 73064\n",
      "X_val 73064\n"
     ]
    }
   ],
   "source": [
    "print (\"X_train\", len(X_train))\n",
    "print (\"X_test\", len(X_test))\n",
    "print (\"X_val\", len(X_val))"
   ],
   "metadata": {
    "collapsed": false,
    "ExecuteTime": {
     "end_time": "2024-07-01T01:51:20.629309900Z",
     "start_time": "2024-07-01T01:51:20.549973100Z"
    }
   }
  },
  {
   "cell_type": "markdown",
   "metadata": {
    "colab_type": "text",
    "id": "_mSLlAT9_eyI"
   },
   "source": [
    "## Part 3 - Building the ANN"
   ]
  },
  {
   "cell_type": "code",
   "execution_count": null,
   "outputs": [],
   "source": [
    "from tensorflow.keras.Model import Sequential\n",
    "#from tensorflow.keras.layers import Dense"
   ],
   "metadata": {
    "collapsed": false
   }
  },
  {
   "cell_type": "markdown",
   "metadata": {
    "colab_type": "text",
    "id": "CsBULd_f_wLY",
    "ExecuteTime": {
     "end_time": "2024-05-17T00:22:15.936573100Z",
     "start_time": "2024-05-17T00:22:15.887018800Z"
    }
   },
   "source": [
    "### Initializing the ANN"
   ]
  },
  {
   "cell_type": "code",
   "execution_count": 15,
   "metadata": {
    "colab": {},
    "colab_type": "code",
    "id": "J6Hd97Ls__Nz",
    "ExecuteTime": {
     "end_time": "2024-07-01T01:51:23.516783Z",
     "start_time": "2024-07-01T01:51:23.437022900Z"
    }
   },
   "outputs": [],
   "source": [
    "ann = tf.keras.models.Sequential()"
   ]
  },
  {
   "cell_type": "markdown",
   "metadata": {
    "colab_type": "text",
    "id": "iitAFJS_ABUn",
    "ExecuteTime": {
     "end_time": "2024-05-17T00:22:27.900273900Z",
     "start_time": "2024-05-17T00:22:27.795675300Z"
    }
   },
   "source": [
    "### Adding the input layers"
   ]
  },
  {
   "cell_type": "code",
   "execution_count": 16,
   "metadata": {
    "colab": {},
    "colab_type": "code",
    "id": "ksO_Vv40AHix",
    "ExecuteTime": {
     "end_time": "2024-07-01T01:51:25.487249500Z",
     "start_time": "2024-07-01T01:51:25.423794500Z"
    }
   },
   "outputs": [],
   "source": [
    "ann.add(tf.keras.layers.Dense(units=200,\n",
    "                              input_shape=(X_train.shape[1],),\n",
    "                              activation='leaky_relu'))"
   ]
  },
  {
   "cell_type": "code",
   "execution_count": 17,
   "outputs": [],
   "source": [
    "ann.add(tf.keras.layers.Dense(units=150,\n",
    "                              input_shape=(X_train.shape[1],),\n",
    "                              activation='leaky_relu'))"
   ],
   "metadata": {
    "collapsed": false,
    "ExecuteTime": {
     "end_time": "2024-07-01T01:51:26.993974Z",
     "start_time": "2024-07-01T01:51:26.961239200Z"
    }
   }
  },
  {
   "cell_type": "code",
   "execution_count": 18,
   "outputs": [],
   "source": [
    "ann.add(tf.keras.layers.Dense(units=125,\n",
    "                              input_shape=(X_train.shape[1],),\n",
    "                              activation='leaky_relu'))"
   ],
   "metadata": {
    "collapsed": false,
    "ExecuteTime": {
     "end_time": "2024-07-01T01:51:28.329498500Z",
     "start_time": "2024-07-01T01:51:28.283470600Z"
    }
   }
  },
  {
   "cell_type": "code",
   "execution_count": 19,
   "metadata": {
    "colab": {},
    "colab_type": "code",
    "id": "c2357OqEAQOQ",
    "tags": [],
    "ExecuteTime": {
     "end_time": "2024-07-01T01:51:29.416301400Z",
     "start_time": "2024-07-01T01:51:29.384651400Z"
    }
   },
   "outputs": [],
   "source": [
    "ann.add(tf.keras.layers.Dense(units=100,\n",
    "                              activation='leaky_relu'))"
   ]
  },
  {
   "cell_type": "markdown",
   "metadata": {
    "colab_type": "text",
    "id": "jwMOmKb3AdBY",
    "ExecuteTime": {
     "end_time": "2024-05-17T00:22:40.768498200Z",
     "start_time": "2024-05-17T00:22:40.691380600Z"
    }
   },
   "source": [
    "### Adding the output layer"
   ]
  },
  {
   "cell_type": "code",
   "execution_count": 20,
   "metadata": {
    "colab": {},
    "colab_type": "code",
    "id": "YFATpzsUAkLL",
    "ExecuteTime": {
     "end_time": "2024-07-01T01:51:30.634703500Z",
     "start_time": "2024-07-01T01:51:30.571732200Z"
    }
   },
   "outputs": [],
   "source": [
    "ann.add(tf.keras.layers.Dense(units=1,\n",
    "                              activation='linear'))"
   ]
  },
  {
   "cell_type": "markdown",
   "metadata": {
    "ExecuteTime": {
     "end_time": "2024-05-17T00:22:43.128681100Z",
     "start_time": "2024-05-17T00:22:43.018520200Z"
    }
   },
   "source": [
    "### what model looks like"
   ]
  },
  {
   "cell_type": "code",
   "execution_count": 21,
   "metadata": {
    "ExecuteTime": {
     "end_time": "2024-07-01T01:51:32.184698800Z",
     "start_time": "2024-07-01T01:51:32.088070200Z"
    }
   },
   "outputs": [
    {
     "name": "stdout",
     "output_type": "stream",
     "text": [
      "Model: \"sequential\"\n",
      "_________________________________________________________________\n",
      " Layer (type)                Output Shape              Param #   \n",
      "=================================================================\n",
      " dense (Dense)               (None, 200)               1200      \n",
      "                                                                 \n",
      " dense_1 (Dense)             (None, 150)               30150     \n",
      "                                                                 \n",
      " dense_2 (Dense)             (None, 125)               18875     \n",
      "                                                                 \n",
      " dense_3 (Dense)             (None, 100)               12600     \n",
      "                                                                 \n",
      " dense_4 (Dense)             (None, 1)                 101       \n",
      "                                                                 \n",
      "=================================================================\n",
      "Total params: 62,926\n",
      "Trainable params: 62,926\n",
      "Non-trainable params: 0\n",
      "_________________________________________________________________\n"
     ]
    }
   ],
   "source": [
    "ann.summary()"
   ]
  },
  {
   "cell_type": "markdown",
   "metadata": {
    "colab_type": "text",
    "id": "fq7e4fF6A1yy"
   },
   "source": [
    "## Part 4 - Training the ANN"
   ]
  },
  {
   "cell_type": "markdown",
   "metadata": {
    "colab_type": "text",
    "id": "qDeylAs2An25",
    "ExecuteTime": {
     "end_time": "2024-05-17T00:22:48.075166100Z",
     "start_time": "2024-05-17T00:22:48.001599200Z"
    }
   },
   "source": [
    "### Compiling the ANN"
   ]
  },
  {
   "cell_type": "code",
   "execution_count": 22,
   "metadata": {
    "colab": {},
    "colab_type": "code",
    "id": "pesgbWlCAtB4",
    "ExecuteTime": {
     "end_time": "2024-07-01T01:51:34.391498100Z",
     "start_time": "2024-07-01T01:51:34.312173500Z"
    }
   },
   "outputs": [],
   "source": [
    "# from tensorflow.keras.optimizers import Adam\n",
    "from keras.optimizers import Adam\n",
    "opt = Adam(learning_rate=0.01)\n",
    "ann.compile(optimizer = opt,\n",
    "            loss = 'mean_squared_error',\n",
    "            metrics = ['mae'])"
   ]
  },
  {
   "cell_type": "markdown",
   "metadata": {
    "ExecuteTime": {
     "end_time": "2024-05-17T00:22:51.477040100Z",
     "start_time": "2024-05-17T00:22:51.410460500Z"
    }
   },
   "source": [
    "### early stopping callback"
   ]
  },
  {
   "cell_type": "code",
   "execution_count": 23,
   "metadata": {
    "ExecuteTime": {
     "end_time": "2024-07-01T01:51:36.978735100Z",
     "start_time": "2024-07-01T01:51:36.947470200Z"
    }
   },
   "outputs": [],
   "source": [
    "# protects from unnecessary further training of the model if a particular metric does not continue to improve over a number of n epochs. In such a case, the model training would be automatically aborted.\n",
    "from keras.callbacks import EarlyStopping\n",
    "es = EarlyStopping(monitor='val_loss',\n",
    "                   mode='min',\n",
    "                   patience=50,\n",
    "                   restore_best_weights = True)"
   ]
  },
  {
   "cell_type": "markdown",
   "metadata": {
    "colab_type": "text",
    "id": "YjVuiybYOo7r",
    "ExecuteTime": {
     "end_time": "2024-05-17T08:14:04.840731900Z",
     "start_time": "2024-05-17T07:02:12.663424400Z"
    }
   },
   "source": [
    "### Training the ANN model on the Training set"
   ]
  },
  {
   "cell_type": "code",
   "execution_count": 24,
   "metadata": {
    "colab": {
     "base_uri": "https://localhost:8080/",
     "height": 1000
    },
    "colab_type": "code",
    "id": "c_vV-tiiA5zn",
    "outputId": "4a2b6ee6-ed75-4698-9069-b250e613803f",
    "ExecuteTime": {
     "end_time": "2024-07-01T04:33:00.150378900Z",
     "start_time": "2024-07-01T01:51:57.400774300Z"
    }
   },
   "outputs": [
    {
     "name": "stdout",
     "output_type": "stream",
     "text": [
      "Epoch 1/400\n",
      "4384/4384 [==============================] - 20s 4ms/step - loss: 757665664.0000 - mae: 10748.1699 - val_loss: 613261184.0000 - val_mae: 6726.4653\n",
      "Epoch 2/400\n",
      "4384/4384 [==============================] - 21s 5ms/step - loss: 489334272.0000 - mae: 8228.9912 - val_loss: 246382208.0000 - val_mae: 6089.4668\n",
      "Epoch 3/400\n",
      "4384/4384 [==============================] - 21s 5ms/step - loss: 348212032.0000 - mae: 7220.8452 - val_loss: 274769408.0000 - val_mae: 6056.1064\n",
      "Epoch 4/400\n",
      "4384/4384 [==============================] - 21s 5ms/step - loss: 287239264.0000 - mae: 6994.7266 - val_loss: 241680608.0000 - val_mae: 5238.8535\n",
      "Epoch 5/400\n",
      "4384/4384 [==============================] - 20s 5ms/step - loss: 263978048.0000 - mae: 6867.4341 - val_loss: 295079552.0000 - val_mae: 8049.6338\n",
      "Epoch 6/400\n",
      "4384/4384 [==============================] - 20s 5ms/step - loss: 258965328.0000 - mae: 6846.2007 - val_loss: 183684032.0000 - val_mae: 6241.7280\n",
      "Epoch 7/400\n",
      "4384/4384 [==============================] - 20s 5ms/step - loss: 239662368.0000 - mae: 6662.2812 - val_loss: 190319424.0000 - val_mae: 5629.6162\n",
      "Epoch 8/400\n",
      "4384/4384 [==============================] - 20s 5ms/step - loss: 243094272.0000 - mae: 6520.7754 - val_loss: 145289664.0000 - val_mae: 5295.4800\n",
      "Epoch 9/400\n",
      "4384/4384 [==============================] - 21s 5ms/step - loss: 219977312.0000 - mae: 6140.4175 - val_loss: 120568472.0000 - val_mae: 4484.5547\n",
      "Epoch 10/400\n",
      "4384/4384 [==============================] - 21s 5ms/step - loss: 190463392.0000 - mae: 5823.2256 - val_loss: 96449640.0000 - val_mae: 4339.2925\n",
      "Epoch 11/400\n",
      "4384/4384 [==============================] - 21s 5ms/step - loss: 233482208.0000 - mae: 6079.8408 - val_loss: 370556288.0000 - val_mae: 8244.0439\n",
      "Epoch 12/400\n",
      "4384/4384 [==============================] - 21s 5ms/step - loss: 193802720.0000 - mae: 5772.0146 - val_loss: 290327584.0000 - val_mae: 5870.1475\n",
      "Epoch 13/400\n",
      "4384/4384 [==============================] - 21s 5ms/step - loss: 203347376.0000 - mae: 5872.1201 - val_loss: 139652656.0000 - val_mae: 5319.7588\n",
      "Epoch 14/400\n",
      "4384/4384 [==============================] - 21s 5ms/step - loss: 214551792.0000 - mae: 5731.6167 - val_loss: 138571616.0000 - val_mae: 6542.1235\n",
      "Epoch 15/400\n",
      "4384/4384 [==============================] - 21s 5ms/step - loss: 186325920.0000 - mae: 5495.5327 - val_loss: 87843816.0000 - val_mae: 4165.3027\n",
      "Epoch 16/400\n",
      "4384/4384 [==============================] - 21s 5ms/step - loss: 189145776.0000 - mae: 5463.2334 - val_loss: 112872168.0000 - val_mae: 4873.8359\n",
      "Epoch 17/400\n",
      "4384/4384 [==============================] - 21s 5ms/step - loss: 182410400.0000 - mae: 5407.5063 - val_loss: 106630576.0000 - val_mae: 4879.7959\n",
      "Epoch 18/400\n",
      "4384/4384 [==============================] - 21s 5ms/step - loss: 175624256.0000 - mae: 5421.5142 - val_loss: 102034944.0000 - val_mae: 4330.9209\n",
      "Epoch 19/400\n",
      "4384/4384 [==============================] - 21s 5ms/step - loss: 165792368.0000 - mae: 5205.0161 - val_loss: 84666648.0000 - val_mae: 4535.5151\n",
      "Epoch 20/400\n",
      "4384/4384 [==============================] - 21s 5ms/step - loss: 152043120.0000 - mae: 5158.1060 - val_loss: 74367088.0000 - val_mae: 4691.4902\n",
      "Epoch 21/400\n",
      "4384/4384 [==============================] - 21s 5ms/step - loss: 174557632.0000 - mae: 5335.8345 - val_loss: 501841792.0000 - val_mae: 6336.0796\n",
      "Epoch 22/400\n",
      "4384/4384 [==============================] - 21s 5ms/step - loss: 165602160.0000 - mae: 5180.5010 - val_loss: 76298944.0000 - val_mae: 4841.2979\n",
      "Epoch 23/400\n",
      "4384/4384 [==============================] - 21s 5ms/step - loss: 162750656.0000 - mae: 5293.6719 - val_loss: 119324968.0000 - val_mae: 5308.6558\n",
      "Epoch 24/400\n",
      "4384/4384 [==============================] - 21s 5ms/step - loss: 178423472.0000 - mae: 5342.6357 - val_loss: 131225248.0000 - val_mae: 4730.2466\n",
      "Epoch 25/400\n",
      "4384/4384 [==============================] - 21s 5ms/step - loss: 141315648.0000 - mae: 5037.6328 - val_loss: 76703640.0000 - val_mae: 4251.6831\n",
      "Epoch 26/400\n",
      "4384/4384 [==============================] - 21s 5ms/step - loss: 145538416.0000 - mae: 5099.8643 - val_loss: 85221640.0000 - val_mae: 4193.0176\n",
      "Epoch 27/400\n",
      "4384/4384 [==============================] - 25s 6ms/step - loss: 131224888.0000 - mae: 5043.2563 - val_loss: 97894024.0000 - val_mae: 4346.3618\n",
      "Epoch 28/400\n",
      "4384/4384 [==============================] - 26s 6ms/step - loss: 146202048.0000 - mae: 5137.2061 - val_loss: 75629496.0000 - val_mae: 4328.2295\n",
      "Epoch 29/400\n",
      "4384/4384 [==============================] - 25s 6ms/step - loss: 158295104.0000 - mae: 5251.7139 - val_loss: 98966088.0000 - val_mae: 4172.7671\n",
      "Epoch 30/400\n",
      "4384/4384 [==============================] - 25s 6ms/step - loss: 145621840.0000 - mae: 5102.7637 - val_loss: 124915120.0000 - val_mae: 5543.1909\n",
      "Epoch 31/400\n",
      "4384/4384 [==============================] - 25s 6ms/step - loss: 137579296.0000 - mae: 5057.0986 - val_loss: 122415912.0000 - val_mae: 4393.3071\n",
      "Epoch 32/400\n",
      "4384/4384 [==============================] - 28s 6ms/step - loss: 145853680.0000 - mae: 5048.6714 - val_loss: 96992856.0000 - val_mae: 4766.1035\n",
      "Epoch 33/400\n",
      "4384/4384 [==============================] - 26s 6ms/step - loss: 156313248.0000 - mae: 5138.1460 - val_loss: 382096064.0000 - val_mae: 5930.9819\n",
      "Epoch 34/400\n",
      "4384/4384 [==============================] - 26s 6ms/step - loss: 129737072.0000 - mae: 4864.1260 - val_loss: 80994224.0000 - val_mae: 4628.4966\n",
      "Epoch 35/400\n",
      "4384/4384 [==============================] - 26s 6ms/step - loss: 141764960.0000 - mae: 4911.6904 - val_loss: 154936560.0000 - val_mae: 6299.7373\n",
      "Epoch 36/400\n",
      "4384/4384 [==============================] - 26s 6ms/step - loss: 146443984.0000 - mae: 4982.3486 - val_loss: 119899088.0000 - val_mae: 5102.6113\n",
      "Epoch 37/400\n",
      "4384/4384 [==============================] - 26s 6ms/step - loss: 157079936.0000 - mae: 4936.8022 - val_loss: 115410648.0000 - val_mae: 5003.2734\n",
      "Epoch 38/400\n",
      "4384/4384 [==============================] - 26s 6ms/step - loss: 130570328.0000 - mae: 4761.5088 - val_loss: 89881344.0000 - val_mae: 4336.7104\n",
      "Epoch 39/400\n",
      "4384/4384 [==============================] - 23s 5ms/step - loss: 122307984.0000 - mae: 4830.7920 - val_loss: 111919160.0000 - val_mae: 4610.6543\n",
      "Epoch 40/400\n",
      "4384/4384 [==============================] - 24s 5ms/step - loss: 135135568.0000 - mae: 4837.8032 - val_loss: 126893056.0000 - val_mae: 5542.6748\n",
      "Epoch 41/400\n",
      "4384/4384 [==============================] - 25s 6ms/step - loss: 125852160.0000 - mae: 4705.8320 - val_loss: 485571392.0000 - val_mae: 5541.2881\n",
      "Epoch 42/400\n",
      "4384/4384 [==============================] - 24s 5ms/step - loss: 113832568.0000 - mae: 4611.1460 - val_loss: 102731312.0000 - val_mae: 4242.0640\n",
      "Epoch 43/400\n",
      "4384/4384 [==============================] - 26s 6ms/step - loss: 125921504.0000 - mae: 4631.4185 - val_loss: 104833752.0000 - val_mae: 4151.6406\n",
      "Epoch 44/400\n",
      "4384/4384 [==============================] - 25s 6ms/step - loss: 132954376.0000 - mae: 4725.4575 - val_loss: 123345208.0000 - val_mae: 4364.9746\n",
      "Epoch 45/400\n",
      "4384/4384 [==============================] - 25s 6ms/step - loss: 117559000.0000 - mae: 4598.1714 - val_loss: 102893304.0000 - val_mae: 4538.4819\n",
      "Epoch 46/400\n",
      "4384/4384 [==============================] - 24s 5ms/step - loss: 117283488.0000 - mae: 4609.2759 - val_loss: 73605848.0000 - val_mae: 4197.2104\n",
      "Epoch 47/400\n",
      "4384/4384 [==============================] - 25s 6ms/step - loss: 111681176.0000 - mae: 4581.0137 - val_loss: 65143796.0000 - val_mae: 3965.4536\n",
      "Epoch 48/400\n",
      "4384/4384 [==============================] - 24s 6ms/step - loss: 114237792.0000 - mae: 4583.5054 - val_loss: 76747472.0000 - val_mae: 4615.2837\n",
      "Epoch 49/400\n",
      "4384/4384 [==============================] - 25s 6ms/step - loss: 106915632.0000 - mae: 4502.8818 - val_loss: 71715328.0000 - val_mae: 4272.2573\n",
      "Epoch 50/400\n",
      "4384/4384 [==============================] - 25s 6ms/step - loss: 140134544.0000 - mae: 4691.7393 - val_loss: 97092648.0000 - val_mae: 5056.3354\n",
      "Epoch 51/400\n",
      "4384/4384 [==============================] - 26s 6ms/step - loss: 117288960.0000 - mae: 4603.4839 - val_loss: 104263232.0000 - val_mae: 4453.4565\n",
      "Epoch 52/400\n",
      "4384/4384 [==============================] - 25s 6ms/step - loss: 115066288.0000 - mae: 4610.2192 - val_loss: 431393792.0000 - val_mae: 6644.3472\n",
      "Epoch 53/400\n",
      "4384/4384 [==============================] - 25s 6ms/step - loss: 106918384.0000 - mae: 4474.3784 - val_loss: 72581888.0000 - val_mae: 4060.4832\n",
      "Epoch 54/400\n",
      "4384/4384 [==============================] - 22s 5ms/step - loss: 109667136.0000 - mae: 4487.6592 - val_loss: 90571216.0000 - val_mae: 4641.2900\n",
      "Epoch 55/400\n",
      "4384/4384 [==============================] - 25s 6ms/step - loss: 134133616.0000 - mae: 4659.0508 - val_loss: 527623104.0000 - val_mae: 7674.5830\n",
      "Epoch 56/400\n",
      "4384/4384 [==============================] - 23s 5ms/step - loss: 110952032.0000 - mae: 4481.4595 - val_loss: 79105312.0000 - val_mae: 4097.9067\n",
      "Epoch 57/400\n",
      "4384/4384 [==============================] - 25s 6ms/step - loss: 108797656.0000 - mae: 4522.5581 - val_loss: 64617708.0000 - val_mae: 4298.6138\n",
      "Epoch 58/400\n",
      "4384/4384 [==============================] - 23s 5ms/step - loss: 111286776.0000 - mae: 4472.5474 - val_loss: 63998044.0000 - val_mae: 4087.2651\n",
      "Epoch 59/400\n",
      "4384/4384 [==============================] - 26s 6ms/step - loss: 115536648.0000 - mae: 4490.3950 - val_loss: 66599844.0000 - val_mae: 4212.1958\n",
      "Epoch 60/400\n",
      "4384/4384 [==============================] - 23s 5ms/step - loss: 99343240.0000 - mae: 4390.5557 - val_loss: 141518512.0000 - val_mae: 4684.3638\n",
      "Epoch 61/400\n",
      "4384/4384 [==============================] - 26s 6ms/step - loss: 109320720.0000 - mae: 4479.7344 - val_loss: 138310912.0000 - val_mae: 4727.6826\n",
      "Epoch 62/400\n",
      "4384/4384 [==============================] - 25s 6ms/step - loss: 104627736.0000 - mae: 4459.4937 - val_loss: 183176848.0000 - val_mae: 5172.6104\n",
      "Epoch 63/400\n",
      "4384/4384 [==============================] - 22s 5ms/step - loss: 108539208.0000 - mae: 4473.9897 - val_loss: 76751560.0000 - val_mae: 4379.7417\n",
      "Epoch 64/400\n",
      "4384/4384 [==============================] - 26s 6ms/step - loss: 99564464.0000 - mae: 4363.8813 - val_loss: 53133764.0000 - val_mae: 4111.2583\n",
      "Epoch 65/400\n",
      "4384/4384 [==============================] - 27s 6ms/step - loss: 107477480.0000 - mae: 4459.6929 - val_loss: 68364824.0000 - val_mae: 4222.1074\n",
      "Epoch 66/400\n",
      "4384/4384 [==============================] - 25s 6ms/step - loss: 102628680.0000 - mae: 4374.6113 - val_loss: 54495116.0000 - val_mae: 3876.5571\n",
      "Epoch 67/400\n",
      "4384/4384 [==============================] - 27s 6ms/step - loss: 98940832.0000 - mae: 4387.0356 - val_loss: 56153712.0000 - val_mae: 4105.8174\n",
      "Epoch 68/400\n",
      "4384/4384 [==============================] - 26s 6ms/step - loss: 102327792.0000 - mae: 4380.6914 - val_loss: 63900620.0000 - val_mae: 4030.1460\n",
      "Epoch 69/400\n",
      "4384/4384 [==============================] - 26s 6ms/step - loss: 111935232.0000 - mae: 4488.2163 - val_loss: 58135472.0000 - val_mae: 4532.1748\n",
      "Epoch 70/400\n",
      "4384/4384 [==============================] - 26s 6ms/step - loss: 98995864.0000 - mae: 4335.5762 - val_loss: 56784488.0000 - val_mae: 4104.1753\n",
      "Epoch 71/400\n",
      "4384/4384 [==============================] - 24s 6ms/step - loss: 83788400.0000 - mae: 4248.8442 - val_loss: 65237756.0000 - val_mae: 4143.5684\n",
      "Epoch 72/400\n",
      "4384/4384 [==============================] - 24s 6ms/step - loss: 109288776.0000 - mae: 4482.0962 - val_loss: 99191688.0000 - val_mae: 4228.2314\n",
      "Epoch 73/400\n",
      "4384/4384 [==============================] - 26s 6ms/step - loss: 97303776.0000 - mae: 4314.5488 - val_loss: 52959652.0000 - val_mae: 4106.7588\n",
      "Epoch 74/400\n",
      "4384/4384 [==============================] - 25s 6ms/step - loss: 84928072.0000 - mae: 4270.0942 - val_loss: 98635808.0000 - val_mae: 4392.4014\n",
      "Epoch 75/400\n",
      "4384/4384 [==============================] - 25s 6ms/step - loss: 103805224.0000 - mae: 4363.9448 - val_loss: 59734216.0000 - val_mae: 3946.9700\n",
      "Epoch 76/400\n",
      "4384/4384 [==============================] - 26s 6ms/step - loss: 90583096.0000 - mae: 4311.9722 - val_loss: 76730832.0000 - val_mae: 3992.0796\n",
      "Epoch 77/400\n",
      "4384/4384 [==============================] - 25s 6ms/step - loss: 99605168.0000 - mae: 4319.0220 - val_loss: 56698060.0000 - val_mae: 4046.1794\n",
      "Epoch 78/400\n",
      "4384/4384 [==============================] - 27s 6ms/step - loss: 85105112.0000 - mae: 4241.8750 - val_loss: 172001536.0000 - val_mae: 5164.3589\n",
      "Epoch 79/400\n",
      "4384/4384 [==============================] - 25s 6ms/step - loss: 103811176.0000 - mae: 4392.9116 - val_loss: 89495704.0000 - val_mae: 4036.6140\n",
      "Epoch 80/400\n",
      "4384/4384 [==============================] - 24s 6ms/step - loss: 92744568.0000 - mae: 4299.5566 - val_loss: 264736368.0000 - val_mae: 4949.8198\n",
      "Epoch 81/400\n",
      "4384/4384 [==============================] - 25s 6ms/step - loss: 113167288.0000 - mae: 4409.8979 - val_loss: 84305512.0000 - val_mae: 4069.2070\n",
      "Epoch 82/400\n",
      "4384/4384 [==============================] - 26s 6ms/step - loss: 91464536.0000 - mae: 4285.8223 - val_loss: 230425344.0000 - val_mae: 7451.5981\n",
      "Epoch 83/400\n",
      "4384/4384 [==============================] - 24s 6ms/step - loss: 95718288.0000 - mae: 4335.9121 - val_loss: 95010008.0000 - val_mae: 4114.4614\n",
      "Epoch 84/400\n",
      "4384/4384 [==============================] - 25s 6ms/step - loss: 86890960.0000 - mae: 4251.7246 - val_loss: 66352664.0000 - val_mae: 4074.4146\n",
      "Epoch 85/400\n",
      "4384/4384 [==============================] - 23s 5ms/step - loss: 101927152.0000 - mae: 4293.8267 - val_loss: 48672104.0000 - val_mae: 3990.0273\n",
      "Epoch 86/400\n",
      "4384/4384 [==============================] - 24s 5ms/step - loss: 90622024.0000 - mae: 4279.7500 - val_loss: 121445160.0000 - val_mae: 4767.8066\n",
      "Epoch 87/400\n",
      "4384/4384 [==============================] - 26s 6ms/step - loss: 90650424.0000 - mae: 4159.4082 - val_loss: 131170608.0000 - val_mae: 4617.4092\n",
      "Epoch 88/400\n",
      "4384/4384 [==============================] - 24s 5ms/step - loss: 92376592.0000 - mae: 4123.5244 - val_loss: 311893088.0000 - val_mae: 6434.0229\n",
      "Epoch 89/400\n",
      "4384/4384 [==============================] - 25s 6ms/step - loss: 81745608.0000 - mae: 3978.9666 - val_loss: 73046520.0000 - val_mae: 3795.6868\n",
      "Epoch 90/400\n",
      "4384/4384 [==============================] - 24s 6ms/step - loss: 71673648.0000 - mae: 3881.1277 - val_loss: 73608456.0000 - val_mae: 4046.4048\n",
      "Epoch 91/400\n",
      "4384/4384 [==============================] - 24s 6ms/step - loss: 83736264.0000 - mae: 3880.4858 - val_loss: 47093048.0000 - val_mae: 3500.3611\n",
      "Epoch 92/400\n",
      "4384/4384 [==============================] - 25s 6ms/step - loss: 81288008.0000 - mae: 3812.5830 - val_loss: 53305084.0000 - val_mae: 3405.6399\n",
      "Epoch 93/400\n",
      "4384/4384 [==============================] - 25s 6ms/step - loss: 74501024.0000 - mae: 3713.4705 - val_loss: 52590200.0000 - val_mae: 3369.1458\n",
      "Epoch 94/400\n",
      "4384/4384 [==============================] - 24s 5ms/step - loss: 82269992.0000 - mae: 3705.2981 - val_loss: 66171892.0000 - val_mae: 3732.3630\n",
      "Epoch 95/400\n",
      "4384/4384 [==============================] - 24s 6ms/step - loss: 78418296.0000 - mae: 3715.4836 - val_loss: 87187512.0000 - val_mae: 4008.0884\n",
      "Epoch 96/400\n",
      "4384/4384 [==============================] - 24s 5ms/step - loss: 94660784.0000 - mae: 3934.9871 - val_loss: 38458136.0000 - val_mae: 3343.5249\n",
      "Epoch 97/400\n",
      "4384/4384 [==============================] - 24s 5ms/step - loss: 97991072.0000 - mae: 3830.7920 - val_loss: 79732208.0000 - val_mae: 3843.5923\n",
      "Epoch 98/400\n",
      "4384/4384 [==============================] - 24s 6ms/step - loss: 79496552.0000 - mae: 3665.1047 - val_loss: 312345632.0000 - val_mae: 5370.6675\n",
      "Epoch 99/400\n",
      "4384/4384 [==============================] - 24s 6ms/step - loss: 76164624.0000 - mae: 3614.3240 - val_loss: 41597404.0000 - val_mae: 3276.1650\n",
      "Epoch 100/400\n",
      "4384/4384 [==============================] - 25s 6ms/step - loss: 79742496.0000 - mae: 3540.1587 - val_loss: 144614304.0000 - val_mae: 4571.5010\n",
      "Epoch 101/400\n",
      "4384/4384 [==============================] - 25s 6ms/step - loss: 68766000.0000 - mae: 3450.0132 - val_loss: 32358004.0000 - val_mae: 2955.5583\n",
      "Epoch 102/400\n",
      "4384/4384 [==============================] - 26s 6ms/step - loss: 79707872.0000 - mae: 3478.1648 - val_loss: 51314628.0000 - val_mae: 3211.3916\n",
      "Epoch 103/400\n",
      "4384/4384 [==============================] - 25s 6ms/step - loss: 76653544.0000 - mae: 3444.0486 - val_loss: 122273800.0000 - val_mae: 3710.4836\n",
      "Epoch 104/400\n",
      "4384/4384 [==============================] - 24s 5ms/step - loss: 74716352.0000 - mae: 3404.6345 - val_loss: 34385676.0000 - val_mae: 3092.3103\n",
      "Epoch 105/400\n",
      "4384/4384 [==============================] - 26s 6ms/step - loss: 80137544.0000 - mae: 3452.8350 - val_loss: 36609472.0000 - val_mae: 2960.8213\n",
      "Epoch 106/400\n",
      "4384/4384 [==============================] - 24s 5ms/step - loss: 76114568.0000 - mae: 3391.5029 - val_loss: 36881056.0000 - val_mae: 2996.1514\n",
      "Epoch 107/400\n",
      "4384/4384 [==============================] - 27s 6ms/step - loss: 57334780.0000 - mae: 3274.8462 - val_loss: 41439244.0000 - val_mae: 3111.1914\n",
      "Epoch 108/400\n",
      "4384/4384 [==============================] - 24s 6ms/step - loss: 68106520.0000 - mae: 3322.9785 - val_loss: 26652964.0000 - val_mae: 3083.3806\n",
      "Epoch 109/400\n",
      "4384/4384 [==============================] - 25s 6ms/step - loss: 79104424.0000 - mae: 3400.9802 - val_loss: 27491802.0000 - val_mae: 2918.0945\n",
      "Epoch 110/400\n",
      "4384/4384 [==============================] - 24s 5ms/step - loss: 69613280.0000 - mae: 3320.5781 - val_loss: 34030516.0000 - val_mae: 3135.0488\n",
      "Epoch 111/400\n",
      "4384/4384 [==============================] - 26s 6ms/step - loss: 74601224.0000 - mae: 3326.9150 - val_loss: 30791634.0000 - val_mae: 3008.9167\n",
      "Epoch 112/400\n",
      "4384/4384 [==============================] - 26s 6ms/step - loss: 68078824.0000 - mae: 3194.7712 - val_loss: 44203572.0000 - val_mae: 2809.3625\n",
      "Epoch 113/400\n",
      "4384/4384 [==============================] - 24s 5ms/step - loss: 83013512.0000 - mae: 3181.8691 - val_loss: 101037488.0000 - val_mae: 4063.5862\n",
      "Epoch 114/400\n",
      "4384/4384 [==============================] - 25s 6ms/step - loss: 68655400.0000 - mae: 2913.5845 - val_loss: 25747610.0000 - val_mae: 2378.3315\n",
      "Epoch 115/400\n",
      "4384/4384 [==============================] - 26s 6ms/step - loss: 63220628.0000 - mae: 2804.4270 - val_loss: 67690664.0000 - val_mae: 2795.9512\n",
      "Epoch 116/400\n",
      "4384/4384 [==============================] - 25s 6ms/step - loss: 58223232.0000 - mae: 2682.7908 - val_loss: 56699204.0000 - val_mae: 2875.8601\n",
      "Epoch 117/400\n",
      "4384/4384 [==============================] - 25s 6ms/step - loss: 64732460.0000 - mae: 2643.9500 - val_loss: 27879652.0000 - val_mae: 2205.7493\n",
      "Epoch 118/400\n",
      "4384/4384 [==============================] - 24s 6ms/step - loss: 55213712.0000 - mae: 2596.3804 - val_loss: 30660810.0000 - val_mae: 2487.8694\n",
      "Epoch 119/400\n",
      "4384/4384 [==============================] - 24s 5ms/step - loss: 63862796.0000 - mae: 2654.9497 - val_loss: 127066776.0000 - val_mae: 3659.3965\n",
      "Epoch 120/400\n",
      "4384/4384 [==============================] - 27s 6ms/step - loss: 56091884.0000 - mae: 2611.7700 - val_loss: 35477056.0000 - val_mae: 2520.8831\n",
      "Epoch 121/400\n",
      "4384/4384 [==============================] - 27s 6ms/step - loss: 57591420.0000 - mae: 2601.0105 - val_loss: 24254856.0000 - val_mae: 2243.3252\n",
      "Epoch 122/400\n",
      "4384/4384 [==============================] - 27s 6ms/step - loss: 67742832.0000 - mae: 2613.6311 - val_loss: 35932652.0000 - val_mae: 2311.7014\n",
      "Epoch 123/400\n",
      "4384/4384 [==============================] - 27s 6ms/step - loss: 53489316.0000 - mae: 2559.7119 - val_loss: 48149952.0000 - val_mae: 2482.2673\n",
      "Epoch 124/400\n",
      "4384/4384 [==============================] - 26s 6ms/step - loss: 64420648.0000 - mae: 2646.0015 - val_loss: 48485548.0000 - val_mae: 2978.1306\n",
      "Epoch 125/400\n",
      "4384/4384 [==============================] - 27s 6ms/step - loss: 63893172.0000 - mae: 2632.3362 - val_loss: 30745260.0000 - val_mae: 2473.8770\n",
      "Epoch 126/400\n",
      "4384/4384 [==============================] - 26s 6ms/step - loss: 62385532.0000 - mae: 2560.0869 - val_loss: 21952228.0000 - val_mae: 2065.9556\n",
      "Epoch 127/400\n",
      "4384/4384 [==============================] - 25s 6ms/step - loss: 58138788.0000 - mae: 2496.6199 - val_loss: 80362216.0000 - val_mae: 2911.3877\n",
      "Epoch 128/400\n",
      "4384/4384 [==============================] - 27s 6ms/step - loss: 74663416.0000 - mae: 2646.2522 - val_loss: 86057728.0000 - val_mae: 2694.6047\n",
      "Epoch 129/400\n",
      "4384/4384 [==============================] - 27s 6ms/step - loss: 62909228.0000 - mae: 2553.2878 - val_loss: 68628648.0000 - val_mae: 2546.2771\n",
      "Epoch 130/400\n",
      "4384/4384 [==============================] - 28s 6ms/step - loss: 57355980.0000 - mae: 2556.7502 - val_loss: 25742600.0000 - val_mae: 2192.3943\n",
      "Epoch 131/400\n",
      "4384/4384 [==============================] - 27s 6ms/step - loss: 56897792.0000 - mae: 2480.9133 - val_loss: 26062798.0000 - val_mae: 2252.1023\n",
      "Epoch 132/400\n",
      "4384/4384 [==============================] - 27s 6ms/step - loss: 75466808.0000 - mae: 2594.8828 - val_loss: 39706348.0000 - val_mae: 2505.4216\n",
      "Epoch 133/400\n",
      "4384/4384 [==============================] - 26s 6ms/step - loss: 58740744.0000 - mae: 2492.4790 - val_loss: 24947278.0000 - val_mae: 2017.5594\n",
      "Epoch 134/400\n",
      "4384/4384 [==============================] - 26s 6ms/step - loss: 51838004.0000 - mae: 2462.8062 - val_loss: 129319096.0000 - val_mae: 4233.0601\n",
      "Epoch 135/400\n",
      "4384/4384 [==============================] - 26s 6ms/step - loss: 55384612.0000 - mae: 2490.7793 - val_loss: 31663112.0000 - val_mae: 2259.1255\n",
      "Epoch 136/400\n",
      "4384/4384 [==============================] - 27s 6ms/step - loss: 58927284.0000 - mae: 2519.6077 - val_loss: 153412992.0000 - val_mae: 3366.5085\n",
      "Epoch 137/400\n",
      "4384/4384 [==============================] - 28s 6ms/step - loss: 76877344.0000 - mae: 2546.7087 - val_loss: 31400320.0000 - val_mae: 2665.2217\n",
      "Epoch 138/400\n",
      "4384/4384 [==============================] - 24s 6ms/step - loss: 54656032.0000 - mae: 2481.8755 - val_loss: 31545772.0000 - val_mae: 2478.8828\n",
      "Epoch 139/400\n",
      "4384/4384 [==============================] - 26s 6ms/step - loss: 64980464.0000 - mae: 2543.4731 - val_loss: 27486318.0000 - val_mae: 2513.4707\n",
      "Epoch 140/400\n",
      "4384/4384 [==============================] - 26s 6ms/step - loss: 55230552.0000 - mae: 2469.6663 - val_loss: 22194784.0000 - val_mae: 2171.7810\n",
      "Epoch 141/400\n",
      "4384/4384 [==============================] - 26s 6ms/step - loss: 57536896.0000 - mae: 2510.2930 - val_loss: 50862848.0000 - val_mae: 2249.2183\n",
      "Epoch 142/400\n",
      "4384/4384 [==============================] - 21s 5ms/step - loss: 49169684.0000 - mae: 2378.3794 - val_loss: 138573536.0000 - val_mae: 3130.4695\n",
      "Epoch 143/400\n",
      "4384/4384 [==============================] - 21s 5ms/step - loss: 59283096.0000 - mae: 2439.2834 - val_loss: 25872666.0000 - val_mae: 2156.2849\n",
      "Epoch 144/400\n",
      "4384/4384 [==============================] - 22s 5ms/step - loss: 52752372.0000 - mae: 2390.7173 - val_loss: 20869102.0000 - val_mae: 2005.2152\n",
      "Epoch 145/400\n",
      "4384/4384 [==============================] - 22s 5ms/step - loss: 60046688.0000 - mae: 2439.2166 - val_loss: 21750370.0000 - val_mae: 2025.1632\n",
      "Epoch 146/400\n",
      "4384/4384 [==============================] - 22s 5ms/step - loss: 58564920.0000 - mae: 2474.0974 - val_loss: 38167832.0000 - val_mae: 2093.6848\n",
      "Epoch 147/400\n",
      "4384/4384 [==============================] - 22s 5ms/step - loss: 63443428.0000 - mae: 2486.7261 - val_loss: 37255224.0000 - val_mae: 2223.6643\n",
      "Epoch 148/400\n",
      "4384/4384 [==============================] - 22s 5ms/step - loss: 56416172.0000 - mae: 2413.4897 - val_loss: 21169984.0000 - val_mae: 2264.6694\n",
      "Epoch 149/400\n",
      "4384/4384 [==============================] - 21s 5ms/step - loss: 58917312.0000 - mae: 2398.1821 - val_loss: 20292386.0000 - val_mae: 2137.0349\n",
      "Epoch 150/400\n",
      "4384/4384 [==============================] - 21s 5ms/step - loss: 48613632.0000 - mae: 2322.4460 - val_loss: 19932982.0000 - val_mae: 1991.6439\n",
      "Epoch 151/400\n",
      "4384/4384 [==============================] - 21s 5ms/step - loss: 56128240.0000 - mae: 2421.1958 - val_loss: 22528358.0000 - val_mae: 2014.1914\n",
      "Epoch 152/400\n",
      "4384/4384 [==============================] - 22s 5ms/step - loss: 56612012.0000 - mae: 2342.8669 - val_loss: 240188672.0000 - val_mae: 3712.4099\n",
      "Epoch 153/400\n",
      "4384/4384 [==============================] - 22s 5ms/step - loss: 53908068.0000 - mae: 2416.2405 - val_loss: 27908940.0000 - val_mae: 2174.4863\n",
      "Epoch 154/400\n",
      "4384/4384 [==============================] - 22s 5ms/step - loss: 55518948.0000 - mae: 2340.2148 - val_loss: 18995076.0000 - val_mae: 2119.0491\n",
      "Epoch 155/400\n",
      "4384/4384 [==============================] - 22s 5ms/step - loss: 50453004.0000 - mae: 2322.8413 - val_loss: 256652288.0000 - val_mae: 5653.9678\n",
      "Epoch 156/400\n",
      "4384/4384 [==============================] - 22s 5ms/step - loss: 59901856.0000 - mae: 2415.7449 - val_loss: 32290548.0000 - val_mae: 2180.5449\n",
      "Epoch 157/400\n",
      "4384/4384 [==============================] - 22s 5ms/step - loss: 46869832.0000 - mae: 2336.3242 - val_loss: 65406412.0000 - val_mae: 2354.0266\n",
      "Epoch 158/400\n",
      "4384/4384 [==============================] - 22s 5ms/step - loss: 64764020.0000 - mae: 2409.9939 - val_loss: 20428252.0000 - val_mae: 2175.9512\n",
      "Epoch 159/400\n",
      "4384/4384 [==============================] - 21s 5ms/step - loss: 44859656.0000 - mae: 2224.7085 - val_loss: 17656822.0000 - val_mae: 1939.8914\n",
      "Epoch 160/400\n",
      "4384/4384 [==============================] - 22s 5ms/step - loss: 51639900.0000 - mae: 2330.2168 - val_loss: 87930616.0000 - val_mae: 2584.1873\n",
      "Epoch 161/400\n",
      "4384/4384 [==============================] - 22s 5ms/step - loss: 44275564.0000 - mae: 2245.6558 - val_loss: 30993344.0000 - val_mae: 2035.0054\n",
      "Epoch 162/400\n",
      "4384/4384 [==============================] - 21s 5ms/step - loss: 42333324.0000 - mae: 2243.8062 - val_loss: 92453344.0000 - val_mae: 2674.4893\n",
      "Epoch 163/400\n",
      "4384/4384 [==============================] - 21s 5ms/step - loss: 47612456.0000 - mae: 2248.0808 - val_loss: 19160052.0000 - val_mae: 2059.2871\n",
      "Epoch 164/400\n",
      "4384/4384 [==============================] - 21s 5ms/step - loss: 53370444.0000 - mae: 2315.7026 - val_loss: 24554954.0000 - val_mae: 2275.6074\n",
      "Epoch 165/400\n",
      "4384/4384 [==============================] - 22s 5ms/step - loss: 50252724.0000 - mae: 2307.8630 - val_loss: 58949036.0000 - val_mae: 2340.3560\n",
      "Epoch 166/400\n",
      "4384/4384 [==============================] - 21s 5ms/step - loss: 48672964.0000 - mae: 2281.4810 - val_loss: 29712888.0000 - val_mae: 2078.0378\n",
      "Epoch 167/400\n",
      "4384/4384 [==============================] - 22s 5ms/step - loss: 58226820.0000 - mae: 2358.2493 - val_loss: 56175608.0000 - val_mae: 2352.7925\n",
      "Epoch 168/400\n",
      "4384/4384 [==============================] - 22s 5ms/step - loss: 43529188.0000 - mae: 2200.9836 - val_loss: 27523466.0000 - val_mae: 1999.7159\n",
      "Epoch 169/400\n",
      "4384/4384 [==============================] - 22s 5ms/step - loss: 46619880.0000 - mae: 2248.1289 - val_loss: 74853552.0000 - val_mae: 3291.1233\n",
      "Epoch 170/400\n",
      "4384/4384 [==============================] - 22s 5ms/step - loss: 48733200.0000 - mae: 2256.0674 - val_loss: 25001036.0000 - val_mae: 2096.7571\n",
      "Epoch 171/400\n",
      "4384/4384 [==============================] - 22s 5ms/step - loss: 54824744.0000 - mae: 2305.6340 - val_loss: 214563264.0000 - val_mae: 2928.7568\n",
      "Epoch 172/400\n",
      "4384/4384 [==============================] - 22s 5ms/step - loss: 52994436.0000 - mae: 2311.1548 - val_loss: 28060930.0000 - val_mae: 2071.8398\n",
      "Epoch 173/400\n",
      "4384/4384 [==============================] - 22s 5ms/step - loss: 45183680.0000 - mae: 2218.1838 - val_loss: 28813204.0000 - val_mae: 2089.8120\n",
      "Epoch 174/400\n",
      "4384/4384 [==============================] - 22s 5ms/step - loss: 47872412.0000 - mae: 2270.7703 - val_loss: 18157640.0000 - val_mae: 1837.6544\n",
      "Epoch 175/400\n",
      "4384/4384 [==============================] - 22s 5ms/step - loss: 46588488.0000 - mae: 2228.2681 - val_loss: 65725836.0000 - val_mae: 3262.3311\n",
      "Epoch 176/400\n",
      "4384/4384 [==============================] - 22s 5ms/step - loss: 56652960.0000 - mae: 2293.6445 - val_loss: 50492788.0000 - val_mae: 3269.7800\n",
      "Epoch 177/400\n",
      "4384/4384 [==============================] - 22s 5ms/step - loss: 47504028.0000 - mae: 2229.2810 - val_loss: 26502504.0000 - val_mae: 2020.2775\n",
      "Epoch 178/400\n",
      "4384/4384 [==============================] - 22s 5ms/step - loss: 48856340.0000 - mae: 2294.8030 - val_loss: 38316556.0000 - val_mae: 2436.8704\n",
      "Epoch 179/400\n",
      "4384/4384 [==============================] - 22s 5ms/step - loss: 46618216.0000 - mae: 2213.0933 - val_loss: 60097700.0000 - val_mae: 2770.0637\n",
      "Epoch 180/400\n",
      "4384/4384 [==============================] - 22s 5ms/step - loss: 57903292.0000 - mae: 2286.2041 - val_loss: 16837254.0000 - val_mae: 1990.0516\n",
      "Epoch 181/400\n",
      "4384/4384 [==============================] - 22s 5ms/step - loss: 48124192.0000 - mae: 2282.0479 - val_loss: 88217344.0000 - val_mae: 2398.4263\n",
      "Epoch 182/400\n",
      "4384/4384 [==============================] - 22s 5ms/step - loss: 59488168.0000 - mae: 2303.3596 - val_loss: 69621504.0000 - val_mae: 2359.9246\n",
      "Epoch 183/400\n",
      "4384/4384 [==============================] - 22s 5ms/step - loss: 44595884.0000 - mae: 2203.5312 - val_loss: 21443736.0000 - val_mae: 1976.3300\n",
      "Epoch 184/400\n",
      "4384/4384 [==============================] - 22s 5ms/step - loss: 44075344.0000 - mae: 2208.3875 - val_loss: 13736502.0000 - val_mae: 1929.7085\n",
      "Epoch 185/400\n",
      "4384/4384 [==============================] - 22s 5ms/step - loss: 50399716.0000 - mae: 2243.1057 - val_loss: 24123376.0000 - val_mae: 2152.6035\n",
      "Epoch 186/400\n",
      "4384/4384 [==============================] - 22s 5ms/step - loss: 53096824.0000 - mae: 2259.3918 - val_loss: 14889206.0000 - val_mae: 1893.6685\n",
      "Epoch 187/400\n",
      "4384/4384 [==============================] - 22s 5ms/step - loss: 47073652.0000 - mae: 2192.3848 - val_loss: 19615978.0000 - val_mae: 1856.6051\n",
      "Epoch 188/400\n",
      "4384/4384 [==============================] - 21s 5ms/step - loss: 53998752.0000 - mae: 2269.1978 - val_loss: 14210659.0000 - val_mae: 1795.6934\n",
      "Epoch 189/400\n",
      "4384/4384 [==============================] - 22s 5ms/step - loss: 47862748.0000 - mae: 2178.3164 - val_loss: 17987070.0000 - val_mae: 1953.3455\n",
      "Epoch 190/400\n",
      "4384/4384 [==============================] - 22s 5ms/step - loss: 44905960.0000 - mae: 2165.8533 - val_loss: 33602288.0000 - val_mae: 2158.8174\n",
      "Epoch 191/400\n",
      "4384/4384 [==============================] - 22s 5ms/step - loss: 47108728.0000 - mae: 2189.5454 - val_loss: 152212976.0000 - val_mae: 2882.2502\n",
      "Epoch 192/400\n",
      "4384/4384 [==============================] - 22s 5ms/step - loss: 45009664.0000 - mae: 2174.6982 - val_loss: 33104290.0000 - val_mae: 2090.3091\n",
      "Epoch 193/400\n",
      "4384/4384 [==============================] - 22s 5ms/step - loss: 50689288.0000 - mae: 2206.1055 - val_loss: 102260008.0000 - val_mae: 2504.7795\n",
      "Epoch 194/400\n",
      "4384/4384 [==============================] - 22s 5ms/step - loss: 40973188.0000 - mae: 2132.0024 - val_loss: 19238762.0000 - val_mae: 2296.8625\n",
      "Epoch 195/400\n",
      "4384/4384 [==============================] - 22s 5ms/step - loss: 50484432.0000 - mae: 2219.0386 - val_loss: 16757296.0000 - val_mae: 1752.5630\n",
      "Epoch 196/400\n",
      "4384/4384 [==============================] - 22s 5ms/step - loss: 51805836.0000 - mae: 2191.9954 - val_loss: 21140048.0000 - val_mae: 1713.9700\n",
      "Epoch 197/400\n",
      "4384/4384 [==============================] - 22s 5ms/step - loss: 50191524.0000 - mae: 2199.4175 - val_loss: 21629054.0000 - val_mae: 1852.9333\n",
      "Epoch 198/400\n",
      "4384/4384 [==============================] - 22s 5ms/step - loss: 49182848.0000 - mae: 2176.4092 - val_loss: 21788218.0000 - val_mae: 1952.3843\n",
      "Epoch 199/400\n",
      "4384/4384 [==============================] - 22s 5ms/step - loss: 44682744.0000 - mae: 2125.0996 - val_loss: 16916268.0000 - val_mae: 2038.9486\n",
      "Epoch 200/400\n",
      "4384/4384 [==============================] - 22s 5ms/step - loss: 48811916.0000 - mae: 2182.1655 - val_loss: 13095138.0000 - val_mae: 1790.3066\n",
      "Epoch 201/400\n",
      "4384/4384 [==============================] - 21s 5ms/step - loss: 39489752.0000 - mae: 2031.3621 - val_loss: 47541988.0000 - val_mae: 3420.3669\n",
      "Epoch 202/400\n",
      "4384/4384 [==============================] - 22s 5ms/step - loss: 44810844.0000 - mae: 2112.0833 - val_loss: 49812084.0000 - val_mae: 1934.8057\n",
      "Epoch 203/400\n",
      "4384/4384 [==============================] - 22s 5ms/step - loss: 46206852.0000 - mae: 2151.8611 - val_loss: 25272602.0000 - val_mae: 1926.7356\n",
      "Epoch 204/400\n",
      "4384/4384 [==============================] - 22s 5ms/step - loss: 36958200.0000 - mae: 2046.3650 - val_loss: 221610400.0000 - val_mae: 3219.8267\n",
      "Epoch 205/400\n",
      "4384/4384 [==============================] - 22s 5ms/step - loss: 44888324.0000 - mae: 2101.1741 - val_loss: 18815510.0000 - val_mae: 1862.3671\n",
      "Epoch 206/400\n",
      "4384/4384 [==============================] - 22s 5ms/step - loss: 36740912.0000 - mae: 2043.8993 - val_loss: 17153156.0000 - val_mae: 2093.8850\n",
      "Epoch 207/400\n",
      "4384/4384 [==============================] - 22s 5ms/step - loss: 44816644.0000 - mae: 2113.8020 - val_loss: 23910310.0000 - val_mae: 1995.6163\n",
      "Epoch 208/400\n",
      "4384/4384 [==============================] - 22s 5ms/step - loss: 48472352.0000 - mae: 2130.0508 - val_loss: 32323208.0000 - val_mae: 2083.9873\n",
      "Epoch 209/400\n",
      "4384/4384 [==============================] - 22s 5ms/step - loss: 43663620.0000 - mae: 2085.1497 - val_loss: 23204148.0000 - val_mae: 1968.0734\n",
      "Epoch 210/400\n",
      "4384/4384 [==============================] - 22s 5ms/step - loss: 36860520.0000 - mae: 2041.9017 - val_loss: 14378816.0000 - val_mae: 1722.8420\n",
      "Epoch 211/400\n",
      "4384/4384 [==============================] - 22s 5ms/step - loss: 43574564.0000 - mae: 2046.1636 - val_loss: 40092368.0000 - val_mae: 2562.6890\n",
      "Epoch 212/400\n",
      "4384/4384 [==============================] - 22s 5ms/step - loss: 40459984.0000 - mae: 2063.0303 - val_loss: 22146916.0000 - val_mae: 1781.0270\n",
      "Epoch 213/400\n",
      "4384/4384 [==============================] - 22s 5ms/step - loss: 43181100.0000 - mae: 2055.1130 - val_loss: 26108188.0000 - val_mae: 2324.9133\n",
      "Epoch 214/400\n",
      "4384/4384 [==============================] - 22s 5ms/step - loss: 44165892.0000 - mae: 2113.6453 - val_loss: 61951340.0000 - val_mae: 2484.5027\n",
      "Epoch 215/400\n",
      "4384/4384 [==============================] - 22s 5ms/step - loss: 40380472.0000 - mae: 2038.5277 - val_loss: 27742872.0000 - val_mae: 1907.0377\n",
      "Epoch 216/400\n",
      "4384/4384 [==============================] - 22s 5ms/step - loss: 43644392.0000 - mae: 2076.8054 - val_loss: 12583876.0000 - val_mae: 1772.5917\n",
      "Epoch 217/400\n",
      "4384/4384 [==============================] - 22s 5ms/step - loss: 37186504.0000 - mae: 2018.5946 - val_loss: 121210000.0000 - val_mae: 2375.5793\n",
      "Epoch 218/400\n",
      "4384/4384 [==============================] - 22s 5ms/step - loss: 46336988.0000 - mae: 2074.8926 - val_loss: 24949902.0000 - val_mae: 1845.1505\n",
      "Epoch 219/400\n",
      "4384/4384 [==============================] - 22s 5ms/step - loss: 48992832.0000 - mae: 2168.5415 - val_loss: 12866691.0000 - val_mae: 1696.2745\n",
      "Epoch 220/400\n",
      "4384/4384 [==============================] - 22s 5ms/step - loss: 44301896.0000 - mae: 2019.8872 - val_loss: 35577272.0000 - val_mae: 2115.5928\n",
      "Epoch 221/400\n",
      "4384/4384 [==============================] - 22s 5ms/step - loss: 39297148.0000 - mae: 2010.1926 - val_loss: 18987216.0000 - val_mae: 1928.1947\n",
      "Epoch 222/400\n",
      "4384/4384 [==============================] - 22s 5ms/step - loss: 35180656.0000 - mae: 2023.6064 - val_loss: 30754396.0000 - val_mae: 1797.5509\n",
      "Epoch 223/400\n",
      "4384/4384 [==============================] - 22s 5ms/step - loss: 42695260.0000 - mae: 2046.3424 - val_loss: 23546556.0000 - val_mae: 1722.2947\n",
      "Epoch 224/400\n",
      "4384/4384 [==============================] - 22s 5ms/step - loss: 38049692.0000 - mae: 2010.3647 - val_loss: 18865310.0000 - val_mae: 1861.5510\n",
      "Epoch 225/400\n",
      "4384/4384 [==============================] - 22s 5ms/step - loss: 33950628.0000 - mae: 1940.3964 - val_loss: 15308879.0000 - val_mae: 1603.9333\n",
      "Epoch 226/400\n",
      "4384/4384 [==============================] - 22s 5ms/step - loss: 41374668.0000 - mae: 2052.7009 - val_loss: 23713182.0000 - val_mae: 2023.9487\n",
      "Epoch 227/400\n",
      "4384/4384 [==============================] - 22s 5ms/step - loss: 38951392.0000 - mae: 2016.2345 - val_loss: 12150328.0000 - val_mae: 1662.7335\n",
      "Epoch 228/400\n",
      "4384/4384 [==============================] - 22s 5ms/step - loss: 52327324.0000 - mae: 2052.3999 - val_loss: 11248693.0000 - val_mae: 1634.3668\n",
      "Epoch 229/400\n",
      "4384/4384 [==============================] - 23s 5ms/step - loss: 36991840.0000 - mae: 1968.6621 - val_loss: 13473186.0000 - val_mae: 1725.4558\n",
      "Epoch 230/400\n",
      "4384/4384 [==============================] - 23s 5ms/step - loss: 39872652.0000 - mae: 2024.9252 - val_loss: 23596946.0000 - val_mae: 1693.9614\n",
      "Epoch 231/400\n",
      "4384/4384 [==============================] - 23s 5ms/step - loss: 39991220.0000 - mae: 1991.7847 - val_loss: 27560682.0000 - val_mae: 1764.5236\n",
      "Epoch 232/400\n",
      "4384/4384 [==============================] - 23s 5ms/step - loss: 46602148.0000 - mae: 2041.2002 - val_loss: 14762073.0000 - val_mae: 1743.1355\n",
      "Epoch 233/400\n",
      "4384/4384 [==============================] - 24s 5ms/step - loss: 32406126.0000 - mae: 2031.7510 - val_loss: 96718328.0000 - val_mae: 3390.8247\n",
      "Epoch 234/400\n",
      "4384/4384 [==============================] - 23s 5ms/step - loss: 38880516.0000 - mae: 1996.9307 - val_loss: 46208236.0000 - val_mae: 2033.0820\n",
      "Epoch 235/400\n",
      "4384/4384 [==============================] - 24s 5ms/step - loss: 51320924.0000 - mae: 2087.3887 - val_loss: 309172192.0000 - val_mae: 3730.7246\n",
      "Epoch 236/400\n",
      "4384/4384 [==============================] - 24s 5ms/step - loss: 51060124.0000 - mae: 2113.7622 - val_loss: 82238064.0000 - val_mae: 2241.1604\n",
      "Epoch 237/400\n",
      "4384/4384 [==============================] - 24s 5ms/step - loss: 50321536.0000 - mae: 2051.8196 - val_loss: 22241360.0000 - val_mae: 1873.9211\n",
      "Epoch 238/400\n",
      "4384/4384 [==============================] - 23s 5ms/step - loss: 39505496.0000 - mae: 1957.4324 - val_loss: 41726372.0000 - val_mae: 2252.5693\n",
      "Epoch 239/400\n",
      "4384/4384 [==============================] - 24s 5ms/step - loss: 41812564.0000 - mae: 2080.6545 - val_loss: 17939660.0000 - val_mae: 2039.6061\n",
      "Epoch 240/400\n",
      "4384/4384 [==============================] - 23s 5ms/step - loss: 37375004.0000 - mae: 2115.4087 - val_loss: 10895812.0000 - val_mae: 1666.7478\n",
      "Epoch 241/400\n",
      "4384/4384 [==============================] - 24s 5ms/step - loss: 47771828.0000 - mae: 2152.4902 - val_loss: 56573588.0000 - val_mae: 2450.6160\n",
      "Epoch 242/400\n",
      "4384/4384 [==============================] - 24s 5ms/step - loss: 45693864.0000 - mae: 2056.8376 - val_loss: 378125408.0000 - val_mae: 3493.5547\n",
      "Epoch 243/400\n",
      "4384/4384 [==============================] - 23s 5ms/step - loss: 37900088.0000 - mae: 2097.3909 - val_loss: 13307239.0000 - val_mae: 1717.1429\n",
      "Epoch 244/400\n",
      "4384/4384 [==============================] - 23s 5ms/step - loss: 41158544.0000 - mae: 2008.1790 - val_loss: 13938428.0000 - val_mae: 1667.4833\n",
      "Epoch 245/400\n",
      "4384/4384 [==============================] - 24s 5ms/step - loss: 32789812.0000 - mae: 1941.4275 - val_loss: 45220828.0000 - val_mae: 2381.5442\n",
      "Epoch 246/400\n",
      "4384/4384 [==============================] - 24s 5ms/step - loss: 42619304.0000 - mae: 2023.4749 - val_loss: 19332758.0000 - val_mae: 1828.5106\n",
      "Epoch 247/400\n",
      "4384/4384 [==============================] - 24s 5ms/step - loss: 35216876.0000 - mae: 1916.4651 - val_loss: 39058776.0000 - val_mae: 2038.8188\n",
      "Epoch 248/400\n",
      "4384/4384 [==============================] - 23s 5ms/step - loss: 37319960.0000 - mae: 1935.5859 - val_loss: 13725025.0000 - val_mae: 1677.7772\n",
      "Epoch 249/400\n",
      "4384/4384 [==============================] - 23s 5ms/step - loss: 39182924.0000 - mae: 1950.6606 - val_loss: 18804394.0000 - val_mae: 1687.8141\n",
      "Epoch 250/400\n",
      "4384/4384 [==============================] - 24s 5ms/step - loss: 43424704.0000 - mae: 2039.5283 - val_loss: 32611322.0000 - val_mae: 2374.2456\n",
      "Epoch 251/400\n",
      "4384/4384 [==============================] - 23s 5ms/step - loss: 32745948.0000 - mae: 1988.2944 - val_loss: 40477600.0000 - val_mae: 2081.0728\n",
      "Epoch 252/400\n",
      "4384/4384 [==============================] - 24s 5ms/step - loss: 44948048.0000 - mae: 2015.1984 - val_loss: 51678704.0000 - val_mae: 2549.5991\n",
      "Epoch 253/400\n",
      "4384/4384 [==============================] - 24s 5ms/step - loss: 36735808.0000 - mae: 1955.1288 - val_loss: 17442376.0000 - val_mae: 1865.2147\n",
      "Epoch 254/400\n",
      "4384/4384 [==============================] - 24s 5ms/step - loss: 39367016.0000 - mae: 1929.4746 - val_loss: 25639710.0000 - val_mae: 1749.0408\n",
      "Epoch 255/400\n",
      "4384/4384 [==============================] - 24s 6ms/step - loss: 38244316.0000 - mae: 1956.4497 - val_loss: 41199264.0000 - val_mae: 2246.2598\n",
      "Epoch 256/400\n",
      "4384/4384 [==============================] - 24s 5ms/step - loss: 31091384.0000 - mae: 1889.3364 - val_loss: 14027438.0000 - val_mae: 2028.6976\n",
      "Epoch 257/400\n",
      "4384/4384 [==============================] - 24s 5ms/step - loss: 32104064.0000 - mae: 1887.8436 - val_loss: 19499618.0000 - val_mae: 1667.0305\n",
      "Epoch 258/400\n",
      "4384/4384 [==============================] - 24s 5ms/step - loss: 37370220.0000 - mae: 1913.1943 - val_loss: 36148008.0000 - val_mae: 1956.1578\n",
      "Epoch 259/400\n",
      "4384/4384 [==============================] - 24s 5ms/step - loss: 47937164.0000 - mae: 2021.1416 - val_loss: 32603478.0000 - val_mae: 2103.4675\n",
      "Epoch 260/400\n",
      "4384/4384 [==============================] - 24s 5ms/step - loss: 50875232.0000 - mae: 2012.7657 - val_loss: 42749736.0000 - val_mae: 2155.7568\n",
      "Epoch 261/400\n",
      "4384/4384 [==============================] - 24s 5ms/step - loss: 34096752.0000 - mae: 1939.5458 - val_loss: 20980026.0000 - val_mae: 2755.0691\n",
      "Epoch 262/400\n",
      "4384/4384 [==============================] - 24s 5ms/step - loss: 41953832.0000 - mae: 1954.3269 - val_loss: 10770523.0000 - val_mae: 1549.3735\n",
      "Epoch 263/400\n",
      "4384/4384 [==============================] - 24s 5ms/step - loss: 35732400.0000 - mae: 1894.0515 - val_loss: 15779084.0000 - val_mae: 1785.6213\n",
      "Epoch 264/400\n",
      "4384/4384 [==============================] - 24s 5ms/step - loss: 38090140.0000 - mae: 1909.9062 - val_loss: 22629538.0000 - val_mae: 1684.1160\n",
      "Epoch 265/400\n",
      "4384/4384 [==============================] - 24s 5ms/step - loss: 34704712.0000 - mae: 1908.7755 - val_loss: 13989905.0000 - val_mae: 1493.7509\n",
      "Epoch 266/400\n",
      "4384/4384 [==============================] - 24s 5ms/step - loss: 38880672.0000 - mae: 1903.1355 - val_loss: 17833920.0000 - val_mae: 1739.6876\n",
      "Epoch 267/400\n",
      "4384/4384 [==============================] - 24s 5ms/step - loss: 39396824.0000 - mae: 1948.5212 - val_loss: 11706320.0000 - val_mae: 1660.5022\n",
      "Epoch 268/400\n",
      "4384/4384 [==============================] - 24s 5ms/step - loss: 35843820.0000 - mae: 1946.3298 - val_loss: 16223405.0000 - val_mae: 1848.6219\n",
      "Epoch 269/400\n",
      "4384/4384 [==============================] - 24s 5ms/step - loss: 38644400.0000 - mae: 1953.6395 - val_loss: 119616680.0000 - val_mae: 2705.8132\n",
      "Epoch 270/400\n",
      "4384/4384 [==============================] - 24s 5ms/step - loss: 43121908.0000 - mae: 1991.5520 - val_loss: 17474350.0000 - val_mae: 1577.4714\n",
      "Epoch 271/400\n",
      "4384/4384 [==============================] - 24s 5ms/step - loss: 51348124.0000 - mae: 1988.1614 - val_loss: 69036552.0000 - val_mae: 2516.4465\n",
      "Epoch 272/400\n",
      "4384/4384 [==============================] - 24s 5ms/step - loss: 34482336.0000 - mae: 1886.1173 - val_loss: 14225573.0000 - val_mae: 1665.6287\n",
      "Epoch 273/400\n",
      "4384/4384 [==============================] - 24s 6ms/step - loss: 34081336.0000 - mae: 1882.1631 - val_loss: 188173568.0000 - val_mae: 2767.0823\n",
      "Epoch 274/400\n",
      "4384/4384 [==============================] - 24s 6ms/step - loss: 40519168.0000 - mae: 1908.4708 - val_loss: 279755840.0000 - val_mae: 3383.4114\n",
      "Epoch 275/400\n",
      "4384/4384 [==============================] - 28s 6ms/step - loss: 47053940.0000 - mae: 1926.2701 - val_loss: 28155992.0000 - val_mae: 1920.2358\n",
      "Epoch 276/400\n",
      "4384/4384 [==============================] - 28s 6ms/step - loss: 40670476.0000 - mae: 1991.1449 - val_loss: 18055292.0000 - val_mae: 1679.6086\n",
      "Epoch 277/400\n",
      "4384/4384 [==============================] - 27s 6ms/step - loss: 33681688.0000 - mae: 1897.4596 - val_loss: 42123180.0000 - val_mae: 1940.0486\n",
      "Epoch 278/400\n",
      "4384/4384 [==============================] - 25s 6ms/step - loss: 31934924.0000 - mae: 2047.0583 - val_loss: 12809750.0000 - val_mae: 1802.7714\n",
      "Epoch 279/400\n",
      "4384/4384 [==============================] - 25s 6ms/step - loss: 36906464.0000 - mae: 1998.6975 - val_loss: 13327605.0000 - val_mae: 1591.6312\n",
      "Epoch 280/400\n",
      "4384/4384 [==============================] - 24s 6ms/step - loss: 36655604.0000 - mae: 1890.5404 - val_loss: 13897082.0000 - val_mae: 1624.0615\n",
      "Epoch 281/400\n",
      "4384/4384 [==============================] - 25s 6ms/step - loss: 35008484.0000 - mae: 1918.7543 - val_loss: 16395576.0000 - val_mae: 1617.7928\n",
      "Epoch 282/400\n",
      "4384/4384 [==============================] - 25s 6ms/step - loss: 35835628.0000 - mae: 1935.3197 - val_loss: 36370256.0000 - val_mae: 2041.5452\n",
      "Epoch 283/400\n",
      "4384/4384 [==============================] - 25s 6ms/step - loss: 32948352.0000 - mae: 1951.7484 - val_loss: 80084424.0000 - val_mae: 4438.2471\n",
      "Epoch 284/400\n",
      "4384/4384 [==============================] - 25s 6ms/step - loss: 30153510.0000 - mae: 1907.9017 - val_loss: 31691226.0000 - val_mae: 1834.3248\n",
      "Epoch 285/400\n",
      "4384/4384 [==============================] - 24s 6ms/step - loss: 32783014.0000 - mae: 1883.2711 - val_loss: 16609019.0000 - val_mae: 1796.6168\n",
      "Epoch 286/400\n",
      "4384/4384 [==============================] - 24s 6ms/step - loss: 33987224.0000 - mae: 1917.6390 - val_loss: 9053115.0000 - val_mae: 1499.0946\n",
      "Epoch 287/400\n",
      "4384/4384 [==============================] - 24s 6ms/step - loss: 36073896.0000 - mae: 1960.7687 - val_loss: 11691379.0000 - val_mae: 1633.1600\n",
      "Epoch 288/400\n",
      "4384/4384 [==============================] - 24s 6ms/step - loss: 38789072.0000 - mae: 1960.4263 - val_loss: 13600122.0000 - val_mae: 1602.7167\n",
      "Epoch 289/400\n",
      "4384/4384 [==============================] - 24s 6ms/step - loss: 32625796.0000 - mae: 1885.8663 - val_loss: 12605104.0000 - val_mae: 1561.4316\n",
      "Epoch 290/400\n",
      "4384/4384 [==============================] - 25s 6ms/step - loss: 33513866.0000 - mae: 1857.0585 - val_loss: 35602964.0000 - val_mae: 2271.9014\n",
      "Epoch 291/400\n",
      "4384/4384 [==============================] - 25s 6ms/step - loss: 35107628.0000 - mae: 1908.4054 - val_loss: 12142981.0000 - val_mae: 1848.8291\n",
      "Epoch 292/400\n",
      "4384/4384 [==============================] - 24s 6ms/step - loss: 35533156.0000 - mae: 1869.4257 - val_loss: 11045715.0000 - val_mae: 1848.2461\n",
      "Epoch 293/400\n",
      "4384/4384 [==============================] - 24s 6ms/step - loss: 36534364.0000 - mae: 1949.3201 - val_loss: 23990832.0000 - val_mae: 2135.8325\n",
      "Epoch 294/400\n",
      "4384/4384 [==============================] - 25s 6ms/step - loss: 38915304.0000 - mae: 1928.9244 - val_loss: 100638832.0000 - val_mae: 2346.9348\n",
      "Epoch 295/400\n",
      "4384/4384 [==============================] - 25s 6ms/step - loss: 38617332.0000 - mae: 1905.5620 - val_loss: 11845121.0000 - val_mae: 1710.8672\n",
      "Epoch 296/400\n",
      "4384/4384 [==============================] - 25s 6ms/step - loss: 34412948.0000 - mae: 1912.3721 - val_loss: 42464980.0000 - val_mae: 1894.5500\n",
      "Epoch 297/400\n",
      "4384/4384 [==============================] - 25s 6ms/step - loss: 27262898.0000 - mae: 1818.6337 - val_loss: 17525160.0000 - val_mae: 1660.5964\n",
      "Epoch 298/400\n",
      "4384/4384 [==============================] - 25s 6ms/step - loss: 29553936.0000 - mae: 1826.3988 - val_loss: 10216086.0000 - val_mae: 1554.0377\n",
      "Epoch 299/400\n",
      "4384/4384 [==============================] - 25s 6ms/step - loss: 30026520.0000 - mae: 1833.7771 - val_loss: 13676560.0000 - val_mae: 1711.8693\n",
      "Epoch 300/400\n",
      "4384/4384 [==============================] - 25s 6ms/step - loss: 35778960.0000 - mae: 1859.1870 - val_loss: 14204864.0000 - val_mae: 1856.3326\n",
      "Epoch 301/400\n",
      "4384/4384 [==============================] - 25s 6ms/step - loss: 37296328.0000 - mae: 1877.4816 - val_loss: 56899972.0000 - val_mae: 2693.1414\n",
      "Epoch 302/400\n",
      "4384/4384 [==============================] - 24s 6ms/step - loss: 30548288.0000 - mae: 1782.7871 - val_loss: 9137777.0000 - val_mae: 1481.0773\n",
      "Epoch 303/400\n",
      "4384/4384 [==============================] - 25s 6ms/step - loss: 35342180.0000 - mae: 1864.3469 - val_loss: 12340163.0000 - val_mae: 1628.7235\n",
      "Epoch 304/400\n",
      "4384/4384 [==============================] - 25s 6ms/step - loss: 32951460.0000 - mae: 1809.4933 - val_loss: 20202252.0000 - val_mae: 1795.1316\n",
      "Epoch 305/400\n",
      "4384/4384 [==============================] - 25s 6ms/step - loss: 34348564.0000 - mae: 1865.1079 - val_loss: 13002963.0000 - val_mae: 1479.3129\n",
      "Epoch 306/400\n",
      "4384/4384 [==============================] - 25s 6ms/step - loss: 42373440.0000 - mae: 1964.3188 - val_loss: 12705530.0000 - val_mae: 1629.6116\n",
      "Epoch 307/400\n",
      "4384/4384 [==============================] - 25s 6ms/step - loss: 36276864.0000 - mae: 1887.1381 - val_loss: 12474494.0000 - val_mae: 2016.4174\n",
      "Epoch 308/400\n",
      "4384/4384 [==============================] - 25s 6ms/step - loss: 39939216.0000 - mae: 1918.6539 - val_loss: 10519303.0000 - val_mae: 1498.1143\n",
      "Epoch 309/400\n",
      "4384/4384 [==============================] - 26s 6ms/step - loss: 37449628.0000 - mae: 1838.6539 - val_loss: 16464557.0000 - val_mae: 2177.8059\n",
      "Epoch 310/400\n",
      "4384/4384 [==============================] - 26s 6ms/step - loss: 32348218.0000 - mae: 1815.0009 - val_loss: 41039228.0000 - val_mae: 2291.9883\n",
      "Epoch 311/400\n",
      "4384/4384 [==============================] - 25s 6ms/step - loss: 31774436.0000 - mae: 1836.6080 - val_loss: 164539328.0000 - val_mae: 3015.4202\n",
      "Epoch 312/400\n",
      "4384/4384 [==============================] - 25s 6ms/step - loss: 34712984.0000 - mae: 1866.9130 - val_loss: 324076928.0000 - val_mae: 3234.1199\n",
      "Epoch 313/400\n",
      "4384/4384 [==============================] - 25s 6ms/step - loss: 38314452.0000 - mae: 1858.5798 - val_loss: 15543201.0000 - val_mae: 1609.2961\n",
      "Epoch 314/400\n",
      "4384/4384 [==============================] - 25s 6ms/step - loss: 33297570.0000 - mae: 1868.2744 - val_loss: 12299102.0000 - val_mae: 1791.3203\n",
      "Epoch 315/400\n",
      "4384/4384 [==============================] - 26s 6ms/step - loss: 32985708.0000 - mae: 1810.6785 - val_loss: 12999110.0000 - val_mae: 1407.9108\n",
      "Epoch 316/400\n",
      "4384/4384 [==============================] - 26s 6ms/step - loss: 35267980.0000 - mae: 1823.2468 - val_loss: 8857409.0000 - val_mae: 1404.8049\n",
      "Epoch 317/400\n",
      "4384/4384 [==============================] - 25s 6ms/step - loss: 27559868.0000 - mae: 1821.7404 - val_loss: 60622944.0000 - val_mae: 2406.3926\n",
      "Epoch 318/400\n",
      "4384/4384 [==============================] - 25s 6ms/step - loss: 31600810.0000 - mae: 1872.1365 - val_loss: 123969976.0000 - val_mae: 2876.6936\n",
      "Epoch 319/400\n",
      "4384/4384 [==============================] - 25s 6ms/step - loss: 35890976.0000 - mae: 1861.4581 - val_loss: 16745022.0000 - val_mae: 1639.2169\n",
      "Epoch 320/400\n",
      "4384/4384 [==============================] - 25s 6ms/step - loss: 30212866.0000 - mae: 1808.8031 - val_loss: 11351588.0000 - val_mae: 1452.0494\n",
      "Epoch 321/400\n",
      "4384/4384 [==============================] - 25s 6ms/step - loss: 31467482.0000 - mae: 1805.8278 - val_loss: 11869547.0000 - val_mae: 1521.9928\n",
      "Epoch 322/400\n",
      "4384/4384 [==============================] - 25s 6ms/step - loss: 34957488.0000 - mae: 1820.7106 - val_loss: 62784968.0000 - val_mae: 2252.4753\n",
      "Epoch 323/400\n",
      "4384/4384 [==============================] - 25s 6ms/step - loss: 26276692.0000 - mae: 1776.7404 - val_loss: 21226858.0000 - val_mae: 2525.7000\n",
      "Epoch 324/400\n",
      "4384/4384 [==============================] - 25s 6ms/step - loss: 30942478.0000 - mae: 1861.3527 - val_loss: 37772636.0000 - val_mae: 2016.6399\n",
      "Epoch 325/400\n",
      "4384/4384 [==============================] - 27s 6ms/step - loss: 36501692.0000 - mae: 1871.2788 - val_loss: 51950344.0000 - val_mae: 1776.5728\n",
      "Epoch 326/400\n",
      "4384/4384 [==============================] - 26s 6ms/step - loss: 31086842.0000 - mae: 1843.4933 - val_loss: 35030344.0000 - val_mae: 1760.8634\n",
      "Epoch 327/400\n",
      "4384/4384 [==============================] - 26s 6ms/step - loss: 34845308.0000 - mae: 1835.8276 - val_loss: 12459848.0000 - val_mae: 1526.6648\n",
      "Epoch 328/400\n",
      "4384/4384 [==============================] - 26s 6ms/step - loss: 35573444.0000 - mae: 1882.1995 - val_loss: 48350808.0000 - val_mae: 2111.4658\n",
      "Epoch 329/400\n",
      "4384/4384 [==============================] - 26s 6ms/step - loss: 33272620.0000 - mae: 1815.7333 - val_loss: 24228534.0000 - val_mae: 1621.5966\n",
      "Epoch 330/400\n",
      "4384/4384 [==============================] - 26s 6ms/step - loss: 35779888.0000 - mae: 1838.7128 - val_loss: 9567556.0000 - val_mae: 1464.0885\n",
      "Epoch 331/400\n",
      "4384/4384 [==============================] - 25s 6ms/step - loss: 36050384.0000 - mae: 1821.2753 - val_loss: 34271676.0000 - val_mae: 2007.9098\n",
      "Epoch 332/400\n",
      "4384/4384 [==============================] - 26s 6ms/step - loss: 28699776.0000 - mae: 1784.5712 - val_loss: 137226816.0000 - val_mae: 2639.0857\n",
      "Epoch 333/400\n",
      "4384/4384 [==============================] - 25s 6ms/step - loss: 32079224.0000 - mae: 1817.3737 - val_loss: 38642472.0000 - val_mae: 1932.3149\n",
      "Epoch 334/400\n",
      "4384/4384 [==============================] - 26s 6ms/step - loss: 40249888.0000 - mae: 2073.4353 - val_loss: 19827508.0000 - val_mae: 1974.6355\n",
      "Epoch 335/400\n",
      "4384/4384 [==============================] - 26s 6ms/step - loss: 33126986.0000 - mae: 1889.6805 - val_loss: 19911060.0000 - val_mae: 1847.1694\n",
      "Epoch 336/400\n",
      "4384/4384 [==============================] - 26s 6ms/step - loss: 32339690.0000 - mae: 1781.1487 - val_loss: 10789511.0000 - val_mae: 1552.5443\n",
      "Epoch 337/400\n",
      "4384/4384 [==============================] - 25s 6ms/step - loss: 29910072.0000 - mae: 1742.7177 - val_loss: 18729038.0000 - val_mae: 1797.9465\n",
      "Epoch 338/400\n",
      "4384/4384 [==============================] - 25s 6ms/step - loss: 35642440.0000 - mae: 1726.8068 - val_loss: 59837552.0000 - val_mae: 1839.9487\n",
      "Epoch 339/400\n",
      "4384/4384 [==============================] - 25s 6ms/step - loss: 37964552.0000 - mae: 1716.5814 - val_loss: 9472934.0000 - val_mae: 1478.9514\n",
      "Epoch 340/400\n",
      "4384/4384 [==============================] - 26s 6ms/step - loss: 29496862.0000 - mae: 1701.2917 - val_loss: 23950806.0000 - val_mae: 1640.4235\n",
      "Epoch 341/400\n",
      "4384/4384 [==============================] - 26s 6ms/step - loss: 26762682.0000 - mae: 1676.9564 - val_loss: 11110056.0000 - val_mae: 1417.4399\n",
      "Epoch 342/400\n",
      "4384/4384 [==============================] - 26s 6ms/step - loss: 34885020.0000 - mae: 1734.5328 - val_loss: 42108468.0000 - val_mae: 1904.7031\n",
      "Epoch 343/400\n",
      "4384/4384 [==============================] - 26s 6ms/step - loss: 27139700.0000 - mae: 1660.7845 - val_loss: 33968148.0000 - val_mae: 1756.1097\n",
      "Epoch 344/400\n",
      "4384/4384 [==============================] - 26s 6ms/step - loss: 30440718.0000 - mae: 1663.9143 - val_loss: 13407799.0000 - val_mae: 1496.4086\n",
      "Epoch 345/400\n",
      "4384/4384 [==============================] - 26s 6ms/step - loss: 33078812.0000 - mae: 1700.9237 - val_loss: 15668489.0000 - val_mae: 1545.1432\n",
      "Epoch 346/400\n",
      "4384/4384 [==============================] - 26s 6ms/step - loss: 25021056.0000 - mae: 1605.8745 - val_loss: 20997628.0000 - val_mae: 1642.7854\n",
      "Epoch 347/400\n",
      "4384/4384 [==============================] - 25s 6ms/step - loss: 34680756.0000 - mae: 1708.1497 - val_loss: 95782104.0000 - val_mae: 2660.5491\n",
      "Epoch 348/400\n",
      "4384/4384 [==============================] - 26s 6ms/step - loss: 34911324.0000 - mae: 1683.4246 - val_loss: 251967712.0000 - val_mae: 4354.2178\n",
      "Epoch 349/400\n",
      "4384/4384 [==============================] - 25s 6ms/step - loss: 31588818.0000 - mae: 1664.8770 - val_loss: 32635406.0000 - val_mae: 1731.0938\n",
      "Epoch 350/400\n",
      "4384/4384 [==============================] - 26s 6ms/step - loss: 29526452.0000 - mae: 1666.7678 - val_loss: 20268614.0000 - val_mae: 1636.8752\n",
      "Epoch 351/400\n",
      "4384/4384 [==============================] - 26s 6ms/step - loss: 27968252.0000 - mae: 1615.6908 - val_loss: 8107760.5000 - val_mae: 1280.0479\n",
      "Epoch 352/400\n",
      "4384/4384 [==============================] - 26s 6ms/step - loss: 29950204.0000 - mae: 1622.9474 - val_loss: 8271821.0000 - val_mae: 1279.1067\n",
      "Epoch 353/400\n",
      "4384/4384 [==============================] - 26s 6ms/step - loss: 33853384.0000 - mae: 1685.4504 - val_loss: 7421359.5000 - val_mae: 1426.1160\n",
      "Epoch 354/400\n",
      "4384/4384 [==============================] - 25s 6ms/step - loss: 33279752.0000 - mae: 1686.8003 - val_loss: 8976167.0000 - val_mae: 1271.8007\n",
      "Epoch 355/400\n",
      "4384/4384 [==============================] - 26s 6ms/step - loss: 27550758.0000 - mae: 1645.0294 - val_loss: 123075704.0000 - val_mae: 2132.5234\n",
      "Epoch 356/400\n",
      "4384/4384 [==============================] - 26s 6ms/step - loss: 27291978.0000 - mae: 1621.7369 - val_loss: 7986837.5000 - val_mae: 1286.1665\n",
      "Epoch 357/400\n",
      "4384/4384 [==============================] - 26s 6ms/step - loss: 30579158.0000 - mae: 1686.3838 - val_loss: 7849767.5000 - val_mae: 1375.2222\n",
      "Epoch 358/400\n",
      "4384/4384 [==============================] - 26s 6ms/step - loss: 31486540.0000 - mae: 1668.8074 - val_loss: 48841148.0000 - val_mae: 2013.8870\n",
      "Epoch 359/400\n",
      "4384/4384 [==============================] - 26s 6ms/step - loss: 28383074.0000 - mae: 1583.7719 - val_loss: 30300724.0000 - val_mae: 1569.3671\n",
      "Epoch 360/400\n",
      "4384/4384 [==============================] - 27s 6ms/step - loss: 32621892.0000 - mae: 1631.7667 - val_loss: 24535930.0000 - val_mae: 1679.4257\n",
      "Epoch 361/400\n",
      "4384/4384 [==============================] - 27s 6ms/step - loss: 27530422.0000 - mae: 1610.2926 - val_loss: 7372944.5000 - val_mae: 1272.0039\n",
      "Epoch 362/400\n",
      "4384/4384 [==============================] - 27s 6ms/step - loss: 29990852.0000 - mae: 1643.2861 - val_loss: 21180380.0000 - val_mae: 1758.6151\n",
      "Epoch 363/400\n",
      "4384/4384 [==============================] - 26s 6ms/step - loss: 34610268.0000 - mae: 1645.9604 - val_loss: 467846336.0000 - val_mae: 4008.7839\n",
      "Epoch 364/400\n",
      "4384/4384 [==============================] - 26s 6ms/step - loss: 37897112.0000 - mae: 1685.0770 - val_loss: 10576448.0000 - val_mae: 1568.7483\n",
      "Epoch 365/400\n",
      "4384/4384 [==============================] - 26s 6ms/step - loss: 33038332.0000 - mae: 1696.9664 - val_loss: 12158373.0000 - val_mae: 1497.5009\n",
      "Epoch 366/400\n",
      "4384/4384 [==============================] - 26s 6ms/step - loss: 30874418.0000 - mae: 1649.3125 - val_loss: 9721871.0000 - val_mae: 1377.2871\n",
      "Epoch 367/400\n",
      "4384/4384 [==============================] - 26s 6ms/step - loss: 28606776.0000 - mae: 1599.7279 - val_loss: 110013552.0000 - val_mae: 2134.6262\n",
      "Epoch 368/400\n",
      "4384/4384 [==============================] - 26s 6ms/step - loss: 32996804.0000 - mae: 1659.6693 - val_loss: 22267170.0000 - val_mae: 1669.9161\n",
      "Epoch 369/400\n",
      "4384/4384 [==============================] - 26s 6ms/step - loss: 23861900.0000 - mae: 1580.9337 - val_loss: 15055316.0000 - val_mae: 1304.1754\n",
      "Epoch 370/400\n",
      "4384/4384 [==============================] - 26s 6ms/step - loss: 33076820.0000 - mae: 1599.2109 - val_loss: 14741060.0000 - val_mae: 1438.1807\n",
      "Epoch 371/400\n",
      "4384/4384 [==============================] - 26s 6ms/step - loss: 33487744.0000 - mae: 1671.4519 - val_loss: 21573558.0000 - val_mae: 1556.0269\n",
      "Epoch 372/400\n",
      "4384/4384 [==============================] - 26s 6ms/step - loss: 38180092.0000 - mae: 1740.6427 - val_loss: 15965847.0000 - val_mae: 1420.7737\n",
      "Epoch 373/400\n",
      "4384/4384 [==============================] - 26s 6ms/step - loss: 23740842.0000 - mae: 1562.3525 - val_loss: 55924760.0000 - val_mae: 1924.4148\n",
      "Epoch 374/400\n",
      "4384/4384 [==============================] - 26s 6ms/step - loss: 25891282.0000 - mae: 1565.4351 - val_loss: 8037756.5000 - val_mae: 1565.2839\n",
      "Epoch 375/400\n",
      "4384/4384 [==============================] - 26s 6ms/step - loss: 31187426.0000 - mae: 1612.0835 - val_loss: 31074870.0000 - val_mae: 1724.1554\n",
      "Epoch 376/400\n",
      "4384/4384 [==============================] - 27s 6ms/step - loss: 25842940.0000 - mae: 1569.7919 - val_loss: 9000194.0000 - val_mae: 1295.6527\n",
      "Epoch 377/400\n",
      "4384/4384 [==============================] - 27s 6ms/step - loss: 41347256.0000 - mae: 1700.3905 - val_loss: 34109584.0000 - val_mae: 1467.3286\n",
      "Epoch 378/400\n",
      "4384/4384 [==============================] - 26s 6ms/step - loss: 30597648.0000 - mae: 1622.4376 - val_loss: 22903288.0000 - val_mae: 1557.3304\n",
      "Epoch 379/400\n",
      "4384/4384 [==============================] - 27s 6ms/step - loss: 24171968.0000 - mae: 1544.6108 - val_loss: 7539442.0000 - val_mae: 1258.0715\n",
      "Epoch 380/400\n",
      "4384/4384 [==============================] - 26s 6ms/step - loss: 29474302.0000 - mae: 1603.4219 - val_loss: 61184088.0000 - val_mae: 2424.1335\n",
      "Epoch 381/400\n",
      "4384/4384 [==============================] - 26s 6ms/step - loss: 23665744.0000 - mae: 1562.1493 - val_loss: 11486845.0000 - val_mae: 1264.1301\n",
      "Epoch 382/400\n",
      "4384/4384 [==============================] - 26s 6ms/step - loss: 35885052.0000 - mae: 1626.9225 - val_loss: 19805276.0000 - val_mae: 1517.7767\n",
      "Epoch 383/400\n",
      "4384/4384 [==============================] - 26s 6ms/step - loss: 28248968.0000 - mae: 1581.5896 - val_loss: 18465112.0000 - val_mae: 1407.8741\n",
      "Epoch 384/400\n",
      "4384/4384 [==============================] - 26s 6ms/step - loss: 29513188.0000 - mae: 1587.5411 - val_loss: 8708764.0000 - val_mae: 1351.2695\n",
      "Epoch 385/400\n",
      "4384/4384 [==============================] - 26s 6ms/step - loss: 32054334.0000 - mae: 1595.7632 - val_loss: 8321619.0000 - val_mae: 1212.7986\n",
      "Epoch 386/400\n",
      "4384/4384 [==============================] - 27s 6ms/step - loss: 30171850.0000 - mae: 1605.6167 - val_loss: 8975859.0000 - val_mae: 1483.6691\n",
      "Epoch 387/400\n",
      "4384/4384 [==============================] - 27s 6ms/step - loss: 29143930.0000 - mae: 1565.2828 - val_loss: 10183001.0000 - val_mae: 1299.7341\n",
      "Epoch 388/400\n",
      "4384/4384 [==============================] - 26s 6ms/step - loss: 34625888.0000 - mae: 1623.2339 - val_loss: 12897865.0000 - val_mae: 1572.5924\n",
      "Epoch 389/400\n",
      "4384/4384 [==============================] - 26s 6ms/step - loss: 27093864.0000 - mae: 1553.5630 - val_loss: 33804568.0000 - val_mae: 1935.4011\n",
      "Epoch 390/400\n",
      "4384/4384 [==============================] - 26s 6ms/step - loss: 31538438.0000 - mae: 1566.0995 - val_loss: 8211612.0000 - val_mae: 1194.5372\n",
      "Epoch 391/400\n",
      "4384/4384 [==============================] - 26s 6ms/step - loss: 27387788.0000 - mae: 1558.5709 - val_loss: 9440073.0000 - val_mae: 1331.6997\n",
      "Epoch 392/400\n",
      "4384/4384 [==============================] - 26s 6ms/step - loss: 22352868.0000 - mae: 1535.2065 - val_loss: 7736770.5000 - val_mae: 1204.8964\n",
      "Epoch 393/400\n",
      "4384/4384 [==============================] - 26s 6ms/step - loss: 31163786.0000 - mae: 1592.7184 - val_loss: 13510766.0000 - val_mae: 1405.2791\n",
      "Epoch 394/400\n",
      "4384/4384 [==============================] - 28s 6ms/step - loss: 27522524.0000 - mae: 1565.0966 - val_loss: 31926850.0000 - val_mae: 1543.3395\n",
      "Epoch 395/400\n",
      "4384/4384 [==============================] - 27s 6ms/step - loss: 27981956.0000 - mae: 1602.1029 - val_loss: 11409823.0000 - val_mae: 1259.5869\n",
      "Epoch 396/400\n",
      "4384/4384 [==============================] - 27s 6ms/step - loss: 27586324.0000 - mae: 1584.5774 - val_loss: 57517068.0000 - val_mae: 2317.1138\n",
      "Epoch 397/400\n",
      "4384/4384 [==============================] - 27s 6ms/step - loss: 32036018.0000 - mae: 1599.6526 - val_loss: 49473296.0000 - val_mae: 2466.8545\n",
      "Epoch 398/400\n",
      "4384/4384 [==============================] - 27s 6ms/step - loss: 26802212.0000 - mae: 1559.4165 - val_loss: 8943752.0000 - val_mae: 1333.3884\n",
      "Epoch 399/400\n",
      "4384/4384 [==============================] - 27s 6ms/step - loss: 30746512.0000 - mae: 1615.8982 - val_loss: 7051751.0000 - val_mae: 1158.6710\n",
      "Epoch 400/400\n",
      "4384/4384 [==============================] - 27s 6ms/step - loss: 28401964.0000 - mae: 1604.3562 - val_loss: 43343704.0000 - val_mae: 1640.8633\n"
     ]
    }
   ],
   "source": [
    "history = ann.fit(X_train, y_train,\n",
    "                    validation_data = (X_val, y_val),\n",
    "                    callbacks=[es],\n",
    "                    epochs=400,\n",
    "                    batch_size=50,\n",
    "                    verbose=1)"
   ]
  },
  {
   "cell_type": "markdown",
   "metadata": {
    "colab_type": "text",
    "id": "0H0zKKNEBLD5",
    "ExecuteTime": {
     "end_time": "2024-05-18T13:44:30.421148900Z",
     "start_time": "2024-05-18T13:44:30.216729900Z"
    }
   },
   "source": [
    "### Analyse learn history"
   ]
  },
  {
   "cell_type": "code",
   "execution_count": 25,
   "metadata": {
    "ExecuteTime": {
     "end_time": "2024-07-01T04:37:55.613557Z",
     "start_time": "2024-07-01T04:37:55.039242300Z"
    }
   },
   "outputs": [
    {
     "data": {
      "text/plain": "<Figure size 640x480 with 1 Axes>",
      "image/png": "[encoded data removed]"
     },
     "metadata": {},
     "output_type": "display_data"
    }
   ],
   "source": [
    "# let's see the training and validation accuracy by epoch\n",
    "history_dict = history.history\n",
    "loss_values = history_dict['loss'] # you can change this\n",
    "val_loss_values = history_dict['val_loss'] # you can also change this\n",
    "epochs = range(1, len(loss_values) + 1) # range of X (no. of epochs)\n",
    "plt.plot(epochs, loss_values, 'blue', label='Train set loss')\n",
    "plt.plot(epochs, val_loss_values, 'orange', label='Validation set loss')\n",
    "#plt.title('Training and testing loss')\n",
    "plt.xlabel('Epochs')\n",
    "plt.ylabel('Loss (MSE)')\n",
    "plt.legend()\n",
    "plt.show()"
   ]
  },
  {
   "cell_type": "code",
   "execution_count": 26,
   "metadata": {
    "ExecuteTime": {
     "end_time": "2024-07-01T04:37:59.809756100Z",
     "start_time": "2024-07-01T04:37:59.622429700Z"
    }
   },
   "outputs": [
    {
     "data": {
      "text/plain": "<Figure size 640x480 with 1 Axes>",
      "image/png": "[encoded data removed]"
     },
     "metadata": {},
     "output_type": "display_data"
    }
   ],
   "source": [
    "loss_values1 = history_dict['mae'] # you can change this\n",
    "val_loss_values1 = history_dict['val_mae'] # you can also change this\n",
    "epochs = range(1, len(loss_values1) + 1) # range of X (no. of epochs)\n",
    "plt.plot(epochs, loss_values1, 'blue', label='Train set MAE')\n",
    "plt.plot(epochs, val_loss_values1, 'orange', label='Validation set MAE')\n",
    "#plt.title('Training and testing MAE')\n",
    "plt.xlabel('Epochs')\n",
    "plt.ylabel('MAE')\n",
    "plt.legend()\n",
    "plt.show()"
   ]
  },
  {
   "cell_type": "code",
   "execution_count": null,
   "metadata": {},
   "outputs": [],
   "source": [
    "print (epochs)"
   ]
  },
  {
   "cell_type": "markdown",
   "metadata": {},
   "source": [
    "### Save the model"
   ]
  },
  {
   "cell_type": "code",
   "execution_count": null,
   "metadata": {},
   "outputs": [],
   "source": [
    "ann.save('ANN_13.h5')\n",
    "import pickle\n",
    "pickle.dump(sc, open('scaler_ANN.pkl', 'wb'))"
   ]
  },
  {
   "cell_type": "markdown",
   "metadata": {},
   "source": [
    "## Part 5 - Make predictions"
   ]
  },
  {
   "cell_type": "code",
   "execution_count": null,
   "metadata": {},
   "outputs": [],
   "source": [
    "ann = load_model('ANN_13.h5')\n",
    "sc = pickle.load(open('scaler_ANN.pkl', 'rb'))"
   ]
  },
  {
   "cell_type": "code",
   "execution_count": 27,
   "metadata": {
    "ExecuteTime": {
     "end_time": "2024-07-01T04:38:33.147121500Z",
     "start_time": "2024-07-01T04:38:05.559994100Z"
    }
   },
   "outputs": [
    {
     "name": "stdout",
     "output_type": "stream",
     "text": [
      "6850/6850 [==============================] - 14s 2ms/step\n",
      "2284/2284 [==============================] - 8s 3ms/step\n"
     ]
    },
    {
     "data": {
      "text/plain": "<Figure size 640x480 with 2 Axes>",
      "image/png": "[encoded data removed]"
     },
     "metadata": {},
     "output_type": "display_data"
    }
   ],
   "source": [
    "# scatterplot of actual vs. pred\n",
    "# specify the dimensions \n",
    "fig, axes = plt.subplots(1,2) # 1 row, 2 columns\n",
    "\n",
    "# this makes the individual subplots\n",
    "# Training Results\n",
    "axes[0].scatter(x=y_train, y=ann.predict(X_train)) #first row, first entry (left top)\n",
    "axes[0].set_xlabel(\"Actual\", fontsize=10)\n",
    "axes[0].set_ylabel(\"Predicted\",  fontsize=10)\n",
    "axes[0].set_title(\"Training\")\n",
    "# add 45 deg line\n",
    "x = np.linspace(*axes[0].get_xlim())\n",
    "axes[0].plot(x, x, color='red')\n",
    "# Validation Results\n",
    "axes[1].scatter(x=y_val, y=ann.predict(X_val)) # first row, second entry (right top)\n",
    "axes[1].set_xlabel(\"Actual\", fontsize=10)\n",
    "axes[1].set_ylabel(\"Predicted\",  fontsize=10)\n",
    "axes[1].set_title(\"Validation\")\n",
    "# add 45 deg line\n",
    "x = np.linspace(*axes[1].get_xlim())\n",
    "axes[1].plot(x, x, color='red')\n",
    "\n",
    "# tight layout\n",
    "fig.tight_layout()\n",
    "\n",
    "# show the plot\n",
    "plt.show()"
   ]
  },
  {
   "cell_type": "code",
   "execution_count": null,
   "metadata": {
    "colab": {
     "base_uri": "https://localhost:8080/",
     "height": 134
    },
    "colab_type": "code",
    "id": "IA0yApEmBG1X",
    "outputId": "cb981e1f-9204-4a2a-fece-9d66a6919189"
   },
   "outputs": [],
   "source": [
    "y_pred = ann.predict(X_test)\n",
    "y_pred_e = y_pred/1000\n",
    "y_test_e = y_test/1000\n",
    "np.set_printoptions(precision=2)\n",
    "print(np.concatenate((y_pred_e.reshape(len(y_pred_e),1), y_test_e.reshape(len(y_test_e),1)),1))"
   ]
  },
  {
   "cell_type": "code",
   "execution_count": null,
   "metadata": {},
   "outputs": [],
   "source": [
    "import matplotlib.pyplot as plt\n",
    "plt.scatter(y_test, y_pred, color=\"blue\")\n",
    "plt.plot ([0,1200000],[0,1200000], color = \"red\")\n",
    "plt.axis ([0,1200000,0,1200000])\n",
    "plt.xlabel ('Actual data')\n",
    "plt.ylabel ('Predicted data')"
   ]
  },
  {
   "cell_type": "code",
   "execution_count": null,
   "metadata": {},
   "outputs": [],
   "source": [
    "from sklearn.metrics import r2_score\n",
    "# Initialize layout\n",
    "fig1, ax1 = plt.subplots(figsize = (9, 9))\n",
    "b_l = 60\n",
    "u_l = 300\n",
    "\n",
    "# Add scatterplot\n",
    "ax1.scatter(y_test_e, y_pred_e, s=70, alpha=1, edgecolors=\"k\",c='mediumblue',zorder=5, label = 'Points')\n",
    "\n",
    "\n",
    "plt.ylabel('Predicted Incident Pressure (kPa)',fontsize = 25)\n",
    "plt.xlabel('Actual Incident Pressure (kPa)',fontsize = 25)\n",
    "plt.xticks(fontsize = 19)\n",
    "plt.yticks(fontsize = 19)\n",
    "\n",
    "\n",
    "x1 = np.linspace(b_l, u_l)\n",
    "\n",
    "plt.plot(x1, x1, 'Red', label='45\\N{DEGREE SIGN} line',lw=2.5,alpha=1)\n",
    "plt.plot(x1, 1.05*x1, '--m', label='\\u00B15% Error',lw=2.5,alpha=0.7)\n",
    "plt.plot(x1, 0.95*x1,'m', linestyle='--',lw=2.5,alpha=0.7)\n",
    "plt.plot(x1, 1.1*x1, '-.g', label='\\u00B110% Error',lw=2.5,alpha=0.7)\n",
    "plt.plot(x1, 0.9*x1,'-.g',lw=2.5,alpha=0.7)\n",
    "plt.plot(x1, 1.2*x1, color = '#F97306', linestyle='dotted', label='\\u00B120% Error',lw=2.5,alpha=0.7)\n",
    "plt.plot(x1, 0.8*x1,color = '#F97306', linestyle='dotted', lw=2.5,alpha=0.7)\n",
    "\n",
    "plt.ylim(b_l, u_l)\n",
    "plt.xlim(b_l, u_l)\n",
    "plt.legend(loc='upper left',fontsize = 21)\n",
    "\n",
    "plt.grid()\n",
    "\n",
    "ax1.spines['left'].set_color('black')        # setting up Y-axis tick color to red\n",
    "ax1.spines['bottom'].set_color('black')         #setting up above X-axis tick color to red\n"
   ]
  },
  {
   "cell_type": "code",
   "execution_count": null,
   "metadata": {},
   "outputs": [],
   "source": [
    "# metrics\n",
    "trainpreds = ann.predict(X_train)\n",
    "\n",
    "from sklearn.metrics import mean_absolute_error\n",
    "print(mean_absolute_error(y_train, trainpreds)) # train\n",
    "print(mean_absolute_error(y_test, y_pred)) # test"
   ]
  },
  {
   "cell_type": "code",
   "execution_count": null,
   "metadata": {},
   "outputs": [],
   "source": [
    "from sklearn.metrics import r2_score\n",
    "r2 = r2_score(y_test, y_pred)\n",
    "print (r2)"
   ]
  },
  {
   "cell_type": "code",
   "execution_count": null,
   "metadata": {},
   "outputs": [],
   "source": [
    "r2_train = r2_score(y_train, trainpreds)\n",
    "print (r2_train)"
   ]
  },
  {
   "cell_type": "code",
   "execution_count": null,
   "metadata": {},
   "outputs": [],
   "source": [
    "count0 = 0\n",
    "for i in range(len(y_pred)):\n",
    "    line1 = y_pred[i] - 0.95*y_test[i]\n",
    "    line2 = y_pred[i] - 1.05*y_test[i]\n",
    "    mask0 = (line1 > 0) & (line2 < 0)\n",
    "    count0 = np.sum(mask0+count0)\n",
    "\n",
    "count1 = 0\n",
    "for i in range(len(y_pred)):\n",
    "    line1 = y_pred[i] - 0.9*y_test[i]\n",
    "    line2 = y_pred[i] - 1.1*y_test[i]\n",
    "    mask1 = (line1 > 0) & (line2 < 0)\n",
    "    count1 = np.sum(mask1+count1)\n",
    "\n",
    "count2 = 0\n",
    "for j in range(len(y_pred)):\n",
    "    line3 = y_pred[j] - 0.8*y_test[j]\n",
    "    line4 = y_pred[j] - 1.2*y_test[j]\n",
    "    mask2 = (line3 > 0) & (line4 < 0)\n",
    "    count2 = np.sum(mask2+count2)\n",
    "\n",
    "\n",
    "count3 = 0    \n",
    "for k in range(len(y_pred)):\n",
    "    line5 = y_pred[k] - 0.8*y_test[k]\n",
    "    line6 = y_pred[k] - 1.2*y_test[k]\n",
    "    mask3 = (line5 < 0) or (line6 > 0)\n",
    "    count3 = np.sum(mask3+count3)\n",
    "   \n",
    "\n",
    "print ('Within 5% margin', format((count0/len (y_pred)),'.2%'))\n",
    "print ('Within 10% margin', format((count1/len (y_pred)),'.2%'))\n",
    "print ('Within 20% margin', format((count2/len (y_pred)),'.2%'))\n",
    "print ('Out of 20% margin', format((count3/len (y_pred)),'.2%'))"
   ]
  },
  {
   "cell_type": "code",
   "execution_count": null,
   "metadata": {},
   "outputs": [],
   "source": [
    "adj_r2 = 1 - ((1 - r2) * (len(X_test) - 1) / (len(X_test) - len (X_test[0]) - 1))\n",
    "print (adj_r2)"
   ]
  },
  {
   "cell_type": "code",
   "execution_count": null,
   "metadata": {},
   "outputs": [],
   "source": [
    "import math\n",
    "from sklearn.metrics import mean_squared_error\n",
    "\n",
    "math.sqrt(mean_squared_error(y_test_e, y_pred_e))"
   ]
  },
  {
   "cell_type": "code",
   "execution_count": null,
   "metadata": {},
   "outputs": [],
   "source": [
    "from sklearn.metrics import mean_absolute_error\n",
    "\n",
    "mean_absolute_error(y_test_e, y_pred_e)"
   ]
  }
 ],
 "metadata": {
  "colab": {
   "collapsed_sections": [],
   "name": "Artificial Neural Network",
   "provenance": [],
   "toc_visible": true
  },
  "kernelspec": {
   "display_name": "Python 3 (ipykernel)",
   "language": "python",
   "name": "python3"
  },
  "language_info": {
   "codemirror_mode": {
    "name": "ipython",
    "version": 3
   },
   "file_extension": ".py",
   "mimetype": "text/x-python",
   "name": "python",
   "nbconvert_exporter": "python",
   "pygments_lexer": "ipython3",
   "version": "3.9.7"
  }
 },
 "nbformat": 4,
 "nbformat_minor": 4
}
