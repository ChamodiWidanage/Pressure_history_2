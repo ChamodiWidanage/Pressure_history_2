{
 "cells": [
  {
   "cell_type": "markdown",
   "metadata": {
    "colab_type": "text",
    "id": "3cbb7fRy-eyr"
   },
   "source": [
    "# Artificial Neural Network"
   ]
  },
  {
   "cell_type": "markdown",
   "metadata": {
    "colab_type": "text",
    "id": "8sNDnxE2-pwE"
   },
   "source": [
    "## Part 1 - Importing the libraries"
   ]
  },
  {
   "cell_type": "code",
   "execution_count": 1,
   "metadata": {
    "colab": {},
    "colab_type": "code",
    "id": "lxChR1Rk-umf",
    "ExecuteTime": {
     "end_time": "2024-07-01T01:47:42.945470700Z",
     "start_time": "2024-07-01T01:47:37.251983Z"
    }
   },
   "outputs": [],
   "source": [
    "import numpy as np\n",
    "import pandas as pd\n",
    "import tensorflow as tf\n",
    "import matplotlib.pyplot as plt\n",
    "#from keras.models import load_model\n",
    "#from tensorflow.keras.models import Sequential\n",
    "#from tensorflow.keras.layers import Dense\n",
    "from pathlib import Path"
   ]
  },
  {
   "cell_type": "markdown",
   "metadata": {
    "colab_type": "text",
    "id": "AG3FQEch-yuA"
   },
   "source": [
    "## Part 2 - Data Preprocessing"
   ]
  },
  {
   "cell_type": "markdown",
   "metadata": {
    "colab_type": "text",
    "id": "-4zq8Mza_D9O"
   },
   "source": [
    "### Importing the dataset"
   ]
  },
  {
   "cell_type": "code",
   "execution_count": 28,
   "metadata": {
    "ExecuteTime": {
     "end_time": "2024-07-01T04:46:36.971397500Z",
     "start_time": "2024-07-01T04:46:36.889644800Z"
    }
   },
   "outputs": [
    {
     "name": "stdout",
     "output_type": "stream",
     "text": [
      "input G:\\Chamodi\\Machine_Learning\\Pressure_history_2\\Pressure_profiles_arrival_omitted\n",
      "2 [WindowsPath('G:/Chamodi/Machine_Learning/Pressure_history_2/Pressure_profiles_arrival_omitted/L13_1'), WindowsPath('G:/Chamodi/Machine_Learning/Pressure_history_2/Pressure_profiles_arrival_omitted/L13_11'), WindowsPath('G:/Chamodi/Machine_Learning/Pressure_history_2/Pressure_profiles_arrival_omitted/L13_13'), WindowsPath('G:/Chamodi/Machine_Learning/Pressure_history_2/Pressure_profiles_arrival_omitted/L13_15'), WindowsPath('G:/Chamodi/Machine_Learning/Pressure_history_2/Pressure_profiles_arrival_omitted/L13_17'), WindowsPath('G:/Chamodi/Machine_Learning/Pressure_history_2/Pressure_profiles_arrival_omitted/L13_19'), WindowsPath('G:/Chamodi/Machine_Learning/Pressure_history_2/Pressure_profiles_arrival_omitted/L13_21'), WindowsPath('G:/Chamodi/Machine_Learning/Pressure_history_2/Pressure_profiles_arrival_omitted/L13_23'), WindowsPath('G:/Chamodi/Machine_Learning/Pressure_history_2/Pressure_profiles_arrival_omitted/L13_25'), WindowsPath('G:/Chamodi/Machine_Learning/Pressure_history_2/Pressure_profiles_arrival_omitted/L13_27'), WindowsPath('G:/Chamodi/Machine_Learning/Pressure_history_2/Pressure_profiles_arrival_omitted/L13_29'), WindowsPath('G:/Chamodi/Machine_Learning/Pressure_history_2/Pressure_profiles_arrival_omitted/L13_3'), WindowsPath('G:/Chamodi/Machine_Learning/Pressure_history_2/Pressure_profiles_arrival_omitted/L13_31'), WindowsPath('G:/Chamodi/Machine_Learning/Pressure_history_2/Pressure_profiles_arrival_omitted/L13_33'), WindowsPath('G:/Chamodi/Machine_Learning/Pressure_history_2/Pressure_profiles_arrival_omitted/L13_35'), WindowsPath('G:/Chamodi/Machine_Learning/Pressure_history_2/Pressure_profiles_arrival_omitted/L13_37'), WindowsPath('G:/Chamodi/Machine_Learning/Pressure_history_2/Pressure_profiles_arrival_omitted/L13_39'), WindowsPath('G:/Chamodi/Machine_Learning/Pressure_history_2/Pressure_profiles_arrival_omitted/L13_41'), WindowsPath('G:/Chamodi/Machine_Learning/Pressure_history_2/Pressure_profiles_arrival_omitted/L13_43'), WindowsPath('G:/Chamodi/Machine_Learning/Pressure_history_2/Pressure_profiles_arrival_omitted/L13_45'), WindowsPath('G:/Chamodi/Machine_Learning/Pressure_history_2/Pressure_profiles_arrival_omitted/L13_47'), WindowsPath('G:/Chamodi/Machine_Learning/Pressure_history_2/Pressure_profiles_arrival_omitted/L13_49'), WindowsPath('G:/Chamodi/Machine_Learning/Pressure_history_2/Pressure_profiles_arrival_omitted/L13_5'), WindowsPath('G:/Chamodi/Machine_Learning/Pressure_history_2/Pressure_profiles_arrival_omitted/L13_51'), WindowsPath('G:/Chamodi/Machine_Learning/Pressure_history_2/Pressure_profiles_arrival_omitted/L13_53'), WindowsPath('G:/Chamodi/Machine_Learning/Pressure_history_2/Pressure_profiles_arrival_omitted/L13_55'), WindowsPath('G:/Chamodi/Machine_Learning/Pressure_history_2/Pressure_profiles_arrival_omitted/L13_57'), WindowsPath('G:/Chamodi/Machine_Learning/Pressure_history_2/Pressure_profiles_arrival_omitted/L13_59'), WindowsPath('G:/Chamodi/Machine_Learning/Pressure_history_2/Pressure_profiles_arrival_omitted/L13_61'), WindowsPath('G:/Chamodi/Machine_Learning/Pressure_history_2/Pressure_profiles_arrival_omitted/L13_63'), WindowsPath('G:/Chamodi/Machine_Learning/Pressure_history_2/Pressure_profiles_arrival_omitted/L13_65'), WindowsPath('G:/Chamodi/Machine_Learning/Pressure_history_2/Pressure_profiles_arrival_omitted/L13_67'), WindowsPath('G:/Chamodi/Machine_Learning/Pressure_history_2/Pressure_profiles_arrival_omitted/L13_69'), WindowsPath('G:/Chamodi/Machine_Learning/Pressure_history_2/Pressure_profiles_arrival_omitted/L13_7'), WindowsPath('G:/Chamodi/Machine_Learning/Pressure_history_2/Pressure_profiles_arrival_omitted/L13_70'), WindowsPath('G:/Chamodi/Machine_Learning/Pressure_history_2/Pressure_profiles_arrival_omitted/L13_9')]\n"
     ]
    }
   ],
   "source": [
    "#Access input folder\n",
    "current_dir = Path.cwd()\n",
    "parent_dir = current_dir.parent\n",
    "input_dir1 = Path (parent_dir/\"Pressure_profiles_arrival_omitted\")\n",
    "print (\"input\",input_dir1)\n",
    "\n",
    "#Access folders inside input folder\n",
    "input_dir2_train =  [folder_input for folder_input in input_dir1.iterdir() if folder_input.is_dir()]\n",
    "print (\"2\",input_dir2_train)"
   ]
  },
  {
   "cell_type": "code",
   "execution_count": 29,
   "metadata": {
    "ExecuteTime": {
     "end_time": "2024-07-01T04:47:15.018751200Z",
     "start_time": "2024-07-01T04:46:41.221507500Z"
    }
   },
   "outputs": [
    {
     "name": "stdout",
     "output_type": "stream",
     "text": [
      "folder G:\\Chamodi\\Machine_Learning\\Pressure_history_2\\Pressure_profiles_arrival_omitted\\L13_1\n",
      "P13\n",
      "P5\n",
      "P9\n",
      "folder G:\\Chamodi\\Machine_Learning\\Pressure_history_2\\Pressure_profiles_arrival_omitted\\L13_11\n",
      "P13\n",
      "P5\n",
      "P9\n",
      "folder G:\\Chamodi\\Machine_Learning\\Pressure_history_2\\Pressure_profiles_arrival_omitted\\L13_13\n",
      "P13\n",
      "P5\n",
      "P9\n",
      "folder G:\\Chamodi\\Machine_Learning\\Pressure_history_2\\Pressure_profiles_arrival_omitted\\L13_15\n",
      "P13\n",
      "P5\n",
      "P9\n",
      "folder G:\\Chamodi\\Machine_Learning\\Pressure_history_2\\Pressure_profiles_arrival_omitted\\L13_17\n",
      "P13\n",
      "P5\n",
      "P9\n",
      "folder G:\\Chamodi\\Machine_Learning\\Pressure_history_2\\Pressure_profiles_arrival_omitted\\L13_19\n",
      "P13\n",
      "P5\n",
      "P9\n",
      "folder G:\\Chamodi\\Machine_Learning\\Pressure_history_2\\Pressure_profiles_arrival_omitted\\L13_21\n",
      "P13\n",
      "P5\n",
      "P9\n",
      "folder G:\\Chamodi\\Machine_Learning\\Pressure_history_2\\Pressure_profiles_arrival_omitted\\L13_23\n",
      "P13\n",
      "P5\n",
      "P9\n",
      "folder G:\\Chamodi\\Machine_Learning\\Pressure_history_2\\Pressure_profiles_arrival_omitted\\L13_25\n",
      "P13\n",
      "P5\n",
      "P9\n",
      "folder G:\\Chamodi\\Machine_Learning\\Pressure_history_2\\Pressure_profiles_arrival_omitted\\L13_27\n",
      "P13\n",
      "P5\n",
      "P9\n",
      "folder G:\\Chamodi\\Machine_Learning\\Pressure_history_2\\Pressure_profiles_arrival_omitted\\L13_29\n",
      "P13\n",
      "P5\n",
      "P9\n",
      "folder G:\\Chamodi\\Machine_Learning\\Pressure_history_2\\Pressure_profiles_arrival_omitted\\L13_3\n",
      "P13\n",
      "P5\n",
      "P9\n",
      "folder G:\\Chamodi\\Machine_Learning\\Pressure_history_2\\Pressure_profiles_arrival_omitted\\L13_31\n",
      "P13\n",
      "P5\n",
      "P9\n",
      "folder G:\\Chamodi\\Machine_Learning\\Pressure_history_2\\Pressure_profiles_arrival_omitted\\L13_33\n",
      "P13\n",
      "P5\n",
      "P9\n",
      "folder G:\\Chamodi\\Machine_Learning\\Pressure_history_2\\Pressure_profiles_arrival_omitted\\L13_35\n",
      "P13\n",
      "P5\n",
      "P9\n",
      "folder G:\\Chamodi\\Machine_Learning\\Pressure_history_2\\Pressure_profiles_arrival_omitted\\L13_37\n",
      "P13\n",
      "P5\n",
      "P9\n",
      "folder G:\\Chamodi\\Machine_Learning\\Pressure_history_2\\Pressure_profiles_arrival_omitted\\L13_39\n",
      "P13\n",
      "P5\n",
      "P9\n",
      "folder G:\\Chamodi\\Machine_Learning\\Pressure_history_2\\Pressure_profiles_arrival_omitted\\L13_41\n",
      "P13\n",
      "P5\n",
      "P9\n",
      "folder G:\\Chamodi\\Machine_Learning\\Pressure_history_2\\Pressure_profiles_arrival_omitted\\L13_43\n",
      "P13\n",
      "P5\n",
      "P9\n",
      "folder G:\\Chamodi\\Machine_Learning\\Pressure_history_2\\Pressure_profiles_arrival_omitted\\L13_45\n",
      "P13\n",
      "P5\n",
      "P9\n",
      "folder G:\\Chamodi\\Machine_Learning\\Pressure_history_2\\Pressure_profiles_arrival_omitted\\L13_47\n",
      "P13\n",
      "P5\n",
      "P9\n",
      "folder G:\\Chamodi\\Machine_Learning\\Pressure_history_2\\Pressure_profiles_arrival_omitted\\L13_49\n",
      "P13\n",
      "P5\n",
      "P9\n",
      "folder G:\\Chamodi\\Machine_Learning\\Pressure_history_2\\Pressure_profiles_arrival_omitted\\L13_5\n",
      "P13\n",
      "P5\n",
      "P9\n",
      "folder G:\\Chamodi\\Machine_Learning\\Pressure_history_2\\Pressure_profiles_arrival_omitted\\L13_51\n",
      "P13\n",
      "P5\n",
      "P9\n",
      "folder G:\\Chamodi\\Machine_Learning\\Pressure_history_2\\Pressure_profiles_arrival_omitted\\L13_53\n",
      "P13\n",
      "P5\n",
      "P9\n",
      "folder G:\\Chamodi\\Machine_Learning\\Pressure_history_2\\Pressure_profiles_arrival_omitted\\L13_55\n",
      "P13\n",
      "P5\n",
      "P9\n",
      "folder G:\\Chamodi\\Machine_Learning\\Pressure_history_2\\Pressure_profiles_arrival_omitted\\L13_57\n",
      "P13\n",
      "P5\n",
      "P9\n",
      "folder G:\\Chamodi\\Machine_Learning\\Pressure_history_2\\Pressure_profiles_arrival_omitted\\L13_59\n",
      "P13\n",
      "P5\n",
      "P9\n",
      "folder G:\\Chamodi\\Machine_Learning\\Pressure_history_2\\Pressure_profiles_arrival_omitted\\L13_61\n",
      "P13\n",
      "P5\n",
      "P9\n",
      "folder G:\\Chamodi\\Machine_Learning\\Pressure_history_2\\Pressure_profiles_arrival_omitted\\L13_63\n",
      "P13\n",
      "P5\n",
      "P9\n",
      "folder G:\\Chamodi\\Machine_Learning\\Pressure_history_2\\Pressure_profiles_arrival_omitted\\L13_65\n",
      "P13\n",
      "P5\n",
      "P9\n",
      "folder G:\\Chamodi\\Machine_Learning\\Pressure_history_2\\Pressure_profiles_arrival_omitted\\L13_67\n",
      "P13\n",
      "P5\n",
      "P9\n",
      "folder G:\\Chamodi\\Machine_Learning\\Pressure_history_2\\Pressure_profiles_arrival_omitted\\L13_69\n",
      "P13\n",
      "P5\n",
      "P9\n",
      "folder G:\\Chamodi\\Machine_Learning\\Pressure_history_2\\Pressure_profiles_arrival_omitted\\L13_7\n",
      "P13\n",
      "P5\n",
      "P9\n",
      "folder G:\\Chamodi\\Machine_Learning\\Pressure_history_2\\Pressure_profiles_arrival_omitted\\L13_70\n",
      "P13\n",
      "P5\n",
      "P9\n",
      "folder G:\\Chamodi\\Machine_Learning\\Pressure_history_2\\Pressure_profiles_arrival_omitted\\L13_9\n",
      "P13\n",
      "P5\n",
      "P9\n"
     ]
    }
   ],
   "source": [
    "# Access each folder inside input folder\n",
    "dataset_train = pd.DataFrame(columns = ['Charge_mass', 'Standoff_distance', 'Time', 'Pressure', 'Phase'])\n",
    "df_list_train = []\n",
    "for folder_train in input_dir2_train:\n",
    "    \n",
    "    # Make a list of data file names\n",
    "    files_train = list(file_train for file_train in folder_train.rglob(\"*.xlsx\") if 2 < int(file_train.stem[1:]) < 14)\n",
    "    print (\"folder\", folder_train)\n",
    "    \n",
    "    for file_train in files_train:\n",
    "        df_list_train.append(pd.read_excel(file_train))\n",
    "        print (file_train.stem)\n",
    "\n",
    "dataset_train = pd.concat(df_list_train, ignore_index = True)"
   ]
  },
  {
   "cell_type": "code",
   "execution_count": 30,
   "metadata": {
    "colab": {},
    "colab_type": "code",
    "id": "B9CV13Co_HHM",
    "ExecuteTime": {
     "end_time": "2024-07-01T05:39:08.390311500Z",
     "start_time": "2024-07-01T05:39:08.347999200Z"
    }
   },
   "outputs": [
    {
     "name": "stdout",
     "output_type": "stream",
     "text": [
      "<class 'pandas.core.frame.DataFrame'>\n",
      "RangeIndex: 365320 entries, 0 to 365319\n",
      "Data columns (total 5 columns):\n",
      " #   Column             Non-Null Count   Dtype  \n",
      "---  ------             --------------   -----  \n",
      " 0   Charge_mass        365320 non-null  float64\n",
      " 1   Standoff_distance  365320 non-null  int64  \n",
      " 2   Time               365320 non-null  float64\n",
      " 3   Pressure           365320 non-null  float64\n",
      " 4   Phase              365320 non-null  object \n",
      "dtypes: float64(3), int64(1), object(1)\n",
      "memory usage: 13.9+ MB\n"
     ]
    }
   ],
   "source": [
    "dataset_train.info()"
   ]
  },
  {
   "cell_type": "code",
   "execution_count": 31,
   "outputs": [
    {
     "name": "stdout",
     "output_type": "stream",
     "text": [
      "<class 'pandas.core.frame.DataFrame'>\n",
      "RangeIndex: 365320 entries, 0 to 365319\n",
      "Data columns (total 6 columns):\n",
      " #   Column             Non-Null Count   Dtype  \n",
      "---  ------             --------------   -----  \n",
      " 0   Charge_mass        365320 non-null  float64\n",
      " 1   Standoff_distance  365320 non-null  int64  \n",
      " 2   Time               365320 non-null  float64\n",
      " 3   Pressure           365320 non-null  float64\n",
      " 4   Phase_negative     365320 non-null  uint8  \n",
      " 5   Phase_positive     365320 non-null  uint8  \n",
      "dtypes: float64(3), int64(1), uint8(2)\n",
      "memory usage: 11.8 MB\n"
     ]
    }
   ],
   "source": [
    "dataset_train = pd.get_dummies(dataset_train, columns =['Phase'], dtype = np.uint8)\n",
    "dataset_train.info()"
   ],
   "metadata": {
    "collapsed": false,
    "ExecuteTime": {
     "end_time": "2024-07-01T05:39:09.823247Z",
     "start_time": "2024-07-01T05:39:09.728259700Z"
    }
   }
  },
  {
   "cell_type": "code",
   "execution_count": 32,
   "outputs": [
    {
     "data": {
      "text/plain": "    Charge_mass  Standoff_distance     Time      Pressure  Phase_negative  \\\n0           0.5                  7  0.01588  113668.39844               0   \n1           0.5                  7  0.01589  113057.68750               0   \n2           0.5                  7  0.01590  113399.80469               0   \n3           0.5                  7  0.01591  113217.99219               0   \n4           0.5                  7  0.01592  113204.15625               0   \n5           0.5                  7  0.01593  113132.22656               0   \n6           0.5                  7  0.01594  113051.35156               0   \n7           0.5                  7  0.01595  113006.08594               0   \n8           0.5                  7  0.01596  112929.44531               0   \n9           0.5                  7  0.01597  112869.72656               0   \n10          0.5                  7  0.01598  112806.28125               0   \n11          0.5                  7  0.01599  112741.43750               0   \n12          0.5                  7  0.01600  112681.39844               0   \n13          0.5                  7  0.01601  112614.34375               0   \n14          0.5                  7  0.01602  112553.10156               0   \n15          0.5                  7  0.01603  112490.71094               0   \n16          0.5                  7  0.01604  112425.99219               0   \n17          0.5                  7  0.01605  112364.58594               0   \n18          0.5                  7  0.01606  112302.69531               0   \n19          0.5                  7  0.01607  112241.47656               0   \n20          0.5                  7  0.01608  112177.60156               0   \n21          0.5                  7  0.01609  112116.53125               0   \n22          0.5                  7  0.01610  112055.66406               0   \n23          0.5                  7  0.01611  111992.36719               0   \n24          0.5                  7  0.01612  111931.83594               0   \n25          0.5                  7  0.01613  111871.41406               0   \n26          0.5                  7  0.01614  111808.69531               0   \n27          0.5                  7  0.01615  111748.65625               0   \n28          0.5                  7  0.01616  111688.78125               0   \n29          0.5                  7  0.01617  111629.06250               0   \n\n    Phase_positive  \n0                1  \n1                1  \n2                1  \n3                1  \n4                1  \n5                1  \n6                1  \n7                1  \n8                1  \n9                1  \n10               1  \n11               1  \n12               1  \n13               1  \n14               1  \n15               1  \n16               1  \n17               1  \n18               1  \n19               1  \n20               1  \n21               1  \n22               1  \n23               1  \n24               1  \n25               1  \n26               1  \n27               1  \n28               1  \n29               1  ",
      "text/html": "<div>\n<style scoped>\n    .dataframe tbody tr th:only-of-type {\n        vertical-align: middle;\n    }\n\n    .dataframe tbody tr th {\n        vertical-align: top;\n    }\n\n    .dataframe thead th {\n        text-align: right;\n    }\n</style>\n<table border=\"1\" class=\"dataframe\">\n  <thead>\n    <tr style=\"text-align: right;\">\n      <th></th>\n      <th>Charge_mass</th>\n      <th>Standoff_distance</th>\n      <th>Time</th>\n      <th>Pressure</th>\n      <th>Phase_negative</th>\n      <th>Phase_positive</th>\n    </tr>\n  </thead>\n  <tbody>\n    <tr>\n      <th>0</th>\n      <td>0.5</td>\n      <td>7</td>\n      <td>0.01588</td>\n      <td>113668.39844</td>\n      <td>0</td>\n      <td>1</td>\n    </tr>\n    <tr>\n      <th>1</th>\n      <td>0.5</td>\n      <td>7</td>\n      <td>0.01589</td>\n      <td>113057.68750</td>\n      <td>0</td>\n      <td>1</td>\n    </tr>\n    <tr>\n      <th>2</th>\n      <td>0.5</td>\n      <td>7</td>\n      <td>0.01590</td>\n      <td>113399.80469</td>\n      <td>0</td>\n      <td>1</td>\n    </tr>\n    <tr>\n      <th>3</th>\n      <td>0.5</td>\n      <td>7</td>\n      <td>0.01591</td>\n      <td>113217.99219</td>\n      <td>0</td>\n      <td>1</td>\n    </tr>\n    <tr>\n      <th>4</th>\n      <td>0.5</td>\n      <td>7</td>\n      <td>0.01592</td>\n      <td>113204.15625</td>\n      <td>0</td>\n      <td>1</td>\n    </tr>\n    <tr>\n      <th>5</th>\n      <td>0.5</td>\n      <td>7</td>\n      <td>0.01593</td>\n      <td>113132.22656</td>\n      <td>0</td>\n      <td>1</td>\n    </tr>\n    <tr>\n      <th>6</th>\n      <td>0.5</td>\n      <td>7</td>\n      <td>0.01594</td>\n      <td>113051.35156</td>\n      <td>0</td>\n      <td>1</td>\n    </tr>\n    <tr>\n      <th>7</th>\n      <td>0.5</td>\n      <td>7</td>\n      <td>0.01595</td>\n      <td>113006.08594</td>\n      <td>0</td>\n      <td>1</td>\n    </tr>\n    <tr>\n      <th>8</th>\n      <td>0.5</td>\n      <td>7</td>\n      <td>0.01596</td>\n      <td>112929.44531</td>\n      <td>0</td>\n      <td>1</td>\n    </tr>\n    <tr>\n      <th>9</th>\n      <td>0.5</td>\n      <td>7</td>\n      <td>0.01597</td>\n      <td>112869.72656</td>\n      <td>0</td>\n      <td>1</td>\n    </tr>\n    <tr>\n      <th>10</th>\n      <td>0.5</td>\n      <td>7</td>\n      <td>0.01598</td>\n      <td>112806.28125</td>\n      <td>0</td>\n      <td>1</td>\n    </tr>\n    <tr>\n      <th>11</th>\n      <td>0.5</td>\n      <td>7</td>\n      <td>0.01599</td>\n      <td>112741.43750</td>\n      <td>0</td>\n      <td>1</td>\n    </tr>\n    <tr>\n      <th>12</th>\n      <td>0.5</td>\n      <td>7</td>\n      <td>0.01600</td>\n      <td>112681.39844</td>\n      <td>0</td>\n      <td>1</td>\n    </tr>\n    <tr>\n      <th>13</th>\n      <td>0.5</td>\n      <td>7</td>\n      <td>0.01601</td>\n      <td>112614.34375</td>\n      <td>0</td>\n      <td>1</td>\n    </tr>\n    <tr>\n      <th>14</th>\n      <td>0.5</td>\n      <td>7</td>\n      <td>0.01602</td>\n      <td>112553.10156</td>\n      <td>0</td>\n      <td>1</td>\n    </tr>\n    <tr>\n      <th>15</th>\n      <td>0.5</td>\n      <td>7</td>\n      <td>0.01603</td>\n      <td>112490.71094</td>\n      <td>0</td>\n      <td>1</td>\n    </tr>\n    <tr>\n      <th>16</th>\n      <td>0.5</td>\n      <td>7</td>\n      <td>0.01604</td>\n      <td>112425.99219</td>\n      <td>0</td>\n      <td>1</td>\n    </tr>\n    <tr>\n      <th>17</th>\n      <td>0.5</td>\n      <td>7</td>\n      <td>0.01605</td>\n      <td>112364.58594</td>\n      <td>0</td>\n      <td>1</td>\n    </tr>\n    <tr>\n      <th>18</th>\n      <td>0.5</td>\n      <td>7</td>\n      <td>0.01606</td>\n      <td>112302.69531</td>\n      <td>0</td>\n      <td>1</td>\n    </tr>\n    <tr>\n      <th>19</th>\n      <td>0.5</td>\n      <td>7</td>\n      <td>0.01607</td>\n      <td>112241.47656</td>\n      <td>0</td>\n      <td>1</td>\n    </tr>\n    <tr>\n      <th>20</th>\n      <td>0.5</td>\n      <td>7</td>\n      <td>0.01608</td>\n      <td>112177.60156</td>\n      <td>0</td>\n      <td>1</td>\n    </tr>\n    <tr>\n      <th>21</th>\n      <td>0.5</td>\n      <td>7</td>\n      <td>0.01609</td>\n      <td>112116.53125</td>\n      <td>0</td>\n      <td>1</td>\n    </tr>\n    <tr>\n      <th>22</th>\n      <td>0.5</td>\n      <td>7</td>\n      <td>0.01610</td>\n      <td>112055.66406</td>\n      <td>0</td>\n      <td>1</td>\n    </tr>\n    <tr>\n      <th>23</th>\n      <td>0.5</td>\n      <td>7</td>\n      <td>0.01611</td>\n      <td>111992.36719</td>\n      <td>0</td>\n      <td>1</td>\n    </tr>\n    <tr>\n      <th>24</th>\n      <td>0.5</td>\n      <td>7</td>\n      <td>0.01612</td>\n      <td>111931.83594</td>\n      <td>0</td>\n      <td>1</td>\n    </tr>\n    <tr>\n      <th>25</th>\n      <td>0.5</td>\n      <td>7</td>\n      <td>0.01613</td>\n      <td>111871.41406</td>\n      <td>0</td>\n      <td>1</td>\n    </tr>\n    <tr>\n      <th>26</th>\n      <td>0.5</td>\n      <td>7</td>\n      <td>0.01614</td>\n      <td>111808.69531</td>\n      <td>0</td>\n      <td>1</td>\n    </tr>\n    <tr>\n      <th>27</th>\n      <td>0.5</td>\n      <td>7</td>\n      <td>0.01615</td>\n      <td>111748.65625</td>\n      <td>0</td>\n      <td>1</td>\n    </tr>\n    <tr>\n      <th>28</th>\n      <td>0.5</td>\n      <td>7</td>\n      <td>0.01616</td>\n      <td>111688.78125</td>\n      <td>0</td>\n      <td>1</td>\n    </tr>\n    <tr>\n      <th>29</th>\n      <td>0.5</td>\n      <td>7</td>\n      <td>0.01617</td>\n      <td>111629.06250</td>\n      <td>0</td>\n      <td>1</td>\n    </tr>\n  </tbody>\n</table>\n</div>"
     },
     "execution_count": 32,
     "metadata": {},
     "output_type": "execute_result"
    }
   ],
   "source": [
    "dataset_train.head(30)"
   ],
   "metadata": {
    "collapsed": false,
    "ExecuteTime": {
     "end_time": "2024-07-01T05:39:11.004254600Z",
     "start_time": "2024-07-01T05:39:10.919200Z"
    }
   }
  },
  {
   "cell_type": "code",
   "execution_count": 33,
   "metadata": {
    "ExecuteTime": {
     "end_time": "2024-07-01T05:39:11.941839400Z",
     "start_time": "2024-07-01T05:39:11.921687400Z"
    }
   },
   "outputs": [
    {
     "name": "stdout",
     "output_type": "stream",
     "text": [
      "(365320, 5) (365320,)\n"
     ]
    }
   ],
   "source": [
    "y = dataset_train['Pressure']\n",
    "X = dataset_train.drop(['Pressure'], axis=1)\n",
    "print(X.shape, y.shape)"
   ]
  },
  {
   "cell_type": "code",
   "execution_count": 34,
   "metadata": {
    "ExecuteTime": {
     "end_time": "2024-07-01T05:39:12.860413300Z",
     "start_time": "2024-07-01T05:39:12.816576200Z"
    }
   },
   "outputs": [],
   "source": [
    "# convert to numpy array\n",
    "X = np.array(X)\n",
    "y = np.array(y)"
   ]
  },
  {
   "cell_type": "markdown",
   "metadata": {
    "colab_type": "text",
    "id": "VC6omXel_Up0"
   },
   "source": [
    "### Splitting the dataset into the Training set and Test set"
   ]
  },
  {
   "cell_type": "code",
   "execution_count": 35,
   "metadata": {
    "colab": {},
    "colab_type": "code",
    "id": "L5edeb2r_agx",
    "ExecuteTime": {
     "end_time": "2024-07-01T05:39:14.169023400Z",
     "start_time": "2024-07-01T05:39:14.067773500Z"
    }
   },
   "outputs": [],
   "source": [
    "from sklearn.model_selection import train_test_split\n",
    "X_train, X_test, y_train, y_test = train_test_split(X,\n",
    "                                                    y,\n",
    "                                                    test_size = 0.4,\n",
    "                                                    random_state = 0)"
   ]
  },
  {
   "cell_type": "code",
   "execution_count": 36,
   "metadata": {
    "colab": {},
    "colab_type": "code",
    "id": "L5edeb2r_agx",
    "ExecuteTime": {
     "end_time": "2024-07-01T05:39:15.328484600Z",
     "start_time": "2024-07-01T05:39:15.280641100Z"
    }
   },
   "outputs": [],
   "source": [
    "X_val, X_test, y_val, y_test = train_test_split(X_test,\n",
    "                                                y_test,\n",
    "                                                test_size = 0.5,\n",
    "                                                random_state = 0)"
   ]
  },
  {
   "cell_type": "markdown",
   "source": [
    "## Feature scaling"
   ],
   "metadata": {
    "collapsed": false
   }
  },
  {
   "cell_type": "code",
   "execution_count": 37,
   "outputs": [
    {
     "name": "stdout",
     "output_type": "stream",
     "text": [
      "[[-1.9215324  -1.25843172 -0.75775388  1.          0.        ]\n",
      " [ 1.34003331 -0.03361115 -0.1396086   1.          0.        ]\n",
      " [-1.41191276 -0.03361115  0.51024511  1.          0.        ]\n",
      " ...\n",
      " [ 0.01502224  1.19120942  0.32091329  1.          0.        ]\n",
      " [-0.39267348 -0.03361115  1.27366789  1.          0.        ]\n",
      " [ 1.23810938 -1.25843172 -0.58252938  1.          0.        ]]\n"
     ]
    }
   ],
   "source": [
    "from sklearn.preprocessing import StandardScaler\n",
    "sc = StandardScaler()\n",
    "X_train[:,0:3] = sc.fit_transform(X_train[:, 0:3])\n",
    "print (X_train)"
   ],
   "metadata": {
    "collapsed": false,
    "ExecuteTime": {
     "end_time": "2024-07-01T05:39:16.528607600Z",
     "start_time": "2024-07-01T05:39:16.441947800Z"
    }
   }
  },
  {
   "cell_type": "code",
   "execution_count": 38,
   "outputs": [
    {
     "name": "stdout",
     "output_type": "stream",
     "text": [
      "[[-1.51383669 -1.25843172 -1.4384369   1.          0.        ]\n",
      " [ 0.93233759 -0.03361115 -0.28137247  1.          0.        ]\n",
      " [ 1.4929192  -1.25843172 -1.74927581  0.          1.        ]\n",
      " ...\n",
      " [-0.39267348 -1.25843172 -1.07916175  1.          0.        ]\n",
      " [ 1.44195724 -1.25843172  0.27953943  1.          0.        ]\n",
      " [-1.51383669 -0.03361115  0.22406506  1.          0.        ]]\n"
     ]
    }
   ],
   "source": [
    "X_test[:,0:3] = sc.transform(X_test[:,0:3])\n",
    "print (X_test)"
   ],
   "metadata": {
    "collapsed": false,
    "ExecuteTime": {
     "end_time": "2024-07-01T05:39:17.674095400Z",
     "start_time": "2024-07-01T05:39:17.629369700Z"
    }
   }
  },
  {
   "cell_type": "code",
   "execution_count": 39,
   "outputs": [
    {
     "name": "stdout",
     "output_type": "stream",
     "text": [
      "[[-0.90229312 -0.03361115 -0.04186632  1.          0.        ]\n",
      " [-0.08690169 -0.03361115 -1.13552477  1.          0.        ]\n",
      " [ 0.42271795 -0.03361115 -0.11408368  1.          0.        ]\n",
      " ...\n",
      " [-1.10614097 -0.03361115 -1.07036259  1.          0.        ]\n",
      " [-1.10614097 -0.03361115 -0.79651552  1.          0.        ]\n",
      " [ 0.72848974 -1.25843172 -0.2400055   1.          0.        ]]\n"
     ]
    }
   ],
   "source": [
    "X_val[:,0:3] = sc.transform(X_val[:,0:3])\n",
    "print (X_val)"
   ],
   "metadata": {
    "collapsed": false,
    "ExecuteTime": {
     "end_time": "2024-07-01T05:39:19.055162900Z",
     "start_time": "2024-07-01T05:39:19.007718600Z"
    }
   }
  },
  {
   "cell_type": "code",
   "execution_count": 40,
   "outputs": [
    {
     "name": "stdout",
     "output_type": "stream",
     "text": [
      "X_train 219192\n",
      "X_test 73064\n",
      "X_val 73064\n"
     ]
    }
   ],
   "source": [
    "print (\"X_train\", len(X_train))\n",
    "print (\"X_test\", len(X_test))\n",
    "print (\"X_val\", len(X_val))"
   ],
   "metadata": {
    "collapsed": false,
    "ExecuteTime": {
     "end_time": "2024-07-01T05:39:21.497323500Z",
     "start_time": "2024-07-01T05:39:21.449899200Z"
    }
   }
  },
  {
   "cell_type": "markdown",
   "metadata": {
    "colab_type": "text",
    "id": "_mSLlAT9_eyI"
   },
   "source": [
    "## Part 3 - Building the ANN"
   ]
  },
  {
   "cell_type": "code",
   "execution_count": null,
   "outputs": [],
   "source": [
    "from tensorflow.keras.Model import Sequential\n",
    "#from tensorflow.keras.layers import Dense"
   ],
   "metadata": {
    "collapsed": false
   }
  },
  {
   "cell_type": "markdown",
   "metadata": {
    "colab_type": "text",
    "id": "CsBULd_f_wLY",
    "ExecuteTime": {
     "end_time": "2024-05-17T00:22:15.936573100Z",
     "start_time": "2024-05-17T00:22:15.887018800Z"
    }
   },
   "source": [
    "### Initializing the ANN"
   ]
  },
  {
   "cell_type": "code",
   "execution_count": 41,
   "metadata": {
    "colab": {},
    "colab_type": "code",
    "id": "J6Hd97Ls__Nz",
    "ExecuteTime": {
     "end_time": "2024-07-01T05:39:23.704749700Z",
     "start_time": "2024-07-01T05:39:23.691735800Z"
    }
   },
   "outputs": [],
   "source": [
    "ann = tf.keras.models.Sequential()"
   ]
  },
  {
   "cell_type": "markdown",
   "metadata": {
    "colab_type": "text",
    "id": "iitAFJS_ABUn",
    "ExecuteTime": {
     "end_time": "2024-05-17T00:22:27.900273900Z",
     "start_time": "2024-05-17T00:22:27.795675300Z"
    }
   },
   "source": [
    "### Adding the input layers"
   ]
  },
  {
   "cell_type": "code",
   "execution_count": 42,
   "metadata": {
    "colab": {},
    "colab_type": "code",
    "id": "ksO_Vv40AHix",
    "ExecuteTime": {
     "end_time": "2024-07-01T05:39:26.402534Z",
     "start_time": "2024-07-01T05:39:26.307269100Z"
    }
   },
   "outputs": [],
   "source": [
    "ann.add(tf.keras.layers.Dense(units=200,\n",
    "                              input_shape=(X_train.shape[1],),\n",
    "                              activation='leaky_relu'))"
   ]
  },
  {
   "cell_type": "code",
   "execution_count": 43,
   "outputs": [],
   "source": [
    "ann.add(tf.keras.layers.Dense(units=150,\n",
    "                              input_shape=(X_train.shape[1],),\n",
    "                              activation='leaky_relu'))"
   ],
   "metadata": {
    "collapsed": false,
    "ExecuteTime": {
     "end_time": "2024-07-01T05:39:27.393205700Z",
     "start_time": "2024-07-01T05:39:27.347976400Z"
    }
   }
  },
  {
   "cell_type": "code",
   "execution_count": 44,
   "outputs": [],
   "source": [
    "ann.add(tf.keras.layers.Dense(units=125,\n",
    "                              input_shape=(X_train.shape[1],),\n",
    "                              activation='leaky_relu'))"
   ],
   "metadata": {
    "collapsed": false,
    "ExecuteTime": {
     "end_time": "2024-07-01T05:39:28.269020700Z",
     "start_time": "2024-07-01T05:39:28.223317Z"
    }
   }
  },
  {
   "cell_type": "code",
   "execution_count": 45,
   "metadata": {
    "colab": {},
    "colab_type": "code",
    "id": "c2357OqEAQOQ",
    "tags": [],
    "ExecuteTime": {
     "end_time": "2024-07-01T05:39:29.405152400Z",
     "start_time": "2024-07-01T05:39:29.348161500Z"
    }
   },
   "outputs": [],
   "source": [
    "ann.add(tf.keras.layers.Dense(units=100,\n",
    "                              activation='leaky_relu'))"
   ]
  },
  {
   "cell_type": "markdown",
   "metadata": {
    "colab_type": "text",
    "id": "jwMOmKb3AdBY",
    "ExecuteTime": {
     "end_time": "2024-05-17T00:22:40.768498200Z",
     "start_time": "2024-05-17T00:22:40.691380600Z"
    }
   },
   "source": [
    "### Adding the output layer"
   ]
  },
  {
   "cell_type": "code",
   "execution_count": 46,
   "metadata": {
    "colab": {},
    "colab_type": "code",
    "id": "YFATpzsUAkLL",
    "ExecuteTime": {
     "end_time": "2024-07-01T05:39:30.785673300Z",
     "start_time": "2024-07-01T05:39:30.731717800Z"
    }
   },
   "outputs": [],
   "source": [
    "ann.add(tf.keras.layers.Dense(units=1,\n",
    "                              activation='linear'))"
   ]
  },
  {
   "cell_type": "markdown",
   "metadata": {
    "ExecuteTime": {
     "end_time": "2024-05-17T00:22:43.128681100Z",
     "start_time": "2024-05-17T00:22:43.018520200Z"
    }
   },
   "source": [
    "### what model looks like"
   ]
  },
  {
   "cell_type": "code",
   "execution_count": 47,
   "metadata": {
    "ExecuteTime": {
     "end_time": "2024-07-01T05:39:32.285765500Z",
     "start_time": "2024-07-01T05:39:32.140914700Z"
    }
   },
   "outputs": [
    {
     "name": "stdout",
     "output_type": "stream",
     "text": [
      "Model: \"sequential_1\"\n",
      "_________________________________________________________________\n",
      " Layer (type)                Output Shape              Param #   \n",
      "=================================================================\n",
      " dense_5 (Dense)             (None, 200)               1200      \n",
      "                                                                 \n",
      " dense_6 (Dense)             (None, 150)               30150     \n",
      "                                                                 \n",
      " dense_7 (Dense)             (None, 125)               18875     \n",
      "                                                                 \n",
      " dense_8 (Dense)             (None, 100)               12600     \n",
      "                                                                 \n",
      " dense_9 (Dense)             (None, 1)                 101       \n",
      "                                                                 \n",
      "=================================================================\n",
      "Total params: 62,926\n",
      "Trainable params: 62,926\n",
      "Non-trainable params: 0\n",
      "_________________________________________________________________\n"
     ]
    }
   ],
   "source": [
    "ann.summary()"
   ]
  },
  {
   "cell_type": "markdown",
   "metadata": {
    "colab_type": "text",
    "id": "fq7e4fF6A1yy"
   },
   "source": [
    "## Part 4 - Training the ANN"
   ]
  },
  {
   "cell_type": "markdown",
   "metadata": {
    "colab_type": "text",
    "id": "qDeylAs2An25",
    "ExecuteTime": {
     "end_time": "2024-05-17T00:22:48.075166100Z",
     "start_time": "2024-05-17T00:22:48.001599200Z"
    }
   },
   "source": [
    "### Compiling the ANN"
   ]
  },
  {
   "cell_type": "code",
   "execution_count": 48,
   "metadata": {
    "colab": {},
    "colab_type": "code",
    "id": "pesgbWlCAtB4",
    "ExecuteTime": {
     "end_time": "2024-07-01T05:39:34.254443300Z",
     "start_time": "2024-07-01T05:39:34.223019100Z"
    }
   },
   "outputs": [],
   "source": [
    "# from tensorflow.keras.optimizers import Adam\n",
    "from keras.optimizers import Adam\n",
    "opt = Adam(learning_rate=0.01)\n",
    "ann.compile(optimizer = opt,\n",
    "            loss = 'mean_squared_error',\n",
    "            metrics = ['mae'])"
   ]
  },
  {
   "cell_type": "markdown",
   "metadata": {
    "ExecuteTime": {
     "end_time": "2024-05-17T00:22:51.477040100Z",
     "start_time": "2024-05-17T00:22:51.410460500Z"
    }
   },
   "source": [
    "### early stopping callback"
   ]
  },
  {
   "cell_type": "code",
   "execution_count": 49,
   "metadata": {
    "ExecuteTime": {
     "end_time": "2024-07-01T05:39:36.410903600Z",
     "start_time": "2024-07-01T05:39:36.364074800Z"
    }
   },
   "outputs": [],
   "source": [
    "# protects from unnecessary further training of the model if a particular metric does not continue to improve over a number of n epochs. In such a case, the model training would be automatically aborted.\n",
    "from keras.callbacks import EarlyStopping\n",
    "es = EarlyStopping(monitor='val_loss',\n",
    "                   mode='min',\n",
    "                   patience=50,\n",
    "                   restore_best_weights = True)"
   ]
  },
  {
   "cell_type": "markdown",
   "metadata": {
    "colab_type": "text",
    "id": "YjVuiybYOo7r",
    "ExecuteTime": {
     "end_time": "2024-05-17T08:14:04.840731900Z",
     "start_time": "2024-05-17T07:02:12.663424400Z"
    }
   },
   "source": [
    "### Training the ANN model on the Training set"
   ]
  },
  {
   "cell_type": "code",
   "execution_count": 50,
   "metadata": {
    "colab": {
     "base_uri": "https://localhost:8080/",
     "height": 1000
    },
    "colab_type": "code",
    "id": "c_vV-tiiA5zn",
    "outputId": "4a2b6ee6-ed75-4698-9069-b250e613803f",
    "ExecuteTime": {
     "end_time": "2024-07-01T07:25:47.237890100Z",
     "start_time": "2024-07-01T05:39:37.754299Z"
    }
   },
   "outputs": [
    {
     "name": "stdout",
     "output_type": "stream",
     "text": [
      "Epoch 1/400\n",
      "4384/4384 [==============================] - 33s 7ms/step - loss: 786624256.0000 - mae: 11206.0498 - val_loss: 672523648.0000 - val_mae: 8452.1709\n",
      "Epoch 2/400\n",
      "4384/4384 [==============================] - 27s 6ms/step - loss: 586377792.0000 - mae: 8730.1182 - val_loss: 633662784.0000 - val_mae: 10592.2373\n",
      "Epoch 3/400\n",
      "4384/4384 [==============================] - 27s 6ms/step - loss: 459301152.0000 - mae: 8153.8755 - val_loss: 433336864.0000 - val_mae: 6808.5020\n",
      "Epoch 4/400\n",
      "4384/4384 [==============================] - 27s 6ms/step - loss: 348571616.0000 - mae: 7283.2207 - val_loss: 161381648.0000 - val_mae: 4357.6689\n",
      "Epoch 5/400\n",
      "4384/4384 [==============================] - 27s 6ms/step - loss: 289744576.0000 - mae: 6335.2363 - val_loss: 207368848.0000 - val_mae: 5242.4780\n",
      "Epoch 6/400\n",
      "4384/4384 [==============================] - 27s 6ms/step - loss: 309753344.0000 - mae: 6234.4185 - val_loss: 188079200.0000 - val_mae: 5013.3032\n",
      "Epoch 7/400\n",
      "4384/4384 [==============================] - 27s 6ms/step - loss: 265592752.0000 - mae: 5844.5752 - val_loss: 133577952.0000 - val_mae: 4954.8516\n",
      "Epoch 8/400\n",
      "4384/4384 [==============================] - 28s 6ms/step - loss: 280264032.0000 - mae: 5736.0889 - val_loss: 154514192.0000 - val_mae: 4573.1753\n",
      "Epoch 9/400\n",
      "4384/4384 [==============================] - 28s 6ms/step - loss: 229551104.0000 - mae: 5326.7236 - val_loss: 957642432.0000 - val_mae: 8052.2798\n",
      "Epoch 10/400\n",
      "4384/4384 [==============================] - 28s 6ms/step - loss: 214934224.0000 - mae: 5240.7798 - val_loss: 433547840.0000 - val_mae: 6610.1216\n",
      "Epoch 11/400\n",
      "4384/4384 [==============================] - 27s 6ms/step - loss: 196266768.0000 - mae: 5064.2168 - val_loss: 195150688.0000 - val_mae: 4304.2363\n",
      "Epoch 12/400\n",
      "4384/4384 [==============================] - 27s 6ms/step - loss: 202757664.0000 - mae: 5004.4829 - val_loss: 137654704.0000 - val_mae: 3992.0906\n",
      "Epoch 13/400\n",
      "4384/4384 [==============================] - 27s 6ms/step - loss: 177010592.0000 - mae: 4617.1255 - val_loss: 102373368.0000 - val_mae: 3210.9033\n",
      "Epoch 14/400\n",
      "4384/4384 [==============================] - 27s 6ms/step - loss: 178299824.0000 - mae: 4476.3701 - val_loss: 103919768.0000 - val_mae: 4608.6919\n",
      "Epoch 15/400\n",
      "4384/4384 [==============================] - 26s 6ms/step - loss: 158841904.0000 - mae: 4398.7935 - val_loss: 150402096.0000 - val_mae: 4776.9873\n",
      "Epoch 16/400\n",
      "4384/4384 [==============================] - 26s 6ms/step - loss: 173148368.0000 - mae: 4345.4648 - val_loss: 158391344.0000 - val_mae: 3931.7754\n",
      "Epoch 17/400\n",
      "4384/4384 [==============================] - 26s 6ms/step - loss: 176829776.0000 - mae: 4282.1479 - val_loss: 498069984.0000 - val_mae: 6383.0239\n",
      "Epoch 18/400\n",
      "4384/4384 [==============================] - 26s 6ms/step - loss: 137112048.0000 - mae: 3870.4502 - val_loss: 61601836.0000 - val_mae: 2818.9832\n",
      "Epoch 19/400\n",
      "4384/4384 [==============================] - 26s 6ms/step - loss: 157995072.0000 - mae: 4146.9209 - val_loss: 58827256.0000 - val_mae: 2470.6118\n",
      "Epoch 20/400\n",
      "4384/4384 [==============================] - 26s 6ms/step - loss: 146177024.0000 - mae: 3877.3838 - val_loss: 131956152.0000 - val_mae: 3800.9043\n",
      "Epoch 21/400\n",
      "4384/4384 [==============================] - 26s 6ms/step - loss: 140080800.0000 - mae: 3874.8123 - val_loss: 80963448.0000 - val_mae: 3163.3887\n",
      "Epoch 22/400\n",
      "4384/4384 [==============================] - 26s 6ms/step - loss: 136742416.0000 - mae: 3693.8013 - val_loss: 271505696.0000 - val_mae: 4267.1714\n",
      "Epoch 23/400\n",
      "4384/4384 [==============================] - 25s 6ms/step - loss: 136221536.0000 - mae: 3735.2612 - val_loss: 702922240.0000 - val_mae: 7949.6558\n",
      "Epoch 24/400\n",
      "4384/4384 [==============================] - 25s 6ms/step - loss: 186462096.0000 - mae: 3945.1621 - val_loss: 48573876.0000 - val_mae: 2738.1392\n",
      "Epoch 25/400\n",
      "4384/4384 [==============================] - 25s 6ms/step - loss: 128854688.0000 - mae: 3560.5676 - val_loss: 100896336.0000 - val_mae: 2863.4968\n",
      "Epoch 26/400\n",
      "4384/4384 [==============================] - 25s 6ms/step - loss: 137923104.0000 - mae: 3518.6033 - val_loss: 53180684.0000 - val_mae: 2470.9089\n",
      "Epoch 27/400\n",
      "4384/4384 [==============================] - 25s 6ms/step - loss: 131349920.0000 - mae: 3447.3052 - val_loss: 65583200.0000 - val_mae: 2543.2839\n",
      "Epoch 28/400\n",
      "4384/4384 [==============================] - 26s 6ms/step - loss: 102612232.0000 - mae: 3158.1697 - val_loss: 64713588.0000 - val_mae: 3083.6086\n",
      "Epoch 29/400\n",
      "4384/4384 [==============================] - 25s 6ms/step - loss: 117591400.0000 - mae: 3264.1003 - val_loss: 60922448.0000 - val_mae: 3560.2893\n",
      "Epoch 30/400\n",
      "4384/4384 [==============================] - 25s 6ms/step - loss: 113593000.0000 - mae: 3208.4417 - val_loss: 80362192.0000 - val_mae: 3720.9277\n",
      "Epoch 31/400\n",
      "4384/4384 [==============================] - 26s 6ms/step - loss: 115877528.0000 - mae: 3214.7439 - val_loss: 269533952.0000 - val_mae: 5260.3999\n",
      "Epoch 32/400\n",
      "4384/4384 [==============================] - 25s 6ms/step - loss: 103182696.0000 - mae: 3005.9675 - val_loss: 94409600.0000 - val_mae: 3507.8967\n",
      "Epoch 33/400\n",
      "4384/4384 [==============================] - 25s 6ms/step - loss: 113896552.0000 - mae: 3158.1409 - val_loss: 153126800.0000 - val_mae: 3451.0066\n",
      "Epoch 34/400\n",
      "4384/4384 [==============================] - 25s 6ms/step - loss: 107539816.0000 - mae: 3041.7295 - val_loss: 43729220.0000 - val_mae: 2520.8530\n",
      "Epoch 35/400\n",
      "4384/4384 [==============================] - 25s 6ms/step - loss: 102373256.0000 - mae: 2993.5298 - val_loss: 86774400.0000 - val_mae: 2557.6123\n",
      "Epoch 36/400\n",
      "4384/4384 [==============================] - 25s 6ms/step - loss: 97070960.0000 - mae: 2992.4558 - val_loss: 96788352.0000 - val_mae: 2773.3794\n",
      "Epoch 37/400\n",
      "4384/4384 [==============================] - 25s 6ms/step - loss: 109650056.0000 - mae: 2985.3198 - val_loss: 106098784.0000 - val_mae: 4912.8203\n",
      "Epoch 38/400\n",
      "4384/4384 [==============================] - 25s 6ms/step - loss: 105979456.0000 - mae: 2903.6646 - val_loss: 45384076.0000 - val_mae: 1734.9559\n",
      "Epoch 39/400\n",
      "4384/4384 [==============================] - 25s 6ms/step - loss: 98697824.0000 - mae: 2803.5610 - val_loss: 136851536.0000 - val_mae: 2642.3884\n",
      "Epoch 40/400\n",
      "4384/4384 [==============================] - 25s 6ms/step - loss: 79449576.0000 - mae: 2681.0740 - val_loss: 38970056.0000 - val_mae: 3101.3560\n",
      "Epoch 41/400\n",
      "4384/4384 [==============================] - 25s 6ms/step - loss: 86543352.0000 - mae: 2603.6174 - val_loss: 208220304.0000 - val_mae: 3680.7551\n",
      "Epoch 42/400\n",
      "4384/4384 [==============================] - 25s 6ms/step - loss: 108771760.0000 - mae: 2865.6819 - val_loss: 65748968.0000 - val_mae: 1884.7189\n",
      "Epoch 43/400\n",
      "4384/4384 [==============================] - 25s 6ms/step - loss: 108467336.0000 - mae: 2922.1670 - val_loss: 109985672.0000 - val_mae: 4225.7271\n",
      "Epoch 44/400\n",
      "4384/4384 [==============================] - 25s 6ms/step - loss: 112696968.0000 - mae: 2863.9358 - val_loss: 73562072.0000 - val_mae: 2105.2473\n",
      "Epoch 45/400\n",
      "4384/4384 [==============================] - 25s 6ms/step - loss: 74708048.0000 - mae: 2502.7375 - val_loss: 455062752.0000 - val_mae: 5089.3979\n",
      "Epoch 46/400\n",
      "4384/4384 [==============================] - 26s 6ms/step - loss: 76479760.0000 - mae: 2555.2466 - val_loss: 97291112.0000 - val_mae: 2978.1140\n",
      "Epoch 47/400\n",
      "4384/4384 [==============================] - 25s 6ms/step - loss: 90794592.0000 - mae: 2664.4714 - val_loss: 45643312.0000 - val_mae: 1775.6509\n",
      "Epoch 48/400\n",
      "4384/4384 [==============================] - 25s 6ms/step - loss: 84959376.0000 - mae: 2623.3977 - val_loss: 60889288.0000 - val_mae: 2091.8035\n",
      "Epoch 49/400\n",
      "4384/4384 [==============================] - 24s 6ms/step - loss: 80425104.0000 - mae: 2496.3333 - val_loss: 30281872.0000 - val_mae: 1603.1704\n",
      "Epoch 50/400\n",
      "4384/4384 [==============================] - 24s 6ms/step - loss: 86707512.0000 - mae: 2569.4507 - val_loss: 36348512.0000 - val_mae: 1819.1748\n",
      "Epoch 51/400\n",
      "4384/4384 [==============================] - 24s 6ms/step - loss: 101580968.0000 - mae: 2718.8215 - val_loss: 55758940.0000 - val_mae: 2723.2332\n",
      "Epoch 52/400\n",
      "4384/4384 [==============================] - 25s 6ms/step - loss: 73354064.0000 - mae: 2436.9844 - val_loss: 44305208.0000 - val_mae: 2249.3572\n",
      "Epoch 53/400\n",
      "4384/4384 [==============================] - 25s 6ms/step - loss: 82336024.0000 - mae: 2435.5408 - val_loss: 36446848.0000 - val_mae: 1859.7639\n",
      "Epoch 54/400\n",
      "4384/4384 [==============================] - 25s 6ms/step - loss: 70122128.0000 - mae: 2375.6877 - val_loss: 153790640.0000 - val_mae: 4593.6494\n",
      "Epoch 55/400\n",
      "4384/4384 [==============================] - 25s 6ms/step - loss: 89585632.0000 - mae: 2609.3469 - val_loss: 48239344.0000 - val_mae: 2386.7092\n",
      "Epoch 56/400\n",
      "4384/4384 [==============================] - 24s 6ms/step - loss: 72524480.0000 - mae: 2390.5884 - val_loss: 25087602.0000 - val_mae: 1563.8291\n",
      "Epoch 57/400\n",
      "4384/4384 [==============================] - 24s 6ms/step - loss: 69804208.0000 - mae: 2357.6902 - val_loss: 34061436.0000 - val_mae: 2061.4214\n",
      "Epoch 58/400\n",
      "4384/4384 [==============================] - 24s 6ms/step - loss: 68899248.0000 - mae: 2338.0208 - val_loss: 377066336.0000 - val_mae: 4089.6384\n",
      "Epoch 59/400\n",
      "4384/4384 [==============================] - 24s 6ms/step - loss: 83919960.0000 - mae: 2474.6997 - val_loss: 38194488.0000 - val_mae: 1621.9866\n",
      "Epoch 60/400\n",
      "4384/4384 [==============================] - 24s 5ms/step - loss: 77257904.0000 - mae: 2338.5459 - val_loss: 377405216.0000 - val_mae: 3427.9211\n",
      "Epoch 61/400\n",
      "4384/4384 [==============================] - 24s 5ms/step - loss: 84425416.0000 - mae: 2529.1687 - val_loss: 88728584.0000 - val_mae: 3742.6016\n",
      "Epoch 62/400\n",
      "4384/4384 [==============================] - 24s 5ms/step - loss: 70931480.0000 - mae: 2342.4075 - val_loss: 43211392.0000 - val_mae: 2160.5015\n",
      "Epoch 63/400\n",
      "4384/4384 [==============================] - 25s 6ms/step - loss: 79426688.0000 - mae: 2457.0347 - val_loss: 47674184.0000 - val_mae: 2464.4048\n",
      "Epoch 64/400\n",
      "4384/4384 [==============================] - 24s 5ms/step - loss: 65144100.0000 - mae: 2195.6431 - val_loss: 25528822.0000 - val_mae: 2177.7192\n",
      "Epoch 65/400\n",
      "4384/4384 [==============================] - 24s 5ms/step - loss: 80866928.0000 - mae: 2402.3486 - val_loss: 225151280.0000 - val_mae: 6041.4419\n",
      "Epoch 66/400\n",
      "4384/4384 [==============================] - 24s 5ms/step - loss: 78011336.0000 - mae: 2355.9995 - val_loss: 41321252.0000 - val_mae: 2818.7959\n",
      "Epoch 67/400\n",
      "4384/4384 [==============================] - 24s 5ms/step - loss: 81489560.0000 - mae: 2338.0674 - val_loss: 27391020.0000 - val_mae: 2471.4636\n",
      "Epoch 68/400\n",
      "4384/4384 [==============================] - 24s 6ms/step - loss: 57485060.0000 - mae: 2129.4045 - val_loss: 69961824.0000 - val_mae: 1887.3735\n",
      "Epoch 69/400\n",
      "4384/4384 [==============================] - 24s 5ms/step - loss: 65825884.0000 - mae: 2284.5679 - val_loss: 369432448.0000 - val_mae: 4217.6274\n",
      "Epoch 70/400\n",
      "4384/4384 [==============================] - 24s 5ms/step - loss: 75043808.0000 - mae: 2344.6199 - val_loss: 74986176.0000 - val_mae: 2467.7905\n",
      "Epoch 71/400\n",
      "4384/4384 [==============================] - 24s 5ms/step - loss: 64374644.0000 - mae: 2266.9543 - val_loss: 18699102.0000 - val_mae: 1326.0242\n",
      "Epoch 72/400\n",
      "4384/4384 [==============================] - 24s 5ms/step - loss: 76791192.0000 - mae: 2362.6794 - val_loss: 22587338.0000 - val_mae: 1492.8213\n",
      "Epoch 73/400\n",
      "4384/4384 [==============================] - 24s 5ms/step - loss: 64468848.0000 - mae: 2155.7053 - val_loss: 69684424.0000 - val_mae: 1985.9465\n",
      "Epoch 74/400\n",
      "4384/4384 [==============================] - 24s 6ms/step - loss: 69973472.0000 - mae: 2288.4177 - val_loss: 21934406.0000 - val_mae: 1380.9644\n",
      "Epoch 75/400\n",
      "4384/4384 [==============================] - 24s 6ms/step - loss: 88697264.0000 - mae: 2424.8726 - val_loss: 44671472.0000 - val_mae: 1908.5786\n",
      "Epoch 76/400\n",
      "4384/4384 [==============================] - 24s 6ms/step - loss: 60012636.0000 - mae: 2184.1331 - val_loss: 108709752.0000 - val_mae: 2479.0391\n",
      "Epoch 77/400\n",
      "4384/4384 [==============================] - 24s 6ms/step - loss: 59156480.0000 - mae: 2215.2231 - val_loss: 61807048.0000 - val_mae: 1893.0034\n",
      "Epoch 78/400\n",
      "4384/4384 [==============================] - 24s 5ms/step - loss: 63781716.0000 - mae: 2258.0359 - val_loss: 43678976.0000 - val_mae: 1939.2896\n",
      "Epoch 79/400\n",
      "4384/4384 [==============================] - 24s 5ms/step - loss: 65467984.0000 - mae: 2157.1274 - val_loss: 67246096.0000 - val_mae: 2408.9033\n",
      "Epoch 80/400\n",
      "4384/4384 [==============================] - 24s 6ms/step - loss: 61099684.0000 - mae: 2252.0237 - val_loss: 18995462.0000 - val_mae: 1427.6696\n",
      "Epoch 81/400\n",
      "4384/4384 [==============================] - 24s 6ms/step - loss: 54763724.0000 - mae: 2165.7170 - val_loss: 77329960.0000 - val_mae: 2592.8857\n",
      "Epoch 82/400\n",
      "4384/4384 [==============================] - 24s 5ms/step - loss: 67299392.0000 - mae: 2245.9365 - val_loss: 250857200.0000 - val_mae: 3811.4329\n",
      "Epoch 83/400\n",
      "4384/4384 [==============================] - 24s 6ms/step - loss: 72689000.0000 - mae: 2255.1384 - val_loss: 26202744.0000 - val_mae: 1544.1093\n",
      "Epoch 84/400\n",
      "4384/4384 [==============================] - 24s 5ms/step - loss: 80870680.0000 - mae: 2364.2642 - val_loss: 23085586.0000 - val_mae: 1261.5476\n",
      "Epoch 85/400\n",
      "4384/4384 [==============================] - 24s 5ms/step - loss: 63700660.0000 - mae: 2127.3613 - val_loss: 79536152.0000 - val_mae: 1788.9144\n",
      "Epoch 86/400\n",
      "4384/4384 [==============================] - 24s 5ms/step - loss: 52439056.0000 - mae: 2088.2329 - val_loss: 62269756.0000 - val_mae: 2283.4058\n",
      "Epoch 87/400\n",
      "4384/4384 [==============================] - 24s 5ms/step - loss: 69054248.0000 - mae: 2195.4475 - val_loss: 59334116.0000 - val_mae: 3239.1338\n",
      "Epoch 88/400\n",
      "4384/4384 [==============================] - 24s 6ms/step - loss: 48938844.0000 - mae: 2029.3301 - val_loss: 20666474.0000 - val_mae: 1964.9973\n",
      "Epoch 89/400\n",
      "4384/4384 [==============================] - 24s 5ms/step - loss: 53846024.0000 - mae: 2009.6820 - val_loss: 132161752.0000 - val_mae: 4172.1084\n",
      "Epoch 90/400\n",
      "4384/4384 [==============================] - 24s 6ms/step - loss: 54439840.0000 - mae: 2048.5496 - val_loss: 31353634.0000 - val_mae: 1339.8844\n",
      "Epoch 91/400\n",
      "4384/4384 [==============================] - 24s 5ms/step - loss: 67645168.0000 - mae: 2190.4075 - val_loss: 22822834.0000 - val_mae: 1606.1532\n",
      "Epoch 92/400\n",
      "4384/4384 [==============================] - 24s 5ms/step - loss: 57144032.0000 - mae: 2053.9590 - val_loss: 35862844.0000 - val_mae: 1596.3615\n",
      "Epoch 93/400\n",
      "4384/4384 [==============================] - 24s 6ms/step - loss: 59557548.0000 - mae: 2070.9670 - val_loss: 73487072.0000 - val_mae: 1763.1002\n",
      "Epoch 94/400\n",
      "4384/4384 [==============================] - 24s 5ms/step - loss: 76649856.0000 - mae: 2284.7173 - val_loss: 32523742.0000 - val_mae: 1741.6002\n",
      "Epoch 95/400\n",
      "4384/4384 [==============================] - 24s 5ms/step - loss: 53649900.0000 - mae: 2001.8195 - val_loss: 12759353.0000 - val_mae: 1113.5760\n",
      "Epoch 96/400\n",
      "4384/4384 [==============================] - 24s 6ms/step - loss: 50386608.0000 - mae: 1930.8405 - val_loss: 30135050.0000 - val_mae: 1440.0275\n",
      "Epoch 97/400\n",
      "4384/4384 [==============================] - 24s 6ms/step - loss: 61972036.0000 - mae: 2067.4856 - val_loss: 38754252.0000 - val_mae: 1233.3639\n",
      "Epoch 98/400\n",
      "4384/4384 [==============================] - 24s 5ms/step - loss: 67960568.0000 - mae: 2230.0916 - val_loss: 30984140.0000 - val_mae: 1598.2694\n",
      "Epoch 99/400\n",
      "4384/4384 [==============================] - 24s 5ms/step - loss: 49245116.0000 - mae: 1875.9923 - val_loss: 112706584.0000 - val_mae: 3939.7866\n",
      "Epoch 100/400\n",
      "4384/4384 [==============================] - 24s 6ms/step - loss: 78790296.0000 - mae: 2244.0400 - val_loss: 33327176.0000 - val_mae: 2007.2809\n",
      "Epoch 101/400\n",
      "4384/4384 [==============================] - 24s 6ms/step - loss: 50394452.0000 - mae: 1941.8660 - val_loss: 26307842.0000 - val_mae: 1698.4277\n",
      "Epoch 102/400\n",
      "4384/4384 [==============================] - 24s 6ms/step - loss: 53516396.0000 - mae: 1956.2988 - val_loss: 26229124.0000 - val_mae: 1370.7115\n",
      "Epoch 103/400\n",
      "4384/4384 [==============================] - 24s 5ms/step - loss: 64472440.0000 - mae: 2072.1086 - val_loss: 35900388.0000 - val_mae: 1577.3948\n",
      "Epoch 104/400\n",
      "4384/4384 [==============================] - 24s 5ms/step - loss: 53262476.0000 - mae: 1897.5220 - val_loss: 14848144.0000 - val_mae: 1277.7905\n",
      "Epoch 105/400\n",
      "4384/4384 [==============================] - 24s 6ms/step - loss: 43929872.0000 - mae: 1802.1573 - val_loss: 164785584.0000 - val_mae: 4437.1694\n",
      "Epoch 106/400\n",
      "4384/4384 [==============================] - 24s 5ms/step - loss: 57921648.0000 - mae: 2018.0869 - val_loss: 42619960.0000 - val_mae: 1512.1951\n",
      "Epoch 107/400\n",
      "4384/4384 [==============================] - 24s 6ms/step - loss: 48273976.0000 - mae: 1850.7402 - val_loss: 35181820.0000 - val_mae: 1592.5450\n",
      "Epoch 108/400\n",
      "4384/4384 [==============================] - 24s 5ms/step - loss: 64876536.0000 - mae: 2061.4617 - val_loss: 35362636.0000 - val_mae: 1708.3599\n",
      "Epoch 109/400\n",
      "4384/4384 [==============================] - 24s 5ms/step - loss: 47564552.0000 - mae: 1844.0812 - val_loss: 33148982.0000 - val_mae: 1177.2375\n",
      "Epoch 110/400\n",
      "4384/4384 [==============================] - 24s 5ms/step - loss: 43097836.0000 - mae: 1816.1484 - val_loss: 13260422.0000 - val_mae: 1063.7070\n",
      "Epoch 111/400\n",
      "4384/4384 [==============================] - 25s 6ms/step - loss: 80509976.0000 - mae: 2197.2490 - val_loss: 15475014.0000 - val_mae: 1423.3315\n",
      "Epoch 112/400\n",
      "4384/4384 [==============================] - 24s 6ms/step - loss: 55843844.0000 - mae: 2008.4644 - val_loss: 49548944.0000 - val_mae: 1686.9060\n",
      "Epoch 113/400\n",
      "4384/4384 [==============================] - 24s 6ms/step - loss: 51411308.0000 - mae: 1933.7382 - val_loss: 82662952.0000 - val_mae: 2773.1531\n",
      "Epoch 114/400\n",
      "4384/4384 [==============================] - 24s 6ms/step - loss: 43898052.0000 - mae: 1786.9906 - val_loss: 24445786.0000 - val_mae: 1700.6819\n",
      "Epoch 115/400\n",
      "4384/4384 [==============================] - 24s 6ms/step - loss: 46187372.0000 - mae: 1832.7217 - val_loss: 17203682.0000 - val_mae: 1731.6470\n",
      "Epoch 116/400\n",
      "4384/4384 [==============================] - 24s 6ms/step - loss: 45640796.0000 - mae: 1857.2820 - val_loss: 25174266.0000 - val_mae: 1693.9911\n",
      "Epoch 117/400\n",
      "4384/4384 [==============================] - 24s 6ms/step - loss: 38424660.0000 - mae: 1715.6764 - val_loss: 29682558.0000 - val_mae: 1936.3558\n",
      "Epoch 118/400\n",
      "4384/4384 [==============================] - 24s 6ms/step - loss: 53333528.0000 - mae: 1945.8677 - val_loss: 300561120.0000 - val_mae: 4349.8511\n",
      "Epoch 119/400\n",
      "4384/4384 [==============================] - 24s 6ms/step - loss: 51007900.0000 - mae: 1863.9100 - val_loss: 16444531.0000 - val_mae: 1748.8348\n",
      "Epoch 120/400\n",
      "4384/4384 [==============================] - 24s 6ms/step - loss: 42153704.0000 - mae: 1776.7930 - val_loss: 40616500.0000 - val_mae: 2041.9087\n",
      "Epoch 121/400\n",
      "4384/4384 [==============================] - 24s 6ms/step - loss: 50727388.0000 - mae: 1832.8124 - val_loss: 16932760.0000 - val_mae: 1426.6461\n",
      "Epoch 122/400\n",
      "4384/4384 [==============================] - 24s 5ms/step - loss: 41516272.0000 - mae: 1839.1077 - val_loss: 17425006.0000 - val_mae: 1095.1793\n",
      "Epoch 123/400\n",
      "4384/4384 [==============================] - 24s 5ms/step - loss: 55138400.0000 - mae: 1931.6349 - val_loss: 72778536.0000 - val_mae: 2017.5909\n",
      "Epoch 124/400\n",
      "4384/4384 [==============================] - 24s 5ms/step - loss: 41194184.0000 - mae: 1753.7185 - val_loss: 29457186.0000 - val_mae: 1130.4181\n",
      "Epoch 125/400\n",
      "4384/4384 [==============================] - 24s 5ms/step - loss: 47039880.0000 - mae: 1801.5516 - val_loss: 92027424.0000 - val_mae: 2417.2473\n",
      "Epoch 126/400\n",
      "4384/4384 [==============================] - 24s 5ms/step - loss: 44582392.0000 - mae: 1761.9402 - val_loss: 48621376.0000 - val_mae: 1392.6776\n",
      "Epoch 127/400\n",
      "4384/4384 [==============================] - 24s 6ms/step - loss: 46746708.0000 - mae: 1792.6311 - val_loss: 14937376.0000 - val_mae: 1148.9260\n",
      "Epoch 128/400\n",
      "4384/4384 [==============================] - 24s 5ms/step - loss: 43279716.0000 - mae: 1823.6686 - val_loss: 32302502.0000 - val_mae: 2323.1091\n",
      "Epoch 129/400\n",
      "4384/4384 [==============================] - 24s 5ms/step - loss: 38621424.0000 - mae: 1684.3097 - val_loss: 28577992.0000 - val_mae: 1482.9941\n",
      "Epoch 130/400\n",
      "4384/4384 [==============================] - 24s 6ms/step - loss: 48737740.0000 - mae: 1873.3989 - val_loss: 26410968.0000 - val_mae: 1368.1932\n",
      "Epoch 131/400\n",
      "4384/4384 [==============================] - 24s 5ms/step - loss: 40204236.0000 - mae: 1705.9745 - val_loss: 11469106.0000 - val_mae: 1005.3018\n",
      "Epoch 132/400\n",
      "4384/4384 [==============================] - 24s 5ms/step - loss: 64421924.0000 - mae: 1985.0530 - val_loss: 31515806.0000 - val_mae: 1873.2020\n",
      "Epoch 133/400\n",
      "4384/4384 [==============================] - 24s 5ms/step - loss: 42843072.0000 - mae: 1772.6509 - val_loss: 40637372.0000 - val_mae: 2851.0254\n",
      "Epoch 134/400\n",
      "4384/4384 [==============================] - 24s 5ms/step - loss: 52169368.0000 - mae: 1857.4899 - val_loss: 22703748.0000 - val_mae: 1068.5072\n",
      "Epoch 135/400\n",
      "4384/4384 [==============================] - 24s 5ms/step - loss: 46359948.0000 - mae: 1713.5824 - val_loss: 13260031.0000 - val_mae: 1068.1541\n",
      "Epoch 136/400\n",
      "4384/4384 [==============================] - 24s 5ms/step - loss: 43458020.0000 - mae: 1747.1937 - val_loss: 19523830.0000 - val_mae: 1381.9629\n",
      "Epoch 137/400\n",
      "4384/4384 [==============================] - 24s 5ms/step - loss: 47327296.0000 - mae: 1777.2463 - val_loss: 32748820.0000 - val_mae: 1480.0995\n",
      "Epoch 138/400\n",
      "4384/4384 [==============================] - 24s 5ms/step - loss: 39740748.0000 - mae: 1680.1251 - val_loss: 41048612.0000 - val_mae: 1964.9307\n",
      "Epoch 139/400\n",
      "4384/4384 [==============================] - 24s 5ms/step - loss: 43116884.0000 - mae: 1762.5087 - val_loss: 13623596.0000 - val_mae: 1288.1351\n",
      "Epoch 140/400\n",
      "4384/4384 [==============================] - 24s 5ms/step - loss: 42037324.0000 - mae: 1775.3074 - val_loss: 89102416.0000 - val_mae: 2473.2114\n",
      "Epoch 141/400\n",
      "4384/4384 [==============================] - 24s 5ms/step - loss: 46549256.0000 - mae: 1723.0345 - val_loss: 24220948.0000 - val_mae: 1499.7015\n",
      "Epoch 142/400\n",
      "4384/4384 [==============================] - 24s 5ms/step - loss: 49505664.0000 - mae: 1862.8003 - val_loss: 25423890.0000 - val_mae: 1129.2662\n",
      "Epoch 143/400\n",
      "4384/4384 [==============================] - 24s 6ms/step - loss: 40915508.0000 - mae: 1663.9955 - val_loss: 344811264.0000 - val_mae: 4697.9878\n",
      "Epoch 144/400\n",
      "4384/4384 [==============================] - 24s 5ms/step - loss: 53179800.0000 - mae: 1878.9144 - val_loss: 10049116.0000 - val_mae: 948.6025\n",
      "Epoch 145/400\n",
      "4384/4384 [==============================] - 24s 5ms/step - loss: 38085856.0000 - mae: 1696.9037 - val_loss: 22324388.0000 - val_mae: 1312.2870\n",
      "Epoch 146/400\n",
      "4384/4384 [==============================] - 24s 5ms/step - loss: 40107276.0000 - mae: 1680.7727 - val_loss: 14744407.0000 - val_mae: 1187.7184\n",
      "Epoch 147/400\n",
      "4384/4384 [==============================] - 24s 5ms/step - loss: 48502092.0000 - mae: 1869.6803 - val_loss: 14144611.0000 - val_mae: 1141.0076\n",
      "Epoch 148/400\n",
      "4384/4384 [==============================] - 24s 5ms/step - loss: 36752216.0000 - mae: 1628.9261 - val_loss: 15416372.0000 - val_mae: 1065.0500\n",
      "Epoch 149/400\n",
      "4384/4384 [==============================] - 24s 5ms/step - loss: 35288820.0000 - mae: 1631.6639 - val_loss: 104184128.0000 - val_mae: 2145.1545\n",
      "Epoch 150/400\n",
      "4384/4384 [==============================] - 24s 5ms/step - loss: 48065812.0000 - mae: 1839.7159 - val_loss: 16333590.0000 - val_mae: 1316.6262\n",
      "Epoch 151/400\n",
      "4384/4384 [==============================] - 24s 5ms/step - loss: 34627888.0000 - mae: 1572.0377 - val_loss: 9048869.0000 - val_mae: 999.3543\n",
      "Epoch 152/400\n",
      "4384/4384 [==============================] - 24s 5ms/step - loss: 38053716.0000 - mae: 1692.9775 - val_loss: 11275460.0000 - val_mae: 1257.7517\n",
      "Epoch 153/400\n",
      "4384/4384 [==============================] - 24s 5ms/step - loss: 35001512.0000 - mae: 1615.7208 - val_loss: 24825922.0000 - val_mae: 1383.6270\n",
      "Epoch 154/400\n",
      "4384/4384 [==============================] - 24s 6ms/step - loss: 41286904.0000 - mae: 1695.6732 - val_loss: 14343298.0000 - val_mae: 1507.3484\n",
      "Epoch 155/400\n",
      "4384/4384 [==============================] - 24s 5ms/step - loss: 32514866.0000 - mae: 1605.4193 - val_loss: 15030705.0000 - val_mae: 1434.3080\n",
      "Epoch 156/400\n",
      "4384/4384 [==============================] - 24s 5ms/step - loss: 37605136.0000 - mae: 1639.5647 - val_loss: 12969639.0000 - val_mae: 1070.4086\n",
      "Epoch 157/400\n",
      "4384/4384 [==============================] - 23s 5ms/step - loss: 44117712.0000 - mae: 1797.4146 - val_loss: 13586777.0000 - val_mae: 1082.3422\n",
      "Epoch 158/400\n",
      "4384/4384 [==============================] - 23s 5ms/step - loss: 36788768.0000 - mae: 1665.6935 - val_loss: 9522395.0000 - val_mae: 1269.7734\n",
      "Epoch 159/400\n",
      "4384/4384 [==============================] - 23s 5ms/step - loss: 43262360.0000 - mae: 1701.4027 - val_loss: 17434686.0000 - val_mae: 1260.9409\n",
      "Epoch 160/400\n",
      "4384/4384 [==============================] - 23s 5ms/step - loss: 35536012.0000 - mae: 1560.9486 - val_loss: 15295471.0000 - val_mae: 1089.6993\n",
      "Epoch 161/400\n",
      "4384/4384 [==============================] - 23s 5ms/step - loss: 42112724.0000 - mae: 1735.6707 - val_loss: 10977254.0000 - val_mae: 1027.1149\n",
      "Epoch 162/400\n",
      "4384/4384 [==============================] - 23s 5ms/step - loss: 46709732.0000 - mae: 1788.0663 - val_loss: 21200612.0000 - val_mae: 1452.3818\n",
      "Epoch 163/400\n",
      "4384/4384 [==============================] - 23s 5ms/step - loss: 42735284.0000 - mae: 1676.0397 - val_loss: 11857042.0000 - val_mae: 1101.8977\n",
      "Epoch 164/400\n",
      "4384/4384 [==============================] - 23s 5ms/step - loss: 49477988.0000 - mae: 1793.7183 - val_loss: 18163178.0000 - val_mae: 1133.9452\n",
      "Epoch 165/400\n",
      "4384/4384 [==============================] - 23s 5ms/step - loss: 37605856.0000 - mae: 1633.6248 - val_loss: 38617820.0000 - val_mae: 1211.3590\n",
      "Epoch 166/400\n",
      "4384/4384 [==============================] - 23s 5ms/step - loss: 37390312.0000 - mae: 1665.4446 - val_loss: 25190668.0000 - val_mae: 2246.4451\n",
      "Epoch 167/400\n",
      "4384/4384 [==============================] - 23s 5ms/step - loss: 51360092.0000 - mae: 1858.0088 - val_loss: 26718462.0000 - val_mae: 1280.1527\n",
      "Epoch 168/400\n",
      "4384/4384 [==============================] - 23s 5ms/step - loss: 46629112.0000 - mae: 1778.4493 - val_loss: 36962708.0000 - val_mae: 2376.9673\n",
      "Epoch 169/400\n",
      "4384/4384 [==============================] - 23s 5ms/step - loss: 35868804.0000 - mae: 1641.6212 - val_loss: 21487790.0000 - val_mae: 1436.1206\n",
      "Epoch 170/400\n",
      "4384/4384 [==============================] - 23s 5ms/step - loss: 49147184.0000 - mae: 1792.0537 - val_loss: 25221614.0000 - val_mae: 1604.9340\n",
      "Epoch 171/400\n",
      "4384/4384 [==============================] - 23s 5ms/step - loss: 33110966.0000 - mae: 1539.4330 - val_loss: 36658076.0000 - val_mae: 1620.0887\n",
      "Epoch 172/400\n",
      "4384/4384 [==============================] - 23s 5ms/step - loss: 41634228.0000 - mae: 1724.5477 - val_loss: 93341184.0000 - val_mae: 3004.2793\n",
      "Epoch 173/400\n",
      "4384/4384 [==============================] - 23s 5ms/step - loss: 38790912.0000 - mae: 1682.2008 - val_loss: 45259664.0000 - val_mae: 1806.1385\n",
      "Epoch 174/400\n",
      "4384/4384 [==============================] - 23s 5ms/step - loss: 30541464.0000 - mae: 1541.2139 - val_loss: 139175616.0000 - val_mae: 2130.8757\n",
      "Epoch 175/400\n",
      "4384/4384 [==============================] - 23s 5ms/step - loss: 50459696.0000 - mae: 1832.4269 - val_loss: 18958718.0000 - val_mae: 1115.2091\n",
      "Epoch 176/400\n",
      "4384/4384 [==============================] - 23s 5ms/step - loss: 38928268.0000 - mae: 1621.0979 - val_loss: 11814380.0000 - val_mae: 997.8555\n",
      "Epoch 177/400\n",
      "4384/4384 [==============================] - 23s 5ms/step - loss: 36876240.0000 - mae: 1615.4622 - val_loss: 11812120.0000 - val_mae: 1192.5674\n",
      "Epoch 178/400\n",
      "4384/4384 [==============================] - 23s 5ms/step - loss: 33948316.0000 - mae: 1561.6484 - val_loss: 16958806.0000 - val_mae: 1201.3318\n",
      "Epoch 179/400\n",
      "4384/4384 [==============================] - 23s 5ms/step - loss: 42319060.0000 - mae: 1694.0630 - val_loss: 26275388.0000 - val_mae: 2199.8999\n",
      "Epoch 180/400\n",
      "4384/4384 [==============================] - 23s 5ms/step - loss: 35493552.0000 - mae: 1670.0905 - val_loss: 11476021.0000 - val_mae: 1263.4646\n",
      "Epoch 181/400\n",
      "4384/4384 [==============================] - 23s 5ms/step - loss: 30976598.0000 - mae: 1565.2297 - val_loss: 15964523.0000 - val_mae: 2109.9990\n",
      "Epoch 182/400\n",
      "4384/4384 [==============================] - 23s 5ms/step - loss: 33425312.0000 - mae: 1626.1992 - val_loss: 18395966.0000 - val_mae: 1068.4763\n",
      "Epoch 183/400\n",
      "4384/4384 [==============================] - 23s 5ms/step - loss: 35777388.0000 - mae: 1604.3214 - val_loss: 15837024.0000 - val_mae: 1510.4155\n",
      "Epoch 184/400\n",
      "4384/4384 [==============================] - 23s 5ms/step - loss: 34720632.0000 - mae: 1601.5116 - val_loss: 11246790.0000 - val_mae: 1197.6519\n",
      "Epoch 185/400\n",
      "4384/4384 [==============================] - 23s 5ms/step - loss: 46835836.0000 - mae: 1814.7229 - val_loss: 58432104.0000 - val_mae: 2437.2253\n",
      "Epoch 186/400\n",
      "4384/4384 [==============================] - 23s 5ms/step - loss: 35785460.0000 - mae: 1602.2028 - val_loss: 11259588.0000 - val_mae: 1176.0719\n",
      "Epoch 187/400\n",
      "4384/4384 [==============================] - 23s 5ms/step - loss: 43540340.0000 - mae: 1659.4158 - val_loss: 36145072.0000 - val_mae: 1492.5310\n",
      "Epoch 188/400\n",
      "4384/4384 [==============================] - 23s 5ms/step - loss: 39898164.0000 - mae: 1635.1589 - val_loss: 119004920.0000 - val_mae: 1982.3392\n",
      "Epoch 189/400\n",
      "4384/4384 [==============================] - 23s 5ms/step - loss: 38490720.0000 - mae: 1592.8329 - val_loss: 10963758.0000 - val_mae: 1438.0830\n",
      "Epoch 190/400\n",
      "4384/4384 [==============================] - 23s 5ms/step - loss: 33055178.0000 - mae: 1547.8833 - val_loss: 52334472.0000 - val_mae: 1606.1713\n",
      "Epoch 191/400\n",
      "4384/4384 [==============================] - 23s 5ms/step - loss: 38236844.0000 - mae: 1624.1973 - val_loss: 9697895.0000 - val_mae: 1357.3206\n",
      "Epoch 192/400\n",
      "4384/4384 [==============================] - 23s 5ms/step - loss: 34153528.0000 - mae: 1519.1708 - val_loss: 11125673.0000 - val_mae: 1246.8108\n",
      "Epoch 193/400\n",
      "4384/4384 [==============================] - 23s 5ms/step - loss: 30836992.0000 - mae: 1474.5602 - val_loss: 17178868.0000 - val_mae: 1524.9099\n",
      "Epoch 194/400\n",
      "4384/4384 [==============================] - 23s 5ms/step - loss: 33244842.0000 - mae: 1545.5900 - val_loss: 9733641.0000 - val_mae: 949.8202\n",
      "Epoch 195/400\n",
      "4384/4384 [==============================] - 23s 5ms/step - loss: 31612694.0000 - mae: 1531.0909 - val_loss: 7763389.0000 - val_mae: 945.6953\n",
      "Epoch 196/400\n",
      "4384/4384 [==============================] - 23s 5ms/step - loss: 39039528.0000 - mae: 1596.2715 - val_loss: 35933004.0000 - val_mae: 1696.8496\n",
      "Epoch 197/400\n",
      "4384/4384 [==============================] - 23s 5ms/step - loss: 31429640.0000 - mae: 1510.2169 - val_loss: 20647500.0000 - val_mae: 1263.6040\n",
      "Epoch 198/400\n",
      "4384/4384 [==============================] - 23s 5ms/step - loss: 36494640.0000 - mae: 1549.8766 - val_loss: 21554406.0000 - val_mae: 2077.7534\n",
      "Epoch 199/400\n",
      "4384/4384 [==============================] - 23s 5ms/step - loss: 26773870.0000 - mae: 1450.9443 - val_loss: 9527878.0000 - val_mae: 1141.9403\n",
      "Epoch 200/400\n",
      "4384/4384 [==============================] - 23s 5ms/step - loss: 43604140.0000 - mae: 1711.4600 - val_loss: 56531548.0000 - val_mae: 1871.0735\n",
      "Epoch 201/400\n",
      "4384/4384 [==============================] - 23s 5ms/step - loss: 45155288.0000 - mae: 1669.5309 - val_loss: 12948341.0000 - val_mae: 926.6475\n",
      "Epoch 202/400\n",
      "4384/4384 [==============================] - 23s 5ms/step - loss: 43508184.0000 - mae: 1654.5953 - val_loss: 49144684.0000 - val_mae: 1387.5575\n",
      "Epoch 203/400\n",
      "4384/4384 [==============================] - 23s 5ms/step - loss: 30986088.0000 - mae: 1493.2075 - val_loss: 36739712.0000 - val_mae: 3095.0042\n",
      "Epoch 204/400\n",
      "4384/4384 [==============================] - 23s 5ms/step - loss: 33851104.0000 - mae: 1569.5264 - val_loss: 10869777.0000 - val_mae: 1211.0187\n",
      "Epoch 205/400\n",
      "4384/4384 [==============================] - 23s 5ms/step - loss: 33078278.0000 - mae: 1518.0393 - val_loss: 19374186.0000 - val_mae: 1465.6630\n",
      "Epoch 206/400\n",
      "4384/4384 [==============================] - 23s 5ms/step - loss: 31243010.0000 - mae: 1510.3722 - val_loss: 15270485.0000 - val_mae: 2016.5654\n",
      "Epoch 207/400\n",
      "4384/4384 [==============================] - 23s 5ms/step - loss: 40307188.0000 - mae: 1621.5496 - val_loss: 18741230.0000 - val_mae: 987.5769\n",
      "Epoch 208/400\n",
      "4384/4384 [==============================] - 23s 5ms/step - loss: 31396232.0000 - mae: 1473.7416 - val_loss: 10643476.0000 - val_mae: 1135.9354\n",
      "Epoch 209/400\n",
      "4384/4384 [==============================] - 23s 5ms/step - loss: 29474762.0000 - mae: 1423.8606 - val_loss: 15150665.0000 - val_mae: 1105.0830\n",
      "Epoch 210/400\n",
      "4384/4384 [==============================] - 23s 5ms/step - loss: 28626108.0000 - mae: 1471.3792 - val_loss: 7540671.0000 - val_mae: 995.9689\n",
      "Epoch 211/400\n",
      "4384/4384 [==============================] - 23s 5ms/step - loss: 32044276.0000 - mae: 1512.5208 - val_loss: 25360718.0000 - val_mae: 1411.1718\n",
      "Epoch 212/400\n",
      "4384/4384 [==============================] - 23s 5ms/step - loss: 28521318.0000 - mae: 1430.1718 - val_loss: 56240044.0000 - val_mae: 1536.1859\n",
      "Epoch 213/400\n",
      "4384/4384 [==============================] - 23s 5ms/step - loss: 31979532.0000 - mae: 1528.1025 - val_loss: 10009690.0000 - val_mae: 1456.8923\n",
      "Epoch 214/400\n",
      "4384/4384 [==============================] - 23s 5ms/step - loss: 32670420.0000 - mae: 1558.6664 - val_loss: 11492545.0000 - val_mae: 1409.5256\n",
      "Epoch 215/400\n",
      "4384/4384 [==============================] - 23s 5ms/step - loss: 30325726.0000 - mae: 1491.0977 - val_loss: 10486940.0000 - val_mae: 900.6073\n",
      "Epoch 216/400\n",
      "4384/4384 [==============================] - 23s 5ms/step - loss: 27000446.0000 - mae: 1449.9233 - val_loss: 10818295.0000 - val_mae: 1448.5763\n",
      "Epoch 217/400\n",
      "4384/4384 [==============================] - 23s 5ms/step - loss: 37515292.0000 - mae: 1565.6984 - val_loss: 6795828.0000 - val_mae: 942.4379\n",
      "Epoch 218/400\n",
      "4384/4384 [==============================] - 23s 5ms/step - loss: 29528100.0000 - mae: 1459.9419 - val_loss: 11968486.0000 - val_mae: 982.9556\n",
      "Epoch 219/400\n",
      "4384/4384 [==============================] - 23s 5ms/step - loss: 26712990.0000 - mae: 1428.4694 - val_loss: 55791976.0000 - val_mae: 1797.1580\n",
      "Epoch 220/400\n",
      "4384/4384 [==============================] - 23s 5ms/step - loss: 32380462.0000 - mae: 1497.8290 - val_loss: 98041696.0000 - val_mae: 3043.4175\n",
      "Epoch 221/400\n",
      "4384/4384 [==============================] - 23s 5ms/step - loss: 28555702.0000 - mae: 1446.0366 - val_loss: 7007126.5000 - val_mae: 1086.5597\n",
      "Epoch 222/400\n",
      "4384/4384 [==============================] - 23s 5ms/step - loss: 31267194.0000 - mae: 1534.0259 - val_loss: 29539794.0000 - val_mae: 1200.3663\n",
      "Epoch 223/400\n",
      "4384/4384 [==============================] - 23s 5ms/step - loss: 31244290.0000 - mae: 1527.0778 - val_loss: 11548793.0000 - val_mae: 1103.5295\n",
      "Epoch 224/400\n",
      "4384/4384 [==============================] - 23s 5ms/step - loss: 30548320.0000 - mae: 1504.2714 - val_loss: 15264289.0000 - val_mae: 1369.5323\n",
      "Epoch 225/400\n",
      "4384/4384 [==============================] - 23s 5ms/step - loss: 26780034.0000 - mae: 1412.6309 - val_loss: 9638471.0000 - val_mae: 1317.9178\n",
      "Epoch 226/400\n",
      "4384/4384 [==============================] - 23s 5ms/step - loss: 34933548.0000 - mae: 1531.8280 - val_loss: 7569334.5000 - val_mae: 851.1151\n",
      "Epoch 227/400\n",
      "4384/4384 [==============================] - 23s 5ms/step - loss: 33883256.0000 - mae: 1508.2915 - val_loss: 21340526.0000 - val_mae: 1135.3831\n",
      "Epoch 228/400\n",
      "4384/4384 [==============================] - 23s 5ms/step - loss: 47991916.0000 - mae: 1639.4274 - val_loss: 16180177.0000 - val_mae: 1198.6519\n",
      "Epoch 229/400\n",
      "4384/4384 [==============================] - 23s 5ms/step - loss: 33313952.0000 - mae: 1460.9735 - val_loss: 15576803.0000 - val_mae: 1810.7719\n",
      "Epoch 230/400\n",
      "4384/4384 [==============================] - 23s 5ms/step - loss: 42366388.0000 - mae: 1697.6979 - val_loss: 27772120.0000 - val_mae: 1608.7008\n",
      "Epoch 231/400\n",
      "4384/4384 [==============================] - 22s 5ms/step - loss: 41181268.0000 - mae: 1576.1835 - val_loss: 13610409.0000 - val_mae: 1148.6013\n",
      "Epoch 232/400\n",
      "4384/4384 [==============================] - 22s 5ms/step - loss: 22064042.0000 - mae: 1359.6454 - val_loss: 15854599.0000 - val_mae: 1187.9899\n",
      "Epoch 233/400\n",
      "4384/4384 [==============================] - 22s 5ms/step - loss: 28016698.0000 - mae: 1460.4369 - val_loss: 29245072.0000 - val_mae: 1419.1132\n",
      "Epoch 234/400\n",
      "4384/4384 [==============================] - 22s 5ms/step - loss: 28315690.0000 - mae: 1527.7565 - val_loss: 9723255.0000 - val_mae: 1252.7332\n",
      "Epoch 235/400\n",
      "4384/4384 [==============================] - 22s 5ms/step - loss: 30146292.0000 - mae: 1496.8691 - val_loss: 6920695.5000 - val_mae: 991.9114\n",
      "Epoch 236/400\n",
      "4384/4384 [==============================] - 22s 5ms/step - loss: 30622264.0000 - mae: 1448.3779 - val_loss: 13087600.0000 - val_mae: 1272.9912\n",
      "Epoch 237/400\n",
      "4384/4384 [==============================] - 22s 5ms/step - loss: 27820590.0000 - mae: 1467.0903 - val_loss: 10797603.0000 - val_mae: 1389.4575\n",
      "Epoch 238/400\n",
      "4384/4384 [==============================] - 22s 5ms/step - loss: 35388080.0000 - mae: 1488.8927 - val_loss: 25070146.0000 - val_mae: 1300.9993\n",
      "Epoch 239/400\n",
      "4384/4384 [==============================] - 22s 5ms/step - loss: 26503668.0000 - mae: 1378.3616 - val_loss: 29245452.0000 - val_mae: 2588.7498\n",
      "Epoch 240/400\n",
      "4384/4384 [==============================] - 22s 5ms/step - loss: 32959574.0000 - mae: 1476.0164 - val_loss: 43635832.0000 - val_mae: 1399.6211\n",
      "Epoch 241/400\n",
      "4384/4384 [==============================] - 22s 5ms/step - loss: 25638276.0000 - mae: 1347.1322 - val_loss: 23968920.0000 - val_mae: 1310.0463\n",
      "Epoch 242/400\n",
      "4384/4384 [==============================] - 22s 5ms/step - loss: 30942890.0000 - mae: 1502.4508 - val_loss: 14509838.0000 - val_mae: 1426.0797\n",
      "Epoch 243/400\n",
      "4384/4384 [==============================] - 22s 5ms/step - loss: 35246304.0000 - mae: 1497.7537 - val_loss: 176116608.0000 - val_mae: 4957.5757\n",
      "Epoch 244/400\n",
      "4384/4384 [==============================] - 22s 5ms/step - loss: 30673524.0000 - mae: 1491.1221 - val_loss: 11054618.0000 - val_mae: 1029.0433\n",
      "Epoch 245/400\n",
      "4384/4384 [==============================] - 22s 5ms/step - loss: 32085422.0000 - mae: 1466.9515 - val_loss: 15301781.0000 - val_mae: 2592.2898\n",
      "Epoch 246/400\n",
      "4384/4384 [==============================] - 22s 5ms/step - loss: 27087936.0000 - mae: 1424.9684 - val_loss: 6937784.5000 - val_mae: 741.4827\n",
      "Epoch 247/400\n",
      "4384/4384 [==============================] - 22s 5ms/step - loss: 32968796.0000 - mae: 1514.0367 - val_loss: 11643918.0000 - val_mae: 1014.1320\n",
      "Epoch 248/400\n",
      "4384/4384 [==============================] - 22s 5ms/step - loss: 26266334.0000 - mae: 1337.3260 - val_loss: 33027690.0000 - val_mae: 1635.5574\n",
      "Epoch 249/400\n",
      "4384/4384 [==============================] - 22s 5ms/step - loss: 26576446.0000 - mae: 1445.4749 - val_loss: 8894090.0000 - val_mae: 887.4799\n",
      "Epoch 250/400\n",
      "4384/4384 [==============================] - 22s 5ms/step - loss: 26393988.0000 - mae: 1380.0958 - val_loss: 91334336.0000 - val_mae: 1939.6818\n",
      "Epoch 251/400\n",
      "4384/4384 [==============================] - 22s 5ms/step - loss: 31333372.0000 - mae: 1519.4747 - val_loss: 122921672.0000 - val_mae: 2190.3479\n",
      "Epoch 252/400\n",
      "4384/4384 [==============================] - 22s 5ms/step - loss: 31742306.0000 - mae: 1500.1238 - val_loss: 12435167.0000 - val_mae: 1393.1831\n",
      "Epoch 253/400\n",
      "4384/4384 [==============================] - 22s 5ms/step - loss: 29621144.0000 - mae: 1467.3717 - val_loss: 33097100.0000 - val_mae: 1612.8236\n",
      "Epoch 254/400\n",
      "4384/4384 [==============================] - 22s 5ms/step - loss: 26280294.0000 - mae: 1415.5964 - val_loss: 8608369.0000 - val_mae: 1083.5400\n",
      "Epoch 255/400\n",
      "4384/4384 [==============================] - 22s 5ms/step - loss: 29591722.0000 - mae: 1491.9010 - val_loss: 10258787.0000 - val_mae: 1279.0087\n",
      "Epoch 256/400\n",
      "4384/4384 [==============================] - 22s 5ms/step - loss: 24843306.0000 - mae: 1378.0828 - val_loss: 7111783.5000 - val_mae: 965.6860\n",
      "Epoch 257/400\n",
      "4384/4384 [==============================] - 22s 5ms/step - loss: 31101436.0000 - mae: 1485.1458 - val_loss: 8825638.0000 - val_mae: 1119.5822\n",
      "Epoch 258/400\n",
      "4384/4384 [==============================] - 22s 5ms/step - loss: 29811888.0000 - mae: 1452.8185 - val_loss: 9732886.0000 - val_mae: 959.3972\n",
      "Epoch 259/400\n",
      "4384/4384 [==============================] - 22s 5ms/step - loss: 25813314.0000 - mae: 1382.0155 - val_loss: 28479218.0000 - val_mae: 1649.8652\n",
      "Epoch 260/400\n",
      "4384/4384 [==============================] - 22s 5ms/step - loss: 30777070.0000 - mae: 1423.6509 - val_loss: 53593608.0000 - val_mae: 1721.8488\n",
      "Epoch 261/400\n",
      "4384/4384 [==============================] - 23s 5ms/step - loss: 33837640.0000 - mae: 1490.3999 - val_loss: 23893946.0000 - val_mae: 1367.9016\n",
      "Epoch 262/400\n",
      "4384/4384 [==============================] - 22s 5ms/step - loss: 25415042.0000 - mae: 1392.8630 - val_loss: 8786455.0000 - val_mae: 893.5943\n",
      "Epoch 263/400\n",
      "4384/4384 [==============================] - 22s 5ms/step - loss: 30120058.0000 - mae: 1445.6326 - val_loss: 7260521.5000 - val_mae: 765.9509\n",
      "Epoch 264/400\n",
      "4384/4384 [==============================] - 22s 5ms/step - loss: 24773942.0000 - mae: 1357.8252 - val_loss: 8481634.0000 - val_mae: 1065.0709\n",
      "Epoch 265/400\n",
      "4384/4384 [==============================] - 22s 5ms/step - loss: 29745784.0000 - mae: 1392.7255 - val_loss: 17720902.0000 - val_mae: 1102.8895\n",
      "Epoch 266/400\n",
      "4384/4384 [==============================] - 22s 5ms/step - loss: 37907448.0000 - mae: 1575.2529 - val_loss: 18071454.0000 - val_mae: 1766.9314\n",
      "Epoch 267/400\n",
      "4384/4384 [==============================] - 22s 5ms/step - loss: 36707220.0000 - mae: 1485.5792 - val_loss: 7274002.5000 - val_mae: 828.8478\n"
     ]
    }
   ],
   "source": [
    "history = ann.fit(X_train, y_train,\n",
    "                    validation_data = (X_val, y_val),\n",
    "                    callbacks=[es],\n",
    "                    epochs=400,\n",
    "                    batch_size=50,\n",
    "                    verbose=1)"
   ]
  },
  {
   "cell_type": "markdown",
   "metadata": {
    "colab_type": "text",
    "id": "0H0zKKNEBLD5",
    "ExecuteTime": {
     "end_time": "2024-05-18T13:44:30.421148900Z",
     "start_time": "2024-05-18T13:44:30.216729900Z"
    }
   },
   "source": [
    "### Analyse learn history"
   ]
  },
  {
   "cell_type": "code",
   "execution_count": 51,
   "metadata": {
    "ExecuteTime": {
     "end_time": "2024-07-01T22:21:00.246031600Z",
     "start_time": "2024-07-01T22:20:59.706281700Z"
    }
   },
   "outputs": [
    {
     "data": {
      "text/plain": "<Figure size 640x480 with 1 Axes>",
      "image/png": "[encoded data removed]"
     },
     "metadata": {},
     "output_type": "display_data"
    }
   ],
   "source": [
    "# let's see the training and validation accuracy by epoch\n",
    "history_dict = history.history\n",
    "loss_values = history_dict['loss'] # you can change this\n",
    "val_loss_values = history_dict['val_loss'] # you can also change this\n",
    "epochs = range(1, len(loss_values) + 1) # range of X (no. of epochs)\n",
    "plt.plot(epochs, loss_values, 'blue', label='Train set loss')\n",
    "plt.plot(epochs, val_loss_values, 'orange', label='Validation set loss')\n",
    "#plt.title('Training and testing loss')\n",
    "plt.xlabel('Epochs')\n",
    "plt.ylabel('Loss (MSE)')\n",
    "plt.legend()\n",
    "plt.show()"
   ]
  },
  {
   "cell_type": "code",
   "execution_count": 52,
   "metadata": {
    "ExecuteTime": {
     "end_time": "2024-07-01T22:21:06.980619200Z",
     "start_time": "2024-07-01T22:21:06.793125Z"
    }
   },
   "outputs": [
    {
     "data": {
      "text/plain": "<Figure size 640x480 with 1 Axes>",
      "image/png": "[encoded data removed]"
     },
     "metadata": {},
     "output_type": "display_data"
    }
   ],
   "source": [
    "loss_values1 = history_dict['mae'] # you can change this\n",
    "val_loss_values1 = history_dict['val_mae'] # you can also change this\n",
    "epochs = range(1, len(loss_values1) + 1) # range of X (no. of epochs)\n",
    "plt.plot(epochs, loss_values1, 'blue', label='Train set MAE')\n",
    "plt.plot(epochs, val_loss_values1, 'orange', label='Validation set MAE')\n",
    "#plt.title('Training and testing MAE')\n",
    "plt.xlabel('Epochs')\n",
    "plt.ylabel('MAE')\n",
    "plt.legend()\n",
    "plt.show()"
   ]
  },
  {
   "cell_type": "code",
   "execution_count": null,
   "metadata": {},
   "outputs": [],
   "source": [
    "print (epochs)"
   ]
  },
  {
   "cell_type": "markdown",
   "metadata": {},
   "source": [
    "### Save the model"
   ]
  },
  {
   "cell_type": "code",
   "execution_count": null,
   "metadata": {},
   "outputs": [],
   "source": [
    "ann.save('ANN_13.h5')\n",
    "import pickle\n",
    "pickle.dump(sc, open('scaler_ANN.pkl', 'wb'))"
   ]
  },
  {
   "cell_type": "markdown",
   "metadata": {},
   "source": [
    "## Part 5 - Make predictions"
   ]
  },
  {
   "cell_type": "code",
   "execution_count": null,
   "metadata": {},
   "outputs": [],
   "source": [
    "ann = load_model('ANN_13.h5')\n",
    "sc = pickle.load(open('scaler_ANN.pkl', 'rb'))"
   ]
  },
  {
   "cell_type": "code",
   "execution_count": 53,
   "metadata": {
    "ExecuteTime": {
     "end_time": "2024-07-01T22:21:36.512203400Z",
     "start_time": "2024-07-01T22:21:12.246205100Z"
    }
   },
   "outputs": [
    {
     "name": "stdout",
     "output_type": "stream",
     "text": [
      "6850/6850 [==============================] - 15s 2ms/step\n",
      "2284/2284 [==============================] - 5s 2ms/step\n"
     ]
    },
    {
     "data": {
      "text/plain": "<Figure size 640x480 with 2 Axes>",
      "image/png": "[encoded data removed]"
     },
     "metadata": {},
     "output_type": "display_data"
    }
   ],
   "source": [
    "# scatterplot of actual vs. pred\n",
    "# specify the dimensions \n",
    "fig, axes = plt.subplots(1,2) # 1 row, 2 columns\n",
    "\n",
    "# this makes the individual subplots\n",
    "# Training Results\n",
    "axes[0].scatter(x=y_train, y=ann.predict(X_train)) #first row, first entry (left top)\n",
    "axes[0].set_xlabel(\"Actual\", fontsize=10)\n",
    "axes[0].set_ylabel(\"Predicted\",  fontsize=10)\n",
    "axes[0].set_title(\"Training\")\n",
    "# add 45 deg line\n",
    "x = np.linspace(*axes[0].get_xlim())\n",
    "axes[0].plot(x, x, color='red')\n",
    "# Validation Results\n",
    "axes[1].scatter(x=y_val, y=ann.predict(X_val)) # first row, second entry (right top)\n",
    "axes[1].set_xlabel(\"Actual\", fontsize=10)\n",
    "axes[1].set_ylabel(\"Predicted\",  fontsize=10)\n",
    "axes[1].set_title(\"Validation\")\n",
    "# add 45 deg line\n",
    "x = np.linspace(*axes[1].get_xlim())\n",
    "axes[1].plot(x, x, color='red')\n",
    "\n",
    "# tight layout\n",
    "fig.tight_layout()\n",
    "\n",
    "# show the plot\n",
    "plt.show()"
   ]
  },
  {
   "cell_type": "code",
   "execution_count": 54,
   "metadata": {
    "colab": {
     "base_uri": "https://localhost:8080/",
     "height": 134
    },
    "colab_type": "code",
    "id": "IA0yApEmBG1X",
    "outputId": "cb981e1f-9204-4a2a-fece-9d66a6919189",
    "ExecuteTime": {
     "end_time": "2024-07-01T22:23:04.982009100Z",
     "start_time": "2024-07-01T22:22:59.325178300Z"
    }
   },
   "outputs": [
    {
     "name": "stdout",
     "output_type": "stream",
     "text": [
      "2284/2284 [==============================] - 5s 2ms/step\n",
      "[[ 75.25  74.26]\n",
      " [ 86.58  86.  ]\n",
      " [ 99.5  102.53]\n",
      " ...\n",
      " [ 90.92  90.13]\n",
      " [ 93.39  93.47]\n",
      " [ 99.81 100.1 ]]\n"
     ]
    }
   ],
   "source": [
    "y_pred = ann.predict(X_test)\n",
    "y_pred_e = y_pred/1000\n",
    "y_test_e = y_test/1000\n",
    "np.set_printoptions(precision=2)\n",
    "print(np.concatenate((y_pred_e.reshape(len(y_pred_e),1), y_test_e.reshape(len(y_test_e),1)),1))"
   ]
  },
  {
   "cell_type": "code",
   "execution_count": 55,
   "metadata": {
    "ExecuteTime": {
     "end_time": "2024-07-01T22:23:09.950591300Z",
     "start_time": "2024-07-01T22:23:09.388176200Z"
    }
   },
   "outputs": [
    {
     "data": {
      "text/plain": "Text(0, 0.5, 'Predicted data')"
     },
     "execution_count": 55,
     "metadata": {},
     "output_type": "execute_result"
    },
    {
     "data": {
      "text/plain": "<Figure size 640x480 with 1 Axes>",
      "image/png": "[encoded data removed]"
     },
     "metadata": {},
     "output_type": "display_data"
    }
   ],
   "source": [
    "import matplotlib.pyplot as plt\n",
    "plt.scatter(y_test, y_pred, color=\"blue\")\n",
    "plt.plot ([0,1200000],[0,1200000], color = \"red\")\n",
    "plt.axis ([0,1200000,0,1200000])\n",
    "plt.xlabel ('Actual data')\n",
    "plt.ylabel ('Predicted data')"
   ]
  },
  {
   "cell_type": "code",
   "execution_count": null,
   "metadata": {},
   "outputs": [],
   "source": [
    "from sklearn.metrics import r2_score\n",
    "# Initialize layout\n",
    "fig1, ax1 = plt.subplots(figsize = (9, 9))\n",
    "b_l = 60\n",
    "u_l = 300\n",
    "\n",
    "# Add scatterplot\n",
    "ax1.scatter(y_test_e, y_pred_e, s=70, alpha=1, edgecolors=\"k\",c='mediumblue',zorder=5, label = 'Points')\n",
    "\n",
    "\n",
    "plt.ylabel('Predicted Incident Pressure (kPa)',fontsize = 25)\n",
    "plt.xlabel('Actual Incident Pressure (kPa)',fontsize = 25)\n",
    "plt.xticks(fontsize = 19)\n",
    "plt.yticks(fontsize = 19)\n",
    "\n",
    "\n",
    "x1 = np.linspace(b_l, u_l)\n",
    "\n",
    "plt.plot(x1, x1, 'Red', label='45\\N{DEGREE SIGN} line',lw=2.5,alpha=1)\n",
    "plt.plot(x1, 1.05*x1, '--m', label='\\u00B15% Error',lw=2.5,alpha=0.7)\n",
    "plt.plot(x1, 0.95*x1,'m', linestyle='--',lw=2.5,alpha=0.7)\n",
    "plt.plot(x1, 1.1*x1, '-.g', label='\\u00B110% Error',lw=2.5,alpha=0.7)\n",
    "plt.plot(x1, 0.9*x1,'-.g',lw=2.5,alpha=0.7)\n",
    "plt.plot(x1, 1.2*x1, color = '#F97306', linestyle='dotted', label='\\u00B120% Error',lw=2.5,alpha=0.7)\n",
    "plt.plot(x1, 0.8*x1,color = '#F97306', linestyle='dotted', lw=2.5,alpha=0.7)\n",
    "\n",
    "plt.ylim(b_l, u_l)\n",
    "plt.xlim(b_l, u_l)\n",
    "plt.legend(loc='upper left',fontsize = 21)\n",
    "\n",
    "plt.grid()\n",
    "\n",
    "ax1.spines['left'].set_color('black')        # setting up Y-axis tick color to red\n",
    "ax1.spines['bottom'].set_color('black')         #setting up above X-axis tick color to red\n"
   ]
  },
  {
   "cell_type": "code",
   "execution_count": null,
   "metadata": {},
   "outputs": [],
   "source": [
    "# metrics\n",
    "trainpreds = ann.predict(X_train)\n",
    "\n",
    "from sklearn.metrics import mean_absolute_error\n",
    "print(mean_absolute_error(y_train, trainpreds)) # train\n",
    "print(mean_absolute_error(y_test, y_pred)) # test"
   ]
  },
  {
   "cell_type": "code",
   "execution_count": null,
   "metadata": {},
   "outputs": [],
   "source": [
    "from sklearn.metrics import r2_score\n",
    "r2 = r2_score(y_test, y_pred)\n",
    "print (r2)"
   ]
  },
  {
   "cell_type": "code",
   "execution_count": null,
   "metadata": {},
   "outputs": [],
   "source": [
    "r2_train = r2_score(y_train, trainpreds)\n",
    "print (r2_train)"
   ]
  },
  {
   "cell_type": "code",
   "execution_count": null,
   "metadata": {},
   "outputs": [],
   "source": [
    "count0 = 0\n",
    "for i in range(len(y_pred)):\n",
    "    line1 = y_pred[i] - 0.95*y_test[i]\n",
    "    line2 = y_pred[i] - 1.05*y_test[i]\n",
    "    mask0 = (line1 > 0) & (line2 < 0)\n",
    "    count0 = np.sum(mask0+count0)\n",
    "\n",
    "count1 = 0\n",
    "for i in range(len(y_pred)):\n",
    "    line1 = y_pred[i] - 0.9*y_test[i]\n",
    "    line2 = y_pred[i] - 1.1*y_test[i]\n",
    "    mask1 = (line1 > 0) & (line2 < 0)\n",
    "    count1 = np.sum(mask1+count1)\n",
    "\n",
    "count2 = 0\n",
    "for j in range(len(y_pred)):\n",
    "    line3 = y_pred[j] - 0.8*y_test[j]\n",
    "    line4 = y_pred[j] - 1.2*y_test[j]\n",
    "    mask2 = (line3 > 0) & (line4 < 0)\n",
    "    count2 = np.sum(mask2+count2)\n",
    "\n",
    "\n",
    "count3 = 0    \n",
    "for k in range(len(y_pred)):\n",
    "    line5 = y_pred[k] - 0.8*y_test[k]\n",
    "    line6 = y_pred[k] - 1.2*y_test[k]\n",
    "    mask3 = (line5 < 0) or (line6 > 0)\n",
    "    count3 = np.sum(mask3+count3)\n",
    "   \n",
    "\n",
    "print ('Within 5% margin', format((count0/len (y_pred)),'.2%'))\n",
    "print ('Within 10% margin', format((count1/len (y_pred)),'.2%'))\n",
    "print ('Within 20% margin', format((count2/len (y_pred)),'.2%'))\n",
    "print ('Out of 20% margin', format((count3/len (y_pred)),'.2%'))"
   ]
  },
  {
   "cell_type": "code",
   "execution_count": null,
   "metadata": {},
   "outputs": [],
   "source": [
    "adj_r2 = 1 - ((1 - r2) * (len(X_test) - 1) / (len(X_test) - len (X_test[0]) - 1))\n",
    "print (adj_r2)"
   ]
  },
  {
   "cell_type": "code",
   "execution_count": null,
   "metadata": {},
   "outputs": [],
   "source": [
    "import math\n",
    "from sklearn.metrics import mean_squared_error\n",
    "\n",
    "math.sqrt(mean_squared_error(y_test_e, y_pred_e))"
   ]
  },
  {
   "cell_type": "code",
   "execution_count": null,
   "metadata": {},
   "outputs": [],
   "source": [
    "from sklearn.metrics import mean_absolute_error\n",
    "\n",
    "mean_absolute_error(y_test_e, y_pred_e)"
   ]
  }
 ],
 "metadata": {
  "colab": {
   "collapsed_sections": [],
   "name": "Artificial Neural Network",
   "provenance": [],
   "toc_visible": true
  },
  "kernelspec": {
   "display_name": "Python 3 (ipykernel)",
   "language": "python",
   "name": "python3"
  },
  "language_info": {
   "codemirror_mode": {
    "name": "ipython",
    "version": 3
   },
   "file_extension": ".py",
   "mimetype": "text/x-python",
   "name": "python",
   "nbconvert_exporter": "python",
   "pygments_lexer": "ipython3",
   "version": "3.9.7"
  }
 },
 "nbformat": 4,
 "nbformat_minor": 4
}
