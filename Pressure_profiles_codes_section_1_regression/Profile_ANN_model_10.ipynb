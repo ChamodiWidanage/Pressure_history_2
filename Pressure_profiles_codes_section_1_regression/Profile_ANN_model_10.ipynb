{
 "cells": [
  {
   "cell_type": "markdown",
   "metadata": {
    "colab_type": "text",
    "id": "3cbb7fRy-eyr"
   },
   "source": [
    "# Artificial Neural Network"
   ]
  },
  {
   "cell_type": "markdown",
   "metadata": {
    "colab_type": "text",
    "id": "8sNDnxE2-pwE"
   },
   "source": [
    "## Part 1 - Importing the libraries"
   ]
  },
  {
   "cell_type": "code",
   "execution_count": 2,
   "metadata": {
    "colab": {},
    "colab_type": "code",
    "id": "lxChR1Rk-umf",
    "ExecuteTime": {
     "end_time": "2023-10-10T04:02:15.519199500Z",
     "start_time": "2023-10-10T04:02:15.503565500Z"
    }
   },
   "outputs": [],
   "source": [
    "import numpy as np\n",
    "import pandas as pd\n",
    "import tensorflow as tf\n",
    "import matplotlib.pyplot as plt\n",
    "from keras.models import load_model\n",
    "from pathlib import Path"
   ]
  },
  {
   "cell_type": "markdown",
   "metadata": {
    "colab_type": "text",
    "id": "AG3FQEch-yuA"
   },
   "source": [
    "## Part 2 - Data Preprocessing"
   ]
  },
  {
   "cell_type": "markdown",
   "metadata": {
    "colab_type": "text",
    "id": "-4zq8Mza_D9O"
   },
   "source": [
    "### Importing the dataset"
   ]
  },
  {
   "cell_type": "code",
   "execution_count": 3,
   "metadata": {
    "ExecuteTime": {
     "end_time": "2023-10-10T04:02:18.299579200Z",
     "start_time": "2023-10-10T04:02:18.252893400Z"
    }
   },
   "outputs": [
    {
     "name": "stdout",
     "output_type": "stream",
     "text": [
      "input G:\\Chamodi\\Machine_Learning\\Pressure_history_2\\Pressure_profiles_arrival_omitted\n",
      "2 [WindowsPath('G:/Chamodi/Machine_Learning/Pressure_history_2/Pressure_profiles_arrival_omitted/L13_1'), WindowsPath('G:/Chamodi/Machine_Learning/Pressure_history_2/Pressure_profiles_arrival_omitted/L13_11'), WindowsPath('G:/Chamodi/Machine_Learning/Pressure_history_2/Pressure_profiles_arrival_omitted/L13_13'), WindowsPath('G:/Chamodi/Machine_Learning/Pressure_history_2/Pressure_profiles_arrival_omitted/L13_15'), WindowsPath('G:/Chamodi/Machine_Learning/Pressure_history_2/Pressure_profiles_arrival_omitted/L13_17'), WindowsPath('G:/Chamodi/Machine_Learning/Pressure_history_2/Pressure_profiles_arrival_omitted/L13_19'), WindowsPath('G:/Chamodi/Machine_Learning/Pressure_history_2/Pressure_profiles_arrival_omitted/L13_21'), WindowsPath('G:/Chamodi/Machine_Learning/Pressure_history_2/Pressure_profiles_arrival_omitted/L13_23'), WindowsPath('G:/Chamodi/Machine_Learning/Pressure_history_2/Pressure_profiles_arrival_omitted/L13_25'), WindowsPath('G:/Chamodi/Machine_Learning/Pressure_history_2/Pressure_profiles_arrival_omitted/L13_27'), WindowsPath('G:/Chamodi/Machine_Learning/Pressure_history_2/Pressure_profiles_arrival_omitted/L13_29'), WindowsPath('G:/Chamodi/Machine_Learning/Pressure_history_2/Pressure_profiles_arrival_omitted/L13_3'), WindowsPath('G:/Chamodi/Machine_Learning/Pressure_history_2/Pressure_profiles_arrival_omitted/L13_31'), WindowsPath('G:/Chamodi/Machine_Learning/Pressure_history_2/Pressure_profiles_arrival_omitted/L13_33'), WindowsPath('G:/Chamodi/Machine_Learning/Pressure_history_2/Pressure_profiles_arrival_omitted/L13_35'), WindowsPath('G:/Chamodi/Machine_Learning/Pressure_history_2/Pressure_profiles_arrival_omitted/L13_37'), WindowsPath('G:/Chamodi/Machine_Learning/Pressure_history_2/Pressure_profiles_arrival_omitted/L13_39'), WindowsPath('G:/Chamodi/Machine_Learning/Pressure_history_2/Pressure_profiles_arrival_omitted/L13_41'), WindowsPath('G:/Chamodi/Machine_Learning/Pressure_history_2/Pressure_profiles_arrival_omitted/L13_43'), WindowsPath('G:/Chamodi/Machine_Learning/Pressure_history_2/Pressure_profiles_arrival_omitted/L13_45'), WindowsPath('G:/Chamodi/Machine_Learning/Pressure_history_2/Pressure_profiles_arrival_omitted/L13_47'), WindowsPath('G:/Chamodi/Machine_Learning/Pressure_history_2/Pressure_profiles_arrival_omitted/L13_49'), WindowsPath('G:/Chamodi/Machine_Learning/Pressure_history_2/Pressure_profiles_arrival_omitted/L13_5'), WindowsPath('G:/Chamodi/Machine_Learning/Pressure_history_2/Pressure_profiles_arrival_omitted/L13_51'), WindowsPath('G:/Chamodi/Machine_Learning/Pressure_history_2/Pressure_profiles_arrival_omitted/L13_53'), WindowsPath('G:/Chamodi/Machine_Learning/Pressure_history_2/Pressure_profiles_arrival_omitted/L13_55'), WindowsPath('G:/Chamodi/Machine_Learning/Pressure_history_2/Pressure_profiles_arrival_omitted/L13_57'), WindowsPath('G:/Chamodi/Machine_Learning/Pressure_history_2/Pressure_profiles_arrival_omitted/L13_59'), WindowsPath('G:/Chamodi/Machine_Learning/Pressure_history_2/Pressure_profiles_arrival_omitted/L13_61'), WindowsPath('G:/Chamodi/Machine_Learning/Pressure_history_2/Pressure_profiles_arrival_omitted/L13_63'), WindowsPath('G:/Chamodi/Machine_Learning/Pressure_history_2/Pressure_profiles_arrival_omitted/L13_65'), WindowsPath('G:/Chamodi/Machine_Learning/Pressure_history_2/Pressure_profiles_arrival_omitted/L13_67'), WindowsPath('G:/Chamodi/Machine_Learning/Pressure_history_2/Pressure_profiles_arrival_omitted/L13_69'), WindowsPath('G:/Chamodi/Machine_Learning/Pressure_history_2/Pressure_profiles_arrival_omitted/L13_7'), WindowsPath('G:/Chamodi/Machine_Learning/Pressure_history_2/Pressure_profiles_arrival_omitted/L13_70'), WindowsPath('G:/Chamodi/Machine_Learning/Pressure_history_2/Pressure_profiles_arrival_omitted/L13_9')]\n"
     ]
    }
   ],
   "source": [
    "#Access input folder\n",
    "current_dir = Path.cwd()\n",
    "parent_dir = current_dir.parent\n",
    "input_dir1 = Path (parent_dir/\"Pressure_profiles_arrival_omitted\")\n",
    "print (\"input\",input_dir1)\n",
    "\n",
    "#Access folders inside input folder\n",
    "input_dir2_train =  [folder_input for folder_input in input_dir1.iterdir() if folder_input.is_dir()]\n",
    "print (\"2\",input_dir2_train)"
   ]
  },
  {
   "cell_type": "code",
   "execution_count": 4,
   "metadata": {
    "ExecuteTime": {
     "end_time": "2023-10-10T04:03:00.034039700Z",
     "start_time": "2023-10-10T04:02:21.513660800Z"
    }
   },
   "outputs": [
    {
     "name": "stdout",
     "output_type": "stream",
     "text": [
      "folder G:\\Chamodi\\Machine_Learning\\Pressure_history_2\\Pressure_profiles_arrival_omitted\\L13_1\n",
      "P1\n",
      "P5\n",
      "folder G:\\Chamodi\\Machine_Learning\\Pressure_history_2\\Pressure_profiles_arrival_omitted\\L13_11\n",
      "P1\n",
      "P5\n",
      "folder G:\\Chamodi\\Machine_Learning\\Pressure_history_2\\Pressure_profiles_arrival_omitted\\L13_13\n",
      "P1\n",
      "P5\n",
      "folder G:\\Chamodi\\Machine_Learning\\Pressure_history_2\\Pressure_profiles_arrival_omitted\\L13_15\n",
      "P1\n",
      "P5\n",
      "folder G:\\Chamodi\\Machine_Learning\\Pressure_history_2\\Pressure_profiles_arrival_omitted\\L13_17\n",
      "P1\n",
      "P5\n",
      "folder G:\\Chamodi\\Machine_Learning\\Pressure_history_2\\Pressure_profiles_arrival_omitted\\L13_19\n",
      "P1\n",
      "P5\n",
      "folder G:\\Chamodi\\Machine_Learning\\Pressure_history_2\\Pressure_profiles_arrival_omitted\\L13_21\n",
      "P1\n",
      "P5\n",
      "folder G:\\Chamodi\\Machine_Learning\\Pressure_history_2\\Pressure_profiles_arrival_omitted\\L13_23\n",
      "P1\n",
      "P5\n",
      "folder G:\\Chamodi\\Machine_Learning\\Pressure_history_2\\Pressure_profiles_arrival_omitted\\L13_25\n",
      "P1\n",
      "P5\n",
      "folder G:\\Chamodi\\Machine_Learning\\Pressure_history_2\\Pressure_profiles_arrival_omitted\\L13_27\n",
      "P1\n",
      "P5\n",
      "folder G:\\Chamodi\\Machine_Learning\\Pressure_history_2\\Pressure_profiles_arrival_omitted\\L13_29\n",
      "P1\n",
      "P5\n",
      "folder G:\\Chamodi\\Machine_Learning\\Pressure_history_2\\Pressure_profiles_arrival_omitted\\L13_3\n",
      "P1\n",
      "P5\n",
      "folder G:\\Chamodi\\Machine_Learning\\Pressure_history_2\\Pressure_profiles_arrival_omitted\\L13_31\n",
      "P1\n",
      "P5\n",
      "folder G:\\Chamodi\\Machine_Learning\\Pressure_history_2\\Pressure_profiles_arrival_omitted\\L13_33\n",
      "P1\n",
      "P5\n",
      "folder G:\\Chamodi\\Machine_Learning\\Pressure_history_2\\Pressure_profiles_arrival_omitted\\L13_35\n",
      "P1\n",
      "P5\n",
      "folder G:\\Chamodi\\Machine_Learning\\Pressure_history_2\\Pressure_profiles_arrival_omitted\\L13_37\n",
      "P1\n",
      "P5\n",
      "folder G:\\Chamodi\\Machine_Learning\\Pressure_history_2\\Pressure_profiles_arrival_omitted\\L13_39\n",
      "P1\n",
      "P5\n",
      "folder G:\\Chamodi\\Machine_Learning\\Pressure_history_2\\Pressure_profiles_arrival_omitted\\L13_41\n",
      "P1\n",
      "P5\n",
      "folder G:\\Chamodi\\Machine_Learning\\Pressure_history_2\\Pressure_profiles_arrival_omitted\\L13_43\n",
      "P1\n",
      "P5\n",
      "folder G:\\Chamodi\\Machine_Learning\\Pressure_history_2\\Pressure_profiles_arrival_omitted\\L13_45\n",
      "P1\n",
      "P5\n",
      "folder G:\\Chamodi\\Machine_Learning\\Pressure_history_2\\Pressure_profiles_arrival_omitted\\L13_47\n",
      "P1\n",
      "P5\n",
      "folder G:\\Chamodi\\Machine_Learning\\Pressure_history_2\\Pressure_profiles_arrival_omitted\\L13_49\n",
      "P1\n",
      "P5\n",
      "folder G:\\Chamodi\\Machine_Learning\\Pressure_history_2\\Pressure_profiles_arrival_omitted\\L13_5\n",
      "P1\n",
      "P5\n",
      "folder G:\\Chamodi\\Machine_Learning\\Pressure_history_2\\Pressure_profiles_arrival_omitted\\L13_51\n",
      "P1\n",
      "P5\n",
      "folder G:\\Chamodi\\Machine_Learning\\Pressure_history_2\\Pressure_profiles_arrival_omitted\\L13_53\n",
      "P1\n",
      "P5\n",
      "folder G:\\Chamodi\\Machine_Learning\\Pressure_history_2\\Pressure_profiles_arrival_omitted\\L13_55\n",
      "P1\n",
      "P5\n",
      "folder G:\\Chamodi\\Machine_Learning\\Pressure_history_2\\Pressure_profiles_arrival_omitted\\L13_57\n",
      "P1\n",
      "P5\n",
      "folder G:\\Chamodi\\Machine_Learning\\Pressure_history_2\\Pressure_profiles_arrival_omitted\\L13_59\n",
      "P1\n",
      "P5\n",
      "folder G:\\Chamodi\\Machine_Learning\\Pressure_history_2\\Pressure_profiles_arrival_omitted\\L13_61\n",
      "P1\n",
      "P5\n",
      "folder G:\\Chamodi\\Machine_Learning\\Pressure_history_2\\Pressure_profiles_arrival_omitted\\L13_63\n",
      "P1\n",
      "P5\n",
      "folder G:\\Chamodi\\Machine_Learning\\Pressure_history_2\\Pressure_profiles_arrival_omitted\\L13_65\n",
      "P1\n",
      "P5\n",
      "folder G:\\Chamodi\\Machine_Learning\\Pressure_history_2\\Pressure_profiles_arrival_omitted\\L13_67\n",
      "P1\n",
      "P5\n",
      "folder G:\\Chamodi\\Machine_Learning\\Pressure_history_2\\Pressure_profiles_arrival_omitted\\L13_69\n",
      "P1\n",
      "P5\n",
      "folder G:\\Chamodi\\Machine_Learning\\Pressure_history_2\\Pressure_profiles_arrival_omitted\\L13_7\n",
      "P1\n",
      "P5\n",
      "folder G:\\Chamodi\\Machine_Learning\\Pressure_history_2\\Pressure_profiles_arrival_omitted\\L13_70\n",
      "P1\n",
      "P5\n",
      "folder G:\\Chamodi\\Machine_Learning\\Pressure_history_2\\Pressure_profiles_arrival_omitted\\L13_9\n",
      "P1\n",
      "P5\n"
     ]
    }
   ],
   "source": [
    "# Access each folder inside input folder\n",
    "dataset_train = pd.DataFrame(columns = ['Charge_mass', 'Standoff_distance', 'Time', 'Pressure', 'Phase'])\n",
    "df_list_train = []\n",
    "for folder_train in input_dir2_train:\n",
    "    \n",
    "    # Make a list of data file names\n",
    "    files_train = list(file_train for file_train in folder_train.rglob(\"*.xlsx\") if int(file_train.stem[1:]) < 6)\n",
    "    print (\"folder\", folder_train)\n",
    "    \n",
    "    for file_train in files_train:\n",
    "        df_list_train.append(pd.read_excel(file_train))\n",
    "        print (file_train.stem)\n",
    "\n",
    "dataset_train = pd.concat(df_list_train, ignore_index = True)"
   ]
  },
  {
   "cell_type": "code",
   "execution_count": 5,
   "metadata": {
    "colab": {},
    "colab_type": "code",
    "id": "B9CV13Co_HHM",
    "ExecuteTime": {
     "end_time": "2023-10-10T04:03:04.230435Z",
     "start_time": "2023-10-10T04:03:04.072125Z"
    }
   },
   "outputs": [
    {
     "name": "stdout",
     "output_type": "stream",
     "text": [
      "<class 'pandas.core.frame.DataFrame'>\n",
      "RangeIndex: 243739 entries, 0 to 243738\n",
      "Data columns (total 5 columns):\n",
      " #   Column             Non-Null Count   Dtype  \n",
      "---  ------             --------------   -----  \n",
      " 0   Charge_mass        243739 non-null  float64\n",
      " 1   Standoff_distance  243739 non-null  int64  \n",
      " 2   Time               243739 non-null  float64\n",
      " 3   Pressure           243739 non-null  float64\n",
      " 4   Phase              243739 non-null  object \n",
      "dtypes: float64(3), int64(1), object(1)\n",
      "memory usage: 9.3+ MB\n"
     ]
    }
   ],
   "source": [
    "dataset_train.info()"
   ]
  },
  {
   "cell_type": "code",
   "execution_count": 6,
   "outputs": [
    {
     "name": "stdout",
     "output_type": "stream",
     "text": [
      "<class 'pandas.core.frame.DataFrame'>\n",
      "RangeIndex: 243739 entries, 0 to 243738\n",
      "Data columns (total 6 columns):\n",
      " #   Column             Non-Null Count   Dtype  \n",
      "---  ------             --------------   -----  \n",
      " 0   Charge_mass        243739 non-null  float64\n",
      " 1   Standoff_distance  243739 non-null  int64  \n",
      " 2   Time               243739 non-null  float64\n",
      " 3   Pressure           243739 non-null  float64\n",
      " 4   Phase_negative     243739 non-null  uint8  \n",
      " 5   Phase_positive     243739 non-null  uint8  \n",
      "dtypes: float64(3), int64(1), uint8(2)\n",
      "memory usage: 7.9 MB\n"
     ]
    }
   ],
   "source": [
    "dataset_train = pd.get_dummies(dataset_train, columns =['Phase'], dtype = np.uint8)\n",
    "dataset_train.info()"
   ],
   "metadata": {
    "collapsed": false,
    "ExecuteTime": {
     "end_time": "2023-10-10T04:03:05.752971400Z",
     "start_time": "2023-10-10T04:03:05.619313600Z"
    }
   }
  },
  {
   "cell_type": "code",
   "execution_count": 7,
   "outputs": [
    {
     "data": {
      "text/plain": "    Charge_mass  Standoff_distance     Time      Pressure  Phase_negative  \\\n0           0.5                  1  0.00067  591827.62500               0   \n1           0.5                  1  0.00068  556217.18750               0   \n2           0.5                  1  0.00069  525135.00000               0   \n3           0.5                  1  0.00070  496668.90625               0   \n4           0.5                  1  0.00071  469418.40625               0   \n5           0.5                  1  0.00072  445550.09375               0   \n6           0.5                  1  0.00073  423420.03125               0   \n7           0.5                  1  0.00074  402121.96875               0   \n8           0.5                  1  0.00075  383202.34375               0   \n9           0.5                  1  0.00076  365626.65625               0   \n10          0.5                  1  0.00077  349977.50000               0   \n11          0.5                  1  0.00078  334716.18750               0   \n12          0.5                  1  0.00079  320582.50000               0   \n13          0.5                  1  0.00080  307536.68750               0   \n14          0.5                  1  0.00081  295047.87500               0   \n15          0.5                  1  0.00082  283671.71875               0   \n16          0.5                  1  0.00083  273287.31250               0   \n17          0.5                  1  0.00084  263380.59375               0   \n18          0.5                  1  0.00085  253957.70312               0   \n19          0.5                  1  0.00086  245341.54688               0   \n20          0.5                  1  0.00087  237136.67188               0   \n21          0.5                  1  0.00088  229610.26562               0   \n22          0.5                  1  0.00089  222423.93750               0   \n23          0.5                  1  0.00090  215571.06250               0   \n24          0.5                  1  0.00091  209261.32812               0   \n25          0.5                  1  0.00092  203243.39062               0   \n26          0.5                  1  0.00093  197520.82812               0   \n27          0.5                  1  0.00094  192094.54688               0   \n28          0.5                  1  0.00095  186960.62500               0   \n29          0.5                  1  0.00096  182106.14062               0   \n\n    Phase_positive  \n0                1  \n1                1  \n2                1  \n3                1  \n4                1  \n5                1  \n6                1  \n7                1  \n8                1  \n9                1  \n10               1  \n11               1  \n12               1  \n13               1  \n14               1  \n15               1  \n16               1  \n17               1  \n18               1  \n19               1  \n20               1  \n21               1  \n22               1  \n23               1  \n24               1  \n25               1  \n26               1  \n27               1  \n28               1  \n29               1  ",
      "text/html": "<div>\n<style scoped>\n    .dataframe tbody tr th:only-of-type {\n        vertical-align: middle;\n    }\n\n    .dataframe tbody tr th {\n        vertical-align: top;\n    }\n\n    .dataframe thead th {\n        text-align: right;\n    }\n</style>\n<table border=\"1\" class=\"dataframe\">\n  <thead>\n    <tr style=\"text-align: right;\">\n      <th></th>\n      <th>Charge_mass</th>\n      <th>Standoff_distance</th>\n      <th>Time</th>\n      <th>Pressure</th>\n      <th>Phase_negative</th>\n      <th>Phase_positive</th>\n    </tr>\n  </thead>\n  <tbody>\n    <tr>\n      <th>0</th>\n      <td>0.5</td>\n      <td>1</td>\n      <td>0.00067</td>\n      <td>591827.62500</td>\n      <td>0</td>\n      <td>1</td>\n    </tr>\n    <tr>\n      <th>1</th>\n      <td>0.5</td>\n      <td>1</td>\n      <td>0.00068</td>\n      <td>556217.18750</td>\n      <td>0</td>\n      <td>1</td>\n    </tr>\n    <tr>\n      <th>2</th>\n      <td>0.5</td>\n      <td>1</td>\n      <td>0.00069</td>\n      <td>525135.00000</td>\n      <td>0</td>\n      <td>1</td>\n    </tr>\n    <tr>\n      <th>3</th>\n      <td>0.5</td>\n      <td>1</td>\n      <td>0.00070</td>\n      <td>496668.90625</td>\n      <td>0</td>\n      <td>1</td>\n    </tr>\n    <tr>\n      <th>4</th>\n      <td>0.5</td>\n      <td>1</td>\n      <td>0.00071</td>\n      <td>469418.40625</td>\n      <td>0</td>\n      <td>1</td>\n    </tr>\n    <tr>\n      <th>5</th>\n      <td>0.5</td>\n      <td>1</td>\n      <td>0.00072</td>\n      <td>445550.09375</td>\n      <td>0</td>\n      <td>1</td>\n    </tr>\n    <tr>\n      <th>6</th>\n      <td>0.5</td>\n      <td>1</td>\n      <td>0.00073</td>\n      <td>423420.03125</td>\n      <td>0</td>\n      <td>1</td>\n    </tr>\n    <tr>\n      <th>7</th>\n      <td>0.5</td>\n      <td>1</td>\n      <td>0.00074</td>\n      <td>402121.96875</td>\n      <td>0</td>\n      <td>1</td>\n    </tr>\n    <tr>\n      <th>8</th>\n      <td>0.5</td>\n      <td>1</td>\n      <td>0.00075</td>\n      <td>383202.34375</td>\n      <td>0</td>\n      <td>1</td>\n    </tr>\n    <tr>\n      <th>9</th>\n      <td>0.5</td>\n      <td>1</td>\n      <td>0.00076</td>\n      <td>365626.65625</td>\n      <td>0</td>\n      <td>1</td>\n    </tr>\n    <tr>\n      <th>10</th>\n      <td>0.5</td>\n      <td>1</td>\n      <td>0.00077</td>\n      <td>349977.50000</td>\n      <td>0</td>\n      <td>1</td>\n    </tr>\n    <tr>\n      <th>11</th>\n      <td>0.5</td>\n      <td>1</td>\n      <td>0.00078</td>\n      <td>334716.18750</td>\n      <td>0</td>\n      <td>1</td>\n    </tr>\n    <tr>\n      <th>12</th>\n      <td>0.5</td>\n      <td>1</td>\n      <td>0.00079</td>\n      <td>320582.50000</td>\n      <td>0</td>\n      <td>1</td>\n    </tr>\n    <tr>\n      <th>13</th>\n      <td>0.5</td>\n      <td>1</td>\n      <td>0.00080</td>\n      <td>307536.68750</td>\n      <td>0</td>\n      <td>1</td>\n    </tr>\n    <tr>\n      <th>14</th>\n      <td>0.5</td>\n      <td>1</td>\n      <td>0.00081</td>\n      <td>295047.87500</td>\n      <td>0</td>\n      <td>1</td>\n    </tr>\n    <tr>\n      <th>15</th>\n      <td>0.5</td>\n      <td>1</td>\n      <td>0.00082</td>\n      <td>283671.71875</td>\n      <td>0</td>\n      <td>1</td>\n    </tr>\n    <tr>\n      <th>16</th>\n      <td>0.5</td>\n      <td>1</td>\n      <td>0.00083</td>\n      <td>273287.31250</td>\n      <td>0</td>\n      <td>1</td>\n    </tr>\n    <tr>\n      <th>17</th>\n      <td>0.5</td>\n      <td>1</td>\n      <td>0.00084</td>\n      <td>263380.59375</td>\n      <td>0</td>\n      <td>1</td>\n    </tr>\n    <tr>\n      <th>18</th>\n      <td>0.5</td>\n      <td>1</td>\n      <td>0.00085</td>\n      <td>253957.70312</td>\n      <td>0</td>\n      <td>1</td>\n    </tr>\n    <tr>\n      <th>19</th>\n      <td>0.5</td>\n      <td>1</td>\n      <td>0.00086</td>\n      <td>245341.54688</td>\n      <td>0</td>\n      <td>1</td>\n    </tr>\n    <tr>\n      <th>20</th>\n      <td>0.5</td>\n      <td>1</td>\n      <td>0.00087</td>\n      <td>237136.67188</td>\n      <td>0</td>\n      <td>1</td>\n    </tr>\n    <tr>\n      <th>21</th>\n      <td>0.5</td>\n      <td>1</td>\n      <td>0.00088</td>\n      <td>229610.26562</td>\n      <td>0</td>\n      <td>1</td>\n    </tr>\n    <tr>\n      <th>22</th>\n      <td>0.5</td>\n      <td>1</td>\n      <td>0.00089</td>\n      <td>222423.93750</td>\n      <td>0</td>\n      <td>1</td>\n    </tr>\n    <tr>\n      <th>23</th>\n      <td>0.5</td>\n      <td>1</td>\n      <td>0.00090</td>\n      <td>215571.06250</td>\n      <td>0</td>\n      <td>1</td>\n    </tr>\n    <tr>\n      <th>24</th>\n      <td>0.5</td>\n      <td>1</td>\n      <td>0.00091</td>\n      <td>209261.32812</td>\n      <td>0</td>\n      <td>1</td>\n    </tr>\n    <tr>\n      <th>25</th>\n      <td>0.5</td>\n      <td>1</td>\n      <td>0.00092</td>\n      <td>203243.39062</td>\n      <td>0</td>\n      <td>1</td>\n    </tr>\n    <tr>\n      <th>26</th>\n      <td>0.5</td>\n      <td>1</td>\n      <td>0.00093</td>\n      <td>197520.82812</td>\n      <td>0</td>\n      <td>1</td>\n    </tr>\n    <tr>\n      <th>27</th>\n      <td>0.5</td>\n      <td>1</td>\n      <td>0.00094</td>\n      <td>192094.54688</td>\n      <td>0</td>\n      <td>1</td>\n    </tr>\n    <tr>\n      <th>28</th>\n      <td>0.5</td>\n      <td>1</td>\n      <td>0.00095</td>\n      <td>186960.62500</td>\n      <td>0</td>\n      <td>1</td>\n    </tr>\n    <tr>\n      <th>29</th>\n      <td>0.5</td>\n      <td>1</td>\n      <td>0.00096</td>\n      <td>182106.14062</td>\n      <td>0</td>\n      <td>1</td>\n    </tr>\n  </tbody>\n</table>\n</div>"
     },
     "execution_count": 7,
     "metadata": {},
     "output_type": "execute_result"
    }
   ],
   "source": [
    "dataset_train.head(30)"
   ],
   "metadata": {
    "collapsed": false,
    "ExecuteTime": {
     "end_time": "2023-10-10T04:03:07.048103800Z",
     "start_time": "2023-10-10T04:03:06.952696200Z"
    }
   }
  },
  {
   "cell_type": "code",
   "execution_count": 8,
   "metadata": {
    "ExecuteTime": {
     "end_time": "2023-10-10T04:03:08.471434800Z",
     "start_time": "2023-10-10T04:03:08.299608600Z"
    }
   },
   "outputs": [
    {
     "name": "stdout",
     "output_type": "stream",
     "text": [
      "(243739, 5) (243739,)\n"
     ]
    }
   ],
   "source": [
    "y = dataset_train['Pressure']\n",
    "X = dataset_train.drop(['Pressure'], axis=1)\n",
    "print(X.shape, y.shape)"
   ]
  },
  {
   "cell_type": "code",
   "execution_count": 9,
   "metadata": {
    "ExecuteTime": {
     "end_time": "2023-10-10T04:03:09.783676200Z",
     "start_time": "2023-10-10T04:03:09.609684400Z"
    }
   },
   "outputs": [],
   "source": [
    "# convert to numpy array\n",
    "X = np.array(X)\n",
    "y = np.array(y)"
   ]
  },
  {
   "cell_type": "markdown",
   "metadata": {
    "colab_type": "text",
    "id": "VC6omXel_Up0"
   },
   "source": [
    "### Splitting the dataset into the Training set and Test set"
   ]
  },
  {
   "cell_type": "code",
   "execution_count": 10,
   "metadata": {
    "colab": {},
    "colab_type": "code",
    "id": "L5edeb2r_agx",
    "ExecuteTime": {
     "end_time": "2023-10-10T04:03:12.546984800Z",
     "start_time": "2023-10-10T04:03:11.330716400Z"
    }
   },
   "outputs": [],
   "source": [
    "from sklearn.model_selection import train_test_split\n",
    "X_train, X_test, y_train, y_test = train_test_split(X,\n",
    "                                                    y,\n",
    "                                                    test_size = 0.4,\n",
    "                                                    random_state = 0)"
   ]
  },
  {
   "cell_type": "code",
   "execution_count": 11,
   "metadata": {
    "colab": {},
    "colab_type": "code",
    "id": "L5edeb2r_agx",
    "ExecuteTime": {
     "end_time": "2023-10-10T04:03:13.429658100Z",
     "start_time": "2023-10-10T04:03:13.350290300Z"
    }
   },
   "outputs": [],
   "source": [
    "X_val, X_test, y_val, y_test = train_test_split(X_test,\n",
    "                                                y_test,\n",
    "                                                test_size = 0.5,\n",
    "                                                random_state = 0)"
   ]
  },
  {
   "cell_type": "markdown",
   "source": [
    "## Feature scaling"
   ],
   "metadata": {
    "collapsed": false
   }
  },
  {
   "cell_type": "code",
   "execution_count": 12,
   "outputs": [
    {
     "name": "stdout",
     "output_type": "stream",
     "text": [
      "[[-0.30947223  1.04101323  0.44943638  1.          0.        ]\n",
      " [-0.51448473  1.04101323 -0.07631085  1.          0.        ]\n",
      " [ 0.71559023  1.04101323 -1.21359265  1.          0.        ]\n",
      " ...\n",
      " [ 0.81809648  1.04101323  1.66806636  1.          0.        ]\n",
      " [-0.82200347 -0.96060259  0.67653301  1.          0.        ]\n",
      " [ 1.12561522  1.04101323  1.82096973  1.          0.        ]]\n"
     ]
    }
   ],
   "source": [
    "from sklearn.preprocessing import StandardScaler\n",
    "sc = StandardScaler()\n",
    "X_train[:,0:3] = sc.fit_transform(X_train[:, 0:3])\n",
    "print (X_train)"
   ],
   "metadata": {
    "collapsed": false,
    "ExecuteTime": {
     "end_time": "2023-10-10T04:03:14.915400300Z",
     "start_time": "2023-10-10T04:03:14.846675800Z"
    }
   }
  },
  {
   "cell_type": "code",
   "execution_count": 13,
   "outputs": [
    {
     "name": "stdout",
     "output_type": "stream",
     "text": [
      "[[ 0.81809648 -0.96060259  0.38326458  1.          0.        ]\n",
      " [ 0.61308398 -0.96060259  0.5003843   1.          0.        ]\n",
      " [ 1.43313396 -0.96060259 -1.11522846  1.          0.        ]\n",
      " ...\n",
      " [ 1.22812146 -0.96060259  0.06676529  1.          0.        ]\n",
      " [ 0.40807149  1.04101323 -0.96682103  1.          0.        ]\n",
      " [ 0.10055275 -0.96060259  1.32384269  1.          0.        ]]\n"
     ]
    }
   ],
   "source": [
    "X_test[:,0:3] = sc.transform(X_test[:,0:3])\n",
    "print (X_test)"
   ],
   "metadata": {
    "collapsed": false,
    "ExecuteTime": {
     "end_time": "2023-10-10T04:03:16.085459500Z",
     "start_time": "2023-10-10T04:03:15.965326900Z"
    }
   }
  },
  {
   "cell_type": "code",
   "execution_count": 14,
   "outputs": [
    {
     "name": "stdout",
     "output_type": "stream",
     "text": [
      "[[-0.10445974  1.04101323  0.60500035  1.          0.        ]\n",
      " [ 0.10055275 -0.96060259  0.48251562  1.          0.        ]\n",
      " [-0.00195349  1.04101323  0.05066974  1.          0.        ]\n",
      " ...\n",
      " [-0.41197848 -0.96060259  0.85623414  1.          0.        ]\n",
      " [ 0.40807149  1.04101323 -0.26852946  1.          0.        ]\n",
      " [-1.74455968 -0.96060259 -1.20107546  1.          0.        ]]\n"
     ]
    }
   ],
   "source": [
    "X_val[:,0:3] = sc.transform(X_val[:,0:3])\n",
    "print (X_val)"
   ],
   "metadata": {
    "collapsed": false,
    "ExecuteTime": {
     "end_time": "2023-10-10T04:03:17.179619100Z",
     "start_time": "2023-10-10T04:03:17.068600500Z"
    }
   }
  },
  {
   "cell_type": "code",
   "execution_count": 15,
   "outputs": [
    {
     "name": "stdout",
     "output_type": "stream",
     "text": [
      "X_train 146243\n",
      "X_test 48748\n",
      "X_val 48748\n"
     ]
    }
   ],
   "source": [
    "print (\"X_train\", len(X_train))\n",
    "print (\"X_test\", len(X_test))\n",
    "print (\"X_val\", len(X_val))"
   ],
   "metadata": {
    "collapsed": false,
    "ExecuteTime": {
     "end_time": "2023-10-10T04:03:18.212944100Z",
     "start_time": "2023-10-10T04:03:18.101922800Z"
    }
   }
  },
  {
   "cell_type": "markdown",
   "metadata": {
    "colab_type": "text",
    "id": "_mSLlAT9_eyI"
   },
   "source": [
    "## Part 3 - Building the ANN"
   ]
  },
  {
   "cell_type": "markdown",
   "metadata": {
    "colab_type": "text",
    "id": "CsBULd_f_wLY"
   },
   "source": [
    "### Initializing the ANN"
   ]
  },
  {
   "cell_type": "code",
   "execution_count": 16,
   "metadata": {
    "colab": {},
    "colab_type": "code",
    "id": "J6Hd97Ls__Nz",
    "ExecuteTime": {
     "end_time": "2023-10-10T04:03:20.596417800Z",
     "start_time": "2023-10-10T04:03:20.471780400Z"
    }
   },
   "outputs": [],
   "source": [
    "ann = tf.keras.models.Sequential()"
   ]
  },
  {
   "cell_type": "markdown",
   "metadata": {
    "colab_type": "text",
    "id": "iitAFJS_ABUn"
   },
   "source": [
    "### Adding the input layer and the first hidden layer"
   ]
  },
  {
   "cell_type": "code",
   "execution_count": 17,
   "metadata": {
    "colab": {},
    "colab_type": "code",
    "id": "ksO_Vv40AHix",
    "ExecuteTime": {
     "end_time": "2023-10-10T04:03:21.958984400Z",
     "start_time": "2023-10-10T04:03:21.848346100Z"
    }
   },
   "outputs": [],
   "source": [
    "ann.add(tf.keras.layers.Dense(units=150,\n",
    "                              input_shape=(X_train.shape[1],),\n",
    "                              activation='softplus'))"
   ]
  },
  {
   "cell_type": "markdown",
   "metadata": {
    "colab_type": "text",
    "id": "-lb4kK_wAKbs"
   },
   "source": [
    "### Adding the second hidden layer"
   ]
  },
  {
   "cell_type": "code",
   "execution_count": 18,
   "metadata": {
    "colab": {},
    "colab_type": "code",
    "id": "c2357OqEAQOQ",
    "tags": [],
    "ExecuteTime": {
     "end_time": "2023-10-10T04:03:23.788098400Z",
     "start_time": "2023-10-10T04:03:23.676688400Z"
    }
   },
   "outputs": [],
   "source": [
    "ann.add(tf.keras.layers.Dense(units=125,\n",
    "                              activation='softplus'))"
   ]
  },
  {
   "cell_type": "markdown",
   "metadata": {
    "colab_type": "text",
    "id": "-lb4kK_wAKbs"
   },
   "source": [
    "### Adding the third hidden layer"
   ]
  },
  {
   "cell_type": "code",
   "execution_count": 19,
   "metadata": {
    "colab": {},
    "colab_type": "code",
    "id": "c2357OqEAQOQ",
    "tags": [],
    "ExecuteTime": {
     "end_time": "2023-10-10T04:03:25.268541500Z",
     "start_time": "2023-10-10T04:03:25.143369400Z"
    }
   },
   "outputs": [],
   "source": [
    "ann.add(tf.keras.layers.Dense(units=100,\n",
    "                              activation='softplus'))"
   ]
  },
  {
   "cell_type": "markdown",
   "source": [
    "### Adding the fourth hidden layer"
   ],
   "metadata": {
    "collapsed": false
   }
  },
  {
   "cell_type": "code",
   "execution_count": 20,
   "outputs": [],
   "source": [
    "ann.add(tf.keras.layers.Dense(units=75,\n",
    "                              activation='softplus'))"
   ],
   "metadata": {
    "collapsed": false,
    "ExecuteTime": {
     "end_time": "2023-10-10T04:03:27.846495Z",
     "start_time": "2023-10-10T04:03:27.768673800Z"
    }
   }
  },
  {
   "cell_type": "markdown",
   "metadata": {
    "colab_type": "text",
    "id": "jwMOmKb3AdBY"
   },
   "source": [
    "### Adding the output layer"
   ]
  },
  {
   "cell_type": "code",
   "execution_count": 21,
   "metadata": {
    "colab": {},
    "colab_type": "code",
    "id": "YFATpzsUAkLL",
    "ExecuteTime": {
     "end_time": "2023-10-10T04:03:30.440471300Z",
     "start_time": "2023-10-10T04:03:30.329072700Z"
    }
   },
   "outputs": [],
   "source": [
    "ann.add(tf.keras.layers.Dense(units=1,\n",
    "                              activation='linear'))"
   ]
  },
  {
   "cell_type": "markdown",
   "metadata": {},
   "source": [
    "### what model looks like"
   ]
  },
  {
   "cell_type": "code",
   "execution_count": 22,
   "metadata": {
    "ExecuteTime": {
     "end_time": "2023-10-10T04:03:32.895573900Z",
     "start_time": "2023-10-10T04:03:32.784956700Z"
    }
   },
   "outputs": [
    {
     "name": "stdout",
     "output_type": "stream",
     "text": [
      "Model: \"sequential\"\n",
      "_________________________________________________________________\n",
      " Layer (type)                Output Shape              Param #   \n",
      "=================================================================\n",
      " dense (Dense)               (None, 150)               900       \n",
      "                                                                 \n",
      " dense_1 (Dense)             (None, 125)               18875     \n",
      "                                                                 \n",
      " dense_2 (Dense)             (None, 100)               12600     \n",
      "                                                                 \n",
      " dense_3 (Dense)             (None, 75)                7575      \n",
      "                                                                 \n",
      " dense_4 (Dense)             (None, 1)                 76        \n",
      "                                                                 \n",
      "=================================================================\n",
      "Total params: 40,026\n",
      "Trainable params: 40,026\n",
      "Non-trainable params: 0\n",
      "_________________________________________________________________\n"
     ]
    }
   ],
   "source": [
    "ann.summary()"
   ]
  },
  {
   "cell_type": "markdown",
   "metadata": {
    "colab_type": "text",
    "id": "fq7e4fF6A1yy"
   },
   "source": [
    "## Part 4 - Training the ANN"
   ]
  },
  {
   "cell_type": "markdown",
   "metadata": {
    "colab_type": "text",
    "id": "qDeylAs2An25"
   },
   "source": [
    "### Compiling the ANN"
   ]
  },
  {
   "cell_type": "code",
   "execution_count": 23,
   "metadata": {
    "colab": {},
    "colab_type": "code",
    "id": "pesgbWlCAtB4",
    "ExecuteTime": {
     "end_time": "2023-10-10T04:03:35.786652600Z",
     "start_time": "2023-10-10T04:03:35.706914200Z"
    }
   },
   "outputs": [],
   "source": [
    "# from tensorflow.keras.optimizers import Adam\n",
    "from keras.optimizers import Adam\n",
    "opt = Adam(learning_rate=0.001)\n",
    "ann.compile(optimizer = opt,\n",
    "            loss = 'mean_squared_error',\n",
    "            metrics = ['mae'])"
   ]
  },
  {
   "cell_type": "markdown",
   "metadata": {},
   "source": [
    "### early stopping callback"
   ]
  },
  {
   "cell_type": "code",
   "execution_count": 24,
   "metadata": {
    "ExecuteTime": {
     "end_time": "2023-10-10T04:03:38.154489500Z",
     "start_time": "2023-10-10T04:03:38.091184100Z"
    }
   },
   "outputs": [],
   "source": [
    "# protects from unnecessary further training of the model if a particular metric does not continue to improve over a number of n epochs. In such a case, the model training would be automatically aborted.\n",
    "from keras.callbacks import EarlyStopping\n",
    "es = EarlyStopping(monitor='val_loss',\n",
    "                   mode='min',\n",
    "                   patience=50,\n",
    "                   restore_best_weights = True)"
   ]
  },
  {
   "cell_type": "markdown",
   "metadata": {
    "colab_type": "text",
    "id": "YjVuiybYOo7r"
   },
   "source": [
    "### Training the ANN model on the Training set"
   ]
  },
  {
   "cell_type": "code",
   "execution_count": 25,
   "metadata": {
    "colab": {
     "base_uri": "https://localhost:8080/",
     "height": 1000
    },
    "colab_type": "code",
    "id": "c_vV-tiiA5zn",
    "outputId": "4a2b6ee6-ed75-4698-9069-b250e613803f",
    "ExecuteTime": {
     "end_time": "2023-10-10T06:06:29.487273500Z",
     "start_time": "2023-10-10T04:03:40.121849600Z"
    }
   },
   "outputs": [
    {
     "name": "stdout",
     "output_type": "stream",
     "text": [
      "Epoch 1/500\n",
      "14625/14625 [==============================] - 58s 4ms/step - loss: 15332117504.0000 - mae: 25807.0293 - val_loss: 17332840448.0000 - val_mae: 20759.7012\n",
      "Epoch 2/500\n",
      "14625/14625 [==============================] - 56s 4ms/step - loss: 13551042560.0000 - mae: 21606.6758 - val_loss: 16387277824.0000 - val_mae: 24293.2812\n",
      "Epoch 3/500\n",
      "14625/14625 [==============================] - 55s 4ms/step - loss: 13497759744.0000 - mae: 21392.9941 - val_loss: 16061683712.0000 - val_mae: 22347.8184\n",
      "Epoch 4/500\n",
      "14625/14625 [==============================] - 56s 4ms/step - loss: 13467743232.0000 - mae: 21114.9805 - val_loss: 16178014208.0000 - val_mae: 22911.8008\n",
      "Epoch 5/500\n",
      "14625/14625 [==============================] - 55s 4ms/step - loss: 13490940928.0000 - mae: 20956.7578 - val_loss: 16306186240.0000 - val_mae: 19678.5410\n",
      "Epoch 6/500\n",
      "14625/14625 [==============================] - 56s 4ms/step - loss: 13196261376.0000 - mae: 20899.3223 - val_loss: 16375473152.0000 - val_mae: 20669.9629\n",
      "Epoch 7/500\n",
      "14625/14625 [==============================] - 56s 4ms/step - loss: 13223180288.0000 - mae: 20844.5547 - val_loss: 16328303616.0000 - val_mae: 20449.9219\n",
      "Epoch 8/500\n",
      "14625/14625 [==============================] - 56s 4ms/step - loss: 13096388608.0000 - mae: 20376.6719 - val_loss: 15979264000.0000 - val_mae: 20564.9863\n",
      "Epoch 9/500\n",
      "14625/14625 [==============================] - 56s 4ms/step - loss: 12818504704.0000 - mae: 20036.1094 - val_loss: 15592253440.0000 - val_mae: 20036.9609\n",
      "Epoch 10/500\n",
      "14625/14625 [==============================] - 56s 4ms/step - loss: 12426995712.0000 - mae: 19683.2500 - val_loss: 15513232384.0000 - val_mae: 20655.2598\n",
      "Epoch 11/500\n",
      "14625/14625 [==============================] - 56s 4ms/step - loss: 12349192192.0000 - mae: 19362.3027 - val_loss: 15811759104.0000 - val_mae: 19867.5684\n",
      "Epoch 12/500\n",
      "14625/14625 [==============================] - 57s 4ms/step - loss: 12150300672.0000 - mae: 19101.8438 - val_loss: 15519621120.0000 - val_mae: 18906.4316\n",
      "Epoch 13/500\n",
      "14625/14625 [==============================] - 56s 4ms/step - loss: 12012604416.0000 - mae: 18880.7930 - val_loss: 15424966656.0000 - val_mae: 19048.9941\n",
      "Epoch 14/500\n",
      "14625/14625 [==============================] - 56s 4ms/step - loss: 11868634112.0000 - mae: 18683.2969 - val_loss: 15136478208.0000 - val_mae: 19390.1562\n",
      "Epoch 15/500\n",
      "14625/14625 [==============================] - 56s 4ms/step - loss: 11680326656.0000 - mae: 18618.4941 - val_loss: 14912189440.0000 - val_mae: 18817.6719\n",
      "Epoch 16/500\n",
      "14625/14625 [==============================] - 56s 4ms/step - loss: 11569711104.0000 - mae: 18499.1602 - val_loss: 15427724288.0000 - val_mae: 19723.1035\n",
      "Epoch 17/500\n",
      "14625/14625 [==============================] - 55s 4ms/step - loss: 11600862208.0000 - mae: 18452.5293 - val_loss: 15528159232.0000 - val_mae: 19891.6016\n",
      "Epoch 18/500\n",
      "14625/14625 [==============================] - 55s 4ms/step - loss: 11485252608.0000 - mae: 18483.0859 - val_loss: 15670712320.0000 - val_mae: 17919.8691\n",
      "Epoch 19/500\n",
      "14625/14625 [==============================] - 56s 4ms/step - loss: 11507397632.0000 - mae: 18436.9453 - val_loss: 15178722304.0000 - val_mae: 18616.1016\n",
      "Epoch 20/500\n",
      "14625/14625 [==============================] - 55s 4ms/step - loss: 11458824192.0000 - mae: 18344.1562 - val_loss: 14857892864.0000 - val_mae: 19336.4121\n",
      "Epoch 21/500\n",
      "14625/14625 [==============================] - 55s 4ms/step - loss: 11328014336.0000 - mae: 18224.0176 - val_loss: 14850922496.0000 - val_mae: 18550.7910\n",
      "Epoch 22/500\n",
      "14625/14625 [==============================] - 55s 4ms/step - loss: 11352269824.0000 - mae: 18109.7363 - val_loss: 14569824256.0000 - val_mae: 19063.5586\n",
      "Epoch 23/500\n",
      "14625/14625 [==============================] - 55s 4ms/step - loss: 11193919488.0000 - mae: 17789.5645 - val_loss: 14802540544.0000 - val_mae: 18491.7598\n",
      "Epoch 24/500\n",
      "14625/14625 [==============================] - 55s 4ms/step - loss: 11194608640.0000 - mae: 17028.2520 - val_loss: 14668488704.0000 - val_mae: 17150.9883\n",
      "Epoch 25/500\n",
      "14625/14625 [==============================] - 55s 4ms/step - loss: 11186817024.0000 - mae: 16151.9326 - val_loss: 14293740544.0000 - val_mae: 16136.8516\n",
      "Epoch 26/500\n",
      "14625/14625 [==============================] - 56s 4ms/step - loss: 10973954048.0000 - mae: 15273.4932 - val_loss: 14368663552.0000 - val_mae: 15560.2998\n",
      "Epoch 27/500\n",
      "14625/14625 [==============================] - 56s 4ms/step - loss: 10939389952.0000 - mae: 14413.9287 - val_loss: 14540030976.0000 - val_mae: 15777.3848\n",
      "Epoch 28/500\n",
      "14625/14625 [==============================] - 55s 4ms/step - loss: 10949764096.0000 - mae: 13796.4229 - val_loss: 14040003584.0000 - val_mae: 13699.5273\n",
      "Epoch 29/500\n",
      "14625/14625 [==============================] - 47s 3ms/step - loss: 10787378176.0000 - mae: 13094.0527 - val_loss: 14146385920.0000 - val_mae: 13150.3848\n",
      "Epoch 30/500\n",
      "14625/14625 [==============================] - 45s 3ms/step - loss: 10686763008.0000 - mae: 12398.9668 - val_loss: 13952838656.0000 - val_mae: 12755.0654\n",
      "Epoch 31/500\n",
      "14625/14625 [==============================] - 45s 3ms/step - loss: 10631213056.0000 - mae: 11789.1738 - val_loss: 13884854272.0000 - val_mae: 11837.7061\n",
      "Epoch 32/500\n",
      "14625/14625 [==============================] - 45s 3ms/step - loss: 10402713600.0000 - mae: 11300.1494 - val_loss: 13893518336.0000 - val_mae: 11891.4160\n",
      "Epoch 33/500\n",
      "14625/14625 [==============================] - 46s 3ms/step - loss: 10451744768.0000 - mae: 10987.1514 - val_loss: 13877003264.0000 - val_mae: 10962.7207\n",
      "Epoch 34/500\n",
      "14625/14625 [==============================] - 45s 3ms/step - loss: 10312269824.0000 - mae: 10657.3350 - val_loss: 13705896960.0000 - val_mae: 11246.0820\n",
      "Epoch 35/500\n",
      "14625/14625 [==============================] - 45s 3ms/step - loss: 10324957184.0000 - mae: 10404.2754 - val_loss: 13858411520.0000 - val_mae: 11362.6260\n",
      "Epoch 36/500\n",
      "14625/14625 [==============================] - 45s 3ms/step - loss: 10309892096.0000 - mae: 10181.8359 - val_loss: 13937033216.0000 - val_mae: 11570.5381\n",
      "Epoch 37/500\n",
      "14625/14625 [==============================] - 45s 3ms/step - loss: 10201446400.0000 - mae: 10036.7812 - val_loss: 13586886656.0000 - val_mae: 11629.2119\n",
      "Epoch 38/500\n",
      "14625/14625 [==============================] - 45s 3ms/step - loss: 10085192704.0000 - mae: 10065.9482 - val_loss: 14368974848.0000 - val_mae: 9747.9004\n",
      "Epoch 39/500\n",
      "14625/14625 [==============================] - 45s 3ms/step - loss: 10263212032.0000 - mae: 9840.3818 - val_loss: 14248373248.0000 - val_mae: 11382.3486\n",
      "Epoch 40/500\n",
      "14625/14625 [==============================] - 45s 3ms/step - loss: 10245157888.0000 - mae: 9729.8008 - val_loss: 13690918912.0000 - val_mae: 9818.0293\n",
      "Epoch 41/500\n",
      "14625/14625 [==============================] - 46s 3ms/step - loss: 10214174720.0000 - mae: 9718.4619 - val_loss: 13619872768.0000 - val_mae: 9552.2832\n",
      "Epoch 42/500\n",
      "14625/14625 [==============================] - 45s 3ms/step - loss: 10153049088.0000 - mae: 9590.7256 - val_loss: 13692111872.0000 - val_mae: 10833.7178\n",
      "Epoch 43/500\n",
      "14625/14625 [==============================] - 45s 3ms/step - loss: 10193680384.0000 - mae: 9515.1445 - val_loss: 13808869376.0000 - val_mae: 10270.3027\n",
      "Epoch 44/500\n",
      "14625/14625 [==============================] - 45s 3ms/step - loss: 10159670272.0000 - mae: 9416.0420 - val_loss: 13549247488.0000 - val_mae: 9656.3213\n",
      "Epoch 45/500\n",
      "14625/14625 [==============================] - 45s 3ms/step - loss: 10142016512.0000 - mae: 9305.1699 - val_loss: 14528376832.0000 - val_mae: 11736.9736\n",
      "Epoch 46/500\n",
      "14625/14625 [==============================] - 45s 3ms/step - loss: 10068320256.0000 - mae: 9298.5234 - val_loss: 14607554560.0000 - val_mae: 10008.7617\n",
      "Epoch 47/500\n",
      "14625/14625 [==============================] - 45s 3ms/step - loss: 9937511424.0000 - mae: 9157.5977 - val_loss: 15361958912.0000 - val_mae: 10493.9658\n",
      "Epoch 48/500\n",
      "14625/14625 [==============================] - 46s 3ms/step - loss: 10161590272.0000 - mae: 9041.7578 - val_loss: 13806996480.0000 - val_mae: 9748.0098\n",
      "Epoch 49/500\n",
      "14625/14625 [==============================] - 45s 3ms/step - loss: 9955425280.0000 - mae: 8954.6631 - val_loss: 14796289024.0000 - val_mae: 10162.4619\n",
      "Epoch 50/500\n",
      "14625/14625 [==============================] - 45s 3ms/step - loss: 10160492544.0000 - mae: 8839.2969 - val_loss: 13736131584.0000 - val_mae: 9361.8232\n",
      "Epoch 51/500\n",
      "14625/14625 [==============================] - 45s 3ms/step - loss: 10139335680.0000 - mae: 8843.5723 - val_loss: 13833836544.0000 - val_mae: 9344.3574\n",
      "Epoch 52/500\n",
      "14625/14625 [==============================] - 45s 3ms/step - loss: 10137145344.0000 - mae: 8659.4238 - val_loss: 13731121152.0000 - val_mae: 9402.6445\n",
      "Epoch 53/500\n",
      "14625/14625 [==============================] - 45s 3ms/step - loss: 10123954176.0000 - mae: 8689.5088 - val_loss: 13753419776.0000 - val_mae: 8929.2324\n",
      "Epoch 54/500\n",
      "14625/14625 [==============================] - 45s 3ms/step - loss: 10138750976.0000 - mae: 8559.9707 - val_loss: 13681039360.0000 - val_mae: 8506.7227\n",
      "Epoch 55/500\n",
      "14625/14625 [==============================] - 45s 3ms/step - loss: 10006832128.0000 - mae: 8622.9102 - val_loss: 13654038528.0000 - val_mae: 9660.3242\n",
      "Epoch 56/500\n",
      "14625/14625 [==============================] - 45s 3ms/step - loss: 10047119360.0000 - mae: 8520.1250 - val_loss: 13949706240.0000 - val_mae: 8783.4443\n",
      "Epoch 57/500\n",
      "14625/14625 [==============================] - 45s 3ms/step - loss: 10083038208.0000 - mae: 8358.1592 - val_loss: 13562586112.0000 - val_mae: 8647.1709\n",
      "Epoch 58/500\n",
      "14625/14625 [==============================] - 45s 3ms/step - loss: 9980771328.0000 - mae: 8268.4092 - val_loss: 13425225728.0000 - val_mae: 9575.4482\n",
      "Epoch 59/500\n",
      "14625/14625 [==============================] - 45s 3ms/step - loss: 10153902080.0000 - mae: 8282.7676 - val_loss: 13678146560.0000 - val_mae: 8363.0947\n",
      "Epoch 60/500\n",
      "14625/14625 [==============================] - 45s 3ms/step - loss: 10090477568.0000 - mae: 8135.6396 - val_loss: 13587533824.0000 - val_mae: 8261.1318\n",
      "Epoch 61/500\n",
      "14625/14625 [==============================] - 45s 3ms/step - loss: 10049788928.0000 - mae: 7972.3818 - val_loss: 13628340224.0000 - val_mae: 8484.9004\n",
      "Epoch 62/500\n",
      "14625/14625 [==============================] - 45s 3ms/step - loss: 9973307392.0000 - mae: 7914.1948 - val_loss: 14163421184.0000 - val_mae: 9028.6689\n",
      "Epoch 63/500\n",
      "14625/14625 [==============================] - 45s 3ms/step - loss: 10156073984.0000 - mae: 7849.7700 - val_loss: 13938083840.0000 - val_mae: 9711.7871\n",
      "Epoch 64/500\n",
      "14625/14625 [==============================] - 45s 3ms/step - loss: 9969690624.0000 - mae: 7760.8457 - val_loss: 14327803904.0000 - val_mae: 7449.9023\n",
      "Epoch 65/500\n",
      "14625/14625 [==============================] - 45s 3ms/step - loss: 10102766592.0000 - mae: 7611.2969 - val_loss: 13750804480.0000 - val_mae: 7566.7114\n",
      "Epoch 66/500\n",
      "14625/14625 [==============================] - 45s 3ms/step - loss: 10046371840.0000 - mae: 7691.1289 - val_loss: 13949608960.0000 - val_mae: 8296.8203\n",
      "Epoch 67/500\n",
      "14625/14625 [==============================] - 45s 3ms/step - loss: 10026427392.0000 - mae: 7444.9473 - val_loss: 13751197696.0000 - val_mae: 7830.3896\n",
      "Epoch 68/500\n",
      "14625/14625 [==============================] - 46s 3ms/step - loss: 10098827264.0000 - mae: 7455.4243 - val_loss: 13877719040.0000 - val_mae: 7341.4966\n",
      "Epoch 69/500\n",
      "14625/14625 [==============================] - 46s 3ms/step - loss: 9987652608.0000 - mae: 7388.0620 - val_loss: 13751228416.0000 - val_mae: 8106.7656\n",
      "Epoch 70/500\n",
      "14625/14625 [==============================] - 45s 3ms/step - loss: 10086809600.0000 - mae: 7294.9307 - val_loss: 13571643392.0000 - val_mae: 7739.7832\n",
      "Epoch 71/500\n",
      "14625/14625 [==============================] - 45s 3ms/step - loss: 10010819584.0000 - mae: 7264.9155 - val_loss: 13711638528.0000 - val_mae: 7372.3418\n",
      "Epoch 72/500\n",
      "14625/14625 [==============================] - 45s 3ms/step - loss: 10045732864.0000 - mae: 7180.2842 - val_loss: 14135665664.0000 - val_mae: 8367.0361\n",
      "Epoch 73/500\n",
      "14625/14625 [==============================] - 45s 3ms/step - loss: 9910276096.0000 - mae: 7114.8853 - val_loss: 13681941504.0000 - val_mae: 7110.6279\n",
      "Epoch 74/500\n",
      "14625/14625 [==============================] - 45s 3ms/step - loss: 10019507200.0000 - mae: 7094.9575 - val_loss: 14177255424.0000 - val_mae: 7038.4878\n",
      "Epoch 75/500\n",
      "14625/14625 [==============================] - 45s 3ms/step - loss: 9907025920.0000 - mae: 6916.0420 - val_loss: 13377010688.0000 - val_mae: 8266.7041\n",
      "Epoch 76/500\n",
      "14625/14625 [==============================] - 45s 3ms/step - loss: 10131746816.0000 - mae: 7017.5127 - val_loss: 13456205824.0000 - val_mae: 7854.7666\n",
      "Epoch 77/500\n",
      "14625/14625 [==============================] - 45s 3ms/step - loss: 9942210560.0000 - mae: 6983.0352 - val_loss: 13657242624.0000 - val_mae: 7649.5586\n",
      "Epoch 78/500\n",
      "14625/14625 [==============================] - 45s 3ms/step - loss: 9992037376.0000 - mae: 6920.6553 - val_loss: 13850703872.0000 - val_mae: 6825.6641\n",
      "Epoch 79/500\n",
      "14625/14625 [==============================] - 45s 3ms/step - loss: 10030853120.0000 - mae: 6861.7715 - val_loss: 13667725312.0000 - val_mae: 7533.8706\n",
      "Epoch 80/500\n",
      "14625/14625 [==============================] - 45s 3ms/step - loss: 10004642816.0000 - mae: 6720.6235 - val_loss: 13923718144.0000 - val_mae: 7764.8887\n",
      "Epoch 81/500\n",
      "14625/14625 [==============================] - 45s 3ms/step - loss: 9980244992.0000 - mae: 6697.1284 - val_loss: 13456659456.0000 - val_mae: 8418.4141\n",
      "Epoch 82/500\n",
      "14625/14625 [==============================] - 45s 3ms/step - loss: 9885813760.0000 - mae: 6804.5171 - val_loss: 14349928448.0000 - val_mae: 6660.0718\n",
      "Epoch 83/500\n",
      "14625/14625 [==============================] - 45s 3ms/step - loss: 9989548032.0000 - mae: 6714.3384 - val_loss: 13862538240.0000 - val_mae: 6660.1460\n",
      "Epoch 84/500\n",
      "14625/14625 [==============================] - 45s 3ms/step - loss: 9947748352.0000 - mae: 6536.8354 - val_loss: 13816902656.0000 - val_mae: 7999.0640\n",
      "Epoch 85/500\n",
      "14625/14625 [==============================] - 46s 3ms/step - loss: 9926506496.0000 - mae: 6721.4033 - val_loss: 14580747264.0000 - val_mae: 6562.6616\n",
      "Epoch 86/500\n",
      "14625/14625 [==============================] - 46s 3ms/step - loss: 10016060416.0000 - mae: 6565.9858 - val_loss: 13970594816.0000 - val_mae: 7084.1426\n",
      "Epoch 87/500\n",
      "14625/14625 [==============================] - 45s 3ms/step - loss: 10076884992.0000 - mae: 6551.7632 - val_loss: 13474979840.0000 - val_mae: 6919.0850\n",
      "Epoch 88/500\n",
      "14625/14625 [==============================] - 47s 3ms/step - loss: 9991620608.0000 - mae: 6506.4487 - val_loss: 13416435712.0000 - val_mae: 6789.2988\n",
      "Epoch 89/500\n",
      "14625/14625 [==============================] - 46s 3ms/step - loss: 9950855168.0000 - mae: 6533.5166 - val_loss: 13540313088.0000 - val_mae: 7506.3784\n",
      "Epoch 90/500\n",
      "14625/14625 [==============================] - 45s 3ms/step - loss: 9861364736.0000 - mae: 6368.2910 - val_loss: 14854539264.0000 - val_mae: 8667.3125\n",
      "Epoch 91/500\n",
      "14625/14625 [==============================] - 45s 3ms/step - loss: 9994955776.0000 - mae: 6478.1665 - val_loss: 13736709120.0000 - val_mae: 6566.6357\n",
      "Epoch 92/500\n",
      "14625/14625 [==============================] - 45s 3ms/step - loss: 10001672192.0000 - mae: 6430.1968 - val_loss: 13407707136.0000 - val_mae: 6926.0142\n",
      "Epoch 93/500\n",
      "14625/14625 [==============================] - 45s 3ms/step - loss: 9905577984.0000 - mae: 6452.0718 - val_loss: 14120979456.0000 - val_mae: 7428.5942\n",
      "Epoch 94/500\n",
      "14625/14625 [==============================] - 46s 3ms/step - loss: 9840301056.0000 - mae: 6446.5708 - val_loss: 13900645376.0000 - val_mae: 6331.8193\n",
      "Epoch 95/500\n",
      "14625/14625 [==============================] - 46s 3ms/step - loss: 9755938816.0000 - mae: 6289.1758 - val_loss: 13233930240.0000 - val_mae: 7477.4937\n",
      "Epoch 96/500\n",
      "14625/14625 [==============================] - 45s 3ms/step - loss: 9851457536.0000 - mae: 6475.0972 - val_loss: 14319147008.0000 - val_mae: 7261.0586\n",
      "Epoch 97/500\n",
      "14625/14625 [==============================] - 46s 3ms/step - loss: 9810428928.0000 - mae: 6173.8501 - val_loss: 13243248640.0000 - val_mae: 7515.1113\n",
      "Epoch 98/500\n",
      "14625/14625 [==============================] - 45s 3ms/step - loss: 9945237504.0000 - mae: 6419.7695 - val_loss: 13829833728.0000 - val_mae: 7031.7617\n",
      "Epoch 99/500\n",
      "14625/14625 [==============================] - 45s 3ms/step - loss: 9714113536.0000 - mae: 6211.4854 - val_loss: 13221590016.0000 - val_mae: 7200.9458\n",
      "Epoch 100/500\n",
      "14625/14625 [==============================] - 46s 3ms/step - loss: 9964964864.0000 - mae: 6328.1318 - val_loss: 13616966656.0000 - val_mae: 7278.3511\n",
      "Epoch 101/500\n",
      "14625/14625 [==============================] - 45s 3ms/step - loss: 9996829696.0000 - mae: 6219.9873 - val_loss: 13589872640.0000 - val_mae: 6990.7529\n",
      "Epoch 102/500\n",
      "14625/14625 [==============================] - 45s 3ms/step - loss: 9971093504.0000 - mae: 6293.8340 - val_loss: 13351840768.0000 - val_mae: 7203.4619\n",
      "Epoch 103/500\n",
      "14625/14625 [==============================] - 45s 3ms/step - loss: 9921606656.0000 - mae: 6216.8867 - val_loss: 13253996544.0000 - val_mae: 6692.8467\n",
      "Epoch 104/500\n",
      "14625/14625 [==============================] - 45s 3ms/step - loss: 9937964032.0000 - mae: 6284.5737 - val_loss: 13563978752.0000 - val_mae: 6356.9336\n",
      "Epoch 105/500\n",
      "14625/14625 [==============================] - 45s 3ms/step - loss: 9881059328.0000 - mae: 6186.2700 - val_loss: 13754098688.0000 - val_mae: 7528.8154\n",
      "Epoch 106/500\n",
      "14625/14625 [==============================] - 45s 3ms/step - loss: 10026403840.0000 - mae: 6237.3906 - val_loss: 13148445696.0000 - val_mae: 6622.4775\n",
      "Epoch 107/500\n",
      "14625/14625 [==============================] - 45s 3ms/step - loss: 10013455360.0000 - mae: 6194.2910 - val_loss: 13436820480.0000 - val_mae: 8110.5107\n",
      "Epoch 108/500\n",
      "14625/14625 [==============================] - 46s 3ms/step - loss: 9838089216.0000 - mae: 6282.6470 - val_loss: 14342489088.0000 - val_mae: 6397.0225\n",
      "Epoch 109/500\n",
      "14625/14625 [==============================] - 45s 3ms/step - loss: 10038408192.0000 - mae: 6056.1812 - val_loss: 13469222912.0000 - val_mae: 6442.1523\n",
      "Epoch 110/500\n",
      "14625/14625 [==============================] - 45s 3ms/step - loss: 10014896128.0000 - mae: 6163.7998 - val_loss: 13895195648.0000 - val_mae: 7513.5234\n",
      "Epoch 111/500\n",
      "14625/14625 [==============================] - 45s 3ms/step - loss: 10030895104.0000 - mae: 6153.8652 - val_loss: 13766891520.0000 - val_mae: 6482.2803\n",
      "Epoch 112/500\n",
      "14625/14625 [==============================] - 45s 3ms/step - loss: 9917657088.0000 - mae: 6134.1807 - val_loss: 13896332288.0000 - val_mae: 6085.4897\n",
      "Epoch 113/500\n",
      "14625/14625 [==============================] - 48s 3ms/step - loss: 9829495808.0000 - mae: 6127.4917 - val_loss: 14332342272.0000 - val_mae: 6335.4878\n",
      "Epoch 114/500\n",
      "14625/14625 [==============================] - 56s 4ms/step - loss: 9800681472.0000 - mae: 6077.8159 - val_loss: 13934502912.0000 - val_mae: 6360.7871\n",
      "Epoch 115/500\n",
      "14625/14625 [==============================] - 45s 3ms/step - loss: 9945846784.0000 - mae: 6125.7842 - val_loss: 14279737344.0000 - val_mae: 6161.6284\n",
      "Epoch 116/500\n",
      "14625/14625 [==============================] - 45s 3ms/step - loss: 9896159232.0000 - mae: 6020.8320 - val_loss: 14425958400.0000 - val_mae: 5981.6968\n",
      "Epoch 117/500\n",
      "14625/14625 [==============================] - 45s 3ms/step - loss: 10011831296.0000 - mae: 6045.6099 - val_loss: 13460375552.0000 - val_mae: 7509.1924\n",
      "Epoch 118/500\n",
      "14625/14625 [==============================] - 45s 3ms/step - loss: 9917067264.0000 - mae: 6112.6626 - val_loss: 14049210368.0000 - val_mae: 6476.9326\n",
      "Epoch 119/500\n",
      "14625/14625 [==============================] - 45s 3ms/step - loss: 9877911552.0000 - mae: 6008.9546 - val_loss: 13653635072.0000 - val_mae: 6493.8721\n",
      "Epoch 120/500\n",
      "14625/14625 [==============================] - 45s 3ms/step - loss: 9964723200.0000 - mae: 6104.1240 - val_loss: 14137305088.0000 - val_mae: 6183.5479\n",
      "Epoch 121/500\n",
      "14625/14625 [==============================] - 45s 3ms/step - loss: 9894547456.0000 - mae: 6081.6841 - val_loss: 13509424128.0000 - val_mae: 6371.0483\n",
      "Epoch 122/500\n",
      "14625/14625 [==============================] - 45s 3ms/step - loss: 9957816320.0000 - mae: 5977.3687 - val_loss: 13274874880.0000 - val_mae: 6729.1914\n",
      "Epoch 123/500\n",
      "14625/14625 [==============================] - 45s 3ms/step - loss: 9976514560.0000 - mae: 6134.9858 - val_loss: 13685606400.0000 - val_mae: 6712.7969\n",
      "Epoch 124/500\n",
      "14625/14625 [==============================] - 45s 3ms/step - loss: 9806556160.0000 - mae: 5960.5464 - val_loss: 13353833472.0000 - val_mae: 7085.6016\n",
      "Epoch 125/500\n",
      "14625/14625 [==============================] - 45s 3ms/step - loss: 9936269312.0000 - mae: 6078.4219 - val_loss: 13398021120.0000 - val_mae: 7139.8013\n",
      "Epoch 126/500\n",
      "14625/14625 [==============================] - 45s 3ms/step - loss: 9900863488.0000 - mae: 6172.6045 - val_loss: 13463336960.0000 - val_mae: 6389.1831\n",
      "Epoch 127/500\n",
      "14625/14625 [==============================] - 45s 3ms/step - loss: 9857139712.0000 - mae: 5977.2734 - val_loss: 13375450112.0000 - val_mae: 6446.8354\n",
      "Epoch 128/500\n",
      "14625/14625 [==============================] - 46s 3ms/step - loss: 9945129984.0000 - mae: 6087.4956 - val_loss: 13738777600.0000 - val_mae: 6247.6143\n",
      "Epoch 129/500\n",
      "14625/14625 [==============================] - 45s 3ms/step - loss: 9987768320.0000 - mae: 6047.4683 - val_loss: 13760644096.0000 - val_mae: 6264.7275\n",
      "Epoch 130/500\n",
      "14625/14625 [==============================] - 45s 3ms/step - loss: 9781664768.0000 - mae: 5988.7998 - val_loss: 14011521024.0000 - val_mae: 6016.1836\n",
      "Epoch 131/500\n",
      "14625/14625 [==============================] - 45s 3ms/step - loss: 9900371968.0000 - mae: 6025.0381 - val_loss: 13481733120.0000 - val_mae: 6983.6758\n",
      "Epoch 132/500\n",
      "14625/14625 [==============================] - 45s 3ms/step - loss: 9850779648.0000 - mae: 6021.5679 - val_loss: 13667105792.0000 - val_mae: 6858.1177\n",
      "Epoch 133/500\n",
      "14625/14625 [==============================] - 46s 3ms/step - loss: 10006970368.0000 - mae: 5983.8047 - val_loss: 13400965120.0000 - val_mae: 6926.2769\n",
      "Epoch 134/500\n",
      "14625/14625 [==============================] - 45s 3ms/step - loss: 9968722944.0000 - mae: 6154.8164 - val_loss: 13535940608.0000 - val_mae: 7018.0854\n",
      "Epoch 135/500\n",
      "14625/14625 [==============================] - 45s 3ms/step - loss: 9775118336.0000 - mae: 6010.3364 - val_loss: 13698342912.0000 - val_mae: 7131.5239\n",
      "Epoch 136/500\n",
      "14625/14625 [==============================] - 45s 3ms/step - loss: 9884838912.0000 - mae: 6046.1680 - val_loss: 13391827968.0000 - val_mae: 7433.1519\n",
      "Epoch 137/500\n",
      "14625/14625 [==============================] - 45s 3ms/step - loss: 9866565632.0000 - mae: 6038.1138 - val_loss: 13660419072.0000 - val_mae: 6279.5103\n",
      "Epoch 138/500\n",
      "14625/14625 [==============================] - 45s 3ms/step - loss: 9882833920.0000 - mae: 5976.8467 - val_loss: 13590603776.0000 - val_mae: 6219.9644\n",
      "Epoch 139/500\n",
      "14625/14625 [==============================] - 45s 3ms/step - loss: 9922348032.0000 - mae: 6028.4907 - val_loss: 13413624832.0000 - val_mae: 6457.7783\n",
      "Epoch 140/500\n",
      "14625/14625 [==============================] - 45s 3ms/step - loss: 9875530752.0000 - mae: 6057.5508 - val_loss: 14107488256.0000 - val_mae: 6365.7759\n",
      "Epoch 141/500\n",
      "14625/14625 [==============================] - 45s 3ms/step - loss: 9942915072.0000 - mae: 5953.5557 - val_loss: 13761059840.0000 - val_mae: 6602.4897\n",
      "Epoch 142/500\n",
      "14625/14625 [==============================] - 45s 3ms/step - loss: 9808395264.0000 - mae: 5962.3115 - val_loss: 13571819520.0000 - val_mae: 6187.4067\n",
      "Epoch 143/500\n",
      "14625/14625 [==============================] - 45s 3ms/step - loss: 9892043776.0000 - mae: 6011.8828 - val_loss: 14053789696.0000 - val_mae: 6668.7178\n",
      "Epoch 144/500\n",
      "14625/14625 [==============================] - 45s 3ms/step - loss: 9916834816.0000 - mae: 5926.7993 - val_loss: 13164046336.0000 - val_mae: 6553.9878\n",
      "Epoch 145/500\n",
      "14625/14625 [==============================] - 45s 3ms/step - loss: 9937961984.0000 - mae: 5971.4453 - val_loss: 13404794880.0000 - val_mae: 6924.7627\n",
      "Epoch 146/500\n",
      "14625/14625 [==============================] - 45s 3ms/step - loss: 9970571264.0000 - mae: 5956.3716 - val_loss: 13379559424.0000 - val_mae: 7403.3564\n",
      "Epoch 147/500\n",
      "14625/14625 [==============================] - 46s 3ms/step - loss: 9857587200.0000 - mae: 5996.3833 - val_loss: 13286398976.0000 - val_mae: 6266.5947\n",
      "Epoch 148/500\n",
      "14625/14625 [==============================] - 46s 3ms/step - loss: 9941940224.0000 - mae: 5925.2969 - val_loss: 13358509056.0000 - val_mae: 7147.8003\n",
      "Epoch 149/500\n",
      "14625/14625 [==============================] - 45s 3ms/step - loss: 9970589696.0000 - mae: 5973.7422 - val_loss: 13544097792.0000 - val_mae: 6382.4443\n",
      "Epoch 150/500\n",
      "14625/14625 [==============================] - 45s 3ms/step - loss: 9875829760.0000 - mae: 5911.7378 - val_loss: 14270146560.0000 - val_mae: 8773.0977\n",
      "Epoch 151/500\n",
      "14625/14625 [==============================] - 45s 3ms/step - loss: 9815476224.0000 - mae: 6063.8403 - val_loss: 13866779648.0000 - val_mae: 6140.7539\n",
      "Epoch 152/500\n",
      "14625/14625 [==============================] - 45s 3ms/step - loss: 9898610688.0000 - mae: 5867.2979 - val_loss: 13728106496.0000 - val_mae: 6988.6064\n",
      "Epoch 153/500\n",
      "14625/14625 [==============================] - 45s 3ms/step - loss: 9939439616.0000 - mae: 5916.3633 - val_loss: 13442667520.0000 - val_mae: 6887.6079\n",
      "Epoch 154/500\n",
      "14625/14625 [==============================] - 45s 3ms/step - loss: 9805240320.0000 - mae: 5857.1602 - val_loss: 13419501568.0000 - val_mae: 6748.8618\n",
      "Epoch 155/500\n",
      "14625/14625 [==============================] - 45s 3ms/step - loss: 9829171200.0000 - mae: 5990.7114 - val_loss: 13700452352.0000 - val_mae: 6928.4551\n",
      "Epoch 156/500\n",
      "14625/14625 [==============================] - 45s 3ms/step - loss: 10031787008.0000 - mae: 5975.7993 - val_loss: 13552637952.0000 - val_mae: 6512.5811\n"
     ]
    }
   ],
   "source": [
    "history = ann.fit(X_train, y_train,\n",
    "                    validation_data = (X_val, y_val),\n",
    "                    callbacks=[es],\n",
    "                    epochs=500,\n",
    "                    batch_size=10,\n",
    "                    verbose=1)"
   ]
  },
  {
   "cell_type": "markdown",
   "metadata": {
    "colab_type": "text",
    "id": "0H0zKKNEBLD5"
   },
   "source": [
    "### Analyse learn history"
   ]
  },
  {
   "cell_type": "code",
   "execution_count": 26,
   "metadata": {
    "ExecuteTime": {
     "end_time": "2023-10-10T22:31:51.389952500Z",
     "start_time": "2023-10-10T22:31:50.771540900Z"
    }
   },
   "outputs": [
    {
     "data": {
      "text/plain": "<Figure size 640x480 with 1 Axes>",
      "image/png": "[encoded data removed]"
     },
     "metadata": {},
     "output_type": "display_data"
    }
   ],
   "source": [
    "# let's see the training and validation accuracy by epoch\n",
    "history_dict = history.history\n",
    "loss_values = history_dict['loss'] # you can change this\n",
    "val_loss_values = history_dict['val_loss'] # you can also change this\n",
    "epochs = range(1, len(loss_values) + 1) # range of X (no. of epochs)\n",
    "plt.plot(epochs, loss_values, 'blue', label='Train set loss')\n",
    "plt.plot(epochs, val_loss_values, 'orange', label='Validation set loss')\n",
    "#plt.title('Training and testing loss')\n",
    "plt.xlabel('Epochs')\n",
    "plt.ylabel('Loss (MSE)')\n",
    "plt.legend()\n",
    "plt.show()"
   ]
  },
  {
   "cell_type": "code",
   "execution_count": 27,
   "metadata": {
    "ExecuteTime": {
     "end_time": "2023-10-10T22:32:04.610704300Z",
     "start_time": "2023-10-10T22:32:04.361193300Z"
    }
   },
   "outputs": [
    {
     "data": {
      "text/plain": "<Figure size 640x480 with 1 Axes>",
      "image/png": "[encoded data removed]"
     },
     "metadata": {},
     "output_type": "display_data"
    }
   ],
   "source": [
    "loss_values1 = history_dict['mae'] # you can change this\n",
    "val_loss_values1 = history_dict['val_mae'] # you can also change this\n",
    "epochs = range(1, len(loss_values1) + 1) # range of X (no. of epochs)\n",
    "plt.plot(epochs, loss_values1, 'blue', label='Train set MAE')\n",
    "plt.plot(epochs, val_loss_values1, 'orange', label='Validation set MAE')\n",
    "#plt.title('Training and testing MAE')\n",
    "plt.xlabel('Epochs')\n",
    "plt.ylabel('MAE')\n",
    "plt.legend()\n",
    "plt.show()"
   ]
  },
  {
   "cell_type": "code",
   "execution_count": null,
   "metadata": {},
   "outputs": [],
   "source": [
    "print (epochs)"
   ]
  },
  {
   "cell_type": "markdown",
   "metadata": {},
   "source": [
    "### Save the model"
   ]
  },
  {
   "cell_type": "code",
   "execution_count": null,
   "metadata": {},
   "outputs": [],
   "source": [
    "ann.save('ANN_1.h5')"
   ]
  },
  {
   "cell_type": "markdown",
   "metadata": {},
   "source": [
    "## Part 5 - Make predictions"
   ]
  },
  {
   "cell_type": "code",
   "execution_count": null,
   "metadata": {},
   "outputs": [],
   "source": [
    "ann = load_model('ANN_1.h5')"
   ]
  },
  {
   "cell_type": "code",
   "execution_count": 28,
   "metadata": {
    "ExecuteTime": {
     "end_time": "2023-10-10T22:32:37.262229500Z",
     "start_time": "2023-10-10T22:32:20.636942700Z"
    }
   },
   "outputs": [
    {
     "name": "stdout",
     "output_type": "stream",
     "text": [
      "4571/4571 [==============================] - 9s 2ms/step\n",
      "1524/1524 [==============================] - 3s 2ms/step\n"
     ]
    },
    {
     "data": {
      "text/plain": "<Figure size 640x480 with 2 Axes>",
      "image/png": "[encoded data removed]"
     },
     "metadata": {},
     "output_type": "display_data"
    }
   ],
   "source": [
    "# scatterplot of actual vs. pred\n",
    "# specify the dimensions \n",
    "fig, axes = plt.subplots(1,2) # 1 row, 2 columns\n",
    "\n",
    "# this makes the individual subplots\n",
    "# Training Results\n",
    "axes[0].scatter(x=y_train, y=ann.predict(X_train)) #first row, first entry (left top)\n",
    "axes[0].set_xlabel(\"Actual\", fontsize=10)\n",
    "axes[0].set_ylabel(\"Predicted\",  fontsize=10)\n",
    "axes[0].set_title(\"Training\")\n",
    "# add 45 deg line\n",
    "x = np.linspace(*axes[0].get_xlim())\n",
    "axes[0].plot(x, x, color='red')\n",
    "# Validation Results\n",
    "axes[1].scatter(x=y_val, y=ann.predict(X_val)) # first row, second entry (right top)\n",
    "axes[1].set_xlabel(\"Actual\", fontsize=10)\n",
    "axes[1].set_ylabel(\"Predicted\",  fontsize=10)\n",
    "axes[1].set_title(\"Validation\")\n",
    "# add 45 deg line\n",
    "x = np.linspace(*axes[1].get_xlim())\n",
    "axes[1].plot(x, x, color='red')\n",
    "\n",
    "# tight layout\n",
    "fig.tight_layout()\n",
    "\n",
    "# show the plot\n",
    "plt.show()"
   ]
  },
  {
   "cell_type": "code",
   "execution_count": null,
   "metadata": {
    "colab": {
     "base_uri": "https://localhost:8080/",
     "height": 134
    },
    "colab_type": "code",
    "id": "IA0yApEmBG1X",
    "outputId": "cb981e1f-9204-4a2a-fece-9d66a6919189"
   },
   "outputs": [],
   "source": [
    "y_pred = ann.predict(X_test)\n",
    "np.set_printoptions(precision=2)\n",
    "print(np.concatenate((y_pred.reshape(len(y_pred),1), y_test.reshape(len(y_test),1)),1))"
   ]
  },
  {
   "cell_type": "code",
   "execution_count": null,
   "metadata": {},
   "outputs": [],
   "source": [
    "import matplotlib.pyplot as plt\n",
    "plt.scatter(y_test, y_pred, color=\"blue\")\n",
    "#plt.plot ([0,8500000],[0,8500000], color = \"red\")\n",
    "#plt.axis ([0,8500000,0,8500000])\n",
    "plt.xlabel ('Actual data')\n",
    "plt.ylabel ('Predicted data')"
   ]
  },
  {
   "cell_type": "code",
   "execution_count": null,
   "metadata": {},
   "outputs": [],
   "source": [
    "from sklearn.metrics import r2_score\n",
    "# Initialize layout\n",
    "fig1, ax1 = plt.subplots(figsize = (9, 9))\n",
    "\n",
    "\n",
    "#y = y_pred         # Model on prvious line is called here\n",
    "#x = y_test\n",
    "\n",
    "\n",
    "\n",
    "# Add scatterplot\n",
    "ax1.scatter(y_test, y_pred, s=70, alpha=1, edgecolors=\"k\",c='mediumblue',zorder=5, label = 'Points')\n",
    "\n",
    "\n",
    "plt.ylabel('Predicted Peak Incident Pressure (kPa)',fontsize = 25)\n",
    "plt.xlabel('Actual Peak Incident Pressure (kPa)',fontsize = 25)\n",
    "plt.xticks(fontsize = 19)\n",
    "plt.yticks(fontsize = 19)\n",
    "\n",
    "\n",
    "x1 = np.linspace(0,8000000)\n",
    "\n",
    "plt.plot(x1, x1, 'Red', label='45\\N{DEGREE SIGN} line',lw=2.5,alpha=1)\n",
    "plt.plot(x1, 1.1*x1, '--m', label='\\u00B110% Error',lw=2.5,alpha=0.7)\n",
    "plt.plot(x1, 0.9*x1,'m', linestyle='--',lw=2.5,alpha=0.7)\n",
    "plt.plot(x1, 1.2*x1, '-.g', label='\\u00B120% Error',lw=2.5,alpha=0.7)\n",
    "plt.plot(x1, 0.8*x1,'-.g',lw=2.5,alpha=0.7)\n",
    "\n",
    "plt.ylim(0,8000000)\n",
    "plt.xlim(0,8000000)\n",
    "plt.legend(loc='upper left',fontsize = 25)\n",
    "\n",
    "plt.grid()\n",
    "\n",
    "ax1.spines['left'].set_color('black')        # setting up Y-axis tick color to red\n",
    "ax1.spines['bottom'].set_color('black')         #setting up above X-axis tick color to red\n",
    "\n",
    "\n",
    "\n",
    "#ax1.annotate(\"$R^2$ = {:.3f}\".format(r2), (2500, 1000),fontsize = 25)  #Model is called here\n",
    "#ax1.annotate(\"Adj.$R^2$ = {:.3f}\".format(adj_r2), (2500, 750),fontsize = 25)\n",
    "\n",
    "#plt.savefig('plot1.png', dpi = 600, bbox_inches = 'tight')"
   ]
  },
  {
   "cell_type": "code",
   "execution_count": null,
   "metadata": {},
   "outputs": [],
   "source": [
    "# metrics\n",
    "trainpreds = ann.predict(X_train)\n",
    "\n",
    "from sklearn.metrics import mean_absolute_error\n",
    "print(mean_absolute_error(y_train, trainpreds)) # train\n",
    "print(mean_absolute_error(y_test, y_pred)) # test"
   ]
  },
  {
   "cell_type": "code",
   "execution_count": null,
   "metadata": {},
   "outputs": [],
   "source": [
    "from sklearn.metrics import r2_score\n",
    "r2 = r2_score(y_test, y_pred)\n",
    "print (r2)"
   ]
  },
  {
   "cell_type": "code",
   "execution_count": null,
   "metadata": {},
   "outputs": [],
   "source": [
    "r2_train = r2_score(y_train, trainpreds)\n",
    "print (r2_train)"
   ]
  },
  {
   "cell_type": "code",
   "execution_count": null,
   "metadata": {},
   "outputs": [],
   "source": [
    "count1 = 0\n",
    "for i in range(len(y_pred)):\n",
    "    line1 = y_pred[i] - 0.9*y_test[i]\n",
    "    line2 = y_pred[i] - 1.1*y_test[i]\n",
    "    #print ('line 1 ', line1)\n",
    "    #print ('line 2 ', line2)\n",
    "    mask1 = (line1 > 0) & (line2 < 0)\n",
    "    #print (mask)\n",
    "    count1 = np.sum(mask1+count1)\n",
    "    #print (count)\n",
    "\n",
    "count2 = 0\n",
    "for j in range(len(y_pred)):\n",
    "    line3 = y_pred[j] - 0.8*y_test[j]\n",
    "    line4 = y_pred[j] - 1.2*y_test[j]\n",
    "    mask2 = (line3 > 0) & (line4 < 0)\n",
    "    count2 = np.sum(mask2+count2)\n",
    "\n",
    "\n",
    "count3 = 0    \n",
    "for k in range(len(y_pred)):\n",
    "    line5 = y_pred[k] - 0.8*y_test[k]\n",
    "    line6 = y_pred[k] - 1.2*y_test[k]\n",
    "    mask3 = (line5 < 0) or (line6 > 0)\n",
    "    count3 = np.sum(mask3+count3)\n",
    "   \n",
    "\n",
    "print ('Within 10% margin', format((count1/len (y_pred)),'.2%'))\n",
    "print ('Within 20% margin', format((count2/len (y_pred)),'.2%'))\n",
    "print ('Out of 20% margin', format((count3/len (y_pred)),'.2%'))"
   ]
  },
  {
   "cell_type": "code",
   "execution_count": null,
   "metadata": {},
   "outputs": [],
   "source": [
    "adj_r2 = 1 - ((1 - r2) * (len(X_test) - 1) / (len(X_test) - len (X_test[0]) - 1))\n",
    "print (adj_r2)"
   ]
  },
  {
   "cell_type": "code",
   "execution_count": null,
   "metadata": {},
   "outputs": [],
   "source": [
    "import math\n",
    "from sklearn.metrics import mean_squared_error\n",
    "\n",
    "math.sqrt(mean_squared_error(y_test, y_pred))"
   ]
  },
  {
   "cell_type": "code",
   "execution_count": null,
   "metadata": {},
   "outputs": [],
   "source": [
    "from sklearn.metrics import mean_absolute_error\n",
    "\n",
    "mean_absolute_error(y_test, y_pred)"
   ]
  }
 ],
 "metadata": {
  "colab": {
   "collapsed_sections": [],
   "name": "Artificial Neural Network",
   "provenance": [],
   "toc_visible": true
  },
  "kernelspec": {
   "display_name": "Python 3 (ipykernel)",
   "language": "python",
   "name": "python3"
  },
  "language_info": {
   "codemirror_mode": {
    "name": "ipython",
    "version": 3
   },
   "file_extension": ".py",
   "mimetype": "text/x-python",
   "name": "python",
   "nbconvert_exporter": "python",
   "pygments_lexer": "ipython3",
   "version": "3.9.7"
  }
 },
 "nbformat": 4,
 "nbformat_minor": 4
}
