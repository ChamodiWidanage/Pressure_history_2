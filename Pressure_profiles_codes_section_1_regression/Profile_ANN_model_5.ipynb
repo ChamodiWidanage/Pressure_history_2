{
 "cells": [
  {
   "cell_type": "markdown",
   "metadata": {
    "colab_type": "text",
    "id": "3cbb7fRy-eyr"
   },
   "source": [
    "# Artificial Neural Network"
   ]
  },
  {
   "cell_type": "markdown",
   "metadata": {
    "colab_type": "text",
    "id": "8sNDnxE2-pwE"
   },
   "source": [
    "## Part 1 - Importing the libraries"
   ]
  },
  {
   "cell_type": "code",
   "execution_count": 1,
   "metadata": {
    "colab": {},
    "colab_type": "code",
    "id": "lxChR1Rk-umf",
    "ExecuteTime": {
     "end_time": "2023-09-29T04:25:09.539896700Z",
     "start_time": "2023-09-29T04:25:04.664837Z"
    }
   },
   "outputs": [],
   "source": [
    "import numpy as np\n",
    "import pandas as pd\n",
    "import tensorflow as tf\n",
    "import matplotlib.pyplot as plt\n",
    "from keras.models import load_model\n",
    "from pathlib import Path"
   ]
  },
  {
   "cell_type": "markdown",
   "metadata": {
    "colab_type": "text",
    "id": "AG3FQEch-yuA"
   },
   "source": [
    "## Part 2 - Data Preprocessing"
   ]
  },
  {
   "cell_type": "markdown",
   "metadata": {
    "colab_type": "text",
    "id": "-4zq8Mza_D9O"
   },
   "source": [
    "### Importing the dataset"
   ]
  },
  {
   "cell_type": "code",
   "execution_count": 2,
   "metadata": {
    "ExecuteTime": {
     "end_time": "2023-09-29T04:25:13.211917200Z",
     "start_time": "2023-09-29T04:25:13.086640600Z"
    }
   },
   "outputs": [
    {
     "name": "stdout",
     "output_type": "stream",
     "text": [
      "input G:\\Chamodi\\Machine_Learning\\Pressure_history_2\\Pressure_profiles_arrival_omitted\n",
      "2 [WindowsPath('G:/Chamodi/Machine_Learning/Pressure_history_2/Pressure_profiles_arrival_omitted/L13_1'), WindowsPath('G:/Chamodi/Machine_Learning/Pressure_history_2/Pressure_profiles_arrival_omitted/L13_11'), WindowsPath('G:/Chamodi/Machine_Learning/Pressure_history_2/Pressure_profiles_arrival_omitted/L13_13'), WindowsPath('G:/Chamodi/Machine_Learning/Pressure_history_2/Pressure_profiles_arrival_omitted/L13_15'), WindowsPath('G:/Chamodi/Machine_Learning/Pressure_history_2/Pressure_profiles_arrival_omitted/L13_17'), WindowsPath('G:/Chamodi/Machine_Learning/Pressure_history_2/Pressure_profiles_arrival_omitted/L13_19'), WindowsPath('G:/Chamodi/Machine_Learning/Pressure_history_2/Pressure_profiles_arrival_omitted/L13_21'), WindowsPath('G:/Chamodi/Machine_Learning/Pressure_history_2/Pressure_profiles_arrival_omitted/L13_23'), WindowsPath('G:/Chamodi/Machine_Learning/Pressure_history_2/Pressure_profiles_arrival_omitted/L13_25'), WindowsPath('G:/Chamodi/Machine_Learning/Pressure_history_2/Pressure_profiles_arrival_omitted/L13_27'), WindowsPath('G:/Chamodi/Machine_Learning/Pressure_history_2/Pressure_profiles_arrival_omitted/L13_29'), WindowsPath('G:/Chamodi/Machine_Learning/Pressure_history_2/Pressure_profiles_arrival_omitted/L13_3'), WindowsPath('G:/Chamodi/Machine_Learning/Pressure_history_2/Pressure_profiles_arrival_omitted/L13_31'), WindowsPath('G:/Chamodi/Machine_Learning/Pressure_history_2/Pressure_profiles_arrival_omitted/L13_33'), WindowsPath('G:/Chamodi/Machine_Learning/Pressure_history_2/Pressure_profiles_arrival_omitted/L13_35'), WindowsPath('G:/Chamodi/Machine_Learning/Pressure_history_2/Pressure_profiles_arrival_omitted/L13_37'), WindowsPath('G:/Chamodi/Machine_Learning/Pressure_history_2/Pressure_profiles_arrival_omitted/L13_39'), WindowsPath('G:/Chamodi/Machine_Learning/Pressure_history_2/Pressure_profiles_arrival_omitted/L13_41'), WindowsPath('G:/Chamodi/Machine_Learning/Pressure_history_2/Pressure_profiles_arrival_omitted/L13_43'), WindowsPath('G:/Chamodi/Machine_Learning/Pressure_history_2/Pressure_profiles_arrival_omitted/L13_45'), WindowsPath('G:/Chamodi/Machine_Learning/Pressure_history_2/Pressure_profiles_arrival_omitted/L13_47'), WindowsPath('G:/Chamodi/Machine_Learning/Pressure_history_2/Pressure_profiles_arrival_omitted/L13_49'), WindowsPath('G:/Chamodi/Machine_Learning/Pressure_history_2/Pressure_profiles_arrival_omitted/L13_5'), WindowsPath('G:/Chamodi/Machine_Learning/Pressure_history_2/Pressure_profiles_arrival_omitted/L13_51'), WindowsPath('G:/Chamodi/Machine_Learning/Pressure_history_2/Pressure_profiles_arrival_omitted/L13_53'), WindowsPath('G:/Chamodi/Machine_Learning/Pressure_history_2/Pressure_profiles_arrival_omitted/L13_55'), WindowsPath('G:/Chamodi/Machine_Learning/Pressure_history_2/Pressure_profiles_arrival_omitted/L13_57'), WindowsPath('G:/Chamodi/Machine_Learning/Pressure_history_2/Pressure_profiles_arrival_omitted/L13_59'), WindowsPath('G:/Chamodi/Machine_Learning/Pressure_history_2/Pressure_profiles_arrival_omitted/L13_61'), WindowsPath('G:/Chamodi/Machine_Learning/Pressure_history_2/Pressure_profiles_arrival_omitted/L13_63'), WindowsPath('G:/Chamodi/Machine_Learning/Pressure_history_2/Pressure_profiles_arrival_omitted/L13_65'), WindowsPath('G:/Chamodi/Machine_Learning/Pressure_history_2/Pressure_profiles_arrival_omitted/L13_67'), WindowsPath('G:/Chamodi/Machine_Learning/Pressure_history_2/Pressure_profiles_arrival_omitted/L13_69'), WindowsPath('G:/Chamodi/Machine_Learning/Pressure_history_2/Pressure_profiles_arrival_omitted/L13_7'), WindowsPath('G:/Chamodi/Machine_Learning/Pressure_history_2/Pressure_profiles_arrival_omitted/L13_70'), WindowsPath('G:/Chamodi/Machine_Learning/Pressure_history_2/Pressure_profiles_arrival_omitted/L13_9')]\n"
     ]
    }
   ],
   "source": [
    "#Access input folder\n",
    "current_dir = Path.cwd()\n",
    "parent_dir = current_dir.parent\n",
    "input_dir1 = Path (parent_dir/\"Pressure_profiles_arrival_omitted\")\n",
    "print (\"input\",input_dir1)\n",
    "\n",
    "#Access folders inside input folder\n",
    "input_dir2_train =  [folder_input for folder_input in input_dir1.iterdir() if folder_input.is_dir()]\n",
    "print (\"2\",input_dir2_train)"
   ]
  },
  {
   "cell_type": "code",
   "execution_count": 3,
   "metadata": {
    "ExecuteTime": {
     "end_time": "2023-09-29T04:26:13.403667700Z",
     "start_time": "2023-09-29T04:25:28.958008300Z"
    }
   },
   "outputs": [
    {
     "name": "stdout",
     "output_type": "stream",
     "text": [
      "folder G:\\Chamodi\\Machine_Learning\\Pressure_history_2\\Pressure_profiles_arrival_omitted\\L13_1\n",
      "P1\n",
      "P13\n",
      "P5\n",
      "P9\n",
      "folder G:\\Chamodi\\Machine_Learning\\Pressure_history_2\\Pressure_profiles_arrival_omitted\\L13_11\n",
      "P1\n",
      "P13\n",
      "P5\n",
      "P9\n",
      "folder G:\\Chamodi\\Machine_Learning\\Pressure_history_2\\Pressure_profiles_arrival_omitted\\L13_13\n",
      "P1\n",
      "P13\n",
      "P5\n",
      "P9\n",
      "folder G:\\Chamodi\\Machine_Learning\\Pressure_history_2\\Pressure_profiles_arrival_omitted\\L13_15\n",
      "P1\n",
      "P13\n",
      "P5\n",
      "P9\n",
      "folder G:\\Chamodi\\Machine_Learning\\Pressure_history_2\\Pressure_profiles_arrival_omitted\\L13_17\n",
      "P1\n",
      "P13\n",
      "P5\n",
      "P9\n",
      "folder G:\\Chamodi\\Machine_Learning\\Pressure_history_2\\Pressure_profiles_arrival_omitted\\L13_19\n",
      "P1\n",
      "P13\n",
      "P5\n",
      "P9\n",
      "folder G:\\Chamodi\\Machine_Learning\\Pressure_history_2\\Pressure_profiles_arrival_omitted\\L13_21\n",
      "P1\n",
      "P13\n",
      "P5\n",
      "P9\n",
      "folder G:\\Chamodi\\Machine_Learning\\Pressure_history_2\\Pressure_profiles_arrival_omitted\\L13_23\n",
      "P1\n",
      "P13\n",
      "P5\n",
      "P9\n",
      "folder G:\\Chamodi\\Machine_Learning\\Pressure_history_2\\Pressure_profiles_arrival_omitted\\L13_25\n",
      "P1\n",
      "P13\n",
      "P5\n",
      "P9\n",
      "folder G:\\Chamodi\\Machine_Learning\\Pressure_history_2\\Pressure_profiles_arrival_omitted\\L13_27\n",
      "P1\n",
      "P13\n",
      "P5\n",
      "P9\n",
      "folder G:\\Chamodi\\Machine_Learning\\Pressure_history_2\\Pressure_profiles_arrival_omitted\\L13_29\n",
      "P1\n",
      "P13\n",
      "P5\n",
      "P9\n",
      "folder G:\\Chamodi\\Machine_Learning\\Pressure_history_2\\Pressure_profiles_arrival_omitted\\L13_3\n",
      "P1\n",
      "P13\n",
      "P5\n",
      "P9\n",
      "folder G:\\Chamodi\\Machine_Learning\\Pressure_history_2\\Pressure_profiles_arrival_omitted\\L13_31\n",
      "P1\n",
      "P13\n",
      "P5\n",
      "P9\n",
      "folder G:\\Chamodi\\Machine_Learning\\Pressure_history_2\\Pressure_profiles_arrival_omitted\\L13_33\n",
      "P1\n",
      "P13\n",
      "P5\n",
      "P9\n",
      "folder G:\\Chamodi\\Machine_Learning\\Pressure_history_2\\Pressure_profiles_arrival_omitted\\L13_35\n",
      "P1\n",
      "P13\n",
      "P5\n",
      "P9\n",
      "folder G:\\Chamodi\\Machine_Learning\\Pressure_history_2\\Pressure_profiles_arrival_omitted\\L13_37\n",
      "P1\n",
      "P13\n",
      "P5\n",
      "P9\n",
      "folder G:\\Chamodi\\Machine_Learning\\Pressure_history_2\\Pressure_profiles_arrival_omitted\\L13_39\n",
      "P1\n",
      "P13\n",
      "P5\n",
      "P9\n",
      "folder G:\\Chamodi\\Machine_Learning\\Pressure_history_2\\Pressure_profiles_arrival_omitted\\L13_41\n",
      "P1\n",
      "P13\n",
      "P5\n",
      "P9\n",
      "folder G:\\Chamodi\\Machine_Learning\\Pressure_history_2\\Pressure_profiles_arrival_omitted\\L13_43\n",
      "P1\n",
      "P13\n",
      "P5\n",
      "P9\n",
      "folder G:\\Chamodi\\Machine_Learning\\Pressure_history_2\\Pressure_profiles_arrival_omitted\\L13_45\n",
      "P1\n",
      "P13\n",
      "P5\n",
      "P9\n",
      "folder G:\\Chamodi\\Machine_Learning\\Pressure_history_2\\Pressure_profiles_arrival_omitted\\L13_47\n",
      "P1\n",
      "P13\n",
      "P5\n",
      "P9\n",
      "folder G:\\Chamodi\\Machine_Learning\\Pressure_history_2\\Pressure_profiles_arrival_omitted\\L13_49\n",
      "P1\n",
      "P13\n",
      "P5\n",
      "P9\n",
      "folder G:\\Chamodi\\Machine_Learning\\Pressure_history_2\\Pressure_profiles_arrival_omitted\\L13_5\n",
      "P1\n",
      "P13\n",
      "P5\n",
      "P9\n",
      "folder G:\\Chamodi\\Machine_Learning\\Pressure_history_2\\Pressure_profiles_arrival_omitted\\L13_51\n",
      "P1\n",
      "P13\n",
      "P5\n",
      "P9\n",
      "folder G:\\Chamodi\\Machine_Learning\\Pressure_history_2\\Pressure_profiles_arrival_omitted\\L13_53\n",
      "P1\n",
      "P13\n",
      "P5\n",
      "P9\n",
      "folder G:\\Chamodi\\Machine_Learning\\Pressure_history_2\\Pressure_profiles_arrival_omitted\\L13_55\n",
      "P1\n",
      "P13\n",
      "P5\n",
      "P9\n",
      "folder G:\\Chamodi\\Machine_Learning\\Pressure_history_2\\Pressure_profiles_arrival_omitted\\L13_57\n",
      "P1\n",
      "P13\n",
      "P5\n",
      "P9\n",
      "folder G:\\Chamodi\\Machine_Learning\\Pressure_history_2\\Pressure_profiles_arrival_omitted\\L13_59\n",
      "P1\n",
      "P13\n",
      "P5\n",
      "P9\n",
      "folder G:\\Chamodi\\Machine_Learning\\Pressure_history_2\\Pressure_profiles_arrival_omitted\\L13_61\n",
      "P1\n",
      "P13\n",
      "P5\n",
      "P9\n",
      "folder G:\\Chamodi\\Machine_Learning\\Pressure_history_2\\Pressure_profiles_arrival_omitted\\L13_63\n",
      "P1\n",
      "P13\n",
      "P5\n",
      "P9\n",
      "folder G:\\Chamodi\\Machine_Learning\\Pressure_history_2\\Pressure_profiles_arrival_omitted\\L13_65\n",
      "P1\n",
      "P13\n",
      "P5\n",
      "P9\n",
      "folder G:\\Chamodi\\Machine_Learning\\Pressure_history_2\\Pressure_profiles_arrival_omitted\\L13_67\n",
      "P1\n",
      "P13\n",
      "P5\n",
      "P9\n",
      "folder G:\\Chamodi\\Machine_Learning\\Pressure_history_2\\Pressure_profiles_arrival_omitted\\L13_69\n",
      "P1\n",
      "P13\n",
      "P5\n",
      "P9\n",
      "folder G:\\Chamodi\\Machine_Learning\\Pressure_history_2\\Pressure_profiles_arrival_omitted\\L13_7\n",
      "P1\n",
      "P13\n",
      "P5\n",
      "P9\n",
      "folder G:\\Chamodi\\Machine_Learning\\Pressure_history_2\\Pressure_profiles_arrival_omitted\\L13_70\n",
      "P1\n",
      "P13\n",
      "P5\n",
      "P9\n",
      "folder G:\\Chamodi\\Machine_Learning\\Pressure_history_2\\Pressure_profiles_arrival_omitted\\L13_9\n",
      "P1\n",
      "P13\n",
      "P5\n",
      "P9\n"
     ]
    }
   ],
   "source": [
    "# Access each folder inside input folder\n",
    "dataset_train = pd.DataFrame(columns = ['Charge_mass', 'Standoff_distance', 'Time', 'Pressure', 'Phase'])\n",
    "df_list_train = []\n",
    "for folder_train in input_dir2_train:\n",
    "    \n",
    "    # Make a list of data file names\n",
    "    files_train = list(file_train for file_train in folder_train.rglob(\"*.xlsx\") if int(file_train.stem[1:]) < 14)\n",
    "    print (\"folder\", folder_train)\n",
    "    \n",
    "    for file_train in files_train:\n",
    "        df_list_train.append(pd.read_excel(file_train))\n",
    "        print (file_train.stem)\n",
    "\n",
    "dataset_train = pd.concat(df_list_train, ignore_index = True)"
   ]
  },
  {
   "cell_type": "code",
   "execution_count": 4,
   "metadata": {
    "colab": {},
    "colab_type": "code",
    "id": "B9CV13Co_HHM",
    "ExecuteTime": {
     "end_time": "2023-09-29T04:26:20.773562500Z",
     "start_time": "2023-09-29T04:26:20.693967800Z"
    }
   },
   "outputs": [
    {
     "name": "stdout",
     "output_type": "stream",
     "text": [
      "<class 'pandas.core.frame.DataFrame'>\n",
      "RangeIndex: 492019 entries, 0 to 492018\n",
      "Data columns (total 5 columns):\n",
      " #   Column             Non-Null Count   Dtype  \n",
      "---  ------             --------------   -----  \n",
      " 0   Charge_mass        492019 non-null  float64\n",
      " 1   Standoff_distance  492019 non-null  int64  \n",
      " 2   Time               492019 non-null  float64\n",
      " 3   Pressure           492019 non-null  float64\n",
      " 4   Phase              492019 non-null  object \n",
      "dtypes: float64(3), int64(1), object(1)\n",
      "memory usage: 18.8+ MB\n"
     ]
    }
   ],
   "source": [
    "dataset_train.info()"
   ]
  },
  {
   "cell_type": "code",
   "execution_count": 5,
   "outputs": [
    {
     "name": "stdout",
     "output_type": "stream",
     "text": [
      "<class 'pandas.core.frame.DataFrame'>\n",
      "RangeIndex: 492019 entries, 0 to 492018\n",
      "Data columns (total 6 columns):\n",
      " #   Column             Non-Null Count   Dtype  \n",
      "---  ------             --------------   -----  \n",
      " 0   Charge_mass        492019 non-null  float64\n",
      " 1   Standoff_distance  492019 non-null  int64  \n",
      " 2   Time               492019 non-null  float64\n",
      " 3   Pressure           492019 non-null  float64\n",
      " 4   Phase_negative     492019 non-null  uint8  \n",
      " 5   Phase_positive     492019 non-null  uint8  \n",
      "dtypes: float64(3), int64(1), uint8(2)\n",
      "memory usage: 16.0 MB\n"
     ]
    }
   ],
   "source": [
    "dataset_train = pd.get_dummies(dataset_train, columns =['Phase'], dtype = np.uint8)\n",
    "dataset_train.info()"
   ],
   "metadata": {
    "collapsed": false,
    "ExecuteTime": {
     "end_time": "2023-09-29T04:26:22.805980600Z",
     "start_time": "2023-09-29T04:26:22.712183700Z"
    }
   }
  },
  {
   "cell_type": "code",
   "execution_count": 28,
   "outputs": [],
   "source": [
    "dataset_train.to_csv('Section1_dataset.csv')"
   ],
   "metadata": {
    "collapsed": false,
    "ExecuteTime": {
     "end_time": "2023-10-04T00:31:21.084431400Z",
     "start_time": "2023-10-04T00:31:18.318516500Z"
    }
   }
  },
  {
   "cell_type": "code",
   "execution_count": 6,
   "outputs": [
    {
     "data": {
      "text/plain": "    Charge_mass  Standoff_distance     Time      Pressure  Phase_negative  \\\n0           0.5                  1  0.00067  591827.62500               0   \n1           0.5                  1  0.00068  556217.18750               0   \n2           0.5                  1  0.00069  525135.00000               0   \n3           0.5                  1  0.00070  496668.90625               0   \n4           0.5                  1  0.00071  469418.40625               0   \n5           0.5                  1  0.00072  445550.09375               0   \n6           0.5                  1  0.00073  423420.03125               0   \n7           0.5                  1  0.00074  402121.96875               0   \n8           0.5                  1  0.00075  383202.34375               0   \n9           0.5                  1  0.00076  365626.65625               0   \n10          0.5                  1  0.00077  349977.50000               0   \n11          0.5                  1  0.00078  334716.18750               0   \n12          0.5                  1  0.00079  320582.50000               0   \n13          0.5                  1  0.00080  307536.68750               0   \n14          0.5                  1  0.00081  295047.87500               0   \n15          0.5                  1  0.00082  283671.71875               0   \n16          0.5                  1  0.00083  273287.31250               0   \n17          0.5                  1  0.00084  263380.59375               0   \n18          0.5                  1  0.00085  253957.70312               0   \n19          0.5                  1  0.00086  245341.54688               0   \n20          0.5                  1  0.00087  237136.67188               0   \n21          0.5                  1  0.00088  229610.26562               0   \n22          0.5                  1  0.00089  222423.93750               0   \n23          0.5                  1  0.00090  215571.06250               0   \n24          0.5                  1  0.00091  209261.32812               0   \n25          0.5                  1  0.00092  203243.39062               0   \n26          0.5                  1  0.00093  197520.82812               0   \n27          0.5                  1  0.00094  192094.54688               0   \n28          0.5                  1  0.00095  186960.62500               0   \n29          0.5                  1  0.00096  182106.14062               0   \n\n    Phase_positive  \n0                1  \n1                1  \n2                1  \n3                1  \n4                1  \n5                1  \n6                1  \n7                1  \n8                1  \n9                1  \n10               1  \n11               1  \n12               1  \n13               1  \n14               1  \n15               1  \n16               1  \n17               1  \n18               1  \n19               1  \n20               1  \n21               1  \n22               1  \n23               1  \n24               1  \n25               1  \n26               1  \n27               1  \n28               1  \n29               1  ",
      "text/html": "<div>\n<style scoped>\n    .dataframe tbody tr th:only-of-type {\n        vertical-align: middle;\n    }\n\n    .dataframe tbody tr th {\n        vertical-align: top;\n    }\n\n    .dataframe thead th {\n        text-align: right;\n    }\n</style>\n<table border=\"1\" class=\"dataframe\">\n  <thead>\n    <tr style=\"text-align: right;\">\n      <th></th>\n      <th>Charge_mass</th>\n      <th>Standoff_distance</th>\n      <th>Time</th>\n      <th>Pressure</th>\n      <th>Phase_negative</th>\n      <th>Phase_positive</th>\n    </tr>\n  </thead>\n  <tbody>\n    <tr>\n      <th>0</th>\n      <td>0.5</td>\n      <td>1</td>\n      <td>0.00067</td>\n      <td>591827.62500</td>\n      <td>0</td>\n      <td>1</td>\n    </tr>\n    <tr>\n      <th>1</th>\n      <td>0.5</td>\n      <td>1</td>\n      <td>0.00068</td>\n      <td>556217.18750</td>\n      <td>0</td>\n      <td>1</td>\n    </tr>\n    <tr>\n      <th>2</th>\n      <td>0.5</td>\n      <td>1</td>\n      <td>0.00069</td>\n      <td>525135.00000</td>\n      <td>0</td>\n      <td>1</td>\n    </tr>\n    <tr>\n      <th>3</th>\n      <td>0.5</td>\n      <td>1</td>\n      <td>0.00070</td>\n      <td>496668.90625</td>\n      <td>0</td>\n      <td>1</td>\n    </tr>\n    <tr>\n      <th>4</th>\n      <td>0.5</td>\n      <td>1</td>\n      <td>0.00071</td>\n      <td>469418.40625</td>\n      <td>0</td>\n      <td>1</td>\n    </tr>\n    <tr>\n      <th>5</th>\n      <td>0.5</td>\n      <td>1</td>\n      <td>0.00072</td>\n      <td>445550.09375</td>\n      <td>0</td>\n      <td>1</td>\n    </tr>\n    <tr>\n      <th>6</th>\n      <td>0.5</td>\n      <td>1</td>\n      <td>0.00073</td>\n      <td>423420.03125</td>\n      <td>0</td>\n      <td>1</td>\n    </tr>\n    <tr>\n      <th>7</th>\n      <td>0.5</td>\n      <td>1</td>\n      <td>0.00074</td>\n      <td>402121.96875</td>\n      <td>0</td>\n      <td>1</td>\n    </tr>\n    <tr>\n      <th>8</th>\n      <td>0.5</td>\n      <td>1</td>\n      <td>0.00075</td>\n      <td>383202.34375</td>\n      <td>0</td>\n      <td>1</td>\n    </tr>\n    <tr>\n      <th>9</th>\n      <td>0.5</td>\n      <td>1</td>\n      <td>0.00076</td>\n      <td>365626.65625</td>\n      <td>0</td>\n      <td>1</td>\n    </tr>\n    <tr>\n      <th>10</th>\n      <td>0.5</td>\n      <td>1</td>\n      <td>0.00077</td>\n      <td>349977.50000</td>\n      <td>0</td>\n      <td>1</td>\n    </tr>\n    <tr>\n      <th>11</th>\n      <td>0.5</td>\n      <td>1</td>\n      <td>0.00078</td>\n      <td>334716.18750</td>\n      <td>0</td>\n      <td>1</td>\n    </tr>\n    <tr>\n      <th>12</th>\n      <td>0.5</td>\n      <td>1</td>\n      <td>0.00079</td>\n      <td>320582.50000</td>\n      <td>0</td>\n      <td>1</td>\n    </tr>\n    <tr>\n      <th>13</th>\n      <td>0.5</td>\n      <td>1</td>\n      <td>0.00080</td>\n      <td>307536.68750</td>\n      <td>0</td>\n      <td>1</td>\n    </tr>\n    <tr>\n      <th>14</th>\n      <td>0.5</td>\n      <td>1</td>\n      <td>0.00081</td>\n      <td>295047.87500</td>\n      <td>0</td>\n      <td>1</td>\n    </tr>\n    <tr>\n      <th>15</th>\n      <td>0.5</td>\n      <td>1</td>\n      <td>0.00082</td>\n      <td>283671.71875</td>\n      <td>0</td>\n      <td>1</td>\n    </tr>\n    <tr>\n      <th>16</th>\n      <td>0.5</td>\n      <td>1</td>\n      <td>0.00083</td>\n      <td>273287.31250</td>\n      <td>0</td>\n      <td>1</td>\n    </tr>\n    <tr>\n      <th>17</th>\n      <td>0.5</td>\n      <td>1</td>\n      <td>0.00084</td>\n      <td>263380.59375</td>\n      <td>0</td>\n      <td>1</td>\n    </tr>\n    <tr>\n      <th>18</th>\n      <td>0.5</td>\n      <td>1</td>\n      <td>0.00085</td>\n      <td>253957.70312</td>\n      <td>0</td>\n      <td>1</td>\n    </tr>\n    <tr>\n      <th>19</th>\n      <td>0.5</td>\n      <td>1</td>\n      <td>0.00086</td>\n      <td>245341.54688</td>\n      <td>0</td>\n      <td>1</td>\n    </tr>\n    <tr>\n      <th>20</th>\n      <td>0.5</td>\n      <td>1</td>\n      <td>0.00087</td>\n      <td>237136.67188</td>\n      <td>0</td>\n      <td>1</td>\n    </tr>\n    <tr>\n      <th>21</th>\n      <td>0.5</td>\n      <td>1</td>\n      <td>0.00088</td>\n      <td>229610.26562</td>\n      <td>0</td>\n      <td>1</td>\n    </tr>\n    <tr>\n      <th>22</th>\n      <td>0.5</td>\n      <td>1</td>\n      <td>0.00089</td>\n      <td>222423.93750</td>\n      <td>0</td>\n      <td>1</td>\n    </tr>\n    <tr>\n      <th>23</th>\n      <td>0.5</td>\n      <td>1</td>\n      <td>0.00090</td>\n      <td>215571.06250</td>\n      <td>0</td>\n      <td>1</td>\n    </tr>\n    <tr>\n      <th>24</th>\n      <td>0.5</td>\n      <td>1</td>\n      <td>0.00091</td>\n      <td>209261.32812</td>\n      <td>0</td>\n      <td>1</td>\n    </tr>\n    <tr>\n      <th>25</th>\n      <td>0.5</td>\n      <td>1</td>\n      <td>0.00092</td>\n      <td>203243.39062</td>\n      <td>0</td>\n      <td>1</td>\n    </tr>\n    <tr>\n      <th>26</th>\n      <td>0.5</td>\n      <td>1</td>\n      <td>0.00093</td>\n      <td>197520.82812</td>\n      <td>0</td>\n      <td>1</td>\n    </tr>\n    <tr>\n      <th>27</th>\n      <td>0.5</td>\n      <td>1</td>\n      <td>0.00094</td>\n      <td>192094.54688</td>\n      <td>0</td>\n      <td>1</td>\n    </tr>\n    <tr>\n      <th>28</th>\n      <td>0.5</td>\n      <td>1</td>\n      <td>0.00095</td>\n      <td>186960.62500</td>\n      <td>0</td>\n      <td>1</td>\n    </tr>\n    <tr>\n      <th>29</th>\n      <td>0.5</td>\n      <td>1</td>\n      <td>0.00096</td>\n      <td>182106.14062</td>\n      <td>0</td>\n      <td>1</td>\n    </tr>\n  </tbody>\n</table>\n</div>"
     },
     "execution_count": 6,
     "metadata": {},
     "output_type": "execute_result"
    }
   ],
   "source": [
    "dataset_train.head(30)"
   ],
   "metadata": {
    "collapsed": false,
    "ExecuteTime": {
     "end_time": "2023-09-29T04:26:24.514966700Z",
     "start_time": "2023-09-29T04:26:24.402926200Z"
    }
   }
  },
  {
   "cell_type": "code",
   "execution_count": 7,
   "metadata": {
    "ExecuteTime": {
     "end_time": "2023-09-29T04:26:31.370619600Z",
     "start_time": "2023-09-29T04:26:31.260075600Z"
    }
   },
   "outputs": [
    {
     "name": "stdout",
     "output_type": "stream",
     "text": [
      "(492019, 5) (492019,)\n"
     ]
    }
   ],
   "source": [
    "y = dataset_train['Pressure']\n",
    "X = dataset_train.drop(['Pressure'], axis=1)\n",
    "print(X.shape, y.shape)"
   ]
  },
  {
   "cell_type": "code",
   "execution_count": 8,
   "metadata": {
    "ExecuteTime": {
     "end_time": "2023-09-29T04:26:33.080950400Z",
     "start_time": "2023-09-29T04:26:32.980562400Z"
    }
   },
   "outputs": [],
   "source": [
    "# convert to numpy array\n",
    "X = np.array(X)\n",
    "y = np.array(y)"
   ]
  },
  {
   "cell_type": "markdown",
   "metadata": {
    "colab_type": "text",
    "id": "VC6omXel_Up0"
   },
   "source": [
    "### Splitting the dataset into the Training set and Test set"
   ]
  },
  {
   "cell_type": "code",
   "execution_count": 9,
   "metadata": {
    "colab": {},
    "colab_type": "code",
    "id": "L5edeb2r_agx",
    "ExecuteTime": {
     "end_time": "2023-09-29T04:26:36.020849900Z",
     "start_time": "2023-09-29T04:26:35.115332200Z"
    }
   },
   "outputs": [],
   "source": [
    "from sklearn.model_selection import train_test_split\n",
    "X_train, X_test, y_train, y_test = train_test_split(X,\n",
    "                                                    y,\n",
    "                                                    test_size = 0.4,\n",
    "                                                    random_state = 0)"
   ]
  },
  {
   "cell_type": "code",
   "execution_count": 10,
   "metadata": {
    "colab": {},
    "colab_type": "code",
    "id": "L5edeb2r_agx",
    "ExecuteTime": {
     "end_time": "2023-09-29T04:26:37.873125800Z",
     "start_time": "2023-09-29T04:26:37.762481100Z"
    }
   },
   "outputs": [],
   "source": [
    "X_val, X_test, y_val, y_test = train_test_split(X_test,\n",
    "                                                y_test,\n",
    "                                                test_size = 0.5,\n",
    "                                                random_state = 0)"
   ]
  },
  {
   "cell_type": "markdown",
   "source": [
    "## Feature scaling"
   ],
   "metadata": {
    "collapsed": false
   }
  },
  {
   "cell_type": "code",
   "execution_count": 11,
   "outputs": [
    {
     "name": "stdout",
     "output_type": "stream",
     "text": [
      "[[-1.11558794  0.43902902  0.40860138  1.          0.        ]\n",
      " [-1.83149237 -1.32802297 -1.10299844  1.          0.        ]\n",
      " [ 1.03212534 -0.44449698 -0.9816199   1.          0.        ]\n",
      " ...\n",
      " [ 1.33894152  0.43902902 -0.15265695  1.          0.        ]\n",
      " [ 0.6230371  -1.32802297  0.5075946   1.          0.        ]\n",
      " [-1.72922031 -0.44449698 -0.88346605  1.          0.        ]]\n"
     ]
    }
   ],
   "source": [
    "from sklearn.preprocessing import StandardScaler\n",
    "sc = StandardScaler()\n",
    "X_train[:,0:3] = sc.fit_transform(X_train[:, 0:3])\n",
    "print (X_train)"
   ],
   "metadata": {
    "collapsed": false,
    "ExecuteTime": {
     "end_time": "2023-09-29T04:26:40.165744800Z",
     "start_time": "2023-09-29T04:26:40.088291900Z"
    }
   }
  },
  {
   "cell_type": "code",
   "execution_count": 12,
   "outputs": [
    {
     "name": "stdout",
     "output_type": "stream",
     "text": [
      "[[ 0.92985328 -0.44449698 -1.49808719  1.          0.        ]\n",
      " [-0.39968351  0.43902902 -1.30699156  0.          1.        ]\n",
      " [-1.01331588  0.43902902  0.31822281  1.          0.        ]\n",
      " ...\n",
      " [-0.39968351  1.32255501  0.65650805  1.          0.        ]\n",
      " [ 0.31622091  0.43902902  1.37959509  1.          0.        ]\n",
      " [-0.29741145 -1.32802297 -1.46796614  1.          0.        ]]\n"
     ]
    }
   ],
   "source": [
    "X_test[:,0:3] = sc.transform(X_test[:,0:3])\n",
    "print (X_test)"
   ],
   "metadata": {
    "collapsed": false,
    "ExecuteTime": {
     "end_time": "2023-09-29T04:26:45.591384900Z",
     "start_time": "2023-09-29T04:26:45.512121300Z"
    }
   }
  },
  {
   "cell_type": "code",
   "execution_count": 13,
   "outputs": [
    {
     "name": "stdout",
     "output_type": "stream",
     "text": [
      "[[-0.29741145 -1.32802297 -0.07001311  1.          0.        ]\n",
      " [-0.7064997   0.43902902 -0.26110084  1.          0.        ]\n",
      " [-1.11558794  0.43902902 -0.72422921  1.          0.        ]\n",
      " ...\n",
      " [-0.91104382 -0.44449698 -0.03128483  1.          0.        ]\n",
      " [-1.52467619 -0.44449698  0.09009324  1.          0.        ]\n",
      " [ 1.44121358  1.32255501  1.56811516  1.          0.        ]]\n"
     ]
    }
   ],
   "source": [
    "X_val[:,0:3] = sc.transform(X_val[:,0:3])\n",
    "print (X_val)"
   ],
   "metadata": {
    "collapsed": false,
    "ExecuteTime": {
     "end_time": "2023-09-29T04:26:48.744528500Z",
     "start_time": "2023-09-29T04:26:48.634495400Z"
    }
   }
  },
  {
   "cell_type": "code",
   "execution_count": 14,
   "outputs": [
    {
     "name": "stdout",
     "output_type": "stream",
     "text": [
      "X_train 295211\n",
      "X_test 98404\n",
      "X_val 98404\n"
     ]
    }
   ],
   "source": [
    "print (\"X_train\", len(X_train))\n",
    "print (\"X_test\", len(X_test))\n",
    "print (\"X_val\", len(X_val))"
   ],
   "metadata": {
    "collapsed": false,
    "ExecuteTime": {
     "end_time": "2023-09-29T04:26:51.224197Z",
     "start_time": "2023-09-29T04:26:51.145514800Z"
    }
   }
  },
  {
   "cell_type": "markdown",
   "metadata": {
    "colab_type": "text",
    "id": "_mSLlAT9_eyI"
   },
   "source": [
    "## Part 3 - Building the ANN"
   ]
  },
  {
   "cell_type": "markdown",
   "metadata": {
    "colab_type": "text",
    "id": "CsBULd_f_wLY"
   },
   "source": [
    "### Initializing the ANN"
   ]
  },
  {
   "cell_type": "code",
   "execution_count": 15,
   "metadata": {
    "colab": {},
    "colab_type": "code",
    "id": "J6Hd97Ls__Nz",
    "ExecuteTime": {
     "end_time": "2023-09-29T04:27:12.744009200Z",
     "start_time": "2023-09-29T04:27:12.665823900Z"
    }
   },
   "outputs": [],
   "source": [
    "ann = tf.keras.models.Sequential()"
   ]
  },
  {
   "cell_type": "markdown",
   "metadata": {
    "colab_type": "text",
    "id": "iitAFJS_ABUn"
   },
   "source": [
    "### Adding the input layer and the first hidden layer"
   ]
  },
  {
   "cell_type": "code",
   "execution_count": 16,
   "metadata": {
    "colab": {},
    "colab_type": "code",
    "id": "ksO_Vv40AHix",
    "ExecuteTime": {
     "end_time": "2023-09-29T04:27:14.896633100Z",
     "start_time": "2023-09-29T04:27:14.817367900Z"
    }
   },
   "outputs": [],
   "source": [
    "ann.add(tf.keras.layers.Dense(units=150,\n",
    "                              input_shape=(X_train.shape[1],),\n",
    "                              activation='softplus'))"
   ]
  },
  {
   "cell_type": "markdown",
   "metadata": {
    "colab_type": "text",
    "id": "-lb4kK_wAKbs"
   },
   "source": [
    "### Adding the second hidden layer"
   ]
  },
  {
   "cell_type": "code",
   "execution_count": 17,
   "metadata": {
    "colab": {},
    "colab_type": "code",
    "id": "c2357OqEAQOQ",
    "tags": [],
    "ExecuteTime": {
     "end_time": "2023-09-29T04:27:31.900798600Z",
     "start_time": "2023-09-29T04:27:31.838140200Z"
    }
   },
   "outputs": [],
   "source": [
    "ann.add(tf.keras.layers.Dense(units=125,\n",
    "                              activation='softplus'))"
   ]
  },
  {
   "cell_type": "markdown",
   "metadata": {
    "colab_type": "text",
    "id": "-lb4kK_wAKbs"
   },
   "source": [
    "### Adding the third hidden layer"
   ]
  },
  {
   "cell_type": "code",
   "execution_count": 18,
   "metadata": {
    "colab": {},
    "colab_type": "code",
    "id": "c2357OqEAQOQ",
    "tags": [],
    "ExecuteTime": {
     "end_time": "2023-09-29T04:27:34.399272700Z",
     "start_time": "2023-09-29T04:27:34.335627700Z"
    }
   },
   "outputs": [],
   "source": [
    "ann.add(tf.keras.layers.Dense(units=100,\n",
    "                              activation='softplus'))"
   ]
  },
  {
   "cell_type": "markdown",
   "source": [
    "### Adding the fourth hidden layer"
   ],
   "metadata": {
    "collapsed": false
   }
  },
  {
   "cell_type": "code",
   "execution_count": 19,
   "outputs": [],
   "source": [
    "ann.add(tf.keras.layers.Dense(units=75,\n",
    "                              activation='softplus'))"
   ],
   "metadata": {
    "collapsed": false,
    "ExecuteTime": {
     "end_time": "2023-09-29T04:27:41.611031200Z",
     "start_time": "2023-09-29T04:27:41.540844700Z"
    }
   }
  },
  {
   "cell_type": "markdown",
   "metadata": {
    "colab_type": "text",
    "id": "jwMOmKb3AdBY"
   },
   "source": [
    "### Adding the output layer"
   ]
  },
  {
   "cell_type": "code",
   "execution_count": 20,
   "metadata": {
    "colab": {},
    "colab_type": "code",
    "id": "YFATpzsUAkLL",
    "ExecuteTime": {
     "end_time": "2023-09-29T04:27:52.322534Z",
     "start_time": "2023-09-29T04:27:52.197475Z"
    }
   },
   "outputs": [],
   "source": [
    "ann.add(tf.keras.layers.Dense(units=1,\n",
    "                              activation='linear'))"
   ]
  },
  {
   "cell_type": "markdown",
   "metadata": {},
   "source": [
    "### what model looks like"
   ]
  },
  {
   "cell_type": "code",
   "execution_count": 21,
   "metadata": {
    "ExecuteTime": {
     "end_time": "2023-09-29T04:27:54.994542200Z",
     "start_time": "2023-09-29T04:27:54.772557500Z"
    }
   },
   "outputs": [
    {
     "name": "stdout",
     "output_type": "stream",
     "text": [
      "Model: \"sequential\"\n",
      "_________________________________________________________________\n",
      " Layer (type)                Output Shape              Param #   \n",
      "=================================================================\n",
      " dense (Dense)               (None, 150)               900       \n",
      "                                                                 \n",
      " dense_1 (Dense)             (None, 125)               18875     \n",
      "                                                                 \n",
      " dense_2 (Dense)             (None, 100)               12600     \n",
      "                                                                 \n",
      " dense_3 (Dense)             (None, 75)                7575      \n",
      "                                                                 \n",
      " dense_4 (Dense)             (None, 1)                 76        \n",
      "                                                                 \n",
      "=================================================================\n",
      "Total params: 40,026\n",
      "Trainable params: 40,026\n",
      "Non-trainable params: 0\n",
      "_________________________________________________________________\n"
     ]
    }
   ],
   "source": [
    "ann.summary()"
   ]
  },
  {
   "cell_type": "markdown",
   "metadata": {
    "colab_type": "text",
    "id": "fq7e4fF6A1yy"
   },
   "source": [
    "## Part 4 - Training the ANN"
   ]
  },
  {
   "cell_type": "markdown",
   "metadata": {
    "colab_type": "text",
    "id": "qDeylAs2An25"
   },
   "source": [
    "### Compiling the ANN"
   ]
  },
  {
   "cell_type": "code",
   "execution_count": 22,
   "metadata": {
    "colab": {},
    "colab_type": "code",
    "id": "pesgbWlCAtB4",
    "ExecuteTime": {
     "end_time": "2023-09-29T04:28:04.244157500Z",
     "start_time": "2023-09-29T04:28:04.166208500Z"
    }
   },
   "outputs": [],
   "source": [
    "# from tensorflow.keras.optimizers import Adam\n",
    "from keras.optimizers import Adam\n",
    "opt = Adam(learning_rate=0.001)\n",
    "ann.compile(optimizer = opt,\n",
    "            loss = 'mean_squared_error',\n",
    "            metrics = ['mae'])"
   ]
  },
  {
   "cell_type": "markdown",
   "metadata": {},
   "source": [
    "### early stopping callback"
   ]
  },
  {
   "cell_type": "code",
   "execution_count": 23,
   "metadata": {
    "ExecuteTime": {
     "end_time": "2023-09-29T04:28:06.719532600Z",
     "start_time": "2023-09-29T04:28:06.624535100Z"
    }
   },
   "outputs": [],
   "source": [
    "# protects from unnecessary further training of the model if a particular metric does not continue to improve over a number of n epochs. In such a case, the model training would be automatically aborted.\n",
    "from keras.callbacks import EarlyStopping\n",
    "es = EarlyStopping(monitor='val_loss',\n",
    "                   mode='min',\n",
    "                   patience=50,\n",
    "                   restore_best_weights = True)"
   ]
  },
  {
   "cell_type": "markdown",
   "metadata": {
    "colab_type": "text",
    "id": "YjVuiybYOo7r"
   },
   "source": [
    "### Training the ANN model on the Training set"
   ]
  },
  {
   "cell_type": "code",
   "execution_count": 24,
   "metadata": {
    "colab": {
     "base_uri": "https://localhost:8080/",
     "height": 1000
    },
    "colab_type": "code",
    "id": "c_vV-tiiA5zn",
    "outputId": "4a2b6ee6-ed75-4698-9069-b250e613803f",
    "ExecuteTime": {
     "end_time": "2023-09-29T09:02:12.661037100Z",
     "start_time": "2023-09-29T04:28:09.993743100Z"
    }
   },
   "outputs": [
    {
     "name": "stdout",
     "output_type": "stream",
     "text": [
      "Epoch 1/500\n",
      "5905/5905 [==============================] - 31s 5ms/step - loss: 8645776384.0000 - mae: 17711.7109 - val_loss: 9047843840.0000 - val_mae: 16786.5469\n",
      "Epoch 2/500\n",
      "5905/5905 [==============================] - 32s 5ms/step - loss: 7497090560.0000 - mae: 15039.8799 - val_loss: 8017311232.0000 - val_mae: 15939.7646\n",
      "Epoch 3/500\n",
      "5905/5905 [==============================] - 30s 5ms/step - loss: 6953118208.0000 - mae: 13784.1836 - val_loss: 7845330432.0000 - val_mae: 14910.4873\n",
      "Epoch 4/500\n",
      "5905/5905 [==============================] - 31s 5ms/step - loss: 6884545536.0000 - mae: 13557.1084 - val_loss: 7995088384.0000 - val_mae: 13147.3086\n",
      "Epoch 5/500\n",
      "5905/5905 [==============================] - 32s 5ms/step - loss: 6958718976.0000 - mae: 13426.7510 - val_loss: 7651254272.0000 - val_mae: 13624.6494\n",
      "Epoch 6/500\n",
      "5905/5905 [==============================] - 30s 5ms/step - loss: 6916566016.0000 - mae: 13331.6211 - val_loss: 7619749888.0000 - val_mae: 13779.4316\n",
      "Epoch 7/500\n",
      "5905/5905 [==============================] - 29s 5ms/step - loss: 6832243200.0000 - mae: 13355.2061 - val_loss: 8026061824.0000 - val_mae: 12913.0596\n",
      "Epoch 8/500\n",
      "5905/5905 [==============================] - 27s 5ms/step - loss: 6895738368.0000 - mae: 13323.4922 - val_loss: 7683073024.0000 - val_mae: 12902.5820\n",
      "Epoch 9/500\n",
      "5905/5905 [==============================] - 28s 5ms/step - loss: 6875911680.0000 - mae: 13140.4102 - val_loss: 7538467328.0000 - val_mae: 14002.4307\n",
      "Epoch 10/500\n",
      "5905/5905 [==============================] - 28s 5ms/step - loss: 6784504320.0000 - mae: 12967.6787 - val_loss: 7810620416.0000 - val_mae: 12387.7891\n",
      "Epoch 11/500\n",
      "5905/5905 [==============================] - 28s 5ms/step - loss: 6733145600.0000 - mae: 12808.5303 - val_loss: 7675499520.0000 - val_mae: 14509.4795\n",
      "Epoch 12/500\n",
      "5905/5905 [==============================] - 28s 5ms/step - loss: 6703333888.0000 - mae: 12704.1406 - val_loss: 7366433792.0000 - val_mae: 12964.9766\n",
      "Epoch 13/500\n",
      "5905/5905 [==============================] - 29s 5ms/step - loss: 6616359936.0000 - mae: 12619.3242 - val_loss: 7273482752.0000 - val_mae: 12634.1777\n",
      "Epoch 14/500\n",
      "5905/5905 [==============================] - 29s 5ms/step - loss: 6543044096.0000 - mae: 12508.3145 - val_loss: 7420683264.0000 - val_mae: 12034.9082\n",
      "Epoch 15/500\n",
      "5905/5905 [==============================] - 29s 5ms/step - loss: 6442935808.0000 - mae: 12303.5947 - val_loss: 7050820096.0000 - val_mae: 12016.9023\n",
      "Epoch 16/500\n",
      "5905/5905 [==============================] - 32s 5ms/step - loss: 6259357184.0000 - mae: 12236.9727 - val_loss: 6852706304.0000 - val_mae: 12343.6348\n",
      "Epoch 17/500\n",
      "5905/5905 [==============================] - 33s 6ms/step - loss: 6138118656.0000 - mae: 12018.5459 - val_loss: 6868446208.0000 - val_mae: 12511.2510\n",
      "Epoch 18/500\n",
      "5905/5905 [==============================] - 31s 5ms/step - loss: 6044811776.0000 - mae: 11942.2178 - val_loss: 6612292096.0000 - val_mae: 13340.7441\n",
      "Epoch 19/500\n",
      "5905/5905 [==============================] - 31s 5ms/step - loss: 6012933632.0000 - mae: 11828.7334 - val_loss: 6580834816.0000 - val_mae: 11346.7490\n",
      "Epoch 20/500\n",
      "5905/5905 [==============================] - 31s 5ms/step - loss: 5999989248.0000 - mae: 11682.5439 - val_loss: 6484113920.0000 - val_mae: 11236.0430\n",
      "Epoch 21/500\n",
      "5905/5905 [==============================] - 31s 5ms/step - loss: 5929481216.0000 - mae: 11536.5400 - val_loss: 6452123136.0000 - val_mae: 11538.0303\n",
      "Epoch 22/500\n",
      "5905/5905 [==============================] - 31s 5ms/step - loss: 5917320192.0000 - mae: 11452.1152 - val_loss: 6465853440.0000 - val_mae: 10883.9971\n",
      "Epoch 23/500\n",
      "5905/5905 [==============================] - 31s 5ms/step - loss: 5916206080.0000 - mae: 11177.3887 - val_loss: 6342714880.0000 - val_mae: 10982.3389\n",
      "Epoch 24/500\n",
      "5905/5905 [==============================] - 32s 5ms/step - loss: 5792947712.0000 - mae: 10908.9473 - val_loss: 6500599296.0000 - val_mae: 11294.1104\n",
      "Epoch 25/500\n",
      "5905/5905 [==============================] - 31s 5ms/step - loss: 5802024448.0000 - mae: 10728.9717 - val_loss: 6562443264.0000 - val_mae: 10222.6621\n",
      "Epoch 26/500\n",
      "5905/5905 [==============================] - 31s 5ms/step - loss: 5784856064.0000 - mae: 10499.9961 - val_loss: 6548637696.0000 - val_mae: 9574.6836\n",
      "Epoch 27/500\n",
      "5905/5905 [==============================] - 31s 5ms/step - loss: 5781578752.0000 - mae: 10270.7812 - val_loss: 6439529472.0000 - val_mae: 9419.9785\n",
      "Epoch 28/500\n",
      "5905/5905 [==============================] - 33s 6ms/step - loss: 5671214080.0000 - mae: 9919.8477 - val_loss: 6575113728.0000 - val_mae: 10165.3408\n",
      "Epoch 29/500\n",
      "5905/5905 [==============================] - 31s 5ms/step - loss: 5690651648.0000 - mae: 9799.6191 - val_loss: 6299506176.0000 - val_mae: 9795.7197\n",
      "Epoch 30/500\n",
      "5905/5905 [==============================] - 32s 5ms/step - loss: 5632154112.0000 - mae: 9560.8916 - val_loss: 6521917952.0000 - val_mae: 9882.7256\n",
      "Epoch 31/500\n",
      "5905/5905 [==============================] - 32s 5ms/step - loss: 5667977728.0000 - mae: 9285.7637 - val_loss: 6368848384.0000 - val_mae: 8894.2080\n",
      "Epoch 32/500\n",
      "5905/5905 [==============================] - 31s 5ms/step - loss: 5622516736.0000 - mae: 9038.3301 - val_loss: 6282511872.0000 - val_mae: 8584.6953\n",
      "Epoch 33/500\n",
      "5905/5905 [==============================] - 30s 5ms/step - loss: 5596589568.0000 - mae: 8868.2373 - val_loss: 6272832000.0000 - val_mae: 9091.1904\n",
      "Epoch 34/500\n",
      "5905/5905 [==============================] - 32s 5ms/step - loss: 5543224832.0000 - mae: 8654.6807 - val_loss: 6222254592.0000 - val_mae: 9461.1357\n",
      "Epoch 35/500\n",
      "5905/5905 [==============================] - 30s 5ms/step - loss: 5554988032.0000 - mae: 8539.2920 - val_loss: 6271887360.0000 - val_mae: 10893.9814\n",
      "Epoch 36/500\n",
      "5905/5905 [==============================] - 30s 5ms/step - loss: 5513056768.0000 - mae: 8311.3154 - val_loss: 6156176384.0000 - val_mae: 8853.7334\n",
      "Epoch 37/500\n",
      "5905/5905 [==============================] - 30s 5ms/step - loss: 5533989888.0000 - mae: 8139.8262 - val_loss: 6088940032.0000 - val_mae: 7698.2427\n",
      "Epoch 38/500\n",
      "5905/5905 [==============================] - 29s 5ms/step - loss: 5537813504.0000 - mae: 7991.1245 - val_loss: 5982515200.0000 - val_mae: 7151.0576\n",
      "Epoch 39/500\n",
      "5905/5905 [==============================] - 30s 5ms/step - loss: 5449378816.0000 - mae: 7851.2490 - val_loss: 5997017088.0000 - val_mae: 7036.0039\n",
      "Epoch 40/500\n",
      "5905/5905 [==============================] - 30s 5ms/step - loss: 5488767488.0000 - mae: 7660.1167 - val_loss: 6022008320.0000 - val_mae: 7043.2749\n",
      "Epoch 41/500\n",
      "5905/5905 [==============================] - 30s 5ms/step - loss: 5452777472.0000 - mae: 7792.1138 - val_loss: 6122368512.0000 - val_mae: 6647.2207\n",
      "Epoch 42/500\n",
      "5905/5905 [==============================] - 30s 5ms/step - loss: 5398098944.0000 - mae: 7652.2017 - val_loss: 6030608384.0000 - val_mae: 8421.9570\n",
      "Epoch 43/500\n",
      "5905/5905 [==============================] - 31s 5ms/step - loss: 5341529088.0000 - mae: 7572.2603 - val_loss: 6193911296.0000 - val_mae: 6935.0552\n",
      "Epoch 44/500\n",
      "5905/5905 [==============================] - 30s 5ms/step - loss: 5393519616.0000 - mae: 7592.7666 - val_loss: 6229618688.0000 - val_mae: 6694.4038\n",
      "Epoch 45/500\n",
      "5905/5905 [==============================] - 29s 5ms/step - loss: 5359132160.0000 - mae: 7480.5225 - val_loss: 6271555584.0000 - val_mae: 6320.6157\n",
      "Epoch 46/500\n",
      "5905/5905 [==============================] - 30s 5ms/step - loss: 5338179584.0000 - mae: 7376.6704 - val_loss: 6055599616.0000 - val_mae: 9421.8145\n",
      "Epoch 47/500\n",
      "5905/5905 [==============================] - 30s 5ms/step - loss: 5374003200.0000 - mae: 7389.3999 - val_loss: 6072073728.0000 - val_mae: 7310.2842\n",
      "Epoch 48/500\n",
      "5905/5905 [==============================] - 30s 5ms/step - loss: 5362267136.0000 - mae: 7301.6118 - val_loss: 6065874944.0000 - val_mae: 9686.3525\n",
      "Epoch 49/500\n",
      "5905/5905 [==============================] - 30s 5ms/step - loss: 5373784576.0000 - mae: 7174.9312 - val_loss: 6077271040.0000 - val_mae: 6740.1592\n",
      "Epoch 50/500\n",
      "5905/5905 [==============================] - 29s 5ms/step - loss: 5308626432.0000 - mae: 7146.3955 - val_loss: 5974190080.0000 - val_mae: 6898.8774\n",
      "Epoch 51/500\n",
      "5905/5905 [==============================] - 29s 5ms/step - loss: 5278128640.0000 - mae: 7139.2251 - val_loss: 5933251584.0000 - val_mae: 6206.2993\n",
      "Epoch 52/500\n",
      "5905/5905 [==============================] - 30s 5ms/step - loss: 5334243840.0000 - mae: 7139.4316 - val_loss: 6092635648.0000 - val_mae: 9224.8936\n",
      "Epoch 53/500\n",
      "5905/5905 [==============================] - 29s 5ms/step - loss: 5342796288.0000 - mae: 7060.6377 - val_loss: 6726240256.0000 - val_mae: 13125.7314\n",
      "Epoch 54/500\n",
      "5905/5905 [==============================] - 29s 5ms/step - loss: 5300427776.0000 - mae: 6952.6548 - val_loss: 5900200448.0000 - val_mae: 6059.6904\n",
      "Epoch 55/500\n",
      "5905/5905 [==============================] - 30s 5ms/step - loss: 5350778880.0000 - mae: 6906.0059 - val_loss: 5882656768.0000 - val_mae: 7948.8955\n",
      "Epoch 56/500\n",
      "5905/5905 [==============================] - 29s 5ms/step - loss: 5298157568.0000 - mae: 6975.0000 - val_loss: 5934575616.0000 - val_mae: 7421.6924\n",
      "Epoch 57/500\n",
      "5905/5905 [==============================] - 30s 5ms/step - loss: 5322089984.0000 - mae: 6851.0068 - val_loss: 5945008128.0000 - val_mae: 7707.6709\n",
      "Epoch 58/500\n",
      "5905/5905 [==============================] - 30s 5ms/step - loss: 5295124992.0000 - mae: 6800.8618 - val_loss: 6221286912.0000 - val_mae: 12393.8857\n",
      "Epoch 59/500\n",
      "5905/5905 [==============================] - 29s 5ms/step - loss: 5287619072.0000 - mae: 6726.4756 - val_loss: 5932716544.0000 - val_mae: 5911.4287\n",
      "Epoch 60/500\n",
      "5905/5905 [==============================] - 30s 5ms/step - loss: 5265211904.0000 - mae: 6659.7876 - val_loss: 5933842944.0000 - val_mae: 5946.2480\n",
      "Epoch 61/500\n",
      "5905/5905 [==============================] - 29s 5ms/step - loss: 5287103488.0000 - mae: 6600.2930 - val_loss: 5923561472.0000 - val_mae: 6082.5894\n",
      "Epoch 62/500\n",
      "5905/5905 [==============================] - 30s 5ms/step - loss: 5265820160.0000 - mae: 6596.2095 - val_loss: 5921718784.0000 - val_mae: 6442.3799\n",
      "Epoch 63/500\n",
      "5905/5905 [==============================] - 30s 5ms/step - loss: 5298454528.0000 - mae: 6517.2832 - val_loss: 5853926912.0000 - val_mae: 7067.0898\n",
      "Epoch 64/500\n",
      "5905/5905 [==============================] - 29s 5ms/step - loss: 5267871744.0000 - mae: 6466.3267 - val_loss: 6191202816.0000 - val_mae: 5965.5591\n",
      "Epoch 65/500\n",
      "5905/5905 [==============================] - 30s 5ms/step - loss: 5267020288.0000 - mae: 6332.4380 - val_loss: 5953355776.0000 - val_mae: 7980.1011\n",
      "Epoch 66/500\n",
      "5905/5905 [==============================] - 29s 5ms/step - loss: 5260176384.0000 - mae: 6452.4419 - val_loss: 6048473088.0000 - val_mae: 5908.6587\n",
      "Epoch 67/500\n",
      "5905/5905 [==============================] - 30s 5ms/step - loss: 5217016832.0000 - mae: 6362.7764 - val_loss: 5836376064.0000 - val_mae: 6112.6523\n",
      "Epoch 68/500\n",
      "5905/5905 [==============================] - 29s 5ms/step - loss: 5277356032.0000 - mae: 6370.3022 - val_loss: 5860564480.0000 - val_mae: 6312.7119\n",
      "Epoch 69/500\n",
      "5905/5905 [==============================] - 29s 5ms/step - loss: 5277405184.0000 - mae: 6225.8560 - val_loss: 5787624448.0000 - val_mae: 5655.3540\n",
      "Epoch 70/500\n",
      "5905/5905 [==============================] - 30s 5ms/step - loss: 5218040320.0000 - mae: 6254.1411 - val_loss: 6190148096.0000 - val_mae: 6710.4312\n",
      "Epoch 71/500\n",
      "5905/5905 [==============================] - 29s 5ms/step - loss: 5186556416.0000 - mae: 6128.2759 - val_loss: 6626527744.0000 - val_mae: 9865.8379\n",
      "Epoch 72/500\n",
      "5905/5905 [==============================] - 30s 5ms/step - loss: 5260000768.0000 - mae: 6185.6875 - val_loss: 6075225600.0000 - val_mae: 8914.3164\n",
      "Epoch 73/500\n",
      "5905/5905 [==============================] - 31s 5ms/step - loss: 5222943744.0000 - mae: 6103.7642 - val_loss: 5846256640.0000 - val_mae: 6123.5190\n",
      "Epoch 74/500\n",
      "5905/5905 [==============================] - 30s 5ms/step - loss: 5186293760.0000 - mae: 6157.8667 - val_loss: 6106686464.0000 - val_mae: 6158.4365\n",
      "Epoch 75/500\n",
      "5905/5905 [==============================] - 30s 5ms/step - loss: 5181661696.0000 - mae: 6067.1255 - val_loss: 5870915584.0000 - val_mae: 6583.0508\n",
      "Epoch 76/500\n",
      "5905/5905 [==============================] - 29s 5ms/step - loss: 5190491136.0000 - mae: 6058.9214 - val_loss: 5949033472.0000 - val_mae: 5496.1206\n",
      "Epoch 77/500\n",
      "5905/5905 [==============================] - 29s 5ms/step - loss: 5192211968.0000 - mae: 5890.0449 - val_loss: 5753305600.0000 - val_mae: 5167.7192\n",
      "Epoch 78/500\n",
      "5905/5905 [==============================] - 30s 5ms/step - loss: 5215366144.0000 - mae: 5861.0293 - val_loss: 5903591424.0000 - val_mae: 5575.5234\n",
      "Epoch 79/500\n",
      "5905/5905 [==============================] - 29s 5ms/step - loss: 5136801280.0000 - mae: 5862.9448 - val_loss: 5926609408.0000 - val_mae: 8746.1377\n",
      "Epoch 80/500\n",
      "5905/5905 [==============================] - 30s 5ms/step - loss: 5180075520.0000 - mae: 5784.7788 - val_loss: 5840781824.0000 - val_mae: 5264.3960\n",
      "Epoch 81/500\n",
      "5905/5905 [==============================] - 30s 5ms/step - loss: 5138422272.0000 - mae: 5817.3525 - val_loss: 5763015680.0000 - val_mae: 5381.9106\n",
      "Epoch 82/500\n",
      "5905/5905 [==============================] - 30s 5ms/step - loss: 5152603648.0000 - mae: 5786.8506 - val_loss: 5854867968.0000 - val_mae: 6240.5293\n",
      "Epoch 83/500\n",
      "5905/5905 [==============================] - 30s 5ms/step - loss: 5240561664.0000 - mae: 5780.6816 - val_loss: 5763539968.0000 - val_mae: 5743.2295\n",
      "Epoch 84/500\n",
      "5905/5905 [==============================] - 29s 5ms/step - loss: 5200998912.0000 - mae: 5749.3320 - val_loss: 5792735232.0000 - val_mae: 5475.6504\n",
      "Epoch 85/500\n",
      "5905/5905 [==============================] - 30s 5ms/step - loss: 5152457216.0000 - mae: 5642.5825 - val_loss: 5980425216.0000 - val_mae: 6431.5439\n",
      "Epoch 86/500\n",
      "5905/5905 [==============================] - 30s 5ms/step - loss: 5169625088.0000 - mae: 5663.7793 - val_loss: 5825919488.0000 - val_mae: 5716.9102\n",
      "Epoch 87/500\n",
      "5905/5905 [==============================] - 30s 5ms/step - loss: 5182599680.0000 - mae: 5775.7412 - val_loss: 5796484608.0000 - val_mae: 5232.8457\n",
      "Epoch 88/500\n",
      "5905/5905 [==============================] - 30s 5ms/step - loss: 5183033344.0000 - mae: 5553.0156 - val_loss: 5839384576.0000 - val_mae: 5487.2012\n",
      "Epoch 89/500\n",
      "5905/5905 [==============================] - 29s 5ms/step - loss: 5116713472.0000 - mae: 5569.0811 - val_loss: 5755784192.0000 - val_mae: 5393.8398\n",
      "Epoch 90/500\n",
      "5905/5905 [==============================] - 29s 5ms/step - loss: 5169133568.0000 - mae: 5664.6440 - val_loss: 5706573312.0000 - val_mae: 5952.2148\n",
      "Epoch 91/500\n",
      "5905/5905 [==============================] - 30s 5ms/step - loss: 5153563136.0000 - mae: 5511.9409 - val_loss: 5775725568.0000 - val_mae: 5886.7690\n",
      "Epoch 92/500\n",
      "5905/5905 [==============================] - 29s 5ms/step - loss: 5213541888.0000 - mae: 5525.9248 - val_loss: 5724290560.0000 - val_mae: 5741.7842\n",
      "Epoch 93/500\n",
      "5905/5905 [==============================] - 30s 5ms/step - loss: 5130477568.0000 - mae: 5510.8721 - val_loss: 5835554816.0000 - val_mae: 5248.0605\n",
      "Epoch 94/500\n",
      "5905/5905 [==============================] - 29s 5ms/step - loss: 5088053248.0000 - mae: 5525.6519 - val_loss: 5684012032.0000 - val_mae: 5290.0132\n",
      "Epoch 95/500\n",
      "5905/5905 [==============================] - 30s 5ms/step - loss: 5159728128.0000 - mae: 5495.2139 - val_loss: 5873093120.0000 - val_mae: 5340.6328\n",
      "Epoch 96/500\n",
      "5905/5905 [==============================] - 29s 5ms/step - loss: 5199289344.0000 - mae: 5512.0269 - val_loss: 5754704384.0000 - val_mae: 5324.1343\n",
      "Epoch 97/500\n",
      "5905/5905 [==============================] - 29s 5ms/step - loss: 5130996736.0000 - mae: 5446.9209 - val_loss: 5761900032.0000 - val_mae: 4927.8042\n",
      "Epoch 98/500\n",
      "5905/5905 [==============================] - 30s 5ms/step - loss: 5183068160.0000 - mae: 5390.5596 - val_loss: 6072545280.0000 - val_mae: 5199.7070\n",
      "Epoch 99/500\n",
      "5905/5905 [==============================] - 29s 5ms/step - loss: 5154803200.0000 - mae: 5368.0312 - val_loss: 5698565120.0000 - val_mae: 4674.6382\n",
      "Epoch 100/500\n",
      "5905/5905 [==============================] - 29s 5ms/step - loss: 5159966720.0000 - mae: 5295.9189 - val_loss: 5742645248.0000 - val_mae: 4719.9653\n",
      "Epoch 101/500\n",
      "5905/5905 [==============================] - 30s 5ms/step - loss: 5211526144.0000 - mae: 5370.3486 - val_loss: 5825999872.0000 - val_mae: 4720.3765\n",
      "Epoch 102/500\n",
      "5905/5905 [==============================] - 29s 5ms/step - loss: 5139172864.0000 - mae: 5391.9385 - val_loss: 5725710336.0000 - val_mae: 5341.2065\n",
      "Epoch 103/500\n",
      "5905/5905 [==============================] - 30s 5ms/step - loss: 5167770112.0000 - mae: 5380.0356 - val_loss: 6099661824.0000 - val_mae: 5065.7036\n",
      "Epoch 104/500\n",
      "5905/5905 [==============================] - 30s 5ms/step - loss: 5091644928.0000 - mae: 5398.0068 - val_loss: 5892295680.0000 - val_mae: 5062.2725\n",
      "Epoch 105/500\n",
      "5905/5905 [==============================] - 29s 5ms/step - loss: 5198834176.0000 - mae: 5344.1523 - val_loss: 6219619840.0000 - val_mae: 5655.8105\n",
      "Epoch 106/500\n",
      "5905/5905 [==============================] - 30s 5ms/step - loss: 5191168000.0000 - mae: 5276.5703 - val_loss: 5731987456.0000 - val_mae: 4511.4321\n",
      "Epoch 107/500\n",
      "5905/5905 [==============================] - 29s 5ms/step - loss: 5152736256.0000 - mae: 5367.2119 - val_loss: 5696023040.0000 - val_mae: 4981.3340\n",
      "Epoch 108/500\n",
      "5905/5905 [==============================] - 30s 5ms/step - loss: 5076368896.0000 - mae: 5257.3853 - val_loss: 5724577792.0000 - val_mae: 4861.2490\n",
      "Epoch 109/500\n",
      "5905/5905 [==============================] - 29s 5ms/step - loss: 5044326912.0000 - mae: 5487.3062 - val_loss: 6075553792.0000 - val_mae: 5545.9595\n",
      "Epoch 110/500\n",
      "5905/5905 [==============================] - 29s 5ms/step - loss: 5126249472.0000 - mae: 5373.0771 - val_loss: 5737787392.0000 - val_mae: 5290.8262\n",
      "Epoch 111/500\n",
      "5905/5905 [==============================] - 30s 5ms/step - loss: 5180952064.0000 - mae: 5313.7383 - val_loss: 5729267712.0000 - val_mae: 6677.1147\n",
      "Epoch 112/500\n",
      "5905/5905 [==============================] - 29s 5ms/step - loss: 5118699520.0000 - mae: 5387.6904 - val_loss: 5768695296.0000 - val_mae: 5176.0220\n",
      "Epoch 113/500\n",
      "5905/5905 [==============================] - 30s 5ms/step - loss: 5131872768.0000 - mae: 5384.6924 - val_loss: 5687642112.0000 - val_mae: 5399.8657\n",
      "Epoch 114/500\n",
      "5905/5905 [==============================] - 29s 5ms/step - loss: 5161104896.0000 - mae: 5316.8735 - val_loss: 5702558208.0000 - val_mae: 5770.8003\n",
      "Epoch 115/500\n",
      "5905/5905 [==============================] - 30s 5ms/step - loss: 5118721536.0000 - mae: 5256.3525 - val_loss: 5771452928.0000 - val_mae: 5631.4771\n",
      "Epoch 116/500\n",
      "5905/5905 [==============================] - 30s 5ms/step - loss: 5069134336.0000 - mae: 5275.1138 - val_loss: 5940322304.0000 - val_mae: 6696.8770\n",
      "Epoch 117/500\n",
      "5905/5905 [==============================] - 30s 5ms/step - loss: 5119149568.0000 - mae: 5302.9302 - val_loss: 5842955264.0000 - val_mae: 4726.8320\n",
      "Epoch 118/500\n",
      "5905/5905 [==============================] - 30s 5ms/step - loss: 5117518336.0000 - mae: 5180.3169 - val_loss: 6059521536.0000 - val_mae: 4814.1997\n",
      "Epoch 119/500\n",
      "5905/5905 [==============================] - 29s 5ms/step - loss: 5075183104.0000 - mae: 5287.4624 - val_loss: 5863631360.0000 - val_mae: 5114.3340\n",
      "Epoch 120/500\n",
      "5905/5905 [==============================] - 29s 5ms/step - loss: 5135423488.0000 - mae: 5172.8228 - val_loss: 5747785216.0000 - val_mae: 4665.3413\n",
      "Epoch 121/500\n",
      "5905/5905 [==============================] - 30s 5ms/step - loss: 5056793088.0000 - mae: 5244.5562 - val_loss: 5751493632.0000 - val_mae: 6221.4121\n",
      "Epoch 122/500\n",
      "5905/5905 [==============================] - 30s 5ms/step - loss: 5074769920.0000 - mae: 5331.0938 - val_loss: 5938955264.0000 - val_mae: 6579.3794\n",
      "Epoch 123/500\n",
      "5905/5905 [==============================] - 30s 5ms/step - loss: 5117890560.0000 - mae: 5146.4287 - val_loss: 5698637824.0000 - val_mae: 5582.9800\n",
      "Epoch 124/500\n",
      "5905/5905 [==============================] - 29s 5ms/step - loss: 5004200448.0000 - mae: 5352.8081 - val_loss: 6071081472.0000 - val_mae: 4999.6865\n",
      "Epoch 125/500\n",
      "5905/5905 [==============================] - 29s 5ms/step - loss: 5101380608.0000 - mae: 5126.6069 - val_loss: 5768939008.0000 - val_mae: 6372.8921\n",
      "Epoch 126/500\n",
      "5905/5905 [==============================] - 29s 5ms/step - loss: 5090604032.0000 - mae: 5392.3008 - val_loss: 5762136064.0000 - val_mae: 4598.6348\n",
      "Epoch 127/500\n",
      "5905/5905 [==============================] - 29s 5ms/step - loss: 5117958144.0000 - mae: 5213.7065 - val_loss: 5749164032.0000 - val_mae: 5295.5308\n",
      "Epoch 128/500\n",
      "5905/5905 [==============================] - 29s 5ms/step - loss: 5106861056.0000 - mae: 5145.0000 - val_loss: 5821942272.0000 - val_mae: 5260.0557\n",
      "Epoch 129/500\n",
      "5905/5905 [==============================] - 29s 5ms/step - loss: 5050239488.0000 - mae: 5342.2329 - val_loss: 5752097792.0000 - val_mae: 4371.3887\n",
      "Epoch 130/500\n",
      "5905/5905 [==============================] - 29s 5ms/step - loss: 5115701248.0000 - mae: 5142.8159 - val_loss: 5718932480.0000 - val_mae: 5901.8916\n",
      "Epoch 131/500\n",
      "5905/5905 [==============================] - 29s 5ms/step - loss: 5112405504.0000 - mae: 5046.8672 - val_loss: 5705920000.0000 - val_mae: 4967.1621\n",
      "Epoch 132/500\n",
      "5905/5905 [==============================] - 29s 5ms/step - loss: 5074637312.0000 - mae: 5087.7148 - val_loss: 5935023104.0000 - val_mae: 8431.0713\n",
      "Epoch 133/500\n",
      "5905/5905 [==============================] - 29s 5ms/step - loss: 4986546176.0000 - mae: 5287.6704 - val_loss: 5920742400.0000 - val_mae: 5553.6157\n",
      "Epoch 134/500\n",
      "5905/5905 [==============================] - 30s 5ms/step - loss: 5070338048.0000 - mae: 5278.0435 - val_loss: 5887798272.0000 - val_mae: 5014.8760\n",
      "Epoch 135/500\n",
      "5905/5905 [==============================] - 30s 5ms/step - loss: 5115237376.0000 - mae: 5071.7148 - val_loss: 5780451840.0000 - val_mae: 5456.4170\n",
      "Epoch 136/500\n",
      "5905/5905 [==============================] - 30s 5ms/step - loss: 5085866496.0000 - mae: 5228.3389 - val_loss: 5694495232.0000 - val_mae: 5031.4551\n",
      "Epoch 137/500\n",
      "5905/5905 [==============================] - 29s 5ms/step - loss: 5123742208.0000 - mae: 5397.0576 - val_loss: 5692228096.0000 - val_mae: 5866.8247\n",
      "Epoch 138/500\n",
      "5905/5905 [==============================] - 30s 5ms/step - loss: 5099503104.0000 - mae: 5151.7119 - val_loss: 5594748928.0000 - val_mae: 6096.1777\n",
      "Epoch 139/500\n",
      "5905/5905 [==============================] - 29s 5ms/step - loss: 5056115712.0000 - mae: 5245.8379 - val_loss: 5649090560.0000 - val_mae: 4700.2598\n",
      "Epoch 140/500\n",
      "5905/5905 [==============================] - 29s 5ms/step - loss: 5048801280.0000 - mae: 5105.1738 - val_loss: 5715725312.0000 - val_mae: 4669.1597\n",
      "Epoch 141/500\n",
      "5905/5905 [==============================] - 30s 5ms/step - loss: 5083908096.0000 - mae: 5065.9814 - val_loss: 5614730240.0000 - val_mae: 4353.8516\n",
      "Epoch 142/500\n",
      "5905/5905 [==============================] - 29s 5ms/step - loss: 5101518848.0000 - mae: 5134.0786 - val_loss: 5648044032.0000 - val_mae: 5040.2622\n",
      "Epoch 143/500\n",
      "5905/5905 [==============================] - 30s 5ms/step - loss: 5099483136.0000 - mae: 5133.0679 - val_loss: 5633981440.0000 - val_mae: 4625.8218\n",
      "Epoch 144/500\n",
      "5905/5905 [==============================] - 29s 5ms/step - loss: 5113668096.0000 - mae: 5183.8223 - val_loss: 5694477312.0000 - val_mae: 5755.3101\n",
      "Epoch 145/500\n",
      "5905/5905 [==============================] - 30s 5ms/step - loss: 4969568768.0000 - mae: 5225.5239 - val_loss: 5619546112.0000 - val_mae: 5586.6670\n",
      "Epoch 146/500\n",
      "5905/5905 [==============================] - 29s 5ms/step - loss: 5079784448.0000 - mae: 5055.6509 - val_loss: 5647254016.0000 - val_mae: 5324.0439\n",
      "Epoch 147/500\n",
      "5905/5905 [==============================] - 29s 5ms/step - loss: 5032737792.0000 - mae: 5116.5464 - val_loss: 5687459840.0000 - val_mae: 4402.2026\n",
      "Epoch 148/500\n",
      "5905/5905 [==============================] - 29s 5ms/step - loss: 5051852288.0000 - mae: 5158.0200 - val_loss: 5818398208.0000 - val_mae: 4368.4800\n",
      "Epoch 149/500\n",
      "5905/5905 [==============================] - 29s 5ms/step - loss: 5048030720.0000 - mae: 5006.9639 - val_loss: 5881558016.0000 - val_mae: 5347.1816\n",
      "Epoch 150/500\n",
      "5905/5905 [==============================] - 30s 5ms/step - loss: 5095599616.0000 - mae: 4957.0396 - val_loss: 5870086144.0000 - val_mae: 6933.9883\n",
      "Epoch 151/500\n",
      "5905/5905 [==============================] - 30s 5ms/step - loss: 5029659648.0000 - mae: 5041.6855 - val_loss: 5789007872.0000 - val_mae: 4755.6899\n",
      "Epoch 152/500\n",
      "5905/5905 [==============================] - 30s 5ms/step - loss: 5089576960.0000 - mae: 5044.0679 - val_loss: 5860205568.0000 - val_mae: 8793.1318\n",
      "Epoch 153/500\n",
      "5905/5905 [==============================] - 29s 5ms/step - loss: 5049809920.0000 - mae: 5056.8286 - val_loss: 5636676096.0000 - val_mae: 4894.0000\n",
      "Epoch 154/500\n",
      "5905/5905 [==============================] - 29s 5ms/step - loss: 5109076992.0000 - mae: 5062.4072 - val_loss: 5711591936.0000 - val_mae: 4828.6157\n",
      "Epoch 155/500\n",
      "5905/5905 [==============================] - 30s 5ms/step - loss: 5074869248.0000 - mae: 4989.3218 - val_loss: 5773167616.0000 - val_mae: 5802.3540\n",
      "Epoch 156/500\n",
      "5905/5905 [==============================] - 29s 5ms/step - loss: 5007537152.0000 - mae: 4914.0010 - val_loss: 5762400256.0000 - val_mae: 4573.9570\n",
      "Epoch 157/500\n",
      "5905/5905 [==============================] - 30s 5ms/step - loss: 5014671872.0000 - mae: 4985.8608 - val_loss: 5973324288.0000 - val_mae: 4378.2500\n",
      "Epoch 158/500\n",
      "5905/5905 [==============================] - 29s 5ms/step - loss: 5070351360.0000 - mae: 4939.1914 - val_loss: 5622431232.0000 - val_mae: 4621.0039\n",
      "Epoch 159/500\n",
      "5905/5905 [==============================] - 29s 5ms/step - loss: 5013113344.0000 - mae: 5012.5796 - val_loss: 5797611008.0000 - val_mae: 5312.0029\n",
      "Epoch 160/500\n",
      "5905/5905 [==============================] - 30s 5ms/step - loss: 5039666688.0000 - mae: 5020.6040 - val_loss: 5700655104.0000 - val_mae: 4926.8188\n",
      "Epoch 161/500\n",
      "5905/5905 [==============================] - 29s 5ms/step - loss: 5061187584.0000 - mae: 4991.0806 - val_loss: 5772320256.0000 - val_mae: 4557.2500\n",
      "Epoch 162/500\n",
      "5905/5905 [==============================] - 30s 5ms/step - loss: 5058096640.0000 - mae: 4971.7734 - val_loss: 5710982144.0000 - val_mae: 5920.7017\n",
      "Epoch 163/500\n",
      "5905/5905 [==============================] - 29s 5ms/step - loss: 5060196352.0000 - mae: 4984.9282 - val_loss: 5768155136.0000 - val_mae: 4521.8921\n",
      "Epoch 164/500\n",
      "5905/5905 [==============================] - 30s 5ms/step - loss: 5091220992.0000 - mae: 5029.0986 - val_loss: 6064646656.0000 - val_mae: 4459.0151\n",
      "Epoch 165/500\n",
      "5905/5905 [==============================] - 30s 5ms/step - loss: 5064368640.0000 - mae: 4904.5220 - val_loss: 5634873856.0000 - val_mae: 4909.7808\n",
      "Epoch 166/500\n",
      "5905/5905 [==============================] - 29s 5ms/step - loss: 5020636160.0000 - mae: 5007.9512 - val_loss: 5601090560.0000 - val_mae: 4179.8862\n",
      "Epoch 167/500\n",
      "5905/5905 [==============================] - 30s 5ms/step - loss: 5014552576.0000 - mae: 4916.7734 - val_loss: 5780532736.0000 - val_mae: 5147.6104\n",
      "Epoch 168/500\n",
      "5905/5905 [==============================] - 29s 5ms/step - loss: 5043387904.0000 - mae: 4920.6143 - val_loss: 5586486784.0000 - val_mae: 4425.8452\n",
      "Epoch 169/500\n",
      "5905/5905 [==============================] - 30s 5ms/step - loss: 4989225984.0000 - mae: 4823.2808 - val_loss: 5863824896.0000 - val_mae: 4182.5771\n",
      "Epoch 170/500\n",
      "5905/5905 [==============================] - 29s 5ms/step - loss: 4972579328.0000 - mae: 4845.9243 - val_loss: 5845180928.0000 - val_mae: 4086.5259\n",
      "Epoch 171/500\n",
      "5905/5905 [==============================] - 29s 5ms/step - loss: 5083977216.0000 - mae: 4943.3516 - val_loss: 5538360320.0000 - val_mae: 4779.5669\n",
      "Epoch 172/500\n",
      "5905/5905 [==============================] - 30s 5ms/step - loss: 5048382976.0000 - mae: 4834.9194 - val_loss: 5937404928.0000 - val_mae: 6642.2979\n",
      "Epoch 173/500\n",
      "5905/5905 [==============================] - 29s 5ms/step - loss: 4960335872.0000 - mae: 4993.7891 - val_loss: 5555367424.0000 - val_mae: 5133.2417\n",
      "Epoch 174/500\n",
      "5905/5905 [==============================] - 30s 5ms/step - loss: 5007668736.0000 - mae: 4952.4048 - val_loss: 5680541696.0000 - val_mae: 5941.6792\n",
      "Epoch 175/500\n",
      "5905/5905 [==============================] - 30s 5ms/step - loss: 4976944640.0000 - mae: 4962.9414 - val_loss: 5619318784.0000 - val_mae: 4578.4746\n",
      "Epoch 176/500\n",
      "5905/5905 [==============================] - 29s 5ms/step - loss: 5005203968.0000 - mae: 4961.0469 - val_loss: 5599576576.0000 - val_mae: 4331.6270\n",
      "Epoch 177/500\n",
      "5905/5905 [==============================] - 30s 5ms/step - loss: 4972510208.0000 - mae: 4858.4351 - val_loss: 5970595840.0000 - val_mae: 6876.3037\n",
      "Epoch 178/500\n",
      "5905/5905 [==============================] - 29s 5ms/step - loss: 5077532160.0000 - mae: 5009.5400 - val_loss: 5586714624.0000 - val_mae: 4831.0737\n",
      "Epoch 179/500\n",
      "5905/5905 [==============================] - 30s 5ms/step - loss: 4916912128.0000 - mae: 4941.1641 - val_loss: 6084926464.0000 - val_mae: 3920.8882\n",
      "Epoch 180/500\n",
      "5905/5905 [==============================] - 30s 5ms/step - loss: 4974634496.0000 - mae: 4938.1509 - val_loss: 5805166592.0000 - val_mae: 4175.7383\n",
      "Epoch 181/500\n",
      "5905/5905 [==============================] - 30s 5ms/step - loss: 4961707008.0000 - mae: 4840.0215 - val_loss: 6210953216.0000 - val_mae: 4135.2275\n",
      "Epoch 182/500\n",
      "5905/5905 [==============================] - 29s 5ms/step - loss: 5035988992.0000 - mae: 4910.2061 - val_loss: 5696787456.0000 - val_mae: 3931.6443\n",
      "Epoch 183/500\n",
      "5905/5905 [==============================] - 30s 5ms/step - loss: 5029737984.0000 - mae: 4852.7554 - val_loss: 6078886400.0000 - val_mae: 4798.3711\n",
      "Epoch 184/500\n",
      "5905/5905 [==============================] - 30s 5ms/step - loss: 5053882880.0000 - mae: 4808.0508 - val_loss: 5683300352.0000 - val_mae: 7014.3262\n",
      "Epoch 185/500\n",
      "5905/5905 [==============================] - 29s 5ms/step - loss: 4974426112.0000 - mae: 4888.5439 - val_loss: 5877746688.0000 - val_mae: 4659.4985\n",
      "Epoch 186/500\n",
      "5905/5905 [==============================] - 30s 5ms/step - loss: 4982887936.0000 - mae: 4831.9429 - val_loss: 5610413056.0000 - val_mae: 4480.6543\n",
      "Epoch 187/500\n",
      "5905/5905 [==============================] - 29s 5ms/step - loss: 4995874816.0000 - mae: 4696.3032 - val_loss: 5684450816.0000 - val_mae: 5554.4526\n",
      "Epoch 188/500\n",
      "5905/5905 [==============================] - 30s 5ms/step - loss: 4976929280.0000 - mae: 4868.3262 - val_loss: 5794842112.0000 - val_mae: 4780.6865\n",
      "Epoch 189/500\n",
      "5905/5905 [==============================] - 30s 5ms/step - loss: 4969483264.0000 - mae: 4781.3750 - val_loss: 5526418944.0000 - val_mae: 5194.6553\n",
      "Epoch 190/500\n",
      "5905/5905 [==============================] - 29s 5ms/step - loss: 4891438080.0000 - mae: 4905.0493 - val_loss: 5652505088.0000 - val_mae: 5924.9565\n",
      "Epoch 191/500\n",
      "5905/5905 [==============================] - 30s 5ms/step - loss: 5001090048.0000 - mae: 4921.0532 - val_loss: 5516170240.0000 - val_mae: 4623.4512\n",
      "Epoch 192/500\n",
      "5905/5905 [==============================] - 30s 5ms/step - loss: 4858089984.0000 - mae: 4717.9814 - val_loss: 6244379648.0000 - val_mae: 5842.2212\n",
      "Epoch 193/500\n",
      "5905/5905 [==============================] - 30s 5ms/step - loss: 4950582272.0000 - mae: 4854.7373 - val_loss: 5873636352.0000 - val_mae: 4539.3237\n",
      "Epoch 194/500\n",
      "5905/5905 [==============================] - 30s 5ms/step - loss: 4966614016.0000 - mae: 4759.9810 - val_loss: 5588496896.0000 - val_mae: 4429.4126\n",
      "Epoch 195/500\n",
      "5905/5905 [==============================] - 31s 5ms/step - loss: 4868350464.0000 - mae: 4906.9849 - val_loss: 6200341504.0000 - val_mae: 4603.1475\n",
      "Epoch 196/500\n",
      "5905/5905 [==============================] - 30s 5ms/step - loss: 5029047296.0000 - mae: 4804.6240 - val_loss: 5630461952.0000 - val_mae: 4006.4553\n",
      "Epoch 197/500\n",
      "5905/5905 [==============================] - 30s 5ms/step - loss: 4988905472.0000 - mae: 4750.9609 - val_loss: 5808232448.0000 - val_mae: 6911.3911\n",
      "Epoch 198/500\n",
      "5905/5905 [==============================] - 30s 5ms/step - loss: 4959583744.0000 - mae: 4863.0830 - val_loss: 5460729856.0000 - val_mae: 4842.4062\n",
      "Epoch 199/500\n",
      "5905/5905 [==============================] - 30s 5ms/step - loss: 4884448256.0000 - mae: 4763.2378 - val_loss: 5570378240.0000 - val_mae: 4866.0083\n",
      "Epoch 200/500\n",
      "5905/5905 [==============================] - 30s 5ms/step - loss: 4957799936.0000 - mae: 4789.1016 - val_loss: 5451419648.0000 - val_mae: 4349.4878\n",
      "Epoch 201/500\n",
      "5905/5905 [==============================] - 30s 5ms/step - loss: 4957777920.0000 - mae: 4825.6270 - val_loss: 5890742784.0000 - val_mae: 4947.4189\n",
      "Epoch 202/500\n",
      "5905/5905 [==============================] - 30s 5ms/step - loss: 4969227264.0000 - mae: 4727.7915 - val_loss: 6296662016.0000 - val_mae: 5294.5386\n",
      "Epoch 203/500\n",
      "5905/5905 [==============================] - 30s 5ms/step - loss: 4969459200.0000 - mae: 4842.3594 - val_loss: 5509829120.0000 - val_mae: 3917.0881\n",
      "Epoch 204/500\n",
      "5905/5905 [==============================] - 30s 5ms/step - loss: 4909147648.0000 - mae: 4890.3398 - val_loss: 5719875584.0000 - val_mae: 4826.6226\n",
      "Epoch 205/500\n",
      "5905/5905 [==============================] - 30s 5ms/step - loss: 4885417472.0000 - mae: 4863.7344 - val_loss: 5524618240.0000 - val_mae: 5828.4077\n",
      "Epoch 206/500\n",
      "5905/5905 [==============================] - 30s 5ms/step - loss: 4966320128.0000 - mae: 4759.0781 - val_loss: 5594751488.0000 - val_mae: 5140.9385\n",
      "Epoch 207/500\n",
      "5905/5905 [==============================] - 30s 5ms/step - loss: 4943815680.0000 - mae: 4872.7876 - val_loss: 5457094656.0000 - val_mae: 5637.7222\n",
      "Epoch 208/500\n",
      "5905/5905 [==============================] - 30s 5ms/step - loss: 4933824000.0000 - mae: 4774.3745 - val_loss: 5503645184.0000 - val_mae: 4710.2920\n",
      "Epoch 209/500\n",
      "5905/5905 [==============================] - 31s 5ms/step - loss: 4954037760.0000 - mae: 4908.4404 - val_loss: 5491768320.0000 - val_mae: 4963.2378\n",
      "Epoch 210/500\n",
      "5905/5905 [==============================] - 30s 5ms/step - loss: 4875853312.0000 - mae: 4806.4180 - val_loss: 5707552256.0000 - val_mae: 4925.2739\n",
      "Epoch 211/500\n",
      "5905/5905 [==============================] - 31s 5ms/step - loss: 4911674368.0000 - mae: 4851.7793 - val_loss: 5773785600.0000 - val_mae: 4441.3975\n",
      "Epoch 212/500\n",
      "5905/5905 [==============================] - 30s 5ms/step - loss: 4929271808.0000 - mae: 4823.1426 - val_loss: 5484961792.0000 - val_mae: 5128.5039\n",
      "Epoch 213/500\n",
      "5905/5905 [==============================] - 31s 5ms/step - loss: 4888221696.0000 - mae: 4877.8882 - val_loss: 5540718592.0000 - val_mae: 6604.0664\n",
      "Epoch 214/500\n",
      "5905/5905 [==============================] - 31s 5ms/step - loss: 4923405312.0000 - mae: 4704.6792 - val_loss: 5505629696.0000 - val_mae: 7733.7446\n",
      "Epoch 215/500\n",
      "5905/5905 [==============================] - 30s 5ms/step - loss: 4955157504.0000 - mae: 4801.8916 - val_loss: 5515497472.0000 - val_mae: 3908.4915\n",
      "Epoch 216/500\n",
      "5905/5905 [==============================] - 31s 5ms/step - loss: 4914685952.0000 - mae: 4760.3560 - val_loss: 5436492288.0000 - val_mae: 4669.0259\n",
      "Epoch 217/500\n",
      "5905/5905 [==============================] - 31s 5ms/step - loss: 4801365504.0000 - mae: 4974.4170 - val_loss: 5456644608.0000 - val_mae: 5842.0674\n",
      "Epoch 218/500\n",
      "5905/5905 [==============================] - 31s 5ms/step - loss: 4844299776.0000 - mae: 4848.0371 - val_loss: 5574066688.0000 - val_mae: 4120.4746\n",
      "Epoch 219/500\n",
      "5905/5905 [==============================] - 30s 5ms/step - loss: 4967108096.0000 - mae: 4829.8140 - val_loss: 5381565440.0000 - val_mae: 4481.7002\n",
      "Epoch 220/500\n",
      "5905/5905 [==============================] - 30s 5ms/step - loss: 4863579648.0000 - mae: 4860.6479 - val_loss: 5470428672.0000 - val_mae: 4331.6182\n",
      "Epoch 221/500\n",
      "5905/5905 [==============================] - 31s 5ms/step - loss: 4840205824.0000 - mae: 4854.7729 - val_loss: 5388031488.0000 - val_mae: 4880.3433\n",
      "Epoch 222/500\n",
      "5905/5905 [==============================] - 30s 5ms/step - loss: 4918097920.0000 - mae: 4790.2021 - val_loss: 5309430784.0000 - val_mae: 4112.0898\n",
      "Epoch 223/500\n",
      "5905/5905 [==============================] - 31s 5ms/step - loss: 4866155008.0000 - mae: 4831.4302 - val_loss: 5632954368.0000 - val_mae: 4316.6279\n",
      "Epoch 224/500\n",
      "5905/5905 [==============================] - 31s 5ms/step - loss: 4828070400.0000 - mae: 4793.5586 - val_loss: 5554316800.0000 - val_mae: 6016.8540\n",
      "Epoch 225/500\n",
      "5905/5905 [==============================] - 31s 5ms/step - loss: 4893323264.0000 - mae: 4868.2832 - val_loss: 5421524992.0000 - val_mae: 4342.1338\n",
      "Epoch 226/500\n",
      "5905/5905 [==============================] - 31s 5ms/step - loss: 4863114752.0000 - mae: 4747.8491 - val_loss: 5525850112.0000 - val_mae: 5439.1138\n",
      "Epoch 227/500\n",
      "5905/5905 [==============================] - 30s 5ms/step - loss: 4870696448.0000 - mae: 4738.3218 - val_loss: 5865866752.0000 - val_mae: 4135.8604\n",
      "Epoch 228/500\n",
      "5905/5905 [==============================] - 30s 5ms/step - loss: 4811760640.0000 - mae: 4779.7490 - val_loss: 5957135360.0000 - val_mae: 3803.9585\n",
      "Epoch 229/500\n",
      "5905/5905 [==============================] - 30s 5ms/step - loss: 4904116736.0000 - mae: 4773.9810 - val_loss: 5338102784.0000 - val_mae: 4784.8828\n",
      "Epoch 230/500\n",
      "5905/5905 [==============================] - 30s 5ms/step - loss: 4848465920.0000 - mae: 4771.9443 - val_loss: 5549610496.0000 - val_mae: 4609.5967\n",
      "Epoch 231/500\n",
      "5905/5905 [==============================] - 31s 5ms/step - loss: 4889443328.0000 - mae: 4655.8311 - val_loss: 5448480768.0000 - val_mae: 4625.2554\n",
      "Epoch 232/500\n",
      "5905/5905 [==============================] - 31s 5ms/step - loss: 4800683520.0000 - mae: 4643.3833 - val_loss: 6020602368.0000 - val_mae: 3665.8770\n",
      "Epoch 233/500\n",
      "5905/5905 [==============================] - 30s 5ms/step - loss: 4900124160.0000 - mae: 4727.3765 - val_loss: 5275058688.0000 - val_mae: 4886.9971\n",
      "Epoch 234/500\n",
      "5905/5905 [==============================] - 30s 5ms/step - loss: 4933849600.0000 - mae: 4839.1079 - val_loss: 5400481792.0000 - val_mae: 4701.4951\n",
      "Epoch 235/500\n",
      "5905/5905 [==============================] - 30s 5ms/step - loss: 4864134144.0000 - mae: 4726.0942 - val_loss: 5345489408.0000 - val_mae: 4282.7896\n",
      "Epoch 236/500\n",
      "5905/5905 [==============================] - 30s 5ms/step - loss: 4895249408.0000 - mae: 4708.6089 - val_loss: 5325682688.0000 - val_mae: 3898.9197\n",
      "Epoch 237/500\n",
      "5905/5905 [==============================] - 31s 5ms/step - loss: 4821482496.0000 - mae: 4640.5039 - val_loss: 5334368256.0000 - val_mae: 4822.4873\n",
      "Epoch 238/500\n",
      "5905/5905 [==============================] - 30s 5ms/step - loss: 4880943616.0000 - mae: 4574.3862 - val_loss: 5334607872.0000 - val_mae: 6208.1162\n",
      "Epoch 239/500\n",
      "5905/5905 [==============================] - 30s 5ms/step - loss: 4767636480.0000 - mae: 4655.2524 - val_loss: 5641805312.0000 - val_mae: 3938.2812\n",
      "Epoch 240/500\n",
      "5905/5905 [==============================] - 30s 5ms/step - loss: 4875220480.0000 - mae: 4609.5713 - val_loss: 5225927168.0000 - val_mae: 4860.6104\n",
      "Epoch 241/500\n",
      "5905/5905 [==============================] - 31s 5ms/step - loss: 4818244608.0000 - mae: 4617.2300 - val_loss: 5525715456.0000 - val_mae: 3988.8857\n",
      "Epoch 242/500\n",
      "5905/5905 [==============================] - 31s 5ms/step - loss: 4797214720.0000 - mae: 4662.5161 - val_loss: 6227576320.0000 - val_mae: 5609.5029\n",
      "Epoch 243/500\n",
      "5905/5905 [==============================] - 31s 5ms/step - loss: 4949512704.0000 - mae: 4648.3525 - val_loss: 5645241344.0000 - val_mae: 4337.2427\n",
      "Epoch 244/500\n",
      "5905/5905 [==============================] - 31s 5ms/step - loss: 4889604608.0000 - mae: 4572.8848 - val_loss: 5238189568.0000 - val_mae: 5793.4419\n",
      "Epoch 245/500\n",
      "5905/5905 [==============================] - 31s 5ms/step - loss: 4816665600.0000 - mae: 4578.7817 - val_loss: 5280477696.0000 - val_mae: 5426.1025\n",
      "Epoch 246/500\n",
      "5905/5905 [==============================] - 31s 5ms/step - loss: 4798765568.0000 - mae: 4741.6460 - val_loss: 5448005120.0000 - val_mae: 4738.9795\n",
      "Epoch 247/500\n",
      "5905/5905 [==============================] - 31s 5ms/step - loss: 4845885440.0000 - mae: 4538.1436 - val_loss: 5708921344.0000 - val_mae: 4041.0420\n",
      "Epoch 248/500\n",
      "5905/5905 [==============================] - 31s 5ms/step - loss: 4837388800.0000 - mae: 4570.3989 - val_loss: 5270880768.0000 - val_mae: 4629.7295\n",
      "Epoch 249/500\n",
      "5905/5905 [==============================] - 31s 5ms/step - loss: 4778452992.0000 - mae: 4551.9502 - val_loss: 6931926528.0000 - val_mae: 6542.8770\n",
      "Epoch 250/500\n",
      "5905/5905 [==============================] - 31s 5ms/step - loss: 4789128704.0000 - mae: 4575.6343 - val_loss: 5295714304.0000 - val_mae: 4571.0938\n",
      "Epoch 251/500\n",
      "5905/5905 [==============================] - 31s 5ms/step - loss: 4751775232.0000 - mae: 4620.9263 - val_loss: 5263074816.0000 - val_mae: 5195.9731\n",
      "Epoch 252/500\n",
      "5905/5905 [==============================] - 31s 5ms/step - loss: 4813782528.0000 - mae: 4513.9233 - val_loss: 5355495424.0000 - val_mae: 3797.4160\n",
      "Epoch 253/500\n",
      "5905/5905 [==============================] - 31s 5ms/step - loss: 4720045568.0000 - mae: 4585.5498 - val_loss: 5301108736.0000 - val_mae: 4098.0825\n",
      "Epoch 254/500\n",
      "5905/5905 [==============================] - 32s 6ms/step - loss: 4803784192.0000 - mae: 4581.4517 - val_loss: 5255558656.0000 - val_mae: 4603.9619\n",
      "Epoch 255/500\n",
      "5905/5905 [==============================] - 32s 5ms/step - loss: 4784289280.0000 - mae: 4551.6914 - val_loss: 5674156032.0000 - val_mae: 4875.2852\n",
      "Epoch 256/500\n",
      "5905/5905 [==============================] - 33s 6ms/step - loss: 4753284096.0000 - mae: 4555.8071 - val_loss: 5147625984.0000 - val_mae: 4127.7100\n",
      "Epoch 257/500\n",
      "5905/5905 [==============================] - 33s 6ms/step - loss: 4793297920.0000 - mae: 4586.7837 - val_loss: 5113721856.0000 - val_mae: 3807.5994\n",
      "Epoch 258/500\n",
      "5905/5905 [==============================] - 32s 5ms/step - loss: 4759216640.0000 - mae: 4556.9097 - val_loss: 5241001984.0000 - val_mae: 4307.3145\n",
      "Epoch 259/500\n",
      "5905/5905 [==============================] - 32s 5ms/step - loss: 4758087680.0000 - mae: 4576.9175 - val_loss: 5839744512.0000 - val_mae: 4307.1987\n",
      "Epoch 260/500\n",
      "5905/5905 [==============================] - 32s 5ms/step - loss: 4729814016.0000 - mae: 4587.0264 - val_loss: 5327677440.0000 - val_mae: 4580.1763\n",
      "Epoch 261/500\n",
      "5905/5905 [==============================] - 32s 5ms/step - loss: 4709600256.0000 - mae: 4583.8467 - val_loss: 5213304832.0000 - val_mae: 4575.0464\n",
      "Epoch 262/500\n",
      "5905/5905 [==============================] - 32s 5ms/step - loss: 4656519168.0000 - mae: 4533.9395 - val_loss: 5649171456.0000 - val_mae: 5426.5151\n",
      "Epoch 263/500\n",
      "5905/5905 [==============================] - 32s 5ms/step - loss: 4758369280.0000 - mae: 4489.1821 - val_loss: 5635168768.0000 - val_mae: 5863.6738\n",
      "Epoch 264/500\n",
      "5905/5905 [==============================] - 31s 5ms/step - loss: 4734140928.0000 - mae: 4594.7285 - val_loss: 5054272000.0000 - val_mae: 4099.2007\n",
      "Epoch 265/500\n",
      "5905/5905 [==============================] - 31s 5ms/step - loss: 4682918400.0000 - mae: 4511.6802 - val_loss: 5416040960.0000 - val_mae: 4344.4932\n",
      "Epoch 266/500\n",
      "5905/5905 [==============================] - 31s 5ms/step - loss: 4737197568.0000 - mae: 4539.6929 - val_loss: 5814233088.0000 - val_mae: 4053.7390\n",
      "Epoch 267/500\n",
      "5905/5905 [==============================] - 31s 5ms/step - loss: 4630255104.0000 - mae: 4492.3364 - val_loss: 5308853760.0000 - val_mae: 4662.2559\n",
      "Epoch 268/500\n",
      "5905/5905 [==============================] - 31s 5ms/step - loss: 4782345728.0000 - mae: 4492.3633 - val_loss: 5053650944.0000 - val_mae: 4098.1152\n",
      "Epoch 269/500\n",
      "5905/5905 [==============================] - 31s 5ms/step - loss: 4710561792.0000 - mae: 4464.6982 - val_loss: 5114482176.0000 - val_mae: 4613.6543\n",
      "Epoch 270/500\n",
      "5905/5905 [==============================] - 31s 5ms/step - loss: 4651225600.0000 - mae: 4545.2520 - val_loss: 5135824384.0000 - val_mae: 4308.4829\n",
      "Epoch 271/500\n",
      "5905/5905 [==============================] - 32s 5ms/step - loss: 4628333568.0000 - mae: 4522.5088 - val_loss: 5145026560.0000 - val_mae: 5743.9258\n",
      "Epoch 272/500\n",
      "5905/5905 [==============================] - 32s 5ms/step - loss: 4608297984.0000 - mae: 4567.0811 - val_loss: 5378558976.0000 - val_mae: 3687.0850\n",
      "Epoch 273/500\n",
      "5905/5905 [==============================] - 32s 5ms/step - loss: 4624912384.0000 - mae: 4510.9009 - val_loss: 5384672256.0000 - val_mae: 4384.8760\n",
      "Epoch 274/500\n",
      "5905/5905 [==============================] - 32s 5ms/step - loss: 4759078912.0000 - mae: 4480.5234 - val_loss: 5190619136.0000 - val_mae: 4776.6401\n",
      "Epoch 275/500\n",
      "5905/5905 [==============================] - 32s 5ms/step - loss: 4693790208.0000 - mae: 4457.7739 - val_loss: 5110674944.0000 - val_mae: 3875.4666\n",
      "Epoch 276/500\n",
      "5905/5905 [==============================] - 32s 5ms/step - loss: 4649053184.0000 - mae: 4449.7490 - val_loss: 4951451648.0000 - val_mae: 3947.8059\n",
      "Epoch 277/500\n",
      "5905/5905 [==============================] - 32s 5ms/step - loss: 4635609600.0000 - mae: 4472.3975 - val_loss: 4969118208.0000 - val_mae: 4880.3115\n",
      "Epoch 278/500\n",
      "5905/5905 [==============================] - 32s 5ms/step - loss: 4654961152.0000 - mae: 4380.1240 - val_loss: 5255921152.0000 - val_mae: 4647.2080\n",
      "Epoch 279/500\n",
      "5905/5905 [==============================] - 32s 5ms/step - loss: 4537998848.0000 - mae: 4372.7085 - val_loss: 5279197696.0000 - val_mae: 4054.8582\n",
      "Epoch 280/500\n",
      "5905/5905 [==============================] - 32s 5ms/step - loss: 4700388352.0000 - mae: 4472.4863 - val_loss: 4929103872.0000 - val_mae: 3962.3997\n",
      "Epoch 281/500\n",
      "5905/5905 [==============================] - 32s 5ms/step - loss: 4566868992.0000 - mae: 4294.2788 - val_loss: 5056588288.0000 - val_mae: 4224.1729\n",
      "Epoch 282/500\n",
      "5905/5905 [==============================] - 33s 6ms/step - loss: 4687762432.0000 - mae: 4355.5586 - val_loss: 5067189248.0000 - val_mae: 3712.0894\n",
      "Epoch 283/500\n",
      "5905/5905 [==============================] - 32s 5ms/step - loss: 4756436992.0000 - mae: 4436.3623 - val_loss: 5590658048.0000 - val_mae: 5033.6372\n",
      "Epoch 284/500\n",
      "5905/5905 [==============================] - 33s 6ms/step - loss: 4634470912.0000 - mae: 4409.4541 - val_loss: 5926790656.0000 - val_mae: 3467.1990\n",
      "Epoch 285/500\n",
      "5905/5905 [==============================] - 34s 6ms/step - loss: 4701037056.0000 - mae: 4360.5239 - val_loss: 4982297600.0000 - val_mae: 3543.9900\n",
      "Epoch 286/500\n",
      "5905/5905 [==============================] - 34s 6ms/step - loss: 4464901632.0000 - mae: 4193.5332 - val_loss: 6024816640.0000 - val_mae: 5412.3223\n",
      "Epoch 287/500\n",
      "5905/5905 [==============================] - 34s 6ms/step - loss: 4599637504.0000 - mae: 4348.1777 - val_loss: 4947617280.0000 - val_mae: 4834.3535\n",
      "Epoch 288/500\n",
      "5905/5905 [==============================] - 34s 6ms/step - loss: 4592734720.0000 - mae: 4292.4707 - val_loss: 5257988096.0000 - val_mae: 3669.9929\n",
      "Epoch 289/500\n",
      "5905/5905 [==============================] - 34s 6ms/step - loss: 4614982656.0000 - mae: 4331.4702 - val_loss: 4987120128.0000 - val_mae: 3590.5500\n",
      "Epoch 290/500\n",
      "5905/5905 [==============================] - 33s 6ms/step - loss: 4547380224.0000 - mae: 4252.6997 - val_loss: 4970683904.0000 - val_mae: 4592.6528\n",
      "Epoch 291/500\n",
      "5905/5905 [==============================] - 33s 6ms/step - loss: 4579229696.0000 - mae: 4268.8867 - val_loss: 4966241280.0000 - val_mae: 4075.4531\n",
      "Epoch 292/500\n",
      "5905/5905 [==============================] - 33s 6ms/step - loss: 4478798336.0000 - mae: 4310.0654 - val_loss: 4933251072.0000 - val_mae: 5201.5435\n",
      "Epoch 293/500\n",
      "5905/5905 [==============================] - 33s 6ms/step - loss: 4644210688.0000 - mae: 4403.6216 - val_loss: 4854681088.0000 - val_mae: 3985.2737\n",
      "Epoch 294/500\n",
      "5905/5905 [==============================] - 33s 6ms/step - loss: 4611365888.0000 - mae: 4284.7607 - val_loss: 5004920320.0000 - val_mae: 4031.8914\n",
      "Epoch 295/500\n",
      "5905/5905 [==============================] - 33s 6ms/step - loss: 4573058048.0000 - mae: 4202.5669 - val_loss: 4995542016.0000 - val_mae: 3733.7009\n",
      "Epoch 296/500\n",
      "5905/5905 [==============================] - 33s 6ms/step - loss: 4611387392.0000 - mae: 4302.4805 - val_loss: 5273382400.0000 - val_mae: 4546.1738\n",
      "Epoch 297/500\n",
      "5905/5905 [==============================] - 33s 6ms/step - loss: 4450883584.0000 - mae: 4271.9946 - val_loss: 5863182336.0000 - val_mae: 3972.9363\n",
      "Epoch 298/500\n",
      "5905/5905 [==============================] - 33s 6ms/step - loss: 4549059072.0000 - mae: 4173.8716 - val_loss: 5388654080.0000 - val_mae: 3489.2039\n",
      "Epoch 299/500\n",
      "5905/5905 [==============================] - 33s 6ms/step - loss: 4636180992.0000 - mae: 4330.7886 - val_loss: 4905019392.0000 - val_mae: 4839.3091\n",
      "Epoch 300/500\n",
      "5905/5905 [==============================] - 34s 6ms/step - loss: 4581916160.0000 - mae: 4185.7759 - val_loss: 4759975424.0000 - val_mae: 3495.3906\n",
      "Epoch 301/500\n",
      "5905/5905 [==============================] - 34s 6ms/step - loss: 4479045120.0000 - mae: 4236.8765 - val_loss: 4606378496.0000 - val_mae: 3680.3662\n",
      "Epoch 302/500\n",
      "5905/5905 [==============================] - 35s 6ms/step - loss: 4342825472.0000 - mae: 4264.2573 - val_loss: 4887395328.0000 - val_mae: 5412.0376\n",
      "Epoch 303/500\n",
      "5905/5905 [==============================] - 34s 6ms/step - loss: 4508424704.0000 - mae: 4265.6270 - val_loss: 5214603264.0000 - val_mae: 3428.8613\n",
      "Epoch 304/500\n",
      "5905/5905 [==============================] - 34s 6ms/step - loss: 4445788160.0000 - mae: 4210.4517 - val_loss: 4788511744.0000 - val_mae: 5448.0532\n",
      "Epoch 305/500\n",
      "5905/5905 [==============================] - 34s 6ms/step - loss: 4403731456.0000 - mae: 4169.8066 - val_loss: 5841562112.0000 - val_mae: 3078.0322\n",
      "Epoch 306/500\n",
      "5905/5905 [==============================] - 34s 6ms/step - loss: 4380548608.0000 - mae: 4108.8252 - val_loss: 4570328576.0000 - val_mae: 4147.6689\n",
      "Epoch 307/500\n",
      "5905/5905 [==============================] - 35s 6ms/step - loss: 4368524800.0000 - mae: 4207.2227 - val_loss: 5797650944.0000 - val_mae: 3891.0120\n",
      "Epoch 308/500\n",
      "5905/5905 [==============================] - 34s 6ms/step - loss: 4470056960.0000 - mae: 4226.5049 - val_loss: 5381768704.0000 - val_mae: 3203.2446\n",
      "Epoch 309/500\n",
      "5905/5905 [==============================] - 35s 6ms/step - loss: 4378245120.0000 - mae: 4251.0835 - val_loss: 4705566720.0000 - val_mae: 4857.5981\n",
      "Epoch 310/500\n",
      "5905/5905 [==============================] - 34s 6ms/step - loss: 4413357056.0000 - mae: 4168.2734 - val_loss: 4349242880.0000 - val_mae: 4270.2754\n",
      "Epoch 311/500\n",
      "5905/5905 [==============================] - 34s 6ms/step - loss: 4386261504.0000 - mae: 4224.6108 - val_loss: 4658674176.0000 - val_mae: 3627.9614\n",
      "Epoch 312/500\n",
      "5905/5905 [==============================] - 34s 6ms/step - loss: 4510963200.0000 - mae: 4257.9639 - val_loss: 4467567616.0000 - val_mae: 4017.6646\n",
      "Epoch 313/500\n",
      "5905/5905 [==============================] - 34s 6ms/step - loss: 4381265408.0000 - mae: 4227.1230 - val_loss: 4472171008.0000 - val_mae: 3618.3469\n",
      "Epoch 314/500\n",
      "5905/5905 [==============================] - 34s 6ms/step - loss: 4341315072.0000 - mae: 4140.6357 - val_loss: 4525347840.0000 - val_mae: 4172.7139\n",
      "Epoch 315/500\n",
      "5905/5905 [==============================] - 34s 6ms/step - loss: 4363617280.0000 - mae: 4168.6289 - val_loss: 4520078848.0000 - val_mae: 3632.3674\n",
      "Epoch 316/500\n",
      "5905/5905 [==============================] - 34s 6ms/step - loss: 4276011008.0000 - mae: 4190.7500 - val_loss: 4375975936.0000 - val_mae: 3469.4319\n",
      "Epoch 317/500\n",
      "5905/5905 [==============================] - 34s 6ms/step - loss: 4346205696.0000 - mae: 4096.4448 - val_loss: 4609845760.0000 - val_mae: 3738.7202\n",
      "Epoch 318/500\n",
      "5905/5905 [==============================] - 34s 6ms/step - loss: 4302069760.0000 - mae: 4114.0508 - val_loss: 4394776576.0000 - val_mae: 3681.7288\n",
      "Epoch 319/500\n",
      "5905/5905 [==============================] - 34s 6ms/step - loss: 4372701696.0000 - mae: 4131.2930 - val_loss: 5680922112.0000 - val_mae: 3496.8030\n",
      "Epoch 320/500\n",
      "5905/5905 [==============================] - 34s 6ms/step - loss: 4148723968.0000 - mae: 4117.0205 - val_loss: 8875205632.0000 - val_mae: 7257.1875\n",
      "Epoch 321/500\n",
      "5905/5905 [==============================] - 34s 6ms/step - loss: 4340931584.0000 - mae: 4125.2593 - val_loss: 4911980544.0000 - val_mae: 4443.5332\n",
      "Epoch 322/500\n",
      "5905/5905 [==============================] - 34s 6ms/step - loss: 4292954112.0000 - mae: 4150.8257 - val_loss: 6183758336.0000 - val_mae: 6813.5439\n",
      "Epoch 323/500\n",
      "5905/5905 [==============================] - 34s 6ms/step - loss: 4214054656.0000 - mae: 4168.4546 - val_loss: 4946739200.0000 - val_mae: 3539.4126\n",
      "Epoch 324/500\n",
      "5905/5905 [==============================] - 34s 6ms/step - loss: 4274534400.0000 - mae: 4099.2002 - val_loss: 5048843264.0000 - val_mae: 4112.2524\n",
      "Epoch 325/500\n",
      "5905/5905 [==============================] - 34s 6ms/step - loss: 4278934528.0000 - mae: 4052.6082 - val_loss: 4255951616.0000 - val_mae: 4655.1089\n",
      "Epoch 326/500\n",
      "5905/5905 [==============================] - 34s 6ms/step - loss: 4225078528.0000 - mae: 4087.6453 - val_loss: 4435082240.0000 - val_mae: 3716.0154\n",
      "Epoch 327/500\n",
      "5905/5905 [==============================] - 34s 6ms/step - loss: 4319405056.0000 - mae: 4122.7612 - val_loss: 4342707712.0000 - val_mae: 4035.6760\n",
      "Epoch 328/500\n",
      "5905/5905 [==============================] - 34s 6ms/step - loss: 4294412544.0000 - mae: 4164.9722 - val_loss: 4302346752.0000 - val_mae: 4253.4702\n",
      "Epoch 329/500\n",
      "5905/5905 [==============================] - 34s 6ms/step - loss: 4270537216.0000 - mae: 4066.8230 - val_loss: 10674677760.0000 - val_mae: 7987.4316\n",
      "Epoch 330/500\n",
      "5905/5905 [==============================] - 34s 6ms/step - loss: 4325800960.0000 - mae: 4088.1392 - val_loss: 5581892608.0000 - val_mae: 4477.0220\n",
      "Epoch 331/500\n",
      "5905/5905 [==============================] - 34s 6ms/step - loss: 4213038848.0000 - mae: 4126.1201 - val_loss: 4238734080.0000 - val_mae: 5038.1509\n",
      "Epoch 332/500\n",
      "5905/5905 [==============================] - 34s 6ms/step - loss: 4042768640.0000 - mae: 4010.3564 - val_loss: 4142918144.0000 - val_mae: 3715.2690\n",
      "Epoch 333/500\n",
      "5905/5905 [==============================] - 34s 6ms/step - loss: 4243992832.0000 - mae: 4015.3752 - val_loss: 4877846528.0000 - val_mae: 5853.5586\n",
      "Epoch 334/500\n",
      "5905/5905 [==============================] - 34s 6ms/step - loss: 4029495808.0000 - mae: 4086.0991 - val_loss: 3926549504.0000 - val_mae: 4080.9280\n",
      "Epoch 335/500\n",
      "5905/5905 [==============================] - 36s 6ms/step - loss: 4212217856.0000 - mae: 4000.0310 - val_loss: 5147048448.0000 - val_mae: 3209.3264\n",
      "Epoch 336/500\n",
      "5905/5905 [==============================] - 36s 6ms/step - loss: 4014509568.0000 - mae: 4093.0398 - val_loss: 5964463616.0000 - val_mae: 3518.7363\n",
      "Epoch 337/500\n",
      "5905/5905 [==============================] - 35s 6ms/step - loss: 4222756608.0000 - mae: 3964.1494 - val_loss: 4778913792.0000 - val_mae: 3357.5500\n",
      "Epoch 338/500\n",
      "5905/5905 [==============================] - 35s 6ms/step - loss: 4118021120.0000 - mae: 4075.4778 - val_loss: 4217472000.0000 - val_mae: 4113.1895\n",
      "Epoch 339/500\n",
      "5905/5905 [==============================] - 35s 6ms/step - loss: 4078622976.0000 - mae: 3996.8367 - val_loss: 4041320448.0000 - val_mae: 4158.6548\n",
      "Epoch 340/500\n",
      "5905/5905 [==============================] - 35s 6ms/step - loss: 4211194880.0000 - mae: 3956.3516 - val_loss: 5615832064.0000 - val_mae: 3441.3271\n",
      "Epoch 341/500\n",
      "5905/5905 [==============================] - 35s 6ms/step - loss: 4152029952.0000 - mae: 3946.6489 - val_loss: 5507080192.0000 - val_mae: 3043.7393\n",
      "Epoch 342/500\n",
      "5905/5905 [==============================] - 35s 6ms/step - loss: 4148653056.0000 - mae: 4029.6724 - val_loss: 5051619840.0000 - val_mae: 3166.3699\n",
      "Epoch 343/500\n",
      "5905/5905 [==============================] - 35s 6ms/step - loss: 4194904832.0000 - mae: 4067.6650 - val_loss: 4322825728.0000 - val_mae: 3386.5054\n",
      "Epoch 344/500\n",
      "5905/5905 [==============================] - 35s 6ms/step - loss: 4126899968.0000 - mae: 4040.2258 - val_loss: 3965732352.0000 - val_mae: 3095.2163\n",
      "Epoch 345/500\n",
      "5905/5905 [==============================] - 36s 6ms/step - loss: 4172019968.0000 - mae: 4031.6873 - val_loss: 7580978688.0000 - val_mae: 5895.8086\n",
      "Epoch 346/500\n",
      "5905/5905 [==============================] - 36s 6ms/step - loss: 3991327488.0000 - mae: 3958.2920 - val_loss: 8191842304.0000 - val_mae: 6094.5078\n",
      "Epoch 347/500\n",
      "5905/5905 [==============================] - 35s 6ms/step - loss: 4194735616.0000 - mae: 3903.6316 - val_loss: 4071533312.0000 - val_mae: 5705.3877\n",
      "Epoch 348/500\n",
      "5905/5905 [==============================] - 35s 6ms/step - loss: 4140651264.0000 - mae: 3934.5288 - val_loss: 4264328960.0000 - val_mae: 3903.1252\n",
      "Epoch 349/500\n",
      "5905/5905 [==============================] - 35s 6ms/step - loss: 4226623744.0000 - mae: 3977.3096 - val_loss: 4756345856.0000 - val_mae: 3653.6392\n",
      "Epoch 350/500\n",
      "5905/5905 [==============================] - 35s 6ms/step - loss: 4021532928.0000 - mae: 3846.6689 - val_loss: 11241247744.0000 - val_mae: 6817.3418\n",
      "Epoch 351/500\n",
      "5905/5905 [==============================] - 35s 6ms/step - loss: 4103764992.0000 - mae: 3886.6411 - val_loss: 4211111936.0000 - val_mae: 2936.6765\n",
      "Epoch 352/500\n",
      "5905/5905 [==============================] - 35s 6ms/step - loss: 3979453184.0000 - mae: 3872.8525 - val_loss: 6776142336.0000 - val_mae: 5582.0356\n",
      "Epoch 353/500\n",
      "5905/5905 [==============================] - 35s 6ms/step - loss: 4177333760.0000 - mae: 3859.9568 - val_loss: 5014787584.0000 - val_mae: 2811.8772\n",
      "Epoch 354/500\n",
      "5905/5905 [==============================] - 36s 6ms/step - loss: 4106128384.0000 - mae: 3869.2278 - val_loss: 5658136064.0000 - val_mae: 2959.2231\n",
      "Epoch 355/500\n",
      "5905/5905 [==============================] - 35s 6ms/step - loss: 4130636800.0000 - mae: 3962.1682 - val_loss: 3915374080.0000 - val_mae: 3748.4001\n",
      "Epoch 356/500\n",
      "5905/5905 [==============================] - 35s 6ms/step - loss: 4026341888.0000 - mae: 3939.6099 - val_loss: 3851851008.0000 - val_mae: 4177.3926\n",
      "Epoch 357/500\n",
      "5905/5905 [==============================] - 35s 6ms/step - loss: 4083479040.0000 - mae: 3879.7314 - val_loss: 3803891968.0000 - val_mae: 4747.7437\n",
      "Epoch 358/500\n",
      "5905/5905 [==============================] - 35s 6ms/step - loss: 3755086336.0000 - mae: 3810.0781 - val_loss: 4878260224.0000 - val_mae: 5282.6660\n",
      "Epoch 359/500\n",
      "5905/5905 [==============================] - 35s 6ms/step - loss: 3939171840.0000 - mae: 3950.5398 - val_loss: 3786902016.0000 - val_mae: 3263.3665\n",
      "Epoch 360/500\n",
      "5905/5905 [==============================] - 35s 6ms/step - loss: 4058170880.0000 - mae: 3797.0774 - val_loss: 3702845952.0000 - val_mae: 3257.5176\n",
      "Epoch 361/500\n",
      "5905/5905 [==============================] - 37s 6ms/step - loss: 4109684224.0000 - mae: 3901.3840 - val_loss: 4723265024.0000 - val_mae: 3469.5356\n",
      "Epoch 362/500\n",
      "5905/5905 [==============================] - 36s 6ms/step - loss: 4120497664.0000 - mae: 3847.8770 - val_loss: 3799614208.0000 - val_mae: 3524.1707\n",
      "Epoch 363/500\n",
      "5905/5905 [==============================] - 36s 6ms/step - loss: 4066727424.0000 - mae: 3838.1980 - val_loss: 4252213760.0000 - val_mae: 4462.1724\n",
      "Epoch 364/500\n",
      "5905/5905 [==============================] - 36s 6ms/step - loss: 3951010816.0000 - mae: 3930.7092 - val_loss: 5132486656.0000 - val_mae: 3258.4521\n",
      "Epoch 365/500\n",
      "5905/5905 [==============================] - 36s 6ms/step - loss: 3923690496.0000 - mae: 3795.2498 - val_loss: 4034409216.0000 - val_mae: 3005.0376\n",
      "Epoch 366/500\n",
      "5905/5905 [==============================] - 35s 6ms/step - loss: 4033834496.0000 - mae: 3851.7285 - val_loss: 4578081792.0000 - val_mae: 5100.8032\n",
      "Epoch 367/500\n",
      "5905/5905 [==============================] - 35s 6ms/step - loss: 3652249600.0000 - mae: 3709.3252 - val_loss: 4956033536.0000 - val_mae: 3288.2705\n",
      "Epoch 368/500\n",
      "5905/5905 [==============================] - 35s 6ms/step - loss: 3862434560.0000 - mae: 3776.9609 - val_loss: 3662726656.0000 - val_mae: 4049.4380\n",
      "Epoch 369/500\n",
      "5905/5905 [==============================] - 35s 6ms/step - loss: 3982249472.0000 - mae: 3821.4619 - val_loss: 3758414848.0000 - val_mae: 5424.2061\n",
      "Epoch 370/500\n",
      "5905/5905 [==============================] - 35s 6ms/step - loss: 4021888512.0000 - mae: 3780.7524 - val_loss: 3763092224.0000 - val_mae: 6350.1440\n",
      "Epoch 371/500\n",
      "5905/5905 [==============================] - 35s 6ms/step - loss: 3930812416.0000 - mae: 3736.8247 - val_loss: 4951249920.0000 - val_mae: 5238.1997\n",
      "Epoch 372/500\n",
      "5905/5905 [==============================] - 36s 6ms/step - loss: 3883809024.0000 - mae: 3847.1819 - val_loss: 3679603456.0000 - val_mae: 3988.8789\n",
      "Epoch 373/500\n",
      "5905/5905 [==============================] - 35s 6ms/step - loss: 3980350208.0000 - mae: 3816.9951 - val_loss: 3822232832.0000 - val_mae: 5491.9790\n",
      "Epoch 374/500\n",
      "5905/5905 [==============================] - 36s 6ms/step - loss: 4020179968.0000 - mae: 3929.1079 - val_loss: 4142476032.0000 - val_mae: 3619.9841\n",
      "Epoch 375/500\n",
      "5905/5905 [==============================] - 35s 6ms/step - loss: 4026526464.0000 - mae: 3881.8044 - val_loss: 6519750656.0000 - val_mae: 5277.3271\n",
      "Epoch 376/500\n",
      "5905/5905 [==============================] - 35s 6ms/step - loss: 3844605440.0000 - mae: 3772.5947 - val_loss: 3723553536.0000 - val_mae: 4099.2271\n",
      "Epoch 377/500\n",
      "5905/5905 [==============================] - 35s 6ms/step - loss: 3753966592.0000 - mae: 3758.2668 - val_loss: 3834943232.0000 - val_mae: 3099.3159\n",
      "Epoch 378/500\n",
      "5905/5905 [==============================] - 35s 6ms/step - loss: 3937178112.0000 - mae: 3784.3677 - val_loss: 5406809600.0000 - val_mae: 3375.6228\n",
      "Epoch 379/500\n",
      "5905/5905 [==============================] - 36s 6ms/step - loss: 4042416896.0000 - mae: 3792.6748 - val_loss: 3627577600.0000 - val_mae: 3260.1357\n",
      "Epoch 380/500\n",
      "5905/5905 [==============================] - 35s 6ms/step - loss: 3982474752.0000 - mae: 3846.0513 - val_loss: 5146183168.0000 - val_mae: 5959.3467\n",
      "Epoch 381/500\n",
      "5905/5905 [==============================] - 35s 6ms/step - loss: 3891926272.0000 - mae: 3892.1277 - val_loss: 3916134656.0000 - val_mae: 4671.1895\n",
      "Epoch 382/500\n",
      "5905/5905 [==============================] - 36s 6ms/step - loss: 3730880256.0000 - mae: 3735.9670 - val_loss: 3877761792.0000 - val_mae: 3822.7822\n",
      "Epoch 383/500\n",
      "5905/5905 [==============================] - 35s 6ms/step - loss: 3927658496.0000 - mae: 3807.2610 - val_loss: 3685553920.0000 - val_mae: 3711.5144\n",
      "Epoch 384/500\n",
      "5905/5905 [==============================] - 35s 6ms/step - loss: 3926418688.0000 - mae: 3833.0774 - val_loss: 5498305024.0000 - val_mae: 3779.1421\n",
      "Epoch 385/500\n",
      "5905/5905 [==============================] - 35s 6ms/step - loss: 3983000064.0000 - mae: 3902.5269 - val_loss: 4544427008.0000 - val_mae: 4574.0103\n",
      "Epoch 386/500\n",
      "5905/5905 [==============================] - 36s 6ms/step - loss: 3970386688.0000 - mae: 3747.9363 - val_loss: 4026969600.0000 - val_mae: 4776.0239\n",
      "Epoch 387/500\n",
      "5905/5905 [==============================] - 36s 6ms/step - loss: 4029465344.0000 - mae: 3809.7949 - val_loss: 4012150784.0000 - val_mae: 2963.6912\n",
      "Epoch 388/500\n",
      "5905/5905 [==============================] - 35s 6ms/step - loss: 4094451200.0000 - mae: 3857.0366 - val_loss: 4422090240.0000 - val_mae: 3042.1348\n",
      "Epoch 389/500\n",
      "5905/5905 [==============================] - 35s 6ms/step - loss: 3923397632.0000 - mae: 3738.1028 - val_loss: 3942152960.0000 - val_mae: 2887.4438\n",
      "Epoch 390/500\n",
      "5905/5905 [==============================] - 35s 6ms/step - loss: 3838643968.0000 - mae: 3790.1067 - val_loss: 3779997952.0000 - val_mae: 2882.2148\n",
      "Epoch 391/500\n",
      "5905/5905 [==============================] - 36s 6ms/step - loss: 3786601728.0000 - mae: 3708.5234 - val_loss: 3594776832.0000 - val_mae: 3610.1914\n",
      "Epoch 392/500\n",
      "5905/5905 [==============================] - 35s 6ms/step - loss: 3907089664.0000 - mae: 3816.0134 - val_loss: 4628462080.0000 - val_mae: 2688.3059\n",
      "Epoch 393/500\n",
      "5905/5905 [==============================] - 36s 6ms/step - loss: 3846736896.0000 - mae: 3767.2080 - val_loss: 3398815744.0000 - val_mae: 3988.1338\n",
      "Epoch 394/500\n",
      "5905/5905 [==============================] - 36s 6ms/step - loss: 3930167040.0000 - mae: 3722.7625 - val_loss: 3489364224.0000 - val_mae: 3524.7942\n",
      "Epoch 395/500\n",
      "5905/5905 [==============================] - 36s 6ms/step - loss: 3598356992.0000 - mae: 3621.7966 - val_loss: 3648588544.0000 - val_mae: 3079.6570\n",
      "Epoch 396/500\n",
      "5905/5905 [==============================] - 36s 6ms/step - loss: 3858372608.0000 - mae: 3704.1936 - val_loss: 3637670144.0000 - val_mae: 3468.9871\n",
      "Epoch 397/500\n",
      "5905/5905 [==============================] - 36s 6ms/step - loss: 3932897024.0000 - mae: 3730.1340 - val_loss: 3469681408.0000 - val_mae: 4711.8721\n",
      "Epoch 398/500\n",
      "5905/5905 [==============================] - 36s 6ms/step - loss: 3787626752.0000 - mae: 3702.0366 - val_loss: 4212118528.0000 - val_mae: 3927.2029\n",
      "Epoch 399/500\n",
      "5905/5905 [==============================] - 36s 6ms/step - loss: 3857821184.0000 - mae: 3791.2769 - val_loss: 5924978688.0000 - val_mae: 3350.5461\n",
      "Epoch 400/500\n",
      "5905/5905 [==============================] - 36s 6ms/step - loss: 3797007360.0000 - mae: 3722.2422 - val_loss: 3354048256.0000 - val_mae: 2864.7212\n",
      "Epoch 401/500\n",
      "5905/5905 [==============================] - 36s 6ms/step - loss: 3599001088.0000 - mae: 3615.2800 - val_loss: 4410106880.0000 - val_mae: 4890.1807\n",
      "Epoch 402/500\n",
      "5905/5905 [==============================] - 36s 6ms/step - loss: 3772257792.0000 - mae: 3732.7754 - val_loss: 4959809024.0000 - val_mae: 4527.4512\n",
      "Epoch 403/500\n",
      "5905/5905 [==============================] - 36s 6ms/step - loss: 3922052864.0000 - mae: 3730.4067 - val_loss: 3428496128.0000 - val_mae: 3744.7383\n",
      "Epoch 404/500\n",
      "5905/5905 [==============================] - 36s 6ms/step - loss: 3794271232.0000 - mae: 3708.8508 - val_loss: 3615829760.0000 - val_mae: 3515.8347\n",
      "Epoch 405/500\n",
      "5905/5905 [==============================] - 36s 6ms/step - loss: 3831881472.0000 - mae: 3754.6335 - val_loss: 5584137728.0000 - val_mae: 3115.5862\n",
      "Epoch 406/500\n",
      "5905/5905 [==============================] - 36s 6ms/step - loss: 3746222848.0000 - mae: 3675.1614 - val_loss: 4342765568.0000 - val_mae: 5375.8809\n",
      "Epoch 407/500\n",
      "5905/5905 [==============================] - 37s 6ms/step - loss: 3850885888.0000 - mae: 3656.0415 - val_loss: 3241151744.0000 - val_mae: 4841.7598\n",
      "Epoch 408/500\n",
      "5905/5905 [==============================] - 36s 6ms/step - loss: 3669645824.0000 - mae: 3760.9873 - val_loss: 3340121088.0000 - val_mae: 3325.2791\n",
      "Epoch 409/500\n",
      "5905/5905 [==============================] - 36s 6ms/step - loss: 3567463680.0000 - mae: 3625.5234 - val_loss: 3450804224.0000 - val_mae: 2955.3491\n",
      "Epoch 410/500\n",
      "5905/5905 [==============================] - 36s 6ms/step - loss: 3940696576.0000 - mae: 3704.3298 - val_loss: 3444918784.0000 - val_mae: 4028.0994\n",
      "Epoch 411/500\n",
      "5905/5905 [==============================] - 37s 6ms/step - loss: 3724690944.0000 - mae: 3720.2383 - val_loss: 3341355264.0000 - val_mae: 3310.6843\n",
      "Epoch 412/500\n",
      "5905/5905 [==============================] - 37s 6ms/step - loss: 3824226560.0000 - mae: 3641.4941 - val_loss: 3305084928.0000 - val_mae: 3107.7390\n",
      "Epoch 413/500\n",
      "5905/5905 [==============================] - 36s 6ms/step - loss: 3828522496.0000 - mae: 3633.3054 - val_loss: 3379393280.0000 - val_mae: 4657.9404\n",
      "Epoch 414/500\n",
      "5905/5905 [==============================] - 36s 6ms/step - loss: 3716765440.0000 - mae: 3698.2651 - val_loss: 4146832640.0000 - val_mae: 2995.7390\n",
      "Epoch 415/500\n",
      "5905/5905 [==============================] - 36s 6ms/step - loss: 3702680064.0000 - mae: 3713.9421 - val_loss: 3653084416.0000 - val_mae: 3034.0864\n",
      "Epoch 416/500\n",
      "5905/5905 [==============================] - 36s 6ms/step - loss: 3817218560.0000 - mae: 3715.0200 - val_loss: 4536874496.0000 - val_mae: 2906.0325\n",
      "Epoch 417/500\n",
      "5905/5905 [==============================] - 36s 6ms/step - loss: 3824793600.0000 - mae: 3664.8879 - val_loss: 3674822144.0000 - val_mae: 5851.8716\n",
      "Epoch 418/500\n",
      "5905/5905 [==============================] - 36s 6ms/step - loss: 3849577472.0000 - mae: 3685.2705 - val_loss: 4093041664.0000 - val_mae: 2860.7656\n",
      "Epoch 419/500\n",
      "5905/5905 [==============================] - 37s 6ms/step - loss: 3698825216.0000 - mae: 3638.5120 - val_loss: 3288862976.0000 - val_mae: 3236.9094\n",
      "Epoch 420/500\n",
      "5905/5905 [==============================] - 37s 6ms/step - loss: 3811604736.0000 - mae: 3577.9648 - val_loss: 4022564352.0000 - val_mae: 3588.8340\n",
      "Epoch 421/500\n",
      "5905/5905 [==============================] - 37s 6ms/step - loss: 3782765824.0000 - mae: 3614.3789 - val_loss: 3615122432.0000 - val_mae: 4501.9263\n",
      "Epoch 422/500\n",
      "5905/5905 [==============================] - 37s 6ms/step - loss: 3694971648.0000 - mae: 3648.5630 - val_loss: 4728368640.0000 - val_mae: 2768.2673\n",
      "Epoch 423/500\n",
      "5905/5905 [==============================] - 37s 6ms/step - loss: 3549530112.0000 - mae: 3560.5874 - val_loss: 3196650496.0000 - val_mae: 2717.8359\n",
      "Epoch 424/500\n",
      "5905/5905 [==============================] - 38s 6ms/step - loss: 3555825920.0000 - mae: 3630.1216 - val_loss: 4612142080.0000 - val_mae: 2737.8738\n",
      "Epoch 425/500\n",
      "5905/5905 [==============================] - 37s 6ms/step - loss: 4038654976.0000 - mae: 3635.8328 - val_loss: 4513911808.0000 - val_mae: 2836.6082\n",
      "Epoch 426/500\n",
      "5905/5905 [==============================] - 37s 6ms/step - loss: 3767328768.0000 - mae: 3617.1572 - val_loss: 3582110208.0000 - val_mae: 3501.5139\n",
      "Epoch 427/500\n",
      "5905/5905 [==============================] - 37s 6ms/step - loss: 3806224128.0000 - mae: 3544.6509 - val_loss: 3326745344.0000 - val_mae: 3215.8606\n",
      "Epoch 428/500\n",
      "5905/5905 [==============================] - 37s 6ms/step - loss: 3788982016.0000 - mae: 3656.5852 - val_loss: 3226580224.0000 - val_mae: 3049.9326\n",
      "Epoch 429/500\n",
      "5905/5905 [==============================] - 37s 6ms/step - loss: 3757541632.0000 - mae: 3655.7314 - val_loss: 3347403008.0000 - val_mae: 4228.3735\n",
      "Epoch 430/500\n",
      "5905/5905 [==============================] - 37s 6ms/step - loss: 3440068864.0000 - mae: 3428.4934 - val_loss: 3431320064.0000 - val_mae: 2978.0530\n",
      "Epoch 431/500\n",
      "5905/5905 [==============================] - 37s 6ms/step - loss: 3728208128.0000 - mae: 3543.9810 - val_loss: 10256525312.0000 - val_mae: 5455.2744\n",
      "Epoch 432/500\n",
      "5905/5905 [==============================] - 37s 6ms/step - loss: 3604979456.0000 - mae: 3680.1338 - val_loss: 3326178048.0000 - val_mae: 3495.9009\n",
      "Epoch 433/500\n",
      "5905/5905 [==============================] - 37s 6ms/step - loss: 3988610816.0000 - mae: 3675.2881 - val_loss: 4727476736.0000 - val_mae: 7628.0176\n",
      "Epoch 434/500\n",
      "5905/5905 [==============================] - 37s 6ms/step - loss: 3786733824.0000 - mae: 3579.7085 - val_loss: 3437973760.0000 - val_mae: 3255.6560\n",
      "Epoch 435/500\n",
      "5905/5905 [==============================] - 37s 6ms/step - loss: 3494250496.0000 - mae: 3500.7817 - val_loss: 3292513024.0000 - val_mae: 3450.1650\n",
      "Epoch 436/500\n",
      "5905/5905 [==============================] - 39s 7ms/step - loss: 3812188160.0000 - mae: 3611.5210 - val_loss: 5817219072.0000 - val_mae: 4812.6152\n",
      "Epoch 437/500\n",
      "5905/5905 [==============================] - 37s 6ms/step - loss: 3667949824.0000 - mae: 3511.3323 - val_loss: 4100506880.0000 - val_mae: 3060.6135\n",
      "Epoch 438/500\n",
      "5905/5905 [==============================] - 37s 6ms/step - loss: 3630439424.0000 - mae: 3492.5508 - val_loss: 3261430784.0000 - val_mae: 3934.7915\n",
      "Epoch 439/500\n",
      "5905/5905 [==============================] - 37s 6ms/step - loss: 3829456384.0000 - mae: 3534.7092 - val_loss: 3236397568.0000 - val_mae: 3742.6873\n",
      "Epoch 440/500\n",
      "5905/5905 [==============================] - 37s 6ms/step - loss: 3637657856.0000 - mae: 3503.7004 - val_loss: 3391606528.0000 - val_mae: 2826.1013\n",
      "Epoch 441/500\n",
      "5905/5905 [==============================] - 37s 6ms/step - loss: 3723014400.0000 - mae: 3496.4673 - val_loss: 3618259456.0000 - val_mae: 3973.1699\n",
      "Epoch 442/500\n",
      "5905/5905 [==============================] - 37s 6ms/step - loss: 3711835392.0000 - mae: 3482.3005 - val_loss: 3189804288.0000 - val_mae: 3840.0552\n",
      "Epoch 443/500\n",
      "5905/5905 [==============================] - 37s 6ms/step - loss: 3644101376.0000 - mae: 3457.7498 - val_loss: 3135270400.0000 - val_mae: 2737.1687\n",
      "Epoch 444/500\n",
      "5905/5905 [==============================] - 37s 6ms/step - loss: 3563605760.0000 - mae: 3424.0981 - val_loss: 4531189248.0000 - val_mae: 3929.1282\n",
      "Epoch 445/500\n",
      "5905/5905 [==============================] - 38s 6ms/step - loss: 3688696320.0000 - mae: 3509.5046 - val_loss: 4622394880.0000 - val_mae: 3058.8643\n",
      "Epoch 446/500\n",
      "5905/5905 [==============================] - 37s 6ms/step - loss: 3502785024.0000 - mae: 3325.4209 - val_loss: 4176843520.0000 - val_mae: 3112.8962\n",
      "Epoch 447/500\n",
      "5905/5905 [==============================] - 37s 6ms/step - loss: 3737542912.0000 - mae: 3500.5261 - val_loss: 3872977152.0000 - val_mae: 2884.1375\n",
      "Epoch 448/500\n",
      "5905/5905 [==============================] - 37s 6ms/step - loss: 3519057152.0000 - mae: 3392.2275 - val_loss: 3382233856.0000 - val_mae: 3663.8931\n",
      "Epoch 449/500\n",
      "5905/5905 [==============================] - 37s 6ms/step - loss: 3949691904.0000 - mae: 3503.4275 - val_loss: 3988637952.0000 - val_mae: 2651.5310\n",
      "Epoch 450/500\n",
      "5905/5905 [==============================] - 38s 6ms/step - loss: 3802379264.0000 - mae: 3423.6755 - val_loss: 4474946560.0000 - val_mae: 2701.4224\n",
      "Epoch 451/500\n",
      "5905/5905 [==============================] - 38s 6ms/step - loss: 3530349056.0000 - mae: 3352.1548 - val_loss: 3224413952.0000 - val_mae: 4719.7925\n",
      "Epoch 452/500\n",
      "5905/5905 [==============================] - 38s 6ms/step - loss: 3768639488.0000 - mae: 3476.5264 - val_loss: 3364550912.0000 - val_mae: 3060.8162\n",
      "Epoch 453/500\n",
      "5905/5905 [==============================] - 38s 6ms/step - loss: 3730355712.0000 - mae: 3440.7781 - val_loss: 3534716160.0000 - val_mae: 2843.0237\n",
      "Epoch 454/500\n",
      "5905/5905 [==============================] - 38s 6ms/step - loss: 3625333248.0000 - mae: 3343.3811 - val_loss: 3366390784.0000 - val_mae: 4578.3179\n",
      "Epoch 455/500\n",
      "5905/5905 [==============================] - 38s 6ms/step - loss: 3554159616.0000 - mae: 3458.9448 - val_loss: 3328624384.0000 - val_mae: 5253.4551\n",
      "Epoch 456/500\n",
      "5905/5905 [==============================] - 38s 6ms/step - loss: 3779673088.0000 - mae: 3460.8682 - val_loss: 6693135360.0000 - val_mae: 5845.6123\n",
      "Epoch 457/500\n",
      "5905/5905 [==============================] - 39s 7ms/step - loss: 3531298560.0000 - mae: 3315.2278 - val_loss: 4320667136.0000 - val_mae: 2637.5322\n",
      "Epoch 458/500\n",
      "5905/5905 [==============================] - 38s 7ms/step - loss: 3688631040.0000 - mae: 3370.9990 - val_loss: 3316279552.0000 - val_mae: 3016.3301\n",
      "Epoch 459/500\n",
      "5905/5905 [==============================] - 39s 7ms/step - loss: 3781539840.0000 - mae: 3404.8389 - val_loss: 3219080704.0000 - val_mae: 3246.8735\n",
      "Epoch 460/500\n",
      "5905/5905 [==============================] - 40s 7ms/step - loss: 3919473664.0000 - mae: 3401.1860 - val_loss: 9443907584.0000 - val_mae: 8196.1025\n",
      "Epoch 461/500\n",
      "5905/5905 [==============================] - 39s 7ms/step - loss: 3724136448.0000 - mae: 3336.8286 - val_loss: 4624367616.0000 - val_mae: 4957.2715\n",
      "Epoch 462/500\n",
      "5905/5905 [==============================] - 39s 7ms/step - loss: 3717528320.0000 - mae: 3307.0315 - val_loss: 3261221888.0000 - val_mae: 4170.6729\n",
      "Epoch 463/500\n",
      "5905/5905 [==============================] - 39s 7ms/step - loss: 3653032960.0000 - mae: 3346.1038 - val_loss: 3426567936.0000 - val_mae: 3138.3413\n",
      "Epoch 464/500\n",
      "5905/5905 [==============================] - 39s 7ms/step - loss: 3619548672.0000 - mae: 3384.5764 - val_loss: 4741400576.0000 - val_mae: 2615.2649\n",
      "Epoch 465/500\n",
      "5905/5905 [==============================] - 39s 7ms/step - loss: 3789080832.0000 - mae: 3387.2126 - val_loss: 3642049792.0000 - val_mae: 3053.1230\n",
      "Epoch 466/500\n",
      "5905/5905 [==============================] - 40s 7ms/step - loss: 3590082816.0000 - mae: 3297.9778 - val_loss: 3282772480.0000 - val_mae: 2889.3997\n",
      "Epoch 467/500\n",
      "5905/5905 [==============================] - 40s 7ms/step - loss: 3822749440.0000 - mae: 3360.7803 - val_loss: 3543500032.0000 - val_mae: 2928.6013\n",
      "Epoch 468/500\n",
      "5905/5905 [==============================] - 40s 7ms/step - loss: 3805863168.0000 - mae: 3333.7595 - val_loss: 3692796160.0000 - val_mae: 4937.1855\n",
      "Epoch 469/500\n",
      "5905/5905 [==============================] - 40s 7ms/step - loss: 3430576128.0000 - mae: 3332.5049 - val_loss: 5945726976.0000 - val_mae: 4373.3677\n",
      "Epoch 470/500\n",
      "5905/5905 [==============================] - 40s 7ms/step - loss: 3687001088.0000 - mae: 3353.9365 - val_loss: 3257868288.0000 - val_mae: 2622.6377\n",
      "Epoch 471/500\n",
      "5905/5905 [==============================] - 40s 7ms/step - loss: 3536009216.0000 - mae: 3271.6997 - val_loss: 3786529792.0000 - val_mae: 2833.9475\n",
      "Epoch 472/500\n",
      "5905/5905 [==============================] - 40s 7ms/step - loss: 3461695744.0000 - mae: 3227.3020 - val_loss: 5601406976.0000 - val_mae: 5327.2808\n",
      "Epoch 473/500\n",
      "5905/5905 [==============================] - 41s 7ms/step - loss: 3581681152.0000 - mae: 3278.9600 - val_loss: 3523384832.0000 - val_mae: 2408.0896\n",
      "Epoch 474/500\n",
      "5905/5905 [==============================] - 40s 7ms/step - loss: 3508362496.0000 - mae: 3252.6492 - val_loss: 4631176704.0000 - val_mae: 3111.6079\n",
      "Epoch 475/500\n",
      "5905/5905 [==============================] - 40s 7ms/step - loss: 3575872256.0000 - mae: 3269.7612 - val_loss: 3010189568.0000 - val_mae: 3214.5779\n",
      "Epoch 476/500\n",
      "5905/5905 [==============================] - 40s 7ms/step - loss: 3564392448.0000 - mae: 3259.1165 - val_loss: 3216174848.0000 - val_mae: 3905.1292\n",
      "Epoch 477/500\n",
      "5905/5905 [==============================] - 40s 7ms/step - loss: 3662287872.0000 - mae: 3215.6414 - val_loss: 3278050304.0000 - val_mae: 3508.8945\n",
      "Epoch 478/500\n",
      "5905/5905 [==============================] - 40s 7ms/step - loss: 3570151680.0000 - mae: 3231.1880 - val_loss: 9250944000.0000 - val_mae: 4754.4766\n",
      "Epoch 479/500\n",
      "5905/5905 [==============================] - 41s 7ms/step - loss: 3722893056.0000 - mae: 3339.7917 - val_loss: 3420901376.0000 - val_mae: 2771.5850\n",
      "Epoch 480/500\n",
      "5905/5905 [==============================] - 41s 7ms/step - loss: 3826966784.0000 - mae: 3276.0703 - val_loss: 3279004928.0000 - val_mae: 3046.2361\n",
      "Epoch 481/500\n",
      "5905/5905 [==============================] - 40s 7ms/step - loss: 3765892096.0000 - mae: 3273.9915 - val_loss: 3060276480.0000 - val_mae: 2621.4294\n",
      "Epoch 482/500\n",
      "5905/5905 [==============================] - 42s 7ms/step - loss: 3547869696.0000 - mae: 3232.5886 - val_loss: 3380631808.0000 - val_mae: 4195.3994\n",
      "Epoch 483/500\n",
      "5905/5905 [==============================] - 41s 7ms/step - loss: 3740355072.0000 - mae: 3271.7632 - val_loss: 4379724800.0000 - val_mae: 3010.7551\n",
      "Epoch 484/500\n",
      "5905/5905 [==============================] - 41s 7ms/step - loss: 3702928384.0000 - mae: 3200.7800 - val_loss: 3132815104.0000 - val_mae: 2761.0962\n",
      "Epoch 485/500\n",
      "5905/5905 [==============================] - 41s 7ms/step - loss: 3723107840.0000 - mae: 3258.8469 - val_loss: 4429569536.0000 - val_mae: 4716.9771\n",
      "Epoch 486/500\n",
      "5905/5905 [==============================] - 41s 7ms/step - loss: 3528103424.0000 - mae: 3211.2202 - val_loss: 3718124544.0000 - val_mae: 2487.0144\n",
      "Epoch 487/500\n",
      "5905/5905 [==============================] - 41s 7ms/step - loss: 3885895936.0000 - mae: 3283.9771 - val_loss: 4714532864.0000 - val_mae: 3019.3894\n",
      "Epoch 488/500\n",
      "5905/5905 [==============================] - 42s 7ms/step - loss: 3558846976.0000 - mae: 3187.8762 - val_loss: 3192546560.0000 - val_mae: 3406.9084\n",
      "Epoch 489/500\n",
      "5905/5905 [==============================] - 41s 7ms/step - loss: 3574456320.0000 - mae: 3192.4583 - val_loss: 3094910464.0000 - val_mae: 2866.1287\n",
      "Epoch 490/500\n",
      "5905/5905 [==============================] - 41s 7ms/step - loss: 3690521856.0000 - mae: 3185.4072 - val_loss: 3229003264.0000 - val_mae: 2849.9856\n",
      "Epoch 491/500\n",
      "5905/5905 [==============================] - 42s 7ms/step - loss: 3512667904.0000 - mae: 3231.4092 - val_loss: 3384335104.0000 - val_mae: 2644.2515\n",
      "Epoch 492/500\n",
      "5905/5905 [==============================] - 41s 7ms/step - loss: 3696891136.0000 - mae: 3115.8215 - val_loss: 4559863808.0000 - val_mae: 3226.5793\n",
      "Epoch 493/500\n",
      "5905/5905 [==============================] - 41s 7ms/step - loss: 3522220288.0000 - mae: 3197.1943 - val_loss: 3248939776.0000 - val_mae: 3092.3777\n",
      "Epoch 494/500\n",
      "5905/5905 [==============================] - 42s 7ms/step - loss: 3576393984.0000 - mae: 3195.3555 - val_loss: 6798254080.0000 - val_mae: 4545.9985\n",
      "Epoch 495/500\n",
      "5905/5905 [==============================] - 41s 7ms/step - loss: 3471381760.0000 - mae: 3185.9780 - val_loss: 3879745024.0000 - val_mae: 2611.9062\n",
      "Epoch 496/500\n",
      "5905/5905 [==============================] - 41s 7ms/step - loss: 3582011392.0000 - mae: 3179.3835 - val_loss: 4100280832.0000 - val_mae: 2693.4392\n",
      "Epoch 497/500\n",
      "5905/5905 [==============================] - 41s 7ms/step - loss: 3683790592.0000 - mae: 3124.7551 - val_loss: 3075865600.0000 - val_mae: 3169.3103\n",
      "Epoch 498/500\n",
      "5905/5905 [==============================] - 41s 7ms/step - loss: 3485384960.0000 - mae: 3116.3115 - val_loss: 4800441344.0000 - val_mae: 5391.8057\n",
      "Epoch 499/500\n",
      "5905/5905 [==============================] - 42s 7ms/step - loss: 3532641024.0000 - mae: 3154.3982 - val_loss: 3682119424.0000 - val_mae: 3021.5352\n",
      "Epoch 500/500\n",
      "5905/5905 [==============================] - 42s 7ms/step - loss: 3810521344.0000 - mae: 3180.5159 - val_loss: 6836445696.0000 - val_mae: 4396.3008\n"
     ]
    }
   ],
   "source": [
    "history = ann.fit(X_train, y_train,\n",
    "                    validation_data = (X_val, y_val),\n",
    "                    callbacks=[es],\n",
    "                    epochs=500,\n",
    "                    batch_size=50,\n",
    "                    verbose=1)"
   ]
  },
  {
   "cell_type": "markdown",
   "metadata": {
    "colab_type": "text",
    "id": "0H0zKKNEBLD5"
   },
   "source": [
    "### Analyse learn history"
   ]
  },
  {
   "cell_type": "code",
   "execution_count": 25,
   "metadata": {
    "ExecuteTime": {
     "end_time": "2023-10-02T22:04:09.655993700Z",
     "start_time": "2023-10-02T22:04:09.395488300Z"
    }
   },
   "outputs": [
    {
     "data": {
      "text/plain": "<Figure size 640x480 with 1 Axes>",
      "image/png": "[encoded data removed]"
     },
     "metadata": {},
     "output_type": "display_data"
    }
   ],
   "source": [
    "# let's see the training and validation accuracy by epoch\n",
    "history_dict = history.history\n",
    "loss_values = history_dict['loss'] # you can change this\n",
    "val_loss_values = history_dict['val_loss'] # you can also change this\n",
    "epochs = range(1, len(loss_values) + 1) # range of X (no. of epochs)\n",
    "plt.plot(epochs, loss_values, 'blue', label='Train set loss')\n",
    "plt.plot(epochs, val_loss_values, 'orange', label='Validation set loss')\n",
    "#plt.title('Training and testing loss')\n",
    "plt.xlabel('Epochs')\n",
    "plt.ylabel('Loss (MSE)')\n",
    "plt.legend()\n",
    "plt.show()"
   ]
  },
  {
   "cell_type": "code",
   "execution_count": 26,
   "metadata": {
    "ExecuteTime": {
     "end_time": "2023-10-02T22:04:14.020681300Z",
     "start_time": "2023-10-02T22:04:13.814935100Z"
    }
   },
   "outputs": [
    {
     "data": {
      "text/plain": "<Figure size 640x480 with 1 Axes>",
      "image/png": "[encoded data removed]"
     },
     "metadata": {},
     "output_type": "display_data"
    }
   ],
   "source": [
    "loss_values1 = history_dict['mae'] # you can change this\n",
    "val_loss_values1 = history_dict['val_mae'] # you can also change this\n",
    "epochs = range(1, len(loss_values1) + 1) # range of X (no. of epochs)\n",
    "plt.plot(epochs, loss_values1, 'blue', label='Train set MAE')\n",
    "plt.plot(epochs, val_loss_values1, 'orange', label='Validation set MAE')\n",
    "#plt.title('Training and testing MAE')\n",
    "plt.xlabel('Epochs')\n",
    "plt.ylabel('MAE')\n",
    "plt.legend()\n",
    "plt.show()"
   ]
  },
  {
   "cell_type": "code",
   "execution_count": null,
   "metadata": {},
   "outputs": [],
   "source": [
    "print (epochs)"
   ]
  },
  {
   "cell_type": "markdown",
   "metadata": {},
   "source": [
    "### Save the model"
   ]
  },
  {
   "cell_type": "code",
   "execution_count": null,
   "metadata": {},
   "outputs": [],
   "source": [
    "ann.save('ANN_1.h5')"
   ]
  },
  {
   "cell_type": "markdown",
   "metadata": {},
   "source": [
    "## Part 5 - Make predictions"
   ]
  },
  {
   "cell_type": "code",
   "execution_count": null,
   "metadata": {},
   "outputs": [],
   "source": [
    "ann = load_model('ANN_1.h5')"
   ]
  },
  {
   "cell_type": "code",
   "execution_count": 27,
   "metadata": {
    "ExecuteTime": {
     "end_time": "2023-10-02T22:04:56.695601Z",
     "start_time": "2023-10-02T22:04:18.963940600Z"
    }
   },
   "outputs": [
    {
     "name": "stdout",
     "output_type": "stream",
     "text": [
      "9226/9226 [==============================] - 21s 2ms/step\n",
      "3076/3076 [==============================] - 10s 3ms/step\n"
     ]
    },
    {
     "data": {
      "text/plain": "<Figure size 640x480 with 2 Axes>",
      "image/png": "[encoded data removed]"
     },
     "metadata": {},
     "output_type": "display_data"
    }
   ],
   "source": [
    "# scatterplot of actual vs. pred\n",
    "# specify the dimensions \n",
    "fig, axes = plt.subplots(1,2) # 1 row, 2 columns\n",
    "\n",
    "# this makes the individual subplots\n",
    "# Training Results\n",
    "axes[0].scatter(x=y_train, y=ann.predict(X_train)) #first row, first entry (left top)\n",
    "axes[0].set_xlabel(\"Actual\", fontsize=10)\n",
    "axes[0].set_ylabel(\"Predicted\",  fontsize=10)\n",
    "axes[0].set_title(\"Training\")\n",
    "# add 45 deg line\n",
    "x = np.linspace(*axes[0].get_xlim())\n",
    "axes[0].plot(x, x, color='red')\n",
    "# Validation Results\n",
    "axes[1].scatter(x=y_val, y=ann.predict(X_val)) # first row, second entry (right top)\n",
    "axes[1].set_xlabel(\"Actual\", fontsize=10)\n",
    "axes[1].set_ylabel(\"Predicted\",  fontsize=10)\n",
    "axes[1].set_title(\"Validation\")\n",
    "# add 45 deg line\n",
    "x = np.linspace(*axes[1].get_xlim())\n",
    "axes[1].plot(x, x, color='red')\n",
    "\n",
    "# tight layout\n",
    "fig.tight_layout()\n",
    "\n",
    "# show the plot\n",
    "plt.show()"
   ]
  },
  {
   "cell_type": "code",
   "execution_count": null,
   "metadata": {
    "colab": {
     "base_uri": "https://localhost:8080/",
     "height": 134
    },
    "colab_type": "code",
    "id": "IA0yApEmBG1X",
    "outputId": "cb981e1f-9204-4a2a-fece-9d66a6919189"
   },
   "outputs": [],
   "source": [
    "y_pred = ann.predict(X_test)\n",
    "np.set_printoptions(precision=2)\n",
    "print(np.concatenate((y_pred.reshape(len(y_pred),1), y_test.reshape(len(y_test),1)),1))"
   ]
  },
  {
   "cell_type": "code",
   "execution_count": null,
   "metadata": {},
   "outputs": [],
   "source": [
    "import matplotlib.pyplot as plt\n",
    "plt.scatter(y_test, y_pred, color=\"blue\")\n",
    "#plt.plot ([0,8500000],[0,8500000], color = \"red\")\n",
    "#plt.axis ([0,8500000,0,8500000])\n",
    "plt.xlabel ('Actual data')\n",
    "plt.ylabel ('Predicted data')"
   ]
  },
  {
   "cell_type": "code",
   "execution_count": null,
   "metadata": {},
   "outputs": [],
   "source": [
    "from sklearn.metrics import r2_score\n",
    "# Initialize layout\n",
    "fig1, ax1 = plt.subplots(figsize = (9, 9))\n",
    "\n",
    "\n",
    "#y = y_pred         # Model on prvious line is called here\n",
    "#x = y_test\n",
    "\n",
    "\n",
    "\n",
    "# Add scatterplot\n",
    "ax1.scatter(y_test, y_pred, s=70, alpha=1, edgecolors=\"k\",c='mediumblue',zorder=5, label = 'Points')\n",
    "\n",
    "\n",
    "plt.ylabel('Predicted Peak Incident Pressure (kPa)',fontsize = 25)\n",
    "plt.xlabel('Actual Peak Incident Pressure (kPa)',fontsize = 25)\n",
    "plt.xticks(fontsize = 19)\n",
    "plt.yticks(fontsize = 19)\n",
    "\n",
    "\n",
    "x1 = np.linspace(0,8000000)\n",
    "\n",
    "plt.plot(x1, x1, 'Red', label='45\\N{DEGREE SIGN} line',lw=2.5,alpha=1)\n",
    "plt.plot(x1, 1.1*x1, '--m', label='\\u00B110% Error',lw=2.5,alpha=0.7)\n",
    "plt.plot(x1, 0.9*x1,'m', linestyle='--',lw=2.5,alpha=0.7)\n",
    "plt.plot(x1, 1.2*x1, '-.g', label='\\u00B120% Error',lw=2.5,alpha=0.7)\n",
    "plt.plot(x1, 0.8*x1,'-.g',lw=2.5,alpha=0.7)\n",
    "\n",
    "plt.ylim(0,8000000)\n",
    "plt.xlim(0,8000000)\n",
    "plt.legend(loc='upper left',fontsize = 25)\n",
    "\n",
    "plt.grid()\n",
    "\n",
    "ax1.spines['left'].set_color('black')        # setting up Y-axis tick color to red\n",
    "ax1.spines['bottom'].set_color('black')         #setting up above X-axis tick color to red\n",
    "\n",
    "\n",
    "\n",
    "#ax1.annotate(\"$R^2$ = {:.3f}\".format(r2), (2500, 1000),fontsize = 25)  #Model is called here\n",
    "#ax1.annotate(\"Adj.$R^2$ = {:.3f}\".format(adj_r2), (2500, 750),fontsize = 25)\n",
    "\n",
    "#plt.savefig('plot1.png', dpi = 600, bbox_inches = 'tight')"
   ]
  },
  {
   "cell_type": "code",
   "execution_count": null,
   "metadata": {},
   "outputs": [],
   "source": [
    "# metrics\n",
    "trainpreds = ann.predict(X_train)\n",
    "\n",
    "from sklearn.metrics import mean_absolute_error\n",
    "print(mean_absolute_error(y_train, trainpreds)) # train\n",
    "print(mean_absolute_error(y_test, y_pred)) # test"
   ]
  },
  {
   "cell_type": "code",
   "execution_count": null,
   "metadata": {},
   "outputs": [],
   "source": [
    "from sklearn.metrics import r2_score\n",
    "r2 = r2_score(y_test, y_pred)\n",
    "print (r2)"
   ]
  },
  {
   "cell_type": "code",
   "execution_count": null,
   "metadata": {},
   "outputs": [],
   "source": [
    "r2_train = r2_score(y_train, trainpreds)\n",
    "print (r2_train)"
   ]
  },
  {
   "cell_type": "code",
   "execution_count": null,
   "metadata": {},
   "outputs": [],
   "source": [
    "count1 = 0\n",
    "for i in range(len(y_pred)):\n",
    "    line1 = y_pred[i] - 0.9*y_test[i]\n",
    "    line2 = y_pred[i] - 1.1*y_test[i]\n",
    "    #print ('line 1 ', line1)\n",
    "    #print ('line 2 ', line2)\n",
    "    mask1 = (line1 > 0) & (line2 < 0)\n",
    "    #print (mask)\n",
    "    count1 = np.sum(mask1+count1)\n",
    "    #print (count)\n",
    "\n",
    "count2 = 0\n",
    "for j in range(len(y_pred)):\n",
    "    line3 = y_pred[j] - 0.8*y_test[j]\n",
    "    line4 = y_pred[j] - 1.2*y_test[j]\n",
    "    mask2 = (line3 > 0) & (line4 < 0)\n",
    "    count2 = np.sum(mask2+count2)\n",
    "\n",
    "\n",
    "count3 = 0    \n",
    "for k in range(len(y_pred)):\n",
    "    line5 = y_pred[k] - 0.8*y_test[k]\n",
    "    line6 = y_pred[k] - 1.2*y_test[k]\n",
    "    mask3 = (line5 < 0) or (line6 > 0)\n",
    "    count3 = np.sum(mask3+count3)\n",
    "   \n",
    "\n",
    "print ('Within 10% margin', format((count1/len (y_pred)),'.2%'))\n",
    "print ('Within 20% margin', format((count2/len (y_pred)),'.2%'))\n",
    "print ('Out of 20% margin', format((count3/len (y_pred)),'.2%'))"
   ]
  },
  {
   "cell_type": "code",
   "execution_count": null,
   "metadata": {},
   "outputs": [],
   "source": [
    "adj_r2 = 1 - ((1 - r2) * (len(X_test) - 1) / (len(X_test) - len (X_test[0]) - 1))\n",
    "print (adj_r2)"
   ]
  },
  {
   "cell_type": "code",
   "execution_count": null,
   "metadata": {},
   "outputs": [],
   "source": [
    "import math\n",
    "from sklearn.metrics import mean_squared_error\n",
    "\n",
    "math.sqrt(mean_squared_error(y_test, y_pred))"
   ]
  },
  {
   "cell_type": "code",
   "execution_count": null,
   "metadata": {},
   "outputs": [],
   "source": [
    "from sklearn.metrics import mean_absolute_error\n",
    "\n",
    "mean_absolute_error(y_test, y_pred)"
   ]
  }
 ],
 "metadata": {
  "colab": {
   "collapsed_sections": [],
   "name": "Artificial Neural Network",
   "provenance": [],
   "toc_visible": true
  },
  "kernelspec": {
   "display_name": "Python 3 (ipykernel)",
   "language": "python",
   "name": "python3"
  },
  "language_info": {
   "codemirror_mode": {
    "name": "ipython",
    "version": 3
   },
   "file_extension": ".py",
   "mimetype": "text/x-python",
   "name": "python",
   "nbconvert_exporter": "python",
   "pygments_lexer": "ipython3",
   "version": "3.9.7"
  }
 },
 "nbformat": 4,
 "nbformat_minor": 4
}
