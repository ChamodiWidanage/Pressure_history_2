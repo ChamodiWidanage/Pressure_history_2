{
 "cells": [
  {
   "cell_type": "markdown",
   "metadata": {
    "colab_type": "text",
    "id": "3cbb7fRy-eyr"
   },
   "source": [
    "# Artificial Neural Network"
   ]
  },
  {
   "cell_type": "markdown",
   "metadata": {
    "colab_type": "text",
    "id": "8sNDnxE2-pwE"
   },
   "source": [
    "## Part 1 - Importing the libraries"
   ]
  },
  {
   "cell_type": "code",
   "execution_count": 1,
   "metadata": {
    "colab": {},
    "colab_type": "code",
    "id": "lxChR1Rk-umf",
    "ExecuteTime": {
     "end_time": "2023-10-04T00:40:14.798401100Z",
     "start_time": "2023-10-04T00:40:09.026091Z"
    }
   },
   "outputs": [],
   "source": [
    "import numpy as np\n",
    "import pandas as pd\n",
    "import tensorflow as tf\n",
    "import matplotlib.pyplot as plt\n",
    "from keras.models import load_model\n",
    "from pathlib import Path"
   ]
  },
  {
   "cell_type": "markdown",
   "metadata": {
    "colab_type": "text",
    "id": "AG3FQEch-yuA"
   },
   "source": [
    "## Part 2 - Data Preprocessing"
   ]
  },
  {
   "cell_type": "markdown",
   "metadata": {
    "colab_type": "text",
    "id": "-4zq8Mza_D9O"
   },
   "source": [
    "### Importing the dataset"
   ]
  },
  {
   "cell_type": "code",
   "execution_count": 2,
   "metadata": {
    "ExecuteTime": {
     "end_time": "2023-10-04T00:42:39.285359600Z",
     "start_time": "2023-10-04T00:42:39.237873500Z"
    }
   },
   "outputs": [
    {
     "name": "stdout",
     "output_type": "stream",
     "text": [
      "input G:\\Chamodi\\Machine_Learning\\Pressure_history_2\\Pressure_profiles_arrival_omitted\n",
      "2 [WindowsPath('G:/Chamodi/Machine_Learning/Pressure_history_2/Pressure_profiles_arrival_omitted/L13_1'), WindowsPath('G:/Chamodi/Machine_Learning/Pressure_history_2/Pressure_profiles_arrival_omitted/L13_11'), WindowsPath('G:/Chamodi/Machine_Learning/Pressure_history_2/Pressure_profiles_arrival_omitted/L13_13'), WindowsPath('G:/Chamodi/Machine_Learning/Pressure_history_2/Pressure_profiles_arrival_omitted/L13_15'), WindowsPath('G:/Chamodi/Machine_Learning/Pressure_history_2/Pressure_profiles_arrival_omitted/L13_17'), WindowsPath('G:/Chamodi/Machine_Learning/Pressure_history_2/Pressure_profiles_arrival_omitted/L13_19'), WindowsPath('G:/Chamodi/Machine_Learning/Pressure_history_2/Pressure_profiles_arrival_omitted/L13_21'), WindowsPath('G:/Chamodi/Machine_Learning/Pressure_history_2/Pressure_profiles_arrival_omitted/L13_23'), WindowsPath('G:/Chamodi/Machine_Learning/Pressure_history_2/Pressure_profiles_arrival_omitted/L13_25'), WindowsPath('G:/Chamodi/Machine_Learning/Pressure_history_2/Pressure_profiles_arrival_omitted/L13_27'), WindowsPath('G:/Chamodi/Machine_Learning/Pressure_history_2/Pressure_profiles_arrival_omitted/L13_29'), WindowsPath('G:/Chamodi/Machine_Learning/Pressure_history_2/Pressure_profiles_arrival_omitted/L13_3'), WindowsPath('G:/Chamodi/Machine_Learning/Pressure_history_2/Pressure_profiles_arrival_omitted/L13_31'), WindowsPath('G:/Chamodi/Machine_Learning/Pressure_history_2/Pressure_profiles_arrival_omitted/L13_33'), WindowsPath('G:/Chamodi/Machine_Learning/Pressure_history_2/Pressure_profiles_arrival_omitted/L13_35'), WindowsPath('G:/Chamodi/Machine_Learning/Pressure_history_2/Pressure_profiles_arrival_omitted/L13_37'), WindowsPath('G:/Chamodi/Machine_Learning/Pressure_history_2/Pressure_profiles_arrival_omitted/L13_39'), WindowsPath('G:/Chamodi/Machine_Learning/Pressure_history_2/Pressure_profiles_arrival_omitted/L13_41'), WindowsPath('G:/Chamodi/Machine_Learning/Pressure_history_2/Pressure_profiles_arrival_omitted/L13_43'), WindowsPath('G:/Chamodi/Machine_Learning/Pressure_history_2/Pressure_profiles_arrival_omitted/L13_45'), WindowsPath('G:/Chamodi/Machine_Learning/Pressure_history_2/Pressure_profiles_arrival_omitted/L13_47'), WindowsPath('G:/Chamodi/Machine_Learning/Pressure_history_2/Pressure_profiles_arrival_omitted/L13_49'), WindowsPath('G:/Chamodi/Machine_Learning/Pressure_history_2/Pressure_profiles_arrival_omitted/L13_5'), WindowsPath('G:/Chamodi/Machine_Learning/Pressure_history_2/Pressure_profiles_arrival_omitted/L13_51'), WindowsPath('G:/Chamodi/Machine_Learning/Pressure_history_2/Pressure_profiles_arrival_omitted/L13_53'), WindowsPath('G:/Chamodi/Machine_Learning/Pressure_history_2/Pressure_profiles_arrival_omitted/L13_55'), WindowsPath('G:/Chamodi/Machine_Learning/Pressure_history_2/Pressure_profiles_arrival_omitted/L13_57'), WindowsPath('G:/Chamodi/Machine_Learning/Pressure_history_2/Pressure_profiles_arrival_omitted/L13_59'), WindowsPath('G:/Chamodi/Machine_Learning/Pressure_history_2/Pressure_profiles_arrival_omitted/L13_61'), WindowsPath('G:/Chamodi/Machine_Learning/Pressure_history_2/Pressure_profiles_arrival_omitted/L13_63'), WindowsPath('G:/Chamodi/Machine_Learning/Pressure_history_2/Pressure_profiles_arrival_omitted/L13_65'), WindowsPath('G:/Chamodi/Machine_Learning/Pressure_history_2/Pressure_profiles_arrival_omitted/L13_67'), WindowsPath('G:/Chamodi/Machine_Learning/Pressure_history_2/Pressure_profiles_arrival_omitted/L13_69'), WindowsPath('G:/Chamodi/Machine_Learning/Pressure_history_2/Pressure_profiles_arrival_omitted/L13_7'), WindowsPath('G:/Chamodi/Machine_Learning/Pressure_history_2/Pressure_profiles_arrival_omitted/L13_70'), WindowsPath('G:/Chamodi/Machine_Learning/Pressure_history_2/Pressure_profiles_arrival_omitted/L13_9')]\n"
     ]
    }
   ],
   "source": [
    "#Access input folder\n",
    "current_dir = Path.cwd()\n",
    "parent_dir = current_dir.parent\n",
    "input_dir1 = Path (parent_dir/\"Pressure_profiles_arrival_omitted\")\n",
    "print (\"input\",input_dir1)\n",
    "\n",
    "#Access folders inside input folder\n",
    "input_dir2_train =  [folder_input for folder_input in input_dir1.iterdir() if folder_input.is_dir()]\n",
    "print (\"2\",input_dir2_train)"
   ]
  },
  {
   "cell_type": "code",
   "execution_count": 3,
   "metadata": {
    "ExecuteTime": {
     "end_time": "2023-10-04T00:43:26.234024400Z",
     "start_time": "2023-10-04T00:42:42.605933400Z"
    }
   },
   "outputs": [
    {
     "name": "stdout",
     "output_type": "stream",
     "text": [
      "folder G:\\Chamodi\\Machine_Learning\\Pressure_history_2\\Pressure_profiles_arrival_omitted\\L13_1\n",
      "P1\n",
      "P13\n",
      "P5\n",
      "P9\n",
      "folder G:\\Chamodi\\Machine_Learning\\Pressure_history_2\\Pressure_profiles_arrival_omitted\\L13_11\n",
      "P1\n",
      "P13\n",
      "P5\n",
      "P9\n",
      "folder G:\\Chamodi\\Machine_Learning\\Pressure_history_2\\Pressure_profiles_arrival_omitted\\L13_13\n",
      "P1\n",
      "P13\n",
      "P5\n",
      "P9\n",
      "folder G:\\Chamodi\\Machine_Learning\\Pressure_history_2\\Pressure_profiles_arrival_omitted\\L13_15\n",
      "P1\n",
      "P13\n",
      "P5\n",
      "P9\n",
      "folder G:\\Chamodi\\Machine_Learning\\Pressure_history_2\\Pressure_profiles_arrival_omitted\\L13_17\n",
      "P1\n",
      "P13\n",
      "P5\n",
      "P9\n",
      "folder G:\\Chamodi\\Machine_Learning\\Pressure_history_2\\Pressure_profiles_arrival_omitted\\L13_19\n",
      "P1\n",
      "P13\n",
      "P5\n",
      "P9\n",
      "folder G:\\Chamodi\\Machine_Learning\\Pressure_history_2\\Pressure_profiles_arrival_omitted\\L13_21\n",
      "P1\n",
      "P13\n",
      "P5\n",
      "P9\n",
      "folder G:\\Chamodi\\Machine_Learning\\Pressure_history_2\\Pressure_profiles_arrival_omitted\\L13_23\n",
      "P1\n",
      "P13\n",
      "P5\n",
      "P9\n",
      "folder G:\\Chamodi\\Machine_Learning\\Pressure_history_2\\Pressure_profiles_arrival_omitted\\L13_25\n",
      "P1\n",
      "P13\n",
      "P5\n",
      "P9\n",
      "folder G:\\Chamodi\\Machine_Learning\\Pressure_history_2\\Pressure_profiles_arrival_omitted\\L13_27\n",
      "P1\n",
      "P13\n",
      "P5\n",
      "P9\n",
      "folder G:\\Chamodi\\Machine_Learning\\Pressure_history_2\\Pressure_profiles_arrival_omitted\\L13_29\n",
      "P1\n",
      "P13\n",
      "P5\n",
      "P9\n",
      "folder G:\\Chamodi\\Machine_Learning\\Pressure_history_2\\Pressure_profiles_arrival_omitted\\L13_3\n",
      "P1\n",
      "P13\n",
      "P5\n",
      "P9\n",
      "folder G:\\Chamodi\\Machine_Learning\\Pressure_history_2\\Pressure_profiles_arrival_omitted\\L13_31\n",
      "P1\n",
      "P13\n",
      "P5\n",
      "P9\n",
      "folder G:\\Chamodi\\Machine_Learning\\Pressure_history_2\\Pressure_profiles_arrival_omitted\\L13_33\n",
      "P1\n",
      "P13\n",
      "P5\n",
      "P9\n",
      "folder G:\\Chamodi\\Machine_Learning\\Pressure_history_2\\Pressure_profiles_arrival_omitted\\L13_35\n",
      "P1\n",
      "P13\n",
      "P5\n",
      "P9\n",
      "folder G:\\Chamodi\\Machine_Learning\\Pressure_history_2\\Pressure_profiles_arrival_omitted\\L13_37\n",
      "P1\n",
      "P13\n",
      "P5\n",
      "P9\n",
      "folder G:\\Chamodi\\Machine_Learning\\Pressure_history_2\\Pressure_profiles_arrival_omitted\\L13_39\n",
      "P1\n",
      "P13\n",
      "P5\n",
      "P9\n",
      "folder G:\\Chamodi\\Machine_Learning\\Pressure_history_2\\Pressure_profiles_arrival_omitted\\L13_41\n",
      "P1\n",
      "P13\n",
      "P5\n",
      "P9\n",
      "folder G:\\Chamodi\\Machine_Learning\\Pressure_history_2\\Pressure_profiles_arrival_omitted\\L13_43\n",
      "P1\n",
      "P13\n",
      "P5\n",
      "P9\n",
      "folder G:\\Chamodi\\Machine_Learning\\Pressure_history_2\\Pressure_profiles_arrival_omitted\\L13_45\n",
      "P1\n",
      "P13\n",
      "P5\n",
      "P9\n",
      "folder G:\\Chamodi\\Machine_Learning\\Pressure_history_2\\Pressure_profiles_arrival_omitted\\L13_47\n",
      "P1\n",
      "P13\n",
      "P5\n",
      "P9\n",
      "folder G:\\Chamodi\\Machine_Learning\\Pressure_history_2\\Pressure_profiles_arrival_omitted\\L13_49\n",
      "P1\n",
      "P13\n",
      "P5\n",
      "P9\n",
      "folder G:\\Chamodi\\Machine_Learning\\Pressure_history_2\\Pressure_profiles_arrival_omitted\\L13_5\n",
      "P1\n",
      "P13\n",
      "P5\n",
      "P9\n",
      "folder G:\\Chamodi\\Machine_Learning\\Pressure_history_2\\Pressure_profiles_arrival_omitted\\L13_51\n",
      "P1\n",
      "P13\n",
      "P5\n",
      "P9\n",
      "folder G:\\Chamodi\\Machine_Learning\\Pressure_history_2\\Pressure_profiles_arrival_omitted\\L13_53\n",
      "P1\n",
      "P13\n",
      "P5\n",
      "P9\n",
      "folder G:\\Chamodi\\Machine_Learning\\Pressure_history_2\\Pressure_profiles_arrival_omitted\\L13_55\n",
      "P1\n",
      "P13\n",
      "P5\n",
      "P9\n",
      "folder G:\\Chamodi\\Machine_Learning\\Pressure_history_2\\Pressure_profiles_arrival_omitted\\L13_57\n",
      "P1\n",
      "P13\n",
      "P5\n",
      "P9\n",
      "folder G:\\Chamodi\\Machine_Learning\\Pressure_history_2\\Pressure_profiles_arrival_omitted\\L13_59\n",
      "P1\n",
      "P13\n",
      "P5\n",
      "P9\n",
      "folder G:\\Chamodi\\Machine_Learning\\Pressure_history_2\\Pressure_profiles_arrival_omitted\\L13_61\n",
      "P1\n",
      "P13\n",
      "P5\n",
      "P9\n",
      "folder G:\\Chamodi\\Machine_Learning\\Pressure_history_2\\Pressure_profiles_arrival_omitted\\L13_63\n",
      "P1\n",
      "P13\n",
      "P5\n",
      "P9\n",
      "folder G:\\Chamodi\\Machine_Learning\\Pressure_history_2\\Pressure_profiles_arrival_omitted\\L13_65\n",
      "P1\n",
      "P13\n",
      "P5\n",
      "P9\n",
      "folder G:\\Chamodi\\Machine_Learning\\Pressure_history_2\\Pressure_profiles_arrival_omitted\\L13_67\n",
      "P1\n",
      "P13\n",
      "P5\n",
      "P9\n",
      "folder G:\\Chamodi\\Machine_Learning\\Pressure_history_2\\Pressure_profiles_arrival_omitted\\L13_69\n",
      "P1\n",
      "P13\n",
      "P5\n",
      "P9\n",
      "folder G:\\Chamodi\\Machine_Learning\\Pressure_history_2\\Pressure_profiles_arrival_omitted\\L13_7\n",
      "P1\n",
      "P13\n",
      "P5\n",
      "P9\n",
      "folder G:\\Chamodi\\Machine_Learning\\Pressure_history_2\\Pressure_profiles_arrival_omitted\\L13_70\n",
      "P1\n",
      "P13\n",
      "P5\n",
      "P9\n",
      "folder G:\\Chamodi\\Machine_Learning\\Pressure_history_2\\Pressure_profiles_arrival_omitted\\L13_9\n",
      "P1\n",
      "P13\n",
      "P5\n",
      "P9\n"
     ]
    }
   ],
   "source": [
    "# Access each folder inside input folder\n",
    "dataset_train = pd.DataFrame(columns = ['Charge_mass', 'Standoff_distance', 'Time', 'Pressure', 'Phase'])\n",
    "df_list_train = []\n",
    "for folder_train in input_dir2_train:\n",
    "    \n",
    "    # Make a list of data file names\n",
    "    files_train = list(file_train for file_train in folder_train.rglob(\"*.xlsx\") if int(file_train.stem[1:]) < 14)\n",
    "    print (\"folder\", folder_train)\n",
    "    \n",
    "    for file_train in files_train:\n",
    "        df_list_train.append(pd.read_excel(file_train))\n",
    "        print (file_train.stem)\n",
    "\n",
    "dataset_train = pd.concat(df_list_train, ignore_index = True)"
   ]
  },
  {
   "cell_type": "code",
   "execution_count": 4,
   "metadata": {
    "colab": {},
    "colab_type": "code",
    "id": "B9CV13Co_HHM",
    "ExecuteTime": {
     "end_time": "2023-10-04T01:35:58.415631400Z",
     "start_time": "2023-10-04T01:35:58.367859600Z"
    }
   },
   "outputs": [
    {
     "name": "stdout",
     "output_type": "stream",
     "text": [
      "<class 'pandas.core.frame.DataFrame'>\n",
      "RangeIndex: 492019 entries, 0 to 492018\n",
      "Data columns (total 5 columns):\n",
      " #   Column             Non-Null Count   Dtype  \n",
      "---  ------             --------------   -----  \n",
      " 0   Charge_mass        492019 non-null  float64\n",
      " 1   Standoff_distance  492019 non-null  int64  \n",
      " 2   Time               492019 non-null  float64\n",
      " 3   Pressure           492019 non-null  float64\n",
      " 4   Phase              492019 non-null  object \n",
      "dtypes: float64(3), int64(1), object(1)\n",
      "memory usage: 18.8+ MB\n"
     ]
    }
   ],
   "source": [
    "dataset_train.info()"
   ]
  },
  {
   "cell_type": "code",
   "execution_count": 5,
   "outputs": [
    {
     "name": "stdout",
     "output_type": "stream",
     "text": [
      "<class 'pandas.core.frame.DataFrame'>\n",
      "RangeIndex: 492019 entries, 0 to 492018\n",
      "Data columns (total 6 columns):\n",
      " #   Column             Non-Null Count   Dtype  \n",
      "---  ------             --------------   -----  \n",
      " 0   Charge_mass        492019 non-null  float64\n",
      " 1   Standoff_distance  492019 non-null  int64  \n",
      " 2   Time               492019 non-null  float64\n",
      " 3   Pressure           492019 non-null  float64\n",
      " 4   Phase_negative     492019 non-null  uint8  \n",
      " 5   Phase_positive     492019 non-null  uint8  \n",
      "dtypes: float64(3), int64(1), uint8(2)\n",
      "memory usage: 16.0 MB\n"
     ]
    }
   ],
   "source": [
    "dataset_train = pd.get_dummies(dataset_train, columns =['Phase'], dtype = np.uint8)\n",
    "dataset_train.info()"
   ],
   "metadata": {
    "collapsed": false,
    "ExecuteTime": {
     "end_time": "2023-10-04T01:35:59.926311400Z",
     "start_time": "2023-10-04T01:35:59.812078700Z"
    }
   }
  },
  {
   "cell_type": "code",
   "execution_count": 6,
   "outputs": [
    {
     "data": {
      "text/plain": "    Charge_mass  Standoff_distance     Time      Pressure  Phase_negative  \\\n0           0.5                  1  0.00067  591827.62500               0   \n1           0.5                  1  0.00068  556217.18750               0   \n2           0.5                  1  0.00069  525135.00000               0   \n3           0.5                  1  0.00070  496668.90625               0   \n4           0.5                  1  0.00071  469418.40625               0   \n5           0.5                  1  0.00072  445550.09375               0   \n6           0.5                  1  0.00073  423420.03125               0   \n7           0.5                  1  0.00074  402121.96875               0   \n8           0.5                  1  0.00075  383202.34375               0   \n9           0.5                  1  0.00076  365626.65625               0   \n10          0.5                  1  0.00077  349977.50000               0   \n11          0.5                  1  0.00078  334716.18750               0   \n12          0.5                  1  0.00079  320582.50000               0   \n13          0.5                  1  0.00080  307536.68750               0   \n14          0.5                  1  0.00081  295047.87500               0   \n15          0.5                  1  0.00082  283671.71875               0   \n16          0.5                  1  0.00083  273287.31250               0   \n17          0.5                  1  0.00084  263380.59375               0   \n18          0.5                  1  0.00085  253957.70312               0   \n19          0.5                  1  0.00086  245341.54688               0   \n20          0.5                  1  0.00087  237136.67188               0   \n21          0.5                  1  0.00088  229610.26562               0   \n22          0.5                  1  0.00089  222423.93750               0   \n23          0.5                  1  0.00090  215571.06250               0   \n24          0.5                  1  0.00091  209261.32812               0   \n25          0.5                  1  0.00092  203243.39062               0   \n26          0.5                  1  0.00093  197520.82812               0   \n27          0.5                  1  0.00094  192094.54688               0   \n28          0.5                  1  0.00095  186960.62500               0   \n29          0.5                  1  0.00096  182106.14062               0   \n\n    Phase_positive  \n0                1  \n1                1  \n2                1  \n3                1  \n4                1  \n5                1  \n6                1  \n7                1  \n8                1  \n9                1  \n10               1  \n11               1  \n12               1  \n13               1  \n14               1  \n15               1  \n16               1  \n17               1  \n18               1  \n19               1  \n20               1  \n21               1  \n22               1  \n23               1  \n24               1  \n25               1  \n26               1  \n27               1  \n28               1  \n29               1  ",
      "text/html": "<div>\n<style scoped>\n    .dataframe tbody tr th:only-of-type {\n        vertical-align: middle;\n    }\n\n    .dataframe tbody tr th {\n        vertical-align: top;\n    }\n\n    .dataframe thead th {\n        text-align: right;\n    }\n</style>\n<table border=\"1\" class=\"dataframe\">\n  <thead>\n    <tr style=\"text-align: right;\">\n      <th></th>\n      <th>Charge_mass</th>\n      <th>Standoff_distance</th>\n      <th>Time</th>\n      <th>Pressure</th>\n      <th>Phase_negative</th>\n      <th>Phase_positive</th>\n    </tr>\n  </thead>\n  <tbody>\n    <tr>\n      <th>0</th>\n      <td>0.5</td>\n      <td>1</td>\n      <td>0.00067</td>\n      <td>591827.62500</td>\n      <td>0</td>\n      <td>1</td>\n    </tr>\n    <tr>\n      <th>1</th>\n      <td>0.5</td>\n      <td>1</td>\n      <td>0.00068</td>\n      <td>556217.18750</td>\n      <td>0</td>\n      <td>1</td>\n    </tr>\n    <tr>\n      <th>2</th>\n      <td>0.5</td>\n      <td>1</td>\n      <td>0.00069</td>\n      <td>525135.00000</td>\n      <td>0</td>\n      <td>1</td>\n    </tr>\n    <tr>\n      <th>3</th>\n      <td>0.5</td>\n      <td>1</td>\n      <td>0.00070</td>\n      <td>496668.90625</td>\n      <td>0</td>\n      <td>1</td>\n    </tr>\n    <tr>\n      <th>4</th>\n      <td>0.5</td>\n      <td>1</td>\n      <td>0.00071</td>\n      <td>469418.40625</td>\n      <td>0</td>\n      <td>1</td>\n    </tr>\n    <tr>\n      <th>5</th>\n      <td>0.5</td>\n      <td>1</td>\n      <td>0.00072</td>\n      <td>445550.09375</td>\n      <td>0</td>\n      <td>1</td>\n    </tr>\n    <tr>\n      <th>6</th>\n      <td>0.5</td>\n      <td>1</td>\n      <td>0.00073</td>\n      <td>423420.03125</td>\n      <td>0</td>\n      <td>1</td>\n    </tr>\n    <tr>\n      <th>7</th>\n      <td>0.5</td>\n      <td>1</td>\n      <td>0.00074</td>\n      <td>402121.96875</td>\n      <td>0</td>\n      <td>1</td>\n    </tr>\n    <tr>\n      <th>8</th>\n      <td>0.5</td>\n      <td>1</td>\n      <td>0.00075</td>\n      <td>383202.34375</td>\n      <td>0</td>\n      <td>1</td>\n    </tr>\n    <tr>\n      <th>9</th>\n      <td>0.5</td>\n      <td>1</td>\n      <td>0.00076</td>\n      <td>365626.65625</td>\n      <td>0</td>\n      <td>1</td>\n    </tr>\n    <tr>\n      <th>10</th>\n      <td>0.5</td>\n      <td>1</td>\n      <td>0.00077</td>\n      <td>349977.50000</td>\n      <td>0</td>\n      <td>1</td>\n    </tr>\n    <tr>\n      <th>11</th>\n      <td>0.5</td>\n      <td>1</td>\n      <td>0.00078</td>\n      <td>334716.18750</td>\n      <td>0</td>\n      <td>1</td>\n    </tr>\n    <tr>\n      <th>12</th>\n      <td>0.5</td>\n      <td>1</td>\n      <td>0.00079</td>\n      <td>320582.50000</td>\n      <td>0</td>\n      <td>1</td>\n    </tr>\n    <tr>\n      <th>13</th>\n      <td>0.5</td>\n      <td>1</td>\n      <td>0.00080</td>\n      <td>307536.68750</td>\n      <td>0</td>\n      <td>1</td>\n    </tr>\n    <tr>\n      <th>14</th>\n      <td>0.5</td>\n      <td>1</td>\n      <td>0.00081</td>\n      <td>295047.87500</td>\n      <td>0</td>\n      <td>1</td>\n    </tr>\n    <tr>\n      <th>15</th>\n      <td>0.5</td>\n      <td>1</td>\n      <td>0.00082</td>\n      <td>283671.71875</td>\n      <td>0</td>\n      <td>1</td>\n    </tr>\n    <tr>\n      <th>16</th>\n      <td>0.5</td>\n      <td>1</td>\n      <td>0.00083</td>\n      <td>273287.31250</td>\n      <td>0</td>\n      <td>1</td>\n    </tr>\n    <tr>\n      <th>17</th>\n      <td>0.5</td>\n      <td>1</td>\n      <td>0.00084</td>\n      <td>263380.59375</td>\n      <td>0</td>\n      <td>1</td>\n    </tr>\n    <tr>\n      <th>18</th>\n      <td>0.5</td>\n      <td>1</td>\n      <td>0.00085</td>\n      <td>253957.70312</td>\n      <td>0</td>\n      <td>1</td>\n    </tr>\n    <tr>\n      <th>19</th>\n      <td>0.5</td>\n      <td>1</td>\n      <td>0.00086</td>\n      <td>245341.54688</td>\n      <td>0</td>\n      <td>1</td>\n    </tr>\n    <tr>\n      <th>20</th>\n      <td>0.5</td>\n      <td>1</td>\n      <td>0.00087</td>\n      <td>237136.67188</td>\n      <td>0</td>\n      <td>1</td>\n    </tr>\n    <tr>\n      <th>21</th>\n      <td>0.5</td>\n      <td>1</td>\n      <td>0.00088</td>\n      <td>229610.26562</td>\n      <td>0</td>\n      <td>1</td>\n    </tr>\n    <tr>\n      <th>22</th>\n      <td>0.5</td>\n      <td>1</td>\n      <td>0.00089</td>\n      <td>222423.93750</td>\n      <td>0</td>\n      <td>1</td>\n    </tr>\n    <tr>\n      <th>23</th>\n      <td>0.5</td>\n      <td>1</td>\n      <td>0.00090</td>\n      <td>215571.06250</td>\n      <td>0</td>\n      <td>1</td>\n    </tr>\n    <tr>\n      <th>24</th>\n      <td>0.5</td>\n      <td>1</td>\n      <td>0.00091</td>\n      <td>209261.32812</td>\n      <td>0</td>\n      <td>1</td>\n    </tr>\n    <tr>\n      <th>25</th>\n      <td>0.5</td>\n      <td>1</td>\n      <td>0.00092</td>\n      <td>203243.39062</td>\n      <td>0</td>\n      <td>1</td>\n    </tr>\n    <tr>\n      <th>26</th>\n      <td>0.5</td>\n      <td>1</td>\n      <td>0.00093</td>\n      <td>197520.82812</td>\n      <td>0</td>\n      <td>1</td>\n    </tr>\n    <tr>\n      <th>27</th>\n      <td>0.5</td>\n      <td>1</td>\n      <td>0.00094</td>\n      <td>192094.54688</td>\n      <td>0</td>\n      <td>1</td>\n    </tr>\n    <tr>\n      <th>28</th>\n      <td>0.5</td>\n      <td>1</td>\n      <td>0.00095</td>\n      <td>186960.62500</td>\n      <td>0</td>\n      <td>1</td>\n    </tr>\n    <tr>\n      <th>29</th>\n      <td>0.5</td>\n      <td>1</td>\n      <td>0.00096</td>\n      <td>182106.14062</td>\n      <td>0</td>\n      <td>1</td>\n    </tr>\n  </tbody>\n</table>\n</div>"
     },
     "execution_count": 6,
     "metadata": {},
     "output_type": "execute_result"
    }
   ],
   "source": [
    "dataset_train.head(30)"
   ],
   "metadata": {
    "collapsed": false,
    "ExecuteTime": {
     "end_time": "2023-10-04T01:36:01.665640500Z",
     "start_time": "2023-10-04T01:36:01.585945800Z"
    }
   }
  },
  {
   "cell_type": "code",
   "execution_count": 7,
   "metadata": {
    "ExecuteTime": {
     "end_time": "2023-10-04T01:36:03.186114500Z",
     "start_time": "2023-10-04T01:36:03.145738700Z"
    }
   },
   "outputs": [
    {
     "name": "stdout",
     "output_type": "stream",
     "text": [
      "(492019, 5) (492019,)\n"
     ]
    }
   ],
   "source": [
    "y = dataset_train['Pressure']\n",
    "X = dataset_train.drop(['Pressure'], axis=1)\n",
    "print(X.shape, y.shape)"
   ]
  },
  {
   "cell_type": "code",
   "execution_count": 8,
   "metadata": {
    "ExecuteTime": {
     "end_time": "2023-10-04T01:36:04.399799500Z",
     "start_time": "2023-10-04T01:36:04.352856400Z"
    }
   },
   "outputs": [],
   "source": [
    "# convert to numpy array\n",
    "X = np.array(X)\n",
    "y = np.array(y)"
   ]
  },
  {
   "cell_type": "markdown",
   "metadata": {
    "colab_type": "text",
    "id": "VC6omXel_Up0"
   },
   "source": [
    "### Splitting the dataset into the Training set and Test set"
   ]
  },
  {
   "cell_type": "code",
   "execution_count": 9,
   "metadata": {
    "colab": {},
    "colab_type": "code",
    "id": "L5edeb2r_agx",
    "ExecuteTime": {
     "end_time": "2023-10-04T01:36:07.134260800Z",
     "start_time": "2023-10-04T01:36:06.087150500Z"
    }
   },
   "outputs": [],
   "source": [
    "from sklearn.model_selection import train_test_split\n",
    "X_train, X_test, y_train, y_test = train_test_split(X,\n",
    "                                                    y,\n",
    "                                                    test_size = 0.4,\n",
    "                                                    random_state = 0)"
   ]
  },
  {
   "cell_type": "code",
   "execution_count": 10,
   "metadata": {
    "colab": {},
    "colab_type": "code",
    "id": "L5edeb2r_agx",
    "ExecuteTime": {
     "end_time": "2023-10-04T01:36:08.103078200Z",
     "start_time": "2023-10-04T01:36:08.053643400Z"
    }
   },
   "outputs": [],
   "source": [
    "X_val, X_test, y_val, y_test = train_test_split(X_test,\n",
    "                                                y_test,\n",
    "                                                test_size = 0.5,\n",
    "                                                random_state = 0)"
   ]
  },
  {
   "cell_type": "markdown",
   "source": [
    "## Feature scaling"
   ],
   "metadata": {
    "collapsed": false
   }
  },
  {
   "cell_type": "code",
   "execution_count": 11,
   "outputs": [
    {
     "name": "stdout",
     "output_type": "stream",
     "text": [
      "[[-1.11558794  0.43902902  0.40860138  1.          0.        ]\n",
      " [-1.83149237 -1.32802297 -1.10299844  1.          0.        ]\n",
      " [ 1.03212534 -0.44449698 -0.9816199   1.          0.        ]\n",
      " ...\n",
      " [ 1.33894152  0.43902902 -0.15265695  1.          0.        ]\n",
      " [ 0.6230371  -1.32802297  0.5075946   1.          0.        ]\n",
      " [-1.72922031 -0.44449698 -0.88346605  1.          0.        ]]\n"
     ]
    }
   ],
   "source": [
    "from sklearn.preprocessing import StandardScaler\n",
    "sc = StandardScaler()\n",
    "X_train[:,0:3] = sc.fit_transform(X_train[:, 0:3])\n",
    "print (X_train)"
   ],
   "metadata": {
    "collapsed": false,
    "ExecuteTime": {
     "end_time": "2023-10-04T01:36:09.702940900Z",
     "start_time": "2023-10-04T01:36:09.656254500Z"
    }
   }
  },
  {
   "cell_type": "code",
   "execution_count": 12,
   "outputs": [
    {
     "name": "stdout",
     "output_type": "stream",
     "text": [
      "[[ 0.92985328 -0.44449698 -1.49808719  1.          0.        ]\n",
      " [-0.39968351  0.43902902 -1.30699156  0.          1.        ]\n",
      " [-1.01331588  0.43902902  0.31822281  1.          0.        ]\n",
      " ...\n",
      " [-0.39968351  1.32255501  0.65650805  1.          0.        ]\n",
      " [ 0.31622091  0.43902902  1.37959509  1.          0.        ]\n",
      " [-0.29741145 -1.32802297 -1.46796614  1.          0.        ]]\n"
     ]
    }
   ],
   "source": [
    "X_test[:,0:3] = sc.transform(X_test[:,0:3])\n",
    "print (X_test)"
   ],
   "metadata": {
    "collapsed": false,
    "ExecuteTime": {
     "end_time": "2023-10-04T01:36:11.057152200Z",
     "start_time": "2023-10-04T01:36:11.015259200Z"
    }
   }
  },
  {
   "cell_type": "code",
   "execution_count": 13,
   "outputs": [
    {
     "name": "stdout",
     "output_type": "stream",
     "text": [
      "[[-0.29741145 -1.32802297 -0.07001311  1.          0.        ]\n",
      " [-0.7064997   0.43902902 -0.26110084  1.          0.        ]\n",
      " [-1.11558794  0.43902902 -0.72422921  1.          0.        ]\n",
      " ...\n",
      " [-0.91104382 -0.44449698 -0.03128483  1.          0.        ]\n",
      " [-1.52467619 -0.44449698  0.09009324  1.          0.        ]\n",
      " [ 1.44121358  1.32255501  1.56811516  1.          0.        ]]\n"
     ]
    }
   ],
   "source": [
    "X_val[:,0:3] = sc.transform(X_val[:,0:3])\n",
    "print (X_val)"
   ],
   "metadata": {
    "collapsed": false,
    "ExecuteTime": {
     "end_time": "2023-10-04T01:36:12.821914200Z",
     "start_time": "2023-10-04T01:36:12.743892300Z"
    }
   }
  },
  {
   "cell_type": "code",
   "execution_count": 14,
   "outputs": [
    {
     "name": "stdout",
     "output_type": "stream",
     "text": [
      "X_train 295211\n",
      "X_test 98404\n",
      "X_val 98404\n"
     ]
    }
   ],
   "source": [
    "print (\"X_train\", len(X_train))\n",
    "print (\"X_test\", len(X_test))\n",
    "print (\"X_val\", len(X_val))"
   ],
   "metadata": {
    "collapsed": false,
    "ExecuteTime": {
     "end_time": "2023-10-04T01:36:14.030843600Z",
     "start_time": "2023-10-04T01:36:13.983530800Z"
    }
   }
  },
  {
   "cell_type": "markdown",
   "metadata": {
    "colab_type": "text",
    "id": "_mSLlAT9_eyI"
   },
   "source": [
    "## Part 3 - Building the ANN"
   ]
  },
  {
   "cell_type": "markdown",
   "metadata": {
    "colab_type": "text",
    "id": "CsBULd_f_wLY"
   },
   "source": [
    "### Initializing the ANN"
   ]
  },
  {
   "cell_type": "code",
   "execution_count": 15,
   "metadata": {
    "colab": {},
    "colab_type": "code",
    "id": "J6Hd97Ls__Nz",
    "ExecuteTime": {
     "end_time": "2023-10-04T01:36:36.767722700Z",
     "start_time": "2023-10-04T01:36:36.681602800Z"
    }
   },
   "outputs": [],
   "source": [
    "ann = tf.keras.models.Sequential()"
   ]
  },
  {
   "cell_type": "markdown",
   "metadata": {
    "colab_type": "text",
    "id": "iitAFJS_ABUn"
   },
   "source": [
    "### Adding the input layer and the first hidden layer"
   ]
  },
  {
   "cell_type": "code",
   "execution_count": 16,
   "metadata": {
    "colab": {},
    "colab_type": "code",
    "id": "ksO_Vv40AHix",
    "ExecuteTime": {
     "end_time": "2023-10-04T01:36:40.600467700Z",
     "start_time": "2023-10-04T01:36:40.543986800Z"
    }
   },
   "outputs": [],
   "source": [
    "ann.add(tf.keras.layers.Dense(units=150,\n",
    "                              input_shape=(X_train.shape[1],),\n",
    "                              activation='relu'))"
   ]
  },
  {
   "cell_type": "markdown",
   "metadata": {
    "colab_type": "text",
    "id": "-lb4kK_wAKbs"
   },
   "source": [
    "### Adding the second hidden layer"
   ]
  },
  {
   "cell_type": "code",
   "execution_count": 17,
   "metadata": {
    "colab": {},
    "colab_type": "code",
    "id": "c2357OqEAQOQ",
    "tags": [],
    "ExecuteTime": {
     "end_time": "2023-10-04T01:36:42.481878900Z",
     "start_time": "2023-10-04T01:36:42.418402800Z"
    }
   },
   "outputs": [],
   "source": [
    "ann.add(tf.keras.layers.Dense(units=125,\n",
    "                              activation='relu'))"
   ]
  },
  {
   "cell_type": "markdown",
   "metadata": {
    "colab_type": "text",
    "id": "-lb4kK_wAKbs"
   },
   "source": [
    "### Adding the third hidden layer"
   ]
  },
  {
   "cell_type": "code",
   "execution_count": 18,
   "metadata": {
    "colab": {},
    "colab_type": "code",
    "id": "c2357OqEAQOQ",
    "tags": [],
    "ExecuteTime": {
     "end_time": "2023-10-04T01:36:44.034062900Z",
     "start_time": "2023-10-04T01:36:43.942806Z"
    }
   },
   "outputs": [],
   "source": [
    "ann.add(tf.keras.layers.Dense(units=100,\n",
    "                              activation='relu'))"
   ]
  },
  {
   "cell_type": "markdown",
   "source": [
    "### Adding the fourth hidden layer"
   ],
   "metadata": {
    "collapsed": false
   }
  },
  {
   "cell_type": "code",
   "execution_count": 19,
   "outputs": [],
   "source": [
    "ann.add(tf.keras.layers.Dense(units=75,\n",
    "                              activation='relu'))"
   ],
   "metadata": {
    "collapsed": false,
    "ExecuteTime": {
     "end_time": "2023-10-04T01:36:45.617835100Z",
     "start_time": "2023-10-04T01:36:45.554524300Z"
    }
   }
  },
  {
   "cell_type": "markdown",
   "metadata": {
    "colab_type": "text",
    "id": "jwMOmKb3AdBY"
   },
   "source": [
    "### Adding the output layer"
   ]
  },
  {
   "cell_type": "code",
   "execution_count": 20,
   "metadata": {
    "colab": {},
    "colab_type": "code",
    "id": "YFATpzsUAkLL",
    "ExecuteTime": {
     "end_time": "2023-10-04T01:36:47.274339200Z",
     "start_time": "2023-10-04T01:36:47.215444200Z"
    }
   },
   "outputs": [],
   "source": [
    "ann.add(tf.keras.layers.Dense(units=1,\n",
    "                              activation='linear'))"
   ]
  },
  {
   "cell_type": "markdown",
   "metadata": {},
   "source": [
    "### what model looks like"
   ]
  },
  {
   "cell_type": "code",
   "execution_count": 21,
   "metadata": {
    "ExecuteTime": {
     "end_time": "2023-10-04T01:36:49.572166100Z",
     "start_time": "2023-10-04T01:36:49.478314700Z"
    }
   },
   "outputs": [
    {
     "name": "stdout",
     "output_type": "stream",
     "text": [
      "Model: \"sequential\"\n",
      "_________________________________________________________________\n",
      " Layer (type)                Output Shape              Param #   \n",
      "=================================================================\n",
      " dense (Dense)               (None, 150)               900       \n",
      "                                                                 \n",
      " dense_1 (Dense)             (None, 125)               18875     \n",
      "                                                                 \n",
      " dense_2 (Dense)             (None, 100)               12600     \n",
      "                                                                 \n",
      " dense_3 (Dense)             (None, 75)                7575      \n",
      "                                                                 \n",
      " dense_4 (Dense)             (None, 1)                 76        \n",
      "                                                                 \n",
      "=================================================================\n",
      "Total params: 40,026\n",
      "Trainable params: 40,026\n",
      "Non-trainable params: 0\n",
      "_________________________________________________________________\n"
     ]
    }
   ],
   "source": [
    "ann.summary()"
   ]
  },
  {
   "cell_type": "markdown",
   "metadata": {
    "colab_type": "text",
    "id": "fq7e4fF6A1yy"
   },
   "source": [
    "## Part 4 - Training the ANN"
   ]
  },
  {
   "cell_type": "markdown",
   "metadata": {
    "colab_type": "text",
    "id": "qDeylAs2An25"
   },
   "source": [
    "### Compiling the ANN"
   ]
  },
  {
   "cell_type": "code",
   "execution_count": 22,
   "metadata": {
    "colab": {},
    "colab_type": "code",
    "id": "pesgbWlCAtB4",
    "ExecuteTime": {
     "end_time": "2023-10-04T01:36:53.259537900Z",
     "start_time": "2023-10-04T01:36:53.207975Z"
    }
   },
   "outputs": [],
   "source": [
    "# from tensorflow.keras.optimizers import Adam\n",
    "from keras.optimizers import Adam\n",
    "opt = Adam(learning_rate=0.001)\n",
    "ann.compile(optimizer = opt,\n",
    "            loss = 'mean_squared_error',\n",
    "            metrics = ['mae'])"
   ]
  },
  {
   "cell_type": "markdown",
   "metadata": {},
   "source": [
    "### early stopping callback"
   ]
  },
  {
   "cell_type": "code",
   "execution_count": 23,
   "metadata": {
    "ExecuteTime": {
     "end_time": "2023-10-04T01:36:54.845326300Z",
     "start_time": "2023-10-04T01:36:54.797915Z"
    }
   },
   "outputs": [],
   "source": [
    "# protects from unnecessary further training of the model if a particular metric does not continue to improve over a number of n epochs. In such a case, the model training would be automatically aborted.\n",
    "from keras.callbacks import EarlyStopping\n",
    "es = EarlyStopping(monitor='val_loss',\n",
    "                   mode='min',\n",
    "                   patience=50,\n",
    "                   restore_best_weights = True)"
   ]
  },
  {
   "cell_type": "markdown",
   "metadata": {
    "colab_type": "text",
    "id": "YjVuiybYOo7r"
   },
   "source": [
    "### Training the ANN model on the Training set"
   ]
  },
  {
   "cell_type": "code",
   "execution_count": 24,
   "metadata": {
    "colab": {
     "base_uri": "https://localhost:8080/",
     "height": 1000
    },
    "colab_type": "code",
    "id": "c_vV-tiiA5zn",
    "outputId": "4a2b6ee6-ed75-4698-9069-b250e613803f",
    "ExecuteTime": {
     "end_time": "2023-10-04T05:16:29.500693200Z",
     "start_time": "2023-10-04T01:36:56.708865800Z"
    }
   },
   "outputs": [
    {
     "name": "stdout",
     "output_type": "stream",
     "text": [
      "Epoch 1/500\n",
      "5905/5905 [==============================] - 24s 4ms/step - loss: 8285319168.0000 - mae: 16916.1211 - val_loss: 8506909696.0000 - val_mae: 13071.8643\n",
      "Epoch 2/500\n",
      "5905/5905 [==============================] - 26s 4ms/step - loss: 7037804032.0000 - mae: 13597.2881 - val_loss: 7588459520.0000 - val_mae: 12911.0215\n",
      "Epoch 3/500\n",
      "5905/5905 [==============================] - 25s 4ms/step - loss: 6768143360.0000 - mae: 13217.6357 - val_loss: 7571485184.0000 - val_mae: 12325.4766\n",
      "Epoch 4/500\n",
      "5905/5905 [==============================] - 25s 4ms/step - loss: 6706482176.0000 - mae: 12709.6777 - val_loss: 7417589760.0000 - val_mae: 13346.2920\n",
      "Epoch 5/500\n",
      "5905/5905 [==============================] - 26s 4ms/step - loss: 6577032704.0000 - mae: 12158.7764 - val_loss: 7277716992.0000 - val_mae: 11884.1885\n",
      "Epoch 6/500\n",
      "5905/5905 [==============================] - 25s 4ms/step - loss: 6523297792.0000 - mae: 11412.1201 - val_loss: 7202047488.0000 - val_mae: 10876.7686\n",
      "Epoch 7/500\n",
      "5905/5905 [==============================] - 27s 5ms/step - loss: 6416117248.0000 - mae: 10756.0352 - val_loss: 7094940672.0000 - val_mae: 11463.9238\n",
      "Epoch 8/500\n",
      "5905/5905 [==============================] - 25s 4ms/step - loss: 6268466176.0000 - mae: 9883.1104 - val_loss: 6829787136.0000 - val_mae: 9383.8271\n",
      "Epoch 9/500\n",
      "5905/5905 [==============================] - 25s 4ms/step - loss: 6117289984.0000 - mae: 9370.9961 - val_loss: 7049497088.0000 - val_mae: 8568.6641\n",
      "Epoch 10/500\n",
      "5905/5905 [==============================] - 24s 4ms/step - loss: 5998624256.0000 - mae: 9028.9131 - val_loss: 6541216256.0000 - val_mae: 9389.3594\n",
      "Epoch 11/500\n",
      "5905/5905 [==============================] - 25s 4ms/step - loss: 5806544896.0000 - mae: 8481.3047 - val_loss: 6351050752.0000 - val_mae: 8220.7910\n",
      "Epoch 12/500\n",
      "5905/5905 [==============================] - 24s 4ms/step - loss: 5752770560.0000 - mae: 8388.9121 - val_loss: 6933891072.0000 - val_mae: 11140.1602\n",
      "Epoch 13/500\n",
      "5905/5905 [==============================] - 24s 4ms/step - loss: 5688391168.0000 - mae: 8094.4619 - val_loss: 6374752256.0000 - val_mae: 8216.2275\n",
      "Epoch 14/500\n",
      "5905/5905 [==============================] - 25s 4ms/step - loss: 5499095040.0000 - mae: 7964.9272 - val_loss: 6935822848.0000 - val_mae: 6658.2427\n",
      "Epoch 15/500\n",
      "5905/5905 [==============================] - 24s 4ms/step - loss: 5684243968.0000 - mae: 7989.6836 - val_loss: 6153747968.0000 - val_mae: 8051.8359\n",
      "Epoch 16/500\n",
      "5905/5905 [==============================] - 25s 4ms/step - loss: 5483258880.0000 - mae: 7989.3809 - val_loss: 6361828864.0000 - val_mae: 7191.1406\n",
      "Epoch 17/500\n",
      "5905/5905 [==============================] - 25s 4ms/step - loss: 5557135872.0000 - mae: 7498.9102 - val_loss: 6070467584.0000 - val_mae: 6904.2119\n",
      "Epoch 18/500\n",
      "5905/5905 [==============================] - 25s 4ms/step - loss: 5581946880.0000 - mae: 7396.5918 - val_loss: 6061596160.0000 - val_mae: 6549.1333\n",
      "Epoch 19/500\n",
      "5905/5905 [==============================] - 25s 4ms/step - loss: 5438099456.0000 - mae: 7242.3550 - val_loss: 6308415488.0000 - val_mae: 6876.3115\n",
      "Epoch 20/500\n",
      "5905/5905 [==============================] - 25s 4ms/step - loss: 5556964864.0000 - mae: 7191.8833 - val_loss: 6142667264.0000 - val_mae: 8277.2598\n",
      "Epoch 21/500\n",
      "5905/5905 [==============================] - 25s 4ms/step - loss: 5387753984.0000 - mae: 7063.5483 - val_loss: 6486262272.0000 - val_mae: 6546.6797\n",
      "Epoch 22/500\n",
      "5905/5905 [==============================] - 26s 4ms/step - loss: 5513678336.0000 - mae: 6952.4551 - val_loss: 6342376960.0000 - val_mae: 7040.6011\n",
      "Epoch 23/500\n",
      "5905/5905 [==============================] - 25s 4ms/step - loss: 5553455616.0000 - mae: 6969.4189 - val_loss: 5942078464.0000 - val_mae: 6105.0688\n",
      "Epoch 24/500\n",
      "5905/5905 [==============================] - 26s 4ms/step - loss: 5443782656.0000 - mae: 6821.4082 - val_loss: 6023336448.0000 - val_mae: 7183.3247\n",
      "Epoch 25/500\n",
      "5905/5905 [==============================] - 25s 4ms/step - loss: 5232012800.0000 - mae: 6744.0034 - val_loss: 6361455616.0000 - val_mae: 7740.8325\n",
      "Epoch 26/500\n",
      "5905/5905 [==============================] - 25s 4ms/step - loss: 5402158080.0000 - mae: 6850.0112 - val_loss: 5997874176.0000 - val_mae: 6663.2578\n",
      "Epoch 27/500\n",
      "5905/5905 [==============================] - 26s 4ms/step - loss: 5462059008.0000 - mae: 6781.3804 - val_loss: 5970832384.0000 - val_mae: 6765.5962\n",
      "Epoch 28/500\n",
      "5905/5905 [==============================] - 25s 4ms/step - loss: 5508813824.0000 - mae: 6851.5757 - val_loss: 6173217792.0000 - val_mae: 7264.9385\n",
      "Epoch 29/500\n",
      "5905/5905 [==============================] - 26s 4ms/step - loss: 5399623680.0000 - mae: 6666.9761 - val_loss: 5962969600.0000 - val_mae: 7056.8794\n",
      "Epoch 30/500\n",
      "5905/5905 [==============================] - 25s 4ms/step - loss: 5359071232.0000 - mae: 6432.1567 - val_loss: 6224710144.0000 - val_mae: 6986.8403\n",
      "Epoch 31/500\n",
      "5905/5905 [==============================] - 27s 5ms/step - loss: 5380240384.0000 - mae: 6506.8594 - val_loss: 5821249536.0000 - val_mae: 6097.7021\n",
      "Epoch 32/500\n",
      "5905/5905 [==============================] - 26s 4ms/step - loss: 5280380416.0000 - mae: 6317.4546 - val_loss: 5928117760.0000 - val_mae: 6452.9473\n",
      "Epoch 33/500\n",
      "5905/5905 [==============================] - 26s 4ms/step - loss: 5196347392.0000 - mae: 6225.4409 - val_loss: 6212422144.0000 - val_mae: 7117.1924\n",
      "Epoch 34/500\n",
      "5905/5905 [==============================] - 25s 4ms/step - loss: 5416459264.0000 - mae: 6295.5488 - val_loss: 5855618048.0000 - val_mae: 5888.2944\n",
      "Epoch 35/500\n",
      "5905/5905 [==============================] - 25s 4ms/step - loss: 5359559680.0000 - mae: 6368.9727 - val_loss: 6150761472.0000 - val_mae: 7715.2788\n",
      "Epoch 36/500\n",
      "5905/5905 [==============================] - 26s 4ms/step - loss: 5454327808.0000 - mae: 6471.0947 - val_loss: 5867978240.0000 - val_mae: 6161.5532\n",
      "Epoch 37/500\n",
      "5905/5905 [==============================] - 26s 4ms/step - loss: 5329802240.0000 - mae: 6405.9805 - val_loss: 6094135808.0000 - val_mae: 5737.2954\n",
      "Epoch 38/500\n",
      "5905/5905 [==============================] - 26s 4ms/step - loss: 5285071872.0000 - mae: 6198.0469 - val_loss: 6249213440.0000 - val_mae: 7605.5151\n",
      "Epoch 39/500\n",
      "5905/5905 [==============================] - 25s 4ms/step - loss: 5407073792.0000 - mae: 6330.3960 - val_loss: 5911628288.0000 - val_mae: 6235.2104\n",
      "Epoch 40/500\n",
      "5905/5905 [==============================] - 26s 4ms/step - loss: 5308863488.0000 - mae: 6066.7881 - val_loss: 6265414656.0000 - val_mae: 6804.2153\n",
      "Epoch 41/500\n",
      "5905/5905 [==============================] - 25s 4ms/step - loss: 5313822208.0000 - mae: 6124.2729 - val_loss: 6036833280.0000 - val_mae: 6026.9419\n",
      "Epoch 42/500\n",
      "5905/5905 [==============================] - 26s 4ms/step - loss: 5403589632.0000 - mae: 6227.6074 - val_loss: 5737240576.0000 - val_mae: 5677.3687\n",
      "Epoch 43/500\n",
      "5905/5905 [==============================] - 25s 4ms/step - loss: 5322587136.0000 - mae: 6135.7783 - val_loss: 6269958656.0000 - val_mae: 5683.8828\n",
      "Epoch 44/500\n",
      "5905/5905 [==============================] - 25s 4ms/step - loss: 5298180096.0000 - mae: 6264.4614 - val_loss: 6029670400.0000 - val_mae: 6188.2583\n",
      "Epoch 45/500\n",
      "5905/5905 [==============================] - 26s 4ms/step - loss: 5340323328.0000 - mae: 6209.3047 - val_loss: 5993122816.0000 - val_mae: 7074.9229\n",
      "Epoch 46/500\n",
      "5905/5905 [==============================] - 25s 4ms/step - loss: 5264130048.0000 - mae: 6249.9233 - val_loss: 6628017664.0000 - val_mae: 8072.5010\n",
      "Epoch 47/500\n",
      "5905/5905 [==============================] - 25s 4ms/step - loss: 5298909696.0000 - mae: 6051.2959 - val_loss: 5816496128.0000 - val_mae: 7004.9927\n",
      "Epoch 48/500\n",
      "5905/5905 [==============================] - 25s 4ms/step - loss: 5302041600.0000 - mae: 6068.4648 - val_loss: 6319667200.0000 - val_mae: 5832.4302\n",
      "Epoch 49/500\n",
      "5905/5905 [==============================] - 26s 4ms/step - loss: 5342535680.0000 - mae: 6061.2183 - val_loss: 5958062080.0000 - val_mae: 5483.0078\n",
      "Epoch 50/500\n",
      "5905/5905 [==============================] - 25s 4ms/step - loss: 5320478208.0000 - mae: 5950.3345 - val_loss: 6395178496.0000 - val_mae: 8368.0479\n",
      "Epoch 51/500\n",
      "5905/5905 [==============================] - 26s 4ms/step - loss: 5288024576.0000 - mae: 5954.3467 - val_loss: 6263803904.0000 - val_mae: 5198.9839\n",
      "Epoch 52/500\n",
      "5905/5905 [==============================] - 25s 4ms/step - loss: 5281283584.0000 - mae: 5991.8262 - val_loss: 5930483712.0000 - val_mae: 5894.4165\n",
      "Epoch 53/500\n",
      "5905/5905 [==============================] - 26s 4ms/step - loss: 5256754688.0000 - mae: 5832.0630 - val_loss: 5901750784.0000 - val_mae: 5509.3555\n",
      "Epoch 54/500\n",
      "5905/5905 [==============================] - 26s 4ms/step - loss: 5312369152.0000 - mae: 5879.7686 - val_loss: 5903371264.0000 - val_mae: 6184.8262\n",
      "Epoch 55/500\n",
      "5905/5905 [==============================] - 26s 4ms/step - loss: 5277030400.0000 - mae: 5824.3027 - val_loss: 6168300544.0000 - val_mae: 5954.9834\n",
      "Epoch 56/500\n",
      "5905/5905 [==============================] - 25s 4ms/step - loss: 5296250368.0000 - mae: 5813.6631 - val_loss: 5778859008.0000 - val_mae: 5311.1934\n",
      "Epoch 57/500\n",
      "5905/5905 [==============================] - 25s 4ms/step - loss: 5313417216.0000 - mae: 5790.3359 - val_loss: 6029485568.0000 - val_mae: 5735.7192\n",
      "Epoch 58/500\n",
      "5905/5905 [==============================] - 26s 4ms/step - loss: 5171367424.0000 - mae: 5850.2598 - val_loss: 5936836096.0000 - val_mae: 6028.8848\n",
      "Epoch 59/500\n",
      "5905/5905 [==============================] - 25s 4ms/step - loss: 5233554944.0000 - mae: 5990.8877 - val_loss: 5808394752.0000 - val_mae: 6041.0200\n",
      "Epoch 60/500\n",
      "5905/5905 [==============================] - 25s 4ms/step - loss: 5284275200.0000 - mae: 5833.2788 - val_loss: 5994394112.0000 - val_mae: 5010.2896\n",
      "Epoch 61/500\n",
      "5905/5905 [==============================] - 25s 4ms/step - loss: 5301075456.0000 - mae: 5699.6309 - val_loss: 6643421696.0000 - val_mae: 8457.3984\n",
      "Epoch 62/500\n",
      "5905/5905 [==============================] - 26s 4ms/step - loss: 5279635968.0000 - mae: 5573.7656 - val_loss: 6121973248.0000 - val_mae: 5300.7515\n",
      "Epoch 63/500\n",
      "5905/5905 [==============================] - 25s 4ms/step - loss: 5236909056.0000 - mae: 5541.8530 - val_loss: 6334865408.0000 - val_mae: 7250.5684\n",
      "Epoch 64/500\n",
      "5905/5905 [==============================] - 25s 4ms/step - loss: 5300159488.0000 - mae: 5535.1899 - val_loss: 5957957632.0000 - val_mae: 7429.4834\n",
      "Epoch 65/500\n",
      "5905/5905 [==============================] - 25s 4ms/step - loss: 5241764864.0000 - mae: 5530.8257 - val_loss: 5869276672.0000 - val_mae: 5687.6099\n",
      "Epoch 66/500\n",
      "5905/5905 [==============================] - 27s 5ms/step - loss: 5176645120.0000 - mae: 5400.7373 - val_loss: 7349065728.0000 - val_mae: 9452.3418\n",
      "Epoch 67/500\n",
      "5905/5905 [==============================] - 26s 4ms/step - loss: 5226876928.0000 - mae: 5638.9268 - val_loss: 6428728320.0000 - val_mae: 4903.1519\n",
      "Epoch 68/500\n",
      "5905/5905 [==============================] - 26s 4ms/step - loss: 5248448000.0000 - mae: 5418.5161 - val_loss: 5849139712.0000 - val_mae: 5922.6670\n",
      "Epoch 69/500\n",
      "5905/5905 [==============================] - 25s 4ms/step - loss: 5207030272.0000 - mae: 5471.7007 - val_loss: 5977704960.0000 - val_mae: 4748.4575\n",
      "Epoch 70/500\n",
      "5905/5905 [==============================] - 26s 4ms/step - loss: 5270550528.0000 - mae: 5387.0669 - val_loss: 6002584576.0000 - val_mae: 5247.3838\n",
      "Epoch 71/500\n",
      "5905/5905 [==============================] - 26s 4ms/step - loss: 5200407552.0000 - mae: 5371.7017 - val_loss: 5850265088.0000 - val_mae: 5430.8750\n",
      "Epoch 72/500\n",
      "5905/5905 [==============================] - 25s 4ms/step - loss: 5236151296.0000 - mae: 5378.5537 - val_loss: 5933216768.0000 - val_mae: 5085.8359\n",
      "Epoch 73/500\n",
      "5905/5905 [==============================] - 25s 4ms/step - loss: 5172893184.0000 - mae: 5309.5151 - val_loss: 7014760448.0000 - val_mae: 8300.7568\n",
      "Epoch 74/500\n",
      "5905/5905 [==============================] - 26s 4ms/step - loss: 5273655808.0000 - mae: 5287.0254 - val_loss: 5836005888.0000 - val_mae: 4664.8979\n",
      "Epoch 75/500\n",
      "5905/5905 [==============================] - 26s 4ms/step - loss: 5211828224.0000 - mae: 5321.4761 - val_loss: 5793917952.0000 - val_mae: 5625.4429\n",
      "Epoch 76/500\n",
      "5905/5905 [==============================] - 26s 4ms/step - loss: 5203905024.0000 - mae: 5259.1367 - val_loss: 5912817664.0000 - val_mae: 4490.4312\n",
      "Epoch 77/500\n",
      "5905/5905 [==============================] - 26s 4ms/step - loss: 5202536960.0000 - mae: 5318.1807 - val_loss: 5770596352.0000 - val_mae: 4707.2534\n",
      "Epoch 78/500\n",
      "5905/5905 [==============================] - 26s 4ms/step - loss: 5206516224.0000 - mae: 5203.4419 - val_loss: 6136466944.0000 - val_mae: 6836.0454\n",
      "Epoch 79/500\n",
      "5905/5905 [==============================] - 25s 4ms/step - loss: 5127338496.0000 - mae: 5176.8271 - val_loss: 5829224448.0000 - val_mae: 4587.3799\n",
      "Epoch 80/500\n",
      "5905/5905 [==============================] - 26s 4ms/step - loss: 5212189696.0000 - mae: 5168.0547 - val_loss: 5818243072.0000 - val_mae: 5285.9839\n",
      "Epoch 81/500\n",
      "5905/5905 [==============================] - 26s 4ms/step - loss: 5183030272.0000 - mae: 5098.2842 - val_loss: 5746623488.0000 - val_mae: 4612.6226\n",
      "Epoch 82/500\n",
      "5905/5905 [==============================] - 26s 4ms/step - loss: 5204563456.0000 - mae: 5015.0020 - val_loss: 5775690240.0000 - val_mae: 4453.7012\n",
      "Epoch 83/500\n",
      "5905/5905 [==============================] - 26s 4ms/step - loss: 5209631232.0000 - mae: 5013.9404 - val_loss: 5987247104.0000 - val_mae: 4517.1455\n",
      "Epoch 84/500\n",
      "5905/5905 [==============================] - 27s 5ms/step - loss: 5168165888.0000 - mae: 4945.9673 - val_loss: 6105424896.0000 - val_mae: 4311.5098\n",
      "Epoch 85/500\n",
      "5905/5905 [==============================] - 26s 4ms/step - loss: 5174704128.0000 - mae: 5066.0015 - val_loss: 5821040128.0000 - val_mae: 4652.5449\n",
      "Epoch 86/500\n",
      "5905/5905 [==============================] - 26s 4ms/step - loss: 5179230720.0000 - mae: 4956.9556 - val_loss: 5836289024.0000 - val_mae: 5759.7744\n",
      "Epoch 87/500\n",
      "5905/5905 [==============================] - 26s 4ms/step - loss: 5183015424.0000 - mae: 4994.3652 - val_loss: 5748525056.0000 - val_mae: 4920.4268\n",
      "Epoch 88/500\n",
      "5905/5905 [==============================] - 27s 5ms/step - loss: 5145456640.0000 - mae: 4823.5151 - val_loss: 6125006336.0000 - val_mae: 7255.5566\n",
      "Epoch 89/500\n",
      "5905/5905 [==============================] - 26s 4ms/step - loss: 5147164672.0000 - mae: 4837.0176 - val_loss: 5783595008.0000 - val_mae: 4728.7568\n",
      "Epoch 90/500\n",
      "5905/5905 [==============================] - 26s 4ms/step - loss: 5228337152.0000 - mae: 4805.9297 - val_loss: 5627578368.0000 - val_mae: 4582.0327\n",
      "Epoch 91/500\n",
      "5905/5905 [==============================] - 26s 4ms/step - loss: 5197693952.0000 - mae: 4888.2842 - val_loss: 6120722944.0000 - val_mae: 5451.9194\n",
      "Epoch 92/500\n",
      "5905/5905 [==============================] - 26s 4ms/step - loss: 5171149312.0000 - mae: 4887.4961 - val_loss: 5838903296.0000 - val_mae: 5663.8862\n",
      "Epoch 93/500\n",
      "5905/5905 [==============================] - 26s 4ms/step - loss: 5164204544.0000 - mae: 4869.4946 - val_loss: 5661524992.0000 - val_mae: 4689.5972\n",
      "Epoch 94/500\n",
      "5905/5905 [==============================] - 26s 4ms/step - loss: 5121291776.0000 - mae: 4832.3379 - val_loss: 5901941248.0000 - val_mae: 4568.5688\n",
      "Epoch 95/500\n",
      "5905/5905 [==============================] - 26s 4ms/step - loss: 5122501632.0000 - mae: 4807.2163 - val_loss: 5784428032.0000 - val_mae: 4516.5933\n",
      "Epoch 96/500\n",
      "5905/5905 [==============================] - 26s 4ms/step - loss: 5160508928.0000 - mae: 4671.6982 - val_loss: 5827767808.0000 - val_mae: 4138.0342\n",
      "Epoch 97/500\n",
      "5905/5905 [==============================] - 27s 5ms/step - loss: 5132272128.0000 - mae: 4664.4102 - val_loss: 6253086720.0000 - val_mae: 4288.3594\n",
      "Epoch 98/500\n",
      "5905/5905 [==============================] - 26s 4ms/step - loss: 5131758080.0000 - mae: 4652.3877 - val_loss: 5715250688.0000 - val_mae: 4258.3662\n",
      "Epoch 99/500\n",
      "5905/5905 [==============================] - 26s 4ms/step - loss: 5164923392.0000 - mae: 4581.3467 - val_loss: 5659969024.0000 - val_mae: 4541.1216\n",
      "Epoch 100/500\n",
      "5905/5905 [==============================] - 26s 4ms/step - loss: 5106945024.0000 - mae: 4713.1406 - val_loss: 5918791680.0000 - val_mae: 4155.7383\n",
      "Epoch 101/500\n",
      "5905/5905 [==============================] - 27s 5ms/step - loss: 5137596928.0000 - mae: 4610.3750 - val_loss: 5606958592.0000 - val_mae: 4295.1289\n",
      "Epoch 102/500\n",
      "5905/5905 [==============================] - 26s 4ms/step - loss: 5131585024.0000 - mae: 4747.2891 - val_loss: 5845237248.0000 - val_mae: 4747.4771\n",
      "Epoch 103/500\n",
      "5905/5905 [==============================] - 26s 4ms/step - loss: 5128749568.0000 - mae: 4585.7739 - val_loss: 5857668608.0000 - val_mae: 5257.0781\n",
      "Epoch 104/500\n",
      "5905/5905 [==============================] - 26s 4ms/step - loss: 5137112576.0000 - mae: 4591.4966 - val_loss: 5831680512.0000 - val_mae: 4166.6440\n",
      "Epoch 105/500\n",
      "5905/5905 [==============================] - 27s 4ms/step - loss: 5109199360.0000 - mae: 4605.0068 - val_loss: 5900413952.0000 - val_mae: 4217.0610\n",
      "Epoch 106/500\n",
      "5905/5905 [==============================] - 26s 4ms/step - loss: 5122387456.0000 - mae: 4587.3618 - val_loss: 5664283648.0000 - val_mae: 4150.4507\n",
      "Epoch 107/500\n",
      "5905/5905 [==============================] - 27s 5ms/step - loss: 5140193280.0000 - mae: 4579.3447 - val_loss: 5904612864.0000 - val_mae: 4125.0537\n",
      "Epoch 108/500\n",
      "5905/5905 [==============================] - 26s 4ms/step - loss: 5087664640.0000 - mae: 4648.1431 - val_loss: 5659632128.0000 - val_mae: 4898.8550\n",
      "Epoch 109/500\n",
      "5905/5905 [==============================] - 27s 5ms/step - loss: 5097556992.0000 - mae: 4618.3970 - val_loss: 5696450560.0000 - val_mae: 4393.1670\n",
      "Epoch 110/500\n",
      "5905/5905 [==============================] - 26s 4ms/step - loss: 5095223808.0000 - mae: 4458.3882 - val_loss: 5686113792.0000 - val_mae: 4370.0225\n",
      "Epoch 111/500\n",
      "5905/5905 [==============================] - 26s 4ms/step - loss: 5115075072.0000 - mae: 4600.1274 - val_loss: 5672139264.0000 - val_mae: 4521.8604\n",
      "Epoch 112/500\n",
      "5905/5905 [==============================] - 26s 4ms/step - loss: 5109732864.0000 - mae: 4493.3257 - val_loss: 5703239168.0000 - val_mae: 5264.1606\n",
      "Epoch 113/500\n",
      "5905/5905 [==============================] - 26s 4ms/step - loss: 5063525376.0000 - mae: 4526.0854 - val_loss: 5791861760.0000 - val_mae: 3871.7397\n",
      "Epoch 114/500\n",
      "5905/5905 [==============================] - 26s 4ms/step - loss: 5102998016.0000 - mae: 4501.9355 - val_loss: 5780692480.0000 - val_mae: 4566.6235\n",
      "Epoch 115/500\n",
      "5905/5905 [==============================] - 25s 4ms/step - loss: 5139872256.0000 - mae: 4499.7979 - val_loss: 5783527936.0000 - val_mae: 4844.3140\n",
      "Epoch 116/500\n",
      "5905/5905 [==============================] - 26s 4ms/step - loss: 5135793664.0000 - mae: 4630.8096 - val_loss: 5877849088.0000 - val_mae: 4994.0181\n",
      "Epoch 117/500\n",
      "5905/5905 [==============================] - 26s 4ms/step - loss: 5147707392.0000 - mae: 4592.8130 - val_loss: 6039818752.0000 - val_mae: 4113.0098\n",
      "Epoch 118/500\n",
      "5905/5905 [==============================] - 27s 5ms/step - loss: 5136549888.0000 - mae: 4493.8540 - val_loss: 5753230848.0000 - val_mae: 5412.3203\n",
      "Epoch 119/500\n",
      "5905/5905 [==============================] - 26s 4ms/step - loss: 5092987392.0000 - mae: 4549.5430 - val_loss: 6173923328.0000 - val_mae: 4394.8022\n",
      "Epoch 120/500\n",
      "5905/5905 [==============================] - 26s 4ms/step - loss: 5124516864.0000 - mae: 4522.4199 - val_loss: 5708158976.0000 - val_mae: 5076.9580\n",
      "Epoch 121/500\n",
      "5905/5905 [==============================] - 26s 4ms/step - loss: 5104196608.0000 - mae: 4501.7236 - val_loss: 5611088384.0000 - val_mae: 4367.8291\n",
      "Epoch 122/500\n",
      "5905/5905 [==============================] - 27s 5ms/step - loss: 5028875264.0000 - mae: 4483.2158 - val_loss: 5748315136.0000 - val_mae: 3967.1704\n",
      "Epoch 123/500\n",
      "5905/5905 [==============================] - 26s 4ms/step - loss: 5106606080.0000 - mae: 4374.4404 - val_loss: 5752761344.0000 - val_mae: 4839.1323\n",
      "Epoch 124/500\n",
      "5905/5905 [==============================] - 27s 5ms/step - loss: 5081998336.0000 - mae: 4562.0791 - val_loss: 5980191744.0000 - val_mae: 3976.6348\n",
      "Epoch 125/500\n",
      "5905/5905 [==============================] - 26s 4ms/step - loss: 5148982784.0000 - mae: 4425.1484 - val_loss: 5798371328.0000 - val_mae: 5301.7104\n",
      "Epoch 126/500\n",
      "5905/5905 [==============================] - 26s 4ms/step - loss: 5050544640.0000 - mae: 4394.6587 - val_loss: 5847128576.0000 - val_mae: 3910.8237\n",
      "Epoch 127/500\n",
      "5905/5905 [==============================] - 26s 4ms/step - loss: 5018911232.0000 - mae: 4383.6899 - val_loss: 5700495360.0000 - val_mae: 3665.1301\n",
      "Epoch 128/500\n",
      "5905/5905 [==============================] - 26s 4ms/step - loss: 5049389056.0000 - mae: 4341.5229 - val_loss: 6394793984.0000 - val_mae: 3848.8059\n",
      "Epoch 129/500\n",
      "5905/5905 [==============================] - 26s 4ms/step - loss: 5121845760.0000 - mae: 4382.5903 - val_loss: 5735959552.0000 - val_mae: 4391.6851\n",
      "Epoch 130/500\n",
      "5905/5905 [==============================] - 26s 4ms/step - loss: 5126755840.0000 - mae: 4425.8711 - val_loss: 5768847360.0000 - val_mae: 4189.8345\n",
      "Epoch 131/500\n",
      "5905/5905 [==============================] - 27s 5ms/step - loss: 5061935104.0000 - mae: 4333.0664 - val_loss: 6149436928.0000 - val_mae: 5673.4453\n",
      "Epoch 132/500\n",
      "5905/5905 [==============================] - 26s 4ms/step - loss: 5013629440.0000 - mae: 4420.6343 - val_loss: 5606579712.0000 - val_mae: 4340.9824\n",
      "Epoch 133/500\n",
      "5905/5905 [==============================] - 26s 4ms/step - loss: 5087699968.0000 - mae: 4668.5352 - val_loss: 5603266560.0000 - val_mae: 5058.6274\n",
      "Epoch 134/500\n",
      "5905/5905 [==============================] - 26s 4ms/step - loss: 5107068416.0000 - mae: 4752.4067 - val_loss: 5647106560.0000 - val_mae: 5162.5923\n",
      "Epoch 135/500\n",
      "5905/5905 [==============================] - 27s 4ms/step - loss: 5044327424.0000 - mae: 4902.9976 - val_loss: 5992721920.0000 - val_mae: 4498.5659\n",
      "Epoch 136/500\n",
      "5905/5905 [==============================] - 26s 4ms/step - loss: 5066973696.0000 - mae: 4912.7437 - val_loss: 5665277440.0000 - val_mae: 5739.5298\n",
      "Epoch 137/500\n",
      "5905/5905 [==============================] - 26s 4ms/step - loss: 4999853056.0000 - mae: 4798.9072 - val_loss: 6039142912.0000 - val_mae: 5115.7261\n",
      "Epoch 138/500\n",
      "5905/5905 [==============================] - 26s 4ms/step - loss: 5004841472.0000 - mae: 4927.5410 - val_loss: 5656275456.0000 - val_mae: 5114.2705\n",
      "Epoch 139/500\n",
      "5905/5905 [==============================] - 26s 4ms/step - loss: 5159281152.0000 - mae: 4777.6406 - val_loss: 5740011520.0000 - val_mae: 4256.3013\n",
      "Epoch 140/500\n",
      "5905/5905 [==============================] - 27s 5ms/step - loss: 5046161408.0000 - mae: 4721.6802 - val_loss: 5715594752.0000 - val_mae: 4133.5293\n",
      "Epoch 141/500\n",
      "5905/5905 [==============================] - 26s 4ms/step - loss: 5098098688.0000 - mae: 4703.2285 - val_loss: 5880348160.0000 - val_mae: 5125.3472\n",
      "Epoch 142/500\n",
      "5905/5905 [==============================] - 27s 5ms/step - loss: 5057535488.0000 - mae: 4835.3726 - val_loss: 5880682496.0000 - val_mae: 4044.9800\n",
      "Epoch 143/500\n",
      "5905/5905 [==============================] - 26s 4ms/step - loss: 5111946240.0000 - mae: 4814.7759 - val_loss: 5644692480.0000 - val_mae: 4438.3945\n",
      "Epoch 144/500\n",
      "5905/5905 [==============================] - 27s 5ms/step - loss: 5103374848.0000 - mae: 4602.0508 - val_loss: 5545372672.0000 - val_mae: 4441.3442\n",
      "Epoch 145/500\n",
      "5905/5905 [==============================] - 26s 4ms/step - loss: 5049950208.0000 - mae: 4592.7178 - val_loss: 5825500160.0000 - val_mae: 4160.9526\n",
      "Epoch 146/500\n",
      "5905/5905 [==============================] - 27s 5ms/step - loss: 5040167936.0000 - mae: 4724.7134 - val_loss: 5740746240.0000 - val_mae: 4623.9873\n",
      "Epoch 147/500\n",
      "5905/5905 [==============================] - 26s 4ms/step - loss: 5001043456.0000 - mae: 4586.5781 - val_loss: 5708459520.0000 - val_mae: 5235.8667\n",
      "Epoch 148/500\n",
      "5905/5905 [==============================] - 27s 5ms/step - loss: 5035810816.0000 - mae: 4601.6401 - val_loss: 6008910336.0000 - val_mae: 5408.9395\n",
      "Epoch 149/500\n",
      "5905/5905 [==============================] - 26s 4ms/step - loss: 5105388032.0000 - mae: 4613.7007 - val_loss: 5566675968.0000 - val_mae: 4705.5498\n",
      "Epoch 150/500\n",
      "5905/5905 [==============================] - 27s 5ms/step - loss: 5060902400.0000 - mae: 4548.3784 - val_loss: 5611980800.0000 - val_mae: 4892.2217\n",
      "Epoch 151/500\n",
      "5905/5905 [==============================] - 26s 4ms/step - loss: 5100680192.0000 - mae: 4579.3262 - val_loss: 5590150656.0000 - val_mae: 3754.5947\n",
      "Epoch 152/500\n",
      "5905/5905 [==============================] - 27s 5ms/step - loss: 4995845120.0000 - mae: 4564.4585 - val_loss: 6680625152.0000 - val_mae: 8464.8984\n",
      "Epoch 153/500\n",
      "5905/5905 [==============================] - 27s 5ms/step - loss: 5014995456.0000 - mae: 4589.9053 - val_loss: 5575363584.0000 - val_mae: 4432.2896\n",
      "Epoch 154/500\n",
      "5905/5905 [==============================] - 27s 5ms/step - loss: 5082996224.0000 - mae: 4491.6030 - val_loss: 5737655296.0000 - val_mae: 5875.7520\n",
      "Epoch 155/500\n",
      "5905/5905 [==============================] - 26s 4ms/step - loss: 5084677120.0000 - mae: 4480.9038 - val_loss: 5607012864.0000 - val_mae: 5809.4736\n",
      "Epoch 156/500\n",
      "5905/5905 [==============================] - 27s 5ms/step - loss: 4991721472.0000 - mae: 4457.9141 - val_loss: 5868515328.0000 - val_mae: 4086.3684\n",
      "Epoch 157/500\n",
      "5905/5905 [==============================] - 27s 5ms/step - loss: 5037479424.0000 - mae: 4500.6226 - val_loss: 5880784384.0000 - val_mae: 3902.5710\n",
      "Epoch 158/500\n",
      "5905/5905 [==============================] - 27s 5ms/step - loss: 4878617600.0000 - mae: 4547.3569 - val_loss: 9001479168.0000 - val_mae: 9174.7793\n",
      "Epoch 159/500\n",
      "5905/5905 [==============================] - 27s 5ms/step - loss: 5008241152.0000 - mae: 4692.6816 - val_loss: 5641474560.0000 - val_mae: 4656.7959\n",
      "Epoch 160/500\n",
      "5905/5905 [==============================] - 27s 5ms/step - loss: 4972020736.0000 - mae: 4426.3232 - val_loss: 6017940480.0000 - val_mae: 4039.7993\n",
      "Epoch 161/500\n",
      "5905/5905 [==============================] - 27s 4ms/step - loss: 4972958208.0000 - mae: 4569.3657 - val_loss: 5834920960.0000 - val_mae: 4972.4497\n",
      "Epoch 162/500\n",
      "5905/5905 [==============================] - 27s 5ms/step - loss: 5075491840.0000 - mae: 4490.4614 - val_loss: 5511660544.0000 - val_mae: 4580.6187\n",
      "Epoch 163/500\n",
      "5905/5905 [==============================] - 26s 4ms/step - loss: 4951502336.0000 - mae: 4545.4185 - val_loss: 5479021568.0000 - val_mae: 4762.2319\n",
      "Epoch 164/500\n",
      "5905/5905 [==============================] - 27s 5ms/step - loss: 4980716032.0000 - mae: 4438.5869 - val_loss: 5664541184.0000 - val_mae: 5129.8340\n",
      "Epoch 165/500\n",
      "5905/5905 [==============================] - 27s 5ms/step - loss: 5083868672.0000 - mae: 4464.6631 - val_loss: 6280660480.0000 - val_mae: 3638.7317\n",
      "Epoch 166/500\n",
      "5905/5905 [==============================] - 27s 5ms/step - loss: 5032214528.0000 - mae: 4427.1938 - val_loss: 6142621696.0000 - val_mae: 6338.9663\n",
      "Epoch 167/500\n",
      "5905/5905 [==============================] - 27s 5ms/step - loss: 5071116288.0000 - mae: 4416.0386 - val_loss: 5528942592.0000 - val_mae: 3979.4658\n",
      "Epoch 168/500\n",
      "5905/5905 [==============================] - 27s 5ms/step - loss: 5023674880.0000 - mae: 4360.2456 - val_loss: 5478212608.0000 - val_mae: 4538.4819\n",
      "Epoch 169/500\n",
      "5905/5905 [==============================] - 28s 5ms/step - loss: 5075930112.0000 - mae: 4412.0020 - val_loss: 5674788352.0000 - val_mae: 5251.3291\n",
      "Epoch 170/500\n",
      "5905/5905 [==============================] - 28s 5ms/step - loss: 4962241536.0000 - mae: 4455.5771 - val_loss: 5556772864.0000 - val_mae: 3928.0046\n",
      "Epoch 171/500\n",
      "5905/5905 [==============================] - 27s 5ms/step - loss: 5028233216.0000 - mae: 4383.2344 - val_loss: 5573249024.0000 - val_mae: 4513.5200\n",
      "Epoch 172/500\n",
      "5905/5905 [==============================] - 27s 5ms/step - loss: 5009062912.0000 - mae: 4286.9194 - val_loss: 5751011328.0000 - val_mae: 5541.7402\n",
      "Epoch 173/500\n",
      "5905/5905 [==============================] - 27s 5ms/step - loss: 5039454208.0000 - mae: 4323.1353 - val_loss: 5546511872.0000 - val_mae: 4417.2598\n",
      "Epoch 174/500\n",
      "5905/5905 [==============================] - 27s 5ms/step - loss: 4959863808.0000 - mae: 4366.3359 - val_loss: 5611762688.0000 - val_mae: 3678.0291\n",
      "Epoch 175/500\n",
      "5905/5905 [==============================] - 27s 5ms/step - loss: 4992919552.0000 - mae: 4364.1431 - val_loss: 5494651392.0000 - val_mae: 4382.8408\n",
      "Epoch 176/500\n",
      "5905/5905 [==============================] - 27s 5ms/step - loss: 4906311680.0000 - mae: 4329.0513 - val_loss: 7628737536.0000 - val_mae: 7985.3452\n",
      "Epoch 177/500\n",
      "5905/5905 [==============================] - 27s 4ms/step - loss: 5068023296.0000 - mae: 4409.3276 - val_loss: 5649959424.0000 - val_mae: 3994.9463\n",
      "Epoch 178/500\n",
      "5905/5905 [==============================] - 27s 5ms/step - loss: 5073689600.0000 - mae: 4281.2607 - val_loss: 5713161216.0000 - val_mae: 3673.4988\n",
      "Epoch 179/500\n",
      "5905/5905 [==============================] - 26s 4ms/step - loss: 4988529152.0000 - mae: 4347.4248 - val_loss: 5809231360.0000 - val_mae: 4923.9199\n",
      "Epoch 180/500\n",
      "5905/5905 [==============================] - 27s 5ms/step - loss: 4934544384.0000 - mae: 4313.4702 - val_loss: 5496879616.0000 - val_mae: 4346.1313\n",
      "Epoch 181/500\n",
      "5905/5905 [==============================] - 27s 5ms/step - loss: 4931076096.0000 - mae: 4325.9194 - val_loss: 5513880064.0000 - val_mae: 4754.0259\n",
      "Epoch 182/500\n",
      "5905/5905 [==============================] - 27s 5ms/step - loss: 5010224128.0000 - mae: 4285.0215 - val_loss: 5643718656.0000 - val_mae: 3993.5750\n",
      "Epoch 183/500\n",
      "5905/5905 [==============================] - 27s 5ms/step - loss: 5010194432.0000 - mae: 4284.8335 - val_loss: 5589962752.0000 - val_mae: 3902.0889\n",
      "Epoch 184/500\n",
      "5905/5905 [==============================] - 27s 5ms/step - loss: 4919054848.0000 - mae: 4312.2681 - val_loss: 5573745152.0000 - val_mae: 4330.7500\n",
      "Epoch 185/500\n",
      "5905/5905 [==============================] - 27s 5ms/step - loss: 5048600576.0000 - mae: 4198.4146 - val_loss: 5490243072.0000 - val_mae: 4140.4390\n",
      "Epoch 186/500\n",
      "5905/5905 [==============================] - 26s 4ms/step - loss: 4852486656.0000 - mae: 4234.1284 - val_loss: 5858956288.0000 - val_mae: 4661.3970\n",
      "Epoch 187/500\n",
      "5905/5905 [==============================] - 28s 5ms/step - loss: 4958466560.0000 - mae: 4238.4116 - val_loss: 6060583424.0000 - val_mae: 3579.4968\n",
      "Epoch 188/500\n",
      "5905/5905 [==============================] - 27s 5ms/step - loss: 5118219264.0000 - mae: 4267.1650 - val_loss: 5499001856.0000 - val_mae: 4014.2563\n",
      "Epoch 189/500\n",
      "5905/5905 [==============================] - 27s 5ms/step - loss: 5070068736.0000 - mae: 4210.1123 - val_loss: 5570331136.0000 - val_mae: 4188.7476\n",
      "Epoch 190/500\n",
      "5905/5905 [==============================] - 27s 5ms/step - loss: 5018970112.0000 - mae: 4230.9189 - val_loss: 5533895168.0000 - val_mae: 3785.6389\n",
      "Epoch 191/500\n",
      "5905/5905 [==============================] - 27s 5ms/step - loss: 4967579648.0000 - mae: 4225.8857 - val_loss: 5527263744.0000 - val_mae: 4372.7266\n",
      "Epoch 192/500\n",
      "5905/5905 [==============================] - 26s 4ms/step - loss: 4990830080.0000 - mae: 4259.4917 - val_loss: 5557490688.0000 - val_mae: 4332.5234\n",
      "Epoch 193/500\n",
      "5905/5905 [==============================] - 26s 4ms/step - loss: 4993418240.0000 - mae: 4224.6216 - val_loss: 5825892352.0000 - val_mae: 3618.8838\n",
      "Epoch 194/500\n",
      "5905/5905 [==============================] - 26s 4ms/step - loss: 4972833280.0000 - mae: 4211.7544 - val_loss: 5913750016.0000 - val_mae: 6269.1143\n",
      "Epoch 195/500\n",
      "5905/5905 [==============================] - 26s 4ms/step - loss: 5008008704.0000 - mae: 4247.3862 - val_loss: 5474600448.0000 - val_mae: 4227.7026\n",
      "Epoch 196/500\n",
      "5905/5905 [==============================] - 26s 4ms/step - loss: 4938579968.0000 - mae: 4149.9199 - val_loss: 5594896384.0000 - val_mae: 4216.5605\n",
      "Epoch 197/500\n",
      "5905/5905 [==============================] - 26s 4ms/step - loss: 4994081792.0000 - mae: 4169.0273 - val_loss: 5477743104.0000 - val_mae: 3819.7217\n",
      "Epoch 198/500\n",
      "5905/5905 [==============================] - 26s 4ms/step - loss: 4945732096.0000 - mae: 4122.6919 - val_loss: 5479879680.0000 - val_mae: 3922.7356\n",
      "Epoch 199/500\n",
      "5905/5905 [==============================] - 26s 4ms/step - loss: 4903253504.0000 - mae: 4117.0093 - val_loss: 6245849600.0000 - val_mae: 3617.2139\n",
      "Epoch 200/500\n",
      "5905/5905 [==============================] - 27s 5ms/step - loss: 4849150464.0000 - mae: 4136.2334 - val_loss: 5514163200.0000 - val_mae: 4161.4307\n",
      "Epoch 201/500\n",
      "5905/5905 [==============================] - 26s 4ms/step - loss: 5053586944.0000 - mae: 4157.0894 - val_loss: 5468740608.0000 - val_mae: 3916.0527\n",
      "Epoch 202/500\n",
      "5905/5905 [==============================] - 27s 5ms/step - loss: 4952128512.0000 - mae: 4104.7803 - val_loss: 5703922176.0000 - val_mae: 3522.1592\n",
      "Epoch 203/500\n",
      "5905/5905 [==============================] - 27s 5ms/step - loss: 4912147456.0000 - mae: 4085.0637 - val_loss: 6039894016.0000 - val_mae: 4011.4258\n",
      "Epoch 204/500\n",
      "5905/5905 [==============================] - 27s 5ms/step - loss: 4999008768.0000 - mae: 4139.7705 - val_loss: 5527342592.0000 - val_mae: 3876.1074\n",
      "Epoch 205/500\n",
      "5905/5905 [==============================] - 26s 4ms/step - loss: 4949330944.0000 - mae: 4140.2036 - val_loss: 5779628032.0000 - val_mae: 4138.8984\n",
      "Epoch 206/500\n",
      "5905/5905 [==============================] - 26s 4ms/step - loss: 4882400256.0000 - mae: 4243.5366 - val_loss: 5948197376.0000 - val_mae: 6061.9404\n",
      "Epoch 207/500\n",
      "5905/5905 [==============================] - 26s 4ms/step - loss: 4896039936.0000 - mae: 4146.2041 - val_loss: 5573388800.0000 - val_mae: 4452.2651\n",
      "Epoch 208/500\n",
      "5905/5905 [==============================] - 27s 5ms/step - loss: 4960105984.0000 - mae: 4041.0166 - val_loss: 5483912192.0000 - val_mae: 4104.7891\n",
      "Epoch 209/500\n",
      "5905/5905 [==============================] - 26s 4ms/step - loss: 4895192576.0000 - mae: 4055.7666 - val_loss: 6890993152.0000 - val_mae: 6418.9307\n",
      "Epoch 210/500\n",
      "5905/5905 [==============================] - 26s 4ms/step - loss: 5001443328.0000 - mae: 4095.0110 - val_loss: 5602427904.0000 - val_mae: 3710.2739\n",
      "Epoch 211/500\n",
      "5905/5905 [==============================] - 26s 4ms/step - loss: 4856906752.0000 - mae: 4111.9966 - val_loss: 5485903872.0000 - val_mae: 4367.2886\n",
      "Epoch 212/500\n",
      "5905/5905 [==============================] - 26s 4ms/step - loss: 4945785856.0000 - mae: 4120.8008 - val_loss: 5472068608.0000 - val_mae: 3607.2175\n",
      "Epoch 213/500\n",
      "5905/5905 [==============================] - 25s 4ms/step - loss: 4787356672.0000 - mae: 4092.9124 - val_loss: 5682174976.0000 - val_mae: 4077.5078\n",
      "Epoch 214/500\n",
      "5905/5905 [==============================] - 26s 4ms/step - loss: 4956145152.0000 - mae: 4190.4395 - val_loss: 5492923392.0000 - val_mae: 4673.4126\n",
      "Epoch 215/500\n",
      "5905/5905 [==============================] - 27s 4ms/step - loss: 5025531392.0000 - mae: 4092.9509 - val_loss: 5589258240.0000 - val_mae: 3672.5503\n",
      "Epoch 216/500\n",
      "5905/5905 [==============================] - 26s 4ms/step - loss: 4986886144.0000 - mae: 4119.6611 - val_loss: 5359580672.0000 - val_mae: 3854.4268\n",
      "Epoch 217/500\n",
      "5905/5905 [==============================] - 27s 5ms/step - loss: 4926812160.0000 - mae: 4109.5117 - val_loss: 5482611712.0000 - val_mae: 3918.4453\n",
      "Epoch 218/500\n",
      "5905/5905 [==============================] - 26s 4ms/step - loss: 5007719424.0000 - mae: 4136.7417 - val_loss: 5630465536.0000 - val_mae: 4715.8169\n",
      "Epoch 219/500\n",
      "5905/5905 [==============================] - 27s 5ms/step - loss: 4902306304.0000 - mae: 4378.5952 - val_loss: 5979068928.0000 - val_mae: 4132.2378\n",
      "Epoch 220/500\n",
      "5905/5905 [==============================] - 26s 4ms/step - loss: 4914942464.0000 - mae: 4157.0898 - val_loss: 5559725056.0000 - val_mae: 4721.6982\n",
      "Epoch 221/500\n",
      "5905/5905 [==============================] - 26s 4ms/step - loss: 4812307968.0000 - mae: 4072.6301 - val_loss: 5345145344.0000 - val_mae: 4240.4536\n",
      "Epoch 222/500\n",
      "5905/5905 [==============================] - 26s 4ms/step - loss: 4861228544.0000 - mae: 4070.1355 - val_loss: 5596064256.0000 - val_mae: 3819.3040\n",
      "Epoch 223/500\n",
      "5905/5905 [==============================] - 26s 4ms/step - loss: 4943857152.0000 - mae: 4072.4358 - val_loss: 5351460352.0000 - val_mae: 3873.2908\n",
      "Epoch 224/500\n",
      "5905/5905 [==============================] - 26s 4ms/step - loss: 5041650688.0000 - mae: 4080.4514 - val_loss: 5357623296.0000 - val_mae: 3864.2664\n",
      "Epoch 225/500\n",
      "5905/5905 [==============================] - 26s 4ms/step - loss: 4857140224.0000 - mae: 4117.9893 - val_loss: 5412899840.0000 - val_mae: 4060.1826\n",
      "Epoch 226/500\n",
      "5905/5905 [==============================] - 27s 5ms/step - loss: 4846046720.0000 - mae: 4047.9614 - val_loss: 5431198208.0000 - val_mae: 4279.3130\n",
      "Epoch 227/500\n",
      "5905/5905 [==============================] - 28s 5ms/step - loss: 4837257216.0000 - mae: 4037.6990 - val_loss: 5853399040.0000 - val_mae: 4385.9482\n",
      "Epoch 228/500\n",
      "5905/5905 [==============================] - 27s 5ms/step - loss: 4907770880.0000 - mae: 4024.7168 - val_loss: 5918406656.0000 - val_mae: 3832.9219\n",
      "Epoch 229/500\n",
      "5905/5905 [==============================] - 26s 4ms/step - loss: 4956943872.0000 - mae: 4053.2842 - val_loss: 5306672640.0000 - val_mae: 3701.6375\n",
      "Epoch 230/500\n",
      "5905/5905 [==============================] - 26s 4ms/step - loss: 4830663168.0000 - mae: 4028.0615 - val_loss: 5314356736.0000 - val_mae: 3755.7891\n",
      "Epoch 231/500\n",
      "5905/5905 [==============================] - 27s 4ms/step - loss: 4901181440.0000 - mae: 4040.2366 - val_loss: 5608104960.0000 - val_mae: 3661.1191\n",
      "Epoch 232/500\n",
      "5905/5905 [==============================] - 26s 4ms/step - loss: 4870386176.0000 - mae: 4029.4312 - val_loss: 5428098560.0000 - val_mae: 3279.5334\n",
      "Epoch 233/500\n",
      "5905/5905 [==============================] - 27s 4ms/step - loss: 4911286784.0000 - mae: 4030.9387 - val_loss: 5469940736.0000 - val_mae: 3790.6975\n",
      "Epoch 234/500\n",
      "5905/5905 [==============================] - 26s 4ms/step - loss: 4760974336.0000 - mae: 4081.2004 - val_loss: 5524511232.0000 - val_mae: 3708.8337\n",
      "Epoch 235/500\n",
      "5905/5905 [==============================] - 26s 4ms/step - loss: 4876697088.0000 - mae: 3879.1382 - val_loss: 5377384448.0000 - val_mae: 3792.3145\n",
      "Epoch 236/500\n",
      "5905/5905 [==============================] - 26s 4ms/step - loss: 4810648576.0000 - mae: 3976.0698 - val_loss: 6021656576.0000 - val_mae: 3891.2327\n",
      "Epoch 237/500\n",
      "5905/5905 [==============================] - 29s 5ms/step - loss: 4776604160.0000 - mae: 3906.6516 - val_loss: 5521952768.0000 - val_mae: 3679.6960\n",
      "Epoch 238/500\n",
      "5905/5905 [==============================] - 27s 5ms/step - loss: 4870950400.0000 - mae: 3943.6860 - val_loss: 5300663296.0000 - val_mae: 3523.6714\n",
      "Epoch 239/500\n",
      "5905/5905 [==============================] - 27s 5ms/step - loss: 4935964672.0000 - mae: 3974.6057 - val_loss: 5283937280.0000 - val_mae: 4181.9355\n",
      "Epoch 240/500\n",
      "5905/5905 [==============================] - 27s 5ms/step - loss: 4825831424.0000 - mae: 3990.5315 - val_loss: 5599976448.0000 - val_mae: 4028.0879\n",
      "Epoch 241/500\n",
      "5905/5905 [==============================] - 26s 4ms/step - loss: 4824077312.0000 - mae: 4039.0112 - val_loss: 5814804480.0000 - val_mae: 3814.8369\n",
      "Epoch 242/500\n",
      "5905/5905 [==============================] - 28s 5ms/step - loss: 4816906752.0000 - mae: 3959.7114 - val_loss: 5289459200.0000 - val_mae: 4478.9189\n",
      "Epoch 243/500\n",
      "5905/5905 [==============================] - 27s 5ms/step - loss: 4844698112.0000 - mae: 4041.8691 - val_loss: 5450968576.0000 - val_mae: 4233.5986\n",
      "Epoch 244/500\n",
      "5905/5905 [==============================] - 27s 4ms/step - loss: 4887982592.0000 - mae: 3978.3354 - val_loss: 6247953408.0000 - val_mae: 5345.1572\n",
      "Epoch 245/500\n",
      "5905/5905 [==============================] - 26s 4ms/step - loss: 4927472640.0000 - mae: 4043.3745 - val_loss: 5506381824.0000 - val_mae: 4158.6416\n",
      "Epoch 246/500\n",
      "5905/5905 [==============================] - 27s 5ms/step - loss: 4930986496.0000 - mae: 4003.5000 - val_loss: 5309213184.0000 - val_mae: 3874.0061\n",
      "Epoch 247/500\n",
      "5905/5905 [==============================] - 26s 4ms/step - loss: 4855776256.0000 - mae: 4044.4495 - val_loss: 5704672768.0000 - val_mae: 5143.2231\n",
      "Epoch 248/500\n",
      "5905/5905 [==============================] - 26s 4ms/step - loss: 4687810048.0000 - mae: 4137.8252 - val_loss: 5540270080.0000 - val_mae: 3484.5322\n",
      "Epoch 249/500\n",
      "5905/5905 [==============================] - 26s 4ms/step - loss: 4916608000.0000 - mae: 4047.2512 - val_loss: 5364837376.0000 - val_mae: 4680.1543\n",
      "Epoch 250/500\n",
      "5905/5905 [==============================] - 26s 4ms/step - loss: 4752087552.0000 - mae: 4095.8262 - val_loss: 5791054336.0000 - val_mae: 6124.7329\n",
      "Epoch 251/500\n",
      "5905/5905 [==============================] - 27s 5ms/step - loss: 4844240896.0000 - mae: 4073.1079 - val_loss: 6001011712.0000 - val_mae: 4890.1045\n",
      "Epoch 252/500\n",
      "5905/5905 [==============================] - 26s 4ms/step - loss: 4894001664.0000 - mae: 4027.7805 - val_loss: 5482261504.0000 - val_mae: 3879.3916\n",
      "Epoch 253/500\n",
      "5905/5905 [==============================] - 27s 5ms/step - loss: 4874200064.0000 - mae: 3955.3696 - val_loss: 5512649728.0000 - val_mae: 3640.9189\n",
      "Epoch 254/500\n",
      "5905/5905 [==============================] - 26s 4ms/step - loss: 4859726336.0000 - mae: 3996.8489 - val_loss: 5550032896.0000 - val_mae: 4431.2983\n",
      "Epoch 255/500\n",
      "5905/5905 [==============================] - 27s 5ms/step - loss: 4828514816.0000 - mae: 3990.7830 - val_loss: 5661003264.0000 - val_mae: 3612.6340\n",
      "Epoch 256/500\n",
      "5905/5905 [==============================] - 26s 4ms/step - loss: 4860887552.0000 - mae: 4014.2354 - val_loss: 5451855360.0000 - val_mae: 5250.0684\n",
      "Epoch 257/500\n",
      "5905/5905 [==============================] - 26s 4ms/step - loss: 4771915264.0000 - mae: 4045.4575 - val_loss: 5293076480.0000 - val_mae: 4513.8784\n",
      "Epoch 258/500\n",
      "5905/5905 [==============================] - 26s 4ms/step - loss: 4800263168.0000 - mae: 3971.0977 - val_loss: 5341735424.0000 - val_mae: 4583.4170\n",
      "Epoch 259/500\n",
      "5905/5905 [==============================] - 26s 4ms/step - loss: 4748891136.0000 - mae: 3996.2305 - val_loss: 5824814592.0000 - val_mae: 3606.2239\n",
      "Epoch 260/500\n",
      "5905/5905 [==============================] - 26s 4ms/step - loss: 4812861440.0000 - mae: 3932.0105 - val_loss: 5371794432.0000 - val_mae: 4184.2583\n",
      "Epoch 261/500\n",
      "5905/5905 [==============================] - 25s 4ms/step - loss: 4893051904.0000 - mae: 3953.0850 - val_loss: 5634025472.0000 - val_mae: 5078.5146\n",
      "Epoch 262/500\n",
      "5905/5905 [==============================] - 26s 4ms/step - loss: 4733767680.0000 - mae: 3995.1760 - val_loss: 5510746624.0000 - val_mae: 4588.1514\n",
      "Epoch 263/500\n",
      "5905/5905 [==============================] - 26s 4ms/step - loss: 4763111424.0000 - mae: 3977.7437 - val_loss: 5250499072.0000 - val_mae: 3642.2983\n",
      "Epoch 264/500\n",
      "5905/5905 [==============================] - 26s 4ms/step - loss: 4747890176.0000 - mae: 3909.6399 - val_loss: 5230075392.0000 - val_mae: 4061.0798\n",
      "Epoch 265/500\n",
      "5905/5905 [==============================] - 26s 4ms/step - loss: 4870262784.0000 - mae: 3896.4011 - val_loss: 5472654336.0000 - val_mae: 4616.5610\n",
      "Epoch 266/500\n",
      "5905/5905 [==============================] - 27s 5ms/step - loss: 4805787648.0000 - mae: 3802.9175 - val_loss: 5898887680.0000 - val_mae: 5133.8799\n",
      "Epoch 267/500\n",
      "5905/5905 [==============================] - 26s 4ms/step - loss: 4781840384.0000 - mae: 3919.1362 - val_loss: 6032846848.0000 - val_mae: 5280.0264\n",
      "Epoch 268/500\n",
      "5905/5905 [==============================] - 27s 4ms/step - loss: 4837267968.0000 - mae: 3907.1489 - val_loss: 5492245504.0000 - val_mae: 3345.0708\n",
      "Epoch 269/500\n",
      "5905/5905 [==============================] - 26s 4ms/step - loss: 4816723968.0000 - mae: 3853.8779 - val_loss: 5215692288.0000 - val_mae: 3507.2903\n",
      "Epoch 270/500\n",
      "5905/5905 [==============================] - 27s 5ms/step - loss: 4675108352.0000 - mae: 3854.9219 - val_loss: 5294703616.0000 - val_mae: 4375.3408\n",
      "Epoch 271/500\n",
      "5905/5905 [==============================] - 31s 5ms/step - loss: 4810412032.0000 - mae: 3865.1836 - val_loss: 5223280128.0000 - val_mae: 3930.3914\n",
      "Epoch 272/500\n",
      "5905/5905 [==============================] - 29s 5ms/step - loss: 4731296256.0000 - mae: 3912.5112 - val_loss: 5877641216.0000 - val_mae: 3539.1677\n",
      "Epoch 273/500\n",
      "5905/5905 [==============================] - 26s 4ms/step - loss: 4791945728.0000 - mae: 3815.0947 - val_loss: 5277598720.0000 - val_mae: 4736.0332\n",
      "Epoch 274/500\n",
      "5905/5905 [==============================] - 27s 5ms/step - loss: 4748737024.0000 - mae: 3981.1187 - val_loss: 5608685056.0000 - val_mae: 3344.7681\n",
      "Epoch 275/500\n",
      "5905/5905 [==============================] - 26s 4ms/step - loss: 4786259456.0000 - mae: 3821.2131 - val_loss: 5236234752.0000 - val_mae: 3828.6296\n",
      "Epoch 276/500\n",
      "5905/5905 [==============================] - 26s 4ms/step - loss: 4839856640.0000 - mae: 3896.8096 - val_loss: 5458452480.0000 - val_mae: 3673.6155\n",
      "Epoch 277/500\n",
      "5905/5905 [==============================] - 26s 4ms/step - loss: 4813041664.0000 - mae: 3891.3494 - val_loss: 5304031232.0000 - val_mae: 3348.6091\n",
      "Epoch 278/500\n",
      "5905/5905 [==============================] - 27s 5ms/step - loss: 4789809664.0000 - mae: 3811.9333 - val_loss: 5656219136.0000 - val_mae: 3290.4387\n",
      "Epoch 279/500\n",
      "5905/5905 [==============================] - 26s 4ms/step - loss: 4810619392.0000 - mae: 3870.8069 - val_loss: 5296131072.0000 - val_mae: 3400.3752\n",
      "Epoch 280/500\n",
      "5905/5905 [==============================] - 26s 4ms/step - loss: 4707840512.0000 - mae: 3931.2522 - val_loss: 5308317184.0000 - val_mae: 4252.1636\n",
      "Epoch 281/500\n",
      "5905/5905 [==============================] - 26s 4ms/step - loss: 4694819840.0000 - mae: 3928.6748 - val_loss: 5552609280.0000 - val_mae: 3546.7527\n",
      "Epoch 282/500\n",
      "5905/5905 [==============================] - 26s 4ms/step - loss: 4574470656.0000 - mae: 3926.4292 - val_loss: 5174858752.0000 - val_mae: 3284.7166\n",
      "Epoch 283/500\n",
      "5905/5905 [==============================] - 27s 5ms/step - loss: 4759239680.0000 - mae: 3883.7898 - val_loss: 6113952256.0000 - val_mae: 3314.0828\n",
      "Epoch 284/500\n",
      "5905/5905 [==============================] - 26s 4ms/step - loss: 4783698944.0000 - mae: 3868.3601 - val_loss: 5238637056.0000 - val_mae: 4127.7471\n",
      "Epoch 285/500\n",
      "5905/5905 [==============================] - 26s 4ms/step - loss: 4769273344.0000 - mae: 3855.5198 - val_loss: 5941024256.0000 - val_mae: 3893.5549\n",
      "Epoch 286/500\n",
      "5905/5905 [==============================] - 26s 4ms/step - loss: 4776506368.0000 - mae: 3901.7715 - val_loss: 5624639488.0000 - val_mae: 3439.4468\n",
      "Epoch 287/500\n",
      "5905/5905 [==============================] - 27s 5ms/step - loss: 4765018624.0000 - mae: 3874.7808 - val_loss: 5723660288.0000 - val_mae: 3263.0449\n",
      "Epoch 288/500\n",
      "5905/5905 [==============================] - 26s 4ms/step - loss: 4679762944.0000 - mae: 3879.3762 - val_loss: 6060488192.0000 - val_mae: 3448.0244\n",
      "Epoch 289/500\n",
      "5905/5905 [==============================] - 26s 4ms/step - loss: 4760296960.0000 - mae: 3851.0847 - val_loss: 5038489088.0000 - val_mae: 3527.5723\n",
      "Epoch 290/500\n",
      "5905/5905 [==============================] - 26s 4ms/step - loss: 4536935424.0000 - mae: 3784.6030 - val_loss: 7742497280.0000 - val_mae: 8100.0835\n",
      "Epoch 291/500\n",
      "5905/5905 [==============================] - 26s 4ms/step - loss: 4657257472.0000 - mae: 3955.9138 - val_loss: 5324631040.0000 - val_mae: 3304.9246\n",
      "Epoch 292/500\n",
      "5905/5905 [==============================] - 27s 5ms/step - loss: 4720051712.0000 - mae: 3877.9082 - val_loss: 5778264064.0000 - val_mae: 3611.2324\n",
      "Epoch 293/500\n",
      "5905/5905 [==============================] - 27s 4ms/step - loss: 4612322304.0000 - mae: 3848.7632 - val_loss: 4991074304.0000 - val_mae: 3900.8564\n",
      "Epoch 294/500\n",
      "5905/5905 [==============================] - 26s 4ms/step - loss: 4594573312.0000 - mae: 3813.3184 - val_loss: 4977462784.0000 - val_mae: 3813.7273\n",
      "Epoch 295/500\n",
      "5905/5905 [==============================] - 26s 4ms/step - loss: 4790405632.0000 - mae: 3810.9070 - val_loss: 5145880064.0000 - val_mae: 3476.7036\n",
      "Epoch 296/500\n",
      "5905/5905 [==============================] - 27s 5ms/step - loss: 4726928896.0000 - mae: 3836.6003 - val_loss: 5043957760.0000 - val_mae: 3800.0134\n",
      "Epoch 297/500\n",
      "5905/5905 [==============================] - 26s 4ms/step - loss: 4709399040.0000 - mae: 3878.9331 - val_loss: 5073391616.0000 - val_mae: 3639.9512\n",
      "Epoch 298/500\n",
      "5905/5905 [==============================] - 26s 4ms/step - loss: 4747153920.0000 - mae: 3850.2751 - val_loss: 5981916672.0000 - val_mae: 3813.4736\n",
      "Epoch 299/500\n",
      "5905/5905 [==============================] - 26s 4ms/step - loss: 4673958912.0000 - mae: 3850.4199 - val_loss: 5082642432.0000 - val_mae: 3443.8733\n",
      "Epoch 300/500\n",
      "5905/5905 [==============================] - 27s 5ms/step - loss: 4671328256.0000 - mae: 3835.5320 - val_loss: 5179032576.0000 - val_mae: 4420.1577\n",
      "Epoch 301/500\n",
      "5905/5905 [==============================] - 26s 4ms/step - loss: 4587558400.0000 - mae: 3777.0859 - val_loss: 5144743936.0000 - val_mae: 3786.3264\n",
      "Epoch 302/500\n",
      "5905/5905 [==============================] - 26s 4ms/step - loss: 4546443776.0000 - mae: 3768.7761 - val_loss: 5128792576.0000 - val_mae: 3906.7571\n",
      "Epoch 303/500\n",
      "5905/5905 [==============================] - 26s 4ms/step - loss: 4539242496.0000 - mae: 3775.9685 - val_loss: 5061214208.0000 - val_mae: 3877.3247\n",
      "Epoch 304/500\n",
      "5905/5905 [==============================] - 27s 4ms/step - loss: 4445093376.0000 - mae: 3885.6438 - val_loss: 5555244544.0000 - val_mae: 3287.9714\n",
      "Epoch 305/500\n",
      "5905/5905 [==============================] - 28s 5ms/step - loss: 4764794368.0000 - mae: 3937.1897 - val_loss: 5629796864.0000 - val_mae: 4063.0723\n",
      "Epoch 306/500\n",
      "5905/5905 [==============================] - 26s 4ms/step - loss: 4627741696.0000 - mae: 3808.8242 - val_loss: 5182507008.0000 - val_mae: 3697.2922\n",
      "Epoch 307/500\n",
      "5905/5905 [==============================] - 26s 4ms/step - loss: 4671635968.0000 - mae: 3794.0908 - val_loss: 5173496832.0000 - val_mae: 4390.3198\n",
      "Epoch 308/500\n",
      "5905/5905 [==============================] - 26s 4ms/step - loss: 4655325696.0000 - mae: 3777.9016 - val_loss: 5045069824.0000 - val_mae: 4157.9482\n",
      "Epoch 309/500\n",
      "5905/5905 [==============================] - 27s 5ms/step - loss: 4654061568.0000 - mae: 3779.1538 - val_loss: 5886435840.0000 - val_mae: 3357.0186\n",
      "Epoch 310/500\n",
      "5905/5905 [==============================] - 26s 4ms/step - loss: 4589701632.0000 - mae: 3830.4502 - val_loss: 5253496320.0000 - val_mae: 3824.1099\n",
      "Epoch 311/500\n",
      "5905/5905 [==============================] - 26s 4ms/step - loss: 4620023808.0000 - mae: 3805.5601 - val_loss: 4939296256.0000 - val_mae: 3627.5027\n",
      "Epoch 312/500\n",
      "5905/5905 [==============================] - 26s 4ms/step - loss: 4669167104.0000 - mae: 3869.3037 - val_loss: 5483501568.0000 - val_mae: 3374.3403\n",
      "Epoch 313/500\n",
      "5905/5905 [==============================] - 26s 4ms/step - loss: 4548597248.0000 - mae: 3795.2893 - val_loss: 5856466944.0000 - val_mae: 3766.6387\n",
      "Epoch 314/500\n",
      "5905/5905 [==============================] - 27s 5ms/step - loss: 4615717888.0000 - mae: 3813.8369 - val_loss: 6249483264.0000 - val_mae: 5111.5986\n",
      "Epoch 315/500\n",
      "5905/5905 [==============================] - 26s 4ms/step - loss: 4660461568.0000 - mae: 3813.0056 - val_loss: 4948227072.0000 - val_mae: 3342.1458\n",
      "Epoch 316/500\n",
      "5905/5905 [==============================] - 26s 4ms/step - loss: 4596115968.0000 - mae: 3772.6428 - val_loss: 4990585856.0000 - val_mae: 3939.0210\n",
      "Epoch 317/500\n",
      "5905/5905 [==============================] - 26s 4ms/step - loss: 4740541952.0000 - mae: 3847.0007 - val_loss: 8408112640.0000 - val_mae: 6637.8628\n",
      "Epoch 318/500\n",
      "5905/5905 [==============================] - 26s 4ms/step - loss: 4671969280.0000 - mae: 3929.6365 - val_loss: 5544522240.0000 - val_mae: 4524.7671\n",
      "Epoch 319/500\n",
      "5905/5905 [==============================] - 26s 4ms/step - loss: 4626403840.0000 - mae: 3840.9651 - val_loss: 5025946624.0000 - val_mae: 3947.0857\n",
      "Epoch 320/500\n",
      "5905/5905 [==============================] - 26s 4ms/step - loss: 4569948160.0000 - mae: 3838.9971 - val_loss: 5389779456.0000 - val_mae: 3752.2971\n",
      "Epoch 321/500\n",
      "5905/5905 [==============================] - 26s 4ms/step - loss: 4694936064.0000 - mae: 3828.5173 - val_loss: 5542292480.0000 - val_mae: 3457.6714\n",
      "Epoch 322/500\n",
      "5905/5905 [==============================] - 27s 4ms/step - loss: 4475101696.0000 - mae: 3723.6765 - val_loss: 9992354816.0000 - val_mae: 7313.2192\n",
      "Epoch 323/500\n",
      "5905/5905 [==============================] - 26s 4ms/step - loss: 4531615232.0000 - mae: 3785.1841 - val_loss: 5285466624.0000 - val_mae: 4394.1167\n",
      "Epoch 324/500\n",
      "5905/5905 [==============================] - 26s 4ms/step - loss: 4463456768.0000 - mae: 3834.0547 - val_loss: 5336279040.0000 - val_mae: 4568.3696\n",
      "Epoch 325/500\n",
      "5905/5905 [==============================] - 26s 4ms/step - loss: 4591245312.0000 - mae: 3723.3743 - val_loss: 4839782400.0000 - val_mae: 4406.9551\n",
      "Epoch 326/500\n",
      "5905/5905 [==============================] - 26s 4ms/step - loss: 4538044416.0000 - mae: 3734.5181 - val_loss: 5676318720.0000 - val_mae: 4708.0903\n",
      "Epoch 327/500\n",
      "5905/5905 [==============================] - 27s 5ms/step - loss: 4564744192.0000 - mae: 3822.9331 - val_loss: 5084869632.0000 - val_mae: 4430.8281\n",
      "Epoch 328/500\n",
      "5905/5905 [==============================] - 26s 4ms/step - loss: 4466157056.0000 - mae: 3773.1641 - val_loss: 5211924992.0000 - val_mae: 3386.4958\n",
      "Epoch 329/500\n",
      "5905/5905 [==============================] - 26s 4ms/step - loss: 4595556352.0000 - mae: 3792.7351 - val_loss: 4909925888.0000 - val_mae: 3716.6458\n",
      "Epoch 330/500\n",
      "5905/5905 [==============================] - 26s 4ms/step - loss: 4518558720.0000 - mae: 3690.4568 - val_loss: 4992634368.0000 - val_mae: 4023.1421\n",
      "Epoch 331/500\n",
      "5905/5905 [==============================] - 27s 5ms/step - loss: 4532109312.0000 - mae: 3720.4668 - val_loss: 5342285824.0000 - val_mae: 3718.6514\n",
      "Epoch 332/500\n",
      "5905/5905 [==============================] - 26s 4ms/step - loss: 4593556992.0000 - mae: 3706.8430 - val_loss: 4871529472.0000 - val_mae: 3261.0366\n",
      "Epoch 333/500\n",
      "5905/5905 [==============================] - 26s 4ms/step - loss: 4648086016.0000 - mae: 3786.8879 - val_loss: 5108861952.0000 - val_mae: 4037.2534\n",
      "Epoch 334/500\n",
      "5905/5905 [==============================] - 26s 4ms/step - loss: 4677249536.0000 - mae: 3698.8635 - val_loss: 4873865728.0000 - val_mae: 4054.9614\n",
      "Epoch 335/500\n",
      "5905/5905 [==============================] - 27s 5ms/step - loss: 4501827584.0000 - mae: 3711.7273 - val_loss: 4743222784.0000 - val_mae: 3558.3066\n",
      "Epoch 336/500\n",
      "5905/5905 [==============================] - 26s 4ms/step - loss: 4530804736.0000 - mae: 3699.8374 - val_loss: 4774168064.0000 - val_mae: 3276.0710\n",
      "Epoch 337/500\n",
      "5905/5905 [==============================] - 26s 4ms/step - loss: 4511365120.0000 - mae: 3628.5642 - val_loss: 4893534720.0000 - val_mae: 3666.0894\n",
      "Epoch 338/500\n",
      "5905/5905 [==============================] - 26s 4ms/step - loss: 4465730048.0000 - mae: 3691.8257 - val_loss: 4795504640.0000 - val_mae: 3888.2559\n",
      "Epoch 339/500\n",
      "5905/5905 [==============================] - 29s 5ms/step - loss: 4462231040.0000 - mae: 3591.9299 - val_loss: 5596581888.0000 - val_mae: 4453.9224\n",
      "Epoch 340/500\n",
      "5905/5905 [==============================] - 27s 5ms/step - loss: 4466907136.0000 - mae: 3672.6333 - val_loss: 5327612928.0000 - val_mae: 4194.9351\n",
      "Epoch 341/500\n",
      "5905/5905 [==============================] - 28s 5ms/step - loss: 4611274752.0000 - mae: 3645.1462 - val_loss: 4940460544.0000 - val_mae: 4078.2546\n",
      "Epoch 342/500\n",
      "5905/5905 [==============================] - 27s 5ms/step - loss: 4634309632.0000 - mae: 3622.2305 - val_loss: 4756541952.0000 - val_mae: 3786.1973\n",
      "Epoch 343/500\n",
      "5905/5905 [==============================] - 27s 5ms/step - loss: 4722322944.0000 - mae: 3707.1277 - val_loss: 4881079808.0000 - val_mae: 3668.9741\n",
      "Epoch 344/500\n",
      "5905/5905 [==============================] - 26s 4ms/step - loss: 4448308736.0000 - mae: 3658.1040 - val_loss: 5164562432.0000 - val_mae: 3302.9258\n",
      "Epoch 345/500\n",
      "5905/5905 [==============================] - 28s 5ms/step - loss: 4482203136.0000 - mae: 3668.0645 - val_loss: 5298756096.0000 - val_mae: 4449.6621\n",
      "Epoch 346/500\n",
      "5905/5905 [==============================] - 27s 4ms/step - loss: 4546199040.0000 - mae: 3755.5583 - val_loss: 5296076288.0000 - val_mae: 3049.2930\n",
      "Epoch 347/500\n",
      "5905/5905 [==============================] - 27s 5ms/step - loss: 4443782656.0000 - mae: 3685.0525 - val_loss: 5026757632.0000 - val_mae: 4230.5469\n",
      "Epoch 348/500\n",
      "5905/5905 [==============================] - 27s 5ms/step - loss: 4518543360.0000 - mae: 3670.8560 - val_loss: 4777287680.0000 - val_mae: 3306.8792\n",
      "Epoch 349/500\n",
      "5905/5905 [==============================] - 27s 4ms/step - loss: 4622094336.0000 - mae: 3616.8508 - val_loss: 4779581440.0000 - val_mae: 4181.8164\n",
      "Epoch 350/500\n",
      "5905/5905 [==============================] - 27s 5ms/step - loss: 4543285760.0000 - mae: 3636.6226 - val_loss: 6639036416.0000 - val_mae: 5368.0928\n",
      "Epoch 351/500\n",
      "5905/5905 [==============================] - 28s 5ms/step - loss: 4364991488.0000 - mae: 3639.7651 - val_loss: 5935256576.0000 - val_mae: 4760.9307\n",
      "Epoch 352/500\n",
      "5905/5905 [==============================] - 26s 4ms/step - loss: 4447270400.0000 - mae: 3620.0300 - val_loss: 4695672320.0000 - val_mae: 3879.5740\n",
      "Epoch 353/500\n",
      "5905/5905 [==============================] - 28s 5ms/step - loss: 4512421376.0000 - mae: 3596.5403 - val_loss: 5397695488.0000 - val_mae: 2988.3013\n",
      "Epoch 354/500\n",
      "5905/5905 [==============================] - 26s 4ms/step - loss: 4541551104.0000 - mae: 3658.3218 - val_loss: 6847554560.0000 - val_mae: 5280.1348\n",
      "Epoch 355/500\n",
      "5905/5905 [==============================] - 26s 4ms/step - loss: 4498620928.0000 - mae: 3605.8833 - val_loss: 4717222400.0000 - val_mae: 3977.5955\n",
      "Epoch 356/500\n",
      "5905/5905 [==============================] - 27s 5ms/step - loss: 4641024000.0000 - mae: 3705.6177 - val_loss: 5674840064.0000 - val_mae: 4758.6323\n",
      "Epoch 357/500\n",
      "5905/5905 [==============================] - 27s 5ms/step - loss: 4471373824.0000 - mae: 3556.8254 - val_loss: 5491747328.0000 - val_mae: 3248.8708\n",
      "Epoch 358/500\n",
      "5905/5905 [==============================] - 27s 4ms/step - loss: 4418552320.0000 - mae: 3716.5684 - val_loss: 5695198720.0000 - val_mae: 4521.5786\n",
      "Epoch 359/500\n",
      "5905/5905 [==============================] - 26s 4ms/step - loss: 4629462016.0000 - mae: 3639.8474 - val_loss: 4744225792.0000 - val_mae: 3484.6863\n",
      "Epoch 360/500\n",
      "5905/5905 [==============================] - 28s 5ms/step - loss: 4489178112.0000 - mae: 3503.9231 - val_loss: 4964448768.0000 - val_mae: 4323.5781\n",
      "Epoch 361/500\n",
      "5905/5905 [==============================] - 28s 5ms/step - loss: 4514898432.0000 - mae: 3639.2087 - val_loss: 5008349696.0000 - val_mae: 3333.7849\n",
      "Epoch 362/500\n",
      "5905/5905 [==============================] - 29s 5ms/step - loss: 4476410368.0000 - mae: 3560.5225 - val_loss: 5968492544.0000 - val_mae: 4802.7598\n",
      "Epoch 363/500\n",
      "5905/5905 [==============================] - 27s 5ms/step - loss: 4630406144.0000 - mae: 3691.6421 - val_loss: 4972058112.0000 - val_mae: 3704.0803\n",
      "Epoch 364/500\n",
      "5905/5905 [==============================] - 27s 5ms/step - loss: 4439988224.0000 - mae: 3582.9751 - val_loss: 4817407488.0000 - val_mae: 3185.2754\n",
      "Epoch 365/500\n",
      "5905/5905 [==============================] - 27s 5ms/step - loss: 4462973440.0000 - mae: 3573.1895 - val_loss: 4755108864.0000 - val_mae: 2998.3928\n",
      "Epoch 366/500\n",
      "5905/5905 [==============================] - 28s 5ms/step - loss: 4474560000.0000 - mae: 3520.5042 - val_loss: 4780480000.0000 - val_mae: 4041.0637\n",
      "Epoch 367/500\n",
      "5905/5905 [==============================] - 27s 5ms/step - loss: 4538974720.0000 - mae: 3557.3831 - val_loss: 5219212800.0000 - val_mae: 4586.8779\n",
      "Epoch 368/500\n",
      "5905/5905 [==============================] - 28s 5ms/step - loss: 4457572864.0000 - mae: 3566.8740 - val_loss: 4740310528.0000 - val_mae: 3733.7979\n",
      "Epoch 369/500\n",
      "5905/5905 [==============================] - 26s 4ms/step - loss: 4409588736.0000 - mae: 3524.1211 - val_loss: 4781025280.0000 - val_mae: 3260.2678\n",
      "Epoch 370/500\n",
      "5905/5905 [==============================] - 26s 4ms/step - loss: 4564179968.0000 - mae: 3615.2798 - val_loss: 5060599296.0000 - val_mae: 3401.1726\n",
      "Epoch 371/500\n",
      "5905/5905 [==============================] - 26s 4ms/step - loss: 4427102720.0000 - mae: 3616.1423 - val_loss: 4856279552.0000 - val_mae: 3245.4453\n",
      "Epoch 372/500\n",
      "5905/5905 [==============================] - 28s 5ms/step - loss: 4565010432.0000 - mae: 3622.7590 - val_loss: 5457582592.0000 - val_mae: 2905.9092\n",
      "Epoch 373/500\n",
      "5905/5905 [==============================] - 27s 5ms/step - loss: 4204281856.0000 - mae: 3559.5693 - val_loss: 4584798208.0000 - val_mae: 3547.6821\n",
      "Epoch 374/500\n",
      "5905/5905 [==============================] - 26s 4ms/step - loss: 4531906048.0000 - mae: 3598.2817 - val_loss: 4661102080.0000 - val_mae: 3913.5010\n",
      "Epoch 375/500\n",
      "5905/5905 [==============================] - 26s 4ms/step - loss: 4443994112.0000 - mae: 3590.1538 - val_loss: 5015910400.0000 - val_mae: 3094.4377\n",
      "Epoch 376/500\n",
      "5905/5905 [==============================] - 27s 5ms/step - loss: 4468633600.0000 - mae: 3574.4084 - val_loss: 5002058752.0000 - val_mae: 3191.3533\n",
      "Epoch 377/500\n",
      "5905/5905 [==============================] - 26s 4ms/step - loss: 4645655552.0000 - mae: 3623.8345 - val_loss: 5694267904.0000 - val_mae: 3149.6187\n",
      "Epoch 378/500\n",
      "5905/5905 [==============================] - 26s 4ms/step - loss: 4633286144.0000 - mae: 3575.1455 - val_loss: 4686025728.0000 - val_mae: 4115.7661\n",
      "Epoch 379/500\n",
      "5905/5905 [==============================] - 26s 4ms/step - loss: 4576186368.0000 - mae: 3568.1099 - val_loss: 6219909632.0000 - val_mae: 3302.5828\n",
      "Epoch 380/500\n",
      "5905/5905 [==============================] - 27s 5ms/step - loss: 4447451136.0000 - mae: 3524.7646 - val_loss: 4798048256.0000 - val_mae: 3817.2686\n",
      "Epoch 381/500\n",
      "5905/5905 [==============================] - 26s 4ms/step - loss: 4307274240.0000 - mae: 3513.3999 - val_loss: 4919996416.0000 - val_mae: 3404.0286\n",
      "Epoch 382/500\n",
      "5905/5905 [==============================] - 26s 4ms/step - loss: 4493504512.0000 - mae: 3546.7732 - val_loss: 5155699712.0000 - val_mae: 2873.2637\n",
      "Epoch 383/500\n",
      "5905/5905 [==============================] - 26s 4ms/step - loss: 4374987776.0000 - mae: 3495.5659 - val_loss: 5157548032.0000 - val_mae: 4357.4224\n",
      "Epoch 384/500\n",
      "5905/5905 [==============================] - 27s 5ms/step - loss: 4348249600.0000 - mae: 3472.4683 - val_loss: 4631434240.0000 - val_mae: 2865.8442\n",
      "Epoch 385/500\n",
      "5905/5905 [==============================] - 26s 4ms/step - loss: 4343224832.0000 - mae: 3446.0474 - val_loss: 5937089024.0000 - val_mae: 4699.0186\n",
      "Epoch 386/500\n",
      "5905/5905 [==============================] - 26s 4ms/step - loss: 4472297472.0000 - mae: 3477.8474 - val_loss: 4583659520.0000 - val_mae: 3388.9153\n",
      "Epoch 387/500\n",
      "5905/5905 [==============================] - 26s 4ms/step - loss: 4456909824.0000 - mae: 3535.9548 - val_loss: 4754271744.0000 - val_mae: 3851.5527\n",
      "Epoch 388/500\n",
      "5905/5905 [==============================] - 26s 4ms/step - loss: 4407209984.0000 - mae: 3583.8552 - val_loss: 5413741056.0000 - val_mae: 4677.2153\n",
      "Epoch 389/500\n",
      "5905/5905 [==============================] - 27s 4ms/step - loss: 4401773568.0000 - mae: 3581.7961 - val_loss: 4868721664.0000 - val_mae: 4327.7812\n",
      "Epoch 390/500\n",
      "5905/5905 [==============================] - 26s 4ms/step - loss: 4364083200.0000 - mae: 3562.7610 - val_loss: 6492626432.0000 - val_mae: 3184.6641\n",
      "Epoch 391/500\n",
      "5905/5905 [==============================] - 26s 4ms/step - loss: 4429826560.0000 - mae: 3633.5051 - val_loss: 5025119232.0000 - val_mae: 4188.0020\n",
      "Epoch 392/500\n",
      "5905/5905 [==============================] - 26s 4ms/step - loss: 4810473472.0000 - mae: 3682.9968 - val_loss: 4974915072.0000 - val_mae: 3641.1072\n",
      "Epoch 393/500\n",
      "5905/5905 [==============================] - 26s 4ms/step - loss: 4544591872.0000 - mae: 3634.4033 - val_loss: 5461785600.0000 - val_mae: 3108.2041\n",
      "Epoch 394/500\n",
      "5905/5905 [==============================] - 26s 4ms/step - loss: 4551784448.0000 - mae: 3602.1855 - val_loss: 4617542656.0000 - val_mae: 3711.5544\n",
      "Epoch 395/500\n",
      "5905/5905 [==============================] - 26s 4ms/step - loss: 4406150656.0000 - mae: 3612.7808 - val_loss: 4690983424.0000 - val_mae: 3455.1970\n",
      "Epoch 396/500\n",
      "5905/5905 [==============================] - 26s 4ms/step - loss: 4498297856.0000 - mae: 3658.1038 - val_loss: 4696513536.0000 - val_mae: 3434.9211\n",
      "Epoch 397/500\n",
      "5905/5905 [==============================] - 26s 4ms/step - loss: 4545861632.0000 - mae: 3632.6794 - val_loss: 4946927616.0000 - val_mae: 3117.3613\n",
      "Epoch 398/500\n",
      "5905/5905 [==============================] - 27s 5ms/step - loss: 4416881152.0000 - mae: 3585.9053 - val_loss: 5088108032.0000 - val_mae: 3293.0920\n",
      "Epoch 399/500\n",
      "5905/5905 [==============================] - 26s 4ms/step - loss: 4329140736.0000 - mae: 3640.8145 - val_loss: 4719625216.0000 - val_mae: 3205.6001\n",
      "Epoch 400/500\n",
      "5905/5905 [==============================] - 26s 4ms/step - loss: 4351717888.0000 - mae: 3592.9009 - val_loss: 5119919104.0000 - val_mae: 4059.3833\n",
      "Epoch 401/500\n",
      "5905/5905 [==============================] - 26s 4ms/step - loss: 4525577216.0000 - mae: 3490.7739 - val_loss: 4771457536.0000 - val_mae: 3611.1104\n",
      "Epoch 402/500\n",
      "5905/5905 [==============================] - 27s 4ms/step - loss: 4399873024.0000 - mae: 3450.3188 - val_loss: 4727758336.0000 - val_mae: 3033.6077\n",
      "Epoch 403/500\n",
      "5905/5905 [==============================] - 27s 5ms/step - loss: 4453719040.0000 - mae: 3515.2385 - val_loss: 4948341248.0000 - val_mae: 3399.6672\n",
      "Epoch 404/500\n",
      "5905/5905 [==============================] - 26s 4ms/step - loss: 4449826304.0000 - mae: 3597.1658 - val_loss: 5265311744.0000 - val_mae: 3093.0850\n",
      "Epoch 405/500\n",
      "5905/5905 [==============================] - 26s 4ms/step - loss: 4564358656.0000 - mae: 3655.7549 - val_loss: 4620333568.0000 - val_mae: 3235.2109\n",
      "Epoch 406/500\n",
      "5905/5905 [==============================] - 27s 5ms/step - loss: 4510839808.0000 - mae: 3649.6687 - val_loss: 4874002432.0000 - val_mae: 3695.6099\n",
      "Epoch 407/500\n",
      "5905/5905 [==============================] - 27s 5ms/step - loss: 4495312896.0000 - mae: 3641.5537 - val_loss: 4597830656.0000 - val_mae: 3363.4304\n",
      "Epoch 408/500\n",
      "5905/5905 [==============================] - 26s 4ms/step - loss: 4446929920.0000 - mae: 3627.8164 - val_loss: 5437402112.0000 - val_mae: 5396.6826\n",
      "Epoch 409/500\n",
      "5905/5905 [==============================] - 26s 4ms/step - loss: 4424737792.0000 - mae: 3606.9114 - val_loss: 4684456448.0000 - val_mae: 3068.9500\n",
      "Epoch 410/500\n",
      "5905/5905 [==============================] - 27s 5ms/step - loss: 4470076416.0000 - mae: 3683.4375 - val_loss: 6036160000.0000 - val_mae: 3755.7739\n",
      "Epoch 411/500\n",
      "5905/5905 [==============================] - 26s 4ms/step - loss: 4355232768.0000 - mae: 3564.4932 - val_loss: 5566716928.0000 - val_mae: 3155.4585\n",
      "Epoch 412/500\n",
      "5905/5905 [==============================] - 26s 4ms/step - loss: 4433939968.0000 - mae: 3534.4897 - val_loss: 5514175488.0000 - val_mae: 3229.0688\n",
      "Epoch 413/500\n",
      "5905/5905 [==============================] - 26s 4ms/step - loss: 4440986624.0000 - mae: 3498.3672 - val_loss: 4481393664.0000 - val_mae: 3397.9529\n",
      "Epoch 414/500\n",
      "5905/5905 [==============================] - 27s 5ms/step - loss: 4224383744.0000 - mae: 3467.8591 - val_loss: 6016201728.0000 - val_mae: 3148.1641\n",
      "Epoch 415/500\n",
      "5905/5905 [==============================] - 26s 4ms/step - loss: 4512441344.0000 - mae: 3564.2026 - val_loss: 4553119744.0000 - val_mae: 3688.2363\n",
      "Epoch 416/500\n",
      "5905/5905 [==============================] - 26s 4ms/step - loss: 4178312192.0000 - mae: 3456.2278 - val_loss: 4530306048.0000 - val_mae: 3194.9875\n",
      "Epoch 417/500\n",
      "5905/5905 [==============================] - 26s 4ms/step - loss: 4408313344.0000 - mae: 3542.3186 - val_loss: 6549315584.0000 - val_mae: 3307.9561\n",
      "Epoch 418/500\n",
      "5905/5905 [==============================] - 26s 4ms/step - loss: 4460243968.0000 - mae: 3511.7800 - val_loss: 4720200704.0000 - val_mae: 3028.4373\n",
      "Epoch 419/500\n",
      "5905/5905 [==============================] - 27s 5ms/step - loss: 4286065664.0000 - mae: 3476.5090 - val_loss: 5816880128.0000 - val_mae: 2974.8203\n",
      "Epoch 420/500\n",
      "5905/5905 [==============================] - 26s 4ms/step - loss: 4281263104.0000 - mae: 3369.7190 - val_loss: 4498885632.0000 - val_mae: 4684.9238\n",
      "Epoch 421/500\n",
      "5905/5905 [==============================] - 26s 4ms/step - loss: 4511464448.0000 - mae: 3516.4092 - val_loss: 5559186432.0000 - val_mae: 2896.6296\n",
      "Epoch 422/500\n",
      "5905/5905 [==============================] - 26s 4ms/step - loss: 4330049536.0000 - mae: 3366.6372 - val_loss: 5181896192.0000 - val_mae: 2852.7893\n",
      "Epoch 423/500\n",
      "5905/5905 [==============================] - 27s 5ms/step - loss: 4431626752.0000 - mae: 3420.7449 - val_loss: 5277694464.0000 - val_mae: 4173.7729\n",
      "Epoch 424/500\n",
      "5905/5905 [==============================] - 26s 4ms/step - loss: 4449972736.0000 - mae: 3500.6211 - val_loss: 4532396032.0000 - val_mae: 3304.2783\n",
      "Epoch 425/500\n",
      "5905/5905 [==============================] - 26s 4ms/step - loss: 4335860736.0000 - mae: 3493.3950 - val_loss: 4723141632.0000 - val_mae: 4082.6006\n",
      "Epoch 426/500\n",
      "5905/5905 [==============================] - 26s 4ms/step - loss: 4414089728.0000 - mae: 3497.3621 - val_loss: 5747134976.0000 - val_mae: 3112.9534\n",
      "Epoch 427/500\n",
      "5905/5905 [==============================] - 26s 4ms/step - loss: 4372875776.0000 - mae: 3459.8022 - val_loss: 5042287104.0000 - val_mae: 2759.0291\n",
      "Epoch 428/500\n",
      "5905/5905 [==============================] - 27s 5ms/step - loss: 4377702912.0000 - mae: 3515.0974 - val_loss: 4567665152.0000 - val_mae: 2961.2483\n",
      "Epoch 429/500\n",
      "5905/5905 [==============================] - 26s 4ms/step - loss: 4451333120.0000 - mae: 3542.4717 - val_loss: 5199627776.0000 - val_mae: 3591.5134\n",
      "Epoch 430/500\n",
      "5905/5905 [==============================] - 26s 4ms/step - loss: 4310030848.0000 - mae: 3542.9077 - val_loss: 4554274816.0000 - val_mae: 3652.6245\n",
      "Epoch 431/500\n",
      "5905/5905 [==============================] - 26s 4ms/step - loss: 4326934016.0000 - mae: 3484.9272 - val_loss: 4830046208.0000 - val_mae: 4049.6240\n",
      "Epoch 432/500\n",
      "5905/5905 [==============================] - 27s 5ms/step - loss: 4228675584.0000 - mae: 3452.9443 - val_loss: 5911172096.0000 - val_mae: 2811.1091\n",
      "Epoch 433/500\n",
      "5905/5905 [==============================] - 26s 4ms/step - loss: 4303078400.0000 - mae: 3502.4753 - val_loss: 4733117952.0000 - val_mae: 4398.4761\n",
      "Epoch 434/500\n",
      "5905/5905 [==============================] - 26s 4ms/step - loss: 4299291136.0000 - mae: 3567.5715 - val_loss: 15193262080.0000 - val_mae: 8305.1689\n",
      "Epoch 435/500\n",
      "5905/5905 [==============================] - 26s 4ms/step - loss: 4217926400.0000 - mae: 3591.0159 - val_loss: 5396509184.0000 - val_mae: 3071.7993\n",
      "Epoch 436/500\n",
      "5905/5905 [==============================] - 26s 4ms/step - loss: 4303417856.0000 - mae: 3529.6399 - val_loss: 5437710848.0000 - val_mae: 4733.8809\n",
      "Epoch 437/500\n",
      "5905/5905 [==============================] - 28s 5ms/step - loss: 4364629504.0000 - mae: 3535.1860 - val_loss: 5031455744.0000 - val_mae: 3601.6416\n",
      "Epoch 438/500\n",
      "5905/5905 [==============================] - 26s 4ms/step - loss: 4255243520.0000 - mae: 3524.4834 - val_loss: 4528139264.0000 - val_mae: 3271.6995\n",
      "Epoch 439/500\n",
      "5905/5905 [==============================] - 26s 4ms/step - loss: 4322102784.0000 - mae: 3439.8882 - val_loss: 4448592384.0000 - val_mae: 3212.7842\n",
      "Epoch 440/500\n",
      "5905/5905 [==============================] - 27s 5ms/step - loss: 4394978304.0000 - mae: 3510.4480 - val_loss: 5097060352.0000 - val_mae: 4102.7075\n",
      "Epoch 441/500\n",
      "5905/5905 [==============================] - 27s 5ms/step - loss: 4464240128.0000 - mae: 3486.0920 - val_loss: 4266878464.0000 - val_mae: 3128.9470\n",
      "Epoch 442/500\n",
      "5905/5905 [==============================] - 27s 5ms/step - loss: 4393269760.0000 - mae: 3490.7046 - val_loss: 5129412096.0000 - val_mae: 4279.4331\n",
      "Epoch 443/500\n",
      "5905/5905 [==============================] - 27s 5ms/step - loss: 4335646720.0000 - mae: 3422.0459 - val_loss: 4558477824.0000 - val_mae: 3468.8486\n",
      "Epoch 444/500\n",
      "5905/5905 [==============================] - 26s 4ms/step - loss: 4265934592.0000 - mae: 3407.0667 - val_loss: 5368201728.0000 - val_mae: 2949.8799\n",
      "Epoch 445/500\n",
      "5905/5905 [==============================] - 27s 5ms/step - loss: 4250889472.0000 - mae: 3384.7217 - val_loss: 5126534144.0000 - val_mae: 4278.2095\n",
      "Epoch 446/500\n",
      "5905/5905 [==============================] - 27s 5ms/step - loss: 4349866496.0000 - mae: 3458.9268 - val_loss: 4383644672.0000 - val_mae: 3096.3340\n",
      "Epoch 447/500\n",
      "5905/5905 [==============================] - 26s 4ms/step - loss: 4474195968.0000 - mae: 3487.4790 - val_loss: 4404504064.0000 - val_mae: 3414.2097\n",
      "Epoch 448/500\n",
      "5905/5905 [==============================] - 26s 4ms/step - loss: 4466220032.0000 - mae: 3401.8872 - val_loss: 4418249728.0000 - val_mae: 3451.5066\n",
      "Epoch 449/500\n",
      "5905/5905 [==============================] - 27s 5ms/step - loss: 4305584640.0000 - mae: 3372.7712 - val_loss: 4858310144.0000 - val_mae: 3684.0032\n",
      "Epoch 450/500\n",
      "5905/5905 [==============================] - 26s 4ms/step - loss: 4330038784.0000 - mae: 3381.2688 - val_loss: 4594810368.0000 - val_mae: 4364.6724\n",
      "Epoch 451/500\n",
      "5905/5905 [==============================] - 26s 4ms/step - loss: 4268075264.0000 - mae: 3385.5593 - val_loss: 5003816448.0000 - val_mae: 4794.5859\n",
      "Epoch 452/500\n",
      "5905/5905 [==============================] - 27s 5ms/step - loss: 4182975232.0000 - mae: 3440.7754 - val_loss: 4492768256.0000 - val_mae: 3671.3396\n",
      "Epoch 453/500\n",
      "5905/5905 [==============================] - 27s 5ms/step - loss: 4358837248.0000 - mae: 3359.5979 - val_loss: 4692734976.0000 - val_mae: 4062.9751\n",
      "Epoch 454/500\n",
      "5905/5905 [==============================] - 27s 5ms/step - loss: 4261303552.0000 - mae: 3431.9631 - val_loss: 5725640192.0000 - val_mae: 4992.0542\n",
      "Epoch 455/500\n",
      "5905/5905 [==============================] - 27s 5ms/step - loss: 4304754688.0000 - mae: 3449.1035 - val_loss: 5294878720.0000 - val_mae: 3528.0850\n",
      "Epoch 456/500\n",
      "5905/5905 [==============================] - 27s 4ms/step - loss: 4368004608.0000 - mae: 3423.9270 - val_loss: 4803229696.0000 - val_mae: 3016.8506\n",
      "Epoch 457/500\n",
      "5905/5905 [==============================] - 27s 4ms/step - loss: 4183054592.0000 - mae: 3420.4124 - val_loss: 4718723584.0000 - val_mae: 3806.0342\n",
      "Epoch 458/500\n",
      "5905/5905 [==============================] - 28s 5ms/step - loss: 4365859328.0000 - mae: 3509.5884 - val_loss: 5087608320.0000 - val_mae: 3043.4761\n",
      "Epoch 459/500\n",
      "5905/5905 [==============================] - 27s 5ms/step - loss: 4307397632.0000 - mae: 3410.9690 - val_loss: 4304907264.0000 - val_mae: 3405.0366\n",
      "Epoch 460/500\n",
      "5905/5905 [==============================] - 27s 4ms/step - loss: 4216615680.0000 - mae: 3407.8682 - val_loss: 5650076672.0000 - val_mae: 4435.2075\n",
      "Epoch 461/500\n",
      "5905/5905 [==============================] - 27s 5ms/step - loss: 4393893888.0000 - mae: 3507.7427 - val_loss: 5879749120.0000 - val_mae: 3126.2144\n",
      "Epoch 462/500\n",
      "5905/5905 [==============================] - 27s 5ms/step - loss: 4364158464.0000 - mae: 3363.0752 - val_loss: 5810756608.0000 - val_mae: 2953.9265\n",
      "Epoch 463/500\n",
      "5905/5905 [==============================] - 27s 5ms/step - loss: 4290290688.0000 - mae: 3342.1531 - val_loss: 4303498240.0000 - val_mae: 3578.7146\n",
      "Epoch 464/500\n",
      "5905/5905 [==============================] - 27s 5ms/step - loss: 4018365440.0000 - mae: 3302.4099 - val_loss: 4832894464.0000 - val_mae: 3275.8926\n",
      "Epoch 465/500\n",
      "5905/5905 [==============================] - 27s 5ms/step - loss: 4265517824.0000 - mae: 3339.6213 - val_loss: 5135179776.0000 - val_mae: 3379.5830\n",
      "Epoch 466/500\n",
      "5905/5905 [==============================] - 27s 5ms/step - loss: 4203283456.0000 - mae: 3323.6985 - val_loss: 4554915840.0000 - val_mae: 2674.5681\n",
      "Epoch 467/500\n",
      "5905/5905 [==============================] - 28s 5ms/step - loss: 4312684032.0000 - mae: 3369.9404 - val_loss: 4431074304.0000 - val_mae: 3129.2678\n",
      "Epoch 468/500\n",
      "5905/5905 [==============================] - 26s 4ms/step - loss: 4248316928.0000 - mae: 3370.2227 - val_loss: 4228132608.0000 - val_mae: 3336.7849\n",
      "Epoch 469/500\n",
      "5905/5905 [==============================] - 26s 4ms/step - loss: 4158271744.0000 - mae: 3392.4795 - val_loss: 4884555264.0000 - val_mae: 2770.8262\n",
      "Epoch 470/500\n",
      "5905/5905 [==============================] - 27s 4ms/step - loss: 4313906688.0000 - mae: 3407.2253 - val_loss: 4766636032.0000 - val_mae: 2577.3772\n",
      "Epoch 471/500\n",
      "5905/5905 [==============================] - 28s 5ms/step - loss: 4260847104.0000 - mae: 3347.8616 - val_loss: 4447895040.0000 - val_mae: 3565.5029\n",
      "Epoch 472/500\n",
      "5905/5905 [==============================] - 27s 5ms/step - loss: 4362945024.0000 - mae: 3415.3000 - val_loss: 4476981248.0000 - val_mae: 2819.1101\n",
      "Epoch 473/500\n",
      "5905/5905 [==============================] - 27s 4ms/step - loss: 4231620096.0000 - mae: 3379.3701 - val_loss: 5576671744.0000 - val_mae: 4425.3955\n",
      "Epoch 474/500\n",
      "5905/5905 [==============================] - 28s 5ms/step - loss: 4186187776.0000 - mae: 3426.7344 - val_loss: 5480655360.0000 - val_mae: 3065.2234\n",
      "Epoch 475/500\n",
      "5905/5905 [==============================] - 27s 5ms/step - loss: 4211495680.0000 - mae: 3423.6624 - val_loss: 4433187840.0000 - val_mae: 2828.8308\n",
      "Epoch 476/500\n",
      "5905/5905 [==============================] - 27s 5ms/step - loss: 4126529024.0000 - mae: 3360.9404 - val_loss: 7928262656.0000 - val_mae: 5253.1460\n",
      "Epoch 477/500\n",
      "5905/5905 [==============================] - 26s 4ms/step - loss: 4225584128.0000 - mae: 3406.3459 - val_loss: 4927556096.0000 - val_mae: 2852.5576\n",
      "Epoch 478/500\n",
      "5905/5905 [==============================] - 26s 4ms/step - loss: 4133689600.0000 - mae: 3304.0244 - val_loss: 5096745472.0000 - val_mae: 2667.2039\n",
      "Epoch 479/500\n",
      "5905/5905 [==============================] - 26s 4ms/step - loss: 4177917952.0000 - mae: 3353.4712 - val_loss: 4755928064.0000 - val_mae: 2585.1077\n",
      "Epoch 480/500\n",
      "5905/5905 [==============================] - 27s 5ms/step - loss: 4433451008.0000 - mae: 3504.2466 - val_loss: 4516078592.0000 - val_mae: 3509.3748\n",
      "Epoch 481/500\n",
      "5905/5905 [==============================] - 26s 4ms/step - loss: 4281868032.0000 - mae: 3317.0217 - val_loss: 4223785728.0000 - val_mae: 3244.7329\n",
      "Epoch 482/500\n",
      "5905/5905 [==============================] - 26s 4ms/step - loss: 4203840000.0000 - mae: 3287.1411 - val_loss: 4245136640.0000 - val_mae: 3542.0107\n",
      "Epoch 483/500\n",
      "5905/5905 [==============================] - 27s 4ms/step - loss: 4202669568.0000 - mae: 3379.1245 - val_loss: 4515737088.0000 - val_mae: 3566.3328\n",
      "Epoch 484/500\n",
      "5905/5905 [==============================] - 26s 4ms/step - loss: 4072269312.0000 - mae: 3283.5129 - val_loss: 4139409664.0000 - val_mae: 3174.5757\n",
      "Epoch 485/500\n",
      "5905/5905 [==============================] - 27s 5ms/step - loss: 4163792128.0000 - mae: 3281.1831 - val_loss: 6520568320.0000 - val_mae: 5665.3438\n",
      "Epoch 486/500\n",
      "5905/5905 [==============================] - 26s 4ms/step - loss: 4132900864.0000 - mae: 3280.7058 - val_loss: 5001930240.0000 - val_mae: 3798.2595\n",
      "Epoch 487/500\n",
      "5905/5905 [==============================] - 26s 4ms/step - loss: 4325519360.0000 - mae: 3363.1931 - val_loss: 4231682304.0000 - val_mae: 3096.4077\n",
      "Epoch 488/500\n",
      "5905/5905 [==============================] - 26s 4ms/step - loss: 4352758272.0000 - mae: 3346.2852 - val_loss: 5097814528.0000 - val_mae: 4367.6782\n",
      "Epoch 489/500\n",
      "5905/5905 [==============================] - 26s 4ms/step - loss: 4265687808.0000 - mae: 3324.8230 - val_loss: 4493211136.0000 - val_mae: 2925.1448\n",
      "Epoch 490/500\n",
      "5905/5905 [==============================] - 27s 5ms/step - loss: 4308254208.0000 - mae: 3364.2930 - val_loss: 4070939904.0000 - val_mae: 3078.9133\n",
      "Epoch 491/500\n",
      "5905/5905 [==============================] - 27s 4ms/step - loss: 4080403456.0000 - mae: 3302.1543 - val_loss: 4152854784.0000 - val_mae: 3170.9795\n",
      "Epoch 492/500\n",
      "5905/5905 [==============================] - 26s 4ms/step - loss: 4188233728.0000 - mae: 3367.3262 - val_loss: 6802511360.0000 - val_mae: 5002.5249\n",
      "Epoch 493/500\n",
      "5905/5905 [==============================] - 27s 5ms/step - loss: 4131633408.0000 - mae: 3444.2439 - val_loss: 5160018944.0000 - val_mae: 4430.2178\n",
      "Epoch 494/500\n",
      "5905/5905 [==============================] - 27s 4ms/step - loss: 4195338496.0000 - mae: 3396.5596 - val_loss: 4168261120.0000 - val_mae: 4044.7629\n",
      "Epoch 495/500\n",
      "5905/5905 [==============================] - 27s 5ms/step - loss: 4264122112.0000 - mae: 3435.0845 - val_loss: 5954849792.0000 - val_mae: 3079.8596\n",
      "Epoch 496/500\n",
      "5905/5905 [==============================] - 27s 5ms/step - loss: 4315328512.0000 - mae: 3371.0583 - val_loss: 5874626048.0000 - val_mae: 4805.3853\n",
      "Epoch 497/500\n",
      "5905/5905 [==============================] - 27s 4ms/step - loss: 4214203648.0000 - mae: 3351.8325 - val_loss: 4964478976.0000 - val_mae: 3404.6863\n",
      "Epoch 498/500\n",
      "5905/5905 [==============================] - 26s 4ms/step - loss: 4123631872.0000 - mae: 3265.1638 - val_loss: 5039540736.0000 - val_mae: 5091.0918\n",
      "Epoch 499/500\n",
      "5905/5905 [==============================] - 27s 4ms/step - loss: 4388023296.0000 - mae: 3540.8198 - val_loss: 4586096640.0000 - val_mae: 3973.5991\n",
      "Epoch 500/500\n",
      "5905/5905 [==============================] - 27s 5ms/step - loss: 4201443584.0000 - mae: 3295.1509 - val_loss: 4493454336.0000 - val_mae: 2798.3799\n"
     ]
    }
   ],
   "source": [
    "history = ann.fit(X_train, y_train,\n",
    "                    validation_data = (X_val, y_val),\n",
    "                    callbacks=[es],\n",
    "                    epochs=500,\n",
    "                    batch_size=50,\n",
    "                    verbose=1)"
   ]
  },
  {
   "cell_type": "markdown",
   "metadata": {
    "colab_type": "text",
    "id": "0H0zKKNEBLD5"
   },
   "source": [
    "### Analyse learn history"
   ]
  },
  {
   "cell_type": "code",
   "execution_count": 25,
   "metadata": {
    "ExecuteTime": {
     "end_time": "2023-10-04T05:21:21.077897800Z",
     "start_time": "2023-10-04T05:21:20.763164200Z"
    }
   },
   "outputs": [
    {
     "data": {
      "text/plain": "<Figure size 640x480 with 1 Axes>",
      "image/png": "[encoded data removed]"
     },
     "metadata": {},
     "output_type": "display_data"
    }
   ],
   "source": [
    "# let's see the training and validation accuracy by epoch\n",
    "history_dict = history.history\n",
    "loss_values = history_dict['loss'] # you can change this\n",
    "val_loss_values = history_dict['val_loss'] # you can also change this\n",
    "epochs = range(1, len(loss_values) + 1) # range of X (no. of epochs)\n",
    "plt.plot(epochs, loss_values, 'blue', label='Train set loss')\n",
    "plt.plot(epochs, val_loss_values, 'orange', label='Validation set loss')\n",
    "#plt.title('Training and testing loss')\n",
    "plt.xlabel('Epochs')\n",
    "plt.ylabel('Loss (MSE)')\n",
    "plt.legend()\n",
    "plt.show()"
   ]
  },
  {
   "cell_type": "code",
   "execution_count": 26,
   "metadata": {
    "ExecuteTime": {
     "end_time": "2023-10-04T05:21:25.034551600Z",
     "start_time": "2023-10-04T05:21:24.760973600Z"
    }
   },
   "outputs": [
    {
     "data": {
      "text/plain": "<Figure size 640x480 with 1 Axes>",
      "image/png": "[encoded data removed]"
     },
     "metadata": {},
     "output_type": "display_data"
    }
   ],
   "source": [
    "loss_values1 = history_dict['mae'] # you can change this\n",
    "val_loss_values1 = history_dict['val_mae'] # you can also change this\n",
    "epochs = range(1, len(loss_values1) + 1) # range of X (no. of epochs)\n",
    "plt.plot(epochs, loss_values1, 'blue', label='Train set MAE')\n",
    "plt.plot(epochs, val_loss_values1, 'orange', label='Validation set MAE')\n",
    "#plt.title('Training and testing MAE')\n",
    "plt.xlabel('Epochs')\n",
    "plt.ylabel('MAE')\n",
    "plt.legend()\n",
    "plt.show()"
   ]
  },
  {
   "cell_type": "code",
   "execution_count": null,
   "metadata": {},
   "outputs": [],
   "source": [
    "print (epochs)"
   ]
  },
  {
   "cell_type": "markdown",
   "metadata": {},
   "source": [
    "### Save the model"
   ]
  },
  {
   "cell_type": "code",
   "execution_count": null,
   "metadata": {},
   "outputs": [],
   "source": [
    "ann.save('ANN_1.h5')"
   ]
  },
  {
   "cell_type": "markdown",
   "metadata": {},
   "source": [
    "## Part 5 - Make predictions"
   ]
  },
  {
   "cell_type": "code",
   "execution_count": null,
   "metadata": {},
   "outputs": [],
   "source": [
    "ann = load_model('ANN_1.h5')"
   ]
  },
  {
   "cell_type": "code",
   "execution_count": 27,
   "metadata": {
    "ExecuteTime": {
     "end_time": "2023-10-04T05:22:02.066083700Z",
     "start_time": "2023-10-04T05:21:30.297299800Z"
    }
   },
   "outputs": [
    {
     "name": "stdout",
     "output_type": "stream",
     "text": [
      "9226/9226 [==============================] - 16s 2ms/step\n",
      "3076/3076 [==============================] - 8s 3ms/step\n"
     ]
    },
    {
     "data": {
      "text/plain": "<Figure size 640x480 with 2 Axes>",
      "image/png": "[encoded data removed]"
     },
     "metadata": {},
     "output_type": "display_data"
    }
   ],
   "source": [
    "# scatterplot of actual vs. pred\n",
    "# specify the dimensions \n",
    "fig, axes = plt.subplots(1,2) # 1 row, 2 columns\n",
    "\n",
    "# this makes the individual subplots\n",
    "# Training Results\n",
    "axes[0].scatter(x=y_train, y=ann.predict(X_train)) #first row, first entry (left top)\n",
    "axes[0].set_xlabel(\"Actual\", fontsize=10)\n",
    "axes[0].set_ylabel(\"Predicted\",  fontsize=10)\n",
    "axes[0].set_title(\"Training\")\n",
    "# add 45 deg line\n",
    "x = np.linspace(*axes[0].get_xlim())\n",
    "axes[0].plot(x, x, color='red')\n",
    "# Validation Results\n",
    "axes[1].scatter(x=y_val, y=ann.predict(X_val)) # first row, second entry (right top)\n",
    "axes[1].set_xlabel(\"Actual\", fontsize=10)\n",
    "axes[1].set_ylabel(\"Predicted\",  fontsize=10)\n",
    "axes[1].set_title(\"Validation\")\n",
    "# add 45 deg line\n",
    "x = np.linspace(*axes[1].get_xlim())\n",
    "axes[1].plot(x, x, color='red')\n",
    "\n",
    "# tight layout\n",
    "fig.tight_layout()\n",
    "\n",
    "# show the plot\n",
    "plt.show()"
   ]
  },
  {
   "cell_type": "code",
   "execution_count": null,
   "metadata": {
    "colab": {
     "base_uri": "https://localhost:8080/",
     "height": 134
    },
    "colab_type": "code",
    "id": "IA0yApEmBG1X",
    "outputId": "cb981e1f-9204-4a2a-fece-9d66a6919189"
   },
   "outputs": [],
   "source": [
    "y_pred = ann.predict(X_test)\n",
    "np.set_printoptions(precision=2)\n",
    "print(np.concatenate((y_pred.reshape(len(y_pred),1), y_test.reshape(len(y_test),1)),1))"
   ]
  },
  {
   "cell_type": "code",
   "execution_count": null,
   "metadata": {},
   "outputs": [],
   "source": [
    "import matplotlib.pyplot as plt\n",
    "plt.scatter(y_test, y_pred, color=\"blue\")\n",
    "#plt.plot ([0,8500000],[0,8500000], color = \"red\")\n",
    "#plt.axis ([0,8500000,0,8500000])\n",
    "plt.xlabel ('Actual data')\n",
    "plt.ylabel ('Predicted data')"
   ]
  },
  {
   "cell_type": "code",
   "execution_count": null,
   "metadata": {},
   "outputs": [],
   "source": [
    "from sklearn.metrics import r2_score\n",
    "# Initialize layout\n",
    "fig1, ax1 = plt.subplots(figsize = (9, 9))\n",
    "\n",
    "\n",
    "#y = y_pred         # Model on prvious line is called here\n",
    "#x = y_test\n",
    "\n",
    "\n",
    "\n",
    "# Add scatterplot\n",
    "ax1.scatter(y_test, y_pred, s=70, alpha=1, edgecolors=\"k\",c='mediumblue',zorder=5, label = 'Points')\n",
    "\n",
    "\n",
    "plt.ylabel('Predicted Peak Incident Pressure (kPa)',fontsize = 25)\n",
    "plt.xlabel('Actual Peak Incident Pressure (kPa)',fontsize = 25)\n",
    "plt.xticks(fontsize = 19)\n",
    "plt.yticks(fontsize = 19)\n",
    "\n",
    "\n",
    "x1 = np.linspace(0,8000000)\n",
    "\n",
    "plt.plot(x1, x1, 'Red', label='45\\N{DEGREE SIGN} line',lw=2.5,alpha=1)\n",
    "plt.plot(x1, 1.1*x1, '--m', label='\\u00B110% Error',lw=2.5,alpha=0.7)\n",
    "plt.plot(x1, 0.9*x1,'m', linestyle='--',lw=2.5,alpha=0.7)\n",
    "plt.plot(x1, 1.2*x1, '-.g', label='\\u00B120% Error',lw=2.5,alpha=0.7)\n",
    "plt.plot(x1, 0.8*x1,'-.g',lw=2.5,alpha=0.7)\n",
    "\n",
    "plt.ylim(0,8000000)\n",
    "plt.xlim(0,8000000)\n",
    "plt.legend(loc='upper left',fontsize = 25)\n",
    "\n",
    "plt.grid()\n",
    "\n",
    "ax1.spines['left'].set_color('black')        # setting up Y-axis tick color to red\n",
    "ax1.spines['bottom'].set_color('black')         #setting up above X-axis tick color to red\n",
    "\n",
    "\n",
    "\n",
    "#ax1.annotate(\"$R^2$ = {:.3f}\".format(r2), (2500, 1000),fontsize = 25)  #Model is called here\n",
    "#ax1.annotate(\"Adj.$R^2$ = {:.3f}\".format(adj_r2), (2500, 750),fontsize = 25)\n",
    "\n",
    "#plt.savefig('plot1.png', dpi = 600, bbox_inches = 'tight')"
   ]
  },
  {
   "cell_type": "code",
   "execution_count": null,
   "metadata": {},
   "outputs": [],
   "source": [
    "# metrics\n",
    "trainpreds = ann.predict(X_train)\n",
    "\n",
    "from sklearn.metrics import mean_absolute_error\n",
    "print(mean_absolute_error(y_train, trainpreds)) # train\n",
    "print(mean_absolute_error(y_test, y_pred)) # test"
   ]
  },
  {
   "cell_type": "code",
   "execution_count": null,
   "metadata": {},
   "outputs": [],
   "source": [
    "from sklearn.metrics import r2_score\n",
    "r2 = r2_score(y_test, y_pred)\n",
    "print (r2)"
   ]
  },
  {
   "cell_type": "code",
   "execution_count": null,
   "metadata": {},
   "outputs": [],
   "source": [
    "r2_train = r2_score(y_train, trainpreds)\n",
    "print (r2_train)"
   ]
  },
  {
   "cell_type": "code",
   "execution_count": null,
   "metadata": {},
   "outputs": [],
   "source": [
    "count1 = 0\n",
    "for i in range(len(y_pred)):\n",
    "    line1 = y_pred[i] - 0.9*y_test[i]\n",
    "    line2 = y_pred[i] - 1.1*y_test[i]\n",
    "    #print ('line 1 ', line1)\n",
    "    #print ('line 2 ', line2)\n",
    "    mask1 = (line1 > 0) & (line2 < 0)\n",
    "    #print (mask)\n",
    "    count1 = np.sum(mask1+count1)\n",
    "    #print (count)\n",
    "\n",
    "count2 = 0\n",
    "for j in range(len(y_pred)):\n",
    "    line3 = y_pred[j] - 0.8*y_test[j]\n",
    "    line4 = y_pred[j] - 1.2*y_test[j]\n",
    "    mask2 = (line3 > 0) & (line4 < 0)\n",
    "    count2 = np.sum(mask2+count2)\n",
    "\n",
    "\n",
    "count3 = 0    \n",
    "for k in range(len(y_pred)):\n",
    "    line5 = y_pred[k] - 0.8*y_test[k]\n",
    "    line6 = y_pred[k] - 1.2*y_test[k]\n",
    "    mask3 = (line5 < 0) or (line6 > 0)\n",
    "    count3 = np.sum(mask3+count3)\n",
    "   \n",
    "\n",
    "print ('Within 10% margin', format((count1/len (y_pred)),'.2%'))\n",
    "print ('Within 20% margin', format((count2/len (y_pred)),'.2%'))\n",
    "print ('Out of 20% margin', format((count3/len (y_pred)),'.2%'))"
   ]
  },
  {
   "cell_type": "code",
   "execution_count": null,
   "metadata": {},
   "outputs": [],
   "source": [
    "adj_r2 = 1 - ((1 - r2) * (len(X_test) - 1) / (len(X_test) - len (X_test[0]) - 1))\n",
    "print (adj_r2)"
   ]
  },
  {
   "cell_type": "code",
   "execution_count": null,
   "metadata": {},
   "outputs": [],
   "source": [
    "import math\n",
    "from sklearn.metrics import mean_squared_error\n",
    "\n",
    "math.sqrt(mean_squared_error(y_test, y_pred))"
   ]
  },
  {
   "cell_type": "code",
   "execution_count": null,
   "metadata": {},
   "outputs": [],
   "source": [
    "from sklearn.metrics import mean_absolute_error\n",
    "\n",
    "mean_absolute_error(y_test, y_pred)"
   ]
  }
 ],
 "metadata": {
  "colab": {
   "collapsed_sections": [],
   "name": "Artificial Neural Network",
   "provenance": [],
   "toc_visible": true
  },
  "kernelspec": {
   "display_name": "Python 3 (ipykernel)",
   "language": "python",
   "name": "python3"
  },
  "language_info": {
   "codemirror_mode": {
    "name": "ipython",
    "version": 3
   },
   "file_extension": ".py",
   "mimetype": "text/x-python",
   "name": "python",
   "nbconvert_exporter": "python",
   "pygments_lexer": "ipython3",
   "version": "3.9.7"
  }
 },
 "nbformat": 4,
 "nbformat_minor": 4
}
