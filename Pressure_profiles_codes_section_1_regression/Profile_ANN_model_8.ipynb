{
 "cells": [
  {
   "cell_type": "markdown",
   "metadata": {
    "colab_type": "text",
    "id": "3cbb7fRy-eyr"
   },
   "source": [
    "# Artificial Neural Network"
   ]
  },
  {
   "cell_type": "markdown",
   "metadata": {
    "colab_type": "text",
    "id": "8sNDnxE2-pwE"
   },
   "source": [
    "## Part 1 - Importing the libraries"
   ]
  },
  {
   "cell_type": "code",
   "execution_count": 2,
   "metadata": {
    "colab": {},
    "colab_type": "code",
    "id": "lxChR1Rk-umf",
    "ExecuteTime": {
     "end_time": "2023-10-05T00:38:51.485168100Z",
     "start_time": "2023-10-05T00:38:51.453981Z"
    }
   },
   "outputs": [],
   "source": [
    "import numpy as np\n",
    "import pandas as pd\n",
    "import tensorflow as tf\n",
    "import matplotlib.pyplot as plt\n",
    "from keras.models import load_model\n",
    "from pathlib import Path"
   ]
  },
  {
   "cell_type": "markdown",
   "metadata": {
    "colab_type": "text",
    "id": "AG3FQEch-yuA"
   },
   "source": [
    "## Part 2 - Data Preprocessing"
   ]
  },
  {
   "cell_type": "markdown",
   "metadata": {
    "colab_type": "text",
    "id": "-4zq8Mza_D9O"
   },
   "source": [
    "### Importing the dataset"
   ]
  },
  {
   "cell_type": "code",
   "execution_count": 3,
   "metadata": {
    "ExecuteTime": {
     "end_time": "2023-10-05T00:38:54.635382400Z",
     "start_time": "2023-10-05T00:38:54.516914200Z"
    }
   },
   "outputs": [
    {
     "name": "stdout",
     "output_type": "stream",
     "text": [
      "input G:\\Chamodi\\Machine_Learning\\Pressure_history_2\\Pressure_profiles_arrival_omitted\n",
      "2 [WindowsPath('G:/Chamodi/Machine_Learning/Pressure_history_2/Pressure_profiles_arrival_omitted/L13_1'), WindowsPath('G:/Chamodi/Machine_Learning/Pressure_history_2/Pressure_profiles_arrival_omitted/L13_11'), WindowsPath('G:/Chamodi/Machine_Learning/Pressure_history_2/Pressure_profiles_arrival_omitted/L13_13'), WindowsPath('G:/Chamodi/Machine_Learning/Pressure_history_2/Pressure_profiles_arrival_omitted/L13_15'), WindowsPath('G:/Chamodi/Machine_Learning/Pressure_history_2/Pressure_profiles_arrival_omitted/L13_17'), WindowsPath('G:/Chamodi/Machine_Learning/Pressure_history_2/Pressure_profiles_arrival_omitted/L13_19'), WindowsPath('G:/Chamodi/Machine_Learning/Pressure_history_2/Pressure_profiles_arrival_omitted/L13_21'), WindowsPath('G:/Chamodi/Machine_Learning/Pressure_history_2/Pressure_profiles_arrival_omitted/L13_23'), WindowsPath('G:/Chamodi/Machine_Learning/Pressure_history_2/Pressure_profiles_arrival_omitted/L13_25'), WindowsPath('G:/Chamodi/Machine_Learning/Pressure_history_2/Pressure_profiles_arrival_omitted/L13_27'), WindowsPath('G:/Chamodi/Machine_Learning/Pressure_history_2/Pressure_profiles_arrival_omitted/L13_29'), WindowsPath('G:/Chamodi/Machine_Learning/Pressure_history_2/Pressure_profiles_arrival_omitted/L13_3'), WindowsPath('G:/Chamodi/Machine_Learning/Pressure_history_2/Pressure_profiles_arrival_omitted/L13_31'), WindowsPath('G:/Chamodi/Machine_Learning/Pressure_history_2/Pressure_profiles_arrival_omitted/L13_33'), WindowsPath('G:/Chamodi/Machine_Learning/Pressure_history_2/Pressure_profiles_arrival_omitted/L13_35'), WindowsPath('G:/Chamodi/Machine_Learning/Pressure_history_2/Pressure_profiles_arrival_omitted/L13_37'), WindowsPath('G:/Chamodi/Machine_Learning/Pressure_history_2/Pressure_profiles_arrival_omitted/L13_39'), WindowsPath('G:/Chamodi/Machine_Learning/Pressure_history_2/Pressure_profiles_arrival_omitted/L13_41'), WindowsPath('G:/Chamodi/Machine_Learning/Pressure_history_2/Pressure_profiles_arrival_omitted/L13_43'), WindowsPath('G:/Chamodi/Machine_Learning/Pressure_history_2/Pressure_profiles_arrival_omitted/L13_45'), WindowsPath('G:/Chamodi/Machine_Learning/Pressure_history_2/Pressure_profiles_arrival_omitted/L13_47'), WindowsPath('G:/Chamodi/Machine_Learning/Pressure_history_2/Pressure_profiles_arrival_omitted/L13_49'), WindowsPath('G:/Chamodi/Machine_Learning/Pressure_history_2/Pressure_profiles_arrival_omitted/L13_5'), WindowsPath('G:/Chamodi/Machine_Learning/Pressure_history_2/Pressure_profiles_arrival_omitted/L13_51'), WindowsPath('G:/Chamodi/Machine_Learning/Pressure_history_2/Pressure_profiles_arrival_omitted/L13_53'), WindowsPath('G:/Chamodi/Machine_Learning/Pressure_history_2/Pressure_profiles_arrival_omitted/L13_55'), WindowsPath('G:/Chamodi/Machine_Learning/Pressure_history_2/Pressure_profiles_arrival_omitted/L13_57'), WindowsPath('G:/Chamodi/Machine_Learning/Pressure_history_2/Pressure_profiles_arrival_omitted/L13_59'), WindowsPath('G:/Chamodi/Machine_Learning/Pressure_history_2/Pressure_profiles_arrival_omitted/L13_61'), WindowsPath('G:/Chamodi/Machine_Learning/Pressure_history_2/Pressure_profiles_arrival_omitted/L13_63'), WindowsPath('G:/Chamodi/Machine_Learning/Pressure_history_2/Pressure_profiles_arrival_omitted/L13_65'), WindowsPath('G:/Chamodi/Machine_Learning/Pressure_history_2/Pressure_profiles_arrival_omitted/L13_67'), WindowsPath('G:/Chamodi/Machine_Learning/Pressure_history_2/Pressure_profiles_arrival_omitted/L13_69'), WindowsPath('G:/Chamodi/Machine_Learning/Pressure_history_2/Pressure_profiles_arrival_omitted/L13_7'), WindowsPath('G:/Chamodi/Machine_Learning/Pressure_history_2/Pressure_profiles_arrival_omitted/L13_70'), WindowsPath('G:/Chamodi/Machine_Learning/Pressure_history_2/Pressure_profiles_arrival_omitted/L13_9')]\n"
     ]
    }
   ],
   "source": [
    "#Access input folder\n",
    "current_dir = Path.cwd()\n",
    "parent_dir = current_dir.parent\n",
    "input_dir1 = Path (parent_dir/\"Pressure_profiles_arrival_omitted\")\n",
    "print (\"input\",input_dir1)\n",
    "\n",
    "#Access folders inside input folder\n",
    "input_dir2_train =  [folder_input for folder_input in input_dir1.iterdir() if folder_input.is_dir()]\n",
    "print (\"2\",input_dir2_train)"
   ]
  },
  {
   "cell_type": "code",
   "execution_count": 4,
   "metadata": {
    "ExecuteTime": {
     "end_time": "2023-10-05T00:39:44.985736900Z",
     "start_time": "2023-10-05T00:38:56.052325600Z"
    }
   },
   "outputs": [
    {
     "name": "stdout",
     "output_type": "stream",
     "text": [
      "folder G:\\Chamodi\\Machine_Learning\\Pressure_history_2\\Pressure_profiles_arrival_omitted\\L13_1\n",
      "P1\n",
      "P13\n",
      "P5\n",
      "P9\n",
      "folder G:\\Chamodi\\Machine_Learning\\Pressure_history_2\\Pressure_profiles_arrival_omitted\\L13_11\n",
      "P1\n",
      "P13\n",
      "P5\n",
      "P9\n",
      "folder G:\\Chamodi\\Machine_Learning\\Pressure_history_2\\Pressure_profiles_arrival_omitted\\L13_13\n",
      "P1\n",
      "P13\n",
      "P5\n",
      "P9\n",
      "folder G:\\Chamodi\\Machine_Learning\\Pressure_history_2\\Pressure_profiles_arrival_omitted\\L13_15\n",
      "P1\n",
      "P13\n",
      "P5\n",
      "P9\n",
      "folder G:\\Chamodi\\Machine_Learning\\Pressure_history_2\\Pressure_profiles_arrival_omitted\\L13_17\n",
      "P1\n",
      "P13\n",
      "P5\n",
      "P9\n",
      "folder G:\\Chamodi\\Machine_Learning\\Pressure_history_2\\Pressure_profiles_arrival_omitted\\L13_19\n",
      "P1\n",
      "P13\n",
      "P5\n",
      "P9\n",
      "folder G:\\Chamodi\\Machine_Learning\\Pressure_history_2\\Pressure_profiles_arrival_omitted\\L13_21\n",
      "P1\n",
      "P13\n",
      "P5\n",
      "P9\n",
      "folder G:\\Chamodi\\Machine_Learning\\Pressure_history_2\\Pressure_profiles_arrival_omitted\\L13_23\n",
      "P1\n",
      "P13\n",
      "P5\n",
      "P9\n",
      "folder G:\\Chamodi\\Machine_Learning\\Pressure_history_2\\Pressure_profiles_arrival_omitted\\L13_25\n",
      "P1\n",
      "P13\n",
      "P5\n",
      "P9\n",
      "folder G:\\Chamodi\\Machine_Learning\\Pressure_history_2\\Pressure_profiles_arrival_omitted\\L13_27\n",
      "P1\n",
      "P13\n",
      "P5\n",
      "P9\n",
      "folder G:\\Chamodi\\Machine_Learning\\Pressure_history_2\\Pressure_profiles_arrival_omitted\\L13_29\n",
      "P1\n",
      "P13\n",
      "P5\n",
      "P9\n",
      "folder G:\\Chamodi\\Machine_Learning\\Pressure_history_2\\Pressure_profiles_arrival_omitted\\L13_3\n",
      "P1\n",
      "P13\n",
      "P5\n",
      "P9\n",
      "folder G:\\Chamodi\\Machine_Learning\\Pressure_history_2\\Pressure_profiles_arrival_omitted\\L13_31\n",
      "P1\n",
      "P13\n",
      "P5\n",
      "P9\n",
      "folder G:\\Chamodi\\Machine_Learning\\Pressure_history_2\\Pressure_profiles_arrival_omitted\\L13_33\n",
      "P1\n",
      "P13\n",
      "P5\n",
      "P9\n",
      "folder G:\\Chamodi\\Machine_Learning\\Pressure_history_2\\Pressure_profiles_arrival_omitted\\L13_35\n",
      "P1\n",
      "P13\n",
      "P5\n",
      "P9\n",
      "folder G:\\Chamodi\\Machine_Learning\\Pressure_history_2\\Pressure_profiles_arrival_omitted\\L13_37\n",
      "P1\n",
      "P13\n",
      "P5\n",
      "P9\n",
      "folder G:\\Chamodi\\Machine_Learning\\Pressure_history_2\\Pressure_profiles_arrival_omitted\\L13_39\n",
      "P1\n",
      "P13\n",
      "P5\n",
      "P9\n",
      "folder G:\\Chamodi\\Machine_Learning\\Pressure_history_2\\Pressure_profiles_arrival_omitted\\L13_41\n",
      "P1\n",
      "P13\n",
      "P5\n",
      "P9\n",
      "folder G:\\Chamodi\\Machine_Learning\\Pressure_history_2\\Pressure_profiles_arrival_omitted\\L13_43\n",
      "P1\n",
      "P13\n",
      "P5\n",
      "P9\n",
      "folder G:\\Chamodi\\Machine_Learning\\Pressure_history_2\\Pressure_profiles_arrival_omitted\\L13_45\n",
      "P1\n",
      "P13\n",
      "P5\n",
      "P9\n",
      "folder G:\\Chamodi\\Machine_Learning\\Pressure_history_2\\Pressure_profiles_arrival_omitted\\L13_47\n",
      "P1\n",
      "P13\n",
      "P5\n",
      "P9\n",
      "folder G:\\Chamodi\\Machine_Learning\\Pressure_history_2\\Pressure_profiles_arrival_omitted\\L13_49\n",
      "P1\n",
      "P13\n",
      "P5\n",
      "P9\n",
      "folder G:\\Chamodi\\Machine_Learning\\Pressure_history_2\\Pressure_profiles_arrival_omitted\\L13_5\n",
      "P1\n",
      "P13\n",
      "P5\n",
      "P9\n",
      "folder G:\\Chamodi\\Machine_Learning\\Pressure_history_2\\Pressure_profiles_arrival_omitted\\L13_51\n",
      "P1\n",
      "P13\n",
      "P5\n",
      "P9\n",
      "folder G:\\Chamodi\\Machine_Learning\\Pressure_history_2\\Pressure_profiles_arrival_omitted\\L13_53\n",
      "P1\n",
      "P13\n",
      "P5\n",
      "P9\n",
      "folder G:\\Chamodi\\Machine_Learning\\Pressure_history_2\\Pressure_profiles_arrival_omitted\\L13_55\n",
      "P1\n",
      "P13\n",
      "P5\n",
      "P9\n",
      "folder G:\\Chamodi\\Machine_Learning\\Pressure_history_2\\Pressure_profiles_arrival_omitted\\L13_57\n",
      "P1\n",
      "P13\n",
      "P5\n",
      "P9\n",
      "folder G:\\Chamodi\\Machine_Learning\\Pressure_history_2\\Pressure_profiles_arrival_omitted\\L13_59\n",
      "P1\n",
      "P13\n",
      "P5\n",
      "P9\n",
      "folder G:\\Chamodi\\Machine_Learning\\Pressure_history_2\\Pressure_profiles_arrival_omitted\\L13_61\n",
      "P1\n",
      "P13\n",
      "P5\n",
      "P9\n",
      "folder G:\\Chamodi\\Machine_Learning\\Pressure_history_2\\Pressure_profiles_arrival_omitted\\L13_63\n",
      "P1\n",
      "P13\n",
      "P5\n",
      "P9\n",
      "folder G:\\Chamodi\\Machine_Learning\\Pressure_history_2\\Pressure_profiles_arrival_omitted\\L13_65\n",
      "P1\n",
      "P13\n",
      "P5\n",
      "P9\n",
      "folder G:\\Chamodi\\Machine_Learning\\Pressure_history_2\\Pressure_profiles_arrival_omitted\\L13_67\n",
      "P1\n",
      "P13\n",
      "P5\n",
      "P9\n",
      "folder G:\\Chamodi\\Machine_Learning\\Pressure_history_2\\Pressure_profiles_arrival_omitted\\L13_69\n",
      "P1\n",
      "P13\n",
      "P5\n",
      "P9\n",
      "folder G:\\Chamodi\\Machine_Learning\\Pressure_history_2\\Pressure_profiles_arrival_omitted\\L13_7\n",
      "P1\n",
      "P13\n",
      "P5\n",
      "P9\n",
      "folder G:\\Chamodi\\Machine_Learning\\Pressure_history_2\\Pressure_profiles_arrival_omitted\\L13_70\n",
      "P1\n",
      "P13\n",
      "P5\n",
      "P9\n",
      "folder G:\\Chamodi\\Machine_Learning\\Pressure_history_2\\Pressure_profiles_arrival_omitted\\L13_9\n",
      "P1\n",
      "P13\n",
      "P5\n",
      "P9\n"
     ]
    }
   ],
   "source": [
    "# Access each folder inside input folder\n",
    "dataset_train = pd.DataFrame(columns = ['Charge_mass', 'Standoff_distance', 'Time', 'Pressure', 'Phase'])\n",
    "df_list_train = []\n",
    "for folder_train in input_dir2_train:\n",
    "    \n",
    "    # Make a list of data file names\n",
    "    files_train = list(file_train for file_train in folder_train.rglob(\"*.xlsx\") if int(file_train.stem[1:]) < 14)\n",
    "    print (\"folder\", folder_train)\n",
    "    \n",
    "    for file_train in files_train:\n",
    "        df_list_train.append(pd.read_excel(file_train))\n",
    "        print (file_train.stem)\n",
    "\n",
    "dataset_train = pd.concat(df_list_train, ignore_index = True)"
   ]
  },
  {
   "cell_type": "code",
   "execution_count": 5,
   "metadata": {
    "colab": {},
    "colab_type": "code",
    "id": "B9CV13Co_HHM",
    "ExecuteTime": {
     "end_time": "2023-10-05T00:39:56.441485600Z",
     "start_time": "2023-10-05T00:39:56.377479300Z"
    }
   },
   "outputs": [
    {
     "name": "stdout",
     "output_type": "stream",
     "text": [
      "<class 'pandas.core.frame.DataFrame'>\n",
      "RangeIndex: 492019 entries, 0 to 492018\n",
      "Data columns (total 5 columns):\n",
      " #   Column             Non-Null Count   Dtype  \n",
      "---  ------             --------------   -----  \n",
      " 0   Charge_mass        492019 non-null  float64\n",
      " 1   Standoff_distance  492019 non-null  int64  \n",
      " 2   Time               492019 non-null  float64\n",
      " 3   Pressure           492019 non-null  float64\n",
      " 4   Phase              492019 non-null  object \n",
      "dtypes: float64(3), int64(1), object(1)\n",
      "memory usage: 18.8+ MB\n"
     ]
    }
   ],
   "source": [
    "dataset_train.info()"
   ]
  },
  {
   "cell_type": "code",
   "execution_count": 6,
   "outputs": [
    {
     "name": "stdout",
     "output_type": "stream",
     "text": [
      "<class 'pandas.core.frame.DataFrame'>\n",
      "RangeIndex: 492019 entries, 0 to 492018\n",
      "Data columns (total 6 columns):\n",
      " #   Column             Non-Null Count   Dtype  \n",
      "---  ------             --------------   -----  \n",
      " 0   Charge_mass        492019 non-null  float64\n",
      " 1   Standoff_distance  492019 non-null  int64  \n",
      " 2   Time               492019 non-null  float64\n",
      " 3   Pressure           492019 non-null  float64\n",
      " 4   Phase_negative     492019 non-null  uint8  \n",
      " 5   Phase_positive     492019 non-null  uint8  \n",
      "dtypes: float64(3), int64(1), uint8(2)\n",
      "memory usage: 16.0 MB\n"
     ]
    }
   ],
   "source": [
    "dataset_train = pd.get_dummies(dataset_train, columns =['Phase'], dtype = np.uint8)\n",
    "dataset_train.info()"
   ],
   "metadata": {
    "collapsed": false,
    "ExecuteTime": {
     "end_time": "2023-10-05T00:40:01.791629300Z",
     "start_time": "2023-10-05T00:40:01.680211100Z"
    }
   }
  },
  {
   "cell_type": "code",
   "execution_count": 7,
   "outputs": [
    {
     "data": {
      "text/plain": "    Charge_mass  Standoff_distance     Time      Pressure  Phase_negative  \\\n0           0.5                  1  0.00067  591827.62500               0   \n1           0.5                  1  0.00068  556217.18750               0   \n2           0.5                  1  0.00069  525135.00000               0   \n3           0.5                  1  0.00070  496668.90625               0   \n4           0.5                  1  0.00071  469418.40625               0   \n5           0.5                  1  0.00072  445550.09375               0   \n6           0.5                  1  0.00073  423420.03125               0   \n7           0.5                  1  0.00074  402121.96875               0   \n8           0.5                  1  0.00075  383202.34375               0   \n9           0.5                  1  0.00076  365626.65625               0   \n10          0.5                  1  0.00077  349977.50000               0   \n11          0.5                  1  0.00078  334716.18750               0   \n12          0.5                  1  0.00079  320582.50000               0   \n13          0.5                  1  0.00080  307536.68750               0   \n14          0.5                  1  0.00081  295047.87500               0   \n15          0.5                  1  0.00082  283671.71875               0   \n16          0.5                  1  0.00083  273287.31250               0   \n17          0.5                  1  0.00084  263380.59375               0   \n18          0.5                  1  0.00085  253957.70312               0   \n19          0.5                  1  0.00086  245341.54688               0   \n20          0.5                  1  0.00087  237136.67188               0   \n21          0.5                  1  0.00088  229610.26562               0   \n22          0.5                  1  0.00089  222423.93750               0   \n23          0.5                  1  0.00090  215571.06250               0   \n24          0.5                  1  0.00091  209261.32812               0   \n25          0.5                  1  0.00092  203243.39062               0   \n26          0.5                  1  0.00093  197520.82812               0   \n27          0.5                  1  0.00094  192094.54688               0   \n28          0.5                  1  0.00095  186960.62500               0   \n29          0.5                  1  0.00096  182106.14062               0   \n\n    Phase_positive  \n0                1  \n1                1  \n2                1  \n3                1  \n4                1  \n5                1  \n6                1  \n7                1  \n8                1  \n9                1  \n10               1  \n11               1  \n12               1  \n13               1  \n14               1  \n15               1  \n16               1  \n17               1  \n18               1  \n19               1  \n20               1  \n21               1  \n22               1  \n23               1  \n24               1  \n25               1  \n26               1  \n27               1  \n28               1  \n29               1  ",
      "text/html": "<div>\n<style scoped>\n    .dataframe tbody tr th:only-of-type {\n        vertical-align: middle;\n    }\n\n    .dataframe tbody tr th {\n        vertical-align: top;\n    }\n\n    .dataframe thead th {\n        text-align: right;\n    }\n</style>\n<table border=\"1\" class=\"dataframe\">\n  <thead>\n    <tr style=\"text-align: right;\">\n      <th></th>\n      <th>Charge_mass</th>\n      <th>Standoff_distance</th>\n      <th>Time</th>\n      <th>Pressure</th>\n      <th>Phase_negative</th>\n      <th>Phase_positive</th>\n    </tr>\n  </thead>\n  <tbody>\n    <tr>\n      <th>0</th>\n      <td>0.5</td>\n      <td>1</td>\n      <td>0.00067</td>\n      <td>591827.62500</td>\n      <td>0</td>\n      <td>1</td>\n    </tr>\n    <tr>\n      <th>1</th>\n      <td>0.5</td>\n      <td>1</td>\n      <td>0.00068</td>\n      <td>556217.18750</td>\n      <td>0</td>\n      <td>1</td>\n    </tr>\n    <tr>\n      <th>2</th>\n      <td>0.5</td>\n      <td>1</td>\n      <td>0.00069</td>\n      <td>525135.00000</td>\n      <td>0</td>\n      <td>1</td>\n    </tr>\n    <tr>\n      <th>3</th>\n      <td>0.5</td>\n      <td>1</td>\n      <td>0.00070</td>\n      <td>496668.90625</td>\n      <td>0</td>\n      <td>1</td>\n    </tr>\n    <tr>\n      <th>4</th>\n      <td>0.5</td>\n      <td>1</td>\n      <td>0.00071</td>\n      <td>469418.40625</td>\n      <td>0</td>\n      <td>1</td>\n    </tr>\n    <tr>\n      <th>5</th>\n      <td>0.5</td>\n      <td>1</td>\n      <td>0.00072</td>\n      <td>445550.09375</td>\n      <td>0</td>\n      <td>1</td>\n    </tr>\n    <tr>\n      <th>6</th>\n      <td>0.5</td>\n      <td>1</td>\n      <td>0.00073</td>\n      <td>423420.03125</td>\n      <td>0</td>\n      <td>1</td>\n    </tr>\n    <tr>\n      <th>7</th>\n      <td>0.5</td>\n      <td>1</td>\n      <td>0.00074</td>\n      <td>402121.96875</td>\n      <td>0</td>\n      <td>1</td>\n    </tr>\n    <tr>\n      <th>8</th>\n      <td>0.5</td>\n      <td>1</td>\n      <td>0.00075</td>\n      <td>383202.34375</td>\n      <td>0</td>\n      <td>1</td>\n    </tr>\n    <tr>\n      <th>9</th>\n      <td>0.5</td>\n      <td>1</td>\n      <td>0.00076</td>\n      <td>365626.65625</td>\n      <td>0</td>\n      <td>1</td>\n    </tr>\n    <tr>\n      <th>10</th>\n      <td>0.5</td>\n      <td>1</td>\n      <td>0.00077</td>\n      <td>349977.50000</td>\n      <td>0</td>\n      <td>1</td>\n    </tr>\n    <tr>\n      <th>11</th>\n      <td>0.5</td>\n      <td>1</td>\n      <td>0.00078</td>\n      <td>334716.18750</td>\n      <td>0</td>\n      <td>1</td>\n    </tr>\n    <tr>\n      <th>12</th>\n      <td>0.5</td>\n      <td>1</td>\n      <td>0.00079</td>\n      <td>320582.50000</td>\n      <td>0</td>\n      <td>1</td>\n    </tr>\n    <tr>\n      <th>13</th>\n      <td>0.5</td>\n      <td>1</td>\n      <td>0.00080</td>\n      <td>307536.68750</td>\n      <td>0</td>\n      <td>1</td>\n    </tr>\n    <tr>\n      <th>14</th>\n      <td>0.5</td>\n      <td>1</td>\n      <td>0.00081</td>\n      <td>295047.87500</td>\n      <td>0</td>\n      <td>1</td>\n    </tr>\n    <tr>\n      <th>15</th>\n      <td>0.5</td>\n      <td>1</td>\n      <td>0.00082</td>\n      <td>283671.71875</td>\n      <td>0</td>\n      <td>1</td>\n    </tr>\n    <tr>\n      <th>16</th>\n      <td>0.5</td>\n      <td>1</td>\n      <td>0.00083</td>\n      <td>273287.31250</td>\n      <td>0</td>\n      <td>1</td>\n    </tr>\n    <tr>\n      <th>17</th>\n      <td>0.5</td>\n      <td>1</td>\n      <td>0.00084</td>\n      <td>263380.59375</td>\n      <td>0</td>\n      <td>1</td>\n    </tr>\n    <tr>\n      <th>18</th>\n      <td>0.5</td>\n      <td>1</td>\n      <td>0.00085</td>\n      <td>253957.70312</td>\n      <td>0</td>\n      <td>1</td>\n    </tr>\n    <tr>\n      <th>19</th>\n      <td>0.5</td>\n      <td>1</td>\n      <td>0.00086</td>\n      <td>245341.54688</td>\n      <td>0</td>\n      <td>1</td>\n    </tr>\n    <tr>\n      <th>20</th>\n      <td>0.5</td>\n      <td>1</td>\n      <td>0.00087</td>\n      <td>237136.67188</td>\n      <td>0</td>\n      <td>1</td>\n    </tr>\n    <tr>\n      <th>21</th>\n      <td>0.5</td>\n      <td>1</td>\n      <td>0.00088</td>\n      <td>229610.26562</td>\n      <td>0</td>\n      <td>1</td>\n    </tr>\n    <tr>\n      <th>22</th>\n      <td>0.5</td>\n      <td>1</td>\n      <td>0.00089</td>\n      <td>222423.93750</td>\n      <td>0</td>\n      <td>1</td>\n    </tr>\n    <tr>\n      <th>23</th>\n      <td>0.5</td>\n      <td>1</td>\n      <td>0.00090</td>\n      <td>215571.06250</td>\n      <td>0</td>\n      <td>1</td>\n    </tr>\n    <tr>\n      <th>24</th>\n      <td>0.5</td>\n      <td>1</td>\n      <td>0.00091</td>\n      <td>209261.32812</td>\n      <td>0</td>\n      <td>1</td>\n    </tr>\n    <tr>\n      <th>25</th>\n      <td>0.5</td>\n      <td>1</td>\n      <td>0.00092</td>\n      <td>203243.39062</td>\n      <td>0</td>\n      <td>1</td>\n    </tr>\n    <tr>\n      <th>26</th>\n      <td>0.5</td>\n      <td>1</td>\n      <td>0.00093</td>\n      <td>197520.82812</td>\n      <td>0</td>\n      <td>1</td>\n    </tr>\n    <tr>\n      <th>27</th>\n      <td>0.5</td>\n      <td>1</td>\n      <td>0.00094</td>\n      <td>192094.54688</td>\n      <td>0</td>\n      <td>1</td>\n    </tr>\n    <tr>\n      <th>28</th>\n      <td>0.5</td>\n      <td>1</td>\n      <td>0.00095</td>\n      <td>186960.62500</td>\n      <td>0</td>\n      <td>1</td>\n    </tr>\n    <tr>\n      <th>29</th>\n      <td>0.5</td>\n      <td>1</td>\n      <td>0.00096</td>\n      <td>182106.14062</td>\n      <td>0</td>\n      <td>1</td>\n    </tr>\n  </tbody>\n</table>\n</div>"
     },
     "execution_count": 7,
     "metadata": {},
     "output_type": "execute_result"
    }
   ],
   "source": [
    "dataset_train.head(30)"
   ],
   "metadata": {
    "collapsed": false,
    "ExecuteTime": {
     "end_time": "2023-10-05T00:40:03.905182700Z",
     "start_time": "2023-10-05T00:40:03.841696Z"
    }
   }
  },
  {
   "cell_type": "code",
   "execution_count": 8,
   "metadata": {
    "ExecuteTime": {
     "end_time": "2023-10-05T00:40:05.485882700Z",
     "start_time": "2023-10-05T00:40:05.392251400Z"
    }
   },
   "outputs": [
    {
     "name": "stdout",
     "output_type": "stream",
     "text": [
      "(492019, 5) (492019,)\n"
     ]
    }
   ],
   "source": [
    "y = dataset_train['Pressure']\n",
    "X = dataset_train.drop(['Pressure'], axis=1)\n",
    "print(X.shape, y.shape)"
   ]
  },
  {
   "cell_type": "code",
   "execution_count": 9,
   "metadata": {
    "ExecuteTime": {
     "end_time": "2023-10-05T00:40:06.673437300Z",
     "start_time": "2023-10-05T00:40:06.589579800Z"
    }
   },
   "outputs": [],
   "source": [
    "# convert to numpy array\n",
    "X = np.array(X)\n",
    "y = np.array(y)"
   ]
  },
  {
   "cell_type": "markdown",
   "metadata": {
    "colab_type": "text",
    "id": "VC6omXel_Up0"
   },
   "source": [
    "### Splitting the dataset into the Training set and Test set"
   ]
  },
  {
   "cell_type": "code",
   "execution_count": 10,
   "metadata": {
    "colab": {},
    "colab_type": "code",
    "id": "L5edeb2r_agx",
    "ExecuteTime": {
     "end_time": "2023-10-05T00:40:09.100750600Z",
     "start_time": "2023-10-05T00:40:08.173769800Z"
    }
   },
   "outputs": [],
   "source": [
    "from sklearn.model_selection import train_test_split\n",
    "X_train, X_test, y_train, y_test = train_test_split(X,\n",
    "                                                    y,\n",
    "                                                    test_size = 0.4,\n",
    "                                                    random_state = 0)"
   ]
  },
  {
   "cell_type": "code",
   "execution_count": 11,
   "metadata": {
    "colab": {},
    "colab_type": "code",
    "id": "L5edeb2r_agx",
    "ExecuteTime": {
     "end_time": "2023-10-05T00:40:10.111188Z",
     "start_time": "2023-10-05T00:40:10.048615800Z"
    }
   },
   "outputs": [],
   "source": [
    "X_val, X_test, y_val, y_test = train_test_split(X_test,\n",
    "                                                y_test,\n",
    "                                                test_size = 0.5,\n",
    "                                                random_state = 0)"
   ]
  },
  {
   "cell_type": "markdown",
   "source": [
    "## Feature scaling"
   ],
   "metadata": {
    "collapsed": false
   }
  },
  {
   "cell_type": "code",
   "execution_count": 12,
   "outputs": [
    {
     "name": "stdout",
     "output_type": "stream",
     "text": [
      "[[-1.11558794  0.43902902  0.40860138  1.          0.        ]\n",
      " [-1.83149237 -1.32802297 -1.10299844  1.          0.        ]\n",
      " [ 1.03212534 -0.44449698 -0.9816199   1.          0.        ]\n",
      " ...\n",
      " [ 1.33894152  0.43902902 -0.15265695  1.          0.        ]\n",
      " [ 0.6230371  -1.32802297  0.5075946   1.          0.        ]\n",
      " [-1.72922031 -0.44449698 -0.88346605  1.          0.        ]]\n"
     ]
    }
   ],
   "source": [
    "from sklearn.preprocessing import StandardScaler\n",
    "sc = StandardScaler()\n",
    "X_train[:,0:3] = sc.fit_transform(X_train[:, 0:3])\n",
    "print (X_train)"
   ],
   "metadata": {
    "collapsed": false,
    "ExecuteTime": {
     "end_time": "2023-10-05T00:40:11.704965600Z",
     "start_time": "2023-10-05T00:40:11.640915300Z"
    }
   }
  },
  {
   "cell_type": "code",
   "execution_count": 13,
   "outputs": [
    {
     "name": "stdout",
     "output_type": "stream",
     "text": [
      "[[ 0.92985328 -0.44449698 -1.49808719  1.          0.        ]\n",
      " [-0.39968351  0.43902902 -1.30699156  0.          1.        ]\n",
      " [-1.01331588  0.43902902  0.31822281  1.          0.        ]\n",
      " ...\n",
      " [-0.39968351  1.32255501  0.65650805  1.          0.        ]\n",
      " [ 0.31622091  0.43902902  1.37959509  1.          0.        ]\n",
      " [-0.29741145 -1.32802297 -1.46796614  1.          0.        ]]\n"
     ]
    }
   ],
   "source": [
    "X_test[:,0:3] = sc.transform(X_test[:,0:3])\n",
    "print (X_test)"
   ],
   "metadata": {
    "collapsed": false,
    "ExecuteTime": {
     "end_time": "2023-10-05T00:40:13.407854300Z",
     "start_time": "2023-10-05T00:40:13.282928600Z"
    }
   }
  },
  {
   "cell_type": "code",
   "execution_count": 14,
   "outputs": [
    {
     "name": "stdout",
     "output_type": "stream",
     "text": [
      "[[-0.29741145 -1.32802297 -0.07001311  1.          0.        ]\n",
      " [-0.7064997   0.43902902 -0.26110084  1.          0.        ]\n",
      " [-1.11558794  0.43902902 -0.72422921  1.          0.        ]\n",
      " ...\n",
      " [-0.91104382 -0.44449698 -0.03128483  1.          0.        ]\n",
      " [-1.52467619 -0.44449698  0.09009324  1.          0.        ]\n",
      " [ 1.44121358  1.32255501  1.56811516  1.          0.        ]]\n"
     ]
    }
   ],
   "source": [
    "X_val[:,0:3] = sc.transform(X_val[:,0:3])\n",
    "print (X_val)"
   ],
   "metadata": {
    "collapsed": false,
    "ExecuteTime": {
     "end_time": "2023-10-05T00:40:14.998493600Z",
     "start_time": "2023-10-05T00:40:14.903058900Z"
    }
   }
  },
  {
   "cell_type": "code",
   "execution_count": 15,
   "outputs": [
    {
     "name": "stdout",
     "output_type": "stream",
     "text": [
      "X_train 295211\n",
      "X_test 98404\n",
      "X_val 98404\n"
     ]
    }
   ],
   "source": [
    "print (\"X_train\", len(X_train))\n",
    "print (\"X_test\", len(X_test))\n",
    "print (\"X_val\", len(X_val))"
   ],
   "metadata": {
    "collapsed": false,
    "ExecuteTime": {
     "end_time": "2023-10-05T00:40:16.310837300Z",
     "start_time": "2023-10-05T00:40:16.199728Z"
    }
   }
  },
  {
   "cell_type": "markdown",
   "metadata": {
    "colab_type": "text",
    "id": "_mSLlAT9_eyI"
   },
   "source": [
    "## Part 3 - Building the ANN"
   ]
  },
  {
   "cell_type": "markdown",
   "metadata": {
    "colab_type": "text",
    "id": "CsBULd_f_wLY"
   },
   "source": [
    "### Initializing the ANN"
   ]
  },
  {
   "cell_type": "code",
   "execution_count": 16,
   "metadata": {
    "colab": {},
    "colab_type": "code",
    "id": "J6Hd97Ls__Nz",
    "ExecuteTime": {
     "end_time": "2023-10-05T00:40:18.750075600Z",
     "start_time": "2023-10-05T00:40:18.704753200Z"
    }
   },
   "outputs": [],
   "source": [
    "ann = tf.keras.models.Sequential()"
   ]
  },
  {
   "cell_type": "markdown",
   "metadata": {
    "colab_type": "text",
    "id": "iitAFJS_ABUn"
   },
   "source": [
    "### Adding the input layer and the first hidden layer"
   ]
  },
  {
   "cell_type": "code",
   "execution_count": 17,
   "metadata": {
    "colab": {},
    "colab_type": "code",
    "id": "ksO_Vv40AHix",
    "ExecuteTime": {
     "end_time": "2023-10-05T00:40:20.218426600Z",
     "start_time": "2023-10-05T00:40:20.142256700Z"
    }
   },
   "outputs": [],
   "source": [
    "ann.add(tf.keras.layers.Dense(units=150,\n",
    "                              input_shape=(X_train.shape[1],),\n",
    "                              activation='softplus'))"
   ]
  },
  {
   "cell_type": "markdown",
   "metadata": {
    "colab_type": "text",
    "id": "-lb4kK_wAKbs"
   },
   "source": [
    "### Adding the second hidden layer"
   ]
  },
  {
   "cell_type": "code",
   "execution_count": 18,
   "metadata": {
    "colab": {},
    "colab_type": "code",
    "id": "c2357OqEAQOQ",
    "tags": [],
    "ExecuteTime": {
     "end_time": "2023-10-05T00:40:21.892600300Z",
     "start_time": "2023-10-05T00:40:21.829709500Z"
    }
   },
   "outputs": [],
   "source": [
    "ann.add(tf.keras.layers.Dense(units=125,\n",
    "                              activation='softplus'))"
   ]
  },
  {
   "cell_type": "markdown",
   "metadata": {
    "colab_type": "text",
    "id": "-lb4kK_wAKbs"
   },
   "source": [
    "### Adding the third hidden layer"
   ]
  },
  {
   "cell_type": "code",
   "execution_count": 19,
   "metadata": {
    "colab": {},
    "colab_type": "code",
    "id": "c2357OqEAQOQ",
    "tags": [],
    "ExecuteTime": {
     "end_time": "2023-10-05T00:40:23.256604600Z",
     "start_time": "2023-10-05T00:40:23.209611300Z"
    }
   },
   "outputs": [],
   "source": [
    "ann.add(tf.keras.layers.Dense(units=100,\n",
    "                              activation='softplus'))"
   ]
  },
  {
   "cell_type": "markdown",
   "source": [
    "### Adding the fourth hidden layer"
   ],
   "metadata": {
    "collapsed": false
   }
  },
  {
   "cell_type": "code",
   "execution_count": 20,
   "outputs": [],
   "source": [
    "ann.add(tf.keras.layers.Dense(units=75,\n",
    "                              activation='softplus'))"
   ],
   "metadata": {
    "collapsed": false,
    "ExecuteTime": {
     "end_time": "2023-10-05T00:40:24.555689800Z",
     "start_time": "2023-10-05T00:40:24.412364700Z"
    }
   }
  },
  {
   "cell_type": "markdown",
   "metadata": {
    "colab_type": "text",
    "id": "jwMOmKb3AdBY"
   },
   "source": [
    "### Adding the output layer"
   ]
  },
  {
   "cell_type": "code",
   "execution_count": 21,
   "metadata": {
    "colab": {},
    "colab_type": "code",
    "id": "YFATpzsUAkLL",
    "ExecuteTime": {
     "end_time": "2023-10-05T00:40:26.020715200Z",
     "start_time": "2023-10-05T00:40:25.925694600Z"
    }
   },
   "outputs": [],
   "source": [
    "ann.add(tf.keras.layers.Dense(units=1,\n",
    "                              activation='linear'))"
   ]
  },
  {
   "cell_type": "markdown",
   "metadata": {},
   "source": [
    "### what model looks like"
   ]
  },
  {
   "cell_type": "code",
   "execution_count": 22,
   "metadata": {
    "ExecuteTime": {
     "end_time": "2023-10-05T00:40:27.646392900Z",
     "start_time": "2023-10-05T00:40:27.567905500Z"
    }
   },
   "outputs": [
    {
     "name": "stdout",
     "output_type": "stream",
     "text": [
      "Model: \"sequential\"\n",
      "_________________________________________________________________\n",
      " Layer (type)                Output Shape              Param #   \n",
      "=================================================================\n",
      " dense (Dense)               (None, 150)               900       \n",
      "                                                                 \n",
      " dense_1 (Dense)             (None, 125)               18875     \n",
      "                                                                 \n",
      " dense_2 (Dense)             (None, 100)               12600     \n",
      "                                                                 \n",
      " dense_3 (Dense)             (None, 75)                7575      \n",
      "                                                                 \n",
      " dense_4 (Dense)             (None, 1)                 76        \n",
      "                                                                 \n",
      "=================================================================\n",
      "Total params: 40,026\n",
      "Trainable params: 40,026\n",
      "Non-trainable params: 0\n",
      "_________________________________________________________________\n"
     ]
    }
   ],
   "source": [
    "ann.summary()"
   ]
  },
  {
   "cell_type": "markdown",
   "metadata": {
    "colab_type": "text",
    "id": "fq7e4fF6A1yy"
   },
   "source": [
    "## Part 4 - Training the ANN"
   ]
  },
  {
   "cell_type": "markdown",
   "metadata": {
    "colab_type": "text",
    "id": "qDeylAs2An25"
   },
   "source": [
    "### Compiling the ANN"
   ]
  },
  {
   "cell_type": "code",
   "execution_count": 23,
   "metadata": {
    "colab": {},
    "colab_type": "code",
    "id": "pesgbWlCAtB4",
    "ExecuteTime": {
     "end_time": "2023-10-05T00:40:33.937865900Z",
     "start_time": "2023-10-05T00:40:33.892704300Z"
    }
   },
   "outputs": [],
   "source": [
    "# from tensorflow.keras.optimizers import Adam\n",
    "from keras.optimizers import Adam\n",
    "opt = Adam(learning_rate=0.1)\n",
    "ann.compile(optimizer = opt,\n",
    "            loss = 'mean_squared_error',\n",
    "            metrics = ['mae'])"
   ]
  },
  {
   "cell_type": "markdown",
   "metadata": {},
   "source": [
    "### early stopping callback"
   ]
  },
  {
   "cell_type": "code",
   "execution_count": 24,
   "metadata": {
    "ExecuteTime": {
     "end_time": "2023-10-05T00:40:38.767833Z",
     "start_time": "2023-10-05T00:40:38.720980400Z"
    }
   },
   "outputs": [],
   "source": [
    "# protects from unnecessary further training of the model if a particular metric does not continue to improve over a number of n epochs. In such a case, the model training would be automatically aborted.\n",
    "from keras.callbacks import EarlyStopping\n",
    "es = EarlyStopping(monitor='val_loss',\n",
    "                   mode='min',\n",
    "                   patience=50,\n",
    "                   restore_best_weights = True)"
   ]
  },
  {
   "cell_type": "markdown",
   "metadata": {
    "colab_type": "text",
    "id": "YjVuiybYOo7r"
   },
   "source": [
    "### Training the ANN model on the Training set"
   ]
  },
  {
   "cell_type": "code",
   "execution_count": 25,
   "metadata": {
    "colab": {
     "base_uri": "https://localhost:8080/",
     "height": 1000
    },
    "colab_type": "code",
    "id": "c_vV-tiiA5zn",
    "outputId": "4a2b6ee6-ed75-4698-9069-b250e613803f",
    "ExecuteTime": {
     "end_time": "2023-10-05T01:57:32.131338800Z",
     "start_time": "2023-10-05T00:40:40.489391700Z"
    }
   },
   "outputs": [
    {
     "name": "stdout",
     "output_type": "stream",
     "text": [
      "Epoch 1/500\n",
      "29522/29522 [==============================] - 93s 3ms/step - loss: 8438222336.0000 - mae: 17879.1191 - val_loss: 8742103040.0000 - val_mae: 14299.2500\n",
      "Epoch 2/500\n",
      "29522/29522 [==============================] - 90s 3ms/step - loss: 9374498816.0000 - mae: 16249.0117 - val_loss: 10628495360.0000 - val_mae: 15388.8457\n",
      "Epoch 3/500\n",
      "29522/29522 [==============================] - 90s 3ms/step - loss: 9372176384.0000 - mae: 15893.9121 - val_loss: 10626251776.0000 - val_mae: 15691.2852\n",
      "Epoch 4/500\n",
      "29522/29522 [==============================] - 90s 3ms/step - loss: 9372718080.0000 - mae: 15824.9971 - val_loss: 10628327424.0000 - val_mae: 16722.0566\n",
      "Epoch 5/500\n",
      "29522/29522 [==============================] - 90s 3ms/step - loss: 9372332032.0000 - mae: 15843.7646 - val_loss: 10627603456.0000 - val_mae: 16496.8613\n",
      "Epoch 6/500\n",
      "29522/29522 [==============================] - 90s 3ms/step - loss: 9371557888.0000 - mae: 15880.6963 - val_loss: 10629175296.0000 - val_mae: 15364.3926\n",
      "Epoch 7/500\n",
      "29522/29522 [==============================] - 90s 3ms/step - loss: 9372040192.0000 - mae: 15799.8232 - val_loss: 10631674880.0000 - val_mae: 15332.6543\n",
      "Epoch 8/500\n",
      "29522/29522 [==============================] - 90s 3ms/step - loss: 9372055552.0000 - mae: 15789.9150 - val_loss: 10631264256.0000 - val_mae: 15333.4551\n",
      "Epoch 9/500\n",
      "29522/29522 [==============================] - 90s 3ms/step - loss: 9371431936.0000 - mae: 15834.0283 - val_loss: 10626205696.0000 - val_mae: 15763.2803\n",
      "Epoch 10/500\n",
      "29522/29522 [==============================] - 89s 3ms/step - loss: 9371727872.0000 - mae: 15765.8867 - val_loss: 10628169728.0000 - val_mae: 15403.9766\n",
      "Epoch 11/500\n",
      "29522/29522 [==============================] - 89s 3ms/step - loss: 9370926080.0000 - mae: 15828.0791 - val_loss: 10627489792.0000 - val_mae: 16460.5332\n",
      "Epoch 12/500\n",
      "29522/29522 [==============================] - 90s 3ms/step - loss: 9371666432.0000 - mae: 15765.1201 - val_loss: 10630624256.0000 - val_mae: 15337.3604\n",
      "Epoch 13/500\n",
      "29522/29522 [==============================] - 90s 3ms/step - loss: 9371198464.0000 - mae: 15756.3291 - val_loss: 10626217984.0000 - val_mae: 15838.5488\n",
      "Epoch 14/500\n",
      "29522/29522 [==============================] - 89s 3ms/step - loss: 9371687936.0000 - mae: 15731.4121 - val_loss: 10627262464.0000 - val_mae: 15463.8955\n",
      "Epoch 15/500\n",
      "29522/29522 [==============================] - 90s 3ms/step - loss: 9371371520.0000 - mae: 15745.5781 - val_loss: 10628237312.0000 - val_mae: 16697.6328\n",
      "Epoch 16/500\n",
      "29522/29522 [==============================] - 90s 3ms/step - loss: 9370725376.0000 - mae: 15810.7393 - val_loss: 10630260736.0000 - val_mae: 15342.1436\n",
      "Epoch 17/500\n",
      "29522/29522 [==============================] - 90s 3ms/step - loss: 9370828800.0000 - mae: 15753.6855 - val_loss: 10637491200.0000 - val_mae: 18232.4121\n",
      "Epoch 18/500\n",
      "29522/29522 [==============================] - 90s 3ms/step - loss: 9371281408.0000 - mae: 15757.1689 - val_loss: 10627673088.0000 - val_mae: 15431.4375\n",
      "Epoch 19/500\n",
      "29522/29522 [==============================] - 90s 3ms/step - loss: 9371220992.0000 - mae: 15726.5938 - val_loss: 10626400256.0000 - val_mae: 15602.3525\n",
      "Epoch 20/500\n",
      "29522/29522 [==============================] - 90s 3ms/step - loss: 9370984448.0000 - mae: 15739.4277 - val_loss: 10627322880.0000 - val_mae: 15459.0498\n",
      "Epoch 21/500\n",
      "29522/29522 [==============================] - 89s 3ms/step - loss: 9370806272.0000 - mae: 15750.6875 - val_loss: 10631164928.0000 - val_mae: 15333.7910\n",
      "Epoch 22/500\n",
      "29522/29522 [==============================] - 90s 3ms/step - loss: 9371118592.0000 - mae: 15740.4463 - val_loss: 10627827712.0000 - val_mae: 15421.3721\n",
      "Epoch 23/500\n",
      "29522/29522 [==============================] - 90s 3ms/step - loss: 9371364352.0000 - mae: 15699.5674 - val_loss: 10626207744.0000 - val_mae: 15821.7754\n",
      "Epoch 24/500\n",
      "29522/29522 [==============================] - 89s 3ms/step - loss: 9370606592.0000 - mae: 15775.4814 - val_loss: 10628547584.0000 - val_mae: 15386.5176\n",
      "Epoch 25/500\n",
      "29522/29522 [==============================] - 90s 3ms/step - loss: 9370924032.0000 - mae: 15721.6650 - val_loss: 10627479552.0000 - val_mae: 15445.6416\n",
      "Epoch 26/500\n",
      "29522/29522 [==============================] - 96s 3ms/step - loss: 9369861120.0000 - mae: 15812.7080 - val_loss: 10627404800.0000 - val_mae: 15452.2373\n",
      "Epoch 27/500\n",
      "29522/29522 [==============================] - 93s 3ms/step - loss: 9370832896.0000 - mae: 15712.5244 - val_loss: 10628052992.0000 - val_mae: 15409.7031\n",
      "Epoch 28/500\n",
      "29522/29522 [==============================] - 91s 3ms/step - loss: 9370793984.0000 - mae: 15736.6270 - val_loss: 10628703232.0000 - val_mae: 15379.2744\n",
      "Epoch 29/500\n",
      "29522/29522 [==============================] - 90s 3ms/step - loss: 9371099136.0000 - mae: 15680.0645 - val_loss: 10626274304.0000 - val_mae: 15679.1953\n",
      "Epoch 30/500\n",
      "29522/29522 [==============================] - 91s 3ms/step - loss: 9370795008.0000 - mae: 15723.5703 - val_loss: 10626205696.0000 - val_mae: 15826.8809\n",
      "Epoch 31/500\n",
      "29522/29522 [==============================] - 92s 3ms/step - loss: 9370462208.0000 - mae: 15749.1416 - val_loss: 10627697664.0000 - val_mae: 15429.8291\n",
      "Epoch 32/500\n",
      "29522/29522 [==============================] - 90s 3ms/step - loss: 9370990592.0000 - mae: 15714.8574 - val_loss: 10628203520.0000 - val_mae: 15402.2773\n",
      "Epoch 33/500\n",
      "29522/29522 [==============================] - 89s 3ms/step - loss: 9371161600.0000 - mae: 15686.9912 - val_loss: 10627019776.0000 - val_mae: 15486.5703\n",
      "Epoch 34/500\n",
      "29522/29522 [==============================] - 90s 3ms/step - loss: 9370720256.0000 - mae: 15718.5322 - val_loss: 10626403328.0000 - val_mae: 15973.4971\n",
      "Epoch 35/500\n",
      "29522/29522 [==============================] - 89s 3ms/step - loss: 9370828800.0000 - mae: 15693.6758 - val_loss: 10631815168.0000 - val_mae: 15332.7520\n",
      "Epoch 36/500\n",
      "29522/29522 [==============================] - 91s 3ms/step - loss: 9370785792.0000 - mae: 15722.3154 - val_loss: 10626233344.0000 - val_mae: 15718.9355\n",
      "Epoch 37/500\n",
      "29522/29522 [==============================] - 90s 3ms/step - loss: 9370670080.0000 - mae: 15721.3057 - val_loss: 10626591744.0000 - val_mae: 15553.7090\n",
      "Epoch 38/500\n",
      "29522/29522 [==============================] - 91s 3ms/step - loss: 9370639360.0000 - mae: 15731.9980 - val_loss: 10628229120.0000 - val_mae: 15400.2842\n",
      "Epoch 39/500\n",
      "29522/29522 [==============================] - 90s 3ms/step - loss: 9370834944.0000 - mae: 15680.3682 - val_loss: 10627055616.0000 - val_mae: 15481.7500\n",
      "Epoch 40/500\n",
      "29522/29522 [==============================] - 91s 3ms/step - loss: 9370564608.0000 - mae: 15715.4609 - val_loss: 10626969600.0000 - val_mae: 16257.4014\n",
      "Epoch 41/500\n",
      "29522/29522 [==============================] - 91s 3ms/step - loss: 9370636288.0000 - mae: 15702.8828 - val_loss: 10634693632.0000 - val_mae: 17874.7773\n",
      "Epoch 42/500\n",
      "29522/29522 [==============================] - 90s 3ms/step - loss: 9370890240.0000 - mae: 15708.0898 - val_loss: 10626228224.0000 - val_mae: 15850.7012\n",
      "Epoch 43/500\n",
      "29522/29522 [==============================] - 91s 3ms/step - loss: 9370478592.0000 - mae: 15726.9180 - val_loss: 10626308096.0000 - val_mae: 15904.1660\n",
      "Epoch 44/500\n",
      "29522/29522 [==============================] - 91s 3ms/step - loss: 9370765312.0000 - mae: 15692.8340 - val_loss: 10629154816.0000 - val_mae: 15364.8623\n",
      "Epoch 45/500\n",
      "29522/29522 [==============================] - 90s 3ms/step - loss: 9370911744.0000 - mae: 15675.6709 - val_loss: 10626728960.0000 - val_mae: 15529.6895\n",
      "Epoch 46/500\n",
      "29522/29522 [==============================] - 92s 3ms/step - loss: 9370708992.0000 - mae: 15695.1377 - val_loss: 10627028992.0000 - val_mae: 16287.5352\n",
      "Epoch 47/500\n",
      "29522/29522 [==============================] - 91s 3ms/step - loss: 9370347520.0000 - mae: 15725.1172 - val_loss: 10630230016.0000 - val_mae: 17151.6445\n",
      "Epoch 48/500\n",
      "29522/29522 [==============================] - 91s 3ms/step - loss: 9370533888.0000 - mae: 15724.1826 - val_loss: 10626719744.0000 - val_mae: 16152.8584\n",
      "Epoch 49/500\n",
      "29522/29522 [==============================] - 91s 3ms/step - loss: 9370904576.0000 - mae: 15677.2842 - val_loss: 10626331648.0000 - val_mae: 15624.1172\n",
      "Epoch 50/500\n",
      "29522/29522 [==============================] - 91s 3ms/step - loss: 9370684416.0000 - mae: 15699.2080 - val_loss: 10629723136.0000 - val_mae: 15351.3984\n",
      "Epoch 51/500\n",
      "29522/29522 [==============================] - 91s 3ms/step - loss: 9370442752.0000 - mae: 15736.1221 - val_loss: 10627609600.0000 - val_mae: 15436.2529\n"
     ]
    }
   ],
   "source": [
    "history = ann.fit(X_train, y_train,\n",
    "                    validation_data = (X_val, y_val),\n",
    "                    callbacks=[es],\n",
    "                    epochs=500,\n",
    "                    batch_size=10,\n",
    "                    verbose=1)"
   ]
  },
  {
   "cell_type": "markdown",
   "metadata": {
    "colab_type": "text",
    "id": "0H0zKKNEBLD5"
   },
   "source": [
    "### Analyse learn history"
   ]
  },
  {
   "cell_type": "code",
   "execution_count": 26,
   "metadata": {
    "ExecuteTime": {
     "end_time": "2023-10-05T02:20:37.738801Z",
     "start_time": "2023-10-05T02:20:37.480268600Z"
    }
   },
   "outputs": [
    {
     "data": {
      "text/plain": "<Figure size 640x480 with 1 Axes>",
      "image/png": "[encoded data removed]"
     },
     "metadata": {},
     "output_type": "display_data"
    }
   ],
   "source": [
    "# let's see the training and validation accuracy by epoch\n",
    "history_dict = history.history\n",
    "loss_values = history_dict['loss'] # you can change this\n",
    "val_loss_values = history_dict['val_loss'] # you can also change this\n",
    "epochs = range(1, len(loss_values) + 1) # range of X (no. of epochs)\n",
    "plt.plot(epochs, loss_values, 'blue', label='Train set loss')\n",
    "plt.plot(epochs, val_loss_values, 'orange', label='Validation set loss')\n",
    "#plt.title('Training and testing loss')\n",
    "plt.xlabel('Epochs')\n",
    "plt.ylabel('Loss (MSE)')\n",
    "plt.legend()\n",
    "plt.show()"
   ]
  },
  {
   "cell_type": "code",
   "execution_count": null,
   "metadata": {},
   "outputs": [],
   "source": [
    "loss_values1 = history_dict['mae'] # you can change this\n",
    "val_loss_values1 = history_dict['val_mae'] # you can also change this\n",
    "epochs = range(1, len(loss_values1) + 1) # range of X (no. of epochs)\n",
    "plt.plot(epochs, loss_values1, 'blue', label='Train set MAE')\n",
    "plt.plot(epochs, val_loss_values1, 'orange', label='Validation set MAE')\n",
    "#plt.title('Training and testing MAE')\n",
    "plt.xlabel('Epochs')\n",
    "plt.ylabel('MAE')\n",
    "plt.legend()\n",
    "plt.show()"
   ]
  },
  {
   "cell_type": "code",
   "execution_count": null,
   "metadata": {},
   "outputs": [],
   "source": [
    "print (epochs)"
   ]
  },
  {
   "cell_type": "markdown",
   "metadata": {},
   "source": [
    "### Save the model"
   ]
  },
  {
   "cell_type": "code",
   "execution_count": null,
   "metadata": {},
   "outputs": [],
   "source": [
    "ann.save('ANN_1.h5')"
   ]
  },
  {
   "cell_type": "markdown",
   "metadata": {},
   "source": [
    "## Part 5 - Make predictions"
   ]
  },
  {
   "cell_type": "code",
   "execution_count": null,
   "metadata": {},
   "outputs": [],
   "source": [
    "ann = load_model('ANN_1.h5')"
   ]
  },
  {
   "cell_type": "code",
   "execution_count": null,
   "metadata": {},
   "outputs": [],
   "source": [
    "# scatterplot of actual vs. pred\n",
    "# specify the dimensions \n",
    "fig, axes = plt.subplots(1,2) # 1 row, 2 columns\n",
    "\n",
    "# this makes the individual subplots\n",
    "# Training Results\n",
    "axes[0].scatter(x=y_train, y=ann.predict(X_train)) #first row, first entry (left top)\n",
    "axes[0].set_xlabel(\"Actual\", fontsize=10)\n",
    "axes[0].set_ylabel(\"Predicted\",  fontsize=10)\n",
    "axes[0].set_title(\"Training\")\n",
    "# add 45 deg line\n",
    "x = np.linspace(*axes[0].get_xlim())\n",
    "axes[0].plot(x, x, color='red')\n",
    "# Validation Results\n",
    "axes[1].scatter(x=y_val, y=ann.predict(X_val)) # first row, second entry (right top)\n",
    "axes[1].set_xlabel(\"Actual\", fontsize=10)\n",
    "axes[1].set_ylabel(\"Predicted\",  fontsize=10)\n",
    "axes[1].set_title(\"Validation\")\n",
    "# add 45 deg line\n",
    "x = np.linspace(*axes[1].get_xlim())\n",
    "axes[1].plot(x, x, color='red')\n",
    "\n",
    "# tight layout\n",
    "fig.tight_layout()\n",
    "\n",
    "# show the plot\n",
    "plt.show()"
   ]
  },
  {
   "cell_type": "code",
   "execution_count": null,
   "metadata": {
    "colab": {
     "base_uri": "https://localhost:8080/",
     "height": 134
    },
    "colab_type": "code",
    "id": "IA0yApEmBG1X",
    "outputId": "cb981e1f-9204-4a2a-fece-9d66a6919189"
   },
   "outputs": [],
   "source": [
    "y_pred = ann.predict(X_test)\n",
    "np.set_printoptions(precision=2)\n",
    "print(np.concatenate((y_pred.reshape(len(y_pred),1), y_test.reshape(len(y_test),1)),1))"
   ]
  },
  {
   "cell_type": "code",
   "execution_count": null,
   "metadata": {},
   "outputs": [],
   "source": [
    "import matplotlib.pyplot as plt\n",
    "plt.scatter(y_test, y_pred, color=\"blue\")\n",
    "#plt.plot ([0,8500000],[0,8500000], color = \"red\")\n",
    "#plt.axis ([0,8500000,0,8500000])\n",
    "plt.xlabel ('Actual data')\n",
    "plt.ylabel ('Predicted data')"
   ]
  },
  {
   "cell_type": "code",
   "execution_count": null,
   "metadata": {},
   "outputs": [],
   "source": [
    "from sklearn.metrics import r2_score\n",
    "# Initialize layout\n",
    "fig1, ax1 = plt.subplots(figsize = (9, 9))\n",
    "\n",
    "\n",
    "#y = y_pred         # Model on prvious line is called here\n",
    "#x = y_test\n",
    "\n",
    "\n",
    "\n",
    "# Add scatterplot\n",
    "ax1.scatter(y_test, y_pred, s=70, alpha=1, edgecolors=\"k\",c='mediumblue',zorder=5, label = 'Points')\n",
    "\n",
    "\n",
    "plt.ylabel('Predicted Peak Incident Pressure (kPa)',fontsize = 25)\n",
    "plt.xlabel('Actual Peak Incident Pressure (kPa)',fontsize = 25)\n",
    "plt.xticks(fontsize = 19)\n",
    "plt.yticks(fontsize = 19)\n",
    "\n",
    "\n",
    "x1 = np.linspace(0,8000000)\n",
    "\n",
    "plt.plot(x1, x1, 'Red', label='45\\N{DEGREE SIGN} line',lw=2.5,alpha=1)\n",
    "plt.plot(x1, 1.1*x1, '--m', label='\\u00B110% Error',lw=2.5,alpha=0.7)\n",
    "plt.plot(x1, 0.9*x1,'m', linestyle='--',lw=2.5,alpha=0.7)\n",
    "plt.plot(x1, 1.2*x1, '-.g', label='\\u00B120% Error',lw=2.5,alpha=0.7)\n",
    "plt.plot(x1, 0.8*x1,'-.g',lw=2.5,alpha=0.7)\n",
    "\n",
    "plt.ylim(0,8000000)\n",
    "plt.xlim(0,8000000)\n",
    "plt.legend(loc='upper left',fontsize = 25)\n",
    "\n",
    "plt.grid()\n",
    "\n",
    "ax1.spines['left'].set_color('black')        # setting up Y-axis tick color to red\n",
    "ax1.spines['bottom'].set_color('black')         #setting up above X-axis tick color to red\n",
    "\n",
    "\n",
    "\n",
    "#ax1.annotate(\"$R^2$ = {:.3f}\".format(r2), (2500, 1000),fontsize = 25)  #Model is called here\n",
    "#ax1.annotate(\"Adj.$R^2$ = {:.3f}\".format(adj_r2), (2500, 750),fontsize = 25)\n",
    "\n",
    "#plt.savefig('plot1.png', dpi = 600, bbox_inches = 'tight')"
   ]
  },
  {
   "cell_type": "code",
   "execution_count": null,
   "metadata": {},
   "outputs": [],
   "source": [
    "# metrics\n",
    "trainpreds = ann.predict(X_train)\n",
    "\n",
    "from sklearn.metrics import mean_absolute_error\n",
    "print(mean_absolute_error(y_train, trainpreds)) # train\n",
    "print(mean_absolute_error(y_test, y_pred)) # test"
   ]
  },
  {
   "cell_type": "code",
   "execution_count": null,
   "metadata": {},
   "outputs": [],
   "source": [
    "from sklearn.metrics import r2_score\n",
    "r2 = r2_score(y_test, y_pred)\n",
    "print (r2)"
   ]
  },
  {
   "cell_type": "code",
   "execution_count": null,
   "metadata": {},
   "outputs": [],
   "source": [
    "r2_train = r2_score(y_train, trainpreds)\n",
    "print (r2_train)"
   ]
  },
  {
   "cell_type": "code",
   "execution_count": null,
   "metadata": {},
   "outputs": [],
   "source": [
    "count1 = 0\n",
    "for i in range(len(y_pred)):\n",
    "    line1 = y_pred[i] - 0.9*y_test[i]\n",
    "    line2 = y_pred[i] - 1.1*y_test[i]\n",
    "    #print ('line 1 ', line1)\n",
    "    #print ('line 2 ', line2)\n",
    "    mask1 = (line1 > 0) & (line2 < 0)\n",
    "    #print (mask)\n",
    "    count1 = np.sum(mask1+count1)\n",
    "    #print (count)\n",
    "\n",
    "count2 = 0\n",
    "for j in range(len(y_pred)):\n",
    "    line3 = y_pred[j] - 0.8*y_test[j]\n",
    "    line4 = y_pred[j] - 1.2*y_test[j]\n",
    "    mask2 = (line3 > 0) & (line4 < 0)\n",
    "    count2 = np.sum(mask2+count2)\n",
    "\n",
    "\n",
    "count3 = 0    \n",
    "for k in range(len(y_pred)):\n",
    "    line5 = y_pred[k] - 0.8*y_test[k]\n",
    "    line6 = y_pred[k] - 1.2*y_test[k]\n",
    "    mask3 = (line5 < 0) or (line6 > 0)\n",
    "    count3 = np.sum(mask3+count3)\n",
    "   \n",
    "\n",
    "print ('Within 10% margin', format((count1/len (y_pred)),'.2%'))\n",
    "print ('Within 20% margin', format((count2/len (y_pred)),'.2%'))\n",
    "print ('Out of 20% margin', format((count3/len (y_pred)),'.2%'))"
   ]
  },
  {
   "cell_type": "code",
   "execution_count": null,
   "metadata": {},
   "outputs": [],
   "source": [
    "adj_r2 = 1 - ((1 - r2) * (len(X_test) - 1) / (len(X_test) - len (X_test[0]) - 1))\n",
    "print (adj_r2)"
   ]
  },
  {
   "cell_type": "code",
   "execution_count": null,
   "metadata": {},
   "outputs": [],
   "source": [
    "import math\n",
    "from sklearn.metrics import mean_squared_error\n",
    "\n",
    "math.sqrt(mean_squared_error(y_test, y_pred))"
   ]
  },
  {
   "cell_type": "code",
   "execution_count": null,
   "metadata": {},
   "outputs": [],
   "source": [
    "from sklearn.metrics import mean_absolute_error\n",
    "\n",
    "mean_absolute_error(y_test, y_pred)"
   ]
  }
 ],
 "metadata": {
  "colab": {
   "collapsed_sections": [],
   "name": "Artificial Neural Network",
   "provenance": [],
   "toc_visible": true
  },
  "kernelspec": {
   "display_name": "Python 3 (ipykernel)",
   "language": "python",
   "name": "python3"
  },
  "language_info": {
   "codemirror_mode": {
    "name": "ipython",
    "version": 3
   },
   "file_extension": ".py",
   "mimetype": "text/x-python",
   "name": "python",
   "nbconvert_exporter": "python",
   "pygments_lexer": "ipython3",
   "version": "3.9.7"
  }
 },
 "nbformat": 4,
 "nbformat_minor": 4
}
