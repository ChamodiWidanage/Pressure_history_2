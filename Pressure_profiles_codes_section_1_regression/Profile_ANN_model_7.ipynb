{
 "cells": [
  {
   "cell_type": "markdown",
   "metadata": {
    "colab_type": "text",
    "id": "3cbb7fRy-eyr"
   },
   "source": [
    "# Artificial Neural Network"
   ]
  },
  {
   "cell_type": "markdown",
   "metadata": {
    "colab_type": "text",
    "id": "8sNDnxE2-pwE"
   },
   "source": [
    "## Part 1 - Importing the libraries"
   ]
  },
  {
   "cell_type": "code",
   "execution_count": 1,
   "metadata": {
    "colab": {},
    "colab_type": "code",
    "id": "lxChR1Rk-umf",
    "ExecuteTime": {
     "end_time": "2023-10-04T05:52:03.428562Z",
     "start_time": "2023-10-04T05:51:57.989848500Z"
    }
   },
   "outputs": [],
   "source": [
    "import numpy as np\n",
    "import pandas as pd\n",
    "import tensorflow as tf\n",
    "import matplotlib.pyplot as plt\n",
    "from keras.models import load_model\n",
    "from pathlib import Path"
   ]
  },
  {
   "cell_type": "markdown",
   "metadata": {
    "colab_type": "text",
    "id": "AG3FQEch-yuA"
   },
   "source": [
    "## Part 2 - Data Preprocessing"
   ]
  },
  {
   "cell_type": "markdown",
   "metadata": {
    "colab_type": "text",
    "id": "-4zq8Mza_D9O"
   },
   "source": [
    "### Importing the dataset"
   ]
  },
  {
   "cell_type": "code",
   "execution_count": 2,
   "metadata": {
    "ExecuteTime": {
     "end_time": "2023-10-04T05:52:05.334876900Z",
     "start_time": "2023-10-04T05:52:05.286517800Z"
    }
   },
   "outputs": [
    {
     "name": "stdout",
     "output_type": "stream",
     "text": [
      "input G:\\Chamodi\\Machine_Learning\\Pressure_history_2\\Pressure_profiles_arrival_omitted\n",
      "2 [WindowsPath('G:/Chamodi/Machine_Learning/Pressure_history_2/Pressure_profiles_arrival_omitted/L13_1'), WindowsPath('G:/Chamodi/Machine_Learning/Pressure_history_2/Pressure_profiles_arrival_omitted/L13_11'), WindowsPath('G:/Chamodi/Machine_Learning/Pressure_history_2/Pressure_profiles_arrival_omitted/L13_13'), WindowsPath('G:/Chamodi/Machine_Learning/Pressure_history_2/Pressure_profiles_arrival_omitted/L13_15'), WindowsPath('G:/Chamodi/Machine_Learning/Pressure_history_2/Pressure_profiles_arrival_omitted/L13_17'), WindowsPath('G:/Chamodi/Machine_Learning/Pressure_history_2/Pressure_profiles_arrival_omitted/L13_19'), WindowsPath('G:/Chamodi/Machine_Learning/Pressure_history_2/Pressure_profiles_arrival_omitted/L13_21'), WindowsPath('G:/Chamodi/Machine_Learning/Pressure_history_2/Pressure_profiles_arrival_omitted/L13_23'), WindowsPath('G:/Chamodi/Machine_Learning/Pressure_history_2/Pressure_profiles_arrival_omitted/L13_25'), WindowsPath('G:/Chamodi/Machine_Learning/Pressure_history_2/Pressure_profiles_arrival_omitted/L13_27'), WindowsPath('G:/Chamodi/Machine_Learning/Pressure_history_2/Pressure_profiles_arrival_omitted/L13_29'), WindowsPath('G:/Chamodi/Machine_Learning/Pressure_history_2/Pressure_profiles_arrival_omitted/L13_3'), WindowsPath('G:/Chamodi/Machine_Learning/Pressure_history_2/Pressure_profiles_arrival_omitted/L13_31'), WindowsPath('G:/Chamodi/Machine_Learning/Pressure_history_2/Pressure_profiles_arrival_omitted/L13_33'), WindowsPath('G:/Chamodi/Machine_Learning/Pressure_history_2/Pressure_profiles_arrival_omitted/L13_35'), WindowsPath('G:/Chamodi/Machine_Learning/Pressure_history_2/Pressure_profiles_arrival_omitted/L13_37'), WindowsPath('G:/Chamodi/Machine_Learning/Pressure_history_2/Pressure_profiles_arrival_omitted/L13_39'), WindowsPath('G:/Chamodi/Machine_Learning/Pressure_history_2/Pressure_profiles_arrival_omitted/L13_41'), WindowsPath('G:/Chamodi/Machine_Learning/Pressure_history_2/Pressure_profiles_arrival_omitted/L13_43'), WindowsPath('G:/Chamodi/Machine_Learning/Pressure_history_2/Pressure_profiles_arrival_omitted/L13_45'), WindowsPath('G:/Chamodi/Machine_Learning/Pressure_history_2/Pressure_profiles_arrival_omitted/L13_47'), WindowsPath('G:/Chamodi/Machine_Learning/Pressure_history_2/Pressure_profiles_arrival_omitted/L13_49'), WindowsPath('G:/Chamodi/Machine_Learning/Pressure_history_2/Pressure_profiles_arrival_omitted/L13_5'), WindowsPath('G:/Chamodi/Machine_Learning/Pressure_history_2/Pressure_profiles_arrival_omitted/L13_51'), WindowsPath('G:/Chamodi/Machine_Learning/Pressure_history_2/Pressure_profiles_arrival_omitted/L13_53'), WindowsPath('G:/Chamodi/Machine_Learning/Pressure_history_2/Pressure_profiles_arrival_omitted/L13_55'), WindowsPath('G:/Chamodi/Machine_Learning/Pressure_history_2/Pressure_profiles_arrival_omitted/L13_57'), WindowsPath('G:/Chamodi/Machine_Learning/Pressure_history_2/Pressure_profiles_arrival_omitted/L13_59'), WindowsPath('G:/Chamodi/Machine_Learning/Pressure_history_2/Pressure_profiles_arrival_omitted/L13_61'), WindowsPath('G:/Chamodi/Machine_Learning/Pressure_history_2/Pressure_profiles_arrival_omitted/L13_63'), WindowsPath('G:/Chamodi/Machine_Learning/Pressure_history_2/Pressure_profiles_arrival_omitted/L13_65'), WindowsPath('G:/Chamodi/Machine_Learning/Pressure_history_2/Pressure_profiles_arrival_omitted/L13_67'), WindowsPath('G:/Chamodi/Machine_Learning/Pressure_history_2/Pressure_profiles_arrival_omitted/L13_69'), WindowsPath('G:/Chamodi/Machine_Learning/Pressure_history_2/Pressure_profiles_arrival_omitted/L13_7'), WindowsPath('G:/Chamodi/Machine_Learning/Pressure_history_2/Pressure_profiles_arrival_omitted/L13_70'), WindowsPath('G:/Chamodi/Machine_Learning/Pressure_history_2/Pressure_profiles_arrival_omitted/L13_9')]\n"
     ]
    }
   ],
   "source": [
    "#Access input folder\n",
    "current_dir = Path.cwd()\n",
    "parent_dir = current_dir.parent\n",
    "input_dir1 = Path (parent_dir/\"Pressure_profiles_arrival_omitted\")\n",
    "print (\"input\",input_dir1)\n",
    "\n",
    "#Access folders inside input folder\n",
    "input_dir2_train =  [folder_input for folder_input in input_dir1.iterdir() if folder_input.is_dir()]\n",
    "print (\"2\",input_dir2_train)"
   ]
  },
  {
   "cell_type": "code",
   "execution_count": 3,
   "metadata": {
    "ExecuteTime": {
     "end_time": "2023-10-04T05:52:55.738693900Z",
     "start_time": "2023-10-04T05:52:07.019177200Z"
    }
   },
   "outputs": [
    {
     "name": "stdout",
     "output_type": "stream",
     "text": [
      "folder G:\\Chamodi\\Machine_Learning\\Pressure_history_2\\Pressure_profiles_arrival_omitted\\L13_1\n",
      "P1\n",
      "P13\n",
      "P5\n",
      "P9\n",
      "folder G:\\Chamodi\\Machine_Learning\\Pressure_history_2\\Pressure_profiles_arrival_omitted\\L13_11\n",
      "P1\n",
      "P13\n",
      "P5\n",
      "P9\n",
      "folder G:\\Chamodi\\Machine_Learning\\Pressure_history_2\\Pressure_profiles_arrival_omitted\\L13_13\n",
      "P1\n",
      "P13\n",
      "P5\n",
      "P9\n",
      "folder G:\\Chamodi\\Machine_Learning\\Pressure_history_2\\Pressure_profiles_arrival_omitted\\L13_15\n",
      "P1\n",
      "P13\n",
      "P5\n",
      "P9\n",
      "folder G:\\Chamodi\\Machine_Learning\\Pressure_history_2\\Pressure_profiles_arrival_omitted\\L13_17\n",
      "P1\n",
      "P13\n",
      "P5\n",
      "P9\n",
      "folder G:\\Chamodi\\Machine_Learning\\Pressure_history_2\\Pressure_profiles_arrival_omitted\\L13_19\n",
      "P1\n",
      "P13\n",
      "P5\n",
      "P9\n",
      "folder G:\\Chamodi\\Machine_Learning\\Pressure_history_2\\Pressure_profiles_arrival_omitted\\L13_21\n",
      "P1\n",
      "P13\n",
      "P5\n",
      "P9\n",
      "folder G:\\Chamodi\\Machine_Learning\\Pressure_history_2\\Pressure_profiles_arrival_omitted\\L13_23\n",
      "P1\n",
      "P13\n",
      "P5\n",
      "P9\n",
      "folder G:\\Chamodi\\Machine_Learning\\Pressure_history_2\\Pressure_profiles_arrival_omitted\\L13_25\n",
      "P1\n",
      "P13\n",
      "P5\n",
      "P9\n",
      "folder G:\\Chamodi\\Machine_Learning\\Pressure_history_2\\Pressure_profiles_arrival_omitted\\L13_27\n",
      "P1\n",
      "P13\n",
      "P5\n",
      "P9\n",
      "folder G:\\Chamodi\\Machine_Learning\\Pressure_history_2\\Pressure_profiles_arrival_omitted\\L13_29\n",
      "P1\n",
      "P13\n",
      "P5\n",
      "P9\n",
      "folder G:\\Chamodi\\Machine_Learning\\Pressure_history_2\\Pressure_profiles_arrival_omitted\\L13_3\n",
      "P1\n",
      "P13\n",
      "P5\n",
      "P9\n",
      "folder G:\\Chamodi\\Machine_Learning\\Pressure_history_2\\Pressure_profiles_arrival_omitted\\L13_31\n",
      "P1\n",
      "P13\n",
      "P5\n",
      "P9\n",
      "folder G:\\Chamodi\\Machine_Learning\\Pressure_history_2\\Pressure_profiles_arrival_omitted\\L13_33\n",
      "P1\n",
      "P13\n",
      "P5\n",
      "P9\n",
      "folder G:\\Chamodi\\Machine_Learning\\Pressure_history_2\\Pressure_profiles_arrival_omitted\\L13_35\n",
      "P1\n",
      "P13\n",
      "P5\n",
      "P9\n",
      "folder G:\\Chamodi\\Machine_Learning\\Pressure_history_2\\Pressure_profiles_arrival_omitted\\L13_37\n",
      "P1\n",
      "P13\n",
      "P5\n",
      "P9\n",
      "folder G:\\Chamodi\\Machine_Learning\\Pressure_history_2\\Pressure_profiles_arrival_omitted\\L13_39\n",
      "P1\n",
      "P13\n",
      "P5\n",
      "P9\n",
      "folder G:\\Chamodi\\Machine_Learning\\Pressure_history_2\\Pressure_profiles_arrival_omitted\\L13_41\n",
      "P1\n",
      "P13\n",
      "P5\n",
      "P9\n",
      "folder G:\\Chamodi\\Machine_Learning\\Pressure_history_2\\Pressure_profiles_arrival_omitted\\L13_43\n",
      "P1\n",
      "P13\n",
      "P5\n",
      "P9\n",
      "folder G:\\Chamodi\\Machine_Learning\\Pressure_history_2\\Pressure_profiles_arrival_omitted\\L13_45\n",
      "P1\n",
      "P13\n",
      "P5\n",
      "P9\n",
      "folder G:\\Chamodi\\Machine_Learning\\Pressure_history_2\\Pressure_profiles_arrival_omitted\\L13_47\n",
      "P1\n",
      "P13\n",
      "P5\n",
      "P9\n",
      "folder G:\\Chamodi\\Machine_Learning\\Pressure_history_2\\Pressure_profiles_arrival_omitted\\L13_49\n",
      "P1\n",
      "P13\n",
      "P5\n",
      "P9\n",
      "folder G:\\Chamodi\\Machine_Learning\\Pressure_history_2\\Pressure_profiles_arrival_omitted\\L13_5\n",
      "P1\n",
      "P13\n",
      "P5\n",
      "P9\n",
      "folder G:\\Chamodi\\Machine_Learning\\Pressure_history_2\\Pressure_profiles_arrival_omitted\\L13_51\n",
      "P1\n",
      "P13\n",
      "P5\n",
      "P9\n",
      "folder G:\\Chamodi\\Machine_Learning\\Pressure_history_2\\Pressure_profiles_arrival_omitted\\L13_53\n",
      "P1\n",
      "P13\n",
      "P5\n",
      "P9\n",
      "folder G:\\Chamodi\\Machine_Learning\\Pressure_history_2\\Pressure_profiles_arrival_omitted\\L13_55\n",
      "P1\n",
      "P13\n",
      "P5\n",
      "P9\n",
      "folder G:\\Chamodi\\Machine_Learning\\Pressure_history_2\\Pressure_profiles_arrival_omitted\\L13_57\n",
      "P1\n",
      "P13\n",
      "P5\n",
      "P9\n",
      "folder G:\\Chamodi\\Machine_Learning\\Pressure_history_2\\Pressure_profiles_arrival_omitted\\L13_59\n",
      "P1\n",
      "P13\n",
      "P5\n",
      "P9\n",
      "folder G:\\Chamodi\\Machine_Learning\\Pressure_history_2\\Pressure_profiles_arrival_omitted\\L13_61\n",
      "P1\n",
      "P13\n",
      "P5\n",
      "P9\n",
      "folder G:\\Chamodi\\Machine_Learning\\Pressure_history_2\\Pressure_profiles_arrival_omitted\\L13_63\n",
      "P1\n",
      "P13\n",
      "P5\n",
      "P9\n",
      "folder G:\\Chamodi\\Machine_Learning\\Pressure_history_2\\Pressure_profiles_arrival_omitted\\L13_65\n",
      "P1\n",
      "P13\n",
      "P5\n",
      "P9\n",
      "folder G:\\Chamodi\\Machine_Learning\\Pressure_history_2\\Pressure_profiles_arrival_omitted\\L13_67\n",
      "P1\n",
      "P13\n",
      "P5\n",
      "P9\n",
      "folder G:\\Chamodi\\Machine_Learning\\Pressure_history_2\\Pressure_profiles_arrival_omitted\\L13_69\n",
      "P1\n",
      "P13\n",
      "P5\n",
      "P9\n",
      "folder G:\\Chamodi\\Machine_Learning\\Pressure_history_2\\Pressure_profiles_arrival_omitted\\L13_7\n",
      "P1\n",
      "P13\n",
      "P5\n",
      "P9\n",
      "folder G:\\Chamodi\\Machine_Learning\\Pressure_history_2\\Pressure_profiles_arrival_omitted\\L13_70\n",
      "P1\n",
      "P13\n",
      "P5\n",
      "P9\n",
      "folder G:\\Chamodi\\Machine_Learning\\Pressure_history_2\\Pressure_profiles_arrival_omitted\\L13_9\n",
      "P1\n",
      "P13\n",
      "P5\n",
      "P9\n"
     ]
    }
   ],
   "source": [
    "# Access each folder inside input folder\n",
    "dataset_train = pd.DataFrame(columns = ['Charge_mass', 'Standoff_distance', 'Time', 'Pressure', 'Phase'])\n",
    "df_list_train = []\n",
    "for folder_train in input_dir2_train:\n",
    "    \n",
    "    # Make a list of data file names\n",
    "    files_train = list(file_train for file_train in folder_train.rglob(\"*.xlsx\") if int(file_train.stem[1:]) < 14)\n",
    "    print (\"folder\", folder_train)\n",
    "    \n",
    "    for file_train in files_train:\n",
    "        df_list_train.append(pd.read_excel(file_train))\n",
    "        print (file_train.stem)\n",
    "\n",
    "dataset_train = pd.concat(df_list_train, ignore_index = True)"
   ]
  },
  {
   "cell_type": "code",
   "execution_count": 4,
   "metadata": {
    "colab": {},
    "colab_type": "code",
    "id": "B9CV13Co_HHM",
    "ExecuteTime": {
     "end_time": "2023-10-04T05:58:27.101105400Z",
     "start_time": "2023-10-04T05:58:26.991591600Z"
    }
   },
   "outputs": [
    {
     "name": "stdout",
     "output_type": "stream",
     "text": [
      "<class 'pandas.core.frame.DataFrame'>\n",
      "RangeIndex: 492019 entries, 0 to 492018\n",
      "Data columns (total 5 columns):\n",
      " #   Column             Non-Null Count   Dtype  \n",
      "---  ------             --------------   -----  \n",
      " 0   Charge_mass        492019 non-null  float64\n",
      " 1   Standoff_distance  492019 non-null  int64  \n",
      " 2   Time               492019 non-null  float64\n",
      " 3   Pressure           492019 non-null  float64\n",
      " 4   Phase              492019 non-null  object \n",
      "dtypes: float64(3), int64(1), object(1)\n",
      "memory usage: 18.8+ MB\n"
     ]
    }
   ],
   "source": [
    "dataset_train.info()"
   ]
  },
  {
   "cell_type": "code",
   "execution_count": 5,
   "outputs": [
    {
     "name": "stdout",
     "output_type": "stream",
     "text": [
      "<class 'pandas.core.frame.DataFrame'>\n",
      "RangeIndex: 492019 entries, 0 to 492018\n",
      "Data columns (total 6 columns):\n",
      " #   Column             Non-Null Count   Dtype  \n",
      "---  ------             --------------   -----  \n",
      " 0   Charge_mass        492019 non-null  float64\n",
      " 1   Standoff_distance  492019 non-null  int64  \n",
      " 2   Time               492019 non-null  float64\n",
      " 3   Pressure           492019 non-null  float64\n",
      " 4   Phase_negative     492019 non-null  uint8  \n",
      " 5   Phase_positive     492019 non-null  uint8  \n",
      "dtypes: float64(3), int64(1), uint8(2)\n",
      "memory usage: 16.0 MB\n"
     ]
    }
   ],
   "source": [
    "dataset_train = pd.get_dummies(dataset_train, columns =['Phase'], dtype = np.uint8)\n",
    "dataset_train.info()"
   ],
   "metadata": {
    "collapsed": false,
    "ExecuteTime": {
     "end_time": "2023-10-04T05:58:29.054008900Z",
     "start_time": "2023-10-04T05:58:28.917719700Z"
    }
   }
  },
  {
   "cell_type": "code",
   "execution_count": 6,
   "outputs": [
    {
     "data": {
      "text/plain": "    Charge_mass  Standoff_distance     Time      Pressure  Phase_negative  \\\n0           0.5                  1  0.00067  591827.62500               0   \n1           0.5                  1  0.00068  556217.18750               0   \n2           0.5                  1  0.00069  525135.00000               0   \n3           0.5                  1  0.00070  496668.90625               0   \n4           0.5                  1  0.00071  469418.40625               0   \n5           0.5                  1  0.00072  445550.09375               0   \n6           0.5                  1  0.00073  423420.03125               0   \n7           0.5                  1  0.00074  402121.96875               0   \n8           0.5                  1  0.00075  383202.34375               0   \n9           0.5                  1  0.00076  365626.65625               0   \n10          0.5                  1  0.00077  349977.50000               0   \n11          0.5                  1  0.00078  334716.18750               0   \n12          0.5                  1  0.00079  320582.50000               0   \n13          0.5                  1  0.00080  307536.68750               0   \n14          0.5                  1  0.00081  295047.87500               0   \n15          0.5                  1  0.00082  283671.71875               0   \n16          0.5                  1  0.00083  273287.31250               0   \n17          0.5                  1  0.00084  263380.59375               0   \n18          0.5                  1  0.00085  253957.70312               0   \n19          0.5                  1  0.00086  245341.54688               0   \n20          0.5                  1  0.00087  237136.67188               0   \n21          0.5                  1  0.00088  229610.26562               0   \n22          0.5                  1  0.00089  222423.93750               0   \n23          0.5                  1  0.00090  215571.06250               0   \n24          0.5                  1  0.00091  209261.32812               0   \n25          0.5                  1  0.00092  203243.39062               0   \n26          0.5                  1  0.00093  197520.82812               0   \n27          0.5                  1  0.00094  192094.54688               0   \n28          0.5                  1  0.00095  186960.62500               0   \n29          0.5                  1  0.00096  182106.14062               0   \n\n    Phase_positive  \n0                1  \n1                1  \n2                1  \n3                1  \n4                1  \n5                1  \n6                1  \n7                1  \n8                1  \n9                1  \n10               1  \n11               1  \n12               1  \n13               1  \n14               1  \n15               1  \n16               1  \n17               1  \n18               1  \n19               1  \n20               1  \n21               1  \n22               1  \n23               1  \n24               1  \n25               1  \n26               1  \n27               1  \n28               1  \n29               1  ",
      "text/html": "<div>\n<style scoped>\n    .dataframe tbody tr th:only-of-type {\n        vertical-align: middle;\n    }\n\n    .dataframe tbody tr th {\n        vertical-align: top;\n    }\n\n    .dataframe thead th {\n        text-align: right;\n    }\n</style>\n<table border=\"1\" class=\"dataframe\">\n  <thead>\n    <tr style=\"text-align: right;\">\n      <th></th>\n      <th>Charge_mass</th>\n      <th>Standoff_distance</th>\n      <th>Time</th>\n      <th>Pressure</th>\n      <th>Phase_negative</th>\n      <th>Phase_positive</th>\n    </tr>\n  </thead>\n  <tbody>\n    <tr>\n      <th>0</th>\n      <td>0.5</td>\n      <td>1</td>\n      <td>0.00067</td>\n      <td>591827.62500</td>\n      <td>0</td>\n      <td>1</td>\n    </tr>\n    <tr>\n      <th>1</th>\n      <td>0.5</td>\n      <td>1</td>\n      <td>0.00068</td>\n      <td>556217.18750</td>\n      <td>0</td>\n      <td>1</td>\n    </tr>\n    <tr>\n      <th>2</th>\n      <td>0.5</td>\n      <td>1</td>\n      <td>0.00069</td>\n      <td>525135.00000</td>\n      <td>0</td>\n      <td>1</td>\n    </tr>\n    <tr>\n      <th>3</th>\n      <td>0.5</td>\n      <td>1</td>\n      <td>0.00070</td>\n      <td>496668.90625</td>\n      <td>0</td>\n      <td>1</td>\n    </tr>\n    <tr>\n      <th>4</th>\n      <td>0.5</td>\n      <td>1</td>\n      <td>0.00071</td>\n      <td>469418.40625</td>\n      <td>0</td>\n      <td>1</td>\n    </tr>\n    <tr>\n      <th>5</th>\n      <td>0.5</td>\n      <td>1</td>\n      <td>0.00072</td>\n      <td>445550.09375</td>\n      <td>0</td>\n      <td>1</td>\n    </tr>\n    <tr>\n      <th>6</th>\n      <td>0.5</td>\n      <td>1</td>\n      <td>0.00073</td>\n      <td>423420.03125</td>\n      <td>0</td>\n      <td>1</td>\n    </tr>\n    <tr>\n      <th>7</th>\n      <td>0.5</td>\n      <td>1</td>\n      <td>0.00074</td>\n      <td>402121.96875</td>\n      <td>0</td>\n      <td>1</td>\n    </tr>\n    <tr>\n      <th>8</th>\n      <td>0.5</td>\n      <td>1</td>\n      <td>0.00075</td>\n      <td>383202.34375</td>\n      <td>0</td>\n      <td>1</td>\n    </tr>\n    <tr>\n      <th>9</th>\n      <td>0.5</td>\n      <td>1</td>\n      <td>0.00076</td>\n      <td>365626.65625</td>\n      <td>0</td>\n      <td>1</td>\n    </tr>\n    <tr>\n      <th>10</th>\n      <td>0.5</td>\n      <td>1</td>\n      <td>0.00077</td>\n      <td>349977.50000</td>\n      <td>0</td>\n      <td>1</td>\n    </tr>\n    <tr>\n      <th>11</th>\n      <td>0.5</td>\n      <td>1</td>\n      <td>0.00078</td>\n      <td>334716.18750</td>\n      <td>0</td>\n      <td>1</td>\n    </tr>\n    <tr>\n      <th>12</th>\n      <td>0.5</td>\n      <td>1</td>\n      <td>0.00079</td>\n      <td>320582.50000</td>\n      <td>0</td>\n      <td>1</td>\n    </tr>\n    <tr>\n      <th>13</th>\n      <td>0.5</td>\n      <td>1</td>\n      <td>0.00080</td>\n      <td>307536.68750</td>\n      <td>0</td>\n      <td>1</td>\n    </tr>\n    <tr>\n      <th>14</th>\n      <td>0.5</td>\n      <td>1</td>\n      <td>0.00081</td>\n      <td>295047.87500</td>\n      <td>0</td>\n      <td>1</td>\n    </tr>\n    <tr>\n      <th>15</th>\n      <td>0.5</td>\n      <td>1</td>\n      <td>0.00082</td>\n      <td>283671.71875</td>\n      <td>0</td>\n      <td>1</td>\n    </tr>\n    <tr>\n      <th>16</th>\n      <td>0.5</td>\n      <td>1</td>\n      <td>0.00083</td>\n      <td>273287.31250</td>\n      <td>0</td>\n      <td>1</td>\n    </tr>\n    <tr>\n      <th>17</th>\n      <td>0.5</td>\n      <td>1</td>\n      <td>0.00084</td>\n      <td>263380.59375</td>\n      <td>0</td>\n      <td>1</td>\n    </tr>\n    <tr>\n      <th>18</th>\n      <td>0.5</td>\n      <td>1</td>\n      <td>0.00085</td>\n      <td>253957.70312</td>\n      <td>0</td>\n      <td>1</td>\n    </tr>\n    <tr>\n      <th>19</th>\n      <td>0.5</td>\n      <td>1</td>\n      <td>0.00086</td>\n      <td>245341.54688</td>\n      <td>0</td>\n      <td>1</td>\n    </tr>\n    <tr>\n      <th>20</th>\n      <td>0.5</td>\n      <td>1</td>\n      <td>0.00087</td>\n      <td>237136.67188</td>\n      <td>0</td>\n      <td>1</td>\n    </tr>\n    <tr>\n      <th>21</th>\n      <td>0.5</td>\n      <td>1</td>\n      <td>0.00088</td>\n      <td>229610.26562</td>\n      <td>0</td>\n      <td>1</td>\n    </tr>\n    <tr>\n      <th>22</th>\n      <td>0.5</td>\n      <td>1</td>\n      <td>0.00089</td>\n      <td>222423.93750</td>\n      <td>0</td>\n      <td>1</td>\n    </tr>\n    <tr>\n      <th>23</th>\n      <td>0.5</td>\n      <td>1</td>\n      <td>0.00090</td>\n      <td>215571.06250</td>\n      <td>0</td>\n      <td>1</td>\n    </tr>\n    <tr>\n      <th>24</th>\n      <td>0.5</td>\n      <td>1</td>\n      <td>0.00091</td>\n      <td>209261.32812</td>\n      <td>0</td>\n      <td>1</td>\n    </tr>\n    <tr>\n      <th>25</th>\n      <td>0.5</td>\n      <td>1</td>\n      <td>0.00092</td>\n      <td>203243.39062</td>\n      <td>0</td>\n      <td>1</td>\n    </tr>\n    <tr>\n      <th>26</th>\n      <td>0.5</td>\n      <td>1</td>\n      <td>0.00093</td>\n      <td>197520.82812</td>\n      <td>0</td>\n      <td>1</td>\n    </tr>\n    <tr>\n      <th>27</th>\n      <td>0.5</td>\n      <td>1</td>\n      <td>0.00094</td>\n      <td>192094.54688</td>\n      <td>0</td>\n      <td>1</td>\n    </tr>\n    <tr>\n      <th>28</th>\n      <td>0.5</td>\n      <td>1</td>\n      <td>0.00095</td>\n      <td>186960.62500</td>\n      <td>0</td>\n      <td>1</td>\n    </tr>\n    <tr>\n      <th>29</th>\n      <td>0.5</td>\n      <td>1</td>\n      <td>0.00096</td>\n      <td>182106.14062</td>\n      <td>0</td>\n      <td>1</td>\n    </tr>\n  </tbody>\n</table>\n</div>"
     },
     "execution_count": 6,
     "metadata": {},
     "output_type": "execute_result"
    }
   ],
   "source": [
    "dataset_train.head(30)"
   ],
   "metadata": {
    "collapsed": false,
    "ExecuteTime": {
     "end_time": "2023-10-04T05:58:30.616685700Z",
     "start_time": "2023-10-04T05:58:30.568250900Z"
    }
   }
  },
  {
   "cell_type": "code",
   "execution_count": 7,
   "metadata": {
    "ExecuteTime": {
     "end_time": "2023-10-04T05:58:32.122881100Z",
     "start_time": "2023-10-04T05:58:32.075056800Z"
    }
   },
   "outputs": [
    {
     "name": "stdout",
     "output_type": "stream",
     "text": [
      "(492019, 5) (492019,)\n"
     ]
    }
   ],
   "source": [
    "y = dataset_train['Pressure']\n",
    "X = dataset_train.drop(['Pressure'], axis=1)\n",
    "print(X.shape, y.shape)"
   ]
  },
  {
   "cell_type": "code",
   "execution_count": 8,
   "metadata": {
    "ExecuteTime": {
     "end_time": "2023-10-04T05:58:33.401100300Z",
     "start_time": "2023-10-04T05:58:33.321930700Z"
    }
   },
   "outputs": [],
   "source": [
    "# convert to numpy array\n",
    "X = np.array(X)\n",
    "y = np.array(y)"
   ]
  },
  {
   "cell_type": "markdown",
   "metadata": {
    "colab_type": "text",
    "id": "VC6omXel_Up0"
   },
   "source": [
    "### Splitting the dataset into the Training set and Test set"
   ]
  },
  {
   "cell_type": "code",
   "execution_count": 9,
   "metadata": {
    "colab": {},
    "colab_type": "code",
    "id": "L5edeb2r_agx",
    "ExecuteTime": {
     "end_time": "2023-10-04T05:58:35.882109400Z",
     "start_time": "2023-10-04T05:58:34.843482300Z"
    }
   },
   "outputs": [],
   "source": [
    "from sklearn.model_selection import train_test_split\n",
    "X_train, X_test, y_train, y_test = train_test_split(X,\n",
    "                                                    y,\n",
    "                                                    test_size = 0.4,\n",
    "                                                    random_state = 0)"
   ]
  },
  {
   "cell_type": "code",
   "execution_count": 10,
   "metadata": {
    "colab": {},
    "colab_type": "code",
    "id": "L5edeb2r_agx",
    "ExecuteTime": {
     "end_time": "2023-10-04T05:58:37.430488800Z",
     "start_time": "2023-10-04T05:58:37.350735500Z"
    }
   },
   "outputs": [],
   "source": [
    "X_val, X_test, y_val, y_test = train_test_split(X_test,\n",
    "                                                y_test,\n",
    "                                                test_size = 0.5,\n",
    "                                                random_state = 0)"
   ]
  },
  {
   "cell_type": "markdown",
   "source": [
    "## Feature scaling"
   ],
   "metadata": {
    "collapsed": false
   }
  },
  {
   "cell_type": "code",
   "execution_count": 11,
   "outputs": [
    {
     "name": "stdout",
     "output_type": "stream",
     "text": [
      "[[-1.11558794  0.43902902  0.40860138  1.          0.        ]\n",
      " [-1.83149237 -1.32802297 -1.10299844  1.          0.        ]\n",
      " [ 1.03212534 -0.44449698 -0.9816199   1.          0.        ]\n",
      " ...\n",
      " [ 1.33894152  0.43902902 -0.15265695  1.          0.        ]\n",
      " [ 0.6230371  -1.32802297  0.5075946   1.          0.        ]\n",
      " [-1.72922031 -0.44449698 -0.88346605  1.          0.        ]]\n"
     ]
    }
   ],
   "source": [
    "from sklearn.preprocessing import StandardScaler\n",
    "sc = StandardScaler()\n",
    "X_train[:,0:3] = sc.fit_transform(X_train[:, 0:3])\n",
    "print (X_train)"
   ],
   "metadata": {
    "collapsed": false,
    "ExecuteTime": {
     "end_time": "2023-10-04T05:58:39.338240200Z",
     "start_time": "2023-10-04T05:58:39.290369Z"
    }
   }
  },
  {
   "cell_type": "code",
   "execution_count": 12,
   "outputs": [
    {
     "name": "stdout",
     "output_type": "stream",
     "text": [
      "[[ 0.92985328 -0.44449698 -1.49808719  1.          0.        ]\n",
      " [-0.39968351  0.43902902 -1.30699156  0.          1.        ]\n",
      " [-1.01331588  0.43902902  0.31822281  1.          0.        ]\n",
      " ...\n",
      " [-0.39968351  1.32255501  0.65650805  1.          0.        ]\n",
      " [ 0.31622091  0.43902902  1.37959509  1.          0.        ]\n",
      " [-0.29741145 -1.32802297 -1.46796614  1.          0.        ]]\n"
     ]
    }
   ],
   "source": [
    "X_test[:,0:3] = sc.transform(X_test[:,0:3])\n",
    "print (X_test)"
   ],
   "metadata": {
    "collapsed": false,
    "ExecuteTime": {
     "end_time": "2023-10-04T05:58:40.920744600Z",
     "start_time": "2023-10-04T05:58:40.824904400Z"
    }
   }
  },
  {
   "cell_type": "code",
   "execution_count": 13,
   "outputs": [
    {
     "name": "stdout",
     "output_type": "stream",
     "text": [
      "[[-0.29741145 -1.32802297 -0.07001311  1.          0.        ]\n",
      " [-0.7064997   0.43902902 -0.26110084  1.          0.        ]\n",
      " [-1.11558794  0.43902902 -0.72422921  1.          0.        ]\n",
      " ...\n",
      " [-0.91104382 -0.44449698 -0.03128483  1.          0.        ]\n",
      " [-1.52467619 -0.44449698  0.09009324  1.          0.        ]\n",
      " [ 1.44121358  1.32255501  1.56811516  1.          0.        ]]\n"
     ]
    }
   ],
   "source": [
    "X_val[:,0:3] = sc.transform(X_val[:,0:3])\n",
    "print (X_val)"
   ],
   "metadata": {
    "collapsed": false,
    "ExecuteTime": {
     "end_time": "2023-10-04T05:58:42.366493100Z",
     "start_time": "2023-10-04T05:58:42.319704700Z"
    }
   }
  },
  {
   "cell_type": "code",
   "execution_count": 14,
   "outputs": [
    {
     "name": "stdout",
     "output_type": "stream",
     "text": [
      "X_train 295211\n",
      "X_test 98404\n",
      "X_val 98404\n"
     ]
    }
   ],
   "source": [
    "print (\"X_train\", len(X_train))\n",
    "print (\"X_test\", len(X_test))\n",
    "print (\"X_val\", len(X_val))"
   ],
   "metadata": {
    "collapsed": false,
    "ExecuteTime": {
     "end_time": "2023-10-04T05:58:43.459717200Z",
     "start_time": "2023-10-04T05:58:43.412301300Z"
    }
   }
  },
  {
   "cell_type": "markdown",
   "metadata": {
    "colab_type": "text",
    "id": "_mSLlAT9_eyI"
   },
   "source": [
    "## Part 3 - Building the ANN"
   ]
  },
  {
   "cell_type": "markdown",
   "metadata": {
    "colab_type": "text",
    "id": "CsBULd_f_wLY"
   },
   "source": [
    "### Initializing the ANN"
   ]
  },
  {
   "cell_type": "code",
   "execution_count": 15,
   "metadata": {
    "colab": {},
    "colab_type": "code",
    "id": "J6Hd97Ls__Nz",
    "ExecuteTime": {
     "end_time": "2023-10-04T05:58:45.779748200Z",
     "start_time": "2023-10-04T05:58:45.731350300Z"
    }
   },
   "outputs": [],
   "source": [
    "ann = tf.keras.models.Sequential()"
   ]
  },
  {
   "cell_type": "markdown",
   "metadata": {
    "colab_type": "text",
    "id": "iitAFJS_ABUn"
   },
   "source": [
    "### Adding the input layer and the first hidden layer"
   ]
  },
  {
   "cell_type": "code",
   "execution_count": 16,
   "metadata": {
    "colab": {},
    "colab_type": "code",
    "id": "ksO_Vv40AHix",
    "ExecuteTime": {
     "end_time": "2023-10-04T05:59:21.585931200Z",
     "start_time": "2023-10-04T05:59:21.499262400Z"
    }
   },
   "outputs": [],
   "source": [
    "ann.add(tf.keras.layers.Dense(units=300,\n",
    "                              input_shape=(X_train.shape[1],),\n",
    "                              activation='softplus'))"
   ]
  },
  {
   "cell_type": "markdown",
   "metadata": {
    "colab_type": "text",
    "id": "-lb4kK_wAKbs"
   },
   "source": [
    "### Adding the second hidden layer"
   ]
  },
  {
   "cell_type": "code",
   "execution_count": 17,
   "metadata": {
    "colab": {},
    "colab_type": "code",
    "id": "c2357OqEAQOQ",
    "tags": [],
    "ExecuteTime": {
     "end_time": "2023-10-04T05:59:23.463628900Z",
     "start_time": "2023-10-04T05:59:23.399689400Z"
    }
   },
   "outputs": [],
   "source": [
    "ann.add(tf.keras.layers.Dense(units=250,\n",
    "                              activation='softplus'))"
   ]
  },
  {
   "cell_type": "markdown",
   "metadata": {
    "colab_type": "text",
    "id": "-lb4kK_wAKbs"
   },
   "source": [
    "### Adding the third hidden layer"
   ]
  },
  {
   "cell_type": "code",
   "execution_count": 18,
   "metadata": {
    "colab": {},
    "colab_type": "code",
    "id": "c2357OqEAQOQ",
    "tags": [],
    "ExecuteTime": {
     "end_time": "2023-10-04T05:59:25.203214200Z",
     "start_time": "2023-10-04T05:59:25.085848900Z"
    }
   },
   "outputs": [],
   "source": [
    "ann.add(tf.keras.layers.Dense(units=200,\n",
    "                              activation='softplus'))"
   ]
  },
  {
   "cell_type": "markdown",
   "source": [
    "### Adding the fourth hidden layer"
   ],
   "metadata": {
    "collapsed": false
   }
  },
  {
   "cell_type": "code",
   "execution_count": 19,
   "outputs": [],
   "source": [
    "ann.add(tf.keras.layers.Dense(units=150,\n",
    "                              activation='softplus'))"
   ],
   "metadata": {
    "collapsed": false,
    "ExecuteTime": {
     "end_time": "2023-10-04T05:59:29.528369300Z",
     "start_time": "2023-10-04T05:59:29.481027200Z"
    }
   }
  },
  {
   "cell_type": "markdown",
   "metadata": {
    "colab_type": "text",
    "id": "jwMOmKb3AdBY"
   },
   "source": [
    "### Adding the output layer"
   ]
  },
  {
   "cell_type": "code",
   "execution_count": 20,
   "metadata": {
    "colab": {},
    "colab_type": "code",
    "id": "YFATpzsUAkLL",
    "ExecuteTime": {
     "end_time": "2023-10-04T05:59:31.371908900Z",
     "start_time": "2023-10-04T05:59:31.323944300Z"
    }
   },
   "outputs": [],
   "source": [
    "ann.add(tf.keras.layers.Dense(units=1,\n",
    "                              activation='linear'))"
   ]
  },
  {
   "cell_type": "markdown",
   "metadata": {},
   "source": [
    "### what model looks like"
   ]
  },
  {
   "cell_type": "code",
   "execution_count": 21,
   "metadata": {
    "ExecuteTime": {
     "end_time": "2023-10-04T05:59:32.786494900Z",
     "start_time": "2023-10-04T05:59:32.691063400Z"
    }
   },
   "outputs": [
    {
     "name": "stdout",
     "output_type": "stream",
     "text": [
      "Model: \"sequential\"\n",
      "_________________________________________________________________\n",
      " Layer (type)                Output Shape              Param #   \n",
      "=================================================================\n",
      " dense (Dense)               (None, 300)               1800      \n",
      "                                                                 \n",
      " dense_1 (Dense)             (None, 250)               75250     \n",
      "                                                                 \n",
      " dense_2 (Dense)             (None, 200)               50200     \n",
      "                                                                 \n",
      " dense_3 (Dense)             (None, 150)               30150     \n",
      "                                                                 \n",
      " dense_4 (Dense)             (None, 1)                 151       \n",
      "                                                                 \n",
      "=================================================================\n",
      "Total params: 157,551\n",
      "Trainable params: 157,551\n",
      "Non-trainable params: 0\n",
      "_________________________________________________________________\n"
     ]
    }
   ],
   "source": [
    "ann.summary()"
   ]
  },
  {
   "cell_type": "markdown",
   "metadata": {
    "colab_type": "text",
    "id": "fq7e4fF6A1yy"
   },
   "source": [
    "## Part 4 - Training the ANN"
   ]
  },
  {
   "cell_type": "markdown",
   "metadata": {
    "colab_type": "text",
    "id": "qDeylAs2An25"
   },
   "source": [
    "### Compiling the ANN"
   ]
  },
  {
   "cell_type": "code",
   "execution_count": 22,
   "metadata": {
    "colab": {},
    "colab_type": "code",
    "id": "pesgbWlCAtB4",
    "ExecuteTime": {
     "end_time": "2023-10-04T05:59:35.695308500Z",
     "start_time": "2023-10-04T05:59:35.632736400Z"
    }
   },
   "outputs": [],
   "source": [
    "# from tensorflow.keras.optimizers import Adam\n",
    "from keras.optimizers import Adam\n",
    "opt = Adam(learning_rate=0.001)\n",
    "ann.compile(optimizer = opt,\n",
    "            loss = 'mean_squared_error',\n",
    "            metrics = ['mae'])"
   ]
  },
  {
   "cell_type": "markdown",
   "metadata": {},
   "source": [
    "### early stopping callback"
   ]
  },
  {
   "cell_type": "code",
   "execution_count": 23,
   "metadata": {
    "ExecuteTime": {
     "end_time": "2023-10-04T05:59:37.630515700Z",
     "start_time": "2023-10-04T05:59:37.585725500Z"
    }
   },
   "outputs": [],
   "source": [
    "# protects from unnecessary further training of the model if a particular metric does not continue to improve over a number of n epochs. In such a case, the model training would be automatically aborted.\n",
    "from keras.callbacks import EarlyStopping\n",
    "es = EarlyStopping(monitor='val_loss',\n",
    "                   mode='min',\n",
    "                   patience=50,\n",
    "                   restore_best_weights = True)"
   ]
  },
  {
   "cell_type": "markdown",
   "metadata": {
    "colab_type": "text",
    "id": "YjVuiybYOo7r"
   },
   "source": [
    "### Training the ANN model on the Training set"
   ]
  },
  {
   "cell_type": "code",
   "execution_count": 24,
   "metadata": {
    "colab": {
     "base_uri": "https://localhost:8080/",
     "height": 1000
    },
    "colab_type": "code",
    "id": "c_vV-tiiA5zn",
    "outputId": "4a2b6ee6-ed75-4698-9069-b250e613803f",
    "ExecuteTime": {
     "end_time": "2023-10-04T11:21:15.605627700Z",
     "start_time": "2023-10-04T05:59:39.439935400Z"
    }
   },
   "outputs": [
    {
     "name": "stdout",
     "output_type": "stream",
     "text": [
      "Epoch 1/500\n",
      "5905/5905 [==============================] - 37s 6ms/step - loss: 8661477376.0000 - mae: 18593.4219 - val_loss: 9319149568.0000 - val_mae: 27341.9199\n",
      "Epoch 2/500\n",
      "5905/5905 [==============================] - 34s 6ms/step - loss: 7711780352.0000 - mae: 17670.3652 - val_loss: 8245117952.0000 - val_mae: 16971.1484\n",
      "Epoch 3/500\n",
      "5905/5905 [==============================] - 36s 6ms/step - loss: 6986118656.0000 - mae: 16031.9023 - val_loss: 7776518144.0000 - val_mae: 16057.5000\n",
      "Epoch 4/500\n",
      "5905/5905 [==============================] - 36s 6ms/step - loss: 7000255488.0000 - mae: 15062.4219 - val_loss: 7638188032.0000 - val_mae: 15303.7061\n",
      "Epoch 5/500\n",
      "5905/5905 [==============================] - 36s 6ms/step - loss: 7008591872.0000 - mae: 14964.9941 - val_loss: 7756449280.0000 - val_mae: 16178.1211\n",
      "Epoch 6/500\n",
      "5905/5905 [==============================] - 35s 6ms/step - loss: 6847172096.0000 - mae: 14531.2881 - val_loss: 7705436672.0000 - val_mae: 13237.3545\n",
      "Epoch 7/500\n",
      "5905/5905 [==============================] - 35s 6ms/step - loss: 6903713280.0000 - mae: 14430.0527 - val_loss: 7515816448.0000 - val_mae: 13198.9238\n",
      "Epoch 8/500\n",
      "5905/5905 [==============================] - 35s 6ms/step - loss: 6889653248.0000 - mae: 14244.8174 - val_loss: 7579949056.0000 - val_mae: 17942.0098\n",
      "Epoch 9/500\n",
      "5905/5905 [==============================] - 36s 6ms/step - loss: 6824160256.0000 - mae: 13993.5195 - val_loss: 7462233088.0000 - val_mae: 16800.3652\n",
      "Epoch 10/500\n",
      "5905/5905 [==============================] - 34s 6ms/step - loss: 6792423936.0000 - mae: 13754.1748 - val_loss: 7548494848.0000 - val_mae: 12195.4951\n",
      "Epoch 11/500\n",
      "5905/5905 [==============================] - 34s 6ms/step - loss: 6664872960.0000 - mae: 13585.8535 - val_loss: 7310065152.0000 - val_mae: 14594.2285\n",
      "Epoch 12/500\n",
      "5905/5905 [==============================] - 33s 6ms/step - loss: 6579118080.0000 - mae: 13391.4590 - val_loss: 7109470208.0000 - val_mae: 12611.2832\n",
      "Epoch 13/500\n",
      "5905/5905 [==============================] - 34s 6ms/step - loss: 6451057664.0000 - mae: 13170.4902 - val_loss: 7139430912.0000 - val_mae: 14455.0830\n",
      "Epoch 14/500\n",
      "5905/5905 [==============================] - 34s 6ms/step - loss: 6313897472.0000 - mae: 12893.7822 - val_loss: 7106010624.0000 - val_mae: 12434.7539\n",
      "Epoch 15/500\n",
      "5905/5905 [==============================] - 34s 6ms/step - loss: 6165794816.0000 - mae: 12733.1416 - val_loss: 6934710784.0000 - val_mae: 14644.2451\n",
      "Epoch 16/500\n",
      "5905/5905 [==============================] - 34s 6ms/step - loss: 6212393472.0000 - mae: 12513.2305 - val_loss: 6810557440.0000 - val_mae: 13429.7119\n",
      "Epoch 17/500\n",
      "5905/5905 [==============================] - 35s 6ms/step - loss: 6008313856.0000 - mae: 12256.4844 - val_loss: 6908741632.0000 - val_mae: 15427.8164\n",
      "Epoch 18/500\n",
      "5905/5905 [==============================] - 34s 6ms/step - loss: 6029071872.0000 - mae: 12183.6338 - val_loss: 7427981824.0000 - val_mae: 11538.7178\n",
      "Epoch 19/500\n",
      "5905/5905 [==============================] - 34s 6ms/step - loss: 6039308800.0000 - mae: 11695.6631 - val_loss: 6471886848.0000 - val_mae: 12265.9639\n",
      "Epoch 20/500\n",
      "5905/5905 [==============================] - 34s 6ms/step - loss: 5911973376.0000 - mae: 11052.2559 - val_loss: 6356494848.0000 - val_mae: 10514.9238\n",
      "Epoch 21/500\n",
      "5905/5905 [==============================] - 34s 6ms/step - loss: 5916614656.0000 - mae: 10411.6455 - val_loss: 6269786112.0000 - val_mae: 9339.6924\n",
      "Epoch 22/500\n",
      "5905/5905 [==============================] - 34s 6ms/step - loss: 5816763904.0000 - mae: 9908.8828 - val_loss: 6351890944.0000 - val_mae: 9231.3457\n",
      "Epoch 23/500\n",
      "5905/5905 [==============================] - 33s 6ms/step - loss: 5782921216.0000 - mae: 9553.3652 - val_loss: 6284122112.0000 - val_mae: 11152.2344\n",
      "Epoch 24/500\n",
      "5905/5905 [==============================] - 34s 6ms/step - loss: 5669623296.0000 - mae: 9164.3320 - val_loss: 6577078784.0000 - val_mae: 7955.1489\n",
      "Epoch 25/500\n",
      "5905/5905 [==============================] - 34s 6ms/step - loss: 5703953408.0000 - mae: 8981.2568 - val_loss: 6180105728.0000 - val_mae: 8220.3154\n",
      "Epoch 26/500\n",
      "5905/5905 [==============================] - 34s 6ms/step - loss: 5759699968.0000 - mae: 8762.0508 - val_loss: 6353854464.0000 - val_mae: 10824.8730\n",
      "Epoch 27/500\n",
      "5905/5905 [==============================] - 34s 6ms/step - loss: 5697596928.0000 - mae: 8687.3809 - val_loss: 6138635264.0000 - val_mae: 8888.6572\n",
      "Epoch 28/500\n",
      "5905/5905 [==============================] - 33s 6ms/step - loss: 5675483648.0000 - mae: 8539.3428 - val_loss: 6350952448.0000 - val_mae: 7491.0645\n",
      "Epoch 29/500\n",
      "5905/5905 [==============================] - 34s 6ms/step - loss: 5572538880.0000 - mae: 8467.1553 - val_loss: 6395769344.0000 - val_mae: 8744.5391\n",
      "Epoch 30/500\n",
      "5905/5905 [==============================] - 34s 6ms/step - loss: 5587823616.0000 - mae: 8262.3232 - val_loss: 6132491776.0000 - val_mae: 7571.0518\n",
      "Epoch 31/500\n",
      "5905/5905 [==============================] - 34s 6ms/step - loss: 5579059712.0000 - mae: 8076.3872 - val_loss: 6059997696.0000 - val_mae: 7551.1143\n",
      "Epoch 32/500\n",
      "5905/5905 [==============================] - 34s 6ms/step - loss: 5622219264.0000 - mae: 7985.5420 - val_loss: 6119612928.0000 - val_mae: 7443.8315\n",
      "Epoch 33/500\n",
      "5905/5905 [==============================] - 34s 6ms/step - loss: 5601955328.0000 - mae: 7887.7441 - val_loss: 6109714432.0000 - val_mae: 7184.2583\n",
      "Epoch 34/500\n",
      "5905/5905 [==============================] - 34s 6ms/step - loss: 5608685568.0000 - mae: 7771.8853 - val_loss: 6176205312.0000 - val_mae: 9665.1670\n",
      "Epoch 35/500\n",
      "5905/5905 [==============================] - 34s 6ms/step - loss: 5585602560.0000 - mae: 7750.4736 - val_loss: 6532230656.0000 - val_mae: 10416.0146\n",
      "Epoch 36/500\n",
      "5905/5905 [==============================] - 35s 6ms/step - loss: 5583694336.0000 - mae: 7581.6753 - val_loss: 6420716544.0000 - val_mae: 6792.0259\n",
      "Epoch 37/500\n",
      "5905/5905 [==============================] - 34s 6ms/step - loss: 5562823168.0000 - mae: 7336.6416 - val_loss: 6863335424.0000 - val_mae: 13815.7451\n",
      "Epoch 38/500\n",
      "5905/5905 [==============================] - 34s 6ms/step - loss: 5517203456.0000 - mae: 7354.1289 - val_loss: 6112872960.0000 - val_mae: 6513.0977\n",
      "Epoch 39/500\n",
      "5905/5905 [==============================] - 34s 6ms/step - loss: 5533832704.0000 - mae: 7260.3467 - val_loss: 6008859136.0000 - val_mae: 7879.6035\n",
      "Epoch 40/500\n",
      "5905/5905 [==============================] - 34s 6ms/step - loss: 5476741632.0000 - mae: 7151.1602 - val_loss: 6205453312.0000 - val_mae: 7327.2974\n",
      "Epoch 41/500\n",
      "5905/5905 [==============================] - 35s 6ms/step - loss: 5566144000.0000 - mae: 7110.4697 - val_loss: 6002471936.0000 - val_mae: 6161.9819\n",
      "Epoch 42/500\n",
      "5905/5905 [==============================] - 35s 6ms/step - loss: 5538355712.0000 - mae: 6994.1709 - val_loss: 6012069376.0000 - val_mae: 7219.5771\n",
      "Epoch 43/500\n",
      "5905/5905 [==============================] - 34s 6ms/step - loss: 5481013760.0000 - mae: 6952.8203 - val_loss: 6023583744.0000 - val_mae: 6257.8921\n",
      "Epoch 44/500\n",
      "5905/5905 [==============================] - 35s 6ms/step - loss: 5526431744.0000 - mae: 6684.0894 - val_loss: 6281697792.0000 - val_mae: 8354.2871\n",
      "Epoch 45/500\n",
      "5905/5905 [==============================] - 35s 6ms/step - loss: 5488747008.0000 - mae: 6605.6597 - val_loss: 6135833088.0000 - val_mae: 5801.7290\n",
      "Epoch 46/500\n",
      "5905/5905 [==============================] - 34s 6ms/step - loss: 5437209600.0000 - mae: 6617.7583 - val_loss: 6034588672.0000 - val_mae: 5450.7070\n",
      "Epoch 47/500\n",
      "5905/5905 [==============================] - 35s 6ms/step - loss: 5469085696.0000 - mae: 6442.0142 - val_loss: 5937403392.0000 - val_mae: 5350.0898\n",
      "Epoch 48/500\n",
      "5905/5905 [==============================] - 36s 6ms/step - loss: 5397176320.0000 - mae: 6406.2998 - val_loss: 6068349952.0000 - val_mae: 6005.1616\n",
      "Epoch 49/500\n",
      "5905/5905 [==============================] - 35s 6ms/step - loss: 5488076288.0000 - mae: 6368.1929 - val_loss: 5917969920.0000 - val_mae: 6049.6792\n",
      "Epoch 50/500\n",
      "5905/5905 [==============================] - 35s 6ms/step - loss: 5468570624.0000 - mae: 6160.4497 - val_loss: 6072823808.0000 - val_mae: 5759.2607\n",
      "Epoch 51/500\n",
      "5905/5905 [==============================] - 35s 6ms/step - loss: 5439287296.0000 - mae: 6267.1685 - val_loss: 5954167296.0000 - val_mae: 6378.9116\n",
      "Epoch 52/500\n",
      "5905/5905 [==============================] - 35s 6ms/step - loss: 5430204416.0000 - mae: 6074.4116 - val_loss: 6456904192.0000 - val_mae: 5306.1968\n",
      "Epoch 53/500\n",
      "5905/5905 [==============================] - 36s 6ms/step - loss: 5459979264.0000 - mae: 6101.6855 - val_loss: 6416961024.0000 - val_mae: 7161.9185\n",
      "Epoch 54/500\n",
      "5905/5905 [==============================] - 35s 6ms/step - loss: 5438509568.0000 - mae: 6099.1392 - val_loss: 6069332480.0000 - val_mae: 4872.6665\n",
      "Epoch 55/500\n",
      "5905/5905 [==============================] - 36s 6ms/step - loss: 5435341824.0000 - mae: 5885.6641 - val_loss: 5916362240.0000 - val_mae: 5904.7617\n",
      "Epoch 56/500\n",
      "5905/5905 [==============================] - 37s 6ms/step - loss: 5415551488.0000 - mae: 5815.3262 - val_loss: 5911199744.0000 - val_mae: 5196.0098\n",
      "Epoch 57/500\n",
      "5905/5905 [==============================] - 36s 6ms/step - loss: 5395272192.0000 - mae: 5841.5835 - val_loss: 6032157696.0000 - val_mae: 6280.1494\n",
      "Epoch 58/500\n",
      "5905/5905 [==============================] - 37s 6ms/step - loss: 5347075584.0000 - mae: 5726.7056 - val_loss: 6085894144.0000 - val_mae: 5334.2993\n",
      "Epoch 59/500\n",
      "5905/5905 [==============================] - 37s 6ms/step - loss: 5389729792.0000 - mae: 5852.6938 - val_loss: 6459956736.0000 - val_mae: 6442.3403\n",
      "Epoch 60/500\n",
      "5905/5905 [==============================] - 36s 6ms/step - loss: 5392984064.0000 - mae: 5790.0239 - val_loss: 6106744832.0000 - val_mae: 4943.1812\n",
      "Epoch 61/500\n",
      "5905/5905 [==============================] - 37s 6ms/step - loss: 5411818496.0000 - mae: 5747.2510 - val_loss: 6109349888.0000 - val_mae: 4500.5083\n",
      "Epoch 62/500\n",
      "5905/5905 [==============================] - 37s 6ms/step - loss: 5390699008.0000 - mae: 5690.8130 - val_loss: 5957310464.0000 - val_mae: 7016.1465\n",
      "Epoch 63/500\n",
      "5905/5905 [==============================] - 40s 7ms/step - loss: 5322485760.0000 - mae: 5488.3760 - val_loss: 6009911808.0000 - val_mae: 5592.5435\n",
      "Epoch 64/500\n",
      "5905/5905 [==============================] - 38s 6ms/step - loss: 5298063872.0000 - mae: 5545.2739 - val_loss: 5895158272.0000 - val_mae: 8409.2109\n",
      "Epoch 65/500\n",
      "5905/5905 [==============================] - 37s 6ms/step - loss: 5332126720.0000 - mae: 5372.2900 - val_loss: 6235121152.0000 - val_mae: 4897.4468\n",
      "Epoch 66/500\n",
      "5905/5905 [==============================] - 37s 6ms/step - loss: 5413364224.0000 - mae: 5372.2393 - val_loss: 6084043264.0000 - val_mae: 4748.8491\n",
      "Epoch 67/500\n",
      "5905/5905 [==============================] - 37s 6ms/step - loss: 5358244864.0000 - mae: 5600.7148 - val_loss: 6086090240.0000 - val_mae: 4366.6118\n",
      "Epoch 68/500\n",
      "5905/5905 [==============================] - 37s 6ms/step - loss: 5343459328.0000 - mae: 5456.7031 - val_loss: 5816122368.0000 - val_mae: 5913.2529\n",
      "Epoch 69/500\n",
      "5905/5905 [==============================] - 37s 6ms/step - loss: 5215031808.0000 - mae: 5460.4673 - val_loss: 5799520256.0000 - val_mae: 6639.7046\n",
      "Epoch 70/500\n",
      "5905/5905 [==============================] - 37s 6ms/step - loss: 5333549056.0000 - mae: 5362.3403 - val_loss: 5832323072.0000 - val_mae: 5018.9014\n",
      "Epoch 71/500\n",
      "5905/5905 [==============================] - 37s 6ms/step - loss: 5358681600.0000 - mae: 5306.1587 - val_loss: 6839409664.0000 - val_mae: 7402.0952\n",
      "Epoch 72/500\n",
      "5905/5905 [==============================] - 37s 6ms/step - loss: 5299957248.0000 - mae: 5204.1831 - val_loss: 5903830016.0000 - val_mae: 5641.6050\n",
      "Epoch 73/500\n",
      "5905/5905 [==============================] - 37s 6ms/step - loss: 5355911168.0000 - mae: 5274.7725 - val_loss: 6110679552.0000 - val_mae: 8169.2632\n",
      "Epoch 74/500\n",
      "5905/5905 [==============================] - 37s 6ms/step - loss: 5274450944.0000 - mae: 5241.5312 - val_loss: 5801848320.0000 - val_mae: 4949.3608\n",
      "Epoch 75/500\n",
      "5905/5905 [==============================] - 37s 6ms/step - loss: 5327342080.0000 - mae: 5337.0659 - val_loss: 6075432448.0000 - val_mae: 4835.4673\n",
      "Epoch 76/500\n",
      "5905/5905 [==============================] - 36s 6ms/step - loss: 5343976960.0000 - mae: 5256.9971 - val_loss: 5778385920.0000 - val_mae: 4335.0127\n",
      "Epoch 77/500\n",
      "5905/5905 [==============================] - 37s 6ms/step - loss: 5370843136.0000 - mae: 5195.3228 - val_loss: 6115551232.0000 - val_mae: 5632.8677\n",
      "Epoch 78/500\n",
      "5905/5905 [==============================] - 37s 6ms/step - loss: 5260470272.0000 - mae: 5189.4702 - val_loss: 6082612736.0000 - val_mae: 4743.8281\n",
      "Epoch 79/500\n",
      "5905/5905 [==============================] - 36s 6ms/step - loss: 5274305024.0000 - mae: 5149.7412 - val_loss: 6131807744.0000 - val_mae: 4441.6724\n",
      "Epoch 80/500\n",
      "5905/5905 [==============================] - 37s 6ms/step - loss: 5277681152.0000 - mae: 5204.0376 - val_loss: 5787675136.0000 - val_mae: 5781.1333\n",
      "Epoch 81/500\n",
      "5905/5905 [==============================] - 37s 6ms/step - loss: 5256695808.0000 - mae: 5135.3667 - val_loss: 6126564352.0000 - val_mae: 4799.0845\n",
      "Epoch 82/500\n",
      "5905/5905 [==============================] - 37s 6ms/step - loss: 5248892928.0000 - mae: 5159.7090 - val_loss: 6366344192.0000 - val_mae: 6709.7876\n",
      "Epoch 83/500\n",
      "5905/5905 [==============================] - 36s 6ms/step - loss: 5299749888.0000 - mae: 5197.6011 - val_loss: 5744358912.0000 - val_mae: 4642.4780\n",
      "Epoch 84/500\n",
      "5905/5905 [==============================] - 37s 6ms/step - loss: 5325657600.0000 - mae: 5175.9229 - val_loss: 5736178176.0000 - val_mae: 4805.9736\n",
      "Epoch 85/500\n",
      "5905/5905 [==============================] - 38s 6ms/step - loss: 5257881600.0000 - mae: 5128.1582 - val_loss: 6658280448.0000 - val_mae: 4670.9604\n",
      "Epoch 86/500\n",
      "5905/5905 [==============================] - 37s 6ms/step - loss: 5201180160.0000 - mae: 5188.8145 - val_loss: 6387548672.0000 - val_mae: 4892.3652\n",
      "Epoch 87/500\n",
      "5905/5905 [==============================] - 37s 6ms/step - loss: 5284233728.0000 - mae: 5060.8296 - val_loss: 6431405568.0000 - val_mae: 4517.0894\n",
      "Epoch 88/500\n",
      "5905/5905 [==============================] - 37s 6ms/step - loss: 5282138624.0000 - mae: 5103.6626 - val_loss: 5770550784.0000 - val_mae: 4343.8867\n",
      "Epoch 89/500\n",
      "5905/5905 [==============================] - 36s 6ms/step - loss: 5215168512.0000 - mae: 4993.1987 - val_loss: 5772387328.0000 - val_mae: 4452.5591\n",
      "Epoch 90/500\n",
      "5905/5905 [==============================] - 36s 6ms/step - loss: 5275055104.0000 - mae: 5107.9517 - val_loss: 5706060288.0000 - val_mae: 5158.9966\n",
      "Epoch 91/500\n",
      "5905/5905 [==============================] - 36s 6ms/step - loss: 5279361024.0000 - mae: 5182.0684 - val_loss: 5825005568.0000 - val_mae: 4366.2251\n",
      "Epoch 92/500\n",
      "5905/5905 [==============================] - 35s 6ms/step - loss: 5279336960.0000 - mae: 5007.9780 - val_loss: 6822244352.0000 - val_mae: 6570.2329\n",
      "Epoch 93/500\n",
      "5905/5905 [==============================] - 36s 6ms/step - loss: 5257979392.0000 - mae: 5106.2871 - val_loss: 5938368000.0000 - val_mae: 4556.7495\n",
      "Epoch 94/500\n",
      "5905/5905 [==============================] - 36s 6ms/step - loss: 5307334656.0000 - mae: 4990.3643 - val_loss: 5674671616.0000 - val_mae: 4139.1821\n",
      "Epoch 95/500\n",
      "5905/5905 [==============================] - 37s 6ms/step - loss: 5236862976.0000 - mae: 4994.6582 - val_loss: 6123593728.0000 - val_mae: 5280.9116\n",
      "Epoch 96/500\n",
      "5905/5905 [==============================] - 37s 6ms/step - loss: 5345472000.0000 - mae: 4953.5942 - val_loss: 5716679168.0000 - val_mae: 4334.3882\n",
      "Epoch 97/500\n",
      "5905/5905 [==============================] - 36s 6ms/step - loss: 5223445504.0000 - mae: 5052.1455 - val_loss: 5706870272.0000 - val_mae: 4977.1953\n",
      "Epoch 98/500\n",
      "5905/5905 [==============================] - 37s 6ms/step - loss: 5280811520.0000 - mae: 4884.8271 - val_loss: 6072339456.0000 - val_mae: 6106.5850\n",
      "Epoch 99/500\n",
      "5905/5905 [==============================] - 37s 6ms/step - loss: 5322057216.0000 - mae: 4916.2925 - val_loss: 5770980864.0000 - val_mae: 5430.1699\n",
      "Epoch 100/500\n",
      "5905/5905 [==============================] - 36s 6ms/step - loss: 5263100416.0000 - mae: 5002.1021 - val_loss: 5629959168.0000 - val_mae: 4600.8564\n",
      "Epoch 101/500\n",
      "5905/5905 [==============================] - 37s 6ms/step - loss: 5192231424.0000 - mae: 4964.9858 - val_loss: 6170873856.0000 - val_mae: 4620.5376\n",
      "Epoch 102/500\n",
      "5905/5905 [==============================] - 36s 6ms/step - loss: 5279229952.0000 - mae: 4839.8169 - val_loss: 6453917184.0000 - val_mae: 7866.7632\n",
      "Epoch 103/500\n",
      "5905/5905 [==============================] - 36s 6ms/step - loss: 5290172416.0000 - mae: 4798.6348 - val_loss: 6321560576.0000 - val_mae: 4604.6680\n",
      "Epoch 104/500\n",
      "5905/5905 [==============================] - 37s 6ms/step - loss: 5193003008.0000 - mae: 4902.0513 - val_loss: 5872764416.0000 - val_mae: 5074.2461\n",
      "Epoch 105/500\n",
      "5905/5905 [==============================] - 36s 6ms/step - loss: 5253465088.0000 - mae: 4769.2656 - val_loss: 6497895424.0000 - val_mae: 4428.1128\n",
      "Epoch 106/500\n",
      "5905/5905 [==============================] - 36s 6ms/step - loss: 5160822784.0000 - mae: 4688.5059 - val_loss: 5885642752.0000 - val_mae: 3940.4443\n",
      "Epoch 107/500\n",
      "5905/5905 [==============================] - 36s 6ms/step - loss: 5253549568.0000 - mae: 4842.8613 - val_loss: 5729752576.0000 - val_mae: 4625.5532\n",
      "Epoch 108/500\n",
      "5905/5905 [==============================] - 37s 6ms/step - loss: 5251059200.0000 - mae: 4662.5493 - val_loss: 5859488256.0000 - val_mae: 4349.5981\n",
      "Epoch 109/500\n",
      "5905/5905 [==============================] - 36s 6ms/step - loss: 5303597568.0000 - mae: 4906.6479 - val_loss: 5940619776.0000 - val_mae: 3997.2222\n",
      "Epoch 110/500\n",
      "5905/5905 [==============================] - 37s 6ms/step - loss: 5238909440.0000 - mae: 4834.2974 - val_loss: 5849515520.0000 - val_mae: 4252.5454\n",
      "Epoch 111/500\n",
      "5905/5905 [==============================] - 37s 6ms/step - loss: 5063111168.0000 - mae: 4814.6587 - val_loss: 5833470464.0000 - val_mae: 4310.5596\n",
      "Epoch 112/500\n",
      "5905/5905 [==============================] - 36s 6ms/step - loss: 5178018304.0000 - mae: 4747.2778 - val_loss: 6039319040.0000 - val_mae: 4337.6865\n",
      "Epoch 113/500\n",
      "5905/5905 [==============================] - 36s 6ms/step - loss: 5198179328.0000 - mae: 4772.0737 - val_loss: 5644771328.0000 - val_mae: 3950.9558\n",
      "Epoch 114/500\n",
      "5905/5905 [==============================] - 36s 6ms/step - loss: 5162381824.0000 - mae: 4738.6304 - val_loss: 6000434176.0000 - val_mae: 4091.3762\n",
      "Epoch 115/500\n",
      "5905/5905 [==============================] - 36s 6ms/step - loss: 5143663104.0000 - mae: 4885.7832 - val_loss: 5974923264.0000 - val_mae: 3696.8032\n",
      "Epoch 116/500\n",
      "5905/5905 [==============================] - 37s 6ms/step - loss: 5266649600.0000 - mae: 4734.4692 - val_loss: 5688553984.0000 - val_mae: 4237.0000\n",
      "Epoch 117/500\n",
      "5905/5905 [==============================] - 37s 6ms/step - loss: 5237346304.0000 - mae: 4715.8188 - val_loss: 6090894336.0000 - val_mae: 4168.2490\n",
      "Epoch 118/500\n",
      "5905/5905 [==============================] - 36s 6ms/step - loss: 5148670976.0000 - mae: 4769.0830 - val_loss: 5999633408.0000 - val_mae: 4025.7161\n",
      "Epoch 119/500\n",
      "5905/5905 [==============================] - 37s 6ms/step - loss: 5311453184.0000 - mae: 4689.2266 - val_loss: 5746945536.0000 - val_mae: 5219.1001\n",
      "Epoch 120/500\n",
      "5905/5905 [==============================] - 37s 6ms/step - loss: 5211607552.0000 - mae: 4719.4346 - val_loss: 5895407616.0000 - val_mae: 5546.2905\n",
      "Epoch 121/500\n",
      "5905/5905 [==============================] - 37s 6ms/step - loss: 5226017280.0000 - mae: 4677.3081 - val_loss: 5687013888.0000 - val_mae: 4052.5464\n",
      "Epoch 122/500\n",
      "5905/5905 [==============================] - 36s 6ms/step - loss: 5234813952.0000 - mae: 4680.5317 - val_loss: 6060775936.0000 - val_mae: 3953.3867\n",
      "Epoch 123/500\n",
      "5905/5905 [==============================] - 37s 6ms/step - loss: 5255771648.0000 - mae: 4721.9414 - val_loss: 5905695232.0000 - val_mae: 5777.5498\n",
      "Epoch 124/500\n",
      "5905/5905 [==============================] - 37s 6ms/step - loss: 5155026944.0000 - mae: 4688.5884 - val_loss: 5766021632.0000 - val_mae: 5386.4248\n",
      "Epoch 125/500\n",
      "5905/5905 [==============================] - 36s 6ms/step - loss: 5145465344.0000 - mae: 4724.8892 - val_loss: 5711321600.0000 - val_mae: 4870.2119\n",
      "Epoch 126/500\n",
      "5905/5905 [==============================] - 37s 6ms/step - loss: 5193804800.0000 - mae: 4573.9868 - val_loss: 5644608512.0000 - val_mae: 4685.2866\n",
      "Epoch 127/500\n",
      "5905/5905 [==============================] - 37s 6ms/step - loss: 5242190336.0000 - mae: 4710.5190 - val_loss: 6178259968.0000 - val_mae: 4559.4351\n",
      "Epoch 128/500\n",
      "5905/5905 [==============================] - 36s 6ms/step - loss: 5222539264.0000 - mae: 4542.5664 - val_loss: 5867852800.0000 - val_mae: 4332.1704\n",
      "Epoch 129/500\n",
      "5905/5905 [==============================] - 37s 6ms/step - loss: 5230647296.0000 - mae: 4598.8726 - val_loss: 5606077952.0000 - val_mae: 4092.1367\n",
      "Epoch 130/500\n",
      "5905/5905 [==============================] - 37s 6ms/step - loss: 5052700672.0000 - mae: 4623.6289 - val_loss: 6039272448.0000 - val_mae: 4135.1602\n",
      "Epoch 131/500\n",
      "5905/5905 [==============================] - 36s 6ms/step - loss: 5129527808.0000 - mae: 4734.2339 - val_loss: 5825251328.0000 - val_mae: 4607.6685\n",
      "Epoch 132/500\n",
      "5905/5905 [==============================] - 37s 6ms/step - loss: 5116800000.0000 - mae: 4555.1743 - val_loss: 6136256512.0000 - val_mae: 4047.8589\n",
      "Epoch 133/500\n",
      "5905/5905 [==============================] - 37s 6ms/step - loss: 5230873088.0000 - mae: 4621.5698 - val_loss: 5885960192.0000 - val_mae: 4402.1377\n",
      "Epoch 134/500\n",
      "5905/5905 [==============================] - 36s 6ms/step - loss: 5140986368.0000 - mae: 4438.8379 - val_loss: 5996370944.0000 - val_mae: 6772.1821\n",
      "Epoch 135/500\n",
      "5905/5905 [==============================] - 38s 6ms/step - loss: 5210068480.0000 - mae: 4516.9033 - val_loss: 5650558464.0000 - val_mae: 4131.7305\n",
      "Epoch 136/500\n",
      "5905/5905 [==============================] - 37s 6ms/step - loss: 5200862208.0000 - mae: 4551.5249 - val_loss: 5655654912.0000 - val_mae: 4192.2710\n",
      "Epoch 137/500\n",
      "5905/5905 [==============================] - 36s 6ms/step - loss: 5167654912.0000 - mae: 4634.1694 - val_loss: 5947388416.0000 - val_mae: 3804.5640\n",
      "Epoch 138/500\n",
      "5905/5905 [==============================] - 37s 6ms/step - loss: 5084942848.0000 - mae: 4601.8745 - val_loss: 5985622016.0000 - val_mae: 4315.3452\n",
      "Epoch 139/500\n",
      "5905/5905 [==============================] - 37s 6ms/step - loss: 5222963200.0000 - mae: 4502.6792 - val_loss: 5619999232.0000 - val_mae: 3851.4500\n",
      "Epoch 140/500\n",
      "5905/5905 [==============================] - 36s 6ms/step - loss: 5170755584.0000 - mae: 4531.5161 - val_loss: 6191698944.0000 - val_mae: 4146.5210\n",
      "Epoch 141/500\n",
      "5905/5905 [==============================] - 38s 6ms/step - loss: 5195976192.0000 - mae: 4485.2427 - val_loss: 5765361664.0000 - val_mae: 4920.4692\n",
      "Epoch 142/500\n",
      "5905/5905 [==============================] - 37s 6ms/step - loss: 5019288064.0000 - mae: 4690.2656 - val_loss: 5796202496.0000 - val_mae: 4254.0752\n",
      "Epoch 143/500\n",
      "5905/5905 [==============================] - 36s 6ms/step - loss: 5109501952.0000 - mae: 4558.4409 - val_loss: 5983603712.0000 - val_mae: 3978.6672\n",
      "Epoch 144/500\n",
      "5905/5905 [==============================] - 37s 6ms/step - loss: 5194397184.0000 - mae: 4541.5732 - val_loss: 5572186112.0000 - val_mae: 4291.7925\n",
      "Epoch 145/500\n",
      "5905/5905 [==============================] - 37s 6ms/step - loss: 5199261696.0000 - mae: 4545.1172 - val_loss: 5608248832.0000 - val_mae: 4097.7100\n",
      "Epoch 146/500\n",
      "5905/5905 [==============================] - 36s 6ms/step - loss: 5100458496.0000 - mae: 4518.2158 - val_loss: 6098872832.0000 - val_mae: 4397.9434\n",
      "Epoch 147/500\n",
      "5905/5905 [==============================] - 37s 6ms/step - loss: 5143433216.0000 - mae: 4445.4727 - val_loss: 5623254528.0000 - val_mae: 4818.3149\n",
      "Epoch 148/500\n",
      "5905/5905 [==============================] - 37s 6ms/step - loss: 5168970752.0000 - mae: 4493.6348 - val_loss: 5978588160.0000 - val_mae: 3875.0974\n",
      "Epoch 149/500\n",
      "5905/5905 [==============================] - 36s 6ms/step - loss: 5084860416.0000 - mae: 4459.4673 - val_loss: 5649141248.0000 - val_mae: 3999.2173\n",
      "Epoch 150/500\n",
      "5905/5905 [==============================] - 37s 6ms/step - loss: 5173402112.0000 - mae: 4332.8311 - val_loss: 5957376000.0000 - val_mae: 4198.6357\n",
      "Epoch 151/500\n",
      "5905/5905 [==============================] - 37s 6ms/step - loss: 5151194624.0000 - mae: 4340.8984 - val_loss: 5538691072.0000 - val_mae: 3895.3435\n",
      "Epoch 152/500\n",
      "5905/5905 [==============================] - 36s 6ms/step - loss: 5138216960.0000 - mae: 4324.3296 - val_loss: 5672973312.0000 - val_mae: 4461.3940\n",
      "Epoch 153/500\n",
      "5905/5905 [==============================] - 37s 6ms/step - loss: 5107379200.0000 - mae: 4380.6777 - val_loss: 5547866112.0000 - val_mae: 3760.0569\n",
      "Epoch 154/500\n",
      "5905/5905 [==============================] - 37s 6ms/step - loss: 5158312448.0000 - mae: 4231.6445 - val_loss: 5759755264.0000 - val_mae: 5100.7041\n",
      "Epoch 155/500\n",
      "5905/5905 [==============================] - 37s 6ms/step - loss: 5170824704.0000 - mae: 4434.6445 - val_loss: 5733481472.0000 - val_mae: 3838.4458\n",
      "Epoch 156/500\n",
      "5905/5905 [==============================] - 36s 6ms/step - loss: 5121792512.0000 - mae: 4376.6108 - val_loss: 5672079872.0000 - val_mae: 3979.9885\n",
      "Epoch 157/500\n",
      "5905/5905 [==============================] - 37s 6ms/step - loss: 5073285632.0000 - mae: 4408.7983 - val_loss: 5806451200.0000 - val_mae: 4025.4810\n",
      "Epoch 158/500\n",
      "5905/5905 [==============================] - 37s 6ms/step - loss: 5039393280.0000 - mae: 4341.7305 - val_loss: 5772303360.0000 - val_mae: 3779.8633\n",
      "Epoch 159/500\n",
      "5905/5905 [==============================] - 37s 6ms/step - loss: 5139968512.0000 - mae: 4267.8828 - val_loss: 5597432832.0000 - val_mae: 4738.5732\n",
      "Epoch 160/500\n",
      "5905/5905 [==============================] - 38s 6ms/step - loss: 5096190976.0000 - mae: 4547.5386 - val_loss: 6143693824.0000 - val_mae: 4420.9297\n",
      "Epoch 161/500\n",
      "5905/5905 [==============================] - 37s 6ms/step - loss: 5203260928.0000 - mae: 4632.1948 - val_loss: 5781027840.0000 - val_mae: 4661.9219\n",
      "Epoch 162/500\n",
      "5905/5905 [==============================] - 38s 6ms/step - loss: 5131138560.0000 - mae: 4449.5703 - val_loss: 5665668608.0000 - val_mae: 4739.2026\n",
      "Epoch 163/500\n",
      "5905/5905 [==============================] - 38s 6ms/step - loss: 5129805824.0000 - mae: 4457.1157 - val_loss: 5739397120.0000 - val_mae: 4837.3584\n",
      "Epoch 164/500\n",
      "5905/5905 [==============================] - 37s 6ms/step - loss: 5115126272.0000 - mae: 4555.1484 - val_loss: 5774387712.0000 - val_mae: 4391.3306\n",
      "Epoch 165/500\n",
      "5905/5905 [==============================] - 38s 6ms/step - loss: 5066210304.0000 - mae: 4197.2427 - val_loss: 5891664896.0000 - val_mae: 5799.9600\n",
      "Epoch 166/500\n",
      "5905/5905 [==============================] - 37s 6ms/step - loss: 5041148416.0000 - mae: 4527.0664 - val_loss: 5941996032.0000 - val_mae: 3970.2520\n",
      "Epoch 167/500\n",
      "5905/5905 [==============================] - 37s 6ms/step - loss: 5023394816.0000 - mae: 4396.1665 - val_loss: 6309484032.0000 - val_mae: 3643.0325\n",
      "Epoch 168/500\n",
      "5905/5905 [==============================] - 37s 6ms/step - loss: 5041679360.0000 - mae: 4541.1807 - val_loss: 5584383488.0000 - val_mae: 5399.9468\n",
      "Epoch 169/500\n",
      "5905/5905 [==============================] - 37s 6ms/step - loss: 5080630784.0000 - mae: 4452.4858 - val_loss: 5569357824.0000 - val_mae: 4449.9399\n",
      "Epoch 170/500\n",
      "5905/5905 [==============================] - 37s 6ms/step - loss: 5060451328.0000 - mae: 4497.4653 - val_loss: 5659314176.0000 - val_mae: 3859.6047\n",
      "Epoch 171/500\n",
      "5905/5905 [==============================] - 38s 6ms/step - loss: 5011460608.0000 - mae: 4394.2671 - val_loss: 5727555584.0000 - val_mae: 5083.2295\n",
      "Epoch 172/500\n",
      "5905/5905 [==============================] - 38s 6ms/step - loss: 5126906368.0000 - mae: 4431.6084 - val_loss: 5736848896.0000 - val_mae: 3783.8188\n",
      "Epoch 173/500\n",
      "5905/5905 [==============================] - 37s 6ms/step - loss: 5078044160.0000 - mae: 4492.6099 - val_loss: 5588138496.0000 - val_mae: 4220.1460\n",
      "Epoch 174/500\n",
      "5905/5905 [==============================] - 38s 6ms/step - loss: 5069022208.0000 - mae: 4383.5444 - val_loss: 5616295424.0000 - val_mae: 4118.2148\n",
      "Epoch 175/500\n",
      "5905/5905 [==============================] - 38s 6ms/step - loss: 5110887424.0000 - mae: 4463.9272 - val_loss: 5657224704.0000 - val_mae: 4630.9702\n",
      "Epoch 176/500\n",
      "5905/5905 [==============================] - 37s 6ms/step - loss: 5112615936.0000 - mae: 4398.4019 - val_loss: 6126440448.0000 - val_mae: 4411.6436\n",
      "Epoch 177/500\n",
      "5905/5905 [==============================] - 38s 6ms/step - loss: 5039605248.0000 - mae: 4347.9775 - val_loss: 5724013056.0000 - val_mae: 4122.3936\n",
      "Epoch 178/500\n",
      "5905/5905 [==============================] - 37s 6ms/step - loss: 5103791104.0000 - mae: 4457.1133 - val_loss: 5633911296.0000 - val_mae: 3984.0066\n",
      "Epoch 179/500\n",
      "5905/5905 [==============================] - 37s 6ms/step - loss: 5074414080.0000 - mae: 4307.0293 - val_loss: 5609593856.0000 - val_mae: 4850.7666\n",
      "Epoch 180/500\n",
      "5905/5905 [==============================] - 38s 6ms/step - loss: 4981683712.0000 - mae: 4345.9819 - val_loss: 5669427712.0000 - val_mae: 3599.3721\n",
      "Epoch 181/500\n",
      "5905/5905 [==============================] - 38s 6ms/step - loss: 5021724160.0000 - mae: 4373.9536 - val_loss: 5470910976.0000 - val_mae: 3998.5010\n",
      "Epoch 182/500\n",
      "5905/5905 [==============================] - 37s 6ms/step - loss: 5056438784.0000 - mae: 4510.8384 - val_loss: 5704615424.0000 - val_mae: 4491.7373\n",
      "Epoch 183/500\n",
      "5905/5905 [==============================] - 39s 7ms/step - loss: 5099731456.0000 - mae: 4562.6680 - val_loss: 6023116800.0000 - val_mae: 3846.8943\n",
      "Epoch 184/500\n",
      "5905/5905 [==============================] - 38s 6ms/step - loss: 4981445632.0000 - mae: 4450.1196 - val_loss: 6003648512.0000 - val_mae: 4213.2432\n",
      "Epoch 185/500\n",
      "5905/5905 [==============================] - 37s 6ms/step - loss: 5150939136.0000 - mae: 4569.5571 - val_loss: 5472473600.0000 - val_mae: 4623.3877\n",
      "Epoch 186/500\n",
      "5905/5905 [==============================] - 38s 6ms/step - loss: 5089669632.0000 - mae: 4382.2134 - val_loss: 5522708992.0000 - val_mae: 3641.4729\n",
      "Epoch 187/500\n",
      "5905/5905 [==============================] - 38s 6ms/step - loss: 5087108608.0000 - mae: 4478.4619 - val_loss: 5865624064.0000 - val_mae: 3992.0627\n",
      "Epoch 188/500\n",
      "5905/5905 [==============================] - 37s 6ms/step - loss: 5105362944.0000 - mae: 4378.2085 - val_loss: 5655898624.0000 - val_mae: 4753.6821\n",
      "Epoch 189/500\n",
      "5905/5905 [==============================] - 39s 7ms/step - loss: 5051729408.0000 - mae: 4371.5933 - val_loss: 5689779200.0000 - val_mae: 4490.9849\n",
      "Epoch 190/500\n",
      "5905/5905 [==============================] - 37s 6ms/step - loss: 4981625344.0000 - mae: 4380.4346 - val_loss: 6011377664.0000 - val_mae: 4091.8323\n",
      "Epoch 191/500\n",
      "5905/5905 [==============================] - 37s 6ms/step - loss: 4952983552.0000 - mae: 4505.4233 - val_loss: 5553368064.0000 - val_mae: 5553.8105\n",
      "Epoch 192/500\n",
      "5905/5905 [==============================] - 38s 6ms/step - loss: 4975136256.0000 - mae: 4516.1895 - val_loss: 5780667904.0000 - val_mae: 4794.5356\n",
      "Epoch 193/500\n",
      "5905/5905 [==============================] - 38s 6ms/step - loss: 5062328320.0000 - mae: 4352.8237 - val_loss: 5470376448.0000 - val_mae: 3640.9287\n",
      "Epoch 194/500\n",
      "5905/5905 [==============================] - 38s 6ms/step - loss: 5120688128.0000 - mae: 4320.5376 - val_loss: 5629068288.0000 - val_mae: 4281.7358\n",
      "Epoch 195/500\n",
      "5905/5905 [==============================] - 37s 6ms/step - loss: 5082883072.0000 - mae: 4309.7231 - val_loss: 5606344192.0000 - val_mae: 3821.5393\n",
      "Epoch 196/500\n",
      "5905/5905 [==============================] - 38s 6ms/step - loss: 5093740544.0000 - mae: 4261.7461 - val_loss: 5852598784.0000 - val_mae: 5458.3179\n",
      "Epoch 197/500\n",
      "5905/5905 [==============================] - 38s 6ms/step - loss: 5078553600.0000 - mae: 4213.2739 - val_loss: 5588374528.0000 - val_mae: 3957.8792\n",
      "Epoch 198/500\n",
      "5905/5905 [==============================] - 37s 6ms/step - loss: 4997919232.0000 - mae: 4146.2607 - val_loss: 5595811840.0000 - val_mae: 5066.8218\n",
      "Epoch 199/500\n",
      "5905/5905 [==============================] - 38s 6ms/step - loss: 5037680640.0000 - mae: 4356.8823 - val_loss: 6126210560.0000 - val_mae: 6198.6455\n",
      "Epoch 200/500\n",
      "5905/5905 [==============================] - 38s 6ms/step - loss: 5108602880.0000 - mae: 4226.4727 - val_loss: 5610761216.0000 - val_mae: 4540.0703\n",
      "Epoch 201/500\n",
      "5905/5905 [==============================] - 38s 6ms/step - loss: 5015088128.0000 - mae: 4366.3521 - val_loss: 5594278912.0000 - val_mae: 5215.1890\n",
      "Epoch 202/500\n",
      "5905/5905 [==============================] - 37s 6ms/step - loss: 5056566272.0000 - mae: 4296.2812 - val_loss: 5678156288.0000 - val_mae: 4508.5078\n",
      "Epoch 203/500\n",
      "5905/5905 [==============================] - 38s 6ms/step - loss: 4967608320.0000 - mae: 4325.8491 - val_loss: 5673642496.0000 - val_mae: 5777.9897\n",
      "Epoch 204/500\n",
      "5905/5905 [==============================] - 38s 6ms/step - loss: 5026268160.0000 - mae: 4397.8521 - val_loss: 5761991168.0000 - val_mae: 5354.0371\n",
      "Epoch 205/500\n",
      "5905/5905 [==============================] - 37s 6ms/step - loss: 5072316416.0000 - mae: 4275.3086 - val_loss: 5530151424.0000 - val_mae: 4120.5273\n",
      "Epoch 206/500\n",
      "5905/5905 [==============================] - 38s 6ms/step - loss: 5059070976.0000 - mae: 4294.8530 - val_loss: 5458154496.0000 - val_mae: 4296.8096\n",
      "Epoch 207/500\n",
      "5905/5905 [==============================] - 38s 6ms/step - loss: 4988199936.0000 - mae: 4292.0576 - val_loss: 5533646848.0000 - val_mae: 3663.2146\n",
      "Epoch 208/500\n",
      "5905/5905 [==============================] - 38s 6ms/step - loss: 5036898816.0000 - mae: 4230.1260 - val_loss: 5536111104.0000 - val_mae: 4125.1743\n",
      "Epoch 209/500\n",
      "5905/5905 [==============================] - 37s 6ms/step - loss: 5044813824.0000 - mae: 4197.8110 - val_loss: 5937755648.0000 - val_mae: 3877.1162\n",
      "Epoch 210/500\n",
      "5905/5905 [==============================] - 38s 6ms/step - loss: 4984458752.0000 - mae: 4208.9917 - val_loss: 5398137856.0000 - val_mae: 3978.3892\n",
      "Epoch 211/500\n",
      "5905/5905 [==============================] - 38s 6ms/step - loss: 5060006912.0000 - mae: 4154.8232 - val_loss: 5708929536.0000 - val_mae: 5733.7134\n",
      "Epoch 212/500\n",
      "5905/5905 [==============================] - 37s 6ms/step - loss: 5017149952.0000 - mae: 4225.0225 - val_loss: 6375331840.0000 - val_mae: 5947.5327\n",
      "Epoch 213/500\n",
      "5905/5905 [==============================] - 38s 6ms/step - loss: 4998615552.0000 - mae: 4245.5439 - val_loss: 5512781824.0000 - val_mae: 5326.4160\n",
      "Epoch 214/500\n",
      "5905/5905 [==============================] - 38s 6ms/step - loss: 4989445632.0000 - mae: 4350.8613 - val_loss: 7466204672.0000 - val_mae: 6480.6665\n",
      "Epoch 215/500\n",
      "5905/5905 [==============================] - 38s 6ms/step - loss: 4984599040.0000 - mae: 4315.9526 - val_loss: 5430627840.0000 - val_mae: 4299.1074\n",
      "Epoch 216/500\n",
      "5905/5905 [==============================] - 37s 6ms/step - loss: 4972475904.0000 - mae: 4309.5869 - val_loss: 5576409600.0000 - val_mae: 4844.4580\n",
      "Epoch 217/500\n",
      "5905/5905 [==============================] - 38s 6ms/step - loss: 4912515072.0000 - mae: 4268.9009 - val_loss: 5990039552.0000 - val_mae: 4323.1392\n",
      "Epoch 218/500\n",
      "5905/5905 [==============================] - 38s 6ms/step - loss: 5028281856.0000 - mae: 4241.8345 - val_loss: 5525998592.0000 - val_mae: 3865.2473\n",
      "Epoch 219/500\n",
      "5905/5905 [==============================] - 37s 6ms/step - loss: 4991523840.0000 - mae: 4256.5190 - val_loss: 5471351296.0000 - val_mae: 5015.7998\n",
      "Epoch 220/500\n",
      "5905/5905 [==============================] - 38s 6ms/step - loss: 4959376384.0000 - mae: 4273.5693 - val_loss: 6418269696.0000 - val_mae: 3976.1870\n",
      "Epoch 221/500\n",
      "5905/5905 [==============================] - 38s 6ms/step - loss: 4992846336.0000 - mae: 4277.2070 - val_loss: 5428045312.0000 - val_mae: 4235.1636\n",
      "Epoch 222/500\n",
      "5905/5905 [==============================] - 37s 6ms/step - loss: 4964901376.0000 - mae: 4273.9883 - val_loss: 5608680960.0000 - val_mae: 3626.7830\n",
      "Epoch 223/500\n",
      "5905/5905 [==============================] - 38s 6ms/step - loss: 5021655040.0000 - mae: 4254.4863 - val_loss: 6255370752.0000 - val_mae: 5006.1904\n",
      "Epoch 224/500\n",
      "5905/5905 [==============================] - 38s 6ms/step - loss: 4927510016.0000 - mae: 4367.3647 - val_loss: 5442084864.0000 - val_mae: 3816.7913\n",
      "Epoch 225/500\n",
      "5905/5905 [==============================] - 38s 6ms/step - loss: 4975665664.0000 - mae: 4263.3613 - val_loss: 5610248704.0000 - val_mae: 4104.3794\n",
      "Epoch 226/500\n",
      "5905/5905 [==============================] - 37s 6ms/step - loss: 4998402560.0000 - mae: 4105.6216 - val_loss: 5528043008.0000 - val_mae: 4188.1226\n",
      "Epoch 227/500\n",
      "5905/5905 [==============================] - 38s 6ms/step - loss: 5014554624.0000 - mae: 4264.3306 - val_loss: 5570082304.0000 - val_mae: 3252.8579\n",
      "Epoch 228/500\n",
      "5905/5905 [==============================] - 38s 6ms/step - loss: 4938764800.0000 - mae: 4177.0781 - val_loss: 5396352512.0000 - val_mae: 3758.2683\n",
      "Epoch 229/500\n",
      "5905/5905 [==============================] - 37s 6ms/step - loss: 4973774848.0000 - mae: 4113.2144 - val_loss: 5513382912.0000 - val_mae: 4188.1753\n",
      "Epoch 230/500\n",
      "5905/5905 [==============================] - 37s 6ms/step - loss: 4923686400.0000 - mae: 4109.6270 - val_loss: 5830932480.0000 - val_mae: 4880.7905\n",
      "Epoch 231/500\n",
      "5905/5905 [==============================] - 39s 7ms/step - loss: 4947545088.0000 - mae: 4052.4573 - val_loss: 5479756800.0000 - val_mae: 3836.5588\n",
      "Epoch 232/500\n",
      "5905/5905 [==============================] - 37s 6ms/step - loss: 4890524672.0000 - mae: 4150.3286 - val_loss: 5812148224.0000 - val_mae: 3540.5007\n",
      "Epoch 233/500\n",
      "5905/5905 [==============================] - 38s 6ms/step - loss: 4966404096.0000 - mae: 4228.3042 - val_loss: 6215668224.0000 - val_mae: 3576.7310\n",
      "Epoch 234/500\n",
      "5905/5905 [==============================] - 38s 6ms/step - loss: 4998213632.0000 - mae: 4206.4937 - val_loss: 5630178816.0000 - val_mae: 3802.7925\n",
      "Epoch 235/500\n",
      "5905/5905 [==============================] - 38s 6ms/step - loss: 5005071872.0000 - mae: 4208.4536 - val_loss: 5456184320.0000 - val_mae: 3765.9814\n",
      "Epoch 236/500\n",
      "5905/5905 [==============================] - 38s 6ms/step - loss: 4988025856.0000 - mae: 4114.6079 - val_loss: 5432136704.0000 - val_mae: 4610.0566\n",
      "Epoch 237/500\n",
      "5905/5905 [==============================] - 39s 7ms/step - loss: 4911346688.0000 - mae: 4117.7192 - val_loss: 5735128576.0000 - val_mae: 4623.1260\n",
      "Epoch 238/500\n",
      "5905/5905 [==============================] - 39s 7ms/step - loss: 5016867328.0000 - mae: 4175.2100 - val_loss: 5708975616.0000 - val_mae: 5312.3877\n",
      "Epoch 239/500\n",
      "5905/5905 [==============================] - 39s 7ms/step - loss: 4933752832.0000 - mae: 4023.0544 - val_loss: 5502599680.0000 - val_mae: 3839.3821\n",
      "Epoch 240/500\n",
      "5905/5905 [==============================] - 39s 7ms/step - loss: 4860947456.0000 - mae: 4147.2812 - val_loss: 6132068864.0000 - val_mae: 3547.2178\n",
      "Epoch 241/500\n",
      "5905/5905 [==============================] - 39s 7ms/step - loss: 4909513728.0000 - mae: 4095.0925 - val_loss: 6115087360.0000 - val_mae: 3829.2810\n",
      "Epoch 242/500\n",
      "5905/5905 [==============================] - 40s 7ms/step - loss: 4973244416.0000 - mae: 4043.1917 - val_loss: 5814234624.0000 - val_mae: 3334.4485\n",
      "Epoch 243/500\n",
      "5905/5905 [==============================] - 39s 7ms/step - loss: 4919470080.0000 - mae: 3956.3582 - val_loss: 5693305344.0000 - val_mae: 3883.4343\n",
      "Epoch 244/500\n",
      "5905/5905 [==============================] - 40s 7ms/step - loss: 4893878272.0000 - mae: 4046.4109 - val_loss: 5383673856.0000 - val_mae: 4331.5312\n",
      "Epoch 245/500\n",
      "5905/5905 [==============================] - 40s 7ms/step - loss: 5010759680.0000 - mae: 4112.3525 - val_loss: 5596059648.0000 - val_mae: 3406.5864\n",
      "Epoch 246/500\n",
      "5905/5905 [==============================] - 39s 7ms/step - loss: 4817676288.0000 - mae: 4099.7417 - val_loss: 6066649088.0000 - val_mae: 4405.1206\n",
      "Epoch 247/500\n",
      "5905/5905 [==============================] - 39s 7ms/step - loss: 4972396544.0000 - mae: 4099.9272 - val_loss: 5747961856.0000 - val_mae: 3486.0122\n",
      "Epoch 248/500\n",
      "5905/5905 [==============================] - 40s 7ms/step - loss: 4994053632.0000 - mae: 4041.8743 - val_loss: 5733009408.0000 - val_mae: 3895.2969\n",
      "Epoch 249/500\n",
      "5905/5905 [==============================] - 39s 7ms/step - loss: 5017257472.0000 - mae: 4018.8855 - val_loss: 5425594368.0000 - val_mae: 3939.8730\n",
      "Epoch 250/500\n",
      "5905/5905 [==============================] - 39s 7ms/step - loss: 5078574080.0000 - mae: 4067.9177 - val_loss: 5514275840.0000 - val_mae: 3742.6846\n",
      "Epoch 251/500\n",
      "5905/5905 [==============================] - 40s 7ms/step - loss: 5000385536.0000 - mae: 4067.2397 - val_loss: 5822076416.0000 - val_mae: 3919.2495\n",
      "Epoch 252/500\n",
      "5905/5905 [==============================] - 39s 7ms/step - loss: 4884207616.0000 - mae: 4054.5649 - val_loss: 5365222400.0000 - val_mae: 3445.3843\n",
      "Epoch 253/500\n",
      "5905/5905 [==============================] - 40s 7ms/step - loss: 4888594944.0000 - mae: 4044.1614 - val_loss: 5375129088.0000 - val_mae: 4047.6138\n",
      "Epoch 254/500\n",
      "5905/5905 [==============================] - 40s 7ms/step - loss: 4871085056.0000 - mae: 4038.3965 - val_loss: 6180944384.0000 - val_mae: 3105.4143\n",
      "Epoch 255/500\n",
      "5905/5905 [==============================] - 40s 7ms/step - loss: 5020573696.0000 - mae: 3924.7551 - val_loss: 5665953792.0000 - val_mae: 5226.1807\n",
      "Epoch 256/500\n",
      "5905/5905 [==============================] - 40s 7ms/step - loss: 4846258688.0000 - mae: 3994.4038 - val_loss: 5823676416.0000 - val_mae: 3183.7004\n",
      "Epoch 257/500\n",
      "5905/5905 [==============================] - 39s 7ms/step - loss: 4811972096.0000 - mae: 3967.5339 - val_loss: 5355324416.0000 - val_mae: 4320.2271\n",
      "Epoch 258/500\n",
      "5905/5905 [==============================] - 39s 7ms/step - loss: 4938273280.0000 - mae: 4002.3723 - val_loss: 5494708736.0000 - val_mae: 3629.3521\n",
      "Epoch 259/500\n",
      "5905/5905 [==============================] - 40s 7ms/step - loss: 4895939072.0000 - mae: 4010.6121 - val_loss: 5559716864.0000 - val_mae: 4644.6060\n",
      "Epoch 260/500\n",
      "5905/5905 [==============================] - 40s 7ms/step - loss: 4894221824.0000 - mae: 3915.8315 - val_loss: 5617886208.0000 - val_mae: 3639.2292\n",
      "Epoch 261/500\n",
      "5905/5905 [==============================] - 39s 7ms/step - loss: 4889364992.0000 - mae: 4042.6169 - val_loss: 5928780288.0000 - val_mae: 3831.8445\n",
      "Epoch 262/500\n",
      "5905/5905 [==============================] - 39s 7ms/step - loss: 4941099520.0000 - mae: 4045.4961 - val_loss: 5372069376.0000 - val_mae: 3661.6218\n",
      "Epoch 263/500\n",
      "5905/5905 [==============================] - 39s 7ms/step - loss: 4903655936.0000 - mae: 3999.9116 - val_loss: 5444747776.0000 - val_mae: 3772.9817\n",
      "Epoch 264/500\n",
      "5905/5905 [==============================] - 38s 6ms/step - loss: 4876275712.0000 - mae: 3858.4319 - val_loss: 5648872448.0000 - val_mae: 3448.1047\n",
      "Epoch 265/500\n",
      "5905/5905 [==============================] - 39s 7ms/step - loss: 4975961600.0000 - mae: 3972.3142 - val_loss: 5494111232.0000 - val_mae: 4370.7871\n",
      "Epoch 266/500\n",
      "5905/5905 [==============================] - 39s 7ms/step - loss: 4891730432.0000 - mae: 3935.6226 - val_loss: 5420569600.0000 - val_mae: 3957.7334\n",
      "Epoch 267/500\n",
      "5905/5905 [==============================] - 38s 7ms/step - loss: 4927289344.0000 - mae: 3990.6853 - val_loss: 5834900480.0000 - val_mae: 4906.9072\n",
      "Epoch 268/500\n",
      "5905/5905 [==============================] - 39s 7ms/step - loss: 4900717568.0000 - mae: 3990.1121 - val_loss: 5432502784.0000 - val_mae: 5153.3975\n",
      "Epoch 269/500\n",
      "5905/5905 [==============================] - 39s 7ms/step - loss: 4831115776.0000 - mae: 4026.1250 - val_loss: 5656493056.0000 - val_mae: 3262.7019\n",
      "Epoch 270/500\n",
      "5905/5905 [==============================] - 38s 6ms/step - loss: 4995332096.0000 - mae: 3996.5903 - val_loss: 5444771328.0000 - val_mae: 3962.1099\n",
      "Epoch 271/500\n",
      "5905/5905 [==============================] - 39s 7ms/step - loss: 4877117440.0000 - mae: 3827.7832 - val_loss: 5705798656.0000 - val_mae: 2896.6335\n",
      "Epoch 272/500\n",
      "5905/5905 [==============================] - 39s 7ms/step - loss: 4899305984.0000 - mae: 3988.7754 - val_loss: 5418705408.0000 - val_mae: 3372.3083\n",
      "Epoch 273/500\n",
      "5905/5905 [==============================] - 38s 6ms/step - loss: 4815896064.0000 - mae: 4068.5747 - val_loss: 6125820416.0000 - val_mae: 5275.2588\n",
      "Epoch 274/500\n",
      "5905/5905 [==============================] - 38s 6ms/step - loss: 4843615232.0000 - mae: 3994.3093 - val_loss: 6073524224.0000 - val_mae: 4743.8203\n",
      "Epoch 275/500\n",
      "5905/5905 [==============================] - 39s 7ms/step - loss: 4909658112.0000 - mae: 4066.4329 - val_loss: 5483600896.0000 - val_mae: 4319.3198\n",
      "Epoch 276/500\n",
      "5905/5905 [==============================] - 39s 7ms/step - loss: 4956335104.0000 - mae: 3956.7410 - val_loss: 5336274432.0000 - val_mae: 3738.1548\n",
      "Epoch 277/500\n",
      "5905/5905 [==============================] - 39s 7ms/step - loss: 4941253632.0000 - mae: 3919.8323 - val_loss: 5415689728.0000 - val_mae: 3421.1262\n",
      "Epoch 278/500\n",
      "5905/5905 [==============================] - 40s 7ms/step - loss: 4879883776.0000 - mae: 3852.6609 - val_loss: 6681643520.0000 - val_mae: 7282.3877\n",
      "Epoch 279/500\n",
      "5905/5905 [==============================] - 39s 7ms/step - loss: 4983623168.0000 - mae: 3940.9644 - val_loss: 5328816128.0000 - val_mae: 4102.3076\n",
      "Epoch 280/500\n",
      "5905/5905 [==============================] - 39s 7ms/step - loss: 4882569216.0000 - mae: 3904.2366 - val_loss: 5413877760.0000 - val_mae: 3388.8508\n",
      "Epoch 281/500\n",
      "5905/5905 [==============================] - 39s 7ms/step - loss: 4859266560.0000 - mae: 3950.7883 - val_loss: 6103288832.0000 - val_mae: 4168.1450\n",
      "Epoch 282/500\n",
      "5905/5905 [==============================] - 39s 7ms/step - loss: 4947677184.0000 - mae: 4001.2771 - val_loss: 5366376448.0000 - val_mae: 3519.4802\n",
      "Epoch 283/500\n",
      "5905/5905 [==============================] - 39s 7ms/step - loss: 4922010112.0000 - mae: 3841.6516 - val_loss: 5777862144.0000 - val_mae: 3172.2617\n",
      "Epoch 284/500\n",
      "5905/5905 [==============================] - 39s 7ms/step - loss: 4921511936.0000 - mae: 3901.1533 - val_loss: 5462716928.0000 - val_mae: 3352.9348\n",
      "Epoch 285/500\n",
      "5905/5905 [==============================] - 39s 7ms/step - loss: 4823552000.0000 - mae: 3802.6985 - val_loss: 5506113024.0000 - val_mae: 4802.7598\n",
      "Epoch 286/500\n",
      "5905/5905 [==============================] - 38s 7ms/step - loss: 4937425920.0000 - mae: 3849.5503 - val_loss: 5494746624.0000 - val_mae: 4895.9321\n",
      "Epoch 287/500\n",
      "5905/5905 [==============================] - 39s 7ms/step - loss: 4838112768.0000 - mae: 3939.9260 - val_loss: 7607987200.0000 - val_mae: 6247.4209\n",
      "Epoch 288/500\n",
      "5905/5905 [==============================] - 39s 7ms/step - loss: 4981786624.0000 - mae: 3939.8752 - val_loss: 5335793664.0000 - val_mae: 3437.8062\n",
      "Epoch 289/500\n",
      "5905/5905 [==============================] - 39s 7ms/step - loss: 4912010240.0000 - mae: 3868.7568 - val_loss: 5355405312.0000 - val_mae: 4095.8420\n",
      "Epoch 290/500\n",
      "5905/5905 [==============================] - 39s 7ms/step - loss: 4923075584.0000 - mae: 3851.6116 - val_loss: 5747518976.0000 - val_mae: 4501.7109\n",
      "Epoch 291/500\n",
      "5905/5905 [==============================] - 39s 7ms/step - loss: 4872415744.0000 - mae: 3841.0403 - val_loss: 5340807168.0000 - val_mae: 3908.8232\n",
      "Epoch 292/500\n",
      "5905/5905 [==============================] - 40s 7ms/step - loss: 4897735680.0000 - mae: 3864.6577 - val_loss: 5414144512.0000 - val_mae: 3873.7395\n",
      "Epoch 293/500\n",
      "5905/5905 [==============================] - 39s 7ms/step - loss: 4783382016.0000 - mae: 3886.6133 - val_loss: 5452597760.0000 - val_mae: 5183.1177\n",
      "Epoch 294/500\n",
      "5905/5905 [==============================] - 40s 7ms/step - loss: 4857120768.0000 - mae: 3750.0474 - val_loss: 5477653504.0000 - val_mae: 4530.9185\n",
      "Epoch 295/500\n",
      "5905/5905 [==============================] - 40s 7ms/step - loss: 4906604544.0000 - mae: 3848.8179 - val_loss: 5422745088.0000 - val_mae: 3216.6184\n",
      "Epoch 296/500\n",
      "5905/5905 [==============================] - 39s 7ms/step - loss: 4961553408.0000 - mae: 3828.2927 - val_loss: 5318087168.0000 - val_mae: 3728.0776\n",
      "Epoch 297/500\n",
      "5905/5905 [==============================] - 40s 7ms/step - loss: 4862308864.0000 - mae: 3767.6667 - val_loss: 5511970304.0000 - val_mae: 4342.2705\n",
      "Epoch 298/500\n",
      "5905/5905 [==============================] - 39s 7ms/step - loss: 4830919168.0000 - mae: 3872.5530 - val_loss: 5400740352.0000 - val_mae: 4592.2559\n",
      "Epoch 299/500\n",
      "5905/5905 [==============================] - 39s 7ms/step - loss: 4797515776.0000 - mae: 3796.8594 - val_loss: 5313712128.0000 - val_mae: 3480.3333\n",
      "Epoch 300/500\n",
      "5905/5905 [==============================] - 40s 7ms/step - loss: 4863194112.0000 - mae: 3774.2144 - val_loss: 5453186560.0000 - val_mae: 3254.2812\n",
      "Epoch 301/500\n",
      "5905/5905 [==============================] - 40s 7ms/step - loss: 4899955200.0000 - mae: 3846.2622 - val_loss: 5288438272.0000 - val_mae: 4184.7349\n",
      "Epoch 302/500\n",
      "5905/5905 [==============================] - 40s 7ms/step - loss: 4868523008.0000 - mae: 3770.4980 - val_loss: 5620944896.0000 - val_mae: 3607.5974\n",
      "Epoch 303/500\n",
      "5905/5905 [==============================] - 39s 7ms/step - loss: 4939342336.0000 - mae: 3807.9304 - val_loss: 5394490368.0000 - val_mae: 4907.9443\n",
      "Epoch 304/500\n",
      "5905/5905 [==============================] - 40s 7ms/step - loss: 4887911936.0000 - mae: 3722.4556 - val_loss: 5287596032.0000 - val_mae: 3604.8193\n",
      "Epoch 305/500\n",
      "5905/5905 [==============================] - 40s 7ms/step - loss: 4779585536.0000 - mae: 3769.0789 - val_loss: 5447606784.0000 - val_mae: 3777.2620\n",
      "Epoch 306/500\n",
      "5905/5905 [==============================] - 39s 7ms/step - loss: 4764647424.0000 - mae: 3790.2961 - val_loss: 5281741312.0000 - val_mae: 3868.6255\n",
      "Epoch 307/500\n",
      "5905/5905 [==============================] - 40s 7ms/step - loss: 4896570880.0000 - mae: 3714.0852 - val_loss: 5472669184.0000 - val_mae: 4191.7168\n",
      "Epoch 308/500\n",
      "5905/5905 [==============================] - 40s 7ms/step - loss: 4738930688.0000 - mae: 3826.2544 - val_loss: 5673566208.0000 - val_mae: 2852.7791\n",
      "Epoch 309/500\n",
      "5905/5905 [==============================] - 39s 7ms/step - loss: 4848331776.0000 - mae: 3801.4375 - val_loss: 5431705088.0000 - val_mae: 4139.3721\n",
      "Epoch 310/500\n",
      "5905/5905 [==============================] - 40s 7ms/step - loss: 4755633152.0000 - mae: 3706.5662 - val_loss: 5348969984.0000 - val_mae: 3522.9495\n",
      "Epoch 311/500\n",
      "5905/5905 [==============================] - 41s 7ms/step - loss: 4954147328.0000 - mae: 3804.8403 - val_loss: 5311283200.0000 - val_mae: 4237.4985\n",
      "Epoch 312/500\n",
      "5905/5905 [==============================] - 40s 7ms/step - loss: 4791664640.0000 - mae: 3829.8054 - val_loss: 5476898816.0000 - val_mae: 4710.3184\n",
      "Epoch 313/500\n",
      "5905/5905 [==============================] - 40s 7ms/step - loss: 4860951552.0000 - mae: 3746.0991 - val_loss: 5242285568.0000 - val_mae: 3242.9023\n",
      "Epoch 314/500\n",
      "5905/5905 [==============================] - 41s 7ms/step - loss: 4688887808.0000 - mae: 3738.6670 - val_loss: 5510358016.0000 - val_mae: 4520.4609\n",
      "Epoch 315/500\n",
      "5905/5905 [==============================] - 40s 7ms/step - loss: 4844400640.0000 - mae: 3815.5300 - val_loss: 5234786816.0000 - val_mae: 3668.6616\n",
      "Epoch 316/500\n",
      "5905/5905 [==============================] - 39s 7ms/step - loss: 4543548416.0000 - mae: 3666.4629 - val_loss: 6072698880.0000 - val_mae: 5191.4673\n",
      "Epoch 317/500\n",
      "5905/5905 [==============================] - 40s 7ms/step - loss: 4883937792.0000 - mae: 3776.4060 - val_loss: 5315426816.0000 - val_mae: 3522.1138\n",
      "Epoch 318/500\n",
      "5905/5905 [==============================] - 40s 7ms/step - loss: 4838446080.0000 - mae: 3693.9741 - val_loss: 6017628672.0000 - val_mae: 3168.1926\n",
      "Epoch 319/500\n",
      "5905/5905 [==============================] - 39s 7ms/step - loss: 4791477760.0000 - mae: 3738.0474 - val_loss: 5316850176.0000 - val_mae: 5042.3711\n",
      "Epoch 320/500\n",
      "5905/5905 [==============================] - 40s 7ms/step - loss: 4827177472.0000 - mae: 3721.5693 - val_loss: 5423775744.0000 - val_mae: 2998.5581\n",
      "Epoch 321/500\n",
      "5905/5905 [==============================] - 40s 7ms/step - loss: 4774161920.0000 - mae: 3645.0552 - val_loss: 5460224512.0000 - val_mae: 3440.9619\n",
      "Epoch 322/500\n",
      "5905/5905 [==============================] - 41s 7ms/step - loss: 4712858112.0000 - mae: 3735.8816 - val_loss: 5161327104.0000 - val_mae: 3182.7092\n",
      "Epoch 323/500\n",
      "5905/5905 [==============================] - 41s 7ms/step - loss: 4888276992.0000 - mae: 3701.7053 - val_loss: 5158877696.0000 - val_mae: 3583.6399\n",
      "Epoch 324/500\n",
      "5905/5905 [==============================] - 40s 7ms/step - loss: 4818685952.0000 - mae: 3800.6753 - val_loss: 5344742400.0000 - val_mae: 3659.3660\n",
      "Epoch 325/500\n",
      "5905/5905 [==============================] - 40s 7ms/step - loss: 4885379584.0000 - mae: 3729.7351 - val_loss: 5541791232.0000 - val_mae: 2820.1089\n",
      "Epoch 326/500\n",
      "5905/5905 [==============================] - 39s 7ms/step - loss: 4712321536.0000 - mae: 3796.7996 - val_loss: 5080206336.0000 - val_mae: 3567.4729\n",
      "Epoch 327/500\n",
      "5905/5905 [==============================] - 41s 7ms/step - loss: 4782319104.0000 - mae: 3735.3000 - val_loss: 6014351360.0000 - val_mae: 2986.6790\n",
      "Epoch 328/500\n",
      "5905/5905 [==============================] - 41s 7ms/step - loss: 4833780224.0000 - mae: 3691.2458 - val_loss: 5277836800.0000 - val_mae: 3778.9407\n",
      "Epoch 329/500\n",
      "5905/5905 [==============================] - 41s 7ms/step - loss: 4871654400.0000 - mae: 3691.6274 - val_loss: 5730935808.0000 - val_mae: 3292.3979\n",
      "Epoch 330/500\n",
      "5905/5905 [==============================] - 40s 7ms/step - loss: 4775046656.0000 - mae: 3630.7695 - val_loss: 5531334656.0000 - val_mae: 4325.5615\n",
      "Epoch 331/500\n",
      "5905/5905 [==============================] - 40s 7ms/step - loss: 4748744192.0000 - mae: 3791.0596 - val_loss: 6210865152.0000 - val_mae: 3570.5583\n",
      "Epoch 332/500\n",
      "5905/5905 [==============================] - 40s 7ms/step - loss: 4805378048.0000 - mae: 3753.0903 - val_loss: 5180525056.0000 - val_mae: 3454.9294\n",
      "Epoch 333/500\n",
      "5905/5905 [==============================] - 40s 7ms/step - loss: 4896383488.0000 - mae: 3769.6179 - val_loss: 5150793216.0000 - val_mae: 3647.6787\n",
      "Epoch 334/500\n",
      "5905/5905 [==============================] - 40s 7ms/step - loss: 4843250176.0000 - mae: 3681.0417 - val_loss: 5435340800.0000 - val_mae: 4624.6812\n",
      "Epoch 335/500\n",
      "5905/5905 [==============================] - 40s 7ms/step - loss: 4765995520.0000 - mae: 3650.3147 - val_loss: 5363451904.0000 - val_mae: 3397.2546\n",
      "Epoch 336/500\n",
      "5905/5905 [==============================] - 40s 7ms/step - loss: 4808751616.0000 - mae: 3683.3779 - val_loss: 5355321856.0000 - val_mae: 3254.4541\n",
      "Epoch 337/500\n",
      "5905/5905 [==============================] - 40s 7ms/step - loss: 4757060608.0000 - mae: 3721.5046 - val_loss: 5283954688.0000 - val_mae: 3639.0244\n",
      "Epoch 338/500\n",
      "5905/5905 [==============================] - 41s 7ms/step - loss: 4765550080.0000 - mae: 3731.5361 - val_loss: 5484662272.0000 - val_mae: 4509.7910\n",
      "Epoch 339/500\n",
      "5905/5905 [==============================] - 40s 7ms/step - loss: 4857038336.0000 - mae: 3659.7488 - val_loss: 5309533184.0000 - val_mae: 3697.0708\n",
      "Epoch 340/500\n",
      "5905/5905 [==============================] - 41s 7ms/step - loss: 4740590080.0000 - mae: 3683.3042 - val_loss: 5191484928.0000 - val_mae: 4206.8877\n",
      "Epoch 341/500\n",
      "5905/5905 [==============================] - 41s 7ms/step - loss: 4735584768.0000 - mae: 3733.3374 - val_loss: 5372122624.0000 - val_mae: 3263.0596\n",
      "Epoch 342/500\n",
      "5905/5905 [==============================] - 41s 7ms/step - loss: 4695067136.0000 - mae: 3713.4668 - val_loss: 5244145664.0000 - val_mae: 3974.1116\n",
      "Epoch 343/500\n",
      "5905/5905 [==============================] - 41s 7ms/step - loss: 4733637632.0000 - mae: 3626.1965 - val_loss: 5307950592.0000 - val_mae: 2829.4412\n",
      "Epoch 344/500\n",
      "5905/5905 [==============================] - 41s 7ms/step - loss: 4785353216.0000 - mae: 3640.1060 - val_loss: 6444606464.0000 - val_mae: 5263.2573\n",
      "Epoch 345/500\n",
      "5905/5905 [==============================] - 41s 7ms/step - loss: 4704455168.0000 - mae: 3669.1147 - val_loss: 5165983232.0000 - val_mae: 3951.0947\n",
      "Epoch 346/500\n",
      "5905/5905 [==============================] - 40s 7ms/step - loss: 4741209088.0000 - mae: 3700.1733 - val_loss: 5123336704.0000 - val_mae: 3831.3201\n",
      "Epoch 347/500\n",
      "5905/5905 [==============================] - 41s 7ms/step - loss: 4778585600.0000 - mae: 3693.8560 - val_loss: 5162264064.0000 - val_mae: 3538.3625\n",
      "Epoch 348/500\n",
      "5905/5905 [==============================] - 41s 7ms/step - loss: 4698571776.0000 - mae: 3645.0071 - val_loss: 5845181952.0000 - val_mae: 5672.3813\n",
      "Epoch 349/500\n",
      "5905/5905 [==============================] - 40s 7ms/step - loss: 4719626752.0000 - mae: 3695.9209 - val_loss: 5258663424.0000 - val_mae: 3295.5791\n",
      "Epoch 350/500\n",
      "5905/5905 [==============================] - 41s 7ms/step - loss: 4681655808.0000 - mae: 3646.8074 - val_loss: 5981868032.0000 - val_mae: 2686.0652\n",
      "Epoch 351/500\n",
      "5905/5905 [==============================] - 41s 7ms/step - loss: 4869722624.0000 - mae: 3687.9102 - val_loss: 5212611072.0000 - val_mae: 3668.5918\n",
      "Epoch 352/500\n",
      "5905/5905 [==============================] - 40s 7ms/step - loss: 4825020928.0000 - mae: 3583.1921 - val_loss: 5277538304.0000 - val_mae: 3598.5239\n",
      "Epoch 353/500\n",
      "5905/5905 [==============================] - 40s 7ms/step - loss: 4767119872.0000 - mae: 3662.2051 - val_loss: 6255582208.0000 - val_mae: 4523.6270\n",
      "Epoch 354/500\n",
      "5905/5905 [==============================] - 40s 7ms/step - loss: 4805384192.0000 - mae: 3614.8013 - val_loss: 6441569280.0000 - val_mae: 5039.8701\n",
      "Epoch 355/500\n",
      "5905/5905 [==============================] - 40s 7ms/step - loss: 4732594176.0000 - mae: 3635.8684 - val_loss: 5105119232.0000 - val_mae: 3002.7876\n",
      "Epoch 356/500\n",
      "5905/5905 [==============================] - 40s 7ms/step - loss: 4820370944.0000 - mae: 3632.3806 - val_loss: 5165520896.0000 - val_mae: 3557.1348\n",
      "Epoch 357/500\n",
      "5905/5905 [==============================] - 40s 7ms/step - loss: 4769315328.0000 - mae: 3601.7639 - val_loss: 4991742464.0000 - val_mae: 3088.1609\n",
      "Epoch 358/500\n",
      "5905/5905 [==============================] - 41s 7ms/step - loss: 4667868160.0000 - mae: 3613.9895 - val_loss: 4972638720.0000 - val_mae: 3239.0208\n",
      "Epoch 359/500\n",
      "5905/5905 [==============================] - 40s 7ms/step - loss: 4678800896.0000 - mae: 3622.9446 - val_loss: 5340640256.0000 - val_mae: 3502.5945\n",
      "Epoch 360/500\n",
      "5905/5905 [==============================] - 40s 7ms/step - loss: 4604328960.0000 - mae: 3631.1504 - val_loss: 7504072704.0000 - val_mae: 5476.9214\n",
      "Epoch 361/500\n",
      "5905/5905 [==============================] - 40s 7ms/step - loss: 4699785216.0000 - mae: 3682.4773 - val_loss: 5631106560.0000 - val_mae: 2894.3953\n",
      "Epoch 362/500\n",
      "5905/5905 [==============================] - 40s 7ms/step - loss: 4765236224.0000 - mae: 3551.6565 - val_loss: 5173185536.0000 - val_mae: 4151.6772\n",
      "Epoch 363/500\n",
      "5905/5905 [==============================] - 40s 7ms/step - loss: 4789126144.0000 - mae: 3651.8254 - val_loss: 5083737088.0000 - val_mae: 3352.7830\n",
      "Epoch 364/500\n",
      "5905/5905 [==============================] - 40s 7ms/step - loss: 4763933696.0000 - mae: 3734.5422 - val_loss: 5300007936.0000 - val_mae: 3224.9871\n",
      "Epoch 365/500\n",
      "5905/5905 [==============================] - 40s 7ms/step - loss: 4842794496.0000 - mae: 3694.4939 - val_loss: 4980306944.0000 - val_mae: 4477.9219\n",
      "Epoch 366/500\n",
      "5905/5905 [==============================] - 40s 7ms/step - loss: 4775891456.0000 - mae: 3770.7620 - val_loss: 5321336320.0000 - val_mae: 3592.7952\n",
      "Epoch 367/500\n",
      "5905/5905 [==============================] - 41s 7ms/step - loss: 4691513344.0000 - mae: 3608.9746 - val_loss: 5492326912.0000 - val_mae: 4417.1182\n",
      "Epoch 368/500\n",
      "5905/5905 [==============================] - 41s 7ms/step - loss: 4710996992.0000 - mae: 3603.0356 - val_loss: 5103878656.0000 - val_mae: 3287.1157\n",
      "Epoch 369/500\n",
      "5905/5905 [==============================] - 40s 7ms/step - loss: 4787730432.0000 - mae: 3691.9131 - val_loss: 5089368576.0000 - val_mae: 3662.7556\n",
      "Epoch 370/500\n",
      "5905/5905 [==============================] - 39s 7ms/step - loss: 4831415296.0000 - mae: 3624.6880 - val_loss: 5080256512.0000 - val_mae: 3635.9565\n",
      "Epoch 371/500\n",
      "5905/5905 [==============================] - 40s 7ms/step - loss: 4754716160.0000 - mae: 3588.7244 - val_loss: 5033288704.0000 - val_mae: 3409.7371\n",
      "Epoch 372/500\n",
      "5905/5905 [==============================] - 40s 7ms/step - loss: 4670239232.0000 - mae: 3625.2163 - val_loss: 5124562432.0000 - val_mae: 5185.3032\n",
      "Epoch 373/500\n",
      "5905/5905 [==============================] - 40s 7ms/step - loss: 4662985216.0000 - mae: 3601.9529 - val_loss: 6223435776.0000 - val_mae: 3091.2415\n",
      "Epoch 374/500\n",
      "5905/5905 [==============================] - 40s 7ms/step - loss: 4838534656.0000 - mae: 3584.0596 - val_loss: 5183977984.0000 - val_mae: 3753.9717\n",
      "Epoch 375/500\n",
      "5905/5905 [==============================] - 41s 7ms/step - loss: 4661989888.0000 - mae: 3571.7625 - val_loss: 5044643328.0000 - val_mae: 3499.1387\n",
      "Epoch 376/500\n",
      "5905/5905 [==============================] - 41s 7ms/step - loss: 4584708608.0000 - mae: 3576.3345 - val_loss: 5119189504.0000 - val_mae: 3378.6323\n",
      "Epoch 377/500\n",
      "5905/5905 [==============================] - 40s 7ms/step - loss: 4721883136.0000 - mae: 3626.8550 - val_loss: 5497880576.0000 - val_mae: 3363.4807\n",
      "Epoch 378/500\n",
      "5905/5905 [==============================] - 40s 7ms/step - loss: 4750526464.0000 - mae: 3733.5952 - val_loss: 5104113152.0000 - val_mae: 3499.4531\n",
      "Epoch 379/500\n",
      "5905/5905 [==============================] - 40s 7ms/step - loss: 4752278528.0000 - mae: 3650.6604 - val_loss: 6075822080.0000 - val_mae: 3003.7573\n",
      "Epoch 380/500\n",
      "5905/5905 [==============================] - 40s 7ms/step - loss: 4649142272.0000 - mae: 3594.4714 - val_loss: 5004825600.0000 - val_mae: 3911.8123\n",
      "Epoch 381/500\n",
      "5905/5905 [==============================] - 40s 7ms/step - loss: 4695824896.0000 - mae: 3764.4443 - val_loss: 5697862144.0000 - val_mae: 3024.4009\n",
      "Epoch 382/500\n",
      "5905/5905 [==============================] - 40s 7ms/step - loss: 4727403520.0000 - mae: 3630.9026 - val_loss: 4926987264.0000 - val_mae: 3456.2490\n",
      "Epoch 383/500\n",
      "5905/5905 [==============================] - 40s 7ms/step - loss: 4641880576.0000 - mae: 3549.0144 - val_loss: 5115006464.0000 - val_mae: 3484.6306\n",
      "Epoch 384/500\n",
      "5905/5905 [==============================] - 40s 7ms/step - loss: 4731935232.0000 - mae: 3566.1428 - val_loss: 5000868864.0000 - val_mae: 3630.8088\n",
      "Epoch 385/500\n",
      "5905/5905 [==============================] - 40s 7ms/step - loss: 4613688832.0000 - mae: 3635.5498 - val_loss: 5285060096.0000 - val_mae: 3797.7327\n",
      "Epoch 386/500\n",
      "5905/5905 [==============================] - 40s 7ms/step - loss: 4540612608.0000 - mae: 3543.1975 - val_loss: 5756975616.0000 - val_mae: 7276.3540\n",
      "Epoch 387/500\n",
      "5905/5905 [==============================] - 40s 7ms/step - loss: 4569510912.0000 - mae: 3691.5642 - val_loss: 4894972928.0000 - val_mae: 3899.2622\n",
      "Epoch 388/500\n",
      "5905/5905 [==============================] - 40s 7ms/step - loss: 4774009856.0000 - mae: 3551.1106 - val_loss: 5131070976.0000 - val_mae: 4043.2102\n",
      "Epoch 389/500\n",
      "5905/5905 [==============================] - 41s 7ms/step - loss: 4663857152.0000 - mae: 3409.8579 - val_loss: 4914011648.0000 - val_mae: 3879.1917\n",
      "Epoch 390/500\n",
      "5905/5905 [==============================] - 41s 7ms/step - loss: 4661109760.0000 - mae: 3511.2461 - val_loss: 5086383104.0000 - val_mae: 4217.5474\n",
      "Epoch 391/500\n",
      "5905/5905 [==============================] - 41s 7ms/step - loss: 4697033728.0000 - mae: 3472.7329 - val_loss: 4948564992.0000 - val_mae: 2804.1108\n",
      "Epoch 392/500\n",
      "5905/5905 [==============================] - 41s 7ms/step - loss: 4623833600.0000 - mae: 3463.0413 - val_loss: 5386106368.0000 - val_mae: 4129.2451\n",
      "Epoch 393/500\n",
      "5905/5905 [==============================] - 41s 7ms/step - loss: 4692048896.0000 - mae: 3516.5078 - val_loss: 5018129408.0000 - val_mae: 3533.8928\n",
      "Epoch 394/500\n",
      "5905/5905 [==============================] - 41s 7ms/step - loss: 4635853824.0000 - mae: 3517.1636 - val_loss: 5250237952.0000 - val_mae: 2511.0244\n",
      "Epoch 395/500\n",
      "5905/5905 [==============================] - 40s 7ms/step - loss: 4725125120.0000 - mae: 3539.7996 - val_loss: 5086355456.0000 - val_mae: 4116.4902\n",
      "Epoch 396/500\n",
      "5905/5905 [==============================] - 41s 7ms/step - loss: 4680145920.0000 - mae: 3453.5588 - val_loss: 5233686016.0000 - val_mae: 3298.8027\n",
      "Epoch 397/500\n",
      "5905/5905 [==============================] - 41s 7ms/step - loss: 4650525696.0000 - mae: 3465.0955 - val_loss: 5321294848.0000 - val_mae: 4249.8120\n",
      "Epoch 398/500\n",
      "5905/5905 [==============================] - 41s 7ms/step - loss: 4633310208.0000 - mae: 3478.7788 - val_loss: 5271353344.0000 - val_mae: 2702.2449\n",
      "Epoch 399/500\n",
      "5905/5905 [==============================] - 40s 7ms/step - loss: 4685862912.0000 - mae: 3443.9346 - val_loss: 5058563072.0000 - val_mae: 3072.9749\n",
      "Epoch 400/500\n",
      "5905/5905 [==============================] - 41s 7ms/step - loss: 4534809600.0000 - mae: 3517.8501 - val_loss: 5297861632.0000 - val_mae: 5097.8301\n",
      "Epoch 401/500\n",
      "5905/5905 [==============================] - 41s 7ms/step - loss: 4740254720.0000 - mae: 3515.0598 - val_loss: 5584003072.0000 - val_mae: 3156.0566\n",
      "Epoch 402/500\n",
      "5905/5905 [==============================] - 41s 7ms/step - loss: 4729175552.0000 - mae: 3520.5386 - val_loss: 5310586880.0000 - val_mae: 4603.9019\n",
      "Epoch 403/500\n",
      "5905/5905 [==============================] - 40s 7ms/step - loss: 4371844096.0000 - mae: 3455.5273 - val_loss: 5084851200.0000 - val_mae: 4998.9004\n",
      "Epoch 404/500\n",
      "5905/5905 [==============================] - 41s 7ms/step - loss: 4529760768.0000 - mae: 3383.7188 - val_loss: 5799014912.0000 - val_mae: 4324.6133\n",
      "Epoch 405/500\n",
      "5905/5905 [==============================] - 40s 7ms/step - loss: 4626020864.0000 - mae: 3444.9724 - val_loss: 4746833920.0000 - val_mae: 3083.9512\n",
      "Epoch 406/500\n",
      "5905/5905 [==============================] - 41s 7ms/step - loss: 4655310336.0000 - mae: 3480.1794 - val_loss: 5108869120.0000 - val_mae: 2799.2095\n",
      "Epoch 407/500\n",
      "5905/5905 [==============================] - 41s 7ms/step - loss: 4648376832.0000 - mae: 3410.2273 - val_loss: 5167520256.0000 - val_mae: 2802.3530\n",
      "Epoch 408/500\n",
      "5905/5905 [==============================] - 40s 7ms/step - loss: 4571276800.0000 - mae: 3409.6499 - val_loss: 6645942272.0000 - val_mae: 3179.9446\n",
      "Epoch 409/500\n",
      "5905/5905 [==============================] - 41s 7ms/step - loss: 4538970624.0000 - mae: 3377.9551 - val_loss: 5452164096.0000 - val_mae: 5002.9185\n",
      "Epoch 410/500\n",
      "5905/5905 [==============================] - 44s 7ms/step - loss: 4411731456.0000 - mae: 3526.3411 - val_loss: 7659801088.0000 - val_mae: 7120.4961\n",
      "Epoch 411/500\n",
      "5905/5905 [==============================] - 42s 7ms/step - loss: 4576998400.0000 - mae: 3440.6599 - val_loss: 5401674240.0000 - val_mae: 3851.2285\n",
      "Epoch 412/500\n",
      "5905/5905 [==============================] - 42s 7ms/step - loss: 4543058432.0000 - mae: 3528.8308 - val_loss: 5125344768.0000 - val_mae: 5250.6323\n",
      "Epoch 413/500\n",
      "5905/5905 [==============================] - 42s 7ms/step - loss: 4513799680.0000 - mae: 3457.3850 - val_loss: 5487245312.0000 - val_mae: 3742.4604\n",
      "Epoch 414/500\n",
      "5905/5905 [==============================] - 42s 7ms/step - loss: 4638557696.0000 - mae: 3488.2598 - val_loss: 6271837184.0000 - val_mae: 4897.4604\n",
      "Epoch 415/500\n",
      "5905/5905 [==============================] - 42s 7ms/step - loss: 4578781696.0000 - mae: 3522.9873 - val_loss: 5232132096.0000 - val_mae: 5272.4854\n",
      "Epoch 416/500\n",
      "5905/5905 [==============================] - 42s 7ms/step - loss: 4531215360.0000 - mae: 3466.7812 - val_loss: 4893819904.0000 - val_mae: 3073.2148\n",
      "Epoch 417/500\n",
      "5905/5905 [==============================] - 43s 7ms/step - loss: 4609576448.0000 - mae: 3472.8230 - val_loss: 4798711808.0000 - val_mae: 4009.8494\n",
      "Epoch 418/500\n",
      "5905/5905 [==============================] - 43s 7ms/step - loss: 4473742336.0000 - mae: 3416.4368 - val_loss: 5348637696.0000 - val_mae: 2776.4478\n",
      "Epoch 419/500\n",
      "5905/5905 [==============================] - 43s 7ms/step - loss: 4502990336.0000 - mae: 3497.7769 - val_loss: 5053801472.0000 - val_mae: 3447.0295\n",
      "Epoch 420/500\n",
      "5905/5905 [==============================] - 42s 7ms/step - loss: 4396739584.0000 - mae: 3404.5605 - val_loss: 5823034880.0000 - val_mae: 4554.8418\n",
      "Epoch 421/500\n",
      "5905/5905 [==============================] - 42s 7ms/step - loss: 4400212480.0000 - mae: 3554.8816 - val_loss: 5483824640.0000 - val_mae: 4256.0874\n",
      "Epoch 422/500\n",
      "5905/5905 [==============================] - 42s 7ms/step - loss: 4517051392.0000 - mae: 3508.9521 - val_loss: 5099719680.0000 - val_mae: 3452.0791\n",
      "Epoch 423/500\n",
      "5905/5905 [==============================] - 43s 7ms/step - loss: 4536488960.0000 - mae: 3382.7778 - val_loss: 4825786368.0000 - val_mae: 3380.7676\n",
      "Epoch 424/500\n",
      "5905/5905 [==============================] - 43s 7ms/step - loss: 4515783680.0000 - mae: 3465.1223 - val_loss: 5646745600.0000 - val_mae: 4069.8196\n",
      "Epoch 425/500\n",
      "5905/5905 [==============================] - 43s 7ms/step - loss: 4565667840.0000 - mae: 3415.0806 - val_loss: 4727106560.0000 - val_mae: 3083.3435\n",
      "Epoch 426/500\n",
      "5905/5905 [==============================] - 42s 7ms/step - loss: 4496982528.0000 - mae: 3295.8923 - val_loss: 4820996096.0000 - val_mae: 3943.9480\n",
      "Epoch 427/500\n",
      "5905/5905 [==============================] - 43s 7ms/step - loss: 4516698624.0000 - mae: 3395.8257 - val_loss: 6579119616.0000 - val_mae: 4356.1909\n",
      "Epoch 428/500\n",
      "5905/5905 [==============================] - 43s 7ms/step - loss: 4599720448.0000 - mae: 3425.5803 - val_loss: 5864757248.0000 - val_mae: 3364.7061\n",
      "Epoch 429/500\n",
      "5905/5905 [==============================] - 43s 7ms/step - loss: 4478416896.0000 - mae: 3346.4619 - val_loss: 5285870080.0000 - val_mae: 3923.4905\n",
      "Epoch 430/500\n",
      "5905/5905 [==============================] - 43s 7ms/step - loss: 4580462592.0000 - mae: 3420.1003 - val_loss: 5242752512.0000 - val_mae: 4180.5205\n",
      "Epoch 431/500\n",
      "5905/5905 [==============================] - 42s 7ms/step - loss: 4466542592.0000 - mae: 3313.2249 - val_loss: 4719354368.0000 - val_mae: 5303.8535\n",
      "Epoch 432/500\n",
      "5905/5905 [==============================] - 41s 7ms/step - loss: 4549758464.0000 - mae: 3383.7917 - val_loss: 5105139200.0000 - val_mae: 3576.6125\n",
      "Epoch 433/500\n",
      "5905/5905 [==============================] - 42s 7ms/step - loss: 4407079424.0000 - mae: 3288.5637 - val_loss: 6239054336.0000 - val_mae: 2757.6484\n",
      "Epoch 434/500\n",
      "5905/5905 [==============================] - 41s 7ms/step - loss: 4527782912.0000 - mae: 3416.0781 - val_loss: 6187347968.0000 - val_mae: 3367.8501\n",
      "Epoch 435/500\n",
      "5905/5905 [==============================] - 41s 7ms/step - loss: 4510203904.0000 - mae: 3354.2478 - val_loss: 4680260096.0000 - val_mae: 2809.5225\n",
      "Epoch 436/500\n",
      "5905/5905 [==============================] - 41s 7ms/step - loss: 4470136320.0000 - mae: 3378.6616 - val_loss: 5253850112.0000 - val_mae: 3655.9980\n",
      "Epoch 437/500\n",
      "5905/5905 [==============================] - 41s 7ms/step - loss: 4523943936.0000 - mae: 3348.3787 - val_loss: 4633955328.0000 - val_mae: 3328.5654\n",
      "Epoch 438/500\n",
      "5905/5905 [==============================] - 42s 7ms/step - loss: 4386884608.0000 - mae: 3369.3613 - val_loss: 4854767616.0000 - val_mae: 2704.6267\n",
      "Epoch 439/500\n",
      "5905/5905 [==============================] - 41s 7ms/step - loss: 4536627712.0000 - mae: 3484.2336 - val_loss: 5108404736.0000 - val_mae: 3416.0532\n",
      "Epoch 440/500\n",
      "5905/5905 [==============================] - 42s 7ms/step - loss: 4375372800.0000 - mae: 3319.1890 - val_loss: 5113090560.0000 - val_mae: 2828.0645\n",
      "Epoch 441/500\n",
      "5905/5905 [==============================] - 42s 7ms/step - loss: 4664367104.0000 - mae: 3351.3350 - val_loss: 4919791104.0000 - val_mae: 5024.0757\n",
      "Epoch 442/500\n",
      "5905/5905 [==============================] - 42s 7ms/step - loss: 4530697728.0000 - mae: 3297.3042 - val_loss: 4641014784.0000 - val_mae: 3125.0994\n",
      "Epoch 443/500\n",
      "5905/5905 [==============================] - 41s 7ms/step - loss: 4555635712.0000 - mae: 3353.8806 - val_loss: 4615091712.0000 - val_mae: 3290.0862\n",
      "Epoch 444/500\n",
      "5905/5905 [==============================] - 41s 7ms/step - loss: 4364601856.0000 - mae: 3283.3279 - val_loss: 5517579264.0000 - val_mae: 3398.2117\n",
      "Epoch 445/500\n",
      "5905/5905 [==============================] - 42s 7ms/step - loss: 4606656000.0000 - mae: 3397.6389 - val_loss: 4826832384.0000 - val_mae: 2698.6174\n",
      "Epoch 446/500\n",
      "5905/5905 [==============================] - 42s 7ms/step - loss: 4542643200.0000 - mae: 3375.0618 - val_loss: 4920358400.0000 - val_mae: 3598.8333\n",
      "Epoch 447/500\n",
      "5905/5905 [==============================] - 42s 7ms/step - loss: 4561614336.0000 - mae: 3324.3098 - val_loss: 4733993984.0000 - val_mae: 2976.9333\n",
      "Epoch 448/500\n",
      "5905/5905 [==============================] - 41s 7ms/step - loss: 4510411264.0000 - mae: 3271.7292 - val_loss: 4874679296.0000 - val_mae: 4194.7910\n",
      "Epoch 449/500\n",
      "5905/5905 [==============================] - 42s 7ms/step - loss: 4500069888.0000 - mae: 3334.4995 - val_loss: 5239678976.0000 - val_mae: 2840.3779\n",
      "Epoch 450/500\n",
      "5905/5905 [==============================] - 42s 7ms/step - loss: 4485834752.0000 - mae: 3382.5964 - val_loss: 4802762752.0000 - val_mae: 2719.4426\n",
      "Epoch 451/500\n",
      "5905/5905 [==============================] - 41s 7ms/step - loss: 4376039424.0000 - mae: 3253.7532 - val_loss: 5540966912.0000 - val_mae: 2674.4700\n",
      "Epoch 452/500\n",
      "5905/5905 [==============================] - 41s 7ms/step - loss: 4413293568.0000 - mae: 3306.9663 - val_loss: 4829179904.0000 - val_mae: 3743.7229\n",
      "Epoch 453/500\n",
      "5905/5905 [==============================] - 41s 7ms/step - loss: 4669670912.0000 - mae: 3414.1077 - val_loss: 4700345856.0000 - val_mae: 3747.6353\n",
      "Epoch 454/500\n",
      "5905/5905 [==============================] - 42s 7ms/step - loss: 4498837504.0000 - mae: 3286.1035 - val_loss: 7378535424.0000 - val_mae: 5126.2773\n",
      "Epoch 455/500\n",
      "5905/5905 [==============================] - 42s 7ms/step - loss: 4591833088.0000 - mae: 3376.2490 - val_loss: 4904060416.0000 - val_mae: 5603.5151\n",
      "Epoch 456/500\n",
      "5905/5905 [==============================] - 40s 7ms/step - loss: 4564113920.0000 - mae: 3411.1091 - val_loss: 5458745344.0000 - val_mae: 3149.2732\n",
      "Epoch 457/500\n",
      "5905/5905 [==============================] - 41s 7ms/step - loss: 4522090496.0000 - mae: 3395.3665 - val_loss: 4869356544.0000 - val_mae: 2549.1582\n",
      "Epoch 458/500\n",
      "5905/5905 [==============================] - 41s 7ms/step - loss: 4532295680.0000 - mae: 3340.7698 - val_loss: 4670011392.0000 - val_mae: 3255.0959\n",
      "Epoch 459/500\n",
      "5905/5905 [==============================] - 41s 7ms/step - loss: 4564067328.0000 - mae: 3353.9250 - val_loss: 4631104000.0000 - val_mae: 3058.8335\n",
      "Epoch 460/500\n",
      "5905/5905 [==============================] - 40s 7ms/step - loss: 4554073088.0000 - mae: 3305.8542 - val_loss: 4946347008.0000 - val_mae: 4761.4663\n",
      "Epoch 461/500\n",
      "5905/5905 [==============================] - 42s 7ms/step - loss: 4435579904.0000 - mae: 3248.0830 - val_loss: 4720095744.0000 - val_mae: 3546.9375\n",
      "Epoch 462/500\n",
      "5905/5905 [==============================] - 42s 7ms/step - loss: 4322317312.0000 - mae: 3235.4155 - val_loss: 5095324672.0000 - val_mae: 4364.9844\n",
      "Epoch 463/500\n",
      "5905/5905 [==============================] - 41s 7ms/step - loss: 4482417664.0000 - mae: 3259.6670 - val_loss: 5643835904.0000 - val_mae: 2618.2654\n",
      "Epoch 464/500\n",
      "5905/5905 [==============================] - 40s 7ms/step - loss: 4369273856.0000 - mae: 3234.4980 - val_loss: 4949099008.0000 - val_mae: 3588.0574\n",
      "Epoch 465/500\n",
      "5905/5905 [==============================] - 41s 7ms/step - loss: 4321010688.0000 - mae: 3198.1790 - val_loss: 5279759872.0000 - val_mae: 2399.4365\n",
      "Epoch 466/500\n",
      "5905/5905 [==============================] - 41s 7ms/step - loss: 4455781888.0000 - mae: 3300.7168 - val_loss: 4956109824.0000 - val_mae: 2822.7671\n",
      "Epoch 467/500\n",
      "5905/5905 [==============================] - 42s 7ms/step - loss: 4316419584.0000 - mae: 3215.2200 - val_loss: 4703025152.0000 - val_mae: 3572.3374\n",
      "Epoch 468/500\n",
      "5905/5905 [==============================] - 41s 7ms/step - loss: 4452022784.0000 - mae: 3270.2109 - val_loss: 5169132032.0000 - val_mae: 2868.5771\n",
      "Epoch 469/500\n",
      "5905/5905 [==============================] - 42s 7ms/step - loss: 4377417728.0000 - mae: 3251.0891 - val_loss: 4540986368.0000 - val_mae: 3622.3325\n",
      "Epoch 470/500\n",
      "5905/5905 [==============================] - 41s 7ms/step - loss: 4480470528.0000 - mae: 3282.1187 - val_loss: 5352336384.0000 - val_mae: 2432.9390\n",
      "Epoch 471/500\n",
      "5905/5905 [==============================] - 41s 7ms/step - loss: 4389615616.0000 - mae: 3233.8171 - val_loss: 4589067264.0000 - val_mae: 3672.9580\n",
      "Epoch 472/500\n",
      "5905/5905 [==============================] - 41s 7ms/step - loss: 4431481344.0000 - mae: 3194.3350 - val_loss: 4392175104.0000 - val_mae: 3287.9619\n",
      "Epoch 473/500\n",
      "5905/5905 [==============================] - 42s 7ms/step - loss: 4408888320.0000 - mae: 3228.3242 - val_loss: 4566941696.0000 - val_mae: 3837.1277\n",
      "Epoch 474/500\n",
      "5905/5905 [==============================] - 41s 7ms/step - loss: 4434767872.0000 - mae: 3271.1492 - val_loss: 4481722880.0000 - val_mae: 3080.5581\n",
      "Epoch 475/500\n",
      "5905/5905 [==============================] - 42s 7ms/step - loss: 4484825088.0000 - mae: 3152.3721 - val_loss: 5190461440.0000 - val_mae: 4376.7046\n",
      "Epoch 476/500\n",
      "5905/5905 [==============================] - 41s 7ms/step - loss: 4381054464.0000 - mae: 3259.8677 - val_loss: 4494355968.0000 - val_mae: 3366.3914\n",
      "Epoch 477/500\n",
      "5905/5905 [==============================] - 42s 7ms/step - loss: 4517023744.0000 - mae: 3275.0981 - val_loss: 4918288384.0000 - val_mae: 4474.7773\n",
      "Epoch 478/500\n",
      "5905/5905 [==============================] - 41s 7ms/step - loss: 4345085440.0000 - mae: 3287.7375 - val_loss: 4572843520.0000 - val_mae: 3384.7839\n",
      "Epoch 479/500\n",
      "5905/5905 [==============================] - 41s 7ms/step - loss: 4420777472.0000 - mae: 3285.6279 - val_loss: 4481802752.0000 - val_mae: 2847.6553\n",
      "Epoch 480/500\n",
      "5905/5905 [==============================] - 40s 7ms/step - loss: 4304331776.0000 - mae: 3204.7468 - val_loss: 4480402432.0000 - val_mae: 3249.4863\n",
      "Epoch 481/500\n",
      "5905/5905 [==============================] - 41s 7ms/step - loss: 4236417792.0000 - mae: 3186.0129 - val_loss: 4859369984.0000 - val_mae: 3330.3159\n",
      "Epoch 482/500\n",
      "5905/5905 [==============================] - 41s 7ms/step - loss: 4435748352.0000 - mae: 3207.8328 - val_loss: 4521933824.0000 - val_mae: 2837.8538\n",
      "Epoch 483/500\n",
      "5905/5905 [==============================] - 42s 7ms/step - loss: 4217792768.0000 - mae: 3193.5745 - val_loss: 4400633344.0000 - val_mae: 2817.8110\n",
      "Epoch 484/500\n",
      "5905/5905 [==============================] - 41s 7ms/step - loss: 4388999168.0000 - mae: 3182.7859 - val_loss: 5198795264.0000 - val_mae: 3727.5996\n",
      "Epoch 485/500\n",
      "5905/5905 [==============================] - 42s 7ms/step - loss: 4207984128.0000 - mae: 3236.1648 - val_loss: 5815497728.0000 - val_mae: 2930.3130\n",
      "Epoch 486/500\n",
      "5905/5905 [==============================] - 41s 7ms/step - loss: 4472178176.0000 - mae: 3269.1089 - val_loss: 4628110336.0000 - val_mae: 2817.8425\n",
      "Epoch 487/500\n",
      "5905/5905 [==============================] - 41s 7ms/step - loss: 4458197504.0000 - mae: 3254.8586 - val_loss: 4570505216.0000 - val_mae: 2875.5771\n",
      "Epoch 488/500\n",
      "5905/5905 [==============================] - 41s 7ms/step - loss: 4331871744.0000 - mae: 3184.4819 - val_loss: 4730534912.0000 - val_mae: 2801.0308\n",
      "Epoch 489/500\n",
      "5905/5905 [==============================] - 41s 7ms/step - loss: 4443231232.0000 - mae: 3181.8801 - val_loss: 5932799488.0000 - val_mae: 2391.6716\n",
      "Epoch 490/500\n",
      "5905/5905 [==============================] - 41s 7ms/step - loss: 4483471360.0000 - mae: 3239.5930 - val_loss: 5929547776.0000 - val_mae: 3045.6746\n",
      "Epoch 491/500\n",
      "5905/5905 [==============================] - 40s 7ms/step - loss: 4611597312.0000 - mae: 3201.7004 - val_loss: 4776571904.0000 - val_mae: 3793.1516\n",
      "Epoch 492/500\n",
      "5905/5905 [==============================] - 41s 7ms/step - loss: 4250209792.0000 - mae: 3130.3191 - val_loss: 5792352256.0000 - val_mae: 2519.0403\n",
      "Epoch 493/500\n",
      "5905/5905 [==============================] - 41s 7ms/step - loss: 4563867136.0000 - mae: 3251.7183 - val_loss: 4728537088.0000 - val_mae: 2795.5488\n",
      "Epoch 494/500\n",
      "5905/5905 [==============================] - 41s 7ms/step - loss: 4192990720.0000 - mae: 3200.9426 - val_loss: 5292908032.0000 - val_mae: 3815.7107\n",
      "Epoch 495/500\n",
      "5905/5905 [==============================] - 41s 7ms/step - loss: 4446505984.0000 - mae: 3226.7600 - val_loss: 4440340480.0000 - val_mae: 3020.7996\n",
      "Epoch 496/500\n",
      "5905/5905 [==============================] - 41s 7ms/step - loss: 4197459456.0000 - mae: 3140.4285 - val_loss: 4533242368.0000 - val_mae: 4841.2437\n",
      "Epoch 497/500\n",
      "5905/5905 [==============================] - 41s 7ms/step - loss: 4264708096.0000 - mae: 3124.3379 - val_loss: 4895962624.0000 - val_mae: 2338.3052\n",
      "Epoch 498/500\n",
      "5905/5905 [==============================] - 42s 7ms/step - loss: 4206436864.0000 - mae: 3094.2761 - val_loss: 5108849664.0000 - val_mae: 2760.2300\n",
      "Epoch 499/500\n",
      "5905/5905 [==============================] - 42s 7ms/step - loss: 4335890432.0000 - mae: 3166.2407 - val_loss: 4914095616.0000 - val_mae: 4047.3889\n",
      "Epoch 500/500\n",
      "5905/5905 [==============================] - 42s 7ms/step - loss: 4432840192.0000 - mae: 3195.5083 - val_loss: 4934236672.0000 - val_mae: 4114.3062\n"
     ]
    }
   ],
   "source": [
    "history = ann.fit(X_train, y_train,\n",
    "                    validation_data = (X_val, y_val),\n",
    "                    callbacks=[es],\n",
    "                    epochs=500,\n",
    "                    batch_size=50,\n",
    "                    verbose=1)"
   ]
  },
  {
   "cell_type": "markdown",
   "metadata": {
    "colab_type": "text",
    "id": "0H0zKKNEBLD5"
   },
   "source": [
    "### Analyse learn history"
   ]
  },
  {
   "cell_type": "code",
   "execution_count": 25,
   "metadata": {
    "ExecuteTime": {
     "end_time": "2023-10-04T22:27:56.355652Z",
     "start_time": "2023-10-04T22:27:56.087299700Z"
    }
   },
   "outputs": [
    {
     "data": {
      "text/plain": "<Figure size 640x480 with 1 Axes>",
      "image/png": "[encoded data removed]"
     },
     "metadata": {},
     "output_type": "display_data"
    }
   ],
   "source": [
    "# let's see the training and validation accuracy by epoch\n",
    "history_dict = history.history\n",
    "loss_values = history_dict['loss'] # you can change this\n",
    "val_loss_values = history_dict['val_loss'] # you can also change this\n",
    "epochs = range(1, len(loss_values) + 1) # range of X (no. of epochs)\n",
    "plt.plot(epochs, loss_values, 'blue', label='Train set loss')\n",
    "plt.plot(epochs, val_loss_values, 'orange', label='Validation set loss')\n",
    "#plt.title('Training and testing loss')\n",
    "plt.xlabel('Epochs')\n",
    "plt.ylabel('Loss (MSE)')\n",
    "plt.legend()\n",
    "plt.show()"
   ]
  },
  {
   "cell_type": "code",
   "execution_count": 26,
   "metadata": {
    "ExecuteTime": {
     "end_time": "2023-10-04T22:28:01.307060300Z",
     "start_time": "2023-10-04T22:28:01.134951100Z"
    }
   },
   "outputs": [
    {
     "data": {
      "text/plain": "<Figure size 640x480 with 1 Axes>",
      "image/png": "[encoded data removed]"
     },
     "metadata": {},
     "output_type": "display_data"
    }
   ],
   "source": [
    "loss_values1 = history_dict['mae'] # you can change this\n",
    "val_loss_values1 = history_dict['val_mae'] # you can also change this\n",
    "epochs = range(1, len(loss_values1) + 1) # range of X (no. of epochs)\n",
    "plt.plot(epochs, loss_values1, 'blue', label='Train set MAE')\n",
    "plt.plot(epochs, val_loss_values1, 'orange', label='Validation set MAE')\n",
    "#plt.title('Training and testing MAE')\n",
    "plt.xlabel('Epochs')\n",
    "plt.ylabel('MAE')\n",
    "plt.legend()\n",
    "plt.show()"
   ]
  },
  {
   "cell_type": "code",
   "execution_count": null,
   "metadata": {},
   "outputs": [],
   "source": [
    "print (epochs)"
   ]
  },
  {
   "cell_type": "markdown",
   "metadata": {},
   "source": [
    "### Save the model"
   ]
  },
  {
   "cell_type": "code",
   "execution_count": null,
   "metadata": {},
   "outputs": [],
   "source": [
    "ann.save('ANN_1.h5')"
   ]
  },
  {
   "cell_type": "markdown",
   "metadata": {},
   "source": [
    "## Part 5 - Make predictions"
   ]
  },
  {
   "cell_type": "code",
   "execution_count": null,
   "metadata": {},
   "outputs": [],
   "source": [
    "ann = load_model('ANN_1.h5')"
   ]
  },
  {
   "cell_type": "code",
   "execution_count": 27,
   "metadata": {
    "ExecuteTime": {
     "end_time": "2023-10-04T22:29:12.111236400Z",
     "start_time": "2023-10-04T22:28:20.111992900Z"
    }
   },
   "outputs": [
    {
     "name": "stdout",
     "output_type": "stream",
     "text": [
      "9226/9226 [==============================] - 27s 3ms/step\n",
      "3076/3076 [==============================] - 18s 6ms/step\n"
     ]
    },
    {
     "data": {
      "text/plain": "<Figure size 640x480 with 2 Axes>",
      "image/png": "[encoded data removed]"
     },
     "metadata": {},
     "output_type": "display_data"
    }
   ],
   "source": [
    "# scatterplot of actual vs. pred\n",
    "# specify the dimensions \n",
    "fig, axes = plt.subplots(1,2) # 1 row, 2 columns\n",
    "\n",
    "# this makes the individual subplots\n",
    "# Training Results\n",
    "axes[0].scatter(x=y_train, y=ann.predict(X_train)) #first row, first entry (left top)\n",
    "axes[0].set_xlabel(\"Actual\", fontsize=10)\n",
    "axes[0].set_ylabel(\"Predicted\",  fontsize=10)\n",
    "axes[0].set_title(\"Training\")\n",
    "# add 45 deg line\n",
    "x = np.linspace(*axes[0].get_xlim())\n",
    "axes[0].plot(x, x, color='red')\n",
    "# Validation Results\n",
    "axes[1].scatter(x=y_val, y=ann.predict(X_val)) # first row, second entry (right top)\n",
    "axes[1].set_xlabel(\"Actual\", fontsize=10)\n",
    "axes[1].set_ylabel(\"Predicted\",  fontsize=10)\n",
    "axes[1].set_title(\"Validation\")\n",
    "# add 45 deg line\n",
    "x = np.linspace(*axes[1].get_xlim())\n",
    "axes[1].plot(x, x, color='red')\n",
    "\n",
    "# tight layout\n",
    "fig.tight_layout()\n",
    "\n",
    "# show the plot\n",
    "plt.show()"
   ]
  },
  {
   "cell_type": "code",
   "execution_count": 28,
   "metadata": {
    "colab": {
     "base_uri": "https://localhost:8080/",
     "height": 134
    },
    "colab_type": "code",
    "id": "IA0yApEmBG1X",
    "outputId": "cb981e1f-9204-4a2a-fece-9d66a6919189",
    "ExecuteTime": {
     "end_time": "2023-10-04T22:29:36.323492300Z",
     "start_time": "2023-10-04T22:29:17.088775700Z"
    }
   },
   "outputs": [
    {
     "name": "stdout",
     "output_type": "stream",
     "text": [
      "3076/3076 [==============================] - 18s 6ms/step\n",
      "[[ 67268.97  73126.14]\n",
      " [125447.97 128423.22]\n",
      " [ 96883.59  97779.79]\n",
      " ...\n",
      " [ 97422.8   98427.59]\n",
      " [ 99261.66 100222.85]\n",
      " [214805.59 216468.36]]\n"
     ]
    }
   ],
   "source": [
    "y_pred = ann.predict(X_test)\n",
    "np.set_printoptions(precision=2)\n",
    "print(np.concatenate((y_pred.reshape(len(y_pred),1), y_test.reshape(len(y_test),1)),1))"
   ]
  },
  {
   "cell_type": "code",
   "execution_count": null,
   "metadata": {},
   "outputs": [],
   "source": [
    "import matplotlib.pyplot as plt\n",
    "plt.scatter(y_test, y_pred, color=\"blue\")\n",
    "#plt.plot ([0,8500000],[0,8500000], color = \"red\")\n",
    "#plt.axis ([0,8500000,0,8500000])\n",
    "plt.xlabel ('Actual data')\n",
    "plt.ylabel ('Predicted data')"
   ]
  },
  {
   "cell_type": "code",
   "execution_count": null,
   "metadata": {},
   "outputs": [],
   "source": [
    "from sklearn.metrics import r2_score\n",
    "# Initialize layout\n",
    "fig1, ax1 = plt.subplots(figsize = (9, 9))\n",
    "\n",
    "\n",
    "#y = y_pred         # Model on prvious line is called here\n",
    "#x = y_test\n",
    "\n",
    "\n",
    "\n",
    "# Add scatterplot\n",
    "ax1.scatter(y_test, y_pred, s=70, alpha=1, edgecolors=\"k\",c='mediumblue',zorder=5, label = 'Points')\n",
    "\n",
    "\n",
    "plt.ylabel('Predicted Peak Incident Pressure (kPa)',fontsize = 25)\n",
    "plt.xlabel('Actual Peak Incident Pressure (kPa)',fontsize = 25)\n",
    "plt.xticks(fontsize = 19)\n",
    "plt.yticks(fontsize = 19)\n",
    "\n",
    "\n",
    "x1 = np.linspace(0,8000000)\n",
    "\n",
    "plt.plot(x1, x1, 'Red', label='45\\N{DEGREE SIGN} line',lw=2.5,alpha=1)\n",
    "plt.plot(x1, 1.1*x1, '--m', label='\\u00B110% Error',lw=2.5,alpha=0.7)\n",
    "plt.plot(x1, 0.9*x1,'m', linestyle='--',lw=2.5,alpha=0.7)\n",
    "plt.plot(x1, 1.2*x1, '-.g', label='\\u00B120% Error',lw=2.5,alpha=0.7)\n",
    "plt.plot(x1, 0.8*x1,'-.g',lw=2.5,alpha=0.7)\n",
    "\n",
    "plt.ylim(0,8000000)\n",
    "plt.xlim(0,8000000)\n",
    "plt.legend(loc='upper left',fontsize = 25)\n",
    "\n",
    "plt.grid()\n",
    "\n",
    "ax1.spines['left'].set_color('black')        # setting up Y-axis tick color to red\n",
    "ax1.spines['bottom'].set_color('black')         #setting up above X-axis tick color to red\n",
    "\n",
    "\n",
    "\n",
    "#ax1.annotate(\"$R^2$ = {:.3f}\".format(r2), (2500, 1000),fontsize = 25)  #Model is called here\n",
    "#ax1.annotate(\"Adj.$R^2$ = {:.3f}\".format(adj_r2), (2500, 750),fontsize = 25)\n",
    "\n",
    "#plt.savefig('plot1.png', dpi = 600, bbox_inches = 'tight')"
   ]
  },
  {
   "cell_type": "code",
   "execution_count": null,
   "metadata": {},
   "outputs": [],
   "source": [
    "# metrics\n",
    "trainpreds = ann.predict(X_train)\n",
    "\n",
    "from sklearn.metrics import mean_absolute_error\n",
    "print(mean_absolute_error(y_train, trainpreds)) # train\n",
    "print(mean_absolute_error(y_test, y_pred)) # test"
   ]
  },
  {
   "cell_type": "code",
   "execution_count": null,
   "metadata": {},
   "outputs": [],
   "source": [
    "from sklearn.metrics import r2_score\n",
    "r2 = r2_score(y_test, y_pred)\n",
    "print (r2)"
   ]
  },
  {
   "cell_type": "code",
   "execution_count": null,
   "metadata": {},
   "outputs": [],
   "source": [
    "r2_train = r2_score(y_train, trainpreds)\n",
    "print (r2_train)"
   ]
  },
  {
   "cell_type": "code",
   "execution_count": null,
   "metadata": {},
   "outputs": [],
   "source": [
    "count1 = 0\n",
    "for i in range(len(y_pred)):\n",
    "    line1 = y_pred[i] - 0.9*y_test[i]\n",
    "    line2 = y_pred[i] - 1.1*y_test[i]\n",
    "    #print ('line 1 ', line1)\n",
    "    #print ('line 2 ', line2)\n",
    "    mask1 = (line1 > 0) & (line2 < 0)\n",
    "    #print (mask)\n",
    "    count1 = np.sum(mask1+count1)\n",
    "    #print (count)\n",
    "\n",
    "count2 = 0\n",
    "for j in range(len(y_pred)):\n",
    "    line3 = y_pred[j] - 0.8*y_test[j]\n",
    "    line4 = y_pred[j] - 1.2*y_test[j]\n",
    "    mask2 = (line3 > 0) & (line4 < 0)\n",
    "    count2 = np.sum(mask2+count2)\n",
    "\n",
    "\n",
    "count3 = 0    \n",
    "for k in range(len(y_pred)):\n",
    "    line5 = y_pred[k] - 0.8*y_test[k]\n",
    "    line6 = y_pred[k] - 1.2*y_test[k]\n",
    "    mask3 = (line5 < 0) or (line6 > 0)\n",
    "    count3 = np.sum(mask3+count3)\n",
    "   \n",
    "\n",
    "print ('Within 10% margin', format((count1/len (y_pred)),'.2%'))\n",
    "print ('Within 20% margin', format((count2/len (y_pred)),'.2%'))\n",
    "print ('Out of 20% margin', format((count3/len (y_pred)),'.2%'))"
   ]
  },
  {
   "cell_type": "code",
   "execution_count": null,
   "metadata": {},
   "outputs": [],
   "source": [
    "adj_r2 = 1 - ((1 - r2) * (len(X_test) - 1) / (len(X_test) - len (X_test[0]) - 1))\n",
    "print (adj_r2)"
   ]
  },
  {
   "cell_type": "code",
   "execution_count": null,
   "metadata": {},
   "outputs": [],
   "source": [
    "import math\n",
    "from sklearn.metrics import mean_squared_error\n",
    "\n",
    "math.sqrt(mean_squared_error(y_test, y_pred))"
   ]
  },
  {
   "cell_type": "code",
   "execution_count": null,
   "metadata": {},
   "outputs": [],
   "source": [
    "from sklearn.metrics import mean_absolute_error\n",
    "\n",
    "mean_absolute_error(y_test, y_pred)"
   ]
  }
 ],
 "metadata": {
  "colab": {
   "collapsed_sections": [],
   "name": "Artificial Neural Network",
   "provenance": [],
   "toc_visible": true
  },
  "kernelspec": {
   "display_name": "Python 3 (ipykernel)",
   "language": "python",
   "name": "python3"
  },
  "language_info": {
   "codemirror_mode": {
    "name": "ipython",
    "version": 3
   },
   "file_extension": ".py",
   "mimetype": "text/x-python",
   "name": "python",
   "nbconvert_exporter": "python",
   "pygments_lexer": "ipython3",
   "version": "3.9.7"
  }
 },
 "nbformat": 4,
 "nbformat_minor": 4
}
