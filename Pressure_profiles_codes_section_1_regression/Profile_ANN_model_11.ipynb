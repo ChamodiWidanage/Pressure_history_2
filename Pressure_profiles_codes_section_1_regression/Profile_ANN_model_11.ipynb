{
 "cells": [
  {
   "cell_type": "markdown",
   "metadata": {
    "colab_type": "text",
    "id": "3cbb7fRy-eyr"
   },
   "source": [
    "# Artificial Neural Network"
   ]
  },
  {
   "cell_type": "markdown",
   "metadata": {
    "colab_type": "text",
    "id": "8sNDnxE2-pwE"
   },
   "source": [
    "## Part 1 - Importing the libraries"
   ]
  },
  {
   "cell_type": "code",
   "execution_count": 1,
   "metadata": {
    "colab": {},
    "colab_type": "code",
    "id": "lxChR1Rk-umf",
    "ExecuteTime": {
     "end_time": "2023-10-10T22:36:55.966701800Z",
     "start_time": "2023-10-10T22:36:51.344067Z"
    }
   },
   "outputs": [],
   "source": [
    "import numpy as np\n",
    "import pandas as pd\n",
    "import tensorflow as tf\n",
    "import matplotlib.pyplot as plt\n",
    "from keras.models import load_model\n",
    "from pathlib import Path"
   ]
  },
  {
   "cell_type": "markdown",
   "metadata": {
    "colab_type": "text",
    "id": "AG3FQEch-yuA"
   },
   "source": [
    "## Part 2 - Data Preprocessing"
   ]
  },
  {
   "cell_type": "markdown",
   "metadata": {
    "colab_type": "text",
    "id": "-4zq8Mza_D9O"
   },
   "source": [
    "### Importing the dataset"
   ]
  },
  {
   "cell_type": "code",
   "execution_count": 2,
   "metadata": {
    "ExecuteTime": {
     "end_time": "2023-10-10T22:44:38.595484500Z",
     "start_time": "2023-10-10T22:44:38.532329Z"
    }
   },
   "outputs": [
    {
     "name": "stdout",
     "output_type": "stream",
     "text": [
      "input G:\\Chamodi\\Machine_Learning\\Pressure_history_2\\Pressure_profiles_arrival_omitted\n",
      "2 [WindowsPath('G:/Chamodi/Machine_Learning/Pressure_history_2/Pressure_profiles_arrival_omitted/L13_1'), WindowsPath('G:/Chamodi/Machine_Learning/Pressure_history_2/Pressure_profiles_arrival_omitted/L13_11'), WindowsPath('G:/Chamodi/Machine_Learning/Pressure_history_2/Pressure_profiles_arrival_omitted/L13_13'), WindowsPath('G:/Chamodi/Machine_Learning/Pressure_history_2/Pressure_profiles_arrival_omitted/L13_15'), WindowsPath('G:/Chamodi/Machine_Learning/Pressure_history_2/Pressure_profiles_arrival_omitted/L13_17'), WindowsPath('G:/Chamodi/Machine_Learning/Pressure_history_2/Pressure_profiles_arrival_omitted/L13_19'), WindowsPath('G:/Chamodi/Machine_Learning/Pressure_history_2/Pressure_profiles_arrival_omitted/L13_21'), WindowsPath('G:/Chamodi/Machine_Learning/Pressure_history_2/Pressure_profiles_arrival_omitted/L13_23'), WindowsPath('G:/Chamodi/Machine_Learning/Pressure_history_2/Pressure_profiles_arrival_omitted/L13_25'), WindowsPath('G:/Chamodi/Machine_Learning/Pressure_history_2/Pressure_profiles_arrival_omitted/L13_27'), WindowsPath('G:/Chamodi/Machine_Learning/Pressure_history_2/Pressure_profiles_arrival_omitted/L13_29'), WindowsPath('G:/Chamodi/Machine_Learning/Pressure_history_2/Pressure_profiles_arrival_omitted/L13_3'), WindowsPath('G:/Chamodi/Machine_Learning/Pressure_history_2/Pressure_profiles_arrival_omitted/L13_31'), WindowsPath('G:/Chamodi/Machine_Learning/Pressure_history_2/Pressure_profiles_arrival_omitted/L13_33'), WindowsPath('G:/Chamodi/Machine_Learning/Pressure_history_2/Pressure_profiles_arrival_omitted/L13_35'), WindowsPath('G:/Chamodi/Machine_Learning/Pressure_history_2/Pressure_profiles_arrival_omitted/L13_37'), WindowsPath('G:/Chamodi/Machine_Learning/Pressure_history_2/Pressure_profiles_arrival_omitted/L13_39'), WindowsPath('G:/Chamodi/Machine_Learning/Pressure_history_2/Pressure_profiles_arrival_omitted/L13_41'), WindowsPath('G:/Chamodi/Machine_Learning/Pressure_history_2/Pressure_profiles_arrival_omitted/L13_43'), WindowsPath('G:/Chamodi/Machine_Learning/Pressure_history_2/Pressure_profiles_arrival_omitted/L13_45'), WindowsPath('G:/Chamodi/Machine_Learning/Pressure_history_2/Pressure_profiles_arrival_omitted/L13_47'), WindowsPath('G:/Chamodi/Machine_Learning/Pressure_history_2/Pressure_profiles_arrival_omitted/L13_49'), WindowsPath('G:/Chamodi/Machine_Learning/Pressure_history_2/Pressure_profiles_arrival_omitted/L13_5'), WindowsPath('G:/Chamodi/Machine_Learning/Pressure_history_2/Pressure_profiles_arrival_omitted/L13_51'), WindowsPath('G:/Chamodi/Machine_Learning/Pressure_history_2/Pressure_profiles_arrival_omitted/L13_53'), WindowsPath('G:/Chamodi/Machine_Learning/Pressure_history_2/Pressure_profiles_arrival_omitted/L13_55'), WindowsPath('G:/Chamodi/Machine_Learning/Pressure_history_2/Pressure_profiles_arrival_omitted/L13_57'), WindowsPath('G:/Chamodi/Machine_Learning/Pressure_history_2/Pressure_profiles_arrival_omitted/L13_59'), WindowsPath('G:/Chamodi/Machine_Learning/Pressure_history_2/Pressure_profiles_arrival_omitted/L13_61'), WindowsPath('G:/Chamodi/Machine_Learning/Pressure_history_2/Pressure_profiles_arrival_omitted/L13_63'), WindowsPath('G:/Chamodi/Machine_Learning/Pressure_history_2/Pressure_profiles_arrival_omitted/L13_65'), WindowsPath('G:/Chamodi/Machine_Learning/Pressure_history_2/Pressure_profiles_arrival_omitted/L13_67'), WindowsPath('G:/Chamodi/Machine_Learning/Pressure_history_2/Pressure_profiles_arrival_omitted/L13_69'), WindowsPath('G:/Chamodi/Machine_Learning/Pressure_history_2/Pressure_profiles_arrival_omitted/L13_7'), WindowsPath('G:/Chamodi/Machine_Learning/Pressure_history_2/Pressure_profiles_arrival_omitted/L13_70'), WindowsPath('G:/Chamodi/Machine_Learning/Pressure_history_2/Pressure_profiles_arrival_omitted/L13_9')]\n"
     ]
    }
   ],
   "source": [
    "#Access input folder\n",
    "current_dir = Path.cwd()\n",
    "parent_dir = current_dir.parent\n",
    "input_dir1 = Path (parent_dir/\"Pressure_profiles_arrival_omitted\")\n",
    "print (\"input\",input_dir1)\n",
    "\n",
    "#Access folders inside input folder\n",
    "input_dir2_train =  [folder_input for folder_input in input_dir1.iterdir() if folder_input.is_dir()]\n",
    "print (\"2\",input_dir2_train)"
   ]
  },
  {
   "cell_type": "code",
   "execution_count": 3,
   "metadata": {
    "ExecuteTime": {
     "end_time": "2023-10-10T22:45:26.453771500Z",
     "start_time": "2023-10-10T22:44:40.289503Z"
    }
   },
   "outputs": [
    {
     "name": "stdout",
     "output_type": "stream",
     "text": [
      "folder G:\\Chamodi\\Machine_Learning\\Pressure_history_2\\Pressure_profiles_arrival_omitted\\L13_1\n",
      "P1\n",
      "P13\n",
      "P5\n",
      "P9\n",
      "folder G:\\Chamodi\\Machine_Learning\\Pressure_history_2\\Pressure_profiles_arrival_omitted\\L13_11\n",
      "P1\n",
      "P13\n",
      "P5\n",
      "P9\n",
      "folder G:\\Chamodi\\Machine_Learning\\Pressure_history_2\\Pressure_profiles_arrival_omitted\\L13_13\n",
      "P1\n",
      "P13\n",
      "P5\n",
      "P9\n",
      "folder G:\\Chamodi\\Machine_Learning\\Pressure_history_2\\Pressure_profiles_arrival_omitted\\L13_15\n",
      "P1\n",
      "P13\n",
      "P5\n",
      "P9\n",
      "folder G:\\Chamodi\\Machine_Learning\\Pressure_history_2\\Pressure_profiles_arrival_omitted\\L13_17\n",
      "P1\n",
      "P13\n",
      "P5\n",
      "P9\n",
      "folder G:\\Chamodi\\Machine_Learning\\Pressure_history_2\\Pressure_profiles_arrival_omitted\\L13_19\n",
      "P1\n",
      "P13\n",
      "P5\n",
      "P9\n",
      "folder G:\\Chamodi\\Machine_Learning\\Pressure_history_2\\Pressure_profiles_arrival_omitted\\L13_21\n",
      "P1\n",
      "P13\n",
      "P5\n",
      "P9\n",
      "folder G:\\Chamodi\\Machine_Learning\\Pressure_history_2\\Pressure_profiles_arrival_omitted\\L13_23\n",
      "P1\n",
      "P13\n",
      "P5\n",
      "P9\n",
      "folder G:\\Chamodi\\Machine_Learning\\Pressure_history_2\\Pressure_profiles_arrival_omitted\\L13_25\n",
      "P1\n",
      "P13\n",
      "P5\n",
      "P9\n",
      "folder G:\\Chamodi\\Machine_Learning\\Pressure_history_2\\Pressure_profiles_arrival_omitted\\L13_27\n",
      "P1\n",
      "P13\n",
      "P5\n",
      "P9\n",
      "folder G:\\Chamodi\\Machine_Learning\\Pressure_history_2\\Pressure_profiles_arrival_omitted\\L13_29\n",
      "P1\n",
      "P13\n",
      "P5\n",
      "P9\n",
      "folder G:\\Chamodi\\Machine_Learning\\Pressure_history_2\\Pressure_profiles_arrival_omitted\\L13_3\n",
      "P1\n",
      "P13\n",
      "P5\n",
      "P9\n",
      "folder G:\\Chamodi\\Machine_Learning\\Pressure_history_2\\Pressure_profiles_arrival_omitted\\L13_31\n",
      "P1\n",
      "P13\n",
      "P5\n",
      "P9\n",
      "folder G:\\Chamodi\\Machine_Learning\\Pressure_history_2\\Pressure_profiles_arrival_omitted\\L13_33\n",
      "P1\n",
      "P13\n",
      "P5\n",
      "P9\n",
      "folder G:\\Chamodi\\Machine_Learning\\Pressure_history_2\\Pressure_profiles_arrival_omitted\\L13_35\n",
      "P1\n",
      "P13\n",
      "P5\n",
      "P9\n",
      "folder G:\\Chamodi\\Machine_Learning\\Pressure_history_2\\Pressure_profiles_arrival_omitted\\L13_37\n",
      "P1\n",
      "P13\n",
      "P5\n",
      "P9\n",
      "folder G:\\Chamodi\\Machine_Learning\\Pressure_history_2\\Pressure_profiles_arrival_omitted\\L13_39\n",
      "P1\n",
      "P13\n",
      "P5\n",
      "P9\n",
      "folder G:\\Chamodi\\Machine_Learning\\Pressure_history_2\\Pressure_profiles_arrival_omitted\\L13_41\n",
      "P1\n",
      "P13\n",
      "P5\n",
      "P9\n",
      "folder G:\\Chamodi\\Machine_Learning\\Pressure_history_2\\Pressure_profiles_arrival_omitted\\L13_43\n",
      "P1\n",
      "P13\n",
      "P5\n",
      "P9\n",
      "folder G:\\Chamodi\\Machine_Learning\\Pressure_history_2\\Pressure_profiles_arrival_omitted\\L13_45\n",
      "P1\n",
      "P13\n",
      "P5\n",
      "P9\n",
      "folder G:\\Chamodi\\Machine_Learning\\Pressure_history_2\\Pressure_profiles_arrival_omitted\\L13_47\n",
      "P1\n",
      "P13\n",
      "P5\n",
      "P9\n",
      "folder G:\\Chamodi\\Machine_Learning\\Pressure_history_2\\Pressure_profiles_arrival_omitted\\L13_49\n",
      "P1\n",
      "P13\n",
      "P5\n",
      "P9\n",
      "folder G:\\Chamodi\\Machine_Learning\\Pressure_history_2\\Pressure_profiles_arrival_omitted\\L13_5\n",
      "P1\n",
      "P13\n",
      "P5\n",
      "P9\n",
      "folder G:\\Chamodi\\Machine_Learning\\Pressure_history_2\\Pressure_profiles_arrival_omitted\\L13_51\n",
      "P1\n",
      "P13\n",
      "P5\n",
      "P9\n",
      "folder G:\\Chamodi\\Machine_Learning\\Pressure_history_2\\Pressure_profiles_arrival_omitted\\L13_53\n",
      "P1\n",
      "P13\n",
      "P5\n",
      "P9\n",
      "folder G:\\Chamodi\\Machine_Learning\\Pressure_history_2\\Pressure_profiles_arrival_omitted\\L13_55\n",
      "P1\n",
      "P13\n",
      "P5\n",
      "P9\n",
      "folder G:\\Chamodi\\Machine_Learning\\Pressure_history_2\\Pressure_profiles_arrival_omitted\\L13_57\n",
      "P1\n",
      "P13\n",
      "P5\n",
      "P9\n",
      "folder G:\\Chamodi\\Machine_Learning\\Pressure_history_2\\Pressure_profiles_arrival_omitted\\L13_59\n",
      "P1\n",
      "P13\n",
      "P5\n",
      "P9\n",
      "folder G:\\Chamodi\\Machine_Learning\\Pressure_history_2\\Pressure_profiles_arrival_omitted\\L13_61\n",
      "P1\n",
      "P13\n",
      "P5\n",
      "P9\n",
      "folder G:\\Chamodi\\Machine_Learning\\Pressure_history_2\\Pressure_profiles_arrival_omitted\\L13_63\n",
      "P1\n",
      "P13\n",
      "P5\n",
      "P9\n",
      "folder G:\\Chamodi\\Machine_Learning\\Pressure_history_2\\Pressure_profiles_arrival_omitted\\L13_65\n",
      "P1\n",
      "P13\n",
      "P5\n",
      "P9\n",
      "folder G:\\Chamodi\\Machine_Learning\\Pressure_history_2\\Pressure_profiles_arrival_omitted\\L13_67\n",
      "P1\n",
      "P13\n",
      "P5\n",
      "P9\n",
      "folder G:\\Chamodi\\Machine_Learning\\Pressure_history_2\\Pressure_profiles_arrival_omitted\\L13_69\n",
      "P1\n",
      "P13\n",
      "P5\n",
      "P9\n",
      "folder G:\\Chamodi\\Machine_Learning\\Pressure_history_2\\Pressure_profiles_arrival_omitted\\L13_7\n",
      "P1\n",
      "P13\n",
      "P5\n",
      "P9\n",
      "folder G:\\Chamodi\\Machine_Learning\\Pressure_history_2\\Pressure_profiles_arrival_omitted\\L13_70\n",
      "P1\n",
      "P13\n",
      "P5\n",
      "P9\n",
      "folder G:\\Chamodi\\Machine_Learning\\Pressure_history_2\\Pressure_profiles_arrival_omitted\\L13_9\n",
      "P1\n",
      "P13\n",
      "P5\n",
      "P9\n"
     ]
    }
   ],
   "source": [
    "# Access each folder inside input folder\n",
    "dataset_train = pd.DataFrame(columns = ['Charge_mass', 'Standoff_distance', 'Time', 'Pressure', 'Phase'])\n",
    "df_list_train = []\n",
    "for folder_train in input_dir2_train:\n",
    "    \n",
    "    # Make a list of data file names\n",
    "    files_train = list(file_train for file_train in folder_train.rglob(\"*.xlsx\") if int(file_train.stem[1:]) < 14)\n",
    "    print (\"folder\", folder_train)\n",
    "    \n",
    "    for file_train in files_train:\n",
    "        df_list_train.append(pd.read_excel(file_train))\n",
    "        print (file_train.stem)\n",
    "\n",
    "dataset_train = pd.concat(df_list_train, ignore_index = True)"
   ]
  },
  {
   "cell_type": "code",
   "execution_count": 4,
   "metadata": {
    "colab": {},
    "colab_type": "code",
    "id": "B9CV13Co_HHM",
    "ExecuteTime": {
     "end_time": "2023-10-10T22:49:12.798422800Z",
     "start_time": "2023-10-10T22:49:12.716087100Z"
    }
   },
   "outputs": [
    {
     "name": "stdout",
     "output_type": "stream",
     "text": [
      "<class 'pandas.core.frame.DataFrame'>\n",
      "RangeIndex: 492019 entries, 0 to 492018\n",
      "Data columns (total 5 columns):\n",
      " #   Column             Non-Null Count   Dtype  \n",
      "---  ------             --------------   -----  \n",
      " 0   Charge_mass        492019 non-null  float64\n",
      " 1   Standoff_distance  492019 non-null  int64  \n",
      " 2   Time               492019 non-null  float64\n",
      " 3   Pressure           492019 non-null  float64\n",
      " 4   Phase              492019 non-null  object \n",
      "dtypes: float64(3), int64(1), object(1)\n",
      "memory usage: 18.8+ MB\n"
     ]
    }
   ],
   "source": [
    "dataset_train.info()"
   ]
  },
  {
   "cell_type": "code",
   "execution_count": 5,
   "outputs": [
    {
     "name": "stdout",
     "output_type": "stream",
     "text": [
      "<class 'pandas.core.frame.DataFrame'>\n",
      "RangeIndex: 492019 entries, 0 to 492018\n",
      "Data columns (total 6 columns):\n",
      " #   Column             Non-Null Count   Dtype  \n",
      "---  ------             --------------   -----  \n",
      " 0   Charge_mass        492019 non-null  float64\n",
      " 1   Standoff_distance  492019 non-null  int64  \n",
      " 2   Time               492019 non-null  float64\n",
      " 3   Pressure           492019 non-null  float64\n",
      " 4   Phase_negative     492019 non-null  uint8  \n",
      " 5   Phase_positive     492019 non-null  uint8  \n",
      "dtypes: float64(3), int64(1), uint8(2)\n",
      "memory usage: 16.0 MB\n"
     ]
    }
   ],
   "source": [
    "dataset_train = pd.get_dummies(dataset_train, columns =['Phase'], dtype = np.uint8)\n",
    "dataset_train.info()"
   ],
   "metadata": {
    "collapsed": false,
    "ExecuteTime": {
     "end_time": "2023-10-10T22:49:14.749189100Z",
     "start_time": "2023-10-10T22:49:14.649183900Z"
    }
   }
  },
  {
   "cell_type": "code",
   "execution_count": 6,
   "outputs": [
    {
     "data": {
      "text/plain": "    Charge_mass  Standoff_distance     Time      Pressure  Phase_negative  \\\n0           0.5                  1  0.00067  591827.62500               0   \n1           0.5                  1  0.00068  556217.18750               0   \n2           0.5                  1  0.00069  525135.00000               0   \n3           0.5                  1  0.00070  496668.90625               0   \n4           0.5                  1  0.00071  469418.40625               0   \n5           0.5                  1  0.00072  445550.09375               0   \n6           0.5                  1  0.00073  423420.03125               0   \n7           0.5                  1  0.00074  402121.96875               0   \n8           0.5                  1  0.00075  383202.34375               0   \n9           0.5                  1  0.00076  365626.65625               0   \n10          0.5                  1  0.00077  349977.50000               0   \n11          0.5                  1  0.00078  334716.18750               0   \n12          0.5                  1  0.00079  320582.50000               0   \n13          0.5                  1  0.00080  307536.68750               0   \n14          0.5                  1  0.00081  295047.87500               0   \n15          0.5                  1  0.00082  283671.71875               0   \n16          0.5                  1  0.00083  273287.31250               0   \n17          0.5                  1  0.00084  263380.59375               0   \n18          0.5                  1  0.00085  253957.70312               0   \n19          0.5                  1  0.00086  245341.54688               0   \n20          0.5                  1  0.00087  237136.67188               0   \n21          0.5                  1  0.00088  229610.26562               0   \n22          0.5                  1  0.00089  222423.93750               0   \n23          0.5                  1  0.00090  215571.06250               0   \n24          0.5                  1  0.00091  209261.32812               0   \n25          0.5                  1  0.00092  203243.39062               0   \n26          0.5                  1  0.00093  197520.82812               0   \n27          0.5                  1  0.00094  192094.54688               0   \n28          0.5                  1  0.00095  186960.62500               0   \n29          0.5                  1  0.00096  182106.14062               0   \n\n    Phase_positive  \n0                1  \n1                1  \n2                1  \n3                1  \n4                1  \n5                1  \n6                1  \n7                1  \n8                1  \n9                1  \n10               1  \n11               1  \n12               1  \n13               1  \n14               1  \n15               1  \n16               1  \n17               1  \n18               1  \n19               1  \n20               1  \n21               1  \n22               1  \n23               1  \n24               1  \n25               1  \n26               1  \n27               1  \n28               1  \n29               1  ",
      "text/html": "<div>\n<style scoped>\n    .dataframe tbody tr th:only-of-type {\n        vertical-align: middle;\n    }\n\n    .dataframe tbody tr th {\n        vertical-align: top;\n    }\n\n    .dataframe thead th {\n        text-align: right;\n    }\n</style>\n<table border=\"1\" class=\"dataframe\">\n  <thead>\n    <tr style=\"text-align: right;\">\n      <th></th>\n      <th>Charge_mass</th>\n      <th>Standoff_distance</th>\n      <th>Time</th>\n      <th>Pressure</th>\n      <th>Phase_negative</th>\n      <th>Phase_positive</th>\n    </tr>\n  </thead>\n  <tbody>\n    <tr>\n      <th>0</th>\n      <td>0.5</td>\n      <td>1</td>\n      <td>0.00067</td>\n      <td>591827.62500</td>\n      <td>0</td>\n      <td>1</td>\n    </tr>\n    <tr>\n      <th>1</th>\n      <td>0.5</td>\n      <td>1</td>\n      <td>0.00068</td>\n      <td>556217.18750</td>\n      <td>0</td>\n      <td>1</td>\n    </tr>\n    <tr>\n      <th>2</th>\n      <td>0.5</td>\n      <td>1</td>\n      <td>0.00069</td>\n      <td>525135.00000</td>\n      <td>0</td>\n      <td>1</td>\n    </tr>\n    <tr>\n      <th>3</th>\n      <td>0.5</td>\n      <td>1</td>\n      <td>0.00070</td>\n      <td>496668.90625</td>\n      <td>0</td>\n      <td>1</td>\n    </tr>\n    <tr>\n      <th>4</th>\n      <td>0.5</td>\n      <td>1</td>\n      <td>0.00071</td>\n      <td>469418.40625</td>\n      <td>0</td>\n      <td>1</td>\n    </tr>\n    <tr>\n      <th>5</th>\n      <td>0.5</td>\n      <td>1</td>\n      <td>0.00072</td>\n      <td>445550.09375</td>\n      <td>0</td>\n      <td>1</td>\n    </tr>\n    <tr>\n      <th>6</th>\n      <td>0.5</td>\n      <td>1</td>\n      <td>0.00073</td>\n      <td>423420.03125</td>\n      <td>0</td>\n      <td>1</td>\n    </tr>\n    <tr>\n      <th>7</th>\n      <td>0.5</td>\n      <td>1</td>\n      <td>0.00074</td>\n      <td>402121.96875</td>\n      <td>0</td>\n      <td>1</td>\n    </tr>\n    <tr>\n      <th>8</th>\n      <td>0.5</td>\n      <td>1</td>\n      <td>0.00075</td>\n      <td>383202.34375</td>\n      <td>0</td>\n      <td>1</td>\n    </tr>\n    <tr>\n      <th>9</th>\n      <td>0.5</td>\n      <td>1</td>\n      <td>0.00076</td>\n      <td>365626.65625</td>\n      <td>0</td>\n      <td>1</td>\n    </tr>\n    <tr>\n      <th>10</th>\n      <td>0.5</td>\n      <td>1</td>\n      <td>0.00077</td>\n      <td>349977.50000</td>\n      <td>0</td>\n      <td>1</td>\n    </tr>\n    <tr>\n      <th>11</th>\n      <td>0.5</td>\n      <td>1</td>\n      <td>0.00078</td>\n      <td>334716.18750</td>\n      <td>0</td>\n      <td>1</td>\n    </tr>\n    <tr>\n      <th>12</th>\n      <td>0.5</td>\n      <td>1</td>\n      <td>0.00079</td>\n      <td>320582.50000</td>\n      <td>0</td>\n      <td>1</td>\n    </tr>\n    <tr>\n      <th>13</th>\n      <td>0.5</td>\n      <td>1</td>\n      <td>0.00080</td>\n      <td>307536.68750</td>\n      <td>0</td>\n      <td>1</td>\n    </tr>\n    <tr>\n      <th>14</th>\n      <td>0.5</td>\n      <td>1</td>\n      <td>0.00081</td>\n      <td>295047.87500</td>\n      <td>0</td>\n      <td>1</td>\n    </tr>\n    <tr>\n      <th>15</th>\n      <td>0.5</td>\n      <td>1</td>\n      <td>0.00082</td>\n      <td>283671.71875</td>\n      <td>0</td>\n      <td>1</td>\n    </tr>\n    <tr>\n      <th>16</th>\n      <td>0.5</td>\n      <td>1</td>\n      <td>0.00083</td>\n      <td>273287.31250</td>\n      <td>0</td>\n      <td>1</td>\n    </tr>\n    <tr>\n      <th>17</th>\n      <td>0.5</td>\n      <td>1</td>\n      <td>0.00084</td>\n      <td>263380.59375</td>\n      <td>0</td>\n      <td>1</td>\n    </tr>\n    <tr>\n      <th>18</th>\n      <td>0.5</td>\n      <td>1</td>\n      <td>0.00085</td>\n      <td>253957.70312</td>\n      <td>0</td>\n      <td>1</td>\n    </tr>\n    <tr>\n      <th>19</th>\n      <td>0.5</td>\n      <td>1</td>\n      <td>0.00086</td>\n      <td>245341.54688</td>\n      <td>0</td>\n      <td>1</td>\n    </tr>\n    <tr>\n      <th>20</th>\n      <td>0.5</td>\n      <td>1</td>\n      <td>0.00087</td>\n      <td>237136.67188</td>\n      <td>0</td>\n      <td>1</td>\n    </tr>\n    <tr>\n      <th>21</th>\n      <td>0.5</td>\n      <td>1</td>\n      <td>0.00088</td>\n      <td>229610.26562</td>\n      <td>0</td>\n      <td>1</td>\n    </tr>\n    <tr>\n      <th>22</th>\n      <td>0.5</td>\n      <td>1</td>\n      <td>0.00089</td>\n      <td>222423.93750</td>\n      <td>0</td>\n      <td>1</td>\n    </tr>\n    <tr>\n      <th>23</th>\n      <td>0.5</td>\n      <td>1</td>\n      <td>0.00090</td>\n      <td>215571.06250</td>\n      <td>0</td>\n      <td>1</td>\n    </tr>\n    <tr>\n      <th>24</th>\n      <td>0.5</td>\n      <td>1</td>\n      <td>0.00091</td>\n      <td>209261.32812</td>\n      <td>0</td>\n      <td>1</td>\n    </tr>\n    <tr>\n      <th>25</th>\n      <td>0.5</td>\n      <td>1</td>\n      <td>0.00092</td>\n      <td>203243.39062</td>\n      <td>0</td>\n      <td>1</td>\n    </tr>\n    <tr>\n      <th>26</th>\n      <td>0.5</td>\n      <td>1</td>\n      <td>0.00093</td>\n      <td>197520.82812</td>\n      <td>0</td>\n      <td>1</td>\n    </tr>\n    <tr>\n      <th>27</th>\n      <td>0.5</td>\n      <td>1</td>\n      <td>0.00094</td>\n      <td>192094.54688</td>\n      <td>0</td>\n      <td>1</td>\n    </tr>\n    <tr>\n      <th>28</th>\n      <td>0.5</td>\n      <td>1</td>\n      <td>0.00095</td>\n      <td>186960.62500</td>\n      <td>0</td>\n      <td>1</td>\n    </tr>\n    <tr>\n      <th>29</th>\n      <td>0.5</td>\n      <td>1</td>\n      <td>0.00096</td>\n      <td>182106.14062</td>\n      <td>0</td>\n      <td>1</td>\n    </tr>\n  </tbody>\n</table>\n</div>"
     },
     "execution_count": 6,
     "metadata": {},
     "output_type": "execute_result"
    }
   ],
   "source": [
    "dataset_train.head(30)"
   ],
   "metadata": {
    "collapsed": false,
    "ExecuteTime": {
     "end_time": "2023-10-10T22:49:16.025397300Z",
     "start_time": "2023-10-10T22:49:15.993598400Z"
    }
   }
  },
  {
   "cell_type": "code",
   "execution_count": 7,
   "metadata": {
    "ExecuteTime": {
     "end_time": "2023-10-10T22:49:17.412541100Z",
     "start_time": "2023-10-10T22:49:17.396911100Z"
    }
   },
   "outputs": [
    {
     "name": "stdout",
     "output_type": "stream",
     "text": [
      "(492019, 5) (492019,)\n"
     ]
    }
   ],
   "source": [
    "y = dataset_train['Pressure']\n",
    "X = dataset_train.drop(['Pressure'], axis=1)\n",
    "print(X.shape, y.shape)"
   ]
  },
  {
   "cell_type": "code",
   "execution_count": 8,
   "metadata": {
    "ExecuteTime": {
     "end_time": "2023-10-10T22:49:18.819442Z",
     "start_time": "2023-10-10T22:49:18.740077600Z"
    }
   },
   "outputs": [],
   "source": [
    "# convert to numpy array\n",
    "X = np.array(X)\n",
    "y = np.array(y)"
   ]
  },
  {
   "cell_type": "markdown",
   "metadata": {
    "colab_type": "text",
    "id": "VC6omXel_Up0"
   },
   "source": [
    "### Splitting the dataset into the Training set and Test set"
   ]
  },
  {
   "cell_type": "code",
   "execution_count": 9,
   "metadata": {
    "colab": {},
    "colab_type": "code",
    "id": "L5edeb2r_agx",
    "ExecuteTime": {
     "end_time": "2023-10-10T22:49:20.923422100Z",
     "start_time": "2023-10-10T22:49:20.118802600Z"
    }
   },
   "outputs": [],
   "source": [
    "from sklearn.model_selection import train_test_split\n",
    "X_train, X_test, y_train, y_test = train_test_split(X,\n",
    "                                                    y,\n",
    "                                                    test_size = 0.4,\n",
    "                                                    random_state = 0)"
   ]
  },
  {
   "cell_type": "code",
   "execution_count": 10,
   "metadata": {
    "colab": {},
    "colab_type": "code",
    "id": "L5edeb2r_agx",
    "ExecuteTime": {
     "end_time": "2023-10-10T22:49:22.259790900Z",
     "start_time": "2023-10-10T22:49:22.204781400Z"
    }
   },
   "outputs": [],
   "source": [
    "X_val, X_test, y_val, y_test = train_test_split(X_test,\n",
    "                                                y_test,\n",
    "                                                test_size = 0.5,\n",
    "                                                random_state = 0)"
   ]
  },
  {
   "cell_type": "markdown",
   "source": [
    "## Feature scaling"
   ],
   "metadata": {
    "collapsed": false
   }
  },
  {
   "cell_type": "code",
   "execution_count": 11,
   "outputs": [
    {
     "name": "stdout",
     "output_type": "stream",
     "text": [
      "[[-1.11558794  0.43902902  0.40860138  1.          0.        ]\n",
      " [-1.83149237 -1.32802297 -1.10299844  1.          0.        ]\n",
      " [ 1.03212534 -0.44449698 -0.9816199   1.          0.        ]\n",
      " ...\n",
      " [ 1.33894152  0.43902902 -0.15265695  1.          0.        ]\n",
      " [ 0.6230371  -1.32802297  0.5075946   1.          0.        ]\n",
      " [-1.72922031 -0.44449698 -0.88346605  1.          0.        ]]\n"
     ]
    }
   ],
   "source": [
    "from sklearn.preprocessing import StandardScaler\n",
    "sc = StandardScaler()\n",
    "X_train[:,0:3] = sc.fit_transform(X_train[:, 0:3])\n",
    "print (X_train)"
   ],
   "metadata": {
    "collapsed": false,
    "ExecuteTime": {
     "end_time": "2023-10-10T22:49:23.603561800Z",
     "start_time": "2023-10-10T22:49:23.539803200Z"
    }
   }
  },
  {
   "cell_type": "code",
   "execution_count": 12,
   "outputs": [
    {
     "name": "stdout",
     "output_type": "stream",
     "text": [
      "[[ 0.92985328 -0.44449698 -1.49808719  1.          0.        ]\n",
      " [-0.39968351  0.43902902 -1.30699156  0.          1.        ]\n",
      " [-1.01331588  0.43902902  0.31822281  1.          0.        ]\n",
      " ...\n",
      " [-0.39968351  1.32255501  0.65650805  1.          0.        ]\n",
      " [ 0.31622091  0.43902902  1.37959509  1.          0.        ]\n",
      " [-0.29741145 -1.32802297 -1.46796614  1.          0.        ]]\n"
     ]
    }
   ],
   "source": [
    "X_test[:,0:3] = sc.transform(X_test[:,0:3])\n",
    "print (X_test)"
   ],
   "metadata": {
    "collapsed": false,
    "ExecuteTime": {
     "end_time": "2023-10-10T22:49:24.767250900Z",
     "start_time": "2023-10-10T22:49:24.704765200Z"
    }
   }
  },
  {
   "cell_type": "code",
   "execution_count": 13,
   "outputs": [
    {
     "name": "stdout",
     "output_type": "stream",
     "text": [
      "[[-0.29741145 -1.32802297 -0.07001311  1.          0.        ]\n",
      " [-0.7064997   0.43902902 -0.26110084  1.          0.        ]\n",
      " [-1.11558794  0.43902902 -0.72422921  1.          0.        ]\n",
      " ...\n",
      " [-0.91104382 -0.44449698 -0.03128483  1.          0.        ]\n",
      " [-1.52467619 -0.44449698  0.09009324  1.          0.        ]\n",
      " [ 1.44121358  1.32255501  1.56811516  1.          0.        ]]\n"
     ]
    }
   ],
   "source": [
    "X_val[:,0:3] = sc.transform(X_val[:,0:3])\n",
    "print (X_val)"
   ],
   "metadata": {
    "collapsed": false,
    "ExecuteTime": {
     "end_time": "2023-10-10T22:49:26.126609400Z",
     "start_time": "2023-10-10T22:49:26.048409400Z"
    }
   }
  },
  {
   "cell_type": "code",
   "execution_count": 14,
   "outputs": [
    {
     "name": "stdout",
     "output_type": "stream",
     "text": [
      "X_train 295211\n",
      "X_test 98404\n",
      "X_val 98404\n"
     ]
    }
   ],
   "source": [
    "print (\"X_train\", len(X_train))\n",
    "print (\"X_test\", len(X_test))\n",
    "print (\"X_val\", len(X_val))"
   ],
   "metadata": {
    "collapsed": false,
    "ExecuteTime": {
     "end_time": "2023-10-10T22:49:27.173559300Z",
     "start_time": "2023-10-10T22:49:27.167025400Z"
    }
   }
  },
  {
   "cell_type": "markdown",
   "metadata": {
    "colab_type": "text",
    "id": "_mSLlAT9_eyI"
   },
   "source": [
    "## Part 3 - Building the ANN"
   ]
  },
  {
   "cell_type": "markdown",
   "metadata": {
    "colab_type": "text",
    "id": "CsBULd_f_wLY"
   },
   "source": [
    "### Initializing the ANN"
   ]
  },
  {
   "cell_type": "code",
   "execution_count": 15,
   "metadata": {
    "colab": {},
    "colab_type": "code",
    "id": "J6Hd97Ls__Nz",
    "ExecuteTime": {
     "end_time": "2023-10-10T23:06:50.474701900Z",
     "start_time": "2023-10-10T23:06:50.394680300Z"
    }
   },
   "outputs": [],
   "source": [
    "def swish(x):\n",
    "    return x * tf.keras.backend.sigmoid(x)\n",
    "ann = tf.keras.models.Sequential()"
   ]
  },
  {
   "cell_type": "markdown",
   "metadata": {
    "colab_type": "text",
    "id": "iitAFJS_ABUn"
   },
   "source": [
    "### Adding the input layer and the first hidden layer"
   ]
  },
  {
   "cell_type": "code",
   "execution_count": 16,
   "metadata": {
    "colab": {},
    "colab_type": "code",
    "id": "ksO_Vv40AHix",
    "ExecuteTime": {
     "end_time": "2023-10-10T23:06:52.319201200Z",
     "start_time": "2023-10-10T23:06:52.253787Z"
    }
   },
   "outputs": [],
   "source": [
    "ann.add(tf.keras.layers.Dense(units=150,\n",
    "                              input_shape=(X_train.shape[1],),\n",
    "                              activation='swish'))"
   ]
  },
  {
   "cell_type": "markdown",
   "metadata": {
    "colab_type": "text",
    "id": "-lb4kK_wAKbs"
   },
   "source": [
    "### Adding the second hidden layer"
   ]
  },
  {
   "cell_type": "code",
   "execution_count": 17,
   "metadata": {
    "colab": {},
    "colab_type": "code",
    "id": "c2357OqEAQOQ",
    "tags": [],
    "ExecuteTime": {
     "end_time": "2023-10-10T23:09:28.033079400Z",
     "start_time": "2023-10-10T23:09:27.940694800Z"
    }
   },
   "outputs": [],
   "source": [
    "ann.add(tf.keras.layers.Dense(units=125,\n",
    "                              activation='swish'))"
   ]
  },
  {
   "cell_type": "markdown",
   "metadata": {
    "colab_type": "text",
    "id": "-lb4kK_wAKbs"
   },
   "source": [
    "### Adding the third hidden layer"
   ]
  },
  {
   "cell_type": "code",
   "execution_count": 18,
   "metadata": {
    "colab": {},
    "colab_type": "code",
    "id": "c2357OqEAQOQ",
    "tags": [],
    "ExecuteTime": {
     "end_time": "2023-10-10T23:09:29.913993600Z",
     "start_time": "2023-10-10T23:09:29.835870Z"
    }
   },
   "outputs": [],
   "source": [
    "ann.add(tf.keras.layers.Dense(units=100,\n",
    "                              activation='swish'))"
   ]
  },
  {
   "cell_type": "markdown",
   "source": [
    "### Adding the fourth hidden layer"
   ],
   "metadata": {
    "collapsed": false
   }
  },
  {
   "cell_type": "code",
   "execution_count": 19,
   "outputs": [],
   "source": [
    "ann.add(tf.keras.layers.Dense(units=75,\n",
    "                              activation='swish'))"
   ],
   "metadata": {
    "collapsed": false,
    "ExecuteTime": {
     "end_time": "2023-10-10T23:09:31.911715100Z",
     "start_time": "2023-10-10T23:09:31.848051100Z"
    }
   }
  },
  {
   "cell_type": "markdown",
   "metadata": {
    "colab_type": "text",
    "id": "jwMOmKb3AdBY"
   },
   "source": [
    "### Adding the output layer"
   ]
  },
  {
   "cell_type": "code",
   "execution_count": 20,
   "metadata": {
    "colab": {},
    "colab_type": "code",
    "id": "YFATpzsUAkLL",
    "ExecuteTime": {
     "end_time": "2023-10-10T23:11:20.742792500Z",
     "start_time": "2023-10-10T23:11:20.680311300Z"
    }
   },
   "outputs": [],
   "source": [
    "ann.add(tf.keras.layers.Dense(units=1,\n",
    "                              activation='linear'))"
   ]
  },
  {
   "cell_type": "markdown",
   "metadata": {},
   "source": [
    "### what model looks like"
   ]
  },
  {
   "cell_type": "code",
   "execution_count": 21,
   "metadata": {
    "ExecuteTime": {
     "end_time": "2023-10-10T23:13:31.219882300Z",
     "start_time": "2023-10-10T23:13:31.092635300Z"
    }
   },
   "outputs": [
    {
     "name": "stdout",
     "output_type": "stream",
     "text": [
      "Model: \"sequential\"\n",
      "_________________________________________________________________\n",
      " Layer (type)                Output Shape              Param #   \n",
      "=================================================================\n",
      " dense (Dense)               (None, 150)               900       \n",
      "                                                                 \n",
      " dense_1 (Dense)             (None, 125)               18875     \n",
      "                                                                 \n",
      " dense_2 (Dense)             (None, 100)               12600     \n",
      "                                                                 \n",
      " dense_3 (Dense)             (None, 75)                7575      \n",
      "                                                                 \n",
      " dense_4 (Dense)             (None, 1)                 76        \n",
      "                                                                 \n",
      "=================================================================\n",
      "Total params: 40,026\n",
      "Trainable params: 40,026\n",
      "Non-trainable params: 0\n",
      "_________________________________________________________________\n"
     ]
    }
   ],
   "source": [
    "ann.summary()"
   ]
  },
  {
   "cell_type": "code",
   "execution_count": 23,
   "outputs": [
    {
     "name": "stdout",
     "output_type": "stream",
     "text": [
      "Layer dense has activation function: swish\n",
      "Layer dense_1 has activation function: swish\n",
      "Layer dense_2 has activation function: swish\n",
      "Layer dense_3 has activation function: swish\n",
      "Layer dense_4 has activation function: linear\n"
     ]
    }
   ],
   "source": [
    "# Loop through the layers and check the activation function\n",
    "for layer in ann.layers:\n",
    "    if isinstance(layer, tf.keras.layers.Dense):\n",
    "        activation = layer.get_config()['activation']\n",
    "        print(f\"Layer {layer.name} has activation function: {activation}\")"
   ],
   "metadata": {
    "collapsed": false,
    "ExecuteTime": {
     "end_time": "2023-10-10T23:13:50.783028800Z",
     "start_time": "2023-10-10T23:13:50.750949500Z"
    }
   }
  },
  {
   "cell_type": "markdown",
   "metadata": {
    "colab_type": "text",
    "id": "fq7e4fF6A1yy"
   },
   "source": [
    "## Part 4 - Training the ANN"
   ]
  },
  {
   "cell_type": "markdown",
   "metadata": {
    "colab_type": "text",
    "id": "qDeylAs2An25"
   },
   "source": [
    "### Compiling the ANN"
   ]
  },
  {
   "cell_type": "code",
   "execution_count": 24,
   "metadata": {
    "colab": {},
    "colab_type": "code",
    "id": "pesgbWlCAtB4",
    "ExecuteTime": {
     "end_time": "2023-10-10T23:13:57.778237300Z",
     "start_time": "2023-10-10T23:13:57.712223200Z"
    }
   },
   "outputs": [],
   "source": [
    "# from tensorflow.keras.optimizers import Adam\n",
    "from keras.optimizers import Adam\n",
    "opt = Adam(learning_rate=0.001)\n",
    "ann.compile(optimizer = opt,\n",
    "            loss = 'mean_squared_error',\n",
    "            metrics = ['mae'])"
   ]
  },
  {
   "cell_type": "markdown",
   "metadata": {},
   "source": [
    "### early stopping callback"
   ]
  },
  {
   "cell_type": "code",
   "execution_count": 25,
   "metadata": {
    "ExecuteTime": {
     "end_time": "2023-10-10T23:14:00.274810500Z",
     "start_time": "2023-10-10T23:14:00.243387400Z"
    }
   },
   "outputs": [],
   "source": [
    "# protects from unnecessary further training of the model if a particular metric does not continue to improve over a number of n epochs. In such a case, the model training would be automatically aborted.\n",
    "from keras.callbacks import EarlyStopping\n",
    "es = EarlyStopping(monitor='val_loss',\n",
    "                   mode='min',\n",
    "                   patience=50,\n",
    "                   restore_best_weights = True)"
   ]
  },
  {
   "cell_type": "markdown",
   "metadata": {
    "colab_type": "text",
    "id": "YjVuiybYOo7r"
   },
   "source": [
    "### Training the ANN model on the Training set"
   ]
  },
  {
   "cell_type": "code",
   "execution_count": 26,
   "metadata": {
    "colab": {
     "base_uri": "https://localhost:8080/",
     "height": 1000
    },
    "colab_type": "code",
    "id": "c_vV-tiiA5zn",
    "outputId": "4a2b6ee6-ed75-4698-9069-b250e613803f",
    "ExecuteTime": {
     "end_time": "2023-10-11T03:52:30.360762900Z",
     "start_time": "2023-10-10T23:14:03.787866600Z"
    }
   },
   "outputs": [
    {
     "name": "stdout",
     "output_type": "stream",
     "text": [
      "Epoch 1/500\n",
      "29522/29522 [==============================] - 127s 4ms/step - loss: 7704433152.0000 - mae: 14889.6953 - val_loss: 7644439040.0000 - val_mae: 12523.6455\n",
      "Epoch 2/500\n",
      "29522/29522 [==============================] - 126s 4ms/step - loss: 6802913280.0000 - mae: 13237.2031 - val_loss: 7676440576.0000 - val_mae: 11536.2412\n",
      "Epoch 3/500\n",
      "29522/29522 [==============================] - 128s 4ms/step - loss: 6776281600.0000 - mae: 12315.6846 - val_loss: 7436938752.0000 - val_mae: 11115.5400\n",
      "Epoch 4/500\n",
      "29522/29522 [==============================] - 125s 4ms/step - loss: 6655555584.0000 - mae: 11943.9453 - val_loss: 7659974656.0000 - val_mae: 11132.6455\n",
      "Epoch 5/500\n",
      "29522/29522 [==============================] - 129s 4ms/step - loss: 6555944448.0000 - mae: 11465.3984 - val_loss: 7254066688.0000 - val_mae: 11166.2695\n",
      "Epoch 6/500\n",
      "29522/29522 [==============================] - 129s 4ms/step - loss: 6389673984.0000 - mae: 10790.0000 - val_loss: 6924563456.0000 - val_mae: 9696.1914\n",
      "Epoch 7/500\n",
      "29522/29522 [==============================] - 129s 4ms/step - loss: 6207643136.0000 - mae: 10413.3594 - val_loss: 6860251648.0000 - val_mae: 10026.2393\n",
      "Epoch 8/500\n",
      "29522/29522 [==============================] - 131s 4ms/step - loss: 6046023680.0000 - mae: 9846.1592 - val_loss: 6955158016.0000 - val_mae: 9977.0088\n",
      "Epoch 9/500\n",
      "29522/29522 [==============================] - 130s 4ms/step - loss: 6054835200.0000 - mae: 9455.7139 - val_loss: 7036377088.0000 - val_mae: 8964.8213\n",
      "Epoch 10/500\n",
      "29522/29522 [==============================] - 128s 4ms/step - loss: 5930238976.0000 - mae: 9405.2842 - val_loss: 6534263808.0000 - val_mae: 8736.4951\n",
      "Epoch 11/500\n",
      "29522/29522 [==============================] - 130s 4ms/step - loss: 5862602240.0000 - mae: 9086.7393 - val_loss: 6681835008.0000 - val_mae: 10959.6992\n",
      "Epoch 12/500\n",
      "29522/29522 [==============================] - 146s 5ms/step - loss: 5791490048.0000 - mae: 8679.3535 - val_loss: 7477905408.0000 - val_mae: 8131.1699\n",
      "Epoch 13/500\n",
      "29522/29522 [==============================] - 134s 5ms/step - loss: 5837833728.0000 - mae: 8638.9844 - val_loss: 6392937472.0000 - val_mae: 8891.6953\n",
      "Epoch 14/500\n",
      "29522/29522 [==============================] - 130s 4ms/step - loss: 5850252800.0000 - mae: 8245.9883 - val_loss: 6207575552.0000 - val_mae: 7704.7500\n",
      "Epoch 15/500\n",
      "29522/29522 [==============================] - 154s 5ms/step - loss: 5794241024.0000 - mae: 8219.1943 - val_loss: 6208925696.0000 - val_mae: 7191.5195\n",
      "Epoch 16/500\n",
      "29522/29522 [==============================] - 178s 6ms/step - loss: 5719427072.0000 - mae: 8067.9312 - val_loss: 6370580480.0000 - val_mae: 6636.9590\n",
      "Epoch 17/500\n",
      "29522/29522 [==============================] - 180s 6ms/step - loss: 5622291456.0000 - mae: 7641.1411 - val_loss: 6955357184.0000 - val_mae: 6357.9771\n",
      "Epoch 18/500\n",
      "29522/29522 [==============================] - 178s 6ms/step - loss: 5622690304.0000 - mae: 7299.3096 - val_loss: 6020180992.0000 - val_mae: 6993.8350\n",
      "Epoch 19/500\n",
      "29522/29522 [==============================] - 180s 6ms/step - loss: 5539616256.0000 - mae: 6911.9072 - val_loss: 6673032704.0000 - val_mae: 8207.9971\n",
      "Epoch 20/500\n",
      "29522/29522 [==============================] - 179s 6ms/step - loss: 5515950592.0000 - mae: 6988.4839 - val_loss: 6029620736.0000 - val_mae: 7295.1870\n",
      "Epoch 21/500\n",
      "29522/29522 [==============================] - 181s 6ms/step - loss: 5440429568.0000 - mae: 6858.9287 - val_loss: 6434099712.0000 - val_mae: 7540.1304\n",
      "Epoch 22/500\n",
      "29522/29522 [==============================] - 180s 6ms/step - loss: 5595731968.0000 - mae: 6647.2158 - val_loss: 5851502080.0000 - val_mae: 5299.7964\n",
      "Epoch 23/500\n",
      "29522/29522 [==============================] - 180s 6ms/step - loss: 5556489216.0000 - mae: 6509.4932 - val_loss: 6036021248.0000 - val_mae: 6923.7866\n",
      "Epoch 24/500\n",
      "29522/29522 [==============================] - 179s 6ms/step - loss: 5608160768.0000 - mae: 6789.4600 - val_loss: 5942589952.0000 - val_mae: 7169.0444\n",
      "Epoch 25/500\n",
      "29522/29522 [==============================] - 181s 6ms/step - loss: 5573915136.0000 - mae: 6789.9502 - val_loss: 6043565568.0000 - val_mae: 5765.8101\n",
      "Epoch 26/500\n",
      "29522/29522 [==============================] - 175s 6ms/step - loss: 5622514176.0000 - mae: 6536.2192 - val_loss: 6185590784.0000 - val_mae: 5817.4961\n",
      "Epoch 27/500\n",
      "29522/29522 [==============================] - 131s 4ms/step - loss: 5515238400.0000 - mae: 6339.3530 - val_loss: 6003641856.0000 - val_mae: 5055.6992\n",
      "Epoch 28/500\n",
      "29522/29522 [==============================] - 130s 4ms/step - loss: 5527792640.0000 - mae: 6625.0498 - val_loss: 5939126272.0000 - val_mae: 6513.1973\n",
      "Epoch 29/500\n",
      "29522/29522 [==============================] - 130s 4ms/step - loss: 5403011584.0000 - mae: 6441.6943 - val_loss: 6521876480.0000 - val_mae: 5764.4277\n",
      "Epoch 30/500\n",
      "29522/29522 [==============================] - 128s 4ms/step - loss: 5498732032.0000 - mae: 6292.1904 - val_loss: 5957374976.0000 - val_mae: 7765.9497\n",
      "Epoch 31/500\n",
      "29522/29522 [==============================] - 130s 4ms/step - loss: 5517775360.0000 - mae: 6095.3384 - val_loss: 5962632704.0000 - val_mae: 6048.2217\n",
      "Epoch 32/500\n",
      "29522/29522 [==============================] - 130s 4ms/step - loss: 5471275008.0000 - mae: 6378.1353 - val_loss: 6118311424.0000 - val_mae: 5440.7812\n",
      "Epoch 33/500\n",
      "29522/29522 [==============================] - 133s 5ms/step - loss: 5545011200.0000 - mae: 6519.2744 - val_loss: 6158701568.0000 - val_mae: 9389.1875\n",
      "Epoch 34/500\n",
      "29522/29522 [==============================] - 129s 4ms/step - loss: 5500398080.0000 - mae: 6130.8711 - val_loss: 5844179456.0000 - val_mae: 5071.3477\n",
      "Epoch 35/500\n",
      "29522/29522 [==============================] - 129s 4ms/step - loss: 5371017728.0000 - mae: 6167.1699 - val_loss: 6367087616.0000 - val_mae: 9039.8564\n",
      "Epoch 36/500\n",
      "29522/29522 [==============================] - 130s 4ms/step - loss: 5505135616.0000 - mae: 6151.8569 - val_loss: 5725465600.0000 - val_mae: 5167.4468\n",
      "Epoch 37/500\n",
      "29522/29522 [==============================] - 129s 4ms/step - loss: 5385600000.0000 - mae: 6107.5938 - val_loss: 6518488064.0000 - val_mae: 4567.2754\n",
      "Epoch 38/500\n",
      "29522/29522 [==============================] - 131s 4ms/step - loss: 5390361600.0000 - mae: 6173.1416 - val_loss: 7507164672.0000 - val_mae: 5676.1968\n",
      "Epoch 39/500\n",
      "29522/29522 [==============================] - 128s 4ms/step - loss: 5496262656.0000 - mae: 6240.2295 - val_loss: 6595389952.0000 - val_mae: 5605.6733\n",
      "Epoch 40/500\n",
      "29522/29522 [==============================] - 129s 4ms/step - loss: 5383780352.0000 - mae: 6167.8135 - val_loss: 6177717760.0000 - val_mae: 5270.2280\n",
      "Epoch 41/500\n",
      "29522/29522 [==============================] - 129s 4ms/step - loss: 5377186816.0000 - mae: 6227.2241 - val_loss: 5809871872.0000 - val_mae: 5504.1738\n",
      "Epoch 42/500\n",
      "29522/29522 [==============================] - 127s 4ms/step - loss: 5395742208.0000 - mae: 6185.0840 - val_loss: 5924941824.0000 - val_mae: 6605.3569\n",
      "Epoch 43/500\n",
      "29522/29522 [==============================] - 130s 4ms/step - loss: 5463092736.0000 - mae: 6210.9888 - val_loss: 5846408192.0000 - val_mae: 5210.4619\n",
      "Epoch 44/500\n",
      "29522/29522 [==============================] - 137s 5ms/step - loss: 5454522880.0000 - mae: 6037.3931 - val_loss: 6002740224.0000 - val_mae: 5122.7017\n",
      "Epoch 45/500\n",
      "29522/29522 [==============================] - 132s 4ms/step - loss: 5465221120.0000 - mae: 5937.0415 - val_loss: 5954937344.0000 - val_mae: 5024.4478\n",
      "Epoch 46/500\n",
      "29522/29522 [==============================] - 130s 4ms/step - loss: 5375884800.0000 - mae: 5803.4087 - val_loss: 5968832512.0000 - val_mae: 4838.1265\n",
      "Epoch 47/500\n",
      "29522/29522 [==============================] - 130s 4ms/step - loss: 5493212672.0000 - mae: 5912.2295 - val_loss: 6059432448.0000 - val_mae: 5272.3198\n",
      "Epoch 48/500\n",
      "29522/29522 [==============================] - 129s 4ms/step - loss: 5396180992.0000 - mae: 5795.2002 - val_loss: 6131545600.0000 - val_mae: 6952.0576\n",
      "Epoch 49/500\n",
      "29522/29522 [==============================] - 131s 4ms/step - loss: 5419713024.0000 - mae: 5623.6016 - val_loss: 5959400448.0000 - val_mae: 5526.3496\n",
      "Epoch 50/500\n",
      "29522/29522 [==============================] - 129s 4ms/step - loss: 5420013056.0000 - mae: 5574.0967 - val_loss: 5855632384.0000 - val_mae: 5552.5166\n",
      "Epoch 51/500\n",
      "29522/29522 [==============================] - 131s 4ms/step - loss: 5408416256.0000 - mae: 5530.1860 - val_loss: 6042542080.0000 - val_mae: 5082.0850\n",
      "Epoch 52/500\n",
      "29522/29522 [==============================] - 132s 4ms/step - loss: 5403533824.0000 - mae: 5551.0415 - val_loss: 5784932352.0000 - val_mae: 5384.6343\n",
      "Epoch 53/500\n",
      "29522/29522 [==============================] - 129s 4ms/step - loss: 5339568640.0000 - mae: 5637.9722 - val_loss: 6097585664.0000 - val_mae: 7579.1279\n",
      "Epoch 54/500\n",
      "29522/29522 [==============================] - 133s 5ms/step - loss: 5417227776.0000 - mae: 5601.6597 - val_loss: 5859685376.0000 - val_mae: 5015.4316\n",
      "Epoch 55/500\n",
      "29522/29522 [==============================] - 129s 4ms/step - loss: 5363010560.0000 - mae: 5396.4888 - val_loss: 6146279424.0000 - val_mae: 4428.6963\n",
      "Epoch 56/500\n",
      "29522/29522 [==============================] - 131s 4ms/step - loss: 5390878720.0000 - mae: 5392.5020 - val_loss: 5903717376.0000 - val_mae: 5302.0298\n",
      "Epoch 57/500\n",
      "29522/29522 [==============================] - 129s 4ms/step - loss: 5365445120.0000 - mae: 5439.3193 - val_loss: 5867662848.0000 - val_mae: 5126.2617\n",
      "Epoch 58/500\n",
      "29522/29522 [==============================] - 136s 5ms/step - loss: 5294905856.0000 - mae: 5347.1104 - val_loss: 6025272320.0000 - val_mae: 4884.7471\n",
      "Epoch 59/500\n",
      "29522/29522 [==============================] - 133s 5ms/step - loss: 5350137344.0000 - mae: 5261.4941 - val_loss: 6048403456.0000 - val_mae: 5709.7300\n",
      "Epoch 60/500\n",
      "29522/29522 [==============================] - 131s 4ms/step - loss: 5324040704.0000 - mae: 5371.7192 - val_loss: 5832188928.0000 - val_mae: 5231.0166\n",
      "Epoch 61/500\n",
      "29522/29522 [==============================] - 131s 4ms/step - loss: 5405355520.0000 - mae: 5312.6875 - val_loss: 5748479488.0000 - val_mae: 4907.6992\n",
      "Epoch 62/500\n",
      "29522/29522 [==============================] - 131s 4ms/step - loss: 5299839488.0000 - mae: 5121.8154 - val_loss: 5934972928.0000 - val_mae: 5997.9019\n",
      "Epoch 63/500\n",
      "29522/29522 [==============================] - 130s 4ms/step - loss: 5305440256.0000 - mae: 5195.7368 - val_loss: 5872845312.0000 - val_mae: 6285.7671\n",
      "Epoch 64/500\n",
      "29522/29522 [==============================] - 130s 4ms/step - loss: 5333145088.0000 - mae: 5161.2964 - val_loss: 6229948416.0000 - val_mae: 4319.4922\n",
      "Epoch 65/500\n",
      "29522/29522 [==============================] - 130s 4ms/step - loss: 5323300352.0000 - mae: 5127.8960 - val_loss: 5957780480.0000 - val_mae: 4393.6504\n",
      "Epoch 66/500\n",
      "29522/29522 [==============================] - 132s 4ms/step - loss: 5365529600.0000 - mae: 5062.6953 - val_loss: 6272491008.0000 - val_mae: 4257.7666\n",
      "Epoch 67/500\n",
      "29522/29522 [==============================] - 128s 4ms/step - loss: 5336202752.0000 - mae: 4945.8335 - val_loss: 6160810496.0000 - val_mae: 7899.8032\n",
      "Epoch 68/500\n",
      "29522/29522 [==============================] - 129s 4ms/step - loss: 5205849088.0000 - mae: 4869.0000 - val_loss: 5976680448.0000 - val_mae: 5094.9702\n",
      "Epoch 69/500\n",
      "29522/29522 [==============================] - 128s 4ms/step - loss: 5344216064.0000 - mae: 4866.5723 - val_loss: 6368026624.0000 - val_mae: 5365.9229\n",
      "Epoch 70/500\n",
      "29522/29522 [==============================] - 129s 4ms/step - loss: 5297165824.0000 - mae: 4934.1294 - val_loss: 5919521792.0000 - val_mae: 4028.2688\n",
      "Epoch 71/500\n",
      "29522/29522 [==============================] - 127s 4ms/step - loss: 5267739136.0000 - mae: 4819.7910 - val_loss: 5706470400.0000 - val_mae: 4583.1069\n",
      "Epoch 72/500\n",
      "29522/29522 [==============================] - 129s 4ms/step - loss: 5276079616.0000 - mae: 4883.9883 - val_loss: 5659513856.0000 - val_mae: 4502.6675\n",
      "Epoch 73/500\n",
      "29522/29522 [==============================] - 129s 4ms/step - loss: 5261945856.0000 - mae: 4901.7036 - val_loss: 6111553024.0000 - val_mae: 4084.0208\n",
      "Epoch 74/500\n",
      "29522/29522 [==============================] - 129s 4ms/step - loss: 5330852352.0000 - mae: 4791.3379 - val_loss: 5736276992.0000 - val_mae: 5266.9497\n",
      "Epoch 75/500\n",
      "29522/29522 [==============================] - 128s 4ms/step - loss: 5302774272.0000 - mae: 4753.4404 - val_loss: 5757791744.0000 - val_mae: 5255.9927\n",
      "Epoch 76/500\n",
      "29522/29522 [==============================] - 127s 4ms/step - loss: 5316833792.0000 - mae: 4766.6250 - val_loss: 5738272768.0000 - val_mae: 4643.5679\n",
      "Epoch 77/500\n",
      "29522/29522 [==============================] - 129s 4ms/step - loss: 5294223872.0000 - mae: 4709.4116 - val_loss: 5963405312.0000 - val_mae: 4205.5205\n",
      "Epoch 78/500\n",
      "29522/29522 [==============================] - 129s 4ms/step - loss: 5250839040.0000 - mae: 4731.1099 - val_loss: 5770622976.0000 - val_mae: 4851.8286\n",
      "Epoch 79/500\n",
      "29522/29522 [==============================] - 129s 4ms/step - loss: 5307297280.0000 - mae: 4787.9922 - val_loss: 6231679488.0000 - val_mae: 3540.2363\n",
      "Epoch 80/500\n",
      "29522/29522 [==============================] - 132s 4ms/step - loss: 5198408192.0000 - mae: 4588.4458 - val_loss: 5684914176.0000 - val_mae: 4924.6187\n",
      "Epoch 81/500\n",
      "29522/29522 [==============================] - 131s 4ms/step - loss: 5333903872.0000 - mae: 4564.5942 - val_loss: 5814257152.0000 - val_mae: 5108.4409\n",
      "Epoch 82/500\n",
      "29522/29522 [==============================] - 133s 5ms/step - loss: 5263123968.0000 - mae: 4560.8867 - val_loss: 5822422528.0000 - val_mae: 4316.3833\n",
      "Epoch 83/500\n",
      "29522/29522 [==============================] - 132s 4ms/step - loss: 5222097408.0000 - mae: 4602.1377 - val_loss: 5755464704.0000 - val_mae: 3885.2922\n",
      "Epoch 84/500\n",
      "29522/29522 [==============================] - 131s 4ms/step - loss: 5154422784.0000 - mae: 4630.5815 - val_loss: 5817104384.0000 - val_mae: 4084.5144\n",
      "Epoch 85/500\n",
      "29522/29522 [==============================] - 135s 5ms/step - loss: 5262986240.0000 - mae: 4571.7222 - val_loss: 5896800768.0000 - val_mae: 4726.4980\n",
      "Epoch 86/500\n",
      "29522/29522 [==============================] - 137s 5ms/step - loss: 5245611520.0000 - mae: 4579.7583 - val_loss: 6177692672.0000 - val_mae: 4672.7158\n",
      "Epoch 87/500\n",
      "29522/29522 [==============================] - 136s 5ms/step - loss: 5347735552.0000 - mae: 4417.0957 - val_loss: 5989994496.0000 - val_mae: 3851.4458\n",
      "Epoch 88/500\n",
      "29522/29522 [==============================] - 137s 5ms/step - loss: 5268698112.0000 - mae: 4510.6426 - val_loss: 5989659648.0000 - val_mae: 4068.6550\n",
      "Epoch 89/500\n",
      "29522/29522 [==============================] - 134s 5ms/step - loss: 5249422848.0000 - mae: 4437.6499 - val_loss: 5789690368.0000 - val_mae: 4072.4355\n",
      "Epoch 90/500\n",
      "29522/29522 [==============================] - 138s 5ms/step - loss: 5242045952.0000 - mae: 4418.1763 - val_loss: 5788100096.0000 - val_mae: 4225.9004\n",
      "Epoch 91/500\n",
      "29522/29522 [==============================] - 136s 5ms/step - loss: 5174562304.0000 - mae: 4487.8755 - val_loss: 7088664064.0000 - val_mae: 3850.9771\n",
      "Epoch 92/500\n",
      "29522/29522 [==============================] - 135s 5ms/step - loss: 5262373376.0000 - mae: 4426.4248 - val_loss: 6507953152.0000 - val_mae: 3750.4888\n",
      "Epoch 93/500\n",
      "29522/29522 [==============================] - 136s 5ms/step - loss: 5244889600.0000 - mae: 4235.9023 - val_loss: 6053631488.0000 - val_mae: 5209.8413\n",
      "Epoch 94/500\n",
      "29522/29522 [==============================] - 135s 5ms/step - loss: 5292619776.0000 - mae: 4343.5015 - val_loss: 5689751040.0000 - val_mae: 4304.4766\n",
      "Epoch 95/500\n",
      "29522/29522 [==============================] - 132s 4ms/step - loss: 5259901952.0000 - mae: 4345.8369 - val_loss: 5760845824.0000 - val_mae: 4484.7739\n",
      "Epoch 96/500\n",
      "29522/29522 [==============================] - 134s 5ms/step - loss: 5280042496.0000 - mae: 4365.4619 - val_loss: 6307195392.0000 - val_mae: 5148.4019\n",
      "Epoch 97/500\n",
      "29522/29522 [==============================] - 134s 5ms/step - loss: 5362011648.0000 - mae: 4417.3135 - val_loss: 5717522432.0000 - val_mae: 4595.2173\n",
      "Epoch 98/500\n",
      "29522/29522 [==============================] - 134s 5ms/step - loss: 5239345664.0000 - mae: 4320.2646 - val_loss: 5868421120.0000 - val_mae: 4340.3701\n",
      "Epoch 99/500\n",
      "29522/29522 [==============================] - 136s 5ms/step - loss: 5246959616.0000 - mae: 4234.0122 - val_loss: 5993040384.0000 - val_mae: 3617.4661\n",
      "Epoch 100/500\n",
      "29522/29522 [==============================] - 136s 5ms/step - loss: 5178500608.0000 - mae: 4330.0049 - val_loss: 6462960128.0000 - val_mae: 3731.7505\n",
      "Epoch 101/500\n",
      "29522/29522 [==============================] - 137s 5ms/step - loss: 5213588480.0000 - mae: 4151.7021 - val_loss: 5674848768.0000 - val_mae: 4189.0547\n",
      "Epoch 102/500\n",
      "29522/29522 [==============================] - 134s 5ms/step - loss: 5236546048.0000 - mae: 4236.8916 - val_loss: 5807278592.0000 - val_mae: 4205.9277\n",
      "Epoch 103/500\n",
      "29522/29522 [==============================] - 139s 5ms/step - loss: 5261237248.0000 - mae: 4223.4043 - val_loss: 5782376960.0000 - val_mae: 4439.1636\n",
      "Epoch 104/500\n",
      "29522/29522 [==============================] - 137s 5ms/step - loss: 5192494592.0000 - mae: 4279.0732 - val_loss: 6401030656.0000 - val_mae: 5070.4238\n",
      "Epoch 105/500\n",
      "29522/29522 [==============================] - 138s 5ms/step - loss: 5226214400.0000 - mae: 4329.8823 - val_loss: 6101211648.0000 - val_mae: 4768.7939\n",
      "Epoch 106/500\n",
      "29522/29522 [==============================] - 138s 5ms/step - loss: 5307085824.0000 - mae: 4218.3877 - val_loss: 5676073472.0000 - val_mae: 3976.0657\n",
      "Epoch 107/500\n",
      "29522/29522 [==============================] - 136s 5ms/step - loss: 5249822208.0000 - mae: 4113.7144 - val_loss: 5895514112.0000 - val_mae: 3937.2981\n",
      "Epoch 108/500\n",
      "29522/29522 [==============================] - 138s 5ms/step - loss: 5190683648.0000 - mae: 4219.1064 - val_loss: 5694501376.0000 - val_mae: 4199.0532\n",
      "Epoch 109/500\n",
      "29522/29522 [==============================] - 137s 5ms/step - loss: 5225198592.0000 - mae: 4217.3394 - val_loss: 6044905984.0000 - val_mae: 4598.5938\n",
      "Epoch 110/500\n",
      "29522/29522 [==============================] - 138s 5ms/step - loss: 5207924224.0000 - mae: 4175.0127 - val_loss: 6208818176.0000 - val_mae: 3557.9026\n",
      "Epoch 111/500\n",
      "29522/29522 [==============================] - 138s 5ms/step - loss: 5211053056.0000 - mae: 4207.8652 - val_loss: 5854582784.0000 - val_mae: 3738.6562\n",
      "Epoch 112/500\n",
      "29522/29522 [==============================] - 140s 5ms/step - loss: 5249235456.0000 - mae: 4085.3997 - val_loss: 6047174144.0000 - val_mae: 5480.5259\n",
      "Epoch 113/500\n",
      "29522/29522 [==============================] - 141s 5ms/step - loss: 5173390336.0000 - mae: 4151.6616 - val_loss: 6517316608.0000 - val_mae: 4144.3984\n",
      "Epoch 114/500\n",
      "29522/29522 [==============================] - 140s 5ms/step - loss: 5264912384.0000 - mae: 4161.3960 - val_loss: 5690225152.0000 - val_mae: 4089.3064\n",
      "Epoch 115/500\n",
      "29522/29522 [==============================] - 138s 5ms/step - loss: 5215391744.0000 - mae: 4142.7510 - val_loss: 6025080832.0000 - val_mae: 4829.7417\n",
      "Epoch 116/500\n",
      "29522/29522 [==============================] - 138s 5ms/step - loss: 5236478976.0000 - mae: 4110.9062 - val_loss: 5697602560.0000 - val_mae: 3762.4517\n",
      "Epoch 117/500\n",
      "29522/29522 [==============================] - 139s 5ms/step - loss: 5207172096.0000 - mae: 4223.8110 - val_loss: 6246608896.0000 - val_mae: 5491.8042\n",
      "Epoch 118/500\n",
      "29522/29522 [==============================] - 140s 5ms/step - loss: 5268232704.0000 - mae: 4154.4312 - val_loss: 5798041088.0000 - val_mae: 3916.0906\n",
      "Epoch 119/500\n",
      "29522/29522 [==============================] - 141s 5ms/step - loss: 5198596096.0000 - mae: 4056.7803 - val_loss: 6087144960.0000 - val_mae: 3589.0457\n",
      "Epoch 120/500\n",
      "29522/29522 [==============================] - 143s 5ms/step - loss: 5237255680.0000 - mae: 4054.6904 - val_loss: 5785005056.0000 - val_mae: 3790.8689\n",
      "Epoch 121/500\n",
      "29522/29522 [==============================] - 139s 5ms/step - loss: 5271823360.0000 - mae: 3974.0918 - val_loss: 5785012736.0000 - val_mae: 4776.8447\n",
      "Epoch 122/500\n",
      "29522/29522 [==============================] - 138s 5ms/step - loss: 5248582656.0000 - mae: 4087.9609 - val_loss: 5779131904.0000 - val_mae: 4132.8467\n"
     ]
    }
   ],
   "source": [
    "history = ann.fit(X_train, y_train,\n",
    "                    validation_data = (X_val, y_val),\n",
    "                    callbacks=[es],\n",
    "                    epochs=500,\n",
    "                    batch_size=10,\n",
    "                    verbose=1)"
   ]
  },
  {
   "cell_type": "markdown",
   "metadata": {
    "colab_type": "text",
    "id": "0H0zKKNEBLD5"
   },
   "source": [
    "### Analyse learn history"
   ]
  },
  {
   "cell_type": "code",
   "execution_count": 27,
   "metadata": {
    "ExecuteTime": {
     "end_time": "2023-10-11T04:18:42.967995700Z",
     "start_time": "2023-10-11T04:18:42.453082100Z"
    }
   },
   "outputs": [
    {
     "data": {
      "text/plain": "<Figure size 640x480 with 1 Axes>",
      "image/png": "[encoded data removed]"
     },
     "metadata": {},
     "output_type": "display_data"
    }
   ],
   "source": [
    "# let's see the training and validation accuracy by epoch\n",
    "history_dict = history.history\n",
    "loss_values = history_dict['loss'] # you can change this\n",
    "val_loss_values = history_dict['val_loss'] # you can also change this\n",
    "epochs = range(1, len(loss_values) + 1) # range of X (no. of epochs)\n",
    "plt.plot(epochs, loss_values, 'blue', label='Train set loss')\n",
    "plt.plot(epochs, val_loss_values, 'orange', label='Validation set loss')\n",
    "#plt.title('Training and testing loss')\n",
    "plt.xlabel('Epochs')\n",
    "plt.ylabel('Loss (MSE)')\n",
    "plt.legend()\n",
    "plt.show()"
   ]
  },
  {
   "cell_type": "code",
   "execution_count": 28,
   "metadata": {
    "ExecuteTime": {
     "end_time": "2023-10-11T04:18:51.145479900Z",
     "start_time": "2023-10-11T04:18:50.780999400Z"
    }
   },
   "outputs": [
    {
     "data": {
      "text/plain": "<Figure size 640x480 with 1 Axes>",
      "image/png": "[encoded data removed]"
     },
     "metadata": {},
     "output_type": "display_data"
    }
   ],
   "source": [
    "loss_values1 = history_dict['mae'] # you can change this\n",
    "val_loss_values1 = history_dict['val_mae'] # you can also change this\n",
    "epochs = range(1, len(loss_values1) + 1) # range of X (no. of epochs)\n",
    "plt.plot(epochs, loss_values1, 'blue', label='Train set MAE')\n",
    "plt.plot(epochs, val_loss_values1, 'orange', label='Validation set MAE')\n",
    "#plt.title('Training and testing MAE')\n",
    "plt.xlabel('Epochs')\n",
    "plt.ylabel('MAE')\n",
    "plt.legend()\n",
    "plt.show()"
   ]
  },
  {
   "cell_type": "code",
   "execution_count": null,
   "metadata": {},
   "outputs": [],
   "source": [
    "print (epochs)"
   ]
  },
  {
   "cell_type": "markdown",
   "metadata": {},
   "source": [
    "### Save the model"
   ]
  },
  {
   "cell_type": "code",
   "execution_count": 30,
   "metadata": {
    "ExecuteTime": {
     "end_time": "2023-10-11T04:54:27.922990Z",
     "start_time": "2023-10-11T04:54:27.641503100Z"
    }
   },
   "outputs": [],
   "source": [
    "ann.save('ANN_11.h5')\n",
    "import pickle\n",
    "pickle.dump(sc, open('scaler_ANN.pkl', 'wb'))"
   ]
  },
  {
   "cell_type": "markdown",
   "metadata": {},
   "source": [
    "## Part 5 - Make predictions"
   ]
  },
  {
   "cell_type": "code",
   "execution_count": null,
   "metadata": {},
   "outputs": [],
   "source": [
    "ann = load_model('ANN_1.h5')"
   ]
  },
  {
   "cell_type": "code",
   "execution_count": 29,
   "metadata": {
    "ExecuteTime": {
     "end_time": "2023-10-11T04:19:42.086010200Z",
     "start_time": "2023-10-11T04:18:57.857252700Z"
    }
   },
   "outputs": [
    {
     "name": "stdout",
     "output_type": "stream",
     "text": [
      "9226/9226 [==============================] - 26s 3ms/step\n",
      "3076/3076 [==============================] - 11s 3ms/step\n"
     ]
    },
    {
     "data": {
      "text/plain": "<Figure size 640x480 with 2 Axes>",
      "image/png": "[encoded data removed]"
     },
     "metadata": {},
     "output_type": "display_data"
    }
   ],
   "source": [
    "# scatterplot of actual vs. pred\n",
    "# specify the dimensions \n",
    "fig, axes = plt.subplots(1,2) # 1 row, 2 columns\n",
    "\n",
    "# this makes the individual subplots\n",
    "# Training Results\n",
    "axes[0].scatter(x=y_train, y=ann.predict(X_train)) #first row, first entry (left top)\n",
    "axes[0].set_xlabel(\"Actual\", fontsize=10)\n",
    "axes[0].set_ylabel(\"Predicted\",  fontsize=10)\n",
    "axes[0].set_title(\"Training\")\n",
    "# add 45 deg line\n",
    "x = np.linspace(*axes[0].get_xlim())\n",
    "axes[0].plot(x, x, color='red')\n",
    "# Validation Results\n",
    "axes[1].scatter(x=y_val, y=ann.predict(X_val)) # first row, second entry (right top)\n",
    "axes[1].set_xlabel(\"Actual\", fontsize=10)\n",
    "axes[1].set_ylabel(\"Predicted\",  fontsize=10)\n",
    "axes[1].set_title(\"Validation\")\n",
    "# add 45 deg line\n",
    "x = np.linspace(*axes[1].get_xlim())\n",
    "axes[1].plot(x, x, color='red')\n",
    "\n",
    "# tight layout\n",
    "fig.tight_layout()\n",
    "\n",
    "# show the plot\n",
    "plt.show()"
   ]
  },
  {
   "cell_type": "code",
   "execution_count": null,
   "metadata": {
    "colab": {
     "base_uri": "https://localhost:8080/",
     "height": 134
    },
    "colab_type": "code",
    "id": "IA0yApEmBG1X",
    "outputId": "cb981e1f-9204-4a2a-fece-9d66a6919189"
   },
   "outputs": [],
   "source": [
    "y_pred = ann.predict(X_test)\n",
    "np.set_printoptions(precision=2)\n",
    "print(np.concatenate((y_pred.reshape(len(y_pred),1), y_test.reshape(len(y_test),1)),1))"
   ]
  },
  {
   "cell_type": "code",
   "execution_count": null,
   "metadata": {},
   "outputs": [],
   "source": [
    "import matplotlib.pyplot as plt\n",
    "plt.scatter(y_test, y_pred, color=\"blue\")\n",
    "#plt.plot ([0,8500000],[0,8500000], color = \"red\")\n",
    "#plt.axis ([0,8500000,0,8500000])\n",
    "plt.xlabel ('Actual data')\n",
    "plt.ylabel ('Predicted data')"
   ]
  },
  {
   "cell_type": "code",
   "execution_count": null,
   "metadata": {},
   "outputs": [],
   "source": [
    "from sklearn.metrics import r2_score\n",
    "# Initialize layout\n",
    "fig1, ax1 = plt.subplots(figsize = (9, 9))\n",
    "\n",
    "\n",
    "#y = y_pred         # Model on prvious line is called here\n",
    "#x = y_test\n",
    "\n",
    "\n",
    "\n",
    "# Add scatterplot\n",
    "ax1.scatter(y_test, y_pred, s=70, alpha=1, edgecolors=\"k\",c='mediumblue',zorder=5, label = 'Points')\n",
    "\n",
    "\n",
    "plt.ylabel('Predicted Peak Incident Pressure (kPa)',fontsize = 25)\n",
    "plt.xlabel('Actual Peak Incident Pressure (kPa)',fontsize = 25)\n",
    "plt.xticks(fontsize = 19)\n",
    "plt.yticks(fontsize = 19)\n",
    "\n",
    "\n",
    "x1 = np.linspace(0,8000000)\n",
    "\n",
    "plt.plot(x1, x1, 'Red', label='45\\N{DEGREE SIGN} line',lw=2.5,alpha=1)\n",
    "plt.plot(x1, 1.1*x1, '--m', label='\\u00B110% Error',lw=2.5,alpha=0.7)\n",
    "plt.plot(x1, 0.9*x1,'m', linestyle='--',lw=2.5,alpha=0.7)\n",
    "plt.plot(x1, 1.2*x1, '-.g', label='\\u00B120% Error',lw=2.5,alpha=0.7)\n",
    "plt.plot(x1, 0.8*x1,'-.g',lw=2.5,alpha=0.7)\n",
    "\n",
    "plt.ylim(0,8000000)\n",
    "plt.xlim(0,8000000)\n",
    "plt.legend(loc='upper left',fontsize = 25)\n",
    "\n",
    "plt.grid()\n",
    "\n",
    "ax1.spines['left'].set_color('black')        # setting up Y-axis tick color to red\n",
    "ax1.spines['bottom'].set_color('black')         #setting up above X-axis tick color to red\n",
    "\n",
    "\n",
    "\n",
    "#ax1.annotate(\"$R^2$ = {:.3f}\".format(r2), (2500, 1000),fontsize = 25)  #Model is called here\n",
    "#ax1.annotate(\"Adj.$R^2$ = {:.3f}\".format(adj_r2), (2500, 750),fontsize = 25)\n",
    "\n",
    "#plt.savefig('plot1.png', dpi = 600, bbox_inches = 'tight')"
   ]
  },
  {
   "cell_type": "code",
   "execution_count": null,
   "metadata": {},
   "outputs": [],
   "source": [
    "# metrics\n",
    "trainpreds = ann.predict(X_train)\n",
    "\n",
    "from sklearn.metrics import mean_absolute_error\n",
    "print(mean_absolute_error(y_train, trainpreds)) # train\n",
    "print(mean_absolute_error(y_test, y_pred)) # test"
   ]
  },
  {
   "cell_type": "code",
   "execution_count": null,
   "metadata": {},
   "outputs": [],
   "source": [
    "from sklearn.metrics import r2_score\n",
    "r2 = r2_score(y_test, y_pred)\n",
    "print (r2)"
   ]
  },
  {
   "cell_type": "code",
   "execution_count": null,
   "metadata": {},
   "outputs": [],
   "source": [
    "r2_train = r2_score(y_train, trainpreds)\n",
    "print (r2_train)"
   ]
  },
  {
   "cell_type": "code",
   "execution_count": null,
   "metadata": {},
   "outputs": [],
   "source": [
    "count1 = 0\n",
    "for i in range(len(y_pred)):\n",
    "    line1 = y_pred[i] - 0.9*y_test[i]\n",
    "    line2 = y_pred[i] - 1.1*y_test[i]\n",
    "    #print ('line 1 ', line1)\n",
    "    #print ('line 2 ', line2)\n",
    "    mask1 = (line1 > 0) & (line2 < 0)\n",
    "    #print (mask)\n",
    "    count1 = np.sum(mask1+count1)\n",
    "    #print (count)\n",
    "\n",
    "count2 = 0\n",
    "for j in range(len(y_pred)):\n",
    "    line3 = y_pred[j] - 0.8*y_test[j]\n",
    "    line4 = y_pred[j] - 1.2*y_test[j]\n",
    "    mask2 = (line3 > 0) & (line4 < 0)\n",
    "    count2 = np.sum(mask2+count2)\n",
    "\n",
    "\n",
    "count3 = 0    \n",
    "for k in range(len(y_pred)):\n",
    "    line5 = y_pred[k] - 0.8*y_test[k]\n",
    "    line6 = y_pred[k] - 1.2*y_test[k]\n",
    "    mask3 = (line5 < 0) or (line6 > 0)\n",
    "    count3 = np.sum(mask3+count3)\n",
    "   \n",
    "\n",
    "print ('Within 10% margin', format((count1/len (y_pred)),'.2%'))\n",
    "print ('Within 20% margin', format((count2/len (y_pred)),'.2%'))\n",
    "print ('Out of 20% margin', format((count3/len (y_pred)),'.2%'))"
   ]
  },
  {
   "cell_type": "code",
   "execution_count": null,
   "metadata": {},
   "outputs": [],
   "source": [
    "adj_r2 = 1 - ((1 - r2) * (len(X_test) - 1) / (len(X_test) - len (X_test[0]) - 1))\n",
    "print (adj_r2)"
   ]
  },
  {
   "cell_type": "code",
   "execution_count": null,
   "metadata": {},
   "outputs": [],
   "source": [
    "import math\n",
    "from sklearn.metrics import mean_squared_error\n",
    "\n",
    "math.sqrt(mean_squared_error(y_test, y_pred))"
   ]
  },
  {
   "cell_type": "code",
   "execution_count": null,
   "metadata": {},
   "outputs": [],
   "source": [
    "from sklearn.metrics import mean_absolute_error\n",
    "\n",
    "mean_absolute_error(y_test, y_pred)"
   ]
  }
 ],
 "metadata": {
  "colab": {
   "collapsed_sections": [],
   "name": "Artificial Neural Network",
   "provenance": [],
   "toc_visible": true
  },
  "kernelspec": {
   "display_name": "Python 3 (ipykernel)",
   "language": "python",
   "name": "python3"
  },
  "language_info": {
   "codemirror_mode": {
    "name": "ipython",
    "version": 3
   },
   "file_extension": ".py",
   "mimetype": "text/x-python",
   "name": "python",
   "nbconvert_exporter": "python",
   "pygments_lexer": "ipython3",
   "version": "3.9.7"
  }
 },
 "nbformat": 4,
 "nbformat_minor": 4
}
