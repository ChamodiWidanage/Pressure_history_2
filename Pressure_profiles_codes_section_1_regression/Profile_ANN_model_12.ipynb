{
 "cells": [
  {
   "cell_type": "markdown",
   "metadata": {
    "colab_type": "text",
    "id": "3cbb7fRy-eyr"
   },
   "source": [
    "# Artificial Neural Network"
   ]
  },
  {
   "cell_type": "markdown",
   "metadata": {
    "colab_type": "text",
    "id": "8sNDnxE2-pwE"
   },
   "source": [
    "## Part 1 - Importing the libraries"
   ]
  },
  {
   "cell_type": "code",
   "execution_count": 1,
   "metadata": {
    "colab": {},
    "colab_type": "code",
    "id": "lxChR1Rk-umf",
    "ExecuteTime": {
     "end_time": "2023-10-11T23:15:07.687004100Z",
     "start_time": "2023-10-11T23:15:03.433969500Z"
    }
   },
   "outputs": [],
   "source": [
    "import numpy as np\n",
    "import pandas as pd\n",
    "import tensorflow as tf\n",
    "import matplotlib.pyplot as plt\n",
    "from keras.models import load_model\n",
    "from pathlib import Path"
   ]
  },
  {
   "cell_type": "markdown",
   "metadata": {
    "colab_type": "text",
    "id": "AG3FQEch-yuA"
   },
   "source": [
    "## Part 2 - Data Preprocessing"
   ]
  },
  {
   "cell_type": "markdown",
   "metadata": {
    "colab_type": "text",
    "id": "-4zq8Mza_D9O"
   },
   "source": [
    "### Importing the dataset"
   ]
  },
  {
   "cell_type": "code",
   "execution_count": 2,
   "metadata": {
    "ExecuteTime": {
     "end_time": "2023-10-11T23:15:11.030746100Z",
     "start_time": "2023-10-11T23:15:10.999512700Z"
    }
   },
   "outputs": [
    {
     "name": "stdout",
     "output_type": "stream",
     "text": [
      "input G:\\Chamodi\\Machine_Learning\\Pressure_history_2\\Pressure_profiles_arrival_omitted\n",
      "2 [WindowsPath('G:/Chamodi/Machine_Learning/Pressure_history_2/Pressure_profiles_arrival_omitted/L13_1'), WindowsPath('G:/Chamodi/Machine_Learning/Pressure_history_2/Pressure_profiles_arrival_omitted/L13_11'), WindowsPath('G:/Chamodi/Machine_Learning/Pressure_history_2/Pressure_profiles_arrival_omitted/L13_13'), WindowsPath('G:/Chamodi/Machine_Learning/Pressure_history_2/Pressure_profiles_arrival_omitted/L13_15'), WindowsPath('G:/Chamodi/Machine_Learning/Pressure_history_2/Pressure_profiles_arrival_omitted/L13_17'), WindowsPath('G:/Chamodi/Machine_Learning/Pressure_history_2/Pressure_profiles_arrival_omitted/L13_19'), WindowsPath('G:/Chamodi/Machine_Learning/Pressure_history_2/Pressure_profiles_arrival_omitted/L13_21'), WindowsPath('G:/Chamodi/Machine_Learning/Pressure_history_2/Pressure_profiles_arrival_omitted/L13_23'), WindowsPath('G:/Chamodi/Machine_Learning/Pressure_history_2/Pressure_profiles_arrival_omitted/L13_25'), WindowsPath('G:/Chamodi/Machine_Learning/Pressure_history_2/Pressure_profiles_arrival_omitted/L13_27'), WindowsPath('G:/Chamodi/Machine_Learning/Pressure_history_2/Pressure_profiles_arrival_omitted/L13_29'), WindowsPath('G:/Chamodi/Machine_Learning/Pressure_history_2/Pressure_profiles_arrival_omitted/L13_3'), WindowsPath('G:/Chamodi/Machine_Learning/Pressure_history_2/Pressure_profiles_arrival_omitted/L13_31'), WindowsPath('G:/Chamodi/Machine_Learning/Pressure_history_2/Pressure_profiles_arrival_omitted/L13_33'), WindowsPath('G:/Chamodi/Machine_Learning/Pressure_history_2/Pressure_profiles_arrival_omitted/L13_35'), WindowsPath('G:/Chamodi/Machine_Learning/Pressure_history_2/Pressure_profiles_arrival_omitted/L13_37'), WindowsPath('G:/Chamodi/Machine_Learning/Pressure_history_2/Pressure_profiles_arrival_omitted/L13_39'), WindowsPath('G:/Chamodi/Machine_Learning/Pressure_history_2/Pressure_profiles_arrival_omitted/L13_41'), WindowsPath('G:/Chamodi/Machine_Learning/Pressure_history_2/Pressure_profiles_arrival_omitted/L13_43'), WindowsPath('G:/Chamodi/Machine_Learning/Pressure_history_2/Pressure_profiles_arrival_omitted/L13_45'), WindowsPath('G:/Chamodi/Machine_Learning/Pressure_history_2/Pressure_profiles_arrival_omitted/L13_47'), WindowsPath('G:/Chamodi/Machine_Learning/Pressure_history_2/Pressure_profiles_arrival_omitted/L13_49'), WindowsPath('G:/Chamodi/Machine_Learning/Pressure_history_2/Pressure_profiles_arrival_omitted/L13_5'), WindowsPath('G:/Chamodi/Machine_Learning/Pressure_history_2/Pressure_profiles_arrival_omitted/L13_51'), WindowsPath('G:/Chamodi/Machine_Learning/Pressure_history_2/Pressure_profiles_arrival_omitted/L13_53'), WindowsPath('G:/Chamodi/Machine_Learning/Pressure_history_2/Pressure_profiles_arrival_omitted/L13_55'), WindowsPath('G:/Chamodi/Machine_Learning/Pressure_history_2/Pressure_profiles_arrival_omitted/L13_57'), WindowsPath('G:/Chamodi/Machine_Learning/Pressure_history_2/Pressure_profiles_arrival_omitted/L13_59'), WindowsPath('G:/Chamodi/Machine_Learning/Pressure_history_2/Pressure_profiles_arrival_omitted/L13_61'), WindowsPath('G:/Chamodi/Machine_Learning/Pressure_history_2/Pressure_profiles_arrival_omitted/L13_63'), WindowsPath('G:/Chamodi/Machine_Learning/Pressure_history_2/Pressure_profiles_arrival_omitted/L13_65'), WindowsPath('G:/Chamodi/Machine_Learning/Pressure_history_2/Pressure_profiles_arrival_omitted/L13_67'), WindowsPath('G:/Chamodi/Machine_Learning/Pressure_history_2/Pressure_profiles_arrival_omitted/L13_69'), WindowsPath('G:/Chamodi/Machine_Learning/Pressure_history_2/Pressure_profiles_arrival_omitted/L13_7'), WindowsPath('G:/Chamodi/Machine_Learning/Pressure_history_2/Pressure_profiles_arrival_omitted/L13_70'), WindowsPath('G:/Chamodi/Machine_Learning/Pressure_history_2/Pressure_profiles_arrival_omitted/L13_9')]\n"
     ]
    }
   ],
   "source": [
    "#Access input folder\n",
    "current_dir = Path.cwd()\n",
    "parent_dir = current_dir.parent\n",
    "input_dir1 = Path (parent_dir/\"Pressure_profiles_arrival_omitted\")\n",
    "print (\"input\",input_dir1)\n",
    "\n",
    "#Access folders inside input folder\n",
    "input_dir2_train =  [folder_input for folder_input in input_dir1.iterdir() if folder_input.is_dir()]\n",
    "print (\"2\",input_dir2_train)"
   ]
  },
  {
   "cell_type": "code",
   "execution_count": 3,
   "metadata": {
    "ExecuteTime": {
     "end_time": "2023-10-11T23:15:58.930370600Z",
     "start_time": "2023-10-11T23:15:14.202369700Z"
    }
   },
   "outputs": [
    {
     "name": "stdout",
     "output_type": "stream",
     "text": [
      "folder G:\\Chamodi\\Machine_Learning\\Pressure_history_2\\Pressure_profiles_arrival_omitted\\L13_1\n",
      "P1\n",
      "P13\n",
      "P5\n",
      "P9\n",
      "folder G:\\Chamodi\\Machine_Learning\\Pressure_history_2\\Pressure_profiles_arrival_omitted\\L13_11\n",
      "P1\n",
      "P13\n",
      "P5\n",
      "P9\n",
      "folder G:\\Chamodi\\Machine_Learning\\Pressure_history_2\\Pressure_profiles_arrival_omitted\\L13_13\n",
      "P1\n",
      "P13\n",
      "P5\n",
      "P9\n",
      "folder G:\\Chamodi\\Machine_Learning\\Pressure_history_2\\Pressure_profiles_arrival_omitted\\L13_15\n",
      "P1\n",
      "P13\n",
      "P5\n",
      "P9\n",
      "folder G:\\Chamodi\\Machine_Learning\\Pressure_history_2\\Pressure_profiles_arrival_omitted\\L13_17\n",
      "P1\n",
      "P13\n",
      "P5\n",
      "P9\n",
      "folder G:\\Chamodi\\Machine_Learning\\Pressure_history_2\\Pressure_profiles_arrival_omitted\\L13_19\n",
      "P1\n",
      "P13\n",
      "P5\n",
      "P9\n",
      "folder G:\\Chamodi\\Machine_Learning\\Pressure_history_2\\Pressure_profiles_arrival_omitted\\L13_21\n",
      "P1\n",
      "P13\n",
      "P5\n",
      "P9\n",
      "folder G:\\Chamodi\\Machine_Learning\\Pressure_history_2\\Pressure_profiles_arrival_omitted\\L13_23\n",
      "P1\n",
      "P13\n",
      "P5\n",
      "P9\n",
      "folder G:\\Chamodi\\Machine_Learning\\Pressure_history_2\\Pressure_profiles_arrival_omitted\\L13_25\n",
      "P1\n",
      "P13\n",
      "P5\n",
      "P9\n",
      "folder G:\\Chamodi\\Machine_Learning\\Pressure_history_2\\Pressure_profiles_arrival_omitted\\L13_27\n",
      "P1\n",
      "P13\n",
      "P5\n",
      "P9\n",
      "folder G:\\Chamodi\\Machine_Learning\\Pressure_history_2\\Pressure_profiles_arrival_omitted\\L13_29\n",
      "P1\n",
      "P13\n",
      "P5\n",
      "P9\n",
      "folder G:\\Chamodi\\Machine_Learning\\Pressure_history_2\\Pressure_profiles_arrival_omitted\\L13_3\n",
      "P1\n",
      "P13\n",
      "P5\n",
      "P9\n",
      "folder G:\\Chamodi\\Machine_Learning\\Pressure_history_2\\Pressure_profiles_arrival_omitted\\L13_31\n",
      "P1\n",
      "P13\n",
      "P5\n",
      "P9\n",
      "folder G:\\Chamodi\\Machine_Learning\\Pressure_history_2\\Pressure_profiles_arrival_omitted\\L13_33\n",
      "P1\n",
      "P13\n",
      "P5\n",
      "P9\n",
      "folder G:\\Chamodi\\Machine_Learning\\Pressure_history_2\\Pressure_profiles_arrival_omitted\\L13_35\n",
      "P1\n",
      "P13\n",
      "P5\n",
      "P9\n",
      "folder G:\\Chamodi\\Machine_Learning\\Pressure_history_2\\Pressure_profiles_arrival_omitted\\L13_37\n",
      "P1\n",
      "P13\n",
      "P5\n",
      "P9\n",
      "folder G:\\Chamodi\\Machine_Learning\\Pressure_history_2\\Pressure_profiles_arrival_omitted\\L13_39\n",
      "P1\n",
      "P13\n",
      "P5\n",
      "P9\n",
      "folder G:\\Chamodi\\Machine_Learning\\Pressure_history_2\\Pressure_profiles_arrival_omitted\\L13_41\n",
      "P1\n",
      "P13\n",
      "P5\n",
      "P9\n",
      "folder G:\\Chamodi\\Machine_Learning\\Pressure_history_2\\Pressure_profiles_arrival_omitted\\L13_43\n",
      "P1\n",
      "P13\n",
      "P5\n",
      "P9\n",
      "folder G:\\Chamodi\\Machine_Learning\\Pressure_history_2\\Pressure_profiles_arrival_omitted\\L13_45\n",
      "P1\n",
      "P13\n",
      "P5\n",
      "P9\n",
      "folder G:\\Chamodi\\Machine_Learning\\Pressure_history_2\\Pressure_profiles_arrival_omitted\\L13_47\n",
      "P1\n",
      "P13\n",
      "P5\n",
      "P9\n",
      "folder G:\\Chamodi\\Machine_Learning\\Pressure_history_2\\Pressure_profiles_arrival_omitted\\L13_49\n",
      "P1\n",
      "P13\n",
      "P5\n",
      "P9\n",
      "folder G:\\Chamodi\\Machine_Learning\\Pressure_history_2\\Pressure_profiles_arrival_omitted\\L13_5\n",
      "P1\n",
      "P13\n",
      "P5\n",
      "P9\n",
      "folder G:\\Chamodi\\Machine_Learning\\Pressure_history_2\\Pressure_profiles_arrival_omitted\\L13_51\n",
      "P1\n",
      "P13\n",
      "P5\n",
      "P9\n",
      "folder G:\\Chamodi\\Machine_Learning\\Pressure_history_2\\Pressure_profiles_arrival_omitted\\L13_53\n",
      "P1\n",
      "P13\n",
      "P5\n",
      "P9\n",
      "folder G:\\Chamodi\\Machine_Learning\\Pressure_history_2\\Pressure_profiles_arrival_omitted\\L13_55\n",
      "P1\n",
      "P13\n",
      "P5\n",
      "P9\n",
      "folder G:\\Chamodi\\Machine_Learning\\Pressure_history_2\\Pressure_profiles_arrival_omitted\\L13_57\n",
      "P1\n",
      "P13\n",
      "P5\n",
      "P9\n",
      "folder G:\\Chamodi\\Machine_Learning\\Pressure_history_2\\Pressure_profiles_arrival_omitted\\L13_59\n",
      "P1\n",
      "P13\n",
      "P5\n",
      "P9\n",
      "folder G:\\Chamodi\\Machine_Learning\\Pressure_history_2\\Pressure_profiles_arrival_omitted\\L13_61\n",
      "P1\n",
      "P13\n",
      "P5\n",
      "P9\n",
      "folder G:\\Chamodi\\Machine_Learning\\Pressure_history_2\\Pressure_profiles_arrival_omitted\\L13_63\n",
      "P1\n",
      "P13\n",
      "P5\n",
      "P9\n",
      "folder G:\\Chamodi\\Machine_Learning\\Pressure_history_2\\Pressure_profiles_arrival_omitted\\L13_65\n",
      "P1\n",
      "P13\n",
      "P5\n",
      "P9\n",
      "folder G:\\Chamodi\\Machine_Learning\\Pressure_history_2\\Pressure_profiles_arrival_omitted\\L13_67\n",
      "P1\n",
      "P13\n",
      "P5\n",
      "P9\n",
      "folder G:\\Chamodi\\Machine_Learning\\Pressure_history_2\\Pressure_profiles_arrival_omitted\\L13_69\n",
      "P1\n",
      "P13\n",
      "P5\n",
      "P9\n",
      "folder G:\\Chamodi\\Machine_Learning\\Pressure_history_2\\Pressure_profiles_arrival_omitted\\L13_7\n",
      "P1\n",
      "P13\n",
      "P5\n",
      "P9\n",
      "folder G:\\Chamodi\\Machine_Learning\\Pressure_history_2\\Pressure_profiles_arrival_omitted\\L13_70\n",
      "P1\n",
      "P13\n",
      "P5\n",
      "P9\n",
      "folder G:\\Chamodi\\Machine_Learning\\Pressure_history_2\\Pressure_profiles_arrival_omitted\\L13_9\n",
      "P1\n",
      "P13\n",
      "P5\n",
      "P9\n"
     ]
    }
   ],
   "source": [
    "# Access each folder inside input folder\n",
    "dataset_train = pd.DataFrame(columns = ['Charge_mass', 'Standoff_distance', 'Time', 'Pressure', 'Phase'])\n",
    "df_list_train = []\n",
    "for folder_train in input_dir2_train:\n",
    "    \n",
    "    # Make a list of data file names\n",
    "    files_train = list(file_train for file_train in folder_train.rglob(\"*.xlsx\") if int(file_train.stem[1:]) < 14)\n",
    "    print (\"folder\", folder_train)\n",
    "    \n",
    "    for file_train in files_train:\n",
    "        df_list_train.append(pd.read_excel(file_train))\n",
    "        print (file_train.stem)\n",
    "\n",
    "dataset_train = pd.concat(df_list_train, ignore_index = True)"
   ]
  },
  {
   "cell_type": "code",
   "execution_count": 4,
   "metadata": {
    "colab": {},
    "colab_type": "code",
    "id": "B9CV13Co_HHM",
    "ExecuteTime": {
     "end_time": "2023-10-11T23:16:55.578606400Z",
     "start_time": "2023-10-11T23:16:55.531776200Z"
    }
   },
   "outputs": [
    {
     "name": "stdout",
     "output_type": "stream",
     "text": [
      "<class 'pandas.core.frame.DataFrame'>\n",
      "RangeIndex: 492019 entries, 0 to 492018\n",
      "Data columns (total 5 columns):\n",
      " #   Column             Non-Null Count   Dtype  \n",
      "---  ------             --------------   -----  \n",
      " 0   Charge_mass        492019 non-null  float64\n",
      " 1   Standoff_distance  492019 non-null  int64  \n",
      " 2   Time               492019 non-null  float64\n",
      " 3   Pressure           492019 non-null  float64\n",
      " 4   Phase              492019 non-null  object \n",
      "dtypes: float64(3), int64(1), object(1)\n",
      "memory usage: 18.8+ MB\n"
     ]
    }
   ],
   "source": [
    "dataset_train.info()"
   ]
  },
  {
   "cell_type": "code",
   "execution_count": 5,
   "outputs": [
    {
     "name": "stdout",
     "output_type": "stream",
     "text": [
      "<class 'pandas.core.frame.DataFrame'>\n",
      "RangeIndex: 492019 entries, 0 to 492018\n",
      "Data columns (total 6 columns):\n",
      " #   Column             Non-Null Count   Dtype  \n",
      "---  ------             --------------   -----  \n",
      " 0   Charge_mass        492019 non-null  float64\n",
      " 1   Standoff_distance  492019 non-null  int64  \n",
      " 2   Time               492019 non-null  float64\n",
      " 3   Pressure           492019 non-null  float64\n",
      " 4   Phase_negative     492019 non-null  uint8  \n",
      " 5   Phase_positive     492019 non-null  uint8  \n",
      "dtypes: float64(3), int64(1), uint8(2)\n",
      "memory usage: 16.0 MB\n"
     ]
    }
   ],
   "source": [
    "dataset_train = pd.get_dummies(dataset_train, columns =['Phase'], dtype = np.uint8)\n",
    "dataset_train.info()"
   ],
   "metadata": {
    "collapsed": false,
    "ExecuteTime": {
     "end_time": "2023-10-11T23:16:57.690171200Z",
     "start_time": "2023-10-11T23:16:57.594082900Z"
    }
   }
  },
  {
   "cell_type": "code",
   "execution_count": 6,
   "outputs": [
    {
     "data": {
      "text/plain": "    Charge_mass  Standoff_distance     Time      Pressure  Phase_negative  \\\n0           0.5                  1  0.00067  591827.62500               0   \n1           0.5                  1  0.00068  556217.18750               0   \n2           0.5                  1  0.00069  525135.00000               0   \n3           0.5                  1  0.00070  496668.90625               0   \n4           0.5                  1  0.00071  469418.40625               0   \n5           0.5                  1  0.00072  445550.09375               0   \n6           0.5                  1  0.00073  423420.03125               0   \n7           0.5                  1  0.00074  402121.96875               0   \n8           0.5                  1  0.00075  383202.34375               0   \n9           0.5                  1  0.00076  365626.65625               0   \n10          0.5                  1  0.00077  349977.50000               0   \n11          0.5                  1  0.00078  334716.18750               0   \n12          0.5                  1  0.00079  320582.50000               0   \n13          0.5                  1  0.00080  307536.68750               0   \n14          0.5                  1  0.00081  295047.87500               0   \n15          0.5                  1  0.00082  283671.71875               0   \n16          0.5                  1  0.00083  273287.31250               0   \n17          0.5                  1  0.00084  263380.59375               0   \n18          0.5                  1  0.00085  253957.70312               0   \n19          0.5                  1  0.00086  245341.54688               0   \n20          0.5                  1  0.00087  237136.67188               0   \n21          0.5                  1  0.00088  229610.26562               0   \n22          0.5                  1  0.00089  222423.93750               0   \n23          0.5                  1  0.00090  215571.06250               0   \n24          0.5                  1  0.00091  209261.32812               0   \n25          0.5                  1  0.00092  203243.39062               0   \n26          0.5                  1  0.00093  197520.82812               0   \n27          0.5                  1  0.00094  192094.54688               0   \n28          0.5                  1  0.00095  186960.62500               0   \n29          0.5                  1  0.00096  182106.14062               0   \n\n    Phase_positive  \n0                1  \n1                1  \n2                1  \n3                1  \n4                1  \n5                1  \n6                1  \n7                1  \n8                1  \n9                1  \n10               1  \n11               1  \n12               1  \n13               1  \n14               1  \n15               1  \n16               1  \n17               1  \n18               1  \n19               1  \n20               1  \n21               1  \n22               1  \n23               1  \n24               1  \n25               1  \n26               1  \n27               1  \n28               1  \n29               1  ",
      "text/html": "<div>\n<style scoped>\n    .dataframe tbody tr th:only-of-type {\n        vertical-align: middle;\n    }\n\n    .dataframe tbody tr th {\n        vertical-align: top;\n    }\n\n    .dataframe thead th {\n        text-align: right;\n    }\n</style>\n<table border=\"1\" class=\"dataframe\">\n  <thead>\n    <tr style=\"text-align: right;\">\n      <th></th>\n      <th>Charge_mass</th>\n      <th>Standoff_distance</th>\n      <th>Time</th>\n      <th>Pressure</th>\n      <th>Phase_negative</th>\n      <th>Phase_positive</th>\n    </tr>\n  </thead>\n  <tbody>\n    <tr>\n      <th>0</th>\n      <td>0.5</td>\n      <td>1</td>\n      <td>0.00067</td>\n      <td>591827.62500</td>\n      <td>0</td>\n      <td>1</td>\n    </tr>\n    <tr>\n      <th>1</th>\n      <td>0.5</td>\n      <td>1</td>\n      <td>0.00068</td>\n      <td>556217.18750</td>\n      <td>0</td>\n      <td>1</td>\n    </tr>\n    <tr>\n      <th>2</th>\n      <td>0.5</td>\n      <td>1</td>\n      <td>0.00069</td>\n      <td>525135.00000</td>\n      <td>0</td>\n      <td>1</td>\n    </tr>\n    <tr>\n      <th>3</th>\n      <td>0.5</td>\n      <td>1</td>\n      <td>0.00070</td>\n      <td>496668.90625</td>\n      <td>0</td>\n      <td>1</td>\n    </tr>\n    <tr>\n      <th>4</th>\n      <td>0.5</td>\n      <td>1</td>\n      <td>0.00071</td>\n      <td>469418.40625</td>\n      <td>0</td>\n      <td>1</td>\n    </tr>\n    <tr>\n      <th>5</th>\n      <td>0.5</td>\n      <td>1</td>\n      <td>0.00072</td>\n      <td>445550.09375</td>\n      <td>0</td>\n      <td>1</td>\n    </tr>\n    <tr>\n      <th>6</th>\n      <td>0.5</td>\n      <td>1</td>\n      <td>0.00073</td>\n      <td>423420.03125</td>\n      <td>0</td>\n      <td>1</td>\n    </tr>\n    <tr>\n      <th>7</th>\n      <td>0.5</td>\n      <td>1</td>\n      <td>0.00074</td>\n      <td>402121.96875</td>\n      <td>0</td>\n      <td>1</td>\n    </tr>\n    <tr>\n      <th>8</th>\n      <td>0.5</td>\n      <td>1</td>\n      <td>0.00075</td>\n      <td>383202.34375</td>\n      <td>0</td>\n      <td>1</td>\n    </tr>\n    <tr>\n      <th>9</th>\n      <td>0.5</td>\n      <td>1</td>\n      <td>0.00076</td>\n      <td>365626.65625</td>\n      <td>0</td>\n      <td>1</td>\n    </tr>\n    <tr>\n      <th>10</th>\n      <td>0.5</td>\n      <td>1</td>\n      <td>0.00077</td>\n      <td>349977.50000</td>\n      <td>0</td>\n      <td>1</td>\n    </tr>\n    <tr>\n      <th>11</th>\n      <td>0.5</td>\n      <td>1</td>\n      <td>0.00078</td>\n      <td>334716.18750</td>\n      <td>0</td>\n      <td>1</td>\n    </tr>\n    <tr>\n      <th>12</th>\n      <td>0.5</td>\n      <td>1</td>\n      <td>0.00079</td>\n      <td>320582.50000</td>\n      <td>0</td>\n      <td>1</td>\n    </tr>\n    <tr>\n      <th>13</th>\n      <td>0.5</td>\n      <td>1</td>\n      <td>0.00080</td>\n      <td>307536.68750</td>\n      <td>0</td>\n      <td>1</td>\n    </tr>\n    <tr>\n      <th>14</th>\n      <td>0.5</td>\n      <td>1</td>\n      <td>0.00081</td>\n      <td>295047.87500</td>\n      <td>0</td>\n      <td>1</td>\n    </tr>\n    <tr>\n      <th>15</th>\n      <td>0.5</td>\n      <td>1</td>\n      <td>0.00082</td>\n      <td>283671.71875</td>\n      <td>0</td>\n      <td>1</td>\n    </tr>\n    <tr>\n      <th>16</th>\n      <td>0.5</td>\n      <td>1</td>\n      <td>0.00083</td>\n      <td>273287.31250</td>\n      <td>0</td>\n      <td>1</td>\n    </tr>\n    <tr>\n      <th>17</th>\n      <td>0.5</td>\n      <td>1</td>\n      <td>0.00084</td>\n      <td>263380.59375</td>\n      <td>0</td>\n      <td>1</td>\n    </tr>\n    <tr>\n      <th>18</th>\n      <td>0.5</td>\n      <td>1</td>\n      <td>0.00085</td>\n      <td>253957.70312</td>\n      <td>0</td>\n      <td>1</td>\n    </tr>\n    <tr>\n      <th>19</th>\n      <td>0.5</td>\n      <td>1</td>\n      <td>0.00086</td>\n      <td>245341.54688</td>\n      <td>0</td>\n      <td>1</td>\n    </tr>\n    <tr>\n      <th>20</th>\n      <td>0.5</td>\n      <td>1</td>\n      <td>0.00087</td>\n      <td>237136.67188</td>\n      <td>0</td>\n      <td>1</td>\n    </tr>\n    <tr>\n      <th>21</th>\n      <td>0.5</td>\n      <td>1</td>\n      <td>0.00088</td>\n      <td>229610.26562</td>\n      <td>0</td>\n      <td>1</td>\n    </tr>\n    <tr>\n      <th>22</th>\n      <td>0.5</td>\n      <td>1</td>\n      <td>0.00089</td>\n      <td>222423.93750</td>\n      <td>0</td>\n      <td>1</td>\n    </tr>\n    <tr>\n      <th>23</th>\n      <td>0.5</td>\n      <td>1</td>\n      <td>0.00090</td>\n      <td>215571.06250</td>\n      <td>0</td>\n      <td>1</td>\n    </tr>\n    <tr>\n      <th>24</th>\n      <td>0.5</td>\n      <td>1</td>\n      <td>0.00091</td>\n      <td>209261.32812</td>\n      <td>0</td>\n      <td>1</td>\n    </tr>\n    <tr>\n      <th>25</th>\n      <td>0.5</td>\n      <td>1</td>\n      <td>0.00092</td>\n      <td>203243.39062</td>\n      <td>0</td>\n      <td>1</td>\n    </tr>\n    <tr>\n      <th>26</th>\n      <td>0.5</td>\n      <td>1</td>\n      <td>0.00093</td>\n      <td>197520.82812</td>\n      <td>0</td>\n      <td>1</td>\n    </tr>\n    <tr>\n      <th>27</th>\n      <td>0.5</td>\n      <td>1</td>\n      <td>0.00094</td>\n      <td>192094.54688</td>\n      <td>0</td>\n      <td>1</td>\n    </tr>\n    <tr>\n      <th>28</th>\n      <td>0.5</td>\n      <td>1</td>\n      <td>0.00095</td>\n      <td>186960.62500</td>\n      <td>0</td>\n      <td>1</td>\n    </tr>\n    <tr>\n      <th>29</th>\n      <td>0.5</td>\n      <td>1</td>\n      <td>0.00096</td>\n      <td>182106.14062</td>\n      <td>0</td>\n      <td>1</td>\n    </tr>\n  </tbody>\n</table>\n</div>"
     },
     "execution_count": 6,
     "metadata": {},
     "output_type": "execute_result"
    }
   ],
   "source": [
    "dataset_train.head(30)"
   ],
   "metadata": {
    "collapsed": false,
    "ExecuteTime": {
     "end_time": "2023-10-11T23:17:00.033075Z",
     "start_time": "2023-10-11T23:16:59.969041400Z"
    }
   }
  },
  {
   "cell_type": "code",
   "execution_count": 9,
   "metadata": {
    "ExecuteTime": {
     "end_time": "2023-10-11T23:17:40.474587900Z",
     "start_time": "2023-10-11T23:17:40.411033700Z"
    }
   },
   "outputs": [],
   "source": [
    "y = dataset_train['Pressure']\n",
    "X = dataset_train.drop(['Pressure'], axis=1)"
   ]
  },
  {
   "cell_type": "code",
   "execution_count": 10,
   "metadata": {
    "ExecuteTime": {
     "end_time": "2023-10-11T23:17:42.351945100Z",
     "start_time": "2023-10-11T23:17:42.256194400Z"
    }
   },
   "outputs": [
    {
     "name": "stdout",
     "output_type": "stream",
     "text": [
      "(492019, 5) (492019, 1)\n"
     ]
    }
   ],
   "source": [
    "# convert to numpy array\n",
    "X = np.array(X)\n",
    "y = np.array(y)\n",
    "y = y.reshape(-1,1)\n",
    "print(X.shape, y.shape)"
   ]
  },
  {
   "cell_type": "markdown",
   "metadata": {
    "colab_type": "text",
    "id": "VC6omXel_Up0"
   },
   "source": [
    "### Splitting the dataset into the Training set and Test set"
   ]
  },
  {
   "cell_type": "code",
   "execution_count": 11,
   "metadata": {
    "colab": {},
    "colab_type": "code",
    "id": "L5edeb2r_agx",
    "ExecuteTime": {
     "end_time": "2023-10-11T23:17:47.641248800Z",
     "start_time": "2023-10-11T23:17:46.626052600Z"
    }
   },
   "outputs": [],
   "source": [
    "from sklearn.model_selection import train_test_split\n",
    "X_train, X_test, y_train, y_test = train_test_split(X,\n",
    "                                                    y,\n",
    "                                                    test_size = 0.4,\n",
    "                                                    random_state = 0)"
   ]
  },
  {
   "cell_type": "code",
   "execution_count": 12,
   "metadata": {
    "colab": {},
    "colab_type": "code",
    "id": "L5edeb2r_agx",
    "ExecuteTime": {
     "end_time": "2023-10-11T23:17:48.770044900Z",
     "start_time": "2023-10-11T23:17:48.735308100Z"
    }
   },
   "outputs": [],
   "source": [
    "X_val, X_test, y_val, y_test = train_test_split(X_test,\n",
    "                                                y_test,\n",
    "                                                test_size = 0.5,\n",
    "                                                random_state = 0)"
   ]
  },
  {
   "cell_type": "markdown",
   "source": [
    "## Feature scaling"
   ],
   "metadata": {
    "collapsed": false
   }
  },
  {
   "cell_type": "code",
   "execution_count": 13,
   "outputs": [
    {
     "name": "stdout",
     "output_type": "stream",
     "text": [
      "(295211, 5) (295211, 1)\n"
     ]
    }
   ],
   "source": [
    "print (X_train.shape, y_train.shape)"
   ],
   "metadata": {
    "collapsed": false,
    "ExecuteTime": {
     "end_time": "2023-10-11T23:17:53.063419600Z",
     "start_time": "2023-10-11T23:17:53.016528300Z"
    }
   }
  },
  {
   "cell_type": "code",
   "execution_count": 14,
   "outputs": [
    {
     "name": "stdout",
     "output_type": "stream",
     "text": [
      "[[-1.11558794  0.43902902  0.40860138  1.          0.        ]\n",
      " [-1.83149237 -1.32802297 -1.10299844  1.          0.        ]\n",
      " [ 1.03212534 -0.44449698 -0.9816199   1.          0.        ]\n",
      " ...\n",
      " [ 1.33894152  0.43902902 -0.15265695  1.          0.        ]\n",
      " [ 0.6230371  -1.32802297  0.5075946   1.          0.        ]\n",
      " [-1.72922031 -0.44449698 -0.88346605  1.          0.        ]]\n",
      "[[-0.0215963 ]\n",
      " [-0.06345907]\n",
      " [-0.02970373]\n",
      " ...\n",
      " [-0.15294759]\n",
      " [ 0.00146187]\n",
      " [-0.12343806]]\n"
     ]
    }
   ],
   "source": [
    "from sklearn.preprocessing import StandardScaler\n",
    "sc = StandardScaler()\n",
    "sc_y = StandardScaler()\n",
    "X_train[:,0:3] = sc.fit_transform(X_train[:, 0:3])\n",
    "y_train = sc_y.fit_transform(y_train)\n",
    "print (X_train)\n",
    "print (y_train)"
   ],
   "metadata": {
    "collapsed": false,
    "ExecuteTime": {
     "end_time": "2023-10-11T23:17:58.735347Z",
     "start_time": "2023-10-11T23:17:58.647748900Z"
    }
   }
  },
  {
   "cell_type": "code",
   "execution_count": 15,
   "outputs": [
    {
     "name": "stdout",
     "output_type": "stream",
     "text": [
      "[[ 0.92985328 -0.44449698 -1.49808719  1.          0.        ]\n",
      " [-0.39968351  0.43902902 -1.30699156  0.          1.        ]\n",
      " [-1.01331588  0.43902902  0.31822281  1.          0.        ]\n",
      " ...\n",
      " [-0.39968351  1.32255501  0.65650805  1.          0.        ]\n",
      " [ 0.31622091  0.43902902  1.37959509  1.          0.        ]\n",
      " [-0.29741145 -1.32802297 -1.46796614  1.          0.        ]]\n",
      "[[-2.79407124e-01]\n",
      " [ 2.91879494e-01]\n",
      " [-2.47047070e-02]\n",
      " ...\n",
      " [-1.80121709e-02]\n",
      " [ 5.35124152e-04]\n",
      " [ 1.20149375e+00]]\n"
     ]
    }
   ],
   "source": [
    "X_test[:,0:3] = sc.transform(X_test[:,0:3])\n",
    "y_test = sc_y.transform(y_test)\n",
    "print (X_test)\n",
    "print (y_test)"
   ],
   "metadata": {
    "collapsed": false,
    "ExecuteTime": {
     "end_time": "2023-10-11T23:18:18.235686800Z",
     "start_time": "2023-10-11T23:18:18.141891800Z"
    }
   }
  },
  {
   "cell_type": "code",
   "execution_count": 16,
   "outputs": [
    {
     "name": "stdout",
     "output_type": "stream",
     "text": [
      "[[-0.29741145 -1.32802297 -0.07001311  1.          0.        ]\n",
      " [-0.7064997   0.43902902 -0.26110084  1.          0.        ]\n",
      " [-1.11558794  0.43902902 -0.72422921  1.          0.        ]\n",
      " ...\n",
      " [-0.91104382 -0.44449698 -0.03128483  1.          0.        ]\n",
      " [-1.52467619 -0.44449698  0.09009324  1.          0.        ]\n",
      " [ 1.44121358  1.32255501  1.56811516  1.          0.        ]]\n",
      "[[-0.04007902]\n",
      " [-0.11173052]\n",
      " [-0.19212206]\n",
      " ...\n",
      " [-0.04686793]\n",
      " [ 0.00065644]\n",
      " [-0.00534657]]\n"
     ]
    }
   ],
   "source": [
    "X_val[:,0:3] = sc.transform(X_val[:,0:3])\n",
    "y_val = sc_y.transform(y_val)\n",
    "print (X_val)\n",
    "print (y_val)"
   ],
   "metadata": {
    "collapsed": false,
    "ExecuteTime": {
     "end_time": "2023-10-11T23:18:26.759609Z",
     "start_time": "2023-10-11T23:18:26.648496700Z"
    }
   }
  },
  {
   "cell_type": "code",
   "execution_count": 17,
   "outputs": [
    {
     "name": "stdout",
     "output_type": "stream",
     "text": [
      "X_train 295211\n",
      "X_test 98404\n",
      "X_val 98404\n"
     ]
    }
   ],
   "source": [
    "print (\"X_train\", len(X_train))\n",
    "print (\"X_test\", len(X_test))\n",
    "print (\"X_val\", len(X_val))"
   ],
   "metadata": {
    "collapsed": false,
    "ExecuteTime": {
     "end_time": "2023-10-11T23:18:30.980960600Z",
     "start_time": "2023-10-11T23:18:30.922864Z"
    }
   }
  },
  {
   "cell_type": "markdown",
   "metadata": {
    "colab_type": "text",
    "id": "_mSLlAT9_eyI"
   },
   "source": [
    "## Part 3 - Building the ANN"
   ]
  },
  {
   "cell_type": "markdown",
   "metadata": {
    "colab_type": "text",
    "id": "CsBULd_f_wLY"
   },
   "source": [
    "### Initializing the ANN"
   ]
  },
  {
   "cell_type": "code",
   "execution_count": 18,
   "outputs": [],
   "source": [
    "ann = tf.keras.models.Sequential()"
   ],
   "metadata": {
    "collapsed": false,
    "ExecuteTime": {
     "end_time": "2023-10-11T23:19:06.151725700Z",
     "start_time": "2023-10-11T23:19:06.103991900Z"
    }
   }
  },
  {
   "cell_type": "markdown",
   "metadata": {
    "colab_type": "text",
    "id": "iitAFJS_ABUn"
   },
   "source": [
    "### Adding the input layer and the first hidden layer"
   ]
  },
  {
   "cell_type": "code",
   "execution_count": 19,
   "metadata": {
    "colab": {},
    "colab_type": "code",
    "id": "ksO_Vv40AHix",
    "ExecuteTime": {
     "end_time": "2023-10-11T23:19:08.408824900Z",
     "start_time": "2023-10-11T23:19:08.298182200Z"
    }
   },
   "outputs": [],
   "source": [
    "ann.add(tf.keras.layers.Dense(units=150,\n",
    "                              input_shape=(X_train.shape[1],),\n",
    "                              activation='relu'))"
   ]
  },
  {
   "cell_type": "markdown",
   "metadata": {
    "colab_type": "text",
    "id": "-lb4kK_wAKbs"
   },
   "source": [
    "### Adding the second hidden layer"
   ]
  },
  {
   "cell_type": "code",
   "execution_count": 20,
   "metadata": {
    "colab": {},
    "colab_type": "code",
    "id": "c2357OqEAQOQ",
    "tags": [],
    "ExecuteTime": {
     "end_time": "2023-10-11T23:19:11.099422200Z",
     "start_time": "2023-10-11T23:19:11.020151100Z"
    }
   },
   "outputs": [],
   "source": [
    "ann.add(tf.keras.layers.Dense(units=125,\n",
    "                              activation='relu'))"
   ]
  },
  {
   "cell_type": "markdown",
   "metadata": {
    "colab_type": "text",
    "id": "-lb4kK_wAKbs"
   },
   "source": [
    "### Adding the third hidden layer"
   ]
  },
  {
   "cell_type": "code",
   "execution_count": 21,
   "metadata": {
    "colab": {},
    "colab_type": "code",
    "id": "c2357OqEAQOQ",
    "tags": [],
    "ExecuteTime": {
     "end_time": "2023-10-11T23:19:15.891398600Z",
     "start_time": "2023-10-11T23:19:15.829486500Z"
    }
   },
   "outputs": [],
   "source": [
    "ann.add(tf.keras.layers.Dense(units=100,\n",
    "                              activation='relu'))"
   ]
  },
  {
   "cell_type": "markdown",
   "source": [
    "### Adding the fourth hidden layer"
   ],
   "metadata": {
    "collapsed": false
   }
  },
  {
   "cell_type": "code",
   "execution_count": null,
   "outputs": [],
   "source": [
    "ann.add(tf.keras.layers.Dense(units=75,\n",
    "                              activation='relu'))"
   ],
   "metadata": {
    "collapsed": false
   }
  },
  {
   "cell_type": "markdown",
   "metadata": {
    "colab_type": "text",
    "id": "jwMOmKb3AdBY"
   },
   "source": [
    "### Adding the output layer"
   ]
  },
  {
   "cell_type": "code",
   "execution_count": 22,
   "metadata": {
    "colab": {},
    "colab_type": "code",
    "id": "YFATpzsUAkLL",
    "ExecuteTime": {
     "end_time": "2023-10-11T23:19:23.334258Z",
     "start_time": "2023-10-11T23:19:23.291473900Z"
    }
   },
   "outputs": [],
   "source": [
    "ann.add(tf.keras.layers.Dense(units=1,\n",
    "                              activation='linear'))"
   ]
  },
  {
   "cell_type": "markdown",
   "metadata": {},
   "source": [
    "### what model looks like"
   ]
  },
  {
   "cell_type": "code",
   "execution_count": 23,
   "metadata": {
    "ExecuteTime": {
     "end_time": "2023-10-11T23:19:25.058006200Z",
     "start_time": "2023-10-11T23:19:24.994486200Z"
    }
   },
   "outputs": [
    {
     "name": "stdout",
     "output_type": "stream",
     "text": [
      "Model: \"sequential\"\n",
      "_________________________________________________________________\n",
      " Layer (type)                Output Shape              Param #   \n",
      "=================================================================\n",
      " dense (Dense)               (None, 150)               900       \n",
      "                                                                 \n",
      " dense_1 (Dense)             (None, 125)               18875     \n",
      "                                                                 \n",
      " dense_2 (Dense)             (None, 100)               12600     \n",
      "                                                                 \n",
      " dense_3 (Dense)             (None, 1)                 101       \n",
      "                                                                 \n",
      "=================================================================\n",
      "Total params: 32,476\n",
      "Trainable params: 32,476\n",
      "Non-trainable params: 0\n",
      "_________________________________________________________________\n"
     ]
    }
   ],
   "source": [
    "ann.summary()"
   ]
  },
  {
   "cell_type": "markdown",
   "metadata": {
    "colab_type": "text",
    "id": "fq7e4fF6A1yy"
   },
   "source": [
    "## Part 4 - Training the ANN"
   ]
  },
  {
   "cell_type": "markdown",
   "metadata": {
    "colab_type": "text",
    "id": "qDeylAs2An25"
   },
   "source": [
    "### Compiling the ANN"
   ]
  },
  {
   "cell_type": "code",
   "execution_count": 24,
   "metadata": {
    "colab": {},
    "colab_type": "code",
    "id": "pesgbWlCAtB4",
    "ExecuteTime": {
     "end_time": "2023-10-11T23:19:29.201118300Z",
     "start_time": "2023-10-11T23:19:29.162298600Z"
    }
   },
   "outputs": [],
   "source": [
    "# from tensorflow.keras.optimizers import Adam\n",
    "from keras.optimizers import Adam\n",
    "opt = Adam(learning_rate=0.001)\n",
    "ann.compile(optimizer = opt,\n",
    "            loss = 'mean_squared_error',\n",
    "            metrics = ['mae'])"
   ]
  },
  {
   "cell_type": "markdown",
   "metadata": {},
   "source": [
    "### early stopping callback"
   ]
  },
  {
   "cell_type": "code",
   "execution_count": 25,
   "metadata": {
    "ExecuteTime": {
     "end_time": "2023-10-11T23:19:32.342727Z",
     "start_time": "2023-10-11T23:19:32.294780700Z"
    }
   },
   "outputs": [],
   "source": [
    "# protects from unnecessary further training of the model if a particular metric does not continue to improve over a number of n epochs. In such a case, the model training would be automatically aborted.\n",
    "from keras.callbacks import EarlyStopping\n",
    "es = EarlyStopping(monitor='val_loss',\n",
    "                   mode='min',\n",
    "                   patience=50,\n",
    "                   restore_best_weights = True)"
   ]
  },
  {
   "cell_type": "markdown",
   "metadata": {
    "colab_type": "text",
    "id": "YjVuiybYOo7r"
   },
   "source": [
    "### Training the ANN model on the Training set"
   ]
  },
  {
   "cell_type": "code",
   "execution_count": 26,
   "metadata": {
    "colab": {
     "base_uri": "https://localhost:8080/",
     "height": 1000
    },
    "colab_type": "code",
    "id": "c_vV-tiiA5zn",
    "outputId": "4a2b6ee6-ed75-4698-9069-b250e613803f",
    "ExecuteTime": {
     "end_time": "2023-10-12T03:05:57.127641700Z",
     "start_time": "2023-10-11T23:19:37.192052200Z"
    }
   },
   "outputs": [
    {
     "name": "stdout",
     "output_type": "stream",
     "text": [
      "Epoch 1/500\n",
      "29522/29522 [==============================] - 79s 3ms/step - loss: 0.7774 - mae: 0.1147 - val_loss: 0.7934 - val_mae: 0.0896\n",
      "Epoch 2/500\n",
      "29522/29522 [==============================] - 77s 3ms/step - loss: 0.6889 - mae: 0.1010 - val_loss: 0.7119 - val_mae: 0.0931\n",
      "Epoch 3/500\n",
      "29522/29522 [==============================] - 78s 3ms/step - loss: 0.6824 - mae: 0.0964 - val_loss: 0.7056 - val_mae: 0.1149\n",
      "Epoch 4/500\n",
      "29522/29522 [==============================] - 78s 3ms/step - loss: 0.6783 - mae: 0.0943 - val_loss: 0.7732 - val_mae: 0.0851\n",
      "Epoch 5/500\n",
      "29522/29522 [==============================] - 78s 3ms/step - loss: 0.6787 - mae: 0.0911 - val_loss: 0.6808 - val_mae: 0.0791\n",
      "Epoch 6/500\n",
      "29522/29522 [==============================] - 77s 3ms/step - loss: 0.6358 - mae: 0.0813 - val_loss: 0.7068 - val_mae: 0.0643\n",
      "Epoch 7/500\n",
      "29522/29522 [==============================] - 77s 3ms/step - loss: 0.6394 - mae: 0.0768 - val_loss: 0.6837 - val_mae: 0.0694\n",
      "Epoch 8/500\n",
      "29522/29522 [==============================] - 77s 3ms/step - loss: 0.6518 - mae: 0.0762 - val_loss: 0.6788 - val_mae: 0.0776\n",
      "Epoch 9/500\n",
      "29522/29522 [==============================] - 77s 3ms/step - loss: 0.6306 - mae: 0.0746 - val_loss: 0.6818 - val_mae: 0.0665\n",
      "Epoch 10/500\n",
      "29522/29522 [==============================] - 77s 3ms/step - loss: 0.6211 - mae: 0.0776 - val_loss: 0.7288 - val_mae: 0.0913\n",
      "Epoch 11/500\n",
      "29522/29522 [==============================] - 77s 3ms/step - loss: 0.6169 - mae: 0.0754 - val_loss: 0.8633 - val_mae: 0.0794\n",
      "Epoch 12/500\n",
      "29522/29522 [==============================] - 77s 3ms/step - loss: 0.6325 - mae: 0.0755 - val_loss: 0.6782 - val_mae: 0.0766\n",
      "Epoch 13/500\n",
      "29522/29522 [==============================] - 77s 3ms/step - loss: 0.6397 - mae: 0.0798 - val_loss: 0.6674 - val_mae: 0.0838\n",
      "Epoch 14/500\n",
      "29522/29522 [==============================] - 77s 3ms/step - loss: 0.6440 - mae: 0.0856 - val_loss: 0.7132 - val_mae: 0.0810\n",
      "Epoch 15/500\n",
      "29522/29522 [==============================] - 77s 3ms/step - loss: 0.6292 - mae: 0.0862 - val_loss: 0.6873 - val_mae: 0.0796\n",
      "Epoch 16/500\n",
      "29522/29522 [==============================] - 77s 3ms/step - loss: 0.6255 - mae: 0.0846 - val_loss: 0.6909 - val_mae: 0.0778\n",
      "Epoch 17/500\n",
      "29522/29522 [==============================] - 77s 3ms/step - loss: 0.6396 - mae: 0.0861 - val_loss: 0.7534 - val_mae: 0.0762\n",
      "Epoch 18/500\n",
      "29522/29522 [==============================] - 77s 3ms/step - loss: 0.6423 - mae: 0.0827 - val_loss: 0.7021 - val_mae: 0.0910\n",
      "Epoch 19/500\n",
      "29522/29522 [==============================] - 77s 3ms/step - loss: 0.6309 - mae: 0.0804 - val_loss: 0.6985 - val_mae: 0.0730\n",
      "Epoch 20/500\n",
      "29522/29522 [==============================] - 78s 3ms/step - loss: 0.6103 - mae: 0.0784 - val_loss: 0.6548 - val_mae: 0.0632\n",
      "Epoch 21/500\n",
      "29522/29522 [==============================] - 77s 3ms/step - loss: 0.6139 - mae: 0.0783 - val_loss: 0.6868 - val_mae: 0.0760\n",
      "Epoch 22/500\n",
      "29522/29522 [==============================] - 77s 3ms/step - loss: 0.6182 - mae: 0.0782 - val_loss: 0.6783 - val_mae: 0.0686\n",
      "Epoch 23/500\n",
      "29522/29522 [==============================] - 77s 3ms/step - loss: 0.6106 - mae: 0.0770 - val_loss: 0.6612 - val_mae: 0.0832\n",
      "Epoch 24/500\n",
      "29522/29522 [==============================] - 77s 3ms/step - loss: 0.5950 - mae: 0.0781 - val_loss: 0.6763 - val_mae: 0.0685\n",
      "Epoch 25/500\n",
      "29522/29522 [==============================] - 77s 3ms/step - loss: 0.6040 - mae: 0.0756 - val_loss: 0.7250 - val_mae: 0.1000\n",
      "Epoch 26/500\n",
      "29522/29522 [==============================] - 77s 3ms/step - loss: 0.6096 - mae: 0.0751 - val_loss: 0.6769 - val_mae: 0.0677\n",
      "Epoch 27/500\n",
      "29522/29522 [==============================] - 77s 3ms/step - loss: 0.6063 - mae: 0.0766 - val_loss: 0.6587 - val_mae: 0.0701\n",
      "Epoch 28/500\n",
      "29522/29522 [==============================] - 77s 3ms/step - loss: 0.6013 - mae: 0.0773 - val_loss: 0.7115 - val_mae: 0.0846\n",
      "Epoch 29/500\n",
      "29522/29522 [==============================] - 77s 3ms/step - loss: 0.5972 - mae: 0.0760 - val_loss: 0.6682 - val_mae: 0.0638\n",
      "Epoch 30/500\n",
      "29522/29522 [==============================] - 77s 3ms/step - loss: 0.5998 - mae: 0.0765 - val_loss: 0.7057 - val_mae: 0.0769\n",
      "Epoch 31/500\n",
      "29522/29522 [==============================] - 77s 3ms/step - loss: 0.5990 - mae: 0.0768 - val_loss: 0.6754 - val_mae: 0.0947\n",
      "Epoch 32/500\n",
      "29522/29522 [==============================] - 77s 3ms/step - loss: 0.5929 - mae: 0.0771 - val_loss: 0.6414 - val_mae: 0.0677\n",
      "Epoch 33/500\n",
      "29522/29522 [==============================] - 77s 3ms/step - loss: 0.5860 - mae: 0.0775 - val_loss: 0.6619 - val_mae: 0.0761\n",
      "Epoch 34/500\n",
      "29522/29522 [==============================] - 78s 3ms/step - loss: 0.5837 - mae: 0.0745 - val_loss: 0.6320 - val_mae: 0.1109\n",
      "Epoch 35/500\n",
      "29522/29522 [==============================] - 77s 3ms/step - loss: 0.5868 - mae: 0.0729 - val_loss: 0.6912 - val_mae: 0.0762\n",
      "Epoch 36/500\n",
      "29522/29522 [==============================] - 77s 3ms/step - loss: 0.5871 - mae: 0.0747 - val_loss: 0.6498 - val_mae: 0.0719\n",
      "Epoch 37/500\n",
      "29522/29522 [==============================] - 77s 3ms/step - loss: 0.5895 - mae: 0.0735 - val_loss: 0.6513 - val_mae: 0.0642\n",
      "Epoch 38/500\n",
      "29522/29522 [==============================] - 77s 3ms/step - loss: 0.5779 - mae: 0.0696 - val_loss: 0.6671 - val_mae: 0.0760\n",
      "Epoch 39/500\n",
      "29522/29522 [==============================] - 77s 3ms/step - loss: 0.5801 - mae: 0.0700 - val_loss: 0.6811 - val_mae: 0.0715\n",
      "Epoch 40/500\n",
      "29522/29522 [==============================] - 77s 3ms/step - loss: 0.5792 - mae: 0.0688 - val_loss: 0.6695 - val_mae: 0.0613\n",
      "Epoch 41/500\n",
      "29522/29522 [==============================] - 78s 3ms/step - loss: 0.5738 - mae: 0.0665 - val_loss: 0.6595 - val_mae: 0.0732\n",
      "Epoch 42/500\n",
      "29522/29522 [==============================] - 78s 3ms/step - loss: 0.5812 - mae: 0.0676 - val_loss: 0.7005 - val_mae: 0.0654\n",
      "Epoch 43/500\n",
      "29522/29522 [==============================] - 78s 3ms/step - loss: 0.5824 - mae: 0.0671 - val_loss: 0.6974 - val_mae: 0.0746\n",
      "Epoch 44/500\n",
      "29522/29522 [==============================] - 78s 3ms/step - loss: 0.5893 - mae: 0.0659 - val_loss: 0.6439 - val_mae: 0.0568\n",
      "Epoch 45/500\n",
      "29522/29522 [==============================] - 77s 3ms/step - loss: 0.5870 - mae: 0.0662 - val_loss: 0.7215 - val_mae: 0.0896\n",
      "Epoch 46/500\n",
      "29522/29522 [==============================] - 77s 3ms/step - loss: 0.5842 - mae: 0.0678 - val_loss: 0.6413 - val_mae: 0.0571\n",
      "Epoch 47/500\n",
      "29522/29522 [==============================] - 77s 3ms/step - loss: 0.5889 - mae: 0.0674 - val_loss: 0.6574 - val_mae: 0.0639\n",
      "Epoch 48/500\n",
      "29522/29522 [==============================] - 77s 3ms/step - loss: 0.5749 - mae: 0.0665 - val_loss: 0.7248 - val_mae: 0.0569\n",
      "Epoch 49/500\n",
      "29522/29522 [==============================] - 77s 3ms/step - loss: 0.5883 - mae: 0.0694 - val_loss: 0.7300 - val_mae: 0.0621\n",
      "Epoch 50/500\n",
      "29522/29522 [==============================] - 77s 3ms/step - loss: 0.5850 - mae: 0.0675 - val_loss: 0.6377 - val_mae: 0.0705\n",
      "Epoch 51/500\n",
      "29522/29522 [==============================] - 81s 3ms/step - loss: 0.5969 - mae: 0.0697 - val_loss: 0.6696 - val_mae: 0.0727\n",
      "Epoch 52/500\n",
      "29522/29522 [==============================] - 77s 3ms/step - loss: 0.5850 - mae: 0.0697 - val_loss: 0.6730 - val_mae: 0.0886\n",
      "Epoch 53/500\n",
      "29522/29522 [==============================] - 78s 3ms/step - loss: 0.5701 - mae: 0.0673 - val_loss: 0.6441 - val_mae: 0.0655\n",
      "Epoch 54/500\n",
      "29522/29522 [==============================] - 77s 3ms/step - loss: 0.5805 - mae: 0.0648 - val_loss: 0.7102 - val_mae: 0.0966\n",
      "Epoch 55/500\n",
      "29522/29522 [==============================] - 77s 3ms/step - loss: 0.5678 - mae: 0.0648 - val_loss: 0.6461 - val_mae: 0.0591\n",
      "Epoch 56/500\n",
      "29522/29522 [==============================] - 77s 3ms/step - loss: 0.5672 - mae: 0.0643 - val_loss: 0.6309 - val_mae: 0.1117\n",
      "Epoch 57/500\n",
      "29522/29522 [==============================] - 77s 3ms/step - loss: 0.5717 - mae: 0.0651 - val_loss: 0.6309 - val_mae: 0.0635\n",
      "Epoch 58/500\n",
      "29522/29522 [==============================] - 77s 3ms/step - loss: 0.5950 - mae: 0.0670 - val_loss: 0.6368 - val_mae: 0.0580\n",
      "Epoch 59/500\n",
      "29522/29522 [==============================] - 77s 3ms/step - loss: 0.5853 - mae: 0.0655 - val_loss: 0.6595 - val_mae: 0.0552\n",
      "Epoch 60/500\n",
      "29522/29522 [==============================] - 77s 3ms/step - loss: 0.5767 - mae: 0.0645 - val_loss: 0.7003 - val_mae: 0.0932\n",
      "Epoch 61/500\n",
      "29522/29522 [==============================] - 77s 3ms/step - loss: 0.5801 - mae: 0.0651 - val_loss: 0.6296 - val_mae: 0.0762\n",
      "Epoch 62/500\n",
      "29522/29522 [==============================] - 77s 3ms/step - loss: 0.5710 - mae: 0.0635 - val_loss: 0.6197 - val_mae: 0.0541\n",
      "Epoch 63/500\n",
      "29522/29522 [==============================] - 77s 3ms/step - loss: 0.5744 - mae: 0.0633 - val_loss: 0.6404 - val_mae: 0.0611\n",
      "Epoch 64/500\n",
      "29522/29522 [==============================] - 77s 3ms/step - loss: 0.5643 - mae: 0.0623 - val_loss: 0.6416 - val_mae: 0.0522\n",
      "Epoch 65/500\n",
      "29522/29522 [==============================] - 77s 3ms/step - loss: 0.5729 - mae: 0.0628 - val_loss: 0.6408 - val_mae: 0.0501\n",
      "Epoch 66/500\n",
      "29522/29522 [==============================] - 77s 3ms/step - loss: 0.5683 - mae: 0.0613 - val_loss: 0.6422 - val_mae: 0.0737\n",
      "Epoch 67/500\n",
      "29522/29522 [==============================] - 77s 3ms/step - loss: 0.5726 - mae: 0.0648 - val_loss: 0.6414 - val_mae: 0.0816\n",
      "Epoch 68/500\n",
      "29522/29522 [==============================] - 77s 3ms/step - loss: 0.5757 - mae: 0.0654 - val_loss: 0.7119 - val_mae: 0.0608\n",
      "Epoch 69/500\n",
      "29522/29522 [==============================] - 77s 3ms/step - loss: 0.5772 - mae: 0.0653 - val_loss: 0.6136 - val_mae: 0.0545\n",
      "Epoch 70/500\n",
      "29522/29522 [==============================] - 77s 3ms/step - loss: 0.5687 - mae: 0.0637 - val_loss: 0.6206 - val_mae: 0.0667\n",
      "Epoch 71/500\n",
      "29522/29522 [==============================] - 77s 3ms/step - loss: 0.5691 - mae: 0.0631 - val_loss: 0.6322 - val_mae: 0.0570\n",
      "Epoch 72/500\n",
      "29522/29522 [==============================] - 77s 3ms/step - loss: 0.5727 - mae: 0.0641 - val_loss: 0.6320 - val_mae: 0.0725\n",
      "Epoch 73/500\n",
      "29522/29522 [==============================] - 78s 3ms/step - loss: 0.5744 - mae: 0.0636 - val_loss: 0.6306 - val_mae: 0.0720\n",
      "Epoch 74/500\n",
      "29522/29522 [==============================] - 78s 3ms/step - loss: 0.5794 - mae: 0.0631 - val_loss: 0.6300 - val_mae: 0.0616\n",
      "Epoch 75/500\n",
      "29522/29522 [==============================] - 77s 3ms/step - loss: 0.5754 - mae: 0.0640 - val_loss: 0.6854 - val_mae: 0.0559\n",
      "Epoch 76/500\n",
      "29522/29522 [==============================] - 78s 3ms/step - loss: 0.5673 - mae: 0.0630 - val_loss: 0.7100 - val_mae: 0.0492\n",
      "Epoch 77/500\n",
      "29522/29522 [==============================] - 77s 3ms/step - loss: 0.5722 - mae: 0.0632 - val_loss: 0.6495 - val_mae: 0.0569\n",
      "Epoch 78/500\n",
      "29522/29522 [==============================] - 77s 3ms/step - loss: 0.5763 - mae: 0.0644 - val_loss: 0.6648 - val_mae: 0.1001\n",
      "Epoch 79/500\n",
      "29522/29522 [==============================] - 77s 3ms/step - loss: 0.5676 - mae: 0.0631 - val_loss: 0.6227 - val_mae: 0.0707\n",
      "Epoch 80/500\n",
      "29522/29522 [==============================] - 77s 3ms/step - loss: 0.5745 - mae: 0.0633 - val_loss: 0.6608 - val_mae: 0.0601\n",
      "Epoch 81/500\n",
      "29522/29522 [==============================] - 77s 3ms/step - loss: 0.5708 - mae: 0.0629 - val_loss: 0.6664 - val_mae: 0.0641\n",
      "Epoch 82/500\n",
      "29522/29522 [==============================] - 77s 3ms/step - loss: 0.5694 - mae: 0.0632 - val_loss: 0.6643 - val_mae: 0.0581\n",
      "Epoch 83/500\n",
      "29522/29522 [==============================] - 77s 3ms/step - loss: 0.5802 - mae: 0.0628 - val_loss: 0.6868 - val_mae: 0.0478\n",
      "Epoch 84/500\n",
      "29522/29522 [==============================] - 77s 3ms/step - loss: 0.5728 - mae: 0.0631 - val_loss: 0.6216 - val_mae: 0.0535\n",
      "Epoch 85/500\n",
      "29522/29522 [==============================] - 77s 3ms/step - loss: 0.5711 - mae: 0.0629 - val_loss: 0.6371 - val_mae: 0.0558\n",
      "Epoch 86/500\n",
      "29522/29522 [==============================] - 77s 3ms/step - loss: 0.5736 - mae: 0.0621 - val_loss: 0.6770 - val_mae: 0.0510\n",
      "Epoch 87/500\n",
      "29522/29522 [==============================] - 77s 3ms/step - loss: 0.5771 - mae: 0.0629 - val_loss: 0.6253 - val_mae: 0.0648\n",
      "Epoch 88/500\n",
      "29522/29522 [==============================] - 77s 3ms/step - loss: 0.5711 - mae: 0.0620 - val_loss: 0.6575 - val_mae: 0.0575\n",
      "Epoch 89/500\n",
      "29522/29522 [==============================] - 77s 3ms/step - loss: 0.5688 - mae: 0.0627 - val_loss: 0.6426 - val_mae: 0.0942\n",
      "Epoch 90/500\n",
      "29522/29522 [==============================] - 78s 3ms/step - loss: 0.5734 - mae: 0.0629 - val_loss: 0.6196 - val_mae: 0.0580\n",
      "Epoch 91/500\n",
      "29522/29522 [==============================] - 78s 3ms/step - loss: 0.5679 - mae: 0.0621 - val_loss: 0.6324 - val_mae: 0.0708\n",
      "Epoch 92/500\n",
      "29522/29522 [==============================] - 77s 3ms/step - loss: 0.5708 - mae: 0.0620 - val_loss: 0.6444 - val_mae: 0.0544\n",
      "Epoch 93/500\n",
      "29522/29522 [==============================] - 78s 3ms/step - loss: 0.5778 - mae: 0.0618 - val_loss: 0.6134 - val_mae: 0.0541\n",
      "Epoch 94/500\n",
      "29522/29522 [==============================] - 77s 3ms/step - loss: 0.5762 - mae: 0.0635 - val_loss: 0.6621 - val_mae: 0.0765\n",
      "Epoch 95/500\n",
      "29522/29522 [==============================] - 78s 3ms/step - loss: 0.5713 - mae: 0.0631 - val_loss: 0.6531 - val_mae: 0.0803\n",
      "Epoch 96/500\n",
      "29522/29522 [==============================] - 78s 3ms/step - loss: 0.5689 - mae: 0.0638 - val_loss: 0.6745 - val_mae: 0.0877\n",
      "Epoch 97/500\n",
      "29522/29522 [==============================] - 78s 3ms/step - loss: 0.5736 - mae: 0.0632 - val_loss: 0.6200 - val_mae: 0.0620\n",
      "Epoch 98/500\n",
      "29522/29522 [==============================] - 79s 3ms/step - loss: 0.5717 - mae: 0.0634 - val_loss: 0.6183 - val_mae: 0.0650\n",
      "Epoch 99/500\n",
      "29522/29522 [==============================] - 79s 3ms/step - loss: 0.5633 - mae: 0.0646 - val_loss: 0.6308 - val_mae: 0.0665\n",
      "Epoch 100/500\n",
      "29522/29522 [==============================] - 78s 3ms/step - loss: 0.5799 - mae: 0.0627 - val_loss: 0.6236 - val_mae: 0.0500\n",
      "Epoch 101/500\n",
      "29522/29522 [==============================] - 78s 3ms/step - loss: 0.5683 - mae: 0.0628 - val_loss: 0.6493 - val_mae: 0.0740\n",
      "Epoch 102/500\n",
      "29522/29522 [==============================] - 77s 3ms/step - loss: 0.5744 - mae: 0.0627 - val_loss: 0.6299 - val_mae: 0.0524\n",
      "Epoch 103/500\n",
      "29522/29522 [==============================] - 78s 3ms/step - loss: 0.5706 - mae: 0.0625 - val_loss: 0.6384 - val_mae: 0.0593\n",
      "Epoch 104/500\n",
      "29522/29522 [==============================] - 78s 3ms/step - loss: 0.5648 - mae: 0.0612 - val_loss: 0.6673 - val_mae: 0.0552\n",
      "Epoch 105/500\n",
      "29522/29522 [==============================] - 78s 3ms/step - loss: 0.5747 - mae: 0.0626 - val_loss: 0.6356 - val_mae: 0.0530\n",
      "Epoch 106/500\n",
      "29522/29522 [==============================] - 78s 3ms/step - loss: 0.5827 - mae: 0.0633 - val_loss: 0.6347 - val_mae: 0.0993\n",
      "Epoch 107/500\n",
      "29522/29522 [==============================] - 78s 3ms/step - loss: 0.5812 - mae: 0.0626 - val_loss: 0.6487 - val_mae: 0.0685\n",
      "Epoch 108/500\n",
      "29522/29522 [==============================] - 78s 3ms/step - loss: 0.5745 - mae: 0.0631 - val_loss: 0.6243 - val_mae: 0.1012\n",
      "Epoch 109/500\n",
      "29522/29522 [==============================] - 78s 3ms/step - loss: 0.5601 - mae: 0.0620 - val_loss: 0.6702 - val_mae: 0.0499\n",
      "Epoch 110/500\n",
      "29522/29522 [==============================] - 78s 3ms/step - loss: 0.5660 - mae: 0.0618 - val_loss: 0.6704 - val_mae: 0.0478\n",
      "Epoch 111/500\n",
      "29522/29522 [==============================] - 78s 3ms/step - loss: 0.5705 - mae: 0.0627 - val_loss: 0.6160 - val_mae: 0.0662\n",
      "Epoch 112/500\n",
      "29522/29522 [==============================] - 78s 3ms/step - loss: 0.5740 - mae: 0.0627 - val_loss: 0.6403 - val_mae: 0.0727\n",
      "Epoch 113/500\n",
      "29522/29522 [==============================] - 78s 3ms/step - loss: 0.5680 - mae: 0.0647 - val_loss: 0.6263 - val_mae: 0.0557\n",
      "Epoch 114/500\n",
      "29522/29522 [==============================] - 79s 3ms/step - loss: 0.5653 - mae: 0.0617 - val_loss: 0.6213 - val_mae: 0.0560\n",
      "Epoch 115/500\n",
      "29522/29522 [==============================] - 78s 3ms/step - loss: 0.5824 - mae: 0.0627 - val_loss: 0.6513 - val_mae: 0.0786\n",
      "Epoch 116/500\n",
      "29522/29522 [==============================] - 77s 3ms/step - loss: 0.5696 - mae: 0.0617 - val_loss: 0.6453 - val_mae: 0.0644\n",
      "Epoch 117/500\n",
      "29522/29522 [==============================] - 78s 3ms/step - loss: 0.5566 - mae: 0.0612 - val_loss: 0.6255 - val_mae: 0.0629\n",
      "Epoch 118/500\n",
      "29522/29522 [==============================] - 77s 3ms/step - loss: 0.5640 - mae: 0.0613 - val_loss: 0.6515 - val_mae: 0.0607\n",
      "Epoch 119/500\n",
      "29522/29522 [==============================] - 78s 3ms/step - loss: 0.5652 - mae: 0.0616 - val_loss: 0.6179 - val_mae: 0.0576\n",
      "Epoch 120/500\n",
      "29522/29522 [==============================] - 78s 3ms/step - loss: 0.5637 - mae: 0.0610 - val_loss: 0.6158 - val_mae: 0.0488\n",
      "Epoch 121/500\n",
      "29522/29522 [==============================] - 77s 3ms/step - loss: 0.5626 - mae: 0.0613 - val_loss: 0.6723 - val_mae: 0.0709\n",
      "Epoch 122/500\n",
      "29522/29522 [==============================] - 78s 3ms/step - loss: 0.5701 - mae: 0.0597 - val_loss: 0.6270 - val_mae: 0.0508\n",
      "Epoch 123/500\n",
      "29522/29522 [==============================] - 78s 3ms/step - loss: 0.5765 - mae: 0.0613 - val_loss: 0.6084 - val_mae: 0.0570\n",
      "Epoch 124/500\n",
      "29522/29522 [==============================] - 78s 3ms/step - loss: 0.5652 - mae: 0.0618 - val_loss: 0.6269 - val_mae: 0.0570\n",
      "Epoch 125/500\n",
      "29522/29522 [==============================] - 77s 3ms/step - loss: 0.5702 - mae: 0.0619 - val_loss: 0.6329 - val_mae: 0.0628\n",
      "Epoch 126/500\n",
      "29522/29522 [==============================] - 77s 3ms/step - loss: 0.5664 - mae: 0.0607 - val_loss: 0.6141 - val_mae: 0.0542\n",
      "Epoch 127/500\n",
      "29522/29522 [==============================] - 78s 3ms/step - loss: 0.5642 - mae: 0.0612 - val_loss: 0.6795 - val_mae: 0.0553\n",
      "Epoch 128/500\n",
      "29522/29522 [==============================] - 78s 3ms/step - loss: 0.5847 - mae: 0.0635 - val_loss: 0.6183 - val_mae: 0.0536\n",
      "Epoch 129/500\n",
      "29522/29522 [==============================] - 78s 3ms/step - loss: 0.5732 - mae: 0.0621 - val_loss: 0.6446 - val_mae: 0.0583\n",
      "Epoch 130/500\n",
      "29522/29522 [==============================] - 78s 3ms/step - loss: 0.5647 - mae: 0.0621 - val_loss: 0.6297 - val_mae: 0.0539\n",
      "Epoch 131/500\n",
      "29522/29522 [==============================] - 79s 3ms/step - loss: 0.5709 - mae: 0.0626 - val_loss: 0.6418 - val_mae: 0.1154\n",
      "Epoch 132/500\n",
      "29522/29522 [==============================] - 79s 3ms/step - loss: 0.5662 - mae: 0.0638 - val_loss: 0.6259 - val_mae: 0.0589\n",
      "Epoch 133/500\n",
      "29522/29522 [==============================] - 78s 3ms/step - loss: 0.5717 - mae: 0.0635 - val_loss: 0.6146 - val_mae: 0.0705\n",
      "Epoch 134/500\n",
      "29522/29522 [==============================] - 78s 3ms/step - loss: 0.5713 - mae: 0.0632 - val_loss: 0.6300 - val_mae: 0.0611\n",
      "Epoch 135/500\n",
      "29522/29522 [==============================] - 78s 3ms/step - loss: 0.5791 - mae: 0.0638 - val_loss: 0.6302 - val_mae: 0.0954\n",
      "Epoch 136/500\n",
      "29522/29522 [==============================] - 79s 3ms/step - loss: 0.5750 - mae: 0.0660 - val_loss: 0.6278 - val_mae: 0.0617\n",
      "Epoch 137/500\n",
      "29522/29522 [==============================] - 78s 3ms/step - loss: 0.5709 - mae: 0.0651 - val_loss: 0.6420 - val_mae: 0.0526\n",
      "Epoch 138/500\n",
      "29522/29522 [==============================] - 78s 3ms/step - loss: 0.5779 - mae: 0.0627 - val_loss: 0.6485 - val_mae: 0.0534\n",
      "Epoch 139/500\n",
      "29522/29522 [==============================] - 78s 3ms/step - loss: 0.5734 - mae: 0.0638 - val_loss: 0.6114 - val_mae: 0.0512\n",
      "Epoch 140/500\n",
      "29522/29522 [==============================] - 78s 3ms/step - loss: 0.5710 - mae: 0.0638 - val_loss: 0.6430 - val_mae: 0.0625\n",
      "Epoch 141/500\n",
      "29522/29522 [==============================] - 78s 3ms/step - loss: 0.5793 - mae: 0.0633 - val_loss: 0.6179 - val_mae: 0.0592\n",
      "Epoch 142/500\n",
      "29522/29522 [==============================] - 78s 3ms/step - loss: 0.5724 - mae: 0.0634 - val_loss: 0.7298 - val_mae: 0.0546\n",
      "Epoch 143/500\n",
      "29522/29522 [==============================] - 78s 3ms/step - loss: 0.5858 - mae: 0.0644 - val_loss: 0.6560 - val_mae: 0.0848\n",
      "Epoch 144/500\n",
      "29522/29522 [==============================] - 79s 3ms/step - loss: 0.5694 - mae: 0.0629 - val_loss: 0.6168 - val_mae: 0.0566\n",
      "Epoch 145/500\n",
      "29522/29522 [==============================] - 78s 3ms/step - loss: 0.5644 - mae: 0.0623 - val_loss: 0.6124 - val_mae: 0.0543\n",
      "Epoch 146/500\n",
      "29522/29522 [==============================] - 78s 3ms/step - loss: 0.5608 - mae: 0.0612 - val_loss: 0.6168 - val_mae: 0.0486\n",
      "Epoch 147/500\n",
      "29522/29522 [==============================] - 78s 3ms/step - loss: 0.5698 - mae: 0.0621 - val_loss: 0.6225 - val_mae: 0.0531\n",
      "Epoch 148/500\n",
      "29522/29522 [==============================] - 78s 3ms/step - loss: 0.5680 - mae: 0.0626 - val_loss: 0.6225 - val_mae: 0.0654\n",
      "Epoch 149/500\n",
      "29522/29522 [==============================] - 78s 3ms/step - loss: 0.5737 - mae: 0.0629 - val_loss: 0.6463 - val_mae: 0.0537\n",
      "Epoch 150/500\n",
      "29522/29522 [==============================] - 78s 3ms/step - loss: 0.5763 - mae: 0.0633 - val_loss: 0.6772 - val_mae: 0.0860\n",
      "Epoch 151/500\n",
      "29522/29522 [==============================] - 78s 3ms/step - loss: 0.5718 - mae: 0.0626 - val_loss: 0.6328 - val_mae: 0.0548\n",
      "Epoch 152/500\n",
      "29522/29522 [==============================] - 78s 3ms/step - loss: 0.5691 - mae: 0.0625 - val_loss: 0.6888 - val_mae: 0.0527\n",
      "Epoch 153/500\n",
      "29522/29522 [==============================] - 78s 3ms/step - loss: 0.5669 - mae: 0.0626 - val_loss: 0.6280 - val_mae: 0.0633\n",
      "Epoch 154/500\n",
      "29522/29522 [==============================] - 78s 3ms/step - loss: 0.5704 - mae: 0.0624 - val_loss: 0.6292 - val_mae: 0.0609\n",
      "Epoch 155/500\n",
      "29522/29522 [==============================] - 78s 3ms/step - loss: 0.5614 - mae: 0.0614 - val_loss: 0.6375 - val_mae: 0.0799\n",
      "Epoch 156/500\n",
      "29522/29522 [==============================] - 78s 3ms/step - loss: 0.5693 - mae: 0.0605 - val_loss: 0.6390 - val_mae: 0.0657\n",
      "Epoch 157/500\n",
      "29522/29522 [==============================] - 78s 3ms/step - loss: 0.5665 - mae: 0.0612 - val_loss: 0.6311 - val_mae: 0.0531\n",
      "Epoch 158/500\n",
      "29522/29522 [==============================] - 78s 3ms/step - loss: 0.5579 - mae: 0.0624 - val_loss: 0.6716 - val_mae: 0.0735\n",
      "Epoch 159/500\n",
      "29522/29522 [==============================] - 78s 3ms/step - loss: 0.5701 - mae: 0.0613 - val_loss: 0.6252 - val_mae: 0.0696\n",
      "Epoch 160/500\n",
      "29522/29522 [==============================] - 81s 3ms/step - loss: 0.5625 - mae: 0.0614 - val_loss: 0.6320 - val_mae: 0.0601\n",
      "Epoch 161/500\n",
      "29522/29522 [==============================] - 79s 3ms/step - loss: 0.5617 - mae: 0.0606 - val_loss: 0.6786 - val_mae: 0.0592\n",
      "Epoch 162/500\n",
      "29522/29522 [==============================] - 79s 3ms/step - loss: 0.5660 - mae: 0.0604 - val_loss: 0.6291 - val_mae: 0.0527\n",
      "Epoch 163/500\n",
      "29522/29522 [==============================] - 80s 3ms/step - loss: 0.5683 - mae: 0.0612 - val_loss: 0.6163 - val_mae: 0.0622\n",
      "Epoch 164/500\n",
      "29522/29522 [==============================] - 80s 3ms/step - loss: 0.5641 - mae: 0.0607 - val_loss: 0.6309 - val_mae: 0.0633\n",
      "Epoch 165/500\n",
      "29522/29522 [==============================] - 80s 3ms/step - loss: 0.5677 - mae: 0.0608 - val_loss: 0.8521 - val_mae: 0.0571\n",
      "Epoch 166/500\n",
      "29522/29522 [==============================] - 80s 3ms/step - loss: 0.5631 - mae: 0.0602 - val_loss: 0.6248 - val_mae: 0.0545\n",
      "Epoch 167/500\n",
      "29522/29522 [==============================] - 80s 3ms/step - loss: 0.5564 - mae: 0.0607 - val_loss: 0.6323 - val_mae: 0.0519\n",
      "Epoch 168/500\n",
      "29522/29522 [==============================] - 80s 3ms/step - loss: 0.5758 - mae: 0.0614 - val_loss: 0.6149 - val_mae: 0.0586\n",
      "Epoch 169/500\n",
      "29522/29522 [==============================] - 96s 3ms/step - loss: 0.5790 - mae: 0.0618 - val_loss: 0.6565 - val_mae: 0.0764\n",
      "Epoch 170/500\n",
      "29522/29522 [==============================] - 106s 4ms/step - loss: 0.5696 - mae: 0.0621 - val_loss: 0.6258 - val_mae: 0.0552\n",
      "Epoch 171/500\n",
      "29522/29522 [==============================] - 109s 4ms/step - loss: 0.5727 - mae: 0.0607 - val_loss: 0.6926 - val_mae: 0.0485\n",
      "Epoch 172/500\n",
      "29522/29522 [==============================] - 107s 4ms/step - loss: 0.5734 - mae: 0.0622 - val_loss: 0.6302 - val_mae: 0.0569\n",
      "Epoch 173/500\n",
      "29522/29522 [==============================] - 106s 4ms/step - loss: 0.5631 - mae: 0.0613 - val_loss: 0.6307 - val_mae: 0.0611\n"
     ]
    }
   ],
   "source": [
    "history = ann.fit(X_train, y_train,\n",
    "                    validation_data = (X_val, y_val),\n",
    "                    callbacks=[es],\n",
    "                    epochs=500,\n",
    "                    batch_size=10,\n",
    "                    verbose=1)"
   ]
  },
  {
   "cell_type": "markdown",
   "metadata": {
    "colab_type": "text",
    "id": "0H0zKKNEBLD5"
   },
   "source": [
    "### Analyse learn history"
   ]
  },
  {
   "cell_type": "code",
   "execution_count": 27,
   "metadata": {
    "ExecuteTime": {
     "end_time": "2023-10-12T04:50:58.225935100Z",
     "start_time": "2023-10-12T04:50:57.647169800Z"
    }
   },
   "outputs": [
    {
     "data": {
      "text/plain": "<Figure size 640x480 with 1 Axes>",
      "image/png": "[encoded data removed]"
     },
     "metadata": {},
     "output_type": "display_data"
    }
   ],
   "source": [
    "# let's see the training and validation accuracy by epoch\n",
    "history_dict = history.history\n",
    "loss_values = history_dict['loss'] # you can change this\n",
    "val_loss_values = history_dict['val_loss'] # you can also change this\n",
    "epochs = range(1, len(loss_values) + 1) # range of X (no. of epochs)\n",
    "plt.plot(epochs, loss_values, 'blue', label='Train set loss')\n",
    "plt.plot(epochs, val_loss_values, 'orange', label='Validation set loss')\n",
    "#plt.title('Training and testing loss')\n",
    "plt.xlabel('Epochs')\n",
    "plt.ylabel('Loss (MSE)')\n",
    "plt.legend()\n",
    "plt.show()"
   ]
  },
  {
   "cell_type": "code",
   "execution_count": 28,
   "metadata": {
    "ExecuteTime": {
     "end_time": "2023-10-12T04:51:02.923149800Z",
     "start_time": "2023-10-12T04:51:02.454498800Z"
    }
   },
   "outputs": [
    {
     "data": {
      "text/plain": "<Figure size 640x480 with 1 Axes>",
      "image/png": "[encoded data removed]"
     },
     "metadata": {},
     "output_type": "display_data"
    }
   ],
   "source": [
    "loss_values1 = history_dict['mae'] # you can change this\n",
    "val_loss_values1 = history_dict['val_mae'] # you can also change this\n",
    "epochs = range(1, len(loss_values1) + 1) # range of X (no. of epochs)\n",
    "plt.plot(epochs, loss_values1, 'blue', label='Train set MAE')\n",
    "plt.plot(epochs, val_loss_values1, 'orange', label='Validation set MAE')\n",
    "#plt.title('Training and testing MAE')\n",
    "plt.xlabel('Epochs')\n",
    "plt.ylabel('MAE')\n",
    "plt.legend()\n",
    "plt.show()"
   ]
  },
  {
   "cell_type": "code",
   "execution_count": null,
   "metadata": {},
   "outputs": [],
   "source": [
    "print (epochs)"
   ]
  },
  {
   "cell_type": "markdown",
   "metadata": {},
   "source": [
    "### Save the model"
   ]
  },
  {
   "cell_type": "code",
   "execution_count": null,
   "metadata": {},
   "outputs": [],
   "source": [
    "ann.save('ANN_11.h5')\n",
    "import pickle\n",
    "pickle.dump(sc, open('scaler_ANN.pkl', 'wb'))"
   ]
  },
  {
   "cell_type": "markdown",
   "metadata": {},
   "source": [
    "## Part 5 - Make predictions"
   ]
  },
  {
   "cell_type": "code",
   "execution_count": null,
   "metadata": {},
   "outputs": [],
   "source": [
    "ann = load_model('ANN_1.h5')"
   ]
  },
  {
   "cell_type": "code",
   "execution_count": 31,
   "metadata": {
    "ExecuteTime": {
     "end_time": "2023-10-12T06:11:14.117472100Z",
     "start_time": "2023-10-12T06:10:35.570022700Z"
    }
   },
   "outputs": [
    {
     "name": "stdout",
     "output_type": "stream",
     "text": [
      "9226/9226 [==============================] - 17s 2ms/step\n",
      "3076/3076 [==============================] - 11s 3ms/step\n"
     ]
    },
    {
     "data": {
      "text/plain": "<Figure size 640x480 with 2 Axes>",
      "image/png": "[encoded data removed]"
     },
     "metadata": {},
     "output_type": "display_data"
    }
   ],
   "source": [
    "# scatterplot of actual vs. pred\n",
    "# specify the dimensions \n",
    "fig, axes = plt.subplots(1,2) # 1 row, 2 columns\n",
    "\n",
    "# this makes the individual subplots\n",
    "# Training Results\n",
    "axes[0].scatter(x=sc_y.inverse_transform(y_train), y=sc_y.inverse_transform(ann.predict(X_train))) #first row, first entry (left top)\n",
    "axes[0].set_xlabel(\"Actual\", fontsize=10)\n",
    "axes[0].set_ylabel(\"Predicted\",  fontsize=10)\n",
    "axes[0].set_title(\"Training\")\n",
    "# add 45 deg line\n",
    "x = np.linspace(*axes[0].get_xlim())\n",
    "axes[0].plot(x, x, color='red')\n",
    "# Validation Results\n",
    "axes[1].scatter(x=sc_y.inverse_transform(y_val), y=sc_y.inverse_transform(ann.predict(X_val))) # first row, second entry (right top)\n",
    "axes[1].set_xlabel(\"Actual\", fontsize=10)\n",
    "axes[1].set_ylabel(\"Predicted\",  fontsize=10)\n",
    "axes[1].set_title(\"Validation\")\n",
    "# add 45 deg line\n",
    "x = np.linspace(*axes[1].get_xlim())\n",
    "axes[1].plot(x, x, color='red')\n",
    "\n",
    "# tight layout\n",
    "fig.tight_layout()\n",
    "\n",
    "# show the plot\n",
    "plt.show()"
   ]
  },
  {
   "cell_type": "code",
   "execution_count": null,
   "metadata": {
    "colab": {
     "base_uri": "https://localhost:8080/",
     "height": 134
    },
    "colab_type": "code",
    "id": "IA0yApEmBG1X",
    "outputId": "cb981e1f-9204-4a2a-fece-9d66a6919189"
   },
   "outputs": [],
   "source": [
    "y_pred = sc.inverse_transform(ann.predict(X_test))\n",
    "np.set_printoptions(precision=2)\n",
    "print(np.concatenate((y_pred.reshape(len(y_pred),1), y_test.reshape(len(y_test),1)),1))"
   ]
  },
  {
   "cell_type": "code",
   "execution_count": null,
   "metadata": {},
   "outputs": [],
   "source": [
    "import matplotlib.pyplot as plt\n",
    "plt.scatter(sc.inverse_transform(y_test), y_pred, color=\"blue\")\n",
    "#plt.plot ([0,8500000],[0,8500000], color = \"red\")\n",
    "#plt.axis ([0,8500000,0,8500000])\n",
    "plt.xlabel ('Actual data')\n",
    "plt.ylabel ('Predicted data')"
   ]
  },
  {
   "cell_type": "code",
   "execution_count": null,
   "metadata": {},
   "outputs": [],
   "source": [
    "from sklearn.metrics import r2_score\n",
    "# Initialize layout\n",
    "fig1, ax1 = plt.subplots(figsize = (9, 9))\n",
    "\n",
    "\n",
    "#y = y_pred         # Model on prvious line is called here\n",
    "#x = y_test\n",
    "\n",
    "\n",
    "\n",
    "# Add scatterplot\n",
    "ax1.scatter(sc.inverse_transform(y_test), y_pred, s=70, alpha=1, edgecolors=\"k\",c='mediumblue',zorder=5, label = 'Points')\n",
    "\n",
    "\n",
    "plt.ylabel('Predicted Peak Incident Pressure (kPa)',fontsize = 25)\n",
    "plt.xlabel('Actual Peak Incident Pressure (kPa)',fontsize = 25)\n",
    "plt.xticks(fontsize = 19)\n",
    "plt.yticks(fontsize = 19)\n",
    "\n",
    "\n",
    "x1 = np.linspace(0,8000000)\n",
    "\n",
    "plt.plot(x1, x1, 'Red', label='45\\N{DEGREE SIGN} line',lw=2.5,alpha=1)\n",
    "plt.plot(x1, 1.1*x1, '--m', label='\\u00B110% Error',lw=2.5,alpha=0.7)\n",
    "plt.plot(x1, 0.9*x1,'m', linestyle='--',lw=2.5,alpha=0.7)\n",
    "plt.plot(x1, 1.2*x1, '-.g', label='\\u00B120% Error',lw=2.5,alpha=0.7)\n",
    "plt.plot(x1, 0.8*x1,'-.g',lw=2.5,alpha=0.7)\n",
    "\n",
    "plt.ylim(0,8000000)\n",
    "plt.xlim(0,8000000)\n",
    "plt.legend(loc='upper left',fontsize = 25)\n",
    "\n",
    "plt.grid()\n",
    "\n",
    "ax1.spines['left'].set_color('black')        # setting up Y-axis tick color to red\n",
    "ax1.spines['bottom'].set_color('black')         #setting up above X-axis tick color to red\n",
    "\n",
    "\n",
    "\n",
    "#ax1.annotate(\"$R^2$ = {:.3f}\".format(r2), (2500, 1000),fontsize = 25)  #Model is called here\n",
    "#ax1.annotate(\"Adj.$R^2$ = {:.3f}\".format(adj_r2), (2500, 750),fontsize = 25)\n",
    "\n",
    "#plt.savefig('plot1.png', dpi = 600, bbox_inches = 'tight')"
   ]
  },
  {
   "cell_type": "code",
   "execution_count": null,
   "metadata": {},
   "outputs": [],
   "source": [
    "# metrics\n",
    "trainpreds = ann.predict(X_train)\n",
    "\n",
    "from sklearn.metrics import mean_absolute_error\n",
    "print(mean_absolute_error(y_train, trainpreds)) # train\n",
    "print(mean_absolute_error(y_test, y_pred)) # test"
   ]
  },
  {
   "cell_type": "code",
   "execution_count": null,
   "metadata": {},
   "outputs": [],
   "source": [
    "from sklearn.metrics import r2_score\n",
    "r2 = r2_score(y_test, y_pred)\n",
    "print (r2)"
   ]
  },
  {
   "cell_type": "code",
   "execution_count": null,
   "metadata": {},
   "outputs": [],
   "source": [
    "r2_train = r2_score(y_train, trainpreds)\n",
    "print (r2_train)"
   ]
  },
  {
   "cell_type": "code",
   "execution_count": null,
   "metadata": {},
   "outputs": [],
   "source": [
    "count1 = 0\n",
    "for i in range(len(y_pred)):\n",
    "    line1 = y_pred[i] - 0.9*y_test[i]\n",
    "    line2 = y_pred[i] - 1.1*y_test[i]\n",
    "    #print ('line 1 ', line1)\n",
    "    #print ('line 2 ', line2)\n",
    "    mask1 = (line1 > 0) & (line2 < 0)\n",
    "    #print (mask)\n",
    "    count1 = np.sum(mask1+count1)\n",
    "    #print (count)\n",
    "\n",
    "count2 = 0\n",
    "for j in range(len(y_pred)):\n",
    "    line3 = y_pred[j] - 0.8*y_test[j]\n",
    "    line4 = y_pred[j] - 1.2*y_test[j]\n",
    "    mask2 = (line3 > 0) & (line4 < 0)\n",
    "    count2 = np.sum(mask2+count2)\n",
    "\n",
    "\n",
    "count3 = 0    \n",
    "for k in range(len(y_pred)):\n",
    "    line5 = y_pred[k] - 0.8*y_test[k]\n",
    "    line6 = y_pred[k] - 1.2*y_test[k]\n",
    "    mask3 = (line5 < 0) or (line6 > 0)\n",
    "    count3 = np.sum(mask3+count3)\n",
    "   \n",
    "\n",
    "print ('Within 10% margin', format((count1/len (y_pred)),'.2%'))\n",
    "print ('Within 20% margin', format((count2/len (y_pred)),'.2%'))\n",
    "print ('Out of 20% margin', format((count3/len (y_pred)),'.2%'))"
   ]
  },
  {
   "cell_type": "code",
   "execution_count": null,
   "metadata": {},
   "outputs": [],
   "source": [
    "adj_r2 = 1 - ((1 - r2) * (len(X_test) - 1) / (len(X_test) - len (X_test[0]) - 1))\n",
    "print (adj_r2)"
   ]
  },
  {
   "cell_type": "code",
   "execution_count": null,
   "metadata": {},
   "outputs": [],
   "source": [
    "import math\n",
    "from sklearn.metrics import mean_squared_error\n",
    "\n",
    "math.sqrt(mean_squared_error(y_test, y_pred))"
   ]
  },
  {
   "cell_type": "code",
   "execution_count": null,
   "metadata": {},
   "outputs": [],
   "source": [
    "from sklearn.metrics import mean_absolute_error\n",
    "\n",
    "mean_absolute_error(y_test, y_pred)"
   ]
  }
 ],
 "metadata": {
  "colab": {
   "collapsed_sections": [],
   "name": "Artificial Neural Network",
   "provenance": [],
   "toc_visible": true
  },
  "kernelspec": {
   "display_name": "Python 3 (ipykernel)",
   "language": "python",
   "name": "python3"
  },
  "language_info": {
   "codemirror_mode": {
    "name": "ipython",
    "version": 3
   },
   "file_extension": ".py",
   "mimetype": "text/x-python",
   "name": "python",
   "nbconvert_exporter": "python",
   "pygments_lexer": "ipython3",
   "version": "3.9.7"
  }
 },
 "nbformat": 4,
 "nbformat_minor": 4
}
