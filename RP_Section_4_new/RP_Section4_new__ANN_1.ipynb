{
 "cells": [
  {
   "cell_type": "markdown",
   "metadata": {
    "colab_type": "text",
    "id": "3cbb7fRy-eyr"
   },
   "source": [
    "# Artificial Neural Network"
   ]
  },
  {
   "cell_type": "markdown",
   "metadata": {
    "colab_type": "text",
    "id": "8sNDnxE2-pwE"
   },
   "source": [
    "## Part 1 - Importing the libraries"
   ]
  },
  {
   "cell_type": "code",
   "execution_count": 1,
   "metadata": {
    "colab": {},
    "colab_type": "code",
    "id": "lxChR1Rk-umf",
    "ExecuteTime": {
     "end_time": "2024-08-01T02:08:51.104491300Z",
     "start_time": "2024-08-01T02:08:46.432354Z"
    }
   },
   "outputs": [],
   "source": [
    "import numpy as np\n",
    "import pandas as pd\n",
    "import tensorflow as tf\n",
    "import matplotlib.pyplot as plt\n",
    "from keras.models import load_model\n",
    "from pathlib import Path\n",
    "import pickle"
   ]
  },
  {
   "cell_type": "markdown",
   "metadata": {
    "colab_type": "text",
    "id": "AG3FQEch-yuA"
   },
   "source": [
    "## Part 2 - Data Preprocessing"
   ]
  },
  {
   "cell_type": "markdown",
   "metadata": {
    "colab_type": "text",
    "id": "-4zq8Mza_D9O"
   },
   "source": [
    "### Importing the dataset"
   ]
  },
  {
   "cell_type": "code",
   "execution_count": 2,
   "metadata": {
    "ExecuteTime": {
     "end_time": "2024-08-01T02:08:53.666758600Z",
     "start_time": "2024-08-01T02:08:53.645094300Z"
    }
   },
   "outputs": [
    {
     "name": "stdout",
     "output_type": "stream",
     "text": [
      "input G:\\Chamodi\\LSDYNA3D\\RP_TH_models\\RP_Section_4_new\n",
      "2 [WindowsPath('G:/Chamodi/LSDYNA3D/RP_TH_models/RP_Section_4_new/RP_curves_fr13m'), WindowsPath('G:/Chamodi/LSDYNA3D/RP_TH_models/RP_Section_4_new/RP_curves_fr15m'), WindowsPath('G:/Chamodi/LSDYNA3D/RP_TH_models/RP_Section_4_new/RP_curves_fr17m'), WindowsPath('G:/Chamodi/LSDYNA3D/RP_TH_models/RP_Section_4_new/RP_curves_fr19m')]\n"
     ]
    }
   ],
   "source": [
    "#Access input folder\n",
    "current_dir = Path.cwd()\n",
    "input_dir1 = Path (\"G:/Chamodi/LSDYNA3D/RP_TH_models/RP_Section_4_new\")\n",
    "print (\"input\",input_dir1)\n",
    "\n",
    "#Access folders inside input folder\n",
    "input_dir2=  [folder1 for folder1 in input_dir1.iterdir() if folder1.is_dir()] # folder1 - RP_curves_fr7m\n",
    "print (\"2\",input_dir2)"
   ]
  },
  {
   "cell_type": "code",
   "execution_count": 3,
   "metadata": {
    "ExecuteTime": {
     "end_time": "2024-08-01T02:09:07.541885300Z",
     "start_time": "2024-08-01T02:09:00.206049200Z"
    }
   },
   "outputs": [
    {
     "name": "stdout",
     "output_type": "stream",
     "text": [
      "folder G:\\Chamodi\\LSDYNA3D\\RP_TH_models\\RP_Section_4_new\\RP_curves_fr13m\\13m00.5kg\n",
      "1.xlsx\n",
      "2.xlsx\n",
      "3.xlsx\n",
      "4.xlsx\n",
      "folder G:\\Chamodi\\LSDYNA3D\\RP_TH_models\\RP_Section_4_new\\RP_curves_fr13m\\13m02.5kg\n",
      "1.xlsx\n",
      "2.xlsx\n",
      "3.xlsx\n",
      "4.xlsx\n",
      "folder G:\\Chamodi\\LSDYNA3D\\RP_TH_models\\RP_Section_4_new\\RP_curves_fr13m\\13m04.5kg\n",
      "1.xlsx\n",
      "2.xlsx\n",
      "3.xlsx\n",
      "4.xlsx\n",
      "folder G:\\Chamodi\\LSDYNA3D\\RP_TH_models\\RP_Section_4_new\\RP_curves_fr13m\\13m06.5kg\n",
      "1.xlsx\n",
      "2.xlsx\n",
      "3.xlsx\n",
      "4.xlsx\n",
      "folder G:\\Chamodi\\LSDYNA3D\\RP_TH_models\\RP_Section_4_new\\RP_curves_fr13m\\13m08.5kg\n",
      "1.xlsx\n",
      "2.xlsx\n",
      "3.xlsx\n",
      "4.xlsx\n",
      "folder G:\\Chamodi\\LSDYNA3D\\RP_TH_models\\RP_Section_4_new\\RP_curves_fr13m\\13m10.5kg\n",
      "1.xlsx\n",
      "2.xlsx\n",
      "3.xlsx\n",
      "4.xlsx\n",
      "folder G:\\Chamodi\\LSDYNA3D\\RP_TH_models\\RP_Section_4_new\\RP_curves_fr13m\\13m12.5kg\n",
      "1.xlsx\n",
      "2.xlsx\n",
      "3.xlsx\n",
      "4.xlsx\n",
      "folder G:\\Chamodi\\LSDYNA3D\\RP_TH_models\\RP_Section_4_new\\RP_curves_fr13m\\13m14.5kg\n",
      "1.xlsx\n",
      "2.xlsx\n",
      "3.xlsx\n",
      "4.xlsx\n",
      "folder G:\\Chamodi\\LSDYNA3D\\RP_TH_models\\RP_Section_4_new\\RP_curves_fr13m\\13m16.5kg\n",
      "1.xlsx\n",
      "2.xlsx\n",
      "3.xlsx\n",
      "4.xlsx\n",
      "folder G:\\Chamodi\\LSDYNA3D\\RP_TH_models\\RP_Section_4_new\\RP_curves_fr13m\\13m18.5kg\n",
      "1.xlsx\n",
      "2.xlsx\n",
      "3.xlsx\n",
      "4.xlsx\n",
      "folder G:\\Chamodi\\LSDYNA3D\\RP_TH_models\\RP_Section_4_new\\RP_curves_fr13m\\13m20.5kg\n",
      "1.xlsx\n",
      "2.xlsx\n",
      "3.xlsx\n",
      "4.xlsx\n",
      "folder G:\\Chamodi\\LSDYNA3D\\RP_TH_models\\RP_Section_4_new\\RP_curves_fr13m\\13m22.5kg\n",
      "1.xlsx\n",
      "2.xlsx\n",
      "3.xlsx\n",
      "4.xlsx\n",
      "folder G:\\Chamodi\\LSDYNA3D\\RP_TH_models\\RP_Section_4_new\\RP_curves_fr13m\\13m24.5kg\n",
      "1.xlsx\n",
      "2.xlsx\n",
      "3.xlsx\n",
      "4.xlsx\n",
      "folder G:\\Chamodi\\LSDYNA3D\\RP_TH_models\\RP_Section_4_new\\RP_curves_fr13m\\13m26.5kg\n",
      "1.xlsx\n",
      "2.xlsx\n",
      "3.xlsx\n",
      "4.xlsx\n",
      "folder G:\\Chamodi\\LSDYNA3D\\RP_TH_models\\RP_Section_4_new\\RP_curves_fr13m\\13m28.5kg\n",
      "1.xlsx\n",
      "2.xlsx\n",
      "3.xlsx\n",
      "4.xlsx\n",
      "folder G:\\Chamodi\\LSDYNA3D\\RP_TH_models\\RP_Section_4_new\\RP_curves_fr13m\\13m30.5kg\n",
      "1.xlsx\n",
      "2.xlsx\n",
      "3.xlsx\n",
      "4.xlsx\n",
      "folder G:\\Chamodi\\LSDYNA3D\\RP_TH_models\\RP_Section_4_new\\RP_curves_fr13m\\13m32.5kg\n",
      "1.xlsx\n",
      "2.xlsx\n",
      "3.xlsx\n",
      "4.xlsx\n",
      "folder G:\\Chamodi\\LSDYNA3D\\RP_TH_models\\RP_Section_4_new\\RP_curves_fr13m\\13m34.5kg\n",
      "1.xlsx\n",
      "2.xlsx\n",
      "3.xlsx\n",
      "4.xlsx\n",
      "folder G:\\Chamodi\\LSDYNA3D\\RP_TH_models\\RP_Section_4_new\\RP_curves_fr13m\\13m35.0kg\n",
      "1.xlsx\n",
      "2.xlsx\n",
      "3.xlsx\n",
      "4.xlsx\n",
      "folder G:\\Chamodi\\LSDYNA3D\\RP_TH_models\\RP_Section_4_new\\RP_curves_fr15m\\15m00.5kg\n",
      "1.xlsx\n",
      "2.xlsx\n",
      "3.xlsx\n",
      "4.xlsx\n",
      "folder G:\\Chamodi\\LSDYNA3D\\RP_TH_models\\RP_Section_4_new\\RP_curves_fr15m\\15m02.5kg\n",
      "1.xlsx\n",
      "2.xlsx\n",
      "3.xlsx\n",
      "4.xlsx\n",
      "folder G:\\Chamodi\\LSDYNA3D\\RP_TH_models\\RP_Section_4_new\\RP_curves_fr15m\\15m04.5kg\n",
      "1.xlsx\n",
      "2.xlsx\n",
      "3.xlsx\n",
      "4.xlsx\n",
      "folder G:\\Chamodi\\LSDYNA3D\\RP_TH_models\\RP_Section_4_new\\RP_curves_fr15m\\15m06.5kg\n",
      "1.xlsx\n",
      "2.xlsx\n",
      "3.xlsx\n",
      "4.xlsx\n",
      "folder G:\\Chamodi\\LSDYNA3D\\RP_TH_models\\RP_Section_4_new\\RP_curves_fr15m\\15m08.5kg\n",
      "1.xlsx\n",
      "2.xlsx\n",
      "3.xlsx\n",
      "4.xlsx\n",
      "folder G:\\Chamodi\\LSDYNA3D\\RP_TH_models\\RP_Section_4_new\\RP_curves_fr15m\\15m10.5kg\n",
      "1.xlsx\n",
      "2.xlsx\n",
      "3.xlsx\n",
      "4.xlsx\n",
      "folder G:\\Chamodi\\LSDYNA3D\\RP_TH_models\\RP_Section_4_new\\RP_curves_fr15m\\15m12.5kg\n",
      "1.xlsx\n",
      "2.xlsx\n",
      "3.xlsx\n",
      "4.xlsx\n",
      "folder G:\\Chamodi\\LSDYNA3D\\RP_TH_models\\RP_Section_4_new\\RP_curves_fr15m\\15m14.5kg\n",
      "1.xlsx\n",
      "2.xlsx\n",
      "3.xlsx\n",
      "4.xlsx\n",
      "folder G:\\Chamodi\\LSDYNA3D\\RP_TH_models\\RP_Section_4_new\\RP_curves_fr15m\\15m16.5kg\n",
      "1.xlsx\n",
      "2.xlsx\n",
      "3.xlsx\n",
      "4.xlsx\n",
      "folder G:\\Chamodi\\LSDYNA3D\\RP_TH_models\\RP_Section_4_new\\RP_curves_fr15m\\15m18.5kg\n",
      "1.xlsx\n",
      "2.xlsx\n",
      "3.xlsx\n",
      "4.xlsx\n",
      "folder G:\\Chamodi\\LSDYNA3D\\RP_TH_models\\RP_Section_4_new\\RP_curves_fr15m\\15m20.5kg\n",
      "1.xlsx\n",
      "2.xlsx\n",
      "3.xlsx\n",
      "4.xlsx\n",
      "folder G:\\Chamodi\\LSDYNA3D\\RP_TH_models\\RP_Section_4_new\\RP_curves_fr15m\\15m22.5kg\n",
      "1.xlsx\n",
      "2.xlsx\n",
      "3.xlsx\n",
      "4.xlsx\n",
      "folder G:\\Chamodi\\LSDYNA3D\\RP_TH_models\\RP_Section_4_new\\RP_curves_fr15m\\15m24.5kg\n",
      "1.xlsx\n",
      "2.xlsx\n",
      "3.xlsx\n",
      "4.xlsx\n",
      "folder G:\\Chamodi\\LSDYNA3D\\RP_TH_models\\RP_Section_4_new\\RP_curves_fr15m\\15m26.5kg\n",
      "1.xlsx\n",
      "2.xlsx\n",
      "3.xlsx\n",
      "4.xlsx\n",
      "folder G:\\Chamodi\\LSDYNA3D\\RP_TH_models\\RP_Section_4_new\\RP_curves_fr15m\\15m28.5kg\n",
      "1.xlsx\n",
      "2.xlsx\n",
      "3.xlsx\n",
      "4.xlsx\n",
      "folder G:\\Chamodi\\LSDYNA3D\\RP_TH_models\\RP_Section_4_new\\RP_curves_fr15m\\15m30.5kg\n",
      "1.xlsx\n",
      "2.xlsx\n",
      "3.xlsx\n",
      "4.xlsx\n",
      "folder G:\\Chamodi\\LSDYNA3D\\RP_TH_models\\RP_Section_4_new\\RP_curves_fr15m\\15m32.5kg\n",
      "1.xlsx\n",
      "2.xlsx\n",
      "3.xlsx\n",
      "4.xlsx\n",
      "folder G:\\Chamodi\\LSDYNA3D\\RP_TH_models\\RP_Section_4_new\\RP_curves_fr15m\\15m34.5kg\n",
      "1.xlsx\n",
      "2.xlsx\n",
      "3.xlsx\n",
      "4.xlsx\n",
      "folder G:\\Chamodi\\LSDYNA3D\\RP_TH_models\\RP_Section_4_new\\RP_curves_fr15m\\15m35.0kg\n",
      "1.xlsx\n",
      "2.xlsx\n",
      "3.xlsx\n",
      "4.xlsx\n",
      "folder G:\\Chamodi\\LSDYNA3D\\RP_TH_models\\RP_Section_4_new\\RP_curves_fr17m\\17m00.5kg\n",
      "1.xlsx\n",
      "2.xlsx\n",
      "3.xlsx\n",
      "4.xlsx\n",
      "folder G:\\Chamodi\\LSDYNA3D\\RP_TH_models\\RP_Section_4_new\\RP_curves_fr17m\\17m02.5kg\n",
      "1.xlsx\n",
      "2.xlsx\n",
      "3.xlsx\n",
      "4.xlsx\n",
      "folder G:\\Chamodi\\LSDYNA3D\\RP_TH_models\\RP_Section_4_new\\RP_curves_fr17m\\17m04.5kg\n",
      "1.xlsx\n",
      "2.xlsx\n",
      "3.xlsx\n",
      "4.xlsx\n",
      "folder G:\\Chamodi\\LSDYNA3D\\RP_TH_models\\RP_Section_4_new\\RP_curves_fr17m\\17m06.5kg\n",
      "1.xlsx\n",
      "2.xlsx\n",
      "3.xlsx\n",
      "4.xlsx\n",
      "folder G:\\Chamodi\\LSDYNA3D\\RP_TH_models\\RP_Section_4_new\\RP_curves_fr17m\\17m08.5kg\n",
      "1.xlsx\n",
      "2.xlsx\n",
      "3.xlsx\n",
      "4.xlsx\n",
      "folder G:\\Chamodi\\LSDYNA3D\\RP_TH_models\\RP_Section_4_new\\RP_curves_fr17m\\17m10.5kg\n",
      "1.xlsx\n",
      "2.xlsx\n",
      "3.xlsx\n",
      "4.xlsx\n",
      "folder G:\\Chamodi\\LSDYNA3D\\RP_TH_models\\RP_Section_4_new\\RP_curves_fr17m\\17m12.5kg\n",
      "1.xlsx\n",
      "2.xlsx\n",
      "3.xlsx\n",
      "4.xlsx\n",
      "folder G:\\Chamodi\\LSDYNA3D\\RP_TH_models\\RP_Section_4_new\\RP_curves_fr17m\\17m14.5kg\n",
      "1.xlsx\n",
      "2.xlsx\n",
      "3.xlsx\n",
      "4.xlsx\n",
      "folder G:\\Chamodi\\LSDYNA3D\\RP_TH_models\\RP_Section_4_new\\RP_curves_fr17m\\17m16.5kg\n",
      "1.xlsx\n",
      "2.xlsx\n",
      "3.xlsx\n",
      "4.xlsx\n",
      "folder G:\\Chamodi\\LSDYNA3D\\RP_TH_models\\RP_Section_4_new\\RP_curves_fr17m\\17m18.5kg\n",
      "1.xlsx\n",
      "2.xlsx\n",
      "3.xlsx\n",
      "4.xlsx\n",
      "folder G:\\Chamodi\\LSDYNA3D\\RP_TH_models\\RP_Section_4_new\\RP_curves_fr17m\\17m20.5kg\n",
      "1.xlsx\n",
      "2.xlsx\n",
      "3.xlsx\n",
      "4.xlsx\n",
      "folder G:\\Chamodi\\LSDYNA3D\\RP_TH_models\\RP_Section_4_new\\RP_curves_fr17m\\17m22.5kg\n",
      "1.xlsx\n",
      "2.xlsx\n",
      "3.xlsx\n",
      "4.xlsx\n",
      "folder G:\\Chamodi\\LSDYNA3D\\RP_TH_models\\RP_Section_4_new\\RP_curves_fr17m\\17m24.5kg\n",
      "1.xlsx\n",
      "2.xlsx\n",
      "3.xlsx\n",
      "4.xlsx\n",
      "folder G:\\Chamodi\\LSDYNA3D\\RP_TH_models\\RP_Section_4_new\\RP_curves_fr17m\\17m26.5kg\n",
      "1.xlsx\n",
      "2.xlsx\n",
      "3.xlsx\n",
      "4.xlsx\n",
      "folder G:\\Chamodi\\LSDYNA3D\\RP_TH_models\\RP_Section_4_new\\RP_curves_fr17m\\17m28.5kg\n",
      "1.xlsx\n",
      "2.xlsx\n",
      "3.xlsx\n",
      "4.xlsx\n",
      "folder G:\\Chamodi\\LSDYNA3D\\RP_TH_models\\RP_Section_4_new\\RP_curves_fr17m\\17m30.5kg\n",
      "1.xlsx\n",
      "2.xlsx\n",
      "3.xlsx\n",
      "4.xlsx\n",
      "folder G:\\Chamodi\\LSDYNA3D\\RP_TH_models\\RP_Section_4_new\\RP_curves_fr17m\\17m32.5kg\n",
      "1.xlsx\n",
      "2.xlsx\n",
      "3.xlsx\n",
      "4.xlsx\n",
      "folder G:\\Chamodi\\LSDYNA3D\\RP_TH_models\\RP_Section_4_new\\RP_curves_fr17m\\17m34.5kg\n",
      "1.xlsx\n",
      "2.xlsx\n",
      "3.xlsx\n",
      "4.xlsx\n",
      "folder G:\\Chamodi\\LSDYNA3D\\RP_TH_models\\RP_Section_4_new\\RP_curves_fr17m\\17m35.0kg\n",
      "1.xlsx\n",
      "2.xlsx\n",
      "3.xlsx\n",
      "4.xlsx\n",
      "folder G:\\Chamodi\\LSDYNA3D\\RP_TH_models\\RP_Section_4_new\\RP_curves_fr19m\\19m00.5kg\n",
      "1.xlsx\n",
      "2.xlsx\n",
      "3.xlsx\n",
      "4.xlsx\n",
      "folder G:\\Chamodi\\LSDYNA3D\\RP_TH_models\\RP_Section_4_new\\RP_curves_fr19m\\19m02.5kg\n",
      "1.xlsx\n",
      "2.xlsx\n",
      "3.xlsx\n",
      "4.xlsx\n",
      "folder G:\\Chamodi\\LSDYNA3D\\RP_TH_models\\RP_Section_4_new\\RP_curves_fr19m\\19m04.5kg\n",
      "1.xlsx\n",
      "2.xlsx\n",
      "3.xlsx\n",
      "4.xlsx\n",
      "folder G:\\Chamodi\\LSDYNA3D\\RP_TH_models\\RP_Section_4_new\\RP_curves_fr19m\\19m06.5kg\n",
      "1.xlsx\n",
      "2.xlsx\n",
      "3.xlsx\n",
      "4.xlsx\n",
      "folder G:\\Chamodi\\LSDYNA3D\\RP_TH_models\\RP_Section_4_new\\RP_curves_fr19m\\19m08.5kg\n",
      "1.xlsx\n",
      "2.xlsx\n",
      "3.xlsx\n",
      "4.xlsx\n",
      "folder G:\\Chamodi\\LSDYNA3D\\RP_TH_models\\RP_Section_4_new\\RP_curves_fr19m\\19m10.5kg\n",
      "1.xlsx\n",
      "2.xlsx\n",
      "3.xlsx\n",
      "4.xlsx\n",
      "folder G:\\Chamodi\\LSDYNA3D\\RP_TH_models\\RP_Section_4_new\\RP_curves_fr19m\\19m12.5kg\n",
      "1.xlsx\n",
      "2.xlsx\n",
      "3.xlsx\n",
      "4.xlsx\n",
      "folder G:\\Chamodi\\LSDYNA3D\\RP_TH_models\\RP_Section_4_new\\RP_curves_fr19m\\19m14.5kg\n",
      "1.xlsx\n",
      "2.xlsx\n",
      "3.xlsx\n",
      "4.xlsx\n",
      "folder G:\\Chamodi\\LSDYNA3D\\RP_TH_models\\RP_Section_4_new\\RP_curves_fr19m\\19m16.5kg\n",
      "1.xlsx\n",
      "2.xlsx\n",
      "3.xlsx\n",
      "4.xlsx\n",
      "folder G:\\Chamodi\\LSDYNA3D\\RP_TH_models\\RP_Section_4_new\\RP_curves_fr19m\\19m18.5kg\n",
      "1.xlsx\n",
      "2.xlsx\n",
      "3.xlsx\n",
      "4.xlsx\n",
      "folder G:\\Chamodi\\LSDYNA3D\\RP_TH_models\\RP_Section_4_new\\RP_curves_fr19m\\19m20.5kg\n",
      "1.xlsx\n",
      "2.xlsx\n",
      "3.xlsx\n",
      "4.xlsx\n",
      "folder G:\\Chamodi\\LSDYNA3D\\RP_TH_models\\RP_Section_4_new\\RP_curves_fr19m\\19m22.5kg\n",
      "1.xlsx\n",
      "2.xlsx\n",
      "3.xlsx\n",
      "4.xlsx\n",
      "folder G:\\Chamodi\\LSDYNA3D\\RP_TH_models\\RP_Section_4_new\\RP_curves_fr19m\\19m24.5kg\n",
      "1.xlsx\n",
      "2.xlsx\n",
      "3.xlsx\n",
      "4.xlsx\n",
      "folder G:\\Chamodi\\LSDYNA3D\\RP_TH_models\\RP_Section_4_new\\RP_curves_fr19m\\19m26.5kg\n",
      "1.xlsx\n",
      "2.xlsx\n",
      "3.xlsx\n",
      "4.xlsx\n",
      "folder G:\\Chamodi\\LSDYNA3D\\RP_TH_models\\RP_Section_4_new\\RP_curves_fr19m\\19m28.5kg\n",
      "1.xlsx\n",
      "2.xlsx\n",
      "3.xlsx\n",
      "4.xlsx\n",
      "folder G:\\Chamodi\\LSDYNA3D\\RP_TH_models\\RP_Section_4_new\\RP_curves_fr19m\\19m30.5kg\n",
      "1.xlsx\n",
      "2.xlsx\n",
      "3.xlsx\n",
      "4.xlsx\n",
      "folder G:\\Chamodi\\LSDYNA3D\\RP_TH_models\\RP_Section_4_new\\RP_curves_fr19m\\19m32.5kg\n",
      "1.xlsx\n",
      "2.xlsx\n",
      "3.xlsx\n",
      "4.xlsx\n",
      "folder G:\\Chamodi\\LSDYNA3D\\RP_TH_models\\RP_Section_4_new\\RP_curves_fr19m\\19m34.5kg\n",
      "1.xlsx\n",
      "2.xlsx\n",
      "3.xlsx\n",
      "4.xlsx\n",
      "folder G:\\Chamodi\\LSDYNA3D\\RP_TH_models\\RP_Section_4_new\\RP_curves_fr19m\\19m35.0kg\n",
      "1.xlsx\n",
      "2.xlsx\n",
      "3.xlsx\n",
      "4.xlsx\n"
     ]
    }
   ],
   "source": [
    "#dataset = pd.DataFrame(columns = ['Charge_mass', 'Standoff_distance', 'Time', 'Pressure', 'Phase'])\n",
    "df_list = []\n",
    "\n",
    "for folder1 in input_dir2:\n",
    "    \n",
    "    input_dir3 =  [folder2 for folder2 in folder1.iterdir() if folder2.is_dir()] # folder2 - 07m00.5kg\n",
    "    \n",
    "    for folder2 in input_dir3:\n",
    "        \n",
    "        print ('folder', folder2)\n",
    "        files1 = [file1 for file1 in folder2.rglob(\"*.xlsx\")]\n",
    "    \n",
    "        for file1 in files1:\n",
    "            df_list.append(pd.read_excel(file1))\n",
    "            print (file1.stem)\n",
    "    \n",
    "dataset = pd.concat(df_list, ignore_index = True)"
   ]
  },
  {
   "cell_type": "code",
   "execution_count": 4,
   "metadata": {
    "colab": {},
    "colab_type": "code",
    "id": "B9CV13Co_HHM",
    "ExecuteTime": {
     "end_time": "2024-08-01T02:09:16.474014700Z",
     "start_time": "2024-08-01T02:09:16.410619100Z"
    }
   },
   "outputs": [
    {
     "name": "stdout",
     "output_type": "stream",
     "text": [
      "<class 'pandas.core.frame.DataFrame'>\n",
      "RangeIndex: 45639 entries, 0 to 45638\n",
      "Data columns (total 6 columns):\n",
      " #   Column             Non-Null Count  Dtype  \n",
      "---  ------             --------------  -----  \n",
      " 0   Mass               45639 non-null  float64\n",
      " 1   Standoff distance  45639 non-null  int64  \n",
      " 2   Angle              45639 non-null  int64  \n",
      " 3   Time               45639 non-null  float64\n",
      " 4   Phase              45639 non-null  object \n",
      " 5   Pressure           45639 non-null  float64\n",
      "dtypes: float64(3), int64(2), object(1)\n",
      "memory usage: 2.1+ MB\n"
     ]
    }
   ],
   "source": [
    "dataset.info()"
   ]
  },
  {
   "cell_type": "code",
   "execution_count": 5,
   "outputs": [
    {
     "name": "stdout",
     "output_type": "stream",
     "text": [
      "<class 'pandas.core.frame.DataFrame'>\n",
      "RangeIndex: 45639 entries, 0 to 45638\n",
      "Data columns (total 8 columns):\n",
      " #   Column                     Non-Null Count  Dtype  \n",
      "---  ------                     --------------  -----  \n",
      " 0   Mass                       45639 non-null  float64\n",
      " 1   Standoff distance          45639 non-null  int64  \n",
      " 2   Angle                      45639 non-null  int64  \n",
      " 3   Time                       45639 non-null  float64\n",
      " 4   Pressure                   45639 non-null  float64\n",
      " 5   Phase_negative_decreasing  45639 non-null  uint8  \n",
      " 6   Phase_negative_increasing  45639 non-null  uint8  \n",
      " 7   Phase_positive             45639 non-null  uint8  \n",
      "dtypes: float64(3), int64(2), uint8(3)\n",
      "memory usage: 1.9 MB\n"
     ]
    }
   ],
   "source": [
    "dataset = pd.get_dummies(dataset, columns =['Phase'], dtype = np.uint8)\n",
    "dataset.info()"
   ],
   "metadata": {
    "collapsed": false,
    "ExecuteTime": {
     "end_time": "2024-08-01T02:09:22.370043100Z",
     "start_time": "2024-08-01T02:09:22.307721200Z"
    }
   }
  },
  {
   "cell_type": "code",
   "execution_count": 6,
   "outputs": [
    {
     "data": {
      "text/plain": "    Mass  Standoff distance  Angle       Time   Pressure  \\\n0    0.5                 13      0  32.475292  10.613961   \n1    0.5                 13      0  32.501128  10.575125   \n2    0.5                 13      0  32.526964  10.331852   \n3    0.5                 13      0  32.578656   9.636125   \n4    0.5                 13      0  32.604503   9.363102   \n5    0.5                 13      0  32.630350   9.191898   \n6    0.5                 13      0  32.656197   9.095148   \n7    0.5                 13      0  32.682045   9.017906   \n8    0.5                 13      0  32.707893   8.859992   \n9    0.5                 13      0  32.733743   8.544781   \n10   0.5                 13      0  32.759600   8.039852   \n11   0.5                 13      0  32.785467   7.370180   \n12   0.5                 13      0  32.863089   5.057969   \n13   0.5                 13      0  32.888959   4.407305   \n14   0.5                 13      0  32.914831   3.859586   \n15   0.5                 13      0  32.940722   3.422930   \n16   0.5                 13      0  32.966613   3.086836   \n17   0.5                 13      0  32.992504   2.850336   \n18   0.5                 13      0  33.018394   2.711273   \n19   0.5                 13      0  33.044293   2.656227   \n20   0.5                 13      0  33.070200   2.658398   \n21   0.5                 13      0  33.096110   2.700242   \n22   0.5                 13      0  33.122021   2.731867   \n23   0.5                 13      0  33.147926   2.719414   \n24   0.5                 13      0  33.173843   2.640508   \n25   0.5                 13      0  33.199768   2.483352   \n26   0.5                 13      0  33.277544   1.873461   \n27   0.5                 13      0  33.303478   1.716164   \n28   0.5                 13      0  33.329411   1.597539   \n29   0.5                 13      0  33.355351   1.507031   \n\n    Phase_negative_decreasing  Phase_negative_increasing  Phase_positive  \n0                           0                          0               1  \n1                           0                          0               1  \n2                           0                          0               1  \n3                           0                          0               1  \n4                           0                          0               1  \n5                           0                          0               1  \n6                           0                          0               1  \n7                           0                          0               1  \n8                           0                          0               1  \n9                           0                          0               1  \n10                          0                          0               1  \n11                          0                          0               1  \n12                          0                          0               1  \n13                          0                          0               1  \n14                          0                          0               1  \n15                          0                          0               1  \n16                          0                          0               1  \n17                          0                          0               1  \n18                          0                          0               1  \n19                          0                          0               1  \n20                          0                          0               1  \n21                          0                          0               1  \n22                          0                          0               1  \n23                          0                          0               1  \n24                          0                          0               1  \n25                          0                          0               1  \n26                          0                          0               1  \n27                          0                          0               1  \n28                          0                          0               1  \n29                          0                          0               1  ",
      "text/html": "<div>\n<style scoped>\n    .dataframe tbody tr th:only-of-type {\n        vertical-align: middle;\n    }\n\n    .dataframe tbody tr th {\n        vertical-align: top;\n    }\n\n    .dataframe thead th {\n        text-align: right;\n    }\n</style>\n<table border=\"1\" class=\"dataframe\">\n  <thead>\n    <tr style=\"text-align: right;\">\n      <th></th>\n      <th>Mass</th>\n      <th>Standoff distance</th>\n      <th>Angle</th>\n      <th>Time</th>\n      <th>Pressure</th>\n      <th>Phase_negative_decreasing</th>\n      <th>Phase_negative_increasing</th>\n      <th>Phase_positive</th>\n    </tr>\n  </thead>\n  <tbody>\n    <tr>\n      <th>0</th>\n      <td>0.5</td>\n      <td>13</td>\n      <td>0</td>\n      <td>32.475292</td>\n      <td>10.613961</td>\n      <td>0</td>\n      <td>0</td>\n      <td>1</td>\n    </tr>\n    <tr>\n      <th>1</th>\n      <td>0.5</td>\n      <td>13</td>\n      <td>0</td>\n      <td>32.501128</td>\n      <td>10.575125</td>\n      <td>0</td>\n      <td>0</td>\n      <td>1</td>\n    </tr>\n    <tr>\n      <th>2</th>\n      <td>0.5</td>\n      <td>13</td>\n      <td>0</td>\n      <td>32.526964</td>\n      <td>10.331852</td>\n      <td>0</td>\n      <td>0</td>\n      <td>1</td>\n    </tr>\n    <tr>\n      <th>3</th>\n      <td>0.5</td>\n      <td>13</td>\n      <td>0</td>\n      <td>32.578656</td>\n      <td>9.636125</td>\n      <td>0</td>\n      <td>0</td>\n      <td>1</td>\n    </tr>\n    <tr>\n      <th>4</th>\n      <td>0.5</td>\n      <td>13</td>\n      <td>0</td>\n      <td>32.604503</td>\n      <td>9.363102</td>\n      <td>0</td>\n      <td>0</td>\n      <td>1</td>\n    </tr>\n    <tr>\n      <th>5</th>\n      <td>0.5</td>\n      <td>13</td>\n      <td>0</td>\n      <td>32.630350</td>\n      <td>9.191898</td>\n      <td>0</td>\n      <td>0</td>\n      <td>1</td>\n    </tr>\n    <tr>\n      <th>6</th>\n      <td>0.5</td>\n      <td>13</td>\n      <td>0</td>\n      <td>32.656197</td>\n      <td>9.095148</td>\n      <td>0</td>\n      <td>0</td>\n      <td>1</td>\n    </tr>\n    <tr>\n      <th>7</th>\n      <td>0.5</td>\n      <td>13</td>\n      <td>0</td>\n      <td>32.682045</td>\n      <td>9.017906</td>\n      <td>0</td>\n      <td>0</td>\n      <td>1</td>\n    </tr>\n    <tr>\n      <th>8</th>\n      <td>0.5</td>\n      <td>13</td>\n      <td>0</td>\n      <td>32.707893</td>\n      <td>8.859992</td>\n      <td>0</td>\n      <td>0</td>\n      <td>1</td>\n    </tr>\n    <tr>\n      <th>9</th>\n      <td>0.5</td>\n      <td>13</td>\n      <td>0</td>\n      <td>32.733743</td>\n      <td>8.544781</td>\n      <td>0</td>\n      <td>0</td>\n      <td>1</td>\n    </tr>\n    <tr>\n      <th>10</th>\n      <td>0.5</td>\n      <td>13</td>\n      <td>0</td>\n      <td>32.759600</td>\n      <td>8.039852</td>\n      <td>0</td>\n      <td>0</td>\n      <td>1</td>\n    </tr>\n    <tr>\n      <th>11</th>\n      <td>0.5</td>\n      <td>13</td>\n      <td>0</td>\n      <td>32.785467</td>\n      <td>7.370180</td>\n      <td>0</td>\n      <td>0</td>\n      <td>1</td>\n    </tr>\n    <tr>\n      <th>12</th>\n      <td>0.5</td>\n      <td>13</td>\n      <td>0</td>\n      <td>32.863089</td>\n      <td>5.057969</td>\n      <td>0</td>\n      <td>0</td>\n      <td>1</td>\n    </tr>\n    <tr>\n      <th>13</th>\n      <td>0.5</td>\n      <td>13</td>\n      <td>0</td>\n      <td>32.888959</td>\n      <td>4.407305</td>\n      <td>0</td>\n      <td>0</td>\n      <td>1</td>\n    </tr>\n    <tr>\n      <th>14</th>\n      <td>0.5</td>\n      <td>13</td>\n      <td>0</td>\n      <td>32.914831</td>\n      <td>3.859586</td>\n      <td>0</td>\n      <td>0</td>\n      <td>1</td>\n    </tr>\n    <tr>\n      <th>15</th>\n      <td>0.5</td>\n      <td>13</td>\n      <td>0</td>\n      <td>32.940722</td>\n      <td>3.422930</td>\n      <td>0</td>\n      <td>0</td>\n      <td>1</td>\n    </tr>\n    <tr>\n      <th>16</th>\n      <td>0.5</td>\n      <td>13</td>\n      <td>0</td>\n      <td>32.966613</td>\n      <td>3.086836</td>\n      <td>0</td>\n      <td>0</td>\n      <td>1</td>\n    </tr>\n    <tr>\n      <th>17</th>\n      <td>0.5</td>\n      <td>13</td>\n      <td>0</td>\n      <td>32.992504</td>\n      <td>2.850336</td>\n      <td>0</td>\n      <td>0</td>\n      <td>1</td>\n    </tr>\n    <tr>\n      <th>18</th>\n      <td>0.5</td>\n      <td>13</td>\n      <td>0</td>\n      <td>33.018394</td>\n      <td>2.711273</td>\n      <td>0</td>\n      <td>0</td>\n      <td>1</td>\n    </tr>\n    <tr>\n      <th>19</th>\n      <td>0.5</td>\n      <td>13</td>\n      <td>0</td>\n      <td>33.044293</td>\n      <td>2.656227</td>\n      <td>0</td>\n      <td>0</td>\n      <td>1</td>\n    </tr>\n    <tr>\n      <th>20</th>\n      <td>0.5</td>\n      <td>13</td>\n      <td>0</td>\n      <td>33.070200</td>\n      <td>2.658398</td>\n      <td>0</td>\n      <td>0</td>\n      <td>1</td>\n    </tr>\n    <tr>\n      <th>21</th>\n      <td>0.5</td>\n      <td>13</td>\n      <td>0</td>\n      <td>33.096110</td>\n      <td>2.700242</td>\n      <td>0</td>\n      <td>0</td>\n      <td>1</td>\n    </tr>\n    <tr>\n      <th>22</th>\n      <td>0.5</td>\n      <td>13</td>\n      <td>0</td>\n      <td>33.122021</td>\n      <td>2.731867</td>\n      <td>0</td>\n      <td>0</td>\n      <td>1</td>\n    </tr>\n    <tr>\n      <th>23</th>\n      <td>0.5</td>\n      <td>13</td>\n      <td>0</td>\n      <td>33.147926</td>\n      <td>2.719414</td>\n      <td>0</td>\n      <td>0</td>\n      <td>1</td>\n    </tr>\n    <tr>\n      <th>24</th>\n      <td>0.5</td>\n      <td>13</td>\n      <td>0</td>\n      <td>33.173843</td>\n      <td>2.640508</td>\n      <td>0</td>\n      <td>0</td>\n      <td>1</td>\n    </tr>\n    <tr>\n      <th>25</th>\n      <td>0.5</td>\n      <td>13</td>\n      <td>0</td>\n      <td>33.199768</td>\n      <td>2.483352</td>\n      <td>0</td>\n      <td>0</td>\n      <td>1</td>\n    </tr>\n    <tr>\n      <th>26</th>\n      <td>0.5</td>\n      <td>13</td>\n      <td>0</td>\n      <td>33.277544</td>\n      <td>1.873461</td>\n      <td>0</td>\n      <td>0</td>\n      <td>1</td>\n    </tr>\n    <tr>\n      <th>27</th>\n      <td>0.5</td>\n      <td>13</td>\n      <td>0</td>\n      <td>33.303478</td>\n      <td>1.716164</td>\n      <td>0</td>\n      <td>0</td>\n      <td>1</td>\n    </tr>\n    <tr>\n      <th>28</th>\n      <td>0.5</td>\n      <td>13</td>\n      <td>0</td>\n      <td>33.329411</td>\n      <td>1.597539</td>\n      <td>0</td>\n      <td>0</td>\n      <td>1</td>\n    </tr>\n    <tr>\n      <th>29</th>\n      <td>0.5</td>\n      <td>13</td>\n      <td>0</td>\n      <td>33.355351</td>\n      <td>1.507031</td>\n      <td>0</td>\n      <td>0</td>\n      <td>1</td>\n    </tr>\n  </tbody>\n</table>\n</div>"
     },
     "execution_count": 6,
     "metadata": {},
     "output_type": "execute_result"
    }
   ],
   "source": [
    "dataset.head(30)"
   ],
   "metadata": {
    "collapsed": false,
    "ExecuteTime": {
     "end_time": "2024-08-01T02:09:24.292035900Z",
     "start_time": "2024-08-01T02:09:24.245352900Z"
    }
   }
  },
  {
   "cell_type": "code",
   "execution_count": 7,
   "metadata": {
    "ExecuteTime": {
     "end_time": "2024-08-01T02:09:31.057788Z",
     "start_time": "2024-08-01T02:09:31.042143500Z"
    }
   },
   "outputs": [
    {
     "name": "stdout",
     "output_type": "stream",
     "text": [
      "(45639, 7) (45639,)\n"
     ]
    }
   ],
   "source": [
    "y = dataset['Pressure']\n",
    "X = dataset.drop(['Pressure'], axis=1)\n",
    "print(X.shape, y.shape)"
   ]
  },
  {
   "cell_type": "code",
   "execution_count": 8,
   "metadata": {
    "ExecuteTime": {
     "end_time": "2024-08-01T02:09:37.233115500Z",
     "start_time": "2024-08-01T02:09:33.496232900Z"
    }
   },
   "outputs": [],
   "source": [
    "# convert to numpy array\n",
    "X = np.array(X)\n",
    "y = np.array(y)"
   ]
  },
  {
   "cell_type": "markdown",
   "metadata": {
    "colab_type": "text",
    "id": "VC6omXel_Up0"
   },
   "source": [
    "### Splitting the dataset into the Training set and Test set"
   ]
  },
  {
   "cell_type": "code",
   "execution_count": 9,
   "metadata": {
    "colab": {},
    "colab_type": "code",
    "id": "L5edeb2r_agx",
    "ExecuteTime": {
     "end_time": "2024-08-01T02:09:41.278209100Z",
     "start_time": "2024-08-01T02:09:40.526586300Z"
    }
   },
   "outputs": [],
   "source": [
    "from sklearn.model_selection import train_test_split\n",
    "X_train, X_test, y_train, y_test = train_test_split(X,\n",
    "                                                    y,\n",
    "                                                    test_size = 0.4,\n",
    "                                                    random_state = 0)"
   ]
  },
  {
   "cell_type": "code",
   "execution_count": 10,
   "metadata": {
    "colab": {},
    "colab_type": "code",
    "id": "L5edeb2r_agx",
    "ExecuteTime": {
     "end_time": "2024-08-01T02:09:43.080194700Z",
     "start_time": "2024-08-01T02:09:43.048401Z"
    }
   },
   "outputs": [],
   "source": [
    "X_val, X_test, y_val, y_test = train_test_split(X_test,\n",
    "                                                y_test,\n",
    "                                                test_size = 0.5,\n",
    "                                                random_state = 0)"
   ]
  },
  {
   "cell_type": "markdown",
   "source": [
    "## Feature scaling"
   ],
   "metadata": {
    "collapsed": false
   }
  },
  {
   "cell_type": "code",
   "execution_count": 11,
   "outputs": [
    {
     "name": "stdout",
     "output_type": "stream",
     "text": [
      "[[ 1.3876351   0.4768852  -1.52779325 ...  0.          0.\n",
      "   1.        ]\n",
      " [ 0.94852049  0.4768852  -0.59410962 ...  0.          1.\n",
      "   0.        ]\n",
      " [ 1.3876351  -0.43419744 -0.59410962 ...  1.          0.\n",
      "   0.        ]\n",
      " ...\n",
      " [ 0.75335844  1.38796784  1.27325765 ...  0.          0.\n",
      "   1.        ]\n",
      " [ 1.14368254  1.38796784 -1.52779325 ...  0.          0.\n",
      "   1.        ]\n",
      " [-1.00310001 -1.34528007  1.27325765 ...  0.          1.\n",
      "   0.        ]]\n"
     ]
    }
   ],
   "source": [
    "from sklearn.preprocessing import StandardScaler\n",
    "sc = StandardScaler()\n",
    "X_train[:,0:3] = sc.fit_transform(X_train[:, 0:3])\n",
    "print (X_train)"
   ],
   "metadata": {
    "collapsed": false,
    "ExecuteTime": {
     "end_time": "2024-08-01T02:09:47.308208300Z",
     "start_time": "2024-08-01T02:09:47.245303700Z"
    }
   }
  },
  {
   "cell_type": "code",
   "execution_count": 12,
   "outputs": [
    {
     "name": "stdout",
     "output_type": "stream",
     "text": [
      "[[ 0.55819639 -0.43419744 -0.59410962 ...  0.          0.\n",
      "   1.        ]\n",
      " [-0.41761386 -1.34528007  0.33957402 ...  0.          0.\n",
      "   1.        ]\n",
      " [ 0.55819639  1.38796784 -1.52779325 ...  0.          0.\n",
      "   1.        ]\n",
      " ...\n",
      " [ 0.75335844 -0.43419744  1.27325765 ...  0.          0.\n",
      "   1.        ]\n",
      " [ 0.75335844  1.38796784  0.33957402 ...  0.          0.\n",
      "   1.        ]\n",
      " [ 0.55819639  1.38796784  1.27325765 ...  0.          0.\n",
      "   1.        ]]\n"
     ]
    }
   ],
   "source": [
    "X_test[:,0:3] = sc.transform(X_test[:,0:3])\n",
    "print (X_test)"
   ],
   "metadata": {
    "collapsed": false,
    "ExecuteTime": {
     "end_time": "2024-08-01T02:09:48.761304300Z",
     "start_time": "2024-08-01T02:09:48.730090800Z"
    }
   }
  },
  {
   "cell_type": "code",
   "execution_count": 13,
   "outputs": [
    {
     "name": "stdout",
     "output_type": "stream",
     "text": [
      "[[-0.41761386 -0.43419744 -0.59410962 ...  0.          0.\n",
      "   1.        ]\n",
      " [ 0.75335844  1.38796784  1.27325765 ...  0.          0.\n",
      "   1.        ]\n",
      " [-0.02728976  1.38796784 -0.59410962 ...  0.          1.\n",
      "   0.        ]\n",
      " ...\n",
      " [ 0.94852049  1.38796784  1.27325765 ...  0.          0.\n",
      "   1.        ]\n",
      " [-0.41761386  0.4768852  -0.59410962 ...  0.          0.\n",
      "   1.        ]\n",
      " [-0.61277591  1.38796784  0.33957402 ...  0.          0.\n",
      "   1.        ]]\n"
     ]
    }
   ],
   "source": [
    "X_val[:,0:3] = sc.transform(X_val[:,0:3])\n",
    "print (X_val)"
   ],
   "metadata": {
    "collapsed": false,
    "ExecuteTime": {
     "end_time": "2024-08-01T02:09:50.136420Z",
     "start_time": "2024-08-01T02:09:50.104738700Z"
    }
   }
  },
  {
   "cell_type": "code",
   "execution_count": 14,
   "outputs": [
    {
     "name": "stdout",
     "output_type": "stream",
     "text": [
      "X_train 27383\n",
      "X_test 9128\n",
      "X_val 9128\n"
     ]
    }
   ],
   "source": [
    "print (\"X_train\", len(X_train))\n",
    "print (\"X_test\", len(X_test))\n",
    "print (\"X_val\", len(X_val))"
   ],
   "metadata": {
    "collapsed": false,
    "ExecuteTime": {
     "end_time": "2024-08-01T02:09:51.271754Z",
     "start_time": "2024-08-01T02:09:51.240062800Z"
    }
   }
  },
  {
   "cell_type": "markdown",
   "metadata": {
    "colab_type": "text",
    "id": "_mSLlAT9_eyI"
   },
   "source": [
    "## Part 3 - Building the ANN"
   ]
  },
  {
   "cell_type": "markdown",
   "metadata": {
    "colab_type": "text",
    "id": "CsBULd_f_wLY"
   },
   "source": [
    "### Initializing the ANN"
   ]
  },
  {
   "cell_type": "code",
   "execution_count": 15,
   "metadata": {
    "colab": {},
    "colab_type": "code",
    "id": "J6Hd97Ls__Nz",
    "ExecuteTime": {
     "end_time": "2024-08-01T02:10:04.761410100Z",
     "start_time": "2024-08-01T02:10:04.713547Z"
    }
   },
   "outputs": [],
   "source": [
    "ann = tf.keras.models.Sequential()"
   ]
  },
  {
   "cell_type": "markdown",
   "metadata": {
    "colab_type": "text",
    "id": "iitAFJS_ABUn"
   },
   "source": [
    "### Adding the input layer and the first hidden layer"
   ]
  },
  {
   "cell_type": "code",
   "execution_count": 16,
   "metadata": {
    "colab": {},
    "colab_type": "code",
    "id": "ksO_Vv40AHix",
    "ExecuteTime": {
     "end_time": "2024-08-01T02:10:11.370543600Z",
     "start_time": "2024-08-01T02:10:11.308158100Z"
    }
   },
   "outputs": [],
   "source": [
    "ann.add(tf.keras.layers.Dense(units=150,\n",
    "                              input_shape=(X_train.shape[1],),\n",
    "                              activation='relu'))"
   ]
  },
  {
   "cell_type": "markdown",
   "metadata": {
    "colab_type": "text",
    "id": "-lb4kK_wAKbs"
   },
   "source": [
    "### Adding the second hidden layer"
   ]
  },
  {
   "cell_type": "code",
   "execution_count": 17,
   "metadata": {
    "colab": {},
    "colab_type": "code",
    "id": "c2357OqEAQOQ",
    "tags": [],
    "ExecuteTime": {
     "end_time": "2024-08-01T02:10:13.167406200Z",
     "start_time": "2024-08-01T02:10:13.136245500Z"
    }
   },
   "outputs": [],
   "source": [
    "ann.add(tf.keras.layers.Dense(units=125,\n",
    "                              activation='relu'))"
   ]
  },
  {
   "cell_type": "markdown",
   "metadata": {
    "colab_type": "text",
    "id": "-lb4kK_wAKbs"
   },
   "source": [
    "### Adding the third hidden layer"
   ]
  },
  {
   "cell_type": "code",
   "execution_count": 18,
   "metadata": {
    "colab": {},
    "colab_type": "code",
    "id": "c2357OqEAQOQ",
    "tags": [],
    "ExecuteTime": {
     "end_time": "2024-08-01T02:10:15.471059600Z",
     "start_time": "2024-08-01T02:10:15.407490800Z"
    }
   },
   "outputs": [],
   "source": [
    "ann.add(tf.keras.layers.Dense(units=100,\n",
    "                              activation='relu'))"
   ]
  },
  {
   "cell_type": "markdown",
   "metadata": {
    "colab_type": "text",
    "id": "jwMOmKb3AdBY"
   },
   "source": [
    "### Adding the output layer"
   ]
  },
  {
   "cell_type": "code",
   "execution_count": 19,
   "metadata": {
    "colab": {},
    "colab_type": "code",
    "id": "YFATpzsUAkLL",
    "ExecuteTime": {
     "end_time": "2024-08-01T02:10:17.355285500Z",
     "start_time": "2024-08-01T02:10:17.324094400Z"
    }
   },
   "outputs": [],
   "source": [
    "ann.add(tf.keras.layers.Dense(units=1,\n",
    "                              activation='linear'))"
   ]
  },
  {
   "cell_type": "markdown",
   "metadata": {},
   "source": [
    "### what model looks like"
   ]
  },
  {
   "cell_type": "code",
   "execution_count": 20,
   "metadata": {
    "ExecuteTime": {
     "end_time": "2024-08-01T02:10:18.780261300Z",
     "start_time": "2024-08-01T02:10:18.716924600Z"
    }
   },
   "outputs": [
    {
     "name": "stdout",
     "output_type": "stream",
     "text": [
      "Model: \"sequential\"\n",
      "_________________________________________________________________\n",
      " Layer (type)                Output Shape              Param #   \n",
      "=================================================================\n",
      " dense (Dense)               (None, 150)               1200      \n",
      "                                                                 \n",
      " dense_1 (Dense)             (None, 125)               18875     \n",
      "                                                                 \n",
      " dense_2 (Dense)             (None, 100)               12600     \n",
      "                                                                 \n",
      " dense_3 (Dense)             (None, 1)                 101       \n",
      "                                                                 \n",
      "=================================================================\n",
      "Total params: 32,776\n",
      "Trainable params: 32,776\n",
      "Non-trainable params: 0\n",
      "_________________________________________________________________\n"
     ]
    }
   ],
   "source": [
    "ann.summary()"
   ]
  },
  {
   "cell_type": "markdown",
   "metadata": {
    "colab_type": "text",
    "id": "fq7e4fF6A1yy"
   },
   "source": [
    "## Part 4 - Training the ANN"
   ]
  },
  {
   "cell_type": "markdown",
   "metadata": {
    "colab_type": "text",
    "id": "qDeylAs2An25"
   },
   "source": [
    "### Compiling the ANN"
   ]
  },
  {
   "cell_type": "code",
   "execution_count": 21,
   "metadata": {
    "colab": {},
    "colab_type": "code",
    "id": "pesgbWlCAtB4",
    "ExecuteTime": {
     "end_time": "2024-08-01T02:10:21.573961500Z",
     "start_time": "2024-08-01T02:10:21.511519300Z"
    }
   },
   "outputs": [],
   "source": [
    "# from tensorflow.keras.optimizers import Adam\n",
    "from keras.optimizers import Adam\n",
    "opt = Adam(learning_rate=0.001)\n",
    "ann.compile(optimizer = opt,\n",
    "            loss = 'mean_squared_error',\n",
    "            metrics = ['mae'])"
   ]
  },
  {
   "cell_type": "markdown",
   "metadata": {},
   "source": [
    "### early stopping callback"
   ]
  },
  {
   "cell_type": "code",
   "execution_count": 22,
   "metadata": {
    "ExecuteTime": {
     "end_time": "2024-08-01T02:10:23.566863800Z",
     "start_time": "2024-08-01T02:10:23.519428100Z"
    }
   },
   "outputs": [],
   "source": [
    "# protects from unnecessary further training of the model if a particular metric does not continue to improve over a number of n epochs. In such a case, the model training would be automatically aborted.\n",
    "from keras.callbacks import EarlyStopping\n",
    "es = EarlyStopping(monitor='val_loss',\n",
    "                   mode='min',\n",
    "                   patience=50,\n",
    "                   restore_best_weights = True)"
   ]
  },
  {
   "cell_type": "markdown",
   "metadata": {
    "colab_type": "text",
    "id": "YjVuiybYOo7r"
   },
   "source": [
    "### Training the ANN model on the Training set"
   ]
  },
  {
   "cell_type": "code",
   "execution_count": 23,
   "metadata": {
    "colab": {
     "base_uri": "https://localhost:8080/",
     "height": 1000
    },
    "colab_type": "code",
    "id": "c_vV-tiiA5zn",
    "outputId": "4a2b6ee6-ed75-4698-9069-b250e613803f",
    "ExecuteTime": {
     "end_time": "2024-08-01T02:31:00.226301100Z",
     "start_time": "2024-08-01T02:10:31.932873800Z"
    }
   },
   "outputs": [
    {
     "name": "stdout",
     "output_type": "stream",
     "text": [
      "Epoch 1/500\n",
      "913/913 [==============================] - 27s 4ms/step - loss: 87.6517 - mae: 5.3970 - val_loss: 79.0681 - val_mae: 5.3694\n",
      "Epoch 2/500\n",
      "913/913 [==============================] - 4s 4ms/step - loss: 55.1787 - mae: 4.0010 - val_loss: 42.0830 - val_mae: 3.3900\n",
      "Epoch 3/500\n",
      "913/913 [==============================] - 3s 4ms/step - loss: 37.0250 - mae: 3.0910 - val_loss: 29.6936 - val_mae: 2.6967\n",
      "Epoch 4/500\n",
      "913/913 [==============================] - 3s 4ms/step - loss: 31.7477 - mae: 2.8322 - val_loss: 24.5986 - val_mae: 2.3001\n",
      "Epoch 5/500\n",
      "913/913 [==============================] - 3s 3ms/step - loss: 28.7698 - mae: 2.6696 - val_loss: 26.0162 - val_mae: 2.9090\n",
      "Epoch 6/500\n",
      "913/913 [==============================] - 3s 3ms/step - loss: 27.9016 - mae: 2.6177 - val_loss: 27.4203 - val_mae: 2.2297\n",
      "Epoch 7/500\n",
      "913/913 [==============================] - 3s 3ms/step - loss: 25.6611 - mae: 2.4954 - val_loss: 21.9282 - val_mae: 2.5858\n",
      "Epoch 8/500\n",
      "913/913 [==============================] - 3s 3ms/step - loss: 24.3057 - mae: 2.4246 - val_loss: 19.3471 - val_mae: 2.3047\n",
      "Epoch 9/500\n",
      "913/913 [==============================] - 3s 3ms/step - loss: 25.2470 - mae: 2.4665 - val_loss: 22.0379 - val_mae: 2.6313\n",
      "Epoch 10/500\n",
      "913/913 [==============================] - 3s 3ms/step - loss: 25.3362 - mae: 2.4881 - val_loss: 17.4130 - val_mae: 2.0406\n",
      "Epoch 11/500\n",
      "913/913 [==============================] - 3s 3ms/step - loss: 23.3073 - mae: 2.3567 - val_loss: 21.6988 - val_mae: 2.0211\n",
      "Epoch 12/500\n",
      "913/913 [==============================] - 3s 3ms/step - loss: 23.5846 - mae: 2.3776 - val_loss: 44.4622 - val_mae: 2.9366\n",
      "Epoch 13/500\n",
      "913/913 [==============================] - 3s 3ms/step - loss: 24.6164 - mae: 2.4155 - val_loss: 20.1156 - val_mae: 1.9781\n",
      "Epoch 14/500\n",
      "913/913 [==============================] - 3s 3ms/step - loss: 20.6919 - mae: 2.1846 - val_loss: 33.6465 - val_mae: 2.4814\n",
      "Epoch 15/500\n",
      "913/913 [==============================] - 3s 3ms/step - loss: 20.0823 - mae: 2.1227 - val_loss: 14.5161 - val_mae: 1.7985\n",
      "Epoch 16/500\n",
      "913/913 [==============================] - 3s 3ms/step - loss: 22.4443 - mae: 2.2638 - val_loss: 19.9893 - val_mae: 2.5811\n",
      "Epoch 17/500\n",
      "913/913 [==============================] - 3s 3ms/step - loss: 20.2221 - mae: 2.1105 - val_loss: 13.1709 - val_mae: 1.8178\n",
      "Epoch 18/500\n",
      "913/913 [==============================] - 3s 3ms/step - loss: 17.1851 - mae: 1.9690 - val_loss: 15.1734 - val_mae: 2.2315\n",
      "Epoch 19/500\n",
      "913/913 [==============================] - 3s 3ms/step - loss: 19.9653 - mae: 2.1210 - val_loss: 26.8722 - val_mae: 2.6445\n",
      "Epoch 20/500\n",
      "913/913 [==============================] - 3s 3ms/step - loss: 17.3546 - mae: 1.9727 - val_loss: 15.4334 - val_mae: 1.6591\n",
      "Epoch 21/500\n",
      "913/913 [==============================] - 3s 3ms/step - loss: 19.2213 - mae: 2.0861 - val_loss: 13.0020 - val_mae: 1.5950\n",
      "Epoch 22/500\n",
      "913/913 [==============================] - 3s 3ms/step - loss: 16.7731 - mae: 1.9351 - val_loss: 13.5449 - val_mae: 1.7439\n",
      "Epoch 23/500\n",
      "913/913 [==============================] - 3s 4ms/step - loss: 18.3044 - mae: 2.0397 - val_loss: 23.0191 - val_mae: 3.0617\n",
      "Epoch 24/500\n",
      "913/913 [==============================] - 3s 3ms/step - loss: 17.6806 - mae: 2.0040 - val_loss: 11.9868 - val_mae: 1.8491\n",
      "Epoch 25/500\n",
      "913/913 [==============================] - 3s 3ms/step - loss: 15.5929 - mae: 1.8586 - val_loss: 9.3746 - val_mae: 1.4832\n",
      "Epoch 26/500\n",
      "913/913 [==============================] - 3s 3ms/step - loss: 15.2259 - mae: 1.8398 - val_loss: 16.6088 - val_mae: 2.3023\n",
      "Epoch 27/500\n",
      "913/913 [==============================] - 3s 3ms/step - loss: 15.0024 - mae: 1.7958 - val_loss: 8.7459 - val_mae: 1.4445\n",
      "Epoch 28/500\n",
      "913/913 [==============================] - 3s 4ms/step - loss: 13.9531 - mae: 1.7263 - val_loss: 28.8311 - val_mae: 2.6596\n",
      "Epoch 29/500\n",
      "913/913 [==============================] - 3s 3ms/step - loss: 14.6383 - mae: 1.8013 - val_loss: 11.6225 - val_mae: 1.5133\n",
      "Epoch 30/500\n",
      "913/913 [==============================] - 3s 3ms/step - loss: 14.7319 - mae: 1.7610 - val_loss: 16.5676 - val_mae: 1.7274\n",
      "Epoch 31/500\n",
      "913/913 [==============================] - 4s 4ms/step - loss: 14.2146 - mae: 1.7354 - val_loss: 11.5973 - val_mae: 1.4017\n",
      "Epoch 32/500\n",
      "913/913 [==============================] - 4s 4ms/step - loss: 12.7089 - mae: 1.6277 - val_loss: 8.9184 - val_mae: 1.4898\n",
      "Epoch 33/500\n",
      "913/913 [==============================] - 3s 4ms/step - loss: 13.2736 - mae: 1.6425 - val_loss: 15.6599 - val_mae: 2.2640\n",
      "Epoch 34/500\n",
      "913/913 [==============================] - 3s 4ms/step - loss: 13.5635 - mae: 1.7280 - val_loss: 11.4049 - val_mae: 1.4779\n",
      "Epoch 35/500\n",
      "913/913 [==============================] - 3s 4ms/step - loss: 13.6621 - mae: 1.7002 - val_loss: 11.3349 - val_mae: 1.5075\n",
      "Epoch 36/500\n",
      "913/913 [==============================] - 3s 3ms/step - loss: 14.9830 - mae: 1.7537 - val_loss: 20.7136 - val_mae: 2.3390\n",
      "Epoch 37/500\n",
      "913/913 [==============================] - 3s 3ms/step - loss: 14.7252 - mae: 1.7436 - val_loss: 10.7811 - val_mae: 1.4462\n",
      "Epoch 38/500\n",
      "913/913 [==============================] - 3s 3ms/step - loss: 13.8418 - mae: 1.6926 - val_loss: 16.1387 - val_mae: 1.6015\n",
      "Epoch 39/500\n",
      "913/913 [==============================] - 3s 3ms/step - loss: 10.8876 - mae: 1.4860 - val_loss: 18.3803 - val_mae: 1.8328\n",
      "Epoch 40/500\n",
      "913/913 [==============================] - 3s 3ms/step - loss: 15.5596 - mae: 1.8094 - val_loss: 15.0881 - val_mae: 1.4947\n",
      "Epoch 41/500\n",
      "913/913 [==============================] - 4s 4ms/step - loss: 13.0571 - mae: 1.6352 - val_loss: 8.4504 - val_mae: 1.3207\n",
      "Epoch 42/500\n",
      "913/913 [==============================] - 3s 3ms/step - loss: 11.9795 - mae: 1.5383 - val_loss: 6.1656 - val_mae: 1.2274\n",
      "Epoch 43/500\n",
      "913/913 [==============================] - 3s 3ms/step - loss: 13.5477 - mae: 1.6605 - val_loss: 25.6892 - val_mae: 2.0534\n",
      "Epoch 44/500\n",
      "913/913 [==============================] - 4s 4ms/step - loss: 14.0395 - mae: 1.7035 - val_loss: 7.3148 - val_mae: 1.2066\n",
      "Epoch 45/500\n",
      "913/913 [==============================] - 3s 3ms/step - loss: 10.4015 - mae: 1.4481 - val_loss: 7.8657 - val_mae: 1.3540\n",
      "Epoch 46/500\n",
      "913/913 [==============================] - 3s 3ms/step - loss: 10.4436 - mae: 1.4397 - val_loss: 9.2682 - val_mae: 1.4955\n",
      "Epoch 47/500\n",
      "913/913 [==============================] - 3s 3ms/step - loss: 15.9140 - mae: 1.8080 - val_loss: 8.2609 - val_mae: 1.2776\n",
      "Epoch 48/500\n",
      "913/913 [==============================] - 3s 3ms/step - loss: 10.6574 - mae: 1.4604 - val_loss: 7.2972 - val_mae: 1.3308\n",
      "Epoch 49/500\n",
      "913/913 [==============================] - 4s 4ms/step - loss: 11.4918 - mae: 1.4807 - val_loss: 26.3856 - val_mae: 2.5768\n",
      "Epoch 50/500\n",
      "913/913 [==============================] - 3s 4ms/step - loss: 12.0872 - mae: 1.5733 - val_loss: 10.0749 - val_mae: 1.3694\n",
      "Epoch 51/500\n",
      "913/913 [==============================] - 3s 3ms/step - loss: 9.3353 - mae: 1.3714 - val_loss: 7.0684 - val_mae: 1.1150\n",
      "Epoch 52/500\n",
      "913/913 [==============================] - 3s 4ms/step - loss: 9.9301 - mae: 1.3908 - val_loss: 15.8537 - val_mae: 1.6479\n",
      "Epoch 53/500\n",
      "913/913 [==============================] - 3s 4ms/step - loss: 11.4938 - mae: 1.5192 - val_loss: 6.6817 - val_mae: 1.1712\n",
      "Epoch 54/500\n",
      "913/913 [==============================] - 3s 3ms/step - loss: 9.3592 - mae: 1.3521 - val_loss: 16.0568 - val_mae: 1.7247\n",
      "Epoch 55/500\n",
      "913/913 [==============================] - 3s 3ms/step - loss: 10.6895 - mae: 1.4353 - val_loss: 7.2967 - val_mae: 1.2250\n",
      "Epoch 56/500\n",
      "913/913 [==============================] - 3s 3ms/step - loss: 13.1158 - mae: 1.6259 - val_loss: 12.8228 - val_mae: 1.5001\n",
      "Epoch 57/500\n",
      "913/913 [==============================] - 3s 3ms/step - loss: 13.5379 - mae: 1.6545 - val_loss: 8.2214 - val_mae: 1.2562\n",
      "Epoch 58/500\n",
      "913/913 [==============================] - 3s 3ms/step - loss: 9.7043 - mae: 1.4042 - val_loss: 5.8427 - val_mae: 1.2124\n",
      "Epoch 59/500\n",
      "913/913 [==============================] - 3s 3ms/step - loss: 8.8726 - mae: 1.3143 - val_loss: 9.7315 - val_mae: 1.2713\n",
      "Epoch 60/500\n",
      "913/913 [==============================] - 3s 3ms/step - loss: 9.4962 - mae: 1.3794 - val_loss: 12.4937 - val_mae: 1.5097\n",
      "Epoch 61/500\n",
      "913/913 [==============================] - 3s 3ms/step - loss: 9.3528 - mae: 1.3546 - val_loss: 6.1733 - val_mae: 1.0220\n",
      "Epoch 62/500\n",
      "913/913 [==============================] - 3s 3ms/step - loss: 9.7598 - mae: 1.3582 - val_loss: 11.5344 - val_mae: 1.8425\n",
      "Epoch 63/500\n",
      "913/913 [==============================] - 3s 3ms/step - loss: 8.8685 - mae: 1.3244 - val_loss: 21.0016 - val_mae: 2.2303\n",
      "Epoch 64/500\n",
      "913/913 [==============================] - 3s 3ms/step - loss: 8.6968 - mae: 1.2891 - val_loss: 17.8353 - val_mae: 2.2280\n",
      "Epoch 65/500\n",
      "913/913 [==============================] - 3s 3ms/step - loss: 10.8205 - mae: 1.4436 - val_loss: 7.0281 - val_mae: 1.2697\n",
      "Epoch 66/500\n",
      "913/913 [==============================] - 3s 3ms/step - loss: 10.9839 - mae: 1.4292 - val_loss: 11.0783 - val_mae: 1.3867\n",
      "Epoch 67/500\n",
      "913/913 [==============================] - 3s 3ms/step - loss: 9.1012 - mae: 1.3371 - val_loss: 7.4429 - val_mae: 1.2475\n",
      "Epoch 68/500\n",
      "913/913 [==============================] - 3s 3ms/step - loss: 14.7912 - mae: 1.7135 - val_loss: 7.6580 - val_mae: 1.1870\n",
      "Epoch 69/500\n",
      "913/913 [==============================] - 3s 3ms/step - loss: 11.0774 - mae: 1.4637 - val_loss: 4.7453 - val_mae: 1.0623\n",
      "Epoch 70/500\n",
      "913/913 [==============================] - 3s 3ms/step - loss: 8.5830 - mae: 1.2958 - val_loss: 11.5455 - val_mae: 1.4080\n",
      "Epoch 71/500\n",
      "913/913 [==============================] - 3s 3ms/step - loss: 9.2425 - mae: 1.3172 - val_loss: 12.4975 - val_mae: 1.7598\n",
      "Epoch 72/500\n",
      "913/913 [==============================] - 3s 3ms/step - loss: 8.9289 - mae: 1.3018 - val_loss: 5.7883 - val_mae: 1.0440\n",
      "Epoch 73/500\n",
      "913/913 [==============================] - 3s 3ms/step - loss: 12.0122 - mae: 1.4804 - val_loss: 15.0543 - val_mae: 1.6459\n",
      "Epoch 74/500\n",
      "913/913 [==============================] - 3s 3ms/step - loss: 9.0420 - mae: 1.3572 - val_loss: 8.2984 - val_mae: 1.2614\n",
      "Epoch 75/500\n",
      "913/913 [==============================] - 3s 3ms/step - loss: 8.3589 - mae: 1.2750 - val_loss: 13.8993 - val_mae: 1.8535\n",
      "Epoch 76/500\n",
      "913/913 [==============================] - 3s 3ms/step - loss: 9.9218 - mae: 1.3744 - val_loss: 5.3126 - val_mae: 1.0816\n",
      "Epoch 77/500\n",
      "913/913 [==============================] - 3s 3ms/step - loss: 8.4397 - mae: 1.2576 - val_loss: 8.2732 - val_mae: 1.1339\n",
      "Epoch 78/500\n",
      "913/913 [==============================] - 3s 3ms/step - loss: 7.4578 - mae: 1.2071 - val_loss: 8.6245 - val_mae: 1.4327\n",
      "Epoch 79/500\n",
      "913/913 [==============================] - 3s 3ms/step - loss: 8.7538 - mae: 1.2777 - val_loss: 6.3872 - val_mae: 1.2724\n",
      "Epoch 80/500\n",
      "913/913 [==============================] - 3s 3ms/step - loss: 11.0299 - mae: 1.4507 - val_loss: 20.1054 - val_mae: 2.0611\n",
      "Epoch 81/500\n",
      "913/913 [==============================] - 3s 3ms/step - loss: 9.0986 - mae: 1.3088 - val_loss: 6.4430 - val_mae: 1.3178\n",
      "Epoch 82/500\n",
      "913/913 [==============================] - 3s 3ms/step - loss: 8.5875 - mae: 1.2970 - val_loss: 7.7361 - val_mae: 1.1505\n",
      "Epoch 83/500\n",
      "913/913 [==============================] - 3s 3ms/step - loss: 8.9216 - mae: 1.2923 - val_loss: 6.1528 - val_mae: 1.1247\n",
      "Epoch 84/500\n",
      "913/913 [==============================] - 3s 3ms/step - loss: 8.9033 - mae: 1.2829 - val_loss: 9.0907 - val_mae: 1.2584\n",
      "Epoch 85/500\n",
      "913/913 [==============================] - 3s 3ms/step - loss: 10.0047 - mae: 1.3558 - val_loss: 8.7631 - val_mae: 1.2399\n",
      "Epoch 86/500\n",
      "913/913 [==============================] - 3s 3ms/step - loss: 7.4878 - mae: 1.2104 - val_loss: 4.5809 - val_mae: 0.9628\n",
      "Epoch 87/500\n",
      "913/913 [==============================] - 3s 3ms/step - loss: 10.5440 - mae: 1.3968 - val_loss: 6.6408 - val_mae: 1.2196\n",
      "Epoch 88/500\n",
      "913/913 [==============================] - 3s 3ms/step - loss: 7.4481 - mae: 1.1844 - val_loss: 12.5762 - val_mae: 1.5901\n",
      "Epoch 89/500\n",
      "913/913 [==============================] - 3s 3ms/step - loss: 8.3501 - mae: 1.2374 - val_loss: 6.9089 - val_mae: 1.2057\n",
      "Epoch 90/500\n",
      "913/913 [==============================] - 3s 3ms/step - loss: 10.1311 - mae: 1.3473 - val_loss: 5.6101 - val_mae: 1.0361\n",
      "Epoch 91/500\n",
      "913/913 [==============================] - 3s 3ms/step - loss: 6.4471 - mae: 1.0902 - val_loss: 5.0204 - val_mae: 0.9070\n",
      "Epoch 92/500\n",
      "913/913 [==============================] - 3s 3ms/step - loss: 11.1858 - mae: 1.4310 - val_loss: 6.3791 - val_mae: 1.2617\n",
      "Epoch 93/500\n",
      "913/913 [==============================] - 3s 3ms/step - loss: 8.1881 - mae: 1.2347 - val_loss: 12.7888 - val_mae: 1.4986\n",
      "Epoch 94/500\n",
      "913/913 [==============================] - 3s 3ms/step - loss: 8.4023 - mae: 1.2501 - val_loss: 6.8222 - val_mae: 1.1160\n",
      "Epoch 95/500\n",
      "913/913 [==============================] - 3s 3ms/step - loss: 8.9143 - mae: 1.2682 - val_loss: 7.1205 - val_mae: 1.0928\n",
      "Epoch 96/500\n",
      "913/913 [==============================] - 3s 3ms/step - loss: 8.1449 - mae: 1.2235 - val_loss: 4.2865 - val_mae: 0.8818\n",
      "Epoch 97/500\n",
      "913/913 [==============================] - 3s 3ms/step - loss: 12.5287 - mae: 1.5335 - val_loss: 6.2931 - val_mae: 1.0469\n",
      "Epoch 98/500\n",
      "913/913 [==============================] - 3s 3ms/step - loss: 7.9492 - mae: 1.2353 - val_loss: 4.7922 - val_mae: 0.9568\n",
      "Epoch 99/500\n",
      "913/913 [==============================] - 3s 3ms/step - loss: 7.5609 - mae: 1.2023 - val_loss: 4.5556 - val_mae: 1.0083\n",
      "Epoch 100/500\n",
      "913/913 [==============================] - 3s 3ms/step - loss: 8.2921 - mae: 1.2359 - val_loss: 5.4694 - val_mae: 1.0352\n",
      "Epoch 101/500\n",
      "913/913 [==============================] - 3s 3ms/step - loss: 9.8404 - mae: 1.3238 - val_loss: 41.7967 - val_mae: 2.4348\n",
      "Epoch 102/500\n",
      "913/913 [==============================] - 3s 3ms/step - loss: 7.9303 - mae: 1.2489 - val_loss: 21.5147 - val_mae: 1.9720\n",
      "Epoch 103/500\n",
      "913/913 [==============================] - 3s 3ms/step - loss: 11.3921 - mae: 1.4625 - val_loss: 5.0359 - val_mae: 0.9479\n",
      "Epoch 104/500\n",
      "913/913 [==============================] - 3s 3ms/step - loss: 8.7657 - mae: 1.2680 - val_loss: 34.4149 - val_mae: 2.7328\n",
      "Epoch 105/500\n",
      "913/913 [==============================] - 3s 3ms/step - loss: 9.1572 - mae: 1.3355 - val_loss: 8.9495 - val_mae: 1.1865\n",
      "Epoch 106/500\n",
      "913/913 [==============================] - 3s 3ms/step - loss: 7.2759 - mae: 1.1668 - val_loss: 6.2376 - val_mae: 1.1706\n",
      "Epoch 107/500\n",
      "913/913 [==============================] - 3s 3ms/step - loss: 7.3059 - mae: 1.1731 - val_loss: 18.0397 - val_mae: 1.7293\n",
      "Epoch 108/500\n",
      "913/913 [==============================] - 3s 3ms/step - loss: 7.2179 - mae: 1.1430 - val_loss: 4.2093 - val_mae: 0.8898\n",
      "Epoch 109/500\n",
      "913/913 [==============================] - 3s 3ms/step - loss: 7.1417 - mae: 1.1402 - val_loss: 18.9874 - val_mae: 1.8423\n",
      "Epoch 110/500\n",
      "913/913 [==============================] - 3s 3ms/step - loss: 6.2449 - mae: 1.0867 - val_loss: 5.1956 - val_mae: 0.9469\n",
      "Epoch 111/500\n",
      "913/913 [==============================] - 3s 3ms/step - loss: 10.2835 - mae: 1.3708 - val_loss: 5.4314 - val_mae: 0.9668\n",
      "Epoch 112/500\n",
      "913/913 [==============================] - 3s 3ms/step - loss: 8.7897 - mae: 1.2745 - val_loss: 7.1171 - val_mae: 1.3087\n",
      "Epoch 113/500\n",
      "913/913 [==============================] - 3s 3ms/step - loss: 7.1255 - mae: 1.1645 - val_loss: 3.6950 - val_mae: 0.8951\n",
      "Epoch 114/500\n",
      "913/913 [==============================] - 3s 3ms/step - loss: 6.7351 - mae: 1.1047 - val_loss: 4.5247 - val_mae: 0.8526\n",
      "Epoch 115/500\n",
      "913/913 [==============================] - 3s 3ms/step - loss: 6.8531 - mae: 1.1282 - val_loss: 10.3097 - val_mae: 1.5675\n",
      "Epoch 116/500\n",
      "913/913 [==============================] - 3s 3ms/step - loss: 8.4742 - mae: 1.2621 - val_loss: 14.9254 - val_mae: 1.7645\n",
      "Epoch 117/500\n",
      "913/913 [==============================] - 3s 3ms/step - loss: 6.6796 - mae: 1.1184 - val_loss: 7.8469 - val_mae: 1.3598\n",
      "Epoch 118/500\n",
      "913/913 [==============================] - 3s 3ms/step - loss: 6.2328 - mae: 1.0816 - val_loss: 5.8206 - val_mae: 1.0893\n",
      "Epoch 119/500\n",
      "913/913 [==============================] - 3s 3ms/step - loss: 6.6845 - mae: 1.1168 - val_loss: 9.8770 - val_mae: 1.3492\n",
      "Epoch 120/500\n",
      "913/913 [==============================] - 3s 3ms/step - loss: 8.8268 - mae: 1.2467 - val_loss: 7.1504 - val_mae: 1.0964\n",
      "Epoch 121/500\n",
      "913/913 [==============================] - 3s 3ms/step - loss: 7.1088 - mae: 1.1504 - val_loss: 4.4688 - val_mae: 0.8594\n",
      "Epoch 122/500\n",
      "913/913 [==============================] - 3s 3ms/step - loss: 7.3657 - mae: 1.1445 - val_loss: 12.0825 - val_mae: 1.5347\n",
      "Epoch 123/500\n",
      "913/913 [==============================] - 3s 3ms/step - loss: 6.3681 - mae: 1.0914 - val_loss: 3.4101 - val_mae: 0.7478\n",
      "Epoch 124/500\n",
      "913/913 [==============================] - 3s 3ms/step - loss: 6.9536 - mae: 1.1214 - val_loss: 3.8233 - val_mae: 0.9118\n",
      "Epoch 125/500\n",
      "913/913 [==============================] - 3s 3ms/step - loss: 9.2046 - mae: 1.2987 - val_loss: 4.7080 - val_mae: 1.0242\n",
      "Epoch 126/500\n",
      "913/913 [==============================] - 3s 3ms/step - loss: 7.2721 - mae: 1.1594 - val_loss: 7.0426 - val_mae: 1.2610\n",
      "Epoch 127/500\n",
      "913/913 [==============================] - 3s 3ms/step - loss: 7.2467 - mae: 1.1626 - val_loss: 6.4566 - val_mae: 1.0289\n",
      "Epoch 128/500\n",
      "913/913 [==============================] - 3s 3ms/step - loss: 7.5558 - mae: 1.1653 - val_loss: 3.5565 - val_mae: 0.8595\n",
      "Epoch 129/500\n",
      "913/913 [==============================] - 3s 3ms/step - loss: 6.8598 - mae: 1.0966 - val_loss: 3.9043 - val_mae: 0.9536\n",
      "Epoch 130/500\n",
      "913/913 [==============================] - 3s 3ms/step - loss: 6.5147 - mae: 1.0831 - val_loss: 13.3118 - val_mae: 1.5087\n",
      "Epoch 131/500\n",
      "913/913 [==============================] - 3s 3ms/step - loss: 6.2050 - mae: 1.0632 - val_loss: 5.2579 - val_mae: 0.9848\n",
      "Epoch 132/500\n",
      "913/913 [==============================] - 3s 3ms/step - loss: 6.0093 - mae: 1.0372 - val_loss: 5.8632 - val_mae: 1.0636\n",
      "Epoch 133/500\n",
      "913/913 [==============================] - 3s 3ms/step - loss: 5.9258 - mae: 1.0561 - val_loss: 5.8087 - val_mae: 1.2008\n",
      "Epoch 134/500\n",
      "913/913 [==============================] - 3s 3ms/step - loss: 6.4807 - mae: 1.0596 - val_loss: 4.0181 - val_mae: 0.8878\n",
      "Epoch 135/500\n",
      "913/913 [==============================] - 3s 3ms/step - loss: 9.3235 - mae: 1.2839 - val_loss: 18.6913 - val_mae: 2.1211\n",
      "Epoch 136/500\n",
      "913/913 [==============================] - 3s 3ms/step - loss: 7.5831 - mae: 1.1780 - val_loss: 12.0490 - val_mae: 1.6457\n",
      "Epoch 137/500\n",
      "913/913 [==============================] - 3s 3ms/step - loss: 6.0092 - mae: 1.0393 - val_loss: 6.7159 - val_mae: 1.0251\n",
      "Epoch 138/500\n",
      "913/913 [==============================] - 3s 3ms/step - loss: 8.4633 - mae: 1.2365 - val_loss: 3.5568 - val_mae: 0.8949\n",
      "Epoch 139/500\n",
      "913/913 [==============================] - 3s 3ms/step - loss: 6.2532 - mae: 1.0640 - val_loss: 6.2129 - val_mae: 1.1874\n",
      "Epoch 140/500\n",
      "913/913 [==============================] - 3s 3ms/step - loss: 10.9134 - mae: 1.4243 - val_loss: 7.0507 - val_mae: 1.1450\n",
      "Epoch 141/500\n",
      "913/913 [==============================] - 3s 3ms/step - loss: 6.2540 - mae: 1.0729 - val_loss: 9.3612 - val_mae: 1.3309\n",
      "Epoch 142/500\n",
      "913/913 [==============================] - 3s 3ms/step - loss: 6.7797 - mae: 1.1202 - val_loss: 3.0068 - val_mae: 0.7708\n",
      "Epoch 143/500\n",
      "913/913 [==============================] - 3s 3ms/step - loss: 8.9928 - mae: 1.2430 - val_loss: 5.8704 - val_mae: 0.9830\n",
      "Epoch 144/500\n",
      "913/913 [==============================] - 3s 3ms/step - loss: 6.4091 - mae: 1.0701 - val_loss: 37.9800 - val_mae: 2.4243\n",
      "Epoch 145/500\n",
      "913/913 [==============================] - 3s 3ms/step - loss: 7.3767 - mae: 1.1702 - val_loss: 4.9949 - val_mae: 0.9147\n",
      "Epoch 146/500\n",
      "913/913 [==============================] - 3s 3ms/step - loss: 5.3017 - mae: 0.9795 - val_loss: 4.0794 - val_mae: 0.9291\n",
      "Epoch 147/500\n",
      "913/913 [==============================] - 3s 3ms/step - loss: 8.6364 - mae: 1.2372 - val_loss: 3.1896 - val_mae: 0.7899\n",
      "Epoch 148/500\n",
      "913/913 [==============================] - 3s 3ms/step - loss: 7.4032 - mae: 1.1412 - val_loss: 17.1436 - val_mae: 1.9213\n",
      "Epoch 149/500\n",
      "913/913 [==============================] - 3s 3ms/step - loss: 7.0115 - mae: 1.1092 - val_loss: 4.4919 - val_mae: 0.9571\n",
      "Epoch 150/500\n",
      "913/913 [==============================] - 3s 3ms/step - loss: 6.9081 - mae: 1.1007 - val_loss: 4.5059 - val_mae: 1.0083\n",
      "Epoch 151/500\n",
      "913/913 [==============================] - 3s 3ms/step - loss: 6.6142 - mae: 1.0683 - val_loss: 4.9698 - val_mae: 1.0720\n",
      "Epoch 152/500\n",
      "913/913 [==============================] - 3s 3ms/step - loss: 8.4528 - mae: 1.2464 - val_loss: 4.8394 - val_mae: 0.9970\n",
      "Epoch 153/500\n",
      "913/913 [==============================] - 3s 3ms/step - loss: 5.6560 - mae: 1.0068 - val_loss: 14.4164 - val_mae: 1.6459\n",
      "Epoch 154/500\n",
      "913/913 [==============================] - 3s 3ms/step - loss: 6.4101 - mae: 1.0626 - val_loss: 3.0141 - val_mae: 0.7903\n",
      "Epoch 155/500\n",
      "913/913 [==============================] - 3s 3ms/step - loss: 5.9106 - mae: 1.0219 - val_loss: 15.1403 - val_mae: 1.9926\n",
      "Epoch 156/500\n",
      "913/913 [==============================] - 3s 3ms/step - loss: 6.3223 - mae: 1.0343 - val_loss: 4.4622 - val_mae: 0.9343\n",
      "Epoch 157/500\n",
      "913/913 [==============================] - 3s 3ms/step - loss: 7.1879 - mae: 1.1351 - val_loss: 5.2668 - val_mae: 1.0000\n",
      "Epoch 158/500\n",
      "913/913 [==============================] - 3s 3ms/step - loss: 5.5636 - mae: 1.0010 - val_loss: 4.8779 - val_mae: 0.8709\n",
      "Epoch 159/500\n",
      "913/913 [==============================] - 3s 3ms/step - loss: 7.0607 - mae: 1.1037 - val_loss: 3.3813 - val_mae: 0.7520\n",
      "Epoch 160/500\n",
      "913/913 [==============================] - 3s 3ms/step - loss: 7.2196 - mae: 1.1209 - val_loss: 4.1265 - val_mae: 0.8514\n",
      "Epoch 161/500\n",
      "913/913 [==============================] - 3s 3ms/step - loss: 6.4604 - mae: 1.0561 - val_loss: 10.1273 - val_mae: 1.6078\n",
      "Epoch 162/500\n",
      "913/913 [==============================] - 3s 3ms/step - loss: 4.9830 - mae: 0.9673 - val_loss: 3.4776 - val_mae: 0.8765\n",
      "Epoch 163/500\n",
      "913/913 [==============================] - 3s 3ms/step - loss: 5.4904 - mae: 0.9883 - val_loss: 13.8790 - val_mae: 1.8618\n",
      "Epoch 164/500\n",
      "913/913 [==============================] - 3s 3ms/step - loss: 7.8017 - mae: 1.1736 - val_loss: 49.5867 - val_mae: 3.6752\n",
      "Epoch 165/500\n",
      "913/913 [==============================] - 3s 3ms/step - loss: 7.1306 - mae: 1.1125 - val_loss: 7.3422 - val_mae: 1.3653\n",
      "Epoch 166/500\n",
      "913/913 [==============================] - 3s 3ms/step - loss: 7.3400 - mae: 1.1757 - val_loss: 4.0172 - val_mae: 0.8503\n",
      "Epoch 167/500\n",
      "913/913 [==============================] - 3s 3ms/step - loss: 7.6597 - mae: 1.1632 - val_loss: 4.7970 - val_mae: 1.0311\n",
      "Epoch 168/500\n",
      "913/913 [==============================] - 3s 3ms/step - loss: 5.4303 - mae: 0.9784 - val_loss: 6.5384 - val_mae: 1.1986\n",
      "Epoch 169/500\n",
      "913/913 [==============================] - 3s 3ms/step - loss: 6.0857 - mae: 1.0377 - val_loss: 3.1494 - val_mae: 0.8080\n",
      "Epoch 170/500\n",
      "913/913 [==============================] - 3s 3ms/step - loss: 4.6285 - mae: 0.9112 - val_loss: 4.2577 - val_mae: 0.9509\n",
      "Epoch 171/500\n",
      "913/913 [==============================] - 3s 3ms/step - loss: 7.8576 - mae: 1.1793 - val_loss: 10.5433 - val_mae: 1.6468\n",
      "Epoch 172/500\n",
      "913/913 [==============================] - 3s 3ms/step - loss: 7.0314 - mae: 1.1512 - val_loss: 4.0526 - val_mae: 0.8446\n",
      "Epoch 173/500\n",
      "913/913 [==============================] - 3s 3ms/step - loss: 5.4739 - mae: 1.0009 - val_loss: 3.9359 - val_mae: 0.8631\n",
      "Epoch 174/500\n",
      "913/913 [==============================] - 3s 3ms/step - loss: 5.2870 - mae: 0.9789 - val_loss: 3.4022 - val_mae: 0.8419\n",
      "Epoch 175/500\n",
      "913/913 [==============================] - 3s 3ms/step - loss: 5.4018 - mae: 0.9743 - val_loss: 6.0810 - val_mae: 1.1793\n",
      "Epoch 176/500\n",
      "913/913 [==============================] - 3s 3ms/step - loss: 6.1912 - mae: 1.0272 - val_loss: 4.4545 - val_mae: 0.8430\n",
      "Epoch 177/500\n",
      "913/913 [==============================] - 3s 3ms/step - loss: 6.3968 - mae: 1.0595 - val_loss: 4.4917 - val_mae: 0.8604\n",
      "Epoch 178/500\n",
      "913/913 [==============================] - 3s 3ms/step - loss: 7.1680 - mae: 1.1261 - val_loss: 9.7691 - val_mae: 1.6456\n",
      "Epoch 179/500\n",
      "913/913 [==============================] - 3s 3ms/step - loss: 5.4375 - mae: 0.9668 - val_loss: 5.0546 - val_mae: 0.9193\n",
      "Epoch 180/500\n",
      "913/913 [==============================] - 3s 3ms/step - loss: 5.2456 - mae: 0.9755 - val_loss: 3.7279 - val_mae: 0.8588\n",
      "Epoch 181/500\n",
      "913/913 [==============================] - 3s 3ms/step - loss: 6.9384 - mae: 1.1162 - val_loss: 3.2840 - val_mae: 0.7988\n",
      "Epoch 182/500\n",
      "913/913 [==============================] - 3s 3ms/step - loss: 5.5107 - mae: 0.9884 - val_loss: 3.8742 - val_mae: 0.8470\n",
      "Epoch 183/500\n",
      "913/913 [==============================] - 3s 3ms/step - loss: 6.5542 - mae: 1.0426 - val_loss: 14.7013 - val_mae: 2.1077\n",
      "Epoch 184/500\n",
      "913/913 [==============================] - 3s 3ms/step - loss: 7.5143 - mae: 1.1859 - val_loss: 2.9917 - val_mae: 0.7647\n",
      "Epoch 185/500\n",
      "913/913 [==============================] - 3s 3ms/step - loss: 6.0569 - mae: 1.0363 - val_loss: 5.9444 - val_mae: 1.1004\n",
      "Epoch 186/500\n",
      "913/913 [==============================] - 3s 3ms/step - loss: 5.0071 - mae: 0.9296 - val_loss: 7.6881 - val_mae: 1.2772\n",
      "Epoch 187/500\n",
      "913/913 [==============================] - 3s 3ms/step - loss: 8.1285 - mae: 1.1960 - val_loss: 8.0929 - val_mae: 1.1915\n",
      "Epoch 188/500\n",
      "913/913 [==============================] - 3s 3ms/step - loss: 7.5462 - mae: 1.1447 - val_loss: 5.4064 - val_mae: 1.0472\n",
      "Epoch 189/500\n",
      "913/913 [==============================] - 3s 3ms/step - loss: 4.2081 - mae: 0.8774 - val_loss: 4.4186 - val_mae: 0.8169\n",
      "Epoch 190/500\n",
      "913/913 [==============================] - 3s 3ms/step - loss: 7.1889 - mae: 1.1183 - val_loss: 3.4556 - val_mae: 0.9025\n",
      "Epoch 191/500\n",
      "913/913 [==============================] - 3s 3ms/step - loss: 5.2231 - mae: 0.9707 - val_loss: 3.1466 - val_mae: 0.7799\n",
      "Epoch 192/500\n",
      "913/913 [==============================] - 3s 3ms/step - loss: 6.4809 - mae: 1.0692 - val_loss: 7.0155 - val_mae: 1.0772\n",
      "Epoch 193/500\n",
      "913/913 [==============================] - 3s 3ms/step - loss: 6.0868 - mae: 1.0457 - val_loss: 5.0468 - val_mae: 0.8613\n",
      "Epoch 194/500\n",
      "913/913 [==============================] - 3s 3ms/step - loss: 6.3637 - mae: 1.0505 - val_loss: 2.5351 - val_mae: 0.6815\n",
      "Epoch 195/500\n",
      "913/913 [==============================] - 3s 3ms/step - loss: 4.4518 - mae: 0.8881 - val_loss: 4.4406 - val_mae: 0.9681\n",
      "Epoch 196/500\n",
      "913/913 [==============================] - 3s 3ms/step - loss: 5.7170 - mae: 1.0002 - val_loss: 2.6596 - val_mae: 0.7293\n",
      "Epoch 197/500\n",
      "913/913 [==============================] - 3s 3ms/step - loss: 6.7011 - mae: 1.0672 - val_loss: 7.3615 - val_mae: 1.2200\n",
      "Epoch 198/500\n",
      "913/913 [==============================] - 3s 3ms/step - loss: 4.8895 - mae: 0.9061 - val_loss: 3.3217 - val_mae: 0.7361\n",
      "Epoch 199/500\n",
      "913/913 [==============================] - 3s 3ms/step - loss: 5.5697 - mae: 0.9894 - val_loss: 2.6310 - val_mae: 0.7207\n",
      "Epoch 200/500\n",
      "913/913 [==============================] - 3s 3ms/step - loss: 7.4226 - mae: 1.1318 - val_loss: 4.0347 - val_mae: 0.8878\n",
      "Epoch 201/500\n",
      "913/913 [==============================] - 3s 3ms/step - loss: 6.6102 - mae: 1.0669 - val_loss: 3.1566 - val_mae: 0.7458\n",
      "Epoch 202/500\n",
      "913/913 [==============================] - 3s 3ms/step - loss: 6.5947 - mae: 1.0626 - val_loss: 6.6232 - val_mae: 1.0315\n",
      "Epoch 203/500\n",
      "913/913 [==============================] - 3s 3ms/step - loss: 5.3797 - mae: 0.9451 - val_loss: 3.6990 - val_mae: 0.9077\n",
      "Epoch 204/500\n",
      "913/913 [==============================] - 3s 3ms/step - loss: 5.4518 - mae: 0.9740 - val_loss: 23.3401 - val_mae: 2.0656\n",
      "Epoch 205/500\n",
      "913/913 [==============================] - 3s 3ms/step - loss: 6.7967 - mae: 1.0836 - val_loss: 2.3264 - val_mae: 0.6643\n",
      "Epoch 206/500\n",
      "913/913 [==============================] - 3s 3ms/step - loss: 6.8641 - mae: 1.0548 - val_loss: 3.8633 - val_mae: 0.7724\n",
      "Epoch 207/500\n",
      "913/913 [==============================] - 3s 3ms/step - loss: 5.0845 - mae: 0.9033 - val_loss: 5.0596 - val_mae: 0.9148\n",
      "Epoch 208/500\n",
      "913/913 [==============================] - 3s 3ms/step - loss: 4.3660 - mae: 0.8769 - val_loss: 3.5305 - val_mae: 0.8558\n",
      "Epoch 209/500\n",
      "913/913 [==============================] - 3s 3ms/step - loss: 5.2794 - mae: 0.9564 - val_loss: 18.4926 - val_mae: 1.6531\n",
      "Epoch 210/500\n",
      "913/913 [==============================] - 3s 3ms/step - loss: 6.5133 - mae: 1.0623 - val_loss: 5.7912 - val_mae: 0.9448\n",
      "Epoch 211/500\n",
      "913/913 [==============================] - 3s 3ms/step - loss: 6.4140 - mae: 1.0547 - val_loss: 3.6615 - val_mae: 0.8656\n",
      "Epoch 212/500\n",
      "913/913 [==============================] - 3s 3ms/step - loss: 4.5763 - mae: 0.8851 - val_loss: 2.4265 - val_mae: 0.6421\n",
      "Epoch 213/500\n",
      "913/913 [==============================] - 3s 3ms/step - loss: 6.6516 - mae: 1.0622 - val_loss: 4.6210 - val_mae: 1.0767\n",
      "Epoch 214/500\n",
      "913/913 [==============================] - 3s 3ms/step - loss: 8.4392 - mae: 1.2390 - val_loss: 5.1533 - val_mae: 0.9396\n",
      "Epoch 215/500\n",
      "913/913 [==============================] - 3s 3ms/step - loss: 7.0138 - mae: 1.0506 - val_loss: 3.8431 - val_mae: 0.8519\n",
      "Epoch 216/500\n",
      "913/913 [==============================] - 3s 3ms/step - loss: 5.5215 - mae: 0.9680 - val_loss: 2.6554 - val_mae: 0.6572\n",
      "Epoch 217/500\n",
      "913/913 [==============================] - 3s 3ms/step - loss: 4.7960 - mae: 0.8942 - val_loss: 3.9874 - val_mae: 0.8821\n",
      "Epoch 218/500\n",
      "913/913 [==============================] - 3s 3ms/step - loss: 7.4299 - mae: 1.0828 - val_loss: 9.5604 - val_mae: 1.4338\n",
      "Epoch 219/500\n",
      "913/913 [==============================] - 3s 4ms/step - loss: 4.4291 - mae: 0.9102 - val_loss: 4.6413 - val_mae: 0.8832\n",
      "Epoch 220/500\n",
      "913/913 [==============================] - 3s 3ms/step - loss: 6.4617 - mae: 1.0726 - val_loss: 5.1651 - val_mae: 0.8964\n",
      "Epoch 221/500\n",
      "913/913 [==============================] - 3s 3ms/step - loss: 4.9605 - mae: 0.9218 - val_loss: 4.0864 - val_mae: 0.9338\n",
      "Epoch 222/500\n",
      "913/913 [==============================] - 3s 3ms/step - loss: 4.6702 - mae: 0.8827 - val_loss: 8.0284 - val_mae: 1.4220\n",
      "Epoch 223/500\n",
      "913/913 [==============================] - 3s 3ms/step - loss: 4.8594 - mae: 0.9151 - val_loss: 4.5782 - val_mae: 0.9211\n",
      "Epoch 224/500\n",
      "913/913 [==============================] - 3s 3ms/step - loss: 5.5419 - mae: 0.9503 - val_loss: 7.6573 - val_mae: 1.2397\n",
      "Epoch 225/500\n",
      "913/913 [==============================] - 3s 3ms/step - loss: 4.8662 - mae: 0.9141 - val_loss: 2.8927 - val_mae: 0.7398\n",
      "Epoch 226/500\n",
      "913/913 [==============================] - 3s 3ms/step - loss: 4.6934 - mae: 0.9170 - val_loss: 5.0122 - val_mae: 1.0873\n",
      "Epoch 227/500\n",
      "913/913 [==============================] - 3s 3ms/step - loss: 6.4035 - mae: 1.0383 - val_loss: 4.5067 - val_mae: 0.8949\n",
      "Epoch 228/500\n",
      "913/913 [==============================] - 3s 3ms/step - loss: 4.8112 - mae: 0.9201 - val_loss: 3.4251 - val_mae: 0.8319\n",
      "Epoch 229/500\n",
      "913/913 [==============================] - 3s 3ms/step - loss: 4.3724 - mae: 0.8743 - val_loss: 4.1340 - val_mae: 0.9454\n",
      "Epoch 230/500\n",
      "913/913 [==============================] - 3s 3ms/step - loss: 4.8290 - mae: 0.9173 - val_loss: 3.9652 - val_mae: 0.7920\n",
      "Epoch 231/500\n",
      "913/913 [==============================] - 3s 3ms/step - loss: 5.0848 - mae: 0.9199 - val_loss: 2.1978 - val_mae: 0.6091\n",
      "Epoch 232/500\n",
      "913/913 [==============================] - 3s 3ms/step - loss: 3.7847 - mae: 0.8028 - val_loss: 4.3068 - val_mae: 0.9532\n",
      "Epoch 233/500\n",
      "913/913 [==============================] - 3s 3ms/step - loss: 5.2185 - mae: 0.9357 - val_loss: 4.8317 - val_mae: 0.9143\n",
      "Epoch 234/500\n",
      "913/913 [==============================] - 3s 3ms/step - loss: 6.8340 - mae: 1.0554 - val_loss: 2.2524 - val_mae: 0.6373\n",
      "Epoch 235/500\n",
      "913/913 [==============================] - 3s 3ms/step - loss: 4.4078 - mae: 0.8654 - val_loss: 3.4464 - val_mae: 0.8045\n",
      "Epoch 236/500\n",
      "913/913 [==============================] - 3s 3ms/step - loss: 4.7371 - mae: 0.8857 - val_loss: 2.8793 - val_mae: 0.7345\n",
      "Epoch 237/500\n",
      "913/913 [==============================] - 3s 3ms/step - loss: 3.3705 - mae: 0.7782 - val_loss: 3.6266 - val_mae: 0.8385\n",
      "Epoch 238/500\n",
      "913/913 [==============================] - 3s 3ms/step - loss: 5.9915 - mae: 0.9735 - val_loss: 4.5083 - val_mae: 1.1740\n",
      "Epoch 239/500\n",
      "913/913 [==============================] - 3s 3ms/step - loss: 6.3248 - mae: 1.0589 - val_loss: 5.2202 - val_mae: 1.0813\n",
      "Epoch 240/500\n",
      "913/913 [==============================] - 3s 3ms/step - loss: 5.1189 - mae: 0.9286 - val_loss: 5.8212 - val_mae: 1.0978\n",
      "Epoch 241/500\n",
      "913/913 [==============================] - 3s 3ms/step - loss: 4.3624 - mae: 0.8705 - val_loss: 14.0361 - val_mae: 1.7818\n",
      "Epoch 242/500\n",
      "913/913 [==============================] - 3s 3ms/step - loss: 4.6490 - mae: 0.8903 - val_loss: 4.7418 - val_mae: 0.9376\n",
      "Epoch 243/500\n",
      "913/913 [==============================] - 3s 3ms/step - loss: 5.4134 - mae: 0.9618 - val_loss: 3.3537 - val_mae: 0.7232\n",
      "Epoch 244/500\n",
      "913/913 [==============================] - 3s 3ms/step - loss: 3.9923 - mae: 0.8255 - val_loss: 4.3093 - val_mae: 0.8291\n",
      "Epoch 245/500\n",
      "913/913 [==============================] - 3s 3ms/step - loss: 6.3585 - mae: 1.0215 - val_loss: 3.5701 - val_mae: 0.8658\n",
      "Epoch 246/500\n",
      "913/913 [==============================] - 3s 3ms/step - loss: 3.5262 - mae: 0.7802 - val_loss: 2.6376 - val_mae: 0.7662\n",
      "Epoch 247/500\n",
      "913/913 [==============================] - 3s 3ms/step - loss: 4.1662 - mae: 0.8333 - val_loss: 12.3599 - val_mae: 1.5923\n",
      "Epoch 248/500\n",
      "913/913 [==============================] - 3s 3ms/step - loss: 4.3364 - mae: 0.8621 - val_loss: 3.1117 - val_mae: 0.8051\n",
      "Epoch 249/500\n",
      "913/913 [==============================] - 3s 3ms/step - loss: 3.9026 - mae: 0.8102 - val_loss: 3.3693 - val_mae: 0.7572\n",
      "Epoch 250/500\n",
      "913/913 [==============================] - 3s 3ms/step - loss: 5.4811 - mae: 0.9549 - val_loss: 2.1968 - val_mae: 0.5731\n",
      "Epoch 251/500\n",
      "913/913 [==============================] - 3s 3ms/step - loss: 4.7734 - mae: 0.8947 - val_loss: 2.7496 - val_mae: 0.6815\n",
      "Epoch 252/500\n",
      "913/913 [==============================] - 3s 3ms/step - loss: 3.7113 - mae: 0.7957 - val_loss: 8.1382 - val_mae: 1.1015\n",
      "Epoch 253/500\n",
      "913/913 [==============================] - 3s 3ms/step - loss: 4.6347 - mae: 0.8816 - val_loss: 6.1407 - val_mae: 0.9006\n",
      "Epoch 254/500\n",
      "913/913 [==============================] - 3s 3ms/step - loss: 4.5648 - mae: 0.8896 - val_loss: 2.7366 - val_mae: 0.6695\n",
      "Epoch 255/500\n",
      "913/913 [==============================] - 3s 3ms/step - loss: 3.7867 - mae: 0.7910 - val_loss: 2.3786 - val_mae: 0.6183\n",
      "Epoch 256/500\n",
      "913/913 [==============================] - 3s 3ms/step - loss: 5.7607 - mae: 0.9934 - val_loss: 7.8595 - val_mae: 1.3834\n",
      "Epoch 257/500\n",
      "913/913 [==============================] - 3s 3ms/step - loss: 4.2796 - mae: 0.8309 - val_loss: 7.3093 - val_mae: 1.1399\n",
      "Epoch 258/500\n",
      "913/913 [==============================] - 3s 3ms/step - loss: 6.4108 - mae: 1.0425 - val_loss: 10.0748 - val_mae: 1.5333\n",
      "Epoch 259/500\n",
      "913/913 [==============================] - 3s 3ms/step - loss: 4.7587 - mae: 0.8710 - val_loss: 24.5670 - val_mae: 2.6365\n",
      "Epoch 260/500\n",
      "913/913 [==============================] - 3s 3ms/step - loss: 4.4062 - mae: 0.8721 - val_loss: 2.9622 - val_mae: 0.6940\n",
      "Epoch 261/500\n",
      "913/913 [==============================] - 3s 3ms/step - loss: 5.3239 - mae: 0.9129 - val_loss: 5.0407 - val_mae: 1.1147\n",
      "Epoch 262/500\n",
      "913/913 [==============================] - 3s 3ms/step - loss: 4.3540 - mae: 0.8546 - val_loss: 3.5545 - val_mae: 0.9093\n",
      "Epoch 263/500\n",
      "913/913 [==============================] - 3s 3ms/step - loss: 3.9428 - mae: 0.8222 - val_loss: 7.1814 - val_mae: 1.3529\n",
      "Epoch 264/500\n",
      "913/913 [==============================] - 3s 3ms/step - loss: 3.6239 - mae: 0.7897 - val_loss: 2.3179 - val_mae: 0.6364\n",
      "Epoch 265/500\n",
      "913/913 [==============================] - 3s 3ms/step - loss: 4.3057 - mae: 0.8639 - val_loss: 12.3048 - val_mae: 1.5118\n",
      "Epoch 266/500\n",
      "913/913 [==============================] - 3s 3ms/step - loss: 4.5447 - mae: 0.8890 - val_loss: 9.6094 - val_mae: 1.2871\n",
      "Epoch 267/500\n",
      "913/913 [==============================] - 3s 3ms/step - loss: 4.5435 - mae: 0.8734 - val_loss: 4.2800 - val_mae: 0.9662\n",
      "Epoch 268/500\n",
      "913/913 [==============================] - 3s 3ms/step - loss: 4.2481 - mae: 0.8437 - val_loss: 16.3564 - val_mae: 1.4740\n",
      "Epoch 269/500\n",
      "913/913 [==============================] - 3s 3ms/step - loss: 4.9703 - mae: 0.9041 - val_loss: 2.9926 - val_mae: 0.7207\n",
      "Epoch 270/500\n",
      "913/913 [==============================] - 3s 3ms/step - loss: 5.5972 - mae: 0.9562 - val_loss: 2.5597 - val_mae: 0.6661\n",
      "Epoch 271/500\n",
      "913/913 [==============================] - 3s 3ms/step - loss: 4.5108 - mae: 0.8601 - val_loss: 2.9607 - val_mae: 0.7808\n",
      "Epoch 272/500\n",
      "913/913 [==============================] - 3s 3ms/step - loss: 3.4536 - mae: 0.7642 - val_loss: 6.0973 - val_mae: 0.9833\n",
      "Epoch 273/500\n",
      "913/913 [==============================] - 3s 3ms/step - loss: 5.2041 - mae: 0.9216 - val_loss: 10.3675 - val_mae: 1.2436\n",
      "Epoch 274/500\n",
      "913/913 [==============================] - 3s 3ms/step - loss: 3.9344 - mae: 0.8216 - val_loss: 3.0612 - val_mae: 0.6661\n",
      "Epoch 275/500\n",
      "913/913 [==============================] - 3s 3ms/step - loss: 4.2836 - mae: 0.8496 - val_loss: 4.4584 - val_mae: 0.9099\n",
      "Epoch 276/500\n",
      "913/913 [==============================] - 3s 3ms/step - loss: 3.7820 - mae: 0.8026 - val_loss: 10.0615 - val_mae: 1.3450\n",
      "Epoch 277/500\n",
      "913/913 [==============================] - 3s 3ms/step - loss: 5.6780 - mae: 0.9764 - val_loss: 31.0338 - val_mae: 2.8500\n",
      "Epoch 278/500\n",
      "913/913 [==============================] - 3s 3ms/step - loss: 4.3140 - mae: 0.8563 - val_loss: 2.5444 - val_mae: 0.7020\n",
      "Epoch 279/500\n",
      "913/913 [==============================] - 3s 3ms/step - loss: 5.5140 - mae: 0.9682 - val_loss: 3.4794 - val_mae: 0.7928\n",
      "Epoch 280/500\n",
      "913/913 [==============================] - 3s 3ms/step - loss: 5.5506 - mae: 0.9473 - val_loss: 2.7367 - val_mae: 0.7111\n",
      "Epoch 281/500\n",
      "913/913 [==============================] - 3s 3ms/step - loss: 4.2436 - mae: 0.8483 - val_loss: 3.9970 - val_mae: 0.9881\n",
      "Epoch 282/500\n",
      "913/913 [==============================] - 3s 3ms/step - loss: 3.7010 - mae: 0.8090 - val_loss: 3.2030 - val_mae: 0.7293\n",
      "Epoch 283/500\n",
      "913/913 [==============================] - 3s 3ms/step - loss: 6.0000 - mae: 0.9858 - val_loss: 4.4803 - val_mae: 1.0050\n",
      "Epoch 284/500\n",
      "913/913 [==============================] - 3s 3ms/step - loss: 4.6461 - mae: 0.8846 - val_loss: 2.1693 - val_mae: 0.6553\n",
      "Epoch 285/500\n",
      "913/913 [==============================] - 3s 3ms/step - loss: 3.8374 - mae: 0.8081 - val_loss: 5.2815 - val_mae: 0.9571\n",
      "Epoch 286/500\n",
      "913/913 [==============================] - 3s 3ms/step - loss: 3.9540 - mae: 0.8171 - val_loss: 3.0078 - val_mae: 0.7704\n",
      "Epoch 287/500\n",
      "913/913 [==============================] - 3s 3ms/step - loss: 4.5898 - mae: 0.8610 - val_loss: 5.9590 - val_mae: 0.9814\n",
      "Epoch 288/500\n",
      "913/913 [==============================] - 3s 3ms/step - loss: 4.3012 - mae: 0.8494 - val_loss: 2.1510 - val_mae: 0.6457\n",
      "Epoch 289/500\n",
      "913/913 [==============================] - 3s 3ms/step - loss: 5.3544 - mae: 0.9181 - val_loss: 3.5228 - val_mae: 0.7816\n",
      "Epoch 290/500\n",
      "913/913 [==============================] - 3s 3ms/step - loss: 5.7644 - mae: 0.9820 - val_loss: 1.9739 - val_mae: 0.5684\n",
      "Epoch 291/500\n",
      "913/913 [==============================] - 3s 3ms/step - loss: 3.7064 - mae: 0.7985 - val_loss: 2.4270 - val_mae: 0.6160\n",
      "Epoch 292/500\n",
      "913/913 [==============================] - 3s 3ms/step - loss: 4.4039 - mae: 0.8673 - val_loss: 6.0163 - val_mae: 1.1264\n",
      "Epoch 293/500\n",
      "913/913 [==============================] - 3s 3ms/step - loss: 4.4967 - mae: 0.8472 - val_loss: 8.2071 - val_mae: 1.2271\n",
      "Epoch 294/500\n",
      "913/913 [==============================] - 3s 3ms/step - loss: 5.1707 - mae: 0.9156 - val_loss: 5.7352 - val_mae: 0.9885\n",
      "Epoch 295/500\n",
      "913/913 [==============================] - 3s 3ms/step - loss: 4.4212 - mae: 0.8708 - val_loss: 2.7612 - val_mae: 0.7424\n",
      "Epoch 296/500\n",
      "913/913 [==============================] - 3s 3ms/step - loss: 3.9148 - mae: 0.8176 - val_loss: 2.8913 - val_mae: 0.7080\n",
      "Epoch 297/500\n",
      "913/913 [==============================] - 3s 3ms/step - loss: 4.7763 - mae: 0.8745 - val_loss: 3.7391 - val_mae: 0.8742\n",
      "Epoch 298/500\n",
      "913/913 [==============================] - 3s 3ms/step - loss: 5.0458 - mae: 0.9151 - val_loss: 6.4065 - val_mae: 1.0574\n",
      "Epoch 299/500\n",
      "913/913 [==============================] - 3s 3ms/step - loss: 3.6823 - mae: 0.7879 - val_loss: 3.1765 - val_mae: 0.6928\n",
      "Epoch 300/500\n",
      "913/913 [==============================] - 3s 3ms/step - loss: 3.2983 - mae: 0.7579 - val_loss: 5.2228 - val_mae: 0.9864\n",
      "Epoch 301/500\n",
      "913/913 [==============================] - 3s 3ms/step - loss: 5.2568 - mae: 0.9320 - val_loss: 4.8309 - val_mae: 0.8914\n",
      "Epoch 302/500\n",
      "913/913 [==============================] - 3s 3ms/step - loss: 3.2880 - mae: 0.7571 - val_loss: 2.7695 - val_mae: 0.6777\n",
      "Epoch 303/500\n",
      "913/913 [==============================] - 3s 3ms/step - loss: 5.9019 - mae: 1.0185 - val_loss: 3.2930 - val_mae: 0.7544\n",
      "Epoch 304/500\n",
      "913/913 [==============================] - 3s 3ms/step - loss: 3.5341 - mae: 0.7720 - val_loss: 2.8187 - val_mae: 0.6797\n",
      "Epoch 305/500\n",
      "913/913 [==============================] - 3s 3ms/step - loss: 3.8122 - mae: 0.8072 - val_loss: 10.4690 - val_mae: 1.2750\n",
      "Epoch 306/500\n",
      "913/913 [==============================] - 3s 3ms/step - loss: 3.5943 - mae: 0.7794 - val_loss: 3.9302 - val_mae: 0.8537\n",
      "Epoch 307/500\n",
      "913/913 [==============================] - 3s 3ms/step - loss: 3.9412 - mae: 0.8086 - val_loss: 5.3751 - val_mae: 1.0243\n",
      "Epoch 308/500\n",
      "913/913 [==============================] - 3s 3ms/step - loss: 3.9907 - mae: 0.8267 - val_loss: 6.4631 - val_mae: 1.0555\n",
      "Epoch 309/500\n",
      "913/913 [==============================] - 3s 3ms/step - loss: 4.7225 - mae: 0.8905 - val_loss: 2.3096 - val_mae: 0.6771\n",
      "Epoch 310/500\n",
      "913/913 [==============================] - 3s 3ms/step - loss: 3.8898 - mae: 0.8107 - val_loss: 4.0327 - val_mae: 0.8628\n",
      "Epoch 311/500\n",
      "913/913 [==============================] - 3s 3ms/step - loss: 4.2193 - mae: 0.8539 - val_loss: 2.3160 - val_mae: 0.6287\n",
      "Epoch 312/500\n",
      "913/913 [==============================] - 3s 3ms/step - loss: 3.8749 - mae: 0.8038 - val_loss: 1.8622 - val_mae: 0.5532\n",
      "Epoch 313/500\n",
      "913/913 [==============================] - 3s 3ms/step - loss: 5.9615 - mae: 0.9949 - val_loss: 2.8619 - val_mae: 0.7555\n",
      "Epoch 314/500\n",
      "913/913 [==============================] - 3s 3ms/step - loss: 3.8150 - mae: 0.8131 - val_loss: 2.4996 - val_mae: 0.6633\n",
      "Epoch 315/500\n",
      "913/913 [==============================] - 3s 3ms/step - loss: 4.1076 - mae: 0.8263 - val_loss: 2.5821 - val_mae: 0.6723\n",
      "Epoch 316/500\n",
      "913/913 [==============================] - 3s 3ms/step - loss: 3.8247 - mae: 0.7717 - val_loss: 2.7084 - val_mae: 0.7160\n",
      "Epoch 317/500\n",
      "913/913 [==============================] - 3s 3ms/step - loss: 6.3871 - mae: 1.0161 - val_loss: 11.6514 - val_mae: 1.6704\n",
      "Epoch 318/500\n",
      "913/913 [==============================] - 3s 3ms/step - loss: 3.9660 - mae: 0.8189 - val_loss: 4.2703 - val_mae: 0.9263\n",
      "Epoch 319/500\n",
      "913/913 [==============================] - 3s 3ms/step - loss: 5.5082 - mae: 0.9147 - val_loss: 2.1396 - val_mae: 0.6717\n",
      "Epoch 320/500\n",
      "913/913 [==============================] - 3s 3ms/step - loss: 3.9422 - mae: 0.8289 - val_loss: 1.8210 - val_mae: 0.5538\n",
      "Epoch 321/500\n",
      "913/913 [==============================] - 3s 3ms/step - loss: 3.7771 - mae: 0.7768 - val_loss: 34.6827 - val_mae: 2.3531\n",
      "Epoch 322/500\n",
      "913/913 [==============================] - 3s 3ms/step - loss: 3.9113 - mae: 0.8100 - val_loss: 2.5588 - val_mae: 0.7210\n",
      "Epoch 323/500\n",
      "913/913 [==============================] - 3s 3ms/step - loss: 6.7110 - mae: 1.0351 - val_loss: 2.0773 - val_mae: 0.5814\n",
      "Epoch 324/500\n",
      "913/913 [==============================] - 3s 3ms/step - loss: 5.3603 - mae: 0.9048 - val_loss: 6.9398 - val_mae: 1.0356\n",
      "Epoch 325/500\n",
      "913/913 [==============================] - 3s 3ms/step - loss: 4.2383 - mae: 0.8535 - val_loss: 3.5067 - val_mae: 0.7920\n",
      "Epoch 326/500\n",
      "913/913 [==============================] - 3s 3ms/step - loss: 2.9676 - mae: 0.7139 - val_loss: 3.9073 - val_mae: 0.8307\n",
      "Epoch 327/500\n",
      "913/913 [==============================] - 3s 3ms/step - loss: 3.8534 - mae: 0.7953 - val_loss: 3.4302 - val_mae: 0.7731\n",
      "Epoch 328/500\n",
      "913/913 [==============================] - 3s 3ms/step - loss: 4.4493 - mae: 0.8756 - val_loss: 4.3683 - val_mae: 0.9830\n",
      "Epoch 329/500\n",
      "913/913 [==============================] - 3s 3ms/step - loss: 4.5020 - mae: 0.8749 - val_loss: 1.9533 - val_mae: 0.6145\n",
      "Epoch 330/500\n",
      "913/913 [==============================] - 3s 3ms/step - loss: 3.9105 - mae: 0.8115 - val_loss: 1.9370 - val_mae: 0.5915\n",
      "Epoch 331/500\n",
      "913/913 [==============================] - 3s 3ms/step - loss: 3.7974 - mae: 0.7809 - val_loss: 4.3234 - val_mae: 0.8568\n",
      "Epoch 332/500\n",
      "913/913 [==============================] - 3s 3ms/step - loss: 4.0116 - mae: 0.8109 - val_loss: 5.5165 - val_mae: 0.8894\n",
      "Epoch 333/500\n",
      "913/913 [==============================] - 3s 3ms/step - loss: 3.8285 - mae: 0.7992 - val_loss: 2.0952 - val_mae: 0.5911\n",
      "Epoch 334/500\n",
      "913/913 [==============================] - 3s 3ms/step - loss: 3.4337 - mae: 0.7587 - val_loss: 2.2883 - val_mae: 0.6461\n",
      "Epoch 335/500\n",
      "913/913 [==============================] - 3s 3ms/step - loss: 5.2135 - mae: 0.9128 - val_loss: 19.6367 - val_mae: 1.8515\n",
      "Epoch 336/500\n",
      "913/913 [==============================] - 3s 3ms/step - loss: 3.8605 - mae: 0.7988 - val_loss: 2.1939 - val_mae: 0.5932\n",
      "Epoch 337/500\n",
      "913/913 [==============================] - 3s 3ms/step - loss: 9.2472 - mae: 1.2781 - val_loss: 4.5333 - val_mae: 0.9430\n",
      "Epoch 338/500\n",
      "913/913 [==============================] - 3s 3ms/step - loss: 4.0634 - mae: 0.8707 - val_loss: 4.4028 - val_mae: 0.8635\n",
      "Epoch 339/500\n",
      "913/913 [==============================] - 3s 3ms/step - loss: 3.1162 - mae: 0.7418 - val_loss: 4.5909 - val_mae: 0.9980\n",
      "Epoch 340/500\n",
      "913/913 [==============================] - 3s 3ms/step - loss: 5.0323 - mae: 0.9061 - val_loss: 3.6926 - val_mae: 0.8200\n",
      "Epoch 341/500\n",
      "913/913 [==============================] - 3s 3ms/step - loss: 4.9115 - mae: 0.8756 - val_loss: 1.8333 - val_mae: 0.6154\n",
      "Epoch 342/500\n",
      "913/913 [==============================] - 3s 3ms/step - loss: 3.2100 - mae: 0.7360 - val_loss: 13.5575 - val_mae: 1.5124\n",
      "Epoch 343/500\n",
      "913/913 [==============================] - 3s 3ms/step - loss: 3.6189 - mae: 0.7995 - val_loss: 1.6323 - val_mae: 0.4831\n",
      "Epoch 344/500\n",
      "913/913 [==============================] - 3s 3ms/step - loss: 4.5860 - mae: 0.8596 - val_loss: 3.3865 - val_mae: 0.7358\n",
      "Epoch 345/500\n",
      "913/913 [==============================] - 3s 3ms/step - loss: 3.5902 - mae: 0.7793 - val_loss: 3.7443 - val_mae: 0.7952\n",
      "Epoch 346/500\n",
      "913/913 [==============================] - 3s 3ms/step - loss: 3.1662 - mae: 0.7339 - val_loss: 3.8886 - val_mae: 0.7925\n",
      "Epoch 347/500\n",
      "913/913 [==============================] - 3s 3ms/step - loss: 4.2352 - mae: 0.8290 - val_loss: 2.2253 - val_mae: 0.6026\n",
      "Epoch 348/500\n",
      "913/913 [==============================] - 3s 3ms/step - loss: 4.5467 - mae: 0.8493 - val_loss: 4.1695 - val_mae: 0.8368\n",
      "Epoch 349/500\n",
      "913/913 [==============================] - 3s 3ms/step - loss: 5.6570 - mae: 0.9651 - val_loss: 1.9397 - val_mae: 0.5673\n",
      "Epoch 350/500\n",
      "913/913 [==============================] - 3s 3ms/step - loss: 4.1903 - mae: 0.8170 - val_loss: 22.1897 - val_mae: 2.0206\n",
      "Epoch 351/500\n",
      "913/913 [==============================] - 3s 3ms/step - loss: 3.7863 - mae: 0.8106 - val_loss: 3.6266 - val_mae: 0.8243\n",
      "Epoch 352/500\n",
      "913/913 [==============================] - 3s 3ms/step - loss: 5.1020 - mae: 0.8992 - val_loss: 3.5761 - val_mae: 0.7594\n",
      "Epoch 353/500\n",
      "913/913 [==============================] - 3s 3ms/step - loss: 3.8533 - mae: 0.7874 - val_loss: 9.9586 - val_mae: 1.5961\n",
      "Epoch 354/500\n",
      "913/913 [==============================] - 3s 3ms/step - loss: 5.1806 - mae: 0.9136 - val_loss: 2.4019 - val_mae: 0.6067\n",
      "Epoch 355/500\n",
      "913/913 [==============================] - 3s 3ms/step - loss: 3.0751 - mae: 0.7278 - val_loss: 20.8602 - val_mae: 1.8403\n",
      "Epoch 356/500\n",
      "913/913 [==============================] - 3s 3ms/step - loss: 5.7871 - mae: 0.9861 - val_loss: 6.5695 - val_mae: 0.9640\n",
      "Epoch 357/500\n",
      "913/913 [==============================] - 3s 3ms/step - loss: 4.0016 - mae: 0.7913 - val_loss: 2.5042 - val_mae: 0.7332\n",
      "Epoch 358/500\n",
      "913/913 [==============================] - 3s 3ms/step - loss: 4.4142 - mae: 0.8469 - val_loss: 5.4758 - val_mae: 0.9531\n",
      "Epoch 359/500\n",
      "913/913 [==============================] - 3s 3ms/step - loss: 4.2792 - mae: 0.8120 - val_loss: 2.2506 - val_mae: 0.6382\n",
      "Epoch 360/500\n",
      "913/913 [==============================] - 3s 3ms/step - loss: 3.4189 - mae: 0.7364 - val_loss: 21.0708 - val_mae: 2.0836\n",
      "Epoch 361/500\n",
      "913/913 [==============================] - 3s 3ms/step - loss: 4.6187 - mae: 0.8587 - val_loss: 10.0165 - val_mae: 1.6006\n",
      "Epoch 362/500\n",
      "913/913 [==============================] - 3s 3ms/step - loss: 3.7684 - mae: 0.7923 - val_loss: 3.1980 - val_mae: 0.7278\n",
      "Epoch 363/500\n",
      "913/913 [==============================] - 3s 3ms/step - loss: 3.1220 - mae: 0.7205 - val_loss: 1.9831 - val_mae: 0.5619\n",
      "Epoch 364/500\n",
      "913/913 [==============================] - 3s 3ms/step - loss: 4.9091 - mae: 0.8828 - val_loss: 3.7521 - val_mae: 0.8604\n",
      "Epoch 365/500\n",
      "913/913 [==============================] - 3s 3ms/step - loss: 3.7379 - mae: 0.8057 - val_loss: 3.0895 - val_mae: 0.8111\n",
      "Epoch 366/500\n",
      "913/913 [==============================] - 3s 3ms/step - loss: 6.2105 - mae: 0.9861 - val_loss: 3.5000 - val_mae: 0.8863\n",
      "Epoch 367/500\n",
      "913/913 [==============================] - 3s 3ms/step - loss: 3.6359 - mae: 0.7657 - val_loss: 4.8619 - val_mae: 1.0824\n",
      "Epoch 368/500\n",
      "913/913 [==============================] - 3s 3ms/step - loss: 3.9815 - mae: 0.8155 - val_loss: 2.7262 - val_mae: 0.6677\n",
      "Epoch 369/500\n",
      "913/913 [==============================] - 3s 3ms/step - loss: 3.8968 - mae: 0.8012 - val_loss: 2.0859 - val_mae: 0.5640\n",
      "Epoch 370/500\n",
      "913/913 [==============================] - 3s 3ms/step - loss: 3.7633 - mae: 0.7878 - val_loss: 1.6691 - val_mae: 0.5450\n",
      "Epoch 371/500\n",
      "913/913 [==============================] - 3s 3ms/step - loss: 4.1577 - mae: 0.7970 - val_loss: 31.7064 - val_mae: 3.1334\n",
      "Epoch 372/500\n",
      "913/913 [==============================] - 3s 3ms/step - loss: 3.7321 - mae: 0.7974 - val_loss: 2.4944 - val_mae: 0.6788\n",
      "Epoch 373/500\n",
      "913/913 [==============================] - 3s 3ms/step - loss: 4.9401 - mae: 0.8458 - val_loss: 2.0724 - val_mae: 0.6066\n",
      "Epoch 374/500\n",
      "913/913 [==============================] - 3s 3ms/step - loss: 4.8336 - mae: 0.8835 - val_loss: 5.5419 - val_mae: 1.0321\n",
      "Epoch 375/500\n",
      "913/913 [==============================] - 3s 3ms/step - loss: 3.5849 - mae: 0.7866 - val_loss: 1.8526 - val_mae: 0.5460\n",
      "Epoch 376/500\n",
      "913/913 [==============================] - 3s 3ms/step - loss: 4.0358 - mae: 0.8031 - val_loss: 3.1110 - val_mae: 0.6925\n",
      "Epoch 377/500\n",
      "913/913 [==============================] - 3s 3ms/step - loss: 6.7803 - mae: 1.0447 - val_loss: 9.7504 - val_mae: 1.3020\n",
      "Epoch 378/500\n",
      "913/913 [==============================] - 3s 3ms/step - loss: 3.5323 - mae: 0.7805 - val_loss: 1.8351 - val_mae: 0.5893\n",
      "Epoch 379/500\n",
      "913/913 [==============================] - 3s 3ms/step - loss: 4.6027 - mae: 0.8567 - val_loss: 2.3430 - val_mae: 0.6785\n",
      "Epoch 380/500\n",
      "913/913 [==============================] - 3s 3ms/step - loss: 3.9957 - mae: 0.8256 - val_loss: 2.0972 - val_mae: 0.6155\n",
      "Epoch 381/500\n",
      "913/913 [==============================] - 3s 3ms/step - loss: 5.0125 - mae: 0.8924 - val_loss: 1.8138 - val_mae: 0.5380\n",
      "Epoch 382/500\n",
      "913/913 [==============================] - 3s 3ms/step - loss: 3.4255 - mae: 0.7554 - val_loss: 6.4041 - val_mae: 1.0718\n",
      "Epoch 383/500\n",
      "913/913 [==============================] - 3s 3ms/step - loss: 5.0451 - mae: 0.8585 - val_loss: 2.1551 - val_mae: 0.5962\n",
      "Epoch 384/500\n",
      "913/913 [==============================] - 3s 3ms/step - loss: 3.7333 - mae: 0.7978 - val_loss: 6.5691 - val_mae: 1.1054\n",
      "Epoch 385/500\n",
      "913/913 [==============================] - 3s 3ms/step - loss: 3.7175 - mae: 0.7770 - val_loss: 1.9337 - val_mae: 0.5862\n",
      "Epoch 386/500\n",
      "913/913 [==============================] - 3s 3ms/step - loss: 3.4377 - mae: 0.7464 - val_loss: 2.8037 - val_mae: 0.6885\n",
      "Epoch 387/500\n",
      "913/913 [==============================] - 3s 3ms/step - loss: 3.5679 - mae: 0.7739 - val_loss: 3.7543 - val_mae: 0.9126\n",
      "Epoch 388/500\n",
      "913/913 [==============================] - 3s 3ms/step - loss: 2.9546 - mae: 0.6999 - val_loss: 5.9892 - val_mae: 1.0687\n",
      "Epoch 389/500\n",
      "913/913 [==============================] - 3s 3ms/step - loss: 4.0970 - mae: 0.8195 - val_loss: 9.9135 - val_mae: 1.5080\n",
      "Epoch 390/500\n",
      "913/913 [==============================] - 3s 3ms/step - loss: 5.1280 - mae: 0.9362 - val_loss: 9.5337 - val_mae: 1.2582\n",
      "Epoch 391/500\n",
      "913/913 [==============================] - 3s 3ms/step - loss: 3.7533 - mae: 0.7744 - val_loss: 5.8795 - val_mae: 0.9814\n",
      "Epoch 392/500\n",
      "913/913 [==============================] - 3s 3ms/step - loss: 3.2097 - mae: 0.7330 - val_loss: 8.7688 - val_mae: 1.2379\n",
      "Epoch 393/500\n",
      "913/913 [==============================] - 3s 3ms/step - loss: 3.4288 - mae: 0.7527 - val_loss: 9.8980 - val_mae: 1.3698\n"
     ]
    }
   ],
   "source": [
    "history = ann.fit(X_train, y_train,\n",
    "                    validation_data = (X_val, y_val),\n",
    "                    callbacks=[es],\n",
    "                    epochs=500,\n",
    "                    batch_size=30,\n",
    "                    verbose=1)"
   ]
  },
  {
   "cell_type": "markdown",
   "metadata": {
    "colab_type": "text",
    "id": "0H0zKKNEBLD5"
   },
   "source": [
    "### Analyse learn history"
   ]
  },
  {
   "cell_type": "code",
   "execution_count": 24,
   "metadata": {
    "ExecuteTime": {
     "end_time": "2024-08-01T03:35:29.282707400Z",
     "start_time": "2024-08-01T03:35:28.423546700Z"
    }
   },
   "outputs": [
    {
     "data": {
      "text/plain": "<Figure size 640x480 with 1 Axes>",
      "image/png": "[encoded data removed]"
     },
     "metadata": {},
     "output_type": "display_data"
    }
   ],
   "source": [
    "# let's see the training and validation accuracy by epoch\n",
    "history_dict = history.history\n",
    "loss_values = history_dict['loss'] # you can change this\n",
    "val_loss_values = history_dict['val_loss'] # you can also change this\n",
    "epochs = range(1, len(loss_values) + 1) # range of X (no. of epochs)\n",
    "plt.plot(epochs, loss_values, 'blue', label='Train set loss')\n",
    "plt.plot(epochs, val_loss_values, 'orange', label='Validation set loss')\n",
    "#plt.title('Training and testing loss')\n",
    "plt.xlabel('Epochs')\n",
    "plt.ylabel('Loss (MSE)')\n",
    "plt.legend()\n",
    "plt.savefig('Section4_ANN1_2.png', dpi=300, bbox_inches='tight')\n",
    "plt.show()"
   ]
  },
  {
   "cell_type": "code",
   "execution_count": 25,
   "metadata": {
    "ExecuteTime": {
     "end_time": "2024-08-01T03:35:34.274551900Z",
     "start_time": "2024-08-01T03:35:33.798639100Z"
    }
   },
   "outputs": [
    {
     "data": {
      "text/plain": "<Figure size 640x480 with 1 Axes>",
      "image/png": "[encoded data removed]"
     },
     "metadata": {},
     "output_type": "display_data"
    }
   ],
   "source": [
    "loss_values1 = history_dict['mae'] # you can change this\n",
    "val_loss_values1 = history_dict['val_mae'] # you can also change this\n",
    "epochs = range(1, len(loss_values1) + 1) # range of X (no. of epochs)\n",
    "plt.plot(epochs, loss_values1, 'blue', label='Train set MAE')\n",
    "plt.plot(epochs, val_loss_values1, 'orange', label='Validation set MAE')\n",
    "#plt.title('Training and testing MAE')\n",
    "plt.xlabel('Epochs')\n",
    "plt.ylabel('MAE')\n",
    "plt.legend()\n",
    "plt.savefig('Section4_ANN1_3.png', dpi=300, bbox_inches='tight')\n",
    "plt.show()"
   ]
  },
  {
   "cell_type": "code",
   "execution_count": null,
   "metadata": {},
   "outputs": [],
   "source": [
    "print (epochs)"
   ]
  },
  {
   "cell_type": "markdown",
   "metadata": {},
   "source": [
    "### Save the model"
   ]
  },
  {
   "cell_type": "code",
   "execution_count": 38,
   "metadata": {
    "ExecuteTime": {
     "end_time": "2024-08-01T03:38:02.926699500Z",
     "start_time": "2024-08-01T03:38:01.378443200Z"
    }
   },
   "outputs": [
    {
     "name": "stdout",
     "output_type": "stream",
     "text": [
      "INFO:tensorflow:Assets written to: Section4_new_ANN_1\\assets\n"
     ]
    }
   ],
   "source": [
    "ann.save('Section4_new_ANN_1')\n",
    "import pickle\n",
    "pickle.dump(sc, open('Section4_new_scaler_ANN_1.pkl', 'wb'))"
   ]
  },
  {
   "cell_type": "markdown",
   "metadata": {},
   "source": [
    "## Part 5 - Make predictions"
   ]
  },
  {
   "cell_type": "code",
   "execution_count": null,
   "metadata": {},
   "outputs": [],
   "source": [
    "ann = load_model('ANN_13.h5')\n",
    "sc = pickle.load(open('scaler_ANN.pkl', 'rb'))"
   ]
  },
  {
   "cell_type": "code",
   "execution_count": 26,
   "metadata": {
    "ExecuteTime": {
     "end_time": "2024-08-01T03:35:45.720386300Z",
     "start_time": "2024-08-01T03:35:41.595373900Z"
    }
   },
   "outputs": [
    {
     "name": "stdout",
     "output_type": "stream",
     "text": [
      "856/856 [==============================] - 2s 2ms/step\n",
      "286/286 [==============================] - 1s 2ms/step\n"
     ]
    },
    {
     "data": {
      "text/plain": "<Figure size 640x480 with 2 Axes>",
      "image/png": "[encoded data removed]"
     },
     "metadata": {},
     "output_type": "display_data"
    }
   ],
   "source": [
    "# scatterplot of actual vs. pred\n",
    "# specify the dimensions \n",
    "fig, axes = plt.subplots(1,2) # 1 row, 2 columns\n",
    "\n",
    "# this makes the individual subplots\n",
    "# Training Results\n",
    "axes[0].scatter(x=y_train, y=ann.predict(X_train)) #first row, first entry (left top)\n",
    "axes[0].set_xlabel(\"Actual\", fontsize=10)\n",
    "axes[0].set_ylabel(\"Predicted\",  fontsize=10)\n",
    "axes[0].set_title(\"Training\")\n",
    "# add 45 deg line\n",
    "x = np.linspace(*axes[0].get_xlim())\n",
    "axes[0].plot(x, x, color='red')\n",
    "# Validation Results\n",
    "axes[1].scatter(x=y_val, y=ann.predict(X_val)) # first row, second entry (right top)\n",
    "axes[1].set_xlabel(\"Actual\", fontsize=10)\n",
    "axes[1].set_ylabel(\"Predicted\",  fontsize=10)\n",
    "axes[1].set_title(\"Validation\")\n",
    "# add 45 deg line\n",
    "x = np.linspace(*axes[1].get_xlim())\n",
    "axes[1].plot(x, x, color='red')\n",
    "\n",
    "# tight layout\n",
    "fig.tight_layout()\n",
    "\n",
    "plt.savefig('Section4_ANN1_1.png', dpi=300, bbox_inches='tight')\n",
    "# show the plot\n",
    "plt.show()"
   ]
  },
  {
   "cell_type": "code",
   "execution_count": 27,
   "metadata": {
    "colab": {
     "base_uri": "https://localhost:8080/",
     "height": 134
    },
    "colab_type": "code",
    "id": "IA0yApEmBG1X",
    "outputId": "cb981e1f-9204-4a2a-fece-9d66a6919189",
    "ExecuteTime": {
     "end_time": "2024-08-01T03:36:26.600806300Z",
     "start_time": "2024-08-01T03:36:25.848648300Z"
    }
   },
   "outputs": [
    {
     "name": "stdout",
     "output_type": "stream",
     "text": [
      "286/286 [==============================] - 0s 2ms/step\n",
      "[[19.38 19.32]\n",
      " [32.57 33.45]\n",
      " [ 0.84  0.95]\n",
      " ...\n",
      " [ 5.06  5.1 ]\n",
      " [24.7  24.99]\n",
      " [ 0.1   0.06]]\n"
     ]
    }
   ],
   "source": [
    "y_pred = ann.predict(X_test)\n",
    "np.set_printoptions(precision=2)\n",
    "print(np.concatenate((y_pred.reshape(len(y_pred),1), y_test.reshape(len(y_test),1)),1))"
   ]
  },
  {
   "cell_type": "code",
   "execution_count": 28,
   "metadata": {
    "ExecuteTime": {
     "end_time": "2024-08-01T03:36:31.541327400Z",
     "start_time": "2024-08-01T03:36:31.327007600Z"
    }
   },
   "outputs": [
    {
     "data": {
      "text/plain": "Text(0, 0.5, 'Predicted data')"
     },
     "execution_count": 28,
     "metadata": {},
     "output_type": "execute_result"
    },
    {
     "data": {
      "text/plain": "<Figure size 640x480 with 1 Axes>",
      "image/png": "[encoded data removed]"
     },
     "metadata": {},
     "output_type": "display_data"
    }
   ],
   "source": [
    "import matplotlib.pyplot as plt\n",
    "plt.scatter(y_test, y_pred, color=\"blue\")\n",
    "#plt.plot ([0,1200000],[0,1200000], color = \"red\")\n",
    "#plt.axis ([0,1200000,0,1200000])\n",
    "plt.xlabel ('Actual data')\n",
    "plt.ylabel ('Predicted data')"
   ]
  },
  {
   "cell_type": "code",
   "execution_count": 29,
   "metadata": {
    "ExecuteTime": {
     "end_time": "2024-08-01T03:36:39.754755800Z",
     "start_time": "2024-08-01T03:36:38.703862300Z"
    }
   },
   "outputs": [
    {
     "data": {
      "text/plain": "<Figure size 900x900 with 1 Axes>",
      "image/png": "[encoded data removed]"
     },
     "metadata": {},
     "output_type": "display_data"
    }
   ],
   "source": [
    "from sklearn.metrics import r2_score\n",
    "# Initialize layout\n",
    "fig1, ax1 = plt.subplots(figsize = (9, 9))\n",
    "b_l = -10\n",
    "u_l = 110\n",
    "\n",
    "# Add scatterplot\n",
    "ax1.scatter(y_test, y_pred, s=70, alpha=1, edgecolors=\"k\",c='mediumblue',zorder=5, label = 'Points')\n",
    "\n",
    "\n",
    "plt.ylabel('Predicted Incident Pressure (kPa)',fontsize = 25)\n",
    "plt.xlabel('Target Incident Pressure (kPa)',fontsize = 25)\n",
    "plt.xticks(fontsize = 19)\n",
    "plt.yticks(fontsize = 19)\n",
    "\n",
    "\n",
    "x1 = np.linspace(b_l, u_l)\n",
    "\n",
    "plt.plot(x1, x1, 'Red', label='45\\N{DEGREE SIGN} line',lw=2.5,alpha=1)\n",
    "plt.plot(x1, 1.05*x1, '--m', label='\\u00B15% Error',lw=2.5,alpha=0.7)\n",
    "plt.plot(x1, 0.95*x1,'m', linestyle='--',lw=2.5,alpha=0.7)\n",
    "plt.plot(x1, 1.1*x1, '-.g', label='\\u00B110% Error',lw=2.5,alpha=0.7)\n",
    "plt.plot(x1, 0.9*x1,'-.g',lw=2.5,alpha=0.7)\n",
    "plt.plot(x1, 1.2*x1, color = '#F97306', linestyle='dotted', label='\\u00B120% Error',lw=2.5,alpha=0.7)\n",
    "plt.plot(x1, 0.8*x1,color = '#F97306', linestyle='dotted', lw=2.5,alpha=0.7)\n",
    "\n",
    "plt.ylim(b_l, u_l)\n",
    "plt.xlim(b_l, u_l)\n",
    "plt.legend(loc='upper left',fontsize = 21)\n",
    "\n",
    "plt.grid()\n",
    "\n",
    "ax1.spines['left'].set_color('black')        # setting up Y-axis tick color to red\n",
    "ax1.spines['bottom'].set_color('black')         #setting up above X-axis tick color to red\n",
    "\n",
    "# Save the plot\n",
    "plt.savefig('Section4_ANN1.png', dpi=300, bbox_inches='tight')"
   ]
  },
  {
   "cell_type": "code",
   "execution_count": 30,
   "metadata": {
    "ExecuteTime": {
     "end_time": "2024-08-01T03:36:47.783798600Z",
     "start_time": "2024-08-01T03:36:46.078900700Z"
    }
   },
   "outputs": [
    {
     "name": "stdout",
     "output_type": "stream",
     "text": [
      "856/856 [==============================] - 1s 2ms/step\n",
      "0.4549941194984616\n",
      "0.4653785527759077\n"
     ]
    }
   ],
   "source": [
    "# metrics\n",
    "trainpreds = ann.predict(X_train)\n",
    "\n",
    "from sklearn.metrics import mean_absolute_error\n",
    "print(mean_absolute_error(y_train, trainpreds)) # train\n",
    "print(mean_absolute_error(y_test, y_pred)) # test"
   ]
  },
  {
   "cell_type": "code",
   "execution_count": 31,
   "metadata": {
    "ExecuteTime": {
     "end_time": "2024-08-01T03:36:49.920009Z",
     "start_time": "2024-08-01T03:36:49.888232400Z"
    }
   },
   "outputs": [
    {
     "name": "stdout",
     "output_type": "stream",
     "text": [
      "0.9884444805163001\n"
     ]
    }
   ],
   "source": [
    "from sklearn.metrics import r2_score\n",
    "r2 = r2_score(y_test, y_pred)\n",
    "print (r2)"
   ]
  },
  {
   "cell_type": "code",
   "execution_count": 32,
   "metadata": {
    "ExecuteTime": {
     "end_time": "2024-08-01T03:36:51.564962400Z",
     "start_time": "2024-08-01T03:36:51.530120500Z"
    }
   },
   "outputs": [
    {
     "name": "stdout",
     "output_type": "stream",
     "text": [
      "0.9877222803547796\n"
     ]
    }
   ],
   "source": [
    "r2_train = r2_score(y_train, trainpreds)\n",
    "print (r2_train)"
   ]
  },
  {
   "cell_type": "code",
   "execution_count": 33,
   "metadata": {
    "ExecuteTime": {
     "end_time": "2024-08-01T03:36:53.387855200Z",
     "start_time": "2024-08-01T03:36:52.795051Z"
    }
   },
   "outputs": [
    {
     "name": "stdout",
     "output_type": "stream",
     "text": [
      "Within 5% margin 32.91%\n",
      "Within 10% margin 50.24%\n",
      "Within 20% margin 63.96%\n",
      "Out of 20% margin 36.04%\n"
     ]
    }
   ],
   "source": [
    "count0 = 0\n",
    "for i in range(len(y_pred)):\n",
    "    line1 = y_pred[i] - 0.95*y_test[i]\n",
    "    line2 = y_pred[i] - 1.05*y_test[i]\n",
    "    mask0 = (line1 > 0) & (line2 < 0)\n",
    "    count0 = np.sum(mask0+count0)\n",
    "\n",
    "count1 = 0\n",
    "for i in range(len(y_pred)):\n",
    "    line1 = y_pred[i] - 0.9*y_test[i]\n",
    "    line2 = y_pred[i] - 1.1*y_test[i]\n",
    "    mask1 = (line1 > 0) & (line2 < 0)\n",
    "    count1 = np.sum(mask1+count1)\n",
    "\n",
    "count2 = 0\n",
    "for j in range(len(y_pred)):\n",
    "    line3 = y_pred[j] - 0.8*y_test[j]\n",
    "    line4 = y_pred[j] - 1.2*y_test[j]\n",
    "    mask2 = (line3 > 0) & (line4 < 0)\n",
    "    count2 = np.sum(mask2+count2)\n",
    "\n",
    "\n",
    "count3 = 0    \n",
    "for k in range(len(y_pred)):\n",
    "    line5 = y_pred[k] - 0.8*y_test[k]\n",
    "    line6 = y_pred[k] - 1.2*y_test[k]\n",
    "    mask3 = (line5 < 0) or (line6 > 0)\n",
    "    count3 = np.sum(mask3+count3)\n",
    "   \n",
    "\n",
    "print ('Within 5% margin', format((count0/len (y_pred)),'.2%'))\n",
    "print ('Within 10% margin', format((count1/len (y_pred)),'.2%'))\n",
    "print ('Within 20% margin', format((count2/len (y_pred)),'.2%'))\n",
    "print ('Out of 20% margin', format((count3/len (y_pred)),'.2%'))"
   ]
  },
  {
   "cell_type": "code",
   "execution_count": 34,
   "metadata": {
    "ExecuteTime": {
     "end_time": "2024-08-01T03:36:56.623334400Z",
     "start_time": "2024-08-01T03:36:56.559742300Z"
    }
   },
   "outputs": [
    {
     "name": "stdout",
     "output_type": "stream",
     "text": [
      "0.9884356111482753\n"
     ]
    }
   ],
   "source": [
    "adj_r2 = 1 - ((1 - r2) * (len(X_test) - 1) / (len(X_test) - len (X_test[0]) - 1))\n",
    "print (adj_r2)"
   ]
  },
  {
   "cell_type": "code",
   "execution_count": 36,
   "metadata": {
    "ExecuteTime": {
     "end_time": "2024-08-01T03:37:13.388550500Z",
     "start_time": "2024-08-01T03:37:13.277149700Z"
    }
   },
   "outputs": [
    {
     "data": {
      "text/plain": "1.1542602425655817"
     },
     "execution_count": 36,
     "metadata": {},
     "output_type": "execute_result"
    }
   ],
   "source": [
    "import math\n",
    "from sklearn.metrics import mean_squared_error\n",
    "\n",
    "math.sqrt(mean_squared_error(y_test, y_pred))"
   ]
  },
  {
   "cell_type": "code",
   "execution_count": 37,
   "metadata": {
    "ExecuteTime": {
     "end_time": "2024-08-01T03:37:14.502882800Z",
     "start_time": "2024-08-01T03:37:14.471623600Z"
    }
   },
   "outputs": [
    {
     "data": {
      "text/plain": "0.4653785527759077"
     },
     "execution_count": 37,
     "metadata": {},
     "output_type": "execute_result"
    }
   ],
   "source": [
    "from sklearn.metrics import mean_absolute_error\n",
    "\n",
    "mean_absolute_error(y_test, y_pred)"
   ]
  }
 ],
 "metadata": {
  "colab": {
   "collapsed_sections": [],
   "name": "Artificial Neural Network",
   "provenance": [],
   "toc_visible": true
  },
  "kernelspec": {
   "display_name": "Python 3 (ipykernel)",
   "language": "python",
   "name": "python3"
  },
  "language_info": {
   "codemirror_mode": {
    "name": "ipython",
    "version": 3
   },
   "file_extension": ".py",
   "mimetype": "text/x-python",
   "name": "python",
   "nbconvert_exporter": "python",
   "pygments_lexer": "ipython3",
   "version": "3.9.7"
  }
 },
 "nbformat": 4,
 "nbformat_minor": 4
}
