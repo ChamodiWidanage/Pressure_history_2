{
 "cells": [
  {
   "cell_type": "markdown",
   "metadata": {
    "colab_type": "text",
    "id": "3cbb7fRy-eyr"
   },
   "source": [
    "# Artificial Neural Network"
   ]
  },
  {
   "cell_type": "markdown",
   "metadata": {
    "colab_type": "text",
    "id": "8sNDnxE2-pwE"
   },
   "source": [
    "## Part 1 - Importing the libraries"
   ]
  },
  {
   "cell_type": "code",
   "execution_count": 1,
   "metadata": {
    "colab": {},
    "colab_type": "code",
    "id": "lxChR1Rk-umf",
    "ExecuteTime": {
     "end_time": "2024-08-02T02:17:53.567777800Z",
     "start_time": "2024-08-02T02:17:30.406853800Z"
    }
   },
   "outputs": [],
   "source": [
    "import numpy as np\n",
    "import pandas as pd\n",
    "import tensorflow as tf\n",
    "import matplotlib.pyplot as plt\n",
    "from keras.models import load_model\n",
    "from pathlib import Path\n",
    "import pickle"
   ]
  },
  {
   "cell_type": "markdown",
   "metadata": {
    "colab_type": "text",
    "id": "AG3FQEch-yuA"
   },
   "source": [
    "## Part 2 - Data Preprocessing"
   ]
  },
  {
   "cell_type": "markdown",
   "metadata": {
    "colab_type": "text",
    "id": "-4zq8Mza_D9O"
   },
   "source": [
    "### Importing the dataset"
   ]
  },
  {
   "cell_type": "code",
   "execution_count": 2,
   "metadata": {
    "ExecuteTime": {
     "end_time": "2024-08-02T02:17:55.016734300Z",
     "start_time": "2024-08-02T02:17:54.970087100Z"
    }
   },
   "outputs": [
    {
     "name": "stdout",
     "output_type": "stream",
     "text": [
      "input G:\\Chamodi\\LSDYNA3D\\RP_TH_models\\RP_Section_4_new\n",
      "2 [WindowsPath('G:/Chamodi/LSDYNA3D/RP_TH_models/RP_Section_4_new/RP_curves_fr13m'), WindowsPath('G:/Chamodi/LSDYNA3D/RP_TH_models/RP_Section_4_new/RP_curves_fr15m'), WindowsPath('G:/Chamodi/LSDYNA3D/RP_TH_models/RP_Section_4_new/RP_curves_fr17m'), WindowsPath('G:/Chamodi/LSDYNA3D/RP_TH_models/RP_Section_4_new/RP_curves_fr19m')]\n"
     ]
    }
   ],
   "source": [
    "#Access input folder\n",
    "current_dir = Path.cwd()\n",
    "input_dir1 = Path (\"G:/Chamodi/LSDYNA3D/RP_TH_models/RP_Section_4_new\")\n",
    "print (\"input\",input_dir1)\n",
    "\n",
    "#Access folders inside input folder\n",
    "input_dir2=  [folder1 for folder1 in input_dir1.iterdir() if folder1.is_dir()] # folder1 - RP_curves_fr7m\n",
    "print (\"2\",input_dir2)"
   ]
  },
  {
   "cell_type": "code",
   "execution_count": 3,
   "metadata": {
    "ExecuteTime": {
     "end_time": "2024-08-02T02:18:10.610565200Z",
     "start_time": "2024-08-02T02:17:57.142004600Z"
    }
   },
   "outputs": [
    {
     "name": "stdout",
     "output_type": "stream",
     "text": [
      "folder G:\\Chamodi\\LSDYNA3D\\RP_TH_models\\RP_Section_4_new\\RP_curves_fr13m\\13m00.5kg\n",
      "1.xlsx\n",
      "2.xlsx\n",
      "3.xlsx\n",
      "4.xlsx\n",
      "folder G:\\Chamodi\\LSDYNA3D\\RP_TH_models\\RP_Section_4_new\\RP_curves_fr13m\\13m02.5kg\n",
      "1.xlsx\n",
      "2.xlsx\n",
      "3.xlsx\n",
      "4.xlsx\n",
      "folder G:\\Chamodi\\LSDYNA3D\\RP_TH_models\\RP_Section_4_new\\RP_curves_fr13m\\13m04.5kg\n",
      "1.xlsx\n",
      "2.xlsx\n",
      "3.xlsx\n",
      "4.xlsx\n",
      "folder G:\\Chamodi\\LSDYNA3D\\RP_TH_models\\RP_Section_4_new\\RP_curves_fr13m\\13m06.5kg\n",
      "1.xlsx\n",
      "2.xlsx\n",
      "3.xlsx\n",
      "4.xlsx\n",
      "folder G:\\Chamodi\\LSDYNA3D\\RP_TH_models\\RP_Section_4_new\\RP_curves_fr13m\\13m08.5kg\n",
      "1.xlsx\n",
      "2.xlsx\n",
      "3.xlsx\n",
      "4.xlsx\n",
      "folder G:\\Chamodi\\LSDYNA3D\\RP_TH_models\\RP_Section_4_new\\RP_curves_fr13m\\13m10.5kg\n",
      "1.xlsx\n",
      "2.xlsx\n",
      "3.xlsx\n",
      "4.xlsx\n",
      "folder G:\\Chamodi\\LSDYNA3D\\RP_TH_models\\RP_Section_4_new\\RP_curves_fr13m\\13m12.5kg\n",
      "1.xlsx\n",
      "2.xlsx\n",
      "3.xlsx\n",
      "4.xlsx\n",
      "folder G:\\Chamodi\\LSDYNA3D\\RP_TH_models\\RP_Section_4_new\\RP_curves_fr13m\\13m14.5kg\n",
      "1.xlsx\n",
      "2.xlsx\n",
      "3.xlsx\n",
      "4.xlsx\n",
      "folder G:\\Chamodi\\LSDYNA3D\\RP_TH_models\\RP_Section_4_new\\RP_curves_fr13m\\13m16.5kg\n",
      "1.xlsx\n",
      "2.xlsx\n",
      "3.xlsx\n",
      "4.xlsx\n",
      "folder G:\\Chamodi\\LSDYNA3D\\RP_TH_models\\RP_Section_4_new\\RP_curves_fr13m\\13m18.5kg\n",
      "1.xlsx\n",
      "2.xlsx\n",
      "3.xlsx\n",
      "4.xlsx\n",
      "folder G:\\Chamodi\\LSDYNA3D\\RP_TH_models\\RP_Section_4_new\\RP_curves_fr13m\\13m20.5kg\n",
      "1.xlsx\n",
      "2.xlsx\n",
      "3.xlsx\n",
      "4.xlsx\n",
      "folder G:\\Chamodi\\LSDYNA3D\\RP_TH_models\\RP_Section_4_new\\RP_curves_fr13m\\13m22.5kg\n",
      "1.xlsx\n",
      "2.xlsx\n",
      "3.xlsx\n",
      "4.xlsx\n",
      "folder G:\\Chamodi\\LSDYNA3D\\RP_TH_models\\RP_Section_4_new\\RP_curves_fr13m\\13m24.5kg\n",
      "1.xlsx\n",
      "2.xlsx\n",
      "3.xlsx\n",
      "4.xlsx\n",
      "folder G:\\Chamodi\\LSDYNA3D\\RP_TH_models\\RP_Section_4_new\\RP_curves_fr13m\\13m26.5kg\n",
      "1.xlsx\n",
      "2.xlsx\n",
      "3.xlsx\n",
      "4.xlsx\n",
      "folder G:\\Chamodi\\LSDYNA3D\\RP_TH_models\\RP_Section_4_new\\RP_curves_fr13m\\13m28.5kg\n",
      "1.xlsx\n",
      "2.xlsx\n",
      "3.xlsx\n",
      "4.xlsx\n",
      "folder G:\\Chamodi\\LSDYNA3D\\RP_TH_models\\RP_Section_4_new\\RP_curves_fr13m\\13m30.5kg\n",
      "1.xlsx\n",
      "2.xlsx\n",
      "3.xlsx\n",
      "4.xlsx\n",
      "folder G:\\Chamodi\\LSDYNA3D\\RP_TH_models\\RP_Section_4_new\\RP_curves_fr13m\\13m32.5kg\n",
      "1.xlsx\n",
      "2.xlsx\n",
      "3.xlsx\n",
      "4.xlsx\n",
      "folder G:\\Chamodi\\LSDYNA3D\\RP_TH_models\\RP_Section_4_new\\RP_curves_fr13m\\13m34.5kg\n",
      "1.xlsx\n",
      "2.xlsx\n",
      "3.xlsx\n",
      "4.xlsx\n",
      "folder G:\\Chamodi\\LSDYNA3D\\RP_TH_models\\RP_Section_4_new\\RP_curves_fr13m\\13m35.0kg\n",
      "1.xlsx\n",
      "2.xlsx\n",
      "3.xlsx\n",
      "4.xlsx\n",
      "folder G:\\Chamodi\\LSDYNA3D\\RP_TH_models\\RP_Section_4_new\\RP_curves_fr15m\\15m00.5kg\n",
      "1.xlsx\n",
      "2.xlsx\n",
      "3.xlsx\n",
      "4.xlsx\n",
      "folder G:\\Chamodi\\LSDYNA3D\\RP_TH_models\\RP_Section_4_new\\RP_curves_fr15m\\15m02.5kg\n",
      "1.xlsx\n",
      "2.xlsx\n",
      "3.xlsx\n",
      "4.xlsx\n",
      "folder G:\\Chamodi\\LSDYNA3D\\RP_TH_models\\RP_Section_4_new\\RP_curves_fr15m\\15m04.5kg\n",
      "1.xlsx\n",
      "2.xlsx\n",
      "3.xlsx\n",
      "4.xlsx\n",
      "folder G:\\Chamodi\\LSDYNA3D\\RP_TH_models\\RP_Section_4_new\\RP_curves_fr15m\\15m06.5kg\n",
      "1.xlsx\n",
      "2.xlsx\n",
      "3.xlsx\n",
      "4.xlsx\n",
      "folder G:\\Chamodi\\LSDYNA3D\\RP_TH_models\\RP_Section_4_new\\RP_curves_fr15m\\15m08.5kg\n",
      "1.xlsx\n",
      "2.xlsx\n",
      "3.xlsx\n",
      "4.xlsx\n",
      "folder G:\\Chamodi\\LSDYNA3D\\RP_TH_models\\RP_Section_4_new\\RP_curves_fr15m\\15m10.5kg\n",
      "1.xlsx\n",
      "2.xlsx\n",
      "3.xlsx\n",
      "4.xlsx\n",
      "folder G:\\Chamodi\\LSDYNA3D\\RP_TH_models\\RP_Section_4_new\\RP_curves_fr15m\\15m12.5kg\n",
      "1.xlsx\n",
      "2.xlsx\n",
      "3.xlsx\n",
      "4.xlsx\n",
      "folder G:\\Chamodi\\LSDYNA3D\\RP_TH_models\\RP_Section_4_new\\RP_curves_fr15m\\15m14.5kg\n",
      "1.xlsx\n",
      "2.xlsx\n",
      "3.xlsx\n",
      "4.xlsx\n",
      "folder G:\\Chamodi\\LSDYNA3D\\RP_TH_models\\RP_Section_4_new\\RP_curves_fr15m\\15m16.5kg\n",
      "1.xlsx\n",
      "2.xlsx\n",
      "3.xlsx\n",
      "4.xlsx\n",
      "folder G:\\Chamodi\\LSDYNA3D\\RP_TH_models\\RP_Section_4_new\\RP_curves_fr15m\\15m18.5kg\n",
      "1.xlsx\n",
      "2.xlsx\n",
      "3.xlsx\n",
      "4.xlsx\n",
      "folder G:\\Chamodi\\LSDYNA3D\\RP_TH_models\\RP_Section_4_new\\RP_curves_fr15m\\15m20.5kg\n",
      "1.xlsx\n",
      "2.xlsx\n",
      "3.xlsx\n",
      "4.xlsx\n",
      "folder G:\\Chamodi\\LSDYNA3D\\RP_TH_models\\RP_Section_4_new\\RP_curves_fr15m\\15m22.5kg\n",
      "1.xlsx\n",
      "2.xlsx\n",
      "3.xlsx\n",
      "4.xlsx\n",
      "folder G:\\Chamodi\\LSDYNA3D\\RP_TH_models\\RP_Section_4_new\\RP_curves_fr15m\\15m24.5kg\n",
      "1.xlsx\n",
      "2.xlsx\n",
      "3.xlsx\n",
      "4.xlsx\n",
      "folder G:\\Chamodi\\LSDYNA3D\\RP_TH_models\\RP_Section_4_new\\RP_curves_fr15m\\15m26.5kg\n",
      "1.xlsx\n",
      "2.xlsx\n",
      "3.xlsx\n",
      "4.xlsx\n",
      "folder G:\\Chamodi\\LSDYNA3D\\RP_TH_models\\RP_Section_4_new\\RP_curves_fr15m\\15m28.5kg\n",
      "1.xlsx\n",
      "2.xlsx\n",
      "3.xlsx\n",
      "4.xlsx\n",
      "folder G:\\Chamodi\\LSDYNA3D\\RP_TH_models\\RP_Section_4_new\\RP_curves_fr15m\\15m30.5kg\n",
      "1.xlsx\n",
      "2.xlsx\n",
      "3.xlsx\n",
      "4.xlsx\n",
      "folder G:\\Chamodi\\LSDYNA3D\\RP_TH_models\\RP_Section_4_new\\RP_curves_fr15m\\15m32.5kg\n",
      "1.xlsx\n",
      "2.xlsx\n",
      "3.xlsx\n",
      "4.xlsx\n",
      "folder G:\\Chamodi\\LSDYNA3D\\RP_TH_models\\RP_Section_4_new\\RP_curves_fr15m\\15m34.5kg\n",
      "1.xlsx\n",
      "2.xlsx\n",
      "3.xlsx\n",
      "4.xlsx\n",
      "folder G:\\Chamodi\\LSDYNA3D\\RP_TH_models\\RP_Section_4_new\\RP_curves_fr15m\\15m35.0kg\n",
      "1.xlsx\n",
      "2.xlsx\n",
      "3.xlsx\n",
      "4.xlsx\n",
      "folder G:\\Chamodi\\LSDYNA3D\\RP_TH_models\\RP_Section_4_new\\RP_curves_fr17m\\17m00.5kg\n",
      "1.xlsx\n",
      "2.xlsx\n",
      "3.xlsx\n",
      "4.xlsx\n",
      "folder G:\\Chamodi\\LSDYNA3D\\RP_TH_models\\RP_Section_4_new\\RP_curves_fr17m\\17m02.5kg\n",
      "1.xlsx\n",
      "2.xlsx\n",
      "3.xlsx\n",
      "4.xlsx\n",
      "folder G:\\Chamodi\\LSDYNA3D\\RP_TH_models\\RP_Section_4_new\\RP_curves_fr17m\\17m04.5kg\n",
      "1.xlsx\n",
      "2.xlsx\n",
      "3.xlsx\n",
      "4.xlsx\n",
      "folder G:\\Chamodi\\LSDYNA3D\\RP_TH_models\\RP_Section_4_new\\RP_curves_fr17m\\17m06.5kg\n",
      "1.xlsx\n",
      "2.xlsx\n",
      "3.xlsx\n",
      "4.xlsx\n",
      "folder G:\\Chamodi\\LSDYNA3D\\RP_TH_models\\RP_Section_4_new\\RP_curves_fr17m\\17m08.5kg\n",
      "1.xlsx\n",
      "2.xlsx\n",
      "3.xlsx\n",
      "4.xlsx\n",
      "folder G:\\Chamodi\\LSDYNA3D\\RP_TH_models\\RP_Section_4_new\\RP_curves_fr17m\\17m10.5kg\n",
      "1.xlsx\n",
      "2.xlsx\n",
      "3.xlsx\n",
      "4.xlsx\n",
      "folder G:\\Chamodi\\LSDYNA3D\\RP_TH_models\\RP_Section_4_new\\RP_curves_fr17m\\17m12.5kg\n",
      "1.xlsx\n",
      "2.xlsx\n",
      "3.xlsx\n",
      "4.xlsx\n",
      "folder G:\\Chamodi\\LSDYNA3D\\RP_TH_models\\RP_Section_4_new\\RP_curves_fr17m\\17m14.5kg\n",
      "1.xlsx\n",
      "2.xlsx\n",
      "3.xlsx\n",
      "4.xlsx\n",
      "folder G:\\Chamodi\\LSDYNA3D\\RP_TH_models\\RP_Section_4_new\\RP_curves_fr17m\\17m16.5kg\n",
      "1.xlsx\n",
      "2.xlsx\n",
      "3.xlsx\n",
      "4.xlsx\n",
      "folder G:\\Chamodi\\LSDYNA3D\\RP_TH_models\\RP_Section_4_new\\RP_curves_fr17m\\17m18.5kg\n",
      "1.xlsx\n",
      "2.xlsx\n",
      "3.xlsx\n",
      "4.xlsx\n",
      "folder G:\\Chamodi\\LSDYNA3D\\RP_TH_models\\RP_Section_4_new\\RP_curves_fr17m\\17m20.5kg\n",
      "1.xlsx\n",
      "2.xlsx\n",
      "3.xlsx\n",
      "4.xlsx\n",
      "folder G:\\Chamodi\\LSDYNA3D\\RP_TH_models\\RP_Section_4_new\\RP_curves_fr17m\\17m22.5kg\n",
      "1.xlsx\n",
      "2.xlsx\n",
      "3.xlsx\n",
      "4.xlsx\n",
      "folder G:\\Chamodi\\LSDYNA3D\\RP_TH_models\\RP_Section_4_new\\RP_curves_fr17m\\17m24.5kg\n",
      "1.xlsx\n",
      "2.xlsx\n",
      "3.xlsx\n",
      "4.xlsx\n",
      "folder G:\\Chamodi\\LSDYNA3D\\RP_TH_models\\RP_Section_4_new\\RP_curves_fr17m\\17m26.5kg\n",
      "1.xlsx\n",
      "2.xlsx\n",
      "3.xlsx\n",
      "4.xlsx\n",
      "folder G:\\Chamodi\\LSDYNA3D\\RP_TH_models\\RP_Section_4_new\\RP_curves_fr17m\\17m28.5kg\n",
      "1.xlsx\n",
      "2.xlsx\n",
      "3.xlsx\n",
      "4.xlsx\n",
      "folder G:\\Chamodi\\LSDYNA3D\\RP_TH_models\\RP_Section_4_new\\RP_curves_fr17m\\17m30.5kg\n",
      "1.xlsx\n",
      "2.xlsx\n",
      "3.xlsx\n",
      "4.xlsx\n",
      "folder G:\\Chamodi\\LSDYNA3D\\RP_TH_models\\RP_Section_4_new\\RP_curves_fr17m\\17m32.5kg\n",
      "1.xlsx\n",
      "2.xlsx\n",
      "3.xlsx\n",
      "4.xlsx\n",
      "folder G:\\Chamodi\\LSDYNA3D\\RP_TH_models\\RP_Section_4_new\\RP_curves_fr17m\\17m34.5kg\n",
      "1.xlsx\n",
      "2.xlsx\n",
      "3.xlsx\n",
      "4.xlsx\n",
      "folder G:\\Chamodi\\LSDYNA3D\\RP_TH_models\\RP_Section_4_new\\RP_curves_fr17m\\17m35.0kg\n",
      "1.xlsx\n",
      "2.xlsx\n",
      "3.xlsx\n",
      "4.xlsx\n",
      "folder G:\\Chamodi\\LSDYNA3D\\RP_TH_models\\RP_Section_4_new\\RP_curves_fr19m\\19m00.5kg\n",
      "1.xlsx\n",
      "2.xlsx\n",
      "3.xlsx\n",
      "4.xlsx\n",
      "folder G:\\Chamodi\\LSDYNA3D\\RP_TH_models\\RP_Section_4_new\\RP_curves_fr19m\\19m02.5kg\n",
      "1.xlsx\n",
      "2.xlsx\n",
      "3.xlsx\n",
      "4.xlsx\n",
      "folder G:\\Chamodi\\LSDYNA3D\\RP_TH_models\\RP_Section_4_new\\RP_curves_fr19m\\19m04.5kg\n",
      "1.xlsx\n",
      "2.xlsx\n",
      "3.xlsx\n",
      "4.xlsx\n",
      "folder G:\\Chamodi\\LSDYNA3D\\RP_TH_models\\RP_Section_4_new\\RP_curves_fr19m\\19m06.5kg\n",
      "1.xlsx\n",
      "2.xlsx\n",
      "3.xlsx\n",
      "4.xlsx\n",
      "folder G:\\Chamodi\\LSDYNA3D\\RP_TH_models\\RP_Section_4_new\\RP_curves_fr19m\\19m08.5kg\n",
      "1.xlsx\n",
      "2.xlsx\n",
      "3.xlsx\n",
      "4.xlsx\n",
      "folder G:\\Chamodi\\LSDYNA3D\\RP_TH_models\\RP_Section_4_new\\RP_curves_fr19m\\19m10.5kg\n",
      "1.xlsx\n",
      "2.xlsx\n",
      "3.xlsx\n",
      "4.xlsx\n",
      "folder G:\\Chamodi\\LSDYNA3D\\RP_TH_models\\RP_Section_4_new\\RP_curves_fr19m\\19m12.5kg\n",
      "1.xlsx\n",
      "2.xlsx\n",
      "3.xlsx\n",
      "4.xlsx\n",
      "folder G:\\Chamodi\\LSDYNA3D\\RP_TH_models\\RP_Section_4_new\\RP_curves_fr19m\\19m14.5kg\n",
      "1.xlsx\n",
      "2.xlsx\n",
      "3.xlsx\n",
      "4.xlsx\n",
      "folder G:\\Chamodi\\LSDYNA3D\\RP_TH_models\\RP_Section_4_new\\RP_curves_fr19m\\19m16.5kg\n",
      "1.xlsx\n",
      "2.xlsx\n",
      "3.xlsx\n",
      "4.xlsx\n",
      "folder G:\\Chamodi\\LSDYNA3D\\RP_TH_models\\RP_Section_4_new\\RP_curves_fr19m\\19m18.5kg\n",
      "1.xlsx\n",
      "2.xlsx\n",
      "3.xlsx\n",
      "4.xlsx\n",
      "folder G:\\Chamodi\\LSDYNA3D\\RP_TH_models\\RP_Section_4_new\\RP_curves_fr19m\\19m20.5kg\n",
      "1.xlsx\n",
      "2.xlsx\n",
      "3.xlsx\n",
      "4.xlsx\n",
      "folder G:\\Chamodi\\LSDYNA3D\\RP_TH_models\\RP_Section_4_new\\RP_curves_fr19m\\19m22.5kg\n",
      "1.xlsx\n",
      "2.xlsx\n",
      "3.xlsx\n",
      "4.xlsx\n",
      "folder G:\\Chamodi\\LSDYNA3D\\RP_TH_models\\RP_Section_4_new\\RP_curves_fr19m\\19m24.5kg\n",
      "1.xlsx\n",
      "2.xlsx\n",
      "3.xlsx\n",
      "4.xlsx\n",
      "folder G:\\Chamodi\\LSDYNA3D\\RP_TH_models\\RP_Section_4_new\\RP_curves_fr19m\\19m26.5kg\n",
      "1.xlsx\n",
      "2.xlsx\n",
      "3.xlsx\n",
      "4.xlsx\n",
      "folder G:\\Chamodi\\LSDYNA3D\\RP_TH_models\\RP_Section_4_new\\RP_curves_fr19m\\19m28.5kg\n",
      "1.xlsx\n",
      "2.xlsx\n",
      "3.xlsx\n",
      "4.xlsx\n",
      "folder G:\\Chamodi\\LSDYNA3D\\RP_TH_models\\RP_Section_4_new\\RP_curves_fr19m\\19m30.5kg\n",
      "1.xlsx\n",
      "2.xlsx\n",
      "3.xlsx\n",
      "4.xlsx\n",
      "folder G:\\Chamodi\\LSDYNA3D\\RP_TH_models\\RP_Section_4_new\\RP_curves_fr19m\\19m32.5kg\n",
      "1.xlsx\n",
      "2.xlsx\n",
      "3.xlsx\n",
      "4.xlsx\n",
      "folder G:\\Chamodi\\LSDYNA3D\\RP_TH_models\\RP_Section_4_new\\RP_curves_fr19m\\19m34.5kg\n",
      "1.xlsx\n",
      "2.xlsx\n",
      "3.xlsx\n",
      "4.xlsx\n",
      "folder G:\\Chamodi\\LSDYNA3D\\RP_TH_models\\RP_Section_4_new\\RP_curves_fr19m\\19m35.0kg\n",
      "1.xlsx\n",
      "2.xlsx\n",
      "3.xlsx\n",
      "4.xlsx\n"
     ]
    }
   ],
   "source": [
    "#dataset = pd.DataFrame(columns = ['Charge_mass', 'Standoff_distance', 'Time', 'Pressure', 'Phase'])\n",
    "df_list = []\n",
    "\n",
    "for folder1 in input_dir2:\n",
    "    \n",
    "    input_dir3 =  [folder2 for folder2 in folder1.iterdir() if folder2.is_dir()] # folder2 - 07m00.5kg\n",
    "    \n",
    "    for folder2 in input_dir3:\n",
    "        \n",
    "        print ('folder', folder2)\n",
    "        files1 = [file1 for file1 in folder2.rglob(\"*.xlsx\")]\n",
    "    \n",
    "        for file1 in files1:\n",
    "            df_list.append(pd.read_excel(file1))\n",
    "            print (file1.stem)\n",
    "    \n",
    "dataset = pd.concat(df_list, ignore_index = True)"
   ]
  },
  {
   "cell_type": "code",
   "execution_count": 4,
   "metadata": {
    "colab": {},
    "colab_type": "code",
    "id": "B9CV13Co_HHM",
    "ExecuteTime": {
     "end_time": "2024-08-02T02:18:13.356548500Z",
     "start_time": "2024-08-02T02:18:13.204331200Z"
    }
   },
   "outputs": [
    {
     "name": "stdout",
     "output_type": "stream",
     "text": [
      "<class 'pandas.core.frame.DataFrame'>\n",
      "RangeIndex: 45639 entries, 0 to 45638\n",
      "Data columns (total 6 columns):\n",
      " #   Column             Non-Null Count  Dtype  \n",
      "---  ------             --------------  -----  \n",
      " 0   Mass               45639 non-null  float64\n",
      " 1   Standoff distance  45639 non-null  int64  \n",
      " 2   Angle              45639 non-null  int64  \n",
      " 3   Time               45639 non-null  float64\n",
      " 4   Phase              45639 non-null  object \n",
      " 5   Pressure           45639 non-null  float64\n",
      "dtypes: float64(3), int64(2), object(1)\n",
      "memory usage: 2.1+ MB\n"
     ]
    }
   ],
   "source": [
    "dataset.info()"
   ]
  },
  {
   "cell_type": "code",
   "execution_count": 5,
   "outputs": [
    {
     "name": "stdout",
     "output_type": "stream",
     "text": [
      "<class 'pandas.core.frame.DataFrame'>\n",
      "RangeIndex: 45639 entries, 0 to 45638\n",
      "Data columns (total 8 columns):\n",
      " #   Column                     Non-Null Count  Dtype  \n",
      "---  ------                     --------------  -----  \n",
      " 0   Mass                       45639 non-null  float64\n",
      " 1   Standoff distance          45639 non-null  int64  \n",
      " 2   Angle                      45639 non-null  int64  \n",
      " 3   Time                       45639 non-null  float64\n",
      " 4   Pressure                   45639 non-null  float64\n",
      " 5   Phase_negative_decreasing  45639 non-null  uint8  \n",
      " 6   Phase_negative_increasing  45639 non-null  uint8  \n",
      " 7   Phase_positive             45639 non-null  uint8  \n",
      "dtypes: float64(3), int64(2), uint8(3)\n",
      "memory usage: 1.9 MB\n"
     ]
    }
   ],
   "source": [
    "dataset = pd.get_dummies(dataset, columns =['Phase'], dtype = np.uint8)\n",
    "dataset.info()"
   ],
   "metadata": {
    "collapsed": false,
    "ExecuteTime": {
     "end_time": "2024-08-02T02:18:15.233430Z",
     "start_time": "2024-08-02T02:18:15.122481700Z"
    }
   }
  },
  {
   "cell_type": "code",
   "execution_count": 6,
   "outputs": [
    {
     "data": {
      "text/plain": "    Mass  Standoff distance  Angle       Time   Pressure  \\\n0    0.5                 13      0  32.475292  10.613961   \n1    0.5                 13      0  32.501128  10.575125   \n2    0.5                 13      0  32.526964  10.331852   \n3    0.5                 13      0  32.578656   9.636125   \n4    0.5                 13      0  32.604503   9.363102   \n5    0.5                 13      0  32.630350   9.191898   \n6    0.5                 13      0  32.656197   9.095148   \n7    0.5                 13      0  32.682045   9.017906   \n8    0.5                 13      0  32.707893   8.859992   \n9    0.5                 13      0  32.733743   8.544781   \n10   0.5                 13      0  32.759600   8.039852   \n11   0.5                 13      0  32.785467   7.370180   \n12   0.5                 13      0  32.863089   5.057969   \n13   0.5                 13      0  32.888959   4.407305   \n14   0.5                 13      0  32.914831   3.859586   \n15   0.5                 13      0  32.940722   3.422930   \n16   0.5                 13      0  32.966613   3.086836   \n17   0.5                 13      0  32.992504   2.850336   \n18   0.5                 13      0  33.018394   2.711273   \n19   0.5                 13      0  33.044293   2.656227   \n20   0.5                 13      0  33.070200   2.658398   \n21   0.5                 13      0  33.096110   2.700242   \n22   0.5                 13      0  33.122021   2.731867   \n23   0.5                 13      0  33.147926   2.719414   \n24   0.5                 13      0  33.173843   2.640508   \n25   0.5                 13      0  33.199768   2.483352   \n26   0.5                 13      0  33.277544   1.873461   \n27   0.5                 13      0  33.303478   1.716164   \n28   0.5                 13      0  33.329411   1.597539   \n29   0.5                 13      0  33.355351   1.507031   \n\n    Phase_negative_decreasing  Phase_negative_increasing  Phase_positive  \n0                           0                          0               1  \n1                           0                          0               1  \n2                           0                          0               1  \n3                           0                          0               1  \n4                           0                          0               1  \n5                           0                          0               1  \n6                           0                          0               1  \n7                           0                          0               1  \n8                           0                          0               1  \n9                           0                          0               1  \n10                          0                          0               1  \n11                          0                          0               1  \n12                          0                          0               1  \n13                          0                          0               1  \n14                          0                          0               1  \n15                          0                          0               1  \n16                          0                          0               1  \n17                          0                          0               1  \n18                          0                          0               1  \n19                          0                          0               1  \n20                          0                          0               1  \n21                          0                          0               1  \n22                          0                          0               1  \n23                          0                          0               1  \n24                          0                          0               1  \n25                          0                          0               1  \n26                          0                          0               1  \n27                          0                          0               1  \n28                          0                          0               1  \n29                          0                          0               1  ",
      "text/html": "<div>\n<style scoped>\n    .dataframe tbody tr th:only-of-type {\n        vertical-align: middle;\n    }\n\n    .dataframe tbody tr th {\n        vertical-align: top;\n    }\n\n    .dataframe thead th {\n        text-align: right;\n    }\n</style>\n<table border=\"1\" class=\"dataframe\">\n  <thead>\n    <tr style=\"text-align: right;\">\n      <th></th>\n      <th>Mass</th>\n      <th>Standoff distance</th>\n      <th>Angle</th>\n      <th>Time</th>\n      <th>Pressure</th>\n      <th>Phase_negative_decreasing</th>\n      <th>Phase_negative_increasing</th>\n      <th>Phase_positive</th>\n    </tr>\n  </thead>\n  <tbody>\n    <tr>\n      <th>0</th>\n      <td>0.5</td>\n      <td>13</td>\n      <td>0</td>\n      <td>32.475292</td>\n      <td>10.613961</td>\n      <td>0</td>\n      <td>0</td>\n      <td>1</td>\n    </tr>\n    <tr>\n      <th>1</th>\n      <td>0.5</td>\n      <td>13</td>\n      <td>0</td>\n      <td>32.501128</td>\n      <td>10.575125</td>\n      <td>0</td>\n      <td>0</td>\n      <td>1</td>\n    </tr>\n    <tr>\n      <th>2</th>\n      <td>0.5</td>\n      <td>13</td>\n      <td>0</td>\n      <td>32.526964</td>\n      <td>10.331852</td>\n      <td>0</td>\n      <td>0</td>\n      <td>1</td>\n    </tr>\n    <tr>\n      <th>3</th>\n      <td>0.5</td>\n      <td>13</td>\n      <td>0</td>\n      <td>32.578656</td>\n      <td>9.636125</td>\n      <td>0</td>\n      <td>0</td>\n      <td>1</td>\n    </tr>\n    <tr>\n      <th>4</th>\n      <td>0.5</td>\n      <td>13</td>\n      <td>0</td>\n      <td>32.604503</td>\n      <td>9.363102</td>\n      <td>0</td>\n      <td>0</td>\n      <td>1</td>\n    </tr>\n    <tr>\n      <th>5</th>\n      <td>0.5</td>\n      <td>13</td>\n      <td>0</td>\n      <td>32.630350</td>\n      <td>9.191898</td>\n      <td>0</td>\n      <td>0</td>\n      <td>1</td>\n    </tr>\n    <tr>\n      <th>6</th>\n      <td>0.5</td>\n      <td>13</td>\n      <td>0</td>\n      <td>32.656197</td>\n      <td>9.095148</td>\n      <td>0</td>\n      <td>0</td>\n      <td>1</td>\n    </tr>\n    <tr>\n      <th>7</th>\n      <td>0.5</td>\n      <td>13</td>\n      <td>0</td>\n      <td>32.682045</td>\n      <td>9.017906</td>\n      <td>0</td>\n      <td>0</td>\n      <td>1</td>\n    </tr>\n    <tr>\n      <th>8</th>\n      <td>0.5</td>\n      <td>13</td>\n      <td>0</td>\n      <td>32.707893</td>\n      <td>8.859992</td>\n      <td>0</td>\n      <td>0</td>\n      <td>1</td>\n    </tr>\n    <tr>\n      <th>9</th>\n      <td>0.5</td>\n      <td>13</td>\n      <td>0</td>\n      <td>32.733743</td>\n      <td>8.544781</td>\n      <td>0</td>\n      <td>0</td>\n      <td>1</td>\n    </tr>\n    <tr>\n      <th>10</th>\n      <td>0.5</td>\n      <td>13</td>\n      <td>0</td>\n      <td>32.759600</td>\n      <td>8.039852</td>\n      <td>0</td>\n      <td>0</td>\n      <td>1</td>\n    </tr>\n    <tr>\n      <th>11</th>\n      <td>0.5</td>\n      <td>13</td>\n      <td>0</td>\n      <td>32.785467</td>\n      <td>7.370180</td>\n      <td>0</td>\n      <td>0</td>\n      <td>1</td>\n    </tr>\n    <tr>\n      <th>12</th>\n      <td>0.5</td>\n      <td>13</td>\n      <td>0</td>\n      <td>32.863089</td>\n      <td>5.057969</td>\n      <td>0</td>\n      <td>0</td>\n      <td>1</td>\n    </tr>\n    <tr>\n      <th>13</th>\n      <td>0.5</td>\n      <td>13</td>\n      <td>0</td>\n      <td>32.888959</td>\n      <td>4.407305</td>\n      <td>0</td>\n      <td>0</td>\n      <td>1</td>\n    </tr>\n    <tr>\n      <th>14</th>\n      <td>0.5</td>\n      <td>13</td>\n      <td>0</td>\n      <td>32.914831</td>\n      <td>3.859586</td>\n      <td>0</td>\n      <td>0</td>\n      <td>1</td>\n    </tr>\n    <tr>\n      <th>15</th>\n      <td>0.5</td>\n      <td>13</td>\n      <td>0</td>\n      <td>32.940722</td>\n      <td>3.422930</td>\n      <td>0</td>\n      <td>0</td>\n      <td>1</td>\n    </tr>\n    <tr>\n      <th>16</th>\n      <td>0.5</td>\n      <td>13</td>\n      <td>0</td>\n      <td>32.966613</td>\n      <td>3.086836</td>\n      <td>0</td>\n      <td>0</td>\n      <td>1</td>\n    </tr>\n    <tr>\n      <th>17</th>\n      <td>0.5</td>\n      <td>13</td>\n      <td>0</td>\n      <td>32.992504</td>\n      <td>2.850336</td>\n      <td>0</td>\n      <td>0</td>\n      <td>1</td>\n    </tr>\n    <tr>\n      <th>18</th>\n      <td>0.5</td>\n      <td>13</td>\n      <td>0</td>\n      <td>33.018394</td>\n      <td>2.711273</td>\n      <td>0</td>\n      <td>0</td>\n      <td>1</td>\n    </tr>\n    <tr>\n      <th>19</th>\n      <td>0.5</td>\n      <td>13</td>\n      <td>0</td>\n      <td>33.044293</td>\n      <td>2.656227</td>\n      <td>0</td>\n      <td>0</td>\n      <td>1</td>\n    </tr>\n    <tr>\n      <th>20</th>\n      <td>0.5</td>\n      <td>13</td>\n      <td>0</td>\n      <td>33.070200</td>\n      <td>2.658398</td>\n      <td>0</td>\n      <td>0</td>\n      <td>1</td>\n    </tr>\n    <tr>\n      <th>21</th>\n      <td>0.5</td>\n      <td>13</td>\n      <td>0</td>\n      <td>33.096110</td>\n      <td>2.700242</td>\n      <td>0</td>\n      <td>0</td>\n      <td>1</td>\n    </tr>\n    <tr>\n      <th>22</th>\n      <td>0.5</td>\n      <td>13</td>\n      <td>0</td>\n      <td>33.122021</td>\n      <td>2.731867</td>\n      <td>0</td>\n      <td>0</td>\n      <td>1</td>\n    </tr>\n    <tr>\n      <th>23</th>\n      <td>0.5</td>\n      <td>13</td>\n      <td>0</td>\n      <td>33.147926</td>\n      <td>2.719414</td>\n      <td>0</td>\n      <td>0</td>\n      <td>1</td>\n    </tr>\n    <tr>\n      <th>24</th>\n      <td>0.5</td>\n      <td>13</td>\n      <td>0</td>\n      <td>33.173843</td>\n      <td>2.640508</td>\n      <td>0</td>\n      <td>0</td>\n      <td>1</td>\n    </tr>\n    <tr>\n      <th>25</th>\n      <td>0.5</td>\n      <td>13</td>\n      <td>0</td>\n      <td>33.199768</td>\n      <td>2.483352</td>\n      <td>0</td>\n      <td>0</td>\n      <td>1</td>\n    </tr>\n    <tr>\n      <th>26</th>\n      <td>0.5</td>\n      <td>13</td>\n      <td>0</td>\n      <td>33.277544</td>\n      <td>1.873461</td>\n      <td>0</td>\n      <td>0</td>\n      <td>1</td>\n    </tr>\n    <tr>\n      <th>27</th>\n      <td>0.5</td>\n      <td>13</td>\n      <td>0</td>\n      <td>33.303478</td>\n      <td>1.716164</td>\n      <td>0</td>\n      <td>0</td>\n      <td>1</td>\n    </tr>\n    <tr>\n      <th>28</th>\n      <td>0.5</td>\n      <td>13</td>\n      <td>0</td>\n      <td>33.329411</td>\n      <td>1.597539</td>\n      <td>0</td>\n      <td>0</td>\n      <td>1</td>\n    </tr>\n    <tr>\n      <th>29</th>\n      <td>0.5</td>\n      <td>13</td>\n      <td>0</td>\n      <td>33.355351</td>\n      <td>1.507031</td>\n      <td>0</td>\n      <td>0</td>\n      <td>1</td>\n    </tr>\n  </tbody>\n</table>\n</div>"
     },
     "execution_count": 6,
     "metadata": {},
     "output_type": "execute_result"
    }
   ],
   "source": [
    "dataset.head(30)"
   ],
   "metadata": {
    "collapsed": false,
    "ExecuteTime": {
     "end_time": "2024-08-02T02:18:17.445721200Z",
     "start_time": "2024-08-02T02:18:17.204321300Z"
    }
   }
  },
  {
   "cell_type": "code",
   "execution_count": 7,
   "metadata": {
    "ExecuteTime": {
     "end_time": "2024-08-02T02:18:19.142915800Z",
     "start_time": "2024-08-02T02:18:19.127380500Z"
    }
   },
   "outputs": [
    {
     "name": "stdout",
     "output_type": "stream",
     "text": [
      "(45639, 7) (45639,)\n"
     ]
    }
   ],
   "source": [
    "y = dataset['Pressure']\n",
    "X = dataset.drop(['Pressure'], axis=1)\n",
    "print(X.shape, y.shape)"
   ]
  },
  {
   "cell_type": "code",
   "execution_count": 8,
   "metadata": {
    "ExecuteTime": {
     "end_time": "2024-08-02T02:18:21.423099500Z",
     "start_time": "2024-08-02T02:18:21.329634300Z"
    }
   },
   "outputs": [],
   "source": [
    "# convert to numpy array\n",
    "X = np.array(X)\n",
    "y = np.array(y)"
   ]
  },
  {
   "cell_type": "markdown",
   "metadata": {
    "colab_type": "text",
    "id": "VC6omXel_Up0"
   },
   "source": [
    "### Splitting the dataset into the Training set and Test set"
   ]
  },
  {
   "cell_type": "code",
   "execution_count": 9,
   "metadata": {
    "colab": {},
    "colab_type": "code",
    "id": "L5edeb2r_agx",
    "ExecuteTime": {
     "end_time": "2024-08-02T02:18:26.251224200Z",
     "start_time": "2024-08-02T02:18:23.235855Z"
    }
   },
   "outputs": [],
   "source": [
    "from sklearn.model_selection import train_test_split\n",
    "X_train, X_test, y_train, y_test = train_test_split(X,\n",
    "                                                    y,\n",
    "                                                    test_size = 0.4,\n",
    "                                                    random_state = 0)"
   ]
  },
  {
   "cell_type": "code",
   "execution_count": 10,
   "metadata": {
    "colab": {},
    "colab_type": "code",
    "id": "L5edeb2r_agx",
    "ExecuteTime": {
     "end_time": "2024-08-02T02:18:27.768436600Z",
     "start_time": "2024-08-02T02:18:27.673129600Z"
    }
   },
   "outputs": [],
   "source": [
    "X_val, X_test, y_val, y_test = train_test_split(X_test,\n",
    "                                                y_test,\n",
    "                                                test_size = 0.5,\n",
    "                                                random_state = 0)"
   ]
  },
  {
   "cell_type": "markdown",
   "source": [
    "## Feature scaling"
   ],
   "metadata": {
    "collapsed": false
   }
  },
  {
   "cell_type": "code",
   "execution_count": 11,
   "outputs": [
    {
     "name": "stdout",
     "output_type": "stream",
     "text": [
      "[[ 1.3876351   0.4768852  -1.52779325 ...  0.          0.\n",
      "   1.        ]\n",
      " [ 0.94852049  0.4768852  -0.59410962 ...  0.          1.\n",
      "   0.        ]\n",
      " [ 1.3876351  -0.43419744 -0.59410962 ...  1.          0.\n",
      "   0.        ]\n",
      " ...\n",
      " [ 0.75335844  1.38796784  1.27325765 ...  0.          0.\n",
      "   1.        ]\n",
      " [ 1.14368254  1.38796784 -1.52779325 ...  0.          0.\n",
      "   1.        ]\n",
      " [-1.00310001 -1.34528007  1.27325765 ...  0.          1.\n",
      "   0.        ]]\n"
     ]
    }
   ],
   "source": [
    "from sklearn.preprocessing import StandardScaler\n",
    "sc = StandardScaler()\n",
    "X_train[:,0:4] = sc.fit_transform(X_train[:, 0:4])\n",
    "print (X_train)"
   ],
   "metadata": {
    "collapsed": false,
    "ExecuteTime": {
     "end_time": "2024-08-02T02:18:32.658053Z",
     "start_time": "2024-08-02T02:18:32.579636700Z"
    }
   }
  },
  {
   "cell_type": "code",
   "execution_count": 12,
   "outputs": [
    {
     "name": "stdout",
     "output_type": "stream",
     "text": [
      "[[ 0.55819639 -0.43419744 -0.59410962 ...  0.          0.\n",
      "   1.        ]\n",
      " [-0.41761386 -1.34528007  0.33957402 ...  0.          0.\n",
      "   1.        ]\n",
      " [ 0.55819639  1.38796784 -1.52779325 ...  0.          0.\n",
      "   1.        ]\n",
      " ...\n",
      " [ 0.75335844 -0.43419744  1.27325765 ...  0.          0.\n",
      "   1.        ]\n",
      " [ 0.75335844  1.38796784  0.33957402 ...  0.          0.\n",
      "   1.        ]\n",
      " [ 0.55819639  1.38796784  1.27325765 ...  0.          0.\n",
      "   1.        ]]\n"
     ]
    }
   ],
   "source": [
    "X_test[:,0:4] = sc.transform(X_test[:,0:4])\n",
    "print (X_test)"
   ],
   "metadata": {
    "collapsed": false,
    "ExecuteTime": {
     "end_time": "2024-08-02T02:18:39.406338400Z",
     "start_time": "2024-08-02T02:18:39.392334Z"
    }
   }
  },
  {
   "cell_type": "code",
   "execution_count": 13,
   "outputs": [
    {
     "name": "stdout",
     "output_type": "stream",
     "text": [
      "[[-0.41761386 -0.43419744 -0.59410962 ...  0.          0.\n",
      "   1.        ]\n",
      " [ 0.75335844  1.38796784  1.27325765 ...  0.          0.\n",
      "   1.        ]\n",
      " [-0.02728976  1.38796784 -0.59410962 ...  0.          1.\n",
      "   0.        ]\n",
      " ...\n",
      " [ 0.94852049  1.38796784  1.27325765 ...  0.          0.\n",
      "   1.        ]\n",
      " [-0.41761386  0.4768852  -0.59410962 ...  0.          0.\n",
      "   1.        ]\n",
      " [-0.61277591  1.38796784  0.33957402 ...  0.          0.\n",
      "   1.        ]]\n"
     ]
    }
   ],
   "source": [
    "X_val[:,0:4] = sc.transform(X_val[:,0:4])\n",
    "print (X_val)"
   ],
   "metadata": {
    "collapsed": false,
    "ExecuteTime": {
     "end_time": "2024-08-02T02:18:40.778161300Z",
     "start_time": "2024-08-02T02:18:40.762147500Z"
    }
   }
  },
  {
   "cell_type": "code",
   "execution_count": 14,
   "outputs": [
    {
     "name": "stdout",
     "output_type": "stream",
     "text": [
      "X_train 27383\n",
      "X_test 9128\n",
      "X_val 9128\n"
     ]
    }
   ],
   "source": [
    "print (\"X_train\", len(X_train))\n",
    "print (\"X_test\", len(X_test))\n",
    "print (\"X_val\", len(X_val))"
   ],
   "metadata": {
    "collapsed": false,
    "ExecuteTime": {
     "end_time": "2024-08-02T02:18:42.532234300Z",
     "start_time": "2024-08-02T02:18:42.437301Z"
    }
   }
  },
  {
   "cell_type": "markdown",
   "metadata": {
    "colab_type": "text",
    "id": "_mSLlAT9_eyI"
   },
   "source": [
    "## Part 3 - Building the ANN"
   ]
  },
  {
   "cell_type": "markdown",
   "metadata": {
    "colab_type": "text",
    "id": "CsBULd_f_wLY"
   },
   "source": [
    "### Initializing the ANN"
   ]
  },
  {
   "cell_type": "code",
   "execution_count": 15,
   "metadata": {
    "colab": {},
    "colab_type": "code",
    "id": "J6Hd97Ls__Nz",
    "ExecuteTime": {
     "end_time": "2024-08-02T02:18:45.309834100Z",
     "start_time": "2024-08-02T02:18:45.214902800Z"
    }
   },
   "outputs": [],
   "source": [
    "ann = tf.keras.models.Sequential()"
   ]
  },
  {
   "cell_type": "markdown",
   "metadata": {
    "colab_type": "text",
    "id": "iitAFJS_ABUn"
   },
   "source": [
    "### Adding the input layer and the first hidden layer"
   ]
  },
  {
   "cell_type": "code",
   "execution_count": 16,
   "metadata": {
    "colab": {},
    "colab_type": "code",
    "id": "ksO_Vv40AHix",
    "ExecuteTime": {
     "end_time": "2024-08-02T02:18:51.155863800Z",
     "start_time": "2024-08-02T02:18:51.072977900Z"
    }
   },
   "outputs": [],
   "source": [
    "ann.add(tf.keras.layers.Dense(units=150,\n",
    "                              input_shape=(X_train.shape[1],),\n",
    "                              activation='relu'))"
   ]
  },
  {
   "cell_type": "markdown",
   "metadata": {
    "colab_type": "text",
    "id": "-lb4kK_wAKbs"
   },
   "source": [
    "### Adding the second hidden layer"
   ]
  },
  {
   "cell_type": "code",
   "execution_count": 17,
   "metadata": {
    "colab": {},
    "colab_type": "code",
    "id": "c2357OqEAQOQ",
    "tags": [],
    "ExecuteTime": {
     "end_time": "2024-08-02T02:18:53.079895Z",
     "start_time": "2024-08-02T02:18:52.985948Z"
    }
   },
   "outputs": [],
   "source": [
    "ann.add(tf.keras.layers.Dense(units=125,\n",
    "                              activation='relu'))"
   ]
  },
  {
   "cell_type": "markdown",
   "metadata": {
    "colab_type": "text",
    "id": "-lb4kK_wAKbs"
   },
   "source": [
    "### Adding the third hidden layer"
   ]
  },
  {
   "cell_type": "code",
   "execution_count": 18,
   "metadata": {
    "colab": {},
    "colab_type": "code",
    "id": "c2357OqEAQOQ",
    "tags": [],
    "ExecuteTime": {
     "end_time": "2024-08-02T02:18:55.095739200Z",
     "start_time": "2024-08-02T02:18:55.017327100Z"
    }
   },
   "outputs": [],
   "source": [
    "ann.add(tf.keras.layers.Dense(units=100,\n",
    "                              activation='relu'))"
   ]
  },
  {
   "cell_type": "markdown",
   "metadata": {
    "colab_type": "text",
    "id": "jwMOmKb3AdBY"
   },
   "source": [
    "### Adding the output layer"
   ]
  },
  {
   "cell_type": "code",
   "execution_count": 19,
   "metadata": {
    "colab": {},
    "colab_type": "code",
    "id": "YFATpzsUAkLL",
    "ExecuteTime": {
     "end_time": "2024-08-02T02:18:56.914679700Z",
     "start_time": "2024-08-02T02:18:56.740433800Z"
    }
   },
   "outputs": [],
   "source": [
    "ann.add(tf.keras.layers.Dense(units=1,\n",
    "                              activation='linear'))"
   ]
  },
  {
   "cell_type": "markdown",
   "metadata": {},
   "source": [
    "### what model looks like"
   ]
  },
  {
   "cell_type": "code",
   "execution_count": 20,
   "metadata": {
    "ExecuteTime": {
     "end_time": "2024-08-02T02:18:59.439296Z",
     "start_time": "2024-08-02T02:18:59.281569900Z"
    }
   },
   "outputs": [
    {
     "name": "stdout",
     "output_type": "stream",
     "text": [
      "Model: \"sequential\"\n",
      "_________________________________________________________________\n",
      " Layer (type)                Output Shape              Param #   \n",
      "=================================================================\n",
      " dense (Dense)               (None, 150)               1200      \n",
      "                                                                 \n",
      " dense_1 (Dense)             (None, 125)               18875     \n",
      "                                                                 \n",
      " dense_2 (Dense)             (None, 100)               12600     \n",
      "                                                                 \n",
      " dense_3 (Dense)             (None, 1)                 101       \n",
      "                                                                 \n",
      "=================================================================\n",
      "Total params: 32,776\n",
      "Trainable params: 32,776\n",
      "Non-trainable params: 0\n",
      "_________________________________________________________________\n"
     ]
    }
   ],
   "source": [
    "ann.summary()"
   ]
  },
  {
   "cell_type": "markdown",
   "metadata": {
    "colab_type": "text",
    "id": "fq7e4fF6A1yy"
   },
   "source": [
    "## Part 4 - Training the ANN"
   ]
  },
  {
   "cell_type": "markdown",
   "metadata": {
    "colab_type": "text",
    "id": "qDeylAs2An25"
   },
   "source": [
    "### Compiling the ANN"
   ]
  },
  {
   "cell_type": "code",
   "execution_count": 21,
   "metadata": {
    "colab": {},
    "colab_type": "code",
    "id": "pesgbWlCAtB4",
    "ExecuteTime": {
     "end_time": "2024-08-02T02:19:02.674001800Z",
     "start_time": "2024-08-02T02:19:02.611214300Z"
    }
   },
   "outputs": [],
   "source": [
    "# from tensorflow.keras.optimizers import Adam\n",
    "from keras.optimizers import Adam\n",
    "opt = Adam(learning_rate=0.001)\n",
    "ann.compile(optimizer = opt,\n",
    "            loss = 'mean_squared_error',\n",
    "            metrics = ['mae'])"
   ]
  },
  {
   "cell_type": "markdown",
   "metadata": {},
   "source": [
    "### early stopping callback"
   ]
  },
  {
   "cell_type": "code",
   "execution_count": 22,
   "metadata": {
    "ExecuteTime": {
     "end_time": "2024-08-02T02:19:05.048704800Z",
     "start_time": "2024-08-02T02:19:05.000921Z"
    }
   },
   "outputs": [],
   "source": [
    "# protects from unnecessary further training of the model if a particular metric does not continue to improve over a number of n epochs. In such a case, the model training would be automatically aborted.\n",
    "from keras.callbacks import EarlyStopping\n",
    "es = EarlyStopping(monitor='val_loss',\n",
    "                   mode='min',\n",
    "                   patience=50,\n",
    "                   restore_best_weights = True)"
   ]
  },
  {
   "cell_type": "markdown",
   "metadata": {
    "colab_type": "text",
    "id": "YjVuiybYOo7r"
   },
   "source": [
    "### Training the ANN model on the Training set"
   ]
  },
  {
   "cell_type": "code",
   "execution_count": 23,
   "metadata": {
    "colab": {
     "base_uri": "https://localhost:8080/",
     "height": 1000
    },
    "colab_type": "code",
    "id": "c_vV-tiiA5zn",
    "outputId": "4a2b6ee6-ed75-4698-9069-b250e613803f",
    "ExecuteTime": {
     "end_time": "2024-08-02T02:41:08.713538500Z",
     "start_time": "2024-08-02T02:19:09.334504300Z"
    }
   },
   "outputs": [
    {
     "name": "stdout",
     "output_type": "stream",
     "text": [
      "Epoch 1/500\n",
      "913/913 [==============================] - 5s 4ms/step - loss: 39.3918 - mae: 3.0560 - val_loss: 21.7598 - val_mae: 2.0306\n",
      "Epoch 2/500\n",
      "913/913 [==============================] - 4s 4ms/step - loss: 17.9833 - mae: 1.9815 - val_loss: 12.6528 - val_mae: 1.5763\n",
      "Epoch 3/500\n",
      "913/913 [==============================] - 4s 4ms/step - loss: 12.6558 - mae: 1.6221 - val_loss: 9.1227 - val_mae: 1.3617\n",
      "Epoch 4/500\n",
      "913/913 [==============================] - 4s 4ms/step - loss: 10.6380 - mae: 1.4379 - val_loss: 15.6268 - val_mae: 1.9635\n",
      "Epoch 5/500\n",
      "913/913 [==============================] - 4s 4ms/step - loss: 11.5145 - mae: 1.5035 - val_loss: 6.2430 - val_mae: 1.0448\n",
      "Epoch 6/500\n",
      "913/913 [==============================] - 4s 4ms/step - loss: 8.1519 - mae: 1.2509 - val_loss: 8.0397 - val_mae: 1.0548\n",
      "Epoch 7/500\n",
      "913/913 [==============================] - 4s 4ms/step - loss: 7.9464 - mae: 1.2173 - val_loss: 11.9938 - val_mae: 1.5530\n",
      "Epoch 8/500\n",
      "913/913 [==============================] - 4s 4ms/step - loss: 8.3502 - mae: 1.2652 - val_loss: 9.9462 - val_mae: 1.2673\n",
      "Epoch 9/500\n",
      "913/913 [==============================] - 4s 4ms/step - loss: 9.3699 - mae: 1.2981 - val_loss: 8.1155 - val_mae: 1.5540\n",
      "Epoch 10/500\n",
      "913/913 [==============================] - 4s 4ms/step - loss: 7.0347 - mae: 1.1733 - val_loss: 4.9409 - val_mae: 1.0072\n",
      "Epoch 11/500\n",
      "913/913 [==============================] - 4s 4ms/step - loss: 8.9042 - mae: 1.2576 - val_loss: 7.1405 - val_mae: 1.1979\n",
      "Epoch 12/500\n",
      "913/913 [==============================] - 4s 4ms/step - loss: 6.6664 - mae: 1.0897 - val_loss: 7.4663 - val_mae: 1.1412\n",
      "Epoch 13/500\n",
      "913/913 [==============================] - 4s 4ms/step - loss: 6.0828 - mae: 1.0376 - val_loss: 4.1346 - val_mae: 0.8846\n",
      "Epoch 14/500\n",
      "913/913 [==============================] - 4s 4ms/step - loss: 5.6285 - mae: 1.0010 - val_loss: 4.4255 - val_mae: 0.8542\n",
      "Epoch 15/500\n",
      "913/913 [==============================] - 4s 4ms/step - loss: 5.5870 - mae: 0.9892 - val_loss: 3.6750 - val_mae: 0.8055\n",
      "Epoch 16/500\n",
      "913/913 [==============================] - 4s 4ms/step - loss: 6.3327 - mae: 1.0289 - val_loss: 22.1749 - val_mae: 1.8406\n",
      "Epoch 17/500\n",
      "913/913 [==============================] - 4s 4ms/step - loss: 6.5188 - mae: 1.0393 - val_loss: 7.4723 - val_mae: 1.2209\n",
      "Epoch 18/500\n",
      "913/913 [==============================] - 4s 4ms/step - loss: 8.1760 - mae: 1.2228 - val_loss: 4.3752 - val_mae: 0.8524\n",
      "Epoch 19/500\n",
      "913/913 [==============================] - 4s 4ms/step - loss: 5.3360 - mae: 0.9552 - val_loss: 3.3028 - val_mae: 0.7965\n",
      "Epoch 20/500\n",
      "913/913 [==============================] - 4s 4ms/step - loss: 4.6917 - mae: 0.8962 - val_loss: 3.0608 - val_mae: 0.7006\n",
      "Epoch 21/500\n",
      "913/913 [==============================] - 4s 4ms/step - loss: 5.3724 - mae: 0.9598 - val_loss: 3.4616 - val_mae: 0.7400\n",
      "Epoch 22/500\n",
      "913/913 [==============================] - 4s 4ms/step - loss: 3.6352 - mae: 0.7965 - val_loss: 2.6977 - val_mae: 0.6754\n",
      "Epoch 23/500\n",
      "913/913 [==============================] - 4s 4ms/step - loss: 6.9456 - mae: 1.0586 - val_loss: 4.3174 - val_mae: 0.8442\n",
      "Epoch 24/500\n",
      "913/913 [==============================] - 4s 4ms/step - loss: 5.3708 - mae: 0.9291 - val_loss: 7.2563 - val_mae: 1.2622\n",
      "Epoch 25/500\n",
      "913/913 [==============================] - 3s 4ms/step - loss: 4.2622 - mae: 0.8621 - val_loss: 5.2346 - val_mae: 1.0376\n",
      "Epoch 26/500\n",
      "913/913 [==============================] - 4s 4ms/step - loss: 4.6704 - mae: 0.8807 - val_loss: 3.4529 - val_mae: 0.7480\n",
      "Epoch 27/500\n",
      "913/913 [==============================] - 4s 4ms/step - loss: 4.7164 - mae: 0.8937 - val_loss: 3.8204 - val_mae: 0.8295\n",
      "Epoch 28/500\n",
      "913/913 [==============================] - 3s 4ms/step - loss: 3.3740 - mae: 0.7590 - val_loss: 5.2244 - val_mae: 0.8900\n",
      "Epoch 29/500\n",
      "913/913 [==============================] - 3s 4ms/step - loss: 5.1891 - mae: 0.9517 - val_loss: 4.0792 - val_mae: 0.8226\n",
      "Epoch 30/500\n",
      "913/913 [==============================] - 4s 4ms/step - loss: 4.1205 - mae: 0.8222 - val_loss: 2.5042 - val_mae: 0.6493\n",
      "Epoch 31/500\n",
      "913/913 [==============================] - 4s 4ms/step - loss: 4.0709 - mae: 0.8132 - val_loss: 3.2253 - val_mae: 0.7821\n",
      "Epoch 32/500\n",
      "913/913 [==============================] - 3s 4ms/step - loss: 3.7471 - mae: 0.7966 - val_loss: 16.9434 - val_mae: 1.3518\n",
      "Epoch 33/500\n",
      "913/913 [==============================] - 3s 4ms/step - loss: 4.3500 - mae: 0.8222 - val_loss: 4.6449 - val_mae: 0.9828\n",
      "Epoch 34/500\n",
      "913/913 [==============================] - 3s 4ms/step - loss: 5.1239 - mae: 0.9054 - val_loss: 3.9641 - val_mae: 0.8118\n",
      "Epoch 35/500\n",
      "913/913 [==============================] - 4s 4ms/step - loss: 4.9471 - mae: 0.9094 - val_loss: 3.1543 - val_mae: 0.7321\n",
      "Epoch 36/500\n",
      "913/913 [==============================] - 3s 4ms/step - loss: 3.3505 - mae: 0.7409 - val_loss: 3.1721 - val_mae: 0.7059\n",
      "Epoch 37/500\n",
      "913/913 [==============================] - 3s 4ms/step - loss: 4.1252 - mae: 0.8298 - val_loss: 2.1260 - val_mae: 0.5491\n",
      "Epoch 38/500\n",
      "913/913 [==============================] - 3s 4ms/step - loss: 3.7215 - mae: 0.7834 - val_loss: 2.8797 - val_mae: 0.7126\n",
      "Epoch 39/500\n",
      "913/913 [==============================] - 4s 4ms/step - loss: 3.3371 - mae: 0.7346 - val_loss: 4.2375 - val_mae: 0.8253\n",
      "Epoch 40/500\n",
      "913/913 [==============================] - 4s 4ms/step - loss: 3.9090 - mae: 0.7913 - val_loss: 5.3177 - val_mae: 0.8715\n",
      "Epoch 41/500\n",
      "913/913 [==============================] - 3s 4ms/step - loss: 3.4063 - mae: 0.7486 - val_loss: 4.3148 - val_mae: 0.9317\n",
      "Epoch 42/500\n",
      "913/913 [==============================] - 3s 4ms/step - loss: 3.9349 - mae: 0.8100 - val_loss: 2.8736 - val_mae: 0.6571\n",
      "Epoch 43/500\n",
      "913/913 [==============================] - 3s 4ms/step - loss: 3.9707 - mae: 0.7836 - val_loss: 2.8678 - val_mae: 0.6424\n",
      "Epoch 44/500\n",
      "913/913 [==============================] - 4s 4ms/step - loss: 3.6141 - mae: 0.7601 - val_loss: 2.8488 - val_mae: 0.7096\n",
      "Epoch 45/500\n",
      "913/913 [==============================] - 3s 4ms/step - loss: 2.6967 - mae: 0.6686 - val_loss: 4.7798 - val_mae: 0.9415\n",
      "Epoch 46/500\n",
      "913/913 [==============================] - 4s 4ms/step - loss: 4.4815 - mae: 0.8361 - val_loss: 2.5131 - val_mae: 0.6557\n",
      "Epoch 47/500\n",
      "913/913 [==============================] - 3s 4ms/step - loss: 3.2798 - mae: 0.7211 - val_loss: 9.7177 - val_mae: 1.2808\n",
      "Epoch 48/500\n",
      "913/913 [==============================] - 4s 4ms/step - loss: 3.0910 - mae: 0.7129 - val_loss: 5.1538 - val_mae: 0.9981\n",
      "Epoch 49/500\n",
      "913/913 [==============================] - 4s 4ms/step - loss: 3.0841 - mae: 0.7168 - val_loss: 5.7854 - val_mae: 0.8885\n",
      "Epoch 50/500\n",
      "913/913 [==============================] - 3s 4ms/step - loss: 4.1929 - mae: 0.8102 - val_loss: 2.4872 - val_mae: 0.5892\n",
      "Epoch 51/500\n",
      "913/913 [==============================] - 4s 4ms/step - loss: 3.3044 - mae: 0.7229 - val_loss: 2.8194 - val_mae: 0.6527\n",
      "Epoch 52/500\n",
      "913/913 [==============================] - 3s 4ms/step - loss: 3.1762 - mae: 0.6905 - val_loss: 2.5044 - val_mae: 0.6390\n",
      "Epoch 53/500\n",
      "913/913 [==============================] - 3s 4ms/step - loss: 3.2022 - mae: 0.7020 - val_loss: 2.4679 - val_mae: 0.6266\n",
      "Epoch 54/500\n",
      "913/913 [==============================] - 3s 4ms/step - loss: 3.7615 - mae: 0.7541 - val_loss: 4.6509 - val_mae: 0.9255\n",
      "Epoch 55/500\n",
      "913/913 [==============================] - 4s 4ms/step - loss: 2.9126 - mae: 0.6873 - val_loss: 4.2277 - val_mae: 0.9055\n",
      "Epoch 56/500\n",
      "913/913 [==============================] - 3s 4ms/step - loss: 4.7247 - mae: 0.8473 - val_loss: 3.8324 - val_mae: 0.7470\n",
      "Epoch 57/500\n",
      "913/913 [==============================] - 3s 4ms/step - loss: 3.3539 - mae: 0.7226 - val_loss: 4.0430 - val_mae: 0.8028\n",
      "Epoch 58/500\n",
      "913/913 [==============================] - 4s 4ms/step - loss: 2.7022 - mae: 0.6650 - val_loss: 5.7659 - val_mae: 0.9661\n",
      "Epoch 59/500\n",
      "913/913 [==============================] - 3s 4ms/step - loss: 3.4802 - mae: 0.7344 - val_loss: 4.4033 - val_mae: 0.7903\n",
      "Epoch 60/500\n",
      "913/913 [==============================] - 3s 4ms/step - loss: 4.3416 - mae: 0.8182 - val_loss: 2.0992 - val_mae: 0.6000\n",
      "Epoch 61/500\n",
      "913/913 [==============================] - 4s 4ms/step - loss: 3.6262 - mae: 0.7478 - val_loss: 2.6054 - val_mae: 0.6088\n",
      "Epoch 62/500\n",
      "913/913 [==============================] - 3s 4ms/step - loss: 2.8125 - mae: 0.6555 - val_loss: 3.0185 - val_mae: 0.6996\n",
      "Epoch 63/500\n",
      "913/913 [==============================] - 4s 4ms/step - loss: 2.4618 - mae: 0.6284 - val_loss: 3.7732 - val_mae: 0.8279\n",
      "Epoch 64/500\n",
      "913/913 [==============================] - 3s 4ms/step - loss: 3.4096 - mae: 0.7300 - val_loss: 1.8674 - val_mae: 0.5927\n",
      "Epoch 65/500\n",
      "913/913 [==============================] - 4s 4ms/step - loss: 3.0711 - mae: 0.7159 - val_loss: 1.9454 - val_mae: 0.5563\n",
      "Epoch 66/500\n",
      "913/913 [==============================] - 4s 4ms/step - loss: 3.4120 - mae: 0.7170 - val_loss: 2.3879 - val_mae: 0.5679\n",
      "Epoch 67/500\n",
      "913/913 [==============================] - 3s 4ms/step - loss: 2.5682 - mae: 0.6348 - val_loss: 1.9846 - val_mae: 0.5832\n",
      "Epoch 68/500\n",
      "913/913 [==============================] - 3s 4ms/step - loss: 2.9590 - mae: 0.6593 - val_loss: 2.8425 - val_mae: 0.8500\n",
      "Epoch 69/500\n",
      "913/913 [==============================] - 4s 4ms/step - loss: 2.2391 - mae: 0.5855 - val_loss: 1.3998 - val_mae: 0.5017\n",
      "Epoch 70/500\n",
      "913/913 [==============================] - 4s 4ms/step - loss: 3.9385 - mae: 0.7582 - val_loss: 1.8035 - val_mae: 0.5456\n",
      "Epoch 71/500\n",
      "913/913 [==============================] - 3s 4ms/step - loss: 3.1451 - mae: 0.6897 - val_loss: 16.9855 - val_mae: 1.9789\n",
      "Epoch 72/500\n",
      "913/913 [==============================] - 4s 4ms/step - loss: 2.6328 - mae: 0.6381 - val_loss: 1.8004 - val_mae: 0.5645\n",
      "Epoch 73/500\n",
      "913/913 [==============================] - 4s 4ms/step - loss: 3.1174 - mae: 0.7053 - val_loss: 1.6066 - val_mae: 0.4933\n",
      "Epoch 74/500\n",
      "913/913 [==============================] - 3s 4ms/step - loss: 3.9575 - mae: 0.7763 - val_loss: 2.6321 - val_mae: 0.6527\n",
      "Epoch 75/500\n",
      "913/913 [==============================] - 4s 4ms/step - loss: 2.7620 - mae: 0.6673 - val_loss: 3.5838 - val_mae: 0.7096\n",
      "Epoch 76/500\n",
      "913/913 [==============================] - 4s 4ms/step - loss: 2.9004 - mae: 0.6804 - val_loss: 4.7382 - val_mae: 0.8149\n",
      "Epoch 77/500\n",
      "913/913 [==============================] - 4s 4ms/step - loss: 2.4519 - mae: 0.6168 - val_loss: 2.0479 - val_mae: 0.5624\n",
      "Epoch 78/500\n",
      "913/913 [==============================] - 3s 4ms/step - loss: 2.4461 - mae: 0.6166 - val_loss: 1.5265 - val_mae: 0.5088\n",
      "Epoch 79/500\n",
      "913/913 [==============================] - 3s 4ms/step - loss: 4.3185 - mae: 0.7880 - val_loss: 1.6604 - val_mae: 0.5389\n",
      "Epoch 80/500\n",
      "913/913 [==============================] - 4s 4ms/step - loss: 2.7108 - mae: 0.6455 - val_loss: 2.1803 - val_mae: 0.5706\n",
      "Epoch 81/500\n",
      "913/913 [==============================] - 3s 4ms/step - loss: 2.6753 - mae: 0.6346 - val_loss: 1.7841 - val_mae: 0.4996\n",
      "Epoch 82/500\n",
      "913/913 [==============================] - 4s 4ms/step - loss: 3.3810 - mae: 0.6864 - val_loss: 6.0699 - val_mae: 0.9553\n",
      "Epoch 83/500\n",
      "913/913 [==============================] - 3s 4ms/step - loss: 2.1321 - mae: 0.5633 - val_loss: 4.0799 - val_mae: 0.7460\n",
      "Epoch 84/500\n",
      "913/913 [==============================] - 3s 4ms/step - loss: 3.3267 - mae: 0.7112 - val_loss: 2.3233 - val_mae: 0.5662\n",
      "Epoch 85/500\n",
      "913/913 [==============================] - 3s 4ms/step - loss: 2.4716 - mae: 0.5974 - val_loss: 2.4784 - val_mae: 0.5680\n",
      "Epoch 86/500\n",
      "913/913 [==============================] - 3s 4ms/step - loss: 2.3456 - mae: 0.6027 - val_loss: 4.4432 - val_mae: 0.9266\n",
      "Epoch 87/500\n",
      "913/913 [==============================] - 3s 4ms/step - loss: 2.5779 - mae: 0.6486 - val_loss: 3.3527 - val_mae: 0.8708\n",
      "Epoch 88/500\n",
      "913/913 [==============================] - 3s 4ms/step - loss: 2.6527 - mae: 0.6468 - val_loss: 10.3330 - val_mae: 1.2527\n",
      "Epoch 89/500\n",
      "913/913 [==============================] - 4s 4ms/step - loss: 3.0518 - mae: 0.6832 - val_loss: 3.5545 - val_mae: 0.8670\n",
      "Epoch 90/500\n",
      "913/913 [==============================] - 4s 4ms/step - loss: 2.4300 - mae: 0.6227 - val_loss: 1.3319 - val_mae: 0.4308\n",
      "Epoch 91/500\n",
      "913/913 [==============================] - 4s 4ms/step - loss: 3.1381 - mae: 0.6483 - val_loss: 3.6200 - val_mae: 0.7471\n",
      "Epoch 92/500\n",
      "913/913 [==============================] - 4s 4ms/step - loss: 2.1618 - mae: 0.5896 - val_loss: 1.5701 - val_mae: 0.4354\n",
      "Epoch 93/500\n",
      "913/913 [==============================] - 4s 4ms/step - loss: 3.4236 - mae: 0.7149 - val_loss: 2.2362 - val_mae: 0.5824\n",
      "Epoch 94/500\n",
      "913/913 [==============================] - 4s 4ms/step - loss: 2.1836 - mae: 0.5706 - val_loss: 1.3546 - val_mae: 0.4066\n",
      "Epoch 95/500\n",
      "913/913 [==============================] - 4s 4ms/step - loss: 2.2236 - mae: 0.5785 - val_loss: 1.9970 - val_mae: 0.5463\n",
      "Epoch 96/500\n",
      "913/913 [==============================] - 3s 4ms/step - loss: 3.5259 - mae: 0.7411 - val_loss: 4.3093 - val_mae: 0.7835\n",
      "Epoch 97/500\n",
      "913/913 [==============================] - 3s 4ms/step - loss: 2.0548 - mae: 0.5594 - val_loss: 1.7821 - val_mae: 0.5267\n",
      "Epoch 98/500\n",
      "913/913 [==============================] - 3s 4ms/step - loss: 2.4912 - mae: 0.5974 - val_loss: 2.2327 - val_mae: 0.6481\n",
      "Epoch 99/500\n",
      "913/913 [==============================] - 4s 4ms/step - loss: 2.2843 - mae: 0.5945 - val_loss: 3.2960 - val_mae: 0.7173\n",
      "Epoch 100/500\n",
      "913/913 [==============================] - 4s 4ms/step - loss: 2.5466 - mae: 0.6197 - val_loss: 1.5955 - val_mae: 0.5080\n",
      "Epoch 101/500\n",
      "913/913 [==============================] - 3s 4ms/step - loss: 2.6256 - mae: 0.6325 - val_loss: 3.8396 - val_mae: 0.7598\n",
      "Epoch 102/500\n",
      "913/913 [==============================] - 3s 4ms/step - loss: 2.7808 - mae: 0.6477 - val_loss: 2.1990 - val_mae: 0.5913\n",
      "Epoch 103/500\n",
      "913/913 [==============================] - 3s 4ms/step - loss: 2.1768 - mae: 0.5731 - val_loss: 1.6072 - val_mae: 0.4546\n",
      "Epoch 104/500\n",
      "913/913 [==============================] - 3s 4ms/step - loss: 2.2640 - mae: 0.5814 - val_loss: 1.5410 - val_mae: 0.4806\n",
      "Epoch 105/500\n",
      "913/913 [==============================] - 4s 4ms/step - loss: 2.2112 - mae: 0.5976 - val_loss: 2.3589 - val_mae: 0.6045\n",
      "Epoch 106/500\n",
      "913/913 [==============================] - 4s 4ms/step - loss: 3.2688 - mae: 0.7047 - val_loss: 1.4836 - val_mae: 0.4855\n",
      "Epoch 107/500\n",
      "913/913 [==============================] - 4s 4ms/step - loss: 2.5245 - mae: 0.6128 - val_loss: 1.7399 - val_mae: 0.5222\n",
      "Epoch 108/500\n",
      "913/913 [==============================] - 3s 4ms/step - loss: 2.1094 - mae: 0.5727 - val_loss: 2.6276 - val_mae: 0.6163\n",
      "Epoch 109/500\n",
      "913/913 [==============================] - 4s 4ms/step - loss: 2.3171 - mae: 0.5918 - val_loss: 7.6640 - val_mae: 1.0679\n",
      "Epoch 110/500\n",
      "913/913 [==============================] - 3s 4ms/step - loss: 2.3940 - mae: 0.5867 - val_loss: 1.7061 - val_mae: 0.5221\n",
      "Epoch 111/500\n",
      "913/913 [==============================] - 3s 4ms/step - loss: 2.4937 - mae: 0.5805 - val_loss: 3.6940 - val_mae: 0.8146\n",
      "Epoch 112/500\n",
      "913/913 [==============================] - 3s 4ms/step - loss: 2.1485 - mae: 0.5719 - val_loss: 1.7463 - val_mae: 0.5266\n",
      "Epoch 113/500\n",
      "913/913 [==============================] - 4s 4ms/step - loss: 2.5862 - mae: 0.6080 - val_loss: 3.4057 - val_mae: 0.7277\n",
      "Epoch 114/500\n",
      "913/913 [==============================] - 3s 4ms/step - loss: 2.1189 - mae: 0.5522 - val_loss: 1.1192 - val_mae: 0.3808\n",
      "Epoch 115/500\n",
      "913/913 [==============================] - 3s 4ms/step - loss: 2.3771 - mae: 0.6028 - val_loss: 3.5145 - val_mae: 0.6870\n",
      "Epoch 116/500\n",
      "913/913 [==============================] - 4s 4ms/step - loss: 2.1822 - mae: 0.5710 - val_loss: 1.3760 - val_mae: 0.4549\n",
      "Epoch 117/500\n",
      "913/913 [==============================] - 3s 4ms/step - loss: 2.4905 - mae: 0.6043 - val_loss: 2.8521 - val_mae: 0.7207\n",
      "Epoch 118/500\n",
      "913/913 [==============================] - 4s 4ms/step - loss: 2.1581 - mae: 0.5653 - val_loss: 3.0740 - val_mae: 0.6525\n",
      "Epoch 119/500\n",
      "913/913 [==============================] - 4s 4ms/step - loss: 3.0690 - mae: 0.6571 - val_loss: 3.3213 - val_mae: 0.7278\n",
      "Epoch 120/500\n",
      "913/913 [==============================] - 3s 4ms/step - loss: 2.1167 - mae: 0.5658 - val_loss: 2.8284 - val_mae: 0.6550\n",
      "Epoch 121/500\n",
      "913/913 [==============================] - 4s 5ms/step - loss: 2.4668 - mae: 0.5765 - val_loss: 1.5153 - val_mae: 0.4400\n",
      "Epoch 122/500\n",
      "913/913 [==============================] - 4s 4ms/step - loss: 2.0122 - mae: 0.5446 - val_loss: 2.9948 - val_mae: 0.6752\n",
      "Epoch 123/500\n",
      "913/913 [==============================] - 4s 4ms/step - loss: 2.8827 - mae: 0.6589 - val_loss: 2.0493 - val_mae: 0.5690\n",
      "Epoch 124/500\n",
      "913/913 [==============================] - 4s 4ms/step - loss: 2.3590 - mae: 0.5828 - val_loss: 1.7562 - val_mae: 0.4983\n",
      "Epoch 125/500\n",
      "913/913 [==============================] - 4s 4ms/step - loss: 1.9954 - mae: 0.5465 - val_loss: 3.8401 - val_mae: 0.7928\n",
      "Epoch 126/500\n",
      "913/913 [==============================] - 4s 4ms/step - loss: 2.3132 - mae: 0.5869 - val_loss: 2.5813 - val_mae: 0.5970\n",
      "Epoch 127/500\n",
      "913/913 [==============================] - 4s 4ms/step - loss: 2.0131 - mae: 0.5379 - val_loss: 1.3445 - val_mae: 0.4261\n",
      "Epoch 128/500\n",
      "913/913 [==============================] - 3s 4ms/step - loss: 2.1180 - mae: 0.5541 - val_loss: 4.7758 - val_mae: 1.1675\n",
      "Epoch 129/500\n",
      "913/913 [==============================] - 4s 4ms/step - loss: 2.7864 - mae: 0.6384 - val_loss: 2.4006 - val_mae: 0.6460\n",
      "Epoch 130/500\n",
      "913/913 [==============================] - 4s 4ms/step - loss: 1.7822 - mae: 0.5251 - val_loss: 1.3986 - val_mae: 0.4623\n",
      "Epoch 131/500\n",
      "913/913 [==============================] - 4s 4ms/step - loss: 2.1219 - mae: 0.5620 - val_loss: 2.0522 - val_mae: 0.5695\n",
      "Epoch 132/500\n",
      "913/913 [==============================] - 4s 4ms/step - loss: 2.1026 - mae: 0.5579 - val_loss: 1.1488 - val_mae: 0.4175\n",
      "Epoch 133/500\n",
      "913/913 [==============================] - 4s 4ms/step - loss: 2.2845 - mae: 0.5565 - val_loss: 2.6966 - val_mae: 0.6342\n",
      "Epoch 134/500\n",
      "913/913 [==============================] - 4s 4ms/step - loss: 1.9141 - mae: 0.5345 - val_loss: 2.6120 - val_mae: 0.7292\n",
      "Epoch 135/500\n",
      "913/913 [==============================] - 4s 4ms/step - loss: 1.8537 - mae: 0.5152 - val_loss: 2.0591 - val_mae: 0.6308\n",
      "Epoch 136/500\n",
      "913/913 [==============================] - 4s 4ms/step - loss: 2.0096 - mae: 0.5572 - val_loss: 2.6877 - val_mae: 0.6377\n",
      "Epoch 137/500\n",
      "913/913 [==============================] - 4s 4ms/step - loss: 2.0744 - mae: 0.5694 - val_loss: 3.1397 - val_mae: 0.6774\n",
      "Epoch 138/500\n",
      "913/913 [==============================] - 4s 4ms/step - loss: 2.4764 - mae: 0.5894 - val_loss: 1.2062 - val_mae: 0.4252\n",
      "Epoch 139/500\n",
      "913/913 [==============================] - 4s 4ms/step - loss: 2.5316 - mae: 0.5954 - val_loss: 5.3074 - val_mae: 1.0086\n",
      "Epoch 140/500\n",
      "913/913 [==============================] - 3s 4ms/step - loss: 1.8801 - mae: 0.5148 - val_loss: 1.4681 - val_mae: 0.4572\n",
      "Epoch 141/500\n",
      "913/913 [==============================] - 4s 4ms/step - loss: 2.2025 - mae: 0.5793 - val_loss: 1.0239 - val_mae: 0.3889\n",
      "Epoch 142/500\n",
      "913/913 [==============================] - 4s 4ms/step - loss: 1.8510 - mae: 0.5114 - val_loss: 3.1486 - val_mae: 0.7190\n",
      "Epoch 143/500\n",
      "913/913 [==============================] - 4s 4ms/step - loss: 2.2476 - mae: 0.5928 - val_loss: 1.6036 - val_mae: 0.4811\n",
      "Epoch 144/500\n",
      "913/913 [==============================] - 4s 4ms/step - loss: 2.0628 - mae: 0.5545 - val_loss: 2.0391 - val_mae: 0.5787\n",
      "Epoch 145/500\n",
      "913/913 [==============================] - 4s 4ms/step - loss: 2.3847 - mae: 0.5489 - val_loss: 1.2291 - val_mae: 0.4843\n",
      "Epoch 146/500\n",
      "913/913 [==============================] - 4s 5ms/step - loss: 1.7590 - mae: 0.5139 - val_loss: 1.3448 - val_mae: 0.4694\n",
      "Epoch 147/500\n",
      "913/913 [==============================] - 4s 5ms/step - loss: 1.6523 - mae: 0.5035 - val_loss: 2.1947 - val_mae: 0.5574\n",
      "Epoch 148/500\n",
      "913/913 [==============================] - 3s 4ms/step - loss: 2.1803 - mae: 0.5642 - val_loss: 2.5971 - val_mae: 0.6598\n",
      "Epoch 149/500\n",
      "913/913 [==============================] - 3s 4ms/step - loss: 1.8906 - mae: 0.5415 - val_loss: 1.4059 - val_mae: 0.4468\n",
      "Epoch 150/500\n",
      "913/913 [==============================] - 3s 4ms/step - loss: 1.9519 - mae: 0.5342 - val_loss: 1.7466 - val_mae: 0.5387\n",
      "Epoch 151/500\n",
      "913/913 [==============================] - 3s 4ms/step - loss: 1.8885 - mae: 0.5217 - val_loss: 1.5091 - val_mae: 0.4955\n",
      "Epoch 152/500\n",
      "913/913 [==============================] - 4s 4ms/step - loss: 2.2194 - mae: 0.5708 - val_loss: 5.8971 - val_mae: 1.1130\n",
      "Epoch 153/500\n",
      "913/913 [==============================] - 4s 4ms/step - loss: 1.5863 - mae: 0.5036 - val_loss: 1.1763 - val_mae: 0.4518\n",
      "Epoch 154/500\n",
      "913/913 [==============================] - 4s 4ms/step - loss: 2.3726 - mae: 0.5777 - val_loss: 4.8195 - val_mae: 0.8436\n",
      "Epoch 155/500\n",
      "913/913 [==============================] - 3s 4ms/step - loss: 1.5798 - mae: 0.4900 - val_loss: 1.2465 - val_mae: 0.4853\n",
      "Epoch 156/500\n",
      "913/913 [==============================] - 3s 4ms/step - loss: 1.7087 - mae: 0.4989 - val_loss: 2.1184 - val_mae: 0.5925\n",
      "Epoch 157/500\n",
      "913/913 [==============================] - 4s 4ms/step - loss: 1.7434 - mae: 0.5170 - val_loss: 2.3231 - val_mae: 0.5921\n",
      "Epoch 158/500\n",
      "913/913 [==============================] - 4s 4ms/step - loss: 2.2022 - mae: 0.5600 - val_loss: 4.5152 - val_mae: 0.8529\n",
      "Epoch 159/500\n",
      "913/913 [==============================] - 4s 4ms/step - loss: 1.8415 - mae: 0.5297 - val_loss: 1.3962 - val_mae: 0.4891\n",
      "Epoch 160/500\n",
      "913/913 [==============================] - 4s 4ms/step - loss: 2.2049 - mae: 0.5676 - val_loss: 3.9294 - val_mae: 0.7211\n",
      "Epoch 161/500\n",
      "913/913 [==============================] - 4s 4ms/step - loss: 1.6096 - mae: 0.4894 - val_loss: 1.7034 - val_mae: 0.5287\n",
      "Epoch 162/500\n",
      "913/913 [==============================] - 3s 4ms/step - loss: 1.6484 - mae: 0.5100 - val_loss: 1.7172 - val_mae: 0.5153\n",
      "Epoch 163/500\n",
      "913/913 [==============================] - 3s 4ms/step - loss: 2.1620 - mae: 0.5719 - val_loss: 4.7195 - val_mae: 0.8777\n",
      "Epoch 164/500\n",
      "913/913 [==============================] - 3s 4ms/step - loss: 2.2673 - mae: 0.5663 - val_loss: 5.9967 - val_mae: 0.9686\n",
      "Epoch 165/500\n",
      "913/913 [==============================] - 3s 4ms/step - loss: 1.3565 - mae: 0.4594 - val_loss: 1.1077 - val_mae: 0.4246\n",
      "Epoch 166/500\n",
      "913/913 [==============================] - 3s 4ms/step - loss: 1.9216 - mae: 0.5474 - val_loss: 1.1029 - val_mae: 0.4339\n",
      "Epoch 167/500\n",
      "913/913 [==============================] - 3s 4ms/step - loss: 2.5519 - mae: 0.6120 - val_loss: 1.1877 - val_mae: 0.4781\n",
      "Epoch 168/500\n",
      "913/913 [==============================] - 3s 4ms/step - loss: 1.5830 - mae: 0.4774 - val_loss: 2.5964 - val_mae: 0.7026\n",
      "Epoch 169/500\n",
      "913/913 [==============================] - 3s 4ms/step - loss: 1.9459 - mae: 0.5521 - val_loss: 1.4338 - val_mae: 0.4818\n",
      "Epoch 170/500\n",
      "913/913 [==============================] - 3s 4ms/step - loss: 1.4465 - mae: 0.4655 - val_loss: 1.4949 - val_mae: 0.4748\n",
      "Epoch 171/500\n",
      "913/913 [==============================] - 3s 4ms/step - loss: 1.6952 - mae: 0.5104 - val_loss: 3.4465 - val_mae: 0.7555\n",
      "Epoch 172/500\n",
      "913/913 [==============================] - 3s 4ms/step - loss: 2.3342 - mae: 0.5806 - val_loss: 0.9721 - val_mae: 0.3860\n",
      "Epoch 173/500\n",
      "913/913 [==============================] - 4s 4ms/step - loss: 1.4286 - mae: 0.4723 - val_loss: 0.8541 - val_mae: 0.3606\n",
      "Epoch 174/500\n",
      "913/913 [==============================] - 3s 4ms/step - loss: 2.3019 - mae: 0.5720 - val_loss: 3.7079 - val_mae: 0.7528\n",
      "Epoch 175/500\n",
      "913/913 [==============================] - 4s 4ms/step - loss: 1.5082 - mae: 0.4808 - val_loss: 0.7893 - val_mae: 0.3453\n",
      "Epoch 176/500\n",
      "913/913 [==============================] - 3s 4ms/step - loss: 1.4753 - mae: 0.4580 - val_loss: 1.0560 - val_mae: 0.4168\n",
      "Epoch 177/500\n",
      "913/913 [==============================] - 3s 3ms/step - loss: 2.2931 - mae: 0.5807 - val_loss: 1.7134 - val_mae: 0.5188\n",
      "Epoch 178/500\n",
      "913/913 [==============================] - 3s 4ms/step - loss: 1.3469 - mae: 0.4586 - val_loss: 2.7784 - val_mae: 0.6904\n",
      "Epoch 179/500\n",
      "913/913 [==============================] - 3s 4ms/step - loss: 1.6831 - mae: 0.5117 - val_loss: 1.1630 - val_mae: 0.4123\n",
      "Epoch 180/500\n",
      "913/913 [==============================] - 3s 4ms/step - loss: 1.6948 - mae: 0.5142 - val_loss: 1.8056 - val_mae: 0.5188\n",
      "Epoch 181/500\n",
      "913/913 [==============================] - 3s 4ms/step - loss: 1.7815 - mae: 0.5185 - val_loss: 1.7165 - val_mae: 0.4820\n",
      "Epoch 182/500\n",
      "913/913 [==============================] - 3s 4ms/step - loss: 1.6902 - mae: 0.5033 - val_loss: 4.0091 - val_mae: 0.7708\n",
      "Epoch 183/500\n",
      "913/913 [==============================] - 3s 4ms/step - loss: 1.5880 - mae: 0.4829 - val_loss: 2.0838 - val_mae: 0.5658\n",
      "Epoch 184/500\n",
      "913/913 [==============================] - 3s 4ms/step - loss: 2.0087 - mae: 0.5184 - val_loss: 0.9540 - val_mae: 0.3925\n",
      "Epoch 185/500\n",
      "913/913 [==============================] - 4s 4ms/step - loss: 1.7364 - mae: 0.4992 - val_loss: 0.9759 - val_mae: 0.3884\n",
      "Epoch 186/500\n",
      "913/913 [==============================] - 3s 4ms/step - loss: 1.6192 - mae: 0.4822 - val_loss: 1.1937 - val_mae: 0.3760\n",
      "Epoch 187/500\n",
      "913/913 [==============================] - 3s 4ms/step - loss: 1.6068 - mae: 0.4943 - val_loss: 4.9102 - val_mae: 0.8312\n",
      "Epoch 188/500\n",
      "913/913 [==============================] - 3s 4ms/step - loss: 2.0467 - mae: 0.5539 - val_loss: 1.0759 - val_mae: 0.4245\n",
      "Epoch 189/500\n",
      "913/913 [==============================] - 3s 4ms/step - loss: 1.8713 - mae: 0.5057 - val_loss: 0.7819 - val_mae: 0.3461\n",
      "Epoch 190/500\n",
      "913/913 [==============================] - 3s 4ms/step - loss: 1.4028 - mae: 0.4645 - val_loss: 1.2675 - val_mae: 0.3821\n",
      "Epoch 191/500\n",
      "913/913 [==============================] - 4s 5ms/step - loss: 1.7632 - mae: 0.5180 - val_loss: 1.4879 - val_mae: 0.4557\n",
      "Epoch 192/500\n",
      "913/913 [==============================] - 3s 4ms/step - loss: 1.7024 - mae: 0.4972 - val_loss: 1.4534 - val_mae: 0.5321\n",
      "Epoch 193/500\n",
      "913/913 [==============================] - 3s 4ms/step - loss: 1.4060 - mae: 0.4738 - val_loss: 1.5888 - val_mae: 0.5120\n",
      "Epoch 194/500\n",
      "913/913 [==============================] - 3s 4ms/step - loss: 1.6776 - mae: 0.5047 - val_loss: 2.4389 - val_mae: 0.6364\n",
      "Epoch 195/500\n",
      "913/913 [==============================] - 3s 4ms/step - loss: 1.4455 - mae: 0.4800 - val_loss: 6.6980 - val_mae: 0.9480\n",
      "Epoch 196/500\n",
      "913/913 [==============================] - 3s 4ms/step - loss: 1.9949 - mae: 0.5454 - val_loss: 1.2823 - val_mae: 0.4491\n",
      "Epoch 197/500\n",
      "913/913 [==============================] - 3s 4ms/step - loss: 1.9500 - mae: 0.5484 - val_loss: 0.8365 - val_mae: 0.3341\n",
      "Epoch 198/500\n",
      "913/913 [==============================] - 4s 4ms/step - loss: 1.3050 - mae: 0.4419 - val_loss: 2.4845 - val_mae: 0.6097\n",
      "Epoch 199/500\n",
      "913/913 [==============================] - 4s 4ms/step - loss: 2.1344 - mae: 0.5888 - val_loss: 0.9390 - val_mae: 0.3276\n",
      "Epoch 200/500\n",
      "913/913 [==============================] - 3s 4ms/step - loss: 1.0947 - mae: 0.4090 - val_loss: 0.9630 - val_mae: 0.4082\n",
      "Epoch 201/500\n",
      "913/913 [==============================] - 4s 4ms/step - loss: 1.6584 - mae: 0.4830 - val_loss: 1.2194 - val_mae: 0.3968\n",
      "Epoch 202/500\n",
      "913/913 [==============================] - 4s 4ms/step - loss: 1.7626 - mae: 0.5166 - val_loss: 0.7432 - val_mae: 0.3397\n",
      "Epoch 203/500\n",
      "913/913 [==============================] - 4s 4ms/step - loss: 1.6109 - mae: 0.4971 - val_loss: 1.1511 - val_mae: 0.4145\n",
      "Epoch 204/500\n",
      "913/913 [==============================] - 4s 4ms/step - loss: 1.2400 - mae: 0.4416 - val_loss: 1.0692 - val_mae: 0.4241\n",
      "Epoch 205/500\n",
      "913/913 [==============================] - 4s 4ms/step - loss: 1.6197 - mae: 0.4921 - val_loss: 3.4073 - val_mae: 0.9565\n",
      "Epoch 206/500\n",
      "913/913 [==============================] - 4s 4ms/step - loss: 1.7080 - mae: 0.5060 - val_loss: 0.8826 - val_mae: 0.3387\n",
      "Epoch 207/500\n",
      "913/913 [==============================] - 3s 4ms/step - loss: 1.5261 - mae: 0.4834 - val_loss: 1.1985 - val_mae: 0.5002\n",
      "Epoch 208/500\n",
      "913/913 [==============================] - 4s 4ms/step - loss: 1.8786 - mae: 0.5053 - val_loss: 0.7291 - val_mae: 0.3718\n",
      "Epoch 209/500\n",
      "913/913 [==============================] - 4s 4ms/step - loss: 1.3645 - mae: 0.4550 - val_loss: 0.8610 - val_mae: 0.3936\n",
      "Epoch 210/500\n",
      "913/913 [==============================] - 4s 4ms/step - loss: 1.6941 - mae: 0.4995 - val_loss: 1.0508 - val_mae: 0.3914\n",
      "Epoch 211/500\n",
      "913/913 [==============================] - 4s 4ms/step - loss: 1.6273 - mae: 0.5000 - val_loss: 3.1243 - val_mae: 0.7095\n",
      "Epoch 212/500\n",
      "913/913 [==============================] - 3s 4ms/step - loss: 1.6041 - mae: 0.4984 - val_loss: 2.2417 - val_mae: 0.7660\n",
      "Epoch 213/500\n",
      "913/913 [==============================] - 3s 4ms/step - loss: 1.1124 - mae: 0.4256 - val_loss: 1.6244 - val_mae: 0.4269\n",
      "Epoch 214/500\n",
      "913/913 [==============================] - 3s 4ms/step - loss: 1.7814 - mae: 0.5196 - val_loss: 2.7327 - val_mae: 0.5956\n",
      "Epoch 215/500\n",
      "913/913 [==============================] - 3s 4ms/step - loss: 2.1078 - mae: 0.5418 - val_loss: 1.2418 - val_mae: 0.4150\n",
      "Epoch 216/500\n",
      "913/913 [==============================] - 3s 4ms/step - loss: 1.2569 - mae: 0.4311 - val_loss: 1.3142 - val_mae: 0.4563\n",
      "Epoch 217/500\n",
      "913/913 [==============================] - 3s 4ms/step - loss: 1.8577 - mae: 0.5243 - val_loss: 1.0210 - val_mae: 0.4293\n",
      "Epoch 218/500\n",
      "913/913 [==============================] - 3s 4ms/step - loss: 1.4053 - mae: 0.4482 - val_loss: 0.8421 - val_mae: 0.3831\n",
      "Epoch 219/500\n",
      "913/913 [==============================] - 3s 4ms/step - loss: 1.4619 - mae: 0.4694 - val_loss: 1.7557 - val_mae: 0.6033\n",
      "Epoch 220/500\n",
      "913/913 [==============================] - 4s 4ms/step - loss: 1.3396 - mae: 0.4656 - val_loss: 2.8989 - val_mae: 0.6279\n",
      "Epoch 221/500\n",
      "913/913 [==============================] - 4s 5ms/step - loss: 1.9522 - mae: 0.4968 - val_loss: 2.2351 - val_mae: 0.5583\n",
      "Epoch 222/500\n",
      "913/913 [==============================] - 4s 4ms/step - loss: 1.0643 - mae: 0.4078 - val_loss: 1.2482 - val_mae: 0.4318\n",
      "Epoch 223/500\n",
      "913/913 [==============================] - 4s 4ms/step - loss: 1.9225 - mae: 0.5439 - val_loss: 0.7674 - val_mae: 0.3925\n",
      "Epoch 224/500\n",
      "913/913 [==============================] - 3s 4ms/step - loss: 1.4686 - mae: 0.4538 - val_loss: 2.4153 - val_mae: 0.5978\n",
      "Epoch 225/500\n",
      "913/913 [==============================] - 3s 4ms/step - loss: 1.7668 - mae: 0.5152 - val_loss: 2.9605 - val_mae: 0.6433\n",
      "Epoch 226/500\n",
      "913/913 [==============================] - 3s 4ms/step - loss: 1.1211 - mae: 0.4296 - val_loss: 1.7280 - val_mae: 0.5651\n",
      "Epoch 227/500\n",
      "913/913 [==============================] - 3s 4ms/step - loss: 1.3172 - mae: 0.4624 - val_loss: 1.1542 - val_mae: 0.4298\n",
      "Epoch 228/500\n",
      "913/913 [==============================] - 3s 4ms/step - loss: 1.5810 - mae: 0.4970 - val_loss: 0.5819 - val_mae: 0.3081\n",
      "Epoch 229/500\n",
      "913/913 [==============================] - 4s 4ms/step - loss: 1.5376 - mae: 0.4687 - val_loss: 1.0544 - val_mae: 0.4569\n",
      "Epoch 230/500\n",
      "913/913 [==============================] - 3s 4ms/step - loss: 1.4128 - mae: 0.4451 - val_loss: 2.2064 - val_mae: 0.5413\n",
      "Epoch 231/500\n",
      "913/913 [==============================] - 3s 4ms/step - loss: 1.4603 - mae: 0.4654 - val_loss: 1.6234 - val_mae: 0.4740\n",
      "Epoch 232/500\n",
      "913/913 [==============================] - 3s 4ms/step - loss: 1.3474 - mae: 0.4479 - val_loss: 2.2951 - val_mae: 0.6165\n",
      "Epoch 233/500\n",
      "913/913 [==============================] - 3s 4ms/step - loss: 2.2170 - mae: 0.5603 - val_loss: 2.4265 - val_mae: 0.7454\n",
      "Epoch 234/500\n",
      "913/913 [==============================] - 3s 4ms/step - loss: 1.2147 - mae: 0.4302 - val_loss: 1.2029 - val_mae: 0.4535\n",
      "Epoch 235/500\n",
      "913/913 [==============================] - 3s 4ms/step - loss: 1.3078 - mae: 0.4474 - val_loss: 0.9827 - val_mae: 0.4236\n",
      "Epoch 236/500\n",
      "913/913 [==============================] - 3s 4ms/step - loss: 1.5746 - mae: 0.4935 - val_loss: 1.0310 - val_mae: 0.3628\n",
      "Epoch 237/500\n",
      "913/913 [==============================] - 3s 4ms/step - loss: 1.2811 - mae: 0.4569 - val_loss: 0.9639 - val_mae: 0.3616\n",
      "Epoch 238/500\n",
      "913/913 [==============================] - 3s 4ms/step - loss: 1.5816 - mae: 0.4868 - val_loss: 2.0783 - val_mae: 0.6105\n",
      "Epoch 239/500\n",
      "913/913 [==============================] - 3s 4ms/step - loss: 1.3866 - mae: 0.4496 - val_loss: 15.9431 - val_mae: 1.2904\n",
      "Epoch 240/500\n",
      "913/913 [==============================] - 3s 4ms/step - loss: 1.2638 - mae: 0.4463 - val_loss: 3.9361 - val_mae: 0.8244\n",
      "Epoch 241/500\n",
      "913/913 [==============================] - 3s 4ms/step - loss: 1.4624 - mae: 0.4764 - val_loss: 0.5729 - val_mae: 0.3387\n",
      "Epoch 242/500\n",
      "913/913 [==============================] - 3s 4ms/step - loss: 1.5828 - mae: 0.4921 - val_loss: 0.6023 - val_mae: 0.3502\n",
      "Epoch 243/500\n",
      "913/913 [==============================] - 3s 4ms/step - loss: 1.4073 - mae: 0.4598 - val_loss: 1.1651 - val_mae: 0.3919\n",
      "Epoch 244/500\n",
      "913/913 [==============================] - 3s 4ms/step - loss: 1.4418 - mae: 0.4645 - val_loss: 1.0738 - val_mae: 0.3814\n",
      "Epoch 245/500\n",
      "913/913 [==============================] - 3s 4ms/step - loss: 1.3971 - mae: 0.4567 - val_loss: 2.0807 - val_mae: 0.7341\n",
      "Epoch 246/500\n",
      "913/913 [==============================] - 3s 4ms/step - loss: 1.2010 - mae: 0.4334 - val_loss: 1.5379 - val_mae: 0.4226\n",
      "Epoch 247/500\n",
      "913/913 [==============================] - 3s 4ms/step - loss: 0.9711 - mae: 0.3999 - val_loss: 1.1704 - val_mae: 0.4881\n",
      "Epoch 248/500\n",
      "913/913 [==============================] - 3s 4ms/step - loss: 1.5821 - mae: 0.4984 - val_loss: 0.8179 - val_mae: 0.3773\n",
      "Epoch 249/500\n",
      "913/913 [==============================] - 3s 4ms/step - loss: 1.4007 - mae: 0.4489 - val_loss: 0.9487 - val_mae: 0.4364\n",
      "Epoch 250/500\n",
      "913/913 [==============================] - 3s 4ms/step - loss: 1.2088 - mae: 0.4354 - val_loss: 2.0659 - val_mae: 0.5822\n",
      "Epoch 251/500\n",
      "913/913 [==============================] - 3s 4ms/step - loss: 1.2144 - mae: 0.4309 - val_loss: 0.9234 - val_mae: 0.3690\n",
      "Epoch 252/500\n",
      "913/913 [==============================] - 3s 4ms/step - loss: 1.4449 - mae: 0.4728 - val_loss: 1.0802 - val_mae: 0.4345\n",
      "Epoch 253/500\n",
      "913/913 [==============================] - 3s 4ms/step - loss: 1.3246 - mae: 0.4354 - val_loss: 0.7507 - val_mae: 0.3528\n",
      "Epoch 254/500\n",
      "913/913 [==============================] - 3s 4ms/step - loss: 1.2110 - mae: 0.4409 - val_loss: 1.7771 - val_mae: 0.6055\n",
      "Epoch 255/500\n",
      "913/913 [==============================] - 3s 4ms/step - loss: 1.1408 - mae: 0.4225 - val_loss: 1.4739 - val_mae: 0.4435\n",
      "Epoch 256/500\n",
      "913/913 [==============================] - 3s 4ms/step - loss: 1.3901 - mae: 0.4584 - val_loss: 1.8089 - val_mae: 0.5413\n",
      "Epoch 257/500\n",
      "913/913 [==============================] - 3s 4ms/step - loss: 1.5743 - mae: 0.4840 - val_loss: 1.2250 - val_mae: 0.4919\n",
      "Epoch 258/500\n",
      "913/913 [==============================] - 3s 4ms/step - loss: 1.4737 - mae: 0.4657 - val_loss: 0.6878 - val_mae: 0.3581\n",
      "Epoch 259/500\n",
      "913/913 [==============================] - 3s 4ms/step - loss: 1.1788 - mae: 0.4245 - val_loss: 1.6125 - val_mae: 0.6003\n",
      "Epoch 260/500\n",
      "913/913 [==============================] - 3s 4ms/step - loss: 1.5107 - mae: 0.4577 - val_loss: 0.7931 - val_mae: 0.4117\n",
      "Epoch 261/500\n",
      "913/913 [==============================] - 3s 4ms/step - loss: 1.2449 - mae: 0.4515 - val_loss: 1.0309 - val_mae: 0.4396\n",
      "Epoch 262/500\n",
      "913/913 [==============================] - 3s 4ms/step - loss: 1.1177 - mae: 0.4162 - val_loss: 1.3135 - val_mae: 0.4976\n",
      "Epoch 263/500\n",
      "913/913 [==============================] - 3s 4ms/step - loss: 1.5953 - mae: 0.4775 - val_loss: 0.5948 - val_mae: 0.3757\n",
      "Epoch 264/500\n",
      "913/913 [==============================] - 3s 4ms/step - loss: 0.9939 - mae: 0.3957 - val_loss: 2.4228 - val_mae: 0.6135\n",
      "Epoch 265/500\n",
      "913/913 [==============================] - 3s 4ms/step - loss: 1.7830 - mae: 0.4932 - val_loss: 0.6611 - val_mae: 0.3533\n",
      "Epoch 266/500\n",
      "913/913 [==============================] - 3s 4ms/step - loss: 1.2347 - mae: 0.4232 - val_loss: 1.4714 - val_mae: 0.5086\n",
      "Epoch 267/500\n",
      "913/913 [==============================] - 3s 4ms/step - loss: 1.0943 - mae: 0.4130 - val_loss: 1.1937 - val_mae: 0.4385\n",
      "Epoch 268/500\n",
      "913/913 [==============================] - 3s 4ms/step - loss: 1.5078 - mae: 0.4743 - val_loss: 1.9973 - val_mae: 0.5703\n",
      "Epoch 269/500\n",
      "913/913 [==============================] - 3s 4ms/step - loss: 1.1123 - mae: 0.4033 - val_loss: 0.9786 - val_mae: 0.4665\n",
      "Epoch 270/500\n",
      "913/913 [==============================] - 3s 4ms/step - loss: 1.1497 - mae: 0.4161 - val_loss: 0.9535 - val_mae: 0.3315\n",
      "Epoch 271/500\n",
      "913/913 [==============================] - 3s 4ms/step - loss: 1.0267 - mae: 0.4097 - val_loss: 2.0628 - val_mae: 0.5420\n",
      "Epoch 272/500\n",
      "913/913 [==============================] - 3s 4ms/step - loss: 1.5003 - mae: 0.4578 - val_loss: 1.5282 - val_mae: 0.5788\n",
      "Epoch 273/500\n",
      "913/913 [==============================] - 3s 4ms/step - loss: 1.5534 - mae: 0.4972 - val_loss: 0.9410 - val_mae: 0.4250\n",
      "Epoch 274/500\n",
      "913/913 [==============================] - 3s 4ms/step - loss: 1.5991 - mae: 0.4656 - val_loss: 0.6818 - val_mae: 0.3577\n",
      "Epoch 275/500\n",
      "913/913 [==============================] - 3s 4ms/step - loss: 1.0391 - mae: 0.3931 - val_loss: 1.7717 - val_mae: 0.5319\n",
      "Epoch 276/500\n",
      "913/913 [==============================] - 3s 4ms/step - loss: 1.6338 - mae: 0.4771 - val_loss: 1.2662 - val_mae: 0.4712\n",
      "Epoch 277/500\n",
      "913/913 [==============================] - 3s 4ms/step - loss: 0.8868 - mae: 0.3846 - val_loss: 1.7363 - val_mae: 0.5988\n",
      "Epoch 278/500\n",
      "913/913 [==============================] - 3s 4ms/step - loss: 1.6413 - mae: 0.4855 - val_loss: 1.4486 - val_mae: 0.5117\n",
      "Epoch 279/500\n",
      "913/913 [==============================] - 3s 4ms/step - loss: 1.1249 - mae: 0.4052 - val_loss: 0.8031 - val_mae: 0.3545\n",
      "Epoch 280/500\n",
      "913/913 [==============================] - 3s 4ms/step - loss: 1.8992 - mae: 0.5015 - val_loss: 1.0884 - val_mae: 0.4498\n",
      "Epoch 281/500\n",
      "913/913 [==============================] - 3s 4ms/step - loss: 0.5656 - mae: 0.3225 - val_loss: 1.4914 - val_mae: 0.5044\n",
      "Epoch 282/500\n",
      "913/913 [==============================] - 3s 4ms/step - loss: 1.2495 - mae: 0.4554 - val_loss: 5.8327 - val_mae: 0.9165\n",
      "Epoch 283/500\n",
      "913/913 [==============================] - 3s 4ms/step - loss: 1.2872 - mae: 0.4502 - val_loss: 2.3784 - val_mae: 0.5470\n",
      "Epoch 284/500\n",
      "913/913 [==============================] - 3s 4ms/step - loss: 0.9285 - mae: 0.3681 - val_loss: 0.5745 - val_mae: 0.3533\n",
      "Epoch 285/500\n",
      "913/913 [==============================] - 3s 4ms/step - loss: 1.0371 - mae: 0.3972 - val_loss: 0.6895 - val_mae: 0.3432\n",
      "Epoch 286/500\n",
      "913/913 [==============================] - 3s 4ms/step - loss: 1.6241 - mae: 0.4868 - val_loss: 0.5614 - val_mae: 0.3457\n",
      "Epoch 287/500\n",
      "913/913 [==============================] - 3s 4ms/step - loss: 1.4744 - mae: 0.4418 - val_loss: 0.6824 - val_mae: 0.3661\n",
      "Epoch 288/500\n",
      "913/913 [==============================] - 3s 4ms/step - loss: 1.5226 - mae: 0.4626 - val_loss: 0.7740 - val_mae: 0.3377\n",
      "Epoch 289/500\n",
      "913/913 [==============================] - 3s 4ms/step - loss: 0.9723 - mae: 0.3890 - val_loss: 0.8447 - val_mae: 0.3150\n",
      "Epoch 290/500\n",
      "913/913 [==============================] - 3s 4ms/step - loss: 1.3894 - mae: 0.4529 - val_loss: 1.2774 - val_mae: 0.4904\n",
      "Epoch 291/500\n",
      "913/913 [==============================] - 3s 4ms/step - loss: 1.3240 - mae: 0.4226 - val_loss: 1.8016 - val_mae: 0.5515\n",
      "Epoch 292/500\n",
      "913/913 [==============================] - 3s 4ms/step - loss: 1.4455 - mae: 0.4509 - val_loss: 0.4532 - val_mae: 0.3205\n",
      "Epoch 293/500\n",
      "913/913 [==============================] - 4s 4ms/step - loss: 0.8465 - mae: 0.3750 - val_loss: 0.9269 - val_mae: 0.4280\n",
      "Epoch 294/500\n",
      "913/913 [==============================] - 3s 4ms/step - loss: 1.2798 - mae: 0.4336 - val_loss: 0.9998 - val_mae: 0.3929\n",
      "Epoch 295/500\n",
      "913/913 [==============================] - 3s 4ms/step - loss: 1.3450 - mae: 0.4402 - val_loss: 0.9222 - val_mae: 0.3964\n",
      "Epoch 296/500\n",
      "913/913 [==============================] - 3s 4ms/step - loss: 0.7324 - mae: 0.3552 - val_loss: 0.4161 - val_mae: 0.2862\n",
      "Epoch 297/500\n",
      "913/913 [==============================] - 3s 4ms/step - loss: 1.0449 - mae: 0.4024 - val_loss: 2.1537 - val_mae: 0.5347\n",
      "Epoch 298/500\n",
      "913/913 [==============================] - 4s 4ms/step - loss: 1.2674 - mae: 0.4281 - val_loss: 0.7249 - val_mae: 0.3633\n",
      "Epoch 299/500\n",
      "913/913 [==============================] - 3s 4ms/step - loss: 1.1159 - mae: 0.3957 - val_loss: 1.4485 - val_mae: 0.4372\n",
      "Epoch 300/500\n",
      "913/913 [==============================] - 3s 4ms/step - loss: 1.2168 - mae: 0.4208 - val_loss: 0.8825 - val_mae: 0.3813\n",
      "Epoch 301/500\n",
      "913/913 [==============================] - 3s 4ms/step - loss: 1.3799 - mae: 0.4458 - val_loss: 1.0414 - val_mae: 0.4239\n",
      "Epoch 302/500\n",
      "913/913 [==============================] - 3s 4ms/step - loss: 1.1291 - mae: 0.4187 - val_loss: 1.2189 - val_mae: 0.5263\n",
      "Epoch 303/500\n",
      "913/913 [==============================] - 3s 4ms/step - loss: 1.5035 - mae: 0.4568 - val_loss: 0.6293 - val_mae: 0.3309\n",
      "Epoch 304/500\n",
      "913/913 [==============================] - 3s 4ms/step - loss: 0.8288 - mae: 0.3661 - val_loss: 0.4453 - val_mae: 0.3177\n",
      "Epoch 305/500\n",
      "913/913 [==============================] - 3s 4ms/step - loss: 1.6960 - mae: 0.4900 - val_loss: 4.0271 - val_mae: 0.8182\n",
      "Epoch 306/500\n",
      "913/913 [==============================] - 3s 4ms/step - loss: 1.1785 - mae: 0.4280 - val_loss: 1.0398 - val_mae: 0.4674\n",
      "Epoch 307/500\n",
      "913/913 [==============================] - 4s 4ms/step - loss: 1.3723 - mae: 0.4304 - val_loss: 10.8309 - val_mae: 1.1186\n",
      "Epoch 308/500\n",
      "913/913 [==============================] - 3s 4ms/step - loss: 1.0617 - mae: 0.4227 - val_loss: 0.7589 - val_mae: 0.3890\n",
      "Epoch 309/500\n",
      "913/913 [==============================] - 3s 4ms/step - loss: 0.7957 - mae: 0.3593 - val_loss: 1.3215 - val_mae: 0.4828\n",
      "Epoch 310/500\n",
      "913/913 [==============================] - 3s 4ms/step - loss: 1.6319 - mae: 0.4951 - val_loss: 1.2983 - val_mae: 0.4900\n",
      "Epoch 311/500\n",
      "913/913 [==============================] - 3s 4ms/step - loss: 1.1825 - mae: 0.4305 - val_loss: 0.4000 - val_mae: 0.3153\n",
      "Epoch 312/500\n",
      "913/913 [==============================] - 3s 4ms/step - loss: 1.1115 - mae: 0.4066 - val_loss: 0.9644 - val_mae: 0.3366\n",
      "Epoch 313/500\n",
      "913/913 [==============================] - 3s 4ms/step - loss: 1.1972 - mae: 0.4225 - val_loss: 0.7995 - val_mae: 0.4149\n",
      "Epoch 314/500\n",
      "913/913 [==============================] - 3s 4ms/step - loss: 1.1856 - mae: 0.4304 - val_loss: 0.8990 - val_mae: 0.3866\n",
      "Epoch 315/500\n",
      "913/913 [==============================] - 3s 4ms/step - loss: 0.8892 - mae: 0.3862 - val_loss: 0.9564 - val_mae: 0.4191\n",
      "Epoch 316/500\n",
      "913/913 [==============================] - 3s 4ms/step - loss: 1.1712 - mae: 0.4207 - val_loss: 1.7009 - val_mae: 0.5598\n",
      "Epoch 317/500\n",
      "913/913 [==============================] - 3s 4ms/step - loss: 1.2091 - mae: 0.4268 - val_loss: 0.4857 - val_mae: 0.3126\n",
      "Epoch 318/500\n",
      "913/913 [==============================] - 3s 4ms/step - loss: 1.2858 - mae: 0.4143 - val_loss: 1.5973 - val_mae: 0.4143\n",
      "Epoch 319/500\n",
      "913/913 [==============================] - 3s 4ms/step - loss: 1.5990 - mae: 0.4537 - val_loss: 24.7473 - val_mae: 1.9471\n",
      "Epoch 320/500\n",
      "913/913 [==============================] - 4s 4ms/step - loss: 1.3096 - mae: 0.4514 - val_loss: 0.5395 - val_mae: 0.3218\n",
      "Epoch 321/500\n",
      "913/913 [==============================] - 3s 4ms/step - loss: 1.4473 - mae: 0.4512 - val_loss: 0.4413 - val_mae: 0.2969\n",
      "Epoch 322/500\n",
      "913/913 [==============================] - 3s 4ms/step - loss: 0.7083 - mae: 0.3423 - val_loss: 1.1406 - val_mae: 0.4077\n",
      "Epoch 323/500\n",
      "913/913 [==============================] - 4s 4ms/step - loss: 1.8618 - mae: 0.4903 - val_loss: 3.5013 - val_mae: 0.7858\n",
      "Epoch 324/500\n",
      "913/913 [==============================] - 4s 4ms/step - loss: 0.9185 - mae: 0.3893 - val_loss: 0.4313 - val_mae: 0.2988\n",
      "Epoch 325/500\n",
      "913/913 [==============================] - 3s 4ms/step - loss: 1.0637 - mae: 0.3994 - val_loss: 1.2200 - val_mae: 0.4348\n",
      "Epoch 326/500\n",
      "913/913 [==============================] - 3s 4ms/step - loss: 1.1527 - mae: 0.4175 - val_loss: 0.5478 - val_mae: 0.3243\n",
      "Epoch 327/500\n",
      "913/913 [==============================] - 3s 4ms/step - loss: 0.9877 - mae: 0.3980 - val_loss: 0.4940 - val_mae: 0.3042\n",
      "Epoch 328/500\n",
      "913/913 [==============================] - 4s 4ms/step - loss: 1.2240 - mae: 0.4269 - val_loss: 0.5096 - val_mae: 0.3003\n",
      "Epoch 329/500\n",
      "913/913 [==============================] - 3s 4ms/step - loss: 1.1006 - mae: 0.4050 - val_loss: 0.2936 - val_mae: 0.2915\n",
      "Epoch 330/500\n",
      "913/913 [==============================] - 3s 4ms/step - loss: 0.6798 - mae: 0.3597 - val_loss: 0.8030 - val_mae: 0.3662\n",
      "Epoch 331/500\n",
      "913/913 [==============================] - 3s 4ms/step - loss: 1.5674 - mae: 0.4689 - val_loss: 1.8153 - val_mae: 0.4901\n",
      "Epoch 332/500\n",
      "913/913 [==============================] - 3s 4ms/step - loss: 1.2994 - mae: 0.4281 - val_loss: 1.0677 - val_mae: 0.4612\n",
      "Epoch 333/500\n",
      "913/913 [==============================] - 3s 4ms/step - loss: 1.3689 - mae: 0.4367 - val_loss: 1.1590 - val_mae: 0.4631\n",
      "Epoch 334/500\n",
      "913/913 [==============================] - 3s 4ms/step - loss: 0.8710 - mae: 0.3759 - val_loss: 2.7048 - val_mae: 0.6341\n",
      "Epoch 335/500\n",
      "913/913 [==============================] - 3s 4ms/step - loss: 1.0162 - mae: 0.4032 - val_loss: 0.8216 - val_mae: 0.3979\n",
      "Epoch 336/500\n",
      "913/913 [==============================] - 3s 4ms/step - loss: 1.3292 - mae: 0.4393 - val_loss: 0.4274 - val_mae: 0.2988\n",
      "Epoch 337/500\n",
      "913/913 [==============================] - 3s 4ms/step - loss: 1.2906 - mae: 0.4272 - val_loss: 0.3434 - val_mae: 0.2739\n",
      "Epoch 338/500\n",
      "913/913 [==============================] - 3s 4ms/step - loss: 0.8306 - mae: 0.3597 - val_loss: 1.2708 - val_mae: 0.4671\n",
      "Epoch 339/500\n",
      "913/913 [==============================] - 3s 4ms/step - loss: 1.3802 - mae: 0.4530 - val_loss: 0.4672 - val_mae: 0.2835\n",
      "Epoch 340/500\n",
      "913/913 [==============================] - 3s 4ms/step - loss: 0.8059 - mae: 0.3683 - val_loss: 0.7355 - val_mae: 0.4018\n",
      "Epoch 341/500\n",
      "913/913 [==============================] - 3s 4ms/step - loss: 1.0818 - mae: 0.4018 - val_loss: 0.8882 - val_mae: 0.4031\n",
      "Epoch 342/500\n",
      "913/913 [==============================] - 3s 4ms/step - loss: 1.3513 - mae: 0.4331 - val_loss: 2.8363 - val_mae: 0.6184\n",
      "Epoch 343/500\n",
      "913/913 [==============================] - 3s 4ms/step - loss: 1.1503 - mae: 0.3961 - val_loss: 1.2161 - val_mae: 0.4682\n",
      "Epoch 344/500\n",
      "913/913 [==============================] - 3s 4ms/step - loss: 0.8847 - mae: 0.3672 - val_loss: 0.8868 - val_mae: 0.3477\n",
      "Epoch 345/500\n",
      "913/913 [==============================] - 3s 4ms/step - loss: 1.1653 - mae: 0.4183 - val_loss: 0.5456 - val_mae: 0.3145\n",
      "Epoch 346/500\n",
      "913/913 [==============================] - 3s 4ms/step - loss: 1.1367 - mae: 0.3874 - val_loss: 0.4267 - val_mae: 0.2623\n",
      "Epoch 347/500\n",
      "913/913 [==============================] - 3s 4ms/step - loss: 1.2637 - mae: 0.4171 - val_loss: 0.5575 - val_mae: 0.3041\n",
      "Epoch 348/500\n",
      "913/913 [==============================] - 3s 4ms/step - loss: 0.8475 - mae: 0.3729 - val_loss: 1.7106 - val_mae: 0.5416\n",
      "Epoch 349/500\n",
      "913/913 [==============================] - 3s 4ms/step - loss: 1.4511 - mae: 0.4613 - val_loss: 2.3505 - val_mae: 0.7530\n",
      "Epoch 350/500\n",
      "913/913 [==============================] - 3s 4ms/step - loss: 1.0643 - mae: 0.4064 - val_loss: 0.8828 - val_mae: 0.4199\n",
      "Epoch 351/500\n",
      "913/913 [==============================] - 3s 4ms/step - loss: 1.0959 - mae: 0.4114 - val_loss: 0.5647 - val_mae: 0.3153\n",
      "Epoch 352/500\n",
      "913/913 [==============================] - 3s 4ms/step - loss: 1.1646 - mae: 0.4092 - val_loss: 0.4258 - val_mae: 0.2767\n",
      "Epoch 353/500\n",
      "913/913 [==============================] - 3s 4ms/step - loss: 1.7958 - mae: 0.4639 - val_loss: 1.3956 - val_mae: 0.4911\n",
      "Epoch 354/500\n",
      "913/913 [==============================] - 4s 4ms/step - loss: 0.8609 - mae: 0.3624 - val_loss: 0.8995 - val_mae: 0.4463\n",
      "Epoch 355/500\n",
      "913/913 [==============================] - 3s 4ms/step - loss: 1.0382 - mae: 0.4063 - val_loss: 0.7249 - val_mae: 0.3565\n",
      "Epoch 356/500\n",
      "913/913 [==============================] - 4s 4ms/step - loss: 0.8558 - mae: 0.3633 - val_loss: 1.2252 - val_mae: 0.5495\n",
      "Epoch 357/500\n",
      "913/913 [==============================] - 3s 4ms/step - loss: 1.3784 - mae: 0.4322 - val_loss: 0.5961 - val_mae: 0.3467\n",
      "Epoch 358/500\n",
      "913/913 [==============================] - 3s 4ms/step - loss: 0.9900 - mae: 0.3894 - val_loss: 5.6044 - val_mae: 0.8645\n",
      "Epoch 359/500\n",
      "913/913 [==============================] - 3s 4ms/step - loss: 1.0126 - mae: 0.4062 - val_loss: 0.5389 - val_mae: 0.3267\n",
      "Epoch 360/500\n",
      "913/913 [==============================] - 3s 4ms/step - loss: 1.0873 - mae: 0.4157 - val_loss: 1.5214 - val_mae: 0.4874\n",
      "Epoch 361/500\n",
      "913/913 [==============================] - 3s 4ms/step - loss: 1.0815 - mae: 0.4189 - val_loss: 2.7128 - val_mae: 0.6707\n",
      "Epoch 362/500\n",
      "913/913 [==============================] - 3s 4ms/step - loss: 1.1581 - mae: 0.4148 - val_loss: 0.5024 - val_mae: 0.3234\n",
      "Epoch 363/500\n",
      "913/913 [==============================] - 3s 4ms/step - loss: 0.7284 - mae: 0.3570 - val_loss: 0.8845 - val_mae: 0.4232\n",
      "Epoch 364/500\n",
      "913/913 [==============================] - 3s 4ms/step - loss: 1.1189 - mae: 0.4122 - val_loss: 0.8868 - val_mae: 0.4217\n",
      "Epoch 365/500\n",
      "913/913 [==============================] - 4s 4ms/step - loss: 0.9688 - mae: 0.3866 - val_loss: 0.5606 - val_mae: 0.3527\n",
      "Epoch 366/500\n",
      "913/913 [==============================] - 3s 4ms/step - loss: 1.0883 - mae: 0.4079 - val_loss: 0.6566 - val_mae: 0.3558\n",
      "Epoch 367/500\n",
      "913/913 [==============================] - 3s 4ms/step - loss: 0.8151 - mae: 0.3796 - val_loss: 0.8891 - val_mae: 0.3998\n",
      "Epoch 368/500\n",
      "913/913 [==============================] - 4s 4ms/step - loss: 0.7161 - mae: 0.3493 - val_loss: 0.3124 - val_mae: 0.2665\n",
      "Epoch 369/500\n",
      "913/913 [==============================] - 3s 4ms/step - loss: 1.1958 - mae: 0.4289 - val_loss: 0.6070 - val_mae: 0.3381\n",
      "Epoch 370/500\n",
      "913/913 [==============================] - 3s 4ms/step - loss: 0.8981 - mae: 0.3776 - val_loss: 0.5840 - val_mae: 0.3192\n",
      "Epoch 371/500\n",
      "913/913 [==============================] - 3s 4ms/step - loss: 1.0898 - mae: 0.3905 - val_loss: 0.3583 - val_mae: 0.2732\n",
      "Epoch 372/500\n",
      "913/913 [==============================] - 3s 4ms/step - loss: 0.8515 - mae: 0.3644 - val_loss: 0.6740 - val_mae: 0.3795\n",
      "Epoch 373/500\n",
      "913/913 [==============================] - 3s 4ms/step - loss: 0.9061 - mae: 0.3896 - val_loss: 0.9950 - val_mae: 0.4217\n",
      "Epoch 374/500\n",
      "913/913 [==============================] - 4s 4ms/step - loss: 1.1721 - mae: 0.4187 - val_loss: 0.5133 - val_mae: 0.2944\n",
      "Epoch 375/500\n",
      "913/913 [==============================] - 3s 4ms/step - loss: 1.3604 - mae: 0.4252 - val_loss: 1.4016 - val_mae: 0.5414\n",
      "Epoch 376/500\n",
      "913/913 [==============================] - 3s 4ms/step - loss: 1.0411 - mae: 0.3823 - val_loss: 0.3806 - val_mae: 0.2974\n",
      "Epoch 377/500\n",
      "913/913 [==============================] - 3s 4ms/step - loss: 0.8802 - mae: 0.3817 - val_loss: 0.9302 - val_mae: 0.4251\n",
      "Epoch 378/500\n",
      "913/913 [==============================] - 3s 4ms/step - loss: 1.5099 - mae: 0.4399 - val_loss: 0.7489 - val_mae: 0.3471\n",
      "Epoch 379/500\n",
      "913/913 [==============================] - 3s 4ms/step - loss: 1.0473 - mae: 0.4016 - val_loss: 1.5782 - val_mae: 0.4533\n"
     ]
    }
   ],
   "source": [
    "history = ann.fit(X_train, y_train,\n",
    "                    validation_data = (X_val, y_val),\n",
    "                    callbacks=[es],\n",
    "                    epochs=500,\n",
    "                    batch_size=30,\n",
    "                    verbose=1)"
   ]
  },
  {
   "cell_type": "markdown",
   "metadata": {
    "colab_type": "text",
    "id": "0H0zKKNEBLD5"
   },
   "source": [
    "### Analyse learn history"
   ]
  },
  {
   "cell_type": "code",
   "execution_count": 24,
   "metadata": {
    "ExecuteTime": {
     "end_time": "2024-08-02T03:22:54.415526300Z",
     "start_time": "2024-08-02T03:22:52.707646600Z"
    }
   },
   "outputs": [
    {
     "data": {
      "text/plain": "<Figure size 640x480 with 1 Axes>",
      "image/png": "[encoded data removed]"
     },
     "metadata": {},
     "output_type": "display_data"
    }
   ],
   "source": [
    "# let's see the training and validation accuracy by epoch\n",
    "history_dict = history.history\n",
    "loss_values = history_dict['loss'] # you can change this\n",
    "val_loss_values = history_dict['val_loss'] # you can also change this\n",
    "epochs = range(1, len(loss_values) + 1) # range of X (no. of epochs)\n",
    "plt.plot(epochs, loss_values, 'blue', label='Train set loss')\n",
    "plt.plot(epochs, val_loss_values, 'orange', label='Validation set loss')\n",
    "#plt.title('Training and testing loss')\n",
    "plt.xlabel('Epochs')\n",
    "plt.ylabel('Loss (MSE)')\n",
    "plt.legend()\n",
    "plt.savefig('Section4_ANN1_2.png', dpi=300, bbox_inches='tight')\n",
    "plt.show()"
   ]
  },
  {
   "cell_type": "code",
   "execution_count": 25,
   "metadata": {
    "ExecuteTime": {
     "end_time": "2024-08-02T03:23:03.536164Z",
     "start_time": "2024-08-02T03:23:02.746295400Z"
    }
   },
   "outputs": [
    {
     "data": {
      "text/plain": "<Figure size 640x480 with 1 Axes>",
      "image/png": "[encoded data removed]"
     },
     "metadata": {},
     "output_type": "display_data"
    }
   ],
   "source": [
    "loss_values1 = history_dict['mae'] # you can change this\n",
    "val_loss_values1 = history_dict['val_mae'] # you can also change this\n",
    "epochs = range(1, len(loss_values1) + 1) # range of X (no. of epochs)\n",
    "plt.plot(epochs, loss_values1, 'blue', label='Train set MAE')\n",
    "plt.plot(epochs, val_loss_values1, 'orange', label='Validation set MAE')\n",
    "#plt.title('Training and testing MAE')\n",
    "plt.xlabel('Epochs')\n",
    "plt.ylabel('MAE')\n",
    "plt.legend()\n",
    "plt.savefig('Section4_ANN1_3.png', dpi=300, bbox_inches='tight')\n",
    "plt.show()"
   ]
  },
  {
   "cell_type": "code",
   "execution_count": null,
   "metadata": {},
   "outputs": [],
   "source": [
    "print (epochs)"
   ]
  },
  {
   "cell_type": "markdown",
   "metadata": {},
   "source": [
    "### Save the model"
   ]
  },
  {
   "cell_type": "code",
   "execution_count": null,
   "metadata": {},
   "outputs": [],
   "source": [
    "ann.save('Section4_new_ANN_1')\n",
    "import pickle\n",
    "pickle.dump(sc, open('Section4_new_scaler_ANN_1.pkl', 'wb'))"
   ]
  },
  {
   "cell_type": "markdown",
   "metadata": {},
   "source": [
    "## Part 5 - Make predictions"
   ]
  },
  {
   "cell_type": "code",
   "execution_count": null,
   "metadata": {},
   "outputs": [],
   "source": [
    "ann = load_model('ANN_13.h5')\n",
    "sc = pickle.load(open('scaler_ANN.pkl', 'rb'))"
   ]
  },
  {
   "cell_type": "code",
   "execution_count": 26,
   "metadata": {
    "ExecuteTime": {
     "end_time": "2024-08-02T03:23:13.230729300Z",
     "start_time": "2024-08-02T03:23:08.121514600Z"
    }
   },
   "outputs": [
    {
     "name": "stdout",
     "output_type": "stream",
     "text": [
      "856/856 [==============================] - 2s 2ms/step\n",
      "286/286 [==============================] - 1s 2ms/step\n"
     ]
    },
    {
     "data": {
      "text/plain": "<Figure size 640x480 with 2 Axes>",
      "image/png": "[encoded data removed]"
     },
     "metadata": {},
     "output_type": "display_data"
    }
   ],
   "source": [
    "# scatterplot of actual vs. pred\n",
    "# specify the dimensions \n",
    "fig, axes = plt.subplots(1,2) # 1 row, 2 columns\n",
    "\n",
    "# this makes the individual subplots\n",
    "# Training Results\n",
    "axes[0].scatter(x=y_train, y=ann.predict(X_train)) #first row, first entry (left top)\n",
    "axes[0].set_xlabel(\"Actual\", fontsize=10)\n",
    "axes[0].set_ylabel(\"Predicted\",  fontsize=10)\n",
    "axes[0].set_title(\"Training\")\n",
    "# add 45 deg line\n",
    "x = np.linspace(*axes[0].get_xlim())\n",
    "axes[0].plot(x, x, color='red')\n",
    "# Validation Results\n",
    "axes[1].scatter(x=y_val, y=ann.predict(X_val)) # first row, second entry (right top)\n",
    "axes[1].set_xlabel(\"Actual\", fontsize=10)\n",
    "axes[1].set_ylabel(\"Predicted\",  fontsize=10)\n",
    "axes[1].set_title(\"Validation\")\n",
    "# add 45 deg line\n",
    "x = np.linspace(*axes[1].get_xlim())\n",
    "axes[1].plot(x, x, color='red')\n",
    "\n",
    "# tight layout\n",
    "fig.tight_layout()\n",
    "\n",
    "plt.savefig('Section4_ANN1_1.png', dpi=300, bbox_inches='tight')\n",
    "# show the plot\n",
    "plt.show()"
   ]
  },
  {
   "cell_type": "code",
   "execution_count": 27,
   "metadata": {
    "colab": {
     "base_uri": "https://localhost:8080/",
     "height": 134
    },
    "colab_type": "code",
    "id": "IA0yApEmBG1X",
    "outputId": "cb981e1f-9204-4a2a-fece-9d66a6919189",
    "ExecuteTime": {
     "end_time": "2024-08-02T03:23:26.261926Z",
     "start_time": "2024-08-02T03:23:25.122238900Z"
    }
   },
   "outputs": [
    {
     "name": "stdout",
     "output_type": "stream",
     "text": [
      "286/286 [==============================] - 1s 2ms/step\n",
      "[[ 1.95e+01  1.93e+01]\n",
      " [ 3.36e+01  3.35e+01]\n",
      " [ 1.06e+00  9.52e-01]\n",
      " ...\n",
      " [ 4.96e+00  5.10e+00]\n",
      " [ 2.53e+01  2.50e+01]\n",
      " [-4.64e-03  6.08e-02]]\n"
     ]
    }
   ],
   "source": [
    "y_pred = ann.predict(X_test)\n",
    "np.set_printoptions(precision=2)\n",
    "print(np.concatenate((y_pred.reshape(len(y_pred),1), y_test.reshape(len(y_test),1)),1))"
   ]
  },
  {
   "cell_type": "code",
   "execution_count": 28,
   "metadata": {
    "ExecuteTime": {
     "end_time": "2024-08-02T03:23:32.115351400Z",
     "start_time": "2024-08-02T03:23:31.641269800Z"
    }
   },
   "outputs": [
    {
     "data": {
      "text/plain": "Text(0, 0.5, 'Predicted data')"
     },
     "execution_count": 28,
     "metadata": {},
     "output_type": "execute_result"
    },
    {
     "data": {
      "text/plain": "<Figure size 640x480 with 1 Axes>",
      "image/png": "[encoded data removed]"
     },
     "metadata": {},
     "output_type": "display_data"
    }
   ],
   "source": [
    "import matplotlib.pyplot as plt\n",
    "plt.scatter(y_test, y_pred, color=\"blue\")\n",
    "#plt.plot ([0,1200000],[0,1200000], color = \"red\")\n",
    "#plt.axis ([0,1200000,0,1200000])\n",
    "plt.xlabel ('Actual data')\n",
    "plt.ylabel ('Predicted data')"
   ]
  },
  {
   "cell_type": "code",
   "execution_count": 29,
   "metadata": {
    "ExecuteTime": {
     "end_time": "2024-08-02T03:23:38.659814Z",
     "start_time": "2024-08-02T03:23:36.097090Z"
    }
   },
   "outputs": [
    {
     "data": {
      "text/plain": "<Figure size 900x900 with 1 Axes>",
      "image/png": "[encoded data removed]"
     },
     "metadata": {},
     "output_type": "display_data"
    }
   ],
   "source": [
    "from sklearn.metrics import r2_score\n",
    "# Initialize layout\n",
    "fig1, ax1 = plt.subplots(figsize = (9, 9))\n",
    "b_l = -10\n",
    "u_l = 110\n",
    "\n",
    "# Add scatterplot\n",
    "ax1.scatter(y_test, y_pred, s=70, alpha=1, edgecolors=\"k\",c='mediumblue',zorder=5, label = 'Points')\n",
    "\n",
    "\n",
    "plt.ylabel('Predicted Incident Pressure (kPa)',fontsize = 25)\n",
    "plt.xlabel('Target Incident Pressure (kPa)',fontsize = 25)\n",
    "plt.xticks(fontsize = 19)\n",
    "plt.yticks(fontsize = 19)\n",
    "\n",
    "\n",
    "x1 = np.linspace(b_l, u_l)\n",
    "\n",
    "plt.plot(x1, x1, 'Red', label='45\\N{DEGREE SIGN} line',lw=2.5,alpha=1)\n",
    "plt.plot(x1, 1.05*x1, '--m', label='\\u00B15% Error',lw=2.5,alpha=0.7)\n",
    "plt.plot(x1, 0.95*x1,'m', linestyle='--',lw=2.5,alpha=0.7)\n",
    "plt.plot(x1, 1.1*x1, '-.g', label='\\u00B110% Error',lw=2.5,alpha=0.7)\n",
    "plt.plot(x1, 0.9*x1,'-.g',lw=2.5,alpha=0.7)\n",
    "plt.plot(x1, 1.2*x1, color = '#F97306', linestyle='dotted', label='\\u00B120% Error',lw=2.5,alpha=0.7)\n",
    "plt.plot(x1, 0.8*x1,color = '#F97306', linestyle='dotted', lw=2.5,alpha=0.7)\n",
    "\n",
    "plt.ylim(b_l, u_l)\n",
    "plt.xlim(b_l, u_l)\n",
    "plt.legend(loc='upper left',fontsize = 21)\n",
    "\n",
    "plt.grid()\n",
    "\n",
    "ax1.spines['left'].set_color('black')        # setting up Y-axis tick color to red\n",
    "ax1.spines['bottom'].set_color('black')         #setting up above X-axis tick color to red\n",
    "\n",
    "# Save the plot\n",
    "plt.savefig('Section4_ANN1.png', dpi=300, bbox_inches='tight')"
   ]
  },
  {
   "cell_type": "code",
   "execution_count": 30,
   "metadata": {
    "ExecuteTime": {
     "end_time": "2024-08-02T03:23:55.252414600Z",
     "start_time": "2024-08-02T03:23:53.073055200Z"
    }
   },
   "outputs": [
    {
     "name": "stdout",
     "output_type": "stream",
     "text": [
      "856/856 [==============================] - 2s 2ms/step\n",
      "0.26995910652273525\n",
      "0.2855325675173661\n"
     ]
    }
   ],
   "source": [
    "# metrics\n",
    "trainpreds = ann.predict(X_train)\n",
    "\n",
    "from sklearn.metrics import mean_absolute_error\n",
    "print(mean_absolute_error(y_train, trainpreds)) # train\n",
    "print(mean_absolute_error(y_test, y_pred)) # test"
   ]
  },
  {
   "cell_type": "code",
   "execution_count": 31,
   "metadata": {
    "ExecuteTime": {
     "end_time": "2024-08-02T03:23:58.366117300Z",
     "start_time": "2024-08-02T03:23:58.160624400Z"
    }
   },
   "outputs": [
    {
     "name": "stdout",
     "output_type": "stream",
     "text": [
      "0.997547695635256\n"
     ]
    }
   ],
   "source": [
    "from sklearn.metrics import r2_score\n",
    "r2 = r2_score(y_test, y_pred)\n",
    "print (r2)"
   ]
  },
  {
   "cell_type": "code",
   "execution_count": 32,
   "metadata": {
    "ExecuteTime": {
     "end_time": "2024-08-02T03:23:59.689637800Z",
     "start_time": "2024-08-02T03:23:59.419928700Z"
    }
   },
   "outputs": [
    {
     "name": "stdout",
     "output_type": "stream",
     "text": [
      "0.9977488857369369\n"
     ]
    }
   ],
   "source": [
    "r2_train = r2_score(y_train, trainpreds)\n",
    "print (r2_train)"
   ]
  },
  {
   "cell_type": "code",
   "execution_count": 34,
   "metadata": {
    "ExecuteTime": {
     "end_time": "2024-08-02T03:24:02.688939700Z",
     "start_time": "2024-08-02T03:24:02.012704500Z"
    }
   },
   "outputs": [
    {
     "name": "stdout",
     "output_type": "stream",
     "text": [
      "Within 5% margin 42.80%\n",
      "Within 10% margin 56.73%\n",
      "Within 20% margin 66.79%\n",
      "Out of 20% margin 33.21%\n"
     ]
    }
   ],
   "source": [
    "count0 = 0\n",
    "for i in range(len(y_pred)):\n",
    "    line1 = y_pred[i] - 0.95*y_test[i]\n",
    "    line2 = y_pred[i] - 1.05*y_test[i]\n",
    "    mask0 = (line1 > 0) & (line2 < 0)\n",
    "    count0 = np.sum(mask0+count0)\n",
    "\n",
    "count1 = 0\n",
    "for i in range(len(y_pred)):\n",
    "    line1 = y_pred[i] - 0.9*y_test[i]\n",
    "    line2 = y_pred[i] - 1.1*y_test[i]\n",
    "    mask1 = (line1 > 0) & (line2 < 0)\n",
    "    count1 = np.sum(mask1+count1)\n",
    "\n",
    "count2 = 0\n",
    "for j in range(len(y_pred)):\n",
    "    line3 = y_pred[j] - 0.8*y_test[j]\n",
    "    line4 = y_pred[j] - 1.2*y_test[j]\n",
    "    mask2 = (line3 > 0) & (line4 < 0)\n",
    "    count2 = np.sum(mask2+count2)\n",
    "\n",
    "\n",
    "count3 = 0    \n",
    "for k in range(len(y_pred)):\n",
    "    line5 = y_pred[k] - 0.8*y_test[k]\n",
    "    line6 = y_pred[k] - 1.2*y_test[k]\n",
    "    mask3 = (line5 < 0) or (line6 > 0)\n",
    "    count3 = np.sum(mask3+count3)\n",
    "   \n",
    "\n",
    "print ('Within 5% margin', format((count0/len (y_pred)),'.2%'))\n",
    "print ('Within 10% margin', format((count1/len (y_pred)),'.2%'))\n",
    "print ('Within 20% margin', format((count2/len (y_pred)),'.2%'))\n",
    "print ('Out of 20% margin', format((count3/len (y_pred)),'.2%'))"
   ]
  },
  {
   "cell_type": "code",
   "execution_count": 35,
   "metadata": {
    "ExecuteTime": {
     "end_time": "2024-08-02T03:24:08.918599600Z",
     "start_time": "2024-08-02T03:24:08.715619500Z"
    }
   },
   "outputs": [
    {
     "name": "stdout",
     "output_type": "stream",
     "text": [
      "0.9975458133840989\n"
     ]
    }
   ],
   "source": [
    "adj_r2 = 1 - ((1 - r2) * (len(X_test) - 1) / (len(X_test) - len (X_test[0]) - 1))\n",
    "print (adj_r2)"
   ]
  },
  {
   "cell_type": "code",
   "execution_count": 36,
   "metadata": {
    "ExecuteTime": {
     "end_time": "2024-08-02T03:24:10.192607Z",
     "start_time": "2024-08-02T03:24:10.113308300Z"
    }
   },
   "outputs": [
    {
     "data": {
      "text/plain": "0.5317361484796158"
     },
     "execution_count": 36,
     "metadata": {},
     "output_type": "execute_result"
    }
   ],
   "source": [
    "import math\n",
    "from sklearn.metrics import mean_squared_error\n",
    "\n",
    "math.sqrt(mean_squared_error(y_test, y_pred))"
   ]
  },
  {
   "cell_type": "code",
   "execution_count": 37,
   "metadata": {
    "ExecuteTime": {
     "end_time": "2024-08-02T03:24:11.767112700Z",
     "start_time": "2024-08-02T03:24:11.562404300Z"
    }
   },
   "outputs": [
    {
     "data": {
      "text/plain": "0.2855325675173661"
     },
     "execution_count": 37,
     "metadata": {},
     "output_type": "execute_result"
    }
   ],
   "source": [
    "from sklearn.metrics import mean_absolute_error\n",
    "\n",
    "mean_absolute_error(y_test, y_pred)"
   ]
  }
 ],
 "metadata": {
  "colab": {
   "collapsed_sections": [],
   "name": "Artificial Neural Network",
   "provenance": [],
   "toc_visible": true
  },
  "kernelspec": {
   "display_name": "Python 3 (ipykernel)",
   "language": "python",
   "name": "python3"
  },
  "language_info": {
   "codemirror_mode": {
    "name": "ipython",
    "version": 3
   },
   "file_extension": ".py",
   "mimetype": "text/x-python",
   "name": "python",
   "nbconvert_exporter": "python",
   "pygments_lexer": "ipython3",
   "version": "3.9.7"
  }
 },
 "nbformat": 4,
 "nbformat_minor": 4
}
