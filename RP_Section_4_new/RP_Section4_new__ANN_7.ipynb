{
 "cells": [
  {
   "cell_type": "markdown",
   "metadata": {
    "colab_type": "text",
    "id": "3cbb7fRy-eyr"
   },
   "source": [
    "# Artificial Neural Network"
   ]
  },
  {
   "cell_type": "markdown",
   "metadata": {
    "colab_type": "text",
    "id": "8sNDnxE2-pwE"
   },
   "source": [
    "## Part 1 - Importing the libraries"
   ]
  },
  {
   "cell_type": "code",
   "execution_count": 1,
   "metadata": {
    "colab": {},
    "colab_type": "code",
    "id": "lxChR1Rk-umf",
    "ExecuteTime": {
     "end_time": "2024-08-26T00:37:45.165937400Z",
     "start_time": "2024-08-26T00:37:40.316059100Z"
    }
   },
   "outputs": [],
   "source": [
    "import numpy as np\n",
    "import pandas as pd\n",
    "import tensorflow as tf\n",
    "import matplotlib.pyplot as plt\n",
    "from keras.models import load_model\n",
    "from pathlib import Path\n",
    "import pickle"
   ]
  },
  {
   "cell_type": "markdown",
   "metadata": {
    "colab_type": "text",
    "id": "AG3FQEch-yuA"
   },
   "source": [
    "## Part 2 - Data Preprocessing"
   ]
  },
  {
   "cell_type": "code",
   "execution_count": 2,
   "metadata": {
    "ExecuteTime": {
     "end_time": "2024-08-26T00:37:46.754894500Z",
     "start_time": "2024-08-26T00:37:46.725268100Z"
    }
   },
   "outputs": [
    {
     "name": "stdout",
     "output_type": "stream",
     "text": [
      "input H:\\Chamodi\\LSDYNA\\Reflected_pressure\\RP_Section_4_new\n",
      "2 [WindowsPath('H:/Chamodi/LSDYNA/Reflected_pressure/RP_Section_4_new/RP_curves_fr13m'), WindowsPath('H:/Chamodi/LSDYNA/Reflected_pressure/RP_Section_4_new/RP_curves_fr15m'), WindowsPath('H:/Chamodi/LSDYNA/Reflected_pressure/RP_Section_4_new/RP_curves_fr17m'), WindowsPath('H:/Chamodi/LSDYNA/Reflected_pressure/RP_Section_4_new/RP_curves_fr19m')]\n"
     ]
    }
   ],
   "source": [
    "#Access input folder\n",
    "current_dir = Path.cwd()\n",
    "input_dir1 = Path (\"H:/Chamodi/LSDYNA/Reflected_pressure/RP_Section_4_new\")\n",
    "print (\"input\",input_dir1)\n",
    "\n",
    "#Access folders inside input folder\n",
    "input_dir2=  [folder1 for folder1 in input_dir1.iterdir() if folder1.is_dir()] # folder1 - RP_curves_fr7m\n",
    "print (\"2\",input_dir2)"
   ]
  },
  {
   "cell_type": "code",
   "execution_count": 3,
   "metadata": {
    "ExecuteTime": {
     "end_time": "2024-08-26T00:37:54.609857100Z",
     "start_time": "2024-08-26T00:37:48.094709200Z"
    }
   },
   "outputs": [
    {
     "name": "stdout",
     "output_type": "stream",
     "text": [
      "folder H:\\Chamodi\\LSDYNA\\Reflected_pressure\\RP_Section_4_new\\RP_curves_fr13m\\13m00.5kg\n",
      "1.xlsx\n",
      "2.xlsx\n",
      "3.xlsx\n",
      "4.xlsx\n",
      "folder H:\\Chamodi\\LSDYNA\\Reflected_pressure\\RP_Section_4_new\\RP_curves_fr13m\\13m02.5kg\n",
      "1.xlsx\n",
      "2.xlsx\n",
      "3.xlsx\n",
      "4.xlsx\n",
      "folder H:\\Chamodi\\LSDYNA\\Reflected_pressure\\RP_Section_4_new\\RP_curves_fr13m\\13m04.5kg\n",
      "1.xlsx\n",
      "2.xlsx\n",
      "3.xlsx\n",
      "4.xlsx\n",
      "folder H:\\Chamodi\\LSDYNA\\Reflected_pressure\\RP_Section_4_new\\RP_curves_fr13m\\13m06.5kg\n",
      "1.xlsx\n",
      "2.xlsx\n",
      "3.xlsx\n",
      "4.xlsx\n",
      "folder H:\\Chamodi\\LSDYNA\\Reflected_pressure\\RP_Section_4_new\\RP_curves_fr13m\\13m08.5kg\n",
      "1.xlsx\n",
      "2.xlsx\n",
      "3.xlsx\n",
      "4.xlsx\n",
      "folder H:\\Chamodi\\LSDYNA\\Reflected_pressure\\RP_Section_4_new\\RP_curves_fr13m\\13m10.5kg\n",
      "1.xlsx\n",
      "2.xlsx\n",
      "3.xlsx\n",
      "4.xlsx\n",
      "folder H:\\Chamodi\\LSDYNA\\Reflected_pressure\\RP_Section_4_new\\RP_curves_fr13m\\13m12.5kg\n",
      "1.xlsx\n",
      "2.xlsx\n",
      "3.xlsx\n",
      "4.xlsx\n",
      "folder H:\\Chamodi\\LSDYNA\\Reflected_pressure\\RP_Section_4_new\\RP_curves_fr13m\\13m14.5kg\n",
      "1.xlsx\n",
      "2.xlsx\n",
      "3.xlsx\n",
      "4.xlsx\n",
      "folder H:\\Chamodi\\LSDYNA\\Reflected_pressure\\RP_Section_4_new\\RP_curves_fr13m\\13m16.5kg\n",
      "1.xlsx\n",
      "2.xlsx\n",
      "3.xlsx\n",
      "4.xlsx\n",
      "folder H:\\Chamodi\\LSDYNA\\Reflected_pressure\\RP_Section_4_new\\RP_curves_fr13m\\13m18.5kg\n",
      "1.xlsx\n",
      "2.xlsx\n",
      "3.xlsx\n",
      "4.xlsx\n",
      "folder H:\\Chamodi\\LSDYNA\\Reflected_pressure\\RP_Section_4_new\\RP_curves_fr13m\\13m20.5kg\n",
      "1.xlsx\n",
      "2.xlsx\n",
      "3.xlsx\n",
      "4.xlsx\n",
      "folder H:\\Chamodi\\LSDYNA\\Reflected_pressure\\RP_Section_4_new\\RP_curves_fr13m\\13m22.5kg\n",
      "1.xlsx\n",
      "2.xlsx\n",
      "3.xlsx\n",
      "4.xlsx\n",
      "folder H:\\Chamodi\\LSDYNA\\Reflected_pressure\\RP_Section_4_new\\RP_curves_fr13m\\13m24.5kg\n",
      "1.xlsx\n",
      "2.xlsx\n",
      "3.xlsx\n",
      "4.xlsx\n",
      "folder H:\\Chamodi\\LSDYNA\\Reflected_pressure\\RP_Section_4_new\\RP_curves_fr13m\\13m26.5kg\n",
      "1.xlsx\n",
      "2.xlsx\n",
      "3.xlsx\n",
      "4.xlsx\n",
      "folder H:\\Chamodi\\LSDYNA\\Reflected_pressure\\RP_Section_4_new\\RP_curves_fr13m\\13m28.5kg\n",
      "1.xlsx\n",
      "2.xlsx\n",
      "3.xlsx\n",
      "4.xlsx\n",
      "folder H:\\Chamodi\\LSDYNA\\Reflected_pressure\\RP_Section_4_new\\RP_curves_fr13m\\13m30.5kg\n",
      "1.xlsx\n",
      "2.xlsx\n",
      "3.xlsx\n",
      "4.xlsx\n",
      "folder H:\\Chamodi\\LSDYNA\\Reflected_pressure\\RP_Section_4_new\\RP_curves_fr13m\\13m32.5kg\n",
      "1.xlsx\n",
      "2.xlsx\n",
      "3.xlsx\n",
      "4.xlsx\n",
      "folder H:\\Chamodi\\LSDYNA\\Reflected_pressure\\RP_Section_4_new\\RP_curves_fr13m\\13m34.5kg\n",
      "1.xlsx\n",
      "2.xlsx\n",
      "3.xlsx\n",
      "4.xlsx\n",
      "folder H:\\Chamodi\\LSDYNA\\Reflected_pressure\\RP_Section_4_new\\RP_curves_fr13m\\13m35.0kg\n",
      "1.xlsx\n",
      "2.xlsx\n",
      "3.xlsx\n",
      "4.xlsx\n",
      "folder H:\\Chamodi\\LSDYNA\\Reflected_pressure\\RP_Section_4_new\\RP_curves_fr15m\\15m00.5kg\n",
      "1.xlsx\n",
      "2.xlsx\n",
      "3.xlsx\n",
      "4.xlsx\n",
      "folder H:\\Chamodi\\LSDYNA\\Reflected_pressure\\RP_Section_4_new\\RP_curves_fr15m\\15m02.5kg\n",
      "1.xlsx\n",
      "2.xlsx\n",
      "3.xlsx\n",
      "4.xlsx\n",
      "folder H:\\Chamodi\\LSDYNA\\Reflected_pressure\\RP_Section_4_new\\RP_curves_fr15m\\15m04.5kg\n",
      "1.xlsx\n",
      "2.xlsx\n",
      "3.xlsx\n",
      "4.xlsx\n",
      "folder H:\\Chamodi\\LSDYNA\\Reflected_pressure\\RP_Section_4_new\\RP_curves_fr15m\\15m06.5kg\n",
      "1.xlsx\n",
      "2.xlsx\n",
      "3.xlsx\n",
      "4.xlsx\n",
      "folder H:\\Chamodi\\LSDYNA\\Reflected_pressure\\RP_Section_4_new\\RP_curves_fr15m\\15m08.5kg\n",
      "1.xlsx\n",
      "2.xlsx\n",
      "3.xlsx\n",
      "4.xlsx\n",
      "folder H:\\Chamodi\\LSDYNA\\Reflected_pressure\\RP_Section_4_new\\RP_curves_fr15m\\15m10.5kg\n",
      "1.xlsx\n",
      "2.xlsx\n",
      "3.xlsx\n",
      "4.xlsx\n",
      "folder H:\\Chamodi\\LSDYNA\\Reflected_pressure\\RP_Section_4_new\\RP_curves_fr15m\\15m12.5kg\n",
      "1.xlsx\n",
      "2.xlsx\n",
      "3.xlsx\n",
      "4.xlsx\n",
      "folder H:\\Chamodi\\LSDYNA\\Reflected_pressure\\RP_Section_4_new\\RP_curves_fr15m\\15m14.5kg\n",
      "1.xlsx\n",
      "2.xlsx\n",
      "3.xlsx\n",
      "4.xlsx\n",
      "folder H:\\Chamodi\\LSDYNA\\Reflected_pressure\\RP_Section_4_new\\RP_curves_fr15m\\15m16.5kg\n",
      "1.xlsx\n",
      "2.xlsx\n",
      "3.xlsx\n",
      "4.xlsx\n",
      "folder H:\\Chamodi\\LSDYNA\\Reflected_pressure\\RP_Section_4_new\\RP_curves_fr15m\\15m18.5kg\n",
      "1.xlsx\n",
      "2.xlsx\n",
      "3.xlsx\n",
      "4.xlsx\n",
      "folder H:\\Chamodi\\LSDYNA\\Reflected_pressure\\RP_Section_4_new\\RP_curves_fr15m\\15m20.5kg\n",
      "1.xlsx\n",
      "2.xlsx\n",
      "3.xlsx\n",
      "4.xlsx\n",
      "folder H:\\Chamodi\\LSDYNA\\Reflected_pressure\\RP_Section_4_new\\RP_curves_fr15m\\15m22.5kg\n",
      "1.xlsx\n",
      "2.xlsx\n",
      "3.xlsx\n",
      "4.xlsx\n",
      "folder H:\\Chamodi\\LSDYNA\\Reflected_pressure\\RP_Section_4_new\\RP_curves_fr15m\\15m24.5kg\n",
      "1.xlsx\n",
      "2.xlsx\n",
      "3.xlsx\n",
      "4.xlsx\n",
      "folder H:\\Chamodi\\LSDYNA\\Reflected_pressure\\RP_Section_4_new\\RP_curves_fr15m\\15m26.5kg\n",
      "1.xlsx\n",
      "2.xlsx\n",
      "3.xlsx\n",
      "4.xlsx\n",
      "folder H:\\Chamodi\\LSDYNA\\Reflected_pressure\\RP_Section_4_new\\RP_curves_fr15m\\15m28.5kg\n",
      "1.xlsx\n",
      "2.xlsx\n",
      "3.xlsx\n",
      "4.xlsx\n",
      "folder H:\\Chamodi\\LSDYNA\\Reflected_pressure\\RP_Section_4_new\\RP_curves_fr15m\\15m30.5kg\n",
      "1.xlsx\n",
      "2.xlsx\n",
      "3.xlsx\n",
      "4.xlsx\n",
      "folder H:\\Chamodi\\LSDYNA\\Reflected_pressure\\RP_Section_4_new\\RP_curves_fr15m\\15m32.5kg\n",
      "1.xlsx\n",
      "2.xlsx\n",
      "3.xlsx\n",
      "4.xlsx\n",
      "folder H:\\Chamodi\\LSDYNA\\Reflected_pressure\\RP_Section_4_new\\RP_curves_fr15m\\15m34.5kg\n",
      "1.xlsx\n",
      "2.xlsx\n",
      "3.xlsx\n",
      "4.xlsx\n",
      "folder H:\\Chamodi\\LSDYNA\\Reflected_pressure\\RP_Section_4_new\\RP_curves_fr15m\\15m35.0kg\n",
      "1.xlsx\n",
      "2.xlsx\n",
      "3.xlsx\n",
      "4.xlsx\n",
      "folder H:\\Chamodi\\LSDYNA\\Reflected_pressure\\RP_Section_4_new\\RP_curves_fr17m\\17m00.5kg\n",
      "1.xlsx\n",
      "2.xlsx\n",
      "3.xlsx\n",
      "4.xlsx\n",
      "folder H:\\Chamodi\\LSDYNA\\Reflected_pressure\\RP_Section_4_new\\RP_curves_fr17m\\17m02.5kg\n",
      "1.xlsx\n",
      "2.xlsx\n",
      "3.xlsx\n",
      "4.xlsx\n",
      "folder H:\\Chamodi\\LSDYNA\\Reflected_pressure\\RP_Section_4_new\\RP_curves_fr17m\\17m04.5kg\n",
      "1.xlsx\n",
      "2.xlsx\n",
      "3.xlsx\n",
      "4.xlsx\n",
      "folder H:\\Chamodi\\LSDYNA\\Reflected_pressure\\RP_Section_4_new\\RP_curves_fr17m\\17m06.5kg\n",
      "1.xlsx\n",
      "2.xlsx\n",
      "3.xlsx\n",
      "4.xlsx\n",
      "folder H:\\Chamodi\\LSDYNA\\Reflected_pressure\\RP_Section_4_new\\RP_curves_fr17m\\17m08.5kg\n",
      "1.xlsx\n",
      "2.xlsx\n",
      "3.xlsx\n",
      "4.xlsx\n",
      "folder H:\\Chamodi\\LSDYNA\\Reflected_pressure\\RP_Section_4_new\\RP_curves_fr17m\\17m10.5kg\n",
      "1.xlsx\n",
      "2.xlsx\n",
      "3.xlsx\n",
      "4.xlsx\n",
      "folder H:\\Chamodi\\LSDYNA\\Reflected_pressure\\RP_Section_4_new\\RP_curves_fr17m\\17m12.5kg\n",
      "1.xlsx\n",
      "2.xlsx\n",
      "3.xlsx\n",
      "4.xlsx\n",
      "folder H:\\Chamodi\\LSDYNA\\Reflected_pressure\\RP_Section_4_new\\RP_curves_fr17m\\17m14.5kg\n",
      "1.xlsx\n",
      "2.xlsx\n",
      "3.xlsx\n",
      "4.xlsx\n",
      "folder H:\\Chamodi\\LSDYNA\\Reflected_pressure\\RP_Section_4_new\\RP_curves_fr17m\\17m16.5kg\n",
      "1.xlsx\n",
      "2.xlsx\n",
      "3.xlsx\n",
      "4.xlsx\n",
      "folder H:\\Chamodi\\LSDYNA\\Reflected_pressure\\RP_Section_4_new\\RP_curves_fr17m\\17m18.5kg\n",
      "1.xlsx\n",
      "2.xlsx\n",
      "3.xlsx\n",
      "4.xlsx\n",
      "folder H:\\Chamodi\\LSDYNA\\Reflected_pressure\\RP_Section_4_new\\RP_curves_fr17m\\17m20.5kg\n",
      "1.xlsx\n",
      "2.xlsx\n",
      "3.xlsx\n",
      "4.xlsx\n",
      "folder H:\\Chamodi\\LSDYNA\\Reflected_pressure\\RP_Section_4_new\\RP_curves_fr17m\\17m22.5kg\n",
      "1.xlsx\n",
      "2.xlsx\n",
      "3.xlsx\n",
      "4.xlsx\n",
      "folder H:\\Chamodi\\LSDYNA\\Reflected_pressure\\RP_Section_4_new\\RP_curves_fr17m\\17m24.5kg\n",
      "1.xlsx\n",
      "2.xlsx\n",
      "3.xlsx\n",
      "4.xlsx\n",
      "folder H:\\Chamodi\\LSDYNA\\Reflected_pressure\\RP_Section_4_new\\RP_curves_fr17m\\17m26.5kg\n",
      "1.xlsx\n",
      "2.xlsx\n",
      "3.xlsx\n",
      "4.xlsx\n",
      "folder H:\\Chamodi\\LSDYNA\\Reflected_pressure\\RP_Section_4_new\\RP_curves_fr17m\\17m28.5kg\n",
      "1.xlsx\n",
      "2.xlsx\n",
      "3.xlsx\n",
      "4.xlsx\n",
      "folder H:\\Chamodi\\LSDYNA\\Reflected_pressure\\RP_Section_4_new\\RP_curves_fr17m\\17m30.5kg\n",
      "1.xlsx\n",
      "2.xlsx\n",
      "3.xlsx\n",
      "4.xlsx\n",
      "folder H:\\Chamodi\\LSDYNA\\Reflected_pressure\\RP_Section_4_new\\RP_curves_fr17m\\17m32.5kg\n",
      "1.xlsx\n",
      "2.xlsx\n",
      "3.xlsx\n",
      "4.xlsx\n",
      "folder H:\\Chamodi\\LSDYNA\\Reflected_pressure\\RP_Section_4_new\\RP_curves_fr17m\\17m34.5kg\n",
      "1.xlsx\n",
      "2.xlsx\n",
      "3.xlsx\n",
      "4.xlsx\n",
      "folder H:\\Chamodi\\LSDYNA\\Reflected_pressure\\RP_Section_4_new\\RP_curves_fr17m\\17m35.0kg\n",
      "1.xlsx\n",
      "2.xlsx\n",
      "3.xlsx\n",
      "4.xlsx\n",
      "folder H:\\Chamodi\\LSDYNA\\Reflected_pressure\\RP_Section_4_new\\RP_curves_fr19m\\19m00.5kg\n",
      "1.xlsx\n",
      "2.xlsx\n",
      "3.xlsx\n",
      "4.xlsx\n",
      "folder H:\\Chamodi\\LSDYNA\\Reflected_pressure\\RP_Section_4_new\\RP_curves_fr19m\\19m02.5kg\n",
      "1.xlsx\n",
      "2.xlsx\n",
      "3.xlsx\n",
      "4.xlsx\n",
      "folder H:\\Chamodi\\LSDYNA\\Reflected_pressure\\RP_Section_4_new\\RP_curves_fr19m\\19m04.5kg\n",
      "1.xlsx\n",
      "2.xlsx\n",
      "3.xlsx\n",
      "4.xlsx\n",
      "folder H:\\Chamodi\\LSDYNA\\Reflected_pressure\\RP_Section_4_new\\RP_curves_fr19m\\19m06.5kg\n",
      "1.xlsx\n",
      "2.xlsx\n",
      "3.xlsx\n",
      "4.xlsx\n",
      "folder H:\\Chamodi\\LSDYNA\\Reflected_pressure\\RP_Section_4_new\\RP_curves_fr19m\\19m08.5kg\n",
      "1.xlsx\n",
      "2.xlsx\n",
      "3.xlsx\n",
      "4.xlsx\n",
      "folder H:\\Chamodi\\LSDYNA\\Reflected_pressure\\RP_Section_4_new\\RP_curves_fr19m\\19m10.5kg\n",
      "1.xlsx\n",
      "2.xlsx\n",
      "3.xlsx\n",
      "4.xlsx\n",
      "folder H:\\Chamodi\\LSDYNA\\Reflected_pressure\\RP_Section_4_new\\RP_curves_fr19m\\19m12.5kg\n",
      "1.xlsx\n",
      "2.xlsx\n",
      "3.xlsx\n",
      "4.xlsx\n",
      "folder H:\\Chamodi\\LSDYNA\\Reflected_pressure\\RP_Section_4_new\\RP_curves_fr19m\\19m14.5kg\n",
      "1.xlsx\n",
      "2.xlsx\n",
      "3.xlsx\n",
      "4.xlsx\n",
      "folder H:\\Chamodi\\LSDYNA\\Reflected_pressure\\RP_Section_4_new\\RP_curves_fr19m\\19m16.5kg\n",
      "1.xlsx\n",
      "2.xlsx\n",
      "3.xlsx\n",
      "4.xlsx\n",
      "folder H:\\Chamodi\\LSDYNA\\Reflected_pressure\\RP_Section_4_new\\RP_curves_fr19m\\19m18.5kg\n",
      "1.xlsx\n",
      "2.xlsx\n",
      "3.xlsx\n",
      "4.xlsx\n",
      "folder H:\\Chamodi\\LSDYNA\\Reflected_pressure\\RP_Section_4_new\\RP_curves_fr19m\\19m20.5kg\n",
      "1.xlsx\n",
      "2.xlsx\n",
      "3.xlsx\n",
      "4.xlsx\n",
      "folder H:\\Chamodi\\LSDYNA\\Reflected_pressure\\RP_Section_4_new\\RP_curves_fr19m\\19m22.5kg\n",
      "1.xlsx\n",
      "2.xlsx\n",
      "3.xlsx\n",
      "4.xlsx\n",
      "folder H:\\Chamodi\\LSDYNA\\Reflected_pressure\\RP_Section_4_new\\RP_curves_fr19m\\19m24.5kg\n",
      "1.xlsx\n",
      "2.xlsx\n",
      "3.xlsx\n",
      "4.xlsx\n",
      "folder H:\\Chamodi\\LSDYNA\\Reflected_pressure\\RP_Section_4_new\\RP_curves_fr19m\\19m26.5kg\n",
      "1.xlsx\n",
      "2.xlsx\n",
      "3.xlsx\n",
      "4.xlsx\n",
      "folder H:\\Chamodi\\LSDYNA\\Reflected_pressure\\RP_Section_4_new\\RP_curves_fr19m\\19m28.5kg\n",
      "1.xlsx\n",
      "2.xlsx\n",
      "3.xlsx\n",
      "4.xlsx\n",
      "folder H:\\Chamodi\\LSDYNA\\Reflected_pressure\\RP_Section_4_new\\RP_curves_fr19m\\19m30.5kg\n",
      "1.xlsx\n",
      "2.xlsx\n",
      "3.xlsx\n",
      "4.xlsx\n",
      "folder H:\\Chamodi\\LSDYNA\\Reflected_pressure\\RP_Section_4_new\\RP_curves_fr19m\\19m32.5kg\n",
      "1.xlsx\n",
      "2.xlsx\n",
      "3.xlsx\n",
      "4.xlsx\n",
      "folder H:\\Chamodi\\LSDYNA\\Reflected_pressure\\RP_Section_4_new\\RP_curves_fr19m\\19m34.5kg\n",
      "1.xlsx\n",
      "2.xlsx\n",
      "3.xlsx\n",
      "4.xlsx\n",
      "folder H:\\Chamodi\\LSDYNA\\Reflected_pressure\\RP_Section_4_new\\RP_curves_fr19m\\19m35.0kg\n",
      "1.xlsx\n",
      "2.xlsx\n",
      "3.xlsx\n",
      "4.xlsx\n"
     ]
    }
   ],
   "source": [
    "#dataset = pd.DataFrame(columns = ['Charge_mass', 'Standoff_distance', 'Time', 'Pressure', 'Phase'])\n",
    "df_list = []\n",
    "\n",
    "for folder1 in input_dir2:\n",
    "    \n",
    "    input_dir3 =  [folder2 for folder2 in folder1.iterdir() if folder2.is_dir()] # folder2 - 07m00.5kg\n",
    "    \n",
    "    for folder2 in input_dir3:\n",
    "        \n",
    "        print ('folder', folder2)\n",
    "        files1 = [file1 for file1 in folder2.rglob(\"*.xlsx\")]\n",
    "    \n",
    "        for file1 in files1:\n",
    "            df_list.append(pd.read_excel(file1))\n",
    "            print (file1.stem)\n",
    "    \n",
    "dataset = pd.concat(df_list, ignore_index = True)"
   ]
  },
  {
   "cell_type": "code",
   "execution_count": 4,
   "metadata": {
    "colab": {},
    "colab_type": "code",
    "id": "B9CV13Co_HHM",
    "ExecuteTime": {
     "end_time": "2024-08-26T00:37:56.772894600Z",
     "start_time": "2024-08-26T00:37:56.725350600Z"
    }
   },
   "outputs": [
    {
     "name": "stdout",
     "output_type": "stream",
     "text": [
      "<class 'pandas.core.frame.DataFrame'>\n",
      "RangeIndex: 45639 entries, 0 to 45638\n",
      "Data columns (total 6 columns):\n",
      " #   Column             Non-Null Count  Dtype  \n",
      "---  ------             --------------  -----  \n",
      " 0   Mass               45639 non-null  float64\n",
      " 1   Standoff distance  45639 non-null  int64  \n",
      " 2   Angle              45639 non-null  int64  \n",
      " 3   Time               45639 non-null  float64\n",
      " 4   Phase              45639 non-null  object \n",
      " 5   Pressure           45639 non-null  float64\n",
      "dtypes: float64(3), int64(2), object(1)\n",
      "memory usage: 2.1+ MB\n"
     ]
    }
   ],
   "source": [
    "dataset.info()"
   ]
  },
  {
   "cell_type": "code",
   "execution_count": 5,
   "outputs": [
    {
     "name": "stdout",
     "output_type": "stream",
     "text": [
      "<class 'pandas.core.frame.DataFrame'>\n",
      "RangeIndex: 45639 entries, 0 to 45638\n",
      "Data columns (total 7 columns):\n",
      " #   Column             Non-Null Count  Dtype  \n",
      "---  ------             --------------  -----  \n",
      " 0   Mass               45639 non-null  float64\n",
      " 1   Standoff distance  45639 non-null  int64  \n",
      " 2   Angle              45639 non-null  int64  \n",
      " 3   Time               45639 non-null  float64\n",
      " 4   Pressure           45639 non-null  float64\n",
      " 5   Phase_negative     45639 non-null  uint8  \n",
      " 6   Phase_positive     45639 non-null  uint8  \n",
      "dtypes: float64(3), int64(2), uint8(2)\n",
      "memory usage: 1.8 MB\n"
     ]
    }
   ],
   "source": [
    "# Assuming your original column is named 'Category'\n",
    "dataset['Phase'] = dataset['Phase'].replace({'negative_increasing': 'negative', 'negative_decreasing': 'negative'})\n",
    "dataset = pd.get_dummies(dataset, columns =['Phase'], dtype = np.uint8)\n",
    "dataset.info()"
   ],
   "metadata": {
    "collapsed": false,
    "ExecuteTime": {
     "end_time": "2024-08-26T00:37:59.156047900Z",
     "start_time": "2024-08-26T00:37:59.077986800Z"
    }
   }
  },
  {
   "cell_type": "code",
   "execution_count": 6,
   "outputs": [
    {
     "data": {
      "text/plain": "    Mass  Standoff distance  Angle       Time   Pressure  Phase_negative  \\\n0    0.5                 13      0  32.475292  10.613961               0   \n1    0.5                 13      0  32.501128  10.575125               0   \n2    0.5                 13      0  32.526964  10.331852               0   \n3    0.5                 13      0  32.578656   9.636125               0   \n4    0.5                 13      0  32.604503   9.363102               0   \n5    0.5                 13      0  32.630350   9.191898               0   \n6    0.5                 13      0  32.656197   9.095148               0   \n7    0.5                 13      0  32.682045   9.017906               0   \n8    0.5                 13      0  32.707893   8.859992               0   \n9    0.5                 13      0  32.733743   8.544781               0   \n10   0.5                 13      0  32.759600   8.039852               0   \n11   0.5                 13      0  32.785467   7.370180               0   \n12   0.5                 13      0  32.863089   5.057969               0   \n13   0.5                 13      0  32.888959   4.407305               0   \n14   0.5                 13      0  32.914831   3.859586               0   \n15   0.5                 13      0  32.940722   3.422930               0   \n16   0.5                 13      0  32.966613   3.086836               0   \n17   0.5                 13      0  32.992504   2.850336               0   \n18   0.5                 13      0  33.018394   2.711273               0   \n19   0.5                 13      0  33.044293   2.656227               0   \n20   0.5                 13      0  33.070200   2.658398               0   \n21   0.5                 13      0  33.096110   2.700242               0   \n22   0.5                 13      0  33.122021   2.731867               0   \n23   0.5                 13      0  33.147926   2.719414               0   \n24   0.5                 13      0  33.173843   2.640508               0   \n25   0.5                 13      0  33.199768   2.483352               0   \n26   0.5                 13      0  33.277544   1.873461               0   \n27   0.5                 13      0  33.303478   1.716164               0   \n28   0.5                 13      0  33.329411   1.597539               0   \n29   0.5                 13      0  33.355351   1.507031               0   \n\n    Phase_positive  \n0                1  \n1                1  \n2                1  \n3                1  \n4                1  \n5                1  \n6                1  \n7                1  \n8                1  \n9                1  \n10               1  \n11               1  \n12               1  \n13               1  \n14               1  \n15               1  \n16               1  \n17               1  \n18               1  \n19               1  \n20               1  \n21               1  \n22               1  \n23               1  \n24               1  \n25               1  \n26               1  \n27               1  \n28               1  \n29               1  ",
      "text/html": "<div>\n<style scoped>\n    .dataframe tbody tr th:only-of-type {\n        vertical-align: middle;\n    }\n\n    .dataframe tbody tr th {\n        vertical-align: top;\n    }\n\n    .dataframe thead th {\n        text-align: right;\n    }\n</style>\n<table border=\"1\" class=\"dataframe\">\n  <thead>\n    <tr style=\"text-align: right;\">\n      <th></th>\n      <th>Mass</th>\n      <th>Standoff distance</th>\n      <th>Angle</th>\n      <th>Time</th>\n      <th>Pressure</th>\n      <th>Phase_negative</th>\n      <th>Phase_positive</th>\n    </tr>\n  </thead>\n  <tbody>\n    <tr>\n      <th>0</th>\n      <td>0.5</td>\n      <td>13</td>\n      <td>0</td>\n      <td>32.475292</td>\n      <td>10.613961</td>\n      <td>0</td>\n      <td>1</td>\n    </tr>\n    <tr>\n      <th>1</th>\n      <td>0.5</td>\n      <td>13</td>\n      <td>0</td>\n      <td>32.501128</td>\n      <td>10.575125</td>\n      <td>0</td>\n      <td>1</td>\n    </tr>\n    <tr>\n      <th>2</th>\n      <td>0.5</td>\n      <td>13</td>\n      <td>0</td>\n      <td>32.526964</td>\n      <td>10.331852</td>\n      <td>0</td>\n      <td>1</td>\n    </tr>\n    <tr>\n      <th>3</th>\n      <td>0.5</td>\n      <td>13</td>\n      <td>0</td>\n      <td>32.578656</td>\n      <td>9.636125</td>\n      <td>0</td>\n      <td>1</td>\n    </tr>\n    <tr>\n      <th>4</th>\n      <td>0.5</td>\n      <td>13</td>\n      <td>0</td>\n      <td>32.604503</td>\n      <td>9.363102</td>\n      <td>0</td>\n      <td>1</td>\n    </tr>\n    <tr>\n      <th>5</th>\n      <td>0.5</td>\n      <td>13</td>\n      <td>0</td>\n      <td>32.630350</td>\n      <td>9.191898</td>\n      <td>0</td>\n      <td>1</td>\n    </tr>\n    <tr>\n      <th>6</th>\n      <td>0.5</td>\n      <td>13</td>\n      <td>0</td>\n      <td>32.656197</td>\n      <td>9.095148</td>\n      <td>0</td>\n      <td>1</td>\n    </tr>\n    <tr>\n      <th>7</th>\n      <td>0.5</td>\n      <td>13</td>\n      <td>0</td>\n      <td>32.682045</td>\n      <td>9.017906</td>\n      <td>0</td>\n      <td>1</td>\n    </tr>\n    <tr>\n      <th>8</th>\n      <td>0.5</td>\n      <td>13</td>\n      <td>0</td>\n      <td>32.707893</td>\n      <td>8.859992</td>\n      <td>0</td>\n      <td>1</td>\n    </tr>\n    <tr>\n      <th>9</th>\n      <td>0.5</td>\n      <td>13</td>\n      <td>0</td>\n      <td>32.733743</td>\n      <td>8.544781</td>\n      <td>0</td>\n      <td>1</td>\n    </tr>\n    <tr>\n      <th>10</th>\n      <td>0.5</td>\n      <td>13</td>\n      <td>0</td>\n      <td>32.759600</td>\n      <td>8.039852</td>\n      <td>0</td>\n      <td>1</td>\n    </tr>\n    <tr>\n      <th>11</th>\n      <td>0.5</td>\n      <td>13</td>\n      <td>0</td>\n      <td>32.785467</td>\n      <td>7.370180</td>\n      <td>0</td>\n      <td>1</td>\n    </tr>\n    <tr>\n      <th>12</th>\n      <td>0.5</td>\n      <td>13</td>\n      <td>0</td>\n      <td>32.863089</td>\n      <td>5.057969</td>\n      <td>0</td>\n      <td>1</td>\n    </tr>\n    <tr>\n      <th>13</th>\n      <td>0.5</td>\n      <td>13</td>\n      <td>0</td>\n      <td>32.888959</td>\n      <td>4.407305</td>\n      <td>0</td>\n      <td>1</td>\n    </tr>\n    <tr>\n      <th>14</th>\n      <td>0.5</td>\n      <td>13</td>\n      <td>0</td>\n      <td>32.914831</td>\n      <td>3.859586</td>\n      <td>0</td>\n      <td>1</td>\n    </tr>\n    <tr>\n      <th>15</th>\n      <td>0.5</td>\n      <td>13</td>\n      <td>0</td>\n      <td>32.940722</td>\n      <td>3.422930</td>\n      <td>0</td>\n      <td>1</td>\n    </tr>\n    <tr>\n      <th>16</th>\n      <td>0.5</td>\n      <td>13</td>\n      <td>0</td>\n      <td>32.966613</td>\n      <td>3.086836</td>\n      <td>0</td>\n      <td>1</td>\n    </tr>\n    <tr>\n      <th>17</th>\n      <td>0.5</td>\n      <td>13</td>\n      <td>0</td>\n      <td>32.992504</td>\n      <td>2.850336</td>\n      <td>0</td>\n      <td>1</td>\n    </tr>\n    <tr>\n      <th>18</th>\n      <td>0.5</td>\n      <td>13</td>\n      <td>0</td>\n      <td>33.018394</td>\n      <td>2.711273</td>\n      <td>0</td>\n      <td>1</td>\n    </tr>\n    <tr>\n      <th>19</th>\n      <td>0.5</td>\n      <td>13</td>\n      <td>0</td>\n      <td>33.044293</td>\n      <td>2.656227</td>\n      <td>0</td>\n      <td>1</td>\n    </tr>\n    <tr>\n      <th>20</th>\n      <td>0.5</td>\n      <td>13</td>\n      <td>0</td>\n      <td>33.070200</td>\n      <td>2.658398</td>\n      <td>0</td>\n      <td>1</td>\n    </tr>\n    <tr>\n      <th>21</th>\n      <td>0.5</td>\n      <td>13</td>\n      <td>0</td>\n      <td>33.096110</td>\n      <td>2.700242</td>\n      <td>0</td>\n      <td>1</td>\n    </tr>\n    <tr>\n      <th>22</th>\n      <td>0.5</td>\n      <td>13</td>\n      <td>0</td>\n      <td>33.122021</td>\n      <td>2.731867</td>\n      <td>0</td>\n      <td>1</td>\n    </tr>\n    <tr>\n      <th>23</th>\n      <td>0.5</td>\n      <td>13</td>\n      <td>0</td>\n      <td>33.147926</td>\n      <td>2.719414</td>\n      <td>0</td>\n      <td>1</td>\n    </tr>\n    <tr>\n      <th>24</th>\n      <td>0.5</td>\n      <td>13</td>\n      <td>0</td>\n      <td>33.173843</td>\n      <td>2.640508</td>\n      <td>0</td>\n      <td>1</td>\n    </tr>\n    <tr>\n      <th>25</th>\n      <td>0.5</td>\n      <td>13</td>\n      <td>0</td>\n      <td>33.199768</td>\n      <td>2.483352</td>\n      <td>0</td>\n      <td>1</td>\n    </tr>\n    <tr>\n      <th>26</th>\n      <td>0.5</td>\n      <td>13</td>\n      <td>0</td>\n      <td>33.277544</td>\n      <td>1.873461</td>\n      <td>0</td>\n      <td>1</td>\n    </tr>\n    <tr>\n      <th>27</th>\n      <td>0.5</td>\n      <td>13</td>\n      <td>0</td>\n      <td>33.303478</td>\n      <td>1.716164</td>\n      <td>0</td>\n      <td>1</td>\n    </tr>\n    <tr>\n      <th>28</th>\n      <td>0.5</td>\n      <td>13</td>\n      <td>0</td>\n      <td>33.329411</td>\n      <td>1.597539</td>\n      <td>0</td>\n      <td>1</td>\n    </tr>\n    <tr>\n      <th>29</th>\n      <td>0.5</td>\n      <td>13</td>\n      <td>0</td>\n      <td>33.355351</td>\n      <td>1.507031</td>\n      <td>0</td>\n      <td>1</td>\n    </tr>\n  </tbody>\n</table>\n</div>"
     },
     "execution_count": 6,
     "metadata": {},
     "output_type": "execute_result"
    }
   ],
   "source": [
    "dataset.head(30)"
   ],
   "metadata": {
    "collapsed": false,
    "ExecuteTime": {
     "end_time": "2024-08-26T00:38:00.196345400Z",
     "start_time": "2024-08-26T00:38:00.141565300Z"
    }
   }
  },
  {
   "cell_type": "code",
   "execution_count": 7,
   "metadata": {
    "ExecuteTime": {
     "end_time": "2024-08-26T00:38:01.271874Z",
     "start_time": "2024-08-26T00:38:01.257868300Z"
    }
   },
   "outputs": [
    {
     "name": "stdout",
     "output_type": "stream",
     "text": [
      "(45639, 6) (45639,)\n"
     ]
    }
   ],
   "source": [
    "y = dataset['Pressure']\n",
    "X = dataset.drop(['Pressure'], axis=1)\n",
    "print(X.shape, y.shape)"
   ]
  },
  {
   "cell_type": "code",
   "execution_count": 8,
   "metadata": {
    "ExecuteTime": {
     "end_time": "2024-08-26T00:38:02.302460900Z",
     "start_time": "2024-08-26T00:38:02.252306300Z"
    }
   },
   "outputs": [],
   "source": [
    "# convert to numpy array\n",
    "X = np.array(X)\n",
    "y = np.array(y)"
   ]
  },
  {
   "cell_type": "code",
   "execution_count": 9,
   "metadata": {
    "colab": {},
    "colab_type": "code",
    "id": "L5edeb2r_agx",
    "ExecuteTime": {
     "end_time": "2024-08-26T00:38:03.597018300Z",
     "start_time": "2024-08-26T00:38:03.079276200Z"
    }
   },
   "outputs": [],
   "source": [
    "from sklearn.model_selection import train_test_split\n",
    "X_train, X_test, y_train, y_test = train_test_split(X,\n",
    "                                                    y,\n",
    "                                                    test_size = 0.4,\n",
    "                                                    random_state = 0)"
   ]
  },
  {
   "cell_type": "code",
   "execution_count": 10,
   "metadata": {
    "colab": {},
    "colab_type": "code",
    "id": "L5edeb2r_agx",
    "ExecuteTime": {
     "end_time": "2024-08-26T00:38:04.774069600Z",
     "start_time": "2024-08-26T00:38:04.750480500Z"
    }
   },
   "outputs": [],
   "source": [
    "X_val, X_test, y_val, y_test = train_test_split(X_test,\n",
    "                                                y_test,\n",
    "                                                test_size = 0.5,\n",
    "                                                random_state = 0)"
   ]
  },
  {
   "cell_type": "code",
   "execution_count": 12,
   "outputs": [
    {
     "name": "stdout",
     "output_type": "stream",
     "text": [
      "[[ 1.3876351   0.4768852  -1.52779325 -0.25515395  0.          1.        ]\n",
      " [ 0.94852049  0.4768852  -0.59410962 -0.06869631  1.          0.        ]\n",
      " [ 1.3876351  -0.43419744 -0.59410962  0.47509428  1.          0.        ]\n",
      " ...\n",
      " [ 0.75335844  1.38796784  1.27325765  2.08624138  0.          1.        ]\n",
      " [ 1.14368254  1.38796784 -1.52779325  0.18820595  0.          1.        ]\n",
      " [-1.00310001 -1.34528007  1.27325765  0.48164852  1.          0.        ]]\n"
     ]
    }
   ],
   "source": [
    "from sklearn.preprocessing import StandardScaler\n",
    "#sc = StandardScaler()\n",
    "X_train[:,0:4] = sc.transform(X_train[:, 0:4])\n",
    "print (X_train)"
   ],
   "metadata": {
    "collapsed": false,
    "ExecuteTime": {
     "end_time": "2024-08-26T00:38:26.966518300Z",
     "start_time": "2024-08-26T00:38:26.938472Z"
    }
   }
  },
  {
   "cell_type": "code",
   "execution_count": 13,
   "outputs": [
    {
     "name": "stdout",
     "output_type": "stream",
     "text": [
      "[[ 0.55819639 -0.43419744 -0.59410962 -1.24662062  0.          1.        ]\n",
      " [-0.41761386 -1.34528007  0.33957402 -1.25130844  0.          1.        ]\n",
      " [ 0.55819639  1.38796784 -1.52779325  0.16633118  0.          1.        ]\n",
      " ...\n",
      " [ 0.75335844 -0.43419744  1.27325765  0.16585957  0.          1.        ]\n",
      " [ 0.75335844  1.38796784  0.33957402  0.07725022  0.          1.        ]\n",
      " [ 0.55819639  1.38796784  1.27325765  2.23079913  0.          1.        ]]\n"
     ]
    }
   ],
   "source": [
    "X_test[:,0:4] = sc.transform(X_test[:,0:4])\n",
    "print (X_test)"
   ],
   "metadata": {
    "collapsed": false,
    "ExecuteTime": {
     "end_time": "2024-08-26T00:38:31.182086200Z",
     "start_time": "2024-08-26T00:38:31.163540200Z"
    }
   }
  },
  {
   "cell_type": "code",
   "execution_count": 14,
   "outputs": [
    {
     "name": "stdout",
     "output_type": "stream",
     "text": [
      "[[-0.41761386 -0.43419744 -0.59410962 -0.50674892  0.          1.        ]\n",
      " [ 0.75335844  1.38796784  1.27325765  1.98485153  0.          1.        ]\n",
      " [-0.02728976  1.38796784 -0.59410962  0.56128337  1.          0.        ]\n",
      " ...\n",
      " [ 0.94852049  1.38796784  1.27325765  1.15517198  0.          1.        ]\n",
      " [-0.41761386  0.4768852  -0.59410962 -0.50947419  0.          1.        ]\n",
      " [-0.61277591  1.38796784  0.33957402  1.07991116  0.          1.        ]]\n"
     ]
    }
   ],
   "source": [
    "X_val[:,0:4] = sc.transform(X_val[:,0:4])\n",
    "print (X_val)"
   ],
   "metadata": {
    "collapsed": false,
    "ExecuteTime": {
     "end_time": "2024-08-26T00:38:32.462963500Z",
     "start_time": "2024-08-26T00:38:32.421428800Z"
    }
   }
  },
  {
   "cell_type": "code",
   "execution_count": 15,
   "outputs": [
    {
     "name": "stdout",
     "output_type": "stream",
     "text": [
      "X_train 27383\n",
      "X_test 9128\n",
      "X_val 9128\n"
     ]
    }
   ],
   "source": [
    "print (\"X_train\", len(X_train))\n",
    "print (\"X_test\", len(X_test))\n",
    "print (\"X_val\", len(X_val))"
   ],
   "metadata": {
    "collapsed": false,
    "ExecuteTime": {
     "end_time": "2024-08-26T00:38:33.912014100Z",
     "start_time": "2024-08-26T00:38:33.848518800Z"
    }
   }
  },
  {
   "cell_type": "markdown",
   "metadata": {
    "colab_type": "text",
    "id": "_mSLlAT9_eyI"
   },
   "source": [
    "## Part 3 - Building the ANN"
   ]
  },
  {
   "cell_type": "code",
   "execution_count": 15,
   "metadata": {
    "colab": {},
    "colab_type": "code",
    "id": "J6Hd97Ls__Nz",
    "ExecuteTime": {
     "end_time": "2024-08-11T04:22:47.167504900Z",
     "start_time": "2024-08-11T04:22:47.005318800Z"
    }
   },
   "outputs": [],
   "source": [
    "ann = tf.keras.models.Sequential()"
   ]
  },
  {
   "cell_type": "code",
   "execution_count": 16,
   "metadata": {
    "colab": {},
    "colab_type": "code",
    "id": "ksO_Vv40AHix",
    "ExecuteTime": {
     "end_time": "2024-08-11T04:22:47.323469400Z",
     "start_time": "2024-08-11T04:22:47.160494300Z"
    }
   },
   "outputs": [],
   "source": [
    "ann.add(tf.keras.layers.Dense(units=250,\n",
    "                              input_shape=(X_train.shape[1],),\n",
    "                              activation='relu'))\n",
    "ann.add(tf.keras.layers.Dense(units=225,\n",
    "                              activation='relu'))\n",
    "ann.add(tf.keras.layers.Dense(units=200,\n",
    "                              activation='relu'))"
   ]
  },
  {
   "cell_type": "code",
   "execution_count": 17,
   "metadata": {
    "colab": {},
    "colab_type": "code",
    "id": "YFATpzsUAkLL",
    "ExecuteTime": {
     "end_time": "2024-08-11T04:22:47.430774600Z",
     "start_time": "2024-08-11T04:22:47.325478700Z"
    }
   },
   "outputs": [],
   "source": [
    "ann.add(tf.keras.layers.Dense(units=1,\n",
    "                              activation='linear'))"
   ]
  },
  {
   "cell_type": "code",
   "execution_count": 18,
   "metadata": {
    "ExecuteTime": {
     "end_time": "2024-08-11T04:22:47.665703800Z",
     "start_time": "2024-08-11T04:22:47.431774Z"
    }
   },
   "outputs": [
    {
     "name": "stdout",
     "output_type": "stream",
     "text": [
      "Model: \"sequential\"\n",
      "_________________________________________________________________\n",
      " Layer (type)                Output Shape              Param #   \n",
      "=================================================================\n",
      " dense (Dense)               (None, 250)               1750      \n",
      "                                                                 \n",
      " dense_1 (Dense)             (None, 225)               56475     \n",
      "                                                                 \n",
      " dense_2 (Dense)             (None, 200)               45200     \n",
      "                                                                 \n",
      " dense_3 (Dense)             (None, 1)                 201       \n",
      "                                                                 \n",
      "=================================================================\n",
      "Total params: 103,626\n",
      "Trainable params: 103,626\n",
      "Non-trainable params: 0\n",
      "_________________________________________________________________\n"
     ]
    }
   ],
   "source": [
    "ann.summary()"
   ]
  },
  {
   "cell_type": "markdown",
   "metadata": {
    "colab_type": "text",
    "id": "fq7e4fF6A1yy"
   },
   "source": [
    "## Part 4 - Training the ANN"
   ]
  },
  {
   "cell_type": "markdown",
   "metadata": {
    "colab_type": "text",
    "id": "qDeylAs2An25"
   },
   "source": [
    "### Compiling the ANN"
   ]
  },
  {
   "cell_type": "code",
   "execution_count": 19,
   "metadata": {
    "colab": {},
    "colab_type": "code",
    "id": "pesgbWlCAtB4",
    "ExecuteTime": {
     "end_time": "2024-08-11T04:22:47.923032300Z",
     "start_time": "2024-08-11T04:22:47.569131800Z"
    }
   },
   "outputs": [],
   "source": [
    "# from tensorflow.keras.optimizers import Adam\n",
    "from keras.optimizers import Adam\n",
    "opt = Adam(learning_rate=0.001)\n",
    "ann.compile(optimizer = opt,\n",
    "            loss = 'mean_squared_error',\n",
    "            metrics = ['mae'])"
   ]
  },
  {
   "cell_type": "code",
   "execution_count": 20,
   "metadata": {
    "ExecuteTime": {
     "end_time": "2024-08-11T04:22:47.923032300Z",
     "start_time": "2024-08-11T04:22:47.706258300Z"
    }
   },
   "outputs": [],
   "source": [
    "# protects from unnecessary further training of the model if a particular metric does not continue to improve over a number of n epochs. In such a case, the model training would be automatically aborted.\n",
    "from keras.callbacks import EarlyStopping\n",
    "es = EarlyStopping(monitor='val_loss',\n",
    "                   mode='min',\n",
    "                   patience=50,\n",
    "                   restore_best_weights = True)"
   ]
  },
  {
   "cell_type": "code",
   "execution_count": 21,
   "metadata": {
    "colab": {
     "base_uri": "https://localhost:8080/",
     "height": 1000
    },
    "colab_type": "code",
    "id": "c_vV-tiiA5zn",
    "outputId": "4a2b6ee6-ed75-4698-9069-b250e613803f",
    "ExecuteTime": {
     "end_time": "2024-08-11T04:50:11.186390500Z",
     "start_time": "2024-08-11T04:22:47.782865600Z"
    }
   },
   "outputs": [
    {
     "name": "stdout",
     "output_type": "stream",
     "text": [
      "Epoch 1/500\n",
      "913/913 [==============================] - 38s 41ms/step - loss: 37.2081 - mae: 2.9539 - val_loss: 26.6059 - val_mae: 2.3588\n",
      "Epoch 2/500\n",
      "913/913 [==============================] - 4s 5ms/step - loss: 18.6172 - mae: 1.9855 - val_loss: 14.2925 - val_mae: 1.5590\n",
      "Epoch 3/500\n",
      "913/913 [==============================] - 4s 5ms/step - loss: 14.6317 - mae: 1.6998 - val_loss: 12.5000 - val_mae: 1.5997\n",
      "Epoch 4/500\n",
      "913/913 [==============================] - 4s 5ms/step - loss: 13.1829 - mae: 1.5785 - val_loss: 12.3514 - val_mae: 1.4304\n",
      "Epoch 5/500\n",
      "913/913 [==============================] - 4s 5ms/step - loss: 9.8199 - mae: 1.3449 - val_loss: 12.2322 - val_mae: 1.5324\n",
      "Epoch 6/500\n",
      "913/913 [==============================] - 4s 5ms/step - loss: 11.0175 - mae: 1.4207 - val_loss: 11.8345 - val_mae: 1.4275\n",
      "Epoch 7/500\n",
      "913/913 [==============================] - 4s 5ms/step - loss: 8.3681 - mae: 1.2373 - val_loss: 7.1910 - val_mae: 1.0718\n",
      "Epoch 8/500\n",
      "913/913 [==============================] - 4s 5ms/step - loss: 7.4429 - mae: 1.1576 - val_loss: 6.5964 - val_mae: 1.2546\n",
      "Epoch 9/500\n",
      "913/913 [==============================] - 5s 5ms/step - loss: 9.0724 - mae: 1.2657 - val_loss: 20.6003 - val_mae: 1.9699\n",
      "Epoch 10/500\n",
      "913/913 [==============================] - 4s 4ms/step - loss: 7.7470 - mae: 1.1291 - val_loss: 20.7052 - val_mae: 1.8011\n",
      "Epoch 11/500\n",
      "913/913 [==============================] - 4s 5ms/step - loss: 7.3897 - mae: 1.1278 - val_loss: 4.0338 - val_mae: 0.8501\n",
      "Epoch 12/500\n",
      "913/913 [==============================] - 4s 5ms/step - loss: 6.6215 - mae: 1.0741 - val_loss: 5.8621 - val_mae: 1.0116\n",
      "Epoch 13/500\n",
      "913/913 [==============================] - 4s 5ms/step - loss: 7.1590 - mae: 1.1189 - val_loss: 16.4253 - val_mae: 1.4044\n",
      "Epoch 14/500\n",
      "913/913 [==============================] - 4s 5ms/step - loss: 6.2890 - mae: 1.0246 - val_loss: 6.0300 - val_mae: 0.8910\n",
      "Epoch 15/500\n",
      "913/913 [==============================] - 4s 5ms/step - loss: 6.3029 - mae: 1.0259 - val_loss: 5.5891 - val_mae: 1.0049\n",
      "Epoch 16/500\n",
      "913/913 [==============================] - 4s 5ms/step - loss: 6.5195 - mae: 1.0447 - val_loss: 9.5890 - val_mae: 1.4898\n",
      "Epoch 17/500\n",
      "913/913 [==============================] - 4s 5ms/step - loss: 4.4997 - mae: 0.8870 - val_loss: 4.2088 - val_mae: 0.9337\n",
      "Epoch 18/500\n",
      "913/913 [==============================] - 4s 5ms/step - loss: 7.9901 - mae: 1.1488 - val_loss: 3.0994 - val_mae: 0.6701\n",
      "Epoch 19/500\n",
      "913/913 [==============================] - 4s 5ms/step - loss: 5.3566 - mae: 0.9234 - val_loss: 5.1833 - val_mae: 0.8946\n",
      "Epoch 20/500\n",
      "913/913 [==============================] - 4s 5ms/step - loss: 5.7475 - mae: 0.9825 - val_loss: 6.4948 - val_mae: 0.9348\n",
      "Epoch 21/500\n",
      "913/913 [==============================] - 5s 5ms/step - loss: 5.3310 - mae: 0.9374 - val_loss: 3.2417 - val_mae: 0.7239\n",
      "Epoch 22/500\n",
      "913/913 [==============================] - 4s 5ms/step - loss: 6.0220 - mae: 0.9882 - val_loss: 5.4802 - val_mae: 1.0742\n",
      "Epoch 23/500\n",
      "913/913 [==============================] - 4s 5ms/step - loss: 7.3618 - mae: 1.0928 - val_loss: 3.1930 - val_mae: 0.7171\n",
      "Epoch 24/500\n",
      "913/913 [==============================] - 4s 5ms/step - loss: 4.5008 - mae: 0.8594 - val_loss: 5.6291 - val_mae: 0.8677\n",
      "Epoch 25/500\n",
      "913/913 [==============================] - 4s 5ms/step - loss: 5.9640 - mae: 0.9739 - val_loss: 4.9810 - val_mae: 0.8141\n",
      "Epoch 26/500\n",
      "913/913 [==============================] - 4s 5ms/step - loss: 5.8170 - mae: 0.9722 - val_loss: 6.6247 - val_mae: 1.1704\n",
      "Epoch 27/500\n",
      "913/913 [==============================] - 4s 5ms/step - loss: 4.7456 - mae: 0.8904 - val_loss: 6.7001 - val_mae: 1.0091\n",
      "Epoch 28/500\n",
      "913/913 [==============================] - 4s 5ms/step - loss: 6.5374 - mae: 1.0127 - val_loss: 3.1902 - val_mae: 0.7502\n",
      "Epoch 29/500\n",
      "913/913 [==============================] - 4s 5ms/step - loss: 4.5080 - mae: 0.8530 - val_loss: 4.0764 - val_mae: 0.8468\n",
      "Epoch 30/500\n",
      "913/913 [==============================] - 4s 5ms/step - loss: 6.5416 - mae: 1.0303 - val_loss: 5.2060 - val_mae: 0.9330\n",
      "Epoch 31/500\n",
      "913/913 [==============================] - 4s 5ms/step - loss: 4.3488 - mae: 0.8417 - val_loss: 2.4689 - val_mae: 0.6074\n",
      "Epoch 32/500\n",
      "913/913 [==============================] - 4s 5ms/step - loss: 3.8696 - mae: 0.7922 - val_loss: 7.0523 - val_mae: 0.9711\n",
      "Epoch 33/500\n",
      "913/913 [==============================] - 4s 5ms/step - loss: 5.5739 - mae: 0.9350 - val_loss: 2.9154 - val_mae: 0.7199\n",
      "Epoch 34/500\n",
      "913/913 [==============================] - 5s 5ms/step - loss: 4.2738 - mae: 0.8303 - val_loss: 13.2370 - val_mae: 1.3292\n",
      "Epoch 35/500\n",
      "913/913 [==============================] - 4s 5ms/step - loss: 5.3219 - mae: 0.9077 - val_loss: 3.9035 - val_mae: 0.7902\n",
      "Epoch 36/500\n",
      "913/913 [==============================] - 4s 5ms/step - loss: 4.6632 - mae: 0.8820 - val_loss: 6.9226 - val_mae: 0.9587\n",
      "Epoch 37/500\n",
      "913/913 [==============================] - 4s 5ms/step - loss: 3.9061 - mae: 0.7839 - val_loss: 1.9178 - val_mae: 0.5217\n",
      "Epoch 38/500\n",
      "913/913 [==============================] - 4s 5ms/step - loss: 3.8726 - mae: 0.7755 - val_loss: 2.6098 - val_mae: 0.5977\n",
      "Epoch 39/500\n",
      "913/913 [==============================] - 4s 5ms/step - loss: 4.0617 - mae: 0.7914 - val_loss: 4.0445 - val_mae: 1.0850\n",
      "Epoch 40/500\n",
      "913/913 [==============================] - 4s 5ms/step - loss: 4.4198 - mae: 0.8418 - val_loss: 3.0849 - val_mae: 0.7124\n",
      "Epoch 41/500\n",
      "913/913 [==============================] - 4s 5ms/step - loss: 7.1623 - mae: 1.0521 - val_loss: 2.5566 - val_mae: 0.6869\n",
      "Epoch 42/500\n",
      "913/913 [==============================] - 4s 4ms/step - loss: 4.3227 - mae: 0.8579 - val_loss: 4.0552 - val_mae: 0.8069\n",
      "Epoch 43/500\n",
      "913/913 [==============================] - 4s 4ms/step - loss: 3.7638 - mae: 0.7909 - val_loss: 3.1539 - val_mae: 0.7501\n",
      "Epoch 44/500\n",
      "913/913 [==============================] - 4s 4ms/step - loss: 3.7859 - mae: 0.7849 - val_loss: 6.1149 - val_mae: 1.1153\n",
      "Epoch 45/500\n",
      "913/913 [==============================] - 4s 4ms/step - loss: 3.8177 - mae: 0.7756 - val_loss: 8.1052 - val_mae: 1.1516\n",
      "Epoch 46/500\n",
      "913/913 [==============================] - 4s 5ms/step - loss: 3.4924 - mae: 0.7548 - val_loss: 3.3477 - val_mae: 0.7097\n",
      "Epoch 47/500\n",
      "913/913 [==============================] - 4s 4ms/step - loss: 3.5623 - mae: 0.7683 - val_loss: 4.1043 - val_mae: 0.8489\n",
      "Epoch 48/500\n",
      "913/913 [==============================] - 4s 4ms/step - loss: 3.7147 - mae: 0.7522 - val_loss: 3.1706 - val_mae: 0.7438\n",
      "Epoch 49/500\n",
      "913/913 [==============================] - 4s 4ms/step - loss: 3.6375 - mae: 0.7279 - val_loss: 3.0017 - val_mae: 0.6174\n",
      "Epoch 50/500\n",
      "913/913 [==============================] - 4s 5ms/step - loss: 4.3799 - mae: 0.8164 - val_loss: 1.9572 - val_mae: 0.4968\n",
      "Epoch 51/500\n",
      "913/913 [==============================] - 4s 5ms/step - loss: 3.5762 - mae: 0.7267 - val_loss: 2.1728 - val_mae: 0.5630\n",
      "Epoch 52/500\n",
      "913/913 [==============================] - 4s 5ms/step - loss: 3.1803 - mae: 0.7056 - val_loss: 10.1682 - val_mae: 1.7825\n",
      "Epoch 53/500\n",
      "913/913 [==============================] - 4s 5ms/step - loss: 4.0273 - mae: 0.7889 - val_loss: 8.2681 - val_mae: 1.1530\n",
      "Epoch 54/500\n",
      "913/913 [==============================] - 4s 5ms/step - loss: 3.2984 - mae: 0.7022 - val_loss: 2.7591 - val_mae: 0.7203\n",
      "Epoch 55/500\n",
      "913/913 [==============================] - 4s 5ms/step - loss: 3.3020 - mae: 0.7287 - val_loss: 2.5768 - val_mae: 0.6743\n",
      "Epoch 56/500\n",
      "913/913 [==============================] - 4s 5ms/step - loss: 4.0694 - mae: 0.7665 - val_loss: 1.8675 - val_mae: 0.5555\n",
      "Epoch 57/500\n",
      "913/913 [==============================] - 4s 4ms/step - loss: 4.6552 - mae: 0.8220 - val_loss: 11.2064 - val_mae: 1.3075\n",
      "Epoch 58/500\n",
      "913/913 [==============================] - 4s 5ms/step - loss: 2.8275 - mae: 0.6454 - val_loss: 1.9802 - val_mae: 0.5500\n",
      "Epoch 59/500\n",
      "913/913 [==============================] - 4s 5ms/step - loss: 4.3705 - mae: 0.7876 - val_loss: 3.9136 - val_mae: 0.8070\n",
      "Epoch 60/500\n",
      "913/913 [==============================] - 4s 5ms/step - loss: 2.9612 - mae: 0.6758 - val_loss: 3.4810 - val_mae: 0.7295\n",
      "Epoch 61/500\n",
      "913/913 [==============================] - 4s 5ms/step - loss: 3.5752 - mae: 0.7360 - val_loss: 5.4821 - val_mae: 0.9549\n",
      "Epoch 62/500\n",
      "913/913 [==============================] - 4s 5ms/step - loss: 3.6469 - mae: 0.7377 - val_loss: 2.2246 - val_mae: 0.5592\n",
      "Epoch 63/500\n",
      "913/913 [==============================] - 4s 5ms/step - loss: 3.5702 - mae: 0.7036 - val_loss: 1.9422 - val_mae: 0.5155\n",
      "Epoch 64/500\n",
      "913/913 [==============================] - 4s 5ms/step - loss: 3.5225 - mae: 0.7161 - val_loss: 3.3944 - val_mae: 0.6703\n",
      "Epoch 65/500\n",
      "913/913 [==============================] - 5s 5ms/step - loss: 3.5725 - mae: 0.7374 - val_loss: 2.5251 - val_mae: 0.6791\n",
      "Epoch 66/500\n",
      "913/913 [==============================] - 4s 5ms/step - loss: 3.5353 - mae: 0.7211 - val_loss: 3.1439 - val_mae: 0.6108\n",
      "Epoch 67/500\n",
      "913/913 [==============================] - 4s 5ms/step - loss: 2.9353 - mae: 0.6675 - val_loss: 2.5505 - val_mae: 0.7158\n",
      "Epoch 68/500\n",
      "913/913 [==============================] - 4s 5ms/step - loss: 3.3880 - mae: 0.6952 - val_loss: 6.4176 - val_mae: 0.9343\n",
      "Epoch 69/500\n",
      "913/913 [==============================] - 5s 5ms/step - loss: 4.0219 - mae: 0.7703 - val_loss: 2.6722 - val_mae: 0.6508\n",
      "Epoch 70/500\n",
      "913/913 [==============================] - 4s 5ms/step - loss: 2.6695 - mae: 0.6396 - val_loss: 2.2072 - val_mae: 0.6325\n",
      "Epoch 71/500\n",
      "913/913 [==============================] - 5s 5ms/step - loss: 2.7481 - mae: 0.6427 - val_loss: 3.0396 - val_mae: 0.6981\n",
      "Epoch 72/500\n",
      "913/913 [==============================] - 4s 5ms/step - loss: 2.7045 - mae: 0.6447 - val_loss: 2.4700 - val_mae: 0.6056\n",
      "Epoch 73/500\n",
      "913/913 [==============================] - 4s 5ms/step - loss: 2.5186 - mae: 0.6269 - val_loss: 3.4137 - val_mae: 0.6732\n",
      "Epoch 74/500\n",
      "913/913 [==============================] - 5s 5ms/step - loss: 3.0496 - mae: 0.6836 - val_loss: 2.0173 - val_mae: 0.5816\n",
      "Epoch 75/500\n",
      "913/913 [==============================] - 4s 5ms/step - loss: 4.4159 - mae: 0.7992 - val_loss: 3.7078 - val_mae: 0.7959\n",
      "Epoch 76/500\n",
      "913/913 [==============================] - 4s 5ms/step - loss: 2.8467 - mae: 0.6455 - val_loss: 8.1841 - val_mae: 1.3505\n",
      "Epoch 77/500\n",
      "913/913 [==============================] - 4s 5ms/step - loss: 2.6654 - mae: 0.6378 - val_loss: 1.7940 - val_mae: 0.4860\n",
      "Epoch 78/500\n",
      "913/913 [==============================] - 4s 5ms/step - loss: 3.4939 - mae: 0.7035 - val_loss: 1.8466 - val_mae: 0.5576\n",
      "Epoch 79/500\n",
      "913/913 [==============================] - 5s 5ms/step - loss: 3.2940 - mae: 0.6923 - val_loss: 2.2513 - val_mae: 0.6106\n",
      "Epoch 80/500\n",
      "913/913 [==============================] - 4s 5ms/step - loss: 2.8570 - mae: 0.6424 - val_loss: 3.9212 - val_mae: 0.7775\n",
      "Epoch 81/500\n",
      "913/913 [==============================] - 4s 5ms/step - loss: 2.8194 - mae: 0.6163 - val_loss: 2.9495 - val_mae: 0.5902\n",
      "Epoch 82/500\n",
      "913/913 [==============================] - 4s 5ms/step - loss: 2.7516 - mae: 0.6193 - val_loss: 3.3606 - val_mae: 0.7503\n",
      "Epoch 83/500\n",
      "913/913 [==============================] - 4s 5ms/step - loss: 2.6881 - mae: 0.6380 - val_loss: 4.5116 - val_mae: 0.7938\n",
      "Epoch 84/500\n",
      "913/913 [==============================] - 4s 5ms/step - loss: 2.6978 - mae: 0.6179 - val_loss: 1.6565 - val_mae: 0.4761\n",
      "Epoch 85/500\n",
      "913/913 [==============================] - 4s 5ms/step - loss: 2.5999 - mae: 0.6168 - val_loss: 1.7838 - val_mae: 0.5476\n",
      "Epoch 86/500\n",
      "913/913 [==============================] - 4s 5ms/step - loss: 3.1014 - mae: 0.6677 - val_loss: 2.5910 - val_mae: 0.6713\n",
      "Epoch 87/500\n",
      "913/913 [==============================] - 4s 5ms/step - loss: 3.0356 - mae: 0.6465 - val_loss: 3.1431 - val_mae: 0.7238\n",
      "Epoch 88/500\n",
      "913/913 [==============================] - 4s 5ms/step - loss: 3.1487 - mae: 0.6517 - val_loss: 1.2741 - val_mae: 0.4331\n",
      "Epoch 89/500\n",
      "913/913 [==============================] - 4s 5ms/step - loss: 3.2664 - mae: 0.6382 - val_loss: 1.4874 - val_mae: 0.4736\n",
      "Epoch 90/500\n",
      "913/913 [==============================] - 5s 5ms/step - loss: 3.2632 - mae: 0.6397 - val_loss: 2.3133 - val_mae: 0.6468\n",
      "Epoch 91/500\n",
      "913/913 [==============================] - 4s 5ms/step - loss: 2.2844 - mae: 0.5796 - val_loss: 3.4971 - val_mae: 0.8350\n",
      "Epoch 92/500\n",
      "913/913 [==============================] - 4s 5ms/step - loss: 3.2924 - mae: 0.6824 - val_loss: 3.1875 - val_mae: 0.7213\n",
      "Epoch 93/500\n",
      "913/913 [==============================] - 4s 5ms/step - loss: 2.2349 - mae: 0.5706 - val_loss: 1.7439 - val_mae: 0.5467\n",
      "Epoch 94/500\n",
      "913/913 [==============================] - 4s 5ms/step - loss: 2.2670 - mae: 0.5578 - val_loss: 3.3282 - val_mae: 0.7187\n",
      "Epoch 95/500\n",
      "913/913 [==============================] - 4s 5ms/step - loss: 3.2406 - mae: 0.6682 - val_loss: 6.8880 - val_mae: 0.9498\n",
      "Epoch 96/500\n",
      "913/913 [==============================] - 4s 5ms/step - loss: 2.4414 - mae: 0.5782 - val_loss: 8.6126 - val_mae: 1.0959\n",
      "Epoch 97/500\n",
      "913/913 [==============================] - 4s 5ms/step - loss: 2.7872 - mae: 0.6329 - val_loss: 2.6609 - val_mae: 0.6599\n",
      "Epoch 98/500\n",
      "913/913 [==============================] - 4s 5ms/step - loss: 2.5638 - mae: 0.5932 - val_loss: 2.3072 - val_mae: 0.5756\n",
      "Epoch 99/500\n",
      "913/913 [==============================] - 5s 5ms/step - loss: 2.2560 - mae: 0.5692 - val_loss: 3.9251 - val_mae: 0.6980\n",
      "Epoch 100/500\n",
      "913/913 [==============================] - 4s 5ms/step - loss: 2.4708 - mae: 0.6011 - val_loss: 1.9773 - val_mae: 0.5216\n",
      "Epoch 101/500\n",
      "913/913 [==============================] - 4s 5ms/step - loss: 3.1035 - mae: 0.6621 - val_loss: 7.4288 - val_mae: 1.1185\n",
      "Epoch 102/500\n",
      "913/913 [==============================] - 4s 5ms/step - loss: 2.0894 - mae: 0.5526 - val_loss: 2.5763 - val_mae: 0.5816\n",
      "Epoch 103/500\n",
      "913/913 [==============================] - 4s 5ms/step - loss: 2.1681 - mae: 0.5618 - val_loss: 2.7430 - val_mae: 0.6699\n",
      "Epoch 104/500\n",
      "913/913 [==============================] - 4s 5ms/step - loss: 3.1023 - mae: 0.6748 - val_loss: 2.6088 - val_mae: 0.6447\n",
      "Epoch 105/500\n",
      "913/913 [==============================] - 4s 5ms/step - loss: 3.1981 - mae: 0.6616 - val_loss: 1.3776 - val_mae: 0.4327\n",
      "Epoch 106/500\n",
      "913/913 [==============================] - 4s 5ms/step - loss: 2.3569 - mae: 0.5768 - val_loss: 1.6962 - val_mae: 0.4849\n",
      "Epoch 107/500\n",
      "913/913 [==============================] - 4s 5ms/step - loss: 2.7691 - mae: 0.6017 - val_loss: 3.0684 - val_mae: 0.6405\n",
      "Epoch 108/500\n",
      "913/913 [==============================] - 4s 5ms/step - loss: 2.5451 - mae: 0.5906 - val_loss: 4.4916 - val_mae: 0.8575\n",
      "Epoch 109/500\n",
      "913/913 [==============================] - 4s 5ms/step - loss: 2.6249 - mae: 0.6073 - val_loss: 4.3853 - val_mae: 0.7362\n",
      "Epoch 110/500\n",
      "913/913 [==============================] - 4s 5ms/step - loss: 2.3437 - mae: 0.5907 - val_loss: 3.3002 - val_mae: 0.6904\n",
      "Epoch 111/500\n",
      "913/913 [==============================] - 4s 5ms/step - loss: 2.0209 - mae: 0.5452 - val_loss: 1.6702 - val_mae: 0.4435\n",
      "Epoch 112/500\n",
      "913/913 [==============================] - 4s 5ms/step - loss: 3.1506 - mae: 0.6435 - val_loss: 2.0228 - val_mae: 0.5858\n",
      "Epoch 113/500\n",
      "913/913 [==============================] - 4s 5ms/step - loss: 2.3602 - mae: 0.5586 - val_loss: 1.0002 - val_mae: 0.4105\n",
      "Epoch 114/500\n",
      "913/913 [==============================] - 4s 5ms/step - loss: 2.5542 - mae: 0.5807 - val_loss: 1.3528 - val_mae: 0.4525\n",
      "Epoch 115/500\n",
      "913/913 [==============================] - 4s 5ms/step - loss: 1.9401 - mae: 0.5324 - val_loss: 4.2945 - val_mae: 0.8615\n",
      "Epoch 116/500\n",
      "913/913 [==============================] - 4s 5ms/step - loss: 2.6259 - mae: 0.6157 - val_loss: 9.1903 - val_mae: 0.9793\n",
      "Epoch 117/500\n",
      "913/913 [==============================] - 4s 5ms/step - loss: 2.7308 - mae: 0.6157 - val_loss: 2.2113 - val_mae: 0.5426\n",
      "Epoch 118/500\n",
      "913/913 [==============================] - 4s 5ms/step - loss: 2.2298 - mae: 0.5661 - val_loss: 1.3401 - val_mae: 0.4286\n",
      "Epoch 119/500\n",
      "913/913 [==============================] - 4s 5ms/step - loss: 2.6948 - mae: 0.6056 - val_loss: 4.0808 - val_mae: 0.8703\n",
      "Epoch 120/500\n",
      "913/913 [==============================] - 4s 5ms/step - loss: 2.1090 - mae: 0.5457 - val_loss: 1.2088 - val_mae: 0.3770\n",
      "Epoch 121/500\n",
      "913/913 [==============================] - 5s 5ms/step - loss: 2.0621 - mae: 0.5408 - val_loss: 1.4798 - val_mae: 0.4286\n",
      "Epoch 122/500\n",
      "913/913 [==============================] - 4s 4ms/step - loss: 2.2942 - mae: 0.5736 - val_loss: 1.9299 - val_mae: 0.5590\n",
      "Epoch 123/500\n",
      "913/913 [==============================] - 4s 5ms/step - loss: 2.6079 - mae: 0.5831 - val_loss: 1.7763 - val_mae: 0.4740\n",
      "Epoch 124/500\n",
      "913/913 [==============================] - 4s 5ms/step - loss: 2.0122 - mae: 0.5323 - val_loss: 1.9732 - val_mae: 0.5626\n",
      "Epoch 125/500\n",
      "913/913 [==============================] - 4s 4ms/step - loss: 2.3148 - mae: 0.5631 - val_loss: 2.1163 - val_mae: 0.5720\n",
      "Epoch 126/500\n",
      "913/913 [==============================] - 4s 5ms/step - loss: 2.1693 - mae: 0.5457 - val_loss: 2.0591 - val_mae: 0.5766\n",
      "Epoch 127/500\n",
      "913/913 [==============================] - 4s 5ms/step - loss: 2.3050 - mae: 0.5736 - val_loss: 2.2898 - val_mae: 0.5591\n",
      "Epoch 128/500\n",
      "913/913 [==============================] - 4s 5ms/step - loss: 2.1435 - mae: 0.5466 - val_loss: 3.4606 - val_mae: 0.7118\n",
      "Epoch 129/500\n",
      "913/913 [==============================] - 4s 5ms/step - loss: 2.0472 - mae: 0.5339 - val_loss: 1.8521 - val_mae: 0.5406\n",
      "Epoch 130/500\n",
      "913/913 [==============================] - 4s 5ms/step - loss: 2.8103 - mae: 0.5969 - val_loss: 31.1022 - val_mae: 2.0655\n",
      "Epoch 131/500\n",
      "913/913 [==============================] - 4s 5ms/step - loss: 1.9733 - mae: 0.5294 - val_loss: 2.1137 - val_mae: 0.5325\n",
      "Epoch 132/500\n",
      "913/913 [==============================] - 4s 5ms/step - loss: 1.8503 - mae: 0.5010 - val_loss: 10.3725 - val_mae: 1.2698\n",
      "Epoch 133/500\n",
      "913/913 [==============================] - 4s 5ms/step - loss: 2.8274 - mae: 0.6156 - val_loss: 0.9806 - val_mae: 0.3640\n",
      "Epoch 134/500\n",
      "913/913 [==============================] - 4s 5ms/step - loss: 1.6663 - mae: 0.4877 - val_loss: 1.3002 - val_mae: 0.4299\n",
      "Epoch 135/500\n",
      "913/913 [==============================] - 5s 5ms/step - loss: 1.8906 - mae: 0.5303 - val_loss: 1.6089 - val_mae: 0.5085\n",
      "Epoch 136/500\n",
      "913/913 [==============================] - 4s 5ms/step - loss: 2.0267 - mae: 0.5349 - val_loss: 3.0076 - val_mae: 0.6929\n",
      "Epoch 137/500\n",
      "913/913 [==============================] - 4s 5ms/step - loss: 2.1176 - mae: 0.5523 - val_loss: 1.4299 - val_mae: 0.4169\n",
      "Epoch 138/500\n",
      "913/913 [==============================] - 4s 5ms/step - loss: 1.9658 - mae: 0.5333 - val_loss: 2.4761 - val_mae: 0.6099\n",
      "Epoch 139/500\n",
      "913/913 [==============================] - 4s 5ms/step - loss: 2.0351 - mae: 0.5169 - val_loss: 1.1218 - val_mae: 0.3906\n",
      "Epoch 140/500\n",
      "913/913 [==============================] - 5s 5ms/step - loss: 1.6346 - mae: 0.4832 - val_loss: 3.3636 - val_mae: 0.7007\n",
      "Epoch 141/500\n",
      "913/913 [==============================] - 4s 5ms/step - loss: 2.5479 - mae: 0.5991 - val_loss: 1.7548 - val_mae: 0.4195\n",
      "Epoch 142/500\n",
      "913/913 [==============================] - 4s 5ms/step - loss: 2.5445 - mae: 0.5805 - val_loss: 1.8584 - val_mae: 0.5238\n",
      "Epoch 143/500\n",
      "913/913 [==============================] - 4s 5ms/step - loss: 1.7772 - mae: 0.5017 - val_loss: 11.8537 - val_mae: 1.1801\n",
      "Epoch 144/500\n",
      "913/913 [==============================] - 5s 5ms/step - loss: 2.6482 - mae: 0.5823 - val_loss: 2.3516 - val_mae: 0.5943\n",
      "Epoch 145/500\n",
      "913/913 [==============================] - 4s 5ms/step - loss: 1.7320 - mae: 0.4883 - val_loss: 2.3999 - val_mae: 0.5938\n",
      "Epoch 146/500\n",
      "913/913 [==============================] - 5s 5ms/step - loss: 2.4257 - mae: 0.5891 - val_loss: 1.8851 - val_mae: 0.5162\n",
      "Epoch 147/500\n",
      "913/913 [==============================] - 5s 5ms/step - loss: 1.8768 - mae: 0.5089 - val_loss: 1.3446 - val_mae: 0.4232\n",
      "Epoch 148/500\n",
      "913/913 [==============================] - 5s 5ms/step - loss: 1.9606 - mae: 0.5217 - val_loss: 1.0364 - val_mae: 0.3950\n",
      "Epoch 149/500\n",
      "913/913 [==============================] - 5s 5ms/step - loss: 2.3615 - mae: 0.5696 - val_loss: 3.2672 - val_mae: 0.7029\n",
      "Epoch 150/500\n",
      "913/913 [==============================] - 4s 5ms/step - loss: 2.2628 - mae: 0.5746 - val_loss: 1.4019 - val_mae: 0.5034\n",
      "Epoch 151/500\n",
      "913/913 [==============================] - 4s 5ms/step - loss: 2.4541 - mae: 0.5880 - val_loss: 5.5223 - val_mae: 0.8688\n",
      "Epoch 152/500\n",
      "913/913 [==============================] - 4s 5ms/step - loss: 2.0010 - mae: 0.5240 - val_loss: 2.4115 - val_mae: 0.6064\n",
      "Epoch 153/500\n",
      "913/913 [==============================] - 4s 5ms/step - loss: 1.9774 - mae: 0.5197 - val_loss: 4.4774 - val_mae: 0.8858\n",
      "Epoch 154/500\n",
      "913/913 [==============================] - 4s 5ms/step - loss: 2.2424 - mae: 0.5451 - val_loss: 2.4359 - val_mae: 0.6338\n",
      "Epoch 155/500\n",
      "913/913 [==============================] - 4s 5ms/step - loss: 1.5472 - mae: 0.4696 - val_loss: 0.9462 - val_mae: 0.3541\n",
      "Epoch 156/500\n",
      "913/913 [==============================] - 4s 5ms/step - loss: 1.6924 - mae: 0.4895 - val_loss: 1.4685 - val_mae: 0.5020\n",
      "Epoch 157/500\n",
      "913/913 [==============================] - 4s 5ms/step - loss: 2.0557 - mae: 0.5291 - val_loss: 1.4821 - val_mae: 0.4754\n",
      "Epoch 158/500\n",
      "913/913 [==============================] - 4s 5ms/step - loss: 1.9276 - mae: 0.4897 - val_loss: 1.3423 - val_mae: 0.3978\n",
      "Epoch 159/500\n",
      "913/913 [==============================] - 4s 5ms/step - loss: 2.7451 - mae: 0.5927 - val_loss: 1.0003 - val_mae: 0.3835\n",
      "Epoch 160/500\n",
      "913/913 [==============================] - 4s 5ms/step - loss: 1.5819 - mae: 0.4609 - val_loss: 1.4192 - val_mae: 0.4674\n",
      "Epoch 161/500\n",
      "913/913 [==============================] - 4s 5ms/step - loss: 2.0536 - mae: 0.5219 - val_loss: 1.7708 - val_mae: 0.4921\n",
      "Epoch 162/500\n",
      "913/913 [==============================] - 4s 5ms/step - loss: 1.9348 - mae: 0.5083 - val_loss: 2.7902 - val_mae: 0.7145\n",
      "Epoch 163/500\n",
      "913/913 [==============================] - 4s 5ms/step - loss: 2.5054 - mae: 0.5710 - val_loss: 0.9744 - val_mae: 0.3685\n",
      "Epoch 164/500\n",
      "913/913 [==============================] - 4s 5ms/step - loss: 1.6182 - mae: 0.4728 - val_loss: 1.8533 - val_mae: 0.5511\n",
      "Epoch 165/500\n",
      "913/913 [==============================] - 4s 5ms/step - loss: 2.3788 - mae: 0.5765 - val_loss: 2.3679 - val_mae: 0.5662\n",
      "Epoch 166/500\n",
      "913/913 [==============================] - 4s 5ms/step - loss: 1.6448 - mae: 0.4701 - val_loss: 1.0392 - val_mae: 0.3939\n",
      "Epoch 167/500\n",
      "913/913 [==============================] - 4s 5ms/step - loss: 1.5872 - mae: 0.4694 - val_loss: 1.5165 - val_mae: 0.4248\n",
      "Epoch 168/500\n",
      "913/913 [==============================] - 4s 5ms/step - loss: 1.5933 - mae: 0.4880 - val_loss: 1.5371 - val_mae: 0.4850\n",
      "Epoch 169/500\n",
      "913/913 [==============================] - 4s 5ms/step - loss: 2.2194 - mae: 0.5388 - val_loss: 7.6648 - val_mae: 1.1904\n",
      "Epoch 170/500\n",
      "913/913 [==============================] - 4s 5ms/step - loss: 2.7445 - mae: 0.6017 - val_loss: 2.1396 - val_mae: 0.5958\n",
      "Epoch 171/500\n",
      "913/913 [==============================] - 4s 5ms/step - loss: 1.3980 - mae: 0.4381 - val_loss: 1.9164 - val_mae: 0.5213\n",
      "Epoch 172/500\n",
      "913/913 [==============================] - 4s 5ms/step - loss: 1.5524 - mae: 0.4496 - val_loss: 1.3383 - val_mae: 0.4935\n",
      "Epoch 173/500\n",
      "913/913 [==============================] - 4s 5ms/step - loss: 1.7415 - mae: 0.4720 - val_loss: 6.9302 - val_mae: 1.1130\n",
      "Epoch 174/500\n",
      "913/913 [==============================] - 4s 4ms/step - loss: 2.4801 - mae: 0.5805 - val_loss: 1.6848 - val_mae: 0.5362\n",
      "Epoch 175/500\n",
      "913/913 [==============================] - 4s 5ms/step - loss: 1.7015 - mae: 0.4987 - val_loss: 3.7213 - val_mae: 0.7738\n",
      "Epoch 176/500\n",
      "913/913 [==============================] - 4s 5ms/step - loss: 1.4861 - mae: 0.4509 - val_loss: 1.9764 - val_mae: 0.5561\n",
      "Epoch 177/500\n",
      "913/913 [==============================] - 4s 5ms/step - loss: 2.1021 - mae: 0.5351 - val_loss: 1.5967 - val_mae: 0.4724\n",
      "Epoch 178/500\n",
      "913/913 [==============================] - 4s 5ms/step - loss: 1.6854 - mae: 0.4832 - val_loss: 1.1090 - val_mae: 0.4160\n",
      "Epoch 179/500\n",
      "913/913 [==============================] - 4s 5ms/step - loss: 1.4649 - mae: 0.4599 - val_loss: 1.7662 - val_mae: 0.5083\n",
      "Epoch 180/500\n",
      "913/913 [==============================] - 4s 5ms/step - loss: 2.4495 - mae: 0.5399 - val_loss: 1.0191 - val_mae: 0.3913\n",
      "Epoch 181/500\n",
      "913/913 [==============================] - 4s 5ms/step - loss: 1.5392 - mae: 0.4588 - val_loss: 4.7789 - val_mae: 0.9637\n",
      "Epoch 182/500\n",
      "913/913 [==============================] - 5s 5ms/step - loss: 1.8279 - mae: 0.4885 - val_loss: 1.1997 - val_mae: 0.4115\n",
      "Epoch 183/500\n",
      "913/913 [==============================] - 4s 5ms/step - loss: 1.7145 - mae: 0.4905 - val_loss: 1.3257 - val_mae: 0.4497\n",
      "Epoch 184/500\n",
      "913/913 [==============================] - 5s 5ms/step - loss: 2.6812 - mae: 0.5632 - val_loss: 1.3195 - val_mae: 0.4557\n",
      "Epoch 185/500\n",
      "913/913 [==============================] - 4s 5ms/step - loss: 1.7783 - mae: 0.4926 - val_loss: 4.9662 - val_mae: 0.9168\n",
      "Epoch 186/500\n",
      "913/913 [==============================] - 4s 5ms/step - loss: 1.4031 - mae: 0.4563 - val_loss: 1.7272 - val_mae: 0.5417\n",
      "Epoch 187/500\n",
      "913/913 [==============================] - 5s 5ms/step - loss: 1.9244 - mae: 0.5076 - val_loss: 0.9636 - val_mae: 0.3711\n",
      "Epoch 188/500\n",
      "913/913 [==============================] - 4s 5ms/step - loss: 1.4222 - mae: 0.4663 - val_loss: 1.6151 - val_mae: 0.4627\n",
      "Epoch 189/500\n",
      "913/913 [==============================] - 4s 5ms/step - loss: 1.9642 - mae: 0.5124 - val_loss: 1.2978 - val_mae: 0.4502\n",
      "Epoch 190/500\n",
      "913/913 [==============================] - 4s 5ms/step - loss: 1.8420 - mae: 0.4986 - val_loss: 1.5683 - val_mae: 0.5021\n",
      "Epoch 191/500\n",
      "913/913 [==============================] - 4s 5ms/step - loss: 1.2737 - mae: 0.4342 - val_loss: 0.9684 - val_mae: 0.3977\n",
      "Epoch 192/500\n",
      "913/913 [==============================] - 4s 5ms/step - loss: 3.0022 - mae: 0.6188 - val_loss: 0.8251 - val_mae: 0.3861\n",
      "Epoch 193/500\n",
      "913/913 [==============================] - 4s 5ms/step - loss: 1.2635 - mae: 0.4378 - val_loss: 2.5283 - val_mae: 0.5750\n",
      "Epoch 194/500\n",
      "913/913 [==============================] - 4s 5ms/step - loss: 1.9147 - mae: 0.5141 - val_loss: 1.6535 - val_mae: 0.4988\n",
      "Epoch 195/500\n",
      "913/913 [==============================] - 4s 5ms/step - loss: 1.8702 - mae: 0.4905 - val_loss: 0.7189 - val_mae: 0.3396\n",
      "Epoch 196/500\n",
      "913/913 [==============================] - 4s 5ms/step - loss: 1.3855 - mae: 0.4435 - val_loss: 2.6120 - val_mae: 0.7846\n",
      "Epoch 197/500\n",
      "913/913 [==============================] - 4s 5ms/step - loss: 2.1137 - mae: 0.5121 - val_loss: 0.9207 - val_mae: 0.4094\n",
      "Epoch 198/500\n",
      "913/913 [==============================] - 4s 4ms/step - loss: 1.3346 - mae: 0.4480 - val_loss: 1.8589 - val_mae: 0.5666\n",
      "Epoch 199/500\n",
      "913/913 [==============================] - 4s 5ms/step - loss: 1.8599 - mae: 0.5186 - val_loss: 2.4869 - val_mae: 0.5806\n",
      "Epoch 200/500\n",
      "913/913 [==============================] - 4s 5ms/step - loss: 1.5536 - mae: 0.4767 - val_loss: 2.7410 - val_mae: 0.6629\n",
      "Epoch 201/500\n",
      "913/913 [==============================] - 4s 5ms/step - loss: 1.8430 - mae: 0.5071 - val_loss: 1.6587 - val_mae: 0.4719\n",
      "Epoch 202/500\n",
      "913/913 [==============================] - 4s 5ms/step - loss: 1.5258 - mae: 0.4639 - val_loss: 0.8003 - val_mae: 0.3253\n",
      "Epoch 203/500\n",
      "913/913 [==============================] - 4s 5ms/step - loss: 1.7537 - mae: 0.4894 - val_loss: 1.0447 - val_mae: 0.4266\n",
      "Epoch 204/500\n",
      "913/913 [==============================] - 4s 5ms/step - loss: 1.6998 - mae: 0.4799 - val_loss: 0.9634 - val_mae: 0.3975\n",
      "Epoch 205/500\n",
      "913/913 [==============================] - 5s 5ms/step - loss: 1.4544 - mae: 0.4546 - val_loss: 1.4227 - val_mae: 0.4065\n",
      "Epoch 206/500\n",
      "913/913 [==============================] - 4s 5ms/step - loss: 1.6273 - mae: 0.4817 - val_loss: 1.8173 - val_mae: 0.5104\n",
      "Epoch 207/500\n",
      "913/913 [==============================] - 4s 5ms/step - loss: 1.7815 - mae: 0.4865 - val_loss: 0.9609 - val_mae: 0.3953\n",
      "Epoch 208/500\n",
      "913/913 [==============================] - 4s 5ms/step - loss: 1.9267 - mae: 0.4888 - val_loss: 1.3991 - val_mae: 0.4409\n",
      "Epoch 209/500\n",
      "913/913 [==============================] - 4s 4ms/step - loss: 1.1724 - mae: 0.4152 - val_loss: 13.5912 - val_mae: 1.3156\n",
      "Epoch 210/500\n",
      "913/913 [==============================] - 4s 5ms/step - loss: 1.6788 - mae: 0.4814 - val_loss: 7.7691 - val_mae: 1.0809\n",
      "Epoch 211/500\n",
      "913/913 [==============================] - 4s 5ms/step - loss: 1.5618 - mae: 0.4791 - val_loss: 3.1726 - val_mae: 0.6858\n",
      "Epoch 212/500\n",
      "913/913 [==============================] - 4s 5ms/step - loss: 1.5334 - mae: 0.4640 - val_loss: 7.8184 - val_mae: 0.8950\n",
      "Epoch 213/500\n",
      "913/913 [==============================] - 4s 5ms/step - loss: 1.7748 - mae: 0.5013 - val_loss: 0.9820 - val_mae: 0.3660\n",
      "Epoch 214/500\n",
      "913/913 [==============================] - 4s 5ms/step - loss: 1.5590 - mae: 0.4702 - val_loss: 0.6374 - val_mae: 0.3259\n",
      "Epoch 215/500\n",
      "913/913 [==============================] - 5s 5ms/step - loss: 1.7220 - mae: 0.4814 - val_loss: 1.0735 - val_mae: 0.4243\n",
      "Epoch 216/500\n",
      "913/913 [==============================] - 4s 5ms/step - loss: 1.6882 - mae: 0.4837 - val_loss: 1.8109 - val_mae: 0.4466\n",
      "Epoch 217/500\n",
      "913/913 [==============================] - 4s 5ms/step - loss: 1.6698 - mae: 0.4785 - val_loss: 1.2049 - val_mae: 0.4286\n",
      "Epoch 218/500\n",
      "913/913 [==============================] - 4s 5ms/step - loss: 1.3845 - mae: 0.4476 - val_loss: 1.4165 - val_mae: 0.4987\n",
      "Epoch 219/500\n",
      "913/913 [==============================] - 4s 5ms/step - loss: 1.5532 - mae: 0.4623 - val_loss: 0.6729 - val_mae: 0.3458\n",
      "Epoch 220/500\n",
      "913/913 [==============================] - 4s 5ms/step - loss: 1.5521 - mae: 0.4692 - val_loss: 0.8728 - val_mae: 0.3652\n",
      "Epoch 221/500\n",
      "913/913 [==============================] - 4s 5ms/step - loss: 1.7137 - mae: 0.4785 - val_loss: 1.0635 - val_mae: 0.3922\n",
      "Epoch 222/500\n",
      "913/913 [==============================] - 4s 5ms/step - loss: 1.3412 - mae: 0.4420 - val_loss: 1.0731 - val_mae: 0.3899\n",
      "Epoch 223/500\n",
      "913/913 [==============================] - 4s 5ms/step - loss: 2.3083 - mae: 0.5361 - val_loss: 1.2064 - val_mae: 0.4049\n",
      "Epoch 224/500\n",
      "913/913 [==============================] - 4s 5ms/step - loss: 1.3842 - mae: 0.4400 - val_loss: 2.0557 - val_mae: 0.5709\n",
      "Epoch 225/500\n",
      "913/913 [==============================] - 4s 5ms/step - loss: 1.1970 - mae: 0.4159 - val_loss: 0.8843 - val_mae: 0.3452\n",
      "Epoch 226/500\n",
      "913/913 [==============================] - 4s 5ms/step - loss: 2.9213 - mae: 0.5492 - val_loss: 1.1741 - val_mae: 0.4036\n",
      "Epoch 227/500\n",
      "913/913 [==============================] - 4s 5ms/step - loss: 1.3987 - mae: 0.4388 - val_loss: 1.0801 - val_mae: 0.4342\n",
      "Epoch 228/500\n",
      "913/913 [==============================] - 4s 5ms/step - loss: 1.4768 - mae: 0.4551 - val_loss: 1.3287 - val_mae: 0.4747\n",
      "Epoch 229/500\n",
      "913/913 [==============================] - 4s 5ms/step - loss: 2.0415 - mae: 0.5213 - val_loss: 1.2848 - val_mae: 0.3767\n",
      "Epoch 230/500\n",
      "913/913 [==============================] - 4s 5ms/step - loss: 1.5750 - mae: 0.4625 - val_loss: 1.1419 - val_mae: 0.3547\n",
      "Epoch 231/500\n",
      "913/913 [==============================] - 5s 5ms/step - loss: 1.4412 - mae: 0.4485 - val_loss: 1.9730 - val_mae: 0.5085\n",
      "Epoch 232/500\n",
      "913/913 [==============================] - 4s 5ms/step - loss: 1.5841 - mae: 0.4661 - val_loss: 3.4008 - val_mae: 0.7435\n",
      "Epoch 233/500\n",
      "913/913 [==============================] - 4s 5ms/step - loss: 1.3929 - mae: 0.4422 - val_loss: 1.3512 - val_mae: 0.4545\n",
      "Epoch 234/500\n",
      "913/913 [==============================] - 4s 5ms/step - loss: 1.7461 - mae: 0.4761 - val_loss: 1.2790 - val_mae: 0.4584\n",
      "Epoch 235/500\n",
      "913/913 [==============================] - 4s 5ms/step - loss: 1.5437 - mae: 0.4756 - val_loss: 0.5671 - val_mae: 0.3156\n",
      "Epoch 236/500\n",
      "913/913 [==============================] - 4s 5ms/step - loss: 1.4639 - mae: 0.4475 - val_loss: 1.5489 - val_mae: 0.4470\n",
      "Epoch 237/500\n",
      "913/913 [==============================] - 4s 5ms/step - loss: 1.4357 - mae: 0.4529 - val_loss: 1.3864 - val_mae: 0.5387\n",
      "Epoch 238/500\n",
      "913/913 [==============================] - 4s 4ms/step - loss: 1.3094 - mae: 0.4278 - val_loss: 1.1413 - val_mae: 0.4316\n",
      "Epoch 239/500\n",
      "913/913 [==============================] - 4s 5ms/step - loss: 1.2226 - mae: 0.4288 - val_loss: 1.5371 - val_mae: 0.5270\n",
      "Epoch 240/500\n",
      "913/913 [==============================] - 4s 5ms/step - loss: 1.3348 - mae: 0.4382 - val_loss: 1.0991 - val_mae: 0.4370\n",
      "Epoch 241/500\n",
      "913/913 [==============================] - 4s 5ms/step - loss: 1.5778 - mae: 0.4507 - val_loss: 1.4640 - val_mae: 0.4760\n",
      "Epoch 242/500\n",
      "913/913 [==============================] - 4s 5ms/step - loss: 2.0242 - mae: 0.5284 - val_loss: 2.2432 - val_mae: 0.5761\n",
      "Epoch 243/500\n",
      "913/913 [==============================] - 4s 5ms/step - loss: 1.4741 - mae: 0.4364 - val_loss: 0.6575 - val_mae: 0.3341\n",
      "Epoch 244/500\n",
      "913/913 [==============================] - 4s 5ms/step - loss: 1.6265 - mae: 0.4542 - val_loss: 0.7010 - val_mae: 0.3741\n",
      "Epoch 245/500\n",
      "913/913 [==============================] - 4s 5ms/step - loss: 1.0515 - mae: 0.3748 - val_loss: 2.9225 - val_mae: 0.7068\n",
      "Epoch 246/500\n",
      "913/913 [==============================] - 4s 5ms/step - loss: 1.9481 - mae: 0.5130 - val_loss: 0.6857 - val_mae: 0.3574\n",
      "Epoch 247/500\n",
      "913/913 [==============================] - 4s 5ms/step - loss: 1.1961 - mae: 0.4146 - val_loss: 1.3314 - val_mae: 0.4969\n",
      "Epoch 248/500\n",
      "913/913 [==============================] - 5s 5ms/step - loss: 1.2759 - mae: 0.4218 - val_loss: 0.7794 - val_mae: 0.3955\n",
      "Epoch 249/500\n",
      "913/913 [==============================] - 4s 5ms/step - loss: 1.5005 - mae: 0.4649 - val_loss: 0.9153 - val_mae: 0.3842\n",
      "Epoch 250/500\n",
      "913/913 [==============================] - 4s 5ms/step - loss: 1.4143 - mae: 0.4345 - val_loss: 0.9202 - val_mae: 0.3983\n",
      "Epoch 251/500\n",
      "913/913 [==============================] - 4s 5ms/step - loss: 1.6431 - mae: 0.4669 - val_loss: 0.9602 - val_mae: 0.3902\n",
      "Epoch 252/500\n",
      "913/913 [==============================] - 4s 5ms/step - loss: 1.4442 - mae: 0.4200 - val_loss: 0.4451 - val_mae: 0.2870\n",
      "Epoch 253/500\n",
      "913/913 [==============================] - 4s 5ms/step - loss: 1.6964 - mae: 0.4670 - val_loss: 1.1424 - val_mae: 0.3979\n",
      "Epoch 254/500\n",
      "913/913 [==============================] - 4s 5ms/step - loss: 1.3372 - mae: 0.4233 - val_loss: 0.4661 - val_mae: 0.3042\n",
      "Epoch 255/500\n",
      "913/913 [==============================] - 4s 5ms/step - loss: 1.1849 - mae: 0.3892 - val_loss: 0.9085 - val_mae: 0.4131\n",
      "Epoch 256/500\n",
      "913/913 [==============================] - 4s 5ms/step - loss: 1.1955 - mae: 0.4244 - val_loss: 1.3094 - val_mae: 0.4561\n",
      "Epoch 257/500\n",
      "913/913 [==============================] - 4s 5ms/step - loss: 1.8617 - mae: 0.5040 - val_loss: 3.3628 - val_mae: 0.6543\n",
      "Epoch 258/500\n",
      "913/913 [==============================] - 4s 5ms/step - loss: 1.3679 - mae: 0.4390 - val_loss: 1.5902 - val_mae: 0.4990\n",
      "Epoch 259/500\n",
      "913/913 [==============================] - 4s 5ms/step - loss: 1.4596 - mae: 0.4277 - val_loss: 0.7739 - val_mae: 0.3749\n",
      "Epoch 260/500\n",
      "913/913 [==============================] - 4s 5ms/step - loss: 1.8288 - mae: 0.5062 - val_loss: 0.7738 - val_mae: 0.3630\n",
      "Epoch 261/500\n",
      "913/913 [==============================] - 4s 5ms/step - loss: 1.7754 - mae: 0.4828 - val_loss: 0.5128 - val_mae: 0.2796\n",
      "Epoch 262/500\n",
      "913/913 [==============================] - 4s 5ms/step - loss: 0.9136 - mae: 0.3610 - val_loss: 1.1013 - val_mae: 0.4404\n",
      "Epoch 263/500\n",
      "913/913 [==============================] - 4s 5ms/step - loss: 1.5040 - mae: 0.4538 - val_loss: 3.0740 - val_mae: 0.7023\n",
      "Epoch 264/500\n",
      "913/913 [==============================] - 4s 5ms/step - loss: 1.3720 - mae: 0.4452 - val_loss: 1.3596 - val_mae: 0.4545\n",
      "Epoch 265/500\n",
      "913/913 [==============================] - 4s 5ms/step - loss: 1.1189 - mae: 0.3920 - val_loss: 1.2588 - val_mae: 0.4438\n",
      "Epoch 266/500\n",
      "913/913 [==============================] - 4s 5ms/step - loss: 1.7805 - mae: 0.4990 - val_loss: 0.5673 - val_mae: 0.3295\n",
      "Epoch 267/500\n",
      "913/913 [==============================] - 4s 5ms/step - loss: 1.3517 - mae: 0.4321 - val_loss: 1.7216 - val_mae: 0.4581\n",
      "Epoch 268/500\n",
      "913/913 [==============================] - 4s 5ms/step - loss: 1.4333 - mae: 0.4392 - val_loss: 1.3503 - val_mae: 0.5145\n",
      "Epoch 269/500\n",
      "913/913 [==============================] - 4s 5ms/step - loss: 1.1602 - mae: 0.4033 - val_loss: 0.9168 - val_mae: 0.3925\n",
      "Epoch 270/500\n",
      "913/913 [==============================] - 4s 5ms/step - loss: 1.4348 - mae: 0.4251 - val_loss: 1.0440 - val_mae: 0.3577\n",
      "Epoch 271/500\n",
      "913/913 [==============================] - 4s 5ms/step - loss: 1.5319 - mae: 0.4557 - val_loss: 1.0934 - val_mae: 0.3884\n",
      "Epoch 272/500\n",
      "913/913 [==============================] - 4s 5ms/step - loss: 1.3435 - mae: 0.4359 - val_loss: 0.7216 - val_mae: 0.3751\n",
      "Epoch 273/500\n",
      "913/913 [==============================] - 4s 5ms/step - loss: 1.3538 - mae: 0.4265 - val_loss: 0.9066 - val_mae: 0.4027\n",
      "Epoch 274/500\n",
      "913/913 [==============================] - 4s 5ms/step - loss: 1.0921 - mae: 0.3767 - val_loss: 6.5209 - val_mae: 1.0460\n",
      "Epoch 275/500\n",
      "913/913 [==============================] - 5s 5ms/step - loss: 1.4127 - mae: 0.4531 - val_loss: 1.4944 - val_mae: 0.4603\n",
      "Epoch 276/500\n",
      "913/913 [==============================] - 4s 5ms/step - loss: 1.5722 - mae: 0.4495 - val_loss: 0.7103 - val_mae: 0.3226\n",
      "Epoch 277/500\n",
      "913/913 [==============================] - 4s 5ms/step - loss: 1.1264 - mae: 0.3874 - val_loss: 1.4605 - val_mae: 0.4673\n",
      "Epoch 278/500\n",
      "913/913 [==============================] - 4s 5ms/step - loss: 1.2506 - mae: 0.4283 - val_loss: 0.5157 - val_mae: 0.2832\n",
      "Epoch 279/500\n",
      "913/913 [==============================] - 5s 5ms/step - loss: 1.6353 - mae: 0.4638 - val_loss: 1.9004 - val_mae: 0.5882\n",
      "Epoch 280/500\n",
      "913/913 [==============================] - 4s 5ms/step - loss: 1.5112 - mae: 0.4471 - val_loss: 0.7353 - val_mae: 0.3559\n",
      "Epoch 281/500\n",
      "913/913 [==============================] - 5s 5ms/step - loss: 0.9486 - mae: 0.3707 - val_loss: 1.3154 - val_mae: 0.4575\n",
      "Epoch 282/500\n",
      "913/913 [==============================] - 4s 5ms/step - loss: 1.0751 - mae: 0.3958 - val_loss: 0.8078 - val_mae: 0.4159\n",
      "Epoch 283/500\n",
      "913/913 [==============================] - 5s 5ms/step - loss: 1.4703 - mae: 0.4439 - val_loss: 2.6841 - val_mae: 0.5726\n",
      "Epoch 284/500\n",
      "913/913 [==============================] - 4s 5ms/step - loss: 1.4965 - mae: 0.4519 - val_loss: 0.5162 - val_mae: 0.3263\n",
      "Epoch 285/500\n",
      "913/913 [==============================] - 4s 5ms/step - loss: 1.0600 - mae: 0.3910 - val_loss: 1.1195 - val_mae: 0.4483\n",
      "Epoch 286/500\n",
      "913/913 [==============================] - 4s 5ms/step - loss: 1.1297 - mae: 0.3912 - val_loss: 1.8997 - val_mae: 0.5669\n",
      "Epoch 287/500\n",
      "913/913 [==============================] - 4s 5ms/step - loss: 1.7378 - mae: 0.4871 - val_loss: 1.1306 - val_mae: 0.4303\n",
      "Epoch 288/500\n",
      "913/913 [==============================] - 4s 5ms/step - loss: 0.9347 - mae: 0.3653 - val_loss: 1.4363 - val_mae: 0.4664\n",
      "Epoch 289/500\n",
      "913/913 [==============================] - 4s 5ms/step - loss: 1.1910 - mae: 0.4109 - val_loss: 3.4327 - val_mae: 0.6526\n",
      "Epoch 290/500\n",
      "913/913 [==============================] - 4s 5ms/step - loss: 1.4418 - mae: 0.4380 - val_loss: 2.3244 - val_mae: 0.6218\n",
      "Epoch 291/500\n",
      "913/913 [==============================] - 4s 5ms/step - loss: 1.0202 - mae: 0.3875 - val_loss: 0.8280 - val_mae: 0.3668\n",
      "Epoch 292/500\n",
      "913/913 [==============================] - 4s 5ms/step - loss: 1.9387 - mae: 0.4809 - val_loss: 0.5245 - val_mae: 0.3120\n",
      "Epoch 293/500\n",
      "913/913 [==============================] - 4s 5ms/step - loss: 1.0720 - mae: 0.3875 - val_loss: 5.0614 - val_mae: 0.7375\n",
      "Epoch 294/500\n",
      "913/913 [==============================] - 4s 5ms/step - loss: 1.7140 - mae: 0.4515 - val_loss: 1.0896 - val_mae: 0.3514\n",
      "Epoch 295/500\n",
      "913/913 [==============================] - 4s 5ms/step - loss: 1.3912 - mae: 0.4269 - val_loss: 0.5297 - val_mae: 0.3116\n",
      "Epoch 296/500\n",
      "913/913 [==============================] - 4s 4ms/step - loss: 1.5621 - mae: 0.4459 - val_loss: 0.6065 - val_mae: 0.3257\n",
      "Epoch 297/500\n",
      "913/913 [==============================] - 4s 5ms/step - loss: 1.2905 - mae: 0.4233 - val_loss: 2.3496 - val_mae: 0.6452\n",
      "Epoch 298/500\n",
      "913/913 [==============================] - 4s 5ms/step - loss: 1.2665 - mae: 0.4203 - val_loss: 5.1880 - val_mae: 1.0629\n",
      "Epoch 299/500\n",
      "913/913 [==============================] - 4s 4ms/step - loss: 1.3560 - mae: 0.4296 - val_loss: 0.6349 - val_mae: 0.3072\n",
      "Epoch 300/500\n",
      "913/913 [==============================] - 4s 4ms/step - loss: 1.3134 - mae: 0.4240 - val_loss: 0.4358 - val_mae: 0.2703\n",
      "Epoch 301/500\n",
      "913/913 [==============================] - 5s 5ms/step - loss: 0.9796 - mae: 0.3719 - val_loss: 1.9512 - val_mae: 0.6226\n",
      "Epoch 302/500\n",
      "913/913 [==============================] - 4s 5ms/step - loss: 0.9622 - mae: 0.3973 - val_loss: 0.9969 - val_mae: 0.4220\n",
      "Epoch 303/500\n",
      "913/913 [==============================] - 4s 5ms/step - loss: 1.9519 - mae: 0.4850 - val_loss: 2.6572 - val_mae: 0.6399\n",
      "Epoch 304/500\n",
      "913/913 [==============================] - 4s 5ms/step - loss: 1.3128 - mae: 0.4099 - val_loss: 1.3647 - val_mae: 0.4963\n",
      "Epoch 305/500\n",
      "913/913 [==============================] - 4s 5ms/step - loss: 1.1509 - mae: 0.4009 - val_loss: 0.5653 - val_mae: 0.3217\n",
      "Epoch 306/500\n",
      "913/913 [==============================] - 4s 5ms/step - loss: 0.9926 - mae: 0.3790 - val_loss: 1.1928 - val_mae: 0.4025\n",
      "Epoch 307/500\n",
      "913/913 [==============================] - 4s 5ms/step - loss: 1.4578 - mae: 0.4293 - val_loss: 1.1460 - val_mae: 0.3156\n",
      "Epoch 308/500\n",
      "913/913 [==============================] - 4s 5ms/step - loss: 1.1384 - mae: 0.3820 - val_loss: 0.8539 - val_mae: 0.3744\n",
      "Epoch 309/500\n",
      "913/913 [==============================] - 4s 5ms/step - loss: 0.7489 - mae: 0.3462 - val_loss: 0.5486 - val_mae: 0.3418\n",
      "Epoch 310/500\n",
      "913/913 [==============================] - 4s 5ms/step - loss: 1.4234 - mae: 0.4440 - val_loss: 0.7532 - val_mae: 0.3566\n",
      "Epoch 311/500\n",
      "913/913 [==============================] - 4s 5ms/step - loss: 1.5177 - mae: 0.4382 - val_loss: 0.6612 - val_mae: 0.3441\n",
      "Epoch 312/500\n",
      "913/913 [==============================] - 4s 5ms/step - loss: 1.3668 - mae: 0.4240 - val_loss: 2.4583 - val_mae: 0.7336\n",
      "Epoch 313/500\n",
      "913/913 [==============================] - 4s 5ms/step - loss: 0.8814 - mae: 0.3793 - val_loss: 1.4719 - val_mae: 0.3446\n",
      "Epoch 314/500\n",
      "913/913 [==============================] - 4s 5ms/step - loss: 1.0705 - mae: 0.3948 - val_loss: 0.6284 - val_mae: 0.3350\n",
      "Epoch 315/500\n",
      "913/913 [==============================] - 4s 5ms/step - loss: 0.8174 - mae: 0.3635 - val_loss: 0.7907 - val_mae: 0.3796\n",
      "Epoch 316/500\n",
      "913/913 [==============================] - 4s 5ms/step - loss: 1.5145 - mae: 0.4626 - val_loss: 1.4158 - val_mae: 0.4465\n",
      "Epoch 317/500\n",
      "913/913 [==============================] - 4s 5ms/step - loss: 1.1118 - mae: 0.4129 - val_loss: 1.5430 - val_mae: 0.4674\n",
      "Epoch 318/500\n",
      "913/913 [==============================] - 4s 5ms/step - loss: 1.2114 - mae: 0.4053 - val_loss: 0.8740 - val_mae: 0.4116\n",
      "Epoch 319/500\n",
      "913/913 [==============================] - 4s 5ms/step - loss: 0.6987 - mae: 0.3363 - val_loss: 0.6284 - val_mae: 0.3542\n",
      "Epoch 320/500\n",
      "913/913 [==============================] - 4s 5ms/step - loss: 1.1690 - mae: 0.4261 - val_loss: 1.3036 - val_mae: 0.4525\n",
      "Epoch 321/500\n",
      "913/913 [==============================] - 4s 5ms/step - loss: 1.3375 - mae: 0.4338 - val_loss: 0.6124 - val_mae: 0.3525\n",
      "Epoch 322/500\n",
      "913/913 [==============================] - 4s 5ms/step - loss: 1.2417 - mae: 0.4008 - val_loss: 0.8021 - val_mae: 0.3736\n",
      "Epoch 323/500\n",
      "913/913 [==============================] - 4s 5ms/step - loss: 0.7265 - mae: 0.3485 - val_loss: 0.3220 - val_mae: 0.2652\n",
      "Epoch 324/500\n",
      "913/913 [==============================] - 4s 5ms/step - loss: 1.1715 - mae: 0.4063 - val_loss: 0.4280 - val_mae: 0.2772\n",
      "Epoch 325/500\n",
      "913/913 [==============================] - 4s 4ms/step - loss: 1.4043 - mae: 0.4225 - val_loss: 0.5478 - val_mae: 0.3098\n",
      "Epoch 326/500\n",
      "913/913 [==============================] - 4s 4ms/step - loss: 1.1302 - mae: 0.3923 - val_loss: 2.7148 - val_mae: 0.6209\n",
      "Epoch 327/500\n",
      "913/913 [==============================] - 4s 5ms/step - loss: 0.8766 - mae: 0.3704 - val_loss: 0.4857 - val_mae: 0.3201\n",
      "Epoch 328/500\n",
      "913/913 [==============================] - 4s 5ms/step - loss: 1.1070 - mae: 0.3902 - val_loss: 1.2582 - val_mae: 0.3999\n",
      "Epoch 329/500\n",
      "913/913 [==============================] - 4s 5ms/step - loss: 1.1632 - mae: 0.3999 - val_loss: 2.5042 - val_mae: 0.6310\n",
      "Epoch 330/500\n",
      "913/913 [==============================] - 4s 5ms/step - loss: 1.6114 - mae: 0.4598 - val_loss: 0.3439 - val_mae: 0.2738\n",
      "Epoch 331/500\n",
      "913/913 [==============================] - 4s 5ms/step - loss: 0.9745 - mae: 0.3675 - val_loss: 1.5879 - val_mae: 0.4436\n",
      "Epoch 332/500\n",
      "913/913 [==============================] - 4s 5ms/step - loss: 1.4900 - mae: 0.4481 - val_loss: 0.6810 - val_mae: 0.3703\n",
      "Epoch 333/500\n",
      "913/913 [==============================] - 4s 5ms/step - loss: 0.9768 - mae: 0.3615 - val_loss: 0.5008 - val_mae: 0.3372\n",
      "Epoch 334/500\n",
      "913/913 [==============================] - 4s 5ms/step - loss: 1.9729 - mae: 0.4864 - val_loss: 0.4745 - val_mae: 0.3011\n",
      "Epoch 335/500\n",
      "913/913 [==============================] - 4s 5ms/step - loss: 0.9738 - mae: 0.3676 - val_loss: 0.4339 - val_mae: 0.3016\n",
      "Epoch 336/500\n",
      "913/913 [==============================] - 4s 5ms/step - loss: 1.3790 - mae: 0.4062 - val_loss: 2.6463 - val_mae: 0.5640\n",
      "Epoch 337/500\n",
      "913/913 [==============================] - 5s 5ms/step - loss: 1.2274 - mae: 0.4046 - val_loss: 0.7357 - val_mae: 0.3791\n",
      "Epoch 338/500\n",
      "913/913 [==============================] - 4s 5ms/step - loss: 0.9205 - mae: 0.3643 - val_loss: 0.6940 - val_mae: 0.3568\n",
      "Epoch 339/500\n",
      "913/913 [==============================] - 4s 5ms/step - loss: 1.2714 - mae: 0.4375 - val_loss: 1.1757 - val_mae: 0.4438\n",
      "Epoch 340/500\n",
      "913/913 [==============================] - 16s 17ms/step - loss: 1.8862 - mae: 0.4957 - val_loss: 0.4928 - val_mae: 0.2995\n",
      "Epoch 341/500\n",
      "913/913 [==============================] - 4s 4ms/step - loss: 0.9048 - mae: 0.3639 - val_loss: 2.0406 - val_mae: 0.5959\n",
      "Epoch 342/500\n",
      "913/913 [==============================] - 4s 5ms/step - loss: 1.3551 - mae: 0.3935 - val_loss: 0.9777 - val_mae: 0.3472\n",
      "Epoch 343/500\n",
      "913/913 [==============================] - 4s 5ms/step - loss: 0.7557 - mae: 0.3388 - val_loss: 0.4691 - val_mae: 0.3062\n",
      "Epoch 344/500\n",
      "913/913 [==============================] - 4s 5ms/step - loss: 1.0101 - mae: 0.4002 - val_loss: 0.3802 - val_mae: 0.2847\n",
      "Epoch 345/500\n",
      "913/913 [==============================] - 4s 5ms/step - loss: 0.9086 - mae: 0.3533 - val_loss: 0.9561 - val_mae: 0.3815\n",
      "Epoch 346/500\n",
      "913/913 [==============================] - 4s 5ms/step - loss: 1.4113 - mae: 0.4199 - val_loss: 0.4893 - val_mae: 0.3074\n",
      "Epoch 347/500\n",
      "913/913 [==============================] - 4s 5ms/step - loss: 1.0599 - mae: 0.3999 - val_loss: 1.3398 - val_mae: 0.4582\n",
      "Epoch 348/500\n",
      "913/913 [==============================] - 4s 5ms/step - loss: 1.2971 - mae: 0.4220 - val_loss: 1.6413 - val_mae: 0.5548\n",
      "Epoch 349/500\n",
      "913/913 [==============================] - 4s 5ms/step - loss: 1.0059 - mae: 0.3817 - val_loss: 1.2473 - val_mae: 0.4577\n",
      "Epoch 350/500\n",
      "913/913 [==============================] - 4s 5ms/step - loss: 0.8576 - mae: 0.3569 - val_loss: 1.3936 - val_mae: 0.4566\n",
      "Epoch 351/500\n",
      "913/913 [==============================] - 4s 5ms/step - loss: 1.0329 - mae: 0.3965 - val_loss: 0.4333 - val_mae: 0.2762\n",
      "Epoch 352/500\n",
      "913/913 [==============================] - 4s 5ms/step - loss: 0.6794 - mae: 0.3316 - val_loss: 0.5255 - val_mae: 0.3202\n",
      "Epoch 353/500\n",
      "913/913 [==============================] - 4s 5ms/step - loss: 1.1835 - mae: 0.3998 - val_loss: 0.4948 - val_mae: 0.3147\n",
      "Epoch 354/500\n",
      "913/913 [==============================] - 4s 5ms/step - loss: 1.6925 - mae: 0.4522 - val_loss: 1.2367 - val_mae: 0.4784\n",
      "Epoch 355/500\n",
      "913/913 [==============================] - 4s 5ms/step - loss: 0.5867 - mae: 0.3233 - val_loss: 0.9814 - val_mae: 0.3960\n",
      "Epoch 356/500\n",
      "913/913 [==============================] - 4s 5ms/step - loss: 1.1533 - mae: 0.3989 - val_loss: 0.4221 - val_mae: 0.2955\n",
      "Epoch 357/500\n",
      "913/913 [==============================] - 4s 5ms/step - loss: 0.9055 - mae: 0.3517 - val_loss: 6.7349 - val_mae: 0.8989\n",
      "Epoch 358/500\n",
      "913/913 [==============================] - 4s 5ms/step - loss: 0.7329 - mae: 0.3525 - val_loss: 0.7202 - val_mae: 0.3826\n",
      "Epoch 359/500\n",
      "913/913 [==============================] - 4s 5ms/step - loss: 1.2051 - mae: 0.3983 - val_loss: 1.0020 - val_mae: 0.3917\n",
      "Epoch 360/500\n",
      "913/913 [==============================] - 4s 5ms/step - loss: 1.2446 - mae: 0.4091 - val_loss: 0.5498 - val_mae: 0.3298\n",
      "Epoch 361/500\n",
      "913/913 [==============================] - 4s 5ms/step - loss: 0.6842 - mae: 0.3337 - val_loss: 1.4119 - val_mae: 0.3995\n",
      "Epoch 362/500\n",
      "913/913 [==============================] - 4s 5ms/step - loss: 1.2109 - mae: 0.4138 - val_loss: 1.0565 - val_mae: 0.3872\n",
      "Epoch 363/500\n",
      "913/913 [==============================] - 4s 5ms/step - loss: 0.7250 - mae: 0.3476 - val_loss: 0.6123 - val_mae: 0.3484\n",
      "Epoch 364/500\n",
      "913/913 [==============================] - 4s 5ms/step - loss: 1.0383 - mae: 0.4084 - val_loss: 0.4802 - val_mae: 0.2893\n",
      "Epoch 365/500\n",
      "913/913 [==============================] - 4s 5ms/step - loss: 1.6013 - mae: 0.4569 - val_loss: 0.7934 - val_mae: 0.3767\n",
      "Epoch 366/500\n",
      "913/913 [==============================] - 4s 5ms/step - loss: 0.7732 - mae: 0.3504 - val_loss: 3.4090 - val_mae: 0.6292\n",
      "Epoch 367/500\n",
      "913/913 [==============================] - 4s 5ms/step - loss: 1.1194 - mae: 0.3772 - val_loss: 0.6835 - val_mae: 0.3139\n",
      "Epoch 368/500\n",
      "913/913 [==============================] - 4s 5ms/step - loss: 1.0980 - mae: 0.4006 - val_loss: 0.7992 - val_mae: 0.3420\n",
      "Epoch 369/500\n",
      "913/913 [==============================] - 4s 5ms/step - loss: 1.4938 - mae: 0.4384 - val_loss: 1.7882 - val_mae: 0.5653\n",
      "Epoch 370/500\n",
      "913/913 [==============================] - 4s 5ms/step - loss: 1.1836 - mae: 0.3953 - val_loss: 0.3305 - val_mae: 0.2692\n",
      "Epoch 371/500\n",
      "913/913 [==============================] - 4s 5ms/step - loss: 0.6767 - mae: 0.3254 - val_loss: 0.3736 - val_mae: 0.2878\n",
      "Epoch 372/500\n",
      "913/913 [==============================] - 4s 5ms/step - loss: 0.8821 - mae: 0.3604 - val_loss: 0.7136 - val_mae: 0.3503\n",
      "Epoch 373/500\n",
      "913/913 [==============================] - 4s 5ms/step - loss: 1.5472 - mae: 0.4492 - val_loss: 1.3652 - val_mae: 0.4384\n"
     ]
    }
   ],
   "source": [
    "history = ann.fit(X_train, y_train,\n",
    "                    validation_data = (X_val, y_val),\n",
    "                    callbacks=[es],\n",
    "                    epochs=500,\n",
    "                    batch_size=30,\n",
    "                    verbose=1)"
   ]
  },
  {
   "cell_type": "code",
   "execution_count": 22,
   "metadata": {
    "ExecuteTime": {
     "end_time": "2024-08-11T04:50:11.837962700Z",
     "start_time": "2024-08-11T04:50:11.164878500Z"
    }
   },
   "outputs": [
    {
     "data": {
      "text/plain": "<Figure size 640x480 with 1 Axes>",
      "image/png": "[encoded data removed]"
     },
     "metadata": {},
     "output_type": "display_data"
    }
   ],
   "source": [
    "# let's see the training and validation accuracy by epoch\n",
    "history_dict = history.history\n",
    "loss_values = history_dict['loss'] # you can change this\n",
    "val_loss_values = history_dict['val_loss'] # you can also change this\n",
    "epochs = range(1, len(loss_values) + 1) # range of X (no. of epochs)\n",
    "plt.plot(epochs, loss_values, 'blue', label='Train set loss')\n",
    "plt.plot(epochs, val_loss_values, 'orange', label='Validation set loss')\n",
    "#plt.title('Training and testing loss')\n",
    "plt.xlabel('Epochs')\n",
    "plt.ylabel('Loss (MSE)')\n",
    "plt.legend()\n",
    "plt.savefig('Section4_ANN7_2.png', dpi=300, bbox_inches='tight')\n",
    "plt.show()"
   ]
  },
  {
   "cell_type": "code",
   "execution_count": 23,
   "metadata": {
    "ExecuteTime": {
     "end_time": "2024-08-11T04:50:12.566395500Z",
     "start_time": "2024-08-11T04:50:11.819956300Z"
    }
   },
   "outputs": [
    {
     "data": {
      "text/plain": "<Figure size 640x480 with 1 Axes>",
      "image/png": "[encoded data removed]"
     },
     "metadata": {},
     "output_type": "display_data"
    }
   ],
   "source": [
    "loss_values1 = history_dict['mae'] # you can change this\n",
    "val_loss_values1 = history_dict['val_mae'] # you can also change this\n",
    "epochs = range(1, len(loss_values1) + 1) # range of X (no. of epochs)\n",
    "plt.plot(epochs, loss_values1, 'blue', label='Train set MAE')\n",
    "plt.plot(epochs, val_loss_values1, 'orange', label='Validation set MAE')\n",
    "#plt.title('Training and testing MAE')\n",
    "plt.xlabel('Epochs')\n",
    "plt.ylabel('MAE')\n",
    "plt.legend()\n",
    "plt.savefig('Section4_ANN7_3.png', dpi=300, bbox_inches='tight')\n",
    "plt.show()"
   ]
  },
  {
   "cell_type": "code",
   "execution_count": 24,
   "metadata": {
    "ExecuteTime": {
     "end_time": "2024-08-11T04:50:13.981905100Z",
     "start_time": "2024-08-11T04:50:12.548879300Z"
    }
   },
   "outputs": [
    {
     "name": "stdout",
     "output_type": "stream",
     "text": [
      "INFO:tensorflow:Assets written to: Section4_new_ANN_7\\assets\n"
     ]
    }
   ],
   "source": [
    "ann.save('Section4_new_ANN_7')\n",
    "import pickle\n",
    "pickle.dump(sc, open('Section4_new_scaler_ANN_7.pkl', 'wb'))"
   ]
  },
  {
   "cell_type": "markdown",
   "metadata": {},
   "source": [
    "## Part 5 - Make predictions"
   ]
  },
  {
   "cell_type": "code",
   "execution_count": 25,
   "metadata": {
    "ExecuteTime": {
     "end_time": "2024-08-11T04:50:20.533957700Z",
     "start_time": "2024-08-11T04:50:13.986905700Z"
    }
   },
   "outputs": [
    {
     "name": "stdout",
     "output_type": "stream",
     "text": [
      "856/856 [==============================] - 3s 4ms/step\n",
      "286/286 [==============================] - 1s 2ms/step\n"
     ]
    },
    {
     "data": {
      "text/plain": "<Figure size 640x480 with 2 Axes>",
      "image/png": "[encoded data removed]"
     },
     "metadata": {},
     "output_type": "display_data"
    }
   ],
   "source": [
    "# scatterplot of actual vs. pred\n",
    "# specify the dimensions \n",
    "fig, axes = plt.subplots(1,2) # 1 row, 2 columns\n",
    "\n",
    "# this makes the individual subplots\n",
    "# Training Results\n",
    "axes[0].scatter(x=y_train, y=ann.predict(X_train)) #first row, first entry (left top)\n",
    "axes[0].set_xlabel(\"Actual\", fontsize=10)\n",
    "axes[0].set_ylabel(\"Predicted\",  fontsize=10)\n",
    "axes[0].set_title(\"Training\")\n",
    "# add 45 deg line\n",
    "x = np.linspace(*axes[0].get_xlim())\n",
    "axes[0].plot(x, x, color='red')\n",
    "# Validation Results\n",
    "axes[1].scatter(x=y_val, y=ann.predict(X_val)) # first row, second entry (right top)\n",
    "axes[1].set_xlabel(\"Actual\", fontsize=10)\n",
    "axes[1].set_ylabel(\"Predicted\",  fontsize=10)\n",
    "axes[1].set_title(\"Validation\")\n",
    "# add 45 deg line\n",
    "x = np.linspace(*axes[1].get_xlim())\n",
    "axes[1].plot(x, x, color='red')\n",
    "\n",
    "# tight layout\n",
    "fig.tight_layout()\n",
    "\n",
    "plt.savefig('Section4_ANN7_1.png', dpi=300, bbox_inches='tight')\n",
    "# show the plot\n",
    "plt.show()"
   ]
  },
  {
   "cell_type": "code",
   "execution_count": 17,
   "metadata": {
    "colab": {
     "base_uri": "https://localhost:8080/",
     "height": 134
    },
    "colab_type": "code",
    "id": "IA0yApEmBG1X",
    "outputId": "cb981e1f-9204-4a2a-fece-9d66a6919189",
    "ExecuteTime": {
     "end_time": "2024-08-26T00:39:33.547010800Z",
     "start_time": "2024-08-26T00:39:32.688096300Z"
    }
   },
   "outputs": [
    {
     "name": "stdout",
     "output_type": "stream",
     "text": [
      "286/286 [==============================] - 1s 2ms/step\n",
      "[[19.   19.32]\n",
      " [32.49 33.45]\n",
      " [ 0.75  0.95]\n",
      " ...\n",
      " [ 5.09  5.1 ]\n",
      " [23.94 24.99]\n",
      " [ 0.12  0.06]]\n"
     ]
    }
   ],
   "source": [
    "y_pred = ann.predict(X_test)\n",
    "np.set_printoptions(precision=2)\n",
    "print(np.concatenate((y_pred.reshape(len(y_pred),1), y_test.reshape(len(y_test),1)),1))"
   ]
  },
  {
   "cell_type": "code",
   "execution_count": 27,
   "metadata": {
    "ExecuteTime": {
     "end_time": "2024-08-11T04:50:21.764681800Z",
     "start_time": "2024-08-11T04:50:21.504918900Z"
    }
   },
   "outputs": [
    {
     "data": {
      "text/plain": "Text(0, 0.5, 'Predicted data')"
     },
     "execution_count": 27,
     "metadata": {},
     "output_type": "execute_result"
    },
    {
     "data": {
      "text/plain": "<Figure size 640x480 with 1 Axes>",
      "image/png": "[encoded data removed]"
     },
     "metadata": {},
     "output_type": "display_data"
    }
   ],
   "source": [
    "import matplotlib.pyplot as plt\n",
    "plt.scatter(y_test, y_pred, color=\"blue\")\n",
    "plt.xlabel ('Actual data')\n",
    "plt.ylabel ('Predicted data')"
   ]
  },
  {
   "cell_type": "code",
   "execution_count": 18,
   "metadata": {
    "ExecuteTime": {
     "end_time": "2024-08-26T00:39:37.737843300Z",
     "start_time": "2024-08-26T00:39:37.001742200Z"
    }
   },
   "outputs": [
    {
     "data": {
      "text/plain": "<Figure size 600x600 with 1 Axes>",
      "image/png": "[encoded data removed]"
     },
     "metadata": {},
     "output_type": "display_data"
    }
   ],
   "source": [
    "from sklearn.metrics import r2_score\n",
    "# Initialize layout\n",
    "fig1, ax1 = plt.subplots(figsize = (6, 6))\n",
    "\n",
    "# Set global font to Times New Roman and font size\n",
    "plt.rcParams['font.family'] = 'serif'\n",
    "plt.rcParams['font.serif'] = ['Times New Roman']\n",
    "plt.rcParams['font.size'] = 20\n",
    "\n",
    "b_l = -10\n",
    "u_l = 110\n",
    "\n",
    "# Add scatterplot\n",
    "ax1.scatter(y_test, y_pred, s=70, alpha=1, edgecolors=\"k\",c='mediumblue',zorder=5, label = 'Points')\n",
    "\n",
    "\n",
    "plt.ylabel('Predicted Reflected Overpressure (kPa)')\n",
    "plt.xlabel('Target Reflected Overpressure (kPa)')\n",
    "plt.xticks(fontsize = 19)\n",
    "plt.yticks(fontsize = 19)\n",
    "\n",
    "\n",
    "x1 = np.linspace(b_l, u_l)\n",
    "\n",
    "plt.plot(x1, x1, 'Red', label='45\\N{DEGREE SIGN} line',lw=2.5,alpha=1)\n",
    "#plt.plot(x1, 1.05*x1, '--m', label='\\u00B15% Error',lw=2.5,alpha=0.7)\n",
    "#plt.plot(x1, 0.95*x1,'m', linestyle='--',lw=2.5,alpha=0.7)\n",
    "#plt.plot(x1, 1.1*x1, '-.g', label='\\u00B110% Error',lw=2.5,alpha=0.7)\n",
    "#plt.plot(x1, 0.9*x1,'-.g',lw=2.5,alpha=0.7)\n",
    "#plt.plot(x1, 1.2*x1, color = '#F97306', linestyle='dotted', label='\\u00B120% Error',lw=2.5,alpha=0.7)\n",
    "#plt.plot(x1, 0.8*x1,color = '#F97306', linestyle='dotted', lw=2.5,alpha=0.7)\n",
    "\n",
    "plt.ylim(b_l, u_l)\n",
    "plt.xlim(b_l, u_l)\n",
    "plt.legend(loc='upper center', bbox_to_anchor=(0.5, -0.15), ncol=4, frameon = False, fontsize = 20)\n",
    "\n",
    "#plt.grid()\n",
    "\n",
    "ax1.spines['left'].set_color('black')        # setting up Y-axis tick color to red\n",
    "ax1.spines['bottom'].set_color('black')\n",
    "\n",
    "# Save the plot\n",
    "plt.savefig('Section4_ANN7.png', dpi=300, bbox_inches='tight')"
   ]
  },
  {
   "cell_type": "code",
   "execution_count": 29,
   "metadata": {
    "ExecuteTime": {
     "end_time": "2024-08-11T04:50:25.392494200Z",
     "start_time": "2024-08-11T04:50:22.890611100Z"
    }
   },
   "outputs": [
    {
     "name": "stdout",
     "output_type": "stream",
     "text": [
      "856/856 [==============================] - 2s 2ms/step\n",
      "0.24241872095449202\n",
      "0.2583585413819522\n"
     ]
    }
   ],
   "source": [
    "# metrics\n",
    "trainpreds = ann.predict(X_train)\n",
    "\n",
    "from sklearn.metrics import mean_absolute_error\n",
    "print(mean_absolute_error(y_train, trainpreds)) # train\n",
    "print(mean_absolute_error(y_test, y_pred)) # test"
   ]
  },
  {
   "cell_type": "code",
   "execution_count": 30,
   "metadata": {
    "ExecuteTime": {
     "end_time": "2024-08-11T04:50:25.430118Z",
     "start_time": "2024-08-11T04:50:25.391494400Z"
    }
   },
   "outputs": [
    {
     "name": "stdout",
     "output_type": "stream",
     "text": [
      "0.9974369307544245\n"
     ]
    }
   ],
   "source": [
    "from sklearn.metrics import r2_score\n",
    "r2 = r2_score(y_test, y_pred)\n",
    "print (r2)"
   ]
  },
  {
   "cell_type": "code",
   "execution_count": 31,
   "metadata": {
    "ExecuteTime": {
     "end_time": "2024-08-11T04:50:25.701941600Z",
     "start_time": "2024-08-11T04:50:25.405030Z"
    }
   },
   "outputs": [
    {
     "name": "stdout",
     "output_type": "stream",
     "text": [
      "0.9973298259216107\n"
     ]
    }
   ],
   "source": [
    "r2_train = r2_score(y_train, trainpreds)\n",
    "print (r2_train)"
   ]
  },
  {
   "cell_type": "code",
   "execution_count": 32,
   "metadata": {
    "ExecuteTime": {
     "end_time": "2024-08-11T04:50:26.602432400Z",
     "start_time": "2024-08-11T04:50:25.684893800Z"
    }
   },
   "outputs": [
    {
     "name": "stdout",
     "output_type": "stream",
     "text": [
      "Within 5% margin 50.11%\n",
      "Within 10% margin 64.11%\n",
      "Within 20% margin 72.95%\n",
      "Out of 20% margin 27.05%\n"
     ]
    }
   ],
   "source": [
    "count0 = 0\n",
    "for i in range(len(y_pred)):\n",
    "    line1 = y_pred[i] - 0.95*y_test[i]\n",
    "    line2 = y_pred[i] - 1.05*y_test[i]\n",
    "    mask0 = (line1 > 0) & (line2 < 0)\n",
    "    count0 = np.sum(mask0+count0)\n",
    "\n",
    "count1 = 0\n",
    "for i in range(len(y_pred)):\n",
    "    line1 = y_pred[i] - 0.9*y_test[i]\n",
    "    line2 = y_pred[i] - 1.1*y_test[i]\n",
    "    mask1 = (line1 > 0) & (line2 < 0)\n",
    "    count1 = np.sum(mask1+count1)\n",
    "\n",
    "count2 = 0\n",
    "for j in range(len(y_pred)):\n",
    "    line3 = y_pred[j] - 0.8*y_test[j]\n",
    "    line4 = y_pred[j] - 1.2*y_test[j]\n",
    "    mask2 = (line3 > 0) & (line4 < 0)\n",
    "    count2 = np.sum(mask2+count2)\n",
    "\n",
    "\n",
    "count3 = 0    \n",
    "for k in range(len(y_pred)):\n",
    "    line5 = y_pred[k] - 0.8*y_test[k]\n",
    "    line6 = y_pred[k] - 1.2*y_test[k]\n",
    "    mask3 = (line5 < 0) or (line6 > 0)\n",
    "    count3 = np.sum(mask3+count3)\n",
    "   \n",
    "\n",
    "print ('Within 5% margin', format((count0/len (y_pred)),'.2%'))\n",
    "print ('Within 10% margin', format((count1/len (y_pred)),'.2%'))\n",
    "print ('Within 20% margin', format((count2/len (y_pred)),'.2%'))\n",
    "print ('Out of 20% margin', format((count3/len (y_pred)),'.2%'))"
   ]
  },
  {
   "cell_type": "code",
   "execution_count": 33,
   "metadata": {
    "ExecuteTime": {
     "end_time": "2024-08-11T04:50:26.633945400Z",
     "start_time": "2024-08-11T04:50:26.578889800Z"
    }
   },
   "outputs": [
    {
     "name": "stdout",
     "output_type": "stream",
     "text": [
      "0.997435244709531\n"
     ]
    }
   ],
   "source": [
    "adj_r2 = 1 - ((1 - r2) * (len(X_test) - 1) / (len(X_test) - len (X_test[0]) - 1))\n",
    "print (adj_r2)"
   ]
  },
  {
   "cell_type": "code",
   "execution_count": 34,
   "metadata": {
    "ExecuteTime": {
     "end_time": "2024-08-11T04:50:26.790702400Z",
     "start_time": "2024-08-11T04:50:26.595427800Z"
    }
   },
   "outputs": [
    {
     "data": {
      "text/plain": "0.5436121686009028"
     },
     "execution_count": 34,
     "metadata": {},
     "output_type": "execute_result"
    }
   ],
   "source": [
    "import math\n",
    "from sklearn.metrics import mean_squared_error\n",
    "\n",
    "math.sqrt(mean_squared_error(y_test, y_pred))"
   ]
  },
  {
   "cell_type": "code",
   "execution_count": 35,
   "metadata": {
    "ExecuteTime": {
     "end_time": "2024-08-11T04:50:26.981403200Z",
     "start_time": "2024-08-11T04:50:26.762184Z"
    }
   },
   "outputs": [
    {
     "data": {
      "text/plain": "0.2583585413819522"
     },
     "execution_count": 35,
     "metadata": {},
     "output_type": "execute_result"
    }
   ],
   "source": [
    "from sklearn.metrics import mean_absolute_error\n",
    "\n",
    "mean_absolute_error(y_test, y_pred)"
   ]
  },
  {
   "cell_type": "code",
   "execution_count": 11,
   "outputs": [
    {
     "name": "stderr",
     "output_type": "stream",
     "text": [
      "D:\\Anaconda3\\lib\\site-packages\\sklearn\\base.py:318: UserWarning: Trying to unpickle estimator StandardScaler from version 1.4.2 when using version 1.2.2. This might lead to breaking code or invalid results. Use at your own risk. For more info please refer to:\n",
      "https://scikit-learn.org/stable/model_persistence.html#security-maintainability-limitations\n",
      "  warnings.warn(\n"
     ]
    }
   ],
   "source": [
    "ann = load_model('Section4_new_ANN_7')\n",
    "sc = pickle.load(open('Section4_new_scaler_ANN_7.pkl', 'rb'))"
   ],
   "metadata": {
    "collapsed": false,
    "ExecuteTime": {
     "end_time": "2024-08-26T00:38:19.553525200Z",
     "start_time": "2024-08-26T00:38:18.752681900Z"
    }
   }
  }
 ],
 "metadata": {
  "colab": {
   "collapsed_sections": [],
   "name": "Artificial Neural Network",
   "provenance": [],
   "toc_visible": true
  },
  "kernelspec": {
   "display_name": "Python 3 (ipykernel)",
   "language": "python",
   "name": "python3"
  },
  "language_info": {
   "codemirror_mode": {
    "name": "ipython",
    "version": 3
   },
   "file_extension": ".py",
   "mimetype": "text/x-python",
   "name": "python",
   "nbconvert_exporter": "python",
   "pygments_lexer": "ipython3",
   "version": "3.9.7"
  }
 },
 "nbformat": 4,
 "nbformat_minor": 4
}
