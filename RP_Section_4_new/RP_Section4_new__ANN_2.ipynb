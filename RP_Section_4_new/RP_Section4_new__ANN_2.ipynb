{
 "cells": [
  {
   "cell_type": "markdown",
   "metadata": {
    "colab_type": "text",
    "id": "3cbb7fRy-eyr"
   },
   "source": [
    "# Artificial Neural Network"
   ]
  },
  {
   "cell_type": "markdown",
   "metadata": {
    "colab_type": "text",
    "id": "8sNDnxE2-pwE"
   },
   "source": [
    "## Part 1 - Importing the libraries"
   ]
  },
  {
   "cell_type": "code",
   "execution_count": 1,
   "metadata": {
    "colab": {},
    "colab_type": "code",
    "id": "lxChR1Rk-umf",
    "ExecuteTime": {
     "end_time": "2024-08-01T03:39:20.811533400Z",
     "start_time": "2024-08-01T03:39:16.097909600Z"
    }
   },
   "outputs": [],
   "source": [
    "import numpy as np\n",
    "import pandas as pd\n",
    "import tensorflow as tf\n",
    "import matplotlib.pyplot as plt\n",
    "from keras.models import load_model\n",
    "from pathlib import Path\n",
    "import pickle"
   ]
  },
  {
   "cell_type": "markdown",
   "metadata": {
    "colab_type": "text",
    "id": "AG3FQEch-yuA"
   },
   "source": [
    "## Part 2 - Data Preprocessing"
   ]
  },
  {
   "cell_type": "markdown",
   "metadata": {
    "colab_type": "text",
    "id": "-4zq8Mza_D9O"
   },
   "source": [
    "### Importing the dataset"
   ]
  },
  {
   "cell_type": "code",
   "execution_count": 2,
   "metadata": {
    "ExecuteTime": {
     "end_time": "2024-08-01T03:39:22.597590900Z",
     "start_time": "2024-08-01T03:39:22.566430800Z"
    }
   },
   "outputs": [
    {
     "name": "stdout",
     "output_type": "stream",
     "text": [
      "input G:\\Chamodi\\LSDYNA3D\\RP_TH_models\\RP_Section_4_new\n",
      "2 [WindowsPath('G:/Chamodi/LSDYNA3D/RP_TH_models/RP_Section_4_new/RP_curves_fr13m'), WindowsPath('G:/Chamodi/LSDYNA3D/RP_TH_models/RP_Section_4_new/RP_curves_fr15m'), WindowsPath('G:/Chamodi/LSDYNA3D/RP_TH_models/RP_Section_4_new/RP_curves_fr17m'), WindowsPath('G:/Chamodi/LSDYNA3D/RP_TH_models/RP_Section_4_new/RP_curves_fr19m')]\n"
     ]
    }
   ],
   "source": [
    "#Access input folder\n",
    "current_dir = Path.cwd()\n",
    "input_dir1 = Path (\"G:/Chamodi/LSDYNA3D/RP_TH_models/RP_Section_4_new\")\n",
    "print (\"input\",input_dir1)\n",
    "\n",
    "#Access folders inside input folder\n",
    "input_dir2=  [folder1 for folder1 in input_dir1.iterdir() if folder1.is_dir()] # folder1 - RP_curves_fr7m\n",
    "print (\"2\",input_dir2)"
   ]
  },
  {
   "cell_type": "code",
   "execution_count": 3,
   "metadata": {
    "ExecuteTime": {
     "end_time": "2024-08-01T03:39:31.738792900Z",
     "start_time": "2024-08-01T03:39:24.410512700Z"
    }
   },
   "outputs": [
    {
     "name": "stdout",
     "output_type": "stream",
     "text": [
      "folder G:\\Chamodi\\LSDYNA3D\\RP_TH_models\\RP_Section_4_new\\RP_curves_fr13m\\13m00.5kg\n",
      "1.xlsx\n",
      "2.xlsx\n",
      "3.xlsx\n",
      "4.xlsx\n",
      "folder G:\\Chamodi\\LSDYNA3D\\RP_TH_models\\RP_Section_4_new\\RP_curves_fr13m\\13m02.5kg\n",
      "1.xlsx\n",
      "2.xlsx\n",
      "3.xlsx\n",
      "4.xlsx\n",
      "folder G:\\Chamodi\\LSDYNA3D\\RP_TH_models\\RP_Section_4_new\\RP_curves_fr13m\\13m04.5kg\n",
      "1.xlsx\n",
      "2.xlsx\n",
      "3.xlsx\n",
      "4.xlsx\n",
      "folder G:\\Chamodi\\LSDYNA3D\\RP_TH_models\\RP_Section_4_new\\RP_curves_fr13m\\13m06.5kg\n",
      "1.xlsx\n",
      "2.xlsx\n",
      "3.xlsx\n",
      "4.xlsx\n",
      "folder G:\\Chamodi\\LSDYNA3D\\RP_TH_models\\RP_Section_4_new\\RP_curves_fr13m\\13m08.5kg\n",
      "1.xlsx\n",
      "2.xlsx\n",
      "3.xlsx\n",
      "4.xlsx\n",
      "folder G:\\Chamodi\\LSDYNA3D\\RP_TH_models\\RP_Section_4_new\\RP_curves_fr13m\\13m10.5kg\n",
      "1.xlsx\n",
      "2.xlsx\n",
      "3.xlsx\n",
      "4.xlsx\n",
      "folder G:\\Chamodi\\LSDYNA3D\\RP_TH_models\\RP_Section_4_new\\RP_curves_fr13m\\13m12.5kg\n",
      "1.xlsx\n",
      "2.xlsx\n",
      "3.xlsx\n",
      "4.xlsx\n",
      "folder G:\\Chamodi\\LSDYNA3D\\RP_TH_models\\RP_Section_4_new\\RP_curves_fr13m\\13m14.5kg\n",
      "1.xlsx\n",
      "2.xlsx\n",
      "3.xlsx\n",
      "4.xlsx\n",
      "folder G:\\Chamodi\\LSDYNA3D\\RP_TH_models\\RP_Section_4_new\\RP_curves_fr13m\\13m16.5kg\n",
      "1.xlsx\n",
      "2.xlsx\n",
      "3.xlsx\n",
      "4.xlsx\n",
      "folder G:\\Chamodi\\LSDYNA3D\\RP_TH_models\\RP_Section_4_new\\RP_curves_fr13m\\13m18.5kg\n",
      "1.xlsx\n",
      "2.xlsx\n",
      "3.xlsx\n",
      "4.xlsx\n",
      "folder G:\\Chamodi\\LSDYNA3D\\RP_TH_models\\RP_Section_4_new\\RP_curves_fr13m\\13m20.5kg\n",
      "1.xlsx\n",
      "2.xlsx\n",
      "3.xlsx\n",
      "4.xlsx\n",
      "folder G:\\Chamodi\\LSDYNA3D\\RP_TH_models\\RP_Section_4_new\\RP_curves_fr13m\\13m22.5kg\n",
      "1.xlsx\n",
      "2.xlsx\n",
      "3.xlsx\n",
      "4.xlsx\n",
      "folder G:\\Chamodi\\LSDYNA3D\\RP_TH_models\\RP_Section_4_new\\RP_curves_fr13m\\13m24.5kg\n",
      "1.xlsx\n",
      "2.xlsx\n",
      "3.xlsx\n",
      "4.xlsx\n",
      "folder G:\\Chamodi\\LSDYNA3D\\RP_TH_models\\RP_Section_4_new\\RP_curves_fr13m\\13m26.5kg\n",
      "1.xlsx\n",
      "2.xlsx\n",
      "3.xlsx\n",
      "4.xlsx\n",
      "folder G:\\Chamodi\\LSDYNA3D\\RP_TH_models\\RP_Section_4_new\\RP_curves_fr13m\\13m28.5kg\n",
      "1.xlsx\n",
      "2.xlsx\n",
      "3.xlsx\n",
      "4.xlsx\n",
      "folder G:\\Chamodi\\LSDYNA3D\\RP_TH_models\\RP_Section_4_new\\RP_curves_fr13m\\13m30.5kg\n",
      "1.xlsx\n",
      "2.xlsx\n",
      "3.xlsx\n",
      "4.xlsx\n",
      "folder G:\\Chamodi\\LSDYNA3D\\RP_TH_models\\RP_Section_4_new\\RP_curves_fr13m\\13m32.5kg\n",
      "1.xlsx\n",
      "2.xlsx\n",
      "3.xlsx\n",
      "4.xlsx\n",
      "folder G:\\Chamodi\\LSDYNA3D\\RP_TH_models\\RP_Section_4_new\\RP_curves_fr13m\\13m34.5kg\n",
      "1.xlsx\n",
      "2.xlsx\n",
      "3.xlsx\n",
      "4.xlsx\n",
      "folder G:\\Chamodi\\LSDYNA3D\\RP_TH_models\\RP_Section_4_new\\RP_curves_fr13m\\13m35.0kg\n",
      "1.xlsx\n",
      "2.xlsx\n",
      "3.xlsx\n",
      "4.xlsx\n",
      "folder G:\\Chamodi\\LSDYNA3D\\RP_TH_models\\RP_Section_4_new\\RP_curves_fr15m\\15m00.5kg\n",
      "1.xlsx\n",
      "2.xlsx\n",
      "3.xlsx\n",
      "4.xlsx\n",
      "folder G:\\Chamodi\\LSDYNA3D\\RP_TH_models\\RP_Section_4_new\\RP_curves_fr15m\\15m02.5kg\n",
      "1.xlsx\n",
      "2.xlsx\n",
      "3.xlsx\n",
      "4.xlsx\n",
      "folder G:\\Chamodi\\LSDYNA3D\\RP_TH_models\\RP_Section_4_new\\RP_curves_fr15m\\15m04.5kg\n",
      "1.xlsx\n",
      "2.xlsx\n",
      "3.xlsx\n",
      "4.xlsx\n",
      "folder G:\\Chamodi\\LSDYNA3D\\RP_TH_models\\RP_Section_4_new\\RP_curves_fr15m\\15m06.5kg\n",
      "1.xlsx\n",
      "2.xlsx\n",
      "3.xlsx\n",
      "4.xlsx\n",
      "folder G:\\Chamodi\\LSDYNA3D\\RP_TH_models\\RP_Section_4_new\\RP_curves_fr15m\\15m08.5kg\n",
      "1.xlsx\n",
      "2.xlsx\n",
      "3.xlsx\n",
      "4.xlsx\n",
      "folder G:\\Chamodi\\LSDYNA3D\\RP_TH_models\\RP_Section_4_new\\RP_curves_fr15m\\15m10.5kg\n",
      "1.xlsx\n",
      "2.xlsx\n",
      "3.xlsx\n",
      "4.xlsx\n",
      "folder G:\\Chamodi\\LSDYNA3D\\RP_TH_models\\RP_Section_4_new\\RP_curves_fr15m\\15m12.5kg\n",
      "1.xlsx\n",
      "2.xlsx\n",
      "3.xlsx\n",
      "4.xlsx\n",
      "folder G:\\Chamodi\\LSDYNA3D\\RP_TH_models\\RP_Section_4_new\\RP_curves_fr15m\\15m14.5kg\n",
      "1.xlsx\n",
      "2.xlsx\n",
      "3.xlsx\n",
      "4.xlsx\n",
      "folder G:\\Chamodi\\LSDYNA3D\\RP_TH_models\\RP_Section_4_new\\RP_curves_fr15m\\15m16.5kg\n",
      "1.xlsx\n",
      "2.xlsx\n",
      "3.xlsx\n",
      "4.xlsx\n",
      "folder G:\\Chamodi\\LSDYNA3D\\RP_TH_models\\RP_Section_4_new\\RP_curves_fr15m\\15m18.5kg\n",
      "1.xlsx\n",
      "2.xlsx\n",
      "3.xlsx\n",
      "4.xlsx\n",
      "folder G:\\Chamodi\\LSDYNA3D\\RP_TH_models\\RP_Section_4_new\\RP_curves_fr15m\\15m20.5kg\n",
      "1.xlsx\n",
      "2.xlsx\n",
      "3.xlsx\n",
      "4.xlsx\n",
      "folder G:\\Chamodi\\LSDYNA3D\\RP_TH_models\\RP_Section_4_new\\RP_curves_fr15m\\15m22.5kg\n",
      "1.xlsx\n",
      "2.xlsx\n",
      "3.xlsx\n",
      "4.xlsx\n",
      "folder G:\\Chamodi\\LSDYNA3D\\RP_TH_models\\RP_Section_4_new\\RP_curves_fr15m\\15m24.5kg\n",
      "1.xlsx\n",
      "2.xlsx\n",
      "3.xlsx\n",
      "4.xlsx\n",
      "folder G:\\Chamodi\\LSDYNA3D\\RP_TH_models\\RP_Section_4_new\\RP_curves_fr15m\\15m26.5kg\n",
      "1.xlsx\n",
      "2.xlsx\n",
      "3.xlsx\n",
      "4.xlsx\n",
      "folder G:\\Chamodi\\LSDYNA3D\\RP_TH_models\\RP_Section_4_new\\RP_curves_fr15m\\15m28.5kg\n",
      "1.xlsx\n",
      "2.xlsx\n",
      "3.xlsx\n",
      "4.xlsx\n",
      "folder G:\\Chamodi\\LSDYNA3D\\RP_TH_models\\RP_Section_4_new\\RP_curves_fr15m\\15m30.5kg\n",
      "1.xlsx\n",
      "2.xlsx\n",
      "3.xlsx\n",
      "4.xlsx\n",
      "folder G:\\Chamodi\\LSDYNA3D\\RP_TH_models\\RP_Section_4_new\\RP_curves_fr15m\\15m32.5kg\n",
      "1.xlsx\n",
      "2.xlsx\n",
      "3.xlsx\n",
      "4.xlsx\n",
      "folder G:\\Chamodi\\LSDYNA3D\\RP_TH_models\\RP_Section_4_new\\RP_curves_fr15m\\15m34.5kg\n",
      "1.xlsx\n",
      "2.xlsx\n",
      "3.xlsx\n",
      "4.xlsx\n",
      "folder G:\\Chamodi\\LSDYNA3D\\RP_TH_models\\RP_Section_4_new\\RP_curves_fr15m\\15m35.0kg\n",
      "1.xlsx\n",
      "2.xlsx\n",
      "3.xlsx\n",
      "4.xlsx\n",
      "folder G:\\Chamodi\\LSDYNA3D\\RP_TH_models\\RP_Section_4_new\\RP_curves_fr17m\\17m00.5kg\n",
      "1.xlsx\n",
      "2.xlsx\n",
      "3.xlsx\n",
      "4.xlsx\n",
      "folder G:\\Chamodi\\LSDYNA3D\\RP_TH_models\\RP_Section_4_new\\RP_curves_fr17m\\17m02.5kg\n",
      "1.xlsx\n",
      "2.xlsx\n",
      "3.xlsx\n",
      "4.xlsx\n",
      "folder G:\\Chamodi\\LSDYNA3D\\RP_TH_models\\RP_Section_4_new\\RP_curves_fr17m\\17m04.5kg\n",
      "1.xlsx\n",
      "2.xlsx\n",
      "3.xlsx\n",
      "4.xlsx\n",
      "folder G:\\Chamodi\\LSDYNA3D\\RP_TH_models\\RP_Section_4_new\\RP_curves_fr17m\\17m06.5kg\n",
      "1.xlsx\n",
      "2.xlsx\n",
      "3.xlsx\n",
      "4.xlsx\n",
      "folder G:\\Chamodi\\LSDYNA3D\\RP_TH_models\\RP_Section_4_new\\RP_curves_fr17m\\17m08.5kg\n",
      "1.xlsx\n",
      "2.xlsx\n",
      "3.xlsx\n",
      "4.xlsx\n",
      "folder G:\\Chamodi\\LSDYNA3D\\RP_TH_models\\RP_Section_4_new\\RP_curves_fr17m\\17m10.5kg\n",
      "1.xlsx\n",
      "2.xlsx\n",
      "3.xlsx\n",
      "4.xlsx\n",
      "folder G:\\Chamodi\\LSDYNA3D\\RP_TH_models\\RP_Section_4_new\\RP_curves_fr17m\\17m12.5kg\n",
      "1.xlsx\n",
      "2.xlsx\n",
      "3.xlsx\n",
      "4.xlsx\n",
      "folder G:\\Chamodi\\LSDYNA3D\\RP_TH_models\\RP_Section_4_new\\RP_curves_fr17m\\17m14.5kg\n",
      "1.xlsx\n",
      "2.xlsx\n",
      "3.xlsx\n",
      "4.xlsx\n",
      "folder G:\\Chamodi\\LSDYNA3D\\RP_TH_models\\RP_Section_4_new\\RP_curves_fr17m\\17m16.5kg\n",
      "1.xlsx\n",
      "2.xlsx\n",
      "3.xlsx\n",
      "4.xlsx\n",
      "folder G:\\Chamodi\\LSDYNA3D\\RP_TH_models\\RP_Section_4_new\\RP_curves_fr17m\\17m18.5kg\n",
      "1.xlsx\n",
      "2.xlsx\n",
      "3.xlsx\n",
      "4.xlsx\n",
      "folder G:\\Chamodi\\LSDYNA3D\\RP_TH_models\\RP_Section_4_new\\RP_curves_fr17m\\17m20.5kg\n",
      "1.xlsx\n",
      "2.xlsx\n",
      "3.xlsx\n",
      "4.xlsx\n",
      "folder G:\\Chamodi\\LSDYNA3D\\RP_TH_models\\RP_Section_4_new\\RP_curves_fr17m\\17m22.5kg\n",
      "1.xlsx\n",
      "2.xlsx\n",
      "3.xlsx\n",
      "4.xlsx\n",
      "folder G:\\Chamodi\\LSDYNA3D\\RP_TH_models\\RP_Section_4_new\\RP_curves_fr17m\\17m24.5kg\n",
      "1.xlsx\n",
      "2.xlsx\n",
      "3.xlsx\n",
      "4.xlsx\n",
      "folder G:\\Chamodi\\LSDYNA3D\\RP_TH_models\\RP_Section_4_new\\RP_curves_fr17m\\17m26.5kg\n",
      "1.xlsx\n",
      "2.xlsx\n",
      "3.xlsx\n",
      "4.xlsx\n",
      "folder G:\\Chamodi\\LSDYNA3D\\RP_TH_models\\RP_Section_4_new\\RP_curves_fr17m\\17m28.5kg\n",
      "1.xlsx\n",
      "2.xlsx\n",
      "3.xlsx\n",
      "4.xlsx\n",
      "folder G:\\Chamodi\\LSDYNA3D\\RP_TH_models\\RP_Section_4_new\\RP_curves_fr17m\\17m30.5kg\n",
      "1.xlsx\n",
      "2.xlsx\n",
      "3.xlsx\n",
      "4.xlsx\n",
      "folder G:\\Chamodi\\LSDYNA3D\\RP_TH_models\\RP_Section_4_new\\RP_curves_fr17m\\17m32.5kg\n",
      "1.xlsx\n",
      "2.xlsx\n",
      "3.xlsx\n",
      "4.xlsx\n",
      "folder G:\\Chamodi\\LSDYNA3D\\RP_TH_models\\RP_Section_4_new\\RP_curves_fr17m\\17m34.5kg\n",
      "1.xlsx\n",
      "2.xlsx\n",
      "3.xlsx\n",
      "4.xlsx\n",
      "folder G:\\Chamodi\\LSDYNA3D\\RP_TH_models\\RP_Section_4_new\\RP_curves_fr17m\\17m35.0kg\n",
      "1.xlsx\n",
      "2.xlsx\n",
      "3.xlsx\n",
      "4.xlsx\n",
      "folder G:\\Chamodi\\LSDYNA3D\\RP_TH_models\\RP_Section_4_new\\RP_curves_fr19m\\19m00.5kg\n",
      "1.xlsx\n",
      "2.xlsx\n",
      "3.xlsx\n",
      "4.xlsx\n",
      "folder G:\\Chamodi\\LSDYNA3D\\RP_TH_models\\RP_Section_4_new\\RP_curves_fr19m\\19m02.5kg\n",
      "1.xlsx\n",
      "2.xlsx\n",
      "3.xlsx\n",
      "4.xlsx\n",
      "folder G:\\Chamodi\\LSDYNA3D\\RP_TH_models\\RP_Section_4_new\\RP_curves_fr19m\\19m04.5kg\n",
      "1.xlsx\n",
      "2.xlsx\n",
      "3.xlsx\n",
      "4.xlsx\n",
      "folder G:\\Chamodi\\LSDYNA3D\\RP_TH_models\\RP_Section_4_new\\RP_curves_fr19m\\19m06.5kg\n",
      "1.xlsx\n",
      "2.xlsx\n",
      "3.xlsx\n",
      "4.xlsx\n",
      "folder G:\\Chamodi\\LSDYNA3D\\RP_TH_models\\RP_Section_4_new\\RP_curves_fr19m\\19m08.5kg\n",
      "1.xlsx\n",
      "2.xlsx\n",
      "3.xlsx\n",
      "4.xlsx\n",
      "folder G:\\Chamodi\\LSDYNA3D\\RP_TH_models\\RP_Section_4_new\\RP_curves_fr19m\\19m10.5kg\n",
      "1.xlsx\n",
      "2.xlsx\n",
      "3.xlsx\n",
      "4.xlsx\n",
      "folder G:\\Chamodi\\LSDYNA3D\\RP_TH_models\\RP_Section_4_new\\RP_curves_fr19m\\19m12.5kg\n",
      "1.xlsx\n",
      "2.xlsx\n",
      "3.xlsx\n",
      "4.xlsx\n",
      "folder G:\\Chamodi\\LSDYNA3D\\RP_TH_models\\RP_Section_4_new\\RP_curves_fr19m\\19m14.5kg\n",
      "1.xlsx\n",
      "2.xlsx\n",
      "3.xlsx\n",
      "4.xlsx\n",
      "folder G:\\Chamodi\\LSDYNA3D\\RP_TH_models\\RP_Section_4_new\\RP_curves_fr19m\\19m16.5kg\n",
      "1.xlsx\n",
      "2.xlsx\n",
      "3.xlsx\n",
      "4.xlsx\n",
      "folder G:\\Chamodi\\LSDYNA3D\\RP_TH_models\\RP_Section_4_new\\RP_curves_fr19m\\19m18.5kg\n",
      "1.xlsx\n",
      "2.xlsx\n",
      "3.xlsx\n",
      "4.xlsx\n",
      "folder G:\\Chamodi\\LSDYNA3D\\RP_TH_models\\RP_Section_4_new\\RP_curves_fr19m\\19m20.5kg\n",
      "1.xlsx\n",
      "2.xlsx\n",
      "3.xlsx\n",
      "4.xlsx\n",
      "folder G:\\Chamodi\\LSDYNA3D\\RP_TH_models\\RP_Section_4_new\\RP_curves_fr19m\\19m22.5kg\n",
      "1.xlsx\n",
      "2.xlsx\n",
      "3.xlsx\n",
      "4.xlsx\n",
      "folder G:\\Chamodi\\LSDYNA3D\\RP_TH_models\\RP_Section_4_new\\RP_curves_fr19m\\19m24.5kg\n",
      "1.xlsx\n",
      "2.xlsx\n",
      "3.xlsx\n",
      "4.xlsx\n",
      "folder G:\\Chamodi\\LSDYNA3D\\RP_TH_models\\RP_Section_4_new\\RP_curves_fr19m\\19m26.5kg\n",
      "1.xlsx\n",
      "2.xlsx\n",
      "3.xlsx\n",
      "4.xlsx\n",
      "folder G:\\Chamodi\\LSDYNA3D\\RP_TH_models\\RP_Section_4_new\\RP_curves_fr19m\\19m28.5kg\n",
      "1.xlsx\n",
      "2.xlsx\n",
      "3.xlsx\n",
      "4.xlsx\n",
      "folder G:\\Chamodi\\LSDYNA3D\\RP_TH_models\\RP_Section_4_new\\RP_curves_fr19m\\19m30.5kg\n",
      "1.xlsx\n",
      "2.xlsx\n",
      "3.xlsx\n",
      "4.xlsx\n",
      "folder G:\\Chamodi\\LSDYNA3D\\RP_TH_models\\RP_Section_4_new\\RP_curves_fr19m\\19m32.5kg\n",
      "1.xlsx\n",
      "2.xlsx\n",
      "3.xlsx\n",
      "4.xlsx\n",
      "folder G:\\Chamodi\\LSDYNA3D\\RP_TH_models\\RP_Section_4_new\\RP_curves_fr19m\\19m34.5kg\n",
      "1.xlsx\n",
      "2.xlsx\n",
      "3.xlsx\n",
      "4.xlsx\n",
      "folder G:\\Chamodi\\LSDYNA3D\\RP_TH_models\\RP_Section_4_new\\RP_curves_fr19m\\19m35.0kg\n",
      "1.xlsx\n",
      "2.xlsx\n",
      "3.xlsx\n",
      "4.xlsx\n"
     ]
    }
   ],
   "source": [
    "#dataset = pd.DataFrame(columns = ['Charge_mass', 'Standoff_distance', 'Time', 'Pressure', 'Phase'])\n",
    "df_list = []\n",
    "\n",
    "for folder1 in input_dir2:\n",
    "    \n",
    "    input_dir3 =  [folder2 for folder2 in folder1.iterdir() if folder2.is_dir()] # folder2 - 07m00.5kg\n",
    "    \n",
    "    for folder2 in input_dir3:\n",
    "        \n",
    "        print ('folder', folder2)\n",
    "        files1 = [file1 for file1 in folder2.rglob(\"*.xlsx\")]\n",
    "    \n",
    "        for file1 in files1:\n",
    "            df_list.append(pd.read_excel(file1))\n",
    "            print (file1.stem)\n",
    "    \n",
    "dataset = pd.concat(df_list, ignore_index = True)"
   ]
  },
  {
   "cell_type": "code",
   "execution_count": 4,
   "metadata": {
    "colab": {},
    "colab_type": "code",
    "id": "B9CV13Co_HHM",
    "ExecuteTime": {
     "end_time": "2024-08-01T03:39:36.901618500Z",
     "start_time": "2024-08-01T03:39:36.822572600Z"
    }
   },
   "outputs": [
    {
     "name": "stdout",
     "output_type": "stream",
     "text": [
      "<class 'pandas.core.frame.DataFrame'>\n",
      "RangeIndex: 45639 entries, 0 to 45638\n",
      "Data columns (total 6 columns):\n",
      " #   Column             Non-Null Count  Dtype  \n",
      "---  ------             --------------  -----  \n",
      " 0   Mass               45639 non-null  float64\n",
      " 1   Standoff distance  45639 non-null  int64  \n",
      " 2   Angle              45639 non-null  int64  \n",
      " 3   Time               45639 non-null  float64\n",
      " 4   Phase              45639 non-null  object \n",
      " 5   Pressure           45639 non-null  float64\n",
      "dtypes: float64(3), int64(2), object(1)\n",
      "memory usage: 2.1+ MB\n"
     ]
    }
   ],
   "source": [
    "dataset.info()"
   ]
  },
  {
   "cell_type": "code",
   "execution_count": 5,
   "outputs": [
    {
     "name": "stdout",
     "output_type": "stream",
     "text": [
      "<class 'pandas.core.frame.DataFrame'>\n",
      "RangeIndex: 45639 entries, 0 to 45638\n",
      "Data columns (total 8 columns):\n",
      " #   Column                     Non-Null Count  Dtype  \n",
      "---  ------                     --------------  -----  \n",
      " 0   Mass                       45639 non-null  float64\n",
      " 1   Standoff distance          45639 non-null  int64  \n",
      " 2   Angle                      45639 non-null  int64  \n",
      " 3   Time                       45639 non-null  float64\n",
      " 4   Pressure                   45639 non-null  float64\n",
      " 5   Phase_negative_decreasing  45639 non-null  uint8  \n",
      " 6   Phase_negative_increasing  45639 non-null  uint8  \n",
      " 7   Phase_positive             45639 non-null  uint8  \n",
      "dtypes: float64(3), int64(2), uint8(3)\n",
      "memory usage: 1.9 MB\n"
     ]
    }
   ],
   "source": [
    "dataset = pd.get_dummies(dataset, columns =['Phase'], dtype = np.uint8)\n",
    "dataset.info()"
   ],
   "metadata": {
    "collapsed": false,
    "ExecuteTime": {
     "end_time": "2024-08-01T03:39:38.426037600Z",
     "start_time": "2024-08-01T03:39:38.363706400Z"
    }
   }
  },
  {
   "cell_type": "code",
   "execution_count": 6,
   "outputs": [
    {
     "data": {
      "text/plain": "    Mass  Standoff distance  Angle       Time   Pressure  \\\n0    0.5                 13      0  32.475292  10.613961   \n1    0.5                 13      0  32.501128  10.575125   \n2    0.5                 13      0  32.526964  10.331852   \n3    0.5                 13      0  32.578656   9.636125   \n4    0.5                 13      0  32.604503   9.363102   \n5    0.5                 13      0  32.630350   9.191898   \n6    0.5                 13      0  32.656197   9.095148   \n7    0.5                 13      0  32.682045   9.017906   \n8    0.5                 13      0  32.707893   8.859992   \n9    0.5                 13      0  32.733743   8.544781   \n10   0.5                 13      0  32.759600   8.039852   \n11   0.5                 13      0  32.785467   7.370180   \n12   0.5                 13      0  32.863089   5.057969   \n13   0.5                 13      0  32.888959   4.407305   \n14   0.5                 13      0  32.914831   3.859586   \n15   0.5                 13      0  32.940722   3.422930   \n16   0.5                 13      0  32.966613   3.086836   \n17   0.5                 13      0  32.992504   2.850336   \n18   0.5                 13      0  33.018394   2.711273   \n19   0.5                 13      0  33.044293   2.656227   \n20   0.5                 13      0  33.070200   2.658398   \n21   0.5                 13      0  33.096110   2.700242   \n22   0.5                 13      0  33.122021   2.731867   \n23   0.5                 13      0  33.147926   2.719414   \n24   0.5                 13      0  33.173843   2.640508   \n25   0.5                 13      0  33.199768   2.483352   \n26   0.5                 13      0  33.277544   1.873461   \n27   0.5                 13      0  33.303478   1.716164   \n28   0.5                 13      0  33.329411   1.597539   \n29   0.5                 13      0  33.355351   1.507031   \n\n    Phase_negative_decreasing  Phase_negative_increasing  Phase_positive  \n0                           0                          0               1  \n1                           0                          0               1  \n2                           0                          0               1  \n3                           0                          0               1  \n4                           0                          0               1  \n5                           0                          0               1  \n6                           0                          0               1  \n7                           0                          0               1  \n8                           0                          0               1  \n9                           0                          0               1  \n10                          0                          0               1  \n11                          0                          0               1  \n12                          0                          0               1  \n13                          0                          0               1  \n14                          0                          0               1  \n15                          0                          0               1  \n16                          0                          0               1  \n17                          0                          0               1  \n18                          0                          0               1  \n19                          0                          0               1  \n20                          0                          0               1  \n21                          0                          0               1  \n22                          0                          0               1  \n23                          0                          0               1  \n24                          0                          0               1  \n25                          0                          0               1  \n26                          0                          0               1  \n27                          0                          0               1  \n28                          0                          0               1  \n29                          0                          0               1  ",
      "text/html": "<div>\n<style scoped>\n    .dataframe tbody tr th:only-of-type {\n        vertical-align: middle;\n    }\n\n    .dataframe tbody tr th {\n        vertical-align: top;\n    }\n\n    .dataframe thead th {\n        text-align: right;\n    }\n</style>\n<table border=\"1\" class=\"dataframe\">\n  <thead>\n    <tr style=\"text-align: right;\">\n      <th></th>\n      <th>Mass</th>\n      <th>Standoff distance</th>\n      <th>Angle</th>\n      <th>Time</th>\n      <th>Pressure</th>\n      <th>Phase_negative_decreasing</th>\n      <th>Phase_negative_increasing</th>\n      <th>Phase_positive</th>\n    </tr>\n  </thead>\n  <tbody>\n    <tr>\n      <th>0</th>\n      <td>0.5</td>\n      <td>13</td>\n      <td>0</td>\n      <td>32.475292</td>\n      <td>10.613961</td>\n      <td>0</td>\n      <td>0</td>\n      <td>1</td>\n    </tr>\n    <tr>\n      <th>1</th>\n      <td>0.5</td>\n      <td>13</td>\n      <td>0</td>\n      <td>32.501128</td>\n      <td>10.575125</td>\n      <td>0</td>\n      <td>0</td>\n      <td>1</td>\n    </tr>\n    <tr>\n      <th>2</th>\n      <td>0.5</td>\n      <td>13</td>\n      <td>0</td>\n      <td>32.526964</td>\n      <td>10.331852</td>\n      <td>0</td>\n      <td>0</td>\n      <td>1</td>\n    </tr>\n    <tr>\n      <th>3</th>\n      <td>0.5</td>\n      <td>13</td>\n      <td>0</td>\n      <td>32.578656</td>\n      <td>9.636125</td>\n      <td>0</td>\n      <td>0</td>\n      <td>1</td>\n    </tr>\n    <tr>\n      <th>4</th>\n      <td>0.5</td>\n      <td>13</td>\n      <td>0</td>\n      <td>32.604503</td>\n      <td>9.363102</td>\n      <td>0</td>\n      <td>0</td>\n      <td>1</td>\n    </tr>\n    <tr>\n      <th>5</th>\n      <td>0.5</td>\n      <td>13</td>\n      <td>0</td>\n      <td>32.630350</td>\n      <td>9.191898</td>\n      <td>0</td>\n      <td>0</td>\n      <td>1</td>\n    </tr>\n    <tr>\n      <th>6</th>\n      <td>0.5</td>\n      <td>13</td>\n      <td>0</td>\n      <td>32.656197</td>\n      <td>9.095148</td>\n      <td>0</td>\n      <td>0</td>\n      <td>1</td>\n    </tr>\n    <tr>\n      <th>7</th>\n      <td>0.5</td>\n      <td>13</td>\n      <td>0</td>\n      <td>32.682045</td>\n      <td>9.017906</td>\n      <td>0</td>\n      <td>0</td>\n      <td>1</td>\n    </tr>\n    <tr>\n      <th>8</th>\n      <td>0.5</td>\n      <td>13</td>\n      <td>0</td>\n      <td>32.707893</td>\n      <td>8.859992</td>\n      <td>0</td>\n      <td>0</td>\n      <td>1</td>\n    </tr>\n    <tr>\n      <th>9</th>\n      <td>0.5</td>\n      <td>13</td>\n      <td>0</td>\n      <td>32.733743</td>\n      <td>8.544781</td>\n      <td>0</td>\n      <td>0</td>\n      <td>1</td>\n    </tr>\n    <tr>\n      <th>10</th>\n      <td>0.5</td>\n      <td>13</td>\n      <td>0</td>\n      <td>32.759600</td>\n      <td>8.039852</td>\n      <td>0</td>\n      <td>0</td>\n      <td>1</td>\n    </tr>\n    <tr>\n      <th>11</th>\n      <td>0.5</td>\n      <td>13</td>\n      <td>0</td>\n      <td>32.785467</td>\n      <td>7.370180</td>\n      <td>0</td>\n      <td>0</td>\n      <td>1</td>\n    </tr>\n    <tr>\n      <th>12</th>\n      <td>0.5</td>\n      <td>13</td>\n      <td>0</td>\n      <td>32.863089</td>\n      <td>5.057969</td>\n      <td>0</td>\n      <td>0</td>\n      <td>1</td>\n    </tr>\n    <tr>\n      <th>13</th>\n      <td>0.5</td>\n      <td>13</td>\n      <td>0</td>\n      <td>32.888959</td>\n      <td>4.407305</td>\n      <td>0</td>\n      <td>0</td>\n      <td>1</td>\n    </tr>\n    <tr>\n      <th>14</th>\n      <td>0.5</td>\n      <td>13</td>\n      <td>0</td>\n      <td>32.914831</td>\n      <td>3.859586</td>\n      <td>0</td>\n      <td>0</td>\n      <td>1</td>\n    </tr>\n    <tr>\n      <th>15</th>\n      <td>0.5</td>\n      <td>13</td>\n      <td>0</td>\n      <td>32.940722</td>\n      <td>3.422930</td>\n      <td>0</td>\n      <td>0</td>\n      <td>1</td>\n    </tr>\n    <tr>\n      <th>16</th>\n      <td>0.5</td>\n      <td>13</td>\n      <td>0</td>\n      <td>32.966613</td>\n      <td>3.086836</td>\n      <td>0</td>\n      <td>0</td>\n      <td>1</td>\n    </tr>\n    <tr>\n      <th>17</th>\n      <td>0.5</td>\n      <td>13</td>\n      <td>0</td>\n      <td>32.992504</td>\n      <td>2.850336</td>\n      <td>0</td>\n      <td>0</td>\n      <td>1</td>\n    </tr>\n    <tr>\n      <th>18</th>\n      <td>0.5</td>\n      <td>13</td>\n      <td>0</td>\n      <td>33.018394</td>\n      <td>2.711273</td>\n      <td>0</td>\n      <td>0</td>\n      <td>1</td>\n    </tr>\n    <tr>\n      <th>19</th>\n      <td>0.5</td>\n      <td>13</td>\n      <td>0</td>\n      <td>33.044293</td>\n      <td>2.656227</td>\n      <td>0</td>\n      <td>0</td>\n      <td>1</td>\n    </tr>\n    <tr>\n      <th>20</th>\n      <td>0.5</td>\n      <td>13</td>\n      <td>0</td>\n      <td>33.070200</td>\n      <td>2.658398</td>\n      <td>0</td>\n      <td>0</td>\n      <td>1</td>\n    </tr>\n    <tr>\n      <th>21</th>\n      <td>0.5</td>\n      <td>13</td>\n      <td>0</td>\n      <td>33.096110</td>\n      <td>2.700242</td>\n      <td>0</td>\n      <td>0</td>\n      <td>1</td>\n    </tr>\n    <tr>\n      <th>22</th>\n      <td>0.5</td>\n      <td>13</td>\n      <td>0</td>\n      <td>33.122021</td>\n      <td>2.731867</td>\n      <td>0</td>\n      <td>0</td>\n      <td>1</td>\n    </tr>\n    <tr>\n      <th>23</th>\n      <td>0.5</td>\n      <td>13</td>\n      <td>0</td>\n      <td>33.147926</td>\n      <td>2.719414</td>\n      <td>0</td>\n      <td>0</td>\n      <td>1</td>\n    </tr>\n    <tr>\n      <th>24</th>\n      <td>0.5</td>\n      <td>13</td>\n      <td>0</td>\n      <td>33.173843</td>\n      <td>2.640508</td>\n      <td>0</td>\n      <td>0</td>\n      <td>1</td>\n    </tr>\n    <tr>\n      <th>25</th>\n      <td>0.5</td>\n      <td>13</td>\n      <td>0</td>\n      <td>33.199768</td>\n      <td>2.483352</td>\n      <td>0</td>\n      <td>0</td>\n      <td>1</td>\n    </tr>\n    <tr>\n      <th>26</th>\n      <td>0.5</td>\n      <td>13</td>\n      <td>0</td>\n      <td>33.277544</td>\n      <td>1.873461</td>\n      <td>0</td>\n      <td>0</td>\n      <td>1</td>\n    </tr>\n    <tr>\n      <th>27</th>\n      <td>0.5</td>\n      <td>13</td>\n      <td>0</td>\n      <td>33.303478</td>\n      <td>1.716164</td>\n      <td>0</td>\n      <td>0</td>\n      <td>1</td>\n    </tr>\n    <tr>\n      <th>28</th>\n      <td>0.5</td>\n      <td>13</td>\n      <td>0</td>\n      <td>33.329411</td>\n      <td>1.597539</td>\n      <td>0</td>\n      <td>0</td>\n      <td>1</td>\n    </tr>\n    <tr>\n      <th>29</th>\n      <td>0.5</td>\n      <td>13</td>\n      <td>0</td>\n      <td>33.355351</td>\n      <td>1.507031</td>\n      <td>0</td>\n      <td>0</td>\n      <td>1</td>\n    </tr>\n  </tbody>\n</table>\n</div>"
     },
     "execution_count": 6,
     "metadata": {},
     "output_type": "execute_result"
    }
   ],
   "source": [
    "dataset.head(30)"
   ],
   "metadata": {
    "collapsed": false,
    "ExecuteTime": {
     "end_time": "2024-08-01T03:39:39.704326700Z",
     "start_time": "2024-08-01T03:39:39.660657700Z"
    }
   }
  },
  {
   "cell_type": "code",
   "execution_count": 7,
   "metadata": {
    "ExecuteTime": {
     "end_time": "2024-08-01T03:39:40.629383100Z",
     "start_time": "2024-08-01T03:39:40.609231Z"
    }
   },
   "outputs": [
    {
     "name": "stdout",
     "output_type": "stream",
     "text": [
      "(45639, 7) (45639,)\n"
     ]
    }
   ],
   "source": [
    "y = dataset['Pressure']\n",
    "X = dataset.drop(['Pressure'], axis=1)\n",
    "print(X.shape, y.shape)"
   ]
  },
  {
   "cell_type": "code",
   "execution_count": 8,
   "metadata": {
    "ExecuteTime": {
     "end_time": "2024-08-01T03:39:41.463095900Z",
     "start_time": "2024-08-01T03:39:41.415791500Z"
    }
   },
   "outputs": [],
   "source": [
    "# convert to numpy array\n",
    "X = np.array(X)\n",
    "y = np.array(y)"
   ]
  },
  {
   "cell_type": "markdown",
   "metadata": {
    "colab_type": "text",
    "id": "VC6omXel_Up0"
   },
   "source": [
    "### Splitting the dataset into the Training set and Test set"
   ]
  },
  {
   "cell_type": "code",
   "execution_count": 9,
   "metadata": {
    "colab": {},
    "colab_type": "code",
    "id": "L5edeb2r_agx",
    "ExecuteTime": {
     "end_time": "2024-08-01T03:39:44.280673600Z",
     "start_time": "2024-08-01T03:39:43.441709900Z"
    }
   },
   "outputs": [],
   "source": [
    "from sklearn.model_selection import train_test_split\n",
    "X_train, X_test, y_train, y_test = train_test_split(X,\n",
    "                                                    y,\n",
    "                                                    test_size = 0.4,\n",
    "                                                    random_state = 0)"
   ]
  },
  {
   "cell_type": "code",
   "execution_count": 10,
   "metadata": {
    "colab": {},
    "colab_type": "code",
    "id": "L5edeb2r_agx",
    "ExecuteTime": {
     "end_time": "2024-08-01T03:39:44.879359500Z",
     "start_time": "2024-08-01T03:39:44.846657900Z"
    }
   },
   "outputs": [],
   "source": [
    "X_val, X_test, y_val, y_test = train_test_split(X_test,\n",
    "                                                y_test,\n",
    "                                                test_size = 0.5,\n",
    "                                                random_state = 0)"
   ]
  },
  {
   "cell_type": "markdown",
   "source": [
    "## Feature scaling"
   ],
   "metadata": {
    "collapsed": false
   }
  },
  {
   "cell_type": "code",
   "execution_count": 11,
   "outputs": [
    {
     "name": "stdout",
     "output_type": "stream",
     "text": [
      "[[ 1.3876351   0.4768852  -1.52779325 ...  0.          0.\n",
      "   1.        ]\n",
      " [ 0.94852049  0.4768852  -0.59410962 ...  0.          1.\n",
      "   0.        ]\n",
      " [ 1.3876351  -0.43419744 -0.59410962 ...  1.          0.\n",
      "   0.        ]\n",
      " ...\n",
      " [ 0.75335844  1.38796784  1.27325765 ...  0.          0.\n",
      "   1.        ]\n",
      " [ 1.14368254  1.38796784 -1.52779325 ...  0.          0.\n",
      "   1.        ]\n",
      " [-1.00310001 -1.34528007  1.27325765 ...  0.          1.\n",
      "   0.        ]]\n"
     ]
    }
   ],
   "source": [
    "from sklearn.preprocessing import StandardScaler\n",
    "sc = StandardScaler()\n",
    "X_train[:,0:3] = sc.fit_transform(X_train[:, 0:3])\n",
    "print (X_train)"
   ],
   "metadata": {
    "collapsed": false,
    "ExecuteTime": {
     "end_time": "2024-08-01T03:39:46.224336200Z",
     "start_time": "2024-08-01T03:39:46.208310100Z"
    }
   }
  },
  {
   "cell_type": "code",
   "execution_count": 12,
   "outputs": [
    {
     "name": "stdout",
     "output_type": "stream",
     "text": [
      "[[ 0.55819639 -0.43419744 -0.59410962 ...  0.          0.\n",
      "   1.        ]\n",
      " [-0.41761386 -1.34528007  0.33957402 ...  0.          0.\n",
      "   1.        ]\n",
      " [ 0.55819639  1.38796784 -1.52779325 ...  0.          0.\n",
      "   1.        ]\n",
      " ...\n",
      " [ 0.75335844 -0.43419744  1.27325765 ...  0.          0.\n",
      "   1.        ]\n",
      " [ 0.75335844  1.38796784  0.33957402 ...  0.          0.\n",
      "   1.        ]\n",
      " [ 0.55819639  1.38796784  1.27325765 ...  0.          0.\n",
      "   1.        ]]\n"
     ]
    }
   ],
   "source": [
    "X_test[:,0:3] = sc.transform(X_test[:,0:3])\n",
    "print (X_test)"
   ],
   "metadata": {
    "collapsed": false,
    "ExecuteTime": {
     "end_time": "2024-08-01T03:39:49.357547500Z",
     "start_time": "2024-08-01T03:39:49.316677500Z"
    }
   }
  },
  {
   "cell_type": "code",
   "execution_count": 13,
   "outputs": [
    {
     "name": "stdout",
     "output_type": "stream",
     "text": [
      "[[-0.41761386 -0.43419744 -0.59410962 ...  0.          0.\n",
      "   1.        ]\n",
      " [ 0.75335844  1.38796784  1.27325765 ...  0.          0.\n",
      "   1.        ]\n",
      " [-0.02728976  1.38796784 -0.59410962 ...  0.          1.\n",
      "   0.        ]\n",
      " ...\n",
      " [ 0.94852049  1.38796784  1.27325765 ...  0.          0.\n",
      "   1.        ]\n",
      " [-0.41761386  0.4768852  -0.59410962 ...  0.          0.\n",
      "   1.        ]\n",
      " [-0.61277591  1.38796784  0.33957402 ...  0.          0.\n",
      "   1.        ]]\n"
     ]
    }
   ],
   "source": [
    "X_val[:,0:3] = sc.transform(X_val[:,0:3])\n",
    "print (X_val)"
   ],
   "metadata": {
    "collapsed": false,
    "ExecuteTime": {
     "end_time": "2024-08-01T03:39:50.525763900Z",
     "start_time": "2024-08-01T03:39:50.493957Z"
    }
   }
  },
  {
   "cell_type": "code",
   "execution_count": 14,
   "outputs": [
    {
     "name": "stdout",
     "output_type": "stream",
     "text": [
      "X_train 27383\n",
      "X_test 9128\n",
      "X_val 9128\n"
     ]
    }
   ],
   "source": [
    "print (\"X_train\", len(X_train))\n",
    "print (\"X_test\", len(X_test))\n",
    "print (\"X_val\", len(X_val))"
   ],
   "metadata": {
    "collapsed": false,
    "ExecuteTime": {
     "end_time": "2024-08-01T03:39:51.613294Z",
     "start_time": "2024-08-01T03:39:51.581628900Z"
    }
   }
  },
  {
   "cell_type": "markdown",
   "metadata": {
    "colab_type": "text",
    "id": "_mSLlAT9_eyI"
   },
   "source": [
    "## Part 3 - Building the ANN"
   ]
  },
  {
   "cell_type": "markdown",
   "metadata": {
    "colab_type": "text",
    "id": "CsBULd_f_wLY"
   },
   "source": [
    "### Initializing the ANN"
   ]
  },
  {
   "cell_type": "code",
   "execution_count": 15,
   "metadata": {
    "colab": {},
    "colab_type": "code",
    "id": "J6Hd97Ls__Nz",
    "ExecuteTime": {
     "end_time": "2024-08-01T03:39:53.268801Z",
     "start_time": "2024-08-01T03:39:53.223142700Z"
    }
   },
   "outputs": [],
   "source": [
    "ann = tf.keras.models.Sequential()"
   ]
  },
  {
   "cell_type": "markdown",
   "metadata": {
    "colab_type": "text",
    "id": "iitAFJS_ABUn"
   },
   "source": [
    "### Adding the input layer and the first hidden layer"
   ]
  },
  {
   "cell_type": "code",
   "execution_count": 16,
   "metadata": {
    "colab": {},
    "colab_type": "code",
    "id": "ksO_Vv40AHix",
    "ExecuteTime": {
     "end_time": "2024-08-01T03:39:57.467408600Z",
     "start_time": "2024-08-01T03:39:57.403776600Z"
    }
   },
   "outputs": [],
   "source": [
    "ann.add(tf.keras.layers.Dense(units=250,\n",
    "                              input_shape=(X_train.shape[1],),\n",
    "                              activation='relu'))"
   ]
  },
  {
   "cell_type": "markdown",
   "metadata": {
    "colab_type": "text",
    "id": "-lb4kK_wAKbs"
   },
   "source": [
    "### Adding the second hidden layer"
   ]
  },
  {
   "cell_type": "code",
   "execution_count": 17,
   "metadata": {
    "colab": {},
    "colab_type": "code",
    "id": "c2357OqEAQOQ",
    "tags": [],
    "ExecuteTime": {
     "end_time": "2024-08-01T03:39:59.191802100Z",
     "start_time": "2024-08-01T03:39:59.160485800Z"
    }
   },
   "outputs": [],
   "source": [
    "ann.add(tf.keras.layers.Dense(units=225,\n",
    "                              activation='relu'))"
   ]
  },
  {
   "cell_type": "markdown",
   "metadata": {
    "colab_type": "text",
    "id": "-lb4kK_wAKbs"
   },
   "source": [
    "### Adding the third hidden layer"
   ]
  },
  {
   "cell_type": "code",
   "execution_count": 18,
   "metadata": {
    "colab": {},
    "colab_type": "code",
    "id": "c2357OqEAQOQ",
    "tags": [],
    "ExecuteTime": {
     "end_time": "2024-08-01T03:40:00.473359700Z",
     "start_time": "2024-08-01T03:40:00.417355800Z"
    }
   },
   "outputs": [],
   "source": [
    "ann.add(tf.keras.layers.Dense(units=200,\n",
    "                              activation='relu'))"
   ]
  },
  {
   "cell_type": "markdown",
   "metadata": {
    "colab_type": "text",
    "id": "jwMOmKb3AdBY"
   },
   "source": [
    "### Adding the output layer"
   ]
  },
  {
   "cell_type": "code",
   "execution_count": 19,
   "metadata": {
    "colab": {},
    "colab_type": "code",
    "id": "YFATpzsUAkLL",
    "ExecuteTime": {
     "end_time": "2024-08-01T03:40:01.712048600Z",
     "start_time": "2024-08-01T03:40:01.664647800Z"
    }
   },
   "outputs": [],
   "source": [
    "ann.add(tf.keras.layers.Dense(units=1,\n",
    "                              activation='linear'))"
   ]
  },
  {
   "cell_type": "markdown",
   "metadata": {},
   "source": [
    "### what model looks like"
   ]
  },
  {
   "cell_type": "code",
   "execution_count": 20,
   "metadata": {
    "ExecuteTime": {
     "end_time": "2024-08-01T03:40:02.897837500Z",
     "start_time": "2024-08-01T03:40:02.834217100Z"
    }
   },
   "outputs": [
    {
     "name": "stdout",
     "output_type": "stream",
     "text": [
      "Model: \"sequential\"\n",
      "_________________________________________________________________\n",
      " Layer (type)                Output Shape              Param #   \n",
      "=================================================================\n",
      " dense (Dense)               (None, 250)               2000      \n",
      "                                                                 \n",
      " dense_1 (Dense)             (None, 225)               56475     \n",
      "                                                                 \n",
      " dense_2 (Dense)             (None, 200)               45200     \n",
      "                                                                 \n",
      " dense_3 (Dense)             (None, 1)                 201       \n",
      "                                                                 \n",
      "=================================================================\n",
      "Total params: 103,876\n",
      "Trainable params: 103,876\n",
      "Non-trainable params: 0\n",
      "_________________________________________________________________\n"
     ]
    }
   ],
   "source": [
    "ann.summary()"
   ]
  },
  {
   "cell_type": "markdown",
   "metadata": {
    "colab_type": "text",
    "id": "fq7e4fF6A1yy"
   },
   "source": [
    "## Part 4 - Training the ANN"
   ]
  },
  {
   "cell_type": "markdown",
   "metadata": {
    "colab_type": "text",
    "id": "qDeylAs2An25"
   },
   "source": [
    "### Compiling the ANN"
   ]
  },
  {
   "cell_type": "code",
   "execution_count": 21,
   "metadata": {
    "colab": {},
    "colab_type": "code",
    "id": "pesgbWlCAtB4",
    "ExecuteTime": {
     "end_time": "2024-08-01T03:40:04.445058400Z",
     "start_time": "2024-08-01T03:40:04.413385300Z"
    }
   },
   "outputs": [],
   "source": [
    "# from tensorflow.keras.optimizers import Adam\n",
    "from keras.optimizers import Adam\n",
    "opt = Adam(learning_rate=0.001)\n",
    "ann.compile(optimizer = opt,\n",
    "            loss = 'mean_squared_error',\n",
    "            metrics = ['mae'])"
   ]
  },
  {
   "cell_type": "markdown",
   "metadata": {},
   "source": [
    "### early stopping callback"
   ]
  },
  {
   "cell_type": "code",
   "execution_count": 22,
   "metadata": {
    "ExecuteTime": {
     "end_time": "2024-08-01T03:40:06.706683700Z",
     "start_time": "2024-08-01T03:40:06.674841Z"
    }
   },
   "outputs": [],
   "source": [
    "# protects from unnecessary further training of the model if a particular metric does not continue to improve over a number of n epochs. In such a case, the model training would be automatically aborted.\n",
    "from keras.callbacks import EarlyStopping\n",
    "es = EarlyStopping(monitor='val_loss',\n",
    "                   mode='min',\n",
    "                   patience=50,\n",
    "                   restore_best_weights = True)"
   ]
  },
  {
   "cell_type": "markdown",
   "metadata": {
    "colab_type": "text",
    "id": "YjVuiybYOo7r"
   },
   "source": [
    "### Training the ANN model on the Training set"
   ]
  },
  {
   "cell_type": "code",
   "execution_count": 23,
   "metadata": {
    "colab": {
     "base_uri": "https://localhost:8080/",
     "height": 1000
    },
    "colab_type": "code",
    "id": "c_vV-tiiA5zn",
    "outputId": "4a2b6ee6-ed75-4698-9069-b250e613803f",
    "ExecuteTime": {
     "end_time": "2024-08-01T04:06:53.651756300Z",
     "start_time": "2024-08-01T03:40:07.905213400Z"
    }
   },
   "outputs": [
    {
     "name": "stdout",
     "output_type": "stream",
     "text": [
      "Epoch 1/500\n",
      "913/913 [==============================] - 5s 4ms/step - loss: 80.8117 - mae: 5.1122 - val_loss: 61.8456 - val_mae: 4.8800\n",
      "Epoch 2/500\n",
      "913/913 [==============================] - 4s 4ms/step - loss: 49.0774 - mae: 3.6955 - val_loss: 40.3330 - val_mae: 4.0002\n",
      "Epoch 3/500\n",
      "913/913 [==============================] - 4s 4ms/step - loss: 37.2217 - mae: 3.1388 - val_loss: 39.0291 - val_mae: 4.7091\n",
      "Epoch 4/500\n",
      "913/913 [==============================] - 4s 4ms/step - loss: 30.3848 - mae: 2.7563 - val_loss: 27.7879 - val_mae: 2.8297\n",
      "Epoch 5/500\n",
      "913/913 [==============================] - 4s 4ms/step - loss: 31.7663 - mae: 2.8064 - val_loss: 22.4799 - val_mae: 2.0946\n",
      "Epoch 6/500\n",
      "913/913 [==============================] - 4s 4ms/step - loss: 28.9145 - mae: 2.6537 - val_loss: 29.8202 - val_mae: 2.7391\n",
      "Epoch 7/500\n",
      "913/913 [==============================] - 4s 4ms/step - loss: 27.5438 - mae: 2.5793 - val_loss: 20.8170 - val_mae: 2.3741\n",
      "Epoch 8/500\n",
      "913/913 [==============================] - 4s 4ms/step - loss: 26.0351 - mae: 2.4895 - val_loss: 20.0010 - val_mae: 1.9209\n",
      "Epoch 9/500\n",
      "913/913 [==============================] - 4s 4ms/step - loss: 23.3598 - mae: 2.3670 - val_loss: 55.6545 - val_mae: 3.1280\n",
      "Epoch 10/500\n",
      "913/913 [==============================] - 4s 4ms/step - loss: 26.0120 - mae: 2.5034 - val_loss: 59.1049 - val_mae: 4.1119\n",
      "Epoch 11/500\n",
      "913/913 [==============================] - 4s 4ms/step - loss: 22.8941 - mae: 2.3272 - val_loss: 14.4711 - val_mae: 1.8619\n",
      "Epoch 12/500\n",
      "913/913 [==============================] - 4s 4ms/step - loss: 25.3628 - mae: 2.4525 - val_loss: 30.9832 - val_mae: 3.0712\n",
      "Epoch 13/500\n",
      "913/913 [==============================] - 4s 4ms/step - loss: 23.5026 - mae: 2.3420 - val_loss: 56.8630 - val_mae: 3.5095\n",
      "Epoch 14/500\n",
      "913/913 [==============================] - 4s 4ms/step - loss: 19.7555 - mae: 2.1376 - val_loss: 12.2311 - val_mae: 1.6512\n",
      "Epoch 15/500\n",
      "913/913 [==============================] - 4s 4ms/step - loss: 19.7905 - mae: 2.1327 - val_loss: 17.5869 - val_mae: 1.9009\n",
      "Epoch 16/500\n",
      "913/913 [==============================] - 4s 4ms/step - loss: 19.6595 - mae: 2.1067 - val_loss: 45.9796 - val_mae: 2.9694\n",
      "Epoch 17/500\n",
      "913/913 [==============================] - 4s 4ms/step - loss: 18.8382 - mae: 2.0678 - val_loss: 15.9786 - val_mae: 2.1374\n",
      "Epoch 18/500\n",
      "913/913 [==============================] - 4s 4ms/step - loss: 16.5003 - mae: 1.9419 - val_loss: 24.7257 - val_mae: 2.5288\n",
      "Epoch 19/500\n",
      "913/913 [==============================] - 4s 4ms/step - loss: 19.9371 - mae: 2.1013 - val_loss: 20.6578 - val_mae: 1.8708\n",
      "Epoch 20/500\n",
      "913/913 [==============================] - 4s 4ms/step - loss: 18.1867 - mae: 2.0203 - val_loss: 22.0242 - val_mae: 1.8578\n",
      "Epoch 21/500\n",
      "913/913 [==============================] - 4s 4ms/step - loss: 17.9243 - mae: 1.9493 - val_loss: 74.7175 - val_mae: 3.6873\n",
      "Epoch 22/500\n",
      "913/913 [==============================] - 4s 4ms/step - loss: 15.7804 - mae: 1.8836 - val_loss: 8.8381 - val_mae: 1.3580\n",
      "Epoch 23/500\n",
      "913/913 [==============================] - 4s 4ms/step - loss: 21.3158 - mae: 2.1820 - val_loss: 18.7068 - val_mae: 1.7703\n",
      "Epoch 24/500\n",
      "913/913 [==============================] - 4s 4ms/step - loss: 18.4820 - mae: 2.0000 - val_loss: 18.4851 - val_mae: 1.8144\n",
      "Epoch 25/500\n",
      "913/913 [==============================] - 4s 4ms/step - loss: 14.9949 - mae: 1.8189 - val_loss: 12.5431 - val_mae: 1.6022\n",
      "Epoch 26/500\n",
      "913/913 [==============================] - 4s 4ms/step - loss: 16.0880 - mae: 1.8845 - val_loss: 10.6596 - val_mae: 1.4157\n",
      "Epoch 27/500\n",
      "913/913 [==============================] - 4s 4ms/step - loss: 19.0742 - mae: 2.0156 - val_loss: 22.0499 - val_mae: 2.4021\n",
      "Epoch 28/500\n",
      "913/913 [==============================] - 4s 4ms/step - loss: 15.5017 - mae: 1.8099 - val_loss: 17.6340 - val_mae: 2.0593\n",
      "Epoch 29/500\n",
      "913/913 [==============================] - 4s 4ms/step - loss: 14.9547 - mae: 1.7760 - val_loss: 13.9151 - val_mae: 1.7836\n",
      "Epoch 30/500\n",
      "913/913 [==============================] - 4s 4ms/step - loss: 15.8593 - mae: 1.8548 - val_loss: 8.6994 - val_mae: 1.4900\n",
      "Epoch 31/500\n",
      "913/913 [==============================] - 4s 4ms/step - loss: 15.0186 - mae: 1.7667 - val_loss: 29.5704 - val_mae: 2.3758\n",
      "Epoch 32/500\n",
      "913/913 [==============================] - 4s 4ms/step - loss: 18.5804 - mae: 1.9597 - val_loss: 18.8231 - val_mae: 2.0146\n",
      "Epoch 33/500\n",
      "913/913 [==============================] - 4s 4ms/step - loss: 15.4513 - mae: 1.8854 - val_loss: 61.3626 - val_mae: 3.1814\n",
      "Epoch 34/500\n",
      "913/913 [==============================] - 4s 4ms/step - loss: 16.4745 - mae: 1.8483 - val_loss: 27.5261 - val_mae: 3.9193\n",
      "Epoch 35/500\n",
      "913/913 [==============================] - 4s 4ms/step - loss: 15.7740 - mae: 1.8283 - val_loss: 27.0875 - val_mae: 2.8940\n",
      "Epoch 36/500\n",
      "913/913 [==============================] - 4s 4ms/step - loss: 15.4407 - mae: 1.8509 - val_loss: 8.4668 - val_mae: 1.3403\n",
      "Epoch 37/500\n",
      "913/913 [==============================] - 4s 4ms/step - loss: 15.8869 - mae: 1.8209 - val_loss: 9.8376 - val_mae: 1.6663\n",
      "Epoch 38/500\n",
      "913/913 [==============================] - 4s 4ms/step - loss: 12.2321 - mae: 1.5818 - val_loss: 18.0414 - val_mae: 1.8460\n",
      "Epoch 39/500\n",
      "913/913 [==============================] - 4s 4ms/step - loss: 11.8229 - mae: 1.5469 - val_loss: 14.5910 - val_mae: 2.0507\n",
      "Epoch 40/500\n",
      "913/913 [==============================] - 4s 4ms/step - loss: 12.2418 - mae: 1.5713 - val_loss: 32.3098 - val_mae: 2.2431\n",
      "Epoch 41/500\n",
      "913/913 [==============================] - 4s 4ms/step - loss: 15.5315 - mae: 1.7691 - val_loss: 17.9881 - val_mae: 2.4236\n",
      "Epoch 42/500\n",
      "913/913 [==============================] - 4s 4ms/step - loss: 15.0602 - mae: 1.7799 - val_loss: 7.5176 - val_mae: 1.3324\n",
      "Epoch 43/500\n",
      "913/913 [==============================] - 4s 4ms/step - loss: 18.5941 - mae: 1.9411 - val_loss: 15.9682 - val_mae: 2.3354\n",
      "Epoch 44/500\n",
      "913/913 [==============================] - 4s 4ms/step - loss: 11.1429 - mae: 1.5224 - val_loss: 8.5848 - val_mae: 1.3672\n",
      "Epoch 45/500\n",
      "913/913 [==============================] - 4s 4ms/step - loss: 13.3979 - mae: 1.6319 - val_loss: 10.1260 - val_mae: 1.3379\n",
      "Epoch 46/500\n",
      "913/913 [==============================] - 4s 4ms/step - loss: 13.7700 - mae: 1.6355 - val_loss: 7.9368 - val_mae: 1.4236\n",
      "Epoch 47/500\n",
      "913/913 [==============================] - 4s 4ms/step - loss: 12.0516 - mae: 1.5380 - val_loss: 12.5459 - val_mae: 1.7249\n",
      "Epoch 48/500\n",
      "913/913 [==============================] - 4s 4ms/step - loss: 11.3264 - mae: 1.4851 - val_loss: 8.9697 - val_mae: 1.2550\n",
      "Epoch 49/500\n",
      "913/913 [==============================] - 4s 4ms/step - loss: 11.6605 - mae: 1.5039 - val_loss: 13.7897 - val_mae: 2.0104\n",
      "Epoch 50/500\n",
      "913/913 [==============================] - 4s 4ms/step - loss: 11.7260 - mae: 1.5048 - val_loss: 7.4249 - val_mae: 1.3571\n",
      "Epoch 51/500\n",
      "913/913 [==============================] - 4s 4ms/step - loss: 13.1519 - mae: 1.6283 - val_loss: 7.4927 - val_mae: 1.2207\n",
      "Epoch 52/500\n",
      "913/913 [==============================] - 4s 4ms/step - loss: 15.0405 - mae: 1.7225 - val_loss: 32.2408 - val_mae: 3.2111\n",
      "Epoch 53/500\n",
      "913/913 [==============================] - 4s 4ms/step - loss: 15.6091 - mae: 1.7949 - val_loss: 12.6164 - val_mae: 1.4863\n",
      "Epoch 54/500\n",
      "913/913 [==============================] - 4s 4ms/step - loss: 10.3874 - mae: 1.4339 - val_loss: 6.4624 - val_mae: 1.2348\n",
      "Epoch 55/500\n",
      "913/913 [==============================] - 4s 4ms/step - loss: 18.0625 - mae: 1.8940 - val_loss: 13.5515 - val_mae: 1.8148\n",
      "Epoch 56/500\n",
      "913/913 [==============================] - 4s 4ms/step - loss: 13.9273 - mae: 1.7518 - val_loss: 27.0706 - val_mae: 2.0841\n",
      "Epoch 57/500\n",
      "913/913 [==============================] - 4s 4ms/step - loss: 14.9986 - mae: 1.7426 - val_loss: 8.4076 - val_mae: 1.3738\n",
      "Epoch 58/500\n",
      "913/913 [==============================] - 4s 4ms/step - loss: 12.8403 - mae: 1.6169 - val_loss: 9.4868 - val_mae: 1.3427\n",
      "Epoch 59/500\n",
      "913/913 [==============================] - 4s 4ms/step - loss: 9.4714 - mae: 1.3692 - val_loss: 5.2169 - val_mae: 1.0799\n",
      "Epoch 60/500\n",
      "913/913 [==============================] - 4s 4ms/step - loss: 14.4729 - mae: 1.7140 - val_loss: 6.6673 - val_mae: 1.2674\n",
      "Epoch 61/500\n",
      "913/913 [==============================] - 4s 4ms/step - loss: 11.2453 - mae: 1.4847 - val_loss: 8.2498 - val_mae: 1.1399\n",
      "Epoch 62/500\n",
      "913/913 [==============================] - 4s 4ms/step - loss: 10.4573 - mae: 1.4265 - val_loss: 8.8405 - val_mae: 1.4585\n",
      "Epoch 63/500\n",
      "913/913 [==============================] - 4s 4ms/step - loss: 10.3417 - mae: 1.4206 - val_loss: 26.1306 - val_mae: 2.5719\n",
      "Epoch 64/500\n",
      "913/913 [==============================] - 4s 4ms/step - loss: 13.3511 - mae: 1.6194 - val_loss: 4.9951 - val_mae: 1.0393\n",
      "Epoch 65/500\n",
      "913/913 [==============================] - 4s 4ms/step - loss: 12.9092 - mae: 1.6072 - val_loss: 9.5387 - val_mae: 1.5824\n",
      "Epoch 66/500\n",
      "913/913 [==============================] - 4s 4ms/step - loss: 9.5206 - mae: 1.3686 - val_loss: 12.4879 - val_mae: 1.4656\n",
      "Epoch 67/500\n",
      "913/913 [==============================] - 4s 4ms/step - loss: 11.8672 - mae: 1.5172 - val_loss: 5.5478 - val_mae: 1.1349\n",
      "Epoch 68/500\n",
      "913/913 [==============================] - 4s 4ms/step - loss: 9.0665 - mae: 1.3125 - val_loss: 9.7126 - val_mae: 1.5864\n",
      "Epoch 69/500\n",
      "913/913 [==============================] - 4s 4ms/step - loss: 9.3613 - mae: 1.3362 - val_loss: 18.1125 - val_mae: 1.9867\n",
      "Epoch 70/500\n",
      "913/913 [==============================] - 4s 4ms/step - loss: 12.3232 - mae: 1.5300 - val_loss: 10.0501 - val_mae: 1.6102\n",
      "Epoch 71/500\n",
      "913/913 [==============================] - 4s 4ms/step - loss: 8.4296 - mae: 1.2840 - val_loss: 7.1924 - val_mae: 1.2188\n",
      "Epoch 72/500\n",
      "913/913 [==============================] - 4s 4ms/step - loss: 8.6896 - mae: 1.2731 - val_loss: 6.7348 - val_mae: 1.2962\n",
      "Epoch 73/500\n",
      "913/913 [==============================] - 4s 4ms/step - loss: 12.0015 - mae: 1.5135 - val_loss: 8.1006 - val_mae: 1.1658\n",
      "Epoch 74/500\n",
      "913/913 [==============================] - 4s 4ms/step - loss: 8.1137 - mae: 1.2433 - val_loss: 4.1588 - val_mae: 0.8886\n",
      "Epoch 75/500\n",
      "913/913 [==============================] - 4s 4ms/step - loss: 8.6372 - mae: 1.2826 - val_loss: 11.3633 - val_mae: 1.4388\n",
      "Epoch 76/500\n",
      "913/913 [==============================] - 4s 4ms/step - loss: 10.5642 - mae: 1.4266 - val_loss: 8.3398 - val_mae: 1.1701\n",
      "Epoch 77/500\n",
      "913/913 [==============================] - 4s 4ms/step - loss: 8.3834 - mae: 1.2584 - val_loss: 4.0332 - val_mae: 0.9307\n",
      "Epoch 78/500\n",
      "913/913 [==============================] - 4s 4ms/step - loss: 13.5390 - mae: 1.5954 - val_loss: 16.8963 - val_mae: 1.7678\n",
      "Epoch 79/500\n",
      "913/913 [==============================] - 4s 4ms/step - loss: 10.7618 - mae: 1.4488 - val_loss: 8.7376 - val_mae: 1.4662\n",
      "Epoch 80/500\n",
      "913/913 [==============================] - 4s 4ms/step - loss: 9.0912 - mae: 1.3143 - val_loss: 4.5602 - val_mae: 0.9288\n",
      "Epoch 81/500\n",
      "913/913 [==============================] - 4s 4ms/step - loss: 11.9077 - mae: 1.5152 - val_loss: 9.1642 - val_mae: 1.5566\n",
      "Epoch 82/500\n",
      "913/913 [==============================] - 4s 4ms/step - loss: 8.3208 - mae: 1.2985 - val_loss: 4.6650 - val_mae: 0.9980\n",
      "Epoch 83/500\n",
      "913/913 [==============================] - 4s 4ms/step - loss: 10.1556 - mae: 1.4051 - val_loss: 8.4350 - val_mae: 1.4450\n",
      "Epoch 84/500\n",
      "913/913 [==============================] - 4s 4ms/step - loss: 11.0042 - mae: 1.4446 - val_loss: 9.5179 - val_mae: 1.3284\n",
      "Epoch 85/500\n",
      "913/913 [==============================] - 4s 4ms/step - loss: 8.9150 - mae: 1.3066 - val_loss: 13.9373 - val_mae: 1.5130\n",
      "Epoch 86/500\n",
      "913/913 [==============================] - 4s 4ms/step - loss: 10.3288 - mae: 1.3806 - val_loss: 6.9340 - val_mae: 1.2604\n",
      "Epoch 87/500\n",
      "913/913 [==============================] - 4s 4ms/step - loss: 6.5856 - mae: 1.1127 - val_loss: 28.8589 - val_mae: 2.1227\n",
      "Epoch 88/500\n",
      "913/913 [==============================] - 4s 4ms/step - loss: 9.7473 - mae: 1.3429 - val_loss: 8.3116 - val_mae: 1.2591\n",
      "Epoch 89/500\n",
      "913/913 [==============================] - 4s 4ms/step - loss: 10.1138 - mae: 1.3704 - val_loss: 4.8445 - val_mae: 0.9440\n",
      "Epoch 90/500\n",
      "913/913 [==============================] - 4s 4ms/step - loss: 8.4363 - mae: 1.2534 - val_loss: 6.1885 - val_mae: 1.0942\n",
      "Epoch 91/500\n",
      "913/913 [==============================] - 4s 4ms/step - loss: 7.4283 - mae: 1.1827 - val_loss: 5.5008 - val_mae: 1.0612\n",
      "Epoch 92/500\n",
      "913/913 [==============================] - 4s 4ms/step - loss: 9.0140 - mae: 1.2998 - val_loss: 5.0150 - val_mae: 0.9574\n",
      "Epoch 93/500\n",
      "913/913 [==============================] - 4s 4ms/step - loss: 8.9413 - mae: 1.2823 - val_loss: 10.5129 - val_mae: 1.6580\n",
      "Epoch 94/500\n",
      "913/913 [==============================] - 4s 4ms/step - loss: 6.8544 - mae: 1.1408 - val_loss: 3.9069 - val_mae: 0.9027\n",
      "Epoch 95/500\n",
      "913/913 [==============================] - 4s 4ms/step - loss: 8.1866 - mae: 1.2365 - val_loss: 13.7597 - val_mae: 1.5280\n",
      "Epoch 96/500\n",
      "913/913 [==============================] - 4s 4ms/step - loss: 8.9586 - mae: 1.3069 - val_loss: 12.8899 - val_mae: 1.4366\n",
      "Epoch 97/500\n",
      "913/913 [==============================] - 4s 4ms/step - loss: 8.5967 - mae: 1.2324 - val_loss: 6.0589 - val_mae: 1.2314\n",
      "Epoch 98/500\n",
      "913/913 [==============================] - 4s 4ms/step - loss: 6.7842 - mae: 1.1358 - val_loss: 4.5776 - val_mae: 0.9353\n",
      "Epoch 99/500\n",
      "913/913 [==============================] - 4s 4ms/step - loss: 7.5976 - mae: 1.1891 - val_loss: 3.8804 - val_mae: 0.8677\n",
      "Epoch 100/500\n",
      "913/913 [==============================] - 4s 4ms/step - loss: 8.4932 - mae: 1.2512 - val_loss: 29.6294 - val_mae: 2.2672\n",
      "Epoch 101/500\n",
      "913/913 [==============================] - 4s 4ms/step - loss: 7.4820 - mae: 1.1716 - val_loss: 3.5768 - val_mae: 0.8422\n",
      "Epoch 102/500\n",
      "913/913 [==============================] - 4s 4ms/step - loss: 8.9425 - mae: 1.2842 - val_loss: 8.6978 - val_mae: 1.4269\n",
      "Epoch 103/500\n",
      "913/913 [==============================] - 4s 4ms/step - loss: 8.3251 - mae: 1.2248 - val_loss: 10.8841 - val_mae: 1.3117\n",
      "Epoch 104/500\n",
      "913/913 [==============================] - 4s 4ms/step - loss: 8.4766 - mae: 1.2332 - val_loss: 6.7670 - val_mae: 1.1250\n",
      "Epoch 105/500\n",
      "913/913 [==============================] - 4s 4ms/step - loss: 10.6800 - mae: 1.3964 - val_loss: 6.8493 - val_mae: 1.0515\n",
      "Epoch 106/500\n",
      "913/913 [==============================] - 4s 4ms/step - loss: 10.4437 - mae: 1.3717 - val_loss: 11.4593 - val_mae: 1.6889\n",
      "Epoch 107/500\n",
      "913/913 [==============================] - 4s 4ms/step - loss: 8.8893 - mae: 1.2826 - val_loss: 4.1177 - val_mae: 0.9066\n",
      "Epoch 108/500\n",
      "913/913 [==============================] - 4s 4ms/step - loss: 9.8470 - mae: 1.3517 - val_loss: 6.7699 - val_mae: 1.3179\n",
      "Epoch 109/500\n",
      "913/913 [==============================] - 4s 4ms/step - loss: 7.6582 - mae: 1.1817 - val_loss: 4.9994 - val_mae: 1.1113\n",
      "Epoch 110/500\n",
      "913/913 [==============================] - 4s 4ms/step - loss: 8.6055 - mae: 1.2469 - val_loss: 5.3144 - val_mae: 1.0196\n",
      "Epoch 111/500\n",
      "913/913 [==============================] - 4s 4ms/step - loss: 7.0279 - mae: 1.1331 - val_loss: 5.9004 - val_mae: 0.9981\n",
      "Epoch 112/500\n",
      "913/913 [==============================] - 4s 4ms/step - loss: 7.9947 - mae: 1.1980 - val_loss: 6.1422 - val_mae: 1.1699\n",
      "Epoch 113/500\n",
      "913/913 [==============================] - 4s 4ms/step - loss: 8.5868 - mae: 1.2378 - val_loss: 4.8518 - val_mae: 0.9290\n",
      "Epoch 114/500\n",
      "913/913 [==============================] - 4s 4ms/step - loss: 10.9705 - mae: 1.3930 - val_loss: 10.6346 - val_mae: 1.6272\n",
      "Epoch 115/500\n",
      "913/913 [==============================] - 4s 4ms/step - loss: 7.1392 - mae: 1.1455 - val_loss: 13.6083 - val_mae: 1.8550\n",
      "Epoch 116/500\n",
      "913/913 [==============================] - 4s 4ms/step - loss: 7.9912 - mae: 1.2127 - val_loss: 3.4899 - val_mae: 0.8162\n",
      "Epoch 117/500\n",
      "913/913 [==============================] - 4s 4ms/step - loss: 8.1764 - mae: 1.1828 - val_loss: 3.4371 - val_mae: 0.8186\n",
      "Epoch 118/500\n",
      "913/913 [==============================] - 4s 4ms/step - loss: 7.8943 - mae: 1.1781 - val_loss: 4.4587 - val_mae: 0.9216\n",
      "Epoch 119/500\n",
      "913/913 [==============================] - 4s 4ms/step - loss: 7.4741 - mae: 1.1676 - val_loss: 4.5221 - val_mae: 0.9258\n",
      "Epoch 120/500\n",
      "913/913 [==============================] - 4s 4ms/step - loss: 7.3091 - mae: 1.1412 - val_loss: 3.7864 - val_mae: 0.8005\n",
      "Epoch 121/500\n",
      "913/913 [==============================] - 4s 4ms/step - loss: 6.8783 - mae: 1.1020 - val_loss: 7.0049 - val_mae: 1.2657\n",
      "Epoch 122/500\n",
      "913/913 [==============================] - 4s 4ms/step - loss: 6.7968 - mae: 1.1129 - val_loss: 5.0515 - val_mae: 0.9473\n",
      "Epoch 123/500\n",
      "913/913 [==============================] - 4s 4ms/step - loss: 7.0548 - mae: 1.1072 - val_loss: 5.0251 - val_mae: 0.9300\n",
      "Epoch 124/500\n",
      "913/913 [==============================] - 4s 4ms/step - loss: 6.5471 - mae: 1.0755 - val_loss: 5.0418 - val_mae: 0.9726\n",
      "Epoch 125/500\n",
      "913/913 [==============================] - 4s 4ms/step - loss: 10.7222 - mae: 1.3659 - val_loss: 14.4479 - val_mae: 2.0647\n",
      "Epoch 126/500\n",
      "913/913 [==============================] - 4s 4ms/step - loss: 6.2712 - mae: 1.0724 - val_loss: 3.9228 - val_mae: 0.8963\n",
      "Epoch 127/500\n",
      "913/913 [==============================] - 4s 4ms/step - loss: 7.9131 - mae: 1.1725 - val_loss: 6.3051 - val_mae: 1.0937\n",
      "Epoch 128/500\n",
      "913/913 [==============================] - 4s 4ms/step - loss: 6.1026 - mae: 1.0823 - val_loss: 3.7887 - val_mae: 0.9197\n",
      "Epoch 129/500\n",
      "913/913 [==============================] - 4s 4ms/step - loss: 7.1282 - mae: 1.1349 - val_loss: 3.7822 - val_mae: 0.7580\n",
      "Epoch 130/500\n",
      "913/913 [==============================] - 4s 4ms/step - loss: 6.4648 - mae: 1.0640 - val_loss: 5.4522 - val_mae: 1.1476\n",
      "Epoch 131/500\n",
      "913/913 [==============================] - 4s 4ms/step - loss: 5.3802 - mae: 0.9849 - val_loss: 3.0345 - val_mae: 0.7132\n",
      "Epoch 132/500\n",
      "913/913 [==============================] - 4s 4ms/step - loss: 7.3420 - mae: 1.1167 - val_loss: 5.1223 - val_mae: 0.9078\n",
      "Epoch 133/500\n",
      "913/913 [==============================] - 4s 4ms/step - loss: 7.9696 - mae: 1.1976 - val_loss: 11.3916 - val_mae: 1.3553\n",
      "Epoch 134/500\n",
      "913/913 [==============================] - 4s 4ms/step - loss: 8.3236 - mae: 1.2226 - val_loss: 5.1917 - val_mae: 0.9755\n",
      "Epoch 135/500\n",
      "913/913 [==============================] - 4s 4ms/step - loss: 9.5210 - mae: 1.2999 - val_loss: 7.1269 - val_mae: 1.2598\n",
      "Epoch 136/500\n",
      "913/913 [==============================] - 4s 4ms/step - loss: 6.2444 - mae: 1.0844 - val_loss: 4.8036 - val_mae: 0.9779\n",
      "Epoch 137/500\n",
      "913/913 [==============================] - 4s 4ms/step - loss: 7.0492 - mae: 1.1294 - val_loss: 4.5208 - val_mae: 1.0225\n",
      "Epoch 138/500\n",
      "913/913 [==============================] - 4s 4ms/step - loss: 5.7325 - mae: 1.0245 - val_loss: 4.0685 - val_mae: 0.9435\n",
      "Epoch 139/500\n",
      "913/913 [==============================] - 4s 4ms/step - loss: 6.9384 - mae: 1.1013 - val_loss: 3.6203 - val_mae: 0.8335\n",
      "Epoch 140/500\n",
      "913/913 [==============================] - 4s 4ms/step - loss: 8.4956 - mae: 1.2170 - val_loss: 7.8735 - val_mae: 1.2817\n",
      "Epoch 141/500\n",
      "913/913 [==============================] - 4s 4ms/step - loss: 6.9453 - mae: 1.1180 - val_loss: 3.2989 - val_mae: 0.7682\n",
      "Epoch 142/500\n",
      "913/913 [==============================] - 4s 4ms/step - loss: 7.4185 - mae: 1.1588 - val_loss: 4.5479 - val_mae: 1.0147\n",
      "Epoch 143/500\n",
      "913/913 [==============================] - 4s 4ms/step - loss: 9.3528 - mae: 1.2751 - val_loss: 9.0172 - val_mae: 1.5704\n",
      "Epoch 144/500\n",
      "913/913 [==============================] - 4s 4ms/step - loss: 5.8535 - mae: 1.0465 - val_loss: 4.6826 - val_mae: 0.8975\n",
      "Epoch 145/500\n",
      "913/913 [==============================] - 4s 4ms/step - loss: 7.9204 - mae: 1.1884 - val_loss: 6.2614 - val_mae: 1.1492\n",
      "Epoch 146/500\n",
      "913/913 [==============================] - 4s 4ms/step - loss: 8.5280 - mae: 1.1876 - val_loss: 6.3805 - val_mae: 1.0356\n",
      "Epoch 147/500\n",
      "913/913 [==============================] - 4s 4ms/step - loss: 5.7399 - mae: 1.0119 - val_loss: 5.5638 - val_mae: 1.0317\n",
      "Epoch 148/500\n",
      "913/913 [==============================] - 4s 4ms/step - loss: 5.8699 - mae: 1.0169 - val_loss: 3.4193 - val_mae: 0.8266\n",
      "Epoch 149/500\n",
      "913/913 [==============================] - 4s 4ms/step - loss: 5.6812 - mae: 1.0032 - val_loss: 2.7313 - val_mae: 0.7483\n",
      "Epoch 150/500\n",
      "913/913 [==============================] - 4s 4ms/step - loss: 7.5666 - mae: 1.1660 - val_loss: 6.4859 - val_mae: 1.1238\n",
      "Epoch 151/500\n",
      "913/913 [==============================] - 4s 4ms/step - loss: 5.8979 - mae: 1.0177 - val_loss: 5.2046 - val_mae: 1.0571\n",
      "Epoch 152/500\n",
      "913/913 [==============================] - 4s 4ms/step - loss: 7.7811 - mae: 1.1613 - val_loss: 4.3494 - val_mae: 0.9199\n",
      "Epoch 153/500\n",
      "913/913 [==============================] - 4s 4ms/step - loss: 7.6129 - mae: 1.1614 - val_loss: 3.9897 - val_mae: 0.9535\n",
      "Epoch 154/500\n",
      "913/913 [==============================] - 4s 4ms/step - loss: 8.1769 - mae: 1.1750 - val_loss: 12.3154 - val_mae: 1.6832\n",
      "Epoch 155/500\n",
      "913/913 [==============================] - 4s 4ms/step - loss: 6.5046 - mae: 1.0861 - val_loss: 3.8735 - val_mae: 0.8191\n",
      "Epoch 156/500\n",
      "913/913 [==============================] - 4s 4ms/step - loss: 4.6147 - mae: 0.9149 - val_loss: 18.7156 - val_mae: 2.0933\n",
      "Epoch 157/500\n",
      "913/913 [==============================] - 4s 4ms/step - loss: 5.9365 - mae: 1.0219 - val_loss: 4.1663 - val_mae: 0.8739\n",
      "Epoch 158/500\n",
      "913/913 [==============================] - 4s 4ms/step - loss: 8.1712 - mae: 1.2142 - val_loss: 7.6607 - val_mae: 1.3423\n",
      "Epoch 159/500\n",
      "913/913 [==============================] - 4s 4ms/step - loss: 5.4693 - mae: 0.9907 - val_loss: 6.0812 - val_mae: 1.2039\n",
      "Epoch 160/500\n",
      "913/913 [==============================] - 4s 4ms/step - loss: 7.7646 - mae: 1.1683 - val_loss: 5.8430 - val_mae: 1.0879\n",
      "Epoch 161/500\n",
      "913/913 [==============================] - 4s 4ms/step - loss: 6.2583 - mae: 1.0428 - val_loss: 3.3571 - val_mae: 0.7374\n",
      "Epoch 162/500\n",
      "913/913 [==============================] - 4s 4ms/step - loss: 5.4951 - mae: 0.9745 - val_loss: 3.2639 - val_mae: 0.7553\n",
      "Epoch 163/500\n",
      "913/913 [==============================] - 4s 4ms/step - loss: 6.5012 - mae: 1.0527 - val_loss: 2.9793 - val_mae: 0.6973\n",
      "Epoch 164/500\n",
      "913/913 [==============================] - 4s 4ms/step - loss: 5.8692 - mae: 0.9890 - val_loss: 3.0172 - val_mae: 0.7454\n",
      "Epoch 165/500\n",
      "913/913 [==============================] - 4s 4ms/step - loss: 6.6341 - mae: 1.0823 - val_loss: 17.4389 - val_mae: 2.1566\n",
      "Epoch 166/500\n",
      "913/913 [==============================] - 4s 4ms/step - loss: 7.3633 - mae: 1.1336 - val_loss: 3.0274 - val_mae: 0.7099\n",
      "Epoch 167/500\n",
      "913/913 [==============================] - 4s 4ms/step - loss: 7.8756 - mae: 1.1475 - val_loss: 15.7219 - val_mae: 1.5509\n",
      "Epoch 168/500\n",
      "913/913 [==============================] - 4s 4ms/step - loss: 6.0372 - mae: 1.0590 - val_loss: 10.3079 - val_mae: 1.2807\n",
      "Epoch 169/500\n",
      "913/913 [==============================] - 4s 4ms/step - loss: 6.8885 - mae: 1.0804 - val_loss: 2.7386 - val_mae: 0.7366\n",
      "Epoch 170/500\n",
      "913/913 [==============================] - 4s 4ms/step - loss: 5.0441 - mae: 0.9436 - val_loss: 4.6345 - val_mae: 0.9193\n",
      "Epoch 171/500\n",
      "913/913 [==============================] - 4s 4ms/step - loss: 6.5662 - mae: 1.0690 - val_loss: 5.6380 - val_mae: 1.0532\n",
      "Epoch 172/500\n",
      "913/913 [==============================] - 4s 4ms/step - loss: 5.8132 - mae: 1.0041 - val_loss: 2.7614 - val_mae: 0.7502\n",
      "Epoch 173/500\n",
      "913/913 [==============================] - 4s 4ms/step - loss: 5.5208 - mae: 0.9862 - val_loss: 9.8882 - val_mae: 1.5544\n",
      "Epoch 174/500\n",
      "913/913 [==============================] - 4s 4ms/step - loss: 6.2817 - mae: 1.0271 - val_loss: 8.5138 - val_mae: 1.5927\n",
      "Epoch 175/500\n",
      "913/913 [==============================] - 4s 4ms/step - loss: 5.1775 - mae: 0.9574 - val_loss: 3.9447 - val_mae: 0.9149\n",
      "Epoch 176/500\n",
      "913/913 [==============================] - 4s 4ms/step - loss: 5.8105 - mae: 0.9962 - val_loss: 3.7797 - val_mae: 0.9210\n",
      "Epoch 177/500\n",
      "913/913 [==============================] - 4s 4ms/step - loss: 5.3846 - mae: 0.9759 - val_loss: 6.9739 - val_mae: 1.1119\n",
      "Epoch 178/500\n",
      "913/913 [==============================] - 4s 4ms/step - loss: 5.8436 - mae: 1.0106 - val_loss: 6.4480 - val_mae: 1.1990\n",
      "Epoch 179/500\n",
      "913/913 [==============================] - 4s 4ms/step - loss: 7.0694 - mae: 1.0986 - val_loss: 64.7624 - val_mae: 3.3193\n",
      "Epoch 180/500\n",
      "913/913 [==============================] - 4s 4ms/step - loss: 5.4699 - mae: 0.9672 - val_loss: 2.5632 - val_mae: 0.6663\n",
      "Epoch 181/500\n",
      "913/913 [==============================] - 4s 4ms/step - loss: 5.8787 - mae: 0.9875 - val_loss: 3.0739 - val_mae: 0.7948\n",
      "Epoch 182/500\n",
      "913/913 [==============================] - 4s 4ms/step - loss: 6.4439 - mae: 1.0361 - val_loss: 7.2523 - val_mae: 1.0707\n",
      "Epoch 183/500\n",
      "913/913 [==============================] - 4s 4ms/step - loss: 4.8404 - mae: 0.9271 - val_loss: 9.7643 - val_mae: 1.3079\n",
      "Epoch 184/500\n",
      "913/913 [==============================] - 4s 4ms/step - loss: 5.4640 - mae: 0.9525 - val_loss: 7.2457 - val_mae: 1.1418\n",
      "Epoch 185/500\n",
      "913/913 [==============================] - 4s 4ms/step - loss: 9.3914 - mae: 1.3182 - val_loss: 3.2481 - val_mae: 0.8298\n",
      "Epoch 186/500\n",
      "913/913 [==============================] - 4s 4ms/step - loss: 5.0745 - mae: 0.9543 - val_loss: 4.3659 - val_mae: 0.8412\n",
      "Epoch 187/500\n",
      "913/913 [==============================] - 4s 4ms/step - loss: 4.2862 - mae: 0.8685 - val_loss: 29.7857 - val_mae: 2.3384\n",
      "Epoch 188/500\n",
      "913/913 [==============================] - 4s 4ms/step - loss: 5.4293 - mae: 0.9556 - val_loss: 5.1422 - val_mae: 0.9641\n",
      "Epoch 189/500\n",
      "913/913 [==============================] - 4s 4ms/step - loss: 4.7889 - mae: 0.9158 - val_loss: 3.4288 - val_mae: 0.7328\n",
      "Epoch 190/500\n",
      "913/913 [==============================] - 4s 4ms/step - loss: 8.7240 - mae: 1.1985 - val_loss: 4.9028 - val_mae: 1.0890\n",
      "Epoch 191/500\n",
      "913/913 [==============================] - 4s 4ms/step - loss: 5.9156 - mae: 1.0239 - val_loss: 5.5156 - val_mae: 1.1306\n",
      "Epoch 192/500\n",
      "913/913 [==============================] - 4s 4ms/step - loss: 7.1474 - mae: 1.1119 - val_loss: 4.6933 - val_mae: 1.0147\n",
      "Epoch 193/500\n",
      "913/913 [==============================] - 4s 4ms/step - loss: 5.6577 - mae: 1.0060 - val_loss: 2.4779 - val_mae: 0.6405\n",
      "Epoch 194/500\n",
      "913/913 [==============================] - 4s 4ms/step - loss: 5.1433 - mae: 0.9235 - val_loss: 6.8167 - val_mae: 1.0813\n",
      "Epoch 195/500\n",
      "913/913 [==============================] - 4s 4ms/step - loss: 6.6492 - mae: 1.0818 - val_loss: 3.0997 - val_mae: 0.7359\n",
      "Epoch 196/500\n",
      "913/913 [==============================] - 4s 4ms/step - loss: 6.3229 - mae: 1.0389 - val_loss: 11.9347 - val_mae: 1.4572\n",
      "Epoch 197/500\n",
      "913/913 [==============================] - 4s 4ms/step - loss: 4.7045 - mae: 0.9101 - val_loss: 6.2900 - val_mae: 1.1607\n",
      "Epoch 198/500\n",
      "913/913 [==============================] - 4s 4ms/step - loss: 6.6725 - mae: 1.0508 - val_loss: 2.7999 - val_mae: 0.7384\n",
      "Epoch 199/500\n",
      "913/913 [==============================] - 4s 4ms/step - loss: 5.5828 - mae: 0.9846 - val_loss: 6.0885 - val_mae: 0.9739\n",
      "Epoch 200/500\n",
      "913/913 [==============================] - 4s 4ms/step - loss: 6.5872 - mae: 1.0460 - val_loss: 8.0150 - val_mae: 1.3304\n",
      "Epoch 201/500\n",
      "913/913 [==============================] - 4s 4ms/step - loss: 8.5928 - mae: 1.1835 - val_loss: 9.4691 - val_mae: 1.3157\n",
      "Epoch 202/500\n",
      "913/913 [==============================] - 4s 4ms/step - loss: 4.6314 - mae: 0.9066 - val_loss: 2.3378 - val_mae: 0.6610\n",
      "Epoch 203/500\n",
      "913/913 [==============================] - 4s 4ms/step - loss: 4.7071 - mae: 0.9093 - val_loss: 4.4497 - val_mae: 0.9924\n",
      "Epoch 204/500\n",
      "913/913 [==============================] - 4s 4ms/step - loss: 8.1339 - mae: 1.1251 - val_loss: 26.3030 - val_mae: 3.5655\n",
      "Epoch 205/500\n",
      "913/913 [==============================] - 4s 4ms/step - loss: 6.8121 - mae: 1.1211 - val_loss: 2.9551 - val_mae: 0.7938\n",
      "Epoch 206/500\n",
      "913/913 [==============================] - 4s 4ms/step - loss: 5.6278 - mae: 0.9711 - val_loss: 9.3170 - val_mae: 1.2096\n",
      "Epoch 207/500\n",
      "913/913 [==============================] - 4s 4ms/step - loss: 4.8419 - mae: 0.9081 - val_loss: 8.1510 - val_mae: 1.1353\n",
      "Epoch 208/500\n",
      "913/913 [==============================] - 4s 4ms/step - loss: 7.4005 - mae: 1.1137 - val_loss: 6.4327 - val_mae: 1.2327\n",
      "Epoch 209/500\n",
      "913/913 [==============================] - 4s 4ms/step - loss: 5.6020 - mae: 0.9892 - val_loss: 2.3910 - val_mae: 0.6715\n",
      "Epoch 210/500\n",
      "913/913 [==============================] - 4s 4ms/step - loss: 5.0923 - mae: 0.9163 - val_loss: 8.8730 - val_mae: 1.3900\n",
      "Epoch 211/500\n",
      "913/913 [==============================] - 4s 4ms/step - loss: 4.9456 - mae: 0.9249 - val_loss: 5.6299 - val_mae: 1.0998\n",
      "Epoch 212/500\n",
      "913/913 [==============================] - 4s 4ms/step - loss: 4.6372 - mae: 0.8994 - val_loss: 11.0841 - val_mae: 1.3716\n",
      "Epoch 213/500\n",
      "913/913 [==============================] - 4s 4ms/step - loss: 4.9501 - mae: 0.9349 - val_loss: 2.8481 - val_mae: 0.6592\n",
      "Epoch 214/500\n",
      "913/913 [==============================] - 4s 4ms/step - loss: 5.5896 - mae: 0.9690 - val_loss: 3.0211 - val_mae: 0.7974\n",
      "Epoch 215/500\n",
      "913/913 [==============================] - 4s 4ms/step - loss: 4.3515 - mae: 0.8819 - val_loss: 6.8352 - val_mae: 1.0965\n",
      "Epoch 216/500\n",
      "913/913 [==============================] - 4s 4ms/step - loss: 5.5109 - mae: 0.9872 - val_loss: 5.5739 - val_mae: 0.9547\n",
      "Epoch 217/500\n",
      "913/913 [==============================] - 4s 4ms/step - loss: 4.5443 - mae: 0.8758 - val_loss: 4.2454 - val_mae: 0.8515\n",
      "Epoch 218/500\n",
      "913/913 [==============================] - 4s 4ms/step - loss: 7.3678 - mae: 1.1276 - val_loss: 5.7886 - val_mae: 1.1082\n",
      "Epoch 219/500\n",
      "913/913 [==============================] - 4s 4ms/step - loss: 4.8591 - mae: 0.9121 - val_loss: 5.2003 - val_mae: 1.0298\n",
      "Epoch 220/500\n",
      "913/913 [==============================] - 4s 4ms/step - loss: 8.3771 - mae: 1.1848 - val_loss: 3.7297 - val_mae: 0.9214\n",
      "Epoch 221/500\n",
      "913/913 [==============================] - 4s 4ms/step - loss: 5.6943 - mae: 0.9629 - val_loss: 5.0568 - val_mae: 1.0656\n",
      "Epoch 222/500\n",
      "913/913 [==============================] - 4s 4ms/step - loss: 6.1190 - mae: 1.0167 - val_loss: 6.5262 - val_mae: 1.1682\n",
      "Epoch 223/500\n",
      "913/913 [==============================] - 4s 4ms/step - loss: 4.4763 - mae: 0.8735 - val_loss: 2.0013 - val_mae: 0.6104\n",
      "Epoch 224/500\n",
      "913/913 [==============================] - 4s 4ms/step - loss: 7.1985 - mae: 1.1062 - val_loss: 9.5312 - val_mae: 1.4780\n",
      "Epoch 225/500\n",
      "913/913 [==============================] - 4s 4ms/step - loss: 4.7567 - mae: 0.9055 - val_loss: 4.1939 - val_mae: 0.9631\n",
      "Epoch 226/500\n",
      "913/913 [==============================] - 4s 4ms/step - loss: 5.0119 - mae: 0.9220 - val_loss: 12.1572 - val_mae: 1.5892\n",
      "Epoch 227/500\n",
      "913/913 [==============================] - 4s 4ms/step - loss: 5.4993 - mae: 0.9785 - val_loss: 4.4218 - val_mae: 1.0000\n",
      "Epoch 228/500\n",
      "913/913 [==============================] - 4s 4ms/step - loss: 6.3931 - mae: 1.0283 - val_loss: 2.7243 - val_mae: 0.7897\n",
      "Epoch 229/500\n",
      "913/913 [==============================] - 4s 4ms/step - loss: 4.6381 - mae: 0.9091 - val_loss: 6.1116 - val_mae: 1.5063\n",
      "Epoch 230/500\n",
      "913/913 [==============================] - 4s 4ms/step - loss: 8.1327 - mae: 1.1985 - val_loss: 3.0321 - val_mae: 0.7966\n",
      "Epoch 231/500\n",
      "913/913 [==============================] - 4s 4ms/step - loss: 4.1964 - mae: 0.8680 - val_loss: 2.4080 - val_mae: 0.6445\n",
      "Epoch 232/500\n",
      "913/913 [==============================] - 4s 4ms/step - loss: 3.9624 - mae: 0.8332 - val_loss: 4.8180 - val_mae: 1.0392\n",
      "Epoch 233/500\n",
      "913/913 [==============================] - 4s 4ms/step - loss: 4.9897 - mae: 0.9122 - val_loss: 2.3808 - val_mae: 0.6505\n",
      "Epoch 234/500\n",
      "913/913 [==============================] - 4s 4ms/step - loss: 4.0564 - mae: 0.8393 - val_loss: 4.1794 - val_mae: 0.8143\n",
      "Epoch 235/500\n",
      "913/913 [==============================] - 4s 4ms/step - loss: 4.9118 - mae: 0.9272 - val_loss: 2.7174 - val_mae: 0.7448\n",
      "Epoch 236/500\n",
      "913/913 [==============================] - 4s 4ms/step - loss: 4.1416 - mae: 0.8631 - val_loss: 2.4803 - val_mae: 0.6707\n",
      "Epoch 237/500\n",
      "913/913 [==============================] - 4s 4ms/step - loss: 4.6724 - mae: 0.8842 - val_loss: 2.9211 - val_mae: 0.7460\n",
      "Epoch 238/500\n",
      "913/913 [==============================] - 4s 4ms/step - loss: 4.6551 - mae: 0.8968 - val_loss: 2.7188 - val_mae: 0.6834\n",
      "Epoch 239/500\n",
      "913/913 [==============================] - 4s 5ms/step - loss: 4.5015 - mae: 0.8794 - val_loss: 3.5893 - val_mae: 0.7564\n",
      "Epoch 240/500\n",
      "913/913 [==============================] - 4s 4ms/step - loss: 6.6552 - mae: 1.0444 - val_loss: 10.9164 - val_mae: 1.4211\n",
      "Epoch 241/500\n",
      "913/913 [==============================] - 4s 4ms/step - loss: 5.7379 - mae: 0.9840 - val_loss: 3.1333 - val_mae: 0.7445\n",
      "Epoch 242/500\n",
      "913/913 [==============================] - 5s 5ms/step - loss: 4.0251 - mae: 0.8354 - val_loss: 4.4619 - val_mae: 0.9357\n",
      "Epoch 243/500\n",
      "913/913 [==============================] - 4s 4ms/step - loss: 5.5525 - mae: 0.9882 - val_loss: 13.0397 - val_mae: 1.5331\n",
      "Epoch 244/500\n",
      "913/913 [==============================] - 4s 4ms/step - loss: 5.9147 - mae: 0.9878 - val_loss: 3.1941 - val_mae: 0.7181\n",
      "Epoch 245/500\n",
      "913/913 [==============================] - 4s 4ms/step - loss: 4.4481 - mae: 0.8795 - val_loss: 2.3822 - val_mae: 0.6212\n",
      "Epoch 246/500\n",
      "913/913 [==============================] - 4s 4ms/step - loss: 6.0802 - mae: 1.0076 - val_loss: 3.1863 - val_mae: 0.8030\n",
      "Epoch 247/500\n",
      "913/913 [==============================] - 4s 4ms/step - loss: 5.6364 - mae: 0.9817 - val_loss: 2.9631 - val_mae: 0.7209\n",
      "Epoch 248/500\n",
      "913/913 [==============================] - 4s 4ms/step - loss: 4.6183 - mae: 0.8702 - val_loss: 10.0920 - val_mae: 1.2626\n",
      "Epoch 249/500\n",
      "913/913 [==============================] - 4s 4ms/step - loss: 6.4605 - mae: 1.0245 - val_loss: 2.5488 - val_mae: 0.6918\n",
      "Epoch 250/500\n",
      "913/913 [==============================] - 4s 4ms/step - loss: 5.0341 - mae: 0.8945 - val_loss: 5.3017 - val_mae: 0.9245\n",
      "Epoch 251/500\n",
      "913/913 [==============================] - 4s 4ms/step - loss: 4.3234 - mae: 0.8627 - val_loss: 2.4384 - val_mae: 0.6384\n",
      "Epoch 252/500\n",
      "913/913 [==============================] - 4s 4ms/step - loss: 5.8755 - mae: 0.9850 - val_loss: 9.4706 - val_mae: 1.5196\n",
      "Epoch 253/500\n",
      "913/913 [==============================] - 4s 4ms/step - loss: 5.2921 - mae: 0.9227 - val_loss: 8.9055 - val_mae: 1.1649\n",
      "Epoch 254/500\n",
      "913/913 [==============================] - 4s 4ms/step - loss: 4.5116 - mae: 0.8721 - val_loss: 3.9753 - val_mae: 0.9769\n",
      "Epoch 255/500\n",
      "913/913 [==============================] - 4s 4ms/step - loss: 4.6402 - mae: 0.8794 - val_loss: 3.4816 - val_mae: 0.7467\n",
      "Epoch 256/500\n",
      "913/913 [==============================] - 4s 4ms/step - loss: 5.4348 - mae: 0.9543 - val_loss: 2.3700 - val_mae: 0.6117\n",
      "Epoch 257/500\n",
      "913/913 [==============================] - 4s 4ms/step - loss: 4.3003 - mae: 0.8520 - val_loss: 2.4474 - val_mae: 0.6269\n",
      "Epoch 258/500\n",
      "913/913 [==============================] - 4s 4ms/step - loss: 5.7032 - mae: 0.9566 - val_loss: 14.5590 - val_mae: 1.6915\n",
      "Epoch 259/500\n",
      "913/913 [==============================] - 4s 4ms/step - loss: 6.4846 - mae: 1.0217 - val_loss: 3.1990 - val_mae: 0.7985\n",
      "Epoch 260/500\n",
      "913/913 [==============================] - 4s 4ms/step - loss: 4.3571 - mae: 0.8511 - val_loss: 1.7855 - val_mae: 0.5734\n",
      "Epoch 261/500\n",
      "913/913 [==============================] - 4s 4ms/step - loss: 4.9665 - mae: 0.9026 - val_loss: 5.9790 - val_mae: 1.2020\n",
      "Epoch 262/500\n",
      "913/913 [==============================] - 4s 4ms/step - loss: 6.9351 - mae: 1.0747 - val_loss: 5.2942 - val_mae: 0.9616\n",
      "Epoch 263/500\n",
      "913/913 [==============================] - 4s 4ms/step - loss: 4.5195 - mae: 0.8859 - val_loss: 2.5246 - val_mae: 0.6150\n",
      "Epoch 264/500\n",
      "913/913 [==============================] - 4s 4ms/step - loss: 5.0780 - mae: 0.8946 - val_loss: 2.8489 - val_mae: 0.7408\n",
      "Epoch 265/500\n",
      "913/913 [==============================] - 4s 4ms/step - loss: 4.2984 - mae: 0.8602 - val_loss: 3.3100 - val_mae: 0.7854\n",
      "Epoch 266/500\n",
      "913/913 [==============================] - 4s 4ms/step - loss: 4.4839 - mae: 0.8585 - val_loss: 6.3970 - val_mae: 1.1766\n",
      "Epoch 267/500\n",
      "913/913 [==============================] - 4s 4ms/step - loss: 4.7172 - mae: 0.9038 - val_loss: 3.4347 - val_mae: 0.7464\n",
      "Epoch 268/500\n",
      "913/913 [==============================] - 4s 4ms/step - loss: 4.3723 - mae: 0.8496 - val_loss: 2.8424 - val_mae: 0.7483\n",
      "Epoch 269/500\n",
      "913/913 [==============================] - 4s 4ms/step - loss: 4.3727 - mae: 0.8565 - val_loss: 2.7380 - val_mae: 0.7011\n",
      "Epoch 270/500\n",
      "913/913 [==============================] - 4s 4ms/step - loss: 4.6250 - mae: 0.8712 - val_loss: 3.7032 - val_mae: 0.8013\n",
      "Epoch 271/500\n",
      "913/913 [==============================] - 4s 4ms/step - loss: 3.7274 - mae: 0.7935 - val_loss: 4.8573 - val_mae: 1.0227\n",
      "Epoch 272/500\n",
      "913/913 [==============================] - 4s 4ms/step - loss: 4.9080 - mae: 0.9151 - val_loss: 3.0330 - val_mae: 0.7585\n",
      "Epoch 273/500\n",
      "913/913 [==============================] - 4s 4ms/step - loss: 4.3030 - mae: 0.8646 - val_loss: 2.5632 - val_mae: 0.6659\n",
      "Epoch 274/500\n",
      "913/913 [==============================] - 4s 4ms/step - loss: 4.6504 - mae: 0.8963 - val_loss: 3.0193 - val_mae: 0.7764\n",
      "Epoch 275/500\n",
      "913/913 [==============================] - 4s 4ms/step - loss: 4.5889 - mae: 0.8682 - val_loss: 5.0343 - val_mae: 0.8563\n",
      "Epoch 276/500\n",
      "913/913 [==============================] - 4s 4ms/step - loss: 4.5266 - mae: 0.8778 - val_loss: 3.1774 - val_mae: 0.7853\n",
      "Epoch 277/500\n",
      "913/913 [==============================] - 4s 4ms/step - loss: 4.2983 - mae: 0.8286 - val_loss: 1.7955 - val_mae: 0.5902\n",
      "Epoch 278/500\n",
      "913/913 [==============================] - 4s 4ms/step - loss: 5.1122 - mae: 0.9067 - val_loss: 2.3673 - val_mae: 0.6725\n",
      "Epoch 279/500\n",
      "913/913 [==============================] - 4s 4ms/step - loss: 4.8642 - mae: 0.8982 - val_loss: 7.6061 - val_mae: 1.2631\n",
      "Epoch 280/500\n",
      "913/913 [==============================] - 4s 4ms/step - loss: 4.6327 - mae: 0.8628 - val_loss: 4.2880 - val_mae: 0.8323\n",
      "Epoch 281/500\n",
      "913/913 [==============================] - 4s 4ms/step - loss: 4.3534 - mae: 0.8577 - val_loss: 2.6025 - val_mae: 0.6835\n",
      "Epoch 282/500\n",
      "913/913 [==============================] - 4s 4ms/step - loss: 5.7213 - mae: 0.9563 - val_loss: 6.2177 - val_mae: 1.2776\n",
      "Epoch 283/500\n",
      "913/913 [==============================] - 4s 4ms/step - loss: 4.3155 - mae: 0.8579 - val_loss: 2.2766 - val_mae: 0.5825\n",
      "Epoch 284/500\n",
      "913/913 [==============================] - 4s 4ms/step - loss: 4.0240 - mae: 0.8167 - val_loss: 3.2928 - val_mae: 0.8277\n",
      "Epoch 285/500\n",
      "913/913 [==============================] - 4s 4ms/step - loss: 4.9766 - mae: 0.9107 - val_loss: 2.5363 - val_mae: 0.7206\n",
      "Epoch 286/500\n",
      "913/913 [==============================] - 4s 4ms/step - loss: 4.3707 - mae: 0.8476 - val_loss: 7.3584 - val_mae: 1.1031\n",
      "Epoch 287/500\n",
      "913/913 [==============================] - 4s 4ms/step - loss: 3.6894 - mae: 0.7943 - val_loss: 19.2291 - val_mae: 1.8161\n",
      "Epoch 288/500\n",
      "913/913 [==============================] - 4s 4ms/step - loss: 4.4822 - mae: 0.8598 - val_loss: 2.4680 - val_mae: 0.6382\n",
      "Epoch 289/500\n",
      "913/913 [==============================] - 4s 4ms/step - loss: 5.1233 - mae: 0.9157 - val_loss: 2.6050 - val_mae: 0.7303\n",
      "Epoch 290/500\n",
      "913/913 [==============================] - 4s 4ms/step - loss: 5.9886 - mae: 0.9798 - val_loss: 3.1754 - val_mae: 0.7971\n",
      "Epoch 291/500\n",
      "913/913 [==============================] - 4s 4ms/step - loss: 4.4598 - mae: 0.8712 - val_loss: 4.4826 - val_mae: 0.9983\n",
      "Epoch 292/500\n",
      "913/913 [==============================] - 4s 4ms/step - loss: 4.5659 - mae: 0.8480 - val_loss: 2.8307 - val_mae: 0.6764\n",
      "Epoch 293/500\n",
      "913/913 [==============================] - 4s 4ms/step - loss: 5.4064 - mae: 0.9183 - val_loss: 53.2548 - val_mae: 4.2553\n",
      "Epoch 294/500\n",
      "913/913 [==============================] - 4s 4ms/step - loss: 4.7692 - mae: 0.8799 - val_loss: 10.0258 - val_mae: 1.3850\n",
      "Epoch 295/500\n",
      "913/913 [==============================] - 4s 4ms/step - loss: 4.7119 - mae: 0.8787 - val_loss: 3.5874 - val_mae: 0.7517\n",
      "Epoch 296/500\n",
      "913/913 [==============================] - 4s 4ms/step - loss: 3.8727 - mae: 0.8193 - val_loss: 1.7557 - val_mae: 0.5902\n",
      "Epoch 297/500\n",
      "913/913 [==============================] - 4s 4ms/step - loss: 4.6377 - mae: 0.8757 - val_loss: 3.3089 - val_mae: 0.7434\n",
      "Epoch 298/500\n",
      "913/913 [==============================] - 4s 4ms/step - loss: 4.8153 - mae: 0.9034 - val_loss: 5.1215 - val_mae: 1.0729\n",
      "Epoch 299/500\n",
      "913/913 [==============================] - 4s 4ms/step - loss: 4.6579 - mae: 0.8793 - val_loss: 1.9969 - val_mae: 0.5885\n",
      "Epoch 300/500\n",
      "913/913 [==============================] - 4s 4ms/step - loss: 4.2232 - mae: 0.8442 - val_loss: 2.4388 - val_mae: 0.6098\n",
      "Epoch 301/500\n",
      "913/913 [==============================] - 4s 4ms/step - loss: 5.2270 - mae: 0.9146 - val_loss: 4.4823 - val_mae: 0.8614\n",
      "Epoch 302/500\n",
      "913/913 [==============================] - 4s 4ms/step - loss: 4.4751 - mae: 0.8554 - val_loss: 5.0696 - val_mae: 1.0212\n",
      "Epoch 303/500\n",
      "913/913 [==============================] - 4s 4ms/step - loss: 3.9365 - mae: 0.8125 - val_loss: 3.2549 - val_mae: 0.7804\n",
      "Epoch 304/500\n",
      "913/913 [==============================] - 4s 4ms/step - loss: 3.9761 - mae: 0.7992 - val_loss: 3.3273 - val_mae: 0.7572\n",
      "Epoch 305/500\n",
      "913/913 [==============================] - 4s 4ms/step - loss: 3.9385 - mae: 0.8058 - val_loss: 1.8646 - val_mae: 0.5191\n",
      "Epoch 306/500\n",
      "913/913 [==============================] - 4s 4ms/step - loss: 4.9223 - mae: 0.8670 - val_loss: 6.1859 - val_mae: 1.0605\n",
      "Epoch 307/500\n",
      "913/913 [==============================] - 4s 4ms/step - loss: 4.8051 - mae: 0.9003 - val_loss: 16.5486 - val_mae: 1.8155\n",
      "Epoch 308/500\n",
      "913/913 [==============================] - 4s 4ms/step - loss: 6.1510 - mae: 0.9941 - val_loss: 2.0439 - val_mae: 0.5824\n",
      "Epoch 309/500\n",
      "913/913 [==============================] - 4s 4ms/step - loss: 3.9312 - mae: 0.8056 - val_loss: 9.7688 - val_mae: 1.4533\n",
      "Epoch 310/500\n",
      "913/913 [==============================] - 4s 4ms/step - loss: 4.4718 - mae: 0.8431 - val_loss: 2.4668 - val_mae: 0.6217\n",
      "Epoch 311/500\n",
      "913/913 [==============================] - 4s 4ms/step - loss: 3.3605 - mae: 0.7513 - val_loss: 2.8035 - val_mae: 0.6763\n",
      "Epoch 312/500\n",
      "913/913 [==============================] - 4s 4ms/step - loss: 4.5228 - mae: 0.8587 - val_loss: 2.7724 - val_mae: 0.7563\n",
      "Epoch 313/500\n",
      "913/913 [==============================] - 4s 4ms/step - loss: 5.2805 - mae: 0.9049 - val_loss: 2.5614 - val_mae: 0.6507\n",
      "Epoch 314/500\n",
      "913/913 [==============================] - 4s 4ms/step - loss: 4.6553 - mae: 0.8702 - val_loss: 2.6429 - val_mae: 0.6489\n",
      "Epoch 315/500\n",
      "913/913 [==============================] - 4s 4ms/step - loss: 4.6621 - mae: 0.8899 - val_loss: 5.3347 - val_mae: 1.0333\n",
      "Epoch 316/500\n",
      "913/913 [==============================] - 4s 4ms/step - loss: 3.3712 - mae: 0.7581 - val_loss: 1.7803 - val_mae: 0.5280\n",
      "Epoch 317/500\n",
      "913/913 [==============================] - 4s 4ms/step - loss: 3.3647 - mae: 0.7501 - val_loss: 2.6349 - val_mae: 0.6333\n",
      "Epoch 318/500\n",
      "913/913 [==============================] - 4s 4ms/step - loss: 4.7786 - mae: 0.8870 - val_loss: 2.8685 - val_mae: 0.7234\n",
      "Epoch 319/500\n",
      "913/913 [==============================] - 4s 4ms/step - loss: 4.7003 - mae: 0.8892 - val_loss: 2.8561 - val_mae: 0.7801\n",
      "Epoch 320/500\n",
      "913/913 [==============================] - 4s 4ms/step - loss: 3.4135 - mae: 0.7591 - val_loss: 3.4833 - val_mae: 0.7382\n",
      "Epoch 321/500\n",
      "913/913 [==============================] - 4s 4ms/step - loss: 3.6149 - mae: 0.7668 - val_loss: 3.3563 - val_mae: 0.8565\n",
      "Epoch 322/500\n",
      "913/913 [==============================] - 4s 4ms/step - loss: 3.8974 - mae: 0.8183 - val_loss: 4.2770 - val_mae: 0.9156\n",
      "Epoch 323/500\n",
      "913/913 [==============================] - 4s 4ms/step - loss: 6.4440 - mae: 1.0182 - val_loss: 1.8646 - val_mae: 0.5826\n",
      "Epoch 324/500\n",
      "913/913 [==============================] - 4s 4ms/step - loss: 3.4676 - mae: 0.7546 - val_loss: 2.4648 - val_mae: 0.6714\n",
      "Epoch 325/500\n",
      "913/913 [==============================] - 4s 4ms/step - loss: 4.1306 - mae: 0.8211 - val_loss: 2.6572 - val_mae: 0.7090\n",
      "Epoch 326/500\n",
      "913/913 [==============================] - 4s 4ms/step - loss: 5.2984 - mae: 0.9276 - val_loss: 3.1096 - val_mae: 0.7804\n",
      "Epoch 327/500\n",
      "913/913 [==============================] - 4s 4ms/step - loss: 5.2779 - mae: 0.9053 - val_loss: 4.6979 - val_mae: 0.9830\n",
      "Epoch 328/500\n",
      "913/913 [==============================] - 4s 4ms/step - loss: 3.5359 - mae: 0.7753 - val_loss: 4.3292 - val_mae: 0.9963\n",
      "Epoch 329/500\n",
      "913/913 [==============================] - 4s 4ms/step - loss: 4.3972 - mae: 0.8575 - val_loss: 34.5983 - val_mae: 2.9473\n",
      "Epoch 330/500\n",
      "913/913 [==============================] - 4s 4ms/step - loss: 3.5315 - mae: 0.7700 - val_loss: 4.0486 - val_mae: 0.9196\n",
      "Epoch 331/500\n",
      "913/913 [==============================] - 4s 4ms/step - loss: 3.7579 - mae: 0.8015 - val_loss: 4.6168 - val_mae: 0.9800\n",
      "Epoch 332/500\n",
      "913/913 [==============================] - 4s 4ms/step - loss: 4.2424 - mae: 0.8411 - val_loss: 3.3537 - val_mae: 0.8651\n",
      "Epoch 333/500\n",
      "913/913 [==============================] - 4s 4ms/step - loss: 3.9189 - mae: 0.8093 - val_loss: 7.6480 - val_mae: 1.2111\n",
      "Epoch 334/500\n",
      "913/913 [==============================] - 4s 4ms/step - loss: 4.5390 - mae: 0.8591 - val_loss: 3.4139 - val_mae: 0.7827\n",
      "Epoch 335/500\n",
      "913/913 [==============================] - 4s 4ms/step - loss: 4.2818 - mae: 0.8372 - val_loss: 4.0769 - val_mae: 0.9363\n",
      "Epoch 336/500\n",
      "913/913 [==============================] - 4s 4ms/step - loss: 3.2115 - mae: 0.7348 - val_loss: 1.6765 - val_mae: 0.5174\n",
      "Epoch 337/500\n",
      "913/913 [==============================] - 4s 4ms/step - loss: 5.2455 - mae: 0.9141 - val_loss: 4.4818 - val_mae: 0.8768\n",
      "Epoch 338/500\n",
      "913/913 [==============================] - 4s 4ms/step - loss: 5.8706 - mae: 0.9441 - val_loss: 3.1110 - val_mae: 0.7220\n",
      "Epoch 339/500\n",
      "913/913 [==============================] - 4s 4ms/step - loss: 3.0232 - mae: 0.7163 - val_loss: 2.7117 - val_mae: 0.6932\n",
      "Epoch 340/500\n",
      "913/913 [==============================] - 4s 4ms/step - loss: 3.8454 - mae: 0.7948 - val_loss: 2.7125 - val_mae: 0.6612\n",
      "Epoch 341/500\n",
      "913/913 [==============================] - 4s 4ms/step - loss: 5.8019 - mae: 0.9732 - val_loss: 9.8039 - val_mae: 1.5105\n",
      "Epoch 342/500\n",
      "913/913 [==============================] - 4s 4ms/step - loss: 3.9962 - mae: 0.8283 - val_loss: 6.3829 - val_mae: 1.0839\n",
      "Epoch 343/500\n",
      "913/913 [==============================] - 4s 4ms/step - loss: 2.7646 - mae: 0.6907 - val_loss: 12.1214 - val_mae: 1.4569\n",
      "Epoch 344/500\n",
      "913/913 [==============================] - 4s 4ms/step - loss: 4.8848 - mae: 0.8786 - val_loss: 1.9196 - val_mae: 0.6007\n",
      "Epoch 345/500\n",
      "913/913 [==============================] - 4s 4ms/step - loss: 2.9700 - mae: 0.7169 - val_loss: 3.0543 - val_mae: 0.7012\n",
      "Epoch 346/500\n",
      "913/913 [==============================] - 4s 4ms/step - loss: 4.6483 - mae: 0.8774 - val_loss: 3.1115 - val_mae: 0.7488\n",
      "Epoch 347/500\n",
      "913/913 [==============================] - 4s 4ms/step - loss: 4.2602 - mae: 0.8265 - val_loss: 4.2174 - val_mae: 0.7723\n",
      "Epoch 348/500\n",
      "913/913 [==============================] - 4s 4ms/step - loss: 4.0609 - mae: 0.8246 - val_loss: 3.2617 - val_mae: 0.7823\n",
      "Epoch 349/500\n",
      "913/913 [==============================] - 4s 4ms/step - loss: 2.4626 - mae: 0.6562 - val_loss: 2.9031 - val_mae: 0.6500\n",
      "Epoch 350/500\n",
      "913/913 [==============================] - 4s 4ms/step - loss: 3.7037 - mae: 0.7928 - val_loss: 4.9317 - val_mae: 1.0520\n",
      "Epoch 351/500\n",
      "913/913 [==============================] - 4s 4ms/step - loss: 5.9314 - mae: 0.9733 - val_loss: 1.7292 - val_mae: 0.5587\n",
      "Epoch 352/500\n",
      "913/913 [==============================] - 4s 4ms/step - loss: 2.8844 - mae: 0.7047 - val_loss: 2.8031 - val_mae: 0.6839\n",
      "Epoch 353/500\n",
      "913/913 [==============================] - 4s 4ms/step - loss: 2.9826 - mae: 0.7226 - val_loss: 2.2551 - val_mae: 0.5450\n",
      "Epoch 354/500\n",
      "913/913 [==============================] - 4s 4ms/step - loss: 5.2696 - mae: 0.9393 - val_loss: 5.3791 - val_mae: 0.9061\n",
      "Epoch 355/500\n",
      "913/913 [==============================] - 4s 4ms/step - loss: 5.7281 - mae: 0.9442 - val_loss: 3.1752 - val_mae: 0.7247\n",
      "Epoch 356/500\n",
      "913/913 [==============================] - 4s 4ms/step - loss: 3.9825 - mae: 0.8138 - val_loss: 2.7049 - val_mae: 0.7164\n",
      "Epoch 357/500\n",
      "913/913 [==============================] - 4s 4ms/step - loss: 3.6064 - mae: 0.7676 - val_loss: 3.6224 - val_mae: 0.8209\n",
      "Epoch 358/500\n",
      "913/913 [==============================] - 4s 4ms/step - loss: 5.0755 - mae: 0.8995 - val_loss: 10.1231 - val_mae: 1.2693\n",
      "Epoch 359/500\n",
      "913/913 [==============================] - 4s 4ms/step - loss: 4.1721 - mae: 0.8284 - val_loss: 2.9419 - val_mae: 0.6862\n",
      "Epoch 360/500\n",
      "913/913 [==============================] - 4s 4ms/step - loss: 3.9011 - mae: 0.7909 - val_loss: 1.9963 - val_mae: 0.5884\n",
      "Epoch 361/500\n",
      "913/913 [==============================] - 4s 4ms/step - loss: 3.7670 - mae: 0.7742 - val_loss: 9.3339 - val_mae: 1.3187\n",
      "Epoch 362/500\n",
      "913/913 [==============================] - 4s 4ms/step - loss: 4.3400 - mae: 0.8497 - val_loss: 4.6457 - val_mae: 0.9551\n",
      "Epoch 363/500\n",
      "913/913 [==============================] - 4s 4ms/step - loss: 3.1128 - mae: 0.7208 - val_loss: 3.4547 - val_mae: 0.7951\n",
      "Epoch 364/500\n",
      "913/913 [==============================] - 4s 4ms/step - loss: 3.8626 - mae: 0.7909 - val_loss: 5.0503 - val_mae: 0.8968\n",
      "Epoch 365/500\n",
      "913/913 [==============================] - 4s 4ms/step - loss: 3.9747 - mae: 0.7950 - val_loss: 3.4585 - val_mae: 0.7246\n",
      "Epoch 366/500\n",
      "913/913 [==============================] - 4s 4ms/step - loss: 3.6802 - mae: 0.7796 - val_loss: 2.7821 - val_mae: 0.7864\n",
      "Epoch 367/500\n",
      "913/913 [==============================] - 4s 4ms/step - loss: 3.8129 - mae: 0.8097 - val_loss: 2.8056 - val_mae: 0.7011\n",
      "Epoch 368/500\n",
      "913/913 [==============================] - 4s 4ms/step - loss: 3.2726 - mae: 0.7389 - val_loss: 2.1920 - val_mae: 0.6359\n",
      "Epoch 369/500\n",
      "913/913 [==============================] - 4s 4ms/step - loss: 5.0911 - mae: 0.9103 - val_loss: 2.5185 - val_mae: 0.6679\n",
      "Epoch 370/500\n",
      "913/913 [==============================] - 4s 4ms/step - loss: 3.8384 - mae: 0.7913 - val_loss: 1.6573 - val_mae: 0.5727\n",
      "Epoch 371/500\n",
      "913/913 [==============================] - 4s 4ms/step - loss: 4.0314 - mae: 0.8075 - val_loss: 2.4296 - val_mae: 0.6603\n",
      "Epoch 372/500\n",
      "913/913 [==============================] - 4s 4ms/step - loss: 5.1721 - mae: 0.9120 - val_loss: 3.8694 - val_mae: 0.7933\n",
      "Epoch 373/500\n",
      "913/913 [==============================] - 4s 4ms/step - loss: 3.7874 - mae: 0.7923 - val_loss: 2.3240 - val_mae: 0.5688\n",
      "Epoch 374/500\n",
      "913/913 [==============================] - 4s 4ms/step - loss: 4.3789 - mae: 0.8482 - val_loss: 2.6068 - val_mae: 0.6934\n",
      "Epoch 375/500\n",
      "913/913 [==============================] - 4s 4ms/step - loss: 3.0216 - mae: 0.7073 - val_loss: 2.7861 - val_mae: 0.7243\n",
      "Epoch 376/500\n",
      "913/913 [==============================] - 4s 4ms/step - loss: 3.8050 - mae: 0.7847 - val_loss: 1.9975 - val_mae: 0.6027\n",
      "Epoch 377/500\n",
      "913/913 [==============================] - 4s 4ms/step - loss: 2.6171 - mae: 0.6753 - val_loss: 5.6806 - val_mae: 0.9697\n",
      "Epoch 378/500\n",
      "913/913 [==============================] - 4s 4ms/step - loss: 3.2780 - mae: 0.7334 - val_loss: 1.7553 - val_mae: 0.5627\n",
      "Epoch 379/500\n",
      "913/913 [==============================] - 4s 4ms/step - loss: 6.0451 - mae: 0.9689 - val_loss: 4.9185 - val_mae: 0.9068\n",
      "Epoch 380/500\n",
      "913/913 [==============================] - 4s 4ms/step - loss: 4.2680 - mae: 0.8092 - val_loss: 1.7035 - val_mae: 0.5462\n",
      "Epoch 381/500\n",
      "913/913 [==============================] - 4s 4ms/step - loss: 4.3538 - mae: 0.8158 - val_loss: 2.9980 - val_mae: 0.6774\n",
      "Epoch 382/500\n",
      "913/913 [==============================] - 4s 4ms/step - loss: 4.9384 - mae: 0.9124 - val_loss: 4.1221 - val_mae: 0.8456\n",
      "Epoch 383/500\n",
      "913/913 [==============================] - 4s 4ms/step - loss: 3.8151 - mae: 0.7982 - val_loss: 1.7278 - val_mae: 0.5679\n",
      "Epoch 384/500\n",
      "913/913 [==============================] - 4s 4ms/step - loss: 3.8287 - mae: 0.7941 - val_loss: 3.6922 - val_mae: 0.8095\n",
      "Epoch 385/500\n",
      "913/913 [==============================] - 4s 4ms/step - loss: 2.9770 - mae: 0.7138 - val_loss: 1.7425 - val_mae: 0.5342\n",
      "Epoch 386/500\n",
      "913/913 [==============================] - 4s 4ms/step - loss: 4.1184 - mae: 0.8188 - val_loss: 2.7582 - val_mae: 0.7618\n",
      "Epoch 387/500\n",
      "913/913 [==============================] - 4s 4ms/step - loss: 3.1079 - mae: 0.7231 - val_loss: 2.6353 - val_mae: 0.6866\n",
      "Epoch 388/500\n",
      "913/913 [==============================] - 4s 4ms/step - loss: 3.0057 - mae: 0.7015 - val_loss: 2.6801 - val_mae: 0.7235\n",
      "Epoch 389/500\n",
      "913/913 [==============================] - 4s 4ms/step - loss: 3.7072 - mae: 0.7777 - val_loss: 2.3960 - val_mae: 0.6247\n",
      "Epoch 390/500\n",
      "913/913 [==============================] - 4s 4ms/step - loss: 4.5440 - mae: 0.8505 - val_loss: 1.6850 - val_mae: 0.5757\n",
      "Epoch 391/500\n",
      "913/913 [==============================] - 4s 4ms/step - loss: 3.8264 - mae: 0.7717 - val_loss: 4.5117 - val_mae: 0.9695\n",
      "Epoch 392/500\n",
      "913/913 [==============================] - 4s 4ms/step - loss: 3.7425 - mae: 0.7792 - val_loss: 1.9806 - val_mae: 0.5718\n",
      "Epoch 393/500\n",
      "913/913 [==============================] - 4s 4ms/step - loss: 3.7440 - mae: 0.7819 - val_loss: 2.0326 - val_mae: 0.5845\n",
      "Epoch 394/500\n",
      "913/913 [==============================] - 4s 4ms/step - loss: 3.1913 - mae: 0.7396 - val_loss: 1.9804 - val_mae: 0.5906\n",
      "Epoch 395/500\n",
      "913/913 [==============================] - 4s 4ms/step - loss: 2.7669 - mae: 0.6919 - val_loss: 1.8858 - val_mae: 0.5721\n",
      "Epoch 396/500\n",
      "913/913 [==============================] - 4s 4ms/step - loss: 4.7203 - mae: 0.8750 - val_loss: 5.0764 - val_mae: 0.9372\n",
      "Epoch 397/500\n",
      "913/913 [==============================] - 4s 4ms/step - loss: 2.9224 - mae: 0.6950 - val_loss: 3.7332 - val_mae: 0.7848\n",
      "Epoch 398/500\n",
      "913/913 [==============================] - 4s 4ms/step - loss: 4.2984 - mae: 0.8265 - val_loss: 2.3012 - val_mae: 0.6355\n",
      "Epoch 399/500\n",
      "913/913 [==============================] - 4s 4ms/step - loss: 3.8893 - mae: 0.7932 - val_loss: 2.5487 - val_mae: 0.6566\n",
      "Epoch 400/500\n",
      "913/913 [==============================] - 4s 4ms/step - loss: 4.2608 - mae: 0.8359 - val_loss: 3.1131 - val_mae: 0.7225\n",
      "Epoch 401/500\n",
      "913/913 [==============================] - 4s 4ms/step - loss: 2.9121 - mae: 0.6957 - val_loss: 9.0135 - val_mae: 1.2656\n",
      "Epoch 402/500\n",
      "913/913 [==============================] - 4s 4ms/step - loss: 5.1856 - mae: 0.9144 - val_loss: 3.9059 - val_mae: 0.8593\n",
      "Epoch 403/500\n",
      "913/913 [==============================] - 4s 4ms/step - loss: 3.3381 - mae: 0.7543 - val_loss: 2.5809 - val_mae: 0.7200\n",
      "Epoch 404/500\n",
      "913/913 [==============================] - 4s 4ms/step - loss: 3.4581 - mae: 0.7320 - val_loss: 1.7166 - val_mae: 0.5010\n",
      "Epoch 405/500\n",
      "913/913 [==============================] - 4s 4ms/step - loss: 5.2692 - mae: 0.9078 - val_loss: 2.7947 - val_mae: 0.7374\n",
      "Epoch 406/500\n",
      "913/913 [==============================] - 4s 4ms/step - loss: 3.6455 - mae: 0.7845 - val_loss: 3.0198 - val_mae: 0.6768\n",
      "Epoch 407/500\n",
      "913/913 [==============================] - 4s 4ms/step - loss: 2.9745 - mae: 0.7148 - val_loss: 4.0937 - val_mae: 0.9255\n",
      "Epoch 408/500\n",
      "913/913 [==============================] - 4s 4ms/step - loss: 2.9572 - mae: 0.7060 - val_loss: 2.8173 - val_mae: 0.6690\n",
      "Epoch 409/500\n",
      "913/913 [==============================] - 4s 4ms/step - loss: 4.1576 - mae: 0.8103 - val_loss: 3.0528 - val_mae: 0.7218\n",
      "Epoch 410/500\n",
      "913/913 [==============================] - 4s 4ms/step - loss: 3.3418 - mae: 0.7541 - val_loss: 1.8557 - val_mae: 0.5727\n",
      "Epoch 411/500\n",
      "913/913 [==============================] - 4s 4ms/step - loss: 3.0221 - mae: 0.7038 - val_loss: 4.6278 - val_mae: 1.1521\n",
      "Epoch 412/500\n",
      "913/913 [==============================] - 4s 4ms/step - loss: 4.1935 - mae: 0.8462 - val_loss: 11.0735 - val_mae: 1.3281\n",
      "Epoch 413/500\n",
      "913/913 [==============================] - 4s 4ms/step - loss: 3.3936 - mae: 0.7639 - val_loss: 6.5126 - val_mae: 1.0389\n",
      "Epoch 414/500\n",
      "913/913 [==============================] - 4s 4ms/step - loss: 3.4766 - mae: 0.7608 - val_loss: 4.2334 - val_mae: 0.9404\n",
      "Epoch 415/500\n",
      "913/913 [==============================] - 4s 4ms/step - loss: 2.5043 - mae: 0.6467 - val_loss: 1.8733 - val_mae: 0.6184\n",
      "Epoch 416/500\n",
      "913/913 [==============================] - 4s 4ms/step - loss: 3.5282 - mae: 0.7713 - val_loss: 5.7244 - val_mae: 1.0539\n",
      "Epoch 417/500\n",
      "913/913 [==============================] - 4s 4ms/step - loss: 3.2422 - mae: 0.7346 - val_loss: 3.7514 - val_mae: 0.7759\n",
      "Epoch 418/500\n",
      "913/913 [==============================] - 4s 4ms/step - loss: 3.3126 - mae: 0.7331 - val_loss: 4.3015 - val_mae: 0.8536\n",
      "Epoch 419/500\n",
      "913/913 [==============================] - 4s 4ms/step - loss: 3.4861 - mae: 0.7486 - val_loss: 2.0128 - val_mae: 0.5586\n",
      "Epoch 420/500\n",
      "913/913 [==============================] - 4s 4ms/step - loss: 3.4670 - mae: 0.7542 - val_loss: 2.6298 - val_mae: 0.7008\n"
     ]
    }
   ],
   "source": [
    "history = ann.fit(X_train, y_train,\n",
    "                    validation_data = (X_val, y_val),\n",
    "                    callbacks=[es],\n",
    "                    epochs=500,\n",
    "                    batch_size=30,\n",
    "                    verbose=1)"
   ]
  },
  {
   "cell_type": "markdown",
   "metadata": {
    "colab_type": "text",
    "id": "0H0zKKNEBLD5"
   },
   "source": [
    "### Analyse learn history"
   ]
  },
  {
   "cell_type": "code",
   "execution_count": 24,
   "metadata": {
    "ExecuteTime": {
     "end_time": "2024-08-01T04:11:26.359518500Z",
     "start_time": "2024-08-01T04:11:25.742558Z"
    }
   },
   "outputs": [
    {
     "data": {
      "text/plain": "<Figure size 640x480 with 1 Axes>",
      "image/png": "[encoded data removed]"
     },
     "metadata": {},
     "output_type": "display_data"
    }
   ],
   "source": [
    "# let's see the training and validation accuracy by epoch\n",
    "history_dict = history.history\n",
    "loss_values = history_dict['loss'] # you can change this\n",
    "val_loss_values = history_dict['val_loss'] # you can also change this\n",
    "epochs = range(1, len(loss_values) + 1) # range of X (no. of epochs)\n",
    "plt.plot(epochs, loss_values, 'blue', label='Train set loss')\n",
    "plt.plot(epochs, val_loss_values, 'orange', label='Validation set loss')\n",
    "#plt.title('Training and testing loss')\n",
    "plt.xlabel('Epochs')\n",
    "plt.ylabel('Loss (MSE)')\n",
    "plt.legend()\n",
    "plt.savefig('Section4_ANN1_2.png', dpi=300, bbox_inches='tight')\n",
    "plt.show()"
   ]
  },
  {
   "cell_type": "code",
   "execution_count": 25,
   "metadata": {
    "ExecuteTime": {
     "end_time": "2024-08-01T04:11:36.742813900Z",
     "start_time": "2024-08-01T04:11:36.336442800Z"
    }
   },
   "outputs": [
    {
     "data": {
      "text/plain": "<Figure size 640x480 with 1 Axes>",
      "image/png": "[encoded data removed]"
     },
     "metadata": {},
     "output_type": "display_data"
    }
   ],
   "source": [
    "loss_values1 = history_dict['mae'] # you can change this\n",
    "val_loss_values1 = history_dict['val_mae'] # you can also change this\n",
    "epochs = range(1, len(loss_values1) + 1) # range of X (no. of epochs)\n",
    "plt.plot(epochs, loss_values1, 'blue', label='Train set MAE')\n",
    "plt.plot(epochs, val_loss_values1, 'orange', label='Validation set MAE')\n",
    "#plt.title('Training and testing MAE')\n",
    "plt.xlabel('Epochs')\n",
    "plt.ylabel('MAE')\n",
    "plt.legend()\n",
    "plt.savefig('Section4_ANN1_3.png', dpi=300, bbox_inches='tight')\n",
    "plt.show()"
   ]
  },
  {
   "cell_type": "code",
   "execution_count": null,
   "metadata": {},
   "outputs": [],
   "source": [
    "print (epochs)"
   ]
  },
  {
   "cell_type": "markdown",
   "metadata": {},
   "source": [
    "### Save the model"
   ]
  },
  {
   "cell_type": "code",
   "execution_count": null,
   "metadata": {},
   "outputs": [],
   "source": [
    "ann.save('Section4_new_ANN_1')\n",
    "import pickle\n",
    "pickle.dump(sc, open('Section4_new_scaler_ANN_1.pkl', 'wb'))"
   ]
  },
  {
   "cell_type": "markdown",
   "metadata": {},
   "source": [
    "## Part 5 - Make predictions"
   ]
  },
  {
   "cell_type": "code",
   "execution_count": null,
   "metadata": {},
   "outputs": [],
   "source": [
    "ann = load_model('ANN_13.h5')\n",
    "sc = pickle.load(open('scaler_ANN.pkl', 'rb'))"
   ]
  },
  {
   "cell_type": "code",
   "execution_count": 26,
   "metadata": {
    "ExecuteTime": {
     "end_time": "2024-08-01T04:11:47.524039500Z",
     "start_time": "2024-08-01T04:11:43.454207200Z"
    }
   },
   "outputs": [
    {
     "name": "stdout",
     "output_type": "stream",
     "text": [
      "856/856 [==============================] - 2s 2ms/step\n",
      "286/286 [==============================] - 1s 2ms/step\n"
     ]
    },
    {
     "data": {
      "text/plain": "<Figure size 640x480 with 2 Axes>",
      "image/png": "[encoded data removed]"
     },
     "metadata": {},
     "output_type": "display_data"
    }
   ],
   "source": [
    "# scatterplot of actual vs. pred\n",
    "# specify the dimensions \n",
    "fig, axes = plt.subplots(1,2) # 1 row, 2 columns\n",
    "\n",
    "# this makes the individual subplots\n",
    "# Training Results\n",
    "axes[0].scatter(x=y_train, y=ann.predict(X_train)) #first row, first entry (left top)\n",
    "axes[0].set_xlabel(\"Actual\", fontsize=10)\n",
    "axes[0].set_ylabel(\"Predicted\",  fontsize=10)\n",
    "axes[0].set_title(\"Training\")\n",
    "# add 45 deg line\n",
    "x = np.linspace(*axes[0].get_xlim())\n",
    "axes[0].plot(x, x, color='red')\n",
    "# Validation Results\n",
    "axes[1].scatter(x=y_val, y=ann.predict(X_val)) # first row, second entry (right top)\n",
    "axes[1].set_xlabel(\"Actual\", fontsize=10)\n",
    "axes[1].set_ylabel(\"Predicted\",  fontsize=10)\n",
    "axes[1].set_title(\"Validation\")\n",
    "# add 45 deg line\n",
    "x = np.linspace(*axes[1].get_xlim())\n",
    "axes[1].plot(x, x, color='red')\n",
    "\n",
    "# tight layout\n",
    "fig.tight_layout()\n",
    "\n",
    "plt.savefig('Section4_ANN1_1.png', dpi=300, bbox_inches='tight')\n",
    "# show the plot\n",
    "plt.show()"
   ]
  },
  {
   "cell_type": "code",
   "execution_count": 37,
   "metadata": {
    "colab": {
     "base_uri": "https://localhost:8080/",
     "height": 134
    },
    "colab_type": "code",
    "id": "IA0yApEmBG1X",
    "outputId": "cb981e1f-9204-4a2a-fece-9d66a6919189",
    "ExecuteTime": {
     "end_time": "2024-08-01T04:30:43.325722600Z",
     "start_time": "2024-08-01T04:30:42.587138500Z"
    }
   },
   "outputs": [
    {
     "name": "stdout",
     "output_type": "stream",
     "text": [
      "286/286 [==============================] - 1s 2ms/step\n",
      "[[19.63 19.32]\n",
      " [35.19 33.45]\n",
      " [ 1.14  0.95]\n",
      " ...\n",
      " [ 4.78  5.1 ]\n",
      " [25.84 24.99]\n",
      " [ 0.15  0.06]]\n"
     ]
    }
   ],
   "source": [
    "y_pred = ann.predict(X_test)\n",
    "np.set_printoptions(precision=2)\n",
    "print(np.concatenate((y_pred.reshape(len(y_pred),1), y_test.reshape(len(y_test),1)),1))"
   ]
  },
  {
   "cell_type": "code",
   "execution_count": 38,
   "metadata": {
    "ExecuteTime": {
     "end_time": "2024-08-01T04:30:45.082310100Z",
     "start_time": "2024-08-01T04:30:44.857024600Z"
    }
   },
   "outputs": [
    {
     "data": {
      "text/plain": "Text(0, 0.5, 'Predicted data')"
     },
     "execution_count": 38,
     "metadata": {},
     "output_type": "execute_result"
    },
    {
     "data": {
      "text/plain": "<Figure size 640x480 with 1 Axes>",
      "image/png": "[encoded data removed]"
     },
     "metadata": {},
     "output_type": "display_data"
    }
   ],
   "source": [
    "import matplotlib.pyplot as plt\n",
    "plt.scatter(y_test, y_pred, color=\"blue\")\n",
    "#plt.plot ([0,1200000],[0,1200000], color = \"red\")\n",
    "#plt.axis ([0,1200000,0,1200000])\n",
    "plt.xlabel ('Actual data')\n",
    "plt.ylabel ('Predicted data')"
   ]
  },
  {
   "cell_type": "code",
   "execution_count": 39,
   "metadata": {
    "ExecuteTime": {
     "end_time": "2024-08-01T04:30:48.265427600Z",
     "start_time": "2024-08-01T04:30:47.142841300Z"
    }
   },
   "outputs": [
    {
     "data": {
      "text/plain": "<Figure size 900x900 with 1 Axes>",
      "image/png": "[encoded data removed]"
     },
     "metadata": {},
     "output_type": "display_data"
    }
   ],
   "source": [
    "from sklearn.metrics import r2_score\n",
    "# Initialize layout\n",
    "fig1, ax1 = plt.subplots(figsize = (9, 9))\n",
    "b_l = -10\n",
    "u_l = 110\n",
    "\n",
    "# Add scatterplot\n",
    "ax1.scatter(y_test, y_pred, s=70, alpha=1, edgecolors=\"k\",c='mediumblue',zorder=5, label = 'Points')\n",
    "\n",
    "\n",
    "plt.ylabel('Predicted Incident Pressure (kPa)',fontsize = 25)\n",
    "plt.xlabel('Target Incident Pressure (kPa)',fontsize = 25)\n",
    "plt.xticks(fontsize = 19)\n",
    "plt.yticks(fontsize = 19)\n",
    "\n",
    "\n",
    "x1 = np.linspace(b_l, u_l)\n",
    "\n",
    "plt.plot(x1, x1, 'Red', label='45\\N{DEGREE SIGN} line',lw=2.5,alpha=1)\n",
    "plt.plot(x1, 1.05*x1, '--m', label='\\u00B15% Error',lw=2.5,alpha=0.7)\n",
    "plt.plot(x1, 0.95*x1,'m', linestyle='--',lw=2.5,alpha=0.7)\n",
    "plt.plot(x1, 1.1*x1, '-.g', label='\\u00B110% Error',lw=2.5,alpha=0.7)\n",
    "plt.plot(x1, 0.9*x1,'-.g',lw=2.5,alpha=0.7)\n",
    "plt.plot(x1, 1.2*x1, color = '#F97306', linestyle='dotted', label='\\u00B120% Error',lw=2.5,alpha=0.7)\n",
    "plt.plot(x1, 0.8*x1,color = '#F97306', linestyle='dotted', lw=2.5,alpha=0.7)\n",
    "\n",
    "plt.ylim(b_l, u_l)\n",
    "plt.xlim(b_l, u_l)\n",
    "plt.legend(loc='upper left',fontsize = 21)\n",
    "\n",
    "plt.grid()\n",
    "\n",
    "ax1.spines['left'].set_color('black')        # setting up Y-axis tick color to red\n",
    "ax1.spines['bottom'].set_color('black')         #setting up above X-axis tick color to red\n",
    "\n",
    "# Save the plot\n",
    "plt.savefig('Section4_ANN1.png', dpi=300, bbox_inches='tight')"
   ]
  },
  {
   "cell_type": "code",
   "execution_count": 40,
   "metadata": {
    "ExecuteTime": {
     "end_time": "2024-08-01T04:30:54.583028700Z",
     "start_time": "2024-08-01T04:30:52.612780900Z"
    }
   },
   "outputs": [
    {
     "name": "stdout",
     "output_type": "stream",
     "text": [
      "856/856 [==============================] - 2s 2ms/step\n",
      "0.5424027884454982\n",
      "0.560435567952746\n"
     ]
    }
   ],
   "source": [
    "# metrics\n",
    "trainpreds = ann.predict(X_train)\n",
    "\n",
    "from sklearn.metrics import mean_absolute_error\n",
    "print(mean_absolute_error(y_train, trainpreds)) # train\n",
    "print(mean_absolute_error(y_test, y_pred)) # test"
   ]
  },
  {
   "cell_type": "code",
   "execution_count": 41,
   "metadata": {
    "ExecuteTime": {
     "end_time": "2024-08-01T04:30:55.941966700Z",
     "start_time": "2024-08-01T04:30:55.894909600Z"
    }
   },
   "outputs": [
    {
     "name": "stdout",
     "output_type": "stream",
     "text": [
      "0.9867268230028515\n"
     ]
    }
   ],
   "source": [
    "from sklearn.metrics import r2_score\n",
    "r2 = r2_score(y_test, y_pred)\n",
    "print (r2)"
   ]
  },
  {
   "cell_type": "code",
   "execution_count": 42,
   "metadata": {
    "ExecuteTime": {
     "end_time": "2024-08-01T04:30:57.126791900Z",
     "start_time": "2024-08-01T04:30:57.095274500Z"
    }
   },
   "outputs": [
    {
     "name": "stdout",
     "output_type": "stream",
     "text": [
      "0.9864094819886349\n"
     ]
    }
   ],
   "source": [
    "r2_train = r2_score(y_train, trainpreds)\n",
    "print (r2_train)"
   ]
  },
  {
   "cell_type": "code",
   "execution_count": 33,
   "metadata": {
    "ExecuteTime": {
     "end_time": "2024-08-01T04:13:01.864999400Z",
     "start_time": "2024-08-01T04:13:01.114724100Z"
    }
   },
   "outputs": [
    {
     "name": "stdout",
     "output_type": "stream",
     "text": [
      "Within 5% margin 30.73%\n",
      "Within 10% margin 49.13%\n",
      "Within 20% margin 63.44%\n",
      "Out of 20% margin 36.56%\n"
     ]
    }
   ],
   "source": [
    "count0 = 0\n",
    "for i in range(len(y_pred)):\n",
    "    line1 = y_pred[i] - 0.95*y_test[i]\n",
    "    line2 = y_pred[i] - 1.05*y_test[i]\n",
    "    mask0 = (line1 > 0) & (line2 < 0)\n",
    "    count0 = np.sum(mask0+count0)\n",
    "\n",
    "count1 = 0\n",
    "for i in range(len(y_pred)):\n",
    "    line1 = y_pred[i] - 0.9*y_test[i]\n",
    "    line2 = y_pred[i] - 1.1*y_test[i]\n",
    "    mask1 = (line1 > 0) & (line2 < 0)\n",
    "    count1 = np.sum(mask1+count1)\n",
    "\n",
    "count2 = 0\n",
    "for j in range(len(y_pred)):\n",
    "    line3 = y_pred[j] - 0.8*y_test[j]\n",
    "    line4 = y_pred[j] - 1.2*y_test[j]\n",
    "    mask2 = (line3 > 0) & (line4 < 0)\n",
    "    count2 = np.sum(mask2+count2)\n",
    "\n",
    "\n",
    "count3 = 0    \n",
    "for k in range(len(y_pred)):\n",
    "    line5 = y_pred[k] - 0.8*y_test[k]\n",
    "    line6 = y_pred[k] - 1.2*y_test[k]\n",
    "    mask3 = (line5 < 0) or (line6 > 0)\n",
    "    count3 = np.sum(mask3+count3)\n",
    "   \n",
    "\n",
    "print ('Within 5% margin', format((count0/len (y_pred)),'.2%'))\n",
    "print ('Within 10% margin', format((count1/len (y_pred)),'.2%'))\n",
    "print ('Within 20% margin', format((count2/len (y_pred)),'.2%'))\n",
    "print ('Out of 20% margin', format((count3/len (y_pred)),'.2%'))"
   ]
  },
  {
   "cell_type": "code",
   "execution_count": 34,
   "metadata": {
    "ExecuteTime": {
     "end_time": "2024-08-01T04:13:08.508565100Z",
     "start_time": "2024-08-01T04:13:08.493509100Z"
    }
   },
   "outputs": [
    {
     "name": "stdout",
     "output_type": "stream",
     "text": [
      "0.9867166352573493\n"
     ]
    }
   ],
   "source": [
    "adj_r2 = 1 - ((1 - r2) * (len(X_test) - 1) / (len(X_test) - len (X_test[0]) - 1))\n",
    "print (adj_r2)"
   ]
  },
  {
   "cell_type": "code",
   "execution_count": 35,
   "metadata": {
    "ExecuteTime": {
     "end_time": "2024-08-01T04:13:09.744998600Z",
     "start_time": "2024-08-01T04:13:09.713343900Z"
    }
   },
   "outputs": [
    {
     "data": {
      "text/plain": "1.2370761749278982"
     },
     "execution_count": 35,
     "metadata": {},
     "output_type": "execute_result"
    }
   ],
   "source": [
    "import math\n",
    "from sklearn.metrics import mean_squared_error\n",
    "\n",
    "math.sqrt(mean_squared_error(y_test, y_pred))"
   ]
  },
  {
   "cell_type": "code",
   "execution_count": 36,
   "metadata": {
    "ExecuteTime": {
     "end_time": "2024-08-01T04:13:10.672133600Z",
     "start_time": "2024-08-01T04:13:10.649986900Z"
    }
   },
   "outputs": [
    {
     "data": {
      "text/plain": "0.560435567952746"
     },
     "execution_count": 36,
     "metadata": {},
     "output_type": "execute_result"
    }
   ],
   "source": [
    "from sklearn.metrics import mean_absolute_error\n",
    "\n",
    "mean_absolute_error(y_test, y_pred)"
   ]
  }
 ],
 "metadata": {
  "colab": {
   "collapsed_sections": [],
   "name": "Artificial Neural Network",
   "provenance": [],
   "toc_visible": true
  },
  "kernelspec": {
   "display_name": "Python 3 (ipykernel)",
   "language": "python",
   "name": "python3"
  },
  "language_info": {
   "codemirror_mode": {
    "name": "ipython",
    "version": 3
   },
   "file_extension": ".py",
   "mimetype": "text/x-python",
   "name": "python",
   "nbconvert_exporter": "python",
   "pygments_lexer": "ipython3",
   "version": "3.9.7"
  }
 },
 "nbformat": 4,
 "nbformat_minor": 4
}
