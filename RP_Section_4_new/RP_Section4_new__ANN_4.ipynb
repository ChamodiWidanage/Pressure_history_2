{
 "cells": [
  {
   "cell_type": "markdown",
   "metadata": {
    "colab_type": "text",
    "id": "3cbb7fRy-eyr"
   },
   "source": [
    "# Artificial Neural Network"
   ]
  },
  {
   "cell_type": "markdown",
   "metadata": {
    "colab_type": "text",
    "id": "8sNDnxE2-pwE"
   },
   "source": [
    "## Part 1 - Importing the libraries"
   ]
  },
  {
   "cell_type": "code",
   "execution_count": 1,
   "metadata": {
    "colab": {},
    "colab_type": "code",
    "id": "lxChR1Rk-umf",
    "ExecuteTime": {
     "end_time": "2024-08-01T04:33:07.868752900Z",
     "start_time": "2024-08-01T04:33:03.359550900Z"
    }
   },
   "outputs": [],
   "source": [
    "import numpy as np\n",
    "import pandas as pd\n",
    "import tensorflow as tf\n",
    "import matplotlib.pyplot as plt\n",
    "from keras.models import load_model\n",
    "from pathlib import Path\n",
    "import pickle"
   ]
  },
  {
   "cell_type": "markdown",
   "metadata": {
    "colab_type": "text",
    "id": "AG3FQEch-yuA"
   },
   "source": [
    "## Part 2 - Data Preprocessing"
   ]
  },
  {
   "cell_type": "markdown",
   "metadata": {
    "colab_type": "text",
    "id": "-4zq8Mza_D9O"
   },
   "source": [
    "### Importing the dataset"
   ]
  },
  {
   "cell_type": "code",
   "execution_count": 2,
   "metadata": {
    "ExecuteTime": {
     "end_time": "2024-08-01T04:33:09.850038300Z",
     "start_time": "2024-08-01T04:33:09.834471500Z"
    }
   },
   "outputs": [
    {
     "name": "stdout",
     "output_type": "stream",
     "text": [
      "input G:\\Chamodi\\LSDYNA3D\\RP_TH_models\\RP_Section_4_new\n",
      "2 [WindowsPath('G:/Chamodi/LSDYNA3D/RP_TH_models/RP_Section_4_new/RP_curves_fr13m'), WindowsPath('G:/Chamodi/LSDYNA3D/RP_TH_models/RP_Section_4_new/RP_curves_fr15m'), WindowsPath('G:/Chamodi/LSDYNA3D/RP_TH_models/RP_Section_4_new/RP_curves_fr17m'), WindowsPath('G:/Chamodi/LSDYNA3D/RP_TH_models/RP_Section_4_new/RP_curves_fr19m')]\n"
     ]
    }
   ],
   "source": [
    "#Access input folder\n",
    "current_dir = Path.cwd()\n",
    "input_dir1 = Path (\"G:/Chamodi/LSDYNA3D/RP_TH_models/RP_Section_4_new\")\n",
    "print (\"input\",input_dir1)\n",
    "\n",
    "#Access folders inside input folder\n",
    "input_dir2=  [folder1 for folder1 in input_dir1.iterdir() if folder1.is_dir()] # folder1 - RP_curves_fr7m\n",
    "print (\"2\",input_dir2)"
   ]
  },
  {
   "cell_type": "code",
   "execution_count": 3,
   "metadata": {
    "ExecuteTime": {
     "end_time": "2024-08-01T04:33:18.349946900Z",
     "start_time": "2024-08-01T04:33:11.006253300Z"
    }
   },
   "outputs": [
    {
     "name": "stdout",
     "output_type": "stream",
     "text": [
      "folder G:\\Chamodi\\LSDYNA3D\\RP_TH_models\\RP_Section_4_new\\RP_curves_fr13m\\13m00.5kg\n",
      "1.xlsx\n",
      "2.xlsx\n",
      "3.xlsx\n",
      "4.xlsx\n",
      "folder G:\\Chamodi\\LSDYNA3D\\RP_TH_models\\RP_Section_4_new\\RP_curves_fr13m\\13m02.5kg\n",
      "1.xlsx\n",
      "2.xlsx\n",
      "3.xlsx\n",
      "4.xlsx\n",
      "folder G:\\Chamodi\\LSDYNA3D\\RP_TH_models\\RP_Section_4_new\\RP_curves_fr13m\\13m04.5kg\n",
      "1.xlsx\n",
      "2.xlsx\n",
      "3.xlsx\n",
      "4.xlsx\n",
      "folder G:\\Chamodi\\LSDYNA3D\\RP_TH_models\\RP_Section_4_new\\RP_curves_fr13m\\13m06.5kg\n",
      "1.xlsx\n",
      "2.xlsx\n",
      "3.xlsx\n",
      "4.xlsx\n",
      "folder G:\\Chamodi\\LSDYNA3D\\RP_TH_models\\RP_Section_4_new\\RP_curves_fr13m\\13m08.5kg\n",
      "1.xlsx\n",
      "2.xlsx\n",
      "3.xlsx\n",
      "4.xlsx\n",
      "folder G:\\Chamodi\\LSDYNA3D\\RP_TH_models\\RP_Section_4_new\\RP_curves_fr13m\\13m10.5kg\n",
      "1.xlsx\n",
      "2.xlsx\n",
      "3.xlsx\n",
      "4.xlsx\n",
      "folder G:\\Chamodi\\LSDYNA3D\\RP_TH_models\\RP_Section_4_new\\RP_curves_fr13m\\13m12.5kg\n",
      "1.xlsx\n",
      "2.xlsx\n",
      "3.xlsx\n",
      "4.xlsx\n",
      "folder G:\\Chamodi\\LSDYNA3D\\RP_TH_models\\RP_Section_4_new\\RP_curves_fr13m\\13m14.5kg\n",
      "1.xlsx\n",
      "2.xlsx\n",
      "3.xlsx\n",
      "4.xlsx\n",
      "folder G:\\Chamodi\\LSDYNA3D\\RP_TH_models\\RP_Section_4_new\\RP_curves_fr13m\\13m16.5kg\n",
      "1.xlsx\n",
      "2.xlsx\n",
      "3.xlsx\n",
      "4.xlsx\n",
      "folder G:\\Chamodi\\LSDYNA3D\\RP_TH_models\\RP_Section_4_new\\RP_curves_fr13m\\13m18.5kg\n",
      "1.xlsx\n",
      "2.xlsx\n",
      "3.xlsx\n",
      "4.xlsx\n",
      "folder G:\\Chamodi\\LSDYNA3D\\RP_TH_models\\RP_Section_4_new\\RP_curves_fr13m\\13m20.5kg\n",
      "1.xlsx\n",
      "2.xlsx\n",
      "3.xlsx\n",
      "4.xlsx\n",
      "folder G:\\Chamodi\\LSDYNA3D\\RP_TH_models\\RP_Section_4_new\\RP_curves_fr13m\\13m22.5kg\n",
      "1.xlsx\n",
      "2.xlsx\n",
      "3.xlsx\n",
      "4.xlsx\n",
      "folder G:\\Chamodi\\LSDYNA3D\\RP_TH_models\\RP_Section_4_new\\RP_curves_fr13m\\13m24.5kg\n",
      "1.xlsx\n",
      "2.xlsx\n",
      "3.xlsx\n",
      "4.xlsx\n",
      "folder G:\\Chamodi\\LSDYNA3D\\RP_TH_models\\RP_Section_4_new\\RP_curves_fr13m\\13m26.5kg\n",
      "1.xlsx\n",
      "2.xlsx\n",
      "3.xlsx\n",
      "4.xlsx\n",
      "folder G:\\Chamodi\\LSDYNA3D\\RP_TH_models\\RP_Section_4_new\\RP_curves_fr13m\\13m28.5kg\n",
      "1.xlsx\n",
      "2.xlsx\n",
      "3.xlsx\n",
      "4.xlsx\n",
      "folder G:\\Chamodi\\LSDYNA3D\\RP_TH_models\\RP_Section_4_new\\RP_curves_fr13m\\13m30.5kg\n",
      "1.xlsx\n",
      "2.xlsx\n",
      "3.xlsx\n",
      "4.xlsx\n",
      "folder G:\\Chamodi\\LSDYNA3D\\RP_TH_models\\RP_Section_4_new\\RP_curves_fr13m\\13m32.5kg\n",
      "1.xlsx\n",
      "2.xlsx\n",
      "3.xlsx\n",
      "4.xlsx\n",
      "folder G:\\Chamodi\\LSDYNA3D\\RP_TH_models\\RP_Section_4_new\\RP_curves_fr13m\\13m34.5kg\n",
      "1.xlsx\n",
      "2.xlsx\n",
      "3.xlsx\n",
      "4.xlsx\n",
      "folder G:\\Chamodi\\LSDYNA3D\\RP_TH_models\\RP_Section_4_new\\RP_curves_fr13m\\13m35.0kg\n",
      "1.xlsx\n",
      "2.xlsx\n",
      "3.xlsx\n",
      "4.xlsx\n",
      "folder G:\\Chamodi\\LSDYNA3D\\RP_TH_models\\RP_Section_4_new\\RP_curves_fr15m\\15m00.5kg\n",
      "1.xlsx\n",
      "2.xlsx\n",
      "3.xlsx\n",
      "4.xlsx\n",
      "folder G:\\Chamodi\\LSDYNA3D\\RP_TH_models\\RP_Section_4_new\\RP_curves_fr15m\\15m02.5kg\n",
      "1.xlsx\n",
      "2.xlsx\n",
      "3.xlsx\n",
      "4.xlsx\n",
      "folder G:\\Chamodi\\LSDYNA3D\\RP_TH_models\\RP_Section_4_new\\RP_curves_fr15m\\15m04.5kg\n",
      "1.xlsx\n",
      "2.xlsx\n",
      "3.xlsx\n",
      "4.xlsx\n",
      "folder G:\\Chamodi\\LSDYNA3D\\RP_TH_models\\RP_Section_4_new\\RP_curves_fr15m\\15m06.5kg\n",
      "1.xlsx\n",
      "2.xlsx\n",
      "3.xlsx\n",
      "4.xlsx\n",
      "folder G:\\Chamodi\\LSDYNA3D\\RP_TH_models\\RP_Section_4_new\\RP_curves_fr15m\\15m08.5kg\n",
      "1.xlsx\n",
      "2.xlsx\n",
      "3.xlsx\n",
      "4.xlsx\n",
      "folder G:\\Chamodi\\LSDYNA3D\\RP_TH_models\\RP_Section_4_new\\RP_curves_fr15m\\15m10.5kg\n",
      "1.xlsx\n",
      "2.xlsx\n",
      "3.xlsx\n",
      "4.xlsx\n",
      "folder G:\\Chamodi\\LSDYNA3D\\RP_TH_models\\RP_Section_4_new\\RP_curves_fr15m\\15m12.5kg\n",
      "1.xlsx\n",
      "2.xlsx\n",
      "3.xlsx\n",
      "4.xlsx\n",
      "folder G:\\Chamodi\\LSDYNA3D\\RP_TH_models\\RP_Section_4_new\\RP_curves_fr15m\\15m14.5kg\n",
      "1.xlsx\n",
      "2.xlsx\n",
      "3.xlsx\n",
      "4.xlsx\n",
      "folder G:\\Chamodi\\LSDYNA3D\\RP_TH_models\\RP_Section_4_new\\RP_curves_fr15m\\15m16.5kg\n",
      "1.xlsx\n",
      "2.xlsx\n",
      "3.xlsx\n",
      "4.xlsx\n",
      "folder G:\\Chamodi\\LSDYNA3D\\RP_TH_models\\RP_Section_4_new\\RP_curves_fr15m\\15m18.5kg\n",
      "1.xlsx\n",
      "2.xlsx\n",
      "3.xlsx\n",
      "4.xlsx\n",
      "folder G:\\Chamodi\\LSDYNA3D\\RP_TH_models\\RP_Section_4_new\\RP_curves_fr15m\\15m20.5kg\n",
      "1.xlsx\n",
      "2.xlsx\n",
      "3.xlsx\n",
      "4.xlsx\n",
      "folder G:\\Chamodi\\LSDYNA3D\\RP_TH_models\\RP_Section_4_new\\RP_curves_fr15m\\15m22.5kg\n",
      "1.xlsx\n",
      "2.xlsx\n",
      "3.xlsx\n",
      "4.xlsx\n",
      "folder G:\\Chamodi\\LSDYNA3D\\RP_TH_models\\RP_Section_4_new\\RP_curves_fr15m\\15m24.5kg\n",
      "1.xlsx\n",
      "2.xlsx\n",
      "3.xlsx\n",
      "4.xlsx\n",
      "folder G:\\Chamodi\\LSDYNA3D\\RP_TH_models\\RP_Section_4_new\\RP_curves_fr15m\\15m26.5kg\n",
      "1.xlsx\n",
      "2.xlsx\n",
      "3.xlsx\n",
      "4.xlsx\n",
      "folder G:\\Chamodi\\LSDYNA3D\\RP_TH_models\\RP_Section_4_new\\RP_curves_fr15m\\15m28.5kg\n",
      "1.xlsx\n",
      "2.xlsx\n",
      "3.xlsx\n",
      "4.xlsx\n",
      "folder G:\\Chamodi\\LSDYNA3D\\RP_TH_models\\RP_Section_4_new\\RP_curves_fr15m\\15m30.5kg\n",
      "1.xlsx\n",
      "2.xlsx\n",
      "3.xlsx\n",
      "4.xlsx\n",
      "folder G:\\Chamodi\\LSDYNA3D\\RP_TH_models\\RP_Section_4_new\\RP_curves_fr15m\\15m32.5kg\n",
      "1.xlsx\n",
      "2.xlsx\n",
      "3.xlsx\n",
      "4.xlsx\n",
      "folder G:\\Chamodi\\LSDYNA3D\\RP_TH_models\\RP_Section_4_new\\RP_curves_fr15m\\15m34.5kg\n",
      "1.xlsx\n",
      "2.xlsx\n",
      "3.xlsx\n",
      "4.xlsx\n",
      "folder G:\\Chamodi\\LSDYNA3D\\RP_TH_models\\RP_Section_4_new\\RP_curves_fr15m\\15m35.0kg\n",
      "1.xlsx\n",
      "2.xlsx\n",
      "3.xlsx\n",
      "4.xlsx\n",
      "folder G:\\Chamodi\\LSDYNA3D\\RP_TH_models\\RP_Section_4_new\\RP_curves_fr17m\\17m00.5kg\n",
      "1.xlsx\n",
      "2.xlsx\n",
      "3.xlsx\n",
      "4.xlsx\n",
      "folder G:\\Chamodi\\LSDYNA3D\\RP_TH_models\\RP_Section_4_new\\RP_curves_fr17m\\17m02.5kg\n",
      "1.xlsx\n",
      "2.xlsx\n",
      "3.xlsx\n",
      "4.xlsx\n",
      "folder G:\\Chamodi\\LSDYNA3D\\RP_TH_models\\RP_Section_4_new\\RP_curves_fr17m\\17m04.5kg\n",
      "1.xlsx\n",
      "2.xlsx\n",
      "3.xlsx\n",
      "4.xlsx\n",
      "folder G:\\Chamodi\\LSDYNA3D\\RP_TH_models\\RP_Section_4_new\\RP_curves_fr17m\\17m06.5kg\n",
      "1.xlsx\n",
      "2.xlsx\n",
      "3.xlsx\n",
      "4.xlsx\n",
      "folder G:\\Chamodi\\LSDYNA3D\\RP_TH_models\\RP_Section_4_new\\RP_curves_fr17m\\17m08.5kg\n",
      "1.xlsx\n",
      "2.xlsx\n",
      "3.xlsx\n",
      "4.xlsx\n",
      "folder G:\\Chamodi\\LSDYNA3D\\RP_TH_models\\RP_Section_4_new\\RP_curves_fr17m\\17m10.5kg\n",
      "1.xlsx\n",
      "2.xlsx\n",
      "3.xlsx\n",
      "4.xlsx\n",
      "folder G:\\Chamodi\\LSDYNA3D\\RP_TH_models\\RP_Section_4_new\\RP_curves_fr17m\\17m12.5kg\n",
      "1.xlsx\n",
      "2.xlsx\n",
      "3.xlsx\n",
      "4.xlsx\n",
      "folder G:\\Chamodi\\LSDYNA3D\\RP_TH_models\\RP_Section_4_new\\RP_curves_fr17m\\17m14.5kg\n",
      "1.xlsx\n",
      "2.xlsx\n",
      "3.xlsx\n",
      "4.xlsx\n",
      "folder G:\\Chamodi\\LSDYNA3D\\RP_TH_models\\RP_Section_4_new\\RP_curves_fr17m\\17m16.5kg\n",
      "1.xlsx\n",
      "2.xlsx\n",
      "3.xlsx\n",
      "4.xlsx\n",
      "folder G:\\Chamodi\\LSDYNA3D\\RP_TH_models\\RP_Section_4_new\\RP_curves_fr17m\\17m18.5kg\n",
      "1.xlsx\n",
      "2.xlsx\n",
      "3.xlsx\n",
      "4.xlsx\n",
      "folder G:\\Chamodi\\LSDYNA3D\\RP_TH_models\\RP_Section_4_new\\RP_curves_fr17m\\17m20.5kg\n",
      "1.xlsx\n",
      "2.xlsx\n",
      "3.xlsx\n",
      "4.xlsx\n",
      "folder G:\\Chamodi\\LSDYNA3D\\RP_TH_models\\RP_Section_4_new\\RP_curves_fr17m\\17m22.5kg\n",
      "1.xlsx\n",
      "2.xlsx\n",
      "3.xlsx\n",
      "4.xlsx\n",
      "folder G:\\Chamodi\\LSDYNA3D\\RP_TH_models\\RP_Section_4_new\\RP_curves_fr17m\\17m24.5kg\n",
      "1.xlsx\n",
      "2.xlsx\n",
      "3.xlsx\n",
      "4.xlsx\n",
      "folder G:\\Chamodi\\LSDYNA3D\\RP_TH_models\\RP_Section_4_new\\RP_curves_fr17m\\17m26.5kg\n",
      "1.xlsx\n",
      "2.xlsx\n",
      "3.xlsx\n",
      "4.xlsx\n",
      "folder G:\\Chamodi\\LSDYNA3D\\RP_TH_models\\RP_Section_4_new\\RP_curves_fr17m\\17m28.5kg\n",
      "1.xlsx\n",
      "2.xlsx\n",
      "3.xlsx\n",
      "4.xlsx\n",
      "folder G:\\Chamodi\\LSDYNA3D\\RP_TH_models\\RP_Section_4_new\\RP_curves_fr17m\\17m30.5kg\n",
      "1.xlsx\n",
      "2.xlsx\n",
      "3.xlsx\n",
      "4.xlsx\n",
      "folder G:\\Chamodi\\LSDYNA3D\\RP_TH_models\\RP_Section_4_new\\RP_curves_fr17m\\17m32.5kg\n",
      "1.xlsx\n",
      "2.xlsx\n",
      "3.xlsx\n",
      "4.xlsx\n",
      "folder G:\\Chamodi\\LSDYNA3D\\RP_TH_models\\RP_Section_4_new\\RP_curves_fr17m\\17m34.5kg\n",
      "1.xlsx\n",
      "2.xlsx\n",
      "3.xlsx\n",
      "4.xlsx\n",
      "folder G:\\Chamodi\\LSDYNA3D\\RP_TH_models\\RP_Section_4_new\\RP_curves_fr17m\\17m35.0kg\n",
      "1.xlsx\n",
      "2.xlsx\n",
      "3.xlsx\n",
      "4.xlsx\n",
      "folder G:\\Chamodi\\LSDYNA3D\\RP_TH_models\\RP_Section_4_new\\RP_curves_fr19m\\19m00.5kg\n",
      "1.xlsx\n",
      "2.xlsx\n",
      "3.xlsx\n",
      "4.xlsx\n",
      "folder G:\\Chamodi\\LSDYNA3D\\RP_TH_models\\RP_Section_4_new\\RP_curves_fr19m\\19m02.5kg\n",
      "1.xlsx\n",
      "2.xlsx\n",
      "3.xlsx\n",
      "4.xlsx\n",
      "folder G:\\Chamodi\\LSDYNA3D\\RP_TH_models\\RP_Section_4_new\\RP_curves_fr19m\\19m04.5kg\n",
      "1.xlsx\n",
      "2.xlsx\n",
      "3.xlsx\n",
      "4.xlsx\n",
      "folder G:\\Chamodi\\LSDYNA3D\\RP_TH_models\\RP_Section_4_new\\RP_curves_fr19m\\19m06.5kg\n",
      "1.xlsx\n",
      "2.xlsx\n",
      "3.xlsx\n",
      "4.xlsx\n",
      "folder G:\\Chamodi\\LSDYNA3D\\RP_TH_models\\RP_Section_4_new\\RP_curves_fr19m\\19m08.5kg\n",
      "1.xlsx\n",
      "2.xlsx\n",
      "3.xlsx\n",
      "4.xlsx\n",
      "folder G:\\Chamodi\\LSDYNA3D\\RP_TH_models\\RP_Section_4_new\\RP_curves_fr19m\\19m10.5kg\n",
      "1.xlsx\n",
      "2.xlsx\n",
      "3.xlsx\n",
      "4.xlsx\n",
      "folder G:\\Chamodi\\LSDYNA3D\\RP_TH_models\\RP_Section_4_new\\RP_curves_fr19m\\19m12.5kg\n",
      "1.xlsx\n",
      "2.xlsx\n",
      "3.xlsx\n",
      "4.xlsx\n",
      "folder G:\\Chamodi\\LSDYNA3D\\RP_TH_models\\RP_Section_4_new\\RP_curves_fr19m\\19m14.5kg\n",
      "1.xlsx\n",
      "2.xlsx\n",
      "3.xlsx\n",
      "4.xlsx\n",
      "folder G:\\Chamodi\\LSDYNA3D\\RP_TH_models\\RP_Section_4_new\\RP_curves_fr19m\\19m16.5kg\n",
      "1.xlsx\n",
      "2.xlsx\n",
      "3.xlsx\n",
      "4.xlsx\n",
      "folder G:\\Chamodi\\LSDYNA3D\\RP_TH_models\\RP_Section_4_new\\RP_curves_fr19m\\19m18.5kg\n",
      "1.xlsx\n",
      "2.xlsx\n",
      "3.xlsx\n",
      "4.xlsx\n",
      "folder G:\\Chamodi\\LSDYNA3D\\RP_TH_models\\RP_Section_4_new\\RP_curves_fr19m\\19m20.5kg\n",
      "1.xlsx\n",
      "2.xlsx\n",
      "3.xlsx\n",
      "4.xlsx\n",
      "folder G:\\Chamodi\\LSDYNA3D\\RP_TH_models\\RP_Section_4_new\\RP_curves_fr19m\\19m22.5kg\n",
      "1.xlsx\n",
      "2.xlsx\n",
      "3.xlsx\n",
      "4.xlsx\n",
      "folder G:\\Chamodi\\LSDYNA3D\\RP_TH_models\\RP_Section_4_new\\RP_curves_fr19m\\19m24.5kg\n",
      "1.xlsx\n",
      "2.xlsx\n",
      "3.xlsx\n",
      "4.xlsx\n",
      "folder G:\\Chamodi\\LSDYNA3D\\RP_TH_models\\RP_Section_4_new\\RP_curves_fr19m\\19m26.5kg\n",
      "1.xlsx\n",
      "2.xlsx\n",
      "3.xlsx\n",
      "4.xlsx\n",
      "folder G:\\Chamodi\\LSDYNA3D\\RP_TH_models\\RP_Section_4_new\\RP_curves_fr19m\\19m28.5kg\n",
      "1.xlsx\n",
      "2.xlsx\n",
      "3.xlsx\n",
      "4.xlsx\n",
      "folder G:\\Chamodi\\LSDYNA3D\\RP_TH_models\\RP_Section_4_new\\RP_curves_fr19m\\19m30.5kg\n",
      "1.xlsx\n",
      "2.xlsx\n",
      "3.xlsx\n",
      "4.xlsx\n",
      "folder G:\\Chamodi\\LSDYNA3D\\RP_TH_models\\RP_Section_4_new\\RP_curves_fr19m\\19m32.5kg\n",
      "1.xlsx\n",
      "2.xlsx\n",
      "3.xlsx\n",
      "4.xlsx\n",
      "folder G:\\Chamodi\\LSDYNA3D\\RP_TH_models\\RP_Section_4_new\\RP_curves_fr19m\\19m34.5kg\n",
      "1.xlsx\n",
      "2.xlsx\n",
      "3.xlsx\n",
      "4.xlsx\n",
      "folder G:\\Chamodi\\LSDYNA3D\\RP_TH_models\\RP_Section_4_new\\RP_curves_fr19m\\19m35.0kg\n",
      "1.xlsx\n",
      "2.xlsx\n",
      "3.xlsx\n",
      "4.xlsx\n"
     ]
    }
   ],
   "source": [
    "#dataset = pd.DataFrame(columns = ['Charge_mass', 'Standoff_distance', 'Time', 'Pressure', 'Phase'])\n",
    "df_list = []\n",
    "\n",
    "for folder1 in input_dir2:\n",
    "    \n",
    "    input_dir3 =  [folder2 for folder2 in folder1.iterdir() if folder2.is_dir()] # folder2 - 07m00.5kg\n",
    "    \n",
    "    for folder2 in input_dir3:\n",
    "        \n",
    "        print ('folder', folder2)\n",
    "        files1 = [file1 for file1 in folder2.rglob(\"*.xlsx\")]\n",
    "    \n",
    "        for file1 in files1:\n",
    "            df_list.append(pd.read_excel(file1))\n",
    "            print (file1.stem)\n",
    "    \n",
    "dataset = pd.concat(df_list, ignore_index = True)"
   ]
  },
  {
   "cell_type": "code",
   "execution_count": 4,
   "metadata": {
    "colab": {},
    "colab_type": "code",
    "id": "B9CV13Co_HHM",
    "ExecuteTime": {
     "end_time": "2024-08-01T04:33:19.521961600Z",
     "start_time": "2024-08-01T04:33:19.506266900Z"
    }
   },
   "outputs": [
    {
     "name": "stdout",
     "output_type": "stream",
     "text": [
      "<class 'pandas.core.frame.DataFrame'>\n",
      "RangeIndex: 45639 entries, 0 to 45638\n",
      "Data columns (total 6 columns):\n",
      " #   Column             Non-Null Count  Dtype  \n",
      "---  ------             --------------  -----  \n",
      " 0   Mass               45639 non-null  float64\n",
      " 1   Standoff distance  45639 non-null  int64  \n",
      " 2   Angle              45639 non-null  int64  \n",
      " 3   Time               45639 non-null  float64\n",
      " 4   Phase              45639 non-null  object \n",
      " 5   Pressure           45639 non-null  float64\n",
      "dtypes: float64(3), int64(2), object(1)\n",
      "memory usage: 2.1+ MB\n"
     ]
    }
   ],
   "source": [
    "dataset.info()"
   ]
  },
  {
   "cell_type": "code",
   "execution_count": 5,
   "outputs": [
    {
     "name": "stdout",
     "output_type": "stream",
     "text": [
      "<class 'pandas.core.frame.DataFrame'>\n",
      "RangeIndex: 45639 entries, 0 to 45638\n",
      "Data columns (total 8 columns):\n",
      " #   Column                     Non-Null Count  Dtype  \n",
      "---  ------                     --------------  -----  \n",
      " 0   Mass                       45639 non-null  float64\n",
      " 1   Standoff distance          45639 non-null  int64  \n",
      " 2   Angle                      45639 non-null  int64  \n",
      " 3   Time                       45639 non-null  float64\n",
      " 4   Pressure                   45639 non-null  float64\n",
      " 5   Phase_negative_decreasing  45639 non-null  uint8  \n",
      " 6   Phase_negative_increasing  45639 non-null  uint8  \n",
      " 7   Phase_positive             45639 non-null  uint8  \n",
      "dtypes: float64(3), int64(2), uint8(3)\n",
      "memory usage: 1.9 MB\n"
     ]
    }
   ],
   "source": [
    "dataset = pd.get_dummies(dataset, columns =['Phase'], dtype = np.uint8)\n",
    "dataset.info()"
   ],
   "metadata": {
    "collapsed": false,
    "ExecuteTime": {
     "end_time": "2024-08-01T04:33:21.322805300Z",
     "start_time": "2024-08-01T04:33:21.259246900Z"
    }
   }
  },
  {
   "cell_type": "code",
   "execution_count": 6,
   "outputs": [
    {
     "data": {
      "text/plain": "    Mass  Standoff distance  Angle       Time   Pressure  \\\n0    0.5                 13      0  32.475292  10.613961   \n1    0.5                 13      0  32.501128  10.575125   \n2    0.5                 13      0  32.526964  10.331852   \n3    0.5                 13      0  32.578656   9.636125   \n4    0.5                 13      0  32.604503   9.363102   \n5    0.5                 13      0  32.630350   9.191898   \n6    0.5                 13      0  32.656197   9.095148   \n7    0.5                 13      0  32.682045   9.017906   \n8    0.5                 13      0  32.707893   8.859992   \n9    0.5                 13      0  32.733743   8.544781   \n10   0.5                 13      0  32.759600   8.039852   \n11   0.5                 13      0  32.785467   7.370180   \n12   0.5                 13      0  32.863089   5.057969   \n13   0.5                 13      0  32.888959   4.407305   \n14   0.5                 13      0  32.914831   3.859586   \n15   0.5                 13      0  32.940722   3.422930   \n16   0.5                 13      0  32.966613   3.086836   \n17   0.5                 13      0  32.992504   2.850336   \n18   0.5                 13      0  33.018394   2.711273   \n19   0.5                 13      0  33.044293   2.656227   \n20   0.5                 13      0  33.070200   2.658398   \n21   0.5                 13      0  33.096110   2.700242   \n22   0.5                 13      0  33.122021   2.731867   \n23   0.5                 13      0  33.147926   2.719414   \n24   0.5                 13      0  33.173843   2.640508   \n25   0.5                 13      0  33.199768   2.483352   \n26   0.5                 13      0  33.277544   1.873461   \n27   0.5                 13      0  33.303478   1.716164   \n28   0.5                 13      0  33.329411   1.597539   \n29   0.5                 13      0  33.355351   1.507031   \n\n    Phase_negative_decreasing  Phase_negative_increasing  Phase_positive  \n0                           0                          0               1  \n1                           0                          0               1  \n2                           0                          0               1  \n3                           0                          0               1  \n4                           0                          0               1  \n5                           0                          0               1  \n6                           0                          0               1  \n7                           0                          0               1  \n8                           0                          0               1  \n9                           0                          0               1  \n10                          0                          0               1  \n11                          0                          0               1  \n12                          0                          0               1  \n13                          0                          0               1  \n14                          0                          0               1  \n15                          0                          0               1  \n16                          0                          0               1  \n17                          0                          0               1  \n18                          0                          0               1  \n19                          0                          0               1  \n20                          0                          0               1  \n21                          0                          0               1  \n22                          0                          0               1  \n23                          0                          0               1  \n24                          0                          0               1  \n25                          0                          0               1  \n26                          0                          0               1  \n27                          0                          0               1  \n28                          0                          0               1  \n29                          0                          0               1  ",
      "text/html": "<div>\n<style scoped>\n    .dataframe tbody tr th:only-of-type {\n        vertical-align: middle;\n    }\n\n    .dataframe tbody tr th {\n        vertical-align: top;\n    }\n\n    .dataframe thead th {\n        text-align: right;\n    }\n</style>\n<table border=\"1\" class=\"dataframe\">\n  <thead>\n    <tr style=\"text-align: right;\">\n      <th></th>\n      <th>Mass</th>\n      <th>Standoff distance</th>\n      <th>Angle</th>\n      <th>Time</th>\n      <th>Pressure</th>\n      <th>Phase_negative_decreasing</th>\n      <th>Phase_negative_increasing</th>\n      <th>Phase_positive</th>\n    </tr>\n  </thead>\n  <tbody>\n    <tr>\n      <th>0</th>\n      <td>0.5</td>\n      <td>13</td>\n      <td>0</td>\n      <td>32.475292</td>\n      <td>10.613961</td>\n      <td>0</td>\n      <td>0</td>\n      <td>1</td>\n    </tr>\n    <tr>\n      <th>1</th>\n      <td>0.5</td>\n      <td>13</td>\n      <td>0</td>\n      <td>32.501128</td>\n      <td>10.575125</td>\n      <td>0</td>\n      <td>0</td>\n      <td>1</td>\n    </tr>\n    <tr>\n      <th>2</th>\n      <td>0.5</td>\n      <td>13</td>\n      <td>0</td>\n      <td>32.526964</td>\n      <td>10.331852</td>\n      <td>0</td>\n      <td>0</td>\n      <td>1</td>\n    </tr>\n    <tr>\n      <th>3</th>\n      <td>0.5</td>\n      <td>13</td>\n      <td>0</td>\n      <td>32.578656</td>\n      <td>9.636125</td>\n      <td>0</td>\n      <td>0</td>\n      <td>1</td>\n    </tr>\n    <tr>\n      <th>4</th>\n      <td>0.5</td>\n      <td>13</td>\n      <td>0</td>\n      <td>32.604503</td>\n      <td>9.363102</td>\n      <td>0</td>\n      <td>0</td>\n      <td>1</td>\n    </tr>\n    <tr>\n      <th>5</th>\n      <td>0.5</td>\n      <td>13</td>\n      <td>0</td>\n      <td>32.630350</td>\n      <td>9.191898</td>\n      <td>0</td>\n      <td>0</td>\n      <td>1</td>\n    </tr>\n    <tr>\n      <th>6</th>\n      <td>0.5</td>\n      <td>13</td>\n      <td>0</td>\n      <td>32.656197</td>\n      <td>9.095148</td>\n      <td>0</td>\n      <td>0</td>\n      <td>1</td>\n    </tr>\n    <tr>\n      <th>7</th>\n      <td>0.5</td>\n      <td>13</td>\n      <td>0</td>\n      <td>32.682045</td>\n      <td>9.017906</td>\n      <td>0</td>\n      <td>0</td>\n      <td>1</td>\n    </tr>\n    <tr>\n      <th>8</th>\n      <td>0.5</td>\n      <td>13</td>\n      <td>0</td>\n      <td>32.707893</td>\n      <td>8.859992</td>\n      <td>0</td>\n      <td>0</td>\n      <td>1</td>\n    </tr>\n    <tr>\n      <th>9</th>\n      <td>0.5</td>\n      <td>13</td>\n      <td>0</td>\n      <td>32.733743</td>\n      <td>8.544781</td>\n      <td>0</td>\n      <td>0</td>\n      <td>1</td>\n    </tr>\n    <tr>\n      <th>10</th>\n      <td>0.5</td>\n      <td>13</td>\n      <td>0</td>\n      <td>32.759600</td>\n      <td>8.039852</td>\n      <td>0</td>\n      <td>0</td>\n      <td>1</td>\n    </tr>\n    <tr>\n      <th>11</th>\n      <td>0.5</td>\n      <td>13</td>\n      <td>0</td>\n      <td>32.785467</td>\n      <td>7.370180</td>\n      <td>0</td>\n      <td>0</td>\n      <td>1</td>\n    </tr>\n    <tr>\n      <th>12</th>\n      <td>0.5</td>\n      <td>13</td>\n      <td>0</td>\n      <td>32.863089</td>\n      <td>5.057969</td>\n      <td>0</td>\n      <td>0</td>\n      <td>1</td>\n    </tr>\n    <tr>\n      <th>13</th>\n      <td>0.5</td>\n      <td>13</td>\n      <td>0</td>\n      <td>32.888959</td>\n      <td>4.407305</td>\n      <td>0</td>\n      <td>0</td>\n      <td>1</td>\n    </tr>\n    <tr>\n      <th>14</th>\n      <td>0.5</td>\n      <td>13</td>\n      <td>0</td>\n      <td>32.914831</td>\n      <td>3.859586</td>\n      <td>0</td>\n      <td>0</td>\n      <td>1</td>\n    </tr>\n    <tr>\n      <th>15</th>\n      <td>0.5</td>\n      <td>13</td>\n      <td>0</td>\n      <td>32.940722</td>\n      <td>3.422930</td>\n      <td>0</td>\n      <td>0</td>\n      <td>1</td>\n    </tr>\n    <tr>\n      <th>16</th>\n      <td>0.5</td>\n      <td>13</td>\n      <td>0</td>\n      <td>32.966613</td>\n      <td>3.086836</td>\n      <td>0</td>\n      <td>0</td>\n      <td>1</td>\n    </tr>\n    <tr>\n      <th>17</th>\n      <td>0.5</td>\n      <td>13</td>\n      <td>0</td>\n      <td>32.992504</td>\n      <td>2.850336</td>\n      <td>0</td>\n      <td>0</td>\n      <td>1</td>\n    </tr>\n    <tr>\n      <th>18</th>\n      <td>0.5</td>\n      <td>13</td>\n      <td>0</td>\n      <td>33.018394</td>\n      <td>2.711273</td>\n      <td>0</td>\n      <td>0</td>\n      <td>1</td>\n    </tr>\n    <tr>\n      <th>19</th>\n      <td>0.5</td>\n      <td>13</td>\n      <td>0</td>\n      <td>33.044293</td>\n      <td>2.656227</td>\n      <td>0</td>\n      <td>0</td>\n      <td>1</td>\n    </tr>\n    <tr>\n      <th>20</th>\n      <td>0.5</td>\n      <td>13</td>\n      <td>0</td>\n      <td>33.070200</td>\n      <td>2.658398</td>\n      <td>0</td>\n      <td>0</td>\n      <td>1</td>\n    </tr>\n    <tr>\n      <th>21</th>\n      <td>0.5</td>\n      <td>13</td>\n      <td>0</td>\n      <td>33.096110</td>\n      <td>2.700242</td>\n      <td>0</td>\n      <td>0</td>\n      <td>1</td>\n    </tr>\n    <tr>\n      <th>22</th>\n      <td>0.5</td>\n      <td>13</td>\n      <td>0</td>\n      <td>33.122021</td>\n      <td>2.731867</td>\n      <td>0</td>\n      <td>0</td>\n      <td>1</td>\n    </tr>\n    <tr>\n      <th>23</th>\n      <td>0.5</td>\n      <td>13</td>\n      <td>0</td>\n      <td>33.147926</td>\n      <td>2.719414</td>\n      <td>0</td>\n      <td>0</td>\n      <td>1</td>\n    </tr>\n    <tr>\n      <th>24</th>\n      <td>0.5</td>\n      <td>13</td>\n      <td>0</td>\n      <td>33.173843</td>\n      <td>2.640508</td>\n      <td>0</td>\n      <td>0</td>\n      <td>1</td>\n    </tr>\n    <tr>\n      <th>25</th>\n      <td>0.5</td>\n      <td>13</td>\n      <td>0</td>\n      <td>33.199768</td>\n      <td>2.483352</td>\n      <td>0</td>\n      <td>0</td>\n      <td>1</td>\n    </tr>\n    <tr>\n      <th>26</th>\n      <td>0.5</td>\n      <td>13</td>\n      <td>0</td>\n      <td>33.277544</td>\n      <td>1.873461</td>\n      <td>0</td>\n      <td>0</td>\n      <td>1</td>\n    </tr>\n    <tr>\n      <th>27</th>\n      <td>0.5</td>\n      <td>13</td>\n      <td>0</td>\n      <td>33.303478</td>\n      <td>1.716164</td>\n      <td>0</td>\n      <td>0</td>\n      <td>1</td>\n    </tr>\n    <tr>\n      <th>28</th>\n      <td>0.5</td>\n      <td>13</td>\n      <td>0</td>\n      <td>33.329411</td>\n      <td>1.597539</td>\n      <td>0</td>\n      <td>0</td>\n      <td>1</td>\n    </tr>\n    <tr>\n      <th>29</th>\n      <td>0.5</td>\n      <td>13</td>\n      <td>0</td>\n      <td>33.355351</td>\n      <td>1.507031</td>\n      <td>0</td>\n      <td>0</td>\n      <td>1</td>\n    </tr>\n  </tbody>\n</table>\n</div>"
     },
     "execution_count": 6,
     "metadata": {},
     "output_type": "execute_result"
    }
   ],
   "source": [
    "dataset.head(30)"
   ],
   "metadata": {
    "collapsed": false,
    "ExecuteTime": {
     "end_time": "2024-08-01T04:33:23.064245800Z",
     "start_time": "2024-08-01T04:33:23.016783900Z"
    }
   }
  },
  {
   "cell_type": "code",
   "execution_count": 7,
   "metadata": {
    "ExecuteTime": {
     "end_time": "2024-08-01T04:33:24.445826Z",
     "start_time": "2024-08-01T04:33:24.429697300Z"
    }
   },
   "outputs": [
    {
     "name": "stdout",
     "output_type": "stream",
     "text": [
      "(45639, 7) (45639,)\n"
     ]
    }
   ],
   "source": [
    "y = dataset['Pressure']\n",
    "X = dataset.drop(['Pressure'], axis=1)\n",
    "print(X.shape, y.shape)"
   ]
  },
  {
   "cell_type": "code",
   "execution_count": 8,
   "metadata": {
    "ExecuteTime": {
     "end_time": "2024-08-01T04:33:25.287278500Z",
     "start_time": "2024-08-01T04:33:25.256073400Z"
    }
   },
   "outputs": [],
   "source": [
    "# convert to numpy array\n",
    "X = np.array(X)\n",
    "y = np.array(y)"
   ]
  },
  {
   "cell_type": "markdown",
   "metadata": {
    "colab_type": "text",
    "id": "VC6omXel_Up0"
   },
   "source": [
    "### Splitting the dataset into the Training set and Test set"
   ]
  },
  {
   "cell_type": "code",
   "execution_count": 9,
   "metadata": {
    "colab": {},
    "colab_type": "code",
    "id": "L5edeb2r_agx",
    "ExecuteTime": {
     "end_time": "2024-08-01T04:33:27.237423800Z",
     "start_time": "2024-08-01T04:33:26.443807500Z"
    }
   },
   "outputs": [],
   "source": [
    "from sklearn.model_selection import train_test_split\n",
    "X_train, X_test, y_train, y_test = train_test_split(X,\n",
    "                                                    y,\n",
    "                                                    test_size = 0.4,\n",
    "                                                    random_state = 0)"
   ]
  },
  {
   "cell_type": "code",
   "execution_count": 10,
   "metadata": {
    "colab": {},
    "colab_type": "code",
    "id": "L5edeb2r_agx",
    "ExecuteTime": {
     "end_time": "2024-08-01T04:33:28.568624700Z",
     "start_time": "2024-08-01T04:33:28.545976300Z"
    }
   },
   "outputs": [],
   "source": [
    "X_val, X_test, y_val, y_test = train_test_split(X_test,\n",
    "                                                y_test,\n",
    "                                                test_size = 0.5,\n",
    "                                                random_state = 0)"
   ]
  },
  {
   "cell_type": "markdown",
   "source": [
    "## Feature scaling"
   ],
   "metadata": {
    "collapsed": false
   }
  },
  {
   "cell_type": "code",
   "execution_count": 11,
   "outputs": [
    {
     "name": "stdout",
     "output_type": "stream",
     "text": [
      "[[ 1.3876351   0.4768852  -1.52779325 ...  0.          0.\n",
      "   1.        ]\n",
      " [ 0.94852049  0.4768852  -0.59410962 ...  0.          1.\n",
      "   0.        ]\n",
      " [ 1.3876351  -0.43419744 -0.59410962 ...  1.          0.\n",
      "   0.        ]\n",
      " ...\n",
      " [ 0.75335844  1.38796784  1.27325765 ...  0.          0.\n",
      "   1.        ]\n",
      " [ 1.14368254  1.38796784 -1.52779325 ...  0.          0.\n",
      "   1.        ]\n",
      " [-1.00310001 -1.34528007  1.27325765 ...  0.          1.\n",
      "   0.        ]]\n"
     ]
    }
   ],
   "source": [
    "from sklearn.preprocessing import StandardScaler\n",
    "sc = StandardScaler()\n",
    "X_train[:,0:3] = sc.fit_transform(X_train[:, 0:3])\n",
    "print (X_train)"
   ],
   "metadata": {
    "collapsed": false,
    "ExecuteTime": {
     "end_time": "2024-08-01T04:33:32.708645Z",
     "start_time": "2024-08-01T04:33:32.631458Z"
    }
   }
  },
  {
   "cell_type": "code",
   "execution_count": 12,
   "outputs": [
    {
     "name": "stdout",
     "output_type": "stream",
     "text": [
      "[[ 0.55819639 -0.43419744 -0.59410962 ...  0.          0.\n",
      "   1.        ]\n",
      " [-0.41761386 -1.34528007  0.33957402 ...  0.          0.\n",
      "   1.        ]\n",
      " [ 0.55819639  1.38796784 -1.52779325 ...  0.          0.\n",
      "   1.        ]\n",
      " ...\n",
      " [ 0.75335844 -0.43419744  1.27325765 ...  0.          0.\n",
      "   1.        ]\n",
      " [ 0.75335844  1.38796784  0.33957402 ...  0.          0.\n",
      "   1.        ]\n",
      " [ 0.55819639  1.38796784  1.27325765 ...  0.          0.\n",
      "   1.        ]]\n"
     ]
    }
   ],
   "source": [
    "X_test[:,0:3] = sc.transform(X_test[:,0:3])\n",
    "print (X_test)"
   ],
   "metadata": {
    "collapsed": false,
    "ExecuteTime": {
     "end_time": "2024-08-01T04:33:34.287608300Z",
     "start_time": "2024-08-01T04:33:34.272050Z"
    }
   }
  },
  {
   "cell_type": "code",
   "execution_count": 13,
   "outputs": [
    {
     "name": "stdout",
     "output_type": "stream",
     "text": [
      "[[-0.41761386 -0.43419744 -0.59410962 ...  0.          0.\n",
      "   1.        ]\n",
      " [ 0.75335844  1.38796784  1.27325765 ...  0.          0.\n",
      "   1.        ]\n",
      " [-0.02728976  1.38796784 -0.59410962 ...  0.          1.\n",
      "   0.        ]\n",
      " ...\n",
      " [ 0.94852049  1.38796784  1.27325765 ...  0.          0.\n",
      "   1.        ]\n",
      " [-0.41761386  0.4768852  -0.59410962 ...  0.          0.\n",
      "   1.        ]\n",
      " [-0.61277591  1.38796784  0.33957402 ...  0.          0.\n",
      "   1.        ]]\n"
     ]
    }
   ],
   "source": [
    "X_val[:,0:3] = sc.transform(X_val[:,0:3])\n",
    "print (X_val)"
   ],
   "metadata": {
    "collapsed": false,
    "ExecuteTime": {
     "end_time": "2024-08-01T04:33:35.668505400Z",
     "start_time": "2024-08-01T04:33:35.662445600Z"
    }
   }
  },
  {
   "cell_type": "code",
   "execution_count": 14,
   "outputs": [
    {
     "name": "stdout",
     "output_type": "stream",
     "text": [
      "X_train 27383\n",
      "X_test 9128\n",
      "X_val 9128\n"
     ]
    }
   ],
   "source": [
    "print (\"X_train\", len(X_train))\n",
    "print (\"X_test\", len(X_test))\n",
    "print (\"X_val\", len(X_val))"
   ],
   "metadata": {
    "collapsed": false,
    "ExecuteTime": {
     "end_time": "2024-08-01T04:33:36.872571800Z",
     "start_time": "2024-08-01T04:33:36.849822500Z"
    }
   }
  },
  {
   "cell_type": "markdown",
   "metadata": {
    "colab_type": "text",
    "id": "_mSLlAT9_eyI"
   },
   "source": [
    "## Part 3 - Building the ANN"
   ]
  },
  {
   "cell_type": "markdown",
   "metadata": {
    "colab_type": "text",
    "id": "iitAFJS_ABUn"
   },
   "source": [
    "### Adding the input layer and hidden layers"
   ]
  },
  {
   "cell_type": "code",
   "execution_count": 16,
   "metadata": {
    "colab": {},
    "colab_type": "code",
    "id": "ksO_Vv40AHix",
    "ExecuteTime": {
     "end_time": "2024-08-01T04:34:41.064918300Z",
     "start_time": "2024-08-01T04:34:40.986045700Z"
    }
   },
   "outputs": [],
   "source": [
    "ann = tf.keras.models.Sequential()\n",
    "ann.add(tf.keras.layers.Dense(units=150,\n",
    "                              input_shape=(X_train.shape[1],),\n",
    "                              activation='leaky_relu'))\n",
    "ann.add(tf.keras.layers.Dense(units=125,\n",
    "                              activation='leaky_relu'))\n",
    "ann.add(tf.keras.layers.Dense(units=100,\n",
    "                              activation='leaky_relu'))"
   ]
  },
  {
   "cell_type": "markdown",
   "metadata": {
    "colab_type": "text",
    "id": "jwMOmKb3AdBY"
   },
   "source": [
    "### Adding the output layer"
   ]
  },
  {
   "cell_type": "code",
   "execution_count": 17,
   "metadata": {
    "colab": {},
    "colab_type": "code",
    "id": "YFATpzsUAkLL",
    "ExecuteTime": {
     "end_time": "2024-08-01T04:34:42.663296800Z",
     "start_time": "2024-08-01T04:34:42.616120700Z"
    }
   },
   "outputs": [],
   "source": [
    "ann.add(tf.keras.layers.Dense(units=1,\n",
    "                              activation='linear'))"
   ]
  },
  {
   "cell_type": "markdown",
   "metadata": {},
   "source": [
    "### what model looks like"
   ]
  },
  {
   "cell_type": "code",
   "execution_count": 18,
   "metadata": {
    "ExecuteTime": {
     "end_time": "2024-08-01T04:34:44.241358800Z",
     "start_time": "2024-08-01T04:34:44.116240500Z"
    }
   },
   "outputs": [
    {
     "name": "stdout",
     "output_type": "stream",
     "text": [
      "Model: \"sequential_1\"\n",
      "_________________________________________________________________\n",
      " Layer (type)                Output Shape              Param #   \n",
      "=================================================================\n",
      " dense (Dense)               (None, 150)               1200      \n",
      "                                                                 \n",
      " dense_1 (Dense)             (None, 125)               18875     \n",
      "                                                                 \n",
      " dense_2 (Dense)             (None, 100)               12600     \n",
      "                                                                 \n",
      " dense_3 (Dense)             (None, 1)                 101       \n",
      "                                                                 \n",
      "=================================================================\n",
      "Total params: 32,776\n",
      "Trainable params: 32,776\n",
      "Non-trainable params: 0\n",
      "_________________________________________________________________\n"
     ]
    }
   ],
   "source": [
    "ann.summary()"
   ]
  },
  {
   "cell_type": "markdown",
   "metadata": {
    "colab_type": "text",
    "id": "fq7e4fF6A1yy"
   },
   "source": [
    "## Part 4 - Training the ANN"
   ]
  },
  {
   "cell_type": "markdown",
   "metadata": {
    "colab_type": "text",
    "id": "qDeylAs2An25"
   },
   "source": [
    "### Compiling the ANN"
   ]
  },
  {
   "cell_type": "code",
   "execution_count": 19,
   "metadata": {
    "colab": {},
    "colab_type": "code",
    "id": "pesgbWlCAtB4",
    "ExecuteTime": {
     "end_time": "2024-08-01T04:34:46.094787600Z",
     "start_time": "2024-08-01T04:34:46.031449200Z"
    }
   },
   "outputs": [],
   "source": [
    "# from tensorflow.keras.optimizers import Adam\n",
    "from keras.optimizers import Adam\n",
    "opt = Adam(learning_rate=0.001)\n",
    "ann.compile(optimizer = opt,\n",
    "            loss = 'mean_squared_error',\n",
    "            metrics = ['mae'])"
   ]
  },
  {
   "cell_type": "markdown",
   "metadata": {},
   "source": [
    "### early stopping callback"
   ]
  },
  {
   "cell_type": "code",
   "execution_count": 20,
   "metadata": {
    "ExecuteTime": {
     "end_time": "2024-08-01T04:34:47.783396100Z",
     "start_time": "2024-08-01T04:34:47.751725Z"
    }
   },
   "outputs": [],
   "source": [
    "# protects from unnecessary further training of the model if a particular metric does not continue to improve over a number of n epochs. In such a case, the model training would be automatically aborted.\n",
    "from keras.callbacks import EarlyStopping\n",
    "es = EarlyStopping(monitor='val_loss',\n",
    "                   mode='min',\n",
    "                   patience=50,\n",
    "                   restore_best_weights = True)"
   ]
  },
  {
   "cell_type": "markdown",
   "metadata": {
    "colab_type": "text",
    "id": "YjVuiybYOo7r"
   },
   "source": [
    "### Training the ANN model on the Training set"
   ]
  },
  {
   "cell_type": "code",
   "execution_count": 21,
   "metadata": {
    "colab": {
     "base_uri": "https://localhost:8080/",
     "height": 1000
    },
    "colab_type": "code",
    "id": "c_vV-tiiA5zn",
    "outputId": "4a2b6ee6-ed75-4698-9069-b250e613803f",
    "ExecuteTime": {
     "end_time": "2024-08-01T04:52:24.455489900Z",
     "start_time": "2024-08-01T04:34:49.350863Z"
    }
   },
   "outputs": [
    {
     "name": "stdout",
     "output_type": "stream",
     "text": [
      "Epoch 1/500\n",
      "913/913 [==============================] - 4s 4ms/step - loss: 86.4859 - mae: 5.4304 - val_loss: 72.6113 - val_mae: 4.5994\n",
      "Epoch 2/500\n",
      "913/913 [==============================] - 3s 3ms/step - loss: 52.5573 - mae: 3.9660 - val_loss: 59.4419 - val_mae: 3.3535\n",
      "Epoch 3/500\n",
      "913/913 [==============================] - 3s 3ms/step - loss: 38.1271 - mae: 3.2584 - val_loss: 33.2867 - val_mae: 4.0230\n",
      "Epoch 4/500\n",
      "913/913 [==============================] - 3s 3ms/step - loss: 31.7741 - mae: 2.8874 - val_loss: 23.0539 - val_mae: 2.2804\n",
      "Epoch 5/500\n",
      "913/913 [==============================] - 3s 4ms/step - loss: 30.1475 - mae: 2.7662 - val_loss: 23.2884 - val_mae: 2.1401\n",
      "Epoch 6/500\n",
      "913/913 [==============================] - 3s 4ms/step - loss: 28.4538 - mae: 2.6745 - val_loss: 59.1471 - val_mae: 4.5218\n",
      "Epoch 7/500\n",
      "913/913 [==============================] - 3s 4ms/step - loss: 25.7088 - mae: 2.5434 - val_loss: 23.0679 - val_mae: 2.4286\n",
      "Epoch 8/500\n",
      "913/913 [==============================] - 4s 4ms/step - loss: 25.6552 - mae: 2.5795 - val_loss: 33.2801 - val_mae: 3.0770\n",
      "Epoch 9/500\n",
      "913/913 [==============================] - 4s 4ms/step - loss: 26.2719 - mae: 2.6601 - val_loss: 20.5809 - val_mae: 2.5264\n",
      "Epoch 10/500\n",
      "913/913 [==============================] - 3s 4ms/step - loss: 26.7952 - mae: 2.6373 - val_loss: 21.2941 - val_mae: 2.3812\n",
      "Epoch 11/500\n",
      "913/913 [==============================] - 3s 4ms/step - loss: 23.1015 - mae: 2.4140 - val_loss: 17.5339 - val_mae: 2.2026\n",
      "Epoch 12/500\n",
      "913/913 [==============================] - 3s 4ms/step - loss: 22.5279 - mae: 2.3912 - val_loss: 30.0293 - val_mae: 2.3833\n",
      "Epoch 13/500\n",
      "913/913 [==============================] - 3s 4ms/step - loss: 23.6661 - mae: 2.4381 - val_loss: 51.4251 - val_mae: 2.8199\n",
      "Epoch 14/500\n",
      "913/913 [==============================] - 4s 4ms/step - loss: 22.0711 - mae: 2.3734 - val_loss: 15.7017 - val_mae: 2.1617\n",
      "Epoch 15/500\n",
      "913/913 [==============================] - 3s 4ms/step - loss: 20.0330 - mae: 2.2388 - val_loss: 19.0726 - val_mae: 1.9162\n",
      "Epoch 16/500\n",
      "913/913 [==============================] - 3s 3ms/step - loss: 16.9940 - mae: 2.0430 - val_loss: 28.0053 - val_mae: 2.4829\n",
      "Epoch 17/500\n",
      "913/913 [==============================] - 3s 3ms/step - loss: 20.0560 - mae: 2.2194 - val_loss: 28.9353 - val_mae: 4.0328\n",
      "Epoch 18/500\n",
      "913/913 [==============================] - 3s 3ms/step - loss: 19.0566 - mae: 2.1560 - val_loss: 16.9712 - val_mae: 2.3843\n",
      "Epoch 19/500\n",
      "913/913 [==============================] - 3s 3ms/step - loss: 16.2907 - mae: 1.9880 - val_loss: 26.7896 - val_mae: 2.1437\n",
      "Epoch 20/500\n",
      "913/913 [==============================] - 3s 3ms/step - loss: 17.3373 - mae: 2.0104 - val_loss: 16.0919 - val_mae: 1.8534\n",
      "Epoch 21/500\n",
      "913/913 [==============================] - 3s 3ms/step - loss: 15.0712 - mae: 1.8992 - val_loss: 30.9231 - val_mae: 2.5468\n",
      "Epoch 22/500\n",
      "913/913 [==============================] - 3s 3ms/step - loss: 15.1338 - mae: 1.8778 - val_loss: 11.5548 - val_mae: 1.9022\n",
      "Epoch 23/500\n",
      "913/913 [==============================] - 3s 3ms/step - loss: 15.4205 - mae: 1.8857 - val_loss: 33.8093 - val_mae: 2.4089\n",
      "Epoch 24/500\n",
      "913/913 [==============================] - 3s 3ms/step - loss: 15.6413 - mae: 1.9015 - val_loss: 17.5678 - val_mae: 2.0277\n",
      "Epoch 25/500\n",
      "913/913 [==============================] - 3s 3ms/step - loss: 17.8400 - mae: 2.0325 - val_loss: 10.4284 - val_mae: 1.7418\n",
      "Epoch 26/500\n",
      "913/913 [==============================] - 3s 3ms/step - loss: 16.8849 - mae: 1.9891 - val_loss: 32.6645 - val_mae: 2.4047\n",
      "Epoch 27/500\n",
      "913/913 [==============================] - 3s 3ms/step - loss: 16.4181 - mae: 1.9636 - val_loss: 10.4741 - val_mae: 1.7659\n",
      "Epoch 28/500\n",
      "913/913 [==============================] - 3s 3ms/step - loss: 12.9697 - mae: 1.7163 - val_loss: 11.7123 - val_mae: 1.9218\n",
      "Epoch 29/500\n",
      "913/913 [==============================] - 3s 3ms/step - loss: 13.6335 - mae: 1.7459 - val_loss: 32.1622 - val_mae: 3.1783\n",
      "Epoch 30/500\n",
      "913/913 [==============================] - 3s 3ms/step - loss: 13.9457 - mae: 1.7679 - val_loss: 10.6104 - val_mae: 1.3916\n",
      "Epoch 31/500\n",
      "913/913 [==============================] - 3s 3ms/step - loss: 14.0556 - mae: 1.7514 - val_loss: 15.1664 - val_mae: 2.3178\n",
      "Epoch 32/500\n",
      "913/913 [==============================] - 3s 3ms/step - loss: 15.5177 - mae: 1.9031 - val_loss: 11.2812 - val_mae: 1.4240\n",
      "Epoch 33/500\n",
      "913/913 [==============================] - 3s 3ms/step - loss: 18.1124 - mae: 2.0290 - val_loss: 17.7315 - val_mae: 1.9917\n",
      "Epoch 34/500\n",
      "913/913 [==============================] - 4s 4ms/step - loss: 15.0170 - mae: 1.8250 - val_loss: 11.5337 - val_mae: 1.5755\n",
      "Epoch 35/500\n",
      "913/913 [==============================] - 3s 3ms/step - loss: 14.5378 - mae: 1.8079 - val_loss: 12.0882 - val_mae: 1.5750\n",
      "Epoch 36/500\n",
      "913/913 [==============================] - 3s 3ms/step - loss: 14.2023 - mae: 1.8105 - val_loss: 7.4226 - val_mae: 1.3290\n",
      "Epoch 37/500\n",
      "913/913 [==============================] - 3s 3ms/step - loss: 14.8279 - mae: 1.8246 - val_loss: 10.5031 - val_mae: 1.8011\n",
      "Epoch 38/500\n",
      "913/913 [==============================] - 3s 3ms/step - loss: 14.9413 - mae: 1.7962 - val_loss: 15.0441 - val_mae: 1.8530\n",
      "Epoch 39/500\n",
      "913/913 [==============================] - 3s 3ms/step - loss: 13.6061 - mae: 1.7046 - val_loss: 13.1245 - val_mae: 2.0386\n",
      "Epoch 40/500\n",
      "913/913 [==============================] - 3s 3ms/step - loss: 10.6031 - mae: 1.5254 - val_loss: 6.8790 - val_mae: 1.4681\n",
      "Epoch 41/500\n",
      "913/913 [==============================] - 3s 3ms/step - loss: 11.0488 - mae: 1.5514 - val_loss: 9.8967 - val_mae: 1.6303\n",
      "Epoch 42/500\n",
      "913/913 [==============================] - 3s 3ms/step - loss: 15.4596 - mae: 1.9080 - val_loss: 31.4072 - val_mae: 2.2438\n",
      "Epoch 43/500\n",
      "913/913 [==============================] - 3s 3ms/step - loss: 11.8573 - mae: 1.5969 - val_loss: 9.8754 - val_mae: 1.8082\n",
      "Epoch 44/500\n",
      "913/913 [==============================] - 3s 3ms/step - loss: 11.3414 - mae: 1.5605 - val_loss: 13.0240 - val_mae: 1.7050\n",
      "Epoch 45/500\n",
      "913/913 [==============================] - 3s 3ms/step - loss: 13.1675 - mae: 1.6856 - val_loss: 17.5470 - val_mae: 1.9351\n",
      "Epoch 46/500\n",
      "913/913 [==============================] - 3s 3ms/step - loss: 14.3928 - mae: 1.8024 - val_loss: 24.7648 - val_mae: 2.1675\n",
      "Epoch 47/500\n",
      "913/913 [==============================] - 3s 3ms/step - loss: 11.5731 - mae: 1.5695 - val_loss: 8.3136 - val_mae: 1.4425\n",
      "Epoch 48/500\n",
      "913/913 [==============================] - 3s 3ms/step - loss: 10.2320 - mae: 1.4777 - val_loss: 17.4448 - val_mae: 1.6466\n",
      "Epoch 49/500\n",
      "913/913 [==============================] - 3s 3ms/step - loss: 12.9985 - mae: 1.6546 - val_loss: 8.9497 - val_mae: 1.6093\n",
      "Epoch 50/500\n",
      "913/913 [==============================] - 3s 3ms/step - loss: 11.6462 - mae: 1.6057 - val_loss: 11.9611 - val_mae: 1.8148\n",
      "Epoch 51/500\n",
      "913/913 [==============================] - 3s 3ms/step - loss: 11.7676 - mae: 1.6159 - val_loss: 6.8598 - val_mae: 1.2038\n",
      "Epoch 52/500\n",
      "913/913 [==============================] - 3s 3ms/step - loss: 11.2552 - mae: 1.5435 - val_loss: 6.2918 - val_mae: 1.2207\n",
      "Epoch 53/500\n",
      "913/913 [==============================] - 3s 3ms/step - loss: 15.2940 - mae: 1.7887 - val_loss: 18.1790 - val_mae: 1.7410\n",
      "Epoch 54/500\n",
      "913/913 [==============================] - 3s 3ms/step - loss: 10.9387 - mae: 1.5335 - val_loss: 6.8024 - val_mae: 1.1368\n",
      "Epoch 55/500\n",
      "913/913 [==============================] - 3s 3ms/step - loss: 11.8345 - mae: 1.5691 - val_loss: 7.7966 - val_mae: 1.5002\n",
      "Epoch 56/500\n",
      "913/913 [==============================] - 3s 3ms/step - loss: 11.2728 - mae: 1.5207 - val_loss: 6.6099 - val_mae: 1.2023\n",
      "Epoch 57/500\n",
      "913/913 [==============================] - 3s 3ms/step - loss: 9.5067 - mae: 1.4264 - val_loss: 22.1320 - val_mae: 1.7780\n",
      "Epoch 58/500\n",
      "913/913 [==============================] - 3s 3ms/step - loss: 11.7148 - mae: 1.5884 - val_loss: 14.1734 - val_mae: 1.6077\n",
      "Epoch 59/500\n",
      "913/913 [==============================] - 3s 3ms/step - loss: 11.6297 - mae: 1.5853 - val_loss: 6.9553 - val_mae: 1.2705\n",
      "Epoch 60/500\n",
      "913/913 [==============================] - 3s 4ms/step - loss: 8.8075 - mae: 1.3359 - val_loss: 27.2064 - val_mae: 3.0577\n",
      "Epoch 61/500\n",
      "913/913 [==============================] - 3s 3ms/step - loss: 11.4782 - mae: 1.5397 - val_loss: 20.4470 - val_mae: 1.7872\n",
      "Epoch 62/500\n",
      "913/913 [==============================] - 3s 3ms/step - loss: 9.7330 - mae: 1.4287 - val_loss: 6.0210 - val_mae: 1.2087\n",
      "Epoch 63/500\n",
      "913/913 [==============================] - 3s 3ms/step - loss: 10.3542 - mae: 1.4818 - val_loss: 5.5865 - val_mae: 1.2031\n",
      "Epoch 64/500\n",
      "913/913 [==============================] - 3s 3ms/step - loss: 10.7504 - mae: 1.5081 - val_loss: 5.7988 - val_mae: 1.0390\n",
      "Epoch 65/500\n",
      "913/913 [==============================] - 3s 3ms/step - loss: 10.6159 - mae: 1.4920 - val_loss: 9.9250 - val_mae: 1.3679\n",
      "Epoch 66/500\n",
      "913/913 [==============================] - 3s 3ms/step - loss: 11.9927 - mae: 1.6125 - val_loss: 13.6123 - val_mae: 1.5545\n",
      "Epoch 67/500\n",
      "913/913 [==============================] - 3s 3ms/step - loss: 9.8829 - mae: 1.4200 - val_loss: 12.4484 - val_mae: 1.4290\n",
      "Epoch 68/500\n",
      "913/913 [==============================] - 3s 3ms/step - loss: 9.5488 - mae: 1.4011 - val_loss: 11.7276 - val_mae: 1.5414\n",
      "Epoch 69/500\n",
      "913/913 [==============================] - 3s 3ms/step - loss: 8.5956 - mae: 1.3446 - val_loss: 17.6286 - val_mae: 1.7709\n",
      "Epoch 70/500\n",
      "913/913 [==============================] - 3s 3ms/step - loss: 9.9055 - mae: 1.4062 - val_loss: 5.2779 - val_mae: 1.0373\n",
      "Epoch 71/500\n",
      "913/913 [==============================] - 3s 3ms/step - loss: 10.1318 - mae: 1.4480 - val_loss: 8.9085 - val_mae: 1.4029\n",
      "Epoch 72/500\n",
      "913/913 [==============================] - 3s 3ms/step - loss: 11.0820 - mae: 1.5044 - val_loss: 28.4640 - val_mae: 2.6577\n",
      "Epoch 73/500\n",
      "913/913 [==============================] - 3s 3ms/step - loss: 8.7961 - mae: 1.3653 - val_loss: 27.2985 - val_mae: 2.5119\n",
      "Epoch 74/500\n",
      "913/913 [==============================] - 3s 3ms/step - loss: 9.7089 - mae: 1.4234 - val_loss: 25.4830 - val_mae: 2.3693\n",
      "Epoch 75/500\n",
      "913/913 [==============================] - 3s 3ms/step - loss: 10.2267 - mae: 1.4446 - val_loss: 9.3232 - val_mae: 1.2271\n",
      "Epoch 76/500\n",
      "913/913 [==============================] - 3s 3ms/step - loss: 10.5291 - mae: 1.4688 - val_loss: 19.7637 - val_mae: 2.2350\n",
      "Epoch 77/500\n",
      "913/913 [==============================] - 3s 3ms/step - loss: 7.6920 - mae: 1.2671 - val_loss: 6.2333 - val_mae: 1.0638\n",
      "Epoch 78/500\n",
      "913/913 [==============================] - 3s 3ms/step - loss: 10.0336 - mae: 1.4665 - val_loss: 7.2296 - val_mae: 1.2192\n",
      "Epoch 79/500\n",
      "913/913 [==============================] - 3s 3ms/step - loss: 12.6854 - mae: 1.5989 - val_loss: 6.0171 - val_mae: 1.1579\n",
      "Epoch 80/500\n",
      "913/913 [==============================] - 3s 3ms/step - loss: 9.3243 - mae: 1.3786 - val_loss: 7.1532 - val_mae: 1.2133\n",
      "Epoch 81/500\n",
      "913/913 [==============================] - 3s 3ms/step - loss: 8.3624 - mae: 1.3090 - val_loss: 6.0908 - val_mae: 1.3838\n",
      "Epoch 82/500\n",
      "913/913 [==============================] - 3s 3ms/step - loss: 10.1332 - mae: 1.4709 - val_loss: 5.7906 - val_mae: 1.2211\n",
      "Epoch 83/500\n",
      "913/913 [==============================] - 3s 3ms/step - loss: 10.9645 - mae: 1.5372 - val_loss: 9.2462 - val_mae: 1.5399\n",
      "Epoch 84/500\n",
      "913/913 [==============================] - 3s 3ms/step - loss: 9.4429 - mae: 1.3987 - val_loss: 5.8440 - val_mae: 1.1260\n",
      "Epoch 85/500\n",
      "913/913 [==============================] - 3s 3ms/step - loss: 8.5194 - mae: 1.3336 - val_loss: 5.8320 - val_mae: 1.2003\n",
      "Epoch 86/500\n",
      "913/913 [==============================] - 3s 3ms/step - loss: 11.1772 - mae: 1.5401 - val_loss: 5.4035 - val_mae: 1.0958\n",
      "Epoch 87/500\n",
      "913/913 [==============================] - 3s 3ms/step - loss: 10.4380 - mae: 1.4527 - val_loss: 8.0947 - val_mae: 1.1548\n",
      "Epoch 88/500\n",
      "913/913 [==============================] - 3s 3ms/step - loss: 9.0919 - mae: 1.3713 - val_loss: 5.0287 - val_mae: 0.9210\n",
      "Epoch 89/500\n",
      "913/913 [==============================] - 3s 3ms/step - loss: 11.5813 - mae: 1.5735 - val_loss: 5.0757 - val_mae: 1.0230\n",
      "Epoch 90/500\n",
      "913/913 [==============================] - 3s 3ms/step - loss: 9.7048 - mae: 1.4119 - val_loss: 8.6787 - val_mae: 1.4388\n",
      "Epoch 91/500\n",
      "913/913 [==============================] - 3s 3ms/step - loss: 9.1400 - mae: 1.3787 - val_loss: 5.6222 - val_mae: 1.3062\n",
      "Epoch 92/500\n",
      "913/913 [==============================] - 3s 3ms/step - loss: 10.2109 - mae: 1.4375 - val_loss: 9.3166 - val_mae: 1.6717\n",
      "Epoch 93/500\n",
      "913/913 [==============================] - 3s 3ms/step - loss: 7.2742 - mae: 1.2323 - val_loss: 8.0336 - val_mae: 1.2490\n",
      "Epoch 94/500\n",
      "913/913 [==============================] - 3s 3ms/step - loss: 7.1801 - mae: 1.2099 - val_loss: 6.9893 - val_mae: 1.1840\n",
      "Epoch 95/500\n",
      "913/913 [==============================] - 3s 3ms/step - loss: 11.4341 - mae: 1.5209 - val_loss: 8.2344 - val_mae: 1.6720\n",
      "Epoch 96/500\n",
      "913/913 [==============================] - 3s 3ms/step - loss: 8.0299 - mae: 1.3329 - val_loss: 5.5999 - val_mae: 1.1198\n",
      "Epoch 97/500\n",
      "913/913 [==============================] - 3s 3ms/step - loss: 9.4721 - mae: 1.4156 - val_loss: 7.3907 - val_mae: 1.1041\n",
      "Epoch 98/500\n",
      "913/913 [==============================] - 3s 3ms/step - loss: 9.3314 - mae: 1.3968 - val_loss: 5.9045 - val_mae: 1.1356\n",
      "Epoch 99/500\n",
      "913/913 [==============================] - 3s 3ms/step - loss: 8.0847 - mae: 1.2784 - val_loss: 10.2611 - val_mae: 1.3266\n",
      "Epoch 100/500\n",
      "913/913 [==============================] - 3s 3ms/step - loss: 9.5405 - mae: 1.3755 - val_loss: 5.6790 - val_mae: 1.0416\n",
      "Epoch 101/500\n",
      "913/913 [==============================] - 3s 3ms/step - loss: 7.2480 - mae: 1.2257 - val_loss: 6.0139 - val_mae: 1.2672\n",
      "Epoch 102/500\n",
      "913/913 [==============================] - 3s 3ms/step - loss: 10.3630 - mae: 1.4811 - val_loss: 6.9679 - val_mae: 1.3782\n",
      "Epoch 103/500\n",
      "913/913 [==============================] - 3s 3ms/step - loss: 7.2227 - mae: 1.2027 - val_loss: 7.3386 - val_mae: 1.3296\n",
      "Epoch 104/500\n",
      "913/913 [==============================] - 3s 3ms/step - loss: 8.2489 - mae: 1.3084 - val_loss: 9.1758 - val_mae: 1.5177\n",
      "Epoch 105/500\n",
      "913/913 [==============================] - 3s 3ms/step - loss: 9.1216 - mae: 1.3751 - val_loss: 9.3912 - val_mae: 1.3257\n",
      "Epoch 106/500\n",
      "913/913 [==============================] - 3s 3ms/step - loss: 9.3669 - mae: 1.3800 - val_loss: 5.2165 - val_mae: 1.1047\n",
      "Epoch 107/500\n",
      "913/913 [==============================] - 3s 3ms/step - loss: 9.0770 - mae: 1.3687 - val_loss: 4.9410 - val_mae: 0.9506\n",
      "Epoch 108/500\n",
      "913/913 [==============================] - 3s 3ms/step - loss: 8.2831 - mae: 1.2898 - val_loss: 32.8297 - val_mae: 2.8576\n",
      "Epoch 109/500\n",
      "913/913 [==============================] - 3s 3ms/step - loss: 8.3009 - mae: 1.3101 - val_loss: 7.0384 - val_mae: 1.0921\n",
      "Epoch 110/500\n",
      "913/913 [==============================] - 3s 3ms/step - loss: 6.5315 - mae: 1.1784 - val_loss: 4.1766 - val_mae: 0.9364\n",
      "Epoch 111/500\n",
      "913/913 [==============================] - 3s 3ms/step - loss: 6.7066 - mae: 1.1555 - val_loss: 5.3193 - val_mae: 0.9444\n",
      "Epoch 112/500\n",
      "913/913 [==============================] - 3s 3ms/step - loss: 7.9708 - mae: 1.3007 - val_loss: 5.2241 - val_mae: 0.9543\n",
      "Epoch 113/500\n",
      "913/913 [==============================] - 3s 3ms/step - loss: 7.6018 - mae: 1.2298 - val_loss: 17.7830 - val_mae: 1.8108\n",
      "Epoch 114/500\n",
      "913/913 [==============================] - 3s 3ms/step - loss: 9.0892 - mae: 1.3768 - val_loss: 4.5373 - val_mae: 0.9782\n",
      "Epoch 115/500\n",
      "913/913 [==============================] - 3s 3ms/step - loss: 7.2605 - mae: 1.1980 - val_loss: 13.1196 - val_mae: 1.9173\n",
      "Epoch 116/500\n",
      "913/913 [==============================] - 3s 3ms/step - loss: 8.4805 - mae: 1.3160 - val_loss: 4.2058 - val_mae: 0.9596\n",
      "Epoch 117/500\n",
      "913/913 [==============================] - 3s 3ms/step - loss: 6.3575 - mae: 1.1589 - val_loss: 6.3031 - val_mae: 1.2073\n",
      "Epoch 118/500\n",
      "913/913 [==============================] - 3s 3ms/step - loss: 6.6958 - mae: 1.1776 - val_loss: 10.1942 - val_mae: 1.6002\n",
      "Epoch 119/500\n",
      "913/913 [==============================] - 3s 3ms/step - loss: 13.5347 - mae: 1.7242 - val_loss: 6.6833 - val_mae: 1.0750\n",
      "Epoch 120/500\n",
      "913/913 [==============================] - 3s 3ms/step - loss: 6.7804 - mae: 1.1851 - val_loss: 3.7994 - val_mae: 0.9957\n",
      "Epoch 121/500\n",
      "913/913 [==============================] - 3s 3ms/step - loss: 8.0799 - mae: 1.2673 - val_loss: 13.4794 - val_mae: 1.5299\n",
      "Epoch 122/500\n",
      "913/913 [==============================] - 3s 3ms/step - loss: 8.3282 - mae: 1.3072 - val_loss: 7.4770 - val_mae: 1.3687\n",
      "Epoch 123/500\n",
      "913/913 [==============================] - 3s 3ms/step - loss: 7.5513 - mae: 1.2490 - val_loss: 10.4110 - val_mae: 1.3155\n",
      "Epoch 124/500\n",
      "913/913 [==============================] - 3s 3ms/step - loss: 7.0248 - mae: 1.1892 - val_loss: 3.9840 - val_mae: 0.8290\n",
      "Epoch 125/500\n",
      "913/913 [==============================] - 3s 3ms/step - loss: 8.8070 - mae: 1.3244 - val_loss: 23.1809 - val_mae: 2.1793\n",
      "Epoch 126/500\n",
      "913/913 [==============================] - 3s 3ms/step - loss: 6.7353 - mae: 1.1697 - val_loss: 22.7014 - val_mae: 2.2691\n",
      "Epoch 127/500\n",
      "913/913 [==============================] - 3s 3ms/step - loss: 9.5497 - mae: 1.4024 - val_loss: 6.7079 - val_mae: 1.0764\n",
      "Epoch 128/500\n",
      "913/913 [==============================] - 3s 3ms/step - loss: 7.4980 - mae: 1.2463 - val_loss: 5.5785 - val_mae: 1.0406\n",
      "Epoch 129/500\n",
      "913/913 [==============================] - 3s 3ms/step - loss: 7.1803 - mae: 1.1733 - val_loss: 5.6051 - val_mae: 1.0029\n",
      "Epoch 130/500\n",
      "913/913 [==============================] - 3s 3ms/step - loss: 6.9588 - mae: 1.1813 - val_loss: 6.1730 - val_mae: 1.4974\n",
      "Epoch 131/500\n",
      "913/913 [==============================] - 3s 3ms/step - loss: 6.6112 - mae: 1.1635 - val_loss: 4.5051 - val_mae: 0.9947\n",
      "Epoch 132/500\n",
      "913/913 [==============================] - 3s 3ms/step - loss: 7.1269 - mae: 1.1899 - val_loss: 5.0153 - val_mae: 1.1106\n",
      "Epoch 133/500\n",
      "913/913 [==============================] - 3s 3ms/step - loss: 6.5348 - mae: 1.1500 - val_loss: 4.0872 - val_mae: 0.9281\n",
      "Epoch 134/500\n",
      "913/913 [==============================] - 3s 3ms/step - loss: 7.0230 - mae: 1.1627 - val_loss: 6.8134 - val_mae: 1.2100\n",
      "Epoch 135/500\n",
      "913/913 [==============================] - 3s 3ms/step - loss: 6.4921 - mae: 1.1497 - val_loss: 6.1299 - val_mae: 1.1830\n",
      "Epoch 136/500\n",
      "913/913 [==============================] - 3s 3ms/step - loss: 8.7085 - mae: 1.3330 - val_loss: 4.7112 - val_mae: 1.1037\n",
      "Epoch 137/500\n",
      "913/913 [==============================] - 3s 3ms/step - loss: 8.8744 - mae: 1.3492 - val_loss: 7.1276 - val_mae: 1.1494\n",
      "Epoch 138/500\n",
      "913/913 [==============================] - 3s 3ms/step - loss: 6.4101 - mae: 1.1267 - val_loss: 4.4801 - val_mae: 1.0497\n",
      "Epoch 139/500\n",
      "913/913 [==============================] - 3s 3ms/step - loss: 6.8299 - mae: 1.1605 - val_loss: 3.3466 - val_mae: 0.7693\n",
      "Epoch 140/500\n",
      "913/913 [==============================] - 3s 3ms/step - loss: 8.0250 - mae: 1.2763 - val_loss: 3.8803 - val_mae: 0.7814\n",
      "Epoch 141/500\n",
      "913/913 [==============================] - 3s 3ms/step - loss: 7.3980 - mae: 1.2115 - val_loss: 6.9952 - val_mae: 1.3973\n",
      "Epoch 142/500\n",
      "913/913 [==============================] - 3s 3ms/step - loss: 6.6263 - mae: 1.1498 - val_loss: 5.6427 - val_mae: 1.0740\n",
      "Epoch 143/500\n",
      "913/913 [==============================] - 3s 3ms/step - loss: 7.9064 - mae: 1.2804 - val_loss: 5.0727 - val_mae: 1.0605\n",
      "Epoch 144/500\n",
      "913/913 [==============================] - 3s 3ms/step - loss: 6.3213 - mae: 1.1330 - val_loss: 12.1685 - val_mae: 1.8025\n",
      "Epoch 145/500\n",
      "913/913 [==============================] - 3s 3ms/step - loss: 8.8488 - mae: 1.3344 - val_loss: 6.1731 - val_mae: 0.9911\n",
      "Epoch 146/500\n",
      "913/913 [==============================] - 3s 3ms/step - loss: 5.9906 - mae: 1.1013 - val_loss: 6.7408 - val_mae: 1.2260\n",
      "Epoch 147/500\n",
      "913/913 [==============================] - 3s 3ms/step - loss: 8.4844 - mae: 1.2718 - val_loss: 11.6525 - val_mae: 1.9196\n",
      "Epoch 148/500\n",
      "913/913 [==============================] - 3s 3ms/step - loss: 6.7195 - mae: 1.1592 - val_loss: 4.3882 - val_mae: 0.9932\n",
      "Epoch 149/500\n",
      "913/913 [==============================] - 3s 3ms/step - loss: 6.2230 - mae: 1.1202 - val_loss: 4.9485 - val_mae: 1.0264\n",
      "Epoch 150/500\n",
      "913/913 [==============================] - 3s 3ms/step - loss: 14.9022 - mae: 1.8604 - val_loss: 15.9651 - val_mae: 1.7753\n",
      "Epoch 151/500\n",
      "913/913 [==============================] - 3s 3ms/step - loss: 7.4145 - mae: 1.2874 - val_loss: 4.2618 - val_mae: 1.0084\n",
      "Epoch 152/500\n",
      "913/913 [==============================] - 3s 3ms/step - loss: 8.2495 - mae: 1.3370 - val_loss: 11.2718 - val_mae: 1.4777\n",
      "Epoch 153/500\n",
      "913/913 [==============================] - 3s 3ms/step - loss: 7.4539 - mae: 1.2497 - val_loss: 27.9968 - val_mae: 2.9297\n",
      "Epoch 154/500\n",
      "913/913 [==============================] - 3s 3ms/step - loss: 7.4601 - mae: 1.2534 - val_loss: 23.5731 - val_mae: 2.0707\n",
      "Epoch 155/500\n",
      "913/913 [==============================] - 3s 3ms/step - loss: 6.0259 - mae: 1.1232 - val_loss: 3.8590 - val_mae: 1.0082\n",
      "Epoch 156/500\n",
      "913/913 [==============================] - 3s 3ms/step - loss: 7.3736 - mae: 1.2258 - val_loss: 9.9838 - val_mae: 1.3538\n",
      "Epoch 157/500\n",
      "913/913 [==============================] - 3s 4ms/step - loss: 7.1849 - mae: 1.2029 - val_loss: 5.3809 - val_mae: 1.1240\n",
      "Epoch 158/500\n",
      "913/913 [==============================] - 3s 4ms/step - loss: 6.4546 - mae: 1.1452 - val_loss: 5.7482 - val_mae: 1.0833\n",
      "Epoch 159/500\n",
      "913/913 [==============================] - 3s 3ms/step - loss: 5.5442 - mae: 1.0684 - val_loss: 4.7804 - val_mae: 1.0425\n",
      "Epoch 160/500\n",
      "913/913 [==============================] - 3s 4ms/step - loss: 4.9820 - mae: 1.0021 - val_loss: 4.2088 - val_mae: 0.9060\n",
      "Epoch 161/500\n",
      "913/913 [==============================] - 3s 4ms/step - loss: 6.2189 - mae: 1.1213 - val_loss: 12.3124 - val_mae: 1.5155\n",
      "Epoch 162/500\n",
      "913/913 [==============================] - 3s 3ms/step - loss: 7.6861 - mae: 1.2418 - val_loss: 5.3426 - val_mae: 1.0219\n",
      "Epoch 163/500\n",
      "913/913 [==============================] - 3s 3ms/step - loss: 6.5173 - mae: 1.1506 - val_loss: 5.6095 - val_mae: 1.1293\n",
      "Epoch 164/500\n",
      "913/913 [==============================] - 3s 3ms/step - loss: 6.0135 - mae: 1.0794 - val_loss: 4.9368 - val_mae: 1.0279\n",
      "Epoch 165/500\n",
      "913/913 [==============================] - 3s 3ms/step - loss: 5.9197 - mae: 1.0816 - val_loss: 3.9930 - val_mae: 0.9402\n",
      "Epoch 166/500\n",
      "913/913 [==============================] - 3s 3ms/step - loss: 5.4122 - mae: 1.0365 - val_loss: 3.2887 - val_mae: 0.7720\n",
      "Epoch 167/500\n",
      "913/913 [==============================] - 3s 3ms/step - loss: 7.3581 - mae: 1.1856 - val_loss: 3.7696 - val_mae: 0.8649\n",
      "Epoch 168/500\n",
      "913/913 [==============================] - 3s 3ms/step - loss: 5.7785 - mae: 1.0635 - val_loss: 4.5589 - val_mae: 1.0465\n",
      "Epoch 169/500\n",
      "913/913 [==============================] - 3s 3ms/step - loss: 6.6966 - mae: 1.1471 - val_loss: 5.7136 - val_mae: 1.1320\n",
      "Epoch 170/500\n",
      "913/913 [==============================] - 3s 3ms/step - loss: 5.9167 - mae: 1.1027 - val_loss: 6.7928 - val_mae: 1.1745\n",
      "Epoch 171/500\n",
      "913/913 [==============================] - 3s 3ms/step - loss: 5.3734 - mae: 1.0456 - val_loss: 3.7342 - val_mae: 0.9151\n",
      "Epoch 172/500\n",
      "913/913 [==============================] - 3s 3ms/step - loss: 7.0303 - mae: 1.1822 - val_loss: 7.7647 - val_mae: 1.3716\n",
      "Epoch 173/500\n",
      "913/913 [==============================] - 3s 3ms/step - loss: 5.9090 - mae: 1.0821 - val_loss: 4.0973 - val_mae: 0.8981\n",
      "Epoch 174/500\n",
      "913/913 [==============================] - 3s 3ms/step - loss: 5.7609 - mae: 1.0665 - val_loss: 3.6307 - val_mae: 0.8733\n",
      "Epoch 175/500\n",
      "913/913 [==============================] - 3s 3ms/step - loss: 6.5665 - mae: 1.1267 - val_loss: 19.1394 - val_mae: 1.9640\n",
      "Epoch 176/500\n",
      "913/913 [==============================] - 3s 3ms/step - loss: 5.6355 - mae: 1.0546 - val_loss: 3.2504 - val_mae: 0.7959\n",
      "Epoch 177/500\n",
      "913/913 [==============================] - 3s 3ms/step - loss: 6.5220 - mae: 1.1466 - val_loss: 7.6422 - val_mae: 1.2558\n",
      "Epoch 178/500\n",
      "913/913 [==============================] - 3s 3ms/step - loss: 5.7396 - mae: 1.0667 - val_loss: 5.0374 - val_mae: 1.0592\n",
      "Epoch 179/500\n",
      "913/913 [==============================] - 3s 3ms/step - loss: 7.9144 - mae: 1.2402 - val_loss: 10.2731 - val_mae: 1.3297\n",
      "Epoch 180/500\n",
      "913/913 [==============================] - 3s 3ms/step - loss: 6.9302 - mae: 1.1956 - val_loss: 3.0441 - val_mae: 0.7757\n",
      "Epoch 181/500\n",
      "913/913 [==============================] - 3s 3ms/step - loss: 5.4620 - mae: 1.0454 - val_loss: 8.9972 - val_mae: 1.2809\n",
      "Epoch 182/500\n",
      "913/913 [==============================] - 3s 3ms/step - loss: 6.0940 - mae: 1.1212 - val_loss: 2.6424 - val_mae: 0.7062\n",
      "Epoch 183/500\n",
      "913/913 [==============================] - 3s 3ms/step - loss: 7.3511 - mae: 1.1969 - val_loss: 3.3783 - val_mae: 0.7664\n",
      "Epoch 184/500\n",
      "913/913 [==============================] - 3s 3ms/step - loss: 5.7624 - mae: 1.0591 - val_loss: 4.0736 - val_mae: 0.9928\n",
      "Epoch 185/500\n",
      "913/913 [==============================] - 3s 3ms/step - loss: 5.8847 - mae: 1.0843 - val_loss: 5.6857 - val_mae: 1.0281\n",
      "Epoch 186/500\n",
      "913/913 [==============================] - 3s 3ms/step - loss: 7.5685 - mae: 1.2309 - val_loss: 8.3424 - val_mae: 1.4603\n",
      "Epoch 187/500\n",
      "913/913 [==============================] - 3s 3ms/step - loss: 5.1011 - mae: 1.0046 - val_loss: 4.3414 - val_mae: 0.9533\n",
      "Epoch 188/500\n",
      "913/913 [==============================] - 3s 3ms/step - loss: 7.1007 - mae: 1.1809 - val_loss: 3.9511 - val_mae: 0.9652\n",
      "Epoch 189/500\n",
      "913/913 [==============================] - 3s 3ms/step - loss: 5.6949 - mae: 1.0366 - val_loss: 3.3032 - val_mae: 0.8135\n",
      "Epoch 190/500\n",
      "913/913 [==============================] - 3s 3ms/step - loss: 5.0919 - mae: 0.9915 - val_loss: 27.8055 - val_mae: 2.1978\n",
      "Epoch 191/500\n",
      "913/913 [==============================] - 3s 3ms/step - loss: 6.8833 - mae: 1.1505 - val_loss: 6.2644 - val_mae: 1.2261\n",
      "Epoch 192/500\n",
      "913/913 [==============================] - 3s 3ms/step - loss: 7.3282 - mae: 1.1893 - val_loss: 9.8762 - val_mae: 1.3265\n",
      "Epoch 193/500\n",
      "913/913 [==============================] - 3s 3ms/step - loss: 5.0030 - mae: 1.0025 - val_loss: 2.8394 - val_mae: 0.7698\n",
      "Epoch 194/500\n",
      "913/913 [==============================] - 3s 3ms/step - loss: 5.9500 - mae: 1.0791 - val_loss: 3.0185 - val_mae: 0.7917\n",
      "Epoch 195/500\n",
      "913/913 [==============================] - 3s 3ms/step - loss: 6.3416 - mae: 1.1203 - val_loss: 3.3578 - val_mae: 0.8800\n",
      "Epoch 196/500\n",
      "913/913 [==============================] - 3s 3ms/step - loss: 4.0659 - mae: 0.8985 - val_loss: 6.0939 - val_mae: 1.0594\n",
      "Epoch 197/500\n",
      "913/913 [==============================] - 3s 3ms/step - loss: 6.4450 - mae: 1.1205 - val_loss: 4.1561 - val_mae: 0.8693\n",
      "Epoch 198/500\n",
      "913/913 [==============================] - 3s 3ms/step - loss: 5.5610 - mae: 1.0413 - val_loss: 3.6026 - val_mae: 0.8976\n",
      "Epoch 199/500\n",
      "913/913 [==============================] - 3s 3ms/step - loss: 6.9619 - mae: 1.1764 - val_loss: 6.4852 - val_mae: 1.0172\n",
      "Epoch 200/500\n",
      "913/913 [==============================] - 3s 4ms/step - loss: 5.6257 - mae: 1.0633 - val_loss: 3.4422 - val_mae: 0.8352\n",
      "Epoch 201/500\n",
      "913/913 [==============================] - 3s 4ms/step - loss: 5.2293 - mae: 1.0021 - val_loss: 5.0568 - val_mae: 0.9121\n",
      "Epoch 202/500\n",
      "913/913 [==============================] - 3s 4ms/step - loss: 5.5599 - mae: 1.0529 - val_loss: 3.4753 - val_mae: 0.7866\n",
      "Epoch 203/500\n",
      "913/913 [==============================] - 3s 3ms/step - loss: 7.0000 - mae: 1.1832 - val_loss: 15.3660 - val_mae: 1.5455\n",
      "Epoch 204/500\n",
      "913/913 [==============================] - 3s 4ms/step - loss: 5.1572 - mae: 1.0224 - val_loss: 3.1236 - val_mae: 0.7794\n",
      "Epoch 205/500\n",
      "913/913 [==============================] - 3s 3ms/step - loss: 5.1361 - mae: 1.0037 - val_loss: 14.1018 - val_mae: 2.0914\n",
      "Epoch 206/500\n",
      "913/913 [==============================] - 3s 3ms/step - loss: 4.7361 - mae: 0.9775 - val_loss: 4.4634 - val_mae: 0.8343\n",
      "Epoch 207/500\n",
      "913/913 [==============================] - 3s 3ms/step - loss: 6.1072 - mae: 1.0914 - val_loss: 4.1492 - val_mae: 0.9466\n",
      "Epoch 208/500\n",
      "913/913 [==============================] - 3s 3ms/step - loss: 6.1416 - mae: 1.0970 - val_loss: 5.9270 - val_mae: 0.9751\n",
      "Epoch 209/500\n",
      "913/913 [==============================] - 3s 3ms/step - loss: 5.1698 - mae: 1.0105 - val_loss: 4.5835 - val_mae: 1.0367\n",
      "Epoch 210/500\n",
      "913/913 [==============================] - 3s 3ms/step - loss: 5.8314 - mae: 1.0755 - val_loss: 5.1994 - val_mae: 1.1149\n",
      "Epoch 211/500\n",
      "913/913 [==============================] - 3s 3ms/step - loss: 7.0169 - mae: 1.1550 - val_loss: 7.0629 - val_mae: 1.0621\n",
      "Epoch 212/500\n",
      "913/913 [==============================] - 3s 3ms/step - loss: 5.8554 - mae: 1.0673 - val_loss: 24.9106 - val_mae: 2.1826\n",
      "Epoch 213/500\n",
      "913/913 [==============================] - 3s 3ms/step - loss: 6.6536 - mae: 1.1350 - val_loss: 6.3238 - val_mae: 1.2001\n",
      "Epoch 214/500\n",
      "913/913 [==============================] - 3s 3ms/step - loss: 5.2477 - mae: 1.0120 - val_loss: 6.3402 - val_mae: 1.1406\n",
      "Epoch 215/500\n",
      "913/913 [==============================] - 3s 3ms/step - loss: 4.7089 - mae: 0.9721 - val_loss: 4.1187 - val_mae: 0.8005\n",
      "Epoch 216/500\n",
      "913/913 [==============================] - 3s 3ms/step - loss: 6.0748 - mae: 1.0878 - val_loss: 3.2335 - val_mae: 0.8732\n",
      "Epoch 217/500\n",
      "913/913 [==============================] - 3s 3ms/step - loss: 6.2933 - mae: 1.0949 - val_loss: 7.4937 - val_mae: 1.4725\n",
      "Epoch 218/500\n",
      "913/913 [==============================] - 3s 3ms/step - loss: 4.7383 - mae: 0.9831 - val_loss: 3.4214 - val_mae: 0.8608\n",
      "Epoch 219/500\n",
      "913/913 [==============================] - 3s 3ms/step - loss: 6.4885 - mae: 1.1309 - val_loss: 3.2978 - val_mae: 0.8481\n",
      "Epoch 220/500\n",
      "913/913 [==============================] - 3s 3ms/step - loss: 4.2085 - mae: 0.9163 - val_loss: 5.5802 - val_mae: 1.1035\n",
      "Epoch 221/500\n",
      "913/913 [==============================] - 3s 3ms/step - loss: 7.2988 - mae: 1.2012 - val_loss: 5.6881 - val_mae: 1.0722\n",
      "Epoch 222/500\n",
      "913/913 [==============================] - 3s 3ms/step - loss: 4.6130 - mae: 0.9584 - val_loss: 2.5569 - val_mae: 0.7042\n",
      "Epoch 223/500\n",
      "913/913 [==============================] - 3s 3ms/step - loss: 5.5520 - mae: 1.0494 - val_loss: 5.6259 - val_mae: 1.0317\n",
      "Epoch 224/500\n",
      "913/913 [==============================] - 3s 3ms/step - loss: 6.0983 - mae: 1.0838 - val_loss: 5.7461 - val_mae: 1.0320\n",
      "Epoch 225/500\n",
      "913/913 [==============================] - 3s 3ms/step - loss: 5.4130 - mae: 1.0325 - val_loss: 4.8828 - val_mae: 1.0552\n",
      "Epoch 226/500\n",
      "913/913 [==============================] - 3s 3ms/step - loss: 4.3929 - mae: 0.9324 - val_loss: 5.6319 - val_mae: 1.1158\n",
      "Epoch 227/500\n",
      "913/913 [==============================] - 3s 3ms/step - loss: 5.6553 - mae: 1.0482 - val_loss: 10.3538 - val_mae: 1.3372\n",
      "Epoch 228/500\n",
      "913/913 [==============================] - 3s 3ms/step - loss: 5.0846 - mae: 0.9887 - val_loss: 3.7569 - val_mae: 0.8229\n",
      "Epoch 229/500\n",
      "913/913 [==============================] - 3s 3ms/step - loss: 5.5320 - mae: 1.0561 - val_loss: 4.5225 - val_mae: 0.9034\n",
      "Epoch 230/500\n",
      "913/913 [==============================] - 3s 3ms/step - loss: 4.5226 - mae: 0.9449 - val_loss: 3.7350 - val_mae: 0.8559\n",
      "Epoch 231/500\n",
      "913/913 [==============================] - 3s 3ms/step - loss: 4.7316 - mae: 0.9713 - val_loss: 4.3713 - val_mae: 0.9206\n",
      "Epoch 232/500\n",
      "913/913 [==============================] - 3s 3ms/step - loss: 4.6917 - mae: 0.9645 - val_loss: 6.3701 - val_mae: 1.3430\n",
      "Epoch 233/500\n",
      "913/913 [==============================] - 3s 3ms/step - loss: 5.2722 - mae: 1.0168 - val_loss: 3.1004 - val_mae: 0.7190\n",
      "Epoch 234/500\n",
      "913/913 [==============================] - 3s 3ms/step - loss: 4.9934 - mae: 0.9872 - val_loss: 3.1558 - val_mae: 0.8227\n",
      "Epoch 235/500\n",
      "913/913 [==============================] - 3s 3ms/step - loss: 7.4401 - mae: 1.1989 - val_loss: 4.6226 - val_mae: 0.9233\n",
      "Epoch 236/500\n",
      "913/913 [==============================] - 3s 3ms/step - loss: 5.2229 - mae: 1.0036 - val_loss: 3.0443 - val_mae: 0.7213\n",
      "Epoch 237/500\n",
      "913/913 [==============================] - 3s 3ms/step - loss: 4.6070 - mae: 0.9481 - val_loss: 4.3405 - val_mae: 1.0287\n",
      "Epoch 238/500\n",
      "913/913 [==============================] - 3s 3ms/step - loss: 4.0580 - mae: 0.9029 - val_loss: 6.5995 - val_mae: 1.2265\n",
      "Epoch 239/500\n",
      "913/913 [==============================] - 3s 3ms/step - loss: 4.4030 - mae: 0.9349 - val_loss: 3.6390 - val_mae: 0.8099\n",
      "Epoch 240/500\n",
      "913/913 [==============================] - 3s 3ms/step - loss: 6.0678 - mae: 1.0936 - val_loss: 3.4726 - val_mae: 0.9941\n",
      "Epoch 241/500\n",
      "913/913 [==============================] - 3s 3ms/step - loss: 4.5369 - mae: 0.9418 - val_loss: 4.1667 - val_mae: 0.9296\n",
      "Epoch 242/500\n",
      "913/913 [==============================] - 3s 3ms/step - loss: 6.3167 - mae: 1.1065 - val_loss: 5.0649 - val_mae: 1.0853\n",
      "Epoch 243/500\n",
      "913/913 [==============================] - 3s 3ms/step - loss: 4.2277 - mae: 0.8983 - val_loss: 5.9189 - val_mae: 1.0564\n",
      "Epoch 244/500\n",
      "913/913 [==============================] - 3s 3ms/step - loss: 4.0568 - mae: 0.9091 - val_loss: 2.4255 - val_mae: 0.6685\n",
      "Epoch 245/500\n",
      "913/913 [==============================] - 3s 3ms/step - loss: 4.7790 - mae: 0.9648 - val_loss: 5.6824 - val_mae: 1.0162\n",
      "Epoch 246/500\n",
      "913/913 [==============================] - 3s 3ms/step - loss: 5.7596 - mae: 1.0430 - val_loss: 22.3752 - val_mae: 2.1537\n",
      "Epoch 247/500\n",
      "913/913 [==============================] - 3s 3ms/step - loss: 6.9979 - mae: 1.1969 - val_loss: 14.8754 - val_mae: 1.5092\n",
      "Epoch 248/500\n",
      "913/913 [==============================] - 3s 3ms/step - loss: 4.4673 - mae: 0.9297 - val_loss: 4.7600 - val_mae: 1.0087\n",
      "Epoch 249/500\n",
      "913/913 [==============================] - 3s 3ms/step - loss: 6.5121 - mae: 1.1132 - val_loss: 3.1025 - val_mae: 0.8011\n",
      "Epoch 250/500\n",
      "913/913 [==============================] - 3s 3ms/step - loss: 6.8481 - mae: 1.1580 - val_loss: 4.5487 - val_mae: 1.0348\n",
      "Epoch 251/500\n",
      "913/913 [==============================] - 3s 3ms/step - loss: 6.0259 - mae: 1.0940 - val_loss: 4.0767 - val_mae: 0.8506\n",
      "Epoch 252/500\n",
      "913/913 [==============================] - 3s 3ms/step - loss: 4.6692 - mae: 0.9409 - val_loss: 8.0812 - val_mae: 1.5271\n",
      "Epoch 253/500\n",
      "913/913 [==============================] - 3s 3ms/step - loss: 4.2656 - mae: 0.9364 - val_loss: 2.5383 - val_mae: 0.6825\n",
      "Epoch 254/500\n",
      "913/913 [==============================] - 3s 3ms/step - loss: 6.7104 - mae: 1.1170 - val_loss: 10.7668 - val_mae: 1.9116\n",
      "Epoch 255/500\n",
      "913/913 [==============================] - 3s 3ms/step - loss: 5.5986 - mae: 1.0582 - val_loss: 4.8302 - val_mae: 1.1243\n",
      "Epoch 256/500\n",
      "913/913 [==============================] - 3s 3ms/step - loss: 6.1478 - mae: 1.0889 - val_loss: 44.2888 - val_mae: 2.9643\n",
      "Epoch 257/500\n",
      "913/913 [==============================] - 3s 3ms/step - loss: 5.9414 - mae: 1.0651 - val_loss: 3.3447 - val_mae: 0.8313\n",
      "Epoch 258/500\n",
      "913/913 [==============================] - 3s 3ms/step - loss: 5.0210 - mae: 0.9945 - val_loss: 5.3873 - val_mae: 1.1688\n",
      "Epoch 259/500\n",
      "913/913 [==============================] - 3s 3ms/step - loss: 4.4904 - mae: 0.9417 - val_loss: 6.7743 - val_mae: 1.2285\n",
      "Epoch 260/500\n",
      "913/913 [==============================] - 3s 3ms/step - loss: 6.0119 - mae: 1.0755 - val_loss: 4.4587 - val_mae: 1.0032\n",
      "Epoch 261/500\n",
      "913/913 [==============================] - 3s 3ms/step - loss: 4.9005 - mae: 0.9801 - val_loss: 3.2110 - val_mae: 0.8037\n",
      "Epoch 262/500\n",
      "913/913 [==============================] - 3s 3ms/step - loss: 5.0106 - mae: 0.9931 - val_loss: 2.7422 - val_mae: 0.8178\n",
      "Epoch 263/500\n",
      "913/913 [==============================] - 3s 3ms/step - loss: 5.0331 - mae: 0.9955 - val_loss: 2.6534 - val_mae: 0.7572\n",
      "Epoch 264/500\n",
      "913/913 [==============================] - 3s 4ms/step - loss: 6.1726 - mae: 1.0589 - val_loss: 2.9476 - val_mae: 0.7642\n",
      "Epoch 265/500\n",
      "913/913 [==============================] - 3s 4ms/step - loss: 6.2788 - mae: 1.0969 - val_loss: 5.1389 - val_mae: 0.9524\n",
      "Epoch 266/500\n",
      "913/913 [==============================] - 3s 3ms/step - loss: 4.6123 - mae: 0.9374 - val_loss: 5.5988 - val_mae: 1.0088\n",
      "Epoch 267/500\n",
      "913/913 [==============================] - 3s 3ms/step - loss: 4.7397 - mae: 0.9541 - val_loss: 2.5420 - val_mae: 0.6650\n",
      "Epoch 268/500\n",
      "913/913 [==============================] - 3s 3ms/step - loss: 3.8769 - mae: 0.8637 - val_loss: 4.0134 - val_mae: 0.9774\n",
      "Epoch 269/500\n",
      "913/913 [==============================] - 3s 3ms/step - loss: 4.8972 - mae: 0.9893 - val_loss: 6.7798 - val_mae: 1.3135\n",
      "Epoch 270/500\n",
      "913/913 [==============================] - 3s 3ms/step - loss: 6.1610 - mae: 1.0946 - val_loss: 3.5813 - val_mae: 0.7878\n",
      "Epoch 271/500\n",
      "913/913 [==============================] - 3s 3ms/step - loss: 4.2026 - mae: 0.9050 - val_loss: 2.7186 - val_mae: 0.7312\n",
      "Epoch 272/500\n",
      "913/913 [==============================] - 3s 3ms/step - loss: 4.4757 - mae: 0.9398 - val_loss: 16.0990 - val_mae: 1.7274\n",
      "Epoch 273/500\n",
      "913/913 [==============================] - 3s 3ms/step - loss: 4.3042 - mae: 0.9184 - val_loss: 3.6829 - val_mae: 0.8024\n",
      "Epoch 274/500\n",
      "913/913 [==============================] - 3s 3ms/step - loss: 4.3681 - mae: 0.9290 - val_loss: 4.2668 - val_mae: 0.9444\n",
      "Epoch 275/500\n",
      "913/913 [==============================] - 3s 4ms/step - loss: 4.1816 - mae: 0.9206 - val_loss: 4.6424 - val_mae: 1.1027\n",
      "Epoch 276/500\n",
      "913/913 [==============================] - 3s 3ms/step - loss: 6.4413 - mae: 1.0893 - val_loss: 9.8330 - val_mae: 2.0215\n",
      "Epoch 277/500\n",
      "913/913 [==============================] - 3s 3ms/step - loss: 3.8696 - mae: 0.8691 - val_loss: 4.4565 - val_mae: 1.1010\n",
      "Epoch 278/500\n",
      "913/913 [==============================] - 3s 3ms/step - loss: 4.9743 - mae: 0.9907 - val_loss: 4.1470 - val_mae: 0.9769\n",
      "Epoch 279/500\n",
      "913/913 [==============================] - 3s 3ms/step - loss: 5.1365 - mae: 0.9930 - val_loss: 5.4136 - val_mae: 1.1117\n",
      "Epoch 280/500\n",
      "913/913 [==============================] - 3s 3ms/step - loss: 5.1693 - mae: 0.9842 - val_loss: 12.1801 - val_mae: 2.1874\n",
      "Epoch 281/500\n",
      "913/913 [==============================] - 3s 3ms/step - loss: 4.8167 - mae: 0.9797 - val_loss: 5.9619 - val_mae: 1.2009\n",
      "Epoch 282/500\n",
      "913/913 [==============================] - 3s 3ms/step - loss: 5.5970 - mae: 1.0432 - val_loss: 3.9244 - val_mae: 0.8585\n",
      "Epoch 283/500\n",
      "913/913 [==============================] - 3s 3ms/step - loss: 5.0159 - mae: 0.9717 - val_loss: 4.5750 - val_mae: 1.1706\n",
      "Epoch 284/500\n",
      "913/913 [==============================] - 3s 3ms/step - loss: 4.5195 - mae: 0.9363 - val_loss: 2.4911 - val_mae: 0.6877\n",
      "Epoch 285/500\n",
      "913/913 [==============================] - 3s 3ms/step - loss: 4.9185 - mae: 0.9614 - val_loss: 3.1802 - val_mae: 0.6895\n",
      "Epoch 286/500\n",
      "913/913 [==============================] - 3s 3ms/step - loss: 4.1047 - mae: 0.8797 - val_loss: 2.4605 - val_mae: 0.7315\n",
      "Epoch 287/500\n",
      "913/913 [==============================] - 3s 3ms/step - loss: 5.0561 - mae: 0.9989 - val_loss: 3.8331 - val_mae: 0.9132\n",
      "Epoch 288/500\n",
      "913/913 [==============================] - 3s 3ms/step - loss: 4.2417 - mae: 0.8972 - val_loss: 3.7462 - val_mae: 0.8723\n",
      "Epoch 289/500\n",
      "913/913 [==============================] - 3s 3ms/step - loss: 4.7175 - mae: 0.9467 - val_loss: 2.2376 - val_mae: 0.6290\n",
      "Epoch 290/500\n",
      "913/913 [==============================] - 3s 4ms/step - loss: 5.0848 - mae: 0.9962 - val_loss: 3.7569 - val_mae: 0.8694\n",
      "Epoch 291/500\n",
      "913/913 [==============================] - 3s 3ms/step - loss: 4.2079 - mae: 0.8996 - val_loss: 5.5303 - val_mae: 1.1500\n",
      "Epoch 292/500\n",
      "913/913 [==============================] - 3s 3ms/step - loss: 5.3048 - mae: 1.0244 - val_loss: 2.4548 - val_mae: 0.6503\n",
      "Epoch 293/500\n",
      "913/913 [==============================] - 3s 3ms/step - loss: 4.8822 - mae: 0.9546 - val_loss: 2.9839 - val_mae: 0.7530\n",
      "Epoch 294/500\n",
      "913/913 [==============================] - 3s 3ms/step - loss: 3.8069 - mae: 0.8622 - val_loss: 2.1797 - val_mae: 0.5879\n",
      "Epoch 295/500\n",
      "913/913 [==============================] - 3s 3ms/step - loss: 4.1888 - mae: 0.8944 - val_loss: 2.8809 - val_mae: 0.6938\n",
      "Epoch 296/500\n",
      "913/913 [==============================] - 3s 3ms/step - loss: 4.7100 - mae: 0.9686 - val_loss: 3.8143 - val_mae: 0.8343\n",
      "Epoch 297/500\n",
      "913/913 [==============================] - 3s 3ms/step - loss: 5.1018 - mae: 1.0019 - val_loss: 10.7636 - val_mae: 1.5004\n",
      "Epoch 298/500\n",
      "913/913 [==============================] - 3s 3ms/step - loss: 4.2957 - mae: 0.9318 - val_loss: 3.5823 - val_mae: 0.7873\n",
      "Epoch 299/500\n",
      "913/913 [==============================] - 3s 3ms/step - loss: 5.0386 - mae: 0.9919 - val_loss: 3.8207 - val_mae: 0.9833\n",
      "Epoch 300/500\n",
      "913/913 [==============================] - 3s 3ms/step - loss: 5.9955 - mae: 1.0478 - val_loss: 2.8591 - val_mae: 0.8456\n",
      "Epoch 301/500\n",
      "913/913 [==============================] - 3s 3ms/step - loss: 5.7522 - mae: 1.0421 - val_loss: 2.3171 - val_mae: 0.6949\n",
      "Epoch 302/500\n",
      "913/913 [==============================] - 3s 3ms/step - loss: 3.1212 - mae: 0.7911 - val_loss: 2.2079 - val_mae: 0.6064\n",
      "Epoch 303/500\n",
      "913/913 [==============================] - 3s 3ms/step - loss: 6.0200 - mae: 1.0876 - val_loss: 4.8449 - val_mae: 0.9980\n",
      "Epoch 304/500\n",
      "913/913 [==============================] - 3s 3ms/step - loss: 4.2899 - mae: 0.9121 - val_loss: 6.0804 - val_mae: 1.1301\n",
      "Epoch 305/500\n",
      "913/913 [==============================] - 3s 3ms/step - loss: 6.6674 - mae: 1.1404 - val_loss: 2.9659 - val_mae: 0.7050\n",
      "Epoch 306/500\n",
      "913/913 [==============================] - 3s 3ms/step - loss: 4.2354 - mae: 0.9142 - val_loss: 4.0783 - val_mae: 0.9596\n",
      "Epoch 307/500\n",
      "913/913 [==============================] - 3s 3ms/step - loss: 4.5429 - mae: 0.9364 - val_loss: 4.5698 - val_mae: 0.9136\n",
      "Epoch 308/500\n",
      "913/913 [==============================] - 3s 4ms/step - loss: 3.7597 - mae: 0.8660 - val_loss: 2.1957 - val_mae: 0.6423\n",
      "Epoch 309/500\n",
      "913/913 [==============================] - 3s 3ms/step - loss: 5.6399 - mae: 1.0437 - val_loss: 12.9291 - val_mae: 1.8194\n",
      "Epoch 310/500\n",
      "913/913 [==============================] - 3s 3ms/step - loss: 3.8426 - mae: 0.8712 - val_loss: 5.6825 - val_mae: 1.1278\n",
      "Epoch 311/500\n",
      "913/913 [==============================] - 3s 3ms/step - loss: 4.3649 - mae: 0.8883 - val_loss: 3.9847 - val_mae: 0.8227\n",
      "Epoch 312/500\n",
      "913/913 [==============================] - 3s 3ms/step - loss: 5.1056 - mae: 0.9627 - val_loss: 4.0159 - val_mae: 0.8529\n",
      "Epoch 313/500\n",
      "913/913 [==============================] - 3s 3ms/step - loss: 3.7854 - mae: 0.8618 - val_loss: 2.2667 - val_mae: 0.6742\n",
      "Epoch 314/500\n",
      "913/913 [==============================] - 3s 3ms/step - loss: 5.0743 - mae: 0.9845 - val_loss: 2.8069 - val_mae: 0.7562\n",
      "Epoch 315/500\n",
      "913/913 [==============================] - 3s 3ms/step - loss: 3.6864 - mae: 0.8476 - val_loss: 2.4240 - val_mae: 0.7082\n",
      "Epoch 316/500\n",
      "913/913 [==============================] - 3s 4ms/step - loss: 4.5736 - mae: 0.9205 - val_loss: 5.4149 - val_mae: 1.0821\n",
      "Epoch 317/500\n",
      "913/913 [==============================] - 3s 3ms/step - loss: 4.2760 - mae: 0.9100 - val_loss: 2.4111 - val_mae: 0.6690\n",
      "Epoch 318/500\n",
      "913/913 [==============================] - 3s 3ms/step - loss: 4.4309 - mae: 0.9143 - val_loss: 20.2527 - val_mae: 2.5513\n",
      "Epoch 319/500\n",
      "913/913 [==============================] - 3s 3ms/step - loss: 4.3858 - mae: 0.9237 - val_loss: 7.2635 - val_mae: 1.1845\n",
      "Epoch 320/500\n",
      "913/913 [==============================] - 3s 4ms/step - loss: 5.4411 - mae: 1.0289 - val_loss: 3.1227 - val_mae: 0.7248\n",
      "Epoch 321/500\n",
      "913/913 [==============================] - 3s 3ms/step - loss: 3.2428 - mae: 0.7866 - val_loss: 6.1287 - val_mae: 1.0443\n",
      "Epoch 322/500\n",
      "913/913 [==============================] - 3s 3ms/step - loss: 5.3043 - mae: 1.0161 - val_loss: 2.2689 - val_mae: 0.6538\n",
      "Epoch 323/500\n",
      "913/913 [==============================] - 3s 3ms/step - loss: 4.9615 - mae: 0.9609 - val_loss: 2.6928 - val_mae: 0.7483\n",
      "Epoch 324/500\n",
      "913/913 [==============================] - 3s 3ms/step - loss: 3.6012 - mae: 0.8298 - val_loss: 2.3900 - val_mae: 0.6662\n",
      "Epoch 325/500\n",
      "913/913 [==============================] - 3s 3ms/step - loss: 3.6349 - mae: 0.8380 - val_loss: 3.0125 - val_mae: 0.8873\n",
      "Epoch 326/500\n",
      "913/913 [==============================] - 3s 3ms/step - loss: 4.7800 - mae: 0.9643 - val_loss: 6.7730 - val_mae: 1.1662\n",
      "Epoch 327/500\n",
      "913/913 [==============================] - 3s 3ms/step - loss: 3.7357 - mae: 0.8505 - val_loss: 2.3573 - val_mae: 0.6145\n",
      "Epoch 328/500\n",
      "913/913 [==============================] - 3s 3ms/step - loss: 4.4344 - mae: 0.9288 - val_loss: 3.4755 - val_mae: 0.8833\n",
      "Epoch 329/500\n",
      "913/913 [==============================] - 3s 3ms/step - loss: 4.6572 - mae: 0.9416 - val_loss: 4.8948 - val_mae: 0.9069\n",
      "Epoch 330/500\n",
      "913/913 [==============================] - 3s 3ms/step - loss: 3.9155 - mae: 0.8798 - val_loss: 3.3524 - val_mae: 0.8034\n",
      "Epoch 331/500\n",
      "913/913 [==============================] - 3s 3ms/step - loss: 6.0053 - mae: 1.0364 - val_loss: 3.7861 - val_mae: 0.9252\n",
      "Epoch 332/500\n",
      "913/913 [==============================] - 3s 3ms/step - loss: 4.7911 - mae: 0.9440 - val_loss: 4.1966 - val_mae: 0.8209\n",
      "Epoch 333/500\n",
      "913/913 [==============================] - 3s 3ms/step - loss: 5.2314 - mae: 1.0132 - val_loss: 5.0472 - val_mae: 0.9796\n",
      "Epoch 334/500\n",
      "913/913 [==============================] - 3s 3ms/step - loss: 4.2412 - mae: 0.9159 - val_loss: 25.0803 - val_mae: 2.3641\n",
      "Epoch 335/500\n",
      "913/913 [==============================] - 3s 3ms/step - loss: 4.6963 - mae: 0.9503 - val_loss: 2.3858 - val_mae: 0.5924\n",
      "Epoch 336/500\n",
      "913/913 [==============================] - 3s 3ms/step - loss: 3.6186 - mae: 0.8326 - val_loss: 7.9163 - val_mae: 1.2248\n",
      "Epoch 337/500\n",
      "913/913 [==============================] - 3s 3ms/step - loss: 4.8853 - mae: 0.9593 - val_loss: 4.5998 - val_mae: 1.0412\n",
      "Epoch 338/500\n",
      "913/913 [==============================] - 3s 3ms/step - loss: 3.7039 - mae: 0.8635 - val_loss: 2.4732 - val_mae: 0.7619\n",
      "Epoch 339/500\n",
      "913/913 [==============================] - 3s 3ms/step - loss: 5.4354 - mae: 0.9967 - val_loss: 2.5579 - val_mae: 0.8021\n",
      "Epoch 340/500\n",
      "913/913 [==============================] - 3s 3ms/step - loss: 4.8013 - mae: 0.9446 - val_loss: 38.6494 - val_mae: 2.8848\n",
      "Epoch 341/500\n",
      "913/913 [==============================] - 3s 3ms/step - loss: 4.3676 - mae: 0.9249 - val_loss: 2.8875 - val_mae: 0.7041\n",
      "Epoch 342/500\n",
      "913/913 [==============================] - 3s 3ms/step - loss: 4.7059 - mae: 0.9302 - val_loss: 2.5858 - val_mae: 0.7058\n",
      "Epoch 343/500\n",
      "913/913 [==============================] - 3s 3ms/step - loss: 5.1367 - mae: 0.9856 - val_loss: 2.3402 - val_mae: 0.5818\n",
      "Epoch 344/500\n",
      "913/913 [==============================] - 3s 3ms/step - loss: 4.5264 - mae: 0.9178 - val_loss: 2.4308 - val_mae: 0.6991\n"
     ]
    }
   ],
   "source": [
    "history = ann.fit(X_train, y_train,\n",
    "                    validation_data = (X_val, y_val),\n",
    "                    callbacks=[es],\n",
    "                    epochs=500,\n",
    "                    batch_size=30,\n",
    "                    verbose=1)"
   ]
  },
  {
   "cell_type": "markdown",
   "metadata": {
    "colab_type": "text",
    "id": "0H0zKKNEBLD5"
   },
   "source": [
    "### Analyse learn history"
   ]
  },
  {
   "cell_type": "code",
   "execution_count": 22,
   "metadata": {
    "ExecuteTime": {
     "end_time": "2024-08-01T04:58:32.631323Z",
     "start_time": "2024-08-01T04:58:32.012803300Z"
    }
   },
   "outputs": [
    {
     "data": {
      "text/plain": "<Figure size 640x480 with 1 Axes>",
      "image/png": "[encoded data removed]"
     },
     "metadata": {},
     "output_type": "display_data"
    }
   ],
   "source": [
    "# let's see the training and validation accuracy by epoch\n",
    "history_dict = history.history\n",
    "loss_values = history_dict['loss'] # you can change this\n",
    "val_loss_values = history_dict['val_loss'] # you can also change this\n",
    "epochs = range(1, len(loss_values) + 1) # range of X (no. of epochs)\n",
    "plt.plot(epochs, loss_values, 'blue', label='Train set loss')\n",
    "plt.plot(epochs, val_loss_values, 'orange', label='Validation set loss')\n",
    "#plt.title('Training and testing loss')\n",
    "plt.xlabel('Epochs')\n",
    "plt.ylabel('Loss (MSE)')\n",
    "plt.legend()\n",
    "plt.savefig('Section4_ANN1_2.png', dpi=300, bbox_inches='tight')\n",
    "plt.show()"
   ]
  },
  {
   "cell_type": "code",
   "execution_count": 23,
   "metadata": {
    "ExecuteTime": {
     "end_time": "2024-08-01T04:58:36.270498Z",
     "start_time": "2024-08-01T04:58:35.828500Z"
    }
   },
   "outputs": [
    {
     "data": {
      "text/plain": "<Figure size 640x480 with 1 Axes>",
      "image/png": "[encoded data removed]"
     },
     "metadata": {},
     "output_type": "display_data"
    }
   ],
   "source": [
    "loss_values1 = history_dict['mae'] # you can change this\n",
    "val_loss_values1 = history_dict['val_mae'] # you can also change this\n",
    "epochs = range(1, len(loss_values1) + 1) # range of X (no. of epochs)\n",
    "plt.plot(epochs, loss_values1, 'blue', label='Train set MAE')\n",
    "plt.plot(epochs, val_loss_values1, 'orange', label='Validation set MAE')\n",
    "#plt.title('Training and testing MAE')\n",
    "plt.xlabel('Epochs')\n",
    "plt.ylabel('MAE')\n",
    "plt.legend()\n",
    "plt.savefig('Section4_ANN1_3.png', dpi=300, bbox_inches='tight')\n",
    "plt.show()"
   ]
  },
  {
   "cell_type": "code",
   "execution_count": null,
   "metadata": {},
   "outputs": [],
   "source": [
    "print (epochs)"
   ]
  },
  {
   "cell_type": "markdown",
   "metadata": {},
   "source": [
    "### Save the model"
   ]
  },
  {
   "cell_type": "code",
   "execution_count": null,
   "metadata": {},
   "outputs": [],
   "source": [
    "ann.save('Section4_new_ANN_1')\n",
    "import pickle\n",
    "pickle.dump(sc, open('Section4_new_scaler_ANN_1.pkl', 'wb'))"
   ]
  },
  {
   "cell_type": "markdown",
   "metadata": {},
   "source": [
    "## Part 5 - Make predictions"
   ]
  },
  {
   "cell_type": "code",
   "execution_count": null,
   "metadata": {},
   "outputs": [],
   "source": [
    "ann = load_model('ANN_13.h5')\n",
    "sc = pickle.load(open('scaler_ANN.pkl', 'rb'))"
   ]
  },
  {
   "cell_type": "code",
   "execution_count": 24,
   "metadata": {
    "ExecuteTime": {
     "end_time": "2024-08-01T04:58:43.831094900Z",
     "start_time": "2024-08-01T04:58:39.723016Z"
    }
   },
   "outputs": [
    {
     "name": "stdout",
     "output_type": "stream",
     "text": [
      "856/856 [==============================] - 2s 2ms/step\n",
      "286/286 [==============================] - 1s 2ms/step\n"
     ]
    },
    {
     "data": {
      "text/plain": "<Figure size 640x480 with 2 Axes>",
      "image/png": "[encoded data removed]"
     },
     "metadata": {},
     "output_type": "display_data"
    }
   ],
   "source": [
    "# scatterplot of actual vs. pred\n",
    "# specify the dimensions \n",
    "fig, axes = plt.subplots(1,2) # 1 row, 2 columns\n",
    "\n",
    "# this makes the individual subplots\n",
    "# Training Results\n",
    "axes[0].scatter(x=y_train, y=ann.predict(X_train)) #first row, first entry (left top)\n",
    "axes[0].set_xlabel(\"Actual\", fontsize=10)\n",
    "axes[0].set_ylabel(\"Predicted\",  fontsize=10)\n",
    "axes[0].set_title(\"Training\")\n",
    "# add 45 deg line\n",
    "x = np.linspace(*axes[0].get_xlim())\n",
    "axes[0].plot(x, x, color='red')\n",
    "# Validation Results\n",
    "axes[1].scatter(x=y_val, y=ann.predict(X_val)) # first row, second entry (right top)\n",
    "axes[1].set_xlabel(\"Actual\", fontsize=10)\n",
    "axes[1].set_ylabel(\"Predicted\",  fontsize=10)\n",
    "axes[1].set_title(\"Validation\")\n",
    "# add 45 deg line\n",
    "x = np.linspace(*axes[1].get_xlim())\n",
    "axes[1].plot(x, x, color='red')\n",
    "\n",
    "# tight layout\n",
    "fig.tight_layout()\n",
    "\n",
    "plt.savefig('Section4_ANN1_1.png', dpi=300, bbox_inches='tight')\n",
    "# show the plot\n",
    "plt.show()"
   ]
  },
  {
   "cell_type": "code",
   "execution_count": null,
   "metadata": {
    "colab": {
     "base_uri": "https://localhost:8080/",
     "height": 134
    },
    "colab_type": "code",
    "id": "IA0yApEmBG1X",
    "outputId": "cb981e1f-9204-4a2a-fece-9d66a6919189"
   },
   "outputs": [],
   "source": [
    "y_pred = ann.predict(X_test)\n",
    "np.set_printoptions(precision=2)\n",
    "print(np.concatenate((y_pred.reshape(len(y_pred),1), y_test.reshape(len(y_test),1)),1))"
   ]
  },
  {
   "cell_type": "code",
   "execution_count": null,
   "metadata": {},
   "outputs": [],
   "source": [
    "import matplotlib.pyplot as plt\n",
    "plt.scatter(y_test, y_pred, color=\"blue\")\n",
    "#plt.plot ([0,1200000],[0,1200000], color = \"red\")\n",
    "#plt.axis ([0,1200000,0,1200000])\n",
    "plt.xlabel ('Actual data')\n",
    "plt.ylabel ('Predicted data')"
   ]
  },
  {
   "cell_type": "code",
   "execution_count": null,
   "metadata": {},
   "outputs": [],
   "source": [
    "from sklearn.metrics import r2_score\n",
    "# Initialize layout\n",
    "fig1, ax1 = plt.subplots(figsize = (9, 9))\n",
    "b_l = -10\n",
    "u_l = 110\n",
    "\n",
    "# Add scatterplot\n",
    "ax1.scatter(y_test, y_pred, s=70, alpha=1, edgecolors=\"k\",c='mediumblue',zorder=5, label = 'Points')\n",
    "\n",
    "\n",
    "plt.ylabel('Predicted Incident Pressure (kPa)',fontsize = 25)\n",
    "plt.xlabel('Target Incident Pressure (kPa)',fontsize = 25)\n",
    "plt.xticks(fontsize = 19)\n",
    "plt.yticks(fontsize = 19)\n",
    "\n",
    "\n",
    "x1 = np.linspace(b_l, u_l)\n",
    "\n",
    "plt.plot(x1, x1, 'Red', label='45\\N{DEGREE SIGN} line',lw=2.5,alpha=1)\n",
    "plt.plot(x1, 1.05*x1, '--m', label='\\u00B15% Error',lw=2.5,alpha=0.7)\n",
    "plt.plot(x1, 0.95*x1,'m', linestyle='--',lw=2.5,alpha=0.7)\n",
    "plt.plot(x1, 1.1*x1, '-.g', label='\\u00B110% Error',lw=2.5,alpha=0.7)\n",
    "plt.plot(x1, 0.9*x1,'-.g',lw=2.5,alpha=0.7)\n",
    "plt.plot(x1, 1.2*x1, color = '#F97306', linestyle='dotted', label='\\u00B120% Error',lw=2.5,alpha=0.7)\n",
    "plt.plot(x1, 0.8*x1,color = '#F97306', linestyle='dotted', lw=2.5,alpha=0.7)\n",
    "\n",
    "plt.ylim(b_l, u_l)\n",
    "plt.xlim(b_l, u_l)\n",
    "plt.legend(loc='upper left',fontsize = 21)\n",
    "\n",
    "plt.grid()\n",
    "\n",
    "ax1.spines['left'].set_color('black')        # setting up Y-axis tick color to red\n",
    "ax1.spines['bottom'].set_color('black')         #setting up above X-axis tick color to red\n",
    "\n",
    "# Save the plot\n",
    "plt.savefig('Section4_ANN1.png', dpi=300, bbox_inches='tight')"
   ]
  },
  {
   "cell_type": "code",
   "execution_count": null,
   "metadata": {},
   "outputs": [],
   "source": [
    "# metrics\n",
    "trainpreds = ann.predict(X_train)\n",
    "\n",
    "from sklearn.metrics import mean_absolute_error\n",
    "print(mean_absolute_error(y_train, trainpreds)) # train\n",
    "print(mean_absolute_error(y_test, y_pred)) # test"
   ]
  },
  {
   "cell_type": "code",
   "execution_count": null,
   "metadata": {},
   "outputs": [],
   "source": [
    "from sklearn.metrics import r2_score\n",
    "r2 = r2_score(y_test, y_pred)\n",
    "print (r2)"
   ]
  },
  {
   "cell_type": "code",
   "execution_count": null,
   "metadata": {},
   "outputs": [],
   "source": [
    "r2_train = r2_score(y_train, trainpreds)\n",
    "print (r2_train)"
   ]
  },
  {
   "cell_type": "code",
   "execution_count": null,
   "metadata": {},
   "outputs": [],
   "source": [
    "count0 = 0\n",
    "for i in range(len(y_pred)):\n",
    "    line1 = y_pred[i] - 0.95*y_test[i]\n",
    "    line2 = y_pred[i] - 1.05*y_test[i]\n",
    "    mask0 = (line1 > 0) & (line2 < 0)\n",
    "    count0 = np.sum(mask0+count0)\n",
    "\n",
    "count1 = 0\n",
    "for i in range(len(y_pred)):\n",
    "    line1 = y_pred[i] - 0.9*y_test[i]\n",
    "    line2 = y_pred[i] - 1.1*y_test[i]\n",
    "    mask1 = (line1 > 0) & (line2 < 0)\n",
    "    count1 = np.sum(mask1+count1)\n",
    "\n",
    "count2 = 0\n",
    "for j in range(len(y_pred)):\n",
    "    line3 = y_pred[j] - 0.8*y_test[j]\n",
    "    line4 = y_pred[j] - 1.2*y_test[j]\n",
    "    mask2 = (line3 > 0) & (line4 < 0)\n",
    "    count2 = np.sum(mask2+count2)\n",
    "\n",
    "\n",
    "count3 = 0    \n",
    "for k in range(len(y_pred)):\n",
    "    line5 = y_pred[k] - 0.8*y_test[k]\n",
    "    line6 = y_pred[k] - 1.2*y_test[k]\n",
    "    mask3 = (line5 < 0) or (line6 > 0)\n",
    "    count3 = np.sum(mask3+count3)\n",
    "   \n",
    "\n",
    "print ('Within 5% margin', format((count0/len (y_pred)),'.2%'))\n",
    "print ('Within 10% margin', format((count1/len (y_pred)),'.2%'))\n",
    "print ('Within 20% margin', format((count2/len (y_pred)),'.2%'))\n",
    "print ('Out of 20% margin', format((count3/len (y_pred)),'.2%'))"
   ]
  },
  {
   "cell_type": "code",
   "execution_count": null,
   "metadata": {},
   "outputs": [],
   "source": [
    "adj_r2 = 1 - ((1 - r2) * (len(X_test) - 1) / (len(X_test) - len (X_test[0]) - 1))\n",
    "print (adj_r2)"
   ]
  },
  {
   "cell_type": "code",
   "execution_count": null,
   "metadata": {},
   "outputs": [],
   "source": [
    "import math\n",
    "from sklearn.metrics import mean_squared_error\n",
    "\n",
    "math.sqrt(mean_squared_error(y_test, y_pred))"
   ]
  },
  {
   "cell_type": "code",
   "execution_count": null,
   "metadata": {},
   "outputs": [],
   "source": [
    "from sklearn.metrics import mean_absolute_error\n",
    "\n",
    "mean_absolute_error(y_test, y_pred)"
   ]
  }
 ],
 "metadata": {
  "colab": {
   "collapsed_sections": [],
   "name": "Artificial Neural Network",
   "provenance": [],
   "toc_visible": true
  },
  "kernelspec": {
   "display_name": "Python 3 (ipykernel)",
   "language": "python",
   "name": "python3"
  },
  "language_info": {
   "codemirror_mode": {
    "name": "ipython",
    "version": 3
   },
   "file_extension": ".py",
   "mimetype": "text/x-python",
   "name": "python",
   "nbconvert_exporter": "python",
   "pygments_lexer": "ipython3",
   "version": "3.9.7"
  }
 },
 "nbformat": 4,
 "nbformat_minor": 4
}
