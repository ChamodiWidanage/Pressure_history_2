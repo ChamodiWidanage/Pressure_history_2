{
 "cells": [
  {
   "cell_type": "markdown",
   "metadata": {
    "colab_type": "text",
    "id": "3cbb7fRy-eyr"
   },
   "source": [
    "# Artificial Neural Network"
   ]
  },
  {
   "cell_type": "markdown",
   "metadata": {
    "colab_type": "text",
    "id": "8sNDnxE2-pwE"
   },
   "source": [
    "## Part 1 - Importing the libraries"
   ]
  },
  {
   "cell_type": "code",
   "execution_count": 1,
   "metadata": {
    "colab": {},
    "colab_type": "code",
    "id": "lxChR1Rk-umf",
    "ExecuteTime": {
     "end_time": "2024-07-29T00:05:42.119671400Z",
     "start_time": "2024-07-29T00:05:36.087407400Z"
    }
   },
   "outputs": [],
   "source": [
    "import numpy as np\n",
    "import pandas as pd\n",
    "import tensorflow as tf\n",
    "import matplotlib.pyplot as plt\n",
    "from keras.models import load_model\n",
    "from pathlib import Path\n",
    "import pickle"
   ]
  },
  {
   "cell_type": "markdown",
   "metadata": {
    "colab_type": "text",
    "id": "AG3FQEch-yuA"
   },
   "source": [
    "## Part 2 - Data Preprocessing"
   ]
  },
  {
   "cell_type": "markdown",
   "metadata": {
    "colab_type": "text",
    "id": "-4zq8Mza_D9O"
   },
   "source": [
    "### Importing the dataset"
   ]
  },
  {
   "cell_type": "code",
   "execution_count": 2,
   "metadata": {
    "ExecuteTime": {
     "end_time": "2024-07-29T00:05:42.197534800Z",
     "start_time": "2024-07-29T00:05:42.119671400Z"
    }
   },
   "outputs": [
    {
     "name": "stdout",
     "output_type": "stream",
     "text": [
      "input G:\\Chamodi\\LSDYNA3D\\RP_TH_models\\RP_Section_4\n",
      "2 [WindowsPath('G:/Chamodi/LSDYNA3D/RP_TH_models/RP_Section_4/RP_curves_fr13m'), WindowsPath('G:/Chamodi/LSDYNA3D/RP_TH_models/RP_Section_4/RP_curves_fr15m'), WindowsPath('G:/Chamodi/LSDYNA3D/RP_TH_models/RP_Section_4/RP_curves_fr17m'), WindowsPath('G:/Chamodi/LSDYNA3D/RP_TH_models/RP_Section_4/RP_curves_fr19m')]\n"
     ]
    }
   ],
   "source": [
    "#Access input folder\n",
    "current_dir = Path.cwd()\n",
    "input_dir1 = Path (\"G:/Chamodi/LSDYNA3D/RP_TH_models/RP_Section_4\")\n",
    "print (\"input\",input_dir1)\n",
    "\n",
    "#Access folders inside input folder\n",
    "input_dir2=  [folder1 for folder1 in input_dir1.iterdir() if folder1.is_dir()] # folder1 - RP_curves_fr7m\n",
    "print (\"2\",input_dir2)"
   ]
  },
  {
   "cell_type": "code",
   "execution_count": 3,
   "metadata": {
    "ExecuteTime": {
     "end_time": "2024-07-29T00:10:20.700104900Z",
     "start_time": "2024-07-29T00:09:19.491268700Z"
    }
   },
   "outputs": [
    {
     "name": "stdout",
     "output_type": "stream",
     "text": [
      "folder G:\\Chamodi\\LSDYNA3D\\RP_TH_models\\RP_Section_4\\RP_curves_fr13m\\13m00.5kg\n",
      "1\n",
      "2\n",
      "3\n",
      "4\n",
      "folder G:\\Chamodi\\LSDYNA3D\\RP_TH_models\\RP_Section_4\\RP_curves_fr13m\\13m02.5kg\n",
      "1\n",
      "2\n",
      "3\n",
      "4\n",
      "folder G:\\Chamodi\\LSDYNA3D\\RP_TH_models\\RP_Section_4\\RP_curves_fr13m\\13m04.5kg\n",
      "1\n",
      "2\n",
      "3\n",
      "4\n",
      "folder G:\\Chamodi\\LSDYNA3D\\RP_TH_models\\RP_Section_4\\RP_curves_fr13m\\13m06.5kg\n",
      "1\n",
      "2\n",
      "3\n",
      "4\n",
      "folder G:\\Chamodi\\LSDYNA3D\\RP_TH_models\\RP_Section_4\\RP_curves_fr13m\\13m08.5kg\n",
      "1\n",
      "2\n",
      "3\n",
      "4\n",
      "folder G:\\Chamodi\\LSDYNA3D\\RP_TH_models\\RP_Section_4\\RP_curves_fr13m\\13m10.5kg\n",
      "1\n",
      "2\n",
      "3\n",
      "4\n",
      "folder G:\\Chamodi\\LSDYNA3D\\RP_TH_models\\RP_Section_4\\RP_curves_fr13m\\13m12.5kg\n",
      "1\n",
      "2\n",
      "3\n",
      "4\n",
      "folder G:\\Chamodi\\LSDYNA3D\\RP_TH_models\\RP_Section_4\\RP_curves_fr13m\\13m14.5kg\n",
      "1\n",
      "2\n",
      "3\n",
      "4\n",
      "folder G:\\Chamodi\\LSDYNA3D\\RP_TH_models\\RP_Section_4\\RP_curves_fr13m\\13m16.5kg\n",
      "1\n",
      "2\n",
      "3\n",
      "4\n",
      "folder G:\\Chamodi\\LSDYNA3D\\RP_TH_models\\RP_Section_4\\RP_curves_fr13m\\13m18.5kg\n",
      "1\n",
      "2\n",
      "3\n",
      "4\n",
      "folder G:\\Chamodi\\LSDYNA3D\\RP_TH_models\\RP_Section_4\\RP_curves_fr13m\\13m20.5kg\n",
      "1\n",
      "2\n",
      "3\n",
      "4\n",
      "folder G:\\Chamodi\\LSDYNA3D\\RP_TH_models\\RP_Section_4\\RP_curves_fr13m\\13m22.5kg\n",
      "1\n",
      "2\n",
      "3\n",
      "4\n",
      "folder G:\\Chamodi\\LSDYNA3D\\RP_TH_models\\RP_Section_4\\RP_curves_fr13m\\13m24.5kg\n",
      "1\n",
      "2\n",
      "3\n",
      "4\n",
      "folder G:\\Chamodi\\LSDYNA3D\\RP_TH_models\\RP_Section_4\\RP_curves_fr13m\\13m26.5kg\n",
      "1\n",
      "2\n",
      "3\n",
      "4\n",
      "folder G:\\Chamodi\\LSDYNA3D\\RP_TH_models\\RP_Section_4\\RP_curves_fr13m\\13m28.5kg\n",
      "1\n",
      "2\n",
      "3\n",
      "4\n",
      "folder G:\\Chamodi\\LSDYNA3D\\RP_TH_models\\RP_Section_4\\RP_curves_fr13m\\13m30.5kg\n",
      "1\n",
      "2\n",
      "3\n",
      "4\n",
      "folder G:\\Chamodi\\LSDYNA3D\\RP_TH_models\\RP_Section_4\\RP_curves_fr13m\\13m32.5kg\n",
      "1\n",
      "2\n",
      "3\n",
      "4\n",
      "folder G:\\Chamodi\\LSDYNA3D\\RP_TH_models\\RP_Section_4\\RP_curves_fr13m\\13m34.5kg\n",
      "1\n",
      "2\n",
      "3\n",
      "4\n",
      "folder G:\\Chamodi\\LSDYNA3D\\RP_TH_models\\RP_Section_4\\RP_curves_fr13m\\13m35.0kg\n",
      "1\n",
      "2\n",
      "3\n",
      "4\n",
      "folder G:\\Chamodi\\LSDYNA3D\\RP_TH_models\\RP_Section_4\\RP_curves_fr15m\\15m00.5kg\n",
      "1\n",
      "2\n",
      "3\n",
      "4\n",
      "folder G:\\Chamodi\\LSDYNA3D\\RP_TH_models\\RP_Section_4\\RP_curves_fr15m\\15m02.5kg\n",
      "1\n",
      "2\n",
      "3\n",
      "4\n",
      "folder G:\\Chamodi\\LSDYNA3D\\RP_TH_models\\RP_Section_4\\RP_curves_fr15m\\15m04.5kg\n",
      "1\n",
      "2\n",
      "3\n",
      "4\n",
      "folder G:\\Chamodi\\LSDYNA3D\\RP_TH_models\\RP_Section_4\\RP_curves_fr15m\\15m06.5kg\n",
      "1\n",
      "2\n",
      "3\n",
      "4\n",
      "folder G:\\Chamodi\\LSDYNA3D\\RP_TH_models\\RP_Section_4\\RP_curves_fr15m\\15m08.5kg\n",
      "1\n",
      "2\n",
      "3\n",
      "4\n",
      "folder G:\\Chamodi\\LSDYNA3D\\RP_TH_models\\RP_Section_4\\RP_curves_fr15m\\15m10.5kg\n",
      "1\n",
      "2\n",
      "3\n",
      "4\n",
      "folder G:\\Chamodi\\LSDYNA3D\\RP_TH_models\\RP_Section_4\\RP_curves_fr15m\\15m12.5kg\n",
      "1\n",
      "2\n",
      "3\n",
      "4\n",
      "folder G:\\Chamodi\\LSDYNA3D\\RP_TH_models\\RP_Section_4\\RP_curves_fr15m\\15m14.5kg\n",
      "1\n",
      "2\n",
      "3\n",
      "4\n",
      "folder G:\\Chamodi\\LSDYNA3D\\RP_TH_models\\RP_Section_4\\RP_curves_fr15m\\15m16.5kg\n",
      "1\n",
      "2\n",
      "3\n",
      "4\n",
      "folder G:\\Chamodi\\LSDYNA3D\\RP_TH_models\\RP_Section_4\\RP_curves_fr15m\\15m18.5kg\n",
      "1\n",
      "2\n",
      "3\n",
      "4\n",
      "folder G:\\Chamodi\\LSDYNA3D\\RP_TH_models\\RP_Section_4\\RP_curves_fr15m\\15m20.5kg\n",
      "1\n",
      "2\n",
      "3\n",
      "4\n",
      "folder G:\\Chamodi\\LSDYNA3D\\RP_TH_models\\RP_Section_4\\RP_curves_fr15m\\15m22.5kg\n",
      "1\n",
      "2\n",
      "3\n",
      "4\n",
      "folder G:\\Chamodi\\LSDYNA3D\\RP_TH_models\\RP_Section_4\\RP_curves_fr15m\\15m24.5kg\n",
      "1\n",
      "2\n",
      "3\n",
      "4\n",
      "folder G:\\Chamodi\\LSDYNA3D\\RP_TH_models\\RP_Section_4\\RP_curves_fr15m\\15m26.5kg\n",
      "1\n",
      "2\n",
      "3\n",
      "4\n",
      "folder G:\\Chamodi\\LSDYNA3D\\RP_TH_models\\RP_Section_4\\RP_curves_fr15m\\15m28.5kg\n",
      "1\n",
      "2\n",
      "3\n",
      "4\n",
      "folder G:\\Chamodi\\LSDYNA3D\\RP_TH_models\\RP_Section_4\\RP_curves_fr15m\\15m30.5kg\n",
      "1\n",
      "2\n",
      "3\n",
      "4\n",
      "folder G:\\Chamodi\\LSDYNA3D\\RP_TH_models\\RP_Section_4\\RP_curves_fr15m\\15m32.5kg\n",
      "1\n",
      "2\n",
      "3\n",
      "4\n",
      "folder G:\\Chamodi\\LSDYNA3D\\RP_TH_models\\RP_Section_4\\RP_curves_fr15m\\15m34.5kg\n",
      "1\n",
      "2\n",
      "3\n",
      "4\n",
      "folder G:\\Chamodi\\LSDYNA3D\\RP_TH_models\\RP_Section_4\\RP_curves_fr15m\\15m35.0kg\n",
      "1\n",
      "2\n",
      "3\n",
      "4\n",
      "folder G:\\Chamodi\\LSDYNA3D\\RP_TH_models\\RP_Section_4\\RP_curves_fr17m\\17m00.5kg\n",
      "1\n",
      "2\n",
      "3\n",
      "4\n",
      "folder G:\\Chamodi\\LSDYNA3D\\RP_TH_models\\RP_Section_4\\RP_curves_fr17m\\17m02.5kg\n",
      "1\n",
      "2\n",
      "3\n",
      "4\n",
      "folder G:\\Chamodi\\LSDYNA3D\\RP_TH_models\\RP_Section_4\\RP_curves_fr17m\\17m04.5kg\n",
      "1\n",
      "2\n",
      "3\n",
      "4\n",
      "folder G:\\Chamodi\\LSDYNA3D\\RP_TH_models\\RP_Section_4\\RP_curves_fr17m\\17m06.5kg\n",
      "1\n",
      "2\n",
      "3\n",
      "4\n",
      "folder G:\\Chamodi\\LSDYNA3D\\RP_TH_models\\RP_Section_4\\RP_curves_fr17m\\17m08.5kg\n",
      "1\n",
      "2\n",
      "3\n",
      "4\n",
      "folder G:\\Chamodi\\LSDYNA3D\\RP_TH_models\\RP_Section_4\\RP_curves_fr17m\\17m10.5kg\n",
      "1\n",
      "2\n",
      "3\n",
      "4\n",
      "folder G:\\Chamodi\\LSDYNA3D\\RP_TH_models\\RP_Section_4\\RP_curves_fr17m\\17m12.5kg\n",
      "1\n",
      "2\n",
      "3\n",
      "4\n",
      "folder G:\\Chamodi\\LSDYNA3D\\RP_TH_models\\RP_Section_4\\RP_curves_fr17m\\17m14.5kg\n",
      "1\n",
      "2\n",
      "3\n",
      "4\n",
      "folder G:\\Chamodi\\LSDYNA3D\\RP_TH_models\\RP_Section_4\\RP_curves_fr17m\\17m16.5kg\n",
      "1\n",
      "2\n",
      "3\n",
      "4\n",
      "folder G:\\Chamodi\\LSDYNA3D\\RP_TH_models\\RP_Section_4\\RP_curves_fr17m\\17m18.5kg\n",
      "1\n",
      "2\n",
      "3\n",
      "4\n",
      "folder G:\\Chamodi\\LSDYNA3D\\RP_TH_models\\RP_Section_4\\RP_curves_fr17m\\17m20.5kg\n",
      "1\n",
      "2\n",
      "3\n",
      "4\n",
      "folder G:\\Chamodi\\LSDYNA3D\\RP_TH_models\\RP_Section_4\\RP_curves_fr17m\\17m22.5kg\n",
      "1\n",
      "2\n",
      "3\n",
      "4\n",
      "folder G:\\Chamodi\\LSDYNA3D\\RP_TH_models\\RP_Section_4\\RP_curves_fr17m\\17m24.5kg\n",
      "1\n",
      "2\n",
      "3\n",
      "4\n",
      "folder G:\\Chamodi\\LSDYNA3D\\RP_TH_models\\RP_Section_4\\RP_curves_fr17m\\17m26.5kg\n",
      "1\n",
      "2\n",
      "3\n",
      "4\n",
      "folder G:\\Chamodi\\LSDYNA3D\\RP_TH_models\\RP_Section_4\\RP_curves_fr17m\\17m28.5kg\n",
      "1\n",
      "2\n",
      "3\n",
      "4\n",
      "folder G:\\Chamodi\\LSDYNA3D\\RP_TH_models\\RP_Section_4\\RP_curves_fr17m\\17m30.5kg\n",
      "1\n",
      "2\n",
      "3\n",
      "4\n",
      "folder G:\\Chamodi\\LSDYNA3D\\RP_TH_models\\RP_Section_4\\RP_curves_fr17m\\17m32.5kg\n",
      "1\n",
      "2\n",
      "3\n",
      "4\n",
      "folder G:\\Chamodi\\LSDYNA3D\\RP_TH_models\\RP_Section_4\\RP_curves_fr17m\\17m34.5kg\n",
      "1\n",
      "2\n",
      "3\n",
      "4\n",
      "folder G:\\Chamodi\\LSDYNA3D\\RP_TH_models\\RP_Section_4\\RP_curves_fr17m\\17m35.0kg\n",
      "1\n",
      "2\n",
      "3\n",
      "4\n",
      "folder G:\\Chamodi\\LSDYNA3D\\RP_TH_models\\RP_Section_4\\RP_curves_fr19m\\19m00.5kg\n",
      "1\n",
      "2\n",
      "3\n",
      "4\n",
      "folder G:\\Chamodi\\LSDYNA3D\\RP_TH_models\\RP_Section_4\\RP_curves_fr19m\\19m02.5kg\n",
      "1\n",
      "2\n",
      "3\n",
      "4\n",
      "folder G:\\Chamodi\\LSDYNA3D\\RP_TH_models\\RP_Section_4\\RP_curves_fr19m\\19m04.5kg\n",
      "1\n",
      "2\n",
      "3\n",
      "4\n",
      "folder G:\\Chamodi\\LSDYNA3D\\RP_TH_models\\RP_Section_4\\RP_curves_fr19m\\19m06.5kg\n",
      "1\n",
      "2\n",
      "3\n",
      "4\n",
      "folder G:\\Chamodi\\LSDYNA3D\\RP_TH_models\\RP_Section_4\\RP_curves_fr19m\\19m08.5kg\n",
      "1\n",
      "2\n",
      "3\n",
      "4\n",
      "folder G:\\Chamodi\\LSDYNA3D\\RP_TH_models\\RP_Section_4\\RP_curves_fr19m\\19m10.5kg\n",
      "1\n",
      "2\n",
      "3\n",
      "4\n",
      "folder G:\\Chamodi\\LSDYNA3D\\RP_TH_models\\RP_Section_4\\RP_curves_fr19m\\19m12.5kg\n",
      "1\n",
      "2\n",
      "3\n",
      "4\n",
      "folder G:\\Chamodi\\LSDYNA3D\\RP_TH_models\\RP_Section_4\\RP_curves_fr19m\\19m14.5kg\n",
      "1\n",
      "2\n",
      "3\n",
      "4\n",
      "folder G:\\Chamodi\\LSDYNA3D\\RP_TH_models\\RP_Section_4\\RP_curves_fr19m\\19m16.5kg\n",
      "1\n",
      "2\n",
      "3\n",
      "4\n",
      "folder G:\\Chamodi\\LSDYNA3D\\RP_TH_models\\RP_Section_4\\RP_curves_fr19m\\19m18.5kg\n",
      "1\n",
      "2\n",
      "3\n",
      "4\n",
      "folder G:\\Chamodi\\LSDYNA3D\\RP_TH_models\\RP_Section_4\\RP_curves_fr19m\\19m20.5kg\n",
      "1\n",
      "2\n",
      "3\n",
      "4\n",
      "folder G:\\Chamodi\\LSDYNA3D\\RP_TH_models\\RP_Section_4\\RP_curves_fr19m\\19m22.5kg\n",
      "1\n",
      "2\n",
      "3\n",
      "4\n",
      "folder G:\\Chamodi\\LSDYNA3D\\RP_TH_models\\RP_Section_4\\RP_curves_fr19m\\19m24.5kg\n",
      "1\n",
      "2\n",
      "3\n",
      "4\n",
      "folder G:\\Chamodi\\LSDYNA3D\\RP_TH_models\\RP_Section_4\\RP_curves_fr19m\\19m26.5kg\n",
      "1\n",
      "2\n",
      "3\n",
      "4\n",
      "folder G:\\Chamodi\\LSDYNA3D\\RP_TH_models\\RP_Section_4\\RP_curves_fr19m\\19m28.5kg\n",
      "1\n",
      "2\n",
      "3\n",
      "4\n",
      "folder G:\\Chamodi\\LSDYNA3D\\RP_TH_models\\RP_Section_4\\RP_curves_fr19m\\19m30.5kg\n",
      "1\n",
      "2\n",
      "3\n",
      "4\n",
      "folder G:\\Chamodi\\LSDYNA3D\\RP_TH_models\\RP_Section_4\\RP_curves_fr19m\\19m32.5kg\n",
      "1\n",
      "2\n",
      "3\n",
      "4\n",
      "folder G:\\Chamodi\\LSDYNA3D\\RP_TH_models\\RP_Section_4\\RP_curves_fr19m\\19m34.5kg\n",
      "1\n",
      "2\n",
      "3\n",
      "4\n",
      "folder G:\\Chamodi\\LSDYNA3D\\RP_TH_models\\RP_Section_4\\RP_curves_fr19m\\19m35.0kg\n",
      "1\n",
      "2\n",
      "3\n",
      "4\n"
     ]
    }
   ],
   "source": [
    "#dataset = pd.DataFrame(columns = ['Charge_mass', 'Standoff_distance', 'Time', 'Pressure', 'Phase'])\n",
    "df_list = []\n",
    "\n",
    "for folder1 in input_dir2:\n",
    "    \n",
    "    input_dir3 =  [folder2 for folder2 in folder1.iterdir() if folder2.is_dir()] # folder2 - 07m00.5kg\n",
    "    \n",
    "    for folder2 in input_dir3:\n",
    "        \n",
    "        print ('folder', folder2)\n",
    "        files1 = [file1 for file1 in folder2.rglob(\"*.xlsx\")]\n",
    "    \n",
    "        for file1 in files1:\n",
    "            df_list.append(pd.read_excel(file1))\n",
    "            print (file1.stem)\n",
    "    \n",
    "dataset = pd.concat(df_list, ignore_index = True)"
   ]
  },
  {
   "cell_type": "code",
   "execution_count": 4,
   "metadata": {
    "colab": {},
    "colab_type": "code",
    "id": "B9CV13Co_HHM",
    "ExecuteTime": {
     "end_time": "2024-07-29T00:10:23.856736400Z",
     "start_time": "2024-07-29T00:10:23.778404700Z"
    }
   },
   "outputs": [
    {
     "name": "stdout",
     "output_type": "stream",
     "text": [
      "<class 'pandas.core.frame.DataFrame'>\n",
      "RangeIndex: 535367 entries, 0 to 535366\n",
      "Data columns (total 6 columns):\n",
      " #   Column             Non-Null Count   Dtype  \n",
      "---  ------             --------------   -----  \n",
      " 0   Mass               535367 non-null  float64\n",
      " 1   Standoff distance  535367 non-null  int64  \n",
      " 2   Angle              535367 non-null  int64  \n",
      " 3   Time               535367 non-null  float64\n",
      " 4   Phase              535367 non-null  object \n",
      " 5   Pressure           535367 non-null  float64\n",
      "dtypes: float64(3), int64(2), object(1)\n",
      "memory usage: 24.5+ MB\n"
     ]
    }
   ],
   "source": [
    "dataset.info()"
   ]
  },
  {
   "cell_type": "code",
   "execution_count": 5,
   "outputs": [
    {
     "name": "stdout",
     "output_type": "stream",
     "text": [
      "<class 'pandas.core.frame.DataFrame'>\n",
      "RangeIndex: 535367 entries, 0 to 535366\n",
      "Data columns (total 8 columns):\n",
      " #   Column                     Non-Null Count   Dtype  \n",
      "---  ------                     --------------   -----  \n",
      " 0   Mass                       535367 non-null  float64\n",
      " 1   Standoff distance          535367 non-null  int64  \n",
      " 2   Angle                      535367 non-null  int64  \n",
      " 3   Time                       535367 non-null  float64\n",
      " 4   Pressure                   535367 non-null  float64\n",
      " 5   Phase_negative_decreasing  535367 non-null  uint8  \n",
      " 6   Phase_negative_increasing  535367 non-null  uint8  \n",
      " 7   Phase_positive             535367 non-null  uint8  \n",
      "dtypes: float64(3), int64(2), uint8(3)\n",
      "memory usage: 22.0 MB\n"
     ]
    }
   ],
   "source": [
    "dataset = pd.get_dummies(dataset, columns =['Phase'], dtype = np.uint8)\n",
    "dataset.info()"
   ],
   "metadata": {
    "collapsed": false,
    "ExecuteTime": {
     "end_time": "2024-07-29T00:10:25.497200100Z",
     "start_time": "2024-07-29T00:10:25.356468400Z"
    }
   }
  },
  {
   "cell_type": "code",
   "execution_count": 6,
   "outputs": [
    {
     "data": {
      "text/plain": "    Mass  Standoff distance  Angle       Time   Pressure  \\\n0    0.5                 13      0  32.475292  10.613961   \n1    0.5                 13      0  32.501128  10.575125   \n2    0.5                 13      0  32.526964  10.331852   \n3    0.5                 13      0  32.552809   9.986742   \n4    0.5                 13      0  32.578656   9.636125   \n5    0.5                 13      0  32.604503   9.363102   \n6    0.5                 13      0  32.630350   9.191898   \n7    0.5                 13      0  32.656197   9.095148   \n8    0.5                 13      0  32.682045   9.017906   \n9    0.5                 13      0  32.707893   8.859992   \n10   0.5                 13      0  32.733743   8.544781   \n11   0.5                 13      0  32.759600   8.039852   \n12   0.5                 13      0  32.785467   7.370180   \n13   0.5                 13      0  32.811343   6.593414   \n14   0.5                 13      0  32.837217   5.801836   \n15   0.5                 13      0  32.863089   5.057969   \n16   0.5                 13      0  32.888959   4.407305   \n17   0.5                 13      0  32.914831   3.859586   \n18   0.5                 13      0  32.940722   3.422930   \n19   0.5                 13      0  32.966613   3.086836   \n20   0.5                 13      0  32.992504   2.850336   \n21   0.5                 13      0  33.018394   2.711273   \n22   0.5                 13      0  33.044293   2.656227   \n23   0.5                 13      0  33.070200   2.658398   \n24   0.5                 13      0  33.096110   2.700242   \n25   0.5                 13      0  33.122021   2.731867   \n26   0.5                 13      0  33.147926   2.719414   \n27   0.5                 13      0  33.173843   2.640508   \n28   0.5                 13      0  33.199768   2.483352   \n29   0.5                 13      0  33.225688   2.281727   \n\n    Phase_negative_decreasing  Phase_negative_increasing  Phase_positive  \n0                           0                          0               1  \n1                           0                          0               1  \n2                           0                          0               1  \n3                           0                          0               1  \n4                           0                          0               1  \n5                           0                          0               1  \n6                           0                          0               1  \n7                           0                          0               1  \n8                           0                          0               1  \n9                           0                          0               1  \n10                          0                          0               1  \n11                          0                          0               1  \n12                          0                          0               1  \n13                          0                          0               1  \n14                          0                          0               1  \n15                          0                          0               1  \n16                          0                          0               1  \n17                          0                          0               1  \n18                          0                          0               1  \n19                          0                          0               1  \n20                          0                          0               1  \n21                          0                          0               1  \n22                          0                          0               1  \n23                          0                          0               1  \n24                          0                          0               1  \n25                          0                          0               1  \n26                          0                          0               1  \n27                          0                          0               1  \n28                          0                          0               1  \n29                          0                          0               1  ",
      "text/html": "<div>\n<style scoped>\n    .dataframe tbody tr th:only-of-type {\n        vertical-align: middle;\n    }\n\n    .dataframe tbody tr th {\n        vertical-align: top;\n    }\n\n    .dataframe thead th {\n        text-align: right;\n    }\n</style>\n<table border=\"1\" class=\"dataframe\">\n  <thead>\n    <tr style=\"text-align: right;\">\n      <th></th>\n      <th>Mass</th>\n      <th>Standoff distance</th>\n      <th>Angle</th>\n      <th>Time</th>\n      <th>Pressure</th>\n      <th>Phase_negative_decreasing</th>\n      <th>Phase_negative_increasing</th>\n      <th>Phase_positive</th>\n    </tr>\n  </thead>\n  <tbody>\n    <tr>\n      <th>0</th>\n      <td>0.5</td>\n      <td>13</td>\n      <td>0</td>\n      <td>32.475292</td>\n      <td>10.613961</td>\n      <td>0</td>\n      <td>0</td>\n      <td>1</td>\n    </tr>\n    <tr>\n      <th>1</th>\n      <td>0.5</td>\n      <td>13</td>\n      <td>0</td>\n      <td>32.501128</td>\n      <td>10.575125</td>\n      <td>0</td>\n      <td>0</td>\n      <td>1</td>\n    </tr>\n    <tr>\n      <th>2</th>\n      <td>0.5</td>\n      <td>13</td>\n      <td>0</td>\n      <td>32.526964</td>\n      <td>10.331852</td>\n      <td>0</td>\n      <td>0</td>\n      <td>1</td>\n    </tr>\n    <tr>\n      <th>3</th>\n      <td>0.5</td>\n      <td>13</td>\n      <td>0</td>\n      <td>32.552809</td>\n      <td>9.986742</td>\n      <td>0</td>\n      <td>0</td>\n      <td>1</td>\n    </tr>\n    <tr>\n      <th>4</th>\n      <td>0.5</td>\n      <td>13</td>\n      <td>0</td>\n      <td>32.578656</td>\n      <td>9.636125</td>\n      <td>0</td>\n      <td>0</td>\n      <td>1</td>\n    </tr>\n    <tr>\n      <th>5</th>\n      <td>0.5</td>\n      <td>13</td>\n      <td>0</td>\n      <td>32.604503</td>\n      <td>9.363102</td>\n      <td>0</td>\n      <td>0</td>\n      <td>1</td>\n    </tr>\n    <tr>\n      <th>6</th>\n      <td>0.5</td>\n      <td>13</td>\n      <td>0</td>\n      <td>32.630350</td>\n      <td>9.191898</td>\n      <td>0</td>\n      <td>0</td>\n      <td>1</td>\n    </tr>\n    <tr>\n      <th>7</th>\n      <td>0.5</td>\n      <td>13</td>\n      <td>0</td>\n      <td>32.656197</td>\n      <td>9.095148</td>\n      <td>0</td>\n      <td>0</td>\n      <td>1</td>\n    </tr>\n    <tr>\n      <th>8</th>\n      <td>0.5</td>\n      <td>13</td>\n      <td>0</td>\n      <td>32.682045</td>\n      <td>9.017906</td>\n      <td>0</td>\n      <td>0</td>\n      <td>1</td>\n    </tr>\n    <tr>\n      <th>9</th>\n      <td>0.5</td>\n      <td>13</td>\n      <td>0</td>\n      <td>32.707893</td>\n      <td>8.859992</td>\n      <td>0</td>\n      <td>0</td>\n      <td>1</td>\n    </tr>\n    <tr>\n      <th>10</th>\n      <td>0.5</td>\n      <td>13</td>\n      <td>0</td>\n      <td>32.733743</td>\n      <td>8.544781</td>\n      <td>0</td>\n      <td>0</td>\n      <td>1</td>\n    </tr>\n    <tr>\n      <th>11</th>\n      <td>0.5</td>\n      <td>13</td>\n      <td>0</td>\n      <td>32.759600</td>\n      <td>8.039852</td>\n      <td>0</td>\n      <td>0</td>\n      <td>1</td>\n    </tr>\n    <tr>\n      <th>12</th>\n      <td>0.5</td>\n      <td>13</td>\n      <td>0</td>\n      <td>32.785467</td>\n      <td>7.370180</td>\n      <td>0</td>\n      <td>0</td>\n      <td>1</td>\n    </tr>\n    <tr>\n      <th>13</th>\n      <td>0.5</td>\n      <td>13</td>\n      <td>0</td>\n      <td>32.811343</td>\n      <td>6.593414</td>\n      <td>0</td>\n      <td>0</td>\n      <td>1</td>\n    </tr>\n    <tr>\n      <th>14</th>\n      <td>0.5</td>\n      <td>13</td>\n      <td>0</td>\n      <td>32.837217</td>\n      <td>5.801836</td>\n      <td>0</td>\n      <td>0</td>\n      <td>1</td>\n    </tr>\n    <tr>\n      <th>15</th>\n      <td>0.5</td>\n      <td>13</td>\n      <td>0</td>\n      <td>32.863089</td>\n      <td>5.057969</td>\n      <td>0</td>\n      <td>0</td>\n      <td>1</td>\n    </tr>\n    <tr>\n      <th>16</th>\n      <td>0.5</td>\n      <td>13</td>\n      <td>0</td>\n      <td>32.888959</td>\n      <td>4.407305</td>\n      <td>0</td>\n      <td>0</td>\n      <td>1</td>\n    </tr>\n    <tr>\n      <th>17</th>\n      <td>0.5</td>\n      <td>13</td>\n      <td>0</td>\n      <td>32.914831</td>\n      <td>3.859586</td>\n      <td>0</td>\n      <td>0</td>\n      <td>1</td>\n    </tr>\n    <tr>\n      <th>18</th>\n      <td>0.5</td>\n      <td>13</td>\n      <td>0</td>\n      <td>32.940722</td>\n      <td>3.422930</td>\n      <td>0</td>\n      <td>0</td>\n      <td>1</td>\n    </tr>\n    <tr>\n      <th>19</th>\n      <td>0.5</td>\n      <td>13</td>\n      <td>0</td>\n      <td>32.966613</td>\n      <td>3.086836</td>\n      <td>0</td>\n      <td>0</td>\n      <td>1</td>\n    </tr>\n    <tr>\n      <th>20</th>\n      <td>0.5</td>\n      <td>13</td>\n      <td>0</td>\n      <td>32.992504</td>\n      <td>2.850336</td>\n      <td>0</td>\n      <td>0</td>\n      <td>1</td>\n    </tr>\n    <tr>\n      <th>21</th>\n      <td>0.5</td>\n      <td>13</td>\n      <td>0</td>\n      <td>33.018394</td>\n      <td>2.711273</td>\n      <td>0</td>\n      <td>0</td>\n      <td>1</td>\n    </tr>\n    <tr>\n      <th>22</th>\n      <td>0.5</td>\n      <td>13</td>\n      <td>0</td>\n      <td>33.044293</td>\n      <td>2.656227</td>\n      <td>0</td>\n      <td>0</td>\n      <td>1</td>\n    </tr>\n    <tr>\n      <th>23</th>\n      <td>0.5</td>\n      <td>13</td>\n      <td>0</td>\n      <td>33.070200</td>\n      <td>2.658398</td>\n      <td>0</td>\n      <td>0</td>\n      <td>1</td>\n    </tr>\n    <tr>\n      <th>24</th>\n      <td>0.5</td>\n      <td>13</td>\n      <td>0</td>\n      <td>33.096110</td>\n      <td>2.700242</td>\n      <td>0</td>\n      <td>0</td>\n      <td>1</td>\n    </tr>\n    <tr>\n      <th>25</th>\n      <td>0.5</td>\n      <td>13</td>\n      <td>0</td>\n      <td>33.122021</td>\n      <td>2.731867</td>\n      <td>0</td>\n      <td>0</td>\n      <td>1</td>\n    </tr>\n    <tr>\n      <th>26</th>\n      <td>0.5</td>\n      <td>13</td>\n      <td>0</td>\n      <td>33.147926</td>\n      <td>2.719414</td>\n      <td>0</td>\n      <td>0</td>\n      <td>1</td>\n    </tr>\n    <tr>\n      <th>27</th>\n      <td>0.5</td>\n      <td>13</td>\n      <td>0</td>\n      <td>33.173843</td>\n      <td>2.640508</td>\n      <td>0</td>\n      <td>0</td>\n      <td>1</td>\n    </tr>\n    <tr>\n      <th>28</th>\n      <td>0.5</td>\n      <td>13</td>\n      <td>0</td>\n      <td>33.199768</td>\n      <td>2.483352</td>\n      <td>0</td>\n      <td>0</td>\n      <td>1</td>\n    </tr>\n    <tr>\n      <th>29</th>\n      <td>0.5</td>\n      <td>13</td>\n      <td>0</td>\n      <td>33.225688</td>\n      <td>2.281727</td>\n      <td>0</td>\n      <td>0</td>\n      <td>1</td>\n    </tr>\n  </tbody>\n</table>\n</div>"
     },
     "execution_count": 6,
     "metadata": {},
     "output_type": "execute_result"
    }
   ],
   "source": [
    "dataset.head(30)"
   ],
   "metadata": {
    "collapsed": false,
    "ExecuteTime": {
     "end_time": "2024-07-29T00:10:26.634369300Z",
     "start_time": "2024-07-29T00:10:26.555408Z"
    }
   }
  },
  {
   "cell_type": "code",
   "execution_count": 7,
   "metadata": {
    "ExecuteTime": {
     "end_time": "2024-07-29T00:10:28.070222800Z",
     "start_time": "2024-07-29T00:10:28.012916200Z"
    }
   },
   "outputs": [
    {
     "name": "stdout",
     "output_type": "stream",
     "text": [
      "(535367, 7) (535367,)\n"
     ]
    }
   ],
   "source": [
    "y = dataset['Pressure']\n",
    "X = dataset.drop(['Pressure'], axis=1)\n",
    "print(X.shape, y.shape)"
   ]
  },
  {
   "cell_type": "code",
   "execution_count": 8,
   "metadata": {
    "ExecuteTime": {
     "end_time": "2024-07-29T00:10:29.035953800Z",
     "start_time": "2024-07-29T00:10:28.972524Z"
    }
   },
   "outputs": [],
   "source": [
    "# convert to numpy array\n",
    "X = np.array(X)\n",
    "y = np.array(y)"
   ]
  },
  {
   "cell_type": "markdown",
   "metadata": {
    "colab_type": "text",
    "id": "VC6omXel_Up0"
   },
   "source": [
    "### Splitting the dataset into the Training set and Test set"
   ]
  },
  {
   "cell_type": "code",
   "execution_count": 9,
   "metadata": {
    "colab": {},
    "colab_type": "code",
    "id": "L5edeb2r_agx",
    "ExecuteTime": {
     "end_time": "2024-07-29T00:10:31.246715200Z",
     "start_time": "2024-07-29T00:10:30.325531800Z"
    }
   },
   "outputs": [],
   "source": [
    "from sklearn.model_selection import train_test_split\n",
    "X_train, X_test, y_train, y_test = train_test_split(X,\n",
    "                                                    y,\n",
    "                                                    test_size = 0.4,\n",
    "                                                    random_state = 0)"
   ]
  },
  {
   "cell_type": "code",
   "execution_count": 10,
   "metadata": {
    "colab": {},
    "colab_type": "code",
    "id": "L5edeb2r_agx",
    "ExecuteTime": {
     "end_time": "2024-07-29T00:10:32.887874300Z",
     "start_time": "2024-07-29T00:10:32.856667200Z"
    }
   },
   "outputs": [],
   "source": [
    "X_val, X_test, y_val, y_test = train_test_split(X_test,\n",
    "                                                y_test,\n",
    "                                                test_size = 0.5,\n",
    "                                                random_state = 0)"
   ]
  },
  {
   "cell_type": "markdown",
   "source": [
    "## Feature scaling"
   ],
   "metadata": {
    "collapsed": false
   }
  },
  {
   "cell_type": "code",
   "execution_count": 11,
   "outputs": [
    {
     "name": "stdout",
     "output_type": "stream",
     "text": [
      "[[ 1.14959427 -1.32454453  1.29059239 ...  0.          1.\n",
      "   0.        ]\n",
      " [ 0.95424183  1.42006442  1.29059239 ...  0.          1.\n",
      "   0.        ]\n",
      " [ 0.75888939 -0.40967488 -0.58187413 ...  1.          0.\n",
      "   0.        ]\n",
      " ...\n",
      " [ 1.14959427 -1.32454453  1.29059239 ...  1.          0.\n",
      "   0.        ]\n",
      " [-0.9992826   1.42006442  0.35435913 ...  0.          0.\n",
      "   1.        ]\n",
      " [-1.19463504  0.50519477  1.29059239 ...  1.          0.\n",
      "   0.        ]]\n"
     ]
    }
   ],
   "source": [
    "from sklearn.preprocessing import StandardScaler\n",
    "sc = StandardScaler()\n",
    "X_train[:,0:3] = sc.fit_transform(X_train[:, 0:3])\n",
    "print (X_train)"
   ],
   "metadata": {
    "collapsed": false,
    "ExecuteTime": {
     "end_time": "2024-07-29T00:10:34.242595600Z",
     "start_time": "2024-07-29T00:10:34.169162400Z"
    }
   }
  },
  {
   "cell_type": "code",
   "execution_count": 12,
   "outputs": [
    {
     "name": "stdout",
     "output_type": "stream",
     "text": [
      "[[ 1.39378482 -1.32454453 -0.58187413 ...  1.          0.\n",
      "   0.        ]\n",
      " [-0.41322527 -1.32454453 -1.51810739 ...  0.          0.\n",
      "   1.        ]\n",
      " [-0.60857772 -0.40967488  1.29059239 ...  0.          1.\n",
      "   0.        ]\n",
      " ...\n",
      " [-1.58533993  0.50519477  1.29059239 ...  0.          0.\n",
      "   1.        ]\n",
      " [-0.80393016 -1.32454453  1.29059239 ...  1.          0.\n",
      "   0.        ]\n",
      " [ 0.95424183 -1.32454453  1.29059239 ...  1.          0.\n",
      "   0.        ]]\n"
     ]
    }
   ],
   "source": [
    "X_test[:,0:3] = sc.transform(X_test[:,0:3])\n",
    "print (X_test)"
   ],
   "metadata": {
    "collapsed": false,
    "ExecuteTime": {
     "end_time": "2024-07-29T00:10:35.114601200Z",
     "start_time": "2024-07-29T00:10:35.035158100Z"
    }
   }
  },
  {
   "cell_type": "code",
   "execution_count": 13,
   "outputs": [
    {
     "name": "stdout",
     "output_type": "stream",
     "text": [
      "[[-0.41322527  1.42006442  1.29059239 ...  0.          0.\n",
      "   1.        ]\n",
      " [-1.19463504 -0.40967488 -0.58187413 ...  1.          0.\n",
      "   0.        ]\n",
      " [-1.97604482  1.42006442 -0.58187413 ...  0.          0.\n",
      "   1.        ]\n",
      " ...\n",
      " [ 0.17283206  1.42006442  0.35435913 ...  1.          0.\n",
      "   0.        ]\n",
      " [-1.38998749 -1.32454453 -0.58187413 ...  1.          0.\n",
      "   0.        ]\n",
      " [ 1.34494671 -0.40967488  1.29059239 ...  0.          0.\n",
      "   1.        ]]\n"
     ]
    }
   ],
   "source": [
    "X_val[:,0:3] = sc.transform(X_val[:,0:3])\n",
    "print (X_val)"
   ],
   "metadata": {
    "collapsed": false,
    "ExecuteTime": {
     "end_time": "2024-07-29T00:10:36.973280100Z",
     "start_time": "2024-07-29T00:10:36.941499Z"
    }
   }
  },
  {
   "cell_type": "code",
   "execution_count": 14,
   "outputs": [
    {
     "name": "stdout",
     "output_type": "stream",
     "text": [
      "X_train 321220\n",
      "X_test 107074\n",
      "X_val 107073\n"
     ]
    }
   ],
   "source": [
    "print (\"X_train\", len(X_train))\n",
    "print (\"X_test\", len(X_test))\n",
    "print (\"X_val\", len(X_val))"
   ],
   "metadata": {
    "collapsed": false,
    "ExecuteTime": {
     "end_time": "2024-07-29T00:10:40.352333600Z",
     "start_time": "2024-07-29T00:10:40.241391300Z"
    }
   }
  },
  {
   "cell_type": "markdown",
   "metadata": {
    "colab_type": "text",
    "id": "_mSLlAT9_eyI"
   },
   "source": [
    "## Part 3 - Building the ANN"
   ]
  },
  {
   "cell_type": "markdown",
   "metadata": {
    "colab_type": "text",
    "id": "CsBULd_f_wLY"
   },
   "source": [
    "### Initializing the ANN"
   ]
  },
  {
   "cell_type": "code",
   "execution_count": 15,
   "metadata": {
    "colab": {},
    "colab_type": "code",
    "id": "J6Hd97Ls__Nz",
    "ExecuteTime": {
     "end_time": "2024-07-29T00:10:41.972335500Z",
     "start_time": "2024-07-29T00:10:41.909018800Z"
    }
   },
   "outputs": [],
   "source": [
    "ann = tf.keras.models.Sequential()"
   ]
  },
  {
   "cell_type": "markdown",
   "metadata": {
    "colab_type": "text",
    "id": "iitAFJS_ABUn"
   },
   "source": [
    "### Adding the input layer and the first hidden layer"
   ]
  },
  {
   "cell_type": "code",
   "execution_count": 16,
   "metadata": {
    "colab": {},
    "colab_type": "code",
    "id": "ksO_Vv40AHix",
    "ExecuteTime": {
     "end_time": "2024-07-29T00:11:45.375345300Z",
     "start_time": "2024-07-29T00:11:45.264744100Z"
    }
   },
   "outputs": [],
   "source": [
    "ann.add(tf.keras.layers.Dense(units=150,\n",
    "                              input_shape=(X_train.shape[1],),\n",
    "                              activation='leaky_relu'))"
   ]
  },
  {
   "cell_type": "markdown",
   "metadata": {
    "colab_type": "text",
    "id": "-lb4kK_wAKbs"
   },
   "source": [
    "### Adding the second hidden layer"
   ]
  },
  {
   "cell_type": "code",
   "execution_count": 17,
   "metadata": {
    "colab": {},
    "colab_type": "code",
    "id": "c2357OqEAQOQ",
    "tags": [],
    "ExecuteTime": {
     "end_time": "2024-07-29T00:11:47.455421300Z",
     "start_time": "2024-07-29T00:11:47.388659900Z"
    }
   },
   "outputs": [],
   "source": [
    "ann.add(tf.keras.layers.Dense(units=125,\n",
    "                              activation='leaky_relu'))"
   ]
  },
  {
   "cell_type": "markdown",
   "metadata": {
    "colab_type": "text",
    "id": "-lb4kK_wAKbs"
   },
   "source": [
    "### Adding the third hidden layer"
   ]
  },
  {
   "cell_type": "code",
   "execution_count": 18,
   "metadata": {
    "colab": {},
    "colab_type": "code",
    "id": "c2357OqEAQOQ",
    "tags": [],
    "ExecuteTime": {
     "end_time": "2024-07-29T00:11:48.944420100Z",
     "start_time": "2024-07-29T00:11:48.883679100Z"
    }
   },
   "outputs": [],
   "source": [
    "ann.add(tf.keras.layers.Dense(units=100,\n",
    "                              activation='leaky_relu'))"
   ]
  },
  {
   "cell_type": "markdown",
   "metadata": {
    "colab_type": "text",
    "id": "jwMOmKb3AdBY"
   },
   "source": [
    "### Adding the output layer"
   ]
  },
  {
   "cell_type": "code",
   "execution_count": 19,
   "metadata": {
    "colab": {},
    "colab_type": "code",
    "id": "YFATpzsUAkLL",
    "ExecuteTime": {
     "end_time": "2024-07-29T00:11:50.769015900Z",
     "start_time": "2024-07-29T00:11:50.707030400Z"
    }
   },
   "outputs": [],
   "source": [
    "ann.add(tf.keras.layers.Dense(units=1,\n",
    "                              activation='linear'))"
   ]
  },
  {
   "cell_type": "markdown",
   "metadata": {},
   "source": [
    "### what model looks like"
   ]
  },
  {
   "cell_type": "code",
   "execution_count": 20,
   "metadata": {
    "ExecuteTime": {
     "end_time": "2024-07-29T00:11:52.958628200Z",
     "start_time": "2024-07-29T00:11:52.860054500Z"
    }
   },
   "outputs": [
    {
     "name": "stdout",
     "output_type": "stream",
     "text": [
      "Model: \"sequential\"\n",
      "_________________________________________________________________\n",
      " Layer (type)                Output Shape              Param #   \n",
      "=================================================================\n",
      " dense (Dense)               (None, 150)               1200      \n",
      "                                                                 \n",
      " dense_1 (Dense)             (None, 125)               18875     \n",
      "                                                                 \n",
      " dense_2 (Dense)             (None, 100)               12600     \n",
      "                                                                 \n",
      " dense_3 (Dense)             (None, 1)                 101       \n",
      "                                                                 \n",
      "=================================================================\n",
      "Total params: 32,776\n",
      "Trainable params: 32,776\n",
      "Non-trainable params: 0\n",
      "_________________________________________________________________\n"
     ]
    }
   ],
   "source": [
    "ann.summary()"
   ]
  },
  {
   "cell_type": "markdown",
   "metadata": {
    "colab_type": "text",
    "id": "fq7e4fF6A1yy"
   },
   "source": [
    "## Part 4 - Training the ANN"
   ]
  },
  {
   "cell_type": "markdown",
   "metadata": {
    "colab_type": "text",
    "id": "qDeylAs2An25"
   },
   "source": [
    "### Compiling the ANN"
   ]
  },
  {
   "cell_type": "code",
   "execution_count": 21,
   "metadata": {
    "colab": {},
    "colab_type": "code",
    "id": "pesgbWlCAtB4",
    "ExecuteTime": {
     "end_time": "2024-07-29T00:11:54.969022500Z",
     "start_time": "2024-07-29T00:11:54.920092500Z"
    }
   },
   "outputs": [],
   "source": [
    "# from tensorflow.keras.optimizers import Adam\n",
    "from keras.optimizers import Adam\n",
    "opt = Adam(learning_rate=0.001)\n",
    "ann.compile(optimizer = opt,\n",
    "            loss = 'mean_squared_error',\n",
    "            metrics = ['mae'])"
   ]
  },
  {
   "cell_type": "markdown",
   "metadata": {},
   "source": [
    "### early stopping callback"
   ]
  },
  {
   "cell_type": "code",
   "execution_count": 22,
   "metadata": {
    "ExecuteTime": {
     "end_time": "2024-07-29T00:11:56.871429100Z",
     "start_time": "2024-07-29T00:11:56.837399400Z"
    }
   },
   "outputs": [],
   "source": [
    "# protects from unnecessary further training of the model if a particular metric does not continue to improve over a number of n epochs. In such a case, the model training would be automatically aborted.\n",
    "from keras.callbacks import EarlyStopping\n",
    "es = EarlyStopping(monitor='val_loss',\n",
    "                   mode='min',\n",
    "                   patience=50,\n",
    "                   restore_best_weights = True)"
   ]
  },
  {
   "cell_type": "markdown",
   "metadata": {
    "colab_type": "text",
    "id": "YjVuiybYOo7r"
   },
   "source": [
    "### Training the ANN model on the Training set"
   ]
  },
  {
   "cell_type": "code",
   "execution_count": 24,
   "metadata": {
    "colab": {
     "base_uri": "https://localhost:8080/",
     "height": 1000
    },
    "colab_type": "code",
    "id": "c_vV-tiiA5zn",
    "outputId": "4a2b6ee6-ed75-4698-9069-b250e613803f",
    "ExecuteTime": {
     "end_time": "2024-07-29T07:25:26.040474900Z",
     "start_time": "2024-07-29T00:12:48.201485800Z"
    }
   },
   "outputs": [
    {
     "name": "stdout",
     "output_type": "stream",
     "text": [
      "Epoch 1/500\n",
      "8031/8031 [==============================] - 28s 4ms/step - loss: 5.6319 - mae: 0.7518 - val_loss: 6.7524 - val_mae: 1.0205\n",
      "Epoch 2/500\n",
      "8031/8031 [==============================] - 29s 4ms/step - loss: 5.5321 - mae: 0.7601 - val_loss: 26.0048 - val_mae: 1.7369\n",
      "Epoch 3/500\n",
      "8031/8031 [==============================] - 32s 4ms/step - loss: 5.1378 - mae: 0.7180 - val_loss: 6.5822 - val_mae: 0.9142\n",
      "Epoch 4/500\n",
      "8031/8031 [==============================] - 33s 4ms/step - loss: 4.2772 - mae: 0.6348 - val_loss: 4.4419 - val_mae: 0.6774\n",
      "Epoch 5/500\n",
      "8031/8031 [==============================] - 33s 4ms/step - loss: 4.0884 - mae: 0.6276 - val_loss: 2.7400 - val_mae: 0.4524\n",
      "Epoch 6/500\n",
      "8031/8031 [==============================] - 33s 4ms/step - loss: 3.6345 - mae: 0.5853 - val_loss: 10.6247 - val_mae: 0.9425\n",
      "Epoch 7/500\n",
      "8031/8031 [==============================] - 33s 4ms/step - loss: 3.5616 - mae: 0.5891 - val_loss: 4.5899 - val_mae: 0.9107\n",
      "Epoch 8/500\n",
      "8031/8031 [==============================] - 33s 4ms/step - loss: 3.3025 - mae: 0.5555 - val_loss: 2.0340 - val_mae: 0.4359\n",
      "Epoch 9/500\n",
      "8031/8031 [==============================] - 33s 4ms/step - loss: 3.2057 - mae: 0.5460 - val_loss: 10.6146 - val_mae: 1.0214\n",
      "Epoch 10/500\n",
      "8031/8031 [==============================] - 33s 4ms/step - loss: 3.0069 - mae: 0.5266 - val_loss: 3.0078 - val_mae: 0.3988\n",
      "Epoch 11/500\n",
      "8031/8031 [==============================] - 39s 5ms/step - loss: 3.2086 - mae: 0.5364 - val_loss: 2.8302 - val_mae: 0.6802\n",
      "Epoch 12/500\n",
      "8031/8031 [==============================] - 39s 5ms/step - loss: 2.9104 - mae: 0.5081 - val_loss: 6.3037 - val_mae: 0.9929\n",
      "Epoch 13/500\n",
      "8031/8031 [==============================] - 34s 4ms/step - loss: 3.1985 - mae: 0.5444 - val_loss: 2.8086 - val_mae: 0.5003\n",
      "Epoch 14/500\n",
      "8031/8031 [==============================] - 33s 4ms/step - loss: 2.8370 - mae: 0.5018 - val_loss: 2.3427 - val_mae: 0.5008\n",
      "Epoch 15/500\n",
      "8031/8031 [==============================] - 32s 4ms/step - loss: 2.6112 - mae: 0.4799 - val_loss: 1.3932 - val_mae: 0.3141\n",
      "Epoch 16/500\n",
      "8031/8031 [==============================] - 32s 4ms/step - loss: 2.6775 - mae: 0.4850 - val_loss: 3.8799 - val_mae: 0.6621\n",
      "Epoch 17/500\n",
      "8031/8031 [==============================] - 32s 4ms/step - loss: 2.5293 - mae: 0.4740 - val_loss: 1.4647 - val_mae: 0.3668\n",
      "Epoch 18/500\n",
      "8031/8031 [==============================] - 32s 4ms/step - loss: 2.7011 - mae: 0.4889 - val_loss: 2.0226 - val_mae: 0.3710\n",
      "Epoch 19/500\n",
      "8031/8031 [==============================] - 33s 4ms/step - loss: 2.3261 - mae: 0.4501 - val_loss: 4.2248 - val_mae: 0.4815\n",
      "Epoch 20/500\n",
      "8031/8031 [==============================] - 33s 4ms/step - loss: 2.4553 - mae: 0.4633 - val_loss: 1.6547 - val_mae: 0.3844\n",
      "Epoch 21/500\n",
      "8031/8031 [==============================] - 33s 4ms/step - loss: 2.2593 - mae: 0.4497 - val_loss: 7.2070 - val_mae: 0.7609\n",
      "Epoch 22/500\n",
      "8031/8031 [==============================] - 33s 4ms/step - loss: 2.2269 - mae: 0.4359 - val_loss: 1.4846 - val_mae: 0.3384\n",
      "Epoch 23/500\n",
      "8031/8031 [==============================] - 32s 4ms/step - loss: 2.2339 - mae: 0.4388 - val_loss: 1.2133 - val_mae: 0.3193\n",
      "Epoch 24/500\n",
      "8031/8031 [==============================] - 32s 4ms/step - loss: 2.1560 - mae: 0.4288 - val_loss: 1.4754 - val_mae: 0.3741\n",
      "Epoch 25/500\n",
      "8031/8031 [==============================] - 32s 4ms/step - loss: 2.0718 - mae: 0.4248 - val_loss: 2.2311 - val_mae: 0.3905\n",
      "Epoch 26/500\n",
      "8031/8031 [==============================] - 32s 4ms/step - loss: 2.5461 - mae: 0.4772 - val_loss: 2.0205 - val_mae: 0.4757\n",
      "Epoch 27/500\n",
      "8031/8031 [==============================] - 32s 4ms/step - loss: 2.0235 - mae: 0.4200 - val_loss: 2.0023 - val_mae: 0.3677\n",
      "Epoch 28/500\n",
      "8031/8031 [==============================] - 32s 4ms/step - loss: 2.1609 - mae: 0.4352 - val_loss: 1.1385 - val_mae: 0.3030\n",
      "Epoch 29/500\n",
      "8031/8031 [==============================] - 32s 4ms/step - loss: 1.9894 - mae: 0.4141 - val_loss: 2.0099 - val_mae: 0.3715\n",
      "Epoch 30/500\n",
      "8031/8031 [==============================] - 32s 4ms/step - loss: 2.0505 - mae: 0.4174 - val_loss: 3.7569 - val_mae: 0.5796\n",
      "Epoch 31/500\n",
      "8031/8031 [==============================] - 32s 4ms/step - loss: 2.1383 - mae: 0.4265 - val_loss: 1.5190 - val_mae: 0.3769\n",
      "Epoch 32/500\n",
      "8031/8031 [==============================] - 32s 4ms/step - loss: 1.8641 - mae: 0.3995 - val_loss: 1.2370 - val_mae: 0.3286\n",
      "Epoch 33/500\n",
      "8031/8031 [==============================] - 32s 4ms/step - loss: 1.9157 - mae: 0.4034 - val_loss: 0.8803 - val_mae: 0.3037\n",
      "Epoch 34/500\n",
      "8031/8031 [==============================] - 32s 4ms/step - loss: 1.8587 - mae: 0.3969 - val_loss: 12.9941 - val_mae: 1.1401\n",
      "Epoch 35/500\n",
      "8031/8031 [==============================] - 32s 4ms/step - loss: 1.8711 - mae: 0.4007 - val_loss: 0.9976 - val_mae: 0.3861\n",
      "Epoch 36/500\n",
      "8031/8031 [==============================] - 32s 4ms/step - loss: 1.9803 - mae: 0.4143 - val_loss: 1.4077 - val_mae: 0.3431\n",
      "Epoch 37/500\n",
      "8031/8031 [==============================] - 32s 4ms/step - loss: 1.7466 - mae: 0.3821 - val_loss: 3.7660 - val_mae: 0.5765\n",
      "Epoch 38/500\n",
      "8031/8031 [==============================] - 33s 4ms/step - loss: 1.7816 - mae: 0.3859 - val_loss: 1.6495 - val_mae: 0.3667\n",
      "Epoch 39/500\n",
      "8031/8031 [==============================] - 33s 4ms/step - loss: 1.7241 - mae: 0.3880 - val_loss: 1.0793 - val_mae: 0.2951\n",
      "Epoch 40/500\n",
      "8031/8031 [==============================] - 33s 4ms/step - loss: 1.8495 - mae: 0.3941 - val_loss: 1.2039 - val_mae: 0.3470\n",
      "Epoch 41/500\n",
      "8031/8031 [==============================] - 33s 4ms/step - loss: 1.8153 - mae: 0.3860 - val_loss: 1.5129 - val_mae: 0.3441\n",
      "Epoch 42/500\n",
      "8031/8031 [==============================] - 34s 4ms/step - loss: 1.6055 - mae: 0.3747 - val_loss: 1.0899 - val_mae: 0.2990\n",
      "Epoch 43/500\n",
      "8031/8031 [==============================] - 36s 5ms/step - loss: 1.6918 - mae: 0.3814 - val_loss: 0.9358 - val_mae: 0.2909\n",
      "Epoch 44/500\n",
      "8031/8031 [==============================] - 33s 4ms/step - loss: 1.5138 - mae: 0.3679 - val_loss: 1.1784 - val_mae: 0.3139\n",
      "Epoch 45/500\n",
      "8031/8031 [==============================] - 33s 4ms/step - loss: 1.4760 - mae: 0.3579 - val_loss: 1.1598 - val_mae: 0.3367\n",
      "Epoch 46/500\n",
      "8031/8031 [==============================] - 34s 4ms/step - loss: 1.5722 - mae: 0.3691 - val_loss: 2.2572 - val_mae: 0.3347\n",
      "Epoch 47/500\n",
      "8031/8031 [==============================] - 38s 5ms/step - loss: 1.5909 - mae: 0.3672 - val_loss: 0.7718 - val_mae: 0.2832\n",
      "Epoch 48/500\n",
      "8031/8031 [==============================] - 36s 4ms/step - loss: 1.5807 - mae: 0.3662 - val_loss: 2.2062 - val_mae: 0.5319\n",
      "Epoch 49/500\n",
      "8031/8031 [==============================] - 35s 4ms/step - loss: 1.5537 - mae: 0.3602 - val_loss: 0.9574 - val_mae: 0.2979\n",
      "Epoch 50/500\n",
      "8031/8031 [==============================] - 35s 4ms/step - loss: 1.5111 - mae: 0.3582 - val_loss: 2.1495 - val_mae: 0.3585\n",
      "Epoch 51/500\n",
      "8031/8031 [==============================] - 34s 4ms/step - loss: 1.4892 - mae: 0.3612 - val_loss: 0.6978 - val_mae: 0.2429\n",
      "Epoch 52/500\n",
      "8031/8031 [==============================] - 34s 4ms/step - loss: 1.5581 - mae: 0.3595 - val_loss: 1.5852 - val_mae: 0.2878\n",
      "Epoch 53/500\n",
      "8031/8031 [==============================] - 34s 4ms/step - loss: 1.4973 - mae: 0.3570 - val_loss: 0.9017 - val_mae: 0.2695\n",
      "Epoch 54/500\n",
      "8031/8031 [==============================] - 37s 5ms/step - loss: 1.4695 - mae: 0.3579 - val_loss: 3.7227 - val_mae: 0.5484\n",
      "Epoch 55/500\n",
      "8031/8031 [==============================] - 53s 7ms/step - loss: 1.4588 - mae: 0.3517 - val_loss: 1.7824 - val_mae: 0.4113\n",
      "Epoch 56/500\n",
      "8031/8031 [==============================] - 38s 5ms/step - loss: 1.3955 - mae: 0.3452 - val_loss: 0.6953 - val_mae: 0.2227\n",
      "Epoch 57/500\n",
      "8031/8031 [==============================] - 35s 4ms/step - loss: 1.4934 - mae: 0.3545 - val_loss: 0.8709 - val_mae: 0.2520\n",
      "Epoch 58/500\n",
      "8031/8031 [==============================] - 34s 4ms/step - loss: 1.5421 - mae: 0.3593 - val_loss: 1.0446 - val_mae: 0.3509\n",
      "Epoch 59/500\n",
      "8031/8031 [==============================] - 34s 4ms/step - loss: 1.4112 - mae: 0.3511 - val_loss: 1.8023 - val_mae: 0.3806\n",
      "Epoch 60/500\n",
      "8031/8031 [==============================] - 36s 4ms/step - loss: 1.3355 - mae: 0.3387 - val_loss: 1.2826 - val_mae: 0.3727\n",
      "Epoch 61/500\n",
      "8031/8031 [==============================] - 34s 4ms/step - loss: 1.3510 - mae: 0.3411 - val_loss: 1.6888 - val_mae: 0.4235\n",
      "Epoch 62/500\n",
      "8031/8031 [==============================] - 34s 4ms/step - loss: 1.4570 - mae: 0.3575 - val_loss: 2.0857 - val_mae: 0.3916\n",
      "Epoch 63/500\n",
      "8031/8031 [==============================] - 35s 4ms/step - loss: 1.3770 - mae: 0.3437 - val_loss: 1.3545 - val_mae: 0.3328\n",
      "Epoch 64/500\n",
      "8031/8031 [==============================] - 34s 4ms/step - loss: 1.4534 - mae: 0.3490 - val_loss: 0.8276 - val_mae: 0.2400\n",
      "Epoch 65/500\n",
      "8031/8031 [==============================] - 34s 4ms/step - loss: 1.3790 - mae: 0.3423 - val_loss: 2.4554 - val_mae: 0.3771\n",
      "Epoch 66/500\n",
      "8031/8031 [==============================] - 34s 4ms/step - loss: 1.2970 - mae: 0.3355 - val_loss: 0.7855 - val_mae: 0.2700\n",
      "Epoch 67/500\n",
      "8031/8031 [==============================] - 34s 4ms/step - loss: 1.3211 - mae: 0.3357 - val_loss: 0.7006 - val_mae: 0.2751\n",
      "Epoch 68/500\n",
      "8031/8031 [==============================] - 34s 4ms/step - loss: 1.2907 - mae: 0.3329 - val_loss: 1.0591 - val_mae: 0.3049\n",
      "Epoch 69/500\n",
      "8031/8031 [==============================] - 34s 4ms/step - loss: 1.2607 - mae: 0.3274 - val_loss: 0.6605 - val_mae: 0.2420\n",
      "Epoch 70/500\n",
      "8031/8031 [==============================] - 34s 4ms/step - loss: 1.2359 - mae: 0.3259 - val_loss: 0.6494 - val_mae: 0.2208\n",
      "Epoch 71/500\n",
      "8031/8031 [==============================] - 34s 4ms/step - loss: 1.2267 - mae: 0.3261 - val_loss: 0.8178 - val_mae: 0.2784\n",
      "Epoch 72/500\n",
      "8031/8031 [==============================] - 34s 4ms/step - loss: 1.2806 - mae: 0.3329 - val_loss: 2.7114 - val_mae: 0.3765\n",
      "Epoch 73/500\n",
      "8031/8031 [==============================] - 34s 4ms/step - loss: 1.1371 - mae: 0.3150 - val_loss: 0.6767 - val_mae: 0.3342\n",
      "Epoch 74/500\n",
      "8031/8031 [==============================] - 34s 4ms/step - loss: 1.2024 - mae: 0.3229 - val_loss: 1.3047 - val_mae: 0.2751\n",
      "Epoch 75/500\n",
      "8031/8031 [==============================] - 34s 4ms/step - loss: 1.2155 - mae: 0.3204 - val_loss: 2.5150 - val_mae: 0.4720\n",
      "Epoch 76/500\n",
      "8031/8031 [==============================] - 33s 4ms/step - loss: 1.1952 - mae: 0.3194 - val_loss: 0.7123 - val_mae: 0.2605\n",
      "Epoch 77/500\n",
      "8031/8031 [==============================] - 33s 4ms/step - loss: 1.1745 - mae: 0.3204 - val_loss: 5.5268 - val_mae: 0.6919\n",
      "Epoch 78/500\n",
      "8031/8031 [==============================] - 34s 4ms/step - loss: 1.2003 - mae: 0.3195 - val_loss: 1.8709 - val_mae: 0.5286\n",
      "Epoch 79/500\n",
      "8031/8031 [==============================] - 33s 4ms/step - loss: 1.2036 - mae: 0.3205 - val_loss: 1.9214 - val_mae: 0.4495\n",
      "Epoch 80/500\n",
      "8031/8031 [==============================] - 37s 5ms/step - loss: 1.1688 - mae: 0.3183 - val_loss: 0.6257 - val_mae: 0.2236\n",
      "Epoch 81/500\n",
      "8031/8031 [==============================] - 33s 4ms/step - loss: 1.2064 - mae: 0.3185 - val_loss: 0.7314 - val_mae: 0.2848\n",
      "Epoch 82/500\n",
      "8031/8031 [==============================] - 36s 4ms/step - loss: 1.1751 - mae: 0.3139 - val_loss: 1.2066 - val_mae: 0.3394\n",
      "Epoch 83/500\n",
      "8031/8031 [==============================] - 34s 4ms/step - loss: 1.2088 - mae: 0.3234 - val_loss: 0.6085 - val_mae: 0.2483\n",
      "Epoch 84/500\n",
      "8031/8031 [==============================] - 36s 5ms/step - loss: 1.1082 - mae: 0.3130 - val_loss: 0.6959 - val_mae: 0.2810\n",
      "Epoch 85/500\n",
      "8031/8031 [==============================] - 36s 5ms/step - loss: 1.1967 - mae: 0.3224 - val_loss: 1.3088 - val_mae: 0.4604\n",
      "Epoch 86/500\n",
      "8031/8031 [==============================] - 39s 5ms/step - loss: 1.2059 - mae: 0.3232 - val_loss: 0.7857 - val_mae: 0.3344\n",
      "Epoch 87/500\n",
      "8031/8031 [==============================] - 35s 4ms/step - loss: 1.2015 - mae: 0.3188 - val_loss: 1.3976 - val_mae: 0.3153\n",
      "Epoch 88/500\n",
      "8031/8031 [==============================] - 33s 4ms/step - loss: 1.1017 - mae: 0.3097 - val_loss: 1.0764 - val_mae: 0.3155\n",
      "Epoch 89/500\n",
      "8031/8031 [==============================] - 33s 4ms/step - loss: 1.0663 - mae: 0.3041 - val_loss: 0.5335 - val_mae: 0.2067\n",
      "Epoch 90/500\n",
      "8031/8031 [==============================] - 34s 4ms/step - loss: 1.0029 - mae: 0.2962 - val_loss: 0.6841 - val_mae: 0.2359\n",
      "Epoch 91/500\n",
      "8031/8031 [==============================] - 36s 5ms/step - loss: 1.0829 - mae: 0.3049 - val_loss: 0.5288 - val_mae: 0.2240\n",
      "Epoch 92/500\n",
      "8031/8031 [==============================] - 37s 5ms/step - loss: 1.0739 - mae: 0.3064 - val_loss: 0.8251 - val_mae: 0.2728\n",
      "Epoch 93/500\n",
      "8031/8031 [==============================] - 37s 5ms/step - loss: 1.0217 - mae: 0.3016 - val_loss: 0.5948 - val_mae: 0.2635\n",
      "Epoch 94/500\n",
      "8031/8031 [==============================] - 36s 4ms/step - loss: 1.0232 - mae: 0.3006 - val_loss: 0.8602 - val_mae: 0.2593\n",
      "Epoch 95/500\n",
      "8031/8031 [==============================] - 51s 6ms/step - loss: 1.0334 - mae: 0.3027 - val_loss: 0.9419 - val_mae: 0.2926\n",
      "Epoch 96/500\n",
      "8031/8031 [==============================] - 75s 9ms/step - loss: 1.1243 - mae: 0.3084 - val_loss: 1.4068 - val_mae: 0.3779\n",
      "Epoch 97/500\n",
      "8031/8031 [==============================] - 71s 9ms/step - loss: 1.0241 - mae: 0.3008 - val_loss: 0.8869 - val_mae: 0.3276\n",
      "Epoch 98/500\n",
      "8031/8031 [==============================] - 71s 9ms/step - loss: 1.0122 - mae: 0.2995 - val_loss: 3.3886 - val_mae: 0.7121\n",
      "Epoch 99/500\n",
      "8031/8031 [==============================] - 71s 9ms/step - loss: 1.1062 - mae: 0.3109 - val_loss: 0.5763 - val_mae: 0.2150\n",
      "Epoch 100/500\n",
      "8031/8031 [==============================] - 69s 9ms/step - loss: 1.0611 - mae: 0.3050 - val_loss: 0.6645 - val_mae: 0.2456\n",
      "Epoch 101/500\n",
      "8031/8031 [==============================] - 67s 8ms/step - loss: 1.0791 - mae: 0.3054 - val_loss: 0.4644 - val_mae: 0.2349\n",
      "Epoch 102/500\n",
      "8031/8031 [==============================] - 67s 8ms/step - loss: 0.9950 - mae: 0.2936 - val_loss: 0.9217 - val_mae: 0.2413\n",
      "Epoch 103/500\n",
      "8031/8031 [==============================] - 67s 8ms/step - loss: 1.0149 - mae: 0.2965 - val_loss: 4.1216 - val_mae: 0.4471\n",
      "Epoch 104/500\n",
      "8031/8031 [==============================] - 70s 9ms/step - loss: 0.9457 - mae: 0.2933 - val_loss: 0.6812 - val_mae: 0.2359\n",
      "Epoch 105/500\n",
      "8031/8031 [==============================] - 67s 8ms/step - loss: 1.1193 - mae: 0.3081 - val_loss: 0.7402 - val_mae: 0.2965\n",
      "Epoch 106/500\n",
      "8031/8031 [==============================] - 75s 9ms/step - loss: 1.0641 - mae: 0.3037 - val_loss: 1.2051 - val_mae: 0.3591\n",
      "Epoch 107/500\n",
      "8031/8031 [==============================] - 68s 8ms/step - loss: 1.0503 - mae: 0.3026 - val_loss: 0.7554 - val_mae: 0.2841\n",
      "Epoch 108/500\n",
      "8031/8031 [==============================] - 71s 9ms/step - loss: 0.9985 - mae: 0.2979 - val_loss: 0.4662 - val_mae: 0.1942\n",
      "Epoch 109/500\n",
      "8031/8031 [==============================] - 68s 8ms/step - loss: 0.9920 - mae: 0.2948 - val_loss: 2.0472 - val_mae: 0.3885\n",
      "Epoch 110/500\n",
      "8031/8031 [==============================] - 72s 9ms/step - loss: 0.9488 - mae: 0.2905 - val_loss: 0.5686 - val_mae: 0.2338\n",
      "Epoch 111/500\n",
      "8031/8031 [==============================] - 71s 9ms/step - loss: 1.0194 - mae: 0.3010 - val_loss: 0.8460 - val_mae: 0.2807\n",
      "Epoch 112/500\n",
      "8031/8031 [==============================] - 73s 9ms/step - loss: 0.9534 - mae: 0.2927 - val_loss: 0.7653 - val_mae: 0.2768\n",
      "Epoch 113/500\n",
      "8031/8031 [==============================] - 73s 9ms/step - loss: 0.9211 - mae: 0.2882 - val_loss: 0.6307 - val_mae: 0.2644\n",
      "Epoch 114/500\n",
      "8031/8031 [==============================] - 72s 9ms/step - loss: 0.9563 - mae: 0.2920 - val_loss: 0.6048 - val_mae: 0.2190\n",
      "Epoch 115/500\n",
      "8031/8031 [==============================] - 70s 9ms/step - loss: 1.0699 - mae: 0.3047 - val_loss: 0.4927 - val_mae: 0.2052\n",
      "Epoch 116/500\n",
      "8031/8031 [==============================] - 69s 9ms/step - loss: 0.9798 - mae: 0.2931 - val_loss: 0.5752 - val_mae: 0.2917\n",
      "Epoch 117/500\n",
      "8031/8031 [==============================] - 75s 9ms/step - loss: 0.9793 - mae: 0.2969 - val_loss: 0.6090 - val_mae: 0.2759\n",
      "Epoch 118/500\n",
      "8031/8031 [==============================] - 75s 9ms/step - loss: 0.8951 - mae: 0.2842 - val_loss: 0.7843 - val_mae: 0.3480\n",
      "Epoch 119/500\n",
      "8031/8031 [==============================] - 71s 9ms/step - loss: 0.8471 - mae: 0.2800 - val_loss: 0.5058 - val_mae: 0.2978\n",
      "Epoch 120/500\n",
      "8031/8031 [==============================] - 72s 9ms/step - loss: 1.0504 - mae: 0.3061 - val_loss: 1.4594 - val_mae: 0.3779\n",
      "Epoch 121/500\n",
      "8031/8031 [==============================] - 73s 9ms/step - loss: 0.8915 - mae: 0.2816 - val_loss: 1.3151 - val_mae: 0.3518\n",
      "Epoch 122/500\n",
      "8031/8031 [==============================] - 72s 9ms/step - loss: 0.9032 - mae: 0.2865 - val_loss: 0.7152 - val_mae: 0.2629\n",
      "Epoch 123/500\n",
      "8031/8031 [==============================] - 72s 9ms/step - loss: 0.8751 - mae: 0.2778 - val_loss: 1.0898 - val_mae: 0.2735\n",
      "Epoch 124/500\n",
      "8031/8031 [==============================] - 73s 9ms/step - loss: 0.8643 - mae: 0.2814 - val_loss: 0.4761 - val_mae: 0.1861\n",
      "Epoch 125/500\n",
      "8031/8031 [==============================] - 73s 9ms/step - loss: 0.8706 - mae: 0.2836 - val_loss: 2.8041 - val_mae: 0.4021\n",
      "Epoch 126/500\n",
      "8031/8031 [==============================] - 74s 9ms/step - loss: 0.8766 - mae: 0.2825 - val_loss: 1.0376 - val_mae: 0.2947\n",
      "Epoch 127/500\n",
      "8031/8031 [==============================] - 76s 9ms/step - loss: 0.9071 - mae: 0.2854 - val_loss: 1.5697 - val_mae: 0.3495\n",
      "Epoch 128/500\n",
      "8031/8031 [==============================] - 72s 9ms/step - loss: 0.9711 - mae: 0.2921 - val_loss: 6.0423 - val_mae: 0.6093\n",
      "Epoch 129/500\n",
      "8031/8031 [==============================] - 74s 9ms/step - loss: 0.9945 - mae: 0.2939 - val_loss: 2.9896 - val_mae: 0.4585\n",
      "Epoch 130/500\n",
      "8031/8031 [==============================] - 73s 9ms/step - loss: 0.9064 - mae: 0.2837 - val_loss: 0.6646 - val_mae: 0.2546\n",
      "Epoch 131/500\n",
      "8031/8031 [==============================] - 76s 9ms/step - loss: 0.9147 - mae: 0.2867 - val_loss: 2.4325 - val_mae: 0.4318\n",
      "Epoch 132/500\n",
      "8031/8031 [==============================] - 74s 9ms/step - loss: 0.9261 - mae: 0.2875 - val_loss: 3.2361 - val_mae: 0.5131\n",
      "Epoch 133/500\n",
      "8031/8031 [==============================] - 73s 9ms/step - loss: 0.8343 - mae: 0.2752 - val_loss: 0.8117 - val_mae: 0.2713\n",
      "Epoch 134/500\n",
      "8031/8031 [==============================] - 73s 9ms/step - loss: 0.8542 - mae: 0.2825 - val_loss: 1.1128 - val_mae: 0.4018\n",
      "Epoch 135/500\n",
      "8031/8031 [==============================] - 71s 9ms/step - loss: 0.9146 - mae: 0.2849 - val_loss: 0.5695 - val_mae: 0.2456\n",
      "Epoch 136/500\n",
      "8031/8031 [==============================] - 74s 9ms/step - loss: 0.8517 - mae: 0.2774 - val_loss: 0.4593 - val_mae: 0.2267\n",
      "Epoch 137/500\n",
      "8031/8031 [==============================] - 71s 9ms/step - loss: 0.8507 - mae: 0.2763 - val_loss: 0.4787 - val_mae: 0.2855\n",
      "Epoch 138/500\n",
      "8031/8031 [==============================] - 74s 9ms/step - loss: 0.8562 - mae: 0.2760 - val_loss: 0.5967 - val_mae: 0.2293\n",
      "Epoch 139/500\n",
      "8031/8031 [==============================] - 77s 10ms/step - loss: 0.8516 - mae: 0.2810 - val_loss: 0.4099 - val_mae: 0.1906\n",
      "Epoch 140/500\n",
      "8031/8031 [==============================] - 74s 9ms/step - loss: 0.8375 - mae: 0.2761 - val_loss: 0.7006 - val_mae: 0.2211\n",
      "Epoch 141/500\n",
      "8031/8031 [==============================] - 73s 9ms/step - loss: 0.8526 - mae: 0.2765 - val_loss: 0.8553 - val_mae: 0.3377\n",
      "Epoch 142/500\n",
      "8031/8031 [==============================] - 76s 10ms/step - loss: 0.8371 - mae: 0.2762 - val_loss: 0.5600 - val_mae: 0.2526\n",
      "Epoch 143/500\n",
      "8031/8031 [==============================] - 93s 12ms/step - loss: 0.8436 - mae: 0.2745 - val_loss: 0.5297 - val_mae: 0.2773\n",
      "Epoch 144/500\n",
      "8031/8031 [==============================] - 964s 120ms/step - loss: 0.8704 - mae: 0.2786 - val_loss: 1.8979 - val_mae: 0.3550\n",
      "Epoch 145/500\n",
      "8031/8031 [==============================] - 2527s 315ms/step - loss: 0.8465 - mae: 0.2773 - val_loss: 0.4658 - val_mae: 0.2591\n",
      "Epoch 146/500\n",
      "8031/8031 [==============================] - 2711s 338ms/step - loss: 0.8106 - mae: 0.2759 - val_loss: 1.9404 - val_mae: 0.4582\n",
      "Epoch 147/500\n",
      "8031/8031 [==============================] - 2768s 345ms/step - loss: 0.9229 - mae: 0.2862 - val_loss: 0.5612 - val_mae: 0.2087\n",
      "Epoch 148/500\n",
      "8031/8031 [==============================] - 328s 41ms/step - loss: 0.8234 - mae: 0.2748 - val_loss: 0.4463 - val_mae: 0.2047\n",
      "Epoch 149/500\n",
      "8031/8031 [==============================] - 40s 5ms/step - loss: 0.8575 - mae: 0.2779 - val_loss: 0.4795 - val_mae: 0.2279\n",
      "Epoch 150/500\n",
      "8031/8031 [==============================] - 39s 5ms/step - loss: 0.8510 - mae: 0.2797 - val_loss: 0.6562 - val_mae: 0.2505\n",
      "Epoch 151/500\n",
      "8031/8031 [==============================] - 38s 5ms/step - loss: 0.9260 - mae: 0.2896 - val_loss: 0.6344 - val_mae: 0.2137\n",
      "Epoch 152/500\n",
      "8031/8031 [==============================] - 37s 5ms/step - loss: 0.8093 - mae: 0.2733 - val_loss: 1.0195 - val_mae: 0.3056\n",
      "Epoch 153/500\n",
      "8031/8031 [==============================] - 37s 5ms/step - loss: 0.8113 - mae: 0.2719 - val_loss: 0.8709 - val_mae: 0.3134\n",
      "Epoch 154/500\n",
      "8031/8031 [==============================] - 36s 5ms/step - loss: 0.8932 - mae: 0.2819 - val_loss: 0.5135 - val_mae: 0.2987\n",
      "Epoch 155/500\n",
      "8031/8031 [==============================] - 37s 5ms/step - loss: 0.7683 - mae: 0.2716 - val_loss: 0.5529 - val_mae: 0.2341\n",
      "Epoch 156/500\n",
      "8031/8031 [==============================] - 36s 4ms/step - loss: 0.9067 - mae: 0.2855 - val_loss: 0.9005 - val_mae: 0.2496\n",
      "Epoch 157/500\n",
      "8031/8031 [==============================] - 37s 5ms/step - loss: 0.8387 - mae: 0.2785 - val_loss: 0.5719 - val_mae: 0.2308\n",
      "Epoch 158/500\n",
      "8031/8031 [==============================] - 36s 4ms/step - loss: 0.8179 - mae: 0.2760 - val_loss: 0.4176 - val_mae: 0.1860\n",
      "Epoch 159/500\n",
      "8031/8031 [==============================] - 37s 5ms/step - loss: 0.8170 - mae: 0.2711 - val_loss: 0.3674 - val_mae: 0.1862\n",
      "Epoch 160/500\n",
      "8031/8031 [==============================] - 37s 5ms/step - loss: 0.8123 - mae: 0.2757 - val_loss: 0.7764 - val_mae: 0.2471\n",
      "Epoch 161/500\n",
      "8031/8031 [==============================] - 37s 5ms/step - loss: 0.8934 - mae: 0.2793 - val_loss: 0.7085 - val_mae: 0.2248\n",
      "Epoch 162/500\n",
      "8031/8031 [==============================] - 37s 5ms/step - loss: 0.7432 - mae: 0.2665 - val_loss: 0.9142 - val_mae: 0.3208\n",
      "Epoch 163/500\n",
      "8031/8031 [==============================] - 36s 5ms/step - loss: 0.8632 - mae: 0.2823 - val_loss: 1.0231 - val_mae: 0.3085\n",
      "Epoch 164/500\n",
      "8031/8031 [==============================] - 37s 5ms/step - loss: 0.7799 - mae: 0.2693 - val_loss: 0.6462 - val_mae: 0.4036\n",
      "Epoch 165/500\n",
      "8031/8031 [==============================] - 37s 5ms/step - loss: 0.8150 - mae: 0.2750 - val_loss: 1.7024 - val_mae: 0.3533\n",
      "Epoch 166/500\n",
      "8031/8031 [==============================] - 36s 4ms/step - loss: 0.8201 - mae: 0.2732 - val_loss: 0.5566 - val_mae: 0.3086\n",
      "Epoch 167/500\n",
      "8031/8031 [==============================] - 37s 5ms/step - loss: 0.8551 - mae: 0.2791 - val_loss: 0.6651 - val_mae: 0.2396\n",
      "Epoch 168/500\n",
      "8031/8031 [==============================] - 36s 4ms/step - loss: 0.7810 - mae: 0.2721 - val_loss: 1.0491 - val_mae: 0.3212\n",
      "Epoch 169/500\n",
      "8031/8031 [==============================] - 36s 5ms/step - loss: 0.7098 - mae: 0.2590 - val_loss: 0.7946 - val_mae: 0.2881\n",
      "Epoch 170/500\n",
      "8031/8031 [==============================] - 36s 4ms/step - loss: 0.8349 - mae: 0.2784 - val_loss: 1.8430 - val_mae: 0.3243\n",
      "Epoch 171/500\n",
      "8031/8031 [==============================] - 37s 5ms/step - loss: 0.8032 - mae: 0.2720 - val_loss: 1.7479 - val_mae: 0.5777\n",
      "Epoch 172/500\n",
      "8031/8031 [==============================] - 36s 5ms/step - loss: 0.7925 - mae: 0.2725 - val_loss: 0.7048 - val_mae: 0.2718\n",
      "Epoch 173/500\n",
      "8031/8031 [==============================] - 36s 5ms/step - loss: 0.8227 - mae: 0.2758 - val_loss: 0.4681 - val_mae: 0.3175\n",
      "Epoch 174/500\n",
      "8031/8031 [==============================] - 37s 5ms/step - loss: 0.7878 - mae: 0.2712 - val_loss: 0.4013 - val_mae: 0.2015\n",
      "Epoch 175/500\n",
      "8031/8031 [==============================] - 36s 4ms/step - loss: 0.7806 - mae: 0.2690 - val_loss: 0.4590 - val_mae: 0.2831\n",
      "Epoch 176/500\n",
      "8031/8031 [==============================] - 37s 5ms/step - loss: 0.7401 - mae: 0.2664 - val_loss: 0.4223 - val_mae: 0.2131\n",
      "Epoch 177/500\n",
      "8031/8031 [==============================] - 37s 5ms/step - loss: 0.7171 - mae: 0.2642 - val_loss: 0.5969 - val_mae: 0.2739\n",
      "Epoch 178/500\n",
      "8031/8031 [==============================] - 37s 5ms/step - loss: 0.7601 - mae: 0.2694 - val_loss: 1.0838 - val_mae: 0.3186\n",
      "Epoch 179/500\n",
      "8031/8031 [==============================] - 37s 5ms/step - loss: 0.7335 - mae: 0.2632 - val_loss: 0.5908 - val_mae: 0.2389\n",
      "Epoch 180/500\n",
      "8031/8031 [==============================] - 37s 5ms/step - loss: 0.8281 - mae: 0.2746 - val_loss: 0.9202 - val_mae: 0.3102\n",
      "Epoch 181/500\n",
      "8031/8031 [==============================] - 37s 5ms/step - loss: 0.7288 - mae: 0.2616 - val_loss: 0.4125 - val_mae: 0.2104\n",
      "Epoch 182/500\n",
      "8031/8031 [==============================] - 37s 5ms/step - loss: 0.7809 - mae: 0.2706 - val_loss: 0.3999 - val_mae: 0.2433\n",
      "Epoch 183/500\n",
      "8031/8031 [==============================] - 37s 5ms/step - loss: 0.7065 - mae: 0.2619 - val_loss: 0.8265 - val_mae: 0.2931\n",
      "Epoch 184/500\n",
      "8031/8031 [==============================] - 37s 5ms/step - loss: 0.7181 - mae: 0.2645 - val_loss: 0.5776 - val_mae: 0.2163\n",
      "Epoch 185/500\n",
      "8031/8031 [==============================] - 36s 5ms/step - loss: 0.7669 - mae: 0.2678 - val_loss: 0.4024 - val_mae: 0.2617\n",
      "Epoch 186/500\n",
      "8031/8031 [==============================] - 37s 5ms/step - loss: 0.7575 - mae: 0.2681 - val_loss: 0.4573 - val_mae: 0.1956\n",
      "Epoch 187/500\n",
      "8031/8031 [==============================] - 37s 5ms/step - loss: 0.7040 - mae: 0.2592 - val_loss: 0.5767 - val_mae: 0.2423\n",
      "Epoch 188/500\n",
      "8031/8031 [==============================] - 38s 5ms/step - loss: 0.7471 - mae: 0.2660 - val_loss: 0.4823 - val_mae: 0.2625\n",
      "Epoch 189/500\n",
      "8031/8031 [==============================] - 37s 5ms/step - loss: 0.7646 - mae: 0.2684 - val_loss: 0.3617 - val_mae: 0.2353\n",
      "Epoch 190/500\n",
      "8031/8031 [==============================] - 37s 5ms/step - loss: 0.7245 - mae: 0.2619 - val_loss: 0.3719 - val_mae: 0.1861\n",
      "Epoch 191/500\n",
      "8031/8031 [==============================] - 38s 5ms/step - loss: 0.8290 - mae: 0.2712 - val_loss: 0.6695 - val_mae: 0.4373\n",
      "Epoch 192/500\n",
      "8031/8031 [==============================] - 38s 5ms/step - loss: 0.7473 - mae: 0.2666 - val_loss: 0.3506 - val_mae: 0.1704\n",
      "Epoch 193/500\n",
      "8031/8031 [==============================] - 38s 5ms/step - loss: 0.6654 - mae: 0.2569 - val_loss: 1.5016 - val_mae: 0.3494\n",
      "Epoch 194/500\n",
      "8031/8031 [==============================] - 37s 5ms/step - loss: 0.7303 - mae: 0.2624 - val_loss: 0.3902 - val_mae: 0.1872\n",
      "Epoch 195/500\n",
      "8031/8031 [==============================] - 38s 5ms/step - loss: 0.7539 - mae: 0.2661 - val_loss: 1.1195 - val_mae: 0.2652\n",
      "Epoch 196/500\n",
      "8031/8031 [==============================] - 38s 5ms/step - loss: 0.7389 - mae: 0.2667 - val_loss: 0.3661 - val_mae: 0.2152\n",
      "Epoch 197/500\n",
      "8031/8031 [==============================] - 37s 5ms/step - loss: 0.7272 - mae: 0.2628 - val_loss: 0.9563 - val_mae: 0.3741\n",
      "Epoch 198/500\n",
      "8031/8031 [==============================] - 38s 5ms/step - loss: 0.7047 - mae: 0.2601 - val_loss: 1.1686 - val_mae: 0.3054\n",
      "Epoch 199/500\n",
      "8031/8031 [==============================] - 37s 5ms/step - loss: 0.6852 - mae: 0.2587 - val_loss: 1.0714 - val_mae: 0.2750\n",
      "Epoch 200/500\n",
      "8031/8031 [==============================] - 38s 5ms/step - loss: 0.6956 - mae: 0.2579 - val_loss: 0.5905 - val_mae: 0.2710\n",
      "Epoch 201/500\n",
      "8031/8031 [==============================] - 38s 5ms/step - loss: 0.7709 - mae: 0.2701 - val_loss: 0.5559 - val_mae: 0.3050\n",
      "Epoch 202/500\n",
      "8031/8031 [==============================] - 38s 5ms/step - loss: 0.6507 - mae: 0.2532 - val_loss: 2.1198 - val_mae: 0.3924\n",
      "Epoch 203/500\n",
      "8031/8031 [==============================] - 38s 5ms/step - loss: 0.7079 - mae: 0.2609 - val_loss: 1.0038 - val_mae: 0.2909\n",
      "Epoch 204/500\n",
      "8031/8031 [==============================] - 38s 5ms/step - loss: 0.7376 - mae: 0.2640 - val_loss: 0.5490 - val_mae: 0.2250\n",
      "Epoch 205/500\n",
      "8031/8031 [==============================] - 38s 5ms/step - loss: 0.6823 - mae: 0.2594 - val_loss: 0.7962 - val_mae: 0.3070\n",
      "Epoch 206/500\n",
      "8031/8031 [==============================] - 37s 5ms/step - loss: 0.6867 - mae: 0.2576 - val_loss: 0.3972 - val_mae: 0.1864\n",
      "Epoch 207/500\n",
      "8031/8031 [==============================] - 38s 5ms/step - loss: 0.6644 - mae: 0.2575 - val_loss: 0.5907 - val_mae: 0.2202\n",
      "Epoch 208/500\n",
      "8031/8031 [==============================] - 38s 5ms/step - loss: 0.7331 - mae: 0.2629 - val_loss: 0.3659 - val_mae: 0.1862\n",
      "Epoch 209/500\n",
      "8031/8031 [==============================] - 38s 5ms/step - loss: 0.6781 - mae: 0.2565 - val_loss: 0.3625 - val_mae: 0.1886\n",
      "Epoch 210/500\n",
      "8031/8031 [==============================] - 38s 5ms/step - loss: 0.6609 - mae: 0.2559 - val_loss: 1.3939 - val_mae: 0.3978\n",
      "Epoch 211/500\n",
      "8031/8031 [==============================] - 38s 5ms/step - loss: 0.6292 - mae: 0.2506 - val_loss: 0.5082 - val_mae: 0.2651\n",
      "Epoch 212/500\n",
      "8031/8031 [==============================] - 39s 5ms/step - loss: 0.7482 - mae: 0.2674 - val_loss: 0.5755 - val_mae: 0.2521\n",
      "Epoch 213/500\n",
      "8031/8031 [==============================] - 38s 5ms/step - loss: 0.6821 - mae: 0.2609 - val_loss: 0.3990 - val_mae: 0.2008\n",
      "Epoch 214/500\n",
      "8031/8031 [==============================] - 38s 5ms/step - loss: 0.7109 - mae: 0.2583 - val_loss: 0.5927 - val_mae: 0.2367\n",
      "Epoch 215/500\n",
      "8031/8031 [==============================] - 38s 5ms/step - loss: 0.6823 - mae: 0.2578 - val_loss: 0.7832 - val_mae: 0.3057\n",
      "Epoch 216/500\n",
      "8031/8031 [==============================] - 39s 5ms/step - loss: 0.6963 - mae: 0.2606 - val_loss: 0.7014 - val_mae: 0.2352\n",
      "Epoch 217/500\n",
      "8031/8031 [==============================] - 38s 5ms/step - loss: 0.6776 - mae: 0.2565 - val_loss: 2.8739 - val_mae: 0.3997\n",
      "Epoch 218/500\n",
      "8031/8031 [==============================] - 38s 5ms/step - loss: 0.6784 - mae: 0.2544 - val_loss: 3.7032 - val_mae: 0.5482\n",
      "Epoch 219/500\n",
      "8031/8031 [==============================] - 39s 5ms/step - loss: 0.6535 - mae: 0.2505 - val_loss: 3.7009 - val_mae: 0.8096\n",
      "Epoch 220/500\n",
      "8031/8031 [==============================] - 38s 5ms/step - loss: 0.6498 - mae: 0.2549 - val_loss: 0.6219 - val_mae: 0.2380\n",
      "Epoch 221/500\n",
      "8031/8031 [==============================] - 39s 5ms/step - loss: 0.6433 - mae: 0.2515 - val_loss: 0.3535 - val_mae: 0.1795\n",
      "Epoch 222/500\n",
      "8031/8031 [==============================] - 38s 5ms/step - loss: 0.6401 - mae: 0.2513 - val_loss: 0.3676 - val_mae: 0.2234\n",
      "Epoch 223/500\n",
      "8031/8031 [==============================] - 39s 5ms/step - loss: 0.7039 - mae: 0.2594 - val_loss: 0.5557 - val_mae: 0.2444\n",
      "Epoch 224/500\n",
      "8031/8031 [==============================] - 39s 5ms/step - loss: 0.6386 - mae: 0.2538 - val_loss: 1.5770 - val_mae: 0.3327\n",
      "Epoch 225/500\n",
      "8031/8031 [==============================] - 39s 5ms/step - loss: 0.6577 - mae: 0.2547 - val_loss: 0.3988 - val_mae: 0.2136\n",
      "Epoch 226/500\n",
      "8031/8031 [==============================] - 40s 5ms/step - loss: 0.6760 - mae: 0.2538 - val_loss: 0.3857 - val_mae: 0.2611\n",
      "Epoch 227/500\n",
      "8031/8031 [==============================] - 39s 5ms/step - loss: 0.7187 - mae: 0.2624 - val_loss: 0.5802 - val_mae: 0.2242\n",
      "Epoch 228/500\n",
      "8031/8031 [==============================] - 39s 5ms/step - loss: 0.6856 - mae: 0.2559 - val_loss: 0.4042 - val_mae: 0.1990\n",
      "Epoch 229/500\n",
      "8031/8031 [==============================] - 39s 5ms/step - loss: 0.7122 - mae: 0.2542 - val_loss: 0.3706 - val_mae: 0.2032\n",
      "Epoch 230/500\n",
      "8031/8031 [==============================] - 40s 5ms/step - loss: 0.6616 - mae: 0.2548 - val_loss: 0.3399 - val_mae: 0.1660\n",
      "Epoch 231/500\n",
      "8031/8031 [==============================] - 39s 5ms/step - loss: 0.6460 - mae: 0.2521 - val_loss: 0.4558 - val_mae: 0.2302\n",
      "Epoch 232/500\n",
      "8031/8031 [==============================] - 39s 5ms/step - loss: 0.6771 - mae: 0.2587 - val_loss: 0.9068 - val_mae: 0.3521\n",
      "Epoch 233/500\n",
      "8031/8031 [==============================] - 40s 5ms/step - loss: 0.7245 - mae: 0.2565 - val_loss: 0.4604 - val_mae: 0.2280\n",
      "Epoch 234/500\n",
      "8031/8031 [==============================] - 40s 5ms/step - loss: 0.6220 - mae: 0.2499 - val_loss: 0.3604 - val_mae: 0.2263\n",
      "Epoch 235/500\n",
      "8031/8031 [==============================] - 41s 5ms/step - loss: 0.6302 - mae: 0.2466 - val_loss: 0.9933 - val_mae: 0.2599\n",
      "Epoch 236/500\n",
      "8031/8031 [==============================] - 39s 5ms/step - loss: 0.6328 - mae: 0.2501 - val_loss: 1.8988 - val_mae: 0.3834\n",
      "Epoch 237/500\n",
      "8031/8031 [==============================] - 40s 5ms/step - loss: 0.6164 - mae: 0.2469 - val_loss: 1.5592 - val_mae: 0.3443\n",
      "Epoch 238/500\n",
      "8031/8031 [==============================] - 39s 5ms/step - loss: 0.6346 - mae: 0.2527 - val_loss: 0.5642 - val_mae: 0.2337\n",
      "Epoch 239/500\n",
      "8031/8031 [==============================] - 40s 5ms/step - loss: 0.5774 - mae: 0.2430 - val_loss: 0.4172 - val_mae: 0.1789\n",
      "Epoch 240/500\n",
      "8031/8031 [==============================] - 40s 5ms/step - loss: 0.6735 - mae: 0.2539 - val_loss: 0.5164 - val_mae: 0.1947\n",
      "Epoch 241/500\n",
      "8031/8031 [==============================] - 40s 5ms/step - loss: 0.6463 - mae: 0.2477 - val_loss: 0.3617 - val_mae: 0.1698\n",
      "Epoch 242/500\n",
      "8031/8031 [==============================] - 41s 5ms/step - loss: 0.6573 - mae: 0.2532 - val_loss: 0.6044 - val_mae: 0.2422\n",
      "Epoch 243/500\n",
      "8031/8031 [==============================] - 42s 5ms/step - loss: 0.6199 - mae: 0.2516 - val_loss: 0.6469 - val_mae: 0.2752\n",
      "Epoch 244/500\n",
      "8031/8031 [==============================] - 43s 5ms/step - loss: 0.6306 - mae: 0.2515 - val_loss: 0.3845 - val_mae: 0.2003\n",
      "Epoch 245/500\n",
      "8031/8031 [==============================] - 41s 5ms/step - loss: 0.6074 - mae: 0.2483 - val_loss: 0.9512 - val_mae: 0.3019\n",
      "Epoch 246/500\n",
      "8031/8031 [==============================] - 41s 5ms/step - loss: 0.6179 - mae: 0.2464 - val_loss: 0.6461 - val_mae: 0.2523\n",
      "Epoch 247/500\n",
      "8031/8031 [==============================] - 41s 5ms/step - loss: 0.6028 - mae: 0.2460 - val_loss: 0.4099 - val_mae: 0.1862\n",
      "Epoch 248/500\n",
      "8031/8031 [==============================] - 41s 5ms/step - loss: 0.6289 - mae: 0.2529 - val_loss: 0.8645 - val_mae: 0.2514\n",
      "Epoch 249/500\n",
      "8031/8031 [==============================] - 40s 5ms/step - loss: 0.6323 - mae: 0.2497 - val_loss: 0.3781 - val_mae: 0.2201\n",
      "Epoch 250/500\n",
      "8031/8031 [==============================] - 41s 5ms/step - loss: 0.6303 - mae: 0.2478 - val_loss: 0.9385 - val_mae: 0.2981\n",
      "Epoch 251/500\n",
      "8031/8031 [==============================] - 40s 5ms/step - loss: 0.6513 - mae: 0.2528 - val_loss: 2.4238 - val_mae: 0.4597\n",
      "Epoch 252/500\n",
      "8031/8031 [==============================] - 40s 5ms/step - loss: 0.6456 - mae: 0.2522 - val_loss: 0.4369 - val_mae: 0.1915\n",
      "Epoch 253/500\n",
      "8031/8031 [==============================] - 41s 5ms/step - loss: 0.6097 - mae: 0.2442 - val_loss: 0.4597 - val_mae: 0.3142\n",
      "Epoch 254/500\n",
      "8031/8031 [==============================] - 41s 5ms/step - loss: 0.6110 - mae: 0.2470 - val_loss: 0.5744 - val_mae: 0.2104\n",
      "Epoch 255/500\n",
      "8031/8031 [==============================] - 41s 5ms/step - loss: 0.6104 - mae: 0.2429 - val_loss: 0.6191 - val_mae: 0.2127\n",
      "Epoch 256/500\n",
      "8031/8031 [==============================] - 41s 5ms/step - loss: 0.6283 - mae: 0.2494 - val_loss: 0.4258 - val_mae: 0.2416\n",
      "Epoch 257/500\n",
      "8031/8031 [==============================] - 42s 5ms/step - loss: 0.5944 - mae: 0.2489 - val_loss: 0.6472 - val_mae: 0.2705\n",
      "Epoch 258/500\n",
      "8031/8031 [==============================] - 41s 5ms/step - loss: 0.6079 - mae: 0.2491 - val_loss: 0.3668 - val_mae: 0.1990\n",
      "Epoch 259/500\n",
      "8031/8031 [==============================] - 42s 5ms/step - loss: 0.6144 - mae: 0.2509 - val_loss: 0.5666 - val_mae: 0.2491\n",
      "Epoch 260/500\n",
      "8031/8031 [==============================] - 41s 5ms/step - loss: 0.6353 - mae: 0.2502 - val_loss: 0.5003 - val_mae: 0.2596\n",
      "Epoch 261/500\n",
      "8031/8031 [==============================] - 42s 5ms/step - loss: 0.6047 - mae: 0.2457 - val_loss: 0.3795 - val_mae: 0.1942\n",
      "Epoch 262/500\n",
      "8031/8031 [==============================] - 41s 5ms/step - loss: 0.6388 - mae: 0.2476 - val_loss: 0.4848 - val_mae: 0.2025\n",
      "Epoch 263/500\n",
      "8031/8031 [==============================] - 42s 5ms/step - loss: 0.6105 - mae: 0.2435 - val_loss: 0.4429 - val_mae: 0.1966\n",
      "Epoch 264/500\n",
      "8031/8031 [==============================] - 42s 5ms/step - loss: 0.5812 - mae: 0.2444 - val_loss: 0.5674 - val_mae: 0.2397\n",
      "Epoch 265/500\n",
      "8031/8031 [==============================] - 42s 5ms/step - loss: 0.5698 - mae: 0.2389 - val_loss: 0.3653 - val_mae: 0.2542\n",
      "Epoch 266/500\n",
      "8031/8031 [==============================] - 42s 5ms/step - loss: 0.6361 - mae: 0.2515 - val_loss: 0.3249 - val_mae: 0.1802\n",
      "Epoch 267/500\n",
      "8031/8031 [==============================] - 42s 5ms/step - loss: 0.5865 - mae: 0.2407 - val_loss: 0.4351 - val_mae: 0.1965\n",
      "Epoch 268/500\n",
      "8031/8031 [==============================] - 42s 5ms/step - loss: 0.6169 - mae: 0.2480 - val_loss: 0.5105 - val_mae: 0.2172\n",
      "Epoch 269/500\n",
      "8031/8031 [==============================] - 42s 5ms/step - loss: 0.6960 - mae: 0.2552 - val_loss: 0.6856 - val_mae: 0.2269\n",
      "Epoch 270/500\n",
      "8031/8031 [==============================] - 43s 5ms/step - loss: 0.5761 - mae: 0.2408 - val_loss: 0.5124 - val_mae: 0.2138\n",
      "Epoch 271/500\n",
      "8031/8031 [==============================] - 42s 5ms/step - loss: 0.5925 - mae: 0.2422 - val_loss: 0.6600 - val_mae: 0.3696\n",
      "Epoch 272/500\n",
      "8031/8031 [==============================] - 43s 5ms/step - loss: 0.6083 - mae: 0.2463 - val_loss: 0.5143 - val_mae: 0.2076\n",
      "Epoch 273/500\n",
      "8031/8031 [==============================] - 42s 5ms/step - loss: 0.6104 - mae: 0.2462 - val_loss: 0.4355 - val_mae: 0.1874\n",
      "Epoch 274/500\n",
      "8031/8031 [==============================] - 43s 5ms/step - loss: 0.5754 - mae: 0.2423 - val_loss: 0.6081 - val_mae: 0.2587\n",
      "Epoch 275/500\n",
      "8031/8031 [==============================] - 42s 5ms/step - loss: 0.5902 - mae: 0.2424 - val_loss: 1.0236 - val_mae: 0.2716\n",
      "Epoch 276/500\n",
      "8031/8031 [==============================] - 43s 5ms/step - loss: 0.5926 - mae: 0.2443 - val_loss: 0.5013 - val_mae: 0.2083\n",
      "Epoch 277/500\n",
      "8031/8031 [==============================] - 43s 5ms/step - loss: 0.5515 - mae: 0.2385 - val_loss: 0.5380 - val_mae: 0.2128\n",
      "Epoch 278/500\n",
      "8031/8031 [==============================] - 44s 5ms/step - loss: 0.5450 - mae: 0.2394 - val_loss: 0.3326 - val_mae: 0.2116\n",
      "Epoch 279/500\n",
      "8031/8031 [==============================] - 43s 5ms/step - loss: 0.6134 - mae: 0.2470 - val_loss: 0.3390 - val_mae: 0.1876\n",
      "Epoch 280/500\n",
      "8031/8031 [==============================] - 43s 5ms/step - loss: 0.5671 - mae: 0.2398 - val_loss: 1.2420 - val_mae: 0.3020\n",
      "Epoch 281/500\n",
      "8031/8031 [==============================] - 43s 5ms/step - loss: 0.5760 - mae: 0.2409 - val_loss: 0.3413 - val_mae: 0.1669\n",
      "Epoch 282/500\n",
      "8031/8031 [==============================] - 44s 5ms/step - loss: 0.5839 - mae: 0.2450 - val_loss: 0.6884 - val_mae: 0.3145\n",
      "Epoch 283/500\n",
      "8031/8031 [==============================] - 43s 5ms/step - loss: 0.5876 - mae: 0.2437 - val_loss: 0.3390 - val_mae: 0.1827\n",
      "Epoch 284/500\n",
      "8031/8031 [==============================] - 44s 5ms/step - loss: 0.5872 - mae: 0.2426 - val_loss: 0.8936 - val_mae: 0.3216\n",
      "Epoch 285/500\n",
      "8031/8031 [==============================] - 43s 5ms/step - loss: 0.5868 - mae: 0.2402 - val_loss: 0.3884 - val_mae: 0.2157\n",
      "Epoch 286/500\n",
      "8031/8031 [==============================] - 44s 6ms/step - loss: 0.6152 - mae: 0.2456 - val_loss: 0.4507 - val_mae: 0.2161\n",
      "Epoch 287/500\n",
      "8031/8031 [==============================] - 44s 5ms/step - loss: 0.5759 - mae: 0.2446 - val_loss: 0.3394 - val_mae: 0.2404\n",
      "Epoch 288/500\n",
      "8031/8031 [==============================] - 45s 6ms/step - loss: 0.6045 - mae: 0.2446 - val_loss: 0.5635 - val_mae: 0.2247\n",
      "Epoch 289/500\n",
      "8031/8031 [==============================] - 45s 6ms/step - loss: 0.5652 - mae: 0.2405 - val_loss: 0.4574 - val_mae: 0.2126\n",
      "Epoch 290/500\n",
      "8031/8031 [==============================] - 45s 6ms/step - loss: 0.5989 - mae: 0.2446 - val_loss: 0.3509 - val_mae: 0.1961\n",
      "Epoch 291/500\n",
      "8031/8031 [==============================] - 45s 6ms/step - loss: 0.5820 - mae: 0.2414 - val_loss: 0.4754 - val_mae: 0.2734\n",
      "Epoch 292/500\n",
      "8031/8031 [==============================] - 45s 6ms/step - loss: 0.6221 - mae: 0.2489 - val_loss: 0.5617 - val_mae: 0.2489\n",
      "Epoch 293/500\n",
      "8031/8031 [==============================] - 45s 6ms/step - loss: 0.5787 - mae: 0.2432 - val_loss: 1.0144 - val_mae: 0.2757\n",
      "Epoch 294/500\n",
      "8031/8031 [==============================] - 45s 6ms/step - loss: 0.6027 - mae: 0.2450 - val_loss: 0.3975 - val_mae: 0.2164\n",
      "Epoch 295/500\n",
      "8031/8031 [==============================] - 46s 6ms/step - loss: 0.5938 - mae: 0.2448 - val_loss: 0.3703 - val_mae: 0.2413\n",
      "Epoch 296/500\n",
      "8031/8031 [==============================] - 46s 6ms/step - loss: 0.5795 - mae: 0.2401 - val_loss: 0.4648 - val_mae: 0.2766\n",
      "Epoch 297/500\n",
      "8031/8031 [==============================] - 46s 6ms/step - loss: 0.6178 - mae: 0.2459 - val_loss: 0.5209 - val_mae: 0.2534\n",
      "Epoch 298/500\n",
      "8031/8031 [==============================] - 48s 6ms/step - loss: 0.5650 - mae: 0.2398 - val_loss: 0.3489 - val_mae: 0.2175\n",
      "Epoch 299/500\n",
      "8031/8031 [==============================] - 47s 6ms/step - loss: 0.5854 - mae: 0.2407 - val_loss: 0.3209 - val_mae: 0.2138\n",
      "Epoch 300/500\n",
      "8031/8031 [==============================] - 47s 6ms/step - loss: 0.5514 - mae: 0.2382 - val_loss: 0.4043 - val_mae: 0.2577\n",
      "Epoch 301/500\n",
      "8031/8031 [==============================] - 46s 6ms/step - loss: 0.6340 - mae: 0.2479 - val_loss: 1.1229 - val_mae: 0.3677\n",
      "Epoch 302/500\n",
      "8031/8031 [==============================] - 47s 6ms/step - loss: 0.5557 - mae: 0.2390 - val_loss: 0.4356 - val_mae: 0.1956\n",
      "Epoch 303/500\n",
      "8031/8031 [==============================] - 46s 6ms/step - loss: 0.5450 - mae: 0.2367 - val_loss: 0.3821 - val_mae: 0.2088\n",
      "Epoch 304/500\n",
      "8031/8031 [==============================] - 47s 6ms/step - loss: 0.6139 - mae: 0.2473 - val_loss: 0.8369 - val_mae: 0.3061\n",
      "Epoch 305/500\n",
      "8031/8031 [==============================] - 47s 6ms/step - loss: 0.5513 - mae: 0.2391 - val_loss: 0.3821 - val_mae: 0.1848\n",
      "Epoch 306/500\n",
      "8031/8031 [==============================] - 50s 6ms/step - loss: 0.5620 - mae: 0.2435 - val_loss: 0.3843 - val_mae: 0.2399\n",
      "Epoch 307/500\n",
      "8031/8031 [==============================] - 64s 8ms/step - loss: 0.5584 - mae: 0.2373 - val_loss: 0.5635 - val_mae: 0.2128\n",
      "Epoch 308/500\n",
      "8031/8031 [==============================] - 70s 9ms/step - loss: 0.6178 - mae: 0.2475 - val_loss: 0.4336 - val_mae: 0.2063\n",
      "Epoch 309/500\n",
      "8031/8031 [==============================] - 66s 8ms/step - loss: 0.5357 - mae: 0.2364 - val_loss: 0.3109 - val_mae: 0.1608\n",
      "Epoch 310/500\n",
      "8031/8031 [==============================] - 61s 8ms/step - loss: 0.5511 - mae: 0.2384 - val_loss: 0.3926 - val_mae: 0.1869\n",
      "Epoch 311/500\n",
      "8031/8031 [==============================] - 69s 9ms/step - loss: 0.5841 - mae: 0.2403 - val_loss: 0.4895 - val_mae: 0.1920\n",
      "Epoch 312/500\n",
      "8031/8031 [==============================] - 46s 6ms/step - loss: 0.5422 - mae: 0.2377 - val_loss: 0.3090 - val_mae: 0.1713\n",
      "Epoch 313/500\n",
      "8031/8031 [==============================] - 46s 6ms/step - loss: 0.5858 - mae: 0.2438 - val_loss: 0.3999 - val_mae: 0.3117\n",
      "Epoch 314/500\n",
      "8031/8031 [==============================] - 47s 6ms/step - loss: 0.5732 - mae: 0.2417 - val_loss: 0.6000 - val_mae: 0.2121\n",
      "Epoch 315/500\n",
      "8031/8031 [==============================] - 69s 9ms/step - loss: 0.5682 - mae: 0.2425 - val_loss: 0.2882 - val_mae: 0.1822\n",
      "Epoch 316/500\n",
      "8031/8031 [==============================] - 75s 9ms/step - loss: 0.5644 - mae: 0.2424 - val_loss: 0.4706 - val_mae: 0.1930\n",
      "Epoch 317/500\n",
      "8031/8031 [==============================] - 77s 10ms/step - loss: 0.5911 - mae: 0.2458 - val_loss: 0.3379 - val_mae: 0.1802\n",
      "Epoch 318/500\n",
      "8031/8031 [==============================] - 94s 12ms/step - loss: 0.5722 - mae: 0.2409 - val_loss: 1.1260 - val_mae: 0.3295\n",
      "Epoch 319/500\n",
      "8031/8031 [==============================] - 76s 10ms/step - loss: 0.5668 - mae: 0.2390 - val_loss: 0.3754 - val_mae: 0.2309\n",
      "Epoch 320/500\n",
      "8031/8031 [==============================] - 89s 11ms/step - loss: 0.5605 - mae: 0.2412 - val_loss: 0.3786 - val_mae: 0.1893\n",
      "Epoch 321/500\n",
      "8031/8031 [==============================] - 88s 11ms/step - loss: 0.5045 - mae: 0.2358 - val_loss: 0.3378 - val_mae: 0.1970\n",
      "Epoch 322/500\n",
      "8031/8031 [==============================] - 77s 10ms/step - loss: 0.5438 - mae: 0.2378 - val_loss: 0.4309 - val_mae: 0.2065\n",
      "Epoch 323/500\n",
      "8031/8031 [==============================] - 83s 10ms/step - loss: 0.5403 - mae: 0.2363 - val_loss: 0.3343 - val_mae: 0.1635\n",
      "Epoch 324/500\n",
      "8031/8031 [==============================] - 84s 10ms/step - loss: 0.5929 - mae: 0.2433 - val_loss: 0.7004 - val_mae: 0.2716\n",
      "Epoch 325/500\n",
      "8031/8031 [==============================] - 84s 10ms/step - loss: 0.5289 - mae: 0.2355 - val_loss: 0.6438 - val_mae: 0.2566\n",
      "Epoch 326/500\n",
      "8031/8031 [==============================] - 83s 10ms/step - loss: 0.5651 - mae: 0.2395 - val_loss: 0.3297 - val_mae: 0.2537\n",
      "Epoch 327/500\n",
      "8031/8031 [==============================] - 86s 11ms/step - loss: 0.5255 - mae: 0.2344 - val_loss: 0.2896 - val_mae: 0.2042\n",
      "Epoch 328/500\n",
      "8031/8031 [==============================] - 55s 7ms/step - loss: 0.5443 - mae: 0.2389 - val_loss: 0.6212 - val_mae: 0.2680\n",
      "Epoch 329/500\n",
      "8031/8031 [==============================] - 50s 6ms/step - loss: 0.5177 - mae: 0.2357 - val_loss: 0.4685 - val_mae: 0.2057\n",
      "Epoch 330/500\n",
      "8031/8031 [==============================] - 50s 6ms/step - loss: 0.5352 - mae: 0.2374 - val_loss: 0.6328 - val_mae: 0.2714\n",
      "Epoch 331/500\n",
      "8031/8031 [==============================] - 51s 6ms/step - loss: 0.5863 - mae: 0.2428 - val_loss: 0.5268 - val_mae: 0.2266\n",
      "Epoch 332/500\n",
      "8031/8031 [==============================] - 50s 6ms/step - loss: 0.5437 - mae: 0.2377 - val_loss: 0.3885 - val_mae: 0.2663\n",
      "Epoch 333/500\n",
      "8031/8031 [==============================] - 51s 6ms/step - loss: 0.5505 - mae: 0.2402 - val_loss: 0.5249 - val_mae: 0.2703\n",
      "Epoch 334/500\n",
      "8031/8031 [==============================] - 51s 6ms/step - loss: 0.5342 - mae: 0.2321 - val_loss: 0.4824 - val_mae: 0.2394\n",
      "Epoch 335/500\n",
      "8031/8031 [==============================] - 52s 7ms/step - loss: 0.5187 - mae: 0.2332 - val_loss: 0.3443 - val_mae: 0.1996\n",
      "Epoch 336/500\n",
      "8031/8031 [==============================] - 52s 6ms/step - loss: 0.5476 - mae: 0.2389 - val_loss: 0.5380 - val_mae: 0.2856\n",
      "Epoch 337/500\n",
      "8031/8031 [==============================] - 53s 7ms/step - loss: 0.5553 - mae: 0.2393 - val_loss: 0.8756 - val_mae: 0.3116\n",
      "Epoch 338/500\n",
      "8031/8031 [==============================] - 52s 7ms/step - loss: 0.5274 - mae: 0.2343 - val_loss: 0.5393 - val_mae: 0.2164\n",
      "Epoch 339/500\n",
      "8031/8031 [==============================] - 53s 7ms/step - loss: 0.5102 - mae: 0.2333 - val_loss: 0.5134 - val_mae: 0.2238\n",
      "Epoch 340/500\n",
      "8031/8031 [==============================] - 52s 7ms/step - loss: 0.5372 - mae: 0.2363 - val_loss: 0.4875 - val_mae: 0.4123\n",
      "Epoch 341/500\n",
      "8031/8031 [==============================] - 53s 7ms/step - loss: 0.5185 - mae: 0.2340 - val_loss: 0.4286 - val_mae: 0.2051\n",
      "Epoch 342/500\n",
      "8031/8031 [==============================] - 54s 7ms/step - loss: 0.5280 - mae: 0.2354 - val_loss: 0.4291 - val_mae: 0.2100\n",
      "Epoch 343/500\n",
      "8031/8031 [==============================] - 54s 7ms/step - loss: 0.5254 - mae: 0.2348 - val_loss: 0.3343 - val_mae: 0.1937\n",
      "Epoch 344/500\n",
      "8031/8031 [==============================] - 54s 7ms/step - loss: 0.5129 - mae: 0.2326 - val_loss: 0.5438 - val_mae: 0.1976\n",
      "Epoch 345/500\n",
      "8031/8031 [==============================] - 54s 7ms/step - loss: 0.5196 - mae: 0.2326 - val_loss: 0.3520 - val_mae: 0.1709\n",
      "Epoch 346/500\n",
      "8031/8031 [==============================] - 55s 7ms/step - loss: 0.5085 - mae: 0.2308 - val_loss: 0.9194 - val_mae: 0.2582\n",
      "Epoch 347/500\n",
      "8031/8031 [==============================] - 55s 7ms/step - loss: 0.5006 - mae: 0.2311 - val_loss: 0.4015 - val_mae: 0.2005\n",
      "Epoch 348/500\n",
      "8031/8031 [==============================] - 54s 7ms/step - loss: 0.5415 - mae: 0.2355 - val_loss: 0.3142 - val_mae: 0.1838\n",
      "Epoch 349/500\n",
      "8031/8031 [==============================] - 55s 7ms/step - loss: 0.5230 - mae: 0.2353 - val_loss: 0.7981 - val_mae: 0.2625\n",
      "Epoch 350/500\n",
      "8031/8031 [==============================] - 55s 7ms/step - loss: 0.4955 - mae: 0.2327 - val_loss: 0.4565 - val_mae: 0.3169\n",
      "Epoch 351/500\n",
      "8031/8031 [==============================] - 56s 7ms/step - loss: 0.5054 - mae: 0.2327 - val_loss: 0.3252 - val_mae: 0.1782\n",
      "Epoch 352/500\n",
      "8031/8031 [==============================] - 54s 7ms/step - loss: 0.5159 - mae: 0.2337 - val_loss: 0.3824 - val_mae: 0.2425\n",
      "Epoch 353/500\n",
      "8031/8031 [==============================] - 55s 7ms/step - loss: 0.5273 - mae: 0.2358 - val_loss: 0.4755 - val_mae: 0.2355\n",
      "Epoch 354/500\n",
      "8031/8031 [==============================] - 55s 7ms/step - loss: 0.4928 - mae: 0.2311 - val_loss: 0.4934 - val_mae: 0.3204\n",
      "Epoch 355/500\n",
      "8031/8031 [==============================] - 55s 7ms/step - loss: 0.5521 - mae: 0.2372 - val_loss: 0.3071 - val_mae: 0.1704\n",
      "Epoch 356/500\n",
      "8031/8031 [==============================] - 56s 7ms/step - loss: 0.5048 - mae: 0.2302 - val_loss: 0.4958 - val_mae: 0.2181\n",
      "Epoch 357/500\n",
      "8031/8031 [==============================] - 55s 7ms/step - loss: 0.5241 - mae: 0.2370 - val_loss: 0.4307 - val_mae: 0.2033\n",
      "Epoch 358/500\n",
      "8031/8031 [==============================] - 58s 7ms/step - loss: 0.5163 - mae: 0.2343 - val_loss: 0.3656 - val_mae: 0.2111\n",
      "Epoch 359/500\n",
      "8031/8031 [==============================] - 58s 7ms/step - loss: 0.5223 - mae: 0.2329 - val_loss: 0.6090 - val_mae: 0.3389\n",
      "Epoch 360/500\n",
      "8031/8031 [==============================] - 57s 7ms/step - loss: 0.5273 - mae: 0.2352 - val_loss: 0.6501 - val_mae: 0.2835\n",
      "Epoch 361/500\n",
      "8031/8031 [==============================] - 57s 7ms/step - loss: 0.5041 - mae: 0.2325 - val_loss: 0.9964 - val_mae: 0.5548\n",
      "Epoch 362/500\n",
      "8031/8031 [==============================] - 57s 7ms/step - loss: 0.4653 - mae: 0.2259 - val_loss: 0.3203 - val_mae: 0.2239\n",
      "Epoch 363/500\n",
      "8031/8031 [==============================] - 57s 7ms/step - loss: 0.5578 - mae: 0.2401 - val_loss: 0.4031 - val_mae: 0.2283\n",
      "Epoch 364/500\n",
      "8031/8031 [==============================] - 56s 7ms/step - loss: 0.5189 - mae: 0.2343 - val_loss: 0.4306 - val_mae: 0.2386\n",
      "Epoch 365/500\n",
      "8031/8031 [==============================] - 58s 7ms/step - loss: 0.4950 - mae: 0.2269 - val_loss: 0.3847 - val_mae: 0.2536\n"
     ]
    }
   ],
   "source": [
    "history = ann.fit(X_train, y_train,\n",
    "                    validation_data = (X_val, y_val),\n",
    "                    callbacks=[es],\n",
    "                    epochs=500,\n",
    "                    batch_size=40,\n",
    "                    verbose=1)"
   ]
  },
  {
   "cell_type": "markdown",
   "metadata": {
    "colab_type": "text",
    "id": "0H0zKKNEBLD5"
   },
   "source": [
    "### Analyse learn history"
   ]
  },
  {
   "cell_type": "code",
   "execution_count": 41,
   "metadata": {
    "ExecuteTime": {
     "end_time": "2024-07-29T12:05:31.855413Z",
     "start_time": "2024-07-29T12:05:31.084558400Z"
    }
   },
   "outputs": [
    {
     "data": {
      "text/plain": "<Figure size 640x480 with 1 Axes>",
      "image/png": "[encoded data removed]"
     },
     "metadata": {},
     "output_type": "display_data"
    }
   ],
   "source": [
    "# let's see the training and validation accuracy by epoch\n",
    "history_dict = history.history\n",
    "loss_values = history_dict['loss'] # you can change this\n",
    "val_loss_values = history_dict['val_loss'] # you can also change this\n",
    "epochs = range(1, len(loss_values) + 1) # range of X (no. of epochs)\n",
    "plt.plot(epochs, loss_values, 'blue', label='Train set loss')\n",
    "plt.plot(epochs, val_loss_values, 'orange', label='Validation set loss')\n",
    "#plt.title('Training and testing loss')\n",
    "plt.xlabel('Epochs')\n",
    "plt.ylabel('Loss (MSE)')\n",
    "plt.legend()\n",
    "plt.savefig('Section4_ANN3_2.png', dpi=300, bbox_inches='tight')\n",
    "plt.show()"
   ]
  },
  {
   "cell_type": "code",
   "execution_count": 42,
   "metadata": {
    "ExecuteTime": {
     "end_time": "2024-07-29T12:05:35.845398100Z",
     "start_time": "2024-07-29T12:05:35.062743300Z"
    }
   },
   "outputs": [
    {
     "data": {
      "text/plain": "<Figure size 640x480 with 1 Axes>",
      "image/png": "[encoded data removed]"
     },
     "metadata": {},
     "output_type": "display_data"
    }
   ],
   "source": [
    "loss_values1 = history_dict['mae'] # you can change this\n",
    "val_loss_values1 = history_dict['val_mae'] # you can also change this\n",
    "epochs = range(1, len(loss_values1) + 1) # range of X (no. of epochs)\n",
    "plt.plot(epochs, loss_values1, 'blue', label='Train set MAE')\n",
    "plt.plot(epochs, val_loss_values1, 'orange', label='Validation set MAE')\n",
    "#plt.title('Training and testing MAE')\n",
    "plt.xlabel('Epochs')\n",
    "plt.ylabel('MAE')\n",
    "plt.legend()\n",
    "plt.savefig('Section4_ANN3_3.png', dpi=300, bbox_inches='tight')\n",
    "plt.show()"
   ]
  },
  {
   "cell_type": "code",
   "execution_count": null,
   "metadata": {},
   "outputs": [],
   "source": [
    "print (epochs)"
   ]
  },
  {
   "cell_type": "markdown",
   "metadata": {},
   "source": [
    "### Save the model"
   ]
  },
  {
   "cell_type": "code",
   "execution_count": 43,
   "metadata": {
    "ExecuteTime": {
     "end_time": "2024-07-29T12:08:57.951659900Z",
     "start_time": "2024-07-29T12:08:55.879989900Z"
    }
   },
   "outputs": [
    {
     "name": "stdout",
     "output_type": "stream",
     "text": [
      "INFO:tensorflow:Assets written to: Section4_ANN_3\\assets\n"
     ]
    }
   ],
   "source": [
    "ann.save('Section4_ANN_3')\n",
    "import pickle\n",
    "pickle.dump(sc, open('Section4_scaler_ANN_3.pkl', 'wb'))"
   ]
  },
  {
   "cell_type": "markdown",
   "metadata": {},
   "source": [
    "## Part 5 - Make predictions"
   ]
  },
  {
   "cell_type": "code",
   "execution_count": null,
   "metadata": {},
   "outputs": [],
   "source": [
    "ann = load_model('ANN_13.h5')\n",
    "sc = pickle.load(open('scaler_ANN.pkl', 'rb'))"
   ]
  },
  {
   "cell_type": "code",
   "execution_count": 39,
   "metadata": {
    "ExecuteTime": {
     "end_time": "2024-07-29T12:05:04.006586300Z",
     "start_time": "2024-07-29T12:03:49.534133100Z"
    }
   },
   "outputs": [
    {
     "name": "stdout",
     "output_type": "stream",
     "text": [
      "10039/10039 [==============================] - 48s 5ms/step\n",
      "3347/3347 [==============================] - 14s 4ms/step\n"
     ]
    },
    {
     "data": {
      "text/plain": "<Figure size 640x480 with 2 Axes>",
      "image/png": "[encoded data removed]"
     },
     "metadata": {},
     "output_type": "display_data"
    }
   ],
   "source": [
    "# scatterplot of actual vs. pred\n",
    "# specify the dimensions \n",
    "fig, axes = plt.subplots(1,2) # 1 row, 2 columns\n",
    "\n",
    "# this makes the individual subplots\n",
    "# Training Results\n",
    "axes[0].scatter(x=y_train, y=ann.predict(X_train)) #first row, first entry (left top)\n",
    "axes[0].set_xlabel(\"Actual\", fontsize=10)\n",
    "axes[0].set_ylabel(\"Predicted\",  fontsize=10)\n",
    "axes[0].set_title(\"Training\")\n",
    "# add 45 deg line\n",
    "x = np.linspace(*axes[0].get_xlim())\n",
    "axes[0].plot(x, x, color='red')\n",
    "# Validation Results\n",
    "axes[1].scatter(x=y_val, y=ann.predict(X_val)) # first row, second entry (right top)\n",
    "axes[1].set_xlabel(\"Actual\", fontsize=10)\n",
    "axes[1].set_ylabel(\"Predicted\",  fontsize=10)\n",
    "axes[1].set_title(\"Validation\")\n",
    "# add 45 deg line\n",
    "x = np.linspace(*axes[1].get_xlim())\n",
    "axes[1].plot(x, x, color='red')\n",
    "\n",
    "# tight layout\n",
    "fig.tight_layout()\n",
    "\n",
    "plt.savefig('Section4_ANN3_1.png', dpi=300, bbox_inches='tight')\n",
    "# show the plot\n",
    "plt.show()"
   ]
  },
  {
   "cell_type": "code",
   "execution_count": 28,
   "metadata": {
    "colab": {
     "base_uri": "https://localhost:8080/",
     "height": 134
    },
    "colab_type": "code",
    "id": "IA0yApEmBG1X",
    "outputId": "cb981e1f-9204-4a2a-fece-9d66a6919189",
    "ExecuteTime": {
     "end_time": "2024-07-29T12:00:57.406509600Z",
     "start_time": "2024-07-29T12:00:40.999780600Z"
    }
   },
   "outputs": [
    {
     "name": "stdout",
     "output_type": "stream",
     "text": [
      "3347/3347 [==============================] - 15s 5ms/step\n",
      "[[ 0.07 -0.21]\n",
      " [ 6.12  6.59]\n",
      " [-0.53 -0.59]\n",
      " ...\n",
      " [ 1.34  1.16]\n",
      " [-0.71 -0.72]\n",
      " [-0.25 -0.35]]\n"
     ]
    }
   ],
   "source": [
    "y_pred = ann.predict(X_test)\n",
    "np.set_printoptions(precision=2)\n",
    "print(np.concatenate((y_pred.reshape(len(y_pred),1), y_test.reshape(len(y_test),1)),1))"
   ]
  },
  {
   "cell_type": "code",
   "execution_count": 29,
   "metadata": {
    "ExecuteTime": {
     "end_time": "2024-07-29T12:01:01.785827800Z",
     "start_time": "2024-07-29T12:01:00.812753700Z"
    }
   },
   "outputs": [
    {
     "data": {
      "text/plain": "Text(0, 0.5, 'Predicted data')"
     },
     "execution_count": 29,
     "metadata": {},
     "output_type": "execute_result"
    },
    {
     "data": {
      "text/plain": "<Figure size 640x480 with 1 Axes>",
      "image/png": "[encoded data removed]"
     },
     "metadata": {},
     "output_type": "display_data"
    }
   ],
   "source": [
    "import matplotlib.pyplot as plt\n",
    "plt.scatter(y_test, y_pred, color=\"blue\")\n",
    "#plt.plot ([0,1200000],[0,1200000], color = \"red\")\n",
    "#plt.axis ([0,1200000,0,1200000])\n",
    "plt.xlabel ('Actual data')\n",
    "plt.ylabel ('Predicted data')"
   ]
  },
  {
   "cell_type": "code",
   "execution_count": 40,
   "metadata": {
    "ExecuteTime": {
     "end_time": "2024-07-29T12:05:19.797609700Z",
     "start_time": "2024-07-29T12:05:16.224129800Z"
    }
   },
   "outputs": [
    {
     "data": {
      "text/plain": "<Figure size 900x900 with 1 Axes>",
      "image/png": "[encoded data removed]"
     },
     "metadata": {},
     "output_type": "display_data"
    }
   ],
   "source": [
    "from sklearn.metrics import r2_score\n",
    "# Initialize layout\n",
    "fig1, ax1 = plt.subplots(figsize = (9, 9))\n",
    "b_l = -10\n",
    "u_l = 110\n",
    "\n",
    "# Add scatterplot\n",
    "ax1.scatter(y_test, y_pred, s=70, alpha=1, edgecolors=\"k\",c='mediumblue',zorder=5, label = 'Points')\n",
    "\n",
    "\n",
    "plt.ylabel('Predicted Incident Pressure (kPa)',fontsize = 25)\n",
    "plt.xlabel('Target Incident Pressure (kPa)',fontsize = 25)\n",
    "plt.xticks(fontsize = 19)\n",
    "plt.yticks(fontsize = 19)\n",
    "\n",
    "\n",
    "x1 = np.linspace(b_l, u_l)\n",
    "\n",
    "plt.plot(x1, x1, 'Red', label='45\\N{DEGREE SIGN} line',lw=2.5,alpha=1)\n",
    "plt.plot(x1, 1.05*x1, '--m', label='\\u00B15% Error',lw=2.5,alpha=0.7)\n",
    "plt.plot(x1, 0.95*x1,'m', linestyle='--',lw=2.5,alpha=0.7)\n",
    "plt.plot(x1, 1.1*x1, '-.g', label='\\u00B110% Error',lw=2.5,alpha=0.7)\n",
    "plt.plot(x1, 0.9*x1,'-.g',lw=2.5,alpha=0.7)\n",
    "plt.plot(x1, 1.2*x1, color = '#F97306', linestyle='dotted', label='\\u00B120% Error',lw=2.5,alpha=0.7)\n",
    "plt.plot(x1, 0.8*x1,color = '#F97306', linestyle='dotted', lw=2.5,alpha=0.7)\n",
    "\n",
    "plt.ylim(b_l, u_l)\n",
    "plt.xlim(b_l, u_l)\n",
    "plt.legend(loc='upper left',fontsize = 21)\n",
    "\n",
    "plt.grid()\n",
    "\n",
    "ax1.spines['left'].set_color('black')        # setting up Y-axis tick color to red\n",
    "ax1.spines['bottom'].set_color('black')         #setting up above X-axis tick color to red\n",
    "\n",
    "# Save the plot\n",
    "plt.savefig('Section4_ANN3.png', dpi=300, bbox_inches='tight')"
   ]
  },
  {
   "cell_type": "code",
   "execution_count": 31,
   "metadata": {
    "ExecuteTime": {
     "end_time": "2024-07-29T12:02:16.203997500Z",
     "start_time": "2024-07-29T12:01:28.661100300Z"
    }
   },
   "outputs": [
    {
     "name": "stdout",
     "output_type": "stream",
     "text": [
      "10039/10039 [==============================] - 44s 4ms/step\n",
      "0.1797805447191696\n",
      "0.18202270905001947\n"
     ]
    }
   ],
   "source": [
    "# metrics\n",
    "trainpreds = ann.predict(X_train)\n",
    "\n",
    "from sklearn.metrics import mean_absolute_error\n",
    "print(mean_absolute_error(y_train, trainpreds)) # train\n",
    "print(mean_absolute_error(y_test, y_pred)) # test"
   ]
  },
  {
   "cell_type": "code",
   "execution_count": 32,
   "metadata": {
    "ExecuteTime": {
     "end_time": "2024-07-29T12:02:23.919921Z",
     "start_time": "2024-07-29T12:02:23.840357900Z"
    }
   },
   "outputs": [
    {
     "name": "stdout",
     "output_type": "stream",
     "text": [
      "0.9892518845568519\n"
     ]
    }
   ],
   "source": [
    "from sklearn.metrics import r2_score\n",
    "r2 = r2_score(y_test, y_pred)\n",
    "print (r2)"
   ]
  },
  {
   "cell_type": "code",
   "execution_count": 33,
   "metadata": {
    "ExecuteTime": {
     "end_time": "2024-07-29T12:02:25.572347700Z",
     "start_time": "2024-07-29T12:02:25.521320100Z"
    }
   },
   "outputs": [
    {
     "name": "stdout",
     "output_type": "stream",
     "text": [
      "0.9893252006347779\n"
     ]
    }
   ],
   "source": [
    "r2_train = r2_score(y_train, trainpreds)\n",
    "print (r2_train)"
   ]
  },
  {
   "cell_type": "code",
   "execution_count": 34,
   "metadata": {
    "ExecuteTime": {
     "end_time": "2024-07-29T12:02:36.143487100Z",
     "start_time": "2024-07-29T12:02:27.476870700Z"
    }
   },
   "outputs": [
    {
     "name": "stdout",
     "output_type": "stream",
     "text": [
      "Within 5% margin 7.39%\n",
      "Within 10% margin 12.09%\n",
      "Within 20% margin 16.69%\n",
      "Out of 20% margin 83.31%\n"
     ]
    }
   ],
   "source": [
    "count0 = 0\n",
    "for i in range(len(y_pred)):\n",
    "    line1 = y_pred[i] - 0.95*y_test[i]\n",
    "    line2 = y_pred[i] - 1.05*y_test[i]\n",
    "    mask0 = (line1 > 0) & (line2 < 0)\n",
    "    count0 = np.sum(mask0+count0)\n",
    "\n",
    "count1 = 0\n",
    "for i in range(len(y_pred)):\n",
    "    line1 = y_pred[i] - 0.9*y_test[i]\n",
    "    line2 = y_pred[i] - 1.1*y_test[i]\n",
    "    mask1 = (line1 > 0) & (line2 < 0)\n",
    "    count1 = np.sum(mask1+count1)\n",
    "\n",
    "count2 = 0\n",
    "for j in range(len(y_pred)):\n",
    "    line3 = y_pred[j] - 0.8*y_test[j]\n",
    "    line4 = y_pred[j] - 1.2*y_test[j]\n",
    "    mask2 = (line3 > 0) & (line4 < 0)\n",
    "    count2 = np.sum(mask2+count2)\n",
    "\n",
    "\n",
    "count3 = 0    \n",
    "for k in range(len(y_pred)):\n",
    "    line5 = y_pred[k] - 0.8*y_test[k]\n",
    "    line6 = y_pred[k] - 1.2*y_test[k]\n",
    "    mask3 = (line5 < 0) or (line6 > 0)\n",
    "    count3 = np.sum(mask3+count3)\n",
    "   \n",
    "\n",
    "print ('Within 5% margin', format((count0/len (y_pred)),'.2%'))\n",
    "print ('Within 10% margin', format((count1/len (y_pred)),'.2%'))\n",
    "print ('Within 20% margin', format((count2/len (y_pred)),'.2%'))\n",
    "print ('Out of 20% margin', format((count3/len (y_pred)),'.2%'))"
   ]
  },
  {
   "cell_type": "code",
   "execution_count": 35,
   "metadata": {
    "ExecuteTime": {
     "end_time": "2024-07-29T12:02:42.305619900Z",
     "start_time": "2024-07-29T12:02:42.228399300Z"
    }
   },
   "outputs": [
    {
     "name": "stdout",
     "output_type": "stream",
     "text": [
      "0.9892511818425626\n"
     ]
    }
   ],
   "source": [
    "adj_r2 = 1 - ((1 - r2) * (len(X_test) - 1) / (len(X_test) - len (X_test[0]) - 1))\n",
    "print (adj_r2)"
   ]
  },
  {
   "cell_type": "code",
   "execution_count": 37,
   "metadata": {
    "ExecuteTime": {
     "end_time": "2024-07-29T12:02:59.134518900Z",
     "start_time": "2024-07-29T12:02:59.007893400Z"
    }
   },
   "outputs": [
    {
     "data": {
      "text/plain": "0.5052006482879382"
     },
     "execution_count": 37,
     "metadata": {},
     "output_type": "execute_result"
    }
   ],
   "source": [
    "import math\n",
    "from sklearn.metrics import mean_squared_error\n",
    "\n",
    "math.sqrt(mean_squared_error(y_test, y_pred))"
   ]
  },
  {
   "cell_type": "code",
   "execution_count": 38,
   "metadata": {
    "ExecuteTime": {
     "end_time": "2024-07-29T12:03:01.089134600Z",
     "start_time": "2024-07-29T12:03:00.997503300Z"
    }
   },
   "outputs": [
    {
     "data": {
      "text/plain": "0.18202270905001947"
     },
     "execution_count": 38,
     "metadata": {},
     "output_type": "execute_result"
    }
   ],
   "source": [
    "from sklearn.metrics import mean_absolute_error\n",
    "\n",
    "mean_absolute_error(y_test, y_pred)"
   ]
  }
 ],
 "metadata": {
  "colab": {
   "collapsed_sections": [],
   "name": "Artificial Neural Network",
   "provenance": [],
   "toc_visible": true
  },
  "kernelspec": {
   "display_name": "Python 3 (ipykernel)",
   "language": "python",
   "name": "python3"
  },
  "language_info": {
   "codemirror_mode": {
    "name": "ipython",
    "version": 3
   },
   "file_extension": ".py",
   "mimetype": "text/x-python",
   "name": "python",
   "nbconvert_exporter": "python",
   "pygments_lexer": "ipython3",
   "version": "3.9.7"
  }
 },
 "nbformat": 4,
 "nbformat_minor": 4
}
