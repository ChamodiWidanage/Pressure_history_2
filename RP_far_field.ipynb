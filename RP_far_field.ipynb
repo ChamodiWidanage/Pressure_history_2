{
 "cells": [
  {
   "cell_type": "markdown",
   "id": "0cede545-4538-436d-ba77-972de1fa7975",
   "metadata": {},
   "source": [
    "## Import libraries"
   ]
  },
  {
   "cell_type": "code",
   "execution_count": 1,
   "id": "78da2ab4-3f82-47e7-9d10-099751b818c1",
   "metadata": {
    "tags": [],
    "ExecuteTime": {
     "end_time": "2024-07-25T03:07:46.061431Z",
     "start_time": "2024-07-25T03:07:44.116258800Z"
    }
   },
   "outputs": [],
   "source": [
    "from pathlib import Path\n",
    "import pandas as pd\n",
    "import openpyxl\n",
    "import xlwings as xw"
   ]
  },
  {
   "cell_type": "code",
   "execution_count": 68,
   "outputs": [],
   "source": [
    "#Access input folder\n",
    "input_dir1 = Path (\"G:/Chamodi/LSDYNA3D/RP_TH_models/RP_curves_final\")\n",
    "#print (\"INPUT 1\",input_dir1)\n",
    "\n",
    "#Access folders inside input folder\n",
    "input_dir2 =  [folder1 for folder1 in input_dir1.iterdir() if folder1.is_dir()]\n",
    "#print (\"INPUT 2\",input_dir2)\n",
    "\n",
    "# Create output directory\n",
    "output_dir1 = Path(\"G:/Chamodi/LSDYNA3D/RP_TH_models/RP_section_datasets\")\n",
    "output_dir1.mkdir(exist_ok = True)\n",
    "\n",
    "# Define current work directory\n",
    "current_dir = Path.cwd()\n",
    "\n",
    "# Access the template to be used to generate files\n",
    "excel_template = current_dir/ \"Template.xlsx\"\n",
    "\n",
    "# Mapping dictionary\n",
    "mapping = {\"1\": 0, \"2\": 15, \"3\": 30, \"4\": 45, \"5\": 60}"
   ],
   "metadata": {
    "collapsed": false,
    "ExecuteTime": {
     "end_time": "2024-07-26T01:58:40.166780600Z",
     "start_time": "2024-07-26T01:58:40.119482700Z"
    }
   },
   "id": "bc3a458a89c51728"
  },
  {
   "cell_type": "markdown",
   "source": [
    "## Open RP_all_all excel file"
   ],
   "metadata": {
    "collapsed": false
   },
   "id": "dd103f6cc0e9a5b9"
  },
  {
   "cell_type": "code",
   "execution_count": 69,
   "outputs": [],
   "source": [
    "# Load the reference DataFrame for change time and trough time\n",
    "reference_df = pd.read_excel('RP_all_all_dummy.xlsx')\n",
    "\n",
    "# Define the function to create the phase array\n",
    "def get_phase_array(time_array, pressure_array, SD, EM, A):\n",
    "    # Find the row in the reference dataframe matching SD, EM, and A\n",
    "    row = reference_df[(reference_df['Standoff distance'] == SD) & (reference_df['Mass'] == EM) & (reference_df['Angle'] == A)]\n",
    "    \n",
    "    if row.empty:\n",
    "        raise ValueError(f\"No matching entry found for SD={SD}, EM={EM}, A={A}\")\n",
    "\n",
    "    change_time = round(row['Change time'].values[0],10)\n",
    "    change_pressure = row['CP'].values[0]\n",
    "    trough_time = round(row['Trough time'].values[0],10)\n",
    "    trough_pressure = row['TP'].values[0]\n",
    "    a=0\n",
    "    b=0\n",
    "    phase_array = []\n",
    "    for t, p in zip(time_array, pressure_array):\n",
    "        if round (t, 10) < change_time:\n",
    "            phase_array.append('positive')#{t} {change_time}')\n",
    "        elif change_time <= round (t, 10) < trough_time:\n",
    "            a+=1\n",
    "            if a == 1 and abs(p - change_pressure) <0.000001:\n",
    "                phase_array.append('negative_increasing')\n",
    "            elif a == 1 and abs(p - change_pressure) >0.000001:\n",
    "                phase_array.append('error')\n",
    "                print (f'error- p={p} , change p ={change_pressure}, t ={t}, change t = {change_time}')\n",
    "            else:\n",
    "                phase_array.append('negative_increasing')# {t} {trough_time}')\n",
    "    \n",
    "        elif trough_time <= round (t, 10):\n",
    "            b+=1\n",
    "            if b == 1 and abs(p - trough_pressure) < 0.000001:\n",
    "                phase_array.append('negative_decreasing')\n",
    "            elif b == 1 and abs(p - trough_pressure) > 0.000001:\n",
    "                phase_array.append('error')\n",
    "                print (f'error- p={p} , trough p ={trough_pressure}, t ={t}, trough t = {trough_time}')\n",
    "            else:\n",
    "                phase_array.append('negative_decreasing')\n",
    "        else:\n",
    "            phase_array.append('something wrong')\n",
    "            print ('something wrong')\n",
    "            \n",
    "    \n",
    "    return phase_array"
   ],
   "metadata": {
    "collapsed": false,
    "ExecuteTime": {
     "end_time": "2024-07-26T01:58:43.761961500Z",
     "start_time": "2024-07-26T01:58:43.573042500Z"
    }
   },
   "id": "adf437b83cb8c195"
  },
  {
   "cell_type": "code",
   "execution_count": 70,
   "outputs": [
    {
     "name": "stdout",
     "output_type": "stream",
     "text": [
      "error- p=0.005492190000005059 , change p =-0.0005234400000023176, t =83.719544247, change t = 83.719544247\n",
      "Error in this file - SD=29, EM=0.5, A=0\n",
      "error- p=0.009476559999988587 , change p =-0.00512499999999988, t =81.226328522, change t = 81.226328522\n",
      "Error in this file - SD=29, EM=4.5, A=0\n",
      "error- p=2.546709896888895 , change p =-0.360843749999994, t =14.7453091294, change t = 14.7453091294\n",
      "error- p=2.4107583348888966 , trough p =-5.648210937999998, t =14.9983811378, trough t = 14.9983811378\n",
      "Error in this file - SD=7, EM=20.5, A=0\n",
      "error- p=1.7298005233333384 , change p =-0.1521953099999894, t =14.536238387200001, change t = 14.5362383872\n",
      "error- p=1.4777786483333384 , trough p =-5.489523437999999, t =14.778293780999999, trough t = 14.778293781\n",
      "Error in this file - SD=7, EM=22.5, A=0\n",
      "error- p=0.8570214850000037 , change p =-0.0416640599999954, t =14.3585941941, change t = 14.3585941941\n",
      "error- p=0.4789378910000037 , trough p =-5.319210938000005, t =14.5914648846, trough t = 14.5914648846\n",
      "Error in this file - SD=7, EM=24.5, A=0\n"
     ]
    }
   ],
   "source": [
    "for folder1 in input_dir2: # folder1-RP_curves_fr5m\n",
    "\n",
    "    input_dir3 =  [folder2 for folder2 in folder1.iterdir() if folder2.is_dir()]\n",
    "    # Create output folders\n",
    "    output_dir2 = output_dir1/ folder1.name\n",
    "    output_dir2.mkdir(exist_ok = True)\n",
    "    #print (\"OUTPUT 2\", output_dir2)\n",
    "    \n",
    "    for folder2 in input_dir3: # folder2-05m00.5kg\n",
    "        \n",
    "        SD = int(folder2.name[0:2])\n",
    "        EM = float(folder2.name[3:-2])\n",
    "        \n",
    "        # Create output folders\n",
    "        output_dir3 = output_dir2/ folder2.name\n",
    "        output_dir3.mkdir(exist_ok = True)\n",
    "        #print (\"OUTPUT 3\", output_dir3)\n",
    "        \n",
    "        # Make a list of data file names\n",
    "        files1 = [file1 for file1 in folder2.rglob(\"*\") if file1.suffix == '.xlsx' and file1.suffix != '.png']\n",
    "    \n",
    "        # Initiate xlwings library\n",
    "        with xw.App (visible = False) as app:\n",
    "            \n",
    "            # Access each file \n",
    "            for file1 in files1: # file-1.xlsx\n",
    "                \n",
    "                # Open excel template\n",
    "                wb = app.books.open(excel_template)\n",
    "                \n",
    "                # Read data from Excel file\n",
    "                df1 = pd.read_excel(file1)\n",
    "                \n",
    "                # Extract time and pressure columns\n",
    "                time = df1.iloc[:, 3].dropna().values\n",
    "                pressure = df1.iloc[:, 4].dropna().values\n",
    "                \n",
    "                # Assign value to A based on file.stem\n",
    "                file_name = file1.stem\n",
    "                A = mapping.get(file_name, None)\n",
    "                #print(file_name, A)\n",
    "                \n",
    "                # Generate the phase array\n",
    "                try:\n",
    "                    phase = get_phase_array(time, pressure, SD, EM, A)\n",
    "                except ValueError as e:\n",
    "                    print(e)\n",
    "                    continue  # Skip this file if no matching entry is found\n",
    "                    \n",
    "                # Check for \"error\" in phase array\n",
    "                if 'error' in phase:\n",
    "                    print(f\"Error in this file - SD={SD}, EM={EM}, A={A}\")\n",
    "                \n",
    "                # Create the DataFrame with the specified columns\n",
    "                df2= pd.DataFrame({\n",
    "                    \"Mass\": [EM] * len(time),\n",
    "                    \"Standoff distance\": [SD] * len(time),\n",
    "                    \"Angle\": [A] * len(time),\n",
    "                    \"Time\": time,\n",
    "                    \"Phase\": phase,\n",
    "                    \"Pressure\": pressure\n",
    "                })\n",
    "                \n",
    "                # Save df2 to an Excel file in output_dir3 with the same name as file1\n",
    "                output_file_path = output_dir3 / file1.name\n",
    "                df2.to_excel(output_file_path, index=False)\n",
    "                #print(f\"Saved processed data to {output_file_path}\")"
   ],
   "metadata": {
    "collapsed": false,
    "ExecuteTime": {
     "end_time": "2024-07-26T02:21:06.648747300Z",
     "start_time": "2024-07-26T01:58:46.557045400Z"
    }
   },
   "id": "5b9ea91a6744687d"
  }
 ],
 "metadata": {
  "kernelspec": {
   "display_name": "Python 3 (ipykernel)",
   "language": "python",
   "name": "python3"
  },
  "language_info": {
   "codemirror_mode": {
    "name": "ipython",
    "version": 3
   },
   "file_extension": ".py",
   "mimetype": "text/x-python",
   "name": "python",
   "nbconvert_exporter": "python",
   "pygments_lexer": "ipython3",
   "version": "3.9.7"
  }
 },
 "nbformat": 4,
 "nbformat_minor": 5
}
