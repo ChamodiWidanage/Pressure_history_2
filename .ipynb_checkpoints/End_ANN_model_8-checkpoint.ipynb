{
 "cells": [
  {
   "cell_type": "markdown",
   "metadata": {
    "colab_type": "text",
    "id": "3cbb7fRy-eyr"
   },
   "source": [
    "# Artificial Neural Network"
   ]
  },
  {
   "cell_type": "markdown",
   "metadata": {
    "colab_type": "text",
    "id": "8sNDnxE2-pwE"
   },
   "source": [
    "## Part 1 - Importing the libraries"
   ]
  },
  {
   "cell_type": "code",
   "execution_count": 18,
   "metadata": {
    "colab": {},
    "colab_type": "code",
    "id": "lxChR1Rk-umf"
   },
   "outputs": [],
   "source": [
    "import numpy as np\n",
    "import pandas as pd\n",
    "import tensorflow as tf\n",
    "import matplotlib.pyplot as plt"
   ]
  },
  {
   "cell_type": "markdown",
   "metadata": {
    "colab_type": "text",
    "id": "AG3FQEch-yuA"
   },
   "source": [
    "## Part 2 - Data Preprocessing"
   ]
  },
  {
   "cell_type": "markdown",
   "metadata": {
    "colab_type": "text",
    "id": "-4zq8Mza_D9O"
   },
   "source": [
    "### Importing the dataset"
   ]
  },
  {
   "cell_type": "code",
   "execution_count": 2,
   "metadata": {
    "colab": {},
    "colab_type": "code",
    "id": "B9CV13Co_HHM"
   },
   "outputs": [
    {
     "name": "stdout",
     "output_type": "stream",
     "text": [
      "<class 'pandas.core.frame.DataFrame'>\n",
      "RangeIndex: 576 entries, 0 to 575\n",
      "Data columns (total 4 columns):\n",
      " #   Column             Non-Null Count  Dtype  \n",
      "---  ------             --------------  -----  \n",
      " 0   Charge_mass        576 non-null    float64\n",
      " 1   Standoff_distance  576 non-null    int64  \n",
      " 2   End_time           576 non-null    float64\n",
      " 3   End_index          576 non-null    int64  \n",
      "dtypes: float64(2), int64(2)\n",
      "memory usage: 18.1 KB\n"
     ]
    }
   ],
   "source": [
    "dataset = pd.read_excel('End_time.xlsx')\n",
    "dataset.info()"
   ]
  },
  {
   "cell_type": "code",
   "execution_count": 3,
   "metadata": {},
   "outputs": [
    {
     "name": "stdout",
     "output_type": "stream",
     "text": [
      "(576, 2) (576,)\n"
     ]
    }
   ],
   "source": [
    "y = dataset['End_time']\n",
    "X = dataset.drop(['End_time','End_index'], axis=1)\n",
    "print(X.shape, y.shape)"
   ]
  },
  {
   "cell_type": "code",
   "execution_count": 4,
   "metadata": {},
   "outputs": [],
   "source": [
    "# convert to numpy array\n",
    "X = np.array(X)\n",
    "y = np.array(y)"
   ]
  },
  {
   "cell_type": "markdown",
   "metadata": {
    "colab_type": "text",
    "id": "VC6omXel_Up0"
   },
   "source": [
    "### Splitting the dataset into the Training set and Test set"
   ]
  },
  {
   "cell_type": "code",
   "execution_count": 5,
   "metadata": {
    "colab": {},
    "colab_type": "code",
    "id": "L5edeb2r_agx"
   },
   "outputs": [],
   "source": [
    "from sklearn.model_selection import train_test_split\n",
    "X_train, X_test, y_train, y_test = train_test_split(X,\n",
    "                                                    y,\n",
    "                                                    test_size = 0.3,\n",
    "                                                    random_state = 0)"
   ]
  },
  {
   "cell_type": "code",
   "execution_count": 6,
   "metadata": {
    "colab": {},
    "colab_type": "code",
    "id": "L5edeb2r_agx"
   },
   "outputs": [],
   "source": [
    "X_val, X_test, y_val, y_test = train_test_split(X_test,\n",
    "                                                y_test,\n",
    "                                                test_size = 0.5,\n",
    "                                                random_state = 0)"
   ]
  },
  {
   "cell_type": "markdown",
   "metadata": {
    "colab_type": "text",
    "id": "_mSLlAT9_eyI"
   },
   "source": [
    "## Part 3 - Building the ANN"
   ]
  },
  {
   "cell_type": "markdown",
   "metadata": {
    "colab_type": "text",
    "id": "CsBULd_f_wLY"
   },
   "source": [
    "### Initializing the ANN"
   ]
  },
  {
   "cell_type": "code",
   "execution_count": 7,
   "metadata": {
    "colab": {},
    "colab_type": "code",
    "id": "J6Hd97Ls__Nz"
   },
   "outputs": [],
   "source": [
    "ann = tf.keras.models.Sequential()"
   ]
  },
  {
   "cell_type": "markdown",
   "metadata": {
    "colab_type": "text",
    "id": "iitAFJS_ABUn"
   },
   "source": [
    "### Adding the input layer and the first hidden layer"
   ]
  },
  {
   "cell_type": "code",
   "execution_count": 8,
   "metadata": {
    "colab": {},
    "colab_type": "code",
    "id": "ksO_Vv40AHix"
   },
   "outputs": [],
   "source": [
    "ann.add(tf.keras.layers.Dense(units=65,\n",
    "                              input_shape=(X_train.shape[1],),\n",
    "                              activation='relu'))"
   ]
  },
  {
   "cell_type": "markdown",
   "metadata": {
    "colab_type": "text",
    "id": "-lb4kK_wAKbs"
   },
   "source": [
    "### Adding the second hidden layer"
   ]
  },
  {
   "cell_type": "code",
   "execution_count": 9,
   "metadata": {
    "colab": {},
    "colab_type": "code",
    "id": "c2357OqEAQOQ",
    "tags": []
   },
   "outputs": [],
   "source": [
    "ann.add(tf.keras.layers.Dense(units=53,\n",
    "                              activation='relu'))"
   ]
  },
  {
   "cell_type": "markdown",
   "metadata": {
    "colab_type": "text",
    "id": "-lb4kK_wAKbs"
   },
   "source": [
    "### Adding the third hidden layer"
   ]
  },
  {
   "cell_type": "code",
   "execution_count": 10,
   "metadata": {
    "colab": {},
    "colab_type": "code",
    "id": "c2357OqEAQOQ",
    "tags": []
   },
   "outputs": [],
   "source": [
    "ann.add(tf.keras.layers.Dense(units=40,\n",
    "                              activation='relu'))"
   ]
  },
  {
   "cell_type": "markdown",
   "metadata": {
    "colab_type": "text",
    "id": "jwMOmKb3AdBY"
   },
   "source": [
    "### Adding the output layer"
   ]
  },
  {
   "cell_type": "code",
   "execution_count": 11,
   "metadata": {
    "colab": {},
    "colab_type": "code",
    "id": "YFATpzsUAkLL"
   },
   "outputs": [],
   "source": [
    "ann.add(tf.keras.layers.Dense(units=1,\n",
    "                              activation='linear'))"
   ]
  },
  {
   "cell_type": "markdown",
   "metadata": {},
   "source": [
    "### what model looks like"
   ]
  },
  {
   "cell_type": "code",
   "execution_count": 12,
   "metadata": {},
   "outputs": [
    {
     "name": "stdout",
     "output_type": "stream",
     "text": [
      "Model: \"sequential\"\n",
      "_________________________________________________________________\n",
      " Layer (type)                Output Shape              Param #   \n",
      "=================================================================\n",
      " dense (Dense)               (None, 65)                195       \n",
      "                                                                 \n",
      " dense_1 (Dense)             (None, 53)                3498      \n",
      "                                                                 \n",
      " dense_2 (Dense)             (None, 40)                2160      \n",
      "                                                                 \n",
      " dense_3 (Dense)             (None, 1)                 41        \n",
      "                                                                 \n",
      "=================================================================\n",
      "Total params: 5,894\n",
      "Trainable params: 5,894\n",
      "Non-trainable params: 0\n",
      "_________________________________________________________________\n"
     ]
    }
   ],
   "source": [
    "ann.summary()"
   ]
  },
  {
   "cell_type": "markdown",
   "metadata": {
    "colab_type": "text",
    "id": "fq7e4fF6A1yy"
   },
   "source": [
    "## Part 4 - Training the ANN"
   ]
  },
  {
   "cell_type": "markdown",
   "metadata": {
    "colab_type": "text",
    "id": "qDeylAs2An25"
   },
   "source": [
    "### Compiling the ANN"
   ]
  },
  {
   "cell_type": "code",
   "execution_count": 13,
   "metadata": {
    "colab": {},
    "colab_type": "code",
    "id": "pesgbWlCAtB4"
   },
   "outputs": [],
   "source": [
    "from tensorflow.keras.optimizers import Adam\n",
    "opt = Adam(learning_rate=0.001)\n",
    "ann.compile(optimizer = opt,\n",
    "            loss = 'mean_squared_error',\n",
    "            metrics = ['mae'])"
   ]
  },
  {
   "cell_type": "markdown",
   "metadata": {},
   "source": [
    "### early stopping callback"
   ]
  },
  {
   "cell_type": "code",
   "execution_count": 14,
   "metadata": {},
   "outputs": [],
   "source": [
    "# protects from unnecessary further training of the model if a particular metric does not continue to improve over a number of n epochs. In such a case, the model training would be automatically aborted.\n",
    "from keras.callbacks import EarlyStopping\n",
    "es = EarlyStopping(monitor='val_loss',\n",
    "                   mode='min',\n",
    "                   patience=50,\n",
    "                   restore_best_weights = True)"
   ]
  },
  {
   "cell_type": "markdown",
   "metadata": {
    "colab_type": "text",
    "id": "YjVuiybYOo7r"
   },
   "source": [
    "### Training the ANN model on the Training set"
   ]
  },
  {
   "cell_type": "code",
   "execution_count": 15,
   "metadata": {
    "colab": {
     "base_uri": "https://localhost:8080/",
     "height": 1000
    },
    "colab_type": "code",
    "id": "c_vV-tiiA5zn",
    "outputId": "4a2b6ee6-ed75-4698-9069-b250e613803f"
   },
   "outputs": [
    {
     "name": "stdout",
     "output_type": "stream",
     "text": [
      "Epoch 1/500\n",
      "9/9 [==============================] - 1s 23ms/step - loss: 2.8776 - mae: 1.1844 - val_loss: 1.0036 - val_mae: 0.8983\n",
      "Epoch 2/500\n",
      "9/9 [==============================] - 0s 6ms/step - loss: 0.6684 - mae: 0.6991 - val_loss: 0.0896 - val_mae: 0.1687\n",
      "Epoch 3/500\n",
      "9/9 [==============================] - 0s 6ms/step - loss: 0.0704 - mae: 0.2184 - val_loss: 0.0720 - val_mae: 0.2459\n",
      "Epoch 4/500\n",
      "9/9 [==============================] - 0s 6ms/step - loss: 0.0438 - mae: 0.1648 - val_loss: 0.0456 - val_mae: 0.1798\n",
      "Epoch 5/500\n",
      "9/9 [==============================] - 0s 6ms/step - loss: 0.0184 - mae: 0.1053 - val_loss: 0.0037 - val_mae: 0.0508\n",
      "Epoch 6/500\n",
      "9/9 [==============================] - 0s 5ms/step - loss: 0.0061 - mae: 0.0610 - val_loss: 0.0051 - val_mae: 0.0575\n",
      "Epoch 7/500\n",
      "9/9 [==============================] - 0s 5ms/step - loss: 0.0038 - mae: 0.0507 - val_loss: 0.0035 - val_mae: 0.0463\n",
      "Epoch 8/500\n",
      "9/9 [==============================] - 0s 7ms/step - loss: 0.0021 - mae: 0.0335 - val_loss: 0.0019 - val_mae: 0.0358\n",
      "Epoch 9/500\n",
      "9/9 [==============================] - 0s 7ms/step - loss: 0.0013 - mae: 0.0274 - val_loss: 5.4725e-04 - val_mae: 0.0182\n",
      "Epoch 10/500\n",
      "9/9 [==============================] - 0s 5ms/step - loss: 7.3272e-04 - mae: 0.0219 - val_loss: 6.1125e-04 - val_mae: 0.0190\n",
      "Epoch 11/500\n",
      "9/9 [==============================] - 0s 6ms/step - loss: 4.8256e-04 - mae: 0.0155 - val_loss: 3.4973e-04 - val_mae: 0.0131\n",
      "Epoch 12/500\n",
      "9/9 [==============================] - 0s 6ms/step - loss: 3.6578e-04 - mae: 0.0141 - val_loss: 3.3410e-04 - val_mae: 0.0138\n",
      "Epoch 13/500\n",
      "9/9 [==============================] - 0s 7ms/step - loss: 3.0552e-04 - mae: 0.0133 - val_loss: 2.3665e-04 - val_mae: 0.0114\n",
      "Epoch 14/500\n",
      "9/9 [==============================] - 0s 6ms/step - loss: 2.2759e-04 - mae: 0.0118 - val_loss: 2.2333e-04 - val_mae: 0.0114\n",
      "Epoch 15/500\n",
      "9/9 [==============================] - 0s 6ms/step - loss: 1.9407e-04 - mae: 0.0111 - val_loss: 1.9832e-04 - val_mae: 0.0111\n",
      "Epoch 16/500\n",
      "9/9 [==============================] - 0s 6ms/step - loss: 1.7536e-04 - mae: 0.0104 - val_loss: 1.7362e-04 - val_mae: 0.0104\n",
      "Epoch 17/500\n",
      "9/9 [==============================] - 0s 6ms/step - loss: 1.5397e-04 - mae: 0.0102 - val_loss: 1.4898e-04 - val_mae: 0.0094\n",
      "Epoch 18/500\n",
      "9/9 [==============================] - 0s 6ms/step - loss: 1.2692e-04 - mae: 0.0092 - val_loss: 1.3309e-04 - val_mae: 0.0091\n",
      "Epoch 19/500\n",
      "9/9 [==============================] - 0s 7ms/step - loss: 1.1086e-04 - mae: 0.0086 - val_loss: 1.2434e-04 - val_mae: 0.0088\n",
      "Epoch 20/500\n",
      "9/9 [==============================] - 0s 6ms/step - loss: 1.1081e-04 - mae: 0.0088 - val_loss: 1.1075e-04 - val_mae: 0.0083\n",
      "Epoch 21/500\n",
      "9/9 [==============================] - 0s 6ms/step - loss: 9.5912e-05 - mae: 0.0077 - val_loss: 1.0106e-04 - val_mae: 0.0078\n",
      "Epoch 22/500\n",
      "9/9 [==============================] - 0s 6ms/step - loss: 8.5667e-05 - mae: 0.0076 - val_loss: 8.9222e-05 - val_mae: 0.0074\n",
      "Epoch 23/500\n",
      "9/9 [==============================] - 0s 6ms/step - loss: 7.2931e-05 - mae: 0.0069 - val_loss: 8.1691e-05 - val_mae: 0.0071\n",
      "Epoch 24/500\n",
      "9/9 [==============================] - 0s 6ms/step - loss: 6.5076e-05 - mae: 0.0067 - val_loss: 7.8568e-05 - val_mae: 0.0070\n",
      "Epoch 25/500\n",
      "9/9 [==============================] - 0s 6ms/step - loss: 6.2991e-05 - mae: 0.0062 - val_loss: 7.2502e-05 - val_mae: 0.0064\n",
      "Epoch 26/500\n",
      "9/9 [==============================] - 0s 7ms/step - loss: 5.2553e-05 - mae: 0.0059 - val_loss: 6.2818e-05 - val_mae: 0.0063\n",
      "Epoch 27/500\n",
      "9/9 [==============================] - 0s 6ms/step - loss: 4.7940e-05 - mae: 0.0056 - val_loss: 6.2337e-05 - val_mae: 0.0059\n",
      "Epoch 28/500\n",
      "9/9 [==============================] - 0s 6ms/step - loss: 4.4042e-05 - mae: 0.0053 - val_loss: 5.8440e-05 - val_mae: 0.0060\n",
      "Epoch 29/500\n",
      "9/9 [==============================] - 0s 6ms/step - loss: 4.1137e-05 - mae: 0.0050 - val_loss: 5.2554e-05 - val_mae: 0.0055\n",
      "Epoch 30/500\n",
      "9/9 [==============================] - 0s 7ms/step - loss: 3.9050e-05 - mae: 0.0049 - val_loss: 4.9498e-05 - val_mae: 0.0053\n",
      "Epoch 31/500\n",
      "9/9 [==============================] - 0s 5ms/step - loss: 3.7735e-05 - mae: 0.0047 - val_loss: 4.9755e-05 - val_mae: 0.0054\n",
      "Epoch 32/500\n",
      "9/9 [==============================] - 0s 6ms/step - loss: 3.4502e-05 - mae: 0.0045 - val_loss: 4.8766e-05 - val_mae: 0.0051\n",
      "Epoch 33/500\n",
      "9/9 [==============================] - 0s 7ms/step - loss: 5.4876e-05 - mae: 0.0055 - val_loss: 6.3428e-05 - val_mae: 0.0056\n",
      "Epoch 34/500\n",
      "9/9 [==============================] - 0s 6ms/step - loss: 4.2340e-05 - mae: 0.0049 - val_loss: 5.3564e-05 - val_mae: 0.0052\n",
      "Epoch 35/500\n",
      "9/9 [==============================] - 0s 10ms/step - loss: 3.4072e-05 - mae: 0.0044 - val_loss: 3.8542e-05 - val_mae: 0.0047\n",
      "Epoch 36/500\n",
      "9/9 [==============================] - 0s 8ms/step - loss: 3.0427e-05 - mae: 0.0043 - val_loss: 3.7939e-05 - val_mae: 0.0047\n",
      "Epoch 37/500\n",
      "9/9 [==============================] - 0s 5ms/step - loss: 2.9073e-05 - mae: 0.0041 - val_loss: 3.7684e-05 - val_mae: 0.0046\n",
      "Epoch 38/500\n",
      "9/9 [==============================] - 0s 6ms/step - loss: 2.7456e-05 - mae: 0.0040 - val_loss: 3.4789e-05 - val_mae: 0.0045\n",
      "Epoch 39/500\n",
      "9/9 [==============================] - 0s 6ms/step - loss: 2.6735e-05 - mae: 0.0040 - val_loss: 3.6050e-05 - val_mae: 0.0045\n",
      "Epoch 40/500\n",
      "9/9 [==============================] - 0s 7ms/step - loss: 2.6764e-05 - mae: 0.0040 - val_loss: 3.3381e-05 - val_mae: 0.0044\n",
      "Epoch 41/500\n",
      "9/9 [==============================] - 0s 6ms/step - loss: 2.5780e-05 - mae: 0.0038 - val_loss: 3.2952e-05 - val_mae: 0.0043\n",
      "Epoch 42/500\n",
      "9/9 [==============================] - 0s 6ms/step - loss: 2.4554e-05 - mae: 0.0038 - val_loss: 3.3311e-05 - val_mae: 0.0043\n",
      "Epoch 43/500\n",
      "9/9 [==============================] - 0s 6ms/step - loss: 2.4264e-05 - mae: 0.0037 - val_loss: 3.0427e-05 - val_mae: 0.0042\n",
      "Epoch 44/500\n",
      "9/9 [==============================] - 0s 5ms/step - loss: 2.3527e-05 - mae: 0.0038 - val_loss: 3.0689e-05 - val_mae: 0.0042\n",
      "Epoch 45/500\n",
      "9/9 [==============================] - 0s 5ms/step - loss: 2.5062e-05 - mae: 0.0038 - val_loss: 3.1763e-05 - val_mae: 0.0044\n",
      "Epoch 46/500\n",
      "9/9 [==============================] - 0s 6ms/step - loss: 2.5001e-05 - mae: 0.0038 - val_loss: 3.5177e-05 - val_mae: 0.0044\n",
      "Epoch 47/500\n",
      "9/9 [==============================] - 0s 6ms/step - loss: 2.3979e-05 - mae: 0.0037 - val_loss: 2.9544e-05 - val_mae: 0.0044\n",
      "Epoch 48/500\n",
      "9/9 [==============================] - 0s 6ms/step - loss: 2.2578e-05 - mae: 0.0037 - val_loss: 3.2678e-05 - val_mae: 0.0043\n",
      "Epoch 49/500\n",
      "9/9 [==============================] - 0s 7ms/step - loss: 2.2167e-05 - mae: 0.0036 - val_loss: 2.8653e-05 - val_mae: 0.0041\n",
      "Epoch 50/500\n",
      "9/9 [==============================] - 0s 6ms/step - loss: 2.1330e-05 - mae: 0.0035 - val_loss: 2.8810e-05 - val_mae: 0.0041\n",
      "Epoch 51/500\n",
      "9/9 [==============================] - 0s 7ms/step - loss: 2.1332e-05 - mae: 0.0035 - val_loss: 3.2198e-05 - val_mae: 0.0042\n",
      "Epoch 52/500\n",
      "9/9 [==============================] - 0s 6ms/step - loss: 2.9109e-05 - mae: 0.0041 - val_loss: 3.4652e-05 - val_mae: 0.0044\n",
      "Epoch 53/500\n",
      "9/9 [==============================] - 0s 5ms/step - loss: 2.4858e-05 - mae: 0.0038 - val_loss: 3.1393e-05 - val_mae: 0.0042\n",
      "Epoch 54/500\n",
      "9/9 [==============================] - 0s 6ms/step - loss: 2.1713e-05 - mae: 0.0037 - val_loss: 2.9298e-05 - val_mae: 0.0040\n",
      "Epoch 55/500\n",
      "9/9 [==============================] - 0s 6ms/step - loss: 1.9725e-05 - mae: 0.0034 - val_loss: 3.1756e-05 - val_mae: 0.0046\n",
      "Epoch 56/500\n",
      "9/9 [==============================] - 0s 5ms/step - loss: 2.6667e-05 - mae: 0.0040 - val_loss: 3.2266e-05 - val_mae: 0.0043\n",
      "Epoch 57/500\n",
      "9/9 [==============================] - 0s 7ms/step - loss: 2.0789e-05 - mae: 0.0036 - val_loss: 2.4708e-05 - val_mae: 0.0038\n",
      "Epoch 58/500\n",
      "9/9 [==============================] - 0s 6ms/step - loss: 1.9679e-05 - mae: 0.0034 - val_loss: 2.5248e-05 - val_mae: 0.0039\n",
      "Epoch 59/500\n",
      "9/9 [==============================] - 0s 6ms/step - loss: 1.8721e-05 - mae: 0.0035 - val_loss: 2.4515e-05 - val_mae: 0.0039\n",
      "Epoch 60/500\n",
      "9/9 [==============================] - 0s 6ms/step - loss: 1.8265e-05 - mae: 0.0033 - val_loss: 2.4812e-05 - val_mae: 0.0038\n",
      "Epoch 61/500\n",
      "9/9 [==============================] - 0s 7ms/step - loss: 1.7706e-05 - mae: 0.0032 - val_loss: 2.3302e-05 - val_mae: 0.0037\n",
      "Epoch 62/500\n",
      "9/9 [==============================] - 0s 6ms/step - loss: 1.7305e-05 - mae: 0.0032 - val_loss: 2.3139e-05 - val_mae: 0.0038\n",
      "Epoch 63/500\n",
      "9/9 [==============================] - 0s 6ms/step - loss: 2.1314e-05 - mae: 0.0035 - val_loss: 3.1690e-05 - val_mae: 0.0041\n",
      "Epoch 64/500\n",
      "9/9 [==============================] - 0s 6ms/step - loss: 2.1464e-05 - mae: 0.0037 - val_loss: 2.5979e-05 - val_mae: 0.0037\n",
      "Epoch 65/500\n",
      "9/9 [==============================] - 0s 6ms/step - loss: 1.7765e-05 - mae: 0.0033 - val_loss: 2.1747e-05 - val_mae: 0.0037\n",
      "Epoch 66/500\n",
      "9/9 [==============================] - 0s 7ms/step - loss: 1.8332e-05 - mae: 0.0034 - val_loss: 2.3883e-05 - val_mae: 0.0039\n",
      "Epoch 67/500\n",
      "9/9 [==============================] - 0s 7ms/step - loss: 1.8949e-05 - mae: 0.0034 - val_loss: 2.5463e-05 - val_mae: 0.0037\n",
      "Epoch 68/500\n",
      "9/9 [==============================] - 0s 6ms/step - loss: 1.7327e-05 - mae: 0.0033 - val_loss: 2.9634e-05 - val_mae: 0.0041\n",
      "Epoch 69/500\n",
      "9/9 [==============================] - 0s 6ms/step - loss: 2.4506e-05 - mae: 0.0038 - val_loss: 2.9883e-05 - val_mae: 0.0042\n",
      "Epoch 70/500\n",
      "9/9 [==============================] - 0s 6ms/step - loss: 2.0972e-05 - mae: 0.0035 - val_loss: 2.6336e-05 - val_mae: 0.0039\n",
      "Epoch 71/500\n",
      "9/9 [==============================] - 0s 6ms/step - loss: 1.6960e-05 - mae: 0.0031 - val_loss: 2.0974e-05 - val_mae: 0.0035\n",
      "Epoch 72/500\n",
      "9/9 [==============================] - 0s 6ms/step - loss: 1.5287e-05 - mae: 0.0030 - val_loss: 2.1340e-05 - val_mae: 0.0036\n",
      "Epoch 73/500\n",
      "9/9 [==============================] - 0s 6ms/step - loss: 1.5769e-05 - mae: 0.0031 - val_loss: 2.2763e-05 - val_mae: 0.0035\n",
      "Epoch 74/500\n",
      "9/9 [==============================] - 0s 5ms/step - loss: 1.7035e-05 - mae: 0.0031 - val_loss: 2.7488e-05 - val_mae: 0.0041\n",
      "Epoch 75/500\n",
      "9/9 [==============================] - 0s 7ms/step - loss: 1.9840e-05 - mae: 0.0035 - val_loss: 2.1932e-05 - val_mae: 0.0036\n",
      "Epoch 76/500\n",
      "9/9 [==============================] - 0s 11ms/step - loss: 1.5353e-05 - mae: 0.0031 - val_loss: 2.3698e-05 - val_mae: 0.0036\n",
      "Epoch 77/500\n",
      "9/9 [==============================] - 0s 5ms/step - loss: 1.5091e-05 - mae: 0.0029 - val_loss: 1.9635e-05 - val_mae: 0.0034\n",
      "Epoch 78/500\n",
      "9/9 [==============================] - 0s 6ms/step - loss: 1.4965e-05 - mae: 0.0030 - val_loss: 2.0732e-05 - val_mae: 0.0036\n",
      "Epoch 79/500\n",
      "9/9 [==============================] - 0s 6ms/step - loss: 1.5678e-05 - mae: 0.0030 - val_loss: 1.9927e-05 - val_mae: 0.0035\n",
      "Epoch 80/500\n",
      "9/9 [==============================] - 0s 5ms/step - loss: 1.5591e-05 - mae: 0.0031 - val_loss: 2.0982e-05 - val_mae: 0.0037\n",
      "Epoch 81/500\n",
      "9/9 [==============================] - 0s 6ms/step - loss: 1.6772e-05 - mae: 0.0033 - val_loss: 2.1752e-05 - val_mae: 0.0035\n",
      "Epoch 82/500\n",
      "9/9 [==============================] - 0s 6ms/step - loss: 1.5496e-05 - mae: 0.0031 - val_loss: 2.0139e-05 - val_mae: 0.0034\n",
      "Epoch 83/500\n",
      "9/9 [==============================] - 0s 6ms/step - loss: 1.4231e-05 - mae: 0.0030 - val_loss: 1.9538e-05 - val_mae: 0.0034\n",
      "Epoch 84/500\n",
      "9/9 [==============================] - 0s 5ms/step - loss: 1.6196e-05 - mae: 0.0031 - val_loss: 2.3653e-05 - val_mae: 0.0036\n",
      "Epoch 85/500\n",
      "9/9 [==============================] - 0s 6ms/step - loss: 1.4158e-05 - mae: 0.0029 - val_loss: 2.0187e-05 - val_mae: 0.0035\n",
      "Epoch 86/500\n",
      "9/9 [==============================] - 0s 6ms/step - loss: 1.5272e-05 - mae: 0.0031 - val_loss: 1.9332e-05 - val_mae: 0.0033\n",
      "Epoch 87/500\n",
      "9/9 [==============================] - 0s 6ms/step - loss: 1.3377e-05 - mae: 0.0029 - val_loss: 2.1562e-05 - val_mae: 0.0035\n",
      "Epoch 88/500\n",
      "9/9 [==============================] - 0s 5ms/step - loss: 1.4010e-05 - mae: 0.0029 - val_loss: 1.9043e-05 - val_mae: 0.0033\n",
      "Epoch 89/500\n",
      "9/9 [==============================] - 0s 6ms/step - loss: 1.3652e-05 - mae: 0.0029 - val_loss: 2.0198e-05 - val_mae: 0.0034\n",
      "Epoch 90/500\n",
      "9/9 [==============================] - 0s 6ms/step - loss: 1.3605e-05 - mae: 0.0028 - val_loss: 1.8852e-05 - val_mae: 0.0034\n",
      "Epoch 91/500\n",
      "9/9 [==============================] - 0s 6ms/step - loss: 1.3446e-05 - mae: 0.0028 - val_loss: 1.9788e-05 - val_mae: 0.0035\n",
      "Epoch 92/500\n",
      "9/9 [==============================] - 0s 5ms/step - loss: 1.3294e-05 - mae: 0.0028 - val_loss: 1.9482e-05 - val_mae: 0.0034\n",
      "Epoch 93/500\n",
      "9/9 [==============================] - 0s 6ms/step - loss: 1.2864e-05 - mae: 0.0028 - val_loss: 1.8825e-05 - val_mae: 0.0033\n",
      "Epoch 94/500\n",
      "9/9 [==============================] - 0s 6ms/step - loss: 1.3121e-05 - mae: 0.0028 - val_loss: 2.8467e-05 - val_mae: 0.0039\n",
      "Epoch 95/500\n",
      "9/9 [==============================] - 0s 7ms/step - loss: 1.5846e-05 - mae: 0.0031 - val_loss: 2.0490e-05 - val_mae: 0.0037\n",
      "Epoch 96/500\n",
      "9/9 [==============================] - 0s 6ms/step - loss: 1.2763e-05 - mae: 0.0028 - val_loss: 1.9252e-05 - val_mae: 0.0034\n",
      "Epoch 97/500\n",
      "9/9 [==============================] - 0s 5ms/step - loss: 1.3393e-05 - mae: 0.0028 - val_loss: 2.0475e-05 - val_mae: 0.0033\n",
      "Epoch 98/500\n",
      "9/9 [==============================] - 0s 6ms/step - loss: 1.3129e-05 - mae: 0.0028 - val_loss: 2.2057e-05 - val_mae: 0.0037\n",
      "Epoch 99/500\n",
      "9/9 [==============================] - 0s 5ms/step - loss: 1.5627e-05 - mae: 0.0031 - val_loss: 1.8009e-05 - val_mae: 0.0032\n",
      "Epoch 100/500\n",
      "9/9 [==============================] - 0s 6ms/step - loss: 1.7301e-05 - mae: 0.0032 - val_loss: 2.0730e-05 - val_mae: 0.0034\n",
      "Epoch 101/500\n",
      "9/9 [==============================] - 0s 6ms/step - loss: 1.3375e-05 - mae: 0.0029 - val_loss: 2.0655e-05 - val_mae: 0.0034\n",
      "Epoch 102/500\n",
      "9/9 [==============================] - 0s 6ms/step - loss: 1.2477e-05 - mae: 0.0027 - val_loss: 1.8659e-05 - val_mae: 0.0033\n",
      "Epoch 103/500\n",
      "9/9 [==============================] - 0s 6ms/step - loss: 1.2106e-05 - mae: 0.0027 - val_loss: 1.9629e-05 - val_mae: 0.0033\n",
      "Epoch 104/500\n",
      "9/9 [==============================] - 0s 6ms/step - loss: 1.2598e-05 - mae: 0.0028 - val_loss: 1.8217e-05 - val_mae: 0.0034\n",
      "Epoch 105/500\n",
      "9/9 [==============================] - 0s 6ms/step - loss: 1.2136e-05 - mae: 0.0027 - val_loss: 1.7715e-05 - val_mae: 0.0033\n",
      "Epoch 106/500\n",
      "9/9 [==============================] - 0s 6ms/step - loss: 1.1455e-05 - mae: 0.0026 - val_loss: 1.8100e-05 - val_mae: 0.0033\n",
      "Epoch 107/500\n",
      "9/9 [==============================] - 0s 6ms/step - loss: 1.1904e-05 - mae: 0.0027 - val_loss: 1.8145e-05 - val_mae: 0.0032\n",
      "Epoch 108/500\n",
      "9/9 [==============================] - 0s 7ms/step - loss: 1.1404e-05 - mae: 0.0026 - val_loss: 1.7737e-05 - val_mae: 0.0033\n",
      "Epoch 109/500\n",
      "9/9 [==============================] - 0s 6ms/step - loss: 1.1276e-05 - mae: 0.0026 - val_loss: 1.7778e-05 - val_mae: 0.0032\n",
      "Epoch 110/500\n",
      "9/9 [==============================] - 0s 5ms/step - loss: 1.0884e-05 - mae: 0.0025 - val_loss: 1.7145e-05 - val_mae: 0.0031\n",
      "Epoch 111/500\n",
      "9/9 [==============================] - 0s 7ms/step - loss: 1.0933e-05 - mae: 0.0026 - val_loss: 1.8329e-05 - val_mae: 0.0032\n",
      "Epoch 112/500\n",
      "9/9 [==============================] - 0s 5ms/step - loss: 1.1184e-05 - mae: 0.0026 - val_loss: 2.2853e-05 - val_mae: 0.0035\n",
      "Epoch 113/500\n",
      "9/9 [==============================] - 0s 6ms/step - loss: 1.4791e-05 - mae: 0.0030 - val_loss: 1.8838e-05 - val_mae: 0.0032\n",
      "Epoch 114/500\n",
      "9/9 [==============================] - 0s 6ms/step - loss: 1.2121e-05 - mae: 0.0027 - val_loss: 1.7082e-05 - val_mae: 0.0033\n",
      "Epoch 115/500\n",
      "9/9 [==============================] - 0s 6ms/step - loss: 1.1450e-05 - mae: 0.0026 - val_loss: 1.8714e-05 - val_mae: 0.0035\n",
      "Epoch 116/500\n",
      "9/9 [==============================] - 0s 5ms/step - loss: 1.2356e-05 - mae: 0.0027 - val_loss: 2.4146e-05 - val_mae: 0.0041\n",
      "Epoch 117/500\n",
      "9/9 [==============================] - 0s 6ms/step - loss: 1.7781e-05 - mae: 0.0033 - val_loss: 2.4474e-05 - val_mae: 0.0040\n",
      "Epoch 118/500\n",
      "9/9 [==============================] - 0s 6ms/step - loss: 2.0677e-05 - mae: 0.0036 - val_loss: 2.0136e-05 - val_mae: 0.0038\n",
      "Epoch 119/500\n",
      "9/9 [==============================] - 0s 6ms/step - loss: 2.8757e-05 - mae: 0.0043 - val_loss: 2.4664e-05 - val_mae: 0.0038\n",
      "Epoch 120/500\n",
      "9/9 [==============================] - 0s 6ms/step - loss: 1.7649e-05 - mae: 0.0032 - val_loss: 2.2766e-05 - val_mae: 0.0034\n",
      "Epoch 121/500\n",
      "9/9 [==============================] - 0s 6ms/step - loss: 1.0787e-05 - mae: 0.0026 - val_loss: 2.4666e-05 - val_mae: 0.0036\n",
      "Epoch 122/500\n",
      "9/9 [==============================] - 0s 7ms/step - loss: 1.2246e-05 - mae: 0.0027 - val_loss: 1.7079e-05 - val_mae: 0.0033\n",
      "Epoch 123/500\n",
      "9/9 [==============================] - 0s 5ms/step - loss: 1.0422e-05 - mae: 0.0025 - val_loss: 1.8352e-05 - val_mae: 0.0034\n",
      "Epoch 124/500\n",
      "9/9 [==============================] - 0s 6ms/step - loss: 1.0153e-05 - mae: 0.0025 - val_loss: 1.5919e-05 - val_mae: 0.0031\n",
      "Epoch 125/500\n",
      "9/9 [==============================] - 0s 6ms/step - loss: 1.0121e-05 - mae: 0.0025 - val_loss: 1.8000e-05 - val_mae: 0.0035\n",
      "Epoch 126/500\n",
      "9/9 [==============================] - 0s 6ms/step - loss: 1.3882e-05 - mae: 0.0029 - val_loss: 1.6323e-05 - val_mae: 0.0032\n",
      "Epoch 127/500\n",
      "9/9 [==============================] - 0s 6ms/step - loss: 1.0416e-05 - mae: 0.0025 - val_loss: 1.7891e-05 - val_mae: 0.0033\n",
      "Epoch 128/500\n",
      "9/9 [==============================] - 0s 5ms/step - loss: 1.0560e-05 - mae: 0.0025 - val_loss: 1.6966e-05 - val_mae: 0.0031\n",
      "Epoch 129/500\n",
      "9/9 [==============================] - 0s 5ms/step - loss: 1.1042e-05 - mae: 0.0026 - val_loss: 1.9659e-05 - val_mae: 0.0034\n",
      "Epoch 130/500\n",
      "9/9 [==============================] - 0s 8ms/step - loss: 1.2076e-05 - mae: 0.0027 - val_loss: 1.6520e-05 - val_mae: 0.0031\n",
      "Epoch 131/500\n",
      "9/9 [==============================] - 0s 6ms/step - loss: 1.0925e-05 - mae: 0.0025 - val_loss: 1.8743e-05 - val_mae: 0.0033\n",
      "Epoch 132/500\n",
      "9/9 [==============================] - 0s 6ms/step - loss: 9.6761e-06 - mae: 0.0024 - val_loss: 1.5737e-05 - val_mae: 0.0030\n",
      "Epoch 133/500\n",
      "9/9 [==============================] - 0s 6ms/step - loss: 9.3982e-06 - mae: 0.0024 - val_loss: 1.5094e-05 - val_mae: 0.0030\n",
      "Epoch 134/500\n",
      "9/9 [==============================] - 0s 7ms/step - loss: 9.4247e-06 - mae: 0.0024 - val_loss: 1.6188e-05 - val_mae: 0.0029\n",
      "Epoch 135/500\n",
      "9/9 [==============================] - 0s 5ms/step - loss: 9.6063e-06 - mae: 0.0024 - val_loss: 1.5179e-05 - val_mae: 0.0029\n",
      "Epoch 136/500\n",
      "9/9 [==============================] - 0s 6ms/step - loss: 8.9670e-06 - mae: 0.0023 - val_loss: 1.6818e-05 - val_mae: 0.0033\n",
      "Epoch 137/500\n",
      "9/9 [==============================] - 0s 8ms/step - loss: 9.5015e-06 - mae: 0.0024 - val_loss: 1.7133e-05 - val_mae: 0.0031\n",
      "Epoch 138/500\n",
      "9/9 [==============================] - 0s 5ms/step - loss: 1.0132e-05 - mae: 0.0025 - val_loss: 1.7255e-05 - val_mae: 0.0030\n",
      "Epoch 139/500\n",
      "9/9 [==============================] - 0s 5ms/step - loss: 9.5187e-06 - mae: 0.0024 - val_loss: 2.4738e-05 - val_mae: 0.0036\n",
      "Epoch 140/500\n",
      "9/9 [==============================] - 0s 5ms/step - loss: 1.3456e-05 - mae: 0.0028 - val_loss: 1.5285e-05 - val_mae: 0.0030\n",
      "Epoch 141/500\n",
      "9/9 [==============================] - 0s 5ms/step - loss: 1.0356e-05 - mae: 0.0025 - val_loss: 1.4834e-05 - val_mae: 0.0030\n",
      "Epoch 142/500\n",
      "9/9 [==============================] - 0s 6ms/step - loss: 9.3453e-06 - mae: 0.0023 - val_loss: 1.4909e-05 - val_mae: 0.0029\n",
      "Epoch 143/500\n",
      "9/9 [==============================] - 0s 5ms/step - loss: 8.3264e-06 - mae: 0.0022 - val_loss: 1.5660e-05 - val_mae: 0.0029\n",
      "Epoch 144/500\n",
      "9/9 [==============================] - 0s 6ms/step - loss: 8.5232e-06 - mae: 0.0023 - val_loss: 1.8697e-05 - val_mae: 0.0031\n",
      "Epoch 145/500\n",
      "9/9 [==============================] - 0s 5ms/step - loss: 1.1272e-05 - mae: 0.0026 - val_loss: 1.6417e-05 - val_mae: 0.0030\n",
      "Epoch 146/500\n",
      "9/9 [==============================] - 0s 6ms/step - loss: 9.2251e-06 - mae: 0.0023 - val_loss: 1.5659e-05 - val_mae: 0.0030\n",
      "Epoch 147/500\n",
      "9/9 [==============================] - 0s 6ms/step - loss: 9.3736e-06 - mae: 0.0024 - val_loss: 1.8494e-05 - val_mae: 0.0031\n",
      "Epoch 148/500\n",
      "9/9 [==============================] - 0s 6ms/step - loss: 1.0413e-05 - mae: 0.0025 - val_loss: 2.0598e-05 - val_mae: 0.0032\n",
      "Epoch 149/500\n",
      "9/9 [==============================] - 0s 6ms/step - loss: 1.0079e-05 - mae: 0.0024 - val_loss: 1.8606e-05 - val_mae: 0.0031\n",
      "Epoch 150/500\n",
      "9/9 [==============================] - 0s 6ms/step - loss: 1.1034e-05 - mae: 0.0025 - val_loss: 1.8718e-05 - val_mae: 0.0031\n",
      "Epoch 151/500\n",
      "9/9 [==============================] - 0s 6ms/step - loss: 1.3497e-05 - mae: 0.0029 - val_loss: 1.8211e-05 - val_mae: 0.0031\n",
      "Epoch 152/500\n",
      "9/9 [==============================] - 0s 6ms/step - loss: 1.0951e-05 - mae: 0.0025 - val_loss: 1.5043e-05 - val_mae: 0.0028\n",
      "Epoch 153/500\n",
      "9/9 [==============================] - 0s 6ms/step - loss: 9.3065e-06 - mae: 0.0023 - val_loss: 1.7304e-05 - val_mae: 0.0030\n",
      "Epoch 154/500\n",
      "9/9 [==============================] - 0s 6ms/step - loss: 8.9589e-06 - mae: 0.0023 - val_loss: 1.9975e-05 - val_mae: 0.0033\n",
      "Epoch 155/500\n",
      "9/9 [==============================] - 0s 6ms/step - loss: 1.1314e-05 - mae: 0.0026 - val_loss: 2.3848e-05 - val_mae: 0.0036\n",
      "Epoch 156/500\n",
      "9/9 [==============================] - 0s 5ms/step - loss: 1.2298e-05 - mae: 0.0028 - val_loss: 1.8703e-05 - val_mae: 0.0031\n",
      "Epoch 157/500\n",
      "9/9 [==============================] - 0s 6ms/step - loss: 1.0588e-05 - mae: 0.0025 - val_loss: 1.9498e-05 - val_mae: 0.0032\n",
      "Epoch 158/500\n",
      "9/9 [==============================] - 0s 5ms/step - loss: 9.6296e-06 - mae: 0.0024 - val_loss: 2.0283e-05 - val_mae: 0.0032\n",
      "Epoch 159/500\n",
      "9/9 [==============================] - 0s 6ms/step - loss: 9.4598e-06 - mae: 0.0024 - val_loss: 2.1643e-05 - val_mae: 0.0034\n",
      "Epoch 160/500\n",
      "9/9 [==============================] - 0s 5ms/step - loss: 1.0406e-05 - mae: 0.0025 - val_loss: 1.2758e-05 - val_mae: 0.0028\n",
      "Epoch 161/500\n",
      "9/9 [==============================] - 0s 5ms/step - loss: 1.3197e-05 - mae: 0.0028 - val_loss: 1.6134e-05 - val_mae: 0.0032\n",
      "Epoch 162/500\n",
      "9/9 [==============================] - 0s 5ms/step - loss: 9.3007e-06 - mae: 0.0024 - val_loss: 1.5135e-05 - val_mae: 0.0032\n",
      "Epoch 163/500\n",
      "9/9 [==============================] - 0s 5ms/step - loss: 9.2574e-06 - mae: 0.0023 - val_loss: 1.6482e-05 - val_mae: 0.0033\n",
      "Epoch 164/500\n",
      "9/9 [==============================] - 0s 5ms/step - loss: 9.5656e-06 - mae: 0.0024 - val_loss: 1.3579e-05 - val_mae: 0.0031\n",
      "Epoch 165/500\n",
      "9/9 [==============================] - 0s 6ms/step - loss: 1.0708e-05 - mae: 0.0025 - val_loss: 1.7095e-05 - val_mae: 0.0031\n",
      "Epoch 166/500\n",
      "9/9 [==============================] - 0s 5ms/step - loss: 1.1144e-05 - mae: 0.0026 - val_loss: 1.7384e-05 - val_mae: 0.0030\n",
      "Epoch 167/500\n",
      "9/9 [==============================] - 0s 5ms/step - loss: 1.1334e-05 - mae: 0.0026 - val_loss: 1.7736e-05 - val_mae: 0.0031\n",
      "Epoch 168/500\n",
      "9/9 [==============================] - 0s 5ms/step - loss: 8.8658e-06 - mae: 0.0024 - val_loss: 1.6602e-05 - val_mae: 0.0030\n",
      "Epoch 169/500\n",
      "9/9 [==============================] - 0s 5ms/step - loss: 8.7465e-06 - mae: 0.0023 - val_loss: 1.8130e-05 - val_mae: 0.0030\n",
      "Epoch 170/500\n",
      "9/9 [==============================] - 0s 5ms/step - loss: 9.7352e-06 - mae: 0.0024 - val_loss: 1.7672e-05 - val_mae: 0.0030\n",
      "Epoch 171/500\n",
      "9/9 [==============================] - 0s 5ms/step - loss: 9.2748e-06 - mae: 0.0023 - val_loss: 1.4113e-05 - val_mae: 0.0028\n",
      "Epoch 172/500\n",
      "9/9 [==============================] - 0s 5ms/step - loss: 7.6763e-06 - mae: 0.0022 - val_loss: 1.4272e-05 - val_mae: 0.0027\n",
      "Epoch 173/500\n",
      "9/9 [==============================] - 0s 5ms/step - loss: 8.1332e-06 - mae: 0.0022 - val_loss: 1.5664e-05 - val_mae: 0.0032\n",
      "Epoch 174/500\n",
      "9/9 [==============================] - 0s 5ms/step - loss: 1.1835e-05 - mae: 0.0027 - val_loss: 2.0242e-05 - val_mae: 0.0037\n",
      "Epoch 175/500\n",
      "9/9 [==============================] - 0s 5ms/step - loss: 9.6233e-06 - mae: 0.0024 - val_loss: 1.3833e-05 - val_mae: 0.0030\n",
      "Epoch 176/500\n",
      "9/9 [==============================] - 0s 8ms/step - loss: 7.7553e-06 - mae: 0.0022 - val_loss: 1.2939e-05 - val_mae: 0.0027\n",
      "Epoch 177/500\n",
      "9/9 [==============================] - 0s 5ms/step - loss: 7.5620e-06 - mae: 0.0021 - val_loss: 1.5874e-05 - val_mae: 0.0029\n",
      "Epoch 178/500\n",
      "9/9 [==============================] - 0s 5ms/step - loss: 9.8010e-06 - mae: 0.0024 - val_loss: 1.5190e-05 - val_mae: 0.0028\n",
      "Epoch 179/500\n",
      "9/9 [==============================] - 0s 6ms/step - loss: 7.5901e-06 - mae: 0.0021 - val_loss: 1.2510e-05 - val_mae: 0.0026\n",
      "Epoch 180/500\n",
      "9/9 [==============================] - 0s 6ms/step - loss: 8.3161e-06 - mae: 0.0022 - val_loss: 1.2799e-05 - val_mae: 0.0027\n",
      "Epoch 181/500\n",
      "9/9 [==============================] - 0s 5ms/step - loss: 7.5189e-06 - mae: 0.0021 - val_loss: 1.4245e-05 - val_mae: 0.0027\n",
      "Epoch 182/500\n",
      "9/9 [==============================] - 0s 5ms/step - loss: 8.7517e-06 - mae: 0.0023 - val_loss: 2.8125e-05 - val_mae: 0.0040\n",
      "Epoch 183/500\n",
      "9/9 [==============================] - 0s 5ms/step - loss: 1.7111e-05 - mae: 0.0033 - val_loss: 3.0397e-05 - val_mae: 0.0043\n",
      "Epoch 184/500\n",
      "9/9 [==============================] - 0s 5ms/step - loss: 1.3096e-05 - mae: 0.0029 - val_loss: 1.1978e-05 - val_mae: 0.0026\n",
      "Epoch 185/500\n",
      "9/9 [==============================] - 0s 5ms/step - loss: 1.1496e-05 - mae: 0.0027 - val_loss: 1.6802e-05 - val_mae: 0.0034\n",
      "Epoch 186/500\n",
      "9/9 [==============================] - 0s 5ms/step - loss: 9.4697e-06 - mae: 0.0024 - val_loss: 1.2817e-05 - val_mae: 0.0028\n",
      "Epoch 187/500\n",
      "9/9 [==============================] - 0s 5ms/step - loss: 7.0490e-06 - mae: 0.0021 - val_loss: 1.4504e-05 - val_mae: 0.0031\n",
      "Epoch 188/500\n",
      "9/9 [==============================] - 0s 5ms/step - loss: 8.8022e-06 - mae: 0.0023 - val_loss: 1.3274e-05 - val_mae: 0.0030\n",
      "Epoch 189/500\n",
      "9/9 [==============================] - 0s 5ms/step - loss: 7.1563e-06 - mae: 0.0020 - val_loss: 1.2769e-05 - val_mae: 0.0028\n",
      "Epoch 190/500\n",
      "9/9 [==============================] - 0s 4ms/step - loss: 9.4489e-06 - mae: 0.0022 - val_loss: 1.3241e-05 - val_mae: 0.0030\n",
      "Epoch 191/500\n",
      "9/9 [==============================] - 0s 6ms/step - loss: 9.3922e-06 - mae: 0.0024 - val_loss: 1.3849e-05 - val_mae: 0.0026\n",
      "Epoch 192/500\n",
      "9/9 [==============================] - 0s 5ms/step - loss: 8.0644e-06 - mae: 0.0022 - val_loss: 1.3265e-05 - val_mae: 0.0027\n",
      "Epoch 193/500\n",
      "9/9 [==============================] - 0s 5ms/step - loss: 7.3759e-06 - mae: 0.0021 - val_loss: 1.2194e-05 - val_mae: 0.0029\n",
      "Epoch 194/500\n",
      "9/9 [==============================] - 0s 5ms/step - loss: 9.4703e-06 - mae: 0.0024 - val_loss: 1.6103e-05 - val_mae: 0.0032\n",
      "Epoch 195/500\n",
      "9/9 [==============================] - 0s 5ms/step - loss: 9.4881e-06 - mae: 0.0025 - val_loss: 1.7938e-05 - val_mae: 0.0031\n",
      "Epoch 196/500\n",
      "9/9 [==============================] - 0s 4ms/step - loss: 1.1699e-05 - mae: 0.0027 - val_loss: 2.1322e-05 - val_mae: 0.0035\n",
      "Epoch 197/500\n",
      "9/9 [==============================] - 0s 5ms/step - loss: 1.1057e-05 - mae: 0.0025 - val_loss: 1.2558e-05 - val_mae: 0.0026\n",
      "Epoch 198/500\n",
      "9/9 [==============================] - 0s 5ms/step - loss: 6.3522e-06 - mae: 0.0020 - val_loss: 1.2418e-05 - val_mae: 0.0025\n",
      "Epoch 199/500\n",
      "9/9 [==============================] - 0s 5ms/step - loss: 6.5237e-06 - mae: 0.0020 - val_loss: 1.5479e-05 - val_mae: 0.0029\n",
      "Epoch 200/500\n",
      "9/9 [==============================] - 0s 5ms/step - loss: 7.5101e-06 - mae: 0.0021 - val_loss: 9.5509e-06 - val_mae: 0.0023\n",
      "Epoch 201/500\n",
      "9/9 [==============================] - 0s 5ms/step - loss: 6.4094e-06 - mae: 0.0020 - val_loss: 1.2750e-05 - val_mae: 0.0027\n",
      "Epoch 202/500\n",
      "9/9 [==============================] - 0s 5ms/step - loss: 6.6047e-06 - mae: 0.0020 - val_loss: 1.0500e-05 - val_mae: 0.0025\n",
      "Epoch 203/500\n",
      "9/9 [==============================] - 0s 5ms/step - loss: 5.8318e-06 - mae: 0.0019 - val_loss: 1.0361e-05 - val_mae: 0.0023\n",
      "Epoch 204/500\n",
      "9/9 [==============================] - 0s 5ms/step - loss: 5.8452e-06 - mae: 0.0018 - val_loss: 1.0492e-05 - val_mae: 0.0026\n",
      "Epoch 205/500\n",
      "9/9 [==============================] - 0s 5ms/step - loss: 6.3394e-06 - mae: 0.0020 - val_loss: 1.0121e-05 - val_mae: 0.0024\n",
      "Epoch 206/500\n",
      "9/9 [==============================] - 0s 7ms/step - loss: 5.7434e-06 - mae: 0.0019 - val_loss: 1.1710e-05 - val_mae: 0.0024\n",
      "Epoch 207/500\n",
      "9/9 [==============================] - 0s 4ms/step - loss: 6.2930e-06 - mae: 0.0020 - val_loss: 1.4058e-05 - val_mae: 0.0028\n",
      "Epoch 208/500\n",
      "9/9 [==============================] - 0s 5ms/step - loss: 8.4506e-06 - mae: 0.0022 - val_loss: 1.1668e-05 - val_mae: 0.0024\n",
      "Epoch 209/500\n",
      "9/9 [==============================] - 0s 5ms/step - loss: 6.4226e-06 - mae: 0.0019 - val_loss: 1.3405e-05 - val_mae: 0.0029\n",
      "Epoch 210/500\n",
      "9/9 [==============================] - 0s 5ms/step - loss: 7.2044e-06 - mae: 0.0021 - val_loss: 1.0837e-05 - val_mae: 0.0027\n",
      "Epoch 211/500\n",
      "9/9 [==============================] - 0s 6ms/step - loss: 5.6678e-06 - mae: 0.0018 - val_loss: 9.7879e-06 - val_mae: 0.0023\n",
      "Epoch 212/500\n",
      "9/9 [==============================] - 0s 5ms/step - loss: 5.3087e-06 - mae: 0.0018 - val_loss: 1.0314e-05 - val_mae: 0.0023\n",
      "Epoch 213/500\n",
      "9/9 [==============================] - 0s 5ms/step - loss: 5.8321e-06 - mae: 0.0018 - val_loss: 1.4892e-05 - val_mae: 0.0028\n",
      "Epoch 214/500\n",
      "9/9 [==============================] - 0s 5ms/step - loss: 8.4397e-06 - mae: 0.0023 - val_loss: 1.0836e-05 - val_mae: 0.0024\n",
      "Epoch 215/500\n",
      "9/9 [==============================] - 0s 5ms/step - loss: 7.7728e-06 - mae: 0.0022 - val_loss: 1.1086e-05 - val_mae: 0.0026\n",
      "Epoch 216/500\n",
      "9/9 [==============================] - 0s 5ms/step - loss: 6.1975e-06 - mae: 0.0020 - val_loss: 1.1433e-05 - val_mae: 0.0027\n",
      "Epoch 217/500\n",
      "9/9 [==============================] - 0s 5ms/step - loss: 6.3650e-06 - mae: 0.0019 - val_loss: 1.0364e-05 - val_mae: 0.0023\n",
      "Epoch 218/500\n",
      "9/9 [==============================] - 0s 4ms/step - loss: 6.0403e-06 - mae: 0.0019 - val_loss: 1.4890e-05 - val_mae: 0.0029\n",
      "Epoch 219/500\n",
      "9/9 [==============================] - 0s 4ms/step - loss: 8.2465e-06 - mae: 0.0023 - val_loss: 1.2366e-05 - val_mae: 0.0026\n",
      "Epoch 220/500\n",
      "9/9 [==============================] - 0s 5ms/step - loss: 7.5131e-06 - mae: 0.0020 - val_loss: 1.0345e-05 - val_mae: 0.0024\n",
      "Epoch 221/500\n",
      "9/9 [==============================] - 0s 5ms/step - loss: 6.7211e-06 - mae: 0.0020 - val_loss: 8.7532e-06 - val_mae: 0.0023\n",
      "Epoch 222/500\n",
      "9/9 [==============================] - 0s 4ms/step - loss: 5.3324e-06 - mae: 0.0018 - val_loss: 1.0256e-05 - val_mae: 0.0023\n",
      "Epoch 223/500\n",
      "9/9 [==============================] - 0s 4ms/step - loss: 5.1582e-06 - mae: 0.0017 - val_loss: 8.8205e-06 - val_mae: 0.0022\n",
      "Epoch 224/500\n",
      "9/9 [==============================] - 0s 4ms/step - loss: 5.3596e-06 - mae: 0.0018 - val_loss: 8.9509e-06 - val_mae: 0.0023\n",
      "Epoch 225/500\n",
      "9/9 [==============================] - 0s 4ms/step - loss: 5.7935e-06 - mae: 0.0019 - val_loss: 1.0114e-05 - val_mae: 0.0025\n",
      "Epoch 226/500\n",
      "9/9 [==============================] - 0s 5ms/step - loss: 5.6169e-06 - mae: 0.0018 - val_loss: 9.8528e-06 - val_mae: 0.0023\n",
      "Epoch 227/500\n",
      "9/9 [==============================] - 0s 5ms/step - loss: 4.9971e-06 - mae: 0.0017 - val_loss: 9.4885e-06 - val_mae: 0.0025\n",
      "Epoch 228/500\n",
      "9/9 [==============================] - 0s 7ms/step - loss: 5.3408e-06 - mae: 0.0018 - val_loss: 1.2276e-05 - val_mae: 0.0025\n",
      "Epoch 229/500\n",
      "9/9 [==============================] - 0s 5ms/step - loss: 9.7368e-06 - mae: 0.0024 - val_loss: 3.1467e-05 - val_mae: 0.0043\n",
      "Epoch 230/500\n",
      "9/9 [==============================] - 0s 5ms/step - loss: 1.2802e-05 - mae: 0.0028 - val_loss: 9.2689e-06 - val_mae: 0.0022\n",
      "Epoch 231/500\n",
      "9/9 [==============================] - 0s 5ms/step - loss: 4.9396e-06 - mae: 0.0017 - val_loss: 8.8039e-06 - val_mae: 0.0021\n",
      "Epoch 232/500\n",
      "9/9 [==============================] - 0s 5ms/step - loss: 5.1947e-06 - mae: 0.0018 - val_loss: 8.6159e-06 - val_mae: 0.0022\n",
      "Epoch 233/500\n",
      "9/9 [==============================] - 0s 6ms/step - loss: 4.7532e-06 - mae: 0.0017 - val_loss: 8.7299e-06 - val_mae: 0.0021\n",
      "Epoch 234/500\n",
      "9/9 [==============================] - 0s 4ms/step - loss: 5.3634e-06 - mae: 0.0018 - val_loss: 1.0222e-05 - val_mae: 0.0023\n",
      "Epoch 235/500\n",
      "9/9 [==============================] - 0s 5ms/step - loss: 6.1184e-06 - mae: 0.0019 - val_loss: 8.7572e-06 - val_mae: 0.0023\n",
      "Epoch 236/500\n",
      "9/9 [==============================] - 0s 5ms/step - loss: 5.6678e-06 - mae: 0.0018 - val_loss: 8.9212e-06 - val_mae: 0.0022\n",
      "Epoch 237/500\n",
      "9/9 [==============================] - 0s 4ms/step - loss: 5.3360e-06 - mae: 0.0018 - val_loss: 1.0959e-05 - val_mae: 0.0024\n",
      "Epoch 238/500\n",
      "9/9 [==============================] - 0s 5ms/step - loss: 6.9136e-06 - mae: 0.0020 - val_loss: 9.2634e-06 - val_mae: 0.0023\n",
      "Epoch 239/500\n",
      "9/9 [==============================] - 0s 4ms/step - loss: 6.5822e-06 - mae: 0.0021 - val_loss: 1.2286e-05 - val_mae: 0.0026\n",
      "Epoch 240/500\n",
      "9/9 [==============================] - 0s 4ms/step - loss: 7.2486e-06 - mae: 0.0021 - val_loss: 1.1930e-05 - val_mae: 0.0026\n",
      "Epoch 241/500\n",
      "9/9 [==============================] - 0s 5ms/step - loss: 9.7654e-06 - mae: 0.0024 - val_loss: 1.5073e-05 - val_mae: 0.0029\n",
      "Epoch 242/500\n",
      "9/9 [==============================] - 0s 4ms/step - loss: 6.9249e-06 - mae: 0.0020 - val_loss: 1.3651e-05 - val_mae: 0.0028\n",
      "Epoch 243/500\n",
      "9/9 [==============================] - 0s 4ms/step - loss: 5.4447e-06 - mae: 0.0018 - val_loss: 1.1617e-05 - val_mae: 0.0025\n",
      "Epoch 244/500\n",
      "9/9 [==============================] - 0s 4ms/step - loss: 6.6794e-06 - mae: 0.0020 - val_loss: 8.7300e-06 - val_mae: 0.0023\n",
      "Epoch 245/500\n",
      "9/9 [==============================] - 0s 4ms/step - loss: 5.1383e-06 - mae: 0.0017 - val_loss: 9.7239e-06 - val_mae: 0.0022\n",
      "Epoch 246/500\n",
      "9/9 [==============================] - 0s 5ms/step - loss: 4.6799e-06 - mae: 0.0016 - val_loss: 8.1077e-06 - val_mae: 0.0020\n",
      "Epoch 247/500\n",
      "9/9 [==============================] - 0s 5ms/step - loss: 4.9148e-06 - mae: 0.0017 - val_loss: 1.0412e-05 - val_mae: 0.0025\n",
      "Epoch 248/500\n",
      "9/9 [==============================] - 0s 5ms/step - loss: 5.9732e-06 - mae: 0.0019 - val_loss: 8.1430e-06 - val_mae: 0.0020\n",
      "Epoch 249/500\n",
      "9/9 [==============================] - 0s 4ms/step - loss: 5.2519e-06 - mae: 0.0018 - val_loss: 8.7796e-06 - val_mae: 0.0023\n",
      "Epoch 250/500\n",
      "9/9 [==============================] - 0s 5ms/step - loss: 5.0777e-06 - mae: 0.0017 - val_loss: 1.1846e-05 - val_mae: 0.0024\n",
      "Epoch 251/500\n",
      "9/9 [==============================] - 0s 4ms/step - loss: 5.5226e-06 - mae: 0.0018 - val_loss: 8.7218e-06 - val_mae: 0.0022\n",
      "Epoch 252/500\n",
      "9/9 [==============================] - 0s 7ms/step - loss: 4.7806e-06 - mae: 0.0017 - val_loss: 9.9109e-06 - val_mae: 0.0022\n",
      "Epoch 253/500\n",
      "9/9 [==============================] - 0s 5ms/step - loss: 5.3559e-06 - mae: 0.0017 - val_loss: 8.0376e-06 - val_mae: 0.0021\n",
      "Epoch 254/500\n",
      "9/9 [==============================] - 0s 5ms/step - loss: 4.6588e-06 - mae: 0.0017 - val_loss: 8.0706e-06 - val_mae: 0.0020\n",
      "Epoch 255/500\n",
      "9/9 [==============================] - 0s 4ms/step - loss: 4.4229e-06 - mae: 0.0016 - val_loss: 1.1314e-05 - val_mae: 0.0027\n",
      "Epoch 256/500\n",
      "9/9 [==============================] - 0s 5ms/step - loss: 7.6716e-06 - mae: 0.0022 - val_loss: 1.4111e-05 - val_mae: 0.0032\n",
      "Epoch 257/500\n",
      "9/9 [==============================] - 0s 6ms/step - loss: 9.8829e-06 - mae: 0.0024 - val_loss: 1.3766e-05 - val_mae: 0.0028\n",
      "Epoch 258/500\n",
      "9/9 [==============================] - 0s 4ms/step - loss: 5.8563e-06 - mae: 0.0019 - val_loss: 8.6130e-06 - val_mae: 0.0022\n",
      "Epoch 259/500\n",
      "9/9 [==============================] - 0s 5ms/step - loss: 4.3520e-06 - mae: 0.0016 - val_loss: 9.2306e-06 - val_mae: 0.0022\n",
      "Epoch 260/500\n",
      "9/9 [==============================] - 0s 4ms/step - loss: 5.4632e-06 - mae: 0.0018 - val_loss: 1.1513e-05 - val_mae: 0.0024\n",
      "Epoch 261/500\n",
      "9/9 [==============================] - 0s 4ms/step - loss: 5.7715e-06 - mae: 0.0019 - val_loss: 8.8310e-06 - val_mae: 0.0023\n",
      "Epoch 262/500\n",
      "9/9 [==============================] - 0s 5ms/step - loss: 5.3027e-06 - mae: 0.0018 - val_loss: 1.0677e-05 - val_mae: 0.0024\n",
      "Epoch 263/500\n",
      "9/9 [==============================] - 0s 5ms/step - loss: 6.8243e-06 - mae: 0.0020 - val_loss: 1.5008e-05 - val_mae: 0.0032\n",
      "Epoch 264/500\n",
      "9/9 [==============================] - 0s 5ms/step - loss: 1.2845e-05 - mae: 0.0028 - val_loss: 7.9030e-06 - val_mae: 0.0022\n",
      "Epoch 265/500\n",
      "9/9 [==============================] - 0s 5ms/step - loss: 7.0953e-06 - mae: 0.0020 - val_loss: 1.2442e-05 - val_mae: 0.0025\n",
      "Epoch 266/500\n",
      "9/9 [==============================] - 0s 5ms/step - loss: 4.9130e-06 - mae: 0.0017 - val_loss: 1.4052e-05 - val_mae: 0.0028\n",
      "Epoch 267/500\n",
      "9/9 [==============================] - 0s 4ms/step - loss: 1.0466e-05 - mae: 0.0026 - val_loss: 8.9086e-06 - val_mae: 0.0021\n",
      "Epoch 268/500\n",
      "9/9 [==============================] - 0s 5ms/step - loss: 7.6234e-06 - mae: 0.0022 - val_loss: 3.5204e-05 - val_mae: 0.0050\n",
      "Epoch 269/500\n",
      "9/9 [==============================] - 0s 5ms/step - loss: 1.8100e-05 - mae: 0.0034 - val_loss: 1.4503e-05 - val_mae: 0.0027\n",
      "Epoch 270/500\n",
      "9/9 [==============================] - 0s 4ms/step - loss: 8.4226e-06 - mae: 0.0023 - val_loss: 1.9746e-05 - val_mae: 0.0036\n",
      "Epoch 271/500\n",
      "9/9 [==============================] - 0s 4ms/step - loss: 1.2404e-05 - mae: 0.0027 - val_loss: 1.0069e-05 - val_mae: 0.0023\n",
      "Epoch 272/500\n",
      "9/9 [==============================] - 0s 5ms/step - loss: 8.1356e-06 - mae: 0.0022 - val_loss: 7.8068e-06 - val_mae: 0.0020\n",
      "Epoch 273/500\n",
      "9/9 [==============================] - 0s 4ms/step - loss: 5.3441e-06 - mae: 0.0018 - val_loss: 1.2094e-05 - val_mae: 0.0026\n",
      "Epoch 274/500\n",
      "9/9 [==============================] - 0s 4ms/step - loss: 6.1453e-06 - mae: 0.0020 - val_loss: 8.6522e-06 - val_mae: 0.0021\n",
      "Epoch 275/500\n",
      "9/9 [==============================] - 0s 5ms/step - loss: 4.7783e-06 - mae: 0.0017 - val_loss: 8.8433e-06 - val_mae: 0.0024\n",
      "Epoch 276/500\n",
      "9/9 [==============================] - 0s 5ms/step - loss: 4.9802e-06 - mae: 0.0017 - val_loss: 1.0075e-05 - val_mae: 0.0025\n",
      "Epoch 277/500\n",
      "9/9 [==============================] - 0s 8ms/step - loss: 7.1123e-06 - mae: 0.0021 - val_loss: 1.5876e-05 - val_mae: 0.0031\n",
      "Epoch 278/500\n",
      "9/9 [==============================] - 0s 5ms/step - loss: 8.2405e-06 - mae: 0.0023 - val_loss: 9.0589e-06 - val_mae: 0.0022\n",
      "Epoch 279/500\n",
      "9/9 [==============================] - 0s 5ms/step - loss: 6.0161e-06 - mae: 0.0019 - val_loss: 7.5037e-06 - val_mae: 0.0021\n",
      "Epoch 280/500\n",
      "9/9 [==============================] - 0s 5ms/step - loss: 6.5300e-06 - mae: 0.0019 - val_loss: 1.2451e-05 - val_mae: 0.0026\n",
      "Epoch 281/500\n",
      "9/9 [==============================] - 0s 5ms/step - loss: 7.3370e-06 - mae: 0.0022 - val_loss: 1.4599e-05 - val_mae: 0.0030\n",
      "Epoch 282/500\n",
      "9/9 [==============================] - 0s 4ms/step - loss: 8.0171e-06 - mae: 0.0022 - val_loss: 7.9405e-06 - val_mae: 0.0021\n",
      "Epoch 283/500\n",
      "9/9 [==============================] - 0s 4ms/step - loss: 4.8008e-06 - mae: 0.0017 - val_loss: 9.6661e-06 - val_mae: 0.0022\n",
      "Epoch 284/500\n",
      "9/9 [==============================] - 0s 5ms/step - loss: 5.6481e-06 - mae: 0.0018 - val_loss: 9.4704e-06 - val_mae: 0.0025\n",
      "Epoch 285/500\n",
      "9/9 [==============================] - 0s 5ms/step - loss: 6.3165e-06 - mae: 0.0020 - val_loss: 1.3858e-05 - val_mae: 0.0029\n",
      "Epoch 286/500\n",
      "9/9 [==============================] - 0s 4ms/step - loss: 6.9596e-06 - mae: 0.0020 - val_loss: 2.7186e-05 - val_mae: 0.0045\n",
      "Epoch 287/500\n",
      "9/9 [==============================] - 0s 5ms/step - loss: 1.1573e-05 - mae: 0.0027 - val_loss: 1.5611e-05 - val_mae: 0.0030\n",
      "Epoch 288/500\n",
      "9/9 [==============================] - 0s 4ms/step - loss: 1.0577e-05 - mae: 0.0026 - val_loss: 3.3892e-05 - val_mae: 0.0050\n",
      "Epoch 289/500\n",
      "9/9 [==============================] - 0s 5ms/step - loss: 2.5174e-05 - mae: 0.0041 - val_loss: 1.0098e-05 - val_mae: 0.0023\n",
      "Epoch 290/500\n",
      "9/9 [==============================] - 0s 4ms/step - loss: 2.1756e-05 - mae: 0.0035 - val_loss: 1.4704e-05 - val_mae: 0.0031\n",
      "Epoch 291/500\n",
      "9/9 [==============================] - 0s 4ms/step - loss: 1.3006e-05 - mae: 0.0028 - val_loss: 8.6763e-06 - val_mae: 0.0022\n",
      "Epoch 292/500\n",
      "9/9 [==============================] - 0s 4ms/step - loss: 8.1583e-06 - mae: 0.0022 - val_loss: 2.7793e-05 - val_mae: 0.0043\n",
      "Epoch 293/500\n",
      "9/9 [==============================] - 0s 5ms/step - loss: 1.5306e-05 - mae: 0.0030 - val_loss: 1.0449e-05 - val_mae: 0.0024\n",
      "Epoch 294/500\n",
      "9/9 [==============================] - 0s 5ms/step - loss: 5.9316e-06 - mae: 0.0019 - val_loss: 1.1444e-05 - val_mae: 0.0026\n",
      "Epoch 295/500\n",
      "9/9 [==============================] - 0s 4ms/step - loss: 8.3400e-06 - mae: 0.0022 - val_loss: 7.0708e-06 - val_mae: 0.0019\n",
      "Epoch 296/500\n",
      "9/9 [==============================] - 0s 5ms/step - loss: 4.8651e-06 - mae: 0.0017 - val_loss: 7.3236e-06 - val_mae: 0.0021\n",
      "Epoch 297/500\n",
      "9/9 [==============================] - 0s 5ms/step - loss: 5.4899e-06 - mae: 0.0018 - val_loss: 8.9678e-06 - val_mae: 0.0022\n",
      "Epoch 298/500\n",
      "9/9 [==============================] - 0s 5ms/step - loss: 6.0667e-06 - mae: 0.0019 - val_loss: 7.5877e-06 - val_mae: 0.0021\n",
      "Epoch 299/500\n",
      "9/9 [==============================] - 0s 5ms/step - loss: 6.3574e-06 - mae: 0.0019 - val_loss: 9.7091e-06 - val_mae: 0.0024\n",
      "Epoch 300/500\n",
      "9/9 [==============================] - 0s 5ms/step - loss: 4.9968e-06 - mae: 0.0017 - val_loss: 9.3768e-06 - val_mae: 0.0023\n",
      "Epoch 301/500\n",
      "9/9 [==============================] - 0s 6ms/step - loss: 7.3175e-06 - mae: 0.0021 - val_loss: 1.7634e-05 - val_mae: 0.0035\n",
      "Epoch 302/500\n",
      "9/9 [==============================] - 0s 5ms/step - loss: 1.3975e-05 - mae: 0.0029 - val_loss: 2.1269e-05 - val_mae: 0.0037\n",
      "Epoch 303/500\n",
      "9/9 [==============================] - 0s 6ms/step - loss: 1.1287e-05 - mae: 0.0026 - val_loss: 1.1285e-05 - val_mae: 0.0026\n",
      "Epoch 304/500\n",
      "9/9 [==============================] - 0s 4ms/step - loss: 7.7071e-06 - mae: 0.0022 - val_loss: 1.4360e-05 - val_mae: 0.0029\n",
      "Epoch 305/500\n",
      "9/9 [==============================] - 0s 6ms/step - loss: 7.9343e-06 - mae: 0.0022 - val_loss: 1.2005e-05 - val_mae: 0.0029\n",
      "Epoch 306/500\n",
      "9/9 [==============================] - 0s 5ms/step - loss: 8.0925e-06 - mae: 0.0021 - val_loss: 2.5431e-05 - val_mae: 0.0041\n",
      "Epoch 307/500\n",
      "9/9 [==============================] - 0s 4ms/step - loss: 1.2880e-05 - mae: 0.0029 - val_loss: 1.3352e-05 - val_mae: 0.0030\n",
      "Epoch 308/500\n",
      "9/9 [==============================] - 0s 5ms/step - loss: 1.0680e-05 - mae: 0.0026 - val_loss: 1.5922e-05 - val_mae: 0.0031\n",
      "Epoch 309/500\n",
      "9/9 [==============================] - 0s 4ms/step - loss: 9.3829e-06 - mae: 0.0024 - val_loss: 9.1142e-06 - val_mae: 0.0023\n",
      "Epoch 310/500\n",
      "9/9 [==============================] - 0s 4ms/step - loss: 7.7321e-06 - mae: 0.0022 - val_loss: 9.9880e-06 - val_mae: 0.0024\n",
      "Epoch 311/500\n",
      "9/9 [==============================] - 0s 5ms/step - loss: 7.7758e-06 - mae: 0.0022 - val_loss: 1.3257e-05 - val_mae: 0.0027\n",
      "Epoch 312/500\n",
      "9/9 [==============================] - 0s 4ms/step - loss: 7.4016e-06 - mae: 0.0022 - val_loss: 1.4519e-05 - val_mae: 0.0031\n",
      "Epoch 313/500\n",
      "9/9 [==============================] - 0s 4ms/step - loss: 6.0228e-06 - mae: 0.0019 - val_loss: 2.3228e-05 - val_mae: 0.0036\n",
      "Epoch 314/500\n",
      "9/9 [==============================] - 0s 5ms/step - loss: 9.2156e-06 - mae: 0.0024 - val_loss: 1.9502e-05 - val_mae: 0.0035\n",
      "Epoch 315/500\n",
      "9/9 [==============================] - 0s 5ms/step - loss: 9.3671e-06 - mae: 0.0024 - val_loss: 7.1273e-06 - val_mae: 0.0020\n",
      "Epoch 316/500\n",
      "9/9 [==============================] - 0s 4ms/step - loss: 6.6332e-06 - mae: 0.0020 - val_loss: 2.1081e-05 - val_mae: 0.0035\n",
      "Epoch 317/500\n",
      "9/9 [==============================] - 0s 5ms/step - loss: 8.7484e-06 - mae: 0.0024 - val_loss: 1.5282e-05 - val_mae: 0.0031\n",
      "Epoch 318/500\n",
      "9/9 [==============================] - 0s 4ms/step - loss: 9.3196e-06 - mae: 0.0023 - val_loss: 1.6283e-05 - val_mae: 0.0031\n",
      "Epoch 319/500\n",
      "9/9 [==============================] - 0s 4ms/step - loss: 5.3814e-06 - mae: 0.0018 - val_loss: 7.9259e-06 - val_mae: 0.0022\n",
      "Epoch 320/500\n",
      "9/9 [==============================] - 0s 5ms/step - loss: 5.4404e-06 - mae: 0.0018 - val_loss: 8.3361e-06 - val_mae: 0.0021\n",
      "Epoch 321/500\n",
      "9/9 [==============================] - 0s 5ms/step - loss: 3.9218e-06 - mae: 0.0015 - val_loss: 7.6821e-06 - val_mae: 0.0020\n",
      "Epoch 322/500\n",
      "9/9 [==============================] - 0s 5ms/step - loss: 4.1405e-06 - mae: 0.0015 - val_loss: 7.9539e-06 - val_mae: 0.0021\n",
      "Epoch 323/500\n",
      "9/9 [==============================] - 0s 5ms/step - loss: 6.8461e-06 - mae: 0.0020 - val_loss: 8.9200e-06 - val_mae: 0.0023\n",
      "Epoch 324/500\n",
      "9/9 [==============================] - 0s 5ms/step - loss: 5.9559e-06 - mae: 0.0019 - val_loss: 1.8270e-05 - val_mae: 0.0031\n",
      "Epoch 325/500\n",
      "9/9 [==============================] - 0s 7ms/step - loss: 8.4057e-06 - mae: 0.0023 - val_loss: 7.5778e-06 - val_mae: 0.0021\n",
      "Epoch 326/500\n",
      "9/9 [==============================] - 0s 6ms/step - loss: 5.6978e-06 - mae: 0.0018 - val_loss: 7.4069e-06 - val_mae: 0.0020\n",
      "Epoch 327/500\n",
      "9/9 [==============================] - 0s 5ms/step - loss: 7.7398e-06 - mae: 0.0021 - val_loss: 8.6153e-06 - val_mae: 0.0022\n",
      "Epoch 328/500\n",
      "9/9 [==============================] - 0s 4ms/step - loss: 5.6917e-06 - mae: 0.0018 - val_loss: 1.1729e-05 - val_mae: 0.0026\n",
      "Epoch 329/500\n",
      "9/9 [==============================] - 0s 7ms/step - loss: 5.2986e-06 - mae: 0.0018 - val_loss: 6.5607e-06 - val_mae: 0.0019\n",
      "Epoch 330/500\n",
      "9/9 [==============================] - 0s 4ms/step - loss: 4.3161e-06 - mae: 0.0016 - val_loss: 1.2758e-05 - val_mae: 0.0029\n",
      "Epoch 331/500\n",
      "9/9 [==============================] - 0s 5ms/step - loss: 5.9711e-06 - mae: 0.0019 - val_loss: 1.0954e-05 - val_mae: 0.0024\n",
      "Epoch 332/500\n",
      "9/9 [==============================] - 0s 5ms/step - loss: 5.3283e-06 - mae: 0.0018 - val_loss: 8.4067e-06 - val_mae: 0.0021\n",
      "Epoch 333/500\n",
      "9/9 [==============================] - 0s 4ms/step - loss: 4.0072e-06 - mae: 0.0015 - val_loss: 8.1103e-06 - val_mae: 0.0020\n",
      "Epoch 334/500\n",
      "9/9 [==============================] - 0s 4ms/step - loss: 5.0305e-06 - mae: 0.0017 - val_loss: 9.2702e-06 - val_mae: 0.0022\n",
      "Epoch 335/500\n",
      "9/9 [==============================] - 0s 5ms/step - loss: 5.5366e-06 - mae: 0.0018 - val_loss: 1.1734e-05 - val_mae: 0.0027\n",
      "Epoch 336/500\n",
      "9/9 [==============================] - 0s 4ms/step - loss: 8.0338e-06 - mae: 0.0022 - val_loss: 1.0274e-05 - val_mae: 0.0024\n",
      "Epoch 337/500\n",
      "9/9 [==============================] - 0s 5ms/step - loss: 5.3782e-06 - mae: 0.0018 - val_loss: 9.6233e-06 - val_mae: 0.0023\n",
      "Epoch 338/500\n",
      "9/9 [==============================] - 0s 5ms/step - loss: 5.5471e-06 - mae: 0.0018 - val_loss: 2.4491e-05 - val_mae: 0.0041\n",
      "Epoch 339/500\n",
      "9/9 [==============================] - 0s 4ms/step - loss: 2.0174e-05 - mae: 0.0034 - val_loss: 1.1121e-05 - val_mae: 0.0025\n",
      "Epoch 340/500\n",
      "9/9 [==============================] - 0s 4ms/step - loss: 1.0856e-05 - mae: 0.0026 - val_loss: 1.5586e-05 - val_mae: 0.0029\n",
      "Epoch 341/500\n",
      "9/9 [==============================] - 0s 5ms/step - loss: 7.9283e-06 - mae: 0.0021 - val_loss: 1.8123e-05 - val_mae: 0.0031\n",
      "Epoch 342/500\n",
      "9/9 [==============================] - 0s 5ms/step - loss: 1.9330e-05 - mae: 0.0035 - val_loss: 9.7314e-06 - val_mae: 0.0023\n",
      "Epoch 343/500\n",
      "9/9 [==============================] - 0s 4ms/step - loss: 1.2512e-05 - mae: 0.0027 - val_loss: 8.0692e-06 - val_mae: 0.0021\n",
      "Epoch 344/500\n",
      "9/9 [==============================] - 0s 4ms/step - loss: 5.3982e-06 - mae: 0.0018 - val_loss: 1.2715e-05 - val_mae: 0.0027\n",
      "Epoch 345/500\n",
      "9/9 [==============================] - 0s 4ms/step - loss: 5.6963e-06 - mae: 0.0019 - val_loss: 7.1824e-06 - val_mae: 0.0020\n",
      "Epoch 346/500\n",
      "9/9 [==============================] - 0s 8ms/step - loss: 5.1781e-06 - mae: 0.0017 - val_loss: 6.8685e-06 - val_mae: 0.0019\n",
      "Epoch 347/500\n",
      "9/9 [==============================] - 0s 5ms/step - loss: 4.0130e-06 - mae: 0.0016 - val_loss: 9.2754e-06 - val_mae: 0.0022\n",
      "Epoch 348/500\n",
      "9/9 [==============================] - 0s 5ms/step - loss: 4.1109e-06 - mae: 0.0016 - val_loss: 7.2472e-06 - val_mae: 0.0019\n",
      "Epoch 349/500\n",
      "9/9 [==============================] - 0s 5ms/step - loss: 4.3975e-06 - mae: 0.0016 - val_loss: 2.6359e-05 - val_mae: 0.0038\n",
      "Epoch 350/500\n",
      "9/9 [==============================] - 0s 7ms/step - loss: 9.8191e-06 - mae: 0.0025 - val_loss: 6.3250e-06 - val_mae: 0.0019\n",
      "Epoch 351/500\n",
      "9/9 [==============================] - 0s 5ms/step - loss: 6.8524e-06 - mae: 0.0020 - val_loss: 9.9363e-06 - val_mae: 0.0025\n",
      "Epoch 352/500\n",
      "9/9 [==============================] - 0s 4ms/step - loss: 5.2617e-06 - mae: 0.0018 - val_loss: 1.2996e-05 - val_mae: 0.0028\n",
      "Epoch 353/500\n",
      "9/9 [==============================] - 0s 4ms/step - loss: 6.1488e-06 - mae: 0.0020 - val_loss: 2.3935e-05 - val_mae: 0.0038\n",
      "Epoch 354/500\n",
      "9/9 [==============================] - 0s 5ms/step - loss: 1.4082e-05 - mae: 0.0029 - val_loss: 2.0193e-05 - val_mae: 0.0037\n",
      "Epoch 355/500\n",
      "9/9 [==============================] - 0s 4ms/step - loss: 1.7229e-05 - mae: 0.0033 - val_loss: 7.5220e-06 - val_mae: 0.0020\n",
      "Epoch 356/500\n",
      "9/9 [==============================] - 0s 5ms/step - loss: 6.3591e-06 - mae: 0.0020 - val_loss: 1.0458e-05 - val_mae: 0.0026\n",
      "Epoch 357/500\n",
      "9/9 [==============================] - 0s 4ms/step - loss: 1.1903e-05 - mae: 0.0029 - val_loss: 9.8107e-06 - val_mae: 0.0024\n",
      "Epoch 358/500\n",
      "9/9 [==============================] - 0s 4ms/step - loss: 1.3296e-05 - mae: 0.0029 - val_loss: 1.4778e-05 - val_mae: 0.0029\n",
      "Epoch 359/500\n",
      "9/9 [==============================] - 0s 4ms/step - loss: 1.6936e-05 - mae: 0.0032 - val_loss: 3.8529e-05 - val_mae: 0.0049\n",
      "Epoch 360/500\n",
      "9/9 [==============================] - 0s 5ms/step - loss: 2.5610e-05 - mae: 0.0040 - val_loss: 3.3513e-05 - val_mae: 0.0048\n",
      "Epoch 361/500\n",
      "9/9 [==============================] - 0s 5ms/step - loss: 1.8997e-05 - mae: 0.0034 - val_loss: 1.9111e-05 - val_mae: 0.0036\n",
      "Epoch 362/500\n",
      "9/9 [==============================] - 0s 5ms/step - loss: 1.4986e-05 - mae: 0.0031 - val_loss: 1.5789e-05 - val_mae: 0.0031\n",
      "Epoch 363/500\n",
      "9/9 [==============================] - 0s 5ms/step - loss: 1.4321e-05 - mae: 0.0030 - val_loss: 2.0612e-05 - val_mae: 0.0034\n",
      "Epoch 364/500\n",
      "9/9 [==============================] - 0s 4ms/step - loss: 8.3762e-06 - mae: 0.0022 - val_loss: 1.3242e-05 - val_mae: 0.0027\n",
      "Epoch 365/500\n",
      "9/9 [==============================] - 0s 4ms/step - loss: 6.3997e-06 - mae: 0.0020 - val_loss: 1.5390e-05 - val_mae: 0.0031\n",
      "Epoch 366/500\n",
      "9/9 [==============================] - 0s 5ms/step - loss: 9.0934e-06 - mae: 0.0024 - val_loss: 1.2473e-05 - val_mae: 0.0028\n",
      "Epoch 367/500\n",
      "9/9 [==============================] - 0s 4ms/step - loss: 5.8433e-06 - mae: 0.0019 - val_loss: 6.8049e-06 - val_mae: 0.0019\n",
      "Epoch 368/500\n",
      "9/9 [==============================] - 0s 5ms/step - loss: 4.4896e-06 - mae: 0.0016 - val_loss: 6.7736e-06 - val_mae: 0.0019\n",
      "Epoch 369/500\n",
      "9/9 [==============================] - 0s 8ms/step - loss: 5.1211e-06 - mae: 0.0017 - val_loss: 1.1603e-05 - val_mae: 0.0028\n",
      "Epoch 370/500\n",
      "9/9 [==============================] - 0s 5ms/step - loss: 6.9644e-06 - mae: 0.0021 - val_loss: 8.8759e-06 - val_mae: 0.0022\n",
      "Epoch 371/500\n",
      "9/9 [==============================] - 0s 5ms/step - loss: 7.6610e-06 - mae: 0.0021 - val_loss: 6.7272e-06 - val_mae: 0.0020\n",
      "Epoch 372/500\n",
      "9/9 [==============================] - 0s 5ms/step - loss: 6.9969e-06 - mae: 0.0021 - val_loss: 9.2069e-06 - val_mae: 0.0024\n",
      "Epoch 373/500\n",
      "9/9 [==============================] - 0s 5ms/step - loss: 7.5746e-06 - mae: 0.0021 - val_loss: 4.8156e-05 - val_mae: 0.0057\n",
      "Epoch 374/500\n",
      "9/9 [==============================] - 0s 5ms/step - loss: 2.3625e-05 - mae: 0.0039 - val_loss: 7.8179e-06 - val_mae: 0.0021\n",
      "Epoch 375/500\n",
      "9/9 [==============================] - 0s 4ms/step - loss: 8.0038e-06 - mae: 0.0022 - val_loss: 1.3133e-05 - val_mae: 0.0028\n",
      "Epoch 376/500\n",
      "9/9 [==============================] - 0s 5ms/step - loss: 8.6992e-06 - mae: 0.0023 - val_loss: 2.3368e-05 - val_mae: 0.0037\n",
      "Epoch 377/500\n",
      "9/9 [==============================] - 0s 5ms/step - loss: 1.2659e-05 - mae: 0.0027 - val_loss: 2.7266e-05 - val_mae: 0.0042\n",
      "Epoch 378/500\n",
      "9/9 [==============================] - 0s 4ms/step - loss: 1.9657e-05 - mae: 0.0035 - val_loss: 8.7361e-05 - val_mae: 0.0074\n",
      "Epoch 379/500\n",
      "9/9 [==============================] - 0s 5ms/step - loss: 3.0192e-05 - mae: 0.0044 - val_loss: 3.2897e-05 - val_mae: 0.0047\n",
      "Epoch 380/500\n",
      "9/9 [==============================] - 0s 4ms/step - loss: 1.3615e-05 - mae: 0.0030 - val_loss: 2.0501e-05 - val_mae: 0.0035\n",
      "Epoch 381/500\n",
      "9/9 [==============================] - 0s 4ms/step - loss: 8.6737e-06 - mae: 0.0023 - val_loss: 6.7937e-06 - val_mae: 0.0019\n",
      "Epoch 382/500\n",
      "9/9 [==============================] - 0s 5ms/step - loss: 4.3115e-06 - mae: 0.0016 - val_loss: 6.2945e-05 - val_mae: 0.0068\n",
      "Epoch 383/500\n",
      "9/9 [==============================] - 0s 4ms/step - loss: 2.8400e-05 - mae: 0.0040 - val_loss: 2.4030e-05 - val_mae: 0.0037\n",
      "Epoch 384/500\n",
      "9/9 [==============================] - 0s 4ms/step - loss: 1.8870e-05 - mae: 0.0034 - val_loss: 2.3891e-05 - val_mae: 0.0038\n",
      "Epoch 385/500\n",
      "9/9 [==============================] - 0s 5ms/step - loss: 1.2849e-05 - mae: 0.0026 - val_loss: 2.3878e-05 - val_mae: 0.0033\n",
      "Epoch 386/500\n",
      "9/9 [==============================] - 0s 4ms/step - loss: 1.3060e-05 - mae: 0.0027 - val_loss: 1.1238e-05 - val_mae: 0.0025\n",
      "Epoch 387/500\n",
      "9/9 [==============================] - 0s 4ms/step - loss: 5.1331e-06 - mae: 0.0018 - val_loss: 7.7188e-06 - val_mae: 0.0021\n",
      "Epoch 388/500\n",
      "9/9 [==============================] - 0s 4ms/step - loss: 4.2581e-06 - mae: 0.0015 - val_loss: 6.1912e-06 - val_mae: 0.0018\n",
      "Epoch 389/500\n",
      "9/9 [==============================] - 0s 5ms/step - loss: 4.2680e-06 - mae: 0.0016 - val_loss: 2.2365e-05 - val_mae: 0.0037\n",
      "Epoch 390/500\n",
      "9/9 [==============================] - 0s 4ms/step - loss: 1.0846e-05 - mae: 0.0026 - val_loss: 6.6919e-05 - val_mae: 0.0070\n",
      "Epoch 391/500\n",
      "9/9 [==============================] - 0s 4ms/step - loss: 3.4849e-05 - mae: 0.0048 - val_loss: 7.9757e-05 - val_mae: 0.0075\n",
      "Epoch 392/500\n",
      "9/9 [==============================] - 0s 9ms/step - loss: 4.1882e-05 - mae: 0.0051 - val_loss: 1.6331e-05 - val_mae: 0.0031\n",
      "Epoch 393/500\n",
      "9/9 [==============================] - 0s 5ms/step - loss: 1.1879e-05 - mae: 0.0027 - val_loss: 9.6944e-06 - val_mae: 0.0024\n",
      "Epoch 394/500\n",
      "9/9 [==============================] - 0s 4ms/step - loss: 5.6580e-06 - mae: 0.0018 - val_loss: 1.5076e-05 - val_mae: 0.0033\n",
      "Epoch 395/500\n",
      "9/9 [==============================] - 0s 5ms/step - loss: 9.1346e-06 - mae: 0.0024 - val_loss: 1.3473e-05 - val_mae: 0.0029\n",
      "Epoch 396/500\n",
      "9/9 [==============================] - 0s 5ms/step - loss: 8.2320e-06 - mae: 0.0022 - val_loss: 7.0915e-06 - val_mae: 0.0020\n",
      "Epoch 397/500\n",
      "9/9 [==============================] - 0s 5ms/step - loss: 3.7069e-06 - mae: 0.0015 - val_loss: 2.1113e-05 - val_mae: 0.0039\n",
      "Epoch 398/500\n",
      "9/9 [==============================] - 0s 5ms/step - loss: 1.7973e-05 - mae: 0.0033 - val_loss: 2.8636e-05 - val_mae: 0.0045\n",
      "Epoch 399/500\n",
      "9/9 [==============================] - 0s 4ms/step - loss: 2.6149e-05 - mae: 0.0041 - val_loss: 5.5848e-05 - val_mae: 0.0063\n",
      "Epoch 400/500\n",
      "9/9 [==============================] - 0s 5ms/step - loss: 2.3913e-05 - mae: 0.0037 - val_loss: 1.2866e-05 - val_mae: 0.0030\n",
      "Epoch 401/500\n",
      "9/9 [==============================] - 0s 4ms/step - loss: 7.7443e-06 - mae: 0.0022 - val_loss: 8.3215e-06 - val_mae: 0.0024\n",
      "Epoch 402/500\n",
      "9/9 [==============================] - 0s 4ms/step - loss: 4.8903e-06 - mae: 0.0017 - val_loss: 1.2205e-05 - val_mae: 0.0027\n",
      "Epoch 403/500\n",
      "9/9 [==============================] - 0s 5ms/step - loss: 9.0391e-06 - mae: 0.0023 - val_loss: 7.4351e-06 - val_mae: 0.0021\n",
      "Epoch 404/500\n",
      "9/9 [==============================] - 0s 4ms/step - loss: 5.8241e-06 - mae: 0.0019 - val_loss: 1.1257e-05 - val_mae: 0.0026\n",
      "Epoch 405/500\n",
      "9/9 [==============================] - 0s 4ms/step - loss: 7.0098e-06 - mae: 0.0021 - val_loss: 7.8131e-06 - val_mae: 0.0021\n",
      "Epoch 406/500\n",
      "9/9 [==============================] - 0s 5ms/step - loss: 8.0534e-06 - mae: 0.0023 - val_loss: 2.3607e-05 - val_mae: 0.0040\n",
      "Epoch 407/500\n",
      "9/9 [==============================] - 0s 4ms/step - loss: 1.3030e-05 - mae: 0.0028 - val_loss: 6.9695e-06 - val_mae: 0.0019\n",
      "Epoch 408/500\n",
      "9/9 [==============================] - 0s 4ms/step - loss: 8.5774e-06 - mae: 0.0022 - val_loss: 2.3607e-05 - val_mae: 0.0038\n",
      "Epoch 409/500\n",
      "9/9 [==============================] - 0s 5ms/step - loss: 1.1807e-05 - mae: 0.0027 - val_loss: 1.3267e-05 - val_mae: 0.0029\n",
      "Epoch 410/500\n",
      "9/9 [==============================] - 0s 5ms/step - loss: 1.1023e-05 - mae: 0.0026 - val_loss: 4.3881e-05 - val_mae: 0.0057\n",
      "Epoch 411/500\n",
      "9/9 [==============================] - 0s 4ms/step - loss: 1.7755e-05 - mae: 0.0033 - val_loss: 8.0303e-05 - val_mae: 0.0081\n",
      "Epoch 412/500\n",
      "9/9 [==============================] - 0s 5ms/step - loss: 6.0403e-05 - mae: 0.0065 - val_loss: 3.5742e-04 - val_mae: 0.0166\n",
      "Epoch 413/500\n",
      "9/9 [==============================] - 0s 5ms/step - loss: 1.6122e-04 - mae: 0.0098 - val_loss: 3.1546e-04 - val_mae: 0.0144\n",
      "Epoch 414/500\n",
      "9/9 [==============================] - 0s 4ms/step - loss: 2.2685e-04 - mae: 0.0118 - val_loss: 5.7276e-04 - val_mae: 0.0207\n",
      "Epoch 415/500\n",
      "9/9 [==============================] - 0s 4ms/step - loss: 2.5880e-04 - mae: 0.0120 - val_loss: 9.1674e-05 - val_mae: 0.0074\n",
      "Epoch 416/500\n",
      "9/9 [==============================] - 0s 5ms/step - loss: 1.2114e-04 - mae: 0.0083 - val_loss: 5.8766e-04 - val_mae: 0.0198\n",
      "Epoch 417/500\n",
      "9/9 [==============================] - 0s 6ms/step - loss: 3.2836e-04 - mae: 0.0142 - val_loss: 3.7248e-04 - val_mae: 0.0159\n",
      "Epoch 418/500\n",
      "9/9 [==============================] - 0s 5ms/step - loss: 1.6806e-04 - mae: 0.0102 - val_loss: 1.3331e-04 - val_mae: 0.0097\n",
      "Epoch 419/500\n",
      "9/9 [==============================] - 0s 5ms/step - loss: 1.1282e-04 - mae: 0.0085 - val_loss: 6.2706e-04 - val_mae: 0.0229\n",
      "Epoch 420/500\n",
      "9/9 [==============================] - 0s 4ms/step - loss: 2.6829e-04 - mae: 0.0136 - val_loss: 2.3583e-04 - val_mae: 0.0132\n",
      "Epoch 421/500\n",
      "9/9 [==============================] - 0s 5ms/step - loss: 1.2851e-04 - mae: 0.0088 - val_loss: 1.7016e-04 - val_mae: 0.0106\n",
      "Epoch 422/500\n",
      "9/9 [==============================] - 0s 5ms/step - loss: 1.3202e-04 - mae: 0.0089 - val_loss: 2.5324e-04 - val_mae: 0.0130\n",
      "Epoch 423/500\n",
      "9/9 [==============================] - 0s 4ms/step - loss: 2.0980e-04 - mae: 0.0111 - val_loss: 1.3006e-04 - val_mae: 0.0101\n",
      "Epoch 424/500\n",
      "9/9 [==============================] - 0s 4ms/step - loss: 2.4317e-04 - mae: 0.0121 - val_loss: 1.3613e-04 - val_mae: 0.0090\n",
      "Epoch 425/500\n",
      "9/9 [==============================] - 0s 4ms/step - loss: 7.9348e-05 - mae: 0.0067 - val_loss: 2.1277e-04 - val_mae: 0.0128\n",
      "Epoch 426/500\n",
      "9/9 [==============================] - 0s 4ms/step - loss: 1.3910e-04 - mae: 0.0093 - val_loss: 9.0153e-05 - val_mae: 0.0076\n",
      "Epoch 427/500\n",
      "9/9 [==============================] - 0s 5ms/step - loss: 3.7870e-05 - mae: 0.0046 - val_loss: 1.0419e-04 - val_mae: 0.0086\n",
      "Epoch 428/500\n",
      "9/9 [==============================] - 0s 4ms/step - loss: 5.3093e-05 - mae: 0.0059 - val_loss: 3.4009e-05 - val_mae: 0.0043\n",
      "Epoch 429/500\n",
      "9/9 [==============================] - 0s 6ms/step - loss: 3.6544e-05 - mae: 0.0047 - val_loss: 9.5796e-06 - val_mae: 0.0023\n",
      "Epoch 430/500\n",
      "9/9 [==============================] - 0s 5ms/step - loss: 1.4627e-05 - mae: 0.0030 - val_loss: 3.6606e-05 - val_mae: 0.0050\n",
      "Epoch 431/500\n",
      "9/9 [==============================] - 0s 5ms/step - loss: 2.3045e-05 - mae: 0.0038 - val_loss: 1.4337e-05 - val_mae: 0.0028\n",
      "Epoch 432/500\n",
      "9/9 [==============================] - 0s 5ms/step - loss: 3.5798e-05 - mae: 0.0046 - val_loss: 7.6136e-05 - val_mae: 0.0072\n",
      "Epoch 433/500\n",
      "9/9 [==============================] - 0s 5ms/step - loss: 5.8369e-05 - mae: 0.0059 - val_loss: 1.5577e-04 - val_mae: 0.0109\n",
      "Epoch 434/500\n",
      "9/9 [==============================] - 0s 5ms/step - loss: 1.1986e-04 - mae: 0.0086 - val_loss: 5.8741e-04 - val_mae: 0.0193\n",
      "Epoch 435/500\n",
      "9/9 [==============================] - 0s 5ms/step - loss: 2.5726e-04 - mae: 0.0130 - val_loss: 4.8966e-04 - val_mae: 0.0190\n",
      "Epoch 436/500\n",
      "9/9 [==============================] - 0s 5ms/step - loss: 1.8746e-04 - mae: 0.0106 - val_loss: 4.8543e-05 - val_mae: 0.0054\n",
      "Epoch 437/500\n",
      "9/9 [==============================] - 0s 4ms/step - loss: 3.3958e-05 - mae: 0.0044 - val_loss: 1.2938e-04 - val_mae: 0.0096\n",
      "Epoch 438/500\n",
      "9/9 [==============================] - 0s 5ms/step - loss: 6.1090e-05 - mae: 0.0061 - val_loss: 3.5028e-05 - val_mae: 0.0047\n"
     ]
    }
   ],
   "source": [
    "history = ann.fit(X_train, y_train,\n",
    "                    validation_data = (X_val, y_val),\n",
    "                    callbacks=[es],\n",
    "                    epochs=500,\n",
    "                    batch_size=50,\n",
    "                    verbose=1)"
   ]
  },
  {
   "cell_type": "markdown",
   "metadata": {
    "colab_type": "text",
    "id": "0H0zKKNEBLD5"
   },
   "source": [
    "### Analyse learn history"
   ]
  },
  {
   "cell_type": "code",
   "execution_count": 19,
   "metadata": {},
   "outputs": [
    {
     "data": {
      "image/png": "[encoded data removed]",
      "text/plain": [
       "<Figure size 432x288 with 1 Axes>"
      ]
     },
     "metadata": {
      "needs_background": "light"
     },
     "output_type": "display_data"
    }
   ],
   "source": [
    "# let's see the training and validation accuracy by epoch\n",
    "history_dict = history.history\n",
    "loss_values = history_dict['loss'] # you can change this\n",
    "val_loss_values = history_dict['val_loss'] # you can also change this\n",
    "epochs = range(1, len(loss_values) + 1) # range of X (no. of epochs)\n",
    "plt.plot(epochs, loss_values, 'blue', label='Train set loss')\n",
    "plt.plot(epochs, val_loss_values, 'orange', label='Validation set loss')\n",
    "#plt.title('Training and testing loss')\n",
    "plt.xlabel('Epochs')\n",
    "plt.ylabel('Loss (MSE)')\n",
    "plt.legend()\n",
    "plt.show()"
   ]
  },
  {
   "cell_type": "code",
   "execution_count": 20,
   "metadata": {},
   "outputs": [
    {
     "data": {
      "image/png": "[encoded data removed]",
      "text/plain": [
       "<Figure size 432x288 with 1 Axes>"
      ]
     },
     "metadata": {
      "needs_background": "light"
     },
     "output_type": "display_data"
    }
   ],
   "source": [
    "loss_values1 = history_dict['mae'] # you can change this\n",
    "val_loss_values1 = history_dict['val_mae'] # you can also change this\n",
    "epochs = range(1, len(loss_values1) + 1) # range of X (no. of epochs)\n",
    "plt.plot(epochs, loss_values1, 'blue', label='Train set MAE')\n",
    "plt.plot(epochs, val_loss_values1, 'orange', label='Validation set MAE')\n",
    "#plt.title('Training and testing MAE')\n",
    "plt.xlabel('Epochs')\n",
    "plt.ylabel('MAE')\n",
    "plt.legend()\n",
    "plt.show()"
   ]
  },
  {
   "cell_type": "code",
   "execution_count": 21,
   "metadata": {},
   "outputs": [
    {
     "name": "stdout",
     "output_type": "stream",
     "text": [
      "range(1, 439)\n"
     ]
    }
   ],
   "source": [
    "print (epochs)"
   ]
  },
  {
   "cell_type": "markdown",
   "metadata": {},
   "source": [
    "### Save the model"
   ]
  },
  {
   "cell_type": "code",
   "execution_count": 22,
   "metadata": {},
   "outputs": [],
   "source": [
    "from keras.models import load_model\n",
    "ann.save('End_ANN_model_9.h5')"
   ]
  },
  {
   "cell_type": "markdown",
   "metadata": {},
   "source": [
    "## Part 5 - Make predictions"
   ]
  },
  {
   "cell_type": "code",
   "execution_count": 11,
   "metadata": {},
   "outputs": [],
   "source": [
    "from keras.models import load_model"
   ]
  },
  {
   "cell_type": "code",
   "execution_count": 9,
   "metadata": {},
   "outputs": [],
   "source": [
    "ann = load_model('End_ANN_model_9.h5')"
   ]
  },
  {
   "cell_type": "code",
   "execution_count": 23,
   "metadata": {},
   "outputs": [
    {
     "name": "stdout",
     "output_type": "stream",
     "text": [
      "13/13 [==============================] - 0s 1ms/step\n",
      "3/3 [==============================] - 0s 1ms/step\n"
     ]
    },
    {
     "data": {
      "image/png": "[encoded data removed]",
      "text/plain": [
       "<Figure size 432x288 with 2 Axes>"
      ]
     },
     "metadata": {
      "needs_background": "light"
     },
     "output_type": "display_data"
    }
   ],
   "source": [
    "# scatterplot of actual vs. pred\n",
    "# specify the dimensions \n",
    "fig, axes = plt.subplots(1,2) # 1 row, 2 columns\n",
    "\n",
    "# this makes the individual subplots\n",
    "# Training Results\n",
    "axes[0].scatter(x=y_train, y=ann.predict(X_train)) #first row, first entry (left top)\n",
    "axes[0].set_xlabel(\"Actual\", fontsize=10)\n",
    "axes[0].set_ylabel(\"Predicted\",  fontsize=10)\n",
    "axes[0].set_title(\"Training\")\n",
    "# add 45 deg line\n",
    "x = np.linspace(*axes[0].get_xlim())\n",
    "axes[0].plot(x, x, color='red')\n",
    "# Validation Results\n",
    "axes[1].scatter(x=y_val, y=ann.predict(X_val)) # first row, second entry (right top)\n",
    "axes[1].set_xlabel(\"Actual\", fontsize=10)\n",
    "axes[1].set_ylabel(\"Predicted\",  fontsize=10)\n",
    "axes[1].set_title(\"Validation\")\n",
    "# add 45 deg line\n",
    "x = np.linspace(*axes[1].get_xlim())\n",
    "axes[1].plot(x, x, color='red')\n",
    "\n",
    "# tight layout\n",
    "fig.tight_layout()\n",
    "\n",
    "# show the plot\n",
    "plt.show()"
   ]
  },
  {
   "cell_type": "code",
   "execution_count": 24,
   "metadata": {
    "colab": {
     "base_uri": "https://localhost:8080/",
     "height": 134
    },
    "colab_type": "code",
    "id": "IA0yApEmBG1X",
    "outputId": "cb981e1f-9204-4a2a-fece-9d66a6919189"
   },
   "outputs": [
    {
     "name": "stdout",
     "output_type": "stream",
     "text": [
      "3/3 [==============================] - 0s 3ms/step\n",
      "[[0.1  0.1 ]\n",
      " [0.07 0.07]\n",
      " [0.1  0.1 ]\n",
      " [0.03 0.03]\n",
      " [0.04 0.04]\n",
      " [0.06 0.06]\n",
      " [0.11 0.11]\n",
      " [0.09 0.09]\n",
      " [0.04 0.04]\n",
      " [0.11 0.11]\n",
      " [0.06 0.06]\n",
      " [0.06 0.06]\n",
      " [0.07 0.07]\n",
      " [0.12 0.11]\n",
      " [0.09 0.09]\n",
      " [0.04 0.04]\n",
      " [0.08 0.08]\n",
      " [0.04 0.05]\n",
      " [0.09 0.09]\n",
      " [0.06 0.06]\n",
      " [0.03 0.03]\n",
      " [0.03 0.03]\n",
      " [0.1  0.1 ]\n",
      " [0.12 0.12]\n",
      " [0.02 0.02]\n",
      " [0.08 0.08]\n",
      " [0.04 0.04]\n",
      " [0.04 0.04]\n",
      " [0.11 0.11]\n",
      " [0.1  0.1 ]\n",
      " [0.06 0.06]\n",
      " [0.07 0.07]\n",
      " [0.04 0.04]\n",
      " [0.09 0.08]\n",
      " [0.05 0.05]\n",
      " [0.1  0.1 ]\n",
      " [0.1  0.1 ]\n",
      " [0.06 0.06]\n",
      " [0.05 0.05]\n",
      " [0.04 0.04]\n",
      " [0.08 0.09]\n",
      " [0.09 0.1 ]\n",
      " [0.07 0.07]\n",
      " [0.07 0.07]\n",
      " [0.06 0.06]\n",
      " [0.06 0.06]\n",
      " [0.07 0.07]\n",
      " [0.05 0.05]\n",
      " [0.08 0.08]\n",
      " [0.08 0.09]\n",
      " [0.04 0.04]\n",
      " [0.04 0.04]\n",
      " [0.04 0.04]\n",
      " [0.1  0.1 ]\n",
      " [0.05 0.05]\n",
      " [0.12 0.12]\n",
      " [0.11 0.11]\n",
      " [0.11 0.11]\n",
      " [0.06 0.06]\n",
      " [0.08 0.08]\n",
      " [0.04 0.04]\n",
      " [0.05 0.05]\n",
      " [0.11 0.1 ]\n",
      " [0.04 0.04]\n",
      " [0.09 0.09]\n",
      " [0.1  0.1 ]\n",
      " [0.11 0.11]\n",
      " [0.08 0.08]\n",
      " [0.05 0.05]\n",
      " [0.1  0.1 ]\n",
      " [0.08 0.08]\n",
      " [0.11 0.11]\n",
      " [0.1  0.1 ]\n",
      " [0.12 0.12]\n",
      " [0.11 0.1 ]\n",
      " [0.05 0.05]\n",
      " [0.11 0.11]\n",
      " [0.11 0.11]\n",
      " [0.08 0.08]\n",
      " [0.09 0.08]\n",
      " [0.05 0.05]\n",
      " [0.07 0.07]\n",
      " [0.08 0.08]\n",
      " [0.1  0.1 ]\n",
      " [0.04 0.04]\n",
      " [0.04 0.04]\n",
      " [0.07 0.07]]\n"
     ]
    }
   ],
   "source": [
    "#X_test=np.asarray(X_test).astype(np.int)\n",
    "\n",
    "#y_test=np.asarray(y_test).astype(np.int)\n",
    "\n",
    "y_pred = ann.predict(X_test)\n",
    "np.set_printoptions(precision=2)\n",
    "print(np.concatenate((y_pred.reshape(len(y_pred),1), y_test.reshape(len(y_test),1)),1))"
   ]
  },
  {
   "cell_type": "code",
   "execution_count": 25,
   "metadata": {},
   "outputs": [
    {
     "data": {
      "text/plain": [
       "Text(0, 0.5, 'Predicted data')"
      ]
     },
     "execution_count": 25,
     "metadata": {},
     "output_type": "execute_result"
    },
    {
     "data": {
      "image/png": "[encoded data removed]",
      "text/plain": [
       "<Figure size 432x288 with 1 Axes>"
      ]
     },
     "metadata": {
      "needs_background": "light"
     },
     "output_type": "display_data"
    }
   ],
   "source": [
    "import matplotlib.pyplot as plt\n",
    "plt.scatter(y_test, y_pred, color=\"blue\")\n",
    "plt.plot ([0,0.13],[0,0.13], color = \"red\")\n",
    "plt.axis ([0,0.13,0,0.13])\n",
    "plt.xlabel ('Actual data')\n",
    "plt.ylabel ('Predicted data')"
   ]
  },
  {
   "cell_type": "code",
   "execution_count": 26,
   "metadata": {},
   "outputs": [
    {
     "data": {
      "image/png": "[encoded data removed]",
      "text/plain": [
       "<Figure size 648x648 with 1 Axes>"
      ]
     },
     "metadata": {
      "needs_background": "light"
     },
     "output_type": "display_data"
    }
   ],
   "source": [
    "from sklearn.metrics import r2_score\n",
    "# Initialize layout\n",
    "fig1, ax1 = plt.subplots(figsize = (9, 9))\n",
    "\n",
    "\n",
    "#y = y_pred         # Model on prvious line is called here\n",
    "#x = y_test\n",
    "\n",
    "\n",
    "\n",
    "# Add scatterplot\n",
    "ax1.scatter(y_test, y_pred, s=70, alpha=1, edgecolors=\"k\",c='mediumblue',zorder=5, label = 'Points')\n",
    "\n",
    "\n",
    "plt.ylabel('Predicted Peak Incident Pressure (kPa)',fontsize = 25)\n",
    "plt.xlabel('Actual Peak Incident Pressure (kPa)',fontsize = 25)\n",
    "plt.xticks(fontsize = 19)\n",
    "plt.yticks(fontsize = 19)\n",
    "\n",
    "\n",
    "x1 = np.linspace(0,0.13)\n",
    "\n",
    "plt.plot(x1, x1, 'Red', label='45\\N{DEGREE SIGN} line',lw=2.5,alpha=1)\n",
    "plt.plot(x1, 1.1*x1, '--m', label='\\u00B110% Error',lw=2.5,alpha=0.7)\n",
    "plt.plot(x1, 0.9*x1,'m', linestyle='--',lw=2.5,alpha=0.7)\n",
    "plt.plot(x1, 1.2*x1, '-.g', label='\\u00B120% Error',lw=2.5,alpha=0.7)\n",
    "plt.plot(x1, 0.8*x1,'-.g',lw=2.5,alpha=0.7)\n",
    "\n",
    "plt.ylim(0, 0.13)\n",
    "plt.xlim(0, 0.13)\n",
    "plt.legend(loc='upper left',fontsize = 25)\n",
    "\n",
    "plt.grid()\n",
    "\n",
    "ax1.spines['left'].set_color('black')        # setting up Y-axis tick color to red\n",
    "ax1.spines['bottom'].set_color('black')         #setting up above X-axis tick color to red\n",
    "\n",
    "\n",
    "\n",
    "#ax1.annotate(\"$R^2$ = {:.3f}\".format(r2), (2500, 1000),fontsize = 25)  #Model is called here\n",
    "#ax1.annotate(\"Adj.$R^2$ = {:.3f}\".format(adj_r2), (2500, 750),fontsize = 25)\n",
    "\n",
    "#plt.savefig('plot1.png', dpi = 600, bbox_inches = 'tight')"
   ]
  },
  {
   "cell_type": "code",
   "execution_count": 27,
   "metadata": {},
   "outputs": [
    {
     "name": "stdout",
     "output_type": "stream",
     "text": [
      "13/13 [==============================] - 0s 1ms/step\n",
      "0.0013900436599589663\n",
      "0.0019140154251985767\n"
     ]
    }
   ],
   "source": [
    "# metrics\n",
    "\n",
    "\n",
    "trainpreds = ann.predict(X_train)\n",
    "\n",
    "from sklearn.metrics import mean_absolute_error\n",
    "print(mean_absolute_error(y_train, trainpreds)) # train\n",
    "print(mean_absolute_error(y_test, y_pred)) # test"
   ]
  },
  {
   "cell_type": "code",
   "execution_count": 28,
   "metadata": {},
   "outputs": [
    {
     "name": "stdout",
     "output_type": "stream",
     "text": [
      "0.9906608147440602\n"
     ]
    }
   ],
   "source": [
    "from sklearn.metrics import r2_score\n",
    "r2 = r2_score(y_test, y_pred)\n",
    "print (r2)"
   ]
  },
  {
   "cell_type": "code",
   "execution_count": 29,
   "metadata": {},
   "outputs": [
    {
     "name": "stdout",
     "output_type": "stream",
     "text": [
      "0.995181847739287\n"
     ]
    }
   ],
   "source": [
    "r2_train = r2_score(y_train, trainpreds)\n",
    "print (r2_train)"
   ]
  },
  {
   "cell_type": "code",
   "execution_count": 30,
   "metadata": {},
   "outputs": [
    {
     "name": "stdout",
     "output_type": "stream",
     "text": [
      "Within 10% margin 97.70%\n",
      "Within 20% margin 100.00%\n",
      "Out of 20% margin 0.00%\n"
     ]
    }
   ],
   "source": [
    "count1 = 0\n",
    "for i in range(len(y_pred)):\n",
    "    line1 = y_pred[i] - 0.9*y_test[i]\n",
    "    line2 = y_pred[i] - 1.1*y_test[i]\n",
    "    #print ('line 1 ', line1)\n",
    "    #print ('line 2 ', line2)\n",
    "    mask1 = (line1 > 0) & (line2 < 0)\n",
    "    #print (mask)\n",
    "    count1 = np.sum(mask1+count1)\n",
    "    #print (count)\n",
    "\n",
    "count2 = 0\n",
    "for j in range(len(y_pred)):\n",
    "    line3 = y_pred[j] - 0.8*y_test[j]\n",
    "    line4 = y_pred[j] - 1.2*y_test[j]\n",
    "    mask2 = (line3 > 0) & (line4 < 0)\n",
    "    count2 = np.sum(mask2+count2)\n",
    "\n",
    "\n",
    "count3 = 0    \n",
    "for k in range(len(y_pred)):\n",
    "    line5 = y_pred[k] - 0.8*y_test[k]\n",
    "    line6 = y_pred[k] - 1.2*y_test[k]\n",
    "    mask3 = (line5 < 0) or (line6 > 0)\n",
    "    count3 = np.sum(mask3+count3)\n",
    "   \n",
    "\n",
    "print ('Within 10% margin', format((count1/len (y_pred)),'.2%'))\n",
    "print ('Within 20% margin', format((count2/len (y_pred)),'.2%'))\n",
    "print ('Out of 20% margin', format((count3/len (y_pred)),'.2%'))"
   ]
  },
  {
   "cell_type": "code",
   "execution_count": 31,
   "metadata": {},
   "outputs": [
    {
     "name": "stdout",
     "output_type": "stream",
     "text": [
      "0.9904384531903474\n"
     ]
    }
   ],
   "source": [
    "adj_r2 = 1 - ((1 - r2) * (len(X_test) - 1) / (len(X_test) - len (X_test[0]) - 1))\n",
    "print (adj_r2)"
   ]
  },
  {
   "cell_type": "code",
   "execution_count": 32,
   "metadata": {},
   "outputs": [
    {
     "data": {
      "text/plain": [
       "0.002572758617777906"
      ]
     },
     "execution_count": 32,
     "metadata": {},
     "output_type": "execute_result"
    }
   ],
   "source": [
    "import math\n",
    "from sklearn.metrics import mean_squared_error\n",
    "\n",
    "math.sqrt(mean_squared_error(y_test, y_pred))"
   ]
  },
  {
   "cell_type": "code",
   "execution_count": 33,
   "metadata": {},
   "outputs": [
    {
     "data": {
      "text/plain": [
       "0.0019140154251985767"
      ]
     },
     "execution_count": 33,
     "metadata": {},
     "output_type": "execute_result"
    }
   ],
   "source": [
    "from sklearn.metrics import mean_absolute_error\n",
    "\n",
    "mean_absolute_error(y_test, y_pred)"
   ]
  }
 ],
 "metadata": {
  "colab": {
   "collapsed_sections": [],
   "name": "Artificial Neural Network",
   "provenance": [],
   "toc_visible": true
  },
  "kernelspec": {
   "display_name": "Python 3 (ipykernel)",
   "language": "python",
   "name": "python3"
  },
  "language_info": {
   "codemirror_mode": {
    "name": "ipython",
    "version": 3
   },
   "file_extension": ".py",
   "mimetype": "text/x-python",
   "name": "python",
   "nbconvert_exporter": "python",
   "pygments_lexer": "ipython3",
   "version": "3.9.7"
  }
 },
 "nbformat": 4,
 "nbformat_minor": 4
}
