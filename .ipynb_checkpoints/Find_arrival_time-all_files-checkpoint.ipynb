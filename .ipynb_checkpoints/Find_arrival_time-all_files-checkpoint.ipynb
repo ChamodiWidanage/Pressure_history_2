{
 "cells": [
  {
   "cell_type": "markdown",
   "id": "0cede545-4538-436d-ba77-972de1fa7975",
   "metadata": {},
   "source": [
    "## Import libraries"
   ]
  },
  {
   "cell_type": "code",
   "execution_count": 1,
   "id": "78da2ab4-3f82-47e7-9d10-099751b818c1",
   "metadata": {
    "tags": []
   },
   "outputs": [],
   "source": [
    "from pathlib import Path\n",
    "import pandas as pd\n",
    "import xlwings as xw\n",
    "import openpyxl"
   ]
  },
  {
   "cell_type": "markdown",
   "id": "92befdc2-149d-4f98-b26f-65c30b125eb1",
   "metadata": {},
   "source": [
    "## Access input and output directories "
   ]
  },
  {
   "cell_type": "code",
   "execution_count": 2,
   "id": "61c443fd-8ad5-48b9-bd4f-f3fe8292403c",
   "metadata": {},
   "outputs": [
    {
     "name": "stdout",
     "output_type": "stream",
     "text": [
      "1 OUTPUT_L806\n",
      "2 [WindowsPath('OUTPUT_L806/Output_1'), WindowsPath('OUTPUT_L806/Output_2'), WindowsPath('OUTPUT_L806/Output_3')]\n"
     ]
    }
   ],
   "source": [
    "#Access input folder\n",
    "input_dir1 = Path (\"OUTPUT_L806\")\n",
    "print (\"1\",input_dir1)\n",
    "\n",
    "#Access folders inside input folder\n",
    "input_dir2 =  [folder for folder in input_dir1.iterdir() if folder.is_dir()]\n",
    "print (\"2\",input_dir2)"
   ]
  },
  {
   "cell_type": "code",
   "execution_count": 2,
   "id": "1fc8b7b3-739e-4233-9b33-775c1b6b0267",
   "metadata": {},
   "outputs": [
    {
     "name": "stdout",
     "output_type": "stream",
     "text": [
      "[WindowsPath('E:/PhD/Machine Learning/Arrival time prediction/OUTPUT_L806/T1.xlsx'), WindowsPath('E:/PhD/Machine Learning/Arrival time prediction/OUTPUT_L806/T10.xlsx'), WindowsPath('E:/PhD/Machine Learning/Arrival time prediction/OUTPUT_L806/T12.xlsx'), WindowsPath('E:/PhD/Machine Learning/Arrival time prediction/OUTPUT_L806/T14.xlsx'), WindowsPath('E:/PhD/Machine Learning/Arrival time prediction/OUTPUT_L806/T16.xlsx'), WindowsPath('E:/PhD/Machine Learning/Arrival time prediction/OUTPUT_L806/T18.xlsx'), WindowsPath('E:/PhD/Machine Learning/Arrival time prediction/OUTPUT_L806/T2.xlsx'), WindowsPath('E:/PhD/Machine Learning/Arrival time prediction/OUTPUT_L806/T20.xlsx'), WindowsPath('E:/PhD/Machine Learning/Arrival time prediction/OUTPUT_L806/T22.xlsx'), WindowsPath('E:/PhD/Machine Learning/Arrival time prediction/OUTPUT_L806/T24.xlsx'), WindowsPath('E:/PhD/Machine Learning/Arrival time prediction/OUTPUT_L806/T26.xlsx'), WindowsPath('E:/PhD/Machine Learning/Arrival time prediction/OUTPUT_L806/T28.xlsx'), WindowsPath('E:/PhD/Machine Learning/Arrival time prediction/OUTPUT_L806/T30.xlsx'), WindowsPath('E:/PhD/Machine Learning/Arrival time prediction/OUTPUT_L806/T32.xlsx'), WindowsPath('E:/PhD/Machine Learning/Arrival time prediction/OUTPUT_L806/T34.xlsx'), WindowsPath('E:/PhD/Machine Learning/Arrival time prediction/OUTPUT_L806/T36.xlsx'), WindowsPath('E:/PhD/Machine Learning/Arrival time prediction/OUTPUT_L806/T38.xlsx'), WindowsPath('E:/PhD/Machine Learning/Arrival time prediction/OUTPUT_L806/T4.xlsx'), WindowsPath('E:/PhD/Machine Learning/Arrival time prediction/OUTPUT_L806/T40.xlsx'), WindowsPath('E:/PhD/Machine Learning/Arrival time prediction/OUTPUT_L806/T6.xlsx'), WindowsPath('E:/PhD/Machine Learning/Arrival time prediction/OUTPUT_L806/T8.xlsx')]\n"
     ]
    }
   ],
   "source": [
    "current_dir = Path.cwd()\n",
    "input_dir = current_dir/ \"OUTPUT_L806\"\n",
    "files = list(input_dir.rglob(\"*.xlsx\"))\n",
    "print (files)"
   ]
  },
  {
   "cell_type": "code",
   "execution_count": 6,
   "id": "f2f1a6a0-a6bf-43c1-a72f-27abacfe8fb7",
   "metadata": {},
   "outputs": [
    {
     "name": "stdout",
     "output_type": "stream",
     "text": [
      "folder OUTPUT_L806\\Output_1\n",
      "T1\n",
      "pressure 100003\n",
      "time of arrival 0.0001176500009\n",
      "T2\n",
      "pressure 100001\n",
      "time of arrival 0.00037531999988\n",
      "T4\n",
      "pressure 100002\n",
      "time of arrival 0.0014048999874\n",
      "T6\n",
      "pressure 100001\n",
      "time of arrival 0.0031202998944\n",
      "T8\n",
      "pressure 100001\n",
      "time of arrival 0.0052763000131\n",
      "folder OUTPUT_L806\\Output_2\n",
      "T12\n",
      "pressure 100001\n",
      "time of arrival 0.010239999741\n",
      "T14\n",
      "pressure 100001\n",
      "time of arrival 0.012896000408\n",
      "T16\n",
      "pressure 100001\n",
      "time of arrival 0.015619999729\n",
      "T18\n",
      "pressure 100001\n",
      "time of arrival 0.018391000107\n",
      "T20\n",
      "pressure 100001\n",
      "time of arrival 0.021199999377\n",
      "folder OUTPUT_L806\\Output_3\n",
      "T26\n",
      "pressure 100001\n",
      "time of arrival 0.029774000868\n",
      "T28\n",
      "pressure 100001\n",
      "time of arrival 0.032666999847\n",
      "T30\n",
      "pressure 100001\n",
      "time of arrival 0.035571999848\n"
     ]
    }
   ],
   "source": [
    "# Access each folder inside input folder\n",
    "df = pd.DataFrame(columns = ['Charge_type', 'Charge_mass', 'Standoff_distance', 'Time_of_arrival'])\n",
    "for folder in input_dir2:\n",
    "    print (\"folder\", folder)\n",
    "    \n",
    "    # Make a list of data file names\n",
    "    files = list(folder.rglob(\"*.xlsx\"))\n",
    "    \n",
    "    #df = pd.DataFrame(columns = ['Charge_type', 'Charge_mass', 'Standoff_distance', 'Time_of_arrival'])\n",
    "    for file in files:\n",
    "        wrkbk = openpyxl.load_workbook(file)\n",
    "        sh = wrkbk.active\n",
    "        a=0\n",
    "        # iterate through excel and display data\n",
    "        for i in range(2, sh.max_row+1):\n",
    "            cell_pressure = sh.cell (row = i, column = 2)\n",
    "            if cell_pressure.value > 100000:\n",
    "                print (file.stem)\n",
    "                print (\"pressure\", cell_pressure.value)\n",
    "                cell_time = sh.cell (row = i, column = 1)\n",
    "                print (\"time of arrival\", cell_time.value)\n",
    "                # append rows to an empty DataFrame\n",
    "                new_row = {'Charge_type' : ['CompB'], 'Charge_mass' : [3], 'Standoff_distance' : [int(file.stem[1:])/2], 'Time_of_arrival' : [cell_time.value]}\n",
    "                new_row_data = pd.DataFrame(new_row)\n",
    "                df = pd.concat([df, new_row_data], ignore_index = True)\n",
    "                a=a+1\n",
    "            if a == 1:\n",
    "                break\n"
   ]
  },
  {
   "cell_type": "markdown",
   "id": "bbbad37b-986b-4833-a568-bfa1de9bf5a2",
   "metadata": {},
   "source": [
    "## Filtering arrival time"
   ]
  },
  {
   "cell_type": "code",
   "execution_count": 22,
   "id": "9ac3ab75-6605-4316-b626-6da9f55b7914",
   "metadata": {},
   "outputs": [
    {
     "name": "stdout",
     "output_type": "stream",
     "text": [
      "T1\n",
      "pressure 100003\n",
      "time of arrival 0.0001176500009\n",
      "T10\n",
      "pressure 100001\n",
      "time of arrival 0.0076826000586\n",
      "T12\n",
      "pressure 100001\n",
      "time of arrival 0.010239999741\n",
      "T14\n",
      "pressure 100001\n",
      "time of arrival 0.012896000408\n",
      "T16\n",
      "pressure 100001\n",
      "time of arrival 0.015619999729\n",
      "T18\n",
      "pressure 100001\n",
      "time of arrival 0.018391000107\n",
      "T2\n",
      "pressure 100001\n",
      "time of arrival 0.00037531999988\n",
      "T20\n",
      "pressure 100001\n",
      "time of arrival 0.021199999377\n",
      "T22\n",
      "pressure 100001\n",
      "time of arrival 0.024036999792\n",
      "T24\n",
      "pressure 100001\n",
      "time of arrival 0.026895999908\n",
      "T26\n",
      "pressure 100001\n",
      "time of arrival 0.029774000868\n",
      "T28\n",
      "pressure 100001\n",
      "time of arrival 0.032666999847\n",
      "T30\n",
      "pressure 100001\n",
      "time of arrival 0.035571999848\n",
      "T32\n",
      "pressure 100001\n",
      "time of arrival 0.038488000631\n",
      "T34\n",
      "pressure 100001\n",
      "time of arrival 0.041413001716\n",
      "T36\n",
      "pressure 100001\n",
      "time of arrival 0.044346999377\n",
      "T38\n",
      "pressure 100001\n",
      "time of arrival 0.047286998481\n",
      "T4\n",
      "pressure 100002\n",
      "time of arrival 0.0014048999874\n",
      "T40\n",
      "pressure 100001\n",
      "time of arrival 0.050232999027\n",
      "T6\n",
      "pressure 100001\n",
      "time of arrival 0.0031202998944\n",
      "T8\n",
      "pressure 100001\n",
      "time of arrival 0.0052763000131\n"
     ]
    }
   ],
   "source": [
    "# create an Empty DataFrame\n",
    "# object With column names only\n",
    "df = pd.DataFrame(columns = ['Charge_type', 'Charge_mass', 'Standoff_distance', 'Time_of_arrival'])\n",
    "for file in files:\n",
    "    wrkbk = openpyxl.load_workbook(file)\n",
    "    sh = wrkbk.active\n",
    "    a=0\n",
    "    # iterate through excel and display data\n",
    "    for i in range(2, sh.max_row+1):\n",
    "        cell_pressure = sh.cell (row = i, column = 2)\n",
    "        if cell_pressure.value > 100000:\n",
    "            print (file.stem)\n",
    "            print (\"pressure\", cell_pressure.value)\n",
    "            cell_time = sh.cell (row = i, column = 1)\n",
    "            print (\"time of arrival\", cell_time.value)\n",
    "            # append rows to an empty DataFrame\n",
    "            new_row = {'Charge_type' : ['CompB'], 'Charge_mass' : [3], 'Standoff_distance' : [int(file.stem[1:])/2], 'Time_of_arrival' : [cell_time.value]}\n",
    "            new_row_data = pd.DataFrame(new_row)\n",
    "            df = pd.concat([df, new_row_data], ignore_index = True)\n",
    "            a=a+1\n",
    "        if a == 1:\n",
    "            break"
   ]
  },
  {
   "cell_type": "code",
   "execution_count": 7,
   "id": "d5b52bdf-ccdd-4387-b989-0c265e057eba",
   "metadata": {},
   "outputs": [
    {
     "name": "stdout",
     "output_type": "stream",
     "text": [
      "   Charge_type Charge_mass  Standoff_distance  Time_of_arrival\n",
      "0        CompB           3                0.5         0.000118\n",
      "1        CompB           3                1.0         0.000375\n",
      "2        CompB           3                2.0         0.001405\n",
      "3        CompB           3                3.0         0.003120\n",
      "4        CompB           3                4.0         0.005276\n",
      "5        CompB           3                6.0         0.010240\n",
      "6        CompB           3                7.0         0.012896\n",
      "7        CompB           3                8.0         0.015620\n",
      "8        CompB           3                9.0         0.018391\n",
      "9        CompB           3               10.0         0.021200\n",
      "10       CompB           3               13.0         0.029774\n",
      "11       CompB           3               14.0         0.032667\n",
      "12       CompB           3               15.0         0.035572\n"
     ]
    }
   ],
   "source": [
    "print (df)"
   ]
  },
  {
   "cell_type": "code",
   "execution_count": 8,
   "id": "47ae476c-9c31-4625-8b43-199f8eaf3bc5",
   "metadata": {},
   "outputs": [],
   "source": [
    "df1 = df.drop(labels = 0, axis = \"index\")"
   ]
  },
  {
   "cell_type": "code",
   "execution_count": 9,
   "id": "609ed6ef-b1a3-4f68-81c5-b3a9b822cf5d",
   "metadata": {},
   "outputs": [
    {
     "name": "stdout",
     "output_type": "stream",
     "text": [
      "   Charge_type Charge_mass  Standoff_distance  Time_of_arrival\n",
      "1        CompB           3                1.0         0.000375\n",
      "2        CompB           3                2.0         0.001405\n",
      "3        CompB           3                3.0         0.003120\n",
      "4        CompB           3                4.0         0.005276\n",
      "5        CompB           3                6.0         0.010240\n",
      "6        CompB           3                7.0         0.012896\n",
      "7        CompB           3                8.0         0.015620\n",
      "8        CompB           3                9.0         0.018391\n",
      "9        CompB           3               10.0         0.021200\n",
      "10       CompB           3               13.0         0.029774\n",
      "11       CompB           3               14.0         0.032667\n",
      "12       CompB           3               15.0         0.035572\n"
     ]
    }
   ],
   "source": [
    "print (df1)"
   ]
  },
  {
   "cell_type": "code",
   "execution_count": 11,
   "id": "7d3b8383-2c16-4800-8f98-1a6e273920a4",
   "metadata": {},
   "outputs": [],
   "source": [
    "with pd.ExcelWriter('Arrival_time.xlsx', engine = \"openpyxl\", mode='a', if_sheet_exists='replace') as writer:  \n",
    "    df.to_excel(writer, sheet_name = \"Sheet1\", index = False, header = True)"
   ]
  },
  {
   "cell_type": "code",
   "execution_count": 7,
   "id": "007816f4-cce2-4866-90ea-e09a31003593",
   "metadata": {},
   "outputs": [
    {
     "name": "stdout",
     "output_type": "stream",
     "text": [
      "4.0\n"
     ]
    }
   ],
   "source": [
    "print (int(file.stem[1:])/2)"
   ]
  }
 ],
 "metadata": {
  "kernelspec": {
   "display_name": "Python 3 (ipykernel)",
   "language": "python",
   "name": "python3"
  },
  "language_info": {
   "codemirror_mode": {
    "name": "ipython",
    "version": 3
   },
   "file_extension": ".py",
   "mimetype": "text/x-python",
   "name": "python",
   "nbconvert_exporter": "python",
   "pygments_lexer": "ipython3",
   "version": "3.9.7"
  }
 },
 "nbformat": 4,
 "nbformat_minor": 5
}
