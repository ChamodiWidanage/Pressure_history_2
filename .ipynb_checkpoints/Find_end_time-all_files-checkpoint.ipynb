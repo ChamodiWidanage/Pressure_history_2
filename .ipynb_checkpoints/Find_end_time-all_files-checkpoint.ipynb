{
 "cells": [
  {
   "cell_type": "markdown",
   "id": "0cede545-4538-436d-ba77-972de1fa7975",
   "metadata": {},
   "source": [
    "## Import libraries"
   ]
  },
  {
   "cell_type": "code",
   "execution_count": 1,
   "id": "78da2ab4-3f82-47e7-9d10-099751b818c1",
   "metadata": {
    "tags": []
   },
   "outputs": [],
   "source": [
    "from pathlib import Path\n",
    "import pandas as pd\n",
    "import openpyxl\n",
    "import math"
   ]
  },
  {
   "cell_type": "markdown",
   "id": "92befdc2-149d-4f98-b26f-65c30b125eb1",
   "metadata": {},
   "source": [
    "## Access input and output directories "
   ]
  },
  {
   "cell_type": "code",
   "execution_count": 2,
   "id": "61c443fd-8ad5-48b9-bd4f-f3fe8292403c",
   "metadata": {},
   "outputs": [
    {
     "name": "stdout",
     "output_type": "stream",
     "text": [
      "1 Pressure_curves_excel_with_MinTime\n",
      "2 [WindowsPath('Pressure_curves_excel_with_MinTime/L13_11'), WindowsPath('Pressure_curves_excel_with_MinTime/L13_13'), WindowsPath('Pressure_curves_excel_with_MinTime/L13_15'), WindowsPath('Pressure_curves_excel_with_MinTime/L13_17'), WindowsPath('Pressure_curves_excel_with_MinTime/L13_19'), WindowsPath('Pressure_curves_excel_with_MinTime/L13_21'), WindowsPath('Pressure_curves_excel_with_MinTime/L13_23'), WindowsPath('Pressure_curves_excel_with_MinTime/L13_25'), WindowsPath('Pressure_curves_excel_with_MinTime/L13_27'), WindowsPath('Pressure_curves_excel_with_MinTime/L13_29'), WindowsPath('Pressure_curves_excel_with_MinTime/L13_3'), WindowsPath('Pressure_curves_excel_with_MinTime/L13_31'), WindowsPath('Pressure_curves_excel_with_MinTime/L13_33'), WindowsPath('Pressure_curves_excel_with_MinTime/L13_35'), WindowsPath('Pressure_curves_excel_with_MinTime/L13_37'), WindowsPath('Pressure_curves_excel_with_MinTime/L13_39'), WindowsPath('Pressure_curves_excel_with_MinTime/L13_41'), WindowsPath('Pressure_curves_excel_with_MinTime/L13_43'), WindowsPath('Pressure_curves_excel_with_MinTime/L13_45'), WindowsPath('Pressure_curves_excel_with_MinTime/L13_47'), WindowsPath('Pressure_curves_excel_with_MinTime/L13_49'), WindowsPath('Pressure_curves_excel_with_MinTime/L13_5'), WindowsPath('Pressure_curves_excel_with_MinTime/L13_51'), WindowsPath('Pressure_curves_excel_with_MinTime/L13_53'), WindowsPath('Pressure_curves_excel_with_MinTime/L13_55'), WindowsPath('Pressure_curves_excel_with_MinTime/L13_57'), WindowsPath('Pressure_curves_excel_with_MinTime/L13_59'), WindowsPath('Pressure_curves_excel_with_MinTime/L13_61'), WindowsPath('Pressure_curves_excel_with_MinTime/L13_63'), WindowsPath('Pressure_curves_excel_with_MinTime/L13_65'), WindowsPath('Pressure_curves_excel_with_MinTime/L13_67'), WindowsPath('Pressure_curves_excel_with_MinTime/L13_69'), WindowsPath('Pressure_curves_excel_with_MinTime/L13_7'), WindowsPath('Pressure_curves_excel_with_MinTime/L13_70'), WindowsPath('Pressure_curves_excel_with_MinTime/L13_9')]\n"
     ]
    }
   ],
   "source": [
    "#Access input folder\n",
    "input_dir1 = Path (\"Pressure_curves_excel_with_MinTime\")\n",
    "print (\"1\",input_dir1)\n",
    "\n",
    "#Access folders inside input folder\n",
    "input_dir2 =  [folder for folder in input_dir1.iterdir() if folder.is_dir()]\n",
    "print (\"2\",input_dir2)"
   ]
  },
  {
   "cell_type": "markdown",
   "id": "77800102-e0f9-400a-96d5-c50b8e77a274",
   "metadata": {},
   "source": [
    "## Filtering end time"
   ]
  },
  {
   "cell_type": "code",
   "execution_count": 8,
   "id": "f2f1a6a0-a6bf-43c1-a72f-27abacfe8fb7",
   "metadata": {},
   "outputs": [
    {
     "name": "stdout",
     "output_type": "stream",
     "text": [
      "folder Pressure_curves_excel_with_MinTime\\L13_11\n",
      "P1\n",
      "Min_time 0.0013797097 <class 'float'>\n",
      "Min_time_row1 2\n",
      "Time 0.0013899618061\n",
      "Min_time_row2 141\n",
      "End_pressure 164834.51562\n",
      "End_time1 0.0040398794226\n",
      "P13\n",
      "Min_time 0.0207997914 <class 'float'>\n",
      "Min_time_row1 2\n",
      "Time 0.02079979144\n",
      "Min_time_row2 2082\n",
      "End_pressure 101201\n",
      "End_time1 0.037799991667\n",
      "P17\n",
      "Min_time 0.0270199366 <class 'float'>\n",
      "Min_time_row1 2\n",
      "Time 0.027029700577\n",
      "Min_time_row2 2705\n",
      "End_pressure 101200.40625\n",
      "End_time1 0.043699923903\n",
      "P21\n",
      "Min_time 0.0332099386 <class 'float'>\n",
      "Min_time_row1 2\n",
      "Time 0.033219721168\n",
      "Min_time_row2 3324\n",
      "End_pressure 101200.52344\n",
      "End_time1 0.0496397838\n",
      "P25\n",
      "Min_time 0.0393598564 <class 'float'>\n",
      "Min_time_row1 2\n",
      "Time 0.039369966835\n",
      "Min_time_row2 3939\n",
      "End_pressure 101200.21094\n",
      "End_time1 0.055589761585\n",
      "P29\n",
      "Min_time 0.045499675 <class 'float'>\n",
      "Min_time_row1 2\n",
      "Time 0.045509785414\n",
      "Min_time_row2 4553\n",
      "End_pressure 101200.39844\n",
      "End_time1 0.061559796333\n",
      "P33\n",
      "Min_time 0.0516197085 <class 'float'>\n",
      "Min_time_row1 2\n",
      "Time 0.051619708538\n",
      "Min_time_row2 5164\n",
      "End_pressure 101200.27344\n",
      "End_time1 0.067529991269\n",
      "P37\n",
      "Min_time 0.0577198006 <class 'float'>\n",
      "Min_time_row1 2\n",
      "Time 0.057719800621\n",
      "Min_time_row2 5774\n",
      "End_pressure 101200.02344\n",
      "End_time1 0.073499679565\n",
      "P41\n",
      "Min_time 0.0638197288 <class 'float'>\n",
      "Min_time_row1 2\n",
      "Time 0.06382983923\n",
      "Min_time_row2 6385\n",
      "End_pressure 101200.03906\n",
      "End_time1 0.079479932785\n",
      "P45\n",
      "Min_time 0.0698999017 <class 'float'>\n",
      "Min_time_row1 2\n",
      "Time 0.069899901748\n",
      "Min_time_row2 6992\n",
      "End_pressure 101200.28906\n",
      "End_time1 0.085469774902\n",
      "P49\n",
      "Min_time 0.0759799108 <class 'float'>\n",
      "Min_time_row1 2\n",
      "Time 0.075989700854\n",
      "Min_time_row2 7601\n",
      "End_pressure 101200.19531\n",
      "End_time1 0.091449938715\n",
      "P5\n",
      "Min_time 0.007479887 <class 'float'>\n",
      "Min_time_row1 2\n",
      "Time 0.0074898866005\n",
      "Min_time_row2 751\n",
      "End_pressure 104486.40625\n",
      "End_time1 0.0084499176592\n",
      "P53\n",
      "Min_time 0.1156698763 <class 'float'>\n"
     ]
    },
    {
     "ename": "TypeError",
     "evalue": "'<' not supported between instances of 'int' and 'str'",
     "output_type": "error",
     "traceback": [
      "\u001b[1;31m---------------------------------------------------------------------------\u001b[0m",
      "\u001b[1;31mTypeError\u001b[0m                                 Traceback (most recent call last)",
      "\u001b[1;32m~\\AppData\\Local\\Temp\\ipykernel_18968\\2159972411.py\u001b[0m in \u001b[0;36m<module>\u001b[1;34m\u001b[0m\n\u001b[0;32m     19\u001b[0m         \u001b[1;32mif\u001b[0m \u001b[0mMin_time\u001b[0m \u001b[1;33m>\u001b[0m \u001b[0mfloat\u001b[0m\u001b[1;33m(\u001b[0m\u001b[1;36m0.104\u001b[0m\u001b[1;33m)\u001b[0m\u001b[1;33m:\u001b[0m\u001b[1;33m\u001b[0m\u001b[1;33m\u001b[0m\u001b[0m\n\u001b[0;32m     20\u001b[0m             \u001b[0mtime_values\u001b[0m \u001b[1;33m=\u001b[0m \u001b[1;33m[\u001b[0m\u001b[0mcell\u001b[0m\u001b[1;33m.\u001b[0m\u001b[0mvalue\u001b[0m \u001b[1;32mfor\u001b[0m \u001b[0mcell\u001b[0m \u001b[1;32min\u001b[0m \u001b[0msh\u001b[0m\u001b[1;33m[\u001b[0m\u001b[1;34m\"A\"\u001b[0m\u001b[1;33m]\u001b[0m\u001b[1;33m]\u001b[0m\u001b[1;33m\u001b[0m\u001b[1;33m\u001b[0m\u001b[0m\n\u001b[1;32m---> 21\u001b[1;33m             \u001b[0mMin_time\u001b[0m \u001b[1;33m=\u001b[0m \u001b[0mmin\u001b[0m\u001b[1;33m(\u001b[0m\u001b[0mtime_values\u001b[0m\u001b[1;33m)\u001b[0m\u001b[1;33m\u001b[0m\u001b[1;33m\u001b[0m\u001b[0m\n\u001b[0m\u001b[0;32m     22\u001b[0m \u001b[1;33m\u001b[0m\u001b[0m\n\u001b[0;32m     23\u001b[0m \u001b[1;33m\u001b[0m\u001b[0m\n",
      "\u001b[1;31mTypeError\u001b[0m: '<' not supported between instances of 'int' and 'str'"
     ]
    }
   ],
   "source": [
    "# Access each folder inside input folder\n",
    "df = pd.DataFrame(columns = ['Charge_mass', 'Standoff_distance', 'End_time'])\n",
    "for folder in input_dir2:\n",
    "    print (\"folder\", folder)\n",
    "    charge_mass = int(folder.stem[4:])/2\n",
    "    \n",
    "    # Make a list of data file names\n",
    "    files = list(folder.rglob(\"*.xlsx\"))\n",
    "    \n",
    "    for file in files:\n",
    "        print (file.stem)\n",
    "        \n",
    "        wrkbk = openpyxl.load_workbook(file)\n",
    "        sh = wrkbk.active\n",
    "        \n",
    "        Min_time = sh.cell(row = 2, column = 3).value\n",
    "        print (\"Min_time\", Min_time, type(Min_time))\n",
    "        \n",
    "        if Min_time > float(0.104):\n",
    "            time_values = [cell.value for cell in sh[\"A\"]]\n",
    "            Min_time = min(time_values)\n",
    "            \n",
    "        \n",
    "        \n",
    "        Min_time_row = 2\n",
    "        print (\"Min_time_row1\", Min_time_row)\n",
    "        \n",
    "        stand_dis = math.ceil(int(file.stem[1:])/2)\n",
    "        \n",
    "        # iterate through excel and display data\n",
    "        for i in range(2, sh.max_row+1):\n",
    "            Time = sh.cell (row = i, column = 1)\n",
    "            #print (\"Time.value\", Time.value)\n",
    "            #print (\"Min_time\", Min_time.value)\n",
    "            if Time.value > Min_time:\n",
    "                print (\"Time\", Time.value)\n",
    "                Min_time_row = i\n",
    "                #print (\"Min_time_row\", i)\n",
    "                break\n",
    "        print (\"Min_time_row2\", i)       \n",
    "        for j in range(Min_time_row, sh.max_row+1):\n",
    "            #print (j)\n",
    "            cell_pressure = sh.cell (row = j, column = 2)\n",
    "            #print (type(cell_pressure.value))\n",
    "            #print (cell_pressure.value)\n",
    "            if float(cell_pressure.value) > 101200:\n",
    "                print (\"End_pressure\", cell_pressure.value)\n",
    "                cell_time = sh.cell (row = j, column = 1)\n",
    "                print (\"End_time1\", cell_time.value)\n",
    "                \n",
    "                # append rows to an empty DataFrame\n",
    "                new_row = {'Charge_mass' : [charge_mass], 'Standoff_distance' : [stand_dis], 'End_time' : [cell_time.value]}\n",
    "                new_row_data = pd.DataFrame(new_row)\n",
    "                df = pd.concat([df, new_row_data], ignore_index = True)\n",
    "                break\n",
    "            if j == sh.max_row+1:\n",
    "                cell_time = sh.cell (row = j, column = 1)\n",
    "                print (\"End_time2\", cell_time.value)\n",
    "                \n",
    "                # append rows to an empty DataFrame\n",
    "                new_row = {'Charge_mass' : [charge_mass], 'Standoff_distance' : [stand_dis], 'End_time' : [cell_time.value]}\n",
    "                new_row_data = pd.DataFrame(new_row)\n",
    "                df = pd.concat([df, new_row_data], ignore_index = True)\n"
   ]
  },
  {
   "cell_type": "code",
   "execution_count": 10,
   "id": "d5b52bdf-ccdd-4387-b989-0c265e057eba",
   "metadata": {},
   "outputs": [
    {
     "name": "stdout",
     "output_type": "stream",
     "text": [
      "    Charge_mass Standoff_distance  End_time\n",
      "0           0.5                 1   0.00289\n",
      "1           0.5                 7   0.02850\n",
      "2           0.5                 9   0.03448\n",
      "3           0.5                11   0.04046\n",
      "4           0.5                13   0.04644\n",
      "5           0.5                 3   0.01660\n",
      "6           0.5                 5   0.02253\n",
      "7           5.5                 1   0.00404\n",
      "8           5.5                 7   0.03780\n",
      "9           5.5                 9   0.04370\n",
      "10          5.5                11   0.04964\n",
      "11          5.5                13   0.05559\n",
      "12          5.5                15   0.06156\n",
      "13          5.5                17   0.06753\n",
      "14          5.5                19   0.07350\n",
      "15          5.5                21   0.07948\n",
      "16          5.5                23   0.08547\n",
      "17          5.5                25   0.09145\n",
      "18          5.5                 3   0.00845\n",
      "19          5.5                 5   0.01460\n"
     ]
    }
   ],
   "source": [
    "print (df.head(20))"
   ]
  },
  {
   "cell_type": "code",
   "execution_count": 8,
   "id": "47ae476c-9c31-4625-8b43-199f8eaf3bc5",
   "metadata": {},
   "outputs": [],
   "source": [
    "df1 = df.drop(labels = 0, axis = \"index\")"
   ]
  },
  {
   "cell_type": "code",
   "execution_count": 9,
   "id": "609ed6ef-b1a3-4f68-81c5-b3a9b822cf5d",
   "metadata": {},
   "outputs": [
    {
     "name": "stdout",
     "output_type": "stream",
     "text": [
      "   Charge_type Charge_mass  Standoff_distance  Time_of_arrival\n",
      "1        CompB           3                1.0         0.000375\n",
      "2        CompB           3                2.0         0.001405\n",
      "3        CompB           3                3.0         0.003120\n",
      "4        CompB           3                4.0         0.005276\n",
      "5        CompB           3                6.0         0.010240\n",
      "6        CompB           3                7.0         0.012896\n",
      "7        CompB           3                8.0         0.015620\n",
      "8        CompB           3                9.0         0.018391\n",
      "9        CompB           3               10.0         0.021200\n",
      "10       CompB           3               13.0         0.029774\n",
      "11       CompB           3               14.0         0.032667\n",
      "12       CompB           3               15.0         0.035572\n"
     ]
    }
   ],
   "source": [
    "print (df1)"
   ]
  },
  {
   "cell_type": "code",
   "execution_count": 7,
   "id": "7d3b8383-2c16-4800-8f98-1a6e273920a4",
   "metadata": {},
   "outputs": [],
   "source": [
    "with pd.ExcelWriter('End_time.xlsx', engine = \"openpyxl\", mode='a', if_sheet_exists='replace') as writer:  \n",
    "    df.to_excel(writer, sheet_name = \"Sheet1\", index = False, header = True)"
   ]
  },
  {
   "cell_type": "code",
   "execution_count": 7,
   "id": "007816f4-cce2-4866-90ea-e09a31003593",
   "metadata": {},
   "outputs": [
    {
     "name": "stdout",
     "output_type": "stream",
     "text": [
      "4.0\n"
     ]
    }
   ],
   "source": [
    "print (int(file.stem[1:])/2)"
   ]
  }
 ],
 "metadata": {
  "kernelspec": {
   "display_name": "Python 3 (ipykernel)",
   "language": "python",
   "name": "python3"
  },
  "language_info": {
   "codemirror_mode": {
    "name": "ipython",
    "version": 3
   },
   "file_extension": ".py",
   "mimetype": "text/x-python",
   "name": "python",
   "nbconvert_exporter": "python",
   "pygments_lexer": "ipython3",
   "version": "3.9.7"
  }
 },
 "nbformat": 4,
 "nbformat_minor": 5
}
