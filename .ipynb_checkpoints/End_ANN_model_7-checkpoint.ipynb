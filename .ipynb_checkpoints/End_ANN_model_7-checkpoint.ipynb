{
 "cells": [
  {
   "cell_type": "markdown",
   "metadata": {
    "colab_type": "text",
    "id": "3cbb7fRy-eyr"
   },
   "source": [
    "# Artificial Neural Network"
   ]
  },
  {
   "cell_type": "markdown",
   "metadata": {
    "colab_type": "text",
    "id": "8sNDnxE2-pwE"
   },
   "source": [
    "## Part 1 - Importing the libraries"
   ]
  },
  {
   "cell_type": "code",
   "execution_count": 1,
   "metadata": {
    "colab": {},
    "colab_type": "code",
    "id": "lxChR1Rk-umf"
   },
   "outputs": [],
   "source": [
    "import numpy as np\n",
    "import pandas as pd\n",
    "import tensorflow as tf\n",
    "import matplotlib.pyplot as plt\n",
    "from keras.models import load_model"
   ]
  },
  {
   "cell_type": "markdown",
   "metadata": {
    "colab_type": "text",
    "id": "AG3FQEch-yuA"
   },
   "source": [
    "## Part 2 - Data Preprocessing"
   ]
  },
  {
   "cell_type": "markdown",
   "metadata": {
    "colab_type": "text",
    "id": "-4zq8Mza_D9O"
   },
   "source": [
    "### Importing the dataset"
   ]
  },
  {
   "cell_type": "code",
   "execution_count": 2,
   "metadata": {
    "colab": {},
    "colab_type": "code",
    "id": "B9CV13Co_HHM"
   },
   "outputs": [
    {
     "name": "stdout",
     "output_type": "stream",
     "text": [
      "<class 'pandas.core.frame.DataFrame'>\n",
      "RangeIndex: 576 entries, 0 to 575\n",
      "Data columns (total 4 columns):\n",
      " #   Column             Non-Null Count  Dtype  \n",
      "---  ------             --------------  -----  \n",
      " 0   Charge_mass        576 non-null    float64\n",
      " 1   Standoff_distance  576 non-null    int64  \n",
      " 2   End_time           576 non-null    float64\n",
      " 3   End_index          576 non-null    int64  \n",
      "dtypes: float64(2), int64(2)\n",
      "memory usage: 18.1 KB\n"
     ]
    }
   ],
   "source": [
    "dataset = pd.read_excel('End_time.xlsx')\n",
    "dataset.info()"
   ]
  },
  {
   "cell_type": "code",
   "execution_count": 3,
   "metadata": {},
   "outputs": [
    {
     "name": "stdout",
     "output_type": "stream",
     "text": [
      "(576, 2) (576,)\n"
     ]
    }
   ],
   "source": [
    "y = dataset['End_time']\n",
    "X = dataset.drop(['End_time','End_index'], axis=1)\n",
    "print(X.shape, y.shape)"
   ]
  },
  {
   "cell_type": "code",
   "execution_count": 4,
   "metadata": {},
   "outputs": [],
   "source": [
    "# convert to numpy array\n",
    "X = np.array(X)\n",
    "y = np.array(y)"
   ]
  },
  {
   "cell_type": "markdown",
   "metadata": {
    "colab_type": "text",
    "id": "VC6omXel_Up0"
   },
   "source": [
    "### Splitting the dataset into the Training set and Test set"
   ]
  },
  {
   "cell_type": "code",
   "execution_count": 5,
   "metadata": {
    "colab": {},
    "colab_type": "code",
    "id": "L5edeb2r_agx"
   },
   "outputs": [],
   "source": [
    "from sklearn.model_selection import train_test_split\n",
    "X_train, X_test, y_train, y_test = train_test_split(X,\n",
    "                                                    y,\n",
    "                                                    test_size = 0.3,\n",
    "                                                    random_state = 0)"
   ]
  },
  {
   "cell_type": "code",
   "execution_count": 6,
   "metadata": {
    "colab": {},
    "colab_type": "code",
    "id": "L5edeb2r_agx"
   },
   "outputs": [],
   "source": [
    "X_val, X_test, y_val, y_test = train_test_split(X_test,\n",
    "                                                y_test,\n",
    "                                                test_size = 0.5,\n",
    "                                                random_state = 0)"
   ]
  },
  {
   "cell_type": "markdown",
   "metadata": {
    "colab_type": "text",
    "id": "_mSLlAT9_eyI"
   },
   "source": [
    "## Part 3 - Building the ANN"
   ]
  },
  {
   "cell_type": "markdown",
   "metadata": {
    "colab_type": "text",
    "id": "CsBULd_f_wLY"
   },
   "source": [
    "### Initializing the ANN"
   ]
  },
  {
   "cell_type": "code",
   "execution_count": 7,
   "metadata": {
    "colab": {},
    "colab_type": "code",
    "id": "J6Hd97Ls__Nz"
   },
   "outputs": [],
   "source": [
    "ann = tf.keras.models.Sequential()"
   ]
  },
  {
   "cell_type": "markdown",
   "metadata": {
    "colab_type": "text",
    "id": "iitAFJS_ABUn"
   },
   "source": [
    "### Adding the input layer and the first hidden layer"
   ]
  },
  {
   "cell_type": "code",
   "execution_count": 8,
   "metadata": {
    "colab": {},
    "colab_type": "code",
    "id": "ksO_Vv40AHix"
   },
   "outputs": [],
   "source": [
    "ann.add(tf.keras.layers.Dense(units=75,\n",
    "                              input_shape=(X_train.shape[1],),\n",
    "                              activation='softplus'))"
   ]
  },
  {
   "cell_type": "markdown",
   "metadata": {
    "colab_type": "text",
    "id": "-lb4kK_wAKbs"
   },
   "source": [
    "### Adding the second hidden layer"
   ]
  },
  {
   "cell_type": "code",
   "execution_count": 9,
   "metadata": {
    "colab": {},
    "colab_type": "code",
    "id": "c2357OqEAQOQ",
    "tags": []
   },
   "outputs": [],
   "source": [
    "ann.add(tf.keras.layers.Dense(units=58,\n",
    "                              activation='softplus'))"
   ]
  },
  {
   "cell_type": "markdown",
   "metadata": {
    "colab_type": "text",
    "id": "-lb4kK_wAKbs"
   },
   "source": [
    "### Adding the third hidden layer"
   ]
  },
  {
   "cell_type": "code",
   "execution_count": 10,
   "metadata": {
    "colab": {},
    "colab_type": "code",
    "id": "c2357OqEAQOQ",
    "tags": []
   },
   "outputs": [],
   "source": [
    "ann.add(tf.keras.layers.Dense(units=40,\n",
    "                              activation='softplus'))"
   ]
  },
  {
   "cell_type": "markdown",
   "metadata": {
    "colab_type": "text",
    "id": "jwMOmKb3AdBY"
   },
   "source": [
    "### Adding the output layer"
   ]
  },
  {
   "cell_type": "code",
   "execution_count": 11,
   "metadata": {
    "colab": {},
    "colab_type": "code",
    "id": "YFATpzsUAkLL"
   },
   "outputs": [],
   "source": [
    "ann.add(tf.keras.layers.Dense(units=1,\n",
    "                              activation='linear'))"
   ]
  },
  {
   "cell_type": "markdown",
   "metadata": {},
   "source": [
    "### what model looks like"
   ]
  },
  {
   "cell_type": "code",
   "execution_count": 12,
   "metadata": {},
   "outputs": [
    {
     "name": "stdout",
     "output_type": "stream",
     "text": [
      "Model: \"sequential\"\n",
      "_________________________________________________________________\n",
      " Layer (type)                Output Shape              Param #   \n",
      "=================================================================\n",
      " dense (Dense)               (None, 75)                225       \n",
      "                                                                 \n",
      " dense_1 (Dense)             (None, 58)                4408      \n",
      "                                                                 \n",
      " dense_2 (Dense)             (None, 40)                2360      \n",
      "                                                                 \n",
      " dense_3 (Dense)             (None, 1)                 41        \n",
      "                                                                 \n",
      "=================================================================\n",
      "Total params: 7,034\n",
      "Trainable params: 7,034\n",
      "Non-trainable params: 0\n",
      "_________________________________________________________________\n"
     ]
    }
   ],
   "source": [
    "ann.summary()"
   ]
  },
  {
   "cell_type": "markdown",
   "metadata": {
    "colab_type": "text",
    "id": "fq7e4fF6A1yy"
   },
   "source": [
    "## Part 4 - Training the ANN"
   ]
  },
  {
   "cell_type": "markdown",
   "metadata": {
    "colab_type": "text",
    "id": "qDeylAs2An25"
   },
   "source": [
    "### Compiling the ANN"
   ]
  },
  {
   "cell_type": "code",
   "execution_count": 13,
   "metadata": {
    "colab": {},
    "colab_type": "code",
    "id": "pesgbWlCAtB4"
   },
   "outputs": [],
   "source": [
    "from tensorflow.keras.optimizers import Adam\n",
    "opt = Adam(learning_rate=0.001)\n",
    "ann.compile(optimizer = opt,\n",
    "            loss = 'mean_squared_error',\n",
    "            metrics = ['mae'])"
   ]
  },
  {
   "cell_type": "markdown",
   "metadata": {},
   "source": [
    "### early stopping callback"
   ]
  },
  {
   "cell_type": "code",
   "execution_count": 14,
   "metadata": {},
   "outputs": [],
   "source": [
    "# protects from unnecessary further training of the model if a particular metric does not continue to improve over a number of n epochs. In such a case, the model training would be automatically aborted.\n",
    "from keras.callbacks import EarlyStopping\n",
    "es = EarlyStopping(monitor='val_loss',\n",
    "                   mode='min',\n",
    "                   patience=50,\n",
    "                   restore_best_weights = True)"
   ]
  },
  {
   "cell_type": "markdown",
   "metadata": {
    "colab_type": "text",
    "id": "YjVuiybYOo7r"
   },
   "source": [
    "### Training the ANN model on the Training set"
   ]
  },
  {
   "cell_type": "code",
   "execution_count": 15,
   "metadata": {
    "colab": {
     "base_uri": "https://localhost:8080/",
     "height": 1000
    },
    "colab_type": "code",
    "id": "c_vV-tiiA5zn",
    "outputId": "4a2b6ee6-ed75-4698-9069-b250e613803f"
   },
   "outputs": [
    {
     "name": "stdout",
     "output_type": "stream",
     "text": [
      "Epoch 1/500\n",
      "9/9 [==============================] - 1s 22ms/step - loss: 1.8894 - mae: 1.0921 - val_loss: 1.3975 - val_mae: 1.0540\n",
      "Epoch 2/500\n",
      "9/9 [==============================] - 0s 6ms/step - loss: 0.4838 - mae: 0.5173 - val_loss: 0.1095 - val_mae: 0.3014\n",
      "Epoch 3/500\n",
      "9/9 [==============================] - 0s 7ms/step - loss: 0.1766 - mae: 0.3889 - val_loss: 0.0470 - val_mae: 0.1931\n",
      "Epoch 4/500\n",
      "9/9 [==============================] - 0s 5ms/step - loss: 0.0276 - mae: 0.1389 - val_loss: 0.0623 - val_mae: 0.2444\n",
      "Epoch 5/500\n",
      "9/9 [==============================] - 0s 7ms/step - loss: 0.0289 - mae: 0.1515 - val_loss: 0.0050 - val_mae: 0.0494\n",
      "Epoch 6/500\n",
      "9/9 [==============================] - 0s 6ms/step - loss: 0.0119 - mae: 0.0887 - val_loss: 0.0080 - val_mae: 0.0691\n",
      "Epoch 7/500\n",
      "9/9 [==============================] - 0s 7ms/step - loss: 0.0030 - mae: 0.0428 - val_loss: 0.0046 - val_mae: 0.0615\n",
      "Epoch 8/500\n",
      "9/9 [==============================] - 0s 6ms/step - loss: 0.0027 - mae: 0.0455 - val_loss: 6.3930e-04 - val_mae: 0.0185\n",
      "Epoch 9/500\n",
      "9/9 [==============================] - 0s 6ms/step - loss: 0.0011 - mae: 0.0238 - val_loss: 5.3232e-04 - val_mae: 0.0173\n",
      "Epoch 10/500\n",
      "9/9 [==============================] - 0s 7ms/step - loss: 6.5415e-04 - mae: 0.0198 - val_loss: 6.9273e-04 - val_mae: 0.0220\n",
      "Epoch 11/500\n",
      "9/9 [==============================] - 0s 6ms/step - loss: 5.3051e-04 - mae: 0.0185 - val_loss: 3.7262e-04 - val_mae: 0.0143\n",
      "Epoch 12/500\n",
      "9/9 [==============================] - 0s 7ms/step - loss: 4.5407e-04 - mae: 0.0162 - val_loss: 3.6382e-04 - val_mae: 0.0156\n",
      "Epoch 13/500\n",
      "9/9 [==============================] - 0s 6ms/step - loss: 3.9268e-04 - mae: 0.0158 - val_loss: 3.1666e-04 - val_mae: 0.0145\n",
      "Epoch 14/500\n",
      "9/9 [==============================] - 0s 7ms/step - loss: 3.7626e-04 - mae: 0.0149 - val_loss: 3.0389e-04 - val_mae: 0.0140\n",
      "Epoch 15/500\n",
      "9/9 [==============================] - 0s 7ms/step - loss: 3.3701e-04 - mae: 0.0145 - val_loss: 3.1329e-04 - val_mae: 0.0144\n",
      "Epoch 16/500\n",
      "9/9 [==============================] - 0s 7ms/step - loss: 3.1856e-04 - mae: 0.0143 - val_loss: 2.7813e-04 - val_mae: 0.0133\n",
      "Epoch 17/500\n",
      "9/9 [==============================] - 0s 7ms/step - loss: 3.0744e-04 - mae: 0.0137 - val_loss: 2.8751e-04 - val_mae: 0.0138\n",
      "Epoch 18/500\n",
      "9/9 [==============================] - 0s 7ms/step - loss: 3.1674e-04 - mae: 0.0146 - val_loss: 2.8473e-04 - val_mae: 0.0136\n",
      "Epoch 19/500\n",
      "9/9 [==============================] - 0s 6ms/step - loss: 2.7274e-04 - mae: 0.0131 - val_loss: 2.5282e-04 - val_mae: 0.0127\n",
      "Epoch 20/500\n",
      "9/9 [==============================] - 0s 6ms/step - loss: 2.4858e-04 - mae: 0.0127 - val_loss: 2.6428e-04 - val_mae: 0.0131\n",
      "Epoch 21/500\n",
      "9/9 [==============================] - 0s 6ms/step - loss: 2.4116e-04 - mae: 0.0123 - val_loss: 2.2044e-04 - val_mae: 0.0119\n",
      "Epoch 22/500\n",
      "9/9 [==============================] - 0s 7ms/step - loss: 2.3814e-04 - mae: 0.0121 - val_loss: 2.2006e-04 - val_mae: 0.0122\n",
      "Epoch 23/500\n",
      "9/9 [==============================] - 0s 6ms/step - loss: 2.0897e-04 - mae: 0.0117 - val_loss: 2.0445e-04 - val_mae: 0.0118\n",
      "Epoch 24/500\n",
      "9/9 [==============================] - 0s 6ms/step - loss: 2.0124e-04 - mae: 0.0112 - val_loss: 1.9946e-04 - val_mae: 0.0114\n",
      "Epoch 25/500\n",
      "9/9 [==============================] - 0s 6ms/step - loss: 1.8989e-04 - mae: 0.0110 - val_loss: 1.9278e-04 - val_mae: 0.0114\n",
      "Epoch 26/500\n",
      "9/9 [==============================] - 0s 6ms/step - loss: 1.8016e-04 - mae: 0.0108 - val_loss: 1.8444e-04 - val_mae: 0.0111\n",
      "Epoch 27/500\n",
      "9/9 [==============================] - 0s 6ms/step - loss: 1.7079e-04 - mae: 0.0104 - val_loss: 1.7536e-04 - val_mae: 0.0107\n",
      "Epoch 28/500\n",
      "9/9 [==============================] - 0s 6ms/step - loss: 1.6268e-04 - mae: 0.0101 - val_loss: 1.6992e-04 - val_mae: 0.0107\n",
      "Epoch 29/500\n",
      "9/9 [==============================] - 0s 7ms/step - loss: 1.5820e-04 - mae: 0.0102 - val_loss: 1.5474e-04 - val_mae: 0.0103\n",
      "Epoch 30/500\n",
      "9/9 [==============================] - 0s 8ms/step - loss: 1.6666e-04 - mae: 0.0101 - val_loss: 1.5776e-04 - val_mae: 0.0103\n",
      "Epoch 31/500\n",
      "9/9 [==============================] - 0s 7ms/step - loss: 1.4657e-04 - mae: 0.0097 - val_loss: 1.4162e-04 - val_mae: 0.0100\n",
      "Epoch 32/500\n",
      "9/9 [==============================] - 0s 7ms/step - loss: 1.5274e-04 - mae: 0.0098 - val_loss: 1.4898e-04 - val_mae: 0.0100\n",
      "Epoch 33/500\n",
      "9/9 [==============================] - 0s 6ms/step - loss: 1.3261e-04 - mae: 0.0092 - val_loss: 1.3223e-04 - val_mae: 0.0094\n",
      "Epoch 34/500\n",
      "9/9 [==============================] - 0s 7ms/step - loss: 1.2641e-04 - mae: 0.0089 - val_loss: 1.4383e-04 - val_mae: 0.0097\n",
      "Epoch 35/500\n",
      "9/9 [==============================] - 0s 6ms/step - loss: 1.2810e-04 - mae: 0.0092 - val_loss: 1.1887e-04 - val_mae: 0.0091\n",
      "Epoch 36/500\n",
      "9/9 [==============================] - 0s 6ms/step - loss: 1.1656e-04 - mae: 0.0086 - val_loss: 1.1965e-04 - val_mae: 0.0088\n",
      "Epoch 37/500\n",
      "9/9 [==============================] - 0s 6ms/step - loss: 1.1096e-04 - mae: 0.0083 - val_loss: 1.1185e-04 - val_mae: 0.0087\n",
      "Epoch 38/500\n",
      "9/9 [==============================] - 0s 10ms/step - loss: 1.1114e-04 - mae: 0.0084 - val_loss: 1.1300e-04 - val_mae: 0.0090\n",
      "Epoch 39/500\n",
      "9/9 [==============================] - 0s 7ms/step - loss: 1.0468e-04 - mae: 0.0083 - val_loss: 1.0708e-04 - val_mae: 0.0085\n",
      "Epoch 40/500\n",
      "9/9 [==============================] - 0s 7ms/step - loss: 1.0152e-04 - mae: 0.0081 - val_loss: 9.7381e-05 - val_mae: 0.0081\n",
      "Epoch 41/500\n",
      "9/9 [==============================] - 0s 6ms/step - loss: 9.5443e-05 - mae: 0.0077 - val_loss: 9.7827e-05 - val_mae: 0.0082\n",
      "Epoch 42/500\n",
      "9/9 [==============================] - 0s 8ms/step - loss: 8.9325e-05 - mae: 0.0076 - val_loss: 9.0589e-05 - val_mae: 0.0079\n",
      "Epoch 43/500\n",
      "9/9 [==============================] - 0s 7ms/step - loss: 8.4685e-05 - mae: 0.0074 - val_loss: 9.1922e-05 - val_mae: 0.0079\n",
      "Epoch 44/500\n",
      "9/9 [==============================] - 0s 9ms/step - loss: 8.2102e-05 - mae: 0.0073 - val_loss: 8.3392e-05 - val_mae: 0.0076\n",
      "Epoch 45/500\n",
      "9/9 [==============================] - 0s 6ms/step - loss: 7.8772e-05 - mae: 0.0071 - val_loss: 8.1686e-05 - val_mae: 0.0075\n",
      "Epoch 46/500\n",
      "9/9 [==============================] - 0s 8ms/step - loss: 7.7136e-05 - mae: 0.0071 - val_loss: 8.5049e-05 - val_mae: 0.0077\n",
      "Epoch 47/500\n",
      "9/9 [==============================] - 0s 7ms/step - loss: 7.4459e-05 - mae: 0.0070 - val_loss: 7.9053e-05 - val_mae: 0.0074\n",
      "Epoch 48/500\n",
      "9/9 [==============================] - 0s 7ms/step - loss: 6.9735e-05 - mae: 0.0068 - val_loss: 7.2402e-05 - val_mae: 0.0071\n",
      "Epoch 49/500\n",
      "9/9 [==============================] - 0s 5ms/step - loss: 6.6400e-05 - mae: 0.0066 - val_loss: 7.3598e-05 - val_mae: 0.0071\n",
      "Epoch 50/500\n",
      "9/9 [==============================] - 0s 6ms/step - loss: 6.4812e-05 - mae: 0.0066 - val_loss: 6.3783e-05 - val_mae: 0.0067\n",
      "Epoch 51/500\n",
      "9/9 [==============================] - 0s 6ms/step - loss: 6.3943e-05 - mae: 0.0065 - val_loss: 6.8893e-05 - val_mae: 0.0069\n",
      "Epoch 52/500\n",
      "9/9 [==============================] - 0s 7ms/step - loss: 6.1378e-05 - mae: 0.0063 - val_loss: 5.8439e-05 - val_mae: 0.0063\n",
      "Epoch 53/500\n",
      "9/9 [==============================] - 0s 7ms/step - loss: 5.7898e-05 - mae: 0.0062 - val_loss: 5.7833e-05 - val_mae: 0.0064\n",
      "Epoch 54/500\n",
      "9/9 [==============================] - 0s 6ms/step - loss: 5.5430e-05 - mae: 0.0060 - val_loss: 6.4559e-05 - val_mae: 0.0067\n",
      "Epoch 55/500\n",
      "9/9 [==============================] - 0s 7ms/step - loss: 5.8046e-05 - mae: 0.0063 - val_loss: 6.0630e-05 - val_mae: 0.0062\n",
      "Epoch 56/500\n",
      "9/9 [==============================] - 0s 6ms/step - loss: 6.2624e-05 - mae: 0.0061 - val_loss: 7.5154e-05 - val_mae: 0.0072\n",
      "Epoch 57/500\n",
      "9/9 [==============================] - 0s 6ms/step - loss: 5.6923e-05 - mae: 0.0062 - val_loss: 5.0042e-05 - val_mae: 0.0057\n",
      "Epoch 58/500\n",
      "9/9 [==============================] - 0s 7ms/step - loss: 4.8719e-05 - mae: 0.0056 - val_loss: 5.9460e-05 - val_mae: 0.0064\n",
      "Epoch 59/500\n",
      "9/9 [==============================] - 0s 7ms/step - loss: 4.8894e-05 - mae: 0.0057 - val_loss: 4.1853e-05 - val_mae: 0.0054\n",
      "Epoch 60/500\n",
      "9/9 [==============================] - 0s 7ms/step - loss: 4.5941e-05 - mae: 0.0055 - val_loss: 4.1694e-05 - val_mae: 0.0053\n",
      "Epoch 61/500\n",
      "9/9 [==============================] - 0s 6ms/step - loss: 4.1938e-05 - mae: 0.0052 - val_loss: 4.7497e-05 - val_mae: 0.0057\n",
      "Epoch 62/500\n",
      "9/9 [==============================] - 0s 6ms/step - loss: 4.1049e-05 - mae: 0.0052 - val_loss: 3.9377e-05 - val_mae: 0.0050\n",
      "Epoch 63/500\n",
      "9/9 [==============================] - 0s 6ms/step - loss: 4.3409e-05 - mae: 0.0054 - val_loss: 3.5057e-05 - val_mae: 0.0050\n",
      "Epoch 64/500\n",
      "9/9 [==============================] - 0s 7ms/step - loss: 3.6429e-05 - mae: 0.0049 - val_loss: 3.4209e-05 - val_mae: 0.0049\n",
      "Epoch 65/500\n",
      "9/9 [==============================] - 0s 6ms/step - loss: 3.5585e-05 - mae: 0.0049 - val_loss: 3.3218e-05 - val_mae: 0.0048\n",
      "Epoch 66/500\n",
      "9/9 [==============================] - 0s 7ms/step - loss: 3.3409e-05 - mae: 0.0048 - val_loss: 3.1092e-05 - val_mae: 0.0045\n",
      "Epoch 67/500\n",
      "9/9 [==============================] - 0s 7ms/step - loss: 3.4945e-05 - mae: 0.0048 - val_loss: 3.4347e-05 - val_mae: 0.0050\n",
      "Epoch 68/500\n",
      "9/9 [==============================] - 0s 6ms/step - loss: 3.1941e-05 - mae: 0.0046 - val_loss: 3.0454e-05 - val_mae: 0.0045\n",
      "Epoch 69/500\n",
      "9/9 [==============================] - 0s 6ms/step - loss: 3.1019e-05 - mae: 0.0046 - val_loss: 2.7647e-05 - val_mae: 0.0044\n",
      "Epoch 70/500\n",
      "9/9 [==============================] - 0s 6ms/step - loss: 2.9856e-05 - mae: 0.0044 - val_loss: 3.5071e-05 - val_mae: 0.0051\n",
      "Epoch 71/500\n",
      "9/9 [==============================] - 0s 6ms/step - loss: 3.2256e-05 - mae: 0.0047 - val_loss: 2.6761e-05 - val_mae: 0.0040\n",
      "Epoch 72/500\n",
      "9/9 [==============================] - 0s 6ms/step - loss: 3.0041e-05 - mae: 0.0045 - val_loss: 2.6764e-05 - val_mae: 0.0044\n",
      "Epoch 73/500\n",
      "9/9 [==============================] - 0s 6ms/step - loss: 2.7019e-05 - mae: 0.0043 - val_loss: 2.6437e-05 - val_mae: 0.0043\n",
      "Epoch 74/500\n",
      "9/9 [==============================] - 0s 7ms/step - loss: 2.8434e-05 - mae: 0.0044 - val_loss: 2.3009e-05 - val_mae: 0.0039\n",
      "Epoch 75/500\n",
      "9/9 [==============================] - 0s 6ms/step - loss: 2.7943e-05 - mae: 0.0044 - val_loss: 2.4751e-05 - val_mae: 0.0039\n",
      "Epoch 76/500\n",
      "9/9 [==============================] - 0s 7ms/step - loss: 2.7506e-05 - mae: 0.0042 - val_loss: 2.3233e-05 - val_mae: 0.0039\n",
      "Epoch 77/500\n",
      "9/9 [==============================] - 0s 7ms/step - loss: 2.4325e-05 - mae: 0.0041 - val_loss: 2.2447e-05 - val_mae: 0.0040\n",
      "Epoch 78/500\n",
      "9/9 [==============================] - 0s 6ms/step - loss: 2.3247e-05 - mae: 0.0041 - val_loss: 2.0042e-05 - val_mae: 0.0036\n",
      "Epoch 79/500\n",
      "9/9 [==============================] - 0s 7ms/step - loss: 2.2756e-05 - mae: 0.0040 - val_loss: 2.1522e-05 - val_mae: 0.0038\n",
      "Epoch 80/500\n",
      "9/9 [==============================] - 0s 6ms/step - loss: 2.2539e-05 - mae: 0.0039 - val_loss: 2.0614e-05 - val_mae: 0.0037\n",
      "Epoch 81/500\n",
      "9/9 [==============================] - 0s 7ms/step - loss: 2.2910e-05 - mae: 0.0039 - val_loss: 1.9517e-05 - val_mae: 0.0036\n",
      "Epoch 82/500\n",
      "9/9 [==============================] - 0s 6ms/step - loss: 2.1371e-05 - mae: 0.0039 - val_loss: 1.9236e-05 - val_mae: 0.0036\n",
      "Epoch 83/500\n",
      "9/9 [==============================] - 0s 7ms/step - loss: 2.0384e-05 - mae: 0.0037 - val_loss: 1.9319e-05 - val_mae: 0.0037\n",
      "Epoch 84/500\n",
      "9/9 [==============================] - 0s 6ms/step - loss: 2.0723e-05 - mae: 0.0038 - val_loss: 1.7998e-05 - val_mae: 0.0034\n",
      "Epoch 85/500\n",
      "9/9 [==============================] - 0s 6ms/step - loss: 2.2040e-05 - mae: 0.0040 - val_loss: 1.9600e-05 - val_mae: 0.0034\n",
      "Epoch 86/500\n",
      "9/9 [==============================] - 0s 7ms/step - loss: 2.0878e-05 - mae: 0.0038 - val_loss: 1.7679e-05 - val_mae: 0.0035\n",
      "Epoch 87/500\n",
      "9/9 [==============================] - 0s 6ms/step - loss: 2.0261e-05 - mae: 0.0037 - val_loss: 1.8591e-05 - val_mae: 0.0037\n",
      "Epoch 88/500\n",
      "9/9 [==============================] - 0s 8ms/step - loss: 1.9612e-05 - mae: 0.0037 - val_loss: 1.7171e-05 - val_mae: 0.0032\n",
      "Epoch 89/500\n",
      "9/9 [==============================] - 0s 7ms/step - loss: 2.0018e-05 - mae: 0.0037 - val_loss: 1.6788e-05 - val_mae: 0.0032\n",
      "Epoch 90/500\n",
      "9/9 [==============================] - 0s 6ms/step - loss: 2.1498e-05 - mae: 0.0038 - val_loss: 1.9068e-05 - val_mae: 0.0038\n",
      "Epoch 91/500\n",
      "9/9 [==============================] - 0s 6ms/step - loss: 2.0025e-05 - mae: 0.0036 - val_loss: 1.6923e-05 - val_mae: 0.0035\n",
      "Epoch 92/500\n",
      "9/9 [==============================] - 0s 10ms/step - loss: 1.7247e-05 - mae: 0.0035 - val_loss: 1.5147e-05 - val_mae: 0.0030\n",
      "Epoch 93/500\n",
      "9/9 [==============================] - 0s 7ms/step - loss: 1.7288e-05 - mae: 0.0034 - val_loss: 1.4897e-05 - val_mae: 0.0032\n",
      "Epoch 94/500\n",
      "9/9 [==============================] - 0s 6ms/step - loss: 1.6952e-05 - mae: 0.0034 - val_loss: 1.5349e-05 - val_mae: 0.0032\n",
      "Epoch 95/500\n",
      "9/9 [==============================] - 0s 6ms/step - loss: 1.7289e-05 - mae: 0.0035 - val_loss: 1.4364e-05 - val_mae: 0.0029\n",
      "Epoch 96/500\n",
      "9/9 [==============================] - 0s 7ms/step - loss: 1.6752e-05 - mae: 0.0034 - val_loss: 1.7046e-05 - val_mae: 0.0035\n",
      "Epoch 97/500\n",
      "9/9 [==============================] - 0s 7ms/step - loss: 1.7527e-05 - mae: 0.0035 - val_loss: 1.7691e-05 - val_mae: 0.0036\n",
      "Epoch 98/500\n",
      "9/9 [==============================] - 0s 6ms/step - loss: 2.0295e-05 - mae: 0.0037 - val_loss: 1.4250e-05 - val_mae: 0.0030\n",
      "Epoch 99/500\n",
      "9/9 [==============================] - 0s 6ms/step - loss: 1.7837e-05 - mae: 0.0035 - val_loss: 1.4762e-05 - val_mae: 0.0030\n",
      "Epoch 100/500\n",
      "9/9 [==============================] - 0s 6ms/step - loss: 1.9362e-05 - mae: 0.0037 - val_loss: 1.2974e-05 - val_mae: 0.0030\n",
      "Epoch 101/500\n",
      "9/9 [==============================] - 0s 6ms/step - loss: 1.7457e-05 - mae: 0.0034 - val_loss: 1.8026e-05 - val_mae: 0.0037\n",
      "Epoch 102/500\n",
      "9/9 [==============================] - 0s 6ms/step - loss: 1.5972e-05 - mae: 0.0033 - val_loss: 1.2975e-05 - val_mae: 0.0028\n",
      "Epoch 103/500\n",
      "9/9 [==============================] - 0s 7ms/step - loss: 1.6358e-05 - mae: 0.0034 - val_loss: 1.3029e-05 - val_mae: 0.0030\n",
      "Epoch 104/500\n",
      "9/9 [==============================] - 0s 8ms/step - loss: 1.6204e-05 - mae: 0.0034 - val_loss: 1.2159e-05 - val_mae: 0.0028\n",
      "Epoch 105/500\n",
      "9/9 [==============================] - 0s 6ms/step - loss: 1.6023e-05 - mae: 0.0033 - val_loss: 1.4108e-05 - val_mae: 0.0030\n",
      "Epoch 106/500\n",
      "9/9 [==============================] - 0s 6ms/step - loss: 1.6080e-05 - mae: 0.0033 - val_loss: 1.5627e-05 - val_mae: 0.0034\n",
      "Epoch 107/500\n",
      "9/9 [==============================] - 0s 7ms/step - loss: 1.6414e-05 - mae: 0.0034 - val_loss: 1.2106e-05 - val_mae: 0.0027\n",
      "Epoch 108/500\n",
      "9/9 [==============================] - 0s 7ms/step - loss: 1.4862e-05 - mae: 0.0032 - val_loss: 1.2247e-05 - val_mae: 0.0029\n",
      "Epoch 109/500\n",
      "9/9 [==============================] - 0s 7ms/step - loss: 1.5331e-05 - mae: 0.0032 - val_loss: 1.2855e-05 - val_mae: 0.0030\n",
      "Epoch 110/500\n",
      "9/9 [==============================] - 0s 6ms/step - loss: 1.5295e-05 - mae: 0.0032 - val_loss: 1.5735e-05 - val_mae: 0.0034\n",
      "Epoch 111/500\n",
      "9/9 [==============================] - 0s 7ms/step - loss: 1.6909e-05 - mae: 0.0034 - val_loss: 1.3491e-05 - val_mae: 0.0030\n",
      "Epoch 112/500\n",
      "9/9 [==============================] - 0s 6ms/step - loss: 1.8779e-05 - mae: 0.0035 - val_loss: 1.2895e-05 - val_mae: 0.0028\n",
      "Epoch 113/500\n",
      "9/9 [==============================] - 0s 7ms/step - loss: 1.6935e-05 - mae: 0.0034 - val_loss: 1.3781e-05 - val_mae: 0.0029\n",
      "Epoch 114/500\n",
      "9/9 [==============================] - 0s 5ms/step - loss: 1.5857e-05 - mae: 0.0033 - val_loss: 1.2938e-05 - val_mae: 0.0030\n",
      "Epoch 115/500\n",
      "9/9 [==============================] - 0s 4ms/step - loss: 1.3821e-05 - mae: 0.0031 - val_loss: 1.2011e-05 - val_mae: 0.0029\n",
      "Epoch 116/500\n",
      "9/9 [==============================] - 0s 4ms/step - loss: 1.4265e-05 - mae: 0.0032 - val_loss: 1.3634e-05 - val_mae: 0.0028\n",
      "Epoch 117/500\n",
      "9/9 [==============================] - 0s 4ms/step - loss: 1.5905e-05 - mae: 0.0032 - val_loss: 1.4612e-05 - val_mae: 0.0029\n",
      "Epoch 118/500\n",
      "9/9 [==============================] - 0s 4ms/step - loss: 1.7457e-05 - mae: 0.0034 - val_loss: 1.2687e-05 - val_mae: 0.0030\n",
      "Epoch 119/500\n",
      "9/9 [==============================] - 0s 4ms/step - loss: 1.5355e-05 - mae: 0.0032 - val_loss: 1.3414e-05 - val_mae: 0.0031\n",
      "Epoch 120/500\n",
      "9/9 [==============================] - 0s 4ms/step - loss: 1.4750e-05 - mae: 0.0031 - val_loss: 1.5925e-05 - val_mae: 0.0034\n",
      "Epoch 121/500\n",
      "9/9 [==============================] - 0s 4ms/step - loss: 1.5020e-05 - mae: 0.0032 - val_loss: 1.2366e-05 - val_mae: 0.0027\n",
      "Epoch 122/500\n",
      "9/9 [==============================] - 0s 4ms/step - loss: 1.4684e-05 - mae: 0.0032 - val_loss: 1.3233e-05 - val_mae: 0.0027\n",
      "Epoch 123/500\n",
      "9/9 [==============================] - 0s 4ms/step - loss: 1.4974e-05 - mae: 0.0032 - val_loss: 1.1200e-05 - val_mae: 0.0026\n",
      "Epoch 124/500\n",
      "9/9 [==============================] - 0s 6ms/step - loss: 1.4736e-05 - mae: 0.0031 - val_loss: 1.5410e-05 - val_mae: 0.0034\n",
      "Epoch 125/500\n",
      "9/9 [==============================] - 0s 6ms/step - loss: 1.4361e-05 - mae: 0.0031 - val_loss: 1.1333e-05 - val_mae: 0.0026\n",
      "Epoch 126/500\n",
      "9/9 [==============================] - 0s 7ms/step - loss: 1.4134e-05 - mae: 0.0031 - val_loss: 1.2044e-05 - val_mae: 0.0027\n",
      "Epoch 127/500\n",
      "9/9 [==============================] - 0s 5ms/step - loss: 1.4250e-05 - mae: 0.0031 - val_loss: 1.1724e-05 - val_mae: 0.0026\n",
      "Epoch 128/500\n",
      "9/9 [==============================] - 0s 5ms/step - loss: 1.7292e-05 - mae: 0.0034 - val_loss: 1.1097e-05 - val_mae: 0.0028\n",
      "Epoch 129/500\n",
      "9/9 [==============================] - 0s 5ms/step - loss: 1.5630e-05 - mae: 0.0032 - val_loss: 1.3558e-05 - val_mae: 0.0032\n",
      "Epoch 130/500\n",
      "9/9 [==============================] - 0s 5ms/step - loss: 1.4272e-05 - mae: 0.0031 - val_loss: 1.1986e-05 - val_mae: 0.0028\n",
      "Epoch 131/500\n",
      "9/9 [==============================] - 0s 5ms/step - loss: 1.2928e-05 - mae: 0.0030 - val_loss: 1.0687e-05 - val_mae: 0.0026\n",
      "Epoch 132/500\n",
      "9/9 [==============================] - 0s 5ms/step - loss: 1.2832e-05 - mae: 0.0030 - val_loss: 1.0678e-05 - val_mae: 0.0026\n",
      "Epoch 133/500\n",
      "9/9 [==============================] - 0s 5ms/step - loss: 1.3597e-05 - mae: 0.0030 - val_loss: 1.1238e-05 - val_mae: 0.0027\n",
      "Epoch 134/500\n",
      "9/9 [==============================] - 0s 5ms/step - loss: 1.3800e-05 - mae: 0.0030 - val_loss: 1.2197e-05 - val_mae: 0.0029\n",
      "Epoch 135/500\n",
      "9/9 [==============================] - 0s 5ms/step - loss: 1.2671e-05 - mae: 0.0029 - val_loss: 1.4675e-05 - val_mae: 0.0033\n",
      "Epoch 136/500\n",
      "9/9 [==============================] - 0s 5ms/step - loss: 1.5479e-05 - mae: 0.0032 - val_loss: 1.0363e-05 - val_mae: 0.0026\n",
      "Epoch 137/500\n",
      "9/9 [==============================] - 0s 6ms/step - loss: 1.3160e-05 - mae: 0.0030 - val_loss: 1.0058e-05 - val_mae: 0.0026\n",
      "Epoch 138/500\n",
      "9/9 [==============================] - 0s 6ms/step - loss: 1.3072e-05 - mae: 0.0029 - val_loss: 1.1232e-05 - val_mae: 0.0028\n",
      "Epoch 139/500\n",
      "9/9 [==============================] - 0s 8ms/step - loss: 1.2074e-05 - mae: 0.0029 - val_loss: 1.0957e-05 - val_mae: 0.0027\n",
      "Epoch 140/500\n",
      "9/9 [==============================] - 0s 5ms/step - loss: 1.2063e-05 - mae: 0.0029 - val_loss: 1.1761e-05 - val_mae: 0.0025\n",
      "Epoch 141/500\n",
      "9/9 [==============================] - 0s 6ms/step - loss: 1.3383e-05 - mae: 0.0030 - val_loss: 1.0238e-05 - val_mae: 0.0027\n",
      "Epoch 142/500\n",
      "9/9 [==============================] - 0s 5ms/step - loss: 1.2174e-05 - mae: 0.0029 - val_loss: 1.0758e-05 - val_mae: 0.0026\n",
      "Epoch 143/500\n",
      "9/9 [==============================] - 0s 6ms/step - loss: 1.3921e-05 - mae: 0.0030 - val_loss: 1.3809e-05 - val_mae: 0.0032\n",
      "Epoch 144/500\n",
      "9/9 [==============================] - 0s 5ms/step - loss: 1.5650e-05 - mae: 0.0033 - val_loss: 1.0493e-05 - val_mae: 0.0027\n",
      "Epoch 145/500\n",
      "9/9 [==============================] - 0s 5ms/step - loss: 1.5649e-05 - mae: 0.0032 - val_loss: 9.4345e-06 - val_mae: 0.0024\n",
      "Epoch 146/500\n",
      "9/9 [==============================] - 0s 5ms/step - loss: 1.3218e-05 - mae: 0.0030 - val_loss: 1.0132e-05 - val_mae: 0.0025\n",
      "Epoch 147/500\n",
      "9/9 [==============================] - 0s 5ms/step - loss: 1.3306e-05 - mae: 0.0030 - val_loss: 1.2445e-05 - val_mae: 0.0030\n",
      "Epoch 148/500\n",
      "9/9 [==============================] - 0s 6ms/step - loss: 1.7209e-05 - mae: 0.0034 - val_loss: 1.6979e-05 - val_mae: 0.0036\n",
      "Epoch 149/500\n",
      "9/9 [==============================] - 0s 6ms/step - loss: 2.3264e-05 - mae: 0.0039 - val_loss: 1.2894e-05 - val_mae: 0.0026\n",
      "Epoch 150/500\n",
      "9/9 [==============================] - 0s 5ms/step - loss: 1.6919e-05 - mae: 0.0033 - val_loss: 9.9592e-06 - val_mae: 0.0026\n",
      "Epoch 151/500\n",
      "9/9 [==============================] - 0s 6ms/step - loss: 2.0978e-05 - mae: 0.0036 - val_loss: 1.1197e-05 - val_mae: 0.0026\n",
      "Epoch 152/500\n",
      "9/9 [==============================] - 0s 6ms/step - loss: 2.0764e-05 - mae: 0.0036 - val_loss: 1.2726e-05 - val_mae: 0.0028\n",
      "Epoch 153/500\n",
      "9/9 [==============================] - 0s 6ms/step - loss: 1.7205e-05 - mae: 0.0033 - val_loss: 1.0993e-05 - val_mae: 0.0026\n",
      "Epoch 154/500\n",
      "9/9 [==============================] - 0s 6ms/step - loss: 1.4619e-05 - mae: 0.0031 - val_loss: 1.0824e-05 - val_mae: 0.0027\n",
      "Epoch 155/500\n",
      "9/9 [==============================] - 0s 5ms/step - loss: 1.3321e-05 - mae: 0.0029 - val_loss: 1.0131e-05 - val_mae: 0.0026\n",
      "Epoch 156/500\n",
      "9/9 [==============================] - 0s 5ms/step - loss: 1.2095e-05 - mae: 0.0029 - val_loss: 9.6853e-06 - val_mae: 0.0025\n",
      "Epoch 157/500\n",
      "9/9 [==============================] - 0s 6ms/step - loss: 1.1617e-05 - mae: 0.0028 - val_loss: 1.0640e-05 - val_mae: 0.0028\n",
      "Epoch 158/500\n",
      "9/9 [==============================] - 0s 5ms/step - loss: 1.1794e-05 - mae: 0.0028 - val_loss: 9.6014e-06 - val_mae: 0.0023\n",
      "Epoch 159/500\n",
      "9/9 [==============================] - 0s 6ms/step - loss: 1.1186e-05 - mae: 0.0028 - val_loss: 1.0211e-05 - val_mae: 0.0026\n",
      "Epoch 160/500\n",
      "9/9 [==============================] - 0s 6ms/step - loss: 1.0551e-05 - mae: 0.0027 - val_loss: 8.9423e-06 - val_mae: 0.0024\n",
      "Epoch 161/500\n",
      "9/9 [==============================] - 0s 6ms/step - loss: 1.1212e-05 - mae: 0.0028 - val_loss: 8.9334e-06 - val_mae: 0.0025\n",
      "Epoch 162/500\n",
      "9/9 [==============================] - 0s 12ms/step - loss: 1.0750e-05 - mae: 0.0027 - val_loss: 1.3654e-05 - val_mae: 0.0027\n",
      "Epoch 163/500\n",
      "9/9 [==============================] - 0s 6ms/step - loss: 1.4631e-05 - mae: 0.0032 - val_loss: 1.7569e-05 - val_mae: 0.0032\n",
      "Epoch 164/500\n",
      "9/9 [==============================] - 0s 6ms/step - loss: 1.7814e-05 - mae: 0.0034 - val_loss: 9.6716e-06 - val_mae: 0.0026\n",
      "Epoch 165/500\n",
      "9/9 [==============================] - 0s 7ms/step - loss: 1.0933e-05 - mae: 0.0027 - val_loss: 8.8954e-06 - val_mae: 0.0025\n",
      "Epoch 166/500\n",
      "9/9 [==============================] - 0s 6ms/step - loss: 1.2085e-05 - mae: 0.0028 - val_loss: 9.2956e-06 - val_mae: 0.0024\n",
      "Epoch 167/500\n",
      "9/9 [==============================] - 0s 6ms/step - loss: 1.1955e-05 - mae: 0.0028 - val_loss: 1.0309e-05 - val_mae: 0.0027\n",
      "Epoch 168/500\n",
      "9/9 [==============================] - 0s 6ms/step - loss: 1.0770e-05 - mae: 0.0027 - val_loss: 8.8276e-06 - val_mae: 0.0023\n",
      "Epoch 169/500\n",
      "9/9 [==============================] - 0s 5ms/step - loss: 1.2372e-05 - mae: 0.0029 - val_loss: 1.0665e-05 - val_mae: 0.0023\n",
      "Epoch 170/500\n",
      "9/9 [==============================] - 0s 6ms/step - loss: 1.4287e-05 - mae: 0.0031 - val_loss: 8.3651e-06 - val_mae: 0.0023\n",
      "Epoch 171/500\n",
      "9/9 [==============================] - 0s 5ms/step - loss: 1.0692e-05 - mae: 0.0027 - val_loss: 9.1910e-06 - val_mae: 0.0024\n",
      "Epoch 172/500\n",
      "9/9 [==============================] - 0s 6ms/step - loss: 1.2324e-05 - mae: 0.0028 - val_loss: 9.6440e-06 - val_mae: 0.0026\n",
      "Epoch 173/500\n",
      "9/9 [==============================] - 0s 5ms/step - loss: 1.0399e-05 - mae: 0.0026 - val_loss: 9.6017e-06 - val_mae: 0.0026\n",
      "Epoch 174/500\n",
      "9/9 [==============================] - 0s 5ms/step - loss: 1.1672e-05 - mae: 0.0028 - val_loss: 9.1757e-06 - val_mae: 0.0024\n",
      "Epoch 175/500\n",
      "9/9 [==============================] - 0s 5ms/step - loss: 9.5282e-06 - mae: 0.0025 - val_loss: 9.2679e-06 - val_mae: 0.0025\n",
      "Epoch 176/500\n",
      "9/9 [==============================] - 0s 5ms/step - loss: 9.7949e-06 - mae: 0.0026 - val_loss: 8.7108e-06 - val_mae: 0.0023\n",
      "Epoch 177/500\n",
      "9/9 [==============================] - 0s 6ms/step - loss: 9.8131e-06 - mae: 0.0026 - val_loss: 8.2934e-06 - val_mae: 0.0023\n",
      "Epoch 178/500\n",
      "9/9 [==============================] - 0s 6ms/step - loss: 9.4376e-06 - mae: 0.0025 - val_loss: 8.1522e-06 - val_mae: 0.0024\n",
      "Epoch 179/500\n",
      "9/9 [==============================] - 0s 5ms/step - loss: 9.3490e-06 - mae: 0.0025 - val_loss: 1.5319e-05 - val_mae: 0.0034\n",
      "Epoch 180/500\n",
      "9/9 [==============================] - 0s 6ms/step - loss: 1.4590e-05 - mae: 0.0031 - val_loss: 1.4072e-05 - val_mae: 0.0032\n",
      "Epoch 181/500\n",
      "9/9 [==============================] - 0s 5ms/step - loss: 1.2131e-05 - mae: 0.0028 - val_loss: 9.3127e-06 - val_mae: 0.0026\n",
      "Epoch 182/500\n",
      "9/9 [==============================] - 0s 5ms/step - loss: 9.9041e-06 - mae: 0.0026 - val_loss: 1.1129e-05 - val_mae: 0.0029\n",
      "Epoch 183/500\n",
      "9/9 [==============================] - 0s 5ms/step - loss: 1.0480e-05 - mae: 0.0026 - val_loss: 9.7716e-06 - val_mae: 0.0026\n",
      "Epoch 184/500\n",
      "9/9 [==============================] - 0s 6ms/step - loss: 1.2548e-05 - mae: 0.0029 - val_loss: 1.3450e-05 - val_mae: 0.0032\n",
      "Epoch 185/500\n",
      "9/9 [==============================] - 0s 5ms/step - loss: 1.4165e-05 - mae: 0.0030 - val_loss: 1.7794e-05 - val_mae: 0.0037\n",
      "Epoch 186/500\n",
      "9/9 [==============================] - 0s 5ms/step - loss: 1.4498e-05 - mae: 0.0032 - val_loss: 7.4131e-06 - val_mae: 0.0022\n",
      "Epoch 187/500\n",
      "9/9 [==============================] - 0s 6ms/step - loss: 9.0823e-06 - mae: 0.0025 - val_loss: 8.6338e-06 - val_mae: 0.0023\n",
      "Epoch 188/500\n",
      "9/9 [==============================] - 0s 5ms/step - loss: 8.8752e-06 - mae: 0.0025 - val_loss: 7.6751e-06 - val_mae: 0.0021\n",
      "Epoch 189/500\n",
      "9/9 [==============================] - 0s 6ms/step - loss: 9.6647e-06 - mae: 0.0026 - val_loss: 8.6886e-06 - val_mae: 0.0022\n",
      "Epoch 190/500\n",
      "9/9 [==============================] - 0s 6ms/step - loss: 9.3156e-06 - mae: 0.0025 - val_loss: 8.1589e-06 - val_mae: 0.0021\n",
      "Epoch 191/500\n",
      "9/9 [==============================] - 0s 5ms/step - loss: 8.8043e-06 - mae: 0.0024 - val_loss: 7.7779e-06 - val_mae: 0.0022\n",
      "Epoch 192/500\n",
      "9/9 [==============================] - 0s 5ms/step - loss: 8.6674e-06 - mae: 0.0024 - val_loss: 9.1896e-06 - val_mae: 0.0025\n",
      "Epoch 193/500\n",
      "9/9 [==============================] - 0s 6ms/step - loss: 8.3039e-06 - mae: 0.0024 - val_loss: 7.2536e-06 - val_mae: 0.0022\n",
      "Epoch 194/500\n",
      "9/9 [==============================] - 0s 4ms/step - loss: 8.3415e-06 - mae: 0.0024 - val_loss: 8.3570e-06 - val_mae: 0.0024\n",
      "Epoch 195/500\n",
      "9/9 [==============================] - 0s 6ms/step - loss: 9.1252e-06 - mae: 0.0025 - val_loss: 8.8623e-06 - val_mae: 0.0025\n",
      "Epoch 196/500\n",
      "9/9 [==============================] - 0s 5ms/step - loss: 9.3750e-06 - mae: 0.0025 - val_loss: 1.3860e-05 - val_mae: 0.0032\n",
      "Epoch 197/500\n",
      "9/9 [==============================] - 0s 6ms/step - loss: 1.0887e-05 - mae: 0.0027 - val_loss: 1.3861e-05 - val_mae: 0.0032\n",
      "Epoch 198/500\n",
      "9/9 [==============================] - 0s 5ms/step - loss: 1.0569e-05 - mae: 0.0027 - val_loss: 1.5351e-05 - val_mae: 0.0034\n",
      "Epoch 199/500\n",
      "9/9 [==============================] - 0s 5ms/step - loss: 1.1313e-05 - mae: 0.0027 - val_loss: 1.7830e-05 - val_mae: 0.0037\n",
      "Epoch 200/500\n",
      "9/9 [==============================] - 0s 5ms/step - loss: 1.0728e-05 - mae: 0.0027 - val_loss: 1.1918e-05 - val_mae: 0.0029\n",
      "Epoch 201/500\n",
      "9/9 [==============================] - 0s 5ms/step - loss: 1.0946e-05 - mae: 0.0027 - val_loss: 9.5374e-06 - val_mae: 0.0026\n",
      "Epoch 202/500\n",
      "9/9 [==============================] - 0s 5ms/step - loss: 9.3744e-06 - mae: 0.0025 - val_loss: 1.1244e-05 - val_mae: 0.0028\n",
      "Epoch 203/500\n",
      "9/9 [==============================] - 0s 5ms/step - loss: 9.4010e-06 - mae: 0.0025 - val_loss: 7.3604e-06 - val_mae: 0.0022\n",
      "Epoch 204/500\n",
      "9/9 [==============================] - 0s 5ms/step - loss: 7.9825e-06 - mae: 0.0023 - val_loss: 7.1672e-06 - val_mae: 0.0022\n",
      "Epoch 205/500\n",
      "9/9 [==============================] - 0s 5ms/step - loss: 8.1699e-06 - mae: 0.0023 - val_loss: 7.4641e-06 - val_mae: 0.0020\n",
      "Epoch 206/500\n",
      "9/9 [==============================] - 0s 5ms/step - loss: 7.9446e-06 - mae: 0.0023 - val_loss: 7.2376e-06 - val_mae: 0.0021\n",
      "Epoch 207/500\n",
      "9/9 [==============================] - 0s 10ms/step - loss: 7.6621e-06 - mae: 0.0023 - val_loss: 6.3867e-06 - val_mae: 0.0021\n",
      "Epoch 208/500\n",
      "9/9 [==============================] - 0s 5ms/step - loss: 8.1349e-06 - mae: 0.0023 - val_loss: 9.1963e-06 - val_mae: 0.0026\n",
      "Epoch 209/500\n",
      "9/9 [==============================] - 0s 5ms/step - loss: 7.9255e-06 - mae: 0.0023 - val_loss: 6.8975e-06 - val_mae: 0.0020\n",
      "Epoch 210/500\n",
      "9/9 [==============================] - 0s 6ms/step - loss: 7.9023e-06 - mae: 0.0023 - val_loss: 8.1511e-06 - val_mae: 0.0021\n",
      "Epoch 211/500\n",
      "9/9 [==============================] - 0s 5ms/step - loss: 8.4690e-06 - mae: 0.0024 - val_loss: 1.1370e-05 - val_mae: 0.0025\n",
      "Epoch 212/500\n",
      "9/9 [==============================] - 0s 5ms/step - loss: 1.1089e-05 - mae: 0.0027 - val_loss: 7.2638e-06 - val_mae: 0.0023\n",
      "Epoch 213/500\n",
      "9/9 [==============================] - 0s 7ms/step - loss: 1.1736e-05 - mae: 0.0027 - val_loss: 1.0774e-05 - val_mae: 0.0028\n",
      "Epoch 214/500\n",
      "9/9 [==============================] - 0s 4ms/step - loss: 8.4816e-06 - mae: 0.0024 - val_loss: 7.8489e-06 - val_mae: 0.0023\n",
      "Epoch 215/500\n",
      "9/9 [==============================] - 0s 5ms/step - loss: 1.0273e-05 - mae: 0.0026 - val_loss: 1.0585e-05 - val_mae: 0.0028\n",
      "Epoch 216/500\n",
      "9/9 [==============================] - 0s 5ms/step - loss: 1.0593e-05 - mae: 0.0026 - val_loss: 7.6628e-06 - val_mae: 0.0023\n",
      "Epoch 217/500\n",
      "9/9 [==============================] - 0s 5ms/step - loss: 7.7667e-06 - mae: 0.0023 - val_loss: 7.7589e-06 - val_mae: 0.0021\n",
      "Epoch 218/500\n",
      "9/9 [==============================] - 0s 5ms/step - loss: 7.8711e-06 - mae: 0.0023 - val_loss: 8.2079e-06 - val_mae: 0.0024\n",
      "Epoch 219/500\n",
      "9/9 [==============================] - 0s 5ms/step - loss: 9.3927e-06 - mae: 0.0024 - val_loss: 1.0276e-05 - val_mae: 0.0028\n",
      "Epoch 220/500\n",
      "9/9 [==============================] - 0s 5ms/step - loss: 9.4817e-06 - mae: 0.0025 - val_loss: 7.3164e-06 - val_mae: 0.0023\n",
      "Epoch 221/500\n",
      "9/9 [==============================] - 0s 4ms/step - loss: 8.1846e-06 - mae: 0.0023 - val_loss: 8.3729e-06 - val_mae: 0.0024\n",
      "Epoch 222/500\n",
      "9/9 [==============================] - 0s 5ms/step - loss: 8.4541e-06 - mae: 0.0024 - val_loss: 8.2280e-06 - val_mae: 0.0025\n",
      "Epoch 223/500\n",
      "9/9 [==============================] - 0s 5ms/step - loss: 7.7796e-06 - mae: 0.0023 - val_loss: 5.8706e-06 - val_mae: 0.0020\n",
      "Epoch 224/500\n",
      "9/9 [==============================] - 0s 5ms/step - loss: 7.5186e-06 - mae: 0.0023 - val_loss: 5.7589e-06 - val_mae: 0.0019\n",
      "Epoch 225/500\n",
      "9/9 [==============================] - 0s 5ms/step - loss: 6.8928e-06 - mae: 0.0022 - val_loss: 6.1718e-06 - val_mae: 0.0021\n",
      "Epoch 226/500\n",
      "9/9 [==============================] - 0s 4ms/step - loss: 6.7526e-06 - mae: 0.0022 - val_loss: 7.2960e-06 - val_mae: 0.0020\n",
      "Epoch 227/500\n",
      "9/9 [==============================] - 0s 5ms/step - loss: 8.1758e-06 - mae: 0.0023 - val_loss: 1.1574e-05 - val_mae: 0.0026\n",
      "Epoch 228/500\n",
      "9/9 [==============================] - 0s 5ms/step - loss: 1.0790e-05 - mae: 0.0027 - val_loss: 9.7022e-06 - val_mae: 0.0023\n",
      "Epoch 229/500\n",
      "9/9 [==============================] - 0s 5ms/step - loss: 8.8019e-06 - mae: 0.0024 - val_loss: 5.8300e-06 - val_mae: 0.0020\n",
      "Epoch 230/500\n",
      "9/9 [==============================] - 0s 5ms/step - loss: 6.6297e-06 - mae: 0.0021 - val_loss: 6.1750e-06 - val_mae: 0.0020\n",
      "Epoch 231/500\n",
      "9/9 [==============================] - 0s 5ms/step - loss: 6.4854e-06 - mae: 0.0021 - val_loss: 5.3426e-06 - val_mae: 0.0019\n",
      "Epoch 232/500\n",
      "9/9 [==============================] - 0s 5ms/step - loss: 6.2186e-06 - mae: 0.0021 - val_loss: 6.6946e-06 - val_mae: 0.0022\n",
      "Epoch 233/500\n",
      "9/9 [==============================] - 0s 5ms/step - loss: 8.1159e-06 - mae: 0.0023 - val_loss: 1.1770e-05 - val_mae: 0.0030\n",
      "Epoch 234/500\n",
      "9/9 [==============================] - 0s 5ms/step - loss: 7.6709e-06 - mae: 0.0023 - val_loss: 6.3754e-06 - val_mae: 0.0021\n",
      "Epoch 235/500\n",
      "9/9 [==============================] - 0s 4ms/step - loss: 1.0079e-05 - mae: 0.0026 - val_loss: 1.5223e-05 - val_mae: 0.0032\n",
      "Epoch 236/500\n",
      "9/9 [==============================] - 0s 5ms/step - loss: 1.9135e-05 - mae: 0.0035 - val_loss: 2.1643e-05 - val_mae: 0.0039\n",
      "Epoch 237/500\n",
      "9/9 [==============================] - 0s 5ms/step - loss: 1.5111e-05 - mae: 0.0032 - val_loss: 7.7169e-06 - val_mae: 0.0023\n",
      "Epoch 238/500\n",
      "9/9 [==============================] - 0s 5ms/step - loss: 1.0187e-05 - mae: 0.0026 - val_loss: 2.3229e-05 - val_mae: 0.0043\n",
      "Epoch 239/500\n",
      "9/9 [==============================] - 0s 9ms/step - loss: 1.3705e-05 - mae: 0.0031 - val_loss: 8.1278e-06 - val_mae: 0.0024\n",
      "Epoch 240/500\n",
      "9/9 [==============================] - 0s 5ms/step - loss: 9.6004e-06 - mae: 0.0025 - val_loss: 6.4019e-06 - val_mae: 0.0019\n",
      "Epoch 241/500\n",
      "9/9 [==============================] - 0s 5ms/step - loss: 6.9607e-06 - mae: 0.0021 - val_loss: 5.3314e-06 - val_mae: 0.0018\n",
      "Epoch 242/500\n",
      "9/9 [==============================] - 0s 6ms/step - loss: 6.0954e-06 - mae: 0.0020 - val_loss: 6.1056e-06 - val_mae: 0.0021\n",
      "Epoch 243/500\n",
      "9/9 [==============================] - 0s 5ms/step - loss: 7.4001e-06 - mae: 0.0022 - val_loss: 6.9299e-06 - val_mae: 0.0022\n",
      "Epoch 244/500\n",
      "9/9 [==============================] - 0s 7ms/step - loss: 5.9389e-06 - mae: 0.0020 - val_loss: 5.8823e-06 - val_mae: 0.0021\n",
      "Epoch 245/500\n",
      "9/9 [==============================] - 0s 5ms/step - loss: 8.0515e-06 - mae: 0.0023 - val_loss: 8.8049e-06 - val_mae: 0.0022\n",
      "Epoch 246/500\n",
      "9/9 [==============================] - 0s 5ms/step - loss: 7.0395e-06 - mae: 0.0021 - val_loss: 7.2167e-06 - val_mae: 0.0022\n",
      "Epoch 247/500\n",
      "9/9 [==============================] - 0s 5ms/step - loss: 6.3982e-06 - mae: 0.0021 - val_loss: 8.5704e-06 - val_mae: 0.0022\n",
      "Epoch 248/500\n",
      "9/9 [==============================] - 0s 5ms/step - loss: 6.9835e-06 - mae: 0.0021 - val_loss: 5.5771e-06 - val_mae: 0.0019\n",
      "Epoch 249/500\n",
      "9/9 [==============================] - 0s 5ms/step - loss: 6.0582e-06 - mae: 0.0020 - val_loss: 6.1547e-06 - val_mae: 0.0021\n",
      "Epoch 250/500\n",
      "9/9 [==============================] - 0s 5ms/step - loss: 5.9897e-06 - mae: 0.0020 - val_loss: 6.6808e-06 - val_mae: 0.0022\n",
      "Epoch 251/500\n",
      "9/9 [==============================] - 0s 5ms/step - loss: 6.6875e-06 - mae: 0.0021 - val_loss: 6.4753e-06 - val_mae: 0.0022\n",
      "Epoch 252/500\n",
      "9/9 [==============================] - 0s 5ms/step - loss: 5.7159e-06 - mae: 0.0020 - val_loss: 5.2284e-06 - val_mae: 0.0019\n",
      "Epoch 253/500\n",
      "9/9 [==============================] - 0s 5ms/step - loss: 6.5349e-06 - mae: 0.0021 - val_loss: 4.5374e-06 - val_mae: 0.0017\n",
      "Epoch 254/500\n",
      "9/9 [==============================] - 0s 5ms/step - loss: 6.1232e-06 - mae: 0.0020 - val_loss: 5.9030e-06 - val_mae: 0.0021\n",
      "Epoch 255/500\n",
      "9/9 [==============================] - 0s 5ms/step - loss: 6.2369e-06 - mae: 0.0021 - val_loss: 1.1926e-05 - val_mae: 0.0030\n",
      "Epoch 256/500\n",
      "9/9 [==============================] - 0s 5ms/step - loss: 7.0664e-06 - mae: 0.0022 - val_loss: 5.5797e-06 - val_mae: 0.0018\n",
      "Epoch 257/500\n",
      "9/9 [==============================] - 0s 5ms/step - loss: 7.0641e-06 - mae: 0.0022 - val_loss: 6.7681e-06 - val_mae: 0.0020\n",
      "Epoch 258/500\n",
      "9/9 [==============================] - 0s 5ms/step - loss: 7.0860e-06 - mae: 0.0022 - val_loss: 5.3109e-06 - val_mae: 0.0018\n",
      "Epoch 259/500\n",
      "9/9 [==============================] - 0s 5ms/step - loss: 6.7232e-06 - mae: 0.0021 - val_loss: 8.1102e-06 - val_mae: 0.0024\n",
      "Epoch 260/500\n",
      "9/9 [==============================] - 0s 5ms/step - loss: 7.0854e-06 - mae: 0.0022 - val_loss: 8.9249e-06 - val_mae: 0.0024\n",
      "Epoch 261/500\n",
      "9/9 [==============================] - 0s 5ms/step - loss: 7.0583e-06 - mae: 0.0021 - val_loss: 4.9153e-06 - val_mae: 0.0017\n",
      "Epoch 262/500\n",
      "9/9 [==============================] - 0s 5ms/step - loss: 5.6460e-06 - mae: 0.0019 - val_loss: 8.5594e-06 - val_mae: 0.0025\n",
      "Epoch 263/500\n",
      "9/9 [==============================] - 0s 5ms/step - loss: 7.4696e-06 - mae: 0.0022 - val_loss: 5.7397e-06 - val_mae: 0.0019\n",
      "Epoch 264/500\n",
      "9/9 [==============================] - 0s 5ms/step - loss: 6.8090e-06 - mae: 0.0021 - val_loss: 6.7376e-06 - val_mae: 0.0019\n",
      "Epoch 265/500\n",
      "9/9 [==============================] - 0s 4ms/step - loss: 6.5677e-06 - mae: 0.0021 - val_loss: 4.8919e-06 - val_mae: 0.0019\n",
      "Epoch 266/500\n",
      "9/9 [==============================] - 0s 5ms/step - loss: 5.7469e-06 - mae: 0.0020 - val_loss: 6.1869e-06 - val_mae: 0.0021\n",
      "Epoch 267/500\n",
      "9/9 [==============================] - 0s 5ms/step - loss: 5.4316e-06 - mae: 0.0019 - val_loss: 4.4501e-06 - val_mae: 0.0016\n",
      "Epoch 268/500\n",
      "9/9 [==============================] - 0s 5ms/step - loss: 4.7904e-06 - mae: 0.0018 - val_loss: 7.2317e-06 - val_mae: 0.0023\n",
      "Epoch 269/500\n",
      "9/9 [==============================] - 0s 7ms/step - loss: 7.0115e-06 - mae: 0.0021 - val_loss: 7.4287e-06 - val_mae: 0.0023\n",
      "Epoch 270/500\n",
      "9/9 [==============================] - 0s 6ms/step - loss: 5.8732e-06 - mae: 0.0019 - val_loss: 4.6391e-06 - val_mae: 0.0016\n",
      "Epoch 271/500\n",
      "9/9 [==============================] - 0s 5ms/step - loss: 6.7527e-06 - mae: 0.0021 - val_loss: 1.1886e-05 - val_mae: 0.0029\n",
      "Epoch 272/500\n",
      "9/9 [==============================] - 0s 5ms/step - loss: 8.6192e-06 - mae: 0.0024 - val_loss: 4.0820e-06 - val_mae: 0.0017\n",
      "Epoch 273/500\n",
      "9/9 [==============================] - 0s 6ms/step - loss: 5.1952e-06 - mae: 0.0019 - val_loss: 4.3657e-06 - val_mae: 0.0017\n",
      "Epoch 274/500\n",
      "9/9 [==============================] - 0s 7ms/step - loss: 5.1330e-06 - mae: 0.0019 - val_loss: 7.0902e-06 - val_mae: 0.0023\n",
      "Epoch 275/500\n",
      "9/9 [==============================] - 0s 4ms/step - loss: 6.9357e-06 - mae: 0.0021 - val_loss: 3.6051e-06 - val_mae: 0.0016\n",
      "Epoch 276/500\n",
      "9/9 [==============================] - 0s 5ms/step - loss: 6.0775e-06 - mae: 0.0020 - val_loss: 6.7677e-06 - val_mae: 0.0019\n",
      "Epoch 277/500\n",
      "9/9 [==============================] - 0s 5ms/step - loss: 6.4005e-06 - mae: 0.0020 - val_loss: 5.3719e-06 - val_mae: 0.0019\n",
      "Epoch 278/500\n",
      "9/9 [==============================] - 0s 5ms/step - loss: 4.5863e-06 - mae: 0.0017 - val_loss: 7.5425e-06 - val_mae: 0.0024\n",
      "Epoch 279/500\n",
      "9/9 [==============================] - 0s 6ms/step - loss: 5.7144e-06 - mae: 0.0020 - val_loss: 3.7664e-06 - val_mae: 0.0016\n",
      "Epoch 280/500\n",
      "9/9 [==============================] - 0s 5ms/step - loss: 5.8036e-06 - mae: 0.0020 - val_loss: 6.6407e-06 - val_mae: 0.0021\n",
      "Epoch 281/500\n",
      "9/9 [==============================] - 0s 5ms/step - loss: 5.4967e-06 - mae: 0.0019 - val_loss: 1.0155e-05 - val_mae: 0.0027\n",
      "Epoch 282/500\n",
      "9/9 [==============================] - 0s 5ms/step - loss: 6.3686e-06 - mae: 0.0020 - val_loss: 7.6337e-06 - val_mae: 0.0021\n",
      "Epoch 283/500\n",
      "9/9 [==============================] - 0s 5ms/step - loss: 1.3820e-05 - mae: 0.0029 - val_loss: 2.3859e-05 - val_mae: 0.0038\n",
      "Epoch 284/500\n",
      "9/9 [==============================] - 0s 5ms/step - loss: 1.0881e-05 - mae: 0.0026 - val_loss: 6.7136e-06 - val_mae: 0.0021\n",
      "Epoch 285/500\n",
      "9/9 [==============================] - 0s 5ms/step - loss: 6.5797e-06 - mae: 0.0021 - val_loss: 7.0905e-06 - val_mae: 0.0023\n",
      "Epoch 286/500\n",
      "9/9 [==============================] - 0s 5ms/step - loss: 6.3189e-06 - mae: 0.0021 - val_loss: 6.1799e-06 - val_mae: 0.0018\n",
      "Epoch 287/500\n",
      "9/9 [==============================] - 0s 5ms/step - loss: 5.2301e-06 - mae: 0.0019 - val_loss: 5.1475e-06 - val_mae: 0.0018\n",
      "Epoch 288/500\n",
      "9/9 [==============================] - 0s 6ms/step - loss: 4.6243e-06 - mae: 0.0018 - val_loss: 3.4280e-06 - val_mae: 0.0016\n",
      "Epoch 289/500\n",
      "9/9 [==============================] - 0s 5ms/step - loss: 3.8136e-06 - mae: 0.0016 - val_loss: 5.8218e-06 - val_mae: 0.0021\n",
      "Epoch 290/500\n",
      "9/9 [==============================] - 0s 6ms/step - loss: 5.6960e-06 - mae: 0.0020 - val_loss: 5.0990e-06 - val_mae: 0.0017\n",
      "Epoch 291/500\n",
      "9/9 [==============================] - 0s 5ms/step - loss: 5.2053e-06 - mae: 0.0019 - val_loss: 3.7580e-06 - val_mae: 0.0015\n",
      "Epoch 292/500\n",
      "9/9 [==============================] - 0s 5ms/step - loss: 4.2027e-06 - mae: 0.0017 - val_loss: 5.4442e-06 - val_mae: 0.0020\n",
      "Epoch 293/500\n",
      "9/9 [==============================] - 0s 5ms/step - loss: 4.3018e-06 - mae: 0.0017 - val_loss: 3.5863e-06 - val_mae: 0.0016\n",
      "Epoch 294/500\n",
      "9/9 [==============================] - 0s 5ms/step - loss: 5.3573e-06 - mae: 0.0019 - val_loss: 4.2573e-06 - val_mae: 0.0016\n",
      "Epoch 295/500\n",
      "9/9 [==============================] - 0s 5ms/step - loss: 4.3874e-06 - mae: 0.0017 - val_loss: 3.9090e-06 - val_mae: 0.0015\n",
      "Epoch 296/500\n",
      "9/9 [==============================] - 0s 5ms/step - loss: 5.1278e-06 - mae: 0.0018 - val_loss: 5.7361e-06 - val_mae: 0.0019\n",
      "Epoch 297/500\n",
      "9/9 [==============================] - 0s 5ms/step - loss: 4.4758e-06 - mae: 0.0017 - val_loss: 6.0420e-06 - val_mae: 0.0019\n",
      "Epoch 298/500\n",
      "9/9 [==============================] - 0s 11ms/step - loss: 5.5006e-06 - mae: 0.0019 - val_loss: 3.9424e-06 - val_mae: 0.0017\n",
      "Epoch 299/500\n",
      "9/9 [==============================] - 0s 5ms/step - loss: 4.4975e-06 - mae: 0.0017 - val_loss: 3.8573e-06 - val_mae: 0.0017\n",
      "Epoch 300/500\n",
      "9/9 [==============================] - 0s 5ms/step - loss: 4.1576e-06 - mae: 0.0017 - val_loss: 4.5067e-06 - val_mae: 0.0018\n",
      "Epoch 301/500\n",
      "9/9 [==============================] - 0s 5ms/step - loss: 4.6683e-06 - mae: 0.0018 - val_loss: 4.4496e-06 - val_mae: 0.0015\n",
      "Epoch 302/500\n",
      "9/9 [==============================] - 0s 5ms/step - loss: 4.6283e-06 - mae: 0.0017 - val_loss: 2.1645e-05 - val_mae: 0.0041\n",
      "Epoch 303/500\n",
      "9/9 [==============================] - 0s 6ms/step - loss: 1.2696e-05 - mae: 0.0030 - val_loss: 4.6653e-06 - val_mae: 0.0016\n",
      "Epoch 304/500\n",
      "9/9 [==============================] - 0s 5ms/step - loss: 1.0144e-05 - mae: 0.0026 - val_loss: 8.3089e-06 - val_mae: 0.0023\n",
      "Epoch 305/500\n",
      "9/9 [==============================] - 0s 5ms/step - loss: 4.9021e-06 - mae: 0.0018 - val_loss: 6.7826e-06 - val_mae: 0.0023\n",
      "Epoch 306/500\n",
      "9/9 [==============================] - 0s 4ms/step - loss: 5.1466e-06 - mae: 0.0018 - val_loss: 4.3982e-06 - val_mae: 0.0015\n",
      "Epoch 307/500\n",
      "9/9 [==============================] - 0s 6ms/step - loss: 3.9640e-06 - mae: 0.0016 - val_loss: 4.3693e-06 - val_mae: 0.0018\n",
      "Epoch 308/500\n",
      "9/9 [==============================] - 0s 4ms/step - loss: 4.4971e-06 - mae: 0.0017 - val_loss: 4.2639e-06 - val_mae: 0.0016\n",
      "Epoch 309/500\n",
      "9/9 [==============================] - 0s 5ms/step - loss: 4.0008e-06 - mae: 0.0016 - val_loss: 2.9643e-06 - val_mae: 0.0015\n",
      "Epoch 310/500\n",
      "9/9 [==============================] - 0s 5ms/step - loss: 3.1727e-06 - mae: 0.0015 - val_loss: 4.1617e-06 - val_mae: 0.0015\n",
      "Epoch 311/500\n",
      "9/9 [==============================] - 0s 5ms/step - loss: 3.8752e-06 - mae: 0.0016 - val_loss: 2.7714e-06 - val_mae: 0.0013\n",
      "Epoch 312/500\n",
      "9/9 [==============================] - 0s 4ms/step - loss: 3.5621e-06 - mae: 0.0016 - val_loss: 8.5857e-06 - val_mae: 0.0025\n",
      "Epoch 313/500\n",
      "9/9 [==============================] - 0s 5ms/step - loss: 5.1276e-06 - mae: 0.0019 - val_loss: 3.1123e-06 - val_mae: 0.0015\n",
      "Epoch 314/500\n",
      "9/9 [==============================] - 0s 5ms/step - loss: 3.2547e-06 - mae: 0.0015 - val_loss: 3.1658e-06 - val_mae: 0.0015\n",
      "Epoch 315/500\n",
      "9/9 [==============================] - 0s 4ms/step - loss: 3.2965e-06 - mae: 0.0015 - val_loss: 5.5763e-06 - val_mae: 0.0020\n",
      "Epoch 316/500\n",
      "9/9 [==============================] - 0s 6ms/step - loss: 3.8516e-06 - mae: 0.0016 - val_loss: 2.7116e-06 - val_mae: 0.0014\n",
      "Epoch 317/500\n",
      "9/9 [==============================] - 0s 4ms/step - loss: 3.5350e-06 - mae: 0.0015 - val_loss: 3.3632e-06 - val_mae: 0.0015\n",
      "Epoch 318/500\n",
      "9/9 [==============================] - 0s 5ms/step - loss: 3.5846e-06 - mae: 0.0015 - val_loss: 3.3882e-06 - val_mae: 0.0016\n",
      "Epoch 319/500\n",
      "9/9 [==============================] - 0s 6ms/step - loss: 3.4403e-06 - mae: 0.0015 - val_loss: 2.8604e-06 - val_mae: 0.0014\n",
      "Epoch 320/500\n",
      "9/9 [==============================] - 0s 5ms/step - loss: 3.3675e-06 - mae: 0.0015 - val_loss: 3.7597e-06 - val_mae: 0.0017\n",
      "Epoch 321/500\n",
      "9/9 [==============================] - 0s 4ms/step - loss: 4.0472e-06 - mae: 0.0016 - val_loss: 2.4685e-06 - val_mae: 0.0013\n",
      "Epoch 322/500\n",
      "9/9 [==============================] - 0s 5ms/step - loss: 2.8873e-06 - mae: 0.0014 - val_loss: 3.3157e-06 - val_mae: 0.0015\n",
      "Epoch 323/500\n",
      "9/9 [==============================] - 0s 5ms/step - loss: 3.7004e-06 - mae: 0.0015 - val_loss: 3.3807e-06 - val_mae: 0.0016\n",
      "Epoch 324/500\n",
      "9/9 [==============================] - 0s 5ms/step - loss: 3.4022e-06 - mae: 0.0015 - val_loss: 5.1171e-06 - val_mae: 0.0017\n",
      "Epoch 325/500\n",
      "9/9 [==============================] - 0s 5ms/step - loss: 3.6362e-06 - mae: 0.0015 - val_loss: 6.6191e-06 - val_mae: 0.0022\n",
      "Epoch 326/500\n",
      "9/9 [==============================] - 0s 5ms/step - loss: 3.9129e-06 - mae: 0.0016 - val_loss: 1.1206e-05 - val_mae: 0.0029\n",
      "Epoch 327/500\n",
      "9/9 [==============================] - 0s 7ms/step - loss: 7.6359e-06 - mae: 0.0022 - val_loss: 9.7644e-06 - val_mae: 0.0027\n",
      "Epoch 328/500\n",
      "9/9 [==============================] - 0s 6ms/step - loss: 5.1363e-06 - mae: 0.0019 - val_loss: 8.0376e-06 - val_mae: 0.0023\n",
      "Epoch 329/500\n",
      "9/9 [==============================] - 0s 5ms/step - loss: 4.9222e-06 - mae: 0.0019 - val_loss: 1.1408e-05 - val_mae: 0.0028\n",
      "Epoch 330/500\n",
      "9/9 [==============================] - 0s 5ms/step - loss: 1.0106e-05 - mae: 0.0025 - val_loss: 7.8450e-06 - val_mae: 0.0023\n",
      "Epoch 331/500\n",
      "9/9 [==============================] - 0s 6ms/step - loss: 5.2899e-06 - mae: 0.0018 - val_loss: 4.5998e-06 - val_mae: 0.0018\n",
      "Epoch 332/500\n",
      "9/9 [==============================] - 0s 6ms/step - loss: 4.1396e-06 - mae: 0.0017 - val_loss: 4.0048e-06 - val_mae: 0.0015\n",
      "Epoch 333/500\n",
      "9/9 [==============================] - 0s 5ms/step - loss: 4.3989e-06 - mae: 0.0017 - val_loss: 6.1895e-06 - val_mae: 0.0021\n",
      "Epoch 334/500\n",
      "9/9 [==============================] - 0s 5ms/step - loss: 5.3593e-06 - mae: 0.0019 - val_loss: 7.5524e-06 - val_mae: 0.0022\n",
      "Epoch 335/500\n",
      "9/9 [==============================] - 0s 5ms/step - loss: 4.1021e-06 - mae: 0.0016 - val_loss: 7.9779e-06 - val_mae: 0.0024\n",
      "Epoch 336/500\n",
      "9/9 [==============================] - 0s 5ms/step - loss: 4.5171e-06 - mae: 0.0017 - val_loss: 3.7225e-06 - val_mae: 0.0016\n",
      "Epoch 337/500\n",
      "9/9 [==============================] - 0s 5ms/step - loss: 3.7074e-06 - mae: 0.0015 - val_loss: 3.1663e-06 - val_mae: 0.0013\n",
      "Epoch 338/500\n",
      "9/9 [==============================] - 0s 4ms/step - loss: 3.1115e-06 - mae: 0.0015 - val_loss: 6.5504e-06 - val_mae: 0.0022\n",
      "Epoch 339/500\n",
      "9/9 [==============================] - 0s 5ms/step - loss: 4.3560e-06 - mae: 0.0017 - val_loss: 4.9383e-06 - val_mae: 0.0017\n",
      "Epoch 340/500\n",
      "9/9 [==============================] - 0s 5ms/step - loss: 3.9429e-06 - mae: 0.0016 - val_loss: 2.5994e-06 - val_mae: 0.0013\n",
      "Epoch 341/500\n",
      "9/9 [==============================] - 0s 5ms/step - loss: 2.7884e-06 - mae: 0.0014 - val_loss: 9.3418e-06 - val_mae: 0.0026\n",
      "Epoch 342/500\n",
      "9/9 [==============================] - 0s 5ms/step - loss: 5.1643e-06 - mae: 0.0018 - val_loss: 4.9030e-06 - val_mae: 0.0017\n",
      "Epoch 343/500\n",
      "9/9 [==============================] - 0s 5ms/step - loss: 3.7661e-06 - mae: 0.0015 - val_loss: 3.4866e-06 - val_mae: 0.0015\n",
      "Epoch 344/500\n",
      "9/9 [==============================] - 0s 5ms/step - loss: 3.7746e-06 - mae: 0.0016 - val_loss: 6.8416e-06 - val_mae: 0.0022\n",
      "Epoch 345/500\n",
      "9/9 [==============================] - 0s 5ms/step - loss: 5.0751e-06 - mae: 0.0018 - val_loss: 1.1822e-05 - val_mae: 0.0030\n",
      "Epoch 346/500\n",
      "9/9 [==============================] - 0s 5ms/step - loss: 8.1065e-06 - mae: 0.0023 - val_loss: 1.5262e-05 - val_mae: 0.0035\n",
      "Epoch 347/500\n",
      "9/9 [==============================] - 0s 4ms/step - loss: 7.5310e-06 - mae: 0.0023 - val_loss: 7.8723e-06 - val_mae: 0.0023\n",
      "Epoch 348/500\n",
      "9/9 [==============================] - 0s 4ms/step - loss: 4.3406e-06 - mae: 0.0017 - val_loss: 1.1366e-05 - val_mae: 0.0028\n",
      "Epoch 349/500\n",
      "9/9 [==============================] - 0s 5ms/step - loss: 4.7602e-06 - mae: 0.0017 - val_loss: 3.1978e-06 - val_mae: 0.0013\n",
      "Epoch 350/500\n",
      "9/9 [==============================] - 0s 4ms/step - loss: 4.9211e-06 - mae: 0.0018 - val_loss: 3.0053e-06 - val_mae: 0.0015\n",
      "Epoch 351/500\n",
      "9/9 [==============================] - 0s 5ms/step - loss: 3.6327e-06 - mae: 0.0015 - val_loss: 3.6618e-06 - val_mae: 0.0014\n",
      "Epoch 352/500\n",
      "9/9 [==============================] - 0s 5ms/step - loss: 2.6769e-06 - mae: 0.0013 - val_loss: 2.1668e-06 - val_mae: 0.0012\n",
      "Epoch 353/500\n",
      "9/9 [==============================] - 0s 5ms/step - loss: 2.3578e-06 - mae: 0.0013 - val_loss: 4.1895e-06 - val_mae: 0.0015\n",
      "Epoch 354/500\n",
      "9/9 [==============================] - 0s 5ms/step - loss: 2.9052e-06 - mae: 0.0013 - val_loss: 7.8928e-06 - val_mae: 0.0023\n",
      "Epoch 355/500\n",
      "9/9 [==============================] - 0s 6ms/step - loss: 5.9669e-06 - mae: 0.0020 - val_loss: 6.0994e-06 - val_mae: 0.0021\n",
      "Epoch 356/500\n",
      "9/9 [==============================] - 0s 5ms/step - loss: 4.2210e-06 - mae: 0.0017 - val_loss: 2.6160e-06 - val_mae: 0.0012\n",
      "Epoch 357/500\n",
      "9/9 [==============================] - 0s 8ms/step - loss: 2.8825e-06 - mae: 0.0014 - val_loss: 3.8878e-06 - val_mae: 0.0015\n",
      "Epoch 358/500\n",
      "9/9 [==============================] - 0s 5ms/step - loss: 4.2091e-06 - mae: 0.0016 - val_loss: 2.5239e-06 - val_mae: 0.0012\n",
      "Epoch 359/500\n",
      "9/9 [==============================] - 0s 5ms/step - loss: 4.0339e-06 - mae: 0.0016 - val_loss: 3.8956e-06 - val_mae: 0.0015\n",
      "Epoch 360/500\n",
      "9/9 [==============================] - 0s 5ms/step - loss: 3.2124e-06 - mae: 0.0014 - val_loss: 2.9184e-06 - val_mae: 0.0015\n",
      "Epoch 361/500\n",
      "9/9 [==============================] - 0s 7ms/step - loss: 3.3016e-06 - mae: 0.0015 - val_loss: 2.0383e-06 - val_mae: 0.0012\n",
      "Epoch 362/500\n",
      "9/9 [==============================] - 0s 5ms/step - loss: 3.6169e-06 - mae: 0.0016 - val_loss: 8.1776e-06 - val_mae: 0.0025\n",
      "Epoch 363/500\n",
      "9/9 [==============================] - 0s 6ms/step - loss: 5.6343e-06 - mae: 0.0020 - val_loss: 6.6136e-06 - val_mae: 0.0023\n",
      "Epoch 364/500\n",
      "9/9 [==============================] - 0s 5ms/step - loss: 4.5227e-06 - mae: 0.0016 - val_loss: 3.2446e-06 - val_mae: 0.0014\n",
      "Epoch 365/500\n",
      "9/9 [==============================] - 0s 5ms/step - loss: 5.7746e-06 - mae: 0.0019 - val_loss: 4.3979e-06 - val_mae: 0.0017\n",
      "Epoch 366/500\n",
      "9/9 [==============================] - 0s 5ms/step - loss: 6.7300e-06 - mae: 0.0020 - val_loss: 4.0297e-06 - val_mae: 0.0017\n",
      "Epoch 367/500\n",
      "9/9 [==============================] - 0s 5ms/step - loss: 4.1813e-06 - mae: 0.0016 - val_loss: 4.3627e-06 - val_mae: 0.0015\n",
      "Epoch 368/500\n",
      "9/9 [==============================] - 0s 4ms/step - loss: 5.6309e-06 - mae: 0.0019 - val_loss: 9.2243e-06 - val_mae: 0.0024\n",
      "Epoch 369/500\n",
      "9/9 [==============================] - 0s 5ms/step - loss: 7.7623e-06 - mae: 0.0023 - val_loss: 1.2193e-05 - val_mae: 0.0030\n",
      "Epoch 370/500\n",
      "9/9 [==============================] - 0s 5ms/step - loss: 1.4459e-05 - mae: 0.0032 - val_loss: 1.1870e-05 - val_mae: 0.0030\n",
      "Epoch 371/500\n",
      "9/9 [==============================] - 0s 4ms/step - loss: 4.7069e-06 - mae: 0.0017 - val_loss: 4.3177e-06 - val_mae: 0.0015\n",
      "Epoch 372/500\n",
      "9/9 [==============================] - 0s 5ms/step - loss: 4.6733e-06 - mae: 0.0017 - val_loss: 3.0651e-06 - val_mae: 0.0014\n",
      "Epoch 373/500\n",
      "9/9 [==============================] - 0s 5ms/step - loss: 2.9151e-06 - mae: 0.0014 - val_loss: 1.9871e-06 - val_mae: 0.0012\n",
      "Epoch 374/500\n",
      "9/9 [==============================] - 0s 4ms/step - loss: 2.9639e-06 - mae: 0.0014 - val_loss: 2.9780e-06 - val_mae: 0.0015\n",
      "Epoch 375/500\n",
      "9/9 [==============================] - 0s 5ms/step - loss: 2.6313e-06 - mae: 0.0013 - val_loss: 3.2007e-06 - val_mae: 0.0013\n",
      "Epoch 376/500\n",
      "9/9 [==============================] - 0s 5ms/step - loss: 2.6514e-06 - mae: 0.0013 - val_loss: 7.5429e-06 - val_mae: 0.0024\n",
      "Epoch 377/500\n",
      "9/9 [==============================] - 0s 6ms/step - loss: 4.3404e-06 - mae: 0.0017 - val_loss: 1.6419e-06 - val_mae: 0.0011\n",
      "Epoch 378/500\n",
      "9/9 [==============================] - 0s 5ms/step - loss: 2.5012e-06 - mae: 0.0013 - val_loss: 4.9720e-06 - val_mae: 0.0018\n",
      "Epoch 379/500\n",
      "9/9 [==============================] - 0s 6ms/step - loss: 3.8730e-06 - mae: 0.0016 - val_loss: 2.4228e-06 - val_mae: 0.0013\n",
      "Epoch 380/500\n",
      "9/9 [==============================] - 0s 5ms/step - loss: 2.4981e-06 - mae: 0.0013 - val_loss: 2.0973e-06 - val_mae: 0.0012\n",
      "Epoch 381/500\n",
      "9/9 [==============================] - 0s 4ms/step - loss: 2.1039e-06 - mae: 0.0012 - val_loss: 4.6257e-06 - val_mae: 0.0016\n",
      "Epoch 382/500\n",
      "9/9 [==============================] - 0s 5ms/step - loss: 2.7089e-06 - mae: 0.0013 - val_loss: 2.1459e-06 - val_mae: 0.0010\n",
      "Epoch 383/500\n",
      "9/9 [==============================] - 0s 5ms/step - loss: 2.3875e-06 - mae: 0.0012 - val_loss: 4.7092e-06 - val_mae: 0.0018\n",
      "Epoch 384/500\n",
      "9/9 [==============================] - 0s 5ms/step - loss: 2.7972e-06 - mae: 0.0013 - val_loss: 1.6829e-06 - val_mae: 0.0011\n",
      "Epoch 385/500\n",
      "9/9 [==============================] - 0s 6ms/step - loss: 2.7522e-06 - mae: 0.0013 - val_loss: 2.6110e-06 - val_mae: 0.0012\n",
      "Epoch 386/500\n",
      "9/9 [==============================] - 0s 8ms/step - loss: 2.9986e-06 - mae: 0.0014 - val_loss: 3.2381e-06 - val_mae: 0.0013\n",
      "Epoch 387/500\n",
      "9/9 [==============================] - 0s 6ms/step - loss: 2.5276e-06 - mae: 0.0013 - val_loss: 5.7200e-06 - val_mae: 0.0021\n",
      "Epoch 388/500\n",
      "9/9 [==============================] - 0s 5ms/step - loss: 2.9384e-06 - mae: 0.0014 - val_loss: 2.6290e-06 - val_mae: 0.0013\n",
      "Epoch 389/500\n",
      "9/9 [==============================] - 0s 5ms/step - loss: 2.5529e-06 - mae: 0.0013 - val_loss: 1.9997e-06 - val_mae: 0.0011\n",
      "Epoch 390/500\n",
      "9/9 [==============================] - 0s 5ms/step - loss: 3.1860e-06 - mae: 0.0014 - val_loss: 4.4603e-06 - val_mae: 0.0016\n",
      "Epoch 391/500\n",
      "9/9 [==============================] - 0s 7ms/step - loss: 4.5358e-06 - mae: 0.0018 - val_loss: 1.8899e-06 - val_mae: 0.0010\n",
      "Epoch 392/500\n",
      "9/9 [==============================] - 0s 5ms/step - loss: 2.1886e-06 - mae: 0.0012 - val_loss: 3.0066e-06 - val_mae: 0.0014\n",
      "Epoch 393/500\n",
      "9/9 [==============================] - 0s 6ms/step - loss: 4.1144e-06 - mae: 0.0016 - val_loss: 9.3191e-06 - val_mae: 0.0027\n",
      "Epoch 394/500\n",
      "9/9 [==============================] - 0s 5ms/step - loss: 6.0166e-06 - mae: 0.0020 - val_loss: 1.1100e-05 - val_mae: 0.0029\n",
      "Epoch 395/500\n",
      "9/9 [==============================] - 0s 5ms/step - loss: 6.9556e-06 - mae: 0.0021 - val_loss: 1.0188e-05 - val_mae: 0.0026\n",
      "Epoch 396/500\n",
      "9/9 [==============================] - 0s 5ms/step - loss: 6.5361e-06 - mae: 0.0020 - val_loss: 1.1910e-05 - val_mae: 0.0029\n",
      "Epoch 397/500\n",
      "9/9 [==============================] - 0s 4ms/step - loss: 1.2006e-05 - mae: 0.0028 - val_loss: 3.3982e-06 - val_mae: 0.0015\n",
      "Epoch 398/500\n",
      "9/9 [==============================] - 0s 5ms/step - loss: 1.3363e-05 - mae: 0.0029 - val_loss: 1.2116e-05 - val_mae: 0.0028\n",
      "Epoch 399/500\n",
      "9/9 [==============================] - 0s 5ms/step - loss: 8.9768e-06 - mae: 0.0024 - val_loss: 1.7910e-05 - val_mae: 0.0039\n",
      "Epoch 400/500\n",
      "9/9 [==============================] - 0s 5ms/step - loss: 9.0203e-06 - mae: 0.0025 - val_loss: 1.7757e-05 - val_mae: 0.0035\n",
      "Epoch 401/500\n",
      "9/9 [==============================] - 0s 4ms/step - loss: 8.7229e-06 - mae: 0.0025 - val_loss: 4.1456e-05 - val_mae: 0.0053\n",
      "Epoch 402/500\n",
      "9/9 [==============================] - 0s 5ms/step - loss: 3.0590e-05 - mae: 0.0046 - val_loss: 9.9350e-06 - val_mae: 0.0026\n",
      "Epoch 403/500\n",
      "9/9 [==============================] - 0s 5ms/step - loss: 1.1276e-05 - mae: 0.0028 - val_loss: 1.1664e-05 - val_mae: 0.0030\n",
      "Epoch 404/500\n",
      "9/9 [==============================] - 0s 4ms/step - loss: 7.2488e-06 - mae: 0.0022 - val_loss: 9.9868e-06 - val_mae: 0.0026\n",
      "Epoch 405/500\n",
      "9/9 [==============================] - 0s 5ms/step - loss: 2.2076e-05 - mae: 0.0036 - val_loss: 1.9079e-05 - val_mae: 0.0040\n",
      "Epoch 406/500\n",
      "9/9 [==============================] - 0s 5ms/step - loss: 1.5818e-05 - mae: 0.0032 - val_loss: 1.1719e-05 - val_mae: 0.0026\n",
      "Epoch 407/500\n",
      "9/9 [==============================] - 0s 5ms/step - loss: 6.7721e-06 - mae: 0.0019 - val_loss: 5.2097e-06 - val_mae: 0.0018\n",
      "Epoch 408/500\n",
      "9/9 [==============================] - 0s 5ms/step - loss: 4.7749e-06 - mae: 0.0017 - val_loss: 1.4816e-06 - val_mae: 9.8853e-04\n",
      "Epoch 409/500\n",
      "9/9 [==============================] - 0s 5ms/step - loss: 2.5667e-06 - mae: 0.0013 - val_loss: 4.6164e-06 - val_mae: 0.0019\n",
      "Epoch 410/500\n",
      "9/9 [==============================] - 0s 5ms/step - loss: 3.1015e-06 - mae: 0.0014 - val_loss: 2.6740e-06 - val_mae: 0.0014\n",
      "Epoch 411/500\n",
      "9/9 [==============================] - 0s 5ms/step - loss: 2.0662e-06 - mae: 0.0012 - val_loss: 2.2074e-06 - val_mae: 0.0011\n",
      "Epoch 412/500\n",
      "9/9 [==============================] - 0s 6ms/step - loss: 2.7075e-06 - mae: 0.0013 - val_loss: 5.8922e-06 - val_mae: 0.0021\n",
      "Epoch 413/500\n",
      "9/9 [==============================] - 0s 5ms/step - loss: 3.8306e-06 - mae: 0.0016 - val_loss: 2.7159e-06 - val_mae: 0.0014\n",
      "Epoch 414/500\n",
      "9/9 [==============================] - 0s 5ms/step - loss: 2.9547e-06 - mae: 0.0014 - val_loss: 3.5210e-06 - val_mae: 0.0014\n",
      "Epoch 415/500\n",
      "9/9 [==============================] - 0s 8ms/step - loss: 2.9048e-06 - mae: 0.0014 - val_loss: 5.8700e-06 - val_mae: 0.0019\n",
      "Epoch 416/500\n",
      "9/9 [==============================] - 0s 5ms/step - loss: 2.7135e-06 - mae: 0.0013 - val_loss: 3.6230e-06 - val_mae: 0.0014\n",
      "Epoch 417/500\n",
      "9/9 [==============================] - 0s 4ms/step - loss: 2.8941e-06 - mae: 0.0014 - val_loss: 3.4435e-06 - val_mae: 0.0016\n",
      "Epoch 418/500\n",
      "9/9 [==============================] - 0s 6ms/step - loss: 3.5899e-06 - mae: 0.0015 - val_loss: 1.1045e-05 - val_mae: 0.0029\n",
      "Epoch 419/500\n",
      "9/9 [==============================] - 0s 5ms/step - loss: 7.1192e-06 - mae: 0.0021 - val_loss: 9.3086e-06 - val_mae: 0.0028\n",
      "Epoch 420/500\n",
      "9/9 [==============================] - 0s 5ms/step - loss: 4.6866e-06 - mae: 0.0018 - val_loss: 2.3662e-06 - val_mae: 0.0012\n",
      "Epoch 421/500\n",
      "9/9 [==============================] - 0s 5ms/step - loss: 2.5248e-06 - mae: 0.0013 - val_loss: 5.3915e-06 - val_mae: 0.0020\n",
      "Epoch 422/500\n",
      "9/9 [==============================] - 0s 5ms/step - loss: 4.4924e-06 - mae: 0.0017 - val_loss: 1.8049e-06 - val_mae: 0.0011\n",
      "Epoch 423/500\n",
      "9/9 [==============================] - 0s 5ms/step - loss: 1.8890e-06 - mae: 0.0011 - val_loss: 1.6562e-06 - val_mae: 9.9619e-04\n",
      "Epoch 424/500\n",
      "9/9 [==============================] - 0s 5ms/step - loss: 2.2420e-06 - mae: 0.0012 - val_loss: 5.6993e-06 - val_mae: 0.0020\n",
      "Epoch 425/500\n",
      "9/9 [==============================] - 0s 5ms/step - loss: 3.2005e-06 - mae: 0.0014 - val_loss: 2.4388e-06 - val_mae: 0.0013\n",
      "Epoch 426/500\n",
      "9/9 [==============================] - 0s 4ms/step - loss: 1.9817e-06 - mae: 0.0011 - val_loss: 1.9256e-06 - val_mae: 0.0011\n",
      "Epoch 427/500\n",
      "9/9 [==============================] - 0s 5ms/step - loss: 2.0598e-06 - mae: 0.0012 - val_loss: 2.5773e-06 - val_mae: 0.0014\n",
      "Epoch 428/500\n",
      "9/9 [==============================] - 0s 5ms/step - loss: 2.6256e-06 - mae: 0.0013 - val_loss: 4.8456e-06 - val_mae: 0.0019\n",
      "Epoch 429/500\n",
      "9/9 [==============================] - 0s 5ms/step - loss: 3.5515e-06 - mae: 0.0015 - val_loss: 4.4472e-06 - val_mae: 0.0018\n",
      "Epoch 430/500\n",
      "9/9 [==============================] - 0s 5ms/step - loss: 2.8851e-06 - mae: 0.0014 - val_loss: 4.3990e-06 - val_mae: 0.0017\n",
      "Epoch 431/500\n",
      "9/9 [==============================] - 0s 5ms/step - loss: 3.5829e-06 - mae: 0.0015 - val_loss: 1.6118e-05 - val_mae: 0.0037\n",
      "Epoch 432/500\n",
      "9/9 [==============================] - 0s 4ms/step - loss: 9.2251e-06 - mae: 0.0025 - val_loss: 3.5841e-05 - val_mae: 0.0057\n",
      "Epoch 433/500\n",
      "9/9 [==============================] - 0s 5ms/step - loss: 1.4844e-05 - mae: 0.0031 - val_loss: 4.9501e-06 - val_mae: 0.0017\n",
      "Epoch 434/500\n",
      "9/9 [==============================] - 0s 6ms/step - loss: 4.4955e-06 - mae: 0.0016 - val_loss: 1.4537e-05 - val_mae: 0.0036\n",
      "Epoch 435/500\n",
      "9/9 [==============================] - 0s 5ms/step - loss: 9.1195e-06 - mae: 0.0026 - val_loss: 1.7958e-05 - val_mae: 0.0037\n",
      "Epoch 436/500\n",
      "9/9 [==============================] - 0s 5ms/step - loss: 1.0150e-05 - mae: 0.0026 - val_loss: 1.8953e-06 - val_mae: 0.0010\n",
      "Epoch 437/500\n",
      "9/9 [==============================] - 0s 5ms/step - loss: 3.5101e-06 - mae: 0.0015 - val_loss: 2.5153e-06 - val_mae: 0.0012\n",
      "Epoch 438/500\n",
      "9/9 [==============================] - 0s 5ms/step - loss: 3.3469e-06 - mae: 0.0015 - val_loss: 1.6397e-06 - val_mae: 0.0011\n",
      "Epoch 439/500\n",
      "9/9 [==============================] - 0s 4ms/step - loss: 2.1725e-06 - mae: 0.0012 - val_loss: 5.0038e-06 - val_mae: 0.0020\n",
      "Epoch 440/500\n",
      "9/9 [==============================] - 0s 5ms/step - loss: 2.1907e-06 - mae: 0.0012 - val_loss: 1.6594e-06 - val_mae: 9.4512e-04\n",
      "Epoch 441/500\n",
      "9/9 [==============================] - 0s 5ms/step - loss: 1.7641e-06 - mae: 0.0011 - val_loss: 1.1138e-06 - val_mae: 8.3406e-04\n",
      "Epoch 442/500\n",
      "9/9 [==============================] - 0s 5ms/step - loss: 1.5264e-06 - mae: 9.8972e-04 - val_loss: 1.5233e-06 - val_mae: 0.0011\n",
      "Epoch 443/500\n",
      "9/9 [==============================] - 0s 10ms/step - loss: 1.6563e-06 - mae: 0.0010 - val_loss: 2.7582e-06 - val_mae: 0.0014\n",
      "Epoch 444/500\n",
      "9/9 [==============================] - 0s 5ms/step - loss: 2.3208e-06 - mae: 0.0012 - val_loss: 4.8413e-06 - val_mae: 0.0018\n",
      "Epoch 445/500\n",
      "9/9 [==============================] - 0s 5ms/step - loss: 2.6774e-06 - mae: 0.0013 - val_loss: 7.7371e-06 - val_mae: 0.0024\n",
      "Epoch 446/500\n",
      "9/9 [==============================] - 0s 5ms/step - loss: 4.1041e-06 - mae: 0.0016 - val_loss: 2.7560e-06 - val_mae: 0.0013\n",
      "Epoch 447/500\n",
      "9/9 [==============================] - 0s 5ms/step - loss: 1.9681e-06 - mae: 0.0011 - val_loss: 1.5848e-06 - val_mae: 9.1049e-04\n",
      "Epoch 448/500\n",
      "9/9 [==============================] - 0s 6ms/step - loss: 1.5817e-06 - mae: 0.0010 - val_loss: 1.0996e-06 - val_mae: 8.3738e-04\n",
      "Epoch 449/500\n",
      "9/9 [==============================] - 0s 5ms/step - loss: 1.3554e-06 - mae: 9.5714e-04 - val_loss: 1.7397e-06 - val_mae: 9.9009e-04\n",
      "Epoch 450/500\n",
      "9/9 [==============================] - 0s 5ms/step - loss: 1.5386e-06 - mae: 0.0010 - val_loss: 3.0369e-06 - val_mae: 0.0013\n",
      "Epoch 451/500\n",
      "9/9 [==============================] - 0s 5ms/step - loss: 1.9274e-06 - mae: 0.0011 - val_loss: 1.5188e-06 - val_mae: 9.9926e-04\n",
      "Epoch 452/500\n",
      "9/9 [==============================] - 0s 5ms/step - loss: 1.7981e-06 - mae: 0.0011 - val_loss: 2.6254e-06 - val_mae: 0.0013\n",
      "Epoch 453/500\n",
      "9/9 [==============================] - 0s 5ms/step - loss: 2.9958e-06 - mae: 0.0014 - val_loss: 3.3187e-06 - val_mae: 0.0013\n",
      "Epoch 454/500\n",
      "9/9 [==============================] - 0s 5ms/step - loss: 2.7286e-06 - mae: 0.0013 - val_loss: 2.9585e-06 - val_mae: 0.0014\n",
      "Epoch 455/500\n",
      "9/9 [==============================] - 0s 5ms/step - loss: 2.1400e-06 - mae: 0.0011 - val_loss: 1.4507e-05 - val_mae: 0.0031\n",
      "Epoch 456/500\n",
      "9/9 [==============================] - 0s 5ms/step - loss: 6.4780e-06 - mae: 0.0020 - val_loss: 1.5374e-06 - val_mae: 0.0010\n",
      "Epoch 457/500\n",
      "9/9 [==============================] - 0s 4ms/step - loss: 2.6571e-06 - mae: 0.0013 - val_loss: 1.8517e-06 - val_mae: 0.0012\n",
      "Epoch 458/500\n",
      "9/9 [==============================] - 0s 5ms/step - loss: 1.8351e-06 - mae: 0.0011 - val_loss: 6.5739e-06 - val_mae: 0.0023\n",
      "Epoch 459/500\n",
      "9/9 [==============================] - 0s 5ms/step - loss: 4.2045e-06 - mae: 0.0017 - val_loss: 7.0721e-06 - val_mae: 0.0022\n",
      "Epoch 460/500\n",
      "9/9 [==============================] - 0s 4ms/step - loss: 4.0097e-06 - mae: 0.0016 - val_loss: 2.4116e-06 - val_mae: 0.0013\n",
      "Epoch 461/500\n",
      "9/9 [==============================] - 0s 5ms/step - loss: 1.9259e-06 - mae: 0.0011 - val_loss: 2.5352e-06 - val_mae: 0.0014\n",
      "Epoch 462/500\n",
      "9/9 [==============================] - 0s 5ms/step - loss: 3.5016e-06 - mae: 0.0015 - val_loss: 2.9864e-06 - val_mae: 0.0013\n",
      "Epoch 463/500\n",
      "9/9 [==============================] - 0s 5ms/step - loss: 3.8784e-06 - mae: 0.0016 - val_loss: 2.5387e-06 - val_mae: 0.0012\n",
      "Epoch 464/500\n",
      "9/9 [==============================] - 0s 5ms/step - loss: 2.8187e-06 - mae: 0.0014 - val_loss: 1.3714e-05 - val_mae: 0.0034\n",
      "Epoch 465/500\n",
      "9/9 [==============================] - 0s 5ms/step - loss: 6.8149e-06 - mae: 0.0023 - val_loss: 2.0893e-05 - val_mae: 0.0044\n",
      "Epoch 466/500\n",
      "9/9 [==============================] - 0s 6ms/step - loss: 9.0594e-06 - mae: 0.0024 - val_loss: 3.5007e-06 - val_mae: 0.0016\n",
      "Epoch 467/500\n",
      "9/9 [==============================] - 0s 4ms/step - loss: 4.6891e-06 - mae: 0.0018 - val_loss: 1.0411e-05 - val_mae: 0.0029\n",
      "Epoch 468/500\n",
      "9/9 [==============================] - 0s 4ms/step - loss: 8.2131e-06 - mae: 0.0024 - val_loss: 1.7959e-05 - val_mae: 0.0034\n",
      "Epoch 469/500\n",
      "9/9 [==============================] - 0s 5ms/step - loss: 9.1658e-06 - mae: 0.0023 - val_loss: 1.0695e-05 - val_mae: 0.0028\n",
      "Epoch 470/500\n",
      "9/9 [==============================] - 0s 5ms/step - loss: 7.7345e-06 - mae: 0.0023 - val_loss: 8.5816e-06 - val_mae: 0.0024\n",
      "Epoch 471/500\n",
      "9/9 [==============================] - 0s 4ms/step - loss: 5.8395e-06 - mae: 0.0020 - val_loss: 1.2279e-05 - val_mae: 0.0028\n",
      "Epoch 472/500\n",
      "9/9 [==============================] - 0s 9ms/step - loss: 6.7086e-06 - mae: 0.0021 - val_loss: 5.8220e-06 - val_mae: 0.0018\n",
      "Epoch 473/500\n",
      "9/9 [==============================] - 0s 5ms/step - loss: 5.7262e-06 - mae: 0.0019 - val_loss: 2.5316e-05 - val_mae: 0.0048\n",
      "Epoch 474/500\n",
      "9/9 [==============================] - 0s 5ms/step - loss: 1.0990e-05 - mae: 0.0027 - val_loss: 2.8029e-06 - val_mae: 0.0013\n",
      "Epoch 475/500\n",
      "9/9 [==============================] - 0s 5ms/step - loss: 3.9790e-06 - mae: 0.0016 - val_loss: 8.6979e-06 - val_mae: 0.0024\n",
      "Epoch 476/500\n",
      "9/9 [==============================] - 0s 6ms/step - loss: 6.1116e-06 - mae: 0.0020 - val_loss: 1.8688e-05 - val_mae: 0.0041\n",
      "Epoch 477/500\n",
      "9/9 [==============================] - 0s 6ms/step - loss: 7.0471e-06 - mae: 0.0021 - val_loss: 4.6690e-06 - val_mae: 0.0019\n",
      "Epoch 478/500\n",
      "9/9 [==============================] - 0s 5ms/step - loss: 3.4257e-06 - mae: 0.0015 - val_loss: 5.4282e-06 - val_mae: 0.0019\n",
      "Epoch 479/500\n",
      "9/9 [==============================] - 0s 5ms/step - loss: 3.7051e-06 - mae: 0.0015 - val_loss: 7.9969e-06 - val_mae: 0.0022\n",
      "Epoch 480/500\n",
      "9/9 [==============================] - 0s 5ms/step - loss: 6.1652e-06 - mae: 0.0021 - val_loss: 1.5157e-05 - val_mae: 0.0037\n",
      "Epoch 481/500\n",
      "9/9 [==============================] - 0s 5ms/step - loss: 1.2064e-05 - mae: 0.0029 - val_loss: 5.2465e-06 - val_mae: 0.0019\n",
      "Epoch 482/500\n",
      "9/9 [==============================] - 0s 5ms/step - loss: 4.1009e-06 - mae: 0.0017 - val_loss: 5.4807e-06 - val_mae: 0.0016\n",
      "Epoch 483/500\n",
      "9/9 [==============================] - 0s 5ms/step - loss: 3.6599e-06 - mae: 0.0015 - val_loss: 3.3757e-06 - val_mae: 0.0014\n",
      "Epoch 484/500\n",
      "9/9 [==============================] - 0s 5ms/step - loss: 3.0820e-06 - mae: 0.0014 - val_loss: 5.8694e-06 - val_mae: 0.0022\n",
      "Epoch 485/500\n",
      "9/9 [==============================] - 0s 5ms/step - loss: 2.7173e-06 - mae: 0.0013 - val_loss: 1.6067e-06 - val_mae: 0.0011\n",
      "Epoch 486/500\n",
      "9/9 [==============================] - 0s 6ms/step - loss: 1.5552e-06 - mae: 9.9931e-04 - val_loss: 4.8927e-06 - val_mae: 0.0019\n",
      "Epoch 487/500\n",
      "9/9 [==============================] - 0s 4ms/step - loss: 3.3512e-06 - mae: 0.0015 - val_loss: 1.4334e-05 - val_mae: 0.0034\n",
      "Epoch 488/500\n",
      "9/9 [==============================] - 0s 5ms/step - loss: 5.0616e-06 - mae: 0.0018 - val_loss: 8.1919e-07 - val_mae: 7.3206e-04\n",
      "Epoch 489/500\n",
      "9/9 [==============================] - 0s 5ms/step - loss: 2.9807e-06 - mae: 0.0014 - val_loss: 1.2604e-05 - val_mae: 0.0032\n",
      "Epoch 490/500\n",
      "9/9 [==============================] - 0s 5ms/step - loss: 9.4043e-06 - mae: 0.0027 - val_loss: 1.0726e-05 - val_mae: 0.0029\n",
      "Epoch 491/500\n",
      "9/9 [==============================] - 0s 5ms/step - loss: 5.2621e-06 - mae: 0.0019 - val_loss: 2.4015e-06 - val_mae: 0.0012\n",
      "Epoch 492/500\n",
      "9/9 [==============================] - 0s 5ms/step - loss: 2.8785e-06 - mae: 0.0013 - val_loss: 2.8268e-06 - val_mae: 0.0012\n",
      "Epoch 493/500\n",
      "9/9 [==============================] - 0s 5ms/step - loss: 1.8890e-06 - mae: 0.0011 - val_loss: 5.6012e-06 - val_mae: 0.0021\n",
      "Epoch 494/500\n",
      "9/9 [==============================] - 0s 5ms/step - loss: 3.9506e-06 - mae: 0.0016 - val_loss: 2.0774e-06 - val_mae: 0.0012\n",
      "Epoch 495/500\n",
      "9/9 [==============================] - 0s 5ms/step - loss: 2.9007e-06 - mae: 0.0014 - val_loss: 1.1028e-05 - val_mae: 0.0031\n",
      "Epoch 496/500\n",
      "9/9 [==============================] - 0s 5ms/step - loss: 5.0372e-06 - mae: 0.0018 - val_loss: 1.1182e-06 - val_mae: 8.5472e-04\n",
      "Epoch 497/500\n",
      "9/9 [==============================] - 0s 5ms/step - loss: 2.5574e-06 - mae: 0.0013 - val_loss: 2.2068e-06 - val_mae: 0.0012\n",
      "Epoch 498/500\n",
      "9/9 [==============================] - 0s 6ms/step - loss: 2.8243e-06 - mae: 0.0013 - val_loss: 1.0535e-06 - val_mae: 8.9779e-04\n",
      "Epoch 499/500\n",
      "9/9 [==============================] - 0s 5ms/step - loss: 1.3790e-06 - mae: 9.3901e-04 - val_loss: 3.4941e-06 - val_mae: 0.0014\n",
      "Epoch 500/500\n",
      "9/9 [==============================] - 0s 5ms/step - loss: 2.5375e-06 - mae: 0.0013 - val_loss: 1.9144e-06 - val_mae: 0.0011\n"
     ]
    }
   ],
   "source": [
    "history = ann.fit(X_train, y_train,\n",
    "                    validation_data = (X_val, y_val),\n",
    "                    callbacks=[es],\n",
    "                    epochs=500,\n",
    "                    batch_size=50,\n",
    "                    verbose=1)"
   ]
  },
  {
   "cell_type": "markdown",
   "metadata": {
    "colab_type": "text",
    "id": "0H0zKKNEBLD5"
   },
   "source": [
    "### Analyse learn history"
   ]
  },
  {
   "cell_type": "code",
   "execution_count": 16,
   "metadata": {},
   "outputs": [
    {
     "data": {
      "image/png": "[encoded data removed]",
      "text/plain": [
       "<Figure size 432x288 with 1 Axes>"
      ]
     },
     "metadata": {
      "needs_background": "light"
     },
     "output_type": "display_data"
    }
   ],
   "source": [
    "# let's see the training and validation accuracy by epoch\n",
    "history_dict = history.history\n",
    "loss_values = history_dict['loss'] # you can change this\n",
    "val_loss_values = history_dict['val_loss'] # you can also change this\n",
    "epochs = range(1, len(loss_values) + 1) # range of X (no. of epochs)\n",
    "plt.plot(epochs, loss_values, 'blue', label='Train set loss')\n",
    "plt.plot(epochs, val_loss_values, 'orange', label='Validation set loss')\n",
    "#plt.title('Training and testing loss')\n",
    "plt.xlabel('Epochs')\n",
    "plt.ylabel('Loss (MSE)')\n",
    "plt.legend()\n",
    "plt.show()"
   ]
  },
  {
   "cell_type": "code",
   "execution_count": 17,
   "metadata": {},
   "outputs": [
    {
     "data": {
      "image/png": "[encoded data removed]",
      "text/plain": [
       "<Figure size 432x288 with 1 Axes>"
      ]
     },
     "metadata": {
      "needs_background": "light"
     },
     "output_type": "display_data"
    }
   ],
   "source": [
    "loss_values1 = history_dict['mae'] # you can change this\n",
    "val_loss_values1 = history_dict['val_mae'] # you can also change this\n",
    "epochs = range(1, len(loss_values1) + 1) # range of X (no. of epochs)\n",
    "plt.plot(epochs, loss_values1, 'blue', label='Train set MAE')\n",
    "plt.plot(epochs, val_loss_values1, 'orange', label='Validation set MAE')\n",
    "#plt.title('Training and testing MAE')\n",
    "plt.xlabel('Epochs')\n",
    "plt.ylabel('MAE')\n",
    "plt.legend()\n",
    "plt.show()"
   ]
  },
  {
   "cell_type": "code",
   "execution_count": 18,
   "metadata": {},
   "outputs": [
    {
     "name": "stdout",
     "output_type": "stream",
     "text": [
      "range(1, 501)\n"
     ]
    }
   ],
   "source": [
    "print (epochs)"
   ]
  },
  {
   "cell_type": "markdown",
   "metadata": {},
   "source": [
    "### Save the model"
   ]
  },
  {
   "cell_type": "code",
   "execution_count": 19,
   "metadata": {},
   "outputs": [],
   "source": [
    "ann.save('End_ANN_model_7.h5')"
   ]
  },
  {
   "cell_type": "markdown",
   "metadata": {},
   "source": [
    "## Part 5 - Make predictions"
   ]
  },
  {
   "cell_type": "code",
   "execution_count": 9,
   "metadata": {},
   "outputs": [],
   "source": [
    "ann = load_model('End_ANN_model_7.h5')"
   ]
  },
  {
   "cell_type": "code",
   "execution_count": 20,
   "metadata": {},
   "outputs": [
    {
     "name": "stdout",
     "output_type": "stream",
     "text": [
      "13/13 [==============================] - 0s 1ms/step\n",
      "3/3 [==============================] - 0s 1ms/step\n"
     ]
    },
    {
     "data": {
      "image/png": "[encoded data removed]",
      "text/plain": [
       "<Figure size 432x288 with 2 Axes>"
      ]
     },
     "metadata": {
      "needs_background": "light"
     },
     "output_type": "display_data"
    }
   ],
   "source": [
    "# scatterplot of actual vs. pred\n",
    "# specify the dimensions \n",
    "fig, axes = plt.subplots(1,2) # 1 row, 2 columns\n",
    "\n",
    "# this makes the individual subplots\n",
    "# Training Results\n",
    "axes[0].scatter(x=y_train, y=ann.predict(X_train)) #first row, first entry (left top)\n",
    "axes[0].set_xlabel(\"Actual\", fontsize=10)\n",
    "axes[0].set_ylabel(\"Predicted\",  fontsize=10)\n",
    "axes[0].set_title(\"Training\")\n",
    "# add 45 deg line\n",
    "x = np.linspace(*axes[0].get_xlim())\n",
    "axes[0].plot(x, x, color='red')\n",
    "# Validation Results\n",
    "axes[1].scatter(x=y_val, y=ann.predict(X_val)) # first row, second entry (right top)\n",
    "axes[1].set_xlabel(\"Actual\", fontsize=10)\n",
    "axes[1].set_ylabel(\"Predicted\",  fontsize=10)\n",
    "axes[1].set_title(\"Validation\")\n",
    "# add 45 deg line\n",
    "x = np.linspace(*axes[1].get_xlim())\n",
    "axes[1].plot(x, x, color='red')\n",
    "\n",
    "# tight layout\n",
    "fig.tight_layout()\n",
    "\n",
    "# show the plot\n",
    "plt.show()"
   ]
  },
  {
   "cell_type": "code",
   "execution_count": 21,
   "metadata": {
    "colab": {
     "base_uri": "https://localhost:8080/",
     "height": 134
    },
    "colab_type": "code",
    "id": "IA0yApEmBG1X",
    "outputId": "cb981e1f-9204-4a2a-fece-9d66a6919189"
   },
   "outputs": [
    {
     "name": "stdout",
     "output_type": "stream",
     "text": [
      "3/3 [==============================] - 0s 2ms/step\n",
      "[[0.1  0.1 ]\n",
      " [0.07 0.07]\n",
      " [0.1  0.1 ]\n",
      " [0.03 0.03]\n",
      " [0.04 0.04]\n",
      " [0.06 0.06]\n",
      " [0.11 0.11]\n",
      " [0.09 0.09]\n",
      " [0.04 0.04]\n",
      " [0.1  0.11]\n",
      " [0.06 0.06]\n",
      " [0.06 0.06]\n",
      " [0.06 0.07]\n",
      " [0.11 0.11]\n",
      " [0.09 0.09]\n",
      " [0.04 0.04]\n",
      " [0.08 0.08]\n",
      " [0.05 0.05]\n",
      " [0.09 0.09]\n",
      " [0.06 0.06]\n",
      " [0.03 0.03]\n",
      " [0.03 0.03]\n",
      " [0.09 0.1 ]\n",
      " [0.12 0.12]\n",
      " [0.02 0.02]\n",
      " [0.07 0.08]\n",
      " [0.04 0.04]\n",
      " [0.04 0.04]\n",
      " [0.11 0.11]\n",
      " [0.1  0.1 ]\n",
      " [0.06 0.06]\n",
      " [0.07 0.07]\n",
      " [0.04 0.04]\n",
      " [0.08 0.08]\n",
      " [0.05 0.05]\n",
      " [0.1  0.1 ]\n",
      " [0.1  0.1 ]\n",
      " [0.06 0.06]\n",
      " [0.05 0.05]\n",
      " [0.04 0.04]\n",
      " [0.09 0.09]\n",
      " [0.1  0.1 ]\n",
      " [0.07 0.07]\n",
      " [0.07 0.07]\n",
      " [0.07 0.06]\n",
      " [0.06 0.06]\n",
      " [0.07 0.07]\n",
      " [0.05 0.05]\n",
      " [0.08 0.08]\n",
      " [0.09 0.09]\n",
      " [0.04 0.04]\n",
      " [0.04 0.04]\n",
      " [0.04 0.04]\n",
      " [0.1  0.1 ]\n",
      " [0.05 0.05]\n",
      " [0.12 0.12]\n",
      " [0.11 0.11]\n",
      " [0.11 0.11]\n",
      " [0.06 0.06]\n",
      " [0.08 0.08]\n",
      " [0.04 0.04]\n",
      " [0.05 0.05]\n",
      " [0.1  0.1 ]\n",
      " [0.04 0.04]\n",
      " [0.09 0.09]\n",
      " [0.1  0.1 ]\n",
      " [0.11 0.11]\n",
      " [0.08 0.08]\n",
      " [0.04 0.05]\n",
      " [0.09 0.1 ]\n",
      " [0.08 0.08]\n",
      " [0.11 0.11]\n",
      " [0.1  0.1 ]\n",
      " [0.11 0.12]\n",
      " [0.1  0.1 ]\n",
      " [0.05 0.05]\n",
      " [0.11 0.11]\n",
      " [0.11 0.11]\n",
      " [0.08 0.08]\n",
      " [0.08 0.08]\n",
      " [0.05 0.05]\n",
      " [0.07 0.07]\n",
      " [0.08 0.08]\n",
      " [0.1  0.1 ]\n",
      " [0.04 0.04]\n",
      " [0.04 0.04]\n",
      " [0.07 0.07]]\n"
     ]
    }
   ],
   "source": [
    "#X_test=np.asarray(X_test).astype(np.int)\n",
    "\n",
    "#y_test=np.asarray(y_test).astype(np.int)\n",
    "\n",
    "y_pred = ann.predict(X_test)\n",
    "np.set_printoptions(precision=2)\n",
    "print(np.concatenate((y_pred.reshape(len(y_pred),1), y_test.reshape(len(y_test),1)),1))"
   ]
  },
  {
   "cell_type": "code",
   "execution_count": 22,
   "metadata": {},
   "outputs": [
    {
     "data": {
      "text/plain": [
       "Text(0, 0.5, 'Predicted data')"
      ]
     },
     "execution_count": 22,
     "metadata": {},
     "output_type": "execute_result"
    },
    {
     "data": {
      "image/png": "[encoded data removed]",
      "text/plain": [
       "<Figure size 432x288 with 1 Axes>"
      ]
     },
     "metadata": {
      "needs_background": "light"
     },
     "output_type": "display_data"
    }
   ],
   "source": [
    "import matplotlib.pyplot as plt\n",
    "plt.scatter(y_test, y_pred, color=\"blue\")\n",
    "plt.plot ([0,0.13],[0,0.13], color = \"red\")\n",
    "plt.axis ([0,0.13,0,0.13])\n",
    "plt.xlabel ('Actual data')\n",
    "plt.ylabel ('Predicted data')"
   ]
  },
  {
   "cell_type": "code",
   "execution_count": 23,
   "metadata": {},
   "outputs": [
    {
     "data": {
      "image/png": "[encoded data removed]",
      "text/plain": [
       "<Figure size 648x648 with 1 Axes>"
      ]
     },
     "metadata": {
      "needs_background": "light"
     },
     "output_type": "display_data"
    }
   ],
   "source": [
    "from sklearn.metrics import r2_score\n",
    "# Initialize layout\n",
    "fig1, ax1 = plt.subplots(figsize = (9, 9))\n",
    "\n",
    "\n",
    "#y = y_pred         # Model on prvious line is called here\n",
    "#x = y_test\n",
    "\n",
    "\n",
    "\n",
    "# Add scatterplot\n",
    "ax1.scatter(y_test, y_pred, s=70, alpha=1, edgecolors=\"k\",c='mediumblue',zorder=5, label = 'Points')\n",
    "\n",
    "\n",
    "plt.ylabel('Predicted Peak Incident Pressure (kPa)',fontsize = 25)\n",
    "plt.xlabel('Actual Peak Incident Pressure (kPa)',fontsize = 25)\n",
    "plt.xticks(fontsize = 19)\n",
    "plt.yticks(fontsize = 19)\n",
    "\n",
    "\n",
    "x1 = np.linspace(0,0.13)\n",
    "\n",
    "plt.plot(x1, x1, 'Red', label='45\\N{DEGREE SIGN} line',lw=2.5,alpha=1)\n",
    "plt.plot(x1, 1.1*x1, '--m', label='\\u00B110% Error',lw=2.5,alpha=0.7)\n",
    "plt.plot(x1, 0.9*x1,'m', linestyle='--',lw=2.5,alpha=0.7)\n",
    "plt.plot(x1, 1.2*x1, '-.g', label='\\u00B120% Error',lw=2.5,alpha=0.7)\n",
    "plt.plot(x1, 0.8*x1,'-.g',lw=2.5,alpha=0.7)\n",
    "\n",
    "plt.ylim(0, 0.13)\n",
    "plt.xlim(0, 0.13)\n",
    "plt.legend(loc='upper left',fontsize = 25)\n",
    "\n",
    "plt.grid()\n",
    "\n",
    "ax1.spines['left'].set_color('black')        # setting up Y-axis tick color to red\n",
    "ax1.spines['bottom'].set_color('black')         #setting up above X-axis tick color to red\n",
    "\n",
    "\n",
    "\n",
    "#ax1.annotate(\"$R^2$ = {:.3f}\".format(r2), (2500, 1000),fontsize = 25)  #Model is called here\n",
    "#ax1.annotate(\"Adj.$R^2$ = {:.3f}\".format(adj_r2), (2500, 750),fontsize = 25)\n",
    "\n",
    "#plt.savefig('plot1.png', dpi = 600, bbox_inches = 'tight')"
   ]
  },
  {
   "cell_type": "code",
   "execution_count": 24,
   "metadata": {},
   "outputs": [
    {
     "name": "stdout",
     "output_type": "stream",
     "text": [
      "13/13 [==============================] - 0s 1ms/step\n",
      "0.0011147469971426595\n",
      "0.0011742438520431784\n"
     ]
    }
   ],
   "source": [
    "# metrics\n",
    "\n",
    "\n",
    "trainpreds = ann.predict(X_train)\n",
    "\n",
    "from sklearn.metrics import mean_absolute_error\n",
    "print(mean_absolute_error(y_train, trainpreds)) # train\n",
    "print(mean_absolute_error(y_test, y_pred)) # test"
   ]
  },
  {
   "cell_type": "code",
   "execution_count": 25,
   "metadata": {},
   "outputs": [
    {
     "name": "stdout",
     "output_type": "stream",
     "text": [
      "0.9969665605994698\n"
     ]
    }
   ],
   "source": [
    "from sklearn.metrics import r2_score\n",
    "r2 = r2_score(y_test, y_pred)\n",
    "print (r2)"
   ]
  },
  {
   "cell_type": "code",
   "execution_count": 26,
   "metadata": {},
   "outputs": [
    {
     "name": "stdout",
     "output_type": "stream",
     "text": [
      "0.9972874538421524\n"
     ]
    }
   ],
   "source": [
    "r2_train = r2_score(y_train, trainpreds)\n",
    "print (r2_train)"
   ]
  },
  {
   "cell_type": "code",
   "execution_count": 27,
   "metadata": {},
   "outputs": [
    {
     "name": "stdout",
     "output_type": "stream",
     "text": [
      "Within 10% margin 100.00%\n",
      "Within 20% margin 100.00%\n",
      "Out of 20% margin 0.00%\n"
     ]
    }
   ],
   "source": [
    "count1 = 0\n",
    "for i in range(len(y_pred)):\n",
    "    line1 = y_pred[i] - 0.9*y_test[i]\n",
    "    line2 = y_pred[i] - 1.1*y_test[i]\n",
    "    #print ('line 1 ', line1)\n",
    "    #print ('line 2 ', line2)\n",
    "    mask1 = (line1 > 0) & (line2 < 0)\n",
    "    #print (mask)\n",
    "    count1 = np.sum(mask1+count1)\n",
    "    #print (count)\n",
    "\n",
    "count2 = 0\n",
    "for j in range(len(y_pred)):\n",
    "    line3 = y_pred[j] - 0.8*y_test[j]\n",
    "    line4 = y_pred[j] - 1.2*y_test[j]\n",
    "    mask2 = (line3 > 0) & (line4 < 0)\n",
    "    count2 = np.sum(mask2+count2)\n",
    "\n",
    "\n",
    "count3 = 0    \n",
    "for k in range(len(y_pred)):\n",
    "    line5 = y_pred[k] - 0.8*y_test[k]\n",
    "    line6 = y_pred[k] - 1.2*y_test[k]\n",
    "    mask3 = (line5 < 0) or (line6 > 0)\n",
    "    count3 = np.sum(mask3+count3)\n",
    "   \n",
    "\n",
    "print ('Within 10% margin', format((count1/len (y_pred)),'.2%'))\n",
    "print ('Within 20% margin', format((count2/len (y_pred)),'.2%'))\n",
    "print ('Out of 20% margin', format((count3/len (y_pred)),'.2%'))"
   ]
  },
  {
   "cell_type": "code",
   "execution_count": 28,
   "metadata": {},
   "outputs": [
    {
     "name": "stdout",
     "output_type": "stream",
     "text": [
      "0.9968943358518381\n"
     ]
    }
   ],
   "source": [
    "adj_r2 = 1 - ((1 - r2) * (len(X_test) - 1) / (len(X_test) - len (X_test[0]) - 1))\n",
    "print (adj_r2)"
   ]
  },
  {
   "cell_type": "code",
   "execution_count": 29,
   "metadata": {},
   "outputs": [
    {
     "data": {
      "text/plain": [
       "0.0014662641226013972"
      ]
     },
     "execution_count": 29,
     "metadata": {},
     "output_type": "execute_result"
    }
   ],
   "source": [
    "import math\n",
    "from sklearn.metrics import mean_squared_error\n",
    "\n",
    "math.sqrt(mean_squared_error(y_test, y_pred))"
   ]
  },
  {
   "cell_type": "code",
   "execution_count": 30,
   "metadata": {},
   "outputs": [
    {
     "data": {
      "text/plain": [
       "0.0011742438520431784"
      ]
     },
     "execution_count": 30,
     "metadata": {},
     "output_type": "execute_result"
    }
   ],
   "source": [
    "from sklearn.metrics import mean_absolute_error\n",
    "\n",
    "mean_absolute_error(y_test, y_pred)"
   ]
  }
 ],
 "metadata": {
  "colab": {
   "collapsed_sections": [],
   "name": "Artificial Neural Network",
   "provenance": [],
   "toc_visible": true
  },
  "kernelspec": {
   "display_name": "Python 3 (ipykernel)",
   "language": "python",
   "name": "python3"
  },
  "language_info": {
   "codemirror_mode": {
    "name": "ipython",
    "version": 3
   },
   "file_extension": ".py",
   "mimetype": "text/x-python",
   "name": "python",
   "nbconvert_exporter": "python",
   "pygments_lexer": "ipython3",
   "version": "3.9.7"
  }
 },
 "nbformat": 4,
 "nbformat_minor": 4
}
