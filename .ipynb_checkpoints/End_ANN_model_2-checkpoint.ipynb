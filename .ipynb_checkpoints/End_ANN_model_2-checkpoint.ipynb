{
 "cells": [
  {
   "cell_type": "markdown",
   "metadata": {
    "colab_type": "text",
    "id": "3cbb7fRy-eyr"
   },
   "source": [
    "# Artificial Neural Network"
   ]
  },
  {
   "cell_type": "markdown",
   "metadata": {
    "colab_type": "text",
    "id": "8sNDnxE2-pwE"
   },
   "source": [
    "### Importing the libraries"
   ]
  },
  {
   "cell_type": "code",
   "execution_count": 1,
   "metadata": {
    "colab": {},
    "colab_type": "code",
    "id": "lxChR1Rk-umf"
   },
   "outputs": [],
   "source": [
    "import numpy as np\n",
    "import pandas as pd\n",
    "import tensorflow as tf"
   ]
  },
  {
   "cell_type": "markdown",
   "metadata": {
    "colab_type": "text",
    "id": "AG3FQEch-yuA"
   },
   "source": [
    "## Part 1 - Data Preprocessing"
   ]
  },
  {
   "cell_type": "markdown",
   "metadata": {
    "colab_type": "text",
    "id": "-4zq8Mza_D9O"
   },
   "source": [
    "### Importing the dataset"
   ]
  },
  {
   "cell_type": "code",
   "execution_count": 2,
   "metadata": {
    "colab": {},
    "colab_type": "code",
    "id": "B9CV13Co_HHM"
   },
   "outputs": [
    {
     "name": "stdout",
     "output_type": "stream",
     "text": [
      "<class 'pandas.core.frame.DataFrame'>\n",
      "RangeIndex: 560 entries, 0 to 559\n",
      "Data columns (total 3 columns):\n",
      " #   Column             Non-Null Count  Dtype  \n",
      "---  ------             --------------  -----  \n",
      " 0   Charge_mass        560 non-null    float64\n",
      " 1   Standoff_distance  560 non-null    int64  \n",
      " 2   End_time           560 non-null    float64\n",
      "dtypes: float64(2), int64(1)\n",
      "memory usage: 13.2 KB\n"
     ]
    }
   ],
   "source": [
    "dataset = pd.read_excel('End_time.xlsx')\n",
    "dataset.info()"
   ]
  },
  {
   "cell_type": "code",
   "execution_count": 3,
   "metadata": {},
   "outputs": [
    {
     "data": {
      "text/html": [
       "<div>\n",
       "<style scoped>\n",
       "    .dataframe tbody tr th:only-of-type {\n",
       "        vertical-align: middle;\n",
       "    }\n",
       "\n",
       "    .dataframe tbody tr th {\n",
       "        vertical-align: top;\n",
       "    }\n",
       "\n",
       "    .dataframe thead th {\n",
       "        text-align: right;\n",
       "    }\n",
       "</style>\n",
       "<table border=\"1\" class=\"dataframe\">\n",
       "  <thead>\n",
       "    <tr style=\"text-align: right;\">\n",
       "      <th></th>\n",
       "      <th>Charge_mass</th>\n",
       "      <th>Standoff_distance</th>\n",
       "      <th>Time_of_arrival</th>\n",
       "    </tr>\n",
       "  </thead>\n",
       "  <tbody>\n",
       "    <tr>\n",
       "      <th>0</th>\n",
       "      <td>0.5</td>\n",
       "      <td>1</td>\n",
       "      <td>0.00066</td>\n",
       "    </tr>\n",
       "    <tr>\n",
       "      <th>1</th>\n",
       "      <td>0.5</td>\n",
       "      <td>7</td>\n",
       "      <td>0.01583</td>\n",
       "    </tr>\n",
       "    <tr>\n",
       "      <th>2</th>\n",
       "      <td>0.5</td>\n",
       "      <td>9</td>\n",
       "      <td>0.02156</td>\n",
       "    </tr>\n",
       "    <tr>\n",
       "      <th>3</th>\n",
       "      <td>0.5</td>\n",
       "      <td>11</td>\n",
       "      <td>0.02735</td>\n",
       "    </tr>\n",
       "    <tr>\n",
       "      <th>4</th>\n",
       "      <td>0.5</td>\n",
       "      <td>13</td>\n",
       "      <td>0.03318</td>\n",
       "    </tr>\n",
       "  </tbody>\n",
       "</table>\n",
       "</div>"
      ],
      "text/plain": [
       "   Charge_mass  Standoff_distance  Time_of_arrival\n",
       "0          0.5                  1          0.00066\n",
       "1          0.5                  7          0.01583\n",
       "2          0.5                  9          0.02156\n",
       "3          0.5                 11          0.02735\n",
       "4          0.5                 13          0.03318"
      ]
     },
     "execution_count": 3,
     "metadata": {},
     "output_type": "execute_result"
    }
   ],
   "source": [
    "dataset.head()"
   ]
  },
  {
   "cell_type": "code",
   "execution_count": 3,
   "metadata": {},
   "outputs": [
    {
     "name": "stdout",
     "output_type": "stream",
     "text": [
      "(560, 2) (560,)\n"
     ]
    }
   ],
   "source": [
    "y = dataset['End_time']\n",
    "X = dataset.drop('End_time', axis=1)\n",
    "print(X.shape, y.shape)"
   ]
  },
  {
   "cell_type": "code",
   "execution_count": 4,
   "metadata": {},
   "outputs": [],
   "source": [
    "# convert to numpy array\n",
    "X = np.array(X)\n",
    "y = np.array(y)"
   ]
  },
  {
   "cell_type": "markdown",
   "metadata": {
    "colab_type": "text",
    "id": "VC6omXel_Up0"
   },
   "source": [
    "### Splitting the dataset into the Training set and Test set"
   ]
  },
  {
   "cell_type": "code",
   "execution_count": 5,
   "metadata": {
    "colab": {},
    "colab_type": "code",
    "id": "L5edeb2r_agx"
   },
   "outputs": [],
   "source": [
    "from sklearn.model_selection import train_test_split\n",
    "X_train, X_test, y_train, y_test = train_test_split(X, y, test_size = 0.3, random_state = 0)"
   ]
  },
  {
   "cell_type": "code",
   "execution_count": 6,
   "metadata": {
    "colab": {},
    "colab_type": "code",
    "id": "L5edeb2r_agx"
   },
   "outputs": [],
   "source": [
    "X_val, X_test, y_val, y_test = train_test_split(X_test, y_test, test_size = 0.5, random_state = 0)"
   ]
  },
  {
   "cell_type": "markdown",
   "metadata": {
    "colab_type": "text",
    "id": "_mSLlAT9_eyI"
   },
   "source": [
    "## Part 2 - Building the ANN"
   ]
  },
  {
   "cell_type": "markdown",
   "metadata": {
    "colab_type": "text",
    "id": "CsBULd_f_wLY"
   },
   "source": [
    "### Initializing the ANN"
   ]
  },
  {
   "cell_type": "code",
   "execution_count": 7,
   "metadata": {
    "colab": {},
    "colab_type": "code",
    "id": "J6Hd97Ls__Nz"
   },
   "outputs": [],
   "source": [
    "ann = tf.keras.models.Sequential()"
   ]
  },
  {
   "cell_type": "markdown",
   "metadata": {
    "colab_type": "text",
    "id": "iitAFJS_ABUn"
   },
   "source": [
    "### Adding the input layer and the first hidden layer"
   ]
  },
  {
   "cell_type": "code",
   "execution_count": 8,
   "metadata": {
    "colab": {},
    "colab_type": "code",
    "id": "ksO_Vv40AHix"
   },
   "outputs": [],
   "source": [
    "ann.add(tf.keras.layers.Dense(units=5, input_shape=(X_train.shape[1],), activation='relu'))"
   ]
  },
  {
   "cell_type": "markdown",
   "metadata": {
    "colab_type": "text",
    "id": "-lb4kK_wAKbs"
   },
   "source": [
    "### Adding the second hidden layer"
   ]
  },
  {
   "cell_type": "code",
   "execution_count": 9,
   "metadata": {
    "colab": {},
    "colab_type": "code",
    "id": "c2357OqEAQOQ",
    "tags": []
   },
   "outputs": [],
   "source": [
    "ann.add(tf.keras.layers.Dense(units=5, activation='relu'))"
   ]
  },
  {
   "cell_type": "markdown",
   "metadata": {
    "colab_type": "text",
    "id": "-lb4kK_wAKbs"
   },
   "source": [
    "### Adding the third hidden layer"
   ]
  },
  {
   "cell_type": "code",
   "execution_count": 10,
   "metadata": {
    "colab": {},
    "colab_type": "code",
    "id": "c2357OqEAQOQ",
    "tags": []
   },
   "outputs": [],
   "source": [
    "ann.add(tf.keras.layers.Dense(units=5, activation='relu'))"
   ]
  },
  {
   "cell_type": "markdown",
   "metadata": {
    "colab_type": "text",
    "id": "jwMOmKb3AdBY"
   },
   "source": [
    "### Adding the output layer"
   ]
  },
  {
   "cell_type": "code",
   "execution_count": 11,
   "metadata": {
    "colab": {},
    "colab_type": "code",
    "id": "YFATpzsUAkLL"
   },
   "outputs": [],
   "source": [
    "ann.add(tf.keras.layers.Dense(units=1, activation='linear'))"
   ]
  },
  {
   "cell_type": "markdown",
   "metadata": {},
   "source": [
    "### what model looks like"
   ]
  },
  {
   "cell_type": "code",
   "execution_count": 12,
   "metadata": {},
   "outputs": [
    {
     "name": "stdout",
     "output_type": "stream",
     "text": [
      "Model: \"sequential\"\n",
      "_________________________________________________________________\n",
      " Layer (type)                Output Shape              Param #   \n",
      "=================================================================\n",
      " dense (Dense)               (None, 5)                 15        \n",
      "                                                                 \n",
      " dense_1 (Dense)             (None, 5)                 30        \n",
      "                                                                 \n",
      " dense_2 (Dense)             (None, 5)                 30        \n",
      "                                                                 \n",
      " dense_3 (Dense)             (None, 1)                 6         \n",
      "                                                                 \n",
      "=================================================================\n",
      "Total params: 81\n",
      "Trainable params: 81\n",
      "Non-trainable params: 0\n",
      "_________________________________________________________________\n"
     ]
    }
   ],
   "source": [
    "ann.summary()"
   ]
  },
  {
   "cell_type": "markdown",
   "metadata": {
    "colab_type": "text",
    "id": "fq7e4fF6A1yy"
   },
   "source": [
    "## Part 3 - Training the ANN"
   ]
  },
  {
   "cell_type": "markdown",
   "metadata": {
    "colab_type": "text",
    "id": "qDeylAs2An25"
   },
   "source": [
    "### Compiling the ANN"
   ]
  },
  {
   "cell_type": "code",
   "execution_count": 13,
   "metadata": {
    "colab": {},
    "colab_type": "code",
    "id": "pesgbWlCAtB4"
   },
   "outputs": [],
   "source": [
    "from tensorflow.keras.optimizers import RMSprop\n",
    "opt = RMSprop(learning_rate=0.001)\n",
    "ann.compile(optimizer = opt, loss = 'mean_squared_error', metrics = ['mae'])"
   ]
  },
  {
   "cell_type": "markdown",
   "metadata": {},
   "source": [
    "### early stopping callback"
   ]
  },
  {
   "cell_type": "code",
   "execution_count": 14,
   "metadata": {},
   "outputs": [],
   "source": [
    "# protects from unnecessary further training of the model if a particular metric does not continue to improve over a number of n epochs. In such a case, the model training would be automatically aborted.\n",
    "from keras.callbacks import EarlyStopping\n",
    "es = EarlyStopping(monitor='val_loss',\n",
    "                   mode='min',\n",
    "                   patience=50,\n",
    "                   restore_best_weights = True)"
   ]
  },
  {
   "cell_type": "markdown",
   "metadata": {
    "colab_type": "text",
    "id": "YjVuiybYOo7r"
   },
   "source": [
    "### Training the ANN model on the Training set"
   ]
  },
  {
   "cell_type": "code",
   "execution_count": 15,
   "metadata": {
    "colab": {
     "base_uri": "https://localhost:8080/",
     "height": 1000
    },
    "colab_type": "code",
    "id": "c_vV-tiiA5zn",
    "outputId": "4a2b6ee6-ed75-4698-9069-b250e613803f"
   },
   "outputs": [
    {
     "name": "stdout",
     "output_type": "stream",
     "text": [
      "Epoch 1/500\n",
      "10/10 [==============================] - 1s 23ms/step - loss: 8.8452 - mae: 2.7445 - val_loss: 8.0091 - val_mae: 2.6045\n",
      "Epoch 2/500\n",
      "10/10 [==============================] - 0s 7ms/step - loss: 6.9232 - mae: 2.4247 - val_loss: 6.5264 - val_mae: 2.3480\n",
      "Epoch 3/500\n",
      "10/10 [==============================] - 0s 6ms/step - loss: 5.6784 - mae: 2.1923 - val_loss: 5.4012 - val_mae: 2.1330\n",
      "Epoch 4/500\n",
      "10/10 [==============================] - 0s 6ms/step - loss: 4.6988 - mae: 1.9919 - val_loss: 4.4707 - val_mae: 1.9375\n",
      "Epoch 5/500\n",
      "10/10 [==============================] - 0s 6ms/step - loss: 3.8813 - mae: 1.8070 - val_loss: 3.6859 - val_mae: 1.7560\n",
      "Epoch 6/500\n",
      "10/10 [==============================] - 0s 7ms/step - loss: 3.1959 - mae: 1.6344 - val_loss: 3.0318 - val_mae: 1.5893\n",
      "Epoch 7/500\n",
      "10/10 [==============================] - 0s 7ms/step - loss: 2.6131 - mae: 1.4761 - val_loss: 2.4698 - val_mae: 1.4309\n",
      "Epoch 8/500\n",
      "10/10 [==============================] - 0s 6ms/step - loss: 2.1221 - mae: 1.3259 - val_loss: 2.0000 - val_mae: 1.2839\n",
      "Epoch 9/500\n",
      "10/10 [==============================] - 0s 7ms/step - loss: 1.7088 - mae: 1.1866 - val_loss: 1.6034 - val_mae: 1.1455\n",
      "Epoch 10/500\n",
      "10/10 [==============================] - 0s 6ms/step - loss: 1.3649 - mae: 1.0558 - val_loss: 1.2766 - val_mae: 1.0182\n",
      "Epoch 11/500\n",
      "10/10 [==============================] - 0s 10ms/step - loss: 1.0801 - mae: 0.9351 - val_loss: 1.0056 - val_mae: 0.8997\n",
      "Epoch 12/500\n",
      "10/10 [==============================] - 0s 8ms/step - loss: 0.8440 - mae: 0.8230 - val_loss: 0.7815 - val_mae: 0.7888\n",
      "Epoch 13/500\n",
      "10/10 [==============================] - 0s 6ms/step - loss: 0.6523 - mae: 0.7183 - val_loss: 0.6017 - val_mae: 0.6874\n",
      "Epoch 14/500\n",
      "10/10 [==============================] - 0s 7ms/step - loss: 0.4968 - mae: 0.6228 - val_loss: 0.4540 - val_mae: 0.5925\n",
      "Epoch 15/500\n",
      "10/10 [==============================] - 0s 7ms/step - loss: 0.3727 - mae: 0.5336 - val_loss: 0.3392 - val_mae: 0.5079\n",
      "Epoch 16/500\n",
      "10/10 [==============================] - 0s 7ms/step - loss: 0.2757 - mae: 0.4541 - val_loss: 0.2483 - val_mae: 0.4307\n",
      "Epoch 17/500\n",
      "10/10 [==============================] - 0s 8ms/step - loss: 0.1987 - mae: 0.3814 - val_loss: 0.1771 - val_mae: 0.3607\n",
      "Epoch 18/500\n",
      "10/10 [==============================] - 0s 6ms/step - loss: 0.1397 - mae: 0.3154 - val_loss: 0.1228 - val_mae: 0.2991\n",
      "Epoch 19/500\n",
      "10/10 [==============================] - 0s 7ms/step - loss: 0.0952 - mae: 0.2558 - val_loss: 0.0826 - val_mae: 0.2451\n",
      "Epoch 20/500\n",
      "10/10 [==============================] - 0s 8ms/step - loss: 0.0631 - mae: 0.2046 - val_loss: 0.0543 - val_mae: 0.1987\n",
      "Epoch 21/500\n",
      "10/10 [==============================] - 0s 5ms/step - loss: 0.0409 - mae: 0.1631 - val_loss: 0.0350 - val_mae: 0.1596\n",
      "Epoch 22/500\n",
      "10/10 [==============================] - 0s 7ms/step - loss: 0.0261 - mae: 0.1304 - val_loss: 0.0222 - val_mae: 0.1272\n",
      "Epoch 23/500\n",
      "10/10 [==============================] - 0s 6ms/step - loss: 0.0170 - mae: 0.1052 - val_loss: 0.0150 - val_mae: 0.1044\n",
      "Epoch 24/500\n",
      "10/10 [==============================] - 0s 7ms/step - loss: 0.0121 - mae: 0.0903 - val_loss: 0.0112 - val_mae: 0.0903\n",
      "Epoch 25/500\n",
      "10/10 [==============================] - 0s 6ms/step - loss: 0.0098 - mae: 0.0813 - val_loss: 0.0094 - val_mae: 0.0817\n",
      "Epoch 26/500\n",
      "10/10 [==============================] - 0s 6ms/step - loss: 0.0086 - mae: 0.0760 - val_loss: 0.0083 - val_mae: 0.0759\n",
      "Epoch 27/500\n",
      "10/10 [==============================] - 0s 7ms/step - loss: 0.0076 - mae: 0.0716 - val_loss: 0.0073 - val_mae: 0.0708\n",
      "Epoch 28/500\n",
      "10/10 [==============================] - 0s 6ms/step - loss: 0.0068 - mae: 0.0674 - val_loss: 0.0064 - val_mae: 0.0660\n",
      "Epoch 29/500\n",
      "10/10 [==============================] - 0s 7ms/step - loss: 0.0060 - mae: 0.0632 - val_loss: 0.0057 - val_mae: 0.0622\n",
      "Epoch 30/500\n",
      "10/10 [==============================] - 0s 7ms/step - loss: 0.0053 - mae: 0.0590 - val_loss: 0.0050 - val_mae: 0.0583\n",
      "Epoch 31/500\n",
      "10/10 [==============================] - 0s 6ms/step - loss: 0.0046 - mae: 0.0552 - val_loss: 0.0045 - val_mae: 0.0559\n",
      "Epoch 32/500\n",
      "10/10 [==============================] - 0s 7ms/step - loss: 0.0041 - mae: 0.0516 - val_loss: 0.0039 - val_mae: 0.0514\n",
      "Epoch 33/500\n",
      "10/10 [==============================] - 0s 5ms/step - loss: 0.0036 - mae: 0.0481 - val_loss: 0.0034 - val_mae: 0.0476\n",
      "Epoch 34/500\n",
      "10/10 [==============================] - 0s 7ms/step - loss: 0.0031 - mae: 0.0451 - val_loss: 0.0030 - val_mae: 0.0448\n",
      "Epoch 35/500\n",
      "10/10 [==============================] - 0s 9ms/step - loss: 0.0027 - mae: 0.0417 - val_loss: 0.0026 - val_mae: 0.0421\n",
      "Epoch 36/500\n",
      "10/10 [==============================] - 0s 6ms/step - loss: 0.0024 - mae: 0.0387 - val_loss: 0.0022 - val_mae: 0.0389\n",
      "Epoch 37/500\n",
      "10/10 [==============================] - 0s 7ms/step - loss: 0.0020 - mae: 0.0359 - val_loss: 0.0019 - val_mae: 0.0357\n",
      "Epoch 38/500\n",
      "10/10 [==============================] - 0s 7ms/step - loss: 0.0017 - mae: 0.0333 - val_loss: 0.0016 - val_mae: 0.0331\n",
      "Epoch 39/500\n",
      "10/10 [==============================] - 0s 6ms/step - loss: 0.0014 - mae: 0.0303 - val_loss: 0.0013 - val_mae: 0.0305\n",
      "Epoch 40/500\n",
      "10/10 [==============================] - 0s 5ms/step - loss: 0.0012 - mae: 0.0280 - val_loss: 0.0011 - val_mae: 0.0275\n",
      "Epoch 41/500\n",
      "10/10 [==============================] - 0s 8ms/step - loss: 9.9428e-04 - mae: 0.0254 - val_loss: 9.0258e-04 - val_mae: 0.0248\n",
      "Epoch 42/500\n",
      "10/10 [==============================] - 0s 7ms/step - loss: 8.0936e-04 - mae: 0.0230 - val_loss: 7.2162e-04 - val_mae: 0.0223\n",
      "Epoch 43/500\n",
      "10/10 [==============================] - 0s 7ms/step - loss: 6.5994e-04 - mae: 0.0208 - val_loss: 5.7562e-04 - val_mae: 0.0200\n",
      "Epoch 44/500\n",
      "10/10 [==============================] - 0s 6ms/step - loss: 5.3910e-04 - mae: 0.0188 - val_loss: 4.5982e-04 - val_mae: 0.0178\n",
      "Epoch 45/500\n",
      "10/10 [==============================] - 0s 7ms/step - loss: 4.4321e-04 - mae: 0.0173 - val_loss: 3.6591e-04 - val_mae: 0.0159\n",
      "Epoch 46/500\n",
      "10/10 [==============================] - 0s 6ms/step - loss: 3.6199e-04 - mae: 0.0157 - val_loss: 3.4631e-04 - val_mae: 0.0153\n",
      "Epoch 47/500\n",
      "10/10 [==============================] - 0s 6ms/step - loss: 3.0862e-04 - mae: 0.0146 - val_loss: 2.4153e-04 - val_mae: 0.0128\n",
      "Epoch 48/500\n",
      "10/10 [==============================] - 0s 7ms/step - loss: 2.5395e-04 - mae: 0.0133 - val_loss: 1.9217e-04 - val_mae: 0.0113\n",
      "Epoch 49/500\n",
      "10/10 [==============================] - 0s 7ms/step - loss: 2.1887e-04 - mae: 0.0124 - val_loss: 1.6154e-04 - val_mae: 0.0103\n",
      "Epoch 50/500\n",
      "10/10 [==============================] - 0s 7ms/step - loss: 1.9478e-04 - mae: 0.0119 - val_loss: 1.3410e-04 - val_mae: 0.0094\n",
      "Epoch 51/500\n",
      "10/10 [==============================] - 0s 6ms/step - loss: 1.7284e-04 - mae: 0.0111 - val_loss: 1.1855e-04 - val_mae: 0.0087\n",
      "Epoch 52/500\n",
      "10/10 [==============================] - 0s 6ms/step - loss: 1.6687e-04 - mae: 0.0109 - val_loss: 1.0830e-04 - val_mae: 0.0083\n",
      "Epoch 53/500\n",
      "10/10 [==============================] - 0s 6ms/step - loss: 1.5790e-04 - mae: 0.0105 - val_loss: 1.0884e-04 - val_mae: 0.0085\n",
      "Epoch 54/500\n",
      "10/10 [==============================] - 0s 7ms/step - loss: 1.4503e-04 - mae: 0.0102 - val_loss: 9.5163e-05 - val_mae: 0.0076\n",
      "Epoch 55/500\n",
      "10/10 [==============================] - 0s 7ms/step - loss: 1.3471e-04 - mae: 0.0098 - val_loss: 8.8301e-05 - val_mae: 0.0074\n",
      "Epoch 56/500\n",
      "10/10 [==============================] - 0s 7ms/step - loss: 1.3303e-04 - mae: 0.0097 - val_loss: 8.4987e-05 - val_mae: 0.0075\n",
      "Epoch 57/500\n",
      "10/10 [==============================] - 0s 7ms/step - loss: 1.2231e-04 - mae: 0.0093 - val_loss: 7.8277e-05 - val_mae: 0.0071\n",
      "Epoch 58/500\n",
      "10/10 [==============================] - 0s 6ms/step - loss: 1.2229e-04 - mae: 0.0094 - val_loss: 8.2251e-05 - val_mae: 0.0076\n",
      "Epoch 59/500\n",
      "10/10 [==============================] - 0s 7ms/step - loss: 1.1010e-04 - mae: 0.0089 - val_loss: 7.0702e-05 - val_mae: 0.0067\n",
      "Epoch 60/500\n",
      "10/10 [==============================] - 0s 6ms/step - loss: 1.1040e-04 - mae: 0.0089 - val_loss: 6.8176e-05 - val_mae: 0.0067\n",
      "Epoch 61/500\n",
      "10/10 [==============================] - 0s 7ms/step - loss: 1.0605e-04 - mae: 0.0088 - val_loss: 7.2215e-05 - val_mae: 0.0073\n",
      "Epoch 62/500\n",
      "10/10 [==============================] - 0s 6ms/step - loss: 9.9603e-05 - mae: 0.0085 - val_loss: 8.8432e-05 - val_mae: 0.0083\n",
      "Epoch 63/500\n",
      "10/10 [==============================] - 0s 6ms/step - loss: 9.5932e-05 - mae: 0.0084 - val_loss: 6.1970e-05 - val_mae: 0.0064\n",
      "Epoch 64/500\n",
      "10/10 [==============================] - 0s 7ms/step - loss: 9.4569e-05 - mae: 0.0083 - val_loss: 6.0633e-05 - val_mae: 0.0063\n",
      "Epoch 65/500\n",
      "10/10 [==============================] - 0s 6ms/step - loss: 9.1919e-05 - mae: 0.0082 - val_loss: 6.5936e-05 - val_mae: 0.0071\n",
      "Epoch 66/500\n",
      "10/10 [==============================] - 0s 6ms/step - loss: 9.2547e-05 - mae: 0.0083 - val_loss: 6.4405e-05 - val_mae: 0.0070\n",
      "Epoch 67/500\n",
      "10/10 [==============================] - 0s 6ms/step - loss: 8.6417e-05 - mae: 0.0081 - val_loss: 5.8608e-05 - val_mae: 0.0062\n",
      "Epoch 68/500\n",
      "10/10 [==============================] - 0s 9ms/step - loss: 9.0365e-05 - mae: 0.0083 - val_loss: 5.9293e-05 - val_mae: 0.0066\n",
      "Epoch 69/500\n",
      "10/10 [==============================] - 0s 9ms/step - loss: 8.2616e-05 - mae: 0.0080 - val_loss: 5.7444e-05 - val_mae: 0.0063\n",
      "Epoch 70/500\n",
      "10/10 [==============================] - 0s 7ms/step - loss: 8.4193e-05 - mae: 0.0080 - val_loss: 5.9988e-05 - val_mae: 0.0062\n",
      "Epoch 71/500\n",
      "10/10 [==============================] - 0s 7ms/step - loss: 8.2131e-05 - mae: 0.0079 - val_loss: 5.7892e-05 - val_mae: 0.0064\n",
      "Epoch 72/500\n",
      "10/10 [==============================] - 0s 6ms/step - loss: 8.4246e-05 - mae: 0.0080 - val_loss: 6.1980e-05 - val_mae: 0.0068\n",
      "Epoch 73/500\n",
      "10/10 [==============================] - 0s 6ms/step - loss: 8.1276e-05 - mae: 0.0080 - val_loss: 6.4861e-05 - val_mae: 0.0064\n",
      "Epoch 74/500\n",
      "10/10 [==============================] - 0s 13ms/step - loss: 8.3732e-05 - mae: 0.0081 - val_loss: 6.3423e-05 - val_mae: 0.0069\n",
      "Epoch 75/500\n",
      "10/10 [==============================] - 0s 8ms/step - loss: 8.3478e-05 - mae: 0.0081 - val_loss: 5.8089e-05 - val_mae: 0.0064\n",
      "Epoch 76/500\n",
      "10/10 [==============================] - 0s 7ms/step - loss: 8.1864e-05 - mae: 0.0080 - val_loss: 7.0577e-05 - val_mae: 0.0067\n",
      "Epoch 77/500\n",
      "10/10 [==============================] - 0s 7ms/step - loss: 8.1578e-05 - mae: 0.0079 - val_loss: 5.8521e-05 - val_mae: 0.0064\n",
      "Epoch 78/500\n",
      "10/10 [==============================] - 0s 7ms/step - loss: 8.3412e-05 - mae: 0.0080 - val_loss: 5.8970e-05 - val_mae: 0.0064\n",
      "Epoch 79/500\n",
      "10/10 [==============================] - 0s 6ms/step - loss: 8.0314e-05 - mae: 0.0079 - val_loss: 5.8818e-05 - val_mae: 0.0065\n",
      "Epoch 80/500\n",
      "10/10 [==============================] - 0s 6ms/step - loss: 8.0908e-05 - mae: 0.0080 - val_loss: 5.9092e-05 - val_mae: 0.0065\n",
      "Epoch 81/500\n",
      "10/10 [==============================] - 0s 7ms/step - loss: 7.9305e-05 - mae: 0.0079 - val_loss: 6.0838e-05 - val_mae: 0.0066\n",
      "Epoch 82/500\n",
      "10/10 [==============================] - 0s 7ms/step - loss: 8.3330e-05 - mae: 0.0080 - val_loss: 6.6510e-05 - val_mae: 0.0071\n",
      "Epoch 83/500\n",
      "10/10 [==============================] - 0s 7ms/step - loss: 8.1794e-05 - mae: 0.0080 - val_loss: 8.4501e-05 - val_mae: 0.0080\n",
      "Epoch 84/500\n",
      "10/10 [==============================] - 0s 6ms/step - loss: 8.0897e-05 - mae: 0.0080 - val_loss: 6.0774e-05 - val_mae: 0.0065\n",
      "Epoch 85/500\n",
      "10/10 [==============================] - 0s 7ms/step - loss: 8.2112e-05 - mae: 0.0080 - val_loss: 6.0015e-05 - val_mae: 0.0065\n",
      "Epoch 86/500\n",
      "10/10 [==============================] - 0s 9ms/step - loss: 7.9945e-05 - mae: 0.0079 - val_loss: 9.4137e-05 - val_mae: 0.0083\n",
      "Epoch 87/500\n",
      "10/10 [==============================] - 0s 8ms/step - loss: 8.0625e-05 - mae: 0.0080 - val_loss: 6.1760e-05 - val_mae: 0.0065\n",
      "Epoch 88/500\n",
      "10/10 [==============================] - 0s 8ms/step - loss: 8.3317e-05 - mae: 0.0081 - val_loss: 6.3270e-05 - val_mae: 0.0068\n",
      "Epoch 89/500\n",
      "10/10 [==============================] - 0s 8ms/step - loss: 8.1863e-05 - mae: 0.0080 - val_loss: 6.6135e-05 - val_mae: 0.0067\n",
      "Epoch 90/500\n",
      "10/10 [==============================] - 0s 6ms/step - loss: 8.2916e-05 - mae: 0.0080 - val_loss: 6.2555e-05 - val_mae: 0.0068\n",
      "Epoch 91/500\n",
      "10/10 [==============================] - 0s 6ms/step - loss: 7.7652e-05 - mae: 0.0078 - val_loss: 6.5866e-05 - val_mae: 0.0070\n",
      "Epoch 92/500\n",
      "10/10 [==============================] - 0s 7ms/step - loss: 8.4630e-05 - mae: 0.0080 - val_loss: 6.2391e-05 - val_mae: 0.0067\n",
      "Epoch 93/500\n",
      "10/10 [==============================] - 0s 7ms/step - loss: 7.9832e-05 - mae: 0.0080 - val_loss: 6.0269e-05 - val_mae: 0.0066\n",
      "Epoch 94/500\n",
      "10/10 [==============================] - 0s 10ms/step - loss: 8.0370e-05 - mae: 0.0080 - val_loss: 6.4198e-05 - val_mae: 0.0069\n",
      "Epoch 95/500\n",
      "10/10 [==============================] - 0s 7ms/step - loss: 7.8376e-05 - mae: 0.0078 - val_loss: 6.1124e-05 - val_mae: 0.0066\n",
      "Epoch 96/500\n",
      "10/10 [==============================] - 0s 7ms/step - loss: 8.2857e-05 - mae: 0.0080 - val_loss: 7.0130e-05 - val_mae: 0.0073\n",
      "Epoch 97/500\n",
      "10/10 [==============================] - 0s 8ms/step - loss: 8.1732e-05 - mae: 0.0081 - val_loss: 6.0761e-05 - val_mae: 0.0066\n",
      "Epoch 98/500\n",
      "10/10 [==============================] - 0s 8ms/step - loss: 7.9633e-05 - mae: 0.0079 - val_loss: 6.0719e-05 - val_mae: 0.0066\n",
      "Epoch 99/500\n",
      "10/10 [==============================] - 0s 7ms/step - loss: 8.1599e-05 - mae: 0.0080 - val_loss: 6.0503e-05 - val_mae: 0.0066\n",
      "Epoch 100/500\n",
      "10/10 [==============================] - 0s 7ms/step - loss: 8.3771e-05 - mae: 0.0081 - val_loss: 6.0815e-05 - val_mae: 0.0066\n",
      "Epoch 101/500\n",
      "10/10 [==============================] - 0s 9ms/step - loss: 8.2850e-05 - mae: 0.0081 - val_loss: 6.1490e-05 - val_mae: 0.0066\n",
      "Epoch 102/500\n",
      "10/10 [==============================] - 0s 7ms/step - loss: 7.9258e-05 - mae: 0.0080 - val_loss: 8.2433e-05 - val_mae: 0.0079\n",
      "Epoch 103/500\n",
      "10/10 [==============================] - 0s 8ms/step - loss: 8.1404e-05 - mae: 0.0079 - val_loss: 6.0885e-05 - val_mae: 0.0066\n",
      "Epoch 104/500\n",
      "10/10 [==============================] - 0s 7ms/step - loss: 8.4478e-05 - mae: 0.0081 - val_loss: 6.1448e-05 - val_mae: 0.0067\n",
      "Epoch 105/500\n",
      "10/10 [==============================] - 0s 8ms/step - loss: 8.0645e-05 - mae: 0.0080 - val_loss: 6.6150e-05 - val_mae: 0.0070\n",
      "Epoch 106/500\n",
      "10/10 [==============================] - 0s 6ms/step - loss: 8.1512e-05 - mae: 0.0080 - val_loss: 7.1404e-05 - val_mae: 0.0069\n",
      "Epoch 107/500\n",
      "10/10 [==============================] - 0s 5ms/step - loss: 7.9965e-05 - mae: 0.0079 - val_loss: 6.0907e-05 - val_mae: 0.0066\n",
      "Epoch 108/500\n",
      "10/10 [==============================] - 0s 8ms/step - loss: 8.2921e-05 - mae: 0.0081 - val_loss: 6.3944e-05 - val_mae: 0.0069\n",
      "Epoch 109/500\n",
      "10/10 [==============================] - 0s 7ms/step - loss: 7.9345e-05 - mae: 0.0079 - val_loss: 6.0811e-05 - val_mae: 0.0066\n",
      "Epoch 110/500\n",
      "10/10 [==============================] - 0s 6ms/step - loss: 8.2513e-05 - mae: 0.0081 - val_loss: 6.8717e-05 - val_mae: 0.0072\n",
      "Epoch 111/500\n",
      "10/10 [==============================] - 0s 7ms/step - loss: 7.9572e-05 - mae: 0.0080 - val_loss: 6.0947e-05 - val_mae: 0.0066\n",
      "Epoch 112/500\n",
      "10/10 [==============================] - 0s 6ms/step - loss: 8.0070e-05 - mae: 0.0079 - val_loss: 6.5436e-05 - val_mae: 0.0067\n",
      "Epoch 113/500\n",
      "10/10 [==============================] - 0s 6ms/step - loss: 8.1770e-05 - mae: 0.0080 - val_loss: 7.4994e-05 - val_mae: 0.0075\n",
      "Epoch 114/500\n",
      "10/10 [==============================] - 0s 7ms/step - loss: 8.2936e-05 - mae: 0.0080 - val_loss: 7.9250e-05 - val_mae: 0.0077\n",
      "Epoch 115/500\n",
      "10/10 [==============================] - 0s 6ms/step - loss: 8.0860e-05 - mae: 0.0080 - val_loss: 6.0886e-05 - val_mae: 0.0066\n",
      "Epoch 116/500\n",
      "10/10 [==============================] - 0s 7ms/step - loss: 7.9152e-05 - mae: 0.0079 - val_loss: 6.1232e-05 - val_mae: 0.0067\n",
      "Epoch 117/500\n",
      "10/10 [==============================] - 0s 9ms/step - loss: 8.0945e-05 - mae: 0.0079 - val_loss: 7.9540e-05 - val_mae: 0.0077\n",
      "Epoch 118/500\n",
      "10/10 [==============================] - 0s 10ms/step - loss: 8.4364e-05 - mae: 0.0082 - val_loss: 7.0461e-05 - val_mae: 0.0073\n",
      "Epoch 119/500\n",
      "10/10 [==============================] - 0s 6ms/step - loss: 8.1355e-05 - mae: 0.0080 - val_loss: 6.0919e-05 - val_mae: 0.0066\n"
     ]
    }
   ],
   "source": [
    "history = ann.fit(X_train, y_train,\n",
    "                    validation_data = (X_val, y_val),\n",
    "                    callbacks=[es],\n",
    "                    epochs=500,\n",
    "                    batch_size=40,\n",
    "                    verbose=1)"
   ]
  },
  {
   "cell_type": "markdown",
   "metadata": {
    "colab_type": "text",
    "id": "0H0zKKNEBLD5"
   },
   "source": [
    "### Predicting the results of the Test set"
   ]
  },
  {
   "cell_type": "code",
   "execution_count": 16,
   "metadata": {},
   "outputs": [
    {
     "data": {
      "image/png": "[encoded data removed]",
      "text/plain": [
       "<Figure size 432x288 with 1 Axes>"
      ]
     },
     "metadata": {
      "needs_background": "light"
     },
     "output_type": "display_data"
    }
   ],
   "source": [
    "import matplotlib.pyplot as plt\n",
    "# let's see the training and validation accuracy by epoch\n",
    "history_dict = history.history\n",
    "loss_values = history_dict['loss'] # you can change this\n",
    "val_loss_values = history_dict['val_loss'] # you can also change this\n",
    "epochs = range(1, len(loss_values) + 1) # range of X (no. of epochs)\n",
    "plt.plot(epochs, loss_values, 'blue', label='Training loss')\n",
    "plt.plot(epochs, val_loss_values, 'orange', label='Testing loss')\n",
    "plt.title('Training and testing loss')\n",
    "plt.xlabel('Epochs')\n",
    "plt.ylabel('Loss (MSE)')\n",
    "plt.legend()\n",
    "plt.show()"
   ]
  },
  {
   "cell_type": "code",
   "execution_count": 17,
   "metadata": {},
   "outputs": [
    {
     "data": {
      "image/png": "[encoded data removed]",
      "text/plain": [
       "<Figure size 432x288 with 1 Axes>"
      ]
     },
     "metadata": {
      "needs_background": "light"
     },
     "output_type": "display_data"
    }
   ],
   "source": [
    "loss_values1 = history_dict['mae'] # you can change this\n",
    "val_loss_values1 = history_dict['val_mae'] # you can also change this\n",
    "epochs = range(1, len(loss_values1) + 1) # range of X (no. of epochs)\n",
    "plt.plot(epochs, loss_values1, 'blue', label='Training MAE')\n",
    "plt.plot(epochs, val_loss_values1, 'orange', label='Testing MAE')\n",
    "plt.title('Training and testing MAE')\n",
    "plt.xlabel('Epochs')\n",
    "plt.ylabel('MAE')\n",
    "plt.legend()\n",
    "plt.show()"
   ]
  },
  {
   "cell_type": "code",
   "execution_count": 18,
   "metadata": {},
   "outputs": [
    {
     "name": "stdout",
     "output_type": "stream",
     "text": [
      "range(1, 191)\n"
     ]
    }
   ],
   "source": [
    "print (epochs)"
   ]
  },
  {
   "cell_type": "code",
   "execution_count": 18,
   "metadata": {},
   "outputs": [
    {
     "name": "stdout",
     "output_type": "stream",
     "text": [
      "13/13 [==============================] - 0s 2ms/step\n",
      "3/3 [==============================] - 0s 2ms/step\n"
     ]
    },
    {
     "data": {
      "image/png": "[encoded data removed]",
      "text/plain": [
       "<Figure size 432x288 with 2 Axes>"
      ]
     },
     "metadata": {
      "needs_background": "light"
     },
     "output_type": "display_data"
    }
   ],
   "source": [
    "# scatterplot of actual vs. pred\n",
    "# specify the dimensions \n",
    "fig, axes = plt.subplots(1,2) # 1 row, 2 columns\n",
    "\n",
    "# this makes the individual subplots\n",
    "# Training Results\n",
    "axes[0].scatter(x=y_train, y=ann.predict(X_train)) #first row, first entry (left top)\n",
    "axes[0].set_xlabel(\"Actual\", fontsize=10)\n",
    "axes[0].set_ylabel(\"Predicted\",  fontsize=10)\n",
    "axes[0].set_title(\"Training\")\n",
    "# add 45 deg line\n",
    "x = np.linspace(*axes[0].get_xlim())\n",
    "axes[0].plot(x, x, color='red')\n",
    "# Validation Results\n",
    "axes[1].scatter(x=y_val, y=ann.predict(X_val)) # first row, second entry (right top)\n",
    "axes[1].set_xlabel(\"Actual\", fontsize=10)\n",
    "axes[1].set_ylabel(\"Predicted\",  fontsize=10)\n",
    "axes[1].set_title(\"Validation\")\n",
    "# add 45 deg line\n",
    "x = np.linspace(*axes[1].get_xlim())\n",
    "axes[1].plot(x, x, color='red')\n",
    "\n",
    "# tight layout\n",
    "fig.tight_layout()\n",
    "\n",
    "# show the plot\n",
    "plt.show()"
   ]
  },
  {
   "cell_type": "code",
   "execution_count": 19,
   "metadata": {
    "colab": {
     "base_uri": "https://localhost:8080/",
     "height": 134
    },
    "colab_type": "code",
    "id": "IA0yApEmBG1X",
    "outputId": "cb981e1f-9204-4a2a-fece-9d66a6919189"
   },
   "outputs": [
    {
     "name": "stdout",
     "output_type": "stream",
     "text": [
      "3/3 [==============================] - 0s 2ms/step\n",
      "[[0.06 0.07]\n",
      " [0.03 0.01]\n",
      " [0.1  0.1 ]\n",
      " [0.03 0.01]\n",
      " [0.12 0.1 ]\n",
      " [0.11 0.1 ]\n",
      " [0.1  0.1 ]\n",
      " [0.09 0.09]\n",
      " [0.1  0.1 ]\n",
      " [0.03 0.04]\n",
      " [0.02 0.01]\n",
      " [0.09 0.1 ]\n",
      " [0.11 0.1 ]\n",
      " [0.09 0.09]\n",
      " [0.1  0.1 ]\n",
      " [0.07 0.07]\n",
      " [0.06 0.06]\n",
      " [0.1  0.1 ]\n",
      " [0.1  0.1 ]\n",
      " [0.11 0.1 ]\n",
      " [0.06 0.06]\n",
      " [0.03 0.04]\n",
      " [0.02 0.01]\n",
      " [0.1  0.1 ]\n",
      " [0.03 0.04]\n",
      " [0.03 0.02]\n",
      " [0.07 0.07]\n",
      " [0.09 0.09]\n",
      " [0.06 0.07]\n",
      " [0.01 0.  ]\n",
      " [0.05 0.06]\n",
      " [0.02 0.01]\n",
      " [0.12 0.1 ]\n",
      " [0.01 0.01]\n",
      " [0.11 0.1 ]\n",
      " [0.07 0.08]\n",
      " [0.09 0.09]\n",
      " [0.07 0.07]\n",
      " [0.04 0.03]\n",
      " [0.05 0.06]\n",
      " [0.08 0.08]\n",
      " [0.03 0.04]\n",
      " [0.01 0.01]\n",
      " [0.05 0.06]\n",
      " [0.11 0.1 ]\n",
      " [0.09 0.09]\n",
      " [0.06 0.07]\n",
      " [0.05 0.06]\n",
      " [0.1  0.1 ]\n",
      " [0.11 0.1 ]\n",
      " [0.12 0.1 ]\n",
      " [0.11 0.1 ]\n",
      " [0.12 0.1 ]\n",
      " [0.1  0.1 ]\n",
      " [0.06 0.07]\n",
      " [0.09 0.1 ]\n",
      " [0.07 0.07]\n",
      " [0.08 0.08]\n",
      " [0.06 0.07]\n",
      " [0.08 0.09]\n",
      " [0.06 0.07]\n",
      " [0.07 0.08]\n",
      " [0.01 0.  ]\n",
      " [0.09 0.09]\n",
      " [0.06 0.07]\n",
      " [0.12 0.1 ]\n",
      " [0.04 0.05]\n",
      " [0.11 0.1 ]\n",
      " [0.11 0.1 ]\n",
      " [0.05 0.06]\n",
      " [0.04 0.02]\n",
      " [0.05 0.06]\n",
      " [0.07 0.08]\n",
      " [0.11 0.1 ]\n",
      " [0.02 0.01]\n",
      " [0.02 0.01]\n",
      " [0.09 0.09]\n",
      " [0.09 0.09]\n",
      " [0.06 0.07]\n",
      " [0.02 0.01]\n",
      " [0.07 0.07]\n",
      " [0.08 0.08]\n",
      " [0.1  0.1 ]\n",
      " [0.04 0.05]]\n"
     ]
    }
   ],
   "source": [
    "#X_test=np.asarray(X_test).astype(np.int)\n",
    "\n",
    "#y_test=np.asarray(y_test).astype(np.int)\n",
    "\n",
    "y_pred = ann.predict(X_test)\n",
    "np.set_printoptions(precision=2)\n",
    "print(np.concatenate((y_pred.reshape(len(y_pred),1), y_test.reshape(len(y_test),1)),1))"
   ]
  },
  {
   "cell_type": "code",
   "execution_count": 22,
   "metadata": {},
   "outputs": [
    {
     "data": {
      "text/plain": [
       "Text(0, 0.5, 'Predicted data')"
      ]
     },
     "execution_count": 22,
     "metadata": {},
     "output_type": "execute_result"
    },
    {
     "data": {
      "image/png": "[encoded data removed]",
      "text/plain": [
       "<Figure size 432x288 with 1 Axes>"
      ]
     },
     "metadata": {
      "needs_background": "light"
     },
     "output_type": "display_data"
    }
   ],
   "source": [
    "import matplotlib.pyplot as plt\n",
    "plt.scatter(y_test, y_pred, color=\"blue\")\n",
    "plt.plot ([0,0.13],[0,0.13], color = \"red\")\n",
    "plt.axis ([0,0.13,0,0.13])\n",
    "plt.xlabel ('Actual data')\n",
    "plt.ylabel ('Predicted data')"
   ]
  },
  {
   "cell_type": "code",
   "execution_count": 24,
   "metadata": {},
   "outputs": [
    {
     "data": {
      "image/png": "[encoded data removed]",
      "text/plain": [
       "<Figure size 648x648 with 1 Axes>"
      ]
     },
     "metadata": {
      "needs_background": "light"
     },
     "output_type": "display_data"
    }
   ],
   "source": [
    "from sklearn.metrics import r2_score\n",
    "# Initialize layout\n",
    "fig1, ax1 = plt.subplots(figsize = (9, 9))\n",
    "\n",
    "\n",
    "#y = y_pred         # Model on prvious line is called here\n",
    "#x = y_test\n",
    "\n",
    "\n",
    "\n",
    "# Add scatterplot\n",
    "ax1.scatter(y_test, y_pred, s=70, alpha=1, edgecolors=\"k\",c='mediumblue',zorder=5, label = 'Points')\n",
    "\n",
    "\n",
    "plt.ylabel('Predicted Peak Incident Pressure (kPa)',fontsize = 25)\n",
    "plt.xlabel('Actual Peak Incident Pressure (kPa)',fontsize = 25)\n",
    "plt.xticks(fontsize = 19)\n",
    "plt.yticks(fontsize = 19)\n",
    "\n",
    "\n",
    "x1 = np.linspace(0,0.13)\n",
    "\n",
    "plt.plot(x1, x1, 'Red', label='45\\N{DEGREE SIGN} line',lw=2.5,alpha=1)\n",
    "plt.plot(x1, 1.1*x1, '--m', label='\\u00B110% Error',lw=2.5,alpha=0.7)\n",
    "plt.plot(x1, 0.9*x1,'m', linestyle='--',lw=2.5,alpha=0.7)\n",
    "plt.plot(x1, 1.2*x1, '-.g', label='\\u00B120% Error',lw=2.5,alpha=0.7)\n",
    "plt.plot(x1, 0.8*x1,'-.g',lw=2.5,alpha=0.7)\n",
    "\n",
    "plt.ylim(0, 0.13)\n",
    "plt.xlim(0, 0.13)\n",
    "plt.legend(loc='upper left',fontsize = 25)\n",
    "\n",
    "plt.grid()\n",
    "\n",
    "ax1.spines['left'].set_color('black')        # setting up Y-axis tick color to red\n",
    "ax1.spines['bottom'].set_color('black')         #setting up above X-axis tick color to red\n",
    "\n",
    "\n",
    "\n",
    "#ax1.annotate(\"$R^2$ = {:.3f}\".format(r2), (2500, 1000),fontsize = 25)  #Model is called here\n",
    "#ax1.annotate(\"Adj.$R^2$ = {:.3f}\".format(adj_r2), (2500, 750),fontsize = 25)\n",
    "\n",
    "#plt.savefig('plot1.png', dpi = 600, bbox_inches = 'tight')"
   ]
  },
  {
   "cell_type": "code",
   "execution_count": 25,
   "metadata": {},
   "outputs": [
    {
     "name": "stdout",
     "output_type": "stream",
     "text": [
      "13/13 [==============================] - 0s 1ms/step\n",
      "0.007893619821351821\n",
      "0.007431191458863143\n"
     ]
    }
   ],
   "source": [
    "# metrics\n",
    "\n",
    "\n",
    "trainpreds = ann.predict(X_train)\n",
    "\n",
    "from sklearn.metrics import mean_absolute_error\n",
    "print(mean_absolute_error(y_train, trainpreds)) # train\n",
    "print(mean_absolute_error(y_test, y_pred)) # test"
   ]
  },
  {
   "cell_type": "code",
   "execution_count": 26,
   "metadata": {},
   "outputs": [
    {
     "name": "stdout",
     "output_type": "stream",
     "text": [
      "0.929103204059727\n"
     ]
    }
   ],
   "source": [
    "from sklearn.metrics import r2_score\n",
    "r2 = r2_score(y_test, y_pred)\n",
    "print (r2)"
   ]
  },
  {
   "cell_type": "code",
   "execution_count": 27,
   "metadata": {},
   "outputs": [
    {
     "name": "stdout",
     "output_type": "stream",
     "text": [
      "0.9322639183535357\n"
     ]
    }
   ],
   "source": [
    "r2_train = r2_score(y_train, trainpreds)\n",
    "print (r2_train)"
   ]
  },
  {
   "cell_type": "code",
   "execution_count": 28,
   "metadata": {},
   "outputs": [
    {
     "name": "stdout",
     "output_type": "stream",
     "text": [
      "Within 10% margin 48.81%\n",
      "Within 20% margin 71.43%\n",
      "Out of 20% margin 28.57%\n"
     ]
    }
   ],
   "source": [
    "count1 = 0\n",
    "for i in range(len(y_pred)):\n",
    "    line1 = y_pred[i] - 0.9*y_test[i]\n",
    "    line2 = y_pred[i] - 1.1*y_test[i]\n",
    "    #print ('line 1 ', line1)\n",
    "    #print ('line 2 ', line2)\n",
    "    mask1 = (line1 > 0) & (line2 < 0)\n",
    "    #print (mask)\n",
    "    count1 = np.sum(mask1+count1)\n",
    "    #print (count)\n",
    "\n",
    "count2 = 0\n",
    "for j in range(len(y_pred)):\n",
    "    line3 = y_pred[j] - 0.8*y_test[j]\n",
    "    line4 = y_pred[j] - 1.2*y_test[j]\n",
    "    mask2 = (line3 > 0) & (line4 < 0)\n",
    "    count2 = np.sum(mask2+count2)\n",
    "\n",
    "\n",
    "count3 = 0    \n",
    "for k in range(len(y_pred)):\n",
    "    line5 = y_pred[k] - 0.8*y_test[k]\n",
    "    line6 = y_pred[k] - 1.2*y_test[k]\n",
    "    mask3 = (line5 < 0) or (line6 > 0)\n",
    "    count3 = np.sum(mask3+count3)\n",
    "   \n",
    "\n",
    "print ('Within 10% margin', format((count1/len (y_pred)),'.2%'))\n",
    "print ('Within 20% margin', format((count2/len (y_pred)),'.2%'))\n",
    "print ('Out of 20% margin', format((count3/len (y_pred)),'.2%'))"
   ]
  },
  {
   "cell_type": "code",
   "execution_count": 29,
   "metadata": {},
   "outputs": [
    {
     "name": "stdout",
     "output_type": "stream",
     "text": [
      "0.9273526658883623\n"
     ]
    }
   ],
   "source": [
    "adj_r2 = 1 - ((1 - r2) * (len(X_test) - 1) / (len(X_test) - len (X_test[0]) - 1))\n",
    "print (adj_r2)"
   ]
  },
  {
   "cell_type": "code",
   "execution_count": 30,
   "metadata": {},
   "outputs": [
    {
     "data": {
      "text/plain": [
       "0.008608146276553817"
      ]
     },
     "execution_count": 30,
     "metadata": {},
     "output_type": "execute_result"
    }
   ],
   "source": [
    "import math\n",
    "from sklearn.metrics import mean_squared_error\n",
    "\n",
    "math.sqrt(mean_squared_error(y_test, y_pred))"
   ]
  },
  {
   "cell_type": "code",
   "execution_count": 31,
   "metadata": {},
   "outputs": [
    {
     "data": {
      "text/plain": [
       "0.007431191458863143"
      ]
     },
     "execution_count": 31,
     "metadata": {},
     "output_type": "execute_result"
    }
   ],
   "source": [
    "from sklearn.metrics import mean_absolute_error\n",
    "\n",
    "mean_absolute_error(y_test, y_pred)"
   ]
  }
 ],
 "metadata": {
  "colab": {
   "collapsed_sections": [],
   "name": "Artificial Neural Network",
   "provenance": [],
   "toc_visible": true
  },
  "kernelspec": {
   "display_name": "Python 3 (ipykernel)",
   "language": "python",
   "name": "python3"
  },
  "language_info": {
   "codemirror_mode": {
    "name": "ipython",
    "version": 3
   },
   "file_extension": ".py",
   "mimetype": "text/x-python",
   "name": "python",
   "nbconvert_exporter": "python",
   "pygments_lexer": "ipython3",
   "version": "3.9.7"
  }
 },
 "nbformat": 4,
 "nbformat_minor": 4
}
