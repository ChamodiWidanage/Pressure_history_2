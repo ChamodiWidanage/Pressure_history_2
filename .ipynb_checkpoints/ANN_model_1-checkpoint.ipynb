{
 "cells": [
  {
   "cell_type": "markdown",
   "metadata": {
    "colab_type": "text",
    "id": "3cbb7fRy-eyr"
   },
   "source": [
    "# Artificial Neural Network"
   ]
  },
  {
   "cell_type": "markdown",
   "metadata": {
    "colab_type": "text",
    "id": "8sNDnxE2-pwE"
   },
   "source": [
    "### Importing the libraries"
   ]
  },
  {
   "cell_type": "code",
   "execution_count": 1,
   "metadata": {
    "colab": {},
    "colab_type": "code",
    "id": "lxChR1Rk-umf"
   },
   "outputs": [],
   "source": [
    "import numpy as np\n",
    "import pandas as pd\n",
    "import tensorflow as tf"
   ]
  },
  {
   "cell_type": "markdown",
   "metadata": {
    "colab_type": "text",
    "id": "AG3FQEch-yuA"
   },
   "source": [
    "## Part 1 - Data Preprocessing"
   ]
  },
  {
   "cell_type": "markdown",
   "metadata": {
    "colab_type": "text",
    "id": "-4zq8Mza_D9O"
   },
   "source": [
    "### Importing the dataset"
   ]
  },
  {
   "cell_type": "code",
   "execution_count": 2,
   "metadata": {
    "colab": {},
    "colab_type": "code",
    "id": "B9CV13Co_HHM"
   },
   "outputs": [
    {
     "name": "stdout",
     "output_type": "stream",
     "text": [
      "<class 'pandas.core.frame.DataFrame'>\n",
      "RangeIndex: 546 entries, 0 to 545\n",
      "Data columns (total 4 columns):\n",
      " #   Column             Non-Null Count  Dtype  \n",
      "---  ------             --------------  -----  \n",
      " 0   Charge_type        546 non-null    object \n",
      " 1   Charge_size        546 non-null    float64\n",
      " 2   Standoff_distance  546 non-null    float64\n",
      " 3   Incident_pressure  546 non-null    float64\n",
      "dtypes: float64(3), object(1)\n",
      "memory usage: 17.2+ KB\n"
     ]
    }
   ],
   "source": [
    "dataset = pd.read_excel('Dataset3.xlsx')\n",
    "dataset.info()"
   ]
  },
  {
   "cell_type": "code",
   "execution_count": 3,
   "metadata": {},
   "outputs": [
    {
     "name": "stdout",
     "output_type": "stream",
     "text": [
      "<class 'pandas.core.frame.DataFrame'>\n",
      "RangeIndex: 546 entries, 0 to 545\n",
      "Data columns (total 5 columns):\n",
      " #   Column             Non-Null Count  Dtype  \n",
      "---  ------             --------------  -----  \n",
      " 0   Charge_size        546 non-null    float64\n",
      " 1   Standoff_distance  546 non-null    float64\n",
      " 2   Incident_pressure  546 non-null    float64\n",
      " 3   Charge_type_CompB  546 non-null    uint8  \n",
      " 4   Charge_type_TNT    546 non-null    uint8  \n",
      "dtypes: float64(3), uint8(2)\n",
      "memory usage: 14.0 KB\n"
     ]
    }
   ],
   "source": [
    "# convert categorical variable into dummy variables\n",
    "dataset = pd.get_dummies(dataset, columns=['Charge_type'])\n",
    "dataset.info()"
   ]
  },
  {
   "cell_type": "code",
   "execution_count": 4,
   "metadata": {},
   "outputs": [
    {
     "data": {
      "text/html": [
       "<div>\n",
       "<style scoped>\n",
       "    .dataframe tbody tr th:only-of-type {\n",
       "        vertical-align: middle;\n",
       "    }\n",
       "\n",
       "    .dataframe tbody tr th {\n",
       "        vertical-align: top;\n",
       "    }\n",
       "\n",
       "    .dataframe thead th {\n",
       "        text-align: right;\n",
       "    }\n",
       "</style>\n",
       "<table border=\"1\" class=\"dataframe\">\n",
       "  <thead>\n",
       "    <tr style=\"text-align: right;\">\n",
       "      <th></th>\n",
       "      <th>Charge_size</th>\n",
       "      <th>Standoff_distance</th>\n",
       "      <th>Incident_pressure</th>\n",
       "      <th>Charge_type_CompB</th>\n",
       "      <th>Charge_type_TNT</th>\n",
       "    </tr>\n",
       "  </thead>\n",
       "  <tbody>\n",
       "    <tr>\n",
       "      <th>0</th>\n",
       "      <td>0.5</td>\n",
       "      <td>1.5</td>\n",
       "      <td>283.258</td>\n",
       "      <td>0</td>\n",
       "      <td>1</td>\n",
       "    </tr>\n",
       "    <tr>\n",
       "      <th>1</th>\n",
       "      <td>0.5</td>\n",
       "      <td>2.5</td>\n",
       "      <td>163.904</td>\n",
       "      <td>0</td>\n",
       "      <td>1</td>\n",
       "    </tr>\n",
       "    <tr>\n",
       "      <th>2</th>\n",
       "      <td>0.5</td>\n",
       "      <td>3.5</td>\n",
       "      <td>135.678</td>\n",
       "      <td>0</td>\n",
       "      <td>1</td>\n",
       "    </tr>\n",
       "    <tr>\n",
       "      <th>3</th>\n",
       "      <td>0.5</td>\n",
       "      <td>4.5</td>\n",
       "      <td>124.039</td>\n",
       "      <td>0</td>\n",
       "      <td>1</td>\n",
       "    </tr>\n",
       "    <tr>\n",
       "      <th>4</th>\n",
       "      <td>0.5</td>\n",
       "      <td>5.5</td>\n",
       "      <td>117.856</td>\n",
       "      <td>0</td>\n",
       "      <td>1</td>\n",
       "    </tr>\n",
       "  </tbody>\n",
       "</table>\n",
       "</div>"
      ],
      "text/plain": [
       "   Charge_size  Standoff_distance  Incident_pressure  Charge_type_CompB  \\\n",
       "0          0.5                1.5            283.258                  0   \n",
       "1          0.5                2.5            163.904                  0   \n",
       "2          0.5                3.5            135.678                  0   \n",
       "3          0.5                4.5            124.039                  0   \n",
       "4          0.5                5.5            117.856                  0   \n",
       "\n",
       "   Charge_type_TNT  \n",
       "0                1  \n",
       "1                1  \n",
       "2                1  \n",
       "3                1  \n",
       "4                1  "
      ]
     },
     "execution_count": 4,
     "metadata": {},
     "output_type": "execute_result"
    }
   ],
   "source": [
    "dataset.head()"
   ]
  },
  {
   "cell_type": "code",
   "execution_count": 5,
   "metadata": {},
   "outputs": [
    {
     "name": "stdout",
     "output_type": "stream",
     "text": [
      "(546, 4) (546,)\n"
     ]
    }
   ],
   "source": [
    "y = dataset['Incident_pressure']\n",
    "X = dataset.drop('Incident_pressure', axis=1)\n",
    "print(X.shape, y.shape)"
   ]
  },
  {
   "cell_type": "code",
   "execution_count": 6,
   "metadata": {},
   "outputs": [],
   "source": [
    "# convert to numpy array\n",
    "X = np.array(X)\n",
    "y = np.array(y)"
   ]
  },
  {
   "cell_type": "markdown",
   "metadata": {
    "colab_type": "text",
    "id": "VC6omXel_Up0"
   },
   "source": [
    "### Splitting the dataset into the Training set and Test set"
   ]
  },
  {
   "cell_type": "code",
   "execution_count": 7,
   "metadata": {
    "colab": {},
    "colab_type": "code",
    "id": "L5edeb2r_agx"
   },
   "outputs": [],
   "source": [
    "from sklearn.model_selection import train_test_split\n",
    "X_train, X_test, y_train, y_test = train_test_split(X, y, test_size = 0.3, random_state = 0)"
   ]
  },
  {
   "cell_type": "code",
   "execution_count": 8,
   "metadata": {
    "colab": {},
    "colab_type": "code",
    "id": "L5edeb2r_agx"
   },
   "outputs": [],
   "source": [
    "X_val, X_test, y_val, y_test = train_test_split(X_test, y_test, test_size = 0.5, random_state = 0)"
   ]
  },
  {
   "cell_type": "markdown",
   "metadata": {
    "colab_type": "text",
    "id": "_mSLlAT9_eyI"
   },
   "source": [
    "## Part 2 - Building the ANN"
   ]
  },
  {
   "cell_type": "markdown",
   "metadata": {
    "colab_type": "text",
    "id": "CsBULd_f_wLY"
   },
   "source": [
    "### Initializing the ANN"
   ]
  },
  {
   "cell_type": "code",
   "execution_count": 9,
   "metadata": {
    "colab": {},
    "colab_type": "code",
    "id": "J6Hd97Ls__Nz"
   },
   "outputs": [],
   "source": [
    "ann = tf.keras.models.Sequential()"
   ]
  },
  {
   "cell_type": "markdown",
   "metadata": {
    "colab_type": "text",
    "id": "iitAFJS_ABUn"
   },
   "source": [
    "### Adding the input layer and the first hidden layer"
   ]
  },
  {
   "cell_type": "code",
   "execution_count": 10,
   "metadata": {
    "colab": {},
    "colab_type": "code",
    "id": "ksO_Vv40AHix"
   },
   "outputs": [],
   "source": [
    "ann.add(tf.keras.layers.Dense(units=180, input_shape=(X_train.shape[1],), activation='relu'))"
   ]
  },
  {
   "cell_type": "markdown",
   "metadata": {
    "colab_type": "text",
    "id": "-lb4kK_wAKbs"
   },
   "source": [
    "### Adding the second hidden layer"
   ]
  },
  {
   "cell_type": "code",
   "execution_count": 11,
   "metadata": {
    "colab": {},
    "colab_type": "code",
    "id": "c2357OqEAQOQ",
    "tags": []
   },
   "outputs": [],
   "source": [
    "ann.add(tf.keras.layers.Dense(units=120, activation='relu'))"
   ]
  },
  {
   "cell_type": "markdown",
   "metadata": {
    "colab_type": "text",
    "id": "-lb4kK_wAKbs"
   },
   "source": [
    "### Adding the third hidden layer"
   ]
  },
  {
   "cell_type": "code",
   "execution_count": 12,
   "metadata": {
    "colab": {},
    "colab_type": "code",
    "id": "c2357OqEAQOQ",
    "tags": []
   },
   "outputs": [],
   "source": [
    "ann.add(tf.keras.layers.Dense(units=60, activation='relu'))"
   ]
  },
  {
   "cell_type": "markdown",
   "metadata": {
    "colab_type": "text",
    "id": "jwMOmKb3AdBY"
   },
   "source": [
    "### Adding the output layer"
   ]
  },
  {
   "cell_type": "code",
   "execution_count": 13,
   "metadata": {
    "colab": {},
    "colab_type": "code",
    "id": "YFATpzsUAkLL"
   },
   "outputs": [],
   "source": [
    "ann.add(tf.keras.layers.Dense(units=1, activation='linear'))"
   ]
  },
  {
   "cell_type": "markdown",
   "metadata": {},
   "source": [
    "### what model looks like"
   ]
  },
  {
   "cell_type": "code",
   "execution_count": 14,
   "metadata": {},
   "outputs": [
    {
     "name": "stdout",
     "output_type": "stream",
     "text": [
      "Model: \"sequential\"\n",
      "_________________________________________________________________\n",
      " Layer (type)                Output Shape              Param #   \n",
      "=================================================================\n",
      " dense (Dense)               (None, 180)               900       \n",
      "                                                                 \n",
      " dense_1 (Dense)             (None, 120)               21720     \n",
      "                                                                 \n",
      " dense_2 (Dense)             (None, 60)                7260      \n",
      "                                                                 \n",
      " dense_3 (Dense)             (None, 1)                 61        \n",
      "                                                                 \n",
      "=================================================================\n",
      "Total params: 29,941\n",
      "Trainable params: 29,941\n",
      "Non-trainable params: 0\n",
      "_________________________________________________________________\n"
     ]
    }
   ],
   "source": [
    "ann.summary()"
   ]
  },
  {
   "cell_type": "markdown",
   "metadata": {
    "colab_type": "text",
    "id": "fq7e4fF6A1yy"
   },
   "source": [
    "## Part 3 - Training the ANN"
   ]
  },
  {
   "cell_type": "markdown",
   "metadata": {
    "colab_type": "text",
    "id": "qDeylAs2An25"
   },
   "source": [
    "### Compiling the ANN"
   ]
  },
  {
   "cell_type": "code",
   "execution_count": 15,
   "metadata": {
    "colab": {},
    "colab_type": "code",
    "id": "pesgbWlCAtB4"
   },
   "outputs": [],
   "source": [
    "from tensorflow.keras.optimizers import Adam\n",
    "opt = Adam(learning_rate=0.001)\n",
    "ann.compile(optimizer = opt, loss = 'mean_squared_error', metrics = ['mae'])"
   ]
  },
  {
   "cell_type": "markdown",
   "metadata": {},
   "source": [
    "### early stopping callback"
   ]
  },
  {
   "cell_type": "code",
   "execution_count": 16,
   "metadata": {},
   "outputs": [],
   "source": [
    "# protects from unnecessary further training of the model if a particular metric does not continue to improve over a number of n epochs. In such a case, the model training would be automatically aborted.\n",
    "from keras.callbacks import EarlyStopping\n",
    "es = EarlyStopping(monitor='val_loss',\n",
    "                   mode='min',\n",
    "                   patience=50,\n",
    "                   restore_best_weights = True)"
   ]
  },
  {
   "cell_type": "markdown",
   "metadata": {
    "colab_type": "text",
    "id": "YjVuiybYOo7r"
   },
   "source": [
    "### Training the ANN model on the Training set"
   ]
  },
  {
   "cell_type": "code",
   "execution_count": 17,
   "metadata": {
    "colab": {
     "base_uri": "https://localhost:8080/",
     "height": 1000
    },
    "colab_type": "code",
    "id": "c_vV-tiiA5zn",
    "outputId": "4a2b6ee6-ed75-4698-9069-b250e613803f"
   },
   "outputs": [
    {
     "name": "stdout",
     "output_type": "stream",
     "text": [
      "Epoch 1/500\n",
      "8/8 [==============================] - 1s 37ms/step - loss: 1331126.7500 - mae: 437.8015 - val_loss: 886890.0625 - val_mae: 336.7966\n",
      "Epoch 2/500\n",
      "8/8 [==============================] - 0s 6ms/step - loss: 1324129.0000 - mae: 428.7322 - val_loss: 879902.6250 - val_mae: 325.1989\n",
      "Epoch 3/500\n",
      "8/8 [==============================] - 0s 7ms/step - loss: 1311484.6250 - mae: 412.9775 - val_loss: 867857.3750 - val_mae: 303.2145\n",
      "Epoch 4/500\n",
      "8/8 [==============================] - 0s 7ms/step - loss: 1288644.3750 - mae: 383.5650 - val_loss: 848177.8750 - val_mae: 265.0890\n",
      "Epoch 5/500\n",
      "8/8 [==============================] - 0s 6ms/step - loss: 1255117.3750 - mae: 349.1171 - val_loss: 823920.0000 - val_mae: 255.5735\n",
      "Epoch 6/500\n",
      "8/8 [==============================] - 0s 7ms/step - loss: 1217042.8750 - mae: 370.7986 - val_loss: 805337.2500 - val_mae: 292.7731\n",
      "Epoch 7/500\n",
      "8/8 [==============================] - 0s 6ms/step - loss: 1181982.3750 - mae: 412.4033 - val_loss: 795398.4375 - val_mae: 327.5525\n",
      "Epoch 8/500\n",
      "8/8 [==============================] - 0s 7ms/step - loss: 1150508.2500 - mae: 436.6358 - val_loss: 786982.8750 - val_mae: 337.9398\n",
      "Epoch 9/500\n",
      "8/8 [==============================] - 0s 7ms/step - loss: 1132012.6250 - mae: 453.8660 - val_loss: 780317.2500 - val_mae: 352.0542\n",
      "Epoch 10/500\n",
      "8/8 [==============================] - 0s 7ms/step - loss: 1106162.8750 - mae: 454.5957 - val_loss: 768790.3125 - val_mae: 343.6264\n",
      "Epoch 11/500\n",
      "8/8 [==============================] - 0s 7ms/step - loss: 1085144.0000 - mae: 452.7896 - val_loss: 758631.9375 - val_mae: 344.1819\n",
      "Epoch 12/500\n",
      "8/8 [==============================] - 0s 6ms/step - loss: 1066452.8750 - mae: 456.7594 - val_loss: 748770.3750 - val_mae: 350.4811\n",
      "Epoch 13/500\n",
      "8/8 [==============================] - 0s 7ms/step - loss: 1038908.7500 - mae: 444.9668 - val_loss: 732009.8750 - val_mae: 336.3473\n",
      "Epoch 14/500\n",
      "8/8 [==============================] - 0s 8ms/step - loss: 1015344.2500 - mae: 436.5421 - val_loss: 720963.4375 - val_mae: 343.5549\n",
      "Epoch 15/500\n",
      "8/8 [==============================] - 0s 7ms/step - loss: 989316.2500 - mae: 441.1346 - val_loss: 707832.4375 - val_mae: 349.6353\n",
      "Epoch 16/500\n",
      "8/8 [==============================] - 0s 7ms/step - loss: 959736.0625 - mae: 439.2077 - val_loss: 691874.3125 - val_mae: 347.9396\n",
      "Epoch 17/500\n",
      "8/8 [==============================] - 0s 8ms/step - loss: 927655.8125 - mae: 423.2506 - val_loss: 672033.4375 - val_mae: 334.3256\n",
      "Epoch 18/500\n",
      "8/8 [==============================] - 0s 6ms/step - loss: 903144.1875 - mae: 404.9071 - val_loss: 653379.3750 - val_mae: 317.7699\n",
      "Epoch 19/500\n",
      "8/8 [==============================] - 0s 7ms/step - loss: 870833.6875 - mae: 398.0258 - val_loss: 638856.8750 - val_mae: 313.0702\n",
      "Epoch 20/500\n",
      "8/8 [==============================] - 0s 7ms/step - loss: 835600.2500 - mae: 382.1940 - val_loss: 620832.6875 - val_mae: 288.5019\n",
      "Epoch 21/500\n",
      "8/8 [==============================] - 0s 7ms/step - loss: 799783.3750 - mae: 362.8972 - val_loss: 607954.6875 - val_mae: 282.0509\n",
      "Epoch 22/500\n",
      "8/8 [==============================] - 0s 8ms/step - loss: 774995.0000 - mae: 364.6486 - val_loss: 600143.3750 - val_mae: 291.1547\n",
      "Epoch 23/500\n",
      "8/8 [==============================] - 0s 9ms/step - loss: 740150.9375 - mae: 353.9627 - val_loss: 580278.4375 - val_mae: 279.8667\n",
      "Epoch 24/500\n",
      "8/8 [==============================] - 0s 9ms/step - loss: 710512.6875 - mae: 340.1519 - val_loss: 561165.8750 - val_mae: 268.7816\n",
      "Epoch 25/500\n",
      "8/8 [==============================] - 0s 7ms/step - loss: 676066.0625 - mae: 320.2295 - val_loss: 542038.8125 - val_mae: 256.0162\n",
      "Epoch 26/500\n",
      "8/8 [==============================] - 0s 7ms/step - loss: 657627.7500 - mae: 311.8771 - val_loss: 532185.2500 - val_mae: 259.5246\n",
      "Epoch 27/500\n",
      "8/8 [==============================] - 0s 8ms/step - loss: 625011.6250 - mae: 298.7009 - val_loss: 514018.8750 - val_mae: 247.3675\n",
      "Epoch 28/500\n",
      "8/8 [==============================] - 0s 7ms/step - loss: 598451.5625 - mae: 290.3323 - val_loss: 503103.6250 - val_mae: 247.9615\n",
      "Epoch 29/500\n",
      "8/8 [==============================] - 0s 7ms/step - loss: 573177.6250 - mae: 288.9311 - val_loss: 493554.5000 - val_mae: 249.4354\n",
      "Epoch 30/500\n",
      "8/8 [==============================] - 0s 7ms/step - loss: 552581.0625 - mae: 289.7981 - val_loss: 484830.5000 - val_mae: 250.8152\n",
      "Epoch 31/500\n",
      "8/8 [==============================] - 0s 6ms/step - loss: 528978.3750 - mae: 283.3104 - val_loss: 466550.6250 - val_mae: 243.3426\n",
      "Epoch 32/500\n",
      "8/8 [==============================] - 0s 7ms/step - loss: 503090.3438 - mae: 269.4768 - val_loss: 443927.4688 - val_mae: 229.2526\n",
      "Epoch 33/500\n",
      "8/8 [==============================] - 0s 13ms/step - loss: 483562.6250 - mae: 258.6174 - val_loss: 425499.5000 - val_mae: 221.1951\n",
      "Epoch 34/500\n",
      "8/8 [==============================] - 0s 6ms/step - loss: 460031.0312 - mae: 250.5936 - val_loss: 411403.4062 - val_mae: 217.3153\n",
      "Epoch 35/500\n",
      "8/8 [==============================] - 0s 7ms/step - loss: 442298.6875 - mae: 245.6496 - val_loss: 398826.5000 - val_mae: 216.4702\n",
      "Epoch 36/500\n",
      "8/8 [==============================] - 0s 7ms/step - loss: 418044.2188 - mae: 236.1164 - val_loss: 376895.6250 - val_mae: 202.2408\n",
      "Epoch 37/500\n",
      "8/8 [==============================] - 0s 7ms/step - loss: 409872.1562 - mae: 231.1639 - val_loss: 365350.6875 - val_mae: 202.7685\n",
      "Epoch 38/500\n",
      "8/8 [==============================] - 0s 6ms/step - loss: 385530.9688 - mae: 218.9980 - val_loss: 344907.2812 - val_mae: 185.2532\n",
      "Epoch 39/500\n",
      "8/8 [==============================] - 0s 7ms/step - loss: 360845.3125 - mae: 208.8162 - val_loss: 331961.6250 - val_mae: 179.8452\n",
      "Epoch 40/500\n",
      "8/8 [==============================] - 0s 6ms/step - loss: 343702.2500 - mae: 201.1952 - val_loss: 318490.7188 - val_mae: 175.9487\n",
      "Epoch 41/500\n",
      "8/8 [==============================] - 0s 7ms/step - loss: 325262.2188 - mae: 200.9825 - val_loss: 310850.4062 - val_mae: 177.3839\n",
      "Epoch 42/500\n",
      "8/8 [==============================] - 0s 7ms/step - loss: 312216.9688 - mae: 197.0435 - val_loss: 293640.2812 - val_mae: 170.7477\n",
      "Epoch 43/500\n",
      "8/8 [==============================] - 0s 7ms/step - loss: 290319.5625 - mae: 184.1123 - val_loss: 274198.0000 - val_mae: 157.8141\n",
      "Epoch 44/500\n",
      "8/8 [==============================] - 0s 7ms/step - loss: 276258.5312 - mae: 177.1178 - val_loss: 259445.8750 - val_mae: 149.5663\n",
      "Epoch 45/500\n",
      "8/8 [==============================] - 0s 8ms/step - loss: 260431.2812 - mae: 167.2148 - val_loss: 247818.0938 - val_mae: 147.8566\n",
      "Epoch 46/500\n",
      "8/8 [==============================] - 0s 7ms/step - loss: 248273.9062 - mae: 166.4239 - val_loss: 239188.3125 - val_mae: 146.0013\n",
      "Epoch 47/500\n",
      "8/8 [==============================] - 0s 6ms/step - loss: 232562.6562 - mae: 164.0621 - val_loss: 227738.4375 - val_mae: 143.4252\n",
      "Epoch 48/500\n",
      "8/8 [==============================] - 0s 7ms/step - loss: 232799.0000 - mae: 164.5209 - val_loss: 217002.5625 - val_mae: 146.5596\n",
      "Epoch 49/500\n",
      "8/8 [==============================] - 0s 7ms/step - loss: 213704.3750 - mae: 159.6126 - val_loss: 201550.2031 - val_mae: 129.6382\n",
      "Epoch 50/500\n",
      "8/8 [==============================] - 0s 6ms/step - loss: 198830.9375 - mae: 150.8158 - val_loss: 188687.2188 - val_mae: 131.8732\n",
      "Epoch 51/500\n",
      "8/8 [==============================] - 0s 6ms/step - loss: 186430.4531 - mae: 144.2604 - val_loss: 175771.8281 - val_mae: 127.3194\n",
      "Epoch 52/500\n",
      "8/8 [==============================] - 0s 7ms/step - loss: 179049.8438 - mae: 143.7801 - val_loss: 167644.2500 - val_mae: 120.5399\n",
      "Epoch 53/500\n",
      "8/8 [==============================] - 0s 7ms/step - loss: 166360.9531 - mae: 138.3051 - val_loss: 157961.1250 - val_mae: 118.0985\n",
      "Epoch 54/500\n",
      "8/8 [==============================] - 0s 7ms/step - loss: 159590.9688 - mae: 135.7044 - val_loss: 148495.7188 - val_mae: 117.6337\n",
      "Epoch 55/500\n",
      "8/8 [==============================] - 0s 7ms/step - loss: 150667.3594 - mae: 134.2376 - val_loss: 139407.6719 - val_mae: 111.7876\n",
      "Epoch 56/500\n",
      "8/8 [==============================] - 0s 6ms/step - loss: 157517.8594 - mae: 136.4852 - val_loss: 128537.6094 - val_mae: 108.0135\n",
      "Epoch 57/500\n",
      "8/8 [==============================] - 0s 7ms/step - loss: 143426.8438 - mae: 131.7442 - val_loss: 131650.9688 - val_mae: 114.7666\n",
      "Epoch 58/500\n",
      "8/8 [==============================] - 0s 8ms/step - loss: 143131.4844 - mae: 130.0460 - val_loss: 114297.8438 - val_mae: 102.8578\n",
      "Epoch 59/500\n",
      "8/8 [==============================] - 0s 7ms/step - loss: 119398.0859 - mae: 118.2123 - val_loss: 109300.5391 - val_mae: 100.4053\n",
      "Epoch 60/500\n",
      "8/8 [==============================] - 0s 7ms/step - loss: 115183.8828 - mae: 115.1009 - val_loss: 101438.7891 - val_mae: 97.1779\n",
      "Epoch 61/500\n",
      "8/8 [==============================] - 0s 7ms/step - loss: 109864.5859 - mae: 112.3732 - val_loss: 95564.6406 - val_mae: 93.7099\n",
      "Epoch 62/500\n",
      "8/8 [==============================] - 0s 7ms/step - loss: 104927.4844 - mae: 109.6699 - val_loss: 87897.1406 - val_mae: 90.1410\n",
      "Epoch 63/500\n",
      "8/8 [==============================] - 0s 7ms/step - loss: 100414.5000 - mae: 107.1282 - val_loss: 84585.9531 - val_mae: 89.8211\n",
      "Epoch 64/500\n",
      "8/8 [==============================] - 0s 7ms/step - loss: 94440.8203 - mae: 103.9857 - val_loss: 76387.6172 - val_mae: 84.2682\n",
      "Epoch 65/500\n",
      "8/8 [==============================] - 0s 7ms/step - loss: 92650.8281 - mae: 102.7648 - val_loss: 73758.2422 - val_mae: 88.1326\n",
      "Epoch 66/500\n",
      "8/8 [==============================] - 0s 7ms/step - loss: 86025.8359 - mae: 101.1531 - val_loss: 69537.9062 - val_mae: 82.5697\n",
      "Epoch 67/500\n",
      "8/8 [==============================] - 0s 7ms/step - loss: 94982.9297 - mae: 103.6309 - val_loss: 62586.9453 - val_mae: 79.6516\n",
      "Epoch 68/500\n",
      "8/8 [==============================] - 0s 6ms/step - loss: 75734.5391 - mae: 96.2587 - val_loss: 66845.3203 - val_mae: 87.9562\n",
      "Epoch 69/500\n",
      "8/8 [==============================] - 0s 11ms/step - loss: 76763.9922 - mae: 95.1520 - val_loss: 56119.0977 - val_mae: 74.2202\n",
      "Epoch 70/500\n",
      "8/8 [==============================] - 0s 6ms/step - loss: 70958.7734 - mae: 90.4065 - val_loss: 51375.5664 - val_mae: 72.2762\n",
      "Epoch 71/500\n",
      "8/8 [==============================] - 0s 7ms/step - loss: 68736.5781 - mae: 89.9632 - val_loss: 50504.6836 - val_mae: 72.8249\n",
      "Epoch 72/500\n",
      "8/8 [==============================] - 0s 7ms/step - loss: 67854.6562 - mae: 87.2392 - val_loss: 42976.1016 - val_mae: 66.6857\n",
      "Epoch 73/500\n",
      "8/8 [==============================] - 0s 8ms/step - loss: 65835.9062 - mae: 86.7477 - val_loss: 47545.5859 - val_mae: 73.4485\n",
      "Epoch 74/500\n",
      "8/8 [==============================] - 0s 7ms/step - loss: 60624.4570 - mae: 84.0434 - val_loss: 40338.7695 - val_mae: 64.4976\n",
      "Epoch 75/500\n",
      "8/8 [==============================] - 0s 6ms/step - loss: 58409.9219 - mae: 81.1510 - val_loss: 38063.3945 - val_mae: 63.3287\n",
      "Epoch 76/500\n",
      "8/8 [==============================] - 0s 6ms/step - loss: 58174.7344 - mae: 80.3244 - val_loss: 37802.6016 - val_mae: 66.3033\n",
      "Epoch 77/500\n",
      "8/8 [==============================] - 0s 7ms/step - loss: 53793.8789 - mae: 80.3949 - val_loss: 37591.8750 - val_mae: 63.0373\n",
      "Epoch 78/500\n",
      "8/8 [==============================] - 0s 7ms/step - loss: 52736.7500 - mae: 79.0026 - val_loss: 33365.4570 - val_mae: 59.4557\n",
      "Epoch 79/500\n",
      "8/8 [==============================] - 0s 7ms/step - loss: 51798.4805 - mae: 76.4782 - val_loss: 32711.6777 - val_mae: 61.7258\n",
      "Epoch 80/500\n",
      "8/8 [==============================] - 0s 6ms/step - loss: 49927.8789 - mae: 74.9444 - val_loss: 29140.3086 - val_mae: 57.1736\n",
      "Epoch 81/500\n",
      "8/8 [==============================] - 0s 7ms/step - loss: 46155.6328 - mae: 72.1673 - val_loss: 30579.2715 - val_mae: 56.1511\n",
      "Epoch 82/500\n",
      "8/8 [==============================] - 0s 7ms/step - loss: 45008.0508 - mae: 71.1628 - val_loss: 29337.7949 - val_mae: 55.8598\n",
      "Epoch 83/500\n",
      "8/8 [==============================] - 0s 7ms/step - loss: 46034.9023 - mae: 73.0694 - val_loss: 26881.6426 - val_mae: 53.1550\n",
      "Epoch 84/500\n",
      "8/8 [==============================] - 0s 6ms/step - loss: 41759.7148 - mae: 69.1132 - val_loss: 23256.7617 - val_mae: 51.5092\n",
      "Epoch 85/500\n",
      "8/8 [==============================] - 0s 7ms/step - loss: 40914.2617 - mae: 67.6484 - val_loss: 23259.6699 - val_mae: 54.3178\n",
      "Epoch 86/500\n",
      "8/8 [==============================] - 0s 6ms/step - loss: 39097.5742 - mae: 72.0752 - val_loss: 27524.3691 - val_mae: 54.7807\n",
      "Epoch 87/500\n",
      "8/8 [==============================] - 0s 7ms/step - loss: 38339.2227 - mae: 67.2571 - val_loss: 20563.7070 - val_mae: 50.2351\n",
      "Epoch 88/500\n",
      "8/8 [==============================] - 0s 7ms/step - loss: 36108.1875 - mae: 66.1315 - val_loss: 26654.0703 - val_mae: 53.4944\n",
      "Epoch 89/500\n",
      "8/8 [==============================] - 0s 6ms/step - loss: 35187.4883 - mae: 65.5809 - val_loss: 21129.5527 - val_mae: 48.7723\n",
      "Epoch 90/500\n",
      "8/8 [==============================] - 0s 7ms/step - loss: 34755.6797 - mae: 64.9210 - val_loss: 19669.8672 - val_mae: 50.3671\n",
      "Epoch 91/500\n",
      "8/8 [==============================] - 0s 7ms/step - loss: 33242.5664 - mae: 63.4346 - val_loss: 18339.2324 - val_mae: 48.1063\n",
      "Epoch 92/500\n",
      "8/8 [==============================] - 0s 6ms/step - loss: 31912.1797 - mae: 62.7192 - val_loss: 22964.7383 - val_mae: 49.3214\n",
      "Epoch 93/500\n",
      "8/8 [==============================] - 0s 7ms/step - loss: 30169.5488 - mae: 63.5007 - val_loss: 15518.3125 - val_mae: 46.2418\n",
      "Epoch 94/500\n",
      "8/8 [==============================] - 0s 8ms/step - loss: 30367.2168 - mae: 61.8349 - val_loss: 17933.5488 - val_mae: 52.4432\n",
      "Epoch 95/500\n",
      "8/8 [==============================] - 0s 7ms/step - loss: 28416.8281 - mae: 63.7222 - val_loss: 18386.8281 - val_mae: 45.8026\n",
      "Epoch 96/500\n",
      "8/8 [==============================] - 0s 7ms/step - loss: 27458.6211 - mae: 61.4414 - val_loss: 14075.7832 - val_mae: 43.4663\n",
      "Epoch 97/500\n",
      "8/8 [==============================] - 0s 7ms/step - loss: 26396.5547 - mae: 58.0765 - val_loss: 15554.8281 - val_mae: 47.2360\n",
      "Epoch 98/500\n",
      "8/8 [==============================] - 0s 7ms/step - loss: 24634.7559 - mae: 59.1101 - val_loss: 18827.2656 - val_mae: 46.5819\n",
      "Epoch 99/500\n",
      "8/8 [==============================] - 0s 7ms/step - loss: 24747.9238 - mae: 57.9567 - val_loss: 15046.6992 - val_mae: 43.3292\n",
      "Epoch 100/500\n",
      "8/8 [==============================] - 0s 6ms/step - loss: 24937.7832 - mae: 57.9774 - val_loss: 14950.6445 - val_mae: 44.1321\n",
      "Epoch 101/500\n",
      "8/8 [==============================] - 0s 7ms/step - loss: 22572.3086 - mae: 54.8232 - val_loss: 11220.6885 - val_mae: 39.5139\n",
      "Epoch 102/500\n",
      "8/8 [==============================] - 0s 6ms/step - loss: 21522.0742 - mae: 53.8708 - val_loss: 11303.9014 - val_mae: 41.9921\n",
      "Epoch 103/500\n",
      "8/8 [==============================] - 0s 6ms/step - loss: 20802.3555 - mae: 52.6129 - val_loss: 14438.1992 - val_mae: 43.8078\n",
      "Epoch 104/500\n",
      "8/8 [==============================] - 0s 7ms/step - loss: 19897.7363 - mae: 52.9493 - val_loss: 11240.7979 - val_mae: 40.7212\n",
      "Epoch 105/500\n",
      "8/8 [==============================] - 0s 8ms/step - loss: 19008.8906 - mae: 51.5041 - val_loss: 12472.6680 - val_mae: 42.5139\n",
      "Epoch 106/500\n",
      "8/8 [==============================] - 0s 7ms/step - loss: 18449.5527 - mae: 50.3285 - val_loss: 9760.3418 - val_mae: 38.5871\n",
      "Epoch 107/500\n",
      "8/8 [==============================] - 0s 7ms/step - loss: 18225.8008 - mae: 49.9970 - val_loss: 10525.5742 - val_mae: 40.0113\n",
      "Epoch 108/500\n",
      "8/8 [==============================] - 0s 7ms/step - loss: 21131.1172 - mae: 53.1699 - val_loss: 11069.9307 - val_mae: 40.0490\n",
      "Epoch 109/500\n",
      "8/8 [==============================] - 0s 7ms/step - loss: 19491.4043 - mae: 51.3421 - val_loss: 8340.5488 - val_mae: 37.7347\n",
      "Epoch 110/500\n",
      "8/8 [==============================] - 0s 7ms/step - loss: 17930.6445 - mae: 52.1443 - val_loss: 11790.9111 - val_mae: 42.0180\n",
      "Epoch 111/500\n",
      "8/8 [==============================] - 0s 7ms/step - loss: 16848.0332 - mae: 51.2461 - val_loss: 6253.7910 - val_mae: 34.2798\n",
      "Epoch 112/500\n",
      "8/8 [==============================] - 0s 6ms/step - loss: 18006.2324 - mae: 50.1927 - val_loss: 15023.6465 - val_mae: 45.2807\n",
      "Epoch 113/500\n",
      "8/8 [==============================] - 0s 8ms/step - loss: 13870.4141 - mae: 47.2749 - val_loss: 7307.8384 - val_mae: 37.2119\n",
      "Epoch 114/500\n",
      "8/8 [==============================] - 0s 7ms/step - loss: 18320.1758 - mae: 51.0174 - val_loss: 7958.3481 - val_mae: 44.2877\n",
      "Epoch 115/500\n",
      "8/8 [==============================] - 0s 7ms/step - loss: 18123.3555 - mae: 65.1319 - val_loss: 15603.2070 - val_mae: 47.8845\n",
      "Epoch 116/500\n",
      "8/8 [==============================] - 0s 7ms/step - loss: 16033.4375 - mae: 52.8600 - val_loss: 6101.7808 - val_mae: 41.8148\n",
      "Epoch 117/500\n",
      "8/8 [==============================] - 0s 7ms/step - loss: 11780.2500 - mae: 47.1340 - val_loss: 11189.9258 - val_mae: 47.8126\n",
      "Epoch 118/500\n",
      "8/8 [==============================] - 0s 7ms/step - loss: 12124.4883 - mae: 48.1444 - val_loss: 7659.5132 - val_mae: 36.8168\n",
      "Epoch 119/500\n",
      "8/8 [==============================] - 0s 7ms/step - loss: 11607.5205 - mae: 44.4098 - val_loss: 6920.2324 - val_mae: 35.0482\n",
      "Epoch 120/500\n",
      "8/8 [==============================] - 0s 7ms/step - loss: 11033.9756 - mae: 43.2882 - val_loss: 7956.4053 - val_mae: 36.7302\n",
      "Epoch 121/500\n",
      "8/8 [==============================] - 0s 7ms/step - loss: 10086.7354 - mae: 40.7366 - val_loss: 6662.4277 - val_mae: 34.7383\n",
      "Epoch 122/500\n",
      "8/8 [==============================] - 0s 6ms/step - loss: 10212.5488 - mae: 40.3932 - val_loss: 5235.5156 - val_mae: 32.5958\n",
      "Epoch 123/500\n",
      "8/8 [==============================] - 0s 6ms/step - loss: 9841.2393 - mae: 40.5774 - val_loss: 8050.6069 - val_mae: 36.3437\n",
      "Epoch 124/500\n",
      "8/8 [==============================] - 0s 7ms/step - loss: 9126.3652 - mae: 40.2744 - val_loss: 5282.6978 - val_mae: 32.5695\n",
      "Epoch 125/500\n",
      "8/8 [==============================] - 0s 6ms/step - loss: 8778.4482 - mae: 38.4591 - val_loss: 6463.5703 - val_mae: 34.6435\n",
      "Epoch 126/500\n",
      "8/8 [==============================] - 0s 7ms/step - loss: 8842.9912 - mae: 39.9300 - val_loss: 6294.2651 - val_mae: 33.9073\n",
      "Epoch 127/500\n",
      "8/8 [==============================] - 0s 6ms/step - loss: 8548.1025 - mae: 38.7063 - val_loss: 4308.9473 - val_mae: 30.9131\n",
      "Epoch 128/500\n",
      "8/8 [==============================] - 0s 9ms/step - loss: 7742.6958 - mae: 37.4632 - val_loss: 6078.3354 - val_mae: 34.3345\n",
      "Epoch 129/500\n",
      "8/8 [==============================] - 0s 8ms/step - loss: 7604.0840 - mae: 37.4217 - val_loss: 5390.3394 - val_mae: 32.9456\n",
      "Epoch 130/500\n",
      "8/8 [==============================] - 0s 7ms/step - loss: 7654.8887 - mae: 38.1020 - val_loss: 4804.9683 - val_mae: 31.3366\n",
      "Epoch 131/500\n",
      "8/8 [==============================] - 0s 7ms/step - loss: 7401.3477 - mae: 35.8448 - val_loss: 4396.3394 - val_mae: 31.2121\n",
      "Epoch 132/500\n",
      "8/8 [==============================] - 0s 6ms/step - loss: 7799.6362 - mae: 37.3746 - val_loss: 5659.4453 - val_mae: 32.9491\n",
      "Epoch 133/500\n",
      "8/8 [==============================] - 0s 8ms/step - loss: 7239.6636 - mae: 39.1470 - val_loss: 3946.4683 - val_mae: 29.7930\n",
      "Epoch 134/500\n",
      "8/8 [==============================] - 0s 8ms/step - loss: 6613.9961 - mae: 36.0339 - val_loss: 5454.7598 - val_mae: 33.1089\n",
      "Epoch 135/500\n",
      "8/8 [==============================] - 0s 7ms/step - loss: 6128.6899 - mae: 34.6519 - val_loss: 3405.0925 - val_mae: 29.6335\n",
      "Epoch 136/500\n",
      "8/8 [==============================] - 0s 5ms/step - loss: 5820.8154 - mae: 34.7998 - val_loss: 6049.2173 - val_mae: 32.6576\n",
      "Epoch 137/500\n",
      "8/8 [==============================] - 0s 6ms/step - loss: 5950.9150 - mae: 34.2601 - val_loss: 3178.3162 - val_mae: 30.3182\n",
      "Epoch 138/500\n",
      "8/8 [==============================] - 0s 6ms/step - loss: 6765.3340 - mae: 35.2475 - val_loss: 4938.3599 - val_mae: 31.9143\n",
      "Epoch 139/500\n",
      "8/8 [==============================] - 0s 6ms/step - loss: 5199.2212 - mae: 32.7116 - val_loss: 3804.8762 - val_mae: 29.0475\n",
      "Epoch 140/500\n",
      "8/8 [==============================] - 0s 7ms/step - loss: 5055.2275 - mae: 32.4113 - val_loss: 3530.1523 - val_mae: 28.4189\n",
      "Epoch 141/500\n",
      "8/8 [==============================] - 0s 6ms/step - loss: 5147.7754 - mae: 30.8946 - val_loss: 3613.7698 - val_mae: 28.5045\n",
      "Epoch 142/500\n",
      "8/8 [==============================] - 0s 6ms/step - loss: 4808.4976 - mae: 31.4586 - val_loss: 3574.9788 - val_mae: 28.4774\n",
      "Epoch 143/500\n",
      "8/8 [==============================] - 0s 7ms/step - loss: 4341.4678 - mae: 31.4274 - val_loss: 3446.2969 - val_mae: 27.8635\n",
      "Epoch 144/500\n",
      "8/8 [==============================] - 0s 6ms/step - loss: 4630.0708 - mae: 29.5041 - val_loss: 3128.4399 - val_mae: 27.2829\n",
      "Epoch 145/500\n",
      "8/8 [==============================] - 0s 6ms/step - loss: 4172.8149 - mae: 29.3301 - val_loss: 3091.9426 - val_mae: 27.3308\n",
      "Epoch 146/500\n",
      "8/8 [==============================] - 0s 6ms/step - loss: 4620.7549 - mae: 31.3257 - val_loss: 3459.9668 - val_mae: 28.0295\n",
      "Epoch 147/500\n",
      "8/8 [==============================] - 0s 6ms/step - loss: 4144.2505 - mae: 29.8922 - val_loss: 2704.5105 - val_mae: 26.1250\n",
      "Epoch 148/500\n",
      "8/8 [==============================] - 0s 6ms/step - loss: 3584.6345 - mae: 27.6345 - val_loss: 3115.4861 - val_mae: 26.3216\n",
      "Epoch 149/500\n",
      "8/8 [==============================] - 0s 6ms/step - loss: 3664.0720 - mae: 28.1040 - val_loss: 3281.9001 - val_mae: 26.8217\n",
      "Epoch 150/500\n",
      "8/8 [==============================] - 0s 6ms/step - loss: 3509.6174 - mae: 28.3766 - val_loss: 3132.4431 - val_mae: 26.2999\n",
      "Epoch 151/500\n",
      "8/8 [==============================] - 0s 7ms/step - loss: 3446.2500 - mae: 27.8942 - val_loss: 2176.2561 - val_mae: 24.8690\n",
      "Epoch 152/500\n",
      "8/8 [==============================] - 0s 6ms/step - loss: 3229.8508 - mae: 26.0390 - val_loss: 3340.9839 - val_mae: 26.3434\n",
      "Epoch 153/500\n",
      "8/8 [==============================] - 0s 6ms/step - loss: 3244.9863 - mae: 26.1570 - val_loss: 2405.3521 - val_mae: 25.2432\n",
      "Epoch 154/500\n",
      "8/8 [==============================] - 0s 6ms/step - loss: 3071.2441 - mae: 26.4354 - val_loss: 2576.4402 - val_mae: 24.8995\n",
      "Epoch 155/500\n",
      "8/8 [==============================] - 0s 6ms/step - loss: 2911.7502 - mae: 25.4272 - val_loss: 2450.4065 - val_mae: 24.6280\n",
      "Epoch 156/500\n",
      "8/8 [==============================] - 0s 6ms/step - loss: 2936.8223 - mae: 25.2062 - val_loss: 2686.8965 - val_mae: 24.5894\n",
      "Epoch 157/500\n",
      "8/8 [==============================] - 0s 5ms/step - loss: 2913.7617 - mae: 25.2219 - val_loss: 2325.4675 - val_mae: 24.2580\n",
      "Epoch 158/500\n",
      "8/8 [==============================] - 0s 6ms/step - loss: 3226.5020 - mae: 26.4819 - val_loss: 2576.3865 - val_mae: 25.0433\n",
      "Epoch 159/500\n",
      "8/8 [==============================] - 0s 6ms/step - loss: 2927.1143 - mae: 25.9287 - val_loss: 2312.4309 - val_mae: 24.0229\n",
      "Epoch 160/500\n",
      "8/8 [==============================] - 0s 6ms/step - loss: 2512.7800 - mae: 23.7294 - val_loss: 2343.7891 - val_mae: 23.5556\n",
      "Epoch 161/500\n",
      "8/8 [==============================] - 0s 7ms/step - loss: 2441.1506 - mae: 24.4614 - val_loss: 2555.7585 - val_mae: 23.9582\n",
      "Epoch 162/500\n",
      "8/8 [==============================] - 0s 6ms/step - loss: 2433.2200 - mae: 23.7039 - val_loss: 1843.3977 - val_mae: 22.5327\n",
      "Epoch 163/500\n",
      "8/8 [==============================] - 0s 7ms/step - loss: 2298.8330 - mae: 22.7973 - val_loss: 1875.1549 - val_mae: 22.4754\n",
      "Epoch 164/500\n",
      "8/8 [==============================] - 0s 6ms/step - loss: 2220.8162 - mae: 22.7863 - val_loss: 1929.5444 - val_mae: 22.4408\n",
      "Epoch 165/500\n",
      "8/8 [==============================] - 0s 6ms/step - loss: 2209.1243 - mae: 22.6208 - val_loss: 1833.5438 - val_mae: 22.0230\n",
      "Epoch 166/500\n",
      "8/8 [==============================] - 0s 6ms/step - loss: 2096.0449 - mae: 22.5472 - val_loss: 2152.0986 - val_mae: 22.6009\n",
      "Epoch 167/500\n",
      "8/8 [==============================] - 0s 6ms/step - loss: 2043.7809 - mae: 22.4628 - val_loss: 1763.4052 - val_mae: 21.7775\n",
      "Epoch 168/500\n",
      "8/8 [==============================] - 0s 7ms/step - loss: 2357.6594 - mae: 22.3169 - val_loss: 1636.6566 - val_mae: 21.1000\n",
      "Epoch 169/500\n",
      "8/8 [==============================] - 0s 6ms/step - loss: 1923.2852 - mae: 21.8907 - val_loss: 2112.7886 - val_mae: 22.3911\n",
      "Epoch 170/500\n",
      "8/8 [==============================] - 0s 6ms/step - loss: 2019.6283 - mae: 23.4047 - val_loss: 1312.5193 - val_mae: 20.4086\n",
      "Epoch 171/500\n",
      "8/8 [==============================] - 0s 6ms/step - loss: 2442.0801 - mae: 24.3009 - val_loss: 1769.4417 - val_mae: 20.9227\n",
      "Epoch 172/500\n",
      "8/8 [==============================] - 0s 5ms/step - loss: 2008.1486 - mae: 22.5480 - val_loss: 1527.1799 - val_mae: 20.7689\n",
      "Epoch 173/500\n",
      "8/8 [==============================] - 0s 6ms/step - loss: 1766.4908 - mae: 20.1703 - val_loss: 1685.8308 - val_mae: 20.9197\n",
      "Epoch 174/500\n",
      "8/8 [==============================] - 0s 7ms/step - loss: 1660.2891 - mae: 20.0443 - val_loss: 1524.3452 - val_mae: 20.6718\n",
      "Epoch 175/500\n",
      "8/8 [==============================] - 0s 7ms/step - loss: 1700.2197 - mae: 20.3411 - val_loss: 1656.1881 - val_mae: 20.4011\n",
      "Epoch 176/500\n",
      "8/8 [==============================] - 0s 6ms/step - loss: 1821.2472 - mae: 19.9658 - val_loss: 1593.6445 - val_mae: 19.9670\n",
      "Epoch 177/500\n",
      "8/8 [==============================] - 0s 6ms/step - loss: 1777.4329 - mae: 20.6170 - val_loss: 1413.4868 - val_mae: 20.4514\n",
      "Epoch 178/500\n",
      "8/8 [==============================] - 0s 7ms/step - loss: 1690.4620 - mae: 20.7193 - val_loss: 1224.2427 - val_mae: 19.2103\n",
      "Epoch 179/500\n",
      "8/8 [==============================] - 0s 6ms/step - loss: 1562.4403 - mae: 20.4753 - val_loss: 1529.1858 - val_mae: 19.7104\n",
      "Epoch 180/500\n",
      "8/8 [==============================] - 0s 6ms/step - loss: 1555.3982 - mae: 19.8719 - val_loss: 1598.3652 - val_mae: 19.7924\n",
      "Epoch 181/500\n",
      "8/8 [==============================] - 0s 5ms/step - loss: 1551.8553 - mae: 18.6834 - val_loss: 1405.7736 - val_mae: 19.0257\n",
      "Epoch 182/500\n",
      "8/8 [==============================] - 0s 5ms/step - loss: 1392.6664 - mae: 18.0818 - val_loss: 1255.3474 - val_mae: 19.1196\n",
      "Epoch 183/500\n",
      "8/8 [==============================] - 0s 5ms/step - loss: 1294.1406 - mae: 18.1090 - val_loss: 1240.0157 - val_mae: 18.3850\n",
      "Epoch 184/500\n",
      "8/8 [==============================] - 0s 6ms/step - loss: 1301.8492 - mae: 17.2657 - val_loss: 1415.2527 - val_mae: 18.6494\n",
      "Epoch 185/500\n",
      "8/8 [==============================] - 0s 5ms/step - loss: 1505.1626 - mae: 18.8075 - val_loss: 1117.3427 - val_mae: 17.9011\n",
      "Epoch 186/500\n",
      "8/8 [==============================] - 0s 6ms/step - loss: 1322.5575 - mae: 17.7788 - val_loss: 1254.0870 - val_mae: 18.1352\n",
      "Epoch 187/500\n",
      "8/8 [==============================] - 0s 6ms/step - loss: 1177.0857 - mae: 17.0712 - val_loss: 1267.2456 - val_mae: 18.3092\n",
      "Epoch 188/500\n",
      "8/8 [==============================] - 0s 5ms/step - loss: 1131.9564 - mae: 16.4639 - val_loss: 1057.7408 - val_mae: 17.4376\n",
      "Epoch 189/500\n",
      "8/8 [==============================] - 0s 5ms/step - loss: 1208.3251 - mae: 16.8787 - val_loss: 912.0974 - val_mae: 17.4092\n",
      "Epoch 190/500\n",
      "8/8 [==============================] - 0s 5ms/step - loss: 1186.6351 - mae: 17.1190 - val_loss: 1215.4634 - val_mae: 17.5288\n",
      "Epoch 191/500\n",
      "8/8 [==============================] - 0s 6ms/step - loss: 1035.2740 - mae: 15.9397 - val_loss: 959.8984 - val_mae: 16.7597\n",
      "Epoch 192/500\n",
      "8/8 [==============================] - 0s 6ms/step - loss: 1038.8695 - mae: 15.9170 - val_loss: 1054.9579 - val_mae: 16.8559\n",
      "Epoch 193/500\n",
      "8/8 [==============================] - 0s 6ms/step - loss: 1025.9049 - mae: 15.6393 - val_loss: 900.7423 - val_mae: 16.3657\n",
      "Epoch 194/500\n",
      "8/8 [==============================] - 0s 5ms/step - loss: 1036.4902 - mae: 15.7590 - val_loss: 1259.5723 - val_mae: 17.1692\n",
      "Epoch 195/500\n",
      "8/8 [==============================] - 0s 5ms/step - loss: 1090.2201 - mae: 15.8456 - val_loss: 1088.9803 - val_mae: 16.7267\n",
      "Epoch 196/500\n",
      "8/8 [==============================] - 0s 5ms/step - loss: 1270.5371 - mae: 16.9382 - val_loss: 978.6114 - val_mae: 16.8560\n",
      "Epoch 197/500\n",
      "8/8 [==============================] - 0s 6ms/step - loss: 1145.7183 - mae: 16.4408 - val_loss: 1105.2789 - val_mae: 17.4931\n",
      "Epoch 198/500\n",
      "8/8 [==============================] - 0s 5ms/step - loss: 1353.3020 - mae: 18.6511 - val_loss: 1068.2007 - val_mae: 18.0717\n",
      "Epoch 199/500\n",
      "8/8 [==============================] - 0s 6ms/step - loss: 1038.5316 - mae: 17.1100 - val_loss: 807.0002 - val_mae: 16.5145\n",
      "Epoch 200/500\n",
      "8/8 [==============================] - 0s 5ms/step - loss: 1479.3116 - mae: 20.5744 - val_loss: 978.5034 - val_mae: 15.9906\n",
      "Epoch 201/500\n",
      "8/8 [==============================] - 0s 5ms/step - loss: 1363.1802 - mae: 18.9963 - val_loss: 1115.3118 - val_mae: 16.5529\n",
      "Epoch 202/500\n",
      "8/8 [==============================] - 0s 6ms/step - loss: 999.2915 - mae: 16.3176 - val_loss: 841.9526 - val_mae: 15.3739\n",
      "Epoch 203/500\n",
      "8/8 [==============================] - 0s 6ms/step - loss: 985.7748 - mae: 15.3521 - val_loss: 1166.0780 - val_mae: 16.4661\n",
      "Epoch 204/500\n",
      "8/8 [==============================] - 0s 6ms/step - loss: 891.6575 - mae: 14.9589 - val_loss: 768.9566 - val_mae: 15.2735\n",
      "Epoch 205/500\n",
      "8/8 [==============================] - 0s 6ms/step - loss: 875.2948 - mae: 14.9803 - val_loss: 1071.6055 - val_mae: 15.8250\n",
      "Epoch 206/500\n",
      "8/8 [==============================] - 0s 5ms/step - loss: 733.3299 - mae: 13.8893 - val_loss: 697.8802 - val_mae: 15.0671\n",
      "Epoch 207/500\n",
      "8/8 [==============================] - 0s 5ms/step - loss: 966.7260 - mae: 15.3109 - val_loss: 1541.6614 - val_mae: 18.0802\n",
      "Epoch 208/500\n",
      "8/8 [==============================] - 0s 6ms/step - loss: 1001.0647 - mae: 15.3291 - val_loss: 680.1475 - val_mae: 14.2474\n",
      "Epoch 209/500\n",
      "8/8 [==============================] - 0s 10ms/step - loss: 752.3094 - mae: 13.2963 - val_loss: 787.0710 - val_mae: 14.2280\n",
      "Epoch 210/500\n",
      "8/8 [==============================] - 0s 7ms/step - loss: 711.0016 - mae: 12.7040 - val_loss: 706.8502 - val_mae: 13.8242\n",
      "Epoch 211/500\n",
      "8/8 [==============================] - 0s 6ms/step - loss: 673.9933 - mae: 12.6376 - val_loss: 845.0052 - val_mae: 14.3791\n",
      "Epoch 212/500\n",
      "8/8 [==============================] - 0s 5ms/step - loss: 648.6299 - mae: 12.3141 - val_loss: 575.9348 - val_mae: 13.5937\n",
      "Epoch 213/500\n",
      "8/8 [==============================] - 0s 4ms/step - loss: 732.0005 - mae: 13.0638 - val_loss: 949.7588 - val_mae: 15.1052\n",
      "Epoch 214/500\n",
      "8/8 [==============================] - 0s 4ms/step - loss: 852.8676 - mae: 14.3856 - val_loss: 667.6765 - val_mae: 14.9663\n",
      "Epoch 215/500\n",
      "8/8 [==============================] - 0s 4ms/step - loss: 793.3671 - mae: 14.3853 - val_loss: 793.8860 - val_mae: 14.0076\n",
      "Epoch 216/500\n",
      "8/8 [==============================] - 0s 4ms/step - loss: 627.6518 - mae: 12.2529 - val_loss: 682.4476 - val_mae: 13.3300\n",
      "Epoch 217/500\n",
      "8/8 [==============================] - 0s 4ms/step - loss: 613.2593 - mae: 11.8475 - val_loss: 677.5511 - val_mae: 13.1315\n",
      "Epoch 218/500\n",
      "8/8 [==============================] - 0s 6ms/step - loss: 619.2734 - mae: 11.7551 - val_loss: 714.3753 - val_mae: 13.2374\n",
      "Epoch 219/500\n",
      "8/8 [==============================] - 0s 7ms/step - loss: 781.7320 - mae: 12.7131 - val_loss: 833.2134 - val_mae: 13.6792\n",
      "Epoch 220/500\n",
      "8/8 [==============================] - 0s 6ms/step - loss: 792.7557 - mae: 13.5078 - val_loss: 567.1249 - val_mae: 13.1889\n",
      "Epoch 221/500\n",
      "8/8 [==============================] - 0s 5ms/step - loss: 610.1004 - mae: 12.5310 - val_loss: 763.6514 - val_mae: 14.4121\n",
      "Epoch 222/500\n",
      "8/8 [==============================] - 0s 6ms/step - loss: 703.7694 - mae: 13.0866 - val_loss: 550.7549 - val_mae: 13.6357\n",
      "Epoch 223/500\n",
      "8/8 [==============================] - 0s 5ms/step - loss: 789.4668 - mae: 13.6524 - val_loss: 643.0255 - val_mae: 12.7373\n",
      "Epoch 224/500\n",
      "8/8 [==============================] - 0s 5ms/step - loss: 913.8420 - mae: 13.4511 - val_loss: 1202.1243 - val_mae: 15.3235\n",
      "Epoch 225/500\n",
      "8/8 [==============================] - 0s 5ms/step - loss: 1027.8867 - mae: 15.3131 - val_loss: 575.3452 - val_mae: 14.8552\n",
      "Epoch 226/500\n",
      "8/8 [==============================] - 0s 6ms/step - loss: 687.1128 - mae: 14.6026 - val_loss: 782.6323 - val_mae: 16.9430\n",
      "Epoch 227/500\n",
      "8/8 [==============================] - 0s 6ms/step - loss: 681.1812 - mae: 14.4553 - val_loss: 641.5240 - val_mae: 14.6670\n",
      "Epoch 228/500\n",
      "8/8 [==============================] - 0s 6ms/step - loss: 559.4032 - mae: 12.4096 - val_loss: 639.0350 - val_mae: 13.5894\n",
      "Epoch 229/500\n",
      "8/8 [==============================] - 0s 5ms/step - loss: 499.7044 - mae: 11.2811 - val_loss: 533.1783 - val_mae: 11.7086\n",
      "Epoch 230/500\n",
      "8/8 [==============================] - 0s 5ms/step - loss: 564.6453 - mae: 11.5657 - val_loss: 508.9615 - val_mae: 11.4443\n",
      "Epoch 231/500\n",
      "8/8 [==============================] - 0s 6ms/step - loss: 473.5601 - mae: 10.4684 - val_loss: 384.8979 - val_mae: 10.7129\n",
      "Epoch 232/500\n",
      "8/8 [==============================] - 0s 7ms/step - loss: 514.8789 - mae: 10.7548 - val_loss: 519.8427 - val_mae: 11.3015\n",
      "Epoch 233/500\n",
      "8/8 [==============================] - 0s 5ms/step - loss: 460.4318 - mae: 10.2456 - val_loss: 424.6837 - val_mae: 10.8651\n",
      "Epoch 234/500\n",
      "8/8 [==============================] - 0s 6ms/step - loss: 524.8120 - mae: 10.6320 - val_loss: 485.7047 - val_mae: 11.1167\n",
      "Epoch 235/500\n",
      "8/8 [==============================] - 0s 5ms/step - loss: 506.0100 - mae: 11.1801 - val_loss: 628.4713 - val_mae: 12.1994\n",
      "Epoch 236/500\n",
      "8/8 [==============================] - 0s 5ms/step - loss: 542.4416 - mae: 11.9616 - val_loss: 537.6622 - val_mae: 11.9685\n",
      "Epoch 237/500\n",
      "8/8 [==============================] - 0s 5ms/step - loss: 456.4684 - mae: 10.9013 - val_loss: 530.9858 - val_mae: 11.1821\n",
      "Epoch 238/500\n",
      "8/8 [==============================] - 0s 5ms/step - loss: 426.5036 - mae: 10.0554 - val_loss: 446.4002 - val_mae: 10.6685\n",
      "Epoch 239/500\n",
      "8/8 [==============================] - 0s 5ms/step - loss: 495.3156 - mae: 10.1875 - val_loss: 396.4025 - val_mae: 10.5967\n",
      "Epoch 240/500\n",
      "8/8 [==============================] - 0s 6ms/step - loss: 467.6888 - mae: 10.5079 - val_loss: 550.5842 - val_mae: 11.6979\n",
      "Epoch 241/500\n",
      "8/8 [==============================] - 0s 5ms/step - loss: 454.7874 - mae: 10.2191 - val_loss: 465.2776 - val_mae: 10.7826\n",
      "Epoch 242/500\n",
      "8/8 [==============================] - 0s 5ms/step - loss: 399.5585 - mae: 9.6924 - val_loss: 525.7783 - val_mae: 10.8619\n",
      "Epoch 243/500\n",
      "8/8 [==============================] - 0s 5ms/step - loss: 404.9655 - mae: 9.6609 - val_loss: 504.9124 - val_mae: 10.3343\n",
      "Epoch 244/500\n",
      "8/8 [==============================] - 0s 6ms/step - loss: 415.7213 - mae: 9.4485 - val_loss: 471.9474 - val_mae: 10.2276\n",
      "Epoch 245/500\n",
      "8/8 [==============================] - 0s 5ms/step - loss: 408.8541 - mae: 9.3985 - val_loss: 583.4165 - val_mae: 10.7278\n",
      "Epoch 246/500\n",
      "8/8 [==============================] - 0s 6ms/step - loss: 418.9851 - mae: 9.4590 - val_loss: 467.8757 - val_mae: 10.1418\n",
      "Epoch 247/500\n",
      "8/8 [==============================] - 0s 5ms/step - loss: 453.8172 - mae: 9.7791 - val_loss: 399.2191 - val_mae: 10.3840\n",
      "Epoch 248/500\n",
      "8/8 [==============================] - 0s 5ms/step - loss: 454.4591 - mae: 9.9816 - val_loss: 581.1903 - val_mae: 10.7089\n",
      "Epoch 249/500\n",
      "8/8 [==============================] - 0s 5ms/step - loss: 402.8640 - mae: 9.4355 - val_loss: 489.3836 - val_mae: 9.9917\n",
      "Epoch 250/500\n",
      "8/8 [==============================] - 0s 5ms/step - loss: 366.6763 - mae: 8.9833 - val_loss: 430.8168 - val_mae: 9.7432\n",
      "Epoch 251/500\n",
      "8/8 [==============================] - 0s 5ms/step - loss: 371.5208 - mae: 8.9594 - val_loss: 504.7234 - val_mae: 10.0160\n",
      "Epoch 252/500\n",
      "8/8 [==============================] - 0s 5ms/step - loss: 380.0186 - mae: 9.1202 - val_loss: 491.9686 - val_mae: 9.9342\n",
      "Epoch 253/500\n",
      "8/8 [==============================] - 0s 5ms/step - loss: 403.6143 - mae: 9.1267 - val_loss: 362.2458 - val_mae: 9.7979\n",
      "Epoch 254/500\n",
      "8/8 [==============================] - 0s 5ms/step - loss: 422.0946 - mae: 9.6801 - val_loss: 497.2561 - val_mae: 10.1017\n",
      "Epoch 255/500\n",
      "8/8 [==============================] - 0s 5ms/step - loss: 364.2521 - mae: 9.0092 - val_loss: 391.4214 - val_mae: 9.5876\n",
      "Epoch 256/500\n",
      "8/8 [==============================] - 0s 6ms/step - loss: 365.3215 - mae: 9.1410 - val_loss: 595.8139 - val_mae: 10.8729\n",
      "Epoch 257/500\n",
      "8/8 [==============================] - 0s 6ms/step - loss: 407.6153 - mae: 9.3927 - val_loss: 446.8416 - val_mae: 9.5240\n",
      "Epoch 258/500\n",
      "8/8 [==============================] - 0s 5ms/step - loss: 370.2051 - mae: 8.9594 - val_loss: 487.7080 - val_mae: 9.7256\n",
      "Epoch 259/500\n",
      "8/8 [==============================] - 0s 6ms/step - loss: 356.8923 - mae: 8.8880 - val_loss: 759.1572 - val_mae: 11.4541\n",
      "Epoch 260/500\n",
      "8/8 [==============================] - 0s 9ms/step - loss: 498.3553 - mae: 10.3737 - val_loss: 418.7446 - val_mae: 11.8839\n",
      "Epoch 261/500\n",
      "8/8 [==============================] - 0s 6ms/step - loss: 612.1185 - mae: 13.2203 - val_loss: 1064.8826 - val_mae: 15.0105\n",
      "Epoch 262/500\n",
      "8/8 [==============================] - 0s 5ms/step - loss: 637.3268 - mae: 13.2695 - val_loss: 459.3840 - val_mae: 10.1205\n",
      "Epoch 263/500\n",
      "8/8 [==============================] - 0s 5ms/step - loss: 573.2811 - mae: 11.5334 - val_loss: 554.6498 - val_mae: 9.9231\n",
      "Epoch 264/500\n",
      "8/8 [==============================] - 0s 7ms/step - loss: 667.7844 - mae: 12.6383 - val_loss: 580.8389 - val_mae: 13.3246\n",
      "Epoch 265/500\n",
      "8/8 [==============================] - 0s 6ms/step - loss: 467.8988 - mae: 12.7448 - val_loss: 482.8768 - val_mae: 13.0518\n",
      "Epoch 266/500\n",
      "8/8 [==============================] - 0s 5ms/step - loss: 356.9070 - mae: 10.6480 - val_loss: 541.8044 - val_mae: 11.7494\n",
      "Epoch 267/500\n",
      "8/8 [==============================] - 0s 6ms/step - loss: 385.8959 - mae: 9.6301 - val_loss: 462.9606 - val_mae: 9.4891\n",
      "Epoch 268/500\n",
      "8/8 [==============================] - 0s 6ms/step - loss: 421.6804 - mae: 8.7795 - val_loss: 434.4207 - val_mae: 9.3464\n",
      "Epoch 269/500\n",
      "8/8 [==============================] - 0s 5ms/step - loss: 336.9747 - mae: 8.6109 - val_loss: 461.8986 - val_mae: 9.1285\n",
      "Epoch 270/500\n",
      "8/8 [==============================] - 0s 6ms/step - loss: 335.8692 - mae: 8.6521 - val_loss: 481.1852 - val_mae: 9.4358\n",
      "Epoch 271/500\n",
      "8/8 [==============================] - 0s 5ms/step - loss: 396.0961 - mae: 8.8690 - val_loss: 406.2843 - val_mae: 9.7300\n",
      "Epoch 272/500\n",
      "8/8 [==============================] - 0s 5ms/step - loss: 333.0390 - mae: 8.8202 - val_loss: 478.9966 - val_mae: 9.8627\n",
      "Epoch 273/500\n",
      "8/8 [==============================] - 0s 6ms/step - loss: 330.5988 - mae: 8.3085 - val_loss: 406.4148 - val_mae: 8.9954\n",
      "Epoch 274/500\n",
      "8/8 [==============================] - 0s 5ms/step - loss: 434.3020 - mae: 9.1755 - val_loss: 386.6882 - val_mae: 9.4234\n",
      "Epoch 275/500\n",
      "8/8 [==============================] - 0s 5ms/step - loss: 376.5534 - mae: 9.3149 - val_loss: 736.6928 - val_mae: 11.2630\n",
      "Epoch 276/500\n",
      "8/8 [==============================] - 0s 5ms/step - loss: 388.4920 - mae: 9.1337 - val_loss: 382.2055 - val_mae: 8.9179\n",
      "Epoch 277/500\n",
      "8/8 [==============================] - 0s 6ms/step - loss: 336.8290 - mae: 8.7360 - val_loss: 406.6363 - val_mae: 8.6085\n",
      "Epoch 278/500\n",
      "8/8 [==============================] - 0s 5ms/step - loss: 295.2231 - mae: 8.3108 - val_loss: 562.0352 - val_mae: 9.8125\n",
      "Epoch 279/500\n",
      "8/8 [==============================] - 0s 5ms/step - loss: 356.8766 - mae: 8.5861 - val_loss: 444.0509 - val_mae: 8.8430\n",
      "Epoch 280/500\n",
      "8/8 [==============================] - 0s 6ms/step - loss: 334.1583 - mae: 8.2713 - val_loss: 403.8907 - val_mae: 9.4062\n",
      "Epoch 281/500\n",
      "8/8 [==============================] - 0s 5ms/step - loss: 395.2076 - mae: 9.3203 - val_loss: 385.3275 - val_mae: 8.6842\n",
      "Epoch 282/500\n",
      "8/8 [==============================] - 0s 5ms/step - loss: 607.9490 - mae: 10.6642 - val_loss: 944.4304 - val_mae: 12.8180\n",
      "Epoch 283/500\n",
      "8/8 [==============================] - 0s 9ms/step - loss: 776.9964 - mae: 13.9205 - val_loss: 518.0281 - val_mae: 12.4597\n",
      "Epoch 284/500\n",
      "8/8 [==============================] - 0s 5ms/step - loss: 509.4967 - mae: 12.6860 - val_loss: 540.3093 - val_mae: 9.6832\n",
      "Epoch 285/500\n",
      "8/8 [==============================] - 0s 6ms/step - loss: 375.7158 - mae: 10.1363 - val_loss: 488.5372 - val_mae: 9.2325\n",
      "Epoch 286/500\n",
      "8/8 [==============================] - 0s 5ms/step - loss: 395.8020 - mae: 8.9359 - val_loss: 307.1111 - val_mae: 8.4228\n",
      "Epoch 287/500\n",
      "8/8 [==============================] - 0s 6ms/step - loss: 325.6451 - mae: 7.9712 - val_loss: 446.9025 - val_mae: 8.6609\n",
      "Epoch 288/500\n",
      "8/8 [==============================] - 0s 5ms/step - loss: 310.1542 - mae: 7.8570 - val_loss: 456.5328 - val_mae: 8.7077\n",
      "Epoch 289/500\n",
      "8/8 [==============================] - 0s 5ms/step - loss: 269.3293 - mae: 7.6198 - val_loss: 360.4709 - val_mae: 8.2171\n",
      "Epoch 290/500\n",
      "8/8 [==============================] - 0s 5ms/step - loss: 300.2394 - mae: 7.8875 - val_loss: 362.1345 - val_mae: 8.4427\n",
      "Epoch 291/500\n",
      "8/8 [==============================] - 0s 6ms/step - loss: 294.8955 - mae: 8.1557 - val_loss: 431.5365 - val_mae: 9.0405\n",
      "Epoch 292/500\n",
      "8/8 [==============================] - 0s 5ms/step - loss: 290.5744 - mae: 8.0226 - val_loss: 460.2190 - val_mae: 8.8043\n",
      "Epoch 293/500\n",
      "8/8 [==============================] - 0s 5ms/step - loss: 305.0682 - mae: 7.9578 - val_loss: 471.2224 - val_mae: 9.1303\n",
      "Epoch 294/500\n",
      "8/8 [==============================] - 0s 5ms/step - loss: 299.5602 - mae: 8.0350 - val_loss: 428.2179 - val_mae: 8.4132\n",
      "Epoch 295/500\n",
      "8/8 [==============================] - 0s 6ms/step - loss: 284.3315 - mae: 7.7107 - val_loss: 400.6066 - val_mae: 8.5147\n",
      "Epoch 296/500\n",
      "8/8 [==============================] - 0s 5ms/step - loss: 305.9033 - mae: 8.2337 - val_loss: 345.3403 - val_mae: 8.8006\n",
      "Epoch 297/500\n",
      "8/8 [==============================] - 0s 5ms/step - loss: 335.1418 - mae: 9.5160 - val_loss: 621.8315 - val_mae: 10.9981\n",
      "Epoch 298/500\n",
      "8/8 [==============================] - 0s 5ms/step - loss: 357.4504 - mae: 9.0498 - val_loss: 336.5302 - val_mae: 8.6310\n",
      "Epoch 299/500\n",
      "8/8 [==============================] - 0s 5ms/step - loss: 335.8672 - mae: 9.3895 - val_loss: 403.5836 - val_mae: 8.2601\n",
      "Epoch 300/500\n",
      "8/8 [==============================] - 0s 5ms/step - loss: 333.5176 - mae: 8.9813 - val_loss: 543.3254 - val_mae: 10.6364\n",
      "Epoch 301/500\n",
      "8/8 [==============================] - 0s 5ms/step - loss: 301.3633 - mae: 8.7568 - val_loss: 430.4562 - val_mae: 11.5658\n",
      "Epoch 302/500\n",
      "8/8 [==============================] - 0s 5ms/step - loss: 387.7534 - mae: 10.6594 - val_loss: 692.8885 - val_mae: 13.4699\n",
      "Epoch 303/500\n",
      "8/8 [==============================] - 0s 5ms/step - loss: 321.3839 - mae: 10.0748 - val_loss: 341.3541 - val_mae: 10.5303\n",
      "Epoch 304/500\n",
      "8/8 [==============================] - 0s 5ms/step - loss: 424.8234 - mae: 11.6980 - val_loss: 866.5870 - val_mae: 14.2240\n",
      "Epoch 305/500\n",
      "8/8 [==============================] - 0s 6ms/step - loss: 601.7678 - mae: 14.5360 - val_loss: 298.4026 - val_mae: 8.7871\n",
      "Epoch 306/500\n",
      "8/8 [==============================] - 0s 5ms/step - loss: 565.0347 - mae: 14.8752 - val_loss: 478.0042 - val_mae: 8.4323\n",
      "Epoch 307/500\n",
      "8/8 [==============================] - 0s 10ms/step - loss: 451.3305 - mae: 12.4055 - val_loss: 533.3701 - val_mae: 9.1544\n",
      "Epoch 308/500\n",
      "8/8 [==============================] - 0s 6ms/step - loss: 338.6233 - mae: 9.3501 - val_loss: 376.9483 - val_mae: 8.7826\n",
      "Epoch 309/500\n",
      "8/8 [==============================] - 0s 5ms/step - loss: 295.4632 - mae: 7.8843 - val_loss: 347.6856 - val_mae: 9.6274\n",
      "Epoch 310/500\n",
      "8/8 [==============================] - 0s 5ms/step - loss: 327.9047 - mae: 9.7020 - val_loss: 749.6780 - val_mae: 12.8447\n",
      "Epoch 311/500\n",
      "8/8 [==============================] - 0s 7ms/step - loss: 485.8438 - mae: 12.2147 - val_loss: 354.7010 - val_mae: 10.6641\n",
      "Epoch 312/500\n",
      "8/8 [==============================] - 0s 6ms/step - loss: 372.6008 - mae: 10.3141 - val_loss: 310.0277 - val_mae: 8.1579\n",
      "Epoch 313/500\n",
      "8/8 [==============================] - 0s 5ms/step - loss: 291.4989 - mae: 7.9100 - val_loss: 537.6124 - val_mae: 9.1947\n",
      "Epoch 314/500\n",
      "8/8 [==============================] - 0s 5ms/step - loss: 361.3170 - mae: 7.8201 - val_loss: 326.2972 - val_mae: 7.8354\n",
      "Epoch 315/500\n",
      "8/8 [==============================] - 0s 5ms/step - loss: 252.4240 - mae: 7.4943 - val_loss: 471.5802 - val_mae: 8.8052\n",
      "Epoch 316/500\n",
      "8/8 [==============================] - 0s 5ms/step - loss: 305.4576 - mae: 8.3693 - val_loss: 317.1601 - val_mae: 8.0731\n",
      "Epoch 317/500\n",
      "8/8 [==============================] - 0s 5ms/step - loss: 277.6566 - mae: 8.6965 - val_loss: 363.3422 - val_mae: 7.8632\n",
      "Epoch 318/500\n",
      "8/8 [==============================] - 0s 5ms/step - loss: 305.5348 - mae: 8.6098 - val_loss: 537.9548 - val_mae: 9.4435\n",
      "Epoch 319/500\n",
      "8/8 [==============================] - 0s 5ms/step - loss: 317.5163 - mae: 8.1070 - val_loss: 402.1773 - val_mae: 8.1228\n",
      "Epoch 320/500\n",
      "8/8 [==============================] - 0s 5ms/step - loss: 304.0073 - mae: 8.2742 - val_loss: 330.1284 - val_mae: 9.3732\n",
      "Epoch 321/500\n",
      "8/8 [==============================] - 0s 5ms/step - loss: 341.3596 - mae: 9.6788 - val_loss: 574.8842 - val_mae: 10.3523\n",
      "Epoch 322/500\n",
      "8/8 [==============================] - 0s 5ms/step - loss: 343.7639 - mae: 9.7496 - val_loss: 297.9706 - val_mae: 8.0890\n",
      "Epoch 323/500\n",
      "8/8 [==============================] - 0s 5ms/step - loss: 338.7317 - mae: 9.2461 - val_loss: 344.4956 - val_mae: 8.3514\n",
      "Epoch 324/500\n",
      "8/8 [==============================] - 0s 6ms/step - loss: 460.7269 - mae: 10.7153 - val_loss: 998.2415 - val_mae: 15.8311\n",
      "Epoch 325/500\n",
      "8/8 [==============================] - 0s 5ms/step - loss: 1062.4336 - mae: 16.5352 - val_loss: 299.6600 - val_mae: 9.8130\n",
      "Epoch 326/500\n",
      "8/8 [==============================] - 0s 5ms/step - loss: 474.1541 - mae: 11.4624 - val_loss: 328.0107 - val_mae: 8.0425\n",
      "Epoch 327/500\n",
      "8/8 [==============================] - 0s 6ms/step - loss: 364.8774 - mae: 9.7111 - val_loss: 585.4241 - val_mae: 10.5726\n",
      "Epoch 328/500\n",
      "8/8 [==============================] - 0s 5ms/step - loss: 294.6066 - mae: 8.1108 - val_loss: 340.9427 - val_mae: 8.1264\n",
      "Epoch 329/500\n",
      "8/8 [==============================] - 0s 6ms/step - loss: 254.2031 - mae: 7.4107 - val_loss: 515.1732 - val_mae: 9.2118\n",
      "Epoch 330/500\n",
      "8/8 [==============================] - 0s 6ms/step - loss: 279.3430 - mae: 7.9246 - val_loss: 303.3640 - val_mae: 9.2350\n",
      "Epoch 331/500\n",
      "8/8 [==============================] - 0s 10ms/step - loss: 289.0929 - mae: 9.1276 - val_loss: 511.6358 - val_mae: 10.1028\n",
      "Epoch 332/500\n",
      "8/8 [==============================] - 0s 6ms/step - loss: 396.1129 - mae: 10.0137 - val_loss: 267.0271 - val_mae: 8.0145\n",
      "Epoch 333/500\n",
      "8/8 [==============================] - 0s 6ms/step - loss: 279.1093 - mae: 8.6257 - val_loss: 441.7830 - val_mae: 8.2662\n",
      "Epoch 334/500\n",
      "8/8 [==============================] - 0s 5ms/step - loss: 294.0907 - mae: 8.1882 - val_loss: 436.7755 - val_mae: 8.3363\n",
      "Epoch 335/500\n",
      "8/8 [==============================] - 0s 6ms/step - loss: 286.5422 - mae: 7.4768 - val_loss: 318.0107 - val_mae: 7.4455\n",
      "Epoch 336/500\n",
      "8/8 [==============================] - 0s 5ms/step - loss: 299.8348 - mae: 7.5762 - val_loss: 297.9844 - val_mae: 7.7540\n",
      "Epoch 337/500\n",
      "8/8 [==============================] - 0s 5ms/step - loss: 322.4478 - mae: 8.7636 - val_loss: 621.1126 - val_mae: 11.3334\n",
      "Epoch 338/500\n",
      "8/8 [==============================] - 0s 5ms/step - loss: 416.0872 - mae: 11.5838 - val_loss: 417.5323 - val_mae: 13.2321\n",
      "Epoch 339/500\n",
      "8/8 [==============================] - 0s 5ms/step - loss: 485.3140 - mae: 13.9663 - val_loss: 668.0898 - val_mae: 13.4153\n",
      "Epoch 340/500\n",
      "8/8 [==============================] - 0s 5ms/step - loss: 398.4739 - mae: 12.4350 - val_loss: 285.9388 - val_mae: 7.7439\n",
      "Epoch 341/500\n",
      "8/8 [==============================] - 0s 5ms/step - loss: 322.1126 - mae: 10.1331 - val_loss: 300.1839 - val_mae: 7.5438\n",
      "Epoch 342/500\n",
      "8/8 [==============================] - 0s 6ms/step - loss: 334.1933 - mae: 8.9594 - val_loss: 373.8397 - val_mae: 12.2954\n",
      "Epoch 343/500\n",
      "8/8 [==============================] - 0s 5ms/step - loss: 572.8002 - mae: 13.5770 - val_loss: 882.0837 - val_mae: 14.8040\n",
      "Epoch 344/500\n",
      "8/8 [==============================] - 0s 5ms/step - loss: 649.1111 - mae: 13.8457 - val_loss: 271.6074 - val_mae: 7.4967\n",
      "Epoch 345/500\n",
      "8/8 [==============================] - 0s 6ms/step - loss: 362.2887 - mae: 9.9446 - val_loss: 327.8846 - val_mae: 9.3673\n",
      "Epoch 346/500\n",
      "8/8 [==============================] - 0s 5ms/step - loss: 312.8243 - mae: 8.8359 - val_loss: 781.4914 - val_mae: 10.5941\n",
      "Epoch 347/500\n",
      "8/8 [==============================] - 0s 6ms/step - loss: 407.2354 - mae: 8.8647 - val_loss: 364.1227 - val_mae: 8.5212\n",
      "Epoch 348/500\n",
      "8/8 [==============================] - 0s 6ms/step - loss: 342.5837 - mae: 9.6158 - val_loss: 255.0190 - val_mae: 10.3644\n",
      "Epoch 349/500\n",
      "8/8 [==============================] - 0s 5ms/step - loss: 388.6843 - mae: 10.5805 - val_loss: 627.3856 - val_mae: 10.7297\n",
      "Epoch 350/500\n",
      "8/8 [==============================] - 0s 5ms/step - loss: 388.2896 - mae: 9.7456 - val_loss: 456.2460 - val_mae: 8.5363\n",
      "Epoch 351/500\n",
      "8/8 [==============================] - 0s 6ms/step - loss: 488.1728 - mae: 9.9283 - val_loss: 303.4395 - val_mae: 9.7879\n",
      "Epoch 352/500\n",
      "8/8 [==============================] - 0s 5ms/step - loss: 570.0545 - mae: 11.8737 - val_loss: 698.4298 - val_mae: 10.2331\n",
      "Epoch 353/500\n",
      "8/8 [==============================] - 0s 5ms/step - loss: 543.5222 - mae: 12.8346 - val_loss: 513.1906 - val_mae: 10.6505\n",
      "Epoch 354/500\n",
      "8/8 [==============================] - 0s 5ms/step - loss: 450.2660 - mae: 10.9792 - val_loss: 323.9845 - val_mae: 9.2742\n",
      "Epoch 355/500\n",
      "8/8 [==============================] - 0s 10ms/step - loss: 319.8714 - mae: 8.4545 - val_loss: 245.5480 - val_mae: 7.0833\n",
      "Epoch 356/500\n",
      "8/8 [==============================] - 0s 5ms/step - loss: 327.0904 - mae: 8.6153 - val_loss: 511.2088 - val_mae: 10.2134\n",
      "Epoch 357/500\n",
      "8/8 [==============================] - 0s 6ms/step - loss: 370.9290 - mae: 10.7974 - val_loss: 305.8509 - val_mae: 9.2377\n",
      "Epoch 358/500\n",
      "8/8 [==============================] - 0s 5ms/step - loss: 278.6622 - mae: 9.5035 - val_loss: 455.5375 - val_mae: 8.8971\n",
      "Epoch 359/500\n",
      "8/8 [==============================] - 0s 6ms/step - loss: 250.1008 - mae: 7.5755 - val_loss: 288.4557 - val_mae: 7.5912\n",
      "Epoch 360/500\n",
      "8/8 [==============================] - 0s 5ms/step - loss: 370.7517 - mae: 8.2820 - val_loss: 407.8702 - val_mae: 8.1233\n",
      "Epoch 361/500\n",
      "8/8 [==============================] - 0s 5ms/step - loss: 351.0652 - mae: 8.1677 - val_loss: 425.3288 - val_mae: 7.9090\n",
      "Epoch 362/500\n",
      "8/8 [==============================] - 0s 5ms/step - loss: 291.7520 - mae: 7.3647 - val_loss: 264.0826 - val_mae: 6.9583\n",
      "Epoch 363/500\n",
      "8/8 [==============================] - 0s 5ms/step - loss: 569.1998 - mae: 10.7754 - val_loss: 485.2295 - val_mae: 11.4233\n",
      "Epoch 364/500\n",
      "8/8 [==============================] - 0s 5ms/step - loss: 1040.2394 - mae: 18.1902 - val_loss: 987.0413 - val_mae: 11.7224\n",
      "Epoch 365/500\n",
      "8/8 [==============================] - 0s 5ms/step - loss: 842.2299 - mae: 15.7842 - val_loss: 837.0490 - val_mae: 12.2557\n",
      "Epoch 366/500\n",
      "8/8 [==============================] - 0s 5ms/step - loss: 460.6664 - mae: 10.2922 - val_loss: 198.8676 - val_mae: 7.2714\n",
      "Epoch 367/500\n",
      "8/8 [==============================] - 0s 6ms/step - loss: 226.5460 - mae: 7.0744 - val_loss: 452.9835 - val_mae: 8.8955\n",
      "Epoch 368/500\n",
      "8/8 [==============================] - 0s 5ms/step - loss: 337.3748 - mae: 7.7768 - val_loss: 442.5949 - val_mae: 8.2214\n",
      "Epoch 369/500\n",
      "8/8 [==============================] - 0s 5ms/step - loss: 388.9154 - mae: 8.2709 - val_loss: 334.6259 - val_mae: 7.4870\n",
      "Epoch 370/500\n",
      "8/8 [==============================] - 0s 6ms/step - loss: 308.8144 - mae: 7.1162 - val_loss: 252.3392 - val_mae: 7.6238\n",
      "Epoch 371/500\n",
      "8/8 [==============================] - 0s 6ms/step - loss: 386.0993 - mae: 10.0632 - val_loss: 789.8692 - val_mae: 11.8646\n",
      "Epoch 372/500\n",
      "8/8 [==============================] - 0s 5ms/step - loss: 426.1891 - mae: 12.6883 - val_loss: 428.2892 - val_mae: 12.0934\n",
      "Epoch 373/500\n",
      "8/8 [==============================] - 0s 5ms/step - loss: 610.7045 - mae: 14.4471 - val_loss: 296.4290 - val_mae: 7.5632\n",
      "Epoch 374/500\n",
      "8/8 [==============================] - 0s 6ms/step - loss: 378.7013 - mae: 10.7335 - val_loss: 558.5355 - val_mae: 8.9860\n",
      "Epoch 375/500\n",
      "8/8 [==============================] - 0s 5ms/step - loss: 590.5097 - mae: 9.9488 - val_loss: 426.8386 - val_mae: 8.6017\n",
      "Epoch 376/500\n",
      "8/8 [==============================] - 0s 6ms/step - loss: 665.4165 - mae: 11.1602 - val_loss: 248.4148 - val_mae: 8.8081\n",
      "Epoch 377/500\n",
      "8/8 [==============================] - 0s 5ms/step - loss: 370.3179 - mae: 10.9250 - val_loss: 383.7763 - val_mae: 7.9407\n",
      "Epoch 378/500\n",
      "8/8 [==============================] - 0s 5ms/step - loss: 313.0423 - mae: 9.5855 - val_loss: 433.1149 - val_mae: 8.5241\n",
      "Epoch 379/500\n",
      "8/8 [==============================] - 0s 5ms/step - loss: 293.8584 - mae: 8.4664 - val_loss: 469.3982 - val_mae: 8.1039\n",
      "Epoch 380/500\n",
      "8/8 [==============================] - 0s 7ms/step - loss: 329.4601 - mae: 7.6215 - val_loss: 353.0566 - val_mae: 7.3963\n",
      "Epoch 381/500\n",
      "8/8 [==============================] - 0s 6ms/step - loss: 232.4670 - mae: 6.7065 - val_loss: 286.7626 - val_mae: 6.9672\n",
      "Epoch 382/500\n",
      "8/8 [==============================] - 0s 5ms/step - loss: 241.0911 - mae: 6.6858 - val_loss: 263.7563 - val_mae: 7.0806\n",
      "Epoch 383/500\n",
      "8/8 [==============================] - 0s 5ms/step - loss: 248.6630 - mae: 7.8853 - val_loss: 516.4338 - val_mae: 8.4423\n",
      "Epoch 384/500\n",
      "8/8 [==============================] - 0s 7ms/step - loss: 257.7559 - mae: 8.0857 - val_loss: 288.2567 - val_mae: 7.3519\n",
      "Epoch 385/500\n",
      "8/8 [==============================] - 0s 5ms/step - loss: 247.6291 - mae: 8.0209 - val_loss: 462.1185 - val_mae: 8.9704\n",
      "Epoch 386/500\n",
      "8/8 [==============================] - 0s 5ms/step - loss: 291.9081 - mae: 7.9561 - val_loss: 323.7070 - val_mae: 7.1417\n",
      "Epoch 387/500\n",
      "8/8 [==============================] - 0s 5ms/step - loss: 261.6287 - mae: 7.3582 - val_loss: 214.4409 - val_mae: 7.1414\n",
      "Epoch 388/500\n",
      "8/8 [==============================] - 0s 5ms/step - loss: 313.0734 - mae: 8.8077 - val_loss: 830.3680 - val_mae: 10.0639\n",
      "Epoch 389/500\n",
      "8/8 [==============================] - 0s 5ms/step - loss: 335.4080 - mae: 10.8652 - val_loss: 375.1495 - val_mae: 8.2840\n",
      "Epoch 390/500\n",
      "8/8 [==============================] - 0s 5ms/step - loss: 318.2143 - mae: 9.8827 - val_loss: 306.5287 - val_mae: 8.5699\n",
      "Epoch 391/500\n",
      "8/8 [==============================] - 0s 5ms/step - loss: 417.6052 - mae: 8.9429 - val_loss: 472.4014 - val_mae: 8.1926\n",
      "Epoch 392/500\n",
      "8/8 [==============================] - 0s 5ms/step - loss: 254.3213 - mae: 7.5806 - val_loss: 406.3434 - val_mae: 7.6972\n",
      "Epoch 393/500\n",
      "8/8 [==============================] - 0s 5ms/step - loss: 279.0486 - mae: 6.9679 - val_loss: 379.5999 - val_mae: 7.2256\n",
      "Epoch 394/500\n",
      "8/8 [==============================] - 0s 6ms/step - loss: 224.3395 - mae: 6.2116 - val_loss: 291.8434 - val_mae: 7.1917\n",
      "Epoch 395/500\n",
      "8/8 [==============================] - 0s 5ms/step - loss: 263.7443 - mae: 7.0858 - val_loss: 415.7917 - val_mae: 7.6154\n",
      "Epoch 396/500\n",
      "8/8 [==============================] - 0s 5ms/step - loss: 344.3631 - mae: 8.4174 - val_loss: 280.8120 - val_mae: 6.6877\n",
      "Epoch 397/500\n",
      "8/8 [==============================] - 0s 7ms/step - loss: 402.2778 - mae: 8.4005 - val_loss: 328.2225 - val_mae: 9.7751\n",
      "Epoch 398/500\n",
      "8/8 [==============================] - 0s 5ms/step - loss: 617.5502 - mae: 12.2433 - val_loss: 519.7592 - val_mae: 8.1649\n",
      "Epoch 399/500\n",
      "8/8 [==============================] - 0s 5ms/step - loss: 583.1507 - mae: 11.4440 - val_loss: 1224.1229 - val_mae: 14.2496\n",
      "Epoch 400/500\n",
      "8/8 [==============================] - 0s 6ms/step - loss: 565.0629 - mae: 11.4142 - val_loss: 600.0438 - val_mae: 8.2016\n",
      "Epoch 401/500\n",
      "8/8 [==============================] - 0s 5ms/step - loss: 355.7596 - mae: 8.0092 - val_loss: 282.5343 - val_mae: 7.9402\n",
      "Epoch 402/500\n",
      "8/8 [==============================] - 0s 5ms/step - loss: 294.7433 - mae: 7.9455 - val_loss: 810.6263 - val_mae: 9.6169\n",
      "Epoch 403/500\n",
      "8/8 [==============================] - 0s 5ms/step - loss: 285.4879 - mae: 8.8791 - val_loss: 231.6766 - val_mae: 7.1047\n",
      "Epoch 404/500\n",
      "8/8 [==============================] - 0s 6ms/step - loss: 276.6428 - mae: 9.3627 - val_loss: 422.7589 - val_mae: 7.5773\n",
      "Epoch 405/500\n",
      "8/8 [==============================] - 0s 9ms/step - loss: 273.7319 - mae: 9.0172 - val_loss: 309.5593 - val_mae: 6.9036\n",
      "Epoch 406/500\n",
      "8/8 [==============================] - 0s 5ms/step - loss: 250.8181 - mae: 8.2750 - val_loss: 428.6588 - val_mae: 7.3275\n",
      "Epoch 407/500\n",
      "8/8 [==============================] - 0s 6ms/step - loss: 303.5067 - mae: 8.0378 - val_loss: 443.9677 - val_mae: 7.4878\n",
      "Epoch 408/500\n",
      "8/8 [==============================] - 0s 5ms/step - loss: 220.1163 - mae: 6.6752 - val_loss: 195.0381 - val_mae: 6.6665\n",
      "Epoch 409/500\n",
      "8/8 [==============================] - 0s 7ms/step - loss: 363.8503 - mae: 8.4032 - val_loss: 323.0223 - val_mae: 8.5361\n",
      "Epoch 410/500\n",
      "8/8 [==============================] - 0s 6ms/step - loss: 256.3251 - mae: 7.7152 - val_loss: 437.3571 - val_mae: 9.6523\n",
      "Epoch 411/500\n",
      "8/8 [==============================] - 0s 5ms/step - loss: 250.4568 - mae: 7.5879 - val_loss: 309.0098 - val_mae: 7.7892\n",
      "Epoch 412/500\n",
      "8/8 [==============================] - 0s 5ms/step - loss: 282.9939 - mae: 7.5907 - val_loss: 261.7534 - val_mae: 7.1932\n",
      "Epoch 413/500\n",
      "8/8 [==============================] - 0s 6ms/step - loss: 294.4931 - mae: 8.0732 - val_loss: 581.1833 - val_mae: 9.2073\n",
      "Epoch 414/500\n",
      "8/8 [==============================] - 0s 5ms/step - loss: 316.1696 - mae: 9.1277 - val_loss: 416.2937 - val_mae: 7.0928\n",
      "Epoch 415/500\n",
      "8/8 [==============================] - 0s 5ms/step - loss: 347.4548 - mae: 7.7955 - val_loss: 238.4622 - val_mae: 7.7412\n",
      "Epoch 416/500\n",
      "8/8 [==============================] - 0s 5ms/step - loss: 446.7385 - mae: 8.7887 - val_loss: 184.8843 - val_mae: 7.6877\n",
      "Epoch 417/500\n",
      "8/8 [==============================] - 0s 6ms/step - loss: 527.3300 - mae: 10.7385 - val_loss: 815.9182 - val_mae: 10.7509\n",
      "Epoch 418/500\n",
      "8/8 [==============================] - 0s 5ms/step - loss: 542.1332 - mae: 11.8212 - val_loss: 706.0404 - val_mae: 10.6238\n",
      "Epoch 419/500\n",
      "8/8 [==============================] - 0s 5ms/step - loss: 571.2134 - mae: 11.0979 - val_loss: 336.2788 - val_mae: 8.3721\n",
      "Epoch 420/500\n",
      "8/8 [==============================] - 0s 5ms/step - loss: 285.1967 - mae: 7.8213 - val_loss: 363.7806 - val_mae: 7.5842\n",
      "Epoch 421/500\n",
      "8/8 [==============================] - 0s 5ms/step - loss: 275.8526 - mae: 8.2700 - val_loss: 269.4427 - val_mae: 6.4282\n",
      "Epoch 422/500\n",
      "8/8 [==============================] - 0s 5ms/step - loss: 278.5997 - mae: 7.9110 - val_loss: 604.2527 - val_mae: 7.9104\n",
      "Epoch 423/500\n",
      "8/8 [==============================] - 0s 5ms/step - loss: 306.0905 - mae: 8.7803 - val_loss: 609.3395 - val_mae: 10.8115\n",
      "Epoch 424/500\n",
      "8/8 [==============================] - 0s 5ms/step - loss: 370.8642 - mae: 8.3599 - val_loss: 622.5297 - val_mae: 8.5803\n",
      "Epoch 425/500\n",
      "8/8 [==============================] - 0s 5ms/step - loss: 450.7992 - mae: 8.6513 - val_loss: 452.5711 - val_mae: 8.4129\n",
      "Epoch 426/500\n",
      "8/8 [==============================] - 0s 6ms/step - loss: 232.8967 - mae: 6.9439 - val_loss: 302.9157 - val_mae: 7.9591\n",
      "Epoch 427/500\n",
      "8/8 [==============================] - 0s 5ms/step - loss: 259.6835 - mae: 7.5512 - val_loss: 474.7245 - val_mae: 7.7573\n",
      "Epoch 428/500\n",
      "8/8 [==============================] - 0s 5ms/step - loss: 263.5876 - mae: 6.6800 - val_loss: 414.0222 - val_mae: 7.2770\n",
      "Epoch 429/500\n",
      "8/8 [==============================] - 0s 9ms/step - loss: 507.0110 - mae: 9.4233 - val_loss: 229.8389 - val_mae: 8.1084\n",
      "Epoch 430/500\n",
      "8/8 [==============================] - 0s 9ms/step - loss: 452.8934 - mae: 9.4142 - val_loss: 242.9358 - val_mae: 7.1411\n",
      "Epoch 431/500\n",
      "8/8 [==============================] - 0s 6ms/step - loss: 554.3067 - mae: 9.5265 - val_loss: 422.2010 - val_mae: 7.1585\n",
      "Epoch 432/500\n",
      "8/8 [==============================] - 0s 5ms/step - loss: 374.1823 - mae: 8.6891 - val_loss: 806.7188 - val_mae: 10.6554\n",
      "Epoch 433/500\n",
      "8/8 [==============================] - 0s 7ms/step - loss: 276.7755 - mae: 8.2538 - val_loss: 230.1871 - val_mae: 6.7470\n",
      "Epoch 434/500\n",
      "8/8 [==============================] - 0s 5ms/step - loss: 391.9005 - mae: 9.1037 - val_loss: 227.3156 - val_mae: 7.6102\n",
      "Epoch 435/500\n",
      "8/8 [==============================] - 0s 5ms/step - loss: 332.5352 - mae: 7.2715 - val_loss: 296.6868 - val_mae: 6.5013\n",
      "Epoch 436/500\n",
      "8/8 [==============================] - 0s 6ms/step - loss: 307.4735 - mae: 6.9925 - val_loss: 322.9399 - val_mae: 6.5112\n",
      "Epoch 437/500\n",
      "8/8 [==============================] - 0s 5ms/step - loss: 248.4922 - mae: 6.8961 - val_loss: 697.4987 - val_mae: 9.7469\n",
      "Epoch 438/500\n",
      "8/8 [==============================] - 0s 5ms/step - loss: 420.3548 - mae: 8.1717 - val_loss: 306.2491 - val_mae: 6.7666\n",
      "Epoch 439/500\n",
      "8/8 [==============================] - 0s 6ms/step - loss: 200.3409 - mae: 6.6689 - val_loss: 383.9802 - val_mae: 7.1380\n",
      "Epoch 440/500\n",
      "8/8 [==============================] - 0s 6ms/step - loss: 230.8983 - mae: 6.2928 - val_loss: 373.9059 - val_mae: 6.8676\n",
      "Epoch 441/500\n",
      "8/8 [==============================] - 0s 5ms/step - loss: 272.0958 - mae: 6.7521 - val_loss: 228.3385 - val_mae: 7.2851\n",
      "Epoch 442/500\n",
      "8/8 [==============================] - 0s 6ms/step - loss: 298.7959 - mae: 7.6708 - val_loss: 228.4999 - val_mae: 6.0220\n",
      "Epoch 443/500\n",
      "8/8 [==============================] - 0s 5ms/step - loss: 270.2401 - mae: 7.0796 - val_loss: 296.8954 - val_mae: 6.3926\n",
      "Epoch 444/500\n",
      "8/8 [==============================] - 0s 5ms/step - loss: 412.9324 - mae: 7.7912 - val_loss: 609.4436 - val_mae: 7.6656\n",
      "Epoch 445/500\n",
      "8/8 [==============================] - 0s 5ms/step - loss: 376.8392 - mae: 9.0130 - val_loss: 543.2727 - val_mae: 10.5298\n",
      "Epoch 446/500\n",
      "8/8 [==============================] - 0s 5ms/step - loss: 237.8342 - mae: 7.5306 - val_loss: 279.3874 - val_mae: 6.6366\n",
      "Epoch 447/500\n",
      "8/8 [==============================] - 0s 5ms/step - loss: 234.4637 - mae: 6.4336 - val_loss: 200.6209 - val_mae: 6.2247\n",
      "Epoch 448/500\n",
      "8/8 [==============================] - 0s 5ms/step - loss: 289.1419 - mae: 6.7438 - val_loss: 273.2764 - val_mae: 6.1086\n",
      "Epoch 449/500\n",
      "8/8 [==============================] - 0s 5ms/step - loss: 292.3400 - mae: 6.5143 - val_loss: 398.7893 - val_mae: 6.9000\n",
      "Epoch 450/500\n",
      "8/8 [==============================] - 0s 5ms/step - loss: 231.6846 - mae: 6.5022 - val_loss: 590.6010 - val_mae: 9.0164\n",
      "Epoch 451/500\n",
      "8/8 [==============================] - 0s 5ms/step - loss: 258.1756 - mae: 6.6211 - val_loss: 324.1215 - val_mae: 6.4712\n",
      "Epoch 452/500\n",
      "8/8 [==============================] - 0s 6ms/step - loss: 201.4213 - mae: 5.7207 - val_loss: 398.9404 - val_mae: 7.3246\n",
      "Epoch 453/500\n",
      "8/8 [==============================] - 0s 5ms/step - loss: 215.6119 - mae: 6.0534 - val_loss: 537.9651 - val_mae: 7.5483\n",
      "Epoch 454/500\n",
      "8/8 [==============================] - 0s 8ms/step - loss: 312.1601 - mae: 6.8977 - val_loss: 395.8231 - val_mae: 7.2571\n",
      "Epoch 455/500\n",
      "8/8 [==============================] - 0s 6ms/step - loss: 300.4636 - mae: 6.9221 - val_loss: 306.8926 - val_mae: 6.4454\n",
      "Epoch 456/500\n",
      "8/8 [==============================] - 0s 5ms/step - loss: 315.7411 - mae: 8.2094 - val_loss: 207.3235 - val_mae: 7.2557\n",
      "Epoch 457/500\n",
      "8/8 [==============================] - 0s 5ms/step - loss: 504.1676 - mae: 11.1495 - val_loss: 363.6395 - val_mae: 11.1270\n",
      "Epoch 458/500\n",
      "8/8 [==============================] - 0s 5ms/step - loss: 418.7769 - mae: 11.2815 - val_loss: 689.4873 - val_mae: 13.6124\n",
      "Epoch 459/500\n",
      "8/8 [==============================] - 0s 6ms/step - loss: 457.7571 - mae: 9.7784 - val_loss: 438.0092 - val_mae: 7.5811\n",
      "Epoch 460/500\n",
      "8/8 [==============================] - 0s 5ms/step - loss: 393.5435 - mae: 8.0760 - val_loss: 197.1394 - val_mae: 6.6217\n",
      "Epoch 461/500\n",
      "8/8 [==============================] - 0s 6ms/step - loss: 434.2535 - mae: 9.2667 - val_loss: 283.1311 - val_mae: 9.9213\n",
      "Epoch 462/500\n",
      "8/8 [==============================] - 0s 5ms/step - loss: 520.6677 - mae: 10.9429 - val_loss: 557.7726 - val_mae: 8.6255\n",
      "Epoch 463/500\n",
      "8/8 [==============================] - 0s 5ms/step - loss: 323.4435 - mae: 8.4455 - val_loss: 649.8204 - val_mae: 9.9669\n",
      "Epoch 464/500\n",
      "8/8 [==============================] - 0s 5ms/step - loss: 464.8270 - mae: 9.7047 - val_loss: 260.7000 - val_mae: 6.9402\n",
      "Epoch 465/500\n",
      "8/8 [==============================] - 0s 5ms/step - loss: 261.9011 - mae: 8.3757 - val_loss: 604.1653 - val_mae: 9.5197\n",
      "Epoch 466/500\n",
      "8/8 [==============================] - 0s 5ms/step - loss: 261.8571 - mae: 8.7054 - val_loss: 222.5231 - val_mae: 7.2272\n"
     ]
    }
   ],
   "source": [
    "history = ann.fit(X_train, y_train,\n",
    "                    validation_data = (X_val, y_val),\n",
    "                    callbacks=[es],\n",
    "                    epochs=500,\n",
    "                    batch_size=50,\n",
    "                    verbose=1)"
   ]
  },
  {
   "cell_type": "markdown",
   "metadata": {
    "colab_type": "text",
    "id": "0H0zKKNEBLD5"
   },
   "source": [
    "### Predicting the results of the Test set"
   ]
  },
  {
   "cell_type": "code",
   "execution_count": 18,
   "metadata": {},
   "outputs": [
    {
     "data": {
      "image/png": "[encoded data removed]",
      "text/plain": [
       "<Figure size 432x288 with 1 Axes>"
      ]
     },
     "metadata": {
      "needs_background": "light"
     },
     "output_type": "display_data"
    }
   ],
   "source": [
    "import matplotlib.pyplot as plt\n",
    "# let's see the training and validation accuracy by epoch\n",
    "history_dict = history.history\n",
    "loss_values = history_dict['loss'] # you can change this\n",
    "val_loss_values = history_dict['val_loss'] # you can also change this\n",
    "epochs = range(1, len(loss_values) + 1) # range of X (no. of epochs)\n",
    "plt.plot(epochs, loss_values, 'blue', label='Training loss')\n",
    "plt.plot(epochs, val_loss_values, 'orange', label='Testing loss')\n",
    "plt.title('Training and testing loss')\n",
    "plt.xlabel('Epochs')\n",
    "plt.ylabel('Loss (MSE)')\n",
    "plt.legend()\n",
    "plt.show()"
   ]
  },
  {
   "cell_type": "code",
   "execution_count": 19,
   "metadata": {},
   "outputs": [
    {
     "data": {
      "image/png": "[encoded data removed]",
      "text/plain": [
       "<Figure size 432x288 with 1 Axes>"
      ]
     },
     "metadata": {
      "needs_background": "light"
     },
     "output_type": "display_data"
    }
   ],
   "source": [
    "loss_values1 = history_dict['mae'] # you can change this\n",
    "val_loss_values1 = history_dict['val_mae'] # you can also change this\n",
    "epochs = range(1, len(loss_values1) + 1) # range of X (no. of epochs)\n",
    "plt.plot(epochs, loss_values1, 'blue', label='Training MAE')\n",
    "plt.plot(epochs, val_loss_values1, 'orange', label='Testing MAE')\n",
    "plt.title('Training and testing MAE')\n",
    "plt.xlabel('Epochs')\n",
    "plt.ylabel('MAE')\n",
    "plt.legend()\n",
    "plt.show()"
   ]
  },
  {
   "cell_type": "code",
   "execution_count": 18,
   "metadata": {},
   "outputs": [
    {
     "name": "stdout",
     "output_type": "stream",
     "text": [
      "range(1, 191)\n"
     ]
    }
   ],
   "source": [
    "print (epochs)"
   ]
  },
  {
   "cell_type": "code",
   "execution_count": 21,
   "metadata": {},
   "outputs": [
    {
     "name": "stdout",
     "output_type": "stream",
     "text": [
      "12/12 [==============================] - 0s 1ms/step\n",
      "3/3 [==============================] - 0s 2ms/step\n"
     ]
    },
    {
     "data": {
      "image/png": "[encoded data removed]",
      "text/plain": [
       "<Figure size 432x288 with 2 Axes>"
      ]
     },
     "metadata": {
      "needs_background": "light"
     },
     "output_type": "display_data"
    }
   ],
   "source": [
    "# scatterplot of actual vs. pred\n",
    "# specify the dimensions \n",
    "fig, axes = plt.subplots(1,2) # 1 row, 2 columns\n",
    "\n",
    "# this makes the individual subplots\n",
    "# Training Results\n",
    "axes[0].scatter(x=y_train, y=ann.predict(X_train)) #first row, first entry (left top)\n",
    "axes[0].set_xlabel(\"Actual\", fontsize=10)\n",
    "axes[0].set_ylabel(\"Predicted\",  fontsize=10)\n",
    "axes[0].set_title(\"Training\")\n",
    "# add 45 deg line\n",
    "x = np.linspace(*axes[0].get_xlim())\n",
    "axes[0].plot(x, x, color='red')\n",
    "# Validation Results\n",
    "axes[1].scatter(x=y_val, y=ann.predict(X_val)) # first row, second entry (right top)\n",
    "axes[1].set_xlabel(\"Actual\", fontsize=10)\n",
    "axes[1].set_ylabel(\"Predicted\",  fontsize=10)\n",
    "axes[1].set_title(\"Validation\")\n",
    "# add 45 deg line\n",
    "x = np.linspace(*axes[1].get_xlim())\n",
    "axes[1].plot(x, x, color='red')\n",
    "\n",
    "# tight layout\n",
    "fig.tight_layout()\n",
    "\n",
    "# show the plot\n",
    "plt.show()"
   ]
  },
  {
   "cell_type": "code",
   "execution_count": 22,
   "metadata": {
    "colab": {
     "base_uri": "https://localhost:8080/",
     "height": 134
    },
    "colab_type": "code",
    "id": "IA0yApEmBG1X",
    "outputId": "cb981e1f-9204-4a2a-fece-9d66a6919189"
   },
   "outputs": [
    {
     "name": "stdout",
     "output_type": "stream",
     "text": [
      "3/3 [==============================] - 0s 3ms/step\n",
      "[[ 115.43  115.43]\n",
      " [ 180.81  173.84]\n",
      " [ 124.6   119.86]\n",
      " [ 120.66  114.76]\n",
      " [ 219.83  203.03]\n",
      " [ 133.67  128.08]\n",
      " [ 694.44  663.22]\n",
      " [ 133.75  130.47]\n",
      " [ 243.05  242.76]\n",
      " [ 153.07  149.23]\n",
      " [ 256.6   254.6 ]\n",
      " [ 198.36  174.48]\n",
      " [ 344.67  317.6 ]\n",
      " [ 126.53  122.31]\n",
      " [ 191.46  192.32]\n",
      " [ 139.15  134.39]\n",
      " [ 125.64  123.56]\n",
      " [1807.77 1784.86]\n",
      " [ 119.94  113.1 ]\n",
      " [ 141.68  137.43]\n",
      " [ 205.47  205.96]\n",
      " [2380.04 2351.13]\n",
      " [ 125.91  116.61]\n",
      " [ 112.7   109.67]\n",
      " [ 115.83  108.77]\n",
      " [ 126.04  122.15]\n",
      " [ 173.89  167.39]\n",
      " [ 231.83  212.75]\n",
      " [ 381.13  354.25]\n",
      " [ 111.58  111.18]\n",
      " [ 124.18  122.51]\n",
      " [ 486.85  446.48]\n",
      " [ 124.97  122.37]\n",
      " [ 666.72  647.73]\n",
      " [ 246.47  232.9 ]\n",
      " [ 128.58  118.97]\n",
      " [ 110.1   110.55]\n",
      " [1042.1  1007.45]\n",
      " [ 269.01  266.45]\n",
      " [ 182.29  180.92]\n",
      " [ 124.61  118.21]\n",
      " [ 137.88  137.28]\n",
      " [ 119.31  118.49]\n",
      " [ 150.28  141.88]\n",
      " [ 125.12  120.34]\n",
      " [ 140.35  136.11]\n",
      " [ 116.59  109.31]\n",
      " [ 118.66  112.88]\n",
      " [ 121.77  120.46]\n",
      " [ 105.57  105.39]\n",
      " [ 118.52  117.74]\n",
      " [ 179.74  163.9 ]\n",
      " [ 125.61  121.06]\n",
      " [ 114.1   111.86]\n",
      " [ 122.2   116.22]\n",
      " [1403.15 1372.28]\n",
      " [ 216.82  218.53]\n",
      " [ 125.47  116.81]\n",
      " [ 232.33  227.9 ]\n",
      " [ 129.28  125.44]\n",
      " [ 119.21  112.77]\n",
      " [ 129.32  122.16]\n",
      " [ 745.52  697.97]\n",
      " [ 135.63  129.31]\n",
      " [ 140.79  139.79]\n",
      " [ 120.29  113.97]\n",
      " [ 108.92  106.75]\n",
      " [ 150.4   151.21]\n",
      " [ 110.65  109.75]\n",
      " [ 199.04  196.65]\n",
      " [ 112.73  105.13]\n",
      " [ 127.16  123.06]\n",
      " [3180.28 3132.78]\n",
      " [ 128.47  122.24]\n",
      " [ 133.09  127.14]\n",
      " [ 143.15  140.6 ]\n",
      " [ 250.25  238.92]\n",
      " [ 115.88  109.4 ]\n",
      " [ 119.42  118.36]\n",
      " [ 121.93  120.19]\n",
      " [ 130.53  129.12]\n",
      " [ 126.69  120.24]]\n"
     ]
    }
   ],
   "source": [
    "#X_test=np.asarray(X_test).astype(np.int)\n",
    "\n",
    "#y_test=np.asarray(y_test).astype(np.int)\n",
    "\n",
    "y_pred = ann.predict(X_test)\n",
    "np.set_printoptions(precision=2)\n",
    "print(np.concatenate((y_pred.reshape(len(y_pred),1), y_test.reshape(len(y_test),1)),1))"
   ]
  },
  {
   "cell_type": "code",
   "execution_count": 23,
   "metadata": {},
   "outputs": [
    {
     "data": {
      "text/plain": [
       "Text(0, 0.5, 'Predicted data')"
      ]
     },
     "execution_count": 23,
     "metadata": {},
     "output_type": "execute_result"
    },
    {
     "data": {
      "image/png": "[encoded data removed]",
      "text/plain": [
       "<Figure size 432x288 with 1 Axes>"
      ]
     },
     "metadata": {
      "needs_background": "light"
     },
     "output_type": "display_data"
    }
   ],
   "source": [
    "import matplotlib.pyplot as plt\n",
    "plt.scatter(y_test, y_pred, color=\"blue\")\n",
    "plt.plot ([0,4000],[0,4000], color = \"red\")\n",
    "plt.axis ([0,4000,0,4000])\n",
    "plt.xlabel ('Actual data')\n",
    "plt.ylabel ('Predicted data')"
   ]
  },
  {
   "cell_type": "code",
   "execution_count": 24,
   "metadata": {},
   "outputs": [
    {
     "data": {
      "image/png": "[encoded data removed]",
      "text/plain": [
       "<Figure size 648x648 with 1 Axes>"
      ]
     },
     "metadata": {
      "needs_background": "light"
     },
     "output_type": "display_data"
    }
   ],
   "source": [
    "from sklearn.metrics import r2_score\n",
    "# Initialize layout\n",
    "fig1, ax1 = plt.subplots(figsize = (9, 9))\n",
    "\n",
    "\n",
    "#y = y_pred         # Model on prvious line is called here\n",
    "#x = y_test\n",
    "\n",
    "\n",
    "\n",
    "# Add scatterplot\n",
    "ax1.scatter(y_test, y_pred, s=70, alpha=1, edgecolors=\"k\",c='mediumblue',zorder=5, label = 'Points')\n",
    "\n",
    "\n",
    "plt.ylabel('Predicted Peak Incident Pressure (kPa)',fontsize = 25)\n",
    "plt.xlabel('Actual Peak Incident Pressure (kPa)',fontsize = 25)\n",
    "plt.xticks(fontsize = 19)\n",
    "plt.yticks(fontsize = 19)\n",
    "\n",
    "\n",
    "x1 = np.linspace(0,4000)\n",
    "\n",
    "plt.plot(x1, x1, 'Red', label='45\\N{DEGREE SIGN} line',lw=2.5,alpha=1)\n",
    "plt.plot(x1, 1.1*x1, '--m', label='\\u00B110% Error',lw=2.5,alpha=0.7)\n",
    "plt.plot(x1, 0.9*x1,'m', linestyle='--',lw=2.5,alpha=0.7)\n",
    "plt.plot(x1, 1.2*x1, '-.g', label='\\u00B120% Error',lw=2.5,alpha=0.7)\n",
    "plt.plot(x1, 0.8*x1,'-.g',lw=2.5,alpha=0.7)\n",
    "\n",
    "plt.ylim(0, 4000)\n",
    "plt.xlim(0, 4000)\n",
    "plt.legend(loc='upper left',fontsize = 25)\n",
    "\n",
    "plt.grid()\n",
    "\n",
    "ax1.spines['left'].set_color('black')        # setting up Y-axis tick color to red\n",
    "ax1.spines['bottom'].set_color('black')         #setting up above X-axis tick color to red\n",
    "\n",
    "\n",
    "\n",
    "#ax1.annotate(\"$R^2$ = {:.3f}\".format(r2), (2500, 1000),fontsize = 25)  #Model is called here\n",
    "#ax1.annotate(\"Adj.$R^2$ = {:.3f}\".format(adj_r2), (2500, 750),fontsize = 25)\n",
    "\n",
    "#plt.savefig('plot1.png', dpi = 600, bbox_inches = 'tight')"
   ]
  },
  {
   "cell_type": "code",
   "execution_count": 25,
   "metadata": {},
   "outputs": [
    {
     "data": {
      "image/png": "[encoded data removed]",
      "text/plain": [
       "<Figure size 648x648 with 1 Axes>"
      ]
     },
     "metadata": {
      "needs_background": "light"
     },
     "output_type": "display_data"
    }
   ],
   "source": [
    "# Initialize layout\n",
    "fig2, bx = plt.subplots(figsize = (9, 9))\n",
    "\n",
    "\n",
    "\n",
    "# Add scatterplot\n",
    "bx.scatter(y_test, y_pred, s=70, alpha=1, edgecolors=\"k\",c='mediumblue',zorder=5, label = 'Points')\n",
    "\n",
    "\n",
    "\n",
    "\n",
    "plt.ylabel('Predicted Peak Incident Pressure (kPa)',fontsize = 25)\n",
    "plt.xlabel('Actual Peak Incident Pressure (kPa)',fontsize = 25)\n",
    "plt.xticks(fontsize = 19)\n",
    "plt.yticks(fontsize = 19)\n",
    "\n",
    "\n",
    "\n",
    "x1 = np.linspace(0,500)\n",
    "\n",
    "plt.plot(x1, x1, 'Red', label='45\\N{DEGREE SIGN} line',lw=2.5,alpha=1)\n",
    "plt.plot(x1, 1.1*x1, '--m', label='\\u00B110% Error',lw=2.5,alpha=0.7) #\\u00B1\n",
    "plt.plot(x1, 0.9*x1,'m', linestyle='--',lw=2.5,alpha=0.7)\n",
    "plt.plot(x1, 1.2*x1, '-.g', label='\\u00B120% Error',lw=2.5,alpha=0.7)\n",
    "plt.plot(x1, 0.8*x1,'-.g',lw=2.5,alpha=0.7)\n",
    "\n",
    "plt.ylim(0, 500)\n",
    "plt.xlim(0, 500)\n",
    "plt.legend(loc='upper left',fontsize = 25)\n",
    "\n",
    "plt.grid()\n",
    "\n",
    "bx.spines['left'].set_color('black')        # setting up Y-axis tick color to red\n",
    "bx.spines['bottom'].set_color('black')         #setting up above X-axis tick color to red\n",
    "\n",
    "\n",
    "#plt.savefig('plot1.png', dpi = 600, bbox_inches = 'tight')"
   ]
  },
  {
   "cell_type": "code",
   "execution_count": 26,
   "metadata": {},
   "outputs": [
    {
     "name": "stdout",
     "output_type": "stream",
     "text": [
      "12/12 [==============================] - 0s 2ms/step\n",
      "10.585934617766535\n",
      "8.67086181938357\n"
     ]
    }
   ],
   "source": [
    "# metrics\n",
    "\n",
    "\n",
    "trainpreds = ann.predict(X_train)\n",
    "\n",
    "from sklearn.metrics import mean_absolute_error\n",
    "print(mean_absolute_error(y_train, trainpreds)) # train\n",
    "print(mean_absolute_error(y_test, y_pred)) # test"
   ]
  },
  {
   "cell_type": "code",
   "execution_count": 27,
   "metadata": {},
   "outputs": [
    {
     "name": "stdout",
     "output_type": "stream",
     "text": [
      "0.9991470566654779\n"
     ]
    }
   ],
   "source": [
    "from sklearn.metrics import r2_score\n",
    "r2 = r2_score(y_test, y_pred)\n",
    "print (r2)"
   ]
  },
  {
   "cell_type": "code",
   "execution_count": 28,
   "metadata": {},
   "outputs": [
    {
     "name": "stdout",
     "output_type": "stream",
     "text": [
      "0.9995494751457256\n"
     ]
    }
   ],
   "source": [
    "r2_train = r2_score(y_train, trainpreds)\n",
    "print (r2_train)"
   ]
  },
  {
   "cell_type": "code",
   "execution_count": 29,
   "metadata": {},
   "outputs": [
    {
     "name": "stdout",
     "output_type": "stream",
     "text": [
      "Within 10% margin 98.78%\n",
      "Within 20% margin 100.00%\n",
      "Out of 20% margin 0.00%\n"
     ]
    }
   ],
   "source": [
    "count1 = 0\n",
    "for i in range(len(y_pred)):\n",
    "    line1 = y_pred[i] - 0.9*y_test[i]\n",
    "    line2 = y_pred[i] - 1.1*y_test[i]\n",
    "    #print ('line 1 ', line1)\n",
    "    #print ('line 2 ', line2)\n",
    "    mask1 = (line1 > 0) & (line2 < 0)\n",
    "    #print (mask)\n",
    "    count1 = np.sum(mask1+count1)\n",
    "    #print (count)\n",
    "\n",
    "count2 = 0\n",
    "for j in range(len(y_pred)):\n",
    "    line3 = y_pred[j] - 0.8*y_test[j]\n",
    "    line4 = y_pred[j] - 1.2*y_test[j]\n",
    "    mask2 = (line3 > 0) & (line4 < 0)\n",
    "    count2 = np.sum(mask2+count2)\n",
    "\n",
    "\n",
    "count3 = 0    \n",
    "for k in range(len(y_pred)):\n",
    "    line5 = y_pred[k] - 0.8*y_test[k]\n",
    "    line6 = y_pred[k] - 1.2*y_test[k]\n",
    "    mask3 = (line5 < 0) or (line6 > 0)\n",
    "    count3 = np.sum(mask3+count3)\n",
    "   \n",
    "\n",
    "print ('Within 10% margin', format((count1/len (y_pred)),'.2%'))\n",
    "print ('Within 20% margin', format((count2/len (y_pred)),'.2%'))\n",
    "print ('Out of 20% margin', format((count3/len (y_pred)),'.2%'))"
   ]
  },
  {
   "cell_type": "code",
   "execution_count": 30,
   "metadata": {},
   "outputs": [
    {
     "name": "stdout",
     "output_type": "stream",
     "text": [
      "0.9991027479208274\n"
     ]
    }
   ],
   "source": [
    "adj_r2 = 1 - ((1 - r2) * (len(X_test) - 1) / (len(X_test) - len (X_test[0]) - 1))\n",
    "print (adj_r2)"
   ]
  },
  {
   "cell_type": "code",
   "execution_count": 31,
   "metadata": {},
   "outputs": [
    {
     "data": {
      "text/plain": [
       "13.823258158334438"
      ]
     },
     "execution_count": 31,
     "metadata": {},
     "output_type": "execute_result"
    }
   ],
   "source": [
    "import math\n",
    "from sklearn.metrics import mean_squared_error\n",
    "\n",
    "math.sqrt(mean_squared_error(y_test, y_pred))"
   ]
  },
  {
   "cell_type": "code",
   "execution_count": 32,
   "metadata": {},
   "outputs": [
    {
     "data": {
      "text/plain": [
       "8.67086181938357"
      ]
     },
     "execution_count": 32,
     "metadata": {},
     "output_type": "execute_result"
    }
   ],
   "source": [
    "from sklearn.metrics import mean_absolute_error\n",
    "\n",
    "mean_absolute_error(y_test, y_pred)"
   ]
  },
  {
   "cell_type": "code",
   "execution_count": 31,
   "metadata": {},
   "outputs": [
    {
     "ename": "ModuleNotFoundError",
     "evalue": "No module named 'ann_visualizer'",
     "output_type": "error",
     "traceback": [
      "\u001b[1;31m---------------------------------------------------------------------------\u001b[0m",
      "\u001b[1;31mModuleNotFoundError\u001b[0m                       Traceback (most recent call last)",
      "\u001b[1;32m~\\AppData\\Local\\Temp\\ipykernel_2412\\3367597011.py\u001b[0m in \u001b[0;36m<module>\u001b[1;34m\u001b[0m\n\u001b[1;32m----> 1\u001b[1;33m \u001b[1;32mfrom\u001b[0m \u001b[0mann_visualizer\u001b[0m\u001b[1;33m.\u001b[0m\u001b[0mvisualize\u001b[0m \u001b[1;32mimport\u001b[0m \u001b[0mann_viz\u001b[0m\u001b[1;33m;\u001b[0m\u001b[1;33m\u001b[0m\u001b[1;33m\u001b[0m\u001b[0m\n\u001b[0m\u001b[0;32m      2\u001b[0m \u001b[1;33m\u001b[0m\u001b[0m\n\u001b[0;32m      3\u001b[0m \u001b[0mann_viz\u001b[0m\u001b[1;33m(\u001b[0m\u001b[0mmodel\u001b[0m\u001b[1;33m,\u001b[0m \u001b[0mtitle\u001b[0m\u001b[1;33m=\u001b[0m\u001b[1;34m\"My first neural network\"\u001b[0m\u001b[1;33m)\u001b[0m\u001b[1;33m\u001b[0m\u001b[1;33m\u001b[0m\u001b[0m\n",
      "\u001b[1;31mModuleNotFoundError\u001b[0m: No module named 'ann_visualizer'"
     ]
    }
   ],
   "source": [
    "from ann_visualizer.visualize import ann_viz;\n",
    "\n",
    "ann_viz(model, title=\"My first neural network\")"
   ]
  }
 ],
 "metadata": {
  "colab": {
   "collapsed_sections": [],
   "name": "Artificial Neural Network",
   "provenance": [],
   "toc_visible": true
  },
  "kernelspec": {
   "display_name": "Python 3 (ipykernel)",
   "language": "python",
   "name": "python3"
  },
  "language_info": {
   "codemirror_mode": {
    "name": "ipython",
    "version": 3
   },
   "file_extension": ".py",
   "mimetype": "text/x-python",
   "name": "python",
   "nbconvert_exporter": "python",
   "pygments_lexer": "ipython3",
   "version": "3.9.7"
  }
 },
 "nbformat": 4,
 "nbformat_minor": 4
}
