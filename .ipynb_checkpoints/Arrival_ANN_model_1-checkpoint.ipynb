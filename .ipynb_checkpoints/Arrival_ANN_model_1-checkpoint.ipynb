{
 "cells": [
  {
   "cell_type": "markdown",
   "metadata": {
    "colab_type": "text",
    "id": "3cbb7fRy-eyr"
   },
   "source": [
    "# Artificial Neural Network"
   ]
  },
  {
   "cell_type": "markdown",
   "metadata": {
    "colab_type": "text",
    "id": "8sNDnxE2-pwE"
   },
   "source": [
    "### Importing the libraries"
   ]
  },
  {
   "cell_type": "code",
   "execution_count": 1,
   "metadata": {
    "colab": {},
    "colab_type": "code",
    "id": "lxChR1Rk-umf"
   },
   "outputs": [],
   "source": [
    "import numpy as np\n",
    "import pandas as pd\n",
    "import tensorflow as tf"
   ]
  },
  {
   "cell_type": "markdown",
   "metadata": {
    "colab_type": "text",
    "id": "AG3FQEch-yuA"
   },
   "source": [
    "## Part 1 - Data Preprocessing"
   ]
  },
  {
   "cell_type": "markdown",
   "metadata": {
    "colab_type": "text",
    "id": "-4zq8Mza_D9O"
   },
   "source": [
    "### Importing the dataset"
   ]
  },
  {
   "cell_type": "code",
   "execution_count": 2,
   "metadata": {
    "colab": {},
    "colab_type": "code",
    "id": "B9CV13Co_HHM"
   },
   "outputs": [
    {
     "name": "stdout",
     "output_type": "stream",
     "text": [
      "<class 'pandas.core.frame.DataFrame'>\n",
      "RangeIndex: 576 entries, 0 to 575\n",
      "Data columns (total 3 columns):\n",
      " #   Column             Non-Null Count  Dtype  \n",
      "---  ------             --------------  -----  \n",
      " 0   Charge_mass        576 non-null    float64\n",
      " 1   Standoff_distance  576 non-null    int64  \n",
      " 2   Time_of_arrival    576 non-null    float64\n",
      "dtypes: float64(2), int64(1)\n",
      "memory usage: 13.6 KB\n"
     ]
    }
   ],
   "source": [
    "dataset = pd.read_excel('Arrival_time.xlsx')\n",
    "dataset.info()"
   ]
  },
  {
   "cell_type": "code",
   "execution_count": 3,
   "metadata": {},
   "outputs": [
    {
     "data": {
      "text/html": [
       "<div>\n",
       "<style scoped>\n",
       "    .dataframe tbody tr th:only-of-type {\n",
       "        vertical-align: middle;\n",
       "    }\n",
       "\n",
       "    .dataframe tbody tr th {\n",
       "        vertical-align: top;\n",
       "    }\n",
       "\n",
       "    .dataframe thead th {\n",
       "        text-align: right;\n",
       "    }\n",
       "</style>\n",
       "<table border=\"1\" class=\"dataframe\">\n",
       "  <thead>\n",
       "    <tr style=\"text-align: right;\">\n",
       "      <th></th>\n",
       "      <th>Charge_mass</th>\n",
       "      <th>Standoff_distance</th>\n",
       "      <th>Time_of_arrival</th>\n",
       "    </tr>\n",
       "  </thead>\n",
       "  <tbody>\n",
       "    <tr>\n",
       "      <th>0</th>\n",
       "      <td>0.5</td>\n",
       "      <td>1</td>\n",
       "      <td>0.00066</td>\n",
       "    </tr>\n",
       "    <tr>\n",
       "      <th>1</th>\n",
       "      <td>0.5</td>\n",
       "      <td>7</td>\n",
       "      <td>0.01583</td>\n",
       "    </tr>\n",
       "    <tr>\n",
       "      <th>2</th>\n",
       "      <td>0.5</td>\n",
       "      <td>9</td>\n",
       "      <td>0.02156</td>\n",
       "    </tr>\n",
       "    <tr>\n",
       "      <th>3</th>\n",
       "      <td>0.5</td>\n",
       "      <td>11</td>\n",
       "      <td>0.02735</td>\n",
       "    </tr>\n",
       "    <tr>\n",
       "      <th>4</th>\n",
       "      <td>0.5</td>\n",
       "      <td>13</td>\n",
       "      <td>0.03318</td>\n",
       "    </tr>\n",
       "  </tbody>\n",
       "</table>\n",
       "</div>"
      ],
      "text/plain": [
       "   Charge_mass  Standoff_distance  Time_of_arrival\n",
       "0          0.5                  1          0.00066\n",
       "1          0.5                  7          0.01583\n",
       "2          0.5                  9          0.02156\n",
       "3          0.5                 11          0.02735\n",
       "4          0.5                 13          0.03318"
      ]
     },
     "execution_count": 3,
     "metadata": {},
     "output_type": "execute_result"
    }
   ],
   "source": [
    "dataset.head()"
   ]
  },
  {
   "cell_type": "code",
   "execution_count": 4,
   "metadata": {},
   "outputs": [
    {
     "name": "stdout",
     "output_type": "stream",
     "text": [
      "(576, 2) (576,)\n"
     ]
    }
   ],
   "source": [
    "y = dataset['Time_of_arrival']\n",
    "X = dataset.drop('Time_of_arrival', axis=1)\n",
    "print(X.shape, y.shape)"
   ]
  },
  {
   "cell_type": "code",
   "execution_count": 5,
   "metadata": {},
   "outputs": [],
   "source": [
    "# convert to numpy array\n",
    "X = np.array(X)\n",
    "y = np.array(y)"
   ]
  },
  {
   "cell_type": "markdown",
   "metadata": {
    "colab_type": "text",
    "id": "VC6omXel_Up0"
   },
   "source": [
    "### Splitting the dataset into the Training set and Test set"
   ]
  },
  {
   "cell_type": "code",
   "execution_count": 6,
   "metadata": {
    "colab": {},
    "colab_type": "code",
    "id": "L5edeb2r_agx"
   },
   "outputs": [],
   "source": [
    "from sklearn.model_selection import train_test_split\n",
    "X_train, X_test, y_train, y_test = train_test_split(X, y, test_size = 0.3, random_state = 0)"
   ]
  },
  {
   "cell_type": "code",
   "execution_count": 7,
   "metadata": {
    "colab": {},
    "colab_type": "code",
    "id": "L5edeb2r_agx"
   },
   "outputs": [],
   "source": [
    "X_val, X_test, y_val, y_test = train_test_split(X_test, y_test, test_size = 0.5, random_state = 0)"
   ]
  },
  {
   "cell_type": "markdown",
   "metadata": {
    "colab_type": "text",
    "id": "_mSLlAT9_eyI"
   },
   "source": [
    "## Part 2 - Building the ANN"
   ]
  },
  {
   "cell_type": "markdown",
   "metadata": {
    "colab_type": "text",
    "id": "CsBULd_f_wLY"
   },
   "source": [
    "### Initializing the ANN"
   ]
  },
  {
   "cell_type": "code",
   "execution_count": 8,
   "metadata": {
    "colab": {},
    "colab_type": "code",
    "id": "J6Hd97Ls__Nz"
   },
   "outputs": [],
   "source": [
    "ann = tf.keras.models.Sequential()"
   ]
  },
  {
   "cell_type": "markdown",
   "metadata": {
    "colab_type": "text",
    "id": "iitAFJS_ABUn"
   },
   "source": [
    "### Adding the input layer and the first hidden layer"
   ]
  },
  {
   "cell_type": "code",
   "execution_count": 9,
   "metadata": {
    "colab": {},
    "colab_type": "code",
    "id": "ksO_Vv40AHix"
   },
   "outputs": [],
   "source": [
    "ann.add(tf.keras.layers.Dense(units=8, input_shape=(X_train.shape[1],), activation='leaky_relu'))"
   ]
  },
  {
   "cell_type": "markdown",
   "metadata": {
    "colab_type": "text",
    "id": "-lb4kK_wAKbs"
   },
   "source": [
    "### Adding the second hidden layer"
   ]
  },
  {
   "cell_type": "code",
   "execution_count": 10,
   "metadata": {
    "colab": {},
    "colab_type": "code",
    "id": "c2357OqEAQOQ",
    "tags": []
   },
   "outputs": [],
   "source": [
    "ann.add(tf.keras.layers.Dense(units=7, activation='leaky_relu'))"
   ]
  },
  {
   "cell_type": "markdown",
   "metadata": {
    "colab_type": "text",
    "id": "-lb4kK_wAKbs"
   },
   "source": [
    "### Adding the third hidden layer"
   ]
  },
  {
   "cell_type": "code",
   "execution_count": 11,
   "metadata": {
    "colab": {},
    "colab_type": "code",
    "id": "c2357OqEAQOQ",
    "tags": []
   },
   "outputs": [],
   "source": [
    "ann.add(tf.keras.layers.Dense(units=5, activation='leaky_relu'))"
   ]
  },
  {
   "cell_type": "markdown",
   "metadata": {
    "colab_type": "text",
    "id": "jwMOmKb3AdBY"
   },
   "source": [
    "### Adding the output layer"
   ]
  },
  {
   "cell_type": "code",
   "execution_count": 12,
   "metadata": {
    "colab": {},
    "colab_type": "code",
    "id": "YFATpzsUAkLL"
   },
   "outputs": [],
   "source": [
    "ann.add(tf.keras.layers.Dense(units=1, activation='linear'))"
   ]
  },
  {
   "cell_type": "markdown",
   "metadata": {},
   "source": [
    "### what model looks like"
   ]
  },
  {
   "cell_type": "code",
   "execution_count": 13,
   "metadata": {},
   "outputs": [
    {
     "name": "stdout",
     "output_type": "stream",
     "text": [
      "Model: \"sequential\"\n",
      "_________________________________________________________________\n",
      " Layer (type)                Output Shape              Param #   \n",
      "=================================================================\n",
      " dense (Dense)               (None, 8)                 24        \n",
      "                                                                 \n",
      " dense_1 (Dense)             (None, 7)                 63        \n",
      "                                                                 \n",
      " dense_2 (Dense)             (None, 5)                 40        \n",
      "                                                                 \n",
      " dense_3 (Dense)             (None, 1)                 6         \n",
      "                                                                 \n",
      "=================================================================\n",
      "Total params: 133\n",
      "Trainable params: 133\n",
      "Non-trainable params: 0\n",
      "_________________________________________________________________\n"
     ]
    }
   ],
   "source": [
    "ann.summary()"
   ]
  },
  {
   "cell_type": "markdown",
   "metadata": {
    "colab_type": "text",
    "id": "fq7e4fF6A1yy"
   },
   "source": [
    "## Part 3 - Training the ANN"
   ]
  },
  {
   "cell_type": "markdown",
   "metadata": {
    "colab_type": "text",
    "id": "qDeylAs2An25"
   },
   "source": [
    "### Compiling the ANN"
   ]
  },
  {
   "cell_type": "code",
   "execution_count": 14,
   "metadata": {
    "colab": {},
    "colab_type": "code",
    "id": "pesgbWlCAtB4"
   },
   "outputs": [],
   "source": [
    "from tensorflow.keras.optimizers import Adam\n",
    "opt = Adam(learning_rate=0.1)\n",
    "ann.compile(optimizer = opt, loss = 'mean_squared_error', metrics = ['mae'])"
   ]
  },
  {
   "cell_type": "markdown",
   "metadata": {},
   "source": [
    "### early stopping callback"
   ]
  },
  {
   "cell_type": "code",
   "execution_count": 15,
   "metadata": {},
   "outputs": [],
   "source": [
    "# protects from unnecessary further training of the model if a particular metric does not continue to improve over a number of n epochs. In such a case, the model training would be automatically aborted.\n",
    "from keras.callbacks import EarlyStopping\n",
    "es = EarlyStopping(monitor='val_loss',\n",
    "                   mode='min',\n",
    "                   patience=50,\n",
    "                   restore_best_weights = True)"
   ]
  },
  {
   "cell_type": "markdown",
   "metadata": {
    "colab_type": "text",
    "id": "YjVuiybYOo7r"
   },
   "source": [
    "### Training the ANN model on the Training set"
   ]
  },
  {
   "cell_type": "code",
   "execution_count": 16,
   "metadata": {
    "colab": {
     "base_uri": "https://localhost:8080/",
     "height": 1000
    },
    "colab_type": "code",
    "id": "c_vV-tiiA5zn",
    "outputId": "4a2b6ee6-ed75-4698-9069-b250e613803f"
   },
   "outputs": [
    {
     "name": "stdout",
     "output_type": "stream",
     "text": [
      "Epoch 1/500\n",
      "11/11 [==============================] - 1s 17ms/step - loss: 0.3299 - mae: 0.3981 - val_loss: 0.0147 - val_mae: 0.0977\n",
      "Epoch 2/500\n",
      "11/11 [==============================] - 0s 4ms/step - loss: 0.0202 - mae: 0.1165 - val_loss: 0.0731 - val_mae: 0.2354\n",
      "Epoch 3/500\n",
      "11/11 [==============================] - 0s 5ms/step - loss: 0.0336 - mae: 0.1493 - val_loss: 0.0113 - val_mae: 0.1004\n",
      "Epoch 4/500\n",
      "11/11 [==============================] - 0s 5ms/step - loss: 0.0057 - mae: 0.0625 - val_loss: 0.0039 - val_mae: 0.0571\n",
      "Epoch 5/500\n",
      "11/11 [==============================] - 0s 4ms/step - loss: 0.0019 - mae: 0.0364 - val_loss: 9.4254e-04 - val_mae: 0.0268\n",
      "Epoch 6/500\n",
      "11/11 [==============================] - 0s 5ms/step - loss: 6.6974e-04 - mae: 0.0194 - val_loss: 5.1308e-04 - val_mae: 0.0131\n",
      "Epoch 7/500\n",
      "11/11 [==============================] - 0s 5ms/step - loss: 3.1271e-04 - mae: 0.0123 - val_loss: 3.5139e-04 - val_mae: 0.0164\n",
      "Epoch 8/500\n",
      "11/11 [==============================] - 0s 9ms/step - loss: 1.9640e-04 - mae: 0.0109 - val_loss: 5.1189e-05 - val_mae: 0.0056\n",
      "Epoch 9/500\n",
      "11/11 [==============================] - 0s 5ms/step - loss: 6.0602e-05 - mae: 0.0061 - val_loss: 2.7720e-05 - val_mae: 0.0042\n",
      "Epoch 10/500\n",
      "11/11 [==============================] - 0s 5ms/step - loss: 3.2629e-05 - mae: 0.0047 - val_loss: 2.6171e-05 - val_mae: 0.0043\n",
      "Epoch 11/500\n",
      "11/11 [==============================] - 0s 5ms/step - loss: 2.4936e-05 - mae: 0.0040 - val_loss: 1.6697e-05 - val_mae: 0.0035\n",
      "Epoch 12/500\n",
      "11/11 [==============================] - 0s 5ms/step - loss: 1.6601e-05 - mae: 0.0032 - val_loss: 1.0774e-05 - val_mae: 0.0026\n",
      "Epoch 13/500\n",
      "11/11 [==============================] - 0s 5ms/step - loss: 1.1753e-05 - mae: 0.0027 - val_loss: 8.0992e-06 - val_mae: 0.0023\n",
      "Epoch 14/500\n",
      "11/11 [==============================] - 0s 5ms/step - loss: 9.4568e-06 - mae: 0.0024 - val_loss: 7.2482e-06 - val_mae: 0.0022\n",
      "Epoch 15/500\n",
      "11/11 [==============================] - 0s 5ms/step - loss: 7.3426e-06 - mae: 0.0021 - val_loss: 4.4507e-06 - val_mae: 0.0016\n",
      "Epoch 16/500\n",
      "11/11 [==============================] - 0s 5ms/step - loss: 5.2907e-06 - mae: 0.0017 - val_loss: 3.3140e-06 - val_mae: 0.0013\n",
      "Epoch 17/500\n",
      "11/11 [==============================] - 0s 5ms/step - loss: 3.8715e-06 - mae: 0.0014 - val_loss: 4.5041e-06 - val_mae: 0.0019\n",
      "Epoch 18/500\n",
      "11/11 [==============================] - 0s 4ms/step - loss: 3.7397e-06 - mae: 0.0015 - val_loss: 3.0686e-06 - val_mae: 0.0014\n",
      "Epoch 19/500\n",
      "11/11 [==============================] - 0s 5ms/step - loss: 4.1402e-06 - mae: 0.0016 - val_loss: 5.1210e-06 - val_mae: 0.0020\n",
      "Epoch 20/500\n",
      "11/11 [==============================] - 0s 5ms/step - loss: 3.2364e-06 - mae: 0.0014 - val_loss: 2.9748e-06 - val_mae: 0.0014\n",
      "Epoch 21/500\n",
      "11/11 [==============================] - 0s 6ms/step - loss: 2.5979e-06 - mae: 0.0012 - val_loss: 1.4962e-06 - val_mae: 9.2366e-04\n",
      "Epoch 22/500\n",
      "11/11 [==============================] - 0s 5ms/step - loss: 2.1626e-06 - mae: 0.0011 - val_loss: 1.9846e-06 - val_mae: 0.0011\n",
      "Epoch 23/500\n",
      "11/11 [==============================] - 0s 5ms/step - loss: 2.1384e-06 - mae: 0.0011 - val_loss: 1.3257e-06 - val_mae: 9.0933e-04\n",
      "Epoch 24/500\n",
      "11/11 [==============================] - 0s 4ms/step - loss: 1.6562e-06 - mae: 0.0010 - val_loss: 2.0227e-06 - val_mae: 0.0011\n",
      "Epoch 25/500\n",
      "11/11 [==============================] - 0s 5ms/step - loss: 1.6467e-06 - mae: 0.0010 - val_loss: 1.5294e-06 - val_mae: 9.9742e-04\n",
      "Epoch 26/500\n",
      "11/11 [==============================] - 0s 5ms/step - loss: 1.5723e-06 - mae: 9.9663e-04 - val_loss: 1.9584e-06 - val_mae: 0.0012\n",
      "Epoch 27/500\n",
      "11/11 [==============================] - 0s 5ms/step - loss: 2.0139e-06 - mae: 0.0011 - val_loss: 1.3776e-06 - val_mae: 9.2145e-04\n",
      "Epoch 28/500\n",
      "11/11 [==============================] - 0s 5ms/step - loss: 1.6070e-06 - mae: 0.0010 - val_loss: 1.4323e-06 - val_mae: 9.9056e-04\n",
      "Epoch 29/500\n",
      "11/11 [==============================] - 0s 5ms/step - loss: 1.5677e-06 - mae: 0.0010 - val_loss: 2.0316e-06 - val_mae: 0.0011\n",
      "Epoch 30/500\n",
      "11/11 [==============================] - 0s 5ms/step - loss: 1.6232e-06 - mae: 0.0010 - val_loss: 1.5378e-06 - val_mae: 9.6549e-04\n",
      "Epoch 31/500\n",
      "11/11 [==============================] - 0s 5ms/step - loss: 1.5037e-06 - mae: 0.0010 - val_loss: 3.1448e-06 - val_mae: 0.0014\n",
      "Epoch 32/500\n",
      "11/11 [==============================] - 0s 5ms/step - loss: 2.0610e-06 - mae: 0.0012 - val_loss: 3.9457e-06 - val_mae: 0.0016\n",
      "Epoch 33/500\n",
      "11/11 [==============================] - 0s 5ms/step - loss: 1.8929e-06 - mae: 0.0011 - val_loss: 1.5136e-06 - val_mae: 0.0010\n",
      "Epoch 34/500\n",
      "11/11 [==============================] - 0s 5ms/step - loss: 1.7210e-06 - mae: 0.0011 - val_loss: 1.7756e-06 - val_mae: 0.0010\n",
      "Epoch 35/500\n",
      "11/11 [==============================] - 0s 5ms/step - loss: 1.4703e-06 - mae: 9.7872e-04 - val_loss: 1.1894e-06 - val_mae: 8.9244e-04\n",
      "Epoch 36/500\n",
      "11/11 [==============================] - 0s 5ms/step - loss: 1.5580e-06 - mae: 0.0010 - val_loss: 1.4011e-06 - val_mae: 9.7092e-04\n",
      "Epoch 37/500\n",
      "11/11 [==============================] - 0s 5ms/step - loss: 1.5087e-06 - mae: 9.7643e-04 - val_loss: 3.4947e-06 - val_mae: 0.0015\n",
      "Epoch 38/500\n",
      "11/11 [==============================] - 0s 5ms/step - loss: 1.9975e-06 - mae: 0.0011 - val_loss: 2.4387e-06 - val_mae: 0.0012\n",
      "Epoch 39/500\n",
      "11/11 [==============================] - 0s 5ms/step - loss: 1.7177e-06 - mae: 0.0010 - val_loss: 1.1178e-06 - val_mae: 8.9489e-04\n",
      "Epoch 40/500\n",
      "11/11 [==============================] - 0s 5ms/step - loss: 2.3676e-06 - mae: 0.0012 - val_loss: 1.2080e-06 - val_mae: 9.0494e-04\n",
      "Epoch 41/500\n",
      "11/11 [==============================] - 0s 5ms/step - loss: 2.2067e-06 - mae: 0.0012 - val_loss: 3.9825e-06 - val_mae: 0.0017\n",
      "Epoch 42/500\n",
      "11/11 [==============================] - 0s 5ms/step - loss: 2.7526e-06 - mae: 0.0014 - val_loss: 2.7012e-06 - val_mae: 0.0013\n",
      "Epoch 43/500\n",
      "11/11 [==============================] - 0s 5ms/step - loss: 1.9940e-06 - mae: 0.0011 - val_loss: 3.7696e-06 - val_mae: 0.0016\n",
      "Epoch 44/500\n",
      "11/11 [==============================] - 0s 5ms/step - loss: 1.7753e-06 - mae: 0.0011 - val_loss: 4.6779e-06 - val_mae: 0.0018\n",
      "Epoch 45/500\n",
      "11/11 [==============================] - 0s 5ms/step - loss: 2.3161e-06 - mae: 0.0012 - val_loss: 3.2609e-06 - val_mae: 0.0014\n",
      "Epoch 46/500\n",
      "11/11 [==============================] - 0s 6ms/step - loss: 2.0015e-06 - mae: 0.0012 - val_loss: 3.8295e-06 - val_mae: 0.0017\n",
      "Epoch 47/500\n",
      "11/11 [==============================] - 0s 5ms/step - loss: 2.4067e-06 - mae: 0.0012 - val_loss: 1.4725e-06 - val_mae: 9.2870e-04\n",
      "Epoch 48/500\n",
      "11/11 [==============================] - 0s 5ms/step - loss: 1.4591e-06 - mae: 9.4184e-04 - val_loss: 1.7891e-06 - val_mae: 0.0010\n",
      "Epoch 49/500\n",
      "11/11 [==============================] - 0s 5ms/step - loss: 1.6126e-06 - mae: 0.0010 - val_loss: 2.3342e-06 - val_mae: 0.0012\n",
      "Epoch 50/500\n",
      "11/11 [==============================] - 0s 5ms/step - loss: 2.3659e-06 - mae: 0.0012 - val_loss: 2.9300e-06 - val_mae: 0.0014\n",
      "Epoch 51/500\n",
      "11/11 [==============================] - 0s 5ms/step - loss: 2.8419e-06 - mae: 0.0014 - val_loss: 1.5066e-06 - val_mae: 9.9662e-04\n",
      "Epoch 52/500\n",
      "11/11 [==============================] - 0s 5ms/step - loss: 1.9112e-06 - mae: 0.0011 - val_loss: 1.0924e-06 - val_mae: 8.5196e-04\n",
      "Epoch 53/500\n",
      "11/11 [==============================] - 0s 8ms/step - loss: 1.7157e-06 - mae: 0.0010 - val_loss: 1.4220e-06 - val_mae: 9.6418e-04\n",
      "Epoch 54/500\n",
      "11/11 [==============================] - 0s 5ms/step - loss: 1.9531e-06 - mae: 0.0011 - val_loss: 1.3959e-06 - val_mae: 9.6937e-04\n",
      "Epoch 55/500\n",
      "11/11 [==============================] - 0s 4ms/step - loss: 1.5082e-06 - mae: 9.8994e-04 - val_loss: 1.4592e-06 - val_mae: 9.3521e-04\n",
      "Epoch 56/500\n",
      "11/11 [==============================] - 0s 5ms/step - loss: 1.3497e-06 - mae: 9.0736e-04 - val_loss: 2.0808e-06 - val_mae: 0.0011\n",
      "Epoch 57/500\n",
      "11/11 [==============================] - 0s 4ms/step - loss: 1.7260e-06 - mae: 0.0011 - val_loss: 1.8439e-06 - val_mae: 0.0011\n",
      "Epoch 58/500\n",
      "11/11 [==============================] - 0s 5ms/step - loss: 1.9228e-06 - mae: 0.0011 - val_loss: 1.1030e-06 - val_mae: 8.8013e-04\n",
      "Epoch 59/500\n",
      "11/11 [==============================] - 0s 5ms/step - loss: 1.4060e-06 - mae: 9.5358e-04 - val_loss: 4.5546e-06 - val_mae: 0.0017\n",
      "Epoch 60/500\n",
      "11/11 [==============================] - 0s 5ms/step - loss: 2.2550e-06 - mae: 0.0012 - val_loss: 1.1668e-06 - val_mae: 8.9725e-04\n",
      "Epoch 61/500\n",
      "11/11 [==============================] - 0s 6ms/step - loss: 1.4996e-06 - mae: 9.7813e-04 - val_loss: 1.2844e-06 - val_mae: 9.4972e-04\n",
      "Epoch 62/500\n",
      "11/11 [==============================] - 0s 5ms/step - loss: 1.3929e-06 - mae: 9.6574e-04 - val_loss: 3.0886e-06 - val_mae: 0.0014\n",
      "Epoch 63/500\n",
      "11/11 [==============================] - 0s 7ms/step - loss: 1.8355e-06 - mae: 0.0011 - val_loss: 9.2528e-07 - val_mae: 8.2655e-04\n",
      "Epoch 64/500\n",
      "11/11 [==============================] - 0s 5ms/step - loss: 1.7033e-06 - mae: 0.0011 - val_loss: 1.6660e-06 - val_mae: 0.0011\n",
      "Epoch 65/500\n",
      "11/11 [==============================] - 0s 5ms/step - loss: 1.5039e-06 - mae: 9.8675e-04 - val_loss: 1.5719e-06 - val_mae: 9.8038e-04\n",
      "Epoch 66/500\n",
      "11/11 [==============================] - 0s 5ms/step - loss: 2.1653e-06 - mae: 0.0012 - val_loss: 7.6305e-06 - val_mae: 0.0025\n",
      "Epoch 67/500\n",
      "11/11 [==============================] - 0s 5ms/step - loss: 7.6339e-06 - mae: 0.0024 - val_loss: 8.3108e-06 - val_mae: 0.0023\n",
      "Epoch 68/500\n",
      "11/11 [==============================] - 0s 5ms/step - loss: 3.9531e-06 - mae: 0.0016 - val_loss: 2.0675e-06 - val_mae: 0.0012\n",
      "Epoch 69/500\n",
      "11/11 [==============================] - 0s 5ms/step - loss: 2.8063e-06 - mae: 0.0013 - val_loss: 3.5103e-06 - val_mae: 0.0014\n",
      "Epoch 70/500\n",
      "11/11 [==============================] - 0s 5ms/step - loss: 2.4413e-06 - mae: 0.0013 - val_loss: 8.5371e-06 - val_mae: 0.0025\n",
      "Epoch 71/500\n",
      "11/11 [==============================] - 0s 5ms/step - loss: 3.3898e-06 - mae: 0.0015 - val_loss: 1.9574e-06 - val_mae: 9.7404e-04\n",
      "Epoch 72/500\n",
      "11/11 [==============================] - 0s 5ms/step - loss: 2.2386e-06 - mae: 0.0012 - val_loss: 6.0064e-06 - val_mae: 0.0020\n",
      "Epoch 73/500\n",
      "11/11 [==============================] - 0s 5ms/step - loss: 4.5095e-06 - mae: 0.0018 - val_loss: 1.7853e-06 - val_mae: 0.0011\n",
      "Epoch 74/500\n",
      "11/11 [==============================] - 0s 5ms/step - loss: 1.7604e-06 - mae: 0.0011 - val_loss: 3.8908e-06 - val_mae: 0.0018\n",
      "Epoch 75/500\n",
      "11/11 [==============================] - 0s 5ms/step - loss: 2.1614e-06 - mae: 0.0012 - val_loss: 1.2039e-06 - val_mae: 8.7175e-04\n",
      "Epoch 76/500\n",
      "11/11 [==============================] - 0s 5ms/step - loss: 3.3529e-06 - mae: 0.0015 - val_loss: 3.3432e-06 - val_mae: 0.0014\n",
      "Epoch 77/500\n",
      "11/11 [==============================] - 0s 5ms/step - loss: 1.8528e-06 - mae: 0.0011 - val_loss: 4.3624e-06 - val_mae: 0.0017\n",
      "Epoch 78/500\n",
      "11/11 [==============================] - 0s 5ms/step - loss: 2.2869e-06 - mae: 0.0012 - val_loss: 2.0577e-06 - val_mae: 0.0012\n",
      "Epoch 79/500\n",
      "11/11 [==============================] - 0s 5ms/step - loss: 1.7546e-06 - mae: 0.0011 - val_loss: 2.5328e-06 - val_mae: 0.0014\n",
      "Epoch 80/500\n",
      "11/11 [==============================] - 0s 4ms/step - loss: 4.0720e-06 - mae: 0.0017 - val_loss: 5.3769e-06 - val_mae: 0.0020\n",
      "Epoch 81/500\n",
      "11/11 [==============================] - 0s 5ms/step - loss: 2.9341e-06 - mae: 0.0014 - val_loss: 3.0252e-06 - val_mae: 0.0013\n",
      "Epoch 82/500\n",
      "11/11 [==============================] - 0s 5ms/step - loss: 1.6584e-06 - mae: 0.0010 - val_loss: 1.5282e-06 - val_mae: 0.0011\n",
      "Epoch 83/500\n",
      "11/11 [==============================] - 0s 5ms/step - loss: 1.5515e-06 - mae: 0.0010 - val_loss: 2.3582e-06 - val_mae: 0.0012\n",
      "Epoch 84/500\n",
      "11/11 [==============================] - 0s 5ms/step - loss: 1.5942e-06 - mae: 9.8785e-04 - val_loss: 1.7501e-06 - val_mae: 9.8831e-04\n",
      "Epoch 85/500\n",
      "11/11 [==============================] - 0s 5ms/step - loss: 2.0340e-06 - mae: 0.0012 - val_loss: 2.2182e-06 - val_mae: 0.0012\n",
      "Epoch 86/500\n",
      "11/11 [==============================] - 0s 5ms/step - loss: 2.2143e-06 - mae: 0.0012 - val_loss: 3.9042e-06 - val_mae: 0.0018\n",
      "Epoch 87/500\n",
      "11/11 [==============================] - 0s 5ms/step - loss: 3.8485e-06 - mae: 0.0016 - val_loss: 8.6794e-06 - val_mae: 0.0026\n",
      "Epoch 88/500\n",
      "11/11 [==============================] - 0s 5ms/step - loss: 3.3156e-06 - mae: 0.0015 - val_loss: 5.2970e-06 - val_mae: 0.0019\n",
      "Epoch 89/500\n",
      "11/11 [==============================] - 0s 6ms/step - loss: 4.9660e-06 - mae: 0.0017 - val_loss: 1.0727e-06 - val_mae: 8.6176e-04\n",
      "Epoch 90/500\n",
      "11/11 [==============================] - 0s 5ms/step - loss: 4.2859e-06 - mae: 0.0017 - val_loss: 2.5548e-06 - val_mae: 0.0014\n",
      "Epoch 91/500\n",
      "11/11 [==============================] - 0s 5ms/step - loss: 3.3319e-06 - mae: 0.0015 - val_loss: 3.8253e-06 - val_mae: 0.0017\n",
      "Epoch 92/500\n",
      "11/11 [==============================] - 0s 5ms/step - loss: 2.1410e-06 - mae: 0.0011 - val_loss: 2.8908e-06 - val_mae: 0.0013\n",
      "Epoch 93/500\n",
      "11/11 [==============================] - 0s 5ms/step - loss: 1.8246e-06 - mae: 0.0011 - val_loss: 8.7437e-07 - val_mae: 7.6143e-04\n",
      "Epoch 94/500\n",
      "11/11 [==============================] - 0s 5ms/step - loss: 1.1306e-06 - mae: 8.3057e-04 - val_loss: 3.6820e-06 - val_mae: 0.0017\n",
      "Epoch 95/500\n",
      "11/11 [==============================] - 0s 5ms/step - loss: 2.1409e-06 - mae: 0.0012 - val_loss: 1.5436e-06 - val_mae: 9.3514e-04\n",
      "Epoch 96/500\n",
      "11/11 [==============================] - 0s 5ms/step - loss: 2.2508e-06 - mae: 0.0012 - val_loss: 2.3301e-05 - val_mae: 0.0044\n",
      "Epoch 97/500\n",
      "11/11 [==============================] - 0s 4ms/step - loss: 8.2049e-06 - mae: 0.0024 - val_loss: 4.9891e-06 - val_mae: 0.0018\n",
      "Epoch 98/500\n",
      "11/11 [==============================] - 0s 4ms/step - loss: 3.4688e-06 - mae: 0.0015 - val_loss: 5.1374e-06 - val_mae: 0.0018\n",
      "Epoch 99/500\n",
      "11/11 [==============================] - 0s 4ms/step - loss: 3.0475e-06 - mae: 0.0014 - val_loss: 1.0571e-05 - val_mae: 0.0028\n",
      "Epoch 100/500\n",
      "11/11 [==============================] - 0s 6ms/step - loss: 6.9752e-06 - mae: 0.0022 - val_loss: 1.2794e-05 - val_mae: 0.0032\n",
      "Epoch 101/500\n",
      "11/11 [==============================] - 0s 7ms/step - loss: 3.2941e-06 - mae: 0.0015 - val_loss: 1.5361e-06 - val_mae: 9.4702e-04\n",
      "Epoch 102/500\n",
      "11/11 [==============================] - 0s 5ms/step - loss: 1.3674e-06 - mae: 9.5741e-04 - val_loss: 5.2298e-06 - val_mae: 0.0021\n",
      "Epoch 103/500\n",
      "11/11 [==============================] - 0s 5ms/step - loss: 2.4160e-06 - mae: 0.0012 - val_loss: 2.0692e-06 - val_mae: 0.0012\n",
      "Epoch 104/500\n",
      "11/11 [==============================] - 0s 4ms/step - loss: 2.1996e-06 - mae: 0.0012 - val_loss: 9.7505e-07 - val_mae: 8.3486e-04\n",
      "Epoch 105/500\n",
      "11/11 [==============================] - 0s 5ms/step - loss: 1.6233e-06 - mae: 0.0010 - val_loss: 7.7178e-07 - val_mae: 7.2284e-04\n",
      "Epoch 106/500\n",
      "11/11 [==============================] - 0s 4ms/step - loss: 2.2382e-06 - mae: 0.0012 - val_loss: 1.3620e-05 - val_mae: 0.0033\n",
      "Epoch 107/500\n",
      "11/11 [==============================] - 0s 4ms/step - loss: 6.3228e-06 - mae: 0.0021 - val_loss: 2.2017e-06 - val_mae: 0.0011\n",
      "Epoch 108/500\n",
      "11/11 [==============================] - 0s 5ms/step - loss: 3.1497e-06 - mae: 0.0014 - val_loss: 7.5798e-07 - val_mae: 7.0975e-04\n",
      "Epoch 109/500\n",
      "11/11 [==============================] - 0s 4ms/step - loss: 1.7139e-06 - mae: 0.0010 - val_loss: 7.2721e-07 - val_mae: 6.8576e-04\n",
      "Epoch 110/500\n",
      "11/11 [==============================] - 0s 5ms/step - loss: 2.6820e-06 - mae: 0.0014 - val_loss: 4.1429e-06 - val_mae: 0.0016\n",
      "Epoch 111/500\n",
      "11/11 [==============================] - 0s 5ms/step - loss: 7.7983e-06 - mae: 0.0022 - val_loss: 1.1185e-05 - val_mae: 0.0030\n",
      "Epoch 112/500\n",
      "11/11 [==============================] - 0s 4ms/step - loss: 9.2268e-06 - mae: 0.0025 - val_loss: 1.0600e-06 - val_mae: 8.3681e-04\n",
      "Epoch 113/500\n",
      "11/11 [==============================] - 0s 4ms/step - loss: 2.4278e-06 - mae: 0.0012 - val_loss: 1.1637e-05 - val_mae: 0.0029\n",
      "Epoch 114/500\n",
      "11/11 [==============================] - 0s 4ms/step - loss: 5.3552e-06 - mae: 0.0019 - val_loss: 3.0204e-05 - val_mae: 0.0049\n",
      "Epoch 115/500\n",
      "11/11 [==============================] - 0s 5ms/step - loss: 1.6609e-05 - mae: 0.0033 - val_loss: 2.2518e-05 - val_mae: 0.0043\n",
      "Epoch 116/500\n",
      "11/11 [==============================] - 0s 4ms/step - loss: 1.1782e-05 - mae: 0.0028 - val_loss: 9.0710e-06 - val_mae: 0.0026\n",
      "Epoch 117/500\n",
      "11/11 [==============================] - 0s 5ms/step - loss: 2.3693e-05 - mae: 0.0040 - val_loss: 1.1584e-04 - val_mae: 0.0096\n",
      "Epoch 118/500\n",
      "11/11 [==============================] - 0s 4ms/step - loss: 3.5370e-05 - mae: 0.0049 - val_loss: 1.2603e-05 - val_mae: 0.0028\n",
      "Epoch 119/500\n",
      "11/11 [==============================] - 0s 4ms/step - loss: 1.5951e-05 - mae: 0.0033 - val_loss: 8.6233e-06 - val_mae: 0.0027\n",
      "Epoch 120/500\n",
      "11/11 [==============================] - 0s 4ms/step - loss: 3.6845e-06 - mae: 0.0015 - val_loss: 5.2175e-06 - val_mae: 0.0020\n",
      "Epoch 121/500\n",
      "11/11 [==============================] - 0s 5ms/step - loss: 5.7068e-06 - mae: 0.0020 - val_loss: 1.3987e-06 - val_mae: 0.0010\n",
      "Epoch 122/500\n",
      "11/11 [==============================] - 0s 5ms/step - loss: 3.9391e-06 - mae: 0.0016 - val_loss: 1.6083e-06 - val_mae: 0.0010\n",
      "Epoch 123/500\n",
      "11/11 [==============================] - 0s 6ms/step - loss: 2.1383e-06 - mae: 0.0012 - val_loss: 5.6996e-06 - val_mae: 0.0021\n",
      "Epoch 124/500\n",
      "11/11 [==============================] - 0s 5ms/step - loss: 2.8461e-06 - mae: 0.0013 - val_loss: 7.7992e-06 - val_mae: 0.0026\n",
      "Epoch 125/500\n",
      "11/11 [==============================] - 0s 5ms/step - loss: 2.9593e-06 - mae: 0.0014 - val_loss: 7.9416e-06 - val_mae: 0.0024\n",
      "Epoch 126/500\n",
      "11/11 [==============================] - 0s 5ms/step - loss: 3.7023e-06 - mae: 0.0015 - val_loss: 1.3628e-06 - val_mae: 0.0010\n",
      "Epoch 127/500\n",
      "11/11 [==============================] - 0s 5ms/step - loss: 2.4103e-06 - mae: 0.0012 - val_loss: 4.8315e-06 - val_mae: 0.0017\n",
      "Epoch 128/500\n",
      "11/11 [==============================] - 0s 4ms/step - loss: 2.7541e-06 - mae: 0.0014 - val_loss: 1.0065e-05 - val_mae: 0.0028\n",
      "Epoch 129/500\n",
      "11/11 [==============================] - 0s 4ms/step - loss: 5.2462e-06 - mae: 0.0018 - val_loss: 3.1131e-06 - val_mae: 0.0014\n",
      "Epoch 130/500\n",
      "11/11 [==============================] - 0s 9ms/step - loss: 1.2806e-06 - mae: 8.9341e-04 - val_loss: 7.6368e-06 - val_mae: 0.0024\n",
      "Epoch 131/500\n",
      "11/11 [==============================] - 0s 6ms/step - loss: 7.1081e-06 - mae: 0.0022 - val_loss: 3.0165e-06 - val_mae: 0.0016\n",
      "Epoch 132/500\n",
      "11/11 [==============================] - 0s 4ms/step - loss: 4.4106e-06 - mae: 0.0017 - val_loss: 1.1033e-05 - val_mae: 0.0031\n",
      "Epoch 133/500\n",
      "11/11 [==============================] - 0s 4ms/step - loss: 1.1829e-05 - mae: 0.0029 - val_loss: 3.7719e-06 - val_mae: 0.0015\n",
      "Epoch 134/500\n",
      "11/11 [==============================] - 0s 4ms/step - loss: 6.3047e-06 - mae: 0.0020 - val_loss: 6.1967e-06 - val_mae: 0.0023\n",
      "Epoch 135/500\n",
      "11/11 [==============================] - 0s 5ms/step - loss: 4.2629e-06 - mae: 0.0017 - val_loss: 1.4092e-06 - val_mae: 8.7489e-04\n",
      "Epoch 136/500\n",
      "11/11 [==============================] - 0s 5ms/step - loss: 1.1930e-06 - mae: 8.4818e-04 - val_loss: 3.6062e-06 - val_mae: 0.0018\n",
      "Epoch 137/500\n",
      "11/11 [==============================] - 0s 5ms/step - loss: 3.2656e-06 - mae: 0.0015 - val_loss: 1.9176e-05 - val_mae: 0.0040\n",
      "Epoch 138/500\n",
      "11/11 [==============================] - 0s 6ms/step - loss: 6.4577e-06 - mae: 0.0021 - val_loss: 2.2523e-06 - val_mae: 0.0012\n",
      "Epoch 139/500\n",
      "11/11 [==============================] - 0s 6ms/step - loss: 1.8948e-06 - mae: 0.0011 - val_loss: 1.4303e-06 - val_mae: 0.0010\n",
      "Epoch 140/500\n",
      "11/11 [==============================] - 0s 5ms/step - loss: 1.4512e-06 - mae: 9.5707e-04 - val_loss: 2.8617e-05 - val_mae: 0.0050\n",
      "Epoch 141/500\n",
      "11/11 [==============================] - 0s 5ms/step - loss: 1.2132e-05 - mae: 0.0029 - val_loss: 4.0813e-06 - val_mae: 0.0012\n",
      "Epoch 142/500\n",
      "11/11 [==============================] - 0s 5ms/step - loss: 1.9380e-06 - mae: 0.0011 - val_loss: 1.7928e-06 - val_mae: 0.0011\n",
      "Epoch 143/500\n",
      "11/11 [==============================] - 0s 4ms/step - loss: 5.3999e-06 - mae: 0.0019 - val_loss: 2.7748e-05 - val_mae: 0.0048\n",
      "Epoch 144/500\n",
      "11/11 [==============================] - 0s 4ms/step - loss: 1.3137e-05 - mae: 0.0030 - val_loss: 1.3801e-05 - val_mae: 0.0031\n",
      "Epoch 145/500\n",
      "11/11 [==============================] - 0s 4ms/step - loss: 3.3758e-06 - mae: 0.0014 - val_loss: 7.1308e-07 - val_mae: 6.6869e-04\n",
      "Epoch 146/500\n",
      "11/11 [==============================] - 0s 4ms/step - loss: 9.9192e-07 - mae: 7.7643e-04 - val_loss: 4.4082e-06 - val_mae: 0.0017\n",
      "Epoch 147/500\n",
      "11/11 [==============================] - 0s 5ms/step - loss: 2.6041e-06 - mae: 0.0013 - val_loss: 2.4509e-06 - val_mae: 0.0012\n",
      "Epoch 148/500\n",
      "11/11 [==============================] - 0s 5ms/step - loss: 2.1299e-06 - mae: 0.0011 - val_loss: 2.4294e-06 - val_mae: 0.0012\n",
      "Epoch 149/500\n",
      "11/11 [==============================] - 0s 5ms/step - loss: 2.0678e-06 - mae: 0.0011 - val_loss: 3.3838e-06 - val_mae: 0.0016\n",
      "Epoch 150/500\n",
      "11/11 [==============================] - 0s 4ms/step - loss: 4.1853e-06 - mae: 0.0017 - val_loss: 6.5902e-06 - val_mae: 0.0024\n",
      "Epoch 151/500\n",
      "11/11 [==============================] - 0s 4ms/step - loss: 2.6977e-06 - mae: 0.0013 - val_loss: 1.1748e-06 - val_mae: 7.7221e-04\n",
      "Epoch 152/500\n",
      "11/11 [==============================] - 0s 4ms/step - loss: 2.6336e-06 - mae: 0.0013 - val_loss: 8.5227e-07 - val_mae: 7.7232e-04\n",
      "Epoch 153/500\n",
      "11/11 [==============================] - 0s 5ms/step - loss: 2.2197e-06 - mae: 0.0012 - val_loss: 4.2400e-06 - val_mae: 0.0019\n",
      "Epoch 154/500\n",
      "11/11 [==============================] - 0s 5ms/step - loss: 5.1953e-06 - mae: 0.0019 - val_loss: 1.9688e-06 - val_mae: 0.0010\n",
      "Epoch 155/500\n",
      "11/11 [==============================] - 0s 5ms/step - loss: 3.7606e-06 - mae: 0.0016 - val_loss: 2.6697e-05 - val_mae: 0.0047\n",
      "Epoch 156/500\n",
      "11/11 [==============================] - 0s 4ms/step - loss: 1.6910e-05 - mae: 0.0034 - val_loss: 9.1086e-06 - val_mae: 0.0017\n",
      "Epoch 157/500\n",
      "11/11 [==============================] - 0s 4ms/step - loss: 1.7614e-05 - mae: 0.0034 - val_loss: 4.9000e-05 - val_mae: 0.0064\n",
      "Epoch 158/500\n",
      "11/11 [==============================] - 0s 4ms/step - loss: 2.2594e-05 - mae: 0.0040 - val_loss: 4.8529e-05 - val_mae: 0.0063\n",
      "Epoch 159/500\n",
      "11/11 [==============================] - 0s 4ms/step - loss: 6.1369e-05 - mae: 0.0067 - val_loss: 2.3572e-05 - val_mae: 0.0044\n",
      "Epoch 160/500\n",
      "11/11 [==============================] - 0s 5ms/step - loss: 1.0191e-05 - mae: 0.0025 - val_loss: 1.5066e-06 - val_mae: 9.1564e-04\n",
      "Epoch 161/500\n",
      "11/11 [==============================] - 0s 5ms/step - loss: 6.0742e-06 - mae: 0.0020 - val_loss: 2.6349e-06 - val_mae: 0.0014\n",
      "Epoch 162/500\n",
      "11/11 [==============================] - 0s 6ms/step - loss: 1.9263e-06 - mae: 0.0011 - val_loss: 4.4716e-06 - val_mae: 0.0019\n",
      "Epoch 163/500\n",
      "11/11 [==============================] - 0s 5ms/step - loss: 5.4590e-06 - mae: 0.0019 - val_loss: 8.7233e-06 - val_mae: 0.0027\n",
      "Epoch 164/500\n",
      "11/11 [==============================] - 0s 5ms/step - loss: 3.6979e-06 - mae: 0.0016 - val_loss: 3.2101e-06 - val_mae: 0.0015\n",
      "Epoch 165/500\n",
      "11/11 [==============================] - 0s 4ms/step - loss: 3.7128e-06 - mae: 0.0016 - val_loss: 6.2883e-06 - val_mae: 0.0017\n",
      "Epoch 166/500\n",
      "11/11 [==============================] - 0s 4ms/step - loss: 4.9236e-06 - mae: 0.0017 - val_loss: 1.3482e-05 - val_mae: 0.0030\n",
      "Epoch 167/500\n",
      "11/11 [==============================] - 0s 4ms/step - loss: 1.3059e-05 - mae: 0.0031 - val_loss: 2.1195e-05 - val_mae: 0.0040\n",
      "Epoch 168/500\n",
      "11/11 [==============================] - 0s 4ms/step - loss: 5.6928e-06 - mae: 0.0019 - val_loss: 1.8667e-05 - val_mae: 0.0038\n",
      "Epoch 169/500\n",
      "11/11 [==============================] - 0s 4ms/step - loss: 1.0406e-05 - mae: 0.0027 - val_loss: 4.1954e-06 - val_mae: 0.0017\n",
      "Epoch 170/500\n",
      "11/11 [==============================] - 0s 4ms/step - loss: 2.6258e-06 - mae: 0.0013 - val_loss: 1.4050e-06 - val_mae: 0.0010\n",
      "Epoch 171/500\n",
      "11/11 [==============================] - 0s 4ms/step - loss: 5.0306e-06 - mae: 0.0018 - val_loss: 4.7941e-06 - val_mae: 0.0020\n",
      "Epoch 172/500\n",
      "11/11 [==============================] - 0s 4ms/step - loss: 2.7547e-06 - mae: 0.0013 - val_loss: 9.5399e-07 - val_mae: 7.0674e-04\n",
      "Epoch 173/500\n",
      "11/11 [==============================] - 0s 4ms/step - loss: 1.1889e-06 - mae: 8.4686e-04 - val_loss: 7.3482e-06 - val_mae: 0.0023\n",
      "Epoch 174/500\n",
      "11/11 [==============================] - 0s 4ms/step - loss: 1.8662e-05 - mae: 0.0036 - val_loss: 1.4250e-04 - val_mae: 0.0108\n",
      "Epoch 175/500\n",
      "11/11 [==============================] - 0s 4ms/step - loss: 1.4375e-04 - mae: 0.0101 - val_loss: 8.0491e-04 - val_mae: 0.0264\n",
      "Epoch 176/500\n",
      "11/11 [==============================] - 0s 5ms/step - loss: 3.2298e-04 - mae: 0.0145 - val_loss: 3.4336e-04 - val_mae: 0.0162\n",
      "Epoch 177/500\n",
      "11/11 [==============================] - 0s 7ms/step - loss: 8.4468e-04 - mae: 0.0234 - val_loss: 4.3666e-04 - val_mae: 0.0204\n",
      "Epoch 178/500\n",
      "11/11 [==============================] - 0s 4ms/step - loss: 3.9409e-04 - mae: 0.0169 - val_loss: 1.6649e-04 - val_mae: 0.0110\n",
      "Epoch 179/500\n",
      "11/11 [==============================] - 0s 4ms/step - loss: 7.8250e-05 - mae: 0.0070 - val_loss: 7.5976e-04 - val_mae: 0.0268\n",
      "Epoch 180/500\n",
      "11/11 [==============================] - 0s 4ms/step - loss: 2.8206e-04 - mae: 0.0139 - val_loss: 6.0399e-05 - val_mae: 0.0069\n",
      "Epoch 181/500\n",
      "11/11 [==============================] - 0s 4ms/step - loss: 3.9423e-05 - mae: 0.0049 - val_loss: 1.0440e-05 - val_mae: 0.0028\n",
      "Epoch 182/500\n",
      "11/11 [==============================] - 0s 5ms/step - loss: 1.0716e-05 - mae: 0.0027 - val_loss: 7.5705e-06 - val_mae: 0.0016\n",
      "Epoch 183/500\n",
      "11/11 [==============================] - 0s 4ms/step - loss: 5.2434e-06 - mae: 0.0015 - val_loss: 1.9181e-06 - val_mae: 0.0011\n",
      "Epoch 184/500\n",
      "11/11 [==============================] - 0s 4ms/step - loss: 1.6203e-06 - mae: 9.7525e-04 - val_loss: 1.3984e-06 - val_mae: 8.4318e-04\n",
      "Epoch 185/500\n",
      "11/11 [==============================] - 0s 4ms/step - loss: 1.1856e-06 - mae: 8.3904e-04 - val_loss: 4.9641e-07 - val_mae: 5.4382e-04\n",
      "Epoch 186/500\n",
      "11/11 [==============================] - 0s 4ms/step - loss: 7.6758e-07 - mae: 6.3648e-04 - val_loss: 4.7671e-07 - val_mae: 5.3897e-04\n",
      "Epoch 187/500\n",
      "11/11 [==============================] - 0s 4ms/step - loss: 6.1589e-07 - mae: 6.0073e-04 - val_loss: 5.8415e-07 - val_mae: 6.4072e-04\n",
      "Epoch 188/500\n",
      "11/11 [==============================] - 0s 4ms/step - loss: 7.3208e-07 - mae: 6.1834e-04 - val_loss: 1.0002e-06 - val_mae: 7.4286e-04\n",
      "Epoch 189/500\n",
      "11/11 [==============================] - 0s 4ms/step - loss: 1.6340e-06 - mae: 0.0010 - val_loss: 4.6056e-06 - val_mae: 0.0020\n",
      "Epoch 190/500\n",
      "11/11 [==============================] - 0s 4ms/step - loss: 2.7342e-06 - mae: 0.0014 - val_loss: 8.6756e-07 - val_mae: 6.8025e-04\n",
      "Epoch 191/500\n",
      "11/11 [==============================] - 0s 4ms/step - loss: 8.2145e-07 - mae: 6.8656e-04 - val_loss: 1.4682e-06 - val_mae: 0.0011\n",
      "Epoch 192/500\n",
      "11/11 [==============================] - 0s 4ms/step - loss: 1.2559e-06 - mae: 9.2852e-04 - val_loss: 3.4821e-07 - val_mae: 4.5543e-04\n",
      "Epoch 193/500\n",
      "11/11 [==============================] - 0s 4ms/step - loss: 6.9017e-07 - mae: 5.8416e-04 - val_loss: 4.2772e-07 - val_mae: 4.7819e-04\n",
      "Epoch 194/500\n",
      "11/11 [==============================] - 0s 4ms/step - loss: 8.6120e-07 - mae: 7.1262e-04 - val_loss: 7.8876e-07 - val_mae: 7.4877e-04\n",
      "Epoch 195/500\n",
      "11/11 [==============================] - 0s 3ms/step - loss: 9.1506e-07 - mae: 7.4984e-04 - val_loss: 6.2280e-07 - val_mae: 5.8151e-04\n",
      "Epoch 196/500\n",
      "11/11 [==============================] - 0s 4ms/step - loss: 1.4788e-06 - mae: 9.6956e-04 - val_loss: 2.9366e-06 - val_mae: 0.0016\n",
      "Epoch 197/500\n",
      "11/11 [==============================] - 0s 3ms/step - loss: 1.4568e-06 - mae: 9.4878e-04 - val_loss: 4.4492e-07 - val_mae: 4.9688e-04\n",
      "Epoch 198/500\n",
      "11/11 [==============================] - 0s 4ms/step - loss: 1.0580e-06 - mae: 8.1114e-04 - val_loss: 5.5505e-07 - val_mae: 5.5461e-04\n",
      "Epoch 199/500\n",
      "11/11 [==============================] - 0s 4ms/step - loss: 6.4068e-07 - mae: 5.9211e-04 - val_loss: 5.7592e-07 - val_mae: 6.3180e-04\n",
      "Epoch 200/500\n",
      "11/11 [==============================] - 0s 4ms/step - loss: 6.7789e-07 - mae: 6.3993e-04 - val_loss: 3.8579e-07 - val_mae: 5.0644e-04\n",
      "Epoch 201/500\n",
      "11/11 [==============================] - 0s 4ms/step - loss: 7.4367e-07 - mae: 6.6142e-04 - val_loss: 9.1868e-07 - val_mae: 7.7603e-04\n",
      "Epoch 202/500\n",
      "11/11 [==============================] - 0s 4ms/step - loss: 7.6101e-07 - mae: 6.5589e-04 - val_loss: 9.8730e-07 - val_mae: 7.6963e-04\n",
      "Epoch 203/500\n",
      "11/11 [==============================] - 0s 4ms/step - loss: 1.1039e-06 - mae: 8.3638e-04 - val_loss: 2.7442e-06 - val_mae: 0.0015\n",
      "Epoch 204/500\n",
      "11/11 [==============================] - 0s 4ms/step - loss: 1.3928e-06 - mae: 9.7906e-04 - val_loss: 1.6415e-06 - val_mae: 9.8530e-04\n",
      "Epoch 205/500\n",
      "11/11 [==============================] - 0s 3ms/step - loss: 1.8458e-06 - mae: 0.0011 - val_loss: 2.1208e-06 - val_mae: 0.0013\n",
      "Epoch 206/500\n",
      "11/11 [==============================] - 0s 5ms/step - loss: 1.4000e-06 - mae: 9.5005e-04 - val_loss: 5.8341e-06 - val_mae: 0.0022\n",
      "Epoch 207/500\n",
      "11/11 [==============================] - 0s 4ms/step - loss: 2.3680e-06 - mae: 0.0012 - val_loss: 2.2619e-06 - val_mae: 0.0013\n",
      "Epoch 208/500\n",
      "11/11 [==============================] - 0s 4ms/step - loss: 2.9683e-06 - mae: 0.0015 - val_loss: 3.1415e-06 - val_mae: 0.0017\n",
      "Epoch 209/500\n",
      "11/11 [==============================] - 0s 4ms/step - loss: 1.7874e-06 - mae: 0.0011 - val_loss: 5.0881e-06 - val_mae: 0.0021\n",
      "Epoch 210/500\n",
      "11/11 [==============================] - 0s 4ms/step - loss: 3.9622e-06 - mae: 0.0017 - val_loss: 8.0311e-07 - val_mae: 7.1718e-04\n",
      "Epoch 211/500\n",
      "11/11 [==============================] - 0s 5ms/step - loss: 2.7259e-06 - mae: 0.0014 - val_loss: 2.2125e-06 - val_mae: 0.0013\n",
      "Epoch 212/500\n",
      "11/11 [==============================] - 0s 5ms/step - loss: 1.7577e-06 - mae: 0.0011 - val_loss: 1.9279e-06 - val_mae: 0.0012\n",
      "Epoch 213/500\n",
      "11/11 [==============================] - 0s 5ms/step - loss: 1.5156e-06 - mae: 9.9354e-04 - val_loss: 1.0896e-06 - val_mae: 8.9768e-04\n",
      "Epoch 214/500\n",
      "11/11 [==============================] - 0s 5ms/step - loss: 8.5745e-07 - mae: 7.1516e-04 - val_loss: 6.9137e-07 - val_mae: 5.9107e-04\n",
      "Epoch 215/500\n",
      "11/11 [==============================] - 0s 4ms/step - loss: 6.6004e-07 - mae: 6.0203e-04 - val_loss: 4.7190e-07 - val_mae: 4.9468e-04\n",
      "Epoch 216/500\n",
      "11/11 [==============================] - 0s 3ms/step - loss: 6.0314e-07 - mae: 5.5900e-04 - val_loss: 1.1398e-06 - val_mae: 9.0316e-04\n",
      "Epoch 217/500\n",
      "11/11 [==============================] - 0s 4ms/step - loss: 1.1791e-06 - mae: 8.8380e-04 - val_loss: 8.5996e-07 - val_mae: 7.4164e-04\n",
      "Epoch 218/500\n",
      "11/11 [==============================] - 0s 4ms/step - loss: 8.3406e-07 - mae: 7.2705e-04 - val_loss: 3.6651e-06 - val_mae: 0.0018\n",
      "Epoch 219/500\n",
      "11/11 [==============================] - 0s 5ms/step - loss: 1.8197e-06 - mae: 0.0011 - val_loss: 1.4569e-06 - val_mae: 9.5710e-04\n",
      "Epoch 220/500\n",
      "11/11 [==============================] - 0s 10ms/step - loss: 9.7350e-07 - mae: 7.7056e-04 - val_loss: 5.0007e-07 - val_mae: 5.3772e-04\n",
      "Epoch 221/500\n",
      "11/11 [==============================] - 0s 6ms/step - loss: 1.0784e-06 - mae: 8.3212e-04 - val_loss: 1.4298e-06 - val_mae: 0.0010\n",
      "Epoch 222/500\n",
      "11/11 [==============================] - 0s 4ms/step - loss: 1.1539e-06 - mae: 8.4407e-04 - val_loss: 5.5836e-07 - val_mae: 5.5030e-04\n",
      "Epoch 223/500\n",
      "11/11 [==============================] - 0s 4ms/step - loss: 7.8924e-07 - mae: 6.6854e-04 - val_loss: 1.3794e-06 - val_mae: 0.0010\n",
      "Epoch 224/500\n",
      "11/11 [==============================] - 0s 4ms/step - loss: 8.8729e-07 - mae: 7.5614e-04 - val_loss: 1.1922e-06 - val_mae: 8.5128e-04\n",
      "Epoch 225/500\n",
      "11/11 [==============================] - 0s 5ms/step - loss: 9.3019e-07 - mae: 7.7639e-04 - val_loss: 4.1357e-07 - val_mae: 5.1253e-04\n",
      "Epoch 226/500\n",
      "11/11 [==============================] - 0s 4ms/step - loss: 6.3435e-07 - mae: 6.1880e-04 - val_loss: 1.1104e-06 - val_mae: 8.6119e-04\n",
      "Epoch 227/500\n",
      "11/11 [==============================] - 0s 4ms/step - loss: 8.1075e-07 - mae: 6.9641e-04 - val_loss: 5.6026e-07 - val_mae: 5.2280e-04\n",
      "Epoch 228/500\n",
      "11/11 [==============================] - 0s 5ms/step - loss: 1.1377e-06 - mae: 8.3932e-04 - val_loss: 7.1553e-06 - val_mae: 0.0025\n",
      "Epoch 229/500\n",
      "11/11 [==============================] - 0s 5ms/step - loss: 3.9136e-06 - mae: 0.0017 - val_loss: 2.3884e-06 - val_mae: 0.0014\n",
      "Epoch 230/500\n",
      "11/11 [==============================] - 0s 5ms/step - loss: 1.1170e-06 - mae: 8.2751e-04 - val_loss: 5.5629e-07 - val_mae: 5.5837e-04\n",
      "Epoch 231/500\n",
      "11/11 [==============================] - 0s 4ms/step - loss: 1.0178e-06 - mae: 7.9102e-04 - val_loss: 5.5985e-06 - val_mae: 0.0022\n",
      "Epoch 232/500\n",
      "11/11 [==============================] - 0s 4ms/step - loss: 4.7183e-06 - mae: 0.0019 - val_loss: 1.3365e-05 - val_mae: 0.0036\n",
      "Epoch 233/500\n",
      "11/11 [==============================] - 0s 4ms/step - loss: 4.8503e-06 - mae: 0.0019 - val_loss: 4.6758e-06 - val_mae: 0.0020\n",
      "Epoch 234/500\n",
      "11/11 [==============================] - 0s 4ms/step - loss: 2.2956e-06 - mae: 0.0012 - val_loss: 2.4501e-06 - val_mae: 0.0014\n",
      "Epoch 235/500\n",
      "11/11 [==============================] - 0s 3ms/step - loss: 1.1730e-06 - mae: 8.6568e-04 - val_loss: 7.0284e-07 - val_mae: 6.8883e-04\n",
      "Epoch 236/500\n",
      "11/11 [==============================] - 0s 5ms/step - loss: 5.5435e-07 - mae: 5.5502e-04 - val_loss: 5.0241e-07 - val_mae: 5.5730e-04\n",
      "Epoch 237/500\n",
      "11/11 [==============================] - 0s 6ms/step - loss: 5.6164e-07 - mae: 5.6094e-04 - val_loss: 9.3472e-07 - val_mae: 7.9880e-04\n",
      "Epoch 238/500\n",
      "11/11 [==============================] - 0s 6ms/step - loss: 8.7365e-07 - mae: 7.3885e-04 - val_loss: 5.0129e-07 - val_mae: 5.2931e-04\n",
      "Epoch 239/500\n",
      "11/11 [==============================] - 0s 4ms/step - loss: 9.3586e-07 - mae: 7.5591e-04 - val_loss: 7.2266e-07 - val_mae: 6.5563e-04\n",
      "Epoch 240/500\n",
      "11/11 [==============================] - 0s 4ms/step - loss: 9.8019e-07 - mae: 7.8311e-04 - val_loss: 4.5422e-06 - val_mae: 0.0019\n",
      "Epoch 241/500\n",
      "11/11 [==============================] - 0s 4ms/step - loss: 1.5603e-06 - mae: 0.0010 - val_loss: 6.0076e-07 - val_mae: 5.8998e-04\n",
      "Epoch 242/500\n",
      "11/11 [==============================] - 0s 4ms/step - loss: 8.0831e-07 - mae: 6.9435e-04 - val_loss: 7.9960e-07 - val_mae: 6.7531e-04\n"
     ]
    }
   ],
   "source": [
    "history = ann.fit(X_train, y_train,\n",
    "                    validation_data = (X_val, y_val),\n",
    "                    callbacks=[es],\n",
    "                    epochs=500,\n",
    "                    batch_size=40,\n",
    "                    verbose=1)"
   ]
  },
  {
   "cell_type": "markdown",
   "metadata": {
    "colab_type": "text",
    "id": "0H0zKKNEBLD5"
   },
   "source": [
    "### Predicting the results of the Test set"
   ]
  },
  {
   "cell_type": "code",
   "execution_count": 17,
   "metadata": {},
   "outputs": [
    {
     "data": {
      "image/png": "[encoded data removed]",
      "text/plain": [
       "<Figure size 432x288 with 1 Axes>"
      ]
     },
     "metadata": {
      "needs_background": "light"
     },
     "output_type": "display_data"
    }
   ],
   "source": [
    "import matplotlib.pyplot as plt\n",
    "# let's see the training and validation accuracy by epoch\n",
    "history_dict = history.history\n",
    "loss_values = history_dict['loss'] # you can change this\n",
    "val_loss_values = history_dict['val_loss'] # you can also change this\n",
    "epochs = range(1, len(loss_values) + 1) # range of X (no. of epochs)\n",
    "plt.plot(epochs, loss_values, 'blue', label='Training loss')\n",
    "plt.plot(epochs, val_loss_values, 'orange', label='Testing loss')\n",
    "plt.title('Training and testing loss')\n",
    "plt.xlabel('Epochs')\n",
    "plt.ylabel('Loss (MSE)')\n",
    "plt.legend()\n",
    "plt.show()"
   ]
  },
  {
   "cell_type": "code",
   "execution_count": 18,
   "metadata": {},
   "outputs": [
    {
     "data": {
      "image/png": "[encoded data removed]",
      "text/plain": [
       "<Figure size 432x288 with 1 Axes>"
      ]
     },
     "metadata": {
      "needs_background": "light"
     },
     "output_type": "display_data"
    }
   ],
   "source": [
    "loss_values1 = history_dict['mae'] # you can change this\n",
    "val_loss_values1 = history_dict['val_mae'] # you can also change this\n",
    "epochs = range(1, len(loss_values1) + 1) # range of X (no. of epochs)\n",
    "plt.plot(epochs, loss_values1, 'blue', label='Training MAE')\n",
    "plt.plot(epochs, val_loss_values1, 'orange', label='Testing MAE')\n",
    "plt.title('Training and testing MAE')\n",
    "plt.xlabel('Epochs')\n",
    "plt.ylabel('MAE')\n",
    "plt.legend()\n",
    "plt.show()"
   ]
  },
  {
   "cell_type": "code",
   "execution_count": 18,
   "metadata": {},
   "outputs": [
    {
     "name": "stdout",
     "output_type": "stream",
     "text": [
      "range(1, 191)\n"
     ]
    }
   ],
   "source": [
    "print (epochs)"
   ]
  },
  {
   "cell_type": "code",
   "execution_count": null,
   "metadata": {},
   "outputs": [
    {
     "name": "stdout",
     "output_type": "stream",
     "text": [
      "13/13 [==============================] - 0s 1ms/step\n",
      "3/3 [==============================] - 0s 2ms/step\n"
     ]
    },
    {
     "data": {
      "image/png": "[encoded data removed]",
      "text/plain": [
       "<Figure size 432x288 with 2 Axes>"
      ]
     },
     "metadata": {
      "needs_background": "light"
     },
     "output_type": "display_data"
    }
   ],
   "source": [
    "# scatterplot of actual vs. pred\n",
    "# specify the dimensions \n",
    "fig, axes = plt.subplots(1,2) # 1 row, 2 columns\n",
    "\n",
    "# this makes the individual subplots\n",
    "# Training Results\n",
    "axes[0].scatter(x=y_train, y=ann.predict(X_train)) #first row, first entry (left top)\n",
    "axes[0].set_xlabel(\"Actual\", fontsize=10)\n",
    "axes[0].set_ylabel(\"Predicted\",  fontsize=10)\n",
    "axes[0].set_title(\"Training\")\n",
    "# add 45 deg line\n",
    "x = np.linspace(*axes[0].get_xlim())\n",
    "axes[0].plot(x, x, color='red')\n",
    "# Validation Results\n",
    "axes[1].scatter(x=y_val, y=ann.predict(X_val)) # first row, second entry (right top)\n",
    "axes[1].set_xlabel(\"Actual\", fontsize=10)\n",
    "axes[1].set_ylabel(\"Predicted\",  fontsize=10)\n",
    "axes[1].set_title(\"Validation\")\n",
    "# add 45 deg line\n",
    "x = np.linspace(*axes[1].get_xlim())\n",
    "axes[1].plot(x, x, color='red')\n",
    "\n",
    "# tight layout\n",
    "fig.tight_layout()\n",
    "\n",
    "# show the plot\n",
    "plt.show()"
   ]
  },
  {
   "cell_type": "code",
   "execution_count": null,
   "metadata": {
    "colab": {
     "base_uri": "https://localhost:8080/",
     "height": 134
    },
    "colab_type": "code",
    "id": "IA0yApEmBG1X",
    "outputId": "cb981e1f-9204-4a2a-fece-9d66a6919189"
   },
   "outputs": [
    {
     "name": "stdout",
     "output_type": "stream",
     "text": [
      "3/3 [==============================] - 0s 2ms/step\n",
      "[[ 4.84e-02  4.88e-02]\n",
      " [ 2.28e-02  2.27e-02]\n",
      " [ 8.30e-02  8.11e-02]\n",
      " [ 3.09e-03  2.16e-03]\n",
      " [ 2.33e-02  2.55e-02]\n",
      " [ 3.41e-02  3.49e-02]\n",
      " [ 6.33e-02  6.36e-02]\n",
      " [ 4.58e-02  4.54e-02]\n",
      " [ 2.43e-03  1.72e-03]\n",
      " [ 7.76e-02  7.78e-02]\n",
      " [ 2.55e-02  2.47e-02]\n",
      " [ 3.45e-02  3.58e-02]\n",
      " [ 3.99e-02  4.07e-02]\n",
      " [ 6.97e-02  6.99e-02]\n",
      " [ 7.33e-02  7.22e-02]\n",
      " [ 5.80e-03  5.61e-03]\n",
      " [ 3.44e-02  3.39e-02]\n",
      " [ 8.60e-03  9.17e-03]\n",
      " [ 7.45e-02  7.45e-02]\n",
      " [ 2.61e-02  2.55e-02]\n",
      " [ 3.21e-03  2.31e-03]\n",
      " [ 1.24e-02  1.58e-02]\n",
      " [ 7.09e-02  6.98e-02]\n",
      " [ 6.50e-02  6.59e-02]\n",
      " [ 6.94e-03  1.02e-02]\n",
      " [ 4.36e-02  4.36e-02]\n",
      " [-5.12e-04  2.50e-04]\n",
      " [ 2.25e-03  1.65e-03]\n",
      " [ 5.97e-02  6.04e-02]\n",
      " [ 8.18e-02  7.97e-02]\n",
      " [ 3.29e-02  3.31e-02]\n",
      " [ 2.16e-02  2.21e-02]\n",
      " [ 1.70e-02  1.74e-02]\n",
      " [ 5.68e-02  5.73e-02]\n",
      " [ 7.24e-03  7.73e-03]\n",
      " [ 5.86e-02  5.87e-02]\n",
      " [ 4.92e-02  4.94e-02]\n",
      " [ 1.14e-02  1.25e-02]\n",
      " [ 7.48e-03  8.00e-03]\n",
      " [ 1.74e-02  1.88e-02]\n",
      " [ 4.73e-02  4.70e-02]\n",
      " [ 5.76e-02  5.76e-02]\n",
      " [ 3.07e-02  3.00e-02]\n",
      " [ 3.75e-02  3.72e-02]\n",
      " [ 1.57e-02  1.68e-02]\n",
      " [ 1.68e-02  1.73e-02]\n",
      " [ 2.32e-02  2.30e-02]\n",
      " [ 1.61e-02  1.59e-02]\n",
      " [ 3.30e-02  3.29e-02]\n",
      " [ 3.76e-02  3.78e-02]\n",
      " [ 5.14e-03  4.60e-03]\n",
      " [ 2.37e-03  1.70e-03]\n",
      " [-9.13e-05  2.70e-04]\n",
      " [ 6.84e-02  6.90e-02]\n",
      " [ 7.15e-03  7.63e-03]\n",
      " [ 6.81e-02  6.91e-02]\n",
      " [ 6.17e-02  6.20e-02]\n",
      " [ 6.08e-02  6.12e-02]\n",
      " [ 1.03e-02  1.20e-02]\n",
      " [ 3.33e-02  3.31e-02]\n",
      " [ 2.49e-03  1.75e-03]\n",
      " [ 7.78e-03  8.41e-03]\n",
      " [ 6.44e-02  6.45e-02]\n",
      " [-4.52e-04  2.60e-04]\n",
      " [ 4.42e-02  4.41e-02]\n",
      " [ 5.54e-02  5.55e-02]\n",
      " [ 7.55e-02  7.54e-02]\n",
      " [ 5.91e-02  5.91e-02]\n",
      " [-9.93e-04  2.40e-04]\n",
      " [ 5.12e-02  5.10e-02]\n",
      " [ 4.12e-02  4.06e-02]\n",
      " [ 7.63e-02  7.65e-02]\n",
      " [ 5.63e-02  5.63e-02]\n",
      " [ 6.56e-02  6.64e-02]\n",
      " [ 7.42e-02  7.49e-02]\n",
      " [ 7.30e-03  7.79e-03]\n",
      " [ 7.43e-02  7.42e-02]\n",
      " [ 6.79e-02  6.84e-02]\n",
      " [ 3.55e-02  3.48e-02]\n",
      " [ 4.03e-02  3.98e-02]\n",
      " [ 1.47e-02  1.45e-02]\n",
      " [ 2.21e-02  2.23e-02]\n",
      " [ 6.80e-02  6.85e-02]\n",
      " [ 6.60e-02  6.59e-02]\n",
      " [ 5.20e-03  4.66e-03]\n",
      " [ 5.44e-03  4.97e-03]\n",
      " [ 3.73e-02  3.69e-02]]\n"
     ]
    }
   ],
   "source": [
    "#X_test=np.asarray(X_test).astype(np.int)\n",
    "\n",
    "#y_test=np.asarray(y_test).astype(np.int)\n",
    "\n",
    "y_pred = ann.predict(X_test)\n",
    "np.set_printoptions(precision=2)\n",
    "print(np.concatenate((y_pred.reshape(len(y_pred),1), y_test.reshape(len(y_test),1)),1))"
   ]
  },
  {
   "cell_type": "code",
   "execution_count": 26,
   "metadata": {},
   "outputs": [
    {
     "data": {
      "text/plain": [
       "Text(0, 0.5, 'Predicted data')"
      ]
     },
     "execution_count": 26,
     "metadata": {},
     "output_type": "execute_result"
    },
    {
     "data": {
      "image/png": "[encoded data removed]",
      "text/plain": [
       "<Figure size 432x288 with 1 Axes>"
      ]
     },
     "metadata": {
      "needs_background": "light"
     },
     "output_type": "display_data"
    }
   ],
   "source": [
    "import matplotlib.pyplot as plt\n",
    "plt.scatter(y_test, y_pred, color=\"blue\")\n",
    "plt.plot ([0,0.085],[0,0.085], color = \"red\")\n",
    "plt.axis ([0,0.085,0,0.085])\n",
    "plt.xlabel ('Actual data')\n",
    "plt.ylabel ('Predicted data')"
   ]
  },
  {
   "cell_type": "code",
   "execution_count": 28,
   "metadata": {},
   "outputs": [
    {
     "data": {
      "image/png": "[encoded data removed]",
      "text/plain": [
       "<Figure size 648x648 with 1 Axes>"
      ]
     },
     "metadata": {
      "needs_background": "light"
     },
     "output_type": "display_data"
    }
   ],
   "source": [
    "from sklearn.metrics import r2_score\n",
    "# Initialize layout\n",
    "fig1, ax1 = plt.subplots(figsize = (9, 9))\n",
    "\n",
    "\n",
    "#y = y_pred         # Model on prvious line is called here\n",
    "#x = y_test\n",
    "\n",
    "\n",
    "\n",
    "# Add scatterplot\n",
    "ax1.scatter(y_test, y_pred, s=70, alpha=1, edgecolors=\"k\",c='mediumblue',zorder=5, label = 'Points')\n",
    "\n",
    "\n",
    "plt.ylabel('Predicted Peak Incident Pressure (kPa)',fontsize = 25)\n",
    "plt.xlabel('Actual Peak Incident Pressure (kPa)',fontsize = 25)\n",
    "plt.xticks(fontsize = 19)\n",
    "plt.yticks(fontsize = 19)\n",
    "\n",
    "\n",
    "x1 = np.linspace(0,0.085)\n",
    "\n",
    "plt.plot(x1, x1, 'Red', label='45\\N{DEGREE SIGN} line',lw=2.5,alpha=1)\n",
    "plt.plot(x1, 1.1*x1, '--m', label='\\u00B110% Error',lw=2.5,alpha=0.7)\n",
    "plt.plot(x1, 0.9*x1,'m', linestyle='--',lw=2.5,alpha=0.7)\n",
    "plt.plot(x1, 1.2*x1, '-.g', label='\\u00B120% Error',lw=2.5,alpha=0.7)\n",
    "plt.plot(x1, 0.8*x1,'-.g',lw=2.5,alpha=0.7)\n",
    "\n",
    "plt.ylim(0, 0.085)\n",
    "plt.xlim(0, 0.085)\n",
    "plt.legend(loc='upper left',fontsize = 25)\n",
    "\n",
    "plt.grid()\n",
    "\n",
    "ax1.spines['left'].set_color('black')        # setting up Y-axis tick color to red\n",
    "ax1.spines['bottom'].set_color('black')         #setting up above X-axis tick color to red\n",
    "\n",
    "\n",
    "\n",
    "#ax1.annotate(\"$R^2$ = {:.3f}\".format(r2), (2500, 1000),fontsize = 25)  #Model is called here\n",
    "#ax1.annotate(\"Adj.$R^2$ = {:.3f}\".format(adj_r2), (2500, 750),fontsize = 25)\n",
    "\n",
    "#plt.savefig('plot1.png', dpi = 600, bbox_inches = 'tight')"
   ]
  },
  {
   "cell_type": "code",
   "execution_count": 29,
   "metadata": {},
   "outputs": [
    {
     "name": "stdout",
     "output_type": "stream",
     "text": [
      "13/13 [==============================] - 0s 1ms/step\n",
      "0.0005062688529456562\n",
      "0.0006212811871579416\n"
     ]
    }
   ],
   "source": [
    "# metrics\n",
    "\n",
    "\n",
    "trainpreds = ann.predict(X_train)\n",
    "\n",
    "from sklearn.metrics import mean_absolute_error\n",
    "print(mean_absolute_error(y_train, trainpreds)) # train\n",
    "print(mean_absolute_error(y_test, y_pred)) # test"
   ]
  },
  {
   "cell_type": "code",
   "execution_count": 30,
   "metadata": {},
   "outputs": [
    {
     "name": "stdout",
     "output_type": "stream",
     "text": [
      "0.9988442123989006\n"
     ]
    }
   ],
   "source": [
    "from sklearn.metrics import r2_score\n",
    "r2 = r2_score(y_test, y_pred)\n",
    "print (r2)"
   ]
  },
  {
   "cell_type": "code",
   "execution_count": 31,
   "metadata": {},
   "outputs": [
    {
     "name": "stdout",
     "output_type": "stream",
     "text": [
      "0.9990413539029163\n"
     ]
    }
   ],
   "source": [
    "r2_train = r2_score(y_train, trainpreds)\n",
    "print (r2_train)"
   ]
  },
  {
   "cell_type": "code",
   "execution_count": 32,
   "metadata": {},
   "outputs": [
    {
     "name": "stdout",
     "output_type": "stream",
     "text": [
      "Within 10% margin 82.76%\n",
      "Within 20% margin 86.21%\n",
      "Out of 20% margin 13.79%\n"
     ]
    }
   ],
   "source": [
    "count1 = 0\n",
    "for i in range(len(y_pred)):\n",
    "    line1 = y_pred[i] - 0.9*y_test[i]\n",
    "    line2 = y_pred[i] - 1.1*y_test[i]\n",
    "    #print ('line 1 ', line1)\n",
    "    #print ('line 2 ', line2)\n",
    "    mask1 = (line1 > 0) & (line2 < 0)\n",
    "    #print (mask)\n",
    "    count1 = np.sum(mask1+count1)\n",
    "    #print (count)\n",
    "\n",
    "count2 = 0\n",
    "for j in range(len(y_pred)):\n",
    "    line3 = y_pred[j] - 0.8*y_test[j]\n",
    "    line4 = y_pred[j] - 1.2*y_test[j]\n",
    "    mask2 = (line3 > 0) & (line4 < 0)\n",
    "    count2 = np.sum(mask2+count2)\n",
    "\n",
    "\n",
    "count3 = 0    \n",
    "for k in range(len(y_pred)):\n",
    "    line5 = y_pred[k] - 0.8*y_test[k]\n",
    "    line6 = y_pred[k] - 1.2*y_test[k]\n",
    "    mask3 = (line5 < 0) or (line6 > 0)\n",
    "    count3 = np.sum(mask3+count3)\n",
    "   \n",
    "\n",
    "print ('Within 10% margin', format((count1/len (y_pred)),'.2%'))\n",
    "print ('Within 20% margin', format((count2/len (y_pred)),'.2%'))\n",
    "print ('Out of 20% margin', format((count3/len (y_pred)),'.2%'))"
   ]
  },
  {
   "cell_type": "code",
   "execution_count": 33,
   "metadata": {},
   "outputs": [
    {
     "name": "stdout",
     "output_type": "stream",
     "text": [
      "0.9988166936464935\n"
     ]
    }
   ],
   "source": [
    "adj_r2 = 1 - ((1 - r2) * (len(X_test) - 1) / (len(X_test) - len (X_test[0]) - 1))\n",
    "print (adj_r2)"
   ]
  },
  {
   "cell_type": "code",
   "execution_count": 34,
   "metadata": {},
   "outputs": [
    {
     "data": {
      "text/plain": [
       "0.0008725407181553067"
      ]
     },
     "execution_count": 34,
     "metadata": {},
     "output_type": "execute_result"
    }
   ],
   "source": [
    "import math\n",
    "from sklearn.metrics import mean_squared_error\n",
    "\n",
    "math.sqrt(mean_squared_error(y_test, y_pred))"
   ]
  },
  {
   "cell_type": "code",
   "execution_count": 35,
   "metadata": {},
   "outputs": [
    {
     "data": {
      "text/plain": [
       "0.0006212811871579416"
      ]
     },
     "execution_count": 35,
     "metadata": {},
     "output_type": "execute_result"
    }
   ],
   "source": [
    "from sklearn.metrics import mean_absolute_error\n",
    "\n",
    "mean_absolute_error(y_test, y_pred)"
   ]
  },
  {
   "cell_type": "code",
   "execution_count": 31,
   "metadata": {},
   "outputs": [
    {
     "ename": "ModuleNotFoundError",
     "evalue": "No module named 'ann_visualizer'",
     "output_type": "error",
     "traceback": [
      "\u001b[1;31m---------------------------------------------------------------------------\u001b[0m",
      "\u001b[1;31mModuleNotFoundError\u001b[0m                       Traceback (most recent call last)",
      "\u001b[1;32m~\\AppData\\Local\\Temp\\ipykernel_2412\\3367597011.py\u001b[0m in \u001b[0;36m<module>\u001b[1;34m\u001b[0m\n\u001b[1;32m----> 1\u001b[1;33m \u001b[1;32mfrom\u001b[0m \u001b[0mann_visualizer\u001b[0m\u001b[1;33m.\u001b[0m\u001b[0mvisualize\u001b[0m \u001b[1;32mimport\u001b[0m \u001b[0mann_viz\u001b[0m\u001b[1;33m;\u001b[0m\u001b[1;33m\u001b[0m\u001b[1;33m\u001b[0m\u001b[0m\n\u001b[0m\u001b[0;32m      2\u001b[0m \u001b[1;33m\u001b[0m\u001b[0m\n\u001b[0;32m      3\u001b[0m \u001b[0mann_viz\u001b[0m\u001b[1;33m(\u001b[0m\u001b[0mmodel\u001b[0m\u001b[1;33m,\u001b[0m \u001b[0mtitle\u001b[0m\u001b[1;33m=\u001b[0m\u001b[1;34m\"My first neural network\"\u001b[0m\u001b[1;33m)\u001b[0m\u001b[1;33m\u001b[0m\u001b[1;33m\u001b[0m\u001b[0m\n",
      "\u001b[1;31mModuleNotFoundError\u001b[0m: No module named 'ann_visualizer'"
     ]
    }
   ],
   "source": [
    "from ann_visualizer.visualize import ann_viz;\n",
    "\n",
    "ann_viz(model, title=\"My first neural network\")"
   ]
  }
 ],
 "metadata": {
  "colab": {
   "collapsed_sections": [],
   "name": "Artificial Neural Network",
   "provenance": [],
   "toc_visible": true
  },
  "kernelspec": {
   "display_name": "Python 3 (ipykernel)",
   "language": "python",
   "name": "python3"
  },
  "language_info": {
   "codemirror_mode": {
    "name": "ipython",
    "version": 3
   },
   "file_extension": ".py",
   "mimetype": "text/x-python",
   "name": "python",
   "nbconvert_exporter": "python",
   "pygments_lexer": "ipython3",
   "version": "3.9.7"
  }
 },
 "nbformat": 4,
 "nbformat_minor": 4
}
