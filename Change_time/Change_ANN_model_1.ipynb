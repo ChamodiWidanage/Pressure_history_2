{
 "cells": [
  {
   "cell_type": "markdown",
   "source": [
    "# Part 1 - Data Preprocessing"
   ],
   "metadata": {
    "collapsed": false
   }
  },
  {
   "cell_type": "markdown",
   "source": [
    "### Importing the libraries"
   ],
   "metadata": {
    "collapsed": false
   }
  },
  {
   "cell_type": "code",
   "execution_count": 1,
   "metadata": {
    "colab": {},
    "colab_type": "code",
    "id": "lxChR1Rk-umf",
    "ExecuteTime": {
     "end_time": "2023-08-29T14:14:32.826507800Z",
     "start_time": "2023-08-29T14:14:28.331459Z"
    }
   },
   "outputs": [],
   "source": [
    "import numpy as np\n",
    "import pandas as pd\n",
    "import tensorflow as tf\n",
    "import matplotlib.pyplot as plt\n",
    "from keras.models import load_model"
   ]
  },
  {
   "cell_type": "markdown",
   "metadata": {
    "colab_type": "text",
    "id": "-4zq8Mza_D9O"
   },
   "source": [
    "### Importing the dataset"
   ]
  },
  {
   "cell_type": "code",
   "execution_count": 2,
   "metadata": {
    "colab": {},
    "colab_type": "code",
    "id": "B9CV13Co_HHM",
    "ExecuteTime": {
     "end_time": "2023-08-29T14:14:38.072135100Z",
     "start_time": "2023-08-29T14:14:37.380601100Z"
    }
   },
   "outputs": [
    {
     "name": "stdout",
     "output_type": "stream",
     "text": [
      "<class 'pandas.core.frame.DataFrame'>\n",
      "RangeIndex: 576 entries, 0 to 575\n",
      "Data columns (total 4 columns):\n",
      " #   Column             Non-Null Count  Dtype  \n",
      "---  ------             --------------  -----  \n",
      " 0   Charge_mass        576 non-null    float64\n",
      " 1   Standoff_distance  576 non-null    int64  \n",
      " 2   Change_time        576 non-null    float64\n",
      " 3   Change_index       576 non-null    int64  \n",
      "dtypes: float64(2), int64(2)\n",
      "memory usage: 18.1 KB\n"
     ]
    }
   ],
   "source": [
    "dataset = pd.read_excel('Change_time.xlsx')\n",
    "dataset.info()"
   ]
  },
  {
   "cell_type": "code",
   "execution_count": 3,
   "metadata": {
    "ExecuteTime": {
     "end_time": "2023-08-29T14:14:42.782661700Z",
     "start_time": "2023-08-29T14:14:42.721103800Z"
    }
   },
   "outputs": [
    {
     "name": "stdout",
     "output_type": "stream",
     "text": [
      "(576, 2) (576,)\n"
     ]
    }
   ],
   "source": [
    "y = dataset['Change_time']\n",
    "X = dataset.drop(['Change_time','Change_index'], axis=1)\n",
    "print(X.shape, y.shape)"
   ]
  },
  {
   "cell_type": "code",
   "execution_count": 4,
   "metadata": {
    "ExecuteTime": {
     "end_time": "2023-08-29T14:14:44.967110900Z",
     "start_time": "2023-08-29T14:14:44.922618400Z"
    }
   },
   "outputs": [],
   "source": [
    "# convert to numpy array\n",
    "X = np.array(X)\n",
    "y = np.array(y)"
   ]
  },
  {
   "cell_type": "markdown",
   "metadata": {
    "colab_type": "text",
    "id": "VC6omXel_Up0"
   },
   "source": [
    "### Splitting the dataset into the Training set and Test set"
   ]
  },
  {
   "cell_type": "code",
   "execution_count": 5,
   "metadata": {
    "colab": {},
    "colab_type": "code",
    "id": "L5edeb2r_agx",
    "ExecuteTime": {
     "end_time": "2023-08-29T14:14:48.406667100Z",
     "start_time": "2023-08-29T14:14:47.828382200Z"
    }
   },
   "outputs": [],
   "source": [
    "from sklearn.model_selection import train_test_split\n",
    "X_train, X_test, y_train, y_test = train_test_split(X,\n",
    "                                                    y,\n",
    "                                                    test_size = 0.3,\n",
    "                                                    random_state = 0)"
   ]
  },
  {
   "cell_type": "code",
   "execution_count": 6,
   "metadata": {
    "colab": {},
    "colab_type": "code",
    "id": "L5edeb2r_agx",
    "ExecuteTime": {
     "end_time": "2023-08-29T14:14:49.769938500Z",
     "start_time": "2023-08-29T14:14:49.730132600Z"
    }
   },
   "outputs": [],
   "source": [
    "X_val, X_test, y_val, y_test = train_test_split(X_test,\n",
    "                                                y_test,\n",
    "                                                test_size = 0.5,\n",
    "                                                random_state = 0)"
   ]
  },
  {
   "cell_type": "markdown",
   "metadata": {
    "colab_type": "text",
    "id": "_mSLlAT9_eyI"
   },
   "source": [
    "# Part 2 - Building the ANN"
   ]
  },
  {
   "cell_type": "markdown",
   "metadata": {
    "colab_type": "text",
    "id": "CsBULd_f_wLY"
   },
   "source": [
    "### Initializing the ANN"
   ]
  },
  {
   "cell_type": "code",
   "execution_count": 7,
   "metadata": {
    "colab": {},
    "colab_type": "code",
    "id": "J6Hd97Ls__Nz",
    "ExecuteTime": {
     "end_time": "2023-08-29T14:14:52.398996Z",
     "start_time": "2023-08-29T14:14:52.344339400Z"
    }
   },
   "outputs": [],
   "source": [
    "ann = tf.keras.models.Sequential()"
   ]
  },
  {
   "cell_type": "markdown",
   "metadata": {
    "colab_type": "text",
    "id": "iitAFJS_ABUn"
   },
   "source": [
    "### Adding the input layer and the first hidden layer"
   ]
  },
  {
   "cell_type": "code",
   "execution_count": 8,
   "metadata": {
    "colab": {},
    "colab_type": "code",
    "id": "ksO_Vv40AHix",
    "ExecuteTime": {
     "end_time": "2023-08-29T14:14:54.017363100Z",
     "start_time": "2023-08-29T14:14:53.959380400Z"
    }
   },
   "outputs": [],
   "source": [
    "ann.add(tf.keras.layers.Dense(units=8,\n",
    "                              input_shape=(X_train.shape[1],),\n",
    "                              activation='softplus'))"
   ]
  },
  {
   "cell_type": "markdown",
   "metadata": {
    "colab_type": "text",
    "id": "-lb4kK_wAKbs"
   },
   "source": [
    "### Adding the second hidden layer"
   ]
  },
  {
   "cell_type": "code",
   "execution_count": 9,
   "metadata": {
    "colab": {},
    "colab_type": "code",
    "id": "c2357OqEAQOQ",
    "tags": [],
    "ExecuteTime": {
     "end_time": "2023-08-29T14:14:55.792928400Z",
     "start_time": "2023-08-29T14:14:55.706231400Z"
    }
   },
   "outputs": [],
   "source": [
    "ann.add(tf.keras.layers.Dense(units=7,\n",
    "                              activation='softplus'))"
   ]
  },
  {
   "cell_type": "markdown",
   "metadata": {
    "colab_type": "text",
    "id": "-lb4kK_wAKbs"
   },
   "source": [
    "### Adding the third hidden layer"
   ]
  },
  {
   "cell_type": "code",
   "execution_count": 10,
   "metadata": {
    "colab": {},
    "colab_type": "code",
    "id": "c2357OqEAQOQ",
    "tags": [],
    "ExecuteTime": {
     "end_time": "2023-08-29T14:14:57.348512200Z",
     "start_time": "2023-08-29T14:14:57.303095400Z"
    }
   },
   "outputs": [],
   "source": [
    "ann.add(tf.keras.layers.Dense(units=5,\n",
    "                              activation='softplus'))"
   ]
  },
  {
   "cell_type": "markdown",
   "metadata": {
    "colab_type": "text",
    "id": "jwMOmKb3AdBY"
   },
   "source": [
    "### Adding the output layer"
   ]
  },
  {
   "cell_type": "code",
   "execution_count": 11,
   "metadata": {
    "colab": {},
    "colab_type": "code",
    "id": "YFATpzsUAkLL",
    "ExecuteTime": {
     "end_time": "2023-08-29T14:14:58.892885300Z",
     "start_time": "2023-08-29T14:14:58.848298700Z"
    }
   },
   "outputs": [],
   "source": [
    "ann.add(tf.keras.layers.Dense(units=1,\n",
    "                              activation='linear'))"
   ]
  },
  {
   "cell_type": "markdown",
   "metadata": {},
   "source": [
    "### what model looks like"
   ]
  },
  {
   "cell_type": "code",
   "execution_count": 12,
   "metadata": {
    "ExecuteTime": {
     "end_time": "2023-08-29T14:15:02.500496600Z",
     "start_time": "2023-08-29T14:15:02.388194Z"
    }
   },
   "outputs": [
    {
     "name": "stdout",
     "output_type": "stream",
     "text": [
      "Model: \"sequential\"\n",
      "_________________________________________________________________\n",
      " Layer (type)                Output Shape              Param #   \n",
      "=================================================================\n",
      " dense (Dense)               (None, 8)                 24        \n",
      "                                                                 \n",
      " dense_1 (Dense)             (None, 7)                 63        \n",
      "                                                                 \n",
      " dense_2 (Dense)             (None, 5)                 40        \n",
      "                                                                 \n",
      " dense_3 (Dense)             (None, 1)                 6         \n",
      "                                                                 \n",
      "=================================================================\n",
      "Total params: 133\n",
      "Trainable params: 133\n",
      "Non-trainable params: 0\n",
      "_________________________________________________________________\n"
     ]
    }
   ],
   "source": [
    "ann.summary()"
   ]
  },
  {
   "cell_type": "markdown",
   "metadata": {
    "colab_type": "text",
    "id": "fq7e4fF6A1yy"
   },
   "source": [
    "# Part 3 - Training the ANN"
   ]
  },
  {
   "cell_type": "markdown",
   "metadata": {
    "colab_type": "text",
    "id": "qDeylAs2An25"
   },
   "source": [
    "### Compiling the ANN"
   ]
  },
  {
   "cell_type": "code",
   "execution_count": 13,
   "metadata": {
    "colab": {},
    "colab_type": "code",
    "id": "pesgbWlCAtB4",
    "ExecuteTime": {
     "end_time": "2023-08-29T14:15:09.286705200Z",
     "start_time": "2023-08-29T14:15:09.226966900Z"
    }
   },
   "outputs": [],
   "source": [
    "from tensorflow.keras.optimizers import Adam\n",
    "opt = Adam(learning_rate=0.01)\n",
    "ann.compile(optimizer = opt,\n",
    "            loss = 'mean_squared_error',\n",
    "            metrics = ['mae'])"
   ]
  },
  {
   "cell_type": "markdown",
   "metadata": {},
   "source": [
    "### early stopping callback"
   ]
  },
  {
   "cell_type": "code",
   "execution_count": 14,
   "metadata": {
    "ExecuteTime": {
     "end_time": "2023-08-29T14:15:11.314471900Z",
     "start_time": "2023-08-29T14:15:11.255816200Z"
    }
   },
   "outputs": [],
   "source": [
    "# protects from unnecessary further training of the model if a particular metric does not continue to improve over a number of n epochs. In such a case, the model training would be automatically aborted.\n",
    "from keras.callbacks import EarlyStopping\n",
    "es = EarlyStopping(monitor='val_loss',\n",
    "                   mode='min',\n",
    "                   patience=50,\n",
    "                   restore_best_weights = True)"
   ]
  },
  {
   "cell_type": "markdown",
   "metadata": {
    "colab_type": "text",
    "id": "YjVuiybYOo7r"
   },
   "source": [
    "### Training the ANN model on the Training set"
   ]
  },
  {
   "cell_type": "code",
   "execution_count": 15,
   "metadata": {
    "colab": {
     "base_uri": "https://localhost:8080/",
     "height": 1000
    },
    "colab_type": "code",
    "id": "c_vV-tiiA5zn",
    "outputId": "4a2b6ee6-ed75-4698-9069-b250e613803f",
    "ExecuteTime": {
     "end_time": "2023-08-29T14:15:38.421285800Z",
     "start_time": "2023-08-29T14:15:13.584968900Z"
    }
   },
   "outputs": [
    {
     "name": "stdout",
     "output_type": "stream",
     "text": [
      "Epoch 1/500\n",
      "11/11 [==============================] - 1s 26ms/step - loss: 2.7676 - mae: 1.2087 - val_loss: 0.0302 - val_mae: 0.1264\n",
      "Epoch 2/500\n",
      "11/11 [==============================] - 0s 5ms/step - loss: 0.0101 - mae: 0.0709 - val_loss: 0.0026 - val_mae: 0.0460\n",
      "Epoch 3/500\n",
      "11/11 [==============================] - 0s 4ms/step - loss: 0.0040 - mae: 0.0577 - val_loss: 0.0048 - val_mae: 0.0650\n",
      "Epoch 4/500\n",
      "11/11 [==============================] - 0s 4ms/step - loss: 0.0053 - mae: 0.0681 - val_loss: 0.0048 - val_mae: 0.0654\n",
      "Epoch 5/500\n",
      "11/11 [==============================] - 0s 4ms/step - loss: 0.0048 - mae: 0.0650 - val_loss: 0.0039 - val_mae: 0.0583\n",
      "Epoch 6/500\n",
      "11/11 [==============================] - 0s 4ms/step - loss: 0.0038 - mae: 0.0573 - val_loss: 0.0029 - val_mae: 0.0495\n",
      "Epoch 7/500\n",
      "11/11 [==============================] - 0s 4ms/step - loss: 0.0029 - mae: 0.0489 - val_loss: 0.0021 - val_mae: 0.0411\n",
      "Epoch 8/500\n",
      "11/11 [==============================] - 0s 5ms/step - loss: 0.0022 - mae: 0.0416 - val_loss: 0.0015 - val_mae: 0.0342\n",
      "Epoch 9/500\n",
      "11/11 [==============================] - 0s 5ms/step - loss: 0.0017 - mae: 0.0357 - val_loss: 0.0011 - val_mae: 0.0290\n",
      "Epoch 10/500\n",
      "11/11 [==============================] - 0s 4ms/step - loss: 0.0014 - mae: 0.0311 - val_loss: 8.6920e-04 - val_mae: 0.0252\n",
      "Epoch 11/500\n",
      "11/11 [==============================] - 0s 4ms/step - loss: 0.0011 - mae: 0.0277 - val_loss: 7.0486e-04 - val_mae: 0.0221\n",
      "Epoch 12/500\n",
      "11/11 [==============================] - 0s 4ms/step - loss: 9.3117e-04 - mae: 0.0248 - val_loss: 5.8420e-04 - val_mae: 0.0199\n",
      "Epoch 13/500\n",
      "11/11 [==============================] - 0s 4ms/step - loss: 7.2199e-04 - mae: 0.0223 - val_loss: 4.6643e-04 - val_mae: 0.0179\n",
      "Epoch 14/500\n",
      "11/11 [==============================] - 0s 4ms/step - loss: 5.5113e-04 - mae: 0.0197 - val_loss: 4.0204e-04 - val_mae: 0.0166\n",
      "Epoch 15/500\n",
      "11/11 [==============================] - 0s 4ms/step - loss: 4.5972e-04 - mae: 0.0182 - val_loss: 3.4934e-04 - val_mae: 0.0154\n",
      "Epoch 16/500\n",
      "11/11 [==============================] - 0s 4ms/step - loss: 4.0488e-04 - mae: 0.0169 - val_loss: 3.2315e-04 - val_mae: 0.0150\n",
      "Epoch 17/500\n",
      "11/11 [==============================] - 0s 5ms/step - loss: 3.7153e-04 - mae: 0.0164 - val_loss: 3.0368e-04 - val_mae: 0.0145\n",
      "Epoch 18/500\n",
      "11/11 [==============================] - 0s 4ms/step - loss: 3.4760e-04 - mae: 0.0159 - val_loss: 2.9054e-04 - val_mae: 0.0142\n",
      "Epoch 19/500\n",
      "11/11 [==============================] - 0s 4ms/step - loss: 3.2780e-04 - mae: 0.0155 - val_loss: 2.8054e-04 - val_mae: 0.0140\n",
      "Epoch 20/500\n",
      "11/11 [==============================] - 0s 5ms/step - loss: 3.1158e-04 - mae: 0.0151 - val_loss: 2.7337e-04 - val_mae: 0.0139\n",
      "Epoch 21/500\n",
      "11/11 [==============================] - 0s 5ms/step - loss: 2.9798e-04 - mae: 0.0149 - val_loss: 2.6258e-04 - val_mae: 0.0137\n",
      "Epoch 22/500\n",
      "11/11 [==============================] - 0s 4ms/step - loss: 2.7827e-04 - mae: 0.0144 - val_loss: 2.6079e-04 - val_mae: 0.0137\n",
      "Epoch 23/500\n",
      "11/11 [==============================] - 0s 5ms/step - loss: 2.6026e-04 - mae: 0.0140 - val_loss: 2.4891e-04 - val_mae: 0.0133\n",
      "Epoch 24/500\n",
      "11/11 [==============================] - 0s 5ms/step - loss: 2.4450e-04 - mae: 0.0136 - val_loss: 2.4120e-04 - val_mae: 0.0131\n",
      "Epoch 25/500\n",
      "11/11 [==============================] - 0s 4ms/step - loss: 2.2970e-04 - mae: 0.0131 - val_loss: 2.2897e-04 - val_mae: 0.0128\n",
      "Epoch 26/500\n",
      "11/11 [==============================] - 0s 4ms/step - loss: 2.2577e-04 - mae: 0.0131 - val_loss: 2.2324e-04 - val_mae: 0.0126\n",
      "Epoch 27/500\n",
      "11/11 [==============================] - 0s 4ms/step - loss: 2.1278e-04 - mae: 0.0125 - val_loss: 2.2607e-04 - val_mae: 0.0127\n",
      "Epoch 28/500\n",
      "11/11 [==============================] - 0s 4ms/step - loss: 2.0701e-04 - mae: 0.0123 - val_loss: 2.1375e-04 - val_mae: 0.0123\n",
      "Epoch 29/500\n",
      "11/11 [==============================] - 0s 4ms/step - loss: 2.0187e-04 - mae: 0.0122 - val_loss: 2.1734e-04 - val_mae: 0.0125\n",
      "Epoch 30/500\n",
      "11/11 [==============================] - 0s 4ms/step - loss: 1.9923e-04 - mae: 0.0120 - val_loss: 2.1406e-04 - val_mae: 0.0124\n",
      "Epoch 31/500\n",
      "11/11 [==============================] - 0s 4ms/step - loss: 1.9613e-04 - mae: 0.0119 - val_loss: 2.0776e-04 - val_mae: 0.0122\n",
      "Epoch 32/500\n",
      "11/11 [==============================] - 0s 4ms/step - loss: 1.9202e-04 - mae: 0.0118 - val_loss: 2.0903e-04 - val_mae: 0.0122\n",
      "Epoch 33/500\n",
      "11/11 [==============================] - 0s 4ms/step - loss: 1.8918e-04 - mae: 0.0116 - val_loss: 2.0229e-04 - val_mae: 0.0120\n",
      "Epoch 34/500\n",
      "11/11 [==============================] - 0s 4ms/step - loss: 1.8737e-04 - mae: 0.0116 - val_loss: 2.0007e-04 - val_mae: 0.0119\n",
      "Epoch 35/500\n",
      "11/11 [==============================] - 0s 4ms/step - loss: 1.8368e-04 - mae: 0.0115 - val_loss: 2.0157e-04 - val_mae: 0.0119\n",
      "Epoch 36/500\n",
      "11/11 [==============================] - 0s 4ms/step - loss: 1.8077e-04 - mae: 0.0113 - val_loss: 1.9754e-04 - val_mae: 0.0118\n",
      "Epoch 37/500\n",
      "11/11 [==============================] - 0s 4ms/step - loss: 1.8025e-04 - mae: 0.0113 - val_loss: 1.9692e-04 - val_mae: 0.0117\n",
      "Epoch 38/500\n",
      "11/11 [==============================] - 0s 5ms/step - loss: 1.7779e-04 - mae: 0.0112 - val_loss: 1.9552e-04 - val_mae: 0.0117\n",
      "Epoch 39/500\n",
      "11/11 [==============================] - 0s 4ms/step - loss: 1.7453e-04 - mae: 0.0111 - val_loss: 1.9413e-04 - val_mae: 0.0116\n",
      "Epoch 40/500\n",
      "11/11 [==============================] - 0s 4ms/step - loss: 1.7197e-04 - mae: 0.0109 - val_loss: 1.9141e-04 - val_mae: 0.0115\n",
      "Epoch 41/500\n",
      "11/11 [==============================] - 0s 4ms/step - loss: 1.7028e-04 - mae: 0.0109 - val_loss: 1.8935e-04 - val_mae: 0.0115\n",
      "Epoch 42/500\n",
      "11/11 [==============================] - 0s 5ms/step - loss: 1.6787e-04 - mae: 0.0108 - val_loss: 1.8871e-04 - val_mae: 0.0114\n",
      "Epoch 43/500\n",
      "11/11 [==============================] - 0s 4ms/step - loss: 1.6595e-04 - mae: 0.0107 - val_loss: 1.8583e-04 - val_mae: 0.0113\n",
      "Epoch 44/500\n",
      "11/11 [==============================] - 0s 5ms/step - loss: 1.6379e-04 - mae: 0.0106 - val_loss: 1.8460e-04 - val_mae: 0.0113\n",
      "Epoch 45/500\n",
      "11/11 [==============================] - 0s 4ms/step - loss: 1.6201e-04 - mae: 0.0105 - val_loss: 1.8338e-04 - val_mae: 0.0112\n",
      "Epoch 46/500\n",
      "11/11 [==============================] - 0s 5ms/step - loss: 1.6026e-04 - mae: 0.0105 - val_loss: 1.8277e-04 - val_mae: 0.0112\n",
      "Epoch 47/500\n",
      "11/11 [==============================] - 0s 5ms/step - loss: 1.6038e-04 - mae: 0.0105 - val_loss: 1.8103e-04 - val_mae: 0.0111\n",
      "Epoch 48/500\n",
      "11/11 [==============================] - 0s 5ms/step - loss: 1.5963e-04 - mae: 0.0104 - val_loss: 1.7992e-04 - val_mae: 0.0111\n",
      "Epoch 49/500\n",
      "11/11 [==============================] - 0s 5ms/step - loss: 1.5647e-04 - mae: 0.0103 - val_loss: 1.7819e-04 - val_mae: 0.0112\n",
      "Epoch 50/500\n",
      "11/11 [==============================] - 0s 4ms/step - loss: 1.5646e-04 - mae: 0.0103 - val_loss: 1.7623e-04 - val_mae: 0.0111\n",
      "Epoch 51/500\n",
      "11/11 [==============================] - 0s 4ms/step - loss: 1.5437e-04 - mae: 0.0103 - val_loss: 1.7602e-04 - val_mae: 0.0110\n",
      "Epoch 52/500\n",
      "11/11 [==============================] - 0s 4ms/step - loss: 1.5209e-04 - mae: 0.0101 - val_loss: 1.7388e-04 - val_mae: 0.0109\n",
      "Epoch 53/500\n",
      "11/11 [==============================] - 0s 4ms/step - loss: 1.4999e-04 - mae: 0.0100 - val_loss: 1.7090e-04 - val_mae: 0.0107\n",
      "Epoch 54/500\n",
      "11/11 [==============================] - 0s 4ms/step - loss: 1.4860e-04 - mae: 0.0100 - val_loss: 1.6800e-04 - val_mae: 0.0107\n",
      "Epoch 55/500\n",
      "11/11 [==============================] - 0s 4ms/step - loss: 1.4723e-04 - mae: 0.0100 - val_loss: 1.6719e-04 - val_mae: 0.0106\n",
      "Epoch 56/500\n",
      "11/11 [==============================] - 0s 4ms/step - loss: 1.4612e-04 - mae: 0.0099 - val_loss: 1.6589e-04 - val_mae: 0.0106\n",
      "Epoch 57/500\n",
      "11/11 [==============================] - 0s 4ms/step - loss: 1.4442e-04 - mae: 0.0098 - val_loss: 1.6553e-04 - val_mae: 0.0106\n",
      "Epoch 58/500\n",
      "11/11 [==============================] - 0s 4ms/step - loss: 1.4319e-04 - mae: 0.0098 - val_loss: 1.6367e-04 - val_mae: 0.0105\n",
      "Epoch 59/500\n",
      "11/11 [==============================] - 0s 5ms/step - loss: 1.4209e-04 - mae: 0.0097 - val_loss: 1.6090e-04 - val_mae: 0.0104\n",
      "Epoch 60/500\n",
      "11/11 [==============================] - 0s 5ms/step - loss: 1.4182e-04 - mae: 0.0097 - val_loss: 1.6022e-04 - val_mae: 0.0105\n",
      "Epoch 61/500\n",
      "11/11 [==============================] - 0s 4ms/step - loss: 1.4118e-04 - mae: 0.0097 - val_loss: 1.6229e-04 - val_mae: 0.0108\n",
      "Epoch 62/500\n",
      "11/11 [==============================] - 0s 4ms/step - loss: 1.4397e-04 - mae: 0.0100 - val_loss: 1.6765e-04 - val_mae: 0.0110\n",
      "Epoch 63/500\n",
      "11/11 [==============================] - 0s 4ms/step - loss: 1.4172e-04 - mae: 0.0098 - val_loss: 1.5817e-04 - val_mae: 0.0104\n",
      "Epoch 64/500\n",
      "11/11 [==============================] - 0s 5ms/step - loss: 1.3769e-04 - mae: 0.0095 - val_loss: 1.5762e-04 - val_mae: 0.0104\n",
      "Epoch 65/500\n",
      "11/11 [==============================] - 0s 4ms/step - loss: 1.3737e-04 - mae: 0.0096 - val_loss: 1.5768e-04 - val_mae: 0.0104\n",
      "Epoch 66/500\n",
      "11/11 [==============================] - 0s 5ms/step - loss: 1.3630e-04 - mae: 0.0095 - val_loss: 1.5495e-04 - val_mae: 0.0103\n",
      "Epoch 67/500\n",
      "11/11 [==============================] - 0s 4ms/step - loss: 1.3418e-04 - mae: 0.0094 - val_loss: 1.5320e-04 - val_mae: 0.0102\n",
      "Epoch 68/500\n",
      "11/11 [==============================] - 0s 4ms/step - loss: 1.3355e-04 - mae: 0.0094 - val_loss: 1.5644e-04 - val_mae: 0.0103\n",
      "Epoch 69/500\n",
      "11/11 [==============================] - 0s 4ms/step - loss: 1.3468e-04 - mae: 0.0095 - val_loss: 1.5316e-04 - val_mae: 0.0101\n",
      "Epoch 70/500\n",
      "11/11 [==============================] - 0s 4ms/step - loss: 1.3131e-04 - mae: 0.0093 - val_loss: 1.5179e-04 - val_mae: 0.0101\n",
      "Epoch 71/500\n",
      "11/11 [==============================] - 0s 4ms/step - loss: 1.3012e-04 - mae: 0.0092 - val_loss: 1.5219e-04 - val_mae: 0.0101\n",
      "Epoch 72/500\n",
      "11/11 [==============================] - 0s 4ms/step - loss: 1.2975e-04 - mae: 0.0092 - val_loss: 1.5152e-04 - val_mae: 0.0101\n",
      "Epoch 73/500\n",
      "11/11 [==============================] - 0s 4ms/step - loss: 1.2846e-04 - mae: 0.0091 - val_loss: 1.5338e-04 - val_mae: 0.0103\n",
      "Epoch 74/500\n",
      "11/11 [==============================] - 0s 4ms/step - loss: 1.2751e-04 - mae: 0.0091 - val_loss: 1.4820e-04 - val_mae: 0.0101\n",
      "Epoch 75/500\n",
      "11/11 [==============================] - 0s 4ms/step - loss: 1.2773e-04 - mae: 0.0092 - val_loss: 1.4567e-04 - val_mae: 0.0099\n",
      "Epoch 76/500\n",
      "11/11 [==============================] - 0s 4ms/step - loss: 1.2676e-04 - mae: 0.0091 - val_loss: 1.5140e-04 - val_mae: 0.0104\n",
      "Epoch 77/500\n",
      "11/11 [==============================] - 0s 4ms/step - loss: 1.2874e-04 - mae: 0.0093 - val_loss: 1.5110e-04 - val_mae: 0.0103\n",
      "Epoch 78/500\n",
      "11/11 [==============================] - 0s 4ms/step - loss: 1.3100e-04 - mae: 0.0094 - val_loss: 1.5012e-04 - val_mae: 0.0100\n",
      "Epoch 79/500\n",
      "11/11 [==============================] - 0s 4ms/step - loss: 1.2640e-04 - mae: 0.0091 - val_loss: 1.4605e-04 - val_mae: 0.0100\n",
      "Epoch 80/500\n",
      "11/11 [==============================] - 0s 5ms/step - loss: 1.2348e-04 - mae: 0.0090 - val_loss: 1.4171e-04 - val_mae: 0.0098\n",
      "Epoch 81/500\n",
      "11/11 [==============================] - 0s 4ms/step - loss: 1.2222e-04 - mae: 0.0090 - val_loss: 1.4288e-04 - val_mae: 0.0099\n",
      "Epoch 82/500\n",
      "11/11 [==============================] - 0s 5ms/step - loss: 1.2214e-04 - mae: 0.0090 - val_loss: 1.4053e-04 - val_mae: 0.0097\n",
      "Epoch 83/500\n",
      "11/11 [==============================] - 0s 4ms/step - loss: 1.1984e-04 - mae: 0.0088 - val_loss: 1.4122e-04 - val_mae: 0.0097\n",
      "Epoch 84/500\n",
      "11/11 [==============================] - 0s 4ms/step - loss: 1.1991e-04 - mae: 0.0088 - val_loss: 1.4167e-04 - val_mae: 0.0096\n",
      "Epoch 85/500\n",
      "11/11 [==============================] - 0s 5ms/step - loss: 1.1861e-04 - mae: 0.0087 - val_loss: 1.3898e-04 - val_mae: 0.0095\n",
      "Epoch 86/500\n",
      "11/11 [==============================] - 0s 5ms/step - loss: 1.1871e-04 - mae: 0.0087 - val_loss: 1.3810e-04 - val_mae: 0.0095\n",
      "Epoch 87/500\n",
      "11/11 [==============================] - 0s 5ms/step - loss: 1.1698e-04 - mae: 0.0086 - val_loss: 1.3662e-04 - val_mae: 0.0095\n",
      "Epoch 88/500\n",
      "11/11 [==============================] - 0s 4ms/step - loss: 1.1627e-04 - mae: 0.0086 - val_loss: 1.3665e-04 - val_mae: 0.0096\n",
      "Epoch 89/500\n",
      "11/11 [==============================] - 0s 4ms/step - loss: 1.1625e-04 - mae: 0.0086 - val_loss: 1.3661e-04 - val_mae: 0.0095\n",
      "Epoch 90/500\n",
      "11/11 [==============================] - 0s 4ms/step - loss: 1.1680e-04 - mae: 0.0087 - val_loss: 1.3976e-04 - val_mae: 0.0097\n",
      "Epoch 91/500\n",
      "11/11 [==============================] - 0s 4ms/step - loss: 1.1658e-04 - mae: 0.0086 - val_loss: 1.4074e-04 - val_mae: 0.0097\n",
      "Epoch 92/500\n",
      "11/11 [==============================] - 0s 4ms/step - loss: 1.1453e-04 - mae: 0.0085 - val_loss: 1.3537e-04 - val_mae: 0.0093\n",
      "Epoch 93/500\n",
      "11/11 [==============================] - 0s 4ms/step - loss: 1.1377e-04 - mae: 0.0085 - val_loss: 1.3590e-04 - val_mae: 0.0097\n",
      "Epoch 94/500\n",
      "11/11 [==============================] - 0s 4ms/step - loss: 1.2387e-04 - mae: 0.0093 - val_loss: 1.3344e-04 - val_mae: 0.0096\n",
      "Epoch 95/500\n",
      "11/11 [==============================] - 0s 4ms/step - loss: 1.1262e-04 - mae: 0.0086 - val_loss: 1.3053e-04 - val_mae: 0.0092\n",
      "Epoch 96/500\n",
      "11/11 [==============================] - 0s 4ms/step - loss: 1.1065e-04 - mae: 0.0084 - val_loss: 1.3233e-04 - val_mae: 0.0093\n",
      "Epoch 97/500\n",
      "11/11 [==============================] - 0s 4ms/step - loss: 1.1142e-04 - mae: 0.0084 - val_loss: 1.3265e-04 - val_mae: 0.0093\n",
      "Epoch 98/500\n",
      "11/11 [==============================] - 0s 5ms/step - loss: 1.0983e-04 - mae: 0.0084 - val_loss: 1.2967e-04 - val_mae: 0.0091\n",
      "Epoch 99/500\n",
      "11/11 [==============================] - 0s 5ms/step - loss: 1.0867e-04 - mae: 0.0084 - val_loss: 1.2911e-04 - val_mae: 0.0094\n",
      "Epoch 100/500\n",
      "11/11 [==============================] - 0s 4ms/step - loss: 1.1083e-04 - mae: 0.0085 - val_loss: 1.2969e-04 - val_mae: 0.0094\n",
      "Epoch 101/500\n",
      "11/11 [==============================] - 0s 5ms/step - loss: 1.0729e-04 - mae: 0.0083 - val_loss: 1.2586e-04 - val_mae: 0.0090\n",
      "Epoch 102/500\n",
      "11/11 [==============================] - 0s 4ms/step - loss: 1.0606e-04 - mae: 0.0082 - val_loss: 1.2631e-04 - val_mae: 0.0090\n",
      "Epoch 103/500\n",
      "11/11 [==============================] - 0s 4ms/step - loss: 1.0602e-04 - mae: 0.0082 - val_loss: 1.2932e-04 - val_mae: 0.0093\n",
      "Epoch 104/500\n",
      "11/11 [==============================] - 0s 4ms/step - loss: 1.0602e-04 - mae: 0.0082 - val_loss: 1.2328e-04 - val_mae: 0.0090\n",
      "Epoch 105/500\n",
      "11/11 [==============================] - 0s 4ms/step - loss: 1.0460e-04 - mae: 0.0082 - val_loss: 1.2122e-04 - val_mae: 0.0089\n",
      "Epoch 106/500\n",
      "11/11 [==============================] - 0s 4ms/step - loss: 1.0483e-04 - mae: 0.0083 - val_loss: 1.2101e-04 - val_mae: 0.0090\n",
      "Epoch 107/500\n",
      "11/11 [==============================] - 0s 4ms/step - loss: 1.0284e-04 - mae: 0.0081 - val_loss: 1.2282e-04 - val_mae: 0.0091\n",
      "Epoch 108/500\n",
      "11/11 [==============================] - 0s 4ms/step - loss: 1.0238e-04 - mae: 0.0081 - val_loss: 1.2284e-04 - val_mae: 0.0092\n",
      "Epoch 109/500\n",
      "11/11 [==============================] - 0s 5ms/step - loss: 1.0268e-04 - mae: 0.0081 - val_loss: 1.1909e-04 - val_mae: 0.0089\n",
      "Epoch 110/500\n",
      "11/11 [==============================] - 0s 4ms/step - loss: 1.0048e-04 - mae: 0.0080 - val_loss: 1.1886e-04 - val_mae: 0.0088\n",
      "Epoch 111/500\n",
      "11/11 [==============================] - 0s 4ms/step - loss: 1.0145e-04 - mae: 0.0081 - val_loss: 1.2513e-04 - val_mae: 0.0092\n",
      "Epoch 112/500\n",
      "11/11 [==============================] - 0s 5ms/step - loss: 1.0949e-04 - mae: 0.0085 - val_loss: 1.1950e-04 - val_mae: 0.0088\n",
      "Epoch 113/500\n",
      "11/11 [==============================] - 0s 4ms/step - loss: 9.9719e-05 - mae: 0.0080 - val_loss: 1.1796e-04 - val_mae: 0.0087\n",
      "Epoch 114/500\n",
      "11/11 [==============================] - 0s 4ms/step - loss: 9.8144e-05 - mae: 0.0079 - val_loss: 1.1635e-04 - val_mae: 0.0087\n",
      "Epoch 115/500\n",
      "11/11 [==============================] - 0s 4ms/step - loss: 9.7286e-05 - mae: 0.0079 - val_loss: 1.1454e-04 - val_mae: 0.0086\n",
      "Epoch 116/500\n",
      "11/11 [==============================] - 0s 4ms/step - loss: 9.6962e-05 - mae: 0.0078 - val_loss: 1.1711e-04 - val_mae: 0.0086\n",
      "Epoch 117/500\n",
      "11/11 [==============================] - 0s 4ms/step - loss: 9.6441e-05 - mae: 0.0078 - val_loss: 1.1551e-04 - val_mae: 0.0086\n",
      "Epoch 118/500\n",
      "11/11 [==============================] - 0s 4ms/step - loss: 9.5153e-05 - mae: 0.0077 - val_loss: 1.2164e-04 - val_mae: 0.0091\n",
      "Epoch 119/500\n",
      "11/11 [==============================] - 0s 4ms/step - loss: 1.0586e-04 - mae: 0.0084 - val_loss: 1.3769e-04 - val_mae: 0.0101\n",
      "Epoch 120/500\n",
      "11/11 [==============================] - 0s 4ms/step - loss: 1.0291e-04 - mae: 0.0084 - val_loss: 1.1583e-04 - val_mae: 0.0091\n",
      "Epoch 121/500\n",
      "11/11 [==============================] - 0s 4ms/step - loss: 1.0207e-04 - mae: 0.0084 - val_loss: 1.0994e-04 - val_mae: 0.0087\n",
      "Epoch 122/500\n",
      "11/11 [==============================] - 0s 4ms/step - loss: 9.7143e-05 - mae: 0.0081 - val_loss: 1.1699e-04 - val_mae: 0.0091\n",
      "Epoch 123/500\n",
      "11/11 [==============================] - 0s 5ms/step - loss: 1.0199e-04 - mae: 0.0083 - val_loss: 1.0905e-04 - val_mae: 0.0084\n",
      "Epoch 124/500\n",
      "11/11 [==============================] - 0s 5ms/step - loss: 1.0127e-04 - mae: 0.0083 - val_loss: 1.0680e-04 - val_mae: 0.0084\n",
      "Epoch 125/500\n",
      "11/11 [==============================] - 0s 4ms/step - loss: 1.0085e-04 - mae: 0.0083 - val_loss: 1.0704e-04 - val_mae: 0.0085\n",
      "Epoch 126/500\n",
      "11/11 [==============================] - 0s 4ms/step - loss: 9.4934e-05 - mae: 0.0080 - val_loss: 1.0464e-04 - val_mae: 0.0084\n",
      "Epoch 127/500\n",
      "11/11 [==============================] - 0s 4ms/step - loss: 9.1851e-05 - mae: 0.0077 - val_loss: 1.0532e-04 - val_mae: 0.0084\n",
      "Epoch 128/500\n",
      "11/11 [==============================] - 0s 4ms/step - loss: 9.2723e-05 - mae: 0.0078 - val_loss: 1.1457e-04 - val_mae: 0.0090\n",
      "Epoch 129/500\n",
      "11/11 [==============================] - 0s 4ms/step - loss: 9.2824e-05 - mae: 0.0078 - val_loss: 1.0641e-04 - val_mae: 0.0083\n",
      "Epoch 130/500\n",
      "11/11 [==============================] - 0s 4ms/step - loss: 8.8949e-05 - mae: 0.0075 - val_loss: 1.1211e-04 - val_mae: 0.0088\n",
      "Epoch 131/500\n",
      "11/11 [==============================] - 0s 4ms/step - loss: 9.0345e-05 - mae: 0.0076 - val_loss: 1.0945e-04 - val_mae: 0.0087\n",
      "Epoch 132/500\n",
      "11/11 [==============================] - 0s 4ms/step - loss: 8.8980e-05 - mae: 0.0076 - val_loss: 1.0471e-04 - val_mae: 0.0084\n",
      "Epoch 133/500\n",
      "11/11 [==============================] - 0s 4ms/step - loss: 8.8095e-05 - mae: 0.0075 - val_loss: 1.0264e-04 - val_mae: 0.0083\n",
      "Epoch 134/500\n",
      "11/11 [==============================] - 0s 4ms/step - loss: 8.9509e-05 - mae: 0.0077 - val_loss: 1.1208e-04 - val_mae: 0.0090\n",
      "Epoch 135/500\n",
      "11/11 [==============================] - 0s 4ms/step - loss: 9.6078e-05 - mae: 0.0081 - val_loss: 1.0798e-04 - val_mae: 0.0087\n",
      "Epoch 136/500\n",
      "11/11 [==============================] - 0s 4ms/step - loss: 8.9138e-05 - mae: 0.0077 - val_loss: 1.0026e-04 - val_mae: 0.0081\n",
      "Epoch 137/500\n",
      "11/11 [==============================] - 0s 4ms/step - loss: 8.5324e-05 - mae: 0.0074 - val_loss: 9.9964e-05 - val_mae: 0.0082\n",
      "Epoch 138/500\n",
      "11/11 [==============================] - 0s 4ms/step - loss: 8.9665e-05 - mae: 0.0078 - val_loss: 1.0844e-04 - val_mae: 0.0089\n",
      "Epoch 139/500\n",
      "11/11 [==============================] - 0s 4ms/step - loss: 8.9842e-05 - mae: 0.0077 - val_loss: 9.9794e-05 - val_mae: 0.0082\n",
      "Epoch 140/500\n",
      "11/11 [==============================] - 0s 5ms/step - loss: 8.5955e-05 - mae: 0.0075 - val_loss: 9.7453e-05 - val_mae: 0.0081\n",
      "Epoch 141/500\n",
      "11/11 [==============================] - 0s 4ms/step - loss: 8.3251e-05 - mae: 0.0073 - val_loss: 9.7286e-05 - val_mae: 0.0081\n",
      "Epoch 142/500\n",
      "11/11 [==============================] - 0s 4ms/step - loss: 8.2032e-05 - mae: 0.0073 - val_loss: 9.6582e-05 - val_mae: 0.0080\n",
      "Epoch 143/500\n",
      "11/11 [==============================] - 0s 4ms/step - loss: 8.2820e-05 - mae: 0.0073 - val_loss: 9.5995e-05 - val_mae: 0.0079\n",
      "Epoch 144/500\n",
      "11/11 [==============================] - 0s 4ms/step - loss: 8.1279e-05 - mae: 0.0072 - val_loss: 9.8365e-05 - val_mae: 0.0080\n",
      "Epoch 145/500\n",
      "11/11 [==============================] - 0s 4ms/step - loss: 8.0980e-05 - mae: 0.0071 - val_loss: 9.8590e-05 - val_mae: 0.0079\n",
      "Epoch 146/500\n",
      "11/11 [==============================] - 0s 4ms/step - loss: 8.0600e-05 - mae: 0.0070 - val_loss: 1.0084e-04 - val_mae: 0.0081\n",
      "Epoch 147/500\n",
      "11/11 [==============================] - 0s 5ms/step - loss: 8.8833e-05 - mae: 0.0077 - val_loss: 1.3007e-04 - val_mae: 0.0098\n",
      "Epoch 148/500\n",
      "11/11 [==============================] - 0s 4ms/step - loss: 9.0476e-05 - mae: 0.0078 - val_loss: 9.1944e-05 - val_mae: 0.0077\n",
      "Epoch 149/500\n",
      "11/11 [==============================] - 0s 4ms/step - loss: 8.0135e-05 - mae: 0.0072 - val_loss: 9.8161e-05 - val_mae: 0.0083\n",
      "Epoch 150/500\n",
      "11/11 [==============================] - 0s 4ms/step - loss: 8.2955e-05 - mae: 0.0074 - val_loss: 9.8075e-05 - val_mae: 0.0083\n",
      "Epoch 151/500\n",
      "11/11 [==============================] - 0s 5ms/step - loss: 8.2184e-05 - mae: 0.0074 - val_loss: 9.1313e-05 - val_mae: 0.0076\n",
      "Epoch 152/500\n",
      "11/11 [==============================] - 0s 4ms/step - loss: 7.7984e-05 - mae: 0.0071 - val_loss: 9.0874e-05 - val_mae: 0.0077\n",
      "Epoch 153/500\n",
      "11/11 [==============================] - 0s 4ms/step - loss: 8.0893e-05 - mae: 0.0073 - val_loss: 8.9866e-05 - val_mae: 0.0077\n",
      "Epoch 154/500\n",
      "11/11 [==============================] - 0s 4ms/step - loss: 7.6547e-05 - mae: 0.0069 - val_loss: 9.8013e-05 - val_mae: 0.0082\n",
      "Epoch 155/500\n",
      "11/11 [==============================] - 0s 4ms/step - loss: 8.2068e-05 - mae: 0.0074 - val_loss: 1.0378e-04 - val_mae: 0.0086\n",
      "Epoch 156/500\n",
      "11/11 [==============================] - 0s 4ms/step - loss: 1.1511e-04 - mae: 0.0091 - val_loss: 1.0255e-04 - val_mae: 0.0085\n",
      "Epoch 157/500\n",
      "11/11 [==============================] - 0s 4ms/step - loss: 8.6055e-05 - mae: 0.0077 - val_loss: 8.7802e-05 - val_mae: 0.0076\n",
      "Epoch 158/500\n",
      "11/11 [==============================] - 0s 4ms/step - loss: 8.0048e-05 - mae: 0.0073 - val_loss: 8.9475e-05 - val_mae: 0.0077\n",
      "Epoch 159/500\n",
      "11/11 [==============================] - 0s 4ms/step - loss: 7.8781e-05 - mae: 0.0073 - val_loss: 1.0033e-04 - val_mae: 0.0085\n",
      "Epoch 160/500\n",
      "11/11 [==============================] - 0s 4ms/step - loss: 7.8677e-05 - mae: 0.0072 - val_loss: 1.0042e-04 - val_mae: 0.0085\n",
      "Epoch 161/500\n",
      "11/11 [==============================] - 0s 4ms/step - loss: 9.2001e-05 - mae: 0.0080 - val_loss: 9.0818e-05 - val_mae: 0.0079\n",
      "Epoch 162/500\n",
      "11/11 [==============================] - 0s 4ms/step - loss: 7.6933e-05 - mae: 0.0072 - val_loss: 9.0187e-05 - val_mae: 0.0078\n",
      "Epoch 163/500\n",
      "11/11 [==============================] - 0s 4ms/step - loss: 7.7484e-05 - mae: 0.0072 - val_loss: 8.4897e-05 - val_mae: 0.0074\n",
      "Epoch 164/500\n",
      "11/11 [==============================] - 0s 4ms/step - loss: 7.2659e-05 - mae: 0.0068 - val_loss: 8.5359e-05 - val_mae: 0.0074\n",
      "Epoch 165/500\n",
      "11/11 [==============================] - 0s 4ms/step - loss: 7.2362e-05 - mae: 0.0068 - val_loss: 8.3977e-05 - val_mae: 0.0073\n",
      "Epoch 166/500\n",
      "11/11 [==============================] - 0s 4ms/step - loss: 7.2278e-05 - mae: 0.0068 - val_loss: 8.5865e-05 - val_mae: 0.0076\n",
      "Epoch 167/500\n",
      "11/11 [==============================] - 0s 4ms/step - loss: 7.5622e-05 - mae: 0.0070 - val_loss: 8.6999e-05 - val_mae: 0.0076\n",
      "Epoch 168/500\n",
      "11/11 [==============================] - 0s 4ms/step - loss: 7.2712e-05 - mae: 0.0069 - val_loss: 8.8008e-05 - val_mae: 0.0077\n",
      "Epoch 169/500\n",
      "11/11 [==============================] - 0s 5ms/step - loss: 7.2495e-05 - mae: 0.0069 - val_loss: 8.3710e-05 - val_mae: 0.0074\n",
      "Epoch 170/500\n",
      "11/11 [==============================] - 0s 4ms/step - loss: 7.0207e-05 - mae: 0.0066 - val_loss: 8.2223e-05 - val_mae: 0.0072\n",
      "Epoch 171/500\n",
      "11/11 [==============================] - 0s 4ms/step - loss: 7.0353e-05 - mae: 0.0066 - val_loss: 8.2216e-05 - val_mae: 0.0071\n",
      "Epoch 172/500\n",
      "11/11 [==============================] - 0s 4ms/step - loss: 6.9467e-05 - mae: 0.0066 - val_loss: 8.3342e-05 - val_mae: 0.0074\n",
      "Epoch 173/500\n",
      "11/11 [==============================] - 0s 5ms/step - loss: 7.3172e-05 - mae: 0.0070 - val_loss: 8.4126e-05 - val_mae: 0.0075\n",
      "Epoch 174/500\n",
      "11/11 [==============================] - 0s 5ms/step - loss: 7.1729e-05 - mae: 0.0069 - val_loss: 7.8807e-05 - val_mae: 0.0071\n",
      "Epoch 175/500\n",
      "11/11 [==============================] - 0s 4ms/step - loss: 6.7654e-05 - mae: 0.0065 - val_loss: 7.7961e-05 - val_mae: 0.0070\n",
      "Epoch 176/500\n",
      "11/11 [==============================] - 0s 4ms/step - loss: 6.7339e-05 - mae: 0.0065 - val_loss: 7.7728e-05 - val_mae: 0.0069\n",
      "Epoch 177/500\n",
      "11/11 [==============================] - 0s 4ms/step - loss: 6.7917e-05 - mae: 0.0066 - val_loss: 7.7113e-05 - val_mae: 0.0070\n",
      "Epoch 178/500\n",
      "11/11 [==============================] - 0s 4ms/step - loss: 6.7663e-05 - mae: 0.0066 - val_loss: 7.8019e-05 - val_mae: 0.0071\n",
      "Epoch 179/500\n",
      "11/11 [==============================] - 0s 4ms/step - loss: 6.9884e-05 - mae: 0.0068 - val_loss: 8.5998e-05 - val_mae: 0.0077\n",
      "Epoch 180/500\n",
      "11/11 [==============================] - 0s 4ms/step - loss: 8.1326e-05 - mae: 0.0076 - val_loss: 7.6126e-05 - val_mae: 0.0069\n",
      "Epoch 181/500\n",
      "11/11 [==============================] - 0s 4ms/step - loss: 7.3866e-05 - mae: 0.0071 - val_loss: 8.3764e-05 - val_mae: 0.0075\n",
      "Epoch 182/500\n",
      "11/11 [==============================] - 0s 4ms/step - loss: 6.9521e-05 - mae: 0.0068 - val_loss: 7.6576e-05 - val_mae: 0.0070\n",
      "Epoch 183/500\n",
      "11/11 [==============================] - 0s 4ms/step - loss: 7.0646e-05 - mae: 0.0068 - val_loss: 8.9432e-05 - val_mae: 0.0077\n",
      "Epoch 184/500\n",
      "11/11 [==============================] - 0s 4ms/step - loss: 7.2313e-05 - mae: 0.0070 - val_loss: 7.4363e-05 - val_mae: 0.0068\n",
      "Epoch 185/500\n",
      "11/11 [==============================] - 0s 4ms/step - loss: 6.7853e-05 - mae: 0.0067 - val_loss: 7.4791e-05 - val_mae: 0.0068\n",
      "Epoch 186/500\n",
      "11/11 [==============================] - 0s 4ms/step - loss: 6.6923e-05 - mae: 0.0066 - val_loss: 7.9138e-05 - val_mae: 0.0071\n",
      "Epoch 187/500\n",
      "11/11 [==============================] - 0s 4ms/step - loss: 6.7540e-05 - mae: 0.0067 - val_loss: 7.9963e-05 - val_mae: 0.0073\n",
      "Epoch 188/500\n",
      "11/11 [==============================] - 0s 4ms/step - loss: 7.1622e-05 - mae: 0.0070 - val_loss: 7.1227e-05 - val_mae: 0.0066\n",
      "Epoch 189/500\n",
      "11/11 [==============================] - 0s 4ms/step - loss: 6.5877e-05 - mae: 0.0066 - val_loss: 8.2358e-05 - val_mae: 0.0074\n",
      "Epoch 190/500\n",
      "11/11 [==============================] - 0s 4ms/step - loss: 6.7998e-05 - mae: 0.0066 - val_loss: 7.3615e-05 - val_mae: 0.0067\n",
      "Epoch 191/500\n",
      "11/11 [==============================] - 0s 5ms/step - loss: 6.2899e-05 - mae: 0.0063 - val_loss: 8.1600e-05 - val_mae: 0.0074\n",
      "Epoch 192/500\n",
      "11/11 [==============================] - 0s 4ms/step - loss: 7.2077e-05 - mae: 0.0070 - val_loss: 9.3666e-05 - val_mae: 0.0081\n",
      "Epoch 193/500\n",
      "11/11 [==============================] - 0s 4ms/step - loss: 7.4282e-05 - mae: 0.0072 - val_loss: 7.0617e-05 - val_mae: 0.0065\n",
      "Epoch 194/500\n",
      "11/11 [==============================] - 0s 4ms/step - loss: 6.6313e-05 - mae: 0.0066 - val_loss: 7.5779e-05 - val_mae: 0.0070\n",
      "Epoch 195/500\n",
      "11/11 [==============================] - 0s 5ms/step - loss: 6.5821e-05 - mae: 0.0066 - val_loss: 7.1123e-05 - val_mae: 0.0066\n",
      "Epoch 196/500\n",
      "11/11 [==============================] - 0s 4ms/step - loss: 6.4765e-05 - mae: 0.0065 - val_loss: 8.6606e-05 - val_mae: 0.0077\n",
      "Epoch 197/500\n",
      "11/11 [==============================] - 0s 4ms/step - loss: 6.4932e-05 - mae: 0.0065 - val_loss: 6.9878e-05 - val_mae: 0.0066\n",
      "Epoch 198/500\n",
      "11/11 [==============================] - 0s 4ms/step - loss: 6.4662e-05 - mae: 0.0066 - val_loss: 6.9523e-05 - val_mae: 0.0065\n",
      "Epoch 199/500\n",
      "11/11 [==============================] - 0s 5ms/step - loss: 7.1800e-05 - mae: 0.0070 - val_loss: 6.8463e-05 - val_mae: 0.0064\n",
      "Epoch 200/500\n",
      "11/11 [==============================] - 0s 4ms/step - loss: 6.8305e-05 - mae: 0.0069 - val_loss: 7.8401e-05 - val_mae: 0.0073\n",
      "Epoch 201/500\n",
      "11/11 [==============================] - 0s 4ms/step - loss: 6.7313e-05 - mae: 0.0068 - val_loss: 6.7115e-05 - val_mae: 0.0065\n",
      "Epoch 202/500\n",
      "11/11 [==============================] - 0s 4ms/step - loss: 6.2563e-05 - mae: 0.0064 - val_loss: 6.6915e-05 - val_mae: 0.0063\n",
      "Epoch 203/500\n",
      "11/11 [==============================] - 0s 4ms/step - loss: 6.0320e-05 - mae: 0.0062 - val_loss: 6.6240e-05 - val_mae: 0.0063\n",
      "Epoch 204/500\n",
      "11/11 [==============================] - 0s 4ms/step - loss: 6.2255e-05 - mae: 0.0064 - val_loss: 6.7590e-05 - val_mae: 0.0064\n",
      "Epoch 205/500\n",
      "11/11 [==============================] - 0s 4ms/step - loss: 6.6358e-05 - mae: 0.0066 - val_loss: 7.2472e-05 - val_mae: 0.0068\n",
      "Epoch 206/500\n",
      "11/11 [==============================] - 0s 4ms/step - loss: 6.0469e-05 - mae: 0.0062 - val_loss: 7.0148e-05 - val_mae: 0.0067\n",
      "Epoch 207/500\n",
      "11/11 [==============================] - 0s 4ms/step - loss: 6.0448e-05 - mae: 0.0063 - val_loss: 7.3240e-05 - val_mae: 0.0070\n",
      "Epoch 208/500\n",
      "11/11 [==============================] - 0s 4ms/step - loss: 6.4624e-05 - mae: 0.0066 - val_loss: 8.2530e-05 - val_mae: 0.0077\n",
      "Epoch 209/500\n",
      "11/11 [==============================] - 0s 5ms/step - loss: 6.5679e-05 - mae: 0.0067 - val_loss: 6.6167e-05 - val_mae: 0.0064\n",
      "Epoch 210/500\n",
      "11/11 [==============================] - 0s 4ms/step - loss: 6.0473e-05 - mae: 0.0063 - val_loss: 7.0677e-05 - val_mae: 0.0068\n",
      "Epoch 211/500\n",
      "11/11 [==============================] - 0s 4ms/step - loss: 6.0457e-05 - mae: 0.0063 - val_loss: 6.5350e-05 - val_mae: 0.0063\n",
      "Epoch 212/500\n",
      "11/11 [==============================] - 0s 4ms/step - loss: 5.7643e-05 - mae: 0.0060 - val_loss: 6.6161e-05 - val_mae: 0.0064\n",
      "Epoch 213/500\n",
      "11/11 [==============================] - 0s 4ms/step - loss: 5.9223e-05 - mae: 0.0062 - val_loss: 6.3106e-05 - val_mae: 0.0062\n",
      "Epoch 214/500\n",
      "11/11 [==============================] - 0s 4ms/step - loss: 5.7146e-05 - mae: 0.0061 - val_loss: 6.8960e-05 - val_mae: 0.0067\n",
      "Epoch 215/500\n",
      "11/11 [==============================] - 0s 4ms/step - loss: 5.9457e-05 - mae: 0.0062 - val_loss: 6.4445e-05 - val_mae: 0.0064\n",
      "Epoch 216/500\n",
      "11/11 [==============================] - 0s 4ms/step - loss: 5.8917e-05 - mae: 0.0062 - val_loss: 6.4560e-05 - val_mae: 0.0063\n",
      "Epoch 217/500\n",
      "11/11 [==============================] - 0s 5ms/step - loss: 5.7477e-05 - mae: 0.0061 - val_loss: 6.1740e-05 - val_mae: 0.0061\n",
      "Epoch 218/500\n",
      "11/11 [==============================] - 0s 4ms/step - loss: 5.7626e-05 - mae: 0.0061 - val_loss: 6.4059e-05 - val_mae: 0.0063\n",
      "Epoch 219/500\n",
      "11/11 [==============================] - 0s 4ms/step - loss: 5.9978e-05 - mae: 0.0063 - val_loss: 6.1204e-05 - val_mae: 0.0061\n",
      "Epoch 220/500\n",
      "11/11 [==============================] - 0s 4ms/step - loss: 5.6558e-05 - mae: 0.0061 - val_loss: 6.1998e-05 - val_mae: 0.0062\n",
      "Epoch 221/500\n",
      "11/11 [==============================] - 0s 4ms/step - loss: 5.6500e-05 - mae: 0.0060 - val_loss: 6.9038e-05 - val_mae: 0.0068\n",
      "Epoch 222/500\n",
      "11/11 [==============================] - 0s 4ms/step - loss: 5.8295e-05 - mae: 0.0061 - val_loss: 6.1448e-05 - val_mae: 0.0062\n",
      "Epoch 223/500\n",
      "11/11 [==============================] - 0s 4ms/step - loss: 5.6731e-05 - mae: 0.0061 - val_loss: 6.1538e-05 - val_mae: 0.0062\n",
      "Epoch 224/500\n",
      "11/11 [==============================] - 0s 4ms/step - loss: 5.5446e-05 - mae: 0.0059 - val_loss: 6.1749e-05 - val_mae: 0.0063\n",
      "Epoch 225/500\n",
      "11/11 [==============================] - 0s 5ms/step - loss: 5.9838e-05 - mae: 0.0063 - val_loss: 5.8806e-05 - val_mae: 0.0060\n",
      "Epoch 226/500\n",
      "11/11 [==============================] - 0s 5ms/step - loss: 5.6556e-05 - mae: 0.0061 - val_loss: 6.0235e-05 - val_mae: 0.0061\n",
      "Epoch 227/500\n",
      "11/11 [==============================] - 0s 4ms/step - loss: 5.6427e-05 - mae: 0.0060 - val_loss: 6.1848e-05 - val_mae: 0.0063\n",
      "Epoch 228/500\n",
      "11/11 [==============================] - 0s 4ms/step - loss: 5.4074e-05 - mae: 0.0059 - val_loss: 5.8816e-05 - val_mae: 0.0061\n",
      "Epoch 229/500\n",
      "11/11 [==============================] - 0s 4ms/step - loss: 5.4916e-05 - mae: 0.0060 - val_loss: 6.5995e-05 - val_mae: 0.0067\n",
      "Epoch 230/500\n",
      "11/11 [==============================] - 0s 4ms/step - loss: 5.3992e-05 - mae: 0.0059 - val_loss: 5.7805e-05 - val_mae: 0.0060\n",
      "Epoch 231/500\n",
      "11/11 [==============================] - 0s 4ms/step - loss: 5.3213e-05 - mae: 0.0058 - val_loss: 6.1451e-05 - val_mae: 0.0063\n",
      "Epoch 232/500\n",
      "11/11 [==============================] - 0s 4ms/step - loss: 5.7321e-05 - mae: 0.0061 - val_loss: 5.7202e-05 - val_mae: 0.0060\n",
      "Epoch 233/500\n",
      "11/11 [==============================] - 0s 4ms/step - loss: 5.3088e-05 - mae: 0.0058 - val_loss: 5.7917e-05 - val_mae: 0.0060\n",
      "Epoch 234/500\n",
      "11/11 [==============================] - 0s 4ms/step - loss: 5.2596e-05 - mae: 0.0058 - val_loss: 6.5306e-05 - val_mae: 0.0067\n",
      "Epoch 235/500\n",
      "11/11 [==============================] - 0s 4ms/step - loss: 5.4706e-05 - mae: 0.0059 - val_loss: 5.7127e-05 - val_mae: 0.0060\n",
      "Epoch 236/500\n",
      "11/11 [==============================] - 0s 4ms/step - loss: 5.2886e-05 - mae: 0.0058 - val_loss: 6.2072e-05 - val_mae: 0.0064\n",
      "Epoch 237/500\n",
      "11/11 [==============================] - 0s 4ms/step - loss: 5.2644e-05 - mae: 0.0058 - val_loss: 5.6941e-05 - val_mae: 0.0060\n",
      "Epoch 238/500\n",
      "11/11 [==============================] - 0s 4ms/step - loss: 5.1452e-05 - mae: 0.0057 - val_loss: 6.4759e-05 - val_mae: 0.0066\n",
      "Epoch 239/500\n",
      "11/11 [==============================] - 0s 4ms/step - loss: 6.1869e-05 - mae: 0.0065 - val_loss: 6.6720e-05 - val_mae: 0.0070\n",
      "Epoch 240/500\n",
      "11/11 [==============================] - 0s 4ms/step - loss: 5.7417e-05 - mae: 0.0062 - val_loss: 5.8784e-05 - val_mae: 0.0062\n",
      "Epoch 241/500\n",
      "11/11 [==============================] - 0s 4ms/step - loss: 5.2291e-05 - mae: 0.0059 - val_loss: 5.9212e-05 - val_mae: 0.0062\n",
      "Epoch 242/500\n",
      "11/11 [==============================] - 0s 4ms/step - loss: 5.0961e-05 - mae: 0.0057 - val_loss: 5.6217e-05 - val_mae: 0.0059\n",
      "Epoch 243/500\n",
      "11/11 [==============================] - 0s 4ms/step - loss: 5.1686e-05 - mae: 0.0057 - val_loss: 5.3539e-05 - val_mae: 0.0057\n",
      "Epoch 244/500\n",
      "11/11 [==============================] - 0s 4ms/step - loss: 6.8748e-05 - mae: 0.0071 - val_loss: 5.8915e-05 - val_mae: 0.0063\n",
      "Epoch 245/500\n",
      "11/11 [==============================] - 0s 4ms/step - loss: 5.3980e-05 - mae: 0.0060 - val_loss: 5.5657e-05 - val_mae: 0.0060\n",
      "Epoch 246/500\n",
      "11/11 [==============================] - 0s 4ms/step - loss: 5.1865e-05 - mae: 0.0059 - val_loss: 5.8681e-05 - val_mae: 0.0062\n",
      "Epoch 247/500\n",
      "11/11 [==============================] - 0s 4ms/step - loss: 5.1175e-05 - mae: 0.0057 - val_loss: 5.7477e-05 - val_mae: 0.0060\n",
      "Epoch 248/500\n",
      "11/11 [==============================] - 0s 4ms/step - loss: 5.0432e-05 - mae: 0.0057 - val_loss: 7.4527e-05 - val_mae: 0.0074\n",
      "Epoch 249/500\n",
      "11/11 [==============================] - 0s 4ms/step - loss: 6.5944e-05 - mae: 0.0069 - val_loss: 6.5635e-05 - val_mae: 0.0070\n",
      "Epoch 250/500\n",
      "11/11 [==============================] - 0s 4ms/step - loss: 7.4878e-05 - mae: 0.0073 - val_loss: 6.5193e-05 - val_mae: 0.0069\n",
      "Epoch 251/500\n",
      "11/11 [==============================] - 0s 4ms/step - loss: 6.2408e-05 - mae: 0.0066 - val_loss: 7.7579e-05 - val_mae: 0.0075\n",
      "Epoch 252/500\n",
      "11/11 [==============================] - 0s 4ms/step - loss: 7.1033e-05 - mae: 0.0071 - val_loss: 8.5757e-05 - val_mae: 0.0081\n",
      "Epoch 253/500\n",
      "11/11 [==============================] - 0s 4ms/step - loss: 7.3613e-05 - mae: 0.0074 - val_loss: 5.4188e-05 - val_mae: 0.0059\n",
      "Epoch 254/500\n",
      "11/11 [==============================] - 0s 4ms/step - loss: 6.0064e-05 - mae: 0.0065 - val_loss: 6.4235e-05 - val_mae: 0.0067\n",
      "Epoch 255/500\n",
      "11/11 [==============================] - 0s 4ms/step - loss: 6.6478e-05 - mae: 0.0069 - val_loss: 7.7666e-05 - val_mae: 0.0077\n",
      "Epoch 256/500\n",
      "11/11 [==============================] - 0s 4ms/step - loss: 6.5318e-05 - mae: 0.0068 - val_loss: 5.5527e-05 - val_mae: 0.0058\n",
      "Epoch 257/500\n",
      "11/11 [==============================] - 0s 4ms/step - loss: 5.0549e-05 - mae: 0.0058 - val_loss: 5.6992e-05 - val_mae: 0.0059\n",
      "Epoch 258/500\n",
      "11/11 [==============================] - 0s 4ms/step - loss: 5.2975e-05 - mae: 0.0059 - val_loss: 5.4187e-05 - val_mae: 0.0057\n",
      "Epoch 259/500\n",
      "11/11 [==============================] - 0s 4ms/step - loss: 4.9351e-05 - mae: 0.0056 - val_loss: 5.6206e-05 - val_mae: 0.0060\n",
      "Epoch 260/500\n",
      "11/11 [==============================] - 0s 5ms/step - loss: 5.3550e-05 - mae: 0.0060 - val_loss: 6.4115e-05 - val_mae: 0.0069\n",
      "Epoch 261/500\n",
      "11/11 [==============================] - 0s 5ms/step - loss: 5.8186e-05 - mae: 0.0064 - val_loss: 5.2479e-05 - val_mae: 0.0058\n",
      "Epoch 262/500\n",
      "11/11 [==============================] - 0s 5ms/step - loss: 5.4676e-05 - mae: 0.0061 - val_loss: 5.1968e-05 - val_mae: 0.0057\n",
      "Epoch 263/500\n",
      "11/11 [==============================] - 0s 4ms/step - loss: 5.6950e-05 - mae: 0.0063 - val_loss: 5.8569e-05 - val_mae: 0.0063\n",
      "Epoch 264/500\n",
      "11/11 [==============================] - 0s 4ms/step - loss: 5.0781e-05 - mae: 0.0057 - val_loss: 5.2405e-05 - val_mae: 0.0058\n",
      "Epoch 265/500\n",
      "11/11 [==============================] - 0s 4ms/step - loss: 4.8664e-05 - mae: 0.0056 - val_loss: 5.3973e-05 - val_mae: 0.0057\n",
      "Epoch 266/500\n",
      "11/11 [==============================] - 0s 4ms/step - loss: 4.7738e-05 - mae: 0.0055 - val_loss: 5.1641e-05 - val_mae: 0.0057\n",
      "Epoch 267/500\n",
      "11/11 [==============================] - 0s 4ms/step - loss: 4.8093e-05 - mae: 0.0056 - val_loss: 5.1326e-05 - val_mae: 0.0056\n",
      "Epoch 268/500\n",
      "11/11 [==============================] - 0s 4ms/step - loss: 4.7352e-05 - mae: 0.0055 - val_loss: 5.2537e-05 - val_mae: 0.0056\n",
      "Epoch 269/500\n",
      "11/11 [==============================] - 0s 4ms/step - loss: 4.7694e-05 - mae: 0.0055 - val_loss: 5.4103e-05 - val_mae: 0.0058\n",
      "Epoch 270/500\n",
      "11/11 [==============================] - 0s 4ms/step - loss: 5.1103e-05 - mae: 0.0059 - val_loss: 5.4131e-05 - val_mae: 0.0059\n",
      "Epoch 271/500\n",
      "11/11 [==============================] - 0s 4ms/step - loss: 5.2498e-05 - mae: 0.0060 - val_loss: 5.3657e-05 - val_mae: 0.0059\n",
      "Epoch 272/500\n",
      "11/11 [==============================] - 0s 4ms/step - loss: 4.6998e-05 - mae: 0.0055 - val_loss: 5.0363e-05 - val_mae: 0.0055\n",
      "Epoch 273/500\n",
      "11/11 [==============================] - 0s 4ms/step - loss: 4.5770e-05 - mae: 0.0054 - val_loss: 5.1895e-05 - val_mae: 0.0057\n",
      "Epoch 274/500\n",
      "11/11 [==============================] - 0s 4ms/step - loss: 4.7490e-05 - mae: 0.0056 - val_loss: 5.1180e-05 - val_mae: 0.0056\n",
      "Epoch 275/500\n",
      "11/11 [==============================] - 0s 4ms/step - loss: 5.5384e-05 - mae: 0.0063 - val_loss: 6.7711e-05 - val_mae: 0.0071\n",
      "Epoch 276/500\n",
      "11/11 [==============================] - 0s 4ms/step - loss: 7.4548e-05 - mae: 0.0074 - val_loss: 7.2635e-05 - val_mae: 0.0075\n",
      "Epoch 277/500\n",
      "11/11 [==============================] - 0s 4ms/step - loss: 5.9870e-05 - mae: 0.0066 - val_loss: 5.0731e-05 - val_mae: 0.0057\n",
      "Epoch 278/500\n",
      "11/11 [==============================] - 0s 4ms/step - loss: 5.0966e-05 - mae: 0.0059 - val_loss: 4.8412e-05 - val_mae: 0.0054\n",
      "Epoch 279/500\n",
      "11/11 [==============================] - 0s 4ms/step - loss: 4.5328e-05 - mae: 0.0053 - val_loss: 5.0122e-05 - val_mae: 0.0055\n",
      "Epoch 280/500\n",
      "11/11 [==============================] - 0s 4ms/step - loss: 4.7114e-05 - mae: 0.0055 - val_loss: 4.9250e-05 - val_mae: 0.0055\n",
      "Epoch 281/500\n",
      "11/11 [==============================] - 0s 4ms/step - loss: 4.6360e-05 - mae: 0.0055 - val_loss: 5.1653e-05 - val_mae: 0.0055\n",
      "Epoch 282/500\n",
      "11/11 [==============================] - 0s 4ms/step - loss: 4.8237e-05 - mae: 0.0057 - val_loss: 5.0512e-05 - val_mae: 0.0056\n",
      "Epoch 283/500\n",
      "11/11 [==============================] - 0s 4ms/step - loss: 5.3766e-05 - mae: 0.0061 - val_loss: 4.8581e-05 - val_mae: 0.0054\n",
      "Epoch 284/500\n",
      "11/11 [==============================] - 0s 4ms/step - loss: 4.7643e-05 - mae: 0.0057 - val_loss: 5.0087e-05 - val_mae: 0.0057\n",
      "Epoch 285/500\n",
      "11/11 [==============================] - 0s 5ms/step - loss: 4.6537e-05 - mae: 0.0055 - val_loss: 4.8182e-05 - val_mae: 0.0055\n",
      "Epoch 286/500\n",
      "11/11 [==============================] - 0s 4ms/step - loss: 4.6332e-05 - mae: 0.0055 - val_loss: 5.6316e-05 - val_mae: 0.0063\n",
      "Epoch 287/500\n",
      "11/11 [==============================] - 0s 4ms/step - loss: 4.6192e-05 - mae: 0.0056 - val_loss: 4.7906e-05 - val_mae: 0.0054\n",
      "Epoch 288/500\n",
      "11/11 [==============================] - 0s 4ms/step - loss: 4.4550e-05 - mae: 0.0053 - val_loss: 4.7280e-05 - val_mae: 0.0054\n",
      "Epoch 289/500\n",
      "11/11 [==============================] - 0s 4ms/step - loss: 4.4117e-05 - mae: 0.0054 - val_loss: 4.8566e-05 - val_mae: 0.0054\n",
      "Epoch 290/500\n",
      "11/11 [==============================] - 0s 4ms/step - loss: 4.5276e-05 - mae: 0.0055 - val_loss: 4.7823e-05 - val_mae: 0.0055\n",
      "Epoch 291/500\n",
      "11/11 [==============================] - 0s 5ms/step - loss: 4.5252e-05 - mae: 0.0056 - val_loss: 4.5875e-05 - val_mae: 0.0053\n",
      "Epoch 292/500\n",
      "11/11 [==============================] - 0s 4ms/step - loss: 4.2974e-05 - mae: 0.0053 - val_loss: 4.8029e-05 - val_mae: 0.0054\n",
      "Epoch 293/500\n",
      "11/11 [==============================] - 0s 4ms/step - loss: 4.3888e-05 - mae: 0.0053 - val_loss: 4.9160e-05 - val_mae: 0.0056\n",
      "Epoch 294/500\n",
      "11/11 [==============================] - 0s 4ms/step - loss: 5.1897e-05 - mae: 0.0061 - val_loss: 5.0644e-05 - val_mae: 0.0059\n",
      "Epoch 295/500\n",
      "11/11 [==============================] - 0s 4ms/step - loss: 4.3861e-05 - mae: 0.0053 - val_loss: 4.3930e-05 - val_mae: 0.0051\n",
      "Epoch 296/500\n",
      "11/11 [==============================] - 0s 4ms/step - loss: 4.2157e-05 - mae: 0.0052 - val_loss: 4.5761e-05 - val_mae: 0.0052\n",
      "Epoch 297/500\n",
      "11/11 [==============================] - 0s 4ms/step - loss: 4.2387e-05 - mae: 0.0052 - val_loss: 4.6445e-05 - val_mae: 0.0053\n",
      "Epoch 298/500\n",
      "11/11 [==============================] - 0s 4ms/step - loss: 4.2241e-05 - mae: 0.0052 - val_loss: 4.7414e-05 - val_mae: 0.0054\n",
      "Epoch 299/500\n",
      "11/11 [==============================] - 0s 4ms/step - loss: 4.3216e-05 - mae: 0.0052 - val_loss: 5.0869e-05 - val_mae: 0.0059\n",
      "Epoch 300/500\n",
      "11/11 [==============================] - 0s 4ms/step - loss: 5.2023e-05 - mae: 0.0061 - val_loss: 5.6208e-05 - val_mae: 0.0064\n",
      "Epoch 301/500\n",
      "11/11 [==============================] - 0s 4ms/step - loss: 6.8297e-05 - mae: 0.0071 - val_loss: 6.1903e-05 - val_mae: 0.0067\n",
      "Epoch 302/500\n",
      "11/11 [==============================] - 0s 4ms/step - loss: 6.1047e-05 - mae: 0.0066 - val_loss: 5.0238e-05 - val_mae: 0.0059\n",
      "Epoch 303/500\n",
      "11/11 [==============================] - 0s 4ms/step - loss: 4.5031e-05 - mae: 0.0055 - val_loss: 4.4407e-05 - val_mae: 0.0051\n",
      "Epoch 304/500\n",
      "11/11 [==============================] - 0s 4ms/step - loss: 4.4734e-05 - mae: 0.0055 - val_loss: 6.0387e-05 - val_mae: 0.0068\n",
      "Epoch 305/500\n",
      "11/11 [==============================] - 0s 5ms/step - loss: 6.4401e-05 - mae: 0.0069 - val_loss: 4.3711e-05 - val_mae: 0.0051\n",
      "Epoch 306/500\n",
      "11/11 [==============================] - 0s 4ms/step - loss: 5.1889e-05 - mae: 0.0060 - val_loss: 5.1821e-05 - val_mae: 0.0060\n",
      "Epoch 307/500\n",
      "11/11 [==============================] - 0s 4ms/step - loss: 5.0561e-05 - mae: 0.0060 - val_loss: 5.7829e-05 - val_mae: 0.0066\n",
      "Epoch 308/500\n",
      "11/11 [==============================] - 0s 4ms/step - loss: 5.0739e-05 - mae: 0.0060 - val_loss: 4.5509e-05 - val_mae: 0.0051\n",
      "Epoch 309/500\n",
      "11/11 [==============================] - 0s 4ms/step - loss: 4.4727e-05 - mae: 0.0055 - val_loss: 4.5660e-05 - val_mae: 0.0052\n",
      "Epoch 310/500\n",
      "11/11 [==============================] - 0s 4ms/step - loss: 4.2309e-05 - mae: 0.0053 - val_loss: 5.2088e-05 - val_mae: 0.0060\n",
      "Epoch 311/500\n",
      "11/11 [==============================] - 0s 4ms/step - loss: 4.4602e-05 - mae: 0.0055 - val_loss: 4.6160e-05 - val_mae: 0.0052\n",
      "Epoch 312/500\n",
      "11/11 [==============================] - 0s 4ms/step - loss: 4.2028e-05 - mae: 0.0052 - val_loss: 5.0960e-05 - val_mae: 0.0058\n",
      "Epoch 313/500\n",
      "11/11 [==============================] - 0s 4ms/step - loss: 4.2010e-05 - mae: 0.0052 - val_loss: 4.6333e-05 - val_mae: 0.0055\n",
      "Epoch 314/500\n",
      "11/11 [==============================] - 0s 4ms/step - loss: 4.1948e-05 - mae: 0.0052 - val_loss: 4.6174e-05 - val_mae: 0.0054\n",
      "Epoch 315/500\n",
      "11/11 [==============================] - 0s 4ms/step - loss: 4.3821e-05 - mae: 0.0055 - val_loss: 4.6067e-05 - val_mae: 0.0053\n",
      "Epoch 316/500\n",
      "11/11 [==============================] - 0s 4ms/step - loss: 5.5930e-05 - mae: 0.0063 - val_loss: 4.2767e-05 - val_mae: 0.0051\n",
      "Epoch 317/500\n",
      "11/11 [==============================] - 0s 4ms/step - loss: 4.2843e-05 - mae: 0.0054 - val_loss: 5.2339e-05 - val_mae: 0.0062\n",
      "Epoch 318/500\n",
      "11/11 [==============================] - 0s 4ms/step - loss: 4.4224e-05 - mae: 0.0056 - val_loss: 4.3395e-05 - val_mae: 0.0052\n",
      "Epoch 319/500\n",
      "11/11 [==============================] - 0s 4ms/step - loss: 4.1180e-05 - mae: 0.0052 - val_loss: 4.4378e-05 - val_mae: 0.0051\n",
      "Epoch 320/500\n",
      "11/11 [==============================] - 0s 4ms/step - loss: 3.9958e-05 - mae: 0.0050 - val_loss: 4.4041e-05 - val_mae: 0.0051\n",
      "Epoch 321/500\n",
      "11/11 [==============================] - 0s 4ms/step - loss: 3.8362e-05 - mae: 0.0049 - val_loss: 4.2323e-05 - val_mae: 0.0051\n",
      "Epoch 322/500\n",
      "11/11 [==============================] - 0s 4ms/step - loss: 3.8128e-05 - mae: 0.0049 - val_loss: 4.1489e-05 - val_mae: 0.0050\n",
      "Epoch 323/500\n",
      "11/11 [==============================] - 0s 4ms/step - loss: 3.8997e-05 - mae: 0.0051 - val_loss: 6.0493e-05 - val_mae: 0.0068\n",
      "Epoch 324/500\n",
      "11/11 [==============================] - 0s 5ms/step - loss: 5.2023e-05 - mae: 0.0060 - val_loss: 4.0202e-05 - val_mae: 0.0049\n",
      "Epoch 325/500\n",
      "11/11 [==============================] - 0s 4ms/step - loss: 4.0279e-05 - mae: 0.0051 - val_loss: 4.2707e-05 - val_mae: 0.0052\n",
      "Epoch 326/500\n",
      "11/11 [==============================] - 0s 4ms/step - loss: 3.8055e-05 - mae: 0.0050 - val_loss: 4.0576e-05 - val_mae: 0.0049\n",
      "Epoch 327/500\n",
      "11/11 [==============================] - 0s 4ms/step - loss: 3.8158e-05 - mae: 0.0049 - val_loss: 4.1936e-05 - val_mae: 0.0052\n",
      "Epoch 328/500\n",
      "11/11 [==============================] - 0s 4ms/step - loss: 4.4632e-05 - mae: 0.0056 - val_loss: 4.3730e-05 - val_mae: 0.0052\n",
      "Epoch 329/500\n",
      "11/11 [==============================] - 0s 4ms/step - loss: 4.1089e-05 - mae: 0.0052 - val_loss: 4.3762e-05 - val_mae: 0.0054\n",
      "Epoch 330/500\n",
      "11/11 [==============================] - 0s 4ms/step - loss: 3.7962e-05 - mae: 0.0050 - val_loss: 4.0891e-05 - val_mae: 0.0049\n",
      "Epoch 331/500\n",
      "11/11 [==============================] - 0s 4ms/step - loss: 3.7531e-05 - mae: 0.0049 - val_loss: 4.3256e-05 - val_mae: 0.0050\n",
      "Epoch 332/500\n",
      "11/11 [==============================] - 0s 4ms/step - loss: 3.7100e-05 - mae: 0.0048 - val_loss: 4.0259e-05 - val_mae: 0.0050\n",
      "Epoch 333/500\n",
      "11/11 [==============================] - 0s 4ms/step - loss: 3.6807e-05 - mae: 0.0049 - val_loss: 3.8618e-05 - val_mae: 0.0048\n",
      "Epoch 334/500\n",
      "11/11 [==============================] - 0s 4ms/step - loss: 4.0468e-05 - mae: 0.0053 - val_loss: 4.8592e-05 - val_mae: 0.0060\n",
      "Epoch 335/500\n",
      "11/11 [==============================] - 0s 4ms/step - loss: 4.3456e-05 - mae: 0.0056 - val_loss: 4.5811e-05 - val_mae: 0.0055\n",
      "Epoch 336/500\n",
      "11/11 [==============================] - 0s 4ms/step - loss: 4.0525e-05 - mae: 0.0052 - val_loss: 5.1355e-05 - val_mae: 0.0062\n",
      "Epoch 337/500\n",
      "11/11 [==============================] - 0s 4ms/step - loss: 4.2903e-05 - mae: 0.0055 - val_loss: 3.9745e-05 - val_mae: 0.0049\n",
      "Epoch 338/500\n",
      "11/11 [==============================] - 0s 4ms/step - loss: 3.6386e-05 - mae: 0.0049 - val_loss: 3.8213e-05 - val_mae: 0.0047\n",
      "Epoch 339/500\n",
      "11/11 [==============================] - 0s 4ms/step - loss: 3.5347e-05 - mae: 0.0047 - val_loss: 3.9268e-05 - val_mae: 0.0049\n",
      "Epoch 340/500\n",
      "11/11 [==============================] - 0s 4ms/step - loss: 3.5553e-05 - mae: 0.0048 - val_loss: 3.7672e-05 - val_mae: 0.0047\n",
      "Epoch 341/500\n",
      "11/11 [==============================] - 0s 4ms/step - loss: 3.5225e-05 - mae: 0.0048 - val_loss: 3.8271e-05 - val_mae: 0.0048\n",
      "Epoch 342/500\n",
      "11/11 [==============================] - 0s 4ms/step - loss: 3.4685e-05 - mae: 0.0047 - val_loss: 3.8718e-05 - val_mae: 0.0049\n",
      "Epoch 343/500\n",
      "11/11 [==============================] - 0s 5ms/step - loss: 3.5436e-05 - mae: 0.0048 - val_loss: 3.6555e-05 - val_mae: 0.0046\n",
      "Epoch 344/500\n",
      "11/11 [==============================] - 0s 4ms/step - loss: 3.3886e-05 - mae: 0.0047 - val_loss: 3.8972e-05 - val_mae: 0.0048\n",
      "Epoch 345/500\n",
      "11/11 [==============================] - 0s 4ms/step - loss: 3.5829e-05 - mae: 0.0048 - val_loss: 3.9040e-05 - val_mae: 0.0050\n",
      "Epoch 346/500\n",
      "11/11 [==============================] - 0s 4ms/step - loss: 3.4624e-05 - mae: 0.0047 - val_loss: 3.6951e-05 - val_mae: 0.0048\n",
      "Epoch 347/500\n",
      "11/11 [==============================] - 0s 4ms/step - loss: 3.5151e-05 - mae: 0.0048 - val_loss: 3.5413e-05 - val_mae: 0.0045\n",
      "Epoch 348/500\n",
      "11/11 [==============================] - 0s 5ms/step - loss: 3.4473e-05 - mae: 0.0047 - val_loss: 4.1984e-05 - val_mae: 0.0054\n",
      "Epoch 349/500\n",
      "11/11 [==============================] - 0s 4ms/step - loss: 3.7374e-05 - mae: 0.0050 - val_loss: 3.6655e-05 - val_mae: 0.0046\n",
      "Epoch 350/500\n",
      "11/11 [==============================] - 0s 4ms/step - loss: 3.4567e-05 - mae: 0.0048 - val_loss: 3.4894e-05 - val_mae: 0.0046\n",
      "Epoch 351/500\n",
      "11/11 [==============================] - 0s 4ms/step - loss: 3.4181e-05 - mae: 0.0047 - val_loss: 3.6140e-05 - val_mae: 0.0046\n",
      "Epoch 352/500\n",
      "11/11 [==============================] - 0s 4ms/step - loss: 3.3530e-05 - mae: 0.0046 - val_loss: 3.6220e-05 - val_mae: 0.0047\n",
      "Epoch 353/500\n",
      "11/11 [==============================] - 0s 5ms/step - loss: 3.4232e-05 - mae: 0.0048 - val_loss: 3.3728e-05 - val_mae: 0.0044\n",
      "Epoch 354/500\n",
      "11/11 [==============================] - 0s 4ms/step - loss: 3.3194e-05 - mae: 0.0047 - val_loss: 3.6522e-05 - val_mae: 0.0048\n",
      "Epoch 355/500\n",
      "11/11 [==============================] - 0s 4ms/step - loss: 3.2542e-05 - mae: 0.0046 - val_loss: 3.9317e-05 - val_mae: 0.0051\n",
      "Epoch 356/500\n",
      "11/11 [==============================] - 0s 4ms/step - loss: 3.3355e-05 - mae: 0.0047 - val_loss: 3.5661e-05 - val_mae: 0.0046\n",
      "Epoch 357/500\n",
      "11/11 [==============================] - 0s 4ms/step - loss: 3.2514e-05 - mae: 0.0046 - val_loss: 3.5990e-05 - val_mae: 0.0047\n",
      "Epoch 358/500\n",
      "11/11 [==============================] - 0s 4ms/step - loss: 3.1957e-05 - mae: 0.0045 - val_loss: 3.4808e-05 - val_mae: 0.0045\n",
      "Epoch 359/500\n",
      "11/11 [==============================] - 0s 4ms/step - loss: 3.2969e-05 - mae: 0.0047 - val_loss: 3.8560e-05 - val_mae: 0.0050\n",
      "Epoch 360/500\n",
      "11/11 [==============================] - 0s 4ms/step - loss: 3.7184e-05 - mae: 0.0050 - val_loss: 3.3574e-05 - val_mae: 0.0044\n",
      "Epoch 361/500\n",
      "11/11 [==============================] - 0s 4ms/step - loss: 3.7265e-05 - mae: 0.0051 - val_loss: 3.5098e-05 - val_mae: 0.0047\n",
      "Epoch 362/500\n",
      "11/11 [==============================] - 0s 4ms/step - loss: 3.3662e-05 - mae: 0.0047 - val_loss: 3.8726e-05 - val_mae: 0.0050\n",
      "Epoch 363/500\n",
      "11/11 [==============================] - 0s 4ms/step - loss: 3.2895e-05 - mae: 0.0047 - val_loss: 3.4693e-05 - val_mae: 0.0045\n",
      "Epoch 364/500\n",
      "11/11 [==============================] - 0s 4ms/step - loss: 3.1879e-05 - mae: 0.0046 - val_loss: 3.6055e-05 - val_mae: 0.0048\n",
      "Epoch 365/500\n",
      "11/11 [==============================] - 0s 4ms/step - loss: 3.3479e-05 - mae: 0.0047 - val_loss: 3.5314e-05 - val_mae: 0.0048\n",
      "Epoch 366/500\n",
      "11/11 [==============================] - 0s 4ms/step - loss: 3.1580e-05 - mae: 0.0045 - val_loss: 3.5033e-05 - val_mae: 0.0046\n",
      "Epoch 367/500\n",
      "11/11 [==============================] - 0s 4ms/step - loss: 3.1352e-05 - mae: 0.0045 - val_loss: 3.8850e-05 - val_mae: 0.0052\n",
      "Epoch 368/500\n",
      "11/11 [==============================] - 0s 5ms/step - loss: 3.3708e-05 - mae: 0.0048 - val_loss: 3.5347e-05 - val_mae: 0.0046\n",
      "Epoch 369/500\n",
      "11/11 [==============================] - 0s 4ms/step - loss: 3.2058e-05 - mae: 0.0046 - val_loss: 4.9010e-05 - val_mae: 0.0061\n",
      "Epoch 370/500\n",
      "11/11 [==============================] - 0s 4ms/step - loss: 4.3790e-05 - mae: 0.0057 - val_loss: 5.3011e-05 - val_mae: 0.0065\n",
      "Epoch 371/500\n",
      "11/11 [==============================] - 0s 4ms/step - loss: 7.5535e-05 - mae: 0.0073 - val_loss: 3.6629e-05 - val_mae: 0.0047\n",
      "Epoch 372/500\n",
      "11/11 [==============================] - 0s 4ms/step - loss: 5.8567e-05 - mae: 0.0059 - val_loss: 3.6366e-05 - val_mae: 0.0049\n",
      "Epoch 373/500\n",
      "11/11 [==============================] - 0s 4ms/step - loss: 3.8924e-05 - mae: 0.0052 - val_loss: 3.6078e-05 - val_mae: 0.0046\n",
      "Epoch 374/500\n",
      "11/11 [==============================] - 0s 4ms/step - loss: 3.2638e-05 - mae: 0.0046 - val_loss: 3.4871e-05 - val_mae: 0.0045\n",
      "Epoch 375/500\n",
      "11/11 [==============================] - 0s 4ms/step - loss: 3.0861e-05 - mae: 0.0045 - val_loss: 3.5530e-05 - val_mae: 0.0049\n",
      "Epoch 376/500\n",
      "11/11 [==============================] - 0s 4ms/step - loss: 3.1620e-05 - mae: 0.0046 - val_loss: 3.4634e-05 - val_mae: 0.0047\n",
      "Epoch 377/500\n",
      "11/11 [==============================] - 0s 4ms/step - loss: 3.2205e-05 - mae: 0.0046 - val_loss: 3.3762e-05 - val_mae: 0.0045\n",
      "Epoch 378/500\n",
      "11/11 [==============================] - 0s 4ms/step - loss: 3.2530e-05 - mae: 0.0047 - val_loss: 3.1138e-05 - val_mae: 0.0042\n",
      "Epoch 379/500\n",
      "11/11 [==============================] - 0s 4ms/step - loss: 3.3697e-05 - mae: 0.0048 - val_loss: 3.9832e-05 - val_mae: 0.0054\n",
      "Epoch 380/500\n",
      "11/11 [==============================] - 0s 4ms/step - loss: 3.0933e-05 - mae: 0.0045 - val_loss: 4.2635e-05 - val_mae: 0.0054\n",
      "Epoch 381/500\n",
      "11/11 [==============================] - 0s 4ms/step - loss: 4.0314e-05 - mae: 0.0054 - val_loss: 3.6730e-05 - val_mae: 0.0051\n",
      "Epoch 382/500\n",
      "11/11 [==============================] - 0s 4ms/step - loss: 3.2511e-05 - mae: 0.0046 - val_loss: 4.3084e-05 - val_mae: 0.0056\n",
      "Epoch 383/500\n",
      "11/11 [==============================] - 0s 4ms/step - loss: 3.6582e-05 - mae: 0.0051 - val_loss: 3.6760e-05 - val_mae: 0.0050\n",
      "Epoch 384/500\n",
      "11/11 [==============================] - 0s 4ms/step - loss: 3.6095e-05 - mae: 0.0050 - val_loss: 3.4920e-05 - val_mae: 0.0049\n",
      "Epoch 385/500\n",
      "11/11 [==============================] - 0s 4ms/step - loss: 3.3420e-05 - mae: 0.0047 - val_loss: 2.9790e-05 - val_mae: 0.0042\n",
      "Epoch 386/500\n",
      "11/11 [==============================] - 0s 4ms/step - loss: 3.0639e-05 - mae: 0.0045 - val_loss: 3.4171e-05 - val_mae: 0.0046\n",
      "Epoch 387/500\n",
      "11/11 [==============================] - 0s 4ms/step - loss: 3.1820e-05 - mae: 0.0046 - val_loss: 3.0007e-05 - val_mae: 0.0043\n",
      "Epoch 388/500\n",
      "11/11 [==============================] - 0s 4ms/step - loss: 3.0778e-05 - mae: 0.0045 - val_loss: 2.8449e-05 - val_mae: 0.0041\n",
      "Epoch 389/500\n",
      "11/11 [==============================] - 0s 4ms/step - loss: 2.9107e-05 - mae: 0.0043 - val_loss: 3.0882e-05 - val_mae: 0.0043\n",
      "Epoch 390/500\n",
      "11/11 [==============================] - 0s 4ms/step - loss: 2.9041e-05 - mae: 0.0044 - val_loss: 2.9787e-05 - val_mae: 0.0042\n",
      "Epoch 391/500\n",
      "11/11 [==============================] - 0s 4ms/step - loss: 2.8466e-05 - mae: 0.0043 - val_loss: 2.8280e-05 - val_mae: 0.0041\n",
      "Epoch 392/500\n",
      "11/11 [==============================] - 0s 4ms/step - loss: 2.9939e-05 - mae: 0.0045 - val_loss: 5.5444e-05 - val_mae: 0.0066\n",
      "Epoch 393/500\n",
      "11/11 [==============================] - 0s 4ms/step - loss: 4.0592e-05 - mae: 0.0055 - val_loss: 2.8603e-05 - val_mae: 0.0041\n",
      "Epoch 394/500\n",
      "11/11 [==============================] - 0s 4ms/step - loss: 3.0349e-05 - mae: 0.0045 - val_loss: 2.7902e-05 - val_mae: 0.0040\n",
      "Epoch 395/500\n",
      "11/11 [==============================] - 0s 4ms/step - loss: 3.0087e-05 - mae: 0.0045 - val_loss: 2.9184e-05 - val_mae: 0.0042\n",
      "Epoch 396/500\n",
      "11/11 [==============================] - 0s 4ms/step - loss: 2.8223e-05 - mae: 0.0043 - val_loss: 3.0247e-05 - val_mae: 0.0044\n",
      "Epoch 397/500\n",
      "11/11 [==============================] - 0s 4ms/step - loss: 2.7105e-05 - mae: 0.0042 - val_loss: 3.1449e-05 - val_mae: 0.0044\n",
      "Epoch 398/500\n",
      "11/11 [==============================] - 0s 4ms/step - loss: 2.8189e-05 - mae: 0.0042 - val_loss: 2.9618e-05 - val_mae: 0.0044\n",
      "Epoch 399/500\n",
      "11/11 [==============================] - 0s 4ms/step - loss: 2.6395e-05 - mae: 0.0041 - val_loss: 2.9959e-05 - val_mae: 0.0042\n",
      "Epoch 400/500\n",
      "11/11 [==============================] - 0s 4ms/step - loss: 2.6793e-05 - mae: 0.0041 - val_loss: 2.9799e-05 - val_mae: 0.0042\n",
      "Epoch 401/500\n",
      "11/11 [==============================] - 0s 5ms/step - loss: 2.6373e-05 - mae: 0.0041 - val_loss: 2.6970e-05 - val_mae: 0.0039\n",
      "Epoch 402/500\n",
      "11/11 [==============================] - 0s 4ms/step - loss: 2.7894e-05 - mae: 0.0042 - val_loss: 3.1772e-05 - val_mae: 0.0046\n",
      "Epoch 403/500\n",
      "11/11 [==============================] - 0s 4ms/step - loss: 2.5672e-05 - mae: 0.0041 - val_loss: 3.8178e-05 - val_mae: 0.0054\n",
      "Epoch 404/500\n",
      "11/11 [==============================] - 0s 4ms/step - loss: 3.2699e-05 - mae: 0.0048 - val_loss: 3.2380e-05 - val_mae: 0.0047\n",
      "Epoch 405/500\n",
      "11/11 [==============================] - 0s 4ms/step - loss: 2.8718e-05 - mae: 0.0044 - val_loss: 3.2523e-05 - val_mae: 0.0044\n",
      "Epoch 406/500\n",
      "11/11 [==============================] - 0s 4ms/step - loss: 2.8627e-05 - mae: 0.0044 - val_loss: 2.7750e-05 - val_mae: 0.0041\n",
      "Epoch 407/500\n",
      "11/11 [==============================] - 0s 4ms/step - loss: 2.7741e-05 - mae: 0.0043 - val_loss: 3.4832e-05 - val_mae: 0.0051\n",
      "Epoch 408/500\n",
      "11/11 [==============================] - 0s 4ms/step - loss: 2.8507e-05 - mae: 0.0044 - val_loss: 3.4232e-05 - val_mae: 0.0047\n",
      "Epoch 409/500\n",
      "11/11 [==============================] - 0s 4ms/step - loss: 2.7943e-05 - mae: 0.0044 - val_loss: 2.7391e-05 - val_mae: 0.0042\n",
      "Epoch 410/500\n",
      "11/11 [==============================] - 0s 4ms/step - loss: 2.5818e-05 - mae: 0.0041 - val_loss: 2.5305e-05 - val_mae: 0.0038\n",
      "Epoch 411/500\n",
      "11/11 [==============================] - 0s 4ms/step - loss: 2.4892e-05 - mae: 0.0040 - val_loss: 2.8882e-05 - val_mae: 0.0043\n",
      "Epoch 412/500\n",
      "11/11 [==============================] - 0s 4ms/step - loss: 2.9632e-05 - mae: 0.0045 - val_loss: 4.6604e-05 - val_mae: 0.0057\n",
      "Epoch 413/500\n",
      "11/11 [==============================] - 0s 4ms/step - loss: 3.2493e-05 - mae: 0.0048 - val_loss: 2.7421e-05 - val_mae: 0.0041\n",
      "Epoch 414/500\n",
      "11/11 [==============================] - 0s 4ms/step - loss: 3.0322e-05 - mae: 0.0045 - val_loss: 3.0577e-05 - val_mae: 0.0045\n",
      "Epoch 415/500\n",
      "11/11 [==============================] - 0s 4ms/step - loss: 2.5496e-05 - mae: 0.0041 - val_loss: 2.8436e-05 - val_mae: 0.0044\n",
      "Epoch 416/500\n",
      "11/11 [==============================] - 0s 4ms/step - loss: 2.6187e-05 - mae: 0.0041 - val_loss: 3.4672e-05 - val_mae: 0.0051\n",
      "Epoch 417/500\n",
      "11/11 [==============================] - 0s 4ms/step - loss: 3.1284e-05 - mae: 0.0048 - val_loss: 3.5793e-05 - val_mae: 0.0051\n",
      "Epoch 418/500\n",
      "11/11 [==============================] - 0s 4ms/step - loss: 3.1846e-05 - mae: 0.0048 - val_loss: 3.7375e-05 - val_mae: 0.0053\n",
      "Epoch 419/500\n",
      "11/11 [==============================] - 0s 4ms/step - loss: 2.7756e-05 - mae: 0.0042 - val_loss: 2.7756e-05 - val_mae: 0.0041\n",
      "Epoch 420/500\n",
      "11/11 [==============================] - 0s 4ms/step - loss: 2.4023e-05 - mae: 0.0039 - val_loss: 2.6172e-05 - val_mae: 0.0039\n",
      "Epoch 421/500\n",
      "11/11 [==============================] - 0s 4ms/step - loss: 2.6747e-05 - mae: 0.0042 - val_loss: 2.5813e-05 - val_mae: 0.0039\n",
      "Epoch 422/500\n",
      "11/11 [==============================] - 0s 4ms/step - loss: 3.0203e-05 - mae: 0.0046 - val_loss: 3.0611e-05 - val_mae: 0.0047\n",
      "Epoch 423/500\n",
      "11/11 [==============================] - 0s 4ms/step - loss: 2.5865e-05 - mae: 0.0041 - val_loss: 2.6292e-05 - val_mae: 0.0040\n",
      "Epoch 424/500\n",
      "11/11 [==============================] - 0s 4ms/step - loss: 2.3362e-05 - mae: 0.0039 - val_loss: 2.9673e-05 - val_mae: 0.0047\n",
      "Epoch 425/500\n",
      "11/11 [==============================] - 0s 4ms/step - loss: 2.4990e-05 - mae: 0.0041 - val_loss: 2.5081e-05 - val_mae: 0.0039\n",
      "Epoch 426/500\n",
      "11/11 [==============================] - 0s 4ms/step - loss: 2.2895e-05 - mae: 0.0038 - val_loss: 3.1777e-05 - val_mae: 0.0049\n",
      "Epoch 427/500\n",
      "11/11 [==============================] - 0s 4ms/step - loss: 2.4887e-05 - mae: 0.0041 - val_loss: 2.4036e-05 - val_mae: 0.0038\n",
      "Epoch 428/500\n",
      "11/11 [==============================] - 0s 4ms/step - loss: 2.3851e-05 - mae: 0.0040 - val_loss: 2.3356e-05 - val_mae: 0.0036\n",
      "Epoch 429/500\n",
      "11/11 [==============================] - 0s 4ms/step - loss: 2.3892e-05 - mae: 0.0040 - val_loss: 4.2157e-05 - val_mae: 0.0055\n",
      "Epoch 430/500\n",
      "11/11 [==============================] - 0s 4ms/step - loss: 3.8623e-05 - mae: 0.0052 - val_loss: 3.3261e-05 - val_mae: 0.0051\n",
      "Epoch 431/500\n",
      "11/11 [==============================] - 0s 4ms/step - loss: 3.2828e-05 - mae: 0.0049 - val_loss: 4.4297e-05 - val_mae: 0.0060\n",
      "Epoch 432/500\n",
      "11/11 [==============================] - 0s 4ms/step - loss: 3.7618e-05 - mae: 0.0052 - val_loss: 3.8500e-05 - val_mae: 0.0053\n",
      "Epoch 433/500\n",
      "11/11 [==============================] - 0s 4ms/step - loss: 3.1689e-05 - mae: 0.0047 - val_loss: 2.7590e-05 - val_mae: 0.0044\n",
      "Epoch 434/500\n",
      "11/11 [==============================] - 0s 4ms/step - loss: 2.8929e-05 - mae: 0.0045 - val_loss: 2.5546e-05 - val_mae: 0.0039\n",
      "Epoch 435/500\n",
      "11/11 [==============================] - 0s 4ms/step - loss: 2.5491e-05 - mae: 0.0042 - val_loss: 3.4378e-05 - val_mae: 0.0051\n",
      "Epoch 436/500\n",
      "11/11 [==============================] - 0s 4ms/step - loss: 2.6519e-05 - mae: 0.0042 - val_loss: 2.9072e-05 - val_mae: 0.0044\n",
      "Epoch 437/500\n",
      "11/11 [==============================] - 0s 4ms/step - loss: 2.5171e-05 - mae: 0.0041 - val_loss: 2.4794e-05 - val_mae: 0.0040\n",
      "Epoch 438/500\n",
      "11/11 [==============================] - 0s 4ms/step - loss: 2.5157e-05 - mae: 0.0041 - val_loss: 2.4805e-05 - val_mae: 0.0040\n",
      "Epoch 439/500\n",
      "11/11 [==============================] - 0s 4ms/step - loss: 2.3872e-05 - mae: 0.0040 - val_loss: 2.5361e-05 - val_mae: 0.0040\n",
      "Epoch 440/500\n",
      "11/11 [==============================] - 0s 4ms/step - loss: 2.5609e-05 - mae: 0.0042 - val_loss: 2.1392e-05 - val_mae: 0.0035\n",
      "Epoch 441/500\n",
      "11/11 [==============================] - 0s 4ms/step - loss: 2.3327e-05 - mae: 0.0039 - val_loss: 2.3289e-05 - val_mae: 0.0039\n",
      "Epoch 442/500\n",
      "11/11 [==============================] - 0s 4ms/step - loss: 2.2905e-05 - mae: 0.0039 - val_loss: 2.7292e-05 - val_mae: 0.0042\n",
      "Epoch 443/500\n",
      "11/11 [==============================] - 0s 4ms/step - loss: 2.2576e-05 - mae: 0.0039 - val_loss: 2.5810e-05 - val_mae: 0.0043\n",
      "Epoch 444/500\n",
      "11/11 [==============================] - 0s 4ms/step - loss: 2.1382e-05 - mae: 0.0037 - val_loss: 2.4728e-05 - val_mae: 0.0042\n",
      "Epoch 445/500\n",
      "11/11 [==============================] - 0s 5ms/step - loss: 2.1770e-05 - mae: 0.0038 - val_loss: 2.4038e-05 - val_mae: 0.0040\n",
      "Epoch 446/500\n",
      "11/11 [==============================] - 0s 4ms/step - loss: 2.3256e-05 - mae: 0.0040 - val_loss: 2.9032e-05 - val_mae: 0.0046\n",
      "Epoch 447/500\n",
      "11/11 [==============================] - 0s 4ms/step - loss: 2.4086e-05 - mae: 0.0041 - val_loss: 2.2839e-05 - val_mae: 0.0039\n",
      "Epoch 448/500\n",
      "11/11 [==============================] - 0s 4ms/step - loss: 2.0545e-05 - mae: 0.0036 - val_loss: 2.3060e-05 - val_mae: 0.0040\n",
      "Epoch 449/500\n",
      "11/11 [==============================] - 0s 4ms/step - loss: 2.0854e-05 - mae: 0.0038 - val_loss: 2.3012e-05 - val_mae: 0.0038\n",
      "Epoch 450/500\n",
      "11/11 [==============================] - 0s 4ms/step - loss: 2.0164e-05 - mae: 0.0036 - val_loss: 2.4126e-05 - val_mae: 0.0041\n",
      "Epoch 451/500\n",
      "11/11 [==============================] - 0s 4ms/step - loss: 2.0396e-05 - mae: 0.0037 - val_loss: 2.3364e-05 - val_mae: 0.0039\n",
      "Epoch 452/500\n",
      "11/11 [==============================] - 0s 4ms/step - loss: 2.4559e-05 - mae: 0.0041 - val_loss: 2.2142e-05 - val_mae: 0.0037\n",
      "Epoch 453/500\n",
      "11/11 [==============================] - 0s 4ms/step - loss: 2.1857e-05 - mae: 0.0038 - val_loss: 2.0915e-05 - val_mae: 0.0036\n",
      "Epoch 454/500\n",
      "11/11 [==============================] - 0s 4ms/step - loss: 2.0317e-05 - mae: 0.0037 - val_loss: 2.1238e-05 - val_mae: 0.0036\n",
      "Epoch 455/500\n",
      "11/11 [==============================] - 0s 4ms/step - loss: 1.9644e-05 - mae: 0.0036 - val_loss: 2.1248e-05 - val_mae: 0.0036\n",
      "Epoch 456/500\n",
      "11/11 [==============================] - 0s 4ms/step - loss: 2.0991e-05 - mae: 0.0038 - val_loss: 2.3372e-05 - val_mae: 0.0041\n",
      "Epoch 457/500\n",
      "11/11 [==============================] - 0s 4ms/step - loss: 1.9319e-05 - mae: 0.0036 - val_loss: 2.0592e-05 - val_mae: 0.0036\n",
      "Epoch 458/500\n",
      "11/11 [==============================] - 0s 4ms/step - loss: 1.9388e-05 - mae: 0.0036 - val_loss: 1.9881e-05 - val_mae: 0.0035\n",
      "Epoch 459/500\n",
      "11/11 [==============================] - 0s 4ms/step - loss: 1.8535e-05 - mae: 0.0035 - val_loss: 2.3420e-05 - val_mae: 0.0039\n",
      "Epoch 460/500\n",
      "11/11 [==============================] - 0s 4ms/step - loss: 2.2973e-05 - mae: 0.0040 - val_loss: 2.5325e-05 - val_mae: 0.0044\n",
      "Epoch 461/500\n",
      "11/11 [==============================] - 0s 5ms/step - loss: 2.0847e-05 - mae: 0.0038 - val_loss: 1.8452e-05 - val_mae: 0.0032\n",
      "Epoch 462/500\n",
      "11/11 [==============================] - 0s 4ms/step - loss: 1.7811e-05 - mae: 0.0034 - val_loss: 2.3489e-05 - val_mae: 0.0040\n",
      "Epoch 463/500\n",
      "11/11 [==============================] - 0s 4ms/step - loss: 2.1559e-05 - mae: 0.0039 - val_loss: 1.8966e-05 - val_mae: 0.0033\n",
      "Epoch 464/500\n",
      "11/11 [==============================] - 0s 4ms/step - loss: 2.3069e-05 - mae: 0.0040 - val_loss: 2.9115e-05 - val_mae: 0.0047\n",
      "Epoch 465/500\n",
      "11/11 [==============================] - 0s 4ms/step - loss: 1.9663e-05 - mae: 0.0036 - val_loss: 2.3733e-05 - val_mae: 0.0038\n",
      "Epoch 466/500\n",
      "11/11 [==============================] - 0s 4ms/step - loss: 2.0572e-05 - mae: 0.0038 - val_loss: 1.8752e-05 - val_mae: 0.0033\n",
      "Epoch 467/500\n",
      "11/11 [==============================] - 0s 4ms/step - loss: 2.3796e-05 - mae: 0.0041 - val_loss: 2.8093e-05 - val_mae: 0.0046\n",
      "Epoch 468/500\n",
      "11/11 [==============================] - 0s 4ms/step - loss: 2.8416e-05 - mae: 0.0045 - val_loss: 1.8071e-05 - val_mae: 0.0033\n",
      "Epoch 469/500\n",
      "11/11 [==============================] - 0s 4ms/step - loss: 2.0197e-05 - mae: 0.0037 - val_loss: 2.0059e-05 - val_mae: 0.0036\n",
      "Epoch 470/500\n",
      "11/11 [==============================] - 0s 4ms/step - loss: 2.0988e-05 - mae: 0.0037 - val_loss: 1.9165e-05 - val_mae: 0.0035\n",
      "Epoch 471/500\n",
      "11/11 [==============================] - 0s 4ms/step - loss: 1.7288e-05 - mae: 0.0033 - val_loss: 1.8093e-05 - val_mae: 0.0033\n",
      "Epoch 472/500\n",
      "11/11 [==============================] - 0s 4ms/step - loss: 1.6732e-05 - mae: 0.0033 - val_loss: 1.8616e-05 - val_mae: 0.0034\n",
      "Epoch 473/500\n",
      "11/11 [==============================] - 0s 5ms/step - loss: 1.6851e-05 - mae: 0.0033 - val_loss: 1.7979e-05 - val_mae: 0.0033\n",
      "Epoch 474/500\n",
      "11/11 [==============================] - 0s 4ms/step - loss: 1.6706e-05 - mae: 0.0033 - val_loss: 1.7818e-05 - val_mae: 0.0033\n",
      "Epoch 475/500\n",
      "11/11 [==============================] - 0s 4ms/step - loss: 1.6374e-05 - mae: 0.0033 - val_loss: 1.9106e-05 - val_mae: 0.0036\n",
      "Epoch 476/500\n",
      "11/11 [==============================] - 0s 4ms/step - loss: 1.8748e-05 - mae: 0.0036 - val_loss: 2.0951e-05 - val_mae: 0.0036\n",
      "Epoch 477/500\n",
      "11/11 [==============================] - 0s 4ms/step - loss: 2.0235e-05 - mae: 0.0037 - val_loss: 1.8620e-05 - val_mae: 0.0035\n",
      "Epoch 478/500\n",
      "11/11 [==============================] - 0s 4ms/step - loss: 1.8119e-05 - mae: 0.0034 - val_loss: 1.8242e-05 - val_mae: 0.0033\n",
      "Epoch 479/500\n",
      "11/11 [==============================] - 0s 4ms/step - loss: 1.6847e-05 - mae: 0.0032 - val_loss: 1.7076e-05 - val_mae: 0.0032\n",
      "Epoch 480/500\n",
      "11/11 [==============================] - 0s 4ms/step - loss: 1.5349e-05 - mae: 0.0031 - val_loss: 2.7235e-05 - val_mae: 0.0046\n",
      "Epoch 481/500\n",
      "11/11 [==============================] - 0s 4ms/step - loss: 2.0213e-05 - mae: 0.0038 - val_loss: 2.1855e-05 - val_mae: 0.0040\n",
      "Epoch 482/500\n",
      "11/11 [==============================] - 0s 4ms/step - loss: 1.9239e-05 - mae: 0.0037 - val_loss: 2.5529e-05 - val_mae: 0.0045\n",
      "Epoch 483/500\n",
      "11/11 [==============================] - 0s 5ms/step - loss: 2.4489e-05 - mae: 0.0042 - val_loss: 1.6348e-05 - val_mae: 0.0032\n",
      "Epoch 484/500\n",
      "11/11 [==============================] - 0s 4ms/step - loss: 1.8031e-05 - mae: 0.0034 - val_loss: 1.7439e-05 - val_mae: 0.0032\n",
      "Epoch 485/500\n",
      "11/11 [==============================] - 0s 4ms/step - loss: 1.5326e-05 - mae: 0.0031 - val_loss: 1.6145e-05 - val_mae: 0.0030\n",
      "Epoch 486/500\n",
      "11/11 [==============================] - 0s 4ms/step - loss: 1.5511e-05 - mae: 0.0031 - val_loss: 2.6303e-05 - val_mae: 0.0045\n",
      "Epoch 487/500\n",
      "11/11 [==============================] - 0s 4ms/step - loss: 1.8129e-05 - mae: 0.0035 - val_loss: 2.0040e-05 - val_mae: 0.0037\n",
      "Epoch 488/500\n",
      "11/11 [==============================] - 0s 4ms/step - loss: 2.0682e-05 - mae: 0.0038 - val_loss: 2.2859e-05 - val_mae: 0.0041\n",
      "Epoch 489/500\n",
      "11/11 [==============================] - 0s 4ms/step - loss: 2.2499e-05 - mae: 0.0041 - val_loss: 4.1679e-05 - val_mae: 0.0056\n",
      "Epoch 490/500\n",
      "11/11 [==============================] - 0s 4ms/step - loss: 3.1368e-05 - mae: 0.0046 - val_loss: 1.6551e-05 - val_mae: 0.0033\n",
      "Epoch 491/500\n",
      "11/11 [==============================] - 0s 4ms/step - loss: 1.5555e-05 - mae: 0.0031 - val_loss: 1.8457e-05 - val_mae: 0.0036\n",
      "Epoch 492/500\n",
      "11/11 [==============================] - 0s 5ms/step - loss: 1.4808e-05 - mae: 0.0031 - val_loss: 1.5218e-05 - val_mae: 0.0030\n",
      "Epoch 493/500\n",
      "11/11 [==============================] - 0s 4ms/step - loss: 1.4830e-05 - mae: 0.0031 - val_loss: 1.3884e-05 - val_mae: 0.0028\n",
      "Epoch 494/500\n",
      "11/11 [==============================] - 0s 4ms/step - loss: 1.3993e-05 - mae: 0.0029 - val_loss: 1.5110e-05 - val_mae: 0.0030\n",
      "Epoch 495/500\n",
      "11/11 [==============================] - 0s 4ms/step - loss: 1.4002e-05 - mae: 0.0030 - val_loss: 1.4785e-05 - val_mae: 0.0029\n",
      "Epoch 496/500\n",
      "11/11 [==============================] - 0s 4ms/step - loss: 1.2805e-05 - mae: 0.0028 - val_loss: 1.5264e-05 - val_mae: 0.0030\n",
      "Epoch 497/500\n",
      "11/11 [==============================] - 0s 4ms/step - loss: 1.3118e-05 - mae: 0.0029 - val_loss: 1.6551e-05 - val_mae: 0.0033\n",
      "Epoch 498/500\n",
      "11/11 [==============================] - 0s 4ms/step - loss: 1.5999e-05 - mae: 0.0033 - val_loss: 1.8022e-05 - val_mae: 0.0036\n",
      "Epoch 499/500\n",
      "11/11 [==============================] - 0s 4ms/step - loss: 1.6511e-05 - mae: 0.0034 - val_loss: 1.4949e-05 - val_mae: 0.0031\n",
      "Epoch 500/500\n",
      "11/11 [==============================] - 0s 4ms/step - loss: 1.3681e-05 - mae: 0.0030 - val_loss: 1.4924e-05 - val_mae: 0.0031\n"
     ]
    }
   ],
   "source": [
    "history = ann.fit(X_train, y_train,\n",
    "                    validation_data = (X_val, y_val),\n",
    "                    callbacks=[es],\n",
    "                    epochs=500,\n",
    "                    batch_size=40,\n",
    "                    verbose=1)"
   ]
  },
  {
   "cell_type": "markdown",
   "metadata": {
    "colab_type": "text",
    "id": "0H0zKKNEBLD5"
   },
   "source": [
    "### Analyse learn history"
   ]
  },
  {
   "cell_type": "code",
   "execution_count": 16,
   "metadata": {
    "ExecuteTime": {
     "end_time": "2023-08-29T14:15:42.606377900Z",
     "start_time": "2023-08-29T14:15:42.374825500Z"
    }
   },
   "outputs": [
    {
     "data": {
      "text/plain": "<Figure size 640x480 with 1 Axes>",
      "image/png": "[encoded data removed]"
     },
     "metadata": {},
     "output_type": "display_data"
    }
   ],
   "source": [
    "# let's see the training and validation accuracy by epoch\n",
    "history_dict = history.history\n",
    "loss_values = history_dict['loss'] # you can change this\n",
    "val_loss_values = history_dict['val_loss'] # you can also change this\n",
    "epochs = range(1, len(loss_values) + 1) # range of X (no. of epochs)\n",
    "plt.plot(epochs, loss_values, 'blue', label='Train set loss')\n",
    "plt.plot(epochs, val_loss_values, 'orange', label='Validation set loss')\n",
    "#plt.title('Training and testing loss')\n",
    "plt.xlabel('Epochs')\n",
    "plt.ylabel('Loss (MSE)')\n",
    "plt.legend()\n",
    "plt.show()"
   ]
  },
  {
   "cell_type": "code",
   "execution_count": 17,
   "metadata": {
    "ExecuteTime": {
     "end_time": "2023-08-29T14:15:44.723606800Z",
     "start_time": "2023-08-29T14:15:44.559395900Z"
    }
   },
   "outputs": [
    {
     "data": {
      "text/plain": "<Figure size 640x480 with 1 Axes>",
      "image/png": "[encoded data removed]"
     },
     "metadata": {},
     "output_type": "display_data"
    }
   ],
   "source": [
    "loss_values1 = history_dict['mae'] # you can change this\n",
    "val_loss_values1 = history_dict['val_mae'] # you can also change this\n",
    "epochs = range(1, len(loss_values1) + 1) # range of X (no. of epochs)\n",
    "plt.plot(epochs, loss_values1, 'blue', label='Train set MAE')\n",
    "plt.plot(epochs, val_loss_values1, 'orange', label='Validation set MAE')\n",
    "#plt.title('Training and testing MAE')\n",
    "plt.xlabel('Epochs')\n",
    "plt.ylabel('MAE')\n",
    "plt.legend()\n",
    "plt.show()"
   ]
  },
  {
   "cell_type": "code",
   "execution_count": 18,
   "metadata": {},
   "outputs": [
    {
     "name": "stdout",
     "output_type": "stream",
     "text": [
      "range(1, 408)\n"
     ]
    }
   ],
   "source": [
    "print (epochs)"
   ]
  },
  {
   "cell_type": "markdown",
   "metadata": {},
   "source": [
    "### Save the model"
   ]
  },
  {
   "cell_type": "code",
   "execution_count": 19,
   "metadata": {},
   "outputs": [],
   "source": [
    "ann.save('Change_ANN_model_1.h5')"
   ]
  },
  {
   "cell_type": "markdown",
   "metadata": {},
   "source": [
    "# Part 4 - Make predictions"
   ]
  },
  {
   "cell_type": "code",
   "execution_count": 7,
   "metadata": {},
   "outputs": [],
   "source": [
    "ann = load_model('Change_ANN_model_1.h5')"
   ]
  },
  {
   "cell_type": "code",
   "execution_count": 18,
   "metadata": {
    "ExecuteTime": {
     "end_time": "2023-08-29T14:15:55.978921700Z",
     "start_time": "2023-08-29T14:15:55.445833400Z"
    }
   },
   "outputs": [
    {
     "name": "stdout",
     "output_type": "stream",
     "text": [
      "13/13 [==============================] - 0s 2ms/step\n",
      "3/3 [==============================] - 0s 3ms/step\n"
     ]
    },
    {
     "data": {
      "text/plain": "<Figure size 640x480 with 2 Axes>",
      "image/png": "[encoded data removed]"
     },
     "metadata": {},
     "output_type": "display_data"
    }
   ],
   "source": [
    "# scatterplot of actual vs. pred\n",
    "# specify the dimensions \n",
    "fig, axes = plt.subplots(1,2) # 1 row, 2 columns\n",
    "\n",
    "# this makes the individual subplots\n",
    "# Training Results\n",
    "axes[0].scatter(x=y_train, y=ann.predict(X_train)) #first row, first entry (left top)\n",
    "axes[0].set_xlabel(\"Actual\", fontsize=10)\n",
    "axes[0].set_ylabel(\"Predicted\",  fontsize=10)\n",
    "axes[0].set_title(\"Training\")\n",
    "# add 45 deg line\n",
    "x = np.linspace(*axes[0].get_xlim())\n",
    "axes[0].plot(x, x, color='red')\n",
    "# Validation Results\n",
    "axes[1].scatter(x=y_val, y=ann.predict(X_val)) # first row, second entry (right top)\n",
    "axes[1].set_xlabel(\"Actual\", fontsize=10)\n",
    "axes[1].set_ylabel(\"Predicted\",  fontsize=10)\n",
    "axes[1].set_title(\"Validation\")\n",
    "# add 45 deg line\n",
    "x = np.linspace(*axes[1].get_xlim())\n",
    "axes[1].plot(x, x, color='red')\n",
    "\n",
    "# tight layout\n",
    "fig.tight_layout()\n",
    "\n",
    "# show the plot\n",
    "plt.show()"
   ]
  },
  {
   "cell_type": "code",
   "execution_count": 19,
   "metadata": {
    "colab": {
     "base_uri": "https://localhost:8080/",
     "height": 134
    },
    "colab_type": "code",
    "id": "IA0yApEmBG1X",
    "outputId": "cb981e1f-9204-4a2a-fece-9d66a6919189",
    "ExecuteTime": {
     "end_time": "2023-08-29T14:15:58.520539700Z",
     "start_time": "2023-08-29T14:15:58.399923400Z"
    }
   },
   "outputs": [
    {
     "name": "stdout",
     "output_type": "stream",
     "text": [
      "3/3 [==============================] - 0s 3ms/step\n",
      "[[ 5.41e-02  5.91e-02]\n",
      " [ 2.89e-02  3.02e-02]\n",
      " [ 7.70e-02  8.63e-02]\n",
      " [ 5.85e-03  4.07e-03]\n",
      " [ 2.52e-02  2.95e-02]\n",
      " [ 3.87e-02  4.03e-02]\n",
      " [ 7.33e-02  7.29e-02]\n",
      " [ 5.61e-02  5.44e-02]\n",
      " [-3.86e-04  3.67e-03]\n",
      " [ 7.63e-02  8.47e-02]\n",
      " [ 3.15e-02  3.16e-02]\n",
      " [ 3.94e-02  4.08e-02]\n",
      " [ 4.70e-02  4.63e-02]\n",
      " [ 7.63e-02  7.92e-02]\n",
      " [ 7.37e-02  7.73e-02]\n",
      " [ 1.09e-02  9.00e-03]\n",
      " [ 4.06e-02  4.23e-02]\n",
      " [ 1.28e-02  1.38e-02]\n",
      " [ 7.42e-02  7.84e-02]\n",
      " [ 3.33e-02  3.21e-02]\n",
      " [ 6.09e-03  4.24e-03]\n",
      " [ 1.94e-02  1.86e-02]\n",
      " [ 7.29e-02  7.62e-02]\n",
      " [ 6.85e-02  7.70e-02]\n",
      " [ 1.44e-02  1.26e-02]\n",
      " [ 5.72e-02  5.07e-02]\n",
      " [-3.04e-03  5.80e-04]\n",
      " [-7.89e-05  3.63e-03]\n",
      " [ 6.48e-02  7.11e-02]\n",
      " [ 7.67e-02  8.56e-02]\n",
      " [ 4.09e-02  3.93e-02]\n",
      " [ 3.01e-02  2.97e-02]\n",
      " [ 1.55e-02  2.21e-02]\n",
      " [ 6.55e-02  6.38e-02]\n",
      " [ 1.12e-02  1.25e-02]\n",
      " [ 7.12e-02  6.74e-02]\n",
      " [ 5.57e-02  5.94e-02]\n",
      " [ 1.58e-02  1.84e-02]\n",
      " [ 9.77e-03  1.27e-02]\n",
      " [ 1.61e-02  2.29e-02]\n",
      " [ 6.17e-02  5.54e-02]\n",
      " [ 6.95e-02  6.68e-02]\n",
      " [ 3.87e-02  3.74e-02]\n",
      " [ 5.07e-02  4.43e-02]\n",
      " [ 2.31e-02  2.37e-02]\n",
      " [ 2.28e-02  2.42e-02]\n",
      " [ 2.86e-02  3.04e-02]\n",
      " [ 1.92e-02  2.10e-02]\n",
      " [ 3.98e-02  4.17e-02]\n",
      " [ 4.54e-02  4.73e-02]\n",
      " [ 4.42e-03  7.92e-03]\n",
      " [-4.20e-04  3.66e-03]\n",
      " [-3.81e-03  3.50e-04]\n",
      " [ 7.27e-02  7.57e-02]\n",
      " [ 1.21e-02  1.24e-02]\n",
      " [ 7.13e-02  8.01e-02]\n",
      " [ 7.01e-02  7.20e-02]\n",
      " [ 6.78e-02  7.16e-02]\n",
      " [ 1.65e-02  1.80e-02]\n",
      " [ 3.97e-02  4.18e-02]\n",
      " [-2.16e-04  3.69e-03]\n",
      " [ 9.77e-03  1.31e-02]\n",
      " [ 7.42e-02  7.34e-02]\n",
      " [-3.58e-03  5.70e-04]\n",
      " [ 5.09e-02  5.36e-02]\n",
      " [ 6.31e-02  6.56e-02]\n",
      " [ 7.67e-02  8.35e-02]\n",
      " [ 6.61e-02  6.47e-02]\n",
      " [ 5.35e-03  6.60e-04]\n",
      " [ 6.22e-02  6.04e-02]\n",
      " [ 5.27e-02  4.90e-02]\n",
      " [ 7.63e-02  8.41e-02]\n",
      " [ 6.59e-02  6.61e-02]\n",
      " [ 7.00e-02  7.73e-02]\n",
      " [ 7.52e-02  8.17e-02]\n",
      " [ 1.07e-02  1.25e-02]\n",
      " [ 7.74e-02  8.29e-02]\n",
      " [ 7.46e-02  7.84e-02]\n",
      " [ 4.41e-02  4.29e-02]\n",
      " [ 4.91e-02  4.85e-02]\n",
      " [ 1.93e-02  2.00e-02]\n",
      " [ 2.96e-02  2.99e-02]\n",
      " [ 7.13e-02  7.24e-02]\n",
      " [ 7.43e-02  7.41e-02]\n",
      " [ 4.71e-03  7.99e-03]\n",
      " [ 6.88e-03  8.33e-03]\n",
      " [ 5.05e-02  4.41e-02]]\n"
     ]
    }
   ],
   "source": [
    "#X_test=np.asarray(X_test).astype(np.int)\n",
    "\n",
    "#y_test=np.asarray(y_test).astype(np.int)\n",
    "\n",
    "y_pred = ann.predict(X_test)\n",
    "np.set_printoptions(precision=2)\n",
    "print(np.concatenate((y_pred.reshape(len(y_pred),1), y_test.reshape(len(y_test),1)),1))"
   ]
  },
  {
   "cell_type": "code",
   "execution_count": 21,
   "metadata": {
    "ExecuteTime": {
     "end_time": "2023-08-29T14:17:04.817626400Z",
     "start_time": "2023-08-29T14:17:04.620923300Z"
    }
   },
   "outputs": [
    {
     "data": {
      "text/plain": "Text(0, 0.5, 'Predicted data')"
     },
     "execution_count": 21,
     "metadata": {},
     "output_type": "execute_result"
    },
    {
     "data": {
      "text/plain": "<Figure size 640x480 with 1 Axes>",
      "image/png": "[encoded data removed]"
     },
     "metadata": {},
     "output_type": "display_data"
    }
   ],
   "source": [
    "import matplotlib.pyplot as plt\n",
    "plt.scatter(y_test, y_pred, color=\"blue\")\n",
    "plt.plot ([0,0.09],[0,0.09], color = \"red\")\n",
    "plt.axis ([0,0.09,0,0.09])\n",
    "plt.xlabel ('Actual data')\n",
    "plt.ylabel ('Predicted data')"
   ]
  },
  {
   "cell_type": "code",
   "execution_count": 22,
   "metadata": {
    "ExecuteTime": {
     "end_time": "2023-08-29T14:18:34.094646600Z",
     "start_time": "2023-08-29T14:18:33.713020300Z"
    }
   },
   "outputs": [
    {
     "data": {
      "text/plain": "<Figure size 900x900 with 1 Axes>",
      "image/png": "[encoded data removed]"
     },
     "metadata": {},
     "output_type": "display_data"
    }
   ],
   "source": [
    "from sklearn.metrics import r2_score\n",
    "# Initialize layout\n",
    "fig1, ax1 = plt.subplots(figsize = (9, 9))\n",
    "\n",
    "\n",
    "#y = y_pred         # Model on prvious line is called here\n",
    "#x = y_test\n",
    "\n",
    "\n",
    "\n",
    "# Add scatterplot\n",
    "ax1.scatter(y_test, y_pred, s=70, alpha=1, edgecolors=\"k\",c='mediumblue',zorder=5, label = 'Points')\n",
    "\n",
    "\n",
    "plt.ylabel('Predicted change time (s)',fontsize = 25)\n",
    "plt.xlabel('Actual change time (s)',fontsize = 25)\n",
    "plt.xticks(fontsize = 19)\n",
    "plt.yticks(fontsize = 19)\n",
    "\n",
    "\n",
    "x1 = np.linspace(0,0.09)\n",
    "\n",
    "plt.plot(x1, x1, 'Red', label='45\\N{DEGREE SIGN} line',lw=2.5,alpha=1)\n",
    "plt.plot(x1, 1.1*x1, '--m', label='\\u00B110% Error',lw=2.5,alpha=0.7)\n",
    "plt.plot(x1, 0.9*x1,'m', linestyle='--',lw=2.5,alpha=0.7)\n",
    "plt.plot(x1, 1.2*x1, '-.g', label='\\u00B120% Error',lw=2.5,alpha=0.7)\n",
    "plt.plot(x1, 0.8*x1,'-.g',lw=2.5,alpha=0.7)\n",
    "\n",
    "plt.ylim(0, 0.09)\n",
    "plt.xlim(0, 0.09)\n",
    "plt.legend(loc='upper left',fontsize = 25)\n",
    "\n",
    "plt.grid()\n",
    "\n",
    "ax1.spines['left'].set_color('black')        # setting up Y-axis tick color to red\n",
    "ax1.spines['bottom'].set_color('black')         #setting up above X-axis tick color to red\n",
    "\n",
    "\n",
    "\n",
    "#ax1.annotate(\"$R^2$ = {:.3f}\".format(r2), (2500, 1000),fontsize = 25)  #Model is called here\n",
    "#ax1.annotate(\"Adj.$R^2$ = {:.3f}\".format(adj_r2), (2500, 750),fontsize = 25)\n",
    "\n",
    "#plt.savefig('plot1.png', dpi = 600, bbox_inches = 'tight')"
   ]
  },
  {
   "cell_type": "code",
   "execution_count": 23,
   "metadata": {
    "ExecuteTime": {
     "end_time": "2023-08-29T14:19:29.065490900Z",
     "start_time": "2023-08-29T14:19:28.869386900Z"
    }
   },
   "outputs": [
    {
     "name": "stdout",
     "output_type": "stream",
     "text": [
      "13/13 [==============================] - 0s 2ms/step\n",
      "0.002920294015217538\n",
      "0.0031778924608793354\n"
     ]
    }
   ],
   "source": [
    "# metrics\n",
    "\n",
    "trainpreds = ann.predict(X_train)\n",
    "\n",
    "from sklearn.metrics import mean_absolute_error\n",
    "print(mean_absolute_error(y_train, trainpreds)) # train\n",
    "print(mean_absolute_error(y_test, y_pred)) # test"
   ]
  },
  {
   "cell_type": "code",
   "execution_count": 24,
   "metadata": {
    "ExecuteTime": {
     "end_time": "2023-08-29T14:19:32.101960100Z",
     "start_time": "2023-08-29T14:19:32.059876700Z"
    }
   },
   "outputs": [
    {
     "name": "stdout",
     "output_type": "stream",
     "text": [
      "0.9794377381220691\n"
     ]
    }
   ],
   "source": [
    "from sklearn.metrics import r2_score\n",
    "r2 = r2_score(y_test, y_pred)\n",
    "print (r2)"
   ]
  },
  {
   "cell_type": "code",
   "execution_count": 25,
   "metadata": {
    "ExecuteTime": {
     "end_time": "2023-08-29T14:19:34.077653200Z",
     "start_time": "2023-08-29T14:19:33.998585600Z"
    }
   },
   "outputs": [
    {
     "name": "stdout",
     "output_type": "stream",
     "text": [
      "0.9806624829326465\n"
     ]
    }
   ],
   "source": [
    "r2_train = r2_score(y_train, trainpreds)\n",
    "print (r2_train)"
   ]
  },
  {
   "cell_type": "code",
   "execution_count": 26,
   "metadata": {
    "ExecuteTime": {
     "end_time": "2023-08-29T14:19:36.041256Z",
     "start_time": "2023-08-29T14:19:35.945932100Z"
    }
   },
   "outputs": [
    {
     "name": "stdout",
     "output_type": "stream",
     "text": [
      "Within 10% margin 64.37%\n",
      "Within 20% margin 80.46%\n",
      "Out of 20% margin 19.54%\n"
     ]
    }
   ],
   "source": [
    "count1 = 0\n",
    "for i in range(len(y_pred)):\n",
    "    line1 = y_pred[i] - 0.9*y_test[i]\n",
    "    line2 = y_pred[i] - 1.1*y_test[i]\n",
    "    #print ('line 1 ', line1)\n",
    "    #print ('line 2 ', line2)\n",
    "    mask1 = (line1 > 0) & (line2 < 0)\n",
    "    #print (mask)\n",
    "    count1 = np.sum(mask1+count1)\n",
    "    #print (count)\n",
    "\n",
    "count2 = 0\n",
    "for j in range(len(y_pred)):\n",
    "    line3 = y_pred[j] - 0.8*y_test[j]\n",
    "    line4 = y_pred[j] - 1.2*y_test[j]\n",
    "    mask2 = (line3 > 0) & (line4 < 0)\n",
    "    count2 = np.sum(mask2+count2)\n",
    "\n",
    "\n",
    "count3 = 0    \n",
    "for k in range(len(y_pred)):\n",
    "    line5 = y_pred[k] - 0.8*y_test[k]\n",
    "    line6 = y_pred[k] - 1.2*y_test[k]\n",
    "    mask3 = (line5 < 0) or (line6 > 0)\n",
    "    count3 = np.sum(mask3+count3)\n",
    "   \n",
    "\n",
    "print ('Within 10% margin', format((count1/len (y_pred)),'.2%'))\n",
    "print ('Within 20% margin', format((count2/len (y_pred)),'.2%'))\n",
    "print ('Out of 20% margin', format((count3/len (y_pred)),'.2%'))"
   ]
  },
  {
   "cell_type": "code",
   "execution_count": 27,
   "metadata": {
    "ExecuteTime": {
     "end_time": "2023-08-29T14:19:38.093669400Z",
     "start_time": "2023-08-29T14:19:37.994433500Z"
    }
   },
   "outputs": [
    {
     "name": "stdout",
     "output_type": "stream",
     "text": [
      "0.9789481604583089\n"
     ]
    }
   ],
   "source": [
    "adj_r2 = 1 - ((1 - r2) * (len(X_test) - 1) / (len(X_test) - len (X_test[0]) - 1))\n",
    "print (adj_r2)"
   ]
  },
  {
   "cell_type": "code",
   "execution_count": 28,
   "metadata": {
    "ExecuteTime": {
     "end_time": "2023-08-29T14:19:39.508162900Z",
     "start_time": "2023-08-29T14:19:39.422368400Z"
    }
   },
   "outputs": [
    {
     "data": {
      "text/plain": "0.003964674187635034"
     },
     "execution_count": 28,
     "metadata": {},
     "output_type": "execute_result"
    }
   ],
   "source": [
    "import math\n",
    "from sklearn.metrics import mean_squared_error\n",
    "\n",
    "math.sqrt(mean_squared_error(y_test, y_pred))"
   ]
  },
  {
   "cell_type": "code",
   "execution_count": 29,
   "metadata": {
    "ExecuteTime": {
     "end_time": "2023-08-29T14:19:41.068284300Z",
     "start_time": "2023-08-29T14:19:40.973324900Z"
    }
   },
   "outputs": [
    {
     "data": {
      "text/plain": "0.0031778924608793354"
     },
     "execution_count": 29,
     "metadata": {},
     "output_type": "execute_result"
    }
   ],
   "source": [
    "from sklearn.metrics import mean_absolute_error\n",
    "\n",
    "mean_absolute_error(y_test, y_pred)"
   ]
  },
  {
   "cell_type": "markdown",
   "source": [
    "# Part 5 - Use model"
   ],
   "metadata": {
    "collapsed": false
   }
  },
  {
   "cell_type": "markdown",
   "source": [
    "## Import libraries"
   ],
   "metadata": {
    "collapsed": false
   }
  },
  {
   "cell_type": "code",
   "execution_count": 1,
   "outputs": [],
   "source": [
    "from keras.models import load_model\n",
    "import numpy as np"
   ],
   "metadata": {
    "collapsed": false,
    "ExecuteTime": {
     "end_time": "2023-08-29T13:55:53.956103600Z",
     "start_time": "2023-08-29T13:55:49.437647400Z"
    }
   }
  },
  {
   "cell_type": "markdown",
   "source": [
    "## Load model"
   ],
   "metadata": {
    "collapsed": false
   }
  },
  {
   "cell_type": "code",
   "execution_count": 2,
   "outputs": [],
   "source": [
    "ann = load_model('Change_ANN_model_1.h5')"
   ],
   "metadata": {
    "collapsed": false,
    "ExecuteTime": {
     "end_time": "2023-08-29T13:55:56.861219400Z",
     "start_time": "2023-08-29T13:55:56.679009600Z"
    }
   }
  },
  {
   "cell_type": "markdown",
   "source": [
    "## Prediction"
   ],
   "metadata": {
    "collapsed": false
   }
  },
  {
   "cell_type": "code",
   "execution_count": 3,
   "outputs": [
    {
     "name": "stdout",
     "output_type": "stream",
     "text": [
      "[[20.  18.5]]\n",
      "1/1 [==============================] - 0s 163ms/step\n",
      "[[0.08082004]]\n",
      "Stored 'end_time' (ndarray)\n"
     ]
    }
   ],
   "source": [
    "charge_mass = 20\n",
    "standoff_distance = 18.5\n",
    "arr = np.array ([[charge_mass,standoff_distance]])\n",
    "print (arr)\n",
    "np.set_printoptions(precision=9)\n",
    "change_time = ann.predict(arr)\n",
    "print (change_time)\n",
    "%store change_time"
   ],
   "metadata": {
    "collapsed": false,
    "ExecuteTime": {
     "end_time": "2023-08-29T13:56:23.878224700Z",
     "start_time": "2023-08-29T13:56:23.620915400Z"
    }
   }
  }
 ],
 "metadata": {
  "colab": {
   "collapsed_sections": [],
   "name": "Artificial Neural Network",
   "provenance": [],
   "toc_visible": true
  },
  "kernelspec": {
   "display_name": "Python 3 (ipykernel)",
   "language": "python",
   "name": "python3"
  },
  "language_info": {
   "codemirror_mode": {
    "name": "ipython",
    "version": 3
   },
   "file_extension": ".py",
   "mimetype": "text/x-python",
   "name": "python",
   "nbconvert_exporter": "python",
   "pygments_lexer": "ipython3",
   "version": "3.9.7"
  }
 },
 "nbformat": 4,
 "nbformat_minor": 4
}
