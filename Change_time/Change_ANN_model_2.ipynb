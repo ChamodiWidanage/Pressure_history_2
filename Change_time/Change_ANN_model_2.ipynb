{
 "cells": [
  {
   "cell_type": "markdown",
   "source": [
    "# Part 1 - Data Preprocessing"
   ],
   "metadata": {
    "collapsed": false
   }
  },
  {
   "cell_type": "markdown",
   "source": [
    "### Importing the libraries"
   ],
   "metadata": {
    "collapsed": false
   }
  },
  {
   "cell_type": "code",
   "execution_count": 1,
   "metadata": {
    "colab": {},
    "colab_type": "code",
    "id": "lxChR1Rk-umf",
    "ExecuteTime": {
     "end_time": "2023-08-29T14:20:14.184615600Z",
     "start_time": "2023-08-29T14:20:09.506164900Z"
    }
   },
   "outputs": [],
   "source": [
    "import numpy as np\n",
    "import pandas as pd\n",
    "import tensorflow as tf\n",
    "import matplotlib.pyplot as plt\n",
    "from keras.models import load_model"
   ]
  },
  {
   "cell_type": "markdown",
   "metadata": {
    "colab_type": "text",
    "id": "-4zq8Mza_D9O"
   },
   "source": [
    "### Importing the dataset"
   ]
  },
  {
   "cell_type": "code",
   "execution_count": 2,
   "metadata": {
    "colab": {},
    "colab_type": "code",
    "id": "B9CV13Co_HHM",
    "ExecuteTime": {
     "end_time": "2023-08-29T14:20:16.443220500Z",
     "start_time": "2023-08-29T14:20:15.698277700Z"
    }
   },
   "outputs": [
    {
     "name": "stdout",
     "output_type": "stream",
     "text": [
      "<class 'pandas.core.frame.DataFrame'>\n",
      "RangeIndex: 576 entries, 0 to 575\n",
      "Data columns (total 4 columns):\n",
      " #   Column             Non-Null Count  Dtype  \n",
      "---  ------             --------------  -----  \n",
      " 0   Charge_mass        576 non-null    float64\n",
      " 1   Standoff_distance  576 non-null    int64  \n",
      " 2   Change_time        576 non-null    float64\n",
      " 3   Change_index       576 non-null    int64  \n",
      "dtypes: float64(2), int64(2)\n",
      "memory usage: 18.1 KB\n"
     ]
    }
   ],
   "source": [
    "dataset = pd.read_excel('Change_time.xlsx')\n",
    "dataset.info()"
   ]
  },
  {
   "cell_type": "code",
   "execution_count": 3,
   "metadata": {
    "ExecuteTime": {
     "end_time": "2023-08-29T14:20:18.318023500Z",
     "start_time": "2023-08-29T14:20:18.248453700Z"
    }
   },
   "outputs": [
    {
     "name": "stdout",
     "output_type": "stream",
     "text": [
      "(576, 2) (576,)\n"
     ]
    }
   ],
   "source": [
    "y = dataset['Change_time']\n",
    "X = dataset.drop(['Change_time','Change_index'], axis=1)\n",
    "print(X.shape, y.shape)"
   ]
  },
  {
   "cell_type": "code",
   "execution_count": 4,
   "metadata": {
    "ExecuteTime": {
     "end_time": "2023-08-29T14:20:20.286294400Z",
     "start_time": "2023-08-29T14:20:20.245621500Z"
    }
   },
   "outputs": [],
   "source": [
    "# convert to numpy array\n",
    "X = np.array(X)\n",
    "y = np.array(y)"
   ]
  },
  {
   "cell_type": "markdown",
   "metadata": {
    "colab_type": "text",
    "id": "VC6omXel_Up0"
   },
   "source": [
    "### Splitting the dataset into the Training set and Test set"
   ]
  },
  {
   "cell_type": "code",
   "execution_count": 5,
   "metadata": {
    "colab": {},
    "colab_type": "code",
    "id": "L5edeb2r_agx",
    "ExecuteTime": {
     "end_time": "2023-08-29T14:20:23.670325Z",
     "start_time": "2023-08-29T14:20:23.102735600Z"
    }
   },
   "outputs": [],
   "source": [
    "from sklearn.model_selection import train_test_split\n",
    "X_train, X_test, y_train, y_test = train_test_split(X,\n",
    "                                                    y,\n",
    "                                                    test_size = 0.3,\n",
    "                                                    random_state = 0)"
   ]
  },
  {
   "cell_type": "code",
   "execution_count": 6,
   "metadata": {
    "colab": {},
    "colab_type": "code",
    "id": "L5edeb2r_agx",
    "ExecuteTime": {
     "end_time": "2023-08-29T14:20:25.077711800Z",
     "start_time": "2023-08-29T14:20:25.039655400Z"
    }
   },
   "outputs": [],
   "source": [
    "X_val, X_test, y_val, y_test = train_test_split(X_test,\n",
    "                                                y_test,\n",
    "                                                test_size = 0.5,\n",
    "                                                random_state = 0)"
   ]
  },
  {
   "cell_type": "markdown",
   "metadata": {
    "colab_type": "text",
    "id": "_mSLlAT9_eyI"
   },
   "source": [
    "# Part 2 - Building the ANN"
   ]
  },
  {
   "cell_type": "markdown",
   "metadata": {
    "colab_type": "text",
    "id": "CsBULd_f_wLY"
   },
   "source": [
    "### Initializing the ANN"
   ]
  },
  {
   "cell_type": "code",
   "execution_count": 7,
   "metadata": {
    "colab": {},
    "colab_type": "code",
    "id": "J6Hd97Ls__Nz",
    "ExecuteTime": {
     "end_time": "2023-08-29T14:20:28.925633500Z",
     "start_time": "2023-08-29T14:20:28.886556300Z"
    }
   },
   "outputs": [],
   "source": [
    "ann = tf.keras.models.Sequential()"
   ]
  },
  {
   "cell_type": "markdown",
   "metadata": {
    "colab_type": "text",
    "id": "iitAFJS_ABUn"
   },
   "source": [
    "### Adding the input layer and the first hidden layer"
   ]
  },
  {
   "cell_type": "code",
   "execution_count": 8,
   "metadata": {
    "colab": {},
    "colab_type": "code",
    "id": "ksO_Vv40AHix",
    "ExecuteTime": {
     "end_time": "2023-08-29T14:22:03.361101500Z",
     "start_time": "2023-08-29T14:22:03.215192Z"
    }
   },
   "outputs": [],
   "source": [
    "ann.add(tf.keras.layers.Dense(units=8,\n",
    "                              input_shape=(X_train.shape[1],),\n",
    "                              activation='leaky_relu'))"
   ]
  },
  {
   "cell_type": "markdown",
   "metadata": {
    "colab_type": "text",
    "id": "-lb4kK_wAKbs"
   },
   "source": [
    "### Adding the second hidden layer"
   ]
  },
  {
   "cell_type": "code",
   "execution_count": 9,
   "metadata": {
    "colab": {},
    "colab_type": "code",
    "id": "c2357OqEAQOQ",
    "tags": [],
    "ExecuteTime": {
     "end_time": "2023-08-29T14:22:05.278638Z",
     "start_time": "2023-08-29T14:22:05.171888600Z"
    }
   },
   "outputs": [],
   "source": [
    "ann.add(tf.keras.layers.Dense(units=7,\n",
    "                              activation='leaky_relu'))"
   ]
  },
  {
   "cell_type": "markdown",
   "metadata": {
    "colab_type": "text",
    "id": "-lb4kK_wAKbs"
   },
   "source": [
    "### Adding the third hidden layer"
   ]
  },
  {
   "cell_type": "code",
   "execution_count": 10,
   "metadata": {
    "colab": {},
    "colab_type": "code",
    "id": "c2357OqEAQOQ",
    "tags": [],
    "ExecuteTime": {
     "end_time": "2023-08-29T14:22:07.072047100Z",
     "start_time": "2023-08-29T14:22:07.021845600Z"
    }
   },
   "outputs": [],
   "source": [
    "ann.add(tf.keras.layers.Dense(units=5,\n",
    "                              activation='leaky_relu'))"
   ]
  },
  {
   "cell_type": "markdown",
   "metadata": {
    "colab_type": "text",
    "id": "jwMOmKb3AdBY"
   },
   "source": [
    "### Adding the output layer"
   ]
  },
  {
   "cell_type": "code",
   "execution_count": 11,
   "metadata": {
    "colab": {},
    "colab_type": "code",
    "id": "YFATpzsUAkLL",
    "ExecuteTime": {
     "end_time": "2023-08-29T14:22:15.232140600Z",
     "start_time": "2023-08-29T14:22:15.150516400Z"
    }
   },
   "outputs": [],
   "source": [
    "ann.add(tf.keras.layers.Dense(units=1,\n",
    "                              activation='linear'))"
   ]
  },
  {
   "cell_type": "markdown",
   "metadata": {},
   "source": [
    "### what model looks like"
   ]
  },
  {
   "cell_type": "code",
   "execution_count": 12,
   "metadata": {
    "ExecuteTime": {
     "end_time": "2023-08-29T14:22:17.589037400Z",
     "start_time": "2023-08-29T14:22:17.460066900Z"
    }
   },
   "outputs": [
    {
     "name": "stdout",
     "output_type": "stream",
     "text": [
      "Model: \"sequential\"\n",
      "_________________________________________________________________\n",
      " Layer (type)                Output Shape              Param #   \n",
      "=================================================================\n",
      " dense (Dense)               (None, 8)                 24        \n",
      "                                                                 \n",
      " dense_1 (Dense)             (None, 7)                 63        \n",
      "                                                                 \n",
      " dense_2 (Dense)             (None, 5)                 40        \n",
      "                                                                 \n",
      " dense_3 (Dense)             (None, 1)                 6         \n",
      "                                                                 \n",
      "=================================================================\n",
      "Total params: 133\n",
      "Trainable params: 133\n",
      "Non-trainable params: 0\n",
      "_________________________________________________________________\n"
     ]
    }
   ],
   "source": [
    "ann.summary()"
   ]
  },
  {
   "cell_type": "markdown",
   "metadata": {
    "colab_type": "text",
    "id": "fq7e4fF6A1yy"
   },
   "source": [
    "# Part 3 - Training the ANN"
   ]
  },
  {
   "cell_type": "markdown",
   "metadata": {
    "colab_type": "text",
    "id": "qDeylAs2An25"
   },
   "source": [
    "### Compiling the ANN"
   ]
  },
  {
   "cell_type": "code",
   "execution_count": 13,
   "metadata": {
    "colab": {},
    "colab_type": "code",
    "id": "pesgbWlCAtB4",
    "ExecuteTime": {
     "end_time": "2023-08-29T14:22:20.457199700Z",
     "start_time": "2023-08-29T14:22:20.397346Z"
    }
   },
   "outputs": [],
   "source": [
    "from tensorflow.keras.optimizers import Adam\n",
    "opt = Adam(learning_rate=0.01)\n",
    "ann.compile(optimizer = opt,\n",
    "            loss = 'mean_squared_error',\n",
    "            metrics = ['mae'])"
   ]
  },
  {
   "cell_type": "markdown",
   "metadata": {},
   "source": [
    "### early stopping callback"
   ]
  },
  {
   "cell_type": "code",
   "execution_count": 14,
   "metadata": {
    "ExecuteTime": {
     "end_time": "2023-08-29T14:22:22.716104800Z",
     "start_time": "2023-08-29T14:22:22.580110300Z"
    }
   },
   "outputs": [],
   "source": [
    "# protects from unnecessary further training of the model if a particular metric does not continue to improve over a number of n epochs. In such a case, the model training would be automatically aborted.\n",
    "from keras.callbacks import EarlyStopping\n",
    "es = EarlyStopping(monitor='val_loss',\n",
    "                   mode='min',\n",
    "                   patience=50,\n",
    "                   restore_best_weights = True)"
   ]
  },
  {
   "cell_type": "markdown",
   "metadata": {
    "colab_type": "text",
    "id": "YjVuiybYOo7r"
   },
   "source": [
    "### Training the ANN model on the Training set"
   ]
  },
  {
   "cell_type": "code",
   "execution_count": 15,
   "metadata": {
    "colab": {
     "base_uri": "https://localhost:8080/",
     "height": 1000
    },
    "colab_type": "code",
    "id": "c_vV-tiiA5zn",
    "outputId": "4a2b6ee6-ed75-4698-9069-b250e613803f",
    "ExecuteTime": {
     "end_time": "2023-08-29T14:22:50.776095900Z",
     "start_time": "2023-08-29T14:22:25.123919400Z"
    }
   },
   "outputs": [
    {
     "name": "stdout",
     "output_type": "stream",
     "text": [
      "Epoch 1/500\n",
      "11/11 [==============================] - 1s 48ms/step - loss: 218.7752 - mae: 11.4704 - val_loss: 32.8061 - val_mae: 4.7462\n",
      "Epoch 2/500\n",
      "11/11 [==============================] - 0s 5ms/step - loss: 34.7997 - mae: 4.7345 - val_loss: 3.4660 - val_mae: 1.5022\n",
      "Epoch 3/500\n",
      "11/11 [==============================] - 0s 5ms/step - loss: 6.2078 - mae: 2.0402 - val_loss: 7.9870 - val_mae: 2.4073\n",
      "Epoch 4/500\n",
      "11/11 [==============================] - 0s 5ms/step - loss: 2.7377 - mae: 1.2435 - val_loss: 0.6030 - val_mae: 0.5670\n",
      "Epoch 5/500\n",
      "11/11 [==============================] - 0s 5ms/step - loss: 1.0393 - mae: 0.8699 - val_loss: 0.4998 - val_mae: 0.5941\n",
      "Epoch 6/500\n",
      "11/11 [==============================] - 0s 5ms/step - loss: 0.2698 - mae: 0.4194 - val_loss: 0.3258 - val_mae: 0.4750\n",
      "Epoch 7/500\n",
      "11/11 [==============================] - 0s 4ms/step - loss: 0.2230 - mae: 0.3785 - val_loss: 0.1429 - val_mae: 0.3319\n",
      "Epoch 8/500\n",
      "11/11 [==============================] - 0s 5ms/step - loss: 0.1210 - mae: 0.2922 - val_loss: 0.1256 - val_mae: 0.2787\n",
      "Epoch 9/500\n",
      "11/11 [==============================] - 0s 5ms/step - loss: 0.1068 - mae: 0.2726 - val_loss: 0.1132 - val_mae: 0.2854\n",
      "Epoch 10/500\n",
      "11/11 [==============================] - 0s 4ms/step - loss: 0.0960 - mae: 0.2586 - val_loss: 0.1052 - val_mae: 0.2711\n",
      "Epoch 11/500\n",
      "11/11 [==============================] - 0s 5ms/step - loss: 0.0855 - mae: 0.2424 - val_loss: 0.0925 - val_mae: 0.2469\n",
      "Epoch 12/500\n",
      "11/11 [==============================] - 0s 5ms/step - loss: 0.0798 - mae: 0.2352 - val_loss: 0.0899 - val_mae: 0.2501\n",
      "Epoch 13/500\n",
      "11/11 [==============================] - 0s 5ms/step - loss: 0.0739 - mae: 0.2269 - val_loss: 0.0807 - val_mae: 0.2322\n",
      "Epoch 14/500\n",
      "11/11 [==============================] - 0s 5ms/step - loss: 0.0705 - mae: 0.2197 - val_loss: 0.0760 - val_mae: 0.2247\n",
      "Epoch 15/500\n",
      "11/11 [==============================] - 0s 5ms/step - loss: 0.0661 - mae: 0.2135 - val_loss: 0.0735 - val_mae: 0.2241\n",
      "Epoch 16/500\n",
      "11/11 [==============================] - 0s 5ms/step - loss: 0.0615 - mae: 0.2061 - val_loss: 0.0675 - val_mae: 0.2138\n",
      "Epoch 17/500\n",
      "11/11 [==============================] - 0s 4ms/step - loss: 0.0583 - mae: 0.2012 - val_loss: 0.0639 - val_mae: 0.2080\n",
      "Epoch 18/500\n",
      "11/11 [==============================] - 0s 5ms/step - loss: 0.0540 - mae: 0.1918 - val_loss: 0.0587 - val_mae: 0.1965\n",
      "Epoch 19/500\n",
      "11/11 [==============================] - 0s 5ms/step - loss: 0.0506 - mae: 0.1858 - val_loss: 0.0558 - val_mae: 0.1924\n",
      "Epoch 20/500\n",
      "11/11 [==============================] - 0s 5ms/step - loss: 0.0482 - mae: 0.1817 - val_loss: 0.0524 - val_mae: 0.1871\n",
      "Epoch 21/500\n",
      "11/11 [==============================] - 0s 5ms/step - loss: 0.0442 - mae: 0.1747 - val_loss: 0.0483 - val_mae: 0.1806\n",
      "Epoch 22/500\n",
      "11/11 [==============================] - 0s 5ms/step - loss: 0.0413 - mae: 0.1691 - val_loss: 0.0446 - val_mae: 0.1727\n",
      "Epoch 23/500\n",
      "11/11 [==============================] - 0s 5ms/step - loss: 0.0387 - mae: 0.1633 - val_loss: 0.0414 - val_mae: 0.1647\n",
      "Epoch 24/500\n",
      "11/11 [==============================] - 0s 5ms/step - loss: 0.0371 - mae: 0.1590 - val_loss: 0.0390 - val_mae: 0.1605\n",
      "Epoch 25/500\n",
      "11/11 [==============================] - 0s 4ms/step - loss: 0.0334 - mae: 0.1509 - val_loss: 0.0367 - val_mae: 0.1554\n",
      "Epoch 26/500\n",
      "11/11 [==============================] - 0s 5ms/step - loss: 0.0312 - mae: 0.1458 - val_loss: 0.0343 - val_mae: 0.1506\n",
      "Epoch 27/500\n",
      "11/11 [==============================] - 0s 5ms/step - loss: 0.0290 - mae: 0.1407 - val_loss: 0.0313 - val_mae: 0.1435\n",
      "Epoch 28/500\n",
      "11/11 [==============================] - 0s 5ms/step - loss: 0.0270 - mae: 0.1356 - val_loss: 0.0292 - val_mae: 0.1379\n",
      "Epoch 29/500\n",
      "11/11 [==============================] - 0s 5ms/step - loss: 0.0254 - mae: 0.1303 - val_loss: 0.0278 - val_mae: 0.1362\n",
      "Epoch 30/500\n",
      "11/11 [==============================] - 0s 5ms/step - loss: 0.0249 - mae: 0.1302 - val_loss: 0.0245 - val_mae: 0.1277\n",
      "Epoch 31/500\n",
      "11/11 [==============================] - 0s 4ms/step - loss: 0.0228 - mae: 0.1246 - val_loss: 0.0231 - val_mae: 0.1256\n",
      "Epoch 32/500\n",
      "11/11 [==============================] - 0s 5ms/step - loss: 0.0206 - mae: 0.1185 - val_loss: 0.0211 - val_mae: 0.1195\n",
      "Epoch 33/500\n",
      "11/11 [==============================] - 0s 5ms/step - loss: 0.0186 - mae: 0.1132 - val_loss: 0.0196 - val_mae: 0.1147\n",
      "Epoch 34/500\n",
      "11/11 [==============================] - 0s 4ms/step - loss: 0.0169 - mae: 0.1076 - val_loss: 0.0182 - val_mae: 0.1109\n",
      "Epoch 35/500\n",
      "11/11 [==============================] - 0s 5ms/step - loss: 0.0156 - mae: 0.1034 - val_loss: 0.0166 - val_mae: 0.1047\n",
      "Epoch 36/500\n",
      "11/11 [==============================] - 0s 5ms/step - loss: 0.0142 - mae: 0.0983 - val_loss: 0.0158 - val_mae: 0.1030\n",
      "Epoch 37/500\n",
      "11/11 [==============================] - 0s 5ms/step - loss: 0.0134 - mae: 0.0945 - val_loss: 0.0144 - val_mae: 0.0979\n",
      "Epoch 38/500\n",
      "11/11 [==============================] - 0s 5ms/step - loss: 0.0122 - mae: 0.0914 - val_loss: 0.0132 - val_mae: 0.0952\n",
      "Epoch 39/500\n",
      "11/11 [==============================] - 0s 5ms/step - loss: 0.0113 - mae: 0.0882 - val_loss: 0.0120 - val_mae: 0.0911\n",
      "Epoch 40/500\n",
      "11/11 [==============================] - 0s 5ms/step - loss: 0.0104 - mae: 0.0849 - val_loss: 0.0112 - val_mae: 0.0880\n",
      "Epoch 41/500\n",
      "11/11 [==============================] - 0s 4ms/step - loss: 0.0097 - mae: 0.0817 - val_loss: 0.0102 - val_mae: 0.0838\n",
      "Epoch 42/500\n",
      "11/11 [==============================] - 0s 5ms/step - loss: 0.0089 - mae: 0.0784 - val_loss: 0.0092 - val_mae: 0.0784\n",
      "Epoch 43/500\n",
      "11/11 [==============================] - 0s 4ms/step - loss: 0.0086 - mae: 0.0765 - val_loss: 0.0087 - val_mae: 0.0774\n",
      "Epoch 44/500\n",
      "11/11 [==============================] - 0s 4ms/step - loss: 0.0075 - mae: 0.0716 - val_loss: 0.0078 - val_mae: 0.0725\n",
      "Epoch 45/500\n",
      "11/11 [==============================] - 0s 4ms/step - loss: 0.0069 - mae: 0.0683 - val_loss: 0.0072 - val_mae: 0.0704\n",
      "Epoch 46/500\n",
      "11/11 [==============================] - 0s 5ms/step - loss: 0.0063 - mae: 0.0654 - val_loss: 0.0065 - val_mae: 0.0667\n",
      "Epoch 47/500\n",
      "11/11 [==============================] - 0s 5ms/step - loss: 0.0059 - mae: 0.0627 - val_loss: 0.0063 - val_mae: 0.0664\n",
      "Epoch 48/500\n",
      "11/11 [==============================] - 0s 4ms/step - loss: 0.0053 - mae: 0.0608 - val_loss: 0.0053 - val_mae: 0.0617\n",
      "Epoch 49/500\n",
      "11/11 [==============================] - 0s 5ms/step - loss: 0.0048 - mae: 0.0584 - val_loss: 0.0050 - val_mae: 0.0607\n",
      "Epoch 50/500\n",
      "11/11 [==============================] - 0s 5ms/step - loss: 0.0045 - mae: 0.0569 - val_loss: 0.0043 - val_mae: 0.0558\n",
      "Epoch 51/500\n",
      "11/11 [==============================] - 0s 5ms/step - loss: 0.0041 - mae: 0.0542 - val_loss: 0.0041 - val_mae: 0.0552\n",
      "Epoch 52/500\n",
      "11/11 [==============================] - 0s 5ms/step - loss: 0.0036 - mae: 0.0496 - val_loss: 0.0036 - val_mae: 0.0511\n",
      "Epoch 53/500\n",
      "11/11 [==============================] - 0s 5ms/step - loss: 0.0033 - mae: 0.0477 - val_loss: 0.0032 - val_mae: 0.0480\n",
      "Epoch 54/500\n",
      "11/11 [==============================] - 0s 5ms/step - loss: 0.0031 - mae: 0.0464 - val_loss: 0.0031 - val_mae: 0.0479\n",
      "Epoch 55/500\n",
      "11/11 [==============================] - 0s 5ms/step - loss: 0.0027 - mae: 0.0437 - val_loss: 0.0026 - val_mae: 0.0425\n",
      "Epoch 56/500\n",
      "11/11 [==============================] - 0s 4ms/step - loss: 0.0026 - mae: 0.0417 - val_loss: 0.0028 - val_mae: 0.0448\n",
      "Epoch 57/500\n",
      "11/11 [==============================] - 0s 4ms/step - loss: 0.0023 - mae: 0.0396 - val_loss: 0.0022 - val_mae: 0.0393\n",
      "Epoch 58/500\n",
      "11/11 [==============================] - 0s 5ms/step - loss: 0.0020 - mae: 0.0370 - val_loss: 0.0020 - val_mae: 0.0383\n",
      "Epoch 59/500\n",
      "11/11 [==============================] - 0s 5ms/step - loss: 0.0019 - mae: 0.0357 - val_loss: 0.0018 - val_mae: 0.0368\n",
      "Epoch 60/500\n",
      "11/11 [==============================] - 0s 5ms/step - loss: 0.0017 - mae: 0.0346 - val_loss: 0.0017 - val_mae: 0.0337\n",
      "Epoch 61/500\n",
      "11/11 [==============================] - 0s 4ms/step - loss: 0.0019 - mae: 0.0349 - val_loss: 0.0024 - val_mae: 0.0394\n",
      "Epoch 62/500\n",
      "11/11 [==============================] - 0s 5ms/step - loss: 0.0018 - mae: 0.0332 - val_loss: 0.0015 - val_mae: 0.0311\n",
      "Epoch 63/500\n",
      "11/11 [==============================] - 0s 4ms/step - loss: 0.0015 - mae: 0.0307 - val_loss: 0.0017 - val_mae: 0.0340\n",
      "Epoch 64/500\n",
      "11/11 [==============================] - 0s 5ms/step - loss: 0.0013 - mae: 0.0286 - val_loss: 0.0012 - val_mae: 0.0280\n",
      "Epoch 65/500\n",
      "11/11 [==============================] - 0s 4ms/step - loss: 0.0012 - mae: 0.0279 - val_loss: 0.0011 - val_mae: 0.0276\n",
      "Epoch 66/500\n",
      "11/11 [==============================] - 0s 5ms/step - loss: 0.0011 - mae: 0.0263 - val_loss: 0.0012 - val_mae: 0.0285\n",
      "Epoch 67/500\n",
      "11/11 [==============================] - 0s 5ms/step - loss: 0.0011 - mae: 0.0257 - val_loss: 9.8701e-04 - val_mae: 0.0249\n",
      "Epoch 68/500\n",
      "11/11 [==============================] - 0s 4ms/step - loss: 0.0010 - mae: 0.0251 - val_loss: 0.0011 - val_mae: 0.0269\n",
      "Epoch 69/500\n",
      "11/11 [==============================] - 0s 5ms/step - loss: 9.6893e-04 - mae: 0.0239 - val_loss: 9.0130e-04 - val_mae: 0.0242\n",
      "Epoch 70/500\n",
      "11/11 [==============================] - 0s 5ms/step - loss: 9.0837e-04 - mae: 0.0224 - val_loss: 8.3396e-04 - val_mae: 0.0214\n",
      "Epoch 71/500\n",
      "11/11 [==============================] - 0s 4ms/step - loss: 8.7359e-04 - mae: 0.0218 - val_loss: 0.0011 - val_mae: 0.0260\n",
      "Epoch 72/500\n",
      "11/11 [==============================] - 0s 5ms/step - loss: 8.4057e-04 - mae: 0.0218 - val_loss: 7.1935e-04 - val_mae: 0.0200\n",
      "Epoch 73/500\n",
      "11/11 [==============================] - 0s 5ms/step - loss: 7.1875e-04 - mae: 0.0202 - val_loss: 7.6475e-04 - val_mae: 0.0217\n",
      "Epoch 74/500\n",
      "11/11 [==============================] - 0s 5ms/step - loss: 6.7116e-04 - mae: 0.0193 - val_loss: 6.7266e-04 - val_mae: 0.0187\n",
      "Epoch 75/500\n",
      "11/11 [==============================] - 0s 4ms/step - loss: 6.3939e-04 - mae: 0.0185 - val_loss: 7.3061e-04 - val_mae: 0.0213\n",
      "Epoch 76/500\n",
      "11/11 [==============================] - 0s 4ms/step - loss: 6.3498e-04 - mae: 0.0184 - val_loss: 6.2154e-04 - val_mae: 0.0178\n",
      "Epoch 77/500\n",
      "11/11 [==============================] - 0s 4ms/step - loss: 6.0480e-04 - mae: 0.0178 - val_loss: 7.5280e-04 - val_mae: 0.0220\n",
      "Epoch 78/500\n",
      "11/11 [==============================] - 0s 4ms/step - loss: 6.1882e-04 - mae: 0.0190 - val_loss: 6.0956e-04 - val_mae: 0.0177\n",
      "Epoch 79/500\n",
      "11/11 [==============================] - 0s 5ms/step - loss: 6.1286e-04 - mae: 0.0186 - val_loss: 5.9094e-04 - val_mae: 0.0182\n",
      "Epoch 80/500\n",
      "11/11 [==============================] - 0s 4ms/step - loss: 5.3687e-04 - mae: 0.0171 - val_loss: 5.7909e-04 - val_mae: 0.0178\n",
      "Epoch 81/500\n",
      "11/11 [==============================] - 0s 5ms/step - loss: 5.2150e-04 - mae: 0.0171 - val_loss: 5.7027e-04 - val_mae: 0.0175\n",
      "Epoch 82/500\n",
      "11/11 [==============================] - 0s 4ms/step - loss: 5.1275e-04 - mae: 0.0169 - val_loss: 5.5793e-04 - val_mae: 0.0170\n",
      "Epoch 83/500\n",
      "11/11 [==============================] - 0s 4ms/step - loss: 5.0437e-04 - mae: 0.0163 - val_loss: 6.1884e-04 - val_mae: 0.0197\n",
      "Epoch 84/500\n",
      "11/11 [==============================] - 0s 4ms/step - loss: 5.3190e-04 - mae: 0.0176 - val_loss: 5.9874e-04 - val_mae: 0.0168\n",
      "Epoch 85/500\n",
      "11/11 [==============================] - 0s 4ms/step - loss: 5.2755e-04 - mae: 0.0172 - val_loss: 6.0594e-04 - val_mae: 0.0193\n",
      "Epoch 86/500\n",
      "11/11 [==============================] - 0s 5ms/step - loss: 4.8584e-04 - mae: 0.0163 - val_loss: 5.7573e-04 - val_mae: 0.0185\n",
      "Epoch 87/500\n",
      "11/11 [==============================] - 0s 4ms/step - loss: 4.9670e-04 - mae: 0.0171 - val_loss: 5.6684e-04 - val_mae: 0.0163\n",
      "Epoch 88/500\n",
      "11/11 [==============================] - 0s 4ms/step - loss: 5.4747e-04 - mae: 0.0171 - val_loss: 6.2572e-04 - val_mae: 0.0202\n",
      "Epoch 89/500\n",
      "11/11 [==============================] - 0s 5ms/step - loss: 4.6445e-04 - mae: 0.0158 - val_loss: 5.3828e-04 - val_mae: 0.0171\n",
      "Epoch 90/500\n",
      "11/11 [==============================] - 0s 4ms/step - loss: 4.6379e-04 - mae: 0.0165 - val_loss: 5.4603e-04 - val_mae: 0.0157\n",
      "Epoch 91/500\n",
      "11/11 [==============================] - 0s 4ms/step - loss: 4.8020e-04 - mae: 0.0160 - val_loss: 6.0224e-04 - val_mae: 0.0197\n",
      "Epoch 92/500\n",
      "11/11 [==============================] - 0s 5ms/step - loss: 4.5492e-04 - mae: 0.0157 - val_loss: 5.1996e-04 - val_mae: 0.0163\n",
      "Epoch 93/500\n",
      "11/11 [==============================] - 0s 4ms/step - loss: 4.3772e-04 - mae: 0.0155 - val_loss: 5.1429e-04 - val_mae: 0.0159\n",
      "Epoch 94/500\n",
      "11/11 [==============================] - 0s 4ms/step - loss: 4.3105e-04 - mae: 0.0157 - val_loss: 5.1219e-04 - val_mae: 0.0154\n",
      "Epoch 95/500\n",
      "11/11 [==============================] - 0s 4ms/step - loss: 4.3894e-04 - mae: 0.0154 - val_loss: 5.2405e-04 - val_mae: 0.0169\n",
      "Epoch 96/500\n",
      "11/11 [==============================] - 0s 5ms/step - loss: 4.1985e-04 - mae: 0.0153 - val_loss: 5.0503e-04 - val_mae: 0.0156\n",
      "Epoch 97/500\n",
      "11/11 [==============================] - 0s 4ms/step - loss: 4.1694e-04 - mae: 0.0153 - val_loss: 5.0218e-04 - val_mae: 0.0156\n",
      "Epoch 98/500\n",
      "11/11 [==============================] - 0s 4ms/step - loss: 4.2889e-04 - mae: 0.0149 - val_loss: 5.3424e-04 - val_mae: 0.0177\n",
      "Epoch 99/500\n",
      "11/11 [==============================] - 0s 5ms/step - loss: 4.1852e-04 - mae: 0.0147 - val_loss: 5.1615e-04 - val_mae: 0.0169\n",
      "Epoch 100/500\n",
      "11/11 [==============================] - 0s 5ms/step - loss: 4.3019e-04 - mae: 0.0155 - val_loss: 4.9846e-04 - val_mae: 0.0150\n",
      "Epoch 101/500\n",
      "11/11 [==============================] - 0s 5ms/step - loss: 4.1919e-04 - mae: 0.0154 - val_loss: 5.0266e-04 - val_mae: 0.0159\n",
      "Epoch 102/500\n",
      "11/11 [==============================] - 0s 5ms/step - loss: 4.0456e-04 - mae: 0.0153 - val_loss: 5.0157e-04 - val_mae: 0.0160\n",
      "Epoch 103/500\n",
      "11/11 [==============================] - 0s 5ms/step - loss: 3.9438e-04 - mae: 0.0148 - val_loss: 4.8636e-04 - val_mae: 0.0149\n",
      "Epoch 104/500\n",
      "11/11 [==============================] - 0s 4ms/step - loss: 4.0804e-04 - mae: 0.0144 - val_loss: 5.6536e-04 - val_mae: 0.0192\n",
      "Epoch 105/500\n",
      "11/11 [==============================] - 0s 5ms/step - loss: 4.0685e-04 - mae: 0.0153 - val_loss: 4.8017e-04 - val_mae: 0.0147\n",
      "Epoch 106/500\n",
      "11/11 [==============================] - 0s 4ms/step - loss: 3.9216e-04 - mae: 0.0150 - val_loss: 4.8109e-04 - val_mae: 0.0145\n",
      "Epoch 107/500\n",
      "11/11 [==============================] - 0s 4ms/step - loss: 3.9674e-04 - mae: 0.0146 - val_loss: 4.7243e-04 - val_mae: 0.0149\n",
      "Epoch 108/500\n",
      "11/11 [==============================] - 0s 4ms/step - loss: 3.7814e-04 - mae: 0.0142 - val_loss: 4.7381e-04 - val_mae: 0.0153\n",
      "Epoch 109/500\n",
      "11/11 [==============================] - 0s 5ms/step - loss: 3.7055e-04 - mae: 0.0142 - val_loss: 4.6761e-04 - val_mae: 0.0146\n",
      "Epoch 110/500\n",
      "11/11 [==============================] - 0s 5ms/step - loss: 3.7642e-04 - mae: 0.0140 - val_loss: 4.7160e-04 - val_mae: 0.0154\n",
      "Epoch 111/500\n",
      "11/11 [==============================] - 0s 5ms/step - loss: 3.7061e-04 - mae: 0.0145 - val_loss: 5.0322e-04 - val_mae: 0.0145\n",
      "Epoch 112/500\n",
      "11/11 [==============================] - 0s 5ms/step - loss: 4.0046e-04 - mae: 0.0147 - val_loss: 4.6965e-04 - val_mae: 0.0156\n",
      "Epoch 113/500\n",
      "11/11 [==============================] - 0s 4ms/step - loss: 3.6481e-04 - mae: 0.0141 - val_loss: 4.6312e-04 - val_mae: 0.0151\n",
      "Epoch 114/500\n",
      "11/11 [==============================] - 0s 4ms/step - loss: 3.6083e-04 - mae: 0.0139 - val_loss: 4.7047e-04 - val_mae: 0.0158\n",
      "Epoch 115/500\n",
      "11/11 [==============================] - 0s 5ms/step - loss: 3.5136e-04 - mae: 0.0138 - val_loss: 4.5246e-04 - val_mae: 0.0146\n",
      "Epoch 116/500\n",
      "11/11 [==============================] - 0s 4ms/step - loss: 3.4998e-04 - mae: 0.0138 - val_loss: 4.7423e-04 - val_mae: 0.0163\n",
      "Epoch 117/500\n",
      "11/11 [==============================] - 0s 5ms/step - loss: 3.6067e-04 - mae: 0.0144 - val_loss: 4.5113e-04 - val_mae: 0.0142\n",
      "Epoch 118/500\n",
      "11/11 [==============================] - 0s 4ms/step - loss: 3.5609e-04 - mae: 0.0142 - val_loss: 4.4992e-04 - val_mae: 0.0140\n",
      "Epoch 119/500\n",
      "11/11 [==============================] - 0s 5ms/step - loss: 3.4698e-04 - mae: 0.0136 - val_loss: 4.4483e-04 - val_mae: 0.0150\n",
      "Epoch 120/500\n",
      "11/11 [==============================] - 0s 5ms/step - loss: 3.4258e-04 - mae: 0.0135 - val_loss: 4.4369e-04 - val_mae: 0.0151\n",
      "Epoch 121/500\n",
      "11/11 [==============================] - 0s 5ms/step - loss: 3.3320e-04 - mae: 0.0133 - val_loss: 4.4945e-04 - val_mae: 0.0157\n",
      "Epoch 122/500\n",
      "11/11 [==============================] - 0s 5ms/step - loss: 3.4565e-04 - mae: 0.0142 - val_loss: 4.3567e-04 - val_mae: 0.0138\n",
      "Epoch 123/500\n",
      "11/11 [==============================] - 0s 5ms/step - loss: 3.3167e-04 - mae: 0.0135 - val_loss: 4.2983e-04 - val_mae: 0.0146\n",
      "Epoch 124/500\n",
      "11/11 [==============================] - 0s 5ms/step - loss: 3.2721e-04 - mae: 0.0133 - val_loss: 4.4260e-04 - val_mae: 0.0156\n",
      "Epoch 125/500\n",
      "11/11 [==============================] - 0s 4ms/step - loss: 3.3114e-04 - mae: 0.0134 - val_loss: 4.4734e-04 - val_mae: 0.0159\n",
      "Epoch 126/500\n",
      "11/11 [==============================] - 0s 4ms/step - loss: 3.2462e-04 - mae: 0.0135 - val_loss: 4.1810e-04 - val_mae: 0.0139\n",
      "Epoch 127/500\n",
      "11/11 [==============================] - 0s 4ms/step - loss: 3.2039e-04 - mae: 0.0134 - val_loss: 4.2776e-04 - val_mae: 0.0134\n",
      "Epoch 128/500\n",
      "11/11 [==============================] - 0s 4ms/step - loss: 3.1306e-04 - mae: 0.0126 - val_loss: 5.0507e-04 - val_mae: 0.0183\n",
      "Epoch 129/500\n",
      "11/11 [==============================] - 0s 4ms/step - loss: 3.7323e-04 - mae: 0.0146 - val_loss: 4.1180e-04 - val_mae: 0.0141\n",
      "Epoch 130/500\n",
      "11/11 [==============================] - 0s 4ms/step - loss: 3.1449e-04 - mae: 0.0135 - val_loss: 4.0936e-04 - val_mae: 0.0133\n",
      "Epoch 131/500\n",
      "11/11 [==============================] - 0s 4ms/step - loss: 3.2095e-04 - mae: 0.0133 - val_loss: 4.1938e-04 - val_mae: 0.0131\n",
      "Epoch 132/500\n",
      "11/11 [==============================] - 0s 5ms/step - loss: 3.0167e-04 - mae: 0.0130 - val_loss: 4.0652e-04 - val_mae: 0.0145\n",
      "Epoch 133/500\n",
      "11/11 [==============================] - 0s 4ms/step - loss: 3.0428e-04 - mae: 0.0131 - val_loss: 3.9823e-04 - val_mae: 0.0140\n",
      "Epoch 134/500\n",
      "11/11 [==============================] - 0s 4ms/step - loss: 2.9740e-04 - mae: 0.0128 - val_loss: 4.0395e-04 - val_mae: 0.0146\n",
      "Epoch 135/500\n",
      "11/11 [==============================] - 0s 5ms/step - loss: 2.9853e-04 - mae: 0.0127 - val_loss: 3.8854e-04 - val_mae: 0.0136\n",
      "Epoch 136/500\n",
      "11/11 [==============================] - 0s 4ms/step - loss: 2.9389e-04 - mae: 0.0130 - val_loss: 4.6643e-04 - val_mae: 0.0143\n",
      "Epoch 137/500\n",
      "11/11 [==============================] - 0s 5ms/step - loss: 3.5173e-04 - mae: 0.0139 - val_loss: 3.8893e-04 - val_mae: 0.0142\n",
      "Epoch 138/500\n",
      "11/11 [==============================] - 0s 4ms/step - loss: 3.1247e-04 - mae: 0.0130 - val_loss: 4.2525e-04 - val_mae: 0.0161\n",
      "Epoch 139/500\n",
      "11/11 [==============================] - 0s 5ms/step - loss: 3.0958e-04 - mae: 0.0129 - val_loss: 4.0089e-04 - val_mae: 0.0153\n",
      "Epoch 140/500\n",
      "11/11 [==============================] - 0s 5ms/step - loss: 2.9845e-04 - mae: 0.0131 - val_loss: 3.8629e-04 - val_mae: 0.0144\n",
      "Epoch 141/500\n",
      "11/11 [==============================] - 0s 5ms/step - loss: 2.9582e-04 - mae: 0.0130 - val_loss: 3.6452e-04 - val_mae: 0.0130\n",
      "Epoch 142/500\n",
      "11/11 [==============================] - 0s 5ms/step - loss: 2.8664e-04 - mae: 0.0126 - val_loss: 3.6704e-04 - val_mae: 0.0127\n",
      "Epoch 143/500\n",
      "11/11 [==============================] - 0s 4ms/step - loss: 2.8241e-04 - mae: 0.0123 - val_loss: 3.6247e-04 - val_mae: 0.0129\n",
      "Epoch 144/500\n",
      "11/11 [==============================] - 0s 5ms/step - loss: 2.8658e-04 - mae: 0.0120 - val_loss: 4.4200e-04 - val_mae: 0.0174\n",
      "Epoch 145/500\n",
      "11/11 [==============================] - 0s 5ms/step - loss: 3.1028e-04 - mae: 0.0139 - val_loss: 3.4837e-04 - val_mae: 0.0129\n",
      "Epoch 146/500\n",
      "11/11 [==============================] - 0s 5ms/step - loss: 2.8326e-04 - mae: 0.0129 - val_loss: 3.6078e-04 - val_mae: 0.0125\n",
      "Epoch 147/500\n",
      "11/11 [==============================] - 0s 5ms/step - loss: 2.7225e-04 - mae: 0.0124 - val_loss: 3.4046e-04 - val_mae: 0.0124\n",
      "Epoch 148/500\n",
      "11/11 [==============================] - 0s 5ms/step - loss: 2.7986e-04 - mae: 0.0126 - val_loss: 3.4207e-04 - val_mae: 0.0125\n",
      "Epoch 149/500\n",
      "11/11 [==============================] - 0s 5ms/step - loss: 2.7640e-04 - mae: 0.0126 - val_loss: 3.5354e-04 - val_mae: 0.0144\n",
      "Epoch 150/500\n",
      "11/11 [==============================] - 0s 5ms/step - loss: 2.7469e-04 - mae: 0.0124 - val_loss: 3.3014e-04 - val_mae: 0.0129\n",
      "Epoch 151/500\n",
      "11/11 [==============================] - 0s 4ms/step - loss: 3.1559e-04 - mae: 0.0133 - val_loss: 3.7504e-04 - val_mae: 0.0123\n",
      "Epoch 152/500\n",
      "11/11 [==============================] - 0s 4ms/step - loss: 2.8014e-04 - mae: 0.0122 - val_loss: 3.3694e-04 - val_mae: 0.0138\n",
      "Epoch 153/500\n",
      "11/11 [==============================] - 0s 4ms/step - loss: 3.4563e-04 - mae: 0.0144 - val_loss: 3.3290e-04 - val_mae: 0.0127\n",
      "Epoch 154/500\n",
      "11/11 [==============================] - 0s 5ms/step - loss: 2.6515e-04 - mae: 0.0126 - val_loss: 3.1332e-04 - val_mae: 0.0122\n",
      "Epoch 155/500\n",
      "11/11 [==============================] - 0s 5ms/step - loss: 2.9136e-04 - mae: 0.0126 - val_loss: 3.4040e-04 - val_mae: 0.0116\n",
      "Epoch 156/500\n",
      "11/11 [==============================] - 0s 5ms/step - loss: 2.5654e-04 - mae: 0.0117 - val_loss: 3.1021e-04 - val_mae: 0.0119\n",
      "Epoch 157/500\n",
      "11/11 [==============================] - 0s 4ms/step - loss: 2.4115e-04 - mae: 0.0119 - val_loss: 3.1106e-04 - val_mae: 0.0128\n",
      "Epoch 158/500\n",
      "11/11 [==============================] - 0s 5ms/step - loss: 2.6032e-04 - mae: 0.0124 - val_loss: 3.0595e-04 - val_mae: 0.0122\n",
      "Epoch 159/500\n",
      "11/11 [==============================] - 0s 4ms/step - loss: 2.3252e-04 - mae: 0.0115 - val_loss: 3.3746e-04 - val_mae: 0.0146\n",
      "Epoch 160/500\n",
      "11/11 [==============================] - 0s 4ms/step - loss: 2.5399e-04 - mae: 0.0121 - val_loss: 3.0718e-04 - val_mae: 0.0131\n",
      "Epoch 161/500\n",
      "11/11 [==============================] - 0s 5ms/step - loss: 2.3066e-04 - mae: 0.0116 - val_loss: 2.9111e-04 - val_mae: 0.0118\n",
      "Epoch 162/500\n",
      "11/11 [==============================] - 0s 5ms/step - loss: 2.4185e-04 - mae: 0.0119 - val_loss: 2.8778e-04 - val_mae: 0.0118\n",
      "Epoch 163/500\n",
      "11/11 [==============================] - 0s 4ms/step - loss: 2.2910e-04 - mae: 0.0118 - val_loss: 2.9570e-04 - val_mae: 0.0117\n",
      "Epoch 164/500\n",
      "11/11 [==============================] - 0s 5ms/step - loss: 2.3280e-04 - mae: 0.0116 - val_loss: 2.8052e-04 - val_mae: 0.0117\n",
      "Epoch 165/500\n",
      "11/11 [==============================] - 0s 4ms/step - loss: 2.1606e-04 - mae: 0.0111 - val_loss: 2.7785e-04 - val_mae: 0.0119\n",
      "Epoch 166/500\n",
      "11/11 [==============================] - 0s 5ms/step - loss: 2.1398e-04 - mae: 0.0111 - val_loss: 2.9449e-04 - val_mae: 0.0131\n",
      "Epoch 167/500\n",
      "11/11 [==============================] - 0s 5ms/step - loss: 2.1499e-04 - mae: 0.0112 - val_loss: 2.8018e-04 - val_mae: 0.0125\n",
      "Epoch 168/500\n",
      "11/11 [==============================] - 0s 4ms/step - loss: 2.1805e-04 - mae: 0.0112 - val_loss: 2.9569e-04 - val_mae: 0.0135\n",
      "Epoch 169/500\n",
      "11/11 [==============================] - 0s 4ms/step - loss: 2.1509e-04 - mae: 0.0113 - val_loss: 2.7350e-04 - val_mae: 0.0123\n",
      "Epoch 170/500\n",
      "11/11 [==============================] - 0s 4ms/step - loss: 2.0752e-04 - mae: 0.0109 - val_loss: 3.3693e-04 - val_mae: 0.0152\n",
      "Epoch 171/500\n",
      "11/11 [==============================] - 0s 5ms/step - loss: 2.5017e-04 - mae: 0.0119 - val_loss: 2.6195e-04 - val_mae: 0.0113\n",
      "Epoch 172/500\n",
      "11/11 [==============================] - 0s 4ms/step - loss: 2.0369e-04 - mae: 0.0109 - val_loss: 2.7113e-04 - val_mae: 0.0124\n",
      "Epoch 173/500\n",
      "11/11 [==============================] - 0s 4ms/step - loss: 2.0496e-04 - mae: 0.0112 - val_loss: 2.5435e-04 - val_mae: 0.0116\n",
      "Epoch 174/500\n",
      "11/11 [==============================] - 0s 4ms/step - loss: 1.9309e-04 - mae: 0.0107 - val_loss: 2.8049e-04 - val_mae: 0.0112\n",
      "Epoch 175/500\n",
      "11/11 [==============================] - 0s 4ms/step - loss: 2.1391e-04 - mae: 0.0110 - val_loss: 2.7105e-04 - val_mae: 0.0110\n",
      "Epoch 176/500\n",
      "11/11 [==============================] - 0s 4ms/step - loss: 2.4431e-04 - mae: 0.0117 - val_loss: 2.9566e-04 - val_mae: 0.0116\n",
      "Epoch 177/500\n",
      "11/11 [==============================] - 0s 5ms/step - loss: 2.1928e-04 - mae: 0.0114 - val_loss: 2.4363e-04 - val_mae: 0.0112\n",
      "Epoch 178/500\n",
      "11/11 [==============================] - 0s 5ms/step - loss: 2.0816e-04 - mae: 0.0109 - val_loss: 2.6525e-04 - val_mae: 0.0128\n",
      "Epoch 179/500\n",
      "11/11 [==============================] - 0s 5ms/step - loss: 2.4515e-04 - mae: 0.0120 - val_loss: 2.3946e-04 - val_mae: 0.0108\n",
      "Epoch 180/500\n",
      "11/11 [==============================] - 0s 4ms/step - loss: 1.9472e-04 - mae: 0.0108 - val_loss: 2.5835e-04 - val_mae: 0.0109\n",
      "Epoch 181/500\n",
      "11/11 [==============================] - 0s 4ms/step - loss: 1.9185e-04 - mae: 0.0107 - val_loss: 2.7516e-04 - val_mae: 0.0111\n",
      "Epoch 182/500\n",
      "11/11 [==============================] - 0s 4ms/step - loss: 2.4450e-04 - mae: 0.0119 - val_loss: 2.4837e-04 - val_mae: 0.0107\n",
      "Epoch 183/500\n",
      "11/11 [==============================] - 0s 4ms/step - loss: 2.2931e-04 - mae: 0.0116 - val_loss: 2.3044e-04 - val_mae: 0.0107\n",
      "Epoch 184/500\n",
      "11/11 [==============================] - 0s 4ms/step - loss: 2.3228e-04 - mae: 0.0116 - val_loss: 2.3136e-04 - val_mae: 0.0105\n",
      "Epoch 185/500\n",
      "11/11 [==============================] - 0s 5ms/step - loss: 1.9076e-04 - mae: 0.0106 - val_loss: 2.2802e-04 - val_mae: 0.0111\n",
      "Epoch 186/500\n",
      "11/11 [==============================] - 0s 5ms/step - loss: 1.7266e-04 - mae: 0.0101 - val_loss: 2.2705e-04 - val_mae: 0.0111\n",
      "Epoch 187/500\n",
      "11/11 [==============================] - 0s 5ms/step - loss: 1.7810e-04 - mae: 0.0100 - val_loss: 2.2424e-04 - val_mae: 0.0108\n",
      "Epoch 188/500\n",
      "11/11 [==============================] - 0s 5ms/step - loss: 1.7071e-04 - mae: 0.0100 - val_loss: 2.1555e-04 - val_mae: 0.0107\n",
      "Epoch 189/500\n",
      "11/11 [==============================] - 0s 5ms/step - loss: 1.6551e-04 - mae: 0.0099 - val_loss: 2.1419e-04 - val_mae: 0.0106\n",
      "Epoch 190/500\n",
      "11/11 [==============================] - 0s 5ms/step - loss: 1.6740e-04 - mae: 0.0101 - val_loss: 2.1828e-04 - val_mae: 0.0101\n",
      "Epoch 191/500\n",
      "11/11 [==============================] - 0s 4ms/step - loss: 1.6694e-04 - mae: 0.0099 - val_loss: 2.1426e-04 - val_mae: 0.0101\n",
      "Epoch 192/500\n",
      "11/11 [==============================] - 0s 4ms/step - loss: 1.6490e-04 - mae: 0.0099 - val_loss: 3.1277e-04 - val_mae: 0.0121\n",
      "Epoch 193/500\n",
      "11/11 [==============================] - 0s 5ms/step - loss: 1.9091e-04 - mae: 0.0106 - val_loss: 2.1136e-04 - val_mae: 0.0101\n",
      "Epoch 194/500\n",
      "11/11 [==============================] - 0s 5ms/step - loss: 1.5896e-04 - mae: 0.0098 - val_loss: 2.0895e-04 - val_mae: 0.0100\n",
      "Epoch 195/500\n",
      "11/11 [==============================] - 0s 5ms/step - loss: 1.5984e-04 - mae: 0.0098 - val_loss: 2.0648e-04 - val_mae: 0.0100\n",
      "Epoch 196/500\n",
      "11/11 [==============================] - 0s 4ms/step - loss: 1.5121e-04 - mae: 0.0093 - val_loss: 2.0379e-04 - val_mae: 0.0101\n",
      "Epoch 197/500\n",
      "11/11 [==============================] - 0s 4ms/step - loss: 1.5320e-04 - mae: 0.0094 - val_loss: 2.1113e-04 - val_mae: 0.0110\n",
      "Epoch 198/500\n",
      "11/11 [==============================] - 0s 5ms/step - loss: 1.4887e-04 - mae: 0.0094 - val_loss: 1.9846e-04 - val_mae: 0.0101\n",
      "Epoch 199/500\n",
      "11/11 [==============================] - 0s 5ms/step - loss: 1.4724e-04 - mae: 0.0093 - val_loss: 1.9650e-04 - val_mae: 0.0098\n",
      "Epoch 200/500\n",
      "11/11 [==============================] - 0s 4ms/step - loss: 1.5339e-04 - mae: 0.0095 - val_loss: 2.0669e-04 - val_mae: 0.0099\n",
      "Epoch 201/500\n",
      "11/11 [==============================] - 0s 4ms/step - loss: 1.8589e-04 - mae: 0.0103 - val_loss: 2.5391e-04 - val_mae: 0.0110\n",
      "Epoch 202/500\n",
      "11/11 [==============================] - 0s 4ms/step - loss: 2.0079e-04 - mae: 0.0111 - val_loss: 2.5315e-04 - val_mae: 0.0111\n",
      "Epoch 203/500\n",
      "11/11 [==============================] - 0s 5ms/step - loss: 2.1826e-04 - mae: 0.0114 - val_loss: 1.8270e-04 - val_mae: 0.0097\n",
      "Epoch 204/500\n",
      "11/11 [==============================] - 0s 4ms/step - loss: 1.3755e-04 - mae: 0.0091 - val_loss: 1.8843e-04 - val_mae: 0.0104\n",
      "Epoch 205/500\n",
      "11/11 [==============================] - 0s 5ms/step - loss: 1.3765e-04 - mae: 0.0091 - val_loss: 1.7600e-04 - val_mae: 0.0095\n",
      "Epoch 206/500\n",
      "11/11 [==============================] - 0s 4ms/step - loss: 1.3894e-04 - mae: 0.0090 - val_loss: 1.9111e-04 - val_mae: 0.0108\n",
      "Epoch 207/500\n",
      "11/11 [==============================] - 0s 4ms/step - loss: 1.3950e-04 - mae: 0.0091 - val_loss: 1.7236e-04 - val_mae: 0.0097\n",
      "Epoch 208/500\n",
      "11/11 [==============================] - 0s 4ms/step - loss: 1.3768e-04 - mae: 0.0093 - val_loss: 1.7321e-04 - val_mae: 0.0100\n",
      "Epoch 209/500\n",
      "11/11 [==============================] - 0s 4ms/step - loss: 1.3842e-04 - mae: 0.0091 - val_loss: 1.8121e-04 - val_mae: 0.0105\n",
      "Epoch 210/500\n",
      "11/11 [==============================] - 0s 4ms/step - loss: 1.4642e-04 - mae: 0.0094 - val_loss: 1.8011e-04 - val_mae: 0.0106\n",
      "Epoch 211/500\n",
      "11/11 [==============================] - 0s 5ms/step - loss: 1.4618e-04 - mae: 0.0094 - val_loss: 1.8448e-04 - val_mae: 0.0109\n",
      "Epoch 212/500\n",
      "11/11 [==============================] - 0s 5ms/step - loss: 1.3686e-04 - mae: 0.0092 - val_loss: 1.5760e-04 - val_mae: 0.0091\n",
      "Epoch 213/500\n",
      "11/11 [==============================] - 0s 4ms/step - loss: 1.2578e-04 - mae: 0.0087 - val_loss: 1.7682e-04 - val_mae: 0.0106\n",
      "Epoch 214/500\n",
      "11/11 [==============================] - 0s 5ms/step - loss: 1.3365e-04 - mae: 0.0090 - val_loss: 1.5267e-04 - val_mae: 0.0093\n",
      "Epoch 215/500\n",
      "11/11 [==============================] - 0s 4ms/step - loss: 1.2690e-04 - mae: 0.0089 - val_loss: 1.5321e-04 - val_mae: 0.0095\n",
      "Epoch 216/500\n",
      "11/11 [==============================] - 0s 4ms/step - loss: 1.2732e-04 - mae: 0.0090 - val_loss: 1.4802e-04 - val_mae: 0.0091\n",
      "Epoch 217/500\n",
      "11/11 [==============================] - 0s 4ms/step - loss: 1.2300e-04 - mae: 0.0085 - val_loss: 1.4939e-04 - val_mae: 0.0086\n",
      "Epoch 218/500\n",
      "11/11 [==============================] - 0s 5ms/step - loss: 1.2575e-04 - mae: 0.0085 - val_loss: 1.4494e-04 - val_mae: 0.0087\n",
      "Epoch 219/500\n",
      "11/11 [==============================] - 0s 4ms/step - loss: 1.1683e-04 - mae: 0.0084 - val_loss: 1.5144e-04 - val_mae: 0.0096\n",
      "Epoch 220/500\n",
      "11/11 [==============================] - 0s 5ms/step - loss: 1.2759e-04 - mae: 0.0091 - val_loss: 1.3997e-04 - val_mae: 0.0086\n",
      "Epoch 221/500\n",
      "11/11 [==============================] - 0s 5ms/step - loss: 1.2595e-04 - mae: 0.0087 - val_loss: 1.3710e-04 - val_mae: 0.0085\n",
      "Epoch 222/500\n",
      "11/11 [==============================] - 0s 5ms/step - loss: 1.1723e-04 - mae: 0.0085 - val_loss: 1.3536e-04 - val_mae: 0.0085\n",
      "Epoch 223/500\n",
      "11/11 [==============================] - 0s 4ms/step - loss: 1.1802e-04 - mae: 0.0083 - val_loss: 1.3405e-04 - val_mae: 0.0084\n",
      "Epoch 224/500\n",
      "11/11 [==============================] - 0s 5ms/step - loss: 1.1501e-04 - mae: 0.0085 - val_loss: 1.3246e-04 - val_mae: 0.0085\n",
      "Epoch 225/500\n",
      "11/11 [==============================] - 0s 5ms/step - loss: 1.1263e-04 - mae: 0.0084 - val_loss: 1.2904e-04 - val_mae: 0.0084\n",
      "Epoch 226/500\n",
      "11/11 [==============================] - 0s 4ms/step - loss: 1.1726e-04 - mae: 0.0085 - val_loss: 1.4411e-04 - val_mae: 0.0088\n",
      "Epoch 227/500\n",
      "11/11 [==============================] - 0s 5ms/step - loss: 1.2366e-04 - mae: 0.0087 - val_loss: 1.2810e-04 - val_mae: 0.0081\n",
      "Epoch 228/500\n",
      "11/11 [==============================] - 0s 4ms/step - loss: 1.1498e-04 - mae: 0.0083 - val_loss: 1.5995e-04 - val_mae: 0.0092\n",
      "Epoch 229/500\n",
      "11/11 [==============================] - 0s 4ms/step - loss: 1.3609e-04 - mae: 0.0090 - val_loss: 1.5494e-04 - val_mae: 0.0088\n",
      "Epoch 230/500\n",
      "11/11 [==============================] - 0s 5ms/step - loss: 1.1173e-04 - mae: 0.0082 - val_loss: 1.1844e-04 - val_mae: 0.0080\n",
      "Epoch 231/500\n",
      "11/11 [==============================] - 0s 5ms/step - loss: 1.0237e-04 - mae: 0.0078 - val_loss: 1.2134e-04 - val_mae: 0.0080\n",
      "Epoch 232/500\n",
      "11/11 [==============================] - 0s 4ms/step - loss: 1.0741e-04 - mae: 0.0080 - val_loss: 1.3513e-04 - val_mae: 0.0094\n",
      "Epoch 233/500\n",
      "11/11 [==============================] - 0s 4ms/step - loss: 1.1924e-04 - mae: 0.0086 - val_loss: 1.2348e-04 - val_mae: 0.0088\n",
      "Epoch 234/500\n",
      "11/11 [==============================] - 0s 4ms/step - loss: 1.0586e-04 - mae: 0.0079 - val_loss: 1.1140e-04 - val_mae: 0.0077\n",
      "Epoch 235/500\n",
      "11/11 [==============================] - 0s 5ms/step - loss: 9.8035e-05 - mae: 0.0077 - val_loss: 1.1281e-04 - val_mae: 0.0082\n",
      "Epoch 236/500\n",
      "11/11 [==============================] - 0s 4ms/step - loss: 9.8346e-05 - mae: 0.0077 - val_loss: 1.1907e-04 - val_mae: 0.0079\n",
      "Epoch 237/500\n",
      "11/11 [==============================] - 0s 4ms/step - loss: 1.0308e-04 - mae: 0.0079 - val_loss: 1.6352e-04 - val_mae: 0.0095\n",
      "Epoch 238/500\n",
      "11/11 [==============================] - 0s 4ms/step - loss: 1.1989e-04 - mae: 0.0086 - val_loss: 1.5184e-04 - val_mae: 0.0091\n",
      "Epoch 239/500\n",
      "11/11 [==============================] - 0s 4ms/step - loss: 1.2102e-04 - mae: 0.0084 - val_loss: 1.1049e-04 - val_mae: 0.0078\n",
      "Epoch 240/500\n",
      "11/11 [==============================] - 0s 4ms/step - loss: 1.1008e-04 - mae: 0.0082 - val_loss: 1.1533e-04 - val_mae: 0.0086\n",
      "Epoch 241/500\n",
      "11/11 [==============================] - 0s 4ms/step - loss: 1.1004e-04 - mae: 0.0082 - val_loss: 1.2212e-04 - val_mae: 0.0091\n",
      "Epoch 242/500\n",
      "11/11 [==============================] - 0s 4ms/step - loss: 9.8471e-05 - mae: 0.0076 - val_loss: 1.0662e-04 - val_mae: 0.0074\n",
      "Epoch 243/500\n",
      "11/11 [==============================] - 0s 4ms/step - loss: 9.6001e-05 - mae: 0.0076 - val_loss: 1.6652e-04 - val_mae: 0.0097\n",
      "Epoch 244/500\n",
      "11/11 [==============================] - 0s 4ms/step - loss: 1.4656e-04 - mae: 0.0094 - val_loss: 9.6796e-05 - val_mae: 0.0076\n",
      "Epoch 245/500\n",
      "11/11 [==============================] - 0s 4ms/step - loss: 9.2733e-05 - mae: 0.0075 - val_loss: 9.7040e-05 - val_mae: 0.0072\n",
      "Epoch 246/500\n",
      "11/11 [==============================] - 0s 5ms/step - loss: 8.9097e-05 - mae: 0.0074 - val_loss: 9.6219e-05 - val_mae: 0.0078\n",
      "Epoch 247/500\n",
      "11/11 [==============================] - 0s 4ms/step - loss: 8.8256e-05 - mae: 0.0074 - val_loss: 9.1342e-05 - val_mae: 0.0071\n",
      "Epoch 248/500\n",
      "11/11 [==============================] - 0s 4ms/step - loss: 9.4062e-05 - mae: 0.0074 - val_loss: 1.0847e-04 - val_mae: 0.0085\n",
      "Epoch 249/500\n",
      "11/11 [==============================] - 0s 4ms/step - loss: 9.4679e-05 - mae: 0.0077 - val_loss: 1.2102e-04 - val_mae: 0.0092\n",
      "Epoch 250/500\n",
      "11/11 [==============================] - 0s 5ms/step - loss: 1.0143e-04 - mae: 0.0080 - val_loss: 8.8622e-05 - val_mae: 0.0073\n",
      "Epoch 251/500\n",
      "11/11 [==============================] - 0s 4ms/step - loss: 9.7733e-05 - mae: 0.0077 - val_loss: 9.8156e-05 - val_mae: 0.0073\n",
      "Epoch 252/500\n",
      "11/11 [==============================] - 0s 4ms/step - loss: 9.4842e-05 - mae: 0.0076 - val_loss: 8.7937e-05 - val_mae: 0.0074\n",
      "Epoch 253/500\n",
      "11/11 [==============================] - 0s 4ms/step - loss: 8.3866e-05 - mae: 0.0071 - val_loss: 9.4857e-05 - val_mae: 0.0072\n",
      "Epoch 254/500\n",
      "11/11 [==============================] - 0s 4ms/step - loss: 8.2695e-05 - mae: 0.0070 - val_loss: 1.1178e-04 - val_mae: 0.0088\n",
      "Epoch 255/500\n",
      "11/11 [==============================] - 0s 4ms/step - loss: 9.8916e-05 - mae: 0.0079 - val_loss: 1.0759e-04 - val_mae: 0.0085\n",
      "Epoch 256/500\n",
      "11/11 [==============================] - 0s 5ms/step - loss: 9.2572e-05 - mae: 0.0076 - val_loss: 8.0137e-05 - val_mae: 0.0068\n",
      "Epoch 257/500\n",
      "11/11 [==============================] - 0s 4ms/step - loss: 8.3690e-05 - mae: 0.0071 - val_loss: 1.0201e-04 - val_mae: 0.0076\n",
      "Epoch 258/500\n",
      "11/11 [==============================] - 0s 5ms/step - loss: 8.2106e-05 - mae: 0.0069 - val_loss: 7.7838e-05 - val_mae: 0.0067\n",
      "Epoch 259/500\n",
      "11/11 [==============================] - 0s 5ms/step - loss: 8.0584e-05 - mae: 0.0069 - val_loss: 7.4323e-05 - val_mae: 0.0066\n",
      "Epoch 260/500\n",
      "11/11 [==============================] - 0s 5ms/step - loss: 8.1578e-05 - mae: 0.0072 - val_loss: 7.3901e-05 - val_mae: 0.0068\n",
      "Epoch 261/500\n",
      "11/11 [==============================] - 0s 4ms/step - loss: 7.3803e-05 - mae: 0.0066 - val_loss: 9.3985e-05 - val_mae: 0.0080\n",
      "Epoch 262/500\n",
      "11/11 [==============================] - 0s 4ms/step - loss: 8.2936e-05 - mae: 0.0070 - val_loss: 7.5839e-05 - val_mae: 0.0069\n",
      "Epoch 263/500\n",
      "11/11 [==============================] - 0s 4ms/step - loss: 7.1285e-05 - mae: 0.0067 - val_loss: 6.9736e-05 - val_mae: 0.0064\n",
      "Epoch 264/500\n",
      "11/11 [==============================] - 0s 5ms/step - loss: 7.2565e-05 - mae: 0.0065 - val_loss: 1.2991e-04 - val_mae: 0.0089\n",
      "Epoch 265/500\n",
      "11/11 [==============================] - 0s 4ms/step - loss: 1.0866e-04 - mae: 0.0083 - val_loss: 6.7835e-05 - val_mae: 0.0064\n",
      "Epoch 266/500\n",
      "11/11 [==============================] - 0s 5ms/step - loss: 8.4509e-05 - mae: 0.0070 - val_loss: 1.1991e-04 - val_mae: 0.0092\n",
      "Epoch 267/500\n",
      "11/11 [==============================] - 0s 5ms/step - loss: 8.6604e-05 - mae: 0.0072 - val_loss: 1.0807e-04 - val_mae: 0.0086\n",
      "Epoch 268/500\n",
      "11/11 [==============================] - 0s 5ms/step - loss: 7.5909e-05 - mae: 0.0068 - val_loss: 7.3160e-05 - val_mae: 0.0068\n",
      "Epoch 269/500\n",
      "11/11 [==============================] - 0s 4ms/step - loss: 6.9513e-05 - mae: 0.0066 - val_loss: 8.6285e-05 - val_mae: 0.0071\n",
      "Epoch 270/500\n",
      "11/11 [==============================] - 0s 4ms/step - loss: 9.8246e-05 - mae: 0.0078 - val_loss: 6.7968e-05 - val_mae: 0.0062\n",
      "Epoch 271/500\n",
      "11/11 [==============================] - 0s 4ms/step - loss: 7.0606e-05 - mae: 0.0064 - val_loss: 6.3254e-05 - val_mae: 0.0062\n",
      "Epoch 272/500\n",
      "11/11 [==============================] - 0s 4ms/step - loss: 6.2802e-05 - mae: 0.0062 - val_loss: 5.7897e-05 - val_mae: 0.0060\n",
      "Epoch 273/500\n",
      "11/11 [==============================] - 0s 4ms/step - loss: 6.0815e-05 - mae: 0.0062 - val_loss: 5.9348e-05 - val_mae: 0.0061\n",
      "Epoch 274/500\n",
      "11/11 [==============================] - 0s 4ms/step - loss: 6.4388e-05 - mae: 0.0064 - val_loss: 8.0032e-05 - val_mae: 0.0074\n",
      "Epoch 275/500\n",
      "11/11 [==============================] - 0s 4ms/step - loss: 6.6620e-05 - mae: 0.0064 - val_loss: 6.9740e-05 - val_mae: 0.0068\n",
      "Epoch 276/500\n",
      "11/11 [==============================] - 0s 4ms/step - loss: 6.5027e-05 - mae: 0.0062 - val_loss: 1.3026e-04 - val_mae: 0.0092\n",
      "Epoch 277/500\n",
      "11/11 [==============================] - 0s 5ms/step - loss: 1.2301e-04 - mae: 0.0087 - val_loss: 5.3941e-05 - val_mae: 0.0058\n",
      "Epoch 278/500\n",
      "11/11 [==============================] - 0s 5ms/step - loss: 1.0234e-04 - mae: 0.0076 - val_loss: 1.2124e-04 - val_mae: 0.0092\n",
      "Epoch 279/500\n",
      "11/11 [==============================] - 0s 5ms/step - loss: 7.7748e-05 - mae: 0.0069 - val_loss: 5.1913e-05 - val_mae: 0.0057\n",
      "Epoch 280/500\n",
      "11/11 [==============================] - 0s 4ms/step - loss: 5.9258e-05 - mae: 0.0059 - val_loss: 5.5837e-05 - val_mae: 0.0055\n",
      "Epoch 281/500\n",
      "11/11 [==============================] - 0s 4ms/step - loss: 5.3094e-05 - mae: 0.0056 - val_loss: 5.1983e-05 - val_mae: 0.0057\n",
      "Epoch 282/500\n",
      "11/11 [==============================] - 0s 4ms/step - loss: 5.7848e-05 - mae: 0.0059 - val_loss: 6.7506e-05 - val_mae: 0.0065\n",
      "Epoch 283/500\n",
      "11/11 [==============================] - 0s 5ms/step - loss: 6.3717e-05 - mae: 0.0060 - val_loss: 5.0802e-05 - val_mae: 0.0053\n",
      "Epoch 284/500\n",
      "11/11 [==============================] - 0s 5ms/step - loss: 5.3483e-05 - mae: 0.0055 - val_loss: 6.2946e-05 - val_mae: 0.0064\n",
      "Epoch 285/500\n",
      "11/11 [==============================] - 0s 5ms/step - loss: 5.3023e-05 - mae: 0.0057 - val_loss: 4.5846e-05 - val_mae: 0.0053\n",
      "Epoch 286/500\n",
      "11/11 [==============================] - 0s 5ms/step - loss: 4.9133e-05 - mae: 0.0054 - val_loss: 7.7751e-05 - val_mae: 0.0072\n",
      "Epoch 287/500\n",
      "11/11 [==============================] - 0s 5ms/step - loss: 5.7313e-05 - mae: 0.0056 - val_loss: 5.9820e-05 - val_mae: 0.0062\n",
      "Epoch 288/500\n",
      "11/11 [==============================] - 0s 4ms/step - loss: 5.3070e-05 - mae: 0.0057 - val_loss: 5.4757e-05 - val_mae: 0.0059\n",
      "Epoch 289/500\n",
      "11/11 [==============================] - 0s 5ms/step - loss: 5.1126e-05 - mae: 0.0056 - val_loss: 4.2013e-05 - val_mae: 0.0051\n",
      "Epoch 290/500\n",
      "11/11 [==============================] - 0s 4ms/step - loss: 5.2783e-05 - mae: 0.0057 - val_loss: 4.4871e-05 - val_mae: 0.0053\n",
      "Epoch 291/500\n",
      "11/11 [==============================] - 0s 4ms/step - loss: 4.7361e-05 - mae: 0.0053 - val_loss: 4.2317e-05 - val_mae: 0.0051\n",
      "Epoch 292/500\n",
      "11/11 [==============================] - 0s 4ms/step - loss: 4.5453e-05 - mae: 0.0052 - val_loss: 4.5874e-05 - val_mae: 0.0054\n",
      "Epoch 293/500\n",
      "11/11 [==============================] - 0s 4ms/step - loss: 5.9461e-05 - mae: 0.0061 - val_loss: 5.0100e-05 - val_mae: 0.0057\n",
      "Epoch 294/500\n",
      "11/11 [==============================] - 0s 4ms/step - loss: 5.2346e-05 - mae: 0.0055 - val_loss: 7.6360e-05 - val_mae: 0.0071\n",
      "Epoch 295/500\n",
      "11/11 [==============================] - 0s 4ms/step - loss: 6.3228e-05 - mae: 0.0059 - val_loss: 4.4380e-05 - val_mae: 0.0052\n",
      "Epoch 296/500\n",
      "11/11 [==============================] - 0s 4ms/step - loss: 4.5063e-05 - mae: 0.0050 - val_loss: 4.5789e-05 - val_mae: 0.0053\n",
      "Epoch 297/500\n",
      "11/11 [==============================] - 0s 5ms/step - loss: 4.5747e-05 - mae: 0.0052 - val_loss: 3.8099e-05 - val_mae: 0.0048\n",
      "Epoch 298/500\n",
      "11/11 [==============================] - 0s 4ms/step - loss: 4.2808e-05 - mae: 0.0050 - val_loss: 7.0356e-05 - val_mae: 0.0068\n",
      "Epoch 299/500\n",
      "11/11 [==============================] - 0s 4ms/step - loss: 5.1983e-05 - mae: 0.0054 - val_loss: 4.3047e-05 - val_mae: 0.0052\n",
      "Epoch 300/500\n",
      "11/11 [==============================] - 0s 4ms/step - loss: 4.4883e-05 - mae: 0.0051 - val_loss: 4.3319e-05 - val_mae: 0.0053\n",
      "Epoch 301/500\n",
      "11/11 [==============================] - 0s 4ms/step - loss: 4.3935e-05 - mae: 0.0051 - val_loss: 4.7495e-05 - val_mae: 0.0055\n",
      "Epoch 302/500\n",
      "11/11 [==============================] - 0s 4ms/step - loss: 4.7773e-05 - mae: 0.0051 - val_loss: 4.0476e-05 - val_mae: 0.0050\n",
      "Epoch 303/500\n",
      "11/11 [==============================] - 0s 4ms/step - loss: 4.4205e-05 - mae: 0.0052 - val_loss: 5.6178e-05 - val_mae: 0.0061\n",
      "Epoch 304/500\n",
      "11/11 [==============================] - 0s 5ms/step - loss: 7.4029e-05 - mae: 0.0066 - val_loss: 3.5543e-05 - val_mae: 0.0046\n",
      "Epoch 305/500\n",
      "11/11 [==============================] - 0s 4ms/step - loss: 4.3986e-05 - mae: 0.0051 - val_loss: 4.4403e-05 - val_mae: 0.0054\n",
      "Epoch 306/500\n",
      "11/11 [==============================] - 0s 4ms/step - loss: 5.3817e-05 - mae: 0.0055 - val_loss: 5.2944e-05 - val_mae: 0.0058\n",
      "Epoch 307/500\n",
      "11/11 [==============================] - 0s 5ms/step - loss: 7.4412e-05 - mae: 0.0063 - val_loss: 3.2648e-05 - val_mae: 0.0044\n",
      "Epoch 308/500\n",
      "11/11 [==============================] - 0s 5ms/step - loss: 4.6481e-05 - mae: 0.0052 - val_loss: 3.7096e-05 - val_mae: 0.0049\n",
      "Epoch 309/500\n",
      "11/11 [==============================] - 0s 5ms/step - loss: 4.5250e-05 - mae: 0.0051 - val_loss: 7.5322e-05 - val_mae: 0.0070\n",
      "Epoch 310/500\n",
      "11/11 [==============================] - 0s 5ms/step - loss: 5.2434e-05 - mae: 0.0055 - val_loss: 3.4134e-05 - val_mae: 0.0047\n",
      "Epoch 311/500\n",
      "11/11 [==============================] - 0s 4ms/step - loss: 4.2431e-05 - mae: 0.0049 - val_loss: 2.9760e-05 - val_mae: 0.0042\n",
      "Epoch 312/500\n",
      "11/11 [==============================] - 0s 4ms/step - loss: 3.6887e-05 - mae: 0.0045 - val_loss: 3.3205e-05 - val_mae: 0.0046\n",
      "Epoch 313/500\n",
      "11/11 [==============================] - 0s 4ms/step - loss: 4.0601e-05 - mae: 0.0048 - val_loss: 4.0753e-05 - val_mae: 0.0052\n",
      "Epoch 314/500\n",
      "11/11 [==============================] - 0s 4ms/step - loss: 4.6532e-05 - mae: 0.0053 - val_loss: 4.4377e-05 - val_mae: 0.0052\n",
      "Epoch 315/500\n",
      "11/11 [==============================] - 0s 4ms/step - loss: 3.8288e-05 - mae: 0.0044 - val_loss: 5.0015e-05 - val_mae: 0.0058\n",
      "Epoch 316/500\n",
      "11/11 [==============================] - 0s 5ms/step - loss: 7.7355e-05 - mae: 0.0069 - val_loss: 5.7532e-05 - val_mae: 0.0060\n",
      "Epoch 317/500\n",
      "11/11 [==============================] - 0s 5ms/step - loss: 5.7263e-05 - mae: 0.0057 - val_loss: 3.2529e-05 - val_mae: 0.0041\n",
      "Epoch 318/500\n",
      "11/11 [==============================] - 0s 5ms/step - loss: 5.1452e-05 - mae: 0.0054 - val_loss: 2.7583e-05 - val_mae: 0.0041\n",
      "Epoch 319/500\n",
      "11/11 [==============================] - 0s 4ms/step - loss: 3.7784e-05 - mae: 0.0047 - val_loss: 3.0724e-05 - val_mae: 0.0041\n",
      "Epoch 320/500\n",
      "11/11 [==============================] - 0s 5ms/step - loss: 3.3339e-05 - mae: 0.0042 - val_loss: 2.6216e-05 - val_mae: 0.0039\n",
      "Epoch 321/500\n",
      "11/11 [==============================] - 0s 4ms/step - loss: 3.2002e-05 - mae: 0.0042 - val_loss: 2.9054e-05 - val_mae: 0.0043\n",
      "Epoch 322/500\n",
      "11/11 [==============================] - 0s 4ms/step - loss: 3.2460e-05 - mae: 0.0043 - val_loss: 2.7439e-05 - val_mae: 0.0040\n",
      "Epoch 323/500\n",
      "11/11 [==============================] - 0s 5ms/step - loss: 3.2201e-05 - mae: 0.0043 - val_loss: 2.9955e-05 - val_mae: 0.0044\n",
      "Epoch 324/500\n",
      "11/11 [==============================] - 0s 4ms/step - loss: 3.2297e-05 - mae: 0.0042 - val_loss: 2.5628e-05 - val_mae: 0.0038\n",
      "Epoch 325/500\n",
      "11/11 [==============================] - 0s 4ms/step - loss: 3.0747e-05 - mae: 0.0041 - val_loss: 2.4875e-05 - val_mae: 0.0038\n",
      "Epoch 326/500\n",
      "11/11 [==============================] - 0s 5ms/step - loss: 3.1262e-05 - mae: 0.0040 - val_loss: 2.3916e-05 - val_mae: 0.0038\n",
      "Epoch 327/500\n",
      "11/11 [==============================] - 0s 4ms/step - loss: 3.7330e-05 - mae: 0.0047 - val_loss: 2.4170e-05 - val_mae: 0.0040\n",
      "Epoch 328/500\n",
      "11/11 [==============================] - 0s 4ms/step - loss: 3.3006e-05 - mae: 0.0042 - val_loss: 3.2115e-05 - val_mae: 0.0043\n",
      "Epoch 329/500\n",
      "11/11 [==============================] - 0s 4ms/step - loss: 4.0325e-05 - mae: 0.0047 - val_loss: 2.5103e-05 - val_mae: 0.0041\n",
      "Epoch 330/500\n",
      "11/11 [==============================] - 0s 4ms/step - loss: 3.3148e-05 - mae: 0.0040 - val_loss: 4.4805e-05 - val_mae: 0.0051\n",
      "Epoch 331/500\n",
      "11/11 [==============================] - 0s 4ms/step - loss: 3.2621e-05 - mae: 0.0041 - val_loss: 2.9972e-05 - val_mae: 0.0045\n",
      "Epoch 332/500\n",
      "11/11 [==============================] - 0s 4ms/step - loss: 3.9650e-05 - mae: 0.0047 - val_loss: 4.3987e-05 - val_mae: 0.0052\n",
      "Epoch 333/500\n",
      "11/11 [==============================] - 0s 4ms/step - loss: 3.1808e-05 - mae: 0.0043 - val_loss: 2.8432e-05 - val_mae: 0.0044\n",
      "Epoch 334/500\n",
      "11/11 [==============================] - 0s 4ms/step - loss: 3.5764e-05 - mae: 0.0044 - val_loss: 2.3606e-05 - val_mae: 0.0038\n",
      "Epoch 335/500\n",
      "11/11 [==============================] - 0s 5ms/step - loss: 2.8069e-05 - mae: 0.0038 - val_loss: 2.1135e-05 - val_mae: 0.0037\n",
      "Epoch 336/500\n",
      "11/11 [==============================] - 0s 4ms/step - loss: 2.8190e-05 - mae: 0.0040 - val_loss: 2.7118e-05 - val_mae: 0.0038\n",
      "Epoch 337/500\n",
      "11/11 [==============================] - 0s 4ms/step - loss: 2.7786e-05 - mae: 0.0038 - val_loss: 3.3075e-05 - val_mae: 0.0048\n",
      "Epoch 338/500\n",
      "11/11 [==============================] - 0s 5ms/step - loss: 2.9756e-05 - mae: 0.0040 - val_loss: 2.0860e-05 - val_mae: 0.0034\n",
      "Epoch 339/500\n",
      "11/11 [==============================] - 0s 4ms/step - loss: 2.7737e-05 - mae: 0.0039 - val_loss: 2.1049e-05 - val_mae: 0.0036\n",
      "Epoch 340/500\n",
      "11/11 [==============================] - 0s 5ms/step - loss: 2.7151e-05 - mae: 0.0038 - val_loss: 2.5810e-05 - val_mae: 0.0037\n",
      "Epoch 341/500\n",
      "11/11 [==============================] - 0s 5ms/step - loss: 3.0589e-05 - mae: 0.0039 - val_loss: 1.8737e-05 - val_mae: 0.0033\n",
      "Epoch 342/500\n",
      "11/11 [==============================] - 0s 4ms/step - loss: 2.6172e-05 - mae: 0.0038 - val_loss: 2.0511e-05 - val_mae: 0.0034\n",
      "Epoch 343/500\n",
      "11/11 [==============================] - 0s 4ms/step - loss: 2.5208e-05 - mae: 0.0036 - val_loss: 2.1128e-05 - val_mae: 0.0034\n",
      "Epoch 344/500\n",
      "11/11 [==============================] - 0s 4ms/step - loss: 2.8326e-05 - mae: 0.0038 - val_loss: 1.8835e-05 - val_mae: 0.0035\n",
      "Epoch 345/500\n",
      "11/11 [==============================] - 0s 4ms/step - loss: 2.4610e-05 - mae: 0.0035 - val_loss: 2.9588e-05 - val_mae: 0.0040\n",
      "Epoch 346/500\n",
      "11/11 [==============================] - 0s 5ms/step - loss: 3.3165e-05 - mae: 0.0041 - val_loss: 3.0399e-05 - val_mae: 0.0046\n",
      "Epoch 347/500\n",
      "11/11 [==============================] - 0s 4ms/step - loss: 3.2527e-05 - mae: 0.0043 - val_loss: 2.5725e-05 - val_mae: 0.0037\n",
      "Epoch 348/500\n",
      "11/11 [==============================] - 0s 4ms/step - loss: 2.6628e-05 - mae: 0.0037 - val_loss: 2.0229e-05 - val_mae: 0.0036\n",
      "Epoch 349/500\n",
      "11/11 [==============================] - 0s 4ms/step - loss: 2.6205e-05 - mae: 0.0038 - val_loss: 3.8924e-05 - val_mae: 0.0050\n",
      "Epoch 350/500\n",
      "11/11 [==============================] - 0s 5ms/step - loss: 3.2837e-05 - mae: 0.0042 - val_loss: 2.5765e-05 - val_mae: 0.0036\n",
      "Epoch 351/500\n",
      "11/11 [==============================] - 0s 4ms/step - loss: 2.4306e-05 - mae: 0.0035 - val_loss: 1.9941e-05 - val_mae: 0.0032\n",
      "Epoch 352/500\n",
      "11/11 [==============================] - 0s 4ms/step - loss: 2.2222e-05 - mae: 0.0034 - val_loss: 2.2525e-05 - val_mae: 0.0034\n",
      "Epoch 353/500\n",
      "11/11 [==============================] - 0s 4ms/step - loss: 2.4111e-05 - mae: 0.0034 - val_loss: 3.8026e-05 - val_mae: 0.0053\n",
      "Epoch 354/500\n",
      "11/11 [==============================] - 0s 4ms/step - loss: 3.3311e-05 - mae: 0.0045 - val_loss: 3.3108e-05 - val_mae: 0.0045\n",
      "Epoch 355/500\n",
      "11/11 [==============================] - 0s 4ms/step - loss: 2.4534e-05 - mae: 0.0035 - val_loss: 1.5856e-05 - val_mae: 0.0029\n",
      "Epoch 356/500\n",
      "11/11 [==============================] - 0s 4ms/step - loss: 2.4757e-05 - mae: 0.0034 - val_loss: 3.1495e-05 - val_mae: 0.0049\n",
      "Epoch 357/500\n",
      "11/11 [==============================] - 0s 4ms/step - loss: 2.6058e-05 - mae: 0.0039 - val_loss: 3.9533e-05 - val_mae: 0.0051\n",
      "Epoch 358/500\n",
      "11/11 [==============================] - 0s 4ms/step - loss: 2.4642e-05 - mae: 0.0036 - val_loss: 1.6136e-05 - val_mae: 0.0029\n",
      "Epoch 359/500\n",
      "11/11 [==============================] - 0s 4ms/step - loss: 2.0433e-05 - mae: 0.0031 - val_loss: 1.6919e-05 - val_mae: 0.0029\n",
      "Epoch 360/500\n",
      "11/11 [==============================] - 0s 4ms/step - loss: 2.1062e-05 - mae: 0.0032 - val_loss: 6.8466e-05 - val_mae: 0.0073\n",
      "Epoch 361/500\n",
      "11/11 [==============================] - 0s 4ms/step - loss: 4.1477e-05 - mae: 0.0051 - val_loss: 3.9892e-05 - val_mae: 0.0051\n",
      "Epoch 362/500\n",
      "11/11 [==============================] - 0s 5ms/step - loss: 2.6320e-05 - mae: 0.0037 - val_loss: 1.5777e-05 - val_mae: 0.0032\n",
      "Epoch 363/500\n",
      "11/11 [==============================] - 0s 4ms/step - loss: 2.0187e-05 - mae: 0.0032 - val_loss: 2.4598e-05 - val_mae: 0.0041\n",
      "Epoch 364/500\n",
      "11/11 [==============================] - 0s 4ms/step - loss: 2.5776e-05 - mae: 0.0040 - val_loss: 2.3574e-05 - val_mae: 0.0036\n",
      "Epoch 365/500\n",
      "11/11 [==============================] - 0s 4ms/step - loss: 2.4726e-05 - mae: 0.0036 - val_loss: 1.9349e-05 - val_mae: 0.0031\n",
      "Epoch 366/500\n",
      "11/11 [==============================] - 0s 4ms/step - loss: 2.4683e-05 - mae: 0.0035 - val_loss: 2.3702e-05 - val_mae: 0.0041\n",
      "Epoch 367/500\n",
      "11/11 [==============================] - 0s 4ms/step - loss: 2.8014e-05 - mae: 0.0040 - val_loss: 2.8522e-05 - val_mae: 0.0042\n",
      "Epoch 368/500\n",
      "11/11 [==============================] - 0s 4ms/step - loss: 2.2576e-05 - mae: 0.0034 - val_loss: 1.6149e-05 - val_mae: 0.0032\n",
      "Epoch 369/500\n",
      "11/11 [==============================] - 0s 5ms/step - loss: 2.1850e-05 - mae: 0.0034 - val_loss: 1.3766e-05 - val_mae: 0.0026\n",
      "Epoch 370/500\n",
      "11/11 [==============================] - 0s 4ms/step - loss: 1.8294e-05 - mae: 0.0030 - val_loss: 1.3044e-05 - val_mae: 0.0026\n",
      "Epoch 371/500\n",
      "11/11 [==============================] - 0s 4ms/step - loss: 1.7828e-05 - mae: 0.0029 - val_loss: 2.0252e-05 - val_mae: 0.0038\n",
      "Epoch 372/500\n",
      "11/11 [==============================] - 0s 5ms/step - loss: 2.1955e-05 - mae: 0.0035 - val_loss: 2.4815e-05 - val_mae: 0.0043\n",
      "Epoch 373/500\n",
      "11/11 [==============================] - 0s 4ms/step - loss: 4.2115e-05 - mae: 0.0052 - val_loss: 8.1919e-05 - val_mae: 0.0080\n",
      "Epoch 374/500\n",
      "11/11 [==============================] - 0s 4ms/step - loss: 3.6017e-05 - mae: 0.0046 - val_loss: 1.3269e-05 - val_mae: 0.0025\n",
      "Epoch 375/500\n",
      "11/11 [==============================] - 0s 4ms/step - loss: 3.4290e-05 - mae: 0.0044 - val_loss: 2.6722e-05 - val_mae: 0.0045\n",
      "Epoch 376/500\n",
      "11/11 [==============================] - 0s 4ms/step - loss: 2.5609e-05 - mae: 0.0037 - val_loss: 1.5774e-05 - val_mae: 0.0028\n",
      "Epoch 377/500\n",
      "11/11 [==============================] - 0s 4ms/step - loss: 1.8216e-05 - mae: 0.0031 - val_loss: 2.6129e-05 - val_mae: 0.0040\n",
      "Epoch 378/500\n",
      "11/11 [==============================] - 0s 5ms/step - loss: 1.8490e-05 - mae: 0.0030 - val_loss: 1.2930e-05 - val_mae: 0.0025\n",
      "Epoch 379/500\n",
      "11/11 [==============================] - 0s 4ms/step - loss: 1.7638e-05 - mae: 0.0029 - val_loss: 1.7897e-05 - val_mae: 0.0031\n",
      "Epoch 380/500\n",
      "11/11 [==============================] - 0s 4ms/step - loss: 2.0073e-05 - mae: 0.0032 - val_loss: 1.2129e-05 - val_mae: 0.0027\n",
      "Epoch 381/500\n",
      "11/11 [==============================] - 0s 4ms/step - loss: 2.0348e-05 - mae: 0.0034 - val_loss: 1.5171e-05 - val_mae: 0.0032\n",
      "Epoch 382/500\n",
      "11/11 [==============================] - 0s 4ms/step - loss: 1.9933e-05 - mae: 0.0032 - val_loss: 2.4790e-05 - val_mae: 0.0039\n",
      "Epoch 383/500\n",
      "11/11 [==============================] - 0s 4ms/step - loss: 2.4471e-05 - mae: 0.0036 - val_loss: 1.4579e-05 - val_mae: 0.0029\n",
      "Epoch 384/500\n",
      "11/11 [==============================] - 0s 4ms/step - loss: 1.8012e-05 - mae: 0.0031 - val_loss: 1.3673e-05 - val_mae: 0.0027\n",
      "Epoch 385/500\n",
      "11/11 [==============================] - 0s 4ms/step - loss: 1.7063e-05 - mae: 0.0027 - val_loss: 2.2680e-05 - val_mae: 0.0038\n",
      "Epoch 386/500\n",
      "11/11 [==============================] - 0s 4ms/step - loss: 1.8597e-05 - mae: 0.0033 - val_loss: 1.1439e-05 - val_mae: 0.0023\n",
      "Epoch 387/500\n",
      "11/11 [==============================] - 0s 5ms/step - loss: 1.9049e-05 - mae: 0.0030 - val_loss: 1.8593e-05 - val_mae: 0.0032\n",
      "Epoch 388/500\n",
      "11/11 [==============================] - 0s 4ms/step - loss: 2.3144e-05 - mae: 0.0034 - val_loss: 1.1283e-05 - val_mae: 0.0025\n",
      "Epoch 389/500\n",
      "11/11 [==============================] - 0s 4ms/step - loss: 1.6325e-05 - mae: 0.0027 - val_loss: 1.0893e-05 - val_mae: 0.0023\n",
      "Epoch 390/500\n",
      "11/11 [==============================] - 0s 5ms/step - loss: 1.5837e-05 - mae: 0.0026 - val_loss: 1.0374e-05 - val_mae: 0.0023\n",
      "Epoch 391/500\n",
      "11/11 [==============================] - 0s 4ms/step - loss: 1.6092e-05 - mae: 0.0028 - val_loss: 1.0496e-05 - val_mae: 0.0023\n",
      "Epoch 392/500\n",
      "11/11 [==============================] - 0s 4ms/step - loss: 1.5778e-05 - mae: 0.0025 - val_loss: 3.1574e-05 - val_mae: 0.0048\n",
      "Epoch 393/500\n",
      "11/11 [==============================] - 0s 4ms/step - loss: 2.2771e-05 - mae: 0.0037 - val_loss: 1.1284e-05 - val_mae: 0.0022\n",
      "Epoch 394/500\n",
      "11/11 [==============================] - 0s 4ms/step - loss: 1.8169e-05 - mae: 0.0029 - val_loss: 1.6694e-05 - val_mae: 0.0032\n",
      "Epoch 395/500\n",
      "11/11 [==============================] - 0s 4ms/step - loss: 2.3406e-05 - mae: 0.0037 - val_loss: 1.0482e-05 - val_mae: 0.0022\n",
      "Epoch 396/500\n",
      "11/11 [==============================] - 0s 4ms/step - loss: 1.5740e-05 - mae: 0.0025 - val_loss: 2.8062e-05 - val_mae: 0.0043\n",
      "Epoch 397/500\n",
      "11/11 [==============================] - 0s 4ms/step - loss: 3.7454e-05 - mae: 0.0048 - val_loss: 1.0467e-05 - val_mae: 0.0022\n",
      "Epoch 398/500\n",
      "11/11 [==============================] - 0s 4ms/step - loss: 2.2373e-05 - mae: 0.0035 - val_loss: 6.5793e-05 - val_mae: 0.0071\n",
      "Epoch 399/500\n",
      "11/11 [==============================] - 0s 4ms/step - loss: 2.9315e-05 - mae: 0.0042 - val_loss: 9.3574e-06 - val_mae: 0.0022\n",
      "Epoch 400/500\n",
      "11/11 [==============================] - 0s 4ms/step - loss: 1.5295e-05 - mae: 0.0027 - val_loss: 9.1031e-06 - val_mae: 0.0022\n",
      "Epoch 401/500\n",
      "11/11 [==============================] - 0s 4ms/step - loss: 1.5964e-05 - mae: 0.0027 - val_loss: 9.0697e-06 - val_mae: 0.0022\n",
      "Epoch 402/500\n",
      "11/11 [==============================] - 0s 4ms/step - loss: 1.3702e-05 - mae: 0.0027 - val_loss: 1.1594e-05 - val_mae: 0.0023\n",
      "Epoch 403/500\n",
      "11/11 [==============================] - 0s 4ms/step - loss: 1.5931e-05 - mae: 0.0027 - val_loss: 1.0438e-05 - val_mae: 0.0023\n",
      "Epoch 404/500\n",
      "11/11 [==============================] - 0s 4ms/step - loss: 1.2349e-05 - mae: 0.0023 - val_loss: 1.0599e-05 - val_mae: 0.0021\n",
      "Epoch 405/500\n",
      "11/11 [==============================] - 0s 4ms/step - loss: 1.2917e-05 - mae: 0.0024 - val_loss: 1.2000e-05 - val_mae: 0.0028\n",
      "Epoch 406/500\n",
      "11/11 [==============================] - 0s 5ms/step - loss: 1.3107e-05 - mae: 0.0025 - val_loss: 8.6648e-06 - val_mae: 0.0019\n",
      "Epoch 407/500\n",
      "11/11 [==============================] - 0s 4ms/step - loss: 1.2046e-05 - mae: 0.0023 - val_loss: 1.6740e-05 - val_mae: 0.0033\n",
      "Epoch 408/500\n",
      "11/11 [==============================] - 0s 4ms/step - loss: 1.7352e-05 - mae: 0.0033 - val_loss: 1.6895e-05 - val_mae: 0.0031\n",
      "Epoch 409/500\n",
      "11/11 [==============================] - 0s 4ms/step - loss: 1.4985e-05 - mae: 0.0026 - val_loss: 1.6049e-05 - val_mae: 0.0033\n",
      "Epoch 410/500\n",
      "11/11 [==============================] - 0s 5ms/step - loss: 1.5928e-05 - mae: 0.0029 - val_loss: 8.7399e-06 - val_mae: 0.0019\n",
      "Epoch 411/500\n",
      "11/11 [==============================] - 0s 4ms/step - loss: 1.2192e-05 - mae: 0.0023 - val_loss: 8.7632e-06 - val_mae: 0.0021\n",
      "Epoch 412/500\n",
      "11/11 [==============================] - 0s 4ms/step - loss: 1.2622e-05 - mae: 0.0025 - val_loss: 3.6038e-05 - val_mae: 0.0054\n",
      "Epoch 413/500\n",
      "11/11 [==============================] - 0s 4ms/step - loss: 3.0289e-05 - mae: 0.0045 - val_loss: 5.2749e-05 - val_mae: 0.0066\n",
      "Epoch 414/500\n",
      "11/11 [==============================] - 0s 4ms/step - loss: 4.0671e-05 - mae: 0.0051 - val_loss: 2.3475e-05 - val_mae: 0.0043\n",
      "Epoch 415/500\n",
      "11/11 [==============================] - 0s 4ms/step - loss: 2.6510e-05 - mae: 0.0041 - val_loss: 2.0747e-05 - val_mae: 0.0041\n",
      "Epoch 416/500\n",
      "11/11 [==============================] - 0s 4ms/step - loss: 2.1122e-05 - mae: 0.0035 - val_loss: 8.3978e-06 - val_mae: 0.0021\n",
      "Epoch 417/500\n",
      "11/11 [==============================] - 0s 4ms/step - loss: 1.1829e-05 - mae: 0.0024 - val_loss: 1.1331e-05 - val_mae: 0.0027\n",
      "Epoch 418/500\n",
      "11/11 [==============================] - 0s 5ms/step - loss: 1.2901e-05 - mae: 0.0025 - val_loss: 7.6876e-06 - val_mae: 0.0020\n",
      "Epoch 419/500\n",
      "11/11 [==============================] - 0s 4ms/step - loss: 1.1237e-05 - mae: 0.0023 - val_loss: 4.8673e-05 - val_mae: 0.0061\n",
      "Epoch 420/500\n",
      "11/11 [==============================] - 0s 5ms/step - loss: 3.2874e-05 - mae: 0.0045 - val_loss: 7.2118e-05 - val_mae: 0.0078\n",
      "Epoch 421/500\n",
      "11/11 [==============================] - 0s 4ms/step - loss: 4.6013e-05 - mae: 0.0057 - val_loss: 6.7793e-05 - val_mae: 0.0075\n",
      "Epoch 422/500\n",
      "11/11 [==============================] - 0s 4ms/step - loss: 4.0551e-05 - mae: 0.0053 - val_loss: 8.2968e-06 - val_mae: 0.0021\n",
      "Epoch 423/500\n",
      "11/11 [==============================] - 0s 4ms/step - loss: 1.3057e-05 - mae: 0.0026 - val_loss: 2.0240e-05 - val_mae: 0.0038\n",
      "Epoch 424/500\n",
      "11/11 [==============================] - 0s 4ms/step - loss: 1.9131e-05 - mae: 0.0035 - val_loss: 2.7366e-05 - val_mae: 0.0048\n",
      "Epoch 425/500\n",
      "11/11 [==============================] - 0s 4ms/step - loss: 3.9316e-05 - mae: 0.0051 - val_loss: 5.5051e-05 - val_mae: 0.0066\n",
      "Epoch 426/500\n",
      "11/11 [==============================] - 0s 4ms/step - loss: 3.0712e-05 - mae: 0.0045 - val_loss: 7.3256e-06 - val_mae: 0.0018\n",
      "Epoch 427/500\n",
      "11/11 [==============================] - 0s 4ms/step - loss: 1.0056e-05 - mae: 0.0020 - val_loss: 6.9559e-06 - val_mae: 0.0018\n",
      "Epoch 428/500\n",
      "11/11 [==============================] - 0s 4ms/step - loss: 9.5828e-06 - mae: 0.0019 - val_loss: 6.5140e-06 - val_mae: 0.0018\n",
      "Epoch 429/500\n",
      "11/11 [==============================] - 0s 4ms/step - loss: 9.5660e-06 - mae: 0.0021 - val_loss: 8.1593e-06 - val_mae: 0.0019\n",
      "Epoch 430/500\n",
      "11/11 [==============================] - 0s 4ms/step - loss: 1.0182e-05 - mae: 0.0021 - val_loss: 1.0417e-05 - val_mae: 0.0025\n",
      "Epoch 431/500\n",
      "11/11 [==============================] - 0s 4ms/step - loss: 1.1297e-05 - mae: 0.0024 - val_loss: 6.1077e-06 - val_mae: 0.0017\n",
      "Epoch 432/500\n",
      "11/11 [==============================] - 0s 4ms/step - loss: 9.6644e-06 - mae: 0.0020 - val_loss: 1.3959e-05 - val_mae: 0.0032\n",
      "Epoch 433/500\n",
      "11/11 [==============================] - 0s 4ms/step - loss: 1.2500e-05 - mae: 0.0025 - val_loss: 1.1836e-05 - val_mae: 0.0027\n",
      "Epoch 434/500\n",
      "11/11 [==============================] - 0s 4ms/step - loss: 9.7558e-06 - mae: 0.0021 - val_loss: 1.3769e-05 - val_mae: 0.0030\n",
      "Epoch 435/500\n",
      "11/11 [==============================] - 0s 4ms/step - loss: 2.3100e-05 - mae: 0.0038 - val_loss: 5.4962e-05 - val_mae: 0.0069\n",
      "Epoch 436/500\n",
      "11/11 [==============================] - 0s 5ms/step - loss: 2.4721e-05 - mae: 0.0040 - val_loss: 6.3556e-06 - val_mae: 0.0019\n",
      "Epoch 437/500\n",
      "11/11 [==============================] - 0s 4ms/step - loss: 2.1832e-05 - mae: 0.0033 - val_loss: 1.8344e-05 - val_mae: 0.0036\n",
      "Epoch 438/500\n",
      "11/11 [==============================] - 0s 4ms/step - loss: 1.1668e-05 - mae: 0.0025 - val_loss: 1.1410e-05 - val_mae: 0.0023\n",
      "Epoch 439/500\n",
      "11/11 [==============================] - 0s 4ms/step - loss: 9.0813e-06 - mae: 0.0020 - val_loss: 7.7359e-06 - val_mae: 0.0021\n",
      "Epoch 440/500\n",
      "11/11 [==============================] - 0s 4ms/step - loss: 9.3608e-06 - mae: 0.0022 - val_loss: 6.2658e-06 - val_mae: 0.0016\n",
      "Epoch 441/500\n",
      "11/11 [==============================] - 0s 4ms/step - loss: 1.0701e-05 - mae: 0.0024 - val_loss: 9.2877e-06 - val_mae: 0.0024\n",
      "Epoch 442/500\n",
      "11/11 [==============================] - 0s 4ms/step - loss: 8.3640e-06 - mae: 0.0020 - val_loss: 6.2117e-06 - val_mae: 0.0016\n",
      "Epoch 443/500\n",
      "11/11 [==============================] - 0s 4ms/step - loss: 9.1675e-06 - mae: 0.0021 - val_loss: 1.3738e-05 - val_mae: 0.0030\n",
      "Epoch 444/500\n",
      "11/11 [==============================] - 0s 4ms/step - loss: 1.0556e-05 - mae: 0.0024 - val_loss: 1.2300e-05 - val_mae: 0.0027\n",
      "Epoch 445/500\n",
      "11/11 [==============================] - 0s 4ms/step - loss: 9.3524e-06 - mae: 0.0021 - val_loss: 2.5104e-05 - val_mae: 0.0043\n",
      "Epoch 446/500\n",
      "11/11 [==============================] - 0s 4ms/step - loss: 1.4004e-05 - mae: 0.0028 - val_loss: 4.1836e-05 - val_mae: 0.0059\n",
      "Epoch 447/500\n",
      "11/11 [==============================] - 0s 4ms/step - loss: 2.9985e-05 - mae: 0.0044 - val_loss: 9.0883e-06 - val_mae: 0.0026\n",
      "Epoch 448/500\n",
      "11/11 [==============================] - 0s 4ms/step - loss: 1.9436e-05 - mae: 0.0034 - val_loss: 1.2666e-05 - val_mae: 0.0030\n",
      "Epoch 449/500\n",
      "11/11 [==============================] - 0s 4ms/step - loss: 1.3845e-05 - mae: 0.0029 - val_loss: 2.6070e-05 - val_mae: 0.0043\n",
      "Epoch 450/500\n",
      "11/11 [==============================] - 0s 4ms/step - loss: 1.3179e-05 - mae: 0.0027 - val_loss: 4.9196e-05 - val_mae: 0.0062\n",
      "Epoch 451/500\n",
      "11/11 [==============================] - 0s 4ms/step - loss: 1.8954e-05 - mae: 0.0034 - val_loss: 1.1101e-05 - val_mae: 0.0027\n",
      "Epoch 452/500\n",
      "11/11 [==============================] - 0s 5ms/step - loss: 1.2455e-05 - mae: 0.0026 - val_loss: 4.9939e-06 - val_mae: 0.0017\n",
      "Epoch 453/500\n",
      "11/11 [==============================] - 0s 4ms/step - loss: 9.7842e-06 - mae: 0.0023 - val_loss: 5.7500e-06 - val_mae: 0.0016\n",
      "Epoch 454/500\n",
      "11/11 [==============================] - 0s 4ms/step - loss: 7.2362e-06 - mae: 0.0017 - val_loss: 1.1559e-05 - val_mae: 0.0028\n",
      "Epoch 455/500\n",
      "11/11 [==============================] - 0s 4ms/step - loss: 8.1764e-06 - mae: 0.0021 - val_loss: 5.9182e-06 - val_mae: 0.0015\n",
      "Epoch 456/500\n",
      "11/11 [==============================] - 0s 4ms/step - loss: 7.6318e-06 - mae: 0.0018 - val_loss: 5.8047e-05 - val_mae: 0.0069\n",
      "Epoch 457/500\n",
      "11/11 [==============================] - 0s 4ms/step - loss: 2.4926e-05 - mae: 0.0040 - val_loss: 2.5215e-05 - val_mae: 0.0046\n",
      "Epoch 458/500\n",
      "11/11 [==============================] - 0s 4ms/step - loss: 3.3656e-05 - mae: 0.0048 - val_loss: 7.4456e-06 - val_mae: 0.0020\n",
      "Epoch 459/500\n",
      "11/11 [==============================] - 0s 4ms/step - loss: 1.1618e-05 - mae: 0.0025 - val_loss: 1.0599e-05 - val_mae: 0.0026\n",
      "Epoch 460/500\n",
      "11/11 [==============================] - 0s 5ms/step - loss: 8.9378e-06 - mae: 0.0022 - val_loss: 5.1733e-06 - val_mae: 0.0015\n",
      "Epoch 461/500\n",
      "11/11 [==============================] - 0s 4ms/step - loss: 6.3857e-06 - mae: 0.0017 - val_loss: 5.6158e-06 - val_mae: 0.0017\n",
      "Epoch 462/500\n",
      "11/11 [==============================] - 0s 4ms/step - loss: 7.8255e-06 - mae: 0.0018 - val_loss: 9.1163e-06 - val_mae: 0.0024\n",
      "Epoch 463/500\n",
      "11/11 [==============================] - 0s 4ms/step - loss: 1.6405e-05 - mae: 0.0032 - val_loss: 1.4929e-05 - val_mae: 0.0032\n",
      "Epoch 464/500\n",
      "11/11 [==============================] - 0s 4ms/step - loss: 1.3291e-05 - mae: 0.0029 - val_loss: 3.0980e-05 - val_mae: 0.0050\n",
      "Epoch 465/500\n",
      "11/11 [==============================] - 0s 4ms/step - loss: 2.4035e-05 - mae: 0.0040 - val_loss: 5.4887e-06 - val_mae: 0.0016\n",
      "Epoch 466/500\n",
      "11/11 [==============================] - 0s 4ms/step - loss: 9.7599e-06 - mae: 0.0023 - val_loss: 1.2539e-05 - val_mae: 0.0029\n",
      "Epoch 467/500\n",
      "11/11 [==============================] - 0s 5ms/step - loss: 7.9197e-06 - mae: 0.0021 - val_loss: 4.0211e-06 - val_mae: 0.0013\n",
      "Epoch 468/500\n",
      "11/11 [==============================] - 0s 4ms/step - loss: 5.6892e-06 - mae: 0.0016 - val_loss: 5.5140e-06 - val_mae: 0.0019\n",
      "Epoch 469/500\n",
      "11/11 [==============================] - 0s 4ms/step - loss: 7.0174e-06 - mae: 0.0018 - val_loss: 2.0636e-05 - val_mae: 0.0039\n",
      "Epoch 470/500\n",
      "11/11 [==============================] - 0s 4ms/step - loss: 1.3747e-05 - mae: 0.0030 - val_loss: 1.5770e-05 - val_mae: 0.0036\n",
      "Epoch 471/500\n",
      "11/11 [==============================] - 0s 4ms/step - loss: 1.5950e-05 - mae: 0.0032 - val_loss: 3.8396e-06 - val_mae: 0.0012\n",
      "Epoch 472/500\n",
      "11/11 [==============================] - 0s 4ms/step - loss: 1.3694e-05 - mae: 0.0028 - val_loss: 6.3284e-06 - val_mae: 0.0018\n",
      "Epoch 473/500\n",
      "11/11 [==============================] - 0s 4ms/step - loss: 1.1274e-05 - mae: 0.0026 - val_loss: 1.6970e-05 - val_mae: 0.0038\n",
      "Epoch 474/500\n",
      "11/11 [==============================] - 0s 4ms/step - loss: 1.5343e-05 - mae: 0.0032 - val_loss: 7.1437e-05 - val_mae: 0.0078\n",
      "Epoch 475/500\n",
      "11/11 [==============================] - 0s 4ms/step - loss: 3.4799e-05 - mae: 0.0049 - val_loss: 1.3954e-05 - val_mae: 0.0032\n",
      "Epoch 476/500\n",
      "11/11 [==============================] - 0s 5ms/step - loss: 8.7427e-06 - mae: 0.0023 - val_loss: 5.4709e-06 - val_mae: 0.0019\n",
      "Epoch 477/500\n",
      "11/11 [==============================] - 0s 4ms/step - loss: 7.3838e-06 - mae: 0.0020 - val_loss: 1.1888e-05 - val_mae: 0.0029\n",
      "Epoch 478/500\n",
      "11/11 [==============================] - 0s 4ms/step - loss: 7.1311e-06 - mae: 0.0019 - val_loss: 1.9699e-05 - val_mae: 0.0040\n",
      "Epoch 479/500\n",
      "11/11 [==============================] - 0s 4ms/step - loss: 1.0861e-05 - mae: 0.0025 - val_loss: 2.9220e-05 - val_mae: 0.0047\n",
      "Epoch 480/500\n",
      "11/11 [==============================] - 0s 4ms/step - loss: 1.6951e-05 - mae: 0.0033 - val_loss: 2.3539e-05 - val_mae: 0.0045\n",
      "Epoch 481/500\n",
      "11/11 [==============================] - 0s 4ms/step - loss: 1.0153e-05 - mae: 0.0025 - val_loss: 8.0655e-06 - val_mae: 0.0023\n",
      "Epoch 482/500\n",
      "11/11 [==============================] - 0s 4ms/step - loss: 7.4751e-06 - mae: 0.0020 - val_loss: 7.9928e-06 - val_mae: 0.0022\n",
      "Epoch 483/500\n",
      "11/11 [==============================] - 0s 4ms/step - loss: 7.4330e-06 - mae: 0.0020 - val_loss: 3.2827e-05 - val_mae: 0.0052\n",
      "Epoch 484/500\n",
      "11/11 [==============================] - 0s 4ms/step - loss: 1.7120e-05 - mae: 0.0033 - val_loss: 3.8788e-05 - val_mae: 0.0056\n",
      "Epoch 485/500\n",
      "11/11 [==============================] - 0s 4ms/step - loss: 1.4204e-05 - mae: 0.0030 - val_loss: 1.2348e-05 - val_mae: 0.0031\n",
      "Epoch 486/500\n",
      "11/11 [==============================] - 0s 4ms/step - loss: 1.1558e-05 - mae: 0.0027 - val_loss: 7.0347e-06 - val_mae: 0.0023\n",
      "Epoch 487/500\n",
      "11/11 [==============================] - 0s 4ms/step - loss: 5.8269e-06 - mae: 0.0017 - val_loss: 3.7618e-06 - val_mae: 0.0014\n",
      "Epoch 488/500\n",
      "11/11 [==============================] - 0s 5ms/step - loss: 5.2458e-06 - mae: 0.0017 - val_loss: 4.6331e-06 - val_mae: 0.0015\n",
      "Epoch 489/500\n",
      "11/11 [==============================] - 0s 4ms/step - loss: 6.1187e-06 - mae: 0.0017 - val_loss: 7.2221e-06 - val_mae: 0.0021\n",
      "Epoch 490/500\n",
      "11/11 [==============================] - 0s 4ms/step - loss: 8.5003e-06 - mae: 0.0022 - val_loss: 1.2774e-05 - val_mae: 0.0032\n",
      "Epoch 491/500\n",
      "11/11 [==============================] - 0s 4ms/step - loss: 5.5949e-06 - mae: 0.0016 - val_loss: 1.5229e-05 - val_mae: 0.0034\n",
      "Epoch 492/500\n",
      "11/11 [==============================] - 0s 4ms/step - loss: 8.8210e-06 - mae: 0.0022 - val_loss: 8.2369e-06 - val_mae: 0.0024\n",
      "Epoch 493/500\n",
      "11/11 [==============================] - 0s 4ms/step - loss: 9.7066e-06 - mae: 0.0024 - val_loss: 1.1650e-05 - val_mae: 0.0031\n",
      "Epoch 494/500\n",
      "11/11 [==============================] - 0s 4ms/step - loss: 9.0010e-06 - mae: 0.0024 - val_loss: 3.0671e-05 - val_mae: 0.0050\n",
      "Epoch 495/500\n",
      "11/11 [==============================] - 0s 4ms/step - loss: 1.5532e-05 - mae: 0.0031 - val_loss: 3.3439e-05 - val_mae: 0.0049\n",
      "Epoch 496/500\n",
      "11/11 [==============================] - 0s 4ms/step - loss: 2.3487e-05 - mae: 0.0038 - val_loss: 1.4892e-05 - val_mae: 0.0035\n",
      "Epoch 497/500\n",
      "11/11 [==============================] - 0s 4ms/step - loss: 1.3505e-05 - mae: 0.0030 - val_loss: 2.2765e-05 - val_mae: 0.0042\n",
      "Epoch 498/500\n",
      "11/11 [==============================] - 0s 4ms/step - loss: 1.4276e-05 - mae: 0.0032 - val_loss: 5.1479e-05 - val_mae: 0.0065\n",
      "Epoch 499/500\n",
      "11/11 [==============================] - 0s 4ms/step - loss: 2.1215e-05 - mae: 0.0038 - val_loss: 5.7815e-06 - val_mae: 0.0018\n",
      "Epoch 500/500\n",
      "11/11 [==============================] - 0s 4ms/step - loss: 8.3700e-06 - mae: 0.0022 - val_loss: 3.8387e-06 - val_mae: 0.0015\n"
     ]
    }
   ],
   "source": [
    "history = ann.fit(X_train, y_train,\n",
    "                    validation_data = (X_val, y_val),\n",
    "                    callbacks=[es],\n",
    "                    epochs=500,\n",
    "                    batch_size=40,\n",
    "                    verbose=1)"
   ]
  },
  {
   "cell_type": "markdown",
   "metadata": {
    "colab_type": "text",
    "id": "0H0zKKNEBLD5"
   },
   "source": [
    "### Analyse learn history"
   ]
  },
  {
   "cell_type": "code",
   "execution_count": 16,
   "metadata": {
    "ExecuteTime": {
     "end_time": "2023-08-29T14:22:55.714123400Z",
     "start_time": "2023-08-29T14:22:55.447679500Z"
    }
   },
   "outputs": [
    {
     "data": {
      "text/plain": "<Figure size 640x480 with 1 Axes>",
      "image/png": "[encoded data removed]"
     },
     "metadata": {},
     "output_type": "display_data"
    }
   ],
   "source": [
    "# let's see the training and validation accuracy by epoch\n",
    "history_dict = history.history\n",
    "loss_values = history_dict['loss'] # you can change this\n",
    "val_loss_values = history_dict['val_loss'] # you can also change this\n",
    "epochs = range(1, len(loss_values) + 1) # range of X (no. of epochs)\n",
    "plt.plot(epochs, loss_values, 'blue', label='Train set loss')\n",
    "plt.plot(epochs, val_loss_values, 'orange', label='Validation set loss')\n",
    "#plt.title('Training and testing loss')\n",
    "plt.xlabel('Epochs')\n",
    "plt.ylabel('Loss (MSE)')\n",
    "plt.legend()\n",
    "plt.show()"
   ]
  },
  {
   "cell_type": "code",
   "execution_count": 17,
   "metadata": {
    "ExecuteTime": {
     "end_time": "2023-08-29T14:22:57.631347900Z",
     "start_time": "2023-08-29T14:22:57.469018600Z"
    }
   },
   "outputs": [
    {
     "data": {
      "text/plain": "<Figure size 640x480 with 1 Axes>",
      "image/png": "[encoded data removed]"
     },
     "metadata": {},
     "output_type": "display_data"
    }
   ],
   "source": [
    "loss_values1 = history_dict['mae'] # you can change this\n",
    "val_loss_values1 = history_dict['val_mae'] # you can also change this\n",
    "epochs = range(1, len(loss_values1) + 1) # range of X (no. of epochs)\n",
    "plt.plot(epochs, loss_values1, 'blue', label='Train set MAE')\n",
    "plt.plot(epochs, val_loss_values1, 'orange', label='Validation set MAE')\n",
    "#plt.title('Training and testing MAE')\n",
    "plt.xlabel('Epochs')\n",
    "plt.ylabel('MAE')\n",
    "plt.legend()\n",
    "plt.show()"
   ]
  },
  {
   "cell_type": "code",
   "execution_count": 18,
   "metadata": {
    "ExecuteTime": {
     "end_time": "2023-08-29T14:22:59.925171Z",
     "start_time": "2023-08-29T14:22:59.841549300Z"
    }
   },
   "outputs": [
    {
     "name": "stdout",
     "output_type": "stream",
     "text": [
      "range(1, 501)\n"
     ]
    }
   ],
   "source": [
    "print (epochs)"
   ]
  },
  {
   "cell_type": "markdown",
   "metadata": {},
   "source": [
    "### Save the model"
   ]
  },
  {
   "cell_type": "code",
   "execution_count": 19,
   "metadata": {
    "ExecuteTime": {
     "end_time": "2023-08-29T14:23:03.160511100Z",
     "start_time": "2023-08-29T14:23:03.089408700Z"
    }
   },
   "outputs": [],
   "source": [
    "ann.save('Change_ANN_model_1.h5')"
   ]
  },
  {
   "cell_type": "markdown",
   "metadata": {},
   "source": [
    "# Part 4 - Make predictions"
   ]
  },
  {
   "cell_type": "code",
   "execution_count": 7,
   "metadata": {},
   "outputs": [],
   "source": [
    "ann = load_model('Change_ANN_model_1.h5')"
   ]
  },
  {
   "cell_type": "code",
   "execution_count": 20,
   "metadata": {
    "ExecuteTime": {
     "end_time": "2023-08-29T14:24:25.235955500Z",
     "start_time": "2023-08-29T14:24:24.765343200Z"
    }
   },
   "outputs": [
    {
     "name": "stdout",
     "output_type": "stream",
     "text": [
      "13/13 [==============================] - 0s 2ms/step\n",
      "3/3 [==============================] - 0s 3ms/step\n"
     ]
    },
    {
     "data": {
      "text/plain": "<Figure size 640x480 with 2 Axes>",
      "image/png": "[encoded data removed]"
     },
     "metadata": {},
     "output_type": "display_data"
    }
   ],
   "source": [
    "# scatterplot of actual vs. pred\n",
    "# specify the dimensions \n",
    "fig, axes = plt.subplots(1,2) # 1 row, 2 columns\n",
    "\n",
    "# this makes the individual subplots\n",
    "# Training Results\n",
    "axes[0].scatter(x=y_train, y=ann.predict(X_train)) #first row, first entry (left top)\n",
    "axes[0].set_xlabel(\"Actual\", fontsize=10)\n",
    "axes[0].set_ylabel(\"Predicted\",  fontsize=10)\n",
    "axes[0].set_title(\"Training\")\n",
    "# add 45 deg line\n",
    "x = np.linspace(*axes[0].get_xlim())\n",
    "axes[0].plot(x, x, color='red')\n",
    "# Validation Results\n",
    "axes[1].scatter(x=y_val, y=ann.predict(X_val)) # first row, second entry (right top)\n",
    "axes[1].set_xlabel(\"Actual\", fontsize=10)\n",
    "axes[1].set_ylabel(\"Predicted\",  fontsize=10)\n",
    "axes[1].set_title(\"Validation\")\n",
    "# add 45 deg line\n",
    "x = np.linspace(*axes[1].get_xlim())\n",
    "axes[1].plot(x, x, color='red')\n",
    "\n",
    "# tight layout\n",
    "fig.tight_layout()\n",
    "\n",
    "# show the plot\n",
    "plt.show()"
   ]
  },
  {
   "cell_type": "code",
   "execution_count": 21,
   "metadata": {
    "colab": {
     "base_uri": "https://localhost:8080/",
     "height": 134
    },
    "colab_type": "code",
    "id": "IA0yApEmBG1X",
    "outputId": "cb981e1f-9204-4a2a-fece-9d66a6919189",
    "ExecuteTime": {
     "end_time": "2023-08-29T14:24:38.512364500Z",
     "start_time": "2023-08-29T14:24:38.373576600Z"
    }
   },
   "outputs": [
    {
     "name": "stdout",
     "output_type": "stream",
     "text": [
      "3/3 [==============================] - 0s 4ms/step\n",
      "[[0.06 0.06]\n",
      " [0.03 0.03]\n",
      " [0.09 0.09]\n",
      " [0.   0.  ]\n",
      " [0.03 0.03]\n",
      " [0.04 0.04]\n",
      " [0.07 0.07]\n",
      " [0.05 0.05]\n",
      " [0.   0.  ]\n",
      " [0.09 0.08]\n",
      " [0.03 0.03]\n",
      " [0.04 0.04]\n",
      " [0.05 0.05]\n",
      " [0.08 0.08]\n",
      " [0.08 0.08]\n",
      " [0.01 0.01]\n",
      " [0.04 0.04]\n",
      " [0.01 0.01]\n",
      " [0.08 0.08]\n",
      " [0.03 0.03]\n",
      " [0.   0.  ]\n",
      " [0.02 0.02]\n",
      " [0.08 0.08]\n",
      " [0.08 0.08]\n",
      " [0.01 0.01]\n",
      " [0.05 0.05]\n",
      " [0.   0.  ]\n",
      " [0.   0.  ]\n",
      " [0.07 0.07]\n",
      " [0.09 0.09]\n",
      " [0.04 0.04]\n",
      " [0.03 0.03]\n",
      " [0.02 0.02]\n",
      " [0.06 0.06]\n",
      " [0.01 0.01]\n",
      " [0.07 0.07]\n",
      " [0.06 0.06]\n",
      " [0.01 0.02]\n",
      " [0.01 0.01]\n",
      " [0.02 0.02]\n",
      " [0.06 0.06]\n",
      " [0.07 0.07]\n",
      " [0.04 0.04]\n",
      " [0.05 0.04]\n",
      " [0.02 0.02]\n",
      " [0.02 0.02]\n",
      " [0.03 0.03]\n",
      " [0.02 0.02]\n",
      " [0.04 0.04]\n",
      " [0.04 0.05]\n",
      " [0.   0.01]\n",
      " [0.   0.  ]\n",
      " [0.   0.  ]\n",
      " [0.08 0.08]\n",
      " [0.01 0.01]\n",
      " [0.08 0.08]\n",
      " [0.07 0.07]\n",
      " [0.07 0.07]\n",
      " [0.01 0.02]\n",
      " [0.04 0.04]\n",
      " [0.   0.  ]\n",
      " [0.01 0.01]\n",
      " [0.07 0.07]\n",
      " [0.   0.  ]\n",
      " [0.05 0.05]\n",
      " [0.06 0.07]\n",
      " [0.08 0.08]\n",
      " [0.07 0.06]\n",
      " [0.01 0.  ]\n",
      " [0.06 0.06]\n",
      " [0.05 0.05]\n",
      " [0.08 0.08]\n",
      " [0.07 0.07]\n",
      " [0.08 0.08]\n",
      " [0.08 0.08]\n",
      " [0.01 0.01]\n",
      " [0.08 0.08]\n",
      " [0.08 0.08]\n",
      " [0.04 0.04]\n",
      " [0.05 0.05]\n",
      " [0.02 0.02]\n",
      " [0.03 0.03]\n",
      " [0.08 0.07]\n",
      " [0.08 0.07]\n",
      " [0.   0.01]\n",
      " [0.01 0.01]\n",
      " [0.05 0.04]]\n"
     ]
    }
   ],
   "source": [
    "#X_test=np.asarray(X_test).astype(np.int)\n",
    "\n",
    "#y_test=np.asarray(y_test).astype(np.int)\n",
    "\n",
    "y_pred = ann.predict(X_test)\n",
    "np.set_printoptions(precision=2)\n",
    "print(np.concatenate((y_pred.reshape(len(y_pred),1), y_test.reshape(len(y_test),1)),1))"
   ]
  },
  {
   "cell_type": "code",
   "execution_count": 22,
   "metadata": {
    "ExecuteTime": {
     "end_time": "2023-08-29T14:24:41.490108600Z",
     "start_time": "2023-08-29T14:24:41.273025200Z"
    }
   },
   "outputs": [
    {
     "data": {
      "text/plain": "Text(0, 0.5, 'Predicted data')"
     },
     "execution_count": 22,
     "metadata": {},
     "output_type": "execute_result"
    },
    {
     "data": {
      "text/plain": "<Figure size 640x480 with 1 Axes>",
      "image/png": "[encoded data removed]"
     },
     "metadata": {},
     "output_type": "display_data"
    }
   ],
   "source": [
    "import matplotlib.pyplot as plt\n",
    "plt.scatter(y_test, y_pred, color=\"blue\")\n",
    "plt.plot ([0,0.09],[0,0.09], color = \"red\")\n",
    "plt.axis ([0,0.09,0,0.09])\n",
    "plt.xlabel ('Actual data')\n",
    "plt.ylabel ('Predicted data')"
   ]
  },
  {
   "cell_type": "code",
   "execution_count": 23,
   "metadata": {
    "ExecuteTime": {
     "end_time": "2023-08-29T14:24:46.341274900Z",
     "start_time": "2023-08-29T14:24:45.955478Z"
    }
   },
   "outputs": [
    {
     "data": {
      "text/plain": "<Figure size 900x900 with 1 Axes>",
      "image/png": "[encoded data removed]"
     },
     "metadata": {},
     "output_type": "display_data"
    }
   ],
   "source": [
    "from sklearn.metrics import r2_score\n",
    "# Initialize layout\n",
    "fig1, ax1 = plt.subplots(figsize = (9, 9))\n",
    "\n",
    "\n",
    "#y = y_pred         # Model on prvious line is called here\n",
    "#x = y_test\n",
    "\n",
    "\n",
    "\n",
    "# Add scatterplot\n",
    "ax1.scatter(y_test, y_pred, s=70, alpha=1, edgecolors=\"k\",c='mediumblue',zorder=5, label = 'Points')\n",
    "\n",
    "\n",
    "plt.ylabel('Predicted change time (s)',fontsize = 25)\n",
    "plt.xlabel('Actual change time (s)',fontsize = 25)\n",
    "plt.xticks(fontsize = 19)\n",
    "plt.yticks(fontsize = 19)\n",
    "\n",
    "\n",
    "x1 = np.linspace(0,0.09)\n",
    "\n",
    "plt.plot(x1, x1, 'Red', label='45\\N{DEGREE SIGN} line',lw=2.5,alpha=1)\n",
    "plt.plot(x1, 1.1*x1, '--m', label='\\u00B110% Error',lw=2.5,alpha=0.7)\n",
    "plt.plot(x1, 0.9*x1,'m', linestyle='--',lw=2.5,alpha=0.7)\n",
    "plt.plot(x1, 1.2*x1, '-.g', label='\\u00B120% Error',lw=2.5,alpha=0.7)\n",
    "plt.plot(x1, 0.8*x1,'-.g',lw=2.5,alpha=0.7)\n",
    "\n",
    "plt.ylim(0, 0.09)\n",
    "plt.xlim(0, 0.09)\n",
    "plt.legend(loc='upper left',fontsize = 25)\n",
    "\n",
    "plt.grid()\n",
    "\n",
    "ax1.spines['left'].set_color('black')        # setting up Y-axis tick color to red\n",
    "ax1.spines['bottom'].set_color('black')         #setting up above X-axis tick color to red\n",
    "\n",
    "\n",
    "\n",
    "#ax1.annotate(\"$R^2$ = {:.3f}\".format(r2), (2500, 1000),fontsize = 25)  #Model is called here\n",
    "#ax1.annotate(\"Adj.$R^2$ = {:.3f}\".format(adj_r2), (2500, 750),fontsize = 25)\n",
    "\n",
    "#plt.savefig('plot1.png', dpi = 600, bbox_inches = 'tight')"
   ]
  },
  {
   "cell_type": "code",
   "execution_count": 24,
   "metadata": {
    "ExecuteTime": {
     "end_time": "2023-08-29T14:24:49.759442700Z",
     "start_time": "2023-08-29T14:24:49.630273300Z"
    }
   },
   "outputs": [
    {
     "name": "stdout",
     "output_type": "stream",
     "text": [
      "13/13 [==============================] - 0s 2ms/step\n",
      "0.0016985571559489884\n",
      "0.001964248434482241\n"
     ]
    }
   ],
   "source": [
    "# metrics\n",
    "\n",
    "trainpreds = ann.predict(X_train)\n",
    "\n",
    "from sklearn.metrics import mean_absolute_error\n",
    "print(mean_absolute_error(y_train, trainpreds)) # train\n",
    "print(mean_absolute_error(y_test, y_pred)) # test"
   ]
  },
  {
   "cell_type": "code",
   "execution_count": 25,
   "metadata": {
    "ExecuteTime": {
     "end_time": "2023-08-29T14:24:51.449918800Z",
     "start_time": "2023-08-29T14:24:51.352177100Z"
    }
   },
   "outputs": [
    {
     "name": "stdout",
     "output_type": "stream",
     "text": [
      "0.990899755716725\n"
     ]
    }
   ],
   "source": [
    "from sklearn.metrics import r2_score\n",
    "r2 = r2_score(y_test, y_pred)\n",
    "print (r2)"
   ]
  },
  {
   "cell_type": "code",
   "execution_count": 26,
   "metadata": {
    "ExecuteTime": {
     "end_time": "2023-08-29T14:24:53.074204100Z",
     "start_time": "2023-08-29T14:24:52.990034500Z"
    }
   },
   "outputs": [
    {
     "name": "stdout",
     "output_type": "stream",
     "text": [
      "0.9927825783962235\n"
     ]
    }
   ],
   "source": [
    "r2_train = r2_score(y_train, trainpreds)\n",
    "print (r2_train)"
   ]
  },
  {
   "cell_type": "code",
   "execution_count": 27,
   "metadata": {
    "ExecuteTime": {
     "end_time": "2023-08-29T14:24:55.667449200Z",
     "start_time": "2023-08-29T14:24:55.618844200Z"
    }
   },
   "outputs": [
    {
     "name": "stdout",
     "output_type": "stream",
     "text": [
      "Within 10% margin 71.26%\n",
      "Within 20% margin 79.31%\n",
      "Out of 20% margin 20.69%\n"
     ]
    }
   ],
   "source": [
    "count1 = 0\n",
    "for i in range(len(y_pred)):\n",
    "    line1 = y_pred[i] - 0.9*y_test[i]\n",
    "    line2 = y_pred[i] - 1.1*y_test[i]\n",
    "    #print ('line 1 ', line1)\n",
    "    #print ('line 2 ', line2)\n",
    "    mask1 = (line1 > 0) & (line2 < 0)\n",
    "    #print (mask)\n",
    "    count1 = np.sum(mask1+count1)\n",
    "    #print (count)\n",
    "\n",
    "count2 = 0\n",
    "for j in range(len(y_pred)):\n",
    "    line3 = y_pred[j] - 0.8*y_test[j]\n",
    "    line4 = y_pred[j] - 1.2*y_test[j]\n",
    "    mask2 = (line3 > 0) & (line4 < 0)\n",
    "    count2 = np.sum(mask2+count2)\n",
    "\n",
    "\n",
    "count3 = 0    \n",
    "for k in range(len(y_pred)):\n",
    "    line5 = y_pred[k] - 0.8*y_test[k]\n",
    "    line6 = y_pred[k] - 1.2*y_test[k]\n",
    "    mask3 = (line5 < 0) or (line6 > 0)\n",
    "    count3 = np.sum(mask3+count3)\n",
    "   \n",
    "\n",
    "print ('Within 10% margin', format((count1/len (y_pred)),'.2%'))\n",
    "print ('Within 20% margin', format((count2/len (y_pred)),'.2%'))\n",
    "print ('Out of 20% margin', format((count3/len (y_pred)),'.2%'))"
   ]
  },
  {
   "cell_type": "code",
   "execution_count": 28,
   "metadata": {
    "ExecuteTime": {
     "end_time": "2023-08-29T14:24:57.417013100Z",
     "start_time": "2023-08-29T14:24:57.321913500Z"
    }
   },
   "outputs": [
    {
     "name": "stdout",
     "output_type": "stream",
     "text": [
      "0.9906830832337898\n"
     ]
    }
   ],
   "source": [
    "adj_r2 = 1 - ((1 - r2) * (len(X_test) - 1) / (len(X_test) - len (X_test[0]) - 1))\n",
    "print (adj_r2)"
   ]
  },
  {
   "cell_type": "code",
   "execution_count": 29,
   "metadata": {
    "ExecuteTime": {
     "end_time": "2023-08-29T14:24:58.559183900Z",
     "start_time": "2023-08-29T14:24:58.483383600Z"
    }
   },
   "outputs": [
    {
     "data": {
      "text/plain": "0.0026375371508297854"
     },
     "execution_count": 29,
     "metadata": {},
     "output_type": "execute_result"
    }
   ],
   "source": [
    "import math\n",
    "from sklearn.metrics import mean_squared_error\n",
    "\n",
    "math.sqrt(mean_squared_error(y_test, y_pred))"
   ]
  },
  {
   "cell_type": "code",
   "execution_count": 30,
   "metadata": {
    "ExecuteTime": {
     "end_time": "2023-08-29T14:24:59.745337600Z",
     "start_time": "2023-08-29T14:24:59.677340200Z"
    }
   },
   "outputs": [
    {
     "data": {
      "text/plain": "0.001964248434482241"
     },
     "execution_count": 30,
     "metadata": {},
     "output_type": "execute_result"
    }
   ],
   "source": [
    "from sklearn.metrics import mean_absolute_error\n",
    "\n",
    "mean_absolute_error(y_test, y_pred)"
   ]
  },
  {
   "cell_type": "markdown",
   "source": [
    "# Part 5 - Use model"
   ],
   "metadata": {
    "collapsed": false
   }
  },
  {
   "cell_type": "markdown",
   "source": [
    "## Import libraries"
   ],
   "metadata": {
    "collapsed": false
   }
  },
  {
   "cell_type": "code",
   "execution_count": 1,
   "outputs": [],
   "source": [
    "from keras.models import load_model\n",
    "import numpy as np"
   ],
   "metadata": {
    "collapsed": false,
    "ExecuteTime": {
     "end_time": "2023-08-29T13:55:53.956103600Z",
     "start_time": "2023-08-29T13:55:49.437647400Z"
    }
   }
  },
  {
   "cell_type": "markdown",
   "source": [
    "## Load model"
   ],
   "metadata": {
    "collapsed": false
   }
  },
  {
   "cell_type": "code",
   "execution_count": 2,
   "outputs": [],
   "source": [
    "ann = load_model('Change_ANN_model_1.h5')"
   ],
   "metadata": {
    "collapsed": false,
    "ExecuteTime": {
     "end_time": "2023-08-29T13:55:56.861219400Z",
     "start_time": "2023-08-29T13:55:56.679009600Z"
    }
   }
  },
  {
   "cell_type": "markdown",
   "source": [
    "## Prediction"
   ],
   "metadata": {
    "collapsed": false
   }
  },
  {
   "cell_type": "code",
   "execution_count": 3,
   "outputs": [
    {
     "name": "stdout",
     "output_type": "stream",
     "text": [
      "[[20.  18.5]]\n",
      "1/1 [==============================] - 0s 163ms/step\n",
      "[[0.08082004]]\n",
      "Stored 'end_time' (ndarray)\n"
     ]
    }
   ],
   "source": [
    "charge_mass = 20\n",
    "standoff_distance = 18.5\n",
    "arr = np.array ([[charge_mass,standoff_distance]])\n",
    "print (arr)\n",
    "np.set_printoptions(precision=9)\n",
    "change_time = ann.predict(arr)\n",
    "print (change_time)\n",
    "%store change_time"
   ],
   "metadata": {
    "collapsed": false,
    "ExecuteTime": {
     "end_time": "2023-08-29T13:56:23.878224700Z",
     "start_time": "2023-08-29T13:56:23.620915400Z"
    }
   }
  }
 ],
 "metadata": {
  "colab": {
   "collapsed_sections": [],
   "name": "Artificial Neural Network",
   "provenance": [],
   "toc_visible": true
  },
  "kernelspec": {
   "display_name": "Python 3 (ipykernel)",
   "language": "python",
   "name": "python3"
  },
  "language_info": {
   "codemirror_mode": {
    "name": "ipython",
    "version": 3
   },
   "file_extension": ".py",
   "mimetype": "text/x-python",
   "name": "python",
   "nbconvert_exporter": "python",
   "pygments_lexer": "ipython3",
   "version": "3.9.7"
  }
 },
 "nbformat": 4,
 "nbformat_minor": 4
}
