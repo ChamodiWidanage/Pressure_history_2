{
 "cells": [
  {
   "cell_type": "markdown",
   "metadata": {
    "colab_type": "text",
    "id": "3cbb7fRy-eyr"
   },
   "source": [
    "# Artificial Neural Network"
   ]
  },
  {
   "cell_type": "markdown",
   "metadata": {
    "colab_type": "text",
    "id": "8sNDnxE2-pwE"
   },
   "source": [
    "### Importing the libraries"
   ]
  },
  {
   "cell_type": "code",
   "execution_count": 1,
   "metadata": {
    "colab": {},
    "colab_type": "code",
    "id": "lxChR1Rk-umf",
    "ExecuteTime": {
     "end_time": "2023-12-26T23:36:43.569617700Z",
     "start_time": "2023-12-26T23:36:19.357666500Z"
    }
   },
   "outputs": [
    {
     "name": "stdout",
     "output_type": "stream",
     "text": [
      "WARNING:tensorflow:From D:\\Anaconda3\\Lib\\site-packages\\keras\\src\\losses.py:2976: The name tf.losses.sparse_softmax_cross_entropy is deprecated. Please use tf.compat.v1.losses.sparse_softmax_cross_entropy instead.\n"
     ]
    }
   ],
   "source": [
    "import numpy as np\n",
    "import pandas as pd\n",
    "import tensorflow as tf\n",
    "from sklearn.model_selection import GridSearchCV, KFold\n",
    "from tensorflow.keras.models import Sequential\n",
    "from tensorflow.keras.layers import Dense\n",
    "from scikeras.wrappers import KerasRegressor"
   ]
  },
  {
   "cell_type": "markdown",
   "metadata": {
    "colab_type": "text",
    "id": "AG3FQEch-yuA"
   },
   "source": [
    "## Part 1 - Data Preprocessing"
   ]
  },
  {
   "cell_type": "markdown",
   "metadata": {
    "colab_type": "text",
    "id": "-4zq8Mza_D9O"
   },
   "source": [
    "### Importing the dataset"
   ]
  },
  {
   "cell_type": "code",
   "execution_count": 2,
   "metadata": {
    "colab": {},
    "colab_type": "code",
    "id": "B9CV13Co_HHM",
    "ExecuteTime": {
     "end_time": "2023-12-27T00:24:41.244297900Z",
     "start_time": "2023-12-27T00:24:40.425459200Z"
    }
   },
   "outputs": [
    {
     "name": "stdout",
     "output_type": "stream",
     "text": [
      "<class 'pandas.core.frame.DataFrame'>\n",
      "RangeIndex: 588 entries, 0 to 587\n",
      "Data columns (total 4 columns):\n",
      " #   Column             Non-Null Count  Dtype  \n",
      "---  ------             --------------  -----  \n",
      " 0   Explosive type     588 non-null    object \n",
      " 1   Explosive mass     588 non-null    float64\n",
      " 2   Standoff distance  588 non-null    float64\n",
      " 3   Time of arrival    588 non-null    float64\n",
      "dtypes: float64(3), object(1)\n",
      "memory usage: 18.5+ KB\n"
     ]
    }
   ],
   "source": [
    "dataset = pd.read_excel('Arrival_time.xlsx')\n",
    "dataset.info()"
   ]
  },
  {
   "cell_type": "code",
   "execution_count": 3,
   "metadata": {
    "ExecuteTime": {
     "end_time": "2023-12-27T00:24:44.847173900Z",
     "start_time": "2023-12-27T00:24:44.784519900Z"
    }
   },
   "outputs": [
    {
     "name": "stdout",
     "output_type": "stream",
     "text": [
      "<class 'pandas.core.frame.DataFrame'>\n",
      "RangeIndex: 588 entries, 0 to 587\n",
      "Data columns (total 5 columns):\n",
      " #   Column                        Non-Null Count  Dtype  \n",
      "---  ------                        --------------  -----  \n",
      " 0   Explosive mass                588 non-null    float64\n",
      " 1   Standoff distance             588 non-null    float64\n",
      " 2   Time of arrival               588 non-null    float64\n",
      " 3   Explosive type_Composition B  588 non-null    uint8  \n",
      " 4   Explosive type_TNT            588 non-null    uint8  \n",
      "dtypes: float64(3), uint8(2)\n",
      "memory usage: 15.1 KB\n"
     ]
    }
   ],
   "source": [
    "# convert categorical variable into dummy variables\n",
    "dataset = pd.get_dummies(dataset, columns=['Explosive type'])\n",
    "dataset.info()"
   ]
  },
  {
   "cell_type": "code",
   "execution_count": 4,
   "metadata": {
    "ExecuteTime": {
     "end_time": "2023-12-27T00:25:17.292436700Z",
     "start_time": "2023-12-27T00:25:17.244276600Z"
    }
   },
   "outputs": [
    {
     "data": {
      "text/plain": "   Explosive mass  Standoff distance  Time of arrival  \\\n0             0.5                5.5         0.011771   \n1             0.5                6.5         0.014624   \n2             0.5                7.5         0.017511   \n3             0.5                8.5         0.020422   \n4             0.5                9.5         0.023351   \n\n   Explosive type_Composition B  Explosive type_TNT  \n0                             0                   1  \n1                             0                   1  \n2                             0                   1  \n3                             0                   1  \n4                             0                   1  ",
      "text/html": "<div>\n<style scoped>\n    .dataframe tbody tr th:only-of-type {\n        vertical-align: middle;\n    }\n\n    .dataframe tbody tr th {\n        vertical-align: top;\n    }\n\n    .dataframe thead th {\n        text-align: right;\n    }\n</style>\n<table border=\"1\" class=\"dataframe\">\n  <thead>\n    <tr style=\"text-align: right;\">\n      <th></th>\n      <th>Explosive mass</th>\n      <th>Standoff distance</th>\n      <th>Time of arrival</th>\n      <th>Explosive type_Composition B</th>\n      <th>Explosive type_TNT</th>\n    </tr>\n  </thead>\n  <tbody>\n    <tr>\n      <th>0</th>\n      <td>0.5</td>\n      <td>5.5</td>\n      <td>0.011771</td>\n      <td>0</td>\n      <td>1</td>\n    </tr>\n    <tr>\n      <th>1</th>\n      <td>0.5</td>\n      <td>6.5</td>\n      <td>0.014624</td>\n      <td>0</td>\n      <td>1</td>\n    </tr>\n    <tr>\n      <th>2</th>\n      <td>0.5</td>\n      <td>7.5</td>\n      <td>0.017511</td>\n      <td>0</td>\n      <td>1</td>\n    </tr>\n    <tr>\n      <th>3</th>\n      <td>0.5</td>\n      <td>8.5</td>\n      <td>0.020422</td>\n      <td>0</td>\n      <td>1</td>\n    </tr>\n    <tr>\n      <th>4</th>\n      <td>0.5</td>\n      <td>9.5</td>\n      <td>0.023351</td>\n      <td>0</td>\n      <td>1</td>\n    </tr>\n  </tbody>\n</table>\n</div>"
     },
     "execution_count": 4,
     "metadata": {},
     "output_type": "execute_result"
    }
   ],
   "source": [
    "dataset.head()"
   ]
  },
  {
   "cell_type": "code",
   "execution_count": 5,
   "metadata": {
    "ExecuteTime": {
     "end_time": "2023-12-27T00:25:19.287231100Z",
     "start_time": "2023-12-27T00:25:19.271196500Z"
    }
   },
   "outputs": [
    {
     "name": "stdout",
     "output_type": "stream",
     "text": [
      "(588, 4) (588,)\n"
     ]
    }
   ],
   "source": [
    "y = dataset[('Time of arrival')]\n",
    "X = dataset.drop('Time of arrival', axis=1)\n",
    "print(X.shape, y.shape)"
   ]
  },
  {
   "cell_type": "code",
   "execution_count": 6,
   "metadata": {
    "ExecuteTime": {
     "end_time": "2023-12-27T00:25:20.933629700Z",
     "start_time": "2023-12-27T00:25:20.885950200Z"
    }
   },
   "outputs": [],
   "source": [
    "# convert to numpy array\n",
    "X = np.array(X)\n",
    "y = np.array(y)"
   ]
  },
  {
   "cell_type": "markdown",
   "metadata": {
    "colab_type": "text",
    "id": "VC6omXel_Up0"
   },
   "source": [
    "### Splitting the dataset into the Training set and Test set"
   ]
  },
  {
   "cell_type": "code",
   "execution_count": 7,
   "metadata": {
    "colab": {},
    "colab_type": "code",
    "id": "L5edeb2r_agx",
    "ExecuteTime": {
     "end_time": "2023-12-27T00:25:22.676912100Z",
     "start_time": "2023-12-27T00:25:22.660853700Z"
    }
   },
   "outputs": [],
   "source": [
    "from sklearn.model_selection import train_test_split\n",
    "X_train, X_test, y_train, y_test = train_test_split(X, y, test_size = 0.3, random_state = 71)"
   ]
  },
  {
   "cell_type": "code",
   "execution_count": 8,
   "outputs": [],
   "source": [
    "X_val, X_test, y_val, y_test = train_test_split(X_test,\n",
    "                                                y_test,\n",
    "                                                test_size = 0.5,\n",
    "                                                random_state = 71)"
   ],
   "metadata": {
    "collapsed": false,
    "ExecuteTime": {
     "end_time": "2023-12-27T00:25:23.717689200Z",
     "start_time": "2023-12-27T00:25:23.670178300Z"
    }
   }
  },
  {
   "cell_type": "markdown",
   "source": [
    "### Feature scaling"
   ],
   "metadata": {
    "collapsed": false
   }
  },
  {
   "cell_type": "code",
   "execution_count": null,
   "outputs": [],
   "source": [
    "from sklearn.preprocessing import StandardScaler\n",
    "sc = StandardScaler()\n",
    "X_train[:,0:2] = sc.fit_transform(X_train[:, 0:2])\n",
    "print (X_train)"
   ],
   "metadata": {
    "collapsed": false
   }
  },
  {
   "cell_type": "code",
   "execution_count": null,
   "outputs": [],
   "source": [
    "X_test[:,0:2] = sc.transform(X_test[:, 0:2])\n",
    "print (X_test)"
   ],
   "metadata": {
    "collapsed": false
   }
  },
  {
   "cell_type": "code",
   "execution_count": null,
   "outputs": [],
   "source": [
    "X_val[:,0:2] = sc.transform(X_val[:, 0:2])\n",
    "print (X_val)"
   ],
   "metadata": {
    "collapsed": false
   }
  },
  {
   "cell_type": "markdown",
   "metadata": {},
   "source": [
    "### S1 -Hyperparameter tuning - neurons, activation function"
   ]
  },
  {
   "cell_type": "code",
   "execution_count": 66,
   "metadata": {
    "ExecuteTime": {
     "end_time": "2023-12-27T03:04:20.461491900Z",
     "start_time": "2023-12-27T03:04:20.413820800Z"
    }
   },
   "outputs": [],
   "source": [
    "from tensorflow.keras.layers import Dropout\n",
    "# Set seed for NumPy\n",
    "np.random.seed(71)\n",
    "\n",
    "# Set seed for TensorFlow\n",
    "tf.random.set_seed(71)\n",
    "\n",
    "from tensorflow.keras.optimizers import Adam, RMSprop, Nadam\n",
    "def create_model1(last_layer_nodes, activation_func):\n",
    "    model = Sequential()\n",
    "    model.add(Dense(units = 200,  input_shape=(X_train.shape[1],), activation=activation_func))\n",
    "    #model.add(Dropout(0.1))\n",
    "    model.add(Dense(last_layer_nodes, activation=activation_func))\n",
    "    #model.add(Dropout(0.1))\n",
    "    model.add(Dense(1, activation='linear'))\n",
    "    optimizer1 = Adam(learning_rate=0.01)\n",
    "    model.compile(optimizer = optimizer1, loss = 'mean_squared_error', metrics = ['mae'])\n",
    "    return model\n",
    "\n",
    "activation_func = ['relu', 'leaky_relu', 'softplus']\n",
    "last_layer_nodes = [10, 20, 30, 40, 50,60, 70, 80,90,100,110,120,130, 140, 150,160, 170, 180, 190, 200]\n",
    "\n",
    "param_grid = dict( model__activation_func = activation_func,model__last_layer_nodes = last_layer_nodes)\n",
    "\n",
    "##Wrap model into scikit-learn\n",
    "model1 = KerasRegressor(model=create_model1, verbose=0, epochs = 100, batch_size = 50, random_state = 71)"
   ]
  },
  {
   "cell_type": "code",
   "execution_count": 67,
   "metadata": {
    "ExecuteTime": {
     "end_time": "2023-12-27T03:05:46.881287800Z",
     "start_time": "2023-12-27T03:04:22.836774100Z"
    }
   },
   "outputs": [
    {
     "name": "stderr",
     "output_type": "stream",
     "text": [
      "D:\\Anaconda3\\Lib\\site-packages\\joblib\\externals\\loky\\process_executor.py:700: UserWarning: A worker stopped while some jobs were given to the executor. This can be caused by a too short worker timeout or by a memory leak.\n",
      "  warnings.warn(\n"
     ]
    },
    {
     "name": "stdout",
     "output_type": "stream",
     "text": [
      "Best: 0.978573 using {'model__activation_func': 'relu', 'model__last_layer_nodes': 100}\n",
      "-0.005581 (0.003640) with: {'model__activation_func': 'relu', 'model__last_layer_nodes': 10}\n",
      "-0.005461 (0.003942) with: {'model__activation_func': 'relu', 'model__last_layer_nodes': 20}\n",
      "0.566998 (0.467574) with: {'model__activation_func': 'relu', 'model__last_layer_nodes': 30}\n",
      "0.044477 (0.097583) with: {'model__activation_func': 'relu', 'model__last_layer_nodes': 40}\n",
      "0.906980 (0.015514) with: {'model__activation_func': 'relu', 'model__last_layer_nodes': 50}\n",
      "0.936826 (0.008004) with: {'model__activation_func': 'relu', 'model__last_layer_nodes': 60}\n",
      "0.783498 (0.394041) with: {'model__activation_func': 'relu', 'model__last_layer_nodes': 70}\n",
      "0.929319 (0.029428) with: {'model__activation_func': 'relu', 'model__last_layer_nodes': 80}\n",
      "0.928922 (0.035764) with: {'model__activation_func': 'relu', 'model__last_layer_nodes': 90}\n",
      "0.978573 (0.005024) with: {'model__activation_func': 'relu', 'model__last_layer_nodes': 100}\n",
      "0.938601 (0.010298) with: {'model__activation_func': 'relu', 'model__last_layer_nodes': 110}\n",
      "0.952147 (0.017243) with: {'model__activation_func': 'relu', 'model__last_layer_nodes': 120}\n",
      "0.965069 (0.011812) with: {'model__activation_func': 'relu', 'model__last_layer_nodes': 130}\n",
      "0.945604 (0.020532) with: {'model__activation_func': 'relu', 'model__last_layer_nodes': 140}\n",
      "0.941939 (0.022838) with: {'model__activation_func': 'relu', 'model__last_layer_nodes': 150}\n",
      "0.908686 (0.062909) with: {'model__activation_func': 'relu', 'model__last_layer_nodes': 160}\n",
      "0.932298 (0.033360) with: {'model__activation_func': 'relu', 'model__last_layer_nodes': 170}\n",
      "0.903503 (0.041025) with: {'model__activation_func': 'relu', 'model__last_layer_nodes': 180}\n",
      "0.933256 (0.023180) with: {'model__activation_func': 'relu', 'model__last_layer_nodes': 190}\n",
      "0.898404 (0.064469) with: {'model__activation_func': 'relu', 'model__last_layer_nodes': 200}\n",
      "0.948915 (0.020716) with: {'model__activation_func': 'leaky_relu', 'model__last_layer_nodes': 10}\n",
      "0.950433 (0.028939) with: {'model__activation_func': 'leaky_relu', 'model__last_layer_nodes': 20}\n",
      "0.961337 (0.010336) with: {'model__activation_func': 'leaky_relu', 'model__last_layer_nodes': 30}\n",
      "0.927241 (0.019666) with: {'model__activation_func': 'leaky_relu', 'model__last_layer_nodes': 40}\n",
      "0.832004 (0.065790) with: {'model__activation_func': 'leaky_relu', 'model__last_layer_nodes': 50}\n",
      "0.834595 (0.050317) with: {'model__activation_func': 'leaky_relu', 'model__last_layer_nodes': 60}\n",
      "0.844215 (0.056603) with: {'model__activation_func': 'leaky_relu', 'model__last_layer_nodes': 70}\n",
      "0.788683 (0.036474) with: {'model__activation_func': 'leaky_relu', 'model__last_layer_nodes': 80}\n",
      "0.782751 (0.095660) with: {'model__activation_func': 'leaky_relu', 'model__last_layer_nodes': 90}\n",
      "0.819737 (0.113953) with: {'model__activation_func': 'leaky_relu', 'model__last_layer_nodes': 100}\n",
      "0.605109 (0.208852) with: {'model__activation_func': 'leaky_relu', 'model__last_layer_nodes': 110}\n",
      "0.692245 (0.131344) with: {'model__activation_func': 'leaky_relu', 'model__last_layer_nodes': 120}\n",
      "0.872701 (0.038481) with: {'model__activation_func': 'leaky_relu', 'model__last_layer_nodes': 130}\n",
      "0.777588 (0.133078) with: {'model__activation_func': 'leaky_relu', 'model__last_layer_nodes': 140}\n",
      "0.796842 (0.139530) with: {'model__activation_func': 'leaky_relu', 'model__last_layer_nodes': 150}\n",
      "0.641851 (0.145332) with: {'model__activation_func': 'leaky_relu', 'model__last_layer_nodes': 160}\n",
      "0.594689 (0.299144) with: {'model__activation_func': 'leaky_relu', 'model__last_layer_nodes': 170}\n",
      "0.511638 (0.270458) with: {'model__activation_func': 'leaky_relu', 'model__last_layer_nodes': 180}\n",
      "0.766997 (0.071438) with: {'model__activation_func': 'leaky_relu', 'model__last_layer_nodes': 190}\n",
      "0.590058 (0.220278) with: {'model__activation_func': 'leaky_relu', 'model__last_layer_nodes': 200}\n",
      "0.755411 (0.083802) with: {'model__activation_func': 'softplus', 'model__last_layer_nodes': 10}\n",
      "-0.029223 (0.010619) with: {'model__activation_func': 'softplus', 'model__last_layer_nodes': 20}\n",
      "0.856907 (0.009995) with: {'model__activation_func': 'softplus', 'model__last_layer_nodes': 30}\n",
      "0.283744 (0.144625) with: {'model__activation_func': 'softplus', 'model__last_layer_nodes': 40}\n",
      "0.848311 (0.037934) with: {'model__activation_func': 'softplus', 'model__last_layer_nodes': 50}\n",
      "0.901356 (0.028438) with: {'model__activation_func': 'softplus', 'model__last_layer_nodes': 60}\n",
      "0.521279 (0.054862) with: {'model__activation_func': 'softplus', 'model__last_layer_nodes': 70}\n",
      "0.693650 (0.051775) with: {'model__activation_func': 'softplus', 'model__last_layer_nodes': 80}\n",
      "0.779442 (0.159568) with: {'model__activation_func': 'softplus', 'model__last_layer_nodes': 90}\n",
      "-0.243935 (0.154384) with: {'model__activation_func': 'softplus', 'model__last_layer_nodes': 100}\n",
      "0.350891 (0.126254) with: {'model__activation_func': 'softplus', 'model__last_layer_nodes': 110}\n",
      "-0.695692 (0.131331) with: {'model__activation_func': 'softplus', 'model__last_layer_nodes': 120}\n",
      "0.609897 (0.053474) with: {'model__activation_func': 'softplus', 'model__last_layer_nodes': 130}\n",
      "0.279651 (0.097834) with: {'model__activation_func': 'softplus', 'model__last_layer_nodes': 140}\n",
      "0.910688 (0.028027) with: {'model__activation_func': 'softplus', 'model__last_layer_nodes': 150}\n",
      "0.621836 (0.100808) with: {'model__activation_func': 'softplus', 'model__last_layer_nodes': 160}\n",
      "0.692305 (0.064846) with: {'model__activation_func': 'softplus', 'model__last_layer_nodes': 170}\n",
      "0.588645 (0.102343) with: {'model__activation_func': 'softplus', 'model__last_layer_nodes': 180}\n",
      "0.117961 (0.160914) with: {'model__activation_func': 'softplus', 'model__last_layer_nodes': 190}\n",
      "0.023283 (0.298405) with: {'model__activation_func': 'softplus', 'model__last_layer_nodes': 200}\n"
     ]
    }
   ],
   "source": [
    "kf = KFold(n_splits=5, shuffle=True, random_state=71)\n",
    "grid1 = GridSearchCV(estimator = model1, param_grid= param_grid, n_jobs=-1, scoring = 'r2', cv=kf)\n",
    "grid_result1 = grid1.fit(X_train, y_train)\n",
    "\n",
    "# summarize results\n",
    "print(\"Best: %f using %s\" % (grid_result1.best_score_, grid_result1.best_params_))\n",
    "means = grid_result1.cv_results_['mean_test_score']\n",
    "stds = grid_result1.cv_results_['std_test_score']\n",
    "params = grid_result1.cv_results_['params']\n",
    "for mean, stdev, param in zip(means, stds, params):\n",
    "    print(\"%f (%f) with: %r\" % (mean, stdev, param))"
   ]
  },
  {
   "cell_type": "code",
   "execution_count": 68,
   "outputs": [
    {
     "data": {
      "text/plain": "   model__activation_func  model__last_layer_nodes  model__first_layer_nodes  \\\n0                    relu                       10                       200   \n1                    relu                       20                       200   \n2                    relu                       30                       200   \n3                    relu                       40                       200   \n4                    relu                       50                       200   \n5                    relu                       60                       200   \n6                    relu                       70                       200   \n7                    relu                       80                       200   \n8                    relu                       90                       200   \n9                    relu                      100                       200   \n10                   relu                      110                       200   \n11                   relu                      120                       200   \n12                   relu                      130                       200   \n13                   relu                      140                       200   \n14                   relu                      150                       200   \n15                   relu                      160                       200   \n16                   relu                      170                       200   \n17                   relu                      180                       200   \n18                   relu                      190                       200   \n19                   relu                      200                       200   \n20             leaky_relu                       10                       200   \n21             leaky_relu                       20                       200   \n22             leaky_relu                       30                       200   \n23             leaky_relu                       40                       200   \n24             leaky_relu                       50                       200   \n25             leaky_relu                       60                       200   \n26             leaky_relu                       70                       200   \n27             leaky_relu                       80                       200   \n28             leaky_relu                       90                       200   \n29             leaky_relu                      100                       200   \n30             leaky_relu                      110                       200   \n31             leaky_relu                      120                       200   \n32             leaky_relu                      130                       200   \n33             leaky_relu                      140                       200   \n34             leaky_relu                      150                       200   \n35             leaky_relu                      160                       200   \n36             leaky_relu                      170                       200   \n37             leaky_relu                      180                       200   \n38             leaky_relu                      190                       200   \n39             leaky_relu                      200                       200   \n40               softplus                       10                       200   \n41               softplus                       20                       200   \n42               softplus                       30                       200   \n43               softplus                       40                       200   \n44               softplus                       50                       200   \n45               softplus                       60                       200   \n46               softplus                       70                       200   \n47               softplus                       80                       200   \n48               softplus                       90                       200   \n49               softplus                      100                       200   \n50               softplus                      110                       200   \n51               softplus                      120                       200   \n52               softplus                      130                       200   \n53               softplus                      140                       200   \n54               softplus                      150                       200   \n55               softplus                      160                       200   \n56               softplus                      170                       200   \n57               softplus                      180                       200   \n58               softplus                      190                       200   \n59               softplus                      200                       200   \n\n          R2  \n0  -0.005581  \n1  -0.005461  \n2   0.566998  \n3   0.044477  \n4   0.906980  \n5   0.936826  \n6   0.783498  \n7   0.929319  \n8   0.928922  \n9   0.978573  \n10  0.938601  \n11  0.952147  \n12  0.965069  \n13  0.945604  \n14  0.941939  \n15  0.908686  \n16  0.932298  \n17  0.903503  \n18  0.933256  \n19  0.898404  \n20  0.948915  \n21  0.950433  \n22  0.961337  \n23  0.927241  \n24  0.832004  \n25  0.834595  \n26  0.844215  \n27  0.788683  \n28  0.782751  \n29  0.819737  \n30  0.605109  \n31  0.692245  \n32  0.872701  \n33  0.777588  \n34  0.796842  \n35  0.641851  \n36  0.594689  \n37  0.511638  \n38  0.766997  \n39  0.590058  \n40  0.755411  \n41 -0.029223  \n42  0.856907  \n43  0.283744  \n44  0.848311  \n45  0.901356  \n46  0.521279  \n47  0.693650  \n48  0.779442  \n49 -0.243935  \n50  0.350891  \n51 -0.695692  \n52  0.609897  \n53  0.279651  \n54  0.910688  \n55  0.621836  \n56  0.692305  \n57  0.588645  \n58  0.117961  \n59  0.023283  ",
      "text/html": "<div>\n<style scoped>\n    .dataframe tbody tr th:only-of-type {\n        vertical-align: middle;\n    }\n\n    .dataframe tbody tr th {\n        vertical-align: top;\n    }\n\n    .dataframe thead th {\n        text-align: right;\n    }\n</style>\n<table border=\"1\" class=\"dataframe\">\n  <thead>\n    <tr style=\"text-align: right;\">\n      <th></th>\n      <th>model__activation_func</th>\n      <th>model__last_layer_nodes</th>\n      <th>model__first_layer_nodes</th>\n      <th>R2</th>\n    </tr>\n  </thead>\n  <tbody>\n    <tr>\n      <th>0</th>\n      <td>relu</td>\n      <td>10</td>\n      <td>200</td>\n      <td>-0.005581</td>\n    </tr>\n    <tr>\n      <th>1</th>\n      <td>relu</td>\n      <td>20</td>\n      <td>200</td>\n      <td>-0.005461</td>\n    </tr>\n    <tr>\n      <th>2</th>\n      <td>relu</td>\n      <td>30</td>\n      <td>200</td>\n      <td>0.566998</td>\n    </tr>\n    <tr>\n      <th>3</th>\n      <td>relu</td>\n      <td>40</td>\n      <td>200</td>\n      <td>0.044477</td>\n    </tr>\n    <tr>\n      <th>4</th>\n      <td>relu</td>\n      <td>50</td>\n      <td>200</td>\n      <td>0.906980</td>\n    </tr>\n    <tr>\n      <th>5</th>\n      <td>relu</td>\n      <td>60</td>\n      <td>200</td>\n      <td>0.936826</td>\n    </tr>\n    <tr>\n      <th>6</th>\n      <td>relu</td>\n      <td>70</td>\n      <td>200</td>\n      <td>0.783498</td>\n    </tr>\n    <tr>\n      <th>7</th>\n      <td>relu</td>\n      <td>80</td>\n      <td>200</td>\n      <td>0.929319</td>\n    </tr>\n    <tr>\n      <th>8</th>\n      <td>relu</td>\n      <td>90</td>\n      <td>200</td>\n      <td>0.928922</td>\n    </tr>\n    <tr>\n      <th>9</th>\n      <td>relu</td>\n      <td>100</td>\n      <td>200</td>\n      <td>0.978573</td>\n    </tr>\n    <tr>\n      <th>10</th>\n      <td>relu</td>\n      <td>110</td>\n      <td>200</td>\n      <td>0.938601</td>\n    </tr>\n    <tr>\n      <th>11</th>\n      <td>relu</td>\n      <td>120</td>\n      <td>200</td>\n      <td>0.952147</td>\n    </tr>\n    <tr>\n      <th>12</th>\n      <td>relu</td>\n      <td>130</td>\n      <td>200</td>\n      <td>0.965069</td>\n    </tr>\n    <tr>\n      <th>13</th>\n      <td>relu</td>\n      <td>140</td>\n      <td>200</td>\n      <td>0.945604</td>\n    </tr>\n    <tr>\n      <th>14</th>\n      <td>relu</td>\n      <td>150</td>\n      <td>200</td>\n      <td>0.941939</td>\n    </tr>\n    <tr>\n      <th>15</th>\n      <td>relu</td>\n      <td>160</td>\n      <td>200</td>\n      <td>0.908686</td>\n    </tr>\n    <tr>\n      <th>16</th>\n      <td>relu</td>\n      <td>170</td>\n      <td>200</td>\n      <td>0.932298</td>\n    </tr>\n    <tr>\n      <th>17</th>\n      <td>relu</td>\n      <td>180</td>\n      <td>200</td>\n      <td>0.903503</td>\n    </tr>\n    <tr>\n      <th>18</th>\n      <td>relu</td>\n      <td>190</td>\n      <td>200</td>\n      <td>0.933256</td>\n    </tr>\n    <tr>\n      <th>19</th>\n      <td>relu</td>\n      <td>200</td>\n      <td>200</td>\n      <td>0.898404</td>\n    </tr>\n    <tr>\n      <th>20</th>\n      <td>leaky_relu</td>\n      <td>10</td>\n      <td>200</td>\n      <td>0.948915</td>\n    </tr>\n    <tr>\n      <th>21</th>\n      <td>leaky_relu</td>\n      <td>20</td>\n      <td>200</td>\n      <td>0.950433</td>\n    </tr>\n    <tr>\n      <th>22</th>\n      <td>leaky_relu</td>\n      <td>30</td>\n      <td>200</td>\n      <td>0.961337</td>\n    </tr>\n    <tr>\n      <th>23</th>\n      <td>leaky_relu</td>\n      <td>40</td>\n      <td>200</td>\n      <td>0.927241</td>\n    </tr>\n    <tr>\n      <th>24</th>\n      <td>leaky_relu</td>\n      <td>50</td>\n      <td>200</td>\n      <td>0.832004</td>\n    </tr>\n    <tr>\n      <th>25</th>\n      <td>leaky_relu</td>\n      <td>60</td>\n      <td>200</td>\n      <td>0.834595</td>\n    </tr>\n    <tr>\n      <th>26</th>\n      <td>leaky_relu</td>\n      <td>70</td>\n      <td>200</td>\n      <td>0.844215</td>\n    </tr>\n    <tr>\n      <th>27</th>\n      <td>leaky_relu</td>\n      <td>80</td>\n      <td>200</td>\n      <td>0.788683</td>\n    </tr>\n    <tr>\n      <th>28</th>\n      <td>leaky_relu</td>\n      <td>90</td>\n      <td>200</td>\n      <td>0.782751</td>\n    </tr>\n    <tr>\n      <th>29</th>\n      <td>leaky_relu</td>\n      <td>100</td>\n      <td>200</td>\n      <td>0.819737</td>\n    </tr>\n    <tr>\n      <th>30</th>\n      <td>leaky_relu</td>\n      <td>110</td>\n      <td>200</td>\n      <td>0.605109</td>\n    </tr>\n    <tr>\n      <th>31</th>\n      <td>leaky_relu</td>\n      <td>120</td>\n      <td>200</td>\n      <td>0.692245</td>\n    </tr>\n    <tr>\n      <th>32</th>\n      <td>leaky_relu</td>\n      <td>130</td>\n      <td>200</td>\n      <td>0.872701</td>\n    </tr>\n    <tr>\n      <th>33</th>\n      <td>leaky_relu</td>\n      <td>140</td>\n      <td>200</td>\n      <td>0.777588</td>\n    </tr>\n    <tr>\n      <th>34</th>\n      <td>leaky_relu</td>\n      <td>150</td>\n      <td>200</td>\n      <td>0.796842</td>\n    </tr>\n    <tr>\n      <th>35</th>\n      <td>leaky_relu</td>\n      <td>160</td>\n      <td>200</td>\n      <td>0.641851</td>\n    </tr>\n    <tr>\n      <th>36</th>\n      <td>leaky_relu</td>\n      <td>170</td>\n      <td>200</td>\n      <td>0.594689</td>\n    </tr>\n    <tr>\n      <th>37</th>\n      <td>leaky_relu</td>\n      <td>180</td>\n      <td>200</td>\n      <td>0.511638</td>\n    </tr>\n    <tr>\n      <th>38</th>\n      <td>leaky_relu</td>\n      <td>190</td>\n      <td>200</td>\n      <td>0.766997</td>\n    </tr>\n    <tr>\n      <th>39</th>\n      <td>leaky_relu</td>\n      <td>200</td>\n      <td>200</td>\n      <td>0.590058</td>\n    </tr>\n    <tr>\n      <th>40</th>\n      <td>softplus</td>\n      <td>10</td>\n      <td>200</td>\n      <td>0.755411</td>\n    </tr>\n    <tr>\n      <th>41</th>\n      <td>softplus</td>\n      <td>20</td>\n      <td>200</td>\n      <td>-0.029223</td>\n    </tr>\n    <tr>\n      <th>42</th>\n      <td>softplus</td>\n      <td>30</td>\n      <td>200</td>\n      <td>0.856907</td>\n    </tr>\n    <tr>\n      <th>43</th>\n      <td>softplus</td>\n      <td>40</td>\n      <td>200</td>\n      <td>0.283744</td>\n    </tr>\n    <tr>\n      <th>44</th>\n      <td>softplus</td>\n      <td>50</td>\n      <td>200</td>\n      <td>0.848311</td>\n    </tr>\n    <tr>\n      <th>45</th>\n      <td>softplus</td>\n      <td>60</td>\n      <td>200</td>\n      <td>0.901356</td>\n    </tr>\n    <tr>\n      <th>46</th>\n      <td>softplus</td>\n      <td>70</td>\n      <td>200</td>\n      <td>0.521279</td>\n    </tr>\n    <tr>\n      <th>47</th>\n      <td>softplus</td>\n      <td>80</td>\n      <td>200</td>\n      <td>0.693650</td>\n    </tr>\n    <tr>\n      <th>48</th>\n      <td>softplus</td>\n      <td>90</td>\n      <td>200</td>\n      <td>0.779442</td>\n    </tr>\n    <tr>\n      <th>49</th>\n      <td>softplus</td>\n      <td>100</td>\n      <td>200</td>\n      <td>-0.243935</td>\n    </tr>\n    <tr>\n      <th>50</th>\n      <td>softplus</td>\n      <td>110</td>\n      <td>200</td>\n      <td>0.350891</td>\n    </tr>\n    <tr>\n      <th>51</th>\n      <td>softplus</td>\n      <td>120</td>\n      <td>200</td>\n      <td>-0.695692</td>\n    </tr>\n    <tr>\n      <th>52</th>\n      <td>softplus</td>\n      <td>130</td>\n      <td>200</td>\n      <td>0.609897</td>\n    </tr>\n    <tr>\n      <th>53</th>\n      <td>softplus</td>\n      <td>140</td>\n      <td>200</td>\n      <td>0.279651</td>\n    </tr>\n    <tr>\n      <th>54</th>\n      <td>softplus</td>\n      <td>150</td>\n      <td>200</td>\n      <td>0.910688</td>\n    </tr>\n    <tr>\n      <th>55</th>\n      <td>softplus</td>\n      <td>160</td>\n      <td>200</td>\n      <td>0.621836</td>\n    </tr>\n    <tr>\n      <th>56</th>\n      <td>softplus</td>\n      <td>170</td>\n      <td>200</td>\n      <td>0.692305</td>\n    </tr>\n    <tr>\n      <th>57</th>\n      <td>softplus</td>\n      <td>180</td>\n      <td>200</td>\n      <td>0.588645</td>\n    </tr>\n    <tr>\n      <th>58</th>\n      <td>softplus</td>\n      <td>190</td>\n      <td>200</td>\n      <td>0.117961</td>\n    </tr>\n    <tr>\n      <th>59</th>\n      <td>softplus</td>\n      <td>200</td>\n      <td>200</td>\n      <td>0.023283</td>\n    </tr>\n  </tbody>\n</table>\n</div>"
     },
     "execution_count": 68,
     "metadata": {},
     "output_type": "execute_result"
    }
   ],
   "source": [
    "pd.concat([pd.DataFrame(params), pd.DataFrame({'model__first_layer_nodes': [200] * len(params)}),pd.DataFrame(means, columns=['R2'])], axis =1)"
   ],
   "metadata": {
    "collapsed": false,
    "ExecuteTime": {
     "end_time": "2023-12-27T03:07:30.762364800Z",
     "start_time": "2023-12-27T03:07:30.714131700Z"
    }
   }
  },
  {
   "cell_type": "markdown",
   "source": [
    "### Merge all files"
   ],
   "metadata": {
    "collapsed": false
   }
  },
  {
   "cell_type": "code",
   "execution_count": 69,
   "outputs": [
    {
     "name": "stdout",
     "output_type": "stream",
     "text": [
      "1 G:\\Chamodi\\Machine_Learning\\ANN_1D\\Arrival_hyperparameter_tuning_2layers_nodrop_noscale\n"
     ]
    }
   ],
   "source": [
    "from pathlib import Path\n",
    "\n",
    "current_dir = Path.cwd()\n",
    "\n",
    "#Access input folder\n",
    "input_dir = Path (current_dir.parent/\"Arrival_hyperparameter_tuning_2layers_nodrop_noscale\")\n",
    "print (\"1\",input_dir)\n",
    "\n",
    "# Output Excel file\n",
    "output_excel_file = Path(current_dir.parent/\"Arrival_hyperparameter_tuning_2layers_nodrop_noscale/S1_summary.xlsx\")\n",
    "\n",
    "# List to store DataFrames from CSV files\n",
    "dfs = []\n",
    "\n",
    "# Loop through CSV files in the directory\n",
    "for csv_file in input_dir.glob('*.csv'):\n",
    "    # Read CSV file into a DataFrame and append to the list\n",
    "    df = pd.read_csv(csv_file)\n",
    "    dfs.append(df)\n",
    "\n",
    "# Concatenate DataFrames in the list along rows\n",
    "merged_df = pd.concat(dfs, ignore_index=True)\n",
    "\n",
    "# Write the merged DataFrame to an Excel file\n",
    "merged_df.to_excel(output_excel_file, index=False)"
   ],
   "metadata": {
    "collapsed": false,
    "ExecuteTime": {
     "end_time": "2023-12-27T03:08:07.331972700Z",
     "start_time": "2023-12-27T03:08:07.080175Z"
    }
   }
  },
  {
   "cell_type": "markdown",
   "source": [
    "### S2 - Hyperparameter tuning - batch size, epoch, optimizer, learning rate"
   ],
   "metadata": {
    "collapsed": false
   }
  },
  {
   "cell_type": "code",
   "execution_count": 70,
   "outputs": [],
   "source": [
    "from tensorflow.keras.optimizers import RMSprop, Nadam\n",
    "# Set seed for NumPy\n",
    "np.random.seed(71)\n",
    "\n",
    "# Set seed for TensorFlow\n",
    "tf.random.set_seed(71)\n",
    "\n",
    "# Function to create model, required for KerasClassifier\n",
    "def create_model2():\n",
    " # create model\n",
    " model = Sequential()\n",
    " model.add(Dense(units=180, input_shape=(X_train.shape[1],), activation='leaky_relu'))\n",
    " #model.add(Dropout(0.1))\n",
    " model.add(Dense(units=10, activation='leaky_relu'))\n",
    " #model.add(Dropout(0.1))\n",
    " model.add(Dense(units=1, activation='linear'))\n",
    "\n",
    " return model"
   ],
   "metadata": {
    "collapsed": false,
    "ExecuteTime": {
     "end_time": "2023-12-27T03:09:52.400540300Z",
     "start_time": "2023-12-27T03:09:52.400033400Z"
    }
   }
  },
  {
   "cell_type": "code",
   "execution_count": 71,
   "outputs": [
    {
     "name": "stderr",
     "output_type": "stream",
     "text": [
      "D:\\Anaconda3\\Lib\\site-packages\\joblib\\externals\\loky\\process_executor.py:700: UserWarning: A worker stopped while some jobs were given to the executor. This can be caused by a too short worker timeout or by a memory leak.\n",
      "  warnings.warn(\n"
     ]
    },
    {
     "name": "stdout",
     "output_type": "stream",
     "text": [
      "Best: 0.994937 using {'batch_size': 50, 'epochs': 400, 'optimizer': <class 'keras.src.optimizers.adam.Adam'>, 'optimizer__learning_rate': 0.01}\n",
      "0.824573 (0.079384) with: {'batch_size': 30, 'epochs': 100, 'optimizer': <class 'keras.src.optimizers.adam.Adam'>, 'optimizer__learning_rate': 0.001}\n",
      "0.982589 (0.007157) with: {'batch_size': 30, 'epochs': 100, 'optimizer': <class 'keras.src.optimizers.adam.Adam'>, 'optimizer__learning_rate': 0.01}\n",
      "-3.790296 (6.897933) with: {'batch_size': 30, 'epochs': 100, 'optimizer': <class 'keras.src.optimizers.adam.Adam'>, 'optimizer__learning_rate': 0.1}\n",
      "-21.959660 (45.650461) with: {'batch_size': 30, 'epochs': 100, 'optimizer': <class 'keras.src.optimizers.nadam.Nadam'>, 'optimizer__learning_rate': 0.001}\n",
      "-0.098562 (1.117883) with: {'batch_size': 30, 'epochs': 100, 'optimizer': <class 'keras.src.optimizers.nadam.Nadam'>, 'optimizer__learning_rate': 0.01}\n",
      "-1.534032 (4.981059) with: {'batch_size': 30, 'epochs': 100, 'optimizer': <class 'keras.src.optimizers.nadam.Nadam'>, 'optimizer__learning_rate': 0.1}\n",
      "-16.867122 (15.745774) with: {'batch_size': 30, 'epochs': 100, 'optimizer': <class 'keras.src.optimizers.rmsprop.RMSprop'>, 'optimizer__learning_rate': 0.001}\n",
      "0.802358 (0.165179) with: {'batch_size': 30, 'epochs': 100, 'optimizer': <class 'keras.src.optimizers.rmsprop.RMSprop'>, 'optimizer__learning_rate': 0.01}\n",
      "-4375.847658 (6334.974894) with: {'batch_size': 30, 'epochs': 100, 'optimizer': <class 'keras.src.optimizers.rmsprop.RMSprop'>, 'optimizer__learning_rate': 0.1}\n",
      "0.751330 (0.185167) with: {'batch_size': 30, 'epochs': 200, 'optimizer': <class 'keras.src.optimizers.adam.Adam'>, 'optimizer__learning_rate': 0.001}\n",
      "0.991739 (0.003222) with: {'batch_size': 30, 'epochs': 200, 'optimizer': <class 'keras.src.optimizers.adam.Adam'>, 'optimizer__learning_rate': 0.01}\n",
      "0.776176 (0.271291) with: {'batch_size': 30, 'epochs': 200, 'optimizer': <class 'keras.src.optimizers.adam.Adam'>, 'optimizer__learning_rate': 0.1}\n",
      "0.598379 (0.447422) with: {'batch_size': 30, 'epochs': 200, 'optimizer': <class 'keras.src.optimizers.nadam.Nadam'>, 'optimizer__learning_rate': 0.001}\n",
      "0.771882 (0.434646) with: {'batch_size': 30, 'epochs': 200, 'optimizer': <class 'keras.src.optimizers.nadam.Nadam'>, 'optimizer__learning_rate': 0.01}\n",
      "-0.287474 (2.552822) with: {'batch_size': 30, 'epochs': 200, 'optimizer': <class 'keras.src.optimizers.nadam.Nadam'>, 'optimizer__learning_rate': 0.1}\n",
      "-0.968944 (2.293948) with: {'batch_size': 30, 'epochs': 200, 'optimizer': <class 'keras.src.optimizers.rmsprop.RMSprop'>, 'optimizer__learning_rate': 0.001}\n",
      "0.785276 (0.191285) with: {'batch_size': 30, 'epochs': 200, 'optimizer': <class 'keras.src.optimizers.rmsprop.RMSprop'>, 'optimizer__learning_rate': 0.01}\n",
      "-6484.838380 (8726.933470) with: {'batch_size': 30, 'epochs': 200, 'optimizer': <class 'keras.src.optimizers.rmsprop.RMSprop'>, 'optimizer__learning_rate': 0.1}\n",
      "-0.477005 (2.766092) with: {'batch_size': 30, 'epochs': 300, 'optimizer': <class 'keras.src.optimizers.adam.Adam'>, 'optimizer__learning_rate': 0.001}\n",
      "-2.317582 (5.935060) with: {'batch_size': 30, 'epochs': 300, 'optimizer': <class 'keras.src.optimizers.adam.Adam'>, 'optimizer__learning_rate': 0.01}\n",
      "0.737954 (0.452825) with: {'batch_size': 30, 'epochs': 300, 'optimizer': <class 'keras.src.optimizers.adam.Adam'>, 'optimizer__learning_rate': 0.1}\n",
      "-0.772041 (2.343027) with: {'batch_size': 30, 'epochs': 300, 'optimizer': <class 'keras.src.optimizers.nadam.Nadam'>, 'optimizer__learning_rate': 0.001}\n",
      "0.986794 (0.012133) with: {'batch_size': 30, 'epochs': 300, 'optimizer': <class 'keras.src.optimizers.nadam.Nadam'>, 'optimizer__learning_rate': 0.01}\n",
      "0.822419 (0.299227) with: {'batch_size': 30, 'epochs': 300, 'optimizer': <class 'keras.src.optimizers.nadam.Nadam'>, 'optimizer__learning_rate': 0.1}\n",
      "0.107730 (0.464879) with: {'batch_size': 30, 'epochs': 300, 'optimizer': <class 'keras.src.optimizers.rmsprop.RMSprop'>, 'optimizer__learning_rate': 0.001}\n",
      "0.742719 (0.119589) with: {'batch_size': 30, 'epochs': 300, 'optimizer': <class 'keras.src.optimizers.rmsprop.RMSprop'>, 'optimizer__learning_rate': 0.01}\n",
      "-658497.718867 (986380.139442) with: {'batch_size': 30, 'epochs': 300, 'optimizer': <class 'keras.src.optimizers.rmsprop.RMSprop'>, 'optimizer__learning_rate': 0.1}\n",
      "-6.769592 (14.904990) with: {'batch_size': 30, 'epochs': 400, 'optimizer': <class 'keras.src.optimizers.adam.Adam'>, 'optimizer__learning_rate': 0.001}\n",
      "0.983844 (0.020872) with: {'batch_size': 30, 'epochs': 400, 'optimizer': <class 'keras.src.optimizers.adam.Adam'>, 'optimizer__learning_rate': 0.01}\n",
      "0.959176 (0.031839) with: {'batch_size': 30, 'epochs': 400, 'optimizer': <class 'keras.src.optimizers.adam.Adam'>, 'optimizer__learning_rate': 0.1}\n",
      "0.957138 (0.019408) with: {'batch_size': 30, 'epochs': 400, 'optimizer': <class 'keras.src.optimizers.nadam.Nadam'>, 'optimizer__learning_rate': 0.001}\n",
      "0.699426 (0.254218) with: {'batch_size': 30, 'epochs': 400, 'optimizer': <class 'keras.src.optimizers.nadam.Nadam'>, 'optimizer__learning_rate': 0.01}\n",
      "0.959580 (0.065426) with: {'batch_size': 30, 'epochs': 400, 'optimizer': <class 'keras.src.optimizers.nadam.Nadam'>, 'optimizer__learning_rate': 0.1}\n",
      "0.968683 (0.015210) with: {'batch_size': 30, 'epochs': 400, 'optimizer': <class 'keras.src.optimizers.rmsprop.RMSprop'>, 'optimizer__learning_rate': 0.001}\n",
      "0.787902 (0.116194) with: {'batch_size': 30, 'epochs': 400, 'optimizer': <class 'keras.src.optimizers.rmsprop.RMSprop'>, 'optimizer__learning_rate': 0.01}\n",
      "-66324.525499 (81421.624819) with: {'batch_size': 30, 'epochs': 400, 'optimizer': <class 'keras.src.optimizers.rmsprop.RMSprop'>, 'optimizer__learning_rate': 0.1}\n",
      "0.927463 (0.040963) with: {'batch_size': 30, 'epochs': 500, 'optimizer': <class 'keras.src.optimizers.adam.Adam'>, 'optimizer__learning_rate': 0.001}\n",
      "0.989797 (0.008860) with: {'batch_size': 30, 'epochs': 500, 'optimizer': <class 'keras.src.optimizers.adam.Adam'>, 'optimizer__learning_rate': 0.01}\n",
      "0.981871 (0.008522) with: {'batch_size': 30, 'epochs': 500, 'optimizer': <class 'keras.src.optimizers.adam.Adam'>, 'optimizer__learning_rate': 0.1}\n",
      "0.986917 (0.006453) with: {'batch_size': 30, 'epochs': 500, 'optimizer': <class 'keras.src.optimizers.nadam.Nadam'>, 'optimizer__learning_rate': 0.001}\n",
      "0.980082 (0.014619) with: {'batch_size': 30, 'epochs': 500, 'optimizer': <class 'keras.src.optimizers.nadam.Nadam'>, 'optimizer__learning_rate': 0.01}\n",
      "0.840283 (0.307680) with: {'batch_size': 30, 'epochs': 500, 'optimizer': <class 'keras.src.optimizers.nadam.Nadam'>, 'optimizer__learning_rate': 0.1}\n",
      "0.987105 (0.004083) with: {'batch_size': 30, 'epochs': 500, 'optimizer': <class 'keras.src.optimizers.rmsprop.RMSprop'>, 'optimizer__learning_rate': 0.001}\n",
      "0.864958 (0.094557) with: {'batch_size': 30, 'epochs': 500, 'optimizer': <class 'keras.src.optimizers.rmsprop.RMSprop'>, 'optimizer__learning_rate': 0.01}\n",
      "-166167.598206 (330758.156831) with: {'batch_size': 30, 'epochs': 500, 'optimizer': <class 'keras.src.optimizers.rmsprop.RMSprop'>, 'optimizer__learning_rate': 0.1}\n",
      "0.811229 (0.071089) with: {'batch_size': 40, 'epochs': 100, 'optimizer': <class 'keras.src.optimizers.adam.Adam'>, 'optimizer__learning_rate': 0.001}\n",
      "0.982765 (0.007681) with: {'batch_size': 40, 'epochs': 100, 'optimizer': <class 'keras.src.optimizers.adam.Adam'>, 'optimizer__learning_rate': 0.01}\n",
      "-92.534692 (185.524686) with: {'batch_size': 40, 'epochs': 100, 'optimizer': <class 'keras.src.optimizers.adam.Adam'>, 'optimizer__learning_rate': 0.1}\n",
      "-6.991839 (12.933440) with: {'batch_size': 40, 'epochs': 100, 'optimizer': <class 'keras.src.optimizers.nadam.Nadam'>, 'optimizer__learning_rate': 0.001}\n",
      "0.506956 (0.894274) with: {'batch_size': 40, 'epochs': 100, 'optimizer': <class 'keras.src.optimizers.nadam.Nadam'>, 'optimizer__learning_rate': 0.01}\n",
      "0.898681 (0.082224) with: {'batch_size': 40, 'epochs': 100, 'optimizer': <class 'keras.src.optimizers.nadam.Nadam'>, 'optimizer__learning_rate': 0.1}\n",
      "-30.699954 (18.941449) with: {'batch_size': 40, 'epochs': 100, 'optimizer': <class 'keras.src.optimizers.rmsprop.RMSprop'>, 'optimizer__learning_rate': 0.001}\n",
      "0.227782 (0.501369) with: {'batch_size': 40, 'epochs': 100, 'optimizer': <class 'keras.src.optimizers.rmsprop.RMSprop'>, 'optimizer__learning_rate': 0.01}\n",
      "-119853.347297 (160032.386439) with: {'batch_size': 40, 'epochs': 100, 'optimizer': <class 'keras.src.optimizers.rmsprop.RMSprop'>, 'optimizer__learning_rate': 0.1}\n",
      "0.174531 (0.661822) with: {'batch_size': 40, 'epochs': 200, 'optimizer': <class 'keras.src.optimizers.adam.Adam'>, 'optimizer__learning_rate': 0.001}\n",
      "0.989961 (0.003673) with: {'batch_size': 40, 'epochs': 200, 'optimizer': <class 'keras.src.optimizers.adam.Adam'>, 'optimizer__learning_rate': 0.01}\n",
      "-0.461881 (1.136979) with: {'batch_size': 40, 'epochs': 200, 'optimizer': <class 'keras.src.optimizers.adam.Adam'>, 'optimizer__learning_rate': 0.1}\n",
      "0.841932 (0.138654) with: {'batch_size': 40, 'epochs': 200, 'optimizer': <class 'keras.src.optimizers.nadam.Nadam'>, 'optimizer__learning_rate': 0.001}\n",
      "0.932433 (0.101620) with: {'batch_size': 40, 'epochs': 200, 'optimizer': <class 'keras.src.optimizers.nadam.Nadam'>, 'optimizer__learning_rate': 0.01}\n",
      "-6.598038 (15.001200) with: {'batch_size': 40, 'epochs': 200, 'optimizer': <class 'keras.src.optimizers.nadam.Nadam'>, 'optimizer__learning_rate': 0.1}\n",
      "-2.673400 (4.027664) with: {'batch_size': 40, 'epochs': 200, 'optimizer': <class 'keras.src.optimizers.rmsprop.RMSprop'>, 'optimizer__learning_rate': 0.001}\n",
      "0.807454 (0.150643) with: {'batch_size': 40, 'epochs': 200, 'optimizer': <class 'keras.src.optimizers.rmsprop.RMSprop'>, 'optimizer__learning_rate': 0.01}\n",
      "-45950.683558 (90730.305552) with: {'batch_size': 40, 'epochs': 200, 'optimizer': <class 'keras.src.optimizers.rmsprop.RMSprop'>, 'optimizer__learning_rate': 0.1}\n",
      "0.914187 (0.027341) with: {'batch_size': 40, 'epochs': 300, 'optimizer': <class 'keras.src.optimizers.adam.Adam'>, 'optimizer__learning_rate': 0.001}\n",
      "0.985294 (0.014148) with: {'batch_size': 40, 'epochs': 300, 'optimizer': <class 'keras.src.optimizers.adam.Adam'>, 'optimizer__learning_rate': 0.01}\n",
      "0.840154 (0.174400) with: {'batch_size': 40, 'epochs': 300, 'optimizer': <class 'keras.src.optimizers.adam.Adam'>, 'optimizer__learning_rate': 0.1}\n",
      "0.745824 (0.348723) with: {'batch_size': 40, 'epochs': 300, 'optimizer': <class 'keras.src.optimizers.nadam.Nadam'>, 'optimizer__learning_rate': 0.001}\n",
      "0.312891 (1.297058) with: {'batch_size': 40, 'epochs': 300, 'optimizer': <class 'keras.src.optimizers.nadam.Nadam'>, 'optimizer__learning_rate': 0.01}\n",
      "0.879096 (0.209745) with: {'batch_size': 40, 'epochs': 300, 'optimizer': <class 'keras.src.optimizers.nadam.Nadam'>, 'optimizer__learning_rate': 0.1}\n",
      "-1.404025 (2.600680) with: {'batch_size': 40, 'epochs': 300, 'optimizer': <class 'keras.src.optimizers.rmsprop.RMSprop'>, 'optimizer__learning_rate': 0.001}\n",
      "0.815000 (0.065926) with: {'batch_size': 40, 'epochs': 300, 'optimizer': <class 'keras.src.optimizers.rmsprop.RMSprop'>, 'optimizer__learning_rate': 0.01}\n",
      "-57838.889760 (60867.592211) with: {'batch_size': 40, 'epochs': 300, 'optimizer': <class 'keras.src.optimizers.rmsprop.RMSprop'>, 'optimizer__learning_rate': 0.1}\n",
      "0.447603 (0.648650) with: {'batch_size': 40, 'epochs': 400, 'optimizer': <class 'keras.src.optimizers.adam.Adam'>, 'optimizer__learning_rate': 0.001}\n",
      "0.535507 (0.652020) with: {'batch_size': 40, 'epochs': 400, 'optimizer': <class 'keras.src.optimizers.adam.Adam'>, 'optimizer__learning_rate': 0.01}\n",
      "0.832059 (0.193090) with: {'batch_size': 40, 'epochs': 400, 'optimizer': <class 'keras.src.optimizers.adam.Adam'>, 'optimizer__learning_rate': 0.1}\n",
      "0.883154 (0.162567) with: {'batch_size': 40, 'epochs': 400, 'optimizer': <class 'keras.src.optimizers.nadam.Nadam'>, 'optimizer__learning_rate': 0.001}\n",
      "0.992280 (0.004720) with: {'batch_size': 40, 'epochs': 400, 'optimizer': <class 'keras.src.optimizers.nadam.Nadam'>, 'optimizer__learning_rate': 0.01}\n",
      "-1.719612 (5.420581) with: {'batch_size': 40, 'epochs': 400, 'optimizer': <class 'keras.src.optimizers.nadam.Nadam'>, 'optimizer__learning_rate': 0.1}\n",
      "0.864817 (0.122391) with: {'batch_size': 40, 'epochs': 400, 'optimizer': <class 'keras.src.optimizers.rmsprop.RMSprop'>, 'optimizer__learning_rate': 0.001}\n",
      "0.769393 (0.063052) with: {'batch_size': 40, 'epochs': 400, 'optimizer': <class 'keras.src.optimizers.rmsprop.RMSprop'>, 'optimizer__learning_rate': 0.01}\n",
      "-1520938.575089 (3041386.545151) with: {'batch_size': 40, 'epochs': 400, 'optimizer': <class 'keras.src.optimizers.rmsprop.RMSprop'>, 'optimizer__learning_rate': 0.1}\n",
      "-0.688794 (2.845718) with: {'batch_size': 40, 'epochs': 500, 'optimizer': <class 'keras.src.optimizers.adam.Adam'>, 'optimizer__learning_rate': 0.001}\n",
      "0.414778 (1.126089) with: {'batch_size': 40, 'epochs': 500, 'optimizer': <class 'keras.src.optimizers.adam.Adam'>, 'optimizer__learning_rate': 0.01}\n",
      "0.941376 (0.053146) with: {'batch_size': 40, 'epochs': 500, 'optimizer': <class 'keras.src.optimizers.adam.Adam'>, 'optimizer__learning_rate': 0.1}\n",
      "0.922854 (0.111558) with: {'batch_size': 40, 'epochs': 500, 'optimizer': <class 'keras.src.optimizers.nadam.Nadam'>, 'optimizer__learning_rate': 0.001}\n",
      "0.989718 (0.012133) with: {'batch_size': 40, 'epochs': 500, 'optimizer': <class 'keras.src.optimizers.nadam.Nadam'>, 'optimizer__learning_rate': 0.01}\n",
      "-1.019525 (3.986093) with: {'batch_size': 40, 'epochs': 500, 'optimizer': <class 'keras.src.optimizers.nadam.Nadam'>, 'optimizer__learning_rate': 0.1}\n",
      "0.922541 (0.067465) with: {'batch_size': 40, 'epochs': 500, 'optimizer': <class 'keras.src.optimizers.rmsprop.RMSprop'>, 'optimizer__learning_rate': 0.001}\n",
      "0.715178 (0.112997) with: {'batch_size': 40, 'epochs': 500, 'optimizer': <class 'keras.src.optimizers.rmsprop.RMSprop'>, 'optimizer__learning_rate': 0.01}\n",
      "-768.027439 (388.986880) with: {'batch_size': 40, 'epochs': 500, 'optimizer': <class 'keras.src.optimizers.rmsprop.RMSprop'>, 'optimizer__learning_rate': 0.1}\n",
      "0.885852 (0.015419) with: {'batch_size': 50, 'epochs': 100, 'optimizer': <class 'keras.src.optimizers.adam.Adam'>, 'optimizer__learning_rate': 0.001}\n",
      "0.979475 (0.004732) with: {'batch_size': 50, 'epochs': 100, 'optimizer': <class 'keras.src.optimizers.adam.Adam'>, 'optimizer__learning_rate': 0.01}\n",
      "-863.891721 (1049.055674) with: {'batch_size': 50, 'epochs': 100, 'optimizer': <class 'keras.src.optimizers.adam.Adam'>, 'optimizer__learning_rate': 0.1}\n",
      "-2.028083 (3.272613) with: {'batch_size': 50, 'epochs': 100, 'optimizer': <class 'keras.src.optimizers.nadam.Nadam'>, 'optimizer__learning_rate': 0.001}\n",
      "0.842094 (0.152388) with: {'batch_size': 50, 'epochs': 100, 'optimizer': <class 'keras.src.optimizers.nadam.Nadam'>, 'optimizer__learning_rate': 0.01}\n",
      "0.852333 (0.150271) with: {'batch_size': 50, 'epochs': 100, 'optimizer': <class 'keras.src.optimizers.nadam.Nadam'>, 'optimizer__learning_rate': 0.1}\n",
      "-19.594156 (9.534910) with: {'batch_size': 50, 'epochs': 100, 'optimizer': <class 'keras.src.optimizers.rmsprop.RMSprop'>, 'optimizer__learning_rate': 0.001}\n",
      "0.407043 (0.637333) with: {'batch_size': 50, 'epochs': 100, 'optimizer': <class 'keras.src.optimizers.rmsprop.RMSprop'>, 'optimizer__learning_rate': 0.01}\n",
      "-829533.529014 (1042278.506888) with: {'batch_size': 50, 'epochs': 100, 'optimizer': <class 'keras.src.optimizers.rmsprop.RMSprop'>, 'optimizer__learning_rate': 0.1}\n",
      "0.418135 (0.723921) with: {'batch_size': 50, 'epochs': 200, 'optimizer': <class 'keras.src.optimizers.adam.Adam'>, 'optimizer__learning_rate': 0.001}\n",
      "0.989488 (0.002917) with: {'batch_size': 50, 'epochs': 200, 'optimizer': <class 'keras.src.optimizers.adam.Adam'>, 'optimizer__learning_rate': 0.01}\n",
      "0.608999 (0.578225) with: {'batch_size': 50, 'epochs': 200, 'optimizer': <class 'keras.src.optimizers.adam.Adam'>, 'optimizer__learning_rate': 0.1}\n",
      "-4.598126 (10.690716) with: {'batch_size': 50, 'epochs': 200, 'optimizer': <class 'keras.src.optimizers.nadam.Nadam'>, 'optimizer__learning_rate': 0.001}\n",
      "-0.531633 (2.019377) with: {'batch_size': 50, 'epochs': 200, 'optimizer': <class 'keras.src.optimizers.nadam.Nadam'>, 'optimizer__learning_rate': 0.01}\n",
      "0.985551 (0.004889) with: {'batch_size': 50, 'epochs': 200, 'optimizer': <class 'keras.src.optimizers.nadam.Nadam'>, 'optimizer__learning_rate': 0.1}\n",
      "-1.218803 (1.738161) with: {'batch_size': 50, 'epochs': 200, 'optimizer': <class 'keras.src.optimizers.rmsprop.RMSprop'>, 'optimizer__learning_rate': 0.001}\n",
      "0.756881 (0.043796) with: {'batch_size': 50, 'epochs': 200, 'optimizer': <class 'keras.src.optimizers.rmsprop.RMSprop'>, 'optimizer__learning_rate': 0.01}\n",
      "-8749.502000 (8355.736410) with: {'batch_size': 50, 'epochs': 200, 'optimizer': <class 'keras.src.optimizers.rmsprop.RMSprop'>, 'optimizer__learning_rate': 0.1}\n",
      "0.812836 (0.125468) with: {'batch_size': 50, 'epochs': 300, 'optimizer': <class 'keras.src.optimizers.adam.Adam'>, 'optimizer__learning_rate': 0.001}\n",
      "0.993273 (0.002635) with: {'batch_size': 50, 'epochs': 300, 'optimizer': <class 'keras.src.optimizers.adam.Adam'>, 'optimizer__learning_rate': 0.01}\n",
      "-2.336574 (5.683490) with: {'batch_size': 50, 'epochs': 300, 'optimizer': <class 'keras.src.optimizers.adam.Adam'>, 'optimizer__learning_rate': 0.1}\n",
      "-0.556571 (2.805597) with: {'batch_size': 50, 'epochs': 300, 'optimizer': <class 'keras.src.optimizers.nadam.Nadam'>, 'optimizer__learning_rate': 0.001}\n",
      "-2.359892 (6.562842) with: {'batch_size': 50, 'epochs': 300, 'optimizer': <class 'keras.src.optimizers.nadam.Nadam'>, 'optimizer__learning_rate': 0.01}\n",
      "0.968740 (0.031778) with: {'batch_size': 50, 'epochs': 300, 'optimizer': <class 'keras.src.optimizers.nadam.Nadam'>, 'optimizer__learning_rate': 0.1}\n",
      "-2.394098 (2.478484) with: {'batch_size': 50, 'epochs': 300, 'optimizer': <class 'keras.src.optimizers.rmsprop.RMSprop'>, 'optimizer__learning_rate': 0.001}\n",
      "0.748527 (0.115742) with: {'batch_size': 50, 'epochs': 300, 'optimizer': <class 'keras.src.optimizers.rmsprop.RMSprop'>, 'optimizer__learning_rate': 0.01}\n",
      "-2418359.043778 (4634018.624858) with: {'batch_size': 50, 'epochs': 300, 'optimizer': <class 'keras.src.optimizers.rmsprop.RMSprop'>, 'optimizer__learning_rate': 0.1}\n",
      "0.483012 (0.863684) with: {'batch_size': 50, 'epochs': 400, 'optimizer': <class 'keras.src.optimizers.adam.Adam'>, 'optimizer__learning_rate': 0.001}\n",
      "0.994937 (0.001377) with: {'batch_size': 50, 'epochs': 400, 'optimizer': <class 'keras.src.optimizers.adam.Adam'>, 'optimizer__learning_rate': 0.01}\n",
      "0.868660 (0.116242) with: {'batch_size': 50, 'epochs': 400, 'optimizer': <class 'keras.src.optimizers.adam.Adam'>, 'optimizer__learning_rate': 0.1}\n",
      "0.832402 (0.118640) with: {'batch_size': 50, 'epochs': 400, 'optimizer': <class 'keras.src.optimizers.nadam.Nadam'>, 'optimizer__learning_rate': 0.001}\n",
      "0.987932 (0.016734) with: {'batch_size': 50, 'epochs': 400, 'optimizer': <class 'keras.src.optimizers.nadam.Nadam'>, 'optimizer__learning_rate': 0.01}\n",
      "0.989010 (0.004414) with: {'batch_size': 50, 'epochs': 400, 'optimizer': <class 'keras.src.optimizers.nadam.Nadam'>, 'optimizer__learning_rate': 0.1}\n",
      "0.456871 (0.500843) with: {'batch_size': 50, 'epochs': 400, 'optimizer': <class 'keras.src.optimizers.rmsprop.RMSprop'>, 'optimizer__learning_rate': 0.001}\n",
      "0.826341 (0.106692) with: {'batch_size': 50, 'epochs': 400, 'optimizer': <class 'keras.src.optimizers.rmsprop.RMSprop'>, 'optimizer__learning_rate': 0.01}\n",
      "-1660765.793445 (2923024.940336) with: {'batch_size': 50, 'epochs': 400, 'optimizer': <class 'keras.src.optimizers.rmsprop.RMSprop'>, 'optimizer__learning_rate': 0.1}\n",
      "0.951163 (0.034600) with: {'batch_size': 50, 'epochs': 500, 'optimizer': <class 'keras.src.optimizers.adam.Adam'>, 'optimizer__learning_rate': 0.001}\n",
      "0.783557 (0.390757) with: {'batch_size': 50, 'epochs': 500, 'optimizer': <class 'keras.src.optimizers.adam.Adam'>, 'optimizer__learning_rate': 0.01}\n",
      "0.957339 (0.053136) with: {'batch_size': 50, 'epochs': 500, 'optimizer': <class 'keras.src.optimizers.adam.Adam'>, 'optimizer__learning_rate': 0.1}\n",
      "0.901825 (0.121535) with: {'batch_size': 50, 'epochs': 500, 'optimizer': <class 'keras.src.optimizers.nadam.Nadam'>, 'optimizer__learning_rate': 0.001}\n",
      "0.975985 (0.022403) with: {'batch_size': 50, 'epochs': 500, 'optimizer': <class 'keras.src.optimizers.nadam.Nadam'>, 'optimizer__learning_rate': 0.01}\n",
      "-1.033565 (3.880240) with: {'batch_size': 50, 'epochs': 500, 'optimizer': <class 'keras.src.optimizers.nadam.Nadam'>, 'optimizer__learning_rate': 0.1}\n",
      "0.919538 (0.048913) with: {'batch_size': 50, 'epochs': 500, 'optimizer': <class 'keras.src.optimizers.rmsprop.RMSprop'>, 'optimizer__learning_rate': 0.001}\n",
      "0.748353 (0.100887) with: {'batch_size': 50, 'epochs': 500, 'optimizer': <class 'keras.src.optimizers.rmsprop.RMSprop'>, 'optimizer__learning_rate': 0.01}\n",
      "-15255.190506 (29936.753155) with: {'batch_size': 50, 'epochs': 500, 'optimizer': <class 'keras.src.optimizers.rmsprop.RMSprop'>, 'optimizer__learning_rate': 0.1}\n"
     ]
    }
   ],
   "source": [
    "# create model\n",
    "model2 = KerasRegressor(model=create_model2, verbose=0, random_state = 71, loss = 'mean_squared_error', metrics = ['mae'])\n",
    "\n",
    "# define the grid search parameters\n",
    "batch_size = [30,40,50]\n",
    "optimizer = [Adam, Nadam, RMSprop]\n",
    "learning_rate = [ 0.001,0.01, 0.1]\n",
    "epochs = [100, 200, 300, 400, 500]\n",
    "\n",
    "# gridsearch\n",
    "param_grid2 = dict(batch_size=batch_size, optimizer=optimizer, optimizer__learning_rate = learning_rate, epochs = epochs)\n",
    "kf = KFold(n_splits=5, shuffle=True, random_state=71)\n",
    "grid2 = GridSearchCV(estimator=model2, param_grid=param_grid2, n_jobs=-1, scoring = 'r2', cv=kf)\n",
    "grid_result2 = grid2.fit(X_train, y_train)\n",
    "\n",
    "# summarize results\n",
    "print(\"Best: %f using %s\" % (grid_result2.best_score_, grid_result2.best_params_))\n",
    "means = grid_result2.cv_results_['mean_test_score']\n",
    "stds = grid_result2.cv_results_['std_test_score']\n",
    "params = grid_result2.cv_results_['params']\n",
    "for mean, stdev, param in zip(means, stds, params):\n",
    "    print(\"%f (%f) with: %r\" % (mean, stdev, param))"
   ],
   "metadata": {
    "collapsed": false,
    "ExecuteTime": {
     "end_time": "2023-12-27T03:15:02.394051200Z",
     "start_time": "2023-12-27T03:09:58.946368Z"
    }
   }
  },
  {
   "cell_type": "code",
   "execution_count": 72,
   "outputs": [
    {
     "data": {
      "text/plain": "     batch_size  epochs                                       optimizer  \\\n0            30     100        <class 'keras.src.optimizers.adam.Adam'>   \n1            30     100        <class 'keras.src.optimizers.adam.Adam'>   \n2            30     100        <class 'keras.src.optimizers.adam.Adam'>   \n3            30     100      <class 'keras.src.optimizers.nadam.Nadam'>   \n4            30     100      <class 'keras.src.optimizers.nadam.Nadam'>   \n..          ...     ...                                             ...   \n130          50     500      <class 'keras.src.optimizers.nadam.Nadam'>   \n131          50     500      <class 'keras.src.optimizers.nadam.Nadam'>   \n132          50     500  <class 'keras.src.optimizers.rmsprop.RMSprop'>   \n133          50     500  <class 'keras.src.optimizers.rmsprop.RMSprop'>   \n134          50     500  <class 'keras.src.optimizers.rmsprop.RMSprop'>   \n\n     optimizer__learning_rate            R2  \n0                       0.001      0.824573  \n1                       0.010      0.982589  \n2                       0.100     -3.790296  \n3                       0.001    -21.959660  \n4                       0.010     -0.098562  \n..                        ...           ...  \n130                     0.010      0.975985  \n131                     0.100     -1.033565  \n132                     0.001      0.919538  \n133                     0.010      0.748353  \n134                     0.100 -15255.190506  \n\n[135 rows x 5 columns]",
      "text/html": "<div>\n<style scoped>\n    .dataframe tbody tr th:only-of-type {\n        vertical-align: middle;\n    }\n\n    .dataframe tbody tr th {\n        vertical-align: top;\n    }\n\n    .dataframe thead th {\n        text-align: right;\n    }\n</style>\n<table border=\"1\" class=\"dataframe\">\n  <thead>\n    <tr style=\"text-align: right;\">\n      <th></th>\n      <th>batch_size</th>\n      <th>epochs</th>\n      <th>optimizer</th>\n      <th>optimizer__learning_rate</th>\n      <th>R2</th>\n    </tr>\n  </thead>\n  <tbody>\n    <tr>\n      <th>0</th>\n      <td>30</td>\n      <td>100</td>\n      <td>&lt;class 'keras.src.optimizers.adam.Adam'&gt;</td>\n      <td>0.001</td>\n      <td>0.824573</td>\n    </tr>\n    <tr>\n      <th>1</th>\n      <td>30</td>\n      <td>100</td>\n      <td>&lt;class 'keras.src.optimizers.adam.Adam'&gt;</td>\n      <td>0.010</td>\n      <td>0.982589</td>\n    </tr>\n    <tr>\n      <th>2</th>\n      <td>30</td>\n      <td>100</td>\n      <td>&lt;class 'keras.src.optimizers.adam.Adam'&gt;</td>\n      <td>0.100</td>\n      <td>-3.790296</td>\n    </tr>\n    <tr>\n      <th>3</th>\n      <td>30</td>\n      <td>100</td>\n      <td>&lt;class 'keras.src.optimizers.nadam.Nadam'&gt;</td>\n      <td>0.001</td>\n      <td>-21.959660</td>\n    </tr>\n    <tr>\n      <th>4</th>\n      <td>30</td>\n      <td>100</td>\n      <td>&lt;class 'keras.src.optimizers.nadam.Nadam'&gt;</td>\n      <td>0.010</td>\n      <td>-0.098562</td>\n    </tr>\n    <tr>\n      <th>...</th>\n      <td>...</td>\n      <td>...</td>\n      <td>...</td>\n      <td>...</td>\n      <td>...</td>\n    </tr>\n    <tr>\n      <th>130</th>\n      <td>50</td>\n      <td>500</td>\n      <td>&lt;class 'keras.src.optimizers.nadam.Nadam'&gt;</td>\n      <td>0.010</td>\n      <td>0.975985</td>\n    </tr>\n    <tr>\n      <th>131</th>\n      <td>50</td>\n      <td>500</td>\n      <td>&lt;class 'keras.src.optimizers.nadam.Nadam'&gt;</td>\n      <td>0.100</td>\n      <td>-1.033565</td>\n    </tr>\n    <tr>\n      <th>132</th>\n      <td>50</td>\n      <td>500</td>\n      <td>&lt;class 'keras.src.optimizers.rmsprop.RMSprop'&gt;</td>\n      <td>0.001</td>\n      <td>0.919538</td>\n    </tr>\n    <tr>\n      <th>133</th>\n      <td>50</td>\n      <td>500</td>\n      <td>&lt;class 'keras.src.optimizers.rmsprop.RMSprop'&gt;</td>\n      <td>0.010</td>\n      <td>0.748353</td>\n    </tr>\n    <tr>\n      <th>134</th>\n      <td>50</td>\n      <td>500</td>\n      <td>&lt;class 'keras.src.optimizers.rmsprop.RMSprop'&gt;</td>\n      <td>0.100</td>\n      <td>-15255.190506</td>\n    </tr>\n  </tbody>\n</table>\n<p>135 rows × 5 columns</p>\n</div>"
     },
     "execution_count": 72,
     "metadata": {},
     "output_type": "execute_result"
    }
   ],
   "source": [
    "pd.concat([pd.DataFrame(params), pd.DataFrame(means, columns=['R2'])], axis =1)"
   ],
   "metadata": {
    "collapsed": false,
    "ExecuteTime": {
     "end_time": "2023-12-27T04:29:04.400902200Z",
     "start_time": "2023-12-27T04:29:04.337727100Z"
    }
   }
  },
  {
   "cell_type": "code",
   "execution_count": null,
   "outputs": [],
   "source": [
    "# create model\n",
    "model2 = KerasRegressor(model=create_model2, verbose=0, random_state = 71, loss = 'mean_squared_error', metrics = ['mae'])\n",
    "\n",
    "# define the grid search parameters\n",
    "batch_size = [30,40,50]\n",
    "optimizer = [Adam, Nadam, RMSprop]\n",
    "learning_rate = [ 0.001,0.01, 0.1]\n",
    "epochs = [100, 200, 300, 400, 500]\n",
    "\n",
    "# gridsearch\n",
    "param_grid2 = dict(batch_size=batch_size, optimizer=optimizer, optimizer__learning_rate = learning_rate, epochs = epochs)\n",
    "kf = KFold(n_splits=5, shuffle=True, random_state=71)\n",
    "grid2 = GridSearchCV(estimator=model2, param_grid=param_grid2, n_jobs=-1, scoring = 'r2', cv=kf)\n",
    "grid_result2 = grid2.fit(X_train, y_train)\n",
    "\n",
    "# summarize results\n",
    "print(\"Best: %f using %s\" % (grid_result2.best_score_, grid_result2.best_params_))\n",
    "means = grid_result2.cv_results_['mean_test_score']\n",
    "stds = grid_result2.cv_results_['std_test_score']\n",
    "params = grid_result2.cv_results_['params']\n",
    "for mean, stdev, param in zip(means, stds, params):\n",
    "    print(\"%f (%f) with: %r\" % (mean, stdev, param))"
   ],
   "metadata": {
    "collapsed": false
   }
  },
  {
   "cell_type": "code",
   "execution_count": null,
   "outputs": [],
   "source": [
    "# Get the best hyperparameters from the grid search\n",
    "best_params = grid_result2.best_params_\n",
    "print (best_params)"
   ],
   "metadata": {
    "collapsed": false
   }
  },
  {
   "cell_type": "code",
   "execution_count": null,
   "outputs": [],
   "source": [
    "# Create the final model using the best hyperparameters\n",
    "final_model = KerasRegressor(\n",
    "    build_fn=create_model2,\n",
    "    verbose=0,\n",
    "    random_state=71,\n",
    "    loss='mean_squared_error',\n",
    "    metrics=['mae'],\n",
    "    optimizer = Nadam,\n",
    "    optimizer__learning_rate = 0.01\n",
    "    )"
   ],
   "metadata": {
    "collapsed": false
   }
  },
  {
   "cell_type": "code",
   "execution_count": null,
   "outputs": [],
   "source": [
    "from keras.callbacks import EarlyStopping\n",
    "es = EarlyStopping(monitor='val_loss',\n",
    "                   mode='min',\n",
    "                   patience=50,\n",
    "                   restore_best_weights = True)\n",
    "# Train the final model on the entire training set\n",
    "history = final_model.fit(X_train, y_train,\n",
    "                validation_data = (X_val, y_val),\n",
    "                callbacks=[es],\n",
    "                epochs=best_params['epochs'],\n",
    "                batch_size=best_params['batch_size'],\n",
    "                verbose=1)"
   ],
   "metadata": {
    "collapsed": false
   }
  },
  {
   "cell_type": "markdown",
   "source": [
    "### Analyse learn history"
   ],
   "metadata": {
    "collapsed": false
   }
  },
  {
   "cell_type": "code",
   "execution_count": null,
   "outputs": [],
   "source": [
    "# let's see the training and validation accuracy by epoch\n",
    "history_dict = history.history\n",
    "loss_values = history_dict['loss'] # you can change this\n",
    "val_loss_values = history_dict['val_loss'] # you can also change this\n",
    "epochs = range(1, len(loss_values) + 1) # range of X (no. of epochs)\n",
    "plt.plot(epochs, loss_values, 'blue', label='Train set loss')\n",
    "plt.plot(epochs, val_loss_values, 'orange', label='Validation set loss')\n",
    "#plt.title('Training and testing loss')\n",
    "plt.xlabel('Epochs')\n",
    "plt.ylabel('Loss (MSE)')\n",
    "plt.legend()\n",
    "plt.show()"
   ],
   "metadata": {
    "collapsed": false
   }
  },
  {
   "cell_type": "code",
   "execution_count": null,
   "outputs": [],
   "source": [
    "loss_values1 = history_dict['mae'] # you can change this\n",
    "val_loss_values1 = history_dict['val_mae'] # you can also change this\n",
    "epochs = range(1, len(loss_values1) + 1) # range of X (no. of epochs)\n",
    "plt.plot(epochs, loss_values1, 'blue', label='Train set MAE')\n",
    "plt.plot(epochs, val_loss_values1, 'orange', label='Validation set MAE')\n",
    "#plt.title('Training and testing MAE')\n",
    "plt.xlabel('Epochs')\n",
    "plt.ylabel('MAE')\n",
    "plt.legend()\n",
    "plt.show()"
   ],
   "metadata": {
    "collapsed": false
   }
  }
 ],
 "metadata": {
  "colab": {
   "collapsed_sections": [],
   "name": "Artificial Neural Network",
   "provenance": [],
   "toc_visible": true
  },
  "kernelspec": {
   "display_name": "Python 3 (ipykernel)",
   "language": "python",
   "name": "python3"
  },
  "language_info": {
   "codemirror_mode": {
    "name": "ipython",
    "version": 3
   },
   "file_extension": ".py",
   "mimetype": "text/x-python",
   "name": "python",
   "nbconvert_exporter": "python",
   "pygments_lexer": "ipython3",
   "version": "3.9.7"
  }
 },
 "nbformat": 4,
 "nbformat_minor": 4
}
