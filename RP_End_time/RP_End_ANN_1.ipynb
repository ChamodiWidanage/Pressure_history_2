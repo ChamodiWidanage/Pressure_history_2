{
 "cells": [
  {
   "cell_type": "markdown",
   "source": [
    "# Part 1 - Data Preprocessing"
   ],
   "metadata": {
    "collapsed": false
   }
  },
  {
   "cell_type": "markdown",
   "source": [
    "### Importing the libraries"
   ],
   "metadata": {
    "collapsed": false
   }
  },
  {
   "cell_type": "code",
   "execution_count": 1,
   "metadata": {
    "colab": {},
    "colab_type": "code",
    "id": "lxChR1Rk-umf",
    "ExecuteTime": {
     "end_time": "2024-07-25T00:00:58.322307900Z",
     "start_time": "2024-07-25T00:00:53.728842400Z"
    }
   },
   "outputs": [],
   "source": [
    "import numpy as np\n",
    "import pandas as pd\n",
    "import tensorflow as tf\n",
    "import matplotlib.pyplot as plt\n",
    "from keras.models import load_model"
   ]
  },
  {
   "cell_type": "markdown",
   "metadata": {
    "colab_type": "text",
    "id": "-4zq8Mza_D9O"
   },
   "source": [
    "### Importing the dataset"
   ]
  },
  {
   "cell_type": "code",
   "execution_count": 2,
   "metadata": {
    "colab": {},
    "colab_type": "code",
    "id": "B9CV13Co_HHM",
    "ExecuteTime": {
     "end_time": "2024-07-25T00:01:03.462611Z",
     "start_time": "2024-07-25T00:01:02.667139100Z"
    }
   },
   "outputs": [
    {
     "name": "stdout",
     "output_type": "stream",
     "text": [
      "<class 'pandas.core.frame.DataFrame'>\n",
      "RangeIndex: 1064 entries, 0 to 1063\n",
      "Data columns (total 4 columns):\n",
      " #   Column             Non-Null Count  Dtype  \n",
      "---  ------             --------------  -----  \n",
      " 0   Mass               1064 non-null   float64\n",
      " 1   Standoff distance  1064 non-null   int64  \n",
      " 2   Angle              1064 non-null   int64  \n",
      " 3   End time           1064 non-null   float64\n",
      "dtypes: float64(2), int64(2)\n",
      "memory usage: 33.4 KB\n"
     ]
    }
   ],
   "source": [
    "dataset = pd.read_excel('RP_End_all.xlsx')\n",
    "dataset.info()"
   ]
  },
  {
   "cell_type": "code",
   "execution_count": 3,
   "metadata": {
    "ExecuteTime": {
     "end_time": "2024-07-25T00:01:05.228955900Z",
     "start_time": "2024-07-25T00:01:05.209690400Z"
    }
   },
   "outputs": [
    {
     "name": "stdout",
     "output_type": "stream",
     "text": [
      "(1064, 3) (1064,)\n"
     ]
    }
   ],
   "source": [
    "y = dataset['End time']\n",
    "X = dataset.drop(['End time'], axis=1)\n",
    "print(X.shape, y.shape)"
   ]
  },
  {
   "cell_type": "code",
   "execution_count": 4,
   "metadata": {
    "ExecuteTime": {
     "end_time": "2024-07-25T00:01:09.078401300Z",
     "start_time": "2024-07-25T00:01:09.072834300Z"
    }
   },
   "outputs": [],
   "source": [
    "# convert to numpy array\n",
    "X = np.array(X)\n",
    "y = np.array(y)"
   ]
  },
  {
   "cell_type": "markdown",
   "metadata": {
    "colab_type": "text",
    "id": "VC6omXel_Up0"
   },
   "source": [
    "### Splitting the dataset into the Training set and Test set"
   ]
  },
  {
   "cell_type": "code",
   "execution_count": 5,
   "metadata": {
    "colab": {},
    "colab_type": "code",
    "id": "L5edeb2r_agx",
    "ExecuteTime": {
     "end_time": "2024-07-25T00:01:11.369216400Z",
     "start_time": "2024-07-25T00:01:10.541531900Z"
    }
   },
   "outputs": [],
   "source": [
    "from sklearn.model_selection import train_test_split\n",
    "X_train, X_test, y_train, y_test = train_test_split(X,\n",
    "                                                    y,\n",
    "                                                    test_size = 0.3,\n",
    "                                                    random_state = 0)"
   ]
  },
  {
   "cell_type": "code",
   "execution_count": 6,
   "metadata": {
    "colab": {},
    "colab_type": "code",
    "id": "L5edeb2r_agx",
    "ExecuteTime": {
     "end_time": "2024-07-25T00:01:12.174757Z",
     "start_time": "2024-07-25T00:01:12.166183600Z"
    }
   },
   "outputs": [],
   "source": [
    "X_val, X_test, y_val, y_test = train_test_split(X_test,\n",
    "                                                y_test,\n",
    "                                                test_size = 0.5,\n",
    "                                                random_state = 0)"
   ]
  },
  {
   "cell_type": "markdown",
   "metadata": {
    "colab_type": "text",
    "id": "_mSLlAT9_eyI"
   },
   "source": [
    "# Part 2 - Building the ANN"
   ]
  },
  {
   "cell_type": "markdown",
   "metadata": {
    "colab_type": "text",
    "id": "CsBULd_f_wLY"
   },
   "source": [
    "### Initializing the ANN"
   ]
  },
  {
   "cell_type": "code",
   "execution_count": 7,
   "metadata": {
    "colab": {},
    "colab_type": "code",
    "id": "J6Hd97Ls__Nz",
    "ExecuteTime": {
     "end_time": "2024-07-25T00:01:14.576294100Z",
     "start_time": "2024-07-25T00:01:14.496615Z"
    }
   },
   "outputs": [],
   "source": [
    "ann = tf.keras.models.Sequential()"
   ]
  },
  {
   "cell_type": "markdown",
   "metadata": {
    "colab_type": "text",
    "id": "iitAFJS_ABUn"
   },
   "source": [
    "### Adding the input layer and the first hidden layer"
   ]
  },
  {
   "cell_type": "code",
   "execution_count": 8,
   "metadata": {
    "colab": {},
    "colab_type": "code",
    "id": "ksO_Vv40AHix",
    "ExecuteTime": {
     "end_time": "2024-07-25T00:01:16.135173400Z",
     "start_time": "2024-07-25T00:01:16.056667700Z"
    }
   },
   "outputs": [],
   "source": [
    "ann.add(tf.keras.layers.Dense(units=75,\n",
    "                              input_shape=(X_train.shape[1],),\n",
    "                              activation='softplus'))"
   ]
  },
  {
   "cell_type": "markdown",
   "metadata": {
    "colab_type": "text",
    "id": "-lb4kK_wAKbs"
   },
   "source": [
    "### Adding the second hidden layer"
   ]
  },
  {
   "cell_type": "code",
   "execution_count": 9,
   "metadata": {
    "colab": {},
    "colab_type": "code",
    "id": "c2357OqEAQOQ",
    "tags": [],
    "ExecuteTime": {
     "end_time": "2024-07-25T00:01:18.041471900Z",
     "start_time": "2024-07-25T00:01:18.010385300Z"
    }
   },
   "outputs": [],
   "source": [
    "ann.add(tf.keras.layers.Dense(units=55,\n",
    "                              activation='softplus'))"
   ]
  },
  {
   "cell_type": "markdown",
   "metadata": {
    "colab_type": "text",
    "id": "-lb4kK_wAKbs"
   },
   "source": [
    "### Adding the third hidden layer"
   ]
  },
  {
   "cell_type": "code",
   "execution_count": 10,
   "metadata": {
    "colab": {},
    "colab_type": "code",
    "id": "c2357OqEAQOQ",
    "tags": [],
    "ExecuteTime": {
     "end_time": "2024-07-25T00:01:20.555935300Z",
     "start_time": "2024-07-25T00:01:20.510138100Z"
    }
   },
   "outputs": [],
   "source": [
    "ann.add(tf.keras.layers.Dense(units=35,\n",
    "                              activation='softplus'))"
   ]
  },
  {
   "cell_type": "markdown",
   "metadata": {
    "colab_type": "text",
    "id": "jwMOmKb3AdBY"
   },
   "source": [
    "### Adding the output layer"
   ]
  },
  {
   "cell_type": "code",
   "execution_count": 11,
   "metadata": {
    "colab": {},
    "colab_type": "code",
    "id": "YFATpzsUAkLL",
    "ExecuteTime": {
     "end_time": "2024-07-25T00:01:21.860057200Z",
     "start_time": "2024-07-25T00:01:21.828538300Z"
    }
   },
   "outputs": [],
   "source": [
    "ann.add(tf.keras.layers.Dense(units=1,\n",
    "                              activation='linear'))"
   ]
  },
  {
   "cell_type": "markdown",
   "metadata": {},
   "source": [
    "### what model looks like"
   ]
  },
  {
   "cell_type": "code",
   "execution_count": 12,
   "metadata": {
    "ExecuteTime": {
     "end_time": "2024-07-25T00:01:23.978853100Z",
     "start_time": "2024-07-25T00:01:23.822606500Z"
    }
   },
   "outputs": [
    {
     "name": "stdout",
     "output_type": "stream",
     "text": [
      "Model: \"sequential\"\n",
      "_________________________________________________________________\n",
      " Layer (type)                Output Shape              Param #   \n",
      "=================================================================\n",
      " dense (Dense)               (None, 75)                300       \n",
      "                                                                 \n",
      " dense_1 (Dense)             (None, 55)                4180      \n",
      "                                                                 \n",
      " dense_2 (Dense)             (None, 35)                1960      \n",
      "                                                                 \n",
      " dense_3 (Dense)             (None, 1)                 36        \n",
      "                                                                 \n",
      "=================================================================\n",
      "Total params: 6,476\n",
      "Trainable params: 6,476\n",
      "Non-trainable params: 0\n",
      "_________________________________________________________________\n"
     ]
    }
   ],
   "source": [
    "ann.summary()"
   ]
  },
  {
   "cell_type": "markdown",
   "metadata": {
    "colab_type": "text",
    "id": "fq7e4fF6A1yy"
   },
   "source": [
    "# Part 3 - Training the ANN"
   ]
  },
  {
   "cell_type": "markdown",
   "metadata": {
    "colab_type": "text",
    "id": "qDeylAs2An25"
   },
   "source": [
    "### Compiling the ANN"
   ]
  },
  {
   "cell_type": "code",
   "execution_count": 13,
   "metadata": {
    "colab": {},
    "colab_type": "code",
    "id": "pesgbWlCAtB4",
    "ExecuteTime": {
     "end_time": "2024-07-25T00:01:26.003112400Z",
     "start_time": "2024-07-25T00:01:25.955594700Z"
    }
   },
   "outputs": [],
   "source": [
    "from tensorflow.keras.optimizers import Adam\n",
    "opt = Adam(learning_rate=0.01)\n",
    "ann.compile(optimizer = opt,\n",
    "            loss = 'mean_squared_error',\n",
    "            metrics = ['mae'])"
   ]
  },
  {
   "cell_type": "markdown",
   "metadata": {},
   "source": [
    "### early stopping callback"
   ]
  },
  {
   "cell_type": "code",
   "execution_count": 14,
   "metadata": {
    "ExecuteTime": {
     "end_time": "2024-07-25T00:01:27.260401100Z",
     "start_time": "2024-07-25T00:01:27.241245400Z"
    }
   },
   "outputs": [],
   "source": [
    "# protects from unnecessary further training of the model if a particular metric does not continue to improve over a number of n epochs. In such a case, the model training would be automatically aborted.\n",
    "from keras.callbacks import EarlyStopping\n",
    "es = EarlyStopping(monitor='val_loss',\n",
    "                   mode='min',\n",
    "                   patience=50,\n",
    "                   restore_best_weights = True)"
   ]
  },
  {
   "cell_type": "markdown",
   "metadata": {
    "colab_type": "text",
    "id": "YjVuiybYOo7r"
   },
   "source": [
    "### Training the ANN model on the Training set"
   ]
  },
  {
   "cell_type": "code",
   "execution_count": 15,
   "metadata": {
    "colab": {
     "base_uri": "https://localhost:8080/",
     "height": 1000
    },
    "colab_type": "code",
    "id": "c_vV-tiiA5zn",
    "outputId": "4a2b6ee6-ed75-4698-9069-b250e613803f",
    "ExecuteTime": {
     "end_time": "2024-07-25T00:01:43.135187100Z",
     "start_time": "2024-07-25T00:01:29.461475100Z"
    }
   },
   "outputs": [
    {
     "name": "stdout",
     "output_type": "stream",
     "text": [
      "Epoch 1/500\n",
      "19/19 [==============================] - 1s 21ms/step - loss: 2148.8579 - mae: 34.5723 - val_loss: 666.5652 - val_mae: 19.3795\n",
      "Epoch 2/500\n",
      "19/19 [==============================] - 0s 4ms/step - loss: 442.4678 - mae: 16.9621 - val_loss: 362.9479 - val_mae: 17.4209\n",
      "Epoch 3/500\n",
      "19/19 [==============================] - 0s 5ms/step - loss: 270.8871 - mae: 13.3626 - val_loss: 239.4028 - val_mae: 11.6680\n",
      "Epoch 4/500\n",
      "19/19 [==============================] - 0s 5ms/step - loss: 205.3712 - mae: 11.2464 - val_loss: 189.7291 - val_mae: 10.2194\n",
      "Epoch 5/500\n",
      "19/19 [==============================] - 0s 5ms/step - loss: 163.5563 - mae: 9.6737 - val_loss: 160.7848 - val_mae: 9.8095\n",
      "Epoch 6/500\n",
      "19/19 [==============================] - 0s 4ms/step - loss: 156.9801 - mae: 9.2796 - val_loss: 145.8017 - val_mae: 9.2073\n",
      "Epoch 7/500\n",
      "19/19 [==============================] - 0s 5ms/step - loss: 148.1233 - mae: 8.9274 - val_loss: 134.7165 - val_mae: 8.3874\n",
      "Epoch 8/500\n",
      "19/19 [==============================] - 0s 5ms/step - loss: 143.4740 - mae: 8.7079 - val_loss: 143.3641 - val_mae: 8.2467\n",
      "Epoch 9/500\n",
      "19/19 [==============================] - 0s 5ms/step - loss: 144.3159 - mae: 8.7987 - val_loss: 132.7570 - val_mae: 8.3255\n",
      "Epoch 10/500\n",
      "19/19 [==============================] - 0s 4ms/step - loss: 136.1893 - mae: 8.4098 - val_loss: 135.7190 - val_mae: 9.1387\n",
      "Epoch 11/500\n",
      "19/19 [==============================] - 0s 4ms/step - loss: 133.1159 - mae: 8.4352 - val_loss: 127.3674 - val_mae: 7.9869\n",
      "Epoch 12/500\n",
      "19/19 [==============================] - 0s 4ms/step - loss: 151.2267 - mae: 9.4027 - val_loss: 129.8308 - val_mae: 7.8956\n",
      "Epoch 13/500\n",
      "19/19 [==============================] - 0s 5ms/step - loss: 169.9148 - mae: 9.9378 - val_loss: 145.7370 - val_mae: 9.9779\n",
      "Epoch 14/500\n",
      "19/19 [==============================] - 0s 5ms/step - loss: 145.4269 - mae: 9.0961 - val_loss: 140.1259 - val_mae: 8.3084\n",
      "Epoch 15/500\n",
      "19/19 [==============================] - 0s 5ms/step - loss: 134.4382 - mae: 8.4346 - val_loss: 134.7298 - val_mae: 9.2131\n",
      "Epoch 16/500\n",
      "19/19 [==============================] - 0s 5ms/step - loss: 123.5966 - mae: 8.0186 - val_loss: 141.9065 - val_mae: 8.5796\n",
      "Epoch 17/500\n",
      "19/19 [==============================] - 0s 5ms/step - loss: 131.6723 - mae: 8.4185 - val_loss: 156.9010 - val_mae: 10.2401\n",
      "Epoch 18/500\n",
      "19/19 [==============================] - 0s 5ms/step - loss: 134.0075 - mae: 8.5191 - val_loss: 138.9301 - val_mae: 8.4533\n",
      "Epoch 19/500\n",
      "19/19 [==============================] - 0s 5ms/step - loss: 125.0142 - mae: 8.0683 - val_loss: 122.3386 - val_mae: 8.2301\n",
      "Epoch 20/500\n",
      "19/19 [==============================] - 0s 4ms/step - loss: 124.5957 - mae: 8.1188 - val_loss: 129.2425 - val_mae: 8.1742\n",
      "Epoch 21/500\n",
      "19/19 [==============================] - 0s 5ms/step - loss: 119.1912 - mae: 7.8261 - val_loss: 118.7878 - val_mae: 7.6270\n",
      "Epoch 22/500\n",
      "19/19 [==============================] - 0s 4ms/step - loss: 119.0223 - mae: 7.7847 - val_loss: 119.2844 - val_mae: 8.0213\n",
      "Epoch 23/500\n",
      "19/19 [==============================] - 0s 4ms/step - loss: 132.1730 - mae: 8.5359 - val_loss: 116.8106 - val_mae: 7.5840\n",
      "Epoch 24/500\n",
      "19/19 [==============================] - 0s 4ms/step - loss: 124.3759 - mae: 8.2476 - val_loss: 129.0232 - val_mae: 8.2873\n",
      "Epoch 25/500\n",
      "19/19 [==============================] - 0s 5ms/step - loss: 118.5108 - mae: 7.7016 - val_loss: 117.3194 - val_mae: 7.7704\n",
      "Epoch 26/500\n",
      "19/19 [==============================] - 0s 5ms/step - loss: 115.1986 - mae: 7.6346 - val_loss: 131.3037 - val_mae: 7.9265\n",
      "Epoch 27/500\n",
      "19/19 [==============================] - 0s 17ms/step - loss: 122.1592 - mae: 7.8781 - val_loss: 134.9835 - val_mae: 8.5119\n",
      "Epoch 28/500\n",
      "19/19 [==============================] - 0s 5ms/step - loss: 123.5610 - mae: 8.0479 - val_loss: 136.6581 - val_mae: 9.5041\n",
      "Epoch 29/500\n",
      "19/19 [==============================] - 0s 5ms/step - loss: 130.6212 - mae: 8.5974 - val_loss: 142.0509 - val_mae: 8.9752\n",
      "Epoch 30/500\n",
      "19/19 [==============================] - 0s 5ms/step - loss: 125.5941 - mae: 8.3384 - val_loss: 120.1390 - val_mae: 8.4196\n",
      "Epoch 31/500\n",
      "19/19 [==============================] - 0s 5ms/step - loss: 122.9094 - mae: 8.0551 - val_loss: 112.8279 - val_mae: 7.6064\n",
      "Epoch 32/500\n",
      "19/19 [==============================] - 0s 5ms/step - loss: 116.4501 - mae: 7.7356 - val_loss: 116.1184 - val_mae: 8.3871\n",
      "Epoch 33/500\n",
      "19/19 [==============================] - 0s 5ms/step - loss: 127.5929 - mae: 8.4064 - val_loss: 185.1176 - val_mae: 10.9071\n",
      "Epoch 34/500\n",
      "19/19 [==============================] - 0s 5ms/step - loss: 124.3939 - mae: 8.2040 - val_loss: 128.4021 - val_mae: 8.7967\n",
      "Epoch 35/500\n",
      "19/19 [==============================] - 0s 4ms/step - loss: 116.8732 - mae: 7.7473 - val_loss: 112.2265 - val_mae: 7.2486\n",
      "Epoch 36/500\n",
      "19/19 [==============================] - 0s 4ms/step - loss: 128.0630 - mae: 8.2419 - val_loss: 152.0927 - val_mae: 9.3800\n",
      "Epoch 37/500\n",
      "19/19 [==============================] - 0s 5ms/step - loss: 144.7365 - mae: 9.2508 - val_loss: 128.0761 - val_mae: 8.3604\n",
      "Epoch 38/500\n",
      "19/19 [==============================] - 0s 4ms/step - loss: 119.8974 - mae: 7.8649 - val_loss: 113.5362 - val_mae: 7.5081\n",
      "Epoch 39/500\n",
      "19/19 [==============================] - 0s 4ms/step - loss: 117.9915 - mae: 7.6766 - val_loss: 121.1648 - val_mae: 8.6066\n",
      "Epoch 40/500\n",
      "19/19 [==============================] - 0s 4ms/step - loss: 118.2361 - mae: 7.8729 - val_loss: 108.1328 - val_mae: 7.3088\n",
      "Epoch 41/500\n",
      "19/19 [==============================] - 0s 5ms/step - loss: 112.3648 - mae: 7.5844 - val_loss: 122.4628 - val_mae: 8.2622\n",
      "Epoch 42/500\n",
      "19/19 [==============================] - 0s 5ms/step - loss: 113.3212 - mae: 7.5596 - val_loss: 104.4403 - val_mae: 7.2971\n",
      "Epoch 43/500\n",
      "19/19 [==============================] - 0s 5ms/step - loss: 112.3478 - mae: 7.5113 - val_loss: 111.4853 - val_mae: 7.5304\n",
      "Epoch 44/500\n",
      "19/19 [==============================] - 0s 5ms/step - loss: 113.0047 - mae: 7.5496 - val_loss: 134.4904 - val_mae: 8.3870\n",
      "Epoch 45/500\n",
      "19/19 [==============================] - 0s 4ms/step - loss: 123.2544 - mae: 8.1313 - val_loss: 115.9231 - val_mae: 7.6152\n",
      "Epoch 46/500\n",
      "19/19 [==============================] - 0s 4ms/step - loss: 118.6315 - mae: 7.7318 - val_loss: 106.4403 - val_mae: 7.2856\n",
      "Epoch 47/500\n",
      "19/19 [==============================] - 0s 5ms/step - loss: 118.4946 - mae: 7.9340 - val_loss: 119.5521 - val_mae: 8.2281\n",
      "Epoch 48/500\n",
      "19/19 [==============================] - 0s 5ms/step - loss: 113.6923 - mae: 7.6352 - val_loss: 118.0538 - val_mae: 7.8457\n",
      "Epoch 49/500\n",
      "19/19 [==============================] - 0s 4ms/step - loss: 112.3824 - mae: 7.5331 - val_loss: 126.1680 - val_mae: 8.1092\n",
      "Epoch 50/500\n",
      "19/19 [==============================] - 0s 4ms/step - loss: 119.7144 - mae: 7.9811 - val_loss: 114.8208 - val_mae: 8.2185\n",
      "Epoch 51/500\n",
      "19/19 [==============================] - 0s 4ms/step - loss: 114.8975 - mae: 7.5691 - val_loss: 113.5000 - val_mae: 7.5252\n",
      "Epoch 52/500\n",
      "19/19 [==============================] - 0s 5ms/step - loss: 115.3682 - mae: 7.7868 - val_loss: 133.5848 - val_mae: 9.0018\n",
      "Epoch 53/500\n",
      "19/19 [==============================] - 0s 5ms/step - loss: 124.3216 - mae: 8.2214 - val_loss: 131.3904 - val_mae: 9.3409\n",
      "Epoch 54/500\n",
      "19/19 [==============================] - 0s 5ms/step - loss: 111.4599 - mae: 7.4750 - val_loss: 114.2290 - val_mae: 7.4033\n",
      "Epoch 55/500\n",
      "19/19 [==============================] - 0s 5ms/step - loss: 110.0499 - mae: 7.4672 - val_loss: 105.0195 - val_mae: 7.8369\n",
      "Epoch 56/500\n",
      "19/19 [==============================] - 0s 4ms/step - loss: 110.2036 - mae: 7.5134 - val_loss: 138.0889 - val_mae: 9.4769\n",
      "Epoch 57/500\n",
      "19/19 [==============================] - 0s 5ms/step - loss: 136.0386 - mae: 8.8752 - val_loss: 127.3389 - val_mae: 8.6325\n",
      "Epoch 58/500\n",
      "19/19 [==============================] - 0s 5ms/step - loss: 112.2212 - mae: 7.7479 - val_loss: 125.6116 - val_mae: 7.6813\n",
      "Epoch 59/500\n",
      "19/19 [==============================] - 0s 5ms/step - loss: 119.5349 - mae: 7.9707 - val_loss: 117.9106 - val_mae: 8.0324\n",
      "Epoch 60/500\n",
      "19/19 [==============================] - 0s 5ms/step - loss: 112.7766 - mae: 7.5877 - val_loss: 135.5095 - val_mae: 9.4025\n",
      "Epoch 61/500\n",
      "19/19 [==============================] - 0s 6ms/step - loss: 120.6614 - mae: 7.9386 - val_loss: 110.9234 - val_mae: 7.3826\n",
      "Epoch 62/500\n",
      "19/19 [==============================] - 0s 5ms/step - loss: 114.9380 - mae: 7.7498 - val_loss: 151.7782 - val_mae: 9.7270\n",
      "Epoch 63/500\n",
      "19/19 [==============================] - 0s 6ms/step - loss: 113.4658 - mae: 7.7542 - val_loss: 121.2054 - val_mae: 8.7401\n",
      "Epoch 64/500\n",
      "19/19 [==============================] - 0s 5ms/step - loss: 132.2850 - mae: 8.9373 - val_loss: 124.7178 - val_mae: 8.0979\n",
      "Epoch 65/500\n",
      "19/19 [==============================] - 0s 5ms/step - loss: 112.5018 - mae: 7.4923 - val_loss: 102.3534 - val_mae: 7.5096\n",
      "Epoch 66/500\n",
      "19/19 [==============================] - 0s 5ms/step - loss: 121.3210 - mae: 8.0744 - val_loss: 168.2238 - val_mae: 10.4377\n",
      "Epoch 67/500\n",
      "19/19 [==============================] - 0s 5ms/step - loss: 162.2691 - mae: 9.8599 - val_loss: 140.1149 - val_mae: 9.0761\n",
      "Epoch 68/500\n",
      "19/19 [==============================] - 0s 4ms/step - loss: 112.7421 - mae: 7.5808 - val_loss: 117.6340 - val_mae: 8.0859\n",
      "Epoch 69/500\n",
      "19/19 [==============================] - 0s 4ms/step - loss: 114.1538 - mae: 7.7458 - val_loss: 141.5924 - val_mae: 9.2070\n",
      "Epoch 70/500\n",
      "19/19 [==============================] - 0s 5ms/step - loss: 112.5173 - mae: 7.4761 - val_loss: 128.7572 - val_mae: 7.6583\n",
      "Epoch 71/500\n",
      "19/19 [==============================] - 0s 4ms/step - loss: 128.3460 - mae: 8.4624 - val_loss: 104.7948 - val_mae: 7.5670\n",
      "Epoch 72/500\n",
      "19/19 [==============================] - 0s 5ms/step - loss: 108.3836 - mae: 7.3942 - val_loss: 123.2865 - val_mae: 7.9459\n",
      "Epoch 73/500\n",
      "19/19 [==============================] - 0s 4ms/step - loss: 115.2905 - mae: 7.5730 - val_loss: 124.3351 - val_mae: 7.7478\n",
      "Epoch 74/500\n",
      "19/19 [==============================] - 0s 4ms/step - loss: 109.3254 - mae: 7.4001 - val_loss: 133.2289 - val_mae: 8.8979\n",
      "Epoch 75/500\n",
      "19/19 [==============================] - 0s 5ms/step - loss: 115.4091 - mae: 7.7269 - val_loss: 109.8305 - val_mae: 7.4245\n",
      "Epoch 76/500\n",
      "19/19 [==============================] - 0s 5ms/step - loss: 117.2130 - mae: 7.8388 - val_loss: 162.1696 - val_mae: 10.3327\n",
      "Epoch 77/500\n",
      "19/19 [==============================] - 0s 4ms/step - loss: 130.8995 - mae: 8.6314 - val_loss: 130.1930 - val_mae: 8.5143\n",
      "Epoch 78/500\n",
      "19/19 [==============================] - 0s 4ms/step - loss: 115.0106 - mae: 7.9059 - val_loss: 142.3974 - val_mae: 9.6141\n",
      "Epoch 79/500\n",
      "19/19 [==============================] - 0s 5ms/step - loss: 115.6831 - mae: 7.7736 - val_loss: 146.5363 - val_mae: 8.9688\n",
      "Epoch 80/500\n",
      "19/19 [==============================] - 0s 4ms/step - loss: 120.6094 - mae: 7.8790 - val_loss: 102.7288 - val_mae: 7.4051\n",
      "Epoch 81/500\n",
      "19/19 [==============================] - 0s 4ms/step - loss: 106.8536 - mae: 7.3211 - val_loss: 97.5952 - val_mae: 6.9390\n",
      "Epoch 82/500\n",
      "19/19 [==============================] - 0s 4ms/step - loss: 114.2640 - mae: 7.5273 - val_loss: 109.5915 - val_mae: 8.1538\n",
      "Epoch 83/500\n",
      "19/19 [==============================] - 0s 5ms/step - loss: 116.3853 - mae: 7.7030 - val_loss: 119.3745 - val_mae: 7.5719\n",
      "Epoch 84/500\n",
      "19/19 [==============================] - 0s 4ms/step - loss: 116.4920 - mae: 7.5541 - val_loss: 112.3858 - val_mae: 7.6168\n",
      "Epoch 85/500\n",
      "19/19 [==============================] - 0s 4ms/step - loss: 113.2437 - mae: 7.4568 - val_loss: 106.9343 - val_mae: 7.5631\n",
      "Epoch 86/500\n",
      "19/19 [==============================] - 0s 5ms/step - loss: 108.4932 - mae: 7.4103 - val_loss: 102.3979 - val_mae: 7.2605\n",
      "Epoch 87/500\n",
      "19/19 [==============================] - 0s 5ms/step - loss: 101.5649 - mae: 6.9580 - val_loss: 102.1704 - val_mae: 7.0814\n",
      "Epoch 88/500\n",
      "19/19 [==============================] - 0s 4ms/step - loss: 103.1983 - mae: 6.9211 - val_loss: 107.9490 - val_mae: 6.9449\n",
      "Epoch 89/500\n",
      "19/19 [==============================] - 0s 5ms/step - loss: 104.6305 - mae: 7.1255 - val_loss: 105.8680 - val_mae: 7.0908\n",
      "Epoch 90/500\n",
      "19/19 [==============================] - 0s 4ms/step - loss: 105.3105 - mae: 7.1718 - val_loss: 99.7741 - val_mae: 6.8689\n",
      "Epoch 91/500\n",
      "19/19 [==============================] - 0s 4ms/step - loss: 102.4039 - mae: 6.9767 - val_loss: 100.1631 - val_mae: 7.3243\n",
      "Epoch 92/500\n",
      "19/19 [==============================] - 0s 5ms/step - loss: 107.4167 - mae: 7.0875 - val_loss: 105.8504 - val_mae: 7.8708\n",
      "Epoch 93/500\n",
      "19/19 [==============================] - 0s 6ms/step - loss: 107.6344 - mae: 7.3411 - val_loss: 120.9460 - val_mae: 8.0382\n",
      "Epoch 94/500\n",
      "19/19 [==============================] - 0s 8ms/step - loss: 107.5151 - mae: 7.3456 - val_loss: 111.4042 - val_mae: 8.2012\n",
      "Epoch 95/500\n",
      "19/19 [==============================] - 0s 8ms/step - loss: 107.4958 - mae: 7.2811 - val_loss: 111.9702 - val_mae: 7.6853\n",
      "Epoch 96/500\n",
      "19/19 [==============================] - 0s 4ms/step - loss: 127.0700 - mae: 8.2442 - val_loss: 155.1786 - val_mae: 10.2710\n",
      "Epoch 97/500\n",
      "19/19 [==============================] - 0s 4ms/step - loss: 109.4814 - mae: 7.6821 - val_loss: 116.4328 - val_mae: 8.0397\n",
      "Epoch 98/500\n",
      "19/19 [==============================] - 0s 4ms/step - loss: 108.4987 - mae: 7.3164 - val_loss: 115.9820 - val_mae: 8.3267\n",
      "Epoch 99/500\n",
      "19/19 [==============================] - 0s 5ms/step - loss: 109.5265 - mae: 7.3774 - val_loss: 100.9095 - val_mae: 7.5225\n",
      "Epoch 100/500\n",
      "19/19 [==============================] - 0s 4ms/step - loss: 104.1069 - mae: 7.0982 - val_loss: 136.0009 - val_mae: 8.7258\n",
      "Epoch 101/500\n",
      "19/19 [==============================] - 0s 5ms/step - loss: 113.3735 - mae: 7.7496 - val_loss: 130.4879 - val_mae: 7.6101\n",
      "Epoch 102/500\n",
      "19/19 [==============================] - 0s 4ms/step - loss: 113.0087 - mae: 7.7405 - val_loss: 101.1533 - val_mae: 6.8640\n",
      "Epoch 103/500\n",
      "19/19 [==============================] - 0s 4ms/step - loss: 111.0511 - mae: 7.5430 - val_loss: 112.3244 - val_mae: 7.9422\n",
      "Epoch 104/500\n",
      "19/19 [==============================] - 0s 5ms/step - loss: 104.3409 - mae: 7.2825 - val_loss: 136.2056 - val_mae: 8.8826\n",
      "Epoch 105/500\n",
      "19/19 [==============================] - 0s 4ms/step - loss: 102.8181 - mae: 7.0968 - val_loss: 111.6733 - val_mae: 6.9838\n",
      "Epoch 106/500\n",
      "19/19 [==============================] - 0s 4ms/step - loss: 111.1621 - mae: 7.5009 - val_loss: 126.2351 - val_mae: 8.5811\n",
      "Epoch 107/500\n",
      "19/19 [==============================] - 0s 5ms/step - loss: 116.8392 - mae: 7.7692 - val_loss: 104.3388 - val_mae: 7.9146\n",
      "Epoch 108/500\n",
      "19/19 [==============================] - 0s 5ms/step - loss: 105.1293 - mae: 7.1834 - val_loss: 102.7302 - val_mae: 7.7190\n",
      "Epoch 109/500\n",
      "19/19 [==============================] - 0s 5ms/step - loss: 109.6416 - mae: 7.2312 - val_loss: 120.7641 - val_mae: 8.8253\n",
      "Epoch 110/500\n",
      "19/19 [==============================] - 0s 4ms/step - loss: 101.6644 - mae: 6.9984 - val_loss: 112.1330 - val_mae: 8.0777\n",
      "Epoch 111/500\n",
      "19/19 [==============================] - 0s 4ms/step - loss: 108.5303 - mae: 7.4697 - val_loss: 108.8991 - val_mae: 7.1073\n",
      "Epoch 112/500\n",
      "19/19 [==============================] - 0s 4ms/step - loss: 102.4222 - mae: 7.0229 - val_loss: 106.9830 - val_mae: 7.9479\n",
      "Epoch 113/500\n",
      "19/19 [==============================] - 0s 4ms/step - loss: 102.9017 - mae: 7.1767 - val_loss: 128.6808 - val_mae: 8.5679\n",
      "Epoch 114/500\n",
      "19/19 [==============================] - 0s 5ms/step - loss: 106.4690 - mae: 7.2407 - val_loss: 126.8721 - val_mae: 8.5969\n",
      "Epoch 115/500\n",
      "19/19 [==============================] - 0s 5ms/step - loss: 110.5382 - mae: 7.4606 - val_loss: 108.9604 - val_mae: 7.8851\n",
      "Epoch 116/500\n",
      "19/19 [==============================] - 0s 4ms/step - loss: 103.5704 - mae: 7.1081 - val_loss: 102.4242 - val_mae: 7.0163\n",
      "Epoch 117/500\n",
      "19/19 [==============================] - 0s 5ms/step - loss: 107.5740 - mae: 7.0809 - val_loss: 107.5293 - val_mae: 7.6260\n",
      "Epoch 118/500\n",
      "19/19 [==============================] - 0s 4ms/step - loss: 119.6356 - mae: 7.8574 - val_loss: 122.9292 - val_mae: 8.5984\n",
      "Epoch 119/500\n",
      "19/19 [==============================] - 0s 4ms/step - loss: 103.0211 - mae: 7.1549 - val_loss: 103.5120 - val_mae: 7.2891\n",
      "Epoch 120/500\n",
      "19/19 [==============================] - 0s 4ms/step - loss: 100.3808 - mae: 7.0385 - val_loss: 117.1483 - val_mae: 7.5361\n",
      "Epoch 121/500\n",
      "19/19 [==============================] - 0s 5ms/step - loss: 109.8324 - mae: 7.4963 - val_loss: 103.7494 - val_mae: 7.0231\n",
      "Epoch 122/500\n",
      "19/19 [==============================] - 0s 4ms/step - loss: 113.0624 - mae: 7.8411 - val_loss: 106.7040 - val_mae: 7.1052\n",
      "Epoch 123/500\n",
      "19/19 [==============================] - 0s 4ms/step - loss: 106.5954 - mae: 7.1776 - val_loss: 107.2567 - val_mae: 7.3036\n",
      "Epoch 124/500\n",
      "19/19 [==============================] - 0s 4ms/step - loss: 98.9183 - mae: 6.8673 - val_loss: 100.8929 - val_mae: 7.2214\n",
      "Epoch 125/500\n",
      "19/19 [==============================] - 0s 5ms/step - loss: 103.3389 - mae: 7.4038 - val_loss: 97.7010 - val_mae: 6.5675\n",
      "Epoch 126/500\n",
      "19/19 [==============================] - 0s 5ms/step - loss: 109.1812 - mae: 7.4841 - val_loss: 98.0248 - val_mae: 6.6815\n",
      "Epoch 127/500\n",
      "19/19 [==============================] - 0s 5ms/step - loss: 104.4896 - mae: 7.1044 - val_loss: 98.1409 - val_mae: 6.7913\n",
      "Epoch 128/500\n",
      "19/19 [==============================] - 0s 5ms/step - loss: 102.6512 - mae: 7.0695 - val_loss: 99.0783 - val_mae: 6.6648\n",
      "Epoch 129/500\n",
      "19/19 [==============================] - 0s 5ms/step - loss: 100.2466 - mae: 6.7939 - val_loss: 118.4998 - val_mae: 8.8534\n",
      "Epoch 130/500\n",
      "19/19 [==============================] - 0s 5ms/step - loss: 118.1757 - mae: 7.9259 - val_loss: 112.6720 - val_mae: 7.9643\n",
      "Epoch 131/500\n",
      "19/19 [==============================] - 0s 5ms/step - loss: 108.6801 - mae: 7.4064 - val_loss: 98.8716 - val_mae: 6.9865\n"
     ]
    }
   ],
   "source": [
    "history = ann.fit(X_train, y_train,\n",
    "                    validation_data = (X_val, y_val),\n",
    "                    callbacks=[es],\n",
    "                    epochs=500,\n",
    "                    batch_size=40,\n",
    "                    verbose=1)"
   ]
  },
  {
   "cell_type": "markdown",
   "metadata": {
    "colab_type": "text",
    "id": "0H0zKKNEBLD5"
   },
   "source": [
    "### Analyse learn history"
   ]
  },
  {
   "cell_type": "code",
   "execution_count": 16,
   "metadata": {
    "ExecuteTime": {
     "end_time": "2024-07-25T00:01:46.925411100Z",
     "start_time": "2024-07-25T00:01:46.682357400Z"
    }
   },
   "outputs": [
    {
     "data": {
      "text/plain": "<Figure size 640x480 with 1 Axes>",
      "image/png": "[encoded data removed]"
     },
     "metadata": {},
     "output_type": "display_data"
    }
   ],
   "source": [
    "# let's see the training and validation accuracy by epoch\n",
    "history_dict = history.history\n",
    "loss_values = history_dict['loss'] # you can change this\n",
    "val_loss_values = history_dict['val_loss'] # you can also change this\n",
    "epochs = range(1, len(loss_values) + 1) # range of X (no. of epochs)\n",
    "plt.plot(epochs, loss_values, 'blue', label='Train set loss')\n",
    "plt.plot(epochs, val_loss_values, 'orange', label='Validation set loss')\n",
    "#plt.title('Training and testing loss')\n",
    "plt.xlabel('Epochs')\n",
    "plt.ylabel('Loss (MSE)')\n",
    "plt.legend()\n",
    "plt.show()"
   ]
  },
  {
   "cell_type": "code",
   "execution_count": 17,
   "metadata": {
    "ExecuteTime": {
     "end_time": "2024-07-25T00:01:50.740101700Z",
     "start_time": "2024-07-25T00:01:50.549686300Z"
    }
   },
   "outputs": [
    {
     "data": {
      "text/plain": "<Figure size 640x480 with 1 Axes>",
      "image/png": "[encoded data removed]"
     },
     "metadata": {},
     "output_type": "display_data"
    }
   ],
   "source": [
    "loss_values1 = history_dict['mae'] # you can change this\n",
    "val_loss_values1 = history_dict['val_mae'] # you can also change this\n",
    "epochs = range(1, len(loss_values1) + 1) # range of X (no. of epochs)\n",
    "plt.plot(epochs, loss_values1, 'blue', label='Train set MAE')\n",
    "plt.plot(epochs, val_loss_values1, 'orange', label='Validation set MAE')\n",
    "#plt.title('Training and testing MAE')\n",
    "plt.xlabel('Epochs')\n",
    "plt.ylabel('MAE')\n",
    "plt.legend()\n",
    "plt.show()"
   ]
  },
  {
   "cell_type": "code",
   "execution_count": null,
   "metadata": {},
   "outputs": [],
   "source": [
    "print (epochs)"
   ]
  },
  {
   "cell_type": "markdown",
   "metadata": {},
   "source": [
    "### Save the model"
   ]
  },
  {
   "cell_type": "code",
   "execution_count": null,
   "metadata": {},
   "outputs": [],
   "source": [
    "ann.save('End_ANN_model_8.h5')"
   ]
  },
  {
   "cell_type": "markdown",
   "metadata": {},
   "source": [
    "# Part 4 - Make predictions"
   ]
  },
  {
   "cell_type": "code",
   "execution_count": null,
   "metadata": {},
   "outputs": [],
   "source": [
    "ann = load_model('End_ANN_model_8.h5')"
   ]
  },
  {
   "cell_type": "code",
   "execution_count": 18,
   "metadata": {
    "ExecuteTime": {
     "end_time": "2024-07-25T00:01:55.951450800Z",
     "start_time": "2024-07-25T00:01:55.041860700Z"
    }
   },
   "outputs": [
    {
     "name": "stdout",
     "output_type": "stream",
     "text": [
      "24/24 [==============================] - 0s 2ms/step\n",
      "5/5 [==============================] - 0s 4ms/step\n"
     ]
    },
    {
     "data": {
      "text/plain": "<Figure size 640x480 with 2 Axes>",
      "image/png": "[encoded data removed]"
     },
     "metadata": {},
     "output_type": "display_data"
    }
   ],
   "source": [
    "# scatterplot of actual vs. pred\n",
    "# specify the dimensions \n",
    "fig, axes = plt.subplots(1,2) # 1 row, 2 columns\n",
    "\n",
    "# this makes the individual subplots\n",
    "# Training Results\n",
    "axes[0].scatter(x=y_train, y=ann.predict(X_train)) #first row, first entry (left top)\n",
    "axes[0].set_xlabel(\"Actual\", fontsize=10)\n",
    "axes[0].set_ylabel(\"Predicted\",  fontsize=10)\n",
    "axes[0].set_title(\"Training\")\n",
    "# add 45 deg line\n",
    "x = np.linspace(*axes[0].get_xlim())\n",
    "axes[0].plot(x, x, color='red')\n",
    "# Validation Results\n",
    "axes[1].scatter(x=y_val, y=ann.predict(X_val)) # first row, second entry (right top)\n",
    "axes[1].set_xlabel(\"Actual\", fontsize=10)\n",
    "axes[1].set_ylabel(\"Predicted\",  fontsize=10)\n",
    "axes[1].set_title(\"Validation\")\n",
    "# add 45 deg line\n",
    "x = np.linspace(*axes[1].get_xlim())\n",
    "axes[1].plot(x, x, color='red')\n",
    "\n",
    "# tight layout\n",
    "fig.tight_layout()\n",
    "\n",
    "# show the plot\n",
    "plt.show()"
   ]
  },
  {
   "cell_type": "code",
   "execution_count": 19,
   "metadata": {
    "colab": {
     "base_uri": "https://localhost:8080/",
     "height": 134
    },
    "colab_type": "code",
    "id": "IA0yApEmBG1X",
    "outputId": "cb981e1f-9204-4a2a-fece-9d66a6919189",
    "ExecuteTime": {
     "end_time": "2024-07-25T00:02:02.119745100Z",
     "start_time": "2024-07-25T00:02:01.957262800Z"
    }
   },
   "outputs": [
    {
     "name": "stdout",
     "output_type": "stream",
     "text": [
      "5/5 [==============================] - 0s 4ms/step\n",
      "[[ 52991.66  62082.17]\n",
      " [119322.05 118705.03]\n",
      " [ 19723.82  19918.27]\n",
      " [ 91590.9   85280.96]\n",
      " [ 75187.83 100892.04]\n",
      " [ 74852.87  70371.4 ]\n",
      " [130647.08 129593.28]\n",
      " [144176.19 135374.54]\n",
      " [ 85825.98  97821.29]\n",
      " [ 71409.34  74064.65]\n",
      " [129461.35 135477.53]\n",
      " [132377.59 123803.04]\n",
      " [ 58414.02  63722.84]\n",
      " [ 15524.91  21129.82]\n",
      " [114754.11 113482.71]\n",
      " [ 65038.95  40915.38]\n",
      " [ 84492.88  71398.19]\n",
      " [138865.06 142612.08]\n",
      " [ 68989.14  71788.53]\n",
      " [ 51490.05  58323.94]\n",
      " [ 40413.78  41561.83]\n",
      " [104111.72  66848.97]\n",
      " [ 94418.17  53350.37]\n",
      " [ 94875.55  77534.54]\n",
      " [121886.   119419.81]\n",
      " [130957.56 127547.99]\n",
      " [ 68359.34  83002.09]\n",
      " [144366.08 136830.78]\n",
      " [ 71472.2   77006.9 ]\n",
      " [151789.12 155097.73]\n",
      " [ 91539.43  91714.67]\n",
      " [128922.18 133929.58]\n",
      " [128691.05 122841.48]\n",
      " [ 96608.08 116087.94]\n",
      " [121157.62 119917.94]\n",
      " [104818.03 100623.83]\n",
      " [ 20279.77  20306.58]\n",
      " [108666.54 109506.55]\n",
      " [ 86030.99  87980.7 ]\n",
      " [ 70388.9   77089.7 ]\n",
      " [ 70452.95  66115.12]\n",
      " [ 88432.48  87389.34]\n",
      " [140544.44 135102.89]\n",
      " [ 86134.67  89205.07]\n",
      " [ 30536.5   24420.36]\n",
      " [114218.45 112737.38]\n",
      " [115799.16 113188.27]\n",
      " [ 15667.69  10892.77]\n",
      " [149098.73 146071.69]\n",
      " [ 70430.56  58707.73]\n",
      " [ 92654.48  96672.16]\n",
      " [112879.95  83527.06]\n",
      " [130115.31 127686.71]\n",
      " [100347.43  95878.65]\n",
      " [102033.27 100052.8 ]\n",
      " [130057.33 137646.26]\n",
      " [120478.52 118838.06]\n",
      " [ 18232.08  23579.39]\n",
      " [ 57145.41  69432.62]\n",
      " [ 88372.75  90345.97]\n",
      " [154690.23 146704.52]\n",
      " [113808.53 115054.6 ]\n",
      " [140974.06 133084.25]\n",
      " [ 17410.81  22405.39]\n",
      " [144086.16 143651.08]\n",
      " [ 48165.8   54742.37]\n",
      " [ 72591.47  71926.82]\n",
      " [141881.17 142184.43]\n",
      " [ 85126.96  71098.39]\n",
      " [ 36796.38  27655.63]\n",
      " [ 56057.34  63754.49]\n",
      " [138731.95 132554.45]\n",
      " [ 64478.52  69849.87]\n",
      " [ 90070.8   66474.35]\n",
      " [ 77125.45  75224.94]\n",
      " [109631.14 125938.13]\n",
      " [ 84676.58  85052.75]\n",
      " [ 54489.93  67688.18]\n",
      " [ 99179.18 106765.06]\n",
      " [113529.92 115012.6 ]\n",
      " [ 66654.28  69001.79]\n",
      " [ 44567.32  34378.96]\n",
      " [ 42943.65  39678.73]\n",
      " [ 98807.79  98666.13]\n",
      " [119572.16  88289.76]\n",
      " [152786.86 153423.33]\n",
      " [ 67086.27  41379.82]\n",
      " [ 26554.76  30556.39]\n",
      " [ 83945.63  77585.53]\n",
      " [ 72642.2   73965.35]\n",
      " [ 91497.26  83831.06]\n",
      " [ 73217.09  93744.6 ]\n",
      " [ 31111.56  44795.58]\n",
      " [ 91193.06  86620.57]\n",
      " [ 41060.8   31114.85]\n",
      " [104200.23 119218.61]\n",
      " [138268.52 137752.52]\n",
      " [ 88767.56  87440.37]\n",
      " [103410.84 104803.14]\n",
      " [ 86609.2   99309.39]\n",
      " [140004.45 132564.06]\n",
      " [ 66477.72  68972.63]\n",
      " [ 53453.76  76493.36]\n",
      " [ 66719.86  78865.08]\n",
      " [ 21412.11  22149.52]\n",
      " [ 71076.16  66773.09]\n",
      " [104140.78 103058.18]\n",
      " [ 25215.34  26984.54]\n",
      " [135926.67 136207.7 ]\n",
      " [ 24797.37  23262.05]\n",
      " [ 56916.03  63375.97]\n",
      " [117748.23 119979.96]\n",
      " [ 91353.11 108216.77]\n",
      " [157461.92 157850.24]\n",
      " [ 59922.11  70346.18]\n",
      " [ 48606.86  35213.07]\n",
      " [ 88664.98  89196.64]\n",
      " [ 68802.56  81702.39]\n",
      " [ 81264.42  77960.14]\n",
      " [ 84625.48  77518.76]\n",
      " [137834.12 138548.73]\n",
      " [118263.62 114369.  ]\n",
      " [153860.67 157507.56]\n",
      " [ 13351.4    9598.78]\n",
      " [128357.21 132261.95]\n",
      " [ 10886.09  10757.24]\n",
      " [ 16493.33  21819.52]\n",
      " [128333.02 132714.57]\n",
      " [ 46915.78  34909.01]\n",
      " [ 21808.32  16599.36]\n",
      " [143107.97 140147.1 ]\n",
      " [118004.15 128604.  ]\n",
      " [ 88955.75 111905.99]\n",
      " [112085.81 111737.42]\n",
      " [127642.28 129464.64]\n",
      " [103719.15 103595.45]\n",
      " [ 79880.4   75770.26]\n",
      " [ 80105.49  98891.38]\n",
      " [103334.08 103839.55]\n",
      " [ 48312.67  53958.14]\n",
      " [ 83402.45  77939.42]\n",
      " [ 76373.86  82337.4 ]\n",
      " [ 16128.95  13588.39]\n",
      " [132198.34 128125.93]\n",
      " [103104.48 106871.36]\n",
      " [ 92063.85  94804.12]\n",
      " [107305.79 110637.5 ]\n",
      " [ 70096.21  66137.43]\n",
      " [109073.87 107684.32]\n",
      " [ 77426.04  79934.57]\n",
      " [ 68647.15  69999.7 ]\n",
      " [ 18707.03  18643.21]\n",
      " [ 65947.55  91856.93]\n",
      " [149005.38 149876.29]\n",
      " [135607.44 136078.73]\n",
      " [ 78733.05  46160.84]\n",
      " [ 87217.34  76940.09]\n",
      " [101378.98 102899.78]\n",
      " [139983.69 145586.43]\n",
      " [103272.3  105555.86]]\n"
     ]
    }
   ],
   "source": [
    "y_pred = ann.predict(X_test)\n",
    "y_pred_e = y_pred*1000\n",
    "y_test_e = y_test*1000\n",
    "np.set_printoptions(precision=2)\n",
    "print(np.concatenate((y_pred_e.reshape(len(y_pred_e),1), y_test_e.reshape(len(y_test_e),1)),1))"
   ]
  },
  {
   "cell_type": "code",
   "execution_count": 20,
   "metadata": {
    "ExecuteTime": {
     "end_time": "2024-07-25T00:02:11.300218100Z",
     "start_time": "2024-07-25T00:02:11.073065400Z"
    }
   },
   "outputs": [
    {
     "data": {
      "text/plain": "Text(0, 0.5, 'Predicted data')"
     },
     "execution_count": 20,
     "metadata": {},
     "output_type": "execute_result"
    },
    {
     "data": {
      "text/plain": "<Figure size 640x480 with 1 Axes>",
      "image/png": "[encoded data removed]"
     },
     "metadata": {},
     "output_type": "display_data"
    }
   ],
   "source": [
    "import matplotlib.pyplot as plt\n",
    "plt.scatter(y_test, y_pred, color=\"blue\")\n",
    "#plt.plot ([0,0.13],[0,0.13], color = \"red\")\n",
    "#plt.axis ([0,0.13,0,0.13])\n",
    "plt.xlabel ('Actual data')\n",
    "plt.ylabel ('Predicted data')"
   ]
  },
  {
   "cell_type": "code",
   "execution_count": null,
   "metadata": {},
   "outputs": [],
   "source": [
    "from sklearn.metrics import r2_score\n",
    "# Initialize layout\n",
    "fig1, ax1 = plt.subplots(figsize = (9, 9))\n",
    "b_l = 20\n",
    "u_l = 50\n",
    "\n",
    "# Add scatterplot\n",
    "ax1.scatter(y_test_e, y_pred_e, s=70, alpha=1, edgecolors=\"k\",c='mediumblue',zorder=5, label = 'Points')\n",
    "\n",
    "\n",
    "plt.ylabel('Predicted End Time (ms)',fontsize = 25)\n",
    "plt.xlabel('Actual End Time (ms)',fontsize = 25)\n",
    "plt.xticks(fontsize = 19)\n",
    "plt.yticks(fontsize = 19)\n",
    "\n",
    "\n",
    "x1 = np.linspace(b_l, u_l)\n",
    "\n",
    "plt.plot(x1, x1, 'Red', label='45\\N{DEGREE SIGN} line',lw=2.5,alpha=1)\n",
    "plt.plot(x1, 1.05*x1, '--m', label='\\u00B15% Error',lw=2.5,alpha=0.7)\n",
    "plt.plot(x1, 0.95*x1,'m', linestyle='--',lw=2.5,alpha=0.7)\n",
    "plt.plot(x1, 1.1*x1, '-.g', label='\\u00B110% Error',lw=2.5,alpha=0.7)\n",
    "plt.plot(x1, 0.9*x1,'-.g',lw=2.5,alpha=0.7)\n",
    "plt.plot(x1, 1.2*x1, color = '#F97306', linestyle='dotted', label='\\u00B120% Error',lw=2.5,alpha=0.7)\n",
    "plt.plot(x1, 0.8*x1,color = '#F97306', linestyle='dotted', lw=2.5,alpha=0.7)\n",
    "\n",
    "plt.ylim(b_l, u_l)\n",
    "plt.xlim(b_l, u_l)\n",
    "plt.legend(loc='upper left',fontsize = 25)\n",
    "\n",
    "plt.grid()\n",
    "\n",
    "ax1.spines['left'].set_color('black')        # setting up Y-axis tick color to red\n",
    "ax1.spines['bottom'].set_color('black')         #setting up above X-axis tick color to red\n"
   ]
  },
  {
   "cell_type": "code",
   "execution_count": null,
   "metadata": {},
   "outputs": [],
   "source": [
    "# metrics\n",
    "\n",
    "\n",
    "trainpreds = ann.predict(X_train)\n",
    "\n",
    "from sklearn.metrics import mean_absolute_error\n",
    "print(mean_absolute_error(y_train, trainpreds)) # train\n",
    "print(mean_absolute_error(y_test, y_pred)) # test"
   ]
  },
  {
   "cell_type": "code",
   "execution_count": null,
   "metadata": {},
   "outputs": [],
   "source": [
    "from sklearn.metrics import r2_score\n",
    "r2 = r2_score(y_test, y_pred)\n",
    "print (r2)"
   ]
  },
  {
   "cell_type": "code",
   "execution_count": null,
   "metadata": {},
   "outputs": [],
   "source": [
    "r2_train = r2_score(y_train, trainpreds)\n",
    "print (r2_train)"
   ]
  },
  {
   "cell_type": "code",
   "execution_count": null,
   "metadata": {},
   "outputs": [],
   "source": [
    "count0 = 0\n",
    "for i in range(len(y_pred)):\n",
    "    line1 = y_pred[i] - 0.95*y_test[i]\n",
    "    line2 = y_pred[i] - 1.05*y_test[i]\n",
    "    mask0 = (line1 > 0) & (line2 < 0)\n",
    "    count0 = np.sum(mask0+count0)\n",
    "\n",
    "count1 = 0\n",
    "for i in range(len(y_pred)):\n",
    "    line1 = y_pred[i] - 0.9*y_test[i]\n",
    "    line2 = y_pred[i] - 1.1*y_test[i]\n",
    "    mask1 = (line1 > 0) & (line2 < 0)\n",
    "    count1 = np.sum(mask1+count1)\n",
    "\n",
    "count2 = 0\n",
    "for j in range(len(y_pred)):\n",
    "    line3 = y_pred[j] - 0.8*y_test[j]\n",
    "    line4 = y_pred[j] - 1.2*y_test[j]\n",
    "    mask2 = (line3 > 0) & (line4 < 0)\n",
    "    count2 = np.sum(mask2+count2)\n",
    "\n",
    "\n",
    "count3 = 0    \n",
    "for k in range(len(y_pred)):\n",
    "    line5 = y_pred[k] - 0.8*y_test[k]\n",
    "    line6 = y_pred[k] - 1.2*y_test[k]\n",
    "    mask3 = (line5 < 0) or (line6 > 0)\n",
    "    count3 = np.sum(mask3+count3)\n",
    "   \n",
    "\n",
    "print ('Within 5% margin', format((count0/len (y_pred)),'.2%'))\n",
    "print ('Within 10% margin', format((count1/len (y_pred)),'.2%'))\n",
    "print ('Within 20% margin', format((count2/len (y_pred)),'.2%'))\n",
    "print ('Out of 20% margin', format((count3/len (y_pred)),'.2%'))"
   ]
  },
  {
   "cell_type": "code",
   "execution_count": null,
   "metadata": {},
   "outputs": [],
   "source": [
    "adj_r2 = 1 - ((1 - r2) * (len(X_test) - 1) / (len(X_test) - len (X_test[0]) - 1))\n",
    "print (adj_r2)"
   ]
  },
  {
   "cell_type": "code",
   "execution_count": null,
   "metadata": {},
   "outputs": [],
   "source": [
    "import math\n",
    "from sklearn.metrics import mean_squared_error\n",
    "\n",
    "math.sqrt(mean_squared_error(y_test, y_pred))"
   ]
  },
  {
   "cell_type": "code",
   "execution_count": null,
   "metadata": {},
   "outputs": [],
   "source": [
    "from sklearn.metrics import mean_absolute_error\n",
    "\n",
    "mean_absolute_error(y_test, y_pred)"
   ]
  },
  {
   "cell_type": "markdown",
   "source": [
    "# Part 5 - Use model"
   ],
   "metadata": {
    "collapsed": false
   }
  },
  {
   "cell_type": "markdown",
   "source": [
    "## Import libraries"
   ],
   "metadata": {
    "collapsed": false
   }
  },
  {
   "cell_type": "code",
   "execution_count": null,
   "outputs": [],
   "source": [
    "from keras.models import load_model\n",
    "import numpy as np"
   ],
   "metadata": {
    "collapsed": false
   }
  },
  {
   "cell_type": "markdown",
   "source": [
    "## Load model"
   ],
   "metadata": {
    "collapsed": false
   }
  },
  {
   "cell_type": "code",
   "execution_count": null,
   "outputs": [],
   "source": [
    "ann = load_model('End_ANN_model_8.h5')"
   ],
   "metadata": {
    "collapsed": false
   }
  },
  {
   "cell_type": "markdown",
   "source": [
    "## Prediction"
   ],
   "metadata": {
    "collapsed": false
   }
  },
  {
   "cell_type": "code",
   "execution_count": null,
   "outputs": [],
   "source": [
    "charge_mass = 20\n",
    "standoff_distance = 6.3\n",
    "arr = np.array ([[charge_mass,standoff_distance]])\n",
    "print (arr)\n",
    "np.set_printoptions(precision=9)\n",
    "end_time = ann.predict(arr)\n",
    "print (end_time)\n",
    "%store end_time"
   ],
   "metadata": {
    "collapsed": false
   }
  }
 ],
 "metadata": {
  "colab": {
   "collapsed_sections": [],
   "name": "Artificial Neural Network",
   "provenance": [],
   "toc_visible": true
  },
  "kernelspec": {
   "display_name": "Python 3 (ipykernel)",
   "language": "python",
   "name": "python3"
  },
  "language_info": {
   "codemirror_mode": {
    "name": "ipython",
    "version": 3
   },
   "file_extension": ".py",
   "mimetype": "text/x-python",
   "name": "python",
   "nbconvert_exporter": "python",
   "pygments_lexer": "ipython3",
   "version": "3.9.7"
  }
 },
 "nbformat": 4,
 "nbformat_minor": 4
}
