{
 "cells": [
  {
   "cell_type": "markdown",
   "source": [
    "## Importing libraries and files"
   ],
   "metadata": {
    "collapsed": false
   },
   "id": "498e1bf0a688a38b"
  },
  {
   "cell_type": "code",
   "execution_count": 1,
   "outputs": [
    {
     "name": "stderr",
     "output_type": "stream",
     "text": [
      "D:\\Anaconda3\\lib\\site-packages\\sklearn\\base.py:318: UserWarning: Trying to unpickle estimator StandardScaler from version 1.3.0 when using version 1.2.2. This might lead to breaking code or invalid results. Use at your own risk. For more info please refer to:\n",
      "https://scikit-learn.org/stable/model_persistence.html#security-maintainability-limitations\n",
      "  warnings.warn(\n"
     ]
    }
   ],
   "source": [
    "import pandas as pd\n",
    "from keras.models import load_model\n",
    "import pickle\n",
    "import numpy as np\n",
    "import matplotlib.pyplot as plt\n",
    "\n",
    "\n",
    "ann_arr = load_model('Arrival_time/Arrival_ANN_model_3.h5')\n",
    "ann_end = load_model('End_time/End_ANN_model_8.h5')\n",
    "ann_chg = load_model('Change_time/Change_ANN_model_3.h5')\n",
    "\n",
    "#Section1\n",
    "ann1 = load_model('Pressure_profiles_codes_section_1_regression/ANN_13.h5')\n",
    "sc1 = pickle.load(open('Pressure_profiles_codes_section_1_regression/scaler_ANN.pkl', 'rb'))\n",
    "#Section2\n",
    "ann2 = load_model('Pressure_profiles_codes_section_2_regression/ANN_1.h5')\n",
    "sc2 = pickle.load(open('Pressure_profiles_codes_section_2_regression/scaler_ANN.pkl', 'rb'))\n",
    "#Section3\n",
    "ann3 = load_model('Pressure_profiles_codes_section_3_regression/ANN_1.h5')\n",
    "sc3 = pickle.load(open('Pressure_profiles_codes_section_3_regression/scaler_ANN.pkl', 'rb'))\n",
    "#Section4\n",
    "ann4 = load_model('Pressure_profiles_codes_section_4_regression/ANN_1.h5')\n",
    "sc4 = pickle.load(open('Pressure_profiles_codes_section_4_regression/scaler_ANN.pkl', 'rb'))\n",
    "#Section5\n",
    "ann5 = load_model('Pressure_profiles_codes_section_5_regression/ANN_1.h5')\n",
    "sc5 = pickle.load(open('Pressure_profiles_codes_section_5_regression/scaler_ANN.pkl', 'rb'))"
   ],
   "metadata": {
    "collapsed": false,
    "ExecuteTime": {
     "end_time": "2023-11-02T23:14:35.760319600Z",
     "start_time": "2023-11-02T23:13:43.476938800Z"
    }
   },
   "id": "3122126ae010792f"
  },
  {
   "cell_type": "code",
   "execution_count": 4,
   "outputs": [
    {
     "name": "stdout",
     "output_type": "stream",
     "text": [
      "1.2.2\n"
     ]
    }
   ],
   "source": [
    "import sklearn\n",
    "print (sklearn.__version__)"
   ],
   "metadata": {
    "collapsed": false,
    "ExecuteTime": {
     "end_time": "2023-11-02T23:19:02.499039Z",
     "start_time": "2023-11-02T23:19:02.479529300Z"
    }
   },
   "id": "d3f3798916d42071"
  },
  {
   "cell_type": "markdown",
   "source": [
    "## Input details"
   ],
   "metadata": {
    "collapsed": false
   },
   "id": "5f559d0fa330bc79"
  },
  {
   "cell_type": "code",
   "execution_count": 23,
   "outputs": [],
   "source": [
    "charge_mass = 13.8\n",
    "standoff_distance = 9.2\n",
    "termination_time = 0.06\n",
    "interval = 0.00001\n",
    "atm_pressure = 101200"
   ],
   "metadata": {
    "collapsed": false,
    "ExecuteTime": {
     "end_time": "2023-11-03T04:22:55.152897700Z",
     "start_time": "2023-11-03T04:22:55.106380400Z"
    }
   },
   "id": "8e348013c4d88e94"
  },
  {
   "cell_type": "markdown",
   "source": [
    "## Pressure Profile"
   ],
   "metadata": {
    "collapsed": false
   },
   "id": "2e305e1d8d841ad0"
  },
  {
   "cell_type": "code",
   "execution_count": 24,
   "id": "7b0a878a-1117-4580-9cdf-0657137da5e9",
   "metadata": {
    "ExecuteTime": {
     "end_time": "2023-11-03T04:22:57.644750700Z",
     "start_time": "2023-11-03T04:22:57.148845700Z"
    }
   },
   "outputs": [
    {
     "name": "stdout",
     "output_type": "stream",
     "text": [
      "1/1 [==============================] - 0s 30ms/step\n",
      "1/1 [==============================] - 0s 25ms/step\n",
      "1/1 [==============================] - 0s 23ms/step\n",
      "t (1533, 1)\n",
      "p (1533, 1)\n",
      "t (953, 1)\n",
      "p (953, 1)\n",
      "110/110 [==============================] - 0s 1ms/step\n",
      "Section 2\n"
     ]
    }
   ],
   "source": [
    "arr = np.array ([[charge_mass,standoff_distance]])\n",
    "\n",
    "arrival_time = ann_arr.predict(arr)\n",
    "end_time = ann_end.predict(arr)\n",
    "change_time = ann_chg.predict(arr)\n",
    "\n",
    "def stable_state(start, end, interval):    \n",
    "    t = np.arange(start, end + interval, interval)\n",
    "    t = t.reshape(len(t),1)\n",
    "    print (\"t\", t.shape)\n",
    "\n",
    "    p = np.repeat(atm_pressure, len(t)).reshape(len(t),1)\n",
    "    print (\"p\", p.shape)\n",
    "    \n",
    "    values = np.concatenate ((t, p), axis = 1)\n",
    "    return values\n",
    "\n",
    "def p_fluctuation(standoff_distance, d_set):\n",
    "    if 3 <= standoff_distance <= 7:\n",
    "        d_set[:,0:3] = sc1.transform(d_set[:,0:3])\n",
    "        p_f = ann1.predict(d_set)\n",
    "        print (\"Section 1\")\n",
    "    elif 7 < standoff_distance <= 13:\n",
    "        d_set[:,0:3] = sc2.transform(d_set[:,0:3])\n",
    "        p_f = ann2.predict(d_set)\n",
    "        print (\"Section 2\")\n",
    "    elif 13 < standoff_distance <= 19:\n",
    "        d_set[:,0:3] = sc3.transform(d_set[:,0:3])\n",
    "        p_f = ann3.predict(d_set)\n",
    "        print (\"Section 3\")\n",
    "    elif 19 < standoff_distance <= 25:\n",
    "        d_set[:,0:3] = sc4.transform(d_set[:,0:3])\n",
    "        p_f = ann4.predict(d_set)\n",
    "        print (\"Section 4\")\n",
    "    elif 25 < standoff_distance <= 30:\n",
    "        d_set[:,0:3] = sc5.transform(d_set[:,0:3])\n",
    "        p_f = ann5.predict(d_set)\n",
    "        print (\"Section 5\")\n",
    "    else:\n",
    "        print (\"Out of trained range\")\n",
    "    return p_f\n",
    "\n",
    "if termination_time < arrival_time:\n",
    "    start = 0\n",
    "    end = termination_time\n",
    "    values1 = stable_state(start, end, interval)\n",
    "    arrival_time = 0\n",
    "    end_time = 0\n",
    "else:\n",
    "    start = 0\n",
    "    end = arrival_time\n",
    "    values1 = stable_state(start, end, interval)\n",
    "    if termination_time < end_time:\n",
    "        end_time = termination_time\n",
    "    else:\n",
    "        start = end_time\n",
    "        end = termination_time\n",
    "        values3 = stable_state(start, end, interval)\n",
    "        \n",
    "t2= np.arange(arrival_time, end_time + interval, interval)\n",
    "t2 = t2.reshape(len(t2),1)\n",
    "\n",
    "if t2[0] < change_time:\n",
    "    ph2 = np.array([[0, 1]])\n",
    "else:\n",
    "    ph2 = np.array([[1, 0]])\n",
    "    \n",
    "positive = np.array([0, 1])\n",
    "negative = np.array([1, 0])\n",
    "\n",
    "for time in t2[1:]:\n",
    "    if time < change_time:\n",
    "        ph2=np.vstack((ph2,positive))\n",
    "    else:\n",
    "        ph2=np.vstack((ph2,negative))\n",
    "        \n",
    "m2 = np.repeat(charge_mass, len(t2)).reshape(len(t2),1)\n",
    "d2 = np.repeat(standoff_distance, len(t2)).reshape(len(t2),1)\n",
    "d_set = np.concatenate ((m2, d2, t2, ph2), axis = 1)\n",
    "\n",
    "p2 = p_fluctuation(standoff_distance, d_set)\n",
    "p2 = p2.reshape((-1, 1))\n",
    "values2 = np.concatenate ((t2, p2), axis = 1)\n",
    "\n",
    "if 'values2' in globals():\n",
    "    ml_model = np.concatenate((values1, values2), axis=0)\n",
    "    if 'values3' in globals():\n",
    "        ml_model = np.concatenate((ml_model, values3), axis=0)\n",
    "else:\n",
    "    ml_model = values1"
   ]
  },
  {
   "cell_type": "code",
   "execution_count": 19,
   "outputs": [],
   "source": [
    "lsdyna = pd.read_excel('Numerical_results/LSDYNA/16.7kg/14.4m.xlsx')\n",
    "X2 = lsdyna['Time']\n",
    "y2 = lsdyna['Pressure']\n",
    "\n",
    "#viper = pd.read_excel('Numerical_results/Viper/20kg/Viper_6.3m.xlsx')\n",
    "#X3 = viper['Time']\n",
    "#y3 = viper['Pressure']"
   ],
   "metadata": {
    "collapsed": false,
    "ExecuteTime": {
     "end_time": "2023-11-03T04:11:06.383394500Z",
     "start_time": "2023-11-03T04:11:06.105593900Z"
    }
   },
   "id": "9eeaf23f650662ca"
  },
  {
   "cell_type": "code",
   "execution_count": 25,
   "outputs": [
    {
     "data": {
      "text/plain": "<Figure size 1000x600 with 1 Axes>",
      "image/png": "[encoded data removed]"
     },
     "metadata": {},
     "output_type": "display_data"
    }
   ],
   "source": [
    "X1 = ml_model[:,0]\n",
    "y1 = ml_model[:,1]\n",
    "\n",
    "plt.figure(figsize=(10,6))\n",
    "plt.plot(X1, y1, linestyle = 'dashed', color = 'red', label = 'ANN based system')\n",
    "#plt.plot(X2, y2, color = 'green',label = 'LS-DYNA')\n",
    "#plt.plot(X3, y3, linestyle = 'dotted', color = 'blue',label = 'Viper Blast')\n",
    "plt.ylabel('Incident Pressure (Pa)',fontsize = 18)\n",
    "plt.xlabel('Time (s)',fontsize = 18)\n",
    "plt.xticks(fontsize = 12)\n",
    "plt.yticks(fontsize = 12)\n",
    "plt.legend(fontsize = 18)\n",
    "plt.xlim (0,)\n",
    "plt.show()"
   ],
   "metadata": {
    "collapsed": false,
    "ExecuteTime": {
     "end_time": "2023-11-03T04:23:06.307604700Z",
     "start_time": "2023-11-03T04:23:06.130035800Z"
    }
   },
   "id": "180dcba9d2d4f5bd"
  }
 ],
 "metadata": {
  "kernelspec": {
   "display_name": "Python 3 (ipykernel)",
   "language": "python",
   "name": "python3"
  },
  "language_info": {
   "codemirror_mode": {
    "name": "ipython",
    "version": 3
   },
   "file_extension": ".py",
   "mimetype": "text/x-python",
   "name": "python",
   "nbconvert_exporter": "python",
   "pygments_lexer": "ipython3",
   "version": "3.9.7"
  }
 },
 "nbformat": 4,
 "nbformat_minor": 5
}
