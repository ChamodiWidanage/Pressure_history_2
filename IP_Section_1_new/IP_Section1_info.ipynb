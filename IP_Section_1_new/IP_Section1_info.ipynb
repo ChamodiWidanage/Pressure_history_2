{
 "cells": [
  {
   "cell_type": "code",
   "execution_count": 2,
   "id": "initial_id",
   "metadata": {
    "collapsed": true,
    "ExecuteTime": {
     "end_time": "2024-09-18T04:36:49.865218500Z",
     "start_time": "2024-09-18T04:36:49.859704400Z"
    }
   },
   "outputs": [],
   "source": [
    "import pandas as pd\n",
    "import numpy as np\n",
    "import seaborn as sns\n",
    "import matplotlib.pyplot as plt\n",
    "from pathlib import Path"
   ]
  },
  {
   "cell_type": "code",
   "execution_count": 3,
   "outputs": [],
   "source": [
    "plt.rcdefaults()"
   ],
   "metadata": {
    "collapsed": false,
    "ExecuteTime": {
     "end_time": "2024-09-18T04:36:51.416034Z",
     "start_time": "2024-09-18T04:36:51.369070Z"
    }
   },
   "id": "4e0352b1ef119281"
  },
  {
   "cell_type": "code",
   "execution_count": 4,
   "outputs": [
    {
     "name": "stdout",
     "output_type": "stream",
     "text": [
      "input G:\\Chamodi\\LSDYNA_1D\\Incident_pressure_time_history\\Near_field_time_history_dataset\n",
      "2 [WindowsPath('G:/Chamodi/LSDYNA_1D/Incident_pressure_time_history/Near_field_time_history_dataset/L13_1'), WindowsPath('G:/Chamodi/LSDYNA_1D/Incident_pressure_time_history/Near_field_time_history_dataset/L13_13'), WindowsPath('G:/Chamodi/LSDYNA_1D/Incident_pressure_time_history/Near_field_time_history_dataset/L13_17'), WindowsPath('G:/Chamodi/LSDYNA_1D/Incident_pressure_time_history/Near_field_time_history_dataset/L13_21'), WindowsPath('G:/Chamodi/LSDYNA_1D/Incident_pressure_time_history/Near_field_time_history_dataset/L13_25'), WindowsPath('G:/Chamodi/LSDYNA_1D/Incident_pressure_time_history/Near_field_time_history_dataset/L13_29'), WindowsPath('G:/Chamodi/LSDYNA_1D/Incident_pressure_time_history/Near_field_time_history_dataset/L13_33'), WindowsPath('G:/Chamodi/LSDYNA_1D/Incident_pressure_time_history/Near_field_time_history_dataset/L13_37'), WindowsPath('G:/Chamodi/LSDYNA_1D/Incident_pressure_time_history/Near_field_time_history_dataset/L13_41'), WindowsPath('G:/Chamodi/LSDYNA_1D/Incident_pressure_time_history/Near_field_time_history_dataset/L13_45'), WindowsPath('G:/Chamodi/LSDYNA_1D/Incident_pressure_time_history/Near_field_time_history_dataset/L13_49'), WindowsPath('G:/Chamodi/LSDYNA_1D/Incident_pressure_time_history/Near_field_time_history_dataset/L13_5'), WindowsPath('G:/Chamodi/LSDYNA_1D/Incident_pressure_time_history/Near_field_time_history_dataset/L13_53'), WindowsPath('G:/Chamodi/LSDYNA_1D/Incident_pressure_time_history/Near_field_time_history_dataset/L13_57'), WindowsPath('G:/Chamodi/LSDYNA_1D/Incident_pressure_time_history/Near_field_time_history_dataset/L13_61'), WindowsPath('G:/Chamodi/LSDYNA_1D/Incident_pressure_time_history/Near_field_time_history_dataset/L13_65'), WindowsPath('G:/Chamodi/LSDYNA_1D/Incident_pressure_time_history/Near_field_time_history_dataset/L13_69'), WindowsPath('G:/Chamodi/LSDYNA_1D/Incident_pressure_time_history/Near_field_time_history_dataset/L13_70'), WindowsPath('G:/Chamodi/LSDYNA_1D/Incident_pressure_time_history/Near_field_time_history_dataset/L13_9')]\n"
     ]
    }
   ],
   "source": [
    "#Access input folder\n",
    "input_dir1 = Path (\"G:/Chamodi/LSDYNA_1D/Incident_pressure_time_history/Near_field_time_history_dataset\")\n",
    "print (\"input\",input_dir1)\n",
    "\n",
    "#Access folders inside input folder\n",
    "input_dir2_train =  [folder_input for folder_input in input_dir1.iterdir() if folder_input.is_dir()]\n",
    "print (\"2\",input_dir2_train)"
   ],
   "metadata": {
    "collapsed": false,
    "ExecuteTime": {
     "end_time": "2024-09-18T04:36:52.421366400Z",
     "start_time": "2024-09-18T04:36:52.414159100Z"
    }
   },
   "id": "d018eaaffc3f39c4"
  },
  {
   "cell_type": "code",
   "execution_count": 6,
   "outputs": [
    {
     "name": "stdout",
     "output_type": "stream",
     "text": [
      "folder G:\\Chamodi\\LSDYNA_1D\\Incident_pressure_time_history\\Near_field_time_history_dataset\\L13_1\n",
      "11\n",
      "13\n",
      "15\n",
      "17\n",
      "5\n",
      "7\n",
      "9\n",
      "folder G:\\Chamodi\\LSDYNA_1D\\Incident_pressure_time_history\\Near_field_time_history_dataset\\L13_13\n",
      "11\n",
      "13\n",
      "15\n",
      "17\n",
      "5\n",
      "7\n",
      "9\n",
      "folder G:\\Chamodi\\LSDYNA_1D\\Incident_pressure_time_history\\Near_field_time_history_dataset\\L13_17\n",
      "11\n",
      "13\n",
      "15\n",
      "17\n",
      "5\n",
      "7\n",
      "9\n",
      "folder G:\\Chamodi\\LSDYNA_1D\\Incident_pressure_time_history\\Near_field_time_history_dataset\\L13_21\n",
      "11\n",
      "13\n",
      "15\n",
      "17\n",
      "5\n",
      "7\n",
      "9\n",
      "folder G:\\Chamodi\\LSDYNA_1D\\Incident_pressure_time_history\\Near_field_time_history_dataset\\L13_25\n",
      "11\n",
      "13\n",
      "15\n",
      "17\n",
      "5\n",
      "7\n",
      "9\n",
      "folder G:\\Chamodi\\LSDYNA_1D\\Incident_pressure_time_history\\Near_field_time_history_dataset\\L13_29\n",
      "11\n",
      "13\n",
      "15\n",
      "17\n",
      "5\n",
      "7\n",
      "9\n",
      "folder G:\\Chamodi\\LSDYNA_1D\\Incident_pressure_time_history\\Near_field_time_history_dataset\\L13_33\n",
      "11\n",
      "13\n",
      "15\n",
      "17\n",
      "5\n",
      "7\n",
      "9\n",
      "folder G:\\Chamodi\\LSDYNA_1D\\Incident_pressure_time_history\\Near_field_time_history_dataset\\L13_37\n",
      "11\n",
      "13\n",
      "15\n",
      "17\n",
      "5\n",
      "7\n",
      "9\n",
      "folder G:\\Chamodi\\LSDYNA_1D\\Incident_pressure_time_history\\Near_field_time_history_dataset\\L13_41\n",
      "11\n",
      "13\n",
      "15\n",
      "17\n",
      "5\n",
      "7\n",
      "9\n",
      "folder G:\\Chamodi\\LSDYNA_1D\\Incident_pressure_time_history\\Near_field_time_history_dataset\\L13_45\n",
      "11\n",
      "13\n",
      "15\n",
      "17\n",
      "5\n",
      "7\n",
      "9\n",
      "folder G:\\Chamodi\\LSDYNA_1D\\Incident_pressure_time_history\\Near_field_time_history_dataset\\L13_49\n",
      "11\n",
      "13\n",
      "15\n",
      "17\n",
      "5\n",
      "7\n",
      "9\n",
      "folder G:\\Chamodi\\LSDYNA_1D\\Incident_pressure_time_history\\Near_field_time_history_dataset\\L13_5\n",
      "11\n",
      "13\n",
      "15\n",
      "17\n",
      "5\n",
      "7\n",
      "9\n",
      "folder G:\\Chamodi\\LSDYNA_1D\\Incident_pressure_time_history\\Near_field_time_history_dataset\\L13_53\n",
      "11\n",
      "13\n",
      "15\n",
      "17\n",
      "5\n",
      "7\n",
      "9\n",
      "folder G:\\Chamodi\\LSDYNA_1D\\Incident_pressure_time_history\\Near_field_time_history_dataset\\L13_57\n",
      "11\n",
      "13\n",
      "15\n",
      "17\n",
      "5\n",
      "7\n",
      "9\n",
      "folder G:\\Chamodi\\LSDYNA_1D\\Incident_pressure_time_history\\Near_field_time_history_dataset\\L13_61\n",
      "11\n",
      "13\n",
      "15\n",
      "17\n",
      "5\n",
      "7\n",
      "9\n",
      "folder G:\\Chamodi\\LSDYNA_1D\\Incident_pressure_time_history\\Near_field_time_history_dataset\\L13_65\n",
      "11\n",
      "13\n",
      "15\n",
      "17\n",
      "5\n",
      "7\n",
      "9\n",
      "folder G:\\Chamodi\\LSDYNA_1D\\Incident_pressure_time_history\\Near_field_time_history_dataset\\L13_69\n",
      "11\n",
      "13\n",
      "15\n",
      "17\n",
      "5\n",
      "7\n",
      "9\n",
      "folder G:\\Chamodi\\LSDYNA_1D\\Incident_pressure_time_history\\Near_field_time_history_dataset\\L13_70\n",
      "11\n",
      "13\n",
      "15\n",
      "17\n",
      "5\n",
      "7\n",
      "9\n",
      "folder G:\\Chamodi\\LSDYNA_1D\\Incident_pressure_time_history\\Near_field_time_history_dataset\\L13_9\n",
      "11\n",
      "13\n",
      "15\n",
      "17\n",
      "5\n",
      "7\n",
      "9\n"
     ]
    }
   ],
   "source": [
    "# Access each folder inside input folder\n",
    "dataset_train = pd.DataFrame(columns = ['Mass', 'Standoff distance', 'Time', 'Phase', 'Pressure'])\n",
    "df_list_train = []\n",
    "for folder_train in input_dir2_train:\n",
    "    \n",
    "    # Make a list of data file names\n",
    "    files_train = list(file_train for file_train in folder_train.rglob(\"*.xlsx\") if 5 <= int(file_train.stem))\n",
    "    print (\"folder\", folder_train)\n",
    "    \n",
    "    for file_train in files_train:\n",
    "        df_list_train.append(pd.read_excel(file_train))\n",
    "        print (file_train.stem)\n",
    "\n",
    "df = pd.concat(df_list_train, ignore_index = True)"
   ],
   "metadata": {
    "collapsed": false,
    "ExecuteTime": {
     "end_time": "2024-09-18T04:37:31.259935100Z",
     "start_time": "2024-09-18T04:37:24.193685700Z"
    }
   },
   "id": "f6c23fb8b64983fc"
  },
  {
   "cell_type": "code",
   "execution_count": 7,
   "outputs": [
    {
     "name": "stderr",
     "output_type": "stream",
     "text": [
      "C:\\Users\\z5379606\\AppData\\Local\\Temp\\ipykernel_27148\\1683007883.py:8: FutureWarning: The default value of numeric_only in DataFrame.corr is deprecated. In a future version, it will default to False. Select only valid columns or specify the value of numeric_only to silence this warning.\n",
      "  spearman_corr = df.corr(method='spearman')\n"
     ]
    },
    {
     "data": {
      "text/plain": "<Figure size 500x400 with 2 Axes>",
      "image/png": "[encoded data removed]"
     },
     "metadata": {},
     "output_type": "display_data"
    }
   ],
   "source": [
    "# Define the new column headers\n",
    "new_headers = ['Explosive mass', 'Standoff distance', 'Time', 'Phase', 'Incident overpressure']  # Adjust as per the number of columns in your DataFrame\n",
    "\n",
    "# Assign the new headers to the DataFrame\n",
    "df.columns = new_headers\n",
    "\n",
    "# Calculate the Spearman correlation matrix\n",
    "spearman_corr = df.corr(method='spearman')\n",
    "\n",
    "# Create a mask for the upper triangle\n",
    "mask = np.triu(np.ones_like(spearman_corr, dtype=bool), k=1)\n",
    "\n",
    "# Set global font to Times New Roman (optional for aesthetics)\n",
    "plt.rcParams['font.family'] = 'serif'\n",
    "plt.rcParams['font.serif'] = ['Times New Roman']\n",
    "plt.rcParams['font.size'] = 15\n",
    "\n",
    "# Plot the heatmap using seaborn with the mask\n",
    "plt.figure(figsize=(5, 4))\n",
    "sns.heatmap(spearman_corr, mask=mask, annot=True, cmap='coolwarm', fmt='.2f', linewidths=0.5,  vmin=-0.11, vmax=1)\n",
    "\n",
    "# Add a title and labels\n",
    "#plt.title('Spearman Correlation Coefficient Heatmap', fontsize=16)\n",
    "plt.xticks(rotation=45, ha='right')\n",
    "plt.yticks(rotation=0)\n",
    "\n",
    "# Show the heatmap\n",
    "plt.tight_layout()\n",
    "# Save the plot as an image\n",
    "plt.savefig('IP_Section1_info.png', dpi=200, facecolor='white', bbox_inches='tight')\n",
    "plt.show()"
   ],
   "metadata": {
    "collapsed": false,
    "ExecuteTime": {
     "end_time": "2024-09-18T04:37:41.382933400Z",
     "start_time": "2024-09-18T04:37:40.603611900Z"
    }
   },
   "id": "12057cf1c917e8af"
  }
 ],
 "metadata": {
  "kernelspec": {
   "display_name": "Python 3",
   "language": "python",
   "name": "python3"
  },
  "language_info": {
   "codemirror_mode": {
    "name": "ipython",
    "version": 2
   },
   "file_extension": ".py",
   "mimetype": "text/x-python",
   "name": "python",
   "nbconvert_exporter": "python",
   "pygments_lexer": "ipython2",
   "version": "2.7.6"
  }
 },
 "nbformat": 4,
 "nbformat_minor": 5
}
