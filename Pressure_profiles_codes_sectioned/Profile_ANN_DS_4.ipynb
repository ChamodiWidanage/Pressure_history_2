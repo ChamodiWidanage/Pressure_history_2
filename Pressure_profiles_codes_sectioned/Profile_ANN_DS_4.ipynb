{
 "cells": [
  {
   "cell_type": "markdown",
   "metadata": {
    "colab_type": "text",
    "id": "3cbb7fRy-eyr"
   },
   "source": [
    "# Artificial Neural Network"
   ]
  },
  {
   "cell_type": "markdown",
   "source": [],
   "metadata": {
    "collapsed": false
   }
  },
  {
   "cell_type": "markdown",
   "metadata": {
    "colab_type": "text",
    "id": "8sNDnxE2-pwE"
   },
   "source": [
    "## Part 1 - Importing the libraries"
   ]
  },
  {
   "cell_type": "code",
   "execution_count": 1,
   "metadata": {
    "colab": {},
    "colab_type": "code",
    "id": "lxChR1Rk-umf",
    "ExecuteTime": {
     "end_time": "2023-08-18T07:04:41.804193300Z",
     "start_time": "2023-08-18T07:04:36.971125400Z"
    }
   },
   "outputs": [],
   "source": [
    "import numpy as np\n",
    "import pandas as pd\n",
    "import tensorflow as tf\n",
    "import matplotlib.pyplot as plt\n",
    "from keras.models import load_model\n",
    "from pathlib import Path"
   ]
  },
  {
   "cell_type": "markdown",
   "metadata": {
    "colab_type": "text",
    "id": "AG3FQEch-yuA"
   },
   "source": [
    "## Part 2 - Data Preprocessing"
   ]
  },
  {
   "cell_type": "markdown",
   "metadata": {
    "colab_type": "text",
    "id": "-4zq8Mza_D9O"
   },
   "source": [
    "### Importing the dataset"
   ]
  },
  {
   "cell_type": "code",
   "execution_count": 2,
   "metadata": {
    "ExecuteTime": {
     "end_time": "2023-08-18T07:04:45.611979400Z",
     "start_time": "2023-08-18T07:04:45.590465200Z"
    }
   },
   "outputs": [],
   "source": [
    "current_dir = Path.cwd()\n",
    "parent_dir = current_dir.parent"
   ]
  },
  {
   "cell_type": "code",
   "execution_count": 3,
   "outputs": [
    {
     "name": "stdout",
     "output_type": "stream",
     "text": [
      "input H:\\Chamodi\\Machine Learning\\Pressure_history\\Pressure_profiles\n",
      "2 [WindowsPath('H:/Chamodi/Machine Learning/Pressure_history/Pressure_profiles/L13_01'), WindowsPath('H:/Chamodi/Machine Learning/Pressure_history/Pressure_profiles/L13_03'), WindowsPath('H:/Chamodi/Machine Learning/Pressure_history/Pressure_profiles/L13_05'), WindowsPath('H:/Chamodi/Machine Learning/Pressure_history/Pressure_profiles/L13_07'), WindowsPath('H:/Chamodi/Machine Learning/Pressure_history/Pressure_profiles/L13_09'), WindowsPath('H:/Chamodi/Machine Learning/Pressure_history/Pressure_profiles/L13_11'), WindowsPath('H:/Chamodi/Machine Learning/Pressure_history/Pressure_profiles/L13_13'), WindowsPath('H:/Chamodi/Machine Learning/Pressure_history/Pressure_profiles/L13_15'), WindowsPath('H:/Chamodi/Machine Learning/Pressure_history/Pressure_profiles/L13_17'), WindowsPath('H:/Chamodi/Machine Learning/Pressure_history/Pressure_profiles/L13_19'), WindowsPath('H:/Chamodi/Machine Learning/Pressure_history/Pressure_profiles/L13_21'), WindowsPath('H:/Chamodi/Machine Learning/Pressure_history/Pressure_profiles/L13_23'), WindowsPath('H:/Chamodi/Machine Learning/Pressure_history/Pressure_profiles/L13_25'), WindowsPath('H:/Chamodi/Machine Learning/Pressure_history/Pressure_profiles/L13_27'), WindowsPath('H:/Chamodi/Machine Learning/Pressure_history/Pressure_profiles/L13_29'), WindowsPath('H:/Chamodi/Machine Learning/Pressure_history/Pressure_profiles/L13_31'), WindowsPath('H:/Chamodi/Machine Learning/Pressure_history/Pressure_profiles/L13_33'), WindowsPath('H:/Chamodi/Machine Learning/Pressure_history/Pressure_profiles/L13_35'), WindowsPath('H:/Chamodi/Machine Learning/Pressure_history/Pressure_profiles/L13_37'), WindowsPath('H:/Chamodi/Machine Learning/Pressure_history/Pressure_profiles/L13_39'), WindowsPath('H:/Chamodi/Machine Learning/Pressure_history/Pressure_profiles/L13_41'), WindowsPath('H:/Chamodi/Machine Learning/Pressure_history/Pressure_profiles/L13_43'), WindowsPath('H:/Chamodi/Machine Learning/Pressure_history/Pressure_profiles/L13_45'), WindowsPath('H:/Chamodi/Machine Learning/Pressure_history/Pressure_profiles/L13_47'), WindowsPath('H:/Chamodi/Machine Learning/Pressure_history/Pressure_profiles/L13_49'), WindowsPath('H:/Chamodi/Machine Learning/Pressure_history/Pressure_profiles/L13_51'), WindowsPath('H:/Chamodi/Machine Learning/Pressure_history/Pressure_profiles/L13_53'), WindowsPath('H:/Chamodi/Machine Learning/Pressure_history/Pressure_profiles/L13_55'), WindowsPath('H:/Chamodi/Machine Learning/Pressure_history/Pressure_profiles/L13_57'), WindowsPath('H:/Chamodi/Machine Learning/Pressure_history/Pressure_profiles/L13_59'), WindowsPath('H:/Chamodi/Machine Learning/Pressure_history/Pressure_profiles/L13_61'), WindowsPath('H:/Chamodi/Machine Learning/Pressure_history/Pressure_profiles/L13_63'), WindowsPath('H:/Chamodi/Machine Learning/Pressure_history/Pressure_profiles/L13_65'), WindowsPath('H:/Chamodi/Machine Learning/Pressure_history/Pressure_profiles/L13_67'), WindowsPath('H:/Chamodi/Machine Learning/Pressure_history/Pressure_profiles/L13_69'), WindowsPath('H:/Chamodi/Machine Learning/Pressure_history/Pressure_profiles/L13_70')]\n"
     ]
    }
   ],
   "source": [
    "#Access input folder\n",
    "input_dir1 = Path (parent_dir/\"Pressure_profiles\")\n",
    "print (\"input\",input_dir1)\n",
    "\n",
    "#Access folders inside input folder\n",
    "input_dir2 =  [folder for folder in input_dir1.iterdir() if folder.is_dir()]\n",
    "print (\"2\",input_dir2)"
   ],
   "metadata": {
    "collapsed": false,
    "ExecuteTime": {
     "end_time": "2023-08-18T07:04:47.213245500Z",
     "start_time": "2023-08-18T07:04:47.193232100Z"
    }
   }
  },
  {
   "cell_type": "code",
   "execution_count": 4,
   "metadata": {
    "ExecuteTime": {
     "end_time": "2023-08-18T07:05:25.541222600Z",
     "start_time": "2023-08-18T07:04:57.802839900Z"
    }
   },
   "outputs": [
    {
     "name": "stdout",
     "output_type": "stream",
     "text": [
      "H:\\Chamodi\\Machine Learning\\Pressure_history\\Pressure_profiles\\L13_01\n",
      "P1\n",
      "P13\n",
      "P5\n",
      "P9\n",
      "H:\\Chamodi\\Machine Learning\\Pressure_history\\Pressure_profiles\\L13_03\n",
      "P1\n",
      "P13\n",
      "P5\n",
      "P9\n",
      "H:\\Chamodi\\Machine Learning\\Pressure_history\\Pressure_profiles\\L13_05\n",
      "P1\n",
      "P13\n",
      "P5\n",
      "P9\n",
      "H:\\Chamodi\\Machine Learning\\Pressure_history\\Pressure_profiles\\L13_07\n",
      "P1\n",
      "P13\n",
      "P5\n",
      "P9\n",
      "H:\\Chamodi\\Machine Learning\\Pressure_history\\Pressure_profiles\\L13_09\n",
      "P1\n",
      "P13\n",
      "P5\n",
      "P9\n",
      "H:\\Chamodi\\Machine Learning\\Pressure_history\\Pressure_profiles\\L13_11\n",
      "P1\n",
      "P13\n",
      "P5\n",
      "P9\n",
      "H:\\Chamodi\\Machine Learning\\Pressure_history\\Pressure_profiles\\L13_13\n",
      "P1\n",
      "P13\n",
      "P5\n",
      "P9\n",
      "H:\\Chamodi\\Machine Learning\\Pressure_history\\Pressure_profiles\\L13_15\n",
      "P1\n",
      "P13\n",
      "P5\n",
      "P9\n",
      "H:\\Chamodi\\Machine Learning\\Pressure_history\\Pressure_profiles\\L13_17\n",
      "P1\n",
      "P13\n",
      "P5\n",
      "P9\n",
      "H:\\Chamodi\\Machine Learning\\Pressure_history\\Pressure_profiles\\L13_19\n",
      "P1\n",
      "P13\n",
      "P5\n",
      "P9\n",
      "H:\\Chamodi\\Machine Learning\\Pressure_history\\Pressure_profiles\\L13_21\n",
      "P1\n",
      "P13\n",
      "P5\n",
      "P9\n",
      "H:\\Chamodi\\Machine Learning\\Pressure_history\\Pressure_profiles\\L13_23\n",
      "P1\n",
      "P13\n",
      "P5\n",
      "P9\n",
      "H:\\Chamodi\\Machine Learning\\Pressure_history\\Pressure_profiles\\L13_25\n",
      "P1\n",
      "P13\n",
      "P5\n",
      "P9\n",
      "H:\\Chamodi\\Machine Learning\\Pressure_history\\Pressure_profiles\\L13_27\n",
      "P1\n",
      "P13\n",
      "P5\n",
      "P9\n",
      "H:\\Chamodi\\Machine Learning\\Pressure_history\\Pressure_profiles\\L13_29\n",
      "P1\n",
      "P13\n",
      "P5\n",
      "P9\n",
      "H:\\Chamodi\\Machine Learning\\Pressure_history\\Pressure_profiles\\L13_31\n",
      "P1\n",
      "P13\n",
      "P5\n",
      "P9\n",
      "H:\\Chamodi\\Machine Learning\\Pressure_history\\Pressure_profiles\\L13_33\n",
      "P1\n",
      "P13\n",
      "P5\n",
      "P9\n",
      "H:\\Chamodi\\Machine Learning\\Pressure_history\\Pressure_profiles\\L13_35\n",
      "P1\n",
      "P13\n",
      "P5\n",
      "P9\n",
      "H:\\Chamodi\\Machine Learning\\Pressure_history\\Pressure_profiles\\L13_37\n",
      "P1\n",
      "P13\n",
      "P5\n",
      "P9\n",
      "H:\\Chamodi\\Machine Learning\\Pressure_history\\Pressure_profiles\\L13_39\n",
      "P1\n",
      "P13\n",
      "P5\n",
      "P9\n",
      "H:\\Chamodi\\Machine Learning\\Pressure_history\\Pressure_profiles\\L13_41\n",
      "P1\n",
      "P13\n",
      "P5\n",
      "P9\n",
      "H:\\Chamodi\\Machine Learning\\Pressure_history\\Pressure_profiles\\L13_43\n",
      "P1\n",
      "P13\n",
      "P5\n",
      "P9\n",
      "H:\\Chamodi\\Machine Learning\\Pressure_history\\Pressure_profiles\\L13_45\n",
      "P1\n",
      "P13\n",
      "P5\n",
      "P9\n",
      "H:\\Chamodi\\Machine Learning\\Pressure_history\\Pressure_profiles\\L13_47\n",
      "P1\n",
      "P13\n",
      "P5\n",
      "P9\n",
      "H:\\Chamodi\\Machine Learning\\Pressure_history\\Pressure_profiles\\L13_49\n",
      "P1\n",
      "P13\n",
      "P5\n",
      "P9\n",
      "H:\\Chamodi\\Machine Learning\\Pressure_history\\Pressure_profiles\\L13_51\n",
      "P1\n",
      "P13\n",
      "P5\n",
      "P9\n",
      "H:\\Chamodi\\Machine Learning\\Pressure_history\\Pressure_profiles\\L13_53\n",
      "P1\n",
      "P13\n",
      "P5\n",
      "P9\n",
      "H:\\Chamodi\\Machine Learning\\Pressure_history\\Pressure_profiles\\L13_55\n",
      "P1\n",
      "P13\n",
      "P5\n",
      "P9\n",
      "H:\\Chamodi\\Machine Learning\\Pressure_history\\Pressure_profiles\\L13_57\n",
      "P1\n",
      "P13\n",
      "P5\n",
      "P9\n",
      "H:\\Chamodi\\Machine Learning\\Pressure_history\\Pressure_profiles\\L13_59\n",
      "P1\n",
      "P13\n",
      "P5\n",
      "P9\n",
      "H:\\Chamodi\\Machine Learning\\Pressure_history\\Pressure_profiles\\L13_61\n",
      "P1\n",
      "P13\n",
      "P5\n",
      "P9\n",
      "H:\\Chamodi\\Machine Learning\\Pressure_history\\Pressure_profiles\\L13_63\n",
      "P1\n",
      "P13\n",
      "P5\n",
      "P9\n",
      "H:\\Chamodi\\Machine Learning\\Pressure_history\\Pressure_profiles\\L13_65\n",
      "P1\n",
      "P13\n",
      "P5\n",
      "P9\n",
      "H:\\Chamodi\\Machine Learning\\Pressure_history\\Pressure_profiles\\L13_67\n",
      "P1\n",
      "P13\n",
      "P5\n",
      "P9\n",
      "H:\\Chamodi\\Machine Learning\\Pressure_history\\Pressure_profiles\\L13_69\n",
      "P1\n",
      "P13\n",
      "P5\n",
      "P9\n",
      "H:\\Chamodi\\Machine Learning\\Pressure_history\\Pressure_profiles\\L13_70\n",
      "P1\n",
      "P13\n",
      "P5\n",
      "P9\n"
     ]
    }
   ],
   "source": [
    "# Access each folder inside input folder\n",
    "dataset = pd.DataFrame(columns = ['Charge_mass', 'Standoff_distance', 'Time', 'Pressure'])\n",
    "df_list = []\n",
    "for folder in input_dir2:\n",
    "    \n",
    "    # Make a list of data file names\n",
    "    files = list(file_sel for file_sel in folder.rglob(\"*.xlsx\") if int(file_sel.stem[1:]) < 14)\n",
    "    print (folder)\n",
    "    for file in files:\n",
    "        df_list.append(pd.read_excel(file))\n",
    "        print (file.stem)\n",
    "\n",
    "dataset = pd.concat(df_list, ignore_index = True)"
   ]
  },
  {
   "cell_type": "code",
   "execution_count": 5,
   "metadata": {
    "colab": {},
    "colab_type": "code",
    "id": "B9CV13Co_HHM",
    "ExecuteTime": {
     "end_time": "2023-08-18T07:05:30.697791600Z",
     "start_time": "2023-08-18T07:05:30.624758100Z"
    }
   },
   "outputs": [
    {
     "name": "stdout",
     "output_type": "stream",
     "text": [
      "<class 'pandas.core.frame.DataFrame'>\n",
      "RangeIndex: 492215 entries, 0 to 492214\n",
      "Data columns (total 4 columns):\n",
      " #   Column             Non-Null Count   Dtype  \n",
      "---  ------             --------------   -----  \n",
      " 0   Charge_mass        492215 non-null  float64\n",
      " 1   Standoff_distance  492215 non-null  int64  \n",
      " 2   Time               492215 non-null  float64\n",
      " 3   Pressure           492215 non-null  float64\n",
      "dtypes: float64(3), int64(1)\n",
      "memory usage: 15.0 MB\n"
     ]
    }
   ],
   "source": [
    "dataset.info()"
   ]
  },
  {
   "cell_type": "code",
   "execution_count": 6,
   "metadata": {
    "ExecuteTime": {
     "end_time": "2023-08-18T07:05:36.329265Z",
     "start_time": "2023-08-18T07:05:36.277219500Z"
    }
   },
   "outputs": [
    {
     "name": "stdout",
     "output_type": "stream",
     "text": [
      "(492215, 3) (492215,)\n"
     ]
    }
   ],
   "source": [
    "y = dataset['Pressure']\n",
    "X = dataset.drop(['Pressure'], axis=1)\n",
    "print(X.shape, y.shape)"
   ]
  },
  {
   "cell_type": "code",
   "execution_count": 7,
   "metadata": {
    "ExecuteTime": {
     "end_time": "2023-08-18T07:05:39.049566900Z",
     "start_time": "2023-08-18T07:05:39.005027700Z"
    }
   },
   "outputs": [],
   "source": [
    "# convert to numpy array\n",
    "X = np.array(X)\n",
    "y = np.array(y)"
   ]
  },
  {
   "cell_type": "markdown",
   "metadata": {
    "colab_type": "text",
    "id": "VC6omXel_Up0"
   },
   "source": [
    "### Splitting the dataset into the Training set and Test set"
   ]
  },
  {
   "cell_type": "code",
   "execution_count": 8,
   "metadata": {
    "colab": {},
    "colab_type": "code",
    "id": "L5edeb2r_agx",
    "ExecuteTime": {
     "end_time": "2023-08-18T07:05:43.304953200Z",
     "start_time": "2023-08-18T07:05:42.705753200Z"
    }
   },
   "outputs": [],
   "source": [
    "from sklearn.model_selection import train_test_split\n",
    "X_train, X_test, y_train, y_test = train_test_split(X,\n",
    "                                                    y,\n",
    "                                                    test_size = 0.4,\n",
    "                                                    random_state = 0)"
   ]
  },
  {
   "cell_type": "code",
   "execution_count": 9,
   "metadata": {
    "colab": {},
    "colab_type": "code",
    "id": "L5edeb2r_agx",
    "ExecuteTime": {
     "end_time": "2023-08-18T07:05:44.757132500Z",
     "start_time": "2023-08-18T07:05:44.676596700Z"
    }
   },
   "outputs": [],
   "source": [
    "X_val, X_test, y_val, y_test = train_test_split(X_test,\n",
    "                                                y_test,\n",
    "                                                test_size = 0.5,\n",
    "                                                random_state = 0)"
   ]
  },
  {
   "cell_type": "markdown",
   "source": [
    "## Feature scaling"
   ],
   "metadata": {
    "collapsed": false
   }
  },
  {
   "cell_type": "code",
   "execution_count": 10,
   "outputs": [],
   "source": [
    "from sklearn.preprocessing import StandardScaler\n",
    "sc = StandardScaler()\n",
    "X_train = sc.fit_transform(X_train)\n",
    "X_test = sc.transform(X_test)\n",
    "X_val = sc.transform(X_val)"
   ],
   "metadata": {
    "collapsed": false,
    "ExecuteTime": {
     "end_time": "2023-08-18T07:05:46.472452100Z",
     "start_time": "2023-08-18T07:05:46.411407Z"
    }
   }
  },
  {
   "cell_type": "code",
   "execution_count": 11,
   "outputs": [
    {
     "name": "stdout",
     "output_type": "stream",
     "text": [
      "[[-1.93352006  0.43839445  0.08858649]\n",
      " [ 0.82685163 -1.32939973  0.66947474]\n",
      " [ 0.62237966  1.32229154 -0.65582355]\n",
      " ...\n",
      " [ 1.23579559  0.43839445 -0.72983203]\n",
      " [ 0.52014367 -1.32939973 -1.26167127]\n",
      " [ 1.44026756  1.32229154 -1.130874  ]]\n"
     ]
    }
   ],
   "source": [
    "print (X_train)"
   ],
   "metadata": {
    "collapsed": false,
    "ExecuteTime": {
     "end_time": "2023-08-18T07:05:51.348127500Z",
     "start_time": "2023-08-18T07:05:51.314603600Z"
    }
   }
  },
  {
   "cell_type": "code",
   "execution_count": 12,
   "outputs": [
    {
     "name": "stdout",
     "output_type": "stream",
     "text": [
      "[[ 1.49138556 -0.44550264 -0.99231037]\n",
      " [ 0.11119971 -0.44550264  0.90612115]\n",
      " [-0.19550825 -0.44550264 -1.33654183]\n",
      " ...\n",
      " [ 1.49138556 -1.32939973 -0.41142789]\n",
      " [-0.60445221  0.43839445 -0.89592704]\n",
      " [-0.29774424  0.43839445  0.93280585]]\n"
     ]
    }
   ],
   "source": [
    "print (X_test)"
   ],
   "metadata": {
    "collapsed": false,
    "ExecuteTime": {
     "end_time": "2023-08-18T07:05:53.054934900Z",
     "start_time": "2023-08-18T07:05:53.032922900Z"
    }
   }
  },
  {
   "cell_type": "code",
   "execution_count": 13,
   "outputs": [
    {
     "name": "stdout",
     "output_type": "stream",
     "text": [
      "[[-1.32010413 -1.32939973 -0.70488317]\n",
      " [-1.93352006  0.43839445 -0.98971984]\n",
      " [ 1.44026756  1.32229154  1.75895927]\n",
      " ...\n",
      " [-0.50221622  0.43839445 -0.52673754]\n",
      " [ 0.62237966  1.32229154  1.58856842]\n",
      " [-0.50221622  1.32229154  1.567898  ]]\n"
     ]
    }
   ],
   "source": [
    "print (X_val)"
   ],
   "metadata": {
    "collapsed": false,
    "ExecuteTime": {
     "end_time": "2023-08-18T07:06:02.079255400Z",
     "start_time": "2023-08-18T07:06:01.991716600Z"
    }
   }
  },
  {
   "cell_type": "code",
   "execution_count": 14,
   "outputs": [
    {
     "name": "stdout",
     "output_type": "stream",
     "text": [
      "X_train 295329\n",
      "X_test 98443\n",
      "X_val 98443\n"
     ]
    }
   ],
   "source": [
    "print (\"X_train\", len (X_train))\n",
    "print (\"X_test\", len (X_test))\n",
    "print (\"X_val\", len (X_val))"
   ],
   "metadata": {
    "collapsed": false,
    "ExecuteTime": {
     "end_time": "2023-08-18T07:06:04.270639300Z",
     "start_time": "2023-08-18T07:06:04.222781400Z"
    }
   }
  },
  {
   "cell_type": "markdown",
   "metadata": {
    "colab_type": "text",
    "id": "_mSLlAT9_eyI"
   },
   "source": [
    "## Part 3 - Building the ANN"
   ]
  },
  {
   "cell_type": "markdown",
   "metadata": {
    "colab_type": "text",
    "id": "CsBULd_f_wLY"
   },
   "source": [
    "### Initializing the ANN"
   ]
  },
  {
   "cell_type": "code",
   "execution_count": 15,
   "metadata": {
    "colab": {},
    "colab_type": "code",
    "id": "J6Hd97Ls__Nz",
    "ExecuteTime": {
     "end_time": "2023-08-18T07:06:15.555460800Z",
     "start_time": "2023-08-18T07:06:15.527946Z"
    }
   },
   "outputs": [],
   "source": [
    "ann = tf.keras.models.Sequential()"
   ]
  },
  {
   "cell_type": "markdown",
   "metadata": {
    "colab_type": "text",
    "id": "iitAFJS_ABUn"
   },
   "source": [
    "### Adding the input layer and the first hidden layer"
   ]
  },
  {
   "cell_type": "code",
   "execution_count": 16,
   "metadata": {
    "colab": {},
    "colab_type": "code",
    "id": "ksO_Vv40AHix",
    "ExecuteTime": {
     "end_time": "2023-08-18T07:06:19.463161500Z",
     "start_time": "2023-08-18T07:06:19.411598900Z"
    }
   },
   "outputs": [],
   "source": [
    "ann.add(tf.keras.layers.Dense(units=50,\n",
    "                              input_shape=(X_train.shape[1],),\n",
    "                              activation='leaky_relu'))"
   ]
  },
  {
   "cell_type": "markdown",
   "metadata": {
    "colab_type": "text",
    "id": "-lb4kK_wAKbs"
   },
   "source": [
    "### Adding the second hidden layer"
   ]
  },
  {
   "cell_type": "code",
   "execution_count": 17,
   "metadata": {
    "colab": {},
    "colab_type": "code",
    "id": "c2357OqEAQOQ",
    "tags": [],
    "ExecuteTime": {
     "end_time": "2023-08-18T07:06:21.397608900Z",
     "start_time": "2023-08-18T07:06:21.359597300Z"
    }
   },
   "outputs": [],
   "source": [
    "ann.add(tf.keras.layers.Dense(units=40,\n",
    "                              activation='leaky_relu'))"
   ]
  },
  {
   "cell_type": "markdown",
   "metadata": {
    "colab_type": "text",
    "id": "-lb4kK_wAKbs"
   },
   "source": [
    "### Adding the third hidden layer"
   ]
  },
  {
   "cell_type": "code",
   "execution_count": 18,
   "metadata": {
    "colab": {},
    "colab_type": "code",
    "id": "c2357OqEAQOQ",
    "tags": [],
    "ExecuteTime": {
     "end_time": "2023-08-18T07:06:24.164969300Z",
     "start_time": "2023-08-18T07:06:24.124457500Z"
    }
   },
   "outputs": [],
   "source": [
    "ann.add(tf.keras.layers.Dense(units=30,\n",
    "                              activation='leaky_relu'))"
   ]
  },
  {
   "cell_type": "markdown",
   "metadata": {
    "colab_type": "text",
    "id": "jwMOmKb3AdBY"
   },
   "source": [
    "### Adding the output layer"
   ]
  },
  {
   "cell_type": "code",
   "execution_count": 19,
   "metadata": {
    "colab": {},
    "colab_type": "code",
    "id": "YFATpzsUAkLL",
    "ExecuteTime": {
     "end_time": "2023-08-18T07:06:27.960942800Z",
     "start_time": "2023-08-18T07:06:27.875193300Z"
    }
   },
   "outputs": [],
   "source": [
    "ann.add(tf.keras.layers.Dense(units=1,\n",
    "                              activation='linear'))"
   ]
  },
  {
   "cell_type": "markdown",
   "metadata": {},
   "source": [
    "### what model looks like"
   ]
  },
  {
   "cell_type": "code",
   "execution_count": 20,
   "metadata": {
    "ExecuteTime": {
     "end_time": "2023-08-18T07:06:29.642930100Z",
     "start_time": "2023-08-18T07:06:29.543415300Z"
    }
   },
   "outputs": [
    {
     "name": "stdout",
     "output_type": "stream",
     "text": [
      "Model: \"sequential\"\n",
      "_________________________________________________________________\n",
      " Layer (type)                Output Shape              Param #   \n",
      "=================================================================\n",
      " dense (Dense)               (None, 50)                200       \n",
      "                                                                 \n",
      " dense_1 (Dense)             (None, 40)                2040      \n",
      "                                                                 \n",
      " dense_2 (Dense)             (None, 30)                1230      \n",
      "                                                                 \n",
      " dense_3 (Dense)             (None, 1)                 31        \n",
      "                                                                 \n",
      "=================================================================\n",
      "Total params: 3,501\n",
      "Trainable params: 3,501\n",
      "Non-trainable params: 0\n",
      "_________________________________________________________________\n"
     ]
    }
   ],
   "source": [
    "ann.summary()"
   ]
  },
  {
   "cell_type": "markdown",
   "metadata": {
    "colab_type": "text",
    "id": "fq7e4fF6A1yy"
   },
   "source": [
    "## Part 4 - Training the ANN"
   ]
  },
  {
   "cell_type": "markdown",
   "metadata": {
    "colab_type": "text",
    "id": "qDeylAs2An25"
   },
   "source": [
    "### Compiling the ANN"
   ]
  },
  {
   "cell_type": "code",
   "execution_count": 21,
   "metadata": {
    "colab": {},
    "colab_type": "code",
    "id": "pesgbWlCAtB4",
    "ExecuteTime": {
     "end_time": "2023-08-18T07:06:32.407483600Z",
     "start_time": "2023-08-18T07:06:32.379432200Z"
    }
   },
   "outputs": [],
   "source": [
    "from keras.optimizers import Adam\n",
    "opt = Adam(learning_rate=0.01)\n",
    "ann.compile(optimizer = opt,\n",
    "            loss = 'mean_squared_error',\n",
    "            metrics = ['mae'])"
   ]
  },
  {
   "cell_type": "markdown",
   "metadata": {},
   "source": [
    "### early stopping callback"
   ]
  },
  {
   "cell_type": "code",
   "execution_count": 22,
   "metadata": {
    "ExecuteTime": {
     "end_time": "2023-08-18T07:06:34.202008200Z",
     "start_time": "2023-08-18T07:06:34.162220800Z"
    }
   },
   "outputs": [],
   "source": [
    "# protects from unnecessary further training of the model if a particular metric does not continue to improve over a number of n epochs. In such a case, the model training would be automatically aborted.\n",
    "from keras.callbacks import EarlyStopping\n",
    "es = EarlyStopping(monitor='val_loss',\n",
    "                   mode='min',\n",
    "                   patience=50,\n",
    "                   restore_best_weights = True)"
   ]
  },
  {
   "cell_type": "markdown",
   "metadata": {},
   "source": [
    "### Checkpoints"
   ]
  },
  {
   "cell_type": "code",
   "execution_count": 18,
   "metadata": {},
   "outputs": [],
   "source": [
    "filepath=\"P1weights_best.hdf5\"\n",
    "checkpoint = ModelCheckpoint(filepath,\n",
    "                             monitor='val_loss',\n",
    "                             verbose=1,\n",
    "                             save_best_only=True,\n",
    "                             mode='max')\n",
    "callbacks_list = [checkpoint, es]"
   ]
  },
  {
   "cell_type": "markdown",
   "metadata": {
    "colab_type": "text",
    "id": "YjVuiybYOo7r",
    "tags": []
   },
   "source": [
    "### Training the ANN model on the Training set"
   ]
  },
  {
   "cell_type": "code",
   "execution_count": 23,
   "metadata": {
    "colab": {
     "base_uri": "https://localhost:8080/",
     "height": 1000
    },
    "colab_type": "code",
    "id": "c_vV-tiiA5zn",
    "outputId": "4a2b6ee6-ed75-4698-9069-b250e613803f",
    "ExecuteTime": {
     "end_time": "2023-08-18T09:55:57.622787500Z",
     "start_time": "2023-08-18T07:06:42.790932500Z"
    }
   },
   "outputs": [
    {
     "name": "stdout",
     "output_type": "stream",
     "text": [
      "Epoch 1/400\n",
      "14767/14767 [==============================] - 27s 2ms/step - loss: 8997721088.0000 - mae: 17334.0840 - val_loss: 10391803904.0000 - val_mae: 13995.4346\n",
      "Epoch 2/400\n",
      "14767/14767 [==============================] - 25s 2ms/step - loss: 8609820672.0000 - mae: 14450.7061 - val_loss: 9801822208.0000 - val_mae: 11877.3623\n",
      "Epoch 3/400\n",
      "14767/14767 [==============================] - 25s 2ms/step - loss: 8247467008.0000 - mae: 13758.1035 - val_loss: 9489947648.0000 - val_mae: 10735.7705\n",
      "Epoch 4/400\n",
      "14767/14767 [==============================] - 25s 2ms/step - loss: 8015672832.0000 - mae: 13904.5645 - val_loss: 9149299712.0000 - val_mae: 12515.8818\n",
      "Epoch 5/400\n",
      "14767/14767 [==============================] - 25s 2ms/step - loss: 7951325696.0000 - mae: 13686.9902 - val_loss: 9041339392.0000 - val_mae: 12112.4541\n",
      "Epoch 6/400\n",
      "14767/14767 [==============================] - 25s 2ms/step - loss: 7878598656.0000 - mae: 13713.5029 - val_loss: 9109343232.0000 - val_mae: 10163.8604\n",
      "Epoch 7/400\n",
      "14767/14767 [==============================] - 25s 2ms/step - loss: 7793848320.0000 - mae: 13688.3779 - val_loss: 9062135808.0000 - val_mae: 15826.9229\n",
      "Epoch 8/400\n",
      "14767/14767 [==============================] - 25s 2ms/step - loss: 7758044672.0000 - mae: 13621.1113 - val_loss: 9942538240.0000 - val_mae: 17715.6348\n",
      "Epoch 9/400\n",
      "14767/14767 [==============================] - 25s 2ms/step - loss: 7718149632.0000 - mae: 13173.6006 - val_loss: 9102666752.0000 - val_mae: 11815.8174\n",
      "Epoch 10/400\n",
      "14767/14767 [==============================] - 25s 2ms/step - loss: 7630110720.0000 - mae: 12791.9502 - val_loss: 8947653632.0000 - val_mae: 11287.9688\n",
      "Epoch 11/400\n",
      "14767/14767 [==============================] - 25s 2ms/step - loss: 7555633152.0000 - mae: 12467.7529 - val_loss: 9059522560.0000 - val_mae: 14343.9834\n",
      "Epoch 12/400\n",
      "14767/14767 [==============================] - 25s 2ms/step - loss: 7577137152.0000 - mae: 12149.9336 - val_loss: 8978196480.0000 - val_mae: 12685.4619\n",
      "Epoch 13/400\n",
      "14767/14767 [==============================] - 25s 2ms/step - loss: 7434895360.0000 - mae: 11636.5527 - val_loss: 8301359104.0000 - val_mae: 11840.1143\n",
      "Epoch 14/400\n",
      "14767/14767 [==============================] - 25s 2ms/step - loss: 7408897536.0000 - mae: 11518.2939 - val_loss: 8356820992.0000 - val_mae: 12646.2334\n",
      "Epoch 15/400\n",
      "14767/14767 [==============================] - 25s 2ms/step - loss: 7396453888.0000 - mae: 11427.0088 - val_loss: 8943206400.0000 - val_mae: 12711.6768\n",
      "Epoch 16/400\n",
      "14767/14767 [==============================] - 25s 2ms/step - loss: 7257159168.0000 - mae: 11353.4639 - val_loss: 8412285440.0000 - val_mae: 9135.9443\n",
      "Epoch 17/400\n",
      "14767/14767 [==============================] - 26s 2ms/step - loss: 7299043840.0000 - mae: 10994.3115 - val_loss: 8089813504.0000 - val_mae: 9638.6162\n",
      "Epoch 18/400\n",
      "14767/14767 [==============================] - 25s 2ms/step - loss: 7338921984.0000 - mae: 11145.7168 - val_loss: 8699035648.0000 - val_mae: 8749.0146\n",
      "Epoch 19/400\n",
      "14767/14767 [==============================] - 26s 2ms/step - loss: 7361400320.0000 - mae: 11066.3096 - val_loss: 8571770368.0000 - val_mae: 12100.5479\n",
      "Epoch 20/400\n",
      "14767/14767 [==============================] - 25s 2ms/step - loss: 7276000256.0000 - mae: 10953.2266 - val_loss: 9207570432.0000 - val_mae: 14568.7178\n",
      "Epoch 21/400\n",
      "14767/14767 [==============================] - 26s 2ms/step - loss: 7232560128.0000 - mae: 10732.2881 - val_loss: 8102675456.0000 - val_mae: 10360.5635\n",
      "Epoch 22/400\n",
      "14767/14767 [==============================] - 25s 2ms/step - loss: 7186968064.0000 - mae: 10601.3125 - val_loss: 8570994688.0000 - val_mae: 11183.1426\n",
      "Epoch 23/400\n",
      "14767/14767 [==============================] - 25s 2ms/step - loss: 7135682560.0000 - mae: 10491.6289 - val_loss: 8597225472.0000 - val_mae: 12150.7852\n",
      "Epoch 24/400\n",
      "14767/14767 [==============================] - 25s 2ms/step - loss: 7188287488.0000 - mae: 10302.5742 - val_loss: 8076946944.0000 - val_mae: 9617.7256\n",
      "Epoch 25/400\n",
      "14767/14767 [==============================] - 25s 2ms/step - loss: 7121654272.0000 - mae: 10168.7178 - val_loss: 8242903552.0000 - val_mae: 8334.0645\n",
      "Epoch 26/400\n",
      "14767/14767 [==============================] - 25s 2ms/step - loss: 7128747520.0000 - mae: 9613.6055 - val_loss: 8269335040.0000 - val_mae: 8242.9268\n",
      "Epoch 27/400\n",
      "14767/14767 [==============================] - 25s 2ms/step - loss: 6924469760.0000 - mae: 9373.6152 - val_loss: 7855933440.0000 - val_mae: 8614.4336\n",
      "Epoch 28/400\n",
      "14767/14767 [==============================] - 25s 2ms/step - loss: 6871762944.0000 - mae: 9245.8389 - val_loss: 7552738304.0000 - val_mae: 11127.7031\n",
      "Epoch 29/400\n",
      "14767/14767 [==============================] - 25s 2ms/step - loss: 6886437376.0000 - mae: 9179.4941 - val_loss: 7408502784.0000 - val_mae: 8302.2930\n",
      "Epoch 30/400\n",
      "14767/14767 [==============================] - 25s 2ms/step - loss: 6825060352.0000 - mae: 9260.1758 - val_loss: 7778734080.0000 - val_mae: 7746.9663\n",
      "Epoch 31/400\n",
      "14767/14767 [==============================] - 25s 2ms/step - loss: 6816359936.0000 - mae: 8896.4062 - val_loss: 7949475328.0000 - val_mae: 12042.2354\n",
      "Epoch 32/400\n",
      "14767/14767 [==============================] - 25s 2ms/step - loss: 6842120192.0000 - mae: 8860.1816 - val_loss: 8390786048.0000 - val_mae: 7390.0200\n",
      "Epoch 33/400\n",
      "14767/14767 [==============================] - 25s 2ms/step - loss: 6801796608.0000 - mae: 8796.6650 - val_loss: 7349403136.0000 - val_mae: 7645.2290\n",
      "Epoch 34/400\n",
      "14767/14767 [==============================] - 25s 2ms/step - loss: 6720364544.0000 - mae: 8832.8174 - val_loss: 8189060608.0000 - val_mae: 7835.7803\n",
      "Epoch 35/400\n",
      "14767/14767 [==============================] - 25s 2ms/step - loss: 6775479808.0000 - mae: 8727.6924 - val_loss: 8039233536.0000 - val_mae: 6968.3774\n",
      "Epoch 36/400\n",
      "14767/14767 [==============================] - 25s 2ms/step - loss: 6637677568.0000 - mae: 8417.1094 - val_loss: 8112723456.0000 - val_mae: 6736.5366\n",
      "Epoch 37/400\n",
      "14767/14767 [==============================] - 25s 2ms/step - loss: 6588152832.0000 - mae: 8457.8086 - val_loss: 7473147392.0000 - val_mae: 7008.4150\n",
      "Epoch 38/400\n",
      "14767/14767 [==============================] - 25s 2ms/step - loss: 6688857600.0000 - mae: 8470.0449 - val_loss: 7364075520.0000 - val_mae: 10422.4062\n",
      "Epoch 39/400\n",
      "14767/14767 [==============================] - 25s 2ms/step - loss: 6682051072.0000 - mae: 8397.1914 - val_loss: 7688450048.0000 - val_mae: 10266.8994\n",
      "Epoch 40/400\n",
      "14767/14767 [==============================] - 25s 2ms/step - loss: 6677680128.0000 - mae: 8162.1206 - val_loss: 8963562496.0000 - val_mae: 6115.5200\n",
      "Epoch 41/400\n",
      "14767/14767 [==============================] - 25s 2ms/step - loss: 6689414656.0000 - mae: 8028.1509 - val_loss: 7517208064.0000 - val_mae: 8771.3701\n",
      "Epoch 42/400\n",
      "14767/14767 [==============================] - 25s 2ms/step - loss: 6672845312.0000 - mae: 8069.3809 - val_loss: 7326334464.0000 - val_mae: 6256.9238\n",
      "Epoch 43/400\n",
      "14767/14767 [==============================] - 25s 2ms/step - loss: 6729309696.0000 - mae: 8131.1631 - val_loss: 7131990016.0000 - val_mae: 8028.7432\n",
      "Epoch 44/400\n",
      "14767/14767 [==============================] - 25s 2ms/step - loss: 6594566656.0000 - mae: 8083.3774 - val_loss: 7584165888.0000 - val_mae: 6692.2559\n",
      "Epoch 45/400\n",
      "14767/14767 [==============================] - 25s 2ms/step - loss: 6525069824.0000 - mae: 8089.6943 - val_loss: 7991586304.0000 - val_mae: 7139.4253\n",
      "Epoch 46/400\n",
      "14767/14767 [==============================] - 25s 2ms/step - loss: 6625222656.0000 - mae: 8168.0835 - val_loss: 7924338176.0000 - val_mae: 6663.3203\n",
      "Epoch 47/400\n",
      "14767/14767 [==============================] - 25s 2ms/step - loss: 6594512384.0000 - mae: 7976.4800 - val_loss: 7534905344.0000 - val_mae: 6365.2100\n",
      "Epoch 48/400\n",
      "14767/14767 [==============================] - 25s 2ms/step - loss: 6527206912.0000 - mae: 7964.8257 - val_loss: 8253462528.0000 - val_mae: 5963.4072\n",
      "Epoch 49/400\n",
      "14767/14767 [==============================] - 25s 2ms/step - loss: 6564626944.0000 - mae: 7871.7236 - val_loss: 7927624704.0000 - val_mae: 6434.1836\n",
      "Epoch 50/400\n",
      "14767/14767 [==============================] - 25s 2ms/step - loss: 6620904960.0000 - mae: 8045.6123 - val_loss: 7852187136.0000 - val_mae: 6470.5176\n",
      "Epoch 51/400\n",
      "14767/14767 [==============================] - 25s 2ms/step - loss: 6529224704.0000 - mae: 8035.6631 - val_loss: 7748467200.0000 - val_mae: 6904.5547\n",
      "Epoch 52/400\n",
      "14767/14767 [==============================] - 25s 2ms/step - loss: 6438160896.0000 - mae: 8049.6162 - val_loss: 7714003968.0000 - val_mae: 6661.9116\n",
      "Epoch 53/400\n",
      "14767/14767 [==============================] - 25s 2ms/step - loss: 6721435136.0000 - mae: 8146.7266 - val_loss: 7524103168.0000 - val_mae: 7798.7817\n",
      "Epoch 54/400\n",
      "14767/14767 [==============================] - 25s 2ms/step - loss: 6426548736.0000 - mae: 8196.4551 - val_loss: 8452847104.0000 - val_mae: 8426.7100\n",
      "Epoch 55/400\n",
      "14767/14767 [==============================] - 25s 2ms/step - loss: 6541143552.0000 - mae: 8127.4028 - val_loss: 6999675904.0000 - val_mae: 7627.3628\n",
      "Epoch 56/400\n",
      "14767/14767 [==============================] - 25s 2ms/step - loss: 6594515456.0000 - mae: 8018.7700 - val_loss: 7301495808.0000 - val_mae: 6671.0166\n",
      "Epoch 57/400\n",
      "14767/14767 [==============================] - 25s 2ms/step - loss: 6368997888.0000 - mae: 7967.3428 - val_loss: 7357384192.0000 - val_mae: 9226.3604\n",
      "Epoch 58/400\n",
      "14767/14767 [==============================] - 25s 2ms/step - loss: 6500678656.0000 - mae: 8264.6963 - val_loss: 6846919680.0000 - val_mae: 7324.1943\n",
      "Epoch 59/400\n",
      "14767/14767 [==============================] - 25s 2ms/step - loss: 6261587968.0000 - mae: 8113.4609 - val_loss: 8023628288.0000 - val_mae: 10682.6504\n",
      "Epoch 60/400\n",
      "14767/14767 [==============================] - 25s 2ms/step - loss: 6487597056.0000 - mae: 8179.7432 - val_loss: 7060375040.0000 - val_mae: 10196.4824\n",
      "Epoch 61/400\n",
      "14767/14767 [==============================] - 25s 2ms/step - loss: 6374771712.0000 - mae: 8046.0684 - val_loss: 7342749696.0000 - val_mae: 11046.0273\n",
      "Epoch 62/400\n",
      "14767/14767 [==============================] - 25s 2ms/step - loss: 6430114304.0000 - mae: 8014.9126 - val_loss: 7436568064.0000 - val_mae: 7164.3555\n",
      "Epoch 63/400\n",
      "14767/14767 [==============================] - 25s 2ms/step - loss: 6371755520.0000 - mae: 8052.3374 - val_loss: 8388776448.0000 - val_mae: 6481.7075\n",
      "Epoch 64/400\n",
      "14767/14767 [==============================] - 25s 2ms/step - loss: 6412648960.0000 - mae: 8081.8208 - val_loss: 7047197696.0000 - val_mae: 7883.7778\n",
      "Epoch 65/400\n",
      "14767/14767 [==============================] - 25s 2ms/step - loss: 6337671168.0000 - mae: 7793.2236 - val_loss: 9432768512.0000 - val_mae: 12794.6963\n",
      "Epoch 66/400\n",
      "14767/14767 [==============================] - 25s 2ms/step - loss: 6408681472.0000 - mae: 8097.6982 - val_loss: 7890955264.0000 - val_mae: 6323.9766\n",
      "Epoch 67/400\n",
      "14767/14767 [==============================] - 25s 2ms/step - loss: 6350791680.0000 - mae: 7877.5732 - val_loss: 6651769344.0000 - val_mae: 7622.5557\n",
      "Epoch 68/400\n",
      "14767/14767 [==============================] - 25s 2ms/step - loss: 6443046400.0000 - mae: 8026.3931 - val_loss: 7017410048.0000 - val_mae: 8566.3174\n",
      "Epoch 69/400\n",
      "14767/14767 [==============================] - 25s 2ms/step - loss: 6368445440.0000 - mae: 7957.3560 - val_loss: 7766362624.0000 - val_mae: 6886.0444\n",
      "Epoch 70/400\n",
      "14767/14767 [==============================] - 25s 2ms/step - loss: 6285120000.0000 - mae: 7994.1963 - val_loss: 6986069504.0000 - val_mae: 6896.0991\n",
      "Epoch 71/400\n",
      "14767/14767 [==============================] - 25s 2ms/step - loss: 6290192896.0000 - mae: 7966.2153 - val_loss: 8350508544.0000 - val_mae: 5987.5859\n",
      "Epoch 72/400\n",
      "14767/14767 [==============================] - 25s 2ms/step - loss: 6408792064.0000 - mae: 7979.5981 - val_loss: 7140194816.0000 - val_mae: 6303.5244\n",
      "Epoch 73/400\n",
      "14767/14767 [==============================] - 25s 2ms/step - loss: 6328599040.0000 - mae: 7849.0542 - val_loss: 7151291392.0000 - val_mae: 8051.6216\n",
      "Epoch 74/400\n",
      "14767/14767 [==============================] - 25s 2ms/step - loss: 6356937216.0000 - mae: 7765.5933 - val_loss: 7987346944.0000 - val_mae: 6221.3149\n",
      "Epoch 75/400\n",
      "14767/14767 [==============================] - 25s 2ms/step - loss: 6278487552.0000 - mae: 8010.6489 - val_loss: 7809270272.0000 - val_mae: 6195.1445\n",
      "Epoch 76/400\n",
      "14767/14767 [==============================] - 25s 2ms/step - loss: 6330024960.0000 - mae: 7745.7051 - val_loss: 7041177600.0000 - val_mae: 6495.0146\n",
      "Epoch 77/400\n",
      "14767/14767 [==============================] - 25s 2ms/step - loss: 6330114560.0000 - mae: 7673.0586 - val_loss: 7516719616.0000 - val_mae: 8038.3633\n",
      "Epoch 78/400\n",
      "14767/14767 [==============================] - 25s 2ms/step - loss: 6261352448.0000 - mae: 7577.2476 - val_loss: 6706688512.0000 - val_mae: 7016.7334\n",
      "Epoch 79/400\n",
      "14767/14767 [==============================] - 25s 2ms/step - loss: 6332688896.0000 - mae: 7672.4907 - val_loss: 7293749760.0000 - val_mae: 5820.9492\n",
      "Epoch 80/400\n",
      "14767/14767 [==============================] - 25s 2ms/step - loss: 6319787008.0000 - mae: 7816.1011 - val_loss: 7540212736.0000 - val_mae: 6293.5811\n",
      "Epoch 81/400\n",
      "14767/14767 [==============================] - 25s 2ms/step - loss: 6274181120.0000 - mae: 7539.9263 - val_loss: 6450439168.0000 - val_mae: 7579.2065\n",
      "Epoch 82/400\n",
      "14767/14767 [==============================] - 25s 2ms/step - loss: 6305881088.0000 - mae: 7475.7661 - val_loss: 25255241728.0000 - val_mae: 22964.2969\n",
      "Epoch 83/400\n",
      "14767/14767 [==============================] - 25s 2ms/step - loss: 6198794240.0000 - mae: 7621.3691 - val_loss: 7659614720.0000 - val_mae: 6561.7051\n",
      "Epoch 84/400\n",
      "14767/14767 [==============================] - 25s 2ms/step - loss: 6333767168.0000 - mae: 7561.1670 - val_loss: 7960371200.0000 - val_mae: 9703.7402\n",
      "Epoch 85/400\n",
      "14767/14767 [==============================] - 25s 2ms/step - loss: 6192557568.0000 - mae: 7589.0654 - val_loss: 6580979200.0000 - val_mae: 7023.2983\n",
      "Epoch 86/400\n",
      "14767/14767 [==============================] - 25s 2ms/step - loss: 6222694912.0000 - mae: 7845.1650 - val_loss: 6695490048.0000 - val_mae: 7637.8701\n",
      "Epoch 87/400\n",
      "14767/14767 [==============================] - 25s 2ms/step - loss: 6209302528.0000 - mae: 7660.2119 - val_loss: 6925602304.0000 - val_mae: 7904.6309\n",
      "Epoch 88/400\n",
      "14767/14767 [==============================] - 25s 2ms/step - loss: 6094552064.0000 - mae: 7615.5747 - val_loss: 8448178688.0000 - val_mae: 5607.9453\n",
      "Epoch 89/400\n",
      "14767/14767 [==============================] - 25s 2ms/step - loss: 6048521728.0000 - mae: 7710.0879 - val_loss: 7921119232.0000 - val_mae: 7394.7388\n",
      "Epoch 90/400\n",
      "14767/14767 [==============================] - 25s 2ms/step - loss: 6230383104.0000 - mae: 7618.1821 - val_loss: 6737527808.0000 - val_mae: 6844.1597\n",
      "Epoch 91/400\n",
      "14767/14767 [==============================] - 25s 2ms/step - loss: 6246155776.0000 - mae: 7592.4243 - val_loss: 7833136128.0000 - val_mae: 16669.9531\n",
      "Epoch 92/400\n",
      "14767/14767 [==============================] - 26s 2ms/step - loss: 6310318080.0000 - mae: 7763.2271 - val_loss: 7718595584.0000 - val_mae: 8126.0225\n",
      "Epoch 93/400\n",
      "14767/14767 [==============================] - 25s 2ms/step - loss: 6285555712.0000 - mae: 7620.9722 - val_loss: 13371345920.0000 - val_mae: 15408.2949\n",
      "Epoch 94/400\n",
      "14767/14767 [==============================] - 25s 2ms/step - loss: 6052665344.0000 - mae: 7605.4043 - val_loss: 10371623936.0000 - val_mae: 11654.1230\n",
      "Epoch 95/400\n",
      "14767/14767 [==============================] - 25s 2ms/step - loss: 6107427840.0000 - mae: 7574.0732 - val_loss: 7671894528.0000 - val_mae: 9206.6602\n",
      "Epoch 96/400\n",
      "14767/14767 [==============================] - 25s 2ms/step - loss: 6015855104.0000 - mae: 7496.4897 - val_loss: 7129315328.0000 - val_mae: 9462.6543\n",
      "Epoch 97/400\n",
      "14767/14767 [==============================] - 25s 2ms/step - loss: 6089234432.0000 - mae: 7519.6528 - val_loss: 6341169664.0000 - val_mae: 7213.4912\n",
      "Epoch 98/400\n",
      "14767/14767 [==============================] - 25s 2ms/step - loss: 6123411456.0000 - mae: 7562.3159 - val_loss: 6724184576.0000 - val_mae: 8740.6133\n",
      "Epoch 99/400\n",
      "14767/14767 [==============================] - 25s 2ms/step - loss: 6093977600.0000 - mae: 7627.7373 - val_loss: 7399666688.0000 - val_mae: 9127.3633\n",
      "Epoch 100/400\n",
      "14767/14767 [==============================] - 25s 2ms/step - loss: 6014035968.0000 - mae: 7450.1885 - val_loss: 7249588224.0000 - val_mae: 8809.1562\n",
      "Epoch 101/400\n",
      "14767/14767 [==============================] - 25s 2ms/step - loss: 6022014976.0000 - mae: 7391.8535 - val_loss: 19064657920.0000 - val_mae: 19402.1484\n",
      "Epoch 102/400\n",
      "14767/14767 [==============================] - 25s 2ms/step - loss: 6229893120.0000 - mae: 7550.6567 - val_loss: 7044431872.0000 - val_mae: 7844.7993\n",
      "Epoch 103/400\n",
      "14767/14767 [==============================] - 25s 2ms/step - loss: 6086678016.0000 - mae: 7568.3628 - val_loss: 7099383296.0000 - val_mae: 8176.0205\n",
      "Epoch 104/400\n",
      "14767/14767 [==============================] - 25s 2ms/step - loss: 6078244352.0000 - mae: 7556.6509 - val_loss: 7545920000.0000 - val_mae: 5773.9170\n",
      "Epoch 105/400\n",
      "14767/14767 [==============================] - 25s 2ms/step - loss: 6256799744.0000 - mae: 7691.3130 - val_loss: 8205059584.0000 - val_mae: 9967.8721\n",
      "Epoch 106/400\n",
      "14767/14767 [==============================] - 25s 2ms/step - loss: 6270717952.0000 - mae: 7558.2539 - val_loss: 6788434944.0000 - val_mae: 7199.1797\n",
      "Epoch 107/400\n",
      "14767/14767 [==============================] - 25s 2ms/step - loss: 6221495808.0000 - mae: 7527.2344 - val_loss: 6742792192.0000 - val_mae: 6079.3584\n",
      "Epoch 108/400\n",
      "14767/14767 [==============================] - 25s 2ms/step - loss: 6237268480.0000 - mae: 7439.3223 - val_loss: 7727918592.0000 - val_mae: 5565.5166\n",
      "Epoch 109/400\n",
      "14767/14767 [==============================] - 25s 2ms/step - loss: 6188916224.0000 - mae: 7522.3159 - val_loss: 7687310336.0000 - val_mae: 5536.6841\n",
      "Epoch 110/400\n",
      "14767/14767 [==============================] - 25s 2ms/step - loss: 6151239680.0000 - mae: 7464.2832 - val_loss: 6522393600.0000 - val_mae: 6985.6890\n",
      "Epoch 111/400\n",
      "14767/14767 [==============================] - 25s 2ms/step - loss: 6021630464.0000 - mae: 7569.2080 - val_loss: 7870033920.0000 - val_mae: 6617.6851\n",
      "Epoch 112/400\n",
      "14767/14767 [==============================] - 25s 2ms/step - loss: 5863404544.0000 - mae: 7555.2798 - val_loss: 6563075584.0000 - val_mae: 9483.4619\n",
      "Epoch 113/400\n",
      "14767/14767 [==============================] - 25s 2ms/step - loss: 6075872768.0000 - mae: 7789.5645 - val_loss: 6197003776.0000 - val_mae: 7145.5566\n",
      "Epoch 114/400\n",
      "14767/14767 [==============================] - 25s 2ms/step - loss: 6094744576.0000 - mae: 7606.6567 - val_loss: 11454181376.0000 - val_mae: 14484.5957\n",
      "Epoch 115/400\n",
      "14767/14767 [==============================] - 25s 2ms/step - loss: 6011660288.0000 - mae: 7553.3560 - val_loss: 6335005184.0000 - val_mae: 6307.8066\n",
      "Epoch 116/400\n",
      "14767/14767 [==============================] - 25s 2ms/step - loss: 5957901312.0000 - mae: 7547.7383 - val_loss: 6456642560.0000 - val_mae: 8117.3374\n",
      "Epoch 117/400\n",
      "14767/14767 [==============================] - 25s 2ms/step - loss: 5930383872.0000 - mae: 7792.0439 - val_loss: 8114356224.0000 - val_mae: 7239.4849\n",
      "Epoch 118/400\n",
      "14767/14767 [==============================] - 25s 2ms/step - loss: 5911947776.0000 - mae: 7665.5801 - val_loss: 6260972032.0000 - val_mae: 9587.9736\n",
      "Epoch 119/400\n",
      "14767/14767 [==============================] - 25s 2ms/step - loss: 6003350528.0000 - mae: 7761.3535 - val_loss: 7024522752.0000 - val_mae: 6169.3145\n",
      "Epoch 120/400\n",
      "14767/14767 [==============================] - 25s 2ms/step - loss: 5936154112.0000 - mae: 7475.5332 - val_loss: 6458398208.0000 - val_mae: 6750.9126\n",
      "Epoch 121/400\n",
      "14767/14767 [==============================] - 25s 2ms/step - loss: 6117984768.0000 - mae: 7680.6362 - val_loss: 6800534528.0000 - val_mae: 7185.6631\n",
      "Epoch 122/400\n",
      "14767/14767 [==============================] - 25s 2ms/step - loss: 6053308416.0000 - mae: 7614.0576 - val_loss: 6431757312.0000 - val_mae: 9080.5791\n",
      "Epoch 123/400\n",
      "14767/14767 [==============================] - 25s 2ms/step - loss: 6044118016.0000 - mae: 7575.2686 - val_loss: 7247169536.0000 - val_mae: 7004.9648\n",
      "Epoch 124/400\n",
      "14767/14767 [==============================] - 25s 2ms/step - loss: 6061944832.0000 - mae: 7395.6797 - val_loss: 6364354560.0000 - val_mae: 6680.0063\n",
      "Epoch 125/400\n",
      "14767/14767 [==============================] - 25s 2ms/step - loss: 5828091904.0000 - mae: 7488.2085 - val_loss: 7297283584.0000 - val_mae: 9455.8398\n",
      "Epoch 126/400\n",
      "14767/14767 [==============================] - 25s 2ms/step - loss: 5957543424.0000 - mae: 7566.7217 - val_loss: 7221786624.0000 - val_mae: 6201.5757\n",
      "Epoch 127/400\n",
      "14767/14767 [==============================] - 25s 2ms/step - loss: 6015656448.0000 - mae: 7569.4170 - val_loss: 7252769280.0000 - val_mae: 8022.8687\n",
      "Epoch 128/400\n",
      "14767/14767 [==============================] - 25s 2ms/step - loss: 6026258944.0000 - mae: 7531.0615 - val_loss: 7043312128.0000 - val_mae: 6016.1748\n",
      "Epoch 129/400\n",
      "14767/14767 [==============================] - 25s 2ms/step - loss: 5802202624.0000 - mae: 7585.8477 - val_loss: 9177697280.0000 - val_mae: 12383.8008\n",
      "Epoch 130/400\n",
      "14767/14767 [==============================] - 25s 2ms/step - loss: 6077428224.0000 - mae: 7432.4453 - val_loss: 6567362560.0000 - val_mae: 10796.4502\n",
      "Epoch 131/400\n",
      "14767/14767 [==============================] - 25s 2ms/step - loss: 5672233472.0000 - mae: 7332.6855 - val_loss: 7740573184.0000 - val_mae: 6319.7627\n",
      "Epoch 132/400\n",
      "14767/14767 [==============================] - 25s 2ms/step - loss: 6106714112.0000 - mae: 7528.9307 - val_loss: 6443995136.0000 - val_mae: 10999.2217\n",
      "Epoch 133/400\n",
      "14767/14767 [==============================] - 25s 2ms/step - loss: 5797016064.0000 - mae: 7361.2822 - val_loss: 7147685888.0000 - val_mae: 8746.4492\n",
      "Epoch 134/400\n",
      "14767/14767 [==============================] - 25s 2ms/step - loss: 6068083200.0000 - mae: 7465.6167 - val_loss: 7711471104.0000 - val_mae: 6393.6328\n",
      "Epoch 135/400\n",
      "14767/14767 [==============================] - 25s 2ms/step - loss: 6102779904.0000 - mae: 7470.1924 - val_loss: 7139706880.0000 - val_mae: 6572.2661\n",
      "Epoch 136/400\n",
      "14767/14767 [==============================] - 25s 2ms/step - loss: 6023609344.0000 - mae: 7448.5298 - val_loss: 8947884032.0000 - val_mae: 11485.1738\n",
      "Epoch 137/400\n",
      "14767/14767 [==============================] - 25s 2ms/step - loss: 5906297856.0000 - mae: 7511.7334 - val_loss: 8215699456.0000 - val_mae: 9561.4395\n",
      "Epoch 138/400\n",
      "14767/14767 [==============================] - 25s 2ms/step - loss: 5900784128.0000 - mae: 7527.0112 - val_loss: 6082390016.0000 - val_mae: 7035.2217\n",
      "Epoch 139/400\n",
      "14767/14767 [==============================] - 25s 2ms/step - loss: 6045763584.0000 - mae: 7478.1562 - val_loss: 7694631936.0000 - val_mae: 9080.9482\n",
      "Epoch 140/400\n",
      "14767/14767 [==============================] - 25s 2ms/step - loss: 5903781376.0000 - mae: 7426.0317 - val_loss: 7426373120.0000 - val_mae: 5729.4146\n",
      "Epoch 141/400\n",
      "14767/14767 [==============================] - 25s 2ms/step - loss: 5897716736.0000 - mae: 7663.9912 - val_loss: 7088879104.0000 - val_mae: 7577.1108\n",
      "Epoch 142/400\n",
      "14767/14767 [==============================] - 25s 2ms/step - loss: 6042395136.0000 - mae: 7909.9624 - val_loss: 9803934720.0000 - val_mae: 17048.3320\n",
      "Epoch 143/400\n",
      "14767/14767 [==============================] - 25s 2ms/step - loss: 6129636864.0000 - mae: 8020.7246 - val_loss: 7212914688.0000 - val_mae: 6848.5845\n",
      "Epoch 144/400\n",
      "14767/14767 [==============================] - 25s 2ms/step - loss: 6019461632.0000 - mae: 7666.7383 - val_loss: 6616933376.0000 - val_mae: 8806.5811\n",
      "Epoch 145/400\n",
      "14767/14767 [==============================] - 25s 2ms/step - loss: 5928273408.0000 - mae: 7559.2109 - val_loss: 6570317824.0000 - val_mae: 9332.4014\n",
      "Epoch 146/400\n",
      "14767/14767 [==============================] - 25s 2ms/step - loss: 5916656128.0000 - mae: 7348.4321 - val_loss: 6150652416.0000 - val_mae: 8268.5195\n",
      "Epoch 147/400\n",
      "14767/14767 [==============================] - 25s 2ms/step - loss: 5914307072.0000 - mae: 7487.1519 - val_loss: 7471720960.0000 - val_mae: 5694.7100\n",
      "Epoch 148/400\n",
      "14767/14767 [==============================] - 25s 2ms/step - loss: 5944863232.0000 - mae: 7382.7017 - val_loss: 6211284992.0000 - val_mae: 7161.8062\n",
      "Epoch 149/400\n",
      "14767/14767 [==============================] - 25s 2ms/step - loss: 6019610624.0000 - mae: 7290.0928 - val_loss: 7686084608.0000 - val_mae: 11314.8809\n",
      "Epoch 150/400\n",
      "14767/14767 [==============================] - 25s 2ms/step - loss: 5923226112.0000 - mae: 7326.9351 - val_loss: 6705452032.0000 - val_mae: 6589.0874\n",
      "Epoch 151/400\n",
      "14767/14767 [==============================] - 25s 2ms/step - loss: 6000125440.0000 - mae: 7280.6323 - val_loss: 5966257664.0000 - val_mae: 7197.0879\n",
      "Epoch 152/400\n",
      "14767/14767 [==============================] - 25s 2ms/step - loss: 5906978304.0000 - mae: 7234.9731 - val_loss: 6453273088.0000 - val_mae: 8069.8164\n",
      "Epoch 153/400\n",
      "14767/14767 [==============================] - 25s 2ms/step - loss: 5964812288.0000 - mae: 7352.8203 - val_loss: 6654497280.0000 - val_mae: 5577.0718\n",
      "Epoch 154/400\n",
      "14767/14767 [==============================] - 25s 2ms/step - loss: 5770931712.0000 - mae: 7320.3369 - val_loss: 6323676672.0000 - val_mae: 7472.4478\n",
      "Epoch 155/400\n",
      "14767/14767 [==============================] - 25s 2ms/step - loss: 5800321536.0000 - mae: 7324.6562 - val_loss: 7396802560.0000 - val_mae: 5952.8872\n",
      "Epoch 156/400\n",
      "14767/14767 [==============================] - 25s 2ms/step - loss: 5871436288.0000 - mae: 7265.6426 - val_loss: 6547131904.0000 - val_mae: 6490.8076\n",
      "Epoch 157/400\n",
      "14767/14767 [==============================] - 25s 2ms/step - loss: 6029482496.0000 - mae: 7353.8936 - val_loss: 5872016896.0000 - val_mae: 6494.3105\n",
      "Epoch 158/400\n",
      "14767/14767 [==============================] - 25s 2ms/step - loss: 5772482048.0000 - mae: 7313.5928 - val_loss: 6271082496.0000 - val_mae: 7689.0342\n",
      "Epoch 159/400\n",
      "14767/14767 [==============================] - 25s 2ms/step - loss: 5824558080.0000 - mae: 7463.9590 - val_loss: 7875016704.0000 - val_mae: 6190.8154\n",
      "Epoch 160/400\n",
      "14767/14767 [==============================] - 25s 2ms/step - loss: 5891088896.0000 - mae: 7374.7075 - val_loss: 7522469376.0000 - val_mae: 6692.6851\n",
      "Epoch 161/400\n",
      "14767/14767 [==============================] - 25s 2ms/step - loss: 5865124864.0000 - mae: 7552.4209 - val_loss: 7487535104.0000 - val_mae: 5401.1719\n",
      "Epoch 162/400\n",
      "14767/14767 [==============================] - 25s 2ms/step - loss: 5772551680.0000 - mae: 7314.1338 - val_loss: 6113137152.0000 - val_mae: 6809.0117\n",
      "Epoch 163/400\n",
      "14767/14767 [==============================] - 25s 2ms/step - loss: 5816279040.0000 - mae: 7356.4185 - val_loss: 6170221056.0000 - val_mae: 7309.6084\n",
      "Epoch 164/400\n",
      "14767/14767 [==============================] - 25s 2ms/step - loss: 5739899392.0000 - mae: 7425.3818 - val_loss: 6505343488.0000 - val_mae: 7325.0850\n",
      "Epoch 165/400\n",
      "14767/14767 [==============================] - 25s 2ms/step - loss: 5735349760.0000 - mae: 7344.9478 - val_loss: 7640452608.0000 - val_mae: 9526.1855\n",
      "Epoch 166/400\n",
      "14767/14767 [==============================] - 25s 2ms/step - loss: 5860046336.0000 - mae: 7426.0000 - val_loss: 5759066624.0000 - val_mae: 10446.0664\n",
      "Epoch 167/400\n",
      "14767/14767 [==============================] - 25s 2ms/step - loss: 5874906624.0000 - mae: 7215.0771 - val_loss: 6293120000.0000 - val_mae: 10675.8750\n",
      "Epoch 168/400\n",
      "14767/14767 [==============================] - 25s 2ms/step - loss: 5793809408.0000 - mae: 7360.0366 - val_loss: 7193651712.0000 - val_mae: 5352.8970\n",
      "Epoch 169/400\n",
      "14767/14767 [==============================] - 25s 2ms/step - loss: 5766807040.0000 - mae: 7402.0347 - val_loss: 7402347008.0000 - val_mae: 9741.8877\n",
      "Epoch 170/400\n",
      "14767/14767 [==============================] - 25s 2ms/step - loss: 5989600768.0000 - mae: 7350.4121 - val_loss: 6803081728.0000 - val_mae: 6965.8286\n",
      "Epoch 171/400\n",
      "14767/14767 [==============================] - 25s 2ms/step - loss: 5690063872.0000 - mae: 7302.6680 - val_loss: 6602500608.0000 - val_mae: 9567.6416\n",
      "Epoch 172/400\n",
      "14767/14767 [==============================] - 25s 2ms/step - loss: 5771062784.0000 - mae: 7179.5811 - val_loss: 6481205760.0000 - val_mae: 8968.8203\n",
      "Epoch 173/400\n",
      "14767/14767 [==============================] - 25s 2ms/step - loss: 5908930560.0000 - mae: 7334.2866 - val_loss: 6643703296.0000 - val_mae: 5493.7930\n",
      "Epoch 174/400\n",
      "14767/14767 [==============================] - 25s 2ms/step - loss: 5843357184.0000 - mae: 7398.1011 - val_loss: 7147848192.0000 - val_mae: 5039.5269\n",
      "Epoch 175/400\n",
      "14767/14767 [==============================] - 25s 2ms/step - loss: 5764846592.0000 - mae: 7572.5737 - val_loss: 7091527168.0000 - val_mae: 8722.6172\n",
      "Epoch 176/400\n",
      "14767/14767 [==============================] - 25s 2ms/step - loss: 5766272000.0000 - mae: 7601.5605 - val_loss: 6140960256.0000 - val_mae: 5668.1118\n",
      "Epoch 177/400\n",
      "14767/14767 [==============================] - 25s 2ms/step - loss: 5804204032.0000 - mae: 7478.7056 - val_loss: 7154994176.0000 - val_mae: 8841.2041\n",
      "Epoch 178/400\n",
      "14767/14767 [==============================] - 25s 2ms/step - loss: 5866804224.0000 - mae: 7526.9995 - val_loss: 5845787136.0000 - val_mae: 7435.5229\n",
      "Epoch 179/400\n",
      "14767/14767 [==============================] - 25s 2ms/step - loss: 5792523264.0000 - mae: 7620.7729 - val_loss: 6008911872.0000 - val_mae: 6516.2012\n",
      "Epoch 180/400\n",
      "14767/14767 [==============================] - 25s 2ms/step - loss: 5807465472.0000 - mae: 7487.5864 - val_loss: 5625553920.0000 - val_mae: 6460.2983\n",
      "Epoch 181/400\n",
      "14767/14767 [==============================] - 25s 2ms/step - loss: 5664624128.0000 - mae: 7431.2734 - val_loss: 7323403264.0000 - val_mae: 10020.2197\n",
      "Epoch 182/400\n",
      "14767/14767 [==============================] - 25s 2ms/step - loss: 5671806976.0000 - mae: 7583.9214 - val_loss: 6482752000.0000 - val_mae: 5982.3374\n",
      "Epoch 183/400\n",
      "14767/14767 [==============================] - 25s 2ms/step - loss: 5663030784.0000 - mae: 7378.4497 - val_loss: 6854020096.0000 - val_mae: 9016.1484\n",
      "Epoch 184/400\n",
      "14767/14767 [==============================] - 25s 2ms/step - loss: 5516635648.0000 - mae: 7364.9731 - val_loss: 6297081856.0000 - val_mae: 8792.5029\n",
      "Epoch 185/400\n",
      "14767/14767 [==============================] - 25s 2ms/step - loss: 5391591936.0000 - mae: 7486.6694 - val_loss: 6579685888.0000 - val_mae: 5654.1865\n",
      "Epoch 186/400\n",
      "14767/14767 [==============================] - 25s 2ms/step - loss: 5723901952.0000 - mae: 7568.0386 - val_loss: 6424272896.0000 - val_mae: 9249.5371\n",
      "Epoch 187/400\n",
      "14767/14767 [==============================] - 25s 2ms/step - loss: 5745341952.0000 - mae: 7623.7852 - val_loss: 6335911936.0000 - val_mae: 14483.6562\n",
      "Epoch 188/400\n",
      "14767/14767 [==============================] - 25s 2ms/step - loss: 5615897600.0000 - mae: 7350.1772 - val_loss: 6273525760.0000 - val_mae: 5483.7964\n",
      "Epoch 189/400\n",
      "14767/14767 [==============================] - 25s 2ms/step - loss: 5830943744.0000 - mae: 7337.4956 - val_loss: 5658647552.0000 - val_mae: 7996.9683\n",
      "Epoch 190/400\n",
      "14767/14767 [==============================] - 25s 2ms/step - loss: 5630089216.0000 - mae: 7174.0249 - val_loss: 6192212992.0000 - val_mae: 5503.7954\n",
      "Epoch 191/400\n",
      "14767/14767 [==============================] - 25s 2ms/step - loss: 5716075008.0000 - mae: 7330.4585 - val_loss: 6006096896.0000 - val_mae: 8579.5020\n",
      "Epoch 192/400\n",
      "14767/14767 [==============================] - 25s 2ms/step - loss: 5659522048.0000 - mae: 7593.0640 - val_loss: 7068061184.0000 - val_mae: 5932.1812\n",
      "Epoch 193/400\n",
      "14767/14767 [==============================] - 25s 2ms/step - loss: 5633373184.0000 - mae: 7351.7124 - val_loss: 6437085696.0000 - val_mae: 6565.0122\n",
      "Epoch 194/400\n",
      "14767/14767 [==============================] - 25s 2ms/step - loss: 5726219264.0000 - mae: 7459.1387 - val_loss: 5780439040.0000 - val_mae: 7207.6387\n",
      "Epoch 195/400\n",
      "14767/14767 [==============================] - 25s 2ms/step - loss: 5580907008.0000 - mae: 7290.9878 - val_loss: 6190695936.0000 - val_mae: 7706.9263\n",
      "Epoch 196/400\n",
      "14767/14767 [==============================] - 25s 2ms/step - loss: 5903945728.0000 - mae: 7506.1069 - val_loss: 6537558016.0000 - val_mae: 8141.7021\n",
      "Epoch 197/400\n",
      "14767/14767 [==============================] - 25s 2ms/step - loss: 5675658752.0000 - mae: 7283.7974 - val_loss: 7135688704.0000 - val_mae: 5733.1240\n",
      "Epoch 198/400\n",
      "14767/14767 [==============================] - 25s 2ms/step - loss: 5778175488.0000 - mae: 7359.6577 - val_loss: 6709779968.0000 - val_mae: 6485.4673\n",
      "Epoch 199/400\n",
      "14767/14767 [==============================] - 25s 2ms/step - loss: 5860148736.0000 - mae: 7332.0361 - val_loss: 6283581440.0000 - val_mae: 5849.6304\n",
      "Epoch 200/400\n",
      "14767/14767 [==============================] - 25s 2ms/step - loss: 5581690368.0000 - mae: 7303.4429 - val_loss: 6432796160.0000 - val_mae: 8961.3506\n",
      "Epoch 201/400\n",
      "14767/14767 [==============================] - 25s 2ms/step - loss: 5539212800.0000 - mae: 7362.2910 - val_loss: 6668396032.0000 - val_mae: 16639.0645\n",
      "Epoch 202/400\n",
      "14767/14767 [==============================] - 25s 2ms/step - loss: 5709778944.0000 - mae: 7564.6084 - val_loss: 7420846592.0000 - val_mae: 11313.6123\n",
      "Epoch 203/400\n",
      "14767/14767 [==============================] - 25s 2ms/step - loss: 5512748032.0000 - mae: 7461.1221 - val_loss: 7210277888.0000 - val_mae: 15003.7188\n",
      "Epoch 204/400\n",
      "14767/14767 [==============================] - 25s 2ms/step - loss: 5678209024.0000 - mae: 7334.2729 - val_loss: 5968260608.0000 - val_mae: 7287.7534\n",
      "Epoch 205/400\n",
      "14767/14767 [==============================] - 25s 2ms/step - loss: 5804419584.0000 - mae: 7492.6172 - val_loss: 6609644544.0000 - val_mae: 7552.3564\n",
      "Epoch 206/400\n",
      "14767/14767 [==============================] - 25s 2ms/step - loss: 5352727552.0000 - mae: 7356.7329 - val_loss: 7904173056.0000 - val_mae: 5343.0186\n",
      "Epoch 207/400\n",
      "14767/14767 [==============================] - 25s 2ms/step - loss: 5627300864.0000 - mae: 8307.6973 - val_loss: 6864795648.0000 - val_mae: 6303.0854\n",
      "Epoch 208/400\n",
      "14767/14767 [==============================] - 25s 2ms/step - loss: 5770010624.0000 - mae: 8202.9902 - val_loss: 6904275968.0000 - val_mae: 7037.9673\n",
      "Epoch 209/400\n",
      "14767/14767 [==============================] - 25s 2ms/step - loss: 5852055552.0000 - mae: 8068.3257 - val_loss: 6427972096.0000 - val_mae: 6937.9658\n",
      "Epoch 210/400\n",
      "14767/14767 [==============================] - 25s 2ms/step - loss: 5793297920.0000 - mae: 8007.6792 - val_loss: 7281628160.0000 - val_mae: 8360.5322\n",
      "Epoch 211/400\n",
      "14767/14767 [==============================] - 25s 2ms/step - loss: 5621338112.0000 - mae: 7734.1372 - val_loss: 6778640896.0000 - val_mae: 11311.7939\n",
      "Epoch 212/400\n",
      "14767/14767 [==============================] - 25s 2ms/step - loss: 5590028800.0000 - mae: 7592.8672 - val_loss: 5357135872.0000 - val_mae: 6116.6953\n",
      "Epoch 213/400\n",
      "14767/14767 [==============================] - 25s 2ms/step - loss: 5560076288.0000 - mae: 7507.6118 - val_loss: 7217107968.0000 - val_mae: 6056.3730\n",
      "Epoch 214/400\n",
      "14767/14767 [==============================] - 25s 2ms/step - loss: 5612905472.0000 - mae: 7462.2627 - val_loss: 6928317440.0000 - val_mae: 8348.3184\n",
      "Epoch 215/400\n",
      "14767/14767 [==============================] - 25s 2ms/step - loss: 5644414464.0000 - mae: 7687.3481 - val_loss: 6246529536.0000 - val_mae: 6434.4751\n",
      "Epoch 216/400\n",
      "14767/14767 [==============================] - 25s 2ms/step - loss: 5591790080.0000 - mae: 7492.8452 - val_loss: 5858413056.0000 - val_mae: 10471.0361\n",
      "Epoch 217/400\n",
      "14767/14767 [==============================] - 25s 2ms/step - loss: 5782017536.0000 - mae: 7473.9536 - val_loss: 6538793984.0000 - val_mae: 5489.5503\n",
      "Epoch 218/400\n",
      "14767/14767 [==============================] - 25s 2ms/step - loss: 5504307200.0000 - mae: 7452.8940 - val_loss: 6352783360.0000 - val_mae: 4963.9185\n",
      "Epoch 219/400\n",
      "14767/14767 [==============================] - 25s 2ms/step - loss: 5546651136.0000 - mae: 7632.9727 - val_loss: 9582695424.0000 - val_mae: 9586.6152\n",
      "Epoch 220/400\n",
      "14767/14767 [==============================] - 26s 2ms/step - loss: 5724215296.0000 - mae: 7522.2881 - val_loss: 6820766720.0000 - val_mae: 9667.4863\n",
      "Epoch 221/400\n",
      "14767/14767 [==============================] - 26s 2ms/step - loss: 5800464896.0000 - mae: 7473.3945 - val_loss: 6973443584.0000 - val_mae: 7783.8979\n",
      "Epoch 222/400\n",
      "14767/14767 [==============================] - 27s 2ms/step - loss: 5787305984.0000 - mae: 7575.1733 - val_loss: 6908987904.0000 - val_mae: 6095.4976\n",
      "Epoch 223/400\n",
      "14767/14767 [==============================] - 25s 2ms/step - loss: 5337285120.0000 - mae: 7349.0815 - val_loss: 6992433152.0000 - val_mae: 5482.0059\n",
      "Epoch 224/400\n",
      "14767/14767 [==============================] - 25s 2ms/step - loss: 5570044928.0000 - mae: 7150.7788 - val_loss: 9516121088.0000 - val_mae: 12857.8936\n",
      "Epoch 225/400\n",
      "14767/14767 [==============================] - 25s 2ms/step - loss: 5665320960.0000 - mae: 7365.6260 - val_loss: 7567050752.0000 - val_mae: 5485.7031\n",
      "Epoch 226/400\n",
      "14767/14767 [==============================] - 25s 2ms/step - loss: 5696709632.0000 - mae: 7285.8950 - val_loss: 5985997312.0000 - val_mae: 5498.6040\n",
      "Epoch 227/400\n",
      "14767/14767 [==============================] - 25s 2ms/step - loss: 5590832128.0000 - mae: 7273.6733 - val_loss: 6792762368.0000 - val_mae: 8060.3145\n",
      "Epoch 228/400\n",
      "14767/14767 [==============================] - 25s 2ms/step - loss: 5593021952.0000 - mae: 7282.1206 - val_loss: 6546786304.0000 - val_mae: 9995.2852\n",
      "Epoch 229/400\n",
      "14767/14767 [==============================] - 25s 2ms/step - loss: 5501498368.0000 - mae: 7166.4385 - val_loss: 7581536256.0000 - val_mae: 6142.9644\n",
      "Epoch 230/400\n",
      "14767/14767 [==============================] - 25s 2ms/step - loss: 5537178624.0000 - mae: 7269.4287 - val_loss: 6305744896.0000 - val_mae: 6172.8799\n",
      "Epoch 231/400\n",
      "14767/14767 [==============================] - 25s 2ms/step - loss: 5541038080.0000 - mae: 7306.8550 - val_loss: 5756339712.0000 - val_mae: 7622.6411\n",
      "Epoch 232/400\n",
      "14767/14767 [==============================] - 25s 2ms/step - loss: 5491156480.0000 - mae: 7281.8286 - val_loss: 5777942528.0000 - val_mae: 6098.9399\n",
      "Epoch 233/400\n",
      "14767/14767 [==============================] - 25s 2ms/step - loss: 5574600704.0000 - mae: 7310.4121 - val_loss: 6042540032.0000 - val_mae: 7244.3706\n",
      "Epoch 234/400\n",
      "14767/14767 [==============================] - 25s 2ms/step - loss: 5540027904.0000 - mae: 7313.1592 - val_loss: 6918349824.0000 - val_mae: 9134.1523\n",
      "Epoch 235/400\n",
      "14767/14767 [==============================] - 25s 2ms/step - loss: 5689972736.0000 - mae: 7405.7847 - val_loss: 6270754816.0000 - val_mae: 6837.4673\n",
      "Epoch 236/400\n",
      "14767/14767 [==============================] - 25s 2ms/step - loss: 5501623296.0000 - mae: 7475.2627 - val_loss: 5539499008.0000 - val_mae: 6992.3120\n",
      "Epoch 237/400\n",
      "14767/14767 [==============================] - 25s 2ms/step - loss: 5604922880.0000 - mae: 7253.3994 - val_loss: 7000619520.0000 - val_mae: 4945.4424\n",
      "Epoch 238/400\n",
      "14767/14767 [==============================] - 25s 2ms/step - loss: 5623387136.0000 - mae: 7318.4971 - val_loss: 5697207808.0000 - val_mae: 10742.1289\n",
      "Epoch 239/400\n",
      "14767/14767 [==============================] - 25s 2ms/step - loss: 5397904896.0000 - mae: 7197.4570 - val_loss: 7661985792.0000 - val_mae: 5869.0742\n",
      "Epoch 240/400\n",
      "14767/14767 [==============================] - 25s 2ms/step - loss: 5620071936.0000 - mae: 7492.1138 - val_loss: 5771549696.0000 - val_mae: 5835.1035\n",
      "Epoch 241/400\n",
      "14767/14767 [==============================] - 25s 2ms/step - loss: 5540883968.0000 - mae: 7178.5659 - val_loss: 5849635840.0000 - val_mae: 9562.9990\n",
      "Epoch 242/400\n",
      "14767/14767 [==============================] - 25s 2ms/step - loss: 5477097984.0000 - mae: 7213.5874 - val_loss: 6061989376.0000 - val_mae: 6636.6606\n",
      "Epoch 243/400\n",
      "14767/14767 [==============================] - 25s 2ms/step - loss: 5492358656.0000 - mae: 7195.4194 - val_loss: 6549156352.0000 - val_mae: 5157.0933\n",
      "Epoch 244/400\n",
      "14767/14767 [==============================] - 26s 2ms/step - loss: 5325030400.0000 - mae: 7220.6826 - val_loss: 7143911936.0000 - val_mae: 5426.7236\n",
      "Epoch 245/400\n",
      "14767/14767 [==============================] - 26s 2ms/step - loss: 5433627648.0000 - mae: 7276.4541 - val_loss: 6960724992.0000 - val_mae: 6407.9629\n",
      "Epoch 246/400\n",
      "14767/14767 [==============================] - 26s 2ms/step - loss: 5421222912.0000 - mae: 7171.3125 - val_loss: 6971783680.0000 - val_mae: 19593.2715\n",
      "Epoch 247/400\n",
      "14767/14767 [==============================] - 25s 2ms/step - loss: 5360863744.0000 - mae: 7362.8228 - val_loss: 7409254912.0000 - val_mae: 7376.2305\n",
      "Epoch 248/400\n",
      "14767/14767 [==============================] - 26s 2ms/step - loss: 5573453312.0000 - mae: 7508.7153 - val_loss: 5925927936.0000 - val_mae: 6183.4370\n",
      "Epoch 249/400\n",
      "14767/14767 [==============================] - 26s 2ms/step - loss: 5483122176.0000 - mae: 7297.5669 - val_loss: 5511487488.0000 - val_mae: 5718.5874\n",
      "Epoch 250/400\n",
      "14767/14767 [==============================] - 26s 2ms/step - loss: 5648821760.0000 - mae: 7646.3281 - val_loss: 5412067328.0000 - val_mae: 6714.5322\n",
      "Epoch 251/400\n",
      "14767/14767 [==============================] - 25s 2ms/step - loss: 5567459840.0000 - mae: 7358.8584 - val_loss: 5615030784.0000 - val_mae: 7016.4316\n",
      "Epoch 252/400\n",
      "14767/14767 [==============================] - 26s 2ms/step - loss: 5516920320.0000 - mae: 7340.7471 - val_loss: 6604646912.0000 - val_mae: 5613.9746\n",
      "Epoch 253/400\n",
      "14767/14767 [==============================] - 25s 2ms/step - loss: 5518698496.0000 - mae: 7265.1548 - val_loss: 5657289728.0000 - val_mae: 7245.2129\n",
      "Epoch 254/400\n",
      "14767/14767 [==============================] - 25s 2ms/step - loss: 5393522176.0000 - mae: 7063.0376 - val_loss: 6951368704.0000 - val_mae: 9157.6240\n",
      "Epoch 255/400\n",
      "14767/14767 [==============================] - 26s 2ms/step - loss: 5562571264.0000 - mae: 7355.5532 - val_loss: 5283281408.0000 - val_mae: 5700.8564\n",
      "Epoch 256/400\n",
      "14767/14767 [==============================] - 25s 2ms/step - loss: 5547739648.0000 - mae: 7392.9478 - val_loss: 5878875136.0000 - val_mae: 6531.9116\n",
      "Epoch 257/400\n",
      "14767/14767 [==============================] - 25s 2ms/step - loss: 5342461440.0000 - mae: 7250.0244 - val_loss: 5902886400.0000 - val_mae: 6934.2441\n",
      "Epoch 258/400\n",
      "14767/14767 [==============================] - 25s 2ms/step - loss: 5328670208.0000 - mae: 7161.2041 - val_loss: 6564444160.0000 - val_mae: 6985.7012\n",
      "Epoch 259/400\n",
      "14767/14767 [==============================] - 25s 2ms/step - loss: 5469302272.0000 - mae: 7491.9517 - val_loss: 6389963264.0000 - val_mae: 8952.8047\n",
      "Epoch 260/400\n",
      "14767/14767 [==============================] - 25s 2ms/step - loss: 5476946432.0000 - mae: 7305.0439 - val_loss: 7421888000.0000 - val_mae: 10774.2119\n",
      "Epoch 261/400\n",
      "14767/14767 [==============================] - 25s 2ms/step - loss: 5245919232.0000 - mae: 7189.2358 - val_loss: 7618128896.0000 - val_mae: 5251.7959\n",
      "Epoch 262/400\n",
      "14767/14767 [==============================] - 25s 2ms/step - loss: 5482864128.0000 - mae: 7258.9653 - val_loss: 6684220416.0000 - val_mae: 5216.9634\n",
      "Epoch 263/400\n",
      "14767/14767 [==============================] - 25s 2ms/step - loss: 5352331776.0000 - mae: 7221.2002 - val_loss: 5882694656.0000 - val_mae: 6441.5234\n",
      "Epoch 264/400\n",
      "14767/14767 [==============================] - 25s 2ms/step - loss: 5451418112.0000 - mae: 7366.0161 - val_loss: 5906306048.0000 - val_mae: 21841.6113\n",
      "Epoch 265/400\n",
      "14767/14767 [==============================] - 26s 2ms/step - loss: 5373320192.0000 - mae: 7396.5889 - val_loss: 6464029696.0000 - val_mae: 12333.1055\n",
      "Epoch 266/400\n",
      "14767/14767 [==============================] - 26s 2ms/step - loss: 5465473024.0000 - mae: 7196.9917 - val_loss: 5512972288.0000 - val_mae: 7675.0176\n",
      "Epoch 267/400\n",
      "14767/14767 [==============================] - 26s 2ms/step - loss: 5235508224.0000 - mae: 7349.4883 - val_loss: 6793876992.0000 - val_mae: 10386.9180\n",
      "Epoch 268/400\n",
      "14767/14767 [==============================] - 25s 2ms/step - loss: 5263497216.0000 - mae: 7166.6772 - val_loss: 7779741184.0000 - val_mae: 5421.4126\n",
      "Epoch 269/400\n",
      "14767/14767 [==============================] - 25s 2ms/step - loss: 5525279232.0000 - mae: 7351.8008 - val_loss: 5564826624.0000 - val_mae: 7503.0186\n",
      "Epoch 270/400\n",
      "14767/14767 [==============================] - 25s 2ms/step - loss: 5466632192.0000 - mae: 7365.5581 - val_loss: 7505844736.0000 - val_mae: 6249.5078\n",
      "Epoch 271/400\n",
      "14767/14767 [==============================] - 25s 2ms/step - loss: 5545219584.0000 - mae: 7360.9893 - val_loss: 5364752384.0000 - val_mae: 6772.6636\n",
      "Epoch 272/400\n",
      "14767/14767 [==============================] - 26s 2ms/step - loss: 5502240256.0000 - mae: 7339.0723 - val_loss: 5442433536.0000 - val_mae: 8387.5459\n",
      "Epoch 273/400\n",
      "14767/14767 [==============================] - 26s 2ms/step - loss: 5498177024.0000 - mae: 7277.5264 - val_loss: 6167910912.0000 - val_mae: 7145.7832\n",
      "Epoch 274/400\n",
      "14767/14767 [==============================] - 26s 2ms/step - loss: 5442204160.0000 - mae: 7107.3687 - val_loss: 5321308160.0000 - val_mae: 8701.2783\n",
      "Epoch 275/400\n",
      "14767/14767 [==============================] - 26s 2ms/step - loss: 5584226816.0000 - mae: 7451.8071 - val_loss: 5550139392.0000 - val_mae: 8060.3706\n",
      "Epoch 276/400\n",
      "14767/14767 [==============================] - 26s 2ms/step - loss: 5514351104.0000 - mae: 7505.8936 - val_loss: 6233527296.0000 - val_mae: 8226.3252\n",
      "Epoch 277/400\n",
      "14767/14767 [==============================] - 25s 2ms/step - loss: 5489667072.0000 - mae: 7379.2031 - val_loss: 6135322112.0000 - val_mae: 6324.6289\n",
      "Epoch 278/400\n",
      "14767/14767 [==============================] - 25s 2ms/step - loss: 5485492736.0000 - mae: 7432.2773 - val_loss: 6953036800.0000 - val_mae: 7180.2627\n",
      "Epoch 279/400\n",
      "14767/14767 [==============================] - 25s 2ms/step - loss: 5497193472.0000 - mae: 7292.4038 - val_loss: 7287296000.0000 - val_mae: 9132.4189\n",
      "Epoch 280/400\n",
      "14767/14767 [==============================] - 26s 2ms/step - loss: 5482920448.0000 - mae: 7312.4771 - val_loss: 5981406720.0000 - val_mae: 6511.0771\n",
      "Epoch 281/400\n",
      "14767/14767 [==============================] - 25s 2ms/step - loss: 5263031808.0000 - mae: 7273.1353 - val_loss: 5865973248.0000 - val_mae: 6079.2075\n",
      "Epoch 282/400\n",
      "14767/14767 [==============================] - 25s 2ms/step - loss: 5495152640.0000 - mae: 7550.8174 - val_loss: 6066807296.0000 - val_mae: 19968.5840\n",
      "Epoch 283/400\n",
      "14767/14767 [==============================] - 25s 2ms/step - loss: 5431669248.0000 - mae: 7309.4814 - val_loss: 6542496768.0000 - val_mae: 6666.5483\n",
      "Epoch 284/400\n",
      "14767/14767 [==============================] - 26s 2ms/step - loss: 5477384192.0000 - mae: 7315.9229 - val_loss: 5364521984.0000 - val_mae: 5317.4907\n",
      "Epoch 285/400\n",
      "14767/14767 [==============================] - 25s 2ms/step - loss: 5255298048.0000 - mae: 7218.7222 - val_loss: 6839924736.0000 - val_mae: 5748.1450\n",
      "Epoch 286/400\n",
      "14767/14767 [==============================] - 25s 2ms/step - loss: 5360041472.0000 - mae: 7309.3027 - val_loss: 10860870656.0000 - val_mae: 10678.6426\n",
      "Epoch 287/400\n",
      "14767/14767 [==============================] - 25s 2ms/step - loss: 5399357952.0000 - mae: 7414.1372 - val_loss: 6308276736.0000 - val_mae: 6248.7490\n",
      "Epoch 288/400\n",
      "14767/14767 [==============================] - 25s 2ms/step - loss: 5511912448.0000 - mae: 7722.2197 - val_loss: 5579999232.0000 - val_mae: 6164.1582\n",
      "Epoch 289/400\n",
      "14767/14767 [==============================] - 26s 2ms/step - loss: 5394933760.0000 - mae: 7385.2778 - val_loss: 6796092928.0000 - val_mae: 5202.1919\n",
      "Epoch 290/400\n",
      "14767/14767 [==============================] - 26s 2ms/step - loss: 5561202688.0000 - mae: 7315.9819 - val_loss: 5433971200.0000 - val_mae: 7723.7285\n",
      "Epoch 291/400\n",
      "14767/14767 [==============================] - 26s 2ms/step - loss: 5253998080.0000 - mae: 7411.5122 - val_loss: 5508728320.0000 - val_mae: 6191.1382\n",
      "Epoch 292/400\n",
      "14767/14767 [==============================] - 26s 2ms/step - loss: 5505703424.0000 - mae: 7447.5654 - val_loss: 5331486208.0000 - val_mae: 5921.2505\n",
      "Epoch 293/400\n",
      "14767/14767 [==============================] - 25s 2ms/step - loss: 5551878144.0000 - mae: 7242.7075 - val_loss: 6228453376.0000 - val_mae: 10855.2188\n",
      "Epoch 294/400\n",
      "14767/14767 [==============================] - 26s 2ms/step - loss: 5268659200.0000 - mae: 7129.7949 - val_loss: 6235069440.0000 - val_mae: 7694.4897\n",
      "Epoch 295/400\n",
      "14767/14767 [==============================] - 26s 2ms/step - loss: 5190757376.0000 - mae: 7186.0317 - val_loss: 5255563776.0000 - val_mae: 5483.4790\n",
      "Epoch 296/400\n",
      "14767/14767 [==============================] - 26s 2ms/step - loss: 5194089472.0000 - mae: 7179.3115 - val_loss: 6891895296.0000 - val_mae: 19113.3262\n",
      "Epoch 297/400\n",
      "14767/14767 [==============================] - 26s 2ms/step - loss: 5248653312.0000 - mae: 7125.0020 - val_loss: 5405658624.0000 - val_mae: 5117.2808\n",
      "Epoch 298/400\n",
      "14767/14767 [==============================] - 26s 2ms/step - loss: 5342862336.0000 - mae: 7224.8525 - val_loss: 5985419776.0000 - val_mae: 5189.9160\n",
      "Epoch 299/400\n",
      "14767/14767 [==============================] - 26s 2ms/step - loss: 5426789376.0000 - mae: 7380.0718 - val_loss: 7135664128.0000 - val_mae: 13603.2744\n",
      "Epoch 300/400\n",
      "14767/14767 [==============================] - 26s 2ms/step - loss: 5520126976.0000 - mae: 7536.5654 - val_loss: 6035563520.0000 - val_mae: 7457.6860\n",
      "Epoch 301/400\n",
      "14767/14767 [==============================] - 26s 2ms/step - loss: 5544874496.0000 - mae: 7521.0078 - val_loss: 7605289984.0000 - val_mae: 8265.1670\n",
      "Epoch 302/400\n",
      "14767/14767 [==============================] - 26s 2ms/step - loss: 5133541888.0000 - mae: 7246.6270 - val_loss: 9248176128.0000 - val_mae: 10538.6924\n",
      "Epoch 303/400\n",
      "14767/14767 [==============================] - 26s 2ms/step - loss: 5186871808.0000 - mae: 7322.3511 - val_loss: 5467211264.0000 - val_mae: 8220.0371\n",
      "Epoch 304/400\n",
      "14767/14767 [==============================] - 26s 2ms/step - loss: 5358907392.0000 - mae: 7175.6514 - val_loss: 5344383488.0000 - val_mae: 7025.1289\n",
      "Epoch 305/400\n",
      "14767/14767 [==============================] - 26s 2ms/step - loss: 5318702080.0000 - mae: 7193.3145 - val_loss: 8765604864.0000 - val_mae: 12603.9648\n",
      "Epoch 306/400\n",
      "14767/14767 [==============================] - 26s 2ms/step - loss: 5525991424.0000 - mae: 7200.5181 - val_loss: 5373004288.0000 - val_mae: 7100.0000\n",
      "Epoch 307/400\n",
      "14767/14767 [==============================] - 26s 2ms/step - loss: 5286137856.0000 - mae: 7342.2207 - val_loss: 6007026176.0000 - val_mae: 5555.1504\n",
      "Epoch 308/400\n",
      "14767/14767 [==============================] - 26s 2ms/step - loss: 5284091392.0000 - mae: 7274.0352 - val_loss: 7528124416.0000 - val_mae: 6662.8589\n",
      "Epoch 309/400\n",
      "14767/14767 [==============================] - 26s 2ms/step - loss: 5384023552.0000 - mae: 7229.1255 - val_loss: 5609412608.0000 - val_mae: 7847.0400\n",
      "Epoch 310/400\n",
      "14767/14767 [==============================] - 26s 2ms/step - loss: 5383572480.0000 - mae: 7213.4893 - val_loss: 5611203584.0000 - val_mae: 9413.8672\n",
      "Epoch 311/400\n",
      "14767/14767 [==============================] - 25s 2ms/step - loss: 5256901120.0000 - mae: 7297.1377 - val_loss: 7487094784.0000 - val_mae: 5376.7666\n",
      "Epoch 312/400\n",
      "14767/14767 [==============================] - 26s 2ms/step - loss: 5304159744.0000 - mae: 7773.5698 - val_loss: 5368367616.0000 - val_mae: 6001.5742\n",
      "Epoch 313/400\n",
      "14767/14767 [==============================] - 26s 2ms/step - loss: 5538966528.0000 - mae: 8096.7969 - val_loss: 5640446976.0000 - val_mae: 11502.8203\n",
      "Epoch 314/400\n",
      "14767/14767 [==============================] - 26s 2ms/step - loss: 5397209088.0000 - mae: 7562.3237 - val_loss: 5533809152.0000 - val_mae: 10381.0742\n",
      "Epoch 315/400\n",
      "14767/14767 [==============================] - 26s 2ms/step - loss: 5440399360.0000 - mae: 7833.1846 - val_loss: 5543127040.0000 - val_mae: 5599.4927\n",
      "Epoch 316/400\n",
      "14767/14767 [==============================] - 26s 2ms/step - loss: 5461046272.0000 - mae: 7517.7129 - val_loss: 6419540480.0000 - val_mae: 16588.2324\n",
      "Epoch 317/400\n",
      "14767/14767 [==============================] - 26s 2ms/step - loss: 5291699712.0000 - mae: 7303.8843 - val_loss: 6043781632.0000 - val_mae: 7673.6543\n",
      "Epoch 318/400\n",
      "14767/14767 [==============================] - 26s 2ms/step - loss: 5377883648.0000 - mae: 7451.0850 - val_loss: 7247354880.0000 - val_mae: 9932.2393\n",
      "Epoch 319/400\n",
      "14767/14767 [==============================] - 26s 2ms/step - loss: 5288478720.0000 - mae: 7343.1714 - val_loss: 5277449216.0000 - val_mae: 14849.1230\n",
      "Epoch 320/400\n",
      "14767/14767 [==============================] - 26s 2ms/step - loss: 5342171648.0000 - mae: 7230.4932 - val_loss: 5785190400.0000 - val_mae: 6758.1377\n",
      "Epoch 321/400\n",
      "14767/14767 [==============================] - 26s 2ms/step - loss: 5366219264.0000 - mae: 7189.2236 - val_loss: 5612883968.0000 - val_mae: 6745.1001\n",
      "Epoch 322/400\n",
      "14767/14767 [==============================] - 26s 2ms/step - loss: 5219286528.0000 - mae: 7142.5068 - val_loss: 6927763456.0000 - val_mae: 5727.5229\n",
      "Epoch 323/400\n",
      "14767/14767 [==============================] - 26s 2ms/step - loss: 5406288384.0000 - mae: 7308.0479 - val_loss: 5885604352.0000 - val_mae: 9326.0078\n",
      "Epoch 324/400\n",
      "14767/14767 [==============================] - 26s 2ms/step - loss: 5142328320.0000 - mae: 7224.4219 - val_loss: 5781995008.0000 - val_mae: 15672.2217\n",
      "Epoch 325/400\n",
      "14767/14767 [==============================] - 26s 2ms/step - loss: 5083151360.0000 - mae: 7190.5679 - val_loss: 6890692096.0000 - val_mae: 5590.6172\n",
      "Epoch 326/400\n",
      "14767/14767 [==============================] - 26s 2ms/step - loss: 5283725824.0000 - mae: 7069.9839 - val_loss: 8443780096.0000 - val_mae: 10161.0352\n",
      "Epoch 327/400\n",
      "14767/14767 [==============================] - 26s 2ms/step - loss: 5262813184.0000 - mae: 7103.2437 - val_loss: 5585977856.0000 - val_mae: 6866.9790\n",
      "Epoch 328/400\n",
      "14767/14767 [==============================] - 26s 2ms/step - loss: 5269136896.0000 - mae: 7215.6348 - val_loss: 5528828416.0000 - val_mae: 6129.8872\n",
      "Epoch 329/400\n",
      "14767/14767 [==============================] - 26s 2ms/step - loss: 5364618752.0000 - mae: 7172.1841 - val_loss: 5199463936.0000 - val_mae: 6979.1182\n",
      "Epoch 330/400\n",
      "14767/14767 [==============================] - 26s 2ms/step - loss: 5196035072.0000 - mae: 7156.4502 - val_loss: 5111009280.0000 - val_mae: 6682.6343\n",
      "Epoch 331/400\n",
      "14767/14767 [==============================] - 26s 2ms/step - loss: 5295957504.0000 - mae: 7405.4663 - val_loss: 5153401344.0000 - val_mae: 6591.3335\n",
      "Epoch 332/400\n",
      "14767/14767 [==============================] - 26s 2ms/step - loss: 5175352832.0000 - mae: 7214.3457 - val_loss: 5238204416.0000 - val_mae: 8478.2998\n",
      "Epoch 333/400\n",
      "14767/14767 [==============================] - 26s 2ms/step - loss: 5402823168.0000 - mae: 7165.0254 - val_loss: 5801443840.0000 - val_mae: 7343.8325\n",
      "Epoch 334/400\n",
      "14767/14767 [==============================] - 26s 2ms/step - loss: 5127521280.0000 - mae: 7124.4727 - val_loss: 5062044672.0000 - val_mae: 8779.9287\n",
      "Epoch 335/400\n",
      "14767/14767 [==============================] - 26s 2ms/step - loss: 5067930112.0000 - mae: 7149.3364 - val_loss: 5307986944.0000 - val_mae: 5266.5527\n",
      "Epoch 336/400\n",
      "14767/14767 [==============================] - 26s 2ms/step - loss: 5208524800.0000 - mae: 7217.6235 - val_loss: 5047008256.0000 - val_mae: 5048.0913\n",
      "Epoch 337/400\n",
      "14767/14767 [==============================] - 26s 2ms/step - loss: 5224171520.0000 - mae: 7020.4639 - val_loss: 5573712384.0000 - val_mae: 13625.5059\n",
      "Epoch 338/400\n",
      "14767/14767 [==============================] - 26s 2ms/step - loss: 5508718592.0000 - mae: 7263.2729 - val_loss: 5970790912.0000 - val_mae: 10408.6953\n",
      "Epoch 339/400\n",
      "14767/14767 [==============================] - 26s 2ms/step - loss: 5380946944.0000 - mae: 7418.3916 - val_loss: 9077067776.0000 - val_mae: 9311.2471\n",
      "Epoch 340/400\n",
      "14767/14767 [==============================] - 26s 2ms/step - loss: 5272243200.0000 - mae: 7362.6162 - val_loss: 5730353152.0000 - val_mae: 10372.4004\n",
      "Epoch 341/400\n",
      "14767/14767 [==============================] - 26s 2ms/step - loss: 5447692800.0000 - mae: 7431.8984 - val_loss: 14510685184.0000 - val_mae: 13898.5156\n",
      "Epoch 342/400\n",
      "14767/14767 [==============================] - 26s 2ms/step - loss: 5396789248.0000 - mae: 7236.1138 - val_loss: 6268592128.0000 - val_mae: 6568.5801\n",
      "Epoch 343/400\n",
      "14767/14767 [==============================] - 26s 2ms/step - loss: 5317945344.0000 - mae: 7077.2764 - val_loss: 8152084992.0000 - val_mae: 20698.8086\n",
      "Epoch 344/400\n",
      "14767/14767 [==============================] - 26s 2ms/step - loss: 5317790720.0000 - mae: 7495.4155 - val_loss: 8243808768.0000 - val_mae: 19255.4883\n",
      "Epoch 345/400\n",
      "14767/14767 [==============================] - 26s 2ms/step - loss: 5145311232.0000 - mae: 7231.3301 - val_loss: 6657629184.0000 - val_mae: 23390.1602\n",
      "Epoch 346/400\n",
      "14767/14767 [==============================] - 26s 2ms/step - loss: 5239400960.0000 - mae: 7363.0620 - val_loss: 5455423488.0000 - val_mae: 6029.4521\n",
      "Epoch 347/400\n",
      "14767/14767 [==============================] - 26s 2ms/step - loss: 5198082560.0000 - mae: 7111.9150 - val_loss: 6838587904.0000 - val_mae: 5413.0464\n",
      "Epoch 348/400\n",
      "14767/14767 [==============================] - 26s 2ms/step - loss: 5210301952.0000 - mae: 7412.9019 - val_loss: 6874803200.0000 - val_mae: 10778.0918\n",
      "Epoch 349/400\n",
      "14767/14767 [==============================] - 26s 2ms/step - loss: 5218681856.0000 - mae: 7467.5254 - val_loss: 5570024960.0000 - val_mae: 7553.9966\n",
      "Epoch 350/400\n",
      "14767/14767 [==============================] - 26s 2ms/step - loss: 5695588352.0000 - mae: 8424.3057 - val_loss: 7280496128.0000 - val_mae: 8771.0254\n",
      "Epoch 351/400\n",
      "14767/14767 [==============================] - 26s 2ms/step - loss: 5545204736.0000 - mae: 8107.8770 - val_loss: 5493363712.0000 - val_mae: 7199.1406\n",
      "Epoch 352/400\n",
      "14767/14767 [==============================] - 26s 2ms/step - loss: 5545627136.0000 - mae: 7825.8745 - val_loss: 7799883264.0000 - val_mae: 6113.2637\n",
      "Epoch 353/400\n",
      "14767/14767 [==============================] - 26s 2ms/step - loss: 5209744384.0000 - mae: 7385.8828 - val_loss: 5699360768.0000 - val_mae: 5753.8691\n",
      "Epoch 354/400\n",
      "14767/14767 [==============================] - 26s 2ms/step - loss: 5264741376.0000 - mae: 7300.9170 - val_loss: 6009605632.0000 - val_mae: 7302.7114\n",
      "Epoch 355/400\n",
      "14767/14767 [==============================] - 26s 2ms/step - loss: 5251516416.0000 - mae: 7411.0269 - val_loss: 7145920512.0000 - val_mae: 6385.7031\n",
      "Epoch 356/400\n",
      "14767/14767 [==============================] - 26s 2ms/step - loss: 5228413952.0000 - mae: 7244.3794 - val_loss: 7395249152.0000 - val_mae: 6262.3052\n",
      "Epoch 357/400\n",
      "14767/14767 [==============================] - 26s 2ms/step - loss: 5138515456.0000 - mae: 7242.2305 - val_loss: 6212966400.0000 - val_mae: 6102.3286\n",
      "Epoch 358/400\n",
      "14767/14767 [==============================] - 26s 2ms/step - loss: 5182386176.0000 - mae: 7393.8828 - val_loss: 5780758016.0000 - val_mae: 7451.2046\n",
      "Epoch 359/400\n",
      "14767/14767 [==============================] - 26s 2ms/step - loss: 5297675776.0000 - mae: 7268.9692 - val_loss: 8302528000.0000 - val_mae: 5508.6724\n",
      "Epoch 360/400\n",
      "14767/14767 [==============================] - 26s 2ms/step - loss: 5214612480.0000 - mae: 7232.7754 - val_loss: 5053455872.0000 - val_mae: 8010.5767\n",
      "Epoch 361/400\n",
      "14767/14767 [==============================] - 26s 2ms/step - loss: 5149398528.0000 - mae: 7048.2651 - val_loss: 6209182720.0000 - val_mae: 5995.0161\n",
      "Epoch 362/400\n",
      "14767/14767 [==============================] - 26s 2ms/step - loss: 5281361408.0000 - mae: 7313.1558 - val_loss: 6900622848.0000 - val_mae: 9917.8125\n",
      "Epoch 363/400\n",
      "14767/14767 [==============================] - 26s 2ms/step - loss: 5349991424.0000 - mae: 7233.1860 - val_loss: 5580367872.0000 - val_mae: 8509.3447\n",
      "Epoch 364/400\n",
      "14767/14767 [==============================] - 26s 2ms/step - loss: 5215061504.0000 - mae: 7256.5620 - val_loss: 6641498112.0000 - val_mae: 7814.9854\n",
      "Epoch 365/400\n",
      "14767/14767 [==============================] - 26s 2ms/step - loss: 5225929728.0000 - mae: 7160.3560 - val_loss: 6542545920.0000 - val_mae: 5895.7520\n",
      "Epoch 366/400\n",
      "14767/14767 [==============================] - 26s 2ms/step - loss: 5132519936.0000 - mae: 7113.8398 - val_loss: 6254168064.0000 - val_mae: 5374.2881\n",
      "Epoch 367/400\n",
      "14767/14767 [==============================] - 26s 2ms/step - loss: 5229368320.0000 - mae: 7370.3970 - val_loss: 5932949504.0000 - val_mae: 24357.9980\n",
      "Epoch 368/400\n",
      "14767/14767 [==============================] - 26s 2ms/step - loss: 5322081792.0000 - mae: 7174.2319 - val_loss: 8499182080.0000 - val_mae: 10768.7168\n",
      "Epoch 369/400\n",
      "14767/14767 [==============================] - 26s 2ms/step - loss: 5125170176.0000 - mae: 7130.2017 - val_loss: 4975317504.0000 - val_mae: 8946.0928\n",
      "Epoch 370/400\n",
      "14767/14767 [==============================] - 26s 2ms/step - loss: 4977721344.0000 - mae: 7139.3379 - val_loss: 6579922944.0000 - val_mae: 6434.4390\n",
      "Epoch 371/400\n",
      "14767/14767 [==============================] - 26s 2ms/step - loss: 5103321600.0000 - mae: 7185.9395 - val_loss: 6202130432.0000 - val_mae: 8310.8096\n",
      "Epoch 372/400\n",
      "14767/14767 [==============================] - 26s 2ms/step - loss: 5176156160.0000 - mae: 7305.7798 - val_loss: 13567497216.0000 - val_mae: 13807.7471\n",
      "Epoch 373/400\n",
      "14767/14767 [==============================] - 26s 2ms/step - loss: 5261476864.0000 - mae: 7447.3726 - val_loss: 5636614656.0000 - val_mae: 6574.2217\n",
      "Epoch 374/400\n",
      "14767/14767 [==============================] - 26s 2ms/step - loss: 5091467264.0000 - mae: 7187.0112 - val_loss: 6137266688.0000 - val_mae: 5413.1968\n",
      "Epoch 375/400\n",
      "14767/14767 [==============================] - 26s 2ms/step - loss: 5276685824.0000 - mae: 7309.4526 - val_loss: 6116525568.0000 - val_mae: 7032.8833\n",
      "Epoch 376/400\n",
      "14767/14767 [==============================] - 26s 2ms/step - loss: 5288746496.0000 - mae: 7116.2109 - val_loss: 5999485952.0000 - val_mae: 5491.1323\n",
      "Epoch 377/400\n",
      "14767/14767 [==============================] - 26s 2ms/step - loss: 5192587264.0000 - mae: 7205.3472 - val_loss: 5958777344.0000 - val_mae: 5515.7524\n",
      "Epoch 378/400\n",
      "14767/14767 [==============================] - 26s 2ms/step - loss: 5280046592.0000 - mae: 7142.8662 - val_loss: 6511904768.0000 - val_mae: 7673.9741\n",
      "Epoch 379/400\n",
      "14767/14767 [==============================] - 26s 2ms/step - loss: 5229955584.0000 - mae: 7287.4248 - val_loss: 8699994112.0000 - val_mae: 8479.9844\n",
      "Epoch 380/400\n",
      "14767/14767 [==============================] - 26s 2ms/step - loss: 5280714240.0000 - mae: 7255.3242 - val_loss: 6568072192.0000 - val_mae: 7688.9873\n",
      "Epoch 381/400\n",
      "14767/14767 [==============================] - 26s 2ms/step - loss: 5303768576.0000 - mae: 7314.5757 - val_loss: 5485453824.0000 - val_mae: 5346.7710\n",
      "Epoch 382/400\n",
      "14767/14767 [==============================] - 26s 2ms/step - loss: 5268621824.0000 - mae: 7404.7124 - val_loss: 6756804608.0000 - val_mae: 8535.0029\n",
      "Epoch 383/400\n",
      "14767/14767 [==============================] - 26s 2ms/step - loss: 5162807296.0000 - mae: 7125.7056 - val_loss: 6042071040.0000 - val_mae: 5199.0225\n",
      "Epoch 384/400\n",
      "14767/14767 [==============================] - 26s 2ms/step - loss: 5262074368.0000 - mae: 7418.3242 - val_loss: 5280087040.0000 - val_mae: 5222.4741\n",
      "Epoch 385/400\n",
      "14767/14767 [==============================] - 26s 2ms/step - loss: 5254898176.0000 - mae: 7622.4302 - val_loss: 6056109056.0000 - val_mae: 11442.7539\n",
      "Epoch 386/400\n",
      "14767/14767 [==============================] - 26s 2ms/step - loss: 5283565568.0000 - mae: 7276.7300 - val_loss: 5388649984.0000 - val_mae: 5863.1782\n",
      "Epoch 387/400\n",
      "14767/14767 [==============================] - 26s 2ms/step - loss: 5171321344.0000 - mae: 7233.7163 - val_loss: 5851900928.0000 - val_mae: 7298.2222\n",
      "Epoch 388/400\n",
      "14767/14767 [==============================] - 26s 2ms/step - loss: 5307524608.0000 - mae: 7392.5913 - val_loss: 7105345024.0000 - val_mae: 5914.3916\n",
      "Epoch 389/400\n",
      "14767/14767 [==============================] - 26s 2ms/step - loss: 5331642880.0000 - mae: 7385.2881 - val_loss: 5757091328.0000 - val_mae: 6341.5151\n",
      "Epoch 390/400\n",
      "14767/14767 [==============================] - 26s 2ms/step - loss: 5127674368.0000 - mae: 7107.5757 - val_loss: 8542596608.0000 - val_mae: 6264.4468\n",
      "Epoch 391/400\n",
      "14767/14767 [==============================] - 26s 2ms/step - loss: 5337492480.0000 - mae: 7292.7925 - val_loss: 5493946880.0000 - val_mae: 7343.7085\n",
      "Epoch 392/400\n",
      "14767/14767 [==============================] - 26s 2ms/step - loss: 5059209728.0000 - mae: 7181.1587 - val_loss: 10356852736.0000 - val_mae: 12821.2119\n",
      "Epoch 393/400\n",
      "14767/14767 [==============================] - 26s 2ms/step - loss: 5267367936.0000 - mae: 7536.2485 - val_loss: 7857364992.0000 - val_mae: 13709.8955\n",
      "Epoch 394/400\n",
      "14767/14767 [==============================] - 26s 2ms/step - loss: 5218669568.0000 - mae: 7350.1919 - val_loss: 5993677312.0000 - val_mae: 12342.1865\n",
      "Epoch 395/400\n",
      "14767/14767 [==============================] - 26s 2ms/step - loss: 5260887552.0000 - mae: 7199.8091 - val_loss: 5176384000.0000 - val_mae: 6771.2217\n",
      "Epoch 396/400\n",
      "14767/14767 [==============================] - 26s 2ms/step - loss: 5200354816.0000 - mae: 7067.1621 - val_loss: 8161145856.0000 - val_mae: 9134.7734\n",
      "Epoch 397/400\n",
      "14767/14767 [==============================] - 26s 2ms/step - loss: 4990721536.0000 - mae: 7254.9258 - val_loss: 4873534464.0000 - val_mae: 9084.7666\n",
      "Epoch 398/400\n",
      "14767/14767 [==============================] - 26s 2ms/step - loss: 5400295936.0000 - mae: 7415.7017 - val_loss: 6451091456.0000 - val_mae: 7166.8037\n",
      "Epoch 399/400\n",
      "14767/14767 [==============================] - 27s 2ms/step - loss: 5383158272.0000 - mae: 7376.7490 - val_loss: 6494164992.0000 - val_mae: 5841.4312\n",
      "Epoch 400/400\n",
      "14767/14767 [==============================] - 26s 2ms/step - loss: 5380910080.0000 - mae: 7482.6577 - val_loss: 5458345472.0000 - val_mae: 6929.3765\n"
     ]
    }
   ],
   "source": [
    "history = ann.fit(X_train, y_train,\n",
    "                  validation_data = (X_val, y_val),\n",
    "                  callbacks=[es],\n",
    "                  epochs=400,\n",
    "                  batch_size=20,\n",
    "                  verbose=1)"
   ]
  },
  {
   "cell_type": "markdown",
   "metadata": {
    "colab_type": "text",
    "id": "0H0zKKNEBLD5"
   },
   "source": [
    "### Analyse learn history"
   ]
  },
  {
   "cell_type": "code",
   "execution_count": 24,
   "metadata": {
    "ExecuteTime": {
     "end_time": "2023-08-20T06:06:48.378848Z",
     "start_time": "2023-08-20T06:06:48.098566200Z"
    }
   },
   "outputs": [
    {
     "data": {
      "text/plain": "<Figure size 640x480 with 1 Axes>",
      "image/png": "[encoded data removed]"
     },
     "metadata": {},
     "output_type": "display_data"
    }
   ],
   "source": [
    "# let's see the training and validation accuracy by epoch\n",
    "history_dict = history.history\n",
    "loss_values = history_dict['loss'] # you can change this\n",
    "val_loss_values = history_dict['val_loss'] # you can also change this\n",
    "epochs = range(1, len(loss_values) + 1) # range of X (no. of epochs)\n",
    "plt.plot(epochs, loss_values, 'blue', label='Train set loss')\n",
    "plt.plot(epochs, val_loss_values, 'orange', label='Validation set loss')\n",
    "#plt.title('Training and testing loss')\n",
    "plt.xlabel('Epochs')\n",
    "plt.ylabel('Loss (MSE)')\n",
    "plt.legend()\n",
    "plt.show()"
   ]
  },
  {
   "cell_type": "code",
   "execution_count": 25,
   "metadata": {
    "ExecuteTime": {
     "end_time": "2023-08-20T06:06:54.639128300Z",
     "start_time": "2023-08-20T06:06:54.439292300Z"
    }
   },
   "outputs": [
    {
     "data": {
      "text/plain": "<Figure size 640x480 with 1 Axes>",
      "image/png": "[encoded data removed]"
     },
     "metadata": {},
     "output_type": "display_data"
    }
   ],
   "source": [
    "loss_values1 = history_dict['mae'] # you can change this\n",
    "val_loss_values1 = history_dict['val_mae'] # you can also change this\n",
    "epochs = range(1, len(loss_values1) + 1) # range of X (no. of epochs)\n",
    "plt.plot(epochs, loss_values1, 'blue', label='Train set MAE')\n",
    "plt.plot(epochs, val_loss_values1, 'orange', label='Validation set MAE')\n",
    "#plt.title('Training and testing MAE')\n",
    "plt.xlabel('Epochs')\n",
    "plt.ylabel('MAE')\n",
    "plt.legend()\n",
    "plt.show()"
   ]
  },
  {
   "cell_type": "code",
   "execution_count": 23,
   "metadata": {
    "ExecuteTime": {
     "end_time": "2023-08-18T06:39:50.255140200Z",
     "start_time": "2023-08-18T06:39:50.211117800Z"
    }
   },
   "outputs": [
    {
     "name": "stdout",
     "output_type": "stream",
     "text": [
      "range(1, 301)\n"
     ]
    }
   ],
   "source": [
    "print (epochs)"
   ]
  },
  {
   "cell_type": "markdown",
   "metadata": {},
   "source": [
    "### Save the model"
   ]
  },
  {
   "cell_type": "code",
   "execution_count": 23,
   "outputs": [],
   "source": [
    "#ann.save('Profile_ANN_model_1.h5')"
   ],
   "metadata": {
    "collapsed": false
   }
  },
  {
   "cell_type": "markdown",
   "metadata": {},
   "source": [
    "## Part 5 - Make predictions"
   ]
  },
  {
   "cell_type": "code",
   "execution_count": 9,
   "metadata": {},
   "outputs": [],
   "source": [
    "#ann = load_model('Profile_ANN_model_1.h5')"
   ]
  },
  {
   "cell_type": "code",
   "execution_count": 26,
   "metadata": {
    "ExecuteTime": {
     "end_time": "2023-08-20T06:07:17.857225100Z",
     "start_time": "2023-08-20T06:07:01.431089800Z"
    }
   },
   "outputs": [
    {
     "name": "stdout",
     "output_type": "stream",
     "text": [
      "9230/9230 [==============================] - 9s 981us/step\n",
      "3077/3077 [==============================] - 4s 1ms/step\n"
     ]
    },
    {
     "data": {
      "text/plain": "<Figure size 640x480 with 2 Axes>",
      "image/png": "[encoded data removed]"
     },
     "metadata": {},
     "output_type": "display_data"
    }
   ],
   "source": [
    "# scatterplot of actual vs. pred\n",
    "# specify the dimensions \n",
    "fig, axes = plt.subplots(1,2) # 1 row, 2 columns\n",
    "\n",
    "# this makes the individual subplots\n",
    "# Training Results\n",
    "axes[0].scatter(x=y_train, y=ann.predict(X_train)) #first row, first entry (left top)\n",
    "axes[0].set_xlabel(\"Actual\", fontsize=10)\n",
    "axes[0].set_ylabel(\"Predicted\",  fontsize=10)\n",
    "axes[0].set_title(\"Training\")\n",
    "# add 45 deg line\n",
    "x = np.linspace(*axes[0].get_xlim())\n",
    "axes[0].plot(x, x, color='red')\n",
    "# Validation Results\n",
    "axes[1].scatter(x=y_val, y=ann.predict(X_val)) # first row, second entry (right top)\n",
    "axes[1].set_xlabel(\"Actual\", fontsize=10)\n",
    "axes[1].set_ylabel(\"Predicted\",  fontsize=10)\n",
    "axes[1].set_title(\"Validation\")\n",
    "# add 45 deg line\n",
    "x = np.linspace(*axes[1].get_xlim())\n",
    "axes[1].plot(x, x, color='red')\n",
    "\n",
    "# tight layout\n",
    "fig.tight_layout()\n",
    "\n",
    "# show the plot\n",
    "plt.show()"
   ]
  },
  {
   "cell_type": "code",
   "execution_count": 27,
   "metadata": {
    "colab": {
     "base_uri": "https://localhost:8080/",
     "height": 134
    },
    "colab_type": "code",
    "id": "IA0yApEmBG1X",
    "outputId": "cb981e1f-9204-4a2a-fece-9d66a6919189",
    "ExecuteTime": {
     "end_time": "2023-08-20T06:07:34.065475200Z",
     "start_time": "2023-08-20T06:07:30.170626800Z"
    }
   },
   "outputs": [
    {
     "name": "stdout",
     "output_type": "stream",
     "text": [
      "3077/3077 [==============================] - 3s 1ms/step\n",
      "[[ 96592.76 100586.38]\n",
      " [ 98922.6   99539.41]\n",
      " [ 65949.88  66058.25]\n",
      " ...\n",
      " [ 95638.23  97004.73]\n",
      " [ 75395.19  79968.45]\n",
      " [ 96978.66 100345.09]]\n"
     ]
    }
   ],
   "source": [
    "y_pred = ann.predict(X_test)\n",
    "np.set_printoptions(precision=2)\n",
    "print(np.concatenate((y_pred.reshape(len(y_pred),1), y_test.reshape(len(y_test),1)),1))"
   ]
  },
  {
   "cell_type": "code",
   "execution_count": 28,
   "metadata": {
    "ExecuteTime": {
     "end_time": "2023-08-20T06:07:39.112753Z",
     "start_time": "2023-08-20T06:07:38.372762400Z"
    }
   },
   "outputs": [
    {
     "data": {
      "text/plain": "Text(0, 0.5, 'Predicted data')"
     },
     "execution_count": 28,
     "metadata": {},
     "output_type": "execute_result"
    },
    {
     "data": {
      "text/plain": "<Figure size 640x480 with 1 Axes>",
      "image/png": "[encoded data removed]"
     },
     "metadata": {},
     "output_type": "display_data"
    }
   ],
   "source": [
    "import matplotlib.pyplot as plt\n",
    "plt.scatter(y_test, y_pred, color=\"blue\")\n",
    "plt.plot ( color = \"red\")\n",
    "plt.axis ()\n",
    "plt.xlabel ('Actual data')\n",
    "plt.ylabel ('Predicted data')"
   ]
  },
  {
   "cell_type": "code",
   "execution_count": 1,
   "metadata": {
    "ExecuteTime": {
     "end_time": "2023-08-22T01:42:55.681083Z",
     "start_time": "2023-08-22T01:42:54.462710300Z"
    }
   },
   "outputs": [
    {
     "ename": "NameError",
     "evalue": "name 'plt' is not defined",
     "output_type": "error",
     "traceback": [
      "\u001B[1;31m---------------------------------------------------------------------------\u001B[0m",
      "\u001B[1;31mNameError\u001B[0m                                 Traceback (most recent call last)",
      "\u001B[1;32m~\\AppData\\Local\\Temp\\ipykernel_34784\\53821255.py\u001B[0m in \u001B[0;36m<module>\u001B[1;34m\u001B[0m\n\u001B[0;32m      1\u001B[0m \u001B[1;32mfrom\u001B[0m \u001B[0msklearn\u001B[0m\u001B[1;33m.\u001B[0m\u001B[0mmetrics\u001B[0m \u001B[1;32mimport\u001B[0m \u001B[0mr2_score\u001B[0m\u001B[1;33m\u001B[0m\u001B[1;33m\u001B[0m\u001B[0m\n\u001B[0;32m      2\u001B[0m \u001B[1;31m# Initialize layout\u001B[0m\u001B[1;33m\u001B[0m\u001B[1;33m\u001B[0m\u001B[0m\n\u001B[1;32m----> 3\u001B[1;33m \u001B[0mfig1\u001B[0m\u001B[1;33m,\u001B[0m \u001B[0max1\u001B[0m \u001B[1;33m=\u001B[0m \u001B[0mplt\u001B[0m\u001B[1;33m.\u001B[0m\u001B[0msubplots\u001B[0m\u001B[1;33m(\u001B[0m\u001B[0mfigsize\u001B[0m \u001B[1;33m=\u001B[0m \u001B[1;33m(\u001B[0m\u001B[1;36m9\u001B[0m\u001B[1;33m,\u001B[0m \u001B[1;36m9\u001B[0m\u001B[1;33m)\u001B[0m\u001B[1;33m)\u001B[0m\u001B[1;33m\u001B[0m\u001B[1;33m\u001B[0m\u001B[0m\n\u001B[0m\u001B[0;32m      4\u001B[0m \u001B[1;33m\u001B[0m\u001B[0m\n\u001B[0;32m      5\u001B[0m \u001B[1;33m\u001B[0m\u001B[0m\n",
      "\u001B[1;31mNameError\u001B[0m: name 'plt' is not defined"
     ]
    }
   ],
   "source": [
    "from sklearn.metrics import r2_score\n",
    "# Initialize layout\n",
    "fig1, ax1 = plt.subplots(figsize = (9, 9))\n",
    "\n",
    "\n",
    "#y = y_pred         # Model on prvious line is called here\n",
    "#x = y_test\n",
    "\n",
    "\n",
    "\n",
    "# Add scatterplot\n",
    "ax1.scatter(y_test, y_pred, s=70, alpha=1, edgecolors=\"k\",c='mediumblue',zorder=5, label = 'Points')\n",
    "\n",
    "\n",
    "plt.ylabel('Predicted Peak Incident Pressure (kPa)',fontsize = 25)\n",
    "plt.xlabel('Actual Peak Incident Pressure (kPa)',fontsize = 25)\n",
    "plt.xticks(fontsize = 19)\n",
    "plt.yticks(fontsize = 19)\n",
    "\n",
    "\n",
    "x1 = np.linspace(0,8000000)\n",
    "\n",
    "plt.plot(x1, x1, 'Red', label='45\\N{DEGREE SIGN} line',lw=2.5,alpha=1)\n",
    "plt.plot(x1, 1.1*x1, '--m', label='\\u00B110% Error',lw=2.5,alpha=0.7)\n",
    "plt.plot(x1, 0.9*x1,'m', linestyle='--',lw=2.5,alpha=0.7)\n",
    "plt.plot(x1, 1.2*x1, '-.g', label='\\u00B120% Error',lw=2.5,alpha=0.7)\n",
    "plt.plot(x1, 0.8*x1,'-.g',lw=2.5,alpha=0.7)\n",
    "\n",
    "plt.ylim(0, 8000000)\n",
    "plt.xlim(0, 8000000)\n",
    "plt.legend(loc='upper left',fontsize = 25)\n",
    "\n",
    "plt.grid()\n",
    "\n",
    "ax1.spines['left'].set_color('black')        # setting up Y-axis tick color to red\n",
    "ax1.spines['bottom'].set_color('black')         #setting up above X-axis tick color to red\n",
    "\n",
    "\n",
    "\n",
    "#ax1.annotate(\"$R^2$ = {:.3f}\".format(r2), (2500, 1000),fontsize = 25)  #Model is called here\n",
    "#ax1.annotate(\"Adj.$R^2$ = {:.3f}\".format(adj_r2), (2500, 750),fontsize = 25)\n",
    "\n",
    "#plt.savefig('plot1.png', dpi = 600, bbox_inches = 'tight')"
   ]
  },
  {
   "cell_type": "code",
   "execution_count": 31,
   "metadata": {
    "ExecuteTime": {
     "end_time": "2023-08-20T06:08:30.456599800Z",
     "start_time": "2023-08-20T06:08:19.378846600Z"
    }
   },
   "outputs": [
    {
     "name": "stdout",
     "output_type": "stream",
     "text": [
      "9230/9230 [==============================] - 9s 1ms/step\n",
      "6704.61200050665\n",
      "6689.943040110723\n"
     ]
    }
   ],
   "source": [
    "trainpreds = ann.predict(X_train)\n",
    "\n",
    "from sklearn.metrics import mean_absolute_error\n",
    "print(mean_absolute_error(y_train, trainpreds)) # train\n",
    "print(mean_absolute_error(y_test, y_pred)) # test"
   ]
  },
  {
   "cell_type": "code",
   "execution_count": 32,
   "metadata": {
    "ExecuteTime": {
     "end_time": "2023-08-20T06:08:35.333809500Z",
     "start_time": "2023-08-20T06:08:35.267760400Z"
    }
   },
   "outputs": [
    {
     "name": "stdout",
     "output_type": "stream",
     "text": [
      "0.5090934152651684\n"
     ]
    }
   ],
   "source": [
    "from sklearn.metrics import r2_score\n",
    "r2 = r2_score(y_test, y_pred)\n",
    "print (r2)"
   ]
  },
  {
   "cell_type": "code",
   "execution_count": 33,
   "metadata": {
    "ExecuteTime": {
     "end_time": "2023-08-20T06:08:37.105437Z",
     "start_time": "2023-08-20T06:08:37.036885600Z"
    }
   },
   "outputs": [
    {
     "name": "stdout",
     "output_type": "stream",
     "text": [
      "0.5006397050198215\n"
     ]
    }
   ],
   "source": [
    "r2_train = r2_score(y_train, trainpreds)\n",
    "print (r2_train)"
   ]
  },
  {
   "cell_type": "code",
   "execution_count": 34,
   "metadata": {
    "ExecuteTime": {
     "end_time": "2023-08-20T06:08:43.600436800Z",
     "start_time": "2023-08-20T06:08:38.875363400Z"
    }
   },
   "outputs": [
    {
     "name": "stdout",
     "output_type": "stream",
     "text": [
      "Within 10% margin 92.45%\n",
      "Within 20% margin 97.42%\n",
      "Out of 20% margin 2.58%\n"
     ]
    }
   ],
   "source": [
    "count1 = 0\n",
    "for i in range(len(y_pred)):\n",
    "    line1 = y_pred[i] - 0.9*y_test[i]\n",
    "    line2 = y_pred[i] - 1.1*y_test[i]\n",
    "    #print ('line 1 ', line1)\n",
    "    #print ('line 2 ', line2)\n",
    "    mask1 = (line1 > 0) & (line2 < 0)\n",
    "    #print (mask)\n",
    "    count1 = np.sum(mask1+count1)\n",
    "    #print (count)\n",
    "\n",
    "count2 = 0\n",
    "for j in range(len(y_pred)):\n",
    "    line3 = y_pred[j] - 0.8*y_test[j]\n",
    "    line4 = y_pred[j] - 1.2*y_test[j]\n",
    "    mask2 = (line3 > 0) & (line4 < 0)\n",
    "    count2 = np.sum(mask2+count2)\n",
    "\n",
    "\n",
    "count3 = 0    \n",
    "for k in range(len(y_pred)):\n",
    "    line5 = y_pred[k] - 0.8*y_test[k]\n",
    "    line6 = y_pred[k] - 1.2*y_test[k]\n",
    "    mask3 = (line5 < 0) or (line6 > 0)\n",
    "    count3 = np.sum(mask3+count3)\n",
    "   \n",
    "\n",
    "print ('Within 10% margin', format((count1/len (y_pred)),'.2%'))\n",
    "print ('Within 20% margin', format((count2/len (y_pred)),'.2%'))\n",
    "print ('Out of 20% margin', format((count3/len (y_pred)),'.2%'))"
   ]
  },
  {
   "cell_type": "code",
   "execution_count": 35,
   "metadata": {
    "ExecuteTime": {
     "end_time": "2023-08-20T06:08:45.744863700Z",
     "start_time": "2023-08-20T06:08:45.706176300Z"
    }
   },
   "outputs": [
    {
     "name": "stdout",
     "output_type": "stream",
     "text": [
      "0.5090784545305591\n"
     ]
    }
   ],
   "source": [
    "adj_r2 = 1 - ((1 - r2) * (len(X_test) - 1) / (len(X_test) - len (X_test[0]) - 1))\n",
    "print (adj_r2)"
   ]
  },
  {
   "cell_type": "code",
   "execution_count": 38,
   "metadata": {
    "ExecuteTime": {
     "end_time": "2023-08-20T06:09:09.329759900Z",
     "start_time": "2023-08-20T06:09:09.307740900Z"
    }
   },
   "outputs": [
    {
     "data": {
      "text/plain": "67854.39605555362"
     },
     "execution_count": 38,
     "metadata": {},
     "output_type": "execute_result"
    }
   ],
   "source": [
    "import math\n",
    "from sklearn.metrics import mean_squared_error\n",
    "\n",
    "math.sqrt(mean_squared_error(y_test, y_pred))"
   ]
  },
  {
   "cell_type": "code",
   "execution_count": 39,
   "metadata": {
    "ExecuteTime": {
     "end_time": "2023-08-20T06:09:11.403114400Z",
     "start_time": "2023-08-20T06:09:11.349473700Z"
    }
   },
   "outputs": [
    {
     "data": {
      "text/plain": "6689.943040110723"
     },
     "execution_count": 39,
     "metadata": {},
     "output_type": "execute_result"
    }
   ],
   "source": [
    "from sklearn.metrics import mean_absolute_error\n",
    "\n",
    "mean_absolute_error(y_test, y_pred)"
   ]
  }
 ],
 "metadata": {
  "colab": {
   "collapsed_sections": [],
   "name": "Artificial Neural Network",
   "provenance": [],
   "toc_visible": true
  },
  "kernelspec": {
   "display_name": "Python 3 (ipykernel)",
   "language": "python",
   "name": "python3"
  },
  "language_info": {
   "codemirror_mode": {
    "name": "ipython",
    "version": 3
   },
   "file_extension": ".py",
   "mimetype": "text/x-python",
   "name": "python",
   "nbconvert_exporter": "python",
   "pygments_lexer": "ipython3",
   "version": "3.9.7"
  }
 },
 "nbformat": 4,
 "nbformat_minor": 4
}
