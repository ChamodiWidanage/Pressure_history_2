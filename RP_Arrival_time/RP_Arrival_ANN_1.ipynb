{
 "cells": [
  {
   "cell_type": "markdown",
   "source": [
    "# Part 1 - Data Preprocessing"
   ],
   "metadata": {
    "collapsed": false
   }
  },
  {
   "cell_type": "markdown",
   "metadata": {
    "colab_type": "text",
    "id": "8sNDnxE2-pwE"
   },
   "source": [
    "### Importing the libraries"
   ]
  },
  {
   "cell_type": "code",
   "execution_count": 1,
   "metadata": {
    "colab": {},
    "colab_type": "code",
    "id": "lxChR1Rk-umf",
    "ExecuteTime": {
     "end_time": "2024-07-24T05:11:41.052124200Z",
     "start_time": "2024-07-24T05:11:14.817659600Z"
    }
   },
   "outputs": [],
   "source": [
    "import numpy as np\n",
    "import pandas as pd\n",
    "import tensorflow as tf"
   ]
  },
  {
   "cell_type": "code",
   "execution_count": 12,
   "outputs": [],
   "source": [
    "from numpy.random import seed\n",
    "seed(1)\n",
    "from tensorflow.keras.utils import set_random_seed\n",
    "set_random_seed(2)"
   ],
   "metadata": {
    "collapsed": false,
    "ExecuteTime": {
     "end_time": "2023-08-29T02:11:11.355233500Z",
     "start_time": "2023-08-29T02:11:11.306166500Z"
    }
   }
  },
  {
   "cell_type": "markdown",
   "metadata": {
    "colab_type": "text",
    "id": "-4zq8Mza_D9O"
   },
   "source": [
    "### Importing the dataset"
   ]
  },
  {
   "cell_type": "code",
   "execution_count": 2,
   "metadata": {
    "colab": {},
    "colab_type": "code",
    "id": "B9CV13Co_HHM",
    "ExecuteTime": {
     "end_time": "2024-07-24T05:11:50.316054800Z",
     "start_time": "2024-07-24T05:11:49.302324600Z"
    }
   },
   "outputs": [
    {
     "name": "stdout",
     "output_type": "stream",
     "text": [
      "<class 'pandas.core.frame.DataFrame'>\n",
      "RangeIndex: 1064 entries, 0 to 1063\n",
      "Data columns (total 4 columns):\n",
      " #   Column             Non-Null Count  Dtype  \n",
      "---  ------             --------------  -----  \n",
      " 0   Mass               1064 non-null   float64\n",
      " 1   Standoff distance  1064 non-null   int64  \n",
      " 2   Angle              1064 non-null   int64  \n",
      " 3   Arrival time       1064 non-null   float64\n",
      "dtypes: float64(2), int64(2)\n",
      "memory usage: 33.4 KB\n"
     ]
    }
   ],
   "source": [
    "dataset = pd.read_excel('RP_arrival_all.xlsx')\n",
    "dataset.info()"
   ]
  },
  {
   "cell_type": "code",
   "execution_count": 3,
   "metadata": {
    "ExecuteTime": {
     "end_time": "2024-07-24T05:11:55.771160400Z",
     "start_time": "2024-07-24T05:11:55.708643900Z"
    }
   },
   "outputs": [
    {
     "data": {
      "text/plain": "   Mass  Standoff distance  Angle  Arrival time\n0   0.5                  5      0     10.055926\n1   0.5                  5     15     10.536600\n2   0.5                  5     30     12.221524\n3   0.5                  5     45     15.898340\n4   2.5                  5      0      7.722725",
      "text/html": "<div>\n<style scoped>\n    .dataframe tbody tr th:only-of-type {\n        vertical-align: middle;\n    }\n\n    .dataframe tbody tr th {\n        vertical-align: top;\n    }\n\n    .dataframe thead th {\n        text-align: right;\n    }\n</style>\n<table border=\"1\" class=\"dataframe\">\n  <thead>\n    <tr style=\"text-align: right;\">\n      <th></th>\n      <th>Mass</th>\n      <th>Standoff distance</th>\n      <th>Angle</th>\n      <th>Arrival time</th>\n    </tr>\n  </thead>\n  <tbody>\n    <tr>\n      <th>0</th>\n      <td>0.5</td>\n      <td>5</td>\n      <td>0</td>\n      <td>10.055926</td>\n    </tr>\n    <tr>\n      <th>1</th>\n      <td>0.5</td>\n      <td>5</td>\n      <td>15</td>\n      <td>10.536600</td>\n    </tr>\n    <tr>\n      <th>2</th>\n      <td>0.5</td>\n      <td>5</td>\n      <td>30</td>\n      <td>12.221524</td>\n    </tr>\n    <tr>\n      <th>3</th>\n      <td>0.5</td>\n      <td>5</td>\n      <td>45</td>\n      <td>15.898340</td>\n    </tr>\n    <tr>\n      <th>4</th>\n      <td>2.5</td>\n      <td>5</td>\n      <td>0</td>\n      <td>7.722725</td>\n    </tr>\n  </tbody>\n</table>\n</div>"
     },
     "execution_count": 3,
     "metadata": {},
     "output_type": "execute_result"
    }
   ],
   "source": [
    "dataset.head()"
   ]
  },
  {
   "cell_type": "code",
   "execution_count": 4,
   "metadata": {
    "ExecuteTime": {
     "end_time": "2024-07-24T05:12:01.771008Z",
     "start_time": "2024-07-24T05:12:01.739768600Z"
    }
   },
   "outputs": [
    {
     "name": "stdout",
     "output_type": "stream",
     "text": [
      "(1064, 3) (1064,)\n"
     ]
    }
   ],
   "source": [
    "y = dataset['Arrival time']\n",
    "X = dataset.drop(['Arrival time'], axis=1)\n",
    "print(X.shape, y.shape)"
   ]
  },
  {
   "cell_type": "code",
   "execution_count": 5,
   "metadata": {
    "ExecuteTime": {
     "end_time": "2024-07-24T05:12:04.042683400Z",
     "start_time": "2024-07-24T05:12:03.995310100Z"
    }
   },
   "outputs": [],
   "source": [
    "# convert to numpy array\n",
    "X = np.array(X)\n",
    "y = np.array(y)"
   ]
  },
  {
   "cell_type": "markdown",
   "metadata": {
    "colab_type": "text",
    "id": "VC6omXel_Up0"
   },
   "source": [
    "### Splitting the dataset into the Training set and Test set"
   ]
  },
  {
   "cell_type": "code",
   "execution_count": 6,
   "metadata": {
    "colab": {},
    "colab_type": "code",
    "id": "L5edeb2r_agx",
    "ExecuteTime": {
     "end_time": "2024-07-24T05:12:08.284777200Z",
     "start_time": "2024-07-24T05:12:06.001258300Z"
    }
   },
   "outputs": [],
   "source": [
    "from sklearn.model_selection import train_test_split\n",
    "X_train, X_test, y_train, y_test = train_test_split(X,\n",
    "                                                    y,\n",
    "                                                    test_size = 0.3,\n",
    "                                                    random_state = 0)"
   ]
  },
  {
   "cell_type": "code",
   "execution_count": 7,
   "metadata": {
    "colab": {},
    "colab_type": "code",
    "id": "L5edeb2r_agx",
    "ExecuteTime": {
     "end_time": "2024-07-24T05:12:09.894610400Z",
     "start_time": "2024-07-24T05:12:09.847145300Z"
    }
   },
   "outputs": [],
   "source": [
    "X_val, X_test, y_val, y_test = train_test_split(X_test,\n",
    "                                                y_test,\n",
    "                                                test_size = 0.5,\n",
    "                                                random_state = 0)"
   ]
  },
  {
   "cell_type": "markdown",
   "metadata": {
    "colab_type": "text",
    "id": "_mSLlAT9_eyI"
   },
   "source": [
    "# Part 2 - Building the ANN"
   ]
  },
  {
   "cell_type": "markdown",
   "source": [],
   "metadata": {
    "collapsed": false
   }
  },
  {
   "cell_type": "markdown",
   "metadata": {
    "colab_type": "text",
    "id": "CsBULd_f_wLY"
   },
   "source": [
    "### Initializing the ANN"
   ]
  },
  {
   "cell_type": "code",
   "execution_count": 8,
   "metadata": {
    "colab": {},
    "colab_type": "code",
    "id": "J6Hd97Ls__Nz",
    "ExecuteTime": {
     "end_time": "2024-07-24T05:12:14.282434Z",
     "start_time": "2024-07-24T05:12:13.396109500Z"
    }
   },
   "outputs": [],
   "source": [
    "ann = tf.keras.models.Sequential()"
   ]
  },
  {
   "cell_type": "markdown",
   "metadata": {
    "colab_type": "text",
    "id": "iitAFJS_ABUn"
   },
   "source": [
    "### Adding the input layer and the first hidden layer"
   ]
  },
  {
   "cell_type": "code",
   "execution_count": 9,
   "metadata": {
    "colab": {},
    "colab_type": "code",
    "id": "ksO_Vv40AHix",
    "ExecuteTime": {
     "end_time": "2024-07-24T05:12:16.843147300Z",
     "start_time": "2024-07-24T05:12:16.505576100Z"
    }
   },
   "outputs": [],
   "source": [
    "ann.add(tf.keras.layers.Dense(units=8,\n",
    "                              input_shape=(X_train.shape[1],),\n",
    "                              activation='leaky_relu'))"
   ]
  },
  {
   "cell_type": "markdown",
   "metadata": {
    "colab_type": "text",
    "id": "-lb4kK_wAKbs"
   },
   "source": [
    "### Adding the second hidden layer"
   ]
  },
  {
   "cell_type": "code",
   "execution_count": 10,
   "metadata": {
    "colab": {},
    "colab_type": "code",
    "id": "c2357OqEAQOQ",
    "tags": [],
    "ExecuteTime": {
     "end_time": "2024-07-24T05:12:18.763093100Z",
     "start_time": "2024-07-24T05:12:18.667753900Z"
    }
   },
   "outputs": [],
   "source": [
    "ann.add(tf.keras.layers.Dense(units=7,\n",
    "                              activation='leaky_relu'))"
   ]
  },
  {
   "cell_type": "markdown",
   "metadata": {
    "colab_type": "text",
    "id": "-lb4kK_wAKbs"
   },
   "source": [
    "### Adding the third hidden layer"
   ]
  },
  {
   "cell_type": "code",
   "execution_count": 11,
   "metadata": {
    "colab": {},
    "colab_type": "code",
    "id": "c2357OqEAQOQ",
    "tags": [],
    "ExecuteTime": {
     "end_time": "2024-07-24T05:12:20.376234400Z",
     "start_time": "2024-07-24T05:12:20.302660600Z"
    }
   },
   "outputs": [],
   "source": [
    "ann.add(tf.keras.layers.Dense(units=5,\n",
    "                              activation='leaky_relu'))"
   ]
  },
  {
   "cell_type": "markdown",
   "metadata": {
    "colab_type": "text",
    "id": "jwMOmKb3AdBY"
   },
   "source": [
    "### Adding the output layer"
   ]
  },
  {
   "cell_type": "code",
   "execution_count": 12,
   "metadata": {
    "colab": {},
    "colab_type": "code",
    "id": "YFATpzsUAkLL",
    "ExecuteTime": {
     "end_time": "2024-07-24T05:12:22.271064500Z",
     "start_time": "2024-07-24T05:12:22.177531800Z"
    }
   },
   "outputs": [],
   "source": [
    "ann.add(tf.keras.layers.Dense(units=1,\n",
    "                              activation='linear'))"
   ]
  },
  {
   "cell_type": "markdown",
   "metadata": {},
   "source": [
    "### what model looks like"
   ]
  },
  {
   "cell_type": "code",
   "execution_count": 13,
   "metadata": {
    "ExecuteTime": {
     "end_time": "2024-07-24T05:12:24.187806500Z",
     "start_time": "2024-07-24T05:12:24.060733700Z"
    }
   },
   "outputs": [
    {
     "name": "stdout",
     "output_type": "stream",
     "text": [
      "Model: \"sequential\"\n",
      "_________________________________________________________________\n",
      " Layer (type)                Output Shape              Param #   \n",
      "=================================================================\n",
      " dense (Dense)               (None, 8)                 32        \n",
      "                                                                 \n",
      " dense_1 (Dense)             (None, 7)                 63        \n",
      "                                                                 \n",
      " dense_2 (Dense)             (None, 5)                 40        \n",
      "                                                                 \n",
      " dense_3 (Dense)             (None, 1)                 6         \n",
      "                                                                 \n",
      "=================================================================\n",
      "Total params: 141\n",
      "Trainable params: 141\n",
      "Non-trainable params: 0\n",
      "_________________________________________________________________\n"
     ]
    }
   ],
   "source": [
    "ann.summary()"
   ]
  },
  {
   "cell_type": "markdown",
   "metadata": {
    "colab_type": "text",
    "id": "fq7e4fF6A1yy"
   },
   "source": [
    "# Part 3 - Training the ANN"
   ]
  },
  {
   "cell_type": "markdown",
   "metadata": {
    "colab_type": "text",
    "id": "qDeylAs2An25"
   },
   "source": [
    "### Compiling the ANN"
   ]
  },
  {
   "cell_type": "code",
   "execution_count": 14,
   "metadata": {
    "colab": {},
    "colab_type": "code",
    "id": "pesgbWlCAtB4",
    "ExecuteTime": {
     "end_time": "2024-07-24T05:12:28.144695800Z",
     "start_time": "2024-07-24T05:12:28.097279800Z"
    }
   },
   "outputs": [],
   "source": [
    "from tensorflow.keras.optimizers import Adam\n",
    "opt = Adam(learning_rate=0.1)\n",
    "ann.compile(optimizer = opt,\n",
    "            loss = 'mean_squared_error',\n",
    "            metrics = ['mae'])"
   ]
  },
  {
   "cell_type": "markdown",
   "metadata": {},
   "source": [
    "### early stopping callback"
   ]
  },
  {
   "cell_type": "code",
   "execution_count": 15,
   "metadata": {
    "ExecuteTime": {
     "end_time": "2024-07-24T05:12:30.222788300Z",
     "start_time": "2024-07-24T05:12:30.177446300Z"
    }
   },
   "outputs": [],
   "source": [
    "# protects from unnecessary further training of the model\n",
    "#if a particular metric does not continue to improve over a number of n epochs.\n",
    "#In such a case, the model training would be automatically aborted.\n",
    "from keras.callbacks import EarlyStopping\n",
    "es = EarlyStopping(monitor='val_loss',\n",
    "                   mode='min',\n",
    "                   patience=50,\n",
    "                   restore_best_weights = True)"
   ]
  },
  {
   "cell_type": "markdown",
   "metadata": {
    "colab_type": "text",
    "id": "YjVuiybYOo7r"
   },
   "source": [
    "### Training the ANN model on the Training set"
   ]
  },
  {
   "cell_type": "code",
   "execution_count": 16,
   "metadata": {
    "colab": {
     "base_uri": "https://localhost:8080/",
     "height": 1000
    },
    "colab_type": "code",
    "id": "c_vV-tiiA5zn",
    "outputId": "4a2b6ee6-ed75-4698-9069-b250e613803f",
    "ExecuteTime": {
     "end_time": "2024-07-24T05:13:14.896616300Z",
     "start_time": "2024-07-24T05:12:46.589689100Z"
    }
   },
   "outputs": [
    {
     "name": "stdout",
     "output_type": "stream",
     "text": [
      "Epoch 1/500\n",
      "25/25 [==============================] - 2s 21ms/step - loss: 775.7441 - mae: 18.7185 - val_loss: 62.1992 - val_mae: 6.6942\n",
      "Epoch 2/500\n",
      "25/25 [==============================] - 0s 4ms/step - loss: 48.4252 - mae: 5.4061 - val_loss: 41.8905 - val_mae: 5.7310\n",
      "Epoch 3/500\n",
      "25/25 [==============================] - 0s 4ms/step - loss: 38.6958 - mae: 4.7249 - val_loss: 24.6126 - val_mae: 3.8947\n",
      "Epoch 4/500\n",
      "25/25 [==============================] - 0s 4ms/step - loss: 30.4881 - mae: 4.2525 - val_loss: 19.2665 - val_mae: 3.5553\n",
      "Epoch 5/500\n",
      "25/25 [==============================] - 0s 4ms/step - loss: 34.7291 - mae: 4.4817 - val_loss: 17.9555 - val_mae: 3.3842\n",
      "Epoch 6/500\n",
      "25/25 [==============================] - 0s 4ms/step - loss: 27.2181 - mae: 3.9858 - val_loss: 22.4429 - val_mae: 3.7667\n",
      "Epoch 7/500\n",
      "25/25 [==============================] - 0s 4ms/step - loss: 35.7267 - mae: 4.5833 - val_loss: 16.5897 - val_mae: 3.0775\n",
      "Epoch 8/500\n",
      "25/25 [==============================] - 0s 3ms/step - loss: 24.3889 - mae: 3.7842 - val_loss: 36.3475 - val_mae: 4.6324\n",
      "Epoch 9/500\n",
      "25/25 [==============================] - 0s 3ms/step - loss: 20.6611 - mae: 3.6341 - val_loss: 28.9085 - val_mae: 4.1327\n",
      "Epoch 10/500\n",
      "25/25 [==============================] - 0s 3ms/step - loss: 23.0978 - mae: 3.6717 - val_loss: 19.5903 - val_mae: 3.2937\n",
      "Epoch 11/500\n",
      "25/25 [==============================] - 0s 4ms/step - loss: 18.6013 - mae: 3.3861 - val_loss: 11.9204 - val_mae: 2.8328\n",
      "Epoch 12/500\n",
      "25/25 [==============================] - 0s 3ms/step - loss: 13.4358 - mae: 2.8825 - val_loss: 13.1367 - val_mae: 2.7249\n",
      "Epoch 13/500\n",
      "25/25 [==============================] - 0s 4ms/step - loss: 13.7957 - mae: 2.8381 - val_loss: 8.2815 - val_mae: 2.1986\n",
      "Epoch 14/500\n",
      "25/25 [==============================] - 0s 4ms/step - loss: 11.2143 - mae: 2.5726 - val_loss: 13.4157 - val_mae: 2.9913\n",
      "Epoch 15/500\n",
      "25/25 [==============================] - 0s 4ms/step - loss: 14.4204 - mae: 2.9262 - val_loss: 9.5894 - val_mae: 2.3680\n",
      "Epoch 16/500\n",
      "25/25 [==============================] - 0s 4ms/step - loss: 12.4749 - mae: 2.7056 - val_loss: 9.0193 - val_mae: 2.3388\n",
      "Epoch 17/500\n",
      "25/25 [==============================] - 0s 4ms/step - loss: 9.9513 - mae: 2.3817 - val_loss: 6.5438 - val_mae: 1.9508\n",
      "Epoch 18/500\n",
      "25/25 [==============================] - 0s 4ms/step - loss: 12.3229 - mae: 2.6927 - val_loss: 9.0613 - val_mae: 2.3393\n",
      "Epoch 19/500\n",
      "25/25 [==============================] - 0s 4ms/step - loss: 14.0878 - mae: 2.8632 - val_loss: 7.3575 - val_mae: 2.1069\n",
      "Epoch 20/500\n",
      "25/25 [==============================] - 0s 4ms/step - loss: 13.4322 - mae: 2.8022 - val_loss: 6.6022 - val_mae: 1.8973\n",
      "Epoch 21/500\n",
      "25/25 [==============================] - 0s 4ms/step - loss: 11.6040 - mae: 2.6047 - val_loss: 7.2605 - val_mae: 2.0209\n",
      "Epoch 22/500\n",
      "25/25 [==============================] - 0s 4ms/step - loss: 9.5045 - mae: 2.3057 - val_loss: 6.5359 - val_mae: 2.0065\n",
      "Epoch 23/500\n",
      "25/25 [==============================] - 0s 3ms/step - loss: 9.7177 - mae: 2.3759 - val_loss: 17.0882 - val_mae: 3.3522\n",
      "Epoch 24/500\n",
      "25/25 [==============================] - 0s 3ms/step - loss: 10.6029 - mae: 2.4199 - val_loss: 8.8596 - val_mae: 2.4681\n",
      "Epoch 25/500\n",
      "25/25 [==============================] - 0s 3ms/step - loss: 11.0711 - mae: 2.5338 - val_loss: 6.3730 - val_mae: 1.9704\n",
      "Epoch 26/500\n",
      "25/25 [==============================] - 0s 3ms/step - loss: 10.5676 - mae: 2.4768 - val_loss: 5.8687 - val_mae: 1.8660\n",
      "Epoch 27/500\n",
      "25/25 [==============================] - 0s 4ms/step - loss: 8.1011 - mae: 2.1645 - val_loss: 24.1731 - val_mae: 4.1713\n",
      "Epoch 28/500\n",
      "25/25 [==============================] - 0s 4ms/step - loss: 11.1061 - mae: 2.5838 - val_loss: 5.3885 - val_mae: 1.7229\n",
      "Epoch 29/500\n",
      "25/25 [==============================] - 0s 3ms/step - loss: 8.9799 - mae: 2.3245 - val_loss: 4.6544 - val_mae: 1.5109\n",
      "Epoch 30/500\n",
      "25/25 [==============================] - 0s 3ms/step - loss: 6.5023 - mae: 1.9455 - val_loss: 8.0010 - val_mae: 2.2389\n",
      "Epoch 31/500\n",
      "25/25 [==============================] - 0s 3ms/step - loss: 13.8030 - mae: 2.7321 - val_loss: 6.6293 - val_mae: 1.9451\n",
      "Epoch 32/500\n",
      "25/25 [==============================] - 0s 3ms/step - loss: 10.6304 - mae: 2.4717 - val_loss: 11.6634 - val_mae: 2.6179\n",
      "Epoch 33/500\n",
      "25/25 [==============================] - 0s 3ms/step - loss: 13.4278 - mae: 2.7757 - val_loss: 20.2365 - val_mae: 3.5190\n",
      "Epoch 34/500\n",
      "25/25 [==============================] - 0s 3ms/step - loss: 12.3590 - mae: 2.7062 - val_loss: 5.8786 - val_mae: 1.9335\n",
      "Epoch 35/500\n",
      "25/25 [==============================] - 0s 4ms/step - loss: 6.6680 - mae: 1.9348 - val_loss: 3.2954 - val_mae: 1.3985\n",
      "Epoch 36/500\n",
      "25/25 [==============================] - 0s 4ms/step - loss: 4.2411 - mae: 1.5473 - val_loss: 3.0155 - val_mae: 1.3082\n",
      "Epoch 37/500\n",
      "25/25 [==============================] - 0s 4ms/step - loss: 5.3526 - mae: 1.7186 - val_loss: 17.6438 - val_mae: 3.2192\n",
      "Epoch 38/500\n",
      "25/25 [==============================] - 0s 4ms/step - loss: 11.0372 - mae: 2.4895 - val_loss: 6.6130 - val_mae: 1.9974\n",
      "Epoch 39/500\n",
      "25/25 [==============================] - 0s 4ms/step - loss: 5.6834 - mae: 1.7956 - val_loss: 10.5467 - val_mae: 2.4640\n",
      "Epoch 40/500\n",
      "25/25 [==============================] - 0s 4ms/step - loss: 5.8639 - mae: 1.8341 - val_loss: 3.5386 - val_mae: 1.3670\n",
      "Epoch 41/500\n",
      "25/25 [==============================] - 0s 4ms/step - loss: 4.8627 - mae: 1.6475 - val_loss: 2.8744 - val_mae: 1.2811\n",
      "Epoch 42/500\n",
      "25/25 [==============================] - 0s 3ms/step - loss: 2.2441 - mae: 1.1724 - val_loss: 1.5642 - val_mae: 1.0036\n",
      "Epoch 43/500\n",
      "25/25 [==============================] - 0s 3ms/step - loss: 12.5224 - mae: 2.6397 - val_loss: 6.4800 - val_mae: 2.1736\n",
      "Epoch 44/500\n",
      "25/25 [==============================] - 0s 3ms/step - loss: 10.9386 - mae: 2.4724 - val_loss: 7.5168 - val_mae: 2.1994\n",
      "Epoch 45/500\n",
      "25/25 [==============================] - 0s 3ms/step - loss: 7.3618 - mae: 2.0271 - val_loss: 8.8079 - val_mae: 2.3197\n",
      "Epoch 46/500\n",
      "25/25 [==============================] - 0s 3ms/step - loss: 4.6734 - mae: 1.6760 - val_loss: 5.2995 - val_mae: 1.8143\n",
      "Epoch 47/500\n",
      "25/25 [==============================] - 0s 3ms/step - loss: 4.2701 - mae: 1.5685 - val_loss: 3.2285 - val_mae: 1.4526\n",
      "Epoch 48/500\n",
      "25/25 [==============================] - 0s 4ms/step - loss: 5.7751 - mae: 1.8135 - val_loss: 1.8496 - val_mae: 1.0594\n",
      "Epoch 49/500\n",
      "25/25 [==============================] - 0s 4ms/step - loss: 16.1548 - mae: 2.9372 - val_loss: 14.0211 - val_mae: 3.2438\n",
      "Epoch 50/500\n",
      "25/25 [==============================] - 0s 4ms/step - loss: 9.3722 - mae: 2.3297 - val_loss: 3.9295 - val_mae: 1.5858\n",
      "Epoch 51/500\n",
      "25/25 [==============================] - 0s 4ms/step - loss: 4.4018 - mae: 1.6228 - val_loss: 2.7834 - val_mae: 1.2391\n",
      "Epoch 52/500\n",
      "25/25 [==============================] - 0s 4ms/step - loss: 3.9425 - mae: 1.5362 - val_loss: 1.7904 - val_mae: 1.0491\n",
      "Epoch 53/500\n",
      "25/25 [==============================] - 0s 4ms/step - loss: 2.4639 - mae: 1.2102 - val_loss: 1.5482 - val_mae: 0.9071\n",
      "Epoch 54/500\n",
      "25/25 [==============================] - 0s 4ms/step - loss: 2.2570 - mae: 1.1769 - val_loss: 3.1215 - val_mae: 1.5132\n",
      "Epoch 55/500\n",
      "25/25 [==============================] - 0s 4ms/step - loss: 1.9415 - mae: 1.0864 - val_loss: 1.5412 - val_mae: 0.9796\n",
      "Epoch 56/500\n",
      "25/25 [==============================] - 0s 4ms/step - loss: 2.7749 - mae: 1.2828 - val_loss: 2.0096 - val_mae: 1.0891\n",
      "Epoch 57/500\n",
      "25/25 [==============================] - 0s 4ms/step - loss: 2.9023 - mae: 1.3252 - val_loss: 1.4484 - val_mae: 0.9194\n",
      "Epoch 58/500\n",
      "25/25 [==============================] - 0s 4ms/step - loss: 2.4688 - mae: 1.2185 - val_loss: 4.1020 - val_mae: 1.6758\n",
      "Epoch 59/500\n",
      "25/25 [==============================] - 0s 4ms/step - loss: 2.1963 - mae: 1.1478 - val_loss: 2.6666 - val_mae: 1.3375\n",
      "Epoch 60/500\n",
      "25/25 [==============================] - 0s 4ms/step - loss: 7.3875 - mae: 2.0067 - val_loss: 14.3467 - val_mae: 3.2764\n",
      "Epoch 61/500\n",
      "25/25 [==============================] - 0s 4ms/step - loss: 5.6897 - mae: 1.7956 - val_loss: 1.3329 - val_mae: 0.8629\n",
      "Epoch 62/500\n",
      "25/25 [==============================] - 0s 4ms/step - loss: 2.2522 - mae: 1.1785 - val_loss: 1.5336 - val_mae: 1.0279\n",
      "Epoch 63/500\n",
      "25/25 [==============================] - 0s 4ms/step - loss: 1.9959 - mae: 1.0929 - val_loss: 1.0553 - val_mae: 0.8148\n",
      "Epoch 64/500\n",
      "25/25 [==============================] - 0s 4ms/step - loss: 1.4087 - mae: 0.9372 - val_loss: 1.8069 - val_mae: 1.0540\n",
      "Epoch 65/500\n",
      "25/25 [==============================] - 0s 4ms/step - loss: 2.6575 - mae: 1.3012 - val_loss: 3.2765 - val_mae: 1.4115\n",
      "Epoch 66/500\n",
      "25/25 [==============================] - 0s 4ms/step - loss: 1.8044 - mae: 1.0624 - val_loss: 1.0087 - val_mae: 0.8167\n",
      "Epoch 67/500\n",
      "25/25 [==============================] - 0s 4ms/step - loss: 1.1321 - mae: 0.8496 - val_loss: 0.9821 - val_mae: 0.7486\n",
      "Epoch 68/500\n",
      "25/25 [==============================] - 0s 3ms/step - loss: 1.3864 - mae: 0.9219 - val_loss: 2.5548 - val_mae: 1.2919\n",
      "Epoch 69/500\n",
      "25/25 [==============================] - 0s 3ms/step - loss: 4.0494 - mae: 1.5180 - val_loss: 8.3205 - val_mae: 2.5389\n",
      "Epoch 70/500\n",
      "25/25 [==============================] - 0s 3ms/step - loss: 2.8293 - mae: 1.3201 - val_loss: 2.0727 - val_mae: 1.1498\n",
      "Epoch 71/500\n",
      "25/25 [==============================] - 0s 3ms/step - loss: 4.4079 - mae: 1.6211 - val_loss: 1.8066 - val_mae: 1.0796\n",
      "Epoch 72/500\n",
      "25/25 [==============================] - 0s 3ms/step - loss: 3.3378 - mae: 1.3660 - val_loss: 2.0136 - val_mae: 1.1068\n",
      "Epoch 73/500\n",
      "25/25 [==============================] - 0s 3ms/step - loss: 2.4457 - mae: 1.2190 - val_loss: 2.4184 - val_mae: 1.2759\n",
      "Epoch 74/500\n",
      "25/25 [==============================] - 0s 3ms/step - loss: 2.9218 - mae: 1.3669 - val_loss: 3.5283 - val_mae: 1.4246\n",
      "Epoch 75/500\n",
      "25/25 [==============================] - 0s 3ms/step - loss: 1.8392 - mae: 1.0641 - val_loss: 1.6840 - val_mae: 1.0761\n",
      "Epoch 76/500\n",
      "25/25 [==============================] - 0s 3ms/step - loss: 1.7278 - mae: 1.0488 - val_loss: 1.9836 - val_mae: 1.1537\n",
      "Epoch 77/500\n",
      "25/25 [==============================] - 0s 3ms/step - loss: 1.6184 - mae: 0.9934 - val_loss: 1.2567 - val_mae: 0.9033\n",
      "Epoch 78/500\n",
      "25/25 [==============================] - 0s 3ms/step - loss: 6.7287 - mae: 1.9626 - val_loss: 22.5687 - val_mae: 4.1446\n",
      "Epoch 79/500\n",
      "25/25 [==============================] - 0s 3ms/step - loss: 4.6954 - mae: 1.6226 - val_loss: 5.2266 - val_mae: 1.8530\n",
      "Epoch 80/500\n",
      "25/25 [==============================] - 0s 3ms/step - loss: 4.1986 - mae: 1.6334 - val_loss: 6.9819 - val_mae: 2.4180\n",
      "Epoch 81/500\n",
      "25/25 [==============================] - 0s 3ms/step - loss: 3.6802 - mae: 1.4534 - val_loss: 1.3817 - val_mae: 0.9423\n",
      "Epoch 82/500\n",
      "25/25 [==============================] - 0s 3ms/step - loss: 2.5696 - mae: 1.2410 - val_loss: 3.4963 - val_mae: 1.5103\n",
      "Epoch 83/500\n",
      "25/25 [==============================] - 0s 4ms/step - loss: 4.3540 - mae: 1.5992 - val_loss: 1.3110 - val_mae: 0.8755\n",
      "Epoch 84/500\n",
      "25/25 [==============================] - 0s 4ms/step - loss: 2.5206 - mae: 1.2399 - val_loss: 0.8193 - val_mae: 0.7121\n",
      "Epoch 85/500\n",
      "25/25 [==============================] - 0s 4ms/step - loss: 1.6935 - mae: 1.0340 - val_loss: 0.7695 - val_mae: 0.6777\n",
      "Epoch 86/500\n",
      "25/25 [==============================] - 0s 5ms/step - loss: 2.5091 - mae: 1.2541 - val_loss: 3.6176 - val_mae: 1.4830\n",
      "Epoch 87/500\n",
      "25/25 [==============================] - 0s 4ms/step - loss: 5.2180 - mae: 1.7571 - val_loss: 2.8397 - val_mae: 1.2836\n",
      "Epoch 88/500\n",
      "25/25 [==============================] - 0s 4ms/step - loss: 3.2248 - mae: 1.3905 - val_loss: 2.0224 - val_mae: 1.1457\n",
      "Epoch 89/500\n",
      "25/25 [==============================] - 0s 4ms/step - loss: 4.0617 - mae: 1.4967 - val_loss: 5.9580 - val_mae: 2.0435\n",
      "Epoch 90/500\n",
      "25/25 [==============================] - 0s 4ms/step - loss: 5.3747 - mae: 1.7709 - val_loss: 4.8773 - val_mae: 1.7570\n",
      "Epoch 91/500\n",
      "25/25 [==============================] - 0s 4ms/step - loss: 3.2194 - mae: 1.3811 - val_loss: 1.9681 - val_mae: 1.1934\n",
      "Epoch 92/500\n",
      "25/25 [==============================] - 0s 4ms/step - loss: 9.1682 - mae: 2.3681 - val_loss: 20.2160 - val_mae: 4.1272\n",
      "Epoch 93/500\n",
      "25/25 [==============================] - 0s 4ms/step - loss: 6.6366 - mae: 1.9275 - val_loss: 4.1384 - val_mae: 1.6691\n",
      "Epoch 94/500\n",
      "25/25 [==============================] - 0s 3ms/step - loss: 4.1692 - mae: 1.6047 - val_loss: 5.7358 - val_mae: 1.9096\n",
      "Epoch 95/500\n",
      "25/25 [==============================] - 0s 3ms/step - loss: 9.4679 - mae: 2.4130 - val_loss: 5.1676 - val_mae: 1.9235\n",
      "Epoch 96/500\n",
      "25/25 [==============================] - 0s 3ms/step - loss: 4.2724 - mae: 1.5979 - val_loss: 1.7592 - val_mae: 1.0245\n",
      "Epoch 97/500\n",
      "25/25 [==============================] - 0s 3ms/step - loss: 2.1571 - mae: 1.0999 - val_loss: 1.3395 - val_mae: 0.8983\n",
      "Epoch 98/500\n",
      "25/25 [==============================] - 0s 3ms/step - loss: 1.5660 - mae: 0.9902 - val_loss: 2.8973 - val_mae: 1.5084\n",
      "Epoch 99/500\n",
      "25/25 [==============================] - 0s 3ms/step - loss: 3.2693 - mae: 1.4148 - val_loss: 7.1898 - val_mae: 2.0405\n",
      "Epoch 100/500\n",
      "25/25 [==============================] - 0s 3ms/step - loss: 4.1915 - mae: 1.6041 - val_loss: 1.5753 - val_mae: 1.0031\n",
      "Epoch 101/500\n",
      "25/25 [==============================] - 0s 3ms/step - loss: 2.2999 - mae: 1.1686 - val_loss: 0.9760 - val_mae: 0.7597\n",
      "Epoch 102/500\n",
      "25/25 [==============================] - 0s 3ms/step - loss: 1.2417 - mae: 0.8794 - val_loss: 1.1084 - val_mae: 0.8502\n",
      "Epoch 103/500\n",
      "25/25 [==============================] - 0s 3ms/step - loss: 1.7787 - mae: 1.0424 - val_loss: 0.8913 - val_mae: 0.7644\n",
      "Epoch 104/500\n",
      "25/25 [==============================] - 0s 3ms/step - loss: 1.8651 - mae: 1.0819 - val_loss: 0.9195 - val_mae: 0.7468\n",
      "Epoch 105/500\n",
      "25/25 [==============================] - 0s 4ms/step - loss: 3.5001 - mae: 1.3975 - val_loss: 1.5328 - val_mae: 1.0436\n",
      "Epoch 106/500\n",
      "25/25 [==============================] - 0s 4ms/step - loss: 1.9286 - mae: 1.0560 - val_loss: 1.3439 - val_mae: 0.9109\n",
      "Epoch 107/500\n",
      "25/25 [==============================] - 0s 3ms/step - loss: 2.5669 - mae: 1.2048 - val_loss: 2.9089 - val_mae: 1.4843\n",
      "Epoch 108/500\n",
      "25/25 [==============================] - 0s 3ms/step - loss: 6.3996 - mae: 1.9708 - val_loss: 9.8470 - val_mae: 2.7726\n",
      "Epoch 109/500\n",
      "25/25 [==============================] - 0s 3ms/step - loss: 25.1982 - mae: 3.8219 - val_loss: 46.6696 - val_mae: 5.6416\n",
      "Epoch 110/500\n",
      "25/25 [==============================] - 0s 4ms/step - loss: 17.9693 - mae: 3.2476 - val_loss: 12.9507 - val_mae: 2.6895\n",
      "Epoch 111/500\n",
      "25/25 [==============================] - 0s 4ms/step - loss: 19.0221 - mae: 3.0668 - val_loss: 2.8548 - val_mae: 1.2402\n",
      "Epoch 112/500\n",
      "25/25 [==============================] - 0s 4ms/step - loss: 4.2090 - mae: 1.5712 - val_loss: 11.1425 - val_mae: 2.5592\n",
      "Epoch 113/500\n",
      "25/25 [==============================] - 0s 3ms/step - loss: 5.2614 - mae: 1.7274 - val_loss: 7.4294 - val_mae: 2.0992\n",
      "Epoch 114/500\n",
      "25/25 [==============================] - 0s 4ms/step - loss: 4.3458 - mae: 1.5573 - val_loss: 10.2523 - val_mae: 2.4401\n",
      "Epoch 115/500\n",
      "25/25 [==============================] - 0s 4ms/step - loss: 11.7297 - mae: 2.6997 - val_loss: 1.5498 - val_mae: 1.0023\n",
      "Epoch 116/500\n",
      "25/25 [==============================] - 0s 4ms/step - loss: 7.2506 - mae: 2.0625 - val_loss: 8.5196 - val_mae: 2.4621\n",
      "Epoch 117/500\n",
      "25/25 [==============================] - 0s 4ms/step - loss: 4.1910 - mae: 1.5682 - val_loss: 1.5603 - val_mae: 0.9500\n",
      "Epoch 118/500\n",
      "25/25 [==============================] - 0s 4ms/step - loss: 1.8346 - mae: 1.0058 - val_loss: 0.9596 - val_mae: 0.7472\n",
      "Epoch 119/500\n",
      "25/25 [==============================] - 0s 4ms/step - loss: 1.6608 - mae: 1.0028 - val_loss: 2.0800 - val_mae: 1.2524\n",
      "Epoch 120/500\n",
      "25/25 [==============================] - 0s 4ms/step - loss: 1.2068 - mae: 0.8580 - val_loss: 0.6777 - val_mae: 0.6303\n",
      "Epoch 121/500\n",
      "25/25 [==============================] - 0s 4ms/step - loss: 0.9306 - mae: 0.7600 - val_loss: 1.8698 - val_mae: 1.2124\n",
      "Epoch 122/500\n",
      "25/25 [==============================] - 0s 4ms/step - loss: 1.3452 - mae: 0.9056 - val_loss: 0.5647 - val_mae: 0.5696\n",
      "Epoch 123/500\n",
      "25/25 [==============================] - 0s 4ms/step - loss: 0.9020 - mae: 0.7334 - val_loss: 1.0089 - val_mae: 0.8079\n",
      "Epoch 124/500\n",
      "25/25 [==============================] - 0s 4ms/step - loss: 1.3034 - mae: 0.8940 - val_loss: 0.5755 - val_mae: 0.5995\n",
      "Epoch 125/500\n",
      "25/25 [==============================] - 0s 4ms/step - loss: 1.0771 - mae: 0.7840 - val_loss: 1.2913 - val_mae: 0.8638\n",
      "Epoch 126/500\n",
      "25/25 [==============================] - 0s 4ms/step - loss: 0.9794 - mae: 0.7592 - val_loss: 1.6649 - val_mae: 1.0612\n",
      "Epoch 127/500\n",
      "25/25 [==============================] - 0s 4ms/step - loss: 1.2195 - mae: 0.8421 - val_loss: 0.6992 - val_mae: 0.6529\n",
      "Epoch 128/500\n",
      "25/25 [==============================] - 0s 3ms/step - loss: 3.0709 - mae: 1.3079 - val_loss: 1.8190 - val_mae: 1.0249\n",
      "Epoch 129/500\n",
      "25/25 [==============================] - 0s 4ms/step - loss: 4.4174 - mae: 1.5647 - val_loss: 0.7774 - val_mae: 0.6860\n",
      "Epoch 130/500\n",
      "25/25 [==============================] - 0s 3ms/step - loss: 2.7398 - mae: 1.2909 - val_loss: 2.0375 - val_mae: 1.2391\n",
      "Epoch 131/500\n",
      "25/25 [==============================] - 0s 4ms/step - loss: 2.3328 - mae: 1.1720 - val_loss: 2.1350 - val_mae: 1.2462\n",
      "Epoch 132/500\n",
      "25/25 [==============================] - 0s 3ms/step - loss: 1.8935 - mae: 1.0569 - val_loss: 2.7325 - val_mae: 1.2021\n",
      "Epoch 133/500\n",
      "25/25 [==============================] - 0s 3ms/step - loss: 5.0319 - mae: 1.5258 - val_loss: 1.0245 - val_mae: 0.8191\n",
      "Epoch 134/500\n",
      "25/25 [==============================] - 0s 3ms/step - loss: 3.2067 - mae: 1.3292 - val_loss: 1.3174 - val_mae: 0.9273\n",
      "Epoch 135/500\n",
      "25/25 [==============================] - 0s 3ms/step - loss: 1.8441 - mae: 1.0419 - val_loss: 1.6120 - val_mae: 1.0209\n",
      "Epoch 136/500\n",
      "25/25 [==============================] - 0s 3ms/step - loss: 4.0168 - mae: 1.5201 - val_loss: 14.9592 - val_mae: 2.7872\n",
      "Epoch 137/500\n",
      "25/25 [==============================] - 0s 3ms/step - loss: 32.2592 - mae: 4.4476 - val_loss: 24.5362 - val_mae: 3.2301\n",
      "Epoch 138/500\n",
      "25/25 [==============================] - 0s 3ms/step - loss: 12.6373 - mae: 2.6045 - val_loss: 6.9103 - val_mae: 1.9418\n",
      "Epoch 139/500\n",
      "25/25 [==============================] - 0s 3ms/step - loss: 8.5540 - mae: 2.2163 - val_loss: 2.9063 - val_mae: 1.3592\n",
      "Epoch 140/500\n",
      "25/25 [==============================] - 0s 3ms/step - loss: 7.2623 - mae: 2.0021 - val_loss: 2.5812 - val_mae: 1.2336\n",
      "Epoch 141/500\n",
      "25/25 [==============================] - 0s 4ms/step - loss: 3.9756 - mae: 1.4713 - val_loss: 5.4887 - val_mae: 1.9742\n",
      "Epoch 142/500\n",
      "25/25 [==============================] - 0s 4ms/step - loss: 3.3309 - mae: 1.3574 - val_loss: 5.3012 - val_mae: 1.9411\n",
      "Epoch 143/500\n",
      "25/25 [==============================] - 0s 4ms/step - loss: 5.1358 - mae: 1.6759 - val_loss: 1.5983 - val_mae: 0.9978\n",
      "Epoch 144/500\n",
      "25/25 [==============================] - 0s 4ms/step - loss: 2.2273 - mae: 1.1552 - val_loss: 0.9621 - val_mae: 0.7799\n",
      "Epoch 145/500\n",
      "25/25 [==============================] - 0s 4ms/step - loss: 5.4591 - mae: 1.7109 - val_loss: 3.4472 - val_mae: 1.5092\n",
      "Epoch 146/500\n",
      "25/25 [==============================] - 0s 4ms/step - loss: 5.2001 - mae: 1.7720 - val_loss: 2.1262 - val_mae: 1.1388\n",
      "Epoch 147/500\n",
      "25/25 [==============================] - 0s 3ms/step - loss: 3.2595 - mae: 1.4237 - val_loss: 2.4995 - val_mae: 1.2733\n",
      "Epoch 148/500\n",
      "25/25 [==============================] - 0s 3ms/step - loss: 1.6608 - mae: 1.0123 - val_loss: 1.1723 - val_mae: 0.7985\n",
      "Epoch 149/500\n",
      "25/25 [==============================] - 0s 3ms/step - loss: 1.1221 - mae: 0.8069 - val_loss: 0.8447 - val_mae: 0.7366\n",
      "Epoch 150/500\n",
      "25/25 [==============================] - 0s 3ms/step - loss: 1.2801 - mae: 0.8944 - val_loss: 2.0000 - val_mae: 1.1463\n",
      "Epoch 151/500\n",
      "25/25 [==============================] - 0s 3ms/step - loss: 2.7321 - mae: 1.2866 - val_loss: 1.3890 - val_mae: 0.9464\n",
      "Epoch 152/500\n",
      "25/25 [==============================] - 0s 3ms/step - loss: 1.7254 - mae: 1.0284 - val_loss: 1.1186 - val_mae: 0.8921\n",
      "Epoch 153/500\n",
      "25/25 [==============================] - 0s 3ms/step - loss: 1.6476 - mae: 0.9937 - val_loss: 2.1761 - val_mae: 1.1070\n",
      "Epoch 154/500\n",
      "25/25 [==============================] - 0s 4ms/step - loss: 1.6849 - mae: 1.0279 - val_loss: 1.1274 - val_mae: 0.8620\n",
      "Epoch 155/500\n",
      "25/25 [==============================] - 0s 4ms/step - loss: 1.6464 - mae: 1.0108 - val_loss: 1.5970 - val_mae: 0.9943\n",
      "Epoch 156/500\n",
      "25/25 [==============================] - 0s 4ms/step - loss: 2.0438 - mae: 1.1449 - val_loss: 0.7951 - val_mae: 0.7161\n",
      "Epoch 157/500\n",
      "25/25 [==============================] - 0s 4ms/step - loss: 1.0731 - mae: 0.8054 - val_loss: 0.8245 - val_mae: 0.7401\n",
      "Epoch 158/500\n",
      "25/25 [==============================] - 0s 4ms/step - loss: 1.3479 - mae: 0.9011 - val_loss: 1.4184 - val_mae: 0.9191\n",
      "Epoch 159/500\n",
      "25/25 [==============================] - 0s 3ms/step - loss: 2.2375 - mae: 1.1441 - val_loss: 2.2698 - val_mae: 1.3008\n",
      "Epoch 160/500\n",
      "25/25 [==============================] - 0s 4ms/step - loss: 3.1991 - mae: 1.3896 - val_loss: 7.3857 - val_mae: 2.1995\n",
      "Epoch 161/500\n",
      "25/25 [==============================] - 0s 4ms/step - loss: 2.6400 - mae: 1.2581 - val_loss: 1.1977 - val_mae: 0.8363\n",
      "Epoch 162/500\n",
      "25/25 [==============================] - 0s 4ms/step - loss: 2.0877 - mae: 1.1359 - val_loss: 0.7011 - val_mae: 0.6676\n",
      "Epoch 163/500\n",
      "25/25 [==============================] - 0s 4ms/step - loss: 1.1413 - mae: 0.8223 - val_loss: 1.6561 - val_mae: 1.0603\n",
      "Epoch 164/500\n",
      "25/25 [==============================] - 0s 4ms/step - loss: 3.1895 - mae: 1.3598 - val_loss: 2.2201 - val_mae: 1.1382\n",
      "Epoch 165/500\n",
      "25/25 [==============================] - 0s 4ms/step - loss: 2.0990 - mae: 1.1505 - val_loss: 0.7310 - val_mae: 0.6364\n",
      "Epoch 166/500\n",
      "25/25 [==============================] - 0s 3ms/step - loss: 0.9468 - mae: 0.7613 - val_loss: 0.7905 - val_mae: 0.6899\n",
      "Epoch 167/500\n",
      "25/25 [==============================] - 0s 3ms/step - loss: 0.7375 - mae: 0.6734 - val_loss: 0.5119 - val_mae: 0.5512\n",
      "Epoch 168/500\n",
      "25/25 [==============================] - 0s 3ms/step - loss: 1.0425 - mae: 0.7447 - val_loss: 3.0444 - val_mae: 1.2985\n",
      "Epoch 169/500\n",
      "25/25 [==============================] - 0s 3ms/step - loss: 1.4935 - mae: 0.9518 - val_loss: 0.4715 - val_mae: 0.5022\n",
      "Epoch 170/500\n",
      "25/25 [==============================] - 0s 4ms/step - loss: 2.3782 - mae: 1.1406 - val_loss: 0.6475 - val_mae: 0.6394\n",
      "Epoch 171/500\n",
      "25/25 [==============================] - 0s 4ms/step - loss: 1.1365 - mae: 0.8255 - val_loss: 1.3373 - val_mae: 0.8936\n",
      "Epoch 172/500\n",
      "25/25 [==============================] - 0s 4ms/step - loss: 4.5827 - mae: 1.5324 - val_loss: 6.5222 - val_mae: 2.3435\n",
      "Epoch 173/500\n",
      "25/25 [==============================] - 0s 4ms/step - loss: 4.8887 - mae: 1.6676 - val_loss: 4.1130 - val_mae: 1.7102\n",
      "Epoch 174/500\n",
      "25/25 [==============================] - 0s 4ms/step - loss: 4.4200 - mae: 1.5571 - val_loss: 1.1975 - val_mae: 0.8953\n",
      "Epoch 175/500\n",
      "25/25 [==============================] - 0s 3ms/step - loss: 1.6046 - mae: 0.9847 - val_loss: 1.5697 - val_mae: 0.8836\n",
      "Epoch 176/500\n",
      "25/25 [==============================] - 0s 3ms/step - loss: 4.5414 - mae: 1.5405 - val_loss: 8.3216 - val_mae: 2.5268\n",
      "Epoch 177/500\n",
      "25/25 [==============================] - 0s 4ms/step - loss: 8.5783 - mae: 2.2474 - val_loss: 3.1590 - val_mae: 1.4866\n",
      "Epoch 178/500\n",
      "25/25 [==============================] - 0s 4ms/step - loss: 4.2579 - mae: 1.6219 - val_loss: 3.5966 - val_mae: 1.4511\n",
      "Epoch 179/500\n",
      "25/25 [==============================] - 0s 4ms/step - loss: 3.1408 - mae: 1.3929 - val_loss: 1.6108 - val_mae: 0.8934\n",
      "Epoch 180/500\n",
      "25/25 [==============================] - 0s 3ms/step - loss: 1.9709 - mae: 1.0635 - val_loss: 8.1834 - val_mae: 2.4748\n",
      "Epoch 181/500\n",
      "25/25 [==============================] - 0s 3ms/step - loss: 4.8909 - mae: 1.7395 - val_loss: 2.7531 - val_mae: 1.4003\n",
      "Epoch 182/500\n",
      "25/25 [==============================] - 0s 3ms/step - loss: 2.4320 - mae: 1.1949 - val_loss: 3.4298 - val_mae: 1.6307\n",
      "Epoch 183/500\n",
      "25/25 [==============================] - 0s 4ms/step - loss: 3.5999 - mae: 1.4358 - val_loss: 1.5586 - val_mae: 1.0825\n",
      "Epoch 184/500\n",
      "25/25 [==============================] - 0s 4ms/step - loss: 1.1890 - mae: 0.8472 - val_loss: 1.3813 - val_mae: 0.9405\n",
      "Epoch 185/500\n",
      "25/25 [==============================] - 0s 4ms/step - loss: 1.4814 - mae: 0.9299 - val_loss: 1.5164 - val_mae: 1.0036\n",
      "Epoch 186/500\n",
      "25/25 [==============================] - 0s 4ms/step - loss: 0.8229 - mae: 0.6822 - val_loss: 0.5142 - val_mae: 0.5548\n",
      "Epoch 187/500\n",
      "25/25 [==============================] - 0s 3ms/step - loss: 0.8948 - mae: 0.7158 - val_loss: 0.5376 - val_mae: 0.5780\n",
      "Epoch 188/500\n",
      "25/25 [==============================] - 0s 3ms/step - loss: 2.8434 - mae: 1.2752 - val_loss: 5.0132 - val_mae: 1.6844\n",
      "Epoch 189/500\n",
      "25/25 [==============================] - 0s 4ms/step - loss: 3.1884 - mae: 1.3164 - val_loss: 9.0858 - val_mae: 2.3749\n",
      "Epoch 190/500\n",
      "25/25 [==============================] - 0s 4ms/step - loss: 3.3384 - mae: 1.3971 - val_loss: 2.7210 - val_mae: 1.3875\n",
      "Epoch 191/500\n",
      "25/25 [==============================] - 0s 4ms/step - loss: 2.1335 - mae: 1.0855 - val_loss: 3.0738 - val_mae: 1.4145\n",
      "Epoch 192/500\n",
      "25/25 [==============================] - 0s 4ms/step - loss: 2.3473 - mae: 1.1535 - val_loss: 1.0402 - val_mae: 0.7532\n",
      "Epoch 193/500\n",
      "25/25 [==============================] - 0s 3ms/step - loss: 3.5775 - mae: 1.4423 - val_loss: 1.0675 - val_mae: 0.7485\n",
      "Epoch 194/500\n",
      "25/25 [==============================] - 0s 3ms/step - loss: 2.1307 - mae: 1.1124 - val_loss: 1.1929 - val_mae: 0.8570\n",
      "Epoch 195/500\n",
      "25/25 [==============================] - 0s 4ms/step - loss: 2.1842 - mae: 1.1358 - val_loss: 0.8227 - val_mae: 0.7436\n",
      "Epoch 196/500\n",
      "25/25 [==============================] - 0s 4ms/step - loss: 1.4854 - mae: 0.8993 - val_loss: 1.3851 - val_mae: 0.9894\n",
      "Epoch 197/500\n",
      "25/25 [==============================] - 0s 4ms/step - loss: 1.0766 - mae: 0.7843 - val_loss: 0.4882 - val_mae: 0.5484\n",
      "Epoch 198/500\n",
      "25/25 [==============================] - 0s 4ms/step - loss: 0.7611 - mae: 0.6773 - val_loss: 0.8251 - val_mae: 0.6744\n",
      "Epoch 199/500\n",
      "25/25 [==============================] - 0s 3ms/step - loss: 0.8285 - mae: 0.6633 - val_loss: 2.0431 - val_mae: 1.1191\n",
      "Epoch 200/500\n",
      "25/25 [==============================] - 0s 3ms/step - loss: 1.0631 - mae: 0.7647 - val_loss: 0.6681 - val_mae: 0.6415\n",
      "Epoch 201/500\n",
      "25/25 [==============================] - 0s 3ms/step - loss: 1.5562 - mae: 0.9589 - val_loss: 0.4828 - val_mae: 0.5586\n",
      "Epoch 202/500\n",
      "25/25 [==============================] - 0s 4ms/step - loss: 1.9300 - mae: 1.0177 - val_loss: 0.6678 - val_mae: 0.6304\n",
      "Epoch 203/500\n",
      "25/25 [==============================] - 0s 4ms/step - loss: 0.6166 - mae: 0.5915 - val_loss: 0.4700 - val_mae: 0.5558\n",
      "Epoch 204/500\n",
      "25/25 [==============================] - 0s 4ms/step - loss: 1.6035 - mae: 0.9034 - val_loss: 0.5139 - val_mae: 0.5301\n",
      "Epoch 205/500\n",
      "25/25 [==============================] - 0s 3ms/step - loss: 1.5379 - mae: 0.9205 - val_loss: 0.7635 - val_mae: 0.6482\n",
      "Epoch 206/500\n",
      "25/25 [==============================] - 0s 4ms/step - loss: 1.4236 - mae: 0.8796 - val_loss: 8.5069 - val_mae: 2.6709\n",
      "Epoch 207/500\n",
      "25/25 [==============================] - 0s 4ms/step - loss: 3.7915 - mae: 1.4885 - val_loss: 4.4022 - val_mae: 1.7466\n",
      "Epoch 208/500\n",
      "25/25 [==============================] - 0s 3ms/step - loss: 8.3154 - mae: 2.0550 - val_loss: 3.2569 - val_mae: 1.4912\n",
      "Epoch 209/500\n",
      "25/25 [==============================] - 0s 3ms/step - loss: 3.0240 - mae: 1.3362 - val_loss: 0.8535 - val_mae: 0.7294\n",
      "Epoch 210/500\n",
      "25/25 [==============================] - 0s 3ms/step - loss: 0.8101 - mae: 0.6747 - val_loss: 0.7545 - val_mae: 0.6527\n",
      "Epoch 211/500\n",
      "25/25 [==============================] - 0s 3ms/step - loss: 1.7372 - mae: 0.9871 - val_loss: 1.1020 - val_mae: 0.8077\n",
      "Epoch 212/500\n",
      "25/25 [==============================] - 0s 4ms/step - loss: 4.0518 - mae: 1.5399 - val_loss: 2.2784 - val_mae: 1.1962\n",
      "Epoch 213/500\n",
      "25/25 [==============================] - 0s 4ms/step - loss: 2.4655 - mae: 1.1187 - val_loss: 0.9693 - val_mae: 0.7657\n",
      "Epoch 214/500\n",
      "25/25 [==============================] - 0s 3ms/step - loss: 4.1572 - mae: 1.4162 - val_loss: 11.4060 - val_mae: 3.1179\n",
      "Epoch 215/500\n",
      "25/25 [==============================] - 0s 3ms/step - loss: 14.8010 - mae: 2.9294 - val_loss: 8.1361 - val_mae: 2.0201\n",
      "Epoch 216/500\n",
      "25/25 [==============================] - 0s 3ms/step - loss: 5.0893 - mae: 1.6647 - val_loss: 1.9563 - val_mae: 1.1300\n",
      "Epoch 217/500\n",
      "25/25 [==============================] - 0s 3ms/step - loss: 1.9270 - mae: 1.0451 - val_loss: 0.9862 - val_mae: 0.7911\n",
      "Epoch 218/500\n",
      "25/25 [==============================] - 0s 4ms/step - loss: 2.4158 - mae: 1.1551 - val_loss: 4.6937 - val_mae: 1.6610\n",
      "Epoch 219/500\n",
      "25/25 [==============================] - 0s 4ms/step - loss: 2.7609 - mae: 1.2827 - val_loss: 1.9183 - val_mae: 1.1470\n",
      "Epoch 220/500\n",
      "25/25 [==============================] - 0s 4ms/step - loss: 1.7628 - mae: 0.9412 - val_loss: 4.3212 - val_mae: 1.6816\n",
      "Epoch 221/500\n",
      "25/25 [==============================] - 0s 3ms/step - loss: 1.4805 - mae: 0.9050 - val_loss: 0.6057 - val_mae: 0.5938\n",
      "Epoch 222/500\n",
      "25/25 [==============================] - 0s 3ms/step - loss: 0.8655 - mae: 0.7035 - val_loss: 1.5936 - val_mae: 0.9592\n",
      "Epoch 223/500\n",
      "25/25 [==============================] - 0s 3ms/step - loss: 1.9063 - mae: 1.0429 - val_loss: 1.8376 - val_mae: 1.0219\n",
      "Epoch 224/500\n",
      "25/25 [==============================] - 0s 3ms/step - loss: 1.4361 - mae: 0.9047 - val_loss: 3.4783 - val_mae: 1.7050\n",
      "Epoch 225/500\n",
      "25/25 [==============================] - 0s 3ms/step - loss: 1.6187 - mae: 0.9661 - val_loss: 0.3912 - val_mae: 0.4840\n",
      "Epoch 226/500\n",
      "25/25 [==============================] - 0s 4ms/step - loss: 0.8549 - mae: 0.6945 - val_loss: 2.7747 - val_mae: 1.3724\n",
      "Epoch 227/500\n",
      "25/25 [==============================] - 0s 4ms/step - loss: 3.0697 - mae: 1.3902 - val_loss: 11.4016 - val_mae: 3.1370\n",
      "Epoch 228/500\n",
      "25/25 [==============================] - 0s 4ms/step - loss: 2.3326 - mae: 1.1353 - val_loss: 1.0301 - val_mae: 0.8121\n",
      "Epoch 229/500\n",
      "25/25 [==============================] - 0s 3ms/step - loss: 4.3921 - mae: 1.4588 - val_loss: 12.9052 - val_mae: 2.5084\n",
      "Epoch 230/500\n",
      "25/25 [==============================] - 0s 3ms/step - loss: 7.5612 - mae: 2.1145 - val_loss: 1.8755 - val_mae: 1.1001\n",
      "Epoch 231/500\n",
      "25/25 [==============================] - 0s 3ms/step - loss: 1.9624 - mae: 1.0179 - val_loss: 1.0627 - val_mae: 0.7965\n",
      "Epoch 232/500\n",
      "25/25 [==============================] - 0s 4ms/step - loss: 0.7681 - mae: 0.6865 - val_loss: 1.0589 - val_mae: 0.7881\n",
      "Epoch 233/500\n",
      "25/25 [==============================] - 0s 3ms/step - loss: 1.1755 - mae: 0.8321 - val_loss: 0.4528 - val_mae: 0.5001\n",
      "Epoch 234/500\n",
      "25/25 [==============================] - 0s 3ms/step - loss: 1.2458 - mae: 0.8587 - val_loss: 2.0083 - val_mae: 1.1108\n",
      "Epoch 235/500\n",
      "25/25 [==============================] - 0s 3ms/step - loss: 0.9574 - mae: 0.7300 - val_loss: 0.9167 - val_mae: 0.7815\n",
      "Epoch 236/500\n",
      "25/25 [==============================] - 0s 4ms/step - loss: 0.6976 - mae: 0.6392 - val_loss: 0.4201 - val_mae: 0.5064\n",
      "Epoch 237/500\n",
      "25/25 [==============================] - 0s 4ms/step - loss: 1.5225 - mae: 0.8244 - val_loss: 6.5114 - val_mae: 2.3060\n",
      "Epoch 238/500\n",
      "25/25 [==============================] - 0s 4ms/step - loss: 3.6393 - mae: 1.4921 - val_loss: 3.8370 - val_mae: 1.6300\n",
      "Epoch 239/500\n",
      "25/25 [==============================] - 0s 4ms/step - loss: 1.3202 - mae: 0.8695 - val_loss: 1.7001 - val_mae: 1.1408\n",
      "Epoch 240/500\n",
      "25/25 [==============================] - 0s 4ms/step - loss: 2.5892 - mae: 1.2644 - val_loss: 3.3798 - val_mae: 1.5319\n",
      "Epoch 241/500\n",
      "25/25 [==============================] - 0s 4ms/step - loss: 2.9215 - mae: 1.2706 - val_loss: 5.6787 - val_mae: 1.9695\n",
      "Epoch 242/500\n",
      "25/25 [==============================] - 0s 3ms/step - loss: 5.2931 - mae: 1.7785 - val_loss: 8.5383 - val_mae: 2.4925\n",
      "Epoch 243/500\n",
      "25/25 [==============================] - 0s 3ms/step - loss: 3.4236 - mae: 1.3491 - val_loss: 4.1148 - val_mae: 1.5903\n",
      "Epoch 244/500\n",
      "25/25 [==============================] - 0s 4ms/step - loss: 3.1528 - mae: 1.3223 - val_loss: 1.2226 - val_mae: 0.8580\n",
      "Epoch 245/500\n",
      "25/25 [==============================] - 0s 4ms/step - loss: 1.4449 - mae: 0.9231 - val_loss: 3.6372 - val_mae: 1.4573\n",
      "Epoch 246/500\n",
      "25/25 [==============================] - 0s 4ms/step - loss: 7.2878 - mae: 2.0869 - val_loss: 11.9559 - val_mae: 2.3601\n",
      "Epoch 247/500\n",
      "25/25 [==============================] - 0s 3ms/step - loss: 4.5402 - mae: 1.6339 - val_loss: 2.0544 - val_mae: 1.0961\n",
      "Epoch 248/500\n",
      "25/25 [==============================] - 0s 4ms/step - loss: 2.9567 - mae: 1.2327 - val_loss: 1.2253 - val_mae: 0.8629\n",
      "Epoch 249/500\n",
      "25/25 [==============================] - 0s 3ms/step - loss: 1.5896 - mae: 0.9466 - val_loss: 2.8852 - val_mae: 1.3761\n",
      "Epoch 250/500\n",
      "25/25 [==============================] - 0s 3ms/step - loss: 7.9226 - mae: 2.1550 - val_loss: 3.0877 - val_mae: 1.4042\n",
      "Epoch 251/500\n",
      "25/25 [==============================] - 0s 3ms/step - loss: 3.2223 - mae: 1.3329 - val_loss: 1.1541 - val_mae: 0.8621\n",
      "Epoch 252/500\n",
      "25/25 [==============================] - 0s 4ms/step - loss: 1.1337 - mae: 0.7995 - val_loss: 1.3954 - val_mae: 0.9843\n",
      "Epoch 253/500\n",
      "25/25 [==============================] - 0s 3ms/step - loss: 0.6808 - mae: 0.6166 - val_loss: 0.4921 - val_mae: 0.5424\n",
      "Epoch 254/500\n",
      "25/25 [==============================] - 0s 3ms/step - loss: 1.4872 - mae: 0.9153 - val_loss: 1.1047 - val_mae: 0.8217\n",
      "Epoch 255/500\n",
      "25/25 [==============================] - 0s 3ms/step - loss: 1.5252 - mae: 0.9553 - val_loss: 3.3331 - val_mae: 1.4844\n",
      "Epoch 256/500\n",
      "25/25 [==============================] - 0s 3ms/step - loss: 0.8108 - mae: 0.6850 - val_loss: 0.5538 - val_mae: 0.5228\n",
      "Epoch 257/500\n",
      "25/25 [==============================] - 0s 3ms/step - loss: 0.7622 - mae: 0.6632 - val_loss: 1.2343 - val_mae: 0.8671\n",
      "Epoch 258/500\n",
      "25/25 [==============================] - 0s 3ms/step - loss: 0.6676 - mae: 0.6207 - val_loss: 0.4795 - val_mae: 0.5252\n",
      "Epoch 259/500\n",
      "25/25 [==============================] - 0s 3ms/step - loss: 0.9206 - mae: 0.7114 - val_loss: 2.9486 - val_mae: 1.4507\n",
      "Epoch 260/500\n",
      "25/25 [==============================] - 0s 4ms/step - loss: 1.5647 - mae: 0.9765 - val_loss: 5.7173 - val_mae: 2.1133\n",
      "Epoch 261/500\n",
      "25/25 [==============================] - 0s 4ms/step - loss: 5.0667 - mae: 1.7632 - val_loss: 1.6751 - val_mae: 1.0044\n",
      "Epoch 262/500\n",
      "25/25 [==============================] - 0s 3ms/step - loss: 1.3629 - mae: 0.8943 - val_loss: 1.1591 - val_mae: 0.8576\n",
      "Epoch 263/500\n",
      "25/25 [==============================] - 0s 3ms/step - loss: 0.9093 - mae: 0.7217 - val_loss: 0.9665 - val_mae: 0.7873\n",
      "Epoch 264/500\n",
      "25/25 [==============================] - 0s 3ms/step - loss: 0.8090 - mae: 0.6720 - val_loss: 0.6700 - val_mae: 0.6488\n",
      "Epoch 265/500\n",
      "25/25 [==============================] - 0s 4ms/step - loss: 0.6311 - mae: 0.6063 - val_loss: 0.7670 - val_mae: 0.6877\n",
      "Epoch 266/500\n",
      "25/25 [==============================] - 0s 3ms/step - loss: 0.5809 - mae: 0.5941 - val_loss: 0.7331 - val_mae: 0.6886\n",
      "Epoch 267/500\n",
      "25/25 [==============================] - 0s 3ms/step - loss: 0.6190 - mae: 0.6037 - val_loss: 1.2778 - val_mae: 0.9158\n",
      "Epoch 268/500\n",
      "25/25 [==============================] - 0s 3ms/step - loss: 1.7340 - mae: 0.9624 - val_loss: 3.3160 - val_mae: 1.4536\n",
      "Epoch 269/500\n",
      "25/25 [==============================] - 0s 4ms/step - loss: 2.4466 - mae: 1.1798 - val_loss: 0.7255 - val_mae: 0.6783\n",
      "Epoch 270/500\n",
      "25/25 [==============================] - 0s 4ms/step - loss: 0.8191 - mae: 0.6939 - val_loss: 0.6113 - val_mae: 0.6191\n",
      "Epoch 271/500\n",
      "25/25 [==============================] - 0s 4ms/step - loss: 2.7688 - mae: 1.1995 - val_loss: 14.6493 - val_mae: 3.4186\n",
      "Epoch 272/500\n",
      "25/25 [==============================] - 0s 4ms/step - loss: 21.2870 - mae: 3.3703 - val_loss: 34.0956 - val_mae: 4.8809\n",
      "Epoch 273/500\n",
      "25/25 [==============================] - 0s 4ms/step - loss: 988.9605 - mae: 20.7740 - val_loss: 831.8981 - val_mae: 18.5662\n",
      "Epoch 274/500\n",
      "25/25 [==============================] - 0s 3ms/step - loss: 3507.5581 - mae: 37.5415 - val_loss: 450.4052 - val_mae: 18.7443\n",
      "Epoch 275/500\n",
      "25/25 [==============================] - 0s 4ms/step - loss: 1182.4952 - mae: 27.0360 - val_loss: 367.8292 - val_mae: 17.0544\n"
     ]
    }
   ],
   "source": [
    "history = ann.fit(X_train, y_train,\n",
    "                    validation_data = (X_val, y_val),\n",
    "                    callbacks=[es],\n",
    "                    epochs=500,\n",
    "                    batch_size=30,\n",
    "                    verbose=1)"
   ]
  },
  {
   "cell_type": "code",
   "execution_count": 25,
   "metadata": {
    "ExecuteTime": {
     "end_time": "2024-07-28T06:43:59.585586700Z",
     "start_time": "2024-07-28T06:43:58.536732900Z"
    }
   },
   "outputs": [
    {
     "data": {
      "text/plain": "<Figure size 640x480 with 1 Axes>",
      "image/png": "[encoded data removed]"
     },
     "metadata": {},
     "output_type": "display_data"
    }
   ],
   "source": [
    "import matplotlib.pyplot as plt\n",
    "# let's see the training and validation accuracy by epoch\n",
    "history_dict = history.history\n",
    "loss_values = history_dict['loss'] # you can change this\n",
    "val_loss_values = history_dict['val_loss'] # you can also change this\n",
    "epochs = range(1, len(loss_values) + 1) # range of X (no. of epochs)\n",
    "plt.plot(epochs, loss_values, 'blue', label='Train set loss')\n",
    "plt.plot(epochs, val_loss_values, 'orange', label='Validation set loss')\n",
    "#plt.title('Training and testing loss')\n",
    "plt.xlabel('Epochs')\n",
    "plt.ylabel('Loss (MSE)')\n",
    "plt.legend()\n",
    "plt.savefig('Arrival_ANN1_2.png', dpi = 300, bbox_inches = 'tight')\n",
    "plt.show()"
   ]
  },
  {
   "cell_type": "code",
   "execution_count": 26,
   "metadata": {
    "ExecuteTime": {
     "end_time": "2024-07-28T06:44:08.188839300Z",
     "start_time": "2024-07-28T06:44:07.063426200Z"
    }
   },
   "outputs": [
    {
     "data": {
      "text/plain": "<Figure size 640x480 with 1 Axes>",
      "image/png": "[encoded data removed]"
     },
     "metadata": {},
     "output_type": "display_data"
    }
   ],
   "source": [
    "loss_values1 = history_dict['mae'] # you can change this\n",
    "val_loss_values1 = history_dict['val_mae'] # you can also change this\n",
    "epochs = range(1, len(loss_values1) + 1) # range of X (no. of epochs)\n",
    "plt.plot(epochs, loss_values1, 'blue', label='Train set MAE')\n",
    "plt.plot(epochs, val_loss_values1, 'orange', label='Validation set MAE')\n",
    "#plt.title('Training and testing MAE')\n",
    "plt.xlabel('Epochs')\n",
    "plt.ylabel('MAE')\n",
    "plt.legend()\n",
    "plt.savefig('Arrival_ANN1_3.png', dpi = 300, bbox_inches = 'tight')\n",
    "plt.show()"
   ]
  },
  {
   "cell_type": "code",
   "execution_count": 33,
   "metadata": {
    "ExecuteTime": {
     "end_time": "2023-08-29T02:31:53.459600400Z",
     "start_time": "2023-08-29T02:31:53.416291600Z"
    }
   },
   "outputs": [
    {
     "name": "stdout",
     "output_type": "stream",
     "text": [
      "range(1, 144)\n"
     ]
    }
   ],
   "source": [
    "print (epochs)"
   ]
  },
  {
   "cell_type": "code",
   "execution_count": 23,
   "outputs": [
    {
     "name": "stdout",
     "output_type": "stream",
     "text": [
      "INFO:tensorflow:Assets written to: Arrival_ANN1\\assets\n"
     ]
    }
   ],
   "source": [
    "ann.save('Arrival_ANN1')"
   ],
   "metadata": {
    "collapsed": false,
    "ExecuteTime": {
     "end_time": "2024-07-28T06:35:45.433286100Z",
     "start_time": "2024-07-28T06:35:39.513643Z"
    }
   }
  },
  {
   "cell_type": "markdown",
   "source": [
    "# Part 4 - Make predictions"
   ],
   "metadata": {
    "collapsed": false
   }
  },
  {
   "cell_type": "code",
   "execution_count": 24,
   "metadata": {
    "ExecuteTime": {
     "end_time": "2024-07-28T06:43:47.797914500Z",
     "start_time": "2024-07-28T06:43:45.876101400Z"
    }
   },
   "outputs": [
    {
     "name": "stdout",
     "output_type": "stream",
     "text": [
      "24/24 [==============================] - 0s 1ms/step\n",
      "5/5 [==============================] - 0s 4ms/step\n"
     ]
    },
    {
     "data": {
      "text/plain": "<Figure size 640x480 with 2 Axes>",
      "image/png": "[encoded data removed]"
     },
     "metadata": {},
     "output_type": "display_data"
    }
   ],
   "source": [
    "# scatterplot of actual vs. pred\n",
    "# specify the dimensions \n",
    "fig, axes = plt.subplots(1,2) # 1 row, 2 columns\n",
    "\n",
    "# this makes the individual subplots\n",
    "# Training Results\n",
    "axes[0].scatter(x=y_train, y=ann.predict(X_train)) #first row, first entry (left top)\n",
    "axes[0].set_xlabel(\"Actual\", fontsize=10)\n",
    "axes[0].set_ylabel(\"Predicted\",  fontsize=10)\n",
    "axes[0].set_title(\"Training\")\n",
    "# add 45 deg line\n",
    "x = np.linspace(*axes[0].get_xlim())\n",
    "axes[0].plot(x, x, color='red')\n",
    "# Validation Results\n",
    "axes[1].scatter(x=y_val, y=ann.predict(X_val)) # first row, second entry (right top)\n",
    "axes[1].set_xlabel(\"Actual\", fontsize=10)\n",
    "axes[1].set_ylabel(\"Predicted\",  fontsize=10)\n",
    "axes[1].set_title(\"Validation\")\n",
    "# add 45 deg line\n",
    "x = np.linspace(*axes[1].get_xlim())\n",
    "axes[1].plot(x, x, color='red')\n",
    "\n",
    "# tight layout\n",
    "fig.tight_layout()\n",
    "\n",
    "plt.savefig('Arrival_ANN1_1.png', dpi = 300, bbox_inches = 'tight')\n",
    "# show the plot\n",
    "plt.show()"
   ]
  },
  {
   "cell_type": "code",
   "execution_count": 20,
   "metadata": {
    "colab": {
     "base_uri": "https://localhost:8080/",
     "height": 134
    },
    "colab_type": "code",
    "id": "IA0yApEmBG1X",
    "outputId": "cb981e1f-9204-4a2a-fece-9d66a6919189",
    "ExecuteTime": {
     "end_time": "2024-07-24T05:14:09.162570700Z",
     "start_time": "2024-07-24T05:14:08.856158300Z"
    }
   },
   "outputs": [
    {
     "name": "stdout",
     "output_type": "stream",
     "text": [
      "5/5 [==============================] - 0s 3ms/step\n",
      "[[ 37.31447601  38.18858613]\n",
      " [ 51.02349091  51.0331404 ]\n",
      " [ 10.75021935   9.35827155]\n",
      " [ 72.09609985  72.62317691]\n",
      " [ 48.93823242  49.64768806]\n",
      " [ 58.22680664  57.59274704]\n",
      " [ 69.21601105  69.39482264]\n",
      " [ 66.80578613  67.2237798 ]\n",
      " [ 46.37427139  46.91558065]\n",
      " [ 29.88980865  30.26225407]\n",
      " [ 81.06225586  80.56909418]\n",
      " [ 98.62697601  97.96670547]\n",
      " [ 20.47309494  20.44093505]\n",
      " [  6.42757273   5.72641132]\n",
      " [ 44.68445969  44.91382778]\n",
      " [ 27.79312325  27.91815962]\n",
      " [ 58.2374649   58.70715114]\n",
      " [ 79.34267426  78.70432003]\n",
      " [ 28.03906059  28.72706381]\n",
      " [ 23.16178894  23.57229087]\n",
      " [ 23.76515198  23.88130605]\n",
      " [ 52.66908646  52.62893276]\n",
      " [ 42.67928696  41.50347342]\n",
      " [ 65.07358551  65.10654094]\n",
      " [ 50.61285782  50.69699488]\n",
      " [ 58.41333389  57.98806088]\n",
      " [ 28.59792137  28.72549754]\n",
      " [107.66909027 109.06191677]\n",
      " [ 31.74350739  32.47703415]\n",
      " [101.2988739  101.18232867]\n",
      " [ 35.2115593   34.66401447]\n",
      " [ 81.49216461  81.15329793]\n",
      " [112.47898102 110.47725207]\n",
      " [ 68.58112335  69.17597926]\n",
      " [ 80.1000061   80.66438535]\n",
      " [ 38.89848328  37.8161848 ]\n",
      " [ 11.17002869   9.67880192]\n",
      " [ 47.20332718  47.04441258]\n",
      " [ 75.26205444  75.60174953]\n",
      " [ 32.20756531  33.21997438]\n",
      " [ 22.79999542  22.18820517]\n",
      " [ 74.64884186  74.92281631]\n",
      " [ 64.28147888  64.03334956]\n",
      " [ 76.27324677  75.72907902]\n",
      " [  8.61771584   7.84554437]\n",
      " [ 44.86658478  44.96159091]\n",
      " [ 50.10411072  49.70387858]\n",
      " [  5.0783205    5.06969367]\n",
      " [ 78.05337524  77.6162838 ]\n",
      " [ 51.10597992  51.89147626]\n",
      " [ 47.69931412  48.22315474]\n",
      " [ 70.42321014  70.79044305]\n",
      " [ 66.05207825  66.19675098]\n",
      " [ 32.91868973  32.90001047]\n",
      " [ 40.57772446  39.19384558]\n",
      " [ 72.11154175  71.91596407]\n",
      " [ 52.86624527  52.29672337]\n",
      " [  9.20761204   8.099899  ]\n",
      " [ 26.03817177  26.08816606]\n",
      " [ 36.93464661  37.19893564]\n",
      " [ 77.08906555  76.85421048]\n",
      " [ 72.10723877  72.69638324]\n",
      " [ 67.60800934  67.86143169]\n",
      " [  7.05505037   6.58955058]\n",
      " [ 74.50134277  74.62945977]\n",
      " [ 18.9806385   19.43473461]\n",
      " [ 42.10398483  41.60802078]\n",
      " [ 75.43065643  75.32309765]\n",
      " [ 58.31151581  58.2110195 ]\n",
      " [ 10.06921768  10.43336244]\n",
      " [ 34.89552307  35.09313532]\n",
      " [ 68.00912476  68.21329001]\n",
      " [ 45.27460098  45.75719242]\n",
      " [ 53.49287796  53.59956925]\n",
      " [ 23.12278175  22.84179908]\n",
      " [ 64.24980927  64.14497553]\n",
      " [ 72.33031464  72.72594622]\n",
      " [ 15.75459099  15.67536834]\n",
      " [ 43.15700912  43.26371908]\n",
      " [ 54.57920837  53.89057764]\n",
      " [ 26.1883049   27.56039695]\n",
      " [ 21.62531281  21.39358922]\n",
      " [ 21.39069366  20.90931917]\n",
      " [ 57.73467636  58.34777573]\n",
      " [ 76.42102051  76.81354976]\n",
      " [104.93390656 105.77200115]\n",
      " [ 28.19551849  28.3125696 ]\n",
      " [ 13.23940754  12.37647197]\n",
      " [ 27.32653999  26.92569141]\n",
      " [ 44.46216202  44.66808309]\n",
      " [ 71.27585602  71.42016491]\n",
      " [ 48.14616394  48.33531765]\n",
      " [ 11.20234585  10.55334566]\n",
      " [ 27.39599991  27.37884282]\n",
      " [ 17.96067238  18.13178546]\n",
      " [ 77.79000854  76.9880257 ]\n",
      " [ 72.5065155   71.90925164]\n",
      " [ 35.0836792   35.77456345]\n",
      " [ 55.21295929  54.4105873 ]\n",
      " [ 37.63431931  37.73865511]\n",
      " [ 63.94415665  64.34579952]\n",
      " [ 26.07262611  27.49527887]\n",
      " [ 25.73697281  25.99951218]\n",
      " [ 32.90923691  33.0832043 ]\n",
      " [  8.72683048  10.53659985]\n",
      " [ 21.96037483  21.50536411]\n",
      " [ 42.12952042  42.88275924]\n",
      " [ 10.41800308   9.48513171]\n",
      " [ 65.9422226   66.37463452]\n",
      " [ 11.93871021  12.22152351]\n",
      " [ 20.88468552  21.01110377]\n",
      " [ 61.41356659  60.75738208]\n",
      " [ 57.42037964  58.02532058]\n",
      " [ 90.92373657  90.70539942]\n",
      " [ 28.28281784  28.20487321]\n",
      " [ 21.98164558  22.26931556]\n",
      " [ 36.00906754  36.44711059]\n",
      " [ 29.00032425  29.18022184]\n",
      " [ 29.42559052  28.75282523]\n",
      " [ 26.90673256  26.63738468]\n",
      " [ 71.69978333  71.50362473]\n",
      " [ 43.96407318  44.25119016]\n",
      " [100.86668396 100.67659071]\n",
      " [  4.23666763   4.30918935]\n",
      " [ 78.69080353  78.500774  ]\n",
      " [  4.1108923    4.12843593]\n",
      " [  6.80406094   6.17871771]\n",
      " [ 74.22610474  73.62265794]\n",
      " [ 21.8621769   21.9678972 ]\n",
      " [  7.77534533   8.1531263 ]\n",
      " [ 71.64845276  71.18242143]\n",
      " [ 88.80467987  88.12354705]\n",
      " [ 74.23116302  74.4958335 ]\n",
      " [ 45.2677002   45.29754504]\n",
      " [ 69.31096649  69.06404266]\n",
      " [ 42.59280396  43.20551839]\n",
      " [ 48.62670898  47.05313709]\n",
      " [ 42.55926132  42.62005199]\n",
      " [ 43.05609131  43.52005024]\n",
      " [ 22.54241753  22.27811105]\n",
      " [ 27.74635124  27.25154628]\n",
      " [ 57.03607178  58.06173304]\n",
      " [  7.75750303   6.81718047]\n",
      " [ 57.98529816  57.69166095]\n",
      " [ 56.72688675  56.67583191]\n",
      " [ 71.54000854  73.40440002]\n",
      " [ 55.86729431  55.41271263]\n",
      " [ 23.21980667  22.56035515]\n",
      " [ 38.54165649  38.63362397]\n",
      " [ 30.68821144  30.28975707]\n",
      " [ 44.54798508  44.95861952]\n",
      " [  9.33973312   8.89278121]\n",
      " [ 30.90827942  30.36759724]\n",
      " [ 83.40893555  83.17460078]\n",
      " [ 72.936409    72.29669301]\n",
      " [ 34.12096786  33.19094912]\n",
      " [ 63.78091049  64.28348648]\n",
      " [ 44.91140366  45.01582694]\n",
      " [ 82.54579926  81.92599326]\n",
      " [ 84.48278046  85.47358535]]\n"
     ]
    }
   ],
   "source": [
    "#X_test=np.asarray(X_test).astype(np.int)\n",
    "\n",
    "#y_test=np.asarray(y_test).astype(np.int)\n",
    "\n",
    "y_pred = ann.predict(X_test)\n",
    "#np.set_printoptions(precision=2)\n",
    "print(np.concatenate((y_pred.reshape(len(y_pred),1), y_test.reshape(len(y_test),1)),1))"
   ]
  },
  {
   "cell_type": "code",
   "execution_count": 21,
   "metadata": {
    "ExecuteTime": {
     "end_time": "2024-07-24T05:14:21.334932500Z",
     "start_time": "2024-07-24T05:14:21.053556600Z"
    }
   },
   "outputs": [
    {
     "data": {
      "text/plain": "Text(0, 0.5, 'Predicted data')"
     },
     "execution_count": 21,
     "metadata": {},
     "output_type": "execute_result"
    },
    {
     "data": {
      "text/plain": "<Figure size 640x480 with 1 Axes>",
      "image/png": "[encoded data removed]"
     },
     "metadata": {},
     "output_type": "display_data"
    }
   ],
   "source": [
    "import matplotlib.pyplot as plt\n",
    "plt.scatter(y_test, y_pred, color=\"blue\")\n",
    "#plt.plot ([0,0.085],[0,0.085], color = \"red\")\n",
    "#plt.axis ([0,0.085,0,0.085])\n",
    "plt.xlabel ('Actual data')\n",
    "plt.ylabel ('Predicted data')"
   ]
  },
  {
   "cell_type": "code",
   "execution_count": 22,
   "metadata": {
    "ExecuteTime": {
     "end_time": "2024-07-28T06:29:32.496809Z",
     "start_time": "2024-07-28T06:29:30.474418600Z"
    }
   },
   "outputs": [
    {
     "data": {
      "text/plain": "<Figure size 900x900 with 1 Axes>",
      "image/png": "[encoded data removed]"
     },
     "metadata": {},
     "output_type": "display_data"
    }
   ],
   "source": [
    "from sklearn.metrics import r2_score\n",
    "# Initialize layout\n",
    "fig1, ax1 = plt.subplots(figsize = (9, 9))\n",
    "\n",
    "# Add scatterplot\n",
    "ax1.scatter(y_test, y_pred, s=70, alpha=1, edgecolors=\"k\",c='mediumblue',zorder=5, label = 'Points')\n",
    "\n",
    "\n",
    "plt.ylabel('Predicted Arrival Time (ms)',fontsize = 25)\n",
    "plt.xlabel('Target Arrival Time (ms)',fontsize = 25)\n",
    "plt.xticks(fontsize = 19)\n",
    "plt.yticks(fontsize = 19)\n",
    "\n",
    "\n",
    "x1 = np.linspace(0,120)\n",
    "\n",
    "plt.plot(x1, x1, 'Red', label='45\\N{DEGREE SIGN} line',lw=2.5,alpha=1)\n",
    "plt.plot(x1, 1.1*x1, '--m', label='\\u00B110% Error',lw=2.5,alpha=0.7)\n",
    "plt.plot(x1, 0.9*x1,'m', linestyle='--',lw=2.5,alpha=0.7)\n",
    "plt.plot(x1, 1.2*x1, '-.g', label='\\u00B120% Error',lw=2.5,alpha=0.7)\n",
    "plt.plot(x1, 0.8*x1,'-.g',lw=2.5,alpha=0.7)\n",
    "\n",
    "plt.ylim(0, 120)\n",
    "plt.xlim(0, 120)\n",
    "plt.legend(loc='upper left',fontsize = 25)\n",
    "\n",
    "plt.grid()\n",
    "\n",
    "ax1.spines['left'].set_color('black')        # setting up Y-axis tick color to red\n",
    "ax1.spines['bottom'].set_color('black')         #setting up above X-axis tick color to red\n",
    "\n",
    "\n",
    "\n",
    "#ax1.annotate(\"$R^2$ = {:.3f}\".format(r2), (2500, 1000),fontsize = 25)  #Model is called here\n",
    "#ax1.annotate(\"Adj.$R^2$ = {:.3f}\".format(adj_r2), (2500, 750),fontsize = 25)\n",
    "\n",
    "plt.savefig('Arrival_ANN1.png', dpi = 300, bbox_inches = 'tight')"
   ]
  },
  {
   "cell_type": "code",
   "execution_count": 27,
   "metadata": {
    "ExecuteTime": {
     "end_time": "2024-07-28T06:44:22.782429400Z",
     "start_time": "2024-07-28T06:44:22.376405900Z"
    }
   },
   "outputs": [
    {
     "name": "stdout",
     "output_type": "stream",
     "text": [
      "24/24 [==============================] - 0s 1ms/step\n",
      "0.47991373623798783\n",
      "0.4768099115567919\n"
     ]
    }
   ],
   "source": [
    "# metrics\n",
    "\n",
    "\n",
    "trainpreds = ann.predict(X_train)\n",
    "\n",
    "from sklearn.metrics import mean_absolute_error\n",
    "print(mean_absolute_error(y_train, trainpreds)) # train\n",
    "print(mean_absolute_error(y_test, y_pred)) # test"
   ]
  },
  {
   "cell_type": "code",
   "execution_count": 28,
   "metadata": {
    "ExecuteTime": {
     "end_time": "2024-07-28T06:44:24.985673700Z",
     "start_time": "2024-07-28T06:44:24.782616Z"
    }
   },
   "outputs": [
    {
     "name": "stdout",
     "output_type": "stream",
     "text": [
      "0.9994102697770313\n"
     ]
    }
   ],
   "source": [
    "from sklearn.metrics import r2_score\n",
    "r2 = r2_score(y_test, y_pred)\n",
    "print (r2)"
   ]
  },
  {
   "cell_type": "code",
   "execution_count": 29,
   "metadata": {
    "ExecuteTime": {
     "end_time": "2024-07-28T06:44:26.626362Z",
     "start_time": "2024-07-28T06:44:26.438879Z"
    }
   },
   "outputs": [
    {
     "name": "stdout",
     "output_type": "stream",
     "text": [
      "0.9994706126396922\n"
     ]
    }
   ],
   "source": [
    "r2_train = r2_score(y_train, trainpreds)\n",
    "print (r2_train)"
   ]
  },
  {
   "cell_type": "code",
   "execution_count": 30,
   "metadata": {
    "ExecuteTime": {
     "end_time": "2024-07-28T06:44:28.595050600Z",
     "start_time": "2024-07-28T06:44:28.313642800Z"
    }
   },
   "outputs": [
    {
     "name": "stdout",
     "output_type": "stream",
     "text": [
      "Within 10% margin 95.62%\n",
      "Within 20% margin 100.00%\n",
      "Out of 20% margin 0.00%\n"
     ]
    }
   ],
   "source": [
    "count1 = 0\n",
    "for i in range(len(y_pred)):\n",
    "    line1 = y_pred[i] - 0.9*y_test[i]\n",
    "    line2 = y_pred[i] - 1.1*y_test[i]\n",
    "    #print ('line 1 ', line1)\n",
    "    #print ('line 2 ', line2)\n",
    "    mask1 = (line1 > 0) & (line2 < 0)\n",
    "    #print (mask)\n",
    "    count1 = np.sum(mask1+count1)\n",
    "    #print (count)\n",
    "\n",
    "count2 = 0\n",
    "for j in range(len(y_pred)):\n",
    "    line3 = y_pred[j] - 0.8*y_test[j]\n",
    "    line4 = y_pred[j] - 1.2*y_test[j]\n",
    "    mask2 = (line3 > 0) & (line4 < 0)\n",
    "    count2 = np.sum(mask2+count2)\n",
    "\n",
    "\n",
    "count3 = 0    \n",
    "for k in range(len(y_pred)):\n",
    "    line5 = y_pred[k] - 0.8*y_test[k]\n",
    "    line6 = y_pred[k] - 1.2*y_test[k]\n",
    "    mask3 = (line5 < 0) or (line6 > 0)\n",
    "    count3 = np.sum(mask3+count3)\n",
    "   \n",
    "\n",
    "print ('Within 10% margin', format((count1/len (y_pred)),'.2%'))\n",
    "print ('Within 20% margin', format((count2/len (y_pred)),'.2%'))\n",
    "print ('Out of 20% margin', format((count3/len (y_pred)),'.2%'))"
   ]
  },
  {
   "cell_type": "code",
   "execution_count": 31,
   "metadata": {
    "ExecuteTime": {
     "end_time": "2024-07-28T06:44:30.423137100Z",
     "start_time": "2024-07-28T06:44:30.266876800Z"
    }
   },
   "outputs": [
    {
     "name": "stdout",
     "output_type": "stream",
     "text": [
      "0.999398928811205\n"
     ]
    }
   ],
   "source": [
    "adj_r2 = 1 - ((1 - r2) * (len(X_test) - 1) / (len(X_test) - len (X_test[0]) - 1))\n",
    "print (adj_r2)"
   ]
  },
  {
   "cell_type": "code",
   "execution_count": 32,
   "metadata": {
    "ExecuteTime": {
     "end_time": "2024-07-28T06:44:31.720245Z",
     "start_time": "2024-07-28T06:44:31.516817400Z"
    }
   },
   "outputs": [
    {
     "data": {
      "text/plain": "0.6171811863097705"
     },
     "execution_count": 32,
     "metadata": {},
     "output_type": "execute_result"
    }
   ],
   "source": [
    "import math\n",
    "from sklearn.metrics import mean_squared_error\n",
    "\n",
    "math.sqrt(mean_squared_error(y_test, y_pred))"
   ]
  },
  {
   "cell_type": "code",
   "execution_count": 33,
   "metadata": {
    "ExecuteTime": {
     "end_time": "2024-07-28T06:44:33.048442600Z",
     "start_time": "2024-07-28T06:44:32.829359600Z"
    }
   },
   "outputs": [
    {
     "data": {
      "text/plain": "0.4768099115567919"
     },
     "execution_count": 33,
     "metadata": {},
     "output_type": "execute_result"
    }
   ],
   "source": [
    "from sklearn.metrics import mean_absolute_error\n",
    "\n",
    "mean_absolute_error(y_test, y_pred)"
   ]
  },
  {
   "cell_type": "markdown",
   "source": [
    "# Part 5 - Use model"
   ],
   "metadata": {
    "collapsed": false
   }
  },
  {
   "cell_type": "markdown",
   "source": [
    "## Import libraries"
   ],
   "metadata": {
    "collapsed": false
   }
  },
  {
   "cell_type": "code",
   "execution_count": 1,
   "outputs": [],
   "source": [
    "from keras.models import load_model\n",
    "import numpy as np"
   ],
   "metadata": {
    "collapsed": false,
    "ExecuteTime": {
     "end_time": "2023-08-29T14:31:13.427559700Z",
     "start_time": "2023-08-29T14:31:09.869382600Z"
    }
   }
  },
  {
   "cell_type": "markdown",
   "source": [
    "## Load model"
   ],
   "metadata": {
    "collapsed": false
   }
  },
  {
   "cell_type": "code",
   "execution_count": 2,
   "outputs": [],
   "source": [
    "ann = load_model('Arrival_ANN_1.h5')"
   ],
   "metadata": {
    "collapsed": false,
    "ExecuteTime": {
     "end_time": "2023-08-29T14:31:14.742320200Z",
     "start_time": "2023-08-29T14:31:14.624309Z"
    }
   }
  },
  {
   "cell_type": "markdown",
   "source": [
    "## Prediction"
   ],
   "metadata": {
    "collapsed": false
   }
  },
  {
   "cell_type": "code",
   "execution_count": 3,
   "outputs": [
    {
     "name": "stdout",
     "output_type": "stream",
     "text": [
      "[[20.   6.3]]\n",
      "1/1 [==============================] - 0s 166ms/step\n",
      "[[0.009710988]]\n",
      "Stored 'arrival_time' (ndarray)\n"
     ]
    }
   ],
   "source": [
    "charge_mass = 20\n",
    "standoff_distance = 6.3\n",
    "arr = np.array ([[charge_mass,standoff_distance]])\n",
    "print (arr)\n",
    "np.set_printoptions(precision=9)\n",
    "arrival_time = ann.predict(arr)\n",
    "print (arrival_time)\n",
    "%store arrival_time"
   ],
   "metadata": {
    "collapsed": false,
    "ExecuteTime": {
     "end_time": "2023-08-29T14:31:17.426636700Z",
     "start_time": "2023-08-29T14:31:17.095790400Z"
    }
   }
  }
 ],
 "metadata": {
  "colab": {
   "collapsed_sections": [],
   "name": "Artificial Neural Network",
   "provenance": [],
   "toc_visible": true
  },
  "kernelspec": {
   "display_name": "Python 3 (ipykernel)",
   "language": "python",
   "name": "python3"
  },
  "language_info": {
   "codemirror_mode": {
    "name": "ipython",
    "version": 3
   },
   "file_extension": ".py",
   "mimetype": "text/x-python",
   "name": "python",
   "nbconvert_exporter": "python",
   "pygments_lexer": "ipython3",
   "version": "3.9.7"
  }
 },
 "nbformat": 4,
 "nbformat_minor": 4
}
