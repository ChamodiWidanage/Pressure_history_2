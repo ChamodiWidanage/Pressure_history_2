{
 "cells": [
  {
   "cell_type": "markdown",
   "source": [
    "# Part 1 - Data Preprocessing"
   ],
   "metadata": {
    "collapsed": false
   }
  },
  {
   "cell_type": "code",
   "execution_count": 1,
   "metadata": {
    "colab": {},
    "colab_type": "code",
    "id": "lxChR1Rk-umf",
    "ExecuteTime": {
     "end_time": "2024-09-01T23:24:28.767356200Z",
     "start_time": "2024-09-01T23:24:23.813530400Z"
    }
   },
   "outputs": [],
   "source": [
    "import numpy as np\n",
    "import pandas as pd\n",
    "import tensorflow as tf"
   ]
  },
  {
   "cell_type": "code",
   "execution_count": 2,
   "metadata": {
    "colab": {},
    "colab_type": "code",
    "id": "B9CV13Co_HHM",
    "ExecuteTime": {
     "end_time": "2024-09-01T23:25:46.803220600Z",
     "start_time": "2024-09-01T23:25:45.662918700Z"
    }
   },
   "outputs": [
    {
     "name": "stdout",
     "output_type": "stream",
     "text": [
      "<class 'pandas.core.frame.DataFrame'>\n",
      "RangeIndex: 1748 entries, 0 to 1747\n",
      "Data columns (total 4 columns):\n",
      " #   Column             Non-Null Count  Dtype  \n",
      "---  ------             --------------  -----  \n",
      " 0   Mass               1748 non-null   float64\n",
      " 1   Standoff distance  1748 non-null   float64\n",
      " 2   Angle              1748 non-null   int64  \n",
      " 3   Arrival time       1748 non-null   float64\n",
      "dtypes: float64(3), int64(1)\n",
      "memory usage: 54.8 KB\n"
     ]
    }
   ],
   "source": [
    "dataset = pd.read_excel('RP_arrival_all.xlsx')\n",
    "dataset.info()"
   ]
  },
  {
   "cell_type": "code",
   "execution_count": 3,
   "metadata": {
    "ExecuteTime": {
     "end_time": "2024-09-01T23:25:49.782280100Z",
     "start_time": "2024-09-01T23:25:49.736741Z"
    }
   },
   "outputs": [
    {
     "data": {
      "text/plain": "   Mass  Standoff distance  Angle  Arrival time\n0   0.5                5.0      0     10.055926\n1   0.5                5.0     15     10.536600\n2   0.5                5.0     30     12.221524\n3   0.5                5.0     45     15.898340\n4   2.5                5.0      0      7.722725",
      "text/html": "<div>\n<style scoped>\n    .dataframe tbody tr th:only-of-type {\n        vertical-align: middle;\n    }\n\n    .dataframe tbody tr th {\n        vertical-align: top;\n    }\n\n    .dataframe thead th {\n        text-align: right;\n    }\n</style>\n<table border=\"1\" class=\"dataframe\">\n  <thead>\n    <tr style=\"text-align: right;\">\n      <th></th>\n      <th>Mass</th>\n      <th>Standoff distance</th>\n      <th>Angle</th>\n      <th>Arrival time</th>\n    </tr>\n  </thead>\n  <tbody>\n    <tr>\n      <th>0</th>\n      <td>0.5</td>\n      <td>5.0</td>\n      <td>0</td>\n      <td>10.055926</td>\n    </tr>\n    <tr>\n      <th>1</th>\n      <td>0.5</td>\n      <td>5.0</td>\n      <td>15</td>\n      <td>10.536600</td>\n    </tr>\n    <tr>\n      <th>2</th>\n      <td>0.5</td>\n      <td>5.0</td>\n      <td>30</td>\n      <td>12.221524</td>\n    </tr>\n    <tr>\n      <th>3</th>\n      <td>0.5</td>\n      <td>5.0</td>\n      <td>45</td>\n      <td>15.898340</td>\n    </tr>\n    <tr>\n      <th>4</th>\n      <td>2.5</td>\n      <td>5.0</td>\n      <td>0</td>\n      <td>7.722725</td>\n    </tr>\n  </tbody>\n</table>\n</div>"
     },
     "execution_count": 3,
     "metadata": {},
     "output_type": "execute_result"
    }
   ],
   "source": [
    "dataset.head()"
   ]
  },
  {
   "cell_type": "code",
   "execution_count": 4,
   "metadata": {
    "ExecuteTime": {
     "end_time": "2024-09-01T23:25:51.436456100Z",
     "start_time": "2024-09-01T23:25:51.430455200Z"
    }
   },
   "outputs": [
    {
     "name": "stdout",
     "output_type": "stream",
     "text": [
      "(1748, 3) (1748,)\n"
     ]
    }
   ],
   "source": [
    "y = dataset['Arrival time']\n",
    "X = dataset.drop(['Arrival time'], axis=1)\n",
    "print(X.shape, y.shape)"
   ]
  },
  {
   "cell_type": "code",
   "execution_count": 5,
   "metadata": {
    "ExecuteTime": {
     "end_time": "2024-09-01T23:25:53.384721200Z",
     "start_time": "2024-09-01T23:25:53.343645900Z"
    }
   },
   "outputs": [],
   "source": [
    "# convert to numpy array\n",
    "X = np.array(X)\n",
    "y = np.array(y)"
   ]
  },
  {
   "cell_type": "code",
   "execution_count": 6,
   "metadata": {
    "colab": {},
    "colab_type": "code",
    "id": "L5edeb2r_agx",
    "ExecuteTime": {
     "end_time": "2024-09-01T23:25:56.639227200Z",
     "start_time": "2024-09-01T23:25:55.542385Z"
    }
   },
   "outputs": [],
   "source": [
    "from sklearn.model_selection import train_test_split\n",
    "X_train, X_test, y_train, y_test = train_test_split(X,\n",
    "                                                    y,\n",
    "                                                    test_size = 0.3,\n",
    "                                                    random_state = 0)"
   ]
  },
  {
   "cell_type": "code",
   "execution_count": 7,
   "metadata": {
    "colab": {},
    "colab_type": "code",
    "id": "L5edeb2r_agx",
    "ExecuteTime": {
     "end_time": "2024-09-01T23:25:57.938686400Z",
     "start_time": "2024-09-01T23:25:57.897117700Z"
    }
   },
   "outputs": [],
   "source": [
    "X_val, X_test, y_val, y_test = train_test_split(X_test,\n",
    "                                                y_test,\n",
    "                                                test_size = 0.5,\n",
    "                                                random_state = 0)"
   ]
  },
  {
   "cell_type": "markdown",
   "metadata": {
    "colab_type": "text",
    "id": "_mSLlAT9_eyI"
   },
   "source": [
    "# Part 2 - Building the ANN"
   ]
  },
  {
   "cell_type": "markdown",
   "source": [],
   "metadata": {
    "collapsed": false
   }
  },
  {
   "cell_type": "code",
   "execution_count": 8,
   "metadata": {
    "colab": {},
    "colab_type": "code",
    "id": "J6Hd97Ls__Nz",
    "ExecuteTime": {
     "end_time": "2024-08-05T13:30:08.709148500Z",
     "start_time": "2024-08-05T13:30:08.458653200Z"
    }
   },
   "outputs": [],
   "source": [
    "ann = tf.keras.models.Sequential()"
   ]
  },
  {
   "cell_type": "code",
   "execution_count": 9,
   "metadata": {
    "colab": {},
    "colab_type": "code",
    "id": "ksO_Vv40AHix",
    "ExecuteTime": {
     "end_time": "2024-08-05T13:30:08.937964200Z",
     "start_time": "2024-08-05T13:30:08.711697700Z"
    }
   },
   "outputs": [],
   "source": [
    "ann.add(tf.keras.layers.Dense(units=20,\n",
    "                              input_shape=(X_train.shape[1],),\n",
    "                              activation='leaky_relu'))\n",
    "ann.add(tf.keras.layers.Dense(units=15,\n",
    "                              activation='leaky_relu'))\n",
    "ann.add(tf.keras.layers.Dense(units=10,\n",
    "                              activation='leaky_relu'))"
   ]
  },
  {
   "cell_type": "code",
   "execution_count": 10,
   "metadata": {
    "colab": {},
    "colab_type": "code",
    "id": "YFATpzsUAkLL",
    "ExecuteTime": {
     "end_time": "2024-08-05T13:30:09.016061Z",
     "start_time": "2024-08-05T13:30:08.929956400Z"
    }
   },
   "outputs": [],
   "source": [
    "ann.add(tf.keras.layers.Dense(units=1,\n",
    "                              activation='linear'))"
   ]
  },
  {
   "cell_type": "code",
   "execution_count": 11,
   "metadata": {
    "ExecuteTime": {
     "end_time": "2024-08-05T13:30:09.220364500Z",
     "start_time": "2024-08-05T13:30:09.008056200Z"
    }
   },
   "outputs": [
    {
     "name": "stdout",
     "output_type": "stream",
     "text": [
      "Model: \"sequential\"\n",
      "_________________________________________________________________\n",
      " Layer (type)                Output Shape              Param #   \n",
      "=================================================================\n",
      " dense (Dense)               (None, 20)                80        \n",
      "                                                                 \n",
      " dense_1 (Dense)             (None, 15)                315       \n",
      "                                                                 \n",
      " dense_2 (Dense)             (None, 10)                160       \n",
      "                                                                 \n",
      " dense_3 (Dense)             (None, 1)                 11        \n",
      "                                                                 \n",
      "=================================================================\n",
      "Total params: 566\n",
      "Trainable params: 566\n",
      "Non-trainable params: 0\n",
      "_________________________________________________________________\n"
     ]
    }
   ],
   "source": [
    "ann.summary()"
   ]
  },
  {
   "cell_type": "markdown",
   "metadata": {
    "colab_type": "text",
    "id": "fq7e4fF6A1yy"
   },
   "source": [
    "# Part 3 - Training the ANN"
   ]
  },
  {
   "cell_type": "code",
   "execution_count": 12,
   "metadata": {
    "colab": {},
    "colab_type": "code",
    "id": "pesgbWlCAtB4",
    "ExecuteTime": {
     "end_time": "2024-08-05T13:30:09.457130900Z",
     "start_time": "2024-08-05T13:30:09.163302400Z"
    }
   },
   "outputs": [],
   "source": [
    "from tensorflow.keras.optimizers import Adam\n",
    "opt = Adam(learning_rate=0.01)\n",
    "ann.compile(optimizer = opt,\n",
    "            loss = 'mean_squared_error',\n",
    "            metrics = ['mae'])"
   ]
  },
  {
   "cell_type": "code",
   "execution_count": 13,
   "metadata": {
    "ExecuteTime": {
     "end_time": "2024-08-05T13:30:09.490653Z",
     "start_time": "2024-08-05T13:30:09.319028700Z"
    }
   },
   "outputs": [],
   "source": [
    "# protects from unnecessary further training of the model\n",
    "#if a particular metric does not continue to improve over a number of n epochs.\n",
    "#In such a case, the model training would be automatically aborted.\n",
    "from keras.callbacks import EarlyStopping\n",
    "es = EarlyStopping(monitor='val_loss',\n",
    "                   mode='min',\n",
    "                   patience=50,\n",
    "                   restore_best_weights = True)"
   ]
  },
  {
   "cell_type": "code",
   "execution_count": 14,
   "metadata": {
    "colab": {
     "base_uri": "https://localhost:8080/",
     "height": 1000
    },
    "colab_type": "code",
    "id": "c_vV-tiiA5zn",
    "outputId": "4a2b6ee6-ed75-4698-9069-b250e613803f",
    "ExecuteTime": {
     "end_time": "2024-08-05T13:32:36.306958400Z",
     "start_time": "2024-08-05T13:30:09.463654100Z"
    }
   },
   "outputs": [
    {
     "name": "stdout",
     "output_type": "stream",
     "text": [
      "Epoch 1/500\n",
      "41/41 [==============================] - 1s 11ms/step - loss: 373.5009 - mae: 12.9252 - val_loss: 39.5339 - val_mae: 4.8156\n",
      "Epoch 2/500\n",
      "41/41 [==============================] - 0s 4ms/step - loss: 25.5853 - mae: 3.4389 - val_loss: 18.6152 - val_mae: 3.0158\n",
      "Epoch 3/500\n",
      "41/41 [==============================] - 0s 4ms/step - loss: 19.5703 - mae: 2.9363 - val_loss: 16.2278 - val_mae: 2.6720\n",
      "Epoch 4/500\n",
      "41/41 [==============================] - 0s 4ms/step - loss: 16.3385 - mae: 2.5301 - val_loss: 16.4297 - val_mae: 2.7055\n",
      "Epoch 5/500\n",
      "41/41 [==============================] - 0s 3ms/step - loss: 14.8112 - mae: 2.4505 - val_loss: 12.5842 - val_mae: 2.1835\n",
      "Epoch 6/500\n",
      "41/41 [==============================] - 0s 4ms/step - loss: 13.0551 - mae: 2.2533 - val_loss: 12.5288 - val_mae: 2.3100\n",
      "Epoch 7/500\n",
      "41/41 [==============================] - 0s 3ms/step - loss: 11.2055 - mae: 2.0971 - val_loss: 10.4511 - val_mae: 1.9912\n",
      "Epoch 8/500\n",
      "41/41 [==============================] - 0s 4ms/step - loss: 10.5993 - mae: 2.0446 - val_loss: 9.6482 - val_mae: 1.9889\n",
      "Epoch 9/500\n",
      "41/41 [==============================] - 0s 3ms/step - loss: 10.5697 - mae: 2.1282 - val_loss: 9.2775 - val_mae: 1.9766\n",
      "Epoch 10/500\n",
      "41/41 [==============================] - 0s 3ms/step - loss: 9.9035 - mae: 2.0386 - val_loss: 19.3152 - val_mae: 3.3657\n",
      "Epoch 11/500\n",
      "41/41 [==============================] - 0s 3ms/step - loss: 10.2542 - mae: 2.0949 - val_loss: 8.0270 - val_mae: 1.8799\n",
      "Epoch 12/500\n",
      "41/41 [==============================] - 0s 3ms/step - loss: 10.4206 - mae: 2.1827 - val_loss: 9.8670 - val_mae: 2.1538\n",
      "Epoch 13/500\n",
      "41/41 [==============================] - 0s 3ms/step - loss: 8.7559 - mae: 1.9971 - val_loss: 7.4733 - val_mae: 1.7848\n",
      "Epoch 14/500\n",
      "41/41 [==============================] - 0s 3ms/step - loss: 7.4374 - mae: 1.8512 - val_loss: 7.3162 - val_mae: 1.7222\n",
      "Epoch 15/500\n",
      "41/41 [==============================] - 0s 3ms/step - loss: 7.2430 - mae: 1.7752 - val_loss: 8.2672 - val_mae: 1.8975\n",
      "Epoch 16/500\n",
      "41/41 [==============================] - 0s 3ms/step - loss: 6.9089 - mae: 1.7314 - val_loss: 6.8885 - val_mae: 1.8301\n",
      "Epoch 17/500\n",
      "41/41 [==============================] - 0s 3ms/step - loss: 6.7665 - mae: 1.7302 - val_loss: 12.3472 - val_mae: 2.5483\n",
      "Epoch 18/500\n",
      "41/41 [==============================] - 0s 3ms/step - loss: 6.4386 - mae: 1.6859 - val_loss: 10.9805 - val_mae: 2.4378\n",
      "Epoch 19/500\n",
      "41/41 [==============================] - 0s 3ms/step - loss: 7.6491 - mae: 1.9012 - val_loss: 7.5061 - val_mae: 1.9710\n",
      "Epoch 20/500\n",
      "41/41 [==============================] - 0s 3ms/step - loss: 8.0022 - mae: 1.9507 - val_loss: 7.8062 - val_mae: 1.8592\n",
      "Epoch 21/500\n",
      "41/41 [==============================] - 0s 3ms/step - loss: 7.3287 - mae: 1.8960 - val_loss: 5.6772 - val_mae: 1.6248\n",
      "Epoch 22/500\n",
      "41/41 [==============================] - 0s 3ms/step - loss: 6.4704 - mae: 1.7303 - val_loss: 6.4403 - val_mae: 1.7728\n",
      "Epoch 23/500\n",
      "41/41 [==============================] - 0s 3ms/step - loss: 6.5700 - mae: 1.7910 - val_loss: 7.9500 - val_mae: 1.9125\n",
      "Epoch 24/500\n",
      "41/41 [==============================] - 0s 4ms/step - loss: 7.0838 - mae: 1.8277 - val_loss: 5.0132 - val_mae: 1.5173\n",
      "Epoch 25/500\n",
      "41/41 [==============================] - 0s 3ms/step - loss: 5.0271 - mae: 1.4994 - val_loss: 8.4200 - val_mae: 2.1613\n",
      "Epoch 26/500\n",
      "41/41 [==============================] - 0s 3ms/step - loss: 5.3618 - mae: 1.5543 - val_loss: 4.8689 - val_mae: 1.5388\n",
      "Epoch 27/500\n",
      "41/41 [==============================] - 0s 3ms/step - loss: 5.2094 - mae: 1.5784 - val_loss: 4.5003 - val_mae: 1.3930\n",
      "Epoch 28/500\n",
      "41/41 [==============================] - 0s 3ms/step - loss: 5.2190 - mae: 1.5770 - val_loss: 4.6043 - val_mae: 1.4741\n",
      "Epoch 29/500\n",
      "41/41 [==============================] - 0s 3ms/step - loss: 5.0214 - mae: 1.5073 - val_loss: 4.5285 - val_mae: 1.4830\n",
      "Epoch 30/500\n",
      "41/41 [==============================] - 0s 3ms/step - loss: 5.5587 - mae: 1.5454 - val_loss: 5.3471 - val_mae: 1.7669\n",
      "Epoch 31/500\n",
      "41/41 [==============================] - 0s 3ms/step - loss: 4.9766 - mae: 1.5273 - val_loss: 4.1756 - val_mae: 1.3736\n",
      "Epoch 32/500\n",
      "41/41 [==============================] - 0s 3ms/step - loss: 3.5785 - mae: 1.2982 - val_loss: 3.5907 - val_mae: 1.3284\n",
      "Epoch 33/500\n",
      "41/41 [==============================] - 0s 3ms/step - loss: 3.0188 - mae: 1.1365 - val_loss: 3.9883 - val_mae: 1.4427\n",
      "Epoch 34/500\n",
      "41/41 [==============================] - 0s 3ms/step - loss: 4.3245 - mae: 1.3928 - val_loss: 3.6504 - val_mae: 1.1721\n",
      "Epoch 35/500\n",
      "41/41 [==============================] - 0s 3ms/step - loss: 2.9294 - mae: 1.1305 - val_loss: 3.9005 - val_mae: 1.4055\n",
      "Epoch 36/500\n",
      "41/41 [==============================] - 0s 3ms/step - loss: 2.9764 - mae: 1.1611 - val_loss: 8.4604 - val_mae: 2.1514\n",
      "Epoch 37/500\n",
      "41/41 [==============================] - 0s 3ms/step - loss: 5.8083 - mae: 1.6147 - val_loss: 3.9152 - val_mae: 1.4088\n",
      "Epoch 38/500\n",
      "41/41 [==============================] - 0s 3ms/step - loss: 6.3580 - mae: 1.7307 - val_loss: 5.4240 - val_mae: 1.8167\n",
      "Epoch 39/500\n",
      "41/41 [==============================] - 0s 3ms/step - loss: 3.1498 - mae: 1.2021 - val_loss: 3.4507 - val_mae: 1.1340\n",
      "Epoch 40/500\n",
      "41/41 [==============================] - 0s 4ms/step - loss: 2.4379 - mae: 1.0392 - val_loss: 2.5915 - val_mae: 1.0929\n",
      "Epoch 41/500\n",
      "41/41 [==============================] - 0s 3ms/step - loss: 3.7280 - mae: 1.3193 - val_loss: 3.1611 - val_mae: 1.3618\n",
      "Epoch 42/500\n",
      "41/41 [==============================] - 0s 3ms/step - loss: 3.5849 - mae: 1.3541 - val_loss: 2.7718 - val_mae: 1.1437\n",
      "Epoch 43/500\n",
      "41/41 [==============================] - 0s 3ms/step - loss: 2.2111 - mae: 0.9752 - val_loss: 2.0191 - val_mae: 0.9247\n",
      "Epoch 44/500\n",
      "41/41 [==============================] - 0s 3ms/step - loss: 2.4048 - mae: 1.0400 - val_loss: 2.0607 - val_mae: 0.8499\n",
      "Epoch 45/500\n",
      "41/41 [==============================] - 0s 3ms/step - loss: 1.7722 - mae: 0.9094 - val_loss: 1.8597 - val_mae: 0.9178\n",
      "Epoch 46/500\n",
      "41/41 [==============================] - 0s 3ms/step - loss: 5.6971 - mae: 1.5082 - val_loss: 10.8659 - val_mae: 2.5128\n",
      "Epoch 47/500\n",
      "41/41 [==============================] - 0s 3ms/step - loss: 4.2973 - mae: 1.3914 - val_loss: 3.4163 - val_mae: 1.3495\n",
      "Epoch 48/500\n",
      "41/41 [==============================] - 0s 3ms/step - loss: 3.0792 - mae: 1.2061 - val_loss: 2.2956 - val_mae: 1.0070\n",
      "Epoch 49/500\n",
      "41/41 [==============================] - 0s 3ms/step - loss: 2.2912 - mae: 1.0758 - val_loss: 2.7183 - val_mae: 1.1140\n",
      "Epoch 50/500\n",
      "41/41 [==============================] - 0s 3ms/step - loss: 1.6160 - mae: 0.8496 - val_loss: 1.8703 - val_mae: 0.8611\n",
      "Epoch 51/500\n",
      "41/41 [==============================] - 0s 3ms/step - loss: 1.5122 - mae: 0.8609 - val_loss: 1.7687 - val_mae: 0.9558\n",
      "Epoch 52/500\n",
      "41/41 [==============================] - 0s 3ms/step - loss: 1.6165 - mae: 0.8744 - val_loss: 1.1052 - val_mae: 0.7198\n",
      "Epoch 53/500\n",
      "41/41 [==============================] - 0s 3ms/step - loss: 0.9602 - mae: 0.6486 - val_loss: 1.0143 - val_mae: 0.7197\n",
      "Epoch 54/500\n",
      "41/41 [==============================] - 1s 23ms/step - loss: 0.9175 - mae: 0.6489 - val_loss: 2.2318 - val_mae: 1.0388\n",
      "Epoch 55/500\n",
      "41/41 [==============================] - 0s 3ms/step - loss: 1.1532 - mae: 0.7558 - val_loss: 1.0388 - val_mae: 0.6826\n",
      "Epoch 56/500\n",
      "41/41 [==============================] - 0s 3ms/step - loss: 0.8822 - mae: 0.6571 - val_loss: 0.9439 - val_mae: 0.6271\n",
      "Epoch 57/500\n",
      "41/41 [==============================] - 0s 3ms/step - loss: 0.7256 - mae: 0.5849 - val_loss: 1.5657 - val_mae: 0.8921\n",
      "Epoch 58/500\n",
      "41/41 [==============================] - 0s 3ms/step - loss: 1.1351 - mae: 0.7377 - val_loss: 1.2014 - val_mae: 0.8214\n",
      "Epoch 59/500\n",
      "41/41 [==============================] - 0s 3ms/step - loss: 1.5817 - mae: 0.8765 - val_loss: 1.1659 - val_mae: 0.7735\n",
      "Epoch 60/500\n",
      "41/41 [==============================] - 0s 3ms/step - loss: 0.8928 - mae: 0.6565 - val_loss: 0.6439 - val_mae: 0.5920\n",
      "Epoch 61/500\n",
      "41/41 [==============================] - 0s 3ms/step - loss: 0.6969 - mae: 0.5800 - val_loss: 0.6665 - val_mae: 0.5768\n",
      "Epoch 62/500\n",
      "41/41 [==============================] - 0s 3ms/step - loss: 0.5688 - mae: 0.5217 - val_loss: 0.9993 - val_mae: 0.7375\n",
      "Epoch 63/500\n",
      "41/41 [==============================] - 0s 3ms/step - loss: 1.1704 - mae: 0.7332 - val_loss: 0.6237 - val_mae: 0.4946\n",
      "Epoch 64/500\n",
      "41/41 [==============================] - 0s 3ms/step - loss: 1.4586 - mae: 0.7925 - val_loss: 0.9483 - val_mae: 0.6337\n",
      "Epoch 65/500\n",
      "41/41 [==============================] - 0s 4ms/step - loss: 0.7421 - mae: 0.5867 - val_loss: 0.4577 - val_mae: 0.4441\n",
      "Epoch 66/500\n",
      "41/41 [==============================] - 0s 4ms/step - loss: 0.4688 - mae: 0.4729 - val_loss: 0.4781 - val_mae: 0.5055\n",
      "Epoch 67/500\n",
      "41/41 [==============================] - 0s 3ms/step - loss: 0.5105 - mae: 0.5221 - val_loss: 1.0175 - val_mae: 0.6606\n",
      "Epoch 68/500\n",
      "41/41 [==============================] - 0s 3ms/step - loss: 0.5748 - mae: 0.5232 - val_loss: 0.3831 - val_mae: 0.4622\n",
      "Epoch 69/500\n",
      "41/41 [==============================] - 0s 4ms/step - loss: 0.4934 - mae: 0.5110 - val_loss: 0.5017 - val_mae: 0.5271\n",
      "Epoch 70/500\n",
      "41/41 [==============================] - 0s 3ms/step - loss: 0.6489 - mae: 0.5613 - val_loss: 0.4769 - val_mae: 0.5209\n",
      "Epoch 71/500\n",
      "41/41 [==============================] - 0s 3ms/step - loss: 0.3233 - mae: 0.4111 - val_loss: 0.3833 - val_mae: 0.4355\n",
      "Epoch 72/500\n",
      "41/41 [==============================] - 0s 4ms/step - loss: 0.4633 - mae: 0.4679 - val_loss: 0.3047 - val_mae: 0.3859\n",
      "Epoch 73/500\n",
      "41/41 [==============================] - 0s 3ms/step - loss: 1.0083 - mae: 0.6919 - val_loss: 0.2687 - val_mae: 0.3841\n",
      "Epoch 74/500\n",
      "41/41 [==============================] - 0s 3ms/step - loss: 0.5198 - mae: 0.5063 - val_loss: 0.4146 - val_mae: 0.5007\n",
      "Epoch 75/500\n",
      "41/41 [==============================] - 0s 3ms/step - loss: 0.7759 - mae: 0.5859 - val_loss: 0.2889 - val_mae: 0.3695\n",
      "Epoch 76/500\n",
      "41/41 [==============================] - 0s 3ms/step - loss: 0.5344 - mae: 0.5128 - val_loss: 0.6718 - val_mae: 0.6974\n",
      "Epoch 77/500\n",
      "41/41 [==============================] - 0s 3ms/step - loss: 0.9239 - mae: 0.6573 - val_loss: 0.4512 - val_mae: 0.5047\n",
      "Epoch 78/500\n",
      "41/41 [==============================] - 0s 3ms/step - loss: 0.9036 - mae: 0.6543 - val_loss: 0.7548 - val_mae: 0.6720\n",
      "Epoch 79/500\n",
      "41/41 [==============================] - 0s 3ms/step - loss: 0.7050 - mae: 0.5790 - val_loss: 0.4222 - val_mae: 0.5179\n",
      "Epoch 80/500\n",
      "41/41 [==============================] - 0s 3ms/step - loss: 0.4163 - mae: 0.4568 - val_loss: 0.4021 - val_mae: 0.4974\n",
      "Epoch 81/500\n",
      "41/41 [==============================] - 0s 3ms/step - loss: 0.4231 - mae: 0.4585 - val_loss: 0.8059 - val_mae: 0.6030\n",
      "Epoch 82/500\n",
      "41/41 [==============================] - 0s 3ms/step - loss: 0.8809 - mae: 0.6438 - val_loss: 0.8377 - val_mae: 0.6743\n",
      "Epoch 83/500\n",
      "41/41 [==============================] - 0s 3ms/step - loss: 1.0041 - mae: 0.7201 - val_loss: 0.8392 - val_mae: 0.6994\n",
      "Epoch 84/500\n",
      "41/41 [==============================] - 0s 3ms/step - loss: 0.5815 - mae: 0.5512 - val_loss: 0.4666 - val_mae: 0.5149\n",
      "Epoch 85/500\n",
      "41/41 [==============================] - 0s 3ms/step - loss: 0.3121 - mae: 0.3718 - val_loss: 0.4435 - val_mae: 0.4515\n",
      "Epoch 86/500\n",
      "41/41 [==============================] - 0s 3ms/step - loss: 0.4804 - mae: 0.4688 - val_loss: 0.5853 - val_mae: 0.5729\n",
      "Epoch 87/500\n",
      "41/41 [==============================] - 0s 3ms/step - loss: 0.9397 - mae: 0.6724 - val_loss: 0.3905 - val_mae: 0.4165\n",
      "Epoch 88/500\n",
      "41/41 [==============================] - 0s 3ms/step - loss: 0.5843 - mae: 0.5671 - val_loss: 0.6772 - val_mae: 0.5583\n",
      "Epoch 89/500\n",
      "41/41 [==============================] - 0s 3ms/step - loss: 0.4332 - mae: 0.4414 - val_loss: 0.2137 - val_mae: 0.3391\n",
      "Epoch 90/500\n",
      "41/41 [==============================] - 0s 3ms/step - loss: 0.2348 - mae: 0.3272 - val_loss: 0.3928 - val_mae: 0.4117\n",
      "Epoch 91/500\n",
      "41/41 [==============================] - 0s 3ms/step - loss: 0.6232 - mae: 0.5402 - val_loss: 2.4259 - val_mae: 1.2725\n",
      "Epoch 92/500\n",
      "41/41 [==============================] - 0s 3ms/step - loss: 0.7050 - mae: 0.5718 - val_loss: 0.3106 - val_mae: 0.4390\n",
      "Epoch 93/500\n",
      "41/41 [==============================] - 0s 3ms/step - loss: 0.3987 - mae: 0.4526 - val_loss: 0.6077 - val_mae: 0.6316\n",
      "Epoch 94/500\n",
      "41/41 [==============================] - 0s 3ms/step - loss: 0.6675 - mae: 0.5864 - val_loss: 0.2883 - val_mae: 0.3968\n",
      "Epoch 95/500\n",
      "41/41 [==============================] - 0s 3ms/step - loss: 0.6774 - mae: 0.5755 - val_loss: 1.0791 - val_mae: 0.7307\n",
      "Epoch 96/500\n",
      "41/41 [==============================] - 0s 3ms/step - loss: 1.0433 - mae: 0.6977 - val_loss: 1.5373 - val_mae: 0.8038\n",
      "Epoch 97/500\n",
      "41/41 [==============================] - 0s 3ms/step - loss: 1.3959 - mae: 0.7820 - val_loss: 1.2403 - val_mae: 0.9255\n",
      "Epoch 98/500\n",
      "41/41 [==============================] - 0s 3ms/step - loss: 1.2687 - mae: 0.7790 - val_loss: 0.4290 - val_mae: 0.4863\n",
      "Epoch 99/500\n",
      "41/41 [==============================] - 0s 3ms/step - loss: 0.8834 - mae: 0.6347 - val_loss: 1.6195 - val_mae: 1.0187\n",
      "Epoch 100/500\n",
      "41/41 [==============================] - 0s 3ms/step - loss: 0.6919 - mae: 0.5936 - val_loss: 0.2881 - val_mae: 0.3702\n",
      "Epoch 101/500\n",
      "41/41 [==============================] - 0s 3ms/step - loss: 2.2638 - mae: 1.0657 - val_loss: 1.9098 - val_mae: 1.1570\n",
      "Epoch 102/500\n",
      "41/41 [==============================] - 0s 3ms/step - loss: 0.9570 - mae: 0.6603 - val_loss: 0.3607 - val_mae: 0.4364\n",
      "Epoch 103/500\n",
      "41/41 [==============================] - 0s 3ms/step - loss: 0.8350 - mae: 0.6100 - val_loss: 0.6028 - val_mae: 0.6212\n",
      "Epoch 104/500\n",
      "41/41 [==============================] - 0s 3ms/step - loss: 0.7718 - mae: 0.5870 - val_loss: 0.3266 - val_mae: 0.4422\n",
      "Epoch 105/500\n",
      "41/41 [==============================] - 0s 3ms/step - loss: 0.6112 - mae: 0.5244 - val_loss: 1.6357 - val_mae: 0.9470\n",
      "Epoch 106/500\n",
      "41/41 [==============================] - 0s 3ms/step - loss: 3.2751 - mae: 1.2057 - val_loss: 1.4411 - val_mae: 0.8385\n",
      "Epoch 107/500\n",
      "41/41 [==============================] - 0s 3ms/step - loss: 0.8735 - mae: 0.6124 - val_loss: 0.3331 - val_mae: 0.4612\n",
      "Epoch 108/500\n",
      "41/41 [==============================] - 0s 3ms/step - loss: 0.2745 - mae: 0.3560 - val_loss: 0.2158 - val_mae: 0.3230\n",
      "Epoch 109/500\n",
      "41/41 [==============================] - 0s 3ms/step - loss: 0.3425 - mae: 0.4050 - val_loss: 0.4770 - val_mae: 0.4794\n",
      "Epoch 110/500\n",
      "41/41 [==============================] - 0s 3ms/step - loss: 1.2577 - mae: 0.7653 - val_loss: 2.9555 - val_mae: 1.3635\n",
      "Epoch 111/500\n",
      "41/41 [==============================] - 0s 3ms/step - loss: 1.4496 - mae: 0.7946 - val_loss: 0.1937 - val_mae: 0.3225\n",
      "Epoch 112/500\n",
      "41/41 [==============================] - 0s 3ms/step - loss: 0.6871 - mae: 0.5696 - val_loss: 0.4718 - val_mae: 0.4951\n",
      "Epoch 113/500\n",
      "41/41 [==============================] - 0s 3ms/step - loss: 0.3323 - mae: 0.3970 - val_loss: 0.3264 - val_mae: 0.3916\n",
      "Epoch 114/500\n",
      "41/41 [==============================] - 0s 3ms/step - loss: 0.2393 - mae: 0.3372 - val_loss: 0.2450 - val_mae: 0.3422\n",
      "Epoch 115/500\n",
      "41/41 [==============================] - 0s 3ms/step - loss: 0.1728 - mae: 0.2873 - val_loss: 0.1811 - val_mae: 0.3029\n",
      "Epoch 116/500\n",
      "41/41 [==============================] - 0s 3ms/step - loss: 0.2946 - mae: 0.3706 - val_loss: 0.2250 - val_mae: 0.3179\n",
      "Epoch 117/500\n",
      "41/41 [==============================] - 0s 3ms/step - loss: 0.2568 - mae: 0.3562 - val_loss: 0.4093 - val_mae: 0.4790\n",
      "Epoch 118/500\n",
      "41/41 [==============================] - 0s 3ms/step - loss: 0.4454 - mae: 0.4826 - val_loss: 0.4648 - val_mae: 0.4687\n",
      "Epoch 119/500\n",
      "41/41 [==============================] - 0s 3ms/step - loss: 0.3491 - mae: 0.4161 - val_loss: 0.4100 - val_mae: 0.4763\n",
      "Epoch 120/500\n",
      "41/41 [==============================] - 0s 3ms/step - loss: 0.4018 - mae: 0.4434 - val_loss: 0.9338 - val_mae: 0.6222\n",
      "Epoch 121/500\n",
      "41/41 [==============================] - 0s 3ms/step - loss: 0.8143 - mae: 0.6278 - val_loss: 0.2314 - val_mae: 0.3381\n",
      "Epoch 122/500\n",
      "41/41 [==============================] - 0s 3ms/step - loss: 0.3092 - mae: 0.3860 - val_loss: 0.2016 - val_mae: 0.3171\n",
      "Epoch 123/500\n",
      "41/41 [==============================] - 0s 3ms/step - loss: 0.2024 - mae: 0.3193 - val_loss: 0.1570 - val_mae: 0.2759\n",
      "Epoch 124/500\n",
      "41/41 [==============================] - 0s 3ms/step - loss: 0.1996 - mae: 0.3178 - val_loss: 0.1842 - val_mae: 0.2961\n",
      "Epoch 125/500\n",
      "41/41 [==============================] - 0s 3ms/step - loss: 0.3927 - mae: 0.4264 - val_loss: 0.5322 - val_mae: 0.4995\n",
      "Epoch 126/500\n",
      "41/41 [==============================] - 0s 3ms/step - loss: 0.3213 - mae: 0.4016 - val_loss: 0.3833 - val_mae: 0.4553\n",
      "Epoch 127/500\n",
      "41/41 [==============================] - 0s 3ms/step - loss: 0.6595 - mae: 0.5510 - val_loss: 1.2618 - val_mae: 0.7537\n",
      "Epoch 128/500\n",
      "41/41 [==============================] - 0s 3ms/step - loss: 0.8597 - mae: 0.6353 - val_loss: 0.4250 - val_mae: 0.4896\n",
      "Epoch 129/500\n",
      "41/41 [==============================] - 0s 3ms/step - loss: 0.3340 - mae: 0.4142 - val_loss: 0.2033 - val_mae: 0.3011\n",
      "Epoch 130/500\n",
      "41/41 [==============================] - 0s 3ms/step - loss: 0.2244 - mae: 0.3361 - val_loss: 0.2979 - val_mae: 0.4194\n",
      "Epoch 131/500\n",
      "41/41 [==============================] - 0s 3ms/step - loss: 0.5200 - mae: 0.4669 - val_loss: 2.8674 - val_mae: 1.4831\n",
      "Epoch 132/500\n",
      "41/41 [==============================] - 0s 3ms/step - loss: 1.8349 - mae: 0.9460 - val_loss: 2.1960 - val_mae: 1.0509\n",
      "Epoch 133/500\n",
      "41/41 [==============================] - 0s 3ms/step - loss: 1.4610 - mae: 0.8398 - val_loss: 1.3844 - val_mae: 0.8917\n",
      "Epoch 134/500\n",
      "41/41 [==============================] - 0s 3ms/step - loss: 2.8840 - mae: 1.1235 - val_loss: 0.7903 - val_mae: 0.5966\n",
      "Epoch 135/500\n",
      "41/41 [==============================] - 0s 3ms/step - loss: 0.9340 - mae: 0.6691 - val_loss: 0.7698 - val_mae: 0.6261\n",
      "Epoch 136/500\n",
      "41/41 [==============================] - 0s 3ms/step - loss: 0.4484 - mae: 0.4534 - val_loss: 0.2499 - val_mae: 0.3843\n",
      "Epoch 137/500\n",
      "41/41 [==============================] - 0s 3ms/step - loss: 0.6160 - mae: 0.5403 - val_loss: 0.6012 - val_mae: 0.4756\n",
      "Epoch 138/500\n",
      "41/41 [==============================] - 0s 3ms/step - loss: 0.3631 - mae: 0.4136 - val_loss: 0.3214 - val_mae: 0.4210\n",
      "Epoch 139/500\n",
      "41/41 [==============================] - 0s 3ms/step - loss: 0.2365 - mae: 0.3456 - val_loss: 0.4506 - val_mae: 0.4475\n",
      "Epoch 140/500\n",
      "41/41 [==============================] - 0s 3ms/step - loss: 7.1940 - mae: 1.6327 - val_loss: 4.9887 - val_mae: 1.8679\n",
      "Epoch 141/500\n",
      "41/41 [==============================] - 0s 3ms/step - loss: 2.6473 - mae: 1.0908 - val_loss: 0.7442 - val_mae: 0.6135\n",
      "Epoch 142/500\n",
      "41/41 [==============================] - 0s 3ms/step - loss: 0.4509 - mae: 0.4561 - val_loss: 0.3341 - val_mae: 0.3904\n",
      "Epoch 143/500\n",
      "41/41 [==============================] - 0s 3ms/step - loss: 0.3950 - mae: 0.4262 - val_loss: 0.9018 - val_mae: 0.6703\n",
      "Epoch 144/500\n",
      "41/41 [==============================] - 0s 3ms/step - loss: 0.8849 - mae: 0.6195 - val_loss: 0.3866 - val_mae: 0.4596\n",
      "Epoch 145/500\n",
      "41/41 [==============================] - 0s 3ms/step - loss: 0.6640 - mae: 0.5677 - val_loss: 0.2870 - val_mae: 0.3899\n",
      "Epoch 146/500\n",
      "41/41 [==============================] - 0s 3ms/step - loss: 0.4126 - mae: 0.4197 - val_loss: 0.3311 - val_mae: 0.3959\n",
      "Epoch 147/500\n",
      "41/41 [==============================] - 0s 3ms/step - loss: 0.3115 - mae: 0.3782 - val_loss: 0.3566 - val_mae: 0.4197\n",
      "Epoch 148/500\n",
      "41/41 [==============================] - 0s 3ms/step - loss: 0.2562 - mae: 0.3442 - val_loss: 0.5225 - val_mae: 0.5223\n",
      "Epoch 149/500\n",
      "41/41 [==============================] - 0s 4ms/step - loss: 1.4468 - mae: 0.7671 - val_loss: 1.3703 - val_mae: 0.8920\n",
      "Epoch 150/500\n",
      "41/41 [==============================] - 0s 4ms/step - loss: 1.7592 - mae: 0.8964 - val_loss: 2.7869 - val_mae: 1.1406\n",
      "Epoch 151/500\n",
      "41/41 [==============================] - 0s 3ms/step - loss: 0.7984 - mae: 0.5872 - val_loss: 0.4609 - val_mae: 0.4630\n",
      "Epoch 152/500\n",
      "41/41 [==============================] - 0s 3ms/step - loss: 0.8161 - mae: 0.6029 - val_loss: 0.7846 - val_mae: 0.6023\n",
      "Epoch 153/500\n",
      "41/41 [==============================] - 0s 3ms/step - loss: 1.3267 - mae: 0.7882 - val_loss: 1.5946 - val_mae: 0.9442\n",
      "Epoch 154/500\n",
      "41/41 [==============================] - 0s 4ms/step - loss: 0.4630 - mae: 0.4637 - val_loss: 0.2588 - val_mae: 0.3651\n",
      "Epoch 155/500\n",
      "41/41 [==============================] - 0s 4ms/step - loss: 0.2437 - mae: 0.3397 - val_loss: 0.1957 - val_mae: 0.3046\n",
      "Epoch 156/500\n",
      "41/41 [==============================] - 0s 3ms/step - loss: 0.1602 - mae: 0.2762 - val_loss: 0.1843 - val_mae: 0.2695\n",
      "Epoch 157/500\n",
      "41/41 [==============================] - 0s 3ms/step - loss: 0.3086 - mae: 0.3694 - val_loss: 0.1550 - val_mae: 0.2725\n",
      "Epoch 158/500\n",
      "41/41 [==============================] - 0s 3ms/step - loss: 0.1632 - mae: 0.2750 - val_loss: 0.1764 - val_mae: 0.2672\n",
      "Epoch 159/500\n",
      "41/41 [==============================] - 0s 3ms/step - loss: 0.4920 - mae: 0.4478 - val_loss: 0.2679 - val_mae: 0.4003\n",
      "Epoch 160/500\n",
      "41/41 [==============================] - 0s 4ms/step - loss: 0.2363 - mae: 0.3469 - val_loss: 0.2064 - val_mae: 0.3238\n",
      "Epoch 161/500\n",
      "41/41 [==============================] - 0s 4ms/step - loss: 0.2531 - mae: 0.3592 - val_loss: 0.1524 - val_mae: 0.2643\n",
      "Epoch 162/500\n",
      "41/41 [==============================] - 0s 3ms/step - loss: 0.7743 - mae: 0.6101 - val_loss: 0.5862 - val_mae: 0.5418\n",
      "Epoch 163/500\n",
      "41/41 [==============================] - 0s 3ms/step - loss: 0.3714 - mae: 0.4373 - val_loss: 0.6781 - val_mae: 0.5118\n",
      "Epoch 164/500\n",
      "41/41 [==============================] - 0s 3ms/step - loss: 0.2677 - mae: 0.3535 - val_loss: 0.2070 - val_mae: 0.3129\n",
      "Epoch 165/500\n",
      "41/41 [==============================] - 0s 3ms/step - loss: 0.2250 - mae: 0.3376 - val_loss: 0.2585 - val_mae: 0.3702\n",
      "Epoch 166/500\n",
      "41/41 [==============================] - 0s 4ms/step - loss: 0.3423 - mae: 0.3797 - val_loss: 0.3200 - val_mae: 0.4063\n",
      "Epoch 167/500\n",
      "41/41 [==============================] - 0s 4ms/step - loss: 0.2197 - mae: 0.3368 - val_loss: 0.2236 - val_mae: 0.3186\n",
      "Epoch 168/500\n",
      "41/41 [==============================] - 0s 4ms/step - loss: 0.5440 - mae: 0.4692 - val_loss: 2.3273 - val_mae: 1.2343\n",
      "Epoch 169/500\n",
      "41/41 [==============================] - 0s 4ms/step - loss: 2.0607 - mae: 0.9819 - val_loss: 0.6029 - val_mae: 0.6288\n",
      "Epoch 170/500\n",
      "41/41 [==============================] - 0s 4ms/step - loss: 0.5815 - mae: 0.5253 - val_loss: 0.2988 - val_mae: 0.3779\n",
      "Epoch 171/500\n",
      "41/41 [==============================] - 0s 4ms/step - loss: 0.2508 - mae: 0.3357 - val_loss: 1.6259 - val_mae: 0.8568\n",
      "Epoch 172/500\n",
      "41/41 [==============================] - 0s 4ms/step - loss: 0.3630 - mae: 0.3983 - val_loss: 0.3139 - val_mae: 0.3982\n",
      "Epoch 173/500\n",
      "41/41 [==============================] - 0s 4ms/step - loss: 0.2442 - mae: 0.3505 - val_loss: 0.1883 - val_mae: 0.3094\n",
      "Epoch 174/500\n",
      "41/41 [==============================] - 0s 4ms/step - loss: 0.2444 - mae: 0.3579 - val_loss: 0.1549 - val_mae: 0.2782\n",
      "Epoch 175/500\n",
      "41/41 [==============================] - 0s 4ms/step - loss: 0.2662 - mae: 0.3517 - val_loss: 0.3777 - val_mae: 0.3904\n",
      "Epoch 176/500\n",
      "41/41 [==============================] - 0s 3ms/step - loss: 0.4327 - mae: 0.4490 - val_loss: 0.2083 - val_mae: 0.2925\n",
      "Epoch 177/500\n",
      "41/41 [==============================] - 0s 4ms/step - loss: 0.2096 - mae: 0.3215 - val_loss: 0.2541 - val_mae: 0.3434\n",
      "Epoch 178/500\n",
      "41/41 [==============================] - 0s 4ms/step - loss: 1.4142 - mae: 0.7554 - val_loss: 2.6589 - val_mae: 1.2192\n",
      "Epoch 179/500\n",
      "41/41 [==============================] - 0s 4ms/step - loss: 1.1512 - mae: 0.7090 - val_loss: 0.2705 - val_mae: 0.3841\n",
      "Epoch 180/500\n",
      "41/41 [==============================] - 0s 4ms/step - loss: 0.2642 - mae: 0.3608 - val_loss: 0.3154 - val_mae: 0.3205\n",
      "Epoch 181/500\n",
      "41/41 [==============================] - 0s 4ms/step - loss: 0.4467 - mae: 0.4265 - val_loss: 3.0323 - val_mae: 1.4124\n",
      "Epoch 182/500\n",
      "41/41 [==============================] - 0s 4ms/step - loss: 12.9931 - mae: 2.2787 - val_loss: 61.4038 - val_mae: 5.2893\n",
      "Epoch 183/500\n",
      "41/41 [==============================] - 0s 3ms/step - loss: 12.9483 - mae: 2.3815 - val_loss: 5.6828 - val_mae: 1.6736\n",
      "Epoch 184/500\n",
      "41/41 [==============================] - 0s 3ms/step - loss: 2.5340 - mae: 1.0253 - val_loss: 1.4810 - val_mae: 0.8640\n",
      "Epoch 185/500\n",
      "41/41 [==============================] - 0s 3ms/step - loss: 1.0785 - mae: 0.7097 - val_loss: 0.6907 - val_mae: 0.5777\n",
      "Epoch 186/500\n",
      "41/41 [==============================] - 0s 4ms/step - loss: 0.6066 - mae: 0.5564 - val_loss: 0.6392 - val_mae: 0.5596\n",
      "Epoch 187/500\n",
      "41/41 [==============================] - 0s 4ms/step - loss: 0.5590 - mae: 0.5257 - val_loss: 0.4093 - val_mae: 0.4938\n",
      "Epoch 188/500\n",
      "41/41 [==============================] - 0s 4ms/step - loss: 0.3611 - mae: 0.4232 - val_loss: 0.2755 - val_mae: 0.3849\n",
      "Epoch 189/500\n",
      "41/41 [==============================] - 0s 4ms/step - loss: 0.2909 - mae: 0.3752 - val_loss: 0.2727 - val_mae: 0.3586\n",
      "Epoch 190/500\n",
      "41/41 [==============================] - 0s 4ms/step - loss: 0.3018 - mae: 0.3788 - val_loss: 0.1615 - val_mae: 0.2803\n",
      "Epoch 191/500\n",
      "41/41 [==============================] - 0s 3ms/step - loss: 0.2115 - mae: 0.3159 - val_loss: 0.2149 - val_mae: 0.3062\n",
      "Epoch 192/500\n",
      "41/41 [==============================] - 0s 3ms/step - loss: 0.2927 - mae: 0.3757 - val_loss: 0.3495 - val_mae: 0.4064\n",
      "Epoch 193/500\n",
      "41/41 [==============================] - 0s 3ms/step - loss: 0.2423 - mae: 0.3444 - val_loss: 0.2137 - val_mae: 0.3475\n",
      "Epoch 194/500\n",
      "41/41 [==============================] - 0s 3ms/step - loss: 0.3552 - mae: 0.4018 - val_loss: 0.7807 - val_mae: 0.5627\n",
      "Epoch 195/500\n",
      "41/41 [==============================] - 0s 4ms/step - loss: 0.5775 - mae: 0.4890 - val_loss: 0.1825 - val_mae: 0.3203\n",
      "Epoch 196/500\n",
      "41/41 [==============================] - 0s 3ms/step - loss: 0.3007 - mae: 0.3821 - val_loss: 0.2873 - val_mae: 0.3837\n",
      "Epoch 197/500\n",
      "41/41 [==============================] - 0s 3ms/step - loss: 0.2174 - mae: 0.3284 - val_loss: 0.1740 - val_mae: 0.2874\n",
      "Epoch 198/500\n",
      "41/41 [==============================] - 0s 3ms/step - loss: 0.1770 - mae: 0.2878 - val_loss: 0.1494 - val_mae: 0.2673\n",
      "Epoch 199/500\n",
      "41/41 [==============================] - 0s 3ms/step - loss: 0.2649 - mae: 0.3497 - val_loss: 0.2661 - val_mae: 0.3592\n",
      "Epoch 200/500\n",
      "41/41 [==============================] - 0s 3ms/step - loss: 0.2919 - mae: 0.3814 - val_loss: 0.2902 - val_mae: 0.3693\n",
      "Epoch 201/500\n",
      "41/41 [==============================] - 0s 3ms/step - loss: 1.1723 - mae: 0.6872 - val_loss: 2.3267 - val_mae: 1.0427\n",
      "Epoch 202/500\n",
      "41/41 [==============================] - 0s 3ms/step - loss: 0.7228 - mae: 0.5445 - val_loss: 0.2513 - val_mae: 0.3721\n",
      "Epoch 203/500\n",
      "41/41 [==============================] - 0s 3ms/step - loss: 2.8578 - mae: 1.0355 - val_loss: 1.3255 - val_mae: 0.7297\n",
      "Epoch 204/500\n",
      "41/41 [==============================] - 0s 3ms/step - loss: 1.8364 - mae: 0.8857 - val_loss: 1.1717 - val_mae: 0.7983\n",
      "Epoch 205/500\n",
      "41/41 [==============================] - 0s 4ms/step - loss: 1.7760 - mae: 0.8605 - val_loss: 2.5728 - val_mae: 1.2474\n",
      "Epoch 206/500\n",
      "41/41 [==============================] - 0s 3ms/step - loss: 1.0536 - mae: 0.6887 - val_loss: 0.2609 - val_mae: 0.3615\n",
      "Epoch 207/500\n",
      "41/41 [==============================] - 0s 3ms/step - loss: 0.4229 - mae: 0.4462 - val_loss: 1.7736 - val_mae: 0.9085\n",
      "Epoch 208/500\n",
      "41/41 [==============================] - 0s 4ms/step - loss: 0.5346 - mae: 0.4840 - val_loss: 0.3829 - val_mae: 0.4115\n",
      "Epoch 209/500\n",
      "41/41 [==============================] - 0s 4ms/step - loss: 0.2270 - mae: 0.3286 - val_loss: 0.1951 - val_mae: 0.2703\n",
      "Epoch 210/500\n",
      "41/41 [==============================] - 0s 4ms/step - loss: 0.1905 - mae: 0.3056 - val_loss: 0.1524 - val_mae: 0.2478\n",
      "Epoch 211/500\n",
      "41/41 [==============================] - 0s 3ms/step - loss: 0.2475 - mae: 0.3411 - val_loss: 0.1579 - val_mae: 0.2689\n",
      "Epoch 212/500\n",
      "41/41 [==============================] - 0s 3ms/step - loss: 0.2724 - mae: 0.3509 - val_loss: 0.1953 - val_mae: 0.2911\n",
      "Epoch 213/500\n",
      "41/41 [==============================] - 0s 4ms/step - loss: 0.6337 - mae: 0.5220 - val_loss: 1.2093 - val_mae: 0.7652\n",
      "Epoch 214/500\n",
      "41/41 [==============================] - 0s 3ms/step - loss: 1.2093 - mae: 0.7256 - val_loss: 0.4225 - val_mae: 0.3932\n",
      "Epoch 215/500\n",
      "41/41 [==============================] - 0s 4ms/step - loss: 0.4778 - mae: 0.4642 - val_loss: 0.4801 - val_mae: 0.4737\n",
      "Epoch 216/500\n",
      "41/41 [==============================] - 0s 4ms/step - loss: 0.2385 - mae: 0.3289 - val_loss: 0.2936 - val_mae: 0.3757\n",
      "Epoch 217/500\n",
      "41/41 [==============================] - 0s 4ms/step - loss: 0.2224 - mae: 0.3194 - val_loss: 0.3770 - val_mae: 0.4276\n",
      "Epoch 218/500\n",
      "41/41 [==============================] - 0s 4ms/step - loss: 0.1601 - mae: 0.2734 - val_loss: 0.1619 - val_mae: 0.2532\n",
      "Epoch 219/500\n",
      "41/41 [==============================] - 0s 3ms/step - loss: 0.1528 - mae: 0.2656 - val_loss: 0.2211 - val_mae: 0.2872\n",
      "Epoch 220/500\n",
      "41/41 [==============================] - 0s 4ms/step - loss: 0.1559 - mae: 0.2716 - val_loss: 0.2790 - val_mae: 0.3666\n",
      "Epoch 221/500\n",
      "41/41 [==============================] - 0s 4ms/step - loss: 0.1391 - mae: 0.2548 - val_loss: 0.1680 - val_mae: 0.2652\n",
      "Epoch 222/500\n",
      "41/41 [==============================] - 0s 4ms/step - loss: 0.1344 - mae: 0.2502 - val_loss: 0.1533 - val_mae: 0.2613\n",
      "Epoch 223/500\n",
      "41/41 [==============================] - 0s 4ms/step - loss: 0.1709 - mae: 0.2826 - val_loss: 0.2954 - val_mae: 0.3389\n",
      "Epoch 224/500\n",
      "41/41 [==============================] - 0s 3ms/step - loss: 0.3318 - mae: 0.3872 - val_loss: 0.1990 - val_mae: 0.3064\n",
      "Epoch 225/500\n",
      "41/41 [==============================] - 0s 4ms/step - loss: 0.1358 - mae: 0.2577 - val_loss: 0.1405 - val_mae: 0.2387\n",
      "Epoch 226/500\n",
      "41/41 [==============================] - 0s 3ms/step - loss: 0.2143 - mae: 0.3064 - val_loss: 0.5681 - val_mae: 0.5113\n",
      "Epoch 227/500\n",
      "41/41 [==============================] - 0s 3ms/step - loss: 0.3003 - mae: 0.3715 - val_loss: 0.2142 - val_mae: 0.2873\n",
      "Epoch 228/500\n",
      "41/41 [==============================] - 0s 4ms/step - loss: 0.2830 - mae: 0.3678 - val_loss: 0.7343 - val_mae: 0.5754\n",
      "Epoch 229/500\n",
      "41/41 [==============================] - 0s 4ms/step - loss: 0.7564 - mae: 0.5733 - val_loss: 0.5335 - val_mae: 0.4459\n",
      "Epoch 230/500\n",
      "41/41 [==============================] - 0s 4ms/step - loss: 1.7149 - mae: 0.8702 - val_loss: 0.3695 - val_mae: 0.3826\n",
      "Epoch 231/500\n",
      "41/41 [==============================] - 0s 3ms/step - loss: 1.1071 - mae: 0.6924 - val_loss: 1.0660 - val_mae: 0.7573\n",
      "Epoch 232/500\n",
      "41/41 [==============================] - 0s 3ms/step - loss: 0.3878 - mae: 0.4049 - val_loss: 0.1488 - val_mae: 0.2542\n",
      "Epoch 233/500\n",
      "41/41 [==============================] - 0s 3ms/step - loss: 0.2376 - mae: 0.3173 - val_loss: 0.1578 - val_mae: 0.2461\n",
      "Epoch 234/500\n",
      "41/41 [==============================] - 0s 3ms/step - loss: 0.1799 - mae: 0.2772 - val_loss: 0.3268 - val_mae: 0.3551\n",
      "Epoch 235/500\n",
      "41/41 [==============================] - 0s 4ms/step - loss: 0.4030 - mae: 0.4336 - val_loss: 0.2488 - val_mae: 0.3100\n",
      "Epoch 236/500\n",
      "41/41 [==============================] - 0s 3ms/step - loss: 0.3013 - mae: 0.3773 - val_loss: 0.3091 - val_mae: 0.3847\n",
      "Epoch 237/500\n",
      "41/41 [==============================] - 0s 3ms/step - loss: 0.2133 - mae: 0.3003 - val_loss: 0.1771 - val_mae: 0.2421\n",
      "Epoch 238/500\n",
      "41/41 [==============================] - 0s 3ms/step - loss: 0.4066 - mae: 0.4350 - val_loss: 0.2678 - val_mae: 0.3712\n",
      "Epoch 239/500\n",
      "41/41 [==============================] - 0s 3ms/step - loss: 0.1775 - mae: 0.2949 - val_loss: 0.1445 - val_mae: 0.2231\n",
      "Epoch 240/500\n",
      "41/41 [==============================] - 0s 3ms/step - loss: 0.2636 - mae: 0.3378 - val_loss: 0.1869 - val_mae: 0.2702\n",
      "Epoch 241/500\n",
      "41/41 [==============================] - 0s 3ms/step - loss: 0.1762 - mae: 0.2930 - val_loss: 0.2253 - val_mae: 0.3375\n",
      "Epoch 242/500\n",
      "41/41 [==============================] - 0s 3ms/step - loss: 0.1943 - mae: 0.3090 - val_loss: 1.1146 - val_mae: 0.8095\n",
      "Epoch 243/500\n",
      "41/41 [==============================] - 0s 3ms/step - loss: 0.4036 - mae: 0.3968 - val_loss: 0.2744 - val_mae: 0.3858\n",
      "Epoch 244/500\n",
      "41/41 [==============================] - 0s 3ms/step - loss: 0.2756 - mae: 0.3553 - val_loss: 0.2679 - val_mae: 0.3686\n",
      "Epoch 245/500\n",
      "41/41 [==============================] - 0s 3ms/step - loss: 0.3747 - mae: 0.4042 - val_loss: 1.7939 - val_mae: 0.9227\n",
      "Epoch 246/500\n",
      "41/41 [==============================] - 0s 3ms/step - loss: 0.5790 - mae: 0.4888 - val_loss: 0.2261 - val_mae: 0.3313\n",
      "Epoch 247/500\n",
      "41/41 [==============================] - 0s 3ms/step - loss: 0.1677 - mae: 0.2830 - val_loss: 0.2446 - val_mae: 0.2940\n",
      "Epoch 248/500\n",
      "41/41 [==============================] - 0s 3ms/step - loss: 0.5930 - mae: 0.4990 - val_loss: 0.6854 - val_mae: 0.5553\n",
      "Epoch 249/500\n",
      "41/41 [==============================] - 0s 3ms/step - loss: 3.4964 - mae: 1.2012 - val_loss: 3.6871 - val_mae: 1.3581\n",
      "Epoch 250/500\n",
      "41/41 [==============================] - 0s 4ms/step - loss: 3.7729 - mae: 1.2853 - val_loss: 8.5101 - val_mae: 2.1735\n",
      "Epoch 251/500\n",
      "41/41 [==============================] - 0s 3ms/step - loss: 2.6255 - mae: 1.0614 - val_loss: 1.2105 - val_mae: 0.7672\n",
      "Epoch 252/500\n",
      "41/41 [==============================] - 0s 3ms/step - loss: 0.4147 - mae: 0.4220 - val_loss: 0.2239 - val_mae: 0.3238\n",
      "Epoch 253/500\n",
      "41/41 [==============================] - 0s 3ms/step - loss: 0.2290 - mae: 0.3265 - val_loss: 0.2171 - val_mae: 0.3391\n",
      "Epoch 254/500\n",
      "41/41 [==============================] - 0s 3ms/step - loss: 0.1897 - mae: 0.3070 - val_loss: 0.1556 - val_mae: 0.2695\n",
      "Epoch 255/500\n",
      "41/41 [==============================] - 0s 3ms/step - loss: 0.1523 - mae: 0.2676 - val_loss: 0.2750 - val_mae: 0.3675\n",
      "Epoch 256/500\n",
      "41/41 [==============================] - 0s 3ms/step - loss: 0.1675 - mae: 0.2863 - val_loss: 0.1397 - val_mae: 0.2524\n",
      "Epoch 257/500\n",
      "41/41 [==============================] - 0s 3ms/step - loss: 0.1902 - mae: 0.2932 - val_loss: 0.1571 - val_mae: 0.2599\n",
      "Epoch 258/500\n",
      "41/41 [==============================] - 0s 3ms/step - loss: 0.2166 - mae: 0.3117 - val_loss: 0.1449 - val_mae: 0.2501\n",
      "Epoch 259/500\n",
      "41/41 [==============================] - 0s 3ms/step - loss: 0.1495 - mae: 0.2615 - val_loss: 0.1440 - val_mae: 0.2759\n",
      "Epoch 260/500\n",
      "41/41 [==============================] - 0s 3ms/step - loss: 0.1250 - mae: 0.2505 - val_loss: 0.1522 - val_mae: 0.2682\n",
      "Epoch 261/500\n",
      "41/41 [==============================] - 0s 3ms/step - loss: 0.1524 - mae: 0.2657 - val_loss: 0.2618 - val_mae: 0.3013\n",
      "Epoch 262/500\n",
      "41/41 [==============================] - 0s 3ms/step - loss: 0.2044 - mae: 0.2937 - val_loss: 0.1756 - val_mae: 0.2870\n",
      "Epoch 263/500\n",
      "41/41 [==============================] - 0s 3ms/step - loss: 0.1802 - mae: 0.2874 - val_loss: 0.1430 - val_mae: 0.2398\n",
      "Epoch 264/500\n",
      "41/41 [==============================] - 0s 3ms/step - loss: 0.2611 - mae: 0.3416 - val_loss: 0.1997 - val_mae: 0.3046\n",
      "Epoch 265/500\n",
      "41/41 [==============================] - 0s 3ms/step - loss: 0.1780 - mae: 0.2785 - val_loss: 0.1616 - val_mae: 0.2431\n",
      "Epoch 266/500\n",
      "41/41 [==============================] - 0s 3ms/step - loss: 0.1618 - mae: 0.2680 - val_loss: 0.1596 - val_mae: 0.2824\n",
      "Epoch 267/500\n",
      "41/41 [==============================] - 0s 3ms/step - loss: 0.1039 - mae: 0.2270 - val_loss: 0.1418 - val_mae: 0.2638\n",
      "Epoch 268/500\n",
      "41/41 [==============================] - 0s 3ms/step - loss: 0.6747 - mae: 0.4347 - val_loss: 8.1300 - val_mae: 1.8346\n",
      "Epoch 269/500\n",
      "41/41 [==============================] - 0s 3ms/step - loss: 2.3443 - mae: 1.0555 - val_loss: 1.2305 - val_mae: 0.8554\n",
      "Epoch 270/500\n",
      "41/41 [==============================] - 0s 3ms/step - loss: 0.4517 - mae: 0.4840 - val_loss: 0.2317 - val_mae: 0.3015\n",
      "Epoch 271/500\n",
      "41/41 [==============================] - 0s 3ms/step - loss: 0.6671 - mae: 0.5250 - val_loss: 1.9890 - val_mae: 1.0770\n",
      "Epoch 272/500\n",
      "41/41 [==============================] - 0s 3ms/step - loss: 15.2321 - mae: 2.5862 - val_loss: 6.0755 - val_mae: 1.7460\n",
      "Epoch 273/500\n",
      "41/41 [==============================] - 0s 3ms/step - loss: 3.2156 - mae: 1.2086 - val_loss: 2.4231 - val_mae: 1.1058\n",
      "Epoch 274/500\n",
      "41/41 [==============================] - 0s 3ms/step - loss: 1.2241 - mae: 0.7554 - val_loss: 1.3390 - val_mae: 0.7951\n",
      "Epoch 275/500\n",
      "41/41 [==============================] - 0s 3ms/step - loss: 0.5953 - mae: 0.5436 - val_loss: 0.5901 - val_mae: 0.5272\n",
      "Epoch 276/500\n",
      "41/41 [==============================] - 0s 3ms/step - loss: 0.3506 - mae: 0.4165 - val_loss: 0.2433 - val_mae: 0.3378\n",
      "Epoch 277/500\n",
      "41/41 [==============================] - 0s 3ms/step - loss: 0.3396 - mae: 0.4123 - val_loss: 0.2842 - val_mae: 0.3617\n",
      "Epoch 278/500\n",
      "41/41 [==============================] - 0s 3ms/step - loss: 0.4141 - mae: 0.4579 - val_loss: 0.2507 - val_mae: 0.3434\n",
      "Epoch 279/500\n",
      "41/41 [==============================] - 0s 3ms/step - loss: 0.2702 - mae: 0.3690 - val_loss: 0.2640 - val_mae: 0.3633\n",
      "Epoch 280/500\n",
      "41/41 [==============================] - 0s 3ms/step - loss: 0.3639 - mae: 0.4163 - val_loss: 0.4262 - val_mae: 0.4674\n",
      "Epoch 281/500\n",
      "41/41 [==============================] - 0s 3ms/step - loss: 0.3282 - mae: 0.3986 - val_loss: 0.3142 - val_mae: 0.3763\n",
      "Epoch 282/500\n",
      "41/41 [==============================] - 0s 3ms/step - loss: 0.5041 - mae: 0.4997 - val_loss: 0.3952 - val_mae: 0.3992\n",
      "Epoch 283/500\n",
      "41/41 [==============================] - 0s 3ms/step - loss: 0.4351 - mae: 0.4567 - val_loss: 0.2331 - val_mae: 0.3269\n",
      "Epoch 284/500\n",
      "41/41 [==============================] - 0s 3ms/step - loss: 0.3347 - mae: 0.3945 - val_loss: 0.3934 - val_mae: 0.4059\n",
      "Epoch 285/500\n",
      "41/41 [==============================] - 0s 3ms/step - loss: 1.6801 - mae: 0.8471 - val_loss: 0.7797 - val_mae: 0.5771\n",
      "Epoch 286/500\n",
      "41/41 [==============================] - 0s 3ms/step - loss: 0.6423 - mae: 0.5632 - val_loss: 0.2785 - val_mae: 0.3386\n",
      "Epoch 287/500\n",
      "41/41 [==============================] - 0s 3ms/step - loss: 0.7985 - mae: 0.5525 - val_loss: 3.0637 - val_mae: 1.1518\n",
      "Epoch 288/500\n",
      "41/41 [==============================] - 0s 3ms/step - loss: 4.8920 - mae: 1.4669 - val_loss: 1.6114 - val_mae: 0.9436\n",
      "Epoch 289/500\n",
      "41/41 [==============================] - 0s 3ms/step - loss: 0.6292 - mae: 0.5478 - val_loss: 0.4793 - val_mae: 0.5016\n",
      "Epoch 290/500\n",
      "41/41 [==============================] - 0s 3ms/step - loss: 0.3855 - mae: 0.4202 - val_loss: 0.4700 - val_mae: 0.4729\n",
      "Epoch 291/500\n",
      "41/41 [==============================] - 0s 3ms/step - loss: 0.4628 - mae: 0.4522 - val_loss: 0.2129 - val_mae: 0.3104\n",
      "Epoch 292/500\n",
      "41/41 [==============================] - 0s 3ms/step - loss: 0.4356 - mae: 0.4328 - val_loss: 0.3562 - val_mae: 0.4394\n",
      "Epoch 293/500\n",
      "41/41 [==============================] - 0s 3ms/step - loss: 0.2102 - mae: 0.3079 - val_loss: 0.2035 - val_mae: 0.3145\n",
      "Epoch 294/500\n",
      "41/41 [==============================] - 0s 3ms/step - loss: 0.5784 - mae: 0.5007 - val_loss: 0.5882 - val_mae: 0.5409\n",
      "Epoch 295/500\n",
      "41/41 [==============================] - 0s 3ms/step - loss: 0.2818 - mae: 0.3528 - val_loss: 0.2568 - val_mae: 0.3056\n",
      "Epoch 296/500\n",
      "41/41 [==============================] - 0s 3ms/step - loss: 0.2130 - mae: 0.3204 - val_loss: 0.1452 - val_mae: 0.2491\n",
      "Epoch 297/500\n",
      "41/41 [==============================] - 0s 3ms/step - loss: 0.2789 - mae: 0.3560 - val_loss: 0.1872 - val_mae: 0.3024\n",
      "Epoch 298/500\n",
      "41/41 [==============================] - 0s 3ms/step - loss: 0.2080 - mae: 0.3256 - val_loss: 0.2416 - val_mae: 0.3603\n",
      "Epoch 299/500\n",
      "41/41 [==============================] - 0s 3ms/step - loss: 0.2057 - mae: 0.3250 - val_loss: 0.2619 - val_mae: 0.3828\n",
      "Epoch 300/500\n",
      "41/41 [==============================] - 0s 3ms/step - loss: 0.1995 - mae: 0.3097 - val_loss: 0.2020 - val_mae: 0.2826\n",
      "Epoch 301/500\n",
      "41/41 [==============================] - 0s 3ms/step - loss: 0.1442 - mae: 0.2567 - val_loss: 0.3092 - val_mae: 0.3828\n",
      "Epoch 302/500\n",
      "41/41 [==============================] - 0s 3ms/step - loss: 0.2358 - mae: 0.3284 - val_loss: 0.2033 - val_mae: 0.3142\n",
      "Epoch 303/500\n",
      "41/41 [==============================] - 0s 3ms/step - loss: 0.1662 - mae: 0.2838 - val_loss: 0.2256 - val_mae: 0.3491\n",
      "Epoch 304/500\n",
      "41/41 [==============================] - 0s 3ms/step - loss: 0.1710 - mae: 0.2828 - val_loss: 0.1475 - val_mae: 0.2359\n",
      "Epoch 305/500\n",
      "41/41 [==============================] - 0s 3ms/step - loss: 0.1984 - mae: 0.3040 - val_loss: 0.1394 - val_mae: 0.2175\n",
      "Epoch 306/500\n",
      "41/41 [==============================] - 0s 3ms/step - loss: 0.1916 - mae: 0.2979 - val_loss: 0.1884 - val_mae: 0.2907\n",
      "Epoch 307/500\n",
      "41/41 [==============================] - 0s 3ms/step - loss: 0.2348 - mae: 0.3280 - val_loss: 0.2020 - val_mae: 0.3051\n",
      "Epoch 308/500\n",
      "41/41 [==============================] - 0s 3ms/step - loss: 0.2783 - mae: 0.3591 - val_loss: 0.1644 - val_mae: 0.2693\n",
      "Epoch 309/500\n",
      "41/41 [==============================] - 0s 3ms/step - loss: 0.1777 - mae: 0.2855 - val_loss: 0.6982 - val_mae: 0.6296\n",
      "Epoch 310/500\n",
      "41/41 [==============================] - 0s 3ms/step - loss: 0.2809 - mae: 0.3634 - val_loss: 0.2641 - val_mae: 0.3635\n",
      "Epoch 311/500\n",
      "41/41 [==============================] - 0s 3ms/step - loss: 0.2841 - mae: 0.3649 - val_loss: 0.1807 - val_mae: 0.2940\n",
      "Epoch 312/500\n",
      "41/41 [==============================] - 0s 3ms/step - loss: 0.1315 - mae: 0.2514 - val_loss: 0.1267 - val_mae: 0.2277\n",
      "Epoch 313/500\n",
      "41/41 [==============================] - 0s 3ms/step - loss: 0.1659 - mae: 0.2661 - val_loss: 0.1512 - val_mae: 0.2420\n",
      "Epoch 314/500\n",
      "41/41 [==============================] - 0s 3ms/step - loss: 0.4271 - mae: 0.4543 - val_loss: 0.2655 - val_mae: 0.3145\n",
      "Epoch 315/500\n",
      "41/41 [==============================] - 0s 3ms/step - loss: 0.4509 - mae: 0.4642 - val_loss: 0.3522 - val_mae: 0.3952\n",
      "Epoch 316/500\n",
      "41/41 [==============================] - 0s 3ms/step - loss: 0.1899 - mae: 0.3069 - val_loss: 0.1763 - val_mae: 0.2699\n",
      "Epoch 317/500\n",
      "41/41 [==============================] - 0s 3ms/step - loss: 0.2665 - mae: 0.3238 - val_loss: 1.9494 - val_mae: 1.1222\n",
      "Epoch 318/500\n",
      "41/41 [==============================] - 0s 3ms/step - loss: 0.6792 - mae: 0.5415 - val_loss: 0.2548 - val_mae: 0.3359\n",
      "Epoch 319/500\n",
      "41/41 [==============================] - 0s 3ms/step - loss: 0.5083 - mae: 0.4766 - val_loss: 1.0181 - val_mae: 0.7532\n",
      "Epoch 320/500\n",
      "41/41 [==============================] - 0s 6ms/step - loss: 2.1391 - mae: 0.9388 - val_loss: 2.6764 - val_mae: 1.1017\n",
      "Epoch 321/500\n",
      "41/41 [==============================] - 3s 70ms/step - loss: 0.7966 - mae: 0.5582 - val_loss: 0.4663 - val_mae: 0.5027\n",
      "Epoch 322/500\n",
      "41/41 [==============================] - 0s 5ms/step - loss: 0.7686 - mae: 0.5807 - val_loss: 1.8786 - val_mae: 0.8375\n",
      "Epoch 323/500\n",
      "41/41 [==============================] - 4s 88ms/step - loss: 5.0738 - mae: 1.4208 - val_loss: 15.2567 - val_mae: 2.5056\n",
      "Epoch 324/500\n",
      "41/41 [==============================] - 0s 4ms/step - loss: 2.1872 - mae: 0.9157 - val_loss: 0.6799 - val_mae: 0.6421\n",
      "Epoch 325/500\n",
      "41/41 [==============================] - 0s 4ms/step - loss: 0.3899 - mae: 0.4521 - val_loss: 0.2704 - val_mae: 0.3618\n",
      "Epoch 326/500\n",
      "41/41 [==============================] - 0s 3ms/step - loss: 0.4035 - mae: 0.4326 - val_loss: 0.2578 - val_mae: 0.3059\n",
      "Epoch 327/500\n",
      "41/41 [==============================] - 0s 3ms/step - loss: 0.3041 - mae: 0.3894 - val_loss: 0.3646 - val_mae: 0.4042\n",
      "Epoch 328/500\n",
      "41/41 [==============================] - 0s 3ms/step - loss: 0.5352 - mae: 0.5059 - val_loss: 0.2062 - val_mae: 0.2952\n",
      "Epoch 329/500\n",
      "41/41 [==============================] - 0s 3ms/step - loss: 0.2494 - mae: 0.3585 - val_loss: 0.3263 - val_mae: 0.3426\n",
      "Epoch 330/500\n",
      "41/41 [==============================] - 0s 3ms/step - loss: 0.3795 - mae: 0.4107 - val_loss: 0.1857 - val_mae: 0.3066\n",
      "Epoch 331/500\n",
      "41/41 [==============================] - 0s 3ms/step - loss: 0.1942 - mae: 0.3071 - val_loss: 0.1448 - val_mae: 0.2525\n",
      "Epoch 332/500\n",
      "41/41 [==============================] - 0s 3ms/step - loss: 0.1094 - mae: 0.2335 - val_loss: 0.1721 - val_mae: 0.2724\n",
      "Epoch 333/500\n",
      "41/41 [==============================] - 0s 4ms/step - loss: 0.1211 - mae: 0.2367 - val_loss: 0.1177 - val_mae: 0.1988\n",
      "Epoch 334/500\n",
      "41/41 [==============================] - 0s 3ms/step - loss: 0.1685 - mae: 0.2793 - val_loss: 0.2603 - val_mae: 0.3353\n",
      "Epoch 335/500\n",
      "41/41 [==============================] - 0s 3ms/step - loss: 0.1654 - mae: 0.2766 - val_loss: 0.1502 - val_mae: 0.2540\n",
      "Epoch 336/500\n",
      "41/41 [==============================] - 0s 3ms/step - loss: 0.1347 - mae: 0.2558 - val_loss: 0.1525 - val_mae: 0.2328\n",
      "Epoch 337/500\n",
      "41/41 [==============================] - 0s 3ms/step - loss: 0.3484 - mae: 0.4067 - val_loss: 0.1893 - val_mae: 0.2931\n",
      "Epoch 338/500\n",
      "41/41 [==============================] - 0s 3ms/step - loss: 0.1352 - mae: 0.2624 - val_loss: 0.1704 - val_mae: 0.2669\n",
      "Epoch 339/500\n",
      "41/41 [==============================] - 0s 3ms/step - loss: 0.1705 - mae: 0.2761 - val_loss: 0.2212 - val_mae: 0.3419\n",
      "Epoch 340/500\n",
      "41/41 [==============================] - 0s 3ms/step - loss: 0.2924 - mae: 0.3705 - val_loss: 0.3245 - val_mae: 0.3861\n",
      "Epoch 341/500\n",
      "41/41 [==============================] - 0s 3ms/step - loss: 0.1723 - mae: 0.2927 - val_loss: 0.1770 - val_mae: 0.2756\n",
      "Epoch 342/500\n",
      "41/41 [==============================] - 0s 3ms/step - loss: 0.2157 - mae: 0.3178 - val_loss: 0.1686 - val_mae: 0.2950\n",
      "Epoch 343/500\n",
      "41/41 [==============================] - 0s 3ms/step - loss: 0.1520 - mae: 0.2665 - val_loss: 0.2881 - val_mae: 0.3700\n",
      "Epoch 344/500\n",
      "41/41 [==============================] - 0s 3ms/step - loss: 0.2041 - mae: 0.3091 - val_loss: 0.3037 - val_mae: 0.3907\n",
      "Epoch 345/500\n",
      "41/41 [==============================] - 0s 3ms/step - loss: 0.6596 - mae: 0.5495 - val_loss: 0.5948 - val_mae: 0.5570\n",
      "Epoch 346/500\n",
      "41/41 [==============================] - 0s 3ms/step - loss: 0.3510 - mae: 0.4041 - val_loss: 0.7627 - val_mae: 0.6719\n",
      "Epoch 347/500\n",
      "41/41 [==============================] - 0s 3ms/step - loss: 0.6056 - mae: 0.5407 - val_loss: 0.4845 - val_mae: 0.4087\n",
      "Epoch 348/500\n",
      "41/41 [==============================] - 0s 3ms/step - loss: 0.3912 - mae: 0.4221 - val_loss: 0.3019 - val_mae: 0.3179\n",
      "Epoch 349/500\n",
      "41/41 [==============================] - 1s 15ms/step - loss: 0.3072 - mae: 0.3865 - val_loss: 0.2420 - val_mae: 0.3011\n",
      "Epoch 350/500\n",
      "41/41 [==============================] - 0s 11ms/step - loss: 0.3654 - mae: 0.4001 - val_loss: 0.2038 - val_mae: 0.3269\n",
      "Epoch 351/500\n",
      "41/41 [==============================] - 0s 3ms/step - loss: 0.1736 - mae: 0.2856 - val_loss: 0.1704 - val_mae: 0.2848\n",
      "Epoch 352/500\n",
      "41/41 [==============================] - 0s 4ms/step - loss: 0.1930 - mae: 0.3108 - val_loss: 0.2428 - val_mae: 0.3588\n",
      "Epoch 353/500\n",
      "41/41 [==============================] - 0s 3ms/step - loss: 0.1380 - mae: 0.2427 - val_loss: 0.3369 - val_mae: 0.3354\n",
      "Epoch 354/500\n",
      "41/41 [==============================] - 0s 3ms/step - loss: 0.3657 - mae: 0.3949 - val_loss: 0.6649 - val_mae: 0.6299\n",
      "Epoch 355/500\n",
      "41/41 [==============================] - 0s 3ms/step - loss: 0.5275 - mae: 0.4938 - val_loss: 0.2904 - val_mae: 0.2968\n",
      "Epoch 356/500\n",
      "41/41 [==============================] - 0s 3ms/step - loss: 0.2167 - mae: 0.3225 - val_loss: 0.8954 - val_mae: 0.7248\n",
      "Epoch 357/500\n",
      "41/41 [==============================] - 0s 3ms/step - loss: 0.8747 - mae: 0.5783 - val_loss: 0.7672 - val_mae: 0.7140\n",
      "Epoch 358/500\n",
      "41/41 [==============================] - 0s 3ms/step - loss: 0.8389 - mae: 0.5803 - val_loss: 0.3936 - val_mae: 0.3967\n",
      "Epoch 359/500\n",
      "41/41 [==============================] - 0s 3ms/step - loss: 0.9310 - mae: 0.6446 - val_loss: 2.1491 - val_mae: 0.8930\n",
      "Epoch 360/500\n",
      "41/41 [==============================] - 0s 3ms/step - loss: 0.7119 - mae: 0.5721 - val_loss: 0.6768 - val_mae: 0.5653\n",
      "Epoch 361/500\n",
      "41/41 [==============================] - 0s 3ms/step - loss: 1.2312 - mae: 0.7434 - val_loss: 0.5617 - val_mae: 0.5365\n",
      "Epoch 362/500\n",
      "41/41 [==============================] - 0s 3ms/step - loss: 0.5524 - mae: 0.5144 - val_loss: 0.3793 - val_mae: 0.4431\n",
      "Epoch 363/500\n",
      "41/41 [==============================] - 0s 3ms/step - loss: 0.3084 - mae: 0.3947 - val_loss: 0.1799 - val_mae: 0.2936\n",
      "Epoch 364/500\n",
      "41/41 [==============================] - 0s 3ms/step - loss: 0.5649 - mae: 0.4822 - val_loss: 0.8104 - val_mae: 0.6412\n",
      "Epoch 365/500\n",
      "41/41 [==============================] - 0s 3ms/step - loss: 1.0203 - mae: 0.6535 - val_loss: 0.1810 - val_mae: 0.2778\n",
      "Epoch 366/500\n",
      "41/41 [==============================] - 0s 3ms/step - loss: 0.2835 - mae: 0.3647 - val_loss: 0.1457 - val_mae: 0.2548\n",
      "Epoch 367/500\n",
      "41/41 [==============================] - 0s 3ms/step - loss: 0.5325 - mae: 0.4395 - val_loss: 2.6407 - val_mae: 1.1159\n",
      "Epoch 368/500\n",
      "41/41 [==============================] - 0s 3ms/step - loss: 0.5149 - mae: 0.4533 - val_loss: 0.1919 - val_mae: 0.2961\n",
      "Epoch 369/500\n",
      "41/41 [==============================] - 0s 3ms/step - loss: 0.1874 - mae: 0.2935 - val_loss: 0.1881 - val_mae: 0.2516\n",
      "Epoch 370/500\n",
      "41/41 [==============================] - 0s 4ms/step - loss: 0.1772 - mae: 0.2805 - val_loss: 0.4025 - val_mae: 0.4077\n",
      "Epoch 371/500\n",
      "41/41 [==============================] - 4s 104ms/step - loss: 0.7788 - mae: 0.6143 - val_loss: 0.2861 - val_mae: 0.3866\n",
      "Epoch 372/500\n",
      "41/41 [==============================] - 9s 224ms/step - loss: 0.2015 - mae: 0.3130 - val_loss: 0.3032 - val_mae: 0.3548\n",
      "Epoch 373/500\n",
      "41/41 [==============================] - 7s 165ms/step - loss: 0.2131 - mae: 0.3119 - val_loss: 0.2008 - val_mae: 0.2503\n",
      "Epoch 374/500\n",
      "41/41 [==============================] - 10s 253ms/step - loss: 0.1731 - mae: 0.2807 - val_loss: 0.1747 - val_mae: 0.2484\n",
      "Epoch 375/500\n",
      "41/41 [==============================] - 1s 10ms/step - loss: 0.1681 - mae: 0.2919 - val_loss: 0.1482 - val_mae: 0.2489\n",
      "Epoch 376/500\n",
      "41/41 [==============================] - 0s 10ms/step - loss: 0.2180 - mae: 0.3156 - val_loss: 0.4902 - val_mae: 0.4550\n",
      "Epoch 377/500\n",
      "41/41 [==============================] - 8s 199ms/step - loss: 0.2800 - mae: 0.3536 - val_loss: 0.1940 - val_mae: 0.2987\n",
      "Epoch 378/500\n",
      "41/41 [==============================] - 8s 193ms/step - loss: 0.1535 - mae: 0.2754 - val_loss: 0.1415 - val_mae: 0.2644\n",
      "Epoch 379/500\n",
      "41/41 [==============================] - 9s 224ms/step - loss: 0.1733 - mae: 0.2915 - val_loss: 0.3524 - val_mae: 0.3871\n",
      "Epoch 380/500\n",
      "41/41 [==============================] - 10s 235ms/step - loss: 0.2395 - mae: 0.3365 - val_loss: 0.2554 - val_mae: 0.3528\n",
      "Epoch 381/500\n",
      "41/41 [==============================] - 8s 196ms/step - loss: 0.1661 - mae: 0.2826 - val_loss: 0.4539 - val_mae: 0.5356\n",
      "Epoch 382/500\n",
      "41/41 [==============================] - 9s 233ms/step - loss: 0.4054 - mae: 0.4524 - val_loss: 0.4832 - val_mae: 0.4855\n",
      "Epoch 383/500\n",
      "41/41 [==============================] - 2s 54ms/step - loss: 0.3731 - mae: 0.4156 - val_loss: 0.2538 - val_mae: 0.3137\n"
     ]
    }
   ],
   "source": [
    "history = ann.fit(X_train, y_train,\n",
    "                    validation_data = (X_val, y_val),\n",
    "                    callbacks=[es],\n",
    "                    epochs=500,\n",
    "                    batch_size=30,\n",
    "                    verbose=1)"
   ]
  },
  {
   "cell_type": "code",
   "execution_count": 29,
   "metadata": {
    "ExecuteTime": {
     "end_time": "2024-08-05T13:36:28.581662900Z",
     "start_time": "2024-08-05T13:36:28.088337300Z"
    }
   },
   "outputs": [
    {
     "data": {
      "text/plain": "<Figure size 640x480 with 1 Axes>",
      "image/png": "[encoded data removed]"
     },
     "metadata": {},
     "output_type": "display_data"
    }
   ],
   "source": [
    "import matplotlib.pyplot as plt\n",
    "# let's see the training and validation accuracy by epoch\n",
    "history_dict = history.history\n",
    "loss_values = history_dict['loss'] # you can change this\n",
    "val_loss_values = history_dict['val_loss'] # you can also change this\n",
    "epochs = range(1, len(loss_values) + 1) # range of X (no. of epochs)\n",
    "plt.plot(epochs, loss_values, 'blue', label='Train set loss')\n",
    "plt.plot(epochs, val_loss_values, 'orange', label='Validation set loss')\n",
    "#plt.title('Training and testing loss')\n",
    "plt.xlabel('Epochs')\n",
    "plt.ylabel('Loss (MSE)')\n",
    "plt.legend()\n",
    "plt.savefig('Arrival_ANN4_2.png', dpi = 300, bbox_inches = 'tight')\n",
    "plt.show()"
   ]
  },
  {
   "cell_type": "code",
   "execution_count": 16,
   "metadata": {
    "ExecuteTime": {
     "end_time": "2024-08-05T13:32:38.144840500Z",
     "start_time": "2024-08-05T13:32:37.689371100Z"
    }
   },
   "outputs": [
    {
     "data": {
      "text/plain": "<Figure size 640x480 with 1 Axes>",
      "image/png": "[encoded data removed]"
     },
     "metadata": {},
     "output_type": "display_data"
    }
   ],
   "source": [
    "loss_values1 = history_dict['mae'] # you can change this\n",
    "val_loss_values1 = history_dict['val_mae'] # you can also change this\n",
    "epochs = range(1, len(loss_values1) + 1) # range of X (no. of epochs)\n",
    "plt.plot(epochs, loss_values1, 'blue', label='Train set MAE')\n",
    "plt.plot(epochs, val_loss_values1, 'orange', label='Validation set MAE')\n",
    "#plt.title('Training and testing MAE')\n",
    "plt.xlabel('Epochs')\n",
    "plt.ylabel('MAE')\n",
    "plt.legend()\n",
    "plt.savefig('Arrival_ANN4_3.png', dpi = 300, bbox_inches = 'tight')\n",
    "plt.show()"
   ]
  },
  {
   "cell_type": "code",
   "execution_count": 17,
   "outputs": [
    {
     "name": "stdout",
     "output_type": "stream",
     "text": [
      "INFO:tensorflow:Assets written to: Arrival_ANN4\\assets\n"
     ]
    }
   ],
   "source": [
    "ann.save('Arrival_ANN4')"
   ],
   "metadata": {
    "collapsed": false,
    "ExecuteTime": {
     "end_time": "2024-08-05T13:32:39.557821100Z",
     "start_time": "2024-08-05T13:32:38.144840500Z"
    }
   }
  },
  {
   "cell_type": "markdown",
   "source": [
    "# Part 4 - Make predictions"
   ],
   "metadata": {
    "collapsed": false
   }
  },
  {
   "cell_type": "code",
   "execution_count": 18,
   "metadata": {
    "ExecuteTime": {
     "end_time": "2024-08-05T13:32:40.965215700Z",
     "start_time": "2024-08-05T13:32:39.564818600Z"
    }
   },
   "outputs": [
    {
     "name": "stdout",
     "output_type": "stream",
     "text": [
      "39/39 [==============================] - 0s 1ms/step\n",
      "9/9 [==============================] - 0s 2ms/step\n"
     ]
    },
    {
     "data": {
      "text/plain": "<Figure size 640x480 with 2 Axes>",
      "image/png": "[encoded data removed]"
     },
     "metadata": {},
     "output_type": "display_data"
    }
   ],
   "source": [
    "# scatterplot of actual vs. pred\n",
    "# specify the dimensions \n",
    "fig, axes = plt.subplots(1,2) # 1 row, 2 columns\n",
    "\n",
    "# this makes the individual subplots\n",
    "# Training Results\n",
    "axes[0].scatter(x=y_train, y=ann.predict(X_train)) #first row, first entry (left top)\n",
    "axes[0].set_xlabel(\"Actual\", fontsize=10)\n",
    "axes[0].set_ylabel(\"Predicted\",  fontsize=10)\n",
    "axes[0].set_title(\"Training\")\n",
    "# add 45 deg line\n",
    "x = np.linspace(*axes[0].get_xlim())\n",
    "axes[0].plot(x, x, color='red')\n",
    "# Validation Results\n",
    "axes[1].scatter(x=y_val, y=ann.predict(X_val)) # first row, second entry (right top)\n",
    "axes[1].set_xlabel(\"Actual\", fontsize=10)\n",
    "axes[1].set_ylabel(\"Predicted\",  fontsize=10)\n",
    "axes[1].set_title(\"Validation\")\n",
    "# add 45 deg line\n",
    "x = np.linspace(*axes[1].get_xlim())\n",
    "axes[1].plot(x, x, color='red')\n",
    "\n",
    "# tight layout\n",
    "fig.tight_layout()\n",
    "\n",
    "plt.savefig('Arrival_ANN4_1.png', dpi = 300, bbox_inches = 'tight')\n",
    "# show the plot\n",
    "plt.show()"
   ]
  },
  {
   "cell_type": "code",
   "execution_count": 10,
   "metadata": {
    "colab": {
     "base_uri": "https://localhost:8080/",
     "height": 134
    },
    "colab_type": "code",
    "id": "IA0yApEmBG1X",
    "outputId": "cb981e1f-9204-4a2a-fece-9d66a6919189",
    "ExecuteTime": {
     "end_time": "2024-09-01T23:28:53.828798600Z",
     "start_time": "2024-09-01T23:28:53.365827800Z"
    }
   },
   "outputs": [
    {
     "name": "stdout",
     "output_type": "stream",
     "text": [
      "9/9 [==============================] - 0s 4ms/step\n",
      "[[ 29.39  29.33]\n",
      " [  1.67   1.92]\n",
      " [ 42.28  42.09]\n",
      " [ 60.71  60.62]\n",
      " [  0.65   0.57]\n",
      " [  0.45   0.46]\n",
      " [  1.6    1.61]\n",
      " [ 48.39  48.43]\n",
      " [ 49.94  50.24]\n",
      " [  2.36   2.58]\n",
      " [ 46.9   46.88]\n",
      " [ 82.4   82.55]\n",
      " [ 50.92  50.34]\n",
      " [ 28.91  28.87]\n",
      " [  0.35   0.36]\n",
      " [ 20.22  20.51]\n",
      " [ 75.64  75.31]\n",
      " [ 13.53  13.49]\n",
      " [  0.36   0.37]\n",
      " [  2.65   2.85]\n",
      " [ 78.01  77.96]\n",
      " [  1.24   1.28]\n",
      " [  1.38   1.52]\n",
      " [  1.71   1.98]\n",
      " [  0.54   0.53]\n",
      " [ 37.55  37.5 ]\n",
      " [ 15.41  15.07]\n",
      " [  9.29   9.68]\n",
      " [  4.36   4.3 ]\n",
      " [ 54.19  54.62]\n",
      " [ 11.51  11.45]\n",
      " [ 23.52  23.46]\n",
      " [ 54.49  53.82]\n",
      " [  1.28   1.21]\n",
      " [ 81.99  82.17]\n",
      " [101.93 102.17]\n",
      " [  0.56   0.59]\n",
      " [ 71.92  73.4 ]\n",
      " [ 56.7   55.86]\n",
      " [ 28.12  28.2 ]\n",
      " [ 37.46  38.44]\n",
      " [ 30.53  30.81]\n",
      " [ 70.27  70.13]\n",
      " [ 67.73  67.58]\n",
      " [  8.87   8.84]\n",
      " [ 26.81  26.93]\n",
      " [ 81.98  81.93]\n",
      " [  1.25   1.16]\n",
      " [  1.38   1.14]\n",
      " [ 52.02  51.87]\n",
      " [ 80.88  80.8 ]\n",
      " [ 72.89  72.75]\n",
      " [  0.26   0.36]\n",
      " [ 42.17  42.1 ]\n",
      " [ 17.38  17.35]\n",
      " [ 97.72  97.82]\n",
      " [  2.39   2.56]\n",
      " [ 27.13  27.5 ]\n",
      " [ 85.39  85.31]\n",
      " [ 39.73  39.76]\n",
      " [ 67.22  67.46]\n",
      " [ 56.62  56.42]\n",
      " [ 51.34  51.31]\n",
      " [  7.53   7.21]\n",
      " [ 66.05  66.45]\n",
      " [  1.53   1.67]\n",
      " [ 61.64  61.54]\n",
      " [ 20.5   20.86]\n",
      " [  1.63   1.66]\n",
      " [ 58.01  58.06]\n",
      " [ 78.29  79.25]\n",
      " [ 73.07  72.73]\n",
      " [  1.43   1.49]\n",
      " [ 49.78  49.96]\n",
      " [ 53.96  53.27]\n",
      " [  0.69   0.67]\n",
      " [  8.24   8.25]\n",
      " [  1.8    1.85]\n",
      " [  4.45   4.4 ]\n",
      " [  0.64   0.55]\n",
      " [ 78.73  78.7 ]\n",
      " [ 88.1   87.8 ]\n",
      " [ 34.86  35.09]\n",
      " [  0.49   0.58]\n",
      " [ 64.28  64.35]\n",
      " [  0.3    0.34]\n",
      " [ 51.32  51.3 ]\n",
      " [ 16.31  16.38]\n",
      " [ 76.41  76.01]\n",
      " [ 20.84  21.01]\n",
      " [ 88.66  88.12]\n",
      " [  1.35   1.4 ]\n",
      " [  1.5    1.57]\n",
      " [  4.98   5.15]\n",
      " [ 25.55  25.48]\n",
      " [ 10.63  10.51]\n",
      " [ 22.88  22.84]\n",
      " [  1.53   1.71]\n",
      " [ 69.96  69.04]\n",
      " [ 36.44  35.33]\n",
      " [ 42.41  43.12]\n",
      " [  0.46   0.46]\n",
      " [ 58.24  57.59]\n",
      " [ 53.14  53.12]\n",
      " [  1.17   1.13]\n",
      " [  0.91   0.88]\n",
      " [  1.85   2.14]\n",
      " [108.14 107.96]\n",
      " [ 75.08  74.96]\n",
      " [  8.34   7.97]\n",
      " [  0.57   0.58]\n",
      " [  1.91   1.85]\n",
      " [ 68.99  69.06]\n",
      " [  7.     7.14]\n",
      " [ 42.52  42.59]\n",
      " [  1.67   1.79]\n",
      " [ 32.37  32.84]\n",
      " [ 49.22  49.59]\n",
      " [  1.11   0.68]\n",
      " [  1.     1.05]\n",
      " [ 68.15  68.21]\n",
      " [  2.13   2.33]\n",
      " [  6.55   6.37]\n",
      " [ 39.21  39.25]\n",
      " [  1.29   1.33]\n",
      " [ 29.53  29.7 ]\n",
      " [114.36 114.8 ]\n",
      " [  1.23   1.31]\n",
      " [ 36.99  35.86]\n",
      " [ 51.95  53.02]\n",
      " [  9.11   9.36]\n",
      " [ 43.29  43.52]\n",
      " [ 55.96  55.09]\n",
      " [ 91.84  92.23]\n",
      " [  1.36   1.37]\n",
      " [  0.68   0.63]\n",
      " [ 16.24  15.95]\n",
      " [ 79.25  78.78]\n",
      " [ 10.5   10.54]\n",
      " [  1.45   1.39]\n",
      " [ 19.67  20.11]\n",
      " [ 45.29  45.3 ]\n",
      " [ 18.32  18.52]\n",
      " [ 43.84  43.89]\n",
      " [  2.18   2.28]\n",
      " [ 62.28  62.18]\n",
      " [  5.71   5.5 ]\n",
      " [  2.4    2.36]\n",
      " [ 22.54  22.19]\n",
      " [ 24.37  23.99]\n",
      " [  1.62   1.54]\n",
      " [ 63.87  64.92]\n",
      " [ 32.94  32.9 ]\n",
      " [ 78.36  78.31]\n",
      " [  0.44   0.4 ]\n",
      " [ 91.6   91.43]\n",
      " [ 89.86  89.95]\n",
      " [  9.1    9.18]\n",
      " [ 46.58  47.04]\n",
      " [ 33.66  32.56]\n",
      " [ 39.3   40.1 ]\n",
      " [102.34 102.53]\n",
      " [  1.55   1.64]\n",
      " [ 67.9   67.51]\n",
      " [  5.45   5.29]\n",
      " [ 21.05  21.67]\n",
      " [ 10.76  10.78]\n",
      " [  1.77   2.04]\n",
      " [ 19.11  18.38]\n",
      " [  0.12   0.29]\n",
      " [  0.33   0.4 ]\n",
      " [  3.33   2.82]\n",
      " [  0.27   0.3 ]\n",
      " [ 12.32  12.22]\n",
      " [ 12.08  12.3 ]\n",
      " [  0.6    0.43]\n",
      " [ 83.74  83.34]\n",
      " [  1.04   0.94]\n",
      " [ 71.8   71.62]\n",
      " [  3.48   3.52]\n",
      " [  0.55   0.6 ]\n",
      " [  8.62   8.44]\n",
      " [ 68.97  68.78]\n",
      " [  0.4    0.45]\n",
      " [  0.54   0.49]\n",
      " [  0.83   0.76]\n",
      " [  0.59   0.45]\n",
      " [ 52.56  52.51]\n",
      " [  0.49   0.51]\n",
      " [  0.72   0.75]\n",
      " [  0.44   0.56]\n",
      " [  6.12   6.22]\n",
      " [ 19.76  20.16]\n",
      " [ 31.09  31.24]\n",
      " [ 55.23  54.41]\n",
      " [ 32.11  31.26]\n",
      " [  0.39   0.42]\n",
      " [  6.25   6.1 ]\n",
      " [ 49.07  48.98]\n",
      " [ 69.51  69.18]\n",
      " [ 81.75  80.9 ]\n",
      " [  0.86   0.83]\n",
      " [ 81.45  81.15]\n",
      " [ 11.47  11.4 ]\n",
      " [  2.14   2.32]\n",
      " [ 39.51  39.87]\n",
      " [  0.69   0.8 ]\n",
      " [ 77.41  77.41]\n",
      " [  0.8    0.75]\n",
      " [ 77.24  76.99]\n",
      " [ 39.5   39.19]\n",
      " [  2.85   2.97]\n",
      " [ 23.21  23.1 ]\n",
      " [ 57.14  56.9 ]\n",
      " [ 61.9   62.2 ]\n",
      " [  0.98   0.91]\n",
      " [ 70.48  70.51]\n",
      " [  4.53   4.8 ]\n",
      " [  0.81   0.79]\n",
      " [ 86.27  85.75]\n",
      " [  0.51   0.59]\n",
      " [  1.49   1.49]\n",
      " [ 67.35  67.28]\n",
      " [ 25.54  26.01]\n",
      " [  1.74   1.77]\n",
      " [  1.13   1.12]\n",
      " [  1.57   1.67]\n",
      " [  0.39   0.42]\n",
      " [ 21.58  21.45]\n",
      " [  0.79   0.57]\n",
      " [  2.89   3.  ]\n",
      " [ 75.84  74.89]\n",
      " [  1.53   1.63]\n",
      " [ 16.48  17.17]\n",
      " [  1.94   2.04]\n",
      " [  0.72   0.63]\n",
      " [ 15.74  15.88]\n",
      " [ 24.86  25.04]\n",
      " [ 61.25  61.16]\n",
      " [ 59.69  59.99]\n",
      " [  1.39   1.36]\n",
      " [  2.06   2.13]\n",
      " [  1.26   1.29]\n",
      " [  0.43   0.45]\n",
      " [  2.96   3.07]\n",
      " [  1.66   1.74]\n",
      " [ 21.73  21.51]\n",
      " [ 29.51  29.52]\n",
      " [  1.21   1.09]\n",
      " [  1.11   1.16]\n",
      " [  1.98   2.  ]\n",
      " [ 72.16  72.01]\n",
      " [ 63.77  63.69]\n",
      " [ 76.53  76.49]\n",
      " [100.85 100.68]\n",
      " [ 46.54  46.29]\n",
      " [  0.17   0.28]\n",
      " [ 90.74  90.71]\n",
      " [  4.38   4.42]\n",
      " [  1.39   1.35]\n",
      " [ 60.57  60.76]\n",
      " [  0.61   0.39]\n",
      " [  1.47   1.57]]\n"
     ]
    }
   ],
   "source": [
    "y_pred = ann.predict(X_test)\n",
    "np.set_printoptions(precision=2)\n",
    "print(np.concatenate((y_pred.reshape(len(y_pred),1), y_test.reshape(len(y_test),1)),1))"
   ]
  },
  {
   "cell_type": "code",
   "execution_count": 11,
   "metadata": {
    "ExecuteTime": {
     "end_time": "2024-09-01T23:28:59.533397200Z",
     "start_time": "2024-09-01T23:28:58.434737300Z"
    }
   },
   "outputs": [
    {
     "data": {
      "text/plain": "Text(0, 0.5, 'Predicted data')"
     },
     "execution_count": 11,
     "metadata": {},
     "output_type": "execute_result"
    },
    {
     "data": {
      "text/plain": "<Figure size 640x480 with 1 Axes>",
      "image/png": "[encoded data removed]"
     },
     "metadata": {},
     "output_type": "display_data"
    }
   ],
   "source": [
    "import matplotlib.pyplot as plt\n",
    "plt.scatter(y_test, y_pred, color=\"blue\")\n",
    "#plt.plot ([0,0.085],[0,0.085], color = \"red\")\n",
    "#plt.axis ([0,0.085,0,0.085])\n",
    "plt.xlabel ('Actual data')\n",
    "plt.ylabel ('Predicted data')"
   ]
  },
  {
   "cell_type": "code",
   "execution_count": 14,
   "metadata": {
    "ExecuteTime": {
     "end_time": "2024-09-01T23:44:55.958034200Z",
     "start_time": "2024-09-01T23:44:55.214125100Z"
    }
   },
   "outputs": [
    {
     "data": {
      "text/plain": "<Figure size 600x600 with 1 Axes>",
      "image/png": "[encoded data removed]"
     },
     "metadata": {},
     "output_type": "display_data"
    }
   ],
   "source": [
    "from sklearn.metrics import r2_score\n",
    "# Initialize layout\n",
    "fig1, ax1 = plt.subplots(figsize = (6, 6))\n",
    "\n",
    "# Set global font to Times New Roman and font size\n",
    "plt.rcParams['font.family'] = 'serif'\n",
    "plt.rcParams['font.serif'] = ['Times New Roman']\n",
    "plt.rcParams['font.size'] = 20\n",
    "\n",
    "b_l = -5\n",
    "u_l = 120\n",
    "\n",
    "# Add scatterplot\n",
    "ax1.scatter(y_test, y_pred, s=70, alpha=1, edgecolors=\"k\",c='mediumblue',zorder=5, label = 'Points')\n",
    "\n",
    "\n",
    "plt.ylabel('Predicted Arrival Time (ms)')\n",
    "plt.xlabel('Target Arrival Time (ms)')\n",
    "plt.xticks(fontsize = 19)\n",
    "plt.yticks(fontsize = 19)\n",
    "\n",
    "\n",
    "x1 = np.linspace(b_l, u_l)\n",
    "\n",
    "plt.plot(x1, x1, 'Red', label='45\\N{DEGREE SIGN} line',lw=2.5,alpha=1)\n",
    "\n",
    "plt.ylim(b_l, u_l)\n",
    "plt.xlim(b_l, u_l)\n",
    "plt.legend(loc='upper center', bbox_to_anchor=(0.5, -0.15), ncol=4, frameon = False, fontsize = 20)\n",
    "\n",
    "#plt.grid()\n",
    "\n",
    "ax1.spines['left'].set_color('black')        # setting up Y-axis tick color to red\n",
    "ax1.spines['bottom'].set_color('black')\n",
    "\n",
    "plt.savefig('Arrival_ANN4.png', dpi = 300, bbox_inches = 'tight')"
   ]
  },
  {
   "cell_type": "code",
   "execution_count": 22,
   "metadata": {
    "ExecuteTime": {
     "end_time": "2024-08-05T13:32:42.447902900Z",
     "start_time": "2024-08-05T13:32:42.240277Z"
    }
   },
   "outputs": [
    {
     "name": "stdout",
     "output_type": "stream",
     "text": [
      "39/39 [==============================] - 0s 1ms/step\n",
      "0.17489087860688324\n",
      "0.21107572347783138\n"
     ]
    }
   ],
   "source": [
    "trainpreds = ann.predict(X_train)\n",
    "\n",
    "from sklearn.metrics import mean_absolute_error\n",
    "print(mean_absolute_error(y_train, trainpreds)) # train\n",
    "print(mean_absolute_error(y_test, y_pred)) # test"
   ]
  },
  {
   "cell_type": "code",
   "execution_count": 23,
   "metadata": {
    "ExecuteTime": {
     "end_time": "2024-08-05T13:32:42.447902900Z",
     "start_time": "2024-08-05T13:32:42.411383300Z"
    }
   },
   "outputs": [
    {
     "name": "stdout",
     "output_type": "stream",
     "text": [
      "0.9998883995227517\n"
     ]
    }
   ],
   "source": [
    "from sklearn.metrics import r2_score\n",
    "r2 = r2_score(y_test, y_pred)\n",
    "print (r2)"
   ]
  },
  {
   "cell_type": "code",
   "execution_count": 24,
   "metadata": {
    "ExecuteTime": {
     "end_time": "2024-08-05T13:32:42.614543600Z",
     "start_time": "2024-08-05T13:32:42.442901200Z"
    }
   },
   "outputs": [
    {
     "name": "stdout",
     "output_type": "stream",
     "text": [
      "0.999912358930988\n"
     ]
    }
   ],
   "source": [
    "r2_train = r2_score(y_train, trainpreds)\n",
    "print (r2_train)"
   ]
  },
  {
   "cell_type": "code",
   "execution_count": 25,
   "metadata": {
    "ExecuteTime": {
     "end_time": "2024-08-05T13:32:42.806208200Z",
     "start_time": "2024-08-05T13:32:42.602525400Z"
    }
   },
   "outputs": [
    {
     "name": "stdout",
     "output_type": "stream",
     "text": [
      "Within 10% margin 89.35%\n",
      "Within 20% margin 96.20%\n",
      "Out of 20% margin 3.80%\n"
     ]
    }
   ],
   "source": [
    "count1 = 0\n",
    "for i in range(len(y_pred)):\n",
    "    line1 = y_pred[i] - 0.9*y_test[i]\n",
    "    line2 = y_pred[i] - 1.1*y_test[i]\n",
    "    #print ('line 1 ', line1)\n",
    "    #print ('line 2 ', line2)\n",
    "    mask1 = (line1 > 0) & (line2 < 0)\n",
    "    #print (mask)\n",
    "    count1 = np.sum(mask1+count1)\n",
    "    #print (count)\n",
    "\n",
    "count2 = 0\n",
    "for j in range(len(y_pred)):\n",
    "    line3 = y_pred[j] - 0.8*y_test[j]\n",
    "    line4 = y_pred[j] - 1.2*y_test[j]\n",
    "    mask2 = (line3 > 0) & (line4 < 0)\n",
    "    count2 = np.sum(mask2+count2)\n",
    "\n",
    "\n",
    "count3 = 0    \n",
    "for k in range(len(y_pred)):\n",
    "    line5 = y_pred[k] - 0.8*y_test[k]\n",
    "    line6 = y_pred[k] - 1.2*y_test[k]\n",
    "    mask3 = (line5 < 0) or (line6 > 0)\n",
    "    count3 = np.sum(mask3+count3)\n",
    "   \n",
    "\n",
    "print ('Within 10% margin', format((count1/len (y_pred)),'.2%'))\n",
    "print ('Within 20% margin', format((count2/len (y_pred)),'.2%'))\n",
    "print ('Out of 20% margin', format((count3/len (y_pred)),'.2%'))"
   ]
  },
  {
   "cell_type": "code",
   "execution_count": 26,
   "metadata": {
    "ExecuteTime": {
     "end_time": "2024-08-05T13:32:42.897279500Z",
     "start_time": "2024-08-05T13:32:42.773138200Z"
    }
   },
   "outputs": [
    {
     "name": "stdout",
     "output_type": "stream",
     "text": [
      "0.999887106853131\n"
     ]
    }
   ],
   "source": [
    "adj_r2 = 1 - ((1 - r2) * (len(X_test) - 1) / (len(X_test) - len (X_test[0]) - 1))\n",
    "print (adj_r2)"
   ]
  },
  {
   "cell_type": "code",
   "execution_count": 27,
   "metadata": {
    "ExecuteTime": {
     "end_time": "2024-08-05T13:32:42.986952400Z",
     "start_time": "2024-08-05T13:32:42.867749300Z"
    }
   },
   "outputs": [
    {
     "data": {
      "text/plain": "0.32828067041773773"
     },
     "execution_count": 27,
     "metadata": {},
     "output_type": "execute_result"
    }
   ],
   "source": [
    "import math\n",
    "from sklearn.metrics import mean_squared_error\n",
    "\n",
    "math.sqrt(mean_squared_error(y_test, y_pred))"
   ]
  },
  {
   "cell_type": "code",
   "execution_count": 28,
   "metadata": {
    "ExecuteTime": {
     "end_time": "2024-08-05T13:32:43.043028Z",
     "start_time": "2024-08-05T13:32:42.962940200Z"
    }
   },
   "outputs": [
    {
     "data": {
      "text/plain": "0.21107572347783138"
     },
     "execution_count": 28,
     "metadata": {},
     "output_type": "execute_result"
    }
   ],
   "source": [
    "from sklearn.metrics import mean_absolute_error\n",
    "\n",
    "mean_absolute_error(y_test, y_pred)"
   ]
  },
  {
   "cell_type": "code",
   "execution_count": 9,
   "outputs": [],
   "source": [
    "from keras.models import load_model\n",
    "ann = load_model('Arrival_ANN4')"
   ],
   "metadata": {
    "collapsed": false,
    "ExecuteTime": {
     "end_time": "2024-09-01T23:26:46.304448600Z",
     "start_time": "2024-09-01T23:26:45.263663700Z"
    }
   }
  }
 ],
 "metadata": {
  "colab": {
   "collapsed_sections": [],
   "name": "Artificial Neural Network",
   "provenance": [],
   "toc_visible": true
  },
  "kernelspec": {
   "display_name": "Python 3 (ipykernel)",
   "language": "python",
   "name": "python3"
  },
  "language_info": {
   "codemirror_mode": {
    "name": "ipython",
    "version": 3
   },
   "file_extension": ".py",
   "mimetype": "text/x-python",
   "name": "python",
   "nbconvert_exporter": "python",
   "pygments_lexer": "ipython3",
   "version": "3.9.7"
  }
 },
 "nbformat": 4,
 "nbformat_minor": 4
}
