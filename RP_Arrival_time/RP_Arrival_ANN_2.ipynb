{
 "cells": [
  {
   "cell_type": "markdown",
   "source": [
    "# Part 1 - Data Preprocessing"
   ],
   "metadata": {
    "collapsed": false
   }
  },
  {
   "cell_type": "code",
   "execution_count": 1,
   "metadata": {
    "colab": {},
    "colab_type": "code",
    "id": "lxChR1Rk-umf",
    "ExecuteTime": {
     "end_time": "2024-08-02T04:13:28.030812900Z",
     "start_time": "2024-08-02T04:13:23.102594400Z"
    }
   },
   "outputs": [],
   "source": [
    "import numpy as np\n",
    "import pandas as pd\n",
    "import tensorflow as tf"
   ]
  },
  {
   "cell_type": "code",
   "execution_count": 2,
   "metadata": {
    "colab": {},
    "colab_type": "code",
    "id": "B9CV13Co_HHM",
    "ExecuteTime": {
     "end_time": "2024-08-02T04:13:28.887023100Z",
     "start_time": "2024-08-02T04:13:28.033813Z"
    }
   },
   "outputs": [
    {
     "name": "stdout",
     "output_type": "stream",
     "text": [
      "<class 'pandas.core.frame.DataFrame'>\n",
      "RangeIndex: 1748 entries, 0 to 1747\n",
      "Data columns (total 4 columns):\n",
      " #   Column             Non-Null Count  Dtype  \n",
      "---  ------             --------------  -----  \n",
      " 0   Mass               1748 non-null   float64\n",
      " 1   Standoff distance  1748 non-null   float64\n",
      " 2   Angle              1748 non-null   int64  \n",
      " 3   Arrival time       1748 non-null   float64\n",
      "dtypes: float64(3), int64(1)\n",
      "memory usage: 54.8 KB\n"
     ]
    }
   ],
   "source": [
    "dataset = pd.read_excel('RP_arrival_all.xlsx')\n",
    "dataset.info()"
   ]
  },
  {
   "cell_type": "code",
   "execution_count": 3,
   "metadata": {
    "ExecuteTime": {
     "end_time": "2024-08-02T04:13:30.593308800Z",
     "start_time": "2024-08-02T04:13:30.504971300Z"
    }
   },
   "outputs": [
    {
     "data": {
      "text/plain": "   Mass  Standoff distance  Angle  Arrival time\n0   0.5                5.0      0     10.055926\n1   0.5                5.0     15     10.536600\n2   0.5                5.0     30     12.221524\n3   0.5                5.0     45     15.898340\n4   2.5                5.0      0      7.722725",
      "text/html": "<div>\n<style scoped>\n    .dataframe tbody tr th:only-of-type {\n        vertical-align: middle;\n    }\n\n    .dataframe tbody tr th {\n        vertical-align: top;\n    }\n\n    .dataframe thead th {\n        text-align: right;\n    }\n</style>\n<table border=\"1\" class=\"dataframe\">\n  <thead>\n    <tr style=\"text-align: right;\">\n      <th></th>\n      <th>Mass</th>\n      <th>Standoff distance</th>\n      <th>Angle</th>\n      <th>Arrival time</th>\n    </tr>\n  </thead>\n  <tbody>\n    <tr>\n      <th>0</th>\n      <td>0.5</td>\n      <td>5.0</td>\n      <td>0</td>\n      <td>10.055926</td>\n    </tr>\n    <tr>\n      <th>1</th>\n      <td>0.5</td>\n      <td>5.0</td>\n      <td>15</td>\n      <td>10.536600</td>\n    </tr>\n    <tr>\n      <th>2</th>\n      <td>0.5</td>\n      <td>5.0</td>\n      <td>30</td>\n      <td>12.221524</td>\n    </tr>\n    <tr>\n      <th>3</th>\n      <td>0.5</td>\n      <td>5.0</td>\n      <td>45</td>\n      <td>15.898340</td>\n    </tr>\n    <tr>\n      <th>4</th>\n      <td>2.5</td>\n      <td>5.0</td>\n      <td>0</td>\n      <td>7.722725</td>\n    </tr>\n  </tbody>\n</table>\n</div>"
     },
     "execution_count": 3,
     "metadata": {},
     "output_type": "execute_result"
    }
   ],
   "source": [
    "dataset.head()"
   ]
  },
  {
   "cell_type": "code",
   "execution_count": 4,
   "metadata": {
    "ExecuteTime": {
     "end_time": "2024-08-02T04:13:32.156597700Z",
     "start_time": "2024-08-02T04:13:32.011401900Z"
    }
   },
   "outputs": [
    {
     "name": "stdout",
     "output_type": "stream",
     "text": [
      "(1748, 3) (1748,)\n"
     ]
    }
   ],
   "source": [
    "y = dataset['Arrival time']\n",
    "X = dataset.drop(['Arrival time'], axis=1)\n",
    "print(X.shape, y.shape)"
   ]
  },
  {
   "cell_type": "code",
   "execution_count": 5,
   "metadata": {
    "ExecuteTime": {
     "end_time": "2024-08-02T04:13:33.321609900Z",
     "start_time": "2024-08-02T04:13:33.215673700Z"
    }
   },
   "outputs": [],
   "source": [
    "# convert to numpy array\n",
    "X = np.array(X)\n",
    "y = np.array(y)"
   ]
  },
  {
   "cell_type": "code",
   "execution_count": 6,
   "metadata": {
    "colab": {},
    "colab_type": "code",
    "id": "L5edeb2r_agx",
    "ExecuteTime": {
     "end_time": "2024-08-02T04:13:35.632461400Z",
     "start_time": "2024-08-02T04:13:34.500789Z"
    }
   },
   "outputs": [],
   "source": [
    "from sklearn.model_selection import train_test_split\n",
    "X_train, X_test, y_train, y_test = train_test_split(X,\n",
    "                                                    y,\n",
    "                                                    test_size = 0.3,\n",
    "                                                    random_state = 0)"
   ]
  },
  {
   "cell_type": "code",
   "execution_count": 7,
   "metadata": {
    "colab": {},
    "colab_type": "code",
    "id": "L5edeb2r_agx",
    "ExecuteTime": {
     "end_time": "2024-08-02T04:13:36.985806900Z",
     "start_time": "2024-08-02T04:13:36.875252800Z"
    }
   },
   "outputs": [],
   "source": [
    "X_val, X_test, y_val, y_test = train_test_split(X_test,\n",
    "                                                y_test,\n",
    "                                                test_size = 0.5,\n",
    "                                                random_state = 0)"
   ]
  },
  {
   "cell_type": "markdown",
   "metadata": {
    "colab_type": "text",
    "id": "_mSLlAT9_eyI"
   },
   "source": [
    "# Part 2 - Building the ANN"
   ]
  },
  {
   "cell_type": "markdown",
   "source": [],
   "metadata": {
    "collapsed": false
   }
  },
  {
   "cell_type": "code",
   "execution_count": 8,
   "metadata": {
    "colab": {},
    "colab_type": "code",
    "id": "J6Hd97Ls__Nz",
    "ExecuteTime": {
     "end_time": "2024-08-02T04:13:42.978277600Z",
     "start_time": "2024-08-02T04:13:42.871837300Z"
    }
   },
   "outputs": [],
   "source": [
    "ann = tf.keras.models.Sequential()"
   ]
  },
  {
   "cell_type": "code",
   "execution_count": 9,
   "metadata": {
    "colab": {},
    "colab_type": "code",
    "id": "ksO_Vv40AHix",
    "ExecuteTime": {
     "end_time": "2024-08-02T04:13:45.008230600Z",
     "start_time": "2024-08-02T04:13:44.903290600Z"
    }
   },
   "outputs": [],
   "source": [
    "ann.add(tf.keras.layers.Dense(units=8,\n",
    "                              input_shape=(X_train.shape[1],),\n",
    "                              activation='leaky_relu'))\n",
    "ann.add(tf.keras.layers.Dense(units=7,\n",
    "                              activation='leaky_relu'))\n",
    "#ann.add(tf.keras.layers.Dense(units=5,\n",
    "#                              activation='leaky_relu'))"
   ]
  },
  {
   "cell_type": "code",
   "execution_count": 10,
   "metadata": {
    "colab": {},
    "colab_type": "code",
    "id": "YFATpzsUAkLL",
    "ExecuteTime": {
     "end_time": "2024-08-02T04:13:46.272762600Z",
     "start_time": "2024-08-02T04:13:46.153196Z"
    }
   },
   "outputs": [],
   "source": [
    "ann.add(tf.keras.layers.Dense(units=1,\n",
    "                              activation='linear'))"
   ]
  },
  {
   "cell_type": "code",
   "execution_count": 11,
   "metadata": {
    "ExecuteTime": {
     "end_time": "2024-08-02T04:13:47.285369500Z",
     "start_time": "2024-08-02T04:13:47.142784500Z"
    }
   },
   "outputs": [
    {
     "name": "stdout",
     "output_type": "stream",
     "text": [
      "Model: \"sequential\"\n",
      "_________________________________________________________________\n",
      " Layer (type)                Output Shape              Param #   \n",
      "=================================================================\n",
      " dense (Dense)               (None, 8)                 32        \n",
      "                                                                 \n",
      " dense_1 (Dense)             (None, 7)                 63        \n",
      "                                                                 \n",
      " dense_2 (Dense)             (None, 1)                 8         \n",
      "                                                                 \n",
      "=================================================================\n",
      "Total params: 103\n",
      "Trainable params: 103\n",
      "Non-trainable params: 0\n",
      "_________________________________________________________________\n"
     ]
    }
   ],
   "source": [
    "ann.summary()"
   ]
  },
  {
   "cell_type": "markdown",
   "metadata": {
    "colab_type": "text",
    "id": "fq7e4fF6A1yy"
   },
   "source": [
    "# Part 3 - Training the ANN"
   ]
  },
  {
   "cell_type": "code",
   "execution_count": 12,
   "metadata": {
    "colab": {},
    "colab_type": "code",
    "id": "pesgbWlCAtB4",
    "ExecuteTime": {
     "end_time": "2024-08-02T04:13:52.475861900Z",
     "start_time": "2024-08-02T04:13:52.168248100Z"
    }
   },
   "outputs": [],
   "source": [
    "from tensorflow.keras.optimizers import Adam\n",
    "opt = Adam(learning_rate=0.01)\n",
    "ann.compile(optimizer = opt,\n",
    "            loss = 'mean_squared_error',\n",
    "            metrics = ['mae'])"
   ]
  },
  {
   "cell_type": "code",
   "execution_count": 13,
   "metadata": {
    "ExecuteTime": {
     "end_time": "2024-08-02T04:13:54.396465200Z",
     "start_time": "2024-08-02T04:13:54.285907700Z"
    }
   },
   "outputs": [],
   "source": [
    "# protects from unnecessary further training of the model\n",
    "#if a particular metric does not continue to improve over a number of n epochs.\n",
    "#In such a case, the model training would be automatically aborted.\n",
    "from keras.callbacks import EarlyStopping\n",
    "es = EarlyStopping(monitor='val_loss',\n",
    "                   mode='min',\n",
    "                   patience=50,\n",
    "                   restore_best_weights = True)"
   ]
  },
  {
   "cell_type": "code",
   "execution_count": 14,
   "metadata": {
    "colab": {
     "base_uri": "https://localhost:8080/",
     "height": 1000
    },
    "colab_type": "code",
    "id": "c_vV-tiiA5zn",
    "outputId": "4a2b6ee6-ed75-4698-9069-b250e613803f",
    "ExecuteTime": {
     "end_time": "2024-08-02T04:14:49.044128100Z",
     "start_time": "2024-08-02T04:13:55.470852100Z"
    }
   },
   "outputs": [
    {
     "name": "stdout",
     "output_type": "stream",
     "text": [
      "Epoch 1/500\n",
      "41/41 [==============================] - 1s 10ms/step - loss: 753.7062 - mae: 20.4542 - val_loss: 143.8747 - val_mae: 9.3527\n",
      "Epoch 2/500\n",
      "41/41 [==============================] - 0s 3ms/step - loss: 86.2843 - mae: 7.2765 - val_loss: 46.5162 - val_mae: 5.2412\n",
      "Epoch 3/500\n",
      "41/41 [==============================] - 0s 3ms/step - loss: 41.8712 - mae: 4.8298 - val_loss: 35.0207 - val_mae: 4.0966\n",
      "Epoch 4/500\n",
      "41/41 [==============================] - 0s 3ms/step - loss: 33.6086 - mae: 4.1651 - val_loss: 30.0244 - val_mae: 4.0672\n",
      "Epoch 5/500\n",
      "41/41 [==============================] - 0s 3ms/step - loss: 31.4665 - mae: 3.9554 - val_loss: 25.9768 - val_mae: 3.5940\n",
      "Epoch 6/500\n",
      "41/41 [==============================] - 0s 3ms/step - loss: 27.9521 - mae: 3.7080 - val_loss: 23.0168 - val_mae: 3.3424\n",
      "Epoch 7/500\n",
      "41/41 [==============================] - 0s 3ms/step - loss: 24.1585 - mae: 3.3554 - val_loss: 24.3233 - val_mae: 3.1651\n",
      "Epoch 8/500\n",
      "41/41 [==============================] - 0s 3ms/step - loss: 24.5780 - mae: 3.3755 - val_loss: 20.6614 - val_mae: 3.0160\n",
      "Epoch 9/500\n",
      "41/41 [==============================] - 0s 3ms/step - loss: 21.1594 - mae: 3.1371 - val_loss: 18.3255 - val_mae: 2.8471\n",
      "Epoch 10/500\n",
      "41/41 [==============================] - 0s 3ms/step - loss: 19.3257 - mae: 3.0495 - val_loss: 17.5053 - val_mae: 3.0108\n",
      "Epoch 11/500\n",
      "41/41 [==============================] - 0s 2ms/step - loss: 17.8074 - mae: 2.9011 - val_loss: 19.1987 - val_mae: 3.2129\n",
      "Epoch 12/500\n",
      "41/41 [==============================] - 0s 3ms/step - loss: 15.7704 - mae: 2.7239 - val_loss: 14.6054 - val_mae: 2.7165\n",
      "Epoch 13/500\n",
      "41/41 [==============================] - 0s 3ms/step - loss: 14.4601 - mae: 2.6064 - val_loss: 13.2385 - val_mae: 2.4510\n",
      "Epoch 14/500\n",
      "41/41 [==============================] - 0s 3ms/step - loss: 13.6444 - mae: 2.5717 - val_loss: 12.3741 - val_mae: 2.3456\n",
      "Epoch 15/500\n",
      "41/41 [==============================] - 0s 3ms/step - loss: 12.0055 - mae: 2.3894 - val_loss: 11.6764 - val_mae: 2.4207\n",
      "Epoch 16/500\n",
      "41/41 [==============================] - 0s 3ms/step - loss: 10.9975 - mae: 2.2684 - val_loss: 11.2534 - val_mae: 2.4096\n",
      "Epoch 17/500\n",
      "41/41 [==============================] - 0s 3ms/step - loss: 10.7694 - mae: 2.2794 - val_loss: 12.7268 - val_mae: 2.6529\n",
      "Epoch 18/500\n",
      "41/41 [==============================] - 0s 3ms/step - loss: 10.3160 - mae: 2.2331 - val_loss: 12.7518 - val_mae: 2.3527\n",
      "Epoch 19/500\n",
      "41/41 [==============================] - 0s 3ms/step - loss: 10.6128 - mae: 2.2594 - val_loss: 9.2761 - val_mae: 2.0748\n",
      "Epoch 20/500\n",
      "41/41 [==============================] - 0s 3ms/step - loss: 9.4991 - mae: 2.1233 - val_loss: 9.5476 - val_mae: 2.0623\n",
      "Epoch 21/500\n",
      "41/41 [==============================] - 0s 3ms/step - loss: 9.2601 - mae: 2.1145 - val_loss: 10.3492 - val_mae: 2.3309\n",
      "Epoch 22/500\n",
      "41/41 [==============================] - 0s 3ms/step - loss: 9.1992 - mae: 2.1473 - val_loss: 9.3966 - val_mae: 2.1540\n",
      "Epoch 23/500\n",
      "41/41 [==============================] - 0s 3ms/step - loss: 7.8808 - mae: 1.9886 - val_loss: 8.6285 - val_mae: 2.0941\n",
      "Epoch 24/500\n",
      "41/41 [==============================] - 0s 3ms/step - loss: 7.7989 - mae: 1.9675 - val_loss: 7.9181 - val_mae: 1.9599\n",
      "Epoch 25/500\n",
      "41/41 [==============================] - 0s 3ms/step - loss: 7.4613 - mae: 1.9367 - val_loss: 8.4425 - val_mae: 2.0649\n",
      "Epoch 26/500\n",
      "41/41 [==============================] - 0s 3ms/step - loss: 7.0845 - mae: 1.8897 - val_loss: 7.9339 - val_mae: 1.9794\n",
      "Epoch 27/500\n",
      "41/41 [==============================] - 0s 3ms/step - loss: 8.0240 - mae: 2.0149 - val_loss: 9.4533 - val_mae: 2.2136\n",
      "Epoch 28/500\n",
      "41/41 [==============================] - 0s 3ms/step - loss: 7.4509 - mae: 1.9358 - val_loss: 7.5702 - val_mae: 1.9032\n",
      "Epoch 29/500\n",
      "41/41 [==============================] - 0s 3ms/step - loss: 6.5846 - mae: 1.8238 - val_loss: 7.6307 - val_mae: 1.9195\n",
      "Epoch 30/500\n",
      "41/41 [==============================] - 0s 3ms/step - loss: 7.5067 - mae: 1.9475 - val_loss: 9.9161 - val_mae: 2.3516\n",
      "Epoch 31/500\n",
      "41/41 [==============================] - 0s 3ms/step - loss: 6.9835 - mae: 1.9058 - val_loss: 9.5503 - val_mae: 2.2249\n",
      "Epoch 32/500\n",
      "41/41 [==============================] - 0s 3ms/step - loss: 6.8741 - mae: 1.8620 - val_loss: 8.9408 - val_mae: 2.1243\n",
      "Epoch 33/500\n",
      "41/41 [==============================] - 0s 3ms/step - loss: 6.2015 - mae: 1.7574 - val_loss: 7.9432 - val_mae: 2.0018\n",
      "Epoch 34/500\n",
      "41/41 [==============================] - 0s 3ms/step - loss: 7.8654 - mae: 1.9848 - val_loss: 8.0516 - val_mae: 1.9535\n",
      "Epoch 35/500\n",
      "41/41 [==============================] - 0s 3ms/step - loss: 6.1219 - mae: 1.7466 - val_loss: 7.2065 - val_mae: 1.9103\n",
      "Epoch 36/500\n",
      "41/41 [==============================] - 0s 3ms/step - loss: 7.1228 - mae: 1.9009 - val_loss: 6.8550 - val_mae: 1.8147\n",
      "Epoch 37/500\n",
      "41/41 [==============================] - 0s 3ms/step - loss: 5.5533 - mae: 1.6291 - val_loss: 7.0964 - val_mae: 1.7817\n",
      "Epoch 38/500\n",
      "41/41 [==============================] - 0s 3ms/step - loss: 5.2687 - mae: 1.5473 - val_loss: 6.2847 - val_mae: 1.7826\n",
      "Epoch 39/500\n",
      "41/41 [==============================] - 0s 3ms/step - loss: 5.3456 - mae: 1.5493 - val_loss: 5.7370 - val_mae: 1.6656\n",
      "Epoch 40/500\n",
      "41/41 [==============================] - 0s 3ms/step - loss: 5.1408 - mae: 1.5535 - val_loss: 6.5983 - val_mae: 1.8696\n",
      "Epoch 41/500\n",
      "41/41 [==============================] - 0s 3ms/step - loss: 5.1852 - mae: 1.5195 - val_loss: 5.8327 - val_mae: 1.5856\n",
      "Epoch 42/500\n",
      "41/41 [==============================] - 0s 3ms/step - loss: 5.7187 - mae: 1.5714 - val_loss: 10.3972 - val_mae: 2.2313\n",
      "Epoch 43/500\n",
      "41/41 [==============================] - 0s 3ms/step - loss: 5.4428 - mae: 1.5901 - val_loss: 5.1781 - val_mae: 1.5316\n",
      "Epoch 44/500\n",
      "41/41 [==============================] - 0s 3ms/step - loss: 4.4358 - mae: 1.3613 - val_loss: 5.8027 - val_mae: 1.6101\n",
      "Epoch 45/500\n",
      "41/41 [==============================] - 0s 3ms/step - loss: 4.0472 - mae: 1.3394 - val_loss: 4.5768 - val_mae: 1.4019\n",
      "Epoch 46/500\n",
      "41/41 [==============================] - 0s 3ms/step - loss: 3.8422 - mae: 1.2710 - val_loss: 4.3281 - val_mae: 1.3830\n",
      "Epoch 47/500\n",
      "41/41 [==============================] - 0s 3ms/step - loss: 4.0438 - mae: 1.3237 - val_loss: 4.4979 - val_mae: 1.4022\n",
      "Epoch 48/500\n",
      "41/41 [==============================] - 0s 3ms/step - loss: 3.8332 - mae: 1.3051 - val_loss: 4.9548 - val_mae: 1.4881\n",
      "Epoch 49/500\n",
      "41/41 [==============================] - 0s 3ms/step - loss: 3.8147 - mae: 1.3244 - val_loss: 4.4463 - val_mae: 1.4315\n",
      "Epoch 50/500\n",
      "41/41 [==============================] - 0s 3ms/step - loss: 3.8858 - mae: 1.3140 - val_loss: 4.1823 - val_mae: 1.3303\n",
      "Epoch 51/500\n",
      "41/41 [==============================] - 0s 3ms/step - loss: 4.0604 - mae: 1.3643 - val_loss: 4.8886 - val_mae: 1.5641\n",
      "Epoch 52/500\n",
      "41/41 [==============================] - 0s 3ms/step - loss: 4.0570 - mae: 1.3914 - val_loss: 4.1983 - val_mae: 1.3105\n",
      "Epoch 53/500\n",
      "41/41 [==============================] - 0s 3ms/step - loss: 3.1883 - mae: 1.1781 - val_loss: 4.5070 - val_mae: 1.4991\n",
      "Epoch 54/500\n",
      "41/41 [==============================] - 0s 3ms/step - loss: 3.2283 - mae: 1.1771 - val_loss: 3.5364 - val_mae: 1.3270\n",
      "Epoch 55/500\n",
      "41/41 [==============================] - 0s 3ms/step - loss: 3.1403 - mae: 1.1816 - val_loss: 5.0223 - val_mae: 1.5662\n",
      "Epoch 56/500\n",
      "41/41 [==============================] - 0s 3ms/step - loss: 3.7273 - mae: 1.3254 - val_loss: 5.6089 - val_mae: 1.6660\n",
      "Epoch 57/500\n",
      "41/41 [==============================] - 0s 3ms/step - loss: 3.2300 - mae: 1.2061 - val_loss: 3.2648 - val_mae: 1.2577\n",
      "Epoch 58/500\n",
      "41/41 [==============================] - 0s 3ms/step - loss: 4.1206 - mae: 1.3973 - val_loss: 6.1047 - val_mae: 1.7970\n",
      "Epoch 59/500\n",
      "41/41 [==============================] - 0s 2ms/step - loss: 3.5126 - mae: 1.2581 - val_loss: 3.4614 - val_mae: 1.2131\n",
      "Epoch 60/500\n",
      "41/41 [==============================] - 0s 3ms/step - loss: 2.6285 - mae: 1.0541 - val_loss: 3.0403 - val_mae: 1.1512\n",
      "Epoch 61/500\n",
      "41/41 [==============================] - 0s 3ms/step - loss: 2.9015 - mae: 1.1529 - val_loss: 3.6499 - val_mae: 1.2297\n",
      "Epoch 62/500\n",
      "41/41 [==============================] - 0s 3ms/step - loss: 3.5467 - mae: 1.3241 - val_loss: 3.3150 - val_mae: 1.2191\n",
      "Epoch 63/500\n",
      "41/41 [==============================] - 0s 3ms/step - loss: 2.6795 - mae: 1.0853 - val_loss: 2.9547 - val_mae: 1.1231\n",
      "Epoch 64/500\n",
      "41/41 [==============================] - 0s 3ms/step - loss: 2.8778 - mae: 1.1685 - val_loss: 2.8476 - val_mae: 1.2090\n",
      "Epoch 65/500\n",
      "41/41 [==============================] - 0s 3ms/step - loss: 2.9588 - mae: 1.1968 - val_loss: 2.9013 - val_mae: 1.2111\n",
      "Epoch 66/500\n",
      "41/41 [==============================] - 0s 3ms/step - loss: 2.5943 - mae: 1.0992 - val_loss: 2.8359 - val_mae: 1.1314\n",
      "Epoch 67/500\n",
      "41/41 [==============================] - 0s 3ms/step - loss: 3.0313 - mae: 1.1975 - val_loss: 2.8528 - val_mae: 1.1560\n",
      "Epoch 68/500\n",
      "41/41 [==============================] - 0s 3ms/step - loss: 4.0754 - mae: 1.4117 - val_loss: 3.4869 - val_mae: 1.3239\n",
      "Epoch 69/500\n",
      "41/41 [==============================] - 0s 2ms/step - loss: 2.4489 - mae: 1.0550 - val_loss: 3.1268 - val_mae: 1.1592\n",
      "Epoch 70/500\n",
      "41/41 [==============================] - 0s 3ms/step - loss: 2.4771 - mae: 1.0764 - val_loss: 2.6775 - val_mae: 1.0666\n",
      "Epoch 71/500\n",
      "41/41 [==============================] - 0s 3ms/step - loss: 3.3729 - mae: 1.2983 - val_loss: 3.1544 - val_mae: 1.2058\n",
      "Epoch 72/500\n",
      "41/41 [==============================] - 0s 3ms/step - loss: 2.8722 - mae: 1.1721 - val_loss: 3.7301 - val_mae: 1.3031\n",
      "Epoch 73/500\n",
      "41/41 [==============================] - 0s 3ms/step - loss: 2.6682 - mae: 1.1222 - val_loss: 2.9617 - val_mae: 1.1747\n",
      "Epoch 74/500\n",
      "41/41 [==============================] - 0s 3ms/step - loss: 2.5697 - mae: 1.1046 - val_loss: 2.6835 - val_mae: 1.0707\n",
      "Epoch 75/500\n",
      "41/41 [==============================] - 0s 3ms/step - loss: 2.7560 - mae: 1.1341 - val_loss: 3.1737 - val_mae: 1.2705\n",
      "Epoch 76/500\n",
      "41/41 [==============================] - 0s 3ms/step - loss: 2.8046 - mae: 1.1500 - val_loss: 2.7344 - val_mae: 1.0571\n",
      "Epoch 77/500\n",
      "41/41 [==============================] - 0s 3ms/step - loss: 2.2150 - mae: 1.0117 - val_loss: 2.9349 - val_mae: 1.2307\n",
      "Epoch 78/500\n",
      "41/41 [==============================] - 0s 3ms/step - loss: 2.3337 - mae: 1.0321 - val_loss: 3.1644 - val_mae: 1.2335\n",
      "Epoch 79/500\n",
      "41/41 [==============================] - 0s 3ms/step - loss: 2.4685 - mae: 1.0796 - val_loss: 3.0413 - val_mae: 1.2314\n",
      "Epoch 80/500\n",
      "41/41 [==============================] - 0s 3ms/step - loss: 2.6412 - mae: 1.1060 - val_loss: 2.3719 - val_mae: 1.0264\n",
      "Epoch 81/500\n",
      "41/41 [==============================] - 0s 3ms/step - loss: 2.2745 - mae: 1.0189 - val_loss: 2.5825 - val_mae: 1.1453\n",
      "Epoch 82/500\n",
      "41/41 [==============================] - 0s 3ms/step - loss: 2.0688 - mae: 0.9740 - val_loss: 2.2627 - val_mae: 1.0210\n",
      "Epoch 83/500\n",
      "41/41 [==============================] - 0s 3ms/step - loss: 2.5672 - mae: 1.1059 - val_loss: 2.9140 - val_mae: 1.1982\n",
      "Epoch 84/500\n",
      "41/41 [==============================] - 0s 3ms/step - loss: 2.2095 - mae: 0.9949 - val_loss: 2.1716 - val_mae: 0.9735\n",
      "Epoch 85/500\n",
      "41/41 [==============================] - 0s 3ms/step - loss: 2.0001 - mae: 0.9579 - val_loss: 2.6086 - val_mae: 1.0934\n",
      "Epoch 86/500\n",
      "41/41 [==============================] - 0s 3ms/step - loss: 2.2479 - mae: 1.0173 - val_loss: 2.2840 - val_mae: 0.9589\n",
      "Epoch 87/500\n",
      "41/41 [==============================] - 0s 3ms/step - loss: 2.0371 - mae: 0.9524 - val_loss: 2.8124 - val_mae: 1.0795\n",
      "Epoch 88/500\n",
      "41/41 [==============================] - 0s 3ms/step - loss: 2.1049 - mae: 0.9946 - val_loss: 3.5507 - val_mae: 1.4841\n",
      "Epoch 89/500\n",
      "41/41 [==============================] - 0s 3ms/step - loss: 4.7869 - mae: 1.5669 - val_loss: 3.2060 - val_mae: 1.3041\n",
      "Epoch 90/500\n",
      "41/41 [==============================] - 0s 3ms/step - loss: 1.9667 - mae: 0.9656 - val_loss: 2.8017 - val_mae: 1.1876\n",
      "Epoch 91/500\n",
      "41/41 [==============================] - 0s 3ms/step - loss: 2.2429 - mae: 1.0411 - val_loss: 1.9031 - val_mae: 0.9340\n",
      "Epoch 92/500\n",
      "41/41 [==============================] - 0s 3ms/step - loss: 2.0140 - mae: 0.9608 - val_loss: 2.4196 - val_mae: 1.1220\n",
      "Epoch 93/500\n",
      "41/41 [==============================] - 0s 3ms/step - loss: 2.9852 - mae: 1.2187 - val_loss: 2.4361 - val_mae: 0.9716\n",
      "Epoch 94/500\n",
      "41/41 [==============================] - 0s 3ms/step - loss: 2.0343 - mae: 0.9731 - val_loss: 2.1726 - val_mae: 0.9671\n",
      "Epoch 95/500\n",
      "41/41 [==============================] - 0s 3ms/step - loss: 1.9191 - mae: 0.9388 - val_loss: 2.1904 - val_mae: 0.9519\n",
      "Epoch 96/500\n",
      "41/41 [==============================] - 0s 3ms/step - loss: 2.0383 - mae: 0.9685 - val_loss: 2.3710 - val_mae: 0.9987\n",
      "Epoch 97/500\n",
      "41/41 [==============================] - 0s 3ms/step - loss: 1.8777 - mae: 0.9289 - val_loss: 2.1917 - val_mae: 0.9684\n",
      "Epoch 98/500\n",
      "41/41 [==============================] - 0s 3ms/step - loss: 2.1323 - mae: 0.9966 - val_loss: 4.3633 - val_mae: 1.5305\n",
      "Epoch 99/500\n",
      "41/41 [==============================] - 0s 3ms/step - loss: 2.2726 - mae: 1.0262 - val_loss: 2.1137 - val_mae: 0.9649\n",
      "Epoch 100/500\n",
      "41/41 [==============================] - 0s 3ms/step - loss: 3.8872 - mae: 1.3704 - val_loss: 5.3031 - val_mae: 1.7163\n",
      "Epoch 101/500\n",
      "41/41 [==============================] - 0s 3ms/step - loss: 3.0708 - mae: 1.2410 - val_loss: 2.9169 - val_mae: 1.1595\n",
      "Epoch 102/500\n",
      "41/41 [==============================] - 0s 3ms/step - loss: 1.9203 - mae: 0.9517 - val_loss: 1.9652 - val_mae: 0.9138\n",
      "Epoch 103/500\n",
      "41/41 [==============================] - 0s 3ms/step - loss: 1.8390 - mae: 0.9144 - val_loss: 3.2057 - val_mae: 1.2449\n",
      "Epoch 104/500\n",
      "41/41 [==============================] - 0s 3ms/step - loss: 4.1369 - mae: 1.4111 - val_loss: 6.3212 - val_mae: 2.0416\n",
      "Epoch 105/500\n",
      "41/41 [==============================] - 0s 3ms/step - loss: 2.4861 - mae: 1.1190 - val_loss: 1.8979 - val_mae: 0.9065\n",
      "Epoch 106/500\n",
      "41/41 [==============================] - 0s 3ms/step - loss: 1.9883 - mae: 0.9570 - val_loss: 2.6678 - val_mae: 1.1677\n",
      "Epoch 107/500\n",
      "41/41 [==============================] - 0s 3ms/step - loss: 2.2294 - mae: 1.0296 - val_loss: 1.8573 - val_mae: 0.9538\n",
      "Epoch 108/500\n",
      "41/41 [==============================] - 0s 3ms/step - loss: 2.1338 - mae: 1.0385 - val_loss: 2.3879 - val_mae: 1.1500\n",
      "Epoch 109/500\n",
      "41/41 [==============================] - 0s 3ms/step - loss: 2.1338 - mae: 1.0018 - val_loss: 1.9008 - val_mae: 0.9478\n",
      "Epoch 110/500\n",
      "41/41 [==============================] - 0s 3ms/step - loss: 1.9788 - mae: 0.9869 - val_loss: 1.7242 - val_mae: 0.8888\n",
      "Epoch 111/500\n",
      "41/41 [==============================] - 0s 3ms/step - loss: 2.6861 - mae: 1.1372 - val_loss: 2.6395 - val_mae: 1.2067\n",
      "Epoch 112/500\n",
      "41/41 [==============================] - 0s 3ms/step - loss: 2.8095 - mae: 1.1681 - val_loss: 2.2966 - val_mae: 1.0526\n",
      "Epoch 113/500\n",
      "41/41 [==============================] - 0s 3ms/step - loss: 1.7219 - mae: 0.9188 - val_loss: 2.3829 - val_mae: 1.1075\n",
      "Epoch 114/500\n",
      "41/41 [==============================] - 0s 3ms/step - loss: 1.9296 - mae: 0.9692 - val_loss: 2.1053 - val_mae: 1.0139\n",
      "Epoch 115/500\n",
      "41/41 [==============================] - 0s 3ms/step - loss: 1.9485 - mae: 0.9642 - val_loss: 1.8232 - val_mae: 0.9613\n",
      "Epoch 116/500\n",
      "41/41 [==============================] - 0s 3ms/step - loss: 1.8201 - mae: 0.9282 - val_loss: 1.6663 - val_mae: 0.9137\n",
      "Epoch 117/500\n",
      "41/41 [==============================] - 0s 3ms/step - loss: 2.0986 - mae: 1.0201 - val_loss: 3.7925 - val_mae: 1.5476\n",
      "Epoch 118/500\n",
      "41/41 [==============================] - 0s 3ms/step - loss: 2.0220 - mae: 0.9668 - val_loss: 1.6441 - val_mae: 0.8540\n",
      "Epoch 119/500\n",
      "41/41 [==============================] - 0s 3ms/step - loss: 2.5097 - mae: 1.1318 - val_loss: 3.3240 - val_mae: 1.2147\n",
      "Epoch 120/500\n",
      "41/41 [==============================] - 0s 3ms/step - loss: 2.0012 - mae: 0.9926 - val_loss: 2.1952 - val_mae: 1.0040\n",
      "Epoch 121/500\n",
      "41/41 [==============================] - 0s 3ms/step - loss: 1.6357 - mae: 0.8718 - val_loss: 1.7618 - val_mae: 0.8691\n",
      "Epoch 122/500\n",
      "41/41 [==============================] - 0s 3ms/step - loss: 2.3380 - mae: 1.0620 - val_loss: 2.7044 - val_mae: 1.2408\n",
      "Epoch 123/500\n",
      "41/41 [==============================] - 0s 3ms/step - loss: 2.7307 - mae: 1.1579 - val_loss: 2.2096 - val_mae: 1.0010\n",
      "Epoch 124/500\n",
      "41/41 [==============================] - 0s 3ms/step - loss: 2.4807 - mae: 1.0891 - val_loss: 1.7503 - val_mae: 0.8740\n",
      "Epoch 125/500\n",
      "41/41 [==============================] - 0s 3ms/step - loss: 1.9549 - mae: 0.9676 - val_loss: 1.6109 - val_mae: 0.8276\n",
      "Epoch 126/500\n",
      "41/41 [==============================] - 0s 3ms/step - loss: 2.0468 - mae: 0.9596 - val_loss: 2.3233 - val_mae: 1.0346\n",
      "Epoch 127/500\n",
      "41/41 [==============================] - 0s 3ms/step - loss: 1.7040 - mae: 0.9047 - val_loss: 1.5722 - val_mae: 0.8143\n",
      "Epoch 128/500\n",
      "41/41 [==============================] - 0s 3ms/step - loss: 1.4055 - mae: 0.7996 - val_loss: 1.6140 - val_mae: 0.8934\n",
      "Epoch 129/500\n",
      "41/41 [==============================] - 0s 3ms/step - loss: 1.6081 - mae: 0.8697 - val_loss: 1.3439 - val_mae: 0.7726\n",
      "Epoch 130/500\n",
      "41/41 [==============================] - 0s 3ms/step - loss: 1.6669 - mae: 0.8791 - val_loss: 2.4784 - val_mae: 1.1764\n",
      "Epoch 131/500\n",
      "41/41 [==============================] - 0s 3ms/step - loss: 1.8857 - mae: 0.9377 - val_loss: 1.7828 - val_mae: 1.0064\n",
      "Epoch 132/500\n",
      "41/41 [==============================] - 0s 3ms/step - loss: 1.9228 - mae: 0.9555 - val_loss: 2.1955 - val_mae: 1.0301\n",
      "Epoch 133/500\n",
      "41/41 [==============================] - 0s 3ms/step - loss: 1.7509 - mae: 0.9188 - val_loss: 1.2988 - val_mae: 0.7507\n",
      "Epoch 134/500\n",
      "41/41 [==============================] - 0s 3ms/step - loss: 1.5197 - mae: 0.8404 - val_loss: 1.7062 - val_mae: 0.9490\n",
      "Epoch 135/500\n",
      "41/41 [==============================] - 0s 3ms/step - loss: 1.5632 - mae: 0.8708 - val_loss: 1.4883 - val_mae: 0.7827\n",
      "Epoch 136/500\n",
      "41/41 [==============================] - 0s 3ms/step - loss: 2.1060 - mae: 1.0438 - val_loss: 2.0964 - val_mae: 1.0895\n",
      "Epoch 137/500\n",
      "41/41 [==============================] - 0s 3ms/step - loss: 1.6393 - mae: 0.8986 - val_loss: 2.5240 - val_mae: 1.1733\n",
      "Epoch 138/500\n",
      "41/41 [==============================] - 0s 3ms/step - loss: 2.0045 - mae: 1.0001 - val_loss: 1.5028 - val_mae: 0.8471\n",
      "Epoch 139/500\n",
      "41/41 [==============================] - 0s 3ms/step - loss: 1.4420 - mae: 0.8252 - val_loss: 1.4562 - val_mae: 0.7816\n",
      "Epoch 140/500\n",
      "41/41 [==============================] - 0s 3ms/step - loss: 1.8396 - mae: 0.9290 - val_loss: 1.5138 - val_mae: 0.9289\n",
      "Epoch 141/500\n",
      "41/41 [==============================] - 0s 3ms/step - loss: 1.3355 - mae: 0.7872 - val_loss: 1.5707 - val_mae: 0.8231\n",
      "Epoch 142/500\n",
      "41/41 [==============================] - 0s 3ms/step - loss: 1.4970 - mae: 0.8594 - val_loss: 1.3993 - val_mae: 0.7797\n",
      "Epoch 143/500\n",
      "41/41 [==============================] - 0s 3ms/step - loss: 1.5251 - mae: 0.8539 - val_loss: 1.3475 - val_mae: 0.8451\n",
      "Epoch 144/500\n",
      "41/41 [==============================] - 0s 3ms/step - loss: 1.6075 - mae: 0.8976 - val_loss: 1.3793 - val_mae: 0.8566\n",
      "Epoch 145/500\n",
      "41/41 [==============================] - 0s 3ms/step - loss: 2.1653 - mae: 1.0434 - val_loss: 1.8060 - val_mae: 1.0384\n",
      "Epoch 146/500\n",
      "41/41 [==============================] - 0s 3ms/step - loss: 1.4928 - mae: 0.8653 - val_loss: 1.2805 - val_mae: 0.8143\n",
      "Epoch 147/500\n",
      "41/41 [==============================] - 0s 3ms/step - loss: 1.4517 - mae: 0.8419 - val_loss: 1.3775 - val_mae: 0.7938\n",
      "Epoch 148/500\n",
      "41/41 [==============================] - 0s 3ms/step - loss: 1.3558 - mae: 0.8040 - val_loss: 1.2621 - val_mae: 0.7898\n",
      "Epoch 149/500\n",
      "41/41 [==============================] - 0s 3ms/step - loss: 1.4615 - mae: 0.8246 - val_loss: 1.1041 - val_mae: 0.7249\n",
      "Epoch 150/500\n",
      "41/41 [==============================] - 0s 3ms/step - loss: 1.8462 - mae: 0.9308 - val_loss: 1.9201 - val_mae: 0.9505\n",
      "Epoch 151/500\n",
      "41/41 [==============================] - 0s 3ms/step - loss: 1.3886 - mae: 0.8047 - val_loss: 2.1874 - val_mae: 1.0763\n",
      "Epoch 152/500\n",
      "41/41 [==============================] - 0s 3ms/step - loss: 1.5996 - mae: 0.8708 - val_loss: 1.4125 - val_mae: 0.7812\n",
      "Epoch 153/500\n",
      "41/41 [==============================] - 0s 3ms/step - loss: 1.3762 - mae: 0.8055 - val_loss: 1.4330 - val_mae: 0.8195\n",
      "Epoch 154/500\n",
      "41/41 [==============================] - 0s 3ms/step - loss: 1.5789 - mae: 0.8723 - val_loss: 1.4554 - val_mae: 0.8007\n",
      "Epoch 155/500\n",
      "41/41 [==============================] - 0s 3ms/step - loss: 1.3387 - mae: 0.7979 - val_loss: 1.0682 - val_mae: 0.6855\n",
      "Epoch 156/500\n",
      "41/41 [==============================] - 0s 3ms/step - loss: 1.4492 - mae: 0.8136 - val_loss: 2.6581 - val_mae: 1.1384\n",
      "Epoch 157/500\n",
      "41/41 [==============================] - 0s 3ms/step - loss: 3.3998 - mae: 1.2898 - val_loss: 2.3209 - val_mae: 0.9863\n",
      "Epoch 158/500\n",
      "41/41 [==============================] - 0s 3ms/step - loss: 1.8490 - mae: 0.9282 - val_loss: 1.5382 - val_mae: 0.8502\n",
      "Epoch 159/500\n",
      "41/41 [==============================] - 0s 3ms/step - loss: 1.4305 - mae: 0.8321 - val_loss: 1.5687 - val_mae: 0.8124\n",
      "Epoch 160/500\n",
      "41/41 [==============================] - 0s 3ms/step - loss: 1.1087 - mae: 0.7079 - val_loss: 1.1330 - val_mae: 0.6779\n",
      "Epoch 161/500\n",
      "41/41 [==============================] - 0s 3ms/step - loss: 1.0503 - mae: 0.6964 - val_loss: 1.3078 - val_mae: 0.8364\n",
      "Epoch 162/500\n",
      "41/41 [==============================] - 0s 3ms/step - loss: 1.2407 - mae: 0.7762 - val_loss: 1.0940 - val_mae: 0.7350\n",
      "Epoch 163/500\n",
      "41/41 [==============================] - 0s 3ms/step - loss: 0.9468 - mae: 0.6685 - val_loss: 1.6807 - val_mae: 0.9211\n",
      "Epoch 164/500\n",
      "41/41 [==============================] - 0s 3ms/step - loss: 1.0008 - mae: 0.6906 - val_loss: 1.0816 - val_mae: 0.6937\n",
      "Epoch 165/500\n",
      "41/41 [==============================] - 0s 3ms/step - loss: 1.0365 - mae: 0.7070 - val_loss: 1.1854 - val_mae: 0.7364\n",
      "Epoch 166/500\n",
      "41/41 [==============================] - 0s 3ms/step - loss: 1.0277 - mae: 0.7128 - val_loss: 1.1075 - val_mae: 0.6826\n",
      "Epoch 167/500\n",
      "41/41 [==============================] - 0s 3ms/step - loss: 1.3073 - mae: 0.8166 - val_loss: 1.0395 - val_mae: 0.7354\n",
      "Epoch 168/500\n",
      "41/41 [==============================] - 0s 3ms/step - loss: 1.4431 - mae: 0.8440 - val_loss: 2.5016 - val_mae: 1.3036\n",
      "Epoch 169/500\n",
      "41/41 [==============================] - 0s 3ms/step - loss: 1.1573 - mae: 0.7602 - val_loss: 1.4153 - val_mae: 0.7972\n",
      "Epoch 170/500\n",
      "41/41 [==============================] - 0s 3ms/step - loss: 1.1542 - mae: 0.7634 - val_loss: 1.1665 - val_mae: 0.7108\n",
      "Epoch 171/500\n",
      "41/41 [==============================] - 0s 3ms/step - loss: 0.8988 - mae: 0.6702 - val_loss: 1.0110 - val_mae: 0.7223\n",
      "Epoch 172/500\n",
      "41/41 [==============================] - 0s 3ms/step - loss: 1.3231 - mae: 0.8073 - val_loss: 1.3592 - val_mae: 0.7957\n",
      "Epoch 173/500\n",
      "41/41 [==============================] - 0s 3ms/step - loss: 1.1011 - mae: 0.7458 - val_loss: 1.6284 - val_mae: 0.8806\n",
      "Epoch 174/500\n",
      "41/41 [==============================] - 0s 3ms/step - loss: 0.9179 - mae: 0.6762 - val_loss: 0.9848 - val_mae: 0.6628\n",
      "Epoch 175/500\n",
      "41/41 [==============================] - 0s 3ms/step - loss: 0.9118 - mae: 0.6665 - val_loss: 0.9076 - val_mae: 0.6797\n",
      "Epoch 176/500\n",
      "41/41 [==============================] - 0s 3ms/step - loss: 0.8723 - mae: 0.6527 - val_loss: 0.9426 - val_mae: 0.6828\n",
      "Epoch 177/500\n",
      "41/41 [==============================] - 0s 3ms/step - loss: 1.0193 - mae: 0.7431 - val_loss: 0.9098 - val_mae: 0.6392\n",
      "Epoch 178/500\n",
      "41/41 [==============================] - 0s 3ms/step - loss: 0.9203 - mae: 0.6651 - val_loss: 1.2054 - val_mae: 0.7401\n",
      "Epoch 179/500\n",
      "41/41 [==============================] - 0s 3ms/step - loss: 0.8160 - mae: 0.6400 - val_loss: 1.0310 - val_mae: 0.7245\n",
      "Epoch 180/500\n",
      "41/41 [==============================] - 0s 3ms/step - loss: 0.8094 - mae: 0.6425 - val_loss: 0.9339 - val_mae: 0.6773\n",
      "Epoch 181/500\n",
      "41/41 [==============================] - 0s 3ms/step - loss: 1.0824 - mae: 0.7310 - val_loss: 1.4661 - val_mae: 0.9804\n",
      "Epoch 182/500\n",
      "41/41 [==============================] - 0s 3ms/step - loss: 1.4575 - mae: 0.8556 - val_loss: 1.0388 - val_mae: 0.7490\n",
      "Epoch 183/500\n",
      "41/41 [==============================] - 0s 3ms/step - loss: 0.9550 - mae: 0.7090 - val_loss: 1.0195 - val_mae: 0.6900\n",
      "Epoch 184/500\n",
      "41/41 [==============================] - 0s 3ms/step - loss: 0.7761 - mae: 0.6197 - val_loss: 0.8754 - val_mae: 0.6238\n",
      "Epoch 185/500\n",
      "41/41 [==============================] - 0s 3ms/step - loss: 0.8862 - mae: 0.6647 - val_loss: 1.2342 - val_mae: 0.7588\n",
      "Epoch 186/500\n",
      "41/41 [==============================] - 0s 3ms/step - loss: 0.7455 - mae: 0.6177 - val_loss: 0.8589 - val_mae: 0.6482\n",
      "Epoch 187/500\n",
      "41/41 [==============================] - 0s 3ms/step - loss: 1.2970 - mae: 0.7993 - val_loss: 1.1304 - val_mae: 0.7777\n",
      "Epoch 188/500\n",
      "41/41 [==============================] - 0s 3ms/step - loss: 0.9814 - mae: 0.6902 - val_loss: 0.7976 - val_mae: 0.6071\n",
      "Epoch 189/500\n",
      "41/41 [==============================] - 0s 3ms/step - loss: 0.6106 - mae: 0.5498 - val_loss: 0.7992 - val_mae: 0.5829\n",
      "Epoch 190/500\n",
      "41/41 [==============================] - 0s 3ms/step - loss: 0.8061 - mae: 0.6335 - val_loss: 0.8075 - val_mae: 0.6313\n",
      "Epoch 191/500\n",
      "41/41 [==============================] - 0s 3ms/step - loss: 0.6323 - mae: 0.5622 - val_loss: 0.7673 - val_mae: 0.5786\n",
      "Epoch 192/500\n",
      "41/41 [==============================] - 0s 3ms/step - loss: 0.7562 - mae: 0.6159 - val_loss: 0.7550 - val_mae: 0.5938\n",
      "Epoch 193/500\n",
      "41/41 [==============================] - 0s 3ms/step - loss: 1.3855 - mae: 0.8081 - val_loss: 3.0313 - val_mae: 1.2562\n",
      "Epoch 194/500\n",
      "41/41 [==============================] - 0s 3ms/step - loss: 1.5924 - mae: 0.8849 - val_loss: 1.2356 - val_mae: 0.7548\n",
      "Epoch 195/500\n",
      "41/41 [==============================] - 0s 3ms/step - loss: 0.7977 - mae: 0.6398 - val_loss: 0.7494 - val_mae: 0.6231\n",
      "Epoch 196/500\n",
      "41/41 [==============================] - 0s 3ms/step - loss: 0.7030 - mae: 0.5917 - val_loss: 0.7363 - val_mae: 0.5965\n",
      "Epoch 197/500\n",
      "41/41 [==============================] - 0s 3ms/step - loss: 0.6687 - mae: 0.5756 - val_loss: 0.8501 - val_mae: 0.6656\n",
      "Epoch 198/500\n",
      "41/41 [==============================] - 0s 3ms/step - loss: 0.6146 - mae: 0.5414 - val_loss: 0.7401 - val_mae: 0.5953\n",
      "Epoch 199/500\n",
      "41/41 [==============================] - 0s 3ms/step - loss: 0.8354 - mae: 0.6366 - val_loss: 0.8147 - val_mae: 0.6876\n",
      "Epoch 200/500\n",
      "41/41 [==============================] - 0s 3ms/step - loss: 0.5639 - mae: 0.5111 - val_loss: 0.7755 - val_mae: 0.6169\n",
      "Epoch 201/500\n",
      "41/41 [==============================] - 0s 3ms/step - loss: 0.7438 - mae: 0.6103 - val_loss: 0.7490 - val_mae: 0.5985\n",
      "Epoch 202/500\n",
      "41/41 [==============================] - 0s 3ms/step - loss: 0.9175 - mae: 0.6840 - val_loss: 1.4920 - val_mae: 0.9113\n",
      "Epoch 203/500\n",
      "41/41 [==============================] - 0s 3ms/step - loss: 1.3488 - mae: 0.8227 - val_loss: 0.7175 - val_mae: 0.5872\n",
      "Epoch 204/500\n",
      "41/41 [==============================] - 0s 3ms/step - loss: 2.8844 - mae: 1.1451 - val_loss: 1.1881 - val_mae: 0.8201\n",
      "Epoch 205/500\n",
      "41/41 [==============================] - 0s 3ms/step - loss: 1.0092 - mae: 0.7148 - val_loss: 1.0366 - val_mae: 0.6638\n",
      "Epoch 206/500\n",
      "41/41 [==============================] - 0s 3ms/step - loss: 0.6397 - mae: 0.5421 - val_loss: 0.8391 - val_mae: 0.5754\n",
      "Epoch 207/500\n",
      "41/41 [==============================] - 0s 3ms/step - loss: 0.5177 - mae: 0.4807 - val_loss: 0.7804 - val_mae: 0.5866\n",
      "Epoch 208/500\n",
      "41/41 [==============================] - 0s 3ms/step - loss: 0.5920 - mae: 0.5104 - val_loss: 0.9954 - val_mae: 0.6864\n",
      "Epoch 209/500\n",
      "41/41 [==============================] - 0s 3ms/step - loss: 0.6740 - mae: 0.5598 - val_loss: 0.8110 - val_mae: 0.6024\n",
      "Epoch 210/500\n",
      "41/41 [==============================] - 0s 3ms/step - loss: 0.5447 - mae: 0.5085 - val_loss: 0.8485 - val_mae: 0.6131\n",
      "Epoch 211/500\n",
      "41/41 [==============================] - 0s 3ms/step - loss: 0.6465 - mae: 0.5471 - val_loss: 0.7115 - val_mae: 0.5492\n",
      "Epoch 212/500\n",
      "41/41 [==============================] - 0s 3ms/step - loss: 0.5571 - mae: 0.5094 - val_loss: 0.5453 - val_mae: 0.4829\n",
      "Epoch 213/500\n",
      "41/41 [==============================] - 0s 3ms/step - loss: 0.5501 - mae: 0.5059 - val_loss: 0.6969 - val_mae: 0.5852\n",
      "Epoch 214/500\n",
      "41/41 [==============================] - 0s 3ms/step - loss: 0.4986 - mae: 0.4788 - val_loss: 0.5377 - val_mae: 0.4922\n",
      "Epoch 215/500\n",
      "41/41 [==============================] - 0s 3ms/step - loss: 0.5764 - mae: 0.5038 - val_loss: 2.0576 - val_mae: 1.0645\n",
      "Epoch 216/500\n",
      "41/41 [==============================] - 0s 3ms/step - loss: 1.8444 - mae: 0.9683 - val_loss: 0.6705 - val_mae: 0.5306\n",
      "Epoch 217/500\n",
      "41/41 [==============================] - 0s 3ms/step - loss: 0.9213 - mae: 0.6756 - val_loss: 1.1143 - val_mae: 0.8029\n",
      "Epoch 218/500\n",
      "41/41 [==============================] - 0s 3ms/step - loss: 0.6155 - mae: 0.5392 - val_loss: 0.5501 - val_mae: 0.4735\n",
      "Epoch 219/500\n",
      "41/41 [==============================] - 0s 3ms/step - loss: 0.5074 - mae: 0.4868 - val_loss: 0.6845 - val_mae: 0.6047\n",
      "Epoch 220/500\n",
      "41/41 [==============================] - 0s 3ms/step - loss: 0.4395 - mae: 0.4387 - val_loss: 0.6535 - val_mae: 0.5529\n",
      "Epoch 221/500\n",
      "41/41 [==============================] - 0s 3ms/step - loss: 0.4269 - mae: 0.4417 - val_loss: 0.6309 - val_mae: 0.5051\n",
      "Epoch 222/500\n",
      "41/41 [==============================] - 0s 3ms/step - loss: 0.4634 - mae: 0.4638 - val_loss: 0.6011 - val_mae: 0.5167\n",
      "Epoch 223/500\n",
      "41/41 [==============================] - 0s 3ms/step - loss: 1.0775 - mae: 0.7257 - val_loss: 0.6694 - val_mae: 0.5752\n",
      "Epoch 224/500\n",
      "41/41 [==============================] - 0s 3ms/step - loss: 1.2594 - mae: 0.7404 - val_loss: 2.5627 - val_mae: 1.1471\n",
      "Epoch 225/500\n",
      "41/41 [==============================] - 0s 3ms/step - loss: 1.0472 - mae: 0.6980 - val_loss: 0.6201 - val_mae: 0.4945\n",
      "Epoch 226/500\n",
      "41/41 [==============================] - 0s 3ms/step - loss: 0.4584 - mae: 0.4649 - val_loss: 0.6771 - val_mae: 0.5417\n",
      "Epoch 227/500\n",
      "41/41 [==============================] - 0s 3ms/step - loss: 0.9233 - mae: 0.6611 - val_loss: 0.9484 - val_mae: 0.6724\n",
      "Epoch 228/500\n",
      "41/41 [==============================] - 0s 3ms/step - loss: 1.5881 - mae: 0.8998 - val_loss: 0.9944 - val_mae: 0.7453\n",
      "Epoch 229/500\n",
      "41/41 [==============================] - 0s 3ms/step - loss: 1.0205 - mae: 0.7390 - val_loss: 0.6261 - val_mae: 0.5672\n",
      "Epoch 230/500\n",
      "41/41 [==============================] - 0s 3ms/step - loss: 0.8610 - mae: 0.6520 - val_loss: 0.7972 - val_mae: 0.6718\n",
      "Epoch 231/500\n",
      "41/41 [==============================] - 0s 3ms/step - loss: 0.5362 - mae: 0.4878 - val_loss: 0.5803 - val_mae: 0.4980\n",
      "Epoch 232/500\n",
      "41/41 [==============================] - 0s 3ms/step - loss: 0.5046 - mae: 0.4748 - val_loss: 0.5344 - val_mae: 0.4898\n",
      "Epoch 233/500\n",
      "41/41 [==============================] - 0s 3ms/step - loss: 0.3720 - mae: 0.4061 - val_loss: 0.5031 - val_mae: 0.4565\n",
      "Epoch 234/500\n",
      "41/41 [==============================] - 0s 3ms/step - loss: 0.5114 - mae: 0.4963 - val_loss: 0.4582 - val_mae: 0.4433\n",
      "Epoch 235/500\n",
      "41/41 [==============================] - 0s 3ms/step - loss: 0.4036 - mae: 0.4167 - val_loss: 0.5280 - val_mae: 0.4498\n",
      "Epoch 236/500\n",
      "41/41 [==============================] - 0s 3ms/step - loss: 0.4082 - mae: 0.4243 - val_loss: 0.6489 - val_mae: 0.5545\n",
      "Epoch 237/500\n",
      "41/41 [==============================] - 0s 3ms/step - loss: 0.4886 - mae: 0.4930 - val_loss: 0.7285 - val_mae: 0.5927\n",
      "Epoch 238/500\n",
      "41/41 [==============================] - 0s 3ms/step - loss: 0.6135 - mae: 0.5333 - val_loss: 0.5448 - val_mae: 0.4774\n",
      "Epoch 239/500\n",
      "41/41 [==============================] - 0s 3ms/step - loss: 0.5053 - mae: 0.4888 - val_loss: 0.4406 - val_mae: 0.4500\n",
      "Epoch 240/500\n",
      "41/41 [==============================] - 0s 3ms/step - loss: 0.4090 - mae: 0.4318 - val_loss: 0.4439 - val_mae: 0.4513\n",
      "Epoch 241/500\n",
      "41/41 [==============================] - 0s 3ms/step - loss: 0.4859 - mae: 0.4800 - val_loss: 1.7702 - val_mae: 0.9834\n",
      "Epoch 242/500\n",
      "41/41 [==============================] - 0s 3ms/step - loss: 0.5452 - mae: 0.5246 - val_loss: 0.4766 - val_mae: 0.4763\n",
      "Epoch 243/500\n",
      "41/41 [==============================] - 0s 3ms/step - loss: 0.3702 - mae: 0.4064 - val_loss: 0.4567 - val_mae: 0.4268\n",
      "Epoch 244/500\n",
      "41/41 [==============================] - 0s 3ms/step - loss: 0.6167 - mae: 0.5366 - val_loss: 1.4497 - val_mae: 0.8947\n",
      "Epoch 245/500\n",
      "41/41 [==============================] - 0s 3ms/step - loss: 0.8355 - mae: 0.6398 - val_loss: 0.5589 - val_mae: 0.5058\n",
      "Epoch 246/500\n",
      "41/41 [==============================] - 0s 3ms/step - loss: 0.3817 - mae: 0.4300 - val_loss: 0.3929 - val_mae: 0.4090\n",
      "Epoch 247/500\n",
      "41/41 [==============================] - 0s 3ms/step - loss: 0.4932 - mae: 0.4826 - val_loss: 0.6435 - val_mae: 0.5700\n",
      "Epoch 248/500\n",
      "41/41 [==============================] - 0s 3ms/step - loss: 0.5360 - mae: 0.5138 - val_loss: 0.3848 - val_mae: 0.4129\n",
      "Epoch 249/500\n",
      "41/41 [==============================] - 0s 3ms/step - loss: 0.3920 - mae: 0.4305 - val_loss: 0.4836 - val_mae: 0.4483\n",
      "Epoch 250/500\n",
      "41/41 [==============================] - 0s 3ms/step - loss: 0.4875 - mae: 0.4886 - val_loss: 0.6309 - val_mae: 0.6038\n",
      "Epoch 251/500\n",
      "41/41 [==============================] - 0s 3ms/step - loss: 0.5796 - mae: 0.5270 - val_loss: 1.4115 - val_mae: 0.8592\n",
      "Epoch 252/500\n",
      "41/41 [==============================] - 0s 3ms/step - loss: 0.8053 - mae: 0.6334 - val_loss: 0.4909 - val_mae: 0.4632\n",
      "Epoch 253/500\n",
      "41/41 [==============================] - 0s 3ms/step - loss: 0.4003 - mae: 0.4470 - val_loss: 0.5490 - val_mae: 0.5407\n",
      "Epoch 254/500\n",
      "41/41 [==============================] - 0s 3ms/step - loss: 0.4022 - mae: 0.4408 - val_loss: 0.8797 - val_mae: 0.6995\n",
      "Epoch 255/500\n",
      "41/41 [==============================] - 0s 3ms/step - loss: 0.6001 - mae: 0.5494 - val_loss: 1.0060 - val_mae: 0.7338\n",
      "Epoch 256/500\n",
      "41/41 [==============================] - 0s 3ms/step - loss: 0.5349 - mae: 0.5188 - val_loss: 0.9813 - val_mae: 0.7954\n",
      "Epoch 257/500\n",
      "41/41 [==============================] - 0s 3ms/step - loss: 0.4489 - mae: 0.4657 - val_loss: 0.4325 - val_mae: 0.4615\n",
      "Epoch 258/500\n",
      "41/41 [==============================] - 0s 3ms/step - loss: 0.4000 - mae: 0.4465 - val_loss: 0.3978 - val_mae: 0.4366\n",
      "Epoch 259/500\n",
      "41/41 [==============================] - 0s 3ms/step - loss: 0.6258 - mae: 0.5603 - val_loss: 0.4083 - val_mae: 0.4557\n",
      "Epoch 260/500\n",
      "41/41 [==============================] - 0s 3ms/step - loss: 0.4833 - mae: 0.4917 - val_loss: 0.4507 - val_mae: 0.4667\n",
      "Epoch 261/500\n",
      "41/41 [==============================] - 0s 3ms/step - loss: 0.4279 - mae: 0.4623 - val_loss: 0.4312 - val_mae: 0.4430\n",
      "Epoch 262/500\n",
      "41/41 [==============================] - 0s 3ms/step - loss: 0.3451 - mae: 0.4093 - val_loss: 0.4628 - val_mae: 0.4524\n",
      "Epoch 263/500\n",
      "41/41 [==============================] - 0s 3ms/step - loss: 0.4819 - mae: 0.4852 - val_loss: 0.5675 - val_mae: 0.5203\n",
      "Epoch 264/500\n",
      "41/41 [==============================] - 0s 3ms/step - loss: 0.4355 - mae: 0.4724 - val_loss: 0.4114 - val_mae: 0.4317\n",
      "Epoch 265/500\n",
      "41/41 [==============================] - 0s 3ms/step - loss: 0.5787 - mae: 0.5326 - val_loss: 1.3161 - val_mae: 0.9237\n",
      "Epoch 266/500\n",
      "41/41 [==============================] - 0s 3ms/step - loss: 0.7595 - mae: 0.6380 - val_loss: 0.9779 - val_mae: 0.7184\n",
      "Epoch 267/500\n",
      "41/41 [==============================] - 0s 3ms/step - loss: 0.6502 - mae: 0.5606 - val_loss: 0.3666 - val_mae: 0.4501\n",
      "Epoch 268/500\n",
      "41/41 [==============================] - 0s 3ms/step - loss: 0.3897 - mae: 0.4397 - val_loss: 0.3956 - val_mae: 0.4133\n",
      "Epoch 269/500\n",
      "41/41 [==============================] - 0s 3ms/step - loss: 0.4272 - mae: 0.4524 - val_loss: 0.4769 - val_mae: 0.4983\n",
      "Epoch 270/500\n",
      "41/41 [==============================] - 0s 3ms/step - loss: 0.7041 - mae: 0.5934 - val_loss: 0.4705 - val_mae: 0.5007\n",
      "Epoch 271/500\n",
      "41/41 [==============================] - 0s 3ms/step - loss: 1.1091 - mae: 0.7256 - val_loss: 1.7211 - val_mae: 1.0216\n",
      "Epoch 272/500\n",
      "41/41 [==============================] - 0s 3ms/step - loss: 0.9741 - mae: 0.7436 - val_loss: 0.5107 - val_mae: 0.5367\n",
      "Epoch 273/500\n",
      "41/41 [==============================] - 0s 3ms/step - loss: 0.4375 - mae: 0.4671 - val_loss: 0.7415 - val_mae: 0.6815\n",
      "Epoch 274/500\n",
      "41/41 [==============================] - 0s 3ms/step - loss: 0.4981 - mae: 0.4896 - val_loss: 0.4269 - val_mae: 0.4435\n",
      "Epoch 275/500\n",
      "41/41 [==============================] - 0s 2ms/step - loss: 0.3695 - mae: 0.4253 - val_loss: 0.7086 - val_mae: 0.5989\n",
      "Epoch 276/500\n",
      "41/41 [==============================] - 0s 3ms/step - loss: 0.7170 - mae: 0.6067 - val_loss: 0.6718 - val_mae: 0.5753\n",
      "Epoch 277/500\n",
      "41/41 [==============================] - 0s 3ms/step - loss: 2.4350 - mae: 1.1032 - val_loss: 1.3404 - val_mae: 0.9616\n",
      "Epoch 278/500\n",
      "41/41 [==============================] - 0s 3ms/step - loss: 0.8928 - mae: 0.6589 - val_loss: 0.4875 - val_mae: 0.4646\n",
      "Epoch 279/500\n",
      "41/41 [==============================] - 0s 3ms/step - loss: 0.3692 - mae: 0.4201 - val_loss: 0.3980 - val_mae: 0.4151\n",
      "Epoch 280/500\n",
      "41/41 [==============================] - 0s 3ms/step - loss: 0.4166 - mae: 0.4441 - val_loss: 0.4798 - val_mae: 0.4742\n",
      "Epoch 281/500\n",
      "41/41 [==============================] - 0s 3ms/step - loss: 1.1447 - mae: 0.7464 - val_loss: 0.6763 - val_mae: 0.5642\n",
      "Epoch 282/500\n",
      "41/41 [==============================] - 0s 3ms/step - loss: 0.3762 - mae: 0.4306 - val_loss: 0.5048 - val_mae: 0.4854\n",
      "Epoch 283/500\n",
      "41/41 [==============================] - 0s 3ms/step - loss: 0.5031 - mae: 0.5063 - val_loss: 0.3529 - val_mae: 0.4036\n",
      "Epoch 284/500\n",
      "41/41 [==============================] - 0s 3ms/step - loss: 0.3313 - mae: 0.4054 - val_loss: 0.4972 - val_mae: 0.5005\n",
      "Epoch 285/500\n",
      "41/41 [==============================] - 0s 3ms/step - loss: 0.3450 - mae: 0.4123 - val_loss: 0.3661 - val_mae: 0.3993\n",
      "Epoch 286/500\n",
      "41/41 [==============================] - 0s 3ms/step - loss: 0.3800 - mae: 0.4345 - val_loss: 0.5336 - val_mae: 0.5218\n",
      "Epoch 287/500\n",
      "41/41 [==============================] - 0s 3ms/step - loss: 0.3290 - mae: 0.3944 - val_loss: 0.3348 - val_mae: 0.3892\n",
      "Epoch 288/500\n",
      "41/41 [==============================] - 0s 3ms/step - loss: 0.5776 - mae: 0.5051 - val_loss: 0.6798 - val_mae: 0.5901\n",
      "Epoch 289/500\n",
      "41/41 [==============================] - 0s 3ms/step - loss: 0.9499 - mae: 0.6843 - val_loss: 0.7383 - val_mae: 0.6301\n",
      "Epoch 290/500\n",
      "41/41 [==============================] - 0s 3ms/step - loss: 0.3855 - mae: 0.4289 - val_loss: 0.3994 - val_mae: 0.4382\n",
      "Epoch 291/500\n",
      "41/41 [==============================] - 0s 3ms/step - loss: 0.3133 - mae: 0.3908 - val_loss: 0.6697 - val_mae: 0.6128\n",
      "Epoch 292/500\n",
      "41/41 [==============================] - 0s 3ms/step - loss: 0.7372 - mae: 0.6196 - val_loss: 0.4791 - val_mae: 0.5206\n",
      "Epoch 293/500\n",
      "41/41 [==============================] - 0s 3ms/step - loss: 0.4354 - mae: 0.4681 - val_loss: 0.5571 - val_mae: 0.5004\n",
      "Epoch 294/500\n",
      "41/41 [==============================] - 0s 3ms/step - loss: 0.3181 - mae: 0.3916 - val_loss: 0.3285 - val_mae: 0.4082\n",
      "Epoch 295/500\n",
      "41/41 [==============================] - 0s 3ms/step - loss: 0.3281 - mae: 0.4000 - val_loss: 0.5760 - val_mae: 0.5402\n",
      "Epoch 296/500\n",
      "41/41 [==============================] - 0s 2ms/step - loss: 0.4029 - mae: 0.4498 - val_loss: 0.9444 - val_mae: 0.8086\n",
      "Epoch 297/500\n",
      "41/41 [==============================] - 0s 3ms/step - loss: 0.7991 - mae: 0.6479 - val_loss: 0.3924 - val_mae: 0.4511\n",
      "Epoch 298/500\n",
      "41/41 [==============================] - 0s 3ms/step - loss: 0.3744 - mae: 0.4520 - val_loss: 0.3334 - val_mae: 0.3999\n",
      "Epoch 299/500\n",
      "41/41 [==============================] - 0s 3ms/step - loss: 0.4294 - mae: 0.4523 - val_loss: 0.4793 - val_mae: 0.4599\n",
      "Epoch 300/500\n",
      "41/41 [==============================] - 0s 3ms/step - loss: 0.8698 - mae: 0.6724 - val_loss: 0.4043 - val_mae: 0.4598\n",
      "Epoch 301/500\n",
      "41/41 [==============================] - 0s 3ms/step - loss: 0.4486 - mae: 0.4837 - val_loss: 0.5018 - val_mae: 0.5479\n",
      "Epoch 302/500\n",
      "41/41 [==============================] - 0s 3ms/step - loss: 0.3327 - mae: 0.4135 - val_loss: 0.4144 - val_mae: 0.4341\n",
      "Epoch 303/500\n",
      "41/41 [==============================] - 0s 3ms/step - loss: 0.4166 - mae: 0.4472 - val_loss: 0.3531 - val_mae: 0.4230\n",
      "Epoch 304/500\n",
      "41/41 [==============================] - 0s 3ms/step - loss: 0.5566 - mae: 0.5304 - val_loss: 0.4801 - val_mae: 0.4906\n",
      "Epoch 305/500\n",
      "41/41 [==============================] - 0s 3ms/step - loss: 0.3203 - mae: 0.4023 - val_loss: 0.6135 - val_mae: 0.5792\n",
      "Epoch 306/500\n",
      "41/41 [==============================] - 0s 3ms/step - loss: 0.4966 - mae: 0.5165 - val_loss: 0.4033 - val_mae: 0.4615\n",
      "Epoch 307/500\n",
      "41/41 [==============================] - 0s 3ms/step - loss: 0.3070 - mae: 0.3951 - val_loss: 0.4228 - val_mae: 0.4508\n",
      "Epoch 308/500\n",
      "41/41 [==============================] - 0s 3ms/step - loss: 0.4886 - mae: 0.5042 - val_loss: 0.3096 - val_mae: 0.3732\n",
      "Epoch 309/500\n",
      "41/41 [==============================] - 0s 3ms/step - loss: 0.4499 - mae: 0.4781 - val_loss: 0.3657 - val_mae: 0.4384\n",
      "Epoch 310/500\n",
      "41/41 [==============================] - 0s 3ms/step - loss: 0.3768 - mae: 0.4357 - val_loss: 0.3347 - val_mae: 0.3958\n",
      "Epoch 311/500\n",
      "41/41 [==============================] - 0s 3ms/step - loss: 0.3742 - mae: 0.4411 - val_loss: 0.5660 - val_mae: 0.5618\n",
      "Epoch 312/500\n",
      "41/41 [==============================] - 0s 3ms/step - loss: 0.3801 - mae: 0.4492 - val_loss: 0.4252 - val_mae: 0.4743\n",
      "Epoch 313/500\n",
      "41/41 [==============================] - 0s 3ms/step - loss: 0.4216 - mae: 0.4722 - val_loss: 0.7953 - val_mae: 0.6475\n",
      "Epoch 314/500\n",
      "41/41 [==============================] - 0s 3ms/step - loss: 0.5105 - mae: 0.5095 - val_loss: 0.8996 - val_mae: 0.6715\n",
      "Epoch 315/500\n",
      "41/41 [==============================] - 0s 3ms/step - loss: 0.3619 - mae: 0.4420 - val_loss: 0.3645 - val_mae: 0.4255\n",
      "Epoch 316/500\n",
      "41/41 [==============================] - 0s 3ms/step - loss: 0.6023 - mae: 0.5602 - val_loss: 0.6083 - val_mae: 0.5481\n",
      "Epoch 317/500\n",
      "41/41 [==============================] - 0s 3ms/step - loss: 0.3848 - mae: 0.4402 - val_loss: 0.9413 - val_mae: 0.7091\n",
      "Epoch 318/500\n",
      "41/41 [==============================] - 0s 3ms/step - loss: 0.5759 - mae: 0.5524 - val_loss: 0.5592 - val_mae: 0.4952\n",
      "Epoch 319/500\n",
      "41/41 [==============================] - 0s 3ms/step - loss: 0.8037 - mae: 0.6397 - val_loss: 0.8290 - val_mae: 0.6757\n",
      "Epoch 320/500\n",
      "41/41 [==============================] - 0s 3ms/step - loss: 0.3391 - mae: 0.4173 - val_loss: 0.4328 - val_mae: 0.4810\n",
      "Epoch 321/500\n",
      "41/41 [==============================] - 0s 3ms/step - loss: 0.5584 - mae: 0.5468 - val_loss: 0.3909 - val_mae: 0.4485\n",
      "Epoch 322/500\n",
      "41/41 [==============================] - 0s 3ms/step - loss: 0.6451 - mae: 0.5510 - val_loss: 0.3775 - val_mae: 0.4525\n",
      "Epoch 323/500\n",
      "41/41 [==============================] - 0s 3ms/step - loss: 0.3271 - mae: 0.4101 - val_loss: 0.4770 - val_mae: 0.4868\n",
      "Epoch 324/500\n",
      "41/41 [==============================] - 0s 3ms/step - loss: 0.3831 - mae: 0.4463 - val_loss: 0.6167 - val_mae: 0.6163\n",
      "Epoch 325/500\n",
      "41/41 [==============================] - 0s 3ms/step - loss: 0.4180 - mae: 0.4643 - val_loss: 0.7077 - val_mae: 0.6206\n",
      "Epoch 326/500\n",
      "41/41 [==============================] - 0s 3ms/step - loss: 0.4139 - mae: 0.4537 - val_loss: 0.9098 - val_mae: 0.7154\n",
      "Epoch 327/500\n",
      "41/41 [==============================] - 0s 3ms/step - loss: 0.4667 - mae: 0.5038 - val_loss: 0.6009 - val_mae: 0.5890\n",
      "Epoch 328/500\n",
      "41/41 [==============================] - 0s 3ms/step - loss: 0.3151 - mae: 0.4075 - val_loss: 0.6756 - val_mae: 0.5837\n",
      "Epoch 329/500\n",
      "41/41 [==============================] - 0s 3ms/step - loss: 0.3939 - mae: 0.4509 - val_loss: 0.6403 - val_mae: 0.6253\n",
      "Epoch 330/500\n",
      "41/41 [==============================] - 0s 3ms/step - loss: 1.2175 - mae: 0.7301 - val_loss: 2.3143 - val_mae: 1.1503\n",
      "Epoch 331/500\n",
      "41/41 [==============================] - 0s 3ms/step - loss: 0.8111 - mae: 0.6431 - val_loss: 0.6416 - val_mae: 0.5935\n",
      "Epoch 332/500\n",
      "41/41 [==============================] - 0s 3ms/step - loss: 0.3333 - mae: 0.4191 - val_loss: 0.3241 - val_mae: 0.4062\n",
      "Epoch 333/500\n",
      "41/41 [==============================] - 0s 3ms/step - loss: 0.3046 - mae: 0.3961 - val_loss: 0.4206 - val_mae: 0.4408\n",
      "Epoch 334/500\n",
      "41/41 [==============================] - 0s 3ms/step - loss: 0.3871 - mae: 0.4515 - val_loss: 0.7404 - val_mae: 0.6604\n",
      "Epoch 335/500\n",
      "41/41 [==============================] - 0s 3ms/step - loss: 0.6259 - mae: 0.5708 - val_loss: 0.3873 - val_mae: 0.4471\n",
      "Epoch 336/500\n",
      "41/41 [==============================] - 0s 3ms/step - loss: 0.3213 - mae: 0.4156 - val_loss: 0.2570 - val_mae: 0.3525\n",
      "Epoch 337/500\n",
      "41/41 [==============================] - 0s 3ms/step - loss: 0.2783 - mae: 0.3779 - val_loss: 0.2901 - val_mae: 0.3709\n",
      "Epoch 338/500\n",
      "41/41 [==============================] - 0s 3ms/step - loss: 0.3228 - mae: 0.4015 - val_loss: 0.2988 - val_mae: 0.3856\n",
      "Epoch 339/500\n",
      "41/41 [==============================] - 0s 3ms/step - loss: 0.2766 - mae: 0.3733 - val_loss: 0.3462 - val_mae: 0.4224\n",
      "Epoch 340/500\n",
      "41/41 [==============================] - 0s 3ms/step - loss: 0.8808 - mae: 0.6497 - val_loss: 1.2506 - val_mae: 0.9147\n",
      "Epoch 341/500\n",
      "41/41 [==============================] - 0s 3ms/step - loss: 0.8688 - mae: 0.6428 - val_loss: 0.3251 - val_mae: 0.3969\n",
      "Epoch 342/500\n",
      "41/41 [==============================] - 0s 3ms/step - loss: 0.2646 - mae: 0.3673 - val_loss: 0.2596 - val_mae: 0.3365\n",
      "Epoch 343/500\n",
      "41/41 [==============================] - 0s 3ms/step - loss: 0.2958 - mae: 0.3885 - val_loss: 0.2710 - val_mae: 0.3716\n",
      "Epoch 344/500\n",
      "41/41 [==============================] - 0s 3ms/step - loss: 0.9610 - mae: 0.6856 - val_loss: 0.6284 - val_mae: 0.5869\n",
      "Epoch 345/500\n",
      "41/41 [==============================] - 0s 3ms/step - loss: 0.4111 - mae: 0.4657 - val_loss: 0.5031 - val_mae: 0.5190\n",
      "Epoch 346/500\n",
      "41/41 [==============================] - 0s 3ms/step - loss: 0.6894 - mae: 0.5778 - val_loss: 0.3452 - val_mae: 0.4045\n",
      "Epoch 347/500\n",
      "41/41 [==============================] - 0s 3ms/step - loss: 0.4084 - mae: 0.4699 - val_loss: 0.3244 - val_mae: 0.4024\n",
      "Epoch 348/500\n",
      "41/41 [==============================] - 0s 3ms/step - loss: 0.2973 - mae: 0.3849 - val_loss: 0.3016 - val_mae: 0.3739\n",
      "Epoch 349/500\n",
      "41/41 [==============================] - 0s 3ms/step - loss: 0.2755 - mae: 0.3795 - val_loss: 0.2621 - val_mae: 0.3490\n",
      "Epoch 350/500\n",
      "41/41 [==============================] - 0s 3ms/step - loss: 0.2603 - mae: 0.3661 - val_loss: 0.3362 - val_mae: 0.4108\n",
      "Epoch 351/500\n",
      "41/41 [==============================] - 0s 3ms/step - loss: 0.2383 - mae: 0.3460 - val_loss: 0.2585 - val_mae: 0.3447\n",
      "Epoch 352/500\n",
      "41/41 [==============================] - 0s 3ms/step - loss: 0.5171 - mae: 0.5148 - val_loss: 0.3308 - val_mae: 0.4377\n",
      "Epoch 353/500\n",
      "41/41 [==============================] - 0s 3ms/step - loss: 0.4181 - mae: 0.4596 - val_loss: 0.3202 - val_mae: 0.4291\n",
      "Epoch 354/500\n",
      "41/41 [==============================] - 0s 3ms/step - loss: 0.4186 - mae: 0.4739 - val_loss: 0.2626 - val_mae: 0.3435\n",
      "Epoch 355/500\n",
      "41/41 [==============================] - 0s 3ms/step - loss: 0.2501 - mae: 0.3621 - val_loss: 0.2438 - val_mae: 0.3351\n",
      "Epoch 356/500\n",
      "41/41 [==============================] - 0s 3ms/step - loss: 0.4480 - mae: 0.4664 - val_loss: 0.3040 - val_mae: 0.3778\n",
      "Epoch 357/500\n",
      "41/41 [==============================] - 0s 3ms/step - loss: 0.3527 - mae: 0.4289 - val_loss: 0.3774 - val_mae: 0.4586\n",
      "Epoch 358/500\n",
      "41/41 [==============================] - 0s 3ms/step - loss: 0.3423 - mae: 0.4173 - val_loss: 0.2748 - val_mae: 0.3559\n",
      "Epoch 359/500\n",
      "41/41 [==============================] - 0s 3ms/step - loss: 0.2958 - mae: 0.3897 - val_loss: 1.5632 - val_mae: 1.0602\n",
      "Epoch 360/500\n",
      "41/41 [==============================] - 0s 3ms/step - loss: 0.3716 - mae: 0.4516 - val_loss: 0.7746 - val_mae: 0.6719\n",
      "Epoch 361/500\n",
      "41/41 [==============================] - 0s 3ms/step - loss: 0.3395 - mae: 0.4279 - val_loss: 0.3656 - val_mae: 0.4315\n",
      "Epoch 362/500\n",
      "41/41 [==============================] - 0s 3ms/step - loss: 0.2811 - mae: 0.3894 - val_loss: 0.4666 - val_mae: 0.4729\n",
      "Epoch 363/500\n",
      "41/41 [==============================] - 0s 3ms/step - loss: 0.5327 - mae: 0.5009 - val_loss: 0.4103 - val_mae: 0.4832\n",
      "Epoch 364/500\n",
      "41/41 [==============================] - 0s 3ms/step - loss: 0.5729 - mae: 0.5387 - val_loss: 0.6148 - val_mae: 0.5939\n",
      "Epoch 365/500\n",
      "41/41 [==============================] - 0s 3ms/step - loss: 0.4792 - mae: 0.4973 - val_loss: 0.3740 - val_mae: 0.4740\n",
      "Epoch 366/500\n",
      "41/41 [==============================] - 0s 3ms/step - loss: 0.3278 - mae: 0.4153 - val_loss: 0.2414 - val_mae: 0.3337\n",
      "Epoch 367/500\n",
      "41/41 [==============================] - 0s 3ms/step - loss: 0.4978 - mae: 0.4980 - val_loss: 0.2943 - val_mae: 0.3618\n",
      "Epoch 368/500\n",
      "41/41 [==============================] - 0s 3ms/step - loss: 0.2873 - mae: 0.3887 - val_loss: 0.6952 - val_mae: 0.6250\n",
      "Epoch 369/500\n",
      "41/41 [==============================] - 0s 3ms/step - loss: 0.3918 - mae: 0.4417 - val_loss: 0.4592 - val_mae: 0.5109\n",
      "Epoch 370/500\n",
      "41/41 [==============================] - 0s 3ms/step - loss: 0.2741 - mae: 0.3734 - val_loss: 0.3178 - val_mae: 0.4094\n",
      "Epoch 371/500\n",
      "41/41 [==============================] - 0s 2ms/step - loss: 0.4068 - mae: 0.4493 - val_loss: 1.2972 - val_mae: 0.8273\n",
      "Epoch 372/500\n",
      "41/41 [==============================] - 0s 3ms/step - loss: 0.4127 - mae: 0.4649 - val_loss: 0.3361 - val_mae: 0.4427\n",
      "Epoch 373/500\n",
      "41/41 [==============================] - 0s 3ms/step - loss: 0.3338 - mae: 0.4175 - val_loss: 0.2604 - val_mae: 0.3466\n",
      "Epoch 374/500\n",
      "41/41 [==============================] - 0s 3ms/step - loss: 0.2812 - mae: 0.3878 - val_loss: 0.6139 - val_mae: 0.5526\n",
      "Epoch 375/500\n",
      "41/41 [==============================] - 0s 3ms/step - loss: 1.1674 - mae: 0.7596 - val_loss: 0.5233 - val_mae: 0.5672\n",
      "Epoch 376/500\n",
      "41/41 [==============================] - 0s 3ms/step - loss: 1.3674 - mae: 0.8362 - val_loss: 1.0484 - val_mae: 0.6950\n",
      "Epoch 377/500\n",
      "41/41 [==============================] - 0s 3ms/step - loss: 0.6996 - mae: 0.5916 - val_loss: 0.7120 - val_mae: 0.6114\n",
      "Epoch 378/500\n",
      "41/41 [==============================] - 0s 3ms/step - loss: 1.3578 - mae: 0.8218 - val_loss: 2.1374 - val_mae: 0.9942\n",
      "Epoch 379/500\n",
      "41/41 [==============================] - 0s 3ms/step - loss: 0.8799 - mae: 0.6488 - val_loss: 0.4155 - val_mae: 0.4923\n",
      "Epoch 380/500\n",
      "41/41 [==============================] - 0s 3ms/step - loss: 0.6036 - mae: 0.5435 - val_loss: 0.5247 - val_mae: 0.5242\n",
      "Epoch 381/500\n",
      "41/41 [==============================] - 0s 3ms/step - loss: 0.4459 - mae: 0.4796 - val_loss: 0.4284 - val_mae: 0.4924\n",
      "Epoch 382/500\n",
      "41/41 [==============================] - 0s 3ms/step - loss: 0.3338 - mae: 0.4105 - val_loss: 0.3307 - val_mae: 0.4081\n",
      "Epoch 383/500\n",
      "41/41 [==============================] - 0s 3ms/step - loss: 0.3052 - mae: 0.3926 - val_loss: 0.2828 - val_mae: 0.3707\n",
      "Epoch 384/500\n",
      "41/41 [==============================] - 0s 2ms/step - loss: 0.3481 - mae: 0.4368 - val_loss: 0.4161 - val_mae: 0.4426\n",
      "Epoch 385/500\n",
      "41/41 [==============================] - 0s 3ms/step - loss: 0.3191 - mae: 0.4078 - val_loss: 0.6584 - val_mae: 0.5704\n",
      "Epoch 386/500\n",
      "41/41 [==============================] - 0s 3ms/step - loss: 0.5107 - mae: 0.5060 - val_loss: 0.3859 - val_mae: 0.4751\n",
      "Epoch 387/500\n",
      "41/41 [==============================] - 0s 3ms/step - loss: 0.3481 - mae: 0.4204 - val_loss: 0.5346 - val_mae: 0.5167\n",
      "Epoch 388/500\n",
      "41/41 [==============================] - 0s 3ms/step - loss: 0.4809 - mae: 0.5193 - val_loss: 0.2607 - val_mae: 0.3548\n",
      "Epoch 389/500\n",
      "41/41 [==============================] - 0s 3ms/step - loss: 0.2609 - mae: 0.3695 - val_loss: 0.2951 - val_mae: 0.3618\n",
      "Epoch 390/500\n",
      "41/41 [==============================] - 0s 3ms/step - loss: 0.2540 - mae: 0.3667 - val_loss: 0.3394 - val_mae: 0.4280\n",
      "Epoch 391/500\n",
      "41/41 [==============================] - 0s 3ms/step - loss: 0.4328 - mae: 0.4769 - val_loss: 0.3877 - val_mae: 0.4516\n",
      "Epoch 392/500\n",
      "41/41 [==============================] - 0s 3ms/step - loss: 0.4850 - mae: 0.4839 - val_loss: 0.3061 - val_mae: 0.3821\n",
      "Epoch 393/500\n",
      "41/41 [==============================] - 0s 3ms/step - loss: 0.5246 - mae: 0.5144 - val_loss: 0.3470 - val_mae: 0.4366\n",
      "Epoch 394/500\n",
      "41/41 [==============================] - 0s 3ms/step - loss: 0.4841 - mae: 0.4934 - val_loss: 1.1452 - val_mae: 0.7843\n",
      "Epoch 395/500\n",
      "41/41 [==============================] - 0s 3ms/step - loss: 0.3495 - mae: 0.4360 - val_loss: 0.2594 - val_mae: 0.3339\n",
      "Epoch 396/500\n",
      "41/41 [==============================] - 0s 3ms/step - loss: 0.3263 - mae: 0.3921 - val_loss: 0.3043 - val_mae: 0.3827\n",
      "Epoch 397/500\n",
      "41/41 [==============================] - 0s 2ms/step - loss: 0.2701 - mae: 0.3797 - val_loss: 0.2724 - val_mae: 0.3726\n",
      "Epoch 398/500\n",
      "41/41 [==============================] - 0s 2ms/step - loss: 0.3695 - mae: 0.4253 - val_loss: 0.5318 - val_mae: 0.5473\n",
      "Epoch 399/500\n",
      "41/41 [==============================] - 0s 3ms/step - loss: 0.3518 - mae: 0.4307 - val_loss: 0.3777 - val_mae: 0.4386\n",
      "Epoch 400/500\n",
      "41/41 [==============================] - 0s 3ms/step - loss: 0.3014 - mae: 0.4007 - val_loss: 0.2440 - val_mae: 0.3264\n",
      "Epoch 401/500\n",
      "41/41 [==============================] - 0s 3ms/step - loss: 0.2853 - mae: 0.3815 - val_loss: 0.2741 - val_mae: 0.3459\n",
      "Epoch 402/500\n",
      "41/41 [==============================] - 0s 3ms/step - loss: 0.3229 - mae: 0.4084 - val_loss: 0.4851 - val_mae: 0.5036\n",
      "Epoch 403/500\n",
      "41/41 [==============================] - 0s 3ms/step - loss: 0.4720 - mae: 0.4889 - val_loss: 0.3060 - val_mae: 0.4077\n",
      "Epoch 404/500\n",
      "41/41 [==============================] - 0s 3ms/step - loss: 0.3992 - mae: 0.4649 - val_loss: 0.4909 - val_mae: 0.5163\n",
      "Epoch 405/500\n",
      "41/41 [==============================] - 0s 3ms/step - loss: 0.3950 - mae: 0.4598 - val_loss: 0.3098 - val_mae: 0.4005\n",
      "Epoch 406/500\n",
      "41/41 [==============================] - 0s 3ms/step - loss: 0.4092 - mae: 0.4503 - val_loss: 0.2763 - val_mae: 0.3718\n",
      "Epoch 407/500\n",
      "41/41 [==============================] - 0s 3ms/step - loss: 0.2846 - mae: 0.3896 - val_loss: 0.2615 - val_mae: 0.3461\n",
      "Epoch 408/500\n",
      "41/41 [==============================] - 0s 3ms/step - loss: 0.3222 - mae: 0.4162 - val_loss: 0.5737 - val_mae: 0.5594\n",
      "Epoch 409/500\n",
      "41/41 [==============================] - 0s 3ms/step - loss: 0.6653 - mae: 0.5815 - val_loss: 0.8443 - val_mae: 0.7058\n",
      "Epoch 410/500\n",
      "41/41 [==============================] - 0s 3ms/step - loss: 1.2306 - mae: 0.7617 - val_loss: 0.6915 - val_mae: 0.5752\n",
      "Epoch 411/500\n",
      "41/41 [==============================] - 0s 3ms/step - loss: 0.5927 - mae: 0.5518 - val_loss: 0.2428 - val_mae: 0.3317\n",
      "Epoch 412/500\n",
      "41/41 [==============================] - 0s 3ms/step - loss: 0.2980 - mae: 0.3888 - val_loss: 0.3712 - val_mae: 0.4588\n",
      "Epoch 413/500\n",
      "41/41 [==============================] - 0s 3ms/step - loss: 0.2875 - mae: 0.3833 - val_loss: 1.0709 - val_mae: 0.7568\n",
      "Epoch 414/500\n",
      "41/41 [==============================] - 0s 3ms/step - loss: 0.7885 - mae: 0.6222 - val_loss: 0.6455 - val_mae: 0.5715\n",
      "Epoch 415/500\n",
      "41/41 [==============================] - 0s 3ms/step - loss: 0.4969 - mae: 0.5135 - val_loss: 0.4300 - val_mae: 0.4827\n",
      "Epoch 416/500\n",
      "41/41 [==============================] - 0s 3ms/step - loss: 0.3114 - mae: 0.3929 - val_loss: 0.3028 - val_mae: 0.4038\n"
     ]
    }
   ],
   "source": [
    "history = ann.fit(X_train, y_train,\n",
    "                    validation_data = (X_val, y_val),\n",
    "                    callbacks=[es],\n",
    "                    epochs=500,\n",
    "                    batch_size=30,\n",
    "                    verbose=1)"
   ]
  },
  {
   "cell_type": "code",
   "execution_count": 15,
   "metadata": {
    "ExecuteTime": {
     "end_time": "2024-08-02T04:15:05.438194100Z",
     "start_time": "2024-08-02T04:15:03.790927Z"
    }
   },
   "outputs": [
    {
     "data": {
      "text/plain": "<Figure size 640x480 with 1 Axes>",
      "image/png": "[encoded data removed]"
     },
     "metadata": {},
     "output_type": "display_data"
    }
   ],
   "source": [
    "import matplotlib.pyplot as plt\n",
    "# let's see the training and validation accuracy by epoch\n",
    "history_dict = history.history\n",
    "loss_values = history_dict['loss'] # you can change this\n",
    "val_loss_values = history_dict['val_loss'] # you can also change this\n",
    "epochs = range(1, len(loss_values) + 1) # range of X (no. of epochs)\n",
    "plt.plot(epochs, loss_values, 'blue', label='Train set loss')\n",
    "plt.plot(epochs, val_loss_values, 'orange', label='Validation set loss')\n",
    "#plt.title('Training and testing loss')\n",
    "plt.xlabel('Epochs')\n",
    "plt.ylabel('Loss (MSE)')\n",
    "plt.legend()\n",
    "plt.savefig('Arrival_ANN2_2.png', dpi = 300, bbox_inches = 'tight')\n",
    "plt.show()"
   ]
  },
  {
   "cell_type": "code",
   "execution_count": 16,
   "metadata": {
    "ExecuteTime": {
     "end_time": "2024-08-02T04:15:11.013043Z",
     "start_time": "2024-08-02T04:15:10.404103400Z"
    }
   },
   "outputs": [
    {
     "data": {
      "text/plain": "<Figure size 640x480 with 1 Axes>",
      "image/png": "[encoded data removed]"
     },
     "metadata": {},
     "output_type": "display_data"
    }
   ],
   "source": [
    "loss_values1 = history_dict['mae'] # you can change this\n",
    "val_loss_values1 = history_dict['val_mae'] # you can also change this\n",
    "epochs = range(1, len(loss_values1) + 1) # range of X (no. of epochs)\n",
    "plt.plot(epochs, loss_values1, 'blue', label='Train set MAE')\n",
    "plt.plot(epochs, val_loss_values1, 'orange', label='Validation set MAE')\n",
    "#plt.title('Training and testing MAE')\n",
    "plt.xlabel('Epochs')\n",
    "plt.ylabel('MAE')\n",
    "plt.legend()\n",
    "plt.savefig('Arrival_ANN2_3.png', dpi = 300, bbox_inches = 'tight')\n",
    "plt.show()"
   ]
  },
  {
   "cell_type": "code",
   "execution_count": null,
   "metadata": {},
   "outputs": [],
   "source": [
    "print (epochs)"
   ]
  },
  {
   "cell_type": "code",
   "execution_count": 28,
   "outputs": [
    {
     "name": "stdout",
     "output_type": "stream",
     "text": [
      "INFO:tensorflow:Assets written to: Arrival_ANN2\\assets\n"
     ]
    }
   ],
   "source": [
    "ann.save('Arrival_ANN2')"
   ],
   "metadata": {
    "collapsed": false,
    "ExecuteTime": {
     "end_time": "2024-08-02T04:17:02.357553500Z",
     "start_time": "2024-08-02T04:17:00.483354600Z"
    }
   }
  },
  {
   "cell_type": "markdown",
   "source": [
    "# Part 4 - Make predictions"
   ],
   "metadata": {
    "collapsed": false
   }
  },
  {
   "cell_type": "code",
   "execution_count": 17,
   "metadata": {
    "ExecuteTime": {
     "end_time": "2024-08-02T04:15:24.701017100Z",
     "start_time": "2024-08-02T04:15:23.216699300Z"
    }
   },
   "outputs": [
    {
     "name": "stdout",
     "output_type": "stream",
     "text": [
      "39/39 [==============================] - 0s 1ms/step\n",
      "9/9 [==============================] - 0s 2ms/step\n"
     ]
    },
    {
     "data": {
      "text/plain": "<Figure size 640x480 with 2 Axes>",
      "image/png": "[encoded data removed]"
     },
     "metadata": {},
     "output_type": "display_data"
    }
   ],
   "source": [
    "# scatterplot of actual vs. pred\n",
    "# specify the dimensions \n",
    "fig, axes = plt.subplots(1,2) # 1 row, 2 columns\n",
    "\n",
    "# this makes the individual subplots\n",
    "# Training Results\n",
    "axes[0].scatter(x=y_train, y=ann.predict(X_train)) #first row, first entry (left top)\n",
    "axes[0].set_xlabel(\"Actual\", fontsize=10)\n",
    "axes[0].set_ylabel(\"Predicted\",  fontsize=10)\n",
    "axes[0].set_title(\"Training\")\n",
    "# add 45 deg line\n",
    "x = np.linspace(*axes[0].get_xlim())\n",
    "axes[0].plot(x, x, color='red')\n",
    "# Validation Results\n",
    "axes[1].scatter(x=y_val, y=ann.predict(X_val)) # first row, second entry (right top)\n",
    "axes[1].set_xlabel(\"Actual\", fontsize=10)\n",
    "axes[1].set_ylabel(\"Predicted\",  fontsize=10)\n",
    "axes[1].set_title(\"Validation\")\n",
    "# add 45 deg line\n",
    "x = np.linspace(*axes[1].get_xlim())\n",
    "axes[1].plot(x, x, color='red')\n",
    "\n",
    "# tight layout\n",
    "fig.tight_layout()\n",
    "\n",
    "plt.savefig('Arrival_ANN2_1.png', dpi = 300, bbox_inches = 'tight')\n",
    "# show the plot\n",
    "plt.show()"
   ]
  },
  {
   "cell_type": "code",
   "execution_count": 18,
   "metadata": {
    "colab": {
     "base_uri": "https://localhost:8080/",
     "height": 134
    },
    "colab_type": "code",
    "id": "IA0yApEmBG1X",
    "outputId": "cb981e1f-9204-4a2a-fece-9d66a6919189",
    "ExecuteTime": {
     "end_time": "2024-08-02T04:15:33.091673800Z",
     "start_time": "2024-08-02T04:15:32.869262400Z"
    }
   },
   "outputs": [
    {
     "name": "stdout",
     "output_type": "stream",
     "text": [
      "9/9 [==============================] - 0s 2ms/step\n",
      "[[ 2.95e+01  2.93e+01]\n",
      " [ 2.11e+00  1.92e+00]\n",
      " [ 4.29e+01  4.21e+01]\n",
      " [ 6.05e+01  6.06e+01]\n",
      " [ 3.43e-01  5.68e-01]\n",
      " [ 2.59e-01  4.62e-01]\n",
      " [ 1.30e+00  1.61e+00]\n",
      " [ 4.82e+01  4.84e+01]\n",
      " [ 5.00e+01  5.02e+01]\n",
      " [ 2.75e+00  2.58e+00]\n",
      " [ 4.71e+01  4.69e+01]\n",
      " [ 8.17e+01  8.25e+01]\n",
      " [ 5.11e+01  5.03e+01]\n",
      " [ 2.91e+01  2.89e+01]\n",
      " [ 7.51e-03  3.61e-01]\n",
      " [ 2.07e+01  2.05e+01]\n",
      " [ 7.53e+01  7.53e+01]\n",
      " [ 1.34e+01  1.35e+01]\n",
      " [-2.74e-02  3.67e-01]\n",
      " [ 2.59e+00  2.85e+00]\n",
      " [ 7.78e+01  7.80e+01]\n",
      " [ 1.44e+00  1.28e+00]\n",
      " [ 1.52e+00  1.52e+00]\n",
      " [ 2.09e+00  1.98e+00]\n",
      " [ 3.14e-01  5.30e-01]\n",
      " [ 3.82e+01  3.75e+01]\n",
      " [ 1.46e+01  1.51e+01]\n",
      " [ 1.01e+01  9.68e+00]\n",
      " [ 4.44e+00  4.30e+00]\n",
      " [ 5.59e+01  5.46e+01]\n",
      " [ 1.08e+01  1.14e+01]\n",
      " [ 2.39e+01  2.35e+01]\n",
      " [ 5.51e+01  5.38e+01]\n",
      " [ 7.01e-01  1.21e+00]\n",
      " [ 8.17e+01  8.22e+01]\n",
      " [ 1.02e+02  1.02e+02]\n",
      " [ 5.69e-01  5.87e-01]\n",
      " [ 7.11e+01  7.34e+01]\n",
      " [ 5.66e+01  5.59e+01]\n",
      " [ 2.85e+01  2.82e+01]\n",
      " [ 3.84e+01  3.84e+01]\n",
      " [ 3.04e+01  3.08e+01]\n",
      " [ 6.94e+01  7.01e+01]\n",
      " [ 6.70e+01  6.76e+01]\n",
      " [ 8.62e+00  8.84e+00]\n",
      " [ 2.63e+01  2.69e+01]\n",
      " [ 8.18e+01  8.19e+01]\n",
      " [ 7.40e-01  1.16e+00]\n",
      " [ 1.37e+00  1.14e+00]\n",
      " [ 5.11e+01  5.19e+01]\n",
      " [ 8.05e+01  8.08e+01]\n",
      " [ 7.30e+01  7.28e+01]\n",
      " [ 3.42e-01  3.64e-01]\n",
      " [ 4.23e+01  4.21e+01]\n",
      " [ 1.75e+01  1.74e+01]\n",
      " [ 9.73e+01  9.78e+01]\n",
      " [ 2.64e+00  2.56e+00]\n",
      " [ 2.82e+01  2.75e+01]\n",
      " [ 8.57e+01  8.53e+01]\n",
      " [ 3.92e+01  3.98e+01]\n",
      " [ 6.74e+01  6.75e+01]\n",
      " [ 5.60e+01  5.64e+01]\n",
      " [ 5.07e+01  5.13e+01]\n",
      " [ 7.14e+00  7.21e+00]\n",
      " [ 6.59e+01  6.64e+01]\n",
      " [ 1.70e+00  1.67e+00]\n",
      " [ 6.13e+01  6.15e+01]\n",
      " [ 2.08e+01  2.09e+01]\n",
      " [ 1.63e+00  1.66e+00]\n",
      " [ 5.77e+01  5.81e+01]\n",
      " [ 7.86e+01  7.93e+01]\n",
      " [ 7.27e+01  7.27e+01]\n",
      " [ 1.32e+00  1.49e+00]\n",
      " [ 4.97e+01  5.00e+01]\n",
      " [ 5.46e+01  5.33e+01]\n",
      " [ 4.95e-01  6.72e-01]\n",
      " [ 7.81e+00  8.25e+00]\n",
      " [ 1.95e+00  1.85e+00]\n",
      " [ 4.51e+00  4.40e+00]\n",
      " [ 3.13e-01  5.53e-01]\n",
      " [ 7.87e+01  7.87e+01]\n",
      " [ 8.77e+01  8.78e+01]\n",
      " [ 3.58e+01  3.51e+01]\n",
      " [ 7.29e-01  5.81e-01]\n",
      " [ 6.42e+01  6.43e+01]\n",
      " [ 4.56e-02  3.41e-01]\n",
      " [ 5.15e+01  5.13e+01]\n",
      " [ 1.46e+01  1.64e+01]\n",
      " [ 7.58e+01  7.60e+01]\n",
      " [ 2.12e+01  2.10e+01]\n",
      " [ 8.82e+01  8.81e+01]\n",
      " [ 1.30e+00  1.40e+00]\n",
      " [ 1.66e+00  1.57e+00]\n",
      " [ 5.20e+00  5.15e+00]\n",
      " [ 2.56e+01  2.55e+01]\n",
      " [ 1.12e+01  1.05e+01]\n",
      " [ 2.33e+01  2.28e+01]\n",
      " [ 1.98e+00  1.71e+00]\n",
      " [ 7.00e+01  6.90e+01]\n",
      " [ 3.66e+01  3.53e+01]\n",
      " [ 4.22e+01  4.31e+01]\n",
      " [ 3.00e-01  4.58e-01]\n",
      " [ 5.80e+01  5.76e+01]\n",
      " [ 5.26e+01  5.31e+01]\n",
      " [ 9.39e-01  1.13e+00]\n",
      " [ 5.72e-01  8.83e-01]\n",
      " [ 2.51e+00  2.14e+00]\n",
      " [ 1.08e+02  1.08e+02]\n",
      " [ 7.54e+01  7.50e+01]\n",
      " [ 7.62e+00  7.97e+00]\n",
      " [ 4.52e-01  5.77e-01]\n",
      " [ 1.92e+00  1.85e+00]\n",
      " [ 6.94e+01  6.91e+01]\n",
      " [ 7.18e+00  7.14e+00]\n",
      " [ 4.22e+01  4.26e+01]\n",
      " [ 1.85e+00  1.79e+00]\n",
      " [ 3.15e+01  3.28e+01]\n",
      " [ 4.93e+01  4.96e+01]\n",
      " [ 3.23e-01  6.76e-01]\n",
      " [ 9.90e-01  1.05e+00]\n",
      " [ 6.82e+01  6.82e+01]\n",
      " [ 2.60e+00  2.33e+00]\n",
      " [ 6.80e+00  6.37e+00]\n",
      " [ 3.93e+01  3.93e+01]\n",
      " [ 1.36e+00  1.33e+00]\n",
      " [ 2.91e+01  2.97e+01]\n",
      " [ 1.14e+02  1.15e+02]\n",
      " [ 1.25e+00  1.31e+00]\n",
      " [ 3.71e+01  3.59e+01]\n",
      " [ 5.31e+01  5.30e+01]\n",
      " [ 9.64e+00  9.36e+00]\n",
      " [ 4.35e+01  4.35e+01]\n",
      " [ 5.61e+01  5.51e+01]\n",
      " [ 9.13e+01  9.22e+01]\n",
      " [ 1.22e+00  1.37e+00]\n",
      " [ 2.12e-01  6.29e-01]\n",
      " [ 1.63e+01  1.59e+01]\n",
      " [ 7.95e+01  7.88e+01]\n",
      " [ 8.91e+00  1.05e+01]\n",
      " [ 1.19e+00  1.39e+00]\n",
      " [ 2.07e+01  2.01e+01]\n",
      " [ 4.53e+01  4.53e+01]\n",
      " [ 1.83e+01  1.85e+01]\n",
      " [ 4.39e+01  4.39e+01]\n",
      " [ 2.40e+00  2.28e+00]\n",
      " [ 6.18e+01  6.22e+01]\n",
      " [ 6.05e+00  5.50e+00]\n",
      " [ 2.63e+00  2.36e+00]\n",
      " [ 2.24e+01  2.22e+01]\n",
      " [ 2.42e+01  2.40e+01]\n",
      " [ 1.86e+00  1.54e+00]\n",
      " [ 6.28e+01  6.49e+01]\n",
      " [ 3.30e+01  3.29e+01]\n",
      " [ 7.83e+01  7.83e+01]\n",
      " [ 1.32e-01  3.99e-01]\n",
      " [ 9.16e+01  9.14e+01]\n",
      " [ 8.94e+01  8.99e+01]\n",
      " [ 8.69e+00  9.18e+00]\n",
      " [ 4.69e+01  4.70e+01]\n",
      " [ 3.37e+01  3.26e+01]\n",
      " [ 3.95e+01  4.01e+01]\n",
      " [ 1.02e+02  1.03e+02]\n",
      " [ 1.44e+00  1.64e+00]\n",
      " [ 6.73e+01  6.75e+01]\n",
      " [ 5.79e+00  5.29e+00]\n",
      " [ 2.16e+01  2.17e+01]\n",
      " [ 1.09e+01  1.08e+01]\n",
      " [ 1.97e+00  2.04e+00]\n",
      " [ 1.77e+01  1.84e+01]\n",
      " [-3.43e-02  2.89e-01]\n",
      " [ 5.18e-01  4.02e-01]\n",
      " [ 2.80e+00  2.82e+00]\n",
      " [-1.18e-01  3.03e-01]\n",
      " [ 1.13e+01  1.22e+01]\n",
      " [ 1.17e+01  1.23e+01]\n",
      " [ 4.57e-01  4.33e-01]\n",
      " [ 8.26e+01  8.33e+01]\n",
      " [ 6.28e-01  9.44e-01]\n",
      " [ 7.14e+01  7.16e+01]\n",
      " [ 3.61e+00  3.52e+00]\n",
      " [ 2.71e-01  6.04e-01]\n",
      " [ 7.78e+00  8.44e+00]\n",
      " [ 6.91e+01  6.88e+01]\n",
      " [ 5.93e-02  4.47e-01]\n",
      " [ 1.19e-01  4.92e-01]\n",
      " [ 5.17e-01  7.60e-01]\n",
      " [ 4.12e-01  4.47e-01]\n",
      " [ 5.15e+01  5.25e+01]\n",
      " [ 3.84e-01  5.08e-01]\n",
      " [ 9.39e-01  7.49e-01]\n",
      " [ 7.90e-01  5.65e-01]\n",
      " [ 6.60e+00  6.22e+00]\n",
      " [ 2.05e+01  2.02e+01]\n",
      " [ 3.14e+01  3.12e+01]\n",
      " [ 5.56e+01  5.44e+01]\n",
      " [ 3.17e+01  3.13e+01]\n",
      " [ 1.72e-01  4.23e-01]\n",
      " [ 6.55e+00  6.10e+00]\n",
      " [ 4.87e+01  4.90e+01]\n",
      " [ 6.90e+01  6.92e+01]\n",
      " [ 8.17e+01  8.09e+01]\n",
      " [ 6.77e-01  8.28e-01]\n",
      " [ 8.11e+01  8.12e+01]\n",
      " [ 1.07e+01  1.14e+01]\n",
      " [ 2.48e+00  2.32e+00]\n",
      " [ 3.98e+01  3.99e+01]\n",
      " [ 9.40e-01  7.96e-01]\n",
      " [ 7.78e+01  7.74e+01]\n",
      " [ 5.38e-01  7.47e-01]\n",
      " [ 7.74e+01  7.70e+01]\n",
      " [ 3.89e+01  3.92e+01]\n",
      " [ 3.37e+00  2.97e+00]\n",
      " [ 2.27e+01  2.31e+01]\n",
      " [ 5.64e+01  5.69e+01]\n",
      " [ 6.25e+01  6.22e+01]\n",
      " [ 6.98e-01  9.14e-01]\n",
      " [ 7.03e+01  7.05e+01]\n",
      " [ 4.95e+00  4.80e+00]\n",
      " [ 7.81e-01  7.88e-01]\n",
      " [ 8.53e+01  8.58e+01]\n",
      " [ 6.98e-01  5.89e-01]\n",
      " [ 1.17e+00  1.49e+00]\n",
      " [ 6.66e+01  6.73e+01]\n",
      " [ 2.66e+01  2.60e+01]\n",
      " [ 1.82e+00  1.77e+00]\n",
      " [ 8.18e-01  1.12e+00]\n",
      " [ 1.53e+00  1.67e+00]\n",
      " [ 4.24e-01  4.20e-01]\n",
      " [ 2.15e+01  2.14e+01]\n",
      " [ 6.05e-01  5.75e-01]\n",
      " [ 3.11e+00  3.00e+00]\n",
      " [ 7.61e+01  7.49e+01]\n",
      " [ 1.41e+00  1.63e+00]\n",
      " [ 1.70e+01  1.72e+01]\n",
      " [ 1.82e+00  2.04e+00]\n",
      " [ 3.01e-01  6.26e-01]\n",
      " [ 1.58e+01  1.59e+01]\n",
      " [ 2.46e+01  2.50e+01]\n",
      " [ 6.12e+01  6.12e+01]\n",
      " [ 6.00e+01  6.00e+01]\n",
      " [ 1.52e+00  1.36e+00]\n",
      " [ 1.90e+00  2.13e+00]\n",
      " [ 1.07e+00  1.29e+00]\n",
      " [ 2.99e-02  4.55e-01]\n",
      " [ 3.15e+00  3.07e+00]\n",
      " [ 1.65e+00  1.74e+00]\n",
      " [ 2.15e+01  2.15e+01]\n",
      " [ 2.86e+01  2.95e+01]\n",
      " [ 5.75e-01  1.09e+00]\n",
      " [ 9.96e-01  1.16e+00]\n",
      " [ 1.98e+00  2.00e+00]\n",
      " [ 7.22e+01  7.20e+01]\n",
      " [ 6.38e+01  6.37e+01]\n",
      " [ 7.68e+01  7.65e+01]\n",
      " [ 1.01e+02  1.01e+02]\n",
      " [ 4.58e+01  4.63e+01]\n",
      " [ 9.39e-03  2.80e-01]\n",
      " [ 9.06e+01  9.07e+01]\n",
      " [ 4.69e+00  4.42e+00]\n",
      " [ 9.21e-01  1.35e+00]\n",
      " [ 6.10e+01  6.08e+01]\n",
      " [ 4.08e-01  3.93e-01]\n",
      " [ 1.51e+00  1.57e+00]]\n"
     ]
    }
   ],
   "source": [
    "y_pred = ann.predict(X_test)\n",
    "np.set_printoptions(precision=2)\n",
    "print(np.concatenate((y_pred.reshape(len(y_pred),1), y_test.reshape(len(y_test),1)),1))"
   ]
  },
  {
   "cell_type": "code",
   "execution_count": 19,
   "metadata": {
    "ExecuteTime": {
     "end_time": "2024-08-02T04:15:38.170293200Z",
     "start_time": "2024-08-02T04:15:37.841756800Z"
    }
   },
   "outputs": [
    {
     "data": {
      "text/plain": "Text(0, 0.5, 'Predicted data')"
     },
     "execution_count": 19,
     "metadata": {},
     "output_type": "execute_result"
    },
    {
     "data": {
      "text/plain": "<Figure size 640x480 with 1 Axes>",
      "image/png": "[encoded data removed]"
     },
     "metadata": {},
     "output_type": "display_data"
    }
   ],
   "source": [
    "import matplotlib.pyplot as plt\n",
    "plt.scatter(y_test, y_pred, color=\"blue\")\n",
    "#plt.plot ([0,0.085],[0,0.085], color = \"red\")\n",
    "#plt.axis ([0,0.085,0,0.085])\n",
    "plt.xlabel ('Actual data')\n",
    "plt.ylabel ('Predicted data')"
   ]
  },
  {
   "cell_type": "code",
   "execution_count": 20,
   "metadata": {
    "ExecuteTime": {
     "end_time": "2024-08-02T04:15:52.897175400Z",
     "start_time": "2024-08-02T04:15:51.671803600Z"
    }
   },
   "outputs": [
    {
     "data": {
      "text/plain": "<Figure size 900x900 with 1 Axes>",
      "image/png": "[encoded data removed]"
     },
     "metadata": {},
     "output_type": "display_data"
    }
   ],
   "source": [
    "from sklearn.metrics import r2_score\n",
    "# Initialize layout\n",
    "fig1, ax1 = plt.subplots(figsize = (9, 9))\n",
    "\n",
    "# Add scatterplot\n",
    "ax1.scatter(y_test, y_pred, s=70, alpha=1, edgecolors=\"k\",c='mediumblue',zorder=5, label = 'Points')\n",
    "\n",
    "\n",
    "plt.ylabel('Predicted Arrival Time (ms)',fontsize = 25)\n",
    "plt.xlabel('Target Arrival Time (ms)',fontsize = 25)\n",
    "plt.xticks(fontsize = 19)\n",
    "plt.yticks(fontsize = 19)\n",
    "\n",
    "\n",
    "x1 = np.linspace(0,120)\n",
    "\n",
    "plt.plot(x1, x1, 'Red', label='45\\N{DEGREE SIGN} line',lw=2.5,alpha=1)\n",
    "plt.plot(x1, 1.1*x1, '--m', label='\\u00B110% Error',lw=2.5,alpha=0.7)\n",
    "plt.plot(x1, 0.9*x1,'m', linestyle='--',lw=2.5,alpha=0.7)\n",
    "plt.plot(x1, 1.2*x1, '-.g', label='\\u00B120% Error',lw=2.5,alpha=0.7)\n",
    "plt.plot(x1, 0.8*x1,'-.g',lw=2.5,alpha=0.7)\n",
    "\n",
    "plt.ylim(0, 120)\n",
    "plt.xlim(0, 120)\n",
    "plt.legend(loc='upper left',fontsize = 25)\n",
    "\n",
    "plt.grid()\n",
    "\n",
    "ax1.spines['left'].set_color('black')        # setting up Y-axis tick color to red\n",
    "ax1.spines['bottom'].set_color('black')         #setting up above X-axis tick color to red\n",
    "\n",
    "plt.savefig('Arrival_ANN2.png', dpi = 300, bbox_inches = 'tight')"
   ]
  },
  {
   "cell_type": "code",
   "execution_count": 21,
   "metadata": {
    "ExecuteTime": {
     "end_time": "2024-08-02T04:16:06.045256200Z",
     "start_time": "2024-08-02T04:16:05.732858700Z"
    }
   },
   "outputs": [
    {
     "name": "stdout",
     "output_type": "stream",
     "text": [
      "39/39 [==============================] - 0s 1ms/step\n",
      "0.3169684045901638\n",
      "0.35350562856995404\n"
     ]
    }
   ],
   "source": [
    "trainpreds = ann.predict(X_train)\n",
    "\n",
    "from sklearn.metrics import mean_absolute_error\n",
    "print(mean_absolute_error(y_train, trainpreds)) # train\n",
    "print(mean_absolute_error(y_test, y_pred)) # test"
   ]
  },
  {
   "cell_type": "code",
   "execution_count": 22,
   "metadata": {
    "ExecuteTime": {
     "end_time": "2024-08-02T04:16:07.389268500Z",
     "start_time": "2024-08-02T04:16:07.279841600Z"
    }
   },
   "outputs": [
    {
     "name": "stdout",
     "output_type": "stream",
     "text": [
      "0.9997416501472126\n"
     ]
    }
   ],
   "source": [
    "from sklearn.metrics import r2_score\n",
    "r2 = r2_score(y_test, y_pred)\n",
    "print (r2)"
   ]
  },
  {
   "cell_type": "code",
   "execution_count": 23,
   "metadata": {
    "ExecuteTime": {
     "end_time": "2024-08-02T04:16:08.687114400Z",
     "start_time": "2024-08-02T04:16:08.467282Z"
    }
   },
   "outputs": [
    {
     "name": "stdout",
     "output_type": "stream",
     "text": [
      "0.9997850863422224\n"
     ]
    }
   ],
   "source": [
    "r2_train = r2_score(y_train, trainpreds)\n",
    "print (r2_train)"
   ]
  },
  {
   "cell_type": "code",
   "execution_count": 24,
   "metadata": {
    "ExecuteTime": {
     "end_time": "2024-08-02T04:16:09.904770500Z",
     "start_time": "2024-08-02T04:16:09.717034100Z"
    }
   },
   "outputs": [
    {
     "name": "stdout",
     "output_type": "stream",
     "text": [
      "Within 10% margin 75.67%\n",
      "Within 20% margin 85.17%\n",
      "Out of 20% margin 14.83%\n"
     ]
    }
   ],
   "source": [
    "count1 = 0\n",
    "for i in range(len(y_pred)):\n",
    "    line1 = y_pred[i] - 0.9*y_test[i]\n",
    "    line2 = y_pred[i] - 1.1*y_test[i]\n",
    "    #print ('line 1 ', line1)\n",
    "    #print ('line 2 ', line2)\n",
    "    mask1 = (line1 > 0) & (line2 < 0)\n",
    "    #print (mask)\n",
    "    count1 = np.sum(mask1+count1)\n",
    "    #print (count)\n",
    "\n",
    "count2 = 0\n",
    "for j in range(len(y_pred)):\n",
    "    line3 = y_pred[j] - 0.8*y_test[j]\n",
    "    line4 = y_pred[j] - 1.2*y_test[j]\n",
    "    mask2 = (line3 > 0) & (line4 < 0)\n",
    "    count2 = np.sum(mask2+count2)\n",
    "\n",
    "\n",
    "count3 = 0    \n",
    "for k in range(len(y_pred)):\n",
    "    line5 = y_pred[k] - 0.8*y_test[k]\n",
    "    line6 = y_pred[k] - 1.2*y_test[k]\n",
    "    mask3 = (line5 < 0) or (line6 > 0)\n",
    "    count3 = np.sum(mask3+count3)\n",
    "   \n",
    "\n",
    "print ('Within 10% margin', format((count1/len (y_pred)),'.2%'))\n",
    "print ('Within 20% margin', format((count2/len (y_pred)),'.2%'))\n",
    "print ('Out of 20% margin', format((count3/len (y_pred)),'.2%'))"
   ]
  },
  {
   "cell_type": "code",
   "execution_count": 25,
   "metadata": {
    "ExecuteTime": {
     "end_time": "2024-08-02T04:16:31.832735200Z",
     "start_time": "2024-08-02T04:16:31.763882500Z"
    }
   },
   "outputs": [
    {
     "name": "stdout",
     "output_type": "stream",
     "text": [
      "0.9997386576778753\n"
     ]
    }
   ],
   "source": [
    "adj_r2 = 1 - ((1 - r2) * (len(X_test) - 1) / (len(X_test) - len (X_test[0]) - 1))\n",
    "print (adj_r2)"
   ]
  },
  {
   "cell_type": "code",
   "execution_count": 26,
   "metadata": {
    "ExecuteTime": {
     "end_time": "2024-08-02T04:16:33.221949900Z",
     "start_time": "2024-08-02T04:16:32.990832700Z"
    }
   },
   "outputs": [
    {
     "data": {
      "text/plain": "0.49947803555126447"
     },
     "execution_count": 26,
     "metadata": {},
     "output_type": "execute_result"
    }
   ],
   "source": [
    "import math\n",
    "from sklearn.metrics import mean_squared_error\n",
    "\n",
    "math.sqrt(mean_squared_error(y_test, y_pred))"
   ]
  },
  {
   "cell_type": "code",
   "execution_count": 27,
   "metadata": {
    "ExecuteTime": {
     "end_time": "2024-08-02T04:16:34.353180600Z",
     "start_time": "2024-08-02T04:16:34.240349Z"
    }
   },
   "outputs": [
    {
     "data": {
      "text/plain": "0.35350562856995404"
     },
     "execution_count": 27,
     "metadata": {},
     "output_type": "execute_result"
    }
   ],
   "source": [
    "from sklearn.metrics import mean_absolute_error\n",
    "\n",
    "mean_absolute_error(y_test, y_pred)"
   ]
  }
 ],
 "metadata": {
  "colab": {
   "collapsed_sections": [],
   "name": "Artificial Neural Network",
   "provenance": [],
   "toc_visible": true
  },
  "kernelspec": {
   "display_name": "Python 3 (ipykernel)",
   "language": "python",
   "name": "python3"
  },
  "language_info": {
   "codemirror_mode": {
    "name": "ipython",
    "version": 3
   },
   "file_extension": ".py",
   "mimetype": "text/x-python",
   "name": "python",
   "nbconvert_exporter": "python",
   "pygments_lexer": "ipython3",
   "version": "3.9.7"
  }
 },
 "nbformat": 4,
 "nbformat_minor": 4
}
