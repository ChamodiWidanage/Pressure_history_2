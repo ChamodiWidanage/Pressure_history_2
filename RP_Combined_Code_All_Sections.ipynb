{
 "cells": [
  {
   "cell_type": "markdown",
   "source": [
    "## Importing libraries and files"
   ],
   "metadata": {
    "collapsed": false
   },
   "id": "498e1bf0a688a38b"
  },
  {
   "cell_type": "code",
   "execution_count": 1,
   "outputs": [],
   "source": [
    "import pandas as pd\n",
    "from keras.models import load_model\n",
    "import pickle\n",
    "import numpy as np\n",
    "import matplotlib.pyplot as plt\n",
    "from pathlib import Path\n",
    "from prettytable import PrettyTable\n",
    "\n",
    "ann_arr = load_model('RP_Arrival_time/Arrival_ANN4')\n",
    "ann_end = load_model('RP_End_time/End_ANN4')\n",
    "ann_chg = load_model('RP_Change_time/Change_ANN1')\n",
    "\n",
    "#Section1\n",
    "ann1 = load_model('RP_Section_1_new3/Section1_new3_ANN_2')\n",
    "sc1 = pickle.load(open('RP_Section_1_new3/Section1_new3_scaler_ANN_2.pkl', 'rb'))\n",
    "#Section2\n",
    "ann2 = load_model('RP_Section_2_new2/Section2_new_ANN_2')\n",
    "sc2 = pickle.load(open('RP_Section_2_new/Section2_new_scaler_ANN_2.pkl', 'rb'))\n",
    "#Section3\n",
    "ann3 = load_model('RP_Section_3_new/Section3_new_ANN_2')\n",
    "sc3 = pickle.load(open('RP_Section_3_new/Section3_new_scaler_ANN_2.pkl', 'rb'))\n",
    "#Section4\n",
    "ann4 = load_model('RP_Section_4_new/Section4_new_ANN_7')\n",
    "sc4 = pickle.load(open('RP_Section_4_new/Section4_new_scaler_ANN_7.pkl', 'rb'))\n",
    "#Section5\n",
    "ann5 = load_model('RP_Section_5_new/Section5_new_ANN_4')\n",
    "sc5 = pickle.load(open('RP_Section_5_new/Section5_new_scaler_ANN_4.pkl', 'rb'))\n",
    "#Section6\n",
    "ann6 = load_model('RP_Section_6_new/Section6_new_ANN_2')\n",
    "sc6 = pickle.load(open('RP_Section_6_new/Section6_new_scaler_ANN_2.pkl', 'rb'))"
   ],
   "metadata": {
    "collapsed": false,
    "ExecuteTime": {
     "end_time": "2024-09-11T14:58:10.621874Z",
     "start_time": "2024-09-11T14:57:58.744382700Z"
    }
   },
   "id": "3122126ae010792f"
  },
  {
   "cell_type": "markdown",
   "source": [
    "## Input details"
   ],
   "metadata": {
    "collapsed": false
   },
   "id": "5f559d0fa330bc79"
  },
  {
   "cell_type": "code",
   "execution_count": 21,
   "outputs": [],
   "source": [
    "Mass = 15.8\n",
    "Standoff_distance = 2.2\n",
    "Angle = 0\n",
    "start_time = 0.947713\n",
    "termination_time = 14\n",
    "interval = 0.0028\n",
    "Time_adj = 0\n",
    "Pressure_adj = 101.25"
   ],
   "metadata": {
    "collapsed": false,
    "ExecuteTime": {
     "end_time": "2024-09-11T15:00:18.931608300Z",
     "start_time": "2024-09-11T15:00:18.824018800Z"
    }
   },
   "id": "799ba05d5cac9d28"
  },
  {
   "cell_type": "markdown",
   "source": [
    "## Pressure Profile"
   ],
   "metadata": {
    "collapsed": false
   },
   "id": "4682781d5ba61ce7"
  },
  {
   "cell_type": "code",
   "execution_count": 22,
   "outputs": [
    {
     "name": "stdout",
     "output_type": "stream",
     "text": [
      "1/1 [==============================] - 0s 27ms/step\n",
      "1/1 [==============================] - 0s 41ms/step\n",
      "1/1 [==============================] - 0s 39ms/step\n",
      "arrival [[1.0994965]] end [[17.015318]] change [[2.809203]]\n",
      "  1/145 [..............................] - ETA: 5s"
     ]
    },
    {
     "name": "stderr",
     "output_type": "stream",
     "text": [
      "C:\\Users\\z5379606\\AppData\\Local\\Temp\\ipykernel_32996\\1261820028.py:10: DeprecationWarning: Conversion of an array with ndim > 0 to a scalar is deprecated, and will error in future. Ensure you extract a single element from your array before performing this operation. (Deprecated NumPy 1.25.)\n",
      "  t = np.arange(start, end + interval, interval)\n",
      "C:\\Users\\z5379606\\AppData\\Local\\Temp\\ipykernel_32996\\1261820028.py:73: DeprecationWarning: Conversion of an array with ndim > 0 to a scalar is deprecated, and will error in future. Ensure you extract a single element from your array before performing this operation. (Deprecated NumPy 1.25.)\n",
      "  t2= np.arange(arrival_time, end_time + interval, interval)\n"
     ]
    },
    {
     "name": "stdout",
     "output_type": "stream",
     "text": [
      "145/145 [==============================] - 0s 3ms/step\n",
      "1\n"
     ]
    }
   ],
   "source": [
    "arr = np.array ([[Mass,Standoff_distance, Angle]])\n",
    "\n",
    "arrival_time = ann_arr.predict(arr)\n",
    "end_time = ann_end.predict(arr)\n",
    "change_time = ann_chg.predict(arr)\n",
    "\n",
    "print (\"arrival\", arrival_time, \"end\", end_time, \"change\", change_time)\n",
    "\n",
    "def stable_state(start, end, interval):    \n",
    "    t = np.arange(start, end + interval, interval)\n",
    "    t = t.reshape(len(t),1)\n",
    "\n",
    "    p = np.repeat(0, len(t)).reshape(len(t),1)\n",
    "    \n",
    "    values = np.concatenate ((t, p), axis = 1)\n",
    "    return values\n",
    "\n",
    "def p_fluctuation(standoff_distance, d_set):\n",
    "    if 1.5 <= standoff_distance <= 3:\n",
    "        d_set[:,0:4] = sc1.transform(d_set[:,0:4])\n",
    "        p_f = ann1.predict(d_set)\n",
    "        section = 1\n",
    "        \n",
    "    elif 3 < standoff_distance <= 7:\n",
    "        d_set[:,0:4] = sc2.transform(d_set[:,0:4])\n",
    "        p_f = ann2.predict(d_set)\n",
    "        section = 2\n",
    "        \n",
    "    elif 7 < standoff_distance <= 13:\n",
    "        d_set[:,0:4] = sc3.transform(d_set[:,0:4])\n",
    "        p_f = ann3.predict(d_set)\n",
    "        section = 3\n",
    "        \n",
    "    elif 13 < standoff_distance <= 19:\n",
    "        d_set[:,0:4] = sc4.transform(d_set[:,0:4])\n",
    "        p_f = ann4.predict(d_set)\n",
    "        section = 4\n",
    "        \n",
    "    elif 19 < standoff_distance <= 25:\n",
    "        d_set[:,0:4] = sc5.transform(d_set[:,0:4])\n",
    "        p_f = ann5.predict(d_set)\n",
    "        section = 5\n",
    "        \n",
    "    elif 25 < standoff_distance <= 30:\n",
    "        d_set[:,0:4] = sc6.transform(d_set[:,0:4])\n",
    "        p_f = ann6.predict(d_set)\n",
    "        section = 6\n",
    "        \n",
    "    else:\n",
    "        print (\"Out of trained range\")\n",
    "    return p_f, section\n",
    "\n",
    "if termination_time < arrival_time:\n",
    "    start = start_time\n",
    "    end = termination_time\n",
    "    values1 = stable_state(start, end, interval)\n",
    "    arrival_time = 0\n",
    "    end_time = 0\n",
    "\n",
    "else:\n",
    "    start = start_time\n",
    "    end = arrival_time\n",
    "    values1 = stable_state(start, end, interval)\n",
    "    \n",
    "    if termination_time < end_time:\n",
    "        end_time = termination_time\n",
    "        \n",
    "    else:\n",
    "        start = end_time\n",
    "        end = termination_time\n",
    "        values3 = stable_state(start, end, interval)\n",
    "\n",
    "t2= np.arange(arrival_time, end_time + interval, interval)\n",
    "t2 = t2.reshape(len(t2),1)\n",
    "\n",
    "if t2[0] < change_time:\n",
    "    ph2 = np.array([[0, 1]])\n",
    "else:\n",
    "    ph2 = np.array([[1, 0]])\n",
    "    \n",
    "positive = np.array([0, 1])\n",
    "negative= np.array([1, 0])\n",
    "\n",
    "for time in t2[1:]:\n",
    "    if time < change_time:\n",
    "        ph2=np.vstack((ph2,positive))\n",
    "    else:\n",
    "        ph2=np.vstack((ph2,negative))\n",
    "        \n",
    "m2 = np.repeat(Mass, len(t2)).reshape(len(t2),1)\n",
    "d2 = np.repeat(Standoff_distance, len(t2)).reshape(len(t2),1)\n",
    "a2 = np.repeat(Angle, len(t2)).reshape(len(t2),1)\n",
    "d_set = np.concatenate ((m2, d2, a2, t2, ph2), axis = 1)\n",
    "\n",
    "#p2 = p_fluctuation(Standoff_distance, d_set)\n",
    "p2, section = p_fluctuation(Standoff_distance, d_set)\n",
    "p2 = p2.reshape((-1, 1))\n",
    "values2 = np.concatenate ((t2, p2), axis = 1)\n",
    "\n",
    "\n",
    "if 'values2' in globals():\n",
    "    ml_model = np.concatenate((values1, values2), axis=0)\n",
    "    if 'values3' in globals():\n",
    "        ml_model = np.concatenate((ml_model, values3), axis=0)\n",
    "else:\n",
    "    ml_model = values1\n",
    "    \n",
    "X1 = ml_model[:,0]\n",
    "y1 = ml_model[:,1]\n",
    "print (section)"
   ],
   "metadata": {
    "collapsed": false,
    "ExecuteTime": {
     "end_time": "2024-09-11T15:00:21.717517600Z",
     "start_time": "2024-09-11T15:00:20.661011500Z"
    }
   },
   "id": "11caee01fcf75405"
  },
  {
   "cell_type": "code",
   "execution_count": 384,
   "outputs": [
    {
     "name": "stdout",
     "output_type": "stream",
     "text": [
      "Numerical length 1448 ANN-based length 1447\n"
     ]
    },
    {
     "name": "stderr",
     "output_type": "stream",
     "text": [
      "C:\\Users\\z5379606\\AppData\\Local\\Temp\\ipykernel_19004\\4071666404.py:2: ParserWarning: Falling back to the 'python' engine because the 'c' engine does not support skipfooter; you can avoid this warning by specifying engine='python'.\n",
      "  lsdyna = pd.read_csv(file_path, delimiter=\"\\s+\", skiprows = 8, skipfooter = 1, header = None, names = [\"Time\", \"Pressure\"])\n"
     ]
    }
   ],
   "source": [
    "file_path = Path(f'G:/Chamodi/LSDYNA3D/RP_TH_models/RP_Comparison_with_Numerical/{Standoff_distance}m{Mass}kg/{Angle}')\n",
    "lsdyna = pd.read_csv(file_path, delimiter=\"\\s+\", skiprows = 8, skipfooter = 1, header = None, names = [\"Time\", \"Pressure\"])\n",
    "\n",
    "X2_original = lsdyna['Time']\n",
    "y2_original = lsdyna['Pressure']\n",
    "\n",
    "X2_original=(X2_original*1000)+ Time_adj\n",
    "y2_original=(y2_original/1000)- Pressure_adj\n",
    "\n",
    "# Find the indices for the two values closest to value1 and value2\n",
    "index1 = (np.abs(X2_original - start_time)).argmin()\n",
    "index2 = (np.abs(X2_original - termination_time)).argmin()\n",
    "\n",
    "# Extract the ranges from X2 and y2 based on the indices\n",
    "X2_original = X2_original[index1:index2+1]\n",
    "y2_original = y2_original[index1:index2+1]\n",
    "\n",
    "X2_original = X2_original.to_numpy()\n",
    "y2_original = y2_original.to_numpy()\n",
    "\n",
    "print(\"Numerical length\",len(y2_original), \"ANN-based length\", len(y1))"
   ],
   "metadata": {
    "collapsed": false,
    "ExecuteTime": {
     "end_time": "2024-09-11T14:33:59.463186100Z",
     "start_time": "2024-09-11T14:33:59.419626700Z"
    }
   },
   "id": "cbc49728bb5183d5"
  },
  {
   "cell_type": "code",
   "execution_count": 327,
   "outputs": [
    {
     "name": "stdout",
     "output_type": "stream",
     "text": [
      "ANN: 1344 Num: 1344\n",
      "ANN: 1344 Num: 1344\n"
     ]
    }
   ],
   "source": [
    "X1=X1[:-1]\n",
    "y1=y1[:-1]\n",
    "print(\"ANN:\",len(X1),\"Num:\",len(X2_original))\n",
    "print(\"ANN:\",len(y1),\"Num:\",len(y2_original))"
   ],
   "metadata": {
    "collapsed": false,
    "ExecuteTime": {
     "end_time": "2024-09-11T14:24:23.439762800Z",
     "start_time": "2024-09-11T14:24:23.406241300Z"
    }
   },
   "id": "7b3ae1f8984ea311"
  },
  {
   "cell_type": "code",
   "execution_count": 386,
   "outputs": [
    {
     "name": "stdout",
     "output_type": "stream",
     "text": [
      "ANN: 1447 Num: 1447\n",
      "ANN: 1447 Num: 1447\n"
     ]
    }
   ],
   "source": [
    "X2_original=X2_original[:-1]\n",
    "y2_original=y2_original[:-1]\n",
    "print(\"ANN:\",len(X1),\"Num:\",len(X2_original))\n",
    "print(\"ANN:\",len(y1),\"Num:\",len(y2_original))"
   ],
   "metadata": {
    "collapsed": false,
    "ExecuteTime": {
     "end_time": "2024-09-11T14:34:18.459708700Z",
     "start_time": "2024-09-11T14:34:18.416175Z"
    }
   },
   "id": "a1f3ba0c6011c1a6"
  },
  {
   "cell_type": "code",
   "execution_count": 5,
   "outputs": [
    {
     "name": "stdout",
     "output_type": "stream",
     "text": [
      "ANN [ 0.947713    0.957713    0.967713   ... 13.98948419 13.99948418\n",
      " 14.00948417]\n",
      "Num [ 0.947713   0.9498214  0.9519356 ... 13.99244   13.9964    14.00036  ]\n"
     ]
    }
   ],
   "source": [
    "print(\"ANN\",X1)\n",
    "print(\"Num\",X2_original)"
   ],
   "metadata": {
    "collapsed": false,
    "ExecuteTime": {
     "end_time": "2024-09-11T14:58:25.019440600Z",
     "start_time": "2024-09-11T14:58:24.981411300Z"
    }
   },
   "id": "2df2098998b7cb79"
  },
  {
   "cell_type": "code",
   "execution_count": 23,
   "outputs": [
    {
     "name": "stdout",
     "output_type": "stream",
     "text": [
      "Numerical length 4569 ANN-based length 4665\n"
     ]
    }
   ],
   "source": [
    "file_path = Path(f'G:/Chamodi/LSDYNA3D/RP_TH_models/RP_Comparison_with_Numerical/{Standoff_distance}m{Mass}kg/{Angle}.xlsx')\n",
    "lsdyna = pd.read_excel(file_path, names = [\"Time\", \"Pressure\"])\n",
    "\n",
    "X2_original = lsdyna['Time']\n",
    "y2_original = lsdyna['Pressure']\n",
    "\n",
    "X2_original=(X2_original*1000)+ Time_adj\n",
    "y2_original=(y2_original/1000)- Pressure_adj\n",
    "\n",
    "# Find the indices for the two values closest to value1 and value2\n",
    "index1 = (np.abs(X2_original - start_time)).argmin()\n",
    "index2 = (np.abs(X2_original - termination_time)).argmin()\n",
    "\n",
    "# Extract the ranges from X2 and y2 based on the indices\n",
    "X2_original = X2_original[index1:index2+1]\n",
    "y2_original = y2_original[index1:index2+1]\n",
    "\n",
    "X2_original = X2_original.to_numpy()\n",
    "y2_original = y2_original.to_numpy()\n",
    "\n",
    "print(\"Numerical length\",len(y2_original), \"ANN-based length\", len(y1))"
   ],
   "metadata": {
    "collapsed": false,
    "ExecuteTime": {
     "end_time": "2024-09-11T15:00:24.380765900Z",
     "start_time": "2024-09-11T15:00:24.167937400Z"
    }
   },
   "id": "97458bdfdcf98b66"
  },
  {
   "cell_type": "code",
   "execution_count": 24,
   "outputs": [
    {
     "name": "stdout",
     "output_type": "stream",
     "text": [
      "[ 52 354]\n"
     ]
    },
    {
     "ename": "IndexError",
     "evalue": "index 2 is out of bounds for axis 0 with size 2",
     "output_type": "error",
     "traceback": [
      "\u001B[1;31m---------------------------------------------------------------------------\u001B[0m",
      "\u001B[1;31mIndexError\u001B[0m                                Traceback (most recent call last)",
      "Cell \u001B[1;32mIn[24], line 22\u001B[0m\n\u001B[0;32m     20\u001B[0m window_radius_r \u001B[38;5;241m=\u001B[39m \u001B[38;5;241m80\u001B[39m\n\u001B[0;32m     21\u001B[0m window_radius_l \u001B[38;5;241m=\u001B[39m \u001B[38;5;241m30\u001B[39m \u001B[38;5;66;03m# Adjust the window radius as needed\u001B[39;00m\n\u001B[1;32m---> 22\u001B[0m selected_peaks \u001B[38;5;241m=\u001B[39m [\u001B[43mpeaks\u001B[49m\u001B[43m[\u001B[49m\u001B[38;5;241;43m2\u001B[39;49m\u001B[43m]\u001B[49m]\n\u001B[0;32m     24\u001B[0m \u001B[38;5;28;01mfor\u001B[39;00m peak_index \u001B[38;5;129;01min\u001B[39;00m selected_peaks:\n\u001B[0;32m     25\u001B[0m     start \u001B[38;5;241m=\u001B[39m \u001B[38;5;28mmax\u001B[39m(peak_index \u001B[38;5;241m-\u001B[39m window_radius_l, \u001B[38;5;241m0\u001B[39m)\n",
      "\u001B[1;31mIndexError\u001B[0m: index 2 is out of bounds for axis 0 with size 2"
     ]
    }
   ],
   "source": [
    "from scipy.signal import find_peaks\n",
    "\n",
    "# Identify peaks with tolerance parameters\n",
    "height_threshold = 0.1  # Minimum height of peaks to detect\n",
    "prominence = 0.01  # Minimum prominence of peaks in pressure units\n",
    "width = 5  # Minimum width of peaks in time units\n",
    "\n",
    "# Find peaks\n",
    "peaks, properties = find_peaks(y2_original, height=height_threshold, prominence=prominence, width=width)\n",
    "print (peaks)\n",
    "\n",
    "# Ensure there are at least two peaks\n",
    "if len(peaks) >= 1:\n",
    "    #first_peak_index = peaks[0]\n",
    "\n",
    "    # Create a copy of pressure data to modify\n",
    "    smoothed_pressure = np.copy(y2_original)\n",
    "\n",
    "    # Define a window around each peak after the first peak to apply smoothing\n",
    "    window_radius_r = 80\n",
    "    window_radius_l = 30 # Adjust the window radius as needed\n",
    "    selected_peaks = [peaks[2]]\n",
    "\n",
    "    for peak_index in selected_peaks:\n",
    "        start = max(peak_index - window_radius_l, 0)\n",
    "        end = min(peak_index + window_radius_r + 1, len(y2_original))\n",
    "\n",
    "        # Extract values just outside the window\n",
    "        if start > 0 and end < len(y2_original):\n",
    "            start_value = y2_original[start - 1]\n",
    "            end_value = y2_original[end]\n",
    "        elif start > 0:\n",
    "            start_value = y2_original[start - 1]\n",
    "            end_value = start_value\n",
    "        elif end < len(y2_original):\n",
    "            end_value = y2_original[end]\n",
    "            start_value = end_value\n",
    "        else:\n",
    "            start_value = end_value = np.mean(y2_original)  # Fallback in case there are no valid points\n",
    "\n",
    "        # Create a linearly spaced array between start_value and end_value\n",
    "        interpolated_values = np.linspace(start_value, end_value, end - start)\n",
    "\n",
    "        # Apply the interpolated values to the points within the window\n",
    "        smoothed_pressure[start:end] = interpolated_values\n",
    "        \n",
    "y2 = smoothed_pressure\n",
    "X2 = X2_original\n",
    "\n",
    "plt.figure(figsize=(6,6))\n",
    "plt.plot(X2_original,y2_original, color = 'blue',label = 'Numerical')\n",
    "plt.plot(X2, y2, color = 'red',label = 'Numerical')\n",
    "# Mark the peaks on the plot\n",
    "plt.scatter(X2_original[peaks], y2_original[peaks], color='green', s=50, label='Peaks', zorder=5)\n",
    "plt.show()"
   ],
   "metadata": {
    "collapsed": false,
    "ExecuteTime": {
     "end_time": "2024-09-11T15:00:35.259380200Z",
     "start_time": "2024-09-11T15:00:32.947468600Z"
    }
   },
   "id": "97799b4f82c799bf"
  },
  {
   "cell_type": "code",
   "execution_count": 48,
   "outputs": [
    {
     "name": "stderr",
     "output_type": "stream",
     "text": [
      "C:\\Users\\z5379606\\AppData\\Local\\Temp\\ipykernel_25572\\4178299979.py:21: DeprecationWarning: Conversion of an array with ndim > 0 to a scalar is deprecated, and will error in future. Ensure you extract a single element from your array before performing this operation. (Deprecated NumPy 1.25.)\n",
      "  positive_duration_ann = float(change_time - arrival_time)\n",
      "C:\\Users\\z5379606\\AppData\\Local\\Temp\\ipykernel_25572\\4178299979.py:27: DeprecationWarning: Conversion of an array with ndim > 0 to a scalar is deprecated, and will error in future. Ensure you extract a single element from your array before performing this operation. (Deprecated NumPy 1.25.)\n",
      "  positive_peak_pressure_ann = float(p2[max_index_ann])\n",
      "C:\\Users\\z5379606\\AppData\\Local\\Temp\\ipykernel_25572\\4178299979.py:28: DeprecationWarning: Conversion of an array with ndim > 0 to a scalar is deprecated, and will error in future. Ensure you extract a single element from your array before performing this operation. (Deprecated NumPy 1.25.)\n",
      "  negative_peak_pressure_ann = float(p2[min_index_ann])\n",
      "C:\\Users\\z5379606\\AppData\\Local\\Temp\\ipykernel_25572\\4178299979.py:30: DeprecationWarning: Conversion of an array with ndim > 0 to a scalar is deprecated, and will error in future. Ensure you extract a single element from your array before performing this operation. (Deprecated NumPy 1.25.)\n",
      "  positive_peak_time_ann = float(t2[max_index_ann])\n",
      "C:\\Users\\z5379606\\AppData\\Local\\Temp\\ipykernel_25572\\4178299979.py:31: DeprecationWarning: Conversion of an array with ndim > 0 to a scalar is deprecated, and will error in future. Ensure you extract a single element from your array before performing this operation. (Deprecated NumPy 1.25.)\n",
      "  negative_peak_time_ann = float(t2[min_index_ann])\n"
     ]
    }
   ],
   "source": [
    "# Numerical\n",
    "max_index_num = np.argmax(y2)\n",
    "min_index_num = np.argmin(y2)\n",
    "\n",
    "zero_crossing_index = next((i for i, val in enumerate(y2[max_index_num:min_index_num], start=0) if val <= 0), None)+max_index_num\n",
    "\n",
    "change_time_num = X2[zero_crossing_index]\n",
    "\n",
    "\n",
    "positive_duration_num = change_time_num - X2[max_index_num]\n",
    "#negative_duration_num = end_time_num - change_time_num\n",
    "\n",
    "\n",
    "positive_peak_pressure_num = y2[max_index_num]\n",
    "negative_peak_pressure_num = y2[min_index_num]\n",
    "\n",
    "positive_peak_time_num = X2[max_index_num]\n",
    "negative_peak_time_num = X2[min_index_num]\n",
    "\n",
    "# ANN-based\n",
    "positive_duration_ann = float(change_time - arrival_time)\n",
    "#negative_duration_ann = float(end_time - change_time)\n",
    "\n",
    "max_index_ann = np.argmax(p2)\n",
    "min_index_ann = np.argmin(p2)\n",
    "\n",
    "positive_peak_pressure_ann = float(p2[max_index_ann])\n",
    "negative_peak_pressure_ann = float(p2[min_index_ann])\n",
    "\n",
    "positive_peak_time_ann = float(t2[max_index_ann])\n",
    "negative_peak_time_ann = float(t2[min_index_ann])"
   ],
   "metadata": {
    "collapsed": false,
    "ExecuteTime": {
     "end_time": "2024-09-11T12:07:16.330080700Z",
     "start_time": "2024-09-11T12:07:16.279470200Z"
    }
   },
   "id": "e19318b21a850812"
  },
  {
   "cell_type": "code",
   "execution_count": 25,
   "outputs": [
    {
     "ename": "NameError",
     "evalue": "name 'y2' is not defined",
     "output_type": "error",
     "traceback": [
      "\u001B[1;31m---------------------------------------------------------------------------\u001B[0m",
      "\u001B[1;31mNameError\u001B[0m                                 Traceback (most recent call last)",
      "Cell \u001B[1;32mIn[25], line 2\u001B[0m\n\u001B[0;32m      1\u001B[0m \u001B[38;5;66;03m# Numerical\u001B[39;00m\n\u001B[1;32m----> 2\u001B[0m max_index_num \u001B[38;5;241m=\u001B[39m np\u001B[38;5;241m.\u001B[39margmax(\u001B[43my2\u001B[49m)\n\u001B[0;32m      3\u001B[0m \u001B[38;5;66;03m#min_index_num = np.argmin(y2)\u001B[39;00m\n\u001B[0;32m      5\u001B[0m zero_crossing_index \u001B[38;5;241m=\u001B[39m \u001B[38;5;28mnext\u001B[39m((i \u001B[38;5;28;01mfor\u001B[39;00m i, val \u001B[38;5;129;01min\u001B[39;00m \u001B[38;5;28menumerate\u001B[39m(y2[max_index_num:], start\u001B[38;5;241m=\u001B[39m\u001B[38;5;241m0\u001B[39m) \u001B[38;5;28;01mif\u001B[39;00m val \u001B[38;5;241m<\u001B[39m\u001B[38;5;241m=\u001B[39m \u001B[38;5;241m0\u001B[39m), \u001B[38;5;28;01mNone\u001B[39;00m)\u001B[38;5;241m+\u001B[39mmax_index_num\n",
      "\u001B[1;31mNameError\u001B[0m: name 'y2' is not defined"
     ]
    }
   ],
   "source": [
    "# Numerical\n",
    "max_index_num = np.argmax(y2)\n",
    "#min_index_num = np.argmin(y2)\n",
    "\n",
    "zero_crossing_index = next((i for i, val in enumerate(y2[max_index_num:], start=0) if val <= 0), None)+max_index_num\n",
    "\n",
    "change_time_num = X2[zero_crossing_index]\n",
    "\n",
    "min_index_num = np.argmin(y2[zero_crossing_index:])+zero_crossing_index\n",
    "\n",
    "\n",
    "positive_duration_num = change_time_num - X2[max_index_num]\n",
    "#negative_duration_num = end_time_num - change_time_num\n",
    "\n",
    "\n",
    "positive_peak_pressure_num = y2[max_index_num]\n",
    "negative_peak_pressure_num = y2[min_index_num]\n",
    "\n",
    "positive_peak_time_num = X2[max_index_num]\n",
    "negative_peak_time_num = X2[min_index_num]\n",
    "\n",
    "# ANN-based\n",
    "positive_duration_ann = float(change_time - arrival_time)\n",
    "#negative_duration_ann = float(end_time - change_time)\n",
    "\n",
    "max_index_ann = np.argmax(p2)\n",
    "min_index_ann = np.argmin(p2)\n",
    "\n",
    "positive_peak_pressure_ann = float(p2[max_index_ann])\n",
    "negative_peak_pressure_ann = float(p2[min_index_ann])\n",
    "\n",
    "positive_peak_time_ann = float(t2[max_index_ann])\n",
    "negative_peak_time_ann = float(t2[min_index_ann])\n",
    "\n",
    "print (max_index_num, zero_crossing_index, min_index_num)"
   ],
   "metadata": {
    "collapsed": false,
    "ExecuteTime": {
     "end_time": "2024-09-11T15:00:49.461001600Z",
     "start_time": "2024-09-11T15:00:49.371430100Z"
    }
   },
   "id": "700c594779d16511"
  },
  {
   "cell_type": "code",
   "execution_count": 8,
   "outputs": [],
   "source": [
    "plt.rcdefaults()"
   ],
   "metadata": {
    "collapsed": false,
    "ExecuteTime": {
     "end_time": "2024-09-11T12:08:47.034505600Z",
     "start_time": "2024-09-11T12:08:46.980953600Z"
    }
   },
   "id": "71d8220f48053d4e"
  },
  {
   "cell_type": "code",
   "execution_count": 394,
   "outputs": [
    {
     "data": {
      "text/plain": "<Figure size 600x600 with 1 Axes>",
      "image/png": "[encoded data removed]"
     },
     "metadata": {},
     "output_type": "display_data"
    }
   ],
   "source": [
    "plt.figure(figsize=(6,6))\n",
    "plt.rcParams[\"font.family\"] = \"Times New Roman\"\n",
    "plt.plot(X2, y2, color = 'blue',label = 'Numerical', linewidth=4)\n",
    "plt.plot(X1, y1, linestyle = 'dashed', color = 'red', label = 'ANN framework', linewidth=3)\n",
    "plt.ylabel('Reflected overpressure (kPa)',fontsize = 30)\n",
    "plt.xlabel('Time (ms)',fontsize = 30)\n",
    "plt.xticks(fontsize = 25)\n",
    "plt.yticks(fontsize = 25)\n",
    "#plt.legend(loc='upper center', bbox_to_anchor=(0.5, -0.15), ncol=2, frameon = False, fontsize = 20)\n",
    "\n",
    "# Create the annotation text\n",
    "#annotation_text = (f'Peak incident overpressure\\n\\nANN framework - {round(max(y1), 2)} kPa\\n'\n",
    "#                   f'Numerical - {round(max(y2), 2)} kPa')\n",
    "\n",
    "#plt.annotate(annotation_text,xy=(0.4,0.5), xycoords='figure fraction', fontsize=18)\n",
    "\n",
    "plt.xlim (start_time,termination_time)\n",
    "plt.savefig(f'RP_Num&ANN_Comparison/Section{section}_{Standoff_distance}m{Mass}kg/{Angle}deg.png', dpi=150, bbox_inches='tight')\n",
    "plt.show()"
   ],
   "metadata": {
    "collapsed": false,
    "ExecuteTime": {
     "end_time": "2024-09-11T14:35:19.236231200Z",
     "start_time": "2024-09-11T14:35:18.858391400Z"
    }
   },
   "id": "9f50e1c02b7aae2f"
  },
  {
   "cell_type": "code",
   "execution_count": 407,
   "outputs": [
    {
     "name": "stdout",
     "output_type": "stream",
     "text": [
      "[ 0.00000000e+00  0.00000000e+00  0.00000000e+00  0.00000000e+00\n",
      "  0.00000000e+00  0.00000000e+00  0.00000000e+00  0.00000000e+00\n",
      "  0.00000000e+00  0.00000000e+00  0.00000000e+00  0.00000000e+00\n",
      "  0.00000000e+00  0.00000000e+00  0.00000000e+00  0.00000000e+00\n",
      "  0.00000000e+00  0.00000000e+00  0.00000000e+00  0.00000000e+00\n",
      "  0.00000000e+00  0.00000000e+00  0.00000000e+00  0.00000000e+00\n",
      "  0.00000000e+00  0.00000000e+00  0.00000000e+00  0.00000000e+00\n",
      "  0.00000000e+00  0.00000000e+00  0.00000000e+00  0.00000000e+00\n",
      "  0.00000000e+00  0.00000000e+00  0.00000000e+00  0.00000000e+00\n",
      "  0.00000000e+00  0.00000000e+00  0.00000000e+00  0.00000000e+00\n",
      "  0.00000000e+00  0.00000000e+00  0.00000000e+00  0.00000000e+00\n",
      "  0.00000000e+00  0.00000000e+00  0.00000000e+00  0.00000000e+00\n",
      "  0.00000000e+00  0.00000000e+00  0.00000000e+00  0.00000000e+00\n",
      "  0.00000000e+00  0.00000000e+00  0.00000000e+00  0.00000000e+00\n",
      "  0.00000000e+00  0.00000000e+00  0.00000000e+00  0.00000000e+00\n",
      "  0.00000000e+00  0.00000000e+00  0.00000000e+00  0.00000000e+00\n",
      "  0.00000000e+00  0.00000000e+00  0.00000000e+00  0.00000000e+00\n",
      "  0.00000000e+00  0.00000000e+00  0.00000000e+00  0.00000000e+00\n",
      "  0.00000000e+00  0.00000000e+00  0.00000000e+00  0.00000000e+00\n",
      "  0.00000000e+00  0.00000000e+00  0.00000000e+00  0.00000000e+00\n",
      "  0.00000000e+00  0.00000000e+00  0.00000000e+00  0.00000000e+00\n",
      "  0.00000000e+00  0.00000000e+00  0.00000000e+00  0.00000000e+00\n",
      "  0.00000000e+00  0.00000000e+00  0.00000000e+00  0.00000000e+00\n",
      "  0.00000000e+00  0.00000000e+00  0.00000000e+00  0.00000000e+00\n",
      "  0.00000000e+00  0.00000000e+00  0.00000000e+00  0.00000000e+00\n",
      "  0.00000000e+00  0.00000000e+00  0.00000000e+00  0.00000000e+00\n",
      "  0.00000000e+00  0.00000000e+00  0.00000000e+00  0.00000000e+00\n",
      "  0.00000000e+00  0.00000000e+00  0.00000000e+00  0.00000000e+00\n",
      "  0.00000000e+00  0.00000000e+00  0.00000000e+00  0.00000000e+00\n",
      "  0.00000000e+00  0.00000000e+00  0.00000000e+00  0.00000000e+00\n",
      "  0.00000000e+00  0.00000000e+00  0.00000000e+00  0.00000000e+00\n",
      "  0.00000000e+00  0.00000000e+00  0.00000000e+00  0.00000000e+00\n",
      "  0.00000000e+00  0.00000000e+00  0.00000000e+00  0.00000000e+00\n",
      "  0.00000000e+00  0.00000000e+00  0.00000000e+00  0.00000000e+00\n",
      "  0.00000000e+00  0.00000000e+00  0.00000000e+00  0.00000000e+00\n",
      "  0.00000000e+00  0.00000000e+00  0.00000000e+00  0.00000000e+00\n",
      "  0.00000000e+00  0.00000000e+00  0.00000000e+00  0.00000000e+00\n",
      "  0.00000000e+00  0.00000000e+00  0.00000000e+00  0.00000000e+00\n",
      "  0.00000000e+00  0.00000000e+00  0.00000000e+00  0.00000000e+00\n",
      "  0.00000000e+00  0.00000000e+00  0.00000000e+00  0.00000000e+00\n",
      "  0.00000000e+00  0.00000000e+00  0.00000000e+00  0.00000000e+00\n",
      "  0.00000000e+00  0.00000000e+00  0.00000000e+00  0.00000000e+00\n",
      "  0.00000000e+00  0.00000000e+00  0.00000000e+00  0.00000000e+00\n",
      "  0.00000000e+00  0.00000000e+00  0.00000000e+00  0.00000000e+00\n",
      "  0.00000000e+00  0.00000000e+00  0.00000000e+00  0.00000000e+00\n",
      "  5.01829010e+02  4.92226776e+02  4.82614502e+02  4.72919769e+02\n",
      "  4.63321075e+02  4.53721771e+02  4.44360382e+02  4.35235321e+02\n",
      "  4.26363281e+02  4.16248779e+02  4.05246704e+02  3.94245209e+02\n",
      "  3.83090820e+02  3.72781342e+02  3.62525177e+02  3.52268494e+02\n",
      "  3.42088898e+02  3.32723694e+02  3.24347992e+02  3.16253693e+02\n",
      "  3.08158966e+02  2.99936462e+02  2.92310669e+02  2.84910004e+02\n",
      "  2.77361938e+02  2.69798035e+02  2.62456238e+02  2.55754745e+02\n",
      "  2.49591858e+02  2.43502167e+02  2.37426483e+02  2.31241165e+02\n",
      "  2.25055801e+02  2.18672470e+02  2.12122635e+02  2.06116898e+02\n",
      "  2.00147964e+02  1.94244431e+02  1.88427475e+02  1.82632736e+02\n",
      "  1.78057556e+02  1.73615677e+02  1.69173828e+02  1.64790512e+02\n",
      "  1.60755188e+02  1.57539597e+02  1.54547363e+02  1.51850677e+02\n",
      "  1.49203018e+02  1.46546967e+02  1.43817093e+02  1.41123245e+02\n",
      "  1.38436493e+02  1.35794052e+02  1.33161194e+02  1.30566147e+02\n",
      "  1.28033325e+02  1.25500473e+02  1.22971413e+02  1.20506889e+02\n",
      "  1.18211739e+02  1.16047791e+02  1.13400864e+02  1.10493683e+02\n",
      "  1.07736275e+02  1.05078247e+02  1.02650459e+02  1.00339790e+02\n",
      "  9.80599518e+01  9.58166351e+01  9.36466522e+01  9.14432373e+01\n",
      "  8.92554932e+01  8.70677185e+01  8.50159760e+01  8.33212051e+01\n",
      "  8.16264343e+01  7.99316559e+01  7.82368317e+01  7.65420609e+01\n",
      "  7.48472672e+01  7.31524963e+01  7.14668961e+01  6.99568939e+01\n",
      "  6.85190201e+01  6.71264420e+01  6.57338791e+01  6.43865433e+01\n",
      "  6.30294342e+01  6.17493172e+01  6.04946213e+01  5.92446976e+01\n",
      "  5.82646751e+01  5.73871460e+01  5.65444527e+01  5.57017365e+01\n",
      "  5.48590050e+01  5.40163155e+01  5.31610870e+01  5.23153992e+01\n",
      "  5.14724236e+01  5.06533012e+01  4.98646011e+01  4.90120964e+01\n",
      "  4.81388130e+01  4.72780647e+01  4.64489975e+01  4.57215080e+01\n",
      "  4.50956764e+01  4.44698563e+01  4.38581429e+01  4.33148613e+01\n",
      "  4.27715874e+01  4.22283134e+01  4.16850319e+01  4.11417656e+01\n",
      "  4.05984879e+01  4.00552025e+01  3.93718605e+01  3.86580849e+01\n",
      "  3.79465294e+01  3.72349968e+01  3.66064072e+01  3.57866249e+01\n",
      "  3.49535103e+01  3.42036705e+01  3.35955009e+01  3.29875908e+01\n",
      "  3.23861313e+01  3.17846832e+01  3.11832123e+01  3.05817528e+01\n",
      "  2.99710083e+01  2.93952332e+01  2.88323326e+01  2.82694206e+01\n",
      "  2.76572151e+01  2.70371361e+01  2.64554214e+01  2.59020691e+01\n",
      "  2.53353958e+01  2.47687378e+01  2.42020683e+01  2.36311188e+01\n",
      "  2.30589867e+01  2.25088081e+01  2.19586334e+01  2.14084587e+01\n",
      "  2.09473190e+01  2.05091972e+01  2.00690041e+01  1.96099358e+01\n",
      "  1.91505623e+01  1.86912041e+01  1.82318344e+01  1.77724762e+01\n",
      "  1.73072624e+01  1.68274345e+01  1.63476238e+01  1.58678055e+01\n",
      "  1.53879871e+01  1.49081726e+01  1.44616480e+01  1.41084948e+01\n",
      "  1.37553282e+01  1.33997879e+01  1.30432148e+01  1.26866589e+01\n",
      "  1.23301001e+01  1.19739199e+01  1.16177788e+01  1.12616243e+01\n",
      "  1.09054785e+01  1.05493326e+01  1.01931906e+01  9.83703995e+00\n",
      "  9.48088837e+00  9.12156868e+00  8.79713821e+00  8.51641083e+00\n",
      "  8.20780373e+00  7.86933708e+00  7.47739697e+00  7.05001640e+00\n",
      "  6.60781384e+00  6.14281511e+00  5.70220375e+00  5.34786510e+00\n",
      "  5.04227018e+00  4.76111221e+00  4.53227520e+00  4.33580303e+00\n",
      "  4.13933372e+00  4.00502205e+00  3.89074278e+00  3.78232288e+00\n",
      "  3.73217320e+00  3.68068075e+00  3.62909412e+00  3.57751036e+00\n",
      "  3.54152989e+00  3.52744818e+00  3.39840007e+00  3.26246786e+00\n",
      "  3.13267398e+00  3.00381827e+00  2.87495661e+00  2.74609876e+00\n",
      "  2.61724091e+00  2.48838663e+00  2.35953236e+00  2.23066902e+00\n",
      "  2.10181379e+00  1.97295856e+00  1.84409857e+00  1.71524429e+00\n",
      "  1.58638620e+00  1.45752907e+00  1.32867575e+00  1.20115471e+00\n",
      "  1.07812071e+00  9.55085278e-01  8.32046986e-01  7.09010124e-01\n",
      "  5.85974216e-01  4.62939739e-01  3.39901447e-01  2.16867924e-01\n",
      "  9.38267708e-02 -2.92105675e-02 -1.53325081e-01 -2.78383255e-01\n",
      " -3.71099472e-01 -4.31688309e-01 -4.92283344e-01 -5.53488731e-01\n",
      " -6.16117954e-01 -6.78751469e-01 -7.41383553e-01 -8.19668293e-01\n",
      " -8.98606777e-01 -9.77550030e-01 -1.05647993e+00 -1.13542223e+00\n",
      " -1.21477604e+00 -1.29565144e+00 -1.37652731e+00 -1.45741415e+00\n",
      " -1.53829336e+00 -1.61916113e+00 -1.70004463e+00 -1.78092957e+00\n",
      " -1.86453056e+00 -1.98725080e+00 -2.13635445e+00 -2.31189871e+00\n",
      " -2.49094486e+00 -2.67382812e+00 -2.90740013e+00 -3.16304207e+00\n",
      " -3.41868210e+00 -3.67432785e+00 -3.93294430e+00 -4.21667576e+00\n",
      " -4.53200054e+00 -4.85070419e+00 -5.16942692e+00 -5.48814964e+00\n",
      " -5.80687046e+00 -1.68979721e+01 -1.69557533e+01 -1.70101166e+01\n",
      " -1.70644875e+01 -1.71188583e+01 -1.71732216e+01 -1.72275772e+01\n",
      " -1.72724648e+01 -1.72995949e+01 -1.73267250e+01 -1.73538475e+01\n",
      " -1.73809814e+01 -1.74081154e+01 -1.74352303e+01 -1.74623680e+01\n",
      " -1.74894943e+01 -1.75166245e+01 -1.75437431e+01 -1.75708694e+01\n",
      " -1.75979881e+01 -1.76251297e+01 -1.76522636e+01 -1.76751022e+01\n",
      " -1.76973305e+01 -1.77195625e+01 -1.77417870e+01 -1.77614555e+01\n",
      " -1.77778320e+01 -1.77942162e+01 -1.78100395e+01 -1.77992706e+01\n",
      " -1.77885132e+01 -1.77777634e+01 -1.77636757e+01 -1.77442017e+01\n",
      " -1.77143707e+01 -1.76845436e+01 -1.76547089e+01 -1.76248817e+01\n",
      " -1.75950546e+01 -1.75652199e+01 -1.75354004e+01 -1.75055695e+01\n",
      " -1.74757347e+01 -1.74459038e+01 -1.74160728e+01 -1.73862381e+01\n",
      " -1.73564110e+01 -1.73265877e+01 -1.72967606e+01 -1.72669258e+01\n",
      " -1.72370949e+01 -1.72072754e+01 -1.71774406e+01 -1.71476059e+01\n",
      " -1.71177826e+01 -1.70879555e+01 -1.70428658e+01 -1.69823761e+01\n",
      " -1.69508171e+01 -1.69380226e+01 -1.69252167e+01 -1.69124413e+01\n",
      " -1.69026794e+01 -1.68991051e+01 -1.68955269e+01 -1.68919563e+01\n",
      " -1.68883820e+01 -1.68848000e+01 -1.68812332e+01 -1.68998756e+01\n",
      " -1.69235954e+01 -1.69473152e+01 -1.69710274e+01 -1.69947472e+01\n",
      " -1.70184669e+01 -1.70421791e+01 -1.70658913e+01 -1.70896149e+01\n",
      " -1.71133347e+01 -1.71370468e+01 -1.71607666e+01 -1.71785431e+01\n",
      " -1.71866837e+01 -1.71948433e+01 -1.72029991e+01 -1.72111511e+01\n",
      " -1.72192955e+01 -1.72274551e+01 -1.72355995e+01 -1.72437515e+01\n",
      " -1.72519073e+01 -1.72600555e+01 -1.72682152e+01 -1.72763557e+01\n",
      " -1.72845078e+01 -1.72943497e+01 -1.73112602e+01 -1.73281517e+01\n",
      " -1.73360634e+01 -1.73359909e+01 -1.73359146e+01 -1.73358536e+01\n",
      " -1.73357773e+01 -1.73357048e+01 -1.73356400e+01 -1.73355560e+01\n",
      " -1.73354874e+01 -1.73354263e+01 -1.73353500e+01 -1.73352814e+01\n",
      " -1.73352013e+01 -1.73351402e+01 -1.73350716e+01 -1.73350067e+01\n",
      " -1.73349266e+01 -1.73348618e+01 -1.73347855e+01 -1.73347168e+01\n",
      " -1.73346291e+01 -1.73345871e+01 -1.73345108e+01 -1.73344307e+01\n",
      " -1.73343620e+01 -1.73342972e+01 -1.73342247e+01 -1.73341522e+01\n",
      " -1.73340874e+01 -1.73340187e+01 -1.73339424e+01 -1.73338737e+01\n",
      " -1.73338013e+01 -1.73337250e+01 -1.73336601e+01 -1.73335876e+01\n",
      " -1.73335228e+01 -1.73334465e+01 -1.73333778e+01 -1.73333054e+01\n",
      " -1.73332329e+01 -1.73331680e+01 -1.73330917e+01 -1.73330231e+01\n",
      " -1.73351021e+01 -1.73407440e+01 -1.73463783e+01 -1.73520317e+01\n",
      " -1.73576736e+01 -1.73633194e+01 -1.73689499e+01 -1.73745956e+01\n",
      " -1.73802338e+01 -1.73858833e+01 -1.73915215e+01 -1.73971596e+01\n",
      " -1.74066048e+01 -1.74259529e+01 -1.74453163e+01 -1.74646759e+01\n",
      " -1.74840393e+01 -1.75034065e+01 -1.75227623e+01 -1.75421219e+01\n",
      " -1.75614700e+01 -1.75808372e+01 -1.76002045e+01 -1.76195450e+01\n",
      " -1.76389160e+01 -1.76582756e+01 -1.76770554e+01 -1.76929245e+01\n",
      " -1.77087898e+01 -1.77246399e+01 -1.77405090e+01 -1.77563629e+01\n",
      " -1.77722244e+01 -1.77880936e+01 -1.78039360e+01 -1.78198051e+01\n",
      " -1.78356705e+01 -1.78515320e+01 -1.78673859e+01 -1.78832436e+01\n",
      " -1.78991165e+01 -1.79149818e+01 -1.79308281e+01 -1.79466972e+01\n",
      " -1.79625511e+01 -1.79784164e+01 -1.79942741e+01 -1.80101433e+01\n",
      " -1.80260010e+01 -1.80418587e+01 -1.80504799e+01 -1.80565758e+01\n",
      " -1.80626793e+01 -1.80714378e+01 -1.80852013e+01 -1.80989265e+01\n",
      " -1.81126785e+01 -1.81264229e+01 -1.81401634e+01 -1.81538925e+01\n",
      " -1.81676521e+01 -1.81813889e+01 -1.81951256e+01 -1.82088699e+01\n",
      " -1.82226067e+01 -1.82363510e+01 -1.82500839e+01 -1.82637062e+01\n",
      " -1.82777481e+01 -1.82932625e+01 -1.83087692e+01 -1.83242836e+01\n",
      " -1.83458328e+01 -1.83723755e+01 -1.83989296e+01 -1.84254799e+01\n",
      " -1.84520340e+01 -1.84785881e+01 -1.85051384e+01 -1.85316811e+01\n",
      " -1.85581856e+01 -1.85890312e+01 -1.86424866e+01 -1.86746788e+01\n",
      " -1.87058182e+01 -1.87369003e+01 -1.87710648e+01 -1.88091125e+01\n",
      " -1.88470879e+01 -1.88898010e+01 -1.89386635e+01 -1.89901237e+01\n",
      " -1.90502357e+01 -1.91073036e+01 -1.91558685e+01 -1.92044258e+01\n",
      " -1.92529907e+01 -1.93015709e+01 -1.93501320e+01 -1.93987007e+01\n",
      " -1.94472694e+01 -1.94958229e+01 -1.95444069e+01 -1.95929642e+01\n",
      " -1.96415405e+01 -1.96884804e+01 -1.97350731e+01 -1.97816200e+01]\n"
     ]
    },
    {
     "ename": "ValueError",
     "evalue": "x and y must have same first dimension, but have shapes (101,) and (3,)",
     "output_type": "error",
     "traceback": [
      "\u001B[1;31m---------------------------------------------------------------------------\u001B[0m",
      "\u001B[1;31mValueError\u001B[0m                                Traceback (most recent call last)",
      "Cell \u001B[1;32mIn[407], line 35\u001B[0m\n\u001B[0;32m     32\u001B[0m max_corr_lag \u001B[38;5;241m=\u001B[39m lags[np\u001B[38;5;241m.\u001B[39margmax(np\u001B[38;5;241m.\u001B[39mabs(norm_cross_corr))]\n\u001B[0;32m     34\u001B[0m \u001B[38;5;66;03m# Plot the cross-correlation for the limited range\u001B[39;00m\n\u001B[1;32m---> 35\u001B[0m \u001B[43mplt\u001B[49m\u001B[38;5;241;43m.\u001B[39;49m\u001B[43mplot\u001B[49m\u001B[43m(\u001B[49m\u001B[43mlags\u001B[49m\u001B[43m,\u001B[49m\u001B[43m \u001B[49m\u001B[43mnorm_cross_corr\u001B[49m\u001B[43m)\u001B[49m\n\u001B[0;32m     36\u001B[0m plt\u001B[38;5;241m.\u001B[39maxvline(\u001B[38;5;241m0\u001B[39m, color\u001B[38;5;241m=\u001B[39m\u001B[38;5;124m'\u001B[39m\u001B[38;5;124mblack\u001B[39m\u001B[38;5;124m'\u001B[39m, linestyle\u001B[38;5;241m=\u001B[39m\u001B[38;5;124m'\u001B[39m\u001B[38;5;124m--\u001B[39m\u001B[38;5;124m'\u001B[39m, label\u001B[38;5;241m=\u001B[39m\u001B[38;5;124m\"\u001B[39m\u001B[38;5;124mZero lag\u001B[39m\u001B[38;5;124m\"\u001B[39m)\n\u001B[0;32m     37\u001B[0m plt\u001B[38;5;241m.\u001B[39maxvline(max_corr_lag, color\u001B[38;5;241m=\u001B[39m\u001B[38;5;124m'\u001B[39m\u001B[38;5;124mred\u001B[39m\u001B[38;5;124m'\u001B[39m, linestyle\u001B[38;5;241m=\u001B[39m\u001B[38;5;124m'\u001B[39m\u001B[38;5;124m--\u001B[39m\u001B[38;5;124m'\u001B[39m, label\u001B[38;5;241m=\u001B[39m\u001B[38;5;124mf\u001B[39m\u001B[38;5;124m\"\u001B[39m\u001B[38;5;124mMax Corr Lag = \u001B[39m\u001B[38;5;132;01m{\u001B[39;00mmax_corr_lag\u001B[38;5;132;01m}\u001B[39;00m\u001B[38;5;124m\"\u001B[39m)\n",
      "File \u001B[1;32mD:\\Anaconda3\\envs\\python3.9\\lib\\site-packages\\matplotlib\\pyplot.py:2812\u001B[0m, in \u001B[0;36mplot\u001B[1;34m(scalex, scaley, data, *args, **kwargs)\u001B[0m\n\u001B[0;32m   2810\u001B[0m \u001B[38;5;129m@_copy_docstring_and_deprecators\u001B[39m(Axes\u001B[38;5;241m.\u001B[39mplot)\n\u001B[0;32m   2811\u001B[0m \u001B[38;5;28;01mdef\u001B[39;00m \u001B[38;5;21mplot\u001B[39m(\u001B[38;5;241m*\u001B[39margs, scalex\u001B[38;5;241m=\u001B[39m\u001B[38;5;28;01mTrue\u001B[39;00m, scaley\u001B[38;5;241m=\u001B[39m\u001B[38;5;28;01mTrue\u001B[39;00m, data\u001B[38;5;241m=\u001B[39m\u001B[38;5;28;01mNone\u001B[39;00m, \u001B[38;5;241m*\u001B[39m\u001B[38;5;241m*\u001B[39mkwargs):\n\u001B[1;32m-> 2812\u001B[0m     \u001B[38;5;28;01mreturn\u001B[39;00m gca()\u001B[38;5;241m.\u001B[39mplot(\n\u001B[0;32m   2813\u001B[0m         \u001B[38;5;241m*\u001B[39margs, scalex\u001B[38;5;241m=\u001B[39mscalex, scaley\u001B[38;5;241m=\u001B[39mscaley,\n\u001B[0;32m   2814\u001B[0m         \u001B[38;5;241m*\u001B[39m\u001B[38;5;241m*\u001B[39m({\u001B[38;5;124m\"\u001B[39m\u001B[38;5;124mdata\u001B[39m\u001B[38;5;124m\"\u001B[39m: data} \u001B[38;5;28;01mif\u001B[39;00m data \u001B[38;5;129;01mis\u001B[39;00m \u001B[38;5;129;01mnot\u001B[39;00m \u001B[38;5;28;01mNone\u001B[39;00m \u001B[38;5;28;01melse\u001B[39;00m {}), \u001B[38;5;241m*\u001B[39m\u001B[38;5;241m*\u001B[39mkwargs)\n",
      "File \u001B[1;32mD:\\Anaconda3\\envs\\python3.9\\lib\\site-packages\\matplotlib\\axes\\_axes.py:1688\u001B[0m, in \u001B[0;36mAxes.plot\u001B[1;34m(self, scalex, scaley, data, *args, **kwargs)\u001B[0m\n\u001B[0;32m   1445\u001B[0m \u001B[38;5;250m\u001B[39m\u001B[38;5;124;03m\"\"\"\u001B[39;00m\n\u001B[0;32m   1446\u001B[0m \u001B[38;5;124;03mPlot y versus x as lines and/or markers.\u001B[39;00m\n\u001B[0;32m   1447\u001B[0m \n\u001B[1;32m   (...)\u001B[0m\n\u001B[0;32m   1685\u001B[0m \u001B[38;5;124;03m(``'green'``) or hex strings (``'#008000'``).\u001B[39;00m\n\u001B[0;32m   1686\u001B[0m \u001B[38;5;124;03m\"\"\"\u001B[39;00m\n\u001B[0;32m   1687\u001B[0m kwargs \u001B[38;5;241m=\u001B[39m cbook\u001B[38;5;241m.\u001B[39mnormalize_kwargs(kwargs, mlines\u001B[38;5;241m.\u001B[39mLine2D)\n\u001B[1;32m-> 1688\u001B[0m lines \u001B[38;5;241m=\u001B[39m [\u001B[38;5;241m*\u001B[39m\u001B[38;5;28mself\u001B[39m\u001B[38;5;241m.\u001B[39m_get_lines(\u001B[38;5;241m*\u001B[39margs, data\u001B[38;5;241m=\u001B[39mdata, \u001B[38;5;241m*\u001B[39m\u001B[38;5;241m*\u001B[39mkwargs)]\n\u001B[0;32m   1689\u001B[0m \u001B[38;5;28;01mfor\u001B[39;00m line \u001B[38;5;129;01min\u001B[39;00m lines:\n\u001B[0;32m   1690\u001B[0m     \u001B[38;5;28mself\u001B[39m\u001B[38;5;241m.\u001B[39madd_line(line)\n",
      "File \u001B[1;32mD:\\Anaconda3\\envs\\python3.9\\lib\\site-packages\\matplotlib\\axes\\_base.py:311\u001B[0m, in \u001B[0;36m_process_plot_var_args.__call__\u001B[1;34m(self, data, *args, **kwargs)\u001B[0m\n\u001B[0;32m    309\u001B[0m     this \u001B[38;5;241m+\u001B[39m\u001B[38;5;241m=\u001B[39m args[\u001B[38;5;241m0\u001B[39m],\n\u001B[0;32m    310\u001B[0m     args \u001B[38;5;241m=\u001B[39m args[\u001B[38;5;241m1\u001B[39m:]\n\u001B[1;32m--> 311\u001B[0m \u001B[38;5;28;01myield from\u001B[39;00m \u001B[38;5;28;43mself\u001B[39;49m\u001B[38;5;241;43m.\u001B[39;49m\u001B[43m_plot_args\u001B[49m\u001B[43m(\u001B[49m\n\u001B[0;32m    312\u001B[0m \u001B[43m    \u001B[49m\u001B[43mthis\u001B[49m\u001B[43m,\u001B[49m\u001B[43m \u001B[49m\u001B[43mkwargs\u001B[49m\u001B[43m,\u001B[49m\u001B[43m \u001B[49m\u001B[43mambiguous_fmt_datakey\u001B[49m\u001B[38;5;241;43m=\u001B[39;49m\u001B[43mambiguous_fmt_datakey\u001B[49m\u001B[43m)\u001B[49m\n",
      "File \u001B[1;32mD:\\Anaconda3\\envs\\python3.9\\lib\\site-packages\\matplotlib\\axes\\_base.py:504\u001B[0m, in \u001B[0;36m_process_plot_var_args._plot_args\u001B[1;34m(self, tup, kwargs, return_kwargs, ambiguous_fmt_datakey)\u001B[0m\n\u001B[0;32m    501\u001B[0m     \u001B[38;5;28mself\u001B[39m\u001B[38;5;241m.\u001B[39maxes\u001B[38;5;241m.\u001B[39myaxis\u001B[38;5;241m.\u001B[39mupdate_units(y)\n\u001B[0;32m    503\u001B[0m \u001B[38;5;28;01mif\u001B[39;00m x\u001B[38;5;241m.\u001B[39mshape[\u001B[38;5;241m0\u001B[39m] \u001B[38;5;241m!=\u001B[39m y\u001B[38;5;241m.\u001B[39mshape[\u001B[38;5;241m0\u001B[39m]:\n\u001B[1;32m--> 504\u001B[0m     \u001B[38;5;28;01mraise\u001B[39;00m \u001B[38;5;167;01mValueError\u001B[39;00m(\u001B[38;5;124mf\u001B[39m\u001B[38;5;124m\"\u001B[39m\u001B[38;5;124mx and y must have same first dimension, but \u001B[39m\u001B[38;5;124m\"\u001B[39m\n\u001B[0;32m    505\u001B[0m                      \u001B[38;5;124mf\u001B[39m\u001B[38;5;124m\"\u001B[39m\u001B[38;5;124mhave shapes \u001B[39m\u001B[38;5;132;01m{\u001B[39;00mx\u001B[38;5;241m.\u001B[39mshape\u001B[38;5;132;01m}\u001B[39;00m\u001B[38;5;124m and \u001B[39m\u001B[38;5;132;01m{\u001B[39;00my\u001B[38;5;241m.\u001B[39mshape\u001B[38;5;132;01m}\u001B[39;00m\u001B[38;5;124m\"\u001B[39m)\n\u001B[0;32m    506\u001B[0m \u001B[38;5;28;01mif\u001B[39;00m x\u001B[38;5;241m.\u001B[39mndim \u001B[38;5;241m>\u001B[39m \u001B[38;5;241m2\u001B[39m \u001B[38;5;129;01mor\u001B[39;00m y\u001B[38;5;241m.\u001B[39mndim \u001B[38;5;241m>\u001B[39m \u001B[38;5;241m2\u001B[39m:\n\u001B[0;32m    507\u001B[0m     \u001B[38;5;28;01mraise\u001B[39;00m \u001B[38;5;167;01mValueError\u001B[39;00m(\u001B[38;5;124mf\u001B[39m\u001B[38;5;124m\"\u001B[39m\u001B[38;5;124mx and y can be no greater than 2D, but have \u001B[39m\u001B[38;5;124m\"\u001B[39m\n\u001B[0;32m    508\u001B[0m                      \u001B[38;5;124mf\u001B[39m\u001B[38;5;124m\"\u001B[39m\u001B[38;5;124mshapes \u001B[39m\u001B[38;5;132;01m{\u001B[39;00mx\u001B[38;5;241m.\u001B[39mshape\u001B[38;5;132;01m}\u001B[39;00m\u001B[38;5;124m and \u001B[39m\u001B[38;5;132;01m{\u001B[39;00my\u001B[38;5;241m.\u001B[39mshape\u001B[38;5;132;01m}\u001B[39;00m\u001B[38;5;124m\"\u001B[39m)\n",
      "\u001B[1;31mValueError\u001B[0m: x and y must have same first dimension, but have shapes (101,) and (3,)"
     ]
    },
    {
     "data": {
      "text/plain": "<Figure size 640x480 with 1 Axes>",
      "image/png": "[encoded data removed]"
     },
     "metadata": {},
     "output_type": "display_data"
    }
   ],
   "source": [
    "# Define the lag range\n",
    "lag_range = 50\n",
    "\n",
    "# Define the time range of interest\n",
    "start_time = 0  # Start index of the time range\n",
    "end_time = 700    # End index of the time range\n",
    "\n",
    "# Subset the time series data to the desired time range\n",
    "y1_range = y1[start_time:end_time]\n",
    "y2_range = y2[start_time:end_time]\n",
    "print (y1[start_time:end_time])\n",
    "y1_centered = y1_range - np.mean(y1_range)\n",
    "y2_centered = y2_range - np.mean(y2_range)\n",
    "\n",
    "cross_corr_full = np.correlate(y2_centered, y1_centered, mode='full')\n",
    "#cross_corr_full = np.correlate(y2, y1, mode='full')\n",
    "\n",
    "# Find the middle index (corresponds to zero lag)\n",
    "mid_idx = len(y2) - 1\n",
    "\n",
    "# Extract the cross-correlation only within the desired lag range (-50 to 50)\n",
    "cross_corr_limited = cross_corr_full[mid_idx - lag_range: mid_idx + lag_range + 1]\n",
    "\n",
    "# Normalize the cross-correlation coefficient\n",
    "# The normalization uses the standard deviations of y2 and y1 and the length of the y2 series\n",
    "norm_cross_corr = cross_corr_limited / (np.std(y2) * np.std(y1) * len(y2))\n",
    "\n",
    "# Define the lags between -50 and 50\n",
    "lags = np.arange(-lag_range, lag_range + 1)\n",
    "\n",
    "# Find the lag that gives the maximum correlation within the restricted range\n",
    "max_corr_lag = lags[np.argmax(np.abs(norm_cross_corr))]\n",
    "\n",
    "# Plot the cross-correlation for the limited range\n",
    "plt.plot(lags, norm_cross_corr)\n",
    "plt.axvline(0, color='black', linestyle='--', label=\"Zero lag\")\n",
    "plt.axvline(max_corr_lag, color='red', linestyle='--', label=f\"Max Corr Lag = {max_corr_lag}\")\n",
    "plt.xlabel('Lag')\n",
    "plt.ylabel('Cross-correlation coefficient')\n",
    "plt.title('Cross-Correlation between Numerical Model and ANN Prediction')\n",
    "plt.legend()\n",
    "plt.show()\n",
    "\n",
    "# Check the correlation at zero lag\n",
    "zero_lag_corr = norm_cross_corr[lag_range]\n",
    "print(f\"Cross-correlation coefficient at zero lag: {zero_lag_corr}\")\n",
    "max_corr_value = norm_cross_corr[np.argmax(np.abs(norm_cross_corr))]\n",
    "max_corr_lag_time = max_corr_lag*interval\n",
    "print(f\"Max cross-correlation coefficient lag: {max_corr_lag} = {max_corr_lag_time}: {max_corr_value}\")\n"
   ],
   "metadata": {
    "collapsed": false,
    "ExecuteTime": {
     "end_time": "2024-09-11T14:48:38.067023700Z",
     "start_time": "2024-09-11T14:48:37.741979500Z"
    }
   },
   "id": "a1f84cb95440208d"
  },
  {
   "cell_type": "code",
   "execution_count": 397,
   "outputs": [
    {
     "data": {
      "text/plain": "<Figure size 640x480 with 1 Axes>",
      "image/png": "[encoded data removed]"
     },
     "metadata": {},
     "output_type": "display_data"
    }
   ],
   "source": [
    "# Initialize PrettyTable\n",
    "table = PrettyTable()\n",
    "\n",
    "# Define columns\n",
    "table.field_names = [\"Parameter\", \"Numerical model prediction\", \"ANN-based framework prediction\", \"% error\"]\n",
    "\n",
    "# Calculate percentage errors\n",
    "def per_error(true_value, predicted_value):\n",
    "    return abs(predicted_value - true_value) / abs(true_value) * 100\n",
    "\n",
    "# Add rows\n",
    "table.add_row([\"Peak positive overpressure\", f\"{positive_peak_pressure_num:.2f}\", f\"{positive_peak_pressure_ann:.2f}\", f\"{per_error(positive_peak_pressure_num, positive_peak_pressure_ann):.2f}%\"])\n",
    "table.add_row([\"Peak negative overpressure\", f\"{negative_peak_pressure_num:.2f}\", f\"{negative_peak_pressure_ann:.2f}\", f\"{per_error(negative_peak_pressure_num, negative_peak_pressure_ann):.2f}%\"])\n",
    "table.add_row([\"Peak positive time\", f\"{positive_peak_time_num:.2f}\", f\"{positive_peak_time_ann:.2f}\", f\"{per_error(positive_peak_time_num, positive_peak_time_ann):.2f}%\"])\n",
    "table.add_row([\"Peak negative time\", f\"{negative_peak_time_num:.2f}\", f\"{negative_peak_time_ann:.2f}\", f\"{per_error(negative_peak_time_num, negative_peak_time_ann):.2f}%\"])\n",
    "table.add_row([\"Positive duration\", f\"{positive_duration_num:.2f}\", f\"{positive_duration_ann:.2f}\", f\"{per_error(positive_duration_num, positive_duration_ann):.2f}%\"])\n",
    "#table.add_row([\"Negative duration\", f\"{negative_duration_num:.2f}\", f\"{negative_duration_ann:.2f}\", f\"{per_error(negative_duration_num, negative_duration_ann):.2f}%\"])\n",
    "table.add_row([\"Cross correlation coefficient\", \"-\", f\"{zero_lag_corr:.3f}\", \"-\"])\n",
    "table.add_row([\"Max cross correlation coefficient\", \"-\", f\"{max_corr_value:.3f}\", \"-\"])\n",
    "table.add_row([\"Max cross correlation time lag\", \"-\", f\"{max_corr_lag_time:.2f}\", \"-\"])\n",
    "table.add_row([\"Time interval\", \"-\", f\"{interval:}\", \"-\"])\n",
    "\n",
    "# Convert PrettyTable to string\n",
    "table_str = table.get_string()\n",
    "\n",
    "# Set up Matplotlib figure and axes\n",
    "fig, ax = plt.subplots()\n",
    "\n",
    "# Hide axes\n",
    "ax.xaxis.set_visible(False)\n",
    "ax.yaxis.set_visible(False)\n",
    "ax.set_frame_on(False)\n",
    "\n",
    "# Use the table_str as the plot text\n",
    "ax.text(0.5, 0.5, table_str, fontsize=12, ha=\"center\", va=\"center\", family=\"monospace\")\n",
    "\n",
    "# Save the table as an image\n",
    "plt.savefig(f'RP_Num&ANN_Comparison/Section{section}_{Standoff_distance}m{Mass}kg/table_{Angle}deg.png', dpi=150, bbox_inches='tight')\n",
    "\n",
    "# Show the plot (optional)\n",
    "plt.show()"
   ],
   "metadata": {
    "collapsed": false,
    "ExecuteTime": {
     "end_time": "2024-09-11T14:39:53.833917100Z",
     "start_time": "2024-09-11T14:39:53.497643800Z"
    }
   },
   "id": "8787e6a118d9a65e"
  }
 ],
 "metadata": {
  "kernelspec": {
   "display_name": "Python 3 (ipykernel)",
   "language": "python",
   "name": "python3"
  },
  "language_info": {
   "codemirror_mode": {
    "name": "ipython",
    "version": 3
   },
   "file_extension": ".py",
   "mimetype": "text/x-python",
   "name": "python",
   "nbconvert_exporter": "python",
   "pygments_lexer": "ipython3",
   "version": "3.9.7"
  }
 },
 "nbformat": 4,
 "nbformat_minor": 5
}
