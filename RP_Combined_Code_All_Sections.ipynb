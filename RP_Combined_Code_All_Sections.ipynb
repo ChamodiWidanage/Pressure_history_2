{
 "cells": [
  {
   "cell_type": "markdown",
   "source": [
    "## Importing libraries and files"
   ],
   "metadata": {
    "collapsed": false
   },
   "id": "498e1bf0a688a38b"
  },
  {
   "cell_type": "code",
   "execution_count": 3,
   "outputs": [
    {
     "name": "stdout",
     "output_type": "stream",
     "text": [
      "WARNING:tensorflow:From D:\\Anaconda3\\Lib\\site-packages\\keras\\src\\saving\\legacy\\saved_model\\load.py:107: The name tf.gfile.Exists is deprecated. Please use tf.io.gfile.exists instead.\n",
      "WARNING:tensorflow:From D:\\Anaconda3\\Lib\\site-packages\\keras\\src\\utils\\tf_utils.py:585: The name tf.executing_eagerly_outside_functions is deprecated. Please use tf.compat.v1.executing_eagerly_outside_functions instead.\n"
     ]
    },
    {
     "name": "stderr",
     "output_type": "stream",
     "text": [
      "D:\\Anaconda3\\Lib\\site-packages\\sklearn\\base.py:347: InconsistentVersionWarning: Trying to unpickle estimator StandardScaler from version 1.4.2 when using version 1.3.0. This might lead to breaking code or invalid results. Use at your own risk. For more info please refer to:\n",
      "https://scikit-learn.org/stable/model_persistence.html#security-maintainability-limitations\n",
      "  warnings.warn(\n",
      "D:\\Anaconda3\\Lib\\site-packages\\sklearn\\base.py:347: InconsistentVersionWarning: Trying to unpickle estimator StandardScaler from version 1.4.2 when using version 1.3.0. This might lead to breaking code or invalid results. Use at your own risk. For more info please refer to:\n",
      "https://scikit-learn.org/stable/model_persistence.html#security-maintainability-limitations\n",
      "  warnings.warn(\n",
      "D:\\Anaconda3\\Lib\\site-packages\\sklearn\\base.py:347: InconsistentVersionWarning: Trying to unpickle estimator StandardScaler from version 1.4.2 when using version 1.3.0. This might lead to breaking code or invalid results. Use at your own risk. For more info please refer to:\n",
      "https://scikit-learn.org/stable/model_persistence.html#security-maintainability-limitations\n",
      "  warnings.warn(\n",
      "D:\\Anaconda3\\Lib\\site-packages\\sklearn\\base.py:347: InconsistentVersionWarning: Trying to unpickle estimator StandardScaler from version 1.4.2 when using version 1.3.0. This might lead to breaking code or invalid results. Use at your own risk. For more info please refer to:\n",
      "https://scikit-learn.org/stable/model_persistence.html#security-maintainability-limitations\n",
      "  warnings.warn(\n",
      "D:\\Anaconda3\\Lib\\site-packages\\sklearn\\base.py:347: InconsistentVersionWarning: Trying to unpickle estimator StandardScaler from version 1.4.2 when using version 1.3.0. This might lead to breaking code or invalid results. Use at your own risk. For more info please refer to:\n",
      "https://scikit-learn.org/stable/model_persistence.html#security-maintainability-limitations\n",
      "  warnings.warn(\n",
      "D:\\Anaconda3\\Lib\\site-packages\\sklearn\\base.py:347: InconsistentVersionWarning: Trying to unpickle estimator StandardScaler from version 1.4.2 when using version 1.3.0. This might lead to breaking code or invalid results. Use at your own risk. For more info please refer to:\n",
      "https://scikit-learn.org/stable/model_persistence.html#security-maintainability-limitations\n",
      "  warnings.warn(\n"
     ]
    }
   ],
   "source": [
    "import pandas as pd\n",
    "from keras.models import load_model\n",
    "import pickle\n",
    "import numpy as np\n",
    "import matplotlib.pyplot as plt\n",
    "from pathlib import Path\n",
    "#from prettytable import PrettyTable\n",
    "\n",
    "ann_arr = load_model('RP_Arrival_time/Arrival_ANN4')\n",
    "ann_end = load_model('RP_End_time/End_ANN4')\n",
    "ann_chg = load_model('RP_Change_time/Change_ANN1')\n",
    "\n",
    "#Section1\n",
    "ann1 = load_model('RP_Section_1_new3/Section1_new3_ANN_2')\n",
    "sc1 = pickle.load(open('RP_Section_1_new3/Section1_new3_scaler_ANN_2.pkl', 'rb'))\n",
    "#Section2\n",
    "ann2 = load_model('RP_Section_2_new2/Section2_new_ANN_2')\n",
    "sc2 = pickle.load(open('RP_Section_2_new/Section2_new_scaler_ANN_2.pkl', 'rb'))\n",
    "#Section3\n",
    "ann3 = load_model('RP_Section_3_new/Section3_new_ANN_2')\n",
    "sc3 = pickle.load(open('RP_Section_3_new/Section3_new_scaler_ANN_2.pkl', 'rb'))\n",
    "#Section4\n",
    "ann4 = load_model('RP_Section_4_new/Section4_new_ANN_7')\n",
    "sc4 = pickle.load(open('RP_Section_4_new/Section4_new_scaler_ANN_7.pkl', 'rb'))\n",
    "#Section5\n",
    "ann5 = load_model('RP_Section_5_new/Section5_new_ANN_4')\n",
    "sc5 = pickle.load(open('RP_Section_5_new/Section5_new_scaler_ANN_4.pkl', 'rb'))\n",
    "#Section6\n",
    "ann6 = load_model('RP_Section_6_new/Section6_new_ANN_2')\n",
    "sc6 = pickle.load(open('RP_Section_6_new/Section6_new_scaler_ANN_2.pkl', 'rb'))"
   ],
   "metadata": {
    "collapsed": false,
    "ExecuteTime": {
     "end_time": "2024-09-19T14:52:45.650204900Z",
     "start_time": "2024-09-19T14:52:39.035916900Z"
    }
   },
   "id": "3122126ae010792f"
  },
  {
   "cell_type": "markdown",
   "source": [
    "## Input details"
   ],
   "metadata": {
    "collapsed": false
   },
   "id": "5f559d0fa330bc79"
  },
  {
   "cell_type": "code",
   "execution_count": 13,
   "outputs": [],
   "source": [
    "Mass = 15.8\n",
    "Standoff_distance = 2.2\n",
    "Angle = 0\n",
    "start_time = 0\n",
    "termination_time = 60\n",
    "interval = 0.01003\n",
    "Time_adj = 20\n",
    "Pressure_adj = 101.25"
   ],
   "metadata": {
    "collapsed": false,
    "ExecuteTime": {
     "end_time": "2024-09-19T14:58:26.703076200Z",
     "start_time": "2024-09-19T14:58:26.615466400Z"
    }
   },
   "id": "799ba05d5cac9d28"
  },
  {
   "cell_type": "markdown",
   "source": [
    "## Pressure Profile"
   ],
   "metadata": {
    "collapsed": false
   },
   "id": "4682781d5ba61ce7"
  },
  {
   "cell_type": "code",
   "execution_count": 14,
   "outputs": [
    {
     "name": "stdout",
     "output_type": "stream",
     "text": [
      "1/1 [==============================] - 0s 43ms/step\n",
      "1/1 [==============================] - 0s 45ms/step\n",
      "1/1 [==============================] - 0s 40ms/step\n",
      "arrival [[25.758228]] end [[57.77056]] change [[35.347103]]\n",
      "100/100 [==============================] - 0s 2ms/step\n",
      "4\n"
     ]
    }
   ],
   "source": [
    "arr = np.array ([[Mass,Standoff_distance, Angle]])\n",
    "\n",
    "arrival_time = ann_arr.predict(arr)\n",
    "end_time = ann_end.predict(arr)\n",
    "change_time = ann_chg.predict(arr)\n",
    "\n",
    "print (\"arrival\", arrival_time, \"end\", end_time, \"change\", change_time)\n",
    "\n",
    "def stable_state(start, end, interval):    \n",
    "    t = np.arange(start, end + interval, interval)\n",
    "    t = t.reshape(len(t),1)\n",
    "\n",
    "    p = np.repeat(0, len(t)).reshape(len(t),1)\n",
    "    \n",
    "    values = np.concatenate ((t, p), axis = 1)\n",
    "    return values\n",
    "\n",
    "def p_fluctuation(standoff_distance, d_set):\n",
    "    if 1.5 <= standoff_distance <= 3:\n",
    "        d_set[:,0:4] = sc1.transform(d_set[:,0:4])\n",
    "        p_f = ann1.predict(d_set)\n",
    "        section = 1\n",
    "        \n",
    "    elif 3 < standoff_distance <= 7:\n",
    "        d_set[:,0:4] = sc2.transform(d_set[:,0:4])\n",
    "        p_f = ann2.predict(d_set)\n",
    "        section = 2\n",
    "        \n",
    "    elif 7 < standoff_distance <= 13:\n",
    "        d_set[:,0:4] = sc3.transform(d_set[:,0:4])\n",
    "        p_f = ann3.predict(d_set)\n",
    "        section = 3\n",
    "        \n",
    "    elif 13 < standoff_distance <= 19:\n",
    "        d_set[:,0:4] = sc4.transform(d_set[:,0:4])\n",
    "        p_f = ann4.predict(d_set)\n",
    "        section = 4\n",
    "        \n",
    "    elif 19 < standoff_distance <= 25:\n",
    "        d_set[:,0:4] = sc5.transform(d_set[:,0:4])\n",
    "        p_f = ann5.predict(d_set)\n",
    "        section = 5\n",
    "        \n",
    "    elif 25 < standoff_distance <= 30:\n",
    "        d_set[:,0:4] = sc6.transform(d_set[:,0:4])\n",
    "        p_f = ann6.predict(d_set)\n",
    "        section = 6\n",
    "        \n",
    "    else:\n",
    "        print (\"Out of trained range\")\n",
    "    return p_f, section\n",
    "\n",
    "if termination_time < arrival_time:\n",
    "    start = start_time\n",
    "    end = termination_time\n",
    "    values1 = stable_state(start, end, interval)\n",
    "    arrival_time = 0\n",
    "    end_time = 0\n",
    "\n",
    "else:\n",
    "    start = start_time\n",
    "    end = arrival_time\n",
    "    values1 = stable_state(start, end, interval)\n",
    "    \n",
    "    if termination_time < end_time:\n",
    "        end_time = termination_time\n",
    "        \n",
    "    else:\n",
    "        start = end_time\n",
    "        end = termination_time\n",
    "        values3 = stable_state(start, end, interval)\n",
    "\n",
    "t2= np.arange(arrival_time, end_time + interval, interval)\n",
    "t2 = t2.reshape(len(t2),1)\n",
    "\n",
    "if t2[0] < change_time:\n",
    "    ph2 = np.array([[0, 1]])\n",
    "else:\n",
    "    ph2 = np.array([[1, 0]])\n",
    "    \n",
    "positive = np.array([0, 1])\n",
    "negative= np.array([1, 0])\n",
    "\n",
    "for time in t2[1:]:\n",
    "    if time < change_time:\n",
    "        ph2=np.vstack((ph2,positive))\n",
    "    else:\n",
    "        ph2=np.vstack((ph2,negative))\n",
    "        \n",
    "m2 = np.repeat(Mass, len(t2)).reshape(len(t2),1)\n",
    "d2 = np.repeat(Standoff_distance, len(t2)).reshape(len(t2),1)\n",
    "a2 = np.repeat(Angle, len(t2)).reshape(len(t2),1)\n",
    "d_set = np.concatenate ((m2, d2, a2, t2, ph2), axis = 1)\n",
    "\n",
    "#p2 = p_fluctuation(Standoff_distance, d_set)\n",
    "p2, section = p_fluctuation(Standoff_distance, d_set)\n",
    "p2 = p2.reshape((-1, 1))\n",
    "values2 = np.concatenate ((t2, p2), axis = 1)\n",
    "\n",
    "\n",
    "if 'values2' in globals():\n",
    "    ml_model = np.concatenate((values1, values2), axis=0)\n",
    "    if 'values3' in globals():\n",
    "        ml_model = np.concatenate((ml_model, values3), axis=0)\n",
    "else:\n",
    "    ml_model = values1\n",
    "    \n",
    "X1 = ml_model[:,0]\n",
    "y1 = ml_model[:,1]\n",
    "print (section)"
   ],
   "metadata": {
    "collapsed": false,
    "ExecuteTime": {
     "end_time": "2024-09-19T14:58:29.122848400Z",
     "start_time": "2024-09-19T14:58:28.339580700Z"
    }
   },
   "id": "11caee01fcf75405"
  },
  {
   "cell_type": "code",
   "execution_count": 15,
   "outputs": [
    {
     "name": "stdout",
     "output_type": "stream",
     "text": [
      "Numerical length 1738 ANN-based length 5987\n"
     ]
    },
    {
     "name": "stderr",
     "output_type": "stream",
     "text": [
      "C:\\Users\\z5379606\\AppData\\Local\\Temp\\ipykernel_31768\\4071666404.py:2: ParserWarning: Falling back to the 'python' engine because the 'c' engine does not support skipfooter; you can avoid this warning by specifying engine='python'.\n",
      "  lsdyna = pd.read_csv(file_path, delimiter=\"\\s+\", skiprows = 8, skipfooter = 1, header = None, names = [\"Time\", \"Pressure\"])\n"
     ]
    }
   ],
   "source": [
    "file_path = Path(f'G:/Chamodi/LSDYNA3D/RP_TH_models/RP_Comparison_with_Numerical/{Standoff_distance}m{Mass}kg/{Angle}')\n",
    "lsdyna = pd.read_csv(file_path, delimiter=\"\\s+\", skiprows = 8, skipfooter = 1, header = None, names = [\"Time\", \"Pressure\"])\n",
    "\n",
    "X2_original = lsdyna['Time']\n",
    "y2_original = lsdyna['Pressure']\n",
    "\n",
    "X2_original=(X2_original*1000)+ Time_adj\n",
    "y2_original=(y2_original/1000)- Pressure_adj\n",
    "\n",
    "# Find the indices for the two values closest to value1 and value2\n",
    "index1 = (np.abs(X2_original - start_time)).argmin()\n",
    "index2 = (np.abs(X2_original - termination_time)).argmin()\n",
    "\n",
    "# Extract the ranges from X2 and y2 based on the indices\n",
    "X2_original = X2_original[index1:index2+1]\n",
    "y2_original = y2_original[index1:index2+1]\n",
    "\n",
    "X2_original = X2_original.to_numpy()\n",
    "y2_original = y2_original.to_numpy()\n",
    "\n",
    "print(\"Numerical length\",len(y2_original), \"ANN-based length\", len(y1))"
   ],
   "metadata": {
    "collapsed": false,
    "ExecuteTime": {
     "end_time": "2024-09-19T14:58:31.675702300Z",
     "start_time": "2024-09-19T14:58:31.566420800Z"
    }
   },
   "id": "cbc49728bb5183d5"
  },
  {
   "cell_type": "code",
   "execution_count": 16,
   "outputs": [],
   "source": [
    "X2 = X2_original\n",
    "y2 = y2_original"
   ],
   "metadata": {
    "collapsed": false,
    "ExecuteTime": {
     "end_time": "2024-09-19T14:58:34.976258600Z",
     "start_time": "2024-09-19T14:58:34.918697200Z"
    }
   },
   "id": "e28d5b706d7a651c"
  },
  {
   "cell_type": "code",
   "execution_count": 327,
   "outputs": [
    {
     "name": "stdout",
     "output_type": "stream",
     "text": [
      "ANN: 1344 Num: 1344\n",
      "ANN: 1344 Num: 1344\n"
     ]
    }
   ],
   "source": [
    "X1=X1[:-1]\n",
    "y1=y1[:-1]\n",
    "print(\"ANN:\",len(X1),\"Num:\",len(X2_original))\n",
    "print(\"ANN:\",len(y1),\"Num:\",len(y2_original))"
   ],
   "metadata": {
    "collapsed": false,
    "ExecuteTime": {
     "end_time": "2024-09-11T14:24:23.439762800Z",
     "start_time": "2024-09-11T14:24:23.406241300Z"
    }
   },
   "id": "7b3ae1f8984ea311"
  },
  {
   "cell_type": "code",
   "execution_count": 386,
   "outputs": [
    {
     "name": "stdout",
     "output_type": "stream",
     "text": [
      "ANN: 1447 Num: 1447\n",
      "ANN: 1447 Num: 1447\n"
     ]
    }
   ],
   "source": [
    "X2_original=X2_original[:-1]\n",
    "y2_original=y2_original[:-1]\n",
    "print(\"ANN:\",len(X1),\"Num:\",len(X2_original))\n",
    "print(\"ANN:\",len(y1),\"Num:\",len(y2_original))"
   ],
   "metadata": {
    "collapsed": false,
    "ExecuteTime": {
     "end_time": "2024-09-11T14:34:18.459708700Z",
     "start_time": "2024-09-11T14:34:18.416175Z"
    }
   },
   "id": "a1f3ba0c6011c1a6"
  },
  {
   "cell_type": "code",
   "execution_count": 7,
   "outputs": [
    {
     "name": "stdout",
     "output_type": "stream",
     "text": [
      "ANN [0.00000000e+00 1.00300000e-02 2.00600000e-02 ... 5.99869347e+01\n",
      " 5.99969635e+01 6.00069923e+01]\n",
      "Num [ 2.          2.03381235  2.06133101 ... 59.95475096 59.98098445\n",
      " 60.00721794]\n"
     ]
    }
   ],
   "source": [
    "print(\"ANN\",X1)\n",
    "print(\"Num\",X2_original)"
   ],
   "metadata": {
    "collapsed": false,
    "ExecuteTime": {
     "end_time": "2024-09-19T14:53:30.657369600Z",
     "start_time": "2024-09-19T14:53:30.610239600Z"
    }
   },
   "id": "2df2098998b7cb79"
  },
  {
   "cell_type": "code",
   "execution_count": 10,
   "outputs": [
    {
     "ename": "FileNotFoundError",
     "evalue": "[Errno 2] No such file or directory: 'G:\\\\Chamodi\\\\LSDYNA3D\\\\RP_TH_models\\\\RP_Comparison_with_Numerical\\\\14.6m27.1kg\\\\0.xlsx'",
     "output_type": "error",
     "traceback": [
      "\u001B[1;31m---------------------------------------------------------------------------\u001B[0m",
      "\u001B[1;31mFileNotFoundError\u001B[0m                         Traceback (most recent call last)",
      "Cell \u001B[1;32mIn[10], line 2\u001B[0m\n\u001B[0;32m      1\u001B[0m file_path \u001B[38;5;241m=\u001B[39m Path(\u001B[38;5;124mf\u001B[39m\u001B[38;5;124m'\u001B[39m\u001B[38;5;124mG:/Chamodi/LSDYNA3D/RP_TH_models/RP_Comparison_with_Numerical/\u001B[39m\u001B[38;5;132;01m{\u001B[39;00mStandoff_distance\u001B[38;5;132;01m}\u001B[39;00m\u001B[38;5;124mm\u001B[39m\u001B[38;5;132;01m{\u001B[39;00mMass\u001B[38;5;132;01m}\u001B[39;00m\u001B[38;5;124mkg/\u001B[39m\u001B[38;5;132;01m{\u001B[39;00mAngle\u001B[38;5;132;01m}\u001B[39;00m\u001B[38;5;124m.xlsx\u001B[39m\u001B[38;5;124m'\u001B[39m)\n\u001B[1;32m----> 2\u001B[0m lsdyna \u001B[38;5;241m=\u001B[39m pd\u001B[38;5;241m.\u001B[39mread_excel(file_path, names \u001B[38;5;241m=\u001B[39m [\u001B[38;5;124m\"\u001B[39m\u001B[38;5;124mTime\u001B[39m\u001B[38;5;124m\"\u001B[39m, \u001B[38;5;124m\"\u001B[39m\u001B[38;5;124mPressure\u001B[39m\u001B[38;5;124m\"\u001B[39m])\n\u001B[0;32m      4\u001B[0m X2_original \u001B[38;5;241m=\u001B[39m lsdyna[\u001B[38;5;124m'\u001B[39m\u001B[38;5;124mTime\u001B[39m\u001B[38;5;124m'\u001B[39m]\n\u001B[0;32m      5\u001B[0m y2_original \u001B[38;5;241m=\u001B[39m lsdyna[\u001B[38;5;124m'\u001B[39m\u001B[38;5;124mPressure\u001B[39m\u001B[38;5;124m'\u001B[39m]\n",
      "File \u001B[1;32mD:\\Anaconda3\\Lib\\site-packages\\pandas\\util\\_decorators.py:211\u001B[0m, in \u001B[0;36mdeprecate_kwarg.<locals>._deprecate_kwarg.<locals>.wrapper\u001B[1;34m(*args, **kwargs)\u001B[0m\n\u001B[0;32m    209\u001B[0m     \u001B[38;5;28;01melse\u001B[39;00m:\n\u001B[0;32m    210\u001B[0m         kwargs[new_arg_name] \u001B[38;5;241m=\u001B[39m new_arg_value\n\u001B[1;32m--> 211\u001B[0m \u001B[38;5;28;01mreturn\u001B[39;00m func(\u001B[38;5;241m*\u001B[39margs, \u001B[38;5;241m*\u001B[39m\u001B[38;5;241m*\u001B[39mkwargs)\n",
      "File \u001B[1;32mD:\\Anaconda3\\Lib\\site-packages\\pandas\\util\\_decorators.py:331\u001B[0m, in \u001B[0;36mdeprecate_nonkeyword_arguments.<locals>.decorate.<locals>.wrapper\u001B[1;34m(*args, **kwargs)\u001B[0m\n\u001B[0;32m    325\u001B[0m \u001B[38;5;28;01mif\u001B[39;00m \u001B[38;5;28mlen\u001B[39m(args) \u001B[38;5;241m>\u001B[39m num_allow_args:\n\u001B[0;32m    326\u001B[0m     warnings\u001B[38;5;241m.\u001B[39mwarn(\n\u001B[0;32m    327\u001B[0m         msg\u001B[38;5;241m.\u001B[39mformat(arguments\u001B[38;5;241m=\u001B[39m_format_argument_list(allow_args)),\n\u001B[0;32m    328\u001B[0m         \u001B[38;5;167;01mFutureWarning\u001B[39;00m,\n\u001B[0;32m    329\u001B[0m         stacklevel\u001B[38;5;241m=\u001B[39mfind_stack_level(),\n\u001B[0;32m    330\u001B[0m     )\n\u001B[1;32m--> 331\u001B[0m \u001B[38;5;28;01mreturn\u001B[39;00m func(\u001B[38;5;241m*\u001B[39margs, \u001B[38;5;241m*\u001B[39m\u001B[38;5;241m*\u001B[39mkwargs)\n",
      "File \u001B[1;32mD:\\Anaconda3\\Lib\\site-packages\\pandas\\io\\excel\\_base.py:482\u001B[0m, in \u001B[0;36mread_excel\u001B[1;34m(io, sheet_name, header, names, index_col, usecols, squeeze, dtype, engine, converters, true_values, false_values, skiprows, nrows, na_values, keep_default_na, na_filter, verbose, parse_dates, date_parser, thousands, decimal, comment, skipfooter, convert_float, mangle_dupe_cols, storage_options)\u001B[0m\n\u001B[0;32m    480\u001B[0m \u001B[38;5;28;01mif\u001B[39;00m \u001B[38;5;129;01mnot\u001B[39;00m \u001B[38;5;28misinstance\u001B[39m(io, ExcelFile):\n\u001B[0;32m    481\u001B[0m     should_close \u001B[38;5;241m=\u001B[39m \u001B[38;5;28;01mTrue\u001B[39;00m\n\u001B[1;32m--> 482\u001B[0m     io \u001B[38;5;241m=\u001B[39m ExcelFile(io, storage_options\u001B[38;5;241m=\u001B[39mstorage_options, engine\u001B[38;5;241m=\u001B[39mengine)\n\u001B[0;32m    483\u001B[0m \u001B[38;5;28;01melif\u001B[39;00m engine \u001B[38;5;129;01mand\u001B[39;00m engine \u001B[38;5;241m!=\u001B[39m io\u001B[38;5;241m.\u001B[39mengine:\n\u001B[0;32m    484\u001B[0m     \u001B[38;5;28;01mraise\u001B[39;00m \u001B[38;5;167;01mValueError\u001B[39;00m(\n\u001B[0;32m    485\u001B[0m         \u001B[38;5;124m\"\u001B[39m\u001B[38;5;124mEngine should not be specified when passing \u001B[39m\u001B[38;5;124m\"\u001B[39m\n\u001B[0;32m    486\u001B[0m         \u001B[38;5;124m\"\u001B[39m\u001B[38;5;124man ExcelFile - ExcelFile already has the engine set\u001B[39m\u001B[38;5;124m\"\u001B[39m\n\u001B[0;32m    487\u001B[0m     )\n",
      "File \u001B[1;32mD:\\Anaconda3\\Lib\\site-packages\\pandas\\io\\excel\\_base.py:1652\u001B[0m, in \u001B[0;36mExcelFile.__init__\u001B[1;34m(self, path_or_buffer, engine, storage_options)\u001B[0m\n\u001B[0;32m   1650\u001B[0m     ext \u001B[38;5;241m=\u001B[39m \u001B[38;5;124m\"\u001B[39m\u001B[38;5;124mxls\u001B[39m\u001B[38;5;124m\"\u001B[39m\n\u001B[0;32m   1651\u001B[0m \u001B[38;5;28;01melse\u001B[39;00m:\n\u001B[1;32m-> 1652\u001B[0m     ext \u001B[38;5;241m=\u001B[39m inspect_excel_format(\n\u001B[0;32m   1653\u001B[0m         content_or_path\u001B[38;5;241m=\u001B[39mpath_or_buffer, storage_options\u001B[38;5;241m=\u001B[39mstorage_options\n\u001B[0;32m   1654\u001B[0m     )\n\u001B[0;32m   1655\u001B[0m     \u001B[38;5;28;01mif\u001B[39;00m ext \u001B[38;5;129;01mis\u001B[39;00m \u001B[38;5;28;01mNone\u001B[39;00m:\n\u001B[0;32m   1656\u001B[0m         \u001B[38;5;28;01mraise\u001B[39;00m \u001B[38;5;167;01mValueError\u001B[39;00m(\n\u001B[0;32m   1657\u001B[0m             \u001B[38;5;124m\"\u001B[39m\u001B[38;5;124mExcel file format cannot be determined, you must specify \u001B[39m\u001B[38;5;124m\"\u001B[39m\n\u001B[0;32m   1658\u001B[0m             \u001B[38;5;124m\"\u001B[39m\u001B[38;5;124man engine manually.\u001B[39m\u001B[38;5;124m\"\u001B[39m\n\u001B[0;32m   1659\u001B[0m         )\n",
      "File \u001B[1;32mD:\\Anaconda3\\Lib\\site-packages\\pandas\\io\\excel\\_base.py:1525\u001B[0m, in \u001B[0;36minspect_excel_format\u001B[1;34m(content_or_path, storage_options)\u001B[0m\n\u001B[0;32m   1522\u001B[0m \u001B[38;5;28;01mif\u001B[39;00m \u001B[38;5;28misinstance\u001B[39m(content_or_path, \u001B[38;5;28mbytes\u001B[39m):\n\u001B[0;32m   1523\u001B[0m     content_or_path \u001B[38;5;241m=\u001B[39m BytesIO(content_or_path)\n\u001B[1;32m-> 1525\u001B[0m \u001B[38;5;28;01mwith\u001B[39;00m get_handle(\n\u001B[0;32m   1526\u001B[0m     content_or_path, \u001B[38;5;124m\"\u001B[39m\u001B[38;5;124mrb\u001B[39m\u001B[38;5;124m\"\u001B[39m, storage_options\u001B[38;5;241m=\u001B[39mstorage_options, is_text\u001B[38;5;241m=\u001B[39m\u001B[38;5;28;01mFalse\u001B[39;00m\n\u001B[0;32m   1527\u001B[0m ) \u001B[38;5;28;01mas\u001B[39;00m handle:\n\u001B[0;32m   1528\u001B[0m     stream \u001B[38;5;241m=\u001B[39m handle\u001B[38;5;241m.\u001B[39mhandle\n\u001B[0;32m   1529\u001B[0m     stream\u001B[38;5;241m.\u001B[39mseek(\u001B[38;5;241m0\u001B[39m)\n",
      "File \u001B[1;32mD:\\Anaconda3\\Lib\\site-packages\\pandas\\io\\common.py:865\u001B[0m, in \u001B[0;36mget_handle\u001B[1;34m(path_or_buf, mode, encoding, compression, memory_map, is_text, errors, storage_options)\u001B[0m\n\u001B[0;32m    856\u001B[0m         handle \u001B[38;5;241m=\u001B[39m \u001B[38;5;28mopen\u001B[39m(\n\u001B[0;32m    857\u001B[0m             handle,\n\u001B[0;32m    858\u001B[0m             ioargs\u001B[38;5;241m.\u001B[39mmode,\n\u001B[1;32m   (...)\u001B[0m\n\u001B[0;32m    861\u001B[0m             newline\u001B[38;5;241m=\u001B[39m\u001B[38;5;124m\"\u001B[39m\u001B[38;5;124m\"\u001B[39m,\n\u001B[0;32m    862\u001B[0m         )\n\u001B[0;32m    863\u001B[0m     \u001B[38;5;28;01melse\u001B[39;00m:\n\u001B[0;32m    864\u001B[0m         \u001B[38;5;66;03m# Binary mode\u001B[39;00m\n\u001B[1;32m--> 865\u001B[0m         handle \u001B[38;5;241m=\u001B[39m \u001B[38;5;28mopen\u001B[39m(handle, ioargs\u001B[38;5;241m.\u001B[39mmode)\n\u001B[0;32m    866\u001B[0m     handles\u001B[38;5;241m.\u001B[39mappend(handle)\n\u001B[0;32m    868\u001B[0m \u001B[38;5;66;03m# Convert BytesIO or file objects passed with an encoding\u001B[39;00m\n",
      "\u001B[1;31mFileNotFoundError\u001B[0m: [Errno 2] No such file or directory: 'G:\\\\Chamodi\\\\LSDYNA3D\\\\RP_TH_models\\\\RP_Comparison_with_Numerical\\\\14.6m27.1kg\\\\0.xlsx'"
     ]
    }
   ],
   "source": [
    "file_path = Path(f'G:/Chamodi/LSDYNA3D/RP_TH_models/RP_Comparison_with_Numerical/{Standoff_distance}m{Mass}kg/{Angle}.xlsx')\n",
    "lsdyna = pd.read_excel(file_path, names = [\"Time\", \"Pressure\"])\n",
    "\n",
    "X2_original = lsdyna['Time']\n",
    "y2_original = lsdyna['Pressure']\n",
    "\n",
    "X2_original=(X2_original*1000)+ Time_adj\n",
    "y2_original=(y2_original/1000)- Pressure_adj\n",
    "\n",
    "# Find the indices for the two values closest to value1 and value2\n",
    "index1 = (np.abs(X2_original - start_time)).argmin()\n",
    "index2 = (np.abs(X2_original - termination_time)).argmin()\n",
    "\n",
    "# Extract the ranges from X2 and y2 based on the indices\n",
    "X2_original = X2_original[index1:index2+1]\n",
    "y2_original = y2_original[index1:index2+1]\n",
    "\n",
    "X2 = X2_original.to_numpy()\n",
    "y2 = y2_original.to_numpy()\n",
    "\n",
    "print(\"Numerical length\",len(y2_original), \"ANN-based length\", len(y1))"
   ],
   "metadata": {
    "collapsed": false,
    "ExecuteTime": {
     "end_time": "2024-09-19T14:55:36.018936900Z",
     "start_time": "2024-09-19T14:55:35.249275300Z"
    }
   },
   "id": "97458bdfdcf98b66"
  },
  {
   "cell_type": "code",
   "execution_count": 8,
   "outputs": [
    {
     "name": "stdout",
     "output_type": "stream",
     "text": [
      "[ 64  78 117 267 337 350 380 570 640 829]\n"
     ]
    },
    {
     "data": {
      "text/plain": "<Figure size 600x600 with 1 Axes>",
      "image/png": "[encoded data removed]"
     },
     "metadata": {},
     "output_type": "display_data"
    }
   ],
   "source": [
    "from scipy.signal import find_peaks\n",
    "\n",
    "# Identify peaks with tolerance parameters\n",
    "height_threshold = 0.1  # Minimum height of peaks to detect\n",
    "prominence = 0.01  # Minimum prominence of peaks in pressure units\n",
    "width = 5  # Minimum width of peaks in time units\n",
    "\n",
    "# Find peaks\n",
    "peaks, properties = find_peaks(y2_original, height=height_threshold, prominence=prominence, width=width)\n",
    "print (peaks)\n",
    "\n",
    "# Ensure there are at least two peaks\n",
    "if len(peaks) >= 1:\n",
    "    #first_peak_index = peaks[0]\n",
    "\n",
    "    # Create a copy of pressure data to modify\n",
    "    smoothed_pressure = np.copy(y2_original)\n",
    "\n",
    "    # Define a window around each peak after the first peak to apply smoothing\n",
    "    window_radius_r = 80\n",
    "    window_radius_l = 50 # Adjust the window radius as needed\n",
    "    selected_peaks = [peaks[2], peaks[3]]\n",
    "\n",
    "    for peak_index in selected_peaks:\n",
    "        start = max(peak_index - window_radius_l, 0)\n",
    "        end = min(peak_index + window_radius_r + 1, len(y2_original))\n",
    "\n",
    "        # Extract values just outside the window\n",
    "        if start > 0 and end < len(y2_original):\n",
    "            start_value = y2_original[start - 1]\n",
    "            end_value = y2_original[end]\n",
    "        elif start > 0:\n",
    "            start_value = y2_original[start - 1]\n",
    "            end_value = start_value\n",
    "        elif end < len(y2_original):\n",
    "            end_value = y2_original[end]\n",
    "            start_value = end_value\n",
    "        else:\n",
    "            start_value = end_value = np.mean(y2_original)  # Fallback in case there are no valid points\n",
    "\n",
    "        # Create a linearly spaced array between start_value and end_value\n",
    "        interpolated_values = np.linspace(start_value, end_value, end - start)\n",
    "\n",
    "        # Apply the interpolated values to the points within the window\n",
    "        smoothed_pressure[start:end] = interpolated_values\n",
    "        \n",
    "y2 = smoothed_pressure\n",
    "X2 = X2_original\n",
    "\n",
    "plt.figure(figsize=(6,6))\n",
    "plt.plot(X2_original,y2_original, color = 'blue',label = 'Numerical')\n",
    "plt.plot(X2, y2, color = 'red',label = 'Numerical')\n",
    "# Mark the peaks on the plot\n",
    "plt.scatter(X2_original[peaks], y2_original[peaks], color='green', s=50, label='Peaks', zorder=5)\n",
    "plt.show()"
   ],
   "metadata": {
    "collapsed": false,
    "ExecuteTime": {
     "end_time": "2024-09-19T14:53:55.020775700Z",
     "start_time": "2024-09-19T14:53:54.292388700Z"
    }
   },
   "id": "97799b4f82c799bf"
  },
  {
   "cell_type": "code",
   "execution_count": 48,
   "outputs": [
    {
     "name": "stderr",
     "output_type": "stream",
     "text": [
      "C:\\Users\\z5379606\\AppData\\Local\\Temp\\ipykernel_25572\\4178299979.py:21: DeprecationWarning: Conversion of an array with ndim > 0 to a scalar is deprecated, and will error in future. Ensure you extract a single element from your array before performing this operation. (Deprecated NumPy 1.25.)\n",
      "  positive_duration_ann = float(change_time - arrival_time)\n",
      "C:\\Users\\z5379606\\AppData\\Local\\Temp\\ipykernel_25572\\4178299979.py:27: DeprecationWarning: Conversion of an array with ndim > 0 to a scalar is deprecated, and will error in future. Ensure you extract a single element from your array before performing this operation. (Deprecated NumPy 1.25.)\n",
      "  positive_peak_pressure_ann = float(p2[max_index_ann])\n",
      "C:\\Users\\z5379606\\AppData\\Local\\Temp\\ipykernel_25572\\4178299979.py:28: DeprecationWarning: Conversion of an array with ndim > 0 to a scalar is deprecated, and will error in future. Ensure you extract a single element from your array before performing this operation. (Deprecated NumPy 1.25.)\n",
      "  negative_peak_pressure_ann = float(p2[min_index_ann])\n",
      "C:\\Users\\z5379606\\AppData\\Local\\Temp\\ipykernel_25572\\4178299979.py:30: DeprecationWarning: Conversion of an array with ndim > 0 to a scalar is deprecated, and will error in future. Ensure you extract a single element from your array before performing this operation. (Deprecated NumPy 1.25.)\n",
      "  positive_peak_time_ann = float(t2[max_index_ann])\n",
      "C:\\Users\\z5379606\\AppData\\Local\\Temp\\ipykernel_25572\\4178299979.py:31: DeprecationWarning: Conversion of an array with ndim > 0 to a scalar is deprecated, and will error in future. Ensure you extract a single element from your array before performing this operation. (Deprecated NumPy 1.25.)\n",
      "  negative_peak_time_ann = float(t2[min_index_ann])\n"
     ]
    }
   ],
   "source": [
    "# Numerical\n",
    "max_index_num = np.argmax(y2)\n",
    "min_index_num = np.argmin(y2)\n",
    "\n",
    "zero_crossing_index = next((i for i, val in enumerate(y2[max_index_num:min_index_num], start=0) if val <= 0), None)+max_index_num\n",
    "\n",
    "change_time_num = X2[zero_crossing_index]\n",
    "\n",
    "\n",
    "positive_duration_num = change_time_num - X2[max_index_num]\n",
    "#negative_duration_num = end_time_num - change_time_num\n",
    "\n",
    "\n",
    "positive_peak_pressure_num = y2[max_index_num]\n",
    "negative_peak_pressure_num = y2[min_index_num]\n",
    "\n",
    "positive_peak_time_num = X2[max_index_num]\n",
    "negative_peak_time_num = X2[min_index_num]\n",
    "\n",
    "# ANN-based\n",
    "positive_duration_ann = float(change_time - arrival_time)\n",
    "#negative_duration_ann = float(end_time - change_time)\n",
    "\n",
    "max_index_ann = np.argmax(p2)\n",
    "min_index_ann = np.argmin(p2)\n",
    "\n",
    "positive_peak_pressure_ann = float(p2[max_index_ann])\n",
    "negative_peak_pressure_ann = float(p2[min_index_ann])\n",
    "\n",
    "positive_peak_time_ann = float(t2[max_index_ann])\n",
    "negative_peak_time_ann = float(t2[min_index_ann])"
   ],
   "metadata": {
    "collapsed": false,
    "ExecuteTime": {
     "end_time": "2024-09-11T12:07:16.330080700Z",
     "start_time": "2024-09-11T12:07:16.279470200Z"
    }
   },
   "id": "e19318b21a850812"
  },
  {
   "cell_type": "code",
   "execution_count": 18,
   "outputs": [
    {
     "name": "stdout",
     "output_type": "stream",
     "text": [
      "267 598 846\n"
     ]
    }
   ],
   "source": [
    "# Numerical\n",
    "max_index_num = np.argmax(y2)\n",
    "#min_index_num = np.argmin(y2)\n",
    "\n",
    "zero_crossing_index = next((i for i, val in enumerate(y2[max_index_num:], start=0) if val <= 0), None)+max_index_num\n",
    "\n",
    "change_time_num = X2[zero_crossing_index]\n",
    "\n",
    "min_index_num = np.argmin(y2[zero_crossing_index:])+zero_crossing_index\n",
    "\n",
    "\n",
    "positive_duration_num = change_time_num - X2[max_index_num]\n",
    "#negative_duration_num = end_time_num - change_time_num\n",
    "\n",
    "\n",
    "positive_peak_pressure_num = y2[max_index_num]\n",
    "negative_peak_pressure_num = y2[min_index_num]\n",
    "\n",
    "positive_peak_time_num = X2[max_index_num]\n",
    "negative_peak_time_num = X2[min_index_num]\n",
    "\n",
    "# ANN-based\n",
    "positive_duration_ann = float(change_time - arrival_time)\n",
    "#negative_duration_ann = float(end_time - change_time)\n",
    "\n",
    "max_index_ann = np.argmax(p2)\n",
    "min_index_ann = np.argmin(p2)\n",
    "\n",
    "positive_peak_pressure_ann = float(p2[max_index_ann])\n",
    "negative_peak_pressure_ann = float(p2[min_index_ann])\n",
    "\n",
    "positive_peak_time_ann = float(t2[max_index_ann])\n",
    "negative_peak_time_ann = float(t2[min_index_ann])\n",
    "\n",
    "print (max_index_num, zero_crossing_index, min_index_num)"
   ],
   "metadata": {
    "collapsed": false,
    "ExecuteTime": {
     "end_time": "2024-09-19T14:58:58.443484900Z",
     "start_time": "2024-09-19T14:58:58.391077500Z"
    }
   },
   "id": "700c594779d16511"
  },
  {
   "cell_type": "code",
   "execution_count": 97,
   "outputs": [],
   "source": [
    "plt.rcdefaults()"
   ],
   "metadata": {
    "collapsed": false,
    "ExecuteTime": {
     "end_time": "2024-09-11T22:52:36.763158500Z",
     "start_time": "2024-09-11T22:52:36.727649200Z"
    }
   },
   "id": "71d8220f48053d4e"
  },
  {
   "cell_type": "code",
   "execution_count": 17,
   "outputs": [
    {
     "data": {
      "text/plain": "<Figure size 600x600 with 1 Axes>",
      "image/png": "[encoded data removed]"
     },
     "metadata": {},
     "output_type": "display_data"
    }
   ],
   "source": [
    "plt.figure(figsize=(6,6))\n",
    "plt.rcParams[\"font.family\"] = \"Times New Roman\"\n",
    "plt.plot(X2, y2, color = 'blue',label = 'Numerical', linewidth=4)\n",
    "plt.plot(X1, y1, linestyle = 'dashed', color = 'red', label = 'ANN framework', linewidth=3)\n",
    "plt.ylabel('Reflected overpressure (kPa)',fontsize = 30)\n",
    "plt.xlabel('Time (ms)',fontsize = 30)\n",
    "plt.xticks(fontsize = 25)\n",
    "plt.yticks(fontsize = 25)\n",
    "#plt.legend(loc='upper center', bbox_to_anchor=(0.5, -0.15), ncol=2, frameon = False, fontsize = 20)\n",
    "\n",
    "# Create the annotation text\n",
    "#annotation_text = (f'Peak incident overpressure\\n\\nANN framework - {round(max(y1), 2)} kPa\\n'\n",
    "#                   f'Numerical - {round(max(y2), 2)} kPa')\n",
    "\n",
    "#plt.annotate(annotation_text,xy=(0.4,0.5), xycoords='figure fraction', fontsize=18)\n",
    "\n",
    "plt.xlim (start_time,termination_time)\n",
    "plt.savefig(f'RP_Num&ANN_Comparison/Section{section}_{Standoff_distance}m{Mass}kg/{Angle}deg.png', dpi=150, bbox_inches='tight')\n",
    "plt.show()"
   ],
   "metadata": {
    "collapsed": false,
    "ExecuteTime": {
     "end_time": "2024-09-19T14:58:42.393745900Z",
     "start_time": "2024-09-19T14:58:41.687961500Z"
    }
   },
   "id": "9f50e1c02b7aae2f"
  },
  {
   "cell_type": "code",
   "execution_count": 99,
   "outputs": [
    {
     "data": {
      "text/plain": "<Figure size 640x480 with 1 Axes>",
      "image/png": "[encoded data removed]"
     },
     "metadata": {},
     "output_type": "display_data"
    },
    {
     "name": "stdout",
     "output_type": "stream",
     "text": [
      "Cross-correlation coefficient at zero lag: 0.9105097615759681\n",
      "Max cross-correlation coefficient lag: -5 = -0.05015: 0.9799022820262694\n"
     ]
    }
   ],
   "source": [
    "# Define the lag range\n",
    "lag_range = 50\n",
    "\n",
    "# Define the time range of interest\n",
    "#start_time = 0  # Start index of the time range\n",
    "#end_time = 700    # End index of the time range\n",
    "\n",
    "# Subset the time series data to the desired time range\n",
    "#y1_range = y1[start_time:end_time]\n",
    "#y2_range = y2[start_time:end_time]\n",
    "#print (y1[start_time:end_time])\n",
    "y1_centered = y1 - np.mean(y1)\n",
    "y2_centered = y2 - np.mean(y2)\n",
    "\n",
    "cross_corr_full = np.correlate(y2_centered, y1_centered, mode='full')\n",
    "#cross_corr_full = np.correlate(y2, y1, mode='full')\n",
    "\n",
    "# Find the middle index (corresponds to zero lag)\n",
    "mid_idx = len(y2) - 1\n",
    "\n",
    "# Extract the cross-correlation only within the desired lag range (-50 to 50)\n",
    "cross_corr_limited = cross_corr_full[mid_idx - lag_range: mid_idx + lag_range + 1]\n",
    "\n",
    "# Normalize the cross-correlation coefficient\n",
    "# The normalization uses the standard deviations of y2 and y1 and the length of the y2 series\n",
    "norm_cross_corr = cross_corr_limited / (np.std(y2) * np.std(y1) * len(y2))\n",
    "\n",
    "# Define the lags between -50 and 50\n",
    "lags = np.arange(-lag_range, lag_range + 1)\n",
    "\n",
    "# Find the lag that gives the maximum correlation within the restricted range\n",
    "max_corr_lag = lags[np.argmax(np.abs(norm_cross_corr))]\n",
    "\n",
    "# Plot the cross-correlation for the limited range\n",
    "plt.plot(lags, norm_cross_corr)\n",
    "plt.axvline(0, color='black', linestyle='--', label=\"Zero lag\")\n",
    "plt.axvline(max_corr_lag, color='red', linestyle='--', label=f\"Max Corr Lag = {max_corr_lag}\")\n",
    "plt.xlabel('Lag')\n",
    "plt.ylabel('Cross-correlation coefficient')\n",
    "plt.title('Cross-Correlation between Numerical Model and ANN Prediction')\n",
    "plt.legend()\n",
    "plt.show()\n",
    "\n",
    "# Check the correlation at zero lag\n",
    "zero_lag_corr = norm_cross_corr[lag_range]\n",
    "print(f\"Cross-correlation coefficient at zero lag: {zero_lag_corr}\")\n",
    "max_corr_value = norm_cross_corr[np.argmax(np.abs(norm_cross_corr))]\n",
    "max_corr_lag_time = max_corr_lag*interval\n",
    "print(f\"Max cross-correlation coefficient lag: {max_corr_lag} = {max_corr_lag_time}: {max_corr_value}\")\n"
   ],
   "metadata": {
    "collapsed": false,
    "ExecuteTime": {
     "end_time": "2024-09-11T22:52:46.768310900Z",
     "start_time": "2024-09-11T22:52:46.484857700Z"
    }
   },
   "id": "a1f84cb95440208d"
  },
  {
   "cell_type": "code",
   "execution_count": 19,
   "outputs": [
    {
     "ename": "NameError",
     "evalue": "name 'PrettyTable' is not defined",
     "output_type": "error",
     "traceback": [
      "\u001B[1;31m---------------------------------------------------------------------------\u001B[0m",
      "\u001B[1;31mNameError\u001B[0m                                 Traceback (most recent call last)",
      "Cell \u001B[1;32mIn[19], line 2\u001B[0m\n\u001B[0;32m      1\u001B[0m \u001B[38;5;66;03m# Initialize PrettyTable\u001B[39;00m\n\u001B[1;32m----> 2\u001B[0m table \u001B[38;5;241m=\u001B[39m PrettyTable()\n\u001B[0;32m      4\u001B[0m \u001B[38;5;66;03m# Define columns\u001B[39;00m\n\u001B[0;32m      5\u001B[0m table\u001B[38;5;241m.\u001B[39mfield_names \u001B[38;5;241m=\u001B[39m [\u001B[38;5;124m\"\u001B[39m\u001B[38;5;124mParameter\u001B[39m\u001B[38;5;124m\"\u001B[39m, \u001B[38;5;124m\"\u001B[39m\u001B[38;5;124mNumerical model prediction\u001B[39m\u001B[38;5;124m\"\u001B[39m, \u001B[38;5;124m\"\u001B[39m\u001B[38;5;124mANN-based framework prediction\u001B[39m\u001B[38;5;124m\"\u001B[39m, \u001B[38;5;124m\"\u001B[39m\u001B[38;5;132;01m% e\u001B[39;00m\u001B[38;5;124mrror\u001B[39m\u001B[38;5;124m\"\u001B[39m]\n",
      "\u001B[1;31mNameError\u001B[0m: name 'PrettyTable' is not defined"
     ]
    }
   ],
   "source": [
    "# Initialize PrettyTable\n",
    "table = PrettyTable()\n",
    "\n",
    "# Define columns\n",
    "table.field_names = [\"Parameter\", \"Numerical model prediction\", \"ANN-based framework prediction\", \"% error\"]\n",
    "\n",
    "# Calculate percentage errors\n",
    "def per_error(true_value, predicted_value):\n",
    "    return abs(predicted_value - true_value) / abs(true_value) * 100\n",
    "\n",
    "# Add rows\n",
    "table.add_row([\"Peak positive overpressure\", f\"{positive_peak_pressure_num:.2f}\", f\"{positive_peak_pressure_ann:.2f}\", f\"{per_error(positive_peak_pressure_num, positive_peak_pressure_ann):.2f}%\"])\n",
    "table.add_row([\"Peak negative overpressure\", f\"{negative_peak_pressure_num:.2f}\", f\"{negative_peak_pressure_ann:.2f}\", f\"{per_error(negative_peak_pressure_num, negative_peak_pressure_ann):.2f}%\"])\n",
    "table.add_row([\"Peak positive time\", f\"{positive_peak_time_num:.2f}\", f\"{positive_peak_time_ann:.2f}\", f\"{per_error(positive_peak_time_num, positive_peak_time_ann):.2f}%\"])\n",
    "table.add_row([\"Peak negative time\", f\"{negative_peak_time_num:.2f}\", f\"{negative_peak_time_ann:.2f}\", f\"{per_error(negative_peak_time_num, negative_peak_time_ann):.2f}%\"])\n",
    "table.add_row([\"Positive duration\", f\"{positive_duration_num:.2f}\", f\"{positive_duration_ann:.2f}\", f\"{per_error(positive_duration_num, positive_duration_ann):.2f}%\"])\n",
    "#table.add_row([\"Negative duration\", f\"{negative_duration_num:.2f}\", f\"{negative_duration_ann:.2f}\", f\"{per_error(negative_duration_num, negative_duration_ann):.2f}%\"])\n",
    "table.add_row([\"Cross correlation coefficient\", \"-\", f\"{zero_lag_corr:.3f}\", \"-\"])\n",
    "table.add_row([\"Max cross correlation coefficient\", \"-\", f\"{max_corr_value:.3f}\", \"-\"])\n",
    "table.add_row([\"Max cross correlation time lag\", \"-\", f\"{max_corr_lag_time:.2f}\", \"-\"])\n",
    "table.add_row([\"Time interval\", \"-\", f\"{interval:}\", \"-\"])\n",
    "\n",
    "# Convert PrettyTable to string\n",
    "table_str = table.get_string()\n",
    "\n",
    "# Set up Matplotlib figure and axes\n",
    "fig, ax = plt.subplots()\n",
    "\n",
    "# Hide axes\n",
    "ax.xaxis.set_visible(False)\n",
    "ax.yaxis.set_visible(False)\n",
    "ax.set_frame_on(False)\n",
    "\n",
    "# Use the table_str as the plot text\n",
    "ax.text(0.5, 0.5, table_str, fontsize=12, ha=\"center\", va=\"center\", family=\"monospace\")\n",
    "\n",
    "# Save the table as an image\n",
    "plt.savefig(f'RP_Num&ANN_Comparison/Section{section}_{Standoff_distance}m{Mass}kg/table_{Angle}deg.png', dpi=150, bbox_inches='tight')\n",
    "\n",
    "# Show the plot (optional)\n",
    "plt.show()"
   ],
   "metadata": {
    "collapsed": false,
    "ExecuteTime": {
     "end_time": "2024-09-19T14:59:06.532413300Z",
     "start_time": "2024-09-19T14:59:06.473435300Z"
    }
   },
   "id": "8787e6a118d9a65e"
  },
  {
   "cell_type": "code",
   "execution_count": 20,
   "outputs": [
    {
     "name": "stdout",
     "output_type": "stream",
     "text": [
      "25.758228302001953\n"
     ]
    }
   ],
   "source": [
    "print (positive_peak_time_ann)"
   ],
   "metadata": {
    "collapsed": false,
    "ExecuteTime": {
     "end_time": "2024-09-19T14:59:33.965078400Z",
     "start_time": "2024-09-19T14:59:33.893996500Z"
    }
   },
   "id": "143b02c12388394f"
  }
 ],
 "metadata": {
  "kernelspec": {
   "display_name": "Python 3 (ipykernel)",
   "language": "python",
   "name": "python3"
  },
  "language_info": {
   "codemirror_mode": {
    "name": "ipython",
    "version": 3
   },
   "file_extension": ".py",
   "mimetype": "text/x-python",
   "name": "python",
   "nbconvert_exporter": "python",
   "pygments_lexer": "ipython3",
   "version": "3.9.7"
  }
 },
 "nbformat": 4,
 "nbformat_minor": 5
}
