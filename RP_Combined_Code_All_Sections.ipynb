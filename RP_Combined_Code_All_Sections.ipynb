{
 "cells": [
  {
   "cell_type": "markdown",
   "source": [
    "## Importing libraries and files"
   ],
   "metadata": {
    "collapsed": false
   },
   "id": "498e1bf0a688a38b"
  },
  {
   "cell_type": "code",
   "execution_count": null,
   "outputs": [],
   "source": [
    "import pandas as pd\n",
    "from keras.models import load_model\n",
    "import pickle\n",
    "import numpy as np\n",
    "import matplotlib.pyplot as plt\n",
    "from pathlib import Path\n",
    "\n",
    "\n",
    "ann_arr = load_model('RP_Arrival_time/Arrival_ANN3')\n",
    "ann_end = load_model('RP_End_time/End_ANN1')\n",
    "ann_chg = load_model('RP_Change_time/Change_ANN2')\n",
    "ann_trg = load_model('RP_Trough_time/Trough_ANN2')\n",
    "\n",
    "#Section1\n",
    "#ann1 = load_model('Pressure_profiles_codes_section_1_regression/ANN_13.h5')\n",
    "#sc1 = pickle.load(open('Pressure_profiles_codes_section_1_regression/scaler_ANN.pkl', 'rb'))\n",
    "#Section2\n",
    "#ann2 = load_model('Pressure_profiles_codes_section_2_regression/ANN_1.h5')\n",
    "#sc2 = pickle.load(open('Pressure_profiles_codes_section_2_regression/scaler_ANN.pkl', 'rb'))\n",
    "#Section3\n",
    "#ann3 = load_model('RP_Section_3_new/Section3_new_ANN_1')\n",
    "#sc3 = pickle.load(open('RP_Section_3_new/Section3_new_scaler_ANN_1.pkl', 'rb'))\n",
    "#Section4\n",
    "ann4 = load_model('RP_Section_4_new/Section4_new_ANN_1')\n",
    "sc4 = pickle.load(open('RP_Section_4_new/Section4_new_scaler_ANN_1.pkl', 'rb'))\n",
    "#Section5\n",
    "#ann5 = load_model('Pressure_profiles_codes_section_5_regression/ANN_2.h5')\n",
    "#sc5 = pickle.load(open('Pressure_profiles_codes_section_5_regression/scaler_ANN2.pkl', 'rb'))"
   ],
   "metadata": {
    "collapsed": false,
    "is_executing": true,
    "ExecuteTime": {
     "start_time": "2024-08-05T05:37:08.342664300Z"
    }
   },
   "id": "3122126ae010792f"
  },
  {
   "cell_type": "markdown",
   "source": [
    "## Input details"
   ],
   "metadata": {
    "collapsed": false
   },
   "id": "5f559d0fa330bc79"
  },
  {
   "cell_type": "code",
   "execution_count": 2,
   "outputs": [],
   "source": [
    "Mass = 27.1\n",
    "Standoff_distance = 14.6\n",
    "Angle = 0\n",
    "termination_time = 70\n",
    "interval = 0.1"
   ],
   "metadata": {
    "collapsed": false,
    "ExecuteTime": {
     "end_time": "2024-08-05T03:28:54.071291Z",
     "start_time": "2024-08-05T03:28:53.953729200Z"
    }
   },
   "id": "8e348013c4d88e94"
  },
  {
   "cell_type": "markdown",
   "source": [
    "## Pressure Profile"
   ],
   "metadata": {
    "collapsed": false
   },
   "id": "2e305e1d8d841ad0"
  },
  {
   "cell_type": "code",
   "execution_count": 3,
   "id": "7b0a878a-1117-4580-9cdf-0657137da5e9",
   "metadata": {
    "ExecuteTime": {
     "end_time": "2024-08-05T03:28:57.362889500Z",
     "start_time": "2024-08-05T03:28:55.634059Z"
    }
   },
   "outputs": [
    {
     "name": "stdout",
     "output_type": "stream",
     "text": [
      "1/1 [==============================] - 0s 494ms/step\n",
      "1/1 [==============================] - 0s 154ms/step\n",
      "1/1 [==============================] - 0s 142ms/step\n",
      "1/1 [==============================] - 0s 118ms/step\n",
      "arrival [[25.666069]] end [[55.687084]] change [[35.656555]] trough [[40.132442]]\n"
     ]
    },
    {
     "name": "stderr",
     "output_type": "stream",
     "text": [
      "C:\\Users\\z5379606\\AppData\\Local\\Temp\\ipykernel_37740\\2447137761.py:14: DeprecationWarning: Conversion of an array with ndim > 0 to a scalar is deprecated, and will error in future. Ensure you extract a single element from your array before performing this operation. (Deprecated NumPy 1.25.)\n",
      "  t = np.arange(start, end + interval, interval)\n",
      "C:\\Users\\z5379606\\AppData\\Local\\Temp\\ipykernel_37740\\2447137761.py:73: DeprecationWarning: Conversion of an array with ndim > 0 to a scalar is deprecated, and will error in future. Ensure you extract a single element from your array before performing this operation. (Deprecated NumPy 1.25.)\n",
      "  t2= np.arange(arrival_time, end_time + interval, interval)\n"
     ]
    },
    {
     "name": "stdout",
     "output_type": "stream",
     "text": [
      "WARNING:tensorflow:5 out of the last 5 calls to <function Model.make_predict_function.<locals>.predict_function at 0x000002706AB5ACA0> triggered tf.function retracing. Tracing is expensive and the excessive number of tracings could be due to (1) creating @tf.function repeatedly in a loop, (2) passing tensors with different shapes, (3) passing Python objects instead of tensors. For (1), please define your @tf.function outside of the loop. For (2), @tf.function has reduce_retracing=True option that can avoid unnecessary retracing. For (3), please refer to https://www.tensorflow.org/guide/function#controlling_retracing and https://www.tensorflow.org/api_docs/python/tf/function for  more details.\n",
      "10/10 [==============================] - 0s 4ms/step\n"
     ]
    }
   ],
   "source": [
    "#values1 = []\n",
    "#values2 = []\n",
    "#values3 = []\n",
    "arr = np.array ([[Mass,Standoff_distance, Angle]])\n",
    "\n",
    "arrival_time = ann_arr.predict(arr)\n",
    "end_time = ann_end.predict(arr)\n",
    "change_time = ann_chg.predict(arr)\n",
    "trough_time = ann_trg.predict(arr)\n",
    "\n",
    "print (\"arrival\", arrival_time, \"end\", end_time, \"change\", change_time, \"trough\", trough_time)\n",
    "\n",
    "def stable_state(start, end, interval):    \n",
    "    t = np.arange(start, end + interval, interval)\n",
    "    t = t.reshape(len(t),1)\n",
    "\n",
    "    p = np.repeat(0, len(t)).reshape(len(t),1)\n",
    "    \n",
    "    values = np.concatenate ((t, p), axis = 1)\n",
    "    return values\n",
    "\n",
    "'''def p_fluctuation(standoff_distance, d_set):\n",
    "    if 3 <= standoff_distance <= 7:\n",
    "        d_set[:,0:3] = sc1.transform(d_set[:,0:3])\n",
    "        p_f = ann1.predict(d_set)\n",
    "        \n",
    "    elif 7 < standoff_distance <= 13:\n",
    "        d_set[:,0:3] = sc2.transform(d_set[:,0:3])\n",
    "        p_f = ann2.predict(d_set)\n",
    "        \n",
    "    elif 13 < standoff_distance <= 19:\n",
    "        d_set[:,0:3] = sc3.transform(d_set[:,0:3])\n",
    "        p_f = ann3.predict(d_set)\n",
    "        \n",
    "    elif 19 < standoff_distance <= 25:\n",
    "        d_set[:,0:3] = sc4.transform(d_set[:,0:3])\n",
    "        p_f = ann4.predict(d_set)\n",
    "        \n",
    "    elif 25 < standoff_distance <= 30:\n",
    "        d_set[:,0:3] = sc5.transform(d_set[:,0:3])\n",
    "        p_f = ann5.predict(d_set)\n",
    "        \n",
    "    else:\n",
    "        print (\"Out of trained range\")\n",
    "    return p_f'''\n",
    "\n",
    "def p_fluctuation2(d_set):\n",
    "    d_set[:,0:4] = sc4.transform(d_set[:,0:4])\n",
    "    p_f = ann4.predict(d_set)\n",
    "    \n",
    "    return p_f\n",
    "\n",
    "if termination_time < arrival_time:\n",
    "    start = 0\n",
    "    end = termination_time\n",
    "    values1 = stable_state(start, end, interval)\n",
    "    arrival_time = 0\n",
    "    end_time = 0\n",
    "\n",
    "else:\n",
    "    start = 0\n",
    "    end = arrival_time\n",
    "    values1 = stable_state(start, end, interval)\n",
    "    \n",
    "    if termination_time < end_time:\n",
    "        end_time = termination_time\n",
    "        \n",
    "    else:\n",
    "        start = end_time\n",
    "        end = termination_time\n",
    "        values3 = stable_state(start, end, interval)\n",
    "\n",
    "t2= np.arange(arrival_time, end_time + interval, interval)\n",
    "t2 = t2.reshape(len(t2),1)\n",
    "\n",
    "if t2[0] < change_time:\n",
    "    ph2 = np.array([[0, 0, 1]])\n",
    "elif change_time <= t2[0] < trough_time:\n",
    "    ph2 = np.array([[0, 1, 0]])\n",
    "else:\n",
    "    ph2 = np.array([[1, 0, 0]])\n",
    "    \n",
    "positive = np.array([0, 0, 1])\n",
    "negative_increasing = np.array([0, 1, 0])\n",
    "negative_decreasing = np.array([1, 0, 0])\n",
    "\n",
    "for time in t2[1:]:\n",
    "    if time < change_time:\n",
    "        ph2=np.vstack((ph2,positive))\n",
    "    elif change_time <= time < trough_time:\n",
    "        ph2=np.vstack((ph2,negative_increasing))\n",
    "    else:\n",
    "        ph2=np.vstack((ph2,negative_decreasing))\n",
    "        \n",
    "m2 = np.repeat(Mass, len(t2)).reshape(len(t2),1)\n",
    "d2 = np.repeat(Standoff_distance, len(t2)).reshape(len(t2),1)\n",
    "a2 = np.repeat(Angle, len(t2)).reshape(len(t2),1)\n",
    "d_set = np.concatenate ((m2, d2, a2, t2, ph2), axis = 1)\n",
    "\n",
    "#p2 = p_fluctuation(Standoff_distance, d_set)\n",
    "p2 = p_fluctuation2(d_set)\n",
    "p2 = p2.reshape((-1, 1))\n",
    "values2 = np.concatenate ((t2, p2), axis = 1)\n",
    "\n",
    "\n",
    "if 'values2' in globals():\n",
    "    ml_model = np.concatenate((values1, values2), axis=0)\n",
    "    if 'values3' in globals():\n",
    "        ml_model = np.concatenate((ml_model, values3), axis=0)\n",
    "else:\n",
    "    ml_model = values1"
   ]
  },
  {
   "cell_type": "code",
   "execution_count": 4,
   "outputs": [
    {
     "name": "stderr",
     "output_type": "stream",
     "text": [
      "C:\\Users\\z5379606\\AppData\\Local\\Temp\\ipykernel_37740\\4241819554.py:2: ParserWarning: Falling back to the 'python' engine because the 'c' engine does not support skipfooter; you can avoid this warning by specifying engine='python'.\n",
      "  lsdyna = pd.read_csv(file_path, delimiter=\"\\s+\", skiprows = 8, skipfooter = 1, header = None, names = [\"Time\", \"Pressure\"])\n"
     ]
    }
   ],
   "source": [
    "file_path = Path('G:/Chamodi/LSDYNA3D/RP_TH_models/RP_Comparison_with_Numerical/14.6m27.1kg_2/1')\n",
    "lsdyna = pd.read_csv(file_path, delimiter=\"\\s+\", skiprows = 8, skipfooter = 1, header = None, names = [\"Time\", \"Pressure\"])\n",
    "\n",
    "Time_adj = 20\n",
    "Pressure_adj = 101\n",
    "\n",
    "lsdyna['Time'] = (lsdyna['Time']*1000)+ Time_adj\n",
    "lsdyna['Pressure'] = (lsdyna['Pressure']/1000)- Pressure_adj\n"
   ],
   "metadata": {
    "collapsed": false,
    "ExecuteTime": {
     "end_time": "2024-08-05T03:28:58.749860200Z",
     "start_time": "2024-08-05T03:28:58.634729400Z"
    }
   },
   "id": "be200572969aaf36"
  },
  {
   "cell_type": "code",
   "execution_count": 5,
   "outputs": [
    {
     "name": "stdout",
     "output_type": "stream",
     "text": [
      "[267 350 380 570]\n"
     ]
    }
   ],
   "source": [
    "X2 = lsdyna['Time']\n",
    "pressure = lsdyna['Pressure']\n",
    "\n",
    "from scipy.signal import find_peaks\n",
    "\n",
    "# Identify peaks with tolerance parameters\n",
    "height_threshold = 10  # Minimum height of peaks to detect\n",
    "prominence = 0.01  # Minimum prominence of peaks in pressure units\n",
    "width = 8  # Minimum width of peaks in time units\n",
    "\n",
    "# Find peaks\n",
    "peaks, properties = find_peaks(pressure, height=height_threshold, prominence=prominence, width=width)\n",
    "print (peaks)\n",
    "\n",
    "# Ensure there are at least two peaks\n",
    "if len(peaks) >= 1:\n",
    "    #first_peak_index = peaks[0]\n",
    "\n",
    "    # Create a copy of pressure data to modify\n",
    "    smoothed_pressure = np.copy(pressure)\n",
    "\n",
    "    # Define a window around each peak after the first peak to apply smoothing\n",
    "    window_radius_r = 30\n",
    "    window_radius_l = 30 # Adjust the window radius as needed\n",
    "\n",
    "    for peak_index in peaks[1:]:\n",
    "        start = max(peak_index - window_radius_l, 0)\n",
    "        end = min(peak_index + window_radius_r + 1, len(pressure))\n",
    "\n",
    "        # Extract values just outside the window\n",
    "        if start > 0 and end < len(pressure):\n",
    "            start_value = pressure[start - 1]\n",
    "            end_value = pressure[end]\n",
    "        elif start > 0:\n",
    "            start_value = pressure[start - 1]\n",
    "            end_value = start_value\n",
    "        elif end < len(pressure):\n",
    "            end_value = pressure[end]\n",
    "            start_value = end_value\n",
    "        else:\n",
    "            start_value = end_value = np.mean(pressure)  # Fallback in case there are no valid points\n",
    "\n",
    "        # Create a linearly spaced array between start_value and end_value\n",
    "        interpolated_values = np.linspace(start_value, end_value, end - start)\n",
    "\n",
    "        # Apply the interpolated values to the points within the window\n",
    "        smoothed_pressure[start:end] = interpolated_values\n",
    "        \n",
    "y2 = smoothed_pressure"
   ],
   "metadata": {
    "collapsed": false,
    "ExecuteTime": {
     "end_time": "2024-08-05T03:29:00.254398800Z",
     "start_time": "2024-08-05T03:29:00.143809700Z"
    }
   },
   "id": "9eeaf23f650662ca"
  },
  {
   "cell_type": "code",
   "execution_count": 6,
   "outputs": [
    {
     "data": {
      "text/plain": "<Figure size 600x600 with 1 Axes>",
      "image/png": "[encoded data removed]"
     },
     "metadata": {},
     "output_type": "display_data"
    }
   ],
   "source": [
    "X1 = ml_model[:,0]\n",
    "y1 = ml_model[:,1]\n",
    "\n",
    "\n",
    "plt.figure(figsize=(6,6))\n",
    "plt.plot(X1, y1, linestyle = 'dashed', color = 'red', label = 'ANN based system')\n",
    "plt.plot(X2, y2, color = 'blue',label = 'LS-DYNA')\n",
    "plt.ylabel('Reflected Pressure (kPa)',fontsize = 18)\n",
    "plt.xlabel('Time (ms)',fontsize = 18)\n",
    "plt.xticks(fontsize = 12)\n",
    "plt.yticks(fontsize = 12)\n",
    "plt.legend(fontsize = 18)\n",
    "plt.xlim (20, 70)\n",
    "plt.savefig('RP_Num&ANN_Comparison/Section4_14.6m27.1kg/0deg1.png', dpi=150, bbox_inches='tight')\n",
    "plt.show()"
   ],
   "metadata": {
    "collapsed": false,
    "ExecuteTime": {
     "end_time": "2024-08-05T03:29:02.741208500Z",
     "start_time": "2024-08-05T03:29:01.652388600Z"
    }
   },
   "id": "180dcba9d2d4f5bd"
  },
  {
   "cell_type": "code",
   "execution_count": null,
   "outputs": [],
   "source": [],
   "metadata": {
    "collapsed": false
   },
   "id": "de2c7580cefa6393"
  }
 ],
 "metadata": {
  "kernelspec": {
   "display_name": "Python 3 (ipykernel)",
   "language": "python",
   "name": "python3"
  },
  "language_info": {
   "codemirror_mode": {
    "name": "ipython",
    "version": 3
   },
   "file_extension": ".py",
   "mimetype": "text/x-python",
   "name": "python",
   "nbconvert_exporter": "python",
   "pygments_lexer": "ipython3",
   "version": "3.9.7"
  }
 },
 "nbformat": 4,
 "nbformat_minor": 5
}
