{
 "cells": [
  {
   "cell_type": "markdown",
   "source": [
    "## Importing libraries and files"
   ],
   "metadata": {
    "collapsed": false
   },
   "id": "498e1bf0a688a38b"
  },
  {
   "cell_type": "code",
   "execution_count": 1,
   "outputs": [],
   "source": [
    "import pandas as pd\n",
    "from keras.models import load_model\n",
    "import pickle\n",
    "import numpy as np\n",
    "import matplotlib.pyplot as plt\n",
    "from pathlib import Path\n",
    "\n",
    "\n",
    "ann_arr = load_model('RP_Arrival_time/Arrival_ANN4')\n",
    "ann_end = load_model('RP_End_time/End_ANN1')\n",
    "ann_chg = load_model('RP_Change_time/Change_ANN2')\n",
    "ann_trg = load_model('RP_Trough_time/Trough_ANN2')\n",
    "\n",
    "#Section1\n",
    "#ann1 = load_model('Pressure_profiles_codes_section_1_regression/ANN_13.h5')\n",
    "#sc1 = pickle.load(open('Pressure_profiles_codes_section_1_regression/scaler_ANN.pkl', 'rb'))\n",
    "#Section2\n",
    "ann2 = load_model('RP_Section_2_new/Section2_new_ANN_4')\n",
    "sc2 = pickle.load(open('RP_Section_2_new/Section2_new_scaler_ANN_4.pkl', 'rb'))\n",
    "#Section3\n",
    "#ann3 = load_model('RP_Section_3_new/Section3_new_ANN_1')\n",
    "#sc3 = pickle.load(open('RP_Section_3_new/Section3_new_scaler_ANN_1.pkl', 'rb'))\n",
    "#Section4\n",
    "#ann4 = load_model('RP_Section_4_new/Section4_new_ANN_1')\n",
    "#sc4 = pickle.load(open('RP_Section_4_new/Section4_new_scaler_ANN_1.pkl', 'rb'))\n",
    "#Section5\n",
    "#ann5 = load_model('RP_Section_5_new/Section5_new_ANN_1')\n",
    "#sc5 = pickle.load(open('RP_Section_5_new/Section5_new_scaler_ANN_1.pkl', 'rb'))\n",
    "#Section6\n",
    "#ann6 = load_model('RP_Section_6_new/Section6_new_ANN_1')\n",
    "#sc6 = pickle.load(open('RP_Section_6_new/Section6_new_scaler_ANN_1.pkl', 'rb'))"
   ],
   "metadata": {
    "collapsed": false,
    "ExecuteTime": {
     "end_time": "2024-08-06T06:31:47.999694100Z",
     "start_time": "2024-08-06T06:31:39.737379100Z"
    }
   },
   "id": "3122126ae010792f"
  },
  {
   "cell_type": "markdown",
   "source": [
    "## Input details"
   ],
   "metadata": {
    "collapsed": false
   },
   "id": "5f559d0fa330bc79"
  },
  {
   "cell_type": "code",
   "execution_count": 2,
   "outputs": [],
   "source": [
    "Mass = 17.3\n",
    "Standoff_distance = 4.5\n",
    "Angle = 0\n",
    "termination_time = 60\n",
    "interval = 0.1"
   ],
   "metadata": {
    "collapsed": false,
    "ExecuteTime": {
     "end_time": "2024-08-06T06:31:48.013698500Z",
     "start_time": "2024-08-06T06:31:48.001693800Z"
    }
   },
   "id": "8e348013c4d88e94"
  },
  {
   "cell_type": "markdown",
   "source": [
    "## Pressure Profile"
   ],
   "metadata": {
    "collapsed": false
   },
   "id": "2e305e1d8d841ad0"
  },
  {
   "cell_type": "code",
   "execution_count": 3,
   "id": "7b0a878a-1117-4580-9cdf-0657137da5e9",
   "metadata": {
    "ExecuteTime": {
     "end_time": "2024-08-06T06:31:49.232289500Z",
     "start_time": "2024-08-06T06:31:48.024851400Z"
    }
   },
   "outputs": [
    {
     "name": "stdout",
     "output_type": "stream",
     "text": [
      "1/1 [==============================] - 0s 135ms/step\n",
      "1/1 [==============================] - 0s 128ms/step\n",
      "1/1 [==============================] - 0s 116ms/step\n",
      "1/1 [==============================] - 0s 116ms/step\n",
      "arrival [[4.06428]] end [[12.528265]] change [[8.385014]] trough [[11.97171]]\n"
     ]
    },
    {
     "name": "stderr",
     "output_type": "stream",
     "text": [
      "C:\\Users\\z5379606\\AppData\\Local\\Temp\\ipykernel_53380\\2908123330.py:14: DeprecationWarning: Conversion of an array with ndim > 0 to a scalar is deprecated, and will error in future. Ensure you extract a single element from your array before performing this operation. (Deprecated NumPy 1.25.)\n",
      "  t = np.arange(start, end + interval, interval)\n",
      "C:\\Users\\z5379606\\AppData\\Local\\Temp\\ipykernel_53380\\2908123330.py:73: DeprecationWarning: Conversion of an array with ndim > 0 to a scalar is deprecated, and will error in future. Ensure you extract a single element from your array before performing this operation. (Deprecated NumPy 1.25.)\n",
      "  t2= np.arange(arrival_time, end_time + interval, interval)\n"
     ]
    },
    {
     "name": "stdout",
     "output_type": "stream",
     "text": [
      "WARNING:tensorflow:5 out of the last 5 calls to <function Model.make_predict_function.<locals>.predict_function at 0x000001AE2EC750D0> triggered tf.function retracing. Tracing is expensive and the excessive number of tracings could be due to (1) creating @tf.function repeatedly in a loop, (2) passing tensors with different shapes, (3) passing Python objects instead of tensors. For (1), please define your @tf.function outside of the loop. For (2), @tf.function has reduce_retracing=True option that can avoid unnecessary retracing. For (3), please refer to https://www.tensorflow.org/guide/function#controlling_retracing and https://www.tensorflow.org/api_docs/python/tf/function for  more details.\n",
      "3/3 [==============================] - 0s 6ms/step\n"
     ]
    }
   ],
   "source": [
    "#values1 = []\n",
    "#values2 = []\n",
    "#values3 = []\n",
    "arr = np.array ([[Mass,Standoff_distance, Angle]])\n",
    "\n",
    "arrival_time = ann_arr.predict(arr)\n",
    "end_time = ann_end.predict(arr)\n",
    "change_time = ann_chg.predict(arr)\n",
    "trough_time = ann_trg.predict(arr)\n",
    "\n",
    "print (\"arrival\", arrival_time, \"end\", end_time, \"change\", change_time, \"trough\", trough_time)\n",
    "\n",
    "def stable_state(start, end, interval):    \n",
    "    t = np.arange(start, end + interval, interval)\n",
    "    t = t.reshape(len(t),1)\n",
    "\n",
    "    p = np.repeat(0, len(t)).reshape(len(t),1)\n",
    "    \n",
    "    values = np.concatenate ((t, p), axis = 1)\n",
    "    return values\n",
    "\n",
    "'''def p_fluctuation(standoff_distance, d_set):\n",
    "    if 3 <= standoff_distance <= 7:\n",
    "        d_set[:,0:3] = sc1.transform(d_set[:,0:3])\n",
    "        p_f = ann1.predict(d_set)\n",
    "        \n",
    "    elif 7 < standoff_distance <= 13:\n",
    "        d_set[:,0:3] = sc2.transform(d_set[:,0:3])\n",
    "        p_f = ann2.predict(d_set)\n",
    "        \n",
    "    elif 13 < standoff_distance <= 19:\n",
    "        d_set[:,0:3] = sc3.transform(d_set[:,0:3])\n",
    "        p_f = ann3.predict(d_set)\n",
    "        \n",
    "    elif 19 < standoff_distance <= 25:\n",
    "        d_set[:,0:3] = sc4.transform(d_set[:,0:3])\n",
    "        p_f = ann4.predict(d_set)\n",
    "        \n",
    "    elif 25 < standoff_distance <= 30:\n",
    "        d_set[:,0:3] = sc5.transform(d_set[:,0:3])\n",
    "        p_f = ann5.predict(d_set)\n",
    "        \n",
    "    else:\n",
    "        print (\"Out of trained range\")\n",
    "    return p_f'''\n",
    "\n",
    "def p_fluctuation2(d_set):\n",
    "    d_set[:,0:4] = sc2.transform(d_set[:,0:4])\n",
    "    p_f = ann2.predict(d_set)\n",
    "    \n",
    "    return p_f\n",
    "\n",
    "if termination_time < arrival_time:\n",
    "    start = 0\n",
    "    end = termination_time\n",
    "    values1 = stable_state(start, end, interval)\n",
    "    arrival_time = 0\n",
    "    end_time = 0\n",
    "\n",
    "else:\n",
    "    start = 0\n",
    "    end = arrival_time\n",
    "    values1 = stable_state(start, end, interval)\n",
    "    \n",
    "    if termination_time < end_time:\n",
    "        end_time = termination_time\n",
    "        \n",
    "    else:\n",
    "        start = end_time\n",
    "        end = termination_time\n",
    "        values3 = stable_state(start, end, interval)\n",
    "\n",
    "t2= np.arange(arrival_time, end_time + interval, interval)\n",
    "t2 = t2.reshape(len(t2),1)\n",
    "\n",
    "if t2[0] < change_time:\n",
    "    ph2 = np.array([[0, 0, 1]])\n",
    "elif change_time <= t2[0] < trough_time:\n",
    "    ph2 = np.array([[0, 1, 0]])\n",
    "else:\n",
    "    ph2 = np.array([[1, 0, 0]])\n",
    "    \n",
    "positive = np.array([0, 0, 1])\n",
    "negative_increasing = np.array([0, 1, 0])\n",
    "negative_decreasing = np.array([1, 0, 0])\n",
    "\n",
    "for time in t2[1:]:\n",
    "    if time < change_time:\n",
    "        ph2=np.vstack((ph2,positive))\n",
    "    elif change_time <= time < trough_time:\n",
    "        ph2=np.vstack((ph2,negative_increasing))\n",
    "    else:\n",
    "        ph2=np.vstack((ph2,negative_decreasing))\n",
    "        \n",
    "m2 = np.repeat(Mass, len(t2)).reshape(len(t2),1)\n",
    "d2 = np.repeat(Standoff_distance, len(t2)).reshape(len(t2),1)\n",
    "a2 = np.repeat(Angle, len(t2)).reshape(len(t2),1)\n",
    "d_set = np.concatenate ((m2, d2, a2, t2, ph2), axis = 1)\n",
    "\n",
    "#p2 = p_fluctuation(Standoff_distance, d_set)\n",
    "p2 = p_fluctuation2(d_set)\n",
    "p2 = p2.reshape((-1, 1))\n",
    "values2 = np.concatenate ((t2, p2), axis = 1)\n",
    "\n",
    "\n",
    "if 'values2' in globals():\n",
    "    ml_model = np.concatenate((values1, values2), axis=0)\n",
    "    if 'values3' in globals():\n",
    "        ml_model = np.concatenate((ml_model, values3), axis=0)\n",
    "else:\n",
    "    ml_model = values1"
   ]
  },
  {
   "cell_type": "code",
   "execution_count": 4,
   "outputs": [
    {
     "name": "stderr",
     "output_type": "stream",
     "text": [
      "C:\\Users\\z5379606\\AppData\\Local\\Temp\\ipykernel_53380\\3480086041.py:2: ParserWarning: Falling back to the 'python' engine because the 'c' engine does not support skipfooter; you can avoid this warning by specifying engine='python'.\n",
      "  lsdyna = pd.read_csv(file_path, delimiter=\"\\s+\", skiprows = 8, skipfooter = 1, header = None, names = [\"Time\", \"Pressure\"])\n"
     ]
    },
    {
     "ename": "FileNotFoundError",
     "evalue": "[Errno 2] No such file or directory: 'G:\\\\Chamodi\\\\LSDYNA3D\\\\RP_TH_models\\\\RP_Comparison_with_Numerical\\\\4.5m17.3kg\\\\1'",
     "output_type": "error",
     "traceback": [
      "\u001B[1;31m---------------------------------------------------------------------------\u001B[0m",
      "\u001B[1;31mFileNotFoundError\u001B[0m                         Traceback (most recent call last)",
      "Cell \u001B[1;32mIn[4], line 2\u001B[0m\n\u001B[0;32m      1\u001B[0m file_path \u001B[38;5;241m=\u001B[39m Path(\u001B[38;5;124m'\u001B[39m\u001B[38;5;124mG:/Chamodi/LSDYNA3D/RP_TH_models/RP_Comparison_with_Numerical/4.5m17.3kg/1\u001B[39m\u001B[38;5;124m'\u001B[39m)\n\u001B[1;32m----> 2\u001B[0m lsdyna \u001B[38;5;241m=\u001B[39m \u001B[43mpd\u001B[49m\u001B[38;5;241;43m.\u001B[39;49m\u001B[43mread_csv\u001B[49m\u001B[43m(\u001B[49m\u001B[43mfile_path\u001B[49m\u001B[43m,\u001B[49m\u001B[43m \u001B[49m\u001B[43mdelimiter\u001B[49m\u001B[38;5;241;43m=\u001B[39;49m\u001B[38;5;124;43m\"\u001B[39;49m\u001B[38;5;124;43m\\\u001B[39;49m\u001B[38;5;124;43ms+\u001B[39;49m\u001B[38;5;124;43m\"\u001B[39;49m\u001B[43m,\u001B[49m\u001B[43m \u001B[49m\u001B[43mskiprows\u001B[49m\u001B[43m \u001B[49m\u001B[38;5;241;43m=\u001B[39;49m\u001B[43m \u001B[49m\u001B[38;5;241;43m8\u001B[39;49m\u001B[43m,\u001B[49m\u001B[43m \u001B[49m\u001B[43mskipfooter\u001B[49m\u001B[43m \u001B[49m\u001B[38;5;241;43m=\u001B[39;49m\u001B[43m \u001B[49m\u001B[38;5;241;43m1\u001B[39;49m\u001B[43m,\u001B[49m\u001B[43m \u001B[49m\u001B[43mheader\u001B[49m\u001B[43m \u001B[49m\u001B[38;5;241;43m=\u001B[39;49m\u001B[43m \u001B[49m\u001B[38;5;28;43;01mNone\u001B[39;49;00m\u001B[43m,\u001B[49m\u001B[43m \u001B[49m\u001B[43mnames\u001B[49m\u001B[43m \u001B[49m\u001B[38;5;241;43m=\u001B[39;49m\u001B[43m \u001B[49m\u001B[43m[\u001B[49m\u001B[38;5;124;43m\"\u001B[39;49m\u001B[38;5;124;43mTime\u001B[39;49m\u001B[38;5;124;43m\"\u001B[39;49m\u001B[43m,\u001B[49m\u001B[43m \u001B[49m\u001B[38;5;124;43m\"\u001B[39;49m\u001B[38;5;124;43mPressure\u001B[39;49m\u001B[38;5;124;43m\"\u001B[39;49m\u001B[43m]\u001B[49m\u001B[43m)\u001B[49m\n\u001B[0;32m      4\u001B[0m Time_adj \u001B[38;5;241m=\u001B[39m \u001B[38;5;241m19\u001B[39m\n\u001B[0;32m      5\u001B[0m Pressure_adj \u001B[38;5;241m=\u001B[39m \u001B[38;5;241m101.25\u001B[39m\n",
      "File \u001B[1;32mD:\\Anaconda3\\envs\\python3.9\\lib\\site-packages\\pandas\\io\\parsers\\readers.py:912\u001B[0m, in \u001B[0;36mread_csv\u001B[1;34m(filepath_or_buffer, sep, delimiter, header, names, index_col, usecols, dtype, engine, converters, true_values, false_values, skipinitialspace, skiprows, skipfooter, nrows, na_values, keep_default_na, na_filter, verbose, skip_blank_lines, parse_dates, infer_datetime_format, keep_date_col, date_parser, date_format, dayfirst, cache_dates, iterator, chunksize, compression, thousands, decimal, lineterminator, quotechar, quoting, doublequote, escapechar, comment, encoding, encoding_errors, dialect, on_bad_lines, delim_whitespace, low_memory, memory_map, float_precision, storage_options, dtype_backend)\u001B[0m\n\u001B[0;32m    899\u001B[0m kwds_defaults \u001B[38;5;241m=\u001B[39m _refine_defaults_read(\n\u001B[0;32m    900\u001B[0m     dialect,\n\u001B[0;32m    901\u001B[0m     delimiter,\n\u001B[1;32m   (...)\u001B[0m\n\u001B[0;32m    908\u001B[0m     dtype_backend\u001B[38;5;241m=\u001B[39mdtype_backend,\n\u001B[0;32m    909\u001B[0m )\n\u001B[0;32m    910\u001B[0m kwds\u001B[38;5;241m.\u001B[39mupdate(kwds_defaults)\n\u001B[1;32m--> 912\u001B[0m \u001B[38;5;28;01mreturn\u001B[39;00m \u001B[43m_read\u001B[49m\u001B[43m(\u001B[49m\u001B[43mfilepath_or_buffer\u001B[49m\u001B[43m,\u001B[49m\u001B[43m \u001B[49m\u001B[43mkwds\u001B[49m\u001B[43m)\u001B[49m\n",
      "File \u001B[1;32mD:\\Anaconda3\\envs\\python3.9\\lib\\site-packages\\pandas\\io\\parsers\\readers.py:577\u001B[0m, in \u001B[0;36m_read\u001B[1;34m(filepath_or_buffer, kwds)\u001B[0m\n\u001B[0;32m    574\u001B[0m _validate_names(kwds\u001B[38;5;241m.\u001B[39mget(\u001B[38;5;124m\"\u001B[39m\u001B[38;5;124mnames\u001B[39m\u001B[38;5;124m\"\u001B[39m, \u001B[38;5;28;01mNone\u001B[39;00m))\n\u001B[0;32m    576\u001B[0m \u001B[38;5;66;03m# Create the parser.\u001B[39;00m\n\u001B[1;32m--> 577\u001B[0m parser \u001B[38;5;241m=\u001B[39m TextFileReader(filepath_or_buffer, \u001B[38;5;241m*\u001B[39m\u001B[38;5;241m*\u001B[39mkwds)\n\u001B[0;32m    579\u001B[0m \u001B[38;5;28;01mif\u001B[39;00m chunksize \u001B[38;5;129;01mor\u001B[39;00m iterator:\n\u001B[0;32m    580\u001B[0m     \u001B[38;5;28;01mreturn\u001B[39;00m parser\n",
      "File \u001B[1;32mD:\\Anaconda3\\envs\\python3.9\\lib\\site-packages\\pandas\\io\\parsers\\readers.py:1407\u001B[0m, in \u001B[0;36mTextFileReader.__init__\u001B[1;34m(self, f, engine, **kwds)\u001B[0m\n\u001B[0;32m   1404\u001B[0m     \u001B[38;5;28mself\u001B[39m\u001B[38;5;241m.\u001B[39moptions[\u001B[38;5;124m\"\u001B[39m\u001B[38;5;124mhas_index_names\u001B[39m\u001B[38;5;124m\"\u001B[39m] \u001B[38;5;241m=\u001B[39m kwds[\u001B[38;5;124m\"\u001B[39m\u001B[38;5;124mhas_index_names\u001B[39m\u001B[38;5;124m\"\u001B[39m]\n\u001B[0;32m   1406\u001B[0m \u001B[38;5;28mself\u001B[39m\u001B[38;5;241m.\u001B[39mhandles: IOHandles \u001B[38;5;241m|\u001B[39m \u001B[38;5;28;01mNone\u001B[39;00m \u001B[38;5;241m=\u001B[39m \u001B[38;5;28;01mNone\u001B[39;00m\n\u001B[1;32m-> 1407\u001B[0m \u001B[38;5;28mself\u001B[39m\u001B[38;5;241m.\u001B[39m_engine \u001B[38;5;241m=\u001B[39m \u001B[38;5;28;43mself\u001B[39;49m\u001B[38;5;241;43m.\u001B[39;49m\u001B[43m_make_engine\u001B[49m\u001B[43m(\u001B[49m\u001B[43mf\u001B[49m\u001B[43m,\u001B[49m\u001B[43m \u001B[49m\u001B[38;5;28;43mself\u001B[39;49m\u001B[38;5;241;43m.\u001B[39;49m\u001B[43mengine\u001B[49m\u001B[43m)\u001B[49m\n",
      "File \u001B[1;32mD:\\Anaconda3\\envs\\python3.9\\lib\\site-packages\\pandas\\io\\parsers\\readers.py:1661\u001B[0m, in \u001B[0;36mTextFileReader._make_engine\u001B[1;34m(self, f, engine)\u001B[0m\n\u001B[0;32m   1659\u001B[0m     \u001B[38;5;28;01mif\u001B[39;00m \u001B[38;5;124m\"\u001B[39m\u001B[38;5;124mb\u001B[39m\u001B[38;5;124m\"\u001B[39m \u001B[38;5;129;01mnot\u001B[39;00m \u001B[38;5;129;01min\u001B[39;00m mode:\n\u001B[0;32m   1660\u001B[0m         mode \u001B[38;5;241m+\u001B[39m\u001B[38;5;241m=\u001B[39m \u001B[38;5;124m\"\u001B[39m\u001B[38;5;124mb\u001B[39m\u001B[38;5;124m\"\u001B[39m\n\u001B[1;32m-> 1661\u001B[0m \u001B[38;5;28mself\u001B[39m\u001B[38;5;241m.\u001B[39mhandles \u001B[38;5;241m=\u001B[39m \u001B[43mget_handle\u001B[49m\u001B[43m(\u001B[49m\n\u001B[0;32m   1662\u001B[0m \u001B[43m    \u001B[49m\u001B[43mf\u001B[49m\u001B[43m,\u001B[49m\n\u001B[0;32m   1663\u001B[0m \u001B[43m    \u001B[49m\u001B[43mmode\u001B[49m\u001B[43m,\u001B[49m\n\u001B[0;32m   1664\u001B[0m \u001B[43m    \u001B[49m\u001B[43mencoding\u001B[49m\u001B[38;5;241;43m=\u001B[39;49m\u001B[38;5;28;43mself\u001B[39;49m\u001B[38;5;241;43m.\u001B[39;49m\u001B[43moptions\u001B[49m\u001B[38;5;241;43m.\u001B[39;49m\u001B[43mget\u001B[49m\u001B[43m(\u001B[49m\u001B[38;5;124;43m\"\u001B[39;49m\u001B[38;5;124;43mencoding\u001B[39;49m\u001B[38;5;124;43m\"\u001B[39;49m\u001B[43m,\u001B[49m\u001B[43m \u001B[49m\u001B[38;5;28;43;01mNone\u001B[39;49;00m\u001B[43m)\u001B[49m\u001B[43m,\u001B[49m\n\u001B[0;32m   1665\u001B[0m \u001B[43m    \u001B[49m\u001B[43mcompression\u001B[49m\u001B[38;5;241;43m=\u001B[39;49m\u001B[38;5;28;43mself\u001B[39;49m\u001B[38;5;241;43m.\u001B[39;49m\u001B[43moptions\u001B[49m\u001B[38;5;241;43m.\u001B[39;49m\u001B[43mget\u001B[49m\u001B[43m(\u001B[49m\u001B[38;5;124;43m\"\u001B[39;49m\u001B[38;5;124;43mcompression\u001B[39;49m\u001B[38;5;124;43m\"\u001B[39;49m\u001B[43m,\u001B[49m\u001B[43m \u001B[49m\u001B[38;5;28;43;01mNone\u001B[39;49;00m\u001B[43m)\u001B[49m\u001B[43m,\u001B[49m\n\u001B[0;32m   1666\u001B[0m \u001B[43m    \u001B[49m\u001B[43mmemory_map\u001B[49m\u001B[38;5;241;43m=\u001B[39;49m\u001B[38;5;28;43mself\u001B[39;49m\u001B[38;5;241;43m.\u001B[39;49m\u001B[43moptions\u001B[49m\u001B[38;5;241;43m.\u001B[39;49m\u001B[43mget\u001B[49m\u001B[43m(\u001B[49m\u001B[38;5;124;43m\"\u001B[39;49m\u001B[38;5;124;43mmemory_map\u001B[39;49m\u001B[38;5;124;43m\"\u001B[39;49m\u001B[43m,\u001B[49m\u001B[43m \u001B[49m\u001B[38;5;28;43;01mFalse\u001B[39;49;00m\u001B[43m)\u001B[49m\u001B[43m,\u001B[49m\n\u001B[0;32m   1667\u001B[0m \u001B[43m    \u001B[49m\u001B[43mis_text\u001B[49m\u001B[38;5;241;43m=\u001B[39;49m\u001B[43mis_text\u001B[49m\u001B[43m,\u001B[49m\n\u001B[0;32m   1668\u001B[0m \u001B[43m    \u001B[49m\u001B[43merrors\u001B[49m\u001B[38;5;241;43m=\u001B[39;49m\u001B[38;5;28;43mself\u001B[39;49m\u001B[38;5;241;43m.\u001B[39;49m\u001B[43moptions\u001B[49m\u001B[38;5;241;43m.\u001B[39;49m\u001B[43mget\u001B[49m\u001B[43m(\u001B[49m\u001B[38;5;124;43m\"\u001B[39;49m\u001B[38;5;124;43mencoding_errors\u001B[39;49m\u001B[38;5;124;43m\"\u001B[39;49m\u001B[43m,\u001B[49m\u001B[43m \u001B[49m\u001B[38;5;124;43m\"\u001B[39;49m\u001B[38;5;124;43mstrict\u001B[39;49m\u001B[38;5;124;43m\"\u001B[39;49m\u001B[43m)\u001B[49m\u001B[43m,\u001B[49m\n\u001B[0;32m   1669\u001B[0m \u001B[43m    \u001B[49m\u001B[43mstorage_options\u001B[49m\u001B[38;5;241;43m=\u001B[39;49m\u001B[38;5;28;43mself\u001B[39;49m\u001B[38;5;241;43m.\u001B[39;49m\u001B[43moptions\u001B[49m\u001B[38;5;241;43m.\u001B[39;49m\u001B[43mget\u001B[49m\u001B[43m(\u001B[49m\u001B[38;5;124;43m\"\u001B[39;49m\u001B[38;5;124;43mstorage_options\u001B[39;49m\u001B[38;5;124;43m\"\u001B[39;49m\u001B[43m,\u001B[49m\u001B[43m \u001B[49m\u001B[38;5;28;43;01mNone\u001B[39;49;00m\u001B[43m)\u001B[49m\u001B[43m,\u001B[49m\n\u001B[0;32m   1670\u001B[0m \u001B[43m\u001B[49m\u001B[43m)\u001B[49m\n\u001B[0;32m   1671\u001B[0m \u001B[38;5;28;01massert\u001B[39;00m \u001B[38;5;28mself\u001B[39m\u001B[38;5;241m.\u001B[39mhandles \u001B[38;5;129;01mis\u001B[39;00m \u001B[38;5;129;01mnot\u001B[39;00m \u001B[38;5;28;01mNone\u001B[39;00m\n\u001B[0;32m   1672\u001B[0m f \u001B[38;5;241m=\u001B[39m \u001B[38;5;28mself\u001B[39m\u001B[38;5;241m.\u001B[39mhandles\u001B[38;5;241m.\u001B[39mhandle\n",
      "File \u001B[1;32mD:\\Anaconda3\\envs\\python3.9\\lib\\site-packages\\pandas\\io\\common.py:859\u001B[0m, in \u001B[0;36mget_handle\u001B[1;34m(path_or_buf, mode, encoding, compression, memory_map, is_text, errors, storage_options)\u001B[0m\n\u001B[0;32m    854\u001B[0m \u001B[38;5;28;01melif\u001B[39;00m \u001B[38;5;28misinstance\u001B[39m(handle, \u001B[38;5;28mstr\u001B[39m):\n\u001B[0;32m    855\u001B[0m     \u001B[38;5;66;03m# Check whether the filename is to be opened in binary mode.\u001B[39;00m\n\u001B[0;32m    856\u001B[0m     \u001B[38;5;66;03m# Binary mode does not support 'encoding' and 'newline'.\u001B[39;00m\n\u001B[0;32m    857\u001B[0m     \u001B[38;5;28;01mif\u001B[39;00m ioargs\u001B[38;5;241m.\u001B[39mencoding \u001B[38;5;129;01mand\u001B[39;00m \u001B[38;5;124m\"\u001B[39m\u001B[38;5;124mb\u001B[39m\u001B[38;5;124m\"\u001B[39m \u001B[38;5;129;01mnot\u001B[39;00m \u001B[38;5;129;01min\u001B[39;00m ioargs\u001B[38;5;241m.\u001B[39mmode:\n\u001B[0;32m    858\u001B[0m         \u001B[38;5;66;03m# Encoding\u001B[39;00m\n\u001B[1;32m--> 859\u001B[0m         handle \u001B[38;5;241m=\u001B[39m \u001B[38;5;28;43mopen\u001B[39;49m\u001B[43m(\u001B[49m\n\u001B[0;32m    860\u001B[0m \u001B[43m            \u001B[49m\u001B[43mhandle\u001B[49m\u001B[43m,\u001B[49m\n\u001B[0;32m    861\u001B[0m \u001B[43m            \u001B[49m\u001B[43mioargs\u001B[49m\u001B[38;5;241;43m.\u001B[39;49m\u001B[43mmode\u001B[49m\u001B[43m,\u001B[49m\n\u001B[0;32m    862\u001B[0m \u001B[43m            \u001B[49m\u001B[43mencoding\u001B[49m\u001B[38;5;241;43m=\u001B[39;49m\u001B[43mioargs\u001B[49m\u001B[38;5;241;43m.\u001B[39;49m\u001B[43mencoding\u001B[49m\u001B[43m,\u001B[49m\n\u001B[0;32m    863\u001B[0m \u001B[43m            \u001B[49m\u001B[43merrors\u001B[49m\u001B[38;5;241;43m=\u001B[39;49m\u001B[43merrors\u001B[49m\u001B[43m,\u001B[49m\n\u001B[0;32m    864\u001B[0m \u001B[43m            \u001B[49m\u001B[43mnewline\u001B[49m\u001B[38;5;241;43m=\u001B[39;49m\u001B[38;5;124;43m\"\u001B[39;49m\u001B[38;5;124;43m\"\u001B[39;49m\u001B[43m,\u001B[49m\n\u001B[0;32m    865\u001B[0m \u001B[43m        \u001B[49m\u001B[43m)\u001B[49m\n\u001B[0;32m    866\u001B[0m     \u001B[38;5;28;01melse\u001B[39;00m:\n\u001B[0;32m    867\u001B[0m         \u001B[38;5;66;03m# Binary mode\u001B[39;00m\n\u001B[0;32m    868\u001B[0m         handle \u001B[38;5;241m=\u001B[39m \u001B[38;5;28mopen\u001B[39m(handle, ioargs\u001B[38;5;241m.\u001B[39mmode)\n",
      "\u001B[1;31mFileNotFoundError\u001B[0m: [Errno 2] No such file or directory: 'G:\\\\Chamodi\\\\LSDYNA3D\\\\RP_TH_models\\\\RP_Comparison_with_Numerical\\\\4.5m17.3kg\\\\1'"
     ]
    }
   ],
   "source": [
    "file_path = Path('G:/Chamodi/LSDYNA3D/RP_TH_models/RP_Comparison_with_Numerical/4.5m17.3kg/1')\n",
    "lsdyna = pd.read_csv(file_path, delimiter=\"\\s+\", skiprows = 8, skipfooter = 1, header = None, names = [\"Time\", \"Pressure\"])\n",
    "\n",
    "Time_adj = 19\n",
    "Pressure_adj = 101.25\n",
    "\n",
    "lsdyna['Time'] = (lsdyna['Time']*1000)+ Time_adj\n",
    "lsdyna['Pressure'] = (lsdyna['Pressure']/1000)- Pressure_adj"
   ],
   "metadata": {
    "collapsed": false,
    "ExecuteTime": {
     "end_time": "2024-08-06T06:31:51.448450600Z",
     "start_time": "2024-08-06T06:31:49.209291400Z"
    }
   },
   "id": "be200572969aaf36"
  },
  {
   "cell_type": "code",
   "execution_count": null,
   "outputs": [],
   "source": [
    "X2 = lsdyna['Time']\n",
    "pressure = lsdyna['Pressure']\n",
    "\n",
    "\n",
    "from scipy.signal import find_peaks\n",
    "\n",
    "# Identify peaks with tolerance parameters\n",
    "height_threshold = 3  # Minimum height of peaks to detect\n",
    "prominence = 0.01  # Minimum prominence of peaks in pressure units\n",
    "width = 6  # Minimum width of peaks in time units\n",
    "\n",
    "# Find peaks\n",
    "peaks, properties = find_peaks(pressure, height=height_threshold, prominence=prominence, width=width)\n",
    "print (peaks)\n",
    "\n",
    "# Ensure there are at least two peaks\n",
    "if len(peaks) >= 1:\n",
    "    #first_peak_index = peaks[0]\n",
    "\n",
    "    # Create a copy of pressure data to modify\n",
    "    smoothed_pressure = np.copy(pressure)\n",
    "\n",
    "    # Define a window around each peak after the first peak to apply smoothing\n",
    "    window_radius_r = 50\n",
    "    window_radius_l = 80 # Adjust the window radius as needed\n",
    "\n",
    "    for peak_index in peaks[1:]:\n",
    "        start = max(peak_index - window_radius_l, 0)\n",
    "        end = min(peak_index + window_radius_r + 1, len(pressure))\n",
    "\n",
    "        # Extract values just outside the window\n",
    "        if start > 0 and end < len(pressure):\n",
    "            start_value = pressure[start - 1]\n",
    "            end_value = pressure[end]\n",
    "        elif start > 0:\n",
    "            start_value = pressure[start - 1]\n",
    "            end_value = start_value\n",
    "        elif end < len(pressure):\n",
    "            end_value = pressure[end]\n",
    "            start_value = end_value\n",
    "        else:\n",
    "            start_value = end_value = np.mean(pressure)  # Fallback in case there are no valid points\n",
    "\n",
    "        # Create a linearly spaced array between start_value and end_value\n",
    "        interpolated_values = np.linspace(start_value, end_value, end - start)\n",
    "\n",
    "        # Apply the interpolated values to the points within the window\n",
    "        smoothed_pressure[start:end] = interpolated_values\n",
    "        \n",
    "y2 = smoothed_pressure\n",
    "\n",
    "plt.figure(figsize=(6,6))\n",
    "plt.plot(lsdyna['Time'], lsdyna['Pressure'], color = 'blue',label = 'Numerical')\n",
    "plt.plot(lsdyna['Time'], y2, color = 'red',label = 'Numerical')\n",
    "plt.show()"
   ],
   "metadata": {
    "collapsed": false,
    "ExecuteTime": {
     "end_time": "2024-08-06T06:31:51.451451500Z",
     "start_time": "2024-08-06T06:31:51.450451300Z"
    }
   },
   "id": "9eeaf23f650662ca"
  },
  {
   "cell_type": "code",
   "execution_count": null,
   "outputs": [],
   "source": [
    "X1 = ml_model[:,0]\n",
    "y1 = ml_model[:,1]\n",
    "\n",
    "\n",
    "plt.figure(figsize=(6,6))\n",
    "plt.rcParams[\"font.family\"] = \"Times New Roman\"\n",
    "plt.plot(X1, y1, linestyle = 'dashed', color = 'red', label = 'ANN framework')\n",
    "plt.plot(X2, y2, color = 'blue',label = 'Numerical')\n",
    "plt.ylabel('Reflected overpressure (kPa)',fontsize = 20)\n",
    "plt.xlabel('Time (ms)',fontsize = 20)\n",
    "plt.xticks(fontsize = 18)\n",
    "plt.yticks(fontsize = 18)\n",
    "plt.legend(fontsize = 20)\n",
    "\n",
    "# Create the annotation text\n",
    "annotation_text = (f'Peak reflected overpressure\\n\\nANN framework - {round(max(y1), 2)} kPa\\n'\n",
    "                   f'Numerical - {round(max(y2), 2)} kPa')\n",
    "\n",
    "plt.annotate(annotation_text,xy=(0.4,0.5), xycoords='figure fraction', fontsize=18)\n",
    "plt.xlim (25, 60)\n",
    "plt.savefig('RP_Num&ANN_Comparison/Section2_4.5m17.3kg/0deg3.png', dpi=150, bbox_inches='tight')\n",
    "plt.show()"
   ],
   "metadata": {
    "collapsed": false,
    "ExecuteTime": {
     "end_time": "2024-08-06T06:31:51.452450700Z",
     "start_time": "2024-08-06T06:31:51.452450700Z"
    }
   },
   "id": "180dcba9d2d4f5bd"
  }
 ],
 "metadata": {
  "kernelspec": {
   "display_name": "Python 3 (ipykernel)",
   "language": "python",
   "name": "python3"
  },
  "language_info": {
   "codemirror_mode": {
    "name": "ipython",
    "version": 3
   },
   "file_extension": ".py",
   "mimetype": "text/x-python",
   "name": "python",
   "nbconvert_exporter": "python",
   "pygments_lexer": "ipython3",
   "version": "3.9.7"
  }
 },
 "nbformat": 4,
 "nbformat_minor": 5
}
