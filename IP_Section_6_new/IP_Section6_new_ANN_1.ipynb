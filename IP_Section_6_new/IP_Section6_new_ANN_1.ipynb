{
 "cells": [
  {
   "cell_type": "markdown",
   "metadata": {
    "colab_type": "text",
    "id": "3cbb7fRy-eyr"
   },
   "source": [
    "# Artificial Neural Network"
   ]
  },
  {
   "cell_type": "markdown",
   "metadata": {
    "colab_type": "text",
    "id": "8sNDnxE2-pwE"
   },
   "source": [
    "## Part 1 - Importing the libraries"
   ]
  },
  {
   "cell_type": "code",
   "execution_count": 1,
   "metadata": {
    "colab": {},
    "colab_type": "code",
    "id": "lxChR1Rk-umf",
    "ExecuteTime": {
     "end_time": "2024-12-06T03:54:06.877810Z",
     "start_time": "2024-12-06T03:53:59.567644Z"
    }
   },
   "outputs": [],
   "source": [
    "import numpy as np\n",
    "import pandas as pd\n",
    "import tensorflow as tf\n",
    "import matplotlib.pyplot as plt\n",
    "from keras.models import load_model\n",
    "from pathlib import Path\n",
    "import pickle"
   ]
  },
  {
   "cell_type": "markdown",
   "metadata": {
    "colab_type": "text",
    "id": "AG3FQEch-yuA"
   },
   "source": [
    "## Part 2 - Data Preprocessing"
   ]
  },
  {
   "cell_type": "code",
   "execution_count": 2,
   "metadata": {
    "ExecuteTime": {
     "end_time": "2024-12-06T03:54:22.593073900Z",
     "start_time": "2024-12-06T03:54:22.513691Z"
    }
   },
   "outputs": [
    {
     "name": "stdout",
     "output_type": "stream",
     "text": [
      "input G:\\Chamodi\\LSDYNA_1D\\Incident_pressure_time_history\\Far_field_time_history_dataset\n",
      "2 [WindowsPath('G:/Chamodi/LSDYNA_1D/Incident_pressure_time_history/Far_field_time_history_dataset/L13_1'), WindowsPath('G:/Chamodi/LSDYNA_1D/Incident_pressure_time_history/Far_field_time_history_dataset/L13_13'), WindowsPath('G:/Chamodi/LSDYNA_1D/Incident_pressure_time_history/Far_field_time_history_dataset/L13_17'), WindowsPath('G:/Chamodi/LSDYNA_1D/Incident_pressure_time_history/Far_field_time_history_dataset/L13_21'), WindowsPath('G:/Chamodi/LSDYNA_1D/Incident_pressure_time_history/Far_field_time_history_dataset/L13_25'), WindowsPath('G:/Chamodi/LSDYNA_1D/Incident_pressure_time_history/Far_field_time_history_dataset/L13_29'), WindowsPath('G:/Chamodi/LSDYNA_1D/Incident_pressure_time_history/Far_field_time_history_dataset/L13_33'), WindowsPath('G:/Chamodi/LSDYNA_1D/Incident_pressure_time_history/Far_field_time_history_dataset/L13_37'), WindowsPath('G:/Chamodi/LSDYNA_1D/Incident_pressure_time_history/Far_field_time_history_dataset/L13_41'), WindowsPath('G:/Chamodi/LSDYNA_1D/Incident_pressure_time_history/Far_field_time_history_dataset/L13_45'), WindowsPath('G:/Chamodi/LSDYNA_1D/Incident_pressure_time_history/Far_field_time_history_dataset/L13_49'), WindowsPath('G:/Chamodi/LSDYNA_1D/Incident_pressure_time_history/Far_field_time_history_dataset/L13_5'), WindowsPath('G:/Chamodi/LSDYNA_1D/Incident_pressure_time_history/Far_field_time_history_dataset/L13_53'), WindowsPath('G:/Chamodi/LSDYNA_1D/Incident_pressure_time_history/Far_field_time_history_dataset/L13_57'), WindowsPath('G:/Chamodi/LSDYNA_1D/Incident_pressure_time_history/Far_field_time_history_dataset/L13_61'), WindowsPath('G:/Chamodi/LSDYNA_1D/Incident_pressure_time_history/Far_field_time_history_dataset/L13_65'), WindowsPath('G:/Chamodi/LSDYNA_1D/Incident_pressure_time_history/Far_field_time_history_dataset/L13_69'), WindowsPath('G:/Chamodi/LSDYNA_1D/Incident_pressure_time_history/Far_field_time_history_dataset/L13_70'), WindowsPath('G:/Chamodi/LSDYNA_1D/Incident_pressure_time_history/Far_field_time_history_dataset/L13_9')]\n"
     ]
    }
   ],
   "source": [
    "#Access input folder\n",
    "current_dir = Path.cwd()\n",
    "input_dir1 = Path (\"G:/Chamodi/LSDYNA_1D/Incident_pressure_time_history/Far_field_time_history_dataset\")\n",
    "print (\"input\",input_dir1)\n",
    "\n",
    "#Access folders inside input folder\n",
    "input_dir2_train =  [folder_input for folder_input in input_dir1.iterdir() if folder_input.is_dir()]\n",
    "print (\"2\",input_dir2_train)"
   ]
  },
  {
   "cell_type": "code",
   "execution_count": 3,
   "metadata": {
    "ExecuteTime": {
     "end_time": "2024-12-06T03:54:31.036665700Z",
     "start_time": "2024-12-06T03:54:25.593230900Z"
    }
   },
   "outputs": [
    {
     "name": "stdout",
     "output_type": "stream",
     "text": [
      "folder G:\\Chamodi\\LSDYNA_1D\\Incident_pressure_time_history\\Far_field_time_history_dataset\\L13_1\n",
      "P49\n",
      "P53\n",
      "P57\n",
      "P59\n",
      "folder G:\\Chamodi\\LSDYNA_1D\\Incident_pressure_time_history\\Far_field_time_history_dataset\\L13_13\n",
      "P49\n",
      "P53\n",
      "P57\n",
      "P59\n",
      "folder G:\\Chamodi\\LSDYNA_1D\\Incident_pressure_time_history\\Far_field_time_history_dataset\\L13_17\n",
      "P49\n",
      "P53\n",
      "P57\n",
      "P59\n",
      "folder G:\\Chamodi\\LSDYNA_1D\\Incident_pressure_time_history\\Far_field_time_history_dataset\\L13_21\n",
      "P49\n",
      "P53\n",
      "P57\n",
      "P59\n",
      "folder G:\\Chamodi\\LSDYNA_1D\\Incident_pressure_time_history\\Far_field_time_history_dataset\\L13_25\n",
      "P49\n",
      "P53\n",
      "P57\n",
      "P59\n",
      "folder G:\\Chamodi\\LSDYNA_1D\\Incident_pressure_time_history\\Far_field_time_history_dataset\\L13_29\n",
      "P49\n",
      "P53\n",
      "P57\n",
      "P59\n",
      "folder G:\\Chamodi\\LSDYNA_1D\\Incident_pressure_time_history\\Far_field_time_history_dataset\\L13_33\n",
      "P49\n",
      "P53\n",
      "P57\n",
      "P59\n",
      "folder G:\\Chamodi\\LSDYNA_1D\\Incident_pressure_time_history\\Far_field_time_history_dataset\\L13_37\n",
      "P49\n",
      "P53\n",
      "P57\n",
      "P59\n",
      "folder G:\\Chamodi\\LSDYNA_1D\\Incident_pressure_time_history\\Far_field_time_history_dataset\\L13_41\n",
      "P49\n",
      "P53\n",
      "P57\n",
      "P59\n",
      "folder G:\\Chamodi\\LSDYNA_1D\\Incident_pressure_time_history\\Far_field_time_history_dataset\\L13_45\n",
      "P49\n",
      "P53\n",
      "P57\n",
      "P59\n",
      "folder G:\\Chamodi\\LSDYNA_1D\\Incident_pressure_time_history\\Far_field_time_history_dataset\\L13_49\n",
      "P49\n",
      "P53\n",
      "P57\n",
      "P59\n",
      "folder G:\\Chamodi\\LSDYNA_1D\\Incident_pressure_time_history\\Far_field_time_history_dataset\\L13_5\n",
      "P49\n",
      "P53\n",
      "P57\n",
      "P59\n",
      "folder G:\\Chamodi\\LSDYNA_1D\\Incident_pressure_time_history\\Far_field_time_history_dataset\\L13_53\n",
      "P49\n",
      "P53\n",
      "P57\n",
      "P59\n",
      "folder G:\\Chamodi\\LSDYNA_1D\\Incident_pressure_time_history\\Far_field_time_history_dataset\\L13_57\n",
      "P49\n",
      "P53\n",
      "P57\n",
      "P59\n",
      "folder G:\\Chamodi\\LSDYNA_1D\\Incident_pressure_time_history\\Far_field_time_history_dataset\\L13_61\n",
      "P49\n",
      "P53\n",
      "P57\n",
      "P59\n",
      "folder G:\\Chamodi\\LSDYNA_1D\\Incident_pressure_time_history\\Far_field_time_history_dataset\\L13_65\n",
      "P49\n",
      "P53\n",
      "P57\n",
      "P59\n",
      "folder G:\\Chamodi\\LSDYNA_1D\\Incident_pressure_time_history\\Far_field_time_history_dataset\\L13_69\n",
      "P49\n",
      "P53\n",
      "P57\n",
      "P59\n",
      "folder G:\\Chamodi\\LSDYNA_1D\\Incident_pressure_time_history\\Far_field_time_history_dataset\\L13_70\n",
      "P49\n",
      "P53\n",
      "P57\n",
      "P59\n",
      "folder G:\\Chamodi\\LSDYNA_1D\\Incident_pressure_time_history\\Far_field_time_history_dataset\\L13_9\n",
      "P49\n",
      "P53\n",
      "P57\n",
      "P59\n"
     ]
    }
   ],
   "source": [
    "# Access each folder inside input folder\n",
    "dataset_train = pd.DataFrame(columns = ['Mass', 'Standoff distance', 'Time', 'Phase', 'Pressure'])\n",
    "df_list_train = []\n",
    "for folder_train in input_dir2_train:\n",
    "    \n",
    "    # Make a list of data file names\n",
    "    files_train = list(file_train for file_train in folder_train.rglob(\"*.xlsx\") if 48 < int(file_train.stem[1:]) < 60)\n",
    "    print (\"folder\", folder_train)\n",
    "    \n",
    "    for file_train in files_train:\n",
    "        df_list_train.append(pd.read_excel(file_train))\n",
    "        print (file_train.stem)\n",
    "\n",
    "dataset_train = pd.concat(df_list_train, ignore_index = True)"
   ]
  },
  {
   "cell_type": "code",
   "execution_count": 4,
   "metadata": {
    "colab": {},
    "colab_type": "code",
    "id": "B9CV13Co_HHM",
    "ExecuteTime": {
     "end_time": "2024-12-06T03:58:57.336730500Z",
     "start_time": "2024-12-06T03:58:57.257852700Z"
    }
   },
   "outputs": [
    {
     "name": "stdout",
     "output_type": "stream",
     "text": [
      "<class 'pandas.core.frame.DataFrame'>\n",
      "RangeIndex: 11780 entries, 0 to 11779\n",
      "Data columns (total 5 columns):\n",
      " #   Column             Non-Null Count  Dtype  \n",
      "---  ------             --------------  -----  \n",
      " 0   Mass               11780 non-null  float64\n",
      " 1   Standoff distance  11780 non-null  int64  \n",
      " 2   Time               11780 non-null  float64\n",
      " 3   Phase              11780 non-null  object \n",
      " 4   Pressure           11780 non-null  float64\n",
      "dtypes: float64(3), int64(1), object(1)\n",
      "memory usage: 460.3+ KB\n"
     ]
    }
   ],
   "source": [
    "dataset_train.info()"
   ]
  },
  {
   "cell_type": "code",
   "execution_count": 5,
   "outputs": [
    {
     "name": "stdout",
     "output_type": "stream",
     "text": [
      "<class 'pandas.core.frame.DataFrame'>\n",
      "RangeIndex: 11780 entries, 0 to 11779\n",
      "Data columns (total 6 columns):\n",
      " #   Column             Non-Null Count  Dtype  \n",
      "---  ------             --------------  -----  \n",
      " 0   Mass               11780 non-null  float64\n",
      " 1   Standoff distance  11780 non-null  int64  \n",
      " 2   Time               11780 non-null  float64\n",
      " 3   Pressure           11780 non-null  float64\n",
      " 4   Phase_negative     11780 non-null  uint8  \n",
      " 5   Phase_positive     11780 non-null  uint8  \n",
      "dtypes: float64(3), int64(1), uint8(2)\n",
      "memory usage: 391.3 KB\n"
     ]
    }
   ],
   "source": [
    "dataset_train = pd.get_dummies(dataset_train, columns =['Phase'], dtype = np.uint8)\n",
    "dataset_train.info()"
   ],
   "metadata": {
    "collapsed": false,
    "ExecuteTime": {
     "end_time": "2024-12-06T03:58:59.190280400Z",
     "start_time": "2024-12-06T03:58:59.117979100Z"
    }
   }
  },
  {
   "cell_type": "code",
   "execution_count": 6,
   "outputs": [
    {
     "data": {
      "text/plain": "    Mass  Standoff distance       Time  Pressure  Phase_negative  \\\n0    0.5                 25  68.709783  2.532711               0   \n1    0.5                 25  68.719670  2.514875               0   \n2    0.5                 25  68.729959  2.486336               0   \n3    0.5                 25  68.739846  2.491250               0   \n4    0.5                 25  68.749726  2.493414               0   \n5    0.5                 25  68.769902  2.466836               0   \n6    0.5                 25  68.789668  2.462156               0   \n7    0.5                 25  68.799965  2.447836               0   \n8    0.5                 25  68.809845  2.438187               0   \n9    0.5                 25  68.819731  2.437430               0   \n10   0.5                 25  68.829611  2.430352               0   \n11   0.5                 25  68.839908  2.415805               0   \n12   0.5                 25  68.849787  2.410039               0   \n13   0.5                 25  68.859674  2.408523               0   \n14   0.5                 25  68.879850  2.385188               0   \n15   0.5                 25  68.899617  2.378227               0   \n16   0.5                 25  68.909906  2.364898               0   \n17   0.5                 25  68.919793  2.356148               0   \n18   0.5                 25  68.929672  2.354352               0   \n19   0.5                 25  68.939969  2.346219               0   \n20   0.5                 25  68.949848  2.333602               0   \n21   0.5                 25  68.959735  2.328211               0   \n22   0.5                 25  68.969615  2.325273               0   \n23   0.5                 25  68.989791  2.303781               0   \n24   0.5                 25  68.999678  2.300508               0   \n25   0.5                 25  69.009967  2.294555               0   \n26   0.5                 25  69.019854  2.282758               0   \n27   0.5                 25  69.029734  2.275273               0   \n28   0.5                 25  69.039620  2.272219               0   \n29   0.5                 25  69.059797  2.252398               0   \n\n    Phase_positive  \n0                1  \n1                1  \n2                1  \n3                1  \n4                1  \n5                1  \n6                1  \n7                1  \n8                1  \n9                1  \n10               1  \n11               1  \n12               1  \n13               1  \n14               1  \n15               1  \n16               1  \n17               1  \n18               1  \n19               1  \n20               1  \n21               1  \n22               1  \n23               1  \n24               1  \n25               1  \n26               1  \n27               1  \n28               1  \n29               1  ",
      "text/html": "<div>\n<style scoped>\n    .dataframe tbody tr th:only-of-type {\n        vertical-align: middle;\n    }\n\n    .dataframe tbody tr th {\n        vertical-align: top;\n    }\n\n    .dataframe thead th {\n        text-align: right;\n    }\n</style>\n<table border=\"1\" class=\"dataframe\">\n  <thead>\n    <tr style=\"text-align: right;\">\n      <th></th>\n      <th>Mass</th>\n      <th>Standoff distance</th>\n      <th>Time</th>\n      <th>Pressure</th>\n      <th>Phase_negative</th>\n      <th>Phase_positive</th>\n    </tr>\n  </thead>\n  <tbody>\n    <tr>\n      <th>0</th>\n      <td>0.5</td>\n      <td>25</td>\n      <td>68.709783</td>\n      <td>2.532711</td>\n      <td>0</td>\n      <td>1</td>\n    </tr>\n    <tr>\n      <th>1</th>\n      <td>0.5</td>\n      <td>25</td>\n      <td>68.719670</td>\n      <td>2.514875</td>\n      <td>0</td>\n      <td>1</td>\n    </tr>\n    <tr>\n      <th>2</th>\n      <td>0.5</td>\n      <td>25</td>\n      <td>68.729959</td>\n      <td>2.486336</td>\n      <td>0</td>\n      <td>1</td>\n    </tr>\n    <tr>\n      <th>3</th>\n      <td>0.5</td>\n      <td>25</td>\n      <td>68.739846</td>\n      <td>2.491250</td>\n      <td>0</td>\n      <td>1</td>\n    </tr>\n    <tr>\n      <th>4</th>\n      <td>0.5</td>\n      <td>25</td>\n      <td>68.749726</td>\n      <td>2.493414</td>\n      <td>0</td>\n      <td>1</td>\n    </tr>\n    <tr>\n      <th>5</th>\n      <td>0.5</td>\n      <td>25</td>\n      <td>68.769902</td>\n      <td>2.466836</td>\n      <td>0</td>\n      <td>1</td>\n    </tr>\n    <tr>\n      <th>6</th>\n      <td>0.5</td>\n      <td>25</td>\n      <td>68.789668</td>\n      <td>2.462156</td>\n      <td>0</td>\n      <td>1</td>\n    </tr>\n    <tr>\n      <th>7</th>\n      <td>0.5</td>\n      <td>25</td>\n      <td>68.799965</td>\n      <td>2.447836</td>\n      <td>0</td>\n      <td>1</td>\n    </tr>\n    <tr>\n      <th>8</th>\n      <td>0.5</td>\n      <td>25</td>\n      <td>68.809845</td>\n      <td>2.438187</td>\n      <td>0</td>\n      <td>1</td>\n    </tr>\n    <tr>\n      <th>9</th>\n      <td>0.5</td>\n      <td>25</td>\n      <td>68.819731</td>\n      <td>2.437430</td>\n      <td>0</td>\n      <td>1</td>\n    </tr>\n    <tr>\n      <th>10</th>\n      <td>0.5</td>\n      <td>25</td>\n      <td>68.829611</td>\n      <td>2.430352</td>\n      <td>0</td>\n      <td>1</td>\n    </tr>\n    <tr>\n      <th>11</th>\n      <td>0.5</td>\n      <td>25</td>\n      <td>68.839908</td>\n      <td>2.415805</td>\n      <td>0</td>\n      <td>1</td>\n    </tr>\n    <tr>\n      <th>12</th>\n      <td>0.5</td>\n      <td>25</td>\n      <td>68.849787</td>\n      <td>2.410039</td>\n      <td>0</td>\n      <td>1</td>\n    </tr>\n    <tr>\n      <th>13</th>\n      <td>0.5</td>\n      <td>25</td>\n      <td>68.859674</td>\n      <td>2.408523</td>\n      <td>0</td>\n      <td>1</td>\n    </tr>\n    <tr>\n      <th>14</th>\n      <td>0.5</td>\n      <td>25</td>\n      <td>68.879850</td>\n      <td>2.385188</td>\n      <td>0</td>\n      <td>1</td>\n    </tr>\n    <tr>\n      <th>15</th>\n      <td>0.5</td>\n      <td>25</td>\n      <td>68.899617</td>\n      <td>2.378227</td>\n      <td>0</td>\n      <td>1</td>\n    </tr>\n    <tr>\n      <th>16</th>\n      <td>0.5</td>\n      <td>25</td>\n      <td>68.909906</td>\n      <td>2.364898</td>\n      <td>0</td>\n      <td>1</td>\n    </tr>\n    <tr>\n      <th>17</th>\n      <td>0.5</td>\n      <td>25</td>\n      <td>68.919793</td>\n      <td>2.356148</td>\n      <td>0</td>\n      <td>1</td>\n    </tr>\n    <tr>\n      <th>18</th>\n      <td>0.5</td>\n      <td>25</td>\n      <td>68.929672</td>\n      <td>2.354352</td>\n      <td>0</td>\n      <td>1</td>\n    </tr>\n    <tr>\n      <th>19</th>\n      <td>0.5</td>\n      <td>25</td>\n      <td>68.939969</td>\n      <td>2.346219</td>\n      <td>0</td>\n      <td>1</td>\n    </tr>\n    <tr>\n      <th>20</th>\n      <td>0.5</td>\n      <td>25</td>\n      <td>68.949848</td>\n      <td>2.333602</td>\n      <td>0</td>\n      <td>1</td>\n    </tr>\n    <tr>\n      <th>21</th>\n      <td>0.5</td>\n      <td>25</td>\n      <td>68.959735</td>\n      <td>2.328211</td>\n      <td>0</td>\n      <td>1</td>\n    </tr>\n    <tr>\n      <th>22</th>\n      <td>0.5</td>\n      <td>25</td>\n      <td>68.969615</td>\n      <td>2.325273</td>\n      <td>0</td>\n      <td>1</td>\n    </tr>\n    <tr>\n      <th>23</th>\n      <td>0.5</td>\n      <td>25</td>\n      <td>68.989791</td>\n      <td>2.303781</td>\n      <td>0</td>\n      <td>1</td>\n    </tr>\n    <tr>\n      <th>24</th>\n      <td>0.5</td>\n      <td>25</td>\n      <td>68.999678</td>\n      <td>2.300508</td>\n      <td>0</td>\n      <td>1</td>\n    </tr>\n    <tr>\n      <th>25</th>\n      <td>0.5</td>\n      <td>25</td>\n      <td>69.009967</td>\n      <td>2.294555</td>\n      <td>0</td>\n      <td>1</td>\n    </tr>\n    <tr>\n      <th>26</th>\n      <td>0.5</td>\n      <td>25</td>\n      <td>69.019854</td>\n      <td>2.282758</td>\n      <td>0</td>\n      <td>1</td>\n    </tr>\n    <tr>\n      <th>27</th>\n      <td>0.5</td>\n      <td>25</td>\n      <td>69.029734</td>\n      <td>2.275273</td>\n      <td>0</td>\n      <td>1</td>\n    </tr>\n    <tr>\n      <th>28</th>\n      <td>0.5</td>\n      <td>25</td>\n      <td>69.039620</td>\n      <td>2.272219</td>\n      <td>0</td>\n      <td>1</td>\n    </tr>\n    <tr>\n      <th>29</th>\n      <td>0.5</td>\n      <td>25</td>\n      <td>69.059797</td>\n      <td>2.252398</td>\n      <td>0</td>\n      <td>1</td>\n    </tr>\n  </tbody>\n</table>\n</div>"
     },
     "execution_count": 6,
     "metadata": {},
     "output_type": "execute_result"
    }
   ],
   "source": [
    "dataset_train.head(30)"
   ],
   "metadata": {
    "collapsed": false,
    "ExecuteTime": {
     "end_time": "2024-12-06T03:59:01.362145Z",
     "start_time": "2024-12-06T03:59:01.219831500Z"
    }
   }
  },
  {
   "cell_type": "code",
   "execution_count": 7,
   "metadata": {
    "ExecuteTime": {
     "end_time": "2024-12-06T03:59:08.034716400Z",
     "start_time": "2024-12-06T03:59:07.961866300Z"
    }
   },
   "outputs": [
    {
     "name": "stdout",
     "output_type": "stream",
     "text": [
      "(11780, 5) (11780,)\n"
     ]
    }
   ],
   "source": [
    "y = dataset_train['Pressure']\n",
    "X = dataset_train.drop(['Pressure'], axis=1)\n",
    "print(X.shape, y.shape)"
   ]
  },
  {
   "cell_type": "code",
   "execution_count": 8,
   "metadata": {
    "ExecuteTime": {
     "end_time": "2024-12-06T03:59:09.633512400Z",
     "start_time": "2024-12-06T03:59:09.540075800Z"
    }
   },
   "outputs": [],
   "source": [
    "# convert to numpy array\n",
    "X = np.array(X)\n",
    "y = np.array(y)"
   ]
  },
  {
   "cell_type": "code",
   "execution_count": 9,
   "metadata": {
    "colab": {},
    "colab_type": "code",
    "id": "L5edeb2r_agx",
    "ExecuteTime": {
     "end_time": "2024-12-06T03:59:14.353415200Z",
     "start_time": "2024-12-06T03:59:13.069616Z"
    }
   },
   "outputs": [],
   "source": [
    "from sklearn.model_selection import train_test_split\n",
    "X_train, X_test, y_train, y_test = train_test_split(X,\n",
    "                                                    y,\n",
    "                                                    test_size = 0.4,\n",
    "                                                    random_state = 0)"
   ]
  },
  {
   "cell_type": "code",
   "execution_count": 10,
   "metadata": {
    "colab": {},
    "colab_type": "code",
    "id": "L5edeb2r_agx",
    "ExecuteTime": {
     "end_time": "2024-12-06T03:59:16.785370300Z",
     "start_time": "2024-12-06T03:59:16.690424100Z"
    }
   },
   "outputs": [],
   "source": [
    "X_val, X_test, y_val, y_test = train_test_split(X_test,\n",
    "                                                y_test,\n",
    "                                                test_size = 0.5,\n",
    "                                                random_state = 0)"
   ]
  },
  {
   "cell_type": "code",
   "execution_count": 12,
   "outputs": [
    {
     "name": "stdout",
     "output_type": "stream",
     "text": [
      "[[-1.08434908  0.92373037  0.80634397  0.          1.        ]\n",
      " [-0.73114357  0.92373037  0.57995703  0.          1.        ]\n",
      " [-0.90774633 -1.15362986 -1.1925584   1.          0.        ]\n",
      " ...\n",
      " [ 1.74129497  0.92373037  1.30599039  1.          0.        ]\n",
      " [ 1.96204841  0.67444714  1.3924061   1.          0.        ]\n",
      " [-0.90774633 -1.15362986 -1.19766007  1.          0.        ]]\n"
     ]
    }
   ],
   "source": [
    "from sklearn.preprocessing import StandardScaler\n",
    "#sc = StandardScaler()\n",
    "X_train[:,0:3] = sc.transform(X_train[:, 0:3])\n",
    "print (X_train)"
   ],
   "metadata": {
    "collapsed": false,
    "ExecuteTime": {
     "end_time": "2024-12-06T03:59:57.431214Z",
     "start_time": "2024-12-06T03:59:57.284964200Z"
    }
   }
  },
  {
   "cell_type": "code",
   "execution_count": 13,
   "outputs": [
    {
     "name": "stdout",
     "output_type": "stream",
     "text": [
      "[[-0.90774633 -1.4860075  -1.43425134  1.          0.        ]\n",
      " [ 1.91789772  0.50825832  0.50694197  1.          0.        ]\n",
      " [-0.37793807  0.67444714  0.62842579  1.          0.        ]\n",
      " ...\n",
      " [-0.90774633 -1.15362986 -1.05545025  1.          0.        ]\n",
      " [ 1.96204841  0.84063596  0.19350574  0.          1.        ]\n",
      " [ 1.91789772  0.67444714  0.30351083  0.          1.        ]]\n"
     ]
    }
   ],
   "source": [
    "X_test[:,0:3] = sc.transform(X_test[:,0:3])\n",
    "print (X_test)"
   ],
   "metadata": {
    "collapsed": false,
    "ExecuteTime": {
     "end_time": "2024-12-06T03:59:59.118513400Z",
     "start_time": "2024-12-06T03:59:58.993879500Z"
    }
   }
  },
  {
   "cell_type": "code",
   "execution_count": 14,
   "outputs": [
    {
     "name": "stdout",
     "output_type": "stream",
     "text": [
      "[[-0.90774633 -1.31981868 -1.25345989  1.          0.        ]\n",
      " [ 0.68167845  0.67444714  0.97183482  1.          0.        ]\n",
      " [-0.90774633 -1.15362986 -1.09435073  1.          0.        ]\n",
      " ...\n",
      " [ 1.21148671  0.84063596  1.43258236  1.          0.        ]\n",
      " [-0.90774633 -1.31981868 -1.20212406  1.          0.        ]\n",
      " [-0.90774633 -1.4860075  -1.38036468  1.          0.        ]]\n"
     ]
    }
   ],
   "source": [
    "X_val[:,0:3] = sc.transform(X_val[:,0:3])\n",
    "print (X_val)"
   ],
   "metadata": {
    "collapsed": false,
    "ExecuteTime": {
     "end_time": "2024-12-06T04:00:00.402044400Z",
     "start_time": "2024-12-06T04:00:00.287429200Z"
    }
   }
  },
  {
   "cell_type": "code",
   "execution_count": 15,
   "outputs": [
    {
     "name": "stdout",
     "output_type": "stream",
     "text": [
      "X_train 7068\n",
      "X_test 2356\n",
      "X_val 2356\n"
     ]
    }
   ],
   "source": [
    "print (\"X_train\", len(X_train))\n",
    "print (\"X_test\", len(X_test))\n",
    "print (\"X_val\", len(X_val))"
   ],
   "metadata": {
    "collapsed": false,
    "ExecuteTime": {
     "end_time": "2024-12-06T04:00:01.794005300Z",
     "start_time": "2024-12-06T04:00:01.746710500Z"
    }
   }
  },
  {
   "cell_type": "markdown",
   "metadata": {
    "colab_type": "text",
    "id": "_mSLlAT9_eyI"
   },
   "source": [
    "## Part 3 - Building the ANN"
   ]
  },
  {
   "cell_type": "code",
   "execution_count": 15,
   "metadata": {
    "colab": {},
    "colab_type": "code",
    "id": "J6Hd97Ls__Nz",
    "ExecuteTime": {
     "end_time": "2024-08-22T04:33:41.245446Z",
     "start_time": "2024-08-22T04:33:40.989509500Z"
    }
   },
   "outputs": [],
   "source": [
    "ann = tf.keras.models.Sequential()"
   ]
  },
  {
   "cell_type": "code",
   "execution_count": 16,
   "metadata": {
    "colab": {},
    "colab_type": "code",
    "id": "ksO_Vv40AHix",
    "ExecuteTime": {
     "end_time": "2024-08-22T04:33:41.470641200Z",
     "start_time": "2024-08-22T04:33:41.246450Z"
    }
   },
   "outputs": [],
   "source": [
    "ann.add(tf.keras.layers.Dense(units=150,\n",
    "                              input_shape=(X_train.shape[1],),\n",
    "                              activation='relu'))\n",
    "ann.add(tf.keras.layers.Dense(units=125,\n",
    "                              activation='relu'))\n",
    "ann.add(tf.keras.layers.Dense(units=100,\n",
    "                              activation='relu'))"
   ]
  },
  {
   "cell_type": "code",
   "execution_count": 17,
   "metadata": {
    "colab": {},
    "colab_type": "code",
    "id": "YFATpzsUAkLL",
    "ExecuteTime": {
     "end_time": "2024-08-22T04:33:41.716817300Z",
     "start_time": "2024-08-22T04:33:41.472628400Z"
    }
   },
   "outputs": [],
   "source": [
    "ann.add(tf.keras.layers.Dense(units=1,\n",
    "                              activation='linear'))"
   ]
  },
  {
   "cell_type": "code",
   "execution_count": 18,
   "metadata": {
    "ExecuteTime": {
     "end_time": "2024-08-22T04:33:41.867445600Z",
     "start_time": "2024-08-22T04:33:41.717819100Z"
    }
   },
   "outputs": [
    {
     "name": "stdout",
     "output_type": "stream",
     "text": [
      "Model: \"sequential\"\n",
      "_________________________________________________________________\n",
      " Layer (type)                Output Shape              Param #   \n",
      "=================================================================\n",
      " dense (Dense)               (None, 150)               900       \n",
      "                                                                 \n",
      " dense_1 (Dense)             (None, 125)               18875     \n",
      "                                                                 \n",
      " dense_2 (Dense)             (None, 100)               12600     \n",
      "                                                                 \n",
      " dense_3 (Dense)             (None, 1)                 101       \n",
      "                                                                 \n",
      "=================================================================\n",
      "Total params: 32,476\n",
      "Trainable params: 32,476\n",
      "Non-trainable params: 0\n",
      "_________________________________________________________________\n"
     ]
    }
   ],
   "source": [
    "ann.summary()"
   ]
  },
  {
   "cell_type": "markdown",
   "metadata": {
    "colab_type": "text",
    "id": "fq7e4fF6A1yy"
   },
   "source": [
    "## Part 4 - Training the ANN"
   ]
  },
  {
   "cell_type": "code",
   "execution_count": 19,
   "metadata": {
    "colab": {},
    "colab_type": "code",
    "id": "pesgbWlCAtB4",
    "ExecuteTime": {
     "end_time": "2024-08-22T04:33:42.010708100Z",
     "start_time": "2024-08-22T04:33:41.812388800Z"
    }
   },
   "outputs": [],
   "source": [
    "# from tensorflow.keras.optimizers import Adam\n",
    "from keras.optimizers import Adam\n",
    "opt = Adam(learning_rate=0.001)\n",
    "ann.compile(optimizer = opt,\n",
    "            loss = 'mean_squared_error',\n",
    "            metrics = ['mae'])"
   ]
  },
  {
   "cell_type": "code",
   "execution_count": 20,
   "metadata": {
    "ExecuteTime": {
     "end_time": "2024-08-22T04:33:42.131800200Z",
     "start_time": "2024-08-22T04:33:42.010708100Z"
    }
   },
   "outputs": [],
   "source": [
    "# protects from unnecessary further training of the model if a particular metric does not continue to improve over a number of n epochs. In such a case, the model training would be automatically aborted.\n",
    "from keras.callbacks import EarlyStopping\n",
    "es = EarlyStopping(monitor='val_loss',\n",
    "                   mode='min',\n",
    "                   patience=50,\n",
    "                   restore_best_weights = True)"
   ]
  },
  {
   "cell_type": "code",
   "execution_count": 21,
   "metadata": {
    "colab": {
     "base_uri": "https://localhost:8080/",
     "height": 1000
    },
    "colab_type": "code",
    "id": "c_vV-tiiA5zn",
    "outputId": "4a2b6ee6-ed75-4698-9069-b250e613803f",
    "ExecuteTime": {
     "end_time": "2024-08-22T04:43:06.280849500Z",
     "start_time": "2024-08-22T04:33:42.131800200Z"
    }
   },
   "outputs": [
    {
     "name": "stdout",
     "output_type": "stream",
     "text": [
      "Epoch 1/500\n",
      "447/447 [==============================] - 40s 88ms/step - loss: 2.8022 - mae: 1.1269 - val_loss: 0.9134 - val_mae: 0.6885\n",
      "Epoch 2/500\n",
      "447/447 [==============================] - 2s 5ms/step - loss: 0.4095 - mae: 0.4552 - val_loss: 0.2831 - val_mae: 0.3574\n",
      "Epoch 3/500\n",
      "447/447 [==============================] - 2s 4ms/step - loss: 0.2559 - mae: 0.3293 - val_loss: 0.2670 - val_mae: 0.3162\n",
      "Epoch 4/500\n",
      "447/447 [==============================] - 2s 5ms/step - loss: 0.2276 - mae: 0.2897 - val_loss: 0.2519 - val_mae: 0.3172\n",
      "Epoch 5/500\n",
      "447/447 [==============================] - 3s 6ms/step - loss: 0.2225 - mae: 0.2818 - val_loss: 0.2420 - val_mae: 0.2817\n",
      "Epoch 6/500\n",
      "447/447 [==============================] - 2s 4ms/step - loss: 0.2254 - mae: 0.2855 - val_loss: 0.2073 - val_mae: 0.2510\n",
      "Epoch 7/500\n",
      "447/447 [==============================] - 5s 12ms/step - loss: 0.2260 - mae: 0.2857 - val_loss: 0.2757 - val_mae: 0.3537\n",
      "Epoch 8/500\n",
      "447/447 [==============================] - 2s 4ms/step - loss: 0.2233 - mae: 0.2848 - val_loss: 0.2097 - val_mae: 0.2635\n",
      "Epoch 9/500\n",
      "447/447 [==============================] - 5s 12ms/step - loss: 0.2129 - mae: 0.2678 - val_loss: 0.2180 - val_mae: 0.2524\n",
      "Epoch 10/500\n",
      "447/447 [==============================] - 2s 5ms/step - loss: 0.2167 - mae: 0.2749 - val_loss: 0.2042 - val_mae: 0.2660\n",
      "Epoch 11/500\n",
      "447/447 [==============================] - 2s 5ms/step - loss: 0.2113 - mae: 0.2660 - val_loss: 0.2363 - val_mae: 0.3103\n",
      "Epoch 12/500\n",
      "447/447 [==============================] - 4s 8ms/step - loss: 0.2088 - mae: 0.2671 - val_loss: 0.1941 - val_mae: 0.2314\n",
      "Epoch 13/500\n",
      "447/447 [==============================] - 2s 4ms/step - loss: 0.2091 - mae: 0.2655 - val_loss: 0.2128 - val_mae: 0.2792\n",
      "Epoch 14/500\n",
      "447/447 [==============================] - 2s 4ms/step - loss: 0.2060 - mae: 0.2634 - val_loss: 0.2187 - val_mae: 0.2775\n",
      "Epoch 15/500\n",
      "447/447 [==============================] - 4s 9ms/step - loss: 0.2073 - mae: 0.2599 - val_loss: 0.1830 - val_mae: 0.2399\n",
      "Epoch 16/500\n",
      "447/447 [==============================] - 2s 4ms/step - loss: 0.2047 - mae: 0.2638 - val_loss: 0.2069 - val_mae: 0.2477\n",
      "Epoch 17/500\n",
      "447/447 [==============================] - 3s 7ms/step - loss: 0.1974 - mae: 0.2558 - val_loss: 0.1901 - val_mae: 0.2385\n",
      "Epoch 18/500\n",
      "447/447 [==============================] - 3s 6ms/step - loss: 0.1968 - mae: 0.2514 - val_loss: 0.1991 - val_mae: 0.2601\n",
      "Epoch 19/500\n",
      "447/447 [==============================] - 2s 5ms/step - loss: 0.1953 - mae: 0.2516 - val_loss: 0.2053 - val_mae: 0.2910\n",
      "Epoch 20/500\n",
      "447/447 [==============================] - 2s 5ms/step - loss: 0.1939 - mae: 0.2463 - val_loss: 0.2236 - val_mae: 0.3039\n",
      "Epoch 21/500\n",
      "447/447 [==============================] - 5s 11ms/step - loss: 0.1922 - mae: 0.2475 - val_loss: 0.2219 - val_mae: 0.2411\n",
      "Epoch 22/500\n",
      "447/447 [==============================] - 5s 10ms/step - loss: 0.1903 - mae: 0.2440 - val_loss: 0.2130 - val_mae: 0.2993\n",
      "Epoch 23/500\n",
      "447/447 [==============================] - 2s 5ms/step - loss: 0.1863 - mae: 0.2367 - val_loss: 0.1928 - val_mae: 0.2153\n",
      "Epoch 24/500\n",
      "447/447 [==============================] - 5s 11ms/step - loss: 0.1867 - mae: 0.2368 - val_loss: 0.1961 - val_mae: 0.2371\n",
      "Epoch 25/500\n",
      "447/447 [==============================] - 2s 3ms/step - loss: 0.1895 - mae: 0.2432 - val_loss: 0.2001 - val_mae: 0.2462\n",
      "Epoch 26/500\n",
      "447/447 [==============================] - 2s 5ms/step - loss: 0.1779 - mae: 0.2280 - val_loss: 0.1798 - val_mae: 0.2429\n",
      "Epoch 27/500\n",
      "447/447 [==============================] - 4s 8ms/step - loss: 0.1944 - mae: 0.2449 - val_loss: 0.1829 - val_mae: 0.2171\n",
      "Epoch 28/500\n",
      "447/447 [==============================] - 2s 5ms/step - loss: 0.1736 - mae: 0.2215 - val_loss: 0.2214 - val_mae: 0.2496\n",
      "Epoch 29/500\n",
      "447/447 [==============================] - 3s 7ms/step - loss: 0.1881 - mae: 0.2357 - val_loss: 0.1935 - val_mae: 0.2678\n",
      "Epoch 30/500\n",
      "447/447 [==============================] - 3s 8ms/step - loss: 0.1851 - mae: 0.2385 - val_loss: 0.1980 - val_mae: 0.2215\n",
      "Epoch 31/500\n",
      "447/447 [==============================] - 7s 15ms/step - loss: 0.1769 - mae: 0.2295 - val_loss: 0.2256 - val_mae: 0.2470\n",
      "Epoch 32/500\n",
      "447/447 [==============================] - 2s 4ms/step - loss: 0.1746 - mae: 0.2297 - val_loss: 0.1832 - val_mae: 0.2456\n",
      "Epoch 33/500\n",
      "447/447 [==============================] - 2s 5ms/step - loss: 0.1810 - mae: 0.2319 - val_loss: 0.1716 - val_mae: 0.2442\n",
      "Epoch 34/500\n",
      "447/447 [==============================] - 3s 8ms/step - loss: 0.1790 - mae: 0.2324 - val_loss: 0.1548 - val_mae: 0.1992\n",
      "Epoch 35/500\n",
      "447/447 [==============================] - 3s 7ms/step - loss: 0.1779 - mae: 0.2260 - val_loss: 0.1810 - val_mae: 0.2394\n",
      "Epoch 36/500\n",
      "447/447 [==============================] - 2s 3ms/step - loss: 0.1742 - mae: 0.2202 - val_loss: 0.1934 - val_mae: 0.2478\n",
      "Epoch 37/500\n",
      "447/447 [==============================] - 4s 8ms/step - loss: 0.1731 - mae: 0.2204 - val_loss: 0.1670 - val_mae: 0.1962\n",
      "Epoch 38/500\n",
      "447/447 [==============================] - 2s 4ms/step - loss: 0.1774 - mae: 0.2213 - val_loss: 0.1939 - val_mae: 0.2470\n",
      "Epoch 39/500\n",
      "447/447 [==============================] - 2s 4ms/step - loss: 0.1718 - mae: 0.2150 - val_loss: 0.1794 - val_mae: 0.2163\n",
      "Epoch 40/500\n",
      "447/447 [==============================] - 2s 4ms/step - loss: 0.1733 - mae: 0.2198 - val_loss: 0.1637 - val_mae: 0.1967\n",
      "Epoch 41/500\n",
      "447/447 [==============================] - 2s 4ms/step - loss: 0.1731 - mae: 0.2182 - val_loss: 0.2035 - val_mae: 0.2240\n",
      "Epoch 42/500\n",
      "447/447 [==============================] - 2s 4ms/step - loss: 0.1820 - mae: 0.2312 - val_loss: 0.2103 - val_mae: 0.2422\n",
      "Epoch 43/500\n",
      "447/447 [==============================] - 2s 5ms/step - loss: 0.1764 - mae: 0.2224 - val_loss: 0.1860 - val_mae: 0.2565\n",
      "Epoch 44/500\n",
      "447/447 [==============================] - 2s 4ms/step - loss: 0.1763 - mae: 0.2218 - val_loss: 0.2014 - val_mae: 0.2347\n",
      "Epoch 45/500\n",
      "447/447 [==============================] - 2s 4ms/step - loss: 0.1722 - mae: 0.2173 - val_loss: 0.1640 - val_mae: 0.2262\n",
      "Epoch 46/500\n",
      "447/447 [==============================] - 2s 5ms/step - loss: 0.1715 - mae: 0.2203 - val_loss: 0.2077 - val_mae: 0.2686\n",
      "Epoch 47/500\n",
      "447/447 [==============================] - 2s 3ms/step - loss: 0.1677 - mae: 0.2140 - val_loss: 0.1815 - val_mae: 0.2527\n",
      "Epoch 48/500\n",
      "447/447 [==============================] - 3s 6ms/step - loss: 0.1695 - mae: 0.2102 - val_loss: 0.1817 - val_mae: 0.2465\n",
      "Epoch 49/500\n",
      "447/447 [==============================] - 3s 7ms/step - loss: 0.1772 - mae: 0.2286 - val_loss: 0.1509 - val_mae: 0.1801\n",
      "Epoch 50/500\n",
      "447/447 [==============================] - 4s 10ms/step - loss: 0.1773 - mae: 0.2247 - val_loss: 0.1881 - val_mae: 0.2405\n",
      "Epoch 51/500\n",
      "447/447 [==============================] - 4s 10ms/step - loss: 0.1675 - mae: 0.2148 - val_loss: 0.1576 - val_mae: 0.2113\n",
      "Epoch 52/500\n",
      "447/447 [==============================] - 4s 8ms/step - loss: 0.1734 - mae: 0.2151 - val_loss: 0.1862 - val_mae: 0.2289\n",
      "Epoch 53/500\n",
      "447/447 [==============================] - 2s 4ms/step - loss: 0.1702 - mae: 0.2158 - val_loss: 0.1638 - val_mae: 0.2196\n",
      "Epoch 54/500\n",
      "447/447 [==============================] - 3s 6ms/step - loss: 0.1617 - mae: 0.2076 - val_loss: 0.1648 - val_mae: 0.1880\n",
      "Epoch 55/500\n",
      "447/447 [==============================] - 2s 4ms/step - loss: 0.1706 - mae: 0.2208 - val_loss: 0.1605 - val_mae: 0.1995\n",
      "Epoch 56/500\n",
      "447/447 [==============================] - 2s 4ms/step - loss: 0.1750 - mae: 0.2148 - val_loss: 0.1677 - val_mae: 0.1939\n",
      "Epoch 57/500\n",
      "447/447 [==============================] - 2s 4ms/step - loss: 0.1631 - mae: 0.2031 - val_loss: 0.1591 - val_mae: 0.1869\n",
      "Epoch 58/500\n",
      "447/447 [==============================] - 3s 6ms/step - loss: 0.1680 - mae: 0.2138 - val_loss: 0.1559 - val_mae: 0.1883\n",
      "Epoch 59/500\n",
      "447/447 [==============================] - 2s 4ms/step - loss: 0.1620 - mae: 0.2041 - val_loss: 0.1768 - val_mae: 0.2303\n",
      "Epoch 60/500\n",
      "447/447 [==============================] - 2s 3ms/step - loss: 0.1702 - mae: 0.2149 - val_loss: 0.1633 - val_mae: 0.2031\n",
      "Epoch 61/500\n",
      "447/447 [==============================] - 2s 4ms/step - loss: 0.1725 - mae: 0.2152 - val_loss: 0.1913 - val_mae: 0.2012\n",
      "Epoch 62/500\n",
      "447/447 [==============================] - 2s 3ms/step - loss: 0.1737 - mae: 0.2195 - val_loss: 0.1514 - val_mae: 0.1932\n",
      "Epoch 63/500\n",
      "447/447 [==============================] - 2s 5ms/step - loss: 0.1687 - mae: 0.2129 - val_loss: 0.1580 - val_mae: 0.2106\n",
      "Epoch 64/500\n",
      "447/447 [==============================] - 2s 5ms/step - loss: 0.1680 - mae: 0.2106 - val_loss: 0.1677 - val_mae: 0.2170\n",
      "Epoch 65/500\n",
      "447/447 [==============================] - 3s 7ms/step - loss: 0.1656 - mae: 0.2074 - val_loss: 0.1585 - val_mae: 0.2023\n",
      "Epoch 66/500\n",
      "447/447 [==============================] - 3s 7ms/step - loss: 0.1673 - mae: 0.2104 - val_loss: 0.1570 - val_mae: 0.1903\n",
      "Epoch 67/500\n",
      "447/447 [==============================] - 7s 15ms/step - loss: 0.1643 - mae: 0.2066 - val_loss: 0.2370 - val_mae: 0.3182\n",
      "Epoch 68/500\n",
      "447/447 [==============================] - 3s 6ms/step - loss: 0.1636 - mae: 0.2079 - val_loss: 0.2034 - val_mae: 0.2379\n",
      "Epoch 69/500\n",
      "447/447 [==============================] - 2s 5ms/step - loss: 0.1700 - mae: 0.2156 - val_loss: 0.1821 - val_mae: 0.2253\n",
      "Epoch 70/500\n",
      "447/447 [==============================] - 2s 3ms/step - loss: 0.1636 - mae: 0.2060 - val_loss: 0.1748 - val_mae: 0.2217\n",
      "Epoch 71/500\n",
      "447/447 [==============================] - 2s 4ms/step - loss: 0.1654 - mae: 0.2073 - val_loss: 0.1661 - val_mae: 0.1961\n",
      "Epoch 72/500\n",
      "447/447 [==============================] - 2s 4ms/step - loss: 0.1679 - mae: 0.2056 - val_loss: 0.1493 - val_mae: 0.1942\n",
      "Epoch 73/500\n",
      "447/447 [==============================] - 2s 5ms/step - loss: 0.1617 - mae: 0.1988 - val_loss: 0.1542 - val_mae: 0.1883\n",
      "Epoch 74/500\n",
      "447/447 [==============================] - 3s 6ms/step - loss: 0.1660 - mae: 0.2058 - val_loss: 0.2676 - val_mae: 0.2327\n",
      "Epoch 75/500\n",
      "447/447 [==============================] - 3s 7ms/step - loss: 0.1783 - mae: 0.2118 - val_loss: 0.1632 - val_mae: 0.2175\n",
      "Epoch 76/500\n",
      "447/447 [==============================] - 2s 3ms/step - loss: 0.1614 - mae: 0.1981 - val_loss: 0.1525 - val_mae: 0.1775\n",
      "Epoch 77/500\n",
      "447/447 [==============================] - 4s 9ms/step - loss: 0.1667 - mae: 0.2102 - val_loss: 0.1546 - val_mae: 0.1807\n",
      "Epoch 78/500\n",
      "447/447 [==============================] - 2s 4ms/step - loss: 0.1634 - mae: 0.2036 - val_loss: 0.1507 - val_mae: 0.2047\n",
      "Epoch 79/500\n",
      "447/447 [==============================] - 3s 6ms/step - loss: 0.1602 - mae: 0.1988 - val_loss: 0.1583 - val_mae: 0.1923\n",
      "Epoch 80/500\n",
      "447/447 [==============================] - 4s 8ms/step - loss: 0.1613 - mae: 0.2021 - val_loss: 0.1513 - val_mae: 0.1753\n",
      "Epoch 81/500\n",
      "447/447 [==============================] - 4s 10ms/step - loss: 0.1699 - mae: 0.2106 - val_loss: 0.1930 - val_mae: 0.2608\n",
      "Epoch 82/500\n",
      "447/447 [==============================] - 1s 3ms/step - loss: 0.1588 - mae: 0.1999 - val_loss: 0.1903 - val_mae: 0.2559\n",
      "Epoch 83/500\n",
      "447/447 [==============================] - 4s 9ms/step - loss: 0.1594 - mae: 0.2006 - val_loss: 0.1690 - val_mae: 0.1920\n",
      "Epoch 84/500\n",
      "447/447 [==============================] - 4s 8ms/step - loss: 0.1607 - mae: 0.1999 - val_loss: 0.1418 - val_mae: 0.1657\n",
      "Epoch 85/500\n",
      "447/447 [==============================] - 2s 4ms/step - loss: 0.1602 - mae: 0.1987 - val_loss: 0.2001 - val_mae: 0.2193\n",
      "Epoch 86/500\n",
      "447/447 [==============================] - 2s 4ms/step - loss: 0.1642 - mae: 0.2003 - val_loss: 0.1796 - val_mae: 0.2228\n",
      "Epoch 87/500\n",
      "447/447 [==============================] - 2s 4ms/step - loss: 0.1604 - mae: 0.1995 - val_loss: 0.1467 - val_mae: 0.1892\n",
      "Epoch 88/500\n",
      "447/447 [==============================] - 3s 6ms/step - loss: 0.1587 - mae: 0.1956 - val_loss: 0.1530 - val_mae: 0.2100\n",
      "Epoch 89/500\n",
      "447/447 [==============================] - 5s 11ms/step - loss: 0.1600 - mae: 0.1993 - val_loss: 0.1632 - val_mae: 0.1966\n",
      "Epoch 90/500\n",
      "447/447 [==============================] - 2s 5ms/step - loss: 0.1606 - mae: 0.2010 - val_loss: 0.1551 - val_mae: 0.1847\n",
      "Epoch 91/500\n",
      "447/447 [==============================] - 2s 4ms/step - loss: 0.1561 - mae: 0.1954 - val_loss: 0.1589 - val_mae: 0.2083\n",
      "Epoch 92/500\n",
      "447/447 [==============================] - 3s 7ms/step - loss: 0.1662 - mae: 0.2006 - val_loss: 0.1523 - val_mae: 0.1803\n",
      "Epoch 93/500\n",
      "447/447 [==============================] - 2s 4ms/step - loss: 0.1567 - mae: 0.1965 - val_loss: 0.1464 - val_mae: 0.2003\n",
      "Epoch 94/500\n",
      "447/447 [==============================] - 2s 4ms/step - loss: 0.1628 - mae: 0.2000 - val_loss: 0.1894 - val_mae: 0.2435\n",
      "Epoch 95/500\n",
      "447/447 [==============================] - 3s 6ms/step - loss: 0.1587 - mae: 0.1997 - val_loss: 0.1498 - val_mae: 0.1945\n",
      "Epoch 96/500\n",
      "447/447 [==============================] - 2s 3ms/step - loss: 0.1606 - mae: 0.1977 - val_loss: 0.1719 - val_mae: 0.2290\n",
      "Epoch 97/500\n",
      "447/447 [==============================] - 2s 4ms/step - loss: 0.1561 - mae: 0.1929 - val_loss: 0.1630 - val_mae: 0.2077\n",
      "Epoch 98/500\n",
      "447/447 [==============================] - 2s 4ms/step - loss: 0.1650 - mae: 0.2058 - val_loss: 0.1616 - val_mae: 0.1958\n",
      "Epoch 99/500\n",
      "447/447 [==============================] - 3s 6ms/step - loss: 0.1585 - mae: 0.1961 - val_loss: 0.1507 - val_mae: 0.1765\n",
      "Epoch 100/500\n",
      "447/447 [==============================] - 2s 4ms/step - loss: 0.1572 - mae: 0.1940 - val_loss: 0.1844 - val_mae: 0.1887\n",
      "Epoch 101/500\n",
      "447/447 [==============================] - 3s 6ms/step - loss: 0.1647 - mae: 0.2076 - val_loss: 0.1833 - val_mae: 0.2513\n",
      "Epoch 102/500\n",
      "447/447 [==============================] - 2s 3ms/step - loss: 0.1625 - mae: 0.2045 - val_loss: 0.1676 - val_mae: 0.2185\n",
      "Epoch 103/500\n",
      "447/447 [==============================] - 2s 3ms/step - loss: 0.1556 - mae: 0.1937 - val_loss: 0.1931 - val_mae: 0.2642\n",
      "Epoch 104/500\n",
      "447/447 [==============================] - 3s 8ms/step - loss: 0.1601 - mae: 0.1993 - val_loss: 0.1873 - val_mae: 0.2180\n",
      "Epoch 105/500\n",
      "447/447 [==============================] - 6s 13ms/step - loss: 0.1633 - mae: 0.2039 - val_loss: 0.1645 - val_mae: 0.2476\n",
      "Epoch 106/500\n",
      "447/447 [==============================] - 2s 5ms/step - loss: 0.1547 - mae: 0.1896 - val_loss: 0.1988 - val_mae: 0.2239\n",
      "Epoch 107/500\n",
      "447/447 [==============================] - 3s 7ms/step - loss: 0.1525 - mae: 0.1863 - val_loss: 0.1561 - val_mae: 0.1847\n",
      "Epoch 108/500\n",
      "447/447 [==============================] - 3s 7ms/step - loss: 0.1566 - mae: 0.1946 - val_loss: 0.1449 - val_mae: 0.1853\n",
      "Epoch 109/500\n",
      "447/447 [==============================] - 2s 5ms/step - loss: 0.1589 - mae: 0.1928 - val_loss: 0.1491 - val_mae: 0.1700\n",
      "Epoch 110/500\n",
      "447/447 [==============================] - 3s 6ms/step - loss: 0.1545 - mae: 0.1918 - val_loss: 0.1622 - val_mae: 0.1989\n",
      "Epoch 111/500\n",
      "447/447 [==============================] - 2s 4ms/step - loss: 0.1633 - mae: 0.2015 - val_loss: 0.1522 - val_mae: 0.1826\n",
      "Epoch 112/500\n",
      "447/447 [==============================] - 3s 6ms/step - loss: 0.1527 - mae: 0.1856 - val_loss: 0.1436 - val_mae: 0.1754\n",
      "Epoch 113/500\n",
      "447/447 [==============================] - 4s 8ms/step - loss: 0.1550 - mae: 0.1916 - val_loss: 0.1953 - val_mae: 0.2265\n",
      "Epoch 114/500\n",
      "447/447 [==============================] - 4s 10ms/step - loss: 0.1591 - mae: 0.2005 - val_loss: 0.1696 - val_mae: 0.2216\n",
      "Epoch 115/500\n",
      "447/447 [==============================] - 2s 4ms/step - loss: 0.1532 - mae: 0.1906 - val_loss: 0.2093 - val_mae: 0.2013\n",
      "Epoch 116/500\n",
      "447/447 [==============================] - 3s 7ms/step - loss: 0.1576 - mae: 0.1912 - val_loss: 0.1579 - val_mae: 0.1980\n",
      "Epoch 117/500\n",
      "447/447 [==============================] - 3s 8ms/step - loss: 0.1541 - mae: 0.1888 - val_loss: 0.1393 - val_mae: 0.1610\n",
      "Epoch 118/500\n",
      "447/447 [==============================] - 2s 3ms/step - loss: 0.1540 - mae: 0.1920 - val_loss: 0.1852 - val_mae: 0.2002\n",
      "Epoch 119/500\n",
      "447/447 [==============================] - 2s 6ms/step - loss: 0.1543 - mae: 0.1876 - val_loss: 0.1571 - val_mae: 0.1756\n",
      "Epoch 120/500\n",
      "447/447 [==============================] - 2s 4ms/step - loss: 0.1506 - mae: 0.1870 - val_loss: 0.1423 - val_mae: 0.1665\n",
      "Epoch 121/500\n",
      "447/447 [==============================] - 1s 3ms/step - loss: 0.1548 - mae: 0.1875 - val_loss: 0.1452 - val_mae: 0.1884\n",
      "Epoch 122/500\n",
      "447/447 [==============================] - 2s 4ms/step - loss: 0.1553 - mae: 0.1894 - val_loss: 0.1781 - val_mae: 0.2093\n",
      "Epoch 123/500\n",
      "447/447 [==============================] - 2s 4ms/step - loss: 0.1573 - mae: 0.1887 - val_loss: 0.1694 - val_mae: 0.2188\n",
      "Epoch 124/500\n",
      "447/447 [==============================] - 2s 4ms/step - loss: 0.1492 - mae: 0.1818 - val_loss: 0.1879 - val_mae: 0.2016\n",
      "Epoch 125/500\n",
      "447/447 [==============================] - 2s 5ms/step - loss: 0.1544 - mae: 0.1881 - val_loss: 0.1716 - val_mae: 0.1870\n",
      "Epoch 126/500\n",
      "447/447 [==============================] - 3s 6ms/step - loss: 0.1526 - mae: 0.1806 - val_loss: 0.1398 - val_mae: 0.1656\n",
      "Epoch 127/500\n",
      "447/447 [==============================] - 2s 4ms/step - loss: 0.1506 - mae: 0.1863 - val_loss: 0.1380 - val_mae: 0.1637\n",
      "Epoch 128/500\n",
      "447/447 [==============================] - 2s 5ms/step - loss: 0.1569 - mae: 0.1858 - val_loss: 0.1565 - val_mae: 0.1956\n",
      "Epoch 129/500\n",
      "447/447 [==============================] - 3s 6ms/step - loss: 0.1491 - mae: 0.1848 - val_loss: 0.1483 - val_mae: 0.1909\n",
      "Epoch 130/500\n",
      "447/447 [==============================] - 2s 4ms/step - loss: 0.1531 - mae: 0.1899 - val_loss: 0.1540 - val_mae: 0.1923\n",
      "Epoch 131/500\n",
      "447/447 [==============================] - 2s 5ms/step - loss: 0.1528 - mae: 0.1888 - val_loss: 0.1430 - val_mae: 0.1706\n",
      "Epoch 132/500\n",
      "447/447 [==============================] - 2s 4ms/step - loss: 0.1554 - mae: 0.1899 - val_loss: 0.1653 - val_mae: 0.1757\n",
      "Epoch 133/500\n",
      "447/447 [==============================] - 4s 10ms/step - loss: 0.1479 - mae: 0.1822 - val_loss: 0.1350 - val_mae: 0.1632\n",
      "Epoch 134/500\n",
      "447/447 [==============================] - 5s 12ms/step - loss: 0.1482 - mae: 0.1822 - val_loss: 0.1498 - val_mae: 0.1846\n",
      "Epoch 135/500\n",
      "447/447 [==============================] - 2s 5ms/step - loss: 0.1511 - mae: 0.1871 - val_loss: 0.1649 - val_mae: 0.2193\n",
      "Epoch 136/500\n",
      "447/447 [==============================] - 2s 5ms/step - loss: 0.1529 - mae: 0.1887 - val_loss: 0.1454 - val_mae: 0.1817\n",
      "Epoch 137/500\n",
      "447/447 [==============================] - 3s 6ms/step - loss: 0.1499 - mae: 0.1830 - val_loss: 0.1445 - val_mae: 0.1628\n",
      "Epoch 138/500\n",
      "447/447 [==============================] - 3s 6ms/step - loss: 0.1521 - mae: 0.1801 - val_loss: 0.1595 - val_mae: 0.1887\n",
      "Epoch 139/500\n",
      "447/447 [==============================] - 2s 4ms/step - loss: 0.1518 - mae: 0.1864 - val_loss: 0.1589 - val_mae: 0.1890\n",
      "Epoch 140/500\n",
      "447/447 [==============================] - 2s 5ms/step - loss: 0.1557 - mae: 0.1856 - val_loss: 0.1427 - val_mae: 0.1628\n",
      "Epoch 141/500\n",
      "447/447 [==============================] - 4s 10ms/step - loss: 0.1503 - mae: 0.1829 - val_loss: 0.1678 - val_mae: 0.1768\n",
      "Epoch 142/500\n",
      "447/447 [==============================] - 2s 4ms/step - loss: 0.1508 - mae: 0.1873 - val_loss: 0.1861 - val_mae: 0.1831\n",
      "Epoch 143/500\n",
      "447/447 [==============================] - 2s 4ms/step - loss: 0.1603 - mae: 0.1893 - val_loss: 0.1752 - val_mae: 0.2032\n",
      "Epoch 144/500\n",
      "447/447 [==============================] - 2s 4ms/step - loss: 0.1470 - mae: 0.1821 - val_loss: 0.1762 - val_mae: 0.2343\n",
      "Epoch 145/500\n",
      "447/447 [==============================] - 2s 4ms/step - loss: 0.1497 - mae: 0.1805 - val_loss: 0.1634 - val_mae: 0.1812\n",
      "Epoch 146/500\n",
      "447/447 [==============================] - 2s 4ms/step - loss: 0.1506 - mae: 0.1860 - val_loss: 0.1455 - val_mae: 0.1741\n",
      "Epoch 147/500\n",
      "447/447 [==============================] - 2s 4ms/step - loss: 0.1505 - mae: 0.1849 - val_loss: 0.1776 - val_mae: 0.1937\n",
      "Epoch 148/500\n",
      "447/447 [==============================] - 2s 4ms/step - loss: 0.1522 - mae: 0.1884 - val_loss: 0.1550 - val_mae: 0.1880\n",
      "Epoch 149/500\n",
      "447/447 [==============================] - 2s 4ms/step - loss: 0.1603 - mae: 0.1927 - val_loss: 0.1652 - val_mae: 0.1762\n",
      "Epoch 150/500\n",
      "447/447 [==============================] - 2s 5ms/step - loss: 0.1509 - mae: 0.1810 - val_loss: 0.1457 - val_mae: 0.1729\n",
      "Epoch 151/500\n",
      "447/447 [==============================] - 2s 4ms/step - loss: 0.1560 - mae: 0.1921 - val_loss: 0.1519 - val_mae: 0.1778\n",
      "Epoch 152/500\n",
      "447/447 [==============================] - 2s 4ms/step - loss: 0.1501 - mae: 0.1831 - val_loss: 0.1841 - val_mae: 0.2072\n",
      "Epoch 153/500\n",
      "447/447 [==============================] - 2s 4ms/step - loss: 0.1526 - mae: 0.1896 - val_loss: 0.1691 - val_mae: 0.2199\n",
      "Epoch 154/500\n",
      "447/447 [==============================] - 3s 8ms/step - loss: 0.1526 - mae: 0.1881 - val_loss: 0.1374 - val_mae: 0.1756\n",
      "Epoch 155/500\n",
      "447/447 [==============================] - 3s 6ms/step - loss: 0.1562 - mae: 0.1859 - val_loss: 0.1702 - val_mae: 0.1763\n",
      "Epoch 156/500\n",
      "447/447 [==============================] - 2s 4ms/step - loss: 0.1582 - mae: 0.1941 - val_loss: 0.1393 - val_mae: 0.1698\n",
      "Epoch 157/500\n",
      "447/447 [==============================] - 2s 4ms/step - loss: 0.1489 - mae: 0.1815 - val_loss: 0.1440 - val_mae: 0.1767\n",
      "Epoch 158/500\n",
      "447/447 [==============================] - 4s 8ms/step - loss: 0.1472 - mae: 0.1793 - val_loss: 0.1347 - val_mae: 0.1571\n",
      "Epoch 159/500\n",
      "447/447 [==============================] - 7s 15ms/step - loss: 0.1493 - mae: 0.1804 - val_loss: 0.1376 - val_mae: 0.1640\n",
      "Epoch 160/500\n",
      "447/447 [==============================] - 2s 5ms/step - loss: 0.1462 - mae: 0.1808 - val_loss: 0.1571 - val_mae: 0.1953\n",
      "Epoch 161/500\n",
      "447/447 [==============================] - 3s 6ms/step - loss: 0.1502 - mae: 0.1835 - val_loss: 0.1504 - val_mae: 0.1737\n",
      "Epoch 162/500\n",
      "447/447 [==============================] - 2s 4ms/step - loss: 0.1534 - mae: 0.1844 - val_loss: 0.1466 - val_mae: 0.1628\n",
      "Epoch 163/500\n",
      "447/447 [==============================] - 3s 8ms/step - loss: 0.1489 - mae: 0.1837 - val_loss: 0.1385 - val_mae: 0.1796\n",
      "Epoch 164/500\n",
      "447/447 [==============================] - 2s 4ms/step - loss: 0.1510 - mae: 0.1849 - val_loss: 0.1627 - val_mae: 0.1845\n",
      "Epoch 165/500\n",
      "447/447 [==============================] - 2s 4ms/step - loss: 0.1498 - mae: 0.1786 - val_loss: 0.1564 - val_mae: 0.1797\n",
      "Epoch 166/500\n",
      "447/447 [==============================] - 2s 4ms/step - loss: 0.1521 - mae: 0.1863 - val_loss: 0.1553 - val_mae: 0.1795\n",
      "Epoch 167/500\n",
      "447/447 [==============================] - 3s 7ms/step - loss: 0.1504 - mae: 0.1842 - val_loss: 0.1493 - val_mae: 0.1833\n",
      "Epoch 168/500\n",
      "447/447 [==============================] - 2s 5ms/step - loss: 0.1495 - mae: 0.1789 - val_loss: 0.1619 - val_mae: 0.1810\n",
      "Epoch 169/500\n",
      "447/447 [==============================] - 2s 5ms/step - loss: 0.1494 - mae: 0.1817 - val_loss: 0.1555 - val_mae: 0.1587\n",
      "Epoch 170/500\n",
      "447/447 [==============================] - 2s 5ms/step - loss: 0.1493 - mae: 0.1850 - val_loss: 0.1648 - val_mae: 0.1660\n",
      "Epoch 171/500\n",
      "447/447 [==============================] - 2s 4ms/step - loss: 0.1486 - mae: 0.1778 - val_loss: 0.1514 - val_mae: 0.1773\n",
      "Epoch 172/500\n",
      "447/447 [==============================] - 2s 3ms/step - loss: 0.1504 - mae: 0.1808 - val_loss: 0.1478 - val_mae: 0.1761\n",
      "Epoch 173/500\n",
      "447/447 [==============================] - 2s 4ms/step - loss: 0.1460 - mae: 0.1778 - val_loss: 0.1593 - val_mae: 0.1993\n",
      "Epoch 174/500\n",
      "447/447 [==============================] - 2s 5ms/step - loss: 0.1483 - mae: 0.1810 - val_loss: 0.1487 - val_mae: 0.1820\n",
      "Epoch 175/500\n",
      "447/447 [==============================] - 2s 4ms/step - loss: 0.1486 - mae: 0.1807 - val_loss: 0.1719 - val_mae: 0.1737\n",
      "Epoch 176/500\n",
      "447/447 [==============================] - 6s 14ms/step - loss: 0.1540 - mae: 0.1846 - val_loss: 0.1474 - val_mae: 0.1686\n",
      "Epoch 177/500\n",
      "447/447 [==============================] - 3s 6ms/step - loss: 0.1525 - mae: 0.1828 - val_loss: 0.1628 - val_mae: 0.1991\n",
      "Epoch 178/500\n",
      "447/447 [==============================] - 2s 5ms/step - loss: 0.1534 - mae: 0.1919 - val_loss: 0.1713 - val_mae: 0.1806\n",
      "Epoch 179/500\n",
      "447/447 [==============================] - 2s 5ms/step - loss: 0.1583 - mae: 0.1908 - val_loss: 0.1402 - val_mae: 0.1781\n",
      "Epoch 180/500\n",
      "447/447 [==============================] - 2s 4ms/step - loss: 0.1505 - mae: 0.1845 - val_loss: 0.1920 - val_mae: 0.2362\n",
      "Epoch 181/500\n",
      "447/447 [==============================] - 3s 8ms/step - loss: 0.1536 - mae: 0.1877 - val_loss: 0.1748 - val_mae: 0.1988\n",
      "Epoch 182/500\n",
      "447/447 [==============================] - 2s 5ms/step - loss: 0.1482 - mae: 0.1829 - val_loss: 0.1485 - val_mae: 0.1983\n",
      "Epoch 183/500\n",
      "447/447 [==============================] - 3s 8ms/step - loss: 0.1460 - mae: 0.1795 - val_loss: 0.1476 - val_mae: 0.1662\n",
      "Epoch 184/500\n",
      "447/447 [==============================] - 3s 7ms/step - loss: 0.1501 - mae: 0.1823 - val_loss: 0.1496 - val_mae: 0.1672\n",
      "Epoch 185/500\n",
      "447/447 [==============================] - 2s 4ms/step - loss: 0.1457 - mae: 0.1786 - val_loss: 0.1788 - val_mae: 0.1830\n",
      "Epoch 186/500\n",
      "447/447 [==============================] - 2s 4ms/step - loss: 0.1543 - mae: 0.1829 - val_loss: 0.1600 - val_mae: 0.1997\n",
      "Epoch 187/500\n",
      "447/447 [==============================] - 2s 4ms/step - loss: 0.1506 - mae: 0.1827 - val_loss: 0.1661 - val_mae: 0.1887\n",
      "Epoch 188/500\n",
      "447/447 [==============================] - 2s 4ms/step - loss: 0.1561 - mae: 0.1829 - val_loss: 0.1743 - val_mae: 0.1836\n",
      "Epoch 189/500\n",
      "447/447 [==============================] - 2s 4ms/step - loss: 0.1437 - mae: 0.1764 - val_loss: 0.1583 - val_mae: 0.1859\n",
      "Epoch 190/500\n",
      "447/447 [==============================] - 2s 5ms/step - loss: 0.1516 - mae: 0.1867 - val_loss: 0.1838 - val_mae: 0.2248\n",
      "Epoch 191/500\n",
      "447/447 [==============================] - 2s 3ms/step - loss: 0.1514 - mae: 0.1878 - val_loss: 0.1647 - val_mae: 0.1742\n",
      "Epoch 192/500\n",
      "447/447 [==============================] - 3s 6ms/step - loss: 0.1513 - mae: 0.1841 - val_loss: 0.1454 - val_mae: 0.1829\n",
      "Epoch 193/500\n",
      "447/447 [==============================] - 2s 4ms/step - loss: 0.1518 - mae: 0.1857 - val_loss: 0.1548 - val_mae: 0.1979\n",
      "Epoch 194/500\n",
      "447/447 [==============================] - 2s 3ms/step - loss: 0.1454 - mae: 0.1750 - val_loss: 0.1499 - val_mae: 0.1762\n",
      "Epoch 195/500\n",
      "447/447 [==============================] - 1s 3ms/step - loss: 0.1470 - mae: 0.1782 - val_loss: 0.1378 - val_mae: 0.1510\n",
      "Epoch 196/500\n",
      "447/447 [==============================] - 2s 3ms/step - loss: 0.1474 - mae: 0.1788 - val_loss: 0.1571 - val_mae: 0.2249\n",
      "Epoch 197/500\n",
      "447/447 [==============================] - 3s 7ms/step - loss: 0.1575 - mae: 0.1933 - val_loss: 0.1429 - val_mae: 0.1814\n",
      "Epoch 198/500\n",
      "447/447 [==============================] - 2s 4ms/step - loss: 0.1496 - mae: 0.1808 - val_loss: 0.1409 - val_mae: 0.1615\n",
      "Epoch 199/500\n",
      "447/447 [==============================] - 2s 5ms/step - loss: 0.1539 - mae: 0.1862 - val_loss: 0.1441 - val_mae: 0.1762\n",
      "Epoch 200/500\n",
      "447/447 [==============================] - 2s 4ms/step - loss: 0.1489 - mae: 0.1775 - val_loss: 0.1383 - val_mae: 0.1689\n",
      "Epoch 201/500\n",
      "447/447 [==============================] - 3s 7ms/step - loss: 0.1479 - mae: 0.1789 - val_loss: 0.1385 - val_mae: 0.1678\n",
      "Epoch 202/500\n",
      "447/447 [==============================] - 2s 3ms/step - loss: 0.1519 - mae: 0.1848 - val_loss: 0.1522 - val_mae: 0.1599\n",
      "Epoch 203/500\n",
      "447/447 [==============================] - 2s 4ms/step - loss: 0.1519 - mae: 0.1824 - val_loss: 0.1469 - val_mae: 0.1806\n",
      "Epoch 204/500\n",
      "447/447 [==============================] - 2s 4ms/step - loss: 0.1455 - mae: 0.1780 - val_loss: 0.1771 - val_mae: 0.1894\n",
      "Epoch 205/500\n",
      "447/447 [==============================] - 4s 9ms/step - loss: 0.1389 - mae: 0.1695 - val_loss: 0.1967 - val_mae: 0.2591\n",
      "Epoch 206/500\n",
      "447/447 [==============================] - 2s 4ms/step - loss: 0.1459 - mae: 0.1780 - val_loss: 0.1397 - val_mae: 0.1637\n",
      "Epoch 207/500\n",
      "447/447 [==============================] - 2s 4ms/step - loss: 0.1510 - mae: 0.1804 - val_loss: 0.1391 - val_mae: 0.1726\n",
      "Epoch 208/500\n",
      "447/447 [==============================] - 3s 6ms/step - loss: 0.1491 - mae: 0.1814 - val_loss: 0.1475 - val_mae: 0.2011\n"
     ]
    }
   ],
   "source": [
    "history = ann.fit(X_train, y_train,\n",
    "                    validation_data = (X_val, y_val),\n",
    "                    callbacks=[es],\n",
    "                    epochs=500,\n",
    "                    batch_size=30,\n",
    "                    verbose=1)"
   ]
  },
  {
   "cell_type": "code",
   "execution_count": 22,
   "metadata": {
    "ExecuteTime": {
     "end_time": "2024-08-22T04:43:06.811861300Z",
     "start_time": "2024-08-22T04:43:06.272851200Z"
    }
   },
   "outputs": [
    {
     "data": {
      "text/plain": "<Figure size 600x600 with 1 Axes>",
      "image/png": "[encoded data removed]"
     },
     "metadata": {},
     "output_type": "display_data"
    }
   ],
   "source": [
    "# let's see the training and validation accuracy by epoch\n",
    "history_dict = history.history\n",
    "loss_values = history_dict['loss'] # you can change this\n",
    "val_loss_values = history_dict['val_loss'] # you can also change this\n",
    "epochs = range(1, len(loss_values) + 1) # range of X (no. of epochs)\n",
    "\n",
    "# Set global font to Times New Roman and font size\n",
    "plt.rcParams['font.family'] = 'serif'\n",
    "plt.rcParams['font.serif'] = ['Times New Roman']\n",
    "plt.rcParams['font.size'] = 20\n",
    "\n",
    "# Create a plot\n",
    "plt.figure(figsize=(6, 6))\n",
    "plt.plot(epochs, loss_values, 'blue', label='Train set')\n",
    "plt.plot(epochs, val_loss_values, 'orange', label='Validation set')\n",
    "#plt.title('Training and testing loss')\n",
    "\n",
    "\n",
    "plt.xlabel('Epochs')\n",
    "plt.ylabel('Loss (MSE)')\n",
    "plt.legend()\n",
    "plt.savefig('Section6_ANN1_2.png', dpi=200, bbox_inches='tight')\n",
    "plt.show()"
   ]
  },
  {
   "cell_type": "code",
   "execution_count": 23,
   "metadata": {
    "ExecuteTime": {
     "end_time": "2024-08-22T04:43:07.303867400Z",
     "start_time": "2024-08-22T04:43:06.844860300Z"
    }
   },
   "outputs": [
    {
     "data": {
      "text/plain": "<Figure size 600x600 with 1 Axes>",
      "image/png": "[encoded data removed]"
     },
     "metadata": {},
     "output_type": "display_data"
    }
   ],
   "source": [
    "loss_values1 = history_dict['mae'] # you can change this\n",
    "val_loss_values1 = history_dict['val_mae'] # you can also change this\n",
    "epochs = range(1, len(loss_values1) + 1) # range of X (no. of epochs)\n",
    "# Create a plot\n",
    "plt.figure(figsize=(6, 6))\n",
    "plt.plot(epochs, loss_values1, 'blue', label='Train set')\n",
    "plt.plot(epochs, val_loss_values1, 'orange', label='Validation set')\n",
    "#plt.title('Training and testing MAE')\n",
    "plt.xlabel('Epochs')\n",
    "plt.ylabel('MAE (kPa)')\n",
    "plt.legend()\n",
    "plt.savefig('Section6_ANN1_3.png', dpi=200, bbox_inches='tight')\n",
    "plt.show()"
   ]
  },
  {
   "cell_type": "code",
   "execution_count": 24,
   "metadata": {
    "ExecuteTime": {
     "end_time": "2024-08-22T04:43:07.304867300Z",
     "start_time": "2024-08-22T04:43:07.291866100Z"
    }
   },
   "outputs": [
    {
     "name": "stdout",
     "output_type": "stream",
     "text": [
      "range(1, 209)\n"
     ]
    }
   ],
   "source": [
    "print (epochs)"
   ]
  },
  {
   "cell_type": "code",
   "execution_count": 25,
   "metadata": {
    "ExecuteTime": {
     "end_time": "2024-08-22T04:43:09.286890100Z",
     "start_time": "2024-08-22T04:43:07.304867300Z"
    }
   },
   "outputs": [
    {
     "name": "stdout",
     "output_type": "stream",
     "text": [
      "INFO:tensorflow:Assets written to: Section6_new_ANN_1\\assets\n"
     ]
    }
   ],
   "source": [
    "ann.save('Section6_new_ANN_1')\n",
    "import pickle\n",
    "pickle.dump(sc, open('Section6_new_scaler_ANN_1.pkl', 'wb'))"
   ]
  },
  {
   "cell_type": "markdown",
   "metadata": {},
   "source": [
    "## Part 5 - Make predictions"
   ]
  },
  {
   "cell_type": "code",
   "execution_count": 26,
   "metadata": {
    "ExecuteTime": {
     "end_time": "2024-08-22T04:43:12.133931700Z",
     "start_time": "2024-08-22T04:43:09.292890500Z"
    }
   },
   "outputs": [
    {
     "name": "stdout",
     "output_type": "stream",
     "text": [
      "419/419 [==============================] - 1s 2ms/step\n",
      "140/140 [==============================] - 0s 2ms/step\n"
     ]
    },
    {
     "data": {
      "text/plain": "<Figure size 640x480 with 2 Axes>",
      "image/png": "[encoded data removed]"
     },
     "metadata": {},
     "output_type": "display_data"
    }
   ],
   "source": [
    "# scatterplot of actual vs. pred\n",
    "# specify the dimensions \n",
    "fig, axes = plt.subplots(1,2) # 1 row, 2 columns\n",
    "\n",
    "# this makes the individual subplots\n",
    "# Training Results\n",
    "axes[0].scatter(x=y_train, y=ann.predict(X_train)) #first row, first entry (left top)\n",
    "axes[0].set_xlabel(\"Actual\", fontsize=10)\n",
    "axes[0].set_ylabel(\"Predicted\",  fontsize=10)\n",
    "axes[0].set_title(\"Training\")\n",
    "# add 45 deg line\n",
    "x = np.linspace(*axes[0].get_xlim())\n",
    "axes[0].plot(x, x, color='red')\n",
    "# Validation Results\n",
    "axes[1].scatter(x=y_val, y=ann.predict(X_val)) # first row, second entry (right top)\n",
    "axes[1].set_xlabel(\"Actual\", fontsize=10)\n",
    "axes[1].set_ylabel(\"Predicted\",  fontsize=10)\n",
    "axes[1].set_title(\"Validation\")\n",
    "# add 45 deg line\n",
    "x = np.linspace(*axes[1].get_xlim())\n",
    "axes[1].plot(x, x, color='red')\n",
    "\n",
    "# tight layout\n",
    "fig.tight_layout()\n",
    "plt.savefig('Section6_ANN1_1.png', dpi=200, bbox_inches='tight')\n",
    "# show the plot\n",
    "plt.show()"
   ]
  },
  {
   "cell_type": "code",
   "execution_count": 16,
   "metadata": {
    "colab": {
     "base_uri": "https://localhost:8080/",
     "height": 134
    },
    "colab_type": "code",
    "id": "IA0yApEmBG1X",
    "outputId": "cb981e1f-9204-4a2a-fece-9d66a6919189",
    "ExecuteTime": {
     "end_time": "2024-12-06T04:11:04.142164200Z",
     "start_time": "2024-12-06T04:10:00.266710500Z"
    }
   },
   "outputs": [
    {
     "name": "stdout",
     "output_type": "stream",
     "text": [
      "74/74 [==============================] - 64s 854ms/step\n",
      "[[-0.77 -0.75]\n",
      " [-3.59 -5.27]\n",
      " [-2.19 -2.26]\n",
      " ...\n",
      " [ 0.97  1.02]\n",
      " [12.3  12.29]\n",
      " [ 1.58  1.61]]\n"
     ]
    }
   ],
   "source": [
    "y_pred = ann.predict(X_test)\n",
    "np.set_printoptions(precision=2)\n",
    "print(np.concatenate((y_pred.reshape(len(y_pred),1), y_test.reshape(len(y_test),1)),1))"
   ]
  },
  {
   "cell_type": "code",
   "execution_count": 17,
   "metadata": {
    "ExecuteTime": {
     "end_time": "2024-12-06T04:11:16.877057600Z",
     "start_time": "2024-12-06T04:11:16.095447Z"
    }
   },
   "outputs": [
    {
     "data": {
      "text/plain": "Text(0, 0.5, 'Predicted data')"
     },
     "execution_count": 17,
     "metadata": {},
     "output_type": "execute_result"
    },
    {
     "data": {
      "text/plain": "<Figure size 640x480 with 1 Axes>",
      "image/png": "[encoded data removed]"
     },
     "metadata": {},
     "output_type": "display_data"
    }
   ],
   "source": [
    "import matplotlib.pyplot as plt\n",
    "plt.scatter(y_test+101.25, y_pred+101.25, color=\"blue\")\n",
    "plt.xlabel ('Actual data')\n",
    "plt.ylabel ('Predicted data')"
   ]
  },
  {
   "cell_type": "code",
   "execution_count": 20,
   "metadata": {
    "ExecuteTime": {
     "end_time": "2024-12-06T04:13:20.928286700Z",
     "start_time": "2024-12-06T04:13:19.847209200Z"
    }
   },
   "outputs": [
    {
     "data": {
      "text/plain": "<Figure size 600x600 with 1 Axes>",
      "image/png": "[encoded data removed]"
     },
     "metadata": {},
     "output_type": "display_data"
    }
   ],
   "source": [
    "from sklearn.metrics import r2_score\n",
    "# Initialize layout\n",
    "#plt.rcdefaults()\n",
    "fig1, ax1 = plt.subplots(figsize = (6, 6))\n",
    "\n",
    "# Set global font to Times New Roman and font size\n",
    "plt.rcParams['font.family'] = 'serif'\n",
    "plt.rcParams['font.serif'] = ['Times New Roman']\n",
    "plt.rcParams['font.size'] = 25\n",
    "\n",
    "b_l = 95\n",
    "u_l = 120\n",
    "\n",
    "# Add scatterplot\n",
    "ax1.scatter(y_test+101.25, y_pred+101.25, s=70, alpha=1, edgecolors=\"k\",c='mediumblue',zorder=5, label = 'Points')\n",
    "\n",
    "\n",
    "plt.ylabel('Predicted Incident Pressure (kPa)',fontsize = 22)\n",
    "plt.xlabel('Target Incident Pressure (kPa)',fontsize = 22)\n",
    "plt.xticks([95,100,105,110,115,120],fontsize = 22)\n",
    "plt.yticks([95,100,105,110,115,120],fontsize = 22)\n",
    "\n",
    "\n",
    "x1 = np.linspace(b_l, u_l)\n",
    "\n",
    "plt.plot(x1, x1, 'Red', label='45\\N{DEGREE SIGN} line',lw=2.5,alpha=1)\n",
    "\n",
    "plt.ylim(b_l, u_l)\n",
    "plt.xlim(b_l, u_l)\n",
    "#plt.legend(loc='upper center', bbox_to_anchor=(0.5, -0.15), ncol=4, frameon = False, fontsize = 20)\n",
    "\n",
    "#plt.grid()\n",
    "\n",
    "ax1.spines['left'].set_color('black')        # setting up Y-axis tick color to red\n",
    "ax1.spines['bottom'].set_color('black')         #setting up above X-axis tick color to red\n",
    "\n",
    "plt.savefig('Section6_ANN1_new.png', dpi=200, bbox_inches='tight')"
   ]
  },
  {
   "cell_type": "code",
   "execution_count": 30,
   "metadata": {
    "ExecuteTime": {
     "end_time": "2024-08-22T04:43:14.526964900Z",
     "start_time": "2024-08-22T04:43:13.454950400Z"
    }
   },
   "outputs": [
    {
     "name": "stdout",
     "output_type": "stream",
     "text": [
      "419/419 [==============================] - 1s 2ms/step\n",
      "0.15692540964564106\n",
      "0.16686759530790224\n"
     ]
    }
   ],
   "source": [
    "# metrics\n",
    "trainpreds = ann.predict(X_train)\n",
    "\n",
    "from sklearn.metrics import mean_absolute_error\n",
    "print(mean_absolute_error(y_train, trainpreds)) # train\n",
    "print(mean_absolute_error(y_test, y_pred)) # test"
   ]
  },
  {
   "cell_type": "code",
   "execution_count": 21,
   "metadata": {
    "ExecuteTime": {
     "end_time": "2024-12-06T04:18:32.194696500Z",
     "start_time": "2024-12-06T04:18:32.069527300Z"
    }
   },
   "outputs": [
    {
     "name": "stdout",
     "output_type": "stream",
     "text": [
      "0.9883838743519804\n"
     ]
    }
   ],
   "source": [
    "from sklearn.metrics import r2_score\n",
    "r2 = r2_score(y_test+101.25, y_pred+101.25)\n",
    "print (r2)"
   ]
  },
  {
   "cell_type": "code",
   "execution_count": 32,
   "metadata": {
    "ExecuteTime": {
     "end_time": "2024-08-22T04:43:14.648970300Z",
     "start_time": "2024-08-22T04:43:14.545964400Z"
    }
   },
   "outputs": [
    {
     "name": "stdout",
     "output_type": "stream",
     "text": [
      "0.988391169915671\n"
     ]
    }
   ],
   "source": [
    "r2_train = r2_score(y_train, trainpreds)\n",
    "print (r2_train)"
   ]
  },
  {
   "cell_type": "code",
   "execution_count": 33,
   "metadata": {
    "ExecuteTime": {
     "end_time": "2024-08-22T04:43:15.130973300Z",
     "start_time": "2024-08-22T04:43:14.652966Z"
    }
   },
   "outputs": [
    {
     "name": "stdout",
     "output_type": "stream",
     "text": [
      "Within 5% margin 40.99%\n",
      "Within 10% margin 47.63%\n",
      "Within 20% margin 53.29%\n",
      "Out of 20% margin 46.71%\n"
     ]
    }
   ],
   "source": [
    "count0 = 0\n",
    "for i in range(len(y_pred)):\n",
    "    line1 = y_pred[i] - 0.95*y_test[i]\n",
    "    line2 = y_pred[i] - 1.05*y_test[i]\n",
    "    mask0 = (line1 > 0) & (line2 < 0)\n",
    "    count0 = np.sum(mask0+count0)\n",
    "\n",
    "count1 = 0\n",
    "for i in range(len(y_pred)):\n",
    "    line1 = y_pred[i] - 0.9*y_test[i]\n",
    "    line2 = y_pred[i] - 1.1*y_test[i]\n",
    "    mask1 = (line1 > 0) & (line2 < 0)\n",
    "    count1 = np.sum(mask1+count1)\n",
    "\n",
    "count2 = 0\n",
    "for j in range(len(y_pred)):\n",
    "    line3 = y_pred[j] - 0.8*y_test[j]\n",
    "    line4 = y_pred[j] - 1.2*y_test[j]\n",
    "    mask2 = (line3 > 0) & (line4 < 0)\n",
    "    count2 = np.sum(mask2+count2)\n",
    "\n",
    "\n",
    "count3 = 0    \n",
    "for k in range(len(y_pred)):\n",
    "    line5 = y_pred[k] - 0.8*y_test[k]\n",
    "    line6 = y_pred[k] - 1.2*y_test[k]\n",
    "    mask3 = (line5 < 0) or (line6 > 0)\n",
    "    count3 = np.sum(mask3+count3)\n",
    "   \n",
    "\n",
    "print ('Within 5% margin', format((count0/len (y_pred)),'.2%'))\n",
    "print ('Within 10% margin', format((count1/len (y_pred)),'.2%'))\n",
    "print ('Within 20% margin', format((count2/len (y_pred)),'.2%'))\n",
    "print ('Out of 20% margin', format((count3/len (y_pred)),'.2%'))"
   ]
  },
  {
   "cell_type": "code",
   "execution_count": 23,
   "metadata": {
    "ExecuteTime": {
     "end_time": "2024-12-06T04:18:52.329036800Z",
     "start_time": "2024-12-06T04:18:52.163625200Z"
    }
   },
   "outputs": [
    {
     "name": "stdout",
     "output_type": "stream",
     "text": [
      "0.9883591591910271\n"
     ]
    }
   ],
   "source": [
    "adj_r2 = 1 - ((1 - r2) * (len(X_test) - 1) / (len(X_test) - len (X_test[0]) - 1))\n",
    "print (adj_r2)"
   ]
  },
  {
   "cell_type": "code",
   "execution_count": 24,
   "metadata": {
    "ExecuteTime": {
     "end_time": "2024-12-06T04:18:53.783188600Z",
     "start_time": "2024-12-06T04:18:53.672501400Z"
    }
   },
   "outputs": [
    {
     "data": {
      "text/plain": "0.37306333929220464"
     },
     "execution_count": 24,
     "metadata": {},
     "output_type": "execute_result"
    }
   ],
   "source": [
    "import math\n",
    "from sklearn.metrics import mean_squared_error\n",
    "\n",
    "math.sqrt(mean_squared_error(y_test+101.25, y_pred+101.25))"
   ]
  },
  {
   "cell_type": "code",
   "execution_count": 25,
   "metadata": {
    "ExecuteTime": {
     "end_time": "2024-12-06T04:18:55.569982700Z",
     "start_time": "2024-12-06T04:18:55.476009Z"
    }
   },
   "outputs": [
    {
     "data": {
      "text/plain": "0.15943691658964818"
     },
     "execution_count": 25,
     "metadata": {},
     "output_type": "execute_result"
    }
   ],
   "source": [
    "from sklearn.metrics import mean_absolute_error\n",
    "\n",
    "mean_absolute_error(y_test+101.25, y_pred+101.25)"
   ]
  },
  {
   "cell_type": "code",
   "execution_count": 11,
   "outputs": [],
   "source": [
    "ann = load_model('Section6_new_ANN_1')\n",
    "sc = pickle.load(open('Section6_new_scaler_ANN_1.pkl', 'rb'))"
   ],
   "metadata": {
    "collapsed": false,
    "ExecuteTime": {
     "end_time": "2024-12-06T03:59:46.087056400Z",
     "start_time": "2024-12-06T03:59:43.990305900Z"
    }
   }
  }
 ],
 "metadata": {
  "colab": {
   "collapsed_sections": [],
   "name": "Artificial Neural Network",
   "provenance": [],
   "toc_visible": true
  },
  "kernelspec": {
   "display_name": "Python 3 (ipykernel)",
   "language": "python",
   "name": "python3"
  },
  "language_info": {
   "codemirror_mode": {
    "name": "ipython",
    "version": 3
   },
   "file_extension": ".py",
   "mimetype": "text/x-python",
   "name": "python",
   "nbconvert_exporter": "python",
   "pygments_lexer": "ipython3",
   "version": "3.9.7"
  }
 },
 "nbformat": 4,
 "nbformat_minor": 4
}
