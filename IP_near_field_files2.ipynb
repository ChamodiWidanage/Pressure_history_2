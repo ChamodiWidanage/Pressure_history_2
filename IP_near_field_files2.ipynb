{
 "cells": [
  {
   "cell_type": "code",
   "execution_count": 1,
   "id": "34feb292-f5a4-45b9-aa07-22571998d2e1",
   "metadata": {
    "ExecuteTime": {
     "end_time": "2024-09-03T01:40:13.437632700Z",
     "start_time": "2024-09-03T01:40:13.155778Z"
    }
   },
   "outputs": [],
   "source": [
    "from pathlib import Path\n",
    "import pandas as pd\n",
    "import xlwings as xw\n",
    "import numpy as np\n",
    "import matplotlib.pyplot as plt\n",
    "from scipy.signal import find_peaks\n",
    "from rdp import rdp"
   ]
  },
  {
   "cell_type": "code",
   "execution_count": 2,
   "id": "444c2bb8-1d9e-4aca-baec-9d85bd985ece",
   "metadata": {
    "ExecuteTime": {
     "end_time": "2024-09-03T01:40:15.405419700Z",
     "start_time": "2024-09-03T01:40:15.374855300Z"
    }
   },
   "outputs": [
    {
     "name": "stdout",
     "output_type": "stream",
     "text": [
      "1 G:\\Chamodi\\LSDYNA_1D\\Incident_pressure_time_history\\Near_field_time_history_dataset_extra\n",
      "2 [WindowsPath('G:/Chamodi/LSDYNA_1D/Incident_pressure_time_history/Near_field_time_history_dataset_extra/L13_11'), WindowsPath('G:/Chamodi/LSDYNA_1D/Incident_pressure_time_history/Near_field_time_history_dataset_extra/L13_15'), WindowsPath('G:/Chamodi/LSDYNA_1D/Incident_pressure_time_history/Near_field_time_history_dataset_extra/L13_19'), WindowsPath('G:/Chamodi/LSDYNA_1D/Incident_pressure_time_history/Near_field_time_history_dataset_extra/L13_23'), WindowsPath('G:/Chamodi/LSDYNA_1D/Incident_pressure_time_history/Near_field_time_history_dataset_extra/L13_27'), WindowsPath('G:/Chamodi/LSDYNA_1D/Incident_pressure_time_history/Near_field_time_history_dataset_extra/L13_3'), WindowsPath('G:/Chamodi/LSDYNA_1D/Incident_pressure_time_history/Near_field_time_history_dataset_extra/L13_31'), WindowsPath('G:/Chamodi/LSDYNA_1D/Incident_pressure_time_history/Near_field_time_history_dataset_extra/L13_35'), WindowsPath('G:/Chamodi/LSDYNA_1D/Incident_pressure_time_history/Near_field_time_history_dataset_extra/L13_39'), WindowsPath('G:/Chamodi/LSDYNA_1D/Incident_pressure_time_history/Near_field_time_history_dataset_extra/L13_43'), WindowsPath('G:/Chamodi/LSDYNA_1D/Incident_pressure_time_history/Near_field_time_history_dataset_extra/L13_47'), WindowsPath('G:/Chamodi/LSDYNA_1D/Incident_pressure_time_history/Near_field_time_history_dataset_extra/L13_51'), WindowsPath('G:/Chamodi/LSDYNA_1D/Incident_pressure_time_history/Near_field_time_history_dataset_extra/L13_55'), WindowsPath('G:/Chamodi/LSDYNA_1D/Incident_pressure_time_history/Near_field_time_history_dataset_extra/L13_59'), WindowsPath('G:/Chamodi/LSDYNA_1D/Incident_pressure_time_history/Near_field_time_history_dataset_extra/L13_63'), WindowsPath('G:/Chamodi/LSDYNA_1D/Incident_pressure_time_history/Near_field_time_history_dataset_extra/L13_67'), WindowsPath('G:/Chamodi/LSDYNA_1D/Incident_pressure_time_history/Near_field_time_history_dataset_extra/L13_7')]\n"
     ]
    }
   ],
   "source": [
    "#Access input folder\n",
    "input_dir1 = Path (\"G:/Chamodi/LSDYNA_1D/Incident_pressure_time_history/Near_field_time_history_dataset_extra\")\n",
    "print (\"1\",input_dir1)\n",
    "\n",
    "#Access folders inside input folder\n",
    "input_dir2 =  [folder for folder in input_dir1.iterdir() if folder.is_dir()] # L13_3\n",
    "print (\"2\",input_dir2)\n",
    "\n",
    "# Define current work directory\n",
    "current_dir = Path.cwd()\n",
    "\n",
    "# Access the template to be used to generate files\n",
    "excel_template = current_dir/ \"Template.xlsx\""
   ]
  },
  {
   "cell_type": "code",
   "execution_count": 3,
   "outputs": [],
   "source": [
    "df_all = pd.DataFrame(columns=[\"Mass\", \"Standoff distance\", \"Arrival time\", \"AP\", \"Change time\", \"CP\", \"End time\", \"EP\"])\n",
    "\n",
    "for folder1 in input_dir2: # folder1-L13_1\n",
    "    \n",
    "    # EM\n",
    "    parts = folder1.name.split('_')\n",
    "    EM = round(int(parts[1])/2, 1)\n",
    "    \n",
    "    # Make a list of data file names\n",
    "    excel_files = [file for file in folder1.rglob(\"*.xlsx\") if file.stem.isdigit() and int(file.stem) % 2 != 0]\n",
    "    \n",
    "    # Access each file \n",
    "    for file1 in excel_files: # file1-1\n",
    "        \n",
    "        # Assign value to A based on file.stem\n",
    "        file_name = file1.stem\n",
    "        SD_mapping = {\"1\": 1, \"3\": 1.25, \"5\":1.5, \"7\":1.75, \"9\":2,\n",
    "                      \"11\":2.25, \"13\":2.5, \"15\":2.75, \"17\":3}\n",
    "        SD = SD_mapping.get(file_name, \"Unknown\")\n",
    "        \n",
    "        # Read data from Excel file\n",
    "        df1 = pd.read_excel(file1)\n",
    "        \n",
    "        # Extract time and pressure columns\n",
    "        time = df1[\"Time\"].dropna()\n",
    "        pressure = df1[\"Pressure\"].dropna()\n",
    "        \n",
    "        # ARRIVAL\n",
    "        AT = time[0]\n",
    "        AP = pressure[0]\n",
    "        \n",
    "        for i in range(len(pressure) - 1, -1, -1):\n",
    "            if pressure[i] < -1:\n",
    "                end_index = i\n",
    "                break\n",
    "        # END\n",
    "        ET = time[end_index]\n",
    "        EP = pressure[end_index]\n",
    "        \n",
    "        pressure = pressure[:end_index + 1]\n",
    "        time = time[:end_index + 1]\n",
    "        \n",
    "        zero_crossing_index = next((i for i, val in enumerate(pressure[:], start=0) if val <= 0), None)\n",
    "        # CHANGE\n",
    "        CT = time[zero_crossing_index]\n",
    "        CP = pressure[zero_crossing_index] \n",
    "\n",
    "        # Creating a new DataFrame to append\n",
    "        row_all = pd.DataFrame({\"Mass\": [EM], \"Standoff distance\": [SD],\n",
    "                                \"Arrival time\": [AT],\"AP\": [AP],\n",
    "                                \"Change time\": [CT], \"CP\": [CP],\n",
    "                                \"End time\": [ET], \"EP\": [EP],\n",
    "                                \"Reduced\":[len(pressure)]})\n",
    "        df_all = pd.concat([df_all, row_all], ignore_index=True)\n",
    "                        "
   ],
   "metadata": {
    "collapsed": false,
    "ExecuteTime": {
     "end_time": "2024-09-03T01:40:24.102774600Z",
     "start_time": "2024-09-03T01:40:17.546863100Z"
    }
   },
   "id": "62e2960111cbf084"
  },
  {
   "cell_type": "code",
   "execution_count": 4,
   "outputs": [],
   "source": [
    "# Write dataframes in excel template\n",
    "all_path = 'IP_near_field_all_reduced2.xlsx'\n",
    "\n",
    "df_all.to_excel(all_path, index=False)"
   ],
   "metadata": {
    "collapsed": false,
    "ExecuteTime": {
     "end_time": "2024-09-03T01:40:27.573025100Z",
     "start_time": "2024-09-03T01:40:27.468419800Z"
    }
   },
   "id": "55cbfa10077a3d59"
  }
 ],
 "metadata": {
  "kernelspec": {
   "display_name": "Python 3 (ipykernel)",
   "language": "python",
   "name": "python3"
  },
  "language_info": {
   "codemirror_mode": {
    "name": "ipython",
    "version": 3
   },
   "file_extension": ".py",
   "mimetype": "text/x-python",
   "name": "python",
   "nbconvert_exporter": "python",
   "pygments_lexer": "ipython3",
   "version": "3.9.7"
  }
 },
 "nbformat": 4,
 "nbformat_minor": 5
}
