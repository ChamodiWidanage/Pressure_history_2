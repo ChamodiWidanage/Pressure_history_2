{
 "cells": [
  {
   "cell_type": "markdown",
   "metadata": {
    "colab_type": "text",
    "id": "3cbb7fRy-eyr"
   },
   "source": [
    "# Artificial Neural Network"
   ]
  },
  {
   "cell_type": "markdown",
   "metadata": {
    "colab_type": "text",
    "id": "8sNDnxE2-pwE"
   },
   "source": [
    "## Part 1 - Importing the libraries"
   ]
  },
  {
   "cell_type": "code",
   "execution_count": 2,
   "metadata": {
    "colab": {},
    "colab_type": "code",
    "id": "lxChR1Rk-umf",
    "ExecuteTime": {
     "end_time": "2024-12-06T03:13:34.335168400Z",
     "start_time": "2024-12-06T03:13:34.314490700Z"
    }
   },
   "outputs": [],
   "source": [
    "import numpy as np\n",
    "import pandas as pd\n",
    "import tensorflow as tf\n",
    "import matplotlib.pyplot as plt\n",
    "from keras.models import load_model\n",
    "from pathlib import Path\n",
    "import pickle"
   ]
  },
  {
   "cell_type": "markdown",
   "metadata": {
    "colab_type": "text",
    "id": "AG3FQEch-yuA"
   },
   "source": [
    "## Part 2 - Data Preprocessing"
   ]
  },
  {
   "cell_type": "code",
   "execution_count": 3,
   "metadata": {
    "ExecuteTime": {
     "end_time": "2024-12-06T03:13:40.757046900Z",
     "start_time": "2024-12-06T03:13:40.725891700Z"
    }
   },
   "outputs": [
    {
     "name": "stdout",
     "output_type": "stream",
     "text": [
      "input G:\\Chamodi\\LSDYNA_1D\\Incident_pressure_time_history\\Far_field_time_history_dataset\n",
      "2 [WindowsPath('G:/Chamodi/LSDYNA_1D/Incident_pressure_time_history/Far_field_time_history_dataset/L13_1'), WindowsPath('G:/Chamodi/LSDYNA_1D/Incident_pressure_time_history/Far_field_time_history_dataset/L13_13'), WindowsPath('G:/Chamodi/LSDYNA_1D/Incident_pressure_time_history/Far_field_time_history_dataset/L13_17'), WindowsPath('G:/Chamodi/LSDYNA_1D/Incident_pressure_time_history/Far_field_time_history_dataset/L13_21'), WindowsPath('G:/Chamodi/LSDYNA_1D/Incident_pressure_time_history/Far_field_time_history_dataset/L13_25'), WindowsPath('G:/Chamodi/LSDYNA_1D/Incident_pressure_time_history/Far_field_time_history_dataset/L13_29'), WindowsPath('G:/Chamodi/LSDYNA_1D/Incident_pressure_time_history/Far_field_time_history_dataset/L13_33'), WindowsPath('G:/Chamodi/LSDYNA_1D/Incident_pressure_time_history/Far_field_time_history_dataset/L13_37'), WindowsPath('G:/Chamodi/LSDYNA_1D/Incident_pressure_time_history/Far_field_time_history_dataset/L13_41'), WindowsPath('G:/Chamodi/LSDYNA_1D/Incident_pressure_time_history/Far_field_time_history_dataset/L13_45'), WindowsPath('G:/Chamodi/LSDYNA_1D/Incident_pressure_time_history/Far_field_time_history_dataset/L13_49'), WindowsPath('G:/Chamodi/LSDYNA_1D/Incident_pressure_time_history/Far_field_time_history_dataset/L13_5'), WindowsPath('G:/Chamodi/LSDYNA_1D/Incident_pressure_time_history/Far_field_time_history_dataset/L13_53'), WindowsPath('G:/Chamodi/LSDYNA_1D/Incident_pressure_time_history/Far_field_time_history_dataset/L13_57'), WindowsPath('G:/Chamodi/LSDYNA_1D/Incident_pressure_time_history/Far_field_time_history_dataset/L13_61'), WindowsPath('G:/Chamodi/LSDYNA_1D/Incident_pressure_time_history/Far_field_time_history_dataset/L13_65'), WindowsPath('G:/Chamodi/LSDYNA_1D/Incident_pressure_time_history/Far_field_time_history_dataset/L13_69'), WindowsPath('G:/Chamodi/LSDYNA_1D/Incident_pressure_time_history/Far_field_time_history_dataset/L13_70'), WindowsPath('G:/Chamodi/LSDYNA_1D/Incident_pressure_time_history/Far_field_time_history_dataset/L13_9')]\n"
     ]
    }
   ],
   "source": [
    "#Access input folder\n",
    "current_dir = Path.cwd()\n",
    "input_dir1 = Path (\"G:/Chamodi/LSDYNA_1D/Incident_pressure_time_history/Far_field_time_history_dataset\")\n",
    "print (\"input\",input_dir1)\n",
    "\n",
    "#Access folders inside input folder\n",
    "input_dir2_train =  [folder_input for folder_input in input_dir1.iterdir() if folder_input.is_dir()]\n",
    "print (\"2\",input_dir2_train)"
   ]
  },
  {
   "cell_type": "code",
   "execution_count": 4,
   "metadata": {
    "ExecuteTime": {
     "end_time": "2024-12-06T03:13:50.007257800Z",
     "start_time": "2024-12-06T03:13:44.933832300Z"
    }
   },
   "outputs": [
    {
     "name": "stdout",
     "output_type": "stream",
     "text": [
      "folder G:\\Chamodi\\LSDYNA_1D\\Incident_pressure_time_history\\Far_field_time_history_dataset\\L13_1\n",
      "P25\n",
      "P29\n",
      "P33\n",
      "P37\n",
      "folder G:\\Chamodi\\LSDYNA_1D\\Incident_pressure_time_history\\Far_field_time_history_dataset\\L13_13\n",
      "P25\n",
      "P29\n",
      "P33\n",
      "P37\n",
      "folder G:\\Chamodi\\LSDYNA_1D\\Incident_pressure_time_history\\Far_field_time_history_dataset\\L13_17\n",
      "P25\n",
      "P29\n",
      "P33\n",
      "P37\n",
      "folder G:\\Chamodi\\LSDYNA_1D\\Incident_pressure_time_history\\Far_field_time_history_dataset\\L13_21\n",
      "P25\n",
      "P29\n",
      "P33\n",
      "P37\n",
      "folder G:\\Chamodi\\LSDYNA_1D\\Incident_pressure_time_history\\Far_field_time_history_dataset\\L13_25\n",
      "P25\n",
      "P29\n",
      "P33\n",
      "P37\n",
      "folder G:\\Chamodi\\LSDYNA_1D\\Incident_pressure_time_history\\Far_field_time_history_dataset\\L13_29\n",
      "P25\n",
      "P29\n",
      "P33\n",
      "P37\n",
      "folder G:\\Chamodi\\LSDYNA_1D\\Incident_pressure_time_history\\Far_field_time_history_dataset\\L13_33\n",
      "P25\n",
      "P29\n",
      "P33\n",
      "P37\n",
      "folder G:\\Chamodi\\LSDYNA_1D\\Incident_pressure_time_history\\Far_field_time_history_dataset\\L13_37\n",
      "P25\n",
      "P29\n",
      "P33\n",
      "P37\n",
      "folder G:\\Chamodi\\LSDYNA_1D\\Incident_pressure_time_history\\Far_field_time_history_dataset\\L13_41\n",
      "P25\n",
      "P29\n",
      "P33\n",
      "P37\n",
      "folder G:\\Chamodi\\LSDYNA_1D\\Incident_pressure_time_history\\Far_field_time_history_dataset\\L13_45\n",
      "P25\n",
      "P29\n",
      "P33\n",
      "P37\n",
      "folder G:\\Chamodi\\LSDYNA_1D\\Incident_pressure_time_history\\Far_field_time_history_dataset\\L13_49\n",
      "P25\n",
      "P29\n",
      "P33\n",
      "P37\n",
      "folder G:\\Chamodi\\LSDYNA_1D\\Incident_pressure_time_history\\Far_field_time_history_dataset\\L13_5\n",
      "P25\n",
      "P29\n",
      "P33\n",
      "P37\n",
      "folder G:\\Chamodi\\LSDYNA_1D\\Incident_pressure_time_history\\Far_field_time_history_dataset\\L13_53\n",
      "P25\n",
      "P29\n",
      "P33\n",
      "P37\n",
      "folder G:\\Chamodi\\LSDYNA_1D\\Incident_pressure_time_history\\Far_field_time_history_dataset\\L13_57\n",
      "P25\n",
      "P29\n",
      "P33\n",
      "P37\n",
      "folder G:\\Chamodi\\LSDYNA_1D\\Incident_pressure_time_history\\Far_field_time_history_dataset\\L13_61\n",
      "P25\n",
      "P29\n",
      "P33\n",
      "P37\n",
      "folder G:\\Chamodi\\LSDYNA_1D\\Incident_pressure_time_history\\Far_field_time_history_dataset\\L13_65\n",
      "P25\n",
      "P29\n",
      "P33\n",
      "P37\n",
      "folder G:\\Chamodi\\LSDYNA_1D\\Incident_pressure_time_history\\Far_field_time_history_dataset\\L13_69\n",
      "P25\n",
      "P29\n",
      "P33\n",
      "P37\n",
      "folder G:\\Chamodi\\LSDYNA_1D\\Incident_pressure_time_history\\Far_field_time_history_dataset\\L13_70\n",
      "P25\n",
      "P29\n",
      "P33\n",
      "P37\n",
      "folder G:\\Chamodi\\LSDYNA_1D\\Incident_pressure_time_history\\Far_field_time_history_dataset\\L13_9\n",
      "P25\n",
      "P29\n",
      "P33\n",
      "P37\n"
     ]
    }
   ],
   "source": [
    "# Access each folder inside input folder\n",
    "dataset_train = pd.DataFrame(columns = ['Mass', 'Standoff distance', 'Time', 'Phase', 'Pressure'])\n",
    "df_list_train = []\n",
    "for folder_train in input_dir2_train:\n",
    "    \n",
    "    # Make a list of data file names\n",
    "    files_train = list(file_train for file_train in folder_train.rglob(\"*.xlsx\") if 24 < int(file_train.stem[1:]) < 38)\n",
    "    print (\"folder\", folder_train)\n",
    "    \n",
    "    for file_train in files_train:\n",
    "        df_list_train.append(pd.read_excel(file_train))\n",
    "        print (file_train.stem)\n",
    "\n",
    "dataset_train = pd.concat(df_list_train, ignore_index = True)"
   ]
  },
  {
   "cell_type": "code",
   "execution_count": 5,
   "metadata": {
    "colab": {},
    "colab_type": "code",
    "id": "B9CV13Co_HHM",
    "ExecuteTime": {
     "end_time": "2024-12-06T03:14:08.718404100Z",
     "start_time": "2024-12-06T03:14:08.607358700Z"
    }
   },
   "outputs": [
    {
     "name": "stdout",
     "output_type": "stream",
     "text": [
      "<class 'pandas.core.frame.DataFrame'>\n",
      "RangeIndex: 11787 entries, 0 to 11786\n",
      "Data columns (total 5 columns):\n",
      " #   Column             Non-Null Count  Dtype  \n",
      "---  ------             --------------  -----  \n",
      " 0   Mass               11787 non-null  float64\n",
      " 1   Standoff distance  11787 non-null  int64  \n",
      " 2   Time               11787 non-null  float64\n",
      " 3   Phase              11787 non-null  object \n",
      " 4   Pressure           11787 non-null  float64\n",
      "dtypes: float64(3), int64(1), object(1)\n",
      "memory usage: 460.6+ KB\n"
     ]
    }
   ],
   "source": [
    "dataset_train.info()"
   ]
  },
  {
   "cell_type": "code",
   "execution_count": 6,
   "outputs": [
    {
     "name": "stdout",
     "output_type": "stream",
     "text": [
      "<class 'pandas.core.frame.DataFrame'>\n",
      "RangeIndex: 11787 entries, 0 to 11786\n",
      "Data columns (total 6 columns):\n",
      " #   Column             Non-Null Count  Dtype  \n",
      "---  ------             --------------  -----  \n",
      " 0   Mass               11787 non-null  float64\n",
      " 1   Standoff distance  11787 non-null  int64  \n",
      " 2   Time               11787 non-null  float64\n",
      " 3   Pressure           11787 non-null  float64\n",
      " 4   Phase_negative     11787 non-null  uint8  \n",
      " 5   Phase_positive     11787 non-null  uint8  \n",
      "dtypes: float64(3), int64(1), uint8(2)\n",
      "memory usage: 391.5 KB\n"
     ]
    }
   ],
   "source": [
    "dataset_train = pd.get_dummies(dataset_train, columns =['Phase'], dtype = np.uint8)\n",
    "dataset_train.info()"
   ],
   "metadata": {
    "collapsed": false,
    "ExecuteTime": {
     "end_time": "2024-12-06T03:14:11.419480400Z",
     "start_time": "2024-12-06T03:14:11.292790700Z"
    }
   }
  },
  {
   "cell_type": "code",
   "execution_count": 7,
   "outputs": [
    {
     "data": {
      "text/plain": "    Mass  Standoff distance       Time  Pressure  Phase_negative  \\\n0    0.5                 13  33.279959  5.665805               0   \n1    0.5                 13  33.289842  5.331063               0   \n2    0.5                 13  33.299726  5.435914               0   \n3    0.5                 13  33.309605  5.448227               0   \n4    0.5                 13  33.319902  5.386742               0   \n5    0.5                 13  33.329781  5.398844               0   \n6    0.5                 13  33.339664  5.361727               0   \n7    0.5                 13  33.359841  5.329273               0   \n8    0.5                 13  33.369724  5.295844               0   \n9    0.5                 13  33.379603  5.290211               0   \n10   0.5                 13  33.389896  5.255383               0   \n11   0.5                 13  33.399779  5.241367               0   \n12   0.5                 13  33.409663  5.221617               0   \n13   0.5                 13  33.419956  5.193008               0   \n14   0.5                 13  33.429839  5.181938               0   \n15   0.5                 13  33.439722  5.152352               0   \n16   0.5                 13  33.449601  5.136906               0   \n17   0.5                 13  33.469778  5.091008               0   \n18   0.5                 13  33.479661  5.076023               0   \n19   0.5                 13  33.489954  5.049008               0   \n20   0.5                 13  33.499837  5.032445               0   \n21   0.5                 13  33.519600  4.988945               0   \n22   0.5                 13  33.529893  4.970781               0   \n23   0.5                 13  33.539776  4.947102               0   \n24   0.5                 13  33.759654  4.504273               0   \n25   0.5                 13  33.979941  4.074719               0   \n26   0.5                 13  34.169760  3.716719               0   \n27   0.5                 13  34.359992  3.369164               0   \n28   0.5                 13  34.549810  3.033117               0   \n29   0.5                 13  34.739628  2.707539               0   \n\n    Phase_positive  \n0                1  \n1                1  \n2                1  \n3                1  \n4                1  \n5                1  \n6                1  \n7                1  \n8                1  \n9                1  \n10               1  \n11               1  \n12               1  \n13               1  \n14               1  \n15               1  \n16               1  \n17               1  \n18               1  \n19               1  \n20               1  \n21               1  \n22               1  \n23               1  \n24               1  \n25               1  \n26               1  \n27               1  \n28               1  \n29               1  ",
      "text/html": "<div>\n<style scoped>\n    .dataframe tbody tr th:only-of-type {\n        vertical-align: middle;\n    }\n\n    .dataframe tbody tr th {\n        vertical-align: top;\n    }\n\n    .dataframe thead th {\n        text-align: right;\n    }\n</style>\n<table border=\"1\" class=\"dataframe\">\n  <thead>\n    <tr style=\"text-align: right;\">\n      <th></th>\n      <th>Mass</th>\n      <th>Standoff distance</th>\n      <th>Time</th>\n      <th>Pressure</th>\n      <th>Phase_negative</th>\n      <th>Phase_positive</th>\n    </tr>\n  </thead>\n  <tbody>\n    <tr>\n      <th>0</th>\n      <td>0.5</td>\n      <td>13</td>\n      <td>33.279959</td>\n      <td>5.665805</td>\n      <td>0</td>\n      <td>1</td>\n    </tr>\n    <tr>\n      <th>1</th>\n      <td>0.5</td>\n      <td>13</td>\n      <td>33.289842</td>\n      <td>5.331063</td>\n      <td>0</td>\n      <td>1</td>\n    </tr>\n    <tr>\n      <th>2</th>\n      <td>0.5</td>\n      <td>13</td>\n      <td>33.299726</td>\n      <td>5.435914</td>\n      <td>0</td>\n      <td>1</td>\n    </tr>\n    <tr>\n      <th>3</th>\n      <td>0.5</td>\n      <td>13</td>\n      <td>33.309605</td>\n      <td>5.448227</td>\n      <td>0</td>\n      <td>1</td>\n    </tr>\n    <tr>\n      <th>4</th>\n      <td>0.5</td>\n      <td>13</td>\n      <td>33.319902</td>\n      <td>5.386742</td>\n      <td>0</td>\n      <td>1</td>\n    </tr>\n    <tr>\n      <th>5</th>\n      <td>0.5</td>\n      <td>13</td>\n      <td>33.329781</td>\n      <td>5.398844</td>\n      <td>0</td>\n      <td>1</td>\n    </tr>\n    <tr>\n      <th>6</th>\n      <td>0.5</td>\n      <td>13</td>\n      <td>33.339664</td>\n      <td>5.361727</td>\n      <td>0</td>\n      <td>1</td>\n    </tr>\n    <tr>\n      <th>7</th>\n      <td>0.5</td>\n      <td>13</td>\n      <td>33.359841</td>\n      <td>5.329273</td>\n      <td>0</td>\n      <td>1</td>\n    </tr>\n    <tr>\n      <th>8</th>\n      <td>0.5</td>\n      <td>13</td>\n      <td>33.369724</td>\n      <td>5.295844</td>\n      <td>0</td>\n      <td>1</td>\n    </tr>\n    <tr>\n      <th>9</th>\n      <td>0.5</td>\n      <td>13</td>\n      <td>33.379603</td>\n      <td>5.290211</td>\n      <td>0</td>\n      <td>1</td>\n    </tr>\n    <tr>\n      <th>10</th>\n      <td>0.5</td>\n      <td>13</td>\n      <td>33.389896</td>\n      <td>5.255383</td>\n      <td>0</td>\n      <td>1</td>\n    </tr>\n    <tr>\n      <th>11</th>\n      <td>0.5</td>\n      <td>13</td>\n      <td>33.399779</td>\n      <td>5.241367</td>\n      <td>0</td>\n      <td>1</td>\n    </tr>\n    <tr>\n      <th>12</th>\n      <td>0.5</td>\n      <td>13</td>\n      <td>33.409663</td>\n      <td>5.221617</td>\n      <td>0</td>\n      <td>1</td>\n    </tr>\n    <tr>\n      <th>13</th>\n      <td>0.5</td>\n      <td>13</td>\n      <td>33.419956</td>\n      <td>5.193008</td>\n      <td>0</td>\n      <td>1</td>\n    </tr>\n    <tr>\n      <th>14</th>\n      <td>0.5</td>\n      <td>13</td>\n      <td>33.429839</td>\n      <td>5.181938</td>\n      <td>0</td>\n      <td>1</td>\n    </tr>\n    <tr>\n      <th>15</th>\n      <td>0.5</td>\n      <td>13</td>\n      <td>33.439722</td>\n      <td>5.152352</td>\n      <td>0</td>\n      <td>1</td>\n    </tr>\n    <tr>\n      <th>16</th>\n      <td>0.5</td>\n      <td>13</td>\n      <td>33.449601</td>\n      <td>5.136906</td>\n      <td>0</td>\n      <td>1</td>\n    </tr>\n    <tr>\n      <th>17</th>\n      <td>0.5</td>\n      <td>13</td>\n      <td>33.469778</td>\n      <td>5.091008</td>\n      <td>0</td>\n      <td>1</td>\n    </tr>\n    <tr>\n      <th>18</th>\n      <td>0.5</td>\n      <td>13</td>\n      <td>33.479661</td>\n      <td>5.076023</td>\n      <td>0</td>\n      <td>1</td>\n    </tr>\n    <tr>\n      <th>19</th>\n      <td>0.5</td>\n      <td>13</td>\n      <td>33.489954</td>\n      <td>5.049008</td>\n      <td>0</td>\n      <td>1</td>\n    </tr>\n    <tr>\n      <th>20</th>\n      <td>0.5</td>\n      <td>13</td>\n      <td>33.499837</td>\n      <td>5.032445</td>\n      <td>0</td>\n      <td>1</td>\n    </tr>\n    <tr>\n      <th>21</th>\n      <td>0.5</td>\n      <td>13</td>\n      <td>33.519600</td>\n      <td>4.988945</td>\n      <td>0</td>\n      <td>1</td>\n    </tr>\n    <tr>\n      <th>22</th>\n      <td>0.5</td>\n      <td>13</td>\n      <td>33.529893</td>\n      <td>4.970781</td>\n      <td>0</td>\n      <td>1</td>\n    </tr>\n    <tr>\n      <th>23</th>\n      <td>0.5</td>\n      <td>13</td>\n      <td>33.539776</td>\n      <td>4.947102</td>\n      <td>0</td>\n      <td>1</td>\n    </tr>\n    <tr>\n      <th>24</th>\n      <td>0.5</td>\n      <td>13</td>\n      <td>33.759654</td>\n      <td>4.504273</td>\n      <td>0</td>\n      <td>1</td>\n    </tr>\n    <tr>\n      <th>25</th>\n      <td>0.5</td>\n      <td>13</td>\n      <td>33.979941</td>\n      <td>4.074719</td>\n      <td>0</td>\n      <td>1</td>\n    </tr>\n    <tr>\n      <th>26</th>\n      <td>0.5</td>\n      <td>13</td>\n      <td>34.169760</td>\n      <td>3.716719</td>\n      <td>0</td>\n      <td>1</td>\n    </tr>\n    <tr>\n      <th>27</th>\n      <td>0.5</td>\n      <td>13</td>\n      <td>34.359992</td>\n      <td>3.369164</td>\n      <td>0</td>\n      <td>1</td>\n    </tr>\n    <tr>\n      <th>28</th>\n      <td>0.5</td>\n      <td>13</td>\n      <td>34.549810</td>\n      <td>3.033117</td>\n      <td>0</td>\n      <td>1</td>\n    </tr>\n    <tr>\n      <th>29</th>\n      <td>0.5</td>\n      <td>13</td>\n      <td>34.739628</td>\n      <td>2.707539</td>\n      <td>0</td>\n      <td>1</td>\n    </tr>\n  </tbody>\n</table>\n</div>"
     },
     "execution_count": 7,
     "metadata": {},
     "output_type": "execute_result"
    }
   ],
   "source": [
    "dataset_train.head(30)"
   ],
   "metadata": {
    "collapsed": false,
    "ExecuteTime": {
     "end_time": "2024-12-06T03:14:25.741658500Z",
     "start_time": "2024-12-06T03:14:25.507002300Z"
    }
   }
  },
  {
   "cell_type": "code",
   "execution_count": 8,
   "metadata": {
    "ExecuteTime": {
     "end_time": "2024-12-06T03:14:28.023234700Z",
     "start_time": "2024-12-06T03:14:27.910052900Z"
    }
   },
   "outputs": [
    {
     "name": "stdout",
     "output_type": "stream",
     "text": [
      "(11787, 5) (11787,)\n"
     ]
    }
   ],
   "source": [
    "y = dataset_train['Pressure']\n",
    "X = dataset_train.drop(['Pressure'], axis=1)\n",
    "print(X.shape, y.shape)"
   ]
  },
  {
   "cell_type": "code",
   "execution_count": 9,
   "metadata": {
    "ExecuteTime": {
     "end_time": "2024-12-06T03:14:37.116894400Z",
     "start_time": "2024-12-06T03:14:37.085721800Z"
    }
   },
   "outputs": [],
   "source": [
    "# convert to numpy array\n",
    "X = np.array(X)\n",
    "y = np.array(y)"
   ]
  },
  {
   "cell_type": "code",
   "execution_count": 10,
   "metadata": {
    "colab": {},
    "colab_type": "code",
    "id": "L5edeb2r_agx",
    "ExecuteTime": {
     "end_time": "2024-12-06T03:14:39.888901Z",
     "start_time": "2024-12-06T03:14:38.905313500Z"
    }
   },
   "outputs": [],
   "source": [
    "from sklearn.model_selection import train_test_split\n",
    "X_train, X_test, y_train, y_test = train_test_split(X,\n",
    "                                                    y,\n",
    "                                                    test_size = 0.4,\n",
    "                                                    random_state = 0)"
   ]
  },
  {
   "cell_type": "code",
   "execution_count": 11,
   "metadata": {
    "colab": {},
    "colab_type": "code",
    "id": "L5edeb2r_agx",
    "ExecuteTime": {
     "end_time": "2024-12-06T03:14:43.345423Z",
     "start_time": "2024-12-06T03:14:43.218664600Z"
    }
   },
   "outputs": [],
   "source": [
    "X_val, X_test, y_val, y_test = train_test_split(X_test,\n",
    "                                                y_test,\n",
    "                                                test_size = 0.5,\n",
    "                                                random_state = 0)"
   ]
  },
  {
   "cell_type": "code",
   "execution_count": 13,
   "outputs": [
    {
     "name": "stdout",
     "output_type": "stream",
     "text": [
      "[[-0.47596263  1.00013966  0.07361079  0.          1.        ]\n",
      " [-0.82796767  0.32900616  0.84981172  1.          0.        ]\n",
      " [-1.35597522  1.00013966  1.10832153  1.          0.        ]\n",
      " ...\n",
      " [ 1.46006506  1.00013966  0.94524955  1.          0.        ]\n",
      " [ 1.68006821  0.32900616  0.7821562   1.          0.        ]\n",
      " [-0.29996012  0.32900616  1.02618699  1.          0.        ]]\n"
     ]
    }
   ],
   "source": [
    "from sklearn.preprocessing import StandardScaler\n",
    "#sc = StandardScaler()\n",
    "X_train[:,0:3] = sc.transform(X_train[:, 0:3])\n",
    "print (X_train)"
   ],
   "metadata": {
    "collapsed": false,
    "ExecuteTime": {
     "end_time": "2024-12-06T03:15:28.878592700Z",
     "start_time": "2024-12-06T03:15:28.805218100Z"
    }
   }
  },
  {
   "cell_type": "code",
   "execution_count": 14,
   "outputs": [
    {
     "name": "stdout",
     "output_type": "stream",
     "text": [
      "[[ 0.58005247 -0.00656059 -0.83183435  0.          1.        ]\n",
      " [-0.82796767  1.00013966  1.38559322  1.          0.        ]\n",
      " [-1.1799727  -2.0199611  -1.57056688  1.          0.        ]\n",
      " ...\n",
      " [ 0.93205751  0.32900616  0.52482752  1.          0.        ]\n",
      " [-0.29996012  0.66457291  1.02436859  1.          0.        ]\n",
      " [ 0.58005247  1.00013966  0.22884796  0.          1.        ]]\n"
     ]
    }
   ],
   "source": [
    "X_test[:,0:3] = sc.transform(X_test[:,0:3])\n",
    "print (X_test)"
   ],
   "metadata": {
    "collapsed": false,
    "ExecuteTime": {
     "end_time": "2024-12-06T03:15:30.648840200Z",
     "start_time": "2024-12-06T03:15:30.617692800Z"
    }
   }
  },
  {
   "cell_type": "code",
   "execution_count": 15,
   "outputs": [
    {
     "name": "stdout",
     "output_type": "stream",
     "text": [
      "[[ 1.28406255  1.00013966  0.11348354  0.          1.        ]\n",
      " [-0.65196515  1.00013966  1.10592325  1.          0.        ]\n",
      " [ 1.63606758  1.00013966 -0.11001288  0.          1.        ]\n",
      " ...\n",
      " [-0.1239576   0.32900616 -0.41203832  0.          1.        ]\n",
      " [ 1.63606758  1.00013966  0.94342755  1.          0.        ]\n",
      " [ 0.75605499  0.66457291  1.24242398  1.          0.        ]]\n"
     ]
    }
   ],
   "source": [
    "X_val[:,0:3] = sc.transform(X_val[:,0:3])\n",
    "print (X_val)"
   ],
   "metadata": {
    "collapsed": false,
    "ExecuteTime": {
     "end_time": "2024-12-06T03:15:31.814552700Z",
     "start_time": "2024-12-06T03:15:31.766861900Z"
    }
   }
  },
  {
   "cell_type": "code",
   "execution_count": 16,
   "outputs": [
    {
     "name": "stdout",
     "output_type": "stream",
     "text": [
      "X_train 7072\n",
      "X_test 2358\n",
      "X_val 2357\n"
     ]
    }
   ],
   "source": [
    "print (\"X_train\", len(X_train))\n",
    "print (\"X_test\", len(X_test))\n",
    "print (\"X_val\", len(X_val))"
   ],
   "metadata": {
    "collapsed": false,
    "ExecuteTime": {
     "end_time": "2024-12-06T03:15:34.992871400Z",
     "start_time": "2024-12-06T03:15:34.930030700Z"
    }
   }
  },
  {
   "cell_type": "markdown",
   "metadata": {
    "colab_type": "text",
    "id": "_mSLlAT9_eyI"
   },
   "source": [
    "## Part 3 - Building the ANN"
   ]
  },
  {
   "cell_type": "code",
   "execution_count": 15,
   "metadata": {
    "colab": {},
    "colab_type": "code",
    "id": "J6Hd97Ls__Nz",
    "ExecuteTime": {
     "end_time": "2024-08-22T03:41:01.455664300Z",
     "start_time": "2024-08-22T03:41:01.194910700Z"
    }
   },
   "outputs": [],
   "source": [
    "ann = tf.keras.models.Sequential()"
   ]
  },
  {
   "cell_type": "code",
   "execution_count": 16,
   "metadata": {
    "colab": {},
    "colab_type": "code",
    "id": "ksO_Vv40AHix",
    "ExecuteTime": {
     "end_time": "2024-08-22T03:41:01.651879400Z",
     "start_time": "2024-08-22T03:41:01.459664300Z"
    }
   },
   "outputs": [],
   "source": [
    "ann.add(tf.keras.layers.Dense(units=150,\n",
    "                              input_shape=(X_train.shape[1],),\n",
    "                              activation='relu'))\n",
    "ann.add(tf.keras.layers.Dense(units=125,\n",
    "                              activation='relu'))\n",
    "ann.add(tf.keras.layers.Dense(units=100,\n",
    "                              activation='relu'))"
   ]
  },
  {
   "cell_type": "code",
   "execution_count": 17,
   "metadata": {
    "colab": {},
    "colab_type": "code",
    "id": "YFATpzsUAkLL",
    "ExecuteTime": {
     "end_time": "2024-08-22T03:41:01.772481400Z",
     "start_time": "2024-08-22T03:41:01.654871600Z"
    }
   },
   "outputs": [],
   "source": [
    "ann.add(tf.keras.layers.Dense(units=1,\n",
    "                              activation='linear'))"
   ]
  },
  {
   "cell_type": "code",
   "execution_count": 18,
   "metadata": {
    "ExecuteTime": {
     "end_time": "2024-08-22T03:41:01.977145900Z",
     "start_time": "2024-08-22T03:41:01.776998800Z"
    }
   },
   "outputs": [
    {
     "name": "stdout",
     "output_type": "stream",
     "text": [
      "Model: \"sequential\"\n",
      "_________________________________________________________________\n",
      " Layer (type)                Output Shape              Param #   \n",
      "=================================================================\n",
      " dense (Dense)               (None, 150)               900       \n",
      "                                                                 \n",
      " dense_1 (Dense)             (None, 125)               18875     \n",
      "                                                                 \n",
      " dense_2 (Dense)             (None, 100)               12600     \n",
      "                                                                 \n",
      " dense_3 (Dense)             (None, 1)                 101       \n",
      "                                                                 \n",
      "=================================================================\n",
      "Total params: 32,476\n",
      "Trainable params: 32,476\n",
      "Non-trainable params: 0\n",
      "_________________________________________________________________\n"
     ]
    }
   ],
   "source": [
    "ann.summary()"
   ]
  },
  {
   "cell_type": "markdown",
   "metadata": {
    "colab_type": "text",
    "id": "fq7e4fF6A1yy"
   },
   "source": [
    "## Part 4 - Training the ANN"
   ]
  },
  {
   "cell_type": "code",
   "execution_count": 19,
   "metadata": {
    "colab": {},
    "colab_type": "code",
    "id": "pesgbWlCAtB4",
    "ExecuteTime": {
     "end_time": "2024-08-22T03:41:02.105289Z",
     "start_time": "2024-08-22T03:41:01.929103900Z"
    }
   },
   "outputs": [],
   "source": [
    "# from tensorflow.keras.optimizers import Adam\n",
    "from keras.optimizers import Adam\n",
    "opt = Adam(learning_rate=0.001)\n",
    "ann.compile(optimizer = opt,\n",
    "            loss = 'mean_squared_error',\n",
    "            metrics = ['mae'])"
   ]
  },
  {
   "cell_type": "code",
   "execution_count": 20,
   "metadata": {
    "ExecuteTime": {
     "end_time": "2024-08-22T03:41:02.186877400Z",
     "start_time": "2024-08-22T03:41:02.064719900Z"
    }
   },
   "outputs": [],
   "source": [
    "# protects from unnecessary further training of the model if a particular metric does not continue to improve over a number of n epochs. In such a case, the model training would be automatically aborted.\n",
    "from keras.callbacks import EarlyStopping\n",
    "es = EarlyStopping(monitor='val_loss',\n",
    "                   mode='min',\n",
    "                   patience=50,\n",
    "                   restore_best_weights = True)"
   ]
  },
  {
   "cell_type": "code",
   "execution_count": 21,
   "metadata": {
    "colab": {
     "base_uri": "https://localhost:8080/",
     "height": 1000
    },
    "colab_type": "code",
    "id": "c_vV-tiiA5zn",
    "outputId": "4a2b6ee6-ed75-4698-9069-b250e613803f",
    "ExecuteTime": {
     "end_time": "2024-08-22T03:55:09.053508900Z",
     "start_time": "2024-08-22T03:41:02.189876900Z"
    }
   },
   "outputs": [
    {
     "name": "stdout",
     "output_type": "stream",
     "text": [
      "Epoch 1/500\n",
      "447/447 [==============================] - 40s 88ms/step - loss: 11.3684 - mae: 2.0224 - val_loss: 1.8576 - val_mae: 0.9078\n",
      "Epoch 2/500\n",
      "447/447 [==============================] - 2s 4ms/step - loss: 1.5360 - mae: 0.8083 - val_loss: 1.2832 - val_mae: 0.7044\n",
      "Epoch 3/500\n",
      "447/447 [==============================] - 2s 5ms/step - loss: 1.3005 - mae: 0.6999 - val_loss: 1.1776 - val_mae: 0.6697\n",
      "Epoch 4/500\n",
      "447/447 [==============================] - 2s 5ms/step - loss: 1.2172 - mae: 0.6654 - val_loss: 1.0863 - val_mae: 0.5903\n",
      "Epoch 5/500\n",
      "447/447 [==============================] - 2s 5ms/step - loss: 1.1523 - mae: 0.6389 - val_loss: 1.0487 - val_mae: 0.6104\n",
      "Epoch 6/500\n",
      "447/447 [==============================] - 2s 5ms/step - loss: 1.0626 - mae: 0.5897 - val_loss: 0.9785 - val_mae: 0.5511\n",
      "Epoch 7/500\n",
      "447/447 [==============================] - 2s 5ms/step - loss: 1.0329 - mae: 0.5945 - val_loss: 0.9199 - val_mae: 0.5513\n",
      "Epoch 8/500\n",
      "447/447 [==============================] - 2s 5ms/step - loss: 0.9970 - mae: 0.5753 - val_loss: 0.9275 - val_mae: 0.5600\n",
      "Epoch 9/500\n",
      "447/447 [==============================] - 2s 5ms/step - loss: 0.9370 - mae: 0.5378 - val_loss: 0.8850 - val_mae: 0.5511\n",
      "Epoch 10/500\n",
      "447/447 [==============================] - 3s 7ms/step - loss: 0.8917 - mae: 0.5096 - val_loss: 0.8802 - val_mae: 0.5247\n",
      "Epoch 11/500\n",
      "447/447 [==============================] - 2s 5ms/step - loss: 0.9115 - mae: 0.5343 - val_loss: 0.9482 - val_mae: 0.5320\n",
      "Epoch 12/500\n",
      "447/447 [==============================] - 2s 5ms/step - loss: 0.8771 - mae: 0.4990 - val_loss: 0.8378 - val_mae: 0.4852\n",
      "Epoch 13/500\n",
      "447/447 [==============================] - 2s 5ms/step - loss: 0.8198 - mae: 0.4617 - val_loss: 1.0070 - val_mae: 0.4331\n",
      "Epoch 14/500\n",
      "447/447 [==============================] - 2s 5ms/step - loss: 0.8667 - mae: 0.4908 - val_loss: 0.8893 - val_mae: 0.5560\n",
      "Epoch 15/500\n",
      "447/447 [==============================] - 2s 5ms/step - loss: 0.8259 - mae: 0.4691 - val_loss: 0.9195 - val_mae: 0.4381\n",
      "Epoch 16/500\n",
      "447/447 [==============================] - 2s 5ms/step - loss: 0.8529 - mae: 0.4771 - val_loss: 1.0015 - val_mae: 0.5348\n",
      "Epoch 17/500\n",
      "447/447 [==============================] - 2s 4ms/step - loss: 0.8228 - mae: 0.4715 - val_loss: 0.8470 - val_mae: 0.4944\n",
      "Epoch 18/500\n",
      "447/447 [==============================] - 2s 5ms/step - loss: 0.8305 - mae: 0.4724 - val_loss: 0.9795 - val_mae: 0.5417\n",
      "Epoch 19/500\n",
      "447/447 [==============================] - 2s 5ms/step - loss: 0.8253 - mae: 0.4651 - val_loss: 0.8743 - val_mae: 0.4813\n",
      "Epoch 20/500\n",
      "447/447 [==============================] - 3s 7ms/step - loss: 0.7975 - mae: 0.4375 - val_loss: 0.7329 - val_mae: 0.4320\n",
      "Epoch 21/500\n",
      "447/447 [==============================] - 2s 4ms/step - loss: 0.7995 - mae: 0.4527 - val_loss: 0.7215 - val_mae: 0.4373\n",
      "Epoch 22/500\n",
      "447/447 [==============================] - 2s 5ms/step - loss: 0.7735 - mae: 0.4372 - val_loss: 0.7994 - val_mae: 0.4167\n",
      "Epoch 23/500\n",
      "447/447 [==============================] - 2s 5ms/step - loss: 0.7805 - mae: 0.4435 - val_loss: 0.7958 - val_mae: 0.4438\n",
      "Epoch 24/500\n",
      "447/447 [==============================] - 2s 4ms/step - loss: 0.7725 - mae: 0.4337 - val_loss: 0.7259 - val_mae: 0.4144\n",
      "Epoch 25/500\n",
      "447/447 [==============================] - 2s 4ms/step - loss: 0.7522 - mae: 0.4206 - val_loss: 0.6961 - val_mae: 0.3760\n",
      "Epoch 26/500\n",
      "447/447 [==============================] - 2s 5ms/step - loss: 0.7712 - mae: 0.4300 - val_loss: 0.7095 - val_mae: 0.3887\n",
      "Epoch 27/500\n",
      "447/447 [==============================] - 2s 5ms/step - loss: 0.7978 - mae: 0.4435 - val_loss: 0.9701 - val_mae: 0.4416\n",
      "Epoch 28/500\n",
      "447/447 [==============================] - 2s 4ms/step - loss: 0.7631 - mae: 0.4170 - val_loss: 0.7613 - val_mae: 0.4673\n",
      "Epoch 29/500\n",
      "447/447 [==============================] - 2s 5ms/step - loss: 0.7220 - mae: 0.4105 - val_loss: 0.7675 - val_mae: 0.4017\n",
      "Epoch 30/500\n",
      "447/447 [==============================] - 2s 5ms/step - loss: 0.7307 - mae: 0.4115 - val_loss: 0.6662 - val_mae: 0.3865\n",
      "Epoch 31/500\n",
      "447/447 [==============================] - 3s 7ms/step - loss: 0.7227 - mae: 0.3996 - val_loss: 0.6508 - val_mae: 0.3550\n",
      "Epoch 32/500\n",
      "447/447 [==============================] - 2s 5ms/step - loss: 0.7308 - mae: 0.4057 - val_loss: 0.7451 - val_mae: 0.3694\n",
      "Epoch 33/500\n",
      "447/447 [==============================] - 2s 4ms/step - loss: 0.7388 - mae: 0.4171 - val_loss: 0.6938 - val_mae: 0.3938\n",
      "Epoch 34/500\n",
      "447/447 [==============================] - 2s 5ms/step - loss: 0.6995 - mae: 0.3944 - val_loss: 0.8899 - val_mae: 0.4233\n",
      "Epoch 35/500\n",
      "447/447 [==============================] - 2s 5ms/step - loss: 0.7501 - mae: 0.4125 - val_loss: 0.8132 - val_mae: 0.4296\n",
      "Epoch 36/500\n",
      "447/447 [==============================] - 2s 5ms/step - loss: 0.7424 - mae: 0.4077 - val_loss: 0.6591 - val_mae: 0.3796\n",
      "Epoch 37/500\n",
      "447/447 [==============================] - 2s 6ms/step - loss: 0.6870 - mae: 0.3803 - val_loss: 0.6253 - val_mae: 0.3521\n",
      "Epoch 38/500\n",
      "447/447 [==============================] - 2s 4ms/step - loss: 0.6958 - mae: 0.3958 - val_loss: 0.6569 - val_mae: 0.3894\n",
      "Epoch 39/500\n",
      "447/447 [==============================] - 2s 4ms/step - loss: 0.7863 - mae: 0.4275 - val_loss: 0.6406 - val_mae: 0.3649\n",
      "Epoch 40/500\n",
      "447/447 [==============================] - 2s 5ms/step - loss: 0.7015 - mae: 0.3873 - val_loss: 0.7463 - val_mae: 0.3801\n",
      "Epoch 41/500\n",
      "447/447 [==============================] - 2s 5ms/step - loss: 0.7193 - mae: 0.3944 - val_loss: 0.6749 - val_mae: 0.3744\n",
      "Epoch 42/500\n",
      "447/447 [==============================] - 3s 6ms/step - loss: 0.7047 - mae: 0.3817 - val_loss: 0.6408 - val_mae: 0.3818\n",
      "Epoch 43/500\n",
      "447/447 [==============================] - 2s 4ms/step - loss: 0.7085 - mae: 0.3929 - val_loss: 0.6786 - val_mae: 0.3609\n",
      "Epoch 44/500\n",
      "447/447 [==============================] - 2s 5ms/step - loss: 0.7056 - mae: 0.3822 - val_loss: 0.7902 - val_mae: 0.4036\n",
      "Epoch 45/500\n",
      "447/447 [==============================] - 2s 5ms/step - loss: 0.7191 - mae: 0.4034 - val_loss: 0.6495 - val_mae: 0.3467\n",
      "Epoch 46/500\n",
      "447/447 [==============================] - 2s 5ms/step - loss: 0.7005 - mae: 0.3890 - val_loss: 0.6989 - val_mae: 0.4179\n",
      "Epoch 47/500\n",
      "447/447 [==============================] - 2s 5ms/step - loss: 0.6909 - mae: 0.3758 - val_loss: 0.9265 - val_mae: 0.5336\n",
      "Epoch 48/500\n",
      "447/447 [==============================] - 2s 5ms/step - loss: 0.6911 - mae: 0.3866 - val_loss: 0.8129 - val_mae: 0.3741\n",
      "Epoch 49/500\n",
      "447/447 [==============================] - 2s 5ms/step - loss: 0.6891 - mae: 0.3786 - val_loss: 0.6197 - val_mae: 0.3569\n",
      "Epoch 50/500\n",
      "447/447 [==============================] - 2s 5ms/step - loss: 0.7052 - mae: 0.3768 - val_loss: 0.7969 - val_mae: 0.3782\n",
      "Epoch 51/500\n",
      "447/447 [==============================] - 2s 5ms/step - loss: 0.7080 - mae: 0.3907 - val_loss: 0.6093 - val_mae: 0.3447\n",
      "Epoch 52/500\n",
      "447/447 [==============================] - 2s 5ms/step - loss: 0.6913 - mae: 0.3801 - val_loss: 0.9973 - val_mae: 0.4133\n",
      "Epoch 53/500\n",
      "447/447 [==============================] - 3s 7ms/step - loss: 0.6780 - mae: 0.3675 - val_loss: 1.0708 - val_mae: 0.5575\n",
      "Epoch 54/500\n",
      "447/447 [==============================] - 2s 5ms/step - loss: 0.6981 - mae: 0.3854 - val_loss: 0.7926 - val_mae: 0.4376\n",
      "Epoch 55/500\n",
      "447/447 [==============================] - 2s 5ms/step - loss: 0.6882 - mae: 0.3699 - val_loss: 0.6389 - val_mae: 0.3638\n",
      "Epoch 56/500\n",
      "447/447 [==============================] - 2s 5ms/step - loss: 0.6872 - mae: 0.3692 - val_loss: 0.6919 - val_mae: 0.3774\n",
      "Epoch 57/500\n",
      "447/447 [==============================] - 2s 5ms/step - loss: 0.6739 - mae: 0.3537 - val_loss: 0.7933 - val_mae: 0.4455\n",
      "Epoch 58/500\n",
      "447/447 [==============================] - 3s 6ms/step - loss: 0.6715 - mae: 0.3608 - val_loss: 0.6662 - val_mae: 0.3824\n",
      "Epoch 59/500\n",
      "447/447 [==============================] - 2s 6ms/step - loss: 0.7198 - mae: 0.3935 - val_loss: 0.6432 - val_mae: 0.3659\n",
      "Epoch 60/500\n",
      "447/447 [==============================] - 2s 5ms/step - loss: 0.6771 - mae: 0.3640 - val_loss: 0.5961 - val_mae: 0.3371\n",
      "Epoch 61/500\n",
      "447/447 [==============================] - 2s 5ms/step - loss: 0.6861 - mae: 0.3719 - val_loss: 0.6009 - val_mae: 0.3319\n",
      "Epoch 62/500\n",
      "447/447 [==============================] - 2s 5ms/step - loss: 0.6669 - mae: 0.3644 - val_loss: 0.6999 - val_mae: 0.3168\n",
      "Epoch 63/500\n",
      "447/447 [==============================] - 2s 5ms/step - loss: 0.6709 - mae: 0.3622 - val_loss: 0.5912 - val_mae: 0.3205\n",
      "Epoch 64/500\n",
      "447/447 [==============================] - 3s 7ms/step - loss: 0.6851 - mae: 0.3669 - val_loss: 0.7276 - val_mae: 0.3878\n",
      "Epoch 65/500\n",
      "447/447 [==============================] - 2s 5ms/step - loss: 0.6708 - mae: 0.3642 - val_loss: 0.7550 - val_mae: 0.3602\n",
      "Epoch 66/500\n",
      "447/447 [==============================] - 2s 4ms/step - loss: 0.6665 - mae: 0.3585 - val_loss: 0.7196 - val_mae: 0.3340\n",
      "Epoch 67/500\n",
      "447/447 [==============================] - 2s 4ms/step - loss: 0.6768 - mae: 0.3642 - val_loss: 0.6341 - val_mae: 0.3532\n",
      "Epoch 68/500\n",
      "447/447 [==============================] - 2s 4ms/step - loss: 0.6639 - mae: 0.3632 - val_loss: 0.6929 - val_mae: 0.4206\n",
      "Epoch 69/500\n",
      "447/447 [==============================] - 2s 4ms/step - loss: 0.6576 - mae: 0.3515 - val_loss: 0.6824 - val_mae: 0.3647\n",
      "Epoch 70/500\n",
      "447/447 [==============================] - 2s 4ms/step - loss: 0.6757 - mae: 0.3598 - val_loss: 0.8398 - val_mae: 0.4646\n",
      "Epoch 71/500\n",
      "447/447 [==============================] - 2s 4ms/step - loss: 0.6676 - mae: 0.3615 - val_loss: 0.6577 - val_mae: 0.4112\n",
      "Epoch 72/500\n",
      "447/447 [==============================] - 2s 4ms/step - loss: 0.6637 - mae: 0.3570 - val_loss: 0.7531 - val_mae: 0.4144\n",
      "Epoch 73/500\n",
      "447/447 [==============================] - 2s 4ms/step - loss: 0.6481 - mae: 0.3491 - val_loss: 0.6533 - val_mae: 0.3643\n",
      "Epoch 74/500\n",
      "447/447 [==============================] - 2s 4ms/step - loss: 0.6596 - mae: 0.3562 - val_loss: 0.6373 - val_mae: 0.3460\n",
      "Epoch 75/500\n",
      "447/447 [==============================] - 2s 4ms/step - loss: 0.6708 - mae: 0.3549 - val_loss: 0.6395 - val_mae: 0.3782\n",
      "Epoch 76/500\n",
      "447/447 [==============================] - 2s 4ms/step - loss: 0.6527 - mae: 0.3574 - val_loss: 0.6512 - val_mae: 0.3620\n",
      "Epoch 77/500\n",
      "447/447 [==============================] - 3s 7ms/step - loss: 0.6352 - mae: 0.3397 - val_loss: 0.7053 - val_mae: 0.3486\n",
      "Epoch 78/500\n",
      "447/447 [==============================] - 2s 4ms/step - loss: 0.6852 - mae: 0.3627 - val_loss: 0.6922 - val_mae: 0.3171\n",
      "Epoch 79/500\n",
      "447/447 [==============================] - 2s 4ms/step - loss: 0.6671 - mae: 0.3538 - val_loss: 0.6896 - val_mae: 0.3894\n",
      "Epoch 80/500\n",
      "447/447 [==============================] - 2s 4ms/step - loss: 0.6394 - mae: 0.3338 - val_loss: 0.7683 - val_mae: 0.3330\n",
      "Epoch 81/500\n",
      "447/447 [==============================] - 2s 4ms/step - loss: 0.6537 - mae: 0.3541 - val_loss: 0.8047 - val_mae: 0.3705\n",
      "Epoch 82/500\n",
      "447/447 [==============================] - 2s 4ms/step - loss: 0.6569 - mae: 0.3509 - val_loss: 0.6393 - val_mae: 0.3430\n",
      "Epoch 83/500\n",
      "447/447 [==============================] - 2s 4ms/step - loss: 0.6426 - mae: 0.3447 - val_loss: 0.6136 - val_mae: 0.3188\n",
      "Epoch 84/500\n",
      "447/447 [==============================] - 2s 4ms/step - loss: 0.6400 - mae: 0.3327 - val_loss: 0.6394 - val_mae: 0.3403\n",
      "Epoch 85/500\n",
      "447/447 [==============================] - 2s 4ms/step - loss: 0.6459 - mae: 0.3452 - val_loss: 0.5966 - val_mae: 0.3216\n",
      "Epoch 86/500\n",
      "447/447 [==============================] - 2s 4ms/step - loss: 0.6510 - mae: 0.3491 - val_loss: 1.0742 - val_mae: 0.4498\n",
      "Epoch 87/500\n",
      "447/447 [==============================] - 2s 4ms/step - loss: 0.6634 - mae: 0.3520 - val_loss: 0.7528 - val_mae: 0.3998\n",
      "Epoch 88/500\n",
      "447/447 [==============================] - 2s 4ms/step - loss: 0.6567 - mae: 0.3530 - val_loss: 0.6195 - val_mae: 0.3208\n",
      "Epoch 89/500\n",
      "447/447 [==============================] - 2s 4ms/step - loss: 0.6343 - mae: 0.3391 - val_loss: 0.6975 - val_mae: 0.3440\n",
      "Epoch 90/500\n",
      "447/447 [==============================] - 3s 6ms/step - loss: 0.6461 - mae: 0.3385 - val_loss: 0.7060 - val_mae: 0.3314\n",
      "Epoch 91/500\n",
      "447/447 [==============================] - 2s 4ms/step - loss: 0.6497 - mae: 0.3423 - val_loss: 0.6727 - val_mae: 0.3780\n",
      "Epoch 92/500\n",
      "447/447 [==============================] - 2s 4ms/step - loss: 0.6359 - mae: 0.3418 - val_loss: 0.7801 - val_mae: 0.3928\n",
      "Epoch 93/500\n",
      "447/447 [==============================] - 2s 4ms/step - loss: 0.6435 - mae: 0.3321 - val_loss: 0.5975 - val_mae: 0.3150\n",
      "Epoch 94/500\n",
      "447/447 [==============================] - 2s 5ms/step - loss: 0.6231 - mae: 0.3375 - val_loss: 0.7013 - val_mae: 0.3668\n",
      "Epoch 95/500\n",
      "447/447 [==============================] - 2s 4ms/step - loss: 0.6399 - mae: 0.3430 - val_loss: 0.6409 - val_mae: 0.3743\n",
      "Epoch 96/500\n",
      "447/447 [==============================] - 2s 5ms/step - loss: 0.6334 - mae: 0.3422 - val_loss: 0.6527 - val_mae: 0.3375\n",
      "Epoch 97/500\n",
      "447/447 [==============================] - 2s 5ms/step - loss: 0.6177 - mae: 0.3345 - val_loss: 0.6821 - val_mae: 0.3613\n",
      "Epoch 98/500\n",
      "447/447 [==============================] - 2s 4ms/step - loss: 0.6253 - mae: 0.3366 - val_loss: 0.7022 - val_mae: 0.3380\n",
      "Epoch 99/500\n",
      "447/447 [==============================] - 2s 4ms/step - loss: 0.6536 - mae: 0.3463 - val_loss: 0.7050 - val_mae: 0.3509\n",
      "Epoch 100/500\n",
      "447/447 [==============================] - 2s 4ms/step - loss: 0.6408 - mae: 0.3356 - val_loss: 0.8121 - val_mae: 0.3345\n",
      "Epoch 101/500\n",
      "447/447 [==============================] - 2s 5ms/step - loss: 0.6438 - mae: 0.3461 - val_loss: 0.6567 - val_mae: 0.3734\n",
      "Epoch 102/500\n",
      "447/447 [==============================] - 2s 4ms/step - loss: 0.6186 - mae: 0.3261 - val_loss: 0.6240 - val_mae: 0.2960\n",
      "Epoch 103/500\n",
      "447/447 [==============================] - 3s 7ms/step - loss: 0.6161 - mae: 0.3272 - val_loss: 0.6062 - val_mae: 0.3046\n",
      "Epoch 104/500\n",
      "447/447 [==============================] - 2s 4ms/step - loss: 0.6373 - mae: 0.3424 - val_loss: 0.6629 - val_mae: 0.3600\n",
      "Epoch 105/500\n",
      "447/447 [==============================] - 2s 5ms/step - loss: 0.6354 - mae: 0.3426 - val_loss: 0.6960 - val_mae: 0.3491\n",
      "Epoch 106/500\n",
      "447/447 [==============================] - 2s 4ms/step - loss: 0.6768 - mae: 0.3621 - val_loss: 0.6439 - val_mae: 0.3327\n",
      "Epoch 107/500\n",
      "447/447 [==============================] - 2s 5ms/step - loss: 0.6597 - mae: 0.3550 - val_loss: 0.6600 - val_mae: 0.3560\n",
      "Epoch 108/500\n",
      "447/447 [==============================] - 2s 5ms/step - loss: 0.6386 - mae: 0.3422 - val_loss: 0.6000 - val_mae: 0.3390\n",
      "Epoch 109/500\n",
      "447/447 [==============================] - 2s 4ms/step - loss: 0.6338 - mae: 0.3412 - val_loss: 0.6759 - val_mae: 0.3303\n",
      "Epoch 110/500\n",
      "447/447 [==============================] - 2s 5ms/step - loss: 0.6273 - mae: 0.3287 - val_loss: 0.5749 - val_mae: 0.3154\n",
      "Epoch 111/500\n",
      "447/447 [==============================] - 2s 4ms/step - loss: 0.6294 - mae: 0.3284 - val_loss: 0.6254 - val_mae: 0.3493\n",
      "Epoch 112/500\n",
      "447/447 [==============================] - 2s 4ms/step - loss: 0.6376 - mae: 0.3401 - val_loss: 0.6744 - val_mae: 0.3284\n",
      "Epoch 113/500\n",
      "447/447 [==============================] - 2s 5ms/step - loss: 0.6509 - mae: 0.3467 - val_loss: 0.6545 - val_mae: 0.2923\n",
      "Epoch 114/500\n",
      "447/447 [==============================] - 2s 4ms/step - loss: 0.6164 - mae: 0.3228 - val_loss: 0.7264 - val_mae: 0.3259\n",
      "Epoch 115/500\n",
      "447/447 [==============================] - 2s 4ms/step - loss: 0.6186 - mae: 0.3312 - val_loss: 0.7991 - val_mae: 0.3387\n",
      "Epoch 116/500\n",
      "447/447 [==============================] - 3s 7ms/step - loss: 0.6200 - mae: 0.3278 - val_loss: 0.5568 - val_mae: 0.2869\n",
      "Epoch 117/500\n",
      "447/447 [==============================] - 2s 5ms/step - loss: 0.6320 - mae: 0.3381 - val_loss: 0.6227 - val_mae: 0.3067\n",
      "Epoch 118/500\n",
      "447/447 [==============================] - 2s 5ms/step - loss: 0.6074 - mae: 0.3215 - val_loss: 0.6149 - val_mae: 0.3561\n",
      "Epoch 119/500\n",
      "447/447 [==============================] - 2s 4ms/step - loss: 0.6312 - mae: 0.3262 - val_loss: 0.6051 - val_mae: 0.3304\n",
      "Epoch 120/500\n",
      "447/447 [==============================] - 2s 4ms/step - loss: 0.6884 - mae: 0.3476 - val_loss: 0.6317 - val_mae: 0.3139\n",
      "Epoch 121/500\n",
      "447/447 [==============================] - 2s 5ms/step - loss: 0.6366 - mae: 0.3291 - val_loss: 0.5949 - val_mae: 0.3093\n",
      "Epoch 122/500\n",
      "447/447 [==============================] - 2s 4ms/step - loss: 0.6383 - mae: 0.3377 - val_loss: 0.6549 - val_mae: 0.3049\n",
      "Epoch 123/500\n",
      "447/447 [==============================] - 2s 4ms/step - loss: 0.6465 - mae: 0.3365 - val_loss: 0.5933 - val_mae: 0.3122\n",
      "Epoch 124/500\n",
      "447/447 [==============================] - 2s 5ms/step - loss: 0.6258 - mae: 0.3340 - val_loss: 0.6918 - val_mae: 0.3133\n",
      "Epoch 125/500\n",
      "447/447 [==============================] - 2s 4ms/step - loss: 0.6222 - mae: 0.3270 - val_loss: 0.5934 - val_mae: 0.3346\n",
      "Epoch 126/500\n",
      "447/447 [==============================] - 2s 5ms/step - loss: 0.5922 - mae: 0.3212 - val_loss: 0.6125 - val_mae: 0.3178\n",
      "Epoch 127/500\n",
      "447/447 [==============================] - 2s 4ms/step - loss: 0.6337 - mae: 0.3346 - val_loss: 0.6601 - val_mae: 0.4124\n",
      "Epoch 128/500\n",
      "447/447 [==============================] - 2s 5ms/step - loss: 0.6342 - mae: 0.3406 - val_loss: 0.6024 - val_mae: 0.2938\n",
      "Epoch 129/500\n",
      "447/447 [==============================] - 3s 6ms/step - loss: 0.6258 - mae: 0.3294 - val_loss: 0.7247 - val_mae: 0.3110\n",
      "Epoch 130/500\n",
      "447/447 [==============================] - 2s 5ms/step - loss: 0.6131 - mae: 0.3235 - val_loss: 0.7003 - val_mae: 0.2851\n",
      "Epoch 131/500\n",
      "447/447 [==============================] - 2s 4ms/step - loss: 0.6159 - mae: 0.3258 - val_loss: 0.6466 - val_mae: 0.3315\n",
      "Epoch 132/500\n",
      "447/447 [==============================] - 2s 5ms/step - loss: 0.5975 - mae: 0.3154 - val_loss: 0.7378 - val_mae: 0.3672\n",
      "Epoch 133/500\n",
      "447/447 [==============================] - 2s 5ms/step - loss: 0.6347 - mae: 0.3286 - val_loss: 0.5910 - val_mae: 0.3301\n",
      "Epoch 134/500\n",
      "447/447 [==============================] - 2s 4ms/step - loss: 0.6100 - mae: 0.3209 - val_loss: 0.6160 - val_mae: 0.3334\n",
      "Epoch 135/500\n",
      "447/447 [==============================] - 2s 5ms/step - loss: 0.6371 - mae: 0.3323 - val_loss: 0.6075 - val_mae: 0.3150\n",
      "Epoch 136/500\n",
      "447/447 [==============================] - 2s 5ms/step - loss: 0.6262 - mae: 0.3181 - val_loss: 0.8267 - val_mae: 0.3691\n",
      "Epoch 137/500\n",
      "447/447 [==============================] - 2s 4ms/step - loss: 0.6067 - mae: 0.3222 - val_loss: 0.6231 - val_mae: 0.3345\n",
      "Epoch 138/500\n",
      "447/447 [==============================] - 2s 5ms/step - loss: 0.6193 - mae: 0.3286 - val_loss: 0.5960 - val_mae: 0.2881\n",
      "Epoch 139/500\n",
      "447/447 [==============================] - 2s 4ms/step - loss: 0.6635 - mae: 0.3395 - val_loss: 0.6276 - val_mae: 0.3657\n",
      "Epoch 140/500\n",
      "447/447 [==============================] - 2s 4ms/step - loss: 0.6191 - mae: 0.3362 - val_loss: 0.6599 - val_mae: 0.2958\n",
      "Epoch 141/500\n",
      "447/447 [==============================] - 2s 5ms/step - loss: 0.6021 - mae: 0.3166 - val_loss: 0.6070 - val_mae: 0.3081\n",
      "Epoch 142/500\n",
      "447/447 [==============================] - 3s 7ms/step - loss: 0.6004 - mae: 0.3169 - val_loss: 0.7756 - val_mae: 0.3631\n",
      "Epoch 143/500\n",
      "447/447 [==============================] - 2s 4ms/step - loss: 0.6343 - mae: 0.3325 - val_loss: 0.7321 - val_mae: 0.3243\n",
      "Epoch 144/500\n",
      "447/447 [==============================] - 2s 5ms/step - loss: 0.6136 - mae: 0.3235 - val_loss: 0.7376 - val_mae: 0.3672\n",
      "Epoch 145/500\n",
      "447/447 [==============================] - 2s 5ms/step - loss: 0.6356 - mae: 0.3348 - val_loss: 0.6336 - val_mae: 0.2914\n",
      "Epoch 146/500\n",
      "447/447 [==============================] - 2s 5ms/step - loss: 0.5984 - mae: 0.3132 - val_loss: 0.6337 - val_mae: 0.3311\n",
      "Epoch 147/500\n",
      "447/447 [==============================] - 2s 4ms/step - loss: 0.6204 - mae: 0.3260 - val_loss: 0.5943 - val_mae: 0.2844\n",
      "Epoch 148/500\n",
      "447/447 [==============================] - 2s 5ms/step - loss: 0.6373 - mae: 0.3384 - val_loss: 0.5863 - val_mae: 0.3157\n",
      "Epoch 149/500\n",
      "447/447 [==============================] - 2s 4ms/step - loss: 0.5988 - mae: 0.3158 - val_loss: 0.6040 - val_mae: 0.3262\n",
      "Epoch 150/500\n",
      "447/447 [==============================] - 2s 4ms/step - loss: 0.6027 - mae: 0.3114 - val_loss: 0.5623 - val_mae: 0.3136\n",
      "Epoch 151/500\n",
      "447/447 [==============================] - 2s 5ms/step - loss: 0.6055 - mae: 0.3227 - val_loss: 0.5829 - val_mae: 0.2803\n",
      "Epoch 152/500\n",
      "447/447 [==============================] - 2s 4ms/step - loss: 0.5983 - mae: 0.3080 - val_loss: 0.5622 - val_mae: 0.2967\n",
      "Epoch 153/500\n",
      "447/447 [==============================] - 2s 5ms/step - loss: 0.6000 - mae: 0.3117 - val_loss: 0.6110 - val_mae: 0.3857\n",
      "Epoch 154/500\n",
      "447/447 [==============================] - 3s 6ms/step - loss: 0.6046 - mae: 0.3183 - val_loss: 0.5701 - val_mae: 0.3193\n",
      "Epoch 155/500\n",
      "447/447 [==============================] - 2s 4ms/step - loss: 0.5955 - mae: 0.3197 - val_loss: 0.7257 - val_mae: 0.3347\n",
      "Epoch 156/500\n",
      "447/447 [==============================] - 2s 4ms/step - loss: 0.6258 - mae: 0.3199 - val_loss: 0.6021 - val_mae: 0.3025\n",
      "Epoch 157/500\n",
      "447/447 [==============================] - 2s 4ms/step - loss: 0.5851 - mae: 0.3012 - val_loss: 0.6273 - val_mae: 0.2970\n",
      "Epoch 158/500\n",
      "447/447 [==============================] - 2s 4ms/step - loss: 0.5958 - mae: 0.3100 - val_loss: 0.5522 - val_mae: 0.2977\n",
      "Epoch 159/500\n",
      "447/447 [==============================] - 2s 4ms/step - loss: 0.6035 - mae: 0.3111 - val_loss: 0.5967 - val_mae: 0.2889\n",
      "Epoch 160/500\n",
      "447/447 [==============================] - 2s 4ms/step - loss: 0.6040 - mae: 0.3134 - val_loss: 0.5609 - val_mae: 0.3196\n",
      "Epoch 161/500\n",
      "447/447 [==============================] - 2s 4ms/step - loss: 0.6337 - mae: 0.3219 - val_loss: 0.5936 - val_mae: 0.2929\n",
      "Epoch 162/500\n",
      "447/447 [==============================] - 2s 4ms/step - loss: 0.6167 - mae: 0.3232 - val_loss: 0.8397 - val_mae: 0.3206\n",
      "Epoch 163/500\n",
      "447/447 [==============================] - 2s 4ms/step - loss: 0.6040 - mae: 0.3163 - val_loss: 0.5934 - val_mae: 0.3669\n",
      "Epoch 164/500\n",
      "447/447 [==============================] - 2s 4ms/step - loss: 0.6022 - mae: 0.3168 - val_loss: 0.5863 - val_mae: 0.2767\n",
      "Epoch 165/500\n",
      "447/447 [==============================] - 2s 4ms/step - loss: 0.6029 - mae: 0.3140 - val_loss: 0.7318 - val_mae: 0.3396\n",
      "Epoch 166/500\n",
      "447/447 [==============================] - 2s 4ms/step - loss: 0.5986 - mae: 0.3107 - val_loss: 0.5717 - val_mae: 0.3088\n",
      "Epoch 167/500\n",
      "447/447 [==============================] - 3s 6ms/step - loss: 0.6532 - mae: 0.3326 - val_loss: 0.5632 - val_mae: 0.2971\n",
      "Epoch 168/500\n",
      "447/447 [==============================] - 2s 4ms/step - loss: 0.5833 - mae: 0.3121 - val_loss: 0.6437 - val_mae: 0.2896\n",
      "Epoch 169/500\n",
      "447/447 [==============================] - 2s 4ms/step - loss: 0.5943 - mae: 0.3080 - val_loss: 0.5791 - val_mae: 0.2965\n",
      "Epoch 170/500\n",
      "447/447 [==============================] - 2s 4ms/step - loss: 0.5954 - mae: 0.3147 - val_loss: 0.5985 - val_mae: 0.3181\n",
      "Epoch 171/500\n",
      "447/447 [==============================] - 2s 4ms/step - loss: 0.5904 - mae: 0.3005 - val_loss: 0.5942 - val_mae: 0.2931\n",
      "Epoch 172/500\n",
      "447/447 [==============================] - 2s 4ms/step - loss: 0.5938 - mae: 0.3168 - val_loss: 0.5526 - val_mae: 0.2965\n",
      "Epoch 173/500\n",
      "447/447 [==============================] - 2s 4ms/step - loss: 0.5945 - mae: 0.3057 - val_loss: 0.6675 - val_mae: 0.3045\n",
      "Epoch 174/500\n",
      "447/447 [==============================] - 2s 4ms/step - loss: 0.6048 - mae: 0.3110 - val_loss: 0.6539 - val_mae: 0.3344\n",
      "Epoch 175/500\n",
      "447/447 [==============================] - 2s 4ms/step - loss: 0.6161 - mae: 0.3211 - val_loss: 0.6315 - val_mae: 0.3323\n",
      "Epoch 176/500\n",
      "447/447 [==============================] - 2s 4ms/step - loss: 0.5902 - mae: 0.3121 - val_loss: 0.5296 - val_mae: 0.2903\n",
      "Epoch 177/500\n",
      "447/447 [==============================] - 2s 4ms/step - loss: 0.5804 - mae: 0.3022 - val_loss: 0.6620 - val_mae: 0.2901\n",
      "Epoch 178/500\n",
      "447/447 [==============================] - 2s 4ms/step - loss: 0.5777 - mae: 0.3029 - val_loss: 0.5318 - val_mae: 0.2929\n",
      "Epoch 179/500\n",
      "447/447 [==============================] - 2s 4ms/step - loss: 0.6213 - mae: 0.3228 - val_loss: 0.5520 - val_mae: 0.2970\n",
      "Epoch 180/500\n",
      "447/447 [==============================] - 2s 4ms/step - loss: 0.6243 - mae: 0.3251 - val_loss: 0.5448 - val_mae: 0.2930\n",
      "Epoch 181/500\n",
      "447/447 [==============================] - 3s 7ms/step - loss: 0.6248 - mae: 0.3228 - val_loss: 0.5896 - val_mae: 0.3259\n",
      "Epoch 182/500\n",
      "447/447 [==============================] - 2s 4ms/step - loss: 0.6005 - mae: 0.3110 - val_loss: 0.5696 - val_mae: 0.3106\n",
      "Epoch 183/500\n",
      "447/447 [==============================] - 2s 5ms/step - loss: 0.6234 - mae: 0.3244 - val_loss: 0.6458 - val_mae: 0.3485\n",
      "Epoch 184/500\n",
      "447/447 [==============================] - 2s 5ms/step - loss: 0.5950 - mae: 0.3114 - val_loss: 0.5782 - val_mae: 0.3039\n",
      "Epoch 185/500\n",
      "447/447 [==============================] - 2s 5ms/step - loss: 0.6010 - mae: 0.3039 - val_loss: 0.5401 - val_mae: 0.2891\n",
      "Epoch 186/500\n",
      "447/447 [==============================] - 2s 5ms/step - loss: 0.6040 - mae: 0.3124 - val_loss: 0.7031 - val_mae: 0.3214\n",
      "Epoch 187/500\n",
      "447/447 [==============================] - 2s 5ms/step - loss: 0.6139 - mae: 0.3064 - val_loss: 0.7895 - val_mae: 0.3075\n",
      "Epoch 188/500\n",
      "447/447 [==============================] - 2s 5ms/step - loss: 0.5933 - mae: 0.3065 - val_loss: 0.6951 - val_mae: 0.3604\n",
      "Epoch 189/500\n",
      "447/447 [==============================] - 2s 5ms/step - loss: 0.5984 - mae: 0.3062 - val_loss: 0.6207 - val_mae: 0.2933\n",
      "Epoch 190/500\n",
      "447/447 [==============================] - 2s 5ms/step - loss: 0.5970 - mae: 0.3036 - val_loss: 0.5591 - val_mae: 0.3063\n",
      "Epoch 191/500\n",
      "447/447 [==============================] - 2s 5ms/step - loss: 0.6183 - mae: 0.3145 - val_loss: 0.5817 - val_mae: 0.2724\n",
      "Epoch 192/500\n",
      "447/447 [==============================] - 3s 7ms/step - loss: 0.6194 - mae: 0.3163 - val_loss: 0.7368 - val_mae: 0.3308\n",
      "Epoch 193/500\n",
      "447/447 [==============================] - 2s 5ms/step - loss: 0.6004 - mae: 0.3099 - val_loss: 0.7091 - val_mae: 0.3039\n",
      "Epoch 194/500\n",
      "447/447 [==============================] - 2s 4ms/step - loss: 0.5861 - mae: 0.3092 - val_loss: 0.8174 - val_mae: 0.3711\n",
      "Epoch 195/500\n",
      "447/447 [==============================] - 2s 4ms/step - loss: 0.6410 - mae: 0.3346 - val_loss: 0.5827 - val_mae: 0.3496\n",
      "Epoch 196/500\n",
      "447/447 [==============================] - 2s 4ms/step - loss: 0.5853 - mae: 0.2990 - val_loss: 0.5850 - val_mae: 0.2718\n",
      "Epoch 197/500\n",
      "447/447 [==============================] - 2s 4ms/step - loss: 0.5866 - mae: 0.2993 - val_loss: 0.6051 - val_mae: 0.3431\n",
      "Epoch 198/500\n",
      "447/447 [==============================] - 2s 5ms/step - loss: 0.6107 - mae: 0.3099 - val_loss: 0.6131 - val_mae: 0.3127\n",
      "Epoch 199/500\n",
      "447/447 [==============================] - 2s 5ms/step - loss: 0.5894 - mae: 0.3006 - val_loss: 0.5366 - val_mae: 0.2875\n",
      "Epoch 200/500\n",
      "447/447 [==============================] - 2s 4ms/step - loss: 0.5982 - mae: 0.3131 - val_loss: 0.5468 - val_mae: 0.2882\n",
      "Epoch 201/500\n",
      "447/447 [==============================] - 2s 4ms/step - loss: 0.5583 - mae: 0.2929 - val_loss: 0.6259 - val_mae: 0.3347\n",
      "Epoch 202/500\n",
      "447/447 [==============================] - 2s 5ms/step - loss: 0.6106 - mae: 0.3201 - val_loss: 0.5344 - val_mae: 0.2967\n",
      "Epoch 203/500\n",
      "447/447 [==============================] - 2s 5ms/step - loss: 0.5963 - mae: 0.3068 - val_loss: 0.6882 - val_mae: 0.3250\n",
      "Epoch 204/500\n",
      "447/447 [==============================] - 2s 4ms/step - loss: 0.6184 - mae: 0.3160 - val_loss: 0.6258 - val_mae: 0.2924\n",
      "Epoch 205/500\n",
      "447/447 [==============================] - 3s 7ms/step - loss: 0.5942 - mae: 0.3043 - val_loss: 0.6132 - val_mae: 0.3258\n",
      "Epoch 206/500\n",
      "447/447 [==============================] - 2s 5ms/step - loss: 0.5813 - mae: 0.3060 - val_loss: 0.6054 - val_mae: 0.2853\n",
      "Epoch 207/500\n",
      "447/447 [==============================] - 2s 5ms/step - loss: 0.5989 - mae: 0.2996 - val_loss: 0.5744 - val_mae: 0.2736\n",
      "Epoch 208/500\n",
      "447/447 [==============================] - 2s 4ms/step - loss: 0.5832 - mae: 0.2986 - val_loss: 0.6814 - val_mae: 0.3317\n",
      "Epoch 209/500\n",
      "447/447 [==============================] - 2s 4ms/step - loss: 0.5785 - mae: 0.2995 - val_loss: 0.7323 - val_mae: 0.3011\n",
      "Epoch 210/500\n",
      "447/447 [==============================] - 2s 5ms/step - loss: 0.5684 - mae: 0.3085 - val_loss: 0.5486 - val_mae: 0.3179\n",
      "Epoch 211/500\n",
      "447/447 [==============================] - 2s 5ms/step - loss: 0.5791 - mae: 0.3076 - val_loss: 0.7377 - val_mae: 0.3358\n",
      "Epoch 212/500\n",
      "447/447 [==============================] - 2s 4ms/step - loss: 0.5758 - mae: 0.2989 - val_loss: 0.5472 - val_mae: 0.2968\n",
      "Epoch 213/500\n",
      "447/447 [==============================] - 2s 4ms/step - loss: 0.5778 - mae: 0.3063 - val_loss: 0.6098 - val_mae: 0.2923\n",
      "Epoch 214/500\n",
      "447/447 [==============================] - 2s 5ms/step - loss: 0.5671 - mae: 0.2964 - val_loss: 0.7246 - val_mae: 0.3501\n",
      "Epoch 215/500\n",
      "447/447 [==============================] - 2s 4ms/step - loss: 0.5914 - mae: 0.3026 - val_loss: 0.5595 - val_mae: 0.2863\n",
      "Epoch 216/500\n",
      "447/447 [==============================] - 2s 4ms/step - loss: 0.5744 - mae: 0.2979 - val_loss: 0.5808 - val_mae: 0.2978\n",
      "Epoch 217/500\n",
      "447/447 [==============================] - 2s 5ms/step - loss: 0.6033 - mae: 0.3113 - val_loss: 0.5835 - val_mae: 0.2686\n",
      "Epoch 218/500\n",
      "447/447 [==============================] - 3s 7ms/step - loss: 0.5714 - mae: 0.2951 - val_loss: 0.5929 - val_mae: 0.3213\n",
      "Epoch 219/500\n",
      "447/447 [==============================] - 2s 4ms/step - loss: 0.5959 - mae: 0.3071 - val_loss: 0.6106 - val_mae: 0.2768\n",
      "Epoch 220/500\n",
      "447/447 [==============================] - 2s 5ms/step - loss: 0.5633 - mae: 0.2904 - val_loss: 0.6411 - val_mae: 0.2824\n",
      "Epoch 221/500\n",
      "447/447 [==============================] - 2s 5ms/step - loss: 0.6210 - mae: 0.3157 - val_loss: 0.5536 - val_mae: 0.3124\n",
      "Epoch 222/500\n",
      "447/447 [==============================] - 2s 4ms/step - loss: 0.5741 - mae: 0.2991 - val_loss: 0.5425 - val_mae: 0.3209\n",
      "Epoch 223/500\n",
      "447/447 [==============================] - 2s 4ms/step - loss: 0.5758 - mae: 0.2975 - val_loss: 0.6562 - val_mae: 0.2614\n",
      "Epoch 224/500\n",
      "447/447 [==============================] - 2s 4ms/step - loss: 0.5795 - mae: 0.3020 - val_loss: 0.5206 - val_mae: 0.3008\n",
      "Epoch 225/500\n",
      "447/447 [==============================] - 2s 5ms/step - loss: 0.5723 - mae: 0.3013 - val_loss: 0.6088 - val_mae: 0.3571\n",
      "Epoch 226/500\n",
      "447/447 [==============================] - 2s 5ms/step - loss: 0.5734 - mae: 0.3055 - val_loss: 0.7377 - val_mae: 0.2768\n",
      "Epoch 227/500\n",
      "447/447 [==============================] - 2s 5ms/step - loss: 0.5969 - mae: 0.3038 - val_loss: 0.6285 - val_mae: 0.2606\n",
      "Epoch 228/500\n",
      "447/447 [==============================] - 2s 5ms/step - loss: 0.5527 - mae: 0.2903 - val_loss: 0.6887 - val_mae: 0.3106\n",
      "Epoch 229/500\n",
      "447/447 [==============================] - 2s 4ms/step - loss: 0.5831 - mae: 0.3020 - val_loss: 0.5542 - val_mae: 0.2527\n",
      "Epoch 230/500\n",
      "447/447 [==============================] - 3s 7ms/step - loss: 0.5857 - mae: 0.2989 - val_loss: 1.0442 - val_mae: 0.3465\n",
      "Epoch 231/500\n",
      "447/447 [==============================] - 2s 5ms/step - loss: 0.5581 - mae: 0.2924 - val_loss: 0.9621 - val_mae: 0.3784\n",
      "Epoch 232/500\n",
      "447/447 [==============================] - 2s 5ms/step - loss: 0.5833 - mae: 0.2995 - val_loss: 0.6095 - val_mae: 0.2699\n",
      "Epoch 233/500\n",
      "447/447 [==============================] - 2s 5ms/step - loss: 0.5579 - mae: 0.2936 - val_loss: 0.5411 - val_mae: 0.2729\n",
      "Epoch 234/500\n",
      "447/447 [==============================] - 2s 5ms/step - loss: 0.5695 - mae: 0.2908 - val_loss: 0.5724 - val_mae: 0.3102\n",
      "Epoch 235/500\n",
      "447/447 [==============================] - 2s 5ms/step - loss: 0.5761 - mae: 0.3048 - val_loss: 0.5957 - val_mae: 0.3766\n",
      "Epoch 236/500\n",
      "447/447 [==============================] - 2s 5ms/step - loss: 0.5581 - mae: 0.2958 - val_loss: 0.9442 - val_mae: 0.3512\n",
      "Epoch 237/500\n",
      "447/447 [==============================] - 2s 4ms/step - loss: 0.6019 - mae: 0.3059 - val_loss: 0.5845 - val_mae: 0.3510\n",
      "Epoch 238/500\n",
      "447/447 [==============================] - 2s 5ms/step - loss: 0.5635 - mae: 0.2902 - val_loss: 0.5533 - val_mae: 0.3077\n",
      "Epoch 239/500\n",
      "447/447 [==============================] - 2s 5ms/step - loss: 0.5733 - mae: 0.3035 - val_loss: 0.7177 - val_mae: 0.2952\n",
      "Epoch 240/500\n",
      "447/447 [==============================] - 2s 4ms/step - loss: 0.5997 - mae: 0.3089 - val_loss: 0.5631 - val_mae: 0.2959\n",
      "Epoch 241/500\n",
      "447/447 [==============================] - 2s 4ms/step - loss: 0.5522 - mae: 0.2912 - val_loss: 0.7198 - val_mae: 0.3225\n",
      "Epoch 242/500\n",
      "447/447 [==============================] - 3s 7ms/step - loss: 0.5550 - mae: 0.2900 - val_loss: 0.5349 - val_mae: 0.3020\n",
      "Epoch 243/500\n",
      "447/447 [==============================] - 2s 5ms/step - loss: 0.6256 - mae: 0.3157 - val_loss: 0.5749 - val_mae: 0.2996\n",
      "Epoch 244/500\n",
      "447/447 [==============================] - 2s 4ms/step - loss: 0.5690 - mae: 0.2914 - val_loss: 0.5942 - val_mae: 0.3056\n",
      "Epoch 245/500\n",
      "447/447 [==============================] - 2s 4ms/step - loss: 0.5991 - mae: 0.3057 - val_loss: 0.6003 - val_mae: 0.2688\n",
      "Epoch 246/500\n",
      "447/447 [==============================] - 2s 4ms/step - loss: 0.5804 - mae: 0.2985 - val_loss: 0.5640 - val_mae: 0.3067\n",
      "Epoch 247/500\n",
      "447/447 [==============================] - 2s 5ms/step - loss: 0.5736 - mae: 0.3037 - val_loss: 0.5279 - val_mae: 0.3002\n",
      "Epoch 248/500\n",
      "447/447 [==============================] - 2s 4ms/step - loss: 0.5752 - mae: 0.2965 - val_loss: 0.5287 - val_mae: 0.2852\n",
      "Epoch 249/500\n",
      "447/447 [==============================] - 2s 4ms/step - loss: 0.5826 - mae: 0.3051 - val_loss: 0.5120 - val_mae: 0.3090\n",
      "Epoch 250/500\n",
      "447/447 [==============================] - 2s 4ms/step - loss: 0.5751 - mae: 0.2973 - val_loss: 0.5668 - val_mae: 0.2764\n",
      "Epoch 251/500\n",
      "447/447 [==============================] - 2s 4ms/step - loss: 0.5821 - mae: 0.2960 - val_loss: 0.6181 - val_mae: 0.3593\n",
      "Epoch 252/500\n",
      "447/447 [==============================] - 2s 4ms/step - loss: 0.5921 - mae: 0.2998 - val_loss: 0.6071 - val_mae: 0.2901\n",
      "Epoch 253/500\n",
      "447/447 [==============================] - 2s 4ms/step - loss: 0.5951 - mae: 0.3080 - val_loss: 0.6495 - val_mae: 0.2711\n",
      "Epoch 254/500\n",
      "447/447 [==============================] - 2s 5ms/step - loss: 0.5733 - mae: 0.2986 - val_loss: 1.0789 - val_mae: 0.4514\n",
      "Epoch 255/500\n",
      "447/447 [==============================] - 3s 7ms/step - loss: 0.5711 - mae: 0.2972 - val_loss: 0.5593 - val_mae: 0.3037\n",
      "Epoch 256/500\n",
      "447/447 [==============================] - 2s 4ms/step - loss: 0.5693 - mae: 0.2907 - val_loss: 0.5191 - val_mae: 0.2817\n",
      "Epoch 257/500\n",
      "447/447 [==============================] - 2s 4ms/step - loss: 0.5595 - mae: 0.2887 - val_loss: 0.5852 - val_mae: 0.3144\n",
      "Epoch 258/500\n",
      "447/447 [==============================] - 2s 4ms/step - loss: 0.5674 - mae: 0.2885 - val_loss: 0.6683 - val_mae: 0.3106\n",
      "Epoch 259/500\n",
      "447/447 [==============================] - 2s 5ms/step - loss: 0.5759 - mae: 0.2989 - val_loss: 0.7004 - val_mae: 0.3086\n",
      "Epoch 260/500\n",
      "447/447 [==============================] - 2s 5ms/step - loss: 0.5629 - mae: 0.2914 - val_loss: 0.5413 - val_mae: 0.3339\n",
      "Epoch 261/500\n",
      "447/447 [==============================] - 2s 4ms/step - loss: 0.5530 - mae: 0.2995 - val_loss: 0.6066 - val_mae: 0.2790\n",
      "Epoch 262/500\n",
      "447/447 [==============================] - 2s 4ms/step - loss: 0.5518 - mae: 0.2819 - val_loss: 0.6386 - val_mae: 0.2969\n",
      "Epoch 263/500\n",
      "447/447 [==============================] - 2s 5ms/step - loss: 0.5602 - mae: 0.2934 - val_loss: 0.5569 - val_mae: 0.2763\n",
      "Epoch 264/500\n",
      "447/447 [==============================] - 2s 4ms/step - loss: 0.5634 - mae: 0.2908 - val_loss: 0.5855 - val_mae: 0.3304\n",
      "Epoch 265/500\n",
      "447/447 [==============================] - 2s 5ms/step - loss: 0.5528 - mae: 0.2931 - val_loss: 0.6029 - val_mae: 0.3070\n",
      "Epoch 266/500\n",
      "447/447 [==============================] - 2s 4ms/step - loss: 0.5689 - mae: 0.2962 - val_loss: 0.6592 - val_mae: 0.3380\n",
      "Epoch 267/500\n",
      "447/447 [==============================] - 3s 6ms/step - loss: 0.5524 - mae: 0.2861 - val_loss: 0.5241 - val_mae: 0.2591\n",
      "Epoch 268/500\n",
      "447/447 [==============================] - 2s 4ms/step - loss: 0.5701 - mae: 0.2852 - val_loss: 0.6437 - val_mae: 0.2871\n",
      "Epoch 269/500\n",
      "447/447 [==============================] - 2s 4ms/step - loss: 0.5862 - mae: 0.2995 - val_loss: 0.6644 - val_mae: 0.2815\n",
      "Epoch 270/500\n",
      "447/447 [==============================] - 2s 4ms/step - loss: 0.5570 - mae: 0.2833 - val_loss: 0.5092 - val_mae: 0.2625\n",
      "Epoch 271/500\n",
      "447/447 [==============================] - 2s 4ms/step - loss: 0.5564 - mae: 0.2965 - val_loss: 0.6081 - val_mae: 0.2786\n",
      "Epoch 272/500\n",
      "447/447 [==============================] - 2s 4ms/step - loss: 0.5733 - mae: 0.2870 - val_loss: 0.6849 - val_mae: 0.2940\n",
      "Epoch 273/500\n",
      "447/447 [==============================] - 2s 4ms/step - loss: 0.5319 - mae: 0.2801 - val_loss: 0.5237 - val_mae: 0.2742\n",
      "Epoch 274/500\n",
      "447/447 [==============================] - 2s 4ms/step - loss: 0.5636 - mae: 0.2849 - val_loss: 0.5256 - val_mae: 0.3026\n",
      "Epoch 275/500\n",
      "447/447 [==============================] - 2s 4ms/step - loss: 0.5599 - mae: 0.2860 - val_loss: 0.5446 - val_mae: 0.3058\n",
      "Epoch 276/500\n",
      "447/447 [==============================] - 2s 4ms/step - loss: 0.5828 - mae: 0.2890 - val_loss: 0.5214 - val_mae: 0.3232\n",
      "Epoch 277/500\n",
      "447/447 [==============================] - 2s 4ms/step - loss: 0.5571 - mae: 0.2876 - val_loss: 0.5775 - val_mae: 0.2795\n",
      "Epoch 278/500\n",
      "447/447 [==============================] - 2s 4ms/step - loss: 0.5497 - mae: 0.2881 - val_loss: 0.5908 - val_mae: 0.3102\n",
      "Epoch 279/500\n",
      "447/447 [==============================] - 2s 4ms/step - loss: 0.5501 - mae: 0.2874 - val_loss: 0.5647 - val_mae: 0.3265\n",
      "Epoch 280/500\n",
      "447/447 [==============================] - 3s 6ms/step - loss: 0.5740 - mae: 0.2881 - val_loss: 0.5209 - val_mae: 0.3125\n",
      "Epoch 281/500\n",
      "447/447 [==============================] - 2s 4ms/step - loss: 0.5442 - mae: 0.2820 - val_loss: 0.5664 - val_mae: 0.2620\n",
      "Epoch 282/500\n",
      "447/447 [==============================] - 2s 4ms/step - loss: 0.5806 - mae: 0.3047 - val_loss: 0.5553 - val_mae: 0.3105\n",
      "Epoch 283/500\n",
      "447/447 [==============================] - 2s 4ms/step - loss: 0.5722 - mae: 0.2891 - val_loss: 0.5122 - val_mae: 0.3147\n",
      "Epoch 284/500\n",
      "447/447 [==============================] - 2s 4ms/step - loss: 0.5597 - mae: 0.2925 - val_loss: 0.5714 - val_mae: 0.2949\n",
      "Epoch 285/500\n",
      "447/447 [==============================] - 2s 4ms/step - loss: 0.5647 - mae: 0.2948 - val_loss: 0.6076 - val_mae: 0.3380\n",
      "Epoch 286/500\n",
      "447/447 [==============================] - 2s 4ms/step - loss: 0.5536 - mae: 0.2851 - val_loss: 0.5070 - val_mae: 0.2856\n",
      "Epoch 287/500\n",
      "447/447 [==============================] - 2s 4ms/step - loss: 0.5467 - mae: 0.2874 - val_loss: 0.5278 - val_mae: 0.2826\n",
      "Epoch 288/500\n",
      "447/447 [==============================] - 2s 4ms/step - loss: 0.5691 - mae: 0.2948 - val_loss: 0.7245 - val_mae: 0.3273\n",
      "Epoch 289/500\n",
      "447/447 [==============================] - 2s 4ms/step - loss: 0.5427 - mae: 0.2838 - val_loss: 0.6395 - val_mae: 0.2641\n",
      "Epoch 290/500\n",
      "447/447 [==============================] - 2s 4ms/step - loss: 0.5641 - mae: 0.2819 - val_loss: 0.5307 - val_mae: 0.2733\n",
      "Epoch 291/500\n",
      "447/447 [==============================] - 2s 4ms/step - loss: 0.5303 - mae: 0.2839 - val_loss: 0.5182 - val_mae: 0.2698\n",
      "Epoch 292/500\n",
      "447/447 [==============================] - 2s 4ms/step - loss: 0.5608 - mae: 0.2854 - val_loss: 0.5129 - val_mae: 0.2629\n",
      "Epoch 293/500\n",
      "447/447 [==============================] - 3s 6ms/step - loss: 0.5599 - mae: 0.2936 - val_loss: 0.5209 - val_mae: 0.2968\n",
      "Epoch 294/500\n",
      "447/447 [==============================] - 2s 4ms/step - loss: 0.5462 - mae: 0.2871 - val_loss: 0.6336 - val_mae: 0.2964\n",
      "Epoch 295/500\n",
      "447/447 [==============================] - 2s 4ms/step - loss: 0.5825 - mae: 0.2913 - val_loss: 0.5626 - val_mae: 0.3021\n",
      "Epoch 296/500\n",
      "447/447 [==============================] - 2s 4ms/step - loss: 0.5473 - mae: 0.2825 - val_loss: 0.8154 - val_mae: 0.2982\n",
      "Epoch 297/500\n",
      "447/447 [==============================] - 2s 5ms/step - loss: 0.5553 - mae: 0.2818 - val_loss: 0.5897 - val_mae: 0.2482\n",
      "Epoch 298/500\n",
      "447/447 [==============================] - 2s 4ms/step - loss: 0.5745 - mae: 0.2950 - val_loss: 0.5890 - val_mae: 0.3155\n",
      "Epoch 299/500\n",
      "447/447 [==============================] - 2s 4ms/step - loss: 0.5346 - mae: 0.2806 - val_loss: 0.5887 - val_mae: 0.2968\n",
      "Epoch 300/500\n",
      "447/447 [==============================] - 2s 4ms/step - loss: 0.5383 - mae: 0.2848 - val_loss: 0.7981 - val_mae: 0.2784\n",
      "Epoch 301/500\n",
      "447/447 [==============================] - 2s 4ms/step - loss: 0.5523 - mae: 0.2841 - val_loss: 0.5520 - val_mae: 0.2837\n",
      "Epoch 302/500\n",
      "447/447 [==============================] - 2s 5ms/step - loss: 0.5299 - mae: 0.2786 - val_loss: 0.5520 - val_mae: 0.3030\n",
      "Epoch 303/500\n",
      "447/447 [==============================] - 2s 4ms/step - loss: 0.5670 - mae: 0.2850 - val_loss: 0.7307 - val_mae: 0.2996\n",
      "Epoch 304/500\n",
      "447/447 [==============================] - 2s 4ms/step - loss: 0.5649 - mae: 0.2922 - val_loss: 0.5585 - val_mae: 0.3522\n",
      "Epoch 305/500\n",
      "447/447 [==============================] - 2s 4ms/step - loss: 0.5527 - mae: 0.2895 - val_loss: 0.5117 - val_mae: 0.3038\n",
      "Epoch 306/500\n",
      "447/447 [==============================] - 3s 6ms/step - loss: 0.5252 - mae: 0.2744 - val_loss: 0.4732 - val_mae: 0.2705\n",
      "Epoch 307/500\n",
      "447/447 [==============================] - 2s 5ms/step - loss: 0.5517 - mae: 0.2789 - val_loss: 0.4851 - val_mae: 0.2560\n",
      "Epoch 308/500\n",
      "447/447 [==============================] - 2s 4ms/step - loss: 0.5764 - mae: 0.2902 - val_loss: 0.5628 - val_mae: 0.2611\n",
      "Epoch 309/500\n",
      "447/447 [==============================] - 2s 4ms/step - loss: 0.5367 - mae: 0.2821 - val_loss: 0.7030 - val_mae: 0.2958\n",
      "Epoch 310/500\n",
      "447/447 [==============================] - 2s 5ms/step - loss: 0.5592 - mae: 0.2839 - val_loss: 0.6127 - val_mae: 0.2706\n",
      "Epoch 311/500\n",
      "447/447 [==============================] - 2s 4ms/step - loss: 0.5797 - mae: 0.2929 - val_loss: 0.6053 - val_mae: 0.2953\n",
      "Epoch 312/500\n",
      "447/447 [==============================] - 2s 4ms/step - loss: 0.5871 - mae: 0.2881 - val_loss: 0.5864 - val_mae: 0.2681\n",
      "Epoch 313/500\n",
      "447/447 [==============================] - 2s 4ms/step - loss: 0.5573 - mae: 0.2868 - val_loss: 0.5796 - val_mae: 0.2995\n",
      "Epoch 314/500\n",
      "447/447 [==============================] - 2s 5ms/step - loss: 0.5302 - mae: 0.2815 - val_loss: 0.6555 - val_mae: 0.2984\n",
      "Epoch 315/500\n",
      "447/447 [==============================] - 2s 4ms/step - loss: 0.5322 - mae: 0.2792 - val_loss: 0.6314 - val_mae: 0.2686\n",
      "Epoch 316/500\n",
      "447/447 [==============================] - 2s 4ms/step - loss: 0.5672 - mae: 0.2874 - val_loss: 0.5913 - val_mae: 0.2797\n",
      "Epoch 317/500\n",
      "447/447 [==============================] - 2s 4ms/step - loss: 0.5447 - mae: 0.2817 - val_loss: 0.5761 - val_mae: 0.2802\n",
      "Epoch 318/500\n",
      "447/447 [==============================] - 3s 7ms/step - loss: 0.5368 - mae: 0.2741 - val_loss: 0.5408 - val_mae: 0.2511\n",
      "Epoch 319/500\n",
      "447/447 [==============================] - 2s 4ms/step - loss: 0.5326 - mae: 0.2777 - val_loss: 0.5876 - val_mae: 0.2659\n",
      "Epoch 320/500\n",
      "447/447 [==============================] - 2s 5ms/step - loss: 0.5351 - mae: 0.2735 - val_loss: 0.8581 - val_mae: 0.3320\n",
      "Epoch 321/500\n",
      "447/447 [==============================] - 2s 5ms/step - loss: 0.5751 - mae: 0.2940 - val_loss: 0.7023 - val_mae: 0.2587\n",
      "Epoch 322/500\n",
      "447/447 [==============================] - 2s 4ms/step - loss: 0.5467 - mae: 0.2836 - val_loss: 0.5528 - val_mae: 0.2948\n",
      "Epoch 323/500\n",
      "447/447 [==============================] - 2s 4ms/step - loss: 0.5323 - mae: 0.2789 - val_loss: 0.4649 - val_mae: 0.2632\n",
      "Epoch 324/500\n",
      "447/447 [==============================] - 2s 4ms/step - loss: 0.5320 - mae: 0.2765 - val_loss: 0.6183 - val_mae: 0.3412\n",
      "Epoch 325/500\n",
      "447/447 [==============================] - 2s 5ms/step - loss: 0.5594 - mae: 0.2904 - val_loss: 0.6233 - val_mae: 0.2726\n",
      "Epoch 326/500\n",
      "447/447 [==============================] - 2s 5ms/step - loss: 0.5797 - mae: 0.2871 - val_loss: 0.5197 - val_mae: 0.2860\n",
      "Epoch 327/500\n",
      "447/447 [==============================] - 2s 4ms/step - loss: 0.5409 - mae: 0.2842 - val_loss: 0.6030 - val_mae: 0.2515\n",
      "Epoch 328/500\n",
      "447/447 [==============================] - 2s 4ms/step - loss: 0.5024 - mae: 0.2743 - val_loss: 0.8127 - val_mae: 0.2904\n",
      "Epoch 329/500\n",
      "447/447 [==============================] - 2s 4ms/step - loss: 0.5559 - mae: 0.2756 - val_loss: 0.6940 - val_mae: 0.3020\n",
      "Epoch 330/500\n",
      "447/447 [==============================] - 3s 7ms/step - loss: 0.5218 - mae: 0.2734 - val_loss: 0.5522 - val_mae: 0.2830\n",
      "Epoch 331/500\n",
      "447/447 [==============================] - 2s 4ms/step - loss: 0.5127 - mae: 0.2739 - val_loss: 0.6130 - val_mae: 0.2712\n",
      "Epoch 332/500\n",
      "447/447 [==============================] - 2s 4ms/step - loss: 0.5395 - mae: 0.2832 - val_loss: 0.6746 - val_mae: 0.2831\n",
      "Epoch 333/500\n",
      "447/447 [==============================] - 2s 4ms/step - loss: 0.5350 - mae: 0.2747 - val_loss: 0.6030 - val_mae: 0.2985\n",
      "Epoch 334/500\n",
      "447/447 [==============================] - 2s 4ms/step - loss: 0.4979 - mae: 0.2662 - val_loss: 0.4753 - val_mae: 0.2749\n",
      "Epoch 335/500\n",
      "447/447 [==============================] - 2s 4ms/step - loss: 0.5332 - mae: 0.2743 - val_loss: 0.5183 - val_mae: 0.2982\n",
      "Epoch 336/500\n",
      "447/447 [==============================] - 2s 4ms/step - loss: 0.5371 - mae: 0.2827 - val_loss: 0.6173 - val_mae: 0.2671\n",
      "Epoch 337/500\n",
      "447/447 [==============================] - 2s 4ms/step - loss: 0.4983 - mae: 0.2598 - val_loss: 0.6788 - val_mae: 0.3539\n",
      "Epoch 338/500\n",
      "447/447 [==============================] - 2s 4ms/step - loss: 0.4820 - mae: 0.2707 - val_loss: 0.5387 - val_mae: 0.3237\n",
      "Epoch 339/500\n",
      "447/447 [==============================] - 2s 4ms/step - loss: 0.5590 - mae: 0.2867 - val_loss: 0.5399 - val_mae: 0.2847\n",
      "Epoch 340/500\n",
      "447/447 [==============================] - 2s 4ms/step - loss: 0.5168 - mae: 0.2738 - val_loss: 0.4452 - val_mae: 0.2560\n",
      "Epoch 341/500\n",
      "447/447 [==============================] - 3s 7ms/step - loss: 0.5805 - mae: 0.2876 - val_loss: 0.4897 - val_mae: 0.2968\n",
      "Epoch 342/500\n",
      "447/447 [==============================] - 2s 4ms/step - loss: 0.4967 - mae: 0.2753 - val_loss: 0.4474 - val_mae: 0.2750\n",
      "Epoch 343/500\n",
      "447/447 [==============================] - 2s 4ms/step - loss: 0.5554 - mae: 0.2868 - val_loss: 0.4769 - val_mae: 0.2533\n",
      "Epoch 344/500\n",
      "447/447 [==============================] - 2s 4ms/step - loss: 0.5373 - mae: 0.2797 - val_loss: 0.5094 - val_mae: 0.2838\n",
      "Epoch 345/500\n",
      "447/447 [==============================] - 2s 4ms/step - loss: 0.5277 - mae: 0.2758 - val_loss: 0.5997 - val_mae: 0.2465\n",
      "Epoch 346/500\n",
      "447/447 [==============================] - 2s 4ms/step - loss: 0.5599 - mae: 0.2817 - val_loss: 0.5094 - val_mae: 0.2992\n",
      "Epoch 347/500\n",
      "447/447 [==============================] - 2s 4ms/step - loss: 0.5171 - mae: 0.2761 - val_loss: 0.5808 - val_mae: 0.3061\n",
      "Epoch 348/500\n",
      "447/447 [==============================] - 2s 4ms/step - loss: 0.5347 - mae: 0.2778 - val_loss: 0.5151 - val_mae: 0.2958\n",
      "Epoch 349/500\n",
      "447/447 [==============================] - 2s 4ms/step - loss: 0.5182 - mae: 0.2713 - val_loss: 0.6671 - val_mae: 0.2692\n",
      "Epoch 350/500\n",
      "447/447 [==============================] - 2s 4ms/step - loss: 0.5280 - mae: 0.2733 - val_loss: 0.6280 - val_mae: 0.3252\n",
      "Epoch 351/500\n",
      "447/447 [==============================] - 2s 4ms/step - loss: 0.5386 - mae: 0.2829 - val_loss: 0.4838 - val_mae: 0.2700\n",
      "Epoch 352/500\n",
      "447/447 [==============================] - 2s 4ms/step - loss: 0.5487 - mae: 0.2745 - val_loss: 0.7494 - val_mae: 0.3648\n",
      "Epoch 353/500\n",
      "447/447 [==============================] - 3s 7ms/step - loss: 0.5803 - mae: 0.2918 - val_loss: 0.5825 - val_mae: 0.2838\n",
      "Epoch 354/500\n",
      "447/447 [==============================] - 2s 4ms/step - loss: 0.5334 - mae: 0.2757 - val_loss: 0.4726 - val_mae: 0.2480\n",
      "Epoch 355/500\n",
      "447/447 [==============================] - 2s 4ms/step - loss: 0.5449 - mae: 0.2783 - val_loss: 0.5234 - val_mae: 0.3133\n",
      "Epoch 356/500\n",
      "447/447 [==============================] - 2s 4ms/step - loss: 0.5264 - mae: 0.2722 - val_loss: 0.5254 - val_mae: 0.2763\n",
      "Epoch 357/500\n",
      "447/447 [==============================] - 2s 4ms/step - loss: 0.5427 - mae: 0.2753 - val_loss: 0.4868 - val_mae: 0.2846\n",
      "Epoch 358/500\n",
      "447/447 [==============================] - 2s 4ms/step - loss: 0.5533 - mae: 0.2842 - val_loss: 0.4934 - val_mae: 0.2936\n",
      "Epoch 359/500\n",
      "447/447 [==============================] - 2s 4ms/step - loss: 0.5137 - mae: 0.2722 - val_loss: 0.5447 - val_mae: 0.2657\n",
      "Epoch 360/500\n",
      "447/447 [==============================] - 2s 5ms/step - loss: 0.5389 - mae: 0.2711 - val_loss: 0.5244 - val_mae: 0.2847\n",
      "Epoch 361/500\n",
      "447/447 [==============================] - 2s 4ms/step - loss: 0.5608 - mae: 0.2823 - val_loss: 0.5454 - val_mae: 0.2835\n",
      "Epoch 362/500\n",
      "447/447 [==============================] - 2s 4ms/step - loss: 0.5281 - mae: 0.2741 - val_loss: 0.5467 - val_mae: 0.2893\n",
      "Epoch 363/500\n",
      "447/447 [==============================] - 2s 4ms/step - loss: 0.5457 - mae: 0.2822 - val_loss: 0.4991 - val_mae: 0.3038\n",
      "Epoch 364/500\n",
      "447/447 [==============================] - 3s 6ms/step - loss: 0.5307 - mae: 0.2777 - val_loss: 0.5952 - val_mae: 0.3003\n",
      "Epoch 365/500\n",
      "447/447 [==============================] - 2s 4ms/step - loss: 0.5245 - mae: 0.2748 - val_loss: 0.6991 - val_mae: 0.2926\n",
      "Epoch 366/500\n",
      "447/447 [==============================] - 2s 4ms/step - loss: 0.5286 - mae: 0.2761 - val_loss: 0.5405 - val_mae: 0.2458\n",
      "Epoch 367/500\n",
      "447/447 [==============================] - 2s 4ms/step - loss: 0.5121 - mae: 0.2685 - val_loss: 0.4949 - val_mae: 0.2832\n",
      "Epoch 368/500\n",
      "447/447 [==============================] - 2s 4ms/step - loss: 0.5597 - mae: 0.2884 - val_loss: 0.7768 - val_mae: 0.3270\n",
      "Epoch 369/500\n",
      "447/447 [==============================] - 2s 4ms/step - loss: 0.5314 - mae: 0.2746 - val_loss: 0.7020 - val_mae: 0.2384\n",
      "Epoch 370/500\n",
      "447/447 [==============================] - 2s 4ms/step - loss: 0.5342 - mae: 0.2767 - val_loss: 0.4999 - val_mae: 0.2566\n",
      "Epoch 371/500\n",
      "447/447 [==============================] - 2s 4ms/step - loss: 0.5104 - mae: 0.2696 - val_loss: 0.5640 - val_mae: 0.2517\n",
      "Epoch 372/500\n",
      "447/447 [==============================] - 2s 4ms/step - loss: 0.5337 - mae: 0.2743 - val_loss: 0.4849 - val_mae: 0.2704\n",
      "Epoch 373/500\n",
      "447/447 [==============================] - 2s 4ms/step - loss: 0.5649 - mae: 0.2863 - val_loss: 0.5381 - val_mae: 0.2897\n",
      "Epoch 374/500\n",
      "447/447 [==============================] - 2s 4ms/step - loss: 0.5367 - mae: 0.2771 - val_loss: 0.4767 - val_mae: 0.2907\n",
      "Epoch 375/500\n",
      "447/447 [==============================] - 3s 7ms/step - loss: 0.4871 - mae: 0.2669 - val_loss: 0.6682 - val_mae: 0.3003\n",
      "Epoch 376/500\n",
      "447/447 [==============================] - 2s 4ms/step - loss: 0.5857 - mae: 0.2926 - val_loss: 0.5445 - val_mae: 0.2952\n",
      "Epoch 377/500\n",
      "447/447 [==============================] - 2s 4ms/step - loss: 0.5290 - mae: 0.2788 - val_loss: 0.6566 - val_mae: 0.2646\n",
      "Epoch 378/500\n",
      "447/447 [==============================] - 2s 4ms/step - loss: 0.5198 - mae: 0.2711 - val_loss: 0.5759 - val_mae: 0.2729\n",
      "Epoch 379/500\n",
      "447/447 [==============================] - 2s 4ms/step - loss: 0.5119 - mae: 0.2722 - val_loss: 0.4453 - val_mae: 0.2576\n",
      "Epoch 380/500\n",
      "447/447 [==============================] - 2s 4ms/step - loss: 0.5175 - mae: 0.2688 - val_loss: 0.6835 - val_mae: 0.2563\n",
      "Epoch 381/500\n",
      "447/447 [==============================] - 2s 4ms/step - loss: 0.5490 - mae: 0.2771 - val_loss: 0.5237 - val_mae: 0.2955\n",
      "Epoch 382/500\n",
      "447/447 [==============================] - 2s 4ms/step - loss: 0.5052 - mae: 0.2692 - val_loss: 0.5746 - val_mae: 0.2788\n",
      "Epoch 383/500\n",
      "447/447 [==============================] - 2s 4ms/step - loss: 0.5795 - mae: 0.2834 - val_loss: 0.6769 - val_mae: 0.2968\n",
      "Epoch 384/500\n",
      "447/447 [==============================] - 2s 4ms/step - loss: 0.5232 - mae: 0.2721 - val_loss: 0.4957 - val_mae: 0.2642\n",
      "Epoch 385/500\n",
      "447/447 [==============================] - 2s 4ms/step - loss: 0.5349 - mae: 0.2718 - val_loss: 0.4999 - val_mae: 0.2769\n",
      "Epoch 386/500\n",
      "447/447 [==============================] - 3s 6ms/step - loss: 0.5036 - mae: 0.2619 - val_loss: 0.8377 - val_mae: 0.3427\n",
      "Epoch 387/500\n",
      "447/447 [==============================] - 2s 4ms/step - loss: 0.5866 - mae: 0.2904 - val_loss: 0.5158 - val_mae: 0.2883\n",
      "Epoch 388/500\n",
      "447/447 [==============================] - 2s 4ms/step - loss: 0.4988 - mae: 0.2722 - val_loss: 0.5884 - val_mae: 0.2702\n",
      "Epoch 389/500\n",
      "447/447 [==============================] - 2s 4ms/step - loss: 0.5265 - mae: 0.2692 - val_loss: 0.5397 - val_mae: 0.2442\n",
      "Epoch 390/500\n",
      "447/447 [==============================] - 2s 4ms/step - loss: 0.5506 - mae: 0.2739 - val_loss: 0.6497 - val_mae: 0.2756\n"
     ]
    }
   ],
   "source": [
    "history = ann.fit(X_train, y_train,\n",
    "                    validation_data = (X_val, y_val),\n",
    "                    callbacks=[es],\n",
    "                    epochs=500,\n",
    "                    batch_size=30,\n",
    "                    verbose=1)"
   ]
  },
  {
   "cell_type": "code",
   "execution_count": 22,
   "metadata": {
    "ExecuteTime": {
     "end_time": "2024-08-22T03:55:09.606633900Z",
     "start_time": "2024-08-22T03:55:09.057515800Z"
    }
   },
   "outputs": [
    {
     "data": {
      "text/plain": "<Figure size 600x600 with 1 Axes>",
      "image/png": "[encoded data removed]"
     },
     "metadata": {},
     "output_type": "display_data"
    }
   ],
   "source": [
    "# let's see the training and validation accuracy by epoch\n",
    "history_dict = history.history\n",
    "loss_values = history_dict['loss'] # you can change this\n",
    "val_loss_values = history_dict['val_loss'] # you can also change this\n",
    "epochs = range(1, len(loss_values) + 1) # range of X (no. of epochs)\n",
    "\n",
    "# Set global font to Times New Roman and font size\n",
    "plt.rcParams['font.family'] = 'serif'\n",
    "plt.rcParams['font.serif'] = ['Times New Roman']\n",
    "plt.rcParams['font.size'] = 20\n",
    "\n",
    "# Create a plot\n",
    "plt.figure(figsize=(6, 6))\n",
    "plt.plot(epochs, loss_values, 'blue', label='Train set')\n",
    "plt.plot(epochs, val_loss_values, 'orange', label='Validation set')\n",
    "#plt.title('Training and testing loss')\n",
    "\n",
    "\n",
    "plt.xlabel('Epochs')\n",
    "plt.ylabel('Loss (MSE)')\n",
    "plt.legend()\n",
    "plt.savefig('Section4_ANN1_2.png', dpi=200, bbox_inches='tight')\n",
    "plt.show()"
   ]
  },
  {
   "cell_type": "code",
   "execution_count": 23,
   "metadata": {
    "ExecuteTime": {
     "end_time": "2024-08-22T03:55:10.156130300Z",
     "start_time": "2024-08-22T03:55:09.609635100Z"
    }
   },
   "outputs": [
    {
     "data": {
      "text/plain": "<Figure size 600x600 with 1 Axes>",
      "image/png": "[encoded data removed]"
     },
     "metadata": {},
     "output_type": "display_data"
    }
   ],
   "source": [
    "loss_values1 = history_dict['mae'] # you can change this\n",
    "val_loss_values1 = history_dict['val_mae'] # you can also change this\n",
    "epochs = range(1, len(loss_values1) + 1) # range of X (no. of epochs)\n",
    "# Create a plot\n",
    "plt.figure(figsize=(6, 6))\n",
    "plt.plot(epochs, loss_values1, 'blue', label='Train set')\n",
    "plt.plot(epochs, val_loss_values1, 'orange', label='Validation set')\n",
    "#plt.title('Training and testing MAE')\n",
    "plt.xlabel('Epochs')\n",
    "plt.ylabel('MAE (kPa)')\n",
    "plt.legend()\n",
    "plt.savefig('Section4_ANN1_3.png', dpi=200, bbox_inches='tight')\n",
    "plt.show()"
   ]
  },
  {
   "cell_type": "code",
   "execution_count": 24,
   "metadata": {
    "ExecuteTime": {
     "end_time": "2024-08-22T03:55:10.177649Z",
     "start_time": "2024-08-22T03:55:10.153131900Z"
    }
   },
   "outputs": [
    {
     "name": "stdout",
     "output_type": "stream",
     "text": [
      "range(1, 391)\n"
     ]
    }
   ],
   "source": [
    "print (epochs)"
   ]
  },
  {
   "cell_type": "code",
   "execution_count": 25,
   "metadata": {
    "ExecuteTime": {
     "end_time": "2024-08-22T03:55:11.999958800Z",
     "start_time": "2024-08-22T03:55:10.169650800Z"
    }
   },
   "outputs": [
    {
     "name": "stdout",
     "output_type": "stream",
     "text": [
      "INFO:tensorflow:Assets written to: Section4_new_ANN_1\\assets\n"
     ]
    }
   ],
   "source": [
    "ann.save('Section4_new_ANN_1')\n",
    "import pickle\n",
    "pickle.dump(sc, open('Section4_new_scaler_ANN_1.pkl', 'wb'))"
   ]
  },
  {
   "cell_type": "markdown",
   "metadata": {},
   "source": [
    "## Part 5 - Make predictions"
   ]
  },
  {
   "cell_type": "code",
   "execution_count": 26,
   "metadata": {
    "ExecuteTime": {
     "end_time": "2024-08-22T03:55:14.573795200Z",
     "start_time": "2024-08-22T03:55:12.005957100Z"
    }
   },
   "outputs": [
    {
     "name": "stdout",
     "output_type": "stream",
     "text": [
      "419/419 [==============================] - 1s 2ms/step\n",
      "140/140 [==============================] - 0s 2ms/step\n"
     ]
    },
    {
     "data": {
      "text/plain": "<Figure size 640x480 with 2 Axes>",
      "image/png": "[encoded data removed]"
     },
     "metadata": {},
     "output_type": "display_data"
    }
   ],
   "source": [
    "# scatterplot of actual vs. pred\n",
    "# specify the dimensions \n",
    "fig, axes = plt.subplots(1,2) # 1 row, 2 columns\n",
    "\n",
    "# this makes the individual subplots\n",
    "# Training Results\n",
    "axes[0].scatter(x=y_train, y=ann.predict(X_train)) #first row, first entry (left top)\n",
    "axes[0].set_xlabel(\"Actual\", fontsize=10)\n",
    "axes[0].set_ylabel(\"Predicted\",  fontsize=10)\n",
    "axes[0].set_title(\"Training\")\n",
    "# add 45 deg line\n",
    "x = np.linspace(*axes[0].get_xlim())\n",
    "axes[0].plot(x, x, color='red')\n",
    "# Validation Results\n",
    "axes[1].scatter(x=y_val, y=ann.predict(X_val)) # first row, second entry (right top)\n",
    "axes[1].set_xlabel(\"Actual\", fontsize=10)\n",
    "axes[1].set_ylabel(\"Predicted\",  fontsize=10)\n",
    "axes[1].set_title(\"Validation\")\n",
    "# add 45 deg line\n",
    "x = np.linspace(*axes[1].get_xlim())\n",
    "axes[1].plot(x, x, color='red')\n",
    "\n",
    "# tight layout\n",
    "fig.tight_layout()\n",
    "plt.savefig('Section4_ANN1_1.png', dpi=200, bbox_inches='tight')\n",
    "# show the plot\n",
    "plt.show()"
   ]
  },
  {
   "cell_type": "code",
   "execution_count": 17,
   "metadata": {
    "colab": {
     "base_uri": "https://localhost:8080/",
     "height": 134
    },
    "colab_type": "code",
    "id": "IA0yApEmBG1X",
    "outputId": "cb981e1f-9204-4a2a-fece-9d66a6919189",
    "ExecuteTime": {
     "end_time": "2024-12-06T03:16:14.540119Z",
     "start_time": "2024-12-06T03:15:45.555269400Z"
    }
   },
   "outputs": [
    {
     "name": "stdout",
     "output_type": "stream",
     "text": [
      "74/74 [==============================] - 29s 378ms/step\n",
      "[[ 8.26  8.41]\n",
      " [-0.56 -0.42]\n",
      " [ 0.1   0.15]\n",
      " ...\n",
      " [-4.18 -4.27]\n",
      " [-2.06 -0.9 ]\n",
      " [ 4.52  4.61]]\n"
     ]
    }
   ],
   "source": [
    "y_pred = ann.predict(X_test)\n",
    "np.set_printoptions(precision=2)\n",
    "print(np.concatenate((y_pred.reshape(len(y_pred),1), y_test.reshape(len(y_test),1)),1))"
   ]
  },
  {
   "cell_type": "code",
   "execution_count": 18,
   "metadata": {
    "ExecuteTime": {
     "end_time": "2024-12-06T03:17:14.743634800Z",
     "start_time": "2024-12-06T03:17:14.218546700Z"
    }
   },
   "outputs": [
    {
     "data": {
      "text/plain": "Text(0, 0.5, 'Predicted data')"
     },
     "execution_count": 18,
     "metadata": {},
     "output_type": "execute_result"
    },
    {
     "data": {
      "text/plain": "<Figure size 640x480 with 1 Axes>",
      "image/png": "[encoded data removed]"
     },
     "metadata": {},
     "output_type": "display_data"
    }
   ],
   "source": [
    "import matplotlib.pyplot as plt\n",
    "plt.scatter(y_test+101.25, y_pred+101.25, color=\"blue\")\n",
    "plt.xlabel ('Actual data')\n",
    "plt.ylabel ('Predicted data')"
   ]
  },
  {
   "cell_type": "code",
   "execution_count": 23,
   "metadata": {
    "ExecuteTime": {
     "end_time": "2024-12-06T03:19:30.446848400Z",
     "start_time": "2024-12-06T03:19:29.005064800Z"
    }
   },
   "outputs": [
    {
     "data": {
      "text/plain": "<Figure size 600x600 with 1 Axes>",
      "image/png": "[encoded data removed]"
     },
     "metadata": {},
     "output_type": "display_data"
    }
   ],
   "source": [
    "from sklearn.metrics import r2_score\n",
    "\n",
    "# Initialize layout\n",
    "fig1, ax1 = plt.subplots(figsize = (6, 6))\n",
    "\n",
    "# Set global font to Times New Roman and font size\n",
    "plt.rcParams['font.family'] = 'serif'\n",
    "plt.rcParams['font.serif'] = ['Times New Roman']\n",
    "plt.rcParams['font.size'] = 25\n",
    "\n",
    "b_l = 85\n",
    "u_l = 150\n",
    "\n",
    "# Add scatterplot\n",
    "ax1.scatter(y_test+101.25, y_pred+101.25, s=70, alpha=1, edgecolors=\"k\",c='mediumblue',zorder=5, label = 'Points')\n",
    "\n",
    "\n",
    "plt.ylabel('Predicted Incident Pressure (kPa)',fontsize = 22)\n",
    "plt.xlabel('Target Incident Pressure (kPa)',fontsize = 22)\n",
    "plt.xticks([90,100,110,120,130,140,150],fontsize = 22)\n",
    "plt.yticks([90,100,110,120,130,140,150],fontsize = 22)\n",
    "\n",
    "\n",
    "x1 = np.linspace(b_l, u_l)\n",
    "\n",
    "plt.plot(x1, x1, 'Red', label='45\\N{DEGREE SIGN} line',lw=2.5,alpha=1)\n",
    "\n",
    "plt.ylim(b_l, u_l)\n",
    "plt.xlim(b_l, u_l)\n",
    "#plt.legend(loc='upper center', bbox_to_anchor=(0.5, -0.15), ncol=4, frameon = False, fontsize = 20)\n",
    "\n",
    "#plt.grid()\n",
    "\n",
    "ax1.spines['left'].set_color('black')        # setting up Y-axis tick color to red\n",
    "ax1.spines['bottom'].set_color('black')         #setting up above X-axis tick color to red\n",
    "\n",
    "plt.savefig('Section4_ANN1_new.png', dpi=200, bbox_inches='tight')"
   ]
  },
  {
   "cell_type": "code",
   "execution_count": 30,
   "metadata": {
    "ExecuteTime": {
     "end_time": "2024-08-22T03:55:17.490124Z",
     "start_time": "2024-08-22T03:55:16.081011200Z"
    }
   },
   "outputs": [
    {
     "name": "stdout",
     "output_type": "stream",
     "text": [
      "419/419 [==============================] - 1s 3ms/step\n",
      "0.2444311942081466\n",
      "0.2529726053065305\n"
     ]
    }
   ],
   "source": [
    "# metrics\n",
    "trainpreds = ann.predict(X_train)\n",
    "\n",
    "from sklearn.metrics import mean_absolute_error\n",
    "print(mean_absolute_error(y_train, trainpreds)) # train\n",
    "print(mean_absolute_error(y_test, y_pred)) # test"
   ]
  },
  {
   "cell_type": "code",
   "execution_count": 24,
   "metadata": {
    "ExecuteTime": {
     "end_time": "2024-12-06T03:19:51.058249900Z",
     "start_time": "2024-12-06T03:19:50.948713500Z"
    }
   },
   "outputs": [
    {
     "name": "stdout",
     "output_type": "stream",
     "text": [
      "0.9925153843460816\n"
     ]
    }
   ],
   "source": [
    "from sklearn.metrics import r2_score\n",
    "r2 = r2_score(y_test+101.25, y_pred+101.25)\n",
    "print (r2)"
   ]
  },
  {
   "cell_type": "code",
   "execution_count": 32,
   "metadata": {
    "ExecuteTime": {
     "end_time": "2024-08-22T03:55:17.611247200Z",
     "start_time": "2024-08-22T03:55:17.504140200Z"
    }
   },
   "outputs": [
    {
     "name": "stdout",
     "output_type": "stream",
     "text": [
      "0.9920794431695443\n"
     ]
    }
   ],
   "source": [
    "r2_train = r2_score(y_train, trainpreds)\n",
    "print (r2_train)"
   ]
  },
  {
   "cell_type": "code",
   "execution_count": 33,
   "metadata": {
    "ExecuteTime": {
     "end_time": "2024-08-22T03:55:18.088662300Z",
     "start_time": "2024-08-22T03:55:17.615247500Z"
    }
   },
   "outputs": [
    {
     "name": "stdout",
     "output_type": "stream",
     "text": [
      "Within 5% margin 33.48%\n",
      "Within 10% margin 40.62%\n",
      "Within 20% margin 45.37%\n",
      "Out of 20% margin 54.63%\n"
     ]
    }
   ],
   "source": [
    "count0 = 0\n",
    "for i in range(len(y_pred)):\n",
    "    line1 = y_pred[i] - 0.95*y_test[i]\n",
    "    line2 = y_pred[i] - 1.05*y_test[i]\n",
    "    mask0 = (line1 > 0) & (line2 < 0)\n",
    "    count0 = np.sum(mask0+count0)\n",
    "\n",
    "count1 = 0\n",
    "for i in range(len(y_pred)):\n",
    "    line1 = y_pred[i] - 0.9*y_test[i]\n",
    "    line2 = y_pred[i] - 1.1*y_test[i]\n",
    "    mask1 = (line1 > 0) & (line2 < 0)\n",
    "    count1 = np.sum(mask1+count1)\n",
    "\n",
    "count2 = 0\n",
    "for j in range(len(y_pred)):\n",
    "    line3 = y_pred[j] - 0.8*y_test[j]\n",
    "    line4 = y_pred[j] - 1.2*y_test[j]\n",
    "    mask2 = (line3 > 0) & (line4 < 0)\n",
    "    count2 = np.sum(mask2+count2)\n",
    "\n",
    "\n",
    "count3 = 0    \n",
    "for k in range(len(y_pred)):\n",
    "    line5 = y_pred[k] - 0.8*y_test[k]\n",
    "    line6 = y_pred[k] - 1.2*y_test[k]\n",
    "    mask3 = (line5 < 0) or (line6 > 0)\n",
    "    count3 = np.sum(mask3+count3)\n",
    "   \n",
    "\n",
    "print ('Within 5% margin', format((count0/len (y_pred)),'.2%'))\n",
    "print ('Within 10% margin', format((count1/len (y_pred)),'.2%'))\n",
    "print ('Within 20% margin', format((count2/len (y_pred)),'.2%'))\n",
    "print ('Out of 20% margin', format((count3/len (y_pred)),'.2%'))"
   ]
  },
  {
   "cell_type": "code",
   "execution_count": 25,
   "metadata": {
    "ExecuteTime": {
     "end_time": "2024-12-06T03:20:00.808319900Z",
     "start_time": "2024-12-06T03:20:00.730498200Z"
    }
   },
   "outputs": [
    {
     "name": "stdout",
     "output_type": "stream",
     "text": [
      "0.9924994731733479\n"
     ]
    }
   ],
   "source": [
    "adj_r2 = 1 - ((1 - r2) * (len(X_test) - 1) / (len(X_test) - len (X_test[0]) - 1))\n",
    "print (adj_r2)"
   ]
  },
  {
   "cell_type": "code",
   "execution_count": 26,
   "metadata": {
    "ExecuteTime": {
     "end_time": "2024-12-06T03:20:18.449287200Z",
     "start_time": "2024-12-06T03:20:18.339730900Z"
    }
   },
   "outputs": [
    {
     "data": {
      "text/plain": "0.6192588725083915"
     },
     "execution_count": 26,
     "metadata": {},
     "output_type": "execute_result"
    }
   ],
   "source": [
    "import math\n",
    "from sklearn.metrics import mean_squared_error\n",
    "\n",
    "math.sqrt(mean_squared_error(y_test+101.25, y_pred+101.25))"
   ]
  },
  {
   "cell_type": "code",
   "execution_count": 27,
   "metadata": {
    "ExecuteTime": {
     "end_time": "2024-12-06T03:20:20.183596100Z",
     "start_time": "2024-12-06T03:20:20.152437200Z"
    }
   },
   "outputs": [
    {
     "data": {
      "text/plain": "0.23541793026539126"
     },
     "execution_count": 27,
     "metadata": {},
     "output_type": "execute_result"
    }
   ],
   "source": [
    "from sklearn.metrics import mean_absolute_error\n",
    "\n",
    "mean_absolute_error(y_test+101.25, y_pred+101.25)"
   ]
  },
  {
   "cell_type": "code",
   "execution_count": 12,
   "outputs": [],
   "source": [
    "ann = load_model('Section4_new_ANN_1')\n",
    "sc = pickle.load(open('Section4_new_scaler_ANN_1.pkl', 'rb'))"
   ],
   "metadata": {
    "collapsed": false,
    "ExecuteTime": {
     "end_time": "2024-12-06T03:15:13.069475700Z",
     "start_time": "2024-12-06T03:15:11.008031600Z"
    }
   }
  }
 ],
 "metadata": {
  "colab": {
   "collapsed_sections": [],
   "name": "Artificial Neural Network",
   "provenance": [],
   "toc_visible": true
  },
  "kernelspec": {
   "display_name": "Python 3 (ipykernel)",
   "language": "python",
   "name": "python3"
  },
  "language_info": {
   "codemirror_mode": {
    "name": "ipython",
    "version": 3
   },
   "file_extension": ".py",
   "mimetype": "text/x-python",
   "name": "python",
   "nbconvert_exporter": "python",
   "pygments_lexer": "ipython3",
   "version": "3.9.7"
  }
 },
 "nbformat": 4,
 "nbformat_minor": 4
}
