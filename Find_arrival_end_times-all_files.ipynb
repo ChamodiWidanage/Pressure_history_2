{
 "cells": [
  {
   "cell_type": "markdown",
   "id": "736c45bb-971f-4076-b3d5-d8907dae9bb0",
   "metadata": {},
   "source": [
    "### Not used to process data"
   ]
  },
  {
   "cell_type": "markdown",
   "id": "0cede545-4538-436d-ba77-972de1fa7975",
   "metadata": {},
   "source": [
    "## Import libraries"
   ]
  },
  {
   "cell_type": "code",
   "execution_count": 1,
   "id": "78da2ab4-3f82-47e7-9d10-099751b818c1",
   "metadata": {
    "tags": []
   },
   "outputs": [],
   "source": [
    "from pathlib import Path\n",
    "import pandas as pd\n",
    "import xlwings as xw\n",
    "import openpyxl"
   ]
  },
  {
   "cell_type": "markdown",
   "id": "92befdc2-149d-4f98-b26f-65c30b125eb1",
   "metadata": {},
   "source": [
    "## Access input directories "
   ]
  },
  {
   "cell_type": "code",
   "execution_count": 2,
   "id": "61c443fd-8ad5-48b9-bd4f-f3fe8292403c",
   "metadata": {},
   "outputs": [
    {
     "name": "stdout",
     "output_type": "stream",
     "text": [
      "1 OUTPUT_L806\n",
      "2 [WindowsPath('OUTPUT_L806/Output_1'), WindowsPath('OUTPUT_L806/Output_2'), WindowsPath('OUTPUT_L806/Output_3')]\n"
     ]
    }
   ],
   "source": [
    "#Access input folder\n",
    "input_dir1 = Path (\"OUTPUT_L806\")\n",
    "print (\"1\",input_dir1)\n",
    "\n",
    "#Access folders inside input folder\n",
    "input_dir2 =  [folder for folder in input_dir1.iterdir() if folder.is_dir()]\n",
    "print (\"2\",input_dir2)\n",
    "\n",
    "# Define current work directory\n",
    "current_dir = Path.cwd()"
   ]
  },
  {
   "cell_type": "markdown",
   "id": "0624005d-f168-45da-b3fe-10e09025b628",
   "metadata": {},
   "source": [
    "## Filtering arrival time"
   ]
  },
  {
   "cell_type": "code",
   "execution_count": 3,
   "id": "f2f1a6a0-a6bf-43c1-a72f-27abacfe8fb7",
   "metadata": {},
   "outputs": [
    {
     "name": "stdout",
     "output_type": "stream",
     "text": [
      "folder OUTPUT_L806\\Output_1\n",
      "T1\n",
      "pressure 100003\n",
      "time of arrival 0.0001176500009\n",
      "1179\n",
      "T1\n",
      "pressure 99999.898438\n",
      "end_time 0.020767999813\n",
      "70872\n",
      "T2\n",
      "pressure 100001\n",
      "time of arrival 0.00037531999988\n",
      "3482\n",
      "T2\n",
      "pressure 99999.898438\n",
      "end_time 0.021625999361\n",
      "73410\n",
      "T4\n",
      "pressure 100002\n",
      "time of arrival 0.0014048999874\n",
      "7373\n",
      "T4\n",
      "pressure 99999.898438\n",
      "end_time 0.022995999083\n",
      "77458\n",
      "T6\n",
      "pressure 100001\n",
      "time of arrival 0.0031202998944\n",
      "14432\n",
      "T6\n",
      "pressure 99999.789063\n",
      "end_time 0.02488199994\n",
      "83031\n",
      "T8\n",
      "pressure 100001\n",
      "time of arrival 0.0052763000131\n",
      "22283\n",
      "T8\n",
      "pressure 99999.789063\n",
      "end_time 0.027840999886\n",
      "91766\n",
      "folder OUTPUT_L806\\Output_2\n",
      "T10\n",
      "pressure 100001\n",
      "time of arrival 0.0076826000586\n",
      "30201\n",
      "T10\n",
      "pressure 99999.898438\n",
      "end_time 0.030849000439\n",
      "100648\n",
      "T12\n",
      "pressure 100001\n",
      "time of arrival 0.010239999741\n",
      "38749\n",
      "T12\n",
      "pressure 99999.898438\n",
      "end_time 0.03387099877\n",
      "109566\n",
      "T14\n",
      "pressure 100001\n",
      "time of arrival 0.012896000408\n",
      "47214\n",
      "T14\n",
      "pressure 99999.898438\n",
      "end_time 0.036896001548\n",
      "118495\n",
      "T16\n",
      "pressure 100001\n",
      "time of arrival 0.015619999729\n",
      "55568\n",
      "T16\n",
      "pressure 99999.898438\n",
      "end_time 0.039921998978\n",
      "127429\n",
      "T18\n",
      "pressure 100001\n",
      "time of arrival 0.018391000107\n",
      "63835\n",
      "T18\n",
      "pressure 99999.898438\n",
      "end_time 0.042950000614\n",
      "136365\n",
      "T20\n",
      "pressure 100001\n",
      "time of arrival 0.021199999377\n",
      "72150\n",
      "T20\n",
      "pressure 99999.898438\n",
      "end_time 0.045977000147\n",
      "145300\n",
      "folder OUTPUT_L806\\Output_3\n"
     ]
    }
   ],
   "source": [
    "# Define dataframe for arrival and end time data (Dataframe1)\n",
    "df = pd.DataFrame(columns = ['File_name', 'Charge_type',\n",
    "                             'Charge_mass', 'Standoff_distance',\n",
    "                             'Time_of_arrival', 'End_time'])\n",
    "\n",
    "# Create output directory\n",
    "output_dir = current_dir/ \"Output_filtered2\"\n",
    "output_dir.mkdir(exist_ok = True)\n",
    "\n",
    "# Access folders inside input directory\n",
    "for folder in input_dir2:\n",
    "    print (\"folder\", folder)\n",
    "    \n",
    "    # Make a list of data file names in each folder\n",
    "    files = list(folder.rglob(\"*.xlsx\"))\n",
    "    \n",
    "    # Access each file inside folders\n",
    "    for file in files:\n",
    "        \n",
    "        # Open excel workbook\n",
    "        wrkbk = openpyxl.load_workbook(file)\n",
    "        sh = wrkbk.active\n",
    "        \n",
    "        # Define variables to terminate arrival and end time loops\n",
    "        a=0\n",
    "        b=0\n",
    "        \n",
    "        # Iterate through data to find arrival time\n",
    "        for i in range(2, sh.max_row+1):\n",
    "            cell_pressure = sh.cell (row = i, column = 2)\n",
    "            if cell_pressure.value > 100000:\n",
    "                print (file.stem)\n",
    "                print (\"pressure\", cell_pressure.value)\n",
    "                arrival_time = sh.cell (row = i, column = 1)\n",
    "                print (\"time of arrival\", arrival_time.value)\n",
    "                a=a+1\n",
    "            if a == 1:\n",
    "                break\n",
    "        print (i)\n",
    "        \n",
    "        # Iterate through data to find end time\n",
    "        for j in range(sh.max_row, 2, -1):\n",
    "            cell_pressure = sh.cell (row = j, column = 2)\n",
    "            if cell_pressure.value < 100000:\n",
    "                print (file.stem)\n",
    "                print (\"pressure\", cell_pressure.value)\n",
    "                end_time = sh.cell (row = j, column = 1)\n",
    "                print (\"end_time\", end_time.value)\n",
    "                b=b+1\n",
    "            if b == 1:\n",
    "                break\n",
    "        print (j)\n",
    "        \n",
    "        # Create dataframe to include data points within arrival and end time (Dataframe 2)\n",
    "        df1 = pd.DataFrame(columns = ['time', 'pressure'])\n",
    "        df1['time'] = [sh.cell(row=k,column=1).value for k in range(i,j+1)]\n",
    "        df1['pressure'] = [sh.cell(row=k,column=2).value for k in range(i,j+1)]\n",
    "        \n",
    "        # Create folders inside output directory\n",
    "        output_dir1 = output_dir/ folder.stem\n",
    "        output_dir1.mkdir(exist_ok = True)\n",
    "       \n",
    "        # Create excel files with data points within arrival and end time (Dataframe 2)\n",
    "        with pd.ExcelWriter(output_dir1/f\"{file.stem}.xlsx\") as writer:  \n",
    "            df1.to_excel(writer, sheet_name = \"Sheet1\", index = False, header = True)\n",
    "        \n",
    "        # Append rows to DataFrame 1\n",
    "        new_row = {'File_name' : [file.stem], 'Charge_type' : ['CompB'], 'Charge_mass' : [3],\n",
    "                   'Standoff_distance' : [int(file.stem[1:])/2], 'Time_of_arrival' : [arrival_time.value],\n",
    "                   'End_time' : [end_time.value]}\n",
    "        new_row_data = pd.DataFrame(new_row)\n",
    "        df = pd.concat([df, new_row_data], ignore_index = True)\n"
   ]
  },
  {
   "cell_type": "code",
   "execution_count": 4,
   "id": "d5b52bdf-ccdd-4387-b989-0c265e057eba",
   "metadata": {},
   "outputs": [
    {
     "name": "stdout",
     "output_type": "stream",
     "text": [
      "   File_name Charge_type Charge_mass  Standoff_distance  Time_of_arrival  \\\n",
      "0         T1       CompB           3                0.5         0.000118   \n",
      "1         T2       CompB           3                1.0         0.000375   \n",
      "2         T4       CompB           3                2.0         0.001405   \n",
      "3         T6       CompB           3                3.0         0.003120   \n",
      "4         T8       CompB           3                4.0         0.005276   \n",
      "5        T10       CompB           3                5.0         0.007683   \n",
      "6        T12       CompB           3                6.0         0.010240   \n",
      "7        T14       CompB           3                7.0         0.012896   \n",
      "8        T16       CompB           3                8.0         0.015620   \n",
      "9        T18       CompB           3                9.0         0.018391   \n",
      "10       T20       CompB           3               10.0         0.021200   \n",
      "\n",
      "    End_time  \n",
      "0   0.020768  \n",
      "1   0.021626  \n",
      "2   0.022996  \n",
      "3   0.024882  \n",
      "4   0.027841  \n",
      "5   0.030849  \n",
      "6   0.033871  \n",
      "7   0.036896  \n",
      "8   0.039922  \n",
      "9   0.042950  \n",
      "10  0.045977  \n"
     ]
    }
   ],
   "source": [
    "print (df)"
   ]
  },
  {
   "cell_type": "code",
   "execution_count": 7,
   "id": "47ae476c-9c31-4625-8b43-199f8eaf3bc5",
   "metadata": {},
   "outputs": [],
   "source": [
    "df2 = df.drop(labels = 0, axis = \"index\")"
   ]
  },
  {
   "cell_type": "code",
   "execution_count": 8,
   "id": "609ed6ef-b1a3-4f68-81c5-b3a9b822cf5d",
   "metadata": {},
   "outputs": [
    {
     "name": "stdout",
     "output_type": "stream",
     "text": [
      "   File_name Charge_type Charge_mass  Standoff_distance  Time_of_arrival  \\\n",
      "1         T2       CompB           3                1.0         0.000375   \n",
      "2         T4       CompB           3                2.0         0.001405   \n",
      "3         T6       CompB           3                3.0         0.003120   \n",
      "4         T8       CompB           3                4.0         0.005276   \n",
      "5        T10       CompB           3                5.0         0.007683   \n",
      "6        T12       CompB           3                6.0         0.010240   \n",
      "7        T14       CompB           3                7.0         0.012896   \n",
      "8        T16       CompB           3                8.0         0.015620   \n",
      "9        T18       CompB           3                9.0         0.018391   \n",
      "10       T20       CompB           3               10.0         0.021200   \n",
      "\n",
      "    End_time  \n",
      "1   0.021626  \n",
      "2   0.022996  \n",
      "3   0.024882  \n",
      "4   0.027841  \n",
      "5   0.030849  \n",
      "6   0.033871  \n",
      "7   0.036896  \n",
      "8   0.039922  \n",
      "9   0.042950  \n",
      "10  0.045977  \n"
     ]
    }
   ],
   "source": [
    "print (df1)"
   ]
  },
  {
   "cell_type": "code",
   "execution_count": 9,
   "id": "7d3b8383-2c16-4800-8f98-1a6e273920a4",
   "metadata": {},
   "outputs": [],
   "source": [
    "with pd.ExcelWriter('Arrival_time.xlsx', engine = \"openpyxl\", mode='a', if_sheet_exists='replace') as writer:  \n",
    "    df.to_excel(writer, sheet_name = \"Sheet1\", index = False, header = True)"
   ]
  },
  {
   "cell_type": "code",
   "execution_count": 7,
   "id": "007816f4-cce2-4866-90ea-e09a31003593",
   "metadata": {},
   "outputs": [
    {
     "name": "stdout",
     "output_type": "stream",
     "text": [
      "4.0\n"
     ]
    }
   ],
   "source": [
    "print (int(file.stem[1:])/2)"
   ]
  }
 ],
 "metadata": {
  "kernelspec": {
   "display_name": "Python 3 (ipykernel)",
   "language": "python",
   "name": "python3"
  },
  "language_info": {
   "codemirror_mode": {
    "name": "ipython",
    "version": 3
   },
   "file_extension": ".py",
   "mimetype": "text/x-python",
   "name": "python",
   "nbconvert_exporter": "python",
   "pygments_lexer": "ipython3",
   "version": "3.9.7"
  }
 },
 "nbformat": 4,
 "nbformat_minor": 5
}
