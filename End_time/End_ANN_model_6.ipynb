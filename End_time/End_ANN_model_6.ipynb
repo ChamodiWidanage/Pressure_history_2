{
 "cells": [
  {
   "cell_type": "markdown",
   "metadata": {
    "colab_type": "text",
    "id": "3cbb7fRy-eyr"
   },
   "source": [
    "# Artificial Neural Network"
   ]
  },
  {
   "cell_type": "markdown",
   "metadata": {
    "colab_type": "text",
    "id": "8sNDnxE2-pwE"
   },
   "source": [
    "## Part 1 - Importing the libraries"
   ]
  },
  {
   "cell_type": "code",
   "execution_count": 1,
   "metadata": {
    "colab": {},
    "colab_type": "code",
    "id": "lxChR1Rk-umf"
   },
   "outputs": [],
   "source": [
    "import numpy as np\n",
    "import pandas as pd\n",
    "import tensorflow as tf\n",
    "import matplotlib.pyplot as plt\n",
    "from keras.models import load_model"
   ]
  },
  {
   "cell_type": "markdown",
   "metadata": {
    "colab_type": "text",
    "id": "AG3FQEch-yuA"
   },
   "source": [
    "## Part 2 - Data Preprocessing"
   ]
  },
  {
   "cell_type": "markdown",
   "metadata": {
    "colab_type": "text",
    "id": "-4zq8Mza_D9O"
   },
   "source": [
    "### Importing the dataset"
   ]
  },
  {
   "cell_type": "code",
   "execution_count": 2,
   "metadata": {
    "colab": {},
    "colab_type": "code",
    "id": "B9CV13Co_HHM"
   },
   "outputs": [
    {
     "name": "stdout",
     "output_type": "stream",
     "text": [
      "<class 'pandas.core.frame.DataFrame'>\n",
      "RangeIndex: 576 entries, 0 to 575\n",
      "Data columns (total 4 columns):\n",
      " #   Column             Non-Null Count  Dtype  \n",
      "---  ------             --------------  -----  \n",
      " 0   Charge_mass        576 non-null    float64\n",
      " 1   Standoff_distance  576 non-null    int64  \n",
      " 2   End_time           576 non-null    float64\n",
      " 3   End_index          576 non-null    int64  \n",
      "dtypes: float64(2), int64(2)\n",
      "memory usage: 18.1 KB\n"
     ]
    }
   ],
   "source": [
    "dataset = pd.read_excel('End_time.xlsx')\n",
    "dataset.info()"
   ]
  },
  {
   "cell_type": "code",
   "execution_count": 3,
   "metadata": {},
   "outputs": [
    {
     "name": "stdout",
     "output_type": "stream",
     "text": [
      "(576, 2) (576,)\n"
     ]
    }
   ],
   "source": [
    "y = dataset['End_time']\n",
    "X = dataset.drop(['End_time','End_index'], axis=1)\n",
    "print(X.shape, y.shape)"
   ]
  },
  {
   "cell_type": "code",
   "execution_count": 4,
   "metadata": {},
   "outputs": [],
   "source": [
    "# convert to numpy array\n",
    "X = np.array(X)\n",
    "y = np.array(y)"
   ]
  },
  {
   "cell_type": "markdown",
   "metadata": {
    "colab_type": "text",
    "id": "VC6omXel_Up0"
   },
   "source": [
    "### Splitting the dataset into the Training set and Test set"
   ]
  },
  {
   "cell_type": "code",
   "execution_count": 5,
   "metadata": {
    "colab": {},
    "colab_type": "code",
    "id": "L5edeb2r_agx"
   },
   "outputs": [],
   "source": [
    "from sklearn.model_selection import train_test_split\n",
    "X_train, X_test, y_train, y_test = train_test_split(X,\n",
    "                                                    y,\n",
    "                                                    test_size = 0.3,\n",
    "                                                    random_state = 0)"
   ]
  },
  {
   "cell_type": "code",
   "execution_count": 6,
   "metadata": {
    "colab": {},
    "colab_type": "code",
    "id": "L5edeb2r_agx"
   },
   "outputs": [],
   "source": [
    "X_val, X_test, y_val, y_test = train_test_split(X_test,\n",
    "                                                y_test,\n",
    "                                                test_size = 0.5,\n",
    "                                                random_state = 0)"
   ]
  },
  {
   "cell_type": "markdown",
   "metadata": {
    "colab_type": "text",
    "id": "_mSLlAT9_eyI"
   },
   "source": [
    "## Part 3 - Building the ANN"
   ]
  },
  {
   "cell_type": "markdown",
   "metadata": {
    "colab_type": "text",
    "id": "CsBULd_f_wLY"
   },
   "source": [
    "### Initializing the ANN"
   ]
  },
  {
   "cell_type": "code",
   "execution_count": 7,
   "metadata": {
    "colab": {},
    "colab_type": "code",
    "id": "J6Hd97Ls__Nz"
   },
   "outputs": [],
   "source": [
    "ann = tf.keras.models.Sequential()"
   ]
  },
  {
   "cell_type": "markdown",
   "metadata": {
    "colab_type": "text",
    "id": "iitAFJS_ABUn"
   },
   "source": [
    "### Adding the input layer and the first hidden layer"
   ]
  },
  {
   "cell_type": "code",
   "execution_count": 8,
   "metadata": {
    "colab": {},
    "colab_type": "code",
    "id": "ksO_Vv40AHix"
   },
   "outputs": [],
   "source": [
    "ann.add(tf.keras.layers.Dense(units=70,\n",
    "                              input_shape=(X_train.shape[1],),\n",
    "                              activation='softplus'))"
   ]
  },
  {
   "cell_type": "markdown",
   "metadata": {
    "colab_type": "text",
    "id": "-lb4kK_wAKbs"
   },
   "source": [
    "### Adding the second hidden layer"
   ]
  },
  {
   "cell_type": "code",
   "execution_count": 9,
   "metadata": {
    "colab": {},
    "colab_type": "code",
    "id": "c2357OqEAQOQ",
    "tags": []
   },
   "outputs": [],
   "source": [
    "ann.add(tf.keras.layers.Dense(units=55,\n",
    "                              activation='softplus'))"
   ]
  },
  {
   "cell_type": "markdown",
   "metadata": {
    "colab_type": "text",
    "id": "-lb4kK_wAKbs"
   },
   "source": [
    "### Adding the third hidden layer"
   ]
  },
  {
   "cell_type": "code",
   "execution_count": 10,
   "metadata": {
    "colab": {},
    "colab_type": "code",
    "id": "c2357OqEAQOQ",
    "tags": []
   },
   "outputs": [],
   "source": [
    "ann.add(tf.keras.layers.Dense(units=40,\n",
    "                              activation='softplus'))"
   ]
  },
  {
   "cell_type": "markdown",
   "metadata": {
    "colab_type": "text",
    "id": "jwMOmKb3AdBY"
   },
   "source": [
    "### Adding the output layer"
   ]
  },
  {
   "cell_type": "code",
   "execution_count": 11,
   "metadata": {
    "colab": {},
    "colab_type": "code",
    "id": "YFATpzsUAkLL"
   },
   "outputs": [],
   "source": [
    "ann.add(tf.keras.layers.Dense(units=1,\n",
    "                              activation='linear'))"
   ]
  },
  {
   "cell_type": "markdown",
   "metadata": {},
   "source": [
    "### what model looks like"
   ]
  },
  {
   "cell_type": "code",
   "execution_count": 12,
   "metadata": {},
   "outputs": [
    {
     "name": "stdout",
     "output_type": "stream",
     "text": [
      "Model: \"sequential\"\n",
      "_________________________________________________________________\n",
      " Layer (type)                Output Shape              Param #   \n",
      "=================================================================\n",
      " dense (Dense)               (None, 70)                210       \n",
      "                                                                 \n",
      " dense_1 (Dense)             (None, 55)                3905      \n",
      "                                                                 \n",
      " dense_2 (Dense)             (None, 40)                2240      \n",
      "                                                                 \n",
      " dense_3 (Dense)             (None, 1)                 41        \n",
      "                                                                 \n",
      "=================================================================\n",
      "Total params: 6,396\n",
      "Trainable params: 6,396\n",
      "Non-trainable params: 0\n",
      "_________________________________________________________________\n"
     ]
    }
   ],
   "source": [
    "ann.summary()"
   ]
  },
  {
   "cell_type": "markdown",
   "metadata": {
    "colab_type": "text",
    "id": "fq7e4fF6A1yy"
   },
   "source": [
    "## Part 4 - Training the ANN"
   ]
  },
  {
   "cell_type": "markdown",
   "metadata": {
    "colab_type": "text",
    "id": "qDeylAs2An25"
   },
   "source": [
    "### Compiling the ANN"
   ]
  },
  {
   "cell_type": "code",
   "execution_count": 13,
   "metadata": {
    "colab": {},
    "colab_type": "code",
    "id": "pesgbWlCAtB4"
   },
   "outputs": [],
   "source": [
    "from tensorflow.keras.optimizers import Adam\n",
    "opt = Adam(learning_rate=0.001)\n",
    "ann.compile(optimizer = opt,\n",
    "            loss = 'mean_squared_error',\n",
    "            metrics = ['mae'])"
   ]
  },
  {
   "cell_type": "markdown",
   "metadata": {},
   "source": [
    "### early stopping callback"
   ]
  },
  {
   "cell_type": "code",
   "execution_count": 14,
   "metadata": {},
   "outputs": [],
   "source": [
    "# protects from unnecessary further training of the model if a particular metric does not continue to improve over a number of n epochs. In such a case, the model training would be automatically aborted.\n",
    "from keras.callbacks import EarlyStopping\n",
    "es = EarlyStopping(monitor='val_loss',\n",
    "                   mode='min',\n",
    "                   patience=50,\n",
    "                   restore_best_weights = True)"
   ]
  },
  {
   "cell_type": "markdown",
   "metadata": {
    "colab_type": "text",
    "id": "YjVuiybYOo7r"
   },
   "source": [
    "### Training the ANN model on the Training set"
   ]
  },
  {
   "cell_type": "code",
   "execution_count": 15,
   "metadata": {
    "colab": {
     "base_uri": "https://localhost:8080/",
     "height": 1000
    },
    "colab_type": "code",
    "id": "c_vV-tiiA5zn",
    "outputId": "4a2b6ee6-ed75-4698-9069-b250e613803f"
   },
   "outputs": [
    {
     "name": "stdout",
     "output_type": "stream",
     "text": [
      "Epoch 1/500\n",
      "9/9 [==============================] - 1s 23ms/step - loss: 2.0429 - mae: 1.1707 - val_loss: 0.1834 - val_mae: 0.3303\n",
      "Epoch 2/500\n",
      "9/9 [==============================] - 0s 7ms/step - loss: 0.3402 - mae: 0.4758 - val_loss: 0.1363 - val_mae: 0.3227\n",
      "Epoch 3/500\n",
      "9/9 [==============================] - 0s 5ms/step - loss: 0.1264 - mae: 0.3030 - val_loss: 0.1061 - val_mae: 0.2824\n",
      "Epoch 4/500\n",
      "9/9 [==============================] - 0s 6ms/step - loss: 0.0576 - mae: 0.1975 - val_loss: 0.0420 - val_mae: 0.1863\n",
      "Epoch 5/500\n",
      "9/9 [==============================] - 0s 6ms/step - loss: 0.0266 - mae: 0.1299 - val_loss: 0.0238 - val_mae: 0.1246\n",
      "Epoch 6/500\n",
      "9/9 [==============================] - 0s 6ms/step - loss: 0.0131 - mae: 0.0997 - val_loss: 0.0064 - val_mae: 0.0732\n",
      "Epoch 7/500\n",
      "9/9 [==============================] - 0s 6ms/step - loss: 0.0052 - mae: 0.0589 - val_loss: 0.0031 - val_mae: 0.0440\n",
      "Epoch 8/500\n",
      "9/9 [==============================] - 0s 6ms/step - loss: 0.0028 - mae: 0.0447 - val_loss: 0.0017 - val_mae: 0.0342\n",
      "Epoch 9/500\n",
      "9/9 [==============================] - 0s 6ms/step - loss: 0.0020 - mae: 0.0351 - val_loss: 0.0011 - val_mae: 0.0270\n",
      "Epoch 10/500\n",
      "9/9 [==============================] - 0s 6ms/step - loss: 0.0014 - mae: 0.0308 - val_loss: 0.0011 - val_mae: 0.0264\n",
      "Epoch 11/500\n",
      "9/9 [==============================] - 0s 5ms/step - loss: 0.0012 - mae: 0.0284 - val_loss: 0.0010 - val_mae: 0.0260\n",
      "Epoch 12/500\n",
      "9/9 [==============================] - 0s 6ms/step - loss: 0.0010 - mae: 0.0257 - val_loss: 9.5861e-04 - val_mae: 0.0250\n",
      "Epoch 13/500\n",
      "9/9 [==============================] - 0s 6ms/step - loss: 0.0010 - mae: 0.0264 - val_loss: 9.6563e-04 - val_mae: 0.0256\n",
      "Epoch 14/500\n",
      "9/9 [==============================] - 0s 6ms/step - loss: 8.7994e-04 - mae: 0.0247 - val_loss: 8.0912e-04 - val_mae: 0.0233\n",
      "Epoch 15/500\n",
      "9/9 [==============================] - 0s 6ms/step - loss: 8.2380e-04 - mae: 0.0235 - val_loss: 7.0754e-04 - val_mae: 0.0216\n",
      "Epoch 16/500\n",
      "9/9 [==============================] - 0s 6ms/step - loss: 7.1010e-04 - mae: 0.0215 - val_loss: 6.1998e-04 - val_mae: 0.0201\n",
      "Epoch 17/500\n",
      "9/9 [==============================] - 0s 7ms/step - loss: 6.5805e-04 - mae: 0.0209 - val_loss: 5.7143e-04 - val_mae: 0.0195\n",
      "Epoch 18/500\n",
      "9/9 [==============================] - 0s 6ms/step - loss: 5.8718e-04 - mae: 0.0202 - val_loss: 5.2787e-04 - val_mae: 0.0188\n",
      "Epoch 19/500\n",
      "9/9 [==============================] - 0s 7ms/step - loss: 5.4999e-04 - mae: 0.0195 - val_loss: 4.7582e-04 - val_mae: 0.0180\n",
      "Epoch 20/500\n",
      "9/9 [==============================] - 0s 6ms/step - loss: 4.9688e-04 - mae: 0.0180 - val_loss: 4.3730e-04 - val_mae: 0.0171\n",
      "Epoch 21/500\n",
      "9/9 [==============================] - 0s 7ms/step - loss: 4.5251e-04 - mae: 0.0175 - val_loss: 4.0436e-04 - val_mae: 0.0168\n",
      "Epoch 22/500\n",
      "9/9 [==============================] - 0s 6ms/step - loss: 4.0252e-04 - mae: 0.0167 - val_loss: 3.7454e-04 - val_mae: 0.0160\n",
      "Epoch 23/500\n",
      "9/9 [==============================] - 0s 7ms/step - loss: 3.8626e-04 - mae: 0.0158 - val_loss: 3.4673e-04 - val_mae: 0.0153\n",
      "Epoch 24/500\n",
      "9/9 [==============================] - 0s 6ms/step - loss: 3.4491e-04 - mae: 0.0155 - val_loss: 3.8874e-04 - val_mae: 0.0162\n",
      "Epoch 25/500\n",
      "9/9 [==============================] - 0s 5ms/step - loss: 3.4243e-04 - mae: 0.0153 - val_loss: 3.1499e-04 - val_mae: 0.0147\n",
      "Epoch 26/500\n",
      "9/9 [==============================] - 0s 6ms/step - loss: 2.9916e-04 - mae: 0.0139 - val_loss: 2.8305e-04 - val_mae: 0.0136\n",
      "Epoch 27/500\n",
      "9/9 [==============================] - 0s 6ms/step - loss: 3.0492e-04 - mae: 0.0142 - val_loss: 3.5592e-04 - val_mae: 0.0155\n",
      "Epoch 28/500\n",
      "9/9 [==============================] - 0s 6ms/step - loss: 2.7365e-04 - mae: 0.0136 - val_loss: 2.4688e-04 - val_mae: 0.0126\n",
      "Epoch 29/500\n",
      "9/9 [==============================] - 0s 7ms/step - loss: 2.6914e-04 - mae: 0.0129 - val_loss: 2.2488e-04 - val_mae: 0.0121\n",
      "Epoch 30/500\n",
      "9/9 [==============================] - 0s 7ms/step - loss: 2.1779e-04 - mae: 0.0119 - val_loss: 2.1311e-04 - val_mae: 0.0119\n",
      "Epoch 31/500\n",
      "9/9 [==============================] - 0s 6ms/step - loss: 2.1616e-04 - mae: 0.0122 - val_loss: 1.9712e-04 - val_mae: 0.0113\n",
      "Epoch 32/500\n",
      "9/9 [==============================] - 0s 6ms/step - loss: 1.8720e-04 - mae: 0.0112 - val_loss: 1.8395e-04 - val_mae: 0.0107\n",
      "Epoch 33/500\n",
      "9/9 [==============================] - 0s 7ms/step - loss: 1.8165e-04 - mae: 0.0105 - val_loss: 1.6126e-04 - val_mae: 0.0100\n",
      "Epoch 34/500\n",
      "9/9 [==============================] - 0s 7ms/step - loss: 1.6686e-04 - mae: 0.0103 - val_loss: 1.5259e-04 - val_mae: 0.0101\n",
      "Epoch 35/500\n",
      "9/9 [==============================] - 0s 10ms/step - loss: 1.5871e-04 - mae: 0.0104 - val_loss: 1.4802e-04 - val_mae: 0.0097\n",
      "Epoch 36/500\n",
      "9/9 [==============================] - 0s 8ms/step - loss: 1.6126e-04 - mae: 0.0102 - val_loss: 1.2994e-04 - val_mae: 0.0089\n",
      "Epoch 37/500\n",
      "9/9 [==============================] - 0s 7ms/step - loss: 1.4586e-04 - mae: 0.0094 - val_loss: 1.5423e-04 - val_mae: 0.0105\n",
      "Epoch 38/500\n",
      "9/9 [==============================] - 0s 6ms/step - loss: 1.4274e-04 - mae: 0.0096 - val_loss: 1.4035e-04 - val_mae: 0.0099\n",
      "Epoch 39/500\n",
      "9/9 [==============================] - 0s 7ms/step - loss: 1.7204e-04 - mae: 0.0110 - val_loss: 1.4889e-04 - val_mae: 0.0096\n",
      "Epoch 40/500\n",
      "9/9 [==============================] - 0s 7ms/step - loss: 1.3440e-04 - mae: 0.0094 - val_loss: 1.4798e-04 - val_mae: 0.0096\n",
      "Epoch 41/500\n",
      "9/9 [==============================] - 0s 7ms/step - loss: 1.3236e-04 - mae: 0.0093 - val_loss: 1.0353e-04 - val_mae: 0.0079\n",
      "Epoch 42/500\n",
      "9/9 [==============================] - 0s 7ms/step - loss: 1.1019e-04 - mae: 0.0082 - val_loss: 1.0091e-04 - val_mae: 0.0077\n",
      "Epoch 43/500\n",
      "9/9 [==============================] - 0s 5ms/step - loss: 1.0265e-04 - mae: 0.0079 - val_loss: 1.4177e-04 - val_mae: 0.0102\n",
      "Epoch 44/500\n",
      "9/9 [==============================] - 0s 7ms/step - loss: 1.3191e-04 - mae: 0.0093 - val_loss: 1.1996e-04 - val_mae: 0.0092\n",
      "Epoch 45/500\n",
      "9/9 [==============================] - 0s 6ms/step - loss: 1.3720e-04 - mae: 0.0097 - val_loss: 8.0804e-05 - val_mae: 0.0069\n",
      "Epoch 46/500\n",
      "9/9 [==============================] - 0s 7ms/step - loss: 1.0384e-04 - mae: 0.0082 - val_loss: 7.6500e-05 - val_mae: 0.0064\n",
      "Epoch 47/500\n",
      "9/9 [==============================] - 0s 7ms/step - loss: 9.7615e-05 - mae: 0.0078 - val_loss: 7.9468e-05 - val_mae: 0.0070\n",
      "Epoch 48/500\n",
      "9/9 [==============================] - 0s 7ms/step - loss: 9.8370e-05 - mae: 0.0077 - val_loss: 8.5202e-05 - val_mae: 0.0074\n",
      "Epoch 49/500\n",
      "9/9 [==============================] - 0s 7ms/step - loss: 9.0914e-05 - mae: 0.0076 - val_loss: 8.8639e-05 - val_mae: 0.0069\n",
      "Epoch 50/500\n",
      "9/9 [==============================] - 0s 8ms/step - loss: 8.3691e-05 - mae: 0.0072 - val_loss: 6.1594e-05 - val_mae: 0.0060\n",
      "Epoch 51/500\n",
      "9/9 [==============================] - 0s 7ms/step - loss: 7.3472e-05 - mae: 0.0066 - val_loss: 6.8655e-05 - val_mae: 0.0061\n",
      "Epoch 52/500\n",
      "9/9 [==============================] - 0s 7ms/step - loss: 7.3678e-05 - mae: 0.0065 - val_loss: 8.3638e-05 - val_mae: 0.0078\n",
      "Epoch 53/500\n",
      "9/9 [==============================] - 0s 7ms/step - loss: 7.7169e-05 - mae: 0.0070 - val_loss: 5.8512e-05 - val_mae: 0.0058\n",
      "Epoch 54/500\n",
      "9/9 [==============================] - 0s 6ms/step - loss: 6.5299e-05 - mae: 0.0062 - val_loss: 6.0565e-05 - val_mae: 0.0057\n",
      "Epoch 55/500\n",
      "9/9 [==============================] - 0s 6ms/step - loss: 6.3365e-05 - mae: 0.0061 - val_loss: 5.3219e-05 - val_mae: 0.0057\n",
      "Epoch 56/500\n",
      "9/9 [==============================] - 0s 7ms/step - loss: 6.5716e-05 - mae: 0.0063 - val_loss: 6.5373e-05 - val_mae: 0.0068\n",
      "Epoch 57/500\n",
      "9/9 [==============================] - 0s 5ms/step - loss: 6.6043e-05 - mae: 0.0064 - val_loss: 5.7297e-05 - val_mae: 0.0055\n",
      "Epoch 58/500\n",
      "9/9 [==============================] - 0s 6ms/step - loss: 6.8899e-05 - mae: 0.0063 - val_loss: 5.3487e-05 - val_mae: 0.0054\n",
      "Epoch 59/500\n",
      "9/9 [==============================] - 0s 6ms/step - loss: 5.7877e-05 - mae: 0.0058 - val_loss: 4.5367e-05 - val_mae: 0.0051\n",
      "Epoch 60/500\n",
      "9/9 [==============================] - 0s 6ms/step - loss: 5.3495e-05 - mae: 0.0056 - val_loss: 5.3779e-05 - val_mae: 0.0058\n",
      "Epoch 61/500\n",
      "9/9 [==============================] - 0s 12ms/step - loss: 5.4431e-05 - mae: 0.0057 - val_loss: 5.1859e-05 - val_mae: 0.0059\n",
      "Epoch 62/500\n",
      "9/9 [==============================] - 0s 6ms/step - loss: 5.5009e-05 - mae: 0.0058 - val_loss: 4.3333e-05 - val_mae: 0.0048\n",
      "Epoch 63/500\n",
      "9/9 [==============================] - 0s 6ms/step - loss: 4.9751e-05 - mae: 0.0052 - val_loss: 4.4183e-05 - val_mae: 0.0049\n",
      "Epoch 64/500\n",
      "9/9 [==============================] - 0s 6ms/step - loss: 5.0667e-05 - mae: 0.0056 - val_loss: 3.8838e-05 - val_mae: 0.0045\n",
      "Epoch 65/500\n",
      "9/9 [==============================] - 0s 6ms/step - loss: 4.4194e-05 - mae: 0.0050 - val_loss: 4.2542e-05 - val_mae: 0.0044\n",
      "Epoch 66/500\n",
      "9/9 [==============================] - 0s 6ms/step - loss: 4.3394e-05 - mae: 0.0049 - val_loss: 3.6880e-05 - val_mae: 0.0045\n",
      "Epoch 67/500\n",
      "9/9 [==============================] - 0s 7ms/step - loss: 4.5415e-05 - mae: 0.0053 - val_loss: 4.0915e-05 - val_mae: 0.0049\n",
      "Epoch 68/500\n",
      "9/9 [==============================] - 0s 7ms/step - loss: 5.6821e-05 - mae: 0.0061 - val_loss: 3.7706e-05 - val_mae: 0.0049\n",
      "Epoch 69/500\n",
      "9/9 [==============================] - 0s 7ms/step - loss: 4.1679e-05 - mae: 0.0051 - val_loss: 3.7396e-05 - val_mae: 0.0045\n",
      "Epoch 70/500\n",
      "9/9 [==============================] - 0s 7ms/step - loss: 4.4476e-05 - mae: 0.0050 - val_loss: 4.2407e-05 - val_mae: 0.0043\n",
      "Epoch 71/500\n",
      "9/9 [==============================] - 0s 7ms/step - loss: 3.9717e-05 - mae: 0.0047 - val_loss: 3.6426e-05 - val_mae: 0.0047\n",
      "Epoch 72/500\n",
      "9/9 [==============================] - 0s 8ms/step - loss: 3.8320e-05 - mae: 0.0048 - val_loss: 3.4097e-05 - val_mae: 0.0040\n",
      "Epoch 73/500\n",
      "9/9 [==============================] - 0s 7ms/step - loss: 3.5908e-05 - mae: 0.0046 - val_loss: 2.7466e-05 - val_mae: 0.0037\n",
      "Epoch 74/500\n",
      "9/9 [==============================] - 0s 6ms/step - loss: 3.5227e-05 - mae: 0.0043 - val_loss: 3.0130e-05 - val_mae: 0.0038\n",
      "Epoch 75/500\n",
      "9/9 [==============================] - 0s 6ms/step - loss: 3.2344e-05 - mae: 0.0042 - val_loss: 2.6996e-05 - val_mae: 0.0036\n",
      "Epoch 76/500\n",
      "9/9 [==============================] - 0s 6ms/step - loss: 3.1769e-05 - mae: 0.0042 - val_loss: 2.8266e-05 - val_mae: 0.0037\n",
      "Epoch 77/500\n",
      "9/9 [==============================] - 0s 7ms/step - loss: 3.1553e-05 - mae: 0.0043 - val_loss: 3.8017e-05 - val_mae: 0.0050\n",
      "Epoch 78/500\n",
      "9/9 [==============================] - 0s 5ms/step - loss: 3.7226e-05 - mae: 0.0049 - val_loss: 5.1264e-05 - val_mae: 0.0058\n",
      "Epoch 79/500\n",
      "9/9 [==============================] - 0s 6ms/step - loss: 3.7124e-05 - mae: 0.0048 - val_loss: 3.5440e-05 - val_mae: 0.0044\n",
      "Epoch 80/500\n",
      "9/9 [==============================] - 0s 6ms/step - loss: 3.5229e-05 - mae: 0.0046 - val_loss: 2.4626e-05 - val_mae: 0.0037\n",
      "Epoch 81/500\n",
      "9/9 [==============================] - 0s 7ms/step - loss: 3.8318e-05 - mae: 0.0050 - val_loss: 3.2874e-05 - val_mae: 0.0047\n",
      "Epoch 82/500\n",
      "9/9 [==============================] - 0s 6ms/step - loss: 3.7583e-05 - mae: 0.0049 - val_loss: 3.0270e-05 - val_mae: 0.0045\n",
      "Epoch 83/500\n",
      "9/9 [==============================] - 0s 6ms/step - loss: 3.1617e-05 - mae: 0.0044 - val_loss: 2.2180e-05 - val_mae: 0.0036\n",
      "Epoch 84/500\n",
      "9/9 [==============================] - 0s 7ms/step - loss: 2.6019e-05 - mae: 0.0039 - val_loss: 2.1804e-05 - val_mae: 0.0034\n",
      "Epoch 85/500\n",
      "9/9 [==============================] - 0s 6ms/step - loss: 2.5689e-05 - mae: 0.0040 - val_loss: 1.9432e-05 - val_mae: 0.0032\n",
      "Epoch 86/500\n",
      "9/9 [==============================] - 0s 7ms/step - loss: 4.0384e-05 - mae: 0.0049 - val_loss: 2.3270e-05 - val_mae: 0.0041\n",
      "Epoch 87/500\n",
      "9/9 [==============================] - 0s 6ms/step - loss: 2.9370e-05 - mae: 0.0043 - val_loss: 1.8456e-05 - val_mae: 0.0033\n",
      "Epoch 88/500\n",
      "9/9 [==============================] - 0s 7ms/step - loss: 2.4137e-05 - mae: 0.0038 - val_loss: 1.9220e-05 - val_mae: 0.0031\n",
      "Epoch 89/500\n",
      "9/9 [==============================] - 0s 5ms/step - loss: 2.2612e-05 - mae: 0.0036 - val_loss: 2.1337e-05 - val_mae: 0.0032\n",
      "Epoch 90/500\n",
      "9/9 [==============================] - 0s 6ms/step - loss: 2.4560e-05 - mae: 0.0039 - val_loss: 2.5138e-05 - val_mae: 0.0039\n",
      "Epoch 91/500\n",
      "9/9 [==============================] - 0s 6ms/step - loss: 2.3870e-05 - mae: 0.0039 - val_loss: 1.6670e-05 - val_mae: 0.0028\n",
      "Epoch 92/500\n",
      "9/9 [==============================] - 0s 6ms/step - loss: 2.0685e-05 - mae: 0.0035 - val_loss: 1.7141e-05 - val_mae: 0.0028\n",
      "Epoch 93/500\n",
      "9/9 [==============================] - 0s 6ms/step - loss: 2.0094e-05 - mae: 0.0034 - val_loss: 2.3706e-05 - val_mae: 0.0037\n",
      "Epoch 94/500\n",
      "9/9 [==============================] - 0s 6ms/step - loss: 2.6884e-05 - mae: 0.0041 - val_loss: 1.7261e-05 - val_mae: 0.0030\n",
      "Epoch 95/500\n",
      "9/9 [==============================] - 0s 6ms/step - loss: 2.7599e-05 - mae: 0.0042 - val_loss: 1.8218e-05 - val_mae: 0.0033\n",
      "Epoch 96/500\n",
      "9/9 [==============================] - 0s 6ms/step - loss: 1.9992e-05 - mae: 0.0034 - val_loss: 2.0103e-05 - val_mae: 0.0035\n",
      "Epoch 97/500\n",
      "9/9 [==============================] - 0s 7ms/step - loss: 2.1352e-05 - mae: 0.0037 - val_loss: 2.9315e-05 - val_mae: 0.0044\n",
      "Epoch 98/500\n",
      "9/9 [==============================] - 0s 6ms/step - loss: 2.3325e-05 - mae: 0.0039 - val_loss: 1.7770e-05 - val_mae: 0.0031\n",
      "Epoch 99/500\n",
      "9/9 [==============================] - 0s 7ms/step - loss: 1.9021e-05 - mae: 0.0034 - val_loss: 1.4466e-05 - val_mae: 0.0027\n",
      "Epoch 100/500\n",
      "9/9 [==============================] - 0s 7ms/step - loss: 2.1744e-05 - mae: 0.0037 - val_loss: 1.8378e-05 - val_mae: 0.0033\n",
      "Epoch 101/500\n",
      "9/9 [==============================] - 0s 7ms/step - loss: 1.9438e-05 - mae: 0.0035 - val_loss: 1.7255e-05 - val_mae: 0.0031\n",
      "Epoch 102/500\n",
      "9/9 [==============================] - 0s 7ms/step - loss: 2.2176e-05 - mae: 0.0037 - val_loss: 1.7177e-05 - val_mae: 0.0027\n",
      "Epoch 103/500\n",
      "9/9 [==============================] - 0s 6ms/step - loss: 2.0106e-05 - mae: 0.0034 - val_loss: 1.5045e-05 - val_mae: 0.0030\n",
      "Epoch 104/500\n",
      "9/9 [==============================] - 0s 6ms/step - loss: 1.8394e-05 - mae: 0.0035 - val_loss: 1.6124e-05 - val_mae: 0.0028\n",
      "Epoch 105/500\n",
      "9/9 [==============================] - 0s 6ms/step - loss: 1.8221e-05 - mae: 0.0032 - val_loss: 1.3119e-05 - val_mae: 0.0025\n",
      "Epoch 106/500\n",
      "9/9 [==============================] - 0s 6ms/step - loss: 1.7588e-05 - mae: 0.0032 - val_loss: 1.5302e-05 - val_mae: 0.0027\n",
      "Epoch 107/500\n",
      "9/9 [==============================] - 0s 7ms/step - loss: 1.6209e-05 - mae: 0.0031 - val_loss: 1.6786e-05 - val_mae: 0.0032\n",
      "Epoch 108/500\n",
      "9/9 [==============================] - 0s 7ms/step - loss: 1.7033e-05 - mae: 0.0032 - val_loss: 1.6641e-05 - val_mae: 0.0028\n",
      "Epoch 109/500\n",
      "9/9 [==============================] - 0s 6ms/step - loss: 1.7606e-05 - mae: 0.0032 - val_loss: 1.3431e-05 - val_mae: 0.0026\n",
      "Epoch 110/500\n",
      "9/9 [==============================] - 0s 5ms/step - loss: 1.5864e-05 - mae: 0.0030 - val_loss: 2.6297e-05 - val_mae: 0.0040\n",
      "Epoch 111/500\n",
      "9/9 [==============================] - 0s 6ms/step - loss: 2.0359e-05 - mae: 0.0035 - val_loss: 1.5189e-05 - val_mae: 0.0027\n",
      "Epoch 112/500\n",
      "9/9 [==============================] - 0s 6ms/step - loss: 1.5717e-05 - mae: 0.0031 - val_loss: 1.6575e-05 - val_mae: 0.0033\n",
      "Epoch 113/500\n",
      "9/9 [==============================] - 0s 6ms/step - loss: 1.8349e-05 - mae: 0.0035 - val_loss: 1.8787e-05 - val_mae: 0.0033\n",
      "Epoch 114/500\n",
      "9/9 [==============================] - 0s 6ms/step - loss: 1.8871e-05 - mae: 0.0034 - val_loss: 1.1692e-05 - val_mae: 0.0024\n",
      "Epoch 115/500\n",
      "9/9 [==============================] - 0s 7ms/step - loss: 1.4584e-05 - mae: 0.0030 - val_loss: 1.1159e-05 - val_mae: 0.0023\n",
      "Epoch 116/500\n",
      "9/9 [==============================] - 0s 7ms/step - loss: 1.3937e-05 - mae: 0.0029 - val_loss: 1.5565e-05 - val_mae: 0.0029\n",
      "Epoch 117/500\n",
      "9/9 [==============================] - 0s 6ms/step - loss: 1.6819e-05 - mae: 0.0032 - val_loss: 1.1428e-05 - val_mae: 0.0023\n",
      "Epoch 118/500\n",
      "9/9 [==============================] - 0s 11ms/step - loss: 1.5391e-05 - mae: 0.0031 - val_loss: 1.7262e-05 - val_mae: 0.0032\n",
      "Epoch 119/500\n",
      "9/9 [==============================] - 0s 6ms/step - loss: 2.0816e-05 - mae: 0.0036 - val_loss: 1.8841e-05 - val_mae: 0.0035\n",
      "Epoch 120/500\n",
      "9/9 [==============================] - 0s 6ms/step - loss: 1.4880e-05 - mae: 0.0031 - val_loss: 1.1194e-05 - val_mae: 0.0026\n",
      "Epoch 121/500\n",
      "9/9 [==============================] - 0s 7ms/step - loss: 1.3152e-05 - mae: 0.0028 - val_loss: 3.9216e-05 - val_mae: 0.0054\n",
      "Epoch 122/500\n",
      "9/9 [==============================] - 0s 7ms/step - loss: 2.9460e-05 - mae: 0.0045 - val_loss: 1.4442e-05 - val_mae: 0.0028\n",
      "Epoch 123/500\n",
      "9/9 [==============================] - 0s 6ms/step - loss: 1.6570e-05 - mae: 0.0032 - val_loss: 1.0944e-05 - val_mae: 0.0022\n",
      "Epoch 124/500\n",
      "9/9 [==============================] - 0s 8ms/step - loss: 1.3467e-05 - mae: 0.0028 - val_loss: 1.2332e-05 - val_mae: 0.0025\n",
      "Epoch 125/500\n",
      "9/9 [==============================] - 0s 6ms/step - loss: 1.5077e-05 - mae: 0.0031 - val_loss: 2.0818e-05 - val_mae: 0.0037\n",
      "Epoch 126/500\n",
      "9/9 [==============================] - 0s 6ms/step - loss: 2.0678e-05 - mae: 0.0038 - val_loss: 1.0616e-05 - val_mae: 0.0025\n",
      "Epoch 127/500\n",
      "9/9 [==============================] - 0s 5ms/step - loss: 2.2744e-05 - mae: 0.0038 - val_loss: 1.6623e-05 - val_mae: 0.0033\n",
      "Epoch 128/500\n",
      "9/9 [==============================] - 0s 6ms/step - loss: 1.5696e-05 - mae: 0.0032 - val_loss: 1.7889e-05 - val_mae: 0.0034\n",
      "Epoch 129/500\n",
      "9/9 [==============================] - 0s 6ms/step - loss: 1.5396e-05 - mae: 0.0032 - val_loss: 1.0068e-05 - val_mae: 0.0024\n",
      "Epoch 130/500\n",
      "9/9 [==============================] - 0s 6ms/step - loss: 1.2859e-05 - mae: 0.0028 - val_loss: 1.2778e-05 - val_mae: 0.0028\n",
      "Epoch 131/500\n",
      "9/9 [==============================] - 0s 6ms/step - loss: 1.2676e-05 - mae: 0.0028 - val_loss: 9.8580e-06 - val_mae: 0.0022\n",
      "Epoch 132/500\n",
      "9/9 [==============================] - 0s 7ms/step - loss: 1.1037e-05 - mae: 0.0026 - val_loss: 1.3339e-05 - val_mae: 0.0028\n",
      "Epoch 133/500\n",
      "9/9 [==============================] - 0s 6ms/step - loss: 1.5851e-05 - mae: 0.0032 - val_loss: 1.5962e-05 - val_mae: 0.0030\n",
      "Epoch 134/500\n",
      "9/9 [==============================] - 0s 6ms/step - loss: 1.5175e-05 - mae: 0.0030 - val_loss: 1.1171e-05 - val_mae: 0.0023\n",
      "Epoch 135/500\n",
      "9/9 [==============================] - 0s 6ms/step - loss: 1.5928e-05 - mae: 0.0032 - val_loss: 1.0249e-05 - val_mae: 0.0020\n",
      "Epoch 136/500\n",
      "9/9 [==============================] - 0s 7ms/step - loss: 1.4008e-05 - mae: 0.0029 - val_loss: 1.5257e-05 - val_mae: 0.0033\n",
      "Epoch 137/500\n",
      "9/9 [==============================] - 0s 7ms/step - loss: 2.1567e-05 - mae: 0.0037 - val_loss: 2.3905e-05 - val_mae: 0.0041\n",
      "Epoch 138/500\n",
      "9/9 [==============================] - 0s 6ms/step - loss: 1.9660e-05 - mae: 0.0037 - val_loss: 1.2929e-05 - val_mae: 0.0029\n",
      "Epoch 139/500\n",
      "9/9 [==============================] - 0s 6ms/step - loss: 1.8865e-05 - mae: 0.0034 - val_loss: 1.3341e-05 - val_mae: 0.0027\n",
      "Epoch 140/500\n",
      "9/9 [==============================] - 0s 6ms/step - loss: 1.0992e-05 - mae: 0.0025 - val_loss: 1.0643e-05 - val_mae: 0.0025\n",
      "Epoch 141/500\n",
      "9/9 [==============================] - 0s 7ms/step - loss: 1.2258e-05 - mae: 0.0028 - val_loss: 1.0341e-05 - val_mae: 0.0023\n",
      "Epoch 142/500\n",
      "9/9 [==============================] - 0s 6ms/step - loss: 1.0587e-05 - mae: 0.0025 - val_loss: 1.3162e-05 - val_mae: 0.0030\n",
      "Epoch 143/500\n",
      "9/9 [==============================] - 0s 6ms/step - loss: 1.2237e-05 - mae: 0.0028 - val_loss: 1.2047e-05 - val_mae: 0.0026\n",
      "Epoch 144/500\n",
      "9/9 [==============================] - 0s 6ms/step - loss: 1.0227e-05 - mae: 0.0024 - val_loss: 8.5892e-06 - val_mae: 0.0020\n",
      "Epoch 145/500\n",
      "9/9 [==============================] - 0s 6ms/step - loss: 1.0485e-05 - mae: 0.0025 - val_loss: 8.4586e-06 - val_mae: 0.0021\n",
      "Epoch 146/500\n",
      "9/9 [==============================] - 0s 9ms/step - loss: 9.9592e-06 - mae: 0.0024 - val_loss: 1.1807e-05 - val_mae: 0.0026\n",
      "Epoch 147/500\n",
      "9/9 [==============================] - 0s 6ms/step - loss: 1.0026e-05 - mae: 0.0025 - val_loss: 1.2041e-05 - val_mae: 0.0027\n",
      "Epoch 148/500\n",
      "9/9 [==============================] - 0s 6ms/step - loss: 1.2498e-05 - mae: 0.0028 - val_loss: 1.4574e-05 - val_mae: 0.0031\n",
      "Epoch 149/500\n",
      "9/9 [==============================] - 0s 6ms/step - loss: 1.6664e-05 - mae: 0.0033 - val_loss: 1.0478e-05 - val_mae: 0.0023\n",
      "Epoch 150/500\n",
      "9/9 [==============================] - 0s 6ms/step - loss: 1.2451e-05 - mae: 0.0028 - val_loss: 2.0931e-05 - val_mae: 0.0039\n",
      "Epoch 151/500\n",
      "9/9 [==============================] - 0s 7ms/step - loss: 2.6502e-05 - mae: 0.0041 - val_loss: 3.3624e-05 - val_mae: 0.0046\n",
      "Epoch 152/500\n",
      "9/9 [==============================] - 0s 6ms/step - loss: 2.2205e-05 - mae: 0.0038 - val_loss: 9.4956e-06 - val_mae: 0.0024\n",
      "Epoch 153/500\n",
      "9/9 [==============================] - 0s 6ms/step - loss: 1.1792e-05 - mae: 0.0027 - val_loss: 1.6650e-05 - val_mae: 0.0028\n",
      "Epoch 154/500\n",
      "9/9 [==============================] - 0s 7ms/step - loss: 1.4062e-05 - mae: 0.0029 - val_loss: 8.6969e-06 - val_mae: 0.0020\n",
      "Epoch 155/500\n",
      "9/9 [==============================] - 0s 6ms/step - loss: 1.6775e-05 - mae: 0.0033 - val_loss: 1.1439e-05 - val_mae: 0.0025\n",
      "Epoch 156/500\n",
      "9/9 [==============================] - 0s 6ms/step - loss: 1.5680e-05 - mae: 0.0032 - val_loss: 6.7754e-05 - val_mae: 0.0074\n",
      "Epoch 157/500\n",
      "9/9 [==============================] - 0s 7ms/step - loss: 5.3435e-05 - mae: 0.0061 - val_loss: 1.1578e-05 - val_mae: 0.0028\n",
      "Epoch 158/500\n",
      "9/9 [==============================] - 0s 6ms/step - loss: 1.2482e-05 - mae: 0.0027 - val_loss: 9.4958e-06 - val_mae: 0.0023\n",
      "Epoch 159/500\n",
      "9/9 [==============================] - 0s 6ms/step - loss: 9.4924e-06 - mae: 0.0024 - val_loss: 8.7788e-06 - val_mae: 0.0023\n",
      "Epoch 160/500\n",
      "9/9 [==============================] - 0s 7ms/step - loss: 9.5451e-06 - mae: 0.0024 - val_loss: 1.2265e-05 - val_mae: 0.0026\n",
      "Epoch 161/500\n",
      "9/9 [==============================] - 0s 6ms/step - loss: 1.0252e-05 - mae: 0.0025 - val_loss: 1.3781e-05 - val_mae: 0.0030\n",
      "Epoch 162/500\n",
      "9/9 [==============================] - 0s 5ms/step - loss: 1.2333e-05 - mae: 0.0027 - val_loss: 8.5589e-06 - val_mae: 0.0023\n",
      "Epoch 163/500\n",
      "9/9 [==============================] - 0s 5ms/step - loss: 1.0396e-05 - mae: 0.0025 - val_loss: 1.1205e-05 - val_mae: 0.0026\n",
      "Epoch 164/500\n",
      "9/9 [==============================] - 0s 6ms/step - loss: 1.2533e-05 - mae: 0.0028 - val_loss: 2.2184e-05 - val_mae: 0.0041\n",
      "Epoch 165/500\n",
      "9/9 [==============================] - 0s 5ms/step - loss: 1.4243e-05 - mae: 0.0030 - val_loss: 1.9554e-05 - val_mae: 0.0036\n",
      "Epoch 166/500\n",
      "9/9 [==============================] - 0s 5ms/step - loss: 1.1251e-05 - mae: 0.0026 - val_loss: 1.6013e-05 - val_mae: 0.0035\n",
      "Epoch 167/500\n",
      "9/9 [==============================] - 0s 5ms/step - loss: 1.2992e-05 - mae: 0.0028 - val_loss: 1.2793e-05 - val_mae: 0.0026\n",
      "Epoch 168/500\n",
      "9/9 [==============================] - 0s 7ms/step - loss: 8.9450e-06 - mae: 0.0023 - val_loss: 6.9997e-06 - val_mae: 0.0019\n",
      "Epoch 169/500\n",
      "9/9 [==============================] - 0s 6ms/step - loss: 1.0000e-05 - mae: 0.0024 - val_loss: 7.6017e-06 - val_mae: 0.0019\n",
      "Epoch 170/500\n",
      "9/9 [==============================] - 0s 6ms/step - loss: 8.5493e-06 - mae: 0.0022 - val_loss: 1.0550e-05 - val_mae: 0.0026\n",
      "Epoch 171/500\n",
      "9/9 [==============================] - 0s 6ms/step - loss: 9.2036e-06 - mae: 0.0023 - val_loss: 6.3772e-06 - val_mae: 0.0018\n",
      "Epoch 172/500\n",
      "9/9 [==============================] - 0s 7ms/step - loss: 8.4178e-06 - mae: 0.0022 - val_loss: 7.3807e-06 - val_mae: 0.0020\n",
      "Epoch 173/500\n",
      "9/9 [==============================] - 0s 6ms/step - loss: 8.5060e-06 - mae: 0.0022 - val_loss: 7.8266e-06 - val_mae: 0.0020\n",
      "Epoch 174/500\n",
      "9/9 [==============================] - 0s 6ms/step - loss: 9.1393e-06 - mae: 0.0023 - val_loss: 7.1092e-06 - val_mae: 0.0019\n",
      "Epoch 175/500\n",
      "9/9 [==============================] - 0s 6ms/step - loss: 9.1685e-06 - mae: 0.0023 - val_loss: 1.2724e-05 - val_mae: 0.0029\n",
      "Epoch 176/500\n",
      "9/9 [==============================] - 0s 7ms/step - loss: 9.3870e-06 - mae: 0.0024 - val_loss: 2.7399e-05 - val_mae: 0.0045\n",
      "Epoch 177/500\n",
      "9/9 [==============================] - 0s 6ms/step - loss: 1.5468e-05 - mae: 0.0032 - val_loss: 8.1971e-06 - val_mae: 0.0022\n",
      "Epoch 178/500\n",
      "9/9 [==============================] - 0s 6ms/step - loss: 8.7947e-06 - mae: 0.0023 - val_loss: 8.9204e-06 - val_mae: 0.0021\n",
      "Epoch 179/500\n",
      "9/9 [==============================] - 0s 6ms/step - loss: 9.7706e-06 - mae: 0.0024 - val_loss: 1.7450e-05 - val_mae: 0.0036\n",
      "Epoch 180/500\n",
      "9/9 [==============================] - 0s 6ms/step - loss: 1.5642e-05 - mae: 0.0032 - val_loss: 1.0289e-05 - val_mae: 0.0024\n",
      "Epoch 181/500\n",
      "9/9 [==============================] - 0s 5ms/step - loss: 9.1367e-06 - mae: 0.0023 - val_loss: 7.4168e-06 - val_mae: 0.0020\n",
      "Epoch 182/500\n",
      "9/9 [==============================] - 0s 5ms/step - loss: 8.6428e-06 - mae: 0.0023 - val_loss: 7.2142e-06 - val_mae: 0.0019\n",
      "Epoch 183/500\n",
      "9/9 [==============================] - 0s 5ms/step - loss: 8.2431e-06 - mae: 0.0022 - val_loss: 1.2203e-05 - val_mae: 0.0028\n",
      "Epoch 184/500\n",
      "9/9 [==============================] - 0s 9ms/step - loss: 1.0772e-05 - mae: 0.0026 - val_loss: 1.0253e-05 - val_mae: 0.0025\n",
      "Epoch 185/500\n",
      "9/9 [==============================] - 0s 6ms/step - loss: 9.2882e-06 - mae: 0.0024 - val_loss: 7.7071e-06 - val_mae: 0.0022\n",
      "Epoch 186/500\n",
      "9/9 [==============================] - 0s 5ms/step - loss: 9.9571e-06 - mae: 0.0025 - val_loss: 1.0871e-05 - val_mae: 0.0026\n",
      "Epoch 187/500\n",
      "9/9 [==============================] - 0s 6ms/step - loss: 1.0542e-05 - mae: 0.0025 - val_loss: 5.9447e-06 - val_mae: 0.0018\n",
      "Epoch 188/500\n",
      "9/9 [==============================] - 0s 5ms/step - loss: 9.9090e-06 - mae: 0.0025 - val_loss: 1.1380e-05 - val_mae: 0.0026\n",
      "Epoch 189/500\n",
      "9/9 [==============================] - 0s 7ms/step - loss: 1.2081e-05 - mae: 0.0027 - val_loss: 6.4839e-06 - val_mae: 0.0019\n",
      "Epoch 190/500\n",
      "9/9 [==============================] - 0s 5ms/step - loss: 1.1943e-05 - mae: 0.0027 - val_loss: 4.4545e-05 - val_mae: 0.0061\n",
      "Epoch 191/500\n",
      "9/9 [==============================] - 0s 5ms/step - loss: 4.0690e-05 - mae: 0.0048 - val_loss: 6.3623e-05 - val_mae: 0.0068\n",
      "Epoch 192/500\n",
      "9/9 [==============================] - 0s 5ms/step - loss: 3.1420e-05 - mae: 0.0043 - val_loss: 4.6778e-05 - val_mae: 0.0059\n",
      "Epoch 193/500\n",
      "9/9 [==============================] - 0s 5ms/step - loss: 3.7997e-05 - mae: 0.0049 - val_loss: 2.4781e-05 - val_mae: 0.0040\n",
      "Epoch 194/500\n",
      "9/9 [==============================] - 0s 5ms/step - loss: 4.3574e-05 - mae: 0.0053 - val_loss: 8.2969e-05 - val_mae: 0.0080\n",
      "Epoch 195/500\n",
      "9/9 [==============================] - 0s 6ms/step - loss: 3.6662e-05 - mae: 0.0049 - val_loss: 5.1803e-05 - val_mae: 0.0066\n",
      "Epoch 196/500\n",
      "9/9 [==============================] - 0s 5ms/step - loss: 2.7660e-05 - mae: 0.0041 - val_loss: 8.4634e-05 - val_mae: 0.0077\n",
      "Epoch 197/500\n",
      "9/9 [==============================] - 0s 5ms/step - loss: 9.9824e-05 - mae: 0.0082 - val_loss: 5.8184e-05 - val_mae: 0.0064\n",
      "Epoch 198/500\n",
      "9/9 [==============================] - 0s 5ms/step - loss: 5.1875e-05 - mae: 0.0058 - val_loss: 1.8063e-05 - val_mae: 0.0036\n",
      "Epoch 199/500\n",
      "9/9 [==============================] - 0s 5ms/step - loss: 2.6366e-05 - mae: 0.0042 - val_loss: 3.1018e-05 - val_mae: 0.0045\n",
      "Epoch 200/500\n",
      "9/9 [==============================] - 0s 5ms/step - loss: 1.9662e-05 - mae: 0.0036 - val_loss: 1.3838e-05 - val_mae: 0.0028\n",
      "Epoch 201/500\n",
      "9/9 [==============================] - 0s 5ms/step - loss: 1.7617e-05 - mae: 0.0033 - val_loss: 4.0962e-05 - val_mae: 0.0057\n",
      "Epoch 202/500\n",
      "9/9 [==============================] - 0s 6ms/step - loss: 1.9203e-05 - mae: 0.0034 - val_loss: 6.7971e-06 - val_mae: 0.0020\n",
      "Epoch 203/500\n",
      "9/9 [==============================] - 0s 5ms/step - loss: 9.8528e-06 - mae: 0.0024 - val_loss: 6.2110e-06 - val_mae: 0.0019\n",
      "Epoch 204/500\n",
      "9/9 [==============================] - 0s 5ms/step - loss: 6.9354e-06 - mae: 0.0020 - val_loss: 7.5162e-06 - val_mae: 0.0022\n",
      "Epoch 205/500\n",
      "9/9 [==============================] - 0s 5ms/step - loss: 7.9550e-06 - mae: 0.0022 - val_loss: 9.5877e-06 - val_mae: 0.0023\n",
      "Epoch 206/500\n",
      "9/9 [==============================] - 0s 5ms/step - loss: 7.3738e-06 - mae: 0.0021 - val_loss: 5.8550e-06 - val_mae: 0.0017\n",
      "Epoch 207/500\n",
      "9/9 [==============================] - 0s 5ms/step - loss: 7.9300e-06 - mae: 0.0022 - val_loss: 1.2201e-05 - val_mae: 0.0028\n",
      "Epoch 208/500\n",
      "9/9 [==============================] - 0s 5ms/step - loss: 1.0055e-05 - mae: 0.0025 - val_loss: 1.3981e-05 - val_mae: 0.0032\n",
      "Epoch 209/500\n",
      "9/9 [==============================] - 0s 5ms/step - loss: 8.8205e-06 - mae: 0.0023 - val_loss: 1.1371e-05 - val_mae: 0.0027\n",
      "Epoch 210/500\n",
      "9/9 [==============================] - 0s 5ms/step - loss: 1.2505e-05 - mae: 0.0028 - val_loss: 1.0377e-05 - val_mae: 0.0025\n",
      "Epoch 211/500\n",
      "9/9 [==============================] - 0s 5ms/step - loss: 1.1392e-05 - mae: 0.0026 - val_loss: 1.4020e-05 - val_mae: 0.0032\n",
      "Epoch 212/500\n",
      "9/9 [==============================] - 0s 5ms/step - loss: 1.0466e-05 - mae: 0.0026 - val_loss: 2.0489e-05 - val_mae: 0.0040\n",
      "Epoch 213/500\n",
      "9/9 [==============================] - 0s 5ms/step - loss: 1.5542e-05 - mae: 0.0032 - val_loss: 6.7245e-06 - val_mae: 0.0019\n",
      "Epoch 214/500\n",
      "9/9 [==============================] - 0s 6ms/step - loss: 1.0408e-05 - mae: 0.0026 - val_loss: 1.1677e-05 - val_mae: 0.0028\n",
      "Epoch 215/500\n",
      "9/9 [==============================] - 0s 5ms/step - loss: 1.0505e-05 - mae: 0.0026 - val_loss: 1.8555e-05 - val_mae: 0.0035\n",
      "Epoch 216/500\n",
      "9/9 [==============================] - 0s 5ms/step - loss: 1.9416e-05 - mae: 0.0033 - val_loss: 3.5185e-05 - val_mae: 0.0051\n",
      "Epoch 217/500\n",
      "9/9 [==============================] - 0s 5ms/step - loss: 2.0551e-05 - mae: 0.0037 - val_loss: 6.2028e-06 - val_mae: 0.0018\n",
      "Epoch 218/500\n",
      "9/9 [==============================] - 0s 5ms/step - loss: 1.6033e-05 - mae: 0.0033 - val_loss: 3.1964e-05 - val_mae: 0.0049\n",
      "Epoch 219/500\n",
      "9/9 [==============================] - 0s 5ms/step - loss: 1.5070e-05 - mae: 0.0031 - val_loss: 5.3527e-06 - val_mae: 0.0017\n",
      "Epoch 220/500\n",
      "9/9 [==============================] - 0s 5ms/step - loss: 7.1171e-06 - mae: 0.0021 - val_loss: 1.0859e-05 - val_mae: 0.0028\n",
      "Epoch 221/500\n",
      "9/9 [==============================] - 0s 8ms/step - loss: 1.0751e-05 - mae: 0.0026 - val_loss: 6.7916e-06 - val_mae: 0.0020\n",
      "Epoch 222/500\n",
      "9/9 [==============================] - 0s 5ms/step - loss: 7.2371e-06 - mae: 0.0021 - val_loss: 7.1718e-06 - val_mae: 0.0020\n",
      "Epoch 223/500\n",
      "9/9 [==============================] - 0s 6ms/step - loss: 8.6502e-06 - mae: 0.0023 - val_loss: 7.8075e-06 - val_mae: 0.0022\n",
      "Epoch 224/500\n",
      "9/9 [==============================] - 0s 5ms/step - loss: 8.2598e-06 - mae: 0.0023 - val_loss: 1.3675e-05 - val_mae: 0.0029\n",
      "Epoch 225/500\n",
      "9/9 [==============================] - 0s 6ms/step - loss: 1.2781e-05 - mae: 0.0028 - val_loss: 4.8340e-06 - val_mae: 0.0015\n",
      "Epoch 226/500\n",
      "9/9 [==============================] - 0s 6ms/step - loss: 6.8606e-06 - mae: 0.0020 - val_loss: 6.7884e-06 - val_mae: 0.0021\n",
      "Epoch 227/500\n",
      "9/9 [==============================] - 0s 6ms/step - loss: 8.3408e-06 - mae: 0.0023 - val_loss: 1.6680e-05 - val_mae: 0.0035\n",
      "Epoch 228/500\n",
      "9/9 [==============================] - 0s 5ms/step - loss: 1.4361e-05 - mae: 0.0030 - val_loss: 1.7578e-05 - val_mae: 0.0034\n",
      "Epoch 229/500\n",
      "9/9 [==============================] - 0s 4ms/step - loss: 1.2182e-05 - mae: 0.0028 - val_loss: 8.4990e-06 - val_mae: 0.0022\n",
      "Epoch 230/500\n",
      "9/9 [==============================] - 0s 5ms/step - loss: 1.2230e-05 - mae: 0.0027 - val_loss: 2.2599e-05 - val_mae: 0.0041\n",
      "Epoch 231/500\n",
      "9/9 [==============================] - 0s 5ms/step - loss: 1.5201e-05 - mae: 0.0031 - val_loss: 1.3864e-05 - val_mae: 0.0030\n",
      "Epoch 232/500\n",
      "9/9 [==============================] - 0s 4ms/step - loss: 9.0682e-06 - mae: 0.0024 - val_loss: 5.9117e-06 - val_mae: 0.0017\n",
      "Epoch 233/500\n",
      "9/9 [==============================] - 0s 5ms/step - loss: 6.8895e-06 - mae: 0.0020 - val_loss: 5.3274e-06 - val_mae: 0.0016\n",
      "Epoch 234/500\n",
      "9/9 [==============================] - 0s 5ms/step - loss: 6.0580e-06 - mae: 0.0020 - val_loss: 6.3187e-06 - val_mae: 0.0019\n",
      "Epoch 235/500\n",
      "9/9 [==============================] - 0s 4ms/step - loss: 7.1990e-06 - mae: 0.0021 - val_loss: 7.8942e-06 - val_mae: 0.0022\n",
      "Epoch 236/500\n",
      "9/9 [==============================] - 0s 6ms/step - loss: 6.5430e-06 - mae: 0.0020 - val_loss: 7.8783e-06 - val_mae: 0.0022\n",
      "Epoch 237/500\n",
      "9/9 [==============================] - 0s 5ms/step - loss: 7.3932e-06 - mae: 0.0021 - val_loss: 4.6617e-06 - val_mae: 0.0016\n",
      "Epoch 238/500\n",
      "9/9 [==============================] - 0s 5ms/step - loss: 6.6764e-06 - mae: 0.0020 - val_loss: 1.2434e-05 - val_mae: 0.0029\n",
      "Epoch 239/500\n",
      "9/9 [==============================] - 0s 5ms/step - loss: 1.1607e-05 - mae: 0.0027 - val_loss: 5.4323e-05 - val_mae: 0.0062\n",
      "Epoch 240/500\n",
      "9/9 [==============================] - 0s 5ms/step - loss: 3.5511e-05 - mae: 0.0049 - val_loss: 2.3668e-05 - val_mae: 0.0043\n",
      "Epoch 241/500\n",
      "9/9 [==============================] - 0s 5ms/step - loss: 2.4229e-05 - mae: 0.0041 - val_loss: 2.3549e-05 - val_mae: 0.0040\n",
      "Epoch 242/500\n",
      "9/9 [==============================] - 0s 4ms/step - loss: 2.2407e-05 - mae: 0.0038 - val_loss: 4.2543e-05 - val_mae: 0.0054\n",
      "Epoch 243/500\n",
      "9/9 [==============================] - 0s 4ms/step - loss: 1.9480e-05 - mae: 0.0035 - val_loss: 1.4314e-05 - val_mae: 0.0032\n",
      "Epoch 244/500\n",
      "9/9 [==============================] - 0s 5ms/step - loss: 1.8231e-05 - mae: 0.0035 - val_loss: 9.2006e-05 - val_mae: 0.0089\n",
      "Epoch 245/500\n",
      "9/9 [==============================] - 0s 5ms/step - loss: 4.3073e-05 - mae: 0.0056 - val_loss: 2.6712e-05 - val_mae: 0.0046\n",
      "Epoch 246/500\n",
      "9/9 [==============================] - 0s 5ms/step - loss: 1.8503e-05 - mae: 0.0035 - val_loss: 1.5579e-05 - val_mae: 0.0033\n",
      "Epoch 247/500\n",
      "9/9 [==============================] - 0s 5ms/step - loss: 9.6843e-06 - mae: 0.0025 - val_loss: 6.2509e-06 - val_mae: 0.0019\n",
      "Epoch 248/500\n",
      "9/9 [==============================] - 0s 5ms/step - loss: 7.2939e-06 - mae: 0.0021 - val_loss: 4.9748e-06 - val_mae: 0.0016\n",
      "Epoch 249/500\n",
      "9/9 [==============================] - 0s 5ms/step - loss: 6.0950e-06 - mae: 0.0019 - val_loss: 5.4657e-06 - val_mae: 0.0017\n",
      "Epoch 250/500\n",
      "9/9 [==============================] - 0s 5ms/step - loss: 6.0761e-06 - mae: 0.0019 - val_loss: 4.2337e-06 - val_mae: 0.0016\n",
      "Epoch 251/500\n",
      "9/9 [==============================] - 0s 5ms/step - loss: 6.8440e-06 - mae: 0.0021 - val_loss: 4.4072e-06 - val_mae: 0.0016\n",
      "Epoch 252/500\n",
      "9/9 [==============================] - 0s 8ms/step - loss: 7.0100e-06 - mae: 0.0021 - val_loss: 1.4220e-05 - val_mae: 0.0031\n",
      "Epoch 253/500\n",
      "9/9 [==============================] - 0s 5ms/step - loss: 1.1262e-05 - mae: 0.0026 - val_loss: 6.3153e-06 - val_mae: 0.0020\n",
      "Epoch 254/500\n",
      "9/9 [==============================] - 0s 5ms/step - loss: 6.9134e-06 - mae: 0.0020 - val_loss: 1.4418e-05 - val_mae: 0.0031\n",
      "Epoch 255/500\n",
      "9/9 [==============================] - 0s 5ms/step - loss: 9.2688e-06 - mae: 0.0024 - val_loss: 1.6005e-05 - val_mae: 0.0033\n",
      "Epoch 256/500\n",
      "9/9 [==============================] - 0s 6ms/step - loss: 1.6054e-05 - mae: 0.0033 - val_loss: 1.0548e-05 - val_mae: 0.0024\n",
      "Epoch 257/500\n",
      "9/9 [==============================] - 0s 6ms/step - loss: 8.1741e-06 - mae: 0.0022 - val_loss: 1.7484e-05 - val_mae: 0.0036\n",
      "Epoch 258/500\n",
      "9/9 [==============================] - 0s 5ms/step - loss: 1.4805e-05 - mae: 0.0031 - val_loss: 6.7706e-06 - val_mae: 0.0020\n",
      "Epoch 259/500\n",
      "9/9 [==============================] - 0s 5ms/step - loss: 7.3352e-06 - mae: 0.0021 - val_loss: 4.9272e-06 - val_mae: 0.0016\n",
      "Epoch 260/500\n",
      "9/9 [==============================] - 0s 5ms/step - loss: 9.4313e-06 - mae: 0.0024 - val_loss: 4.7040e-06 - val_mae: 0.0016\n",
      "Epoch 261/500\n",
      "9/9 [==============================] - 0s 5ms/step - loss: 1.0924e-05 - mae: 0.0025 - val_loss: 1.5437e-05 - val_mae: 0.0032\n",
      "Epoch 262/500\n",
      "9/9 [==============================] - 0s 4ms/step - loss: 1.1713e-05 - mae: 0.0027 - val_loss: 5.3035e-05 - val_mae: 0.0067\n",
      "Epoch 263/500\n",
      "9/9 [==============================] - 0s 5ms/step - loss: 2.8920e-05 - mae: 0.0044 - val_loss: 1.2341e-04 - val_mae: 0.0100\n",
      "Epoch 264/500\n",
      "9/9 [==============================] - 0s 5ms/step - loss: 5.1142e-05 - mae: 0.0056 - val_loss: 1.9199e-05 - val_mae: 0.0036\n",
      "Epoch 265/500\n",
      "9/9 [==============================] - 0s 5ms/step - loss: 1.4663e-05 - mae: 0.0031 - val_loss: 6.2773e-06 - val_mae: 0.0018\n",
      "Epoch 266/500\n",
      "9/9 [==============================] - 0s 5ms/step - loss: 1.2766e-05 - mae: 0.0028 - val_loss: 1.1985e-05 - val_mae: 0.0028\n",
      "Epoch 267/500\n",
      "9/9 [==============================] - 0s 5ms/step - loss: 1.7365e-05 - mae: 0.0033 - val_loss: 4.6031e-06 - val_mae: 0.0016\n",
      "Epoch 268/500\n",
      "9/9 [==============================] - 0s 4ms/step - loss: 1.1617e-05 - mae: 0.0026 - val_loss: 1.7694e-05 - val_mae: 0.0032\n",
      "Epoch 269/500\n",
      "9/9 [==============================] - 0s 4ms/step - loss: 1.8048e-05 - mae: 0.0034 - val_loss: 6.0658e-05 - val_mae: 0.0068\n",
      "Epoch 270/500\n",
      "9/9 [==============================] - 0s 5ms/step - loss: 2.8348e-05 - mae: 0.0043 - val_loss: 1.0510e-05 - val_mae: 0.0027\n",
      "Epoch 271/500\n",
      "9/9 [==============================] - 0s 4ms/step - loss: 1.5640e-05 - mae: 0.0031 - val_loss: 5.9895e-05 - val_mae: 0.0068\n",
      "Epoch 272/500\n",
      "9/9 [==============================] - 0s 5ms/step - loss: 2.8358e-05 - mae: 0.0044 - val_loss: 6.9478e-06 - val_mae: 0.0020\n",
      "Epoch 273/500\n",
      "9/9 [==============================] - 0s 5ms/step - loss: 1.1051e-05 - mae: 0.0025 - val_loss: 1.4902e-05 - val_mae: 0.0032\n",
      "Epoch 274/500\n",
      "9/9 [==============================] - 0s 5ms/step - loss: 1.4850e-05 - mae: 0.0032 - val_loss: 9.2809e-05 - val_mae: 0.0087\n",
      "Epoch 275/500\n",
      "9/9 [==============================] - 0s 5ms/step - loss: 4.1212e-05 - mae: 0.0053 - val_loss: 1.0285e-04 - val_mae: 0.0088\n",
      "Epoch 276/500\n",
      "9/9 [==============================] - 0s 5ms/step - loss: 3.7597e-05 - mae: 0.0049 - val_loss: 4.1672e-05 - val_mae: 0.0053\n",
      "Epoch 277/500\n",
      "9/9 [==============================] - 0s 5ms/step - loss: 3.5400e-05 - mae: 0.0048 - val_loss: 1.3529e-05 - val_mae: 0.0027\n",
      "Epoch 278/500\n",
      "9/9 [==============================] - 0s 5ms/step - loss: 1.8166e-05 - mae: 0.0033 - val_loss: 7.4862e-06 - val_mae: 0.0021\n",
      "Epoch 279/500\n",
      "9/9 [==============================] - 0s 5ms/step - loss: 6.5310e-06 - mae: 0.0020 - val_loss: 8.0430e-06 - val_mae: 0.0023\n",
      "Epoch 280/500\n",
      "9/9 [==============================] - 0s 5ms/step - loss: 6.5545e-06 - mae: 0.0020 - val_loss: 6.3095e-06 - val_mae: 0.0018\n",
      "Epoch 281/500\n",
      "9/9 [==============================] - 0s 5ms/step - loss: 5.6059e-06 - mae: 0.0019 - val_loss: 1.3662e-05 - val_mae: 0.0032\n",
      "Epoch 282/500\n",
      "9/9 [==============================] - 0s 6ms/step - loss: 7.1374e-06 - mae: 0.0021 - val_loss: 3.7267e-06 - val_mae: 0.0015\n",
      "Epoch 283/500\n",
      "9/9 [==============================] - 0s 7ms/step - loss: 5.4897e-06 - mae: 0.0018 - val_loss: 2.1844e-05 - val_mae: 0.0041\n",
      "Epoch 284/500\n",
      "9/9 [==============================] - 0s 5ms/step - loss: 1.5351e-05 - mae: 0.0031 - val_loss: 7.4433e-06 - val_mae: 0.0022\n",
      "Epoch 285/500\n",
      "9/9 [==============================] - 0s 5ms/step - loss: 5.7406e-06 - mae: 0.0019 - val_loss: 2.4214e-05 - val_mae: 0.0043\n",
      "Epoch 286/500\n",
      "9/9 [==============================] - 0s 5ms/step - loss: 1.3743e-05 - mae: 0.0029 - val_loss: 1.1494e-05 - val_mae: 0.0026\n",
      "Epoch 287/500\n",
      "9/9 [==============================] - 0s 5ms/step - loss: 1.4648e-05 - mae: 0.0030 - val_loss: 7.3554e-06 - val_mae: 0.0020\n",
      "Epoch 288/500\n",
      "9/9 [==============================] - 0s 7ms/step - loss: 1.1002e-05 - mae: 0.0027 - val_loss: 9.9144e-06 - val_mae: 0.0024\n",
      "Epoch 289/500\n",
      "9/9 [==============================] - 0s 5ms/step - loss: 1.2519e-05 - mae: 0.0027 - val_loss: 9.9120e-06 - val_mae: 0.0025\n",
      "Epoch 290/500\n",
      "9/9 [==============================] - 0s 5ms/step - loss: 9.4136e-06 - mae: 0.0024 - val_loss: 3.9521e-05 - val_mae: 0.0054\n",
      "Epoch 291/500\n",
      "9/9 [==============================] - 0s 5ms/step - loss: 2.2078e-05 - mae: 0.0037 - val_loss: 4.2857e-05 - val_mae: 0.0060\n",
      "Epoch 292/500\n",
      "9/9 [==============================] - 0s 5ms/step - loss: 5.4597e-05 - mae: 0.0066 - val_loss: 2.0650e-05 - val_mae: 0.0033\n",
      "Epoch 293/500\n",
      "9/9 [==============================] - 0s 5ms/step - loss: 2.6763e-05 - mae: 0.0039 - val_loss: 2.5895e-05 - val_mae: 0.0044\n",
      "Epoch 294/500\n",
      "9/9 [==============================] - 0s 5ms/step - loss: 1.5376e-05 - mae: 0.0031 - val_loss: 5.5678e-06 - val_mae: 0.0020\n",
      "Epoch 295/500\n",
      "9/9 [==============================] - 0s 5ms/step - loss: 1.0551e-05 - mae: 0.0025 - val_loss: 2.6495e-05 - val_mae: 0.0045\n",
      "Epoch 296/500\n",
      "9/9 [==============================] - 0s 5ms/step - loss: 1.9573e-05 - mae: 0.0036 - val_loss: 1.4276e-05 - val_mae: 0.0030\n",
      "Epoch 297/500\n",
      "9/9 [==============================] - 0s 5ms/step - loss: 1.1665e-05 - mae: 0.0026 - val_loss: 2.9779e-05 - val_mae: 0.0048\n",
      "Epoch 298/500\n",
      "9/9 [==============================] - 0s 5ms/step - loss: 1.6626e-05 - mae: 0.0032 - val_loss: 6.8964e-06 - val_mae: 0.0019\n",
      "Epoch 299/500\n",
      "9/9 [==============================] - 0s 5ms/step - loss: 1.1687e-05 - mae: 0.0027 - val_loss: 1.0528e-05 - val_mae: 0.0026\n",
      "Epoch 300/500\n",
      "9/9 [==============================] - 0s 5ms/step - loss: 1.0489e-05 - mae: 0.0026 - val_loss: 6.7405e-06 - val_mae: 0.0022\n",
      "Epoch 301/500\n",
      "9/9 [==============================] - 0s 5ms/step - loss: 1.0973e-05 - mae: 0.0027 - val_loss: 6.0021e-05 - val_mae: 0.0069\n",
      "Epoch 302/500\n",
      "9/9 [==============================] - 0s 5ms/step - loss: 3.6479e-05 - mae: 0.0047 - val_loss: 2.4815e-05 - val_mae: 0.0042\n",
      "Epoch 303/500\n",
      "9/9 [==============================] - 0s 6ms/step - loss: 1.2582e-05 - mae: 0.0027 - val_loss: 5.5382e-06 - val_mae: 0.0018\n",
      "Epoch 304/500\n",
      "9/9 [==============================] - 0s 5ms/step - loss: 7.9319e-06 - mae: 0.0022 - val_loss: 6.1797e-06 - val_mae: 0.0020\n",
      "Epoch 305/500\n",
      "9/9 [==============================] - 0s 5ms/step - loss: 6.2504e-06 - mae: 0.0019 - val_loss: 1.7816e-05 - val_mae: 0.0037\n",
      "Epoch 306/500\n",
      "9/9 [==============================] - 0s 5ms/step - loss: 1.1400e-05 - mae: 0.0027 - val_loss: 3.4170e-05 - val_mae: 0.0050\n",
      "Epoch 307/500\n",
      "9/9 [==============================] - 0s 4ms/step - loss: 1.9537e-05 - mae: 0.0036 - val_loss: 5.4904e-05 - val_mae: 0.0063\n",
      "Epoch 308/500\n",
      "9/9 [==============================] - 0s 5ms/step - loss: 2.5786e-05 - mae: 0.0042 - val_loss: 2.4390e-05 - val_mae: 0.0043\n",
      "Epoch 309/500\n",
      "9/9 [==============================] - 0s 4ms/step - loss: 1.1737e-05 - mae: 0.0027 - val_loss: 8.2128e-06 - val_mae: 0.0022\n",
      "Epoch 310/500\n",
      "9/9 [==============================] - 0s 5ms/step - loss: 1.1121e-05 - mae: 0.0026 - val_loss: 1.4564e-05 - val_mae: 0.0032\n",
      "Epoch 311/500\n",
      "9/9 [==============================] - 0s 4ms/step - loss: 1.0400e-05 - mae: 0.0025 - val_loss: 1.2283e-05 - val_mae: 0.0027\n",
      "Epoch 312/500\n",
      "9/9 [==============================] - 0s 5ms/step - loss: 2.3291e-05 - mae: 0.0039 - val_loss: 1.3210e-05 - val_mae: 0.0029\n",
      "Epoch 313/500\n",
      "9/9 [==============================] - 0s 8ms/step - loss: 2.1824e-05 - mae: 0.0037 - val_loss: 6.6012e-05 - val_mae: 0.0069\n",
      "Epoch 314/500\n",
      "9/9 [==============================] - 0s 6ms/step - loss: 4.2505e-05 - mae: 0.0053 - val_loss: 1.5417e-05 - val_mae: 0.0034\n",
      "Epoch 315/500\n",
      "9/9 [==============================] - 0s 5ms/step - loss: 1.8447e-05 - mae: 0.0034 - val_loss: 2.6650e-05 - val_mae: 0.0043\n",
      "Epoch 316/500\n",
      "9/9 [==============================] - 0s 5ms/step - loss: 1.9227e-05 - mae: 0.0036 - val_loss: 8.1806e-06 - val_mae: 0.0024\n",
      "Epoch 317/500\n",
      "9/9 [==============================] - 0s 6ms/step - loss: 2.0516e-05 - mae: 0.0035 - val_loss: 2.2307e-05 - val_mae: 0.0039\n",
      "Epoch 318/500\n",
      "9/9 [==============================] - 0s 7ms/step - loss: 1.1740e-05 - mae: 0.0028 - val_loss: 3.9789e-06 - val_mae: 0.0014\n",
      "Epoch 319/500\n",
      "9/9 [==============================] - 0s 5ms/step - loss: 1.0967e-05 - mae: 0.0027 - val_loss: 2.2652e-05 - val_mae: 0.0041\n",
      "Epoch 320/500\n",
      "9/9 [==============================] - 0s 5ms/step - loss: 1.9134e-05 - mae: 0.0036 - val_loss: 1.4218e-05 - val_mae: 0.0030\n",
      "Epoch 321/500\n",
      "9/9 [==============================] - 0s 5ms/step - loss: 1.4134e-05 - mae: 0.0030 - val_loss: 3.0233e-05 - val_mae: 0.0046\n",
      "Epoch 322/500\n",
      "9/9 [==============================] - 0s 5ms/step - loss: 1.5436e-05 - mae: 0.0031 - val_loss: 3.4055e-06 - val_mae: 0.0014\n",
      "Epoch 323/500\n",
      "9/9 [==============================] - 0s 5ms/step - loss: 9.6673e-06 - mae: 0.0024 - val_loss: 2.3617e-05 - val_mae: 0.0042\n",
      "Epoch 324/500\n",
      "9/9 [==============================] - 0s 5ms/step - loss: 1.3108e-05 - mae: 0.0029 - val_loss: 2.0821e-05 - val_mae: 0.0041\n",
      "Epoch 325/500\n",
      "9/9 [==============================] - 0s 5ms/step - loss: 2.1084e-05 - mae: 0.0038 - val_loss: 9.5982e-05 - val_mae: 0.0091\n",
      "Epoch 326/500\n",
      "9/9 [==============================] - 0s 5ms/step - loss: 6.9587e-05 - mae: 0.0068 - val_loss: 1.1695e-04 - val_mae: 0.0104\n",
      "Epoch 327/500\n",
      "9/9 [==============================] - 0s 5ms/step - loss: 3.9376e-05 - mae: 0.0051 - val_loss: 5.4680e-06 - val_mae: 0.0018\n",
      "Epoch 328/500\n",
      "9/9 [==============================] - 0s 5ms/step - loss: 8.3639e-06 - mae: 0.0023 - val_loss: 1.7211e-05 - val_mae: 0.0034\n",
      "Epoch 329/500\n",
      "9/9 [==============================] - 0s 5ms/step - loss: 1.6976e-05 - mae: 0.0034 - val_loss: 3.6995e-06 - val_mae: 0.0015\n",
      "Epoch 330/500\n",
      "9/9 [==============================] - 0s 4ms/step - loss: 7.8057e-06 - mae: 0.0022 - val_loss: 1.1560e-05 - val_mae: 0.0028\n",
      "Epoch 331/500\n",
      "9/9 [==============================] - 0s 5ms/step - loss: 6.2243e-06 - mae: 0.0020 - val_loss: 3.6657e-05 - val_mae: 0.0056\n",
      "Epoch 332/500\n",
      "9/9 [==============================] - 0s 5ms/step - loss: 1.6274e-05 - mae: 0.0034 - val_loss: 2.6292e-05 - val_mae: 0.0041\n",
      "Epoch 333/500\n",
      "9/9 [==============================] - 0s 5ms/step - loss: 1.6910e-05 - mae: 0.0033 - val_loss: 7.2038e-05 - val_mae: 0.0077\n",
      "Epoch 334/500\n",
      "9/9 [==============================] - 0s 5ms/step - loss: 5.1016e-05 - mae: 0.0060 - val_loss: 2.2543e-05 - val_mae: 0.0043\n",
      "Epoch 335/500\n",
      "9/9 [==============================] - 0s 4ms/step - loss: 8.6418e-06 - mae: 0.0023 - val_loss: 3.5101e-06 - val_mae: 0.0014\n",
      "Epoch 336/500\n",
      "9/9 [==============================] - 0s 5ms/step - loss: 5.0699e-06 - mae: 0.0017 - val_loss: 3.3072e-06 - val_mae: 0.0014\n",
      "Epoch 337/500\n",
      "9/9 [==============================] - 0s 5ms/step - loss: 5.1972e-06 - mae: 0.0017 - val_loss: 8.9919e-06 - val_mae: 0.0025\n",
      "Epoch 338/500\n",
      "9/9 [==============================] - 0s 5ms/step - loss: 6.4488e-06 - mae: 0.0021 - val_loss: 3.5947e-05 - val_mae: 0.0052\n",
      "Epoch 339/500\n",
      "9/9 [==============================] - 0s 4ms/step - loss: 1.2344e-05 - mae: 0.0028 - val_loss: 2.5796e-05 - val_mae: 0.0046\n",
      "Epoch 340/500\n",
      "9/9 [==============================] - 0s 6ms/step - loss: 1.5950e-05 - mae: 0.0033 - val_loss: 1.5141e-05 - val_mae: 0.0034\n",
      "Epoch 341/500\n",
      "9/9 [==============================] - 0s 4ms/step - loss: 1.4335e-05 - mae: 0.0031 - val_loss: 3.4584e-06 - val_mae: 0.0014\n",
      "Epoch 342/500\n",
      "9/9 [==============================] - 0s 8ms/step - loss: 8.5743e-06 - mae: 0.0023 - val_loss: 3.2844e-05 - val_mae: 0.0050\n",
      "Epoch 343/500\n",
      "9/9 [==============================] - 0s 5ms/step - loss: 1.9574e-05 - mae: 0.0036 - val_loss: 4.3043e-05 - val_mae: 0.0058\n",
      "Epoch 344/500\n",
      "9/9 [==============================] - 0s 5ms/step - loss: 2.4841e-05 - mae: 0.0043 - val_loss: 9.2217e-06 - val_mae: 0.0024\n",
      "Epoch 345/500\n",
      "9/9 [==============================] - 0s 5ms/step - loss: 1.2165e-05 - mae: 0.0027 - val_loss: 2.4714e-05 - val_mae: 0.0041\n",
      "Epoch 346/500\n",
      "9/9 [==============================] - 0s 6ms/step - loss: 3.2462e-05 - mae: 0.0046 - val_loss: 1.7437e-05 - val_mae: 0.0033\n",
      "Epoch 347/500\n",
      "9/9 [==============================] - 0s 6ms/step - loss: 7.3115e-05 - mae: 0.0071 - val_loss: 8.3109e-05 - val_mae: 0.0087\n",
      "Epoch 348/500\n",
      "9/9 [==============================] - 0s 5ms/step - loss: 2.7024e-05 - mae: 0.0042 - val_loss: 8.6464e-05 - val_mae: 0.0086\n",
      "Epoch 349/500\n",
      "9/9 [==============================] - 0s 5ms/step - loss: 2.8345e-05 - mae: 0.0043 - val_loss: 5.7168e-06 - val_mae: 0.0018\n",
      "Epoch 350/500\n",
      "9/9 [==============================] - 0s 5ms/step - loss: 8.0093e-06 - mae: 0.0022 - val_loss: 3.9089e-05 - val_mae: 0.0056\n",
      "Epoch 351/500\n",
      "9/9 [==============================] - 0s 5ms/step - loss: 2.2784e-05 - mae: 0.0039 - val_loss: 3.6387e-05 - val_mae: 0.0048\n",
      "Epoch 352/500\n",
      "9/9 [==============================] - 0s 5ms/step - loss: 3.4685e-05 - mae: 0.0049 - val_loss: 1.6374e-04 - val_mae: 0.0124\n",
      "Epoch 353/500\n",
      "9/9 [==============================] - 0s 5ms/step - loss: 1.0100e-04 - mae: 0.0083 - val_loss: 1.6982e-04 - val_mae: 0.0115\n",
      "Epoch 354/500\n",
      "9/9 [==============================] - 0s 5ms/step - loss: 1.2629e-04 - mae: 0.0095 - val_loss: 4.8683e-05 - val_mae: 0.0052\n",
      "Epoch 355/500\n",
      "9/9 [==============================] - 0s 5ms/step - loss: 4.9525e-05 - mae: 0.0055 - val_loss: 5.7299e-05 - val_mae: 0.0063\n",
      "Epoch 356/500\n",
      "9/9 [==============================] - 0s 4ms/step - loss: 2.9072e-05 - mae: 0.0041 - val_loss: 6.7967e-05 - val_mae: 0.0074\n",
      "Epoch 357/500\n",
      "9/9 [==============================] - 0s 5ms/step - loss: 6.7773e-05 - mae: 0.0069 - val_loss: 1.8407e-05 - val_mae: 0.0034\n",
      "Epoch 358/500\n",
      "9/9 [==============================] - 0s 5ms/step - loss: 6.9020e-05 - mae: 0.0066 - val_loss: 2.1650e-05 - val_mae: 0.0041\n",
      "Epoch 359/500\n",
      "9/9 [==============================] - 0s 5ms/step - loss: 1.2077e-05 - mae: 0.0028 - val_loss: 2.0879e-05 - val_mae: 0.0041\n",
      "Epoch 360/500\n",
      "9/9 [==============================] - 0s 5ms/step - loss: 1.6271e-05 - mae: 0.0033 - val_loss: 6.2825e-05 - val_mae: 0.0064\n",
      "Epoch 361/500\n",
      "9/9 [==============================] - 0s 5ms/step - loss: 6.5967e-05 - mae: 0.0066 - val_loss: 6.9903e-05 - val_mae: 0.0072\n",
      "Epoch 362/500\n",
      "9/9 [==============================] - 0s 5ms/step - loss: 9.9609e-05 - mae: 0.0080 - val_loss: 6.9538e-05 - val_mae: 0.0081\n",
      "Epoch 363/500\n",
      "9/9 [==============================] - 0s 4ms/step - loss: 7.8554e-05 - mae: 0.0075 - val_loss: 2.0358e-04 - val_mae: 0.0128\n",
      "Epoch 364/500\n",
      "9/9 [==============================] - 0s 5ms/step - loss: 9.3729e-05 - mae: 0.0080 - val_loss: 1.4262e-04 - val_mae: 0.0105\n",
      "Epoch 365/500\n",
      "9/9 [==============================] - 0s 5ms/step - loss: 6.4953e-05 - mae: 0.0066 - val_loss: 6.7309e-05 - val_mae: 0.0069\n",
      "Epoch 366/500\n",
      "9/9 [==============================] - 0s 4ms/step - loss: 3.7523e-05 - mae: 0.0050 - val_loss: 4.7110e-05 - val_mae: 0.0055\n",
      "Epoch 367/500\n",
      "9/9 [==============================] - 0s 5ms/step - loss: 2.9444e-05 - mae: 0.0043 - val_loss: 9.7048e-05 - val_mae: 0.0095\n",
      "Epoch 368/500\n",
      "9/9 [==============================] - 0s 5ms/step - loss: 8.6635e-05 - mae: 0.0078 - val_loss: 2.7471e-04 - val_mae: 0.0155\n",
      "Epoch 369/500\n",
      "9/9 [==============================] - 0s 5ms/step - loss: 2.4873e-04 - mae: 0.0134 - val_loss: 1.6866e-04 - val_mae: 0.0112\n",
      "Epoch 370/500\n",
      "9/9 [==============================] - 0s 4ms/step - loss: 1.3302e-04 - mae: 0.0095 - val_loss: 0.0021 - val_mae: 0.0423\n",
      "Epoch 371/500\n",
      "9/9 [==============================] - 0s 5ms/step - loss: 0.0014 - mae: 0.0306 - val_loss: 0.0012 - val_mae: 0.0304\n",
      "Epoch 372/500\n",
      "9/9 [==============================] - 0s 8ms/step - loss: 0.0019 - mae: 0.0354 - val_loss: 0.0015 - val_mae: 0.0317\n",
      "Epoch 373/500\n",
      "9/9 [==============================] - 0s 5ms/step - loss: 0.0057 - mae: 0.0597 - val_loss: 0.0123 - val_mae: 0.1043\n",
      "Epoch 374/500\n",
      "9/9 [==============================] - 0s 6ms/step - loss: 0.0081 - mae: 0.0726 - val_loss: 0.0039 - val_mae: 0.0541\n",
      "Epoch 375/500\n",
      "9/9 [==============================] - 0s 6ms/step - loss: 0.0019 - mae: 0.0317 - val_loss: 0.0036 - val_mae: 0.0575\n",
      "Epoch 376/500\n",
      "9/9 [==============================] - 0s 6ms/step - loss: 0.0021 - mae: 0.0382 - val_loss: 0.0060 - val_mae: 0.0681\n",
      "Epoch 377/500\n",
      "9/9 [==============================] - 0s 7ms/step - loss: 0.0035 - mae: 0.0483 - val_loss: 8.9828e-04 - val_mae: 0.0236\n",
      "Epoch 378/500\n",
      "9/9 [==============================] - 0s 5ms/step - loss: 0.0013 - mae: 0.0286 - val_loss: 2.4348e-04 - val_mae: 0.0145\n",
      "Epoch 379/500\n",
      "9/9 [==============================] - 0s 5ms/step - loss: 8.1698e-04 - mae: 0.0227 - val_loss: 0.0015 - val_mae: 0.0351\n",
      "Epoch 380/500\n",
      "9/9 [==============================] - 0s 5ms/step - loss: 0.0010 - mae: 0.0247 - val_loss: 3.3509e-04 - val_mae: 0.0139\n",
      "Epoch 381/500\n",
      "9/9 [==============================] - 0s 5ms/step - loss: 2.5811e-04 - mae: 0.0124 - val_loss: 7.1350e-04 - val_mae: 0.0236\n",
      "Epoch 382/500\n",
      "9/9 [==============================] - 0s 5ms/step - loss: 3.5317e-04 - mae: 0.0151 - val_loss: 2.8047e-04 - val_mae: 0.0128\n",
      "Epoch 383/500\n",
      "9/9 [==============================] - 0s 5ms/step - loss: 1.3112e-04 - mae: 0.0092 - val_loss: 2.9120e-04 - val_mae: 0.0160\n",
      "Epoch 384/500\n",
      "9/9 [==============================] - 0s 4ms/step - loss: 1.3958e-04 - mae: 0.0102 - val_loss: 2.2889e-04 - val_mae: 0.0138\n",
      "Epoch 385/500\n",
      "9/9 [==============================] - 0s 5ms/step - loss: 2.4475e-04 - mae: 0.0134 - val_loss: 2.1192e-04 - val_mae: 0.0136\n",
      "Epoch 386/500\n",
      "9/9 [==============================] - 0s 5ms/step - loss: 1.9901e-04 - mae: 0.0120 - val_loss: 5.0160e-05 - val_mae: 0.0058\n"
     ]
    }
   ],
   "source": [
    "history = ann.fit(X_train, y_train,\n",
    "                    validation_data = (X_val, y_val),\n",
    "                    callbacks=[es],\n",
    "                    epochs=500,\n",
    "                    batch_size=50,\n",
    "                    verbose=1)"
   ]
  },
  {
   "cell_type": "markdown",
   "metadata": {
    "colab_type": "text",
    "id": "0H0zKKNEBLD5"
   },
   "source": [
    "### Analyse learn history"
   ]
  },
  {
   "cell_type": "code",
   "execution_count": 16,
   "metadata": {},
   "outputs": [
    {
     "data": {
      "image/png": "[encoded data removed]",
      "text/plain": [
       "<Figure size 432x288 with 1 Axes>"
      ]
     },
     "metadata": {
      "needs_background": "light"
     },
     "output_type": "display_data"
    }
   ],
   "source": [
    "# let's see the training and validation accuracy by epoch\n",
    "history_dict = history.history\n",
    "loss_values = history_dict['loss'] # you can change this\n",
    "val_loss_values = history_dict['val_loss'] # you can also change this\n",
    "epochs = range(1, len(loss_values) + 1) # range of X (no. of epochs)\n",
    "plt.plot(epochs, loss_values, 'blue', label='Train set loss')\n",
    "plt.plot(epochs, val_loss_values, 'orange', label='Validation set loss')\n",
    "#plt.title('Training and testing loss')\n",
    "plt.xlabel('Epochs')\n",
    "plt.ylabel('Loss (MSE)')\n",
    "plt.legend()\n",
    "plt.show()"
   ]
  },
  {
   "cell_type": "code",
   "execution_count": 17,
   "metadata": {},
   "outputs": [
    {
     "data": {
      "image/png": "[encoded data removed]",
      "text/plain": [
       "<Figure size 432x288 with 1 Axes>"
      ]
     },
     "metadata": {
      "needs_background": "light"
     },
     "output_type": "display_data"
    }
   ],
   "source": [
    "loss_values1 = history_dict['mae'] # you can change this\n",
    "val_loss_values1 = history_dict['val_mae'] # you can also change this\n",
    "epochs = range(1, len(loss_values1) + 1) # range of X (no. of epochs)\n",
    "plt.plot(epochs, loss_values1, 'blue', label='Train set MAE')\n",
    "plt.plot(epochs, val_loss_values1, 'orange', label='Validation set MAE')\n",
    "#plt.title('Training and testing MAE')\n",
    "plt.xlabel('Epochs')\n",
    "plt.ylabel('MAE')\n",
    "plt.legend()\n",
    "plt.show()"
   ]
  },
  {
   "cell_type": "code",
   "execution_count": 18,
   "metadata": {},
   "outputs": [
    {
     "name": "stdout",
     "output_type": "stream",
     "text": [
      "range(1, 387)\n"
     ]
    }
   ],
   "source": [
    "print (epochs)"
   ]
  },
  {
   "cell_type": "markdown",
   "metadata": {},
   "source": [
    "### Save the model"
   ]
  },
  {
   "cell_type": "code",
   "execution_count": 19,
   "metadata": {},
   "outputs": [],
   "source": [
    "ann.save('End_ANN_model_6.h5')"
   ]
  },
  {
   "cell_type": "markdown",
   "metadata": {},
   "source": [
    "## Part 5 - Make predictions"
   ]
  },
  {
   "cell_type": "code",
   "execution_count": 9,
   "metadata": {},
   "outputs": [],
   "source": [
    "ann = load_model('End_ANN_model_6.h5')"
   ]
  },
  {
   "cell_type": "code",
   "execution_count": 20,
   "metadata": {},
   "outputs": [
    {
     "name": "stdout",
     "output_type": "stream",
     "text": [
      "13/13 [==============================] - 0s 1ms/step\n",
      "3/3 [==============================] - 0s 2ms/step\n"
     ]
    },
    {
     "data": {
      "image/png": "[encoded data removed]",
      "text/plain": [
       "<Figure size 432x288 with 2 Axes>"
      ]
     },
     "metadata": {
      "needs_background": "light"
     },
     "output_type": "display_data"
    }
   ],
   "source": [
    "# scatterplot of actual vs. pred\n",
    "# specify the dimensions \n",
    "fig, axes = plt.subplots(1,2) # 1 row, 2 columns\n",
    "\n",
    "# this makes the individual subplots\n",
    "# Training Results\n",
    "axes[0].scatter(x=y_train, y=ann.predict(X_train)) #first row, first entry (left top)\n",
    "axes[0].set_xlabel(\"Actual\", fontsize=10)\n",
    "axes[0].set_ylabel(\"Predicted\",  fontsize=10)\n",
    "axes[0].set_title(\"Training\")\n",
    "# add 45 deg line\n",
    "x = np.linspace(*axes[0].get_xlim())\n",
    "axes[0].plot(x, x, color='red')\n",
    "# Validation Results\n",
    "axes[1].scatter(x=y_val, y=ann.predict(X_val)) # first row, second entry (right top)\n",
    "axes[1].set_xlabel(\"Actual\", fontsize=10)\n",
    "axes[1].set_ylabel(\"Predicted\",  fontsize=10)\n",
    "axes[1].set_title(\"Validation\")\n",
    "# add 45 deg line\n",
    "x = np.linspace(*axes[1].get_xlim())\n",
    "axes[1].plot(x, x, color='red')\n",
    "\n",
    "# tight layout\n",
    "fig.tight_layout()\n",
    "\n",
    "# show the plot\n",
    "plt.show()"
   ]
  },
  {
   "cell_type": "code",
   "execution_count": 21,
   "metadata": {
    "colab": {
     "base_uri": "https://localhost:8080/",
     "height": 134
    },
    "colab_type": "code",
    "id": "IA0yApEmBG1X",
    "outputId": "cb981e1f-9204-4a2a-fece-9d66a6919189"
   },
   "outputs": [
    {
     "name": "stdout",
     "output_type": "stream",
     "text": [
      "3/3 [==============================] - 0s 2ms/step\n",
      "[[0.1  0.1 ]\n",
      " [0.07 0.07]\n",
      " [0.1  0.1 ]\n",
      " [0.04 0.03]\n",
      " [0.05 0.04]\n",
      " [0.06 0.06]\n",
      " [0.11 0.11]\n",
      " [0.09 0.09]\n",
      " [0.04 0.04]\n",
      " [0.11 0.11]\n",
      " [0.06 0.06]\n",
      " [0.06 0.06]\n",
      " [0.07 0.07]\n",
      " [0.11 0.11]\n",
      " [0.09 0.09]\n",
      " [0.04 0.04]\n",
      " [0.08 0.08]\n",
      " [0.05 0.05]\n",
      " [0.09 0.09]\n",
      " [0.06 0.06]\n",
      " [0.03 0.03]\n",
      " [0.03 0.03]\n",
      " [0.1  0.1 ]\n",
      " [0.12 0.12]\n",
      " [0.03 0.02]\n",
      " [0.08 0.08]\n",
      " [0.04 0.04]\n",
      " [0.04 0.04]\n",
      " [0.11 0.11]\n",
      " [0.1  0.1 ]\n",
      " [0.06 0.06]\n",
      " [0.07 0.07]\n",
      " [0.04 0.04]\n",
      " [0.09 0.08]\n",
      " [0.06 0.05]\n",
      " [0.1  0.1 ]\n",
      " [0.1  0.1 ]\n",
      " [0.06 0.06]\n",
      " [0.05 0.05]\n",
      " [0.04 0.04]\n",
      " [0.09 0.09]\n",
      " [0.1  0.1 ]\n",
      " [0.07 0.07]\n",
      " [0.07 0.07]\n",
      " [0.06 0.06]\n",
      " [0.06 0.06]\n",
      " [0.07 0.07]\n",
      " [0.05 0.05]\n",
      " [0.08 0.08]\n",
      " [0.09 0.09]\n",
      " [0.04 0.04]\n",
      " [0.04 0.04]\n",
      " [0.04 0.04]\n",
      " [0.1  0.1 ]\n",
      " [0.06 0.05]\n",
      " [0.12 0.12]\n",
      " [0.11 0.11]\n",
      " [0.11 0.11]\n",
      " [0.06 0.06]\n",
      " [0.08 0.08]\n",
      " [0.04 0.04]\n",
      " [0.05 0.05]\n",
      " [0.1  0.1 ]\n",
      " [0.04 0.04]\n",
      " [0.09 0.09]\n",
      " [0.1  0.1 ]\n",
      " [0.11 0.11]\n",
      " [0.08 0.08]\n",
      " [0.04 0.05]\n",
      " [0.1  0.1 ]\n",
      " [0.08 0.08]\n",
      " [0.11 0.11]\n",
      " [0.1  0.1 ]\n",
      " [0.11 0.12]\n",
      " [0.1  0.1 ]\n",
      " [0.05 0.05]\n",
      " [0.11 0.11]\n",
      " [0.11 0.11]\n",
      " [0.08 0.08]\n",
      " [0.08 0.08]\n",
      " [0.05 0.05]\n",
      " [0.07 0.07]\n",
      " [0.08 0.08]\n",
      " [0.1  0.1 ]\n",
      " [0.04 0.04]\n",
      " [0.04 0.04]\n",
      " [0.07 0.07]]\n"
     ]
    }
   ],
   "source": [
    "#X_test=np.asarray(X_test).astype(np.int)\n",
    "\n",
    "#y_test=np.asarray(y_test).astype(np.int)\n",
    "\n",
    "y_pred = ann.predict(X_test)\n",
    "np.set_printoptions(precision=2)\n",
    "print(np.concatenate((y_pred.reshape(len(y_pred),1), y_test.reshape(len(y_test),1)),1))"
   ]
  },
  {
   "cell_type": "code",
   "execution_count": 22,
   "metadata": {},
   "outputs": [
    {
     "data": {
      "text/plain": [
       "Text(0, 0.5, 'Predicted data')"
      ]
     },
     "execution_count": 22,
     "metadata": {},
     "output_type": "execute_result"
    },
    {
     "data": {
      "image/png": "[encoded data removed]",
      "text/plain": [
       "<Figure size 432x288 with 1 Axes>"
      ]
     },
     "metadata": {
      "needs_background": "light"
     },
     "output_type": "display_data"
    }
   ],
   "source": [
    "import matplotlib.pyplot as plt\n",
    "plt.scatter(y_test, y_pred, color=\"blue\")\n",
    "plt.plot ([0,0.13],[0,0.13], color = \"red\")\n",
    "plt.axis ([0,0.13,0,0.13])\n",
    "plt.xlabel ('Actual data')\n",
    "plt.ylabel ('Predicted data')"
   ]
  },
  {
   "cell_type": "code",
   "execution_count": 23,
   "metadata": {},
   "outputs": [
    {
     "data": {
      "image/png": "[encoded data removed]",
      "text/plain": [
       "<Figure size 648x648 with 1 Axes>"
      ]
     },
     "metadata": {
      "needs_background": "light"
     },
     "output_type": "display_data"
    }
   ],
   "source": [
    "from sklearn.metrics import r2_score\n",
    "# Initialize layout\n",
    "fig1, ax1 = plt.subplots(figsize = (9, 9))\n",
    "\n",
    "\n",
    "#y = y_pred         # Model on prvious line is called here\n",
    "#x = y_test\n",
    "\n",
    "\n",
    "\n",
    "# Add scatterplot\n",
    "ax1.scatter(y_test, y_pred, s=70, alpha=1, edgecolors=\"k\",c='mediumblue',zorder=5, label = 'Points')\n",
    "\n",
    "\n",
    "plt.ylabel('Predicted Peak Incident Pressure (kPa)',fontsize = 25)\n",
    "plt.xlabel('Actual Peak Incident Pressure (kPa)',fontsize = 25)\n",
    "plt.xticks(fontsize = 19)\n",
    "plt.yticks(fontsize = 19)\n",
    "\n",
    "\n",
    "x1 = np.linspace(0,0.13)\n",
    "\n",
    "plt.plot(x1, x1, 'Red', label='45\\N{DEGREE SIGN} line',lw=2.5,alpha=1)\n",
    "plt.plot(x1, 1.1*x1, '--m', label='\\u00B110% Error',lw=2.5,alpha=0.7)\n",
    "plt.plot(x1, 0.9*x1,'m', linestyle='--',lw=2.5,alpha=0.7)\n",
    "plt.plot(x1, 1.2*x1, '-.g', label='\\u00B120% Error',lw=2.5,alpha=0.7)\n",
    "plt.plot(x1, 0.8*x1,'-.g',lw=2.5,alpha=0.7)\n",
    "\n",
    "plt.ylim(0, 0.13)\n",
    "plt.xlim(0, 0.13)\n",
    "plt.legend(loc='upper left',fontsize = 25)\n",
    "\n",
    "plt.grid()\n",
    "\n",
    "ax1.spines['left'].set_color('black')        # setting up Y-axis tick color to red\n",
    "ax1.spines['bottom'].set_color('black')         #setting up above X-axis tick color to red\n",
    "\n",
    "\n",
    "\n",
    "#ax1.annotate(\"$R^2$ = {:.3f}\".format(r2), (2500, 1000),fontsize = 25)  #Model is called here\n",
    "#ax1.annotate(\"Adj.$R^2$ = {:.3f}\".format(adj_r2), (2500, 750),fontsize = 25)\n",
    "\n",
    "#plt.savefig('plot1.png', dpi = 600, bbox_inches = 'tight')"
   ]
  },
  {
   "cell_type": "code",
   "execution_count": 24,
   "metadata": {},
   "outputs": [
    {
     "name": "stdout",
     "output_type": "stream",
     "text": [
      "13/13 [==============================] - 0s 2ms/step\n",
      "0.0015360867585725738\n",
      "0.0017091962027872966\n"
     ]
    }
   ],
   "source": [
    "# metrics\n",
    "\n",
    "\n",
    "trainpreds = ann.predict(X_train)\n",
    "\n",
    "from sklearn.metrics import mean_absolute_error\n",
    "print(mean_absolute_error(y_train, trainpreds)) # train\n",
    "print(mean_absolute_error(y_test, y_pred)) # test"
   ]
  },
  {
   "cell_type": "code",
   "execution_count": 25,
   "metadata": {},
   "outputs": [
    {
     "name": "stdout",
     "output_type": "stream",
     "text": [
      "0.9935515869956414\n"
     ]
    }
   ],
   "source": [
    "from sklearn.metrics import r2_score\n",
    "r2 = r2_score(y_test, y_pred)\n",
    "print (r2)"
   ]
  },
  {
   "cell_type": "code",
   "execution_count": 26,
   "metadata": {},
   "outputs": [
    {
     "name": "stdout",
     "output_type": "stream",
     "text": [
      "0.9945304083939845\n"
     ]
    }
   ],
   "source": [
    "r2_train = r2_score(y_train, trainpreds)\n",
    "print (r2_train)"
   ]
  },
  {
   "cell_type": "code",
   "execution_count": 27,
   "metadata": {},
   "outputs": [
    {
     "name": "stdout",
     "output_type": "stream",
     "text": [
      "Within 10% margin 94.25%\n",
      "Within 20% margin 98.85%\n",
      "Out of 20% margin 1.15%\n"
     ]
    }
   ],
   "source": [
    "count1 = 0\n",
    "for i in range(len(y_pred)):\n",
    "    line1 = y_pred[i] - 0.9*y_test[i]\n",
    "    line2 = y_pred[i] - 1.1*y_test[i]\n",
    "    #print ('line 1 ', line1)\n",
    "    #print ('line 2 ', line2)\n",
    "    mask1 = (line1 > 0) & (line2 < 0)\n",
    "    #print (mask)\n",
    "    count1 = np.sum(mask1+count1)\n",
    "    #print (count)\n",
    "\n",
    "count2 = 0\n",
    "for j in range(len(y_pred)):\n",
    "    line3 = y_pred[j] - 0.8*y_test[j]\n",
    "    line4 = y_pred[j] - 1.2*y_test[j]\n",
    "    mask2 = (line3 > 0) & (line4 < 0)\n",
    "    count2 = np.sum(mask2+count2)\n",
    "\n",
    "\n",
    "count3 = 0    \n",
    "for k in range(len(y_pred)):\n",
    "    line5 = y_pred[k] - 0.8*y_test[k]\n",
    "    line6 = y_pred[k] - 1.2*y_test[k]\n",
    "    mask3 = (line5 < 0) or (line6 > 0)\n",
    "    count3 = np.sum(mask3+count3)\n",
    "   \n",
    "\n",
    "print ('Within 10% margin', format((count1/len (y_pred)),'.2%'))\n",
    "print ('Within 20% margin', format((count2/len (y_pred)),'.2%'))\n",
    "print ('Out of 20% margin', format((count3/len (y_pred)),'.2%'))"
   ]
  },
  {
   "cell_type": "code",
   "execution_count": 28,
   "metadata": {},
   "outputs": [
    {
     "name": "stdout",
     "output_type": "stream",
     "text": [
      "0.9933980533526805\n"
     ]
    }
   ],
   "source": [
    "adj_r2 = 1 - ((1 - r2) * (len(X_test) - 1) / (len(X_test) - len (X_test[0]) - 1))\n",
    "print (adj_r2)"
   ]
  },
  {
   "cell_type": "code",
   "execution_count": 29,
   "metadata": {},
   "outputs": [
    {
     "data": {
      "text/plain": [
       "0.0021378191793317578"
      ]
     },
     "execution_count": 29,
     "metadata": {},
     "output_type": "execute_result"
    }
   ],
   "source": [
    "import math\n",
    "from sklearn.metrics import mean_squared_error\n",
    "\n",
    "math.sqrt(mean_squared_error(y_test, y_pred))"
   ]
  },
  {
   "cell_type": "code",
   "execution_count": 30,
   "metadata": {},
   "outputs": [
    {
     "data": {
      "text/plain": [
       "0.0017091962027872966"
      ]
     },
     "execution_count": 30,
     "metadata": {},
     "output_type": "execute_result"
    }
   ],
   "source": [
    "from sklearn.metrics import mean_absolute_error\n",
    "\n",
    "mean_absolute_error(y_test, y_pred)"
   ]
  }
 ],
 "metadata": {
  "colab": {
   "collapsed_sections": [],
   "name": "Artificial Neural Network",
   "provenance": [],
   "toc_visible": true
  },
  "kernelspec": {
   "display_name": "Python 3 (ipykernel)",
   "language": "python",
   "name": "python3"
  },
  "language_info": {
   "codemirror_mode": {
    "name": "ipython",
    "version": 3
   },
   "file_extension": ".py",
   "mimetype": "text/x-python",
   "name": "python",
   "nbconvert_exporter": "python",
   "pygments_lexer": "ipython3",
   "version": "3.9.7"
  }
 },
 "nbformat": 4,
 "nbformat_minor": 4
}
