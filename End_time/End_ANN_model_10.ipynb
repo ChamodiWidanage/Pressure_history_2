{
 "cells": [
  {
   "cell_type": "markdown",
   "metadata": {
    "colab_type": "text",
    "id": "3cbb7fRy-eyr"
   },
   "source": [
    "# Artificial Neural Network"
   ]
  },
  {
   "cell_type": "markdown",
   "metadata": {
    "colab_type": "text",
    "id": "8sNDnxE2-pwE"
   },
   "source": [
    "## Part 1 - Importing the libraries"
   ]
  },
  {
   "cell_type": "code",
   "execution_count": 1,
   "metadata": {
    "colab": {},
    "colab_type": "code",
    "id": "lxChR1Rk-umf"
   },
   "outputs": [],
   "source": [
    "import numpy as np\n",
    "import pandas as pd\n",
    "import tensorflow as tf"
   ]
  },
  {
   "cell_type": "markdown",
   "metadata": {
    "colab_type": "text",
    "id": "AG3FQEch-yuA"
   },
   "source": [
    "## Part 2 - Data Preprocessing"
   ]
  },
  {
   "cell_type": "markdown",
   "metadata": {
    "colab_type": "text",
    "id": "-4zq8Mza_D9O"
   },
   "source": [
    "### Importing the dataset"
   ]
  },
  {
   "cell_type": "code",
   "execution_count": 2,
   "metadata": {
    "colab": {},
    "colab_type": "code",
    "id": "B9CV13Co_HHM"
   },
   "outputs": [
    {
     "name": "stdout",
     "output_type": "stream",
     "text": [
      "<class 'pandas.core.frame.DataFrame'>\n",
      "RangeIndex: 576 entries, 0 to 575\n",
      "Data columns (total 4 columns):\n",
      " #   Column             Non-Null Count  Dtype  \n",
      "---  ------             --------------  -----  \n",
      " 0   Charge_mass        576 non-null    float64\n",
      " 1   Standoff_distance  576 non-null    int64  \n",
      " 2   End_time           576 non-null    float64\n",
      " 3   End_index          576 non-null    int64  \n",
      "dtypes: float64(2), int64(2)\n",
      "memory usage: 18.1 KB\n"
     ]
    }
   ],
   "source": [
    "dataset = pd.read_excel('End_time.xlsx')\n",
    "dataset.info()"
   ]
  },
  {
   "cell_type": "code",
   "execution_count": 4,
   "metadata": {},
   "outputs": [
    {
     "data": {
      "text/html": [
       "<div>\n",
       "<style scoped>\n",
       "    .dataframe tbody tr th:only-of-type {\n",
       "        vertical-align: middle;\n",
       "    }\n",
       "\n",
       "    .dataframe tbody tr th {\n",
       "        vertical-align: top;\n",
       "    }\n",
       "\n",
       "    .dataframe thead th {\n",
       "        text-align: right;\n",
       "    }\n",
       "</style>\n",
       "<table border=\"1\" class=\"dataframe\">\n",
       "  <thead>\n",
       "    <tr style=\"text-align: right;\">\n",
       "      <th></th>\n",
       "      <th>Charge_mass</th>\n",
       "      <th>Standoff_distance</th>\n",
       "      <th>End_time</th>\n",
       "      <th>End_index</th>\n",
       "    </tr>\n",
       "  </thead>\n",
       "  <tbody>\n",
       "    <tr>\n",
       "      <th>0</th>\n",
       "      <td>0.5</td>\n",
       "      <td>1</td>\n",
       "      <td>0.01104</td>\n",
       "      <td>1106</td>\n",
       "    </tr>\n",
       "    <tr>\n",
       "      <th>1</th>\n",
       "      <td>0.5</td>\n",
       "      <td>7</td>\n",
       "      <td>0.02850</td>\n",
       "      <td>2852</td>\n",
       "    </tr>\n",
       "    <tr>\n",
       "      <th>2</th>\n",
       "      <td>0.5</td>\n",
       "      <td>9</td>\n",
       "      <td>0.03447</td>\n",
       "      <td>3449</td>\n",
       "    </tr>\n",
       "    <tr>\n",
       "      <th>3</th>\n",
       "      <td>0.5</td>\n",
       "      <td>11</td>\n",
       "      <td>0.04046</td>\n",
       "      <td>4048</td>\n",
       "    </tr>\n",
       "    <tr>\n",
       "      <th>4</th>\n",
       "      <td>0.5</td>\n",
       "      <td>13</td>\n",
       "      <td>0.04644</td>\n",
       "      <td>4646</td>\n",
       "    </tr>\n",
       "  </tbody>\n",
       "</table>\n",
       "</div>"
      ],
      "text/plain": [
       "   Charge_mass  Standoff_distance  End_time  End_index\n",
       "0          0.5                  1   0.01104       1106\n",
       "1          0.5                  7   0.02850       2852\n",
       "2          0.5                  9   0.03447       3449\n",
       "3          0.5                 11   0.04046       4048\n",
       "4          0.5                 13   0.04644       4646"
      ]
     },
     "execution_count": 4,
     "metadata": {},
     "output_type": "execute_result"
    }
   ],
   "source": [
    "dataset.head()"
   ]
  },
  {
   "cell_type": "code",
   "execution_count": 3,
   "metadata": {},
   "outputs": [
    {
     "name": "stdout",
     "output_type": "stream",
     "text": [
      "(576, 2) (576,)\n"
     ]
    }
   ],
   "source": [
    "y = dataset['End_time']\n",
    "X = dataset.drop(['End_time','End_index'], axis=1)\n",
    "print(X.shape, y.shape)"
   ]
  },
  {
   "cell_type": "code",
   "execution_count": 4,
   "metadata": {},
   "outputs": [],
   "source": [
    "# convert to numpy array\n",
    "X = np.array(X)\n",
    "y = np.array(y)"
   ]
  },
  {
   "cell_type": "markdown",
   "metadata": {
    "colab_type": "text",
    "id": "VC6omXel_Up0"
   },
   "source": [
    "### Splitting the dataset into the Training set and Test set"
   ]
  },
  {
   "cell_type": "code",
   "execution_count": 5,
   "metadata": {
    "colab": {},
    "colab_type": "code",
    "id": "L5edeb2r_agx"
   },
   "outputs": [],
   "source": [
    "from sklearn.model_selection import train_test_split\n",
    "X_train, X_test, y_train, y_test = train_test_split(X,\n",
    "                                                    y,\n",
    "                                                    test_size = 0.3,\n",
    "                                                    random_state = 0)"
   ]
  },
  {
   "cell_type": "code",
   "execution_count": 6,
   "metadata": {
    "colab": {},
    "colab_type": "code",
    "id": "L5edeb2r_agx"
   },
   "outputs": [],
   "source": [
    "X_val, X_test, y_val, y_test = train_test_split(X_test,\n",
    "                                                y_test,\n",
    "                                                test_size = 0.5,\n",
    "                                                random_state = 0)"
   ]
  },
  {
   "cell_type": "markdown",
   "metadata": {
    "colab_type": "text",
    "id": "_mSLlAT9_eyI"
   },
   "source": [
    "## Part 3 - Building the ANN"
   ]
  },
  {
   "cell_type": "markdown",
   "metadata": {
    "colab_type": "text",
    "id": "CsBULd_f_wLY"
   },
   "source": [
    "### Initializing the ANN"
   ]
  },
  {
   "cell_type": "code",
   "execution_count": 7,
   "metadata": {
    "colab": {},
    "colab_type": "code",
    "id": "J6Hd97Ls__Nz"
   },
   "outputs": [],
   "source": [
    "ann = tf.keras.models.Sequential()"
   ]
  },
  {
   "cell_type": "markdown",
   "metadata": {
    "colab_type": "text",
    "id": "iitAFJS_ABUn"
   },
   "source": [
    "### Adding the input layer and the first hidden layer"
   ]
  },
  {
   "cell_type": "code",
   "execution_count": 8,
   "metadata": {
    "colab": {},
    "colab_type": "code",
    "id": "ksO_Vv40AHix"
   },
   "outputs": [],
   "source": [
    "ann.add(tf.keras.layers.Dense(units=65,\n",
    "                              input_shape=(X_train.shape[1],),\n",
    "                              activation='relu'))"
   ]
  },
  {
   "cell_type": "markdown",
   "metadata": {
    "colab_type": "text",
    "id": "-lb4kK_wAKbs"
   },
   "source": [
    "### Adding the second hidden layer"
   ]
  },
  {
   "cell_type": "code",
   "execution_count": 9,
   "metadata": {
    "colab": {},
    "colab_type": "code",
    "id": "c2357OqEAQOQ",
    "tags": []
   },
   "outputs": [],
   "source": [
    "ann.add(tf.keras.layers.Dense(units=48,\n",
    "                              activation='relu'))"
   ]
  },
  {
   "cell_type": "markdown",
   "metadata": {
    "colab_type": "text",
    "id": "-lb4kK_wAKbs"
   },
   "source": [
    "### Adding the third hidden layer"
   ]
  },
  {
   "cell_type": "code",
   "execution_count": 10,
   "metadata": {
    "colab": {},
    "colab_type": "code",
    "id": "c2357OqEAQOQ",
    "tags": []
   },
   "outputs": [],
   "source": [
    "ann.add(tf.keras.layers.Dense(units=30,\n",
    "                              activation='relu'))"
   ]
  },
  {
   "cell_type": "markdown",
   "metadata": {
    "colab_type": "text",
    "id": "jwMOmKb3AdBY"
   },
   "source": [
    "### Adding the output layer"
   ]
  },
  {
   "cell_type": "code",
   "execution_count": 11,
   "metadata": {
    "colab": {},
    "colab_type": "code",
    "id": "YFATpzsUAkLL"
   },
   "outputs": [],
   "source": [
    "ann.add(tf.keras.layers.Dense(units=1,\n",
    "                              activation='linear'))"
   ]
  },
  {
   "cell_type": "markdown",
   "metadata": {},
   "source": [
    "### what model looks like"
   ]
  },
  {
   "cell_type": "code",
   "execution_count": 12,
   "metadata": {},
   "outputs": [
    {
     "name": "stdout",
     "output_type": "stream",
     "text": [
      "Model: \"sequential\"\n",
      "_________________________________________________________________\n",
      " Layer (type)                Output Shape              Param #   \n",
      "=================================================================\n",
      " dense (Dense)               (None, 65)                195       \n",
      "                                                                 \n",
      " dense_1 (Dense)             (None, 48)                3168      \n",
      "                                                                 \n",
      " dense_2 (Dense)             (None, 30)                1470      \n",
      "                                                                 \n",
      " dense_3 (Dense)             (None, 1)                 31        \n",
      "                                                                 \n",
      "=================================================================\n",
      "Total params: 4,864\n",
      "Trainable params: 4,864\n",
      "Non-trainable params: 0\n",
      "_________________________________________________________________\n"
     ]
    }
   ],
   "source": [
    "ann.summary()"
   ]
  },
  {
   "cell_type": "markdown",
   "metadata": {
    "colab_type": "text",
    "id": "fq7e4fF6A1yy"
   },
   "source": [
    "## Part 4 - Training the ANN"
   ]
  },
  {
   "cell_type": "markdown",
   "metadata": {
    "colab_type": "text",
    "id": "qDeylAs2An25"
   },
   "source": [
    "### Compiling the ANN"
   ]
  },
  {
   "cell_type": "code",
   "execution_count": 13,
   "metadata": {
    "colab": {},
    "colab_type": "code",
    "id": "pesgbWlCAtB4"
   },
   "outputs": [],
   "source": [
    "from tensorflow.keras.optimizers import Adam\n",
    "opt = Adam(learning_rate=0.001)\n",
    "ann.compile(optimizer = opt,\n",
    "            loss = 'mean_squared_error',\n",
    "            metrics = ['mae'])"
   ]
  },
  {
   "cell_type": "markdown",
   "metadata": {},
   "source": [
    "### early stopping callback"
   ]
  },
  {
   "cell_type": "code",
   "execution_count": 14,
   "metadata": {},
   "outputs": [],
   "source": [
    "# protects from unnecessary further training of the model if a particular metric does not continue to improve over a number of n epochs. In such a case, the model training would be automatically aborted.\n",
    "from keras.callbacks import EarlyStopping\n",
    "es = EarlyStopping(monitor='val_loss',\n",
    "                   mode='min',\n",
    "                   patience=50,\n",
    "                   restore_best_weights = True)"
   ]
  },
  {
   "cell_type": "markdown",
   "metadata": {
    "colab_type": "text",
    "id": "YjVuiybYOo7r"
   },
   "source": [
    "### Training the ANN model on the Training set"
   ]
  },
  {
   "cell_type": "code",
   "execution_count": 15,
   "metadata": {
    "colab": {
     "base_uri": "https://localhost:8080/",
     "height": 1000
    },
    "colab_type": "code",
    "id": "c_vV-tiiA5zn",
    "outputId": "4a2b6ee6-ed75-4698-9069-b250e613803f"
   },
   "outputs": [
    {
     "name": "stdout",
     "output_type": "stream",
     "text": [
      "Epoch 1/500\n",
      "9/9 [==============================] - 1s 37ms/step - loss: 10.3309 - mae: 2.4787 - val_loss: 2.6755 - val_mae: 1.4153\n",
      "Epoch 2/500\n",
      "9/9 [==============================] - 0s 8ms/step - loss: 2.1264 - mae: 1.2060 - val_loss: 0.4151 - val_mae: 0.5386\n",
      "Epoch 3/500\n",
      "9/9 [==============================] - 0s 5ms/step - loss: 0.3033 - mae: 0.4335 - val_loss: 0.3736 - val_mae: 0.5073\n",
      "Epoch 4/500\n",
      "9/9 [==============================] - 0s 6ms/step - loss: 0.2238 - mae: 0.3529 - val_loss: 0.1688 - val_mae: 0.3517\n",
      "Epoch 5/500\n",
      "9/9 [==============================] - 0s 6ms/step - loss: 0.1320 - mae: 0.2936 - val_loss: 0.0441 - val_mae: 0.1693\n",
      "Epoch 6/500\n",
      "9/9 [==============================] - 0s 6ms/step - loss: 0.0410 - mae: 0.1563 - val_loss: 0.0262 - val_mae: 0.1309\n",
      "Epoch 7/500\n",
      "9/9 [==============================] - 0s 5ms/step - loss: 0.0100 - mae: 0.0784 - val_loss: 0.0127 - val_mae: 0.0983\n",
      "Epoch 8/500\n",
      "9/9 [==============================] - 0s 6ms/step - loss: 0.0074 - mae: 0.0685 - val_loss: 0.0052 - val_mae: 0.0512\n",
      "Epoch 9/500\n",
      "9/9 [==============================] - 0s 5ms/step - loss: 0.0031 - mae: 0.0417 - val_loss: 0.0020 - val_mae: 0.0392\n",
      "Epoch 10/500\n",
      "9/9 [==============================] - 0s 6ms/step - loss: 0.0029 - mae: 0.0458 - val_loss: 0.0020 - val_mae: 0.0345\n",
      "Epoch 11/500\n",
      "9/9 [==============================] - 0s 6ms/step - loss: 0.0021 - mae: 0.0349 - val_loss: 0.0020 - val_mae: 0.0333\n",
      "Epoch 12/500\n",
      "9/9 [==============================] - 0s 6ms/step - loss: 0.0014 - mae: 0.0313 - val_loss: 0.0015 - val_mae: 0.0317\n",
      "Epoch 13/500\n",
      "9/9 [==============================] - 0s 6ms/step - loss: 0.0012 - mae: 0.0288 - val_loss: 0.0018 - val_mae: 0.0300\n",
      "Epoch 14/500\n",
      "9/9 [==============================] - 0s 6ms/step - loss: 0.0012 - mae: 0.0267 - val_loss: 0.0013 - val_mae: 0.0301\n",
      "Epoch 15/500\n",
      "9/9 [==============================] - 0s 6ms/step - loss: 0.0011 - mae: 0.0282 - val_loss: 0.0014 - val_mae: 0.0269\n",
      "Epoch 16/500\n",
      "9/9 [==============================] - 0s 7ms/step - loss: 9.9215e-04 - mae: 0.0252 - val_loss: 0.0011 - val_mae: 0.0264\n",
      "Epoch 17/500\n",
      "9/9 [==============================] - 0s 6ms/step - loss: 9.7202e-04 - mae: 0.0258 - val_loss: 0.0012 - val_mae: 0.0253\n",
      "Epoch 18/500\n",
      "9/9 [==============================] - 0s 7ms/step - loss: 9.0216e-04 - mae: 0.0234 - val_loss: 9.5094e-04 - val_mae: 0.0247\n",
      "Epoch 19/500\n",
      "9/9 [==============================] - 0s 6ms/step - loss: 8.2784e-04 - mae: 0.0238 - val_loss: 0.0010 - val_mae: 0.0237\n",
      "Epoch 20/500\n",
      "9/9 [==============================] - 0s 6ms/step - loss: 7.7338e-04 - mae: 0.0223 - val_loss: 8.5028e-04 - val_mae: 0.0231\n",
      "Epoch 21/500\n",
      "9/9 [==============================] - 0s 6ms/step - loss: 7.2494e-04 - mae: 0.0219 - val_loss: 9.2224e-04 - val_mae: 0.0226\n",
      "Epoch 22/500\n",
      "9/9 [==============================] - 0s 6ms/step - loss: 7.3470e-04 - mae: 0.0211 - val_loss: 7.4925e-04 - val_mae: 0.0234\n",
      "Epoch 23/500\n",
      "9/9 [==============================] - 0s 6ms/step - loss: 7.1408e-04 - mae: 0.0222 - val_loss: 8.5844e-04 - val_mae: 0.0217\n",
      "Epoch 24/500\n",
      "9/9 [==============================] - 0s 7ms/step - loss: 6.6273e-04 - mae: 0.0203 - val_loss: 6.8760e-04 - val_mae: 0.0225\n",
      "Epoch 25/500\n",
      "9/9 [==============================] - 0s 6ms/step - loss: 6.4716e-04 - mae: 0.0209 - val_loss: 8.3286e-04 - val_mae: 0.0212\n",
      "Epoch 26/500\n",
      "9/9 [==============================] - 0s 6ms/step - loss: 6.3927e-04 - mae: 0.0199 - val_loss: 6.5210e-04 - val_mae: 0.0206\n",
      "Epoch 27/500\n",
      "9/9 [==============================] - 0s 5ms/step - loss: 5.9261e-04 - mae: 0.0194 - val_loss: 6.5285e-04 - val_mae: 0.0203\n",
      "Epoch 28/500\n",
      "9/9 [==============================] - 0s 6ms/step - loss: 5.6337e-04 - mae: 0.0190 - val_loss: 6.3257e-04 - val_mae: 0.0196\n",
      "Epoch 29/500\n",
      "9/9 [==============================] - 0s 7ms/step - loss: 5.5268e-04 - mae: 0.0186 - val_loss: 5.8149e-04 - val_mae: 0.0194\n",
      "Epoch 30/500\n",
      "9/9 [==============================] - 0s 7ms/step - loss: 5.3225e-04 - mae: 0.0185 - val_loss: 5.8502e-04 - val_mae: 0.0191\n",
      "Epoch 31/500\n",
      "9/9 [==============================] - 0s 7ms/step - loss: 5.2007e-04 - mae: 0.0182 - val_loss: 5.2797e-04 - val_mae: 0.0190\n",
      "Epoch 32/500\n",
      "9/9 [==============================] - 0s 6ms/step - loss: 5.1629e-04 - mae: 0.0185 - val_loss: 5.4534e-04 - val_mae: 0.0189\n",
      "Epoch 33/500\n",
      "9/9 [==============================] - 0s 6ms/step - loss: 5.1201e-04 - mae: 0.0183 - val_loss: 6.0578e-04 - val_mae: 0.0191\n",
      "Epoch 34/500\n",
      "9/9 [==============================] - 0s 6ms/step - loss: 4.9793e-04 - mae: 0.0177 - val_loss: 4.9547e-04 - val_mae: 0.0188\n",
      "Epoch 35/500\n",
      "9/9 [==============================] - 0s 9ms/step - loss: 4.9871e-04 - mae: 0.0180 - val_loss: 6.4814e-04 - val_mae: 0.0188\n",
      "Epoch 36/500\n",
      "9/9 [==============================] - 0s 7ms/step - loss: 4.7411e-04 - mae: 0.0172 - val_loss: 5.0358e-04 - val_mae: 0.0191\n",
      "Epoch 37/500\n",
      "9/9 [==============================] - 0s 6ms/step - loss: 5.0684e-04 - mae: 0.0184 - val_loss: 7.4174e-04 - val_mae: 0.0199\n",
      "Epoch 38/500\n",
      "9/9 [==============================] - 0s 6ms/step - loss: 4.7636e-04 - mae: 0.0174 - val_loss: 4.4190e-04 - val_mae: 0.0180\n",
      "Epoch 39/500\n",
      "9/9 [==============================] - 0s 6ms/step - loss: 4.3224e-04 - mae: 0.0168 - val_loss: 4.2567e-04 - val_mae: 0.0173\n",
      "Epoch 40/500\n",
      "9/9 [==============================] - 0s 6ms/step - loss: 4.6138e-04 - mae: 0.0175 - val_loss: 5.5004e-04 - val_mae: 0.0175\n",
      "Epoch 41/500\n",
      "9/9 [==============================] - 0s 5ms/step - loss: 4.2779e-04 - mae: 0.0167 - val_loss: 4.1087e-04 - val_mae: 0.0164\n",
      "Epoch 42/500\n",
      "9/9 [==============================] - 0s 6ms/step - loss: 3.9027e-04 - mae: 0.0157 - val_loss: 4.1298e-04 - val_mae: 0.0165\n",
      "Epoch 43/500\n",
      "9/9 [==============================] - 0s 5ms/step - loss: 3.7683e-04 - mae: 0.0157 - val_loss: 4.1365e-04 - val_mae: 0.0161\n",
      "Epoch 44/500\n",
      "9/9 [==============================] - 0s 7ms/step - loss: 3.6702e-04 - mae: 0.0154 - val_loss: 3.9054e-04 - val_mae: 0.0157\n",
      "Epoch 45/500\n",
      "9/9 [==============================] - 0s 6ms/step - loss: 3.5865e-04 - mae: 0.0154 - val_loss: 4.1517e-04 - val_mae: 0.0157\n",
      "Epoch 46/500\n",
      "9/9 [==============================] - 0s 6ms/step - loss: 3.4677e-04 - mae: 0.0148 - val_loss: 3.7564e-04 - val_mae: 0.0163\n",
      "Epoch 47/500\n",
      "9/9 [==============================] - 0s 6ms/step - loss: 3.7179e-04 - mae: 0.0156 - val_loss: 3.7288e-04 - val_mae: 0.0151\n",
      "Epoch 48/500\n",
      "9/9 [==============================] - 0s 6ms/step - loss: 3.4551e-04 - mae: 0.0149 - val_loss: 4.9174e-04 - val_mae: 0.0163\n",
      "Epoch 49/500\n",
      "9/9 [==============================] - 0s 6ms/step - loss: 3.5250e-04 - mae: 0.0147 - val_loss: 3.4668e-04 - val_mae: 0.0157\n",
      "Epoch 50/500\n",
      "9/9 [==============================] - 0s 5ms/step - loss: 3.7405e-04 - mae: 0.0151 - val_loss: 3.5346e-04 - val_mae: 0.0159\n",
      "Epoch 51/500\n",
      "9/9 [==============================] - 0s 6ms/step - loss: 3.3378e-04 - mae: 0.0147 - val_loss: 3.9479e-04 - val_mae: 0.0146\n",
      "Epoch 52/500\n",
      "9/9 [==============================] - 0s 6ms/step - loss: 3.2692e-04 - mae: 0.0147 - val_loss: 3.4165e-04 - val_mae: 0.0144\n",
      "Epoch 53/500\n",
      "9/9 [==============================] - 0s 7ms/step - loss: 2.9084e-04 - mae: 0.0135 - val_loss: 2.9873e-04 - val_mae: 0.0142\n",
      "Epoch 54/500\n",
      "9/9 [==============================] - 0s 6ms/step - loss: 2.8015e-04 - mae: 0.0135 - val_loss: 3.8080e-04 - val_mae: 0.0144\n",
      "Epoch 55/500\n",
      "9/9 [==============================] - 0s 7ms/step - loss: 3.0815e-04 - mae: 0.0138 - val_loss: 2.8321e-04 - val_mae: 0.0135\n",
      "Epoch 56/500\n",
      "9/9 [==============================] - 0s 6ms/step - loss: 2.6671e-04 - mae: 0.0130 - val_loss: 2.7666e-04 - val_mae: 0.0135\n",
      "Epoch 57/500\n",
      "9/9 [==============================] - 0s 6ms/step - loss: 2.5828e-04 - mae: 0.0129 - val_loss: 2.7933e-04 - val_mae: 0.0130\n",
      "Epoch 58/500\n",
      "9/9 [==============================] - 0s 6ms/step - loss: 2.5329e-04 - mae: 0.0127 - val_loss: 2.9379e-04 - val_mae: 0.0130\n",
      "Epoch 59/500\n",
      "9/9 [==============================] - 0s 5ms/step - loss: 2.5459e-04 - mae: 0.0126 - val_loss: 3.2850e-04 - val_mae: 0.0138\n",
      "Epoch 60/500\n",
      "9/9 [==============================] - 0s 7ms/step - loss: 2.7208e-04 - mae: 0.0128 - val_loss: 2.9372e-04 - val_mae: 0.0148\n",
      "Epoch 61/500\n",
      "9/9 [==============================] - 0s 6ms/step - loss: 2.6135e-04 - mae: 0.0129 - val_loss: 2.4158e-04 - val_mae: 0.0129\n",
      "Epoch 62/500\n",
      "9/9 [==============================] - 0s 6ms/step - loss: 2.5467e-04 - mae: 0.0128 - val_loss: 4.3863e-04 - val_mae: 0.0160\n",
      "Epoch 63/500\n",
      "9/9 [==============================] - 0s 6ms/step - loss: 2.4951e-04 - mae: 0.0124 - val_loss: 2.1893e-04 - val_mae: 0.0121\n",
      "Epoch 64/500\n",
      "9/9 [==============================] - 0s 6ms/step - loss: 2.2462e-04 - mae: 0.0117 - val_loss: 2.3580e-04 - val_mae: 0.0130\n",
      "Epoch 65/500\n",
      "9/9 [==============================] - 0s 6ms/step - loss: 2.3852e-04 - mae: 0.0123 - val_loss: 2.3758e-04 - val_mae: 0.0114\n",
      "Epoch 66/500\n",
      "9/9 [==============================] - 0s 6ms/step - loss: 2.1761e-04 - mae: 0.0117 - val_loss: 2.3339e-04 - val_mae: 0.0120\n",
      "Epoch 67/500\n",
      "9/9 [==============================] - 0s 6ms/step - loss: 2.0435e-04 - mae: 0.0114 - val_loss: 1.8553e-04 - val_mae: 0.0112\n",
      "Epoch 68/500\n",
      "9/9 [==============================] - 0s 5ms/step - loss: 1.7876e-04 - mae: 0.0106 - val_loss: 1.9801e-04 - val_mae: 0.0109\n",
      "Epoch 69/500\n",
      "9/9 [==============================] - 0s 7ms/step - loss: 1.7812e-04 - mae: 0.0105 - val_loss: 1.6427e-04 - val_mae: 0.0104\n",
      "Epoch 70/500\n",
      "9/9 [==============================] - 0s 6ms/step - loss: 1.7552e-04 - mae: 0.0105 - val_loss: 1.9455e-04 - val_mae: 0.0112\n",
      "Epoch 71/500\n",
      "9/9 [==============================] - 0s 6ms/step - loss: 2.2706e-04 - mae: 0.0119 - val_loss: 1.7326e-04 - val_mae: 0.0103\n",
      "Epoch 72/500\n",
      "9/9 [==============================] - 0s 6ms/step - loss: 1.5653e-04 - mae: 0.0098 - val_loss: 1.6694e-04 - val_mae: 0.0101\n",
      "Epoch 73/500\n",
      "9/9 [==============================] - 0s 8ms/step - loss: 1.5316e-04 - mae: 0.0097 - val_loss: 1.3620e-04 - val_mae: 0.0094\n",
      "Epoch 74/500\n",
      "9/9 [==============================] - 0s 6ms/step - loss: 1.4608e-04 - mae: 0.0096 - val_loss: 1.3275e-04 - val_mae: 0.0090\n",
      "Epoch 75/500\n",
      "9/9 [==============================] - 0s 7ms/step - loss: 1.4472e-04 - mae: 0.0092 - val_loss: 1.2091e-04 - val_mae: 0.0085\n",
      "Epoch 76/500\n",
      "9/9 [==============================] - 0s 6ms/step - loss: 1.3343e-04 - mae: 0.0090 - val_loss: 1.1935e-04 - val_mae: 0.0087\n",
      "Epoch 77/500\n",
      "9/9 [==============================] - 0s 5ms/step - loss: 1.3451e-04 - mae: 0.0090 - val_loss: 1.2695e-04 - val_mae: 0.0092\n",
      "Epoch 78/500\n",
      "9/9 [==============================] - 0s 6ms/step - loss: 1.4006e-04 - mae: 0.0091 - val_loss: 1.0984e-04 - val_mae: 0.0084\n",
      "Epoch 79/500\n",
      "9/9 [==============================] - 0s 6ms/step - loss: 1.4419e-04 - mae: 0.0093 - val_loss: 1.3066e-04 - val_mae: 0.0092\n",
      "Epoch 80/500\n",
      "9/9 [==============================] - 0s 11ms/step - loss: 1.3627e-04 - mae: 0.0092 - val_loss: 1.1618e-04 - val_mae: 0.0085\n",
      "Epoch 81/500\n",
      "9/9 [==============================] - 0s 7ms/step - loss: 1.4243e-04 - mae: 0.0090 - val_loss: 1.6667e-04 - val_mae: 0.0103\n",
      "Epoch 82/500\n",
      "9/9 [==============================] - 0s 6ms/step - loss: 1.4271e-04 - mae: 0.0091 - val_loss: 9.8851e-05 - val_mae: 0.0078\n",
      "Epoch 83/500\n",
      "9/9 [==============================] - 0s 7ms/step - loss: 1.2971e-04 - mae: 0.0089 - val_loss: 1.1610e-04 - val_mae: 0.0086\n",
      "Epoch 84/500\n",
      "9/9 [==============================] - 0s 7ms/step - loss: 1.1551e-04 - mae: 0.0084 - val_loss: 1.0790e-04 - val_mae: 0.0084\n",
      "Epoch 85/500\n",
      "9/9 [==============================] - 0s 8ms/step - loss: 1.1378e-04 - mae: 0.0083 - val_loss: 9.3285e-05 - val_mae: 0.0076\n",
      "Epoch 86/500\n",
      "9/9 [==============================] - 0s 9ms/step - loss: 1.1168e-04 - mae: 0.0082 - val_loss: 9.0660e-05 - val_mae: 0.0075\n",
      "Epoch 87/500\n",
      "9/9 [==============================] - 0s 6ms/step - loss: 1.1245e-04 - mae: 0.0081 - val_loss: 1.3264e-04 - val_mae: 0.0093\n",
      "Epoch 88/500\n",
      "9/9 [==============================] - 0s 6ms/step - loss: 1.3470e-04 - mae: 0.0092 - val_loss: 1.0086e-04 - val_mae: 0.0080\n",
      "Epoch 89/500\n",
      "9/9 [==============================] - 0s 6ms/step - loss: 1.3370e-04 - mae: 0.0089 - val_loss: 1.0224e-04 - val_mae: 0.0082\n",
      "Epoch 90/500\n",
      "9/9 [==============================] - 0s 6ms/step - loss: 1.1133e-04 - mae: 0.0083 - val_loss: 8.2336e-05 - val_mae: 0.0071\n",
      "Epoch 91/500\n",
      "9/9 [==============================] - 0s 6ms/step - loss: 1.0494e-04 - mae: 0.0078 - val_loss: 8.8567e-05 - val_mae: 0.0077\n",
      "Epoch 92/500\n",
      "9/9 [==============================] - 0s 6ms/step - loss: 9.9937e-05 - mae: 0.0078 - val_loss: 1.0205e-04 - val_mae: 0.0080\n",
      "Epoch 93/500\n",
      "9/9 [==============================] - 0s 5ms/step - loss: 1.1611e-04 - mae: 0.0084 - val_loss: 9.2320e-05 - val_mae: 0.0074\n",
      "Epoch 94/500\n",
      "9/9 [==============================] - 0s 6ms/step - loss: 1.1565e-04 - mae: 0.0083 - val_loss: 8.4053e-05 - val_mae: 0.0077\n",
      "Epoch 95/500\n",
      "9/9 [==============================] - 0s 6ms/step - loss: 9.8936e-05 - mae: 0.0079 - val_loss: 1.0905e-04 - val_mae: 0.0084\n",
      "Epoch 96/500\n",
      "9/9 [==============================] - 0s 6ms/step - loss: 1.0178e-04 - mae: 0.0078 - val_loss: 7.3945e-05 - val_mae: 0.0068\n",
      "Epoch 97/500\n",
      "9/9 [==============================] - 0s 7ms/step - loss: 8.9888e-05 - mae: 0.0074 - val_loss: 6.9249e-05 - val_mae: 0.0065\n",
      "Epoch 98/500\n",
      "9/9 [==============================] - 0s 6ms/step - loss: 9.0630e-05 - mae: 0.0075 - val_loss: 7.5900e-05 - val_mae: 0.0069\n",
      "Epoch 99/500\n",
      "9/9 [==============================] - 0s 6ms/step - loss: 1.0120e-04 - mae: 0.0079 - val_loss: 9.1867e-05 - val_mae: 0.0077\n",
      "Epoch 100/500\n",
      "9/9 [==============================] - 0s 6ms/step - loss: 9.4027e-05 - mae: 0.0074 - val_loss: 7.5720e-05 - val_mae: 0.0069\n",
      "Epoch 101/500\n",
      "9/9 [==============================] - 0s 7ms/step - loss: 1.0594e-04 - mae: 0.0079 - val_loss: 7.2935e-05 - val_mae: 0.0067\n",
      "Epoch 102/500\n",
      "9/9 [==============================] - 0s 5ms/step - loss: 1.0338e-04 - mae: 0.0079 - val_loss: 6.9009e-05 - val_mae: 0.0063\n",
      "Epoch 103/500\n",
      "9/9 [==============================] - 0s 6ms/step - loss: 9.3504e-05 - mae: 0.0075 - val_loss: 6.9850e-05 - val_mae: 0.0064\n",
      "Epoch 104/500\n",
      "9/9 [==============================] - 0s 7ms/step - loss: 8.2156e-05 - mae: 0.0070 - val_loss: 6.8033e-05 - val_mae: 0.0065\n",
      "Epoch 105/500\n",
      "9/9 [==============================] - 0s 6ms/step - loss: 9.8223e-05 - mae: 0.0078 - val_loss: 6.3656e-05 - val_mae: 0.0062\n",
      "Epoch 106/500\n",
      "9/9 [==============================] - 0s 6ms/step - loss: 1.0033e-04 - mae: 0.0078 - val_loss: 1.3281e-04 - val_mae: 0.0093\n",
      "Epoch 107/500\n",
      "9/9 [==============================] - 0s 5ms/step - loss: 1.0577e-04 - mae: 0.0081 - val_loss: 6.8070e-05 - val_mae: 0.0064\n",
      "Epoch 108/500\n",
      "9/9 [==============================] - 0s 6ms/step - loss: 8.5586e-05 - mae: 0.0070 - val_loss: 9.4233e-05 - val_mae: 0.0077\n",
      "Epoch 109/500\n",
      "9/9 [==============================] - 0s 6ms/step - loss: 9.9761e-05 - mae: 0.0081 - val_loss: 6.8254e-05 - val_mae: 0.0064\n",
      "Epoch 110/500\n",
      "9/9 [==============================] - 0s 5ms/step - loss: 7.2497e-05 - mae: 0.0066 - val_loss: 6.9614e-05 - val_mae: 0.0065\n",
      "Epoch 111/500\n",
      "9/9 [==============================] - 0s 6ms/step - loss: 8.4563e-05 - mae: 0.0071 - val_loss: 7.8036e-05 - val_mae: 0.0066\n",
      "Epoch 112/500\n",
      "9/9 [==============================] - 0s 6ms/step - loss: 7.8082e-05 - mae: 0.0070 - val_loss: 7.5749e-05 - val_mae: 0.0066\n",
      "Epoch 113/500\n",
      "9/9 [==============================] - 0s 6ms/step - loss: 8.5678e-05 - mae: 0.0071 - val_loss: 7.4436e-05 - val_mae: 0.0066\n",
      "Epoch 114/500\n",
      "9/9 [==============================] - 0s 6ms/step - loss: 1.2136e-04 - mae: 0.0086 - val_loss: 5.7097e-05 - val_mae: 0.0060\n",
      "Epoch 115/500\n",
      "9/9 [==============================] - 0s 6ms/step - loss: 1.0229e-04 - mae: 0.0077 - val_loss: 5.3950e-05 - val_mae: 0.0058\n",
      "Epoch 116/500\n",
      "9/9 [==============================] - 0s 6ms/step - loss: 6.8040e-05 - mae: 0.0063 - val_loss: 6.8034e-05 - val_mae: 0.0066\n",
      "Epoch 117/500\n",
      "9/9 [==============================] - 0s 6ms/step - loss: 6.9786e-05 - mae: 0.0065 - val_loss: 5.2758e-05 - val_mae: 0.0056\n",
      "Epoch 118/500\n",
      "9/9 [==============================] - 0s 6ms/step - loss: 6.4576e-05 - mae: 0.0061 - val_loss: 5.4551e-05 - val_mae: 0.0055\n",
      "Epoch 119/500\n",
      "9/9 [==============================] - 0s 6ms/step - loss: 6.9565e-05 - mae: 0.0064 - val_loss: 1.0098e-04 - val_mae: 0.0079\n",
      "Epoch 120/500\n",
      "9/9 [==============================] - 0s 6ms/step - loss: 9.2698e-05 - mae: 0.0074 - val_loss: 6.2289e-05 - val_mae: 0.0065\n",
      "Epoch 121/500\n",
      "9/9 [==============================] - 0s 6ms/step - loss: 7.1334e-05 - mae: 0.0067 - val_loss: 7.1311e-05 - val_mae: 0.0067\n",
      "Epoch 122/500\n",
      "9/9 [==============================] - 0s 6ms/step - loss: 7.1310e-05 - mae: 0.0064 - val_loss: 6.3491e-05 - val_mae: 0.0066\n",
      "Epoch 123/500\n",
      "9/9 [==============================] - 0s 6ms/step - loss: 6.5591e-05 - mae: 0.0063 - val_loss: 4.7655e-05 - val_mae: 0.0054\n",
      "Epoch 124/500\n",
      "9/9 [==============================] - 0s 6ms/step - loss: 6.0542e-05 - mae: 0.0059 - val_loss: 4.8182e-05 - val_mae: 0.0054\n",
      "Epoch 125/500\n",
      "9/9 [==============================] - 0s 5ms/step - loss: 5.9187e-05 - mae: 0.0059 - val_loss: 7.7424e-05 - val_mae: 0.0070\n",
      "Epoch 126/500\n",
      "9/9 [==============================] - 0s 6ms/step - loss: 7.8993e-05 - mae: 0.0068 - val_loss: 5.7773e-05 - val_mae: 0.0059\n",
      "Epoch 127/500\n",
      "9/9 [==============================] - 0s 6ms/step - loss: 6.8769e-05 - mae: 0.0065 - val_loss: 7.1626e-05 - val_mae: 0.0067\n",
      "Epoch 128/500\n",
      "9/9 [==============================] - 0s 6ms/step - loss: 8.4973e-05 - mae: 0.0073 - val_loss: 5.4253e-05 - val_mae: 0.0054\n",
      "Epoch 129/500\n",
      "9/9 [==============================] - 0s 6ms/step - loss: 6.9484e-05 - mae: 0.0065 - val_loss: 4.9318e-05 - val_mae: 0.0056\n",
      "Epoch 130/500\n",
      "9/9 [==============================] - 0s 6ms/step - loss: 5.7045e-05 - mae: 0.0058 - val_loss: 4.3615e-05 - val_mae: 0.0051\n",
      "Epoch 131/500\n",
      "9/9 [==============================] - 0s 6ms/step - loss: 5.4025e-05 - mae: 0.0056 - val_loss: 4.4143e-05 - val_mae: 0.0051\n",
      "Epoch 132/500\n",
      "9/9 [==============================] - 0s 5ms/step - loss: 5.5669e-05 - mae: 0.0057 - val_loss: 4.6818e-05 - val_mae: 0.0053\n",
      "Epoch 133/500\n",
      "9/9 [==============================] - 0s 5ms/step - loss: 5.1617e-05 - mae: 0.0055 - val_loss: 3.8225e-05 - val_mae: 0.0048\n",
      "Epoch 134/500\n",
      "9/9 [==============================] - 0s 6ms/step - loss: 5.0508e-05 - mae: 0.0054 - val_loss: 3.9795e-05 - val_mae: 0.0048\n",
      "Epoch 135/500\n",
      "9/9 [==============================] - 0s 5ms/step - loss: 4.9372e-05 - mae: 0.0054 - val_loss: 4.1645e-05 - val_mae: 0.0051\n",
      "Epoch 136/500\n",
      "9/9 [==============================] - 0s 6ms/step - loss: 5.0248e-05 - mae: 0.0055 - val_loss: 3.7384e-05 - val_mae: 0.0047\n",
      "Epoch 137/500\n",
      "9/9 [==============================] - 0s 5ms/step - loss: 4.7811e-05 - mae: 0.0053 - val_loss: 3.8448e-05 - val_mae: 0.0048\n",
      "Epoch 138/500\n",
      "9/9 [==============================] - 0s 6ms/step - loss: 4.7922e-05 - mae: 0.0053 - val_loss: 3.6613e-05 - val_mae: 0.0047\n",
      "Epoch 139/500\n",
      "9/9 [==============================] - 0s 5ms/step - loss: 4.5487e-05 - mae: 0.0051 - val_loss: 3.6765e-05 - val_mae: 0.0047\n",
      "Epoch 140/500\n",
      "9/9 [==============================] - 0s 6ms/step - loss: 5.3905e-05 - mae: 0.0054 - val_loss: 5.5184e-05 - val_mae: 0.0060\n",
      "Epoch 141/500\n",
      "9/9 [==============================] - 0s 5ms/step - loss: 5.2241e-05 - mae: 0.0056 - val_loss: 3.7775e-05 - val_mae: 0.0047\n",
      "Epoch 142/500\n",
      "9/9 [==============================] - 0s 5ms/step - loss: 6.0822e-05 - mae: 0.0061 - val_loss: 4.0334e-05 - val_mae: 0.0048\n",
      "Epoch 143/500\n",
      "9/9 [==============================] - 0s 5ms/step - loss: 4.7878e-05 - mae: 0.0054 - val_loss: 3.7279e-05 - val_mae: 0.0046\n",
      "Epoch 144/500\n",
      "9/9 [==============================] - 0s 5ms/step - loss: 5.0107e-05 - mae: 0.0054 - val_loss: 3.7881e-05 - val_mae: 0.0047\n",
      "Epoch 145/500\n",
      "9/9 [==============================] - 0s 6ms/step - loss: 4.2139e-05 - mae: 0.0050 - val_loss: 3.3460e-05 - val_mae: 0.0044\n",
      "Epoch 146/500\n",
      "9/9 [==============================] - 0s 6ms/step - loss: 4.1988e-05 - mae: 0.0049 - val_loss: 3.2045e-05 - val_mae: 0.0043\n",
      "Epoch 147/500\n",
      "9/9 [==============================] - 0s 6ms/step - loss: 5.8043e-05 - mae: 0.0058 - val_loss: 5.2953e-05 - val_mae: 0.0058\n",
      "Epoch 148/500\n",
      "9/9 [==============================] - 0s 6ms/step - loss: 5.4815e-05 - mae: 0.0057 - val_loss: 5.6548e-05 - val_mae: 0.0062\n",
      "Epoch 149/500\n",
      "9/9 [==============================] - 0s 5ms/step - loss: 5.3524e-05 - mae: 0.0057 - val_loss: 3.2773e-05 - val_mae: 0.0044\n",
      "Epoch 150/500\n",
      "9/9 [==============================] - 0s 5ms/step - loss: 4.1689e-05 - mae: 0.0049 - val_loss: 3.1029e-05 - val_mae: 0.0043\n",
      "Epoch 151/500\n",
      "9/9 [==============================] - 0s 6ms/step - loss: 4.0986e-05 - mae: 0.0050 - val_loss: 3.8250e-05 - val_mae: 0.0048\n",
      "Epoch 152/500\n",
      "9/9 [==============================] - 0s 5ms/step - loss: 3.8450e-05 - mae: 0.0047 - val_loss: 2.7971e-05 - val_mae: 0.0040\n",
      "Epoch 153/500\n",
      "9/9 [==============================] - 0s 5ms/step - loss: 3.6326e-05 - mae: 0.0046 - val_loss: 4.2344e-05 - val_mae: 0.0050\n",
      "Epoch 154/500\n",
      "9/9 [==============================] - 0s 5ms/step - loss: 4.5356e-05 - mae: 0.0052 - val_loss: 3.7859e-05 - val_mae: 0.0048\n",
      "Epoch 155/500\n",
      "9/9 [==============================] - 0s 5ms/step - loss: 4.3302e-05 - mae: 0.0051 - val_loss: 2.8749e-05 - val_mae: 0.0041\n",
      "Epoch 156/500\n",
      "9/9 [==============================] - 0s 6ms/step - loss: 4.2606e-05 - mae: 0.0051 - val_loss: 2.7417e-05 - val_mae: 0.0041\n",
      "Epoch 157/500\n",
      "9/9 [==============================] - 0s 5ms/step - loss: 3.4370e-05 - mae: 0.0045 - val_loss: 2.9787e-05 - val_mae: 0.0042\n",
      "Epoch 158/500\n",
      "9/9 [==============================] - 0s 6ms/step - loss: 3.6674e-05 - mae: 0.0046 - val_loss: 2.5122e-05 - val_mae: 0.0040\n",
      "Epoch 159/500\n",
      "9/9 [==============================] - 0s 5ms/step - loss: 3.3659e-05 - mae: 0.0045 - val_loss: 3.9592e-05 - val_mae: 0.0051\n",
      "Epoch 160/500\n",
      "9/9 [==============================] - 0s 5ms/step - loss: 5.0141e-05 - mae: 0.0054 - val_loss: 3.3882e-05 - val_mae: 0.0046\n",
      "Epoch 161/500\n",
      "9/9 [==============================] - 0s 5ms/step - loss: 3.7174e-05 - mae: 0.0047 - val_loss: 2.6702e-05 - val_mae: 0.0040\n",
      "Epoch 162/500\n",
      "9/9 [==============================] - 0s 5ms/step - loss: 3.7506e-05 - mae: 0.0047 - val_loss: 2.7252e-05 - val_mae: 0.0040\n",
      "Epoch 163/500\n",
      "9/9 [==============================] - 0s 5ms/step - loss: 3.2372e-05 - mae: 0.0045 - val_loss: 2.3159e-05 - val_mae: 0.0039\n",
      "Epoch 164/500\n",
      "9/9 [==============================] - 0s 5ms/step - loss: 3.2204e-05 - mae: 0.0044 - val_loss: 6.3228e-05 - val_mae: 0.0069\n",
      "Epoch 165/500\n",
      "9/9 [==============================] - 0s 10ms/step - loss: 5.5791e-05 - mae: 0.0059 - val_loss: 6.4008e-05 - val_mae: 0.0069\n",
      "Epoch 166/500\n",
      "9/9 [==============================] - 0s 6ms/step - loss: 4.4782e-05 - mae: 0.0053 - val_loss: 4.1978e-05 - val_mae: 0.0054\n",
      "Epoch 167/500\n",
      "9/9 [==============================] - 0s 6ms/step - loss: 4.0365e-05 - mae: 0.0051 - val_loss: 4.0461e-05 - val_mae: 0.0053\n",
      "Epoch 168/500\n",
      "9/9 [==============================] - 0s 5ms/step - loss: 3.8430e-05 - mae: 0.0048 - val_loss: 3.2277e-05 - val_mae: 0.0044\n",
      "Epoch 169/500\n",
      "9/9 [==============================] - 0s 5ms/step - loss: 4.9217e-05 - mae: 0.0053 - val_loss: 4.2271e-05 - val_mae: 0.0052\n",
      "Epoch 170/500\n",
      "9/9 [==============================] - 0s 7ms/step - loss: 3.2138e-05 - mae: 0.0044 - val_loss: 2.3963e-05 - val_mae: 0.0038\n",
      "Epoch 171/500\n",
      "9/9 [==============================] - 0s 5ms/step - loss: 3.2780e-05 - mae: 0.0044 - val_loss: 1.9810e-05 - val_mae: 0.0035\n",
      "Epoch 172/500\n",
      "9/9 [==============================] - 0s 4ms/step - loss: 2.8202e-05 - mae: 0.0041 - val_loss: 2.8481e-05 - val_mae: 0.0042\n",
      "Epoch 173/500\n",
      "9/9 [==============================] - 0s 5ms/step - loss: 3.6853e-05 - mae: 0.0046 - val_loss: 2.6845e-05 - val_mae: 0.0042\n",
      "Epoch 174/500\n",
      "9/9 [==============================] - 0s 5ms/step - loss: 2.9579e-05 - mae: 0.0043 - val_loss: 2.1130e-05 - val_mae: 0.0037\n",
      "Epoch 175/500\n",
      "9/9 [==============================] - 0s 5ms/step - loss: 2.6345e-05 - mae: 0.0039 - val_loss: 3.0766e-05 - val_mae: 0.0044\n",
      "Epoch 176/500\n",
      "9/9 [==============================] - 0s 5ms/step - loss: 3.4268e-05 - mae: 0.0046 - val_loss: 3.8524e-05 - val_mae: 0.0049\n",
      "Epoch 177/500\n",
      "9/9 [==============================] - 0s 5ms/step - loss: 3.4652e-05 - mae: 0.0047 - val_loss: 2.1892e-05 - val_mae: 0.0036\n",
      "Epoch 178/500\n",
      "9/9 [==============================] - 0s 5ms/step - loss: 2.6412e-05 - mae: 0.0039 - val_loss: 1.8618e-05 - val_mae: 0.0033\n",
      "Epoch 179/500\n",
      "9/9 [==============================] - 0s 5ms/step - loss: 2.4804e-05 - mae: 0.0038 - val_loss: 2.3345e-05 - val_mae: 0.0040\n",
      "Epoch 180/500\n",
      "9/9 [==============================] - 0s 5ms/step - loss: 2.5821e-05 - mae: 0.0040 - val_loss: 2.3728e-05 - val_mae: 0.0038\n",
      "Epoch 181/500\n",
      "9/9 [==============================] - 0s 5ms/step - loss: 3.2566e-05 - mae: 0.0043 - val_loss: 2.8454e-05 - val_mae: 0.0041\n",
      "Epoch 182/500\n",
      "9/9 [==============================] - 0s 5ms/step - loss: 2.8474e-05 - mae: 0.0042 - val_loss: 3.4390e-05 - val_mae: 0.0048\n",
      "Epoch 183/500\n",
      "9/9 [==============================] - 0s 5ms/step - loss: 3.9912e-05 - mae: 0.0049 - val_loss: 2.1141e-05 - val_mae: 0.0036\n",
      "Epoch 184/500\n",
      "9/9 [==============================] - 0s 5ms/step - loss: 2.5687e-05 - mae: 0.0040 - val_loss: 2.9075e-05 - val_mae: 0.0045\n",
      "Epoch 185/500\n",
      "9/9 [==============================] - 0s 7ms/step - loss: 2.8617e-05 - mae: 0.0041 - val_loss: 2.1738e-05 - val_mae: 0.0037\n",
      "Epoch 186/500\n",
      "9/9 [==============================] - 0s 6ms/step - loss: 2.3723e-05 - mae: 0.0038 - val_loss: 2.3037e-05 - val_mae: 0.0038\n",
      "Epoch 187/500\n",
      "9/9 [==============================] - 0s 5ms/step - loss: 3.5147e-05 - mae: 0.0047 - val_loss: 5.3316e-05 - val_mae: 0.0061\n",
      "Epoch 188/500\n",
      "9/9 [==============================] - 0s 5ms/step - loss: 4.1399e-05 - mae: 0.0051 - val_loss: 1.9644e-05 - val_mae: 0.0034\n",
      "Epoch 189/500\n",
      "9/9 [==============================] - 0s 5ms/step - loss: 2.3817e-05 - mae: 0.0039 - val_loss: 4.1927e-05 - val_mae: 0.0053\n",
      "Epoch 190/500\n",
      "9/9 [==============================] - 0s 5ms/step - loss: 3.4172e-05 - mae: 0.0047 - val_loss: 1.8125e-05 - val_mae: 0.0032\n",
      "Epoch 191/500\n",
      "9/9 [==============================] - 0s 5ms/step - loss: 3.8585e-05 - mae: 0.0049 - val_loss: 2.1330e-05 - val_mae: 0.0036\n",
      "Epoch 192/500\n",
      "9/9 [==============================] - 0s 4ms/step - loss: 2.8148e-05 - mae: 0.0041 - val_loss: 6.2518e-05 - val_mae: 0.0065\n",
      "Epoch 193/500\n",
      "9/9 [==============================] - 0s 5ms/step - loss: 3.9102e-05 - mae: 0.0049 - val_loss: 1.8180e-05 - val_mae: 0.0032\n",
      "Epoch 194/500\n",
      "9/9 [==============================] - 0s 4ms/step - loss: 2.3364e-05 - mae: 0.0038 - val_loss: 1.8093e-05 - val_mae: 0.0036\n",
      "Epoch 195/500\n",
      "9/9 [==============================] - 0s 5ms/step - loss: 2.2596e-05 - mae: 0.0038 - val_loss: 1.5497e-05 - val_mae: 0.0029\n",
      "Epoch 196/500\n",
      "9/9 [==============================] - 0s 4ms/step - loss: 1.9601e-05 - mae: 0.0034 - val_loss: 1.8176e-05 - val_mae: 0.0033\n",
      "Epoch 197/500\n",
      "9/9 [==============================] - 0s 5ms/step - loss: 1.8785e-05 - mae: 0.0034 - val_loss: 1.8920e-05 - val_mae: 0.0034\n",
      "Epoch 198/500\n",
      "9/9 [==============================] - 0s 5ms/step - loss: 1.8758e-05 - mae: 0.0033 - val_loss: 1.7672e-05 - val_mae: 0.0033\n",
      "Epoch 199/500\n",
      "9/9 [==============================] - 0s 5ms/step - loss: 1.9377e-05 - mae: 0.0034 - val_loss: 2.0378e-05 - val_mae: 0.0038\n",
      "Epoch 200/500\n",
      "9/9 [==============================] - 0s 5ms/step - loss: 2.6641e-05 - mae: 0.0041 - val_loss: 5.0460e-05 - val_mae: 0.0063\n",
      "Epoch 201/500\n",
      "9/9 [==============================] - 0s 5ms/step - loss: 2.8044e-05 - mae: 0.0041 - val_loss: 1.2747e-05 - val_mae: 0.0028\n",
      "Epoch 202/500\n",
      "9/9 [==============================] - 0s 5ms/step - loss: 1.8203e-05 - mae: 0.0033 - val_loss: 2.0757e-05 - val_mae: 0.0038\n",
      "Epoch 203/500\n",
      "9/9 [==============================] - 0s 5ms/step - loss: 2.3338e-05 - mae: 0.0037 - val_loss: 1.3803e-05 - val_mae: 0.0029\n",
      "Epoch 204/500\n",
      "9/9 [==============================] - 0s 5ms/step - loss: 2.1823e-05 - mae: 0.0036 - val_loss: 3.9778e-05 - val_mae: 0.0052\n",
      "Epoch 205/500\n",
      "9/9 [==============================] - 0s 4ms/step - loss: 2.6883e-05 - mae: 0.0041 - val_loss: 1.4639e-05 - val_mae: 0.0029\n",
      "Epoch 206/500\n",
      "9/9 [==============================] - 0s 5ms/step - loss: 2.0599e-05 - mae: 0.0035 - val_loss: 1.9970e-05 - val_mae: 0.0039\n",
      "Epoch 207/500\n",
      "9/9 [==============================] - 0s 5ms/step - loss: 1.9027e-05 - mae: 0.0033 - val_loss: 2.9896e-05 - val_mae: 0.0045\n",
      "Epoch 208/500\n",
      "9/9 [==============================] - 0s 4ms/step - loss: 2.2340e-05 - mae: 0.0037 - val_loss: 2.6554e-05 - val_mae: 0.0044\n",
      "Epoch 209/500\n",
      "9/9 [==============================] - 0s 6ms/step - loss: 4.0405e-05 - mae: 0.0051 - val_loss: 3.5779e-05 - val_mae: 0.0049\n",
      "Epoch 210/500\n",
      "9/9 [==============================] - 0s 10ms/step - loss: 2.5756e-05 - mae: 0.0040 - val_loss: 3.8864e-05 - val_mae: 0.0052\n",
      "Epoch 211/500\n",
      "9/9 [==============================] - 0s 4ms/step - loss: 2.7079e-05 - mae: 0.0041 - val_loss: 3.9260e-05 - val_mae: 0.0051\n",
      "Epoch 212/500\n",
      "9/9 [==============================] - 0s 5ms/step - loss: 2.3052e-05 - mae: 0.0038 - val_loss: 1.3942e-05 - val_mae: 0.0028\n",
      "Epoch 213/500\n",
      "9/9 [==============================] - 0s 5ms/step - loss: 1.7766e-05 - mae: 0.0033 - val_loss: 1.5114e-05 - val_mae: 0.0030\n",
      "Epoch 214/500\n",
      "9/9 [==============================] - 0s 5ms/step - loss: 1.5338e-05 - mae: 0.0030 - val_loss: 1.3400e-05 - val_mae: 0.0029\n",
      "Epoch 215/500\n",
      "9/9 [==============================] - 0s 5ms/step - loss: 1.5732e-05 - mae: 0.0030 - val_loss: 2.0312e-05 - val_mae: 0.0036\n",
      "Epoch 216/500\n",
      "9/9 [==============================] - 0s 6ms/step - loss: 2.0106e-05 - mae: 0.0036 - val_loss: 1.8484e-05 - val_mae: 0.0033\n",
      "Epoch 217/500\n",
      "9/9 [==============================] - 0s 5ms/step - loss: 1.9966e-05 - mae: 0.0035 - val_loss: 2.4514e-05 - val_mae: 0.0043\n",
      "Epoch 218/500\n",
      "9/9 [==============================] - 0s 4ms/step - loss: 2.1340e-05 - mae: 0.0037 - val_loss: 1.2080e-05 - val_mae: 0.0025\n",
      "Epoch 219/500\n",
      "9/9 [==============================] - 0s 4ms/step - loss: 2.1352e-05 - mae: 0.0037 - val_loss: 3.1576e-05 - val_mae: 0.0047\n",
      "Epoch 220/500\n",
      "9/9 [==============================] - 0s 5ms/step - loss: 1.8972e-05 - mae: 0.0035 - val_loss: 1.1255e-05 - val_mae: 0.0025\n",
      "Epoch 221/500\n",
      "9/9 [==============================] - 0s 5ms/step - loss: 1.3936e-05 - mae: 0.0028 - val_loss: 1.4534e-05 - val_mae: 0.0030\n",
      "Epoch 222/500\n",
      "9/9 [==============================] - 0s 4ms/step - loss: 1.7468e-05 - mae: 0.0032 - val_loss: 1.2056e-05 - val_mae: 0.0026\n",
      "Epoch 223/500\n",
      "9/9 [==============================] - 0s 5ms/step - loss: 1.8472e-05 - mae: 0.0032 - val_loss: 1.3668e-05 - val_mae: 0.0030\n",
      "Epoch 224/500\n",
      "9/9 [==============================] - 0s 4ms/step - loss: 1.4826e-05 - mae: 0.0031 - val_loss: 1.3606e-05 - val_mae: 0.0029\n",
      "Epoch 225/500\n",
      "9/9 [==============================] - 0s 4ms/step - loss: 1.4064e-05 - mae: 0.0029 - val_loss: 1.4157e-05 - val_mae: 0.0029\n",
      "Epoch 226/500\n",
      "9/9 [==============================] - 0s 5ms/step - loss: 1.4113e-05 - mae: 0.0029 - val_loss: 1.3803e-05 - val_mae: 0.0029\n",
      "Epoch 227/500\n",
      "9/9 [==============================] - 0s 4ms/step - loss: 1.4695e-05 - mae: 0.0030 - val_loss: 3.7006e-05 - val_mae: 0.0051\n",
      "Epoch 228/500\n",
      "9/9 [==============================] - 0s 4ms/step - loss: 2.3970e-05 - mae: 0.0039 - val_loss: 1.8198e-05 - val_mae: 0.0036\n",
      "Epoch 229/500\n",
      "9/9 [==============================] - 0s 5ms/step - loss: 1.9740e-05 - mae: 0.0035 - val_loss: 1.6439e-05 - val_mae: 0.0033\n",
      "Epoch 230/500\n",
      "9/9 [==============================] - 0s 4ms/step - loss: 1.3903e-05 - mae: 0.0029 - val_loss: 1.1555e-05 - val_mae: 0.0026\n",
      "Epoch 231/500\n",
      "9/9 [==============================] - 0s 5ms/step - loss: 1.3571e-05 - mae: 0.0029 - val_loss: 1.4998e-05 - val_mae: 0.0031\n",
      "Epoch 232/500\n",
      "9/9 [==============================] - 0s 5ms/step - loss: 1.7341e-05 - mae: 0.0033 - val_loss: 1.2456e-05 - val_mae: 0.0030\n",
      "Epoch 233/500\n",
      "9/9 [==============================] - 0s 5ms/step - loss: 1.8490e-05 - mae: 0.0033 - val_loss: 3.6034e-05 - val_mae: 0.0051\n",
      "Epoch 234/500\n",
      "9/9 [==============================] - 0s 5ms/step - loss: 2.1274e-05 - mae: 0.0036 - val_loss: 1.7666e-05 - val_mae: 0.0036\n",
      "Epoch 235/500\n",
      "9/9 [==============================] - 0s 5ms/step - loss: 2.2064e-05 - mae: 0.0037 - val_loss: 1.1044e-05 - val_mae: 0.0026\n",
      "Epoch 236/500\n",
      "9/9 [==============================] - 0s 5ms/step - loss: 2.4476e-05 - mae: 0.0039 - val_loss: 1.1500e-05 - val_mae: 0.0026\n",
      "Epoch 237/500\n",
      "9/9 [==============================] - 0s 4ms/step - loss: 2.3413e-05 - mae: 0.0038 - val_loss: 1.4922e-05 - val_mae: 0.0028\n",
      "Epoch 238/500\n",
      "9/9 [==============================] - 0s 5ms/step - loss: 1.5232e-05 - mae: 0.0030 - val_loss: 1.5109e-05 - val_mae: 0.0031\n",
      "Epoch 239/500\n",
      "9/9 [==============================] - 0s 6ms/step - loss: 1.3372e-05 - mae: 0.0029 - val_loss: 1.1673e-05 - val_mae: 0.0028\n",
      "Epoch 240/500\n",
      "9/9 [==============================] - 0s 4ms/step - loss: 1.3446e-05 - mae: 0.0027 - val_loss: 1.0524e-05 - val_mae: 0.0024\n",
      "Epoch 241/500\n",
      "9/9 [==============================] - 0s 4ms/step - loss: 1.2651e-05 - mae: 0.0029 - val_loss: 1.2902e-05 - val_mae: 0.0027\n",
      "Epoch 242/500\n",
      "9/9 [==============================] - 0s 4ms/step - loss: 1.6800e-05 - mae: 0.0032 - val_loss: 1.3547e-05 - val_mae: 0.0029\n",
      "Epoch 243/500\n",
      "9/9 [==============================] - 0s 5ms/step - loss: 1.6611e-05 - mae: 0.0032 - val_loss: 1.2311e-05 - val_mae: 0.0028\n",
      "Epoch 244/500\n",
      "9/9 [==============================] - 0s 5ms/step - loss: 1.3322e-05 - mae: 0.0029 - val_loss: 1.8615e-05 - val_mae: 0.0037\n",
      "Epoch 245/500\n",
      "9/9 [==============================] - 0s 5ms/step - loss: 1.4809e-05 - mae: 0.0030 - val_loss: 1.2991e-05 - val_mae: 0.0028\n",
      "Epoch 246/500\n",
      "9/9 [==============================] - 0s 7ms/step - loss: 1.2853e-05 - mae: 0.0027 - val_loss: 1.8082e-05 - val_mae: 0.0033\n",
      "Epoch 247/500\n",
      "9/9 [==============================] - 0s 5ms/step - loss: 1.2652e-05 - mae: 0.0028 - val_loss: 1.1414e-05 - val_mae: 0.0028\n",
      "Epoch 248/500\n",
      "9/9 [==============================] - 0s 5ms/step - loss: 1.4304e-05 - mae: 0.0029 - val_loss: 2.4569e-05 - val_mae: 0.0040\n",
      "Epoch 249/500\n",
      "9/9 [==============================] - 0s 5ms/step - loss: 1.8217e-05 - mae: 0.0034 - val_loss: 1.3700e-05 - val_mae: 0.0030\n",
      "Epoch 250/500\n",
      "9/9 [==============================] - 0s 5ms/step - loss: 1.6057e-05 - mae: 0.0031 - val_loss: 2.1313e-05 - val_mae: 0.0037\n",
      "Epoch 251/500\n",
      "9/9 [==============================] - 0s 7ms/step - loss: 2.0871e-05 - mae: 0.0038 - val_loss: 9.0449e-06 - val_mae: 0.0024\n",
      "Epoch 252/500\n",
      "9/9 [==============================] - 0s 5ms/step - loss: 1.1964e-05 - mae: 0.0027 - val_loss: 1.0620e-05 - val_mae: 0.0026\n",
      "Epoch 253/500\n",
      "9/9 [==============================] - 0s 5ms/step - loss: 1.1406e-05 - mae: 0.0025 - val_loss: 1.1342e-05 - val_mae: 0.0026\n",
      "Epoch 254/500\n",
      "9/9 [==============================] - 0s 4ms/step - loss: 1.1866e-05 - mae: 0.0026 - val_loss: 1.6490e-05 - val_mae: 0.0031\n",
      "Epoch 255/500\n",
      "9/9 [==============================] - 0s 5ms/step - loss: 1.7215e-05 - mae: 0.0032 - val_loss: 1.1763e-05 - val_mae: 0.0029\n",
      "Epoch 256/500\n",
      "9/9 [==============================] - 0s 5ms/step - loss: 1.3736e-05 - mae: 0.0029 - val_loss: 1.2079e-05 - val_mae: 0.0026\n",
      "Epoch 257/500\n",
      "9/9 [==============================] - 0s 4ms/step - loss: 1.0152e-05 - mae: 0.0024 - val_loss: 1.1023e-05 - val_mae: 0.0026\n",
      "Epoch 258/500\n",
      "9/9 [==============================] - 0s 5ms/step - loss: 1.0199e-05 - mae: 0.0025 - val_loss: 1.2537e-05 - val_mae: 0.0030\n",
      "Epoch 259/500\n",
      "9/9 [==============================] - 0s 5ms/step - loss: 1.0635e-05 - mae: 0.0025 - val_loss: 9.7005e-06 - val_mae: 0.0024\n",
      "Epoch 260/500\n",
      "9/9 [==============================] - 0s 5ms/step - loss: 1.0904e-05 - mae: 0.0026 - val_loss: 8.5223e-06 - val_mae: 0.0022\n",
      "Epoch 261/500\n",
      "9/9 [==============================] - 0s 6ms/step - loss: 1.0301e-05 - mae: 0.0025 - val_loss: 1.6633e-05 - val_mae: 0.0033\n",
      "Epoch 262/500\n",
      "9/9 [==============================] - 0s 5ms/step - loss: 1.5169e-05 - mae: 0.0031 - val_loss: 1.1538e-05 - val_mae: 0.0029\n",
      "Epoch 263/500\n",
      "9/9 [==============================] - 0s 4ms/step - loss: 9.5690e-06 - mae: 0.0023 - val_loss: 8.9491e-06 - val_mae: 0.0023\n",
      "Epoch 264/500\n",
      "9/9 [==============================] - 0s 5ms/step - loss: 9.2306e-06 - mae: 0.0023 - val_loss: 1.0492e-05 - val_mae: 0.0027\n",
      "Epoch 265/500\n",
      "9/9 [==============================] - 0s 5ms/step - loss: 1.0568e-05 - mae: 0.0025 - val_loss: 7.6382e-06 - val_mae: 0.0022\n",
      "Epoch 266/500\n",
      "9/9 [==============================] - 0s 5ms/step - loss: 8.8267e-06 - mae: 0.0023 - val_loss: 7.6627e-06 - val_mae: 0.0021\n",
      "Epoch 267/500\n",
      "9/9 [==============================] - 0s 5ms/step - loss: 8.7309e-06 - mae: 0.0022 - val_loss: 9.9113e-06 - val_mae: 0.0024\n",
      "Epoch 268/500\n",
      "9/9 [==============================] - 0s 4ms/step - loss: 8.8369e-06 - mae: 0.0023 - val_loss: 8.6753e-06 - val_mae: 0.0024\n",
      "Epoch 269/500\n",
      "9/9 [==============================] - 0s 4ms/step - loss: 9.7154e-06 - mae: 0.0024 - val_loss: 1.9530e-05 - val_mae: 0.0035\n",
      "Epoch 270/500\n",
      "9/9 [==============================] - 0s 5ms/step - loss: 1.3399e-05 - mae: 0.0029 - val_loss: 9.4708e-06 - val_mae: 0.0025\n",
      "Epoch 271/500\n",
      "9/9 [==============================] - 0s 5ms/step - loss: 8.5714e-06 - mae: 0.0022 - val_loss: 7.0860e-06 - val_mae: 0.0020\n",
      "Epoch 272/500\n",
      "9/9 [==============================] - 0s 5ms/step - loss: 7.8324e-06 - mae: 0.0022 - val_loss: 6.6649e-06 - val_mae: 0.0019\n",
      "Epoch 273/500\n",
      "9/9 [==============================] - 0s 4ms/step - loss: 8.5548e-06 - mae: 0.0022 - val_loss: 8.1618e-06 - val_mae: 0.0021\n",
      "Epoch 274/500\n",
      "9/9 [==============================] - 0s 5ms/step - loss: 8.1548e-06 - mae: 0.0022 - val_loss: 8.8337e-06 - val_mae: 0.0025\n",
      "Epoch 275/500\n",
      "9/9 [==============================] - 0s 4ms/step - loss: 9.7177e-06 - mae: 0.0024 - val_loss: 7.1663e-06 - val_mae: 0.0021\n",
      "Epoch 276/500\n",
      "9/9 [==============================] - 0s 4ms/step - loss: 8.3733e-06 - mae: 0.0022 - val_loss: 6.2981e-06 - val_mae: 0.0019\n",
      "Epoch 277/500\n",
      "9/9 [==============================] - 0s 5ms/step - loss: 8.5342e-06 - mae: 0.0022 - val_loss: 8.5362e-06 - val_mae: 0.0022\n",
      "Epoch 278/500\n",
      "9/9 [==============================] - 0s 5ms/step - loss: 7.7190e-06 - mae: 0.0022 - val_loss: 7.0646e-06 - val_mae: 0.0020\n",
      "Epoch 279/500\n",
      "9/9 [==============================] - 0s 4ms/step - loss: 7.5057e-06 - mae: 0.0021 - val_loss: 7.6616e-06 - val_mae: 0.0022\n",
      "Epoch 280/500\n",
      "9/9 [==============================] - 0s 5ms/step - loss: 8.1722e-06 - mae: 0.0022 - val_loss: 8.1173e-06 - val_mae: 0.0021\n",
      "Epoch 281/500\n",
      "9/9 [==============================] - 0s 8ms/step - loss: 8.5836e-06 - mae: 0.0023 - val_loss: 1.4450e-05 - val_mae: 0.0032\n",
      "Epoch 282/500\n",
      "9/9 [==============================] - 0s 5ms/step - loss: 1.0964e-05 - mae: 0.0026 - val_loss: 1.0183e-05 - val_mae: 0.0026\n",
      "Epoch 283/500\n",
      "9/9 [==============================] - 0s 5ms/step - loss: 1.4220e-05 - mae: 0.0029 - val_loss: 1.6278e-05 - val_mae: 0.0032\n",
      "Epoch 284/500\n",
      "9/9 [==============================] - 0s 5ms/step - loss: 1.1450e-05 - mae: 0.0026 - val_loss: 1.1641e-05 - val_mae: 0.0029\n",
      "Epoch 285/500\n",
      "9/9 [==============================] - 0s 5ms/step - loss: 9.9931e-06 - mae: 0.0025 - val_loss: 1.5428e-05 - val_mae: 0.0034\n",
      "Epoch 286/500\n",
      "9/9 [==============================] - 0s 7ms/step - loss: 1.3952e-05 - mae: 0.0030 - val_loss: 1.2473e-05 - val_mae: 0.0028\n",
      "Epoch 287/500\n",
      "9/9 [==============================] - 0s 5ms/step - loss: 1.0617e-05 - mae: 0.0026 - val_loss: 8.2940e-06 - val_mae: 0.0023\n",
      "Epoch 288/500\n",
      "9/9 [==============================] - 0s 5ms/step - loss: 1.6270e-05 - mae: 0.0033 - val_loss: 3.9475e-05 - val_mae: 0.0052\n",
      "Epoch 289/500\n",
      "9/9 [==============================] - 0s 4ms/step - loss: 2.8795e-05 - mae: 0.0043 - val_loss: 5.3151e-05 - val_mae: 0.0063\n",
      "Epoch 290/500\n",
      "9/9 [==============================] - 0s 5ms/step - loss: 2.8705e-05 - mae: 0.0043 - val_loss: 7.9575e-05 - val_mae: 0.0078\n",
      "Epoch 291/500\n",
      "9/9 [==============================] - 0s 4ms/step - loss: 2.8938e-05 - mae: 0.0043 - val_loss: 2.7345e-05 - val_mae: 0.0047\n",
      "Epoch 292/500\n",
      "9/9 [==============================] - 0s 5ms/step - loss: 1.6293e-05 - mae: 0.0032 - val_loss: 8.5962e-06 - val_mae: 0.0023\n",
      "Epoch 293/500\n",
      "9/9 [==============================] - 0s 5ms/step - loss: 1.1883e-05 - mae: 0.0027 - val_loss: 8.0778e-06 - val_mae: 0.0022\n",
      "Epoch 294/500\n",
      "9/9 [==============================] - 0s 5ms/step - loss: 8.1824e-06 - mae: 0.0022 - val_loss: 1.7584e-05 - val_mae: 0.0036\n",
      "Epoch 295/500\n",
      "9/9 [==============================] - 0s 5ms/step - loss: 1.3460e-05 - mae: 0.0029 - val_loss: 7.4702e-06 - val_mae: 0.0021\n",
      "Epoch 296/500\n",
      "9/9 [==============================] - 0s 4ms/step - loss: 8.8636e-06 - mae: 0.0023 - val_loss: 7.5887e-06 - val_mae: 0.0021\n",
      "Epoch 297/500\n",
      "9/9 [==============================] - 0s 5ms/step - loss: 8.0698e-06 - mae: 0.0023 - val_loss: 8.1408e-06 - val_mae: 0.0023\n",
      "Epoch 298/500\n",
      "9/9 [==============================] - 0s 5ms/step - loss: 8.7687e-06 - mae: 0.0022 - val_loss: 1.0228e-05 - val_mae: 0.0025\n",
      "Epoch 299/500\n",
      "9/9 [==============================] - 0s 5ms/step - loss: 7.1057e-06 - mae: 0.0020 - val_loss: 6.7603e-06 - val_mae: 0.0021\n",
      "Epoch 300/500\n",
      "9/9 [==============================] - 0s 5ms/step - loss: 6.5407e-06 - mae: 0.0019 - val_loss: 6.1089e-06 - val_mae: 0.0019\n",
      "Epoch 301/500\n",
      "9/9 [==============================] - 0s 5ms/step - loss: 6.7253e-06 - mae: 0.0019 - val_loss: 5.4091e-06 - val_mae: 0.0017\n",
      "Epoch 302/500\n",
      "9/9 [==============================] - 0s 5ms/step - loss: 7.2957e-06 - mae: 0.0020 - val_loss: 1.0569e-05 - val_mae: 0.0026\n",
      "Epoch 303/500\n",
      "9/9 [==============================] - 0s 5ms/step - loss: 7.4126e-06 - mae: 0.0020 - val_loss: 5.6233e-06 - val_mae: 0.0018\n",
      "Epoch 304/500\n",
      "9/9 [==============================] - 0s 5ms/step - loss: 6.7079e-06 - mae: 0.0020 - val_loss: 8.6674e-06 - val_mae: 0.0024\n",
      "Epoch 305/500\n",
      "9/9 [==============================] - 0s 5ms/step - loss: 7.7051e-06 - mae: 0.0021 - val_loss: 1.2238e-05 - val_mae: 0.0030\n",
      "Epoch 306/500\n",
      "9/9 [==============================] - 0s 6ms/step - loss: 8.4062e-06 - mae: 0.0023 - val_loss: 5.3117e-06 - val_mae: 0.0018\n",
      "Epoch 307/500\n",
      "9/9 [==============================] - 0s 7ms/step - loss: 7.6279e-06 - mae: 0.0022 - val_loss: 1.2498e-05 - val_mae: 0.0031\n",
      "Epoch 308/500\n",
      "9/9 [==============================] - 0s 6ms/step - loss: 1.3049e-05 - mae: 0.0028 - val_loss: 1.8208e-05 - val_mae: 0.0035\n",
      "Epoch 309/500\n",
      "9/9 [==============================] - 0s 6ms/step - loss: 1.0825e-05 - mae: 0.0026 - val_loss: 9.8253e-06 - val_mae: 0.0023\n",
      "Epoch 310/500\n",
      "9/9 [==============================] - 0s 5ms/step - loss: 7.4445e-06 - mae: 0.0022 - val_loss: 9.7232e-06 - val_mae: 0.0025\n",
      "Epoch 311/500\n",
      "9/9 [==============================] - 0s 5ms/step - loss: 8.4508e-06 - mae: 0.0023 - val_loss: 6.9794e-06 - val_mae: 0.0020\n",
      "Epoch 312/500\n",
      "9/9 [==============================] - 0s 4ms/step - loss: 6.5386e-06 - mae: 0.0019 - val_loss: 9.9646e-06 - val_mae: 0.0027\n",
      "Epoch 313/500\n",
      "9/9 [==============================] - 0s 6ms/step - loss: 9.1121e-06 - mae: 0.0024 - val_loss: 6.7446e-06 - val_mae: 0.0019\n",
      "Epoch 314/500\n",
      "9/9 [==============================] - 0s 16ms/step - loss: 7.8001e-06 - mae: 0.0022 - val_loss: 2.5038e-05 - val_mae: 0.0042\n",
      "Epoch 315/500\n",
      "9/9 [==============================] - 0s 6ms/step - loss: 2.2937e-05 - mae: 0.0037 - val_loss: 6.7679e-06 - val_mae: 0.0022\n",
      "Epoch 316/500\n",
      "9/9 [==============================] - 0s 7ms/step - loss: 1.4723e-05 - mae: 0.0030 - val_loss: 4.2798e-05 - val_mae: 0.0059\n",
      "Epoch 317/500\n",
      "9/9 [==============================] - 0s 7ms/step - loss: 3.1228e-05 - mae: 0.0045 - val_loss: 1.5653e-05 - val_mae: 0.0033\n",
      "Epoch 318/500\n",
      "9/9 [==============================] - 0s 6ms/step - loss: 1.4585e-05 - mae: 0.0031 - val_loss: 8.0850e-06 - val_mae: 0.0021\n",
      "Epoch 319/500\n",
      "9/9 [==============================] - 0s 4ms/step - loss: 9.8787e-06 - mae: 0.0025 - val_loss: 9.2034e-05 - val_mae: 0.0089\n",
      "Epoch 320/500\n",
      "9/9 [==============================] - 0s 5ms/step - loss: 3.9720e-05 - mae: 0.0051 - val_loss: 1.3800e-05 - val_mae: 0.0031\n",
      "Epoch 321/500\n",
      "9/9 [==============================] - 0s 6ms/step - loss: 2.0317e-05 - mae: 0.0037 - val_loss: 1.9491e-05 - val_mae: 0.0034\n",
      "Epoch 322/500\n",
      "9/9 [==============================] - 0s 7ms/step - loss: 1.0116e-05 - mae: 0.0024 - val_loss: 5.4144e-06 - val_mae: 0.0020\n",
      "Epoch 323/500\n",
      "9/9 [==============================] - 0s 6ms/step - loss: 9.2077e-06 - mae: 0.0024 - val_loss: 1.6494e-05 - val_mae: 0.0035\n",
      "Epoch 324/500\n",
      "9/9 [==============================] - 0s 5ms/step - loss: 1.6316e-05 - mae: 0.0033 - val_loss: 3.6107e-05 - val_mae: 0.0051\n",
      "Epoch 325/500\n",
      "9/9 [==============================] - 0s 5ms/step - loss: 1.6780e-05 - mae: 0.0032 - val_loss: 9.3440e-06 - val_mae: 0.0022\n",
      "Epoch 326/500\n",
      "9/9 [==============================] - 0s 5ms/step - loss: 7.2224e-06 - mae: 0.0021 - val_loss: 1.2066e-05 - val_mae: 0.0030\n",
      "Epoch 327/500\n",
      "9/9 [==============================] - 0s 4ms/step - loss: 7.1451e-06 - mae: 0.0021 - val_loss: 4.5403e-05 - val_mae: 0.0058\n",
      "Epoch 328/500\n",
      "9/9 [==============================] - 0s 6ms/step - loss: 1.7843e-05 - mae: 0.0034 - val_loss: 1.0794e-05 - val_mae: 0.0028\n",
      "Epoch 329/500\n",
      "9/9 [==============================] - 0s 6ms/step - loss: 2.1339e-05 - mae: 0.0037 - val_loss: 1.1790e-05 - val_mae: 0.0027\n",
      "Epoch 330/500\n",
      "9/9 [==============================] - 0s 6ms/step - loss: 1.2500e-05 - mae: 0.0027 - val_loss: 1.3171e-05 - val_mae: 0.0029\n",
      "Epoch 331/500\n",
      "9/9 [==============================] - 0s 8ms/step - loss: 1.1809e-05 - mae: 0.0028 - val_loss: 2.7789e-05 - val_mae: 0.0045\n",
      "Epoch 332/500\n",
      "9/9 [==============================] - 0s 5ms/step - loss: 1.5794e-05 - mae: 0.0031 - val_loss: 1.2080e-05 - val_mae: 0.0030\n",
      "Epoch 333/500\n",
      "9/9 [==============================] - 0s 4ms/step - loss: 1.1827e-05 - mae: 0.0027 - val_loss: 6.1871e-06 - val_mae: 0.0020\n",
      "Epoch 334/500\n",
      "9/9 [==============================] - 0s 6ms/step - loss: 9.0376e-06 - mae: 0.0023 - val_loss: 1.6299e-05 - val_mae: 0.0034\n",
      "Epoch 335/500\n",
      "9/9 [==============================] - 0s 5ms/step - loss: 9.2303e-06 - mae: 0.0024 - val_loss: 5.3288e-06 - val_mae: 0.0019\n",
      "Epoch 336/500\n",
      "9/9 [==============================] - 0s 7ms/step - loss: 1.1513e-05 - mae: 0.0027 - val_loss: 1.9489e-05 - val_mae: 0.0037\n",
      "Epoch 337/500\n",
      "9/9 [==============================] - 0s 7ms/step - loss: 1.0718e-05 - mae: 0.0026 - val_loss: 5.9576e-06 - val_mae: 0.0019\n",
      "Epoch 338/500\n",
      "9/9 [==============================] - 0s 5ms/step - loss: 5.1345e-06 - mae: 0.0017 - val_loss: 7.7665e-06 - val_mae: 0.0024\n",
      "Epoch 339/500\n",
      "9/9 [==============================] - 0s 5ms/step - loss: 8.8677e-06 - mae: 0.0024 - val_loss: 1.1644e-05 - val_mae: 0.0028\n",
      "Epoch 340/500\n",
      "9/9 [==============================] - 0s 4ms/step - loss: 1.0385e-05 - mae: 0.0026 - val_loss: 4.8962e-06 - val_mae: 0.0017\n",
      "Epoch 341/500\n",
      "9/9 [==============================] - 0s 5ms/step - loss: 6.0122e-06 - mae: 0.0018 - val_loss: 4.4098e-06 - val_mae: 0.0016\n",
      "Epoch 342/500\n",
      "9/9 [==============================] - 0s 5ms/step - loss: 5.5980e-06 - mae: 0.0018 - val_loss: 8.8343e-06 - val_mae: 0.0025\n",
      "Epoch 343/500\n",
      "9/9 [==============================] - 0s 5ms/step - loss: 7.0698e-06 - mae: 0.0021 - val_loss: 1.0876e-05 - val_mae: 0.0029\n",
      "Epoch 344/500\n",
      "9/9 [==============================] - 0s 5ms/step - loss: 7.7409e-06 - mae: 0.0022 - val_loss: 8.7250e-06 - val_mae: 0.0024\n",
      "Epoch 345/500\n",
      "9/9 [==============================] - 0s 5ms/step - loss: 9.7036e-06 - mae: 0.0025 - val_loss: 4.5097e-05 - val_mae: 0.0059\n",
      "Epoch 346/500\n",
      "9/9 [==============================] - 0s 10ms/step - loss: 1.6307e-05 - mae: 0.0030 - val_loss: 6.8762e-06 - val_mae: 0.0019\n",
      "Epoch 347/500\n",
      "9/9 [==============================] - 0s 5ms/step - loss: 8.8366e-06 - mae: 0.0023 - val_loss: 5.0419e-06 - val_mae: 0.0018\n",
      "Epoch 348/500\n",
      "9/9 [==============================] - 0s 5ms/step - loss: 1.0745e-05 - mae: 0.0026 - val_loss: 5.3065e-06 - val_mae: 0.0019\n",
      "Epoch 349/500\n",
      "9/9 [==============================] - 0s 5ms/step - loss: 7.1375e-06 - mae: 0.0021 - val_loss: 5.5148e-06 - val_mae: 0.0018\n",
      "Epoch 350/500\n",
      "9/9 [==============================] - 0s 6ms/step - loss: 5.9756e-06 - mae: 0.0019 - val_loss: 5.8434e-06 - val_mae: 0.0020\n",
      "Epoch 351/500\n",
      "9/9 [==============================] - 0s 8ms/step - loss: 6.0869e-06 - mae: 0.0019 - val_loss: 5.2240e-06 - val_mae: 0.0018\n",
      "Epoch 352/500\n",
      "9/9 [==============================] - 0s 4ms/step - loss: 5.6939e-06 - mae: 0.0019 - val_loss: 7.3356e-06 - val_mae: 0.0023\n",
      "Epoch 353/500\n",
      "9/9 [==============================] - 0s 5ms/step - loss: 5.2787e-06 - mae: 0.0017 - val_loss: 4.8205e-06 - val_mae: 0.0017\n",
      "Epoch 354/500\n",
      "9/9 [==============================] - 0s 5ms/step - loss: 5.4133e-06 - mae: 0.0018 - val_loss: 4.7084e-06 - val_mae: 0.0017\n",
      "Epoch 355/500\n",
      "9/9 [==============================] - 0s 5ms/step - loss: 6.2289e-06 - mae: 0.0020 - val_loss: 1.1423e-05 - val_mae: 0.0028\n",
      "Epoch 356/500\n",
      "9/9 [==============================] - 0s 5ms/step - loss: 6.8904e-06 - mae: 0.0020 - val_loss: 1.0446e-05 - val_mae: 0.0026\n",
      "Epoch 357/500\n",
      "9/9 [==============================] - 0s 5ms/step - loss: 9.6881e-06 - mae: 0.0025 - val_loss: 6.1595e-06 - val_mae: 0.0019\n",
      "Epoch 358/500\n",
      "9/9 [==============================] - 0s 4ms/step - loss: 7.6337e-06 - mae: 0.0021 - val_loss: 6.3584e-06 - val_mae: 0.0021\n",
      "Epoch 359/500\n",
      "9/9 [==============================] - 0s 5ms/step - loss: 9.4251e-06 - mae: 0.0024 - val_loss: 1.0437e-05 - val_mae: 0.0027\n",
      "Epoch 360/500\n",
      "9/9 [==============================] - 0s 7ms/step - loss: 9.8302e-06 - mae: 0.0025 - val_loss: 1.2508e-05 - val_mae: 0.0029\n",
      "Epoch 361/500\n",
      "9/9 [==============================] - 0s 6ms/step - loss: 7.0053e-06 - mae: 0.0020 - val_loss: 5.7872e-06 - val_mae: 0.0019\n",
      "Epoch 362/500\n",
      "9/9 [==============================] - 0s 7ms/step - loss: 6.7223e-06 - mae: 0.0020 - val_loss: 6.0135e-06 - val_mae: 0.0020\n",
      "Epoch 363/500\n",
      "9/9 [==============================] - 0s 6ms/step - loss: 5.2674e-06 - mae: 0.0018 - val_loss: 3.8800e-06 - val_mae: 0.0015\n",
      "Epoch 364/500\n",
      "9/9 [==============================] - 0s 7ms/step - loss: 4.3583e-06 - mae: 0.0016 - val_loss: 1.0231e-05 - val_mae: 0.0028\n",
      "Epoch 365/500\n",
      "9/9 [==============================] - 0s 6ms/step - loss: 6.7110e-06 - mae: 0.0020 - val_loss: 5.4005e-06 - val_mae: 0.0019\n",
      "Epoch 366/500\n",
      "9/9 [==============================] - 0s 6ms/step - loss: 7.6712e-06 - mae: 0.0022 - val_loss: 1.1305e-05 - val_mae: 0.0027\n",
      "Epoch 367/500\n",
      "9/9 [==============================] - 0s 7ms/step - loss: 1.1147e-05 - mae: 0.0027 - val_loss: 3.6336e-05 - val_mae: 0.0052\n",
      "Epoch 368/500\n",
      "9/9 [==============================] - 0s 5ms/step - loss: 1.8357e-05 - mae: 0.0035 - val_loss: 2.2855e-05 - val_mae: 0.0041\n",
      "Epoch 369/500\n",
      "9/9 [==============================] - 0s 6ms/step - loss: 1.3309e-05 - mae: 0.0030 - val_loss: 2.0323e-05 - val_mae: 0.0039\n",
      "Epoch 370/500\n",
      "9/9 [==============================] - 0s 7ms/step - loss: 1.1568e-05 - mae: 0.0027 - val_loss: 6.5901e-06 - val_mae: 0.0020\n",
      "Epoch 371/500\n",
      "9/9 [==============================] - 0s 6ms/step - loss: 8.0323e-06 - mae: 0.0022 - val_loss: 6.1376e-06 - val_mae: 0.0020\n",
      "Epoch 372/500\n",
      "9/9 [==============================] - 0s 5ms/step - loss: 6.0949e-06 - mae: 0.0019 - val_loss: 1.5792e-05 - val_mae: 0.0034\n",
      "Epoch 373/500\n",
      "9/9 [==============================] - 0s 5ms/step - loss: 9.7700e-06 - mae: 0.0025 - val_loss: 1.6896e-05 - val_mae: 0.0033\n",
      "Epoch 374/500\n",
      "9/9 [==============================] - 0s 5ms/step - loss: 6.8997e-06 - mae: 0.0021 - val_loss: 8.6245e-06 - val_mae: 0.0023\n",
      "Epoch 375/500\n",
      "9/9 [==============================] - 0s 8ms/step - loss: 5.9488e-06 - mae: 0.0018 - val_loss: 2.8981e-05 - val_mae: 0.0047\n",
      "Epoch 376/500\n",
      "9/9 [==============================] - 0s 7ms/step - loss: 1.5259e-05 - mae: 0.0031 - val_loss: 2.4955e-05 - val_mae: 0.0043\n",
      "Epoch 377/500\n",
      "9/9 [==============================] - 0s 6ms/step - loss: 1.3747e-05 - mae: 0.0029 - val_loss: 4.0801e-05 - val_mae: 0.0057\n",
      "Epoch 378/500\n",
      "9/9 [==============================] - 0s 6ms/step - loss: 1.7694e-05 - mae: 0.0034 - val_loss: 3.6141e-05 - val_mae: 0.0053\n",
      "Epoch 379/500\n",
      "9/9 [==============================] - 0s 9ms/step - loss: 1.8092e-05 - mae: 0.0036 - val_loss: 2.0518e-05 - val_mae: 0.0038\n",
      "Epoch 380/500\n",
      "9/9 [==============================] - 0s 6ms/step - loss: 1.1820e-05 - mae: 0.0027 - val_loss: 9.4596e-06 - val_mae: 0.0025\n",
      "Epoch 381/500\n",
      "9/9 [==============================] - 0s 6ms/step - loss: 7.4812e-06 - mae: 0.0021 - val_loss: 4.1643e-06 - val_mae: 0.0015\n",
      "Epoch 382/500\n",
      "9/9 [==============================] - 0s 5ms/step - loss: 5.2566e-06 - mae: 0.0018 - val_loss: 3.9701e-06 - val_mae: 0.0015\n",
      "Epoch 383/500\n",
      "9/9 [==============================] - 0s 7ms/step - loss: 6.3401e-06 - mae: 0.0019 - val_loss: 8.9586e-06 - val_mae: 0.0026\n",
      "Epoch 384/500\n",
      "9/9 [==============================] - 0s 9ms/step - loss: 1.1592e-05 - mae: 0.0028 - val_loss: 5.2486e-05 - val_mae: 0.0065\n",
      "Epoch 385/500\n",
      "9/9 [==============================] - 0s 7ms/step - loss: 3.8949e-05 - mae: 0.0052 - val_loss: 7.3914e-05 - val_mae: 0.0079\n",
      "Epoch 386/500\n",
      "9/9 [==============================] - 0s 6ms/step - loss: 3.2846e-05 - mae: 0.0047 - val_loss: 1.6649e-05 - val_mae: 0.0036\n",
      "Epoch 387/500\n",
      "9/9 [==============================] - 0s 5ms/step - loss: 9.1083e-06 - mae: 0.0024 - val_loss: 1.8972e-05 - val_mae: 0.0037\n",
      "Epoch 388/500\n",
      "9/9 [==============================] - 0s 6ms/step - loss: 1.0668e-05 - mae: 0.0026 - val_loss: 1.5288e-05 - val_mae: 0.0033\n",
      "Epoch 389/500\n",
      "9/9 [==============================] - 0s 5ms/step - loss: 9.1269e-06 - mae: 0.0023 - val_loss: 2.7927e-05 - val_mae: 0.0047\n",
      "Epoch 390/500\n",
      "9/9 [==============================] - 0s 4ms/step - loss: 8.8189e-06 - mae: 0.0023 - val_loss: 6.1329e-06 - val_mae: 0.0021\n",
      "Epoch 391/500\n",
      "9/9 [==============================] - 0s 5ms/step - loss: 7.9179e-06 - mae: 0.0022 - val_loss: 2.5366e-05 - val_mae: 0.0044\n",
      "Epoch 392/500\n",
      "9/9 [==============================] - 0s 4ms/step - loss: 1.4047e-05 - mae: 0.0030 - val_loss: 2.3551e-05 - val_mae: 0.0041\n",
      "Epoch 393/500\n",
      "9/9 [==============================] - 0s 4ms/step - loss: 1.0911e-05 - mae: 0.0025 - val_loss: 9.8157e-06 - val_mae: 0.0024\n",
      "Epoch 394/500\n",
      "9/9 [==============================] - 0s 5ms/step - loss: 1.0238e-05 - mae: 0.0025 - val_loss: 3.0139e-05 - val_mae: 0.0048\n",
      "Epoch 395/500\n",
      "9/9 [==============================] - 0s 6ms/step - loss: 2.0862e-05 - mae: 0.0036 - val_loss: 5.0052e-05 - val_mae: 0.0061\n",
      "Epoch 396/500\n",
      "9/9 [==============================] - 0s 4ms/step - loss: 3.7347e-05 - mae: 0.0050 - val_loss: 5.0657e-06 - val_mae: 0.0016\n",
      "Epoch 397/500\n",
      "9/9 [==============================] - 0s 5ms/step - loss: 1.2324e-05 - mae: 0.0027 - val_loss: 5.4955e-06 - val_mae: 0.0018\n",
      "Epoch 398/500\n",
      "9/9 [==============================] - 0s 5ms/step - loss: 9.0051e-06 - mae: 0.0024 - val_loss: 1.7829e-05 - val_mae: 0.0033\n",
      "Epoch 399/500\n",
      "9/9 [==============================] - 0s 5ms/step - loss: 9.5483e-06 - mae: 0.0024 - val_loss: 4.6156e-06 - val_mae: 0.0017\n",
      "Epoch 400/500\n",
      "9/9 [==============================] - 0s 5ms/step - loss: 5.8390e-06 - mae: 0.0018 - val_loss: 1.6682e-05 - val_mae: 0.0033\n",
      "Epoch 401/500\n",
      "9/9 [==============================] - 0s 6ms/step - loss: 1.0102e-05 - mae: 0.0025 - val_loss: 3.3968e-06 - val_mae: 0.0015\n",
      "Epoch 402/500\n",
      "9/9 [==============================] - 0s 6ms/step - loss: 4.6327e-06 - mae: 0.0016 - val_loss: 3.5534e-06 - val_mae: 0.0015\n",
      "Epoch 403/500\n",
      "9/9 [==============================] - 0s 6ms/step - loss: 5.6858e-06 - mae: 0.0018 - val_loss: 6.3152e-06 - val_mae: 0.0020\n",
      "Epoch 404/500\n",
      "9/9 [==============================] - 0s 7ms/step - loss: 7.4110e-06 - mae: 0.0022 - val_loss: 4.5788e-05 - val_mae: 0.0059\n",
      "Epoch 405/500\n",
      "9/9 [==============================] - 0s 5ms/step - loss: 2.0735e-05 - mae: 0.0036 - val_loss: 6.3784e-05 - val_mae: 0.0070\n",
      "Epoch 406/500\n",
      "9/9 [==============================] - 0s 5ms/step - loss: 1.9728e-05 - mae: 0.0033 - val_loss: 2.2125e-05 - val_mae: 0.0039\n",
      "Epoch 407/500\n",
      "9/9 [==============================] - 0s 4ms/step - loss: 1.5087e-05 - mae: 0.0031 - val_loss: 7.9018e-06 - val_mae: 0.0022\n",
      "Epoch 408/500\n",
      "9/9 [==============================] - 0s 4ms/step - loss: 1.0212e-05 - mae: 0.0026 - val_loss: 6.6960e-06 - val_mae: 0.0021\n",
      "Epoch 409/500\n",
      "9/9 [==============================] - 0s 4ms/step - loss: 8.2015e-06 - mae: 0.0023 - val_loss: 3.9600e-06 - val_mae: 0.0015\n",
      "Epoch 410/500\n",
      "9/9 [==============================] - 0s 4ms/step - loss: 5.7698e-06 - mae: 0.0018 - val_loss: 3.6596e-05 - val_mae: 0.0052\n",
      "Epoch 411/500\n",
      "9/9 [==============================] - 0s 6ms/step - loss: 1.9974e-05 - mae: 0.0036 - val_loss: 2.3791e-05 - val_mae: 0.0043\n",
      "Epoch 412/500\n",
      "9/9 [==============================] - 0s 6ms/step - loss: 1.4989e-05 - mae: 0.0031 - val_loss: 3.1301e-05 - val_mae: 0.0049\n",
      "Epoch 413/500\n",
      "9/9 [==============================] - 0s 8ms/step - loss: 2.3272e-05 - mae: 0.0039 - val_loss: 6.1455e-06 - val_mae: 0.0022\n",
      "Epoch 414/500\n",
      "9/9 [==============================] - 0s 5ms/step - loss: 1.2697e-05 - mae: 0.0028 - val_loss: 1.5993e-05 - val_mae: 0.0033\n",
      "Epoch 415/500\n",
      "9/9 [==============================] - 0s 4ms/step - loss: 1.2450e-05 - mae: 0.0029 - val_loss: 4.8123e-06 - val_mae: 0.0017\n",
      "Epoch 416/500\n",
      "9/9 [==============================] - 0s 5ms/step - loss: 6.2902e-06 - mae: 0.0020 - val_loss: 7.1708e-06 - val_mae: 0.0019\n",
      "Epoch 417/500\n",
      "9/9 [==============================] - 0s 5ms/step - loss: 5.7411e-06 - mae: 0.0019 - val_loss: 5.5540e-05 - val_mae: 0.0066\n",
      "Epoch 418/500\n",
      "9/9 [==============================] - 0s 7ms/step - loss: 2.2538e-05 - mae: 0.0036 - val_loss: 1.9200e-05 - val_mae: 0.0035\n",
      "Epoch 419/500\n",
      "9/9 [==============================] - 0s 4ms/step - loss: 1.4467e-05 - mae: 0.0030 - val_loss: 1.2338e-05 - val_mae: 0.0031\n",
      "Epoch 420/500\n",
      "9/9 [==============================] - 0s 5ms/step - loss: 9.8345e-06 - mae: 0.0025 - val_loss: 1.5247e-05 - val_mae: 0.0033\n",
      "Epoch 421/500\n",
      "9/9 [==============================] - 0s 5ms/step - loss: 1.1164e-05 - mae: 0.0027 - val_loss: 6.4636e-06 - val_mae: 0.0020\n",
      "Epoch 422/500\n",
      "9/9 [==============================] - 0s 5ms/step - loss: 1.3578e-05 - mae: 0.0030 - val_loss: 1.1086e-05 - val_mae: 0.0027\n",
      "Epoch 423/500\n",
      "9/9 [==============================] - 0s 5ms/step - loss: 6.0228e-06 - mae: 0.0019 - val_loss: 8.3696e-06 - val_mae: 0.0022\n",
      "Epoch 424/500\n",
      "9/9 [==============================] - 0s 5ms/step - loss: 4.8256e-06 - mae: 0.0017 - val_loss: 1.3359e-05 - val_mae: 0.0031\n",
      "Epoch 425/500\n",
      "9/9 [==============================] - 0s 5ms/step - loss: 8.3402e-06 - mae: 0.0022 - val_loss: 1.0683e-04 - val_mae: 0.0093\n",
      "Epoch 426/500\n",
      "9/9 [==============================] - 0s 4ms/step - loss: 4.4086e-05 - mae: 0.0051 - val_loss: 1.3418e-04 - val_mae: 0.0107\n",
      "Epoch 427/500\n",
      "9/9 [==============================] - 0s 5ms/step - loss: 6.5853e-05 - mae: 0.0069 - val_loss: 2.7458e-04 - val_mae: 0.0154\n",
      "Epoch 428/500\n",
      "9/9 [==============================] - 0s 5ms/step - loss: 1.2162e-04 - mae: 0.0088 - val_loss: 7.2541e-05 - val_mae: 0.0075\n",
      "Epoch 429/500\n",
      "9/9 [==============================] - 0s 5ms/step - loss: 9.0346e-05 - mae: 0.0073 - val_loss: 9.5616e-05 - val_mae: 0.0085\n",
      "Epoch 430/500\n",
      "9/9 [==============================] - 0s 4ms/step - loss: 5.1668e-05 - mae: 0.0056 - val_loss: 2.2577e-05 - val_mae: 0.0035\n",
      "Epoch 431/500\n",
      "9/9 [==============================] - 0s 6ms/step - loss: 2.3662e-05 - mae: 0.0037 - val_loss: 1.4739e-05 - val_mae: 0.0032\n",
      "Epoch 432/500\n",
      "9/9 [==============================] - 0s 4ms/step - loss: 7.9680e-06 - mae: 0.0022 - val_loss: 5.3405e-06 - val_mae: 0.0017\n",
      "Epoch 433/500\n",
      "9/9 [==============================] - 0s 4ms/step - loss: 4.5068e-06 - mae: 0.0016 - val_loss: 4.6372e-06 - val_mae: 0.0018\n",
      "Epoch 434/500\n",
      "9/9 [==============================] - 0s 5ms/step - loss: 4.6463e-06 - mae: 0.0017 - val_loss: 1.1948e-05 - val_mae: 0.0029\n",
      "Epoch 435/500\n",
      "9/9 [==============================] - 0s 4ms/step - loss: 9.0378e-06 - mae: 0.0024 - val_loss: 6.7270e-06 - val_mae: 0.0020\n",
      "Epoch 436/500\n",
      "9/9 [==============================] - 0s 4ms/step - loss: 5.8496e-06 - mae: 0.0019 - val_loss: 4.2173e-05 - val_mae: 0.0061\n",
      "Epoch 437/500\n",
      "9/9 [==============================] - 0s 4ms/step - loss: 3.3526e-05 - mae: 0.0050 - val_loss: 1.1753e-05 - val_mae: 0.0026\n",
      "Epoch 438/500\n",
      "9/9 [==============================] - 0s 5ms/step - loss: 1.1013e-05 - mae: 0.0026 - val_loss: 1.1874e-05 - val_mae: 0.0030\n",
      "Epoch 439/500\n",
      "9/9 [==============================] - 0s 4ms/step - loss: 9.6049e-06 - mae: 0.0025 - val_loss: 1.3571e-05 - val_mae: 0.0030\n",
      "Epoch 440/500\n",
      "9/9 [==============================] - 0s 4ms/step - loss: 1.6527e-05 - mae: 0.0033 - val_loss: 1.8115e-05 - val_mae: 0.0034\n",
      "Epoch 441/500\n",
      "9/9 [==============================] - 0s 4ms/step - loss: 1.0811e-05 - mae: 0.0026 - val_loss: 4.0961e-06 - val_mae: 0.0016\n",
      "Epoch 442/500\n",
      "9/9 [==============================] - 0s 5ms/step - loss: 9.6797e-06 - mae: 0.0024 - val_loss: 8.3311e-06 - val_mae: 0.0023\n",
      "Epoch 443/500\n",
      "9/9 [==============================] - 0s 4ms/step - loss: 1.0424e-05 - mae: 0.0026 - val_loss: 4.1601e-06 - val_mae: 0.0015\n",
      "Epoch 444/500\n",
      "9/9 [==============================] - 0s 5ms/step - loss: 5.8129e-06 - mae: 0.0019 - val_loss: 3.3304e-06 - val_mae: 0.0014\n",
      "Epoch 445/500\n",
      "9/9 [==============================] - 0s 5ms/step - loss: 6.6723e-06 - mae: 0.0020 - val_loss: 3.3838e-06 - val_mae: 0.0013\n",
      "Epoch 446/500\n",
      "9/9 [==============================] - 0s 10ms/step - loss: 4.5215e-06 - mae: 0.0016 - val_loss: 1.0783e-05 - val_mae: 0.0030\n",
      "Epoch 447/500\n",
      "9/9 [==============================] - 0s 5ms/step - loss: 4.7305e-06 - mae: 0.0017 - val_loss: 4.0594e-06 - val_mae: 0.0016\n",
      "Epoch 448/500\n",
      "9/9 [==============================] - 0s 5ms/step - loss: 3.9858e-06 - mae: 0.0016 - val_loss: 2.8117e-06 - val_mae: 0.0012\n",
      "Epoch 449/500\n",
      "9/9 [==============================] - 0s 5ms/step - loss: 5.4981e-06 - mae: 0.0018 - val_loss: 7.6698e-06 - val_mae: 0.0023\n",
      "Epoch 450/500\n",
      "9/9 [==============================] - 0s 5ms/step - loss: 5.1794e-06 - mae: 0.0018 - val_loss: 4.3673e-06 - val_mae: 0.0016\n",
      "Epoch 451/500\n",
      "9/9 [==============================] - 0s 7ms/step - loss: 7.0442e-06 - mae: 0.0021 - val_loss: 4.4268e-06 - val_mae: 0.0014\n",
      "Epoch 452/500\n",
      "9/9 [==============================] - 0s 5ms/step - loss: 7.9605e-06 - mae: 0.0022 - val_loss: 3.7801e-06 - val_mae: 0.0016\n",
      "Epoch 453/500\n",
      "9/9 [==============================] - 0s 4ms/step - loss: 5.1348e-06 - mae: 0.0018 - val_loss: 5.2094e-06 - val_mae: 0.0018\n",
      "Epoch 454/500\n",
      "9/9 [==============================] - 0s 5ms/step - loss: 4.7111e-06 - mae: 0.0017 - val_loss: 3.9302e-06 - val_mae: 0.0014\n",
      "Epoch 455/500\n",
      "9/9 [==============================] - 0s 5ms/step - loss: 5.5539e-06 - mae: 0.0018 - val_loss: 2.5652e-05 - val_mae: 0.0046\n",
      "Epoch 456/500\n",
      "9/9 [==============================] - 0s 5ms/step - loss: 1.3250e-05 - mae: 0.0029 - val_loss: 3.9561e-06 - val_mae: 0.0016\n",
      "Epoch 457/500\n",
      "9/9 [==============================] - 0s 5ms/step - loss: 3.8699e-06 - mae: 0.0015 - val_loss: 9.5478e-06 - val_mae: 0.0027\n",
      "Epoch 458/500\n",
      "9/9 [==============================] - 0s 4ms/step - loss: 4.7372e-06 - mae: 0.0017 - val_loss: 3.6825e-06 - val_mae: 0.0015\n",
      "Epoch 459/500\n",
      "9/9 [==============================] - 0s 5ms/step - loss: 3.8122e-06 - mae: 0.0015 - val_loss: 5.1101e-05 - val_mae: 0.0062\n",
      "Epoch 460/500\n",
      "9/9 [==============================] - 0s 4ms/step - loss: 2.0348e-05 - mae: 0.0036 - val_loss: 1.3021e-05 - val_mae: 0.0031\n",
      "Epoch 461/500\n",
      "9/9 [==============================] - 0s 4ms/step - loss: 1.3629e-05 - mae: 0.0029 - val_loss: 2.7801e-05 - val_mae: 0.0045\n",
      "Epoch 462/500\n",
      "9/9 [==============================] - 0s 5ms/step - loss: 8.3217e-06 - mae: 0.0023 - val_loss: 2.2260e-05 - val_mae: 0.0040\n",
      "Epoch 463/500\n",
      "9/9 [==============================] - 0s 4ms/step - loss: 2.4305e-05 - mae: 0.0039 - val_loss: 9.0548e-06 - val_mae: 0.0025\n",
      "Epoch 464/500\n",
      "9/9 [==============================] - 0s 4ms/step - loss: 5.0524e-06 - mae: 0.0017 - val_loss: 1.3734e-05 - val_mae: 0.0029\n",
      "Epoch 465/500\n",
      "9/9 [==============================] - 0s 4ms/step - loss: 7.9162e-06 - mae: 0.0023 - val_loss: 1.1428e-05 - val_mae: 0.0030\n",
      "Epoch 466/500\n",
      "9/9 [==============================] - 0s 5ms/step - loss: 6.4565e-06 - mae: 0.0020 - val_loss: 8.2163e-06 - val_mae: 0.0025\n",
      "Epoch 467/500\n",
      "9/9 [==============================] - 0s 4ms/step - loss: 6.0091e-06 - mae: 0.0019 - val_loss: 2.2123e-05 - val_mae: 0.0041\n",
      "Epoch 468/500\n",
      "9/9 [==============================] - 0s 5ms/step - loss: 1.1484e-05 - mae: 0.0027 - val_loss: 3.0148e-05 - val_mae: 0.0050\n",
      "Epoch 469/500\n",
      "9/9 [==============================] - 0s 5ms/step - loss: 1.8382e-05 - mae: 0.0035 - val_loss: 6.0502e-05 - val_mae: 0.0069\n",
      "Epoch 470/500\n",
      "9/9 [==============================] - 0s 4ms/step - loss: 3.8643e-05 - mae: 0.0053 - val_loss: 8.5472e-05 - val_mae: 0.0076\n",
      "Epoch 471/500\n",
      "9/9 [==============================] - 0s 5ms/step - loss: 6.8302e-05 - mae: 0.0069 - val_loss: 2.1667e-04 - val_mae: 0.0134\n",
      "Epoch 472/500\n",
      "9/9 [==============================] - 0s 5ms/step - loss: 1.0319e-04 - mae: 0.0086 - val_loss: 3.0437e-04 - val_mae: 0.0161\n",
      "Epoch 473/500\n",
      "9/9 [==============================] - 0s 4ms/step - loss: 9.9333e-05 - mae: 0.0078 - val_loss: 2.2979e-05 - val_mae: 0.0039\n",
      "Epoch 474/500\n",
      "9/9 [==============================] - 0s 4ms/step - loss: 3.3865e-05 - mae: 0.0048 - val_loss: 1.9801e-05 - val_mae: 0.0037\n",
      "Epoch 475/500\n",
      "9/9 [==============================] - 0s 4ms/step - loss: 1.6234e-05 - mae: 0.0030 - val_loss: 2.0219e-05 - val_mae: 0.0037\n",
      "Epoch 476/500\n",
      "9/9 [==============================] - 0s 5ms/step - loss: 1.2682e-05 - mae: 0.0029 - val_loss: 9.8676e-06 - val_mae: 0.0021\n",
      "Epoch 477/500\n",
      "9/9 [==============================] - 0s 5ms/step - loss: 7.7665e-06 - mae: 0.0021 - val_loss: 5.4817e-05 - val_mae: 0.0065\n",
      "Epoch 478/500\n",
      "9/9 [==============================] - 0s 4ms/step - loss: 2.4634e-05 - mae: 0.0040 - val_loss: 5.2893e-06 - val_mae: 0.0020\n",
      "Epoch 479/500\n",
      "9/9 [==============================] - 0s 5ms/step - loss: 2.0844e-05 - mae: 0.0036 - val_loss: 1.9064e-05 - val_mae: 0.0037\n",
      "Epoch 480/500\n",
      "9/9 [==============================] - 0s 8ms/step - loss: 1.9300e-05 - mae: 0.0036 - val_loss: 1.0529e-04 - val_mae: 0.0095\n",
      "Epoch 481/500\n",
      "9/9 [==============================] - 0s 4ms/step - loss: 4.8276e-05 - mae: 0.0058 - val_loss: 4.5251e-05 - val_mae: 0.0054\n",
      "Epoch 482/500\n",
      "9/9 [==============================] - 0s 5ms/step - loss: 2.2330e-05 - mae: 0.0037 - val_loss: 1.9951e-05 - val_mae: 0.0036\n",
      "Epoch 483/500\n",
      "9/9 [==============================] - 0s 5ms/step - loss: 2.6590e-05 - mae: 0.0041 - val_loss: 2.6503e-04 - val_mae: 0.0152\n",
      "Epoch 484/500\n",
      "9/9 [==============================] - 0s 5ms/step - loss: 1.2462e-04 - mae: 0.0092 - val_loss: 1.0888e-04 - val_mae: 0.0088\n",
      "Epoch 485/500\n",
      "9/9 [==============================] - 0s 7ms/step - loss: 1.5690e-04 - mae: 0.0099 - val_loss: 2.6392e-05 - val_mae: 0.0041\n",
      "Epoch 486/500\n",
      "9/9 [==============================] - 0s 4ms/step - loss: 4.8966e-05 - mae: 0.0056 - val_loss: 2.1653e-04 - val_mae: 0.0138\n",
      "Epoch 487/500\n",
      "9/9 [==============================] - 0s 4ms/step - loss: 1.4405e-04 - mae: 0.0095 - val_loss: 4.1583e-05 - val_mae: 0.0057\n",
      "Epoch 488/500\n",
      "9/9 [==============================] - 0s 5ms/step - loss: 6.3421e-05 - mae: 0.0066 - val_loss: 1.6160e-04 - val_mae: 0.0109\n",
      "Epoch 489/500\n",
      "9/9 [==============================] - 0s 4ms/step - loss: 1.9435e-04 - mae: 0.0111 - val_loss: 3.1756e-05 - val_mae: 0.0041\n",
      "Epoch 490/500\n",
      "9/9 [==============================] - 0s 4ms/step - loss: 1.1374e-04 - mae: 0.0084 - val_loss: 3.1473e-05 - val_mae: 0.0048\n",
      "Epoch 491/500\n",
      "9/9 [==============================] - 0s 4ms/step - loss: 5.7934e-05 - mae: 0.0061 - val_loss: 1.8584e-04 - val_mae: 0.0116\n",
      "Epoch 492/500\n",
      "9/9 [==============================] - 0s 5ms/step - loss: 6.2379e-05 - mae: 0.0062 - val_loss: 6.3268e-05 - val_mae: 0.0070\n",
      "Epoch 493/500\n",
      "9/9 [==============================] - 0s 5ms/step - loss: 4.5330e-05 - mae: 0.0053 - val_loss: 1.4207e-04 - val_mae: 0.0108\n",
      "Epoch 494/500\n",
      "9/9 [==============================] - 0s 4ms/step - loss: 8.7718e-05 - mae: 0.0075 - val_loss: 3.9418e-04 - val_mae: 0.0180\n",
      "Epoch 495/500\n",
      "9/9 [==============================] - 0s 5ms/step - loss: 2.0394e-04 - mae: 0.0112 - val_loss: 8.7665e-04 - val_mae: 0.0240\n",
      "Epoch 496/500\n",
      "9/9 [==============================] - 0s 5ms/step - loss: 6.4776e-04 - mae: 0.0212 - val_loss: 0.0018 - val_mae: 0.0349\n",
      "Epoch 497/500\n",
      "9/9 [==============================] - 0s 5ms/step - loss: 0.0016 - mae: 0.0328 - val_loss: 6.7238e-04 - val_mae: 0.0220\n",
      "Epoch 498/500\n",
      "9/9 [==============================] - 0s 5ms/step - loss: 5.0595e-04 - mae: 0.0183 - val_loss: 9.0639e-04 - val_mae: 0.0244\n"
     ]
    }
   ],
   "source": [
    "history = ann.fit(X_train, y_train,\n",
    "                    validation_data = (X_val, y_val),\n",
    "                    callbacks=[es],\n",
    "                    epochs=500,\n",
    "                    batch_size=50,\n",
    "                    verbose=1)"
   ]
  },
  {
   "cell_type": "markdown",
   "metadata": {
    "colab_type": "text",
    "id": "0H0zKKNEBLD5"
   },
   "source": [
    "### Analyse learn history"
   ]
  },
  {
   "cell_type": "code",
   "execution_count": 16,
   "metadata": {},
   "outputs": [
    {
     "data": {
      "image/png": "[encoded data removed]",
      "text/plain": [
       "<Figure size 432x288 with 1 Axes>"
      ]
     },
     "metadata": {
      "needs_background": "light"
     },
     "output_type": "display_data"
    }
   ],
   "source": [
    "import matplotlib.pyplot as plt\n",
    "# let's see the training and validation accuracy by epoch\n",
    "history_dict = history.history\n",
    "loss_values = history_dict['loss'] # you can change this\n",
    "val_loss_values = history_dict['val_loss'] # you can also change this\n",
    "epochs = range(1, len(loss_values) + 1) # range of X (no. of epochs)\n",
    "plt.plot(epochs, loss_values, 'blue', label='Train set loss')\n",
    "plt.plot(epochs, val_loss_values, 'orange', label='Validation set loss')\n",
    "#plt.title('Training and testing loss')\n",
    "plt.xlabel('Epochs')\n",
    "plt.ylabel('Loss (MSE)')\n",
    "plt.legend()\n",
    "plt.show()"
   ]
  },
  {
   "cell_type": "code",
   "execution_count": 17,
   "metadata": {},
   "outputs": [
    {
     "data": {
      "image/png": "[encoded data removed]",
      "text/plain": [
       "<Figure size 432x288 with 1 Axes>"
      ]
     },
     "metadata": {
      "needs_background": "light"
     },
     "output_type": "display_data"
    }
   ],
   "source": [
    "loss_values1 = history_dict['mae'] # you can change this\n",
    "val_loss_values1 = history_dict['val_mae'] # you can also change this\n",
    "epochs = range(1, len(loss_values1) + 1) # range of X (no. of epochs)\n",
    "plt.plot(epochs, loss_values1, 'blue', label='Train set MAE')\n",
    "plt.plot(epochs, val_loss_values1, 'orange', label='Validation set MAE')\n",
    "#plt.title('Training and testing MAE')\n",
    "plt.xlabel('Epochs')\n",
    "plt.ylabel('MAE')\n",
    "plt.legend()\n",
    "plt.show()"
   ]
  },
  {
   "cell_type": "code",
   "execution_count": 18,
   "metadata": {},
   "outputs": [
    {
     "name": "stdout",
     "output_type": "stream",
     "text": [
      "range(1, 499)\n"
     ]
    }
   ],
   "source": [
    "print (epochs)"
   ]
  },
  {
   "cell_type": "markdown",
   "metadata": {},
   "source": [
    "### Save the model"
   ]
  },
  {
   "cell_type": "code",
   "execution_count": 30,
   "metadata": {},
   "outputs": [
    {
     "name": "stdout",
     "output_type": "stream",
     "text": [
      "INFO:tensorflow:Assets written to: ram://2dd44ffd-d2a6-4124-ae71-8ba26525bc34/assets\n"
     ]
    }
   ],
   "source": [
    "from keras.models import load_model\n",
    "ann.save('End_ANN_model_10.h5')"
   ]
  },
  {
   "cell_type": "markdown",
   "metadata": {},
   "source": [
    "## Part 5 - Make predictions"
   ]
  },
  {
   "cell_type": "code",
   "execution_count": 11,
   "metadata": {},
   "outputs": [],
   "source": [
    "from keras.models import load_model\n",
    "import matplotlib.pyplot as plt"
   ]
  },
  {
   "cell_type": "code",
   "execution_count": 9,
   "metadata": {},
   "outputs": [],
   "source": [
    "ann = load_model('End_ANN_model_10.h5')"
   ]
  },
  {
   "cell_type": "code",
   "execution_count": 12,
   "metadata": {},
   "outputs": [
    {
     "name": "stdout",
     "output_type": "stream",
     "text": [
      "13/13 [==============================] - 0s 1ms/step\n",
      "3/3 [==============================] - 0s 2ms/step\n"
     ]
    },
    {
     "data": {
      "image/png": "[encoded data removed]",
      "text/plain": [
       "<Figure size 432x288 with 2 Axes>"
      ]
     },
     "metadata": {
      "needs_background": "light"
     },
     "output_type": "display_data"
    }
   ],
   "source": [
    "# scatterplot of actual vs. pred\n",
    "# specify the dimensions \n",
    "fig, axes = plt.subplots(1,2) # 1 row, 2 columns\n",
    "\n",
    "# this makes the individual subplots\n",
    "# Training Results\n",
    "axes[0].scatter(x=y_train, y=ann.predict(X_train)) #first row, first entry (left top)\n",
    "axes[0].set_xlabel(\"Actual\", fontsize=10)\n",
    "axes[0].set_ylabel(\"Predicted\",  fontsize=10)\n",
    "axes[0].set_title(\"Training\")\n",
    "# add 45 deg line\n",
    "x = np.linspace(*axes[0].get_xlim())\n",
    "axes[0].plot(x, x, color='red')\n",
    "# Validation Results\n",
    "axes[1].scatter(x=y_val, y=ann.predict(X_val)) # first row, second entry (right top)\n",
    "axes[1].set_xlabel(\"Actual\", fontsize=10)\n",
    "axes[1].set_ylabel(\"Predicted\",  fontsize=10)\n",
    "axes[1].set_title(\"Validation\")\n",
    "# add 45 deg line\n",
    "x = np.linspace(*axes[1].get_xlim())\n",
    "axes[1].plot(x, x, color='red')\n",
    "\n",
    "# tight layout\n",
    "fig.tight_layout()\n",
    "\n",
    "# show the plot\n",
    "plt.show()"
   ]
  },
  {
   "cell_type": "code",
   "execution_count": 13,
   "metadata": {
    "colab": {
     "base_uri": "https://localhost:8080/",
     "height": 134
    },
    "colab_type": "code",
    "id": "IA0yApEmBG1X",
    "outputId": "cb981e1f-9204-4a2a-fece-9d66a6919189"
   },
   "outputs": [
    {
     "name": "stdout",
     "output_type": "stream",
     "text": [
      "3/3 [==============================] - 0s 3ms/step\n",
      "[[0.1  0.1 ]\n",
      " [0.07 0.07]\n",
      " [0.1  0.1 ]\n",
      " [0.03 0.03]\n",
      " [0.05 0.04]\n",
      " [0.06 0.06]\n",
      " [0.11 0.11]\n",
      " [0.09 0.09]\n",
      " [0.04 0.04]\n",
      " [0.11 0.11]\n",
      " [0.06 0.06]\n",
      " [0.06 0.06]\n",
      " [0.07 0.07]\n",
      " [0.11 0.11]\n",
      " [0.09 0.09]\n",
      " [0.03 0.04]\n",
      " [0.08 0.08]\n",
      " [0.04 0.05]\n",
      " [0.09 0.09]\n",
      " [0.06 0.06]\n",
      " [0.03 0.03]\n",
      " [0.03 0.03]\n",
      " [0.1  0.1 ]\n",
      " [0.12 0.12]\n",
      " [0.03 0.02]\n",
      " [0.08 0.08]\n",
      " [0.04 0.04]\n",
      " [0.04 0.04]\n",
      " [0.11 0.11]\n",
      " [0.1  0.1 ]\n",
      " [0.06 0.06]\n",
      " [0.07 0.07]\n",
      " [0.04 0.04]\n",
      " [0.08 0.08]\n",
      " [0.05 0.05]\n",
      " [0.1  0.1 ]\n",
      " [0.1  0.1 ]\n",
      " [0.06 0.06]\n",
      " [0.05 0.05]\n",
      " [0.04 0.04]\n",
      " [0.08 0.09]\n",
      " [0.1  0.1 ]\n",
      " [0.07 0.07]\n",
      " [0.07 0.07]\n",
      " [0.06 0.06]\n",
      " [0.06 0.06]\n",
      " [0.07 0.07]\n",
      " [0.05 0.05]\n",
      " [0.08 0.08]\n",
      " [0.09 0.09]\n",
      " [0.04 0.04]\n",
      " [0.04 0.04]\n",
      " [0.04 0.04]\n",
      " [0.1  0.1 ]\n",
      " [0.05 0.05]\n",
      " [0.12 0.12]\n",
      " [0.11 0.11]\n",
      " [0.11 0.11]\n",
      " [0.06 0.06]\n",
      " [0.08 0.08]\n",
      " [0.04 0.04]\n",
      " [0.05 0.05]\n",
      " [0.1  0.1 ]\n",
      " [0.04 0.04]\n",
      " [0.09 0.09]\n",
      " [0.1  0.1 ]\n",
      " [0.11 0.11]\n",
      " [0.08 0.08]\n",
      " [0.05 0.05]\n",
      " [0.1  0.1 ]\n",
      " [0.08 0.08]\n",
      " [0.11 0.11]\n",
      " [0.1  0.1 ]\n",
      " [0.12 0.12]\n",
      " [0.1  0.1 ]\n",
      " [0.05 0.05]\n",
      " [0.11 0.11]\n",
      " [0.11 0.11]\n",
      " [0.07 0.08]\n",
      " [0.08 0.08]\n",
      " [0.05 0.05]\n",
      " [0.07 0.07]\n",
      " [0.08 0.08]\n",
      " [0.1  0.1 ]\n",
      " [0.04 0.04]\n",
      " [0.04 0.04]\n",
      " [0.07 0.07]]\n"
     ]
    }
   ],
   "source": [
    "#X_test=np.asarray(X_test).astype(np.int)\n",
    "\n",
    "#y_test=np.asarray(y_test).astype(np.int)\n",
    "\n",
    "y_pred = ann.predict(X_test)\n",
    "np.set_printoptions(precision=2)\n",
    "print(np.concatenate((y_pred.reshape(len(y_pred),1), y_test.reshape(len(y_test),1)),1))"
   ]
  },
  {
   "cell_type": "code",
   "execution_count": 14,
   "metadata": {},
   "outputs": [
    {
     "data": {
      "text/plain": [
       "Text(0, 0.5, 'Predicted data')"
      ]
     },
     "execution_count": 14,
     "metadata": {},
     "output_type": "execute_result"
    },
    {
     "data": {
      "image/png": "[encoded data removed]",
      "text/plain": [
       "<Figure size 432x288 with 1 Axes>"
      ]
     },
     "metadata": {
      "needs_background": "light"
     },
     "output_type": "display_data"
    }
   ],
   "source": [
    "import matplotlib.pyplot as plt\n",
    "plt.scatter(y_test, y_pred, color=\"blue\")\n",
    "plt.plot ([0,0.13],[0,0.13], color = \"red\")\n",
    "plt.axis ([0,0.13,0,0.13])\n",
    "plt.xlabel ('Actual data')\n",
    "plt.ylabel ('Predicted data')"
   ]
  },
  {
   "cell_type": "code",
   "execution_count": 15,
   "metadata": {},
   "outputs": [
    {
     "data": {
      "image/png": "[encoded data removed]",
      "text/plain": [
       "<Figure size 648x648 with 1 Axes>"
      ]
     },
     "metadata": {
      "needs_background": "light"
     },
     "output_type": "display_data"
    }
   ],
   "source": [
    "from sklearn.metrics import r2_score\n",
    "# Initialize layout\n",
    "fig1, ax1 = plt.subplots(figsize = (9, 9))\n",
    "\n",
    "\n",
    "#y = y_pred         # Model on prvious line is called here\n",
    "#x = y_test\n",
    "\n",
    "\n",
    "\n",
    "# Add scatterplot\n",
    "ax1.scatter(y_test, y_pred, s=70, alpha=1, edgecolors=\"k\",c='mediumblue',zorder=5, label = 'Points')\n",
    "\n",
    "\n",
    "plt.ylabel('Predicted Peak Incident Pressure (kPa)',fontsize = 25)\n",
    "plt.xlabel('Actual Peak Incident Pressure (kPa)',fontsize = 25)\n",
    "plt.xticks(fontsize = 19)\n",
    "plt.yticks(fontsize = 19)\n",
    "\n",
    "\n",
    "x1 = np.linspace(0,0.13)\n",
    "\n",
    "plt.plot(x1, x1, 'Red', label='45\\N{DEGREE SIGN} line',lw=2.5,alpha=1)\n",
    "plt.plot(x1, 1.1*x1, '--m', label='\\u00B110% Error',lw=2.5,alpha=0.7)\n",
    "plt.plot(x1, 0.9*x1,'m', linestyle='--',lw=2.5,alpha=0.7)\n",
    "plt.plot(x1, 1.2*x1, '-.g', label='\\u00B120% Error',lw=2.5,alpha=0.7)\n",
    "plt.plot(x1, 0.8*x1,'-.g',lw=2.5,alpha=0.7)\n",
    "\n",
    "plt.ylim(0, 0.13)\n",
    "plt.xlim(0, 0.13)\n",
    "plt.legend(loc='upper left',fontsize = 25)\n",
    "\n",
    "plt.grid()\n",
    "\n",
    "ax1.spines['left'].set_color('black')        # setting up Y-axis tick color to red\n",
    "ax1.spines['bottom'].set_color('black')         #setting up above X-axis tick color to red\n",
    "\n",
    "\n",
    "\n",
    "#ax1.annotate(\"$R^2$ = {:.3f}\".format(r2), (2500, 1000),fontsize = 25)  #Model is called here\n",
    "#ax1.annotate(\"Adj.$R^2$ = {:.3f}\".format(adj_r2), (2500, 750),fontsize = 25)\n",
    "\n",
    "#plt.savefig('plot1.png', dpi = 600, bbox_inches = 'tight')"
   ]
  },
  {
   "cell_type": "code",
   "execution_count": 16,
   "metadata": {},
   "outputs": [
    {
     "name": "stdout",
     "output_type": "stream",
     "text": [
      "13/13 [==============================] - 0s 2ms/step\n",
      "0.00117812370624579\n",
      "0.001172372985752243\n"
     ]
    }
   ],
   "source": [
    "# metrics\n",
    "\n",
    "\n",
    "trainpreds = ann.predict(X_train)\n",
    "\n",
    "from sklearn.metrics import mean_absolute_error\n",
    "print(mean_absolute_error(y_train, trainpreds)) # train\n",
    "print(mean_absolute_error(y_test, y_pred)) # test"
   ]
  },
  {
   "cell_type": "code",
   "execution_count": 17,
   "metadata": {},
   "outputs": [
    {
     "name": "stdout",
     "output_type": "stream",
     "text": [
      "0.996765053275866\n"
     ]
    }
   ],
   "source": [
    "from sklearn.metrics import r2_score\n",
    "r2 = r2_score(y_test, y_pred)\n",
    "print (r2)"
   ]
  },
  {
   "cell_type": "code",
   "execution_count": 18,
   "metadata": {},
   "outputs": [
    {
     "name": "stdout",
     "output_type": "stream",
     "text": [
      "0.9967966500828905\n"
     ]
    }
   ],
   "source": [
    "r2_train = r2_score(y_train, trainpreds)\n",
    "print (r2_train)"
   ]
  },
  {
   "cell_type": "code",
   "execution_count": 19,
   "metadata": {},
   "outputs": [
    {
     "name": "stdout",
     "output_type": "stream",
     "text": [
      "Within 10% margin 97.70%\n",
      "Within 20% margin 100.00%\n",
      "Out of 20% margin 0.00%\n"
     ]
    }
   ],
   "source": [
    "count1 = 0\n",
    "for i in range(len(y_pred)):\n",
    "    line1 = y_pred[i] - 0.9*y_test[i]\n",
    "    line2 = y_pred[i] - 1.1*y_test[i]\n",
    "    #print ('line 1 ', line1)\n",
    "    #print ('line 2 ', line2)\n",
    "    mask1 = (line1 > 0) & (line2 < 0)\n",
    "    #print (mask)\n",
    "    count1 = np.sum(mask1+count1)\n",
    "    #print (count)\n",
    "\n",
    "count2 = 0\n",
    "for j in range(len(y_pred)):\n",
    "    line3 = y_pred[j] - 0.8*y_test[j]\n",
    "    line4 = y_pred[j] - 1.2*y_test[j]\n",
    "    mask2 = (line3 > 0) & (line4 < 0)\n",
    "    count2 = np.sum(mask2+count2)\n",
    "\n",
    "\n",
    "count3 = 0    \n",
    "for k in range(len(y_pred)):\n",
    "    line5 = y_pred[k] - 0.8*y_test[k]\n",
    "    line6 = y_pred[k] - 1.2*y_test[k]\n",
    "    mask3 = (line5 < 0) or (line6 > 0)\n",
    "    count3 = np.sum(mask3+count3)\n",
    "   \n",
    "\n",
    "print ('Within 10% margin', format((count1/len (y_pred)),'.2%'))\n",
    "print ('Within 20% margin', format((count2/len (y_pred)),'.2%'))\n",
    "print ('Out of 20% margin', format((count3/len (y_pred)),'.2%'))"
   ]
  },
  {
   "cell_type": "code",
   "execution_count": 20,
   "metadata": {},
   "outputs": [
    {
     "name": "stdout",
     "output_type": "stream",
     "text": [
      "0.9966880307348152\n"
     ]
    }
   ],
   "source": [
    "adj_r2 = 1 - ((1 - r2) * (len(X_test) - 1) / (len(X_test) - len (X_test[0]) - 1))\n",
    "print (adj_r2)"
   ]
  },
  {
   "cell_type": "code",
   "execution_count": 21,
   "metadata": {},
   "outputs": [
    {
     "data": {
      "text/plain": [
       "0.0015141821172921315"
      ]
     },
     "execution_count": 21,
     "metadata": {},
     "output_type": "execute_result"
    }
   ],
   "source": [
    "import math\n",
    "from sklearn.metrics import mean_squared_error\n",
    "\n",
    "math.sqrt(mean_squared_error(y_test, y_pred))"
   ]
  },
  {
   "cell_type": "code",
   "execution_count": 22,
   "metadata": {},
   "outputs": [
    {
     "data": {
      "text/plain": [
       "0.001172372985752243"
      ]
     },
     "execution_count": 22,
     "metadata": {},
     "output_type": "execute_result"
    }
   ],
   "source": [
    "from sklearn.metrics import mean_absolute_error\n",
    "\n",
    "mean_absolute_error(y_test, y_pred)"
   ]
  }
 ],
 "metadata": {
  "colab": {
   "collapsed_sections": [],
   "name": "Artificial Neural Network",
   "provenance": [],
   "toc_visible": true
  },
  "kernelspec": {
   "display_name": "Python 3 (ipykernel)",
   "language": "python",
   "name": "python3"
  },
  "language_info": {
   "codemirror_mode": {
    "name": "ipython",
    "version": 3
   },
   "file_extension": ".py",
   "mimetype": "text/x-python",
   "name": "python",
   "nbconvert_exporter": "python",
   "pygments_lexer": "ipython3",
   "version": "3.9.7"
  }
 },
 "nbformat": 4,
 "nbformat_minor": 4
}
