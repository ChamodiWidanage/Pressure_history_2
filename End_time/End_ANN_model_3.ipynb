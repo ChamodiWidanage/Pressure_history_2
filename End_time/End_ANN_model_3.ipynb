{
 "cells": [
  {
   "cell_type": "markdown",
   "metadata": {
    "colab_type": "text",
    "id": "3cbb7fRy-eyr"
   },
   "source": [
    "# Artificial Neural Network"
   ]
  },
  {
   "cell_type": "markdown",
   "metadata": {
    "colab_type": "text",
    "id": "8sNDnxE2-pwE"
   },
   "source": [
    "### Importing the libraries"
   ]
  },
  {
   "cell_type": "code",
   "execution_count": 1,
   "metadata": {
    "colab": {},
    "colab_type": "code",
    "id": "lxChR1Rk-umf"
   },
   "outputs": [],
   "source": [
    "import numpy as np\n",
    "import pandas as pd\n",
    "import tensorflow as tf"
   ]
  },
  {
   "cell_type": "markdown",
   "metadata": {
    "colab_type": "text",
    "id": "AG3FQEch-yuA"
   },
   "source": [
    "## Part 1 - Data Preprocessing"
   ]
  },
  {
   "cell_type": "markdown",
   "metadata": {
    "colab_type": "text",
    "id": "-4zq8Mza_D9O"
   },
   "source": [
    "### Importing the dataset"
   ]
  },
  {
   "cell_type": "code",
   "execution_count": 2,
   "metadata": {
    "colab": {},
    "colab_type": "code",
    "id": "B9CV13Co_HHM"
   },
   "outputs": [
    {
     "name": "stdout",
     "output_type": "stream",
     "text": [
      "<class 'pandas.core.frame.DataFrame'>\n",
      "RangeIndex: 560 entries, 0 to 559\n",
      "Data columns (total 3 columns):\n",
      " #   Column             Non-Null Count  Dtype  \n",
      "---  ------             --------------  -----  \n",
      " 0   Charge_mass        560 non-null    float64\n",
      " 1   Standoff_distance  560 non-null    int64  \n",
      " 2   End_time           560 non-null    float64\n",
      "dtypes: float64(2), int64(1)\n",
      "memory usage: 13.2 KB\n"
     ]
    }
   ],
   "source": [
    "dataset = pd.read_excel('End_time.xlsx')\n",
    "dataset.info()"
   ]
  },
  {
   "cell_type": "code",
   "execution_count": 3,
   "metadata": {},
   "outputs": [
    {
     "data": {
      "text/html": [
       "<div>\n",
       "<style scoped>\n",
       "    .dataframe tbody tr th:only-of-type {\n",
       "        vertical-align: middle;\n",
       "    }\n",
       "\n",
       "    .dataframe tbody tr th {\n",
       "        vertical-align: top;\n",
       "    }\n",
       "\n",
       "    .dataframe thead th {\n",
       "        text-align: right;\n",
       "    }\n",
       "</style>\n",
       "<table border=\"1\" class=\"dataframe\">\n",
       "  <thead>\n",
       "    <tr style=\"text-align: right;\">\n",
       "      <th></th>\n",
       "      <th>Charge_mass</th>\n",
       "      <th>Standoff_distance</th>\n",
       "      <th>End_time</th>\n",
       "    </tr>\n",
       "  </thead>\n",
       "  <tbody>\n",
       "    <tr>\n",
       "      <th>0</th>\n",
       "      <td>5.5</td>\n",
       "      <td>1</td>\n",
       "      <td>0.00404</td>\n",
       "    </tr>\n",
       "    <tr>\n",
       "      <th>1</th>\n",
       "      <td>5.5</td>\n",
       "      <td>7</td>\n",
       "      <td>0.03780</td>\n",
       "    </tr>\n",
       "    <tr>\n",
       "      <th>2</th>\n",
       "      <td>5.5</td>\n",
       "      <td>9</td>\n",
       "      <td>0.04370</td>\n",
       "    </tr>\n",
       "    <tr>\n",
       "      <th>3</th>\n",
       "      <td>5.5</td>\n",
       "      <td>11</td>\n",
       "      <td>0.04964</td>\n",
       "    </tr>\n",
       "    <tr>\n",
       "      <th>4</th>\n",
       "      <td>5.5</td>\n",
       "      <td>13</td>\n",
       "      <td>0.05559</td>\n",
       "    </tr>\n",
       "  </tbody>\n",
       "</table>\n",
       "</div>"
      ],
      "text/plain": [
       "   Charge_mass  Standoff_distance  End_time\n",
       "0          5.5                  1   0.00404\n",
       "1          5.5                  7   0.03780\n",
       "2          5.5                  9   0.04370\n",
       "3          5.5                 11   0.04964\n",
       "4          5.5                 13   0.05559"
      ]
     },
     "execution_count": 3,
     "metadata": {},
     "output_type": "execute_result"
    }
   ],
   "source": [
    "dataset.head()"
   ]
  },
  {
   "cell_type": "code",
   "execution_count": 3,
   "metadata": {},
   "outputs": [
    {
     "name": "stdout",
     "output_type": "stream",
     "text": [
      "(560, 2) (560,)\n"
     ]
    }
   ],
   "source": [
    "y = dataset['End_time']\n",
    "X = dataset.drop('End_time', axis=1)\n",
    "print(X.shape, y.shape)"
   ]
  },
  {
   "cell_type": "code",
   "execution_count": 4,
   "metadata": {},
   "outputs": [],
   "source": [
    "# convert to numpy array\n",
    "X = np.array(X)\n",
    "y = np.array(y)"
   ]
  },
  {
   "cell_type": "markdown",
   "metadata": {
    "colab_type": "text",
    "id": "VC6omXel_Up0"
   },
   "source": [
    "### Splitting the dataset into the Training set and Test set"
   ]
  },
  {
   "cell_type": "code",
   "execution_count": 6,
   "metadata": {
    "colab": {},
    "colab_type": "code",
    "id": "L5edeb2r_agx"
   },
   "outputs": [],
   "source": [
    "from sklearn.model_selection import train_test_split\n",
    "X_train, X_test, y_train, y_test = train_test_split(X,\n",
    "                                                    y,\n",
    "                                                    test_size = 0.3,\n",
    "                                                    random_state = 0)"
   ]
  },
  {
   "cell_type": "code",
   "execution_count": 7,
   "metadata": {
    "colab": {},
    "colab_type": "code",
    "id": "L5edeb2r_agx"
   },
   "outputs": [],
   "source": [
    "X_val, X_test, y_val, y_test = train_test_split(X_test,\n",
    "                                                y_test,\n",
    "                                                test_size = 0.5,\n",
    "                                                random_state = 0)"
   ]
  },
  {
   "cell_type": "markdown",
   "metadata": {
    "colab_type": "text",
    "id": "_mSLlAT9_eyI"
   },
   "source": [
    "## Part 2 - Building the ANN"
   ]
  },
  {
   "cell_type": "markdown",
   "metadata": {
    "colab_type": "text",
    "id": "CsBULd_f_wLY"
   },
   "source": [
    "### Initializing the ANN"
   ]
  },
  {
   "cell_type": "code",
   "execution_count": 8,
   "metadata": {
    "colab": {},
    "colab_type": "code",
    "id": "J6Hd97Ls__Nz"
   },
   "outputs": [],
   "source": [
    "ann = tf.keras.models.Sequential()"
   ]
  },
  {
   "cell_type": "markdown",
   "metadata": {
    "colab_type": "text",
    "id": "iitAFJS_ABUn"
   },
   "source": [
    "### Adding the input layer and the first hidden layer"
   ]
  },
  {
   "cell_type": "code",
   "execution_count": 9,
   "metadata": {
    "colab": {},
    "colab_type": "code",
    "id": "ksO_Vv40AHix"
   },
   "outputs": [],
   "source": [
    "ann.add(tf.keras.layers.Dense(units=5,\n",
    "                              input_shape=(X_train.shape[1],),\n",
    "                              activation='leaky_relu'))"
   ]
  },
  {
   "cell_type": "markdown",
   "metadata": {
    "colab_type": "text",
    "id": "-lb4kK_wAKbs"
   },
   "source": [
    "### Adding the second hidden layer"
   ]
  },
  {
   "cell_type": "code",
   "execution_count": 10,
   "metadata": {
    "colab": {},
    "colab_type": "code",
    "id": "c2357OqEAQOQ",
    "tags": []
   },
   "outputs": [],
   "source": [
    "ann.add(tf.keras.layers.Dense(units=5,\n",
    "                              activation='leaky_relu'))"
   ]
  },
  {
   "cell_type": "markdown",
   "metadata": {
    "colab_type": "text",
    "id": "-lb4kK_wAKbs"
   },
   "source": [
    "### Adding the third hidden layer"
   ]
  },
  {
   "cell_type": "code",
   "execution_count": 11,
   "metadata": {
    "colab": {},
    "colab_type": "code",
    "id": "c2357OqEAQOQ",
    "tags": []
   },
   "outputs": [],
   "source": [
    "ann.add(tf.keras.layers.Dense(units=5,\n",
    "                              activation='leaky_relu'))"
   ]
  },
  {
   "cell_type": "markdown",
   "metadata": {
    "colab_type": "text",
    "id": "jwMOmKb3AdBY"
   },
   "source": [
    "### Adding the output layer"
   ]
  },
  {
   "cell_type": "code",
   "execution_count": 12,
   "metadata": {
    "colab": {},
    "colab_type": "code",
    "id": "YFATpzsUAkLL"
   },
   "outputs": [],
   "source": [
    "ann.add(tf.keras.layers.Dense(units=1,\n",
    "                              activation='linear'))"
   ]
  },
  {
   "cell_type": "markdown",
   "metadata": {},
   "source": [
    "### what model looks like"
   ]
  },
  {
   "cell_type": "code",
   "execution_count": 13,
   "metadata": {},
   "outputs": [
    {
     "name": "stdout",
     "output_type": "stream",
     "text": [
      "Model: \"sequential\"\n",
      "_________________________________________________________________\n",
      " Layer (type)                Output Shape              Param #   \n",
      "=================================================================\n",
      " dense (Dense)               (None, 5)                 15        \n",
      "                                                                 \n",
      " dense_1 (Dense)             (None, 5)                 30        \n",
      "                                                                 \n",
      " dense_2 (Dense)             (None, 5)                 30        \n",
      "                                                                 \n",
      " dense_3 (Dense)             (None, 1)                 6         \n",
      "                                                                 \n",
      "=================================================================\n",
      "Total params: 81\n",
      "Trainable params: 81\n",
      "Non-trainable params: 0\n",
      "_________________________________________________________________\n"
     ]
    }
   ],
   "source": [
    "ann.summary()"
   ]
  },
  {
   "cell_type": "markdown",
   "metadata": {
    "colab_type": "text",
    "id": "fq7e4fF6A1yy"
   },
   "source": [
    "## Part 3 - Training the ANN"
   ]
  },
  {
   "cell_type": "markdown",
   "metadata": {
    "colab_type": "text",
    "id": "qDeylAs2An25"
   },
   "source": [
    "### Compiling the ANN"
   ]
  },
  {
   "cell_type": "code",
   "execution_count": 14,
   "metadata": {
    "colab": {},
    "colab_type": "code",
    "id": "pesgbWlCAtB4"
   },
   "outputs": [],
   "source": [
    "from tensorflow.keras.optimizers import Adam\n",
    "opt = Adam(learning_rate=0.1)\n",
    "ann.compile(optimizer = opt,\n",
    "            loss = 'mean_squared_error',\n",
    "            metrics = ['mae'])"
   ]
  },
  {
   "cell_type": "markdown",
   "metadata": {},
   "source": [
    "### early stopping callback"
   ]
  },
  {
   "cell_type": "code",
   "execution_count": 15,
   "metadata": {},
   "outputs": [],
   "source": [
    "# protects from unnecessary further training of the model if a particular metric does not continue to improve over a number of n epochs. In such a case, the model training would be automatically aborted.\n",
    "from keras.callbacks import EarlyStopping\n",
    "es = EarlyStopping(monitor='val_loss',\n",
    "                   mode='min',\n",
    "                   patience=50,\n",
    "                   restore_best_weights = True)"
   ]
  },
  {
   "cell_type": "markdown",
   "metadata": {
    "colab_type": "text",
    "id": "YjVuiybYOo7r"
   },
   "source": [
    "### Training the ANN model on the Training set"
   ]
  },
  {
   "cell_type": "code",
   "execution_count": 16,
   "metadata": {
    "colab": {
     "base_uri": "https://localhost:8080/",
     "height": 1000
    },
    "colab_type": "code",
    "id": "c_vV-tiiA5zn",
    "outputId": "4a2b6ee6-ed75-4698-9069-b250e613803f"
   },
   "outputs": [
    {
     "name": "stdout",
     "output_type": "stream",
     "text": [
      "Epoch 1/500\n",
      "8/8 [==============================] - 1s 25ms/step - loss: 2.4336 - mae: 0.7043 - val_loss: 0.0746 - val_mae: 0.2386\n",
      "Epoch 2/500\n",
      "8/8 [==============================] - 0s 6ms/step - loss: 0.1961 - mae: 0.3766 - val_loss: 0.1343 - val_mae: 0.3121\n",
      "Epoch 3/500\n",
      "8/8 [==============================] - 0s 8ms/step - loss: 0.0453 - mae: 0.1741 - val_loss: 0.0155 - val_mae: 0.1097\n",
      "Epoch 4/500\n",
      "8/8 [==============================] - 0s 9ms/step - loss: 0.0137 - mae: 0.0929 - val_loss: 0.0143 - val_mae: 0.1146\n",
      "Epoch 5/500\n",
      "8/8 [==============================] - 0s 7ms/step - loss: 0.0057 - mae: 0.0612 - val_loss: 0.0041 - val_mae: 0.0626\n",
      "Epoch 6/500\n",
      "8/8 [==============================] - 0s 9ms/step - loss: 0.0023 - mae: 0.0406 - val_loss: 0.0018 - val_mae: 0.0369\n",
      "Epoch 7/500\n",
      "8/8 [==============================] - 0s 8ms/step - loss: 8.5946e-04 - mae: 0.0247 - val_loss: 9.1689e-04 - val_mae: 0.0286\n",
      "Epoch 8/500\n",
      "8/8 [==============================] - 0s 9ms/step - loss: 4.0019e-04 - mae: 0.0166 - val_loss: 4.5106e-04 - val_mae: 0.0193\n",
      "Epoch 9/500\n",
      "8/8 [==============================] - 0s 8ms/step - loss: 2.7040e-04 - mae: 0.0134 - val_loss: 2.7844e-04 - val_mae: 0.0140\n",
      "Epoch 10/500\n",
      "8/8 [==============================] - 0s 8ms/step - loss: 1.1380e-04 - mae: 0.0087 - val_loss: 7.2095e-05 - val_mae: 0.0071\n",
      "Epoch 11/500\n",
      "8/8 [==============================] - 0s 12ms/step - loss: 7.9738e-05 - mae: 0.0075 - val_loss: 6.0388e-05 - val_mae: 0.0065\n",
      "Epoch 12/500\n",
      "8/8 [==============================] - 0s 7ms/step - loss: 8.6532e-05 - mae: 0.0076 - val_loss: 7.6595e-05 - val_mae: 0.0072\n",
      "Epoch 13/500\n",
      "8/8 [==============================] - 0s 9ms/step - loss: 9.0835e-05 - mae: 0.0078 - val_loss: 6.6225e-05 - val_mae: 0.0064\n",
      "Epoch 14/500\n",
      "8/8 [==============================] - 0s 8ms/step - loss: 8.0421e-05 - mae: 0.0075 - val_loss: 6.9650e-05 - val_mae: 0.0069\n",
      "Epoch 15/500\n",
      "8/8 [==============================] - 0s 8ms/step - loss: 8.0381e-05 - mae: 0.0076 - val_loss: 5.5525e-05 - val_mae: 0.0061\n",
      "Epoch 16/500\n",
      "8/8 [==============================] - 0s 8ms/step - loss: 7.5514e-05 - mae: 0.0072 - val_loss: 1.1913e-04 - val_mae: 0.0088\n",
      "Epoch 17/500\n",
      "8/8 [==============================] - 0s 8ms/step - loss: 8.5296e-05 - mae: 0.0077 - val_loss: 6.5776e-05 - val_mae: 0.0066\n",
      "Epoch 18/500\n",
      "8/8 [==============================] - 0s 9ms/step - loss: 8.6569e-05 - mae: 0.0076 - val_loss: 9.6673e-05 - val_mae: 0.0079\n",
      "Epoch 19/500\n",
      "8/8 [==============================] - 0s 9ms/step - loss: 8.2394e-05 - mae: 0.0073 - val_loss: 5.4421e-05 - val_mae: 0.0058\n",
      "Epoch 20/500\n",
      "8/8 [==============================] - 0s 8ms/step - loss: 7.9163e-05 - mae: 0.0071 - val_loss: 9.6683e-05 - val_mae: 0.0076\n",
      "Epoch 21/500\n",
      "8/8 [==============================] - 0s 7ms/step - loss: 1.4169e-04 - mae: 0.0097 - val_loss: 1.6236e-04 - val_mae: 0.0109\n",
      "Epoch 22/500\n",
      "8/8 [==============================] - 0s 7ms/step - loss: 1.0027e-04 - mae: 0.0080 - val_loss: 1.1519e-04 - val_mae: 0.0092\n",
      "Epoch 23/500\n",
      "8/8 [==============================] - 0s 8ms/step - loss: 7.4177e-05 - mae: 0.0068 - val_loss: 1.0514e-04 - val_mae: 0.0088\n",
      "Epoch 24/500\n",
      "8/8 [==============================] - 0s 9ms/step - loss: 5.7840e-05 - mae: 0.0059 - val_loss: 3.9409e-05 - val_mae: 0.0044\n",
      "Epoch 25/500\n",
      "8/8 [==============================] - 0s 8ms/step - loss: 4.6957e-05 - mae: 0.0054 - val_loss: 4.2594e-05 - val_mae: 0.0048\n",
      "Epoch 26/500\n",
      "8/8 [==============================] - 0s 8ms/step - loss: 4.3090e-05 - mae: 0.0052 - val_loss: 3.1095e-05 - val_mae: 0.0046\n",
      "Epoch 27/500\n",
      "8/8 [==============================] - 0s 9ms/step - loss: 4.6793e-05 - mae: 0.0054 - val_loss: 3.6885e-05 - val_mae: 0.0050\n",
      "Epoch 28/500\n",
      "8/8 [==============================] - 0s 9ms/step - loss: 6.4462e-05 - mae: 0.0064 - val_loss: 3.0263e-05 - val_mae: 0.0045\n",
      "Epoch 29/500\n",
      "8/8 [==============================] - 0s 9ms/step - loss: 4.6701e-05 - mae: 0.0052 - val_loss: 3.1847e-05 - val_mae: 0.0038\n",
      "Epoch 30/500\n",
      "8/8 [==============================] - 0s 9ms/step - loss: 5.1791e-05 - mae: 0.0057 - val_loss: 4.4000e-05 - val_mae: 0.0052\n",
      "Epoch 31/500\n",
      "8/8 [==============================] - 0s 8ms/step - loss: 5.7333e-05 - mae: 0.0060 - val_loss: 4.1748e-05 - val_mae: 0.0053\n",
      "Epoch 32/500\n",
      "8/8 [==============================] - 0s 9ms/step - loss: 7.7323e-05 - mae: 0.0072 - val_loss: 7.3142e-05 - val_mae: 0.0073\n",
      "Epoch 33/500\n",
      "8/8 [==============================] - 0s 12ms/step - loss: 5.8317e-05 - mae: 0.0061 - val_loss: 2.9820e-05 - val_mae: 0.0036\n",
      "Epoch 34/500\n",
      "8/8 [==============================] - 0s 9ms/step - loss: 6.9427e-05 - mae: 0.0066 - val_loss: 1.6675e-04 - val_mae: 0.0115\n",
      "Epoch 35/500\n",
      "8/8 [==============================] - 0s 9ms/step - loss: 9.3852e-05 - mae: 0.0079 - val_loss: 4.2031e-05 - val_mae: 0.0054\n",
      "Epoch 36/500\n",
      "8/8 [==============================] - 0s 8ms/step - loss: 4.2720e-05 - mae: 0.0052 - val_loss: 3.6180e-05 - val_mae: 0.0050\n",
      "Epoch 37/500\n",
      "8/8 [==============================] - 0s 7ms/step - loss: 4.6528e-05 - mae: 0.0054 - val_loss: 2.6128e-05 - val_mae: 0.0038\n",
      "Epoch 38/500\n",
      "8/8 [==============================] - 0s 8ms/step - loss: 3.9294e-05 - mae: 0.0050 - val_loss: 3.7102e-05 - val_mae: 0.0050\n",
      "Epoch 39/500\n",
      "8/8 [==============================] - 0s 8ms/step - loss: 4.0548e-05 - mae: 0.0051 - val_loss: 6.0207e-05 - val_mae: 0.0065\n",
      "Epoch 40/500\n",
      "8/8 [==============================] - 0s 9ms/step - loss: 4.6370e-05 - mae: 0.0054 - val_loss: 2.5833e-05 - val_mae: 0.0039\n",
      "Epoch 41/500\n",
      "8/8 [==============================] - 0s 8ms/step - loss: 1.1667e-04 - mae: 0.0087 - val_loss: 2.5623e-05 - val_mae: 0.0038\n",
      "Epoch 42/500\n",
      "8/8 [==============================] - 0s 8ms/step - loss: 6.4761e-05 - mae: 0.0065 - val_loss: 1.2028e-04 - val_mae: 0.0097\n",
      "Epoch 43/500\n",
      "8/8 [==============================] - 0s 8ms/step - loss: 1.1661e-04 - mae: 0.0088 - val_loss: 3.8225e-04 - val_mae: 0.0176\n",
      "Epoch 44/500\n",
      "8/8 [==============================] - 0s 8ms/step - loss: 1.4865e-04 - mae: 0.0101 - val_loss: 1.5752e-04 - val_mae: 0.0113\n",
      "Epoch 45/500\n",
      "8/8 [==============================] - 0s 6ms/step - loss: 1.3835e-04 - mae: 0.0095 - val_loss: 2.0095e-04 - val_mae: 0.0124\n",
      "Epoch 46/500\n",
      "8/8 [==============================] - 0s 7ms/step - loss: 1.3793e-04 - mae: 0.0098 - val_loss: 1.5280e-04 - val_mae: 0.0112\n",
      "Epoch 47/500\n",
      "8/8 [==============================] - 0s 7ms/step - loss: 1.0822e-04 - mae: 0.0085 - val_loss: 3.3243e-04 - val_mae: 0.0163\n",
      "Epoch 48/500\n",
      "8/8 [==============================] - 0s 6ms/step - loss: 1.1520e-04 - mae: 0.0085 - val_loss: 7.7750e-05 - val_mae: 0.0076\n",
      "Epoch 49/500\n",
      "8/8 [==============================] - 0s 7ms/step - loss: 5.0959e-05 - mae: 0.0056 - val_loss: 2.4897e-05 - val_mae: 0.0038\n",
      "Epoch 50/500\n",
      "8/8 [==============================] - 0s 8ms/step - loss: 4.2132e-05 - mae: 0.0052 - val_loss: 4.5747e-05 - val_mae: 0.0058\n",
      "Epoch 51/500\n",
      "8/8 [==============================] - 0s 8ms/step - loss: 6.5455e-05 - mae: 0.0066 - val_loss: 8.8685e-05 - val_mae: 0.0082\n",
      "Epoch 52/500\n",
      "8/8 [==============================] - 0s 8ms/step - loss: 1.2004e-04 - mae: 0.0090 - val_loss: 1.2595e-04 - val_mae: 0.0099\n",
      "Epoch 53/500\n",
      "8/8 [==============================] - 0s 8ms/step - loss: 8.6058e-05 - mae: 0.0074 - val_loss: 1.5659e-04 - val_mae: 0.0112\n",
      "Epoch 54/500\n",
      "8/8 [==============================] - 0s 8ms/step - loss: 7.7393e-05 - mae: 0.0070 - val_loss: 6.7952e-05 - val_mae: 0.0072\n",
      "Epoch 55/500\n",
      "8/8 [==============================] - 0s 6ms/step - loss: 6.9734e-05 - mae: 0.0068 - val_loss: 1.9696e-04 - val_mae: 0.0124\n",
      "Epoch 56/500\n",
      "8/8 [==============================] - 0s 5ms/step - loss: 1.3045e-04 - mae: 0.0096 - val_loss: 3.1364e-05 - val_mae: 0.0046\n",
      "Epoch 57/500\n",
      "8/8 [==============================] - 0s 6ms/step - loss: 1.1451e-04 - mae: 0.0087 - val_loss: 1.3885e-04 - val_mae: 0.0105\n",
      "Epoch 58/500\n",
      "8/8 [==============================] - 0s 7ms/step - loss: 8.5461e-05 - mae: 0.0074 - val_loss: 1.9078e-04 - val_mae: 0.0123\n",
      "Epoch 59/500\n",
      "8/8 [==============================] - 0s 6ms/step - loss: 9.8529e-05 - mae: 0.0080 - val_loss: 4.2920e-05 - val_mae: 0.0056\n",
      "Epoch 60/500\n",
      "8/8 [==============================] - 0s 6ms/step - loss: 7.1566e-05 - mae: 0.0067 - val_loss: 1.5835e-04 - val_mae: 0.0111\n",
      "Epoch 61/500\n",
      "8/8 [==============================] - 0s 6ms/step - loss: 2.1555e-04 - mae: 0.0120 - val_loss: 4.1040e-05 - val_mae: 0.0054\n",
      "Epoch 62/500\n",
      "8/8 [==============================] - 0s 6ms/step - loss: 3.5601e-04 - mae: 0.0158 - val_loss: 2.5510e-05 - val_mae: 0.0034\n",
      "Epoch 63/500\n",
      "8/8 [==============================] - 0s 6ms/step - loss: 2.0343e-04 - mae: 0.0115 - val_loss: 2.6097e-04 - val_mae: 0.0150\n",
      "Epoch 64/500\n",
      "8/8 [==============================] - 0s 6ms/step - loss: 2.2252e-04 - mae: 0.0125 - val_loss: 7.5223e-05 - val_mae: 0.0076\n",
      "Epoch 65/500\n",
      "8/8 [==============================] - 0s 5ms/step - loss: 5.8633e-05 - mae: 0.0061 - val_loss: 6.8370e-05 - val_mae: 0.0072\n",
      "Epoch 66/500\n",
      "8/8 [==============================] - 0s 6ms/step - loss: 5.9552e-05 - mae: 0.0064 - val_loss: 3.5185e-05 - val_mae: 0.0044\n",
      "Epoch 67/500\n",
      "8/8 [==============================] - 0s 9ms/step - loss: 5.7368e-05 - mae: 0.0060 - val_loss: 2.5648e-05 - val_mae: 0.0035\n",
      "Epoch 68/500\n",
      "8/8 [==============================] - 0s 14ms/step - loss: 6.9617e-05 - mae: 0.0064 - val_loss: 3.5214e-05 - val_mae: 0.0041\n",
      "Epoch 69/500\n",
      "8/8 [==============================] - 0s 8ms/step - loss: 8.3109e-05 - mae: 0.0072 - val_loss: 1.3071e-04 - val_mae: 0.0102\n",
      "Epoch 70/500\n",
      "8/8 [==============================] - 0s 7ms/step - loss: 2.0649e-04 - mae: 0.0117 - val_loss: 1.3839e-04 - val_mae: 0.0105\n",
      "Epoch 71/500\n",
      "8/8 [==============================] - 0s 5ms/step - loss: 8.1582e-05 - mae: 0.0071 - val_loss: 4.3140e-05 - val_mae: 0.0057\n",
      "Epoch 72/500\n",
      "8/8 [==============================] - 0s 10ms/step - loss: 4.1858e-05 - mae: 0.0052 - val_loss: 1.4984e-04 - val_mae: 0.0109\n",
      "Epoch 73/500\n",
      "8/8 [==============================] - 0s 10ms/step - loss: 1.8473e-04 - mae: 0.0112 - val_loss: 6.1235e-04 - val_mae: 0.0231\n",
      "Epoch 74/500\n",
      "8/8 [==============================] - 0s 12ms/step - loss: 3.5932e-04 - mae: 0.0162 - val_loss: 2.4244e-05 - val_mae: 0.0035\n",
      "Epoch 75/500\n",
      "8/8 [==============================] - 0s 6ms/step - loss: 2.2017e-04 - mae: 0.0119 - val_loss: 4.0183e-04 - val_mae: 0.0178\n",
      "Epoch 76/500\n",
      "8/8 [==============================] - 0s 7ms/step - loss: 1.6008e-04 - mae: 0.0103 - val_loss: 7.3450e-05 - val_mae: 0.0071\n",
      "Epoch 77/500\n",
      "8/8 [==============================] - 0s 9ms/step - loss: 2.0125e-04 - mae: 0.0117 - val_loss: 3.8413e-04 - val_mae: 0.0180\n",
      "Epoch 78/500\n",
      "8/8 [==============================] - 0s 9ms/step - loss: 1.6204e-04 - mae: 0.0104 - val_loss: 1.5539e-04 - val_mae: 0.0110\n",
      "Epoch 79/500\n",
      "8/8 [==============================] - 0s 11ms/step - loss: 1.0566e-04 - mae: 0.0085 - val_loss: 2.6651e-05 - val_mae: 0.0040\n",
      "Epoch 80/500\n",
      "8/8 [==============================] - 0s 10ms/step - loss: 4.5945e-05 - mae: 0.0054 - val_loss: 3.8307e-05 - val_mae: 0.0046\n",
      "Epoch 81/500\n",
      "8/8 [==============================] - 0s 8ms/step - loss: 1.9274e-04 - mae: 0.0111 - val_loss: 8.5915e-04 - val_mae: 0.0268\n",
      "Epoch 82/500\n",
      "8/8 [==============================] - 0s 7ms/step - loss: 3.3605e-04 - mae: 0.0154 - val_loss: 3.8849e-05 - val_mae: 0.0051\n",
      "Epoch 83/500\n",
      "8/8 [==============================] - 0s 8ms/step - loss: 1.2085e-04 - mae: 0.0091 - val_loss: 1.1137e-04 - val_mae: 0.0095\n",
      "Epoch 84/500\n",
      "8/8 [==============================] - 0s 12ms/step - loss: 7.2196e-05 - mae: 0.0070 - val_loss: 5.0714e-05 - val_mae: 0.0062\n",
      "Epoch 85/500\n",
      "8/8 [==============================] - 0s 12ms/step - loss: 5.9255e-05 - mae: 0.0062 - val_loss: 3.4829e-05 - val_mae: 0.0049\n",
      "Epoch 86/500\n",
      "8/8 [==============================] - 0s 7ms/step - loss: 3.6583e-05 - mae: 0.0048 - val_loss: 5.6109e-05 - val_mae: 0.0063\n",
      "Epoch 87/500\n",
      "8/8 [==============================] - 0s 11ms/step - loss: 5.3584e-05 - mae: 0.0059 - val_loss: 2.5917e-05 - val_mae: 0.0035\n",
      "Epoch 88/500\n",
      "8/8 [==============================] - 0s 9ms/step - loss: 4.6841e-05 - mae: 0.0053 - val_loss: 7.6109e-05 - val_mae: 0.0078\n",
      "Epoch 89/500\n",
      "8/8 [==============================] - 0s 10ms/step - loss: 6.4852e-05 - mae: 0.0065 - val_loss: 5.5555e-05 - val_mae: 0.0065\n",
      "Epoch 90/500\n",
      "8/8 [==============================] - 0s 10ms/step - loss: 1.1385e-04 - mae: 0.0085 - val_loss: 1.2055e-04 - val_mae: 0.0096\n",
      "Epoch 91/500\n",
      "8/8 [==============================] - 0s 8ms/step - loss: 7.4616e-05 - mae: 0.0069 - val_loss: 2.9250e-05 - val_mae: 0.0043\n",
      "Epoch 92/500\n",
      "8/8 [==============================] - 0s 9ms/step - loss: 3.7187e-05 - mae: 0.0048 - val_loss: 1.1499e-04 - val_mae: 0.0095\n",
      "Epoch 93/500\n",
      "8/8 [==============================] - 0s 9ms/step - loss: 8.6226e-05 - mae: 0.0074 - val_loss: 2.5186e-05 - val_mae: 0.0034\n",
      "Epoch 94/500\n",
      "8/8 [==============================] - 0s 11ms/step - loss: 4.2608e-05 - mae: 0.0050 - val_loss: 3.3743e-05 - val_mae: 0.0048\n",
      "Epoch 95/500\n",
      "8/8 [==============================] - 0s 10ms/step - loss: 3.6819e-05 - mae: 0.0047 - val_loss: 6.3161e-05 - val_mae: 0.0067\n",
      "Epoch 96/500\n",
      "8/8 [==============================] - 0s 8ms/step - loss: 1.1205e-04 - mae: 0.0086 - val_loss: 1.2660e-04 - val_mae: 0.0100\n",
      "Epoch 97/500\n",
      "8/8 [==============================] - 0s 8ms/step - loss: 7.6632e-05 - mae: 0.0070 - val_loss: 3.8399e-05 - val_mae: 0.0053\n",
      "Epoch 98/500\n",
      "8/8 [==============================] - 0s 10ms/step - loss: 5.6455e-05 - mae: 0.0058 - val_loss: 2.8430e-04 - val_mae: 0.0152\n",
      "Epoch 99/500\n",
      "8/8 [==============================] - 0s 8ms/step - loss: 1.0813e-04 - mae: 0.0081 - val_loss: 2.7219e-05 - val_mae: 0.0035\n",
      "Epoch 100/500\n",
      "8/8 [==============================] - 0s 7ms/step - loss: 5.1575e-05 - mae: 0.0057 - val_loss: 2.6239e-05 - val_mae: 0.0039\n",
      "Epoch 101/500\n",
      "8/8 [==============================] - 0s 8ms/step - loss: 3.9457e-05 - mae: 0.0051 - val_loss: 3.3158e-05 - val_mae: 0.0039\n",
      "Epoch 102/500\n",
      "8/8 [==============================] - 0s 7ms/step - loss: 5.0941e-05 - mae: 0.0058 - val_loss: 4.4092e-05 - val_mae: 0.0057\n",
      "Epoch 103/500\n",
      "8/8 [==============================] - 0s 8ms/step - loss: 9.3722e-05 - mae: 0.0079 - val_loss: 4.7537e-05 - val_mae: 0.0060\n",
      "Epoch 104/500\n",
      "8/8 [==============================] - 0s 7ms/step - loss: 8.3545e-05 - mae: 0.0075 - val_loss: 1.7608e-04 - val_mae: 0.0117\n",
      "Epoch 105/500\n",
      "8/8 [==============================] - 0s 9ms/step - loss: 1.5956e-04 - mae: 0.0101 - val_loss: 1.0041e-04 - val_mae: 0.0089\n",
      "Epoch 106/500\n",
      "8/8 [==============================] - 0s 6ms/step - loss: 5.4339e-05 - mae: 0.0058 - val_loss: 5.3673e-05 - val_mae: 0.0064\n",
      "Epoch 107/500\n",
      "8/8 [==============================] - 0s 8ms/step - loss: 5.9570e-05 - mae: 0.0062 - val_loss: 1.2402e-04 - val_mae: 0.0100\n",
      "Epoch 108/500\n",
      "8/8 [==============================] - 0s 7ms/step - loss: 1.4155e-04 - mae: 0.0098 - val_loss: 1.3817e-04 - val_mae: 0.0105\n",
      "Epoch 109/500\n",
      "8/8 [==============================] - 0s 8ms/step - loss: 1.1006e-04 - mae: 0.0086 - val_loss: 9.9516e-05 - val_mae: 0.0088\n",
      "Epoch 110/500\n",
      "8/8 [==============================] - 0s 7ms/step - loss: 5.2496e-05 - mae: 0.0056 - val_loss: 3.8740e-05 - val_mae: 0.0047\n",
      "Epoch 111/500\n",
      "8/8 [==============================] - 0s 7ms/step - loss: 7.5314e-05 - mae: 0.0068 - val_loss: 1.3349e-04 - val_mae: 0.0103\n",
      "Epoch 112/500\n",
      "8/8 [==============================] - 0s 7ms/step - loss: 7.5437e-05 - mae: 0.0069 - val_loss: 6.7061e-05 - val_mae: 0.0073\n",
      "Epoch 113/500\n",
      "8/8 [==============================] - 0s 7ms/step - loss: 9.3259e-05 - mae: 0.0079 - val_loss: 2.0398e-04 - val_mae: 0.0129\n",
      "Epoch 114/500\n",
      "8/8 [==============================] - 0s 7ms/step - loss: 2.4207e-04 - mae: 0.0130 - val_loss: 1.5670e-04 - val_mae: 0.0112\n",
      "Epoch 115/500\n",
      "8/8 [==============================] - 0s 7ms/step - loss: 3.0069e-04 - mae: 0.0146 - val_loss: 8.0032e-05 - val_mae: 0.0079\n",
      "Epoch 116/500\n",
      "8/8 [==============================] - 0s 6ms/step - loss: 1.6119e-04 - mae: 0.0104 - val_loss: 2.1526e-04 - val_mae: 0.0135\n",
      "Epoch 117/500\n",
      "8/8 [==============================] - 0s 7ms/step - loss: 1.6390e-04 - mae: 0.0107 - val_loss: 3.0959e-05 - val_mae: 0.0037\n",
      "Epoch 118/500\n",
      "8/8 [==============================] - 0s 7ms/step - loss: 4.4422e-05 - mae: 0.0052 - val_loss: 2.7909e-05 - val_mae: 0.0037\n",
      "Epoch 119/500\n",
      "8/8 [==============================] - 0s 8ms/step - loss: 6.6773e-05 - mae: 0.0065 - val_loss: 1.2152e-04 - val_mae: 0.0098\n",
      "Epoch 120/500\n",
      "8/8 [==============================] - 0s 6ms/step - loss: 1.3348e-04 - mae: 0.0099 - val_loss: 6.4824e-05 - val_mae: 0.0071\n",
      "Epoch 121/500\n",
      "8/8 [==============================] - 0s 8ms/step - loss: 6.5311e-05 - mae: 0.0067 - val_loss: 1.2138e-04 - val_mae: 0.0098\n",
      "Epoch 122/500\n",
      "8/8 [==============================] - 0s 12ms/step - loss: 1.4005e-04 - mae: 0.0097 - val_loss: 2.2387e-04 - val_mae: 0.0137\n",
      "Epoch 123/500\n",
      "8/8 [==============================] - 0s 15ms/step - loss: 9.8469e-05 - mae: 0.0080 - val_loss: 4.2827e-05 - val_mae: 0.0055\n",
      "Epoch 124/500\n",
      "8/8 [==============================] - 0s 20ms/step - loss: 3.7026e-05 - mae: 0.0048 - val_loss: 5.6782e-05 - val_mae: 0.0066\n"
     ]
    }
   ],
   "source": [
    "history = ann.fit(X_train, y_train,\n",
    "                    validation_data = (X_val, y_val),\n",
    "                    callbacks=[es],\n",
    "                    epochs=500,\n",
    "                    batch_size=50,\n",
    "                    verbose=1)"
   ]
  },
  {
   "cell_type": "markdown",
   "metadata": {
    "colab_type": "text",
    "id": "0H0zKKNEBLD5"
   },
   "source": [
    "### Predicting the results of the Test set"
   ]
  },
  {
   "cell_type": "code",
   "execution_count": 19,
   "metadata": {},
   "outputs": [
    {
     "data": {
      "image/png": "[encoded data removed]",
      "text/plain": [
       "<Figure size 432x288 with 1 Axes>"
      ]
     },
     "metadata": {
      "needs_background": "light"
     },
     "output_type": "display_data"
    }
   ],
   "source": [
    "import matplotlib.pyplot as plt\n",
    "# let's see the training and validation accuracy by epoch\n",
    "history_dict = history.history\n",
    "loss_values = history_dict['loss'] # you can change this\n",
    "val_loss_values = history_dict['val_loss'] # you can also change this\n",
    "epochs = range(1, len(loss_values) + 1) # range of X (no. of epochs)\n",
    "plt.plot(epochs, loss_values, 'blue', label='Train set loss')\n",
    "plt.plot(epochs, val_loss_values, 'orange', label='Validation set loss')\n",
    "#plt.title('Training and testing loss')\n",
    "plt.xlabel('Epochs')\n",
    "plt.ylabel('Loss (MSE)')\n",
    "plt.legend()\n",
    "plt.show()"
   ]
  },
  {
   "cell_type": "code",
   "execution_count": 20,
   "metadata": {},
   "outputs": [
    {
     "data": {
      "image/png": "[encoded data removed]",
      "text/plain": [
       "<Figure size 432x288 with 1 Axes>"
      ]
     },
     "metadata": {
      "needs_background": "light"
     },
     "output_type": "display_data"
    }
   ],
   "source": [
    "loss_values1 = history_dict['mae'] # you can change this\n",
    "val_loss_values1 = history_dict['val_mae'] # you can also change this\n",
    "epochs = range(1, len(loss_values1) + 1) # range of X (no. of epochs)\n",
    "plt.plot(epochs, loss_values1, 'blue', label='Train set MAE')\n",
    "plt.plot(epochs, val_loss_values1, 'orange', label='Validation set MAE')\n",
    "#plt.title('Training and testing MAE')\n",
    "plt.xlabel('Epochs')\n",
    "plt.ylabel('MAE')\n",
    "plt.legend()\n",
    "plt.show()"
   ]
  },
  {
   "cell_type": "code",
   "execution_count": 21,
   "metadata": {},
   "outputs": [
    {
     "name": "stdout",
     "output_type": "stream",
     "text": [
      "range(1, 125)\n"
     ]
    }
   ],
   "source": [
    "print (epochs)"
   ]
  },
  {
   "cell_type": "code",
   "execution_count": 22,
   "metadata": {},
   "outputs": [
    {
     "name": "stdout",
     "output_type": "stream",
     "text": [
      "13/13 [==============================] - 0s 1ms/step\n",
      "3/3 [==============================] - 0s 2ms/step\n"
     ]
    },
    {
     "data": {
      "image/png": "[encoded data removed]",
      "text/plain": [
       "<Figure size 432x288 with 2 Axes>"
      ]
     },
     "metadata": {
      "needs_background": "light"
     },
     "output_type": "display_data"
    }
   ],
   "source": [
    "# scatterplot of actual vs. pred\n",
    "# specify the dimensions \n",
    "fig, axes = plt.subplots(1,2) # 1 row, 2 columns\n",
    "\n",
    "# this makes the individual subplots\n",
    "# Training Results\n",
    "axes[0].scatter(x=y_train, y=ann.predict(X_train)) #first row, first entry (left top)\n",
    "axes[0].set_xlabel(\"Actual\", fontsize=10)\n",
    "axes[0].set_ylabel(\"Predicted\",  fontsize=10)\n",
    "axes[0].set_title(\"Training\")\n",
    "# add 45 deg line\n",
    "x = np.linspace(*axes[0].get_xlim())\n",
    "axes[0].plot(x, x, color='red')\n",
    "# Validation Results\n",
    "axes[1].scatter(x=y_val, y=ann.predict(X_val)) # first row, second entry (right top)\n",
    "axes[1].set_xlabel(\"Actual\", fontsize=10)\n",
    "axes[1].set_ylabel(\"Predicted\",  fontsize=10)\n",
    "axes[1].set_title(\"Validation\")\n",
    "# add 45 deg line\n",
    "x = np.linspace(*axes[1].get_xlim())\n",
    "axes[1].plot(x, x, color='red')\n",
    "\n",
    "# tight layout\n",
    "fig.tight_layout()\n",
    "\n",
    "# show the plot\n",
    "plt.show()"
   ]
  },
  {
   "cell_type": "code",
   "execution_count": 23,
   "metadata": {
    "colab": {
     "base_uri": "https://localhost:8080/",
     "height": 134
    },
    "colab_type": "code",
    "id": "IA0yApEmBG1X",
    "outputId": "cb981e1f-9204-4a2a-fece-9d66a6919189"
   },
   "outputs": [
    {
     "name": "stdout",
     "output_type": "stream",
     "text": [
      "3/3 [==============================] - 0s 2ms/step\n",
      "[[ 0.07  0.07]\n",
      " [ 0.02  0.01]\n",
      " [ 0.09  0.1 ]\n",
      " [ 0.02  0.01]\n",
      " [ 0.12  0.1 ]\n",
      " [ 0.11  0.1 ]\n",
      " [ 0.1   0.1 ]\n",
      " [ 0.09  0.09]\n",
      " [ 0.1   0.1 ]\n",
      " [ 0.03  0.04]\n",
      " [ 0.01  0.01]\n",
      " [ 0.09  0.1 ]\n",
      " [ 0.1   0.1 ]\n",
      " [ 0.09  0.09]\n",
      " [ 0.1   0.1 ]\n",
      " [ 0.07  0.07]\n",
      " [ 0.06  0.06]\n",
      " [ 0.09  0.1 ]\n",
      " [ 0.1   0.1 ]\n",
      " [ 0.11  0.1 ]\n",
      " [ 0.07  0.06]\n",
      " [ 0.03  0.04]\n",
      " [ 0.01  0.01]\n",
      " [ 0.1   0.1 ]\n",
      " [ 0.03  0.04]\n",
      " [ 0.03  0.02]\n",
      " [ 0.07  0.07]\n",
      " [ 0.09  0.09]\n",
      " [ 0.07  0.07]\n",
      " [-0.    0.  ]\n",
      " [ 0.05  0.06]\n",
      " [ 0.02  0.01]\n",
      " [ 0.11  0.1 ]\n",
      " [-0.    0.01]\n",
      " [ 0.1   0.1 ]\n",
      " [ 0.07  0.08]\n",
      " [ 0.09  0.09]\n",
      " [ 0.07  0.07]\n",
      " [ 0.04  0.03]\n",
      " [ 0.05  0.06]\n",
      " [ 0.08  0.08]\n",
      " [ 0.03  0.04]\n",
      " [-0.    0.01]\n",
      " [ 0.06  0.06]\n",
      " [ 0.1   0.1 ]\n",
      " [ 0.09  0.09]\n",
      " [ 0.07  0.07]\n",
      " [ 0.06  0.06]\n",
      " [ 0.1   0.1 ]\n",
      " [ 0.11  0.1 ]\n",
      " [ 0.11  0.1 ]\n",
      " [ 0.11  0.1 ]\n",
      " [ 0.12  0.1 ]\n",
      " [ 0.1   0.1 ]\n",
      " [ 0.07  0.07]\n",
      " [ 0.09  0.1 ]\n",
      " [ 0.07  0.07]\n",
      " [ 0.08  0.08]\n",
      " [ 0.06  0.07]\n",
      " [ 0.09  0.09]\n",
      " [ 0.06  0.07]\n",
      " [ 0.08  0.08]\n",
      " [-0.    0.  ]\n",
      " [ 0.09  0.09]\n",
      " [ 0.07  0.07]\n",
      " [ 0.11  0.1 ]\n",
      " [ 0.04  0.05]\n",
      " [ 0.1   0.1 ]\n",
      " [ 0.11  0.1 ]\n",
      " [ 0.06  0.06]\n",
      " [ 0.03  0.02]\n",
      " [ 0.05  0.06]\n",
      " [ 0.08  0.08]\n",
      " [ 0.1   0.1 ]\n",
      " [ 0.02  0.01]\n",
      " [ 0.02  0.01]\n",
      " [ 0.09  0.09]\n",
      " [ 0.09  0.09]\n",
      " [ 0.07  0.07]\n",
      " [ 0.02  0.01]\n",
      " [ 0.07  0.07]\n",
      " [ 0.08  0.08]\n",
      " [ 0.1   0.1 ]\n",
      " [ 0.04  0.05]]\n"
     ]
    }
   ],
   "source": [
    "#X_test=np.asarray(X_test).astype(np.int)\n",
    "\n",
    "#y_test=np.asarray(y_test).astype(np.int)\n",
    "\n",
    "y_pred = ann.predict(X_test)\n",
    "np.set_printoptions(precision=2)\n",
    "print(np.concatenate((y_pred.reshape(len(y_pred),1), y_test.reshape(len(y_test),1)),1))"
   ]
  },
  {
   "cell_type": "code",
   "execution_count": 24,
   "metadata": {},
   "outputs": [
    {
     "data": {
      "text/plain": [
       "Text(0, 0.5, 'Predicted data')"
      ]
     },
     "execution_count": 24,
     "metadata": {},
     "output_type": "execute_result"
    },
    {
     "data": {
      "image/png": "[encoded data removed]",
      "text/plain": [
       "<Figure size 432x288 with 1 Axes>"
      ]
     },
     "metadata": {
      "needs_background": "light"
     },
     "output_type": "display_data"
    }
   ],
   "source": [
    "import matplotlib.pyplot as plt\n",
    "plt.scatter(y_test, y_pred, color=\"blue\")\n",
    "plt.plot ([0,0.13],[0,0.13], color = \"red\")\n",
    "plt.axis ([0,0.13,0,0.13])\n",
    "plt.xlabel ('Actual data')\n",
    "plt.ylabel ('Predicted data')"
   ]
  },
  {
   "cell_type": "code",
   "execution_count": 25,
   "metadata": {},
   "outputs": [
    {
     "data": {
      "image/png": "[encoded data removed]",
      "text/plain": [
       "<Figure size 648x648 with 1 Axes>"
      ]
     },
     "metadata": {
      "needs_background": "light"
     },
     "output_type": "display_data"
    }
   ],
   "source": [
    "from sklearn.metrics import r2_score\n",
    "# Initialize layout\n",
    "fig1, ax1 = plt.subplots(figsize = (9, 9))\n",
    "\n",
    "\n",
    "#y = y_pred         # Model on prvious line is called here\n",
    "#x = y_test\n",
    "\n",
    "\n",
    "\n",
    "# Add scatterplot\n",
    "ax1.scatter(y_test, y_pred, s=70, alpha=1, edgecolors=\"k\",c='mediumblue',zorder=5, label = 'Points')\n",
    "\n",
    "\n",
    "plt.ylabel('Predicted Peak Incident Pressure (kPa)',fontsize = 25)\n",
    "plt.xlabel('Actual Peak Incident Pressure (kPa)',fontsize = 25)\n",
    "plt.xticks(fontsize = 19)\n",
    "plt.yticks(fontsize = 19)\n",
    "\n",
    "\n",
    "x1 = np.linspace(0,0.13)\n",
    "\n",
    "plt.plot(x1, x1, 'Red', label='45\\N{DEGREE SIGN} line',lw=2.5,alpha=1)\n",
    "plt.plot(x1, 1.1*x1, '--m', label='\\u00B110% Error',lw=2.5,alpha=0.7)\n",
    "plt.plot(x1, 0.9*x1,'m', linestyle='--',lw=2.5,alpha=0.7)\n",
    "plt.plot(x1, 1.2*x1, '-.g', label='\\u00B120% Error',lw=2.5,alpha=0.7)\n",
    "plt.plot(x1, 0.8*x1,'-.g',lw=2.5,alpha=0.7)\n",
    "\n",
    "plt.ylim(0, 0.13)\n",
    "plt.xlim(0, 0.13)\n",
    "plt.legend(loc='upper left',fontsize = 25)\n",
    "\n",
    "plt.grid()\n",
    "\n",
    "ax1.spines['left'].set_color('black')        # setting up Y-axis tick color to red\n",
    "ax1.spines['bottom'].set_color('black')         #setting up above X-axis tick color to red\n",
    "\n",
    "\n",
    "\n",
    "#ax1.annotate(\"$R^2$ = {:.3f}\".format(r2), (2500, 1000),fontsize = 25)  #Model is called here\n",
    "#ax1.annotate(\"Adj.$R^2$ = {:.3f}\".format(adj_r2), (2500, 750),fontsize = 25)\n",
    "\n",
    "#plt.savefig('plot1.png', dpi = 600, bbox_inches = 'tight')"
   ]
  },
  {
   "cell_type": "code",
   "execution_count": 26,
   "metadata": {},
   "outputs": [
    {
     "name": "stdout",
     "output_type": "stream",
     "text": [
      "13/13 [==============================] - 0s 2ms/step\n",
      "0.004341267494834529\n",
      "0.003984357357762495\n"
     ]
    }
   ],
   "source": [
    "# metrics\n",
    "\n",
    "\n",
    "trainpreds = ann.predict(X_train)\n",
    "\n",
    "from sklearn.metrics import mean_absolute_error\n",
    "print(mean_absolute_error(y_train, trainpreds)) # train\n",
    "print(mean_absolute_error(y_test, y_pred)) # test"
   ]
  },
  {
   "cell_type": "code",
   "execution_count": 27,
   "metadata": {},
   "outputs": [
    {
     "name": "stdout",
     "output_type": "stream",
     "text": [
      "0.9751019067477332\n"
     ]
    }
   ],
   "source": [
    "from sklearn.metrics import r2_score\n",
    "r2 = r2_score(y_test, y_pred)\n",
    "print (r2)"
   ]
  },
  {
   "cell_type": "code",
   "execution_count": 28,
   "metadata": {},
   "outputs": [
    {
     "name": "stdout",
     "output_type": "stream",
     "text": [
      "0.9728864030362171\n"
     ]
    }
   ],
   "source": [
    "r2_train = r2_score(y_train, trainpreds)\n",
    "print (r2_train)"
   ]
  },
  {
   "cell_type": "code",
   "execution_count": 29,
   "metadata": {},
   "outputs": [
    {
     "name": "stdout",
     "output_type": "stream",
     "text": [
      "Within 10% margin 71.43%\n",
      "Within 20% margin 82.14%\n",
      "Out of 20% margin 17.86%\n"
     ]
    }
   ],
   "source": [
    "count1 = 0\n",
    "for i in range(len(y_pred)):\n",
    "    line1 = y_pred[i] - 0.9*y_test[i]\n",
    "    line2 = y_pred[i] - 1.1*y_test[i]\n",
    "    #print ('line 1 ', line1)\n",
    "    #print ('line 2 ', line2)\n",
    "    mask1 = (line1 > 0) & (line2 < 0)\n",
    "    #print (mask)\n",
    "    count1 = np.sum(mask1+count1)\n",
    "    #print (count)\n",
    "\n",
    "count2 = 0\n",
    "for j in range(len(y_pred)):\n",
    "    line3 = y_pred[j] - 0.8*y_test[j]\n",
    "    line4 = y_pred[j] - 1.2*y_test[j]\n",
    "    mask2 = (line3 > 0) & (line4 < 0)\n",
    "    count2 = np.sum(mask2+count2)\n",
    "\n",
    "\n",
    "count3 = 0    \n",
    "for k in range(len(y_pred)):\n",
    "    line5 = y_pred[k] - 0.8*y_test[k]\n",
    "    line6 = y_pred[k] - 1.2*y_test[k]\n",
    "    mask3 = (line5 < 0) or (line6 > 0)\n",
    "    count3 = np.sum(mask3+count3)\n",
    "   \n",
    "\n",
    "print ('Within 10% margin', format((count1/len (y_pred)),'.2%'))\n",
    "print ('Within 20% margin', format((count2/len (y_pred)),'.2%'))\n",
    "print ('Out of 20% margin', format((count3/len (y_pred)),'.2%'))"
   ]
  },
  {
   "cell_type": "code",
   "execution_count": 30,
   "metadata": {},
   "outputs": [
    {
     "name": "stdout",
     "output_type": "stream",
     "text": [
      "0.9744871390131093\n"
     ]
    }
   ],
   "source": [
    "adj_r2 = 1 - ((1 - r2) * (len(X_test) - 1) / (len(X_test) - len (X_test[0]) - 1))\n",
    "print (adj_r2)"
   ]
  },
  {
   "cell_type": "code",
   "execution_count": 31,
   "metadata": {},
   "outputs": [
    {
     "data": {
      "text/plain": [
       "0.005101282546898531"
      ]
     },
     "execution_count": 31,
     "metadata": {},
     "output_type": "execute_result"
    }
   ],
   "source": [
    "import math\n",
    "from sklearn.metrics import mean_squared_error\n",
    "\n",
    "math.sqrt(mean_squared_error(y_test, y_pred))"
   ]
  },
  {
   "cell_type": "code",
   "execution_count": 32,
   "metadata": {},
   "outputs": [
    {
     "data": {
      "text/plain": [
       "0.003984357357762495"
      ]
     },
     "execution_count": 32,
     "metadata": {},
     "output_type": "execute_result"
    }
   ],
   "source": [
    "from sklearn.metrics import mean_absolute_error\n",
    "\n",
    "mean_absolute_error(y_test, y_pred)"
   ]
  }
 ],
 "metadata": {
  "colab": {
   "collapsed_sections": [],
   "name": "Artificial Neural Network",
   "provenance": [],
   "toc_visible": true
  },
  "kernelspec": {
   "display_name": "Python 3 (ipykernel)",
   "language": "python",
   "name": "python3"
  },
  "language_info": {
   "codemirror_mode": {
    "name": "ipython",
    "version": 3
   },
   "file_extension": ".py",
   "mimetype": "text/x-python",
   "name": "python",
   "nbconvert_exporter": "python",
   "pygments_lexer": "ipython3",
   "version": "3.9.7"
  }
 },
 "nbformat": 4,
 "nbformat_minor": 4
}
