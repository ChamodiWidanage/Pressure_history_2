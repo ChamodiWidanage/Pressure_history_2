{
 "cells": [
  {
   "cell_type": "markdown",
   "metadata": {
    "colab_type": "text",
    "id": "3cbb7fRy-eyr"
   },
   "source": [
    "# Artificial Neural Network"
   ]
  },
  {
   "cell_type": "markdown",
   "metadata": {
    "colab_type": "text",
    "id": "8sNDnxE2-pwE"
   },
   "source": [
    "### Importing the libraries"
   ]
  },
  {
   "cell_type": "code",
   "execution_count": 1,
   "metadata": {
    "colab": {},
    "colab_type": "code",
    "id": "lxChR1Rk-umf"
   },
   "outputs": [],
   "source": [
    "import numpy as np\n",
    "import pandas as pd\n",
    "import tensorflow as tf"
   ]
  },
  {
   "cell_type": "markdown",
   "metadata": {
    "colab_type": "text",
    "id": "AG3FQEch-yuA"
   },
   "source": [
    "## Part 1 - Data Preprocessing"
   ]
  },
  {
   "cell_type": "markdown",
   "metadata": {
    "colab_type": "text",
    "id": "-4zq8Mza_D9O"
   },
   "source": [
    "### Importing the dataset"
   ]
  },
  {
   "cell_type": "code",
   "execution_count": 2,
   "metadata": {
    "colab": {},
    "colab_type": "code",
    "id": "B9CV13Co_HHM"
   },
   "outputs": [
    {
     "name": "stdout",
     "output_type": "stream",
     "text": [
      "<class 'pandas.core.frame.DataFrame'>\n",
      "RangeIndex: 560 entries, 0 to 559\n",
      "Data columns (total 3 columns):\n",
      " #   Column             Non-Null Count  Dtype  \n",
      "---  ------             --------------  -----  \n",
      " 0   Charge_mass        560 non-null    float64\n",
      " 1   Standoff_distance  560 non-null    int64  \n",
      " 2   End_time           560 non-null    float64\n",
      "dtypes: float64(2), int64(1)\n",
      "memory usage: 13.2 KB\n"
     ]
    }
   ],
   "source": [
    "dataset = pd.read_excel('End_time.xlsx')\n",
    "dataset.info()"
   ]
  },
  {
   "cell_type": "code",
   "execution_count": 3,
   "metadata": {},
   "outputs": [
    {
     "data": {
      "text/html": [
       "<div>\n",
       "<style scoped>\n",
       "    .dataframe tbody tr th:only-of-type {\n",
       "        vertical-align: middle;\n",
       "    }\n",
       "\n",
       "    .dataframe tbody tr th {\n",
       "        vertical-align: top;\n",
       "    }\n",
       "\n",
       "    .dataframe thead th {\n",
       "        text-align: right;\n",
       "    }\n",
       "</style>\n",
       "<table border=\"1\" class=\"dataframe\">\n",
       "  <thead>\n",
       "    <tr style=\"text-align: right;\">\n",
       "      <th></th>\n",
       "      <th>Charge_mass</th>\n",
       "      <th>Standoff_distance</th>\n",
       "      <th>Time_of_arrival</th>\n",
       "    </tr>\n",
       "  </thead>\n",
       "  <tbody>\n",
       "    <tr>\n",
       "      <th>0</th>\n",
       "      <td>0.5</td>\n",
       "      <td>1</td>\n",
       "      <td>0.00066</td>\n",
       "    </tr>\n",
       "    <tr>\n",
       "      <th>1</th>\n",
       "      <td>0.5</td>\n",
       "      <td>7</td>\n",
       "      <td>0.01583</td>\n",
       "    </tr>\n",
       "    <tr>\n",
       "      <th>2</th>\n",
       "      <td>0.5</td>\n",
       "      <td>9</td>\n",
       "      <td>0.02156</td>\n",
       "    </tr>\n",
       "    <tr>\n",
       "      <th>3</th>\n",
       "      <td>0.5</td>\n",
       "      <td>11</td>\n",
       "      <td>0.02735</td>\n",
       "    </tr>\n",
       "    <tr>\n",
       "      <th>4</th>\n",
       "      <td>0.5</td>\n",
       "      <td>13</td>\n",
       "      <td>0.03318</td>\n",
       "    </tr>\n",
       "  </tbody>\n",
       "</table>\n",
       "</div>"
      ],
      "text/plain": [
       "   Charge_mass  Standoff_distance  Time_of_arrival\n",
       "0          0.5                  1          0.00066\n",
       "1          0.5                  7          0.01583\n",
       "2          0.5                  9          0.02156\n",
       "3          0.5                 11          0.02735\n",
       "4          0.5                 13          0.03318"
      ]
     },
     "execution_count": 3,
     "metadata": {},
     "output_type": "execute_result"
    }
   ],
   "source": [
    "dataset.head()"
   ]
  },
  {
   "cell_type": "code",
   "execution_count": 3,
   "metadata": {},
   "outputs": [
    {
     "name": "stdout",
     "output_type": "stream",
     "text": [
      "(560, 2) (560,)\n"
     ]
    }
   ],
   "source": [
    "y = dataset['End_time']\n",
    "X = dataset.drop('End_time', axis=1)\n",
    "print(X.shape, y.shape)"
   ]
  },
  {
   "cell_type": "code",
   "execution_count": 4,
   "metadata": {},
   "outputs": [],
   "source": [
    "# convert to numpy array\n",
    "X = np.array(X)\n",
    "y = np.array(y)"
   ]
  },
  {
   "cell_type": "markdown",
   "metadata": {
    "colab_type": "text",
    "id": "VC6omXel_Up0"
   },
   "source": [
    "### Splitting the dataset into the Training set and Test set"
   ]
  },
  {
   "cell_type": "code",
   "execution_count": 5,
   "metadata": {
    "colab": {},
    "colab_type": "code",
    "id": "L5edeb2r_agx"
   },
   "outputs": [],
   "source": [
    "from sklearn.model_selection import train_test_split\n",
    "X_train, X_test, y_train, y_test = train_test_split(X, y, test_size = 0.3, random_state = 0)"
   ]
  },
  {
   "cell_type": "code",
   "execution_count": 6,
   "metadata": {
    "colab": {},
    "colab_type": "code",
    "id": "L5edeb2r_agx"
   },
   "outputs": [],
   "source": [
    "X_val, X_test, y_val, y_test = train_test_split(X_test, y_test, test_size = 0.5, random_state = 0)"
   ]
  },
  {
   "cell_type": "markdown",
   "metadata": {
    "colab_type": "text",
    "id": "_mSLlAT9_eyI"
   },
   "source": [
    "## Part 2 - Building the ANN"
   ]
  },
  {
   "cell_type": "markdown",
   "metadata": {
    "colab_type": "text",
    "id": "CsBULd_f_wLY"
   },
   "source": [
    "### Initializing the ANN"
   ]
  },
  {
   "cell_type": "code",
   "execution_count": 7,
   "metadata": {
    "colab": {},
    "colab_type": "code",
    "id": "J6Hd97Ls__Nz"
   },
   "outputs": [],
   "source": [
    "ann = tf.keras.models.Sequential()"
   ]
  },
  {
   "cell_type": "markdown",
   "metadata": {
    "colab_type": "text",
    "id": "iitAFJS_ABUn"
   },
   "source": [
    "### Adding the input layer and the first hidden layer"
   ]
  },
  {
   "cell_type": "code",
   "execution_count": 8,
   "metadata": {
    "colab": {},
    "colab_type": "code",
    "id": "ksO_Vv40AHix"
   },
   "outputs": [],
   "source": [
    "ann.add(tf.keras.layers.Dense(units=2, input_shape=(X_train.shape[1],), activation='softplus'))"
   ]
  },
  {
   "cell_type": "markdown",
   "metadata": {
    "colab_type": "text",
    "id": "-lb4kK_wAKbs"
   },
   "source": [
    "### Adding the second hidden layer"
   ]
  },
  {
   "cell_type": "code",
   "execution_count": 9,
   "metadata": {
    "colab": {},
    "colab_type": "code",
    "id": "c2357OqEAQOQ",
    "tags": []
   },
   "outputs": [],
   "source": [
    "ann.add(tf.keras.layers.Dense(units=4, activation='softplus'))"
   ]
  },
  {
   "cell_type": "markdown",
   "metadata": {
    "colab_type": "text",
    "id": "-lb4kK_wAKbs"
   },
   "source": [
    "### Adding the third hidden layer"
   ]
  },
  {
   "cell_type": "code",
   "execution_count": 10,
   "metadata": {
    "colab": {},
    "colab_type": "code",
    "id": "c2357OqEAQOQ",
    "tags": []
   },
   "outputs": [],
   "source": [
    "ann.add(tf.keras.layers.Dense(units=6, activation='softplus'))"
   ]
  },
  {
   "cell_type": "markdown",
   "metadata": {
    "colab_type": "text",
    "id": "jwMOmKb3AdBY"
   },
   "source": [
    "### Adding the output layer"
   ]
  },
  {
   "cell_type": "code",
   "execution_count": 11,
   "metadata": {
    "colab": {},
    "colab_type": "code",
    "id": "YFATpzsUAkLL"
   },
   "outputs": [],
   "source": [
    "ann.add(tf.keras.layers.Dense(units=1, activation='linear'))"
   ]
  },
  {
   "cell_type": "markdown",
   "metadata": {},
   "source": [
    "### what model looks like"
   ]
  },
  {
   "cell_type": "code",
   "execution_count": 12,
   "metadata": {},
   "outputs": [
    {
     "name": "stdout",
     "output_type": "stream",
     "text": [
      "Model: \"sequential\"\n",
      "_________________________________________________________________\n",
      " Layer (type)                Output Shape              Param #   \n",
      "=================================================================\n",
      " dense (Dense)               (None, 2)                 6         \n",
      "                                                                 \n",
      " dense_1 (Dense)             (None, 4)                 12        \n",
      "                                                                 \n",
      " dense_2 (Dense)             (None, 6)                 30        \n",
      "                                                                 \n",
      " dense_3 (Dense)             (None, 1)                 7         \n",
      "                                                                 \n",
      "=================================================================\n",
      "Total params: 55\n",
      "Trainable params: 55\n",
      "Non-trainable params: 0\n",
      "_________________________________________________________________\n"
     ]
    }
   ],
   "source": [
    "ann.summary()"
   ]
  },
  {
   "cell_type": "markdown",
   "metadata": {
    "colab_type": "text",
    "id": "fq7e4fF6A1yy"
   },
   "source": [
    "## Part 3 - Training the ANN"
   ]
  },
  {
   "cell_type": "markdown",
   "metadata": {
    "colab_type": "text",
    "id": "qDeylAs2An25"
   },
   "source": [
    "### Compiling the ANN"
   ]
  },
  {
   "cell_type": "code",
   "execution_count": 13,
   "metadata": {
    "colab": {},
    "colab_type": "code",
    "id": "pesgbWlCAtB4"
   },
   "outputs": [],
   "source": [
    "from tensorflow.keras.optimizers import RMSprop\n",
    "opt = RMSprop(learning_rate=0.1)\n",
    "ann.compile(optimizer = opt, loss = 'mean_squared_error', metrics = ['mae'])"
   ]
  },
  {
   "cell_type": "markdown",
   "metadata": {},
   "source": [
    "### early stopping callback"
   ]
  },
  {
   "cell_type": "code",
   "execution_count": 14,
   "metadata": {},
   "outputs": [],
   "source": [
    "# protects from unnecessary further training of the model if a particular metric does not continue to improve over a number of n epochs. In such a case, the model training would be automatically aborted.\n",
    "from keras.callbacks import EarlyStopping\n",
    "es = EarlyStopping(monitor='val_loss',\n",
    "                   mode='min',\n",
    "                   patience=50,\n",
    "                   restore_best_weights = True)"
   ]
  },
  {
   "cell_type": "markdown",
   "metadata": {
    "colab_type": "text",
    "id": "YjVuiybYOo7r"
   },
   "source": [
    "### Training the ANN model on the Training set"
   ]
  },
  {
   "cell_type": "code",
   "execution_count": 15,
   "metadata": {
    "colab": {
     "base_uri": "https://localhost:8080/",
     "height": 1000
    },
    "colab_type": "code",
    "id": "c_vV-tiiA5zn",
    "outputId": "4a2b6ee6-ed75-4698-9069-b250e613803f"
   },
   "outputs": [
    {
     "name": "stdout",
     "output_type": "stream",
     "text": [
      "Epoch 1/500\n",
      "14/14 [==============================] - 1s 15ms/step - loss: 0.5629 - mae: 0.3004 - val_loss: 0.0031 - val_mae: 0.0419\n",
      "Epoch 2/500\n",
      "14/14 [==============================] - 0s 5ms/step - loss: 0.0188 - mae: 0.0880 - val_loss: 0.2918 - val_mae: 0.5392\n",
      "Epoch 3/500\n",
      "14/14 [==============================] - 0s 4ms/step - loss: 0.0408 - mae: 0.1271 - val_loss: 0.0020 - val_mae: 0.0339\n",
      "Epoch 4/500\n",
      "14/14 [==============================] - 0s 5ms/step - loss: 0.0016 - mae: 0.0331 - val_loss: 0.0025 - val_mae: 0.0357\n",
      "Epoch 5/500\n",
      "14/14 [==============================] - 0s 5ms/step - loss: 0.0017 - mae: 0.0344 - val_loss: 0.0040 - val_mae: 0.0528\n",
      "Epoch 6/500\n",
      "14/14 [==============================] - 0s 4ms/step - loss: 0.0040 - mae: 0.0538 - val_loss: 0.0027 - val_mae: 0.0391\n",
      "Epoch 7/500\n",
      "14/14 [==============================] - 0s 5ms/step - loss: 0.0041 - mae: 0.0534 - val_loss: 0.0061 - val_mae: 0.0707\n",
      "Epoch 8/500\n",
      "14/14 [==============================] - 0s 5ms/step - loss: 0.0046 - mae: 0.0583 - val_loss: 0.0053 - val_mae: 0.0639\n",
      "Epoch 9/500\n",
      "14/14 [==============================] - 0s 5ms/step - loss: 0.0022 - mae: 0.0376 - val_loss: 0.0012 - val_mae: 0.0311\n",
      "Epoch 10/500\n",
      "14/14 [==============================] - 0s 5ms/step - loss: 0.0046 - mae: 0.0547 - val_loss: 0.0103 - val_mae: 0.0958\n",
      "Epoch 11/500\n",
      "14/14 [==============================] - 0s 5ms/step - loss: 0.0077 - mae: 0.0637 - val_loss: 0.0021 - val_mae: 0.0414\n",
      "Epoch 12/500\n",
      "14/14 [==============================] - 0s 5ms/step - loss: 0.0014 - mae: 0.0318 - val_loss: 0.0022 - val_mae: 0.0421\n",
      "Epoch 13/500\n",
      "14/14 [==============================] - 0s 4ms/step - loss: 0.0508 - mae: 0.1336 - val_loss: 0.0013 - val_mae: 0.0269\n",
      "Epoch 14/500\n",
      "14/14 [==============================] - 0s 5ms/step - loss: 0.0012 - mae: 0.0290 - val_loss: 0.0016 - val_mae: 0.0291\n",
      "Epoch 15/500\n",
      "14/14 [==============================] - 0s 4ms/step - loss: 0.0012 - mae: 0.0294 - val_loss: 0.0023 - val_mae: 0.0430\n",
      "Epoch 16/500\n",
      "14/14 [==============================] - 0s 5ms/step - loss: 0.0035 - mae: 0.0497 - val_loss: 0.0166 - val_mae: 0.1248\n",
      "Epoch 17/500\n",
      "14/14 [==============================] - 0s 5ms/step - loss: 0.0028 - mae: 0.0405 - val_loss: 0.0048 - val_mae: 0.0611\n",
      "Epoch 18/500\n",
      "14/14 [==============================] - 0s 5ms/step - loss: 0.0041 - mae: 0.0520 - val_loss: 0.0012 - val_mae: 0.0274\n",
      "Epoch 19/500\n",
      "14/14 [==============================] - 0s 4ms/step - loss: 0.0035 - mae: 0.0489 - val_loss: 0.0146 - val_mae: 0.1167\n",
      "Epoch 20/500\n",
      "14/14 [==============================] - 0s 5ms/step - loss: 0.0041 - mae: 0.0517 - val_loss: 0.0081 - val_mae: 0.0841\n",
      "Epoch 21/500\n",
      "14/14 [==============================] - 0s 5ms/step - loss: 0.0035 - mae: 0.0478 - val_loss: 0.2431 - val_mae: 0.4334\n",
      "Epoch 22/500\n",
      "14/14 [==============================] - 0s 5ms/step - loss: 0.0311 - mae: 0.0941 - val_loss: 0.0038 - val_mae: 0.0542\n",
      "Epoch 23/500\n",
      "14/14 [==============================] - 0s 5ms/step - loss: 0.0013 - mae: 0.0311 - val_loss: 9.6274e-04 - val_mae: 0.0263\n",
      "Epoch 24/500\n",
      "14/14 [==============================] - 0s 4ms/step - loss: 0.0034 - mae: 0.0480 - val_loss: 0.0014 - val_mae: 0.0278\n",
      "Epoch 25/500\n",
      "14/14 [==============================] - 0s 5ms/step - loss: 0.0036 - mae: 0.0475 - val_loss: 0.0011 - val_mae: 0.0266\n",
      "Epoch 26/500\n",
      "14/14 [==============================] - 0s 5ms/step - loss: 0.0037 - mae: 0.0495 - val_loss: 0.0065 - val_mae: 0.0739\n",
      "Epoch 27/500\n",
      "14/14 [==============================] - 0s 4ms/step - loss: 0.0043 - mae: 0.0559 - val_loss: 8.8918e-04 - val_mae: 0.0259\n",
      "Epoch 28/500\n",
      "14/14 [==============================] - 0s 5ms/step - loss: 0.0041 - mae: 0.0535 - val_loss: 0.0027 - val_mae: 0.0393\n",
      "Epoch 29/500\n",
      "14/14 [==============================] - 0s 5ms/step - loss: 0.0069 - mae: 0.0571 - val_loss: 0.0017 - val_mae: 0.0306\n",
      "Epoch 30/500\n",
      "14/14 [==============================] - 0s 4ms/step - loss: 0.0013 - mae: 0.0314 - val_loss: 0.0039 - val_mae: 0.0526\n",
      "Epoch 31/500\n",
      "14/14 [==============================] - 0s 6ms/step - loss: 0.0025 - mae: 0.0409 - val_loss: 0.0094 - val_mae: 0.0911\n",
      "Epoch 32/500\n",
      "14/14 [==============================] - 0s 5ms/step - loss: 0.0044 - mae: 0.0554 - val_loss: 0.0016 - val_mae: 0.0306\n",
      "Epoch 33/500\n",
      "14/14 [==============================] - 0s 5ms/step - loss: 0.0047 - mae: 0.0535 - val_loss: 8.4106e-04 - val_mae: 0.0239\n",
      "Epoch 34/500\n",
      "14/14 [==============================] - 0s 5ms/step - loss: 0.0044 - mae: 0.0529 - val_loss: 0.0023 - val_mae: 0.0409\n",
      "Epoch 35/500\n",
      "14/14 [==============================] - 0s 5ms/step - loss: 0.0045 - mae: 0.0498 - val_loss: 0.0012 - val_mae: 0.0279\n",
      "Epoch 36/500\n",
      "14/14 [==============================] - 0s 5ms/step - loss: 0.0041 - mae: 0.0506 - val_loss: 0.0053 - val_mae: 0.0647\n",
      "Epoch 37/500\n",
      "14/14 [==============================] - 0s 6ms/step - loss: 0.0038 - mae: 0.0511 - val_loss: 0.0021 - val_mae: 0.0335\n",
      "Epoch 38/500\n",
      "14/14 [==============================] - 0s 5ms/step - loss: 0.0052 - mae: 0.0625 - val_loss: 0.0027 - val_mae: 0.0399\n",
      "Epoch 39/500\n",
      "14/14 [==============================] - 0s 5ms/step - loss: 0.0028 - mae: 0.0430 - val_loss: 0.0060 - val_mae: 0.0701\n",
      "Epoch 40/500\n",
      "14/14 [==============================] - 0s 5ms/step - loss: 0.0041 - mae: 0.0541 - val_loss: 0.0066 - val_mae: 0.0734\n",
      "Epoch 41/500\n",
      "14/14 [==============================] - 0s 5ms/step - loss: 0.0034 - mae: 0.0477 - val_loss: 0.0137 - val_mae: 0.1123\n",
      "Epoch 42/500\n",
      "14/14 [==============================] - 0s 5ms/step - loss: 0.0038 - mae: 0.0496 - val_loss: 0.0123 - val_mae: 0.1054\n",
      "Epoch 43/500\n",
      "14/14 [==============================] - 0s 5ms/step - loss: 0.0045 - mae: 0.0559 - val_loss: 0.0113 - val_mae: 0.1010\n",
      "Epoch 44/500\n",
      "14/14 [==============================] - 0s 5ms/step - loss: 0.0033 - mae: 0.0462 - val_loss: 0.0011 - val_mae: 0.0270\n",
      "Epoch 45/500\n",
      "14/14 [==============================] - 0s 5ms/step - loss: 0.0039 - mae: 0.0495 - val_loss: 0.0012 - val_mae: 0.0278\n",
      "Epoch 46/500\n",
      "14/14 [==============================] - 0s 5ms/step - loss: 0.0038 - mae: 0.0520 - val_loss: 0.0103 - val_mae: 0.0968\n",
      "Epoch 47/500\n",
      "14/14 [==============================] - 0s 4ms/step - loss: 0.0038 - mae: 0.0501 - val_loss: 0.0014 - val_mae: 0.0284\n",
      "Epoch 48/500\n",
      "14/14 [==============================] - 0s 7ms/step - loss: 0.0068 - mae: 0.0521 - val_loss: 0.0018 - val_mae: 0.0387\n",
      "Epoch 49/500\n",
      "14/14 [==============================] - 0s 5ms/step - loss: 0.0020 - mae: 0.0373 - val_loss: 0.0133 - val_mae: 0.1101\n",
      "Epoch 50/500\n",
      "14/14 [==============================] - 0s 5ms/step - loss: 0.0036 - mae: 0.0486 - val_loss: 0.0015 - val_mae: 0.0296\n",
      "Epoch 51/500\n",
      "14/14 [==============================] - 0s 6ms/step - loss: 0.0039 - mae: 0.0513 - val_loss: 0.0149 - val_mae: 0.1172\n",
      "Epoch 52/500\n",
      "14/14 [==============================] - 0s 5ms/step - loss: 0.0038 - mae: 0.0479 - val_loss: 0.0080 - val_mae: 0.0828\n",
      "Epoch 53/500\n",
      "14/14 [==============================] - 0s 5ms/step - loss: 0.0043 - mae: 0.0557 - val_loss: 0.0012 - val_mae: 0.0291\n",
      "Epoch 54/500\n",
      "14/14 [==============================] - 0s 5ms/step - loss: 0.0037 - mae: 0.0508 - val_loss: 0.0016 - val_mae: 0.0296\n",
      "Epoch 55/500\n",
      "14/14 [==============================] - 0s 5ms/step - loss: 0.0037 - mae: 0.0500 - val_loss: 0.0017 - val_mae: 0.0377\n",
      "Epoch 56/500\n",
      "14/14 [==============================] - 0s 5ms/step - loss: 0.0040 - mae: 0.0507 - val_loss: 0.0015 - val_mae: 0.0291\n",
      "Epoch 57/500\n",
      "14/14 [==============================] - 0s 5ms/step - loss: 0.0155 - mae: 0.0663 - val_loss: 0.0025 - val_mae: 0.0392\n",
      "Epoch 58/500\n",
      "14/14 [==============================] - 0s 4ms/step - loss: 0.0010 - mae: 0.0273 - val_loss: 0.0035 - val_mae: 0.0510\n",
      "Epoch 59/500\n",
      "14/14 [==============================] - 0s 5ms/step - loss: 0.0038 - mae: 0.0511 - val_loss: 0.0018 - val_mae: 0.0372\n",
      "Epoch 60/500\n",
      "14/14 [==============================] - 0s 5ms/step - loss: 0.0038 - mae: 0.0519 - val_loss: 0.0094 - val_mae: 0.0926\n",
      "Epoch 61/500\n",
      "14/14 [==============================] - 0s 5ms/step - loss: 0.0035 - mae: 0.0509 - val_loss: 0.0019 - val_mae: 0.0382\n",
      "Epoch 62/500\n",
      "14/14 [==============================] - 0s 6ms/step - loss: 0.0043 - mae: 0.0560 - val_loss: 0.0069 - val_mae: 0.0760\n",
      "Epoch 63/500\n",
      "14/14 [==============================] - 0s 5ms/step - loss: 0.0031 - mae: 0.0458 - val_loss: 0.0013 - val_mae: 0.0327\n",
      "Epoch 64/500\n",
      "14/14 [==============================] - 0s 6ms/step - loss: 0.0039 - mae: 0.0499 - val_loss: 0.0025 - val_mae: 0.0431\n",
      "Epoch 65/500\n",
      "14/14 [==============================] - 0s 5ms/step - loss: 0.0039 - mae: 0.0521 - val_loss: 0.0217 - val_mae: 0.1449\n",
      "Epoch 66/500\n",
      "14/14 [==============================] - 0s 5ms/step - loss: 0.0055 - mae: 0.0480 - val_loss: 0.0059 - val_mae: 0.0699\n",
      "Epoch 67/500\n",
      "14/14 [==============================] - 0s 5ms/step - loss: 0.0040 - mae: 0.0552 - val_loss: 0.0013 - val_mae: 0.0325\n",
      "Epoch 68/500\n",
      "14/14 [==============================] - 0s 5ms/step - loss: 0.0035 - mae: 0.0495 - val_loss: 0.0050 - val_mae: 0.0643\n",
      "Epoch 69/500\n",
      "14/14 [==============================] - 0s 5ms/step - loss: 0.0036 - mae: 0.0521 - val_loss: 0.0040 - val_mae: 0.0540\n",
      "Epoch 70/500\n",
      "14/14 [==============================] - 0s 5ms/step - loss: 0.0036 - mae: 0.0520 - val_loss: 0.0077 - val_mae: 0.0857\n",
      "Epoch 71/500\n",
      "14/14 [==============================] - 0s 5ms/step - loss: 0.0031 - mae: 0.0489 - val_loss: 0.0047 - val_mae: 0.0620\n",
      "Epoch 72/500\n",
      "14/14 [==============================] - 0s 5ms/step - loss: 0.0049 - mae: 0.0510 - val_loss: 0.0013 - val_mae: 0.0313\n",
      "Epoch 73/500\n",
      "14/14 [==============================] - 0s 4ms/step - loss: 0.0027 - mae: 0.0392 - val_loss: 8.8492e-04 - val_mae: 0.0258\n",
      "Epoch 74/500\n",
      "14/14 [==============================] - 0s 5ms/step - loss: 0.0036 - mae: 0.0476 - val_loss: 0.0018 - val_mae: 0.0354\n",
      "Epoch 75/500\n",
      "14/14 [==============================] - 0s 5ms/step - loss: 0.0034 - mae: 0.0532 - val_loss: 0.0044 - val_mae: 0.0611\n",
      "Epoch 76/500\n",
      "14/14 [==============================] - 0s 5ms/step - loss: 0.0030 - mae: 0.0470 - val_loss: 0.0112 - val_mae: 0.1022\n",
      "Epoch 77/500\n",
      "14/14 [==============================] - 0s 5ms/step - loss: 0.0039 - mae: 0.0493 - val_loss: 0.0034 - val_mae: 0.0530\n",
      "Epoch 78/500\n",
      "14/14 [==============================] - 0s 5ms/step - loss: 0.0034 - mae: 0.0529 - val_loss: 0.0041 - val_mae: 0.0553\n",
      "Epoch 79/500\n",
      "14/14 [==============================] - 0s 5ms/step - loss: 0.0026 - mae: 0.0393 - val_loss: 0.0017 - val_mae: 0.0307\n",
      "Epoch 80/500\n",
      "14/14 [==============================] - 0s 5ms/step - loss: 0.0032 - mae: 0.0492 - val_loss: 0.0033 - val_mae: 0.0509\n",
      "Epoch 81/500\n",
      "14/14 [==============================] - 0s 5ms/step - loss: 0.0038 - mae: 0.0566 - val_loss: 0.0020 - val_mae: 0.0395\n",
      "Epoch 82/500\n",
      "14/14 [==============================] - 0s 5ms/step - loss: 0.0040 - mae: 0.0574 - val_loss: 0.0034 - val_mae: 0.0516\n",
      "Epoch 83/500\n",
      "14/14 [==============================] - 0s 5ms/step - loss: 0.0024 - mae: 0.0383 - val_loss: 0.0085 - val_mae: 0.0884\n"
     ]
    }
   ],
   "source": [
    "history = ann.fit(X_train, y_train,\n",
    "                    validation_data = (X_val, y_val),\n",
    "                    callbacks=[es],\n",
    "                    epochs=500,\n",
    "                    batch_size=30,\n",
    "                    verbose=1)"
   ]
  },
  {
   "cell_type": "markdown",
   "metadata": {
    "colab_type": "text",
    "id": "0H0zKKNEBLD5"
   },
   "source": [
    "### Predicting the results of the Test set"
   ]
  },
  {
   "cell_type": "code",
   "execution_count": 16,
   "metadata": {},
   "outputs": [
    {
     "data": {
      "image/png": "[encoded data removed]",
      "text/plain": [
       "<Figure size 432x288 with 1 Axes>"
      ]
     },
     "metadata": {
      "needs_background": "light"
     },
     "output_type": "display_data"
    }
   ],
   "source": [
    "import matplotlib.pyplot as plt\n",
    "# let's see the training and validation accuracy by epoch\n",
    "history_dict = history.history\n",
    "loss_values = history_dict['loss'] # you can change this\n",
    "val_loss_values = history_dict['val_loss'] # you can also change this\n",
    "epochs = range(1, len(loss_values) + 1) # range of X (no. of epochs)\n",
    "plt.plot(epochs, loss_values, 'blue', label='Training loss')\n",
    "plt.plot(epochs, val_loss_values, 'orange', label='Testing loss')\n",
    "plt.title('Training and testing loss')\n",
    "plt.xlabel('Epochs')\n",
    "plt.ylabel('Loss (MSE)')\n",
    "plt.legend()\n",
    "plt.show()"
   ]
  },
  {
   "cell_type": "code",
   "execution_count": 17,
   "metadata": {},
   "outputs": [
    {
     "data": {
      "image/png": "[encoded data removed]",
      "text/plain": [
       "<Figure size 432x288 with 1 Axes>"
      ]
     },
     "metadata": {
      "needs_background": "light"
     },
     "output_type": "display_data"
    }
   ],
   "source": [
    "loss_values1 = history_dict['mae'] # you can change this\n",
    "val_loss_values1 = history_dict['val_mae'] # you can also change this\n",
    "epochs = range(1, len(loss_values1) + 1) # range of X (no. of epochs)\n",
    "plt.plot(epochs, loss_values1, 'blue', label='Training MAE')\n",
    "plt.plot(epochs, val_loss_values1, 'orange', label='Testing MAE')\n",
    "plt.title('Training and testing MAE')\n",
    "plt.xlabel('Epochs')\n",
    "plt.ylabel('MAE')\n",
    "plt.legend()\n",
    "plt.show()"
   ]
  },
  {
   "cell_type": "code",
   "execution_count": 18,
   "metadata": {},
   "outputs": [
    {
     "name": "stdout",
     "output_type": "stream",
     "text": [
      "range(1, 191)\n"
     ]
    }
   ],
   "source": [
    "print (epochs)"
   ]
  },
  {
   "cell_type": "code",
   "execution_count": 18,
   "metadata": {},
   "outputs": [
    {
     "name": "stdout",
     "output_type": "stream",
     "text": [
      "13/13 [==============================] - 0s 1ms/step\n",
      "3/3 [==============================] - 0s 1ms/step\n"
     ]
    },
    {
     "data": {
      "image/png": "[encoded data removed]",
      "text/plain": [
       "<Figure size 432x288 with 2 Axes>"
      ]
     },
     "metadata": {
      "needs_background": "light"
     },
     "output_type": "display_data"
    }
   ],
   "source": [
    "# scatterplot of actual vs. pred\n",
    "# specify the dimensions \n",
    "fig, axes = plt.subplots(1,2) # 1 row, 2 columns\n",
    "\n",
    "# this makes the individual subplots\n",
    "# Training Results\n",
    "axes[0].scatter(x=y_train, y=ann.predict(X_train)) #first row, first entry (left top)\n",
    "axes[0].set_xlabel(\"Actual\", fontsize=10)\n",
    "axes[0].set_ylabel(\"Predicted\",  fontsize=10)\n",
    "axes[0].set_title(\"Training\")\n",
    "# add 45 deg line\n",
    "x = np.linspace(*axes[0].get_xlim())\n",
    "axes[0].plot(x, x, color='red')\n",
    "# Validation Results\n",
    "axes[1].scatter(x=y_val, y=ann.predict(X_val)) # first row, second entry (right top)\n",
    "axes[1].set_xlabel(\"Actual\", fontsize=10)\n",
    "axes[1].set_ylabel(\"Predicted\",  fontsize=10)\n",
    "axes[1].set_title(\"Validation\")\n",
    "# add 45 deg line\n",
    "x = np.linspace(*axes[1].get_xlim())\n",
    "axes[1].plot(x, x, color='red')\n",
    "\n",
    "# tight layout\n",
    "fig.tight_layout()\n",
    "\n",
    "# show the plot\n",
    "plt.show()"
   ]
  },
  {
   "cell_type": "code",
   "execution_count": 19,
   "metadata": {
    "colab": {
     "base_uri": "https://localhost:8080/",
     "height": 134
    },
    "colab_type": "code",
    "id": "IA0yApEmBG1X",
    "outputId": "cb981e1f-9204-4a2a-fece-9d66a6919189"
   },
   "outputs": [
    {
     "name": "stdout",
     "output_type": "stream",
     "text": [
      "3/3 [==============================] - 0s 2ms/step\n",
      "[[0.08 0.07]\n",
      " [0.07 0.01]\n",
      " [0.08 0.1 ]\n",
      " [0.08 0.01]\n",
      " [0.08 0.1 ]\n",
      " [0.08 0.1 ]\n",
      " [0.08 0.1 ]\n",
      " [0.08 0.09]\n",
      " [0.08 0.1 ]\n",
      " [0.07 0.04]\n",
      " [0.07 0.01]\n",
      " [0.08 0.1 ]\n",
      " [0.08 0.1 ]\n",
      " [0.08 0.09]\n",
      " [0.08 0.1 ]\n",
      " [0.08 0.07]\n",
      " [0.08 0.06]\n",
      " [0.08 0.1 ]\n",
      " [0.08 0.1 ]\n",
      " [0.08 0.1 ]\n",
      " [0.08 0.06]\n",
      " [0.07 0.04]\n",
      " [0.07 0.01]\n",
      " [0.08 0.1 ]\n",
      " [0.07 0.04]\n",
      " [0.07 0.02]\n",
      " [0.08 0.07]\n",
      " [0.08 0.09]\n",
      " [0.08 0.07]\n",
      " [0.06 0.  ]\n",
      " [0.08 0.06]\n",
      " [0.07 0.01]\n",
      " [0.08 0.1 ]\n",
      " [0.07 0.01]\n",
      " [0.08 0.1 ]\n",
      " [0.08 0.08]\n",
      " [0.08 0.09]\n",
      " [0.08 0.07]\n",
      " [0.08 0.03]\n",
      " [0.08 0.06]\n",
      " [0.08 0.08]\n",
      " [0.07 0.04]\n",
      " [0.07 0.01]\n",
      " [0.08 0.06]\n",
      " [0.08 0.1 ]\n",
      " [0.08 0.09]\n",
      " [0.08 0.07]\n",
      " [0.08 0.06]\n",
      " [0.08 0.1 ]\n",
      " [0.08 0.1 ]\n",
      " [0.08 0.1 ]\n",
      " [0.08 0.1 ]\n",
      " [0.08 0.1 ]\n",
      " [0.08 0.1 ]\n",
      " [0.08 0.07]\n",
      " [0.08 0.1 ]\n",
      " [0.08 0.07]\n",
      " [0.08 0.08]\n",
      " [0.08 0.07]\n",
      " [0.08 0.09]\n",
      " [0.08 0.07]\n",
      " [0.08 0.08]\n",
      " [0.03 0.  ]\n",
      " [0.08 0.09]\n",
      " [0.08 0.07]\n",
      " [0.08 0.1 ]\n",
      " [0.08 0.05]\n",
      " [0.08 0.1 ]\n",
      " [0.08 0.1 ]\n",
      " [0.08 0.06]\n",
      " [0.08 0.02]\n",
      " [0.08 0.06]\n",
      " [0.08 0.08]\n",
      " [0.08 0.1 ]\n",
      " [0.06 0.01]\n",
      " [0.07 0.01]\n",
      " [0.08 0.09]\n",
      " [0.08 0.09]\n",
      " [0.08 0.07]\n",
      " [0.06 0.01]\n",
      " [0.08 0.07]\n",
      " [0.08 0.08]\n",
      " [0.08 0.1 ]\n",
      " [0.08 0.05]]\n"
     ]
    }
   ],
   "source": [
    "#X_test=np.asarray(X_test).astype(np.int)\n",
    "\n",
    "#y_test=np.asarray(y_test).astype(np.int)\n",
    "\n",
    "y_pred = ann.predict(X_test)\n",
    "np.set_printoptions(precision=2)\n",
    "print(np.concatenate((y_pred.reshape(len(y_pred),1), y_test.reshape(len(y_test),1)),1))"
   ]
  },
  {
   "cell_type": "code",
   "execution_count": 20,
   "metadata": {},
   "outputs": [
    {
     "data": {
      "text/plain": [
       "Text(0, 0.5, 'Predicted data')"
      ]
     },
     "execution_count": 20,
     "metadata": {},
     "output_type": "execute_result"
    },
    {
     "data": {
      "image/png": "[encoded data removed]",
      "text/plain": [
       "<Figure size 432x288 with 1 Axes>"
      ]
     },
     "metadata": {
      "needs_background": "light"
     },
     "output_type": "display_data"
    }
   ],
   "source": [
    "import matplotlib.pyplot as plt\n",
    "plt.scatter(y_test, y_pred, color=\"blue\")\n",
    "plt.plot ([0,0.13],[0,0.13], color = \"red\")\n",
    "plt.axis ([0,0.13,0,0.13])\n",
    "plt.xlabel ('Actual data')\n",
    "plt.ylabel ('Predicted data')"
   ]
  },
  {
   "cell_type": "code",
   "execution_count": 21,
   "metadata": {},
   "outputs": [
    {
     "data": {
      "image/png": "[encoded data removed]",
      "text/plain": [
       "<Figure size 648x648 with 1 Axes>"
      ]
     },
     "metadata": {
      "needs_background": "light"
     },
     "output_type": "display_data"
    }
   ],
   "source": [
    "from sklearn.metrics import r2_score\n",
    "# Initialize layout\n",
    "fig1, ax1 = plt.subplots(figsize = (9, 9))\n",
    "\n",
    "\n",
    "#y = y_pred         # Model on prvious line is called here\n",
    "#x = y_test\n",
    "\n",
    "\n",
    "\n",
    "# Add scatterplot\n",
    "ax1.scatter(y_test, y_pred, s=70, alpha=1, edgecolors=\"k\",c='mediumblue',zorder=5, label = 'Points')\n",
    "\n",
    "\n",
    "plt.ylabel('Predicted Peak Incident Pressure (kPa)',fontsize = 25)\n",
    "plt.xlabel('Actual Peak Incident Pressure (kPa)',fontsize = 25)\n",
    "plt.xticks(fontsize = 19)\n",
    "plt.yticks(fontsize = 19)\n",
    "\n",
    "\n",
    "x1 = np.linspace(0,0.13)\n",
    "\n",
    "plt.plot(x1, x1, 'Red', label='45\\N{DEGREE SIGN} line',lw=2.5,alpha=1)\n",
    "plt.plot(x1, 1.1*x1, '--m', label='\\u00B110% Error',lw=2.5,alpha=0.7)\n",
    "plt.plot(x1, 0.9*x1,'m', linestyle='--',lw=2.5,alpha=0.7)\n",
    "plt.plot(x1, 1.2*x1, '-.g', label='\\u00B120% Error',lw=2.5,alpha=0.7)\n",
    "plt.plot(x1, 0.8*x1,'-.g',lw=2.5,alpha=0.7)\n",
    "\n",
    "plt.ylim(0, 0.13)\n",
    "plt.xlim(0, 0.13)\n",
    "plt.legend(loc='upper left',fontsize = 25)\n",
    "\n",
    "plt.grid()\n",
    "\n",
    "ax1.spines['left'].set_color('black')        # setting up Y-axis tick color to red\n",
    "ax1.spines['bottom'].set_color('black')         #setting up above X-axis tick color to red\n",
    "\n",
    "\n",
    "\n",
    "#ax1.annotate(\"$R^2$ = {:.3f}\".format(r2), (2500, 1000),fontsize = 25)  #Model is called here\n",
    "#ax1.annotate(\"Adj.$R^2$ = {:.3f}\".format(adj_r2), (2500, 750),fontsize = 25)\n",
    "\n",
    "#plt.savefig('plot1.png', dpi = 600, bbox_inches = 'tight')"
   ]
  },
  {
   "cell_type": "code",
   "execution_count": 22,
   "metadata": {},
   "outputs": [
    {
     "name": "stdout",
     "output_type": "stream",
     "text": [
      "13/13 [==============================] - 0s 2ms/step\n",
      "0.026544369169150515\n",
      "0.024370210583210802\n"
     ]
    }
   ],
   "source": [
    "# metrics\n",
    "\n",
    "\n",
    "trainpreds = ann.predict(X_train)\n",
    "\n",
    "from sklearn.metrics import mean_absolute_error\n",
    "print(mean_absolute_error(y_train, trainpreds)) # train\n",
    "print(mean_absolute_error(y_test, y_pred)) # test"
   ]
  },
  {
   "cell_type": "code",
   "execution_count": 23,
   "metadata": {},
   "outputs": [
    {
     "name": "stdout",
     "output_type": "stream",
     "text": [
      "0.15082358386784678\n"
     ]
    }
   ],
   "source": [
    "from sklearn.metrics import r2_score\n",
    "r2 = r2_score(y_test, y_pred)\n",
    "print (r2)"
   ]
  },
  {
   "cell_type": "code",
   "execution_count": 24,
   "metadata": {},
   "outputs": [
    {
     "name": "stdout",
     "output_type": "stream",
     "text": [
      "0.12748223218360388\n"
     ]
    }
   ],
   "source": [
    "r2_train = r2_score(y_train, trainpreds)\n",
    "print (r2_train)"
   ]
  },
  {
   "cell_type": "code",
   "execution_count": 25,
   "metadata": {},
   "outputs": [
    {
     "name": "stdout",
     "output_type": "stream",
     "text": [
      "Within 10% margin 14.29%\n",
      "Within 20% margin 38.10%\n",
      "Out of 20% margin 61.90%\n"
     ]
    }
   ],
   "source": [
    "count1 = 0\n",
    "for i in range(len(y_pred)):\n",
    "    line1 = y_pred[i] - 0.9*y_test[i]\n",
    "    line2 = y_pred[i] - 1.1*y_test[i]\n",
    "    #print ('line 1 ', line1)\n",
    "    #print ('line 2 ', line2)\n",
    "    mask1 = (line1 > 0) & (line2 < 0)\n",
    "    #print (mask)\n",
    "    count1 = np.sum(mask1+count1)\n",
    "    #print (count)\n",
    "\n",
    "count2 = 0\n",
    "for j in range(len(y_pred)):\n",
    "    line3 = y_pred[j] - 0.8*y_test[j]\n",
    "    line4 = y_pred[j] - 1.2*y_test[j]\n",
    "    mask2 = (line3 > 0) & (line4 < 0)\n",
    "    count2 = np.sum(mask2+count2)\n",
    "\n",
    "\n",
    "count3 = 0    \n",
    "for k in range(len(y_pred)):\n",
    "    line5 = y_pred[k] - 0.8*y_test[k]\n",
    "    line6 = y_pred[k] - 1.2*y_test[k]\n",
    "    mask3 = (line5 < 0) or (line6 > 0)\n",
    "    count3 = np.sum(mask3+count3)\n",
    "   \n",
    "\n",
    "print ('Within 10% margin', format((count1/len (y_pred)),'.2%'))\n",
    "print ('Within 20% margin', format((count2/len (y_pred)),'.2%'))\n",
    "print ('Out of 20% margin', format((count3/len (y_pred)),'.2%'))"
   ]
  },
  {
   "cell_type": "code",
   "execution_count": 26,
   "metadata": {},
   "outputs": [
    {
     "name": "stdout",
     "output_type": "stream",
     "text": [
      "0.12985626495100355\n"
     ]
    }
   ],
   "source": [
    "adj_r2 = 1 - ((1 - r2) * (len(X_test) - 1) / (len(X_test) - len (X_test[0]) - 1))\n",
    "print (adj_r2)"
   ]
  },
  {
   "cell_type": "code",
   "execution_count": 27,
   "metadata": {},
   "outputs": [
    {
     "data": {
      "text/plain": [
       "0.02979170069411687"
      ]
     },
     "execution_count": 27,
     "metadata": {},
     "output_type": "execute_result"
    }
   ],
   "source": [
    "import math\n",
    "from sklearn.metrics import mean_squared_error\n",
    "\n",
    "math.sqrt(mean_squared_error(y_test, y_pred))"
   ]
  },
  {
   "cell_type": "code",
   "execution_count": 28,
   "metadata": {},
   "outputs": [
    {
     "data": {
      "text/plain": [
       "0.024370210583210802"
      ]
     },
     "execution_count": 28,
     "metadata": {},
     "output_type": "execute_result"
    }
   ],
   "source": [
    "from sklearn.metrics import mean_absolute_error\n",
    "\n",
    "mean_absolute_error(y_test, y_pred)"
   ]
  }
 ],
 "metadata": {
  "colab": {
   "collapsed_sections": [],
   "name": "Artificial Neural Network",
   "provenance": [],
   "toc_visible": true
  },
  "kernelspec": {
   "display_name": "Python 3 (ipykernel)",
   "language": "python",
   "name": "python3"
  },
  "language_info": {
   "codemirror_mode": {
    "name": "ipython",
    "version": 3
   },
   "file_extension": ".py",
   "mimetype": "text/x-python",
   "name": "python",
   "nbconvert_exporter": "python",
   "pygments_lexer": "ipython3",
   "version": "3.9.7"
  }
 },
 "nbformat": 4,
 "nbformat_minor": 4
}
