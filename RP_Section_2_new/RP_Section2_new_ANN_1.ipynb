{
 "cells": [
  {
   "cell_type": "markdown",
   "metadata": {
    "colab_type": "text",
    "id": "3cbb7fRy-eyr"
   },
   "source": [
    "# Artificial Neural Network"
   ]
  },
  {
   "cell_type": "markdown",
   "source": [
    "## Part 1 - Importing the libraries"
   ],
   "metadata": {
    "collapsed": false
   }
  },
  {
   "cell_type": "code",
   "execution_count": 1,
   "metadata": {
    "colab": {},
    "colab_type": "code",
    "id": "lxChR1Rk-umf",
    "ExecuteTime": {
     "end_time": "2024-08-05T13:56:11.023382800Z",
     "start_time": "2024-08-05T13:56:06.349416Z"
    }
   },
   "outputs": [],
   "source": [
    "import numpy as np\n",
    "import pandas as pd\n",
    "import tensorflow as tf\n",
    "import matplotlib.pyplot as plt\n",
    "from keras.models import load_model\n",
    "from pathlib import Path\n",
    "import pickle"
   ]
  },
  {
   "cell_type": "markdown",
   "metadata": {
    "colab_type": "text",
    "id": "AG3FQEch-yuA"
   },
   "source": [
    "## Part 2 - Data Preprocessing"
   ]
  },
  {
   "cell_type": "code",
   "execution_count": 2,
   "metadata": {
    "ExecuteTime": {
     "end_time": "2024-08-05T13:56:13.050991800Z",
     "start_time": "2024-08-05T13:56:12.994808900Z"
    }
   },
   "outputs": [
    {
     "name": "stdout",
     "output_type": "stream",
     "text": [
      "input G:\\Chamodi\\LSDYNA3D\\RP_TH_models\\RP_Section_2_new\n",
      "2 [WindowsPath('G:/Chamodi/LSDYNA3D/RP_TH_models/RP_Section_2_new/3.00m'), WindowsPath('G:/Chamodi/LSDYNA3D/RP_TH_models/RP_Section_2_new/RP_curves_fr05m'), WindowsPath('G:/Chamodi/LSDYNA3D/RP_TH_models/RP_Section_2_new/RP_curves_fr07m')]\n"
     ]
    }
   ],
   "source": [
    "#Access input folder\n",
    "current_dir = Path.cwd()\n",
    "input_dir1 = Path (\"G:/Chamodi/LSDYNA3D/RP_TH_models/RP_Section_2_new\")\n",
    "print (\"input\",input_dir1)\n",
    "\n",
    "#Access folders inside input folder\n",
    "input_dir2=  [folder1 for folder1 in input_dir1.iterdir() if folder1.is_dir()] # folder1 - RP_curves_fr7m\n",
    "print (\"2\",input_dir2)"
   ]
  },
  {
   "cell_type": "code",
   "execution_count": 3,
   "metadata": {
    "ExecuteTime": {
     "end_time": "2024-08-05T13:56:23.625278100Z",
     "start_time": "2024-08-05T13:56:17.422314100Z"
    }
   },
   "outputs": [
    {
     "name": "stdout",
     "output_type": "stream",
     "text": [
      "folder G:\\Chamodi\\LSDYNA3D\\RP_TH_models\\RP_Section_2_new\\3.00m\\3.00m00.5kg\n",
      "1\n",
      "2\n",
      "3\n",
      "4\n",
      "folder G:\\Chamodi\\LSDYNA3D\\RP_TH_models\\RP_Section_2_new\\3.00m\\3.00m02.5kg\n",
      "1\n",
      "2\n",
      "3\n",
      "4\n",
      "folder G:\\Chamodi\\LSDYNA3D\\RP_TH_models\\RP_Section_2_new\\3.00m\\3.00m04.5kg\n",
      "1\n",
      "2\n",
      "3\n",
      "4\n",
      "folder G:\\Chamodi\\LSDYNA3D\\RP_TH_models\\RP_Section_2_new\\3.00m\\3.00m06.5kg\n",
      "1\n",
      "2\n",
      "3\n",
      "4\n",
      "folder G:\\Chamodi\\LSDYNA3D\\RP_TH_models\\RP_Section_2_new\\3.00m\\3.00m08.5kg\n",
      "1\n",
      "2\n",
      "3\n",
      "4\n",
      "folder G:\\Chamodi\\LSDYNA3D\\RP_TH_models\\RP_Section_2_new\\3.00m\\3.00m10.5kg\n",
      "1\n",
      "2\n",
      "3\n",
      "4\n",
      "folder G:\\Chamodi\\LSDYNA3D\\RP_TH_models\\RP_Section_2_new\\3.00m\\3.00m12.5kg\n",
      "1\n",
      "2\n",
      "3\n",
      "4\n",
      "folder G:\\Chamodi\\LSDYNA3D\\RP_TH_models\\RP_Section_2_new\\3.00m\\3.00m14.5kg\n",
      "1\n",
      "2\n",
      "3\n",
      "4\n",
      "folder G:\\Chamodi\\LSDYNA3D\\RP_TH_models\\RP_Section_2_new\\3.00m\\3.00m16.5kg\n",
      "1\n",
      "2\n",
      "3\n",
      "4\n",
      "folder G:\\Chamodi\\LSDYNA3D\\RP_TH_models\\RP_Section_2_new\\3.00m\\3.00m18.5kg\n",
      "1\n",
      "2\n",
      "3\n",
      "4\n",
      "folder G:\\Chamodi\\LSDYNA3D\\RP_TH_models\\RP_Section_2_new\\3.00m\\3.00m20.5kg\n",
      "1\n",
      "2\n",
      "3\n",
      "4\n",
      "folder G:\\Chamodi\\LSDYNA3D\\RP_TH_models\\RP_Section_2_new\\3.00m\\3.00m22.5kg\n",
      "1\n",
      "2\n",
      "3\n",
      "4\n",
      "folder G:\\Chamodi\\LSDYNA3D\\RP_TH_models\\RP_Section_2_new\\3.00m\\3.00m24.5kg\n",
      "1\n",
      "2\n",
      "3\n",
      "4\n",
      "folder G:\\Chamodi\\LSDYNA3D\\RP_TH_models\\RP_Section_2_new\\3.00m\\3.00m26.5kg\n",
      "1\n",
      "2\n",
      "3\n",
      "4\n",
      "folder G:\\Chamodi\\LSDYNA3D\\RP_TH_models\\RP_Section_2_new\\3.00m\\3.00m28.5kg\n",
      "1\n",
      "2\n",
      "3\n",
      "4\n",
      "folder G:\\Chamodi\\LSDYNA3D\\RP_TH_models\\RP_Section_2_new\\3.00m\\3.00m30.5kg\n",
      "1\n",
      "2\n",
      "3\n",
      "4\n",
      "folder G:\\Chamodi\\LSDYNA3D\\RP_TH_models\\RP_Section_2_new\\3.00m\\3.00m32.5kg\n",
      "1\n",
      "2\n",
      "3\n",
      "4\n",
      "folder G:\\Chamodi\\LSDYNA3D\\RP_TH_models\\RP_Section_2_new\\3.00m\\3.00m34.5kg\n",
      "1\n",
      "2\n",
      "3\n",
      "4\n",
      "folder G:\\Chamodi\\LSDYNA3D\\RP_TH_models\\RP_Section_2_new\\3.00m\\3.00m35.0kg\n",
      "1\n",
      "2\n",
      "3\n",
      "4\n",
      "folder G:\\Chamodi\\LSDYNA3D\\RP_TH_models\\RP_Section_2_new\\RP_curves_fr05m\\05m00.5kg\n",
      "1.xlsx\n",
      "2.xlsx\n",
      "3.xlsx\n",
      "4.xlsx\n",
      "folder G:\\Chamodi\\LSDYNA3D\\RP_TH_models\\RP_Section_2_new\\RP_curves_fr05m\\05m02.5kg\n",
      "1.xlsx\n",
      "2.xlsx\n",
      "3.xlsx\n",
      "4.xlsx\n",
      "folder G:\\Chamodi\\LSDYNA3D\\RP_TH_models\\RP_Section_2_new\\RP_curves_fr05m\\05m04.5kg\n",
      "1.xlsx\n",
      "2.xlsx\n",
      "3.xlsx\n",
      "4.xlsx\n",
      "folder G:\\Chamodi\\LSDYNA3D\\RP_TH_models\\RP_Section_2_new\\RP_curves_fr05m\\05m06.5kg\n",
      "1.xlsx\n",
      "2.xlsx\n",
      "3.xlsx\n",
      "4.xlsx\n",
      "folder G:\\Chamodi\\LSDYNA3D\\RP_TH_models\\RP_Section_2_new\\RP_curves_fr05m\\05m08.5kg\n",
      "1.xlsx\n",
      "2.xlsx\n",
      "3.xlsx\n",
      "4.xlsx\n",
      "folder G:\\Chamodi\\LSDYNA3D\\RP_TH_models\\RP_Section_2_new\\RP_curves_fr05m\\05m10.5kg\n",
      "1.xlsx\n",
      "2.xlsx\n",
      "3.xlsx\n",
      "4.xlsx\n",
      "folder G:\\Chamodi\\LSDYNA3D\\RP_TH_models\\RP_Section_2_new\\RP_curves_fr05m\\05m12.5kg\n",
      "1.xlsx\n",
      "2.xlsx\n",
      "3.xlsx\n",
      "4.xlsx\n",
      "folder G:\\Chamodi\\LSDYNA3D\\RP_TH_models\\RP_Section_2_new\\RP_curves_fr05m\\05m14.5kg\n",
      "1.xlsx\n",
      "2.xlsx\n",
      "3.xlsx\n",
      "4.xlsx\n",
      "folder G:\\Chamodi\\LSDYNA3D\\RP_TH_models\\RP_Section_2_new\\RP_curves_fr05m\\05m16.5kg\n",
      "1.xlsx\n",
      "2.xlsx\n",
      "3.xlsx\n",
      "4.xlsx\n",
      "folder G:\\Chamodi\\LSDYNA3D\\RP_TH_models\\RP_Section_2_new\\RP_curves_fr05m\\05m18.5kg\n",
      "1.xlsx\n",
      "2.xlsx\n",
      "3.xlsx\n",
      "4.xlsx\n",
      "folder G:\\Chamodi\\LSDYNA3D\\RP_TH_models\\RP_Section_2_new\\RP_curves_fr05m\\05m20.5kg\n",
      "1.xlsx\n",
      "2.xlsx\n",
      "3.xlsx\n",
      "4.xlsx\n",
      "folder G:\\Chamodi\\LSDYNA3D\\RP_TH_models\\RP_Section_2_new\\RP_curves_fr05m\\05m22.5kg\n",
      "1.xlsx\n",
      "2.xlsx\n",
      "3.xlsx\n",
      "4.xlsx\n",
      "folder G:\\Chamodi\\LSDYNA3D\\RP_TH_models\\RP_Section_2_new\\RP_curves_fr05m\\05m24.5kg\n",
      "1.xlsx\n",
      "2.xlsx\n",
      "3.xlsx\n",
      "4.xlsx\n",
      "folder G:\\Chamodi\\LSDYNA3D\\RP_TH_models\\RP_Section_2_new\\RP_curves_fr05m\\05m26.5kg\n",
      "1.xlsx\n",
      "2.xlsx\n",
      "3.xlsx\n",
      "4.xlsx\n",
      "folder G:\\Chamodi\\LSDYNA3D\\RP_TH_models\\RP_Section_2_new\\RP_curves_fr05m\\05m28.5kg\n",
      "1.xlsx\n",
      "2.xlsx\n",
      "3.xlsx\n",
      "4.xlsx\n",
      "folder G:\\Chamodi\\LSDYNA3D\\RP_TH_models\\RP_Section_2_new\\RP_curves_fr05m\\05m30.5kg\n",
      "1.xlsx\n",
      "2.xlsx\n",
      "3.xlsx\n",
      "4.xlsx\n",
      "folder G:\\Chamodi\\LSDYNA3D\\RP_TH_models\\RP_Section_2_new\\RP_curves_fr05m\\05m32.5kg\n",
      "1.xlsx\n",
      "2.xlsx\n",
      "3.xlsx\n",
      "4.xlsx\n",
      "folder G:\\Chamodi\\LSDYNA3D\\RP_TH_models\\RP_Section_2_new\\RP_curves_fr05m\\05m34.5kg\n",
      "1.xlsx\n",
      "2.xlsx\n",
      "3.xlsx\n",
      "4.xlsx\n",
      "folder G:\\Chamodi\\LSDYNA3D\\RP_TH_models\\RP_Section_2_new\\RP_curves_fr05m\\05m35.0kg\n",
      "1.xlsx\n",
      "2.xlsx\n",
      "3.xlsx\n",
      "4.xlsx\n",
      "folder G:\\Chamodi\\LSDYNA3D\\RP_TH_models\\RP_Section_2_new\\RP_curves_fr07m\\07m00.5kg\n",
      "1.xlsx\n",
      "2.xlsx\n",
      "3.xlsx\n",
      "4.xlsx\n",
      "folder G:\\Chamodi\\LSDYNA3D\\RP_TH_models\\RP_Section_2_new\\RP_curves_fr07m\\07m02.5kg\n",
      "1.xlsx\n",
      "2.xlsx\n",
      "3.xlsx\n",
      "4.xlsx\n",
      "folder G:\\Chamodi\\LSDYNA3D\\RP_TH_models\\RP_Section_2_new\\RP_curves_fr07m\\07m04.5kg\n",
      "1.xlsx\n",
      "2.xlsx\n",
      "3.xlsx\n",
      "4.xlsx\n",
      "folder G:\\Chamodi\\LSDYNA3D\\RP_TH_models\\RP_Section_2_new\\RP_curves_fr07m\\07m06.5kg\n",
      "1.xlsx\n",
      "2.xlsx\n",
      "3.xlsx\n",
      "4.xlsx\n",
      "folder G:\\Chamodi\\LSDYNA3D\\RP_TH_models\\RP_Section_2_new\\RP_curves_fr07m\\07m08.5kg\n",
      "1.xlsx\n",
      "2.xlsx\n",
      "3.xlsx\n",
      "4.xlsx\n",
      "folder G:\\Chamodi\\LSDYNA3D\\RP_TH_models\\RP_Section_2_new\\RP_curves_fr07m\\07m10.5kg\n",
      "1.xlsx\n",
      "2.xlsx\n",
      "3.xlsx\n",
      "4.xlsx\n",
      "folder G:\\Chamodi\\LSDYNA3D\\RP_TH_models\\RP_Section_2_new\\RP_curves_fr07m\\07m12.5kg\n",
      "1.xlsx\n",
      "2.xlsx\n",
      "3.xlsx\n",
      "4.xlsx\n",
      "folder G:\\Chamodi\\LSDYNA3D\\RP_TH_models\\RP_Section_2_new\\RP_curves_fr07m\\07m14.5kg\n",
      "1.xlsx\n",
      "2.xlsx\n",
      "3.xlsx\n",
      "4.xlsx\n",
      "folder G:\\Chamodi\\LSDYNA3D\\RP_TH_models\\RP_Section_2_new\\RP_curves_fr07m\\07m16.5kg\n",
      "1.xlsx\n",
      "2.xlsx\n",
      "3.xlsx\n",
      "4.xlsx\n",
      "folder G:\\Chamodi\\LSDYNA3D\\RP_TH_models\\RP_Section_2_new\\RP_curves_fr07m\\07m18.5kg\n",
      "1.xlsx\n",
      "2.xlsx\n",
      "3.xlsx\n",
      "4.xlsx\n",
      "folder G:\\Chamodi\\LSDYNA3D\\RP_TH_models\\RP_Section_2_new\\RP_curves_fr07m\\07m20.5kg\n",
      "1.xlsx\n",
      "2.xlsx\n",
      "3.xlsx\n",
      "4.xlsx\n",
      "folder G:\\Chamodi\\LSDYNA3D\\RP_TH_models\\RP_Section_2_new\\RP_curves_fr07m\\07m22.5kg\n",
      "1.xlsx\n",
      "2.xlsx\n",
      "3.xlsx\n",
      "4.xlsx\n",
      "folder G:\\Chamodi\\LSDYNA3D\\RP_TH_models\\RP_Section_2_new\\RP_curves_fr07m\\07m24.5kg\n",
      "1.xlsx\n",
      "2.xlsx\n",
      "3.xlsx\n",
      "4.xlsx\n",
      "folder G:\\Chamodi\\LSDYNA3D\\RP_TH_models\\RP_Section_2_new\\RP_curves_fr07m\\07m26.5kg\n",
      "1.xlsx\n",
      "2.xlsx\n",
      "3.xlsx\n",
      "4.xlsx\n",
      "folder G:\\Chamodi\\LSDYNA3D\\RP_TH_models\\RP_Section_2_new\\RP_curves_fr07m\\07m28.5kg\n",
      "1.xlsx\n",
      "2.xlsx\n",
      "3.xlsx\n",
      "4.xlsx\n",
      "folder G:\\Chamodi\\LSDYNA3D\\RP_TH_models\\RP_Section_2_new\\RP_curves_fr07m\\07m30.5kg\n",
      "1.xlsx\n",
      "2.xlsx\n",
      "3.xlsx\n",
      "4.xlsx\n",
      "folder G:\\Chamodi\\LSDYNA3D\\RP_TH_models\\RP_Section_2_new\\RP_curves_fr07m\\07m32.5kg\n",
      "1.xlsx\n",
      "2.xlsx\n",
      "3.xlsx\n",
      "4.xlsx\n",
      "folder G:\\Chamodi\\LSDYNA3D\\RP_TH_models\\RP_Section_2_new\\RP_curves_fr07m\\07m34.5kg\n",
      "1.xlsx\n",
      "2.xlsx\n",
      "3.xlsx\n",
      "4.xlsx\n",
      "folder G:\\Chamodi\\LSDYNA3D\\RP_TH_models\\RP_Section_2_new\\RP_curves_fr07m\\07m35.0kg\n",
      "1.xlsx\n",
      "2.xlsx\n",
      "3.xlsx\n",
      "4.xlsx\n"
     ]
    }
   ],
   "source": [
    "#dataset = pd.DataFrame(columns = ['Charge_mass', 'Standoff_distance', 'Time', 'Pressure', 'Phase'])\n",
    "df_list = []\n",
    "\n",
    "for folder1 in input_dir2:\n",
    "    \n",
    "    input_dir3 =  [folder2 for folder2 in folder1.iterdir() if folder2.is_dir()] # folder2 - 07m00.5kg\n",
    "    \n",
    "    for folder2 in input_dir3:\n",
    "        \n",
    "        print ('folder', folder2)\n",
    "        files1 = [file1 for file1 in folder2.rglob(\"*.xlsx\")]\n",
    "    \n",
    "        for file1 in files1:\n",
    "            df_list.append(pd.read_excel(file1))\n",
    "            print (file1.stem)\n",
    "    \n",
    "dataset = pd.concat(df_list, ignore_index = True)"
   ]
  },
  {
   "cell_type": "code",
   "execution_count": 4,
   "metadata": {
    "colab": {},
    "colab_type": "code",
    "id": "B9CV13Co_HHM",
    "ExecuteTime": {
     "end_time": "2024-08-05T13:56:31.473556Z",
     "start_time": "2024-08-05T13:56:31.326683800Z"
    }
   },
   "outputs": [
    {
     "name": "stdout",
     "output_type": "stream",
     "text": [
      "<class 'pandas.core.frame.DataFrame'>\n",
      "RangeIndex: 28285 entries, 0 to 28284\n",
      "Data columns (total 6 columns):\n",
      " #   Column             Non-Null Count  Dtype  \n",
      "---  ------             --------------  -----  \n",
      " 0   Mass               28285 non-null  float64\n",
      " 1   Standoff distance  28285 non-null  int64  \n",
      " 2   Angle              28285 non-null  int64  \n",
      " 3   Time               28285 non-null  float64\n",
      " 4   Phase              28285 non-null  object \n",
      " 5   Pressure           28285 non-null  float64\n",
      "dtypes: float64(3), int64(2), object(1)\n",
      "memory usage: 1.3+ MB\n"
     ]
    }
   ],
   "source": [
    "dataset.info()"
   ]
  },
  {
   "cell_type": "code",
   "execution_count": 5,
   "outputs": [
    {
     "name": "stdout",
     "output_type": "stream",
     "text": [
      "<class 'pandas.core.frame.DataFrame'>\n",
      "RangeIndex: 28285 entries, 0 to 28284\n",
      "Data columns (total 8 columns):\n",
      " #   Column                     Non-Null Count  Dtype  \n",
      "---  ------                     --------------  -----  \n",
      " 0   Mass                       28285 non-null  float64\n",
      " 1   Standoff distance          28285 non-null  int64  \n",
      " 2   Angle                      28285 non-null  int64  \n",
      " 3   Time                       28285 non-null  float64\n",
      " 4   Pressure                   28285 non-null  float64\n",
      " 5   Phase_negative_decreasing  28285 non-null  uint8  \n",
      " 6   Phase_negative_increasing  28285 non-null  uint8  \n",
      " 7   Phase_positive             28285 non-null  uint8  \n",
      "dtypes: float64(3), int64(2), uint8(3)\n",
      "memory usage: 1.2 MB\n"
     ]
    }
   ],
   "source": [
    "dataset = pd.get_dummies(dataset, columns =['Phase'], dtype = np.uint8)\n",
    "dataset.info()"
   ],
   "metadata": {
    "collapsed": false,
    "ExecuteTime": {
     "end_time": "2024-08-05T13:56:34.372640Z",
     "start_time": "2024-08-05T13:56:34.278510100Z"
    }
   }
  },
  {
   "cell_type": "code",
   "execution_count": 6,
   "outputs": [
    {
     "data": {
      "text/plain": "    Mass  Standoff distance  Angle      Time    Pressure  \\\n0    0.5                  3      0  4.808856  107.847300   \n1    0.5                  3      0  4.813112  107.774500   \n2    0.5                  3      0  4.819497  107.449600   \n3    0.5                  3      0  4.830135  106.437800   \n4    0.5                  3      0  4.868410  100.805800   \n5    0.5                  3      0  4.887534   98.590940   \n6    0.5                  3      0  4.932121   94.448940   \n7    0.5                  3      0  4.991455   88.327220   \n8    0.5                  3      0  5.122123   76.818700   \n9    0.5                  3      0  5.224568   68.518910   \n10   0.5                  3      0  5.315322   61.791730   \n11   0.5                  3      0  5.354440   59.054530   \n12   0.5                  3      0  5.400111   56.012250   \n13   0.5                  3      0  5.470839   51.386330   \n14   0.5                  3      0  5.519789   48.325090   \n15   0.5                  3      0  5.600004   43.638030   \n16   0.5                  3      0  5.704539   37.980500   \n17   0.5                  3      0  5.781082   34.048230   \n18   0.5                  3      0  5.856586   30.477230   \n19   0.5                  3      0  5.915134   27.876160   \n20   0.5                  3      0  5.969371   25.605550   \n21   0.5                  3      0  6.123782   19.654310   \n22   0.5                  3      0  6.200120   16.563880   \n23   0.5                  3      0  6.274382   13.267310   \n24   0.5                  3      0  6.377159    8.248727   \n25   0.5                  3      0  6.427494    5.953672   \n26   0.5                  3      0  6.462523    4.469477   \n27   0.5                  3      0  6.499754    2.978477   \n28   0.5                  3      0  6.539189    1.485242   \n29   0.5                  3      0  6.578639    0.071180   \n\n    Phase_negative_decreasing  Phase_negative_increasing  Phase_positive  \n0                           0                          0               1  \n1                           0                          0               1  \n2                           0                          0               1  \n3                           0                          0               1  \n4                           0                          0               1  \n5                           0                          0               1  \n6                           0                          0               1  \n7                           0                          0               1  \n8                           0                          0               1  \n9                           0                          0               1  \n10                          0                          0               1  \n11                          0                          0               1  \n12                          0                          0               1  \n13                          0                          0               1  \n14                          0                          0               1  \n15                          0                          0               1  \n16                          0                          0               1  \n17                          0                          0               1  \n18                          0                          0               1  \n19                          0                          0               1  \n20                          0                          0               1  \n21                          0                          0               1  \n22                          0                          0               1  \n23                          0                          0               1  \n24                          0                          0               1  \n25                          0                          0               1  \n26                          0                          0               1  \n27                          0                          0               1  \n28                          0                          0               1  \n29                          0                          0               1  ",
      "text/html": "<div>\n<style scoped>\n    .dataframe tbody tr th:only-of-type {\n        vertical-align: middle;\n    }\n\n    .dataframe tbody tr th {\n        vertical-align: top;\n    }\n\n    .dataframe thead th {\n        text-align: right;\n    }\n</style>\n<table border=\"1\" class=\"dataframe\">\n  <thead>\n    <tr style=\"text-align: right;\">\n      <th></th>\n      <th>Mass</th>\n      <th>Standoff distance</th>\n      <th>Angle</th>\n      <th>Time</th>\n      <th>Pressure</th>\n      <th>Phase_negative_decreasing</th>\n      <th>Phase_negative_increasing</th>\n      <th>Phase_positive</th>\n    </tr>\n  </thead>\n  <tbody>\n    <tr>\n      <th>0</th>\n      <td>0.5</td>\n      <td>3</td>\n      <td>0</td>\n      <td>4.808856</td>\n      <td>107.847300</td>\n      <td>0</td>\n      <td>0</td>\n      <td>1</td>\n    </tr>\n    <tr>\n      <th>1</th>\n      <td>0.5</td>\n      <td>3</td>\n      <td>0</td>\n      <td>4.813112</td>\n      <td>107.774500</td>\n      <td>0</td>\n      <td>0</td>\n      <td>1</td>\n    </tr>\n    <tr>\n      <th>2</th>\n      <td>0.5</td>\n      <td>3</td>\n      <td>0</td>\n      <td>4.819497</td>\n      <td>107.449600</td>\n      <td>0</td>\n      <td>0</td>\n      <td>1</td>\n    </tr>\n    <tr>\n      <th>3</th>\n      <td>0.5</td>\n      <td>3</td>\n      <td>0</td>\n      <td>4.830135</td>\n      <td>106.437800</td>\n      <td>0</td>\n      <td>0</td>\n      <td>1</td>\n    </tr>\n    <tr>\n      <th>4</th>\n      <td>0.5</td>\n      <td>3</td>\n      <td>0</td>\n      <td>4.868410</td>\n      <td>100.805800</td>\n      <td>0</td>\n      <td>0</td>\n      <td>1</td>\n    </tr>\n    <tr>\n      <th>5</th>\n      <td>0.5</td>\n      <td>3</td>\n      <td>0</td>\n      <td>4.887534</td>\n      <td>98.590940</td>\n      <td>0</td>\n      <td>0</td>\n      <td>1</td>\n    </tr>\n    <tr>\n      <th>6</th>\n      <td>0.5</td>\n      <td>3</td>\n      <td>0</td>\n      <td>4.932121</td>\n      <td>94.448940</td>\n      <td>0</td>\n      <td>0</td>\n      <td>1</td>\n    </tr>\n    <tr>\n      <th>7</th>\n      <td>0.5</td>\n      <td>3</td>\n      <td>0</td>\n      <td>4.991455</td>\n      <td>88.327220</td>\n      <td>0</td>\n      <td>0</td>\n      <td>1</td>\n    </tr>\n    <tr>\n      <th>8</th>\n      <td>0.5</td>\n      <td>3</td>\n      <td>0</td>\n      <td>5.122123</td>\n      <td>76.818700</td>\n      <td>0</td>\n      <td>0</td>\n      <td>1</td>\n    </tr>\n    <tr>\n      <th>9</th>\n      <td>0.5</td>\n      <td>3</td>\n      <td>0</td>\n      <td>5.224568</td>\n      <td>68.518910</td>\n      <td>0</td>\n      <td>0</td>\n      <td>1</td>\n    </tr>\n    <tr>\n      <th>10</th>\n      <td>0.5</td>\n      <td>3</td>\n      <td>0</td>\n      <td>5.315322</td>\n      <td>61.791730</td>\n      <td>0</td>\n      <td>0</td>\n      <td>1</td>\n    </tr>\n    <tr>\n      <th>11</th>\n      <td>0.5</td>\n      <td>3</td>\n      <td>0</td>\n      <td>5.354440</td>\n      <td>59.054530</td>\n      <td>0</td>\n      <td>0</td>\n      <td>1</td>\n    </tr>\n    <tr>\n      <th>12</th>\n      <td>0.5</td>\n      <td>3</td>\n      <td>0</td>\n      <td>5.400111</td>\n      <td>56.012250</td>\n      <td>0</td>\n      <td>0</td>\n      <td>1</td>\n    </tr>\n    <tr>\n      <th>13</th>\n      <td>0.5</td>\n      <td>3</td>\n      <td>0</td>\n      <td>5.470839</td>\n      <td>51.386330</td>\n      <td>0</td>\n      <td>0</td>\n      <td>1</td>\n    </tr>\n    <tr>\n      <th>14</th>\n      <td>0.5</td>\n      <td>3</td>\n      <td>0</td>\n      <td>5.519789</td>\n      <td>48.325090</td>\n      <td>0</td>\n      <td>0</td>\n      <td>1</td>\n    </tr>\n    <tr>\n      <th>15</th>\n      <td>0.5</td>\n      <td>3</td>\n      <td>0</td>\n      <td>5.600004</td>\n      <td>43.638030</td>\n      <td>0</td>\n      <td>0</td>\n      <td>1</td>\n    </tr>\n    <tr>\n      <th>16</th>\n      <td>0.5</td>\n      <td>3</td>\n      <td>0</td>\n      <td>5.704539</td>\n      <td>37.980500</td>\n      <td>0</td>\n      <td>0</td>\n      <td>1</td>\n    </tr>\n    <tr>\n      <th>17</th>\n      <td>0.5</td>\n      <td>3</td>\n      <td>0</td>\n      <td>5.781082</td>\n      <td>34.048230</td>\n      <td>0</td>\n      <td>0</td>\n      <td>1</td>\n    </tr>\n    <tr>\n      <th>18</th>\n      <td>0.5</td>\n      <td>3</td>\n      <td>0</td>\n      <td>5.856586</td>\n      <td>30.477230</td>\n      <td>0</td>\n      <td>0</td>\n      <td>1</td>\n    </tr>\n    <tr>\n      <th>19</th>\n      <td>0.5</td>\n      <td>3</td>\n      <td>0</td>\n      <td>5.915134</td>\n      <td>27.876160</td>\n      <td>0</td>\n      <td>0</td>\n      <td>1</td>\n    </tr>\n    <tr>\n      <th>20</th>\n      <td>0.5</td>\n      <td>3</td>\n      <td>0</td>\n      <td>5.969371</td>\n      <td>25.605550</td>\n      <td>0</td>\n      <td>0</td>\n      <td>1</td>\n    </tr>\n    <tr>\n      <th>21</th>\n      <td>0.5</td>\n      <td>3</td>\n      <td>0</td>\n      <td>6.123782</td>\n      <td>19.654310</td>\n      <td>0</td>\n      <td>0</td>\n      <td>1</td>\n    </tr>\n    <tr>\n      <th>22</th>\n      <td>0.5</td>\n      <td>3</td>\n      <td>0</td>\n      <td>6.200120</td>\n      <td>16.563880</td>\n      <td>0</td>\n      <td>0</td>\n      <td>1</td>\n    </tr>\n    <tr>\n      <th>23</th>\n      <td>0.5</td>\n      <td>3</td>\n      <td>0</td>\n      <td>6.274382</td>\n      <td>13.267310</td>\n      <td>0</td>\n      <td>0</td>\n      <td>1</td>\n    </tr>\n    <tr>\n      <th>24</th>\n      <td>0.5</td>\n      <td>3</td>\n      <td>0</td>\n      <td>6.377159</td>\n      <td>8.248727</td>\n      <td>0</td>\n      <td>0</td>\n      <td>1</td>\n    </tr>\n    <tr>\n      <th>25</th>\n      <td>0.5</td>\n      <td>3</td>\n      <td>0</td>\n      <td>6.427494</td>\n      <td>5.953672</td>\n      <td>0</td>\n      <td>0</td>\n      <td>1</td>\n    </tr>\n    <tr>\n      <th>26</th>\n      <td>0.5</td>\n      <td>3</td>\n      <td>0</td>\n      <td>6.462523</td>\n      <td>4.469477</td>\n      <td>0</td>\n      <td>0</td>\n      <td>1</td>\n    </tr>\n    <tr>\n      <th>27</th>\n      <td>0.5</td>\n      <td>3</td>\n      <td>0</td>\n      <td>6.499754</td>\n      <td>2.978477</td>\n      <td>0</td>\n      <td>0</td>\n      <td>1</td>\n    </tr>\n    <tr>\n      <th>28</th>\n      <td>0.5</td>\n      <td>3</td>\n      <td>0</td>\n      <td>6.539189</td>\n      <td>1.485242</td>\n      <td>0</td>\n      <td>0</td>\n      <td>1</td>\n    </tr>\n    <tr>\n      <th>29</th>\n      <td>0.5</td>\n      <td>3</td>\n      <td>0</td>\n      <td>6.578639</td>\n      <td>0.071180</td>\n      <td>0</td>\n      <td>0</td>\n      <td>1</td>\n    </tr>\n  </tbody>\n</table>\n</div>"
     },
     "execution_count": 6,
     "metadata": {},
     "output_type": "execute_result"
    }
   ],
   "source": [
    "dataset.head(30)"
   ],
   "metadata": {
    "collapsed": false,
    "ExecuteTime": {
     "end_time": "2024-08-05T13:56:40.773748100Z",
     "start_time": "2024-08-05T13:56:40.676910700Z"
    }
   }
  },
  {
   "cell_type": "code",
   "execution_count": 7,
   "metadata": {
    "ExecuteTime": {
     "end_time": "2024-08-05T13:56:43.083353700Z",
     "start_time": "2024-08-05T13:56:43.019944800Z"
    }
   },
   "outputs": [
    {
     "name": "stdout",
     "output_type": "stream",
     "text": [
      "(28285, 7) (28285,)\n"
     ]
    }
   ],
   "source": [
    "y = dataset['Pressure']\n",
    "X = dataset.drop(['Pressure'], axis=1)\n",
    "print(X.shape, y.shape)"
   ]
  },
  {
   "cell_type": "code",
   "execution_count": 8,
   "metadata": {
    "ExecuteTime": {
     "end_time": "2024-08-05T13:56:44.409565100Z",
     "start_time": "2024-08-05T13:56:44.307907800Z"
    }
   },
   "outputs": [],
   "source": [
    "# convert to numpy array\n",
    "X = np.array(X)\n",
    "y = np.array(y)"
   ]
  },
  {
   "cell_type": "code",
   "execution_count": 9,
   "metadata": {
    "colab": {},
    "colab_type": "code",
    "id": "L5edeb2r_agx",
    "ExecuteTime": {
     "end_time": "2024-08-05T13:56:46.688800100Z",
     "start_time": "2024-08-05T13:56:45.891843800Z"
    }
   },
   "outputs": [],
   "source": [
    "from sklearn.model_selection import train_test_split\n",
    "X_train, X_test, y_train, y_test = train_test_split(X,\n",
    "                                                    y,\n",
    "                                                    test_size = 0.4,\n",
    "                                                    random_state = 0)"
   ]
  },
  {
   "cell_type": "code",
   "execution_count": 10,
   "metadata": {
    "colab": {},
    "colab_type": "code",
    "id": "L5edeb2r_agx",
    "ExecuteTime": {
     "end_time": "2024-08-05T13:56:47.558925400Z",
     "start_time": "2024-08-05T13:56:47.496799700Z"
    }
   },
   "outputs": [],
   "source": [
    "X_val, X_test, y_val, y_test = train_test_split(X_test,\n",
    "                                                y_test,\n",
    "                                                test_size = 0.5,\n",
    "                                                random_state = 0)"
   ]
  },
  {
   "cell_type": "code",
   "execution_count": 11,
   "outputs": [
    {
     "name": "stdout",
     "output_type": "stream",
     "text": [
      "[[-0.55978115 -0.05784456 -1.29360313 ...  0.          0.\n",
      "   1.        ]\n",
      " [-0.75477288  1.2072071   0.44084196 ...  0.          0.\n",
      "   1.        ]\n",
      " [ 1.00015269 -1.32289623  1.30806451 ...  0.          0.\n",
      "   1.        ]\n",
      " ...\n",
      " [-1.14475634 -0.05784456 -1.29360313 ...  0.          0.\n",
      "   1.        ]\n",
      " [-0.94976461 -0.05784456  0.44084196 ...  0.          0.\n",
      "   1.        ]\n",
      " [-0.36478942 -1.32289623 -0.42638059 ...  0.          0.\n",
      "   1.        ]]\n"
     ]
    }
   ],
   "source": [
    "from sklearn.preprocessing import StandardScaler\n",
    "sc = StandardScaler()\n",
    "X_train[:,0:4] = sc.fit_transform(X_train[:, 0:4])\n",
    "print (X_train)"
   ],
   "metadata": {
    "collapsed": false,
    "ExecuteTime": {
     "end_time": "2024-08-05T13:56:48.744035Z",
     "start_time": "2024-08-05T13:56:48.682996Z"
    }
   }
  },
  {
   "cell_type": "code",
   "execution_count": 12,
   "outputs": [
    {
     "name": "stdout",
     "output_type": "stream",
     "text": [
      "[[ 0.61016923 -1.32289623 -1.29360313 ...  0.          0.\n",
      "   1.        ]\n",
      " [-0.94976461 -0.05784456 -1.29360313 ...  0.          0.\n",
      "   1.        ]\n",
      " [-0.36478942  1.2072071  -0.42638059 ...  0.          0.\n",
      "   1.        ]\n",
      " ...\n",
      " [ 1.00015269  1.2072071  -1.29360313 ...  0.          0.\n",
      "   1.        ]\n",
      " [-0.75477288 -1.32289623 -1.29360313 ...  0.          1.\n",
      "   0.        ]\n",
      " [ 1.39013615  1.2072071   0.44084196 ...  0.          0.\n",
      "   1.        ]]\n"
     ]
    }
   ],
   "source": [
    "X_test[:,0:4] = sc.transform(X_test[:,0:4])\n",
    "print (X_test)"
   ],
   "metadata": {
    "collapsed": false,
    "ExecuteTime": {
     "end_time": "2024-08-05T13:56:50.026244200Z",
     "start_time": "2024-08-05T13:56:49.917073800Z"
    }
   }
  },
  {
   "cell_type": "code",
   "execution_count": 13,
   "outputs": [
    {
     "name": "stdout",
     "output_type": "stream",
     "text": [
      "[[-1.72973152 -0.05784456  0.44084196 ...  0.          0.\n",
      "   1.        ]\n",
      " [-1.33974807  1.2072071   0.44084196 ...  1.          0.\n",
      "   0.        ]\n",
      " [-0.36478942 -0.05784456 -0.42638059 ...  0.          0.\n",
      "   1.        ]\n",
      " ...\n",
      " [-0.94976461  1.2072071  -0.42638059 ...  0.          0.\n",
      "   1.        ]\n",
      " [-1.33974807  1.2072071   1.30806451 ...  0.          0.\n",
      "   1.        ]\n",
      " [-1.72973152 -1.32289623 -1.29360313 ...  0.          0.\n",
      "   1.        ]]\n"
     ]
    }
   ],
   "source": [
    "X_val[:,0:4] = sc.transform(X_val[:,0:4])\n",
    "print (X_val)"
   ],
   "metadata": {
    "collapsed": false,
    "ExecuteTime": {
     "end_time": "2024-08-05T13:56:51.547687300Z",
     "start_time": "2024-08-05T13:56:51.424408500Z"
    }
   }
  },
  {
   "cell_type": "code",
   "execution_count": 14,
   "outputs": [
    {
     "name": "stdout",
     "output_type": "stream",
     "text": [
      "X_train 16971\n",
      "X_test 5657\n",
      "X_val 5657\n"
     ]
    }
   ],
   "source": [
    "print (\"X_train\", len(X_train))\n",
    "print (\"X_test\", len(X_test))\n",
    "print (\"X_val\", len(X_val))"
   ],
   "metadata": {
    "collapsed": false,
    "ExecuteTime": {
     "end_time": "2024-08-05T13:56:54.950772400Z",
     "start_time": "2024-08-05T13:56:54.895415500Z"
    }
   }
  },
  {
   "cell_type": "markdown",
   "metadata": {
    "colab_type": "text",
    "id": "_mSLlAT9_eyI"
   },
   "source": [
    "## Part 3 - Building the ANN"
   ]
  },
  {
   "cell_type": "code",
   "execution_count": 15,
   "metadata": {
    "colab": {},
    "colab_type": "code",
    "id": "J6Hd97Ls__Nz",
    "ExecuteTime": {
     "end_time": "2024-08-05T13:56:57.956219500Z",
     "start_time": "2024-08-05T13:56:57.862357700Z"
    }
   },
   "outputs": [],
   "source": [
    "ann = tf.keras.models.Sequential()"
   ]
  },
  {
   "cell_type": "code",
   "execution_count": 16,
   "metadata": {
    "colab": {},
    "colab_type": "code",
    "id": "ksO_Vv40AHix",
    "ExecuteTime": {
     "end_time": "2024-08-05T13:56:59.175422700Z",
     "start_time": "2024-08-05T13:56:59.077677400Z"
    }
   },
   "outputs": [],
   "source": [
    "ann.add(tf.keras.layers.Dense(units=250,\n",
    "                              input_shape=(X_train.shape[1],),\n",
    "                              activation='relu'))\n",
    "ann.add(tf.keras.layers.Dense(units=225,\n",
    "                              activation='relu'))\n",
    "ann.add(tf.keras.layers.Dense(units=200,\n",
    "                              activation='relu'))\n",
    "ann.add(tf.keras.layers.Dense(units=175,\n",
    "                              activation='relu'))"
   ]
  },
  {
   "cell_type": "code",
   "execution_count": 17,
   "metadata": {
    "colab": {},
    "colab_type": "code",
    "id": "YFATpzsUAkLL",
    "ExecuteTime": {
     "end_time": "2024-08-05T13:57:00.885490200Z",
     "start_time": "2024-08-05T13:57:00.796077500Z"
    }
   },
   "outputs": [],
   "source": [
    "ann.add(tf.keras.layers.Dense(units=1,\n",
    "                              activation='linear'))"
   ]
  },
  {
   "cell_type": "code",
   "execution_count": 18,
   "metadata": {
    "ExecuteTime": {
     "end_time": "2024-08-05T13:57:01.891608500Z",
     "start_time": "2024-08-05T13:57:01.771541600Z"
    }
   },
   "outputs": [
    {
     "name": "stdout",
     "output_type": "stream",
     "text": [
      "Model: \"sequential\"\n",
      "_________________________________________________________________\n",
      " Layer (type)                Output Shape              Param #   \n",
      "=================================================================\n",
      " dense (Dense)               (None, 250)               2000      \n",
      "                                                                 \n",
      " dense_1 (Dense)             (None, 225)               56475     \n",
      "                                                                 \n",
      " dense_2 (Dense)             (None, 200)               45200     \n",
      "                                                                 \n",
      " dense_3 (Dense)             (None, 175)               35175     \n",
      "                                                                 \n",
      " dense_4 (Dense)             (None, 1)                 176       \n",
      "                                                                 \n",
      "=================================================================\n",
      "Total params: 139,026\n",
      "Trainable params: 139,026\n",
      "Non-trainable params: 0\n",
      "_________________________________________________________________\n"
     ]
    }
   ],
   "source": [
    "ann.summary()"
   ]
  },
  {
   "cell_type": "markdown",
   "metadata": {
    "colab_type": "text",
    "id": "fq7e4fF6A1yy"
   },
   "source": [
    "## Part 4 - Training the ANN"
   ]
  },
  {
   "cell_type": "code",
   "execution_count": 19,
   "metadata": {
    "colab": {},
    "colab_type": "code",
    "id": "pesgbWlCAtB4",
    "ExecuteTime": {
     "end_time": "2024-08-05T13:57:04.112043200Z",
     "start_time": "2024-08-05T13:57:03.872333200Z"
    }
   },
   "outputs": [],
   "source": [
    "# from tensorflow.keras.optimizers import Adam\n",
    "from keras.optimizers import Adam\n",
    "opt = Adam(learning_rate=0.001)\n",
    "ann.compile(optimizer = opt,\n",
    "            loss = 'mean_squared_error',\n",
    "            metrics = ['mae'])"
   ]
  },
  {
   "cell_type": "code",
   "execution_count": 20,
   "metadata": {
    "ExecuteTime": {
     "end_time": "2024-08-05T13:57:05.282907100Z",
     "start_time": "2024-08-05T13:57:05.229357100Z"
    }
   },
   "outputs": [],
   "source": [
    "# protects from unnecessary further training of the model if a particular metric does not continue to improve over a number of n epochs. In such a case, the model training would be automatically aborted.\n",
    "from keras.callbacks import EarlyStopping\n",
    "es = EarlyStopping(monitor='val_loss',\n",
    "                   mode='min',\n",
    "                   patience=50,\n",
    "                   restore_best_weights = True)"
   ]
  },
  {
   "cell_type": "code",
   "execution_count": null,
   "metadata": {
    "colab": {
     "base_uri": "https://localhost:8080/",
     "height": 1000
    },
    "colab_type": "code",
    "id": "c_vV-tiiA5zn",
    "outputId": "4a2b6ee6-ed75-4698-9069-b250e613803f",
    "is_executing": true,
    "ExecuteTime": {
     "start_time": "2024-08-05T13:57:06.433028Z"
    }
   },
   "outputs": [
    {
     "name": "stdout",
     "output_type": "stream",
     "text": [
      "Epoch 1/500\n",
      "410/566 [====================>.........] - ETA: 0s - loss: 107458.4375 - mae: 115.6869"
     ]
    }
   ],
   "source": [
    "history = ann.fit(X_train, y_train,\n",
    "                    validation_data = (X_val, y_val),\n",
    "                    callbacks=[es],\n",
    "                    epochs=500,\n",
    "                    batch_size=30,\n",
    "                    verbose=1)"
   ]
  },
  {
   "cell_type": "code",
   "execution_count": null,
   "metadata": {},
   "outputs": [],
   "source": [
    "# let's see the training and validation accuracy by epoch\n",
    "history_dict = history.history\n",
    "loss_values = history_dict['loss'] # you can change this\n",
    "val_loss_values = history_dict['val_loss'] # you can also change this\n",
    "epochs = range(1, len(loss_values) + 1) # range of X (no. of epochs)\n",
    "plt.plot(epochs, loss_values, 'blue', label='Train set loss')\n",
    "plt.plot(epochs, val_loss_values, 'orange', label='Validation set loss')\n",
    "#plt.title('Training and testing loss')\n",
    "plt.xlabel('Epochs')\n",
    "plt.ylabel('Loss (MSE)')\n",
    "plt.legend()\n",
    "plt.savefig('Section1_ANN1_2.png', dpi=300, bbox_inches='tight')\n",
    "plt.show()"
   ]
  },
  {
   "cell_type": "code",
   "execution_count": null,
   "metadata": {},
   "outputs": [],
   "source": [
    "loss_values1 = history_dict['mae'] # you can change this\n",
    "val_loss_values1 = history_dict['val_mae'] # you can also change this\n",
    "epochs = range(1, len(loss_values1) + 1) # range of X (no. of epochs)\n",
    "plt.plot(epochs, loss_values1, 'blue', label='Train set MAE')\n",
    "plt.plot(epochs, val_loss_values1, 'orange', label='Validation set MAE')\n",
    "#plt.title('Training and testing MAE')\n",
    "plt.xlabel('Epochs')\n",
    "plt.ylabel('MAE')\n",
    "plt.legend()\n",
    "plt.savefig('Section1_ANN1_3.png', dpi=300, bbox_inches='tight')\n",
    "plt.show()"
   ]
  },
  {
   "cell_type": "code",
   "execution_count": null,
   "metadata": {},
   "outputs": [],
   "source": [
    "ann.save('Section1_new_ANN_1')\n",
    "import pickle\n",
    "pickle.dump(sc, open('Section1_new_scaler_ANN_1.pkl', 'wb'))"
   ]
  },
  {
   "cell_type": "markdown",
   "metadata": {},
   "source": [
    "## Part 5 - Make predictions"
   ]
  },
  {
   "cell_type": "code",
   "execution_count": null,
   "metadata": {},
   "outputs": [],
   "source": [
    "# scatterplot of actual vs. pred\n",
    "# specify the dimensions \n",
    "fig, axes = plt.subplots(1,2) # 1 row, 2 columns\n",
    "\n",
    "# this makes the individual subplots\n",
    "# Training Results\n",
    "axes[0].scatter(x=y_train, y=ann.predict(X_train)) #first row, first entry (left top)\n",
    "axes[0].set_xlabel(\"Actual\", fontsize=10)\n",
    "axes[0].set_ylabel(\"Predicted\",  fontsize=10)\n",
    "axes[0].set_title(\"Training\")\n",
    "# add 45 deg line\n",
    "x = np.linspace(*axes[0].get_xlim())\n",
    "axes[0].plot(x, x, color='red')\n",
    "# Validation Results\n",
    "axes[1].scatter(x=y_val, y=ann.predict(X_val)) # first row, second entry (right top)\n",
    "axes[1].set_xlabel(\"Actual\", fontsize=10)\n",
    "axes[1].set_ylabel(\"Predicted\",  fontsize=10)\n",
    "axes[1].set_title(\"Validation\")\n",
    "# add 45 deg line\n",
    "x = np.linspace(*axes[1].get_xlim())\n",
    "axes[1].plot(x, x, color='red')\n",
    "\n",
    "# tight layout\n",
    "fig.tight_layout()\n",
    "\n",
    "plt.savefig('Section1_ANN1_1.png', dpi=300, bbox_inches='tight')\n",
    "# show the plot\n",
    "plt.show()"
   ]
  },
  {
   "cell_type": "code",
   "execution_count": null,
   "metadata": {
    "colab": {
     "base_uri": "https://localhost:8080/",
     "height": 134
    },
    "colab_type": "code",
    "id": "IA0yApEmBG1X",
    "outputId": "cb981e1f-9204-4a2a-fece-9d66a6919189"
   },
   "outputs": [],
   "source": [
    "y_pred = ann.predict(X_test)\n",
    "np.set_printoptions(precision=2)\n",
    "print(np.concatenate((y_pred.reshape(len(y_pred),1), y_test.reshape(len(y_test),1)),1))"
   ]
  },
  {
   "cell_type": "code",
   "execution_count": null,
   "metadata": {},
   "outputs": [],
   "source": [
    "import matplotlib.pyplot as plt\n",
    "plt.scatter(y_test, y_pred, color=\"blue\")\n",
    "#plt.plot ([0,1200000],[0,1200000], color = \"red\")\n",
    "#plt.axis ([0,1200000,0,1200000])\n",
    "plt.xlabel ('Actual data')\n",
    "plt.ylabel ('Predicted data')"
   ]
  },
  {
   "cell_type": "code",
   "execution_count": null,
   "metadata": {},
   "outputs": [],
   "source": [
    "from sklearn.metrics import r2_score\n",
    "# Initialize layout\n",
    "fig1, ax1 = plt.subplots(figsize = (9, 9))\n",
    "b_l = -15\n",
    "u_l = 500\n",
    "\n",
    "# Add scatterplot\n",
    "ax1.scatter(y_test, y_pred, s=70, alpha=1, edgecolors=\"k\",c='mediumblue',zorder=5, label = 'Points')\n",
    "\n",
    "\n",
    "plt.ylabel('Predicted Reflected Overpressure (kPa)',fontsize = 25)\n",
    "plt.xlabel('Target Reflected Overpressure (kPa)',fontsize = 25)\n",
    "plt.xticks(fontsize = 19)\n",
    "plt.yticks(fontsize = 19)\n",
    "\n",
    "\n",
    "x1 = np.linspace(b_l, u_l)\n",
    "\n",
    "plt.plot(x1, x1, 'Red', label='45\\N{DEGREE SIGN} line',lw=2.5,alpha=1)\n",
    "plt.plot(x1, 1.05*x1, '--m', label='\\u00B15% Error',lw=2.5,alpha=0.7)\n",
    "plt.plot(x1, 0.95*x1,'m', linestyle='--',lw=2.5,alpha=0.7)\n",
    "plt.plot(x1, 1.1*x1, '-.g', label='\\u00B110% Error',lw=2.5,alpha=0.7)\n",
    "plt.plot(x1, 0.9*x1,'-.g',lw=2.5,alpha=0.7)\n",
    "plt.plot(x1, 1.2*x1, color = '#F97306', linestyle='dotted', label='\\u00B120% Error',lw=2.5,alpha=0.7)\n",
    "plt.plot(x1, 0.8*x1,color = '#F97306', linestyle='dotted', lw=2.5,alpha=0.7)\n",
    "\n",
    "plt.ylim(b_l, u_l)\n",
    "plt.xlim(b_l, u_l)\n",
    "plt.legend(loc='upper left',fontsize = 21)\n",
    "\n",
    "plt.grid()\n",
    "\n",
    "ax1.spines['left'].set_color('black')        # setting up Y-axis tick color to red\n",
    "ax1.spines['bottom'].set_color('black')         #setting up above X-axis tick color to red\n",
    "\n",
    "plt.savefig('Section1_ANN1.png', dpi=300, bbox_inches='tight')"
   ]
  },
  {
   "cell_type": "code",
   "execution_count": null,
   "metadata": {},
   "outputs": [],
   "source": [
    "# metrics\n",
    "trainpreds = ann.predict(X_train)\n",
    "\n",
    "from sklearn.metrics import mean_absolute_error\n",
    "print(mean_absolute_error(y_train, trainpreds)) # train\n",
    "print(mean_absolute_error(y_test, y_pred)) # test"
   ]
  },
  {
   "cell_type": "code",
   "execution_count": null,
   "metadata": {},
   "outputs": [],
   "source": [
    "from sklearn.metrics import r2_score\n",
    "r2 = r2_score(y_test, y_pred)\n",
    "print (r2)"
   ]
  },
  {
   "cell_type": "code",
   "execution_count": null,
   "metadata": {},
   "outputs": [],
   "source": [
    "r2_train = r2_score(y_train, trainpreds)\n",
    "print (r2_train)"
   ]
  },
  {
   "cell_type": "code",
   "execution_count": null,
   "metadata": {},
   "outputs": [],
   "source": [
    "count0 = 0\n",
    "for i in range(len(y_pred)):\n",
    "    line1 = y_pred[i] - 0.95*y_test[i]\n",
    "    line2 = y_pred[i] - 1.05*y_test[i]\n",
    "    mask0 = (line1 > 0) & (line2 < 0)\n",
    "    count0 = np.sum(mask0+count0)\n",
    "\n",
    "count1 = 0\n",
    "for i in range(len(y_pred)):\n",
    "    line1 = y_pred[i] - 0.9*y_test[i]\n",
    "    line2 = y_pred[i] - 1.1*y_test[i]\n",
    "    mask1 = (line1 > 0) & (line2 < 0)\n",
    "    count1 = np.sum(mask1+count1)\n",
    "\n",
    "count2 = 0\n",
    "for j in range(len(y_pred)):\n",
    "    line3 = y_pred[j] - 0.8*y_test[j]\n",
    "    line4 = y_pred[j] - 1.2*y_test[j]\n",
    "    mask2 = (line3 > 0) & (line4 < 0)\n",
    "    count2 = np.sum(mask2+count2)\n",
    "\n",
    "\n",
    "count3 = 0    \n",
    "for k in range(len(y_pred)):\n",
    "    line5 = y_pred[k] - 0.8*y_test[k]\n",
    "    line6 = y_pred[k] - 1.2*y_test[k]\n",
    "    mask3 = (line5 < 0) or (line6 > 0)\n",
    "    count3 = np.sum(mask3+count3)\n",
    "   \n",
    "\n",
    "print ('Within 5% margin', format((count0/len (y_pred)),'.2%'))\n",
    "print ('Within 10% margin', format((count1/len (y_pred)),'.2%'))\n",
    "print ('Within 20% margin', format((count2/len (y_pred)),'.2%'))\n",
    "print ('Out of 20% margin', format((count3/len (y_pred)),'.2%'))"
   ]
  },
  {
   "cell_type": "code",
   "execution_count": null,
   "metadata": {},
   "outputs": [],
   "source": [
    "adj_r2 = 1 - ((1 - r2) * (len(X_test) - 1) / (len(X_test) - len (X_test[0]) - 1))\n",
    "print (adj_r2)"
   ]
  },
  {
   "cell_type": "code",
   "execution_count": null,
   "metadata": {},
   "outputs": [],
   "source": [
    "import math\n",
    "from sklearn.metrics import mean_squared_error\n",
    "\n",
    "math.sqrt(mean_squared_error(y_test, y_pred))"
   ]
  },
  {
   "cell_type": "code",
   "execution_count": null,
   "metadata": {},
   "outputs": [],
   "source": [
    "from sklearn.metrics import mean_absolute_error\n",
    "\n",
    "mean_absolute_error(y_test, y_pred)"
   ]
  }
 ],
 "metadata": {
  "colab": {
   "collapsed_sections": [],
   "name": "Artificial Neural Network",
   "provenance": [],
   "toc_visible": true
  },
  "kernelspec": {
   "display_name": "Python 3 (ipykernel)",
   "language": "python",
   "name": "python3"
  },
  "language_info": {
   "codemirror_mode": {
    "name": "ipython",
    "version": 3
   },
   "file_extension": ".py",
   "mimetype": "text/x-python",
   "name": "python",
   "nbconvert_exporter": "python",
   "pygments_lexer": "ipython3",
   "version": "3.9.7"
  }
 },
 "nbformat": 4,
 "nbformat_minor": 4
}
