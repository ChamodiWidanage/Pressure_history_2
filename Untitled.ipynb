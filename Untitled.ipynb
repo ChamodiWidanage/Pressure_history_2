{
 "cells": [
  {
   "cell_type": "code",
   "execution_count": 1,
   "id": "7b0a878a-1117-4580-9cdf-0657137da5e9",
   "metadata": {},
   "outputs": [],
   "source": [
    "from pathlib import Path\n",
    "import pandas as pd\n",
    "import xlwings as xw"
   ]
  },
  {
   "cell_type": "code",
   "execution_count": 7,
   "id": "d300ad3e-4c8d-488e-b09d-0381da6d501e",
   "metadata": {},
   "outputs": [],
   "source": [
    "with xw.App (visible = False) as app:\n",
    "    wb = app.books.open(\"Template.xlsx\")\n",
    "    df = pd.read_csv(\"T1\", delimiter=\"\\s+\", skiprows = 8, header = None, names = [\"time\", \"pressure\"])\n",
    "    wb.sheets[0].range(\"A1\").options(index=False).value = df\n",
    "    wb.save(\"T1.xlsx\") "
   ]
  },
  {
   "cell_type": "code",
   "execution_count": 5,
   "id": "95aa0408-a3b5-4fed-8721-19aa2fd51f33",
   "metadata": {},
   "outputs": [
    {
     "ename": "SyntaxError",
     "evalue": "cannot assign to operator (3048274784.py, line 1)",
     "output_type": "error",
     "traceback": [
      "\u001B[1;36m  File \u001B[1;32m\"C:\\Users\\Chathura Gamage\\AppData\\Local\\Temp\\ipykernel_11640\\3048274784.py\"\u001B[1;36m, line \u001B[1;32m1\u001B[0m\n\u001B[1;33m    a and b = 0\u001B[0m\n\u001B[1;37m    ^\u001B[0m\n\u001B[1;31mSyntaxError\u001B[0m\u001B[1;31m:\u001B[0m cannot assign to operator\n"
     ]
    }
   ],
   "source": [
    "a and b = 0"
   ]
  },
  {
   "cell_type": "code",
   "execution_count": 3,
   "id": "11d2fb35-de13-4935-9728-bed79bbe644e",
   "metadata": {},
   "outputs": [],
   "source": [
    "from openpyxl import Workbook  \n",
    "wb = Workbook()  \n",
    "sheet = wb.active    \n",
    "rows = (  \n",
    "     (45, 78, 48, 65),  \n",
    "     (81, 30, 52, 86),  \n",
    "     (23, 95, 87, 27),  \n",
    "     (25, 32, 89, 13),  \n",
    "     (52, 81, 20, 44),  \n",
    "     (34, 51, 86, 12))  \n",
    "for row in rows:  \n",
    "    sheet.append(row) \n",
    "wb.save('itercols.xlsx')"
   ]
  },
  {
   "cell_type": "code",
   "execution_count": 10,
   "id": "e5318d36-6811-41e8-ae7a-d2c2e6970106",
   "metadata": {},
   "outputs": [
    {
     "name": "stdout",
     "output_type": "stream",
     "text": [
      "45 s\n",
      "81 s\n",
      "23 s\n",
      "25 s\n",
      "52 s\n",
      "34 s\n",
      "\n",
      "78 s\n",
      "30 s\n",
      "95 s\n",
      "32 s\n",
      "81 s\n",
      "51 s\n",
      "\n",
      "48 s\n",
      "52 s\n",
      "87 s\n",
      "89 s\n",
      "20 s\n",
      "86 s\n",
      "\n",
      "65 s\n",
      "86 s\n",
      "27 s\n",
      "13 s\n",
      "44 s\n",
      "12 s\n"
     ]
    }
   ],
   "source": [
    "for row in sheet.iter_cols(min_row=1, min_col=1, max_row=6, max_col=4):  \n",
    "    for cell in row:  \n",
    "        print(cell.value,\"s\", end=\"\\n\")  \n",
    "    print()"
   ]
  },
  {
   "cell_type": "code",
   "execution_count": 2,
   "id": "76b76fa9-36f1-4754-ae69-d6b9c594a989",
   "metadata": {},
   "outputs": [
    {
     "name": "stdout",
     "output_type": "stream",
     "text": [
      "   ColumnA ColumnB\n",
      "0        1       A\n",
      "1        2       B\n",
      "2        3       C\n",
      "3        4       D\n",
      "   NewColumn1 NewColumn2  ColumnA ColumnB\n",
      "0          10          X        1       A\n",
      "1          20          Y        2       B\n",
      "2          30          Z        3       C\n",
      "3          40          W        4       D\n"
     ]
    }
   ],
   "source": [
    "import pandas as pd\n",
    "\n",
    "# Sample existing DataFrame\n",
    "data = {\n",
    "    'ColumnA': [1, 2, 3, 4],\n",
    "    'ColumnB': ['A', 'B', 'C', 'D']\n",
    "}\n",
    "\n",
    "existing_df = pd.DataFrame(data)\n",
    "\n",
    "print (existing_df)\n",
    "\n",
    "# New columns to add\n",
    "new_column1 = [10, 20, 30, 40]\n",
    "new_column2 = ['X', 'Y', 'Z', 'W']\n",
    "\n",
    "# Insert the new columns at the front (index 0)\n",
    "existing_df.insert(0, 'NewColumn1', new_column1)\n",
    "existing_df.insert(1, 'NewColumn2', new_column2)\n",
    "\n",
    "# Display the updated DataFrame\n",
    "print(existing_df)"
   ]
  },
  {
   "cell_type": "markdown",
   "id": "7f15c7df-796d-48fd-a690-480e68d50415",
   "metadata": {},
   "source": [
    "## Import libraries"
   ]
  },
  {
   "cell_type": "code",
   "execution_count": 1,
   "id": "464cfbee-9934-47cf-a145-06a912b96198",
   "metadata": {},
   "outputs": [],
   "source": [
    "import numpy as np\n",
    "import matplotlib.pyplot as plt\n",
    "import pandas as pd\n",
    "from pathlib import Path"
   ]
  },
  {
   "cell_type": "markdown",
   "id": "ff54d2f1-8974-4c73-94b4-82d46370493e",
   "metadata": {},
   "source": [
    "## Access train files"
   ]
  },
  {
   "cell_type": "code",
   "execution_count": 2,
   "id": "47ae83c7-d36f-4796-9093-038ea27dcc42",
   "metadata": {},
   "outputs": [],
   "source": [
    "current_dir = Path.cwd()"
   ]
  },
  {
   "cell_type": "code",
   "execution_count": 3,
   "id": "32fc4442-15af-4767-9735-1a81b5e8d22a",
   "metadata": {},
   "outputs": [
    {
     "name": "stdout",
     "output_type": "stream",
     "text": [
      "input E:\\PhD\\Machine Learning\\Pressure_history\\Pressure_profiles_reduced\n",
      "2 [WindowsPath('E:/PhD/Machine Learning/Pressure_history/Pressure_profiles_reduced/.ipynb_checkpoints'), WindowsPath('E:/PhD/Machine Learning/Pressure_history/Pressure_profiles_reduced/L13_1'), WindowsPath('E:/PhD/Machine Learning/Pressure_history/Pressure_profiles_reduced/L13_13'), WindowsPath('E:/PhD/Machine Learning/Pressure_history/Pressure_profiles_reduced/L13_17'), WindowsPath('E:/PhD/Machine Learning/Pressure_history/Pressure_profiles_reduced/L13_21'), WindowsPath('E:/PhD/Machine Learning/Pressure_history/Pressure_profiles_reduced/L13_25'), WindowsPath('E:/PhD/Machine Learning/Pressure_history/Pressure_profiles_reduced/L13_29'), WindowsPath('E:/PhD/Machine Learning/Pressure_history/Pressure_profiles_reduced/L13_33'), WindowsPath('E:/PhD/Machine Learning/Pressure_history/Pressure_profiles_reduced/L13_5'), WindowsPath('E:/PhD/Machine Learning/Pressure_history/Pressure_profiles_reduced/L13_9')]\n"
     ]
    }
   ],
   "source": [
    "#Access input folder\n",
    "input_dir1_train = Path (current_dir/\"Pressure_profiles_reduced\")\n",
    "print (\"input\",input_dir1_train)\n",
    "\n",
    "#Access folders inside input folder\n",
    "input_dir2_train =  [folder for folder in input_dir1_train.iterdir() if folder.is_dir()]\n",
    "print (\"2\",input_dir2_train)"
   ]
  },
  {
   "cell_type": "code",
   "execution_count": 4,
   "id": "2b210028-a729-4222-bce3-2c0f773845f0",
   "metadata": {},
   "outputs": [],
   "source": [
    "# Access each folder inside input folder\n",
    "dataset_train = pd.DataFrame(columns = ['Charge_mass', 'Standoff_distance', 'Time', 'Pressure'])\n",
    "df_list_train = []\n",
    "for folder_train in input_dir2_train:\n",
    "    \n",
    "    # Make a list of data file names\n",
    "    files_train = list(folder_train.rglob(\"*.xlsx\"))\n",
    "    \n",
    "    for file_train in files_train:\n",
    "        df_list_train.append(pd.read_excel(file_train))\n",
    "\n",
    "dataset_train = pd.concat(df_list_train, ignore_index = True)"
   ]
  },
  {
   "cell_type": "code",
   "execution_count": 5,
   "id": "8dbb85c5-70ec-42c0-972e-9581186fc063",
   "metadata": {
    "colab": {},
    "colab_type": "code",
    "id": "B9CV13Co_HHM"
   },
   "outputs": [
    {
     "name": "stdout",
     "output_type": "stream",
     "text": [
      "<class 'pandas.core.frame.DataFrame'>\n",
      "RangeIndex: 424594 entries, 0 to 424593\n",
      "Data columns (total 4 columns):\n",
      " #   Column             Non-Null Count   Dtype  \n",
      "---  ------             --------------   -----  \n",
      " 0   Charge_mass        424594 non-null  float64\n",
      " 1   Standoff_distance  424594 non-null  int64  \n",
      " 2   Time               424594 non-null  float64\n",
      " 3   Pressure           424594 non-null  float64\n",
      "dtypes: float64(3), int64(1)\n",
      "memory usage: 13.0 MB\n"
     ]
    }
   ],
   "source": [
    "dataset_train.info()"
   ]
  },
  {
   "cell_type": "code",
   "execution_count": 7,
   "id": "a96dedec-f883-440a-99e2-a63d5ad79abe",
   "metadata": {},
   "outputs": [
    {
     "name": "stdout",
     "output_type": "stream",
     "text": [
      "(424594, 3) (424594,)\n"
     ]
    }
   ],
   "source": [
    "y_train = dataset_train['Pressure']\n",
    "X_train = dataset_train.drop(['Pressure'], axis=1)\n",
    "print(X_train.shape, y_train.shape)"
   ]
  },
  {
   "cell_type": "markdown",
   "id": "6d9fb855-83ef-4cd0-86b3-e27805b1520b",
   "metadata": {},
   "source": [
    "## Access test files"
   ]
  },
  {
   "cell_type": "code",
   "execution_count": 8,
   "id": "7b1c7227-e2e7-43b2-9a81-a204fbbc9d37",
   "metadata": {},
   "outputs": [
    {
     "name": "stdout",
     "output_type": "stream",
     "text": [
      "input E:\\PhD\\Machine Learning\\Pressure_history\\Pressure_profiles_reduced_test\n",
      "2 [WindowsPath('E:/PhD/Machine Learning/Pressure_history/Pressure_profiles_reduced_test/.ipynb_checkpoints'), WindowsPath('E:/PhD/Machine Learning/Pressure_history/Pressure_profiles_reduced_test/L13_11'), WindowsPath('E:/PhD/Machine Learning/Pressure_history/Pressure_profiles_reduced_test/L13_15'), WindowsPath('E:/PhD/Machine Learning/Pressure_history/Pressure_profiles_reduced_test/L13_19'), WindowsPath('E:/PhD/Machine Learning/Pressure_history/Pressure_profiles_reduced_test/L13_23'), WindowsPath('E:/PhD/Machine Learning/Pressure_history/Pressure_profiles_reduced_test/L13_27'), WindowsPath('E:/PhD/Machine Learning/Pressure_history/Pressure_profiles_reduced_test/L13_3'), WindowsPath('E:/PhD/Machine Learning/Pressure_history/Pressure_profiles_reduced_test/L13_31'), WindowsPath('E:/PhD/Machine Learning/Pressure_history/Pressure_profiles_reduced_test/L13_7')]\n"
     ]
    }
   ],
   "source": [
    "#Access input folder\n",
    "input_dir1_test = Path (current_dir/\"Pressure_profiles_reduced_test\")\n",
    "print (\"input\",input_dir1_test)\n",
    "\n",
    "#Access folders inside input folder\n",
    "input_dir2_test =  [folder for folder in input_dir1_test.iterdir() if folder.is_dir()]\n",
    "print (\"2\",input_dir2_test)"
   ]
  },
  {
   "cell_type": "code",
   "execution_count": 9,
   "id": "32f95bba-d1a4-4b00-922a-d6de422b37ae",
   "metadata": {},
   "outputs": [],
   "source": [
    "# Access each folder inside input folder\n",
    "dataset_test = pd.DataFrame(columns = ['Charge_mass', 'Standoff_distance', 'Time', 'Pressure'])\n",
    "df_list_test = []\n",
    "for folder_test in input_dir2_test:\n",
    "    \n",
    "    # Make a list of data file names\n",
    "    files_test = list(folder_test.rglob(\"*.xlsx\"))\n",
    "    \n",
    "    for file_test in files_test:\n",
    "        df_list_test.append(pd.read_excel(file_test))\n",
    "\n",
    "dataset_test = pd.concat(df_list_test, ignore_index = True)"
   ]
  },
  {
   "cell_type": "code",
   "execution_count": 10,
   "id": "9b2601aa-2d76-4383-acc8-19e5d29c0957",
   "metadata": {
    "colab": {},
    "colab_type": "code",
    "id": "B9CV13Co_HHM"
   },
   "outputs": [
    {
     "name": "stdout",
     "output_type": "stream",
     "text": [
      "<class 'pandas.core.frame.DataFrame'>\n",
      "RangeIndex: 385798 entries, 0 to 385797\n",
      "Data columns (total 4 columns):\n",
      " #   Column             Non-Null Count   Dtype  \n",
      "---  ------             --------------   -----  \n",
      " 0   Charge_mass        385798 non-null  float64\n",
      " 1   Standoff_distance  385798 non-null  int64  \n",
      " 2   Time               385798 non-null  float64\n",
      " 3   Pressure           385798 non-null  float64\n",
      "dtypes: float64(3), int64(1)\n",
      "memory usage: 11.8 MB\n"
     ]
    }
   ],
   "source": [
    "dataset_test.info()"
   ]
  },
  {
   "cell_type": "code",
   "execution_count": 11,
   "id": "f8c5e94f-3e24-4435-ba79-1ca03a0cbd8d",
   "metadata": {},
   "outputs": [
    {
     "name": "stdout",
     "output_type": "stream",
     "text": [
      "(385798, 3) (385798,)\n"
     ]
    }
   ],
   "source": [
    "y_test = dataset_test['Pressure']\n",
    "X_test = dataset_test.drop(['Pressure'], axis=1)\n",
    "print(X_test.shape, y_test.shape)"
   ]
  },
  {
   "cell_type": "code",
   "execution_count": 12,
   "id": "8cb1466b-a7e2-4cb8-877b-51b0c55cc2fa",
   "metadata": {},
   "outputs": [
    {
     "name": "stdout",
     "output_type": "stream",
     "text": [
      "        Charge_mass  Standoff_distance     Time\n",
      "0               5.5                  1  0.00034\n",
      "1               5.5                  1  0.00035\n",
      "2               5.5                  1  0.00036\n",
      "3               5.5                  1  0.00037\n",
      "4               5.5                  1  0.00038\n",
      "...             ...                ...      ...\n",
      "385793          3.5                  5  0.02948\n",
      "385794          3.5                  5  0.02949\n",
      "385795          3.5                  5  0.02950\n",
      "385796          3.5                  5  0.02951\n",
      "385797          3.5                  5  0.02952\n",
      "\n",
      "[385798 rows x 3 columns]\n"
     ]
    }
   ],
   "source": [
    "print (X_test)"
   ]
  },
  {
   "cell_type": "code",
   "execution_count": 2,
   "outputs": [],
   "source": [
    "#from pathlib import Path\n",
    "import openpyxl\n",
    "excel_file = openpyxl.load_workbook(\"Pressure_curves_excel_with_MinTime\\L13_3\\P5.xlsx\")\n",
    "excel_sheet = excel_file.active"
   ],
   "metadata": {
    "collapsed": false,
    "ExecuteTime": {
     "end_time": "2023-08-29T00:21:25.842225500Z",
     "start_time": "2023-08-29T00:21:24.636672200Z"
    }
   },
   "id": "29239e1929d38ba6"
  },
  {
   "cell_type": "code",
   "execution_count": 8,
   "outputs": [
    {
     "name": "stdout",
     "output_type": "stream",
     "text": [
      "            0         1         2\n",
      "0     0.00385  101388.0  positive\n",
      "1     0.00386  183005.0  positive\n",
      "2     0.00387  191345.0  positive\n",
      "3     0.00388  190259.0  positive\n",
      "4     0.00389  189249.0  positive\n",
      "...       ...       ...       ...\n",
      "1614  0.01999  101189.0  negative\n",
      "1615  0.02000  101192.0  negative\n",
      "1616  0.02001  101195.0  negative\n",
      "1617  0.02002  101197.0  negative\n",
      "1618  0.02003  101200.0  negative\n",
      "\n",
      "[1619 rows x 3 columns]\n"
     ]
    }
   ],
   "source": [
    "import pandas as pd\n",
    "p_time_history = []\n",
    "    \n",
    "for row in excel_sheet.iter_rows(min_row=387,\n",
    "                                 max_row=2005,\n",
    "                                 min_col=1,\n",
    "                                 max_col=2,\n",
    "                                 values_only=True):\n",
    "    if row[0] < 0.005869999:\n",
    "        positive = \"positive\" # Replace with the value you want to add to the new column\n",
    "        p_row = row + (positive,)\n",
    "        p_time_history.append (p_row)\n",
    "    else:\n",
    "        negative = \"negative\"\n",
    "        n_row = row + (negative,)\n",
    "        p_time_history.append (n_row)\n",
    "\n",
    "df = pd.DataFrame(p_time_history)\n",
    "print (df)"
   ],
   "metadata": {
    "collapsed": false,
    "ExecuteTime": {
     "end_time": "2023-08-29T01:03:44.370730Z",
     "start_time": "2023-08-29T01:03:44.346413100Z"
    }
   },
   "id": "b3ab24b5b012dfb"
  },
  {
   "cell_type": "code",
   "execution_count": 1,
   "outputs": [
    {
     "data": {
      "text/plain": "<Figure size 640x480 with 4 Axes>",
      "image/png": "[encoded data removed]"
     },
     "metadata": {},
     "output_type": "display_data"
    }
   ],
   "source": [
    "import numpy as np\n",
    "from scipy.interpolate import griddata\n",
    "import matplotlib.pyplot as plt\n",
    "\n",
    "x = np.linspace(-1,1,100)\n",
    "y =  np.linspace(-1,1,100)\n",
    "X, Y = np.meshgrid(x,y)\n",
    "\n",
    "def f(x, y):\n",
    "    s = np.hypot(x, y)\n",
    "    phi = np.arctan2(y, x)\n",
    "    tau = s + s*(1-s)/5 * np.sin(6*phi) \n",
    "    return 5*(1-tau) + tau\n",
    "\n",
    "T = f(X, Y)\n",
    "# Choose npts random point from the discrete domain of our model function\n",
    "npts = 400\n",
    "px, py = np.random.choice(x, npts), np.random.choice(y, npts)\n",
    "\n",
    "fig, ax = plt.subplots(nrows=2, ncols=2)\n",
    "# Plot the model function and the randomly selected sample points\n",
    "ax[0,0].contourf(X, Y, T)\n",
    "ax[0,0].scatter(px, py, c='k', alpha=0.2, marker='.')\n",
    "ax[0,0].set_title('Sample points on f(X,Y)')\n",
    "\n",
    "# Interpolate using three different methods and plot\n",
    "for i, method in enumerate(('nearest', 'linear', 'cubic')):\n",
    "    Ti = griddata((px, py), f(px,py), (X, Y), method=method)\n",
    "    r, c = (i+1) // 2, (i+1) % 2\n",
    "    ax[r,c].contourf(X, Y, Ti)\n",
    "    ax[r,c].set_title(\"method = '{}'\".format(method))\n",
    "\n",
    "plt.tight_layout()\n",
    "plt.show()"
   ],
   "metadata": {
    "collapsed": false,
    "ExecuteTime": {
     "end_time": "2023-09-22T06:29:18.808943700Z",
     "start_time": "2023-09-22T06:29:17.228106600Z"
    }
   },
   "id": "383ddc8503cf7631"
  },
  {
   "cell_type": "code",
   "execution_count": 4,
   "outputs": [
    {
     "name": "stdout",
     "output_type": "stream",
     "text": [
      "(1000, 2)\n"
     ]
    }
   ],
   "source": [
    "import numpy as np\n",
    "rng = np.random.default_rng()\n",
    "points = rng.random((1000, 2))\n",
    "print (points.shape)"
   ],
   "metadata": {
    "collapsed": false,
    "ExecuteTime": {
     "end_time": "2023-09-25T00:45:12.269553100Z",
     "start_time": "2023-09-25T00:45:12.122422900Z"
    }
   },
   "id": "5f1320465fdb07d3"
  }
 ],
 "metadata": {
  "kernelspec": {
   "display_name": "Python 3 (ipykernel)",
   "language": "python",
   "name": "python3"
  },
  "language_info": {
   "codemirror_mode": {
    "name": "ipython",
    "version": 3
   },
   "file_extension": ".py",
   "mimetype": "text/x-python",
   "name": "python",
   "nbconvert_exporter": "python",
   "pygments_lexer": "ipython3",
   "version": "3.9.7"
  }
 },
 "nbformat": 4,
 "nbformat_minor": 5
}
