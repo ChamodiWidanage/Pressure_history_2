{
 "cells": [
  {
   "cell_type": "markdown",
   "metadata": {
    "colab_type": "text",
    "id": "3cbb7fRy-eyr"
   },
   "source": [
    "# Artificial Neural Network"
   ]
  },
  {
   "cell_type": "markdown",
   "metadata": {
    "colab_type": "text",
    "id": "8sNDnxE2-pwE"
   },
   "source": [
    "## Part 1 - Importing the libraries"
   ]
  },
  {
   "cell_type": "code",
   "execution_count": 1,
   "metadata": {
    "colab": {},
    "colab_type": "code",
    "id": "lxChR1Rk-umf",
    "ExecuteTime": {
     "end_time": "2024-12-06T05:38:42.816178600Z",
     "start_time": "2024-12-06T05:38:35.463275800Z"
    }
   },
   "outputs": [],
   "source": [
    "import numpy as np\n",
    "import pandas as pd\n",
    "import tensorflow as tf\n",
    "import matplotlib.pyplot as plt\n",
    "from keras.models import load_model\n",
    "from pathlib import Path\n",
    "import pickle"
   ]
  },
  {
   "cell_type": "markdown",
   "metadata": {
    "colab_type": "text",
    "id": "AG3FQEch-yuA"
   },
   "source": [
    "## Part 2 - Data Preprocessing"
   ]
  },
  {
   "cell_type": "code",
   "execution_count": 2,
   "metadata": {
    "ExecuteTime": {
     "end_time": "2024-12-06T05:38:45.220589700Z",
     "start_time": "2024-12-06T05:38:45.126633500Z"
    }
   },
   "outputs": [
    {
     "name": "stdout",
     "output_type": "stream",
     "text": [
      "input G:\\Chamodi\\LSDYNA3D\\RP_TH_models\\RP_Section_6_new\n",
      "2 [WindowsPath('G:/Chamodi/LSDYNA3D/RP_TH_models/RP_Section_6_new/RP_curves_fr25m'), WindowsPath('G:/Chamodi/LSDYNA3D/RP_TH_models/RP_Section_6_new/RP_curves_fr27m'), WindowsPath('G:/Chamodi/LSDYNA3D/RP_TH_models/RP_Section_6_new/RP_curves_fr29m'), WindowsPath('G:/Chamodi/LSDYNA3D/RP_TH_models/RP_Section_6_new/RP_curves_fr30m')]\n"
     ]
    }
   ],
   "source": [
    "#Access input folder\n",
    "current_dir = Path.cwd()\n",
    "input_dir1 = Path (\"G:/Chamodi/LSDYNA3D/RP_TH_models/RP_Section_6_new\")\n",
    "print (\"input\",input_dir1)\n",
    "\n",
    "#Access folders inside input folder\n",
    "input_dir2=  [folder1 for folder1 in input_dir1.iterdir() if folder1.is_dir()] # folder1 - RP_curves_fr7m\n",
    "print (\"2\",input_dir2)"
   ]
  },
  {
   "cell_type": "code",
   "execution_count": 3,
   "metadata": {
    "ExecuteTime": {
     "end_time": "2024-12-06T05:39:04.161662600Z",
     "start_time": "2024-12-06T05:38:46.791192300Z"
    }
   },
   "outputs": [
    {
     "name": "stdout",
     "output_type": "stream",
     "text": [
      "folder G:\\Chamodi\\LSDYNA3D\\RP_TH_models\\RP_Section_6_new\\RP_curves_fr25m\\25m00.5kg\n",
      "1.xlsx\n",
      "2.xlsx\n",
      "3.xlsx\n",
      "4.xlsx\n",
      "folder G:\\Chamodi\\LSDYNA3D\\RP_TH_models\\RP_Section_6_new\\RP_curves_fr25m\\25m02.5kg\n",
      "1.xlsx\n",
      "2.xlsx\n",
      "3.xlsx\n",
      "4.xlsx\n",
      "folder G:\\Chamodi\\LSDYNA3D\\RP_TH_models\\RP_Section_6_new\\RP_curves_fr25m\\25m04.5kg\n",
      "1.xlsx\n",
      "2.xlsx\n",
      "3.xlsx\n",
      "4.xlsx\n",
      "folder G:\\Chamodi\\LSDYNA3D\\RP_TH_models\\RP_Section_6_new\\RP_curves_fr25m\\25m06.5kg\n",
      "1.xlsx\n",
      "2.xlsx\n",
      "3.xlsx\n",
      "4.xlsx\n",
      "folder G:\\Chamodi\\LSDYNA3D\\RP_TH_models\\RP_Section_6_new\\RP_curves_fr25m\\25m08.5kg\n",
      "1.xlsx\n",
      "2.xlsx\n",
      "3.xlsx\n",
      "4.xlsx\n",
      "folder G:\\Chamodi\\LSDYNA3D\\RP_TH_models\\RP_Section_6_new\\RP_curves_fr25m\\25m10.5kg\n",
      "1.xlsx\n",
      "2.xlsx\n",
      "3.xlsx\n",
      "4.xlsx\n",
      "folder G:\\Chamodi\\LSDYNA3D\\RP_TH_models\\RP_Section_6_new\\RP_curves_fr25m\\25m12.5kg\n",
      "1.xlsx\n",
      "2.xlsx\n",
      "3.xlsx\n",
      "4.xlsx\n",
      "folder G:\\Chamodi\\LSDYNA3D\\RP_TH_models\\RP_Section_6_new\\RP_curves_fr25m\\25m14.5kg\n",
      "1.xlsx\n",
      "2.xlsx\n",
      "3.xlsx\n",
      "4.xlsx\n",
      "folder G:\\Chamodi\\LSDYNA3D\\RP_TH_models\\RP_Section_6_new\\RP_curves_fr25m\\25m16.5kg\n",
      "2.xlsx\n",
      "3.xlsx\n",
      "4.xlsx\n",
      "folder G:\\Chamodi\\LSDYNA3D\\RP_TH_models\\RP_Section_6_new\\RP_curves_fr25m\\25m18.5kg\n",
      "1.xlsx\n",
      "2.xlsx\n",
      "3.xlsx\n",
      "4.xlsx\n",
      "folder G:\\Chamodi\\LSDYNA3D\\RP_TH_models\\RP_Section_6_new\\RP_curves_fr25m\\25m20.5kg\n",
      "1.xlsx\n",
      "2.xlsx\n",
      "3.xlsx\n",
      "4.xlsx\n",
      "folder G:\\Chamodi\\LSDYNA3D\\RP_TH_models\\RP_Section_6_new\\RP_curves_fr25m\\25m22.5kg\n",
      "1.xlsx\n",
      "2.xlsx\n",
      "3.xlsx\n",
      "4.xlsx\n",
      "folder G:\\Chamodi\\LSDYNA3D\\RP_TH_models\\RP_Section_6_new\\RP_curves_fr25m\\25m24.5kg\n",
      "1.xlsx\n",
      "2.xlsx\n",
      "3.xlsx\n",
      "4.xlsx\n",
      "folder G:\\Chamodi\\LSDYNA3D\\RP_TH_models\\RP_Section_6_new\\RP_curves_fr25m\\25m26.5kg\n",
      "1.xlsx\n",
      "2.xlsx\n",
      "3.xlsx\n",
      "4.xlsx\n",
      "folder G:\\Chamodi\\LSDYNA3D\\RP_TH_models\\RP_Section_6_new\\RP_curves_fr25m\\25m28.5kg\n",
      "1.xlsx\n",
      "2.xlsx\n",
      "3.xlsx\n",
      "4.xlsx\n",
      "folder G:\\Chamodi\\LSDYNA3D\\RP_TH_models\\RP_Section_6_new\\RP_curves_fr25m\\25m30.5kg\n",
      "1.xlsx\n",
      "2.xlsx\n",
      "3.xlsx\n",
      "4.xlsx\n",
      "folder G:\\Chamodi\\LSDYNA3D\\RP_TH_models\\RP_Section_6_new\\RP_curves_fr25m\\25m32.5kg\n",
      "1.xlsx\n",
      "2.xlsx\n",
      "3.xlsx\n",
      "4.xlsx\n",
      "folder G:\\Chamodi\\LSDYNA3D\\RP_TH_models\\RP_Section_6_new\\RP_curves_fr25m\\25m34.5kg\n",
      "1.xlsx\n",
      "2.xlsx\n",
      "3.xlsx\n",
      "4.xlsx\n",
      "folder G:\\Chamodi\\LSDYNA3D\\RP_TH_models\\RP_Section_6_new\\RP_curves_fr25m\\25m35.0kg\n",
      "1.xlsx\n",
      "2.xlsx\n",
      "3.xlsx\n",
      "4.xlsx\n",
      "folder G:\\Chamodi\\LSDYNA3D\\RP_TH_models\\RP_Section_6_new\\RP_curves_fr27m\\27m00.5kg\n",
      "1.xlsx\n",
      "2.xlsx\n",
      "3.xlsx\n",
      "4.xlsx\n",
      "folder G:\\Chamodi\\LSDYNA3D\\RP_TH_models\\RP_Section_6_new\\RP_curves_fr27m\\27m02.5kg\n",
      "1.xlsx\n",
      "2.xlsx\n",
      "3.xlsx\n",
      "4.xlsx\n",
      "folder G:\\Chamodi\\LSDYNA3D\\RP_TH_models\\RP_Section_6_new\\RP_curves_fr27m\\27m04.5kg\n",
      "1.xlsx\n",
      "2.xlsx\n",
      "3.xlsx\n",
      "4.xlsx\n",
      "folder G:\\Chamodi\\LSDYNA3D\\RP_TH_models\\RP_Section_6_new\\RP_curves_fr27m\\27m06.5kg\n",
      "1.xlsx\n",
      "2.xlsx\n",
      "3.xlsx\n",
      "4.xlsx\n",
      "folder G:\\Chamodi\\LSDYNA3D\\RP_TH_models\\RP_Section_6_new\\RP_curves_fr27m\\27m08.5kg\n",
      "1.xlsx\n",
      "2.xlsx\n",
      "3.xlsx\n",
      "4.xlsx\n",
      "folder G:\\Chamodi\\LSDYNA3D\\RP_TH_models\\RP_Section_6_new\\RP_curves_fr27m\\27m10.5kg\n",
      "1.xlsx\n",
      "2.xlsx\n",
      "3.xlsx\n",
      "4.xlsx\n",
      "folder G:\\Chamodi\\LSDYNA3D\\RP_TH_models\\RP_Section_6_new\\RP_curves_fr27m\\27m12.5kg\n",
      "1.xlsx\n",
      "2.xlsx\n",
      "3.xlsx\n",
      "4.xlsx\n",
      "folder G:\\Chamodi\\LSDYNA3D\\RP_TH_models\\RP_Section_6_new\\RP_curves_fr27m\\27m14.5kg\n",
      "1.xlsx\n",
      "2.xlsx\n",
      "3.xlsx\n",
      "4.xlsx\n",
      "folder G:\\Chamodi\\LSDYNA3D\\RP_TH_models\\RP_Section_6_new\\RP_curves_fr27m\\27m16.5kg\n",
      "1.xlsx\n",
      "2.xlsx\n",
      "3.xlsx\n",
      "4.xlsx\n",
      "folder G:\\Chamodi\\LSDYNA3D\\RP_TH_models\\RP_Section_6_new\\RP_curves_fr27m\\27m18.5kg\n",
      "1.xlsx\n",
      "2.xlsx\n",
      "3.xlsx\n",
      "4.xlsx\n",
      "folder G:\\Chamodi\\LSDYNA3D\\RP_TH_models\\RP_Section_6_new\\RP_curves_fr27m\\27m20.5kg\n",
      "1.xlsx\n",
      "2.xlsx\n",
      "3.xlsx\n",
      "4.xlsx\n",
      "folder G:\\Chamodi\\LSDYNA3D\\RP_TH_models\\RP_Section_6_new\\RP_curves_fr27m\\27m22.5kg\n",
      "1.xlsx\n",
      "2.xlsx\n",
      "3.xlsx\n",
      "4.xlsx\n",
      "folder G:\\Chamodi\\LSDYNA3D\\RP_TH_models\\RP_Section_6_new\\RP_curves_fr27m\\27m24.5kg\n",
      "1.xlsx\n",
      "2.xlsx\n",
      "3.xlsx\n",
      "4.xlsx\n",
      "folder G:\\Chamodi\\LSDYNA3D\\RP_TH_models\\RP_Section_6_new\\RP_curves_fr27m\\27m26.5kg\n",
      "1.xlsx\n",
      "2.xlsx\n",
      "3.xlsx\n",
      "4.xlsx\n",
      "folder G:\\Chamodi\\LSDYNA3D\\RP_TH_models\\RP_Section_6_new\\RP_curves_fr27m\\27m28.5kg\n",
      "1.xlsx\n",
      "2.xlsx\n",
      "3.xlsx\n",
      "4.xlsx\n",
      "folder G:\\Chamodi\\LSDYNA3D\\RP_TH_models\\RP_Section_6_new\\RP_curves_fr27m\\27m30.5kg\n",
      "1.xlsx\n",
      "2.xlsx\n",
      "3.xlsx\n",
      "4.xlsx\n",
      "folder G:\\Chamodi\\LSDYNA3D\\RP_TH_models\\RP_Section_6_new\\RP_curves_fr27m\\27m32.5kg\n",
      "1.xlsx\n",
      "2.xlsx\n",
      "3.xlsx\n",
      "4.xlsx\n",
      "folder G:\\Chamodi\\LSDYNA3D\\RP_TH_models\\RP_Section_6_new\\RP_curves_fr27m\\27m34.5kg\n",
      "1.xlsx\n",
      "2.xlsx\n",
      "3.xlsx\n",
      "4.xlsx\n",
      "folder G:\\Chamodi\\LSDYNA3D\\RP_TH_models\\RP_Section_6_new\\RP_curves_fr27m\\27m35.0kg\n",
      "1.xlsx\n",
      "2.xlsx\n",
      "3.xlsx\n",
      "4.xlsx\n",
      "folder G:\\Chamodi\\LSDYNA3D\\RP_TH_models\\RP_Section_6_new\\RP_curves_fr29m\\29m00.5kg\n",
      "1.xlsx\n",
      "2.xlsx\n",
      "3.xlsx\n",
      "folder G:\\Chamodi\\LSDYNA3D\\RP_TH_models\\RP_Section_6_new\\RP_curves_fr29m\\29m02.5kg\n",
      "1.xlsx\n",
      "2.xlsx\n",
      "3.xlsx\n",
      "4.xlsx\n",
      "folder G:\\Chamodi\\LSDYNA3D\\RP_TH_models\\RP_Section_6_new\\RP_curves_fr29m\\29m04.5kg\n",
      "1.xlsx\n",
      "2.xlsx\n",
      "3.xlsx\n",
      "4.xlsx\n",
      "folder G:\\Chamodi\\LSDYNA3D\\RP_TH_models\\RP_Section_6_new\\RP_curves_fr29m\\29m06.5kg\n",
      "1.xlsx\n",
      "2.xlsx\n",
      "3.xlsx\n",
      "4.xlsx\n",
      "folder G:\\Chamodi\\LSDYNA3D\\RP_TH_models\\RP_Section_6_new\\RP_curves_fr29m\\29m08.5kg\n",
      "1.xlsx\n",
      "2.xlsx\n",
      "3.xlsx\n",
      "4.xlsx\n",
      "folder G:\\Chamodi\\LSDYNA3D\\RP_TH_models\\RP_Section_6_new\\RP_curves_fr29m\\29m10.5kg\n",
      "1.xlsx\n",
      "2.xlsx\n",
      "3.xlsx\n",
      "4.xlsx\n",
      "folder G:\\Chamodi\\LSDYNA3D\\RP_TH_models\\RP_Section_6_new\\RP_curves_fr29m\\29m12.5kg\n",
      "1.xlsx\n",
      "2.xlsx\n",
      "3.xlsx\n",
      "4.xlsx\n",
      "folder G:\\Chamodi\\LSDYNA3D\\RP_TH_models\\RP_Section_6_new\\RP_curves_fr29m\\29m14.5kg\n",
      "1.xlsx\n",
      "2.xlsx\n",
      "3.xlsx\n",
      "4.xlsx\n",
      "folder G:\\Chamodi\\LSDYNA3D\\RP_TH_models\\RP_Section_6_new\\RP_curves_fr29m\\29m16.5kg\n",
      "1.xlsx\n",
      "2.xlsx\n",
      "3.xlsx\n",
      "4.xlsx\n",
      "folder G:\\Chamodi\\LSDYNA3D\\RP_TH_models\\RP_Section_6_new\\RP_curves_fr29m\\29m18.5kg\n",
      "1.xlsx\n",
      "2.xlsx\n",
      "3.xlsx\n",
      "4.xlsx\n",
      "folder G:\\Chamodi\\LSDYNA3D\\RP_TH_models\\RP_Section_6_new\\RP_curves_fr29m\\29m20.5kg\n",
      "1.xlsx\n",
      "2.xlsx\n",
      "3.xlsx\n",
      "4.xlsx\n",
      "folder G:\\Chamodi\\LSDYNA3D\\RP_TH_models\\RP_Section_6_new\\RP_curves_fr29m\\29m22.5kg\n",
      "1.xlsx\n",
      "2.xlsx\n",
      "3.xlsx\n",
      "4.xlsx\n",
      "folder G:\\Chamodi\\LSDYNA3D\\RP_TH_models\\RP_Section_6_new\\RP_curves_fr29m\\29m24.5kg\n",
      "1.xlsx\n",
      "2.xlsx\n",
      "3.xlsx\n",
      "4.xlsx\n",
      "folder G:\\Chamodi\\LSDYNA3D\\RP_TH_models\\RP_Section_6_new\\RP_curves_fr29m\\29m26.5kg\n",
      "1.xlsx\n",
      "2.xlsx\n",
      "3.xlsx\n",
      "4.xlsx\n",
      "folder G:\\Chamodi\\LSDYNA3D\\RP_TH_models\\RP_Section_6_new\\RP_curves_fr29m\\29m28.5kg\n",
      "1.xlsx\n",
      "2.xlsx\n",
      "3.xlsx\n",
      "4.xlsx\n",
      "folder G:\\Chamodi\\LSDYNA3D\\RP_TH_models\\RP_Section_6_new\\RP_curves_fr29m\\29m30.5kg\n",
      "1.xlsx\n",
      "2.xlsx\n",
      "3.xlsx\n",
      "4.xlsx\n",
      "folder G:\\Chamodi\\LSDYNA3D\\RP_TH_models\\RP_Section_6_new\\RP_curves_fr29m\\29m32.5kg\n",
      "1.xlsx\n",
      "2.xlsx\n",
      "3.xlsx\n",
      "4.xlsx\n",
      "folder G:\\Chamodi\\LSDYNA3D\\RP_TH_models\\RP_Section_6_new\\RP_curves_fr29m\\29m34.5kg\n",
      "1.xlsx\n",
      "2.xlsx\n",
      "3.xlsx\n",
      "4.xlsx\n",
      "folder G:\\Chamodi\\LSDYNA3D\\RP_TH_models\\RP_Section_6_new\\RP_curves_fr29m\\29m35.0kg\n",
      "1.xlsx\n",
      "2.xlsx\n",
      "3.xlsx\n",
      "4.xlsx\n",
      "folder G:\\Chamodi\\LSDYNA3D\\RP_TH_models\\RP_Section_6_new\\RP_curves_fr30m\\30m00.5kg\n",
      "1.xlsx\n",
      "3.xlsx\n",
      "4.xlsx\n",
      "folder G:\\Chamodi\\LSDYNA3D\\RP_TH_models\\RP_Section_6_new\\RP_curves_fr30m\\30m02.5kg\n",
      "1.xlsx\n",
      "2.xlsx\n",
      "3.xlsx\n",
      "4.xlsx\n",
      "folder G:\\Chamodi\\LSDYNA3D\\RP_TH_models\\RP_Section_6_new\\RP_curves_fr30m\\30m04.5kg\n",
      "1.xlsx\n",
      "2.xlsx\n",
      "3.xlsx\n",
      "4.xlsx\n",
      "folder G:\\Chamodi\\LSDYNA3D\\RP_TH_models\\RP_Section_6_new\\RP_curves_fr30m\\30m06.5kg\n",
      "1.xlsx\n",
      "2.xlsx\n",
      "3.xlsx\n",
      "4.xlsx\n",
      "folder G:\\Chamodi\\LSDYNA3D\\RP_TH_models\\RP_Section_6_new\\RP_curves_fr30m\\30m08.5kg\n",
      "1.xlsx\n",
      "2.xlsx\n",
      "3.xlsx\n",
      "4.xlsx\n",
      "folder G:\\Chamodi\\LSDYNA3D\\RP_TH_models\\RP_Section_6_new\\RP_curves_fr30m\\30m10.5kg\n",
      "1.xlsx\n",
      "2.xlsx\n",
      "3.xlsx\n",
      "4.xlsx\n",
      "folder G:\\Chamodi\\LSDYNA3D\\RP_TH_models\\RP_Section_6_new\\RP_curves_fr30m\\30m12.5kg\n",
      "1.xlsx\n",
      "2.xlsx\n",
      "3.xlsx\n",
      "4.xlsx\n",
      "folder G:\\Chamodi\\LSDYNA3D\\RP_TH_models\\RP_Section_6_new\\RP_curves_fr30m\\30m14.5kg\n",
      "1.xlsx\n",
      "2.xlsx\n",
      "3.xlsx\n",
      "4.xlsx\n",
      "folder G:\\Chamodi\\LSDYNA3D\\RP_TH_models\\RP_Section_6_new\\RP_curves_fr30m\\30m16.5kg\n",
      "1.xlsx\n",
      "2.xlsx\n",
      "3.xlsx\n",
      "4.xlsx\n",
      "folder G:\\Chamodi\\LSDYNA3D\\RP_TH_models\\RP_Section_6_new\\RP_curves_fr30m\\30m18.5kg\n",
      "1.xlsx\n",
      "2.xlsx\n",
      "3.xlsx\n",
      "4.xlsx\n",
      "folder G:\\Chamodi\\LSDYNA3D\\RP_TH_models\\RP_Section_6_new\\RP_curves_fr30m\\30m20.5kg\n",
      "1.xlsx\n",
      "2.xlsx\n",
      "3.xlsx\n",
      "4.xlsx\n",
      "folder G:\\Chamodi\\LSDYNA3D\\RP_TH_models\\RP_Section_6_new\\RP_curves_fr30m\\30m22.5kg\n",
      "1.xlsx\n",
      "2.xlsx\n",
      "3.xlsx\n",
      "4.xlsx\n",
      "folder G:\\Chamodi\\LSDYNA3D\\RP_TH_models\\RP_Section_6_new\\RP_curves_fr30m\\30m24.5kg\n",
      "1.xlsx\n",
      "2.xlsx\n",
      "3.xlsx\n",
      "4.xlsx\n",
      "folder G:\\Chamodi\\LSDYNA3D\\RP_TH_models\\RP_Section_6_new\\RP_curves_fr30m\\30m26.5kg\n",
      "1.xlsx\n",
      "2.xlsx\n",
      "3.xlsx\n",
      "4.xlsx\n",
      "folder G:\\Chamodi\\LSDYNA3D\\RP_TH_models\\RP_Section_6_new\\RP_curves_fr30m\\30m28.5kg\n",
      "1.xlsx\n",
      "2.xlsx\n",
      "3.xlsx\n",
      "4.xlsx\n",
      "folder G:\\Chamodi\\LSDYNA3D\\RP_TH_models\\RP_Section_6_new\\RP_curves_fr30m\\30m30.5kg\n",
      "1.xlsx\n",
      "2.xlsx\n",
      "3.xlsx\n",
      "4.xlsx\n",
      "folder G:\\Chamodi\\LSDYNA3D\\RP_TH_models\\RP_Section_6_new\\RP_curves_fr30m\\30m32.5kg\n",
      "1.xlsx\n",
      "2.xlsx\n",
      "3.xlsx\n",
      "4.xlsx\n",
      "folder G:\\Chamodi\\LSDYNA3D\\RP_TH_models\\RP_Section_6_new\\RP_curves_fr30m\\30m34.5kg\n",
      "1.xlsx\n",
      "2.xlsx\n",
      "3.xlsx\n",
      "4.xlsx\n",
      "folder G:\\Chamodi\\LSDYNA3D\\RP_TH_models\\RP_Section_6_new\\RP_curves_fr30m\\30m35.0kg\n",
      "1.xlsx\n",
      "2.xlsx\n",
      "3.xlsx\n",
      "4.xlsx\n"
     ]
    }
   ],
   "source": [
    "#dataset = pd.DataFrame(columns = ['Charge_mass', 'Standoff_distance', 'Time', 'Pressure', 'Phase'])\n",
    "df_list = []\n",
    "\n",
    "for folder1 in input_dir2:\n",
    "    \n",
    "    input_dir3 =  [folder2 for folder2 in folder1.iterdir() if folder2.is_dir()] # folder2 - 07m00.5kg\n",
    "    \n",
    "    for folder2 in input_dir3:\n",
    "        \n",
    "        print ('folder', folder2)\n",
    "        files1 = [file1 for file1 in folder2.rglob(\"*.xlsx\")]\n",
    "    \n",
    "        for file1 in files1:\n",
    "            df_list.append(pd.read_excel(file1))\n",
    "            print (file1.stem)\n",
    "    \n",
    "dataset = pd.concat(df_list, ignore_index = True)"
   ]
  },
  {
   "cell_type": "code",
   "execution_count": 4,
   "metadata": {
    "colab": {},
    "colab_type": "code",
    "id": "B9CV13Co_HHM",
    "ExecuteTime": {
     "end_time": "2024-12-06T05:39:11.236782800Z",
     "start_time": "2024-12-06T05:39:11.158310900Z"
    }
   },
   "outputs": [
    {
     "name": "stdout",
     "output_type": "stream",
     "text": [
      "<class 'pandas.core.frame.DataFrame'>\n",
      "RangeIndex: 39228 entries, 0 to 39227\n",
      "Data columns (total 6 columns):\n",
      " #   Column             Non-Null Count  Dtype  \n",
      "---  ------             --------------  -----  \n",
      " 0   Mass               39228 non-null  float64\n",
      " 1   Standoff distance  39228 non-null  int64  \n",
      " 2   Angle              39228 non-null  int64  \n",
      " 3   Time               39228 non-null  float64\n",
      " 4   Phase              39228 non-null  object \n",
      " 5   Pressure           39228 non-null  float64\n",
      "dtypes: float64(3), int64(2), object(1)\n",
      "memory usage: 1.8+ MB\n"
     ]
    }
   ],
   "source": [
    "dataset.info()"
   ]
  },
  {
   "cell_type": "code",
   "execution_count": 5,
   "outputs": [
    {
     "name": "stdout",
     "output_type": "stream",
     "text": [
      "<class 'pandas.core.frame.DataFrame'>\n",
      "RangeIndex: 39228 entries, 0 to 39227\n",
      "Data columns (total 7 columns):\n",
      " #   Column             Non-Null Count  Dtype  \n",
      "---  ------             --------------  -----  \n",
      " 0   Mass               39228 non-null  float64\n",
      " 1   Standoff distance  39228 non-null  int64  \n",
      " 2   Angle              39228 non-null  int64  \n",
      " 3   Time               39228 non-null  float64\n",
      " 4   Pressure           39228 non-null  float64\n",
      " 5   Phase_negative     39228 non-null  uint8  \n",
      " 6   Phase_positive     39228 non-null  uint8  \n",
      "dtypes: float64(3), int64(2), uint8(2)\n",
      "memory usage: 1.6 MB\n"
     ]
    }
   ],
   "source": [
    "# Assuming your original column is named 'Category'\n",
    "dataset['Phase'] = dataset['Phase'].replace({'negative_increasing': 'negative', 'negative_decreasing': 'negative'})\n",
    "dataset = pd.get_dummies(dataset, columns =['Phase'], dtype = np.uint8)\n",
    "dataset.info()"
   ],
   "metadata": {
    "collapsed": false,
    "ExecuteTime": {
     "end_time": "2024-12-06T05:39:13.564641500Z",
     "start_time": "2024-12-06T05:39:13.435635800Z"
    }
   }
  },
  {
   "cell_type": "code",
   "execution_count": 6,
   "outputs": [
    {
     "data": {
      "text/plain": "    Mass  Standoff distance  Angle       Time  Pressure  Phase_negative  \\\n0    0.5                 25      0  67.794907  4.165875               0   \n1    0.5                 25      0  67.831663  4.117344               0   \n2    0.5                 25      0  67.868441  3.996742               0   \n3    0.5                 25      0  67.905219  3.823539               0   \n4    0.5                 25      0  67.941997  3.611555               0   \n5    0.5                 25      0  67.978793  3.364867               0   \n6    0.5                 25      0  68.015603  3.092086               0   \n7    0.5                 25      0  68.052414  2.779633               0   \n8    0.5                 25      0  68.125987  2.096375               0   \n9    0.5                 25      0  68.162761  1.775031               0   \n10   0.5                 25      0  68.199550  1.506352               0   \n11   0.5                 25      0  68.236369  1.323352               0   \n12   0.5                 25      0  68.273164  1.202219               0   \n13   0.5                 25      0  68.309957  1.114961               0   \n14   0.5                 25      0  68.346681  1.047820               0   \n15   0.5                 25      0  68.383405  0.973148               0   \n16   0.5                 25      0  68.456746  0.815008               0   \n17   0.5                 25      0  68.493399  0.781695               0   \n18   0.5                 25      0  68.530226  0.777469               0   \n19   0.5                 25      0  68.567046  0.781031               0   \n20   0.5                 25      0  68.603884  0.753617               0   \n21   0.5                 25      0  68.640515  0.697406               0   \n22   0.5                 25      0  68.677237  0.646937               0   \n23   0.5                 25      0  68.713923  0.606727               0   \n24   0.5                 25      0  68.750575  0.626031               0   \n25   0.5                 25      0  68.787226  0.649469               0   \n26   0.5                 25      0  68.823875  0.649469               0   \n27   0.5                 25      0  71.387641  0.086563               0   \n28   0.5                 25      0  71.424178  0.086563               0   \n29   0.5                 25      0  71.460718  0.068375               0   \n\n    Phase_positive  \n0                1  \n1                1  \n2                1  \n3                1  \n4                1  \n5                1  \n6                1  \n7                1  \n8                1  \n9                1  \n10               1  \n11               1  \n12               1  \n13               1  \n14               1  \n15               1  \n16               1  \n17               1  \n18               1  \n19               1  \n20               1  \n21               1  \n22               1  \n23               1  \n24               1  \n25               1  \n26               1  \n27               1  \n28               1  \n29               1  ",
      "text/html": "<div>\n<style scoped>\n    .dataframe tbody tr th:only-of-type {\n        vertical-align: middle;\n    }\n\n    .dataframe tbody tr th {\n        vertical-align: top;\n    }\n\n    .dataframe thead th {\n        text-align: right;\n    }\n</style>\n<table border=\"1\" class=\"dataframe\">\n  <thead>\n    <tr style=\"text-align: right;\">\n      <th></th>\n      <th>Mass</th>\n      <th>Standoff distance</th>\n      <th>Angle</th>\n      <th>Time</th>\n      <th>Pressure</th>\n      <th>Phase_negative</th>\n      <th>Phase_positive</th>\n    </tr>\n  </thead>\n  <tbody>\n    <tr>\n      <th>0</th>\n      <td>0.5</td>\n      <td>25</td>\n      <td>0</td>\n      <td>67.794907</td>\n      <td>4.165875</td>\n      <td>0</td>\n      <td>1</td>\n    </tr>\n    <tr>\n      <th>1</th>\n      <td>0.5</td>\n      <td>25</td>\n      <td>0</td>\n      <td>67.831663</td>\n      <td>4.117344</td>\n      <td>0</td>\n      <td>1</td>\n    </tr>\n    <tr>\n      <th>2</th>\n      <td>0.5</td>\n      <td>25</td>\n      <td>0</td>\n      <td>67.868441</td>\n      <td>3.996742</td>\n      <td>0</td>\n      <td>1</td>\n    </tr>\n    <tr>\n      <th>3</th>\n      <td>0.5</td>\n      <td>25</td>\n      <td>0</td>\n      <td>67.905219</td>\n      <td>3.823539</td>\n      <td>0</td>\n      <td>1</td>\n    </tr>\n    <tr>\n      <th>4</th>\n      <td>0.5</td>\n      <td>25</td>\n      <td>0</td>\n      <td>67.941997</td>\n      <td>3.611555</td>\n      <td>0</td>\n      <td>1</td>\n    </tr>\n    <tr>\n      <th>5</th>\n      <td>0.5</td>\n      <td>25</td>\n      <td>0</td>\n      <td>67.978793</td>\n      <td>3.364867</td>\n      <td>0</td>\n      <td>1</td>\n    </tr>\n    <tr>\n      <th>6</th>\n      <td>0.5</td>\n      <td>25</td>\n      <td>0</td>\n      <td>68.015603</td>\n      <td>3.092086</td>\n      <td>0</td>\n      <td>1</td>\n    </tr>\n    <tr>\n      <th>7</th>\n      <td>0.5</td>\n      <td>25</td>\n      <td>0</td>\n      <td>68.052414</td>\n      <td>2.779633</td>\n      <td>0</td>\n      <td>1</td>\n    </tr>\n    <tr>\n      <th>8</th>\n      <td>0.5</td>\n      <td>25</td>\n      <td>0</td>\n      <td>68.125987</td>\n      <td>2.096375</td>\n      <td>0</td>\n      <td>1</td>\n    </tr>\n    <tr>\n      <th>9</th>\n      <td>0.5</td>\n      <td>25</td>\n      <td>0</td>\n      <td>68.162761</td>\n      <td>1.775031</td>\n      <td>0</td>\n      <td>1</td>\n    </tr>\n    <tr>\n      <th>10</th>\n      <td>0.5</td>\n      <td>25</td>\n      <td>0</td>\n      <td>68.199550</td>\n      <td>1.506352</td>\n      <td>0</td>\n      <td>1</td>\n    </tr>\n    <tr>\n      <th>11</th>\n      <td>0.5</td>\n      <td>25</td>\n      <td>0</td>\n      <td>68.236369</td>\n      <td>1.323352</td>\n      <td>0</td>\n      <td>1</td>\n    </tr>\n    <tr>\n      <th>12</th>\n      <td>0.5</td>\n      <td>25</td>\n      <td>0</td>\n      <td>68.273164</td>\n      <td>1.202219</td>\n      <td>0</td>\n      <td>1</td>\n    </tr>\n    <tr>\n      <th>13</th>\n      <td>0.5</td>\n      <td>25</td>\n      <td>0</td>\n      <td>68.309957</td>\n      <td>1.114961</td>\n      <td>0</td>\n      <td>1</td>\n    </tr>\n    <tr>\n      <th>14</th>\n      <td>0.5</td>\n      <td>25</td>\n      <td>0</td>\n      <td>68.346681</td>\n      <td>1.047820</td>\n      <td>0</td>\n      <td>1</td>\n    </tr>\n    <tr>\n      <th>15</th>\n      <td>0.5</td>\n      <td>25</td>\n      <td>0</td>\n      <td>68.383405</td>\n      <td>0.973148</td>\n      <td>0</td>\n      <td>1</td>\n    </tr>\n    <tr>\n      <th>16</th>\n      <td>0.5</td>\n      <td>25</td>\n      <td>0</td>\n      <td>68.456746</td>\n      <td>0.815008</td>\n      <td>0</td>\n      <td>1</td>\n    </tr>\n    <tr>\n      <th>17</th>\n      <td>0.5</td>\n      <td>25</td>\n      <td>0</td>\n      <td>68.493399</td>\n      <td>0.781695</td>\n      <td>0</td>\n      <td>1</td>\n    </tr>\n    <tr>\n      <th>18</th>\n      <td>0.5</td>\n      <td>25</td>\n      <td>0</td>\n      <td>68.530226</td>\n      <td>0.777469</td>\n      <td>0</td>\n      <td>1</td>\n    </tr>\n    <tr>\n      <th>19</th>\n      <td>0.5</td>\n      <td>25</td>\n      <td>0</td>\n      <td>68.567046</td>\n      <td>0.781031</td>\n      <td>0</td>\n      <td>1</td>\n    </tr>\n    <tr>\n      <th>20</th>\n      <td>0.5</td>\n      <td>25</td>\n      <td>0</td>\n      <td>68.603884</td>\n      <td>0.753617</td>\n      <td>0</td>\n      <td>1</td>\n    </tr>\n    <tr>\n      <th>21</th>\n      <td>0.5</td>\n      <td>25</td>\n      <td>0</td>\n      <td>68.640515</td>\n      <td>0.697406</td>\n      <td>0</td>\n      <td>1</td>\n    </tr>\n    <tr>\n      <th>22</th>\n      <td>0.5</td>\n      <td>25</td>\n      <td>0</td>\n      <td>68.677237</td>\n      <td>0.646937</td>\n      <td>0</td>\n      <td>1</td>\n    </tr>\n    <tr>\n      <th>23</th>\n      <td>0.5</td>\n      <td>25</td>\n      <td>0</td>\n      <td>68.713923</td>\n      <td>0.606727</td>\n      <td>0</td>\n      <td>1</td>\n    </tr>\n    <tr>\n      <th>24</th>\n      <td>0.5</td>\n      <td>25</td>\n      <td>0</td>\n      <td>68.750575</td>\n      <td>0.626031</td>\n      <td>0</td>\n      <td>1</td>\n    </tr>\n    <tr>\n      <th>25</th>\n      <td>0.5</td>\n      <td>25</td>\n      <td>0</td>\n      <td>68.787226</td>\n      <td>0.649469</td>\n      <td>0</td>\n      <td>1</td>\n    </tr>\n    <tr>\n      <th>26</th>\n      <td>0.5</td>\n      <td>25</td>\n      <td>0</td>\n      <td>68.823875</td>\n      <td>0.649469</td>\n      <td>0</td>\n      <td>1</td>\n    </tr>\n    <tr>\n      <th>27</th>\n      <td>0.5</td>\n      <td>25</td>\n      <td>0</td>\n      <td>71.387641</td>\n      <td>0.086563</td>\n      <td>0</td>\n      <td>1</td>\n    </tr>\n    <tr>\n      <th>28</th>\n      <td>0.5</td>\n      <td>25</td>\n      <td>0</td>\n      <td>71.424178</td>\n      <td>0.086563</td>\n      <td>0</td>\n      <td>1</td>\n    </tr>\n    <tr>\n      <th>29</th>\n      <td>0.5</td>\n      <td>25</td>\n      <td>0</td>\n      <td>71.460718</td>\n      <td>0.068375</td>\n      <td>0</td>\n      <td>1</td>\n    </tr>\n  </tbody>\n</table>\n</div>"
     },
     "execution_count": 6,
     "metadata": {},
     "output_type": "execute_result"
    }
   ],
   "source": [
    "dataset.head(30)"
   ],
   "metadata": {
    "collapsed": false,
    "ExecuteTime": {
     "end_time": "2024-12-06T05:39:15.750367700Z",
     "start_time": "2024-12-06T05:39:15.617526300Z"
    }
   }
  },
  {
   "cell_type": "code",
   "execution_count": 7,
   "metadata": {
    "ExecuteTime": {
     "end_time": "2024-12-06T05:39:17.352521500Z",
     "start_time": "2024-12-06T05:39:17.304814Z"
    }
   },
   "outputs": [
    {
     "name": "stdout",
     "output_type": "stream",
     "text": [
      "(39228, 6) (39228,)\n"
     ]
    }
   ],
   "source": [
    "y = dataset['Pressure']\n",
    "X = dataset.drop(['Pressure'], axis=1)\n",
    "print(X.shape, y.shape)"
   ]
  },
  {
   "cell_type": "code",
   "execution_count": 8,
   "metadata": {
    "ExecuteTime": {
     "end_time": "2024-12-06T05:39:18.845934Z",
     "start_time": "2024-12-06T05:39:18.752530500Z"
    }
   },
   "outputs": [],
   "source": [
    "# convert to numpy array\n",
    "X = np.array(X)\n",
    "y = np.array(y)"
   ]
  },
  {
   "cell_type": "code",
   "execution_count": 9,
   "metadata": {
    "colab": {},
    "colab_type": "code",
    "id": "L5edeb2r_agx",
    "ExecuteTime": {
     "end_time": "2024-12-06T05:39:21.326649300Z",
     "start_time": "2024-12-06T05:39:20.163212300Z"
    }
   },
   "outputs": [],
   "source": [
    "from sklearn.model_selection import train_test_split\n",
    "X_train, X_test, y_train, y_test = train_test_split(X,\n",
    "                                                    y,\n",
    "                                                    test_size = 0.4,\n",
    "                                                    random_state = 0)"
   ]
  },
  {
   "cell_type": "code",
   "execution_count": 10,
   "metadata": {
    "colab": {},
    "colab_type": "code",
    "id": "L5edeb2r_agx",
    "ExecuteTime": {
     "end_time": "2024-12-06T05:39:22.382841200Z",
     "start_time": "2024-12-06T05:39:22.319520100Z"
    }
   },
   "outputs": [],
   "source": [
    "X_val, X_test, y_val, y_test = train_test_split(X_test,\n",
    "                                                y_test,\n",
    "                                                test_size = 0.5,\n",
    "                                                random_state = 0)"
   ]
  },
  {
   "cell_type": "code",
   "execution_count": 12,
   "outputs": [
    {
     "name": "stdout",
     "output_type": "stream",
     "text": [
      "[[ 0.49631868 -1.54733058 -1.47441242 -1.22135378  0.          1.        ]\n",
      " [-1.70420999  1.1442758  -1.47441242 -0.47922366  0.          1.        ]\n",
      " [-1.10406581  0.60595452 -0.57245861 -0.56840551  0.          1.        ]\n",
      " ...\n",
      " [-1.50416193  1.1442758   1.231449    1.91418375  0.          1.        ]\n",
      " [-0.90401775  0.60595452  1.231449    1.01460588  0.          1.        ]\n",
      " [-0.50392163 -1.54733058  1.231449    0.6736703   0.          1.        ]]\n"
     ]
    }
   ],
   "source": [
    "from sklearn.preprocessing import StandardScaler\n",
    "#sc = StandardScaler()\n",
    "X_train[:,0:4] = sc.transform(X_train[:, 0:4])\n",
    "print (X_train)"
   ],
   "metadata": {
    "collapsed": false,
    "ExecuteTime": {
     "end_time": "2024-12-06T05:39:43.893434100Z",
     "start_time": "2024-12-06T05:39:43.830594300Z"
    }
   }
  },
  {
   "cell_type": "code",
   "execution_count": 13,
   "outputs": [
    {
     "name": "stdout",
     "output_type": "stream",
     "text": [
      "[[ 0.8964148   0.60595452  0.32949519  0.18570454  0.          1.        ]\n",
      " [ 0.8964148  -0.47068803  0.32949519  0.04080931  1.          0.        ]\n",
      " [ 1.34652293 -0.47068803 -0.57245861 -0.58999962  0.          1.        ]\n",
      " ...\n",
      " [-0.1038255   1.1442758  -1.47441242 -0.86969107  0.          1.        ]\n",
      " [ 1.34652293 -1.54733058  1.231449    0.61466371  0.          1.        ]\n",
      " [-0.50392163  0.60595452  1.231449    1.56042981  0.          1.        ]]\n"
     ]
    }
   ],
   "source": [
    "X_test[:,0:4] = sc.transform(X_test[:,0:4])\n",
    "print (X_test)"
   ],
   "metadata": {
    "collapsed": false,
    "ExecuteTime": {
     "end_time": "2024-12-06T05:39:45.444591200Z",
     "start_time": "2024-12-06T05:39:45.381260600Z"
    }
   }
  },
  {
   "cell_type": "code",
   "execution_count": 14,
   "outputs": [
    {
     "name": "stdout",
     "output_type": "stream",
     "text": [
      "[[-0.1038255   1.1442758  -1.47441242 -0.36639058  0.          1.        ]\n",
      " [ 0.8964148   1.1442758  -1.47441242 -0.92083505  0.          1.        ]\n",
      " [ 1.29651092 -0.47068803  1.231449    0.88329071  0.          1.        ]\n",
      " ...\n",
      " [ 0.69636674 -0.47068803 -0.57245861 -1.18507897  0.          1.        ]\n",
      " [-1.50416193  0.60595452 -1.47441242 -0.07495253  1.          0.        ]\n",
      " [ 1.09646286  1.1442758   0.32949519  0.38966858  0.          1.        ]]\n"
     ]
    }
   ],
   "source": [
    "X_val[:,0:4] = sc.transform(X_val[:,0:4])\n",
    "print (X_val)"
   ],
   "metadata": {
    "collapsed": false,
    "ExecuteTime": {
     "end_time": "2024-12-06T05:39:46.669298300Z",
     "start_time": "2024-12-06T05:39:46.606005600Z"
    }
   }
  },
  {
   "cell_type": "code",
   "execution_count": 15,
   "outputs": [
    {
     "name": "stdout",
     "output_type": "stream",
     "text": [
      "X_train 23536\n",
      "X_test 7846\n",
      "X_val 7846\n"
     ]
    }
   ],
   "source": [
    "print (\"X_train\", len(X_train))\n",
    "print (\"X_test\", len(X_test))\n",
    "print (\"X_val\", len(X_val))"
   ],
   "metadata": {
    "collapsed": false,
    "ExecuteTime": {
     "end_time": "2024-12-06T05:39:48.451236400Z",
     "start_time": "2024-12-06T05:39:48.387936600Z"
    }
   }
  },
  {
   "cell_type": "markdown",
   "metadata": {
    "colab_type": "text",
    "id": "_mSLlAT9_eyI"
   },
   "source": [
    "## Part 3 - Building the ANN"
   ]
  },
  {
   "cell_type": "code",
   "execution_count": 15,
   "metadata": {
    "colab": {},
    "colab_type": "code",
    "id": "J6Hd97Ls__Nz",
    "ExecuteTime": {
     "end_time": "2024-08-11T06:48:36.198183900Z",
     "start_time": "2024-08-11T06:48:36.000982200Z"
    }
   },
   "outputs": [],
   "source": [
    "ann = tf.keras.models.Sequential()"
   ]
  },
  {
   "cell_type": "code",
   "execution_count": 16,
   "metadata": {
    "colab": {},
    "colab_type": "code",
    "id": "ksO_Vv40AHix",
    "ExecuteTime": {
     "end_time": "2024-08-11T06:48:36.488017100Z",
     "start_time": "2024-08-11T06:48:36.199183300Z"
    }
   },
   "outputs": [],
   "source": [
    "ann.add(tf.keras.layers.Dense(units=200,\n",
    "                              input_shape=(X_train.shape[1],),\n",
    "                              activation='relu'))\n",
    "ann.add(tf.keras.layers.Dense(units=175,\n",
    "                              activation='relu'))\n",
    "ann.add(tf.keras.layers.Dense(units=150,\n",
    "                              activation='relu'))"
   ]
  },
  {
   "cell_type": "code",
   "execution_count": 17,
   "metadata": {
    "colab": {},
    "colab_type": "code",
    "id": "YFATpzsUAkLL",
    "ExecuteTime": {
     "end_time": "2024-08-11T06:48:36.915695Z",
     "start_time": "2024-08-11T06:48:36.489017500Z"
    }
   },
   "outputs": [],
   "source": [
    "ann.add(tf.keras.layers.Dense(units=1,\n",
    "                              activation='linear'))"
   ]
  },
  {
   "cell_type": "code",
   "execution_count": 18,
   "metadata": {
    "ExecuteTime": {
     "end_time": "2024-08-11T06:48:37.375325200Z",
     "start_time": "2024-08-11T06:48:36.916696700Z"
    }
   },
   "outputs": [
    {
     "name": "stdout",
     "output_type": "stream",
     "text": [
      "Model: \"sequential\"\n",
      "_________________________________________________________________\n",
      " Layer (type)                Output Shape              Param #   \n",
      "=================================================================\n",
      " dense (Dense)               (None, 200)               1400      \n",
      "                                                                 \n",
      " dense_1 (Dense)             (None, 175)               35175     \n",
      "                                                                 \n",
      " dense_2 (Dense)             (None, 150)               26400     \n",
      "                                                                 \n",
      " dense_3 (Dense)             (None, 1)                 151       \n",
      "                                                                 \n",
      "=================================================================\n",
      "Total params: 63,126\n",
      "Trainable params: 63,126\n",
      "Non-trainable params: 0\n",
      "_________________________________________________________________\n"
     ]
    }
   ],
   "source": [
    "ann.summary()"
   ]
  },
  {
   "cell_type": "markdown",
   "metadata": {
    "colab_type": "text",
    "id": "fq7e4fF6A1yy"
   },
   "source": [
    "## Part 4 - Training the ANN"
   ]
  },
  {
   "cell_type": "code",
   "execution_count": 19,
   "metadata": {
    "colab": {},
    "colab_type": "code",
    "id": "pesgbWlCAtB4",
    "ExecuteTime": {
     "end_time": "2024-08-11T06:48:38.409577800Z",
     "start_time": "2024-08-11T06:48:37.235698400Z"
    }
   },
   "outputs": [],
   "source": [
    "# from tensorflow.keras.optimizers import Adam\n",
    "from keras.optimizers import Adam\n",
    "opt = Adam(learning_rate=0.001)\n",
    "ann.compile(optimizer = opt,\n",
    "            loss = 'mean_squared_error',\n",
    "            metrics = ['mae'])"
   ]
  },
  {
   "cell_type": "code",
   "execution_count": 20,
   "metadata": {
    "ExecuteTime": {
     "end_time": "2024-08-11T06:48:38.821613400Z",
     "start_time": "2024-08-11T06:48:38.410582Z"
    }
   },
   "outputs": [],
   "source": [
    "# protects from unnecessary further training of the model if a particular metric does not continue to improve over a number of n epochs. In such a case, the model training would be automatically aborted.\n",
    "from keras.callbacks import EarlyStopping\n",
    "es = EarlyStopping(monitor='val_loss',\n",
    "                   mode='min',\n",
    "                   patience=50,\n",
    "                   restore_best_weights = True)"
   ]
  },
  {
   "cell_type": "code",
   "execution_count": 21,
   "metadata": {
    "colab": {
     "base_uri": "https://localhost:8080/",
     "height": 1000
    },
    "colab_type": "code",
    "id": "c_vV-tiiA5zn",
    "outputId": "4a2b6ee6-ed75-4698-9069-b250e613803f",
    "ExecuteTime": {
     "end_time": "2024-08-11T07:11:42.114924300Z",
     "start_time": "2024-08-11T06:48:38.822615800Z"
    }
   },
   "outputs": [
    {
     "name": "stdout",
     "output_type": "stream",
     "text": [
      "Epoch 1/500\n",
      "785/785 [==============================] - 34s 42ms/step - loss: 5.4139 - mae: 1.1175 - val_loss: 5.0197 - val_mae: 1.2520\n",
      "Epoch 2/500\n",
      "785/785 [==============================] - 4s 6ms/step - loss: 3.6316 - mae: 0.8471 - val_loss: 3.6371 - val_mae: 0.7684\n",
      "Epoch 3/500\n",
      "785/785 [==============================] - 3s 4ms/step - loss: 2.9949 - mae: 0.7651 - val_loss: 2.1047 - val_mae: 0.6859\n",
      "Epoch 4/500\n",
      "785/785 [==============================] - 4s 5ms/step - loss: 2.7117 - mae: 0.7110 - val_loss: 1.9375 - val_mae: 0.6865\n",
      "Epoch 5/500\n",
      "785/785 [==============================] - 5s 6ms/step - loss: 2.4306 - mae: 0.6585 - val_loss: 1.9818 - val_mae: 0.6209\n",
      "Epoch 6/500\n",
      "785/785 [==============================] - 4s 5ms/step - loss: 2.0987 - mae: 0.6076 - val_loss: 1.1516 - val_mae: 0.4534\n",
      "Epoch 7/500\n",
      "785/785 [==============================] - 6s 8ms/step - loss: 2.3504 - mae: 0.6511 - val_loss: 2.8368 - val_mae: 0.6520\n",
      "Epoch 8/500\n",
      "785/785 [==============================] - 4s 5ms/step - loss: 1.8955 - mae: 0.5843 - val_loss: 1.2092 - val_mae: 0.4651\n",
      "Epoch 9/500\n",
      "785/785 [==============================] - 4s 6ms/step - loss: 2.4104 - mae: 0.6816 - val_loss: 2.0689 - val_mae: 0.6540\n",
      "Epoch 10/500\n",
      "785/785 [==============================] - 4s 5ms/step - loss: 1.6581 - mae: 0.5486 - val_loss: 1.1170 - val_mae: 0.4216\n",
      "Epoch 11/500\n",
      "785/785 [==============================] - 4s 5ms/step - loss: 1.6222 - mae: 0.5336 - val_loss: 3.0140 - val_mae: 0.8298\n",
      "Epoch 12/500\n",
      "785/785 [==============================] - 4s 6ms/step - loss: 1.6632 - mae: 0.5370 - val_loss: 0.9585 - val_mae: 0.4197\n",
      "Epoch 13/500\n",
      "785/785 [==============================] - 4s 5ms/step - loss: 1.6583 - mae: 0.5494 - val_loss: 1.5796 - val_mae: 0.4734\n",
      "Epoch 14/500\n",
      "785/785 [==============================] - 4s 5ms/step - loss: 1.7971 - mae: 0.5688 - val_loss: 1.3190 - val_mae: 0.5370\n",
      "Epoch 15/500\n",
      "785/785 [==============================] - 4s 5ms/step - loss: 1.5498 - mae: 0.5073 - val_loss: 1.3122 - val_mae: 0.4890\n",
      "Epoch 16/500\n",
      "785/785 [==============================] - 5s 6ms/step - loss: 1.4611 - mae: 0.5047 - val_loss: 0.7061 - val_mae: 0.3780\n",
      "Epoch 17/500\n",
      "785/785 [==============================] - 4s 5ms/step - loss: 1.3039 - mae: 0.4704 - val_loss: 1.5053 - val_mae: 0.5057\n",
      "Epoch 18/500\n",
      "785/785 [==============================] - 5s 6ms/step - loss: 1.7851 - mae: 0.5608 - val_loss: 1.0959 - val_mae: 0.4660\n",
      "Epoch 19/500\n",
      "785/785 [==============================] - 4s 5ms/step - loss: 1.1907 - mae: 0.4510 - val_loss: 0.8477 - val_mae: 0.3762\n",
      "Epoch 20/500\n",
      "785/785 [==============================] - 4s 6ms/step - loss: 1.4009 - mae: 0.4899 - val_loss: 1.4896 - val_mae: 0.4602\n",
      "Epoch 21/500\n",
      "785/785 [==============================] - 5s 6ms/step - loss: 1.4429 - mae: 0.4723 - val_loss: 1.4453 - val_mae: 0.5092\n",
      "Epoch 22/500\n",
      "785/785 [==============================] - 4s 5ms/step - loss: 1.3279 - mae: 0.4781 - val_loss: 0.6947 - val_mae: 0.3298\n",
      "Epoch 23/500\n",
      "785/785 [==============================] - 4s 5ms/step - loss: 1.3875 - mae: 0.4744 - val_loss: 1.2740 - val_mae: 0.4148\n",
      "Epoch 24/500\n",
      "785/785 [==============================] - 4s 5ms/step - loss: 1.2198 - mae: 0.4351 - val_loss: 1.0491 - val_mae: 0.4331\n",
      "Epoch 25/500\n",
      "785/785 [==============================] - 4s 5ms/step - loss: 1.1359 - mae: 0.4344 - val_loss: 1.8965 - val_mae: 0.5631\n",
      "Epoch 26/500\n",
      "785/785 [==============================] - 4s 5ms/step - loss: 1.1538 - mae: 0.4342 - val_loss: 0.7091 - val_mae: 0.3549\n",
      "Epoch 27/500\n",
      "785/785 [==============================] - 5s 6ms/step - loss: 1.1451 - mae: 0.4286 - val_loss: 0.7741 - val_mae: 0.3994\n",
      "Epoch 28/500\n",
      "785/785 [==============================] - 6s 7ms/step - loss: 1.1465 - mae: 0.4167 - val_loss: 0.5658 - val_mae: 0.3018\n",
      "Epoch 29/500\n",
      "785/785 [==============================] - 4s 5ms/step - loss: 1.1740 - mae: 0.4253 - val_loss: 0.5070 - val_mae: 0.3070\n",
      "Epoch 30/500\n",
      "785/785 [==============================] - 4s 5ms/step - loss: 1.0032 - mae: 0.3968 - val_loss: 0.7358 - val_mae: 0.3217\n",
      "Epoch 31/500\n",
      "785/785 [==============================] - 4s 5ms/step - loss: 1.0878 - mae: 0.4078 - val_loss: 0.5841 - val_mae: 0.3585\n",
      "Epoch 32/500\n",
      "785/785 [==============================] - 5s 6ms/step - loss: 0.9634 - mae: 0.3884 - val_loss: 1.6971 - val_mae: 0.4345\n",
      "Epoch 33/500\n",
      "785/785 [==============================] - 4s 5ms/step - loss: 1.4774 - mae: 0.4901 - val_loss: 0.8898 - val_mae: 0.3870\n",
      "Epoch 34/500\n",
      "785/785 [==============================] - 5s 6ms/step - loss: 1.1786 - mae: 0.4273 - val_loss: 0.8126 - val_mae: 0.3534\n",
      "Epoch 35/500\n",
      "785/785 [==============================] - 4s 5ms/step - loss: 1.1988 - mae: 0.4382 - val_loss: 0.5684 - val_mae: 0.3135\n",
      "Epoch 36/500\n",
      "785/785 [==============================] - 4s 5ms/step - loss: 1.1218 - mae: 0.4312 - val_loss: 1.2100 - val_mae: 0.4112\n",
      "Epoch 37/500\n",
      "785/785 [==============================] - 4s 5ms/step - loss: 0.9098 - mae: 0.3705 - val_loss: 0.5340 - val_mae: 0.3038\n",
      "Epoch 38/500\n",
      "785/785 [==============================] - 4s 5ms/step - loss: 1.0018 - mae: 0.3888 - val_loss: 0.7414 - val_mae: 0.3454\n",
      "Epoch 39/500\n",
      "785/785 [==============================] - 4s 5ms/step - loss: 0.9118 - mae: 0.3762 - val_loss: 1.3992 - val_mae: 0.4576\n",
      "Epoch 40/500\n",
      "785/785 [==============================] - 4s 5ms/step - loss: 1.2671 - mae: 0.4487 - val_loss: 0.9305 - val_mae: 0.4294\n",
      "Epoch 41/500\n",
      "785/785 [==============================] - 5s 6ms/step - loss: 0.9989 - mae: 0.3896 - val_loss: 1.5140 - val_mae: 0.4538\n",
      "Epoch 42/500\n",
      "785/785 [==============================] - 4s 5ms/step - loss: 0.8708 - mae: 0.3624 - val_loss: 1.2080 - val_mae: 0.4126\n",
      "Epoch 43/500\n",
      "785/785 [==============================] - 4s 5ms/step - loss: 0.8984 - mae: 0.3673 - val_loss: 2.0344 - val_mae: 0.6365\n",
      "Epoch 44/500\n",
      "785/785 [==============================] - 4s 5ms/step - loss: 1.0672 - mae: 0.4038 - val_loss: 0.8130 - val_mae: 0.3471\n",
      "Epoch 45/500\n",
      "785/785 [==============================] - 4s 5ms/step - loss: 0.7546 - mae: 0.3357 - val_loss: 0.7079 - val_mae: 0.3208\n",
      "Epoch 46/500\n",
      "785/785 [==============================] - 6s 7ms/step - loss: 1.0676 - mae: 0.3932 - val_loss: 1.3688 - val_mae: 0.5064\n",
      "Epoch 47/500\n",
      "785/785 [==============================] - 4s 5ms/step - loss: 1.0912 - mae: 0.4042 - val_loss: 2.0691 - val_mae: 0.8903\n",
      "Epoch 48/500\n",
      "785/785 [==============================] - 4s 5ms/step - loss: 1.0609 - mae: 0.4048 - val_loss: 0.7497 - val_mae: 0.3518\n",
      "Epoch 49/500\n",
      "785/785 [==============================] - 4s 5ms/step - loss: 0.7865 - mae: 0.3420 - val_loss: 0.6517 - val_mae: 0.3358\n",
      "Epoch 50/500\n",
      "785/785 [==============================] - 4s 6ms/step - loss: 1.0056 - mae: 0.3957 - val_loss: 0.5947 - val_mae: 0.3091\n",
      "Epoch 51/500\n",
      "785/785 [==============================] - 4s 5ms/step - loss: 0.8586 - mae: 0.3557 - val_loss: 0.5903 - val_mae: 0.3035\n",
      "Epoch 52/500\n",
      "785/785 [==============================] - 4s 5ms/step - loss: 0.9841 - mae: 0.3767 - val_loss: 0.9252 - val_mae: 0.3655\n",
      "Epoch 53/500\n",
      "785/785 [==============================] - 4s 6ms/step - loss: 0.7444 - mae: 0.3329 - val_loss: 0.8336 - val_mae: 0.3599\n",
      "Epoch 54/500\n",
      "785/785 [==============================] - 4s 5ms/step - loss: 0.9167 - mae: 0.3683 - val_loss: 0.9482 - val_mae: 0.4105\n",
      "Epoch 55/500\n",
      "785/785 [==============================] - 4s 5ms/step - loss: 0.6695 - mae: 0.3121 - val_loss: 1.0549 - val_mae: 0.4697\n",
      "Epoch 56/500\n",
      "785/785 [==============================] - 4s 6ms/step - loss: 1.1374 - mae: 0.4106 - val_loss: 0.5680 - val_mae: 0.2897\n",
      "Epoch 57/500\n",
      "785/785 [==============================] - 4s 5ms/step - loss: 0.9437 - mae: 0.3734 - val_loss: 0.6206 - val_mae: 0.3052\n",
      "Epoch 58/500\n",
      "785/785 [==============================] - 4s 6ms/step - loss: 0.7669 - mae: 0.3292 - val_loss: 0.4507 - val_mae: 0.2699\n",
      "Epoch 59/500\n",
      "785/785 [==============================] - 4s 5ms/step - loss: 0.9572 - mae: 0.3715 - val_loss: 0.4971 - val_mae: 0.2951\n",
      "Epoch 60/500\n",
      "785/785 [==============================] - 4s 5ms/step - loss: 0.7244 - mae: 0.3114 - val_loss: 0.5247 - val_mae: 0.2927\n",
      "Epoch 61/500\n",
      "785/785 [==============================] - 4s 4ms/step - loss: 0.7920 - mae: 0.3344 - val_loss: 0.5969 - val_mae: 0.3089\n",
      "Epoch 62/500\n",
      "785/785 [==============================] - 4s 5ms/step - loss: 1.0200 - mae: 0.3936 - val_loss: 0.6197 - val_mae: 0.3633\n",
      "Epoch 63/500\n",
      "785/785 [==============================] - 4s 5ms/step - loss: 1.0349 - mae: 0.3860 - val_loss: 0.4618 - val_mae: 0.2654\n",
      "Epoch 64/500\n",
      "785/785 [==============================] - 3s 4ms/step - loss: 0.7811 - mae: 0.3324 - val_loss: 0.5246 - val_mae: 0.2830\n",
      "Epoch 65/500\n",
      "785/785 [==============================] - 5s 6ms/step - loss: 0.7878 - mae: 0.3299 - val_loss: 1.0219 - val_mae: 0.3788\n",
      "Epoch 66/500\n",
      "785/785 [==============================] - 5s 7ms/step - loss: 1.0479 - mae: 0.3962 - val_loss: 0.5163 - val_mae: 0.2870\n",
      "Epoch 67/500\n",
      "785/785 [==============================] - 3s 4ms/step - loss: 0.8094 - mae: 0.3352 - val_loss: 0.6092 - val_mae: 0.2890\n",
      "Epoch 68/500\n",
      "785/785 [==============================] - 4s 6ms/step - loss: 0.7673 - mae: 0.3332 - val_loss: 0.8706 - val_mae: 0.4126\n",
      "Epoch 69/500\n",
      "785/785 [==============================] - 5s 7ms/step - loss: 0.9644 - mae: 0.3647 - val_loss: 0.4914 - val_mae: 0.2605\n",
      "Epoch 70/500\n",
      "785/785 [==============================] - 4s 5ms/step - loss: 0.6261 - mae: 0.2994 - val_loss: 0.5536 - val_mae: 0.2783\n",
      "Epoch 71/500\n",
      "785/785 [==============================] - 5s 6ms/step - loss: 0.7535 - mae: 0.3293 - val_loss: 0.6588 - val_mae: 0.3286\n",
      "Epoch 72/500\n",
      "785/785 [==============================] - 4s 5ms/step - loss: 0.7827 - mae: 0.3309 - val_loss: 0.6080 - val_mae: 0.3285\n",
      "Epoch 73/500\n",
      "785/785 [==============================] - 5s 6ms/step - loss: 1.0676 - mae: 0.3901 - val_loss: 0.7475 - val_mae: 0.3669\n",
      "Epoch 74/500\n",
      "785/785 [==============================] - 4s 5ms/step - loss: 0.7085 - mae: 0.3196 - val_loss: 0.6916 - val_mae: 0.3366\n",
      "Epoch 75/500\n",
      "785/785 [==============================] - 3s 4ms/step - loss: 0.6814 - mae: 0.3121 - val_loss: 0.6331 - val_mae: 0.3044\n",
      "Epoch 76/500\n",
      "785/785 [==============================] - 4s 5ms/step - loss: 0.5509 - mae: 0.2815 - val_loss: 0.3955 - val_mae: 0.2467\n",
      "Epoch 77/500\n",
      "785/785 [==============================] - 5s 7ms/step - loss: 0.7018 - mae: 0.3129 - val_loss: 0.3558 - val_mae: 0.2194\n",
      "Epoch 78/500\n",
      "785/785 [==============================] - 4s 5ms/step - loss: 0.6603 - mae: 0.3044 - val_loss: 0.7654 - val_mae: 0.3411\n",
      "Epoch 79/500\n",
      "785/785 [==============================] - 5s 6ms/step - loss: 0.8200 - mae: 0.3360 - val_loss: 0.8033 - val_mae: 0.2973\n",
      "Epoch 80/500\n",
      "785/785 [==============================] - 4s 5ms/step - loss: 0.6409 - mae: 0.2946 - val_loss: 0.5750 - val_mae: 0.2884\n",
      "Epoch 81/500\n",
      "785/785 [==============================] - 4s 5ms/step - loss: 0.6998 - mae: 0.3132 - val_loss: 0.3594 - val_mae: 0.2230\n",
      "Epoch 82/500\n",
      "785/785 [==============================] - 4s 5ms/step - loss: 0.5904 - mae: 0.2915 - val_loss: 0.6478 - val_mae: 0.2818\n",
      "Epoch 83/500\n",
      "785/785 [==============================] - 4s 5ms/step - loss: 0.5564 - mae: 0.2801 - val_loss: 0.4300 - val_mae: 0.2743\n",
      "Epoch 84/500\n",
      "785/785 [==============================] - 4s 5ms/step - loss: 0.6254 - mae: 0.2966 - val_loss: 0.7240 - val_mae: 0.3193\n",
      "Epoch 85/500\n",
      "785/785 [==============================] - 4s 6ms/step - loss: 0.9932 - mae: 0.3629 - val_loss: 0.4761 - val_mae: 0.2827\n",
      "Epoch 86/500\n",
      "785/785 [==============================] - 4s 4ms/step - loss: 0.6282 - mae: 0.3002 - val_loss: 0.4257 - val_mae: 0.2288\n",
      "Epoch 87/500\n",
      "785/785 [==============================] - 4s 6ms/step - loss: 0.7978 - mae: 0.3162 - val_loss: 1.4891 - val_mae: 0.6076\n",
      "Epoch 88/500\n",
      "785/785 [==============================] - 4s 5ms/step - loss: 0.7815 - mae: 0.3299 - val_loss: 0.8786 - val_mae: 0.3912\n",
      "Epoch 89/500\n",
      "785/785 [==============================] - 3s 4ms/step - loss: 0.7576 - mae: 0.3225 - val_loss: 0.4490 - val_mae: 0.2959\n",
      "Epoch 90/500\n",
      "785/785 [==============================] - 4s 6ms/step - loss: 0.4965 - mae: 0.2663 - val_loss: 0.7834 - val_mae: 0.3616\n",
      "Epoch 91/500\n",
      "785/785 [==============================] - 4s 5ms/step - loss: 0.6193 - mae: 0.2933 - val_loss: 0.4981 - val_mae: 0.2731\n",
      "Epoch 92/500\n",
      "785/785 [==============================] - 4s 5ms/step - loss: 0.7078 - mae: 0.3184 - val_loss: 0.5712 - val_mae: 0.3104\n",
      "Epoch 93/500\n",
      "785/785 [==============================] - 3s 4ms/step - loss: 0.5898 - mae: 0.2875 - val_loss: 0.7156 - val_mae: 0.2934\n",
      "Epoch 94/500\n",
      "785/785 [==============================] - 4s 5ms/step - loss: 0.6120 - mae: 0.2957 - val_loss: 0.5715 - val_mae: 0.2907\n",
      "Epoch 95/500\n",
      "785/785 [==============================] - 5s 6ms/step - loss: 0.5439 - mae: 0.2755 - val_loss: 0.9143 - val_mae: 0.4016\n",
      "Epoch 96/500\n",
      "785/785 [==============================] - 4s 5ms/step - loss: 0.5952 - mae: 0.2921 - val_loss: 0.7152 - val_mae: 0.3439\n",
      "Epoch 97/500\n",
      "785/785 [==============================] - 5s 6ms/step - loss: 0.7302 - mae: 0.3213 - val_loss: 0.4292 - val_mae: 0.2236\n",
      "Epoch 98/500\n",
      "785/785 [==============================] - 4s 5ms/step - loss: 0.8522 - mae: 0.3391 - val_loss: 0.5916 - val_mae: 0.2992\n",
      "Epoch 99/500\n",
      "785/785 [==============================] - 4s 5ms/step - loss: 0.6295 - mae: 0.2939 - val_loss: 0.6478 - val_mae: 0.3296\n",
      "Epoch 100/500\n",
      "785/785 [==============================] - 5s 6ms/step - loss: 0.5966 - mae: 0.2813 - val_loss: 0.7467 - val_mae: 0.3237\n",
      "Epoch 101/500\n",
      "785/785 [==============================] - 4s 5ms/step - loss: 0.7557 - mae: 0.3212 - val_loss: 0.7701 - val_mae: 0.3618\n",
      "Epoch 102/500\n",
      "785/785 [==============================] - 4s 5ms/step - loss: 0.6276 - mae: 0.2950 - val_loss: 1.3293 - val_mae: 0.4461\n",
      "Epoch 103/500\n",
      "785/785 [==============================] - 4s 5ms/step - loss: 0.6898 - mae: 0.3126 - val_loss: 0.5731 - val_mae: 0.2617\n",
      "Epoch 104/500\n",
      "785/785 [==============================] - 4s 5ms/step - loss: 0.5765 - mae: 0.2747 - val_loss: 0.4279 - val_mae: 0.2451\n",
      "Epoch 105/500\n",
      "785/785 [==============================] - 4s 5ms/step - loss: 0.8878 - mae: 0.3569 - val_loss: 0.7524 - val_mae: 0.3206\n",
      "Epoch 106/500\n",
      "785/785 [==============================] - 4s 5ms/step - loss: 0.5715 - mae: 0.2842 - val_loss: 0.7803 - val_mae: 0.3463\n",
      "Epoch 107/500\n",
      "785/785 [==============================] - 4s 5ms/step - loss: 0.6588 - mae: 0.2973 - val_loss: 1.5426 - val_mae: 0.5333\n",
      "Epoch 108/500\n",
      "785/785 [==============================] - 4s 5ms/step - loss: 0.6776 - mae: 0.3039 - val_loss: 0.2850 - val_mae: 0.2164\n",
      "Epoch 109/500\n",
      "785/785 [==============================] - 4s 5ms/step - loss: 0.5963 - mae: 0.2913 - val_loss: 0.3361 - val_mae: 0.2185\n",
      "Epoch 110/500\n",
      "785/785 [==============================] - 4s 5ms/step - loss: 0.4865 - mae: 0.2656 - val_loss: 0.4243 - val_mae: 0.2780\n",
      "Epoch 111/500\n",
      "785/785 [==============================] - 3s 4ms/step - loss: 0.5760 - mae: 0.2792 - val_loss: 0.5155 - val_mae: 0.2605\n",
      "Epoch 112/500\n",
      "785/785 [==============================] - 4s 5ms/step - loss: 0.4477 - mae: 0.2528 - val_loss: 0.4409 - val_mae: 0.2431\n",
      "Epoch 113/500\n",
      "785/785 [==============================] - 4s 4ms/step - loss: 0.5381 - mae: 0.2772 - val_loss: 0.2989 - val_mae: 0.2213\n",
      "Epoch 114/500\n",
      "785/785 [==============================] - 4s 5ms/step - loss: 0.4893 - mae: 0.2559 - val_loss: 0.5941 - val_mae: 0.2637\n",
      "Epoch 115/500\n",
      "785/785 [==============================] - 3s 4ms/step - loss: 0.5890 - mae: 0.2833 - val_loss: 0.4183 - val_mae: 0.2382\n",
      "Epoch 116/500\n",
      "785/785 [==============================] - 4s 5ms/step - loss: 0.5726 - mae: 0.2783 - val_loss: 0.5817 - val_mae: 0.3019\n",
      "Epoch 117/500\n",
      "785/785 [==============================] - 4s 6ms/step - loss: 0.8031 - mae: 0.3227 - val_loss: 1.0402 - val_mae: 0.3660\n",
      "Epoch 118/500\n",
      "785/785 [==============================] - 4s 5ms/step - loss: 0.5375 - mae: 0.2742 - val_loss: 1.1170 - val_mae: 0.3506\n",
      "Epoch 119/500\n",
      "785/785 [==============================] - 5s 6ms/step - loss: 0.6598 - mae: 0.2975 - val_loss: 0.2156 - val_mae: 0.1836\n",
      "Epoch 120/500\n",
      "785/785 [==============================] - 4s 5ms/step - loss: 0.5002 - mae: 0.2633 - val_loss: 0.6836 - val_mae: 0.3064\n",
      "Epoch 121/500\n",
      "785/785 [==============================] - 3s 4ms/step - loss: 0.6837 - mae: 0.2997 - val_loss: 0.3788 - val_mae: 0.2460\n",
      "Epoch 122/500\n",
      "785/785 [==============================] - 5s 6ms/step - loss: 0.6145 - mae: 0.2725 - val_loss: 1.4151 - val_mae: 0.5108\n",
      "Epoch 123/500\n",
      "785/785 [==============================] - 4s 5ms/step - loss: 0.5531 - mae: 0.2721 - val_loss: 0.2572 - val_mae: 0.2060\n",
      "Epoch 124/500\n",
      "785/785 [==============================] - 5s 7ms/step - loss: 0.4347 - mae: 0.2481 - val_loss: 0.5805 - val_mae: 0.2995\n",
      "Epoch 125/500\n",
      "785/785 [==============================] - 4s 5ms/step - loss: 0.4897 - mae: 0.2635 - val_loss: 1.2220 - val_mae: 0.5404\n",
      "Epoch 126/500\n",
      "785/785 [==============================] - 5s 6ms/step - loss: 0.5173 - mae: 0.2664 - val_loss: 0.7764 - val_mae: 0.3328\n",
      "Epoch 127/500\n",
      "785/785 [==============================] - 4s 5ms/step - loss: 0.6086 - mae: 0.2862 - val_loss: 0.2129 - val_mae: 0.1958\n",
      "Epoch 128/500\n",
      "785/785 [==============================] - 4s 5ms/step - loss: 0.6616 - mae: 0.2904 - val_loss: 1.3920 - val_mae: 0.3992\n",
      "Epoch 129/500\n",
      "785/785 [==============================] - 5s 6ms/step - loss: 0.4231 - mae: 0.2418 - val_loss: 3.3534 - val_mae: 0.5789\n",
      "Epoch 130/500\n",
      "785/785 [==============================] - 4s 5ms/step - loss: 0.6671 - mae: 0.3038 - val_loss: 0.4928 - val_mae: 0.2474\n",
      "Epoch 131/500\n",
      "785/785 [==============================] - 4s 5ms/step - loss: 0.4979 - mae: 0.2547 - val_loss: 0.2206 - val_mae: 0.1869\n",
      "Epoch 132/500\n",
      "785/785 [==============================] - 5s 7ms/step - loss: 0.5466 - mae: 0.2706 - val_loss: 0.8053 - val_mae: 0.3400\n",
      "Epoch 133/500\n",
      "785/785 [==============================] - 4s 5ms/step - loss: 0.4510 - mae: 0.2555 - val_loss: 0.2003 - val_mae: 0.1804\n",
      "Epoch 134/500\n",
      "785/785 [==============================] - 5s 6ms/step - loss: 0.6280 - mae: 0.2878 - val_loss: 0.7527 - val_mae: 0.3495\n",
      "Epoch 135/500\n",
      "785/785 [==============================] - 7s 8ms/step - loss: 0.4661 - mae: 0.2603 - val_loss: 0.2802 - val_mae: 0.2156\n",
      "Epoch 136/500\n",
      "785/785 [==============================] - 4s 5ms/step - loss: 0.5683 - mae: 0.2735 - val_loss: 1.0124 - val_mae: 0.3475\n",
      "Epoch 137/500\n",
      "785/785 [==============================] - 4s 5ms/step - loss: 0.4473 - mae: 0.2483 - val_loss: 0.1956 - val_mae: 0.1920\n",
      "Epoch 138/500\n",
      "785/785 [==============================] - 5s 6ms/step - loss: 0.5001 - mae: 0.2626 - val_loss: 0.9659 - val_mae: 0.3483\n",
      "Epoch 139/500\n",
      "785/785 [==============================] - 6s 7ms/step - loss: 0.6330 - mae: 0.2941 - val_loss: 0.3332 - val_mae: 0.2133\n",
      "Epoch 140/500\n",
      "785/785 [==============================] - 4s 6ms/step - loss: 0.4608 - mae: 0.2499 - val_loss: 0.4213 - val_mae: 0.2908\n",
      "Epoch 141/500\n",
      "785/785 [==============================] - 6s 7ms/step - loss: 0.4250 - mae: 0.2399 - val_loss: 0.2583 - val_mae: 0.2241\n",
      "Epoch 142/500\n",
      "785/785 [==============================] - 5s 6ms/step - loss: 0.6389 - mae: 0.2910 - val_loss: 0.6166 - val_mae: 0.2968\n",
      "Epoch 143/500\n",
      "785/785 [==============================] - 4s 5ms/step - loss: 0.4061 - mae: 0.2408 - val_loss: 0.4841 - val_mae: 0.2672\n",
      "Epoch 144/500\n",
      "785/785 [==============================] - 5s 6ms/step - loss: 0.4317 - mae: 0.2473 - val_loss: 0.2741 - val_mae: 0.1953\n",
      "Epoch 145/500\n",
      "785/785 [==============================] - 4s 5ms/step - loss: 0.6065 - mae: 0.2844 - val_loss: 0.4497 - val_mae: 0.2587\n",
      "Epoch 146/500\n",
      "785/785 [==============================] - 5s 7ms/step - loss: 0.5146 - mae: 0.2781 - val_loss: 1.7974 - val_mae: 0.4745\n",
      "Epoch 147/500\n",
      "785/785 [==============================] - 5s 6ms/step - loss: 0.4372 - mae: 0.2459 - val_loss: 0.7237 - val_mae: 0.3283\n",
      "Epoch 148/500\n",
      "785/785 [==============================] - 4s 5ms/step - loss: 0.6613 - mae: 0.2960 - val_loss: 1.2002 - val_mae: 0.3826\n",
      "Epoch 149/500\n",
      "785/785 [==============================] - 4s 5ms/step - loss: 0.3820 - mae: 0.2353 - val_loss: 0.3090 - val_mae: 0.2170\n",
      "Epoch 150/500\n",
      "785/785 [==============================] - 5s 6ms/step - loss: 0.6238 - mae: 0.2843 - val_loss: 0.4720 - val_mae: 0.2449\n",
      "Epoch 151/500\n",
      "785/785 [==============================] - 4s 5ms/step - loss: 0.4610 - mae: 0.2504 - val_loss: 0.5294 - val_mae: 0.2378\n",
      "Epoch 152/500\n",
      "785/785 [==============================] - 4s 6ms/step - loss: 0.7085 - mae: 0.2977 - val_loss: 0.4454 - val_mae: 0.2452\n",
      "Epoch 153/500\n",
      "785/785 [==============================] - 4s 5ms/step - loss: 0.4371 - mae: 0.2409 - val_loss: 0.1646 - val_mae: 0.1673\n",
      "Epoch 154/500\n",
      "785/785 [==============================] - 5s 6ms/step - loss: 0.3936 - mae: 0.2268 - val_loss: 0.7077 - val_mae: 0.3295\n",
      "Epoch 155/500\n",
      "785/785 [==============================] - 4s 5ms/step - loss: 0.4695 - mae: 0.2512 - val_loss: 0.2797 - val_mae: 0.1922\n",
      "Epoch 156/500\n",
      "785/785 [==============================] - 6s 8ms/step - loss: 0.4780 - mae: 0.2508 - val_loss: 0.1955 - val_mae: 0.1777\n",
      "Epoch 157/500\n",
      "785/785 [==============================] - 4s 5ms/step - loss: 0.2938 - mae: 0.2077 - val_loss: 0.3700 - val_mae: 0.2467\n",
      "Epoch 158/500\n",
      "785/785 [==============================] - 5s 6ms/step - loss: 0.5137 - mae: 0.2654 - val_loss: 0.3386 - val_mae: 0.2237\n",
      "Epoch 159/500\n",
      "785/785 [==============================] - 5s 7ms/step - loss: 0.4932 - mae: 0.2541 - val_loss: 0.2391 - val_mae: 0.2134\n",
      "Epoch 160/500\n",
      "785/785 [==============================] - 4s 5ms/step - loss: 0.3655 - mae: 0.2180 - val_loss: 2.2536 - val_mae: 0.4675\n",
      "Epoch 161/500\n",
      "785/785 [==============================] - 5s 6ms/step - loss: 0.4256 - mae: 0.2393 - val_loss: 0.1609 - val_mae: 0.1723\n",
      "Epoch 162/500\n",
      "785/785 [==============================] - 5s 6ms/step - loss: 0.5754 - mae: 0.2748 - val_loss: 0.3163 - val_mae: 0.2247\n",
      "Epoch 163/500\n",
      "785/785 [==============================] - 4s 5ms/step - loss: 0.5074 - mae: 0.2580 - val_loss: 0.5871 - val_mae: 0.2463\n",
      "Epoch 164/500\n",
      "785/785 [==============================] - 5s 6ms/step - loss: 0.3694 - mae: 0.2211 - val_loss: 0.2123 - val_mae: 0.1902\n",
      "Epoch 165/500\n",
      "785/785 [==============================] - 5s 6ms/step - loss: 0.5053 - mae: 0.2603 - val_loss: 0.4062 - val_mae: 0.2359\n",
      "Epoch 166/500\n",
      "785/785 [==============================] - 4s 6ms/step - loss: 0.2942 - mae: 0.2090 - val_loss: 0.3222 - val_mae: 0.2296\n",
      "Epoch 167/500\n",
      "785/785 [==============================] - 6s 7ms/step - loss: 0.4918 - mae: 0.2552 - val_loss: 2.5454 - val_mae: 0.6534\n",
      "Epoch 168/500\n",
      "785/785 [==============================] - 4s 5ms/step - loss: 0.5904 - mae: 0.2723 - val_loss: 0.9360 - val_mae: 0.3246\n",
      "Epoch 169/500\n",
      "785/785 [==============================] - 4s 5ms/step - loss: 0.3976 - mae: 0.2321 - val_loss: 0.4703 - val_mae: 0.2375\n",
      "Epoch 170/500\n",
      "785/785 [==============================] - 4s 5ms/step - loss: 0.3790 - mae: 0.2319 - val_loss: 0.7172 - val_mae: 0.2822\n",
      "Epoch 171/500\n",
      "785/785 [==============================] - 4s 5ms/step - loss: 0.3548 - mae: 0.2233 - val_loss: 0.1618 - val_mae: 0.1621\n",
      "Epoch 172/500\n",
      "785/785 [==============================] - 5s 6ms/step - loss: 0.4434 - mae: 0.2407 - val_loss: 0.7652 - val_mae: 0.2619\n",
      "Epoch 173/500\n",
      "785/785 [==============================] - 4s 6ms/step - loss: 0.4359 - mae: 0.2441 - val_loss: 0.7089 - val_mae: 0.2816\n",
      "Epoch 174/500\n",
      "785/785 [==============================] - 4s 5ms/step - loss: 0.3647 - mae: 0.2242 - val_loss: 0.3055 - val_mae: 0.2142\n",
      "Epoch 175/500\n",
      "785/785 [==============================] - 4s 5ms/step - loss: 0.4848 - mae: 0.2591 - val_loss: 0.7437 - val_mae: 0.3230\n",
      "Epoch 176/500\n",
      "785/785 [==============================] - 4s 5ms/step - loss: 0.5458 - mae: 0.2536 - val_loss: 0.3546 - val_mae: 0.2011\n",
      "Epoch 177/500\n",
      "785/785 [==============================] - 4s 6ms/step - loss: 0.4227 - mae: 0.2367 - val_loss: 0.4324 - val_mae: 0.2554\n",
      "Epoch 178/500\n",
      "785/785 [==============================] - 4s 5ms/step - loss: 0.4081 - mae: 0.2378 - val_loss: 0.3184 - val_mae: 0.2376\n",
      "Epoch 179/500\n",
      "785/785 [==============================] - 4s 5ms/step - loss: 0.3341 - mae: 0.2136 - val_loss: 0.5362 - val_mae: 0.2700\n",
      "Epoch 180/500\n",
      "785/785 [==============================] - 5s 6ms/step - loss: 0.3347 - mae: 0.2169 - val_loss: 0.5774 - val_mae: 0.3305\n",
      "Epoch 181/500\n",
      "785/785 [==============================] - 4s 5ms/step - loss: 0.3751 - mae: 0.2290 - val_loss: 0.5160 - val_mae: 0.2721\n",
      "Epoch 182/500\n",
      "785/785 [==============================] - 4s 5ms/step - loss: 0.5492 - mae: 0.2674 - val_loss: 0.2281 - val_mae: 0.2222\n",
      "Epoch 183/500\n",
      "785/785 [==============================] - 4s 5ms/step - loss: 0.5143 - mae: 0.2520 - val_loss: 0.2589 - val_mae: 0.1991\n",
      "Epoch 184/500\n",
      "785/785 [==============================] - 5s 7ms/step - loss: 0.3758 - mae: 0.2282 - val_loss: 0.5026 - val_mae: 0.2211\n",
      "Epoch 185/500\n",
      "785/785 [==============================] - 4s 5ms/step - loss: 0.3739 - mae: 0.2245 - val_loss: 0.2676 - val_mae: 0.2006\n",
      "Epoch 186/500\n",
      "785/785 [==============================] - 4s 5ms/step - loss: 0.4349 - mae: 0.2392 - val_loss: 0.1763 - val_mae: 0.1794\n",
      "Epoch 187/500\n",
      "785/785 [==============================] - 5s 6ms/step - loss: 0.4623 - mae: 0.2463 - val_loss: 0.3666 - val_mae: 0.2048\n",
      "Epoch 188/500\n",
      "785/785 [==============================] - 5s 6ms/step - loss: 0.2806 - mae: 0.2015 - val_loss: 0.4474 - val_mae: 0.2684\n",
      "Epoch 189/500\n",
      "785/785 [==============================] - 4s 5ms/step - loss: 0.4696 - mae: 0.2521 - val_loss: 0.2702 - val_mae: 0.2010\n",
      "Epoch 190/500\n",
      "785/785 [==============================] - 4s 5ms/step - loss: 0.3066 - mae: 0.2061 - val_loss: 0.5108 - val_mae: 0.2370\n",
      "Epoch 191/500\n",
      "785/785 [==============================] - 4s 5ms/step - loss: 0.3539 - mae: 0.2281 - val_loss: 0.4717 - val_mae: 0.2853\n",
      "Epoch 192/500\n",
      "785/785 [==============================] - 4s 5ms/step - loss: 0.4114 - mae: 0.2357 - val_loss: 0.7008 - val_mae: 0.3450\n",
      "Epoch 193/500\n",
      "785/785 [==============================] - 4s 5ms/step - loss: 0.3886 - mae: 0.2351 - val_loss: 0.3376 - val_mae: 0.2534\n",
      "Epoch 194/500\n",
      "785/785 [==============================] - 4s 6ms/step - loss: 0.2843 - mae: 0.2071 - val_loss: 0.1940 - val_mae: 0.1613\n",
      "Epoch 195/500\n",
      "785/785 [==============================] - 5s 7ms/step - loss: 0.4829 - mae: 0.2594 - val_loss: 0.2054 - val_mae: 0.1973\n",
      "Epoch 196/500\n",
      "785/785 [==============================] - 4s 5ms/step - loss: 0.2936 - mae: 0.2069 - val_loss: 0.5608 - val_mae: 0.2404\n",
      "Epoch 197/500\n",
      "785/785 [==============================] - 4s 5ms/step - loss: 0.4768 - mae: 0.2506 - val_loss: 0.4663 - val_mae: 0.2507\n",
      "Epoch 198/500\n",
      "785/785 [==============================] - 4s 5ms/step - loss: 0.2976 - mae: 0.2038 - val_loss: 0.1363 - val_mae: 0.1535\n",
      "Epoch 199/500\n",
      "785/785 [==============================] - 5s 6ms/step - loss: 0.5611 - mae: 0.2715 - val_loss: 0.1759 - val_mae: 0.1705\n",
      "Epoch 200/500\n",
      "785/785 [==============================] - 4s 5ms/step - loss: 0.4210 - mae: 0.2420 - val_loss: 0.1390 - val_mae: 0.1623\n",
      "Epoch 201/500\n",
      "785/785 [==============================] - 4s 5ms/step - loss: 0.3041 - mae: 0.2089 - val_loss: 0.4023 - val_mae: 0.2286\n",
      "Epoch 202/500\n",
      "785/785 [==============================] - 4s 5ms/step - loss: 0.4776 - mae: 0.2507 - val_loss: 0.1689 - val_mae: 0.1826\n",
      "Epoch 203/500\n",
      "785/785 [==============================] - 5s 6ms/step - loss: 0.4343 - mae: 0.2418 - val_loss: 0.3167 - val_mae: 0.2119\n",
      "Epoch 204/500\n",
      "785/785 [==============================] - 4s 5ms/step - loss: 0.2696 - mae: 0.1971 - val_loss: 0.2183 - val_mae: 0.1790\n",
      "Epoch 205/500\n",
      "785/785 [==============================] - 4s 5ms/step - loss: 0.3981 - mae: 0.2339 - val_loss: 1.6975 - val_mae: 0.4075\n",
      "Epoch 206/500\n",
      "785/785 [==============================] - 4s 5ms/step - loss: 0.3320 - mae: 0.2189 - val_loss: 0.2242 - val_mae: 0.1939\n",
      "Epoch 207/500\n",
      "785/785 [==============================] - 5s 7ms/step - loss: 0.2816 - mae: 0.1988 - val_loss: 0.1873 - val_mae: 0.1824\n",
      "Epoch 208/500\n",
      "785/785 [==============================] - 5s 6ms/step - loss: 0.3998 - mae: 0.2363 - val_loss: 0.1757 - val_mae: 0.1637\n",
      "Epoch 209/500\n",
      "785/785 [==============================] - 4s 6ms/step - loss: 0.3431 - mae: 0.2178 - val_loss: 0.1647 - val_mae: 0.1646\n",
      "Epoch 210/500\n",
      "785/785 [==============================] - 5s 6ms/step - loss: 0.4638 - mae: 0.2427 - val_loss: 0.7384 - val_mae: 0.3462\n",
      "Epoch 211/500\n",
      "785/785 [==============================] - 4s 5ms/step - loss: 0.2978 - mae: 0.2057 - val_loss: 0.5364 - val_mae: 0.2657\n",
      "Epoch 212/500\n",
      "785/785 [==============================] - 4s 5ms/step - loss: 0.4412 - mae: 0.2492 - val_loss: 0.9334 - val_mae: 0.3402\n",
      "Epoch 213/500\n",
      "785/785 [==============================] - 4s 5ms/step - loss: 0.3074 - mae: 0.2112 - val_loss: 0.4873 - val_mae: 0.2909\n",
      "Epoch 214/500\n",
      "785/785 [==============================] - 5s 7ms/step - loss: 0.3533 - mae: 0.2235 - val_loss: 0.3819 - val_mae: 0.2222\n",
      "Epoch 215/500\n",
      "785/785 [==============================] - 4s 5ms/step - loss: 0.4092 - mae: 0.2347 - val_loss: 0.3591 - val_mae: 0.2204\n",
      "Epoch 216/500\n",
      "785/785 [==============================] - 5s 6ms/step - loss: 0.3651 - mae: 0.2271 - val_loss: 0.1586 - val_mae: 0.1790\n",
      "Epoch 217/500\n",
      "785/785 [==============================] - 5s 7ms/step - loss: 0.3698 - mae: 0.2207 - val_loss: 0.5106 - val_mae: 0.2400\n",
      "Epoch 218/500\n",
      "785/785 [==============================] - 8s 10ms/step - loss: 0.3303 - mae: 0.2120 - val_loss: 0.1286 - val_mae: 0.1396\n",
      "Epoch 219/500\n",
      "785/785 [==============================] - 5s 6ms/step - loss: 0.3697 - mae: 0.2199 - val_loss: 0.2850 - val_mae: 0.2073\n",
      "Epoch 220/500\n",
      "785/785 [==============================] - 4s 5ms/step - loss: 0.3481 - mae: 0.2234 - val_loss: 0.5153 - val_mae: 0.3204\n",
      "Epoch 221/500\n",
      "785/785 [==============================] - 4s 5ms/step - loss: 0.2971 - mae: 0.2121 - val_loss: 0.1316 - val_mae: 0.1557\n",
      "Epoch 222/500\n",
      "785/785 [==============================] - 5s 6ms/step - loss: 0.4191 - mae: 0.2311 - val_loss: 0.1372 - val_mae: 0.1559\n",
      "Epoch 223/500\n",
      "785/785 [==============================] - 4s 6ms/step - loss: 0.3717 - mae: 0.2168 - val_loss: 0.0889 - val_mae: 0.1344\n",
      "Epoch 224/500\n",
      "785/785 [==============================] - 4s 5ms/step - loss: 0.3102 - mae: 0.2038 - val_loss: 0.0789 - val_mae: 0.1289\n",
      "Epoch 225/500\n",
      "785/785 [==============================] - 4s 5ms/step - loss: 0.3119 - mae: 0.2099 - val_loss: 0.1462 - val_mae: 0.1580\n",
      "Epoch 226/500\n",
      "785/785 [==============================] - 4s 5ms/step - loss: 0.4680 - mae: 0.2443 - val_loss: 0.1217 - val_mae: 0.1609\n",
      "Epoch 227/500\n",
      "785/785 [==============================] - 4s 5ms/step - loss: 0.5302 - mae: 0.2568 - val_loss: 0.3033 - val_mae: 0.2234\n",
      "Epoch 228/500\n",
      "785/785 [==============================] - 4s 5ms/step - loss: 0.2343 - mae: 0.1847 - val_loss: 0.1402 - val_mae: 0.1568\n",
      "Epoch 229/500\n",
      "785/785 [==============================] - 4s 5ms/step - loss: 0.3372 - mae: 0.2105 - val_loss: 0.4033 - val_mae: 0.2339\n",
      "Epoch 230/500\n",
      "785/785 [==============================] - 4s 5ms/step - loss: 0.3455 - mae: 0.2217 - val_loss: 0.5992 - val_mae: 0.2811\n",
      "Epoch 231/500\n",
      "785/785 [==============================] - 4s 5ms/step - loss: 0.3449 - mae: 0.2177 - val_loss: 0.2009 - val_mae: 0.1816\n",
      "Epoch 232/500\n",
      "785/785 [==============================] - 5s 7ms/step - loss: 0.3372 - mae: 0.2207 - val_loss: 0.2985 - val_mae: 0.2298\n",
      "Epoch 233/500\n",
      "785/785 [==============================] - 7s 8ms/step - loss: 0.4890 - mae: 0.2574 - val_loss: 0.2947 - val_mae: 0.2228\n",
      "Epoch 234/500\n",
      "785/785 [==============================] - 4s 5ms/step - loss: 0.3237 - mae: 0.2088 - val_loss: 0.1878 - val_mae: 0.1789\n",
      "Epoch 235/500\n",
      "785/785 [==============================] - 4s 5ms/step - loss: 0.3811 - mae: 0.2199 - val_loss: 0.1245 - val_mae: 0.1543\n",
      "Epoch 236/500\n",
      "785/785 [==============================] - 4s 5ms/step - loss: 0.3118 - mae: 0.2001 - val_loss: 0.4679 - val_mae: 0.2922\n",
      "Epoch 237/500\n",
      "785/785 [==============================] - 4s 5ms/step - loss: 0.2828 - mae: 0.2005 - val_loss: 0.2800 - val_mae: 0.2031\n",
      "Epoch 238/500\n",
      "785/785 [==============================] - 4s 5ms/step - loss: 0.2769 - mae: 0.1957 - val_loss: 0.2058 - val_mae: 0.1753\n",
      "Epoch 239/500\n",
      "785/785 [==============================] - 4s 5ms/step - loss: 0.4091 - mae: 0.2243 - val_loss: 0.3320 - val_mae: 0.2344\n",
      "Epoch 240/500\n",
      "785/785 [==============================] - 5s 7ms/step - loss: 0.2148 - mae: 0.1797 - val_loss: 0.1181 - val_mae: 0.1603\n",
      "Epoch 241/500\n",
      "785/785 [==============================] - 5s 6ms/step - loss: 0.3362 - mae: 0.2149 - val_loss: 0.2449 - val_mae: 0.1765\n",
      "Epoch 242/500\n",
      "785/785 [==============================] - 5s 6ms/step - loss: 0.4770 - mae: 0.2480 - val_loss: 1.0310 - val_mae: 0.3752\n",
      "Epoch 243/500\n",
      "785/785 [==============================] - 4s 5ms/step - loss: 0.3397 - mae: 0.2145 - val_loss: 0.2858 - val_mae: 0.1990\n",
      "Epoch 244/500\n",
      "785/785 [==============================] - 5s 6ms/step - loss: 0.2728 - mae: 0.1954 - val_loss: 0.3189 - val_mae: 0.2488\n",
      "Epoch 245/500\n",
      "785/785 [==============================] - 4s 5ms/step - loss: 0.3555 - mae: 0.2092 - val_loss: 0.2707 - val_mae: 0.1918\n",
      "Epoch 246/500\n",
      "785/785 [==============================] - 5s 7ms/step - loss: 0.4403 - mae: 0.2330 - val_loss: 0.1576 - val_mae: 0.1696\n",
      "Epoch 247/500\n",
      "785/785 [==============================] - 4s 5ms/step - loss: 0.2798 - mae: 0.1927 - val_loss: 0.1268 - val_mae: 0.1479\n",
      "Epoch 248/500\n",
      "785/785 [==============================] - 4s 5ms/step - loss: 0.3031 - mae: 0.2032 - val_loss: 0.1432 - val_mae: 0.1585\n",
      "Epoch 249/500\n",
      "785/785 [==============================] - 4s 5ms/step - loss: 0.2869 - mae: 0.1972 - val_loss: 0.4101 - val_mae: 0.2611\n",
      "Epoch 250/500\n",
      "785/785 [==============================] - 5s 6ms/step - loss: 0.3098 - mae: 0.2047 - val_loss: 0.0853 - val_mae: 0.1381\n",
      "Epoch 251/500\n",
      "785/785 [==============================] - 4s 5ms/step - loss: 0.3860 - mae: 0.2259 - val_loss: 0.4234 - val_mae: 0.2387\n",
      "Epoch 252/500\n",
      "785/785 [==============================] - 5s 6ms/step - loss: 0.3405 - mae: 0.2180 - val_loss: 0.1122 - val_mae: 0.1467\n",
      "Epoch 253/500\n",
      "785/785 [==============================] - 4s 5ms/step - loss: 0.3124 - mae: 0.2105 - val_loss: 0.1507 - val_mae: 0.1758\n",
      "Epoch 254/500\n",
      "785/785 [==============================] - 4s 5ms/step - loss: 0.2674 - mae: 0.1929 - val_loss: 0.1487 - val_mae: 0.1686\n",
      "Epoch 255/500\n",
      "785/785 [==============================] - 4s 5ms/step - loss: 0.3644 - mae: 0.2228 - val_loss: 0.6659 - val_mae: 0.2908\n",
      "Epoch 256/500\n",
      "785/785 [==============================] - 5s 6ms/step - loss: 0.3366 - mae: 0.2135 - val_loss: 0.1870 - val_mae: 0.1760\n",
      "Epoch 257/500\n",
      "785/785 [==============================] - 4s 5ms/step - loss: 0.2435 - mae: 0.1892 - val_loss: 0.3210 - val_mae: 0.2039\n",
      "Epoch 258/500\n",
      "785/785 [==============================] - 4s 6ms/step - loss: 0.3875 - mae: 0.2194 - val_loss: 0.1003 - val_mae: 0.1500\n",
      "Epoch 259/500\n",
      "785/785 [==============================] - 4s 5ms/step - loss: 0.3299 - mae: 0.2102 - val_loss: 0.6673 - val_mae: 0.2996\n",
      "Epoch 260/500\n",
      "785/785 [==============================] - 4s 5ms/step - loss: 0.2518 - mae: 0.1871 - val_loss: 0.4635 - val_mae: 0.2792\n",
      "Epoch 261/500\n",
      "785/785 [==============================] - 4s 5ms/step - loss: 0.4353 - mae: 0.2416 - val_loss: 0.1427 - val_mae: 0.1617\n",
      "Epoch 262/500\n",
      "785/785 [==============================] - 5s 6ms/step - loss: 0.2135 - mae: 0.1787 - val_loss: 0.1487 - val_mae: 0.1743\n",
      "Epoch 263/500\n",
      "785/785 [==============================] - 4s 5ms/step - loss: 0.3505 - mae: 0.2161 - val_loss: 0.2250 - val_mae: 0.1858\n",
      "Epoch 264/500\n",
      "785/785 [==============================] - 5s 6ms/step - loss: 0.3721 - mae: 0.2213 - val_loss: 0.4167 - val_mae: 0.2265\n",
      "Epoch 265/500\n",
      "785/785 [==============================] - 4s 5ms/step - loss: 0.2297 - mae: 0.1811 - val_loss: 0.1904 - val_mae: 0.1955\n",
      "Epoch 266/500\n",
      "785/785 [==============================] - 4s 5ms/step - loss: 0.2570 - mae: 0.1936 - val_loss: 0.0878 - val_mae: 0.1327\n",
      "Epoch 267/500\n",
      "785/785 [==============================] - 5s 6ms/step - loss: 0.2349 - mae: 0.1845 - val_loss: 0.2304 - val_mae: 0.1902\n",
      "Epoch 268/500\n",
      "785/785 [==============================] - 5s 6ms/step - loss: 0.4435 - mae: 0.2429 - val_loss: 0.1052 - val_mae: 0.1381\n",
      "Epoch 269/500\n",
      "785/785 [==============================] - 4s 5ms/step - loss: 0.1712 - mae: 0.1642 - val_loss: 0.3003 - val_mae: 0.2019\n",
      "Epoch 270/500\n",
      "785/785 [==============================] - 4s 5ms/step - loss: 0.3216 - mae: 0.2011 - val_loss: 0.4188 - val_mae: 0.2622\n",
      "Epoch 271/500\n",
      "785/785 [==============================] - 4s 5ms/step - loss: 0.2550 - mae: 0.1919 - val_loss: 0.0891 - val_mae: 0.1376\n",
      "Epoch 272/500\n",
      "785/785 [==============================] - 4s 5ms/step - loss: 0.3399 - mae: 0.2150 - val_loss: 0.2037 - val_mae: 0.1793\n",
      "Epoch 273/500\n",
      "785/785 [==============================] - 5s 6ms/step - loss: 0.2291 - mae: 0.1814 - val_loss: 0.0714 - val_mae: 0.1240\n",
      "Epoch 274/500\n",
      "785/785 [==============================] - 5s 7ms/step - loss: 0.3130 - mae: 0.2081 - val_loss: 0.4198 - val_mae: 0.2347\n",
      "Epoch 275/500\n",
      "785/785 [==============================] - 5s 7ms/step - loss: 0.3409 - mae: 0.2131 - val_loss: 0.1559 - val_mae: 0.1562\n",
      "Epoch 276/500\n",
      "785/785 [==============================] - 4s 5ms/step - loss: 0.3284 - mae: 0.2066 - val_loss: 0.2360 - val_mae: 0.1764\n",
      "Epoch 277/500\n",
      "785/785 [==============================] - 4s 5ms/step - loss: 0.3305 - mae: 0.2157 - val_loss: 0.0789 - val_mae: 0.1287\n",
      "Epoch 278/500\n",
      "785/785 [==============================] - 4s 5ms/step - loss: 0.1611 - mae: 0.1636 - val_loss: 0.2613 - val_mae: 0.2086\n",
      "Epoch 279/500\n",
      "785/785 [==============================] - 4s 6ms/step - loss: 0.2947 - mae: 0.2059 - val_loss: 0.2154 - val_mae: 0.1859\n",
      "Epoch 280/500\n",
      "785/785 [==============================] - 4s 5ms/step - loss: 0.2496 - mae: 0.1898 - val_loss: 0.4885 - val_mae: 0.2583\n",
      "Epoch 281/500\n",
      "785/785 [==============================] - 5s 6ms/step - loss: 0.2632 - mae: 0.1930 - val_loss: 0.3804 - val_mae: 0.2253\n",
      "Epoch 282/500\n",
      "785/785 [==============================] - 4s 5ms/step - loss: 0.4023 - mae: 0.2327 - val_loss: 0.1575 - val_mae: 0.1623\n",
      "Epoch 283/500\n",
      "785/785 [==============================] - 4s 5ms/step - loss: 0.2432 - mae: 0.1902 - val_loss: 0.1058 - val_mae: 0.1399\n",
      "Epoch 284/500\n",
      "785/785 [==============================] - 4s 5ms/step - loss: 0.3441 - mae: 0.2058 - val_loss: 0.4241 - val_mae: 0.2434\n",
      "Epoch 285/500\n",
      "785/785 [==============================] - 4s 5ms/step - loss: 0.3278 - mae: 0.2052 - val_loss: 0.7941 - val_mae: 0.3922\n",
      "Epoch 286/500\n",
      "785/785 [==============================] - 5s 7ms/step - loss: 0.2683 - mae: 0.1880 - val_loss: 3.5666 - val_mae: 0.6143\n",
      "Epoch 287/500\n",
      "785/785 [==============================] - 4s 5ms/step - loss: 0.4840 - mae: 0.2561 - val_loss: 0.4716 - val_mae: 0.2481\n",
      "Epoch 288/500\n",
      "785/785 [==============================] - 5s 6ms/step - loss: 0.2900 - mae: 0.2021 - val_loss: 0.1206 - val_mae: 0.1448\n",
      "Epoch 289/500\n",
      "785/785 [==============================] - 6s 8ms/step - loss: 0.2084 - mae: 0.1769 - val_loss: 0.1380 - val_mae: 0.1614\n",
      "Epoch 290/500\n",
      "785/785 [==============================] - 4s 5ms/step - loss: 0.2993 - mae: 0.2010 - val_loss: 0.6878 - val_mae: 0.2790\n",
      "Epoch 291/500\n",
      "785/785 [==============================] - 4s 5ms/step - loss: 0.2989 - mae: 0.2001 - val_loss: 0.5042 - val_mae: 0.2457\n",
      "Epoch 292/500\n",
      "785/785 [==============================] - 4s 5ms/step - loss: 0.3334 - mae: 0.2120 - val_loss: 0.3147 - val_mae: 0.2055\n",
      "Epoch 293/500\n",
      "785/785 [==============================] - 5s 6ms/step - loss: 0.1796 - mae: 0.1664 - val_loss: 0.1560 - val_mae: 0.1633\n",
      "Epoch 294/500\n",
      "785/785 [==============================] - 4s 5ms/step - loss: 0.2724 - mae: 0.1948 - val_loss: 0.4660 - val_mae: 0.2448\n",
      "Epoch 295/500\n",
      "785/785 [==============================] - 4s 6ms/step - loss: 0.3603 - mae: 0.2211 - val_loss: 0.1340 - val_mae: 0.1606\n",
      "Epoch 296/500\n",
      "785/785 [==============================] - 4s 5ms/step - loss: 0.2181 - mae: 0.1786 - val_loss: 0.1553 - val_mae: 0.1683\n",
      "Epoch 297/500\n",
      "785/785 [==============================] - 5s 6ms/step - loss: 0.2266 - mae: 0.1773 - val_loss: 0.1285 - val_mae: 0.1598\n",
      "Epoch 298/500\n",
      "785/785 [==============================] - 5s 6ms/step - loss: 0.3299 - mae: 0.2029 - val_loss: 0.2408 - val_mae: 0.1986\n",
      "Epoch 299/500\n",
      "785/785 [==============================] - 4s 5ms/step - loss: 0.2296 - mae: 0.1823 - val_loss: 0.1280 - val_mae: 0.1706\n",
      "Epoch 300/500\n",
      "785/785 [==============================] - 4s 5ms/step - loss: 0.1870 - mae: 0.1686 - val_loss: 0.0895 - val_mae: 0.1311\n",
      "Epoch 301/500\n",
      "785/785 [==============================] - 4s 5ms/step - loss: 0.4789 - mae: 0.2423 - val_loss: 0.2443 - val_mae: 0.2106\n",
      "Epoch 302/500\n",
      "785/785 [==============================] - 4s 5ms/step - loss: 0.4231 - mae: 0.2324 - val_loss: 0.1358 - val_mae: 0.1435\n",
      "Epoch 303/500\n",
      "785/785 [==============================] - 4s 6ms/step - loss: 0.2893 - mae: 0.2023 - val_loss: 0.2988 - val_mae: 0.2138\n",
      "Epoch 304/500\n",
      "785/785 [==============================] - 4s 5ms/step - loss: 0.2405 - mae: 0.1903 - val_loss: 0.1568 - val_mae: 0.1614\n",
      "Epoch 305/500\n",
      "785/785 [==============================] - 4s 6ms/step - loss: 0.2511 - mae: 0.1892 - val_loss: 0.2070 - val_mae: 0.1687\n",
      "Epoch 306/500\n",
      "785/785 [==============================] - 4s 5ms/step - loss: 0.3006 - mae: 0.2038 - val_loss: 0.5275 - val_mae: 0.2606\n",
      "Epoch 307/500\n",
      "785/785 [==============================] - 4s 5ms/step - loss: 0.2477 - mae: 0.1918 - val_loss: 0.2400 - val_mae: 0.2036\n",
      "Epoch 308/500\n",
      "785/785 [==============================] - 5s 6ms/step - loss: 0.3023 - mae: 0.2074 - val_loss: 0.1615 - val_mae: 0.1655\n",
      "Epoch 309/500\n",
      "785/785 [==============================] - 4s 5ms/step - loss: 0.2413 - mae: 0.1870 - val_loss: 0.1798 - val_mae: 0.1659\n",
      "Epoch 310/500\n",
      "785/785 [==============================] - 4s 6ms/step - loss: 0.4151 - mae: 0.2391 - val_loss: 0.1538 - val_mae: 0.1569\n",
      "Epoch 311/500\n",
      "785/785 [==============================] - 4s 5ms/step - loss: 0.3216 - mae: 0.2118 - val_loss: 0.4033 - val_mae: 0.2397\n",
      "Epoch 312/500\n",
      "785/785 [==============================] - 4s 5ms/step - loss: 0.4005 - mae: 0.2229 - val_loss: 0.2362 - val_mae: 0.1968\n",
      "Epoch 313/500\n",
      "785/785 [==============================] - 4s 5ms/step - loss: 0.1549 - mae: 0.1594 - val_loss: 0.1124 - val_mae: 0.1445\n",
      "Epoch 314/500\n",
      "785/785 [==============================] - 4s 5ms/step - loss: 0.3108 - mae: 0.2016 - val_loss: 0.8099 - val_mae: 0.3360\n",
      "Epoch 315/500\n",
      "785/785 [==============================] - 4s 5ms/step - loss: 0.2563 - mae: 0.1883 - val_loss: 0.0951 - val_mae: 0.1406\n",
      "Epoch 316/500\n",
      "785/785 [==============================] - 4s 5ms/step - loss: 0.2928 - mae: 0.2013 - val_loss: 0.2328 - val_mae: 0.1849\n",
      "Epoch 317/500\n",
      "785/785 [==============================] - 4s 6ms/step - loss: 0.2630 - mae: 0.1883 - val_loss: 0.0985 - val_mae: 0.1487\n",
      "Epoch 318/500\n",
      "785/785 [==============================] - 4s 5ms/step - loss: 0.2571 - mae: 0.1900 - val_loss: 1.9653 - val_mae: 0.4828\n",
      "Epoch 319/500\n",
      "785/785 [==============================] - 5s 6ms/step - loss: 0.1986 - mae: 0.1749 - val_loss: 0.2051 - val_mae: 0.1818\n",
      "Epoch 320/500\n",
      "785/785 [==============================] - 5s 6ms/step - loss: 0.1921 - mae: 0.1734 - val_loss: 0.3501 - val_mae: 0.2408\n",
      "Epoch 321/500\n",
      "785/785 [==============================] - 5s 6ms/step - loss: 0.3209 - mae: 0.2127 - val_loss: 0.4567 - val_mae: 0.2531\n",
      "Epoch 322/500\n",
      "785/785 [==============================] - 4s 6ms/step - loss: 0.2646 - mae: 0.1966 - val_loss: 0.3375 - val_mae: 0.2196\n",
      "Epoch 323/500\n",
      "785/785 [==============================] - 4s 5ms/step - loss: 0.2966 - mae: 0.1894 - val_loss: 0.0944 - val_mae: 0.1285\n"
     ]
    }
   ],
   "source": [
    "history = ann.fit(X_train, y_train,\n",
    "                    validation_data = (X_val, y_val),\n",
    "                    callbacks=[es],\n",
    "                    epochs=500,\n",
    "                    batch_size=30,\n",
    "                    verbose=1)"
   ]
  },
  {
   "cell_type": "code",
   "execution_count": 22,
   "metadata": {
    "ExecuteTime": {
     "end_time": "2024-08-11T07:11:42.831356200Z",
     "start_time": "2024-08-11T07:11:42.113924500Z"
    }
   },
   "outputs": [
    {
     "data": {
      "text/plain": "<Figure size 640x480 with 1 Axes>",
      "image/png": "[encoded data removed]"
     },
     "metadata": {},
     "output_type": "display_data"
    }
   ],
   "source": [
    "# let's see the training and validation accuracy by epoch\n",
    "history_dict = history.history\n",
    "loss_values = history_dict['loss'] # you can change this\n",
    "val_loss_values = history_dict['val_loss'] # you can also change this\n",
    "epochs = range(1, len(loss_values) + 1) # range of X (no. of epochs)\n",
    "plt.plot(epochs, loss_values, 'blue', label='Train set loss')\n",
    "plt.plot(epochs, val_loss_values, 'orange', label='Validation set loss')\n",
    "#plt.title('Training and testing loss')\n",
    "plt.xlabel('Epochs')\n",
    "plt.ylabel('Loss (MSE)')\n",
    "plt.legend()\n",
    "plt.savefig('Section6_ANN2_2.png', dpi=300, bbox_inches='tight')\n",
    "plt.show()"
   ]
  },
  {
   "cell_type": "code",
   "execution_count": 23,
   "metadata": {
    "ExecuteTime": {
     "end_time": "2024-08-11T07:11:43.435492200Z",
     "start_time": "2024-08-11T07:11:42.815331900Z"
    }
   },
   "outputs": [
    {
     "data": {
      "text/plain": "<Figure size 640x480 with 1 Axes>",
      "image/png": "[encoded data removed]"
     },
     "metadata": {},
     "output_type": "display_data"
    }
   ],
   "source": [
    "loss_values1 = history_dict['mae'] # you can change this\n",
    "val_loss_values1 = history_dict['val_mae'] # you can also change this\n",
    "epochs = range(1, len(loss_values1) + 1) # range of X (no. of epochs)\n",
    "plt.plot(epochs, loss_values1, 'blue', label='Train set MAE')\n",
    "plt.plot(epochs, val_loss_values1, 'orange', label='Validation set MAE')\n",
    "#plt.title('Training and testing MAE')\n",
    "plt.xlabel('Epochs')\n",
    "plt.ylabel('MAE')\n",
    "plt.legend()\n",
    "plt.savefig('Section6_ANN2_2.png', dpi=300, bbox_inches='tight')\n",
    "plt.show()"
   ]
  },
  {
   "cell_type": "code",
   "execution_count": 24,
   "metadata": {
    "ExecuteTime": {
     "end_time": "2024-08-11T07:11:45.065669700Z",
     "start_time": "2024-08-11T07:11:43.408964400Z"
    }
   },
   "outputs": [
    {
     "name": "stdout",
     "output_type": "stream",
     "text": [
      "INFO:tensorflow:Assets written to: Section6_new_ANN_2\\assets\n"
     ]
    }
   ],
   "source": [
    "ann.save('Section6_new_ANN_2')\n",
    "import pickle\n",
    "pickle.dump(sc, open('Section6_new_scaler_ANN_2.pkl', 'wb'))"
   ]
  },
  {
   "cell_type": "markdown",
   "metadata": {},
   "source": [
    "## Part 5 - Make predictions"
   ]
  },
  {
   "cell_type": "code",
   "execution_count": 25,
   "metadata": {
    "ExecuteTime": {
     "end_time": "2024-08-11T07:11:49.337367700Z",
     "start_time": "2024-08-11T07:11:45.071669100Z"
    }
   },
   "outputs": [
    {
     "name": "stdout",
     "output_type": "stream",
     "text": [
      "736/736 [==============================] - 2s 2ms/step\n",
      "246/246 [==============================] - 1s 2ms/step\n"
     ]
    },
    {
     "data": {
      "text/plain": "<Figure size 640x480 with 2 Axes>",
      "image/png": "[encoded data removed]"
     },
     "metadata": {},
     "output_type": "display_data"
    }
   ],
   "source": [
    "# scatterplot of actual vs. pred\n",
    "# specify the dimensions \n",
    "fig, axes = plt.subplots(1,2) # 1 row, 2 columns\n",
    "\n",
    "# this makes the individual subplots\n",
    "# Training Results\n",
    "axes[0].scatter(x=y_train, y=ann.predict(X_train)) #first row, first entry (left top)\n",
    "axes[0].set_xlabel(\"Actual\", fontsize=10)\n",
    "axes[0].set_ylabel(\"Predicted\",  fontsize=10)\n",
    "axes[0].set_title(\"Training\")\n",
    "# add 45 deg line\n",
    "x = np.linspace(*axes[0].get_xlim())\n",
    "axes[0].plot(x, x, color='red')\n",
    "# Validation Results\n",
    "axes[1].scatter(x=y_val, y=ann.predict(X_val)) # first row, second entry (right top)\n",
    "axes[1].set_xlabel(\"Actual\", fontsize=10)\n",
    "axes[1].set_ylabel(\"Predicted\",  fontsize=10)\n",
    "axes[1].set_title(\"Validation\")\n",
    "# add 45 deg line\n",
    "x = np.linspace(*axes[1].get_xlim())\n",
    "axes[1].plot(x, x, color='red')\n",
    "\n",
    "# tight layout\n",
    "fig.tight_layout()\n",
    "\n",
    "plt.savefig('Section6_ANN2_1.png', dpi=300, bbox_inches='tight')\n",
    "# show the plot\n",
    "plt.show()"
   ]
  },
  {
   "cell_type": "code",
   "execution_count": 16,
   "metadata": {
    "colab": {
     "base_uri": "https://localhost:8080/",
     "height": 134
    },
    "colab_type": "code",
    "id": "IA0yApEmBG1X",
    "outputId": "cb981e1f-9204-4a2a-fece-9d66a6919189",
    "ExecuteTime": {
     "end_time": "2024-12-06T05:44:07.540612100Z",
     "start_time": "2024-12-06T05:40:00.752757400Z"
    }
   },
   "outputs": [
    {
     "name": "stdout",
     "output_type": "stream",
     "text": [
      "246/246 [==============================] - 246s 1s/step\n",
      "[[ 0.71  0.4 ]\n",
      " [-0.11 -0.19]\n",
      " [ 0.12  0.08]\n",
      " ...\n",
      " [ 7.07  7.53]\n",
      " [ 0.19  0.2 ]\n",
      " [ 0.28  0.27]]\n"
     ]
    }
   ],
   "source": [
    "y_pred = ann.predict(X_test)\n",
    "np.set_printoptions(precision=2)\n",
    "print(np.concatenate((y_pred.reshape(len(y_pred),1), y_test.reshape(len(y_test),1)),1))"
   ]
  },
  {
   "cell_type": "code",
   "execution_count": 17,
   "metadata": {
    "ExecuteTime": {
     "end_time": "2024-12-06T05:49:15.080805300Z",
     "start_time": "2024-12-06T05:49:14.565738500Z"
    }
   },
   "outputs": [
    {
     "data": {
      "text/plain": "Text(0, 0.5, 'Predicted data')"
     },
     "execution_count": 17,
     "metadata": {},
     "output_type": "execute_result"
    },
    {
     "data": {
      "text/plain": "<Figure size 640x480 with 1 Axes>",
      "image/png": "[encoded data removed]"
     },
     "metadata": {},
     "output_type": "display_data"
    }
   ],
   "source": [
    "import matplotlib.pyplot as plt\n",
    "plt.scatter(y_test+101.25, y_pred+101.25, color=\"blue\")\n",
    "plt.xlabel ('Actual data')\n",
    "plt.ylabel ('Predicted data')"
   ]
  },
  {
   "cell_type": "code",
   "execution_count": 22,
   "metadata": {
    "ExecuteTime": {
     "end_time": "2024-12-06T05:51:08.616330900Z",
     "start_time": "2024-12-06T05:51:07.315989400Z"
    }
   },
   "outputs": [
    {
     "data": {
      "text/plain": "<Figure size 600x600 with 1 Axes>",
      "image/png": "[encoded data removed]"
     },
     "metadata": {},
     "output_type": "display_data"
    }
   ],
   "source": [
    "from sklearn.metrics import r2_score\n",
    "# Initialize layout\n",
    "#plt.rcdefaults()\n",
    "fig1, ax1 = plt.subplots(figsize = (6, 6))\n",
    "\n",
    "# Set global font to Times New Roman and font size\n",
    "plt.rcParams['font.family'] = 'serif'\n",
    "plt.rcParams['font.serif'] = ['Times New Roman']\n",
    "plt.rcParams['font.size'] = 25\n",
    "\n",
    "b_l = 98\n",
    "u_l = 135\n",
    "\n",
    "# Add scatterplot\n",
    "ax1.scatter(y_test+101.25, y_pred+101.25, s=70, alpha=1, edgecolors=\"k\",c='mediumblue',zorder=5, label = 'Points')\n",
    "\n",
    "\n",
    "plt.ylabel('Predicted Reflected Pressure (kPa)',fontsize = 22)\n",
    "plt.xlabel('Target Reflected Pressure (kPa)',fontsize = 22)\n",
    "plt.xticks([100,105,110,115,120,125,130],fontsize = 22)\n",
    "plt.yticks([100,105,110,115,120,125,130],fontsize = 22)\n",
    "\n",
    "\n",
    "x1 = np.linspace(b_l, u_l)\n",
    "\n",
    "plt.plot(x1, x1, 'Red', label='45\\N{DEGREE SIGN} line',lw=2.5,alpha=1)\n",
    "#plt.plot(x1, 1.05*x1, '--m', label='\\u00B15% Error',lw=2.5,alpha=0.7)\n",
    "#plt.plot(x1, 0.95*x1,'m', linestyle='--',lw=2.5,alpha=0.7)\n",
    "#plt.plot(x1, 1.1*x1, '-.g', label='\\u00B110% Error',lw=2.5,alpha=0.7)\n",
    "#plt.plot(x1, 0.9*x1,'-.g',lw=2.5,alpha=0.7)\n",
    "#plt.plot(x1, 1.2*x1, color = '#F97306', linestyle='dotted', label='\\u00B120% Error',lw=2.5,alpha=0.7)\n",
    "#plt.plot(x1, 0.8*x1,color = '#F97306', linestyle='dotted', lw=2.5,alpha=0.7)\n",
    "\n",
    "plt.ylim(b_l, u_l)\n",
    "plt.xlim(b_l, u_l)\n",
    "#plt.legend(loc='upper center', bbox_to_anchor=(0.5, -0.15), ncol=4, frameon = False, fontsize = 20)\n",
    "\n",
    "#plt.grid()\n",
    "\n",
    "ax1.spines['left'].set_color('black')        # setting up Y-axis tick color to red\n",
    "ax1.spines['bottom'].set_color('black')       #setting up above X-axis tick color to red\n",
    "\n",
    "plt.savefig('Section6_ANN2_new.png', dpi=200, bbox_inches='tight')"
   ]
  },
  {
   "cell_type": "code",
   "execution_count": 29,
   "metadata": {
    "ExecuteTime": {
     "end_time": "2024-08-11T07:11:53.474132400Z",
     "start_time": "2024-08-11T07:11:51.436086900Z"
    }
   },
   "outputs": [
    {
     "name": "stdout",
     "output_type": "stream",
     "text": [
      "736/736 [==============================] - 2s 2ms/step\n",
      "0.11871900044281578\n",
      "0.12784641366455748\n"
     ]
    }
   ],
   "source": [
    "# metrics\n",
    "trainpreds = ann.predict(X_train)\n",
    "\n",
    "from sklearn.metrics import mean_absolute_error\n",
    "print(mean_absolute_error(y_train, trainpreds)) # train\n",
    "print(mean_absolute_error(y_test, y_pred)) # test"
   ]
  },
  {
   "cell_type": "code",
   "execution_count": 23,
   "metadata": {
    "ExecuteTime": {
     "end_time": "2024-12-06T05:51:28.511401400Z",
     "start_time": "2024-12-06T05:51:28.395722400Z"
    }
   },
   "outputs": [
    {
     "name": "stdout",
     "output_type": "stream",
     "text": [
      "0.9941785400603756\n"
     ]
    }
   ],
   "source": [
    "from sklearn.metrics import r2_score\n",
    "r2 = r2_score(y_test+101.25, y_pred+101.25)\n",
    "print (r2)"
   ]
  },
  {
   "cell_type": "code",
   "execution_count": 31,
   "metadata": {
    "ExecuteTime": {
     "end_time": "2024-08-11T07:11:53.669839400Z",
     "start_time": "2024-08-11T07:11:53.466121700Z"
    }
   },
   "outputs": [
    {
     "name": "stdout",
     "output_type": "stream",
     "text": [
      "0.9954717261659859\n"
     ]
    }
   ],
   "source": [
    "r2_train = r2_score(y_train, trainpreds)\n",
    "print (r2_train)"
   ]
  },
  {
   "cell_type": "code",
   "execution_count": 32,
   "metadata": {
    "ExecuteTime": {
     "end_time": "2024-08-11T07:11:54.523030300Z",
     "start_time": "2024-08-11T07:11:53.636300700Z"
    }
   },
   "outputs": [
    {
     "name": "stdout",
     "output_type": "stream",
     "text": [
      "Within 5% margin 49.97%\n",
      "Within 10% margin 67.24%\n",
      "Within 20% margin 78.40%\n",
      "Out of 20% margin 21.60%\n"
     ]
    }
   ],
   "source": [
    "count0 = 0\n",
    "for i in range(len(y_pred)):\n",
    "    line1 = y_pred[i] - 0.95*y_test[i]\n",
    "    line2 = y_pred[i] - 1.05*y_test[i]\n",
    "    mask0 = (line1 > 0) & (line2 < 0)\n",
    "    count0 = np.sum(mask0+count0)\n",
    "\n",
    "count1 = 0\n",
    "for i in range(len(y_pred)):\n",
    "    line1 = y_pred[i] - 0.9*y_test[i]\n",
    "    line2 = y_pred[i] - 1.1*y_test[i]\n",
    "    mask1 = (line1 > 0) & (line2 < 0)\n",
    "    count1 = np.sum(mask1+count1)\n",
    "\n",
    "count2 = 0\n",
    "for j in range(len(y_pred)):\n",
    "    line3 = y_pred[j] - 0.8*y_test[j]\n",
    "    line4 = y_pred[j] - 1.2*y_test[j]\n",
    "    mask2 = (line3 > 0) & (line4 < 0)\n",
    "    count2 = np.sum(mask2+count2)\n",
    "\n",
    "\n",
    "count3 = 0    \n",
    "for k in range(len(y_pred)):\n",
    "    line5 = y_pred[k] - 0.8*y_test[k]\n",
    "    line6 = y_pred[k] - 1.2*y_test[k]\n",
    "    mask3 = (line5 < 0) or (line6 > 0)\n",
    "    count3 = np.sum(mask3+count3)\n",
    "   \n",
    "\n",
    "print ('Within 5% margin', format((count0/len (y_pred)),'.2%'))\n",
    "print ('Within 10% margin', format((count1/len (y_pred)),'.2%'))\n",
    "print ('Within 20% margin', format((count2/len (y_pred)),'.2%'))\n",
    "print ('Out of 20% margin', format((count3/len (y_pred)),'.2%'))"
   ]
  },
  {
   "cell_type": "code",
   "execution_count": 24,
   "metadata": {
    "ExecuteTime": {
     "end_time": "2024-12-06T05:51:34.011848Z",
     "start_time": "2024-12-06T05:51:33.993699200Z"
    }
   },
   "outputs": [
    {
     "name": "stdout",
     "output_type": "stream",
     "text": [
      "0.9941740842931046\n"
     ]
    }
   ],
   "source": [
    "adj_r2 = 1 - ((1 - r2) * (len(X_test) - 1) / (len(X_test) - len (X_test[0]) - 1))\n",
    "print (adj_r2)"
   ]
  },
  {
   "cell_type": "code",
   "execution_count": 25,
   "metadata": {
    "ExecuteTime": {
     "end_time": "2024-12-06T05:51:47.285201200Z",
     "start_time": "2024-12-06T05:51:47.190196300Z"
    }
   },
   "outputs": [
    {
     "data": {
      "text/plain": "0.28671391623477255"
     },
     "execution_count": 25,
     "metadata": {},
     "output_type": "execute_result"
    }
   ],
   "source": [
    "import math\n",
    "from sklearn.metrics import mean_squared_error\n",
    "\n",
    "math.sqrt(mean_squared_error(y_test+101.25, y_pred+101.25))"
   ]
  },
  {
   "cell_type": "code",
   "execution_count": 26,
   "metadata": {
    "ExecuteTime": {
     "end_time": "2024-12-06T05:51:54.324417800Z",
     "start_time": "2024-12-06T05:51:54.168245Z"
    }
   },
   "outputs": [
    {
     "data": {
      "text/plain": "0.1278463709172537"
     },
     "execution_count": 26,
     "metadata": {},
     "output_type": "execute_result"
    }
   ],
   "source": [
    "from sklearn.metrics import mean_absolute_error\n",
    "\n",
    "mean_absolute_error(y_test+101.25, y_pred+101.25)"
   ]
  },
  {
   "cell_type": "code",
   "execution_count": 11,
   "outputs": [],
   "source": [
    "ann = load_model('Section6_new_ANN_2')\n",
    "sc = pickle.load(open('Section6_new_scaler_ANN_2.pkl', 'rb'))"
   ],
   "metadata": {
    "collapsed": false,
    "ExecuteTime": {
     "end_time": "2024-12-06T05:39:37.006760300Z",
     "start_time": "2024-12-06T05:39:29.439954100Z"
    }
   }
  }
 ],
 "metadata": {
  "colab": {
   "collapsed_sections": [],
   "name": "Artificial Neural Network",
   "provenance": [],
   "toc_visible": true
  },
  "kernelspec": {
   "display_name": "Python 3 (ipykernel)",
   "language": "python",
   "name": "python3"
  },
  "language_info": {
   "codemirror_mode": {
    "name": "ipython",
    "version": 3
   },
   "file_extension": ".py",
   "mimetype": "text/x-python",
   "name": "python",
   "nbconvert_exporter": "python",
   "pygments_lexer": "ipython3",
   "version": "3.9.7"
  }
 },
 "nbformat": 4,
 "nbformat_minor": 4
}
