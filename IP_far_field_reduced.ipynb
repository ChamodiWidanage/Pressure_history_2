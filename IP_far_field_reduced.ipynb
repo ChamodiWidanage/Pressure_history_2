{
 "cells": [
  {
   "cell_type": "code",
   "execution_count": 1,
   "id": "34feb292-f5a4-45b9-aa07-22571998d2e1",
   "metadata": {
    "ExecuteTime": {
     "end_time": "2024-08-09T04:11:31.200064Z",
     "start_time": "2024-08-09T04:11:27.370369900Z"
    }
   },
   "outputs": [],
   "source": [
    "from pathlib import Path\n",
    "import pandas as pd\n",
    "import xlwings as xw\n",
    "import numpy as np\n",
    "import matplotlib.pyplot as plt\n",
    "from rdp import rdp"
   ]
  },
  {
   "cell_type": "code",
   "execution_count": 2,
   "id": "444c2bb8-1d9e-4aca-baec-9d85bd985ece",
   "metadata": {
    "ExecuteTime": {
     "end_time": "2024-08-09T04:11:37.135629100Z",
     "start_time": "2024-08-09T04:11:37.122586700Z"
    }
   },
   "outputs": [
    {
     "name": "stdout",
     "output_type": "stream",
     "text": [
      "2 [WindowsPath('C:/Users/z5379606/OneDrive - UNSW/Documents/LSDYNA_files/Incident_pressure/Incident_pressure_time_history/TNT_far_field/L13_15'), WindowsPath('C:/Users/z5379606/OneDrive - UNSW/Documents/LSDYNA_files/Incident_pressure/Incident_pressure_time_history/TNT_far_field/L13_21'), WindowsPath('C:/Users/z5379606/OneDrive - UNSW/Documents/LSDYNA_files/Incident_pressure/Incident_pressure_time_history/TNT_far_field/L13_5')]\n"
     ]
    }
   ],
   "source": [
    "current_dir = Path.cwd()\n",
    "#parent_dir = current_dir.parent\n",
    "#input_dir1 = Path (parent_dir/\"Pressure_profiles_arrival_omitted\")\n",
    "input_dir1 = Path (\"C:/Users/z5379606/OneDrive - UNSW/Documents/LSDYNA_files/Incident_pressure/Incident_pressure_time_history/TNT_far_field\")\n",
    "\n",
    "#Access folders inside input folder\n",
    "input_dir2 =  [folder for folder in input_dir1.iterdir() if folder.is_dir()]\n",
    "print (\"2\",input_dir2)\n",
    "\n",
    "# Create output directory\n",
    "output_dir1 = Path(\"C:/Users/z5379606/OneDrive - UNSW/Documents/LSDYNA_files/Incident_pressure/Incident_pressure_time_history/TNT_far_field_reduced\")\n",
    "output_dir1.mkdir(exist_ok = True)\n",
    "\n",
    "# Access the template to be used to generate files\n",
    "excel_template = current_dir/ \"Template.xlsx\""
   ]
  },
  {
   "cell_type": "code",
   "execution_count": 3,
   "outputs": [],
   "source": [
    "def reduce_points(time, pressure, file1):\n",
    "    \n",
    "    zero_crossing_index = next((i for i, val in enumerate(pressure[:], start=0) if val <= 0), None)\n",
    "    \n",
    "    # Combine time and pressure into a single array of 2D points\n",
    "    points = np.column_stack((time, pressure))\n",
    "    \n",
    "    segment1 = points[:zero_crossing_index]  # Example segmentation\n",
    "    segment2 = points[zero_crossing_index:]\n",
    "    \n",
    "    reduced_segment1 = rdp(segment1, epsilon=0.001)\n",
    "    reduced_segment2 = rdp(segment2, epsilon=0.01)\n",
    "    \n",
    "    reduced_points = np.vstack((reduced_segment1, reduced_segment2))\n",
    "    \n",
    "    # Separate the reduced points into time and pressure\n",
    "    reduced_time = reduced_points[:, 0]\n",
    "    reduced_pressure = reduced_points[:, 1]\n",
    "    \n",
    "    return reduced_time, reduced_pressure"
   ],
   "metadata": {
    "collapsed": false,
    "ExecuteTime": {
     "end_time": "2024-08-09T04:11:43.598621100Z",
     "start_time": "2024-08-09T04:11:43.580720900Z"
    }
   },
   "id": "731ed5e2727c0124"
  },
  {
   "cell_type": "code",
   "execution_count": 4,
   "outputs": [],
   "source": [
    "def get_phase_array(time, pressure, CT, CP):\n",
    "    a=0\n",
    "    b=0\n",
    "    phase = []\n",
    "    for t, p in zip(time, pressure):\n",
    "        if round (t, 10) < round (CT, 10):\n",
    "            phase.append('positive')#{t} {change_time}')\n",
    "        elif round (CT, 10) <= round (t, 10):\n",
    "            a+=1\n",
    "            if a == 1 and abs(p - CP) <0.000001:\n",
    "                phase.append('negative')\n",
    "            elif a == 1 and abs(p - CP) >0.000001:\n",
    "                phase.append('error')\n",
    "                print (f'error- p={p} , change p ={CP}, t ={t}, change t = {CT}')\n",
    "            else:\n",
    "                phase.append('negative')\n",
    "        else:\n",
    "            phase.append('something wrong')\n",
    "            print ('something wrong')\n",
    "                \n",
    "    return phase"
   ],
   "metadata": {
    "collapsed": false,
    "ExecuteTime": {
     "end_time": "2024-08-09T04:11:45.625599900Z",
     "start_time": "2024-08-09T04:11:45.618288900Z"
    }
   },
   "id": "fd06849d3e3fb768"
  },
  {
   "cell_type": "code",
   "execution_count": 11,
   "outputs": [],
   "source": [
    "def find_CE(reduced_pressure, reduced_time, file1, EM, SD):\n",
    "    \n",
    "    # Find the first zero crossing between peak and lowest value\n",
    "    zero_crossing_index_1 = next((i for i, val in enumerate(reduced_pressure[:], start=0) if val <= 0), None)\n",
    "    \n",
    "    # CHANGE AND END\n",
    "    CT = reduced_time[zero_crossing_index_1]\n",
    "    CP = reduced_pressure[zero_crossing_index_1]\n",
    "    ET = reduced_time[-1]\n",
    "    EP = reduced_pressure[-1]\n",
    "    \n",
    "    #print ('CT', CT, type(CT), 'CP', CP, type(CP), 'TT', TT, type(TT), 'TP', TP, type(TP))\n",
    "    print (zero_crossing_index_1)\n",
    "    \n",
    "    if all(isinstance(val, np.floating) for val in [CT, CP]):\n",
    "    \n",
    "        phase = get_phase_array(reduced_time, reduced_pressure, CT, CP)\n",
    "   \n",
    "        print('phase len', len(phase))\n",
    "    \n",
    "        # Create a dictionary with the arrays\n",
    "        data = {\"Mass\": [EM] * len(reduced_time),\n",
    "                 \"Standoff distance\": [SD] * len(reduced_time),\n",
    "                 'Time': reduced_time,\n",
    "                 \"Phase\": phase,\n",
    "                 'Pressure': reduced_pressure}\n",
    "        \n",
    "        # Create DataFrames from dictionaries\n",
    "        df2 = pd.DataFrame(data)\n",
    "        \n",
    "        # Initiate xlwings library\n",
    "        with xw.App (visible = False) as app:\n",
    "            \n",
    "            wb = app.books.open(excel_template)\n",
    "            # Write dataframe in excel template\n",
    "            wb.sheets[0].range(\"A1\").options(index=False).value = df2\n",
    "            \n",
    "            # Create files in output directory\n",
    "            wb.save(output_dir2/f\"{file1.stem}.xlsx\")\n",
    "            wb.close()\n",
    "        \n",
    "        print (\"file_name\",file1.stem)\n",
    "    else:\n",
    "        CT = CT if isinstance(CT, (np.floating, float)) else None\n",
    "        CP = CP if isinstance(CP, (np.floating, float)) else None\n",
    "    \n",
    "    return CT, CP, ET, EP"
   ],
   "metadata": {
    "collapsed": false,
    "ExecuteTime": {
     "end_time": "2024-08-09T04:14:04.645428Z",
     "start_time": "2024-08-09T04:14:04.625114400Z"
    }
   },
   "id": "36a08f30cc0860d7"
  },
  {
   "cell_type": "code",
   "execution_count": 13,
   "outputs": [
    {
     "name": "stdout",
     "output_type": "stream",
     "text": [
      "OUTPUT 2 C:\\Users\\z5379606\\OneDrive - UNSW\\Documents\\LSDYNA_files\\Incident_pressure\\Incident_pressure_time_history\\TNT_far_field_reduced\\L13_15\n",
      "61\n",
      "phase len 114\n",
      "file_name P41\n",
      "67\n",
      "phase len 118\n",
      "file_name P45\n",
      "46\n",
      "phase len 95\n",
      "file_name P49\n",
      "OUTPUT 2 C:\\Users\\z5379606\\OneDrive - UNSW\\Documents\\LSDYNA_files\\Incident_pressure\\Incident_pressure_time_history\\TNT_far_field_reduced\\L13_21\n",
      "48\n",
      "phase len 119\n",
      "file_name P29\n",
      "44\n",
      "phase len 107\n",
      "file_name P33\n",
      "46\n",
      "phase len 103\n",
      "file_name P37\n",
      "OUTPUT 2 C:\\Users\\z5379606\\OneDrive - UNSW\\Documents\\LSDYNA_files\\Incident_pressure\\Incident_pressure_time_history\\TNT_far_field_reduced\\L13_5\n",
      "27\n",
      "phase len 155\n",
      "file_name P1\n",
      "34\n",
      "phase len 131\n",
      "file_name P5\n",
      "36\n",
      "phase len 122\n",
      "file_name P9\n"
     ]
    }
   ],
   "source": [
    "df_all = pd.DataFrame(columns=[\"Mass\", \"Standoff distance\", \"Arrival time\", \"AP\", \"Change time\", \"CP\", \"End time\", \"EP\",\"Original\", \"Reduced\" ])\n",
    "\n",
    "for folder1 in input_dir2: # folder1-L13_1\n",
    "\n",
    "    # Create output folders\n",
    "    output_dir2 = output_dir1/ folder1.name\n",
    "    output_dir2.mkdir(exist_ok = True)\n",
    "    print (\"OUTPUT 2\", output_dir2)\n",
    "    \n",
    "    # EM\n",
    "    parts = folder1.name.split('_')\n",
    "    \n",
    "    EM = round(int(parts[1])/2, 1)\n",
    "        \n",
    "    # Make a list of data file names\n",
    "    excel_files = list(folder1.rglob(\"*.xlsx\"))\n",
    "    \n",
    "    # Access each file \n",
    "    for file1 in excel_files: # file-1.xlsx\n",
    "        \n",
    "        # Assign value to A based on file.stem\n",
    "        file_name = file1.stem\n",
    "        SD = round((int(file_name[1:])+1)/2,0)\n",
    "        \n",
    "        # Read data from Excel file\n",
    "        df1 = pd.read_excel(file1)\n",
    "        \n",
    "        # Extract time and pressure columns\n",
    "        time = df1[\"Time\"].dropna().values*1000\n",
    "        pressure = (df1[\"Pressure\"].dropna().values/1000)-101\n",
    "\n",
    "        # ARRIVAL\n",
    "        AT = time[0]\n",
    "        AP = pressure[0]\n",
    "                \n",
    "        reduced_time, reduced_pressure = reduce_points(time, pressure, file1)\n",
    "\n",
    "        CT, CP, ET, EP = find_CE(reduced_pressure, reduced_time, file1, EM, SD)\n",
    "            \n",
    "\n",
    "        # Creating a new DataFrame to append\n",
    "        row_all = pd.DataFrame({\"Mass\": [EM], \"Standoff distance\": [SD],\n",
    "                                \"Arrival time\": [AT],\"AP\": [AP],\n",
    "                                \"Change time\": [CT], \"CP\": [CP],\n",
    "                                \"End time\": [ET], \"EP\": [EP],\n",
    "                                \"Original\":[len(pressure)], \"Reduced\": [len(reduced_pressure)]})\n",
    "        df_all = pd.concat([df_all, row_all], ignore_index=True)\n",
    "\n",
    "        # Create the plot\n",
    "        plt.figure(figsize=(4, 4))\n",
    "        plt.plot(time, pressure, color='b', linestyle=':')\n",
    "        plt.plot(reduced_time, reduced_pressure, color='r', linestyle='-', marker='o')\n",
    "        # Save the plot as an image\n",
    "        plt.savefig(output_dir2/f'{file1.stem}.png', dpi=150, bbox_inches='tight', facecolor='white')\n",
    "            \n",
    "        # Close the plot to free up memory\n",
    "        plt.close()                 "
   ],
   "metadata": {
    "collapsed": false,
    "ExecuteTime": {
     "end_time": "2024-08-09T04:15:20.990259600Z",
     "start_time": "2024-08-09T04:14:31.629022300Z"
    }
   },
   "id": "62e2960111cbf084"
  },
  {
   "cell_type": "code",
   "execution_count": 14,
   "outputs": [],
   "source": [
    "# Write dataframes in excel template\n",
    "all_path = 'IP_far_field_all_reduced.xlsx'\n",
    "\n",
    "df_all.to_excel(all_path, index=False)"
   ],
   "metadata": {
    "collapsed": false,
    "ExecuteTime": {
     "end_time": "2024-08-09T04:16:25.614612200Z",
     "start_time": "2024-08-09T04:16:25.482527600Z"
    }
   },
   "id": "55cbfa10077a3d59"
  }
 ],
 "metadata": {
  "kernelspec": {
   "display_name": "Python 3 (ipykernel)",
   "language": "python",
   "name": "python3"
  },
  "language_info": {
   "codemirror_mode": {
    "name": "ipython",
    "version": 3
   },
   "file_extension": ".py",
   "mimetype": "text/x-python",
   "name": "python",
   "nbconvert_exporter": "python",
   "pygments_lexer": "ipython3",
   "version": "3.9.7"
  }
 },
 "nbformat": 4,
 "nbformat_minor": 5
}
