{
 "cells": [
  {
   "cell_type": "code",
   "execution_count": 1,
   "id": "34feb292-f5a4-45b9-aa07-22571998d2e1",
   "metadata": {
    "ExecuteTime": {
     "end_time": "2024-08-20T02:29:48.980313Z",
     "start_time": "2024-08-20T02:29:46.411882300Z"
    }
   },
   "outputs": [],
   "source": [
    "from pathlib import Path\n",
    "import pandas as pd\n",
    "import xlwings as xw\n",
    "import numpy as np\n",
    "import matplotlib.pyplot as plt\n",
    "from scipy.signal import find_peaks\n",
    "from rdp import rdp"
   ]
  },
  {
   "cell_type": "code",
   "execution_count": 2,
   "id": "444c2bb8-1d9e-4aca-baec-9d85bd985ece",
   "metadata": {
    "ExecuteTime": {
     "end_time": "2024-08-20T02:29:49.867725500Z",
     "start_time": "2024-08-20T02:29:49.836156700Z"
    }
   },
   "outputs": [
    {
     "name": "stdout",
     "output_type": "stream",
     "text": [
      "1 G:\\Chamodi\\LSDYNA_1D\\Incident_pressure_time_history\\TNT_near_field_ascii_files2\n",
      "2 [WindowsPath('G:/Chamodi/LSDYNA_1D/Incident_pressure_time_history/TNT_near_field_ascii_files2/L13_13'), WindowsPath('G:/Chamodi/LSDYNA_1D/Incident_pressure_time_history/TNT_near_field_ascii_files2/L13_17'), WindowsPath('G:/Chamodi/LSDYNA_1D/Incident_pressure_time_history/TNT_near_field_ascii_files2/L13_5'), WindowsPath('G:/Chamodi/LSDYNA_1D/Incident_pressure_time_history/TNT_near_field_ascii_files2/L13_9')]\n"
     ]
    }
   ],
   "source": [
    "#Access input folder\n",
    "input_dir1 = Path (\"G:/Chamodi/LSDYNA_1D/Incident_pressure_time_history/TNT_near_field_ascii_files2\")\n",
    "print (\"1\",input_dir1)\n",
    "\n",
    "#Access folders inside input folder\n",
    "input_dir2 =  [folder for folder in input_dir1.iterdir() if folder.is_dir()] # L13_1\n",
    "print (\"2\",input_dir2)\n",
    "\n",
    "# Create output directory\n",
    "output_dir1 = Path(\"G:/Chamodi/LSDYNA_1D/Incident_pressure_time_history/Near_field_time_history_dataset2\")\n",
    "output_dir1.mkdir(exist_ok = True)\n",
    "\n",
    "# Define current work directory\n",
    "current_dir = Path.cwd()\n",
    "\n",
    "# Access the template to be used to generate files\n",
    "excel_template = current_dir/ \"Template.xlsx\""
   ]
  },
  {
   "cell_type": "code",
   "execution_count": 3,
   "outputs": [],
   "source": [
    "def reduce_points_CT (time, pressure):\n",
    "    \n",
    "    zero_crossing_index = next((i for i, val in enumerate(pressure[:], start=0) if val <= 0), None)\n",
    "    # CHANGE\n",
    "    CT = time[zero_crossing_index]\n",
    "    CP = pressure[zero_crossing_index]\n",
    "    \n",
    "    # Combine time and pressure into a single array of 2D points\n",
    "    points = np.column_stack((time, pressure))\n",
    "    \n",
    "    segment1 = points[:zero_crossing_index]  # Example segmentation\n",
    "    segment2 = points[zero_crossing_index:]\n",
    "    \n",
    "    reduced_segment1 = rdp(segment1, epsilon=0.001)\n",
    "    reduced_segment2 = rdp(segment2, epsilon=0.01)\n",
    "    \n",
    "    reduced_points = np.vstack((reduced_segment1, reduced_segment2))\n",
    "    \n",
    "    # Separate the reduced points into time and pressure\n",
    "    reduced_time = reduced_points[:, 0]\n",
    "    reduced_pressure = reduced_points[:, 1]\n",
    "    \n",
    "    return reduced_time, reduced_pressure, CT, CP"
   ],
   "metadata": {
    "collapsed": false,
    "ExecuteTime": {
     "end_time": "2024-08-20T02:29:51.562730200Z",
     "start_time": "2024-08-20T02:29:51.527694800Z"
    }
   },
   "id": "731ed5e2727c0124"
  },
  {
   "cell_type": "code",
   "execution_count": 4,
   "outputs": [],
   "source": [
    "def get_phase_array(time, pressure, CT, CP):\n",
    "    a=0\n",
    "    phase = []\n",
    "    for t, p in zip(time, pressure):\n",
    "        if round (t, 10) < round (CT, 10):\n",
    "            phase.append('positive')#{t} {change_time}')\n",
    "        elif round (CT, 10) <= round (t, 10):\n",
    "            a+=1\n",
    "            if a == 1 and abs(p - CP) <0.000001:\n",
    "                phase.append('negative')\n",
    "            elif a == 1 and abs(p - CP) >0.000001:\n",
    "                phase.append('error')\n",
    "                print (f'error- p={p} , change p ={CP}, t ={t}, change t = {CT}')\n",
    "            else:\n",
    "                phase.append('negative')\n",
    "        else:\n",
    "            phase.append('something wrong')\n",
    "            print ('something wrong')\n",
    "                \n",
    "    return phase"
   ],
   "metadata": {
    "collapsed": false,
    "ExecuteTime": {
     "end_time": "2024-08-20T02:29:53.154860700Z",
     "start_time": "2024-08-20T02:29:53.120830200Z"
    }
   },
   "id": "fd06849d3e3fb768"
  },
  {
   "cell_type": "code",
   "execution_count": 5,
   "outputs": [
    {
     "name": "stdout",
     "output_type": "stream",
     "text": [
      "OUTPUT 2 G:\\Chamodi\\LSDYNA_1D\\Incident_pressure_time_history\\Near_field_time_history_dataset2\\L13_13\n",
      "file_name 1\n",
      "file_name 11\n",
      "file_name 13\n",
      "file_name 15\n",
      "file_name 17\n",
      "file_name 3\n",
      "file_name 5\n",
      "file_name 7\n",
      "file_name 9\n",
      "OUTPUT 2 G:\\Chamodi\\LSDYNA_1D\\Incident_pressure_time_history\\Near_field_time_history_dataset2\\L13_17\n",
      "file_name 1\n",
      "file_name 11\n",
      "file_name 13\n",
      "file_name 15\n",
      "file_name 17\n",
      "file_name 3\n",
      "file_name 5\n",
      "file_name 7\n",
      "file_name 9\n",
      "OUTPUT 2 G:\\Chamodi\\LSDYNA_1D\\Incident_pressure_time_history\\Near_field_time_history_dataset2\\L13_5\n",
      "file_name 1\n",
      "file_name 11\n",
      "file_name 13\n",
      "file_name 15\n",
      "file_name 17\n",
      "file_name 3\n",
      "file_name 5\n",
      "file_name 7\n",
      "file_name 9\n",
      "OUTPUT 2 G:\\Chamodi\\LSDYNA_1D\\Incident_pressure_time_history\\Near_field_time_history_dataset2\\L13_9\n",
      "file_name 1\n",
      "file_name 11\n",
      "file_name 13\n",
      "file_name 15\n",
      "file_name 17\n",
      "file_name 3\n",
      "file_name 5\n",
      "file_name 7\n",
      "file_name 9\n"
     ]
    }
   ],
   "source": [
    "df_all = pd.DataFrame(columns=[\"Mass\", \"Standoff distance\", \"Arrival time\", \"AP\", \"Change time\", \"CP\", \"End time\", \"EP\"])\n",
    "\n",
    "for folder1 in input_dir2: # folder1-L13_1\n",
    "    \n",
    "    # Create output folders\n",
    "    output_dir2 = output_dir1/ folder1.name\n",
    "    output_dir2.mkdir(exist_ok = True)\n",
    "    print (\"OUTPUT 2\", output_dir2)\n",
    "    \n",
    "    # EM\n",
    "    parts = folder1.name.split('_')\n",
    "    EM = round(int(parts[1])/2, 1)\n",
    "    \n",
    "    # Make a list of data file names\n",
    "    txt_files = [file for file in folder1.rglob(\"*\") if file.name.isdigit() and int(file.name) % 2 != 0]\n",
    "    \n",
    "    # Access each file \n",
    "    for file1 in txt_files: # file1-1\n",
    "        \n",
    "        # Assign value to A based on file.stem\n",
    "        file_name = file1.stem\n",
    "        SD_mapping = {\"1\": 1, \"3\": 1.25, \"5\":1.5, \"7\":1.75, \"9\":2,\n",
    "                      \"11\":2.25, \"13\":2.5, \"15\":2.75, \"17\":3}\n",
    "        SD = SD_mapping.get(file_name, \"Unknown\")\n",
    "        \n",
    "        # Read data from Excel file\n",
    "        df1 = pd.read_csv(file1,\n",
    "                          delimiter=\"\\s+\",\n",
    "                          skiprows = 8,\n",
    "                          skipfooter = 1,\n",
    "                          engine = 'python',\n",
    "                          header = None,\n",
    "                          names = [\"Time\", \"Pressure\"])\n",
    "        \n",
    "        # Extract time and pressure columns\n",
    "        org_time = df1[\"Time\"].dropna().values*1000\n",
    "        org_pressure = (df1[\"Pressure\"].dropna().values/1000)-101.2\n",
    "        \n",
    "        # Find indices where org_time is greater than 29 seconds (29000 milliseconds)\n",
    "        indices_to_remove = np.where(org_time > 29)[0]\n",
    "        \n",
    "        # Remove the corresponding values in org_time and org_pressure\n",
    "        time = np.delete(org_time, indices_to_remove)\n",
    "        pressure = np.delete(org_pressure, indices_to_remove)\n",
    "            \n",
    "        peak_index = np.argmax(pressure)\n",
    "        \n",
    "        # ARRIVAL\n",
    "        AT = time[peak_index]\n",
    "        AP = pressure[peak_index]\n",
    "        \n",
    "        pressure = pressure[peak_index:]\n",
    "        time = time[peak_index:]\n",
    "        \n",
    "        for i in range(len(pressure) - 1, -1, -1):\n",
    "            if pressure[i] < -1:\n",
    "                end_index = i\n",
    "                break\n",
    "        # END\n",
    "        ET = time[end_index]\n",
    "        EP = pressure[end_index]\n",
    "        \n",
    "        pressure = pressure[:end_index + 1]\n",
    "        time = time[:end_index + 1]        \n",
    "\n",
    "        reduced_time, reduced_pressure, CT, CP =reduce_points_CT(time, pressure)\n",
    "        \n",
    "        if all(isinstance(val, np.floating) for val in [CT, CP]):\n",
    "            phase = get_phase_array(reduced_time, reduced_pressure, CT, CP)\n",
    "            \n",
    "            # Create a dictionary with the arrays\n",
    "            data = {\"Mass\": [EM] * len(reduced_time),\n",
    "                     \"Standoff distance\": [SD] * len(reduced_time),\n",
    "                     'Time': reduced_time,\n",
    "                     \"Phase\": phase,\n",
    "                     'Pressure': reduced_pressure}\n",
    "            \n",
    "            # Create DataFrames from dictionaries\n",
    "            df2 = pd.DataFrame(data)\n",
    "            \n",
    "            # Initiate xlwings library\n",
    "            with xw.App (visible = False) as app:\n",
    "                \n",
    "                wb = app.books.open(excel_template)\n",
    "                # Write dataframe in excel template\n",
    "                wb.sheets[0].range(\"A1\").options(index=False).value = df2\n",
    "                \n",
    "                # Create files in output directory\n",
    "                wb.save(output_dir2/f\"{file_name}.xlsx\")\n",
    "                wb.close()\n",
    "                print (\"file_name\",file_name)\n",
    "            \n",
    "            # Create the plot\n",
    "            plt.figure(figsize=(4, 4))\n",
    "            plt.plot(org_time, org_pressure, color = 'g', linestyle = '-', linewidth=1, label='Original')\n",
    "            plt.plot(time, pressure, color='b', linestyle=':', linewidth=2, label='Trimmed')\n",
    "            plt.plot(reduced_time, reduced_pressure, color='r', linestyle='-', marker='o', linewidth=1, label='Reduced')\n",
    "            plt.legend()\n",
    "            # Save the plot as an image\n",
    "            plt.savefig(output_dir2/f'{file_name}.png', dpi=150, bbox_inches='tight', facecolor='white')\n",
    "            \n",
    "                \n",
    "            # Close the plot to free up memory\n",
    "            plt.close() \n",
    "            \n",
    "        else:\n",
    "            CT = CT if isinstance(CT, (np.floating, float)) else None\n",
    "            CP = CP if isinstance(CP, (np.floating, float)) else None\n",
    "            \n",
    "\n",
    "        # Creating a new DataFrame to append\n",
    "        row_all = pd.DataFrame({\"Mass\": [EM], \"Standoff distance\": [SD],\n",
    "                                \"Arrival time\": [AT],\"AP\": [AP],\n",
    "                                \"Change time\": [CT], \"CP\": [CP],\n",
    "                                \"End time\": [ET], \"EP\": [EP],\n",
    "                                \"Original\":[len(pressure)], \"Reduced\": [len(reduced_pressure)]})\n",
    "        df_all = pd.concat([df_all, row_all], ignore_index=True)\n",
    "                        "
   ],
   "metadata": {
    "collapsed": false,
    "ExecuteTime": {
     "end_time": "2024-08-20T02:34:10.284765900Z",
     "start_time": "2024-08-20T02:29:56.706061500Z"
    }
   },
   "id": "62e2960111cbf084"
  },
  {
   "cell_type": "code",
   "execution_count": 6,
   "outputs": [],
   "source": [
    "# Write dataframes in excel template\n",
    "all_path = 'IP_near_field_all_reduced2.xlsx'\n",
    "\n",
    "df_all.to_excel(all_path, index=False)"
   ],
   "metadata": {
    "collapsed": false,
    "ExecuteTime": {
     "end_time": "2024-08-20T02:40:54.340217500Z",
     "start_time": "2024-08-20T02:40:53.506751400Z"
    }
   },
   "id": "55cbfa10077a3d59"
  }
 ],
 "metadata": {
  "kernelspec": {
   "display_name": "Python 3 (ipykernel)",
   "language": "python",
   "name": "python3"
  },
  "language_info": {
   "codemirror_mode": {
    "name": "ipython",
    "version": 3
   },
   "file_extension": ".py",
   "mimetype": "text/x-python",
   "name": "python",
   "nbconvert_exporter": "python",
   "pygments_lexer": "ipython3",
   "version": "3.9.7"
  }
 },
 "nbformat": 4,
 "nbformat_minor": 5
}
