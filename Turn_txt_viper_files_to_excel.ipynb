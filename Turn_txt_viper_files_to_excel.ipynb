{
 "cells": [
  {
   "cell_type": "code",
   "execution_count": 1,
   "id": "34feb292-f5a4-45b9-aa07-22571998d2e1",
   "metadata": {
    "ExecuteTime": {
     "end_time": "2024-07-29T06:47:43.515813400Z",
     "start_time": "2024-07-29T06:47:41.827089300Z"
    }
   },
   "outputs": [],
   "source": [
    "from pathlib import Path\n",
    "import pandas as pd\n",
    "import xlwings as xw\n",
    "import numpy as np\n",
    "import matplotlib.pyplot as plt"
   ]
  },
  {
   "cell_type": "code",
   "execution_count": 2,
   "id": "444c2bb8-1d9e-4aca-baec-9d85bd985ece",
   "metadata": {
    "ExecuteTime": {
     "end_time": "2024-07-29T06:47:44.509190200Z",
     "start_time": "2024-07-29T06:47:44.462264800Z"
    }
   },
   "outputs": [
    {
     "name": "stdout",
     "output_type": "stream",
     "text": [
      "1 C:\\Users\\z5379606\\OneDrive - UNSW\\Viperblast\\Reflected_pressure\\Near_field_time_history_txt_files_dummy\n",
      "2 [WindowsPath('C:/Users/z5379606/OneDrive - UNSW/Viperblast/Reflected_pressure/Near_field_time_history_txt_files_dummy/1.25m'), WindowsPath('C:/Users/z5379606/OneDrive - UNSW/Viperblast/Reflected_pressure/Near_field_time_history_txt_files_dummy/2.75m')]\n"
     ]
    }
   ],
   "source": [
    "#Access input folder\n",
    "input_dir1 = Path (\"C:/Users/z5379606/OneDrive - UNSW/Viperblast/Reflected_pressure/Near_field_time_history_txt_files_dummy\")\n",
    "print (\"1\",input_dir1)\n",
    "\n",
    "#Access folders inside input folder\n",
    "input_dir2 =  [folder for folder in input_dir1.iterdir() if folder.is_dir()]\n",
    "print (\"2\",input_dir2)\n",
    "\n",
    "# Create output directory\n",
    "output_dir1 = Path(\"C:/Users/z5379606/OneDrive - UNSW/Viperblast/Reflected_pressure/Near_field_time_history_dummy\")\n",
    "output_dir1.mkdir(exist_ok = True)\n",
    "\n",
    "# Define current work directory\n",
    "current_dir = Path.cwd()\n",
    "\n",
    "# Access the template to be used to generate files\n",
    "excel_template = current_dir/ \"Template.xlsx\""
   ]
  },
  {
   "cell_type": "code",
   "execution_count": 3,
   "outputs": [
    {
     "name": "stdout",
     "output_type": "stream",
     "text": [
      "OUTPUT 2 C:\\Users\\z5379606\\OneDrive - UNSW\\Viperblast\\Reflected_pressure\\Near_field_time_history_dummy\\1.25m\n",
      "OUTPUT 3 C:\\Users\\z5379606\\OneDrive - UNSW\\Viperblast\\Reflected_pressure\\Near_field_time_history_dummy\\1.25m\\1.25m02.5kg\n",
      "C:\\Users\\z5379606\\OneDrive - UNSW\\Viperblast\\Reflected_pressure\\Near_field_time_history_txt_files_dummy\\1.25m\\1.25m02.5kg\\viper3d_th_overpressure.txt\n",
      "34 573 1201 1397\n"
     ]
    },
    {
     "ename": "com_error",
     "evalue": "(-2147352567, 'Exception occurred.', (0, 'Microsoft Excel', 'SaveAs method of Workbook class failed', 'xlmain11.chm', 0, -2146827284), None)",
     "output_type": "error",
     "traceback": [
      "\u001B[1;31m---------------------------------------------------------------------------\u001B[0m",
      "\u001B[1;31mcom_error\u001B[0m                                 Traceback (most recent call last)",
      "\u001B[1;32m~\\AppData\\Local\\Temp/ipykernel_28148/943849520.py\u001B[0m in \u001B[0;36m<module>\u001B[1;34m\u001B[0m\n\u001B[0;32m    108\u001B[0m \u001B[1;33m\u001B[0m\u001B[0m\n\u001B[0;32m    109\u001B[0m                 \u001B[1;31m# Create files in output directory\u001B[0m\u001B[1;33m\u001B[0m\u001B[1;33m\u001B[0m\u001B[0m\n\u001B[1;32m--> 110\u001B[1;33m                 \u001B[0mwb\u001B[0m\u001B[1;33m.\u001B[0m\u001B[0msave\u001B[0m\u001B[1;33m(\u001B[0m\u001B[0moutput_dir1\u001B[0m\u001B[1;33m/\u001B[0m\u001B[1;34mf\"{i}.xlsx\"\u001B[0m\u001B[1;33m)\u001B[0m\u001B[1;33m\u001B[0m\u001B[1;33m\u001B[0m\u001B[0m\n\u001B[0m\u001B[0;32m    111\u001B[0m \u001B[1;33m\u001B[0m\u001B[0m\n\u001B[0;32m    112\u001B[0m                 \u001B[0mprint\u001B[0m \u001B[1;33m(\u001B[0m\u001B[1;34m\"file_name\"\u001B[0m\u001B[1;33m,\u001B[0m\u001B[0mi\u001B[0m\u001B[1;33m)\u001B[0m\u001B[1;33m\u001B[0m\u001B[1;33m\u001B[0m\u001B[0m\n",
      "\u001B[1;32m~\\Anaconda3\\lib\\site-packages\\xlwings\\main.py\u001B[0m in \u001B[0;36msave\u001B[1;34m(self, path)\u001B[0m\n\u001B[0;32m    872\u001B[0m             \u001B[0mpath\u001B[0m \u001B[1;33m=\u001B[0m \u001B[0mutils\u001B[0m\u001B[1;33m.\u001B[0m\u001B[0mfspath\u001B[0m\u001B[1;33m(\u001B[0m\u001B[0mpath\u001B[0m\u001B[1;33m)\u001B[0m\u001B[1;33m\u001B[0m\u001B[1;33m\u001B[0m\u001B[0m\n\u001B[0;32m    873\u001B[0m         \u001B[1;32mwith\u001B[0m \u001B[0mself\u001B[0m\u001B[1;33m.\u001B[0m\u001B[0mapp\u001B[0m\u001B[1;33m.\u001B[0m\u001B[0mproperties\u001B[0m\u001B[1;33m(\u001B[0m\u001B[0mdisplay_alerts\u001B[0m\u001B[1;33m=\u001B[0m\u001B[1;32mFalse\u001B[0m\u001B[1;33m)\u001B[0m\u001B[1;33m:\u001B[0m\u001B[1;33m\u001B[0m\u001B[1;33m\u001B[0m\u001B[0m\n\u001B[1;32m--> 874\u001B[1;33m             \u001B[0mself\u001B[0m\u001B[1;33m.\u001B[0m\u001B[0mimpl\u001B[0m\u001B[1;33m.\u001B[0m\u001B[0msave\u001B[0m\u001B[1;33m(\u001B[0m\u001B[0mpath\u001B[0m\u001B[1;33m)\u001B[0m\u001B[1;33m\u001B[0m\u001B[1;33m\u001B[0m\u001B[0m\n\u001B[0m\u001B[0;32m    875\u001B[0m \u001B[1;33m\u001B[0m\u001B[0m\n\u001B[0;32m    876\u001B[0m     \u001B[1;33m@\u001B[0m\u001B[0mproperty\u001B[0m\u001B[1;33m\u001B[0m\u001B[1;33m\u001B[0m\u001B[0m\n",
      "\u001B[1;32m~\\Anaconda3\\lib\\site-packages\\xlwings\\_xlwindows.py\u001B[0m in \u001B[0;36msave\u001B[1;34m(self, path)\u001B[0m\n\u001B[0;32m    580\u001B[0m             \u001B[0malerts_state\u001B[0m \u001B[1;33m=\u001B[0m \u001B[0mself\u001B[0m\u001B[1;33m.\u001B[0m\u001B[0mxl\u001B[0m\u001B[1;33m.\u001B[0m\u001B[0mApplication\u001B[0m\u001B[1;33m.\u001B[0m\u001B[0mDisplayAlerts\u001B[0m\u001B[1;33m\u001B[0m\u001B[1;33m\u001B[0m\u001B[0m\n\u001B[0;32m    581\u001B[0m             \u001B[0mself\u001B[0m\u001B[1;33m.\u001B[0m\u001B[0mxl\u001B[0m\u001B[1;33m.\u001B[0m\u001B[0mApplication\u001B[0m\u001B[1;33m.\u001B[0m\u001B[0mDisplayAlerts\u001B[0m \u001B[1;33m=\u001B[0m \u001B[1;32mFalse\u001B[0m\u001B[1;33m\u001B[0m\u001B[1;33m\u001B[0m\u001B[0m\n\u001B[1;32m--> 582\u001B[1;33m             \u001B[0mself\u001B[0m\u001B[1;33m.\u001B[0m\u001B[0mxl\u001B[0m\u001B[1;33m.\u001B[0m\u001B[0mSaveAs\u001B[0m\u001B[1;33m(\u001B[0m\u001B[0mos\u001B[0m\u001B[1;33m.\u001B[0m\u001B[0mpath\u001B[0m\u001B[1;33m.\u001B[0m\u001B[0mrealpath\u001B[0m\u001B[1;33m(\u001B[0m\u001B[0mpath\u001B[0m\u001B[1;33m)\u001B[0m\u001B[1;33m,\u001B[0m \u001B[0mFileFormat\u001B[0m\u001B[1;33m=\u001B[0m\u001B[0mfile_format\u001B[0m\u001B[1;33m)\u001B[0m\u001B[1;33m\u001B[0m\u001B[1;33m\u001B[0m\u001B[0m\n\u001B[0m\u001B[0;32m    583\u001B[0m             \u001B[0mself\u001B[0m\u001B[1;33m.\u001B[0m\u001B[0mxl\u001B[0m\u001B[1;33m.\u001B[0m\u001B[0mApplication\u001B[0m\u001B[1;33m.\u001B[0m\u001B[0mDisplayAlerts\u001B[0m \u001B[1;33m=\u001B[0m \u001B[0malerts_state\u001B[0m\u001B[1;33m\u001B[0m\u001B[1;33m\u001B[0m\u001B[0m\n\u001B[0;32m    584\u001B[0m \u001B[1;33m\u001B[0m\u001B[0m\n",
      "\u001B[1;32m~\\Anaconda3\\lib\\site-packages\\xlwings\\_xlwindows.py\u001B[0m in \u001B[0;36m__call__\u001B[1;34m(self, *args, **kwargs)\u001B[0m\n\u001B[0;32m     68\u001B[0m         \u001B[1;32mwhile\u001B[0m \u001B[1;32mTrue\u001B[0m\u001B[1;33m:\u001B[0m\u001B[1;33m\u001B[0m\u001B[1;33m\u001B[0m\u001B[0m\n\u001B[0;32m     69\u001B[0m             \u001B[1;32mtry\u001B[0m\u001B[1;33m:\u001B[0m\u001B[1;33m\u001B[0m\u001B[1;33m\u001B[0m\u001B[0m\n\u001B[1;32m---> 70\u001B[1;33m                 \u001B[0mv\u001B[0m \u001B[1;33m=\u001B[0m \u001B[0mself\u001B[0m\u001B[1;33m.\u001B[0m\u001B[0m__method\u001B[0m\u001B[1;33m(\u001B[0m\u001B[1;33m*\u001B[0m\u001B[0margs\u001B[0m\u001B[1;33m,\u001B[0m \u001B[1;33m**\u001B[0m\u001B[0mkwargs\u001B[0m\u001B[1;33m)\u001B[0m\u001B[1;33m\u001B[0m\u001B[1;33m\u001B[0m\u001B[0m\n\u001B[0m\u001B[0;32m     71\u001B[0m                 \u001B[1;32mif\u001B[0m \u001B[0misinstance\u001B[0m\u001B[1;33m(\u001B[0m\u001B[0mv\u001B[0m\u001B[1;33m,\u001B[0m \u001B[1;33m(\u001B[0m\u001B[0mCDispatch\u001B[0m\u001B[1;33m,\u001B[0m \u001B[0mCoClassBaseClass\u001B[0m\u001B[1;33m,\u001B[0m \u001B[0mDispatchBaseClass\u001B[0m\u001B[1;33m)\u001B[0m\u001B[1;33m)\u001B[0m\u001B[1;33m:\u001B[0m\u001B[1;33m\u001B[0m\u001B[1;33m\u001B[0m\u001B[0m\n\u001B[0;32m     72\u001B[0m                     \u001B[1;32mreturn\u001B[0m \u001B[0mCOMRetryObjectWrapper\u001B[0m\u001B[1;33m(\u001B[0m\u001B[0mv\u001B[0m\u001B[1;33m)\u001B[0m\u001B[1;33m\u001B[0m\u001B[1;33m\u001B[0m\u001B[0m\n",
      "\u001B[1;32m~\\AppData\\Local\\Temp\\gen_py\\3.9\\00020813-0000-0000-C000-000000000046x0x1x9.py\u001B[0m in \u001B[0;36mSaveAs\u001B[1;34m(self, Filename, FileFormat, Password, WriteResPassword, ReadOnlyRecommended, CreateBackup, AccessMode, ConflictResolution, AddToMru, TextCodepage, TextVisualLayout, Local, WorkIdentity)\u001B[0m\n\u001B[0;32m  46886\u001B[0m                         \u001B[1;33m,\u001B[0m \u001B[0mReadOnlyRecommended\u001B[0m\u001B[1;33m=\u001B[0m\u001B[0mdefaultNamedNotOptArg\u001B[0m\u001B[1;33m,\u001B[0m \u001B[0mCreateBackup\u001B[0m\u001B[1;33m=\u001B[0m\u001B[0mdefaultNamedNotOptArg\u001B[0m\u001B[1;33m,\u001B[0m \u001B[0mAccessMode\u001B[0m\u001B[1;33m=\u001B[0m\u001B[1;36m1\u001B[0m\u001B[1;33m,\u001B[0m \u001B[0mConflictResolution\u001B[0m\u001B[1;33m=\u001B[0m\u001B[0mdefaultNamedOptArg\u001B[0m\u001B[1;33m,\u001B[0m \u001B[0mAddToMru\u001B[0m\u001B[1;33m=\u001B[0m\u001B[0mdefaultNamedOptArg\u001B[0m\u001B[1;33m\u001B[0m\u001B[1;33m\u001B[0m\u001B[0m\n\u001B[0;32m  46887\u001B[0m \t\t\t, TextCodepage=defaultNamedOptArg, TextVisualLayout=defaultNamedOptArg, Local=defaultNamedOptArg, WorkIdentity=defaultNamedOptArg):\n\u001B[1;32m> 46888\u001B[1;33m \t\treturn self._oleobj_.InvokeTypes(3174, LCID, 1, (24, 0), ((12, 17), (12, 17), (12, 17), (12, 17), (12, 17), (12, 17), (3, 49), (12, 17), (12, 17), (12, 17), (12, 17), (12, 17), (12, 17)),Filename\n\u001B[0m\u001B[0;32m  46889\u001B[0m                         \u001B[1;33m,\u001B[0m \u001B[0mFileFormat\u001B[0m\u001B[1;33m,\u001B[0m \u001B[0mPassword\u001B[0m\u001B[1;33m,\u001B[0m \u001B[0mWriteResPassword\u001B[0m\u001B[1;33m,\u001B[0m \u001B[0mReadOnlyRecommended\u001B[0m\u001B[1;33m,\u001B[0m \u001B[0mCreateBackup\u001B[0m\u001B[1;33m\u001B[0m\u001B[1;33m\u001B[0m\u001B[0m\n\u001B[0;32m  46890\u001B[0m                         \u001B[1;33m,\u001B[0m \u001B[0mAccessMode\u001B[0m\u001B[1;33m,\u001B[0m \u001B[0mConflictResolution\u001B[0m\u001B[1;33m,\u001B[0m \u001B[0mAddToMru\u001B[0m\u001B[1;33m,\u001B[0m \u001B[0mTextCodepage\u001B[0m\u001B[1;33m,\u001B[0m \u001B[0mTextVisualLayout\u001B[0m\u001B[1;33m\u001B[0m\u001B[1;33m\u001B[0m\u001B[0m\n",
      "\u001B[1;31mcom_error\u001B[0m: (-2147352567, 'Exception occurred.', (0, 'Microsoft Excel', 'SaveAs method of Workbook class failed', 'xlmain11.chm', 0, -2146827284), None)"
     ]
    }
   ],
   "source": [
    "A_mapping = {1: 0, 2: 15, 3: 30, 4: 45}\n",
    "df_all = pd.DataFrame(columns=[\"Mass\", \"Standoff distance\", \"Angle\", \"Arrival time\", \"AP\", \"Change time\", \"CP\", \"Trough time\", \"TP\", \"End time\", \"EP\", \"Status\"])\n",
    "\n",
    "for folder1 in input_dir2: # folder1-1.00m\n",
    "\n",
    "    input_dir3 =  [folder2 for folder2 in folder1.iterdir() if folder2.is_dir()]\n",
    "    # Create output folders\n",
    "    output_dir2 = output_dir1/ folder1.name\n",
    "    output_dir2.mkdir(exist_ok = True)\n",
    "    print (\"OUTPUT 2\", output_dir2)\n",
    "    \n",
    "    for folder2 in input_dir3: # folder2-1.00m00.5kg\n",
    "        # SD AND EM\n",
    "        SD = float(folder2.name[0:4])\n",
    "        EM = float(folder2.name[5:9])\n",
    "        \n",
    "        # Create output folders\n",
    "        output_dir3 = output_dir2/ folder2.name\n",
    "        output_dir3.mkdir(exist_ok = True)\n",
    "        print (\"OUTPUT 3\", output_dir3)\n",
    "        \n",
    "        # Make a list of data file names\n",
    "        txt_files = list(folder2.rglob(\"*.txt\"))\n",
    "        file1 = txt_files[0]\n",
    "        print (file1)\n",
    "        \n",
    "        # Read data from Excel file\n",
    "        df1 = pd.read_csv(file1, delimiter='\\s+', header=None) \n",
    "        \n",
    "        # Initiate xlwings library\n",
    "        with xw.App (visible = False) as app:\n",
    "        \n",
    "            for i in range (1,5):\n",
    "                # A\n",
    "                A = A_mapping.get(i, None) \n",
    "                \n",
    "                time = df1.iloc[:,0].dropna().values*1000\n",
    "                pressure = df1.iloc[:,i].dropna().values/1000\n",
    "                \n",
    "                wb = app.books.open(excel_template)\n",
    "                \n",
    "                peak_index = np.argmax(pressure)\n",
    "                # ARRIVAL\n",
    "                AT = time[peak_index]\n",
    "                AP = pressure[peak_index]\n",
    "                \n",
    "                pressure = pressure[peak_index:]\n",
    "                time = time[peak_index:]\n",
    "                \n",
    "                lowest_index = np.argmin(pressure[:])\n",
    "                # TROUGH\n",
    "                TT = time[lowest_index]\n",
    "                TP = pressure[lowest_index]\n",
    "                \n",
    "                if pressure[lowest_index] < -0.2:\n",
    "                    Status = \"if\"\n",
    "                    \n",
    "                    # Find the first zero crossing between peak and lowest value\n",
    "                    zero_crossing_index_1 = next((i for i, val in enumerate(pressure[:lowest_index], start=0) if val <= 0), None)\n",
    "                \n",
    "                    zero_crossing_index_2 = next((i for i, val in enumerate(pressure[lowest_index:], start=lowest_index) if val > -0.2), None)\n",
    "                    #zero_crossing_index_2 = next((i for i, val in enumerate(smoothed_pressure[lowest_index:], start=lowest_index) if val > -0.1), None)\n",
    "                    \n",
    "                    if zero_crossing_index_2 is None:\n",
    "                        Status = \"if_if\"\n",
    "                        zero_crossing_index_2 = min(range(lowest_index, len(pressure)),key=lambda i: abs(pressure[i]))\n",
    "                        \n",
    "                elif -0.2 < pressure[lowest_index] < 0:\n",
    "                    Status = \"elif\"\n",
    "                    # Find the first zero crossing between peak and lowest value\n",
    "                    zero_crossing_index_1 = next((i for i, val in enumerate(pressure[:lowest_index], start=0) if val <= 0), None) \n",
    "                    \n",
    "                    zero_crossing_index_2 = next((i for i, val in enumerate(pressure[lowest_index:], start=lowest_index) if val > -0.05), None)\n",
    "                    \n",
    "                else:\n",
    "                    Status = \"else\"\n",
    "                    zero_crossing_index_1 = lowest_index\n",
    "                    zero_crossing_index_2 = lowest_index\n",
    "                # CHANGE AND END\n",
    "                CT = time[zero_crossing_index_1]\n",
    "                CP = pressure[zero_crossing_index_1]\n",
    "                ET = time[zero_crossing_index_2]\n",
    "                EP = pressure[zero_crossing_index_2]\n",
    "                \n",
    "                print (peak_index, zero_crossing_index_1, lowest_index, zero_crossing_index_2)\n",
    "\n",
    "                # Creating a new DataFrame to append\n",
    "                row_all = pd.DataFrame({\"Mass\": [EM], \"Standoff distance\": [SD], \"Angle\": [A],\n",
    "                                        \"Arrival time\": [AT],\"AP\": [AP],\n",
    "                                        \"Change time\": [CT], \"CP\": [CP],\n",
    "                                        \"Trough time\": [TT], \"TP\": [TP],\n",
    "                                        \"End time\": [ET], \"EP\": [EP],\n",
    "                                        \"Status\": [Status]})\n",
    "                df_all = pd.concat([df_all, row_all], ignore_index=True)\n",
    "                \n",
    "                # Create a dictionary with the arrays\n",
    "                data1 = {\"Mass\": [EM] * len(time[: zero_crossing_index_2+1]),\n",
    "                         \"Standoff distance\": [SD] * len(time[: zero_crossing_index_2+1]),\n",
    "                         \"Angle\": [A] * len(time[: zero_crossing_index_2+1]),\n",
    "                         'Time': time[: zero_crossing_index_2+1],\n",
    "                         'Pressure': pressure[: zero_crossing_index_2+1]}\n",
    "                    \n",
    "                # Create DataFrames from dictionaries\n",
    "                df2 = pd.DataFrame(data1)\n",
    "                    \n",
    "                # Write dataframe in excel template\n",
    "                wb.sheets[0].range(\"A1\").options(index=False).value = df2\n",
    "                \n",
    "                # Create files in output directory\n",
    "                wb.save(output_dir1/f\"{i}.xlsx\")\n",
    "                    \n",
    "                print (\"file_name\",i)\n",
    "                \n",
    "                # Create the plot\n",
    "                plt.figure(figsize=(4, 4))\n",
    "                plt.plot(time, pressure, color='b', linestyle=':')\n",
    "                plt.plot(time[: zero_crossing_index_2+1], pressure[: zero_crossing_index_2+1], color='r', linestyle='-')\n",
    "                # Save the plot as an imageadd\n",
    "                plt.savefig(output_dir3/f'{i}.png', dpi=150, bbox_inches='tight', facecolor='white')\n",
    "                    \n",
    "                # Close the plot to free up memory\n",
    "                plt.close()\n",
    "                    \n",
    "                # Create files in output directory\n",
    "                wb.save(output_dir1/f\"{i}.xlsx\")"
   ],
   "metadata": {
    "collapsed": false,
    "ExecuteTime": {
     "end_time": "2024-07-29T06:47:50.886274300Z",
     "start_time": "2024-07-29T06:47:45.696846400Z"
    }
   },
   "id": "62e2960111cbf084"
  },
  {
   "cell_type": "code",
   "execution_count": null,
   "outputs": [],
   "source": [],
   "metadata": {
    "collapsed": false
   },
   "id": "9c9046664b1e5b75"
  },
  {
   "cell_type": "code",
   "execution_count": null,
   "outputs": [],
   "source": [
    "for folder1 in input_dir2: # folder1-1.00m\n",
    "\n",
    "    input_dir3 =  [folder2 for folder2 in folder1.iterdir() if folder2.is_dir()]\n",
    "    # Create output folders\n",
    "    output_dir2 = output_dir1/ folder1.name\n",
    "    output_dir2.mkdir(exist_ok = True)\n",
    "    #print (\"OUTPUT 2\", output_dir2)\n",
    "    \n",
    "    for folder2 in input_dir3: # folder2-1.00m00.5kg\n",
    "        # SD AND EM\n",
    "        SD = float(folder2.name[0:4])\n",
    "        EM = float(folder2.name[5:9])\n",
    "        \n",
    "        # Create output folders\n",
    "        output_dir3 = output_dir2/ folder2.name\n",
    "        output_dir3.mkdir(exist_ok = True)\n",
    "        #print (\"OUTPUT 3\", output_dir3)\n",
    "        \n",
    "        # Make a list of data file names\n",
    "        txt_files = list(folder2.rglob(\"*.txt\"))\n",
    "        file1 = txt_files[0]\n",
    "        #print (file1)\n",
    "        \n",
    "        # Read data from Excel file\n",
    "        df1 = pd.read_csv(file1, delimiter='\\s', header=None) \n",
    "        print (df1.iloc[0,0])"
   ],
   "metadata": {
    "collapsed": false
   },
   "id": "c0aee493ac03ba85"
  },
  {
   "cell_type": "code",
   "execution_count": null,
   "outputs": [],
   "source": [
    "# Write dataframes in excel template\n",
    "all_path = 'RP_near_field_all.xlsx'\n",
    "\n",
    "df_all.to_excel(all_path, index=False)"
   ],
   "metadata": {
    "collapsed": false
   },
   "id": "55cbfa10077a3d59"
  }
 ],
 "metadata": {
  "kernelspec": {
   "display_name": "Python 3 (ipykernel)",
   "language": "python",
   "name": "python3"
  },
  "language_info": {
   "codemirror_mode": {
    "name": "ipython",
    "version": 3
   },
   "file_extension": ".py",
   "mimetype": "text/x-python",
   "name": "python",
   "nbconvert_exporter": "python",
   "pygments_lexer": "ipython3",
   "version": "3.9.7"
  }
 },
 "nbformat": 4,
 "nbformat_minor": 5
}
