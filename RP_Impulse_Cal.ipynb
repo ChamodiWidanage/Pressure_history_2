{
 "cells": [
  {
   "cell_type": "markdown",
   "source": [
    "## Importing libraries and files"
   ],
   "metadata": {
    "collapsed": false
   },
   "id": "498e1bf0a688a38b"
  },
  {
   "cell_type": "code",
   "execution_count": 1,
   "outputs": [],
   "source": [
    "import pandas as pd\n",
    "from keras.models import load_model\n",
    "import pickle\n",
    "import numpy as np\n",
    "import matplotlib.pyplot as plt\n",
    "from pathlib import Path\n",
    "#from prettytable import PrettyTable\n",
    "\n",
    "ann_arr = load_model('RP_Arrival_time/Arrival_ANN4')\n",
    "ann_end = load_model('RP_End_time/End_ANN4')\n",
    "ann_chg = load_model('RP_Change_time/Change_ANN1')\n",
    "\n",
    "#Section1\n",
    "ann1 = load_model('RP_Section_1_new3/Section1_new3_ANN_2')\n",
    "sc1 = pickle.load(open('RP_Section_1_new3/Section1_new3_scaler_ANN_2.pkl', 'rb'))\n",
    "#Section2\n",
    "ann2 = load_model('RP_Section_2_new2/Section2_new_ANN_2')\n",
    "sc2 = pickle.load(open('RP_Section_2_new/Section2_new_scaler_ANN_2.pkl', 'rb'))\n",
    "#Section3\n",
    "ann3 = load_model('RP_Section_3_new/Section3_new_ANN_2')\n",
    "sc3 = pickle.load(open('RP_Section_3_new/Section3_new_scaler_ANN_2.pkl', 'rb'))\n",
    "#Section4\n",
    "ann4 = load_model('RP_Section_4_new/Section4_new_ANN_7')\n",
    "sc4 = pickle.load(open('RP_Section_4_new/Section4_new_scaler_ANN_7.pkl', 'rb'))\n",
    "#Section5\n",
    "ann5 = load_model('RP_Section_5_new/Section5_new_ANN_4')\n",
    "sc5 = pickle.load(open('RP_Section_5_new/Section5_new_scaler_ANN_4.pkl', 'rb'))\n",
    "#Section6\n",
    "ann6 = load_model('RP_Section_6_new/Section6_new_ANN_2')\n",
    "sc6 = pickle.load(open('RP_Section_6_new/Section6_new_scaler_ANN_2.pkl', 'rb'))"
   ],
   "metadata": {
    "collapsed": false,
    "ExecuteTime": {
     "end_time": "2024-12-09T23:28:37.240607700Z",
     "start_time": "2024-12-09T23:28:19.787245600Z"
    }
   },
   "id": "3122126ae010792f"
  },
  {
   "cell_type": "markdown",
   "source": [
    "## Input details"
   ],
   "metadata": {
    "collapsed": false
   },
   "id": "5f559d0fa330bc79"
  },
  {
   "cell_type": "code",
   "execution_count": 2,
   "outputs": [],
   "source": [
    "Mass = 20.6\n",
    "Standoff_distance = 26.1\n",
    "Angle = 15\n",
    "start_time = 55\n",
    "#termination_time = 110\n",
    "interval = 0.01\n",
    "Time_adj = 52\n",
    "Pressure_adj = 101.25"
   ],
   "metadata": {
    "collapsed": false,
    "ExecuteTime": {
     "end_time": "2024-12-09T23:28:55.788136Z",
     "start_time": "2024-12-09T23:28:55.772503500Z"
    }
   },
   "id": "799ba05d5cac9d28"
  },
  {
   "cell_type": "markdown",
   "source": [
    "## Pressure Profile"
   ],
   "metadata": {
    "collapsed": false
   },
   "id": "4682781d5ba61ce7"
  },
  {
   "cell_type": "code",
   "execution_count": 3,
   "outputs": [
    {
     "name": "stdout",
     "output_type": "stream",
     "text": [
      "1/1 [==============================] - 0s 187ms/step\n",
      "1/1 [==============================] - 0s 172ms/step\n",
      "1/1 [==============================] - 0s 141ms/step\n",
      "arrival [[61.508312]] end [[113.650055]] change [[73.59906]]\n"
     ]
    },
    {
     "name": "stderr",
     "output_type": "stream",
     "text": [
      "C:\\Users\\z5379606\\AppData\\Local\\Temp\\ipykernel_41028\\2864902803.py:10: DeprecationWarning: Conversion of an array with ndim > 0 to a scalar is deprecated, and will error in future. Ensure you extract a single element from your array before performing this operation. (Deprecated NumPy 1.25.)\n",
      "  t = np.arange(start, end + interval, interval)\n",
      "C:\\Users\\z5379606\\AppData\\Local\\Temp\\ipykernel_41028\\2864902803.py:73: DeprecationWarning: Conversion of an array with ndim > 0 to a scalar is deprecated, and will error in future. Ensure you extract a single element from your array before performing this operation. (Deprecated NumPy 1.25.)\n",
      "  t2= np.arange(arrival_time, end_time + interval, interval)\n"
     ]
    },
    {
     "name": "stdout",
     "output_type": "stream",
     "text": [
      "152/152 [==============================] - 2s 11ms/step\n",
      "6\n",
      "100.70807725191116\n"
     ]
    }
   ],
   "source": [
    "arr = np.array ([[Mass,Standoff_distance, Angle]])\n",
    "\n",
    "arrival_time = ann_arr.predict(arr)\n",
    "end_time = ann_end.predict(arr)\n",
    "change_time = ann_chg.predict(arr)\n",
    "termination_time = end_time+50\n",
    "print (\"arrival\", arrival_time, \"end\", end_time, \"change\", change_time)\n",
    "\n",
    "def stable_state(start, end, interval):    \n",
    "    t = np.arange(start, end + interval, interval)\n",
    "    t = t.reshape(len(t),1)\n",
    "\n",
    "    p = np.repeat(0, len(t)).reshape(len(t),1)\n",
    "    \n",
    "    values = np.concatenate ((t, p), axis = 1)\n",
    "    return values\n",
    "\n",
    "def p_fluctuation(standoff_distance, d_set):\n",
    "    if 1.5 <= standoff_distance <= 3:\n",
    "        d_set[:,0:4] = sc1.transform(d_set[:,0:4])\n",
    "        p_f = ann1.predict(d_set)\n",
    "        section = 1\n",
    "        \n",
    "    elif 3 < standoff_distance <= 7:\n",
    "        d_set[:,0:4] = sc2.transform(d_set[:,0:4])\n",
    "        p_f = ann2.predict(d_set)\n",
    "        section = 2\n",
    "        \n",
    "    elif 7 < standoff_distance <= 13:\n",
    "        d_set[:,0:4] = sc3.transform(d_set[:,0:4])\n",
    "        p_f = ann3.predict(d_set)\n",
    "        section = 3\n",
    "        \n",
    "    elif 13 < standoff_distance <= 19:\n",
    "        d_set[:,0:4] = sc4.transform(d_set[:,0:4])\n",
    "        p_f = ann4.predict(d_set)\n",
    "        section = 4\n",
    "        \n",
    "    elif 19 < standoff_distance <= 25:\n",
    "        d_set[:,0:4] = sc5.transform(d_set[:,0:4])\n",
    "        p_f = ann5.predict(d_set)\n",
    "        section = 5\n",
    "        \n",
    "    elif 25 < standoff_distance <= 30:\n",
    "        d_set[:,0:4] = sc6.transform(d_set[:,0:4])\n",
    "        p_f = ann6.predict(d_set)\n",
    "        section = 6\n",
    "        \n",
    "    else:\n",
    "        print (\"Out of trained range\")\n",
    "    return p_f, section\n",
    "\n",
    "if termination_time < arrival_time:\n",
    "    start = start_time\n",
    "    end = termination_time\n",
    "    values1 = stable_state(start, end, interval)\n",
    "    arrival_time = 0\n",
    "    end_time = 0\n",
    "\n",
    "else:\n",
    "    start = start_time\n",
    "    end = arrival_time\n",
    "    values1 = stable_state(start, end, interval)\n",
    "    \n",
    "    if termination_time < end_time:\n",
    "        end_time = termination_time\n",
    "        \n",
    "    else:\n",
    "        start = end_time\n",
    "        end = termination_time\n",
    "        values3 = stable_state(start, end, interval)\n",
    "\n",
    "t2= np.arange(arrival_time, end_time + interval, interval)\n",
    "t2 = t2.reshape(len(t2),1)\n",
    "\n",
    "if t2[0] < change_time:\n",
    "    ph2 = np.array([[0, 1]])\n",
    "else:\n",
    "    ph2 = np.array([[1, 0]])\n",
    "    \n",
    "positive = np.array([0, 1])\n",
    "negative= np.array([1, 0])\n",
    "\n",
    "for time in t2[1:]:\n",
    "    if time < change_time:\n",
    "        ph2=np.vstack((ph2,positive))\n",
    "    else:\n",
    "        ph2=np.vstack((ph2,negative))\n",
    "        \n",
    "m2 = np.repeat(Mass, len(t2)).reshape(len(t2),1)\n",
    "d2 = np.repeat(Standoff_distance, len(t2)).reshape(len(t2),1)\n",
    "a2 = np.repeat(Angle, len(t2)).reshape(len(t2),1)\n",
    "d_set = np.concatenate ((m2, d2, a2, t2, ph2), axis = 1)\n",
    "\n",
    "#p2 = p_fluctuation(Standoff_distance, d_set)\n",
    "p2, section = p_fluctuation(Standoff_distance, d_set)\n",
    "p2 = p2.reshape((-1, 1))\n",
    "values2 = np.concatenate ((t2, p2), axis = 1)\n",
    "\n",
    "\n",
    "if 'values2' in globals():\n",
    "    ml_model = np.concatenate((values1, values2), axis=0)\n",
    "    if 'values3' in globals():\n",
    "        ml_model = np.concatenate((ml_model, values3), axis=0)\n",
    "else:\n",
    "    ml_model = values1\n",
    "    \n",
    "X1 = ml_model[:,0]\n",
    "y1_int = ml_model[:,1]\n",
    "y1 = y1_int + 101.25\n",
    "print (section)\n",
    "print(min(y1))"
   ],
   "metadata": {
    "collapsed": false,
    "ExecuteTime": {
     "end_time": "2024-12-09T23:29:02.147194300Z",
     "start_time": "2024-12-09T23:28:59.225316200Z"
    }
   },
   "id": "11caee01fcf75405"
  },
  {
   "cell_type": "code",
   "execution_count": 4,
   "outputs": [
    {
     "name": "stdout",
     "output_type": "stream",
     "text": [
      "Numerical length 2207 ANN-based length 5503\n"
     ]
    },
    {
     "name": "stderr",
     "output_type": "stream",
     "text": [
      "C:\\Users\\z5379606\\AppData\\Local\\Temp\\ipykernel_41028\\3833543721.py:2: ParserWarning: Falling back to the 'python' engine because the 'c' engine does not support skipfooter; you can avoid this warning by specifying engine='python'.\n",
      "  lsdyna = pd.read_csv(file_path, delimiter=\"\\s+\", skiprows = 8, skipfooter = 1, header = None, names = [\"Time\", \"Pressure\"])\n"
     ]
    }
   ],
   "source": [
    "file_path = Path(f'G:/Chamodi/LSDYNA3D/RP_TH_models/RP_Comparison_with_Numerical/{Standoff_distance}m{Mass}kg/{Angle}')\n",
    "lsdyna = pd.read_csv(file_path, delimiter=\"\\s+\", skiprows = 8, skipfooter = 1, header = None, names = [\"Time\", \"Pressure\"])\n",
    "\n",
    "X2_original = lsdyna['Time']\n",
    "y2_original = lsdyna['Pressure']\n",
    "\n",
    "X2_original=(X2_original*1000)+ Time_adj\n",
    "y2_original=(y2_original/1000)\n",
    "\n",
    "# Find the indices for the two values closest to value1 and value2\n",
    "index1 = (np.abs(X2_original - start_time)).argmin()\n",
    "index2 = (np.abs(X2_original - termination_time)).argmin()\n",
    "\n",
    "# Extract the ranges from X2 and y2 based on the indices\n",
    "X2_original = X2_original[index1:index2+1]\n",
    "y2_original = y2_original[index1:index2+1]\n",
    "\n",
    "X2_original = X2_original.to_numpy()\n",
    "y2_original = y2_original.to_numpy()\n",
    "\n",
    "print(\"Numerical length\",len(y2_original), \"ANN-based length\", len(y1))"
   ],
   "metadata": {
    "collapsed": false,
    "ExecuteTime": {
     "end_time": "2024-12-09T23:29:07.053898800Z",
     "start_time": "2024-12-09T23:29:06.944342700Z"
    }
   },
   "id": "cbc49728bb5183d5"
  },
  {
   "cell_type": "code",
   "execution_count": null,
   "outputs": [],
   "source": [
    "X2 = X2_original\n",
    "y2 = y2_original"
   ],
   "metadata": {
    "collapsed": false
   },
   "id": "e28d5b706d7a651c"
  },
  {
   "cell_type": "code",
   "execution_count": null,
   "outputs": [],
   "source": [
    "file_path = Path(f'G:/Chamodi/LSDYNA3D/RP_TH_models/RP_Comparison_with_Numerical/{Standoff_distance}m{Mass}kg/{Angle}.xlsx')\n",
    "lsdyna = pd.read_excel(file_path, names = [\"Time\", \"Pressure\"])\n",
    "\n",
    "X2_original = lsdyna['Time']\n",
    "y2_original = lsdyna['Pressure']\n",
    "\n",
    "X2_original=(X2_original*1000)+ Time_adj\n",
    "y2_original=(y2_original/1000)+Pressure_adj\n",
    "\n",
    "# Find the indices for the two values closest to value1 and value2\n",
    "index1 = (np.abs(X2_original - start_time)).argmin()\n",
    "index2 = (np.abs(X2_original - termination_time)).argmin()\n",
    "\n",
    "# Extract the ranges from X2 and y2 based on the indices\n",
    "X2_original = X2_original[index1:index2+1]\n",
    "y2_original = y2_original[index1:index2+1]\n",
    "\n",
    "X2 = X2_original.to_numpy()\n",
    "y2 = y2_original.to_numpy()\n",
    "print(min(y2))\n",
    "y2_int = y2 - 101.25\n",
    "print(\"Numerical length\",len(y2_original), \"ANN-based length\", len(y1))"
   ],
   "metadata": {
    "collapsed": false
   },
   "id": "97458bdfdcf98b66"
  },
  {
   "cell_type": "code",
   "execution_count": 5,
   "outputs": [
    {
     "name": "stdout",
     "output_type": "stream",
     "text": [
      "[282 385 529 561 589]\n"
     ]
    },
    {
     "data": {
      "text/plain": "<Figure size 600x600 with 1 Axes>",
      "image/png": "[encoded data removed]"
     },
     "metadata": {},
     "output_type": "display_data"
    }
   ],
   "source": [
    "from scipy.signal import find_peaks\n",
    "\n",
    "# Identify peaks with tolerance parameters\n",
    "height_threshold = 102.5  # Minimum height of peaks to detect\n",
    "prominence = 0.01  # Minimum prominence of peaks in pressure units\n",
    "width = 5  # Minimum width of peaks in time units\n",
    "\n",
    "# Find peaks\n",
    "peaks, properties = find_peaks(y2_original, height=height_threshold, prominence=prominence, width=width)\n",
    "print (peaks)\n",
    "\n",
    "# Ensure there are at least two peaks\n",
    "if len(peaks) >= 1:\n",
    "    #first_peak_index = peaks[0]\n",
    "\n",
    "    # Create a copy of pressure data to modify\n",
    "    smoothed_pressure = np.copy(y2_original)\n",
    "\n",
    "    # Define a window around each peak after the first peak to apply smoothing\n",
    "    window_radius_r = 80\n",
    "    window_radius_l = 50 # Adjust the window radius as needed\n",
    "    selected_peaks = [peaks[1],peaks[2]]\n",
    "\n",
    "    for peak_index in selected_peaks:\n",
    "        start = max(peak_index - window_radius_l, 0)\n",
    "        end = min(peak_index + window_radius_r + 1, len(y2_original))\n",
    "\n",
    "        # Extract values just outside the window\n",
    "        if start > 0 and end < len(y2_original):\n",
    "            start_value = y2_original[start - 1]\n",
    "            end_value = y2_original[end]\n",
    "        elif start > 0:\n",
    "            start_value = y2_original[start - 1]\n",
    "            end_value = start_value\n",
    "        elif end < len(y2_original):\n",
    "            end_value = y2_original[end]\n",
    "            start_value = end_value\n",
    "        else:\n",
    "            start_value = end_value = np.mean(y2_original)  # Fallback in case there are no valid points\n",
    "\n",
    "        # Create a linearly spaced array between start_value and end_value\n",
    "        interpolated_values = np.linspace(start_value, end_value, end - start)\n",
    "\n",
    "        # Apply the interpolated values to the points within the window\n",
    "        smoothed_pressure[start:end] = interpolated_values\n",
    "        \n",
    "y2 = smoothed_pressure\n",
    "X2 = X2_original\n",
    "y2_int = y2 - 101.25\n",
    "\n",
    "plt.figure(figsize=(6,6))\n",
    "plt.plot(X2_original,y2_original, color = 'blue',label = 'Numerical')\n",
    "plt.plot(X2, y2, color = 'red',label = 'Numerical')\n",
    "# Mark the peaks on the plot\n",
    "plt.scatter(X2_original[peaks], y2_original[peaks], color='green', s=50, label='Peaks', zorder=5)\n",
    "plt.show()"
   ],
   "metadata": {
    "collapsed": false,
    "ExecuteTime": {
     "end_time": "2024-12-09T23:29:10.812260400Z",
     "start_time": "2024-12-09T23:29:10.415718900Z"
    }
   },
   "id": "97799b4f82c799bf"
  },
  {
   "cell_type": "code",
   "execution_count": null,
   "outputs": [],
   "source": [
    "plt.rcdefaults()"
   ],
   "metadata": {
    "collapsed": false
   },
   "id": "71d8220f48053d4e"
  },
  {
   "cell_type": "code",
   "execution_count": null,
   "outputs": [],
   "source": [
    "# Perform numerical integration using the trapezoidal rule\n",
    "area_num = np.trapz(y2_int, X2)\n",
    "area_ann = np.trapz(y1_int, X1)\n",
    "print(f\"Integrated Area Under the Curve: {area_num}, {area_ann}\")\n",
    "\n",
    "# Perform cumulative integration using the trapezoidal rule\n",
    "ci_num = np.cumsum(np.gradient(X2) * y2_int)\n",
    "ci_ann = np.cumsum(np.gradient(X1) * y1_int)\n",
    "\n",
    "# Create the plot\n",
    "fig, ax1 = plt.subplots(figsize=(6, 6))\n",
    "plt.rcParams[\"font.family\"] = \"Times New Roman\"\n",
    "\n",
    "# Plot the original data (y vs time) on the primary y-axis\n",
    "ax1.plot(X2, y2, color = 'blue',label = 'Numerical - Pressure', linewidth=4)\n",
    "ax1.plot(X1, y1, linestyle = 'dashed', color = 'red', label = 'ANN framework - Pressure', linewidth=3)\n",
    "ax1.set_xlabel('Time (ms)', fontsize = 30)\n",
    "ax1.set_ylabel('Reflected Pressue (kPa)', fontsize = 30)\n",
    "ax1.tick_params(axis='both', labelsize = 30)\n",
    "ax1.set_xticks([60,70,80,90,100,110])\n",
    "ax1.set_yticks([100,105,110,115,120,125])\n",
    "#ax1.set_xlim(start_time,termination_time)\n",
    "ax1.set_xlim(start_time,termination_time)\n",
    "#ax1.legend(loc='upper center', bbox_to_anchor=(0.4, -0.2), fontsize=30, ncol=1, frameon = False)\n",
    "\n",
    "# Create a secondary y-axis for the cumulative integration\n",
    "ax2 = ax1.twinx()\n",
    "ax2.plot(X2, ci_num, color='green', linestyle='dotted',label='Numerical - Impulse', linewidth=3)\n",
    "ax2.plot(X1, ci_ann, linestyle='dashdot', label='ANN framework - Impulse', color='orange', linewidth=3)\n",
    "ax2.set_ylabel('Impulse (Pa.s)', fontsize = 30)\n",
    "ax2.set_yticks([0,10,20,30,40])\n",
    "ax2.tick_params(axis='both', labelsize = 30)\n",
    "#ax2.legend(loc='upper center', bbox_to_anchor=(0.3, -0.45), fontsize=30, ncol=1, frameon = False)\n",
    "\n",
    "plt.savefig(f'RP_Num&ANN_Comparison/Section{section}_{Standoff_distance}m{Mass}kg/{Angle}deg_new2.png', dpi=150, bbox_inches='tight')\n",
    "plt.show()"
   ],
   "metadata": {
    "collapsed": false
   },
   "id": "845dfd4830c6389e"
  },
  {
   "cell_type": "code",
   "execution_count": 11,
   "outputs": [
    {
     "name": "stdout",
     "output_type": "stream",
     "text": [
      "            Time    Pressure\n",
      "648    61.480000  101.250000\n",
      "649    61.490000  101.250000\n",
      "650    61.500000  101.250000\n",
      "651    61.510000  101.250000\n",
      "652    61.508312  123.037577\n",
      "...          ...         ...\n",
      "5497  109.950180  100.939066\n",
      "5498  109.960178  100.939107\n",
      "5499  109.970177  100.939149\n",
      "5500  109.980175  100.939189\n",
      "5501  109.990173  100.939231\n",
      "\n",
      "[4854 rows x 2 columns]\n",
      "            Time    Pressure\n",
      "282    61.473343  123.929375\n",
      "283    61.496613  123.876031\n",
      "284    61.519888  123.372687\n",
      "285    61.543163  122.591398\n",
      "286    61.566437  121.744961\n",
      "...          ...         ...\n",
      "2202  109.881579  100.836555\n",
      "2203  109.907954  100.837625\n",
      "2204  109.934329  100.836211\n",
      "2205  109.960704  100.836711\n",
      "2206  109.987079  100.833508\n",
      "\n",
      "[1925 rows x 2 columns]\n"
     ]
    },
    {
     "data": {
      "text/plain": "<Figure size 640x480 with 1 Axes>",
      "image/png": "[encoded data removed]"
     },
     "metadata": {},
     "output_type": "display_data"
    },
    {
     "data": {
      "text/plain": "<Figure size 640x480 with 1 Axes>",
      "image/png": "[encoded data removed]"
     },
     "metadata": {},
     "output_type": "display_data"
    },
    {
     "name": "stdout",
     "output_type": "stream",
     "text": [
      "0.019487377277475588\n",
      "ann_auc= 4929.5174003385655\n",
      "num_auc= 4928.556953850633\n"
     ]
    }
   ],
   "source": [
    "def boundary_search(X,y):\n",
    "    start_time = None\n",
    "    end_time_bs = None\n",
    "    start_index = np.argmax(y)\n",
    "    start_time = X[start_index]\n",
    "    zero_index1 = next((i for i, val in enumerate(y[start_index:], start=0) if val <= 101.25), None)\n",
    "    if isinstance (zero_index1, int):\n",
    "       zero_index1 = zero_index1 + start_index\n",
    "       min_index = np.argmin(y[zero_index1:])+zero_index1\n",
    "       zero_index2 = next((i for i, val in enumerate(y[min_index:], start=0) if val >= 101.25), None)\n",
    "       if isinstance (zero_index2, int):\n",
    "           end_index = zero_index2 + min_index\n",
    "           end_time_bs = X[end_index]\n",
    "       else:\n",
    "           end_time_bs = X[-1]\n",
    "    else:\n",
    "        print('zero_index1 error')\n",
    "    return start_time, end_time_bs\n",
    "\n",
    "\n",
    "start_time_num, end_time_num = boundary_search(X2,y2)\n",
    "start_time_ann = arrival_time\n",
    "end_time_ann = end_time\n",
    "start_time_overall = min (start_time_num, start_time_ann)\n",
    "end_time_overall = max(end_time_num, end_time_ann)\n",
    "\n",
    "def auc_cal(X,y, start_time, end_time):\n",
    "    dataset = pd.DataFrame(X, columns=['Time'])\n",
    "    dataset['Pressure'] = y\n",
    "    filtered_data = dataset[(dataset['Time'] >= start_time) & (dataset['Time'] <= end_time)]\n",
    "    print (filtered_data)\n",
    "    # Extract time and pressure values\n",
    "    time_values = filtered_data['Time'].values\n",
    "    pressure_values = filtered_data['Pressure'].values\n",
    "    \n",
    "    # Integrate using the trapezoidal rule\n",
    "    integration_result = np.trapz(pressure_values, time_values)\n",
    "    auc_series = np.cumsum(np.gradient(time_values) * pressure_values)\n",
    "    \n",
    "    return integration_result, auc_series, time_values, pressure_values\n",
    "\n",
    "ann_auc, ann_auc_series, ann_time, ann_pressure = auc_cal(X1,y1, start_time_overall, end_time_overall)\n",
    "num_auc, num_auc_series, num_time, num_pressure = auc_cal(X2,y2, start_time_overall, end_time_overall)\n",
    "\n",
    "fig_auc = plt.plot(figsize=(6, 6))\n",
    "\n",
    "plt.plot(num_time, num_auc_series, color = 'red',label = 'Numerical', linewidth=4)\n",
    "plt.plot(ann_time, ann_auc_series, color = 'blue',label = 'ANN', linewidth=4)\n",
    "plt.show()\n",
    "\n",
    "fig_auc2 = plt.plot(figsize=(6, 6))\n",
    "\n",
    "plt.plot(num_time, num_pressure, color = 'red',label = 'Numerical', linewidth=4)\n",
    "plt.plot(ann_time, ann_pressure, color = 'blue',label = 'ANN', linewidth=4)\n",
    "plt.show()\n",
    "\n",
    "error = (abs(ann_auc-num_auc)/num_auc)*100\n",
    "print(error)\n",
    "print ('ann_auc=',ann_auc)\n",
    "print ('num_auc=',num_auc)"
   ],
   "metadata": {
    "collapsed": false,
    "ExecuteTime": {
     "end_time": "2024-12-10T00:25:37.788504400Z",
     "start_time": "2024-12-10T00:25:37.299024100Z"
    }
   },
   "id": "4a4bfb869b21b024"
  },
  {
   "cell_type": "code",
   "execution_count": null,
   "outputs": [],
   "source": [
    "# Numerical\n",
    "max_index_num = np.argmax(y2)\n",
    "\n",
    "zero_crossing_index = next((i for i, val in enumerate(y2[max_index_num:], start=0) if val <= 101.25), None)\n",
    "\n",
    "if isinstance (zero_crossing_index, int):\n",
    "    zero_crossing_index = zero_crossing_index+max_index_num\n",
    "    change_time_num = X2[zero_crossing_index]\n",
    "    positive_duration_num = change_time_num - X2[max_index_num]\n",
    "    min_index_num = np.argmin(y2[zero_crossing_index:])+zero_crossing_index\n",
    "    negative_peak_pressure_num = y2[min_index_num]\n",
    "    negative_peak_time_num = X2[min_index_num]\n",
    "    \n",
    "    zero_crossing_index2 = next((i for i, val in enumerate(y2[min_index_num:], start=0) if val >= 101.25), None)\n",
    "    \n",
    "    if isinstance((zero_crossing_index2, zero_crossing_index) , int):\n",
    "        zero_crossing_index2 = zero_crossing_index2+min_index_num\n",
    "        end_time_num = X2[zero_crossing_index2]\n",
    "        negative_duration_num = end_time_num - change_time_num\n",
    "    else:\n",
    "        negative_duration_num = max(X2)-change_time_num\n",
    "else:\n",
    "    positive_duration_num = None\n",
    "\n",
    "if 'negative_peak_pressure_num' not in globals():\n",
    "    negative_peak_pressure_num = None\n",
    "if 'negative_peak_time_num' not in globals():\n",
    "    negative_peak_time_num = None\n",
    "\n",
    "positive_peak_pressure_num = y2[max_index_num]\n",
    "positive_peak_time_num = X2[max_index_num]\n",
    "\n",
    "\n",
    "# ANN-based\n",
    "positive_duration_ann = float(change_time - arrival_time)\n",
    "negative_duration_ann = float(end_time - change_time)\n",
    "\n",
    "max_index_ann = np.argmax(y1)\n",
    "\n",
    "a_zero_crossing_index = next((i for i, val in enumerate(y1[max_index_ann:], start=0) if val <= 101.25), None)\n",
    "\n",
    "if isinstance (a_zero_crossing_index, int):\n",
    "    a_zero_crossing_index = a_zero_crossing_index+max_index_ann\n",
    "    min_index_ann = np.argmin(y1[a_zero_crossing_index:])+a_zero_crossing_index\n",
    "    negative_peak_pressure_ann = y1[min_index_ann]\n",
    "    negative_peak_time_ann = X1[min_index_ann]\n",
    "\n",
    "if 'negative_peak_pressure_ann' not in globals():\n",
    "    negative_peak_pressure_ann = None\n",
    "if 'negative_peak_time_ann' not in globals():\n",
    "    negative_peak_time_ann = None\n",
    "\n",
    "positive_peak_pressure_ann = y1[max_index_ann]\n",
    "positive_peak_time_ann = X1[max_index_ann]\n",
    "\n",
    "def per_diff(value1, value2):\n",
    "    per_dif = (abs(value1-value2)/value1)*100\n",
    "    return per_dif\n",
    "\n",
    "print('positive peak pressure- n', positive_peak_pressure_num, 'a', positive_peak_pressure_ann,'%', per_diff(positive_peak_pressure_num,positive_peak_pressure_ann))\n",
    "print('negative peak pressure- n', negative_peak_pressure_num, 'a', negative_peak_pressure_ann,'%', per_diff(negative_peak_pressure_num,negative_peak_pressure_ann))\n",
    "print('positive peak time- n', positive_peak_time_num, 'a', positive_peak_time_ann, '%', per_diff(positive_peak_time_num, positive_peak_time_ann))\n",
    "print('negative peak time-n', negative_peak_time_num, 'a', negative_peak_time_ann, '%', per_diff(negative_peak_time_num, negative_peak_time_ann))\n",
    "print('positive duration-n', positive_duration_num, 'a', positive_duration_ann, '%', per_diff(positive_duration_num, positive_duration_ann))\n",
    "print('negative duration-n', negative_duration_num, 'a', negative_duration_ann, '%', per_diff(negative_duration_num, negative_duration_ann))\n",
    "print('peak impulse-n', max(ci_num), 'a', max(ci_ann), '%', per_diff(max(ci_num), max(ci_ann)))"
   ],
   "metadata": {
    "collapsed": false
   },
   "id": "a4d6e39be013de70"
  }
 ],
 "metadata": {
  "kernelspec": {
   "display_name": "Python 3 (ipykernel)",
   "language": "python",
   "name": "python3"
  },
  "language_info": {
   "codemirror_mode": {
    "name": "ipython",
    "version": 3
   },
   "file_extension": ".py",
   "mimetype": "text/x-python",
   "name": "python",
   "nbconvert_exporter": "python",
   "pygments_lexer": "ipython3",
   "version": "3.9.7"
  }
 },
 "nbformat": 4,
 "nbformat_minor": 5
}
