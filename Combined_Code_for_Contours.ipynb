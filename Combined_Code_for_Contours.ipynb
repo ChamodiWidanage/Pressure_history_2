{
 "cells": [
  {
   "cell_type": "markdown",
   "source": [
    "## Importing libraries and files"
   ],
   "metadata": {
    "collapsed": false
   },
   "id": "498e1bf0a688a38b"
  },
  {
   "cell_type": "code",
   "execution_count": 1,
   "outputs": [],
   "source": [
    "import pandas as pd\n",
    "from keras.models import load_model\n",
    "import pickle\n",
    "import numpy as np\n",
    "import matplotlib.pyplot as plt\n",
    "import sys\n",
    "\n",
    "ann_arr = load_model('Arrival_time/Arrival_ANN_model_3.h5')\n",
    "ann_end = load_model('End_time/End_ANN_model_8.h5')\n",
    "ann_chg = load_model('Change_time/Change_ANN_model_3.h5')\n",
    "#Section1\n",
    "ann1 = load_model('Pressure_profiles_codes_section_1_regression/ANN_13.h5')\n",
    "sc1 = pickle.load(open('Pressure_profiles_codes_section_1_regression/scaler_ANN.pkl', 'rb'))\n",
    "#Section2\n",
    "ann2 = load_model('Pressure_profiles_codes_section_2_regression/ANN_1.h5')\n",
    "sc2 = pickle.load(open('Pressure_profiles_codes_section_2_regression/scaler_ANN.pkl', 'rb'))\n",
    "#Section3\n",
    "ann3 = load_model('Pressure_profiles_codes_section_3_regression/ANN_1.h5')\n",
    "sc3 = pickle.load(open('Pressure_profiles_codes_section_3_regression/scaler_ANN.pkl', 'rb'))\n",
    "#Section4\n",
    "ann4 = load_model('Pressure_profiles_codes_section_4_regression/ANN_1.h5')\n",
    "sc4 = pickle.load(open('Pressure_profiles_codes_section_4_regression/scaler_ANN.pkl', 'rb'))\n",
    "#Section5\n",
    "ann5 = load_model('Pressure_profiles_codes_section_5_regression/ANN_1.h5')\n",
    "sc5 = pickle.load(open('Pressure_profiles_codes_section_5_regression/scaler_ANN.pkl', 'rb'))"
   ],
   "metadata": {
    "collapsed": false,
    "ExecuteTime": {
     "end_time": "2023-10-16T11:41:12.934365900Z",
     "start_time": "2023-10-16T11:41:07.133469500Z"
    }
   },
   "id": "3122126ae010792f"
  },
  {
   "cell_type": "markdown",
   "source": [
    "## Input details"
   ],
   "metadata": {
    "collapsed": false
   },
   "id": "bfa77e2ef85029c6"
  },
  {
   "cell_type": "code",
   "execution_count": 62,
   "outputs": [],
   "source": [
    "charge_mass = 20\n",
    "time = 0.005\n",
    "atm_pressure = 101200\n",
    "domain_min = -10\n",
    "domain_max = 10\n",
    "mesh_size = 400\n",
    "if np.sqrt(domain_min**2 + domain_max**2) > 30:\n",
    "    print (\"out of trained range\")\n",
    "    #sys.exit()"
   ],
   "metadata": {
    "collapsed": false,
    "ExecuteTime": {
     "end_time": "2023-10-16T12:18:50.668543600Z",
     "start_time": "2023-10-16T12:18:50.605038600Z"
    }
   },
   "id": "284c5416998af665"
  },
  {
   "cell_type": "code",
   "execution_count": 63,
   "outputs": [
    {
     "name": "stdout",
     "output_type": "stream",
     "text": [
      "c_d shape (160000, 1) c_ud shape (31325,)\n"
     ]
    }
   ],
   "source": [
    "x_vals = np.linspace(domain_min, domain_max, mesh_size)\n",
    "y_vals = np.linspace(domain_min, domain_max, mesh_size)\n",
    "X, Y = np.meshgrid(x_vals, y_vals)\n",
    "#generate standoff distances\n",
    "Z = np.sqrt(X**2 + Y**2)\n",
    "#reshape Z\n",
    "c_d = Z.reshape(-1)\n",
    "c_d = c_d.reshape(len (c_d), 1)\n",
    "c_ud = np.unique(c_d)\n",
    "print ('c_d shape', c_d.shape, 'c_ud shape', c_ud.shape)"
   ],
   "metadata": {
    "collapsed": false,
    "ExecuteTime": {
     "end_time": "2023-10-16T12:18:54.144681Z",
     "start_time": "2023-10-16T12:18:54.090678800Z"
    }
   },
   "id": "61da33d177e2edcc"
  },
  {
   "cell_type": "code",
   "execution_count": 64,
   "outputs": [
    {
     "name": "stdout",
     "output_type": "stream",
     "text": [
      "[] [] [] [] [] []\n",
      "0 (3229,) 1 (10756,) 2 (16813,) 3 (527,) 4 (0,) 5 (0,)\n",
      "0 (3229, 1) 1 (10756, 1) 2 (16813, 1) 3 (527, 1) 4 (0,) 5 (0,)\n"
     ]
    }
   ],
   "source": [
    "d_s0 = np.array([])\n",
    "d_s1 = np.array([])\n",
    "d_s2 = np.array([])\n",
    "d_s3 = np.array([])\n",
    "d_s4 = np.array([])\n",
    "d_s5 = np.array([])\n",
    "print (d_s0, d_s1, d_s2, d_s3, d_s4, d_s5)\n",
    "for d in c_ud:\n",
    "    if 3 <= d <= 7:\n",
    "        d_s1 = np.append(d_s1,d)\n",
    "    elif 7 < d <= 13:\n",
    "        d_s2 = np.append(d_s2,d)\n",
    "    elif 13 < d <= 19:\n",
    "        d_s3 = np.append(d_s3,d) \n",
    "    elif 19 < d <= 25:\n",
    "        d_s4 = np.append(d_s4,d)\n",
    "    elif 25 < d <= 30:\n",
    "        d_s5 = np.append(d_s5,d)\n",
    "    else:\n",
    "        d_s0 = np.append(d_s0,d)\n",
    "print ('0', d_s0.shape, '1', d_s1.shape, '2', d_s2.shape, '3',d_s3.shape, '4', d_s4.shape, '5', d_s5.shape)\n",
    "d_s0 = d_s0.reshape(len (d_s0), 1)\n",
    "d_s1 = d_s1.reshape(len (d_s1), 1)\n",
    "d_s2 = d_s2.reshape(len (d_s2), 1)\n",
    "d_s3 = d_s3.reshape(len (d_s3), 1)\n",
    "print ('0', d_s0.shape, '1', d_s1.shape, '2', d_s2.shape, '3',d_s3.shape, '4', d_s4.shape, '5', d_s5.shape)"
   ],
   "metadata": {
    "collapsed": false,
    "ExecuteTime": {
     "end_time": "2023-10-16T12:18:57.031634800Z",
     "start_time": "2023-10-16T12:18:56.681491700Z"
    }
   },
   "id": "8e2091b516442a40"
  },
  {
   "cell_type": "markdown",
   "source": [
    "## d_s0"
   ],
   "metadata": {
    "collapsed": false
   },
   "id": "a48941b7c944af84"
  },
  {
   "cell_type": "code",
   "execution_count": 65,
   "outputs": [
    {
     "name": "stdout",
     "output_type": "stream",
     "text": [
      "(3229,)\n"
     ]
    }
   ],
   "source": [
    "c_p0 = np.repeat(100000, len(d_s0)).reshape(len(d_s0),1)\n",
    "c_p0 = c_p0.flatten()\n",
    "print (c_p0.shape)"
   ],
   "metadata": {
    "collapsed": false,
    "ExecuteTime": {
     "end_time": "2023-10-16T12:18:58.801079Z",
     "start_time": "2023-10-16T12:18:58.752267700Z"
    }
   },
   "id": "7d2ae84e20acdb17"
  },
  {
   "cell_type": "markdown",
   "source": [
    "## d_s1"
   ],
   "metadata": {
    "collapsed": false
   },
   "id": "5d58e4b59b6f4f2d"
  },
  {
   "cell_type": "code",
   "execution_count": 66,
   "outputs": [
    {
     "name": "stdout",
     "output_type": "stream",
     "text": [
      "c_m1 (10756, 1)\n",
      "c_t1 (10756, 1)\n",
      "337/337 [==============================] - 0s 1ms/step\n",
      "337/337 [==============================] - 1s 2ms/step\n",
      "337/337 [==============================] - 0s 1ms/step\n",
      "d_s1 (10756, 1)\n",
      "c_ph1 (10756, 2)\n",
      "337/337 [==============================] - 1s 2ms/step\n",
      "(10756,)\n"
     ]
    }
   ],
   "source": [
    "#Charge mass array\n",
    "c_m1 = np.repeat(charge_mass, len(d_s1)).reshape(len(d_s1),1)\n",
    "print ('c_m1', c_m1.shape)\n",
    "#Time array\n",
    "c_t1 = np.repeat(time, len(d_s1)).reshape(len(d_s1),1)\n",
    "print ('c_t1', c_t1.shape)\n",
    "c_arr1 = np.concatenate ((c_m1, d_s1), axis = 1)\n",
    "#predict change, arrival and end times\n",
    "change_time1 = ann_chg.predict(c_arr1)\n",
    "#print (change_time1)\n",
    "arrival_time1 = ann_arr.predict(c_arr1)\n",
    "end_time1 = ann_end.predict(c_arr1)\n",
    "\n",
    "#define phase change\n",
    "if time < change_time1[0]:\n",
    "    c_ph1 = np.array([[0, 1]])\n",
    "else:\n",
    "    c_ph1 = np.array([[1, 0]])\n",
    "    \n",
    "positive = np.array([0, 1])\n",
    "negative = np.array([1, 0])\n",
    "for c_time in change_time1[1:]:\n",
    "    #print (c_time)\n",
    "    if time < c_time:\n",
    "        c_ph1=np.vstack((c_ph1,positive))\n",
    "    else:\n",
    "        c_ph1=np.vstack((c_ph1,negative))\n",
    "        \n",
    "print ('d_s1', d_s1.shape)\n",
    "print ('c_ph1', c_ph1.shape)\n",
    "c_arr1_2 = np.concatenate ((c_m1, d_s1, c_t1, c_ph1), axis = 1)\n",
    "c_arr1_2[:,0:3] = sc1.transform(c_arr1_2[:,0:3])\n",
    "c_p1 = ann1.predict(c_arr1_2)\n",
    "c_p1 = c_p1.flatten()\n",
    "print (c_p1.shape)"
   ],
   "metadata": {
    "collapsed": false,
    "ExecuteTime": {
     "end_time": "2023-10-16T12:19:03.926607600Z",
     "start_time": "2023-10-16T12:19:00.644824200Z"
    }
   },
   "id": "547b843d19ade153"
  },
  {
   "cell_type": "markdown",
   "source": [
    "## d_s2"
   ],
   "metadata": {
    "collapsed": false
   },
   "id": "83b7af7be88a6c59"
  },
  {
   "cell_type": "code",
   "execution_count": 67,
   "outputs": [
    {
     "name": "stdout",
     "output_type": "stream",
     "text": [
      "526/526 [==============================] - 1s 1ms/step\n",
      "526/526 [==============================] - 1s 2ms/step\n",
      "526/526 [==============================] - 1s 1ms/step\n",
      "526/526 [==============================] - 1s 2ms/step\n",
      "(16813,)\n"
     ]
    }
   ],
   "source": [
    "#Charge mass array\n",
    "c_m2 = np.repeat(charge_mass, len(d_s2)).reshape(len(d_s2),1)\n",
    "#Time array\n",
    "c_t2 = np.repeat(time, len(d_s2)).reshape(len(d_s2),1)\n",
    "c_arr2 = np.concatenate ((c_m2, d_s2), axis = 1)\n",
    "#predict change, arrival and end times\n",
    "change_time2 = ann_chg.predict(c_arr2)\n",
    "arrival_time2 = ann_arr.predict(c_arr2)\n",
    "end_time2 = ann_end.predict(c_arr2)\n",
    "\n",
    "#define phase change\n",
    "if time < change_time2[0]:\n",
    "    c_ph2 = np.array([[0, 1]])\n",
    "else:\n",
    "    c_ph2 = np.array([[1, 0]])\n",
    "    \n",
    "positive = np.array([0, 1])\n",
    "negative = np.array([1, 0])\n",
    "for c_time in change_time2[1:]:\n",
    "    if time < c_time:\n",
    "        c_ph2=np.vstack((c_ph2,positive))\n",
    "    else:\n",
    "        c_ph2=np.vstack((c_ph2,negative))\n",
    "\n",
    "c_arr2_2 = np.concatenate ((c_m2, d_s2, c_t2, c_ph2), axis = 1)\n",
    "c_arr2_2[:,0:3] = sc2.transform(c_arr2_2[:,0:3])\n",
    "c_p2 = ann2.predict(c_arr2_2)\n",
    "c_p2 = c_p2.flatten()\n",
    "print (c_p2.shape)"
   ],
   "metadata": {
    "collapsed": false,
    "ExecuteTime": {
     "end_time": "2023-10-16T12:19:12.254560400Z",
     "start_time": "2023-10-16T12:19:07.582612600Z"
    }
   },
   "id": "5a8e082a0ffc6eb8"
  },
  {
   "cell_type": "markdown",
   "source": [
    "## d_s3"
   ],
   "metadata": {
    "collapsed": false
   },
   "id": "dedab8c031ee96a1"
  },
  {
   "cell_type": "code",
   "execution_count": 68,
   "outputs": [
    {
     "name": "stdout",
     "output_type": "stream",
     "text": [
      "17/17 [==============================] - 0s 1ms/step\n",
      "17/17 [==============================] - 0s 2ms/step\n",
      "17/17 [==============================] - 0s 2ms/step\n",
      "17/17 [==============================] - 0s 2ms/step\n",
      "(527,)\n"
     ]
    }
   ],
   "source": [
    "#Charge mass array\n",
    "c_m3 = np.repeat(charge_mass, len(d_s3)).reshape(len(d_s3),1)\n",
    "#Time array\n",
    "c_t3 = np.repeat(time, len(d_s3)).reshape(len(d_s3),1)\n",
    "c_arr3 = np.concatenate ((c_m3, d_s3), axis = 1)\n",
    "#predict change, arrival and end times\n",
    "change_time3 = ann_chg.predict(c_arr3)\n",
    "arrival_time3 = ann_arr.predict(c_arr3)\n",
    "end_time3 = ann_end.predict(c_arr3)\n",
    "\n",
    "#define phase change\n",
    "if time < change_time3[0]:\n",
    "    c_ph3 = np.array([[0, 1]])\n",
    "else:\n",
    "    c_ph3 = np.array([[1, 0]])\n",
    "    \n",
    "positive = np.array([0, 1])\n",
    "negative = np.array([1, 0])\n",
    "for c_time in change_time3[1:]:\n",
    "    if time < c_time:\n",
    "        c_ph3=np.vstack((c_ph3,positive))\n",
    "    else:\n",
    "        c_ph3=np.vstack((c_ph3,negative))\n",
    "\n",
    "c_arr3_2 = np.concatenate ((c_m3, d_s3, c_t3, c_ph3), axis = 1)\n",
    "c_arr3_2[:,0:3] = sc3.transform(c_arr3_2[:,0:3])\n",
    "c_p3 = ann3.predict(c_arr3_2)\n",
    "c_p3 = c_p3.flatten()\n",
    "print (c_p3.shape)"
   ],
   "metadata": {
    "collapsed": false,
    "ExecuteTime": {
     "end_time": "2023-10-16T12:19:15.020183600Z",
     "start_time": "2023-10-16T12:19:14.371402700Z"
    }
   },
   "id": "be59019e9f7b0866"
  },
  {
   "cell_type": "markdown",
   "source": [
    "## d_s4"
   ],
   "metadata": {
    "collapsed": false
   },
   "id": "54954976166c10f5"
  },
  {
   "cell_type": "code",
   "execution_count": 30,
   "outputs": [
    {
     "name": "stdout",
     "output_type": "stream",
     "text": [
      "382/382 [==============================] - 1s 1ms/step\n",
      "382/382 [==============================] - 1s 2ms/step\n",
      "382/382 [==============================] - 1s 1ms/step\n",
      "382/382 [==============================] - 1s 1ms/step\n",
      "(12218,)\n"
     ]
    }
   ],
   "source": [
    "#Charge mass array\n",
    "c_m4 = np.repeat(charge_mass, len(d_s4)).reshape(len(d_s4),1)\n",
    "#Time array\n",
    "c_t4 = np.repeat(time, len(d_s4)).reshape(len(d_s4),1)\n",
    "c_arr4 = np.concatenate ((c_m4, d_s4), axis = 1)\n",
    "#predict change, arrival and end times\n",
    "change_time4 = ann_chg.predict(c_arr4)\n",
    "arrival_time4 = ann_arr.predict(c_arr4)\n",
    "end_time4 = ann_end.predict(c_arr4)\n",
    "\n",
    "#define phase change\n",
    "if time < change_time4[0]:\n",
    "    c_ph4 = np.array([[0, 1]])\n",
    "else:\n",
    "    c_ph4 = np.array([[1, 0]])\n",
    "    \n",
    "positive = np.array([0, 1])\n",
    "negative = np.array([1, 0])\n",
    "for c_time in change_time3[1:]:\n",
    "    if time < c_time:\n",
    "        c_ph4=np.vstack((c_ph4,positive))\n",
    "    else:\n",
    "        c_ph4=np.vstack((c_ph4,negative))\n",
    "\n",
    "c_arr4_2 = np.concatenate ((c_m4, d_s4, c_t4, c_ph4), axis = 1)\n",
    "c_arr4_2[:,0:3] = sc4.transform(c_arr4_2[:,0:3])\n",
    "c_p4 = ann4.predict(c_arr4_2)\n",
    "c_p4 = c_p4.flatten()\n",
    "print (c_p4.shape)"
   ],
   "metadata": {
    "collapsed": false
   },
   "id": "6021646e9f653ae"
  },
  {
   "cell_type": "markdown",
   "source": [
    "## d_s5"
   ],
   "metadata": {
    "collapsed": false
   },
   "id": "2e7cf6e994c28170"
  },
  {
   "cell_type": "code",
   "execution_count": 30,
   "outputs": [
    {
     "name": "stdout",
     "output_type": "stream",
     "text": [
      "382/382 [==============================] - 1s 1ms/step\n",
      "382/382 [==============================] - 1s 2ms/step\n",
      "382/382 [==============================] - 1s 1ms/step\n",
      "382/382 [==============================] - 1s 1ms/step\n",
      "(12218,)\n"
     ]
    }
   ],
   "source": [
    "#Charge mass array\n",
    "c_m5 = np.repeat(charge_mass, len(d_s5)).reshape(len(d_s5),1)\n",
    "#Time array\n",
    "c_t5 = np.repeat(time, len(d_s5)).reshape(len(d_s5),1)\n",
    "c_arr5 = np.concatenate ((c_m5, d_s5), axis = 1)\n",
    "#predict change, arrival and end times\n",
    "change_time5 = ann_chg.predict(c_arr5)\n",
    "arrival_time5 = ann_arr.predict(c_arr5)\n",
    "end_time5 = ann_end.predict(c_arr5)\n",
    "\n",
    "#define phase change\n",
    "if time < change_time5[0]:\n",
    "    c_ph5 = np.array([[0, 1]])\n",
    "else:\n",
    "    c_ph5 = np.array([[1, 0]])\n",
    "    \n",
    "positive = np.array([0, 1])\n",
    "negative = np.array([1, 0])\n",
    "for c_time in change_time3[1:]:\n",
    "    if time < c_time:\n",
    "        c_ph5=np.vstack((c_ph5,positive))\n",
    "    else:\n",
    "        c_ph5=np.vstack((c_ph5,negative))\n",
    "\n",
    "c_arr5_2 = np.concatenate ((c_m5, d_s5, c_t5, c_ph5), axis = 1)\n",
    "c_arr5_2[:,0:3] = sc5.transform(c_arr5_2[:,0:3])\n",
    "c_p5 = ann5.predict(c_arr5_2)\n",
    "c_p5 = c_p5.flatten()\n",
    "print (c_p5.shape)"
   ],
   "metadata": {
    "collapsed": false
   },
   "id": "ad832846da0b4c83"
  },
  {
   "cell_type": "code",
   "execution_count": 69,
   "outputs": [
    {
     "name": "stdout",
     "output_type": "stream",
     "text": [
      "(3229,) (10756,) (16813,) (527,)\n",
      "31325\n",
      "Replaced array: [[265084.78]\n",
      " [264648.4 ]\n",
      " [264213.12]\n",
      " ...\n",
      " [264213.12]\n",
      " [264648.4 ]\n",
      " [265084.78]]\n"
     ]
    }
   ],
   "source": [
    "d_s0 = d_s0.flatten()\n",
    "d_s1 = d_s1.flatten()\n",
    "d_s2 = d_s2.flatten()\n",
    "d_s3 = d_s3.flatten()\n",
    "#d_s4 = d_s4.flatten()\n",
    "#d_s5 = d_s5.flatten()\n",
    "print (d_s0.shape, d_s1.shape, d_s2.shape, d_s3.shape)\n",
    "value_map = dict(zip(d_s0, c_p0))\n",
    "value_map.update(dict(zip(d_s1, c_p1)))\n",
    "value_map.update(dict(zip(d_s2, c_p2)))\n",
    "value_map.update(dict(zip(d_s3, c_p3)))\n",
    "#value_map.update(dict(zip(d_s4, c_p4)))\n",
    "#value_map.update(dict(zip(d_s5, c_p5)))\n",
    "print (len(value_map))\n",
    "original_replaced = np.vectorize(value_map.get)(c_d)\n",
    "print(\"Replaced array:\", original_replaced)"
   ],
   "metadata": {
    "collapsed": false,
    "ExecuteTime": {
     "end_time": "2023-10-16T12:19:19.645193500Z",
     "start_time": "2023-10-16T12:19:19.551249500Z"
    }
   },
   "id": "dea5f6bf292d1423"
  },
  {
   "cell_type": "code",
   "execution_count": 36,
   "outputs": [
    {
     "name": "stdout",
     "output_type": "stream",
     "text": [
      "(160000, 1)\n"
     ]
    }
   ],
   "source": [
    "print (original_replaced.shape)"
   ],
   "metadata": {
    "collapsed": false,
    "ExecuteTime": {
     "end_time": "2023-10-16T12:10:14.908548500Z",
     "start_time": "2023-10-16T12:10:14.860605900Z"
    }
   },
   "id": "7b1787dc00b26737"
  },
  {
   "cell_type": "code",
   "execution_count": 70,
   "outputs": [
    {
     "name": "stdout",
     "output_type": "stream",
     "text": [
      "0.005\n"
     ]
    }
   ],
   "source": [
    "print (time)"
   ],
   "metadata": {
    "collapsed": false,
    "ExecuteTime": {
     "end_time": "2023-10-16T12:19:22.989103800Z",
     "start_time": "2023-10-16T12:19:22.935051100Z"
    }
   },
   "id": "e5b51f687239b7"
  },
  {
   "cell_type": "code",
   "execution_count": 22,
   "outputs": [
    {
     "ename": "NameError",
     "evalue": "name 'arrival_time' is not defined",
     "output_type": "error",
     "traceback": [
      "\u001B[1;31m---------------------------------------------------------------------------\u001B[0m",
      "\u001B[1;31mNameError\u001B[0m                                 Traceback (most recent call last)",
      "Cell \u001B[1;32mIn[22], line 1\u001B[0m\n\u001B[1;32m----> 1\u001B[0m \u001B[38;5;28;01mfor\u001B[39;00m index, (c_pressure,  c_arrival, c_end) \u001B[38;5;129;01min\u001B[39;00m \u001B[38;5;28menumerate\u001B[39m(\u001B[38;5;28mzip\u001B[39m(c_p, \u001B[43marrival_time\u001B[49m, end_time)):\n\u001B[0;32m      2\u001B[0m     \u001B[38;5;28;01mif\u001B[39;00m time \u001B[38;5;241m<\u001B[39m c_arrival:\n\u001B[0;32m      3\u001B[0m         \u001B[38;5;66;03m#print (c_arrival)\u001B[39;00m\n\u001B[0;32m      4\u001B[0m         c_p[index] \u001B[38;5;241m=\u001B[39m atm_pressure\n",
      "\u001B[1;31mNameError\u001B[0m: name 'arrival_time' is not defined"
     ]
    }
   ],
   "source": [
    "for index, (c_pressure,  c_arrival, c_end) in enumerate(zip(c_p, arrival_time, end_time)):\n",
    "    if time < c_arrival:\n",
    "        #print (c_arrival)\n",
    "        c_p[index] = atm_pressure\n",
    "        \n",
    "    elif time > c_end:\n",
    "        print (c_end)\n",
    "        c_p[index] = atm_pressure"
   ],
   "metadata": {
    "collapsed": false,
    "ExecuteTime": {
     "end_time": "2023-10-16T04:31:49.628566700Z",
     "start_time": "2023-10-16T04:31:47.761452800Z"
    }
   },
   "id": "2ecd3720e3cafae3"
  },
  {
   "cell_type": "code",
   "execution_count": 71,
   "outputs": [
    {
     "name": "stdout",
     "output_type": "stream",
     "text": [
      "[[265084.78 264648.4  264213.12 ... 264213.12 264648.4  265084.78]\n",
      " [264648.4  264210.9  263774.6  ... 263774.6  264210.9  264648.4 ]\n",
      " [264213.12 263774.6  263337.1  ... 263337.1  263774.6  264213.12]\n",
      " ...\n",
      " [264213.12 263774.6  263337.1  ... 263337.1  263774.6  264213.12]\n",
      " [264648.4  264210.9  263774.6  ... 263774.6  264210.9  264648.4 ]\n",
      " [265084.78 264648.4  264213.12 ... 264213.12 264648.4  265084.78]]\n"
     ]
    }
   ],
   "source": [
    "c_p = original_replaced.reshape(400, 400)\n",
    "print (c_p)"
   ],
   "metadata": {
    "collapsed": false,
    "ExecuteTime": {
     "end_time": "2023-10-16T12:19:24.960761100Z",
     "start_time": "2023-10-16T12:19:24.863788300Z"
    }
   },
   "id": "5eeec09a718fa4c3"
  },
  {
   "cell_type": "code",
   "execution_count": 72,
   "outputs": [
    {
     "ename": "PermissionError",
     "evalue": "[Errno 13] Permission denied: 'data1.csv'",
     "output_type": "error",
     "traceback": [
      "\u001B[1;31m---------------------------------------------------------------------------\u001B[0m",
      "\u001B[1;31mPermissionError\u001B[0m                           Traceback (most recent call last)",
      "Cell \u001B[1;32mIn[72], line 5\u001B[0m\n\u001B[0;32m      2\u001B[0m DF \u001B[38;5;241m=\u001B[39m pd\u001B[38;5;241m.\u001B[39mDataFrame(c_p)\n\u001B[0;32m      4\u001B[0m \u001B[38;5;66;03m# save the dataframe as a csv file\u001B[39;00m\n\u001B[1;32m----> 5\u001B[0m \u001B[43mDF\u001B[49m\u001B[38;5;241;43m.\u001B[39;49m\u001B[43mto_csv\u001B[49m\u001B[43m(\u001B[49m\u001B[38;5;124;43m\"\u001B[39;49m\u001B[38;5;124;43mdata1.csv\u001B[39;49m\u001B[38;5;124;43m\"\u001B[39;49m\u001B[43m)\u001B[49m\n",
      "File \u001B[1;32mD:\\Anaconda3\\envs\\python3.9\\lib\\site-packages\\pandas\\core\\generic.py:3772\u001B[0m, in \u001B[0;36mNDFrame.to_csv\u001B[1;34m(self, path_or_buf, sep, na_rep, float_format, columns, header, index, index_label, mode, encoding, compression, quoting, quotechar, lineterminator, chunksize, date_format, doublequote, escapechar, decimal, errors, storage_options)\u001B[0m\n\u001B[0;32m   3761\u001B[0m df \u001B[38;5;241m=\u001B[39m \u001B[38;5;28mself\u001B[39m \u001B[38;5;28;01mif\u001B[39;00m \u001B[38;5;28misinstance\u001B[39m(\u001B[38;5;28mself\u001B[39m, ABCDataFrame) \u001B[38;5;28;01melse\u001B[39;00m \u001B[38;5;28mself\u001B[39m\u001B[38;5;241m.\u001B[39mto_frame()\n\u001B[0;32m   3763\u001B[0m formatter \u001B[38;5;241m=\u001B[39m DataFrameFormatter(\n\u001B[0;32m   3764\u001B[0m     frame\u001B[38;5;241m=\u001B[39mdf,\n\u001B[0;32m   3765\u001B[0m     header\u001B[38;5;241m=\u001B[39mheader,\n\u001B[1;32m   (...)\u001B[0m\n\u001B[0;32m   3769\u001B[0m     decimal\u001B[38;5;241m=\u001B[39mdecimal,\n\u001B[0;32m   3770\u001B[0m )\n\u001B[1;32m-> 3772\u001B[0m \u001B[38;5;28;01mreturn\u001B[39;00m \u001B[43mDataFrameRenderer\u001B[49m\u001B[43m(\u001B[49m\u001B[43mformatter\u001B[49m\u001B[43m)\u001B[49m\u001B[38;5;241;43m.\u001B[39;49m\u001B[43mto_csv\u001B[49m\u001B[43m(\u001B[49m\n\u001B[0;32m   3773\u001B[0m \u001B[43m    \u001B[49m\u001B[43mpath_or_buf\u001B[49m\u001B[43m,\u001B[49m\n\u001B[0;32m   3774\u001B[0m \u001B[43m    \u001B[49m\u001B[43mlineterminator\u001B[49m\u001B[38;5;241;43m=\u001B[39;49m\u001B[43mlineterminator\u001B[49m\u001B[43m,\u001B[49m\n\u001B[0;32m   3775\u001B[0m \u001B[43m    \u001B[49m\u001B[43msep\u001B[49m\u001B[38;5;241;43m=\u001B[39;49m\u001B[43msep\u001B[49m\u001B[43m,\u001B[49m\n\u001B[0;32m   3776\u001B[0m \u001B[43m    \u001B[49m\u001B[43mencoding\u001B[49m\u001B[38;5;241;43m=\u001B[39;49m\u001B[43mencoding\u001B[49m\u001B[43m,\u001B[49m\n\u001B[0;32m   3777\u001B[0m \u001B[43m    \u001B[49m\u001B[43merrors\u001B[49m\u001B[38;5;241;43m=\u001B[39;49m\u001B[43merrors\u001B[49m\u001B[43m,\u001B[49m\n\u001B[0;32m   3778\u001B[0m \u001B[43m    \u001B[49m\u001B[43mcompression\u001B[49m\u001B[38;5;241;43m=\u001B[39;49m\u001B[43mcompression\u001B[49m\u001B[43m,\u001B[49m\n\u001B[0;32m   3779\u001B[0m \u001B[43m    \u001B[49m\u001B[43mquoting\u001B[49m\u001B[38;5;241;43m=\u001B[39;49m\u001B[43mquoting\u001B[49m\u001B[43m,\u001B[49m\n\u001B[0;32m   3780\u001B[0m \u001B[43m    \u001B[49m\u001B[43mcolumns\u001B[49m\u001B[38;5;241;43m=\u001B[39;49m\u001B[43mcolumns\u001B[49m\u001B[43m,\u001B[49m\n\u001B[0;32m   3781\u001B[0m \u001B[43m    \u001B[49m\u001B[43mindex_label\u001B[49m\u001B[38;5;241;43m=\u001B[39;49m\u001B[43mindex_label\u001B[49m\u001B[43m,\u001B[49m\n\u001B[0;32m   3782\u001B[0m \u001B[43m    \u001B[49m\u001B[43mmode\u001B[49m\u001B[38;5;241;43m=\u001B[39;49m\u001B[43mmode\u001B[49m\u001B[43m,\u001B[49m\n\u001B[0;32m   3783\u001B[0m \u001B[43m    \u001B[49m\u001B[43mchunksize\u001B[49m\u001B[38;5;241;43m=\u001B[39;49m\u001B[43mchunksize\u001B[49m\u001B[43m,\u001B[49m\n\u001B[0;32m   3784\u001B[0m \u001B[43m    \u001B[49m\u001B[43mquotechar\u001B[49m\u001B[38;5;241;43m=\u001B[39;49m\u001B[43mquotechar\u001B[49m\u001B[43m,\u001B[49m\n\u001B[0;32m   3785\u001B[0m \u001B[43m    \u001B[49m\u001B[43mdate_format\u001B[49m\u001B[38;5;241;43m=\u001B[39;49m\u001B[43mdate_format\u001B[49m\u001B[43m,\u001B[49m\n\u001B[0;32m   3786\u001B[0m \u001B[43m    \u001B[49m\u001B[43mdoublequote\u001B[49m\u001B[38;5;241;43m=\u001B[39;49m\u001B[43mdoublequote\u001B[49m\u001B[43m,\u001B[49m\n\u001B[0;32m   3787\u001B[0m \u001B[43m    \u001B[49m\u001B[43mescapechar\u001B[49m\u001B[38;5;241;43m=\u001B[39;49m\u001B[43mescapechar\u001B[49m\u001B[43m,\u001B[49m\n\u001B[0;32m   3788\u001B[0m \u001B[43m    \u001B[49m\u001B[43mstorage_options\u001B[49m\u001B[38;5;241;43m=\u001B[39;49m\u001B[43mstorage_options\u001B[49m\u001B[43m,\u001B[49m\n\u001B[0;32m   3789\u001B[0m \u001B[43m\u001B[49m\u001B[43m)\u001B[49m\n",
      "File \u001B[1;32mD:\\Anaconda3\\envs\\python3.9\\lib\\site-packages\\pandas\\io\\formats\\format.py:1186\u001B[0m, in \u001B[0;36mDataFrameRenderer.to_csv\u001B[1;34m(self, path_or_buf, encoding, sep, columns, index_label, mode, compression, quoting, quotechar, lineterminator, chunksize, date_format, doublequote, escapechar, errors, storage_options)\u001B[0m\n\u001B[0;32m   1165\u001B[0m     created_buffer \u001B[38;5;241m=\u001B[39m \u001B[38;5;28;01mFalse\u001B[39;00m\n\u001B[0;32m   1167\u001B[0m csv_formatter \u001B[38;5;241m=\u001B[39m CSVFormatter(\n\u001B[0;32m   1168\u001B[0m     path_or_buf\u001B[38;5;241m=\u001B[39mpath_or_buf,\n\u001B[0;32m   1169\u001B[0m     lineterminator\u001B[38;5;241m=\u001B[39mlineterminator,\n\u001B[1;32m   (...)\u001B[0m\n\u001B[0;32m   1184\u001B[0m     formatter\u001B[38;5;241m=\u001B[39m\u001B[38;5;28mself\u001B[39m\u001B[38;5;241m.\u001B[39mfmt,\n\u001B[0;32m   1185\u001B[0m )\n\u001B[1;32m-> 1186\u001B[0m \u001B[43mcsv_formatter\u001B[49m\u001B[38;5;241;43m.\u001B[39;49m\u001B[43msave\u001B[49m\u001B[43m(\u001B[49m\u001B[43m)\u001B[49m\n\u001B[0;32m   1188\u001B[0m \u001B[38;5;28;01mif\u001B[39;00m created_buffer:\n\u001B[0;32m   1189\u001B[0m     \u001B[38;5;28;01massert\u001B[39;00m \u001B[38;5;28misinstance\u001B[39m(path_or_buf, StringIO)\n",
      "File \u001B[1;32mD:\\Anaconda3\\envs\\python3.9\\lib\\site-packages\\pandas\\io\\formats\\csvs.py:240\u001B[0m, in \u001B[0;36mCSVFormatter.save\u001B[1;34m(self)\u001B[0m\n\u001B[0;32m    236\u001B[0m \u001B[38;5;250m\u001B[39m\u001B[38;5;124;03m\"\"\"\u001B[39;00m\n\u001B[0;32m    237\u001B[0m \u001B[38;5;124;03mCreate the writer & save.\u001B[39;00m\n\u001B[0;32m    238\u001B[0m \u001B[38;5;124;03m\"\"\"\u001B[39;00m\n\u001B[0;32m    239\u001B[0m \u001B[38;5;66;03m# apply compression and byte/text conversion\u001B[39;00m\n\u001B[1;32m--> 240\u001B[0m \u001B[38;5;28;01mwith\u001B[39;00m \u001B[43mget_handle\u001B[49m\u001B[43m(\u001B[49m\n\u001B[0;32m    241\u001B[0m \u001B[43m    \u001B[49m\u001B[38;5;28;43mself\u001B[39;49m\u001B[38;5;241;43m.\u001B[39;49m\u001B[43mfilepath_or_buffer\u001B[49m\u001B[43m,\u001B[49m\n\u001B[0;32m    242\u001B[0m \u001B[43m    \u001B[49m\u001B[38;5;28;43mself\u001B[39;49m\u001B[38;5;241;43m.\u001B[39;49m\u001B[43mmode\u001B[49m\u001B[43m,\u001B[49m\n\u001B[0;32m    243\u001B[0m \u001B[43m    \u001B[49m\u001B[43mencoding\u001B[49m\u001B[38;5;241;43m=\u001B[39;49m\u001B[38;5;28;43mself\u001B[39;49m\u001B[38;5;241;43m.\u001B[39;49m\u001B[43mencoding\u001B[49m\u001B[43m,\u001B[49m\n\u001B[0;32m    244\u001B[0m \u001B[43m    \u001B[49m\u001B[43merrors\u001B[49m\u001B[38;5;241;43m=\u001B[39;49m\u001B[38;5;28;43mself\u001B[39;49m\u001B[38;5;241;43m.\u001B[39;49m\u001B[43merrors\u001B[49m\u001B[43m,\u001B[49m\n\u001B[0;32m    245\u001B[0m \u001B[43m    \u001B[49m\u001B[43mcompression\u001B[49m\u001B[38;5;241;43m=\u001B[39;49m\u001B[38;5;28;43mself\u001B[39;49m\u001B[38;5;241;43m.\u001B[39;49m\u001B[43mcompression\u001B[49m\u001B[43m,\u001B[49m\n\u001B[0;32m    246\u001B[0m \u001B[43m    \u001B[49m\u001B[43mstorage_options\u001B[49m\u001B[38;5;241;43m=\u001B[39;49m\u001B[38;5;28;43mself\u001B[39;49m\u001B[38;5;241;43m.\u001B[39;49m\u001B[43mstorage_options\u001B[49m\u001B[43m,\u001B[49m\n\u001B[0;32m    247\u001B[0m \u001B[43m\u001B[49m\u001B[43m)\u001B[49m \u001B[38;5;28;01mas\u001B[39;00m handles:\n\u001B[0;32m    248\u001B[0m     \u001B[38;5;66;03m# Note: self.encoding is irrelevant here\u001B[39;00m\n\u001B[0;32m    249\u001B[0m     \u001B[38;5;28mself\u001B[39m\u001B[38;5;241m.\u001B[39mwriter \u001B[38;5;241m=\u001B[39m csvlib\u001B[38;5;241m.\u001B[39mwriter(\n\u001B[0;32m    250\u001B[0m         handles\u001B[38;5;241m.\u001B[39mhandle,\n\u001B[0;32m    251\u001B[0m         lineterminator\u001B[38;5;241m=\u001B[39m\u001B[38;5;28mself\u001B[39m\u001B[38;5;241m.\u001B[39mlineterminator,\n\u001B[1;32m   (...)\u001B[0m\n\u001B[0;32m    256\u001B[0m         quotechar\u001B[38;5;241m=\u001B[39m\u001B[38;5;28mself\u001B[39m\u001B[38;5;241m.\u001B[39mquotechar,\n\u001B[0;32m    257\u001B[0m     )\n\u001B[0;32m    259\u001B[0m     \u001B[38;5;28mself\u001B[39m\u001B[38;5;241m.\u001B[39m_save()\n",
      "File \u001B[1;32mD:\\Anaconda3\\envs\\python3.9\\lib\\site-packages\\pandas\\io\\common.py:859\u001B[0m, in \u001B[0;36mget_handle\u001B[1;34m(path_or_buf, mode, encoding, compression, memory_map, is_text, errors, storage_options)\u001B[0m\n\u001B[0;32m    854\u001B[0m \u001B[38;5;28;01melif\u001B[39;00m \u001B[38;5;28misinstance\u001B[39m(handle, \u001B[38;5;28mstr\u001B[39m):\n\u001B[0;32m    855\u001B[0m     \u001B[38;5;66;03m# Check whether the filename is to be opened in binary mode.\u001B[39;00m\n\u001B[0;32m    856\u001B[0m     \u001B[38;5;66;03m# Binary mode does not support 'encoding' and 'newline'.\u001B[39;00m\n\u001B[0;32m    857\u001B[0m     \u001B[38;5;28;01mif\u001B[39;00m ioargs\u001B[38;5;241m.\u001B[39mencoding \u001B[38;5;129;01mand\u001B[39;00m \u001B[38;5;124m\"\u001B[39m\u001B[38;5;124mb\u001B[39m\u001B[38;5;124m\"\u001B[39m \u001B[38;5;129;01mnot\u001B[39;00m \u001B[38;5;129;01min\u001B[39;00m ioargs\u001B[38;5;241m.\u001B[39mmode:\n\u001B[0;32m    858\u001B[0m         \u001B[38;5;66;03m# Encoding\u001B[39;00m\n\u001B[1;32m--> 859\u001B[0m         handle \u001B[38;5;241m=\u001B[39m \u001B[38;5;28;43mopen\u001B[39;49m\u001B[43m(\u001B[49m\n\u001B[0;32m    860\u001B[0m \u001B[43m            \u001B[49m\u001B[43mhandle\u001B[49m\u001B[43m,\u001B[49m\n\u001B[0;32m    861\u001B[0m \u001B[43m            \u001B[49m\u001B[43mioargs\u001B[49m\u001B[38;5;241;43m.\u001B[39;49m\u001B[43mmode\u001B[49m\u001B[43m,\u001B[49m\n\u001B[0;32m    862\u001B[0m \u001B[43m            \u001B[49m\u001B[43mencoding\u001B[49m\u001B[38;5;241;43m=\u001B[39;49m\u001B[43mioargs\u001B[49m\u001B[38;5;241;43m.\u001B[39;49m\u001B[43mencoding\u001B[49m\u001B[43m,\u001B[49m\n\u001B[0;32m    863\u001B[0m \u001B[43m            \u001B[49m\u001B[43merrors\u001B[49m\u001B[38;5;241;43m=\u001B[39;49m\u001B[43merrors\u001B[49m\u001B[43m,\u001B[49m\n\u001B[0;32m    864\u001B[0m \u001B[43m            \u001B[49m\u001B[43mnewline\u001B[49m\u001B[38;5;241;43m=\u001B[39;49m\u001B[38;5;124;43m\"\u001B[39;49m\u001B[38;5;124;43m\"\u001B[39;49m\u001B[43m,\u001B[49m\n\u001B[0;32m    865\u001B[0m \u001B[43m        \u001B[49m\u001B[43m)\u001B[49m\n\u001B[0;32m    866\u001B[0m     \u001B[38;5;28;01melse\u001B[39;00m:\n\u001B[0;32m    867\u001B[0m         \u001B[38;5;66;03m# Binary mode\u001B[39;00m\n\u001B[0;32m    868\u001B[0m         handle \u001B[38;5;241m=\u001B[39m \u001B[38;5;28mopen\u001B[39m(handle, ioargs\u001B[38;5;241m.\u001B[39mmode)\n",
      "\u001B[1;31mPermissionError\u001B[0m: [Errno 13] Permission denied: 'data1.csv'"
     ]
    }
   ],
   "source": [
    "# convert array into dataframe\n",
    "DF = pd.DataFrame(c_p)\n",
    " \n",
    "# save the dataframe as a csv file\n",
    "DF.to_csv(\"data1.csv\")"
   ],
   "metadata": {
    "collapsed": false,
    "ExecuteTime": {
     "end_time": "2023-10-16T12:19:28.739144500Z",
     "start_time": "2023-10-16T12:19:26.498123900Z"
    }
   },
   "id": "e88e4ad5b8b62381"
  },
  {
   "cell_type": "code",
   "execution_count": 1,
   "outputs": [
    {
     "ename": "NameError",
     "evalue": "name 'plt' is not defined",
     "output_type": "error",
     "traceback": [
      "\u001B[1;31m---------------------------------------------------------------------------\u001B[0m",
      "\u001B[1;31mNameError\u001B[0m                                 Traceback (most recent call last)",
      "Cell \u001B[1;32mIn[1], line 26\u001B[0m\n\u001B[0;32m     19\u001B[0m my_cmap \u001B[38;5;241m=\u001B[39m matplotlib\u001B[38;5;241m.\u001B[39mcolors\u001B[38;5;241m.\u001B[39mLinearSegmentedColormap(\u001B[38;5;124m'\u001B[39m\u001B[38;5;124mmy_colormap\u001B[39m\u001B[38;5;124m'\u001B[39m,cdict,\u001B[38;5;241m256\u001B[39m)\n\u001B[0;32m     21\u001B[0m \u001B[38;5;66;03m#rng = np.random.default_rng()\u001B[39;00m\n\u001B[0;32m     22\u001B[0m \u001B[38;5;66;03m#points = rng.random((1000, 2))\u001B[39;00m\n\u001B[0;32m     23\u001B[0m \n\u001B[0;32m     24\u001B[0m \u001B[38;5;66;03m#c_p_interpolate = griddata(points, c_p, (X,Y), method = 'linear')\u001B[39;00m\n\u001B[1;32m---> 26\u001B[0m fig \u001B[38;5;241m=\u001B[39m \u001B[43mplt\u001B[49m\u001B[38;5;241m.\u001B[39mfigure(figsize\u001B[38;5;241m=\u001B[39m(\u001B[38;5;241m6\u001B[39m,\u001B[38;5;241m5\u001B[39m))\n\u001B[0;32m     27\u001B[0m left, bottom, width, height \u001B[38;5;241m=\u001B[39m \u001B[38;5;241m0.1\u001B[39m, \u001B[38;5;241m0.1\u001B[39m, \u001B[38;5;241m0.8\u001B[39m, \u001B[38;5;241m0.8\u001B[39m\n\u001B[0;32m     28\u001B[0m ax \u001B[38;5;241m=\u001B[39m fig\u001B[38;5;241m.\u001B[39madd_axes([left, bottom, width, height])\n",
      "\u001B[1;31mNameError\u001B[0m: name 'plt' is not defined"
     ]
    }
   ],
   "source": [
    "import matplotlib\n",
    "from scipy.interpolate import griddata\n",
    "\n",
    "cdict = {'red': ((0.0, 0.0, 0.0),\n",
    "                 (0.25, 0.2, 0.2),\n",
    "                 (0.5, 0.0, 0.0),\n",
    "                 (0.75, 1.0, 1.0),\n",
    "                 (1.0, 1.0, 1.0)),\n",
    "        'green':((0.0, 0.0, 0.0),\n",
    "                 (0.25, 1.0, 1.0),\n",
    "                 (0.5, 1.0, 1.0),\n",
    "                 (0.75, 1.0, 1.0),\n",
    "                 (1.0, 0.0, 0.0)),\n",
    "        'blue': ((0.0, 1.0, 1.0),\n",
    "                 (0.25, 1.0, 1.0),\n",
    "                 (0.5, 0.0, 0.0),\n",
    "                 (0.75, 0.0, 0.0),\n",
    "                 (1.0, 0.0, 0.0))}\n",
    "my_cmap = matplotlib.colors.LinearSegmentedColormap('my_colormap',cdict,256)\n",
    "\n",
    "#rng = np.random.default_rng()\n",
    "#points = rng.random((1000, 2))\n",
    "\n",
    "#c_p_interpolate = griddata(points, c_p, (X,Y), method = 'linear')\n",
    "\n",
    "fig = plt.figure(figsize=(6,5))\n",
    "left, bottom, width, height = 0.1, 0.1, 0.8, 0.8\n",
    "ax = fig.add_axes([left, bottom, width, height])\n",
    "levels = np.linspace(1000, 692000, 101)\n",
    "cp = plt.contourf(X, Y, c_p, levels= levels, cmap = my_cmap) # c_p_interpolate\n",
    "plt.colorbar(cp)\n",
    "\n",
    "ax.set_title('Incident Pressure Contour Plot')\n",
    "ax.set_xlabel('x (m)')\n",
    "ax.set_ylabel('y (m)')\n",
    "plt.show()"
   ],
   "metadata": {
    "collapsed": false,
    "ExecuteTime": {
     "end_time": "2023-10-31T03:30:15.151470700Z",
     "start_time": "2023-10-31T03:30:00.754318400Z"
    }
   },
   "id": "6f18651dc592b358"
  }
 ],
 "metadata": {
  "kernelspec": {
   "display_name": "Python 3 (ipykernel)",
   "language": "python",
   "name": "python3"
  },
  "language_info": {
   "codemirror_mode": {
    "name": "ipython",
    "version": 3
   },
   "file_extension": ".py",
   "mimetype": "text/x-python",
   "name": "python",
   "nbconvert_exporter": "python",
   "pygments_lexer": "ipython3",
   "version": "3.9.7"
  }
 },
 "nbformat": 4,
 "nbformat_minor": 5
}
