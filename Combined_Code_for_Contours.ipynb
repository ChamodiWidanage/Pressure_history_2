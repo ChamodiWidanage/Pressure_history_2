{
 "cells": [
  {
   "cell_type": "markdown",
   "source": [
    "## Importing libraries and files"
   ],
   "metadata": {
    "collapsed": false
   },
   "id": "498e1bf0a688a38b"
  },
  {
   "cell_type": "code",
   "execution_count": 1,
   "outputs": [],
   "source": [
    "import pandas as pd\n",
    "from keras.models import load_model\n",
    "import pickle\n",
    "import numpy as np\n",
    "import matplotlib.pyplot as plt\n",
    "import sys\n",
    "\n",
    "ann_arr = load_model('Arrival_time/Arrival_ANN_model_3.h5')\n",
    "ann_end = load_model('End_time/End_ANN_model_8.h5')\n",
    "ann_chg = load_model('Change_time/Change_ANN_model_3.h5')\n",
    "#Section1\n",
    "ann1 = load_model('Pressure_profiles_codes_section_1_regression/ANN_13.h5')\n",
    "sc1 = pickle.load(open('Pressure_profiles_codes_section_1_regression/scaler_ANN.pkl', 'rb'))\n",
    "#Section2\n",
    "ann2 = load_model('Pressure_profiles_codes_section_2_regression/ANN_1.h5')\n",
    "sc2 = pickle.load(open('Pressure_profiles_codes_section_2_regression/scaler_ANN.pkl', 'rb'))\n",
    "#Section3\n",
    "ann3 = load_model('Pressure_profiles_codes_section_3_regression/ANN_1.h5')\n",
    "sc3 = pickle.load(open('Pressure_profiles_codes_section_3_regression/scaler_ANN.pkl', 'rb'))\n",
    "#Section4\n",
    "ann4 = load_model('Pressure_profiles_codes_section_4_regression/ANN_1.h5')\n",
    "sc4 = pickle.load(open('Pressure_profiles_codes_section_4_regression/scaler_ANN.pkl', 'rb'))\n",
    "#Section5\n",
    "ann5 = load_model('Pressure_profiles_codes_section_5_regression/ANN_1.h5')\n",
    "sc5 = pickle.load(open('Pressure_profiles_codes_section_5_regression/scaler_ANN.pkl', 'rb'))"
   ],
   "metadata": {
    "collapsed": false,
    "ExecuteTime": {
     "end_time": "2023-11-05T07:17:13.114965900Z",
     "start_time": "2023-11-05T07:16:47.053161600Z"
    }
   },
   "id": "3122126ae010792f"
  },
  {
   "cell_type": "markdown",
   "source": [
    "## Input details"
   ],
   "metadata": {
    "collapsed": false
   },
   "id": "bfa77e2ef85029c6"
  },
  {
   "cell_type": "code",
   "execution_count": 343,
   "outputs": [],
   "source": [
    "charge_mass = 16.4\n",
    "time = 0.02\n",
    "atm_pressure = 101200\n",
    "domain_min = 0\n",
    "domain_max = 16\n",
    "mesh_size = 1600\n",
    "if np.sqrt(domain_min**2 + domain_max**2) > 30:\n",
    "    print (\"out of trained range\")\n",
    "    #sys.exit()"
   ],
   "metadata": {
    "collapsed": false,
    "ExecuteTime": {
     "end_time": "2023-11-09T06:06:46.346100600Z",
     "start_time": "2023-11-09T06:06:46.326450400Z"
    }
   },
   "id": "284c5416998af665"
  },
  {
   "cell_type": "code",
   "execution_count": 344,
   "outputs": [
    {
     "name": "stdout",
     "output_type": "stream",
     "text": [
      "c_d shape (2560000, 1) c_ud shape (872002,)\n"
     ]
    }
   ],
   "source": [
    "x_vals = np.linspace(domain_min, domain_max, mesh_size)\n",
    "y_vals = np.linspace(domain_min, domain_max, mesh_size)\n",
    "X, Y = np.meshgrid(x_vals, y_vals)\n",
    "#generate standoff distances\n",
    "Z = np.sqrt(X**2 + Y**2)\n",
    "#reshape Z\n",
    "c_d = Z.reshape(-1)\n",
    "c_d = c_d.reshape(len (c_d), 1)\n",
    "c_ud = np.unique(c_d)\n",
    "print ('c_d shape', c_d.shape, 'c_ud shape', c_ud.shape)"
   ],
   "metadata": {
    "collapsed": false,
    "ExecuteTime": {
     "end_time": "2023-11-09T06:06:49.611781300Z",
     "start_time": "2023-11-09T06:06:49.299097200Z"
    }
   },
   "id": "61da33d177e2edcc"
  },
  {
   "cell_type": "code",
   "execution_count": 345,
   "outputs": [
    {
     "name": "stdout",
     "output_type": "stream",
     "text": [
      "[] [] [] [] [] []\n",
      "0 (25537,) 1 (106009,) 2 (302520,) 3 (371280,) 4 (66656,) 5 (0,)\n",
      "0 (25537, 1) 1 (106009, 1) 2 (302520, 1) 3 (371280, 1) 4 (66656, 1) 5 (0,)\n"
     ]
    }
   ],
   "source": [
    "d_s0 = np.array([])\n",
    "d_s1 = np.array([])\n",
    "d_s2 = np.array([])\n",
    "d_s3 = np.array([])\n",
    "d_s4 = np.array([])\n",
    "d_s5 = np.array([])\n",
    "print (d_s0, d_s1, d_s2, d_s3, d_s4, d_s5)\n",
    "for d in c_ud:\n",
    "    if 3 <= d <= 7:\n",
    "        d_s1 = np.append(d_s1,d)\n",
    "    elif 7 < d <= 13:\n",
    "        d_s2 = np.append(d_s2,d)\n",
    "    elif 13 < d <= 19:\n",
    "        d_s3 = np.append(d_s3,d) \n",
    "    elif 19 < d <= 25:\n",
    "        d_s4 = np.append(d_s4,d)\n",
    "    elif 25 < d <= 30:\n",
    "        d_s5 = np.append(d_s5,d)\n",
    "    else:\n",
    "        d_s0 = np.append(d_s0,d)\n",
    "print ('0', d_s0.shape, '1', d_s1.shape, '2', d_s2.shape, '3',d_s3.shape, '4', d_s4.shape, '5', d_s5.shape)\n",
    "d_s0 = d_s0.reshape(len (d_s0), 1)\n",
    "d_s1 = d_s1.reshape(len (d_s1), 1)\n",
    "d_s2 = d_s2.reshape(len (d_s2), 1)\n",
    "d_s3 = d_s3.reshape(len (d_s3), 1)\n",
    "d_s4 = d_s4.reshape(len (d_s4), 1)\n",
    "print ('0', d_s0.shape, '1', d_s1.shape, '2', d_s2.shape, '3',d_s3.shape, '4', d_s4.shape, '5', d_s5.shape)"
   ],
   "metadata": {
    "collapsed": false,
    "ExecuteTime": {
     "end_time": "2023-11-09T06:14:05.897376900Z",
     "start_time": "2023-11-09T06:07:02.645528600Z"
    }
   },
   "id": "8e2091b516442a40"
  },
  {
   "cell_type": "markdown",
   "source": [
    "## d_s0"
   ],
   "metadata": {
    "collapsed": false
   },
   "id": "a48941b7c944af84"
  },
  {
   "cell_type": "code",
   "execution_count": 346,
   "outputs": [
    {
     "name": "stdout",
     "output_type": "stream",
     "text": [
      "(25537,)\n"
     ]
    }
   ],
   "source": [
    "c_p0 = np.repeat(0, len(d_s0)).reshape(len(d_s0),1)\n",
    "c_p0 = c_p0.flatten()\n",
    "print (c_p0.shape)"
   ],
   "metadata": {
    "collapsed": false,
    "ExecuteTime": {
     "end_time": "2023-11-09T06:15:01.275130600Z",
     "start_time": "2023-11-09T06:15:01.257445300Z"
    }
   },
   "id": "7d2ae84e20acdb17"
  },
  {
   "cell_type": "markdown",
   "source": [
    "## d_s1(edit)"
   ],
   "metadata": {
    "collapsed": false
   },
   "id": "ec219a932e2ccd6d"
  },
  {
   "cell_type": "code",
   "execution_count": 347,
   "outputs": [
    {
     "name": "stdout",
     "output_type": "stream",
     "text": [
      "m_p1 (106009, 1)\n",
      "3313/3313 [==============================] - 4s 1ms/step\n",
      "change_time1 106009 (106009, 1)\n",
      "3313/3313 [==============================] - 8s 2ms/step\n",
      "3313/3313 [==============================] - 5s 1ms/step\n",
      "c_m1 (106009, 1)\n",
      "c_t1 (106009, 1)\n",
      "d_s1_f (106009, 1)\n",
      "d_s1_n (0, 1)\n",
      "c_ph1 (106009, 2)\n",
      "3313/3313 [==============================] - 6s 2ms/step\n",
      "(106009,)\n",
      "c_p1_n (0,)\n",
      "(0,)\n"
     ]
    }
   ],
   "source": [
    "#Charge mass array for initial parameter prediction\n",
    "m_p1 = np.repeat(charge_mass, len(d_s1)).reshape(len(d_s1),1)\n",
    "print ('m_p1', m_p1.shape)\n",
    "\n",
    "c_arr1 = np.concatenate ((m_p1, d_s1), axis = 1)\n",
    "#predict change, arrival and end times\n",
    "change_time1 = ann_chg.predict(c_arr1)\n",
    "print ('change_time1', len(change_time1), change_time1.shape)\n",
    "#print (change_time1)\n",
    "arrival_time1 = ann_arr.predict(c_arr1)\n",
    "end_time1 = ann_end.predict(c_arr1)\n",
    "\n",
    "d_s1_n = np.array([])\n",
    "d_s1_f = np.array([])\n",
    "\n",
    "#define phase change\n",
    "if time < change_time1[0]:\n",
    "    if time < arrival_time1[0]:\n",
    "        d_s1_n = np.append(d_s1_n,d_s1[0])\n",
    "    else:\n",
    "        d_s1_f = np.append(d_s1_f,d_s1[0])\n",
    "        c_ph1 = np.array([[0, 1]])\n",
    "else:\n",
    "    if time > end_time1[0]:\n",
    "        d_s1_n = np.append(d_s1_n,d_s1[0])\n",
    "    else:\n",
    "        d_s1_f = np.append(d_s1_f,d_s1[0])\n",
    "        c_ph1 = np.array([[1, 0]])\n",
    "    \n",
    "positive = np.array([0, 1])\n",
    "negative = np.array([1, 0])\n",
    "\n",
    "for index1 in range (1, len(change_time1)):\n",
    "    if time < change_time1[index1]:\n",
    "        if time < arrival_time1[index1]:\n",
    "            d_s1_n = np.append(d_s1_n,d_s1[index1])\n",
    "        else:\n",
    "            d_s1_f = np.append(d_s1_f,d_s1[index1])\n",
    "            c_ph1 = np.vstack((c_ph1,positive))\n",
    "    else:\n",
    "        if time > end_time1[index1]:\n",
    "            d_s1_n = np.append(d_s1_n,d_s1[index1])\n",
    "        else:\n",
    "            d_s1_f = np.append(d_s1_f,d_s1[index1])\n",
    "            c_ph1 = np.vstack((c_ph1,negative))\n",
    "\n",
    "#Charge mass array\n",
    "c_m1 = np.repeat(charge_mass, len(d_s1_f)).reshape(len(d_s1_f),1)\n",
    "print ('c_m1', c_m1.shape)\n",
    "#Time array\n",
    "c_t1 = np.repeat(time, len(d_s1_f)).reshape(len(d_s1_f),1)\n",
    "print ('c_t1', c_t1.shape)\n",
    "\n",
    "d_s1_f = d_s1_f.reshape(len (d_s1_f), 1)\n",
    "d_s1_n = d_s1_n.reshape(len (d_s1_n), 1)\n",
    "        \n",
    "print ('d_s1_f', d_s1_f.shape)\n",
    "print ('d_s1_n', d_s1_n.shape)\n",
    "print ('c_ph1', c_ph1.shape)\n",
    "\n",
    "c_arr1_2 = np.concatenate ((c_m1, d_s1_f, c_t1, c_ph1), axis = 1)\n",
    "c_arr1_2[:,0:3] = sc1.transform(c_arr1_2[:,0:3])\n",
    "c_p1_f = ann1.predict(c_arr1_2)\n",
    "c_p1_f = c_p1_f.flatten()\n",
    "print (c_p1_f.shape)\n",
    "\n",
    "c_p1_n = np.repeat(100000, len(d_s1_n))\n",
    "print ('c_p1_n', c_p1_n.shape)\n",
    "c_p1_n = c_p1_n.reshape(len(d_s1_n),1)\n",
    "c_p1_n = c_p1_n.flatten()\n",
    "print (c_p1_n.shape)"
   ],
   "metadata": {
    "collapsed": false,
    "ExecuteTime": {
     "end_time": "2023-11-09T06:15:43.746512600Z",
     "start_time": "2023-11-09T06:15:08.679712500Z"
    }
   },
   "id": "1288430f95d6fbba"
  },
  {
   "cell_type": "markdown",
   "source": [
    "## d_s2(edit)"
   ],
   "metadata": {
    "collapsed": false
   },
   "id": "b3d2d71b7644c1d1"
  },
  {
   "cell_type": "code",
   "execution_count": 348,
   "outputs": [
    {
     "name": "stdout",
     "output_type": "stream",
     "text": [
      "9454/9454 [==============================] - 13s 1ms/step\n",
      "9454/9454 [==============================] - 23s 2ms/step\n",
      "9454/9454 [==============================] - 14s 1ms/step\n",
      "d_s2_f (193748, 1)\n",
      "d_s2_n (108772, 1)\n",
      "c_ph2 (193748, 2)\n",
      "6055/6055 [==============================] - 10s 2ms/step\n",
      "(193748,)\n",
      "(108772,)\n"
     ]
    }
   ],
   "source": [
    "#Charge mass array for initial parameter prediction\n",
    "m_p2 = np.repeat(charge_mass, len(d_s2)).reshape(len(d_s2),1)\n",
    "\n",
    "c_arr2 = np.concatenate ((m_p2, d_s2), axis = 1)\n",
    "#predict change, arrival and end times\n",
    "change_time2 = ann_chg.predict(c_arr2)\n",
    "arrival_time2 = ann_arr.predict(c_arr2)\n",
    "end_time2 = ann_end.predict(c_arr2)\n",
    "\n",
    "d_s2_n = np.array([])\n",
    "d_s2_f = np.array([])\n",
    "\n",
    "#define phase change\n",
    "if time < change_time2[0]:\n",
    "    if time < arrival_time2[0]:\n",
    "        d_s2_n = np.append(d_s2_n,d_s2[0])\n",
    "    else:\n",
    "        d_s2_f = np.append(d_s2_f,d_s2[0])\n",
    "        c_ph2 = np.array([[0, 1]])\n",
    "else:\n",
    "    if time > end_time2[0]:\n",
    "        d_s2_n = np.append(d_s2_n,d_s2[0])\n",
    "    else:\n",
    "        d_s2_f = np.append(d_s2_f,d_s2[0])\n",
    "        c_ph2 = np.array([[1, 0]])\n",
    "    \n",
    "positive = np.array([0, 1])\n",
    "negative = np.array([1, 0])\n",
    "\n",
    "for index2 in range (1, len(change_time2)):\n",
    "    if time < change_time2[index2]:\n",
    "        if time < arrival_time2[index2]:\n",
    "            d_s2_n = np.append(d_s2_n,d_s2[index2])\n",
    "        else:\n",
    "            d_s2_f = np.append(d_s2_f,d_s2[index2])\n",
    "            c_ph2 = np.vstack((c_ph2,positive))\n",
    "    else:\n",
    "        if time > end_time2[index2]:\n",
    "            d_s2_n = np.append(d_s2_n,d_s2[index2])\n",
    "        else:\n",
    "            d_s2_f = np.append(d_s2_f,d_s2[index2])\n",
    "            c_ph2 = np.vstack((c_ph2,negative))\n",
    "\n",
    "#Charge mass array\n",
    "c_m2 = np.repeat(charge_mass, len(d_s2_f)).reshape(len(d_s2_f),1)\n",
    "#Time array\n",
    "c_t2 = np.repeat(time, len(d_s2_f)).reshape(len(d_s2_f),1)\n",
    "\n",
    "d_s2_f = d_s2_f.reshape(len (d_s2_f), 1)\n",
    "d_s2_n = d_s2_n.reshape(len (d_s2_n), 1)\n",
    "\n",
    "print ('d_s2_f', d_s2_f.shape)\n",
    "print ('d_s2_n', d_s2_n.shape)\n",
    "print ('c_ph2', c_ph2.shape)\n",
    "\n",
    "c_arr2_2 = np.concatenate ((c_m2, d_s2_f, c_t2, c_ph2), axis = 1)\n",
    "c_arr2_2[:,0:3] = sc2.transform(c_arr2_2[:,0:3])\n",
    "c_p2_f = ann2.predict(c_arr2_2)\n",
    "c_p2_f = c_p2_f.flatten()\n",
    "print (c_p2_f.shape)\n",
    "\n",
    "c_p2_n = np.repeat(100000, len(d_s2_n)).reshape(len(d_s2_n),1)\n",
    "c_p2_n = c_p2_n.flatten()\n",
    "print (c_p2_n.shape)"
   ],
   "metadata": {
    "collapsed": false,
    "ExecuteTime": {
     "end_time": "2023-11-09T06:28:43.320504100Z",
     "start_time": "2023-11-09T06:25:46.348610Z"
    }
   },
   "id": "797961c923aafb1a"
  },
  {
   "cell_type": "markdown",
   "source": [
    "## d_s3(edit)"
   ],
   "metadata": {
    "collapsed": false
   },
   "id": "882b3d1408aca09b"
  },
  {
   "cell_type": "code",
   "execution_count": 350,
   "outputs": [
    {
     "name": "stdout",
     "output_type": "stream",
     "text": [
      "11603/11603 [==============================] - 16s 1ms/step\n",
      "11603/11603 [==============================] - 44s 4ms/step\n",
      "11603/11603 [==============================] - 18s 2ms/step\n",
      "d_s3_f (0, 1)\n",
      "d_s3_n (371280, 1)\n",
      "c_ph3 (16303, 2)\n",
      "(371280,)\n"
     ]
    }
   ],
   "source": [
    "#Charge mass array\n",
    "m_p3 = np.repeat(charge_mass, len(d_s3)).reshape(len(d_s3),1)\n",
    "\n",
    "c_arr3 = np.concatenate ((m_p3, d_s3), axis = 1)\n",
    "#predict change, arrival and end times\n",
    "change_time3 = ann_chg.predict(c_arr3)\n",
    "arrival_time3 = ann_arr.predict(c_arr3)\n",
    "end_time3 = ann_end.predict(c_arr3)\n",
    "\n",
    "d_s3_n = np.array([])\n",
    "d_s3_f = np.array([])\n",
    "\n",
    "#define phase change\n",
    "if time < change_time3[0]:\n",
    "    if time < arrival_time3[0]:\n",
    "        d_s3_n = np.append(d_s3_n,d_s3[0])\n",
    "    else:\n",
    "        d_s3_f = np.append(d_s3_f,d_s3[0])\n",
    "        c_ph3 = np.array([[0, 1]])\n",
    "else:\n",
    "    if time > end_time3[0]:\n",
    "        d_s3_n = np.append(d_s3_n,d_s3[0])\n",
    "    else:\n",
    "        d_s3_f = np.append(d_s3_f,d_s3[0])\n",
    "        c_ph3 = np.array([[1, 0]])\n",
    "    \n",
    "positive = np.array([0, 1])\n",
    "negative = np.array([1, 0])\n",
    "\n",
    "for index3 in range (1, len(change_time3)):\n",
    "    if time < change_time3[index3]:\n",
    "        if time < arrival_time3[index3]:\n",
    "            d_s3_n = np.append(d_s3_n,d_s3[index3])\n",
    "        else:\n",
    "            d_s3_f = np.append(d_s3_f,d_s3[index3])\n",
    "            c_ph3 = np.vstack((c_ph3,positive))\n",
    "    else:\n",
    "        if time > end_time3[index3]:\n",
    "            d_s3_n = np.append(d_s3_n,d_s3[index3])\n",
    "        else:\n",
    "            d_s3_f = np.append(d_s3_f,d_s3[index3])\n",
    "            c_ph3 = np.vstack((c_ph3,negative))\n",
    "\n",
    "#Charge mass array\n",
    "c_m3 = np.repeat(charge_mass, len(d_s3_f)).reshape(len(d_s3_f),1)\n",
    "#Time array\n",
    "c_t3 = np.repeat(time, len(d_s3_f)).reshape(len(d_s3_f),1)\n",
    "\n",
    "d_s3_f = d_s3_f.reshape(len (d_s3_f), 1)\n",
    "d_s3_n = d_s3_n.reshape(len (d_s3_n), 1)\n",
    "\n",
    "print ('d_s3_f', d_s3_f.shape)\n",
    "print ('d_s3_n', d_s3_n.shape)\n",
    "print ('c_ph3', c_ph3.shape)\n",
    "\n",
    "#c_arr3_2 = np.concatenate ((c_m3, d_s3_f, c_t3, c_ph3), axis = 1)\n",
    "#c_arr3_2[:,0:3] = sc3.transform(c_arr3_2[:,0:3])\n",
    "#c_p3_f = ann3.predict(c_arr3_2)\n",
    "#c_p3_f = c_p3_f.flatten()\n",
    "#print (c_p3_f.shape)\n",
    "\n",
    "c_p3_n = np.repeat(100000, len(d_s3_n)).reshape(len(d_s3_n),1)\n",
    "c_p3_n = c_p3_n.flatten()\n",
    "print (c_p3_n.shape)"
   ],
   "metadata": {
    "collapsed": false,
    "ExecuteTime": {
     "end_time": "2023-11-09T06:44:30.431989700Z",
     "start_time": "2023-11-09T06:38:34.343090700Z"
    }
   },
   "id": "ef5fef4bdf342308"
  },
  {
   "cell_type": "markdown",
   "source": [
    "## d_s3"
   ],
   "metadata": {
    "collapsed": false
   },
   "id": "dedab8c031ee96a1"
  },
  {
   "cell_type": "code",
   "execution_count": 182,
   "outputs": [
    {
     "name": "stdout",
     "output_type": "stream",
     "text": [
      "510/510 [==============================] - 1s 1ms/step\n",
      "510/510 [==============================] - 2s 3ms/step\n",
      "510/510 [==============================] - 1s 2ms/step\n",
      "510/510 [==============================] - 1s 2ms/step\n",
      "(16303,)\n"
     ]
    }
   ],
   "source": [
    "#Charge mass array\n",
    "c_m3 = np.repeat(charge_mass, len(d_s3)).reshape(len(d_s3),1)\n",
    "#Time array\n",
    "c_t3 = np.repeat(time, len(d_s3)).reshape(len(d_s3),1)\n",
    "c_arr3 = np.concatenate ((c_m3, d_s3), axis = 1)\n",
    "#predict change, arrival and end times\n",
    "change_time3 = ann_chg.predict(c_arr3)\n",
    "arrival_time3 = ann_arr.predict(c_arr3)\n",
    "end_time3 = ann_end.predict(c_arr3)\n",
    "\n",
    "#define phase change\n",
    "if time < change_time3[0]:\n",
    "    c_ph3 = np.array([[0, 1]])\n",
    "else:\n",
    "    c_ph3 = np.array([[1, 0]])\n",
    "    \n",
    "positive = np.array([0, 1])\n",
    "negative = np.array([1, 0])\n",
    "for c_time in change_time3[1:]:\n",
    "    if time < c_time:\n",
    "        c_ph3=np.vstack((c_ph3,positive))\n",
    "    else:\n",
    "        c_ph3=np.vstack((c_ph3,negative))\n",
    "\n",
    "c_arr3_2 = np.concatenate ((c_m3, d_s3, c_t3, c_ph3), axis = 1)\n",
    "c_arr3_2[:,0:3] = sc3.transform(c_arr3_2[:,0:3])\n",
    "c_p3 = ann3.predict(c_arr3_2)\n",
    "c_p3 = c_p3.flatten()\n",
    "print (c_p3.shape)"
   ],
   "metadata": {
    "collapsed": false,
    "ExecuteTime": {
     "end_time": "2023-11-06T06:00:41.632251600Z",
     "start_time": "2023-11-06T06:00:35.950821800Z"
    }
   },
   "id": "be59019e9f7b0866"
  },
  {
   "cell_type": "markdown",
   "source": [
    "## d_s4(edit)"
   ],
   "metadata": {
    "collapsed": false
   },
   "id": "54954976166c10f5"
  },
  {
   "cell_type": "code",
   "execution_count": 352,
   "outputs": [
    {
     "name": "stdout",
     "output_type": "stream",
     "text": [
      "2083/2083 [==============================] - 3s 2ms/step\n",
      "2083/2083 [==============================] - 8s 4ms/step\n",
      "2083/2083 [==============================] - 3s 2ms/step\n",
      "d_s4_f (0, 1)\n",
      "d_s4_n (66656, 1)\n",
      "(66656,)\n"
     ]
    }
   ],
   "source": [
    "#Charge mass array\n",
    "m_p4 = np.repeat(charge_mass, len(d_s4)).reshape(len(d_s4),1)\n",
    "\n",
    "c_arr4 = np.concatenate ((m_p4, d_s4), axis = 1)\n",
    "#predict change, arrival and end times\n",
    "change_time4 = ann_chg.predict(c_arr4)\n",
    "arrival_time4 = ann_arr.predict(c_arr4)\n",
    "end_time4 = ann_end.predict(c_arr4)\n",
    "\n",
    "d_s4_n = np.array([])\n",
    "d_s4_f = np.array([])\n",
    "\n",
    "#define phase change\n",
    "if time < change_time4[0]:\n",
    "    if time < arrival_time4[0]:\n",
    "        d_s4_n = np.append(d_s4_n,d_s4[0])\n",
    "    else:\n",
    "        d_s4_f = np.append(d_s4_f,d_s4[0])\n",
    "        c_ph4 = np.array([[0, 1]])\n",
    "else:\n",
    "    if time > end_time4[0]:\n",
    "        d_s4_n = np.append(d_s4_n,d_s4[0])\n",
    "    else:\n",
    "        d_s4_f = np.append(d_s4_f,d_s4[0])\n",
    "        c_ph4 = np.array([[1, 0]])\n",
    "    \n",
    "positive = np.array([0, 1])\n",
    "negative = np.array([1, 0])\n",
    "\n",
    "for index4 in range (1, len(change_time4)):\n",
    "    if time < change_time4[index4]:\n",
    "        if time < arrival_time4[index4]:\n",
    "            d_s4_n = np.append(d_s4_n,d_s4[index4])\n",
    "        else:\n",
    "            d_s4_f = np.append(d_s4_f,d_s4[index4])\n",
    "            c_ph4 = np.vstack((c_ph4,positive))\n",
    "    else:\n",
    "        if time > end_time4[index4]:\n",
    "            d_s4_n = np.append(d_s4_n,d_s4[index4])\n",
    "        else:\n",
    "            d_s4_f = np.append(d_s4_f,d_s4[index4])\n",
    "            c_ph4 = np.vstack((c_ph4,negative))\n",
    "\n",
    "#Charge mass array\n",
    "c_m4 = np.repeat(charge_mass, len(d_s4_f)).reshape(len(d_s4_f),1)\n",
    "#Time array\n",
    "c_t4 = np.repeat(time, len(d_s4_f)).reshape(len(d_s4_f),1)\n",
    "\n",
    "d_s4_f = d_s4_f.reshape(len (d_s4_f), 1)\n",
    "d_s4_n = d_s4_n.reshape(len (d_s4_n), 1)\n",
    "\n",
    "print ('d_s4_f', d_s4_f.shape)\n",
    "print ('d_s4_n', d_s4_n.shape)\n",
    "#print ('c_ph4', c_ph4.shape)\n",
    "\n",
    "#c_arr4_2 = np.concatenate ((c_m4, d_s4_f, c_t4, c_ph4), axis = 1)\n",
    "#c_arr4_2[:,0:3] = sc4.transform(c_arr4_2[:,0:3])\n",
    "#c_p4_f = ann4.predict(c_arr4_2)\n",
    "#c_p4_f = c_p4_f.flatten()\n",
    "#print (c_p4_f.shape)\n",
    "\n",
    "c_p4_n = np.repeat(100000, len(d_s4_n)).reshape(len(d_s4_n),1)\n",
    "c_p4_n = c_p4_n.flatten()\n",
    "print (c_p4_n.shape)"
   ],
   "metadata": {
    "collapsed": false,
    "ExecuteTime": {
     "end_time": "2023-11-09T06:50:40.826439Z",
     "start_time": "2023-11-09T06:50:19.645866400Z"
    }
   },
   "id": "6021646e9f653ae"
  },
  {
   "cell_type": "markdown",
   "source": [
    "## d_s5"
   ],
   "metadata": {
    "collapsed": false
   },
   "id": "2e7cf6e994c28170"
  },
  {
   "cell_type": "code",
   "execution_count": null,
   "outputs": [],
   "source": [
    "#Charge mass array\n",
    "c_m5 = np.repeat(charge_mass, len(d_s5)).reshape(len(d_s5),1)\n",
    "#Time array\n",
    "c_t5 = np.repeat(time, len(d_s5)).reshape(len(d_s5),1)\n",
    "c_arr5 = np.concatenate ((c_m5, d_s5), axis = 1)\n",
    "#predict change, arrival and end times\n",
    "change_time5 = ann_chg.predict(c_arr5)\n",
    "arrival_time5 = ann_arr.predict(c_arr5)\n",
    "end_time5 = ann_end.predict(c_arr5)\n",
    "\n",
    "#define phase change\n",
    "if time < change_time5[0]:\n",
    "    c_ph5 = np.array([[0, 1]])\n",
    "else:\n",
    "    c_ph5 = np.array([[1, 0]])\n",
    "    \n",
    "positive = np.array([0, 1])\n",
    "negative = np.array([1, 0])\n",
    "for c_time in change_time3[1:]:\n",
    "    if time < c_time:\n",
    "        c_ph5=np.vstack((c_ph5,positive))\n",
    "    else:\n",
    "        c_ph5=np.vstack((c_ph5,negative))\n",
    "\n",
    "c_arr5_2 = np.concatenate ((c_m5, d_s5, c_t5, c_ph5), axis = 1)\n",
    "c_arr5_2[:,0:3] = sc5.transform(c_arr5_2[:,0:3])\n",
    "c_p5 = ann5.predict(c_arr5_2)\n",
    "c_p5 = c_p5.flatten()\n",
    "print (c_p5.shape)"
   ],
   "metadata": {
    "collapsed": false
   },
   "id": "ad832846da0b4c83"
  },
  {
   "cell_type": "code",
   "execution_count": 353,
   "outputs": [
    {
     "name": "stdout",
     "output_type": "stream",
     "text": [
      "(25537,) (106009,) (0,) (193748,) (108772,) (371280,) (66656,)\n",
      "872002\n",
      "Replaced array: [[     0]\n",
      " [     0]\n",
      " [     0]\n",
      " ...\n",
      " [100000]\n",
      " [100000]\n",
      " [100000]]\n"
     ]
    }
   ],
   "source": [
    "d_s0 = d_s0.flatten()\n",
    "d_s1_f = d_s1_f.flatten()\n",
    "d_s1_n = d_s1_n.flatten()\n",
    "d_s2_f = d_s2_f.flatten()\n",
    "d_s2_n = d_s2_n.flatten()\n",
    "d_s3_n = d_s3_n.flatten()\n",
    "d_s4_n = d_s4_n.flatten()\n",
    "#d_s3 = d_s3.flatten()\n",
    "#d_s4 = d_s4.flatten()\n",
    "#d_s5 = d_s5.flatten()\n",
    "print (d_s0.shape, d_s1_f.shape, d_s1_n.shape, d_s2_f.shape, d_s2_n.shape, d_s3_n.shape, d_s4_n.shape)\n",
    "value_map = dict(zip(d_s0, c_p0))\n",
    "value_map.update(dict(zip(d_s1_f, c_p1_f)))\n",
    "value_map.update(dict(zip(d_s1_n, c_p1_n)))\n",
    "value_map.update(dict(zip(d_s2_f, c_p2_f)))\n",
    "value_map.update(dict(zip(d_s2_n, c_p2_n)))\n",
    "value_map.update(dict(zip(d_s3_n, c_p3_n)))\n",
    "value_map.update(dict(zip(d_s4_n, c_p4_n)))\n",
    "#value_map.update(dict(zip(d_s5, c_p5)))\n",
    "print (len(value_map))\n",
    "original_replaced = np.vectorize(value_map.get)(c_d)\n",
    "print(\"Replaced array:\", original_replaced)"
   ],
   "metadata": {
    "collapsed": false,
    "ExecuteTime": {
     "end_time": "2023-11-09T06:52:25.250078Z",
     "start_time": "2023-11-09T06:52:22.644044Z"
    }
   },
   "id": "dea5f6bf292d1423"
  },
  {
   "cell_type": "code",
   "execution_count": 354,
   "outputs": [
    {
     "name": "stdout",
     "output_type": "stream",
     "text": [
      "84372.836\n",
      "84173.13\n",
      "102877.38\n",
      "135267.31\n"
     ]
    }
   ],
   "source": [
    "print (min(c_p1_f))\n",
    "print (min(c_p2_f))\n",
    "\n",
    "print (max(c_p1_f))\n",
    "print (max(c_p2_f))"
   ],
   "metadata": {
    "collapsed": false,
    "ExecuteTime": {
     "end_time": "2023-11-09T06:52:32.467857600Z",
     "start_time": "2023-11-09T06:52:32.405477300Z"
    }
   },
   "id": "7b1787dc00b26737"
  },
  {
   "cell_type": "code",
   "execution_count": 356,
   "outputs": [
    {
     "name": "stdout",
     "output_type": "stream",
     "text": [
      "[[     0      0      0 ... 100000 100000 100000]\n",
      " [     0      0      0 ... 100000 100000 100000]\n",
      " [     0      0      0 ... 100000 100000 100000]\n",
      " ...\n",
      " [100000 100000 100000 ... 100000 100000 100000]\n",
      " [100000 100000 100000 ... 100000 100000 100000]\n",
      " [100000 100000 100000 ... 100000 100000 100000]]\n"
     ]
    }
   ],
   "source": [
    "c_p = original_replaced.reshape(1600, 1600)\n",
    "print (c_p)"
   ],
   "metadata": {
    "collapsed": false,
    "ExecuteTime": {
     "end_time": "2023-11-09T06:53:02.906070300Z",
     "start_time": "2023-11-09T06:53:02.874411400Z"
    }
   },
   "id": "5eeec09a718fa4c3"
  },
  {
   "cell_type": "code",
   "execution_count": null,
   "outputs": [],
   "source": [
    "# convert array into dataframe\n",
    "DF = pd.DataFrame(c_p)\n",
    " \n",
    "# save the dataframe as a csv file\n",
    "DF.to_csv(\"data1.csv\")"
   ],
   "metadata": {
    "collapsed": false
   },
   "id": "e88e4ad5b8b62381"
  },
  {
   "cell_type": "code",
   "execution_count": 357,
   "outputs": [
    {
     "data": {
      "text/plain": "<Figure size 650x500 with 2 Axes>",
      "image/png": "[encoded data removed]"
     },
     "metadata": {},
     "output_type": "display_data"
    }
   ],
   "source": [
    "import matplotlib\n",
    "from scipy.interpolate import griddata\n",
    "\n",
    "cdict = {'red': ((0.0, 0.0, 0.0),\n",
    "                 (0.25, 0.2, 0.2),\n",
    "                 (0.5, 0.0, 0.0),\n",
    "                 (0.75, 1.0, 1.0),\n",
    "                 (1.0, 1.0, 1.0)),\n",
    "        'green':((0.0, 0.0, 0.0),\n",
    "                 (0.25, 1.0, 1.0),\n",
    "                 (0.5, 1.0, 1.0),\n",
    "                 (0.75, 1.0, 1.0),\n",
    "                 (1.0, 0.0, 0.0)),\n",
    "        'blue': ((0.0, 1.0, 1.0),\n",
    "                 (0.25, 1.0, 1.0),\n",
    "                 (0.5, 0.0, 0.0),\n",
    "                 (0.75, 0.0, 0.0),\n",
    "                 (1.0, 0.0, 0.0))}\n",
    "my_cmap = matplotlib.colors.LinearSegmentedColormap('my_colormap',cdict,256)\n",
    "\n",
    "#rng = np.random.default_rng()\n",
    "#points = rng.random((1000, 2))\n",
    "\n",
    "#c_p_interpolate = griddata(points, c_p, (X,Y), method = 'linear')\n",
    "\n",
    "fig, ax = plt.subplots(figsize=(6.5,5))\n",
    "left, bottom, width, height = 0.1, 0.1, 0.8, 0.8\n",
    "#ax1 = fig.add_axes([left, bottom, width, height])\n",
    "levels = np.linspace(min(c_p2_f), max(c_p2_f), 101)\n",
    "cp = plt.contourf(X, Y, c_p, levels= levels, cmap = my_cmap) # c_p_interpolate\n",
    "fig.colorbar(cp, pad =0.08)\n",
    "text = 'Incident Pressure (Pa)'\n",
    "plt.gcf().text(0.76, 0.35, text, fontsize=10, rotation = 90, rotation_mode = 'anchor')\n",
    "#plt.gcf().text(0.8, 0.87, '(Pa)', fontsize=10)\n",
    "\n",
    "#ax.set_title('Incident Pressure Contour Plot')\n",
    "ax.set_xlabel('x (m)')\n",
    "ax.set_ylabel('y (m)')\n",
    "plt.show()"
   ],
   "metadata": {
    "collapsed": false,
    "ExecuteTime": {
     "end_time": "2023-11-09T06:53:21.074067100Z",
     "start_time": "2023-11-09T06:53:16.624874700Z"
    }
   },
   "id": "6f18651dc592b358"
  }
 ],
 "metadata": {
  "kernelspec": {
   "display_name": "Python 3 (ipykernel)",
   "language": "python",
   "name": "python3"
  },
  "language_info": {
   "codemirror_mode": {
    "name": "ipython",
    "version": 3
   },
   "file_extension": ".py",
   "mimetype": "text/x-python",
   "name": "python",
   "nbconvert_exporter": "python",
   "pygments_lexer": "ipython3",
   "version": "3.9.7"
  }
 },
 "nbformat": 4,
 "nbformat_minor": 5
}
