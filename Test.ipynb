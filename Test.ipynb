{
 "cells": [
  {
   "cell_type": "code",
   "execution_count": 1,
   "id": "initial_id",
   "metadata": {
    "collapsed": true,
    "ExecuteTime": {
     "end_time": "2024-09-15T13:10:26.709955100Z",
     "start_time": "2024-09-15T13:10:17.127723Z"
    }
   },
   "outputs": [
    {
     "ename": "ImportError",
     "evalue": "`save_model()` using h5 format requires h5py. Could not import h5py.",
     "output_type": "error",
     "traceback": [
      "\u001B[1;31m---------------------------------------------------------------------------\u001B[0m",
      "\u001B[1;31mImportError\u001B[0m                               Traceback (most recent call last)",
      "Cell \u001B[1;32mIn[1], line 4\u001B[0m\n\u001B[0;32m      2\u001B[0m \u001B[38;5;66;03m#from tensorflow.keras.models import load_model\u001B[39;00m\n\u001B[0;32m      3\u001B[0m ann_arr \u001B[38;5;241m=\u001B[39m tf\u001B[38;5;241m.\u001B[39mkeras\u001B[38;5;241m.\u001B[39mmodels\u001B[38;5;241m.\u001B[39mload_model(\u001B[38;5;124m'\u001B[39m\u001B[38;5;124mRP_Arrival_time/Arrival_ANN4\u001B[39m\u001B[38;5;124m'\u001B[39m)\n\u001B[1;32m----> 4\u001B[0m \u001B[43mann_arr\u001B[49m\u001B[38;5;241;43m.\u001B[39;49m\u001B[43msave\u001B[49m\u001B[43m(\u001B[49m\u001B[38;5;124;43m'\u001B[39;49m\u001B[38;5;124;43mfiles/Arrival_ANN4.h5\u001B[39;49m\u001B[38;5;124;43m'\u001B[39;49m\u001B[43m)\u001B[49m\n",
      "File \u001B[1;32mD:\\Anaconda3\\envs\\python3.9\\lib\\site-packages\\keras\\utils\\traceback_utils.py:70\u001B[0m, in \u001B[0;36mfilter_traceback.<locals>.error_handler\u001B[1;34m(*args, **kwargs)\u001B[0m\n\u001B[0;32m     67\u001B[0m     filtered_tb \u001B[38;5;241m=\u001B[39m _process_traceback_frames(e\u001B[38;5;241m.\u001B[39m__traceback__)\n\u001B[0;32m     68\u001B[0m     \u001B[38;5;66;03m# To get the full stack trace, call:\u001B[39;00m\n\u001B[0;32m     69\u001B[0m     \u001B[38;5;66;03m# `tf.debugging.disable_traceback_filtering()`\u001B[39;00m\n\u001B[1;32m---> 70\u001B[0m     \u001B[38;5;28;01mraise\u001B[39;00m e\u001B[38;5;241m.\u001B[39mwith_traceback(filtered_tb) \u001B[38;5;28;01mfrom\u001B[39;00m \u001B[38;5;28;01mNone\u001B[39;00m\n\u001B[0;32m     71\u001B[0m \u001B[38;5;28;01mfinally\u001B[39;00m:\n\u001B[0;32m     72\u001B[0m     \u001B[38;5;28;01mdel\u001B[39;00m filtered_tb\n",
      "File \u001B[1;32mD:\\Anaconda3\\envs\\python3.9\\lib\\site-packages\\keras\\saving\\hdf5_format.py:80\u001B[0m, in \u001B[0;36msave_model_to_hdf5\u001B[1;34m(model, filepath, overwrite, include_optimizer)\u001B[0m\n\u001B[0;32m     54\u001B[0m \u001B[38;5;250m\u001B[39m\u001B[38;5;124;03m\"\"\"Saves a model to a HDF5 file.\u001B[39;00m\n\u001B[0;32m     55\u001B[0m \n\u001B[0;32m     56\u001B[0m \u001B[38;5;124;03mThe saved model contains:\u001B[39;00m\n\u001B[1;32m   (...)\u001B[0m\n\u001B[0;32m     76\u001B[0m \u001B[38;5;124;03m    ImportError: if h5py is not available.\u001B[39;00m\n\u001B[0;32m     77\u001B[0m \u001B[38;5;124;03m\"\"\"\u001B[39;00m\n\u001B[0;32m     79\u001B[0m \u001B[38;5;28;01mif\u001B[39;00m h5py \u001B[38;5;129;01mis\u001B[39;00m \u001B[38;5;28;01mNone\u001B[39;00m:\n\u001B[1;32m---> 80\u001B[0m     \u001B[38;5;28;01mraise\u001B[39;00m \u001B[38;5;167;01mImportError\u001B[39;00m(\n\u001B[0;32m     81\u001B[0m         \u001B[38;5;124m\"\u001B[39m\u001B[38;5;124m`save_model()` using h5 format requires h5py. Could not \u001B[39m\u001B[38;5;124m\"\u001B[39m\n\u001B[0;32m     82\u001B[0m         \u001B[38;5;124m\"\u001B[39m\u001B[38;5;124mimport h5py.\u001B[39m\u001B[38;5;124m\"\u001B[39m\n\u001B[0;32m     83\u001B[0m     )\n\u001B[0;32m     85\u001B[0m \u001B[38;5;66;03m# TODO(psv) Add warning when we save models that contain non-serializable\u001B[39;00m\n\u001B[0;32m     86\u001B[0m \u001B[38;5;66;03m# entities like metrics added using `add_metric` and losses added using\u001B[39;00m\n\u001B[0;32m     87\u001B[0m \u001B[38;5;66;03m# `add_loss.`\u001B[39;00m\n\u001B[0;32m     88\u001B[0m \u001B[38;5;28;01mif\u001B[39;00m \u001B[38;5;28mlen\u001B[39m(model\u001B[38;5;241m.\u001B[39mweights) \u001B[38;5;241m!=\u001B[39m \u001B[38;5;28mlen\u001B[39m(model\u001B[38;5;241m.\u001B[39m_undeduplicated_weights):\n",
      "\u001B[1;31mImportError\u001B[0m: `save_model()` using h5 format requires h5py. Could not import h5py."
     ]
    }
   ],
   "source": [
    "import tensorflow as tf\n",
    "#from tensorflow.keras.models import load_model\n",
    "ann_arr = tf.keras.models.load_model('RP_Arrival_time/Arrival_ANN4')\n",
    "ann_arr.save('files/Arrival_ANN4.h5')"
   ]
  },
  {
   "cell_type": "code",
   "execution_count": 2,
   "outputs": [
    {
     "name": "stdout",
     "output_type": "stream",
     "text": [
      "15.0 <class 'numpy.float64'>\n"
     ]
    }
   ],
   "source": [
    "import numpy as np\n",
    "file_name = 29\n",
    "distance = np.ceil(int(file_name)/2)\n",
    "print (distance, type(distance))"
   ],
   "metadata": {
    "collapsed": false,
    "ExecuteTime": {
     "end_time": "2024-11-28T05:17:32.306183600Z",
     "start_time": "2024-11-28T05:17:32.288563200Z"
    }
   },
   "id": "cfb157de51bad878"
  },
  {
   "cell_type": "code",
   "execution_count": 6,
   "outputs": [
    {
     "name": "stdout",
     "output_type": "stream",
     "text": [
      "0      18.5\n",
      "1      18.5\n",
      "2      18.5\n",
      "3      18.5\n",
      "4      18.5\n",
      "       ... \n",
      "150     2.5\n",
      "151     2.5\n",
      "152     2.5\n",
      "153     2.5\n",
      "154     2.5\n",
      "Name: Mass, Length: 155, dtype: float64\n",
      "0      25\n",
      "1      25\n",
      "2      25\n",
      "3      25\n",
      "4      25\n",
      "       ..\n",
      "150     1\n",
      "151     1\n",
      "152     1\n",
      "153     1\n",
      "154     1\n",
      "Name: Standoff distance, Length: 155, dtype: int64\n",
      "    Mass  Standoff distance       Time     Phase   Pressure\n",
      "0   18.5                 25  57.689965  positive  11.324883\n",
      "1   18.5                 25  57.699863  positive  11.284977\n",
      "2   18.5                 25  57.709765  positive  11.267250\n",
      "3   18.5                 25  57.719972  positive  11.284508\n",
      "4   18.5                 25  57.729870  positive  11.249648\n",
      "..   ...                ...        ...       ...        ...\n",
      "95  18.5                 25  97.599909  negative   0.062789\n",
      "96  18.5                 25  97.759865  negative   0.148477\n",
      "97  18.5                 25  97.869702  negative   0.172180\n",
      "98  18.5                 25  98.659895  negative   0.169227\n",
      "99  18.5                 25  99.729776  negative   0.200164\n",
      "\n",
      "[100 rows x 5 columns]\n",
      "99.729776382\n"
     ]
    }
   ],
   "source": [
    "import pandas as pd\n",
    "from pathlib import Path\n",
    "\n",
    "file_path = Path(\"G:\\Chamodi\\LSDYNA_1D\\Incident_pressure_time_history\\Far_field_time_history_dataset\\L13_37\\P49.xlsx\")\n",
    "Distance = 25\n",
    "Mass = 18.5\n",
    "\n",
    "\n",
    "def perform_integration(file_path, Distance, Mass): \n",
    "    # Load the Excel file\n",
    "    df = pd.read_excel(file_path)\n",
    "    \n",
    "    # Filter the DataFrame to keep only rows with matching Mass and Distance\n",
    "    df_filtered = df[(df['Mass'] == Mass) & (df['Standoff distance'] == Distance)]\n",
    "    print (df['Mass'])\n",
    "    print (df['Standoff distance'])\n",
    "    print (df_filtered)\n",
    "    # If the filtered DataFrame is empty, raise an error or return a default value\n",
    "    if df_filtered.empty:\n",
    "        raise ValueError(\"No rows found matching the specified Mass and Distance.\")\n",
    "    \n",
    "    # Sort the filtered DataFrame by Time in ascending order\n",
    "    df_sorted = df_filtered.sort_values(by='Time', ascending=True)\n",
    "    \n",
    "    # Extract time and pressure values\n",
    "    time_num = df_sorted['Time'].values  # Assuming time is in seconds and converting to milliseconds\n",
    "    y_num = df_sorted['Pressure'].values  # Pressure units adjustment (kPa)\n",
    "    \n",
    "    # Find the maximum time value\n",
    "    max_time = np.max(time_num)\n",
    "    \n",
    "    return max_time\n",
    "\n",
    "max_time = perform_integration(file_path, Distance, Mass)\n",
    "print (max_time)"
   ],
   "metadata": {
    "collapsed": false,
    "ExecuteTime": {
     "end_time": "2024-11-28T23:44:07.768946500Z",
     "start_time": "2024-11-28T23:44:07.643839600Z"
    }
   },
   "id": "5465d7988666e00f"
  }
 ],
 "metadata": {
  "kernelspec": {
   "display_name": "Python 3",
   "language": "python",
   "name": "python3"
  },
  "language_info": {
   "codemirror_mode": {
    "name": "ipython",
    "version": 2
   },
   "file_extension": ".py",
   "mimetype": "text/x-python",
   "name": "python",
   "nbconvert_exporter": "python",
   "pygments_lexer": "ipython2",
   "version": "2.7.6"
  }
 },
 "nbformat": 4,
 "nbformat_minor": 5
}
