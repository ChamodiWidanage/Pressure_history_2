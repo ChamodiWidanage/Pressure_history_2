{
 "cells": [
  {
   "cell_type": "markdown",
   "metadata": {
    "colab_type": "text",
    "id": "3cbb7fRy-eyr"
   },
   "source": [
    "# Artificial Neural Network"
   ]
  },
  {
   "cell_type": "markdown",
   "metadata": {
    "colab_type": "text",
    "id": "8sNDnxE2-pwE"
   },
   "source": [
    "## Part 1 - Importing the libraries"
   ]
  },
  {
   "cell_type": "code",
   "execution_count": 1,
   "metadata": {
    "colab": {},
    "colab_type": "code",
    "id": "lxChR1Rk-umf",
    "ExecuteTime": {
     "end_time": "2024-07-27T23:59:21.818645400Z",
     "start_time": "2024-07-27T23:59:16.788215800Z"
    }
   },
   "outputs": [],
   "source": [
    "import numpy as np\n",
    "import pandas as pd\n",
    "import tensorflow as tf\n",
    "import matplotlib.pyplot as plt\n",
    "from keras.models import load_model\n",
    "from pathlib import Path\n",
    "import pickle"
   ]
  },
  {
   "cell_type": "markdown",
   "metadata": {
    "colab_type": "text",
    "id": "AG3FQEch-yuA"
   },
   "source": [
    "## Part 2 - Data Preprocessing"
   ]
  },
  {
   "cell_type": "markdown",
   "metadata": {
    "colab_type": "text",
    "id": "-4zq8Mza_D9O"
   },
   "source": [
    "### Importing the dataset"
   ]
  },
  {
   "cell_type": "code",
   "execution_count": 2,
   "metadata": {
    "ExecuteTime": {
     "end_time": "2024-07-27T23:59:24.156005600Z",
     "start_time": "2024-07-27T23:59:24.116514800Z"
    }
   },
   "outputs": [
    {
     "name": "stdout",
     "output_type": "stream",
     "text": [
      "input G:\\Chamodi\\LSDYNA3D\\RP_TH_models\\RP_Section_6\n",
      "2 [WindowsPath('G:/Chamodi/LSDYNA3D/RP_TH_models/RP_Section_6/RP_curves_fr25m'), WindowsPath('G:/Chamodi/LSDYNA3D/RP_TH_models/RP_Section_6/RP_curves_fr27m'), WindowsPath('G:/Chamodi/LSDYNA3D/RP_TH_models/RP_Section_6/RP_curves_fr29m'), WindowsPath('G:/Chamodi/LSDYNA3D/RP_TH_models/RP_Section_6/RP_curves_fr30m')]\n"
     ]
    }
   ],
   "source": [
    "#Access input folder\n",
    "current_dir = Path.cwd()\n",
    "input_dir1 = Path (\"G:/Chamodi/LSDYNA3D/RP_TH_models/RP_Section_6\")\n",
    "print (\"input\",input_dir1)\n",
    "\n",
    "#Access folders inside input folder\n",
    "input_dir2=  [folder1 for folder1 in input_dir1.iterdir() if folder1.is_dir()] # folder1 - RP_curves_fr7m\n",
    "print (\"2\",input_dir2)"
   ]
  },
  {
   "cell_type": "code",
   "execution_count": 3,
   "metadata": {
    "ExecuteTime": {
     "end_time": "2024-07-28T00:00:13.996254300Z",
     "start_time": "2024-07-27T23:59:25.623394900Z"
    }
   },
   "outputs": [
    {
     "name": "stdout",
     "output_type": "stream",
     "text": [
      "folder G:\\Chamodi\\LSDYNA3D\\RP_TH_models\\RP_Section_6\\RP_curves_fr25m\\25m00.5kg\n",
      "1\n",
      "2\n",
      "3\n",
      "4\n",
      "folder G:\\Chamodi\\LSDYNA3D\\RP_TH_models\\RP_Section_6\\RP_curves_fr25m\\25m02.5kg\n",
      "1\n",
      "2\n",
      "3\n",
      "4\n",
      "folder G:\\Chamodi\\LSDYNA3D\\RP_TH_models\\RP_Section_6\\RP_curves_fr25m\\25m04.5kg\n",
      "1\n",
      "2\n",
      "3\n",
      "4\n",
      "folder G:\\Chamodi\\LSDYNA3D\\RP_TH_models\\RP_Section_6\\RP_curves_fr25m\\25m06.5kg\n",
      "1\n",
      "2\n",
      "3\n",
      "4\n",
      "folder G:\\Chamodi\\LSDYNA3D\\RP_TH_models\\RP_Section_6\\RP_curves_fr25m\\25m08.5kg\n",
      "1\n",
      "2\n",
      "3\n",
      "4\n",
      "folder G:\\Chamodi\\LSDYNA3D\\RP_TH_models\\RP_Section_6\\RP_curves_fr25m\\25m10.5kg\n",
      "1\n",
      "2\n",
      "3\n",
      "4\n",
      "folder G:\\Chamodi\\LSDYNA3D\\RP_TH_models\\RP_Section_6\\RP_curves_fr25m\\25m12.5kg\n",
      "1\n",
      "2\n",
      "3\n",
      "4\n",
      "folder G:\\Chamodi\\LSDYNA3D\\RP_TH_models\\RP_Section_6\\RP_curves_fr25m\\25m14.5kg\n",
      "1\n",
      "2\n",
      "3\n",
      "4\n",
      "folder G:\\Chamodi\\LSDYNA3D\\RP_TH_models\\RP_Section_6\\RP_curves_fr25m\\25m16.5kg\n",
      "2\n",
      "3\n",
      "4\n",
      "folder G:\\Chamodi\\LSDYNA3D\\RP_TH_models\\RP_Section_6\\RP_curves_fr25m\\25m18.5kg\n",
      "1\n",
      "2\n",
      "3\n",
      "4\n",
      "folder G:\\Chamodi\\LSDYNA3D\\RP_TH_models\\RP_Section_6\\RP_curves_fr25m\\25m20.5kg\n",
      "1\n",
      "2\n",
      "3\n",
      "4\n",
      "folder G:\\Chamodi\\LSDYNA3D\\RP_TH_models\\RP_Section_6\\RP_curves_fr25m\\25m22.5kg\n",
      "1\n",
      "2\n",
      "3\n",
      "4\n",
      "folder G:\\Chamodi\\LSDYNA3D\\RP_TH_models\\RP_Section_6\\RP_curves_fr25m\\25m24.5kg\n",
      "1\n",
      "2\n",
      "3\n",
      "4\n",
      "folder G:\\Chamodi\\LSDYNA3D\\RP_TH_models\\RP_Section_6\\RP_curves_fr25m\\25m26.5kg\n",
      "1\n",
      "2\n",
      "3\n",
      "4\n",
      "folder G:\\Chamodi\\LSDYNA3D\\RP_TH_models\\RP_Section_6\\RP_curves_fr25m\\25m28.5kg\n",
      "1\n",
      "2\n",
      "3\n",
      "4\n",
      "folder G:\\Chamodi\\LSDYNA3D\\RP_TH_models\\RP_Section_6\\RP_curves_fr25m\\25m30.5kg\n",
      "1\n",
      "2\n",
      "3\n",
      "4\n",
      "folder G:\\Chamodi\\LSDYNA3D\\RP_TH_models\\RP_Section_6\\RP_curves_fr25m\\25m32.5kg\n",
      "1\n",
      "2\n",
      "3\n",
      "4\n",
      "folder G:\\Chamodi\\LSDYNA3D\\RP_TH_models\\RP_Section_6\\RP_curves_fr25m\\25m34.5kg\n",
      "1\n",
      "2\n",
      "3\n",
      "4\n",
      "folder G:\\Chamodi\\LSDYNA3D\\RP_TH_models\\RP_Section_6\\RP_curves_fr25m\\25m35.0kg\n",
      "1\n",
      "2\n",
      "3\n",
      "4\n",
      "folder G:\\Chamodi\\LSDYNA3D\\RP_TH_models\\RP_Section_6\\RP_curves_fr27m\\27m00.5kg\n",
      "1\n",
      "2\n",
      "3\n",
      "4\n",
      "folder G:\\Chamodi\\LSDYNA3D\\RP_TH_models\\RP_Section_6\\RP_curves_fr27m\\27m02.5kg\n",
      "1\n",
      "2\n",
      "3\n",
      "4\n",
      "folder G:\\Chamodi\\LSDYNA3D\\RP_TH_models\\RP_Section_6\\RP_curves_fr27m\\27m04.5kg\n",
      "1\n",
      "2\n",
      "3\n",
      "4\n",
      "folder G:\\Chamodi\\LSDYNA3D\\RP_TH_models\\RP_Section_6\\RP_curves_fr27m\\27m06.5kg\n",
      "1\n",
      "2\n",
      "3\n",
      "4\n",
      "folder G:\\Chamodi\\LSDYNA3D\\RP_TH_models\\RP_Section_6\\RP_curves_fr27m\\27m08.5kg\n",
      "1\n",
      "2\n",
      "3\n",
      "4\n",
      "folder G:\\Chamodi\\LSDYNA3D\\RP_TH_models\\RP_Section_6\\RP_curves_fr27m\\27m10.5kg\n",
      "1\n",
      "2\n",
      "3\n",
      "4\n",
      "folder G:\\Chamodi\\LSDYNA3D\\RP_TH_models\\RP_Section_6\\RP_curves_fr27m\\27m12.5kg\n",
      "1\n",
      "2\n",
      "3\n",
      "4\n",
      "folder G:\\Chamodi\\LSDYNA3D\\RP_TH_models\\RP_Section_6\\RP_curves_fr27m\\27m14.5kg\n",
      "1\n",
      "2\n",
      "3\n",
      "4\n",
      "folder G:\\Chamodi\\LSDYNA3D\\RP_TH_models\\RP_Section_6\\RP_curves_fr27m\\27m16.5kg\n",
      "1\n",
      "2\n",
      "3\n",
      "4\n",
      "folder G:\\Chamodi\\LSDYNA3D\\RP_TH_models\\RP_Section_6\\RP_curves_fr27m\\27m18.5kg\n",
      "1\n",
      "2\n",
      "3\n",
      "4\n",
      "folder G:\\Chamodi\\LSDYNA3D\\RP_TH_models\\RP_Section_6\\RP_curves_fr27m\\27m20.5kg\n",
      "1\n",
      "2\n",
      "3\n",
      "4\n",
      "folder G:\\Chamodi\\LSDYNA3D\\RP_TH_models\\RP_Section_6\\RP_curves_fr27m\\27m22.5kg\n",
      "1\n",
      "2\n",
      "3\n",
      "4\n",
      "folder G:\\Chamodi\\LSDYNA3D\\RP_TH_models\\RP_Section_6\\RP_curves_fr27m\\27m24.5kg\n",
      "1\n",
      "2\n",
      "3\n",
      "4\n",
      "folder G:\\Chamodi\\LSDYNA3D\\RP_TH_models\\RP_Section_6\\RP_curves_fr27m\\27m26.5kg\n",
      "1\n",
      "2\n",
      "3\n",
      "4\n",
      "folder G:\\Chamodi\\LSDYNA3D\\RP_TH_models\\RP_Section_6\\RP_curves_fr27m\\27m28.5kg\n",
      "1\n",
      "2\n",
      "3\n",
      "4\n",
      "folder G:\\Chamodi\\LSDYNA3D\\RP_TH_models\\RP_Section_6\\RP_curves_fr27m\\27m30.5kg\n",
      "1\n",
      "2\n",
      "3\n",
      "4\n",
      "folder G:\\Chamodi\\LSDYNA3D\\RP_TH_models\\RP_Section_6\\RP_curves_fr27m\\27m32.5kg\n",
      "1\n",
      "2\n",
      "3\n",
      "4\n",
      "folder G:\\Chamodi\\LSDYNA3D\\RP_TH_models\\RP_Section_6\\RP_curves_fr27m\\27m34.5kg\n",
      "1\n",
      "2\n",
      "3\n",
      "4\n",
      "folder G:\\Chamodi\\LSDYNA3D\\RP_TH_models\\RP_Section_6\\RP_curves_fr27m\\27m35.0kg\n",
      "1\n",
      "2\n",
      "3\n",
      "4\n",
      "folder G:\\Chamodi\\LSDYNA3D\\RP_TH_models\\RP_Section_6\\RP_curves_fr29m\\29m00.5kg\n",
      "1\n",
      "2\n",
      "3\n",
      "4\n",
      "folder G:\\Chamodi\\LSDYNA3D\\RP_TH_models\\RP_Section_6\\RP_curves_fr29m\\29m02.5kg\n",
      "1\n",
      "2\n",
      "3\n",
      "4\n",
      "folder G:\\Chamodi\\LSDYNA3D\\RP_TH_models\\RP_Section_6\\RP_curves_fr29m\\29m04.5kg\n",
      "1\n",
      "2\n",
      "3\n",
      "4\n",
      "folder G:\\Chamodi\\LSDYNA3D\\RP_TH_models\\RP_Section_6\\RP_curves_fr29m\\29m06.5kg\n",
      "1\n",
      "2\n",
      "3\n",
      "4\n",
      "folder G:\\Chamodi\\LSDYNA3D\\RP_TH_models\\RP_Section_6\\RP_curves_fr29m\\29m08.5kg\n",
      "1\n",
      "2\n",
      "3\n",
      "4\n",
      "folder G:\\Chamodi\\LSDYNA3D\\RP_TH_models\\RP_Section_6\\RP_curves_fr29m\\29m10.5kg\n",
      "1\n",
      "2\n",
      "3\n",
      "4\n",
      "folder G:\\Chamodi\\LSDYNA3D\\RP_TH_models\\RP_Section_6\\RP_curves_fr29m\\29m12.5kg\n",
      "1\n",
      "2\n",
      "3\n",
      "4\n",
      "folder G:\\Chamodi\\LSDYNA3D\\RP_TH_models\\RP_Section_6\\RP_curves_fr29m\\29m14.5kg\n",
      "1\n",
      "2\n",
      "3\n",
      "4\n",
      "folder G:\\Chamodi\\LSDYNA3D\\RP_TH_models\\RP_Section_6\\RP_curves_fr29m\\29m16.5kg\n",
      "1\n",
      "2\n",
      "3\n",
      "4\n",
      "folder G:\\Chamodi\\LSDYNA3D\\RP_TH_models\\RP_Section_6\\RP_curves_fr29m\\29m18.5kg\n",
      "1\n",
      "2\n",
      "3\n",
      "4\n",
      "folder G:\\Chamodi\\LSDYNA3D\\RP_TH_models\\RP_Section_6\\RP_curves_fr29m\\29m20.5kg\n",
      "1\n",
      "2\n",
      "3\n",
      "4\n",
      "folder G:\\Chamodi\\LSDYNA3D\\RP_TH_models\\RP_Section_6\\RP_curves_fr29m\\29m22.5kg\n",
      "1\n",
      "2\n",
      "3\n",
      "4\n",
      "folder G:\\Chamodi\\LSDYNA3D\\RP_TH_models\\RP_Section_6\\RP_curves_fr29m\\29m24.5kg\n",
      "1\n",
      "2\n",
      "3\n",
      "4\n",
      "folder G:\\Chamodi\\LSDYNA3D\\RP_TH_models\\RP_Section_6\\RP_curves_fr29m\\29m26.5kg\n",
      "1\n",
      "2\n",
      "3\n",
      "4\n",
      "folder G:\\Chamodi\\LSDYNA3D\\RP_TH_models\\RP_Section_6\\RP_curves_fr29m\\29m28.5kg\n",
      "1\n",
      "2\n",
      "3\n",
      "4\n",
      "folder G:\\Chamodi\\LSDYNA3D\\RP_TH_models\\RP_Section_6\\RP_curves_fr29m\\29m30.5kg\n",
      "1\n",
      "2\n",
      "3\n",
      "4\n",
      "folder G:\\Chamodi\\LSDYNA3D\\RP_TH_models\\RP_Section_6\\RP_curves_fr29m\\29m32.5kg\n",
      "1\n",
      "2\n",
      "3\n",
      "4\n",
      "folder G:\\Chamodi\\LSDYNA3D\\RP_TH_models\\RP_Section_6\\RP_curves_fr29m\\29m34.5kg\n",
      "1\n",
      "2\n",
      "3\n",
      "4\n",
      "folder G:\\Chamodi\\LSDYNA3D\\RP_TH_models\\RP_Section_6\\RP_curves_fr29m\\29m35.0kg\n",
      "1\n",
      "2\n",
      "3\n",
      "4\n",
      "folder G:\\Chamodi\\LSDYNA3D\\RP_TH_models\\RP_Section_6\\RP_curves_fr30m\\30m00.5kg\n",
      "1\n",
      "2\n",
      "3\n",
      "4\n",
      "folder G:\\Chamodi\\LSDYNA3D\\RP_TH_models\\RP_Section_6\\RP_curves_fr30m\\30m02.5kg\n",
      "1\n",
      "2\n",
      "3\n",
      "4\n",
      "folder G:\\Chamodi\\LSDYNA3D\\RP_TH_models\\RP_Section_6\\RP_curves_fr30m\\30m04.5kg\n",
      "1\n",
      "2\n",
      "3\n",
      "4\n",
      "folder G:\\Chamodi\\LSDYNA3D\\RP_TH_models\\RP_Section_6\\RP_curves_fr30m\\30m06.5kg\n",
      "1\n",
      "2\n",
      "3\n",
      "4\n",
      "folder G:\\Chamodi\\LSDYNA3D\\RP_TH_models\\RP_Section_6\\RP_curves_fr30m\\30m08.5kg\n",
      "1\n",
      "2\n",
      "3\n",
      "4\n",
      "folder G:\\Chamodi\\LSDYNA3D\\RP_TH_models\\RP_Section_6\\RP_curves_fr30m\\30m10.5kg\n",
      "1\n",
      "2\n",
      "3\n",
      "4\n",
      "folder G:\\Chamodi\\LSDYNA3D\\RP_TH_models\\RP_Section_6\\RP_curves_fr30m\\30m12.5kg\n",
      "1\n",
      "2\n",
      "3\n",
      "4\n",
      "folder G:\\Chamodi\\LSDYNA3D\\RP_TH_models\\RP_Section_6\\RP_curves_fr30m\\30m14.5kg\n",
      "1\n",
      "2\n",
      "3\n",
      "4\n",
      "folder G:\\Chamodi\\LSDYNA3D\\RP_TH_models\\RP_Section_6\\RP_curves_fr30m\\30m16.5kg\n",
      "1\n",
      "2\n",
      "3\n",
      "4\n",
      "folder G:\\Chamodi\\LSDYNA3D\\RP_TH_models\\RP_Section_6\\RP_curves_fr30m\\30m18.5kg\n",
      "1\n",
      "2\n",
      "3\n",
      "4\n",
      "folder G:\\Chamodi\\LSDYNA3D\\RP_TH_models\\RP_Section_6\\RP_curves_fr30m\\30m20.5kg\n",
      "1\n",
      "2\n",
      "3\n",
      "4\n",
      "folder G:\\Chamodi\\LSDYNA3D\\RP_TH_models\\RP_Section_6\\RP_curves_fr30m\\30m22.5kg\n",
      "1\n",
      "2\n",
      "3\n",
      "4\n",
      "folder G:\\Chamodi\\LSDYNA3D\\RP_TH_models\\RP_Section_6\\RP_curves_fr30m\\30m24.5kg\n",
      "1\n",
      "2\n",
      "3\n",
      "4\n",
      "folder G:\\Chamodi\\LSDYNA3D\\RP_TH_models\\RP_Section_6\\RP_curves_fr30m\\30m26.5kg\n",
      "1\n",
      "2\n",
      "3\n",
      "4\n",
      "folder G:\\Chamodi\\LSDYNA3D\\RP_TH_models\\RP_Section_6\\RP_curves_fr30m\\30m28.5kg\n",
      "1\n",
      "2\n",
      "3\n",
      "4\n",
      "folder G:\\Chamodi\\LSDYNA3D\\RP_TH_models\\RP_Section_6\\RP_curves_fr30m\\30m30.5kg\n",
      "1\n",
      "2\n",
      "3\n",
      "4\n",
      "folder G:\\Chamodi\\LSDYNA3D\\RP_TH_models\\RP_Section_6\\RP_curves_fr30m\\30m32.5kg\n",
      "1\n",
      "2\n",
      "3\n",
      "4\n",
      "folder G:\\Chamodi\\LSDYNA3D\\RP_TH_models\\RP_Section_6\\RP_curves_fr30m\\30m34.5kg\n",
      "1\n",
      "2\n",
      "3\n",
      "4\n",
      "folder G:\\Chamodi\\LSDYNA3D\\RP_TH_models\\RP_Section_6\\RP_curves_fr30m\\30m35.0kg\n",
      "1\n",
      "2\n",
      "3\n",
      "4\n"
     ]
    }
   ],
   "source": [
    "#dataset = pd.DataFrame(columns = ['Charge_mass', 'Standoff_distance', 'Time', 'Pressure', 'Phase'])\n",
    "df_list = []\n",
    "\n",
    "for folder1 in input_dir2:\n",
    "    \n",
    "    input_dir3 =  [folder2 for folder2 in folder1.iterdir() if folder2.is_dir()] # folder2 - 07m00.5kg\n",
    "    \n",
    "    for folder2 in input_dir3:\n",
    "        \n",
    "        print ('folder', folder2)\n",
    "        files1 = [file1 for file1 in folder2.rglob(\"*.xlsx\")]\n",
    "    \n",
    "        for file1 in files1:\n",
    "            df_list.append(pd.read_excel(file1))\n",
    "            print (file1.stem)\n",
    "    \n",
    "dataset = pd.concat(df_list, ignore_index = True)"
   ]
  },
  {
   "cell_type": "code",
   "execution_count": 4,
   "metadata": {
    "colab": {},
    "colab_type": "code",
    "id": "B9CV13Co_HHM",
    "ExecuteTime": {
     "end_time": "2024-07-28T00:00:23.996435900Z",
     "start_time": "2024-07-28T00:00:23.855865200Z"
    }
   },
   "outputs": [
    {
     "name": "stdout",
     "output_type": "stream",
     "text": [
      "<class 'pandas.core.frame.DataFrame'>\n",
      "RangeIndex: 433422 entries, 0 to 433421\n",
      "Data columns (total 6 columns):\n",
      " #   Column             Non-Null Count   Dtype  \n",
      "---  ------             --------------   -----  \n",
      " 0   Mass               433422 non-null  float64\n",
      " 1   Standoff distance  433422 non-null  int64  \n",
      " 2   Angle              433422 non-null  int64  \n",
      " 3   Time               433422 non-null  float64\n",
      " 4   Phase              433422 non-null  object \n",
      " 5   Pressure           433422 non-null  float64\n",
      "dtypes: float64(3), int64(2), object(1)\n",
      "memory usage: 19.8+ MB\n"
     ]
    }
   ],
   "source": [
    "dataset.info()"
   ]
  },
  {
   "cell_type": "code",
   "execution_count": 5,
   "outputs": [
    {
     "name": "stdout",
     "output_type": "stream",
     "text": [
      "<class 'pandas.core.frame.DataFrame'>\n",
      "RangeIndex: 433422 entries, 0 to 433421\n",
      "Data columns (total 8 columns):\n",
      " #   Column                     Non-Null Count   Dtype  \n",
      "---  ------                     --------------   -----  \n",
      " 0   Mass                       433422 non-null  float64\n",
      " 1   Standoff distance          433422 non-null  int64  \n",
      " 2   Angle                      433422 non-null  int64  \n",
      " 3   Time                       433422 non-null  float64\n",
      " 4   Pressure                   433422 non-null  float64\n",
      " 5   Phase_negative_decreasing  433422 non-null  uint8  \n",
      " 6   Phase_negative_increasing  433422 non-null  uint8  \n",
      " 7   Phase_positive             433422 non-null  uint8  \n",
      "dtypes: float64(3), int64(2), uint8(3)\n",
      "memory usage: 17.8 MB\n"
     ]
    }
   ],
   "source": [
    "dataset = pd.get_dummies(dataset, columns =['Phase'], dtype = np.uint8)\n",
    "dataset.info()"
   ],
   "metadata": {
    "collapsed": false,
    "ExecuteTime": {
     "end_time": "2024-07-28T00:00:26.252562600Z",
     "start_time": "2024-07-28T00:00:26.139339700Z"
    }
   }
  },
  {
   "cell_type": "code",
   "execution_count": 6,
   "outputs": [
    {
     "data": {
      "text/plain": "    Mass  Standoff distance  Angle       Time  Pressure  \\\n0    0.5                 25      0  67.794907  4.165875   \n1    0.5                 25      0  67.831663  4.117344   \n2    0.5                 25      0  67.868441  3.996742   \n3    0.5                 25      0  67.905219  3.823539   \n4    0.5                 25      0  67.941997  3.611555   \n5    0.5                 25      0  67.978793  3.364867   \n6    0.5                 25      0  68.015603  3.092086   \n7    0.5                 25      0  68.052414  2.779633   \n8    0.5                 25      0  68.089230  2.444719   \n9    0.5                 25      0  68.125987  2.096375   \n10   0.5                 25      0  68.162761  1.775031   \n11   0.5                 25      0  68.199550  1.506352   \n12   0.5                 25      0  68.236369  1.323352   \n13   0.5                 25      0  68.273164  1.202219   \n14   0.5                 25      0  68.309957  1.114961   \n15   0.5                 25      0  68.346681  1.047820   \n16   0.5                 25      0  68.383405  0.973148   \n17   0.5                 25      0  68.420093  0.892008   \n18   0.5                 25      0  68.456746  0.815008   \n19   0.5                 25      0  68.493399  0.781695   \n20   0.5                 25      0  68.530226  0.777469   \n21   0.5                 25      0  68.567046  0.781031   \n22   0.5                 25      0  68.603884  0.753617   \n23   0.5                 25      0  68.640515  0.697406   \n24   0.5                 25      0  68.677237  0.646937   \n25   0.5                 25      0  68.713923  0.606727   \n26   0.5                 25      0  68.750575  0.626031   \n27   0.5                 25      0  68.787226  0.649469   \n28   0.5                 25      0  68.823875  0.649469   \n29   0.5                 25      0  68.860523  0.641427   \n\n    Phase_negative_decreasing  Phase_negative_increasing  Phase_positive  \n0                           0                          0               1  \n1                           0                          0               1  \n2                           0                          0               1  \n3                           0                          0               1  \n4                           0                          0               1  \n5                           0                          0               1  \n6                           0                          0               1  \n7                           0                          0               1  \n8                           0                          0               1  \n9                           0                          0               1  \n10                          0                          0               1  \n11                          0                          0               1  \n12                          0                          0               1  \n13                          0                          0               1  \n14                          0                          0               1  \n15                          0                          0               1  \n16                          0                          0               1  \n17                          0                          0               1  \n18                          0                          0               1  \n19                          0                          0               1  \n20                          0                          0               1  \n21                          0                          0               1  \n22                          0                          0               1  \n23                          0                          0               1  \n24                          0                          0               1  \n25                          0                          0               1  \n26                          0                          0               1  \n27                          0                          0               1  \n28                          0                          0               1  \n29                          0                          0               1  ",
      "text/html": "<div>\n<style scoped>\n    .dataframe tbody tr th:only-of-type {\n        vertical-align: middle;\n    }\n\n    .dataframe tbody tr th {\n        vertical-align: top;\n    }\n\n    .dataframe thead th {\n        text-align: right;\n    }\n</style>\n<table border=\"1\" class=\"dataframe\">\n  <thead>\n    <tr style=\"text-align: right;\">\n      <th></th>\n      <th>Mass</th>\n      <th>Standoff distance</th>\n      <th>Angle</th>\n      <th>Time</th>\n      <th>Pressure</th>\n      <th>Phase_negative_decreasing</th>\n      <th>Phase_negative_increasing</th>\n      <th>Phase_positive</th>\n    </tr>\n  </thead>\n  <tbody>\n    <tr>\n      <th>0</th>\n      <td>0.5</td>\n      <td>25</td>\n      <td>0</td>\n      <td>67.794907</td>\n      <td>4.165875</td>\n      <td>0</td>\n      <td>0</td>\n      <td>1</td>\n    </tr>\n    <tr>\n      <th>1</th>\n      <td>0.5</td>\n      <td>25</td>\n      <td>0</td>\n      <td>67.831663</td>\n      <td>4.117344</td>\n      <td>0</td>\n      <td>0</td>\n      <td>1</td>\n    </tr>\n    <tr>\n      <th>2</th>\n      <td>0.5</td>\n      <td>25</td>\n      <td>0</td>\n      <td>67.868441</td>\n      <td>3.996742</td>\n      <td>0</td>\n      <td>0</td>\n      <td>1</td>\n    </tr>\n    <tr>\n      <th>3</th>\n      <td>0.5</td>\n      <td>25</td>\n      <td>0</td>\n      <td>67.905219</td>\n      <td>3.823539</td>\n      <td>0</td>\n      <td>0</td>\n      <td>1</td>\n    </tr>\n    <tr>\n      <th>4</th>\n      <td>0.5</td>\n      <td>25</td>\n      <td>0</td>\n      <td>67.941997</td>\n      <td>3.611555</td>\n      <td>0</td>\n      <td>0</td>\n      <td>1</td>\n    </tr>\n    <tr>\n      <th>5</th>\n      <td>0.5</td>\n      <td>25</td>\n      <td>0</td>\n      <td>67.978793</td>\n      <td>3.364867</td>\n      <td>0</td>\n      <td>0</td>\n      <td>1</td>\n    </tr>\n    <tr>\n      <th>6</th>\n      <td>0.5</td>\n      <td>25</td>\n      <td>0</td>\n      <td>68.015603</td>\n      <td>3.092086</td>\n      <td>0</td>\n      <td>0</td>\n      <td>1</td>\n    </tr>\n    <tr>\n      <th>7</th>\n      <td>0.5</td>\n      <td>25</td>\n      <td>0</td>\n      <td>68.052414</td>\n      <td>2.779633</td>\n      <td>0</td>\n      <td>0</td>\n      <td>1</td>\n    </tr>\n    <tr>\n      <th>8</th>\n      <td>0.5</td>\n      <td>25</td>\n      <td>0</td>\n      <td>68.089230</td>\n      <td>2.444719</td>\n      <td>0</td>\n      <td>0</td>\n      <td>1</td>\n    </tr>\n    <tr>\n      <th>9</th>\n      <td>0.5</td>\n      <td>25</td>\n      <td>0</td>\n      <td>68.125987</td>\n      <td>2.096375</td>\n      <td>0</td>\n      <td>0</td>\n      <td>1</td>\n    </tr>\n    <tr>\n      <th>10</th>\n      <td>0.5</td>\n      <td>25</td>\n      <td>0</td>\n      <td>68.162761</td>\n      <td>1.775031</td>\n      <td>0</td>\n      <td>0</td>\n      <td>1</td>\n    </tr>\n    <tr>\n      <th>11</th>\n      <td>0.5</td>\n      <td>25</td>\n      <td>0</td>\n      <td>68.199550</td>\n      <td>1.506352</td>\n      <td>0</td>\n      <td>0</td>\n      <td>1</td>\n    </tr>\n    <tr>\n      <th>12</th>\n      <td>0.5</td>\n      <td>25</td>\n      <td>0</td>\n      <td>68.236369</td>\n      <td>1.323352</td>\n      <td>0</td>\n      <td>0</td>\n      <td>1</td>\n    </tr>\n    <tr>\n      <th>13</th>\n      <td>0.5</td>\n      <td>25</td>\n      <td>0</td>\n      <td>68.273164</td>\n      <td>1.202219</td>\n      <td>0</td>\n      <td>0</td>\n      <td>1</td>\n    </tr>\n    <tr>\n      <th>14</th>\n      <td>0.5</td>\n      <td>25</td>\n      <td>0</td>\n      <td>68.309957</td>\n      <td>1.114961</td>\n      <td>0</td>\n      <td>0</td>\n      <td>1</td>\n    </tr>\n    <tr>\n      <th>15</th>\n      <td>0.5</td>\n      <td>25</td>\n      <td>0</td>\n      <td>68.346681</td>\n      <td>1.047820</td>\n      <td>0</td>\n      <td>0</td>\n      <td>1</td>\n    </tr>\n    <tr>\n      <th>16</th>\n      <td>0.5</td>\n      <td>25</td>\n      <td>0</td>\n      <td>68.383405</td>\n      <td>0.973148</td>\n      <td>0</td>\n      <td>0</td>\n      <td>1</td>\n    </tr>\n    <tr>\n      <th>17</th>\n      <td>0.5</td>\n      <td>25</td>\n      <td>0</td>\n      <td>68.420093</td>\n      <td>0.892008</td>\n      <td>0</td>\n      <td>0</td>\n      <td>1</td>\n    </tr>\n    <tr>\n      <th>18</th>\n      <td>0.5</td>\n      <td>25</td>\n      <td>0</td>\n      <td>68.456746</td>\n      <td>0.815008</td>\n      <td>0</td>\n      <td>0</td>\n      <td>1</td>\n    </tr>\n    <tr>\n      <th>19</th>\n      <td>0.5</td>\n      <td>25</td>\n      <td>0</td>\n      <td>68.493399</td>\n      <td>0.781695</td>\n      <td>0</td>\n      <td>0</td>\n      <td>1</td>\n    </tr>\n    <tr>\n      <th>20</th>\n      <td>0.5</td>\n      <td>25</td>\n      <td>0</td>\n      <td>68.530226</td>\n      <td>0.777469</td>\n      <td>0</td>\n      <td>0</td>\n      <td>1</td>\n    </tr>\n    <tr>\n      <th>21</th>\n      <td>0.5</td>\n      <td>25</td>\n      <td>0</td>\n      <td>68.567046</td>\n      <td>0.781031</td>\n      <td>0</td>\n      <td>0</td>\n      <td>1</td>\n    </tr>\n    <tr>\n      <th>22</th>\n      <td>0.5</td>\n      <td>25</td>\n      <td>0</td>\n      <td>68.603884</td>\n      <td>0.753617</td>\n      <td>0</td>\n      <td>0</td>\n      <td>1</td>\n    </tr>\n    <tr>\n      <th>23</th>\n      <td>0.5</td>\n      <td>25</td>\n      <td>0</td>\n      <td>68.640515</td>\n      <td>0.697406</td>\n      <td>0</td>\n      <td>0</td>\n      <td>1</td>\n    </tr>\n    <tr>\n      <th>24</th>\n      <td>0.5</td>\n      <td>25</td>\n      <td>0</td>\n      <td>68.677237</td>\n      <td>0.646937</td>\n      <td>0</td>\n      <td>0</td>\n      <td>1</td>\n    </tr>\n    <tr>\n      <th>25</th>\n      <td>0.5</td>\n      <td>25</td>\n      <td>0</td>\n      <td>68.713923</td>\n      <td>0.606727</td>\n      <td>0</td>\n      <td>0</td>\n      <td>1</td>\n    </tr>\n    <tr>\n      <th>26</th>\n      <td>0.5</td>\n      <td>25</td>\n      <td>0</td>\n      <td>68.750575</td>\n      <td>0.626031</td>\n      <td>0</td>\n      <td>0</td>\n      <td>1</td>\n    </tr>\n    <tr>\n      <th>27</th>\n      <td>0.5</td>\n      <td>25</td>\n      <td>0</td>\n      <td>68.787226</td>\n      <td>0.649469</td>\n      <td>0</td>\n      <td>0</td>\n      <td>1</td>\n    </tr>\n    <tr>\n      <th>28</th>\n      <td>0.5</td>\n      <td>25</td>\n      <td>0</td>\n      <td>68.823875</td>\n      <td>0.649469</td>\n      <td>0</td>\n      <td>0</td>\n      <td>1</td>\n    </tr>\n    <tr>\n      <th>29</th>\n      <td>0.5</td>\n      <td>25</td>\n      <td>0</td>\n      <td>68.860523</td>\n      <td>0.641427</td>\n      <td>0</td>\n      <td>0</td>\n      <td>1</td>\n    </tr>\n  </tbody>\n</table>\n</div>"
     },
     "execution_count": 6,
     "metadata": {},
     "output_type": "execute_result"
    }
   ],
   "source": [
    "dataset.head(30)"
   ],
   "metadata": {
    "collapsed": false,
    "ExecuteTime": {
     "end_time": "2024-07-28T00:00:27.730546600Z",
     "start_time": "2024-07-28T00:00:27.589952600Z"
    }
   }
  },
  {
   "cell_type": "code",
   "execution_count": 7,
   "metadata": {
    "ExecuteTime": {
     "end_time": "2024-07-28T00:00:29.605712300Z",
     "start_time": "2024-07-28T00:00:29.512098300Z"
    }
   },
   "outputs": [
    {
     "name": "stdout",
     "output_type": "stream",
     "text": [
      "(433422, 7) (433422,)\n"
     ]
    }
   ],
   "source": [
    "y = dataset['Pressure']\n",
    "X = dataset.drop(['Pressure'], axis=1)\n",
    "print(X.shape, y.shape)"
   ]
  },
  {
   "cell_type": "code",
   "execution_count": 8,
   "metadata": {
    "ExecuteTime": {
     "end_time": "2024-07-28T00:00:30.746530Z",
     "start_time": "2024-07-28T00:00:30.683738600Z"
    }
   },
   "outputs": [],
   "source": [
    "# convert to numpy array\n",
    "X = np.array(X)\n",
    "y = np.array(y)"
   ]
  },
  {
   "cell_type": "markdown",
   "metadata": {
    "colab_type": "text",
    "id": "VC6omXel_Up0"
   },
   "source": [
    "### Splitting the dataset into the Training set and Test set"
   ]
  },
  {
   "cell_type": "code",
   "execution_count": 9,
   "metadata": {
    "colab": {},
    "colab_type": "code",
    "id": "L5edeb2r_agx",
    "ExecuteTime": {
     "end_time": "2024-07-28T00:00:33.373027Z",
     "start_time": "2024-07-28T00:00:32.247253500Z"
    }
   },
   "outputs": [],
   "source": [
    "from sklearn.model_selection import train_test_split\n",
    "X_train, X_test, y_train, y_test = train_test_split(X,\n",
    "                                                    y,\n",
    "                                                    test_size = 0.4,\n",
    "                                                    random_state = 0)"
   ]
  },
  {
   "cell_type": "code",
   "execution_count": 10,
   "metadata": {
    "colab": {},
    "colab_type": "code",
    "id": "L5edeb2r_agx",
    "ExecuteTime": {
     "end_time": "2024-07-28T00:00:34.115977300Z",
     "start_time": "2024-07-28T00:00:34.043446900Z"
    }
   },
   "outputs": [],
   "source": [
    "X_val, X_test, y_val, y_test = train_test_split(X_test,\n",
    "                                                y_test,\n",
    "                                                test_size = 0.5,\n",
    "                                                random_state = 0)"
   ]
  },
  {
   "cell_type": "markdown",
   "source": [
    "## Feature scaling"
   ],
   "metadata": {
    "collapsed": false
   }
  },
  {
   "cell_type": "code",
   "execution_count": 11,
   "outputs": [
    {
     "name": "stdout",
     "output_type": "stream",
     "text": [
      "[[ 1.25632029 -0.39665052 -0.51071547 ...  1.          0.\n",
      "   0.        ]\n",
      " [-0.00908179 -0.39665052 -1.4116624  ...  1.          0.\n",
      "   0.        ]\n",
      " [-0.41401045  1.16750252 -0.51071547 ...  1.          0.\n",
      "   0.        ]\n",
      " ...\n",
      " [-0.00908179 -0.39665052 -0.51071547 ...  0.          0.\n",
      "   1.        ]\n",
      " [-1.62879645 -0.39665052 -0.51071547 ...  0.          0.\n",
      "   1.        ]\n",
      " [ 1.00323987  0.64611817  0.39023145 ...  0.          1.\n",
      "   0.        ]]\n"
     ]
    }
   ],
   "source": [
    "from sklearn.preprocessing import StandardScaler\n",
    "sc = StandardScaler()\n",
    "X_train[:,0:3] = sc.fit_transform(X_train[:, 0:3])\n",
    "print (X_train)"
   ],
   "metadata": {
    "collapsed": false,
    "ExecuteTime": {
     "end_time": "2024-07-28T00:00:35.987192500Z",
     "start_time": "2024-07-28T00:00:35.923598600Z"
    }
   }
  },
  {
   "cell_type": "code",
   "execution_count": 12,
   "outputs": [
    {
     "name": "stdout",
     "output_type": "stream",
     "text": [
      "[[-1.22386778  1.16750252  0.39023145 ...  1.          0.\n",
      "   0.        ]\n",
      " [ 1.25632029  0.64611817 -1.4116624  ...  1.          0.\n",
      "   0.        ]\n",
      " [ 1.2057042  -0.39665052  1.29117838 ...  0.          0.\n",
      "   1.        ]\n",
      " ...\n",
      " [ 1.2057042   0.64611817 -1.4116624  ...  0.          1.\n",
      "   0.        ]\n",
      " [-2.03372511 -0.39665052  1.29117838 ...  0.          0.\n",
      "   1.        ]\n",
      " [-0.21154612 -0.39665052  1.29117838 ...  0.          1.\n",
      "   0.        ]]\n"
     ]
    }
   ],
   "source": [
    "X_test[:,0:3] = sc.transform(X_test[:,0:3])\n",
    "print (X_test)"
   ],
   "metadata": {
    "collapsed": false,
    "ExecuteTime": {
     "end_time": "2024-07-28T00:00:37.387245700Z",
     "start_time": "2024-07-28T00:00:37.293164700Z"
    }
   }
  },
  {
   "cell_type": "code",
   "execution_count": 13,
   "outputs": [
    {
     "name": "stdout",
     "output_type": "stream",
     "text": [
      "[[ 0.59831121 -0.39665052  1.29117838 ...  0.          1.\n",
      "   0.        ]\n",
      " [-0.41401045 -0.39665052  0.39023145 ...  1.          0.\n",
      "   0.        ]\n",
      " [-0.41401045 -0.39665052 -0.51071547 ...  1.          0.\n",
      "   0.        ]\n",
      " ...\n",
      " [ 1.00323987  1.16750252  1.29117838 ...  0.          0.\n",
      "   1.        ]\n",
      " [ 0.80077554 -1.43941921 -0.51071547 ...  1.          0.\n",
      "   0.        ]\n",
      " [ 1.00323987 -1.43941921 -0.51071547 ...  1.          0.\n",
      "   0.        ]]\n"
     ]
    }
   ],
   "source": [
    "X_val[:,0:3] = sc.transform(X_val[:,0:3])\n",
    "print (X_val)"
   ],
   "metadata": {
    "collapsed": false,
    "ExecuteTime": {
     "end_time": "2024-07-28T00:00:41.574708300Z",
     "start_time": "2024-07-28T00:00:41.494924Z"
    }
   }
  },
  {
   "cell_type": "code",
   "execution_count": 14,
   "outputs": [
    {
     "name": "stdout",
     "output_type": "stream",
     "text": [
      "X_train 260053\n",
      "X_test 86685\n",
      "X_val 86684\n"
     ]
    }
   ],
   "source": [
    "print (\"X_train\", len(X_train))\n",
    "print (\"X_test\", len(X_test))\n",
    "print (\"X_val\", len(X_val))"
   ],
   "metadata": {
    "collapsed": false,
    "ExecuteTime": {
     "end_time": "2024-07-28T00:00:43.083289600Z",
     "start_time": "2024-07-28T00:00:43.074781700Z"
    }
   }
  },
  {
   "cell_type": "markdown",
   "metadata": {
    "colab_type": "text",
    "id": "_mSLlAT9_eyI"
   },
   "source": [
    "## Part 3 - Building the ANN"
   ]
  },
  {
   "cell_type": "markdown",
   "metadata": {
    "colab_type": "text",
    "id": "CsBULd_f_wLY"
   },
   "source": [
    "### Initializing the ANN"
   ]
  },
  {
   "cell_type": "code",
   "execution_count": 15,
   "metadata": {
    "colab": {},
    "colab_type": "code",
    "id": "J6Hd97Ls__Nz",
    "ExecuteTime": {
     "end_time": "2024-07-28T00:00:46.449715900Z",
     "start_time": "2024-07-28T00:00:46.340562200Z"
    }
   },
   "outputs": [],
   "source": [
    "ann = tf.keras.models.Sequential()"
   ]
  },
  {
   "cell_type": "markdown",
   "metadata": {
    "colab_type": "text",
    "id": "iitAFJS_ABUn"
   },
   "source": [
    "### Adding the input layer and the first hidden layer"
   ]
  },
  {
   "cell_type": "code",
   "execution_count": 16,
   "metadata": {
    "colab": {},
    "colab_type": "code",
    "id": "ksO_Vv40AHix",
    "ExecuteTime": {
     "end_time": "2024-07-28T00:00:48.019036600Z",
     "start_time": "2024-07-28T00:00:47.971154100Z"
    }
   },
   "outputs": [],
   "source": [
    "ann.add(tf.keras.layers.Dense(units=150,\n",
    "                              input_shape=(X_train.shape[1],),\n",
    "                              activation='relu'))"
   ]
  },
  {
   "cell_type": "markdown",
   "metadata": {
    "colab_type": "text",
    "id": "-lb4kK_wAKbs"
   },
   "source": [
    "### Adding the second hidden layer"
   ]
  },
  {
   "cell_type": "code",
   "execution_count": 17,
   "metadata": {
    "colab": {},
    "colab_type": "code",
    "id": "c2357OqEAQOQ",
    "tags": [],
    "ExecuteTime": {
     "end_time": "2024-07-28T00:00:49.472843400Z",
     "start_time": "2024-07-28T00:00:49.418538900Z"
    }
   },
   "outputs": [],
   "source": [
    "ann.add(tf.keras.layers.Dense(units=125,\n",
    "                              activation='relu'))"
   ]
  },
  {
   "cell_type": "markdown",
   "metadata": {
    "colab_type": "text",
    "id": "-lb4kK_wAKbs"
   },
   "source": [
    "### Adding the third hidden layer"
   ]
  },
  {
   "cell_type": "code",
   "execution_count": 18,
   "metadata": {
    "colab": {},
    "colab_type": "code",
    "id": "c2357OqEAQOQ",
    "tags": [],
    "ExecuteTime": {
     "end_time": "2024-07-28T00:00:51.190581400Z",
     "start_time": "2024-07-28T00:00:51.111440200Z"
    }
   },
   "outputs": [],
   "source": [
    "ann.add(tf.keras.layers.Dense(units=100,\n",
    "                              activation='relu'))"
   ]
  },
  {
   "cell_type": "markdown",
   "source": [
    "### Adding the fourth hidden layer"
   ],
   "metadata": {
    "collapsed": false
   }
  },
  {
   "cell_type": "code",
   "execution_count": null,
   "outputs": [],
   "source": [
    "ann.add(tf.keras.layers.Dense(units=75,\n",
    "                              activation='relu'))"
   ],
   "metadata": {
    "collapsed": false
   }
  },
  {
   "cell_type": "markdown",
   "metadata": {
    "colab_type": "text",
    "id": "jwMOmKb3AdBY"
   },
   "source": [
    "### Adding the output layer"
   ]
  },
  {
   "cell_type": "code",
   "execution_count": 19,
   "metadata": {
    "colab": {},
    "colab_type": "code",
    "id": "YFATpzsUAkLL",
    "ExecuteTime": {
     "end_time": "2024-07-28T00:00:53.860780300Z",
     "start_time": "2024-07-28T00:00:53.812813900Z"
    }
   },
   "outputs": [],
   "source": [
    "ann.add(tf.keras.layers.Dense(units=1,\n",
    "                              activation='linear'))"
   ]
  },
  {
   "cell_type": "markdown",
   "metadata": {},
   "source": [
    "### what model looks like"
   ]
  },
  {
   "cell_type": "code",
   "execution_count": 20,
   "metadata": {
    "ExecuteTime": {
     "end_time": "2024-07-28T00:00:55.743769100Z",
     "start_time": "2024-07-28T00:00:55.409675400Z"
    }
   },
   "outputs": [
    {
     "name": "stdout",
     "output_type": "stream",
     "text": [
      "Model: \"sequential\"\n",
      "_________________________________________________________________\n",
      " Layer (type)                Output Shape              Param #   \n",
      "=================================================================\n",
      " dense (Dense)               (None, 150)               1200      \n",
      "                                                                 \n",
      " dense_1 (Dense)             (None, 125)               18875     \n",
      "                                                                 \n",
      " dense_2 (Dense)             (None, 100)               12600     \n",
      "                                                                 \n",
      " dense_3 (Dense)             (None, 1)                 101       \n",
      "                                                                 \n",
      "=================================================================\n",
      "Total params: 32,776\n",
      "Trainable params: 32,776\n",
      "Non-trainable params: 0\n",
      "_________________________________________________________________\n"
     ]
    }
   ],
   "source": [
    "ann.summary()"
   ]
  },
  {
   "cell_type": "markdown",
   "metadata": {
    "colab_type": "text",
    "id": "fq7e4fF6A1yy"
   },
   "source": [
    "## Part 4 - Training the ANN"
   ]
  },
  {
   "cell_type": "markdown",
   "metadata": {
    "colab_type": "text",
    "id": "qDeylAs2An25"
   },
   "source": [
    "### Compiling the ANN"
   ]
  },
  {
   "cell_type": "code",
   "execution_count": 21,
   "metadata": {
    "colab": {},
    "colab_type": "code",
    "id": "pesgbWlCAtB4",
    "ExecuteTime": {
     "end_time": "2024-07-28T00:00:57.818603800Z",
     "start_time": "2024-07-28T00:00:57.771075300Z"
    }
   },
   "outputs": [],
   "source": [
    "# from tensorflow.keras.optimizers import Adam\n",
    "from keras.optimizers import Adam\n",
    "opt = Adam(learning_rate=0.001)\n",
    "ann.compile(optimizer = opt,\n",
    "            loss = 'mean_squared_error',\n",
    "            metrics = ['mae'])"
   ]
  },
  {
   "cell_type": "markdown",
   "metadata": {},
   "source": [
    "### early stopping callback"
   ]
  },
  {
   "cell_type": "code",
   "execution_count": 22,
   "metadata": {
    "ExecuteTime": {
     "end_time": "2024-07-28T00:00:59.243825300Z",
     "start_time": "2024-07-28T00:00:59.168330400Z"
    }
   },
   "outputs": [],
   "source": [
    "# protects from unnecessary further training of the model if a particular metric does not continue to improve over a number of n epochs. In such a case, the model training would be automatically aborted.\n",
    "from keras.callbacks import EarlyStopping\n",
    "es = EarlyStopping(monitor='val_loss',\n",
    "                   mode='min',\n",
    "                   patience=50,\n",
    "                   restore_best_weights = True)"
   ]
  },
  {
   "cell_type": "markdown",
   "metadata": {
    "colab_type": "text",
    "id": "YjVuiybYOo7r"
   },
   "source": [
    "### Training the ANN model on the Training set"
   ]
  },
  {
   "cell_type": "code",
   "execution_count": 23,
   "metadata": {
    "colab": {
     "base_uri": "https://localhost:8080/",
     "height": 1000
    },
    "colab_type": "code",
    "id": "c_vV-tiiA5zn",
    "outputId": "4a2b6ee6-ed75-4698-9069-b250e613803f",
    "ExecuteTime": {
     "end_time": "2024-07-28T01:33:27.201085300Z",
     "start_time": "2024-07-28T00:01:01.293704900Z"
    }
   },
   "outputs": [
    {
     "name": "stdout",
     "output_type": "stream",
     "text": [
      "Epoch 1/500\n",
      "6502/6502 [==============================] - 25s 4ms/step - loss: 1.5879 - mae: 0.5133 - val_loss: 0.8233 - val_mae: 0.2847\n",
      "Epoch 2/500\n",
      "6502/6502 [==============================] - 24s 4ms/step - loss: 1.0444 - mae: 0.3593 - val_loss: 1.4173 - val_mae: 0.4539\n",
      "Epoch 3/500\n",
      "6502/6502 [==============================] - 24s 4ms/step - loss: 1.1189 - mae: 0.3893 - val_loss: 0.7004 - val_mae: 0.3296\n",
      "Epoch 4/500\n",
      "6502/6502 [==============================] - 24s 4ms/step - loss: 0.8976 - mae: 0.3122 - val_loss: 0.8521 - val_mae: 0.2203\n",
      "Epoch 5/500\n",
      "6502/6502 [==============================] - 24s 4ms/step - loss: 0.7992 - mae: 0.2612 - val_loss: 0.5767 - val_mae: 0.1904\n",
      "Epoch 6/500\n",
      "6502/6502 [==============================] - 24s 4ms/step - loss: 0.7850 - mae: 0.2517 - val_loss: 1.1842 - val_mae: 0.4359\n",
      "Epoch 7/500\n",
      "6502/6502 [==============================] - 24s 4ms/step - loss: 0.7610 - mae: 0.2481 - val_loss: 0.4755 - val_mae: 0.2103\n",
      "Epoch 8/500\n",
      "6502/6502 [==============================] - 24s 4ms/step - loss: 0.7320 - mae: 0.2386 - val_loss: 0.5007 - val_mae: 0.2028\n",
      "Epoch 9/500\n",
      "6502/6502 [==============================] - 24s 4ms/step - loss: 0.6881 - mae: 0.2284 - val_loss: 0.5305 - val_mae: 0.1730\n",
      "Epoch 10/500\n",
      "6502/6502 [==============================] - 23s 4ms/step - loss: 0.6555 - mae: 0.2197 - val_loss: 0.4419 - val_mae: 0.1517\n",
      "Epoch 11/500\n",
      "6502/6502 [==============================] - 23s 4ms/step - loss: 0.6603 - mae: 0.2200 - val_loss: 0.6827 - val_mae: 0.2610\n",
      "Epoch 12/500\n",
      "6502/6502 [==============================] - 23s 4ms/step - loss: 0.6062 - mae: 0.2086 - val_loss: 0.5749 - val_mae: 0.2190\n",
      "Epoch 13/500\n",
      "6502/6502 [==============================] - 23s 4ms/step - loss: 0.6132 - mae: 0.2146 - val_loss: 0.5327 - val_mae: 0.1598\n",
      "Epoch 14/500\n",
      "6502/6502 [==============================] - 23s 4ms/step - loss: 0.5943 - mae: 0.2101 - val_loss: 0.3953 - val_mae: 0.1483\n",
      "Epoch 15/500\n",
      "6502/6502 [==============================] - 23s 4ms/step - loss: 0.5711 - mae: 0.2008 - val_loss: 0.8290 - val_mae: 0.2491\n",
      "Epoch 16/500\n",
      "6502/6502 [==============================] - 23s 3ms/step - loss: 0.5773 - mae: 0.2029 - val_loss: 0.4668 - val_mae: 0.1423\n",
      "Epoch 17/500\n",
      "6502/6502 [==============================] - 22s 3ms/step - loss: 0.5906 - mae: 0.2067 - val_loss: 0.7337 - val_mae: 0.2092\n",
      "Epoch 18/500\n",
      "6502/6502 [==============================] - 23s 3ms/step - loss: 0.5714 - mae: 0.2018 - val_loss: 0.4748 - val_mae: 0.2160\n",
      "Epoch 19/500\n",
      "6502/6502 [==============================] - 23s 3ms/step - loss: 0.5960 - mae: 0.2043 - val_loss: 1.2061 - val_mae: 0.5031\n",
      "Epoch 20/500\n",
      "6502/6502 [==============================] - 23s 3ms/step - loss: 0.5587 - mae: 0.1952 - val_loss: 0.4061 - val_mae: 0.1403\n",
      "Epoch 21/500\n",
      "6502/6502 [==============================] - 23s 4ms/step - loss: 0.5445 - mae: 0.1908 - val_loss: 0.5884 - val_mae: 0.1715\n",
      "Epoch 22/500\n",
      "6502/6502 [==============================] - 23s 4ms/step - loss: 0.5700 - mae: 0.1963 - val_loss: 0.5261 - val_mae: 0.1601\n",
      "Epoch 23/500\n",
      "6502/6502 [==============================] - 23s 4ms/step - loss: 0.5289 - mae: 0.1822 - val_loss: 0.3648 - val_mae: 0.1369\n",
      "Epoch 24/500\n",
      "6502/6502 [==============================] - 23s 3ms/step - loss: 0.5416 - mae: 0.1883 - val_loss: 0.7784 - val_mae: 0.2379\n",
      "Epoch 25/500\n",
      "6502/6502 [==============================] - 23s 3ms/step - loss: 0.5390 - mae: 0.1892 - val_loss: 0.4676 - val_mae: 0.2350\n",
      "Epoch 26/500\n",
      "6502/6502 [==============================] - 23s 3ms/step - loss: 0.5136 - mae: 0.1841 - val_loss: 0.7303 - val_mae: 0.2029\n",
      "Epoch 27/500\n",
      "6502/6502 [==============================] - 23s 4ms/step - loss: 0.5282 - mae: 0.1840 - val_loss: 0.4243 - val_mae: 0.1327\n",
      "Epoch 28/500\n",
      "6502/6502 [==============================] - 23s 4ms/step - loss: 0.5250 - mae: 0.1837 - val_loss: 0.4728 - val_mae: 0.1397\n",
      "Epoch 29/500\n",
      "6502/6502 [==============================] - 23s 3ms/step - loss: 0.5355 - mae: 0.1857 - val_loss: 0.3662 - val_mae: 0.1710\n",
      "Epoch 30/500\n",
      "6502/6502 [==============================] - 23s 3ms/step - loss: 0.5018 - mae: 0.1803 - val_loss: 0.3351 - val_mae: 0.1329\n",
      "Epoch 31/500\n",
      "6502/6502 [==============================] - 23s 4ms/step - loss: 0.4865 - mae: 0.1785 - val_loss: 0.5357 - val_mae: 0.1801\n",
      "Epoch 32/500\n",
      "6502/6502 [==============================] - 23s 4ms/step - loss: 0.5266 - mae: 0.1865 - val_loss: 0.5425 - val_mae: 0.2553\n",
      "Epoch 33/500\n",
      "6502/6502 [==============================] - 23s 4ms/step - loss: 0.4997 - mae: 0.1815 - val_loss: 0.4918 - val_mae: 0.2339\n",
      "Epoch 34/500\n",
      "6502/6502 [==============================] - 23s 4ms/step - loss: 0.4962 - mae: 0.1778 - val_loss: 0.7359 - val_mae: 0.1836\n",
      "Epoch 35/500\n",
      "6502/6502 [==============================] - 27s 4ms/step - loss: 0.4969 - mae: 0.1794 - val_loss: 0.3515 - val_mae: 0.1841\n",
      "Epoch 36/500\n",
      "6502/6502 [==============================] - 24s 4ms/step - loss: 0.4847 - mae: 0.1774 - val_loss: 0.7071 - val_mae: 0.2028\n",
      "Epoch 37/500\n",
      "6502/6502 [==============================] - 24s 4ms/step - loss: 0.5086 - mae: 0.1801 - val_loss: 0.3184 - val_mae: 0.1410\n",
      "Epoch 38/500\n",
      "6502/6502 [==============================] - 24s 4ms/step - loss: 0.5097 - mae: 0.1818 - val_loss: 0.3182 - val_mae: 0.1433\n",
      "Epoch 39/500\n",
      "6502/6502 [==============================] - 24s 4ms/step - loss: 0.4996 - mae: 0.1795 - val_loss: 0.4137 - val_mae: 0.1335\n",
      "Epoch 40/500\n",
      "6502/6502 [==============================] - 24s 4ms/step - loss: 0.4715 - mae: 0.1728 - val_loss: 0.3208 - val_mae: 0.1473\n",
      "Epoch 41/500\n",
      "6502/6502 [==============================] - 24s 4ms/step - loss: 0.4899 - mae: 0.1763 - val_loss: 0.3965 - val_mae: 0.1565\n",
      "Epoch 42/500\n",
      "6502/6502 [==============================] - 24s 4ms/step - loss: 0.4755 - mae: 0.1736 - val_loss: 0.4397 - val_mae: 0.1349\n",
      "Epoch 43/500\n",
      "6502/6502 [==============================] - 24s 4ms/step - loss: 0.4829 - mae: 0.1753 - val_loss: 0.5706 - val_mae: 0.1596\n",
      "Epoch 44/500\n",
      "6502/6502 [==============================] - 24s 4ms/step - loss: 0.4616 - mae: 0.1720 - val_loss: 0.5364 - val_mae: 0.1520\n",
      "Epoch 45/500\n",
      "6502/6502 [==============================] - 24s 4ms/step - loss: 0.4924 - mae: 0.1764 - val_loss: 0.4036 - val_mae: 0.1730\n",
      "Epoch 46/500\n",
      "6502/6502 [==============================] - 24s 4ms/step - loss: 0.4848 - mae: 0.1761 - val_loss: 0.3243 - val_mae: 0.1332\n",
      "Epoch 47/500\n",
      "6502/6502 [==============================] - 24s 4ms/step - loss: 0.4780 - mae: 0.1730 - val_loss: 0.4968 - val_mae: 0.1541\n",
      "Epoch 48/500\n",
      "6502/6502 [==============================] - 24s 4ms/step - loss: 0.4822 - mae: 0.1745 - val_loss: 0.3176 - val_mae: 0.1616\n",
      "Epoch 49/500\n",
      "6502/6502 [==============================] - 24s 4ms/step - loss: 0.4522 - mae: 0.1683 - val_loss: 0.3224 - val_mae: 0.1485\n",
      "Epoch 50/500\n",
      "6502/6502 [==============================] - 25s 4ms/step - loss: 0.4578 - mae: 0.1704 - val_loss: 0.4419 - val_mae: 0.1332\n",
      "Epoch 51/500\n",
      "6502/6502 [==============================] - 24s 4ms/step - loss: 0.4459 - mae: 0.1680 - val_loss: 0.3655 - val_mae: 0.1545\n",
      "Epoch 52/500\n",
      "6502/6502 [==============================] - 24s 4ms/step - loss: 0.4545 - mae: 0.1694 - val_loss: 0.3069 - val_mae: 0.1443\n",
      "Epoch 53/500\n",
      "6502/6502 [==============================] - 25s 4ms/step - loss: 0.4636 - mae: 0.1728 - val_loss: 0.6521 - val_mae: 0.1715\n",
      "Epoch 54/500\n",
      "6502/6502 [==============================] - 25s 4ms/step - loss: 0.4593 - mae: 0.1733 - val_loss: 0.3734 - val_mae: 0.1699\n",
      "Epoch 55/500\n",
      "6502/6502 [==============================] - 26s 4ms/step - loss: 0.4551 - mae: 0.1688 - val_loss: 0.3143 - val_mae: 0.1301\n",
      "Epoch 56/500\n",
      "6502/6502 [==============================] - 25s 4ms/step - loss: 0.4478 - mae: 0.1671 - val_loss: 1.1656 - val_mae: 0.3428\n",
      "Epoch 57/500\n",
      "6502/6502 [==============================] - 25s 4ms/step - loss: 0.4367 - mae: 0.1667 - val_loss: 0.6213 - val_mae: 0.2298\n",
      "Epoch 58/500\n",
      "6502/6502 [==============================] - 26s 4ms/step - loss: 0.4482 - mae: 0.1680 - val_loss: 0.3440 - val_mae: 0.1555\n",
      "Epoch 59/500\n",
      "6502/6502 [==============================] - 25s 4ms/step - loss: 0.4470 - mae: 0.1678 - val_loss: 0.4061 - val_mae: 0.1481\n",
      "Epoch 60/500\n",
      "6502/6502 [==============================] - 26s 4ms/step - loss: 0.4305 - mae: 0.1646 - val_loss: 0.7677 - val_mae: 0.2083\n",
      "Epoch 61/500\n",
      "6502/6502 [==============================] - 25s 4ms/step - loss: 0.4439 - mae: 0.1669 - val_loss: 0.4525 - val_mae: 0.2111\n",
      "Epoch 62/500\n",
      "6502/6502 [==============================] - 25s 4ms/step - loss: 0.4404 - mae: 0.1668 - val_loss: 0.5264 - val_mae: 0.1730\n",
      "Epoch 63/500\n",
      "6502/6502 [==============================] - 25s 4ms/step - loss: 0.4128 - mae: 0.1622 - val_loss: 0.3657 - val_mae: 0.1431\n",
      "Epoch 64/500\n",
      "6502/6502 [==============================] - 25s 4ms/step - loss: 0.4606 - mae: 0.1692 - val_loss: 0.5750 - val_mae: 0.1647\n",
      "Epoch 65/500\n",
      "6502/6502 [==============================] - 26s 4ms/step - loss: 0.4295 - mae: 0.1660 - val_loss: 0.2823 - val_mae: 0.1384\n",
      "Epoch 66/500\n",
      "6502/6502 [==============================] - 26s 4ms/step - loss: 0.4556 - mae: 0.1687 - val_loss: 0.3887 - val_mae: 0.2054\n",
      "Epoch 67/500\n",
      "6502/6502 [==============================] - 26s 4ms/step - loss: 0.4350 - mae: 0.1653 - val_loss: 0.3343 - val_mae: 0.1965\n",
      "Epoch 68/500\n",
      "6502/6502 [==============================] - 26s 4ms/step - loss: 0.4293 - mae: 0.1660 - val_loss: 0.4505 - val_mae: 0.1537\n",
      "Epoch 69/500\n",
      "6502/6502 [==============================] - 26s 4ms/step - loss: 0.4081 - mae: 0.1582 - val_loss: 0.3628 - val_mae: 0.1713\n",
      "Epoch 70/500\n",
      "6502/6502 [==============================] - 25s 4ms/step - loss: 0.4251 - mae: 0.1649 - val_loss: 0.5618 - val_mae: 0.2667\n",
      "Epoch 71/500\n",
      "6502/6502 [==============================] - 26s 4ms/step - loss: 0.4293 - mae: 0.1642 - val_loss: 0.5466 - val_mae: 0.1583\n",
      "Epoch 72/500\n",
      "6502/6502 [==============================] - 26s 4ms/step - loss: 0.4276 - mae: 0.1630 - val_loss: 0.3038 - val_mae: 0.1500\n",
      "Epoch 73/500\n",
      "6502/6502 [==============================] - 26s 4ms/step - loss: 0.4278 - mae: 0.1639 - val_loss: 0.5086 - val_mae: 0.1926\n",
      "Epoch 74/500\n",
      "6502/6502 [==============================] - 26s 4ms/step - loss: 0.4123 - mae: 0.1603 - val_loss: 0.2677 - val_mae: 0.1334\n",
      "Epoch 75/500\n",
      "6502/6502 [==============================] - 25s 4ms/step - loss: 0.4337 - mae: 0.1661 - val_loss: 0.6189 - val_mae: 0.2991\n",
      "Epoch 76/500\n",
      "6502/6502 [==============================] - 25s 4ms/step - loss: 0.4212 - mae: 0.1627 - val_loss: 0.2790 - val_mae: 0.1490\n",
      "Epoch 77/500\n",
      "6502/6502 [==============================] - 25s 4ms/step - loss: 0.4191 - mae: 0.1610 - val_loss: 0.2434 - val_mae: 0.1276\n",
      "Epoch 78/500\n",
      "6502/6502 [==============================] - 26s 4ms/step - loss: 0.4173 - mae: 0.1587 - val_loss: 0.2994 - val_mae: 0.1312\n",
      "Epoch 79/500\n",
      "6502/6502 [==============================] - 26s 4ms/step - loss: 0.4123 - mae: 0.1603 - val_loss: 0.5021 - val_mae: 0.1434\n",
      "Epoch 80/500\n",
      "6502/6502 [==============================] - 25s 4ms/step - loss: 0.4199 - mae: 0.1615 - val_loss: 0.3462 - val_mae: 0.1607\n",
      "Epoch 81/500\n",
      "6502/6502 [==============================] - 26s 4ms/step - loss: 0.4046 - mae: 0.1592 - val_loss: 0.2826 - val_mae: 0.1237\n",
      "Epoch 82/500\n",
      "6502/6502 [==============================] - 26s 4ms/step - loss: 0.4278 - mae: 0.1623 - val_loss: 0.3357 - val_mae: 0.1497\n",
      "Epoch 83/500\n",
      "6502/6502 [==============================] - 26s 4ms/step - loss: 0.4156 - mae: 0.1603 - val_loss: 0.3497 - val_mae: 0.1764\n",
      "Epoch 84/500\n",
      "6502/6502 [==============================] - 26s 4ms/step - loss: 0.4048 - mae: 0.1595 - val_loss: 0.3802 - val_mae: 0.1343\n",
      "Epoch 85/500\n",
      "6502/6502 [==============================] - 26s 4ms/step - loss: 0.4315 - mae: 0.1656 - val_loss: 0.2587 - val_mae: 0.1338\n",
      "Epoch 86/500\n",
      "6502/6502 [==============================] - 26s 4ms/step - loss: 0.4336 - mae: 0.1652 - val_loss: 0.2699 - val_mae: 0.1369\n",
      "Epoch 87/500\n",
      "6502/6502 [==============================] - 26s 4ms/step - loss: 0.4127 - mae: 0.1632 - val_loss: 0.3282 - val_mae: 0.1304\n",
      "Epoch 88/500\n",
      "6502/6502 [==============================] - 26s 4ms/step - loss: 0.4303 - mae: 0.1649 - val_loss: 0.2821 - val_mae: 0.1374\n",
      "Epoch 89/500\n",
      "6502/6502 [==============================] - 26s 4ms/step - loss: 0.4259 - mae: 0.1641 - val_loss: 0.6509 - val_mae: 0.2321\n",
      "Epoch 90/500\n",
      "6502/6502 [==============================] - 26s 4ms/step - loss: 0.4144 - mae: 0.1634 - val_loss: 0.3789 - val_mae: 0.1384\n",
      "Epoch 91/500\n",
      "6502/6502 [==============================] - 26s 4ms/step - loss: 0.4124 - mae: 0.1611 - val_loss: 0.2816 - val_mae: 0.1325\n",
      "Epoch 92/500\n",
      "6502/6502 [==============================] - 26s 4ms/step - loss: 0.4450 - mae: 0.1687 - val_loss: 0.6329 - val_mae: 0.1776\n",
      "Epoch 93/500\n",
      "6502/6502 [==============================] - 27s 4ms/step - loss: 0.3910 - mae: 0.1576 - val_loss: 0.5400 - val_mae: 0.1968\n",
      "Epoch 94/500\n",
      "6502/6502 [==============================] - 26s 4ms/step - loss: 0.4046 - mae: 0.1595 - val_loss: 0.4210 - val_mae: 0.1354\n",
      "Epoch 95/500\n",
      "6502/6502 [==============================] - 27s 4ms/step - loss: 0.4209 - mae: 0.1602 - val_loss: 1.2315 - val_mae: 0.3065\n",
      "Epoch 96/500\n",
      "6502/6502 [==============================] - 27s 4ms/step - loss: 0.4102 - mae: 0.1591 - val_loss: 0.4433 - val_mae: 0.1645\n",
      "Epoch 97/500\n",
      "6502/6502 [==============================] - 27s 4ms/step - loss: 0.4643 - mae: 0.1698 - val_loss: 0.3614 - val_mae: 0.1680\n",
      "Epoch 98/500\n",
      "6502/6502 [==============================] - 27s 4ms/step - loss: 0.4164 - mae: 0.1627 - val_loss: 0.3781 - val_mae: 0.1284\n",
      "Epoch 99/500\n",
      "6502/6502 [==============================] - 27s 4ms/step - loss: 0.3949 - mae: 0.1561 - val_loss: 0.5898 - val_mae: 0.1816\n",
      "Epoch 100/500\n",
      "6502/6502 [==============================] - 27s 4ms/step - loss: 0.4038 - mae: 0.1605 - val_loss: 0.6955 - val_mae: 0.1945\n",
      "Epoch 101/500\n",
      "6502/6502 [==============================] - 27s 4ms/step - loss: 0.4254 - mae: 0.1637 - val_loss: 0.3657 - val_mae: 0.1384\n",
      "Epoch 102/500\n",
      "6502/6502 [==============================] - 27s 4ms/step - loss: 0.4008 - mae: 0.1579 - val_loss: 0.3017 - val_mae: 0.1751\n",
      "Epoch 103/500\n",
      "6502/6502 [==============================] - 27s 4ms/step - loss: 0.3914 - mae: 0.1560 - val_loss: 0.2948 - val_mae: 0.1674\n",
      "Epoch 104/500\n",
      "6502/6502 [==============================] - 27s 4ms/step - loss: 0.3934 - mae: 0.1574 - val_loss: 0.3041 - val_mae: 0.1297\n",
      "Epoch 105/500\n",
      "6502/6502 [==============================] - 27s 4ms/step - loss: 0.3920 - mae: 0.1558 - val_loss: 0.3373 - val_mae: 0.1663\n",
      "Epoch 106/500\n",
      "6502/6502 [==============================] - 27s 4ms/step - loss: 0.3979 - mae: 0.1562 - val_loss: 0.2930 - val_mae: 0.1355\n",
      "Epoch 107/500\n",
      "6502/6502 [==============================] - 27s 4ms/step - loss: 0.4149 - mae: 0.1596 - val_loss: 0.2611 - val_mae: 0.1216\n",
      "Epoch 108/500\n",
      "6502/6502 [==============================] - 27s 4ms/step - loss: 0.3846 - mae: 0.1550 - val_loss: 0.3687 - val_mae: 0.1397\n",
      "Epoch 109/500\n",
      "6502/6502 [==============================] - 27s 4ms/step - loss: 0.3988 - mae: 0.1572 - val_loss: 0.2640 - val_mae: 0.1345\n",
      "Epoch 110/500\n",
      "6502/6502 [==============================] - 27s 4ms/step - loss: 0.3983 - mae: 0.1557 - val_loss: 0.3536 - val_mae: 0.1757\n",
      "Epoch 111/500\n",
      "6502/6502 [==============================] - 27s 4ms/step - loss: 0.3923 - mae: 0.1548 - val_loss: 0.4072 - val_mae: 0.1293\n",
      "Epoch 112/500\n",
      "6502/6502 [==============================] - 27s 4ms/step - loss: 0.3836 - mae: 0.1546 - val_loss: 0.3571 - val_mae: 0.1589\n",
      "Epoch 113/500\n",
      "6502/6502 [==============================] - 27s 4ms/step - loss: 0.3828 - mae: 0.1539 - val_loss: 0.2728 - val_mae: 0.1331\n",
      "Epoch 114/500\n",
      "6502/6502 [==============================] - 27s 4ms/step - loss: 0.3628 - mae: 0.1493 - val_loss: 0.3399 - val_mae: 0.1419\n",
      "Epoch 115/500\n",
      "6502/6502 [==============================] - 28s 4ms/step - loss: 0.3810 - mae: 0.1525 - val_loss: 0.9232 - val_mae: 0.2379\n",
      "Epoch 116/500\n",
      "6502/6502 [==============================] - 28s 4ms/step - loss: 0.3958 - mae: 0.1559 - val_loss: 0.8329 - val_mae: 0.1808\n",
      "Epoch 117/500\n",
      "6502/6502 [==============================] - 28s 4ms/step - loss: 0.3805 - mae: 0.1532 - val_loss: 0.4995 - val_mae: 0.1754\n",
      "Epoch 118/500\n",
      "6502/6502 [==============================] - 28s 4ms/step - loss: 0.3959 - mae: 0.1580 - val_loss: 0.2434 - val_mae: 0.1317\n",
      "Epoch 119/500\n",
      "6502/6502 [==============================] - 28s 4ms/step - loss: 0.3811 - mae: 0.1539 - val_loss: 0.2628 - val_mae: 0.1390\n",
      "Epoch 120/500\n",
      "6502/6502 [==============================] - 28s 4ms/step - loss: 0.3810 - mae: 0.1527 - val_loss: 0.2418 - val_mae: 0.1218\n",
      "Epoch 121/500\n",
      "6502/6502 [==============================] - 28s 4ms/step - loss: 0.3880 - mae: 0.1529 - val_loss: 0.2367 - val_mae: 0.1312\n",
      "Epoch 122/500\n",
      "6502/6502 [==============================] - 28s 4ms/step - loss: 0.3877 - mae: 0.1553 - val_loss: 0.9178 - val_mae: 0.2209\n",
      "Epoch 123/500\n",
      "6502/6502 [==============================] - 28s 4ms/step - loss: 0.3834 - mae: 0.1525 - val_loss: 0.2309 - val_mae: 0.1232\n",
      "Epoch 124/500\n",
      "6502/6502 [==============================] - 28s 4ms/step - loss: 0.3577 - mae: 0.1487 - val_loss: 0.3024 - val_mae: 0.1701\n",
      "Epoch 125/500\n",
      "6502/6502 [==============================] - 28s 4ms/step - loss: 0.3830 - mae: 0.1539 - val_loss: 0.4681 - val_mae: 0.2297\n",
      "Epoch 126/500\n",
      "6502/6502 [==============================] - 28s 4ms/step - loss: 0.3775 - mae: 0.1535 - val_loss: 0.2650 - val_mae: 0.1425\n",
      "Epoch 127/500\n",
      "6502/6502 [==============================] - 28s 4ms/step - loss: 0.4095 - mae: 0.1596 - val_loss: 0.4094 - val_mae: 0.1392\n",
      "Epoch 128/500\n",
      "6502/6502 [==============================] - 28s 4ms/step - loss: 0.3806 - mae: 0.1538 - val_loss: 0.3793 - val_mae: 0.2177\n",
      "Epoch 129/500\n",
      "6502/6502 [==============================] - 28s 4ms/step - loss: 0.3678 - mae: 0.1515 - val_loss: 0.5988 - val_mae: 0.1831\n",
      "Epoch 130/500\n",
      "6502/6502 [==============================] - 29s 4ms/step - loss: 0.3928 - mae: 0.1549 - val_loss: 0.3544 - val_mae: 0.1304\n",
      "Epoch 131/500\n",
      "6502/6502 [==============================] - 28s 4ms/step - loss: 0.3754 - mae: 0.1534 - val_loss: 0.2682 - val_mae: 0.1521\n",
      "Epoch 132/500\n",
      "6502/6502 [==============================] - 28s 4ms/step - loss: 0.3766 - mae: 0.1513 - val_loss: 0.2592 - val_mae: 0.1179\n",
      "Epoch 133/500\n",
      "6502/6502 [==============================] - 28s 4ms/step - loss: 0.3827 - mae: 0.1501 - val_loss: 0.3975 - val_mae: 0.1627\n",
      "Epoch 134/500\n",
      "6502/6502 [==============================] - 29s 4ms/step - loss: 0.4052 - mae: 0.1589 - val_loss: 0.3506 - val_mae: 0.1505\n",
      "Epoch 135/500\n",
      "6502/6502 [==============================] - 28s 4ms/step - loss: 0.3713 - mae: 0.1532 - val_loss: 0.2815 - val_mae: 0.1457\n",
      "Epoch 136/500\n",
      "6502/6502 [==============================] - 29s 4ms/step - loss: 0.3566 - mae: 0.1500 - val_loss: 0.3144 - val_mae: 0.1535\n",
      "Epoch 137/500\n",
      "6502/6502 [==============================] - 29s 4ms/step - loss: 0.3755 - mae: 0.1519 - val_loss: 0.6068 - val_mae: 0.1933\n",
      "Epoch 138/500\n",
      "6502/6502 [==============================] - 29s 4ms/step - loss: 0.3844 - mae: 0.1558 - val_loss: 0.2815 - val_mae: 0.1194\n",
      "Epoch 139/500\n",
      "6502/6502 [==============================] - 28s 4ms/step - loss: 0.3848 - mae: 0.1540 - val_loss: 0.2420 - val_mae: 0.1417\n",
      "Epoch 140/500\n",
      "6502/6502 [==============================] - 28s 4ms/step - loss: 0.3807 - mae: 0.1554 - val_loss: 0.2547 - val_mae: 0.1254\n",
      "Epoch 141/500\n",
      "6502/6502 [==============================] - 29s 4ms/step - loss: 0.3568 - mae: 0.1484 - val_loss: 0.2182 - val_mae: 0.1188\n",
      "Epoch 142/500\n",
      "6502/6502 [==============================] - 29s 4ms/step - loss: 0.3921 - mae: 0.1554 - val_loss: 0.4385 - val_mae: 0.1935\n",
      "Epoch 143/500\n",
      "6502/6502 [==============================] - 29s 4ms/step - loss: 0.3787 - mae: 0.1556 - val_loss: 0.8723 - val_mae: 0.2321\n",
      "Epoch 144/500\n",
      "6502/6502 [==============================] - 29s 4ms/step - loss: 0.3556 - mae: 0.1505 - val_loss: 0.2604 - val_mae: 0.1346\n",
      "Epoch 145/500\n",
      "6502/6502 [==============================] - 30s 5ms/step - loss: 0.3747 - mae: 0.1533 - val_loss: 0.3793 - val_mae: 0.1753\n",
      "Epoch 146/500\n",
      "6502/6502 [==============================] - 29s 5ms/step - loss: 0.3587 - mae: 0.1495 - val_loss: 0.3099 - val_mae: 0.1295\n",
      "Epoch 147/500\n",
      "6502/6502 [==============================] - 30s 5ms/step - loss: 0.3569 - mae: 0.1489 - val_loss: 0.2923 - val_mae: 0.1543\n",
      "Epoch 148/500\n",
      "6502/6502 [==============================] - 30s 5ms/step - loss: 0.3827 - mae: 0.1554 - val_loss: 0.2467 - val_mae: 0.1412\n",
      "Epoch 149/500\n",
      "6502/6502 [==============================] - 30s 5ms/step - loss: 0.3585 - mae: 0.1480 - val_loss: 0.3055 - val_mae: 0.1213\n",
      "Epoch 150/500\n",
      "6502/6502 [==============================] - 29s 5ms/step - loss: 0.3678 - mae: 0.1496 - val_loss: 0.3635 - val_mae: 0.1585\n",
      "Epoch 151/500\n",
      "6502/6502 [==============================] - 30s 5ms/step - loss: 0.3643 - mae: 0.1514 - val_loss: 0.2670 - val_mae: 0.1349\n",
      "Epoch 152/500\n",
      "6502/6502 [==============================] - 29s 5ms/step - loss: 0.3675 - mae: 0.1519 - val_loss: 0.2294 - val_mae: 0.1371\n",
      "Epoch 153/500\n",
      "6502/6502 [==============================] - 30s 5ms/step - loss: 0.3668 - mae: 0.1521 - val_loss: 0.2121 - val_mae: 0.1316\n",
      "Epoch 154/500\n",
      "6502/6502 [==============================] - 30s 5ms/step - loss: 0.3793 - mae: 0.1527 - val_loss: 0.3870 - val_mae: 0.2261\n",
      "Epoch 155/500\n",
      "6502/6502 [==============================] - 30s 5ms/step - loss: 0.3838 - mae: 0.1554 - val_loss: 0.3160 - val_mae: 0.1280\n",
      "Epoch 156/500\n",
      "6502/6502 [==============================] - 30s 5ms/step - loss: 0.4081 - mae: 0.1583 - val_loss: 0.5387 - val_mae: 0.1513\n",
      "Epoch 157/500\n",
      "6502/6502 [==============================] - 30s 5ms/step - loss: 0.3764 - mae: 0.1536 - val_loss: 0.2416 - val_mae: 0.1273\n",
      "Epoch 158/500\n",
      "6502/6502 [==============================] - 30s 5ms/step - loss: 0.3711 - mae: 0.1534 - val_loss: 0.3721 - val_mae: 0.1318\n",
      "Epoch 159/500\n",
      "6502/6502 [==============================] - 30s 5ms/step - loss: 0.3543 - mae: 0.1511 - val_loss: 0.2534 - val_mae: 0.1224\n",
      "Epoch 160/500\n",
      "6502/6502 [==============================] - 30s 5ms/step - loss: 0.3575 - mae: 0.1494 - val_loss: 0.7871 - val_mae: 0.2211\n",
      "Epoch 161/500\n",
      "6502/6502 [==============================] - 30s 5ms/step - loss: 0.3582 - mae: 0.1490 - val_loss: 0.3717 - val_mae: 0.1471\n",
      "Epoch 162/500\n",
      "6502/6502 [==============================] - 30s 5ms/step - loss: 0.3683 - mae: 0.1509 - val_loss: 0.2687 - val_mae: 0.1352\n",
      "Epoch 163/500\n",
      "6502/6502 [==============================] - 31s 5ms/step - loss: 0.3475 - mae: 0.1491 - val_loss: 0.2707 - val_mae: 0.1527\n",
      "Epoch 164/500\n",
      "6502/6502 [==============================] - 30s 5ms/step - loss: 0.3550 - mae: 0.1499 - val_loss: 0.3883 - val_mae: 0.1817\n",
      "Epoch 165/500\n",
      "6502/6502 [==============================] - 30s 5ms/step - loss: 0.3659 - mae: 0.1527 - val_loss: 0.2399 - val_mae: 0.1438\n",
      "Epoch 166/500\n",
      "6502/6502 [==============================] - 31s 5ms/step - loss: 0.3517 - mae: 0.1461 - val_loss: 0.8638 - val_mae: 0.2228\n",
      "Epoch 167/500\n",
      "6502/6502 [==============================] - 31s 5ms/step - loss: 0.3750 - mae: 0.1520 - val_loss: 0.2554 - val_mae: 0.1284\n",
      "Epoch 168/500\n",
      "6502/6502 [==============================] - 31s 5ms/step - loss: 0.3343 - mae: 0.1425 - val_loss: 0.7802 - val_mae: 0.1934\n",
      "Epoch 169/500\n",
      "6502/6502 [==============================] - 31s 5ms/step - loss: 0.3628 - mae: 0.1511 - val_loss: 0.2962 - val_mae: 0.1497\n",
      "Epoch 170/500\n",
      "6502/6502 [==============================] - 31s 5ms/step - loss: 0.3719 - mae: 0.1542 - val_loss: 0.2894 - val_mae: 0.1237\n",
      "Epoch 171/500\n",
      "6502/6502 [==============================] - 31s 5ms/step - loss: 0.3641 - mae: 0.1508 - val_loss: 0.3851 - val_mae: 0.1724\n",
      "Epoch 172/500\n",
      "6502/6502 [==============================] - 31s 5ms/step - loss: 0.3871 - mae: 0.1568 - val_loss: 0.2552 - val_mae: 0.1386\n",
      "Epoch 173/500\n",
      "6502/6502 [==============================] - 31s 5ms/step - loss: 0.3349 - mae: 0.1467 - val_loss: 0.2932 - val_mae: 0.1193\n",
      "Epoch 174/500\n",
      "6502/6502 [==============================] - 31s 5ms/step - loss: 0.3680 - mae: 0.1529 - val_loss: 0.3488 - val_mae: 0.1563\n",
      "Epoch 175/500\n",
      "6502/6502 [==============================] - 32s 5ms/step - loss: 0.3468 - mae: 0.1467 - val_loss: 0.2672 - val_mae: 0.1232\n",
      "Epoch 176/500\n",
      "6502/6502 [==============================] - 32s 5ms/step - loss: 0.3817 - mae: 0.1550 - val_loss: 0.3069 - val_mae: 0.1623\n",
      "Epoch 177/500\n",
      "6502/6502 [==============================] - 32s 5ms/step - loss: 0.3466 - mae: 0.1498 - val_loss: 0.3151 - val_mae: 0.1367\n",
      "Epoch 178/500\n",
      "6502/6502 [==============================] - 32s 5ms/step - loss: 0.3677 - mae: 0.1508 - val_loss: 0.2482 - val_mae: 0.1257\n",
      "Epoch 179/500\n",
      "6502/6502 [==============================] - 32s 5ms/step - loss: 0.3692 - mae: 0.1535 - val_loss: 0.6076 - val_mae: 0.2197\n",
      "Epoch 180/500\n",
      "6502/6502 [==============================] - 32s 5ms/step - loss: 0.3436 - mae: 0.1491 - val_loss: 0.4403 - val_mae: 0.1603\n",
      "Epoch 181/500\n",
      "6502/6502 [==============================] - 32s 5ms/step - loss: 0.3644 - mae: 0.1502 - val_loss: 0.4430 - val_mae: 0.1476\n",
      "Epoch 182/500\n",
      "6502/6502 [==============================] - 32s 5ms/step - loss: 0.3419 - mae: 0.1462 - val_loss: 0.2810 - val_mae: 0.1231\n",
      "Epoch 183/500\n",
      "6502/6502 [==============================] - 32s 5ms/step - loss: 0.3652 - mae: 0.1502 - val_loss: 0.3370 - val_mae: 0.1363\n",
      "Epoch 184/500\n",
      "6502/6502 [==============================] - 33s 5ms/step - loss: 0.3665 - mae: 0.1524 - val_loss: 0.3858 - val_mae: 0.1328\n",
      "Epoch 185/500\n",
      "6502/6502 [==============================] - 32s 5ms/step - loss: 0.3579 - mae: 0.1505 - val_loss: 0.2278 - val_mae: 0.1518\n",
      "Epoch 186/500\n",
      "6502/6502 [==============================] - 32s 5ms/step - loss: 0.3382 - mae: 0.1460 - val_loss: 0.2336 - val_mae: 0.1409\n",
      "Epoch 187/500\n",
      "6502/6502 [==============================] - 33s 5ms/step - loss: 0.3558 - mae: 0.1506 - val_loss: 0.2339 - val_mae: 0.1279\n",
      "Epoch 188/500\n",
      "6502/6502 [==============================] - 33s 5ms/step - loss: 0.3496 - mae: 0.1465 - val_loss: 0.3663 - val_mae: 0.1674\n",
      "Epoch 189/500\n",
      "6502/6502 [==============================] - 32s 5ms/step - loss: 0.3694 - mae: 0.1532 - val_loss: 0.2868 - val_mae: 0.1361\n",
      "Epoch 190/500\n",
      "6502/6502 [==============================] - 32s 5ms/step - loss: 0.3618 - mae: 0.1517 - val_loss: 0.2964 - val_mae: 0.1454\n",
      "Epoch 191/500\n",
      "6502/6502 [==============================] - 32s 5ms/step - loss: 0.3401 - mae: 0.1472 - val_loss: 0.2796 - val_mae: 0.1283\n",
      "Epoch 192/500\n",
      "6502/6502 [==============================] - 33s 5ms/step - loss: 0.3664 - mae: 0.1530 - val_loss: 0.4000 - val_mae: 0.1702\n",
      "Epoch 193/500\n",
      "6502/6502 [==============================] - 33s 5ms/step - loss: 0.3746 - mae: 0.1534 - val_loss: 0.2148 - val_mae: 0.1261\n",
      "Epoch 194/500\n",
      "6502/6502 [==============================] - 34s 5ms/step - loss: 0.3431 - mae: 0.1488 - val_loss: 0.3954 - val_mae: 0.1567\n",
      "Epoch 195/500\n",
      "6502/6502 [==============================] - 33s 5ms/step - loss: 0.3483 - mae: 0.1478 - val_loss: 1.0631 - val_mae: 0.2795\n",
      "Epoch 196/500\n",
      "6502/6502 [==============================] - 33s 5ms/step - loss: 0.3432 - mae: 0.1471 - val_loss: 0.3002 - val_mae: 0.1186\n",
      "Epoch 197/500\n",
      "6502/6502 [==============================] - 33s 5ms/step - loss: 0.3512 - mae: 0.1466 - val_loss: 0.3875 - val_mae: 0.1308\n",
      "Epoch 198/500\n",
      "6502/6502 [==============================] - 34s 5ms/step - loss: 0.3454 - mae: 0.1458 - val_loss: 0.4236 - val_mae: 0.1774\n",
      "Epoch 199/500\n",
      "6502/6502 [==============================] - 34s 5ms/step - loss: 0.3367 - mae: 0.1442 - val_loss: 0.2492 - val_mae: 0.1134\n",
      "Epoch 200/500\n",
      "6502/6502 [==============================] - 34s 5ms/step - loss: 0.3411 - mae: 0.1446 - val_loss: 0.4446 - val_mae: 0.1526\n",
      "Epoch 201/500\n",
      "6502/6502 [==============================] - 34s 5ms/step - loss: 0.3540 - mae: 0.1479 - val_loss: 0.2710 - val_mae: 0.1481\n",
      "Epoch 202/500\n",
      "6502/6502 [==============================] - 34s 5ms/step - loss: 0.3440 - mae: 0.1478 - val_loss: 0.2563 - val_mae: 0.1314\n",
      "Epoch 203/500\n",
      "6502/6502 [==============================] - 34s 5ms/step - loss: 0.3522 - mae: 0.1493 - val_loss: 0.2895 - val_mae: 0.1245\n"
     ]
    }
   ],
   "source": [
    "history = ann.fit(X_train, y_train,\n",
    "                    validation_data = (X_val, y_val),\n",
    "                    callbacks=[es],\n",
    "                    epochs=500,\n",
    "                    batch_size=40,\n",
    "                    verbose=1)"
   ]
  },
  {
   "cell_type": "markdown",
   "metadata": {
    "colab_type": "text",
    "id": "0H0zKKNEBLD5"
   },
   "source": [
    "### Analyse learn history"
   ]
  },
  {
   "cell_type": "code",
   "execution_count": 24,
   "metadata": {
    "ExecuteTime": {
     "end_time": "2024-07-28T04:24:48.324267800Z",
     "start_time": "2024-07-28T04:24:47.770097400Z"
    }
   },
   "outputs": [
    {
     "data": {
      "text/plain": "<Figure size 640x480 with 1 Axes>",
      "image/png": "[encoded data removed]"
     },
     "metadata": {},
     "output_type": "display_data"
    }
   ],
   "source": [
    "# let's see the training and validation accuracy by epoch\n",
    "history_dict = history.history\n",
    "loss_values = history_dict['loss'] # you can change this\n",
    "val_loss_values = history_dict['val_loss'] # you can also change this\n",
    "epochs = range(1, len(loss_values) + 1) # range of X (no. of epochs)\n",
    "plt.plot(epochs, loss_values, 'blue', label='Train set loss')\n",
    "plt.plot(epochs, val_loss_values, 'orange', label='Validation set loss')\n",
    "#plt.title('Training and testing loss')\n",
    "plt.xlabel('Epochs')\n",
    "plt.ylabel('Loss (MSE)')\n",
    "plt.legend()\n",
    "plt.show()"
   ]
  },
  {
   "cell_type": "code",
   "execution_count": 25,
   "metadata": {
    "ExecuteTime": {
     "end_time": "2024-07-28T04:24:53.080674200Z",
     "start_time": "2024-07-28T04:24:52.890085800Z"
    }
   },
   "outputs": [
    {
     "data": {
      "text/plain": "<Figure size 640x480 with 1 Axes>",
      "image/png": "[encoded data removed]"
     },
     "metadata": {},
     "output_type": "display_data"
    }
   ],
   "source": [
    "loss_values1 = history_dict['mae'] # you can change this\n",
    "val_loss_values1 = history_dict['val_mae'] # you can also change this\n",
    "epochs = range(1, len(loss_values1) + 1) # range of X (no. of epochs)\n",
    "plt.plot(epochs, loss_values1, 'blue', label='Train set MAE')\n",
    "plt.plot(epochs, val_loss_values1, 'orange', label='Validation set MAE')\n",
    "#plt.title('Training and testing MAE')\n",
    "plt.xlabel('Epochs')\n",
    "plt.ylabel('MAE')\n",
    "plt.legend()\n",
    "plt.show()"
   ]
  },
  {
   "cell_type": "code",
   "execution_count": null,
   "metadata": {},
   "outputs": [],
   "source": [
    "print (epochs)"
   ]
  },
  {
   "cell_type": "markdown",
   "metadata": {},
   "source": [
    "### Save the model"
   ]
  },
  {
   "cell_type": "code",
   "execution_count": null,
   "metadata": {},
   "outputs": [],
   "source": [
    "ann.save('Section3_ANN_1')\n",
    "import pickle\n",
    "pickle.dump(sc, open('Section3_scaler_ANN_1.pkl', 'wb'))"
   ]
  },
  {
   "cell_type": "markdown",
   "metadata": {},
   "source": [
    "## Part 5 - Make predictions"
   ]
  },
  {
   "cell_type": "code",
   "execution_count": null,
   "metadata": {},
   "outputs": [],
   "source": [
    "ann = load_model('ANN_13.h5')\n",
    "sc = pickle.load(open('scaler_ANN.pkl', 'rb'))"
   ]
  },
  {
   "cell_type": "code",
   "execution_count": 27,
   "metadata": {
    "ExecuteTime": {
     "end_time": "2024-07-28T04:26:07.511756100Z",
     "start_time": "2024-07-28T04:25:34.620433600Z"
    }
   },
   "outputs": [
    {
     "name": "stdout",
     "output_type": "stream",
     "text": [
      "8127/8127 [==============================] - 21s 3ms/step\n",
      "2709/2709 [==============================] - 7s 3ms/step\n"
     ]
    },
    {
     "data": {
      "text/plain": "<Figure size 640x480 with 2 Axes>",
      "image/png": "[encoded data removed]"
     },
     "metadata": {},
     "output_type": "display_data"
    }
   ],
   "source": [
    "# scatterplot of actual vs. pred\n",
    "# specify the dimensions \n",
    "fig, axes = plt.subplots(1,2) # 1 row, 2 columns\n",
    "\n",
    "# this makes the individual subplots\n",
    "# Training Results\n",
    "axes[0].scatter(x=y_train, y=ann.predict(X_train)) #first row, first entry (left top)\n",
    "axes[0].set_xlabel(\"Actual\", fontsize=10)\n",
    "axes[0].set_ylabel(\"Predicted\",  fontsize=10)\n",
    "axes[0].set_title(\"Training\")\n",
    "# add 45 deg line\n",
    "x = np.linspace(*axes[0].get_xlim())\n",
    "axes[0].plot(x, x, color='red')\n",
    "# Validation Results\n",
    "axes[1].scatter(x=y_val, y=ann.predict(X_val)) # first row, second entry (right top)\n",
    "axes[1].set_xlabel(\"Actual\", fontsize=10)\n",
    "axes[1].set_ylabel(\"Predicted\",  fontsize=10)\n",
    "axes[1].set_title(\"Validation\")\n",
    "# add 45 deg line\n",
    "x = np.linspace(*axes[1].get_xlim())\n",
    "axes[1].plot(x, x, color='red')\n",
    "\n",
    "# tight layout\n",
    "fig.tight_layout()\n",
    "\n",
    "# show the plot\n",
    "plt.show()"
   ]
  },
  {
   "cell_type": "code",
   "execution_count": null,
   "metadata": {
    "colab": {
     "base_uri": "https://localhost:8080/",
     "height": 134
    },
    "colab_type": "code",
    "id": "IA0yApEmBG1X",
    "outputId": "cb981e1f-9204-4a2a-fece-9d66a6919189"
   },
   "outputs": [],
   "source": [
    "y_pred = ann.predict(X_test)\n",
    "y_pred_e = y_pred/1000\n",
    "y_test_e = y_test/1000\n",
    "np.set_printoptions(precision=2)\n",
    "print(np.concatenate((y_pred_e.reshape(len(y_pred_e),1), y_test_e.reshape(len(y_test_e),1)),1))"
   ]
  },
  {
   "cell_type": "code",
   "execution_count": null,
   "metadata": {},
   "outputs": [],
   "source": [
    "import matplotlib.pyplot as plt\n",
    "plt.scatter(y_test, y_pred, color=\"blue\")\n",
    "#plt.plot ([0,1200000],[0,1200000], color = \"red\")\n",
    "#plt.axis ([0,1200000,0,1200000])\n",
    "plt.xlabel ('Actual data')\n",
    "plt.ylabel ('Predicted data')"
   ]
  },
  {
   "cell_type": "code",
   "execution_count": null,
   "metadata": {},
   "outputs": [],
   "source": [
    "from sklearn.metrics import r2_score\n",
    "# Initialize layout\n",
    "fig1, ax1 = plt.subplots(figsize = (9, 9))\n",
    "b_l = 60\n",
    "u_l = 300\n",
    "\n",
    "# Add scatterplot\n",
    "ax1.scatter(y_test_e, y_pred_e, s=70, alpha=1, edgecolors=\"k\",c='mediumblue',zorder=5, label = 'Points')\n",
    "\n",
    "\n",
    "plt.ylabel('Predicted Incident Pressure (kPa)',fontsize = 25)\n",
    "plt.xlabel('Actual Incident Pressure (kPa)',fontsize = 25)\n",
    "plt.xticks(fontsize = 19)\n",
    "plt.yticks(fontsize = 19)\n",
    "\n",
    "\n",
    "x1 = np.linspace(b_l, u_l)\n",
    "\n",
    "plt.plot(x1, x1, 'Red', label='45\\N{DEGREE SIGN} line',lw=2.5,alpha=1)\n",
    "plt.plot(x1, 1.05*x1, '--m', label='\\u00B15% Error',lw=2.5,alpha=0.7)\n",
    "plt.plot(x1, 0.95*x1,'m', linestyle='--',lw=2.5,alpha=0.7)\n",
    "plt.plot(x1, 1.1*x1, '-.g', label='\\u00B110% Error',lw=2.5,alpha=0.7)\n",
    "plt.plot(x1, 0.9*x1,'-.g',lw=2.5,alpha=0.7)\n",
    "plt.plot(x1, 1.2*x1, color = '#F97306', linestyle='dotted', label='\\u00B120% Error',lw=2.5,alpha=0.7)\n",
    "plt.plot(x1, 0.8*x1,color = '#F97306', linestyle='dotted', lw=2.5,alpha=0.7)\n",
    "\n",
    "plt.ylim(b_l, u_l)\n",
    "plt.xlim(b_l, u_l)\n",
    "plt.legend(loc='upper left',fontsize = 21)\n",
    "\n",
    "plt.grid()\n",
    "\n",
    "ax1.spines['left'].set_color('black')        # setting up Y-axis tick color to red\n",
    "ax1.spines['bottom'].set_color('black')         #setting up above X-axis tick color to red\n"
   ]
  },
  {
   "cell_type": "code",
   "execution_count": null,
   "metadata": {},
   "outputs": [],
   "source": [
    "# metrics\n",
    "trainpreds = ann.predict(X_train)\n",
    "\n",
    "from sklearn.metrics import mean_absolute_error\n",
    "print(mean_absolute_error(y_train, trainpreds)) # train\n",
    "print(mean_absolute_error(y_test, y_pred)) # test"
   ]
  },
  {
   "cell_type": "code",
   "execution_count": null,
   "metadata": {},
   "outputs": [],
   "source": [
    "from sklearn.metrics import r2_score\n",
    "r2 = r2_score(y_test, y_pred)\n",
    "print (r2)"
   ]
  },
  {
   "cell_type": "code",
   "execution_count": null,
   "metadata": {},
   "outputs": [],
   "source": [
    "r2_train = r2_score(y_train, trainpreds)\n",
    "print (r2_train)"
   ]
  },
  {
   "cell_type": "code",
   "execution_count": null,
   "metadata": {},
   "outputs": [],
   "source": [
    "count0 = 0\n",
    "for i in range(len(y_pred)):\n",
    "    line1 = y_pred[i] - 0.95*y_test[i]\n",
    "    line2 = y_pred[i] - 1.05*y_test[i]\n",
    "    mask0 = (line1 > 0) & (line2 < 0)\n",
    "    count0 = np.sum(mask0+count0)\n",
    "\n",
    "count1 = 0\n",
    "for i in range(len(y_pred)):\n",
    "    line1 = y_pred[i] - 0.9*y_test[i]\n",
    "    line2 = y_pred[i] - 1.1*y_test[i]\n",
    "    mask1 = (line1 > 0) & (line2 < 0)\n",
    "    count1 = np.sum(mask1+count1)\n",
    "\n",
    "count2 = 0\n",
    "for j in range(len(y_pred)):\n",
    "    line3 = y_pred[j] - 0.8*y_test[j]\n",
    "    line4 = y_pred[j] - 1.2*y_test[j]\n",
    "    mask2 = (line3 > 0) & (line4 < 0)\n",
    "    count2 = np.sum(mask2+count2)\n",
    "\n",
    "\n",
    "count3 = 0    \n",
    "for k in range(len(y_pred)):\n",
    "    line5 = y_pred[k] - 0.8*y_test[k]\n",
    "    line6 = y_pred[k] - 1.2*y_test[k]\n",
    "    mask3 = (line5 < 0) or (line6 > 0)\n",
    "    count3 = np.sum(mask3+count3)\n",
    "   \n",
    "\n",
    "print ('Within 5% margin', format((count0/len (y_pred)),'.2%'))\n",
    "print ('Within 10% margin', format((count1/len (y_pred)),'.2%'))\n",
    "print ('Within 20% margin', format((count2/len (y_pred)),'.2%'))\n",
    "print ('Out of 20% margin', format((count3/len (y_pred)),'.2%'))"
   ]
  },
  {
   "cell_type": "code",
   "execution_count": null,
   "metadata": {},
   "outputs": [],
   "source": [
    "adj_r2 = 1 - ((1 - r2) * (len(X_test) - 1) / (len(X_test) - len (X_test[0]) - 1))\n",
    "print (adj_r2)"
   ]
  },
  {
   "cell_type": "code",
   "execution_count": null,
   "metadata": {},
   "outputs": [],
   "source": [
    "import math\n",
    "from sklearn.metrics import mean_squared_error\n",
    "\n",
    "math.sqrt(mean_squared_error(y_test_e, y_pred_e))"
   ]
  },
  {
   "cell_type": "code",
   "execution_count": null,
   "metadata": {},
   "outputs": [],
   "source": [
    "from sklearn.metrics import mean_absolute_error\n",
    "\n",
    "mean_absolute_error(y_test_e, y_pred_e)"
   ]
  }
 ],
 "metadata": {
  "colab": {
   "collapsed_sections": [],
   "name": "Artificial Neural Network",
   "provenance": [],
   "toc_visible": true
  },
  "kernelspec": {
   "display_name": "Python 3 (ipykernel)",
   "language": "python",
   "name": "python3"
  },
  "language_info": {
   "codemirror_mode": {
    "name": "ipython",
    "version": 3
   },
   "file_extension": ".py",
   "mimetype": "text/x-python",
   "name": "python",
   "nbconvert_exporter": "python",
   "pygments_lexer": "ipython3",
   "version": "3.9.7"
  }
 },
 "nbformat": 4,
 "nbformat_minor": 4
}
