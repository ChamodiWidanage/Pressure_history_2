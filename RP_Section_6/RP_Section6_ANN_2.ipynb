{
 "cells": [
  {
   "cell_type": "markdown",
   "metadata": {
    "colab_type": "text",
    "id": "3cbb7fRy-eyr"
   },
   "source": [
    "# Artificial Neural Network"
   ]
  },
  {
   "cell_type": "markdown",
   "metadata": {
    "colab_type": "text",
    "id": "8sNDnxE2-pwE"
   },
   "source": [
    "## Part 1 - Importing the libraries"
   ]
  },
  {
   "cell_type": "code",
   "execution_count": 2,
   "metadata": {
    "colab": {},
    "colab_type": "code",
    "id": "lxChR1Rk-umf",
    "ExecuteTime": {
     "end_time": "2024-07-28T04:28:33.597708100Z",
     "start_time": "2024-07-28T04:28:33.582016300Z"
    }
   },
   "outputs": [],
   "source": [
    "import numpy as np\n",
    "import pandas as pd\n",
    "import tensorflow as tf\n",
    "import matplotlib.pyplot as plt\n",
    "from keras.models import load_model\n",
    "from pathlib import Path\n",
    "import pickle"
   ]
  },
  {
   "cell_type": "markdown",
   "metadata": {
    "colab_type": "text",
    "id": "AG3FQEch-yuA"
   },
   "source": [
    "## Part 2 - Data Preprocessing"
   ]
  },
  {
   "cell_type": "markdown",
   "metadata": {
    "colab_type": "text",
    "id": "-4zq8Mza_D9O"
   },
   "source": [
    "### Importing the dataset"
   ]
  },
  {
   "cell_type": "code",
   "execution_count": 3,
   "metadata": {
    "ExecuteTime": {
     "end_time": "2024-07-28T04:28:36.231855700Z",
     "start_time": "2024-07-28T04:28:36.091358700Z"
    }
   },
   "outputs": [
    {
     "name": "stdout",
     "output_type": "stream",
     "text": [
      "input G:\\Chamodi\\LSDYNA3D\\RP_TH_models\\RP_Section_6\n",
      "2 [WindowsPath('G:/Chamodi/LSDYNA3D/RP_TH_models/RP_Section_6/RP_curves_fr25m'), WindowsPath('G:/Chamodi/LSDYNA3D/RP_TH_models/RP_Section_6/RP_curves_fr27m'), WindowsPath('G:/Chamodi/LSDYNA3D/RP_TH_models/RP_Section_6/RP_curves_fr29m'), WindowsPath('G:/Chamodi/LSDYNA3D/RP_TH_models/RP_Section_6/RP_curves_fr30m')]\n"
     ]
    }
   ],
   "source": [
    "#Access input folder\n",
    "current_dir = Path.cwd()\n",
    "input_dir1 = Path (\"G:/Chamodi/LSDYNA3D/RP_TH_models/RP_Section_6\")\n",
    "print (\"input\",input_dir1)\n",
    "\n",
    "#Access folders inside input folder\n",
    "input_dir2=  [folder1 for folder1 in input_dir1.iterdir() if folder1.is_dir()] # folder1 - RP_curves_fr7m\n",
    "print (\"2\",input_dir2)"
   ]
  },
  {
   "cell_type": "code",
   "execution_count": 4,
   "metadata": {
    "ExecuteTime": {
     "end_time": "2024-07-28T04:29:27.295026100Z",
     "start_time": "2024-07-28T04:28:37.818797Z"
    }
   },
   "outputs": [
    {
     "name": "stdout",
     "output_type": "stream",
     "text": [
      "folder G:\\Chamodi\\LSDYNA3D\\RP_TH_models\\RP_Section_6\\RP_curves_fr25m\\25m00.5kg\n",
      "1\n",
      "2\n",
      "3\n",
      "4\n",
      "folder G:\\Chamodi\\LSDYNA3D\\RP_TH_models\\RP_Section_6\\RP_curves_fr25m\\25m02.5kg\n",
      "1\n",
      "2\n",
      "3\n",
      "4\n",
      "folder G:\\Chamodi\\LSDYNA3D\\RP_TH_models\\RP_Section_6\\RP_curves_fr25m\\25m04.5kg\n",
      "1\n",
      "2\n",
      "3\n",
      "4\n",
      "folder G:\\Chamodi\\LSDYNA3D\\RP_TH_models\\RP_Section_6\\RP_curves_fr25m\\25m06.5kg\n",
      "1\n",
      "2\n",
      "3\n",
      "4\n",
      "folder G:\\Chamodi\\LSDYNA3D\\RP_TH_models\\RP_Section_6\\RP_curves_fr25m\\25m08.5kg\n",
      "1\n",
      "2\n",
      "3\n",
      "4\n",
      "folder G:\\Chamodi\\LSDYNA3D\\RP_TH_models\\RP_Section_6\\RP_curves_fr25m\\25m10.5kg\n",
      "1\n",
      "2\n",
      "3\n",
      "4\n",
      "folder G:\\Chamodi\\LSDYNA3D\\RP_TH_models\\RP_Section_6\\RP_curves_fr25m\\25m12.5kg\n",
      "1\n",
      "2\n",
      "3\n",
      "4\n",
      "folder G:\\Chamodi\\LSDYNA3D\\RP_TH_models\\RP_Section_6\\RP_curves_fr25m\\25m14.5kg\n",
      "1\n",
      "2\n",
      "3\n",
      "4\n",
      "folder G:\\Chamodi\\LSDYNA3D\\RP_TH_models\\RP_Section_6\\RP_curves_fr25m\\25m16.5kg\n",
      "2\n",
      "3\n",
      "4\n",
      "folder G:\\Chamodi\\LSDYNA3D\\RP_TH_models\\RP_Section_6\\RP_curves_fr25m\\25m18.5kg\n",
      "1\n",
      "2\n",
      "3\n",
      "4\n",
      "folder G:\\Chamodi\\LSDYNA3D\\RP_TH_models\\RP_Section_6\\RP_curves_fr25m\\25m20.5kg\n",
      "1\n",
      "2\n",
      "3\n",
      "4\n",
      "folder G:\\Chamodi\\LSDYNA3D\\RP_TH_models\\RP_Section_6\\RP_curves_fr25m\\25m22.5kg\n",
      "1\n",
      "2\n",
      "3\n",
      "4\n",
      "folder G:\\Chamodi\\LSDYNA3D\\RP_TH_models\\RP_Section_6\\RP_curves_fr25m\\25m24.5kg\n",
      "1\n",
      "2\n",
      "3\n",
      "4\n",
      "folder G:\\Chamodi\\LSDYNA3D\\RP_TH_models\\RP_Section_6\\RP_curves_fr25m\\25m26.5kg\n",
      "1\n",
      "2\n",
      "3\n",
      "4\n",
      "folder G:\\Chamodi\\LSDYNA3D\\RP_TH_models\\RP_Section_6\\RP_curves_fr25m\\25m28.5kg\n",
      "1\n",
      "2\n",
      "3\n",
      "4\n",
      "folder G:\\Chamodi\\LSDYNA3D\\RP_TH_models\\RP_Section_6\\RP_curves_fr25m\\25m30.5kg\n",
      "1\n",
      "2\n",
      "3\n",
      "4\n",
      "folder G:\\Chamodi\\LSDYNA3D\\RP_TH_models\\RP_Section_6\\RP_curves_fr25m\\25m32.5kg\n",
      "1\n",
      "2\n",
      "3\n",
      "4\n",
      "folder G:\\Chamodi\\LSDYNA3D\\RP_TH_models\\RP_Section_6\\RP_curves_fr25m\\25m34.5kg\n",
      "1\n",
      "2\n",
      "3\n",
      "4\n",
      "folder G:\\Chamodi\\LSDYNA3D\\RP_TH_models\\RP_Section_6\\RP_curves_fr25m\\25m35.0kg\n",
      "1\n",
      "2\n",
      "3\n",
      "4\n",
      "folder G:\\Chamodi\\LSDYNA3D\\RP_TH_models\\RP_Section_6\\RP_curves_fr27m\\27m00.5kg\n",
      "1\n",
      "2\n",
      "3\n",
      "4\n",
      "folder G:\\Chamodi\\LSDYNA3D\\RP_TH_models\\RP_Section_6\\RP_curves_fr27m\\27m02.5kg\n",
      "1\n",
      "2\n",
      "3\n",
      "4\n",
      "folder G:\\Chamodi\\LSDYNA3D\\RP_TH_models\\RP_Section_6\\RP_curves_fr27m\\27m04.5kg\n",
      "1\n",
      "2\n",
      "3\n",
      "4\n",
      "folder G:\\Chamodi\\LSDYNA3D\\RP_TH_models\\RP_Section_6\\RP_curves_fr27m\\27m06.5kg\n",
      "1\n",
      "2\n",
      "3\n",
      "4\n",
      "folder G:\\Chamodi\\LSDYNA3D\\RP_TH_models\\RP_Section_6\\RP_curves_fr27m\\27m08.5kg\n",
      "1\n",
      "2\n",
      "3\n",
      "4\n",
      "folder G:\\Chamodi\\LSDYNA3D\\RP_TH_models\\RP_Section_6\\RP_curves_fr27m\\27m10.5kg\n",
      "1\n",
      "2\n",
      "3\n",
      "4\n",
      "folder G:\\Chamodi\\LSDYNA3D\\RP_TH_models\\RP_Section_6\\RP_curves_fr27m\\27m12.5kg\n",
      "1\n",
      "2\n",
      "3\n",
      "4\n",
      "folder G:\\Chamodi\\LSDYNA3D\\RP_TH_models\\RP_Section_6\\RP_curves_fr27m\\27m14.5kg\n",
      "1\n",
      "2\n",
      "3\n",
      "4\n",
      "folder G:\\Chamodi\\LSDYNA3D\\RP_TH_models\\RP_Section_6\\RP_curves_fr27m\\27m16.5kg\n",
      "1\n",
      "2\n",
      "3\n",
      "4\n",
      "folder G:\\Chamodi\\LSDYNA3D\\RP_TH_models\\RP_Section_6\\RP_curves_fr27m\\27m18.5kg\n",
      "1\n",
      "2\n",
      "3\n",
      "4\n",
      "folder G:\\Chamodi\\LSDYNA3D\\RP_TH_models\\RP_Section_6\\RP_curves_fr27m\\27m20.5kg\n",
      "1\n",
      "2\n",
      "3\n",
      "4\n",
      "folder G:\\Chamodi\\LSDYNA3D\\RP_TH_models\\RP_Section_6\\RP_curves_fr27m\\27m22.5kg\n",
      "1\n",
      "2\n",
      "3\n",
      "4\n",
      "folder G:\\Chamodi\\LSDYNA3D\\RP_TH_models\\RP_Section_6\\RP_curves_fr27m\\27m24.5kg\n",
      "1\n",
      "2\n",
      "3\n",
      "4\n",
      "folder G:\\Chamodi\\LSDYNA3D\\RP_TH_models\\RP_Section_6\\RP_curves_fr27m\\27m26.5kg\n",
      "1\n",
      "2\n",
      "3\n",
      "4\n",
      "folder G:\\Chamodi\\LSDYNA3D\\RP_TH_models\\RP_Section_6\\RP_curves_fr27m\\27m28.5kg\n",
      "1\n",
      "2\n",
      "3\n",
      "4\n",
      "folder G:\\Chamodi\\LSDYNA3D\\RP_TH_models\\RP_Section_6\\RP_curves_fr27m\\27m30.5kg\n",
      "1\n",
      "2\n",
      "3\n",
      "4\n",
      "folder G:\\Chamodi\\LSDYNA3D\\RP_TH_models\\RP_Section_6\\RP_curves_fr27m\\27m32.5kg\n",
      "1\n",
      "2\n",
      "3\n",
      "4\n",
      "folder G:\\Chamodi\\LSDYNA3D\\RP_TH_models\\RP_Section_6\\RP_curves_fr27m\\27m34.5kg\n",
      "1\n",
      "2\n",
      "3\n",
      "4\n",
      "folder G:\\Chamodi\\LSDYNA3D\\RP_TH_models\\RP_Section_6\\RP_curves_fr27m\\27m35.0kg\n",
      "1\n",
      "2\n",
      "3\n",
      "4\n",
      "folder G:\\Chamodi\\LSDYNA3D\\RP_TH_models\\RP_Section_6\\RP_curves_fr29m\\29m00.5kg\n",
      "1\n",
      "2\n",
      "3\n",
      "4\n",
      "folder G:\\Chamodi\\LSDYNA3D\\RP_TH_models\\RP_Section_6\\RP_curves_fr29m\\29m02.5kg\n",
      "1\n",
      "2\n",
      "3\n",
      "4\n",
      "folder G:\\Chamodi\\LSDYNA3D\\RP_TH_models\\RP_Section_6\\RP_curves_fr29m\\29m04.5kg\n",
      "1\n",
      "2\n",
      "3\n",
      "4\n",
      "folder G:\\Chamodi\\LSDYNA3D\\RP_TH_models\\RP_Section_6\\RP_curves_fr29m\\29m06.5kg\n",
      "1\n",
      "2\n",
      "3\n",
      "4\n",
      "folder G:\\Chamodi\\LSDYNA3D\\RP_TH_models\\RP_Section_6\\RP_curves_fr29m\\29m08.5kg\n",
      "1\n",
      "2\n",
      "3\n",
      "4\n",
      "folder G:\\Chamodi\\LSDYNA3D\\RP_TH_models\\RP_Section_6\\RP_curves_fr29m\\29m10.5kg\n",
      "1\n",
      "2\n",
      "3\n",
      "4\n",
      "folder G:\\Chamodi\\LSDYNA3D\\RP_TH_models\\RP_Section_6\\RP_curves_fr29m\\29m12.5kg\n",
      "1\n",
      "2\n",
      "3\n",
      "4\n",
      "folder G:\\Chamodi\\LSDYNA3D\\RP_TH_models\\RP_Section_6\\RP_curves_fr29m\\29m14.5kg\n",
      "1\n",
      "2\n",
      "3\n",
      "4\n",
      "folder G:\\Chamodi\\LSDYNA3D\\RP_TH_models\\RP_Section_6\\RP_curves_fr29m\\29m16.5kg\n",
      "1\n",
      "2\n",
      "3\n",
      "4\n",
      "folder G:\\Chamodi\\LSDYNA3D\\RP_TH_models\\RP_Section_6\\RP_curves_fr29m\\29m18.5kg\n",
      "1\n",
      "2\n",
      "3\n",
      "4\n",
      "folder G:\\Chamodi\\LSDYNA3D\\RP_TH_models\\RP_Section_6\\RP_curves_fr29m\\29m20.5kg\n",
      "1\n",
      "2\n",
      "3\n",
      "4\n",
      "folder G:\\Chamodi\\LSDYNA3D\\RP_TH_models\\RP_Section_6\\RP_curves_fr29m\\29m22.5kg\n",
      "1\n",
      "2\n",
      "3\n",
      "4\n",
      "folder G:\\Chamodi\\LSDYNA3D\\RP_TH_models\\RP_Section_6\\RP_curves_fr29m\\29m24.5kg\n",
      "1\n",
      "2\n",
      "3\n",
      "4\n",
      "folder G:\\Chamodi\\LSDYNA3D\\RP_TH_models\\RP_Section_6\\RP_curves_fr29m\\29m26.5kg\n",
      "1\n",
      "2\n",
      "3\n",
      "4\n",
      "folder G:\\Chamodi\\LSDYNA3D\\RP_TH_models\\RP_Section_6\\RP_curves_fr29m\\29m28.5kg\n",
      "1\n",
      "2\n",
      "3\n",
      "4\n",
      "folder G:\\Chamodi\\LSDYNA3D\\RP_TH_models\\RP_Section_6\\RP_curves_fr29m\\29m30.5kg\n",
      "1\n",
      "2\n",
      "3\n",
      "4\n",
      "folder G:\\Chamodi\\LSDYNA3D\\RP_TH_models\\RP_Section_6\\RP_curves_fr29m\\29m32.5kg\n",
      "1\n",
      "2\n",
      "3\n",
      "4\n",
      "folder G:\\Chamodi\\LSDYNA3D\\RP_TH_models\\RP_Section_6\\RP_curves_fr29m\\29m34.5kg\n",
      "1\n",
      "2\n",
      "3\n",
      "4\n",
      "folder G:\\Chamodi\\LSDYNA3D\\RP_TH_models\\RP_Section_6\\RP_curves_fr29m\\29m35.0kg\n",
      "1\n",
      "2\n",
      "3\n",
      "4\n",
      "folder G:\\Chamodi\\LSDYNA3D\\RP_TH_models\\RP_Section_6\\RP_curves_fr30m\\30m00.5kg\n",
      "1\n",
      "2\n",
      "3\n",
      "4\n",
      "folder G:\\Chamodi\\LSDYNA3D\\RP_TH_models\\RP_Section_6\\RP_curves_fr30m\\30m02.5kg\n",
      "1\n",
      "2\n",
      "3\n",
      "4\n",
      "folder G:\\Chamodi\\LSDYNA3D\\RP_TH_models\\RP_Section_6\\RP_curves_fr30m\\30m04.5kg\n",
      "1\n",
      "2\n",
      "3\n",
      "4\n",
      "folder G:\\Chamodi\\LSDYNA3D\\RP_TH_models\\RP_Section_6\\RP_curves_fr30m\\30m06.5kg\n",
      "1\n",
      "2\n",
      "3\n",
      "4\n",
      "folder G:\\Chamodi\\LSDYNA3D\\RP_TH_models\\RP_Section_6\\RP_curves_fr30m\\30m08.5kg\n",
      "1\n",
      "2\n",
      "3\n",
      "4\n",
      "folder G:\\Chamodi\\LSDYNA3D\\RP_TH_models\\RP_Section_6\\RP_curves_fr30m\\30m10.5kg\n",
      "1\n",
      "2\n",
      "3\n",
      "4\n",
      "folder G:\\Chamodi\\LSDYNA3D\\RP_TH_models\\RP_Section_6\\RP_curves_fr30m\\30m12.5kg\n",
      "1\n",
      "2\n",
      "3\n",
      "4\n",
      "folder G:\\Chamodi\\LSDYNA3D\\RP_TH_models\\RP_Section_6\\RP_curves_fr30m\\30m14.5kg\n",
      "1\n",
      "2\n",
      "3\n",
      "4\n",
      "folder G:\\Chamodi\\LSDYNA3D\\RP_TH_models\\RP_Section_6\\RP_curves_fr30m\\30m16.5kg\n",
      "1\n",
      "2\n",
      "3\n",
      "4\n",
      "folder G:\\Chamodi\\LSDYNA3D\\RP_TH_models\\RP_Section_6\\RP_curves_fr30m\\30m18.5kg\n",
      "1\n",
      "2\n",
      "3\n",
      "4\n",
      "folder G:\\Chamodi\\LSDYNA3D\\RP_TH_models\\RP_Section_6\\RP_curves_fr30m\\30m20.5kg\n",
      "1\n",
      "2\n",
      "3\n",
      "4\n",
      "folder G:\\Chamodi\\LSDYNA3D\\RP_TH_models\\RP_Section_6\\RP_curves_fr30m\\30m22.5kg\n",
      "1\n",
      "2\n",
      "3\n",
      "4\n",
      "folder G:\\Chamodi\\LSDYNA3D\\RP_TH_models\\RP_Section_6\\RP_curves_fr30m\\30m24.5kg\n",
      "1\n",
      "2\n",
      "3\n",
      "4\n",
      "folder G:\\Chamodi\\LSDYNA3D\\RP_TH_models\\RP_Section_6\\RP_curves_fr30m\\30m26.5kg\n",
      "1\n",
      "2\n",
      "3\n",
      "4\n",
      "folder G:\\Chamodi\\LSDYNA3D\\RP_TH_models\\RP_Section_6\\RP_curves_fr30m\\30m28.5kg\n",
      "1\n",
      "2\n",
      "3\n",
      "4\n",
      "folder G:\\Chamodi\\LSDYNA3D\\RP_TH_models\\RP_Section_6\\RP_curves_fr30m\\30m30.5kg\n",
      "1\n",
      "2\n",
      "3\n",
      "4\n",
      "folder G:\\Chamodi\\LSDYNA3D\\RP_TH_models\\RP_Section_6\\RP_curves_fr30m\\30m32.5kg\n",
      "1\n",
      "2\n",
      "3\n",
      "4\n",
      "folder G:\\Chamodi\\LSDYNA3D\\RP_TH_models\\RP_Section_6\\RP_curves_fr30m\\30m34.5kg\n",
      "1\n",
      "2\n",
      "3\n",
      "4\n",
      "folder G:\\Chamodi\\LSDYNA3D\\RP_TH_models\\RP_Section_6\\RP_curves_fr30m\\30m35.0kg\n",
      "1\n",
      "2\n",
      "3\n",
      "4\n"
     ]
    }
   ],
   "source": [
    "#dataset = pd.DataFrame(columns = ['Charge_mass', 'Standoff_distance', 'Time', 'Pressure', 'Phase'])\n",
    "df_list = []\n",
    "\n",
    "for folder1 in input_dir2:\n",
    "    \n",
    "    input_dir3 =  [folder2 for folder2 in folder1.iterdir() if folder2.is_dir()] # folder2 - 07m00.5kg\n",
    "    \n",
    "    for folder2 in input_dir3:\n",
    "        \n",
    "        print ('folder', folder2)\n",
    "        files1 = [file1 for file1 in folder2.rglob(\"*.xlsx\")]\n",
    "    \n",
    "        for file1 in files1:\n",
    "            df_list.append(pd.read_excel(file1))\n",
    "            print (file1.stem)\n",
    "    \n",
    "dataset = pd.concat(df_list, ignore_index = True)"
   ]
  },
  {
   "cell_type": "code",
   "execution_count": 5,
   "metadata": {
    "colab": {},
    "colab_type": "code",
    "id": "B9CV13Co_HHM",
    "ExecuteTime": {
     "end_time": "2024-07-28T04:29:40.357302700Z",
     "start_time": "2024-07-28T04:29:40.263447500Z"
    }
   },
   "outputs": [
    {
     "name": "stdout",
     "output_type": "stream",
     "text": [
      "<class 'pandas.core.frame.DataFrame'>\n",
      "RangeIndex: 433422 entries, 0 to 433421\n",
      "Data columns (total 6 columns):\n",
      " #   Column             Non-Null Count   Dtype  \n",
      "---  ------             --------------   -----  \n",
      " 0   Mass               433422 non-null  float64\n",
      " 1   Standoff distance  433422 non-null  int64  \n",
      " 2   Angle              433422 non-null  int64  \n",
      " 3   Time               433422 non-null  float64\n",
      " 4   Phase              433422 non-null  object \n",
      " 5   Pressure           433422 non-null  float64\n",
      "dtypes: float64(3), int64(2), object(1)\n",
      "memory usage: 19.8+ MB\n"
     ]
    }
   ],
   "source": [
    "dataset.info()"
   ]
  },
  {
   "cell_type": "code",
   "execution_count": 6,
   "outputs": [
    {
     "name": "stdout",
     "output_type": "stream",
     "text": [
      "<class 'pandas.core.frame.DataFrame'>\n",
      "RangeIndex: 433422 entries, 0 to 433421\n",
      "Data columns (total 8 columns):\n",
      " #   Column                     Non-Null Count   Dtype  \n",
      "---  ------                     --------------   -----  \n",
      " 0   Mass                       433422 non-null  float64\n",
      " 1   Standoff distance          433422 non-null  int64  \n",
      " 2   Angle                      433422 non-null  int64  \n",
      " 3   Time                       433422 non-null  float64\n",
      " 4   Pressure                   433422 non-null  float64\n",
      " 5   Phase_negative_decreasing  433422 non-null  uint8  \n",
      " 6   Phase_negative_increasing  433422 non-null  uint8  \n",
      " 7   Phase_positive             433422 non-null  uint8  \n",
      "dtypes: float64(3), int64(2), uint8(3)\n",
      "memory usage: 17.8 MB\n"
     ]
    }
   ],
   "source": [
    "dataset = pd.get_dummies(dataset, columns =['Phase'], dtype = np.uint8)\n",
    "dataset.info()"
   ],
   "metadata": {
    "collapsed": false,
    "ExecuteTime": {
     "end_time": "2024-07-28T04:29:46.866001400Z",
     "start_time": "2024-07-28T04:29:46.771027900Z"
    }
   }
  },
  {
   "cell_type": "code",
   "execution_count": 7,
   "outputs": [
    {
     "data": {
      "text/plain": "    Mass  Standoff distance  Angle       Time  Pressure  \\\n0    0.5                 25      0  67.794907  4.165875   \n1    0.5                 25      0  67.831663  4.117344   \n2    0.5                 25      0  67.868441  3.996742   \n3    0.5                 25      0  67.905219  3.823539   \n4    0.5                 25      0  67.941997  3.611555   \n5    0.5                 25      0  67.978793  3.364867   \n6    0.5                 25      0  68.015603  3.092086   \n7    0.5                 25      0  68.052414  2.779633   \n8    0.5                 25      0  68.089230  2.444719   \n9    0.5                 25      0  68.125987  2.096375   \n10   0.5                 25      0  68.162761  1.775031   \n11   0.5                 25      0  68.199550  1.506352   \n12   0.5                 25      0  68.236369  1.323352   \n13   0.5                 25      0  68.273164  1.202219   \n14   0.5                 25      0  68.309957  1.114961   \n15   0.5                 25      0  68.346681  1.047820   \n16   0.5                 25      0  68.383405  0.973148   \n17   0.5                 25      0  68.420093  0.892008   \n18   0.5                 25      0  68.456746  0.815008   \n19   0.5                 25      0  68.493399  0.781695   \n20   0.5                 25      0  68.530226  0.777469   \n21   0.5                 25      0  68.567046  0.781031   \n22   0.5                 25      0  68.603884  0.753617   \n23   0.5                 25      0  68.640515  0.697406   \n24   0.5                 25      0  68.677237  0.646937   \n25   0.5                 25      0  68.713923  0.606727   \n26   0.5                 25      0  68.750575  0.626031   \n27   0.5                 25      0  68.787226  0.649469   \n28   0.5                 25      0  68.823875  0.649469   \n29   0.5                 25      0  68.860523  0.641427   \n\n    Phase_negative_decreasing  Phase_negative_increasing  Phase_positive  \n0                           0                          0               1  \n1                           0                          0               1  \n2                           0                          0               1  \n3                           0                          0               1  \n4                           0                          0               1  \n5                           0                          0               1  \n6                           0                          0               1  \n7                           0                          0               1  \n8                           0                          0               1  \n9                           0                          0               1  \n10                          0                          0               1  \n11                          0                          0               1  \n12                          0                          0               1  \n13                          0                          0               1  \n14                          0                          0               1  \n15                          0                          0               1  \n16                          0                          0               1  \n17                          0                          0               1  \n18                          0                          0               1  \n19                          0                          0               1  \n20                          0                          0               1  \n21                          0                          0               1  \n22                          0                          0               1  \n23                          0                          0               1  \n24                          0                          0               1  \n25                          0                          0               1  \n26                          0                          0               1  \n27                          0                          0               1  \n28                          0                          0               1  \n29                          0                          0               1  ",
      "text/html": "<div>\n<style scoped>\n    .dataframe tbody tr th:only-of-type {\n        vertical-align: middle;\n    }\n\n    .dataframe tbody tr th {\n        vertical-align: top;\n    }\n\n    .dataframe thead th {\n        text-align: right;\n    }\n</style>\n<table border=\"1\" class=\"dataframe\">\n  <thead>\n    <tr style=\"text-align: right;\">\n      <th></th>\n      <th>Mass</th>\n      <th>Standoff distance</th>\n      <th>Angle</th>\n      <th>Time</th>\n      <th>Pressure</th>\n      <th>Phase_negative_decreasing</th>\n      <th>Phase_negative_increasing</th>\n      <th>Phase_positive</th>\n    </tr>\n  </thead>\n  <tbody>\n    <tr>\n      <th>0</th>\n      <td>0.5</td>\n      <td>25</td>\n      <td>0</td>\n      <td>67.794907</td>\n      <td>4.165875</td>\n      <td>0</td>\n      <td>0</td>\n      <td>1</td>\n    </tr>\n    <tr>\n      <th>1</th>\n      <td>0.5</td>\n      <td>25</td>\n      <td>0</td>\n      <td>67.831663</td>\n      <td>4.117344</td>\n      <td>0</td>\n      <td>0</td>\n      <td>1</td>\n    </tr>\n    <tr>\n      <th>2</th>\n      <td>0.5</td>\n      <td>25</td>\n      <td>0</td>\n      <td>67.868441</td>\n      <td>3.996742</td>\n      <td>0</td>\n      <td>0</td>\n      <td>1</td>\n    </tr>\n    <tr>\n      <th>3</th>\n      <td>0.5</td>\n      <td>25</td>\n      <td>0</td>\n      <td>67.905219</td>\n      <td>3.823539</td>\n      <td>0</td>\n      <td>0</td>\n      <td>1</td>\n    </tr>\n    <tr>\n      <th>4</th>\n      <td>0.5</td>\n      <td>25</td>\n      <td>0</td>\n      <td>67.941997</td>\n      <td>3.611555</td>\n      <td>0</td>\n      <td>0</td>\n      <td>1</td>\n    </tr>\n    <tr>\n      <th>5</th>\n      <td>0.5</td>\n      <td>25</td>\n      <td>0</td>\n      <td>67.978793</td>\n      <td>3.364867</td>\n      <td>0</td>\n      <td>0</td>\n      <td>1</td>\n    </tr>\n    <tr>\n      <th>6</th>\n      <td>0.5</td>\n      <td>25</td>\n      <td>0</td>\n      <td>68.015603</td>\n      <td>3.092086</td>\n      <td>0</td>\n      <td>0</td>\n      <td>1</td>\n    </tr>\n    <tr>\n      <th>7</th>\n      <td>0.5</td>\n      <td>25</td>\n      <td>0</td>\n      <td>68.052414</td>\n      <td>2.779633</td>\n      <td>0</td>\n      <td>0</td>\n      <td>1</td>\n    </tr>\n    <tr>\n      <th>8</th>\n      <td>0.5</td>\n      <td>25</td>\n      <td>0</td>\n      <td>68.089230</td>\n      <td>2.444719</td>\n      <td>0</td>\n      <td>0</td>\n      <td>1</td>\n    </tr>\n    <tr>\n      <th>9</th>\n      <td>0.5</td>\n      <td>25</td>\n      <td>0</td>\n      <td>68.125987</td>\n      <td>2.096375</td>\n      <td>0</td>\n      <td>0</td>\n      <td>1</td>\n    </tr>\n    <tr>\n      <th>10</th>\n      <td>0.5</td>\n      <td>25</td>\n      <td>0</td>\n      <td>68.162761</td>\n      <td>1.775031</td>\n      <td>0</td>\n      <td>0</td>\n      <td>1</td>\n    </tr>\n    <tr>\n      <th>11</th>\n      <td>0.5</td>\n      <td>25</td>\n      <td>0</td>\n      <td>68.199550</td>\n      <td>1.506352</td>\n      <td>0</td>\n      <td>0</td>\n      <td>1</td>\n    </tr>\n    <tr>\n      <th>12</th>\n      <td>0.5</td>\n      <td>25</td>\n      <td>0</td>\n      <td>68.236369</td>\n      <td>1.323352</td>\n      <td>0</td>\n      <td>0</td>\n      <td>1</td>\n    </tr>\n    <tr>\n      <th>13</th>\n      <td>0.5</td>\n      <td>25</td>\n      <td>0</td>\n      <td>68.273164</td>\n      <td>1.202219</td>\n      <td>0</td>\n      <td>0</td>\n      <td>1</td>\n    </tr>\n    <tr>\n      <th>14</th>\n      <td>0.5</td>\n      <td>25</td>\n      <td>0</td>\n      <td>68.309957</td>\n      <td>1.114961</td>\n      <td>0</td>\n      <td>0</td>\n      <td>1</td>\n    </tr>\n    <tr>\n      <th>15</th>\n      <td>0.5</td>\n      <td>25</td>\n      <td>0</td>\n      <td>68.346681</td>\n      <td>1.047820</td>\n      <td>0</td>\n      <td>0</td>\n      <td>1</td>\n    </tr>\n    <tr>\n      <th>16</th>\n      <td>0.5</td>\n      <td>25</td>\n      <td>0</td>\n      <td>68.383405</td>\n      <td>0.973148</td>\n      <td>0</td>\n      <td>0</td>\n      <td>1</td>\n    </tr>\n    <tr>\n      <th>17</th>\n      <td>0.5</td>\n      <td>25</td>\n      <td>0</td>\n      <td>68.420093</td>\n      <td>0.892008</td>\n      <td>0</td>\n      <td>0</td>\n      <td>1</td>\n    </tr>\n    <tr>\n      <th>18</th>\n      <td>0.5</td>\n      <td>25</td>\n      <td>0</td>\n      <td>68.456746</td>\n      <td>0.815008</td>\n      <td>0</td>\n      <td>0</td>\n      <td>1</td>\n    </tr>\n    <tr>\n      <th>19</th>\n      <td>0.5</td>\n      <td>25</td>\n      <td>0</td>\n      <td>68.493399</td>\n      <td>0.781695</td>\n      <td>0</td>\n      <td>0</td>\n      <td>1</td>\n    </tr>\n    <tr>\n      <th>20</th>\n      <td>0.5</td>\n      <td>25</td>\n      <td>0</td>\n      <td>68.530226</td>\n      <td>0.777469</td>\n      <td>0</td>\n      <td>0</td>\n      <td>1</td>\n    </tr>\n    <tr>\n      <th>21</th>\n      <td>0.5</td>\n      <td>25</td>\n      <td>0</td>\n      <td>68.567046</td>\n      <td>0.781031</td>\n      <td>0</td>\n      <td>0</td>\n      <td>1</td>\n    </tr>\n    <tr>\n      <th>22</th>\n      <td>0.5</td>\n      <td>25</td>\n      <td>0</td>\n      <td>68.603884</td>\n      <td>0.753617</td>\n      <td>0</td>\n      <td>0</td>\n      <td>1</td>\n    </tr>\n    <tr>\n      <th>23</th>\n      <td>0.5</td>\n      <td>25</td>\n      <td>0</td>\n      <td>68.640515</td>\n      <td>0.697406</td>\n      <td>0</td>\n      <td>0</td>\n      <td>1</td>\n    </tr>\n    <tr>\n      <th>24</th>\n      <td>0.5</td>\n      <td>25</td>\n      <td>0</td>\n      <td>68.677237</td>\n      <td>0.646937</td>\n      <td>0</td>\n      <td>0</td>\n      <td>1</td>\n    </tr>\n    <tr>\n      <th>25</th>\n      <td>0.5</td>\n      <td>25</td>\n      <td>0</td>\n      <td>68.713923</td>\n      <td>0.606727</td>\n      <td>0</td>\n      <td>0</td>\n      <td>1</td>\n    </tr>\n    <tr>\n      <th>26</th>\n      <td>0.5</td>\n      <td>25</td>\n      <td>0</td>\n      <td>68.750575</td>\n      <td>0.626031</td>\n      <td>0</td>\n      <td>0</td>\n      <td>1</td>\n    </tr>\n    <tr>\n      <th>27</th>\n      <td>0.5</td>\n      <td>25</td>\n      <td>0</td>\n      <td>68.787226</td>\n      <td>0.649469</td>\n      <td>0</td>\n      <td>0</td>\n      <td>1</td>\n    </tr>\n    <tr>\n      <th>28</th>\n      <td>0.5</td>\n      <td>25</td>\n      <td>0</td>\n      <td>68.823875</td>\n      <td>0.649469</td>\n      <td>0</td>\n      <td>0</td>\n      <td>1</td>\n    </tr>\n    <tr>\n      <th>29</th>\n      <td>0.5</td>\n      <td>25</td>\n      <td>0</td>\n      <td>68.860523</td>\n      <td>0.641427</td>\n      <td>0</td>\n      <td>0</td>\n      <td>1</td>\n    </tr>\n  </tbody>\n</table>\n</div>"
     },
     "execution_count": 7,
     "metadata": {},
     "output_type": "execute_result"
    }
   ],
   "source": [
    "dataset.head(30)"
   ],
   "metadata": {
    "collapsed": false,
    "ExecuteTime": {
     "end_time": "2024-07-28T04:29:53.076201900Z",
     "start_time": "2024-07-28T04:29:52.995005900Z"
    }
   }
  },
  {
   "cell_type": "code",
   "execution_count": 8,
   "metadata": {
    "ExecuteTime": {
     "end_time": "2024-07-28T04:29:54.639900600Z",
     "start_time": "2024-07-28T04:29:54.624368Z"
    }
   },
   "outputs": [
    {
     "name": "stdout",
     "output_type": "stream",
     "text": [
      "(433422, 7) (433422,)\n"
     ]
    }
   ],
   "source": [
    "y = dataset['Pressure']\n",
    "X = dataset.drop(['Pressure'], axis=1)\n",
    "print(X.shape, y.shape)"
   ]
  },
  {
   "cell_type": "code",
   "execution_count": 9,
   "metadata": {
    "ExecuteTime": {
     "end_time": "2024-07-28T04:29:56.212359Z",
     "start_time": "2024-07-28T04:29:56.117063800Z"
    }
   },
   "outputs": [],
   "source": [
    "# convert to numpy array\n",
    "X = np.array(X)\n",
    "y = np.array(y)"
   ]
  },
  {
   "cell_type": "markdown",
   "metadata": {
    "colab_type": "text",
    "id": "VC6omXel_Up0"
   },
   "source": [
    "### Splitting the dataset into the Training set and Test set"
   ]
  },
  {
   "cell_type": "code",
   "execution_count": 10,
   "metadata": {
    "colab": {},
    "colab_type": "code",
    "id": "L5edeb2r_agx",
    "ExecuteTime": {
     "end_time": "2024-07-28T04:30:00.138995100Z",
     "start_time": "2024-07-28T04:29:59.209843200Z"
    }
   },
   "outputs": [],
   "source": [
    "from sklearn.model_selection import train_test_split\n",
    "X_train, X_test, y_train, y_test = train_test_split(X,\n",
    "                                                    y,\n",
    "                                                    test_size = 0.4,\n",
    "                                                    random_state = 0)"
   ]
  },
  {
   "cell_type": "code",
   "execution_count": 11,
   "metadata": {
    "colab": {},
    "colab_type": "code",
    "id": "L5edeb2r_agx",
    "ExecuteTime": {
     "end_time": "2024-07-28T04:30:00.950193600Z",
     "start_time": "2024-07-28T04:30:00.857442200Z"
    }
   },
   "outputs": [],
   "source": [
    "X_val, X_test, y_val, y_test = train_test_split(X_test,\n",
    "                                                y_test,\n",
    "                                                test_size = 0.5,\n",
    "                                                random_state = 0)"
   ]
  },
  {
   "cell_type": "markdown",
   "source": [
    "## Feature scaling"
   ],
   "metadata": {
    "collapsed": false
   }
  },
  {
   "cell_type": "code",
   "execution_count": 12,
   "outputs": [
    {
     "name": "stdout",
     "output_type": "stream",
     "text": [
      "[[ 1.25632029 -0.39665052 -0.51071547 ...  1.          0.\n",
      "   0.        ]\n",
      " [-0.00908179 -0.39665052 -1.4116624  ...  1.          0.\n",
      "   0.        ]\n",
      " [-0.41401045  1.16750252 -0.51071547 ...  1.          0.\n",
      "   0.        ]\n",
      " ...\n",
      " [-0.00908179 -0.39665052 -0.51071547 ...  0.          0.\n",
      "   1.        ]\n",
      " [-1.62879645 -0.39665052 -0.51071547 ...  0.          0.\n",
      "   1.        ]\n",
      " [ 1.00323987  0.64611817  0.39023145 ...  0.          1.\n",
      "   0.        ]]\n"
     ]
    }
   ],
   "source": [
    "from sklearn.preprocessing import StandardScaler\n",
    "sc = StandardScaler()\n",
    "X_train[:,0:3] = sc.fit_transform(X_train[:, 0:3])\n",
    "print (X_train)"
   ],
   "metadata": {
    "collapsed": false,
    "ExecuteTime": {
     "end_time": "2024-07-28T04:30:04.139043200Z",
     "start_time": "2024-07-28T04:30:04.059709200Z"
    }
   }
  },
  {
   "cell_type": "code",
   "execution_count": 13,
   "outputs": [
    {
     "name": "stdout",
     "output_type": "stream",
     "text": [
      "[[-1.22386778  1.16750252  0.39023145 ...  1.          0.\n",
      "   0.        ]\n",
      " [ 1.25632029  0.64611817 -1.4116624  ...  1.          0.\n",
      "   0.        ]\n",
      " [ 1.2057042  -0.39665052  1.29117838 ...  0.          0.\n",
      "   1.        ]\n",
      " ...\n",
      " [ 1.2057042   0.64611817 -1.4116624  ...  0.          1.\n",
      "   0.        ]\n",
      " [-2.03372511 -0.39665052  1.29117838 ...  0.          0.\n",
      "   1.        ]\n",
      " [-0.21154612 -0.39665052  1.29117838 ...  0.          1.\n",
      "   0.        ]]\n"
     ]
    }
   ],
   "source": [
    "X_test[:,0:3] = sc.transform(X_test[:,0:3])\n",
    "print (X_test)"
   ],
   "metadata": {
    "collapsed": false,
    "ExecuteTime": {
     "end_time": "2024-07-28T04:30:08.045202300Z",
     "start_time": "2024-07-28T04:30:07.879744200Z"
    }
   }
  },
  {
   "cell_type": "code",
   "execution_count": 14,
   "outputs": [
    {
     "name": "stdout",
     "output_type": "stream",
     "text": [
      "[[ 0.59831121 -0.39665052  1.29117838 ...  0.          1.\n",
      "   0.        ]\n",
      " [-0.41401045 -0.39665052  0.39023145 ...  1.          0.\n",
      "   0.        ]\n",
      " [-0.41401045 -0.39665052 -0.51071547 ...  1.          0.\n",
      "   0.        ]\n",
      " ...\n",
      " [ 1.00323987  1.16750252  1.29117838 ...  0.          0.\n",
      "   1.        ]\n",
      " [ 0.80077554 -1.43941921 -0.51071547 ...  1.          0.\n",
      "   0.        ]\n",
      " [ 1.00323987 -1.43941921 -0.51071547 ...  1.          0.\n",
      "   0.        ]]\n"
     ]
    }
   ],
   "source": [
    "X_val[:,0:3] = sc.transform(X_val[:,0:3])\n",
    "print (X_val)"
   ],
   "metadata": {
    "collapsed": false,
    "ExecuteTime": {
     "end_time": "2024-07-28T04:30:09.389004300Z",
     "start_time": "2024-07-28T04:30:09.373494300Z"
    }
   }
  },
  {
   "cell_type": "code",
   "execution_count": 15,
   "outputs": [
    {
     "name": "stdout",
     "output_type": "stream",
     "text": [
      "X_train 260053\n",
      "X_test 86685\n",
      "X_val 86684\n"
     ]
    }
   ],
   "source": [
    "print (\"X_train\", len(X_train))\n",
    "print (\"X_test\", len(X_test))\n",
    "print (\"X_val\", len(X_val))"
   ],
   "metadata": {
    "collapsed": false,
    "ExecuteTime": {
     "end_time": "2024-07-28T04:30:13.045021800Z",
     "start_time": "2024-07-28T04:30:12.951426700Z"
    }
   }
  },
  {
   "cell_type": "markdown",
   "metadata": {
    "colab_type": "text",
    "id": "_mSLlAT9_eyI"
   },
   "source": [
    "## Part 3 - Building the ANN"
   ]
  },
  {
   "cell_type": "markdown",
   "metadata": {
    "colab_type": "text",
    "id": "CsBULd_f_wLY"
   },
   "source": [
    "### Initializing the ANN"
   ]
  },
  {
   "cell_type": "code",
   "execution_count": 16,
   "metadata": {
    "colab": {},
    "colab_type": "code",
    "id": "J6Hd97Ls__Nz",
    "ExecuteTime": {
     "end_time": "2024-07-28T04:30:15.107603800Z",
     "start_time": "2024-07-28T04:30:15.029288700Z"
    }
   },
   "outputs": [],
   "source": [
    "ann = tf.keras.models.Sequential()"
   ]
  },
  {
   "cell_type": "markdown",
   "metadata": {
    "colab_type": "text",
    "id": "iitAFJS_ABUn"
   },
   "source": [
    "### Adding the input layer and the first hidden layer"
   ]
  },
  {
   "cell_type": "code",
   "execution_count": 17,
   "metadata": {
    "colab": {},
    "colab_type": "code",
    "id": "ksO_Vv40AHix",
    "ExecuteTime": {
     "end_time": "2024-07-28T04:30:19.986852300Z",
     "start_time": "2024-07-28T04:30:19.923364300Z"
    }
   },
   "outputs": [],
   "source": [
    "ann.add(tf.keras.layers.Dense(units=150,\n",
    "                              input_shape=(X_train.shape[1],),\n",
    "                              activation='relu'))"
   ]
  },
  {
   "cell_type": "markdown",
   "metadata": {
    "colab_type": "text",
    "id": "-lb4kK_wAKbs"
   },
   "source": [
    "### Adding the second hidden layer"
   ]
  },
  {
   "cell_type": "code",
   "execution_count": 18,
   "metadata": {
    "colab": {},
    "colab_type": "code",
    "id": "c2357OqEAQOQ",
    "tags": [],
    "ExecuteTime": {
     "end_time": "2024-07-28T04:30:22.692951200Z",
     "start_time": "2024-07-28T04:30:22.581933100Z"
    }
   },
   "outputs": [],
   "source": [
    "ann.add(tf.keras.layers.Dense(units=125,\n",
    "                              activation='relu'))"
   ]
  },
  {
   "cell_type": "markdown",
   "metadata": {
    "colab_type": "text",
    "id": "-lb4kK_wAKbs"
   },
   "source": [
    "### Adding the third hidden layer"
   ]
  },
  {
   "cell_type": "code",
   "execution_count": 19,
   "metadata": {
    "colab": {},
    "colab_type": "code",
    "id": "c2357OqEAQOQ",
    "tags": [],
    "ExecuteTime": {
     "end_time": "2024-07-28T04:30:24.233021500Z",
     "start_time": "2024-07-28T04:30:24.170542100Z"
    }
   },
   "outputs": [],
   "source": [
    "ann.add(tf.keras.layers.Dense(units=100,\n",
    "                              activation='relu'))"
   ]
  },
  {
   "cell_type": "markdown",
   "source": [
    "### Adding the fourth hidden layer"
   ],
   "metadata": {
    "collapsed": false
   }
  },
  {
   "cell_type": "code",
   "execution_count": 20,
   "outputs": [],
   "source": [
    "ann.add(tf.keras.layers.Dense(units=75,\n",
    "                              activation='relu'))"
   ],
   "metadata": {
    "collapsed": false,
    "ExecuteTime": {
     "end_time": "2024-07-28T04:30:25.998656800Z",
     "start_time": "2024-07-28T04:30:25.904170500Z"
    }
   }
  },
  {
   "cell_type": "markdown",
   "metadata": {
    "colab_type": "text",
    "id": "jwMOmKb3AdBY"
   },
   "source": [
    "### Adding the output layer"
   ]
  },
  {
   "cell_type": "code",
   "execution_count": 21,
   "metadata": {
    "colab": {},
    "colab_type": "code",
    "id": "YFATpzsUAkLL",
    "ExecuteTime": {
     "end_time": "2024-07-28T04:30:29.795339900Z",
     "start_time": "2024-07-28T04:30:29.686041700Z"
    }
   },
   "outputs": [],
   "source": [
    "ann.add(tf.keras.layers.Dense(units=1,\n",
    "                              activation='linear'))"
   ]
  },
  {
   "cell_type": "markdown",
   "metadata": {},
   "source": [
    "### what model looks like"
   ]
  },
  {
   "cell_type": "code",
   "execution_count": 22,
   "metadata": {
    "ExecuteTime": {
     "end_time": "2024-07-28T04:30:31.787595800Z",
     "start_time": "2024-07-28T04:30:31.670602900Z"
    }
   },
   "outputs": [
    {
     "name": "stdout",
     "output_type": "stream",
     "text": [
      "Model: \"sequential\"\n",
      "_________________________________________________________________\n",
      " Layer (type)                Output Shape              Param #   \n",
      "=================================================================\n",
      " dense (Dense)               (None, 150)               1200      \n",
      "                                                                 \n",
      " dense_1 (Dense)             (None, 125)               18875     \n",
      "                                                                 \n",
      " dense_2 (Dense)             (None, 100)               12600     \n",
      "                                                                 \n",
      " dense_3 (Dense)             (None, 75)                7575      \n",
      "                                                                 \n",
      " dense_4 (Dense)             (None, 1)                 76        \n",
      "                                                                 \n",
      "=================================================================\n",
      "Total params: 40,326\n",
      "Trainable params: 40,326\n",
      "Non-trainable params: 0\n",
      "_________________________________________________________________\n"
     ]
    }
   ],
   "source": [
    "ann.summary()"
   ]
  },
  {
   "cell_type": "markdown",
   "metadata": {
    "colab_type": "text",
    "id": "fq7e4fF6A1yy"
   },
   "source": [
    "## Part 4 - Training the ANN"
   ]
  },
  {
   "cell_type": "markdown",
   "metadata": {
    "colab_type": "text",
    "id": "qDeylAs2An25"
   },
   "source": [
    "### Compiling the ANN"
   ]
  },
  {
   "cell_type": "code",
   "execution_count": 23,
   "metadata": {
    "colab": {},
    "colab_type": "code",
    "id": "pesgbWlCAtB4",
    "ExecuteTime": {
     "end_time": "2024-07-28T04:30:36.795272500Z",
     "start_time": "2024-07-28T04:30:36.732802700Z"
    }
   },
   "outputs": [],
   "source": [
    "# from tensorflow.keras.optimizers import Adam\n",
    "from keras.optimizers import Adam\n",
    "opt = Adam(learning_rate=0.001)\n",
    "ann.compile(optimizer = opt,\n",
    "            loss = 'mean_squared_error',\n",
    "            metrics = ['mae'])"
   ]
  },
  {
   "cell_type": "markdown",
   "metadata": {},
   "source": [
    "### early stopping callback"
   ]
  },
  {
   "cell_type": "code",
   "execution_count": 24,
   "metadata": {
    "ExecuteTime": {
     "end_time": "2024-07-28T04:30:38.691663900Z",
     "start_time": "2024-07-28T04:30:38.628079800Z"
    }
   },
   "outputs": [],
   "source": [
    "# protects from unnecessary further training of the model if a particular metric does not continue to improve over a number of n epochs. In such a case, the model training would be automatically aborted.\n",
    "from keras.callbacks import EarlyStopping\n",
    "es = EarlyStopping(monitor='val_loss',\n",
    "                   mode='min',\n",
    "                   patience=50,\n",
    "                   restore_best_weights = True)"
   ]
  },
  {
   "cell_type": "markdown",
   "metadata": {
    "colab_type": "text",
    "id": "YjVuiybYOo7r"
   },
   "source": [
    "### Training the ANN model on the Training set"
   ]
  },
  {
   "cell_type": "code",
   "execution_count": 25,
   "metadata": {
    "colab": {
     "base_uri": "https://localhost:8080/",
     "height": 1000
    },
    "colab_type": "code",
    "id": "c_vV-tiiA5zn",
    "outputId": "4a2b6ee6-ed75-4698-9069-b250e613803f",
    "ExecuteTime": {
     "end_time": "2024-07-28T07:13:28.504707100Z",
     "start_time": "2024-07-28T04:30:42.282274600Z"
    }
   },
   "outputs": [
    {
     "name": "stdout",
     "output_type": "stream",
     "text": [
      "Epoch 1/500\n",
      "6502/6502 [==============================] - 26s 4ms/step - loss: 1.7621 - mae: 0.5584 - val_loss: 1.8348 - val_mae: 0.5132\n",
      "Epoch 2/500\n",
      "6502/6502 [==============================] - 26s 4ms/step - loss: 1.2541 - mae: 0.4412 - val_loss: 0.6640 - val_mae: 0.3332\n",
      "Epoch 3/500\n",
      "6502/6502 [==============================] - 26s 4ms/step - loss: 0.9552 - mae: 0.3458 - val_loss: 1.2381 - val_mae: 0.5681\n",
      "Epoch 4/500\n",
      "6502/6502 [==============================] - 27s 4ms/step - loss: 0.8604 - mae: 0.3190 - val_loss: 1.6735 - val_mae: 0.4522\n",
      "Epoch 5/500\n",
      "6502/6502 [==============================] - 27s 4ms/step - loss: 1.2571 - mae: 0.3888 - val_loss: 0.6657 - val_mae: 0.2342\n",
      "Epoch 6/500\n",
      "6502/6502 [==============================] - 27s 4ms/step - loss: 0.8016 - mae: 0.2805 - val_loss: 1.0198 - val_mae: 0.3263\n",
      "Epoch 7/500\n",
      "6502/6502 [==============================] - 27s 4ms/step - loss: 0.7704 - mae: 0.2648 - val_loss: 0.5970 - val_mae: 0.1941\n",
      "Epoch 8/500\n",
      "6502/6502 [==============================] - 26s 4ms/step - loss: 0.7738 - mae: 0.2671 - val_loss: 0.5850 - val_mae: 0.1982\n",
      "Epoch 9/500\n",
      "6502/6502 [==============================] - 25s 4ms/step - loss: 0.7389 - mae: 0.2515 - val_loss: 0.6359 - val_mae: 0.2595\n",
      "Epoch 10/500\n",
      "6502/6502 [==============================] - 25s 4ms/step - loss: 0.7243 - mae: 0.2458 - val_loss: 0.5362 - val_mae: 0.1674\n",
      "Epoch 11/500\n",
      "6502/6502 [==============================] - 26s 4ms/step - loss: 0.6864 - mae: 0.2357 - val_loss: 0.4961 - val_mae: 0.2073\n",
      "Epoch 12/500\n",
      "6502/6502 [==============================] - 25s 4ms/step - loss: 0.6836 - mae: 0.2370 - val_loss: 0.8019 - val_mae: 0.2464\n",
      "Epoch 13/500\n",
      "6502/6502 [==============================] - 25s 4ms/step - loss: 0.6744 - mae: 0.2286 - val_loss: 0.5364 - val_mae: 0.1748\n",
      "Epoch 14/500\n",
      "6502/6502 [==============================] - 25s 4ms/step - loss: 0.6545 - mae: 0.2223 - val_loss: 0.4843 - val_mae: 0.1518\n",
      "Epoch 15/500\n",
      "6502/6502 [==============================] - 25s 4ms/step - loss: 0.6656 - mae: 0.2272 - val_loss: 0.4104 - val_mae: 0.1612\n",
      "Epoch 16/500\n",
      "6502/6502 [==============================] - 25s 4ms/step - loss: 0.6648 - mae: 0.2272 - val_loss: 0.5143 - val_mae: 0.2288\n",
      "Epoch 17/500\n",
      "6502/6502 [==============================] - 25s 4ms/step - loss: 0.6320 - mae: 0.2173 - val_loss: 0.8137 - val_mae: 0.3037\n",
      "Epoch 18/500\n",
      "6502/6502 [==============================] - 25s 4ms/step - loss: 0.6387 - mae: 0.2217 - val_loss: 0.4735 - val_mae: 0.1765\n",
      "Epoch 19/500\n",
      "6502/6502 [==============================] - 25s 4ms/step - loss: 0.6250 - mae: 0.2168 - val_loss: 0.5994 - val_mae: 0.1827\n",
      "Epoch 20/500\n",
      "6502/6502 [==============================] - 25s 4ms/step - loss: 0.6012 - mae: 0.2055 - val_loss: 0.5082 - val_mae: 0.2347\n",
      "Epoch 21/500\n",
      "6502/6502 [==============================] - 25s 4ms/step - loss: 0.5881 - mae: 0.2022 - val_loss: 0.9243 - val_mae: 0.2433\n",
      "Epoch 22/500\n",
      "6502/6502 [==============================] - 25s 4ms/step - loss: 0.6020 - mae: 0.2049 - val_loss: 0.6555 - val_mae: 0.2872\n",
      "Epoch 23/500\n",
      "6502/6502 [==============================] - 25s 4ms/step - loss: 0.6115 - mae: 0.2075 - val_loss: 0.4881 - val_mae: 0.1582\n",
      "Epoch 24/500\n",
      "6502/6502 [==============================] - 25s 4ms/step - loss: 0.5944 - mae: 0.2076 - val_loss: 0.5130 - val_mae: 0.1727\n",
      "Epoch 25/500\n",
      "6502/6502 [==============================] - 25s 4ms/step - loss: 0.5492 - mae: 0.1948 - val_loss: 0.4172 - val_mae: 0.1597\n",
      "Epoch 26/500\n",
      "6502/6502 [==============================] - 25s 4ms/step - loss: 0.5472 - mae: 0.1918 - val_loss: 0.4372 - val_mae: 0.1403\n",
      "Epoch 27/500\n",
      "6502/6502 [==============================] - 25s 4ms/step - loss: 0.5679 - mae: 0.1973 - val_loss: 0.4326 - val_mae: 0.1455\n",
      "Epoch 28/500\n",
      "6502/6502 [==============================] - 25s 4ms/step - loss: 0.5476 - mae: 0.1905 - val_loss: 0.4186 - val_mae: 0.1788\n",
      "Epoch 29/500\n",
      "6502/6502 [==============================] - 25s 4ms/step - loss: 0.5424 - mae: 0.1920 - val_loss: 0.5856 - val_mae: 0.2397\n",
      "Epoch 30/500\n",
      "6502/6502 [==============================] - 25s 4ms/step - loss: 0.5297 - mae: 0.1873 - val_loss: 3.9971 - val_mae: 0.6921\n",
      "Epoch 31/500\n",
      "6502/6502 [==============================] - 25s 4ms/step - loss: 0.5260 - mae: 0.1885 - val_loss: 0.3652 - val_mae: 0.1344\n",
      "Epoch 32/500\n",
      "6502/6502 [==============================] - 26s 4ms/step - loss: 0.5237 - mae: 0.1865 - val_loss: 0.3589 - val_mae: 0.1620\n",
      "Epoch 33/500\n",
      "6502/6502 [==============================] - 25s 4ms/step - loss: 0.5115 - mae: 0.1863 - val_loss: 0.3696 - val_mae: 0.1624\n",
      "Epoch 34/500\n",
      "6502/6502 [==============================] - 25s 4ms/step - loss: 0.5622 - mae: 0.1954 - val_loss: 0.4851 - val_mae: 0.1656\n",
      "Epoch 35/500\n",
      "6502/6502 [==============================] - 25s 4ms/step - loss: 0.5131 - mae: 0.1867 - val_loss: 0.4191 - val_mae: 0.1447\n",
      "Epoch 36/500\n",
      "6502/6502 [==============================] - 25s 4ms/step - loss: 0.4989 - mae: 0.1808 - val_loss: 0.3465 - val_mae: 0.1742\n",
      "Epoch 37/500\n",
      "6502/6502 [==============================] - 25s 4ms/step - loss: 0.5019 - mae: 0.1812 - val_loss: 0.5818 - val_mae: 0.1775\n",
      "Epoch 38/500\n",
      "6502/6502 [==============================] - 25s 4ms/step - loss: 0.5106 - mae: 0.1838 - val_loss: 0.3639 - val_mae: 0.1384\n",
      "Epoch 39/500\n",
      "6502/6502 [==============================] - 25s 4ms/step - loss: 0.5016 - mae: 0.1815 - val_loss: 0.4151 - val_mae: 0.1353\n",
      "Epoch 40/500\n",
      "6502/6502 [==============================] - 25s 4ms/step - loss: 0.5004 - mae: 0.1819 - val_loss: 0.3857 - val_mae: 0.1752\n",
      "Epoch 41/500\n",
      "6502/6502 [==============================] - 25s 4ms/step - loss: 0.5204 - mae: 0.1863 - val_loss: 0.8751 - val_mae: 0.3184\n",
      "Epoch 42/500\n",
      "6502/6502 [==============================] - 26s 4ms/step - loss: 0.4805 - mae: 0.1771 - val_loss: 0.4252 - val_mae: 0.2105\n",
      "Epoch 43/500\n",
      "6502/6502 [==============================] - 26s 4ms/step - loss: 0.4902 - mae: 0.1811 - val_loss: 0.3061 - val_mae: 0.1626\n",
      "Epoch 44/500\n",
      "6502/6502 [==============================] - 27s 4ms/step - loss: 0.5101 - mae: 0.1835 - val_loss: 0.6817 - val_mae: 0.1860\n",
      "Epoch 45/500\n",
      "6502/6502 [==============================] - 26s 4ms/step - loss: 0.5020 - mae: 0.1811 - val_loss: 0.3581 - val_mae: 0.1590\n",
      "Epoch 46/500\n",
      "6502/6502 [==============================] - 26s 4ms/step - loss: 0.4976 - mae: 0.1825 - val_loss: 0.3470 - val_mae: 0.1790\n",
      "Epoch 47/500\n",
      "6502/6502 [==============================] - 26s 4ms/step - loss: 0.4739 - mae: 0.1777 - val_loss: 0.3326 - val_mae: 0.1665\n",
      "Epoch 48/500\n",
      "6502/6502 [==============================] - 27s 4ms/step - loss: 0.5145 - mae: 0.1882 - val_loss: 0.4337 - val_mae: 0.1524\n",
      "Epoch 49/500\n",
      "6502/6502 [==============================] - 27s 4ms/step - loss: 0.4930 - mae: 0.1824 - val_loss: 0.4504 - val_mae: 0.1852\n",
      "Epoch 50/500\n",
      "6502/6502 [==============================] - 27s 4ms/step - loss: 0.4805 - mae: 0.1787 - val_loss: 0.3191 - val_mae: 0.1693\n",
      "Epoch 51/500\n",
      "6502/6502 [==============================] - 27s 4ms/step - loss: 0.4639 - mae: 0.1755 - val_loss: 0.4098 - val_mae: 0.1387\n",
      "Epoch 52/500\n",
      "6502/6502 [==============================] - 28s 4ms/step - loss: 0.4700 - mae: 0.1784 - val_loss: 0.3518 - val_mae: 0.1300\n",
      "Epoch 53/500\n",
      "6502/6502 [==============================] - 28s 4ms/step - loss: 0.4955 - mae: 0.1825 - val_loss: 0.3855 - val_mae: 0.1550\n",
      "Epoch 54/500\n",
      "6502/6502 [==============================] - 28s 4ms/step - loss: 0.4586 - mae: 0.1740 - val_loss: 0.2890 - val_mae: 0.1616\n",
      "Epoch 55/500\n",
      "6502/6502 [==============================] - 28s 4ms/step - loss: 0.4634 - mae: 0.1746 - val_loss: 0.5939 - val_mae: 0.1967\n",
      "Epoch 56/500\n",
      "6502/6502 [==============================] - 27s 4ms/step - loss: 0.4409 - mae: 0.1682 - val_loss: 0.3049 - val_mae: 0.1328\n",
      "Epoch 57/500\n",
      "6502/6502 [==============================] - 27s 4ms/step - loss: 0.4802 - mae: 0.1774 - val_loss: 0.2974 - val_mae: 0.1338\n",
      "Epoch 58/500\n",
      "6502/6502 [==============================] - 27s 4ms/step - loss: 0.4639 - mae: 0.1767 - val_loss: 0.4787 - val_mae: 0.1545\n",
      "Epoch 59/500\n",
      "6502/6502 [==============================] - 27s 4ms/step - loss: 0.4849 - mae: 0.1807 - val_loss: 0.6826 - val_mae: 0.2657\n",
      "Epoch 60/500\n",
      "6502/6502 [==============================] - 27s 4ms/step - loss: 0.4774 - mae: 0.1776 - val_loss: 0.3070 - val_mae: 0.1442\n",
      "Epoch 61/500\n",
      "6502/6502 [==============================] - 28s 4ms/step - loss: 0.4812 - mae: 0.1822 - val_loss: 0.3604 - val_mae: 0.1519\n",
      "Epoch 62/500\n",
      "6502/6502 [==============================] - 27s 4ms/step - loss: 0.4573 - mae: 0.1761 - val_loss: 0.4944 - val_mae: 0.1563\n",
      "Epoch 63/500\n",
      "6502/6502 [==============================] - 27s 4ms/step - loss: 0.4511 - mae: 0.1704 - val_loss: 0.2970 - val_mae: 0.1409\n",
      "Epoch 64/500\n",
      "6502/6502 [==============================] - 28s 4ms/step - loss: 0.4702 - mae: 0.1763 - val_loss: 0.3067 - val_mae: 0.1529\n",
      "Epoch 65/500\n",
      "6502/6502 [==============================] - 28s 4ms/step - loss: 0.4478 - mae: 0.1741 - val_loss: 0.3049 - val_mae: 0.1361\n",
      "Epoch 66/500\n",
      "6502/6502 [==============================] - 27s 4ms/step - loss: 0.4660 - mae: 0.1762 - val_loss: 0.3080 - val_mae: 0.1410\n",
      "Epoch 67/500\n",
      "6502/6502 [==============================] - 28s 4ms/step - loss: 0.4354 - mae: 0.1683 - val_loss: 0.5243 - val_mae: 0.2407\n",
      "Epoch 68/500\n",
      "6502/6502 [==============================] - 27s 4ms/step - loss: 0.4828 - mae: 0.1819 - val_loss: 0.5099 - val_mae: 0.2279\n",
      "Epoch 69/500\n",
      "6502/6502 [==============================] - 28s 4ms/step - loss: 0.4706 - mae: 0.1767 - val_loss: 0.3653 - val_mae: 0.1643\n",
      "Epoch 70/500\n",
      "6502/6502 [==============================] - 28s 4ms/step - loss: 0.4602 - mae: 0.1748 - val_loss: 0.3261 - val_mae: 0.1707\n",
      "Epoch 71/500\n",
      "6502/6502 [==============================] - 28s 4ms/step - loss: 0.4529 - mae: 0.1738 - val_loss: 0.4388 - val_mae: 0.1642\n",
      "Epoch 72/500\n",
      "6502/6502 [==============================] - 27s 4ms/step - loss: 0.4447 - mae: 0.1690 - val_loss: 0.3020 - val_mae: 0.1391\n",
      "Epoch 73/500\n",
      "6502/6502 [==============================] - 28s 4ms/step - loss: 0.4563 - mae: 0.1739 - val_loss: 0.3739 - val_mae: 0.1554\n",
      "Epoch 74/500\n",
      "6502/6502 [==============================] - 28s 4ms/step - loss: 0.4572 - mae: 0.1728 - val_loss: 0.7474 - val_mae: 0.1969\n",
      "Epoch 75/500\n",
      "6502/6502 [==============================] - 28s 4ms/step - loss: 0.4617 - mae: 0.1727 - val_loss: 0.4563 - val_mae: 0.1959\n",
      "Epoch 76/500\n",
      "6502/6502 [==============================] - 28s 4ms/step - loss: 0.4636 - mae: 0.1731 - val_loss: 0.3713 - val_mae: 0.1755\n",
      "Epoch 77/500\n",
      "6502/6502 [==============================] - 29s 4ms/step - loss: 0.4524 - mae: 0.1706 - val_loss: 0.3642 - val_mae: 0.1975\n",
      "Epoch 78/500\n",
      "6502/6502 [==============================] - 28s 4ms/step - loss: 0.4410 - mae: 0.1695 - val_loss: 0.5345 - val_mae: 0.1648\n",
      "Epoch 79/500\n",
      "6502/6502 [==============================] - 28s 4ms/step - loss: 0.4438 - mae: 0.1700 - val_loss: 0.3339 - val_mae: 0.1307\n",
      "Epoch 80/500\n",
      "6502/6502 [==============================] - 27s 4ms/step - loss: 0.4371 - mae: 0.1693 - val_loss: 0.4021 - val_mae: 0.1673\n",
      "Epoch 81/500\n",
      "6502/6502 [==============================] - 28s 4ms/step - loss: 0.4211 - mae: 0.1714 - val_loss: 0.2784 - val_mae: 0.1390\n",
      "Epoch 82/500\n",
      "6502/6502 [==============================] - 28s 4ms/step - loss: 0.4404 - mae: 0.1746 - val_loss: 1.3235 - val_mae: 0.2989\n",
      "Epoch 83/500\n",
      "6502/6502 [==============================] - 28s 4ms/step - loss: 0.4412 - mae: 0.1713 - val_loss: 0.3323 - val_mae: 0.1387\n",
      "Epoch 84/500\n",
      "6502/6502 [==============================] - 27s 4ms/step - loss: 0.4339 - mae: 0.1707 - val_loss: 0.3715 - val_mae: 0.1549\n",
      "Epoch 85/500\n",
      "6502/6502 [==============================] - 28s 4ms/step - loss: 0.4569 - mae: 0.1767 - val_loss: 0.3189 - val_mae: 0.1342\n",
      "Epoch 86/500\n",
      "6502/6502 [==============================] - 27s 4ms/step - loss: 0.4332 - mae: 0.1719 - val_loss: 0.4361 - val_mae: 0.1674\n",
      "Epoch 87/500\n",
      "6502/6502 [==============================] - 27s 4ms/step - loss: 0.4429 - mae: 0.1745 - val_loss: 0.6418 - val_mae: 0.2087\n",
      "Epoch 88/500\n",
      "6502/6502 [==============================] - 27s 4ms/step - loss: 0.4288 - mae: 0.1703 - val_loss: 0.2856 - val_mae: 0.1342\n",
      "Epoch 89/500\n",
      "6502/6502 [==============================] - 27s 4ms/step - loss: 0.4345 - mae: 0.1696 - val_loss: 0.2663 - val_mae: 0.1291\n",
      "Epoch 90/500\n",
      "6502/6502 [==============================] - 27s 4ms/step - loss: 0.4489 - mae: 0.1762 - val_loss: 0.7576 - val_mae: 0.2332\n",
      "Epoch 91/500\n",
      "6502/6502 [==============================] - 27s 4ms/step - loss: 0.4552 - mae: 0.1779 - val_loss: 0.2977 - val_mae: 0.1435\n",
      "Epoch 92/500\n",
      "6502/6502 [==============================] - 27s 4ms/step - loss: 0.4222 - mae: 0.1685 - val_loss: 0.6284 - val_mae: 0.1789\n",
      "Epoch 93/500\n",
      "6502/6502 [==============================] - 27s 4ms/step - loss: 0.4184 - mae: 0.1639 - val_loss: 0.3142 - val_mae: 0.1289\n",
      "Epoch 94/500\n",
      "6502/6502 [==============================] - 27s 4ms/step - loss: 0.4254 - mae: 0.1653 - val_loss: 0.4406 - val_mae: 0.1442\n",
      "Epoch 95/500\n",
      "6502/6502 [==============================] - 27s 4ms/step - loss: 0.4065 - mae: 0.1625 - val_loss: 0.3417 - val_mae: 0.2260\n",
      "Epoch 96/500\n",
      "6502/6502 [==============================] - 27s 4ms/step - loss: 0.4071 - mae: 0.1623 - val_loss: 0.2953 - val_mae: 0.1273\n",
      "Epoch 97/500\n",
      "6502/6502 [==============================] - 27s 4ms/step - loss: 0.4312 - mae: 0.1662 - val_loss: 0.2840 - val_mae: 0.1488\n",
      "Epoch 98/500\n",
      "6502/6502 [==============================] - 27s 4ms/step - loss: 0.4150 - mae: 0.1631 - val_loss: 0.3093 - val_mae: 0.1366\n",
      "Epoch 99/500\n",
      "6502/6502 [==============================] - 27s 4ms/step - loss: 0.4224 - mae: 0.1670 - val_loss: 0.8274 - val_mae: 0.2299\n",
      "Epoch 100/500\n",
      "6502/6502 [==============================] - 27s 4ms/step - loss: 0.4277 - mae: 0.1691 - val_loss: 0.3549 - val_mae: 0.2282\n",
      "Epoch 101/500\n",
      "6502/6502 [==============================] - 27s 4ms/step - loss: 0.4294 - mae: 0.1709 - val_loss: 0.4171 - val_mae: 0.1380\n",
      "Epoch 102/500\n",
      "6502/6502 [==============================] - 27s 4ms/step - loss: 0.4016 - mae: 0.1631 - val_loss: 0.8994 - val_mae: 0.2447\n",
      "Epoch 103/500\n",
      "6502/6502 [==============================] - 27s 4ms/step - loss: 0.4126 - mae: 0.1671 - val_loss: 0.3901 - val_mae: 0.1742\n",
      "Epoch 104/500\n",
      "6502/6502 [==============================] - 27s 4ms/step - loss: 0.4051 - mae: 0.1665 - val_loss: 0.5859 - val_mae: 0.2648\n",
      "Epoch 105/500\n",
      "6502/6502 [==============================] - 28s 4ms/step - loss: 0.4544 - mae: 0.1805 - val_loss: 0.2908 - val_mae: 0.1512\n",
      "Epoch 106/500\n",
      "6502/6502 [==============================] - 28s 4ms/step - loss: 0.4006 - mae: 0.1669 - val_loss: 0.3374 - val_mae: 0.1780\n",
      "Epoch 107/500\n",
      "6502/6502 [==============================] - 27s 4ms/step - loss: 0.4151 - mae: 0.1651 - val_loss: 0.4303 - val_mae: 0.1785\n",
      "Epoch 108/500\n",
      "6502/6502 [==============================] - 28s 4ms/step - loss: 0.3946 - mae: 0.1621 - val_loss: 0.6088 - val_mae: 0.1849\n",
      "Epoch 109/500\n",
      "6502/6502 [==============================] - 29s 5ms/step - loss: 0.4259 - mae: 0.1667 - val_loss: 0.3332 - val_mae: 0.1715\n",
      "Epoch 110/500\n",
      "6502/6502 [==============================] - 29s 4ms/step - loss: 0.4094 - mae: 0.1626 - val_loss: 0.2678 - val_mae: 0.1427\n",
      "Epoch 111/500\n",
      "6502/6502 [==============================] - 28s 4ms/step - loss: 0.4298 - mae: 0.1691 - val_loss: 0.2875 - val_mae: 0.1328\n",
      "Epoch 112/500\n",
      "6502/6502 [==============================] - 27s 4ms/step - loss: 0.3994 - mae: 0.1612 - val_loss: 0.3176 - val_mae: 0.1745\n",
      "Epoch 113/500\n",
      "6502/6502 [==============================] - 27s 4ms/step - loss: 0.4110 - mae: 0.1643 - val_loss: 0.2652 - val_mae: 0.1442\n",
      "Epoch 114/500\n",
      "6502/6502 [==============================] - 28s 4ms/step - loss: 0.4227 - mae: 0.1663 - val_loss: 0.2889 - val_mae: 0.1527\n",
      "Epoch 115/500\n",
      "6502/6502 [==============================] - 28s 4ms/step - loss: 0.4126 - mae: 0.1627 - val_loss: 0.4855 - val_mae: 0.2023\n",
      "Epoch 116/500\n",
      "6502/6502 [==============================] - 28s 4ms/step - loss: 0.3796 - mae: 0.1570 - val_loss: 0.3258 - val_mae: 0.1499\n",
      "Epoch 117/500\n",
      "6502/6502 [==============================] - 29s 4ms/step - loss: 0.4103 - mae: 0.1682 - val_loss: 0.2691 - val_mae: 0.1262\n",
      "Epoch 118/500\n",
      "6502/6502 [==============================] - 28s 4ms/step - loss: 0.4023 - mae: 0.1637 - val_loss: 0.3103 - val_mae: 0.1302\n",
      "Epoch 119/500\n",
      "6502/6502 [==============================] - 28s 4ms/step - loss: 0.4292 - mae: 0.1713 - val_loss: 0.2591 - val_mae: 0.1465\n",
      "Epoch 120/500\n",
      "6502/6502 [==============================] - 28s 4ms/step - loss: 0.3949 - mae: 0.1625 - val_loss: 0.3213 - val_mae: 0.1666\n",
      "Epoch 121/500\n",
      "6502/6502 [==============================] - 28s 4ms/step - loss: 0.4149 - mae: 0.1695 - val_loss: 0.9974 - val_mae: 0.2501\n",
      "Epoch 122/500\n",
      "6502/6502 [==============================] - 28s 4ms/step - loss: 0.4103 - mae: 0.1673 - val_loss: 0.2734 - val_mae: 0.1317\n",
      "Epoch 123/500\n",
      "6502/6502 [==============================] - 27s 4ms/step - loss: 0.3984 - mae: 0.1635 - val_loss: 0.3801 - val_mae: 0.1562\n",
      "Epoch 124/500\n",
      "6502/6502 [==============================] - 28s 4ms/step - loss: 0.3720 - mae: 0.1556 - val_loss: 0.2794 - val_mae: 0.1317\n",
      "Epoch 125/500\n",
      "6502/6502 [==============================] - 28s 4ms/step - loss: 0.4736 - mae: 0.1807 - val_loss: 0.5910 - val_mae: 0.2288\n",
      "Epoch 126/500\n",
      "6502/6502 [==============================] - 28s 4ms/step - loss: 0.4589 - mae: 0.1884 - val_loss: 0.2727 - val_mae: 0.1636\n",
      "Epoch 127/500\n",
      "6502/6502 [==============================] - 28s 4ms/step - loss: 0.4135 - mae: 0.1748 - val_loss: 0.3256 - val_mae: 0.2045\n",
      "Epoch 128/500\n",
      "6502/6502 [==============================] - 28s 4ms/step - loss: 0.4148 - mae: 0.1754 - val_loss: 0.3229 - val_mae: 0.1532\n",
      "Epoch 129/500\n",
      "6502/6502 [==============================] - 28s 4ms/step - loss: 0.3846 - mae: 0.1650 - val_loss: 0.3562 - val_mae: 0.1410\n",
      "Epoch 130/500\n",
      "6502/6502 [==============================] - 28s 4ms/step - loss: 0.3733 - mae: 0.1626 - val_loss: 0.2439 - val_mae: 0.1403\n",
      "Epoch 131/500\n",
      "6502/6502 [==============================] - 28s 4ms/step - loss: 0.3983 - mae: 0.1657 - val_loss: 0.2791 - val_mae: 0.1494\n",
      "Epoch 132/500\n",
      "6502/6502 [==============================] - 28s 4ms/step - loss: 0.3796 - mae: 0.1601 - val_loss: 0.4084 - val_mae: 0.1352\n",
      "Epoch 133/500\n",
      "6502/6502 [==============================] - 28s 4ms/step - loss: 0.4123 - mae: 0.1674 - val_loss: 1.0086 - val_mae: 0.2532\n",
      "Epoch 134/500\n",
      "6502/6502 [==============================] - 28s 4ms/step - loss: 0.3858 - mae: 0.1618 - val_loss: 0.3063 - val_mae: 0.1330\n",
      "Epoch 135/500\n",
      "6502/6502 [==============================] - 28s 4ms/step - loss: 0.3733 - mae: 0.1566 - val_loss: 0.4086 - val_mae: 0.1563\n",
      "Epoch 136/500\n",
      "6502/6502 [==============================] - 28s 4ms/step - loss: 0.3731 - mae: 0.1547 - val_loss: 0.2336 - val_mae: 0.1289\n",
      "Epoch 137/500\n",
      "6502/6502 [==============================] - 28s 4ms/step - loss: 0.3790 - mae: 0.1585 - val_loss: 0.3143 - val_mae: 0.1417\n",
      "Epoch 138/500\n",
      "6502/6502 [==============================] - 28s 4ms/step - loss: 0.3878 - mae: 0.1606 - val_loss: 0.2698 - val_mae: 0.1546\n",
      "Epoch 139/500\n",
      "6502/6502 [==============================] - 28s 4ms/step - loss: 0.3809 - mae: 0.1586 - val_loss: 0.2754 - val_mae: 0.1522\n",
      "Epoch 140/500\n",
      "6502/6502 [==============================] - 28s 4ms/step - loss: 0.3693 - mae: 0.1545 - val_loss: 0.4235 - val_mae: 0.1507\n",
      "Epoch 141/500\n",
      "6502/6502 [==============================] - 29s 4ms/step - loss: 0.3776 - mae: 0.1557 - val_loss: 0.3068 - val_mae: 0.1701\n",
      "Epoch 142/500\n",
      "6502/6502 [==============================] - 28s 4ms/step - loss: 0.3916 - mae: 0.1595 - val_loss: 0.2882 - val_mae: 0.1377\n",
      "Epoch 143/500\n",
      "6502/6502 [==============================] - 28s 4ms/step - loss: 0.3987 - mae: 0.1603 - val_loss: 0.4427 - val_mae: 0.1496\n",
      "Epoch 144/500\n",
      "6502/6502 [==============================] - 27s 4ms/step - loss: 0.3889 - mae: 0.1589 - val_loss: 0.3008 - val_mae: 0.1835\n",
      "Epoch 145/500\n",
      "6502/6502 [==============================] - 27s 4ms/step - loss: 0.3872 - mae: 0.1591 - val_loss: 0.4393 - val_mae: 0.1590\n",
      "Epoch 146/500\n",
      "6502/6502 [==============================] - 27s 4ms/step - loss: 0.3878 - mae: 0.1592 - val_loss: 0.5196 - val_mae: 0.1667\n",
      "Epoch 147/500\n",
      "6502/6502 [==============================] - 27s 4ms/step - loss: 0.3863 - mae: 0.1619 - val_loss: 0.2673 - val_mae: 0.1589\n",
      "Epoch 148/500\n",
      "6502/6502 [==============================] - 27s 4ms/step - loss: 0.4016 - mae: 0.1637 - val_loss: 0.3556 - val_mae: 0.1405\n",
      "Epoch 149/500\n",
      "6502/6502 [==============================] - 27s 4ms/step - loss: 0.3644 - mae: 0.1557 - val_loss: 0.2624 - val_mae: 0.1252\n",
      "Epoch 150/500\n",
      "6502/6502 [==============================] - 28s 4ms/step - loss: 0.3758 - mae: 0.1565 - val_loss: 0.7829 - val_mae: 0.2087\n",
      "Epoch 151/500\n",
      "6502/6502 [==============================] - 28s 4ms/step - loss: 0.3621 - mae: 0.1569 - val_loss: 0.3695 - val_mae: 0.1847\n",
      "Epoch 152/500\n",
      "6502/6502 [==============================] - 28s 4ms/step - loss: 0.3944 - mae: 0.1657 - val_loss: 0.2624 - val_mae: 0.1204\n",
      "Epoch 153/500\n",
      "6502/6502 [==============================] - 28s 4ms/step - loss: 0.3846 - mae: 0.1600 - val_loss: 0.7227 - val_mae: 0.2329\n",
      "Epoch 154/500\n",
      "6502/6502 [==============================] - 28s 4ms/step - loss: 0.3910 - mae: 0.1695 - val_loss: 0.2748 - val_mae: 0.1440\n",
      "Epoch 155/500\n",
      "6502/6502 [==============================] - 28s 4ms/step - loss: 0.3670 - mae: 0.1586 - val_loss: 0.2827 - val_mae: 0.1535\n",
      "Epoch 156/500\n",
      "6502/6502 [==============================] - 28s 4ms/step - loss: 0.3679 - mae: 0.1539 - val_loss: 0.2558 - val_mae: 0.1207\n",
      "Epoch 157/500\n",
      "6502/6502 [==============================] - 28s 4ms/step - loss: 0.3767 - mae: 0.1589 - val_loss: 0.3072 - val_mae: 0.1382\n",
      "Epoch 158/500\n",
      "6502/6502 [==============================] - 28s 4ms/step - loss: 0.3751 - mae: 0.1558 - val_loss: 0.2673 - val_mae: 0.1283\n",
      "Epoch 159/500\n",
      "6502/6502 [==============================] - 28s 4ms/step - loss: 0.3623 - mae: 0.1551 - val_loss: 0.6712 - val_mae: 0.2284\n",
      "Epoch 160/500\n",
      "6502/6502 [==============================] - 28s 4ms/step - loss: 0.4058 - mae: 0.1660 - val_loss: 0.2447 - val_mae: 0.1226\n",
      "Epoch 161/500\n",
      "6502/6502 [==============================] - 28s 4ms/step - loss: 0.3791 - mae: 0.1603 - val_loss: 0.3395 - val_mae: 0.1520\n",
      "Epoch 162/500\n",
      "6502/6502 [==============================] - 28s 4ms/step - loss: 0.3865 - mae: 0.1610 - val_loss: 0.2523 - val_mae: 0.1444\n",
      "Epoch 163/500\n",
      "6502/6502 [==============================] - 28s 4ms/step - loss: 0.3981 - mae: 0.1671 - val_loss: 0.2400 - val_mae: 0.1268\n",
      "Epoch 164/500\n",
      "6502/6502 [==============================] - 28s 4ms/step - loss: 0.4025 - mae: 0.1657 - val_loss: 0.3975 - val_mae: 0.1847\n",
      "Epoch 165/500\n",
      "6502/6502 [==============================] - 28s 4ms/step - loss: 0.3782 - mae: 0.1595 - val_loss: 0.6025 - val_mae: 0.1699\n",
      "Epoch 166/500\n",
      "6502/6502 [==============================] - 28s 4ms/step - loss: 0.3611 - mae: 0.1594 - val_loss: 0.7486 - val_mae: 0.2585\n",
      "Epoch 167/500\n",
      "6502/6502 [==============================] - 28s 4ms/step - loss: 0.3530 - mae: 0.1530 - val_loss: 0.3751 - val_mae: 0.1846\n",
      "Epoch 168/500\n",
      "6502/6502 [==============================] - 28s 4ms/step - loss: 0.3746 - mae: 0.1594 - val_loss: 0.3202 - val_mae: 0.1319\n",
      "Epoch 169/500\n",
      "6502/6502 [==============================] - 28s 4ms/step - loss: 0.3538 - mae: 0.1540 - val_loss: 0.2366 - val_mae: 0.1273\n",
      "Epoch 170/500\n",
      "6502/6502 [==============================] - 28s 4ms/step - loss: 0.3613 - mae: 0.1555 - val_loss: 0.3291 - val_mae: 0.1479\n",
      "Epoch 171/500\n",
      "6502/6502 [==============================] - 28s 4ms/step - loss: 0.3587 - mae: 0.1529 - val_loss: 0.2446 - val_mae: 0.1160\n",
      "Epoch 172/500\n",
      "6502/6502 [==============================] - 28s 4ms/step - loss: 0.3670 - mae: 0.1542 - val_loss: 0.4300 - val_mae: 0.1604\n",
      "Epoch 173/500\n",
      "6502/6502 [==============================] - 28s 4ms/step - loss: 0.3688 - mae: 0.1563 - val_loss: 0.2320 - val_mae: 0.1567\n",
      "Epoch 174/500\n",
      "6502/6502 [==============================] - 28s 4ms/step - loss: 0.3590 - mae: 0.1569 - val_loss: 0.2534 - val_mae: 0.1431\n",
      "Epoch 175/500\n",
      "6502/6502 [==============================] - 28s 4ms/step - loss: 0.3738 - mae: 0.1574 - val_loss: 0.3542 - val_mae: 0.1683\n",
      "Epoch 176/500\n",
      "6502/6502 [==============================] - 28s 4ms/step - loss: 0.3714 - mae: 0.1550 - val_loss: 0.3046 - val_mae: 0.1283\n",
      "Epoch 177/500\n",
      "6502/6502 [==============================] - 28s 4ms/step - loss: 0.3614 - mae: 0.1536 - val_loss: 0.4987 - val_mae: 0.2098\n",
      "Epoch 178/500\n",
      "6502/6502 [==============================] - 28s 4ms/step - loss: 0.3717 - mae: 0.1590 - val_loss: 0.3894 - val_mae: 0.1378\n",
      "Epoch 179/500\n",
      "6502/6502 [==============================] - 28s 4ms/step - loss: 0.3498 - mae: 0.1522 - val_loss: 0.4311 - val_mae: 0.1493\n",
      "Epoch 180/500\n",
      "6502/6502 [==============================] - 27s 4ms/step - loss: 0.3659 - mae: 0.1549 - val_loss: 0.2597 - val_mae: 0.1499\n",
      "Epoch 181/500\n",
      "6502/6502 [==============================] - 28s 4ms/step - loss: 0.3753 - mae: 0.1585 - val_loss: 0.5208 - val_mae: 0.1605\n",
      "Epoch 182/500\n",
      "6502/6502 [==============================] - 28s 4ms/step - loss: 0.3657 - mae: 0.1572 - val_loss: 0.2201 - val_mae: 0.1209\n",
      "Epoch 183/500\n",
      "6502/6502 [==============================] - 28s 4ms/step - loss: 0.3725 - mae: 0.1594 - val_loss: 0.3912 - val_mae: 0.1573\n",
      "Epoch 184/500\n",
      "6502/6502 [==============================] - 28s 4ms/step - loss: 0.3549 - mae: 0.1540 - val_loss: 0.3544 - val_mae: 0.1364\n",
      "Epoch 185/500\n",
      "6502/6502 [==============================] - 27s 4ms/step - loss: 0.3688 - mae: 0.1571 - val_loss: 0.2581 - val_mae: 0.1439\n",
      "Epoch 186/500\n",
      "6502/6502 [==============================] - 28s 4ms/step - loss: 0.3732 - mae: 0.1608 - val_loss: 0.2369 - val_mae: 0.1409\n",
      "Epoch 187/500\n",
      "6502/6502 [==============================] - 28s 4ms/step - loss: 0.3587 - mae: 0.1576 - val_loss: 0.2243 - val_mae: 0.1330\n",
      "Epoch 188/500\n",
      "6502/6502 [==============================] - 28s 4ms/step - loss: 0.3922 - mae: 0.1632 - val_loss: 0.4196 - val_mae: 0.1879\n",
      "Epoch 189/500\n",
      "6502/6502 [==============================] - 28s 4ms/step - loss: 0.3473 - mae: 0.1510 - val_loss: 0.3600 - val_mae: 0.1291\n",
      "Epoch 190/500\n",
      "6502/6502 [==============================] - 28s 4ms/step - loss: 0.3624 - mae: 0.1550 - val_loss: 0.3364 - val_mae: 0.1380\n",
      "Epoch 191/500\n",
      "6502/6502 [==============================] - 28s 4ms/step - loss: 0.3896 - mae: 0.1603 - val_loss: 0.3088 - val_mae: 0.1735\n",
      "Epoch 192/500\n",
      "6502/6502 [==============================] - 28s 4ms/step - loss: 0.3509 - mae: 0.1539 - val_loss: 0.2755 - val_mae: 0.1179\n",
      "Epoch 193/500\n",
      "6502/6502 [==============================] - 28s 4ms/step - loss: 0.3385 - mae: 0.1498 - val_loss: 0.2080 - val_mae: 0.1244\n",
      "Epoch 194/500\n",
      "6502/6502 [==============================] - 28s 4ms/step - loss: 0.3368 - mae: 0.1487 - val_loss: 0.6017 - val_mae: 0.2445\n",
      "Epoch 195/500\n",
      "6502/6502 [==============================] - 28s 4ms/step - loss: 0.3726 - mae: 0.1602 - val_loss: 0.4368 - val_mae: 0.1748\n",
      "Epoch 196/500\n",
      "6502/6502 [==============================] - 28s 4ms/step - loss: 0.3692 - mae: 0.1587 - val_loss: 0.2366 - val_mae: 0.1302\n",
      "Epoch 197/500\n",
      "6502/6502 [==============================] - 28s 4ms/step - loss: 0.3813 - mae: 0.1593 - val_loss: 0.4171 - val_mae: 0.2029\n",
      "Epoch 198/500\n",
      "6502/6502 [==============================] - 28s 4ms/step - loss: 0.3686 - mae: 0.1549 - val_loss: 0.2260 - val_mae: 0.1239\n",
      "Epoch 199/500\n",
      "6502/6502 [==============================] - 28s 4ms/step - loss: 0.3564 - mae: 0.1535 - val_loss: 0.4919 - val_mae: 0.1528\n",
      "Epoch 200/500\n",
      "6502/6502 [==============================] - 28s 4ms/step - loss: 0.3575 - mae: 0.1545 - val_loss: 0.5398 - val_mae: 0.2264\n",
      "Epoch 201/500\n",
      "6502/6502 [==============================] - 28s 4ms/step - loss: 0.3645 - mae: 0.1573 - val_loss: 0.2176 - val_mae: 0.1321\n",
      "Epoch 202/500\n",
      "6502/6502 [==============================] - 29s 4ms/step - loss: 0.3379 - mae: 0.1500 - val_loss: 0.2527 - val_mae: 0.1372\n",
      "Epoch 203/500\n",
      "6502/6502 [==============================] - 29s 4ms/step - loss: 0.3369 - mae: 0.1491 - val_loss: 0.2529 - val_mae: 0.1299\n",
      "Epoch 204/500\n",
      "6502/6502 [==============================] - 29s 4ms/step - loss: 0.3567 - mae: 0.1522 - val_loss: 0.3097 - val_mae: 0.1561\n",
      "Epoch 205/500\n",
      "6502/6502 [==============================] - 30s 5ms/step - loss: 0.3611 - mae: 0.1538 - val_loss: 0.2377 - val_mae: 0.1274\n",
      "Epoch 206/500\n",
      "6502/6502 [==============================] - 32s 5ms/step - loss: 0.3746 - mae: 0.1572 - val_loss: 0.6665 - val_mae: 0.2081\n",
      "Epoch 207/500\n",
      "6502/6502 [==============================] - 31s 5ms/step - loss: 0.3660 - mae: 0.1549 - val_loss: 0.2899 - val_mae: 0.1251\n",
      "Epoch 208/500\n",
      "6502/6502 [==============================] - 30s 5ms/step - loss: 0.3496 - mae: 0.1552 - val_loss: 0.7661 - val_mae: 0.2013\n",
      "Epoch 209/500\n",
      "6502/6502 [==============================] - 30s 5ms/step - loss: 0.3558 - mae: 0.1541 - val_loss: 0.2176 - val_mae: 0.1325\n",
      "Epoch 210/500\n",
      "6502/6502 [==============================] - 30s 5ms/step - loss: 0.3591 - mae: 0.1551 - val_loss: 0.2529 - val_mae: 0.1479\n",
      "Epoch 211/500\n",
      "6502/6502 [==============================] - 31s 5ms/step - loss: 0.3560 - mae: 0.1575 - val_loss: 0.2884 - val_mae: 0.1293\n",
      "Epoch 212/500\n",
      "6502/6502 [==============================] - 31s 5ms/step - loss: 0.3801 - mae: 0.1640 - val_loss: 0.2180 - val_mae: 0.1352\n",
      "Epoch 213/500\n",
      "6502/6502 [==============================] - 31s 5ms/step - loss: 0.3444 - mae: 0.1549 - val_loss: 0.3190 - val_mae: 0.1311\n",
      "Epoch 214/500\n",
      "6502/6502 [==============================] - 31s 5ms/step - loss: 0.3454 - mae: 0.1570 - val_loss: 0.5570 - val_mae: 0.2223\n",
      "Epoch 215/500\n",
      "6502/6502 [==============================] - 31s 5ms/step - loss: 0.3647 - mae: 0.1585 - val_loss: 0.2463 - val_mae: 0.1576\n",
      "Epoch 216/500\n",
      "6502/6502 [==============================] - 31s 5ms/step - loss: 0.3354 - mae: 0.1523 - val_loss: 0.2027 - val_mae: 0.1432\n",
      "Epoch 217/500\n",
      "6502/6502 [==============================] - 31s 5ms/step - loss: 0.3456 - mae: 0.1527 - val_loss: 0.2186 - val_mae: 0.1394\n",
      "Epoch 218/500\n",
      "6502/6502 [==============================] - 36s 5ms/step - loss: 0.3562 - mae: 0.1529 - val_loss: 0.5812 - val_mae: 0.2204\n",
      "Epoch 219/500\n",
      "6502/6502 [==============================] - 35s 5ms/step - loss: 0.3846 - mae: 0.1591 - val_loss: 0.6012 - val_mae: 0.1958\n",
      "Epoch 220/500\n",
      "6502/6502 [==============================] - 33s 5ms/step - loss: 0.3456 - mae: 0.1525 - val_loss: 0.5957 - val_mae: 0.1725\n",
      "Epoch 221/500\n",
      "6502/6502 [==============================] - 33s 5ms/step - loss: 0.3447 - mae: 0.1507 - val_loss: 0.3661 - val_mae: 0.1409\n",
      "Epoch 222/500\n",
      "6502/6502 [==============================] - 35s 5ms/step - loss: 0.3372 - mae: 0.1489 - val_loss: 0.3585 - val_mae: 0.1316\n",
      "Epoch 223/500\n",
      "6502/6502 [==============================] - 35s 5ms/step - loss: 0.3481 - mae: 0.1533 - val_loss: 0.2443 - val_mae: 0.1472\n",
      "Epoch 224/500\n",
      "6502/6502 [==============================] - 32s 5ms/step - loss: 0.3459 - mae: 0.1513 - val_loss: 0.2052 - val_mae: 0.1315\n",
      "Epoch 225/500\n",
      "6502/6502 [==============================] - 33s 5ms/step - loss: 0.3668 - mae: 0.1572 - val_loss: 0.2590 - val_mae: 0.1563\n",
      "Epoch 226/500\n",
      "6502/6502 [==============================] - 33s 5ms/step - loss: 0.3255 - mae: 0.1484 - val_loss: 0.9679 - val_mae: 0.2446\n",
      "Epoch 227/500\n",
      "6502/6502 [==============================] - 33s 5ms/step - loss: 0.3327 - mae: 0.1490 - val_loss: 0.4112 - val_mae: 0.1390\n",
      "Epoch 228/500\n",
      "6502/6502 [==============================] - 32s 5ms/step - loss: 0.3481 - mae: 0.1522 - val_loss: 0.2436 - val_mae: 0.1714\n",
      "Epoch 229/500\n",
      "6502/6502 [==============================] - 32s 5ms/step - loss: 0.3423 - mae: 0.1528 - val_loss: 0.2796 - val_mae: 0.1555\n",
      "Epoch 230/500\n",
      "6502/6502 [==============================] - 32s 5ms/step - loss: 0.3399 - mae: 0.1495 - val_loss: 0.3935 - val_mae: 0.1591\n",
      "Epoch 231/500\n",
      "6502/6502 [==============================] - 33s 5ms/step - loss: 0.3463 - mae: 0.1525 - val_loss: 0.2342 - val_mae: 0.1221\n",
      "Epoch 232/500\n",
      "6502/6502 [==============================] - 33s 5ms/step - loss: 0.3840 - mae: 0.1589 - val_loss: 0.2344 - val_mae: 0.1239\n",
      "Epoch 233/500\n",
      "6502/6502 [==============================] - 34s 5ms/step - loss: 0.3334 - mae: 0.1497 - val_loss: 0.2747 - val_mae: 0.1243\n",
      "Epoch 234/500\n",
      "6502/6502 [==============================] - 33s 5ms/step - loss: 0.3397 - mae: 0.1506 - val_loss: 0.1931 - val_mae: 0.1218\n",
      "Epoch 235/500\n",
      "6502/6502 [==============================] - 35s 5ms/step - loss: 0.3397 - mae: 0.1503 - val_loss: 0.2900 - val_mae: 0.1801\n",
      "Epoch 236/500\n",
      "6502/6502 [==============================] - 33s 5ms/step - loss: 0.3364 - mae: 0.1488 - val_loss: 0.3061 - val_mae: 0.1494\n",
      "Epoch 237/500\n",
      "6502/6502 [==============================] - 32s 5ms/step - loss: 0.3514 - mae: 0.1529 - val_loss: 0.5399 - val_mae: 0.1847\n",
      "Epoch 238/500\n",
      "6502/6502 [==============================] - 33s 5ms/step - loss: 0.3311 - mae: 0.1469 - val_loss: 0.2154 - val_mae: 0.1155\n",
      "Epoch 239/500\n",
      "6502/6502 [==============================] - 34s 5ms/step - loss: 0.3602 - mae: 0.1533 - val_loss: 0.5697 - val_mae: 0.1585\n",
      "Epoch 240/500\n",
      "6502/6502 [==============================] - 33s 5ms/step - loss: 0.3488 - mae: 0.1526 - val_loss: 0.5822 - val_mae: 0.2254\n",
      "Epoch 241/500\n",
      "6502/6502 [==============================] - 34s 5ms/step - loss: 0.3346 - mae: 0.1480 - val_loss: 0.9203 - val_mae: 0.2545\n",
      "Epoch 242/500\n",
      "6502/6502 [==============================] - 35s 5ms/step - loss: 0.3487 - mae: 0.1504 - val_loss: 0.2510 - val_mae: 0.1182\n",
      "Epoch 243/500\n",
      "6502/6502 [==============================] - 35s 5ms/step - loss: 0.3380 - mae: 0.1558 - val_loss: 0.2650 - val_mae: 0.1663\n",
      "Epoch 244/500\n",
      "6502/6502 [==============================] - 34s 5ms/step - loss: 0.3499 - mae: 0.1537 - val_loss: 0.2184 - val_mae: 0.1368\n",
      "Epoch 245/500\n",
      "6502/6502 [==============================] - 34s 5ms/step - loss: 0.3142 - mae: 0.1446 - val_loss: 0.2791 - val_mae: 0.1277\n",
      "Epoch 246/500\n",
      "6502/6502 [==============================] - 34s 5ms/step - loss: 0.3392 - mae: 0.1485 - val_loss: 0.2419 - val_mae: 0.1413\n",
      "Epoch 247/500\n",
      "6502/6502 [==============================] - 33s 5ms/step - loss: 0.3143 - mae: 0.1449 - val_loss: 0.1943 - val_mae: 0.1195\n",
      "Epoch 248/500\n",
      "6502/6502 [==============================] - 34s 5ms/step - loss: 0.3563 - mae: 0.1523 - val_loss: 0.5968 - val_mae: 0.1688\n",
      "Epoch 249/500\n",
      "6502/6502 [==============================] - 36s 5ms/step - loss: 0.3430 - mae: 0.1528 - val_loss: 0.2524 - val_mae: 0.1284\n",
      "Epoch 250/500\n",
      "6502/6502 [==============================] - 35s 5ms/step - loss: 0.3230 - mae: 0.1484 - val_loss: 0.3675 - val_mae: 0.1366\n",
      "Epoch 251/500\n",
      "6502/6502 [==============================] - 33s 5ms/step - loss: 0.3482 - mae: 0.1491 - val_loss: 0.2730 - val_mae: 0.1337\n",
      "Epoch 252/500\n",
      "6502/6502 [==============================] - 33s 5ms/step - loss: 0.3254 - mae: 0.1469 - val_loss: 0.3001 - val_mae: 0.1244\n",
      "Epoch 253/500\n",
      "6502/6502 [==============================] - 34s 5ms/step - loss: 0.3575 - mae: 0.1530 - val_loss: 0.2183 - val_mae: 0.1182\n",
      "Epoch 254/500\n",
      "6502/6502 [==============================] - 33s 5ms/step - loss: 0.3489 - mae: 0.1521 - val_loss: 0.2329 - val_mae: 0.1418\n",
      "Epoch 255/500\n",
      "6502/6502 [==============================] - 33s 5ms/step - loss: 0.3362 - mae: 0.1496 - val_loss: 0.3897 - val_mae: 0.2095\n",
      "Epoch 256/500\n",
      "6502/6502 [==============================] - 35s 5ms/step - loss: 0.3347 - mae: 0.1511 - val_loss: 0.2220 - val_mae: 0.1232\n",
      "Epoch 257/500\n",
      "6502/6502 [==============================] - 34s 5ms/step - loss: 0.3312 - mae: 0.1535 - val_loss: 0.5400 - val_mae: 0.1829\n",
      "Epoch 258/500\n",
      "6502/6502 [==============================] - 34s 5ms/step - loss: 0.3530 - mae: 0.1532 - val_loss: 0.2173 - val_mae: 0.1394\n",
      "Epoch 259/500\n",
      "6502/6502 [==============================] - 35s 5ms/step - loss: 0.3129 - mae: 0.1461 - val_loss: 0.3363 - val_mae: 0.1301\n",
      "Epoch 260/500\n",
      "6502/6502 [==============================] - 36s 6ms/step - loss: 0.3476 - mae: 0.1534 - val_loss: 0.2238 - val_mae: 0.1399\n",
      "Epoch 261/500\n",
      "6502/6502 [==============================] - 34s 5ms/step - loss: 0.3244 - mae: 0.1464 - val_loss: 0.3786 - val_mae: 0.1711\n",
      "Epoch 262/500\n",
      "6502/6502 [==============================] - 34s 5ms/step - loss: 0.3273 - mae: 0.1459 - val_loss: 0.2135 - val_mae: 0.1245\n",
      "Epoch 263/500\n",
      "6502/6502 [==============================] - 36s 5ms/step - loss: 0.3285 - mae: 0.1475 - val_loss: 0.3455 - val_mae: 0.1471\n",
      "Epoch 264/500\n",
      "6502/6502 [==============================] - 35s 5ms/step - loss: 0.3419 - mae: 0.1525 - val_loss: 0.7275 - val_mae: 0.2178\n",
      "Epoch 265/500\n",
      "6502/6502 [==============================] - 34s 5ms/step - loss: 0.3308 - mae: 0.1481 - val_loss: 0.3139 - val_mae: 0.1667\n",
      "Epoch 266/500\n",
      "6502/6502 [==============================] - 34s 5ms/step - loss: 0.3186 - mae: 0.1461 - val_loss: 1.0970 - val_mae: 0.2670\n",
      "Epoch 267/500\n",
      "6502/6502 [==============================] - 34s 5ms/step - loss: 0.3345 - mae: 0.1485 - val_loss: 0.2124 - val_mae: 0.1247\n",
      "Epoch 268/500\n",
      "6502/6502 [==============================] - 34s 5ms/step - loss: 0.3315 - mae: 0.1505 - val_loss: 0.6643 - val_mae: 0.2088\n",
      "Epoch 269/500\n",
      "6502/6502 [==============================] - 33s 5ms/step - loss: 0.3433 - mae: 0.1537 - val_loss: 0.3544 - val_mae: 0.1565\n",
      "Epoch 270/500\n",
      "6502/6502 [==============================] - 34s 5ms/step - loss: 0.3206 - mae: 0.1480 - val_loss: 0.4923 - val_mae: 0.2124\n",
      "Epoch 271/500\n",
      "6502/6502 [==============================] - 34s 5ms/step - loss: 0.3232 - mae: 0.1492 - val_loss: 0.2275 - val_mae: 0.1132\n",
      "Epoch 272/500\n",
      "6502/6502 [==============================] - 33s 5ms/step - loss: 0.3208 - mae: 0.1481 - val_loss: 0.3330 - val_mae: 0.1822\n",
      "Epoch 273/500\n",
      "6502/6502 [==============================] - 34s 5ms/step - loss: 0.3397 - mae: 0.1504 - val_loss: 0.2083 - val_mae: 0.1198\n",
      "Epoch 274/500\n",
      "6502/6502 [==============================] - 34s 5ms/step - loss: 0.3273 - mae: 0.1485 - val_loss: 0.6292 - val_mae: 0.2789\n",
      "Epoch 275/500\n",
      "6502/6502 [==============================] - 34s 5ms/step - loss: 0.3168 - mae: 0.1462 - val_loss: 0.2302 - val_mae: 0.1416\n",
      "Epoch 276/500\n",
      "6502/6502 [==============================] - 36s 6ms/step - loss: 0.3225 - mae: 0.1467 - val_loss: 0.1855 - val_mae: 0.1275\n",
      "Epoch 277/500\n",
      "6502/6502 [==============================] - 36s 5ms/step - loss: 0.3396 - mae: 0.1487 - val_loss: 0.3220 - val_mae: 0.1341\n",
      "Epoch 278/500\n",
      "6502/6502 [==============================] - 34s 5ms/step - loss: 0.3344 - mae: 0.1518 - val_loss: 0.2989 - val_mae: 0.1406\n",
      "Epoch 279/500\n",
      "6502/6502 [==============================] - 35s 5ms/step - loss: 0.3365 - mae: 0.1530 - val_loss: 0.4305 - val_mae: 0.1762\n",
      "Epoch 280/500\n",
      "6502/6502 [==============================] - 37s 6ms/step - loss: 0.3285 - mae: 0.1487 - val_loss: 0.2735 - val_mae: 0.1438\n",
      "Epoch 281/500\n",
      "6502/6502 [==============================] - 47s 7ms/step - loss: 0.3287 - mae: 0.1508 - val_loss: 0.2314 - val_mae: 0.1308\n",
      "Epoch 282/500\n",
      "6502/6502 [==============================] - 34s 5ms/step - loss: 0.3275 - mae: 0.1496 - val_loss: 0.2328 - val_mae: 0.1240\n",
      "Epoch 283/500\n",
      "6502/6502 [==============================] - 32s 5ms/step - loss: 0.3304 - mae: 0.1523 - val_loss: 0.4292 - val_mae: 0.1396\n",
      "Epoch 284/500\n",
      "6502/6502 [==============================] - 32s 5ms/step - loss: 0.3270 - mae: 0.1507 - val_loss: 0.5840 - val_mae: 0.1932\n",
      "Epoch 285/500\n",
      "6502/6502 [==============================] - 31s 5ms/step - loss: 0.3284 - mae: 0.1513 - val_loss: 0.2900 - val_mae: 0.1527\n",
      "Epoch 286/500\n",
      "6502/6502 [==============================] - 31s 5ms/step - loss: 0.3114 - mae: 0.1457 - val_loss: 0.2382 - val_mae: 0.1145\n",
      "Epoch 287/500\n",
      "6502/6502 [==============================] - 31s 5ms/step - loss: 0.3234 - mae: 0.1490 - val_loss: 0.2179 - val_mae: 0.1441\n",
      "Epoch 288/500\n",
      "6502/6502 [==============================] - 31s 5ms/step - loss: 0.3433 - mae: 0.1543 - val_loss: 0.2066 - val_mae: 0.1381\n",
      "Epoch 289/500\n",
      "6502/6502 [==============================] - 31s 5ms/step - loss: 0.3286 - mae: 0.1521 - val_loss: 0.1852 - val_mae: 0.1198\n",
      "Epoch 290/500\n",
      "6502/6502 [==============================] - 31s 5ms/step - loss: 0.3055 - mae: 0.1468 - val_loss: 0.2200 - val_mae: 0.1305\n",
      "Epoch 291/500\n",
      "6502/6502 [==============================] - 30s 5ms/step - loss: 0.3438 - mae: 0.1527 - val_loss: 0.2540 - val_mae: 0.1584\n",
      "Epoch 292/500\n",
      "6502/6502 [==============================] - 29s 4ms/step - loss: 0.3185 - mae: 0.1485 - val_loss: 0.2811 - val_mae: 0.1310\n",
      "Epoch 293/500\n",
      "6502/6502 [==============================] - 29s 5ms/step - loss: 0.3332 - mae: 0.1509 - val_loss: 0.2974 - val_mae: 0.1456\n",
      "Epoch 294/500\n",
      "6502/6502 [==============================] - 29s 4ms/step - loss: 0.3144 - mae: 0.1459 - val_loss: 0.1878 - val_mae: 0.1148\n",
      "Epoch 295/500\n",
      "6502/6502 [==============================] - 29s 4ms/step - loss: 0.3164 - mae: 0.1468 - val_loss: 0.2126 - val_mae: 0.1243\n",
      "Epoch 296/500\n",
      "6502/6502 [==============================] - 29s 4ms/step - loss: 0.3417 - mae: 0.1507 - val_loss: 0.2424 - val_mae: 0.1183\n",
      "Epoch 297/500\n",
      "6502/6502 [==============================] - 29s 4ms/step - loss: 0.3150 - mae: 0.1457 - val_loss: 0.3196 - val_mae: 0.1721\n",
      "Epoch 298/500\n",
      "6502/6502 [==============================] - 29s 4ms/step - loss: 0.3387 - mae: 0.1499 - val_loss: 0.1865 - val_mae: 0.1226\n",
      "Epoch 299/500\n",
      "6502/6502 [==============================] - 28s 4ms/step - loss: 0.3604 - mae: 0.1535 - val_loss: 0.2923 - val_mae: 0.1546\n",
      "Epoch 300/500\n",
      "6502/6502 [==============================] - 28s 4ms/step - loss: 0.3346 - mae: 0.1518 - val_loss: 0.2757 - val_mae: 0.1639\n",
      "Epoch 301/500\n",
      "6502/6502 [==============================] - 29s 4ms/step - loss: 0.3218 - mae: 0.1472 - val_loss: 0.2360 - val_mae: 0.1454\n",
      "Epoch 302/500\n",
      "6502/6502 [==============================] - 30s 5ms/step - loss: 0.3259 - mae: 0.1494 - val_loss: 0.2477 - val_mae: 0.1284\n",
      "Epoch 303/500\n",
      "6502/6502 [==============================] - 28s 4ms/step - loss: 0.3285 - mae: 0.1512 - val_loss: 0.2650 - val_mae: 0.1428\n",
      "Epoch 304/500\n",
      "6502/6502 [==============================] - 27s 4ms/step - loss: 0.3256 - mae: 0.1492 - val_loss: 0.4490 - val_mae: 0.1535\n",
      "Epoch 305/500\n",
      "6502/6502 [==============================] - 27s 4ms/step - loss: 0.3268 - mae: 0.1491 - val_loss: 0.2163 - val_mae: 0.1620\n",
      "Epoch 306/500\n",
      "6502/6502 [==============================] - 27s 4ms/step - loss: 0.3156 - mae: 0.1458 - val_loss: 0.2065 - val_mae: 0.1174\n",
      "Epoch 307/500\n",
      "6502/6502 [==============================] - 27s 4ms/step - loss: 0.3112 - mae: 0.1458 - val_loss: 0.1930 - val_mae: 0.1351\n",
      "Epoch 308/500\n",
      "6502/6502 [==============================] - 27s 4ms/step - loss: 0.3290 - mae: 0.1493 - val_loss: 0.2918 - val_mae: 0.1380\n",
      "Epoch 309/500\n",
      "6502/6502 [==============================] - 27s 4ms/step - loss: 0.3429 - mae: 0.1537 - val_loss: 0.2625 - val_mae: 0.1391\n",
      "Epoch 310/500\n",
      "6502/6502 [==============================] - 27s 4ms/step - loss: 0.3162 - mae: 0.1461 - val_loss: 0.2115 - val_mae: 0.1363\n",
      "Epoch 311/500\n",
      "6502/6502 [==============================] - 27s 4ms/step - loss: 0.3143 - mae: 0.1457 - val_loss: 0.2670 - val_mae: 0.1275\n",
      "Epoch 312/500\n",
      "6502/6502 [==============================] - 26s 4ms/step - loss: 0.3003 - mae: 0.1418 - val_loss: 0.2260 - val_mae: 0.1283\n",
      "Epoch 313/500\n",
      "6502/6502 [==============================] - 26s 4ms/step - loss: 0.2907 - mae: 0.1389 - val_loss: 0.2071 - val_mae: 0.1172\n",
      "Epoch 314/500\n",
      "6502/6502 [==============================] - 27s 4ms/step - loss: 0.3447 - mae: 0.1481 - val_loss: 0.2531 - val_mae: 0.1369\n",
      "Epoch 315/500\n",
      "6502/6502 [==============================] - 26s 4ms/step - loss: 0.3218 - mae: 0.1462 - val_loss: 0.2552 - val_mae: 0.1629\n",
      "Epoch 316/500\n",
      "6502/6502 [==============================] - 27s 4ms/step - loss: 0.3038 - mae: 0.1420 - val_loss: 0.2199 - val_mae: 0.1224\n",
      "Epoch 317/500\n",
      "6502/6502 [==============================] - 26s 4ms/step - loss: 0.3271 - mae: 0.1462 - val_loss: 0.2361 - val_mae: 0.1585\n",
      "Epoch 318/500\n",
      "6502/6502 [==============================] - 27s 4ms/step - loss: 0.3121 - mae: 0.1443 - val_loss: 0.4110 - val_mae: 0.1844\n",
      "Epoch 319/500\n",
      "6502/6502 [==============================] - 27s 4ms/step - loss: 0.3085 - mae: 0.1443 - val_loss: 0.2253 - val_mae: 0.1137\n",
      "Epoch 320/500\n",
      "6502/6502 [==============================] - 27s 4ms/step - loss: 0.3162 - mae: 0.1463 - val_loss: 0.2450 - val_mae: 0.1408\n",
      "Epoch 321/500\n",
      "6502/6502 [==============================] - 26s 4ms/step - loss: 0.3087 - mae: 0.1440 - val_loss: 0.3768 - val_mae: 0.1425\n",
      "Epoch 322/500\n",
      "6502/6502 [==============================] - 27s 4ms/step - loss: 0.3128 - mae: 0.1454 - val_loss: 0.2183 - val_mae: 0.1195\n",
      "Epoch 323/500\n",
      "6502/6502 [==============================] - 27s 4ms/step - loss: 0.3100 - mae: 0.1455 - val_loss: 0.4258 - val_mae: 0.1383\n",
      "Epoch 324/500\n",
      "6502/6502 [==============================] - 27s 4ms/step - loss: 0.3012 - mae: 0.1429 - val_loss: 0.2554 - val_mae: 0.1300\n",
      "Epoch 325/500\n",
      "6502/6502 [==============================] - 27s 4ms/step - loss: 0.3040 - mae: 0.1429 - val_loss: 0.2476 - val_mae: 0.1205\n",
      "Epoch 326/500\n",
      "6502/6502 [==============================] - 27s 4ms/step - loss: 0.3378 - mae: 0.1550 - val_loss: 0.4745 - val_mae: 0.2029\n",
      "Epoch 327/500\n",
      "6502/6502 [==============================] - 27s 4ms/step - loss: 0.3257 - mae: 0.1565 - val_loss: 0.2157 - val_mae: 0.1471\n",
      "Epoch 328/500\n",
      "6502/6502 [==============================] - 27s 4ms/step - loss: 0.3332 - mae: 0.1503 - val_loss: 0.3813 - val_mae: 0.1595\n",
      "Epoch 329/500\n",
      "6502/6502 [==============================] - 27s 4ms/step - loss: 0.3179 - mae: 0.1475 - val_loss: 0.2764 - val_mae: 0.1566\n",
      "Epoch 330/500\n",
      "6502/6502 [==============================] - 27s 4ms/step - loss: 0.3001 - mae: 0.1430 - val_loss: 0.2523 - val_mae: 0.1410\n",
      "Epoch 331/500\n",
      "6502/6502 [==============================] - 27s 4ms/step - loss: 0.3155 - mae: 0.1445 - val_loss: 0.3101 - val_mae: 0.1297\n",
      "Epoch 332/500\n",
      "6502/6502 [==============================] - 27s 4ms/step - loss: 0.3068 - mae: 0.1425 - val_loss: 0.2483 - val_mae: 0.1156\n",
      "Epoch 333/500\n",
      "6502/6502 [==============================] - 27s 4ms/step - loss: 0.3132 - mae: 0.1448 - val_loss: 0.3837 - val_mae: 0.1783\n",
      "Epoch 334/500\n",
      "6502/6502 [==============================] - 27s 4ms/step - loss: 0.3369 - mae: 0.1498 - val_loss: 0.9264 - val_mae: 0.2358\n",
      "Epoch 335/500\n",
      "6502/6502 [==============================] - 27s 4ms/step - loss: 0.3168 - mae: 0.1463 - val_loss: 0.2194 - val_mae: 0.1236\n",
      "Epoch 336/500\n",
      "6502/6502 [==============================] - 27s 4ms/step - loss: 0.3262 - mae: 0.1450 - val_loss: 0.3667 - val_mae: 0.1673\n",
      "Epoch 337/500\n",
      "6502/6502 [==============================] - 27s 4ms/step - loss: 0.3138 - mae: 0.1440 - val_loss: 0.2022 - val_mae: 0.1137\n",
      "Epoch 338/500\n",
      "6502/6502 [==============================] - 28s 4ms/step - loss: 0.3079 - mae: 0.1426 - val_loss: 0.2642 - val_mae: 0.1281\n",
      "Epoch 339/500\n",
      "6502/6502 [==============================] - 28s 4ms/step - loss: 0.2976 - mae: 0.1417 - val_loss: 0.2002 - val_mae: 0.1202\n"
     ]
    }
   ],
   "source": [
    "history = ann.fit(X_train, y_train,\n",
    "                    validation_data = (X_val, y_val),\n",
    "                    callbacks=[es],\n",
    "                    epochs=500,\n",
    "                    batch_size=40,\n",
    "                    verbose=1)"
   ]
  },
  {
   "cell_type": "markdown",
   "metadata": {
    "colab_type": "text",
    "id": "0H0zKKNEBLD5"
   },
   "source": [
    "### Analyse learn history"
   ]
  },
  {
   "cell_type": "code",
   "execution_count": 26,
   "metadata": {
    "ExecuteTime": {
     "end_time": "2024-07-28T11:53:26.343953500Z",
     "start_time": "2024-07-28T11:53:26.046967700Z"
    }
   },
   "outputs": [
    {
     "data": {
      "text/plain": "<Figure size 640x480 with 1 Axes>",
      "image/png": "[encoded data removed]"
     },
     "metadata": {},
     "output_type": "display_data"
    }
   ],
   "source": [
    "# let's see the training and validation accuracy by epoch\n",
    "history_dict = history.history\n",
    "loss_values = history_dict['loss'] # you can change this\n",
    "val_loss_values = history_dict['val_loss'] # you can also change this\n",
    "epochs = range(1, len(loss_values) + 1) # range of X (no. of epochs)\n",
    "plt.plot(epochs, loss_values, 'blue', label='Train set loss')\n",
    "plt.plot(epochs, val_loss_values, 'orange', label='Validation set loss')\n",
    "#plt.title('Training and testing loss')\n",
    "plt.xlabel('Epochs')\n",
    "plt.ylabel('Loss (MSE)')\n",
    "plt.legend()\n",
    "plt.show()"
   ]
  },
  {
   "cell_type": "code",
   "execution_count": 27,
   "metadata": {
    "ExecuteTime": {
     "end_time": "2024-07-28T11:53:29.578207Z",
     "start_time": "2024-07-28T11:53:29.390986500Z"
    }
   },
   "outputs": [
    {
     "data": {
      "text/plain": "<Figure size 640x480 with 1 Axes>",
      "image/png": "[encoded data removed]"
     },
     "metadata": {},
     "output_type": "display_data"
    }
   ],
   "source": [
    "loss_values1 = history_dict['mae'] # you can change this\n",
    "val_loss_values1 = history_dict['val_mae'] # you can also change this\n",
    "epochs = range(1, len(loss_values1) + 1) # range of X (no. of epochs)\n",
    "plt.plot(epochs, loss_values1, 'blue', label='Train set MAE')\n",
    "plt.plot(epochs, val_loss_values1, 'orange', label='Validation set MAE')\n",
    "#plt.title('Training and testing MAE')\n",
    "plt.xlabel('Epochs')\n",
    "plt.ylabel('MAE')\n",
    "plt.legend()\n",
    "plt.show()"
   ]
  },
  {
   "cell_type": "code",
   "execution_count": null,
   "metadata": {},
   "outputs": [],
   "source": [
    "print (epochs)"
   ]
  },
  {
   "cell_type": "markdown",
   "metadata": {},
   "source": [
    "### Save the model"
   ]
  },
  {
   "cell_type": "code",
   "execution_count": null,
   "metadata": {},
   "outputs": [],
   "source": [
    "ann.save('Section3_ANN_1')\n",
    "import pickle\n",
    "pickle.dump(sc, open('Section3_scaler_ANN_1.pkl', 'wb'))"
   ]
  },
  {
   "cell_type": "markdown",
   "metadata": {},
   "source": [
    "## Part 5 - Make predictions"
   ]
  },
  {
   "cell_type": "code",
   "execution_count": null,
   "metadata": {},
   "outputs": [],
   "source": [
    "ann = load_model('ANN_13.h5')\n",
    "sc = pickle.load(open('scaler_ANN.pkl', 'rb'))"
   ]
  },
  {
   "cell_type": "code",
   "execution_count": 28,
   "metadata": {
    "ExecuteTime": {
     "end_time": "2024-07-28T11:54:05.000766600Z",
     "start_time": "2024-07-28T11:53:36.076462600Z"
    }
   },
   "outputs": [
    {
     "name": "stdout",
     "output_type": "stream",
     "text": [
      "8127/8127 [==============================] - 15s 2ms/step\n",
      "2709/2709 [==============================] - 8s 3ms/step\n"
     ]
    },
    {
     "data": {
      "text/plain": "<Figure size 640x480 with 2 Axes>",
      "image/png": "[encoded data removed]"
     },
     "metadata": {},
     "output_type": "display_data"
    }
   ],
   "source": [
    "# scatterplot of actual vs. pred\n",
    "# specify the dimensions \n",
    "fig, axes = plt.subplots(1,2) # 1 row, 2 columns\n",
    "\n",
    "# this makes the individual subplots\n",
    "# Training Results\n",
    "axes[0].scatter(x=y_train, y=ann.predict(X_train)) #first row, first entry (left top)\n",
    "axes[0].set_xlabel(\"Actual\", fontsize=10)\n",
    "axes[0].set_ylabel(\"Predicted\",  fontsize=10)\n",
    "axes[0].set_title(\"Training\")\n",
    "# add 45 deg line\n",
    "x = np.linspace(*axes[0].get_xlim())\n",
    "axes[0].plot(x, x, color='red')\n",
    "# Validation Results\n",
    "axes[1].scatter(x=y_val, y=ann.predict(X_val)) # first row, second entry (right top)\n",
    "axes[1].set_xlabel(\"Actual\", fontsize=10)\n",
    "axes[1].set_ylabel(\"Predicted\",  fontsize=10)\n",
    "axes[1].set_title(\"Validation\")\n",
    "# add 45 deg line\n",
    "x = np.linspace(*axes[1].get_xlim())\n",
    "axes[1].plot(x, x, color='red')\n",
    "\n",
    "# tight layout\n",
    "fig.tight_layout()\n",
    "\n",
    "# show the plot\n",
    "plt.show()"
   ]
  },
  {
   "cell_type": "code",
   "execution_count": null,
   "metadata": {
    "colab": {
     "base_uri": "https://localhost:8080/",
     "height": 134
    },
    "colab_type": "code",
    "id": "IA0yApEmBG1X",
    "outputId": "cb981e1f-9204-4a2a-fece-9d66a6919189"
   },
   "outputs": [],
   "source": [
    "y_pred = ann.predict(X_test)\n",
    "y_pred_e = y_pred/1000\n",
    "y_test_e = y_test/1000\n",
    "np.set_printoptions(precision=2)\n",
    "print(np.concatenate((y_pred_e.reshape(len(y_pred_e),1), y_test_e.reshape(len(y_test_e),1)),1))"
   ]
  },
  {
   "cell_type": "code",
   "execution_count": null,
   "metadata": {},
   "outputs": [],
   "source": [
    "import matplotlib.pyplot as plt\n",
    "plt.scatter(y_test, y_pred, color=\"blue\")\n",
    "#plt.plot ([0,1200000],[0,1200000], color = \"red\")\n",
    "#plt.axis ([0,1200000,0,1200000])\n",
    "plt.xlabel ('Actual data')\n",
    "plt.ylabel ('Predicted data')"
   ]
  },
  {
   "cell_type": "code",
   "execution_count": null,
   "metadata": {},
   "outputs": [],
   "source": [
    "from sklearn.metrics import r2_score\n",
    "# Initialize layout\n",
    "fig1, ax1 = plt.subplots(figsize = (9, 9))\n",
    "b_l = 60\n",
    "u_l = 300\n",
    "\n",
    "# Add scatterplot\n",
    "ax1.scatter(y_test_e, y_pred_e, s=70, alpha=1, edgecolors=\"k\",c='mediumblue',zorder=5, label = 'Points')\n",
    "\n",
    "\n",
    "plt.ylabel('Predicted Incident Pressure (kPa)',fontsize = 25)\n",
    "plt.xlabel('Actual Incident Pressure (kPa)',fontsize = 25)\n",
    "plt.xticks(fontsize = 19)\n",
    "plt.yticks(fontsize = 19)\n",
    "\n",
    "\n",
    "x1 = np.linspace(b_l, u_l)\n",
    "\n",
    "plt.plot(x1, x1, 'Red', label='45\\N{DEGREE SIGN} line',lw=2.5,alpha=1)\n",
    "plt.plot(x1, 1.05*x1, '--m', label='\\u00B15% Error',lw=2.5,alpha=0.7)\n",
    "plt.plot(x1, 0.95*x1,'m', linestyle='--',lw=2.5,alpha=0.7)\n",
    "plt.plot(x1, 1.1*x1, '-.g', label='\\u00B110% Error',lw=2.5,alpha=0.7)\n",
    "plt.plot(x1, 0.9*x1,'-.g',lw=2.5,alpha=0.7)\n",
    "plt.plot(x1, 1.2*x1, color = '#F97306', linestyle='dotted', label='\\u00B120% Error',lw=2.5,alpha=0.7)\n",
    "plt.plot(x1, 0.8*x1,color = '#F97306', linestyle='dotted', lw=2.5,alpha=0.7)\n",
    "\n",
    "plt.ylim(b_l, u_l)\n",
    "plt.xlim(b_l, u_l)\n",
    "plt.legend(loc='upper left',fontsize = 21)\n",
    "\n",
    "plt.grid()\n",
    "\n",
    "ax1.spines['left'].set_color('black')        # setting up Y-axis tick color to red\n",
    "ax1.spines['bottom'].set_color('black')         #setting up above X-axis tick color to red\n"
   ]
  },
  {
   "cell_type": "code",
   "execution_count": null,
   "metadata": {},
   "outputs": [],
   "source": [
    "# metrics\n",
    "trainpreds = ann.predict(X_train)\n",
    "\n",
    "from sklearn.metrics import mean_absolute_error\n",
    "print(mean_absolute_error(y_train, trainpreds)) # train\n",
    "print(mean_absolute_error(y_test, y_pred)) # test"
   ]
  },
  {
   "cell_type": "code",
   "execution_count": null,
   "metadata": {},
   "outputs": [],
   "source": [
    "from sklearn.metrics import r2_score\n",
    "r2 = r2_score(y_test, y_pred)\n",
    "print (r2)"
   ]
  },
  {
   "cell_type": "code",
   "execution_count": null,
   "metadata": {},
   "outputs": [],
   "source": [
    "r2_train = r2_score(y_train, trainpreds)\n",
    "print (r2_train)"
   ]
  },
  {
   "cell_type": "code",
   "execution_count": null,
   "metadata": {},
   "outputs": [],
   "source": [
    "count0 = 0\n",
    "for i in range(len(y_pred)):\n",
    "    line1 = y_pred[i] - 0.95*y_test[i]\n",
    "    line2 = y_pred[i] - 1.05*y_test[i]\n",
    "    mask0 = (line1 > 0) & (line2 < 0)\n",
    "    count0 = np.sum(mask0+count0)\n",
    "\n",
    "count1 = 0\n",
    "for i in range(len(y_pred)):\n",
    "    line1 = y_pred[i] - 0.9*y_test[i]\n",
    "    line2 = y_pred[i] - 1.1*y_test[i]\n",
    "    mask1 = (line1 > 0) & (line2 < 0)\n",
    "    count1 = np.sum(mask1+count1)\n",
    "\n",
    "count2 = 0\n",
    "for j in range(len(y_pred)):\n",
    "    line3 = y_pred[j] - 0.8*y_test[j]\n",
    "    line4 = y_pred[j] - 1.2*y_test[j]\n",
    "    mask2 = (line3 > 0) & (line4 < 0)\n",
    "    count2 = np.sum(mask2+count2)\n",
    "\n",
    "\n",
    "count3 = 0    \n",
    "for k in range(len(y_pred)):\n",
    "    line5 = y_pred[k] - 0.8*y_test[k]\n",
    "    line6 = y_pred[k] - 1.2*y_test[k]\n",
    "    mask3 = (line5 < 0) or (line6 > 0)\n",
    "    count3 = np.sum(mask3+count3)\n",
    "   \n",
    "\n",
    "print ('Within 5% margin', format((count0/len (y_pred)),'.2%'))\n",
    "print ('Within 10% margin', format((count1/len (y_pred)),'.2%'))\n",
    "print ('Within 20% margin', format((count2/len (y_pred)),'.2%'))\n",
    "print ('Out of 20% margin', format((count3/len (y_pred)),'.2%'))"
   ]
  },
  {
   "cell_type": "code",
   "execution_count": null,
   "metadata": {},
   "outputs": [],
   "source": [
    "adj_r2 = 1 - ((1 - r2) * (len(X_test) - 1) / (len(X_test) - len (X_test[0]) - 1))\n",
    "print (adj_r2)"
   ]
  },
  {
   "cell_type": "code",
   "execution_count": null,
   "metadata": {},
   "outputs": [],
   "source": [
    "import math\n",
    "from sklearn.metrics import mean_squared_error\n",
    "\n",
    "math.sqrt(mean_squared_error(y_test_e, y_pred_e))"
   ]
  },
  {
   "cell_type": "code",
   "execution_count": null,
   "metadata": {},
   "outputs": [],
   "source": [
    "from sklearn.metrics import mean_absolute_error\n",
    "\n",
    "mean_absolute_error(y_test_e, y_pred_e)"
   ]
  }
 ],
 "metadata": {
  "colab": {
   "collapsed_sections": [],
   "name": "Artificial Neural Network",
   "provenance": [],
   "toc_visible": true
  },
  "kernelspec": {
   "display_name": "Python 3 (ipykernel)",
   "language": "python",
   "name": "python3"
  },
  "language_info": {
   "codemirror_mode": {
    "name": "ipython",
    "version": 3
   },
   "file_extension": ".py",
   "mimetype": "text/x-python",
   "name": "python",
   "nbconvert_exporter": "python",
   "pygments_lexer": "ipython3",
   "version": "3.9.7"
  }
 },
 "nbformat": 4,
 "nbformat_minor": 4
}
