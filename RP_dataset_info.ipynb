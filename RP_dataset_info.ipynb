{
 "cells": [
  {
   "cell_type": "code",
   "execution_count": 1,
   "id": "78da2ab4-3f82-47e7-9d10-099751b818c1",
   "metadata": {
    "tags": [],
    "ExecuteTime": {
     "end_time": "2024-12-05T05:40:43.612367500Z",
     "start_time": "2024-12-05T05:40:41.749767200Z"
    }
   },
   "outputs": [],
   "source": [
    "from pathlib import Path\n",
    "import pandas as pd\n",
    "\n",
    "# Define current work directory\n",
    "current_dir = Path.cwd()"
   ]
  },
  {
   "cell_type": "code",
   "execution_count": 2,
   "outputs": [],
   "source": [
    "#Access input folder\n",
    "#input_dir1 = Path (\"G:/Chamodi/LSDYNA3D/RP_TH_models/RP_section_datasets_reduced\")\n",
    "input_dir1 = Path (\"C:/Users/z5379606/OneDrive - UNSW/Documents/LSDYNA_files/Reflected_pressure/LBE+ALE/RP_TH_processed/RP_section_datasets_reduced\")\n",
    "#print (\"INPUT 1\",input_dir1)\n",
    "\n",
    "#Access folders inside input folder\n",
    "input_dir2 =  [folder1 for folder1 in input_dir1.iterdir() if folder1.is_dir()]\n",
    "#print (\"INPUT 2\",input_dir2)"
   ],
   "metadata": {
    "collapsed": false,
    "ExecuteTime": {
     "end_time": "2024-12-05T05:40:46.532092700Z",
     "start_time": "2024-12-05T05:40:46.508340600Z"
    }
   },
   "id": "bc3a458a89c51728"
  },
  {
   "cell_type": "code",
   "execution_count": 3,
   "outputs": [],
   "source": [
    "#Access input folder\n",
    "#input_dir1a = Path (\"G:/Chamodi/LSDYNA3D/RP_TH_models/RP_Section_1_new2\")\n",
    "input_dir1a = Path (\"C:/Users/z5379606/OneDrive - UNSW/Documents/LSDYNA_files/Reflected_pressure/LBE+ALE/RP_TH_processed/RP_Section_all_new/RP_Section_1_new2\")\n",
    "#print (\"INPUT 1\",input_dir1)\n",
    "\n",
    "#Access folders inside input folder\n",
    "input_dir2a =  [folder1a for folder1a in input_dir1a.iterdir() if folder1a.is_dir()]\n",
    "#print (\"INPUT 2\",input_dir2)"
   ],
   "metadata": {
    "collapsed": false,
    "ExecuteTime": {
     "end_time": "2024-12-05T05:40:49.726961200Z",
     "start_time": "2024-12-05T05:40:49.705936300Z"
    }
   },
   "id": "8f75af7b9dba7c08"
  },
  {
   "cell_type": "markdown",
   "source": [
    "## Open RP_all_all excel file"
   ],
   "metadata": {
    "collapsed": false
   },
   "id": "dd103f6cc0e9a5b9"
  },
  {
   "cell_type": "code",
   "execution_count": 11,
   "outputs": [],
   "source": [
    "# Initialize an empty DataFrame to store results\n",
    "results_df = pd.DataFrame(columns=[\"Standoff distance\", \"Max pressure\", \"Min pressure\", \"Number of datapoints\"])"
   ],
   "metadata": {
    "collapsed": false,
    "ExecuteTime": {
     "end_time": "2024-12-05T05:47:32.842430100Z",
     "start_time": "2024-12-05T05:47:32.796910500Z"
    }
   },
   "id": "adf437b83cb8c195"
  },
  {
   "cell_type": "code",
   "execution_count": 12,
   "outputs": [],
   "source": [
    "results = []\n",
    "\n",
    "for folder1a in input_dir2a: # folder1-1.00m\n",
    "    \n",
    "    SD = float(folder1a.name[:-1])\n",
    "\n",
    "    input_dir3a =  [folder2a for folder2a in folder1a.iterdir() if folder2a.is_dir()]\n",
    "    \n",
    "    max_pressure = float('-inf')\n",
    "    min_pressure = float('inf')\n",
    "    total_datapoints = 0\n",
    "    \n",
    "    for folder2a in input_dir3a: # folder2-05m00.5kg\n",
    "        \n",
    "        # Make a list of data file names\n",
    "        files1a = [file1a for file1a in folder2a.rglob(\"*\") if file1a.suffix == '.xlsx' and file1a.suffix != '.png']\n",
    "            \n",
    "        # Access each file \n",
    "        for file1a in files1a: # file-1.xlsx\n",
    "                \n",
    "            # Read data from Excel file\n",
    "            df1 = pd.read_excel(file1a)\n",
    "            \n",
    "            pressure_values = df1['Pressure'].dropna().values\n",
    "            \n",
    "            # Update the max and min pressure values\n",
    "            max_pressure = max(max_pressure, pressure_values.max()+101.25)\n",
    "            min_pressure = min(min_pressure, pressure_values.min()+101.25)\n",
    "            \n",
    "            # Update the total number of data points\n",
    "            total_datapoints += len(pressure_values)\n",
    "                    \n",
    "    # Collect the results for this folder1\n",
    "    results.append({\n",
    "        \"Standoff distance\": SD,\n",
    "        \"Max pressure\": max_pressure,\n",
    "        \"Min pressure\": min_pressure,\n",
    "        \"Number of datapoints\": total_datapoints\n",
    "    })\n",
    "    \n",
    "for folder1 in input_dir2: # folder1-RP_curves_fr5m\n",
    "    \n",
    "    SD = int(folder1.name[-3:-1])\n",
    "\n",
    "    input_dir3 =  [folder2 for folder2 in folder1.iterdir() if folder2.is_dir()]\n",
    "    \n",
    "    max_pressure = float('-inf')\n",
    "    min_pressure = float('inf')\n",
    "    total_datapoints = 0\n",
    "    \n",
    "    for folder2 in input_dir3: # folder2-05m00.5kg\n",
    "        \n",
    "        # Make a list of data file names\n",
    "        files1 = [file1 for file1 in folder2.rglob(\"*\") if file1.suffix == '.xlsx' and file1.suffix != '.png']\n",
    "            \n",
    "        # Access each file \n",
    "        for file1 in files1: # file-1.xlsx\n",
    "                \n",
    "            # Read data from Excel file\n",
    "            df1 = pd.read_excel(file1)\n",
    "            \n",
    "            pressure_values = df1['Pressure'].dropna().values\n",
    "            \n",
    "            # Update the max and min pressure values\n",
    "            max_pressure = max(max_pressure, pressure_values.max()+101.25)\n",
    "            min_pressure = min(min_pressure, pressure_values.min()+101.25)\n",
    "            \n",
    "            # Update the total number of data points\n",
    "            total_datapoints += len(pressure_values)\n",
    "                    \n",
    "    # Collect the results for this folder1\n",
    "    results.append({\n",
    "        \"Standoff distance\": SD,\n",
    "        \"Max pressure\": max_pressure,\n",
    "        \"Min pressure\": min_pressure,\n",
    "        \"Number of datapoints\": total_datapoints\n",
    "    })\n",
    "  \n",
    "# Create a DataFrame with the collected results\n",
    "results_df = pd.DataFrame(results)"
   ],
   "metadata": {
    "collapsed": false,
    "ExecuteTime": {
     "end_time": "2024-12-05T05:48:36.078641200Z",
     "start_time": "2024-12-05T05:47:34.940335700Z"
    }
   },
   "id": "5b9ea91a6744687d"
  },
  {
   "cell_type": "code",
   "execution_count": 13,
   "outputs": [
    {
     "name": "stdout",
     "output_type": "stream",
     "text": [
      "    Standoff distance  Max pressure  Min pressure  Number of datapoints\n",
      "0                1.50  26000.080000     14.331390                  7513\n",
      "1                1.75  19485.530000     14.010620                  7806\n",
      "2                2.00  15495.130000     14.046650                  8069\n",
      "3                2.25  12404.840000     13.312820                  8053\n",
      "4                2.50   9823.217000     13.765400                  7989\n",
      "5                2.75   7792.963000     17.537100                  7875\n",
      "6                3.00   6193.998000     17.421580                  8254\n",
      "7                5.00   1422.904375     89.849242                 10536\n",
      "8                7.00    561.898000     96.558180                  9495\n",
      "9                9.00    339.402531     98.657180                 11192\n",
      "10              11.00    258.633141     98.517789                 11277\n",
      "11              13.00    205.853141     98.896789                 11324\n",
      "12              15.00    182.136422     99.157687                 11641\n",
      "13              17.00    166.491078     99.378586                 12252\n",
      "14              19.00    151.219328     99.982789                 10422\n",
      "15              21.00    145.714516    100.168727                 10638\n",
      "16              23.00    138.592016    100.380398                 10675\n",
      "17              25.00    133.699906    100.473094                  8623\n",
      "18              27.00    130.222539    100.512508                 10422\n",
      "19              29.00    127.357836    100.647070                 11551\n",
      "20              30.00    125.910898    100.629117                 10765\n"
     ]
    }
   ],
   "source": [
    "print (results_df)"
   ],
   "metadata": {
    "collapsed": false,
    "ExecuteTime": {
     "end_time": "2024-12-05T05:48:42.820354100Z",
     "start_time": "2024-12-05T05:48:42.799438Z"
    }
   },
   "id": "c26e7ca8f3e004b7"
  },
  {
   "cell_type": "code",
   "execution_count": null,
   "outputs": [],
   "source": [],
   "metadata": {
    "collapsed": false
   },
   "id": "54d9912d51aa094f"
  },
  {
   "cell_type": "code",
   "execution_count": 14,
   "outputs": [
    {
     "data": {
      "text/plain": "<Figure size 360x360 with 2 Axes>",
      "image/png": "[encoded data removed]"
     },
     "metadata": {
      "needs_background": "light"
     },
     "output_type": "display_data"
    }
   ],
   "source": [
    "import matplotlib.pyplot as plt\n",
    "from matplotlib.ticker import MaxNLocator\n",
    "\n",
    "# Filter the DataFrame to include only rows with Standoff distance >= 3\n",
    "filtered_df = results_df[results_df['Standoff distance'] >= 5]\n",
    "\n",
    "# Set global font to Times New Roman\n",
    "plt.rcParams['font.family'] = 'serif'\n",
    "plt.rcParams['font.serif'] = ['Times New Roman']\n",
    "plt.rcParams['font.size'] = 16\n",
    "\n",
    "fig, ax1 = plt.subplots(figsize=(5, 5))\n",
    "\n",
    "# Plot max and min pressure values with standoff distance\n",
    "for _, row in filtered_df .iterrows():\n",
    "    ax1.plot([row['Standoff distance'], row['Standoff distance']],\n",
    "             [row['Min pressure'], row['Max pressure']],\n",
    "             color='blue', marker='o', label='Pressure Range' if _ == filtered_df .index[0] else \"\")\n",
    "\n",
    "# Label the primary y-axis (for pressure values)\n",
    "ax1.set_xlabel('Perpendicular standoff distance (m)')\n",
    "ax1.set_ylabel('Reflected overpressure (kPa)')\n",
    "ax1.tick_params(axis='both', labelsize=14)\n",
    "ax1.set_xticks([5, 7, 9, 11, 13, 15, 17, 19, 21, 23, 25, 27, 29, 31])\n",
    "#ax1.set_xlim(2.8,31)\n",
    "\n",
    "# Create a secondary y-axis for the number of data points\n",
    "ax2 = ax1.twinx()\n",
    "ax2.plot(filtered_df ['Standoff distance'], filtered_df ['Number of datapoints'],\n",
    "         color='red', marker='x', label='Number of datapoints')\n",
    "ax2.set_ylabel('Number of datapoints')\n",
    "ax2.tick_params(axis='y', labelsize=14)\n",
    "ax2.set_xticks([5, 7, 9, 11, 13, 15, 17, 19, 21, 23, 25, 27, 29, 31])\n",
    "#ax1.set_xlim(2.8,31)\n",
    "\n",
    "# Add grid lines\n",
    "ax1.grid(True, linestyle='--', alpha=0.7)\n",
    "\n",
    "# Combine legend handles and labels from both axes\n",
    "handles, labels = ax1.get_legend_handles_labels()\n",
    "handles2, labels2 = ax2.get_legend_handles_labels()\n",
    "handles += handles2\n",
    "labels += labels2\n",
    "\n",
    "# Add legend outside the plot with two columns\n",
    "#fig.legend(handles, labels, loc='lower center', bbox_to_anchor=(0.5, 0), ncol=2, fontsize=16, frameon=False)\n",
    "\n",
    "# Title and layout adjustments\n",
    "# plt.title('Pressure Range and Number of Datapoints vs. Standoff Distance')\n",
    "fig.subplots_adjust(bottom=0.2, right = 0.8)\n",
    "\n",
    "# Save the plot as an image\n",
    "plt.savefig('RP_farfield_dataset_info3.png', dpi=200, facecolor='white', bbox_inches='tight')\n",
    "\n",
    "\n",
    "# Show the plot\n",
    "#plt.show()"
   ],
   "metadata": {
    "collapsed": false,
    "ExecuteTime": {
     "end_time": "2024-12-05T05:53:50.170055600Z",
     "start_time": "2024-12-05T05:53:47.864751200Z"
    }
   },
   "id": "7232ef7efdda3451"
  },
  {
   "cell_type": "code",
   "execution_count": 10,
   "outputs": [],
   "source": [
    "plt.rcdefaults()"
   ],
   "metadata": {
    "collapsed": false,
    "ExecuteTime": {
     "end_time": "2024-09-16T14:42:27.177468600Z",
     "start_time": "2024-09-16T14:42:27.096399100Z"
    }
   },
   "id": "657cac9f4434614c"
  },
  {
   "cell_type": "code",
   "execution_count": 15,
   "outputs": [
    {
     "data": {
      "text/plain": "<Figure size 288x360 with 2 Axes>",
      "image/png": "[encoded data removed]"
     },
     "metadata": {
      "needs_background": "light"
     },
     "output_type": "display_data"
    }
   ],
   "source": [
    "import matplotlib.pyplot as plt\n",
    "from matplotlib.ticker import MaxNLocator\n",
    "\n",
    "# Filter the DataFrame to include only rows with Standoff distance >= 3\n",
    "filtered_df2 = results_df[results_df['Standoff distance'] >= 1.5]\n",
    "filtered_df2 = filtered_df2[results_df['Standoff distance'] < 5]\n",
    "\n",
    "# Set global font to Times New Roman\n",
    "plt.rcParams['font.family'] = 'serif'\n",
    "plt.rcParams['font.serif'] = ['Times New Roman']\n",
    "plt.rcParams['font.size'] = 16\n",
    "\n",
    "fig, ax1 = plt.subplots(figsize=(4, 5))\n",
    "\n",
    "# Plot max and min pressure values with standoff distance\n",
    "for _, row in filtered_df2.iterrows():\n",
    "    ax1.plot([row['Standoff distance'], row['Standoff distance']],\n",
    "             [row['Min pressure'], row['Max pressure']],\n",
    "             color='blue', marker='o', label='Pressure Range' if _ == filtered_df2.index[0] else \"\")\n",
    "\n",
    "# Label the primary y-axis (for pressure values)\n",
    "ax1.set_xlabel('Perpendicular standoff distance (m)')\n",
    "ax1.set_ylabel('Reflected overpressure (kPa)')\n",
    "ax1.tick_params(axis='both', labelsize=14)\n",
    "ax1.set_xticks([1.5, 1.75, 2, 2.25, 2.5, 2.75, 3])\n",
    "\n",
    "\n",
    "# Create a secondary y-axis for the number of data points\n",
    "ax2 = ax1.twinx()\n",
    "ax2.plot(filtered_df2['Standoff distance'], filtered_df2['Number of datapoints'],\n",
    "         color='red', marker='x', label='Number of datapoints')\n",
    "ax2.set_ylabel('Number of datapoints')\n",
    "ax2.tick_params(axis='y', labelsize=14)\n",
    "ax2.set_xticks([1.5, 1.75, 2, 2.25, 2.5, 2.75, 3])\n",
    "\n",
    "\n",
    "# Add grid lines\n",
    "ax1.grid(True, linestyle='--', alpha=0.7)\n",
    "\n",
    "# Combine legend handles and labels from both axes\n",
    "handles, labels = ax1.get_legend_handles_labels()\n",
    "handles2, labels2 = ax2.get_legend_handles_labels()\n",
    "handles += handles2\n",
    "labels += labels2\n",
    "\n",
    "# Add legend outside the plot with two columns\n",
    "#fig.legend(handles, labels, loc='lower center', bbox_to_anchor=(0.5, 0), ncol=2, fontsize=16, frameon=False)\n",
    "\n",
    "# Title and layout adjustments\n",
    "# plt.title('Pressure Range and Number of Datapoints vs. Standoff Distance')\n",
    "fig.subplots_adjust(bottom=0.2, right = 0.8)\n",
    "\n",
    "# Save the plot as an image\n",
    "plt.savefig('RP_nearfield_dataset_info3.png', dpi=200, facecolor='white', bbox_inches='tight')\n",
    "\n",
    "\n",
    "# Show the plot\n",
    "#plt.show()"
   ],
   "metadata": {
    "collapsed": false,
    "ExecuteTime": {
     "end_time": "2024-12-05T05:54:01.099395500Z",
     "start_time": "2024-12-05T05:54:00.119016600Z"
    }
   },
   "id": "1ff3df640bac1893"
  }
 ],
 "metadata": {
  "kernelspec": {
   "display_name": "Python 3 (ipykernel)",
   "language": "python",
   "name": "python3"
  },
  "language_info": {
   "codemirror_mode": {
    "name": "ipython",
    "version": 3
   },
   "file_extension": ".py",
   "mimetype": "text/x-python",
   "name": "python",
   "nbconvert_exporter": "python",
   "pygments_lexer": "ipython3",
   "version": "3.9.7"
  }
 },
 "nbformat": 4,
 "nbformat_minor": 5
}
