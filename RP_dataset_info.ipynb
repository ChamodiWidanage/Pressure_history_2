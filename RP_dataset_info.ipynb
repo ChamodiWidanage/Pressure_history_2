{
 "cells": [
  {
   "cell_type": "markdown",
   "id": "0cede545-4538-436d-ba77-972de1fa7975",
   "metadata": {},
   "source": [
    "## Import libraries"
   ]
  },
  {
   "cell_type": "code",
   "execution_count": 1,
   "id": "78da2ab4-3f82-47e7-9d10-099751b818c1",
   "metadata": {
    "tags": [],
    "ExecuteTime": {
     "end_time": "2024-07-28T12:28:15.783692200Z",
     "start_time": "2024-07-28T12:28:13.693531800Z"
    }
   },
   "outputs": [],
   "source": [
    "from pathlib import Path\n",
    "import pandas as pd\n",
    "import openpyxl\n",
    "import xlwings as xw"
   ]
  },
  {
   "cell_type": "code",
   "execution_count": 2,
   "outputs": [],
   "source": [
    "#Access input folder\n",
    "input_dir1 = Path (\"G:/Chamodi/LSDYNA3D/RP_TH_models/RP_section_datasets\")\n",
    "#print (\"INPUT 1\",input_dir1)\n",
    "\n",
    "#Access folders inside input folder\n",
    "input_dir2 =  [folder1 for folder1 in input_dir1.iterdir() if folder1.is_dir()]\n",
    "#print (\"INPUT 2\",input_dir2)\n",
    "\n",
    "# Define current work directory\n",
    "current_dir = Path.cwd()"
   ],
   "metadata": {
    "collapsed": false,
    "ExecuteTime": {
     "end_time": "2024-07-28T12:28:18.387015500Z",
     "start_time": "2024-07-28T12:28:18.354311600Z"
    }
   },
   "id": "bc3a458a89c51728"
  },
  {
   "cell_type": "markdown",
   "source": [
    "## Open RP_all_all excel file"
   ],
   "metadata": {
    "collapsed": false
   },
   "id": "dd103f6cc0e9a5b9"
  },
  {
   "cell_type": "code",
   "execution_count": 3,
   "outputs": [],
   "source": [
    "# Initialize an empty DataFrame to store results\n",
    "results_df = pd.DataFrame(columns=[\"Standoff distance\", \"Max pressure\", \"Min pressure\", \"Number of datapoints\"])"
   ],
   "metadata": {
    "collapsed": false,
    "ExecuteTime": {
     "end_time": "2024-07-28T12:28:20.692342600Z",
     "start_time": "2024-07-28T12:28:20.661650100Z"
    }
   },
   "id": "adf437b83cb8c195"
  },
  {
   "cell_type": "code",
   "execution_count": 6,
   "outputs": [],
   "source": [
    "results = []\n",
    "for folder1 in input_dir2: # folder1-RP_curves_fr5m\n",
    "    \n",
    "    SD = int(folder1.name[-3:-1])\n",
    "\n",
    "    input_dir3 =  [folder2 for folder2 in folder1.iterdir() if folder2.is_dir()]\n",
    "    \n",
    "    max_pressure = float('-inf')\n",
    "    min_pressure = float('inf')\n",
    "    total_datapoints = 0\n",
    "    \n",
    "    for folder2 in input_dir3: # folder2-05m00.5kg\n",
    "        \n",
    "        # Make a list of data file names\n",
    "        files1 = [file1 for file1 in folder2.rglob(\"*\") if file1.suffix == '.xlsx' and file1.suffix != '.png']\n",
    "            \n",
    "        # Access each file \n",
    "        for file1 in files1: # file-1.xlsx\n",
    "                \n",
    "            # Read data from Excel file\n",
    "            df1 = pd.read_excel(file1)\n",
    "            \n",
    "            pressure_values = df1['Pressure'].dropna().values\n",
    "            \n",
    "            # Update the max and min pressure values\n",
    "            max_pressure = max(max_pressure, pressure_values.max())\n",
    "            min_pressure = min(min_pressure, pressure_values.min())\n",
    "            \n",
    "            # Update the total number of data points\n",
    "            total_datapoints += len(pressure_values)\n",
    "                    \n",
    "    # Collect the results for this folder1\n",
    "    results.append({\n",
    "        \"Standoff distance\": SD,\n",
    "        \"Max pressure\": max_pressure,\n",
    "        \"Min pressure\": min_pressure,\n",
    "        \"Number of datapoints\": total_datapoints\n",
    "    })\n",
    "    \n",
    "# Create a DataFrame with the collected results\n",
    "results_df = pd.DataFrame(results)"
   ],
   "metadata": {
    "collapsed": false,
    "ExecuteTime": {
     "end_time": "2024-07-28T12:33:32.238982600Z",
     "start_time": "2024-07-28T12:30:45.018640200Z"
    }
   },
   "id": "5b9ea91a6744687d"
  },
  {
   "cell_type": "code",
   "execution_count": 7,
   "outputs": [
    {
     "name": "stdout",
     "output_type": "stream",
     "text": [
      "    Standoff distance  Max pressure  Min pressure  Number of datapoints\n",
      "0                   5   1321.654375    -11.400758                 68406\n",
      "1                   7    460.648000     -4.691820                 72776\n",
      "2                   9    238.152531     -2.592820                114182\n",
      "3                  11    157.383141     -2.732211                125672\n",
      "4                  13    104.603141     -2.353211                134468\n",
      "5                  15     80.886422     -2.092312                146662\n",
      "6                  17     65.241078     -1.871414                135008\n",
      "7                  19     49.969328     -1.267211                119229\n",
      "8                  21     44.464516     -1.081273                113585\n",
      "9                  23     37.342016     -0.869602                108121\n",
      "10                 25     32.449906     -0.776906                108008\n",
      "11                 27     28.972539     -0.742383                106509\n",
      "12                 29     26.107836     -0.607727                111735\n",
      "13                 30     24.660898     -0.620883                107170\n"
     ]
    }
   ],
   "source": [
    "print (results_df)"
   ],
   "metadata": {
    "collapsed": false,
    "ExecuteTime": {
     "end_time": "2024-07-28T12:33:49.781082Z",
     "start_time": "2024-07-28T12:33:49.685093600Z"
    }
   },
   "id": "c26e7ca8f3e004b7"
  },
  {
   "cell_type": "code",
   "execution_count": 18,
   "outputs": [],
   "source": [
    "import matplotlib.pyplot as plt\n",
    "from matplotlib.ticker import MaxNLocator\n",
    "\n",
    "fig, ax1 = plt.subplots(figsize=(10, 6))\n",
    "\n",
    "# Plot max and min pressure values with standoff distance\n",
    "for _, row in results_df.iterrows():\n",
    "    ax1.plot([row['Standoff distance'], row['Standoff distance']],\n",
    "             [row['Min pressure'], row['Max pressure']], color='blue', marker='o')\n",
    "\n",
    "# Label the primary y-axis (for pressure values)\n",
    "ax1.set_xlabel('Standoff distance (m)')\n",
    "ax1.set_ylabel('Reflected overpressure (kPa)', color='blue')\n",
    "ax1.tick_params(axis='y', labelcolor='blue')\n",
    "ax1.set_xticks([1, 3, 5, 7, 9, 11, 13, 15, 17, 19, 21, 23, 25, 27, 29, 30])\n",
    "\n",
    "# Create a secondary y-axis for the number of data points\n",
    "ax2 = ax1.twinx()\n",
    "ax2.plot(results_df['Standoff distance'], results_df['Number of datapoints'], color='red', marker='x')\n",
    "ax2.set_ylabel('Number of datapoints', color='red')\n",
    "ax2.tick_params(axis='y', labelcolor='red')\n",
    "ax2.set_xticks([1, 3, 5, 7, 9, 11, 13, 15, 17, 19, 21, 23, 25, 27, 29, 30])\n",
    "\n",
    "# Add grid lines\n",
    "ax1.grid(True, linestyle='--', alpha=0.7)\n",
    "\n",
    "# Title and layout adjustments\n",
    "plt.title('Pressure Range and Number of Datapoints vs. Standoff Distance')\n",
    "fig.tight_layout()\n",
    "\n",
    "# Save the plot as an image\n",
    "plt.savefig('results_plot.png', dpi=300)\n",
    "\n",
    "# Show the plot\n",
    "#plt.show()"
   ],
   "metadata": {
    "collapsed": false,
    "ExecuteTime": {
     "end_time": "2024-07-28T13:41:57.746644700Z",
     "start_time": "2024-07-28T13:41:57.009566Z"
    }
   },
   "id": "7232ef7efdda3451"
  }
 ],
 "metadata": {
  "kernelspec": {
   "display_name": "Python 3 (ipykernel)",
   "language": "python",
   "name": "python3"
  },
  "language_info": {
   "codemirror_mode": {
    "name": "ipython",
    "version": 3
   },
   "file_extension": ".py",
   "mimetype": "text/x-python",
   "name": "python",
   "nbconvert_exporter": "python",
   "pygments_lexer": "ipython3",
   "version": "3.9.7"
  }
 },
 "nbformat": 4,
 "nbformat_minor": 5
}
