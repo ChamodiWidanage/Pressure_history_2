{
 "cells": [
  {
   "cell_type": "markdown",
   "metadata": {
    "colab_type": "text",
    "id": "3cbb7fRy-eyr"
   },
   "source": [
    "# Artificial Neural Network"
   ]
  },
  {
   "cell_type": "markdown",
   "source": [
    "## Part 1 - Importing the libraries"
   ],
   "metadata": {
    "collapsed": false
   }
  },
  {
   "cell_type": "code",
   "execution_count": 1,
   "metadata": {
    "colab": {},
    "colab_type": "code",
    "id": "lxChR1Rk-umf",
    "ExecuteTime": {
     "end_time": "2024-09-02T13:33:21.754950800Z",
     "start_time": "2024-09-02T13:33:16.115649100Z"
    }
   },
   "outputs": [],
   "source": [
    "import numpy as np\n",
    "import pandas as pd\n",
    "import tensorflow as tf\n",
    "import matplotlib.pyplot as plt\n",
    "from keras.models import load_model\n",
    "from pathlib import Path\n",
    "import pickle"
   ]
  },
  {
   "cell_type": "markdown",
   "metadata": {
    "colab_type": "text",
    "id": "AG3FQEch-yuA"
   },
   "source": [
    "## Part 2 - Data Preprocessing"
   ]
  },
  {
   "cell_type": "code",
   "execution_count": 3,
   "metadata": {
    "ExecuteTime": {
     "end_time": "2024-09-02T13:34:05.050163800Z",
     "start_time": "2024-09-02T13:34:04.883553Z"
    }
   },
   "outputs": [
    {
     "name": "stdout",
     "output_type": "stream",
     "text": [
      "input G:\\Chamodi\\LSDYNA3D\\RP_TH_models\\RP_Section_2_new\n",
      "2 [WindowsPath('G:/Chamodi/LSDYNA3D/RP_TH_models/RP_Section_2_new/3.00m'), WindowsPath('G:/Chamodi/LSDYNA3D/RP_TH_models/RP_Section_2_new/RP_curves_fr05m'), WindowsPath('G:/Chamodi/LSDYNA3D/RP_TH_models/RP_Section_2_new/RP_curves_fr07m')]\n"
     ]
    }
   ],
   "source": [
    "#Access input folder\n",
    "current_dir = Path.cwd()\n",
    "input_dir1 = Path (\"G:/Chamodi/LSDYNA3D/RP_TH_models/RP_Section_2_new\")\n",
    "print (\"input\",input_dir1)\n",
    "\n",
    "#Access folders inside input folder\n",
    "input_dir2=  [folder1 for folder1 in input_dir1.iterdir() if folder1.is_dir()] # folder1 - RP_curves_fr7m\n",
    "print (\"2\",input_dir2)"
   ]
  },
  {
   "cell_type": "code",
   "execution_count": 4,
   "metadata": {
    "ExecuteTime": {
     "end_time": "2024-09-02T13:34:19.346099300Z",
     "start_time": "2024-09-02T13:34:08.627413800Z"
    }
   },
   "outputs": [
    {
     "name": "stdout",
     "output_type": "stream",
     "text": [
      "folder G:\\Chamodi\\LSDYNA3D\\RP_TH_models\\RP_Section_2_new\\3.00m\\3.00m00.5kg\n",
      "1\n",
      "2\n",
      "3\n",
      "4\n",
      "folder G:\\Chamodi\\LSDYNA3D\\RP_TH_models\\RP_Section_2_new\\3.00m\\3.00m02.5kg\n",
      "1\n",
      "2\n",
      "3\n",
      "4\n",
      "folder G:\\Chamodi\\LSDYNA3D\\RP_TH_models\\RP_Section_2_new\\3.00m\\3.00m04.5kg\n",
      "1\n",
      "2\n",
      "3\n",
      "4\n",
      "folder G:\\Chamodi\\LSDYNA3D\\RP_TH_models\\RP_Section_2_new\\3.00m\\3.00m06.5kg\n",
      "1\n",
      "2\n",
      "3\n",
      "4\n",
      "folder G:\\Chamodi\\LSDYNA3D\\RP_TH_models\\RP_Section_2_new\\3.00m\\3.00m08.5kg\n",
      "1\n",
      "2\n",
      "3\n",
      "4\n",
      "folder G:\\Chamodi\\LSDYNA3D\\RP_TH_models\\RP_Section_2_new\\3.00m\\3.00m10.5kg\n",
      "1\n",
      "2\n",
      "3\n",
      "4\n",
      "folder G:\\Chamodi\\LSDYNA3D\\RP_TH_models\\RP_Section_2_new\\3.00m\\3.00m12.5kg\n",
      "1\n",
      "2\n",
      "3\n",
      "4\n",
      "folder G:\\Chamodi\\LSDYNA3D\\RP_TH_models\\RP_Section_2_new\\3.00m\\3.00m14.5kg\n",
      "1\n",
      "2\n",
      "3\n",
      "4\n",
      "folder G:\\Chamodi\\LSDYNA3D\\RP_TH_models\\RP_Section_2_new\\3.00m\\3.00m16.5kg\n",
      "1\n",
      "2\n",
      "3\n",
      "4\n",
      "folder G:\\Chamodi\\LSDYNA3D\\RP_TH_models\\RP_Section_2_new\\3.00m\\3.00m18.5kg\n",
      "1\n",
      "2\n",
      "3\n",
      "4\n",
      "folder G:\\Chamodi\\LSDYNA3D\\RP_TH_models\\RP_Section_2_new\\3.00m\\3.00m20.5kg\n",
      "1\n",
      "2\n",
      "3\n",
      "4\n",
      "folder G:\\Chamodi\\LSDYNA3D\\RP_TH_models\\RP_Section_2_new\\3.00m\\3.00m22.5kg\n",
      "1\n",
      "2\n",
      "3\n",
      "4\n",
      "folder G:\\Chamodi\\LSDYNA3D\\RP_TH_models\\RP_Section_2_new\\3.00m\\3.00m24.5kg\n",
      "1\n",
      "2\n",
      "3\n",
      "4\n",
      "folder G:\\Chamodi\\LSDYNA3D\\RP_TH_models\\RP_Section_2_new\\3.00m\\3.00m26.5kg\n",
      "1\n",
      "2\n",
      "3\n",
      "4\n",
      "folder G:\\Chamodi\\LSDYNA3D\\RP_TH_models\\RP_Section_2_new\\3.00m\\3.00m28.5kg\n",
      "1\n",
      "2\n",
      "3\n",
      "4\n",
      "folder G:\\Chamodi\\LSDYNA3D\\RP_TH_models\\RP_Section_2_new\\3.00m\\3.00m30.5kg\n",
      "1\n",
      "2\n",
      "3\n",
      "4\n",
      "folder G:\\Chamodi\\LSDYNA3D\\RP_TH_models\\RP_Section_2_new\\3.00m\\3.00m32.5kg\n",
      "1\n",
      "2\n",
      "3\n",
      "4\n",
      "folder G:\\Chamodi\\LSDYNA3D\\RP_TH_models\\RP_Section_2_new\\3.00m\\3.00m34.5kg\n",
      "1\n",
      "2\n",
      "3\n",
      "4\n",
      "folder G:\\Chamodi\\LSDYNA3D\\RP_TH_models\\RP_Section_2_new\\3.00m\\3.00m35.0kg\n",
      "1\n",
      "2\n",
      "3\n",
      "4\n",
      "folder G:\\Chamodi\\LSDYNA3D\\RP_TH_models\\RP_Section_2_new\\RP_curves_fr05m\\05m00.5kg\n",
      "1.xlsx\n",
      "2.xlsx\n",
      "3.xlsx\n",
      "4.xlsx\n",
      "folder G:\\Chamodi\\LSDYNA3D\\RP_TH_models\\RP_Section_2_new\\RP_curves_fr05m\\05m02.5kg\n",
      "1.xlsx\n",
      "2.xlsx\n",
      "3.xlsx\n",
      "4.xlsx\n",
      "folder G:\\Chamodi\\LSDYNA3D\\RP_TH_models\\RP_Section_2_new\\RP_curves_fr05m\\05m04.5kg\n",
      "1.xlsx\n",
      "2.xlsx\n",
      "3.xlsx\n",
      "4.xlsx\n",
      "folder G:\\Chamodi\\LSDYNA3D\\RP_TH_models\\RP_Section_2_new\\RP_curves_fr05m\\05m06.5kg\n",
      "1.xlsx\n",
      "2.xlsx\n",
      "3.xlsx\n",
      "4.xlsx\n",
      "folder G:\\Chamodi\\LSDYNA3D\\RP_TH_models\\RP_Section_2_new\\RP_curves_fr05m\\05m08.5kg\n",
      "1.xlsx\n",
      "2.xlsx\n",
      "3.xlsx\n",
      "4.xlsx\n",
      "folder G:\\Chamodi\\LSDYNA3D\\RP_TH_models\\RP_Section_2_new\\RP_curves_fr05m\\05m10.5kg\n",
      "1.xlsx\n",
      "2.xlsx\n",
      "3.xlsx\n",
      "4.xlsx\n",
      "folder G:\\Chamodi\\LSDYNA3D\\RP_TH_models\\RP_Section_2_new\\RP_curves_fr05m\\05m12.5kg\n",
      "1.xlsx\n",
      "2.xlsx\n",
      "3.xlsx\n",
      "4.xlsx\n",
      "folder G:\\Chamodi\\LSDYNA3D\\RP_TH_models\\RP_Section_2_new\\RP_curves_fr05m\\05m14.5kg\n",
      "1.xlsx\n",
      "2.xlsx\n",
      "3.xlsx\n",
      "4.xlsx\n",
      "folder G:\\Chamodi\\LSDYNA3D\\RP_TH_models\\RP_Section_2_new\\RP_curves_fr05m\\05m16.5kg\n",
      "1.xlsx\n",
      "2.xlsx\n",
      "3.xlsx\n",
      "4.xlsx\n",
      "folder G:\\Chamodi\\LSDYNA3D\\RP_TH_models\\RP_Section_2_new\\RP_curves_fr05m\\05m18.5kg\n",
      "1.xlsx\n",
      "2.xlsx\n",
      "3.xlsx\n",
      "4.xlsx\n",
      "folder G:\\Chamodi\\LSDYNA3D\\RP_TH_models\\RP_Section_2_new\\RP_curves_fr05m\\05m20.5kg\n",
      "1.xlsx\n",
      "2.xlsx\n",
      "3.xlsx\n",
      "4.xlsx\n",
      "folder G:\\Chamodi\\LSDYNA3D\\RP_TH_models\\RP_Section_2_new\\RP_curves_fr05m\\05m22.5kg\n",
      "1.xlsx\n",
      "2.xlsx\n",
      "3.xlsx\n",
      "4.xlsx\n",
      "folder G:\\Chamodi\\LSDYNA3D\\RP_TH_models\\RP_Section_2_new\\RP_curves_fr05m\\05m24.5kg\n",
      "1.xlsx\n",
      "2.xlsx\n",
      "3.xlsx\n",
      "4.xlsx\n",
      "folder G:\\Chamodi\\LSDYNA3D\\RP_TH_models\\RP_Section_2_new\\RP_curves_fr05m\\05m26.5kg\n",
      "1.xlsx\n",
      "2.xlsx\n",
      "3.xlsx\n",
      "4.xlsx\n",
      "folder G:\\Chamodi\\LSDYNA3D\\RP_TH_models\\RP_Section_2_new\\RP_curves_fr05m\\05m28.5kg\n",
      "1.xlsx\n",
      "2.xlsx\n",
      "3.xlsx\n",
      "4.xlsx\n",
      "folder G:\\Chamodi\\LSDYNA3D\\RP_TH_models\\RP_Section_2_new\\RP_curves_fr05m\\05m30.5kg\n",
      "1.xlsx\n",
      "2.xlsx\n",
      "3.xlsx\n",
      "4.xlsx\n",
      "folder G:\\Chamodi\\LSDYNA3D\\RP_TH_models\\RP_Section_2_new\\RP_curves_fr05m\\05m32.5kg\n",
      "1.xlsx\n",
      "2.xlsx\n",
      "3.xlsx\n",
      "4.xlsx\n",
      "folder G:\\Chamodi\\LSDYNA3D\\RP_TH_models\\RP_Section_2_new\\RP_curves_fr05m\\05m34.5kg\n",
      "1.xlsx\n",
      "2.xlsx\n",
      "3.xlsx\n",
      "4.xlsx\n",
      "folder G:\\Chamodi\\LSDYNA3D\\RP_TH_models\\RP_Section_2_new\\RP_curves_fr05m\\05m35.0kg\n",
      "1.xlsx\n",
      "2.xlsx\n",
      "3.xlsx\n",
      "4.xlsx\n",
      "folder G:\\Chamodi\\LSDYNA3D\\RP_TH_models\\RP_Section_2_new\\RP_curves_fr07m\\07m00.5kg\n",
      "1.xlsx\n",
      "2.xlsx\n",
      "3.xlsx\n",
      "4.xlsx\n",
      "folder G:\\Chamodi\\LSDYNA3D\\RP_TH_models\\RP_Section_2_new\\RP_curves_fr07m\\07m02.5kg\n",
      "1.xlsx\n",
      "2.xlsx\n",
      "3.xlsx\n",
      "4.xlsx\n",
      "folder G:\\Chamodi\\LSDYNA3D\\RP_TH_models\\RP_Section_2_new\\RP_curves_fr07m\\07m04.5kg\n",
      "1.xlsx\n",
      "2.xlsx\n",
      "3.xlsx\n",
      "4.xlsx\n",
      "folder G:\\Chamodi\\LSDYNA3D\\RP_TH_models\\RP_Section_2_new\\RP_curves_fr07m\\07m06.5kg\n",
      "1.xlsx\n",
      "2.xlsx\n",
      "3.xlsx\n",
      "4.xlsx\n",
      "folder G:\\Chamodi\\LSDYNA3D\\RP_TH_models\\RP_Section_2_new\\RP_curves_fr07m\\07m08.5kg\n",
      "1.xlsx\n",
      "2.xlsx\n",
      "3.xlsx\n",
      "4.xlsx\n",
      "folder G:\\Chamodi\\LSDYNA3D\\RP_TH_models\\RP_Section_2_new\\RP_curves_fr07m\\07m10.5kg\n",
      "1.xlsx\n",
      "2.xlsx\n",
      "3.xlsx\n",
      "4.xlsx\n",
      "folder G:\\Chamodi\\LSDYNA3D\\RP_TH_models\\RP_Section_2_new\\RP_curves_fr07m\\07m12.5kg\n",
      "1.xlsx\n",
      "2.xlsx\n",
      "3.xlsx\n",
      "4.xlsx\n",
      "folder G:\\Chamodi\\LSDYNA3D\\RP_TH_models\\RP_Section_2_new\\RP_curves_fr07m\\07m14.5kg\n",
      "1.xlsx\n",
      "2.xlsx\n",
      "3.xlsx\n",
      "4.xlsx\n",
      "folder G:\\Chamodi\\LSDYNA3D\\RP_TH_models\\RP_Section_2_new\\RP_curves_fr07m\\07m16.5kg\n",
      "1.xlsx\n",
      "2.xlsx\n",
      "3.xlsx\n",
      "4.xlsx\n",
      "folder G:\\Chamodi\\LSDYNA3D\\RP_TH_models\\RP_Section_2_new\\RP_curves_fr07m\\07m18.5kg\n",
      "1.xlsx\n",
      "2.xlsx\n",
      "3.xlsx\n",
      "4.xlsx\n",
      "folder G:\\Chamodi\\LSDYNA3D\\RP_TH_models\\RP_Section_2_new\\RP_curves_fr07m\\07m20.5kg\n",
      "1.xlsx\n",
      "2.xlsx\n",
      "3.xlsx\n",
      "4.xlsx\n",
      "folder G:\\Chamodi\\LSDYNA3D\\RP_TH_models\\RP_Section_2_new\\RP_curves_fr07m\\07m22.5kg\n",
      "1.xlsx\n",
      "2.xlsx\n",
      "3.xlsx\n",
      "4.xlsx\n",
      "folder G:\\Chamodi\\LSDYNA3D\\RP_TH_models\\RP_Section_2_new\\RP_curves_fr07m\\07m24.5kg\n",
      "1.xlsx\n",
      "2.xlsx\n",
      "3.xlsx\n",
      "4.xlsx\n",
      "folder G:\\Chamodi\\LSDYNA3D\\RP_TH_models\\RP_Section_2_new\\RP_curves_fr07m\\07m26.5kg\n",
      "1.xlsx\n",
      "2.xlsx\n",
      "3.xlsx\n",
      "4.xlsx\n",
      "folder G:\\Chamodi\\LSDYNA3D\\RP_TH_models\\RP_Section_2_new\\RP_curves_fr07m\\07m28.5kg\n",
      "1.xlsx\n",
      "2.xlsx\n",
      "3.xlsx\n",
      "4.xlsx\n",
      "folder G:\\Chamodi\\LSDYNA3D\\RP_TH_models\\RP_Section_2_new\\RP_curves_fr07m\\07m30.5kg\n",
      "1.xlsx\n",
      "2.xlsx\n",
      "3.xlsx\n",
      "4.xlsx\n",
      "folder G:\\Chamodi\\LSDYNA3D\\RP_TH_models\\RP_Section_2_new\\RP_curves_fr07m\\07m32.5kg\n",
      "1.xlsx\n",
      "2.xlsx\n",
      "3.xlsx\n",
      "4.xlsx\n",
      "folder G:\\Chamodi\\LSDYNA3D\\RP_TH_models\\RP_Section_2_new\\RP_curves_fr07m\\07m34.5kg\n",
      "1.xlsx\n",
      "2.xlsx\n",
      "3.xlsx\n",
      "4.xlsx\n",
      "folder G:\\Chamodi\\LSDYNA3D\\RP_TH_models\\RP_Section_2_new\\RP_curves_fr07m\\07m35.0kg\n",
      "1.xlsx\n",
      "2.xlsx\n",
      "3.xlsx\n",
      "4.xlsx\n"
     ]
    }
   ],
   "source": [
    "#dataset = pd.DataFrame(columns = ['Charge_mass', 'Standoff_distance', 'Time', 'Pressure', 'Phase'])\n",
    "df_list = []\n",
    "\n",
    "for folder1 in input_dir2:\n",
    "    \n",
    "    input_dir3 =  [folder2 for folder2 in folder1.iterdir() if folder2.is_dir()] # folder2 - 07m00.5kg\n",
    "    \n",
    "    for folder2 in input_dir3:\n",
    "        \n",
    "        print ('folder', folder2)\n",
    "        files1 = [file1 for file1 in folder2.rglob(\"*.xlsx\")]\n",
    "    \n",
    "        for file1 in files1:\n",
    "            df_list.append(pd.read_excel(file1))\n",
    "            print (file1.stem)\n",
    "    \n",
    "dataset = pd.concat(df_list, ignore_index = True)"
   ]
  },
  {
   "cell_type": "code",
   "execution_count": 5,
   "metadata": {
    "colab": {},
    "colab_type": "code",
    "id": "B9CV13Co_HHM",
    "ExecuteTime": {
     "end_time": "2024-09-02T13:34:24.058015900Z",
     "start_time": "2024-09-02T13:34:23.935918500Z"
    }
   },
   "outputs": [
    {
     "name": "stdout",
     "output_type": "stream",
     "text": [
      "<class 'pandas.core.frame.DataFrame'>\n",
      "RangeIndex: 28285 entries, 0 to 28284\n",
      "Data columns (total 6 columns):\n",
      " #   Column             Non-Null Count  Dtype  \n",
      "---  ------             --------------  -----  \n",
      " 0   Mass               28285 non-null  float64\n",
      " 1   Standoff distance  28285 non-null  int64  \n",
      " 2   Angle              28285 non-null  int64  \n",
      " 3   Time               28285 non-null  float64\n",
      " 4   Phase              28285 non-null  object \n",
      " 5   Pressure           28285 non-null  float64\n",
      "dtypes: float64(3), int64(2), object(1)\n",
      "memory usage: 1.3+ MB\n"
     ]
    }
   ],
   "source": [
    "dataset.info()"
   ]
  },
  {
   "cell_type": "code",
   "execution_count": 6,
   "outputs": [
    {
     "name": "stdout",
     "output_type": "stream",
     "text": [
      "<class 'pandas.core.frame.DataFrame'>\n",
      "RangeIndex: 28285 entries, 0 to 28284\n",
      "Data columns (total 7 columns):\n",
      " #   Column             Non-Null Count  Dtype  \n",
      "---  ------             --------------  -----  \n",
      " 0   Mass               28285 non-null  float64\n",
      " 1   Standoff distance  28285 non-null  int64  \n",
      " 2   Angle              28285 non-null  int64  \n",
      " 3   Time               28285 non-null  float64\n",
      " 4   Pressure           28285 non-null  float64\n",
      " 5   Phase_negative     28285 non-null  uint8  \n",
      " 6   Phase_positive     28285 non-null  uint8  \n",
      "dtypes: float64(3), int64(2), uint8(2)\n",
      "memory usage: 1.1 MB\n"
     ]
    }
   ],
   "source": [
    "dataset['Phase'] = dataset['Phase'].replace({'negative_increasing': 'negative', 'negative_decreasing': 'negative'})\n",
    "dataset = pd.get_dummies(dataset, columns =['Phase'], dtype = np.uint8)\n",
    "dataset.info()"
   ],
   "metadata": {
    "collapsed": false,
    "ExecuteTime": {
     "end_time": "2024-09-02T13:34:27.623226400Z",
     "start_time": "2024-09-02T13:34:27.382546900Z"
    }
   }
  },
  {
   "cell_type": "code",
   "execution_count": 7,
   "outputs": [
    {
     "data": {
      "text/plain": "    Mass  Standoff distance  Angle      Time    Pressure  Phase_negative  \\\n0    0.5                  3      0  4.808856  107.847300               0   \n1    0.5                  3      0  4.813112  107.774500               0   \n2    0.5                  3      0  4.819497  107.449600               0   \n3    0.5                  3      0  4.830135  106.437800               0   \n4    0.5                  3      0  4.868410  100.805800               0   \n5    0.5                  3      0  4.887534   98.590940               0   \n6    0.5                  3      0  4.932121   94.448940               0   \n7    0.5                  3      0  4.991455   88.327220               0   \n8    0.5                  3      0  5.122123   76.818700               0   \n9    0.5                  3      0  5.224568   68.518910               0   \n10   0.5                  3      0  5.315322   61.791730               0   \n11   0.5                  3      0  5.354440   59.054530               0   \n12   0.5                  3      0  5.400111   56.012250               0   \n13   0.5                  3      0  5.470839   51.386330               0   \n14   0.5                  3      0  5.519789   48.325090               0   \n15   0.5                  3      0  5.600004   43.638030               0   \n16   0.5                  3      0  5.704539   37.980500               0   \n17   0.5                  3      0  5.781082   34.048230               0   \n18   0.5                  3      0  5.856586   30.477230               0   \n19   0.5                  3      0  5.915134   27.876160               0   \n20   0.5                  3      0  5.969371   25.605550               0   \n21   0.5                  3      0  6.123782   19.654310               0   \n22   0.5                  3      0  6.200120   16.563880               0   \n23   0.5                  3      0  6.274382   13.267310               0   \n24   0.5                  3      0  6.377159    8.248727               0   \n25   0.5                  3      0  6.427494    5.953672               0   \n26   0.5                  3      0  6.462523    4.469477               0   \n27   0.5                  3      0  6.499754    2.978477               0   \n28   0.5                  3      0  6.539189    1.485242               0   \n29   0.5                  3      0  6.578639    0.071180               0   \n\n    Phase_positive  \n0                1  \n1                1  \n2                1  \n3                1  \n4                1  \n5                1  \n6                1  \n7                1  \n8                1  \n9                1  \n10               1  \n11               1  \n12               1  \n13               1  \n14               1  \n15               1  \n16               1  \n17               1  \n18               1  \n19               1  \n20               1  \n21               1  \n22               1  \n23               1  \n24               1  \n25               1  \n26               1  \n27               1  \n28               1  \n29               1  ",
      "text/html": "<div>\n<style scoped>\n    .dataframe tbody tr th:only-of-type {\n        vertical-align: middle;\n    }\n\n    .dataframe tbody tr th {\n        vertical-align: top;\n    }\n\n    .dataframe thead th {\n        text-align: right;\n    }\n</style>\n<table border=\"1\" class=\"dataframe\">\n  <thead>\n    <tr style=\"text-align: right;\">\n      <th></th>\n      <th>Mass</th>\n      <th>Standoff distance</th>\n      <th>Angle</th>\n      <th>Time</th>\n      <th>Pressure</th>\n      <th>Phase_negative</th>\n      <th>Phase_positive</th>\n    </tr>\n  </thead>\n  <tbody>\n    <tr>\n      <th>0</th>\n      <td>0.5</td>\n      <td>3</td>\n      <td>0</td>\n      <td>4.808856</td>\n      <td>107.847300</td>\n      <td>0</td>\n      <td>1</td>\n    </tr>\n    <tr>\n      <th>1</th>\n      <td>0.5</td>\n      <td>3</td>\n      <td>0</td>\n      <td>4.813112</td>\n      <td>107.774500</td>\n      <td>0</td>\n      <td>1</td>\n    </tr>\n    <tr>\n      <th>2</th>\n      <td>0.5</td>\n      <td>3</td>\n      <td>0</td>\n      <td>4.819497</td>\n      <td>107.449600</td>\n      <td>0</td>\n      <td>1</td>\n    </tr>\n    <tr>\n      <th>3</th>\n      <td>0.5</td>\n      <td>3</td>\n      <td>0</td>\n      <td>4.830135</td>\n      <td>106.437800</td>\n      <td>0</td>\n      <td>1</td>\n    </tr>\n    <tr>\n      <th>4</th>\n      <td>0.5</td>\n      <td>3</td>\n      <td>0</td>\n      <td>4.868410</td>\n      <td>100.805800</td>\n      <td>0</td>\n      <td>1</td>\n    </tr>\n    <tr>\n      <th>5</th>\n      <td>0.5</td>\n      <td>3</td>\n      <td>0</td>\n      <td>4.887534</td>\n      <td>98.590940</td>\n      <td>0</td>\n      <td>1</td>\n    </tr>\n    <tr>\n      <th>6</th>\n      <td>0.5</td>\n      <td>3</td>\n      <td>0</td>\n      <td>4.932121</td>\n      <td>94.448940</td>\n      <td>0</td>\n      <td>1</td>\n    </tr>\n    <tr>\n      <th>7</th>\n      <td>0.5</td>\n      <td>3</td>\n      <td>0</td>\n      <td>4.991455</td>\n      <td>88.327220</td>\n      <td>0</td>\n      <td>1</td>\n    </tr>\n    <tr>\n      <th>8</th>\n      <td>0.5</td>\n      <td>3</td>\n      <td>0</td>\n      <td>5.122123</td>\n      <td>76.818700</td>\n      <td>0</td>\n      <td>1</td>\n    </tr>\n    <tr>\n      <th>9</th>\n      <td>0.5</td>\n      <td>3</td>\n      <td>0</td>\n      <td>5.224568</td>\n      <td>68.518910</td>\n      <td>0</td>\n      <td>1</td>\n    </tr>\n    <tr>\n      <th>10</th>\n      <td>0.5</td>\n      <td>3</td>\n      <td>0</td>\n      <td>5.315322</td>\n      <td>61.791730</td>\n      <td>0</td>\n      <td>1</td>\n    </tr>\n    <tr>\n      <th>11</th>\n      <td>0.5</td>\n      <td>3</td>\n      <td>0</td>\n      <td>5.354440</td>\n      <td>59.054530</td>\n      <td>0</td>\n      <td>1</td>\n    </tr>\n    <tr>\n      <th>12</th>\n      <td>0.5</td>\n      <td>3</td>\n      <td>0</td>\n      <td>5.400111</td>\n      <td>56.012250</td>\n      <td>0</td>\n      <td>1</td>\n    </tr>\n    <tr>\n      <th>13</th>\n      <td>0.5</td>\n      <td>3</td>\n      <td>0</td>\n      <td>5.470839</td>\n      <td>51.386330</td>\n      <td>0</td>\n      <td>1</td>\n    </tr>\n    <tr>\n      <th>14</th>\n      <td>0.5</td>\n      <td>3</td>\n      <td>0</td>\n      <td>5.519789</td>\n      <td>48.325090</td>\n      <td>0</td>\n      <td>1</td>\n    </tr>\n    <tr>\n      <th>15</th>\n      <td>0.5</td>\n      <td>3</td>\n      <td>0</td>\n      <td>5.600004</td>\n      <td>43.638030</td>\n      <td>0</td>\n      <td>1</td>\n    </tr>\n    <tr>\n      <th>16</th>\n      <td>0.5</td>\n      <td>3</td>\n      <td>0</td>\n      <td>5.704539</td>\n      <td>37.980500</td>\n      <td>0</td>\n      <td>1</td>\n    </tr>\n    <tr>\n      <th>17</th>\n      <td>0.5</td>\n      <td>3</td>\n      <td>0</td>\n      <td>5.781082</td>\n      <td>34.048230</td>\n      <td>0</td>\n      <td>1</td>\n    </tr>\n    <tr>\n      <th>18</th>\n      <td>0.5</td>\n      <td>3</td>\n      <td>0</td>\n      <td>5.856586</td>\n      <td>30.477230</td>\n      <td>0</td>\n      <td>1</td>\n    </tr>\n    <tr>\n      <th>19</th>\n      <td>0.5</td>\n      <td>3</td>\n      <td>0</td>\n      <td>5.915134</td>\n      <td>27.876160</td>\n      <td>0</td>\n      <td>1</td>\n    </tr>\n    <tr>\n      <th>20</th>\n      <td>0.5</td>\n      <td>3</td>\n      <td>0</td>\n      <td>5.969371</td>\n      <td>25.605550</td>\n      <td>0</td>\n      <td>1</td>\n    </tr>\n    <tr>\n      <th>21</th>\n      <td>0.5</td>\n      <td>3</td>\n      <td>0</td>\n      <td>6.123782</td>\n      <td>19.654310</td>\n      <td>0</td>\n      <td>1</td>\n    </tr>\n    <tr>\n      <th>22</th>\n      <td>0.5</td>\n      <td>3</td>\n      <td>0</td>\n      <td>6.200120</td>\n      <td>16.563880</td>\n      <td>0</td>\n      <td>1</td>\n    </tr>\n    <tr>\n      <th>23</th>\n      <td>0.5</td>\n      <td>3</td>\n      <td>0</td>\n      <td>6.274382</td>\n      <td>13.267310</td>\n      <td>0</td>\n      <td>1</td>\n    </tr>\n    <tr>\n      <th>24</th>\n      <td>0.5</td>\n      <td>3</td>\n      <td>0</td>\n      <td>6.377159</td>\n      <td>8.248727</td>\n      <td>0</td>\n      <td>1</td>\n    </tr>\n    <tr>\n      <th>25</th>\n      <td>0.5</td>\n      <td>3</td>\n      <td>0</td>\n      <td>6.427494</td>\n      <td>5.953672</td>\n      <td>0</td>\n      <td>1</td>\n    </tr>\n    <tr>\n      <th>26</th>\n      <td>0.5</td>\n      <td>3</td>\n      <td>0</td>\n      <td>6.462523</td>\n      <td>4.469477</td>\n      <td>0</td>\n      <td>1</td>\n    </tr>\n    <tr>\n      <th>27</th>\n      <td>0.5</td>\n      <td>3</td>\n      <td>0</td>\n      <td>6.499754</td>\n      <td>2.978477</td>\n      <td>0</td>\n      <td>1</td>\n    </tr>\n    <tr>\n      <th>28</th>\n      <td>0.5</td>\n      <td>3</td>\n      <td>0</td>\n      <td>6.539189</td>\n      <td>1.485242</td>\n      <td>0</td>\n      <td>1</td>\n    </tr>\n    <tr>\n      <th>29</th>\n      <td>0.5</td>\n      <td>3</td>\n      <td>0</td>\n      <td>6.578639</td>\n      <td>0.071180</td>\n      <td>0</td>\n      <td>1</td>\n    </tr>\n  </tbody>\n</table>\n</div>"
     },
     "execution_count": 7,
     "metadata": {},
     "output_type": "execute_result"
    }
   ],
   "source": [
    "dataset.head(30)"
   ],
   "metadata": {
    "collapsed": false,
    "ExecuteTime": {
     "end_time": "2024-09-02T13:34:29.614038300Z",
     "start_time": "2024-09-02T13:34:29.407718900Z"
    }
   }
  },
  {
   "cell_type": "code",
   "execution_count": 8,
   "metadata": {
    "ExecuteTime": {
     "end_time": "2024-09-02T13:34:31.844982200Z",
     "start_time": "2024-09-02T13:34:31.725384100Z"
    }
   },
   "outputs": [
    {
     "name": "stdout",
     "output_type": "stream",
     "text": [
      "(28285, 6) (28285,)\n"
     ]
    }
   ],
   "source": [
    "y = dataset['Pressure']\n",
    "X = dataset.drop(['Pressure'], axis=1)\n",
    "print(X.shape, y.shape)"
   ]
  },
  {
   "cell_type": "code",
   "execution_count": 9,
   "metadata": {
    "ExecuteTime": {
     "end_time": "2024-09-02T13:34:33.329846600Z",
     "start_time": "2024-09-02T13:34:33.179773500Z"
    }
   },
   "outputs": [],
   "source": [
    "# convert to numpy array\n",
    "X = np.array(X)\n",
    "y = np.array(y)"
   ]
  },
  {
   "cell_type": "code",
   "execution_count": 10,
   "metadata": {
    "colab": {},
    "colab_type": "code",
    "id": "L5edeb2r_agx",
    "ExecuteTime": {
     "end_time": "2024-09-02T13:34:35.018853300Z",
     "start_time": "2024-09-02T13:34:34.586936300Z"
    }
   },
   "outputs": [],
   "source": [
    "from sklearn.model_selection import train_test_split\n",
    "X_train, X_test, y_train, y_test = train_test_split(X,\n",
    "                                                    y,\n",
    "                                                    test_size = 0.4,\n",
    "                                                    random_state = 0)"
   ]
  },
  {
   "cell_type": "code",
   "execution_count": 11,
   "metadata": {
    "colab": {},
    "colab_type": "code",
    "id": "L5edeb2r_agx",
    "ExecuteTime": {
     "end_time": "2024-09-02T13:34:36.648557100Z",
     "start_time": "2024-09-02T13:34:36.570213700Z"
    }
   },
   "outputs": [],
   "source": [
    "X_val, X_test, y_val, y_test = train_test_split(X_test,\n",
    "                                                y_test,\n",
    "                                                test_size = 0.5,\n",
    "                                                random_state = 0)"
   ]
  },
  {
   "cell_type": "code",
   "execution_count": 13,
   "outputs": [
    {
     "name": "stdout",
     "output_type": "stream",
     "text": [
      "[[-0.55978115 -0.05784456 -1.29360313 -0.74826545  0.          1.        ]\n",
      " [-0.75477288  1.2072071   0.44084196  1.28434966  0.          1.        ]\n",
      " [ 1.00015269 -1.32289623  1.30806451 -1.32096885  0.          1.        ]\n",
      " ...\n",
      " [-1.14475634 -0.05784456 -1.29360313 -0.56394713  0.          1.        ]\n",
      " [-0.94976461 -0.05784456  0.44084196 -0.33703058  0.          1.        ]\n",
      " [-0.36478942 -1.32289623 -0.42638059 -1.23077811  0.          1.        ]]\n"
     ]
    }
   ],
   "source": [
    "from sklearn.preprocessing import StandardScaler\n",
    "#sc = StandardScaler()\n",
    "X_train[:,0:4] = sc.transform(X_train[:, 0:4])\n",
    "print (X_train)"
   ],
   "metadata": {
    "collapsed": false,
    "ExecuteTime": {
     "end_time": "2024-09-02T13:35:14.467751300Z",
     "start_time": "2024-09-02T13:35:14.213596900Z"
    }
   }
  },
  {
   "cell_type": "code",
   "execution_count": 14,
   "outputs": [
    {
     "name": "stdout",
     "output_type": "stream",
     "text": [
      "[[ 0.61016923 -1.32289623 -1.29360313 -1.4341024   0.          1.        ]\n",
      " [-0.94976461 -0.05784456 -1.29360313 -0.37264024  0.          1.        ]\n",
      " [-0.36478942  1.2072071  -0.42638059 -0.1819483   0.          1.        ]\n",
      " ...\n",
      " [ 1.00015269  1.2072071  -1.29360313 -0.49198344  0.          1.        ]\n",
      " [-0.75477288 -1.32289623 -1.29360313 -1.01255433  1.          0.        ]\n",
      " [ 1.39013615  1.2072071   0.44084196  0.98104546  0.          1.        ]]\n"
     ]
    }
   ],
   "source": [
    "X_test[:,0:4] = sc.transform(X_test[:,0:4])\n",
    "print (X_test)"
   ],
   "metadata": {
    "collapsed": false,
    "ExecuteTime": {
     "end_time": "2024-09-02T13:35:18.661546100Z",
     "start_time": "2024-09-02T13:35:18.428039300Z"
    }
   }
  },
  {
   "cell_type": "code",
   "execution_count": 15,
   "outputs": [
    {
     "name": "stdout",
     "output_type": "stream",
     "text": [
      "[[-1.72973152 -0.05784456  0.44084196 -0.05196482  0.          1.        ]\n",
      " [-1.33974807  1.2072071   0.44084196  2.56019929  1.          0.        ]\n",
      " [-0.36478942 -0.05784456 -0.42638059 -0.75774399  0.          1.        ]\n",
      " ...\n",
      " [-0.94976461  1.2072071  -0.42638059  0.33278541  0.          1.        ]\n",
      " [-1.33974807  1.2072071   1.30806451  1.7130975   0.          1.        ]\n",
      " [-1.72973152 -1.32289623 -1.29360313 -1.13374844  0.          1.        ]]\n"
     ]
    }
   ],
   "source": [
    "X_val[:,0:4] = sc.transform(X_val[:,0:4])\n",
    "print (X_val)"
   ],
   "metadata": {
    "collapsed": false,
    "ExecuteTime": {
     "end_time": "2024-09-02T13:35:20.916467700Z",
     "start_time": "2024-09-02T13:35:20.714334700Z"
    }
   }
  },
  {
   "cell_type": "code",
   "execution_count": 16,
   "outputs": [
    {
     "name": "stdout",
     "output_type": "stream",
     "text": [
      "X_train 16971\n",
      "X_test 5657\n",
      "X_val 5657\n"
     ]
    }
   ],
   "source": [
    "print (\"X_train\", len(X_train))\n",
    "print (\"X_test\", len(X_test))\n",
    "print (\"X_val\", len(X_val))"
   ],
   "metadata": {
    "collapsed": false,
    "ExecuteTime": {
     "end_time": "2024-09-02T13:35:23.007194400Z",
     "start_time": "2024-09-02T13:35:22.847531700Z"
    }
   }
  },
  {
   "cell_type": "markdown",
   "metadata": {
    "colab_type": "text",
    "id": "_mSLlAT9_eyI"
   },
   "source": [
    "## Part 3 - Building the ANN"
   ]
  },
  {
   "cell_type": "code",
   "execution_count": 15,
   "metadata": {
    "colab": {},
    "colab_type": "code",
    "id": "J6Hd97Ls__Nz",
    "ExecuteTime": {
     "end_time": "2024-08-15T06:06:17.083801300Z",
     "start_time": "2024-08-15T06:06:16.968739200Z"
    }
   },
   "outputs": [],
   "source": [
    "ann = tf.keras.models.Sequential()"
   ]
  },
  {
   "cell_type": "code",
   "execution_count": 16,
   "metadata": {
    "colab": {},
    "colab_type": "code",
    "id": "ksO_Vv40AHix",
    "ExecuteTime": {
     "end_time": "2024-08-15T06:06:17.465048300Z",
     "start_time": "2024-08-15T06:06:17.085801600Z"
    }
   },
   "outputs": [],
   "source": [
    "ann.add(tf.keras.layers.Dense(units=250,\n",
    "                              input_shape=(X_train.shape[1],),\n",
    "                              activation='relu'))\n",
    "ann.add(tf.keras.layers.Dense(units=225,\n",
    "                              activation='relu'))\n",
    "ann.add(tf.keras.layers.Dense(units=200,\n",
    "                              activation='relu'))\n",
    "ann.add(tf.keras.layers.Dense(units=175,\n",
    "                              activation='relu'))"
   ]
  },
  {
   "cell_type": "code",
   "execution_count": 17,
   "metadata": {
    "colab": {},
    "colab_type": "code",
    "id": "YFATpzsUAkLL",
    "ExecuteTime": {
     "end_time": "2024-08-15T06:06:17.511091100Z",
     "start_time": "2024-08-15T06:06:17.467048300Z"
    }
   },
   "outputs": [],
   "source": [
    "ann.add(tf.keras.layers.Dense(units=1,\n",
    "                              activation='linear'))"
   ]
  },
  {
   "cell_type": "code",
   "execution_count": 18,
   "metadata": {
    "ExecuteTime": {
     "end_time": "2024-08-15T06:06:17.950447700Z",
     "start_time": "2024-08-15T06:06:17.496577500Z"
    }
   },
   "outputs": [
    {
     "name": "stdout",
     "output_type": "stream",
     "text": [
      "Model: \"sequential\"\n",
      "_________________________________________________________________\n",
      " Layer (type)                Output Shape              Param #   \n",
      "=================================================================\n",
      " dense (Dense)               (None, 250)               1750      \n",
      "                                                                 \n",
      " dense_1 (Dense)             (None, 225)               56475     \n",
      "                                                                 \n",
      " dense_2 (Dense)             (None, 200)               45200     \n",
      "                                                                 \n",
      " dense_3 (Dense)             (None, 175)               35175     \n",
      "                                                                 \n",
      " dense_4 (Dense)             (None, 1)                 176       \n",
      "                                                                 \n",
      "=================================================================\n",
      "Total params: 138,776\n",
      "Trainable params: 138,776\n",
      "Non-trainable params: 0\n",
      "_________________________________________________________________\n"
     ]
    }
   ],
   "source": [
    "ann.summary()"
   ]
  },
  {
   "cell_type": "markdown",
   "metadata": {
    "colab_type": "text",
    "id": "fq7e4fF6A1yy"
   },
   "source": [
    "## Part 4 - Training the ANN"
   ]
  },
  {
   "cell_type": "code",
   "execution_count": 19,
   "metadata": {
    "colab": {},
    "colab_type": "code",
    "id": "pesgbWlCAtB4",
    "ExecuteTime": {
     "end_time": "2024-08-15T06:06:18.265746800Z",
     "start_time": "2024-08-15T06:06:17.880850500Z"
    }
   },
   "outputs": [],
   "source": [
    "# from tensorflow.keras.optimizers import Adam\n",
    "from keras.optimizers import Adam\n",
    "opt = Adam(learning_rate=0.001)\n",
    "ann.compile(optimizer = opt,\n",
    "            loss = 'mean_squared_error',\n",
    "            metrics = ['mae'])"
   ]
  },
  {
   "cell_type": "code",
   "execution_count": 20,
   "metadata": {
    "ExecuteTime": {
     "end_time": "2024-08-15T06:06:18.731188200Z",
     "start_time": "2024-08-15T06:06:18.267750700Z"
    }
   },
   "outputs": [],
   "source": [
    "# protects from unnecessary further training of the model if a particular metric does not continue to improve over a number of n epochs. In such a case, the model training would be automatically aborted.\n",
    "from keras.callbacks import EarlyStopping\n",
    "es = EarlyStopping(monitor='val_loss',\n",
    "                   mode='min',\n",
    "                   patience=50,\n",
    "                   restore_best_weights = True)"
   ]
  },
  {
   "cell_type": "code",
   "execution_count": 21,
   "metadata": {
    "colab": {
     "base_uri": "https://localhost:8080/",
     "height": 1000
    },
    "colab_type": "code",
    "id": "c_vV-tiiA5zn",
    "outputId": "4a2b6ee6-ed75-4698-9069-b250e613803f",
    "ExecuteTime": {
     "end_time": "2024-08-15T06:23:26.130587300Z",
     "start_time": "2024-08-15T06:06:18.733187100Z"
    }
   },
   "outputs": [
    {
     "name": "stdout",
     "output_type": "stream",
     "text": [
      "Epoch 1/500\n",
      "566/566 [==============================] - 38s 66ms/step - loss: 101283.9688 - mae: 112.5173 - val_loss: 79472.1406 - val_mae: 94.4369\n",
      "Epoch 2/500\n",
      "566/566 [==============================] - 3s 6ms/step - loss: 58608.9531 - mae: 76.7610 - val_loss: 36932.9727 - val_mae: 63.5012\n",
      "Epoch 3/500\n",
      "566/566 [==============================] - 3s 6ms/step - loss: 34761.3281 - mae: 55.1735 - val_loss: 33258.6992 - val_mae: 58.4299\n",
      "Epoch 4/500\n",
      "566/566 [==============================] - 3s 6ms/step - loss: 26606.7402 - mae: 46.6348 - val_loss: 16139.1553 - val_mae: 30.7234\n",
      "Epoch 5/500\n",
      "566/566 [==============================] - 3s 6ms/step - loss: 20844.8359 - mae: 39.4527 - val_loss: 71112.0312 - val_mae: 80.2044\n",
      "Epoch 6/500\n",
      "566/566 [==============================] - 3s 6ms/step - loss: 26939.8711 - mae: 46.9694 - val_loss: 13812.6455 - val_mae: 35.3340\n",
      "Epoch 7/500\n",
      "566/566 [==============================] - 3s 6ms/step - loss: 21481.0488 - mae: 40.4074 - val_loss: 181221.1719 - val_mae: 125.9723\n",
      "Epoch 8/500\n",
      "566/566 [==============================] - 4s 6ms/step - loss: 18900.4512 - mae: 40.2848 - val_loss: 50806.2305 - val_mae: 55.8954\n",
      "Epoch 9/500\n",
      "566/566 [==============================] - 3s 6ms/step - loss: 19183.7012 - mae: 39.9309 - val_loss: 14649.2129 - val_mae: 43.2393\n",
      "Epoch 10/500\n",
      "566/566 [==============================] - 3s 6ms/step - loss: 12259.0654 - mae: 31.5891 - val_loss: 4921.4097 - val_mae: 23.7554\n",
      "Epoch 11/500\n",
      "566/566 [==============================] - 3s 5ms/step - loss: 17947.0020 - mae: 36.6181 - val_loss: 8369.9678 - val_mae: 26.7940\n",
      "Epoch 12/500\n",
      "566/566 [==============================] - 3s 6ms/step - loss: 24510.0781 - mae: 42.4425 - val_loss: 26057.9844 - val_mae: 51.3628\n",
      "Epoch 13/500\n",
      "566/566 [==============================] - 4s 6ms/step - loss: 12269.4893 - mae: 30.3268 - val_loss: 9580.7051 - val_mae: 25.2546\n",
      "Epoch 14/500\n",
      "566/566 [==============================] - 3s 5ms/step - loss: 14680.4902 - mae: 34.8499 - val_loss: 63279.8164 - val_mae: 72.4408\n",
      "Epoch 15/500\n",
      "566/566 [==============================] - 3s 5ms/step - loss: 18747.6719 - mae: 38.9003 - val_loss: 8930.3770 - val_mae: 31.5344\n",
      "Epoch 16/500\n",
      "566/566 [==============================] - 3s 6ms/step - loss: 17960.2051 - mae: 34.7985 - val_loss: 6107.8599 - val_mae: 27.8985\n",
      "Epoch 17/500\n",
      "566/566 [==============================] - 3s 6ms/step - loss: 15860.0830 - mae: 33.6969 - val_loss: 12508.4785 - val_mae: 32.0461\n",
      "Epoch 18/500\n",
      "566/566 [==============================] - 3s 6ms/step - loss: 13519.9072 - mae: 30.2295 - val_loss: 64967.4062 - val_mae: 60.9926\n",
      "Epoch 19/500\n",
      "566/566 [==============================] - 3s 5ms/step - loss: 17526.4766 - mae: 34.0224 - val_loss: 3662.0100 - val_mae: 17.2041\n",
      "Epoch 20/500\n",
      "566/566 [==============================] - 3s 6ms/step - loss: 8377.6338 - mae: 23.1045 - val_loss: 3859.3481 - val_mae: 14.8330\n",
      "Epoch 21/500\n",
      "566/566 [==============================] - 3s 6ms/step - loss: 19530.3223 - mae: 36.6982 - val_loss: 5439.5010 - val_mae: 19.6137\n",
      "Epoch 22/500\n",
      "566/566 [==============================] - 3s 6ms/step - loss: 16696.8574 - mae: 30.2127 - val_loss: 30309.3828 - val_mae: 42.2654\n",
      "Epoch 23/500\n",
      "566/566 [==============================] - 3s 6ms/step - loss: 13612.8682 - mae: 29.0230 - val_loss: 6361.9614 - val_mae: 19.4189\n",
      "Epoch 24/500\n",
      "566/566 [==============================] - 3s 6ms/step - loss: 8794.4590 - mae: 22.9765 - val_loss: 7304.8413 - val_mae: 24.1721\n",
      "Epoch 25/500\n",
      "566/566 [==============================] - 3s 6ms/step - loss: 17536.6934 - mae: 32.0380 - val_loss: 11919.3281 - val_mae: 21.6444\n",
      "Epoch 26/500\n",
      "566/566 [==============================] - 3s 6ms/step - loss: 18576.2324 - mae: 32.9924 - val_loss: 5236.6655 - val_mae: 21.1064\n",
      "Epoch 27/500\n",
      "566/566 [==============================] - 3s 6ms/step - loss: 23049.8965 - mae: 37.8041 - val_loss: 14056.7139 - val_mae: 31.5587\n",
      "Epoch 28/500\n",
      "566/566 [==============================] - 3s 6ms/step - loss: 9590.7930 - mae: 23.5722 - val_loss: 22405.2051 - val_mae: 29.8214\n",
      "Epoch 29/500\n",
      "566/566 [==============================] - 3s 6ms/step - loss: 12551.6387 - mae: 26.4907 - val_loss: 10951.1104 - val_mae: 21.5598\n",
      "Epoch 30/500\n",
      "566/566 [==============================] - 3s 6ms/step - loss: 15239.5449 - mae: 29.5063 - val_loss: 17456.1973 - val_mae: 34.1034\n",
      "Epoch 31/500\n",
      "566/566 [==============================] - 4s 7ms/step - loss: 12851.8477 - mae: 26.8437 - val_loss: 3976.5076 - val_mae: 17.2881\n",
      "Epoch 32/500\n",
      "566/566 [==============================] - 3s 6ms/step - loss: 9719.4531 - mae: 23.6546 - val_loss: 22135.0156 - val_mae: 31.5067\n",
      "Epoch 33/500\n",
      "566/566 [==============================] - 3s 6ms/step - loss: 11271.9570 - mae: 25.1799 - val_loss: 7940.0674 - val_mae: 22.3217\n",
      "Epoch 34/500\n",
      "566/566 [==============================] - 3s 6ms/step - loss: 8400.5410 - mae: 22.3445 - val_loss: 3289.1047 - val_mae: 13.4587\n",
      "Epoch 35/500\n",
      "566/566 [==============================] - 3s 6ms/step - loss: 10481.5176 - mae: 24.5033 - val_loss: 9651.6533 - val_mae: 31.0158\n",
      "Epoch 36/500\n",
      "566/566 [==============================] - 3s 6ms/step - loss: 7971.0498 - mae: 21.4303 - val_loss: 12874.2432 - val_mae: 22.2250\n",
      "Epoch 37/500\n",
      "566/566 [==============================] - 3s 6ms/step - loss: 10455.0596 - mae: 24.2218 - val_loss: 3612.4324 - val_mae: 18.6210\n",
      "Epoch 38/500\n",
      "566/566 [==============================] - 3s 6ms/step - loss: 14478.3574 - mae: 28.9392 - val_loss: 3239.0503 - val_mae: 17.5035\n",
      "Epoch 39/500\n",
      "566/566 [==============================] - 3s 6ms/step - loss: 12856.8965 - mae: 26.2520 - val_loss: 4591.1548 - val_mae: 22.5564\n",
      "Epoch 40/500\n",
      "566/566 [==============================] - 3s 6ms/step - loss: 6043.5049 - mae: 19.8978 - val_loss: 3679.4297 - val_mae: 22.0531\n",
      "Epoch 41/500\n",
      "566/566 [==============================] - 3s 6ms/step - loss: 8952.6396 - mae: 21.6484 - val_loss: 57325.6562 - val_mae: 60.9864\n",
      "Epoch 42/500\n",
      "566/566 [==============================] - 3s 6ms/step - loss: 14960.6104 - mae: 27.7967 - val_loss: 45294.0156 - val_mae: 48.7915\n",
      "Epoch 43/500\n",
      "566/566 [==============================] - 3s 6ms/step - loss: 10705.2490 - mae: 23.2132 - val_loss: 13284.9805 - val_mae: 29.1838\n",
      "Epoch 44/500\n",
      "566/566 [==============================] - 3s 6ms/step - loss: 6904.2822 - mae: 19.4415 - val_loss: 15344.9688 - val_mae: 29.2050\n",
      "Epoch 45/500\n",
      "566/566 [==============================] - 3s 6ms/step - loss: 9505.0107 - mae: 21.6009 - val_loss: 4981.3179 - val_mae: 17.4896\n",
      "Epoch 46/500\n",
      "566/566 [==============================] - 3s 6ms/step - loss: 15314.4961 - mae: 27.7107 - val_loss: 9932.8311 - val_mae: 25.5612\n",
      "Epoch 47/500\n",
      "566/566 [==============================] - 3s 6ms/step - loss: 7927.9399 - mae: 21.0106 - val_loss: 3935.1387 - val_mae: 15.9292\n",
      "Epoch 48/500\n",
      "566/566 [==============================] - 3s 6ms/step - loss: 7116.3936 - mae: 19.1366 - val_loss: 1779.5626 - val_mae: 12.2362\n",
      "Epoch 49/500\n",
      "566/566 [==============================] - 3s 6ms/step - loss: 13142.8613 - mae: 25.9833 - val_loss: 2787.6526 - val_mae: 18.3880\n",
      "Epoch 50/500\n",
      "566/566 [==============================] - 3s 6ms/step - loss: 7582.7021 - mae: 20.5130 - val_loss: 2138.8408 - val_mae: 11.8083\n",
      "Epoch 51/500\n",
      "566/566 [==============================] - 3s 6ms/step - loss: 10154.2979 - mae: 24.1356 - val_loss: 12058.0127 - val_mae: 21.8821\n",
      "Epoch 52/500\n",
      "566/566 [==============================] - 4s 6ms/step - loss: 10771.4971 - mae: 21.3071 - val_loss: 9818.9893 - val_mae: 24.6897\n",
      "Epoch 53/500\n",
      "566/566 [==============================] - 4s 7ms/step - loss: 10434.7881 - mae: 23.5884 - val_loss: 2687.2190 - val_mae: 13.7994\n",
      "Epoch 54/500\n",
      "566/566 [==============================] - 3s 5ms/step - loss: 4700.3887 - mae: 15.2029 - val_loss: 6706.7109 - val_mae: 15.2764\n",
      "Epoch 55/500\n",
      "566/566 [==============================] - 3s 6ms/step - loss: 6970.4399 - mae: 19.1827 - val_loss: 2931.6465 - val_mae: 13.1420\n",
      "Epoch 56/500\n",
      "566/566 [==============================] - 3s 6ms/step - loss: 6080.1323 - mae: 19.0676 - val_loss: 58827.6289 - val_mae: 58.8034\n",
      "Epoch 57/500\n",
      "566/566 [==============================] - 3s 6ms/step - loss: 8620.5684 - mae: 20.9674 - val_loss: 3051.3220 - val_mae: 16.5541\n",
      "Epoch 58/500\n",
      "566/566 [==============================] - 3s 6ms/step - loss: 4390.9028 - mae: 15.4162 - val_loss: 2450.8687 - val_mae: 15.3290\n",
      "Epoch 59/500\n",
      "566/566 [==============================] - 3s 6ms/step - loss: 16091.3330 - mae: 29.6240 - val_loss: 7686.1133 - val_mae: 24.8855\n",
      "Epoch 60/500\n",
      "566/566 [==============================] - 3s 6ms/step - loss: 9799.2842 - mae: 23.6587 - val_loss: 5705.4116 - val_mae: 18.2069\n",
      "Epoch 61/500\n",
      "566/566 [==============================] - 3s 6ms/step - loss: 7006.3325 - mae: 20.5691 - val_loss: 51780.2070 - val_mae: 42.8936\n",
      "Epoch 62/500\n",
      "566/566 [==============================] - 3s 6ms/step - loss: 8034.5522 - mae: 21.3499 - val_loss: 1997.2599 - val_mae: 12.7608\n",
      "Epoch 63/500\n",
      "566/566 [==============================] - 4s 6ms/step - loss: 6269.6919 - mae: 18.2844 - val_loss: 3764.5859 - val_mae: 16.3941\n",
      "Epoch 64/500\n",
      "566/566 [==============================] - 3s 6ms/step - loss: 3092.8730 - mae: 13.7412 - val_loss: 4616.1016 - val_mae: 17.5386\n",
      "Epoch 65/500\n",
      "566/566 [==============================] - 3s 6ms/step - loss: 7712.5190 - mae: 20.1080 - val_loss: 3637.9172 - val_mae: 13.6355\n",
      "Epoch 66/500\n",
      "566/566 [==============================] - 3s 6ms/step - loss: 11894.2490 - mae: 28.3051 - val_loss: 2071.6921 - val_mae: 12.3742\n",
      "Epoch 67/500\n",
      "566/566 [==============================] - 3s 6ms/step - loss: 13377.3379 - mae: 25.1345 - val_loss: 6300.1924 - val_mae: 24.9804\n",
      "Epoch 68/500\n",
      "566/566 [==============================] - 4s 7ms/step - loss: 11205.4482 - mae: 21.9324 - val_loss: 6884.8423 - val_mae: 21.0209\n",
      "Epoch 69/500\n",
      "566/566 [==============================] - 3s 6ms/step - loss: 4854.1133 - mae: 16.3135 - val_loss: 1872.6453 - val_mae: 11.1596\n",
      "Epoch 70/500\n",
      "566/566 [==============================] - 3s 6ms/step - loss: 8429.5986 - mae: 20.2368 - val_loss: 5868.1519 - val_mae: 15.1516\n",
      "Epoch 71/500\n",
      "566/566 [==============================] - 4s 6ms/step - loss: 4519.6787 - mae: 16.9257 - val_loss: 3862.6255 - val_mae: 19.5090\n",
      "Epoch 72/500\n",
      "566/566 [==============================] - 3s 6ms/step - loss: 6280.0938 - mae: 17.9018 - val_loss: 1727.7009 - val_mae: 11.6411\n",
      "Epoch 73/500\n",
      "566/566 [==============================] - 3s 6ms/step - loss: 10630.4014 - mae: 21.8859 - val_loss: 2802.3269 - val_mae: 12.0243\n",
      "Epoch 74/500\n",
      "566/566 [==============================] - 3s 6ms/step - loss: 5383.2056 - mae: 17.8736 - val_loss: 7617.9819 - val_mae: 18.9566\n",
      "Epoch 75/500\n",
      "566/566 [==============================] - 3s 6ms/step - loss: 6060.4146 - mae: 18.0476 - val_loss: 3875.6121 - val_mae: 22.0549\n",
      "Epoch 76/500\n",
      "566/566 [==============================] - 3s 6ms/step - loss: 7672.9316 - mae: 19.1437 - val_loss: 3533.4783 - val_mae: 16.5241\n",
      "Epoch 77/500\n",
      "566/566 [==============================] - 3s 6ms/step - loss: 6620.2788 - mae: 18.1973 - val_loss: 2555.4480 - val_mae: 12.9094\n",
      "Epoch 78/500\n",
      "566/566 [==============================] - 4s 6ms/step - loss: 5141.3989 - mae: 15.7437 - val_loss: 3562.9004 - val_mae: 21.6396\n",
      "Epoch 79/500\n",
      "566/566 [==============================] - 3s 6ms/step - loss: 9034.3809 - mae: 20.5050 - val_loss: 2823.1819 - val_mae: 12.6455\n",
      "Epoch 80/500\n",
      "566/566 [==============================] - 3s 6ms/step - loss: 6153.0049 - mae: 16.3007 - val_loss: 2531.1135 - val_mae: 13.0832\n",
      "Epoch 81/500\n",
      "566/566 [==============================] - 3s 6ms/step - loss: 7691.7739 - mae: 19.4844 - val_loss: 5666.3755 - val_mae: 17.6846\n",
      "Epoch 82/500\n",
      "566/566 [==============================] - 4s 7ms/step - loss: 5051.9243 - mae: 16.8417 - val_loss: 1994.4907 - val_mae: 9.9644\n",
      "Epoch 83/500\n",
      "566/566 [==============================] - 3s 6ms/step - loss: 4419.0513 - mae: 15.6001 - val_loss: 36200.6680 - val_mae: 41.2291\n",
      "Epoch 84/500\n",
      "566/566 [==============================] - 3s 6ms/step - loss: 8522.8037 - mae: 21.8963 - val_loss: 7572.7212 - val_mae: 32.3693\n",
      "Epoch 85/500\n",
      "566/566 [==============================] - 3s 6ms/step - loss: 7255.0034 - mae: 19.2085 - val_loss: 2596.6226 - val_mae: 13.7288\n",
      "Epoch 86/500\n",
      "566/566 [==============================] - 3s 6ms/step - loss: 4895.0923 - mae: 16.2562 - val_loss: 1244.4855 - val_mae: 9.5096\n",
      "Epoch 87/500\n",
      "566/566 [==============================] - 3s 6ms/step - loss: 10213.8828 - mae: 24.8486 - val_loss: 2623.0027 - val_mae: 12.0568\n",
      "Epoch 88/500\n",
      "566/566 [==============================] - 3s 6ms/step - loss: 5247.6377 - mae: 16.7241 - val_loss: 1754.6462 - val_mae: 10.8911\n",
      "Epoch 89/500\n",
      "566/566 [==============================] - 3s 6ms/step - loss: 10443.7842 - mae: 21.9259 - val_loss: 6339.6968 - val_mae: 20.7309\n",
      "Epoch 90/500\n",
      "566/566 [==============================] - 3s 6ms/step - loss: 3329.5623 - mae: 13.6317 - val_loss: 1466.3851 - val_mae: 10.4879\n",
      "Epoch 91/500\n",
      "566/566 [==============================] - 3s 6ms/step - loss: 5869.6665 - mae: 17.1223 - val_loss: 5487.5166 - val_mae: 22.0997\n",
      "Epoch 92/500\n",
      "566/566 [==============================] - 3s 6ms/step - loss: 4663.5181 - mae: 15.8785 - val_loss: 1294.8311 - val_mae: 9.4632\n",
      "Epoch 93/500\n",
      "566/566 [==============================] - 3s 6ms/step - loss: 8299.1914 - mae: 20.0411 - val_loss: 3423.3193 - val_mae: 16.2698\n",
      "Epoch 94/500\n",
      "566/566 [==============================] - 3s 6ms/step - loss: 6428.2744 - mae: 18.1242 - val_loss: 3703.4001 - val_mae: 15.7404\n",
      "Epoch 95/500\n",
      "566/566 [==============================] - 3s 6ms/step - loss: 7341.9941 - mae: 19.1832 - val_loss: 8557.8467 - val_mae: 22.3757\n",
      "Epoch 96/500\n",
      "566/566 [==============================] - 3s 6ms/step - loss: 3170.8601 - mae: 13.2073 - val_loss: 4064.9927 - val_mae: 14.3196\n",
      "Epoch 97/500\n",
      "566/566 [==============================] - 3s 6ms/step - loss: 5021.5005 - mae: 17.2483 - val_loss: 6010.9189 - val_mae: 17.6243\n",
      "Epoch 98/500\n",
      "566/566 [==============================] - 3s 6ms/step - loss: 5036.0713 - mae: 16.2223 - val_loss: 5086.4272 - val_mae: 17.2047\n",
      "Epoch 99/500\n",
      "566/566 [==============================] - 3s 6ms/step - loss: 4611.5493 - mae: 15.0137 - val_loss: 1798.3131 - val_mae: 9.8373\n",
      "Epoch 100/500\n",
      "566/566 [==============================] - 3s 6ms/step - loss: 7872.1675 - mae: 18.0658 - val_loss: 2830.4160 - val_mae: 13.4429\n",
      "Epoch 101/500\n",
      "566/566 [==============================] - 3s 6ms/step - loss: 4788.2393 - mae: 15.3544 - val_loss: 1292.8424 - val_mae: 10.0129\n",
      "Epoch 102/500\n",
      "566/566 [==============================] - 3s 6ms/step - loss: 2517.7144 - mae: 12.8230 - val_loss: 2347.0146 - val_mae: 16.2592\n",
      "Epoch 103/500\n",
      "566/566 [==============================] - 3s 5ms/step - loss: 4163.7856 - mae: 14.4665 - val_loss: 7498.1997 - val_mae: 18.6915\n",
      "Epoch 104/500\n",
      "566/566 [==============================] - 4s 7ms/step - loss: 6417.0664 - mae: 18.1525 - val_loss: 2879.2998 - val_mae: 14.8648\n",
      "Epoch 105/500\n",
      "566/566 [==============================] - 3s 6ms/step - loss: 6038.8086 - mae: 17.6829 - val_loss: 1985.1653 - val_mae: 11.6860\n",
      "Epoch 106/500\n",
      "566/566 [==============================] - 3s 6ms/step - loss: 8022.6738 - mae: 19.8837 - val_loss: 17472.1484 - val_mae: 25.4043\n",
      "Epoch 107/500\n",
      "566/566 [==============================] - 4s 6ms/step - loss: 2422.0474 - mae: 12.7423 - val_loss: 5237.1753 - val_mae: 17.7034\n",
      "Epoch 108/500\n",
      "566/566 [==============================] - 12s 20ms/step - loss: 4986.4326 - mae: 16.0809 - val_loss: 2154.8997 - val_mae: 12.6538\n",
      "Epoch 109/500\n",
      "566/566 [==============================] - 4s 7ms/step - loss: 4402.3633 - mae: 15.5453 - val_loss: 1317.8353 - val_mae: 9.2932\n",
      "Epoch 110/500\n",
      "566/566 [==============================] - 3s 6ms/step - loss: 2953.7251 - mae: 13.7799 - val_loss: 3980.5667 - val_mae: 12.8584\n",
      "Epoch 111/500\n",
      "566/566 [==============================] - 3s 6ms/step - loss: 3277.2424 - mae: 13.7119 - val_loss: 4719.5620 - val_mae: 19.9815\n",
      "Epoch 112/500\n",
      "566/566 [==============================] - 4s 7ms/step - loss: 6311.7671 - mae: 17.4741 - val_loss: 8583.5400 - val_mae: 27.0732\n",
      "Epoch 113/500\n",
      "566/566 [==============================] - 3s 6ms/step - loss: 6795.5156 - mae: 18.5543 - val_loss: 8192.6182 - val_mae: 19.7195\n",
      "Epoch 114/500\n",
      "566/566 [==============================] - 4s 6ms/step - loss: 6347.4302 - mae: 17.2105 - val_loss: 1277.7397 - val_mae: 9.1613\n",
      "Epoch 115/500\n",
      "566/566 [==============================] - 3s 6ms/step - loss: 4041.0969 - mae: 14.5474 - val_loss: 6141.3730 - val_mae: 19.3646\n",
      "Epoch 116/500\n",
      "566/566 [==============================] - 3s 6ms/step - loss: 6643.5913 - mae: 17.2937 - val_loss: 3463.8530 - val_mae: 17.0750\n",
      "Epoch 117/500\n",
      "566/566 [==============================] - 3s 6ms/step - loss: 3808.3428 - mae: 14.6052 - val_loss: 8806.9072 - val_mae: 21.5130\n",
      "Epoch 118/500\n",
      "566/566 [==============================] - 3s 6ms/step - loss: 2628.7939 - mae: 13.0639 - val_loss: 1172.1693 - val_mae: 8.9545\n",
      "Epoch 119/500\n",
      "566/566 [==============================] - 3s 6ms/step - loss: 2363.3293 - mae: 12.0359 - val_loss: 7664.7622 - val_mae: 22.9451\n",
      "Epoch 120/500\n",
      "566/566 [==============================] - 4s 6ms/step - loss: 5714.3916 - mae: 16.7384 - val_loss: 1253.2733 - val_mae: 10.4333\n",
      "Epoch 121/500\n",
      "566/566 [==============================] - 3s 6ms/step - loss: 4070.1257 - mae: 14.6154 - val_loss: 7329.4380 - val_mae: 22.1978\n",
      "Epoch 122/500\n",
      "566/566 [==============================] - 3s 6ms/step - loss: 3395.8743 - mae: 14.7167 - val_loss: 1686.7244 - val_mae: 11.3319\n",
      "Epoch 123/500\n",
      "566/566 [==============================] - 3s 6ms/step - loss: 5427.7856 - mae: 15.8009 - val_loss: 1310.4161 - val_mae: 9.7998\n",
      "Epoch 124/500\n",
      "566/566 [==============================] - 3s 6ms/step - loss: 3411.6340 - mae: 12.7672 - val_loss: 3432.4016 - val_mae: 12.8173\n",
      "Epoch 125/500\n",
      "566/566 [==============================] - 3s 6ms/step - loss: 2286.6638 - mae: 12.0456 - val_loss: 970.0094 - val_mae: 9.9900\n",
      "Epoch 126/500\n",
      "566/566 [==============================] - 3s 6ms/step - loss: 3632.6531 - mae: 13.7875 - val_loss: 2738.4448 - val_mae: 12.7537\n",
      "Epoch 127/500\n",
      "566/566 [==============================] - 3s 6ms/step - loss: 6469.5679 - mae: 16.8496 - val_loss: 1971.0742 - val_mae: 10.8718\n",
      "Epoch 128/500\n",
      "566/566 [==============================] - 3s 6ms/step - loss: 5354.4663 - mae: 14.9479 - val_loss: 1609.4861 - val_mae: 9.6369\n",
      "Epoch 129/500\n",
      "566/566 [==============================] - 3s 6ms/step - loss: 3369.0090 - mae: 13.1817 - val_loss: 2512.8672 - val_mae: 9.7032\n",
      "Epoch 130/500\n",
      "566/566 [==============================] - 4s 6ms/step - loss: 2807.8359 - mae: 12.3589 - val_loss: 977.0413 - val_mae: 8.1284\n",
      "Epoch 131/500\n",
      "566/566 [==============================] - 3s 6ms/step - loss: 2860.2573 - mae: 12.2252 - val_loss: 1021.8884 - val_mae: 9.5312\n",
      "Epoch 132/500\n",
      "566/566 [==============================] - 3s 6ms/step - loss: 2702.0767 - mae: 13.2828 - val_loss: 3832.0806 - val_mae: 13.1723\n",
      "Epoch 133/500\n",
      "566/566 [==============================] - 3s 6ms/step - loss: 5228.4053 - mae: 15.5313 - val_loss: 1118.4386 - val_mae: 9.6148\n",
      "Epoch 134/500\n",
      "566/566 [==============================] - 3s 6ms/step - loss: 3156.3506 - mae: 12.9754 - val_loss: 1344.1859 - val_mae: 9.9400\n",
      "Epoch 135/500\n",
      "566/566 [==============================] - 4s 7ms/step - loss: 3986.9155 - mae: 12.5286 - val_loss: 1062.5659 - val_mae: 8.7226\n",
      "Epoch 136/500\n",
      "566/566 [==============================] - 3s 6ms/step - loss: 1997.7484 - mae: 10.6487 - val_loss: 3249.5005 - val_mae: 14.7520\n",
      "Epoch 137/500\n",
      "566/566 [==============================] - 3s 6ms/step - loss: 5787.2173 - mae: 15.6820 - val_loss: 1068.4725 - val_mae: 9.4664\n",
      "Epoch 138/500\n",
      "566/566 [==============================] - 3s 6ms/step - loss: 1483.6001 - mae: 10.0853 - val_loss: 1150.2793 - val_mae: 10.9429\n",
      "Epoch 139/500\n",
      "566/566 [==============================] - 3s 6ms/step - loss: 2838.5723 - mae: 13.6440 - val_loss: 1615.2911 - val_mae: 10.9227\n",
      "Epoch 140/500\n",
      "566/566 [==============================] - 4s 7ms/step - loss: 5488.8340 - mae: 16.3383 - val_loss: 1015.9916 - val_mae: 8.4104\n",
      "Epoch 141/500\n",
      "566/566 [==============================] - 3s 6ms/step - loss: 1887.9373 - mae: 10.7147 - val_loss: 3718.3401 - val_mae: 14.1213\n",
      "Epoch 142/500\n",
      "566/566 [==============================] - 3s 6ms/step - loss: 3204.4324 - mae: 13.7376 - val_loss: 1517.6832 - val_mae: 9.8890\n",
      "Epoch 143/500\n",
      "566/566 [==============================] - 4s 6ms/step - loss: 2353.0950 - mae: 11.8952 - val_loss: 2639.1079 - val_mae: 14.9024\n",
      "Epoch 144/500\n",
      "566/566 [==============================] - 4s 7ms/step - loss: 2852.3345 - mae: 13.0435 - val_loss: 2075.9971 - val_mae: 12.8864\n",
      "Epoch 145/500\n",
      "566/566 [==============================] - 3s 6ms/step - loss: 3322.6277 - mae: 14.1427 - val_loss: 1542.6165 - val_mae: 11.0629\n",
      "Epoch 146/500\n",
      "566/566 [==============================] - 3s 6ms/step - loss: 3556.6482 - mae: 13.3845 - val_loss: 977.2057 - val_mae: 8.2535\n",
      "Epoch 147/500\n",
      "566/566 [==============================] - 4s 6ms/step - loss: 1426.2631 - mae: 9.7400 - val_loss: 1975.6707 - val_mae: 9.8526\n",
      "Epoch 148/500\n",
      "566/566 [==============================] - 3s 6ms/step - loss: 3099.1150 - mae: 13.8960 - val_loss: 1481.2339 - val_mae: 9.4337\n",
      "Epoch 149/500\n",
      "566/566 [==============================] - 3s 6ms/step - loss: 1819.5682 - mae: 10.4896 - val_loss: 2291.1257 - val_mae: 13.4975\n",
      "Epoch 150/500\n",
      "566/566 [==============================] - 3s 6ms/step - loss: 2146.9756 - mae: 10.9522 - val_loss: 7398.0210 - val_mae: 22.1512\n",
      "Epoch 151/500\n",
      "566/566 [==============================] - 4s 6ms/step - loss: 6727.1147 - mae: 19.3424 - val_loss: 2953.0483 - val_mae: 14.5859\n",
      "Epoch 152/500\n",
      "566/566 [==============================] - 3s 6ms/step - loss: 2574.7512 - mae: 11.7776 - val_loss: 1832.3778 - val_mae: 9.4455\n",
      "Epoch 153/500\n",
      "566/566 [==============================] - 3s 6ms/step - loss: 2145.4348 - mae: 11.6358 - val_loss: 1512.6896 - val_mae: 9.6692\n",
      "Epoch 154/500\n",
      "566/566 [==============================] - 3s 6ms/step - loss: 1809.7397 - mae: 10.8306 - val_loss: 1649.6403 - val_mae: 11.2493\n",
      "Epoch 155/500\n",
      "566/566 [==============================] - 3s 6ms/step - loss: 4214.3457 - mae: 14.1073 - val_loss: 1282.5205 - val_mae: 9.9946\n",
      "Epoch 156/500\n",
      "566/566 [==============================] - 3s 6ms/step - loss: 3979.2205 - mae: 12.3305 - val_loss: 2492.9048 - val_mae: 11.2718\n",
      "Epoch 157/500\n",
      "566/566 [==============================] - 3s 6ms/step - loss: 2567.9575 - mae: 12.7643 - val_loss: 974.8406 - val_mae: 8.5441\n",
      "Epoch 158/500\n",
      "566/566 [==============================] - 3s 6ms/step - loss: 2214.9604 - mae: 11.0797 - val_loss: 12447.2744 - val_mae: 27.6988\n",
      "Epoch 159/500\n",
      "566/566 [==============================] - 3s 6ms/step - loss: 2818.4714 - mae: 11.9703 - val_loss: 11327.1299 - val_mae: 19.7634\n",
      "Epoch 160/500\n",
      "566/566 [==============================] - 3s 6ms/step - loss: 2690.7078 - mae: 12.5145 - val_loss: 1480.3346 - val_mae: 12.2090\n",
      "Epoch 161/500\n",
      "566/566 [==============================] - 3s 6ms/step - loss: 3760.7224 - mae: 14.0861 - val_loss: 3647.1802 - val_mae: 17.0472\n",
      "Epoch 162/500\n",
      "566/566 [==============================] - 4s 7ms/step - loss: 5203.4551 - mae: 15.1782 - val_loss: 1314.7039 - val_mae: 8.9620\n",
      "Epoch 163/500\n",
      "566/566 [==============================] - 3s 6ms/step - loss: 1271.2560 - mae: 8.8087 - val_loss: 937.3976 - val_mae: 10.2189\n",
      "Epoch 164/500\n",
      "566/566 [==============================] - 3s 6ms/step - loss: 1832.0206 - mae: 9.7142 - val_loss: 1320.9159 - val_mae: 8.8397\n",
      "Epoch 165/500\n",
      "566/566 [==============================] - 3s 6ms/step - loss: 1202.8490 - mae: 8.8799 - val_loss: 1180.1268 - val_mae: 10.3557\n",
      "Epoch 166/500\n",
      "566/566 [==============================] - 3s 6ms/step - loss: 2857.0850 - mae: 12.9452 - val_loss: 3445.1763 - val_mae: 14.7282\n",
      "Epoch 167/500\n",
      "566/566 [==============================] - 3s 6ms/step - loss: 3062.5112 - mae: 12.8675 - val_loss: 1128.3160 - val_mae: 8.4445\n",
      "Epoch 168/500\n",
      "566/566 [==============================] - 3s 6ms/step - loss: 1492.3350 - mae: 9.4317 - val_loss: 1788.6603 - val_mae: 9.5083\n",
      "Epoch 169/500\n",
      "566/566 [==============================] - 3s 6ms/step - loss: 3120.0276 - mae: 13.4713 - val_loss: 1351.3838 - val_mae: 10.0843\n",
      "Epoch 170/500\n",
      "566/566 [==============================] - 3s 6ms/step - loss: 2416.3809 - mae: 11.4924 - val_loss: 3153.8643 - val_mae: 14.6371\n",
      "Epoch 171/500\n",
      "566/566 [==============================] - 3s 6ms/step - loss: 2259.0483 - mae: 11.6576 - val_loss: 698.2256 - val_mae: 7.3302\n",
      "Epoch 172/500\n",
      "566/566 [==============================] - 3s 6ms/step - loss: 1944.7101 - mae: 11.4004 - val_loss: 629.9348 - val_mae: 7.2938\n",
      "Epoch 173/500\n",
      "566/566 [==============================] - 3s 6ms/step - loss: 3202.9346 - mae: 13.3244 - val_loss: 1463.0763 - val_mae: 10.0890\n",
      "Epoch 174/500\n",
      "566/566 [==============================] - 3s 6ms/step - loss: 3271.8381 - mae: 13.3645 - val_loss: 1129.2654 - val_mae: 9.4687\n",
      "Epoch 175/500\n",
      "566/566 [==============================] - 3s 6ms/step - loss: 1066.9550 - mae: 8.9137 - val_loss: 1148.4062 - val_mae: 9.5067\n",
      "Epoch 176/500\n",
      "566/566 [==============================] - 4s 7ms/step - loss: 3829.2607 - mae: 14.2072 - val_loss: 2841.5903 - val_mae: 18.9119\n",
      "Epoch 177/500\n",
      "566/566 [==============================] - 3s 6ms/step - loss: 2746.0991 - mae: 12.7173 - val_loss: 1078.9368 - val_mae: 9.1303\n",
      "Epoch 178/500\n",
      "566/566 [==============================] - 3s 6ms/step - loss: 3305.1189 - mae: 12.5561 - val_loss: 1145.1948 - val_mae: 8.6757\n",
      "Epoch 179/500\n",
      "566/566 [==============================] - 3s 6ms/step - loss: 2994.8542 - mae: 12.3549 - val_loss: 2942.6133 - val_mae: 12.2738\n",
      "Epoch 180/500\n",
      "566/566 [==============================] - 3s 5ms/step - loss: 3397.5779 - mae: 14.0099 - val_loss: 8861.1133 - val_mae: 21.1537\n",
      "Epoch 181/500\n",
      "566/566 [==============================] - 3s 6ms/step - loss: 2104.1230 - mae: 11.0110 - val_loss: 942.4059 - val_mae: 8.5679\n",
      "Epoch 182/500\n",
      "566/566 [==============================] - 3s 6ms/step - loss: 2019.6714 - mae: 10.4808 - val_loss: 1899.0479 - val_mae: 9.7608\n",
      "Epoch 183/500\n",
      "566/566 [==============================] - 3s 6ms/step - loss: 3060.0105 - mae: 12.6578 - val_loss: 1978.9097 - val_mae: 10.8315\n",
      "Epoch 184/500\n",
      "566/566 [==============================] - 3s 6ms/step - loss: 1328.4818 - mae: 8.7559 - val_loss: 5670.1289 - val_mae: 15.9298\n",
      "Epoch 185/500\n",
      "566/566 [==============================] - 3s 6ms/step - loss: 3095.9126 - mae: 12.5192 - val_loss: 1078.3608 - val_mae: 9.3510\n",
      "Epoch 186/500\n",
      "566/566 [==============================] - 3s 6ms/step - loss: 2337.7410 - mae: 11.0112 - val_loss: 709.4476 - val_mae: 7.1529\n",
      "Epoch 187/500\n",
      "566/566 [==============================] - 3s 6ms/step - loss: 1911.8998 - mae: 10.1593 - val_loss: 2381.7087 - val_mae: 11.3541\n",
      "Epoch 188/500\n",
      "566/566 [==============================] - 3s 6ms/step - loss: 1754.1671 - mae: 10.3329 - val_loss: 985.5602 - val_mae: 9.7927\n",
      "Epoch 189/500\n",
      "566/566 [==============================] - 3s 6ms/step - loss: 5246.3467 - mae: 15.3788 - val_loss: 1976.9637 - val_mae: 8.4822\n",
      "Epoch 190/500\n",
      "566/566 [==============================] - 3s 6ms/step - loss: 3128.6143 - mae: 13.2229 - val_loss: 1624.1404 - val_mae: 10.2935\n",
      "Epoch 191/500\n",
      "566/566 [==============================] - 3s 6ms/step - loss: 1435.7334 - mae: 9.3071 - val_loss: 838.0552 - val_mae: 7.8660\n",
      "Epoch 192/500\n",
      "566/566 [==============================] - 3s 6ms/step - loss: 2831.3135 - mae: 11.8382 - val_loss: 2323.2361 - val_mae: 12.2356\n",
      "Epoch 193/500\n",
      "566/566 [==============================] - 3s 5ms/step - loss: 2022.3756 - mae: 10.8316 - val_loss: 15715.4902 - val_mae: 29.9692\n",
      "Epoch 194/500\n",
      "566/566 [==============================] - 3s 6ms/step - loss: 2550.5610 - mae: 10.8576 - val_loss: 10812.2471 - val_mae: 22.8134\n",
      "Epoch 195/500\n",
      "566/566 [==============================] - 3s 6ms/step - loss: 2190.6387 - mae: 11.0212 - val_loss: 975.6156 - val_mae: 8.2057\n",
      "Epoch 196/500\n",
      "566/566 [==============================] - 3s 6ms/step - loss: 1625.9453 - mae: 10.1404 - val_loss: 644.6945 - val_mae: 7.6402\n",
      "Epoch 197/500\n",
      "566/566 [==============================] - 3s 6ms/step - loss: 2038.4286 - mae: 10.6429 - val_loss: 740.0541 - val_mae: 7.4830\n",
      "Epoch 198/500\n",
      "566/566 [==============================] - 3s 6ms/step - loss: 1490.7982 - mae: 9.5640 - val_loss: 805.2123 - val_mae: 7.5062\n",
      "Epoch 199/500\n",
      "566/566 [==============================] - 3s 6ms/step - loss: 1089.0189 - mae: 8.7975 - val_loss: 578.6274 - val_mae: 7.6219\n",
      "Epoch 200/500\n",
      "566/566 [==============================] - 3s 6ms/step - loss: 2613.8486 - mae: 10.9276 - val_loss: 684.0513 - val_mae: 7.7514\n",
      "Epoch 201/500\n",
      "566/566 [==============================] - 3s 6ms/step - loss: 1541.4552 - mae: 9.8487 - val_loss: 1025.1334 - val_mae: 9.4775\n",
      "Epoch 202/500\n",
      "566/566 [==============================] - 3s 6ms/step - loss: 2791.3374 - mae: 12.9245 - val_loss: 2262.8367 - val_mae: 13.4984\n",
      "Epoch 203/500\n",
      "566/566 [==============================] - 3s 6ms/step - loss: 2660.1028 - mae: 12.0573 - val_loss: 1494.5165 - val_mae: 10.1749\n",
      "Epoch 204/500\n",
      "566/566 [==============================] - 3s 6ms/step - loss: 2708.4570 - mae: 12.0788 - val_loss: 5259.9854 - val_mae: 16.7610\n",
      "Epoch 205/500\n",
      "566/566 [==============================] - 3s 6ms/step - loss: 1403.3844 - mae: 8.9494 - val_loss: 1532.6514 - val_mae: 11.8146\n",
      "Epoch 206/500\n",
      "566/566 [==============================] - 3s 6ms/step - loss: 1704.0387 - mae: 11.0769 - val_loss: 1225.2593 - val_mae: 11.2165\n",
      "Epoch 207/500\n",
      "566/566 [==============================] - 3s 6ms/step - loss: 1897.7729 - mae: 10.4871 - val_loss: 649.9703 - val_mae: 7.2380\n",
      "Epoch 208/500\n",
      "566/566 [==============================] - 3s 6ms/step - loss: 1471.4158 - mae: 9.8850 - val_loss: 3929.3000 - val_mae: 13.0543\n",
      "Epoch 209/500\n",
      "566/566 [==============================] - 3s 6ms/step - loss: 2042.1285 - mae: 9.8136 - val_loss: 4739.1274 - val_mae: 14.6130\n",
      "Epoch 210/500\n",
      "566/566 [==============================] - 3s 6ms/step - loss: 2670.1499 - mae: 12.0438 - val_loss: 4875.0425 - val_mae: 16.5143\n",
      "Epoch 211/500\n",
      "566/566 [==============================] - 3s 6ms/step - loss: 2138.5149 - mae: 11.1863 - val_loss: 885.1507 - val_mae: 8.5003\n",
      "Epoch 212/500\n",
      "566/566 [==============================] - 3s 6ms/step - loss: 1678.0215 - mae: 10.3071 - val_loss: 6061.3052 - val_mae: 19.6345\n",
      "Epoch 213/500\n",
      "566/566 [==============================] - 3s 6ms/step - loss: 3255.3044 - mae: 12.3574 - val_loss: 1632.4569 - val_mae: 10.6807\n",
      "Epoch 214/500\n",
      "566/566 [==============================] - 4s 7ms/step - loss: 6219.5288 - mae: 15.4814 - val_loss: 1111.7017 - val_mae: 9.8275\n",
      "Epoch 215/500\n",
      "566/566 [==============================] - 3s 6ms/step - loss: 1371.7400 - mae: 9.5140 - val_loss: 738.3220 - val_mae: 7.4456\n",
      "Epoch 216/500\n",
      "566/566 [==============================] - 3s 6ms/step - loss: 2629.0913 - mae: 11.8019 - val_loss: 2965.7300 - val_mae: 16.0666\n",
      "Epoch 217/500\n",
      "566/566 [==============================] - 3s 6ms/step - loss: 2381.2695 - mae: 11.6294 - val_loss: 1211.0156 - val_mae: 8.0556\n",
      "Epoch 218/500\n",
      "566/566 [==============================] - 3s 6ms/step - loss: 1885.8798 - mae: 10.1931 - val_loss: 1798.6776 - val_mae: 10.4595\n",
      "Epoch 219/500\n",
      "566/566 [==============================] - 3s 5ms/step - loss: 2832.4236 - mae: 11.8593 - val_loss: 2469.2405 - val_mae: 9.7625\n",
      "Epoch 220/500\n",
      "566/566 [==============================] - 4s 6ms/step - loss: 1434.0801 - mae: 8.8840 - val_loss: 7145.0605 - val_mae: 22.0972\n",
      "Epoch 221/500\n",
      "566/566 [==============================] - 3s 6ms/step - loss: 1980.7382 - mae: 10.3383 - val_loss: 2900.4731 - val_mae: 13.2104\n",
      "Epoch 222/500\n",
      "566/566 [==============================] - 4s 6ms/step - loss: 2064.2095 - mae: 11.7879 - val_loss: 1969.4027 - val_mae: 8.8871\n",
      "Epoch 223/500\n",
      "566/566 [==============================] - 3s 6ms/step - loss: 3676.3044 - mae: 13.9876 - val_loss: 3009.4106 - val_mae: 18.2368\n",
      "Epoch 224/500\n",
      "566/566 [==============================] - 3s 6ms/step - loss: 3849.9873 - mae: 12.9578 - val_loss: 2029.5894 - val_mae: 10.9851\n",
      "Epoch 225/500\n",
      "566/566 [==============================] - 3s 6ms/step - loss: 1206.5378 - mae: 9.0459 - val_loss: 731.4861 - val_mae: 7.2480\n",
      "Epoch 226/500\n",
      "566/566 [==============================] - 3s 6ms/step - loss: 1229.3818 - mae: 8.7570 - val_loss: 1357.8237 - val_mae: 9.6806\n",
      "Epoch 227/500\n",
      "566/566 [==============================] - 4s 7ms/step - loss: 2226.6143 - mae: 11.3679 - val_loss: 3918.4724 - val_mae: 13.4261\n",
      "Epoch 228/500\n",
      "566/566 [==============================] - 4s 6ms/step - loss: 2237.7292 - mae: 11.4661 - val_loss: 1840.4088 - val_mae: 10.3895\n",
      "Epoch 229/500\n",
      "566/566 [==============================] - 3s 6ms/step - loss: 1531.3190 - mae: 9.6045 - val_loss: 658.0876 - val_mae: 6.7778\n",
      "Epoch 230/500\n",
      "566/566 [==============================] - 3s 6ms/step - loss: 2445.2793 - mae: 10.9170 - val_loss: 4563.2690 - val_mae: 13.7505\n",
      "Epoch 231/500\n",
      "566/566 [==============================] - 4s 7ms/step - loss: 2622.1936 - mae: 11.4047 - val_loss: 1623.9194 - val_mae: 9.4049\n",
      "Epoch 232/500\n",
      "566/566 [==============================] - 5s 8ms/step - loss: 996.2477 - mae: 8.1226 - val_loss: 2314.8562 - val_mae: 10.8176\n",
      "Epoch 233/500\n",
      "566/566 [==============================] - 4s 8ms/step - loss: 1535.3953 - mae: 9.8095 - val_loss: 2688.0068 - val_mae: 15.4904\n",
      "Epoch 234/500\n",
      "566/566 [==============================] - 3s 6ms/step - loss: 1549.2701 - mae: 9.9784 - val_loss: 2013.4117 - val_mae: 11.2089\n",
      "Epoch 235/500\n",
      "566/566 [==============================] - 3s 6ms/step - loss: 4612.9736 - mae: 14.7900 - val_loss: 875.0468 - val_mae: 8.8889\n",
      "Epoch 236/500\n",
      "566/566 [==============================] - 4s 7ms/step - loss: 1530.0985 - mae: 9.8296 - val_loss: 687.3696 - val_mae: 7.1173\n",
      "Epoch 237/500\n",
      "566/566 [==============================] - 3s 6ms/step - loss: 3828.8096 - mae: 13.1929 - val_loss: 4963.1538 - val_mae: 16.0507\n",
      "Epoch 238/500\n",
      "566/566 [==============================] - 4s 6ms/step - loss: 1877.6808 - mae: 10.2088 - val_loss: 921.9422 - val_mae: 8.0168\n",
      "Epoch 239/500\n",
      "566/566 [==============================] - 3s 6ms/step - loss: 1887.9969 - mae: 9.8052 - val_loss: 1017.2384 - val_mae: 10.0439\n",
      "Epoch 240/500\n",
      "566/566 [==============================] - 4s 7ms/step - loss: 1794.7653 - mae: 10.3946 - val_loss: 2048.8909 - val_mae: 11.4243\n",
      "Epoch 241/500\n",
      "566/566 [==============================] - 3s 6ms/step - loss: 2011.8760 - mae: 11.2080 - val_loss: 780.9193 - val_mae: 7.2933\n",
      "Epoch 242/500\n",
      "566/566 [==============================] - 3s 6ms/step - loss: 1775.3405 - mae: 10.0618 - val_loss: 444.5296 - val_mae: 6.7526\n",
      "Epoch 243/500\n",
      "566/566 [==============================] - 3s 6ms/step - loss: 2214.0117 - mae: 11.2694 - val_loss: 666.7839 - val_mae: 9.7232\n",
      "Epoch 244/500\n",
      "566/566 [==============================] - 5s 8ms/step - loss: 2842.0842 - mae: 10.8623 - val_loss: 582.6124 - val_mae: 7.2140\n",
      "Epoch 245/500\n",
      "566/566 [==============================] - 3s 6ms/step - loss: 1376.5878 - mae: 9.0559 - val_loss: 6174.8687 - val_mae: 16.4374\n",
      "Epoch 246/500\n",
      "566/566 [==============================] - 3s 6ms/step - loss: 1405.3130 - mae: 9.2758 - val_loss: 1434.5671 - val_mae: 11.8687\n",
      "Epoch 247/500\n",
      "566/566 [==============================] - 3s 6ms/step - loss: 1696.0122 - mae: 9.9552 - val_loss: 3459.1108 - val_mae: 15.1439\n",
      "Epoch 248/500\n",
      "566/566 [==============================] - 3s 6ms/step - loss: 2038.0416 - mae: 11.0192 - val_loss: 626.1024 - val_mae: 6.5149\n",
      "Epoch 249/500\n",
      "566/566 [==============================] - 3s 6ms/step - loss: 1497.9131 - mae: 9.6183 - val_loss: 560.3477 - val_mae: 7.5264\n",
      "Epoch 250/500\n",
      "566/566 [==============================] - 3s 6ms/step - loss: 3020.9822 - mae: 12.2827 - val_loss: 981.7858 - val_mae: 7.2411\n",
      "Epoch 251/500\n",
      "566/566 [==============================] - 3s 6ms/step - loss: 1983.8932 - mae: 10.7711 - val_loss: 1945.2035 - val_mae: 12.2322\n",
      "Epoch 252/500\n",
      "566/566 [==============================] - 3s 6ms/step - loss: 1827.5942 - mae: 8.9483 - val_loss: 1089.1791 - val_mae: 8.7584\n",
      "Epoch 253/500\n",
      "566/566 [==============================] - 3s 6ms/step - loss: 1356.2987 - mae: 9.2628 - val_loss: 473.1993 - val_mae: 6.4534\n",
      "Epoch 254/500\n",
      "566/566 [==============================] - 3s 6ms/step - loss: 1653.9440 - mae: 9.4166 - val_loss: 1398.6832 - val_mae: 10.3884\n",
      "Epoch 255/500\n",
      "566/566 [==============================] - 3s 5ms/step - loss: 1858.3129 - mae: 10.4692 - val_loss: 1348.7330 - val_mae: 7.6749\n",
      "Epoch 256/500\n",
      "566/566 [==============================] - 3s 5ms/step - loss: 2359.2913 - mae: 11.9877 - val_loss: 13990.5078 - val_mae: 30.7829\n",
      "Epoch 257/500\n",
      "566/566 [==============================] - 4s 7ms/step - loss: 2645.6628 - mae: 12.3626 - val_loss: 1591.1082 - val_mae: 13.4683\n",
      "Epoch 258/500\n",
      "566/566 [==============================] - 3s 6ms/step - loss: 1410.8812 - mae: 9.2583 - val_loss: 3517.2476 - val_mae: 14.5117\n",
      "Epoch 259/500\n",
      "566/566 [==============================] - 4s 7ms/step - loss: 1195.7786 - mae: 8.7670 - val_loss: 1010.4615 - val_mae: 7.4817\n",
      "Epoch 260/500\n",
      "566/566 [==============================] - 3s 6ms/step - loss: 2030.8906 - mae: 10.9147 - val_loss: 1525.7106 - val_mae: 10.2196\n",
      "Epoch 261/500\n",
      "566/566 [==============================] - 3s 6ms/step - loss: 1518.4142 - mae: 9.5344 - val_loss: 537.6469 - val_mae: 6.5798\n",
      "Epoch 262/500\n",
      "566/566 [==============================] - 3s 6ms/step - loss: 1360.0679 - mae: 9.0419 - val_loss: 804.7086 - val_mae: 8.2188\n",
      "Epoch 263/500\n",
      "566/566 [==============================] - 3s 6ms/step - loss: 1107.3752 - mae: 8.4731 - val_loss: 557.6013 - val_mae: 6.3662\n",
      "Epoch 264/500\n",
      "566/566 [==============================] - 3s 6ms/step - loss: 1257.0033 - mae: 9.0015 - val_loss: 882.5566 - val_mae: 9.4001\n",
      "Epoch 265/500\n",
      "566/566 [==============================] - 3s 6ms/step - loss: 1691.7186 - mae: 10.1642 - val_loss: 1878.0458 - val_mae: 10.0063\n",
      "Epoch 266/500\n",
      "566/566 [==============================] - 4s 6ms/step - loss: 1980.0912 - mae: 10.0070 - val_loss: 855.9655 - val_mae: 7.4370\n",
      "Epoch 267/500\n",
      "566/566 [==============================] - 4s 6ms/step - loss: 1677.1772 - mae: 9.7361 - val_loss: 1048.4398 - val_mae: 9.5751\n",
      "Epoch 268/500\n",
      "566/566 [==============================] - 3s 6ms/step - loss: 1790.1725 - mae: 9.8232 - val_loss: 839.5949 - val_mae: 7.6514\n",
      "Epoch 269/500\n",
      "566/566 [==============================] - 3s 6ms/step - loss: 2663.4341 - mae: 12.3539 - val_loss: 2455.2847 - val_mae: 13.2398\n",
      "Epoch 270/500\n",
      "566/566 [==============================] - 4s 6ms/step - loss: 1764.4552 - mae: 9.3140 - val_loss: 2680.8003 - val_mae: 10.3727\n",
      "Epoch 271/500\n",
      "566/566 [==============================] - 3s 6ms/step - loss: 1474.7216 - mae: 9.1318 - val_loss: 4219.4414 - val_mae: 15.0182\n",
      "Epoch 272/500\n",
      "566/566 [==============================] - 4s 6ms/step - loss: 1490.1599 - mae: 8.9194 - val_loss: 672.3008 - val_mae: 7.9371\n",
      "Epoch 273/500\n",
      "566/566 [==============================] - 3s 6ms/step - loss: 1092.0662 - mae: 8.4492 - val_loss: 595.7150 - val_mae: 7.9718\n",
      "Epoch 274/500\n",
      "566/566 [==============================] - 3s 6ms/step - loss: 2364.2671 - mae: 10.3855 - val_loss: 26461.2051 - val_mae: 36.4105\n",
      "Epoch 275/500\n",
      "566/566 [==============================] - 3s 6ms/step - loss: 1766.2758 - mae: 9.9749 - val_loss: 2673.3252 - val_mae: 11.0879\n",
      "Epoch 276/500\n",
      "566/566 [==============================] - 3s 6ms/step - loss: 1720.6504 - mae: 9.6431 - val_loss: 2690.7979 - val_mae: 11.4343\n",
      "Epoch 277/500\n",
      "566/566 [==============================] - 3s 6ms/step - loss: 2227.8875 - mae: 10.2076 - val_loss: 3137.2063 - val_mae: 13.6981\n",
      "Epoch 278/500\n",
      "566/566 [==============================] - 3s 6ms/step - loss: 1656.4414 - mae: 9.6309 - val_loss: 1587.2711 - val_mae: 11.0595\n",
      "Epoch 279/500\n",
      "566/566 [==============================] - 3s 6ms/step - loss: 874.9673 - mae: 8.0115 - val_loss: 2603.2566 - val_mae: 10.8369\n",
      "Epoch 280/500\n",
      "566/566 [==============================] - 3s 6ms/step - loss: 1877.4368 - mae: 10.1262 - val_loss: 4468.0151 - val_mae: 16.0722\n",
      "Epoch 281/500\n",
      "566/566 [==============================] - 4s 6ms/step - loss: 1369.0753 - mae: 9.1436 - val_loss: 5237.0742 - val_mae: 14.4446\n",
      "Epoch 282/500\n",
      "566/566 [==============================] - 3s 6ms/step - loss: 2228.0239 - mae: 10.0020 - val_loss: 1813.8217 - val_mae: 10.6363\n",
      "Epoch 283/500\n",
      "566/566 [==============================] - 3s 6ms/step - loss: 1158.5048 - mae: 8.4398 - val_loss: 522.0342 - val_mae: 8.9870\n",
      "Epoch 284/500\n",
      "566/566 [==============================] - 3s 6ms/step - loss: 1823.3026 - mae: 9.9025 - val_loss: 518.8483 - val_mae: 6.6013\n",
      "Epoch 285/500\n",
      "566/566 [==============================] - 4s 6ms/step - loss: 940.9875 - mae: 8.0132 - val_loss: 1080.9723 - val_mae: 7.8341\n",
      "Epoch 286/500\n",
      "566/566 [==============================] - 3s 6ms/step - loss: 3837.7095 - mae: 12.7520 - val_loss: 1641.7180 - val_mae: 10.6412\n",
      "Epoch 287/500\n",
      "566/566 [==============================] - 3s 6ms/step - loss: 1985.6072 - mae: 10.5818 - val_loss: 548.1703 - val_mae: 6.6071\n",
      "Epoch 288/500\n",
      "566/566 [==============================] - 3s 5ms/step - loss: 1244.4424 - mae: 8.6512 - val_loss: 2153.8162 - val_mae: 10.4459\n",
      "Epoch 289/500\n",
      "566/566 [==============================] - 3s 6ms/step - loss: 1307.4651 - mae: 8.3938 - val_loss: 960.3100 - val_mae: 6.8638\n",
      "Epoch 290/500\n",
      "566/566 [==============================] - 3s 6ms/step - loss: 2775.0127 - mae: 10.8203 - val_loss: 1292.4688 - val_mae: 8.1005\n",
      "Epoch 291/500\n",
      "566/566 [==============================] - 4s 7ms/step - loss: 2175.7209 - mae: 10.6337 - val_loss: 2231.4204 - val_mae: 12.2265\n",
      "Epoch 292/500\n",
      "566/566 [==============================] - 3s 6ms/step - loss: 1633.4390 - mae: 9.9434 - val_loss: 1256.2854 - val_mae: 8.9179\n"
     ]
    }
   ],
   "source": [
    "history = ann.fit(X_train, y_train,\n",
    "                    validation_data = (X_val, y_val),\n",
    "                    callbacks=[es],\n",
    "                    epochs=500,\n",
    "                    batch_size=30,\n",
    "                    verbose=1)"
   ]
  },
  {
   "cell_type": "code",
   "execution_count": 22,
   "metadata": {
    "ExecuteTime": {
     "end_time": "2024-08-15T06:23:26.820626500Z",
     "start_time": "2024-08-15T06:23:26.127585300Z"
    }
   },
   "outputs": [
    {
     "data": {
      "text/plain": "<Figure size 600x600 with 1 Axes>",
      "image/png": "[encoded data removed]"
     },
     "metadata": {},
     "output_type": "display_data"
    }
   ],
   "source": [
    "# let's see the training and validation accuracy by epoch\n",
    "history_dict = history.history\n",
    "loss_values = history_dict['loss'] # you can change this\n",
    "val_loss_values = history_dict['val_loss'] # you can also change this\n",
    "epochs = range(1, len(loss_values) + 1) # range of X (no. of epochs)\n",
    "\n",
    "# Set global font to Times New Roman and font size\n",
    "plt.rcParams['font.family'] = 'serif'\n",
    "plt.rcParams['font.serif'] = ['Times New Roman']\n",
    "plt.rcParams['font.size'] = 20\n",
    "\n",
    "# Create a plot\n",
    "plt.figure(figsize=(6, 6))\n",
    "plt.plot(epochs, loss_values, 'blue', label='Train set')\n",
    "plt.plot(epochs, val_loss_values, 'orange', label='Validation set')\n",
    "#plt.title('Training and testing loss')\n",
    "\n",
    "\n",
    "plt.xlabel('Epochs')\n",
    "plt.ylabel('Loss (MSE)')\n",
    "plt.legend()\n",
    "plt.savefig('Section2_ANN2_2.png', dpi=200, bbox_inches='tight')\n",
    "plt.show()"
   ]
  },
  {
   "cell_type": "code",
   "execution_count": 23,
   "metadata": {
    "ExecuteTime": {
     "end_time": "2024-08-15T06:23:27.316085900Z",
     "start_time": "2024-08-15T06:23:26.811615200Z"
    }
   },
   "outputs": [
    {
     "data": {
      "text/plain": "<Figure size 600x600 with 1 Axes>",
      "image/png": "[encoded data removed]"
     },
     "metadata": {},
     "output_type": "display_data"
    }
   ],
   "source": [
    "loss_values1 = history_dict['mae'] # you can change this\n",
    "val_loss_values1 = history_dict['val_mae'] # you can also change this\n",
    "epochs = range(1, len(loss_values1) + 1) # range of X (no. of epochs)\n",
    "# Create a plot\n",
    "plt.figure(figsize=(6, 6))\n",
    "plt.plot(epochs, loss_values1, 'blue', label='Train set')\n",
    "plt.plot(epochs, val_loss_values1, 'orange', label='Validation set')\n",
    "#plt.title('Training and testing MAE')\n",
    "plt.xlabel('Epochs')\n",
    "plt.ylabel('MAE (kPa)')\n",
    "plt.legend()\n",
    "plt.savefig('Section2_ANN2_3.png', dpi=200, bbox_inches='tight')\n",
    "plt.show()"
   ]
  },
  {
   "cell_type": "code",
   "execution_count": 24,
   "metadata": {
    "ExecuteTime": {
     "end_time": "2024-08-15T06:23:29.263288700Z",
     "start_time": "2024-08-15T06:23:27.319095500Z"
    }
   },
   "outputs": [
    {
     "name": "stdout",
     "output_type": "stream",
     "text": [
      "INFO:tensorflow:Assets written to: Section2_new_ANN_2\\assets\n"
     ]
    }
   ],
   "source": [
    "ann.save('Section2_new_ANN_2')\n",
    "import pickle\n",
    "pickle.dump(sc, open('Section2_new_scaler_ANN_2.pkl', 'wb'))"
   ]
  },
  {
   "cell_type": "markdown",
   "metadata": {},
   "source": [
    "## Part 5 - Make predictions"
   ]
  },
  {
   "cell_type": "code",
   "execution_count": 25,
   "metadata": {
    "ExecuteTime": {
     "end_time": "2024-08-15T06:23:32.868444300Z",
     "start_time": "2024-08-15T06:23:29.266289200Z"
    }
   },
   "outputs": [
    {
     "name": "stdout",
     "output_type": "stream",
     "text": [
      "531/531 [==============================] - 2s 3ms/step\n",
      "177/177 [==============================] - 1s 3ms/step\n"
     ]
    },
    {
     "data": {
      "text/plain": "<Figure size 640x480 with 2 Axes>",
      "image/png": "[encoded data removed]"
     },
     "metadata": {},
     "output_type": "display_data"
    }
   ],
   "source": [
    "# scatterplot of actual vs. pred\n",
    "# specify the dimensions \n",
    "fig, axes = plt.subplots(1,2) # 1 row, 2 columns\n",
    "\n",
    "# this makes the individual subplots\n",
    "# Training Results\n",
    "axes[0].scatter(x=y_train, y=ann.predict(X_train)) #first row, first entry (left top)\n",
    "axes[0].set_xlabel(\"Actual\", fontsize=20)\n",
    "axes[0].set_ylabel(\"Predicted\",  fontsize=20)\n",
    "axes[0].set_title(\"Training\")\n",
    "# add 45 deg line\n",
    "x = np.linspace(*axes[0].get_xlim())\n",
    "axes[0].plot(x, x, color='red')\n",
    "# Validation Results\n",
    "axes[1].scatter(x=y_val, y=ann.predict(X_val)) # first row, second entry (right top)\n",
    "axes[1].set_xlabel(\"Actual\", fontsize=20)\n",
    "axes[1].set_ylabel(\"Predicted\",  fontsize=20)\n",
    "axes[1].set_title(\"Validation\")\n",
    "# add 45 deg line\n",
    "x = np.linspace(*axes[1].get_xlim())\n",
    "axes[1].plot(x, x, color='red')\n",
    "\n",
    "# tight layout\n",
    "fig.tight_layout()\n",
    "\n",
    "plt.savefig('Section2_ANN2_1.png', dpi=200, bbox_inches='tight')\n",
    "# show the plot\n",
    "plt.show()"
   ]
  },
  {
   "cell_type": "code",
   "execution_count": 17,
   "metadata": {
    "colab": {
     "base_uri": "https://localhost:8080/",
     "height": 134
    },
    "colab_type": "code",
    "id": "IA0yApEmBG1X",
    "outputId": "cb981e1f-9204-4a2a-fece-9d66a6919189",
    "ExecuteTime": {
     "end_time": "2024-09-02T13:35:37.193703800Z",
     "start_time": "2024-09-02T13:35:35.661450700Z"
    }
   },
   "outputs": [
    {
     "name": "stdout",
     "output_type": "stream",
     "text": [
      "177/177 [==============================] - 1s 3ms/step\n",
      "[[437.79 436.82]\n",
      " [  3.15   3.63]\n",
      " [ 77.28  75.29]\n",
      " ...\n",
      " [123.89 119.74]\n",
      " [-43.7  -47.05]\n",
      " [  1.85   0.77]]\n"
     ]
    }
   ],
   "source": [
    "y_pred = ann.predict(X_test)\n",
    "np.set_printoptions(precision=2)\n",
    "print(np.concatenate((y_pred.reshape(len(y_pred),1), y_test.reshape(len(y_test),1)),1))"
   ]
  },
  {
   "cell_type": "code",
   "execution_count": 18,
   "metadata": {
    "ExecuteTime": {
     "end_time": "2024-08-26T00:30:00.208097200Z",
     "start_time": "2024-08-26T00:29:59.964004700Z"
    }
   },
   "outputs": [
    {
     "data": {
      "text/plain": "Text(0, 0.5, 'Predicted data')"
     },
     "execution_count": 18,
     "metadata": {},
     "output_type": "execute_result"
    },
    {
     "data": {
      "text/plain": "<Figure size 640x480 with 1 Axes>",
      "image/png": "[encoded data removed]"
     },
     "metadata": {},
     "output_type": "display_data"
    }
   ],
   "source": [
    "import matplotlib.pyplot as plt\n",
    "plt.scatter(y_test, y_pred, color=\"blue\")\n",
    "plt.xlabel ('Actual data')\n",
    "plt.ylabel ('Predicted data')"
   ]
  },
  {
   "cell_type": "code",
   "execution_count": 21,
   "metadata": {
    "ExecuteTime": {
     "end_time": "2024-09-02T13:37:33.676168400Z",
     "start_time": "2024-09-02T13:37:33.002474600Z"
    }
   },
   "outputs": [
    {
     "data": {
      "text/plain": "<Figure size 600x600 with 1 Axes>",
      "image/png": "[encoded data removed]"
     },
     "metadata": {},
     "output_type": "display_data"
    }
   ],
   "source": [
    "from sklearn.metrics import r2_score\n",
    "# Initialize layout\n",
    "#plt.rcdefaults()\n",
    "fig1, ax1 = plt.subplots(figsize = (6, 6))\n",
    "\n",
    "# Set global font to Times New Roman and font size\n",
    "plt.rcParams['font.family'] = 'serif'\n",
    "plt.rcParams['font.serif'] = ['Times New Roman']\n",
    "plt.rcParams['font.size'] = 25\n",
    "\n",
    "b_l = -300\n",
    "u_l = 6200\n",
    "\n",
    "# Add scatterplot\n",
    "ax1.scatter(y_test, y_pred, s=70, alpha=1, edgecolors=\"k\",c='mediumblue',zorder=5, label = 'Points')\n",
    "\n",
    "\n",
    "plt.ylabel('Predicted Reflected Overpressure (kPa)',fontsize = 22)\n",
    "plt.xlabel('Target Reflected Overpressure (kPa)',fontsize = 22)\n",
    "plt.xticks([0,2000,4000,6000],fontsize = 22)\n",
    "plt.yticks([0,2000,4000,6000],fontsize = 22)\n",
    "\n",
    "\n",
    "x1 = np.linspace(b_l, u_l)\n",
    "\n",
    "plt.plot(x1, x1, 'Red', label='45\\N{DEGREE SIGN} line',lw=2.5,alpha=1)\n",
    "#plt.plot(x1, 1.05*x1, '--m', label='\\u00B15% Error',lw=2.5,alpha=0.7)\n",
    "#plt.plot(x1, 0.95*x1,'m', linestyle='--',lw=2.5,alpha=0.7)\n",
    "#plt.plot(x1, 1.1*x1, '-.g', label='\\u00B110% Error',lw=2.5,alpha=0.7)\n",
    "#plt.plot(x1, 0.9*x1,'-.g',lw=2.5,alpha=0.7)\n",
    "#plt.plot(x1, 1.2*x1, color = '#F97306', linestyle='dotted', label='\\u00B120% Error',lw=2.5,alpha=0.7)\n",
    "#plt.plot(x1, 0.8*x1,color = '#F97306', linestyle='dotted', lw=2.5,alpha=0.7)\n",
    "\n",
    "plt.ylim(b_l, u_l)\n",
    "plt.xlim(b_l, u_l)\n",
    "#plt.legend(loc='upper center', bbox_to_anchor=(0.5, -0.15), ncol=4, frameon = False, fontsize = 20)\n",
    "\n",
    "#plt.grid()\n",
    "\n",
    "ax1.spines['left'].set_color('black')        # setting up Y-axis tick color to red\n",
    "ax1.spines['bottom'].set_color('black')         #setting up above X-axis tick color to red\n",
    "\n",
    "plt.savefig('Section2_ANN2.png', dpi=200, bbox_inches='tight')"
   ]
  },
  {
   "cell_type": "code",
   "execution_count": 29,
   "metadata": {
    "ExecuteTime": {
     "end_time": "2024-08-15T06:23:36.414517200Z",
     "start_time": "2024-08-15T06:23:34.513466400Z"
    }
   },
   "outputs": [
    {
     "name": "stdout",
     "output_type": "stream",
     "text": [
      "531/531 [==============================] - 2s 3ms/step\n",
      "6.160119836760568\n",
      "6.985539603879274\n"
     ]
    }
   ],
   "source": [
    "# metrics\n",
    "trainpreds = ann.predict(X_train)\n",
    "\n",
    "from sklearn.metrics import mean_absolute_error\n",
    "print(mean_absolute_error(y_train, trainpreds)) # train\n",
    "print(mean_absolute_error(y_test, y_pred)) # test"
   ]
  },
  {
   "cell_type": "code",
   "execution_count": 30,
   "metadata": {
    "ExecuteTime": {
     "end_time": "2024-08-15T06:23:36.414517200Z",
     "start_time": "2024-08-15T06:23:36.401510100Z"
    }
   },
   "outputs": [
    {
     "name": "stdout",
     "output_type": "stream",
     "text": [
      "0.9974629296312076\n"
     ]
    }
   ],
   "source": [
    "from sklearn.metrics import r2_score\n",
    "r2 = r2_score(y_test, y_pred)\n",
    "print (r2)"
   ]
  },
  {
   "cell_type": "code",
   "execution_count": 31,
   "metadata": {
    "ExecuteTime": {
     "end_time": "2024-08-15T06:23:36.532631200Z",
     "start_time": "2024-08-15T06:23:36.415523400Z"
    }
   },
   "outputs": [
    {
     "name": "stdout",
     "output_type": "stream",
     "text": [
      "0.9980839720423371\n"
     ]
    }
   ],
   "source": [
    "r2_train = r2_score(y_train, trainpreds)\n",
    "print (r2_train)"
   ]
  },
  {
   "cell_type": "code",
   "execution_count": 32,
   "metadata": {
    "ExecuteTime": {
     "end_time": "2024-08-15T06:23:37.093054100Z",
     "start_time": "2024-08-15T06:23:36.528631100Z"
    }
   },
   "outputs": [
    {
     "name": "stdout",
     "output_type": "stream",
     "text": [
      "Within 5% margin 25.91%\n",
      "Within 10% margin 42.20%\n",
      "Within 20% margin 56.96%\n",
      "Out of 20% margin 43.04%\n"
     ]
    }
   ],
   "source": [
    "count0 = 0\n",
    "for i in range(len(y_pred)):\n",
    "    line1 = y_pred[i] - 0.95*y_test[i]\n",
    "    line2 = y_pred[i] - 1.05*y_test[i]\n",
    "    mask0 = (line1 > 0) & (line2 < 0)\n",
    "    count0 = np.sum(mask0+count0)\n",
    "\n",
    "count1 = 0\n",
    "for i in range(len(y_pred)):\n",
    "    line1 = y_pred[i] - 0.9*y_test[i]\n",
    "    line2 = y_pred[i] - 1.1*y_test[i]\n",
    "    mask1 = (line1 > 0) & (line2 < 0)\n",
    "    count1 = np.sum(mask1+count1)\n",
    "\n",
    "count2 = 0\n",
    "for j in range(len(y_pred)):\n",
    "    line3 = y_pred[j] - 0.8*y_test[j]\n",
    "    line4 = y_pred[j] - 1.2*y_test[j]\n",
    "    mask2 = (line3 > 0) & (line4 < 0)\n",
    "    count2 = np.sum(mask2+count2)\n",
    "\n",
    "\n",
    "count3 = 0    \n",
    "for k in range(len(y_pred)):\n",
    "    line5 = y_pred[k] - 0.8*y_test[k]\n",
    "    line6 = y_pred[k] - 1.2*y_test[k]\n",
    "    mask3 = (line5 < 0) or (line6 > 0)\n",
    "    count3 = np.sum(mask3+count3)\n",
    "   \n",
    "\n",
    "print ('Within 5% margin', format((count0/len (y_pred)),'.2%'))\n",
    "print ('Within 10% margin', format((count1/len (y_pred)),'.2%'))\n",
    "print ('Within 20% margin', format((count2/len (y_pred)),'.2%'))\n",
    "print ('Out of 20% margin', format((count3/len (y_pred)),'.2%'))"
   ]
  },
  {
   "cell_type": "code",
   "execution_count": 33,
   "metadata": {
    "ExecuteTime": {
     "end_time": "2024-08-15T06:23:37.110063700Z",
     "start_time": "2024-08-15T06:23:37.088050800Z"
    }
   },
   "outputs": [
    {
     "name": "stdout",
     "output_type": "stream",
     "text": [
      "0.9974602353971876\n"
     ]
    }
   ],
   "source": [
    "adj_r2 = 1 - ((1 - r2) * (len(X_test) - 1) / (len(X_test) - len (X_test[0]) - 1))\n",
    "print (adj_r2)"
   ]
  },
  {
   "cell_type": "code",
   "execution_count": 34,
   "metadata": {
    "ExecuteTime": {
     "end_time": "2024-08-15T06:23:37.216854400Z",
     "start_time": "2024-08-15T06:23:37.103064200Z"
    }
   },
   "outputs": [
    {
     "data": {
      "text/plain": "22.819840543284712"
     },
     "execution_count": 34,
     "metadata": {},
     "output_type": "execute_result"
    }
   ],
   "source": [
    "import math\n",
    "from sklearn.metrics import mean_squared_error\n",
    "\n",
    "math.sqrt(mean_squared_error(y_test, y_pred))"
   ]
  },
  {
   "cell_type": "code",
   "execution_count": 35,
   "metadata": {
    "ExecuteTime": {
     "end_time": "2024-08-15T06:23:37.335059400Z",
     "start_time": "2024-08-15T06:23:37.212854900Z"
    }
   },
   "outputs": [
    {
     "data": {
      "text/plain": "6.985539603879274"
     },
     "execution_count": 35,
     "metadata": {},
     "output_type": "execute_result"
    }
   ],
   "source": [
    "from sklearn.metrics import mean_absolute_error\n",
    "\n",
    "mean_absolute_error(y_test, y_pred)"
   ]
  },
  {
   "cell_type": "code",
   "execution_count": 12,
   "outputs": [],
   "source": [
    "ann = load_model('Section2_new_ANN_2')\n",
    "sc = pickle.load(open('Section2_new_scaler_ANN_2.pkl', 'rb'))"
   ],
   "metadata": {
    "collapsed": false,
    "ExecuteTime": {
     "end_time": "2024-09-02T13:35:04.493716Z",
     "start_time": "2024-09-02T13:35:02.689995400Z"
    }
   }
  }
 ],
 "metadata": {
  "colab": {
   "collapsed_sections": [],
   "name": "Artificial Neural Network",
   "provenance": [],
   "toc_visible": true
  },
  "kernelspec": {
   "display_name": "Python 3 (ipykernel)",
   "language": "python",
   "name": "python3"
  },
  "language_info": {
   "codemirror_mode": {
    "name": "ipython",
    "version": 3
   },
   "file_extension": ".py",
   "mimetype": "text/x-python",
   "name": "python",
   "nbconvert_exporter": "python",
   "pygments_lexer": "ipython3",
   "version": "3.9.7"
  }
 },
 "nbformat": 4,
 "nbformat_minor": 4
}
